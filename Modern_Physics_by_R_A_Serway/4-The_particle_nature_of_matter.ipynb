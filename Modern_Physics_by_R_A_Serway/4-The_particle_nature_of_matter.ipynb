{
"cells": [
 {
		   "cell_type": "markdown",
	   "metadata": {},
	   "source": [
       "# Chapter 4: The particle nature of matter"
	   ]
	},
{
		   "cell_type": "markdown",
		   "metadata": {},
		   "source": [
			"## Example 4.1: Electrolysis_of_barium_chloride.sce"
		   ]
		  },
  {
"cell_type": "code",
	   "execution_count": null,
	   "metadata": {
	    "collapsed": true
	   },
	   "outputs": [],
"source": [
"// Scilab code Ex4.1: Pg 109 (2005)\n",
"clc; clear;\n",
"I = 10;    // Electric current, A\n",
"t = 3600;    // Time, s\n",
"q = I*t;   // Electric charge liberated, C\n",
"mm_Ba = 137;    // Molar mass of Barium, g\n",
"mm_Cl = 35.5;    // Molar mass of Chlorine, g\n",
"valence_Ba = 2;    // Valence electrons of Barium\n",
"valence_Cl = 1;      // Valence electrons of Chlorine\n",
"// Using Faraday’s law of electrolysis, we have\n",
"m_Ba = (q*mm_Ba)/(96500*valence_Ba);     // Mass of Barium obtained, g\n",
"m_Cl = (q*mm_Cl)/(96500*valence_Cl);     // Mass of Chlorine obtained, g\n",
"printf('\nMass of Barium obtained = %4.1f g', m_Ba);\n",
"printf('\nMass of Chlorine obtained = %4.1f g', m_Cl);\n",
"\n",
"// Result\n",
"// Mass of Barium obtained = 25.6 g\n",
"// Mass of Chlorine obtained = 13.2 g"
   ]
   }
,
{
		   "cell_type": "markdown",
		   "metadata": {},
		   "source": [
			"## Example 4.2: Deflection_of_electron_beam_by_E_and_B_Fields.sce"
		   ]
		  },
  {
"cell_type": "code",
	   "execution_count": null,
	   "metadata": {
	    "collapsed": true
	   },
	   "outputs": [],
"source": [
"// Scilab code Ex4.2: Pg 113 (2005)\n",
"clc; clear;\n",
" V = 200;    // Electrc potential, V\n",
"theta = 0.20;   // Angle, radians\n",
"l = 0.050;    // Length of plates, m\n",
"d = 1.5e-02;    // Distance between two plates, m\n",
"c_m_r = 1.76e+11;    // Charge-to-mass ratio, C/kg\n",
"// Since e/m_e = (V*theta)/(B^2*l*d), solving for B\n",
"B = sqrt((V*theta)/(l*d*c_m_r));    // Magnetic field, T\n",
"printf('\nThe magnetic field required to produce the deflection of %4.2f rad = %3.1e T', theta, B);\n",
"\n",
"// Result\n",
"// The magnetic field required to produce the deflection of 0.20 rad = 5.5e-04 T "
   ]
   }
,
{
		   "cell_type": "markdown",
		   "metadata": {},
		   "source": [
			"## Example 4.3: Experimental_determination_of_e.sce"
		   ]
		  },
  {
"cell_type": "code",
	   "execution_count": null,
	   "metadata": {
	    "collapsed": true
	   },
	   "outputs": [],
"source": [
"// Scilab code Ex4.3: Pg 117 (2005)\n",
"clc; clear;\n",
"\n",
"// Part (a)\n",
"delta_y = 0.600;    // Distance of rise or fall of a droplet, cm\n",
"t_av = 21.0;    // Average time of fall of droplet, s\n",
"delta_t = [46.0, 15.5, 28.1, 12.9, 45.3, 20.0];   // Rise time of the droplet in succession, s\n",
"v = delta_y/t_av;   // Average speed of the falling droplet, cm/s\n",
"v_prime = zeros(6);\n",
"for i = 1:1:6\n",
"    v_prime(i) = delta_y/delta_t(i);   // Successive speeds of the rising drops, cm/s   \n",
"end\n",
"\n",
"// Calculate charge ratios\n",
"q1byq2 = (v+v_prime(1))/(v + v_prime(2));\n",
"q2byq3 = (v+v_prime(2))/(v + v_prime(3));\n",
"q3byq4 = (v+v_prime(3))/(v + v_prime(4));\n",
"q4byq5 = (v+v_prime(4))/(v + v_prime(5));\n",
"q5byq6 = (v+v_prime(5))/(v + v_prime(6));\n",
"printf('\nq1/q2 = %5.3f', q1byq2);\n",
"printf('\nq2/q3 = %5.3f', q2byq3);\n",
"printf('\nq3/q4 = %5.3f', q3byq4);\n",
"printf('\nq4/q5 = %5.3f', q4byq5);\n",
"printf('\nq5/q6 = %5.3f', q5byq6);\n",
"printf('\nThe charge ratios are ratios of small whole numbers\n');\n",
"\n",
"// Part (b)\n",
"eta = 1.83e-05;                      // Viscosity of air, kg/ms\n",
"rho = 858;                        // Oil density, kg/m^3\n",
"g = 9.81;                        // Acceleration due to gravity, m/s^2\n",
"a = sqrt((9*eta*v*1e-02)/(2*rho*g));   // Radius of oil droplet, m\n",
"V = 4/3*(%pi)*a^3;                // Volume of oil droplet, m^3\n",
"m = rho*V;                       // Mass of oil droplet, kg\n",
"printf('\nRadius of oil droplet = %4.2e m', a);\n",
"printf('\nVolume of oil droplet = %4.2e m^3', V);\n",
"printf('\nMass of oil droplet = %4.2e kg', m);\n",
"\n",
"// Part (c)\n",
"V = 4550;    // Potential difference across the plates of the capacitor, volt\n",
"d = 0.0160;    // Distance between the plates\n",
"E = V/d;    // Electric field between plates, V/m\n",
"q = zeros(6), e = zeros(6);\n",
"for i=1:1:6\n",
"    q(i) = m*g/E*((v+v_prime(i))/v);    // Charge on first drop, C \n",
"    printf('\nq%d = %4.2e V/m', i, q(i));   \n",
"end\n",
"e(1) = q(1)/5;\n",
"e(2) = q(2)/8;\n",
"e(3) = q(3)/6;\n",
"e(4) = q(4)/9;\n",
"e(5) = q(5)/5;\n",
"e(6) = q(6)/7;\n",
"e_tot = 0;\n",
"for i = 1:1:6\n",
"    e_tot = e_tot + e(i);\n",
"end\n",
"e = e_tot/6;\n",
"printf('\nThe average charge on an electron = %5.3e C', e);\n",
"\n",
"// Result\n",
"// q1/q2 = 1.105\n",
"// q2/q3 = 0.958\n",
"// q3/q4 = 1.053\n",
"// q4/q5 = 0.899\n",
"// q5/q6 = 1.086\n",
"// The charge ratios are ratios of small whole numbers\n",
"\n",
"// Radius of oil droplet = 1.67e-06 m\n",
"// Volume of oil droplet = 1.96e-17 m^3\n",
"// Mass of oil droplet = 1.68e-14 kg \n",
"\n",
"// q1 = 8.44e-019 V/m\n",
"// q2 = 1.36e-018 V/m\n",
"// q3 = 1.01e-018 V/m\n",
"// q4 = 1.52e-018 V/m\n",
"// q5 = 8.48e-019 V/m\n",
"// q6 = 1.19e-018 V/m\n",
"// The average charge on an electron = 1.694e-019 C "
   ]
   }
,
{
		   "cell_type": "markdown",
		   "metadata": {},
		   "source": [
			"## Example 4.4: Collision_of_alpha_particle_with_proton.sce"
		   ]
		  },
  {
"cell_type": "code",
	   "execution_count": null,
	   "metadata": {
	    "collapsed": true
	   },
	   "outputs": [],
"source": [
"// Scilab code Ex4.4: Pg 121 (2005)\n",
"clc; clear;\n",
"\n",
"// Part (b)\n",
"// For easy calculations, assume all variables to be unity\n",
"m_p = 1;     // Mass of proton, a.m.u\n",
"m_a = 4*m_p;    // Mass of alpha particle, a.m.u\n",
"Valpha = 1;   // Velocity of alpha particle before collision, m/s\n",
"v_p = (2*m_a*Valpha)/(m_a + m_p);    // Velocity of proton after collision, m/s\n",
"v_a = ((m_a - m_p)*(Valpha))/(m_a + m_p);     // Velocity of alph particle after collision, m/s\n",
"p_change = ((v_a - Valpha)/(Valpha))*100;     // Percentage change in velocity of alpha particle\n",
"printf('\nVelocity of proton after collision = %4.2fVa m/s', v_p);\n",
"printf('\nVelocity of alpha particle after collision = %4.2fVa m/s', v_a);\n",
"printf('\nPercentage change in velocity of alpha particle = %2d percent', p_change);\n",
"\n",
"// Result\n",
"// Velocity of proton after collision = 1.60 V_a m/s\n",
"// Velocity of alph particle after collision = 0.60 V_a m/s\n",
"// Percentage change in velocity of alpha particle = -40 percent"
   ]
   }
,
{
		   "cell_type": "markdown",
		   "metadata": {},
		   "source": [
			"## Example 4.5: Radius_of_Aluminium_Nucleus.sce"
		   ]
		  },
  {
"cell_type": "code",
	   "execution_count": null,
	   "metadata": {
	    "collapsed": true
	   },
	   "outputs": [],
"source": [
"// Scilab code Ex4.5: Pg 124 (2005)\n",
"clc; clear;\n",
"Z = 13;    // Atomic number of Aluminium\n",
"e = 1.6e-19;     // Charge on electron, C\n",
"k = 8.99e+09;     // Coulomb constant, Nm^2/C^2\n",
"K_a = 7.7e+06*e;    // Since K_a = (k*Z_e*2*e)/d_min, solving for d_min\n",
"d_min = (k*2*Z*e^2)/K_a;   // Radius of Aluminum, m\n",
"printf('\nRadius of Aluminum = %3.1e m', d_min);\n",
"\n",
"// Result\n",
"// Radius of Aluminum = 4.9e-15 m"
   ]
   }
,
{
		   "cell_type": "markdown",
		   "metadata": {},
		   "source": [
			"## Example 4.7: Collision_of_alpha_particle_with_proton.sce"
		   ]
		  },
  {
"cell_type": "code",
	   "execution_count": null,
	   "metadata": {
	    "collapsed": true
	   },
	   "outputs": [],
"source": [
"// Scilab code Ex4.7: Pg 135 (2005)\n",
"clc; clear;\n",
"// Part (a)\n",
"n_i = 2;    // Initial level of electron\n",
"n_f = 1;    // Final level of electron\n",
"R = 1.097e+07;     // Rydberg constant, per metre\n",
"c = 3e+08;     // Velocity of light, m/s\n",
"h = 4.136e-15;       // Planck's constant, eV\n",
"lamda = n_i^2*n_f^2/((n_i^2-n_f^2)*R);   // Wavelength of emitted photon, m\n",
"f = c/lamda;      // Frequency of emitted photon, Hz\n",
"E = h*f;     // Energy of emitted photon, eV\n",
"printf('\nThe wavelength of emitted photon = %5.1f nm', lamda/1e-09);\n",
"printf('\nThe frequency of emitted photon = %4.2e Hz', f);\n",
"printf('\nEnergy of emitted photon = %4.1f eV', E);\n",
"\n",
"// Part (b)\n",
"mc_square = 938.8e+06;   // Energy of recoil of hydrogen atom, eV\n",
"K = 0.5*(E^2/mc_square);     // Recoil kinetic energy of H atom, eV\n",
"E_difference = K/E;   // Energy difference\n",
"printf('\nRecoil kinetic energy of H atom = %4.2e eV', K);\n",
"printf('\nThe fraction of energy difference = %3.1e', E_difference);\n",
"\n",
"// Result\n",
"// The wavelength of emitted photon = 121.5 nm\n",
"// The frequency of emitted photon = 2.47e+15 Hz\n",
"// Energy of emitted photon = 10.2 eV\n",
"// Recoil kinetic energy of H atom = 5.55e-08 eV\n",
"// The fraction of energy difference = 5.4e-09 "
   ]
   }
,
{
		   "cell_type": "markdown",
		   "metadata": {},
		   "source": [
			"## Example 4.8: series_for_Hydrge.sce"
		   ]
		  },
  {
"cell_type": "code",
	   "execution_count": null,
	   "metadata": {
	    "collapsed": true
	   },
	   "outputs": [],
"source": [
"// Scilab code Ex4.8: Pg 136 (2005)\n",
"clc; clear;\n",
"\n",
"// Part (a)\n",
"n_i = 3;     // Initial level of electron\n",
"n_f = 2;     // Final level of electron\n",
"R = 1.097e+07;   // Rydberg constant, per metre\n",
"c = 3e+08;      // Velocity of light, m/s\n",
"h = 6.626e-34;   // Plank's constant, Js\n",
"lamda_max = (n_i^2*n_f^2)/((n_i^2-n_f^2)*R);     //  Maximum wavelength of emitted photon, m\n",
"E_photon = (h*c)/(lamda_max*1.6e-19);        // Energy of emitted photon, eV\n",
"printf('\nThe maximum wavelength of emitted photon = %5.1f nm', lamda_max/1e-09);\n",
"printf('\nEnergy of emitted photon = %4.2f eV', E_photon);\n",
"\n",
"// Part (b)\n",
"n_i = %inf;    // Initial level of electron\n",
"lamda_min = 1/(R*(1/n_f^2-1/n_i^2));\n",
"printf('\nThe wavelength corresponding to the series limit = %5.1f nm which is in the ultraviolet region', lamda_min/1e-09);\n",
"\n",
"// Result\n",
"// The maximum wavelength of emitted photon = 656.3 nm\n",
"// Energy of emitted photon =1.89 eV\n",
"//// The wavelength corresponding to the series limit = 364.6 nm which is in the ultraviolet region "
   ]
   }
,
{
		   "cell_type": "markdown",
		   "metadata": {},
		   "source": [
			"## Example 4.9: Hydrogen_in_its_first_excited_state.sce"
		   ]
		  },
  {
"cell_type": "code",
	   "execution_count": null,
	   "metadata": {
	    "collapsed": true
	   },
	   "outputs": [],
"source": [
"// Scilab code Ex4.9: Pg 137 (2005)\n",
"clc; clear;\n",
"k_B = 8.62e-05;   // Boltzmann constant, eV/K\n",
"delta_E = 10.2;    // Average thermal energy, eV\n",
"// Since (3/2)*k_B*T = averge thermal energy per atom = 10.2eV, solving for T\n",
"T = 10.2/(3/2*k_B);      // Temperature at which H-atoms jump to first excited state, K\n",
"printf('\nThe temperature at which H-atoms jump to first excited state  = %5d K', T);\n",
"N_ratio = 0.10;     // Number ratio of population of first excited state relative to the ground state\n",
"// As N_ratio = exp(-delta_E/(k_B*T)), solving for T\n",
"T = -delta_E/(k_B*log(N_ratio));     // Temperature at which H-atoms jump to first excited state, K\n",
"printf('\nThe temperature of excitation from Boltzmann distribution = %5d K', T);\n",
"\n",
"// Result\n",
"// The temperature at which H-atoms jump to first excited state  = 78886 K\n",
"// The temperature of excitation from Boltzmann distribution = 51389 K "
   ]
   }
],
"metadata": {
		  "kernelspec": {
		   "display_name": "Scilab",
		   "language": "scilab",
		   "name": "scilab"
		  },
		  "language_info": {
		   "file_extension": ".sce",
		   "help_links": [
			{
			 "text": "MetaKernel Magics",
			 "url": "https://github.com/calysto/metakernel/blob/master/metakernel/magics/README.md"
			}
		   ],
		   "mimetype": "text/x-octave",
		   "name": "scilab",
		   "version": "0.7.1"
		  }
		 },
		 "nbformat": 4,
		 "nbformat_minor": 0
}
