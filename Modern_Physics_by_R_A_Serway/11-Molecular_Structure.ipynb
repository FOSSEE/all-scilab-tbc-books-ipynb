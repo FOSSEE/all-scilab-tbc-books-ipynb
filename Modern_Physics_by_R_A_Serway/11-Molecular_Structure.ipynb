{
"cells": [
 {
		   "cell_type": "markdown",
	   "metadata": {},
	   "source": [
       "# Chapter 11: Molecular Structure"
	   ]
	},
{
		   "cell_type": "markdown",
		   "metadata": {},
		   "source": [
			"## Example 11.1: Rotation_of_CO_molecule.sce"
		   ]
		  },
  {
"cell_type": "code",
	   "execution_count": null,
	   "metadata": {
	    "collapsed": true
	   },
	   "outputs": [],
"source": [
"// Scilab code Ex11.1: Pg 380 (2005)\n",
"clc; clear;\n",
"// Part (a)\n",
"f = 1.15e+11;   // Frequency of transitions, Hz\n",
"omega = 2*(%pi)*f;    // Angular frequency of absorbed radiations, Hz\n",
"h_cross = 1.055e-34;   // Reduced planks constant, J-s\n",
"// Since E = (h_cross)^2/I_CM = h_cross*omega, solving for I_CM\n",
"I_CM = h_cross/omega;   // Moment of inertia of molecule about its center of mass, kg-m^2\n",
"printf('\nThe moment of inertia of molecule about its center of mass = %4.2e kg-m^2', I_CM);\n",
"\n",
"// Part (b)\n",
"m_O = 16;   // Mass of oxygen atom, a.m.u\n",
"m_C = 12;    // Mass of carbon atom, a.m.u\n",
"mu = ( m_O * m_C *0.166e-26)/(m_O + m_C);       // Reduced mass, kg\n",
"// Since I_CM = mew*R_o^2, solving for R_o\n",
"R_0 = sqrt(I_CM/mu);    // Bond length of carbon monoxide molecule, m \n",
"printf('\nThe bond length of carbon monoxide molecule = %5.3f nm', R_0/1e-09);\n",
"\n",
"// Result\n",
"// The moment of inertia of molecule about its center of mass = 1.46e-046 kg-m^2\n",
"// The bond length of carbon monoxide molecule = 0.113 nm "
   ]
   }
,
{
		   "cell_type": "markdown",
		   "metadata": {},
		   "source": [
			"## Example 11.2: Variation_of_CO_molecule.sce"
		   ]
		  },
  {
"cell_type": "code",
	   "execution_count": null,
	   "metadata": {
	    "collapsed": true
	   },
	   "outputs": [],
"source": [
"// Scilab code Ex11.2: Pg 383 (2005)\n",
"clc; clear;\n",
"\n",
"// Part (a)\n",
"f = 6.42e+13;   // Frequency of absorption, Hz\n",
"omega = 2*(%pi)*f;   // Angular frequency of absorbed radiations, Hz\n",
"mu = 1.14e-26;    // Reduced mass of CO molecule, kg\n",
"K = mu*(omega^2);    // Effective force constant of CO molecule, N/m\n",
"printf('\nThe effective force constant of CO molecule = %4.2e N/m', K);\n",
"\n",
"// Part (b)\n",
"h_cross = 1.055e-34;   // Reduced Planck's constant, J-s\n",
"A = sqrt(h_cross/(mu*omega));   // Amplitude of vibrations, m\n",
"printf('\nThe amplitude of vibrations = %7.5f nm', A/1e-09);\n",
"\n",
"// Result\n",
"// The effective force constant of CO molecule = 1.85e+003 N/m\n",
"// The amplitude of vibrations = 0.00479 nm "
   ]
   }
],
"metadata": {
		  "kernelspec": {
		   "display_name": "Scilab",
		   "language": "scilab",
		   "name": "scilab"
		  },
		  "language_info": {
		   "file_extension": ".sce",
		   "help_links": [
			{
			 "text": "MetaKernel Magics",
			 "url": "https://github.com/calysto/metakernel/blob/master/metakernel/magics/README.md"
			}
		   ],
		   "mimetype": "text/x-octave",
		   "name": "scilab",
		   "version": "0.7.1"
		  }
		 },
		 "nbformat": 4,
		 "nbformat_minor": 0
}
