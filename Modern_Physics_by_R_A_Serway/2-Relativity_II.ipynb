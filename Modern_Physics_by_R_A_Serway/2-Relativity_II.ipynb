{
"cells": [
 {
		   "cell_type": "markdown",
	   "metadata": {},
	   "source": [
       "# Chapter 2: Relativity II"
	   ]
	},
{
		   "cell_type": "markdown",
		   "metadata": {},
		   "source": [
			"## Example 2.1: Momentum_of_an_electron.sce"
		   ]
		  },
  {
"cell_type": "code",
	   "execution_count": null,
	   "metadata": {
	    "collapsed": true
	   },
	   "outputs": [],
"source": [
"// Scilab code Ex2.1: Pg.44 (2005)\n",
"clc; clear;\n",
"c = 3e08;   // Velocity of light, m/s\n",
"u = 0.750*c;   // Velocity of electron, m/s\n",
"m = 9.11e-31;   // Rest mass of electron, kg\n",
"p_r = m*u/(sqrt(1 - (u/c)^2));   // Relativistic momentum of electron, kgm/s\n",
"p = m*u;   // Classical momentum of electron, kg-m/s\n",
"printf('\nThe relativistic momentum of electron = %4.2fe-22 kg-m/s', p_r*1e+22);\n",
"printf('\nThe classical momentum of electron = %4.2fe-22 kg-m/s', p*1e+22);\n",
"printf('\nThe relativistic result is 50 percent greater than the classical result.');\n",
"\n",
"//Result\n",
"// The relativistic momentum of electron = 3.10e-22 kg-m/s\n",
"// The classical momentum of electron = 2.05e-22 kg-m/s\n",
"// The relativistic result is 50 percent greater than the classical result."
   ]
   }
,
{
		   "cell_type": "markdown",
		   "metadata": {},
		   "source": [
			"## Example 2.3: Energy_of_a_speedy_electron.sce"
		   ]
		  },
  {
"cell_type": "code",
	   "execution_count": null,
	   "metadata": {
	    "collapsed": true
	   },
	   "outputs": [],
"source": [
"// Scilab code Ex2.3: Pg.47 (2005)\n",
"clc; clear;\n",
"c = 3e+08;     // Velocity of light, m/s\n",
"u = 0.85*c;   // Velocity of electron, m/s\n",
"E_0 = 0.511;   // Rest energy of electron, MeV\n",
"E = E_0/(sqrt(1-(u/c)^2));   // Total energy of electron, MeV\n",
"K = E - E_0;   // Kinetic energy of electron, MeV\n",
"printf('\nThe total energy of electron = %5.3f MeV', E);\n",
"printf('\nThe kinetic energy of electron = %5.3f MeV', K);\n",
"\n",
"// Result\n",
"// The total energy of electron = 0.970 MeV\n",
"// The kinetic energy of electron = 0.459 MeV"
   ]
   }
,
{
		   "cell_type": "markdown",
		   "metadata": {},
		   "source": [
			"## Example 2.4: Energy_of_a_speedy_proton.sce"
		   ]
		  },
  {
"cell_type": "code",
	   "execution_count": null,
	   "metadata": {
	    "collapsed": true
	   },
	   "outputs": [],
"source": [
"// Scilab code Ex2.4: Pg.47 (2005)\n",
"clc; clear;\n",
"c = 3e+08;    // Velocity of light, m/s\n",
"u = 0.85*c;    // Velocity of electron, m/s\n",
"m_p = 1.67e-27;   // Rest mass of proton, kg\n",
"\n",
"// Part (a)\n",
"E_o = m_p*c^2/1.602e-019;   // Rest energy of proton, MeV\n",
"printf('\nRest energy of proton = %3d MeV', E_o/1e+06);\n",
"\n",
"// Part (b)\n",
"// Since given that E = 3*E_o = (3*m_p*c^2)/sqrt(1-(u/c)^2), solving for u\n",
"u = sqrt(8/9)*c;   // Velocity of proton, m/s\n",
"printf('\nVelocity of proton = %4.2fe+08 m/s', u*1e-08);\n",
"\n",
"// Part (c)\n",
"// Since K = E - m_p*(c^2) = 3*m_p*(c^2) - m_p*(c^2) = 2*m_p*(c^2)\n",
"K = 2*E_o;   // Kinetic energy of proton, MeV\n",
"printf('\nThe kinetic energy of proton = %4d MeV', K*1e-06);\n",
"\n",
"// Part (d)\n",
"p = sqrt(8)*(E_o);\n",
"printf('\nThe momentum of proton = %4d MeV/c', p*1e-06);\n",
"\n",
"// Result\n",
"// Rest energy of proton = 938 MeV\n",
"// Velocity of proton = 2.83e+08 m/s\n",
"// The kinetic energy of proton = 1876 MeV\n",
"// The momentum of proton = 2653 MeV/c "
   ]
   }
,
{
		   "cell_type": "markdown",
		   "metadata": {},
		   "source": [
			"## Example 2.5: Increase_in_mass_of_colliding_balls.sce"
		   ]
		  },
  {
"cell_type": "code",
	   "execution_count": null,
	   "metadata": {
	    "collapsed": true
	   },
	   "outputs": [],
"source": [
"// Scilab code Ex2.5: Pg.49 (2005)\n",
"clc; clear;\n",
"u = 450;    // Velocity ofeach ball, m/s\n",
"m = 5;    // Mass of each ball, kg\n",
"c = 3e+08;     // Velocity of light, m/s\n",
"// Since (u/c)^2 << 1, therefore, substituting 1/sqrt(1 - (u/c)^2) = 1 + (1/2)*(u/c)^2\n",
"delta_M = m*(u/c)^2;   // Increase in the mass of balls, kg\n",
"printf('\nIncrease in the mass of the balls = %3.1fe-11 kg', delta_M*1e+11);\n",
"\n",
"// Result\n",
"// Increase in the mass of the balls = 1.1e-11 kg"
   ]
   }
,
{
		   "cell_type": "markdown",
		   "metadata": {},
		   "source": [
			"## Example 2.7: A_Fission_Reaction.sce"
		   ]
		  },
  {
"cell_type": "code",
	   "execution_count": null,
	   "metadata": {
	    "collapsed": true
	   },
	   "outputs": [],
"source": [
"// Scilab code Ex2.7:  Pg.50 (2005)\n",
"clc; clear;\n",
"u = 1.660e-27;   // Atomic mass unit\n",
"M_U = 236.045563;   // Atomic mass of Uranium, u\n",
"M_Rb = 89.914811;   // Atomic mass of Rubidium, u\n",
"M_Cs = 142.927220;   // Atomic mass of Caesium, u\n",
"m_n = 1.008665;    // Mass of neutons, u\n",
"\n",
"// Part (a)\n",
"printf('\nU(92,235) --> Rb(37,90) + Cs(55,143) + 3n(0,1)');\n",
"printf('\nSo three neutrons are produced per fission.\n');\n",
"\n",
"// Part (b)\n",
"delta_M = (M_U - (M_Rb + M_Cs + 3*m_n))*u;   // Combined mass of all products, kg\n",
"printf('\nCombined mass of all products = %6.4fe-28 kg\n', delta_M*1e+28);\n",
"\n",
"// Part (c)\n",
"// For simplification let velocity of light = 1 m/s\n",
"c = 1;   // Velocity of light, m/s\n",
"// Since 1u = 931.5 MeV/(c^2), therefore\n",
"Q = (delta_M/u)*931.5*(c^2);    // Energy given out per fission event, MeV\n",
"printf('\nEnergy given out per fission event = %5.1f MeV\n', Q);\n",
"\n",
"// Part (d)\n",
"N = ((6.02e23)*1000)/236;   // Number of nuclei present\n",
"efficiency = 0.40;\n",
"E = efficiency*N*Q*(4.45e-20);   // Total energy released, kWh\n",
"printf('\nTotal energy released = %4.2fe+06 kWh\n', E*1e-06);\n",
"\n",
"printf('\nThis amount of energy will keep a 100-W lightbulb burning for %d years', E*1000/(100*24*365));\n",
"\n",
"// Result\n",
"// U(92,235) --> Rb(37,90) + Cs(55,143) + 3n(0,1)\n",
"// So three neutrons are produced per fission.\n",
"// Combined mass of all products = 2.9471e-28 kg\n",
"// Energy given out per fission event = 165.4 MeV\n",
"// Total energy released = 7.51e+06 kWh\n",
"// This amount of energy will keep a 100-W lightbulb burning for 8571 years "
   ]
   }
,
{
		   "cell_type": "markdown",
		   "metadata": {},
		   "source": [
			"## Example 2.8: Energy_conservation.sce"
		   ]
		  },
  {
"cell_type": "code",
	   "execution_count": null,
	   "metadata": {
	    "collapsed": true
	   },
	   "outputs": [],
"source": [
"// Scilab code Ex2.8: Pg.52 (2005)\n",
"clc; clear;\n",
"\n",
"// Part (a)\n",
"// Since 1 eV = 1.6e-19 J, therefore 3 eV = 3*1.6e-19\n",
"BE = 3*1.6e-19;   // Binding energy of water, J\n",
"c = 3e+08;    // Velocity of light, m/s\n",
"delta_m = BE/(c^2);    // Mass difference of water molecule & it constituents, kg\n",
"printf('\nMass difference of water molecule & it constituents = %3.1fe-36 kg', delta_m*1e+36);\n",
"\n",
"// Part (b)\n",
"M = 3.0e-26;   // Mass of water molecule, kg\n",
"M_f = delta_m/M;    // Fractional loss of mass per molecule\n",
"printf('\nThe fractional loss of mass per molecule = %3.1fe-10', M_f*1e+10);\n",
"\n",
"// Part (c)\n",
"E = M_f*(c^2);     // Energy released when 1 g of water is formed, kJ\n",
"printf('\nEnergy released when 1 g of water is formed = %2.0f kJ', E*1e-06);\n",
"\n",
"// Result\n",
"// Mass difference of water molecule & it constituents = 5.3e-36 kg\n",
"// The fractional loss of mass per molecule = 1.8e-10\n",
"// Energy released when 1 g of water is formed = 16 kJ"
   ]
   }
,
{
		   "cell_type": "markdown",
		   "metadata": {},
		   "source": [
			"## Example 2.9: Mass_of_Pio.sce"
		   ]
		  },
  {
"cell_type": "code",
	   "execution_count": null,
	   "metadata": {
	    "collapsed": true
	   },
	   "outputs": [],
"source": [
"// Scilab code Ex2.9: Pg.53 (2005)\n",
"clc; clear;\n",
"K_mu = 4.6;    // Kinetic energy of muon, MeV\n",
"// For convinience let m_mew*(c^2) = E_mew\n",
"E_mu = 106;      // Energy of muon, MeV\n",
"E_pion = sqrt((E_mu^2) + (K_mu^2) + (2*K_mu*E_mu)) + sqrt((K_mu^2) + (2*K_mu*E_mu));\n",
"m_pion = E_pion;   // Mass of pion, MeV/(c^2)\n",
"printf('\nMass of Pion = %3.0f MeV/(c^2)', m_pion);\n",
"\n",
"// Result\n",
"// Mass of Pion = 142 MeV/(c^2)"
   ]
   }
],
"metadata": {
		  "kernelspec": {
		   "display_name": "Scilab",
		   "language": "scilab",
		   "name": "scilab"
		  },
		  "language_info": {
		   "file_extension": ".sce",
		   "help_links": [
			{
			 "text": "MetaKernel Magics",
			 "url": "https://github.com/calysto/metakernel/blob/master/metakernel/magics/README.md"
			}
		   ],
		   "mimetype": "text/x-octave",
		   "name": "scilab",
		   "version": "0.7.1"
		  }
		 },
		 "nbformat": 4,
		 "nbformat_minor": 0
}
