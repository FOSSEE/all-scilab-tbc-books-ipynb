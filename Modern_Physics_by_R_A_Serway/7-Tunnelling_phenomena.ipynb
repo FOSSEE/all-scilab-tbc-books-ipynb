{
"cells": [
 {
		   "cell_type": "markdown",
	   "metadata": {},
	   "source": [
       "# Chapter 7: Tunnelling phenomena"
	   ]
	},
{
		   "cell_type": "markdown",
		   "metadata": {},
		   "source": [
			"## Example 7.1: Transmission_coefficient_for_an_oxide_layer.sce"
		   ]
		  },
  {
"cell_type": "code",
	   "execution_count": null,
	   "metadata": {
	    "collapsed": true
	   },
	   "outputs": [],
"source": [
"// Scilab code Ex7.1: Pg 235 (2005)\n",
"clc; clear;\n",
"c = 3e+08;    // Velocity of light, m/s\n",
"m_e = 511e+03/(c^2);    // Mass of electron, eV\n",
"U = 3.00;    // Ground state energy neglecting E, eV\n",
"h_cross = (1.973e+03)/c;    // Reduced planck's constant, eV\n",
"alpha = sqrt(2*m_e*U)/h_cross;\n",
"L = 50;     // Thickness of the layer, angstrom\n",
"T = 1/(1+1/4*10^2/(7*3)*sinh(alpha*L)^2);\n",
"printf('\nThe transmission coefficient for the layer thickness of');\n",
"printf('\n%2d angstrom = %5.3e', L, T);\n",
"L = 10;    // // Thickness of the layer, angstrom\n",
"T = 1/(1+1/4*10^2/(7*3)*sinh(alpha*L)^2);\n",
"printf('\n%2d angstrom = %5.3e', L, T);\n",
"\n",
"// Result\n",
"// The transmission coefficient for the layer thickness of\n",
"// 50 angstrom = 9.628e-39\n",
"// 10 angstrom = 6.573e-08 "
   ]
   }
,
{
		   "cell_type": "markdown",
		   "metadata": {},
		   "source": [
			"## Example 7.2: Tunnelling_current_through_an_oxide_layer.sce"
		   ]
		  },
  {
"cell_type": "code",
	   "execution_count": null,
	   "metadata": {
	    "collapsed": true
	   },
	   "outputs": [],
"source": [
"// Scilab code Ex7.2: Pg 236 (2005)\n",
"clc; clear;\n",
"e = 1.60e-19;    // Electrc charge, C\n",
"i = 1.00e-03;      // Electron current, A\n",
"N = i/e;       // Electrons per second\n",
"T = 0.657e-07;     // Fraction of electrons transmitted\n",
"T_e = N*T;    // Number of electrons transmitted per second\n",
"T_i = T_e*e;    // Transmitted current, A\n",
"printf('\nThe transmitted current through the oxide layer = %4.1f pA', T_i*1e+12);\n",
"\n",
"// Result\n",
"// The transmitted current through the oxide layer = 65.7 pA "
   ]
   }
,
{
		   "cell_type": "markdown",
		   "metadata": {},
		   "source": [
			"## Example 7.5: Tunnelling_in_a_parallel_plate_capacitor.sce"
		   ]
		  },
  {
"cell_type": "code",
	   "execution_count": null,
	   "metadata": {
	    "collapsed": true
	   },
	   "outputs": [],
"source": [
"// Scilab code Ex7.5: Pg 241 (2005)\n",
"clc; clear;\n",
"epsilon_c = 5.5e+10;    // Characteristic field strength, V/m\n",
"epsilon = 1.0e+09;    // Electric field, V/m\n",
"f = 1.0e+30;     // Collision frequency, s(-1)cm(-2)\n",
"lamda = f*exp(-epsilon_c/epsilon);   // Electron emission rate, electrons/sec\n",
"e = 1.60e-19;    // Electrc charge, C\n",
"I = lamda*e;    // Tunelling current, A\n",
"printf('\nTunelling current in parallel plate capacitor = %4.2f pA', I/1e-12);\n",
"printf('\n');\n",
"\n",
"// Result\n",
"// Tunelling current in parallel plate capacitor = 0.21 pA"
   ]
   }
,
{
		   "cell_type": "markdown",
		   "metadata": {},
		   "source": [
			"## Example 7.6: Estimating_halflives_of_Thorium_and_Polonium.sce"
		   ]
		  },
  {
"cell_type": "code",
	   "execution_count": null,
	   "metadata": {
	    "collapsed": true
	   },
	   "outputs": [],
"source": [
"// Scilab code Ex7.6: Pg 244 (2005)\n",
"clc; clear;\n",
"Z_T = 88;     // Atomic number of daughter nucleus\n",
"E_T = 4.05e+06;     // Energy of ejected alphas, eV\n",
"R = 9.00e-15;      // Nuclear radius, m\n",
"r_o = 7.25e-15;     // Bohr radius, m\n",
"E_o = 0.0993e+06;     // Energy analogous to the Rydberg in Atomic Physics \n",
"T_T = exp(-4*%pi*Z_T*sqrt(E_o/E_T) + 8*sqrt((Z_T*R)/r_o));    // Transmission factor in case of Thorium\n",
"f = 1e+21;    // Frequency of collisions, Hz\n",
"lamda_T = f*T_T;    // Decay rate in case of Thorium, s^(-1)\n",
"t_T = 0.693/lamda_T;     // Half-life time of Thorium, s\n",
"Z_P = 82;    // Atomic number of daughter nucleus\n",
"E_P = 8.95e+06;     // Energy of ejected alphas, eV\n",
"R = 9.00e-15;     // Nuclear radius, m\n",
"r_o = 7.25e-15;     // Bohr radius, m\n",
"E_o = 0.0993e+06;      // Energy unit, eV\n",
"T_P = exp(-4*%pi*Z_P*sqrt(E_o/E_P) + 8*sqrt((Z_P*R)/r_o));    // Transmission factor in case of Polonium\n",
"f = 1e+21;    // Frequency of collisions, Hz\n",
"lamda_P = f*T_P;      // Decay rate in case of Thorium, s^(-1)\n",
"t_P = 0.693/lamda_P;    // Half-life time of Polonium, s\n",
"\n",
"printf('\nHalf-life time of Thorium = %3.1e s = %3.1e yrs', t_T, t_T/(365*24*60*60));\n",
"printf('\nHalf-life time of Polonium = %3.1e s', t_P);\n",
"\n",
"// Result\n",
"// Half-life time of Thorium = 5.3e+17 s = 1.7e+10 yrs\n",
"// Half-life time of Polonium = 8.4e-10 s "
   ]
   }
],
"metadata": {
		  "kernelspec": {
		   "display_name": "Scilab",
		   "language": "scilab",
		   "name": "scilab"
		  },
		  "language_info": {
		   "file_extension": ".sce",
		   "help_links": [
			{
			 "text": "MetaKernel Magics",
			 "url": "https://github.com/calysto/metakernel/blob/master/metakernel/magics/README.md"
			}
		   ],
		   "mimetype": "text/x-octave",
		   "name": "scilab",
		   "version": "0.7.1"
		  }
		 },
		 "nbformat": 4,
		 "nbformat_minor": 0
}
