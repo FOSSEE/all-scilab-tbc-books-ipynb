{
"cells": [
 {
		   "cell_type": "markdown",
	   "metadata": {},
	   "source": [
       "# Chapter 12: The Solid State"
	   ]
	},
{
		   "cell_type": "markdown",
		   "metadata": {},
		   "source": [
			"## Example 12.1: Classical_free_electron_model.sce"
		   ]
		  },
  {
"cell_type": "code",
	   "execution_count": null,
	   "metadata": {
	    "collapsed": true
	   },
	   "outputs": [],
"source": [
"// Scilab code Ex12.1: Pg 418 (2005)\n",
"clc; clear;\n",
"// Part (a)\n",
"k_B = 1.38e-23;   // Boltzmann constat, J/K\n",
"m_e = 9.11e-31;    // Mass of electron, kg\n",
"T = 300;   // Temperature, K\n",
"N_A = 6.023e+023;    // Avogadro's number\n",
"v_rms = sqrt((3*k_B*T)/m_e);       // Root mean square velocity of electrons, m/s\n",
"I = 10;   // Electric current, A\n",
"A = 4e-06;    // Area of cross-section of copper wire, m^2\n",
"J = I/A;   // Current density, A-m^(-2)\n",
"d = 8.96;    // Density of copper at room temperature, g/cc\n",
"M = 63.5;    // Atomic mass of Cu, g\n",
"n = d*N_A/M*1e+06;    // Number of electrons per metre cube\n",
"e = 1.6e-19;    // Charge on electron, C\n",
"v_d = J/(n*e);    // Drift velocity, m/s\n",
"v_d_rms  = v_d/v_rms;    // Ratio of drift speed to rms speed\n",
"printf('\nThe ratio of drift speed to rms speed is = %3.1e', v_d_rms);\n",
"\n",
"// Part (b)\n",
"L = 2.6e-10;\n",
"tau = L/v_rms;   // Average time between two collisions, s\n",
"printf('\nAverage time between two collisions = %2.2e s', tau);\n",
"\n",
"// Part (c)\n",
"sigma = (n*e^2*L)/sqrt(3*k_B*T*m_e);  // Conductivity of copper, per ohm-m\n",
"printf('\nConductivity of copper at room temperature = %3.1e per ohm-m', sigma);\n",
"\n",
"\n",
"// Result\n",
"// The ratio of drift speed to rms speed is = 1.6e-009\n",
"// Average time between two collisions = 2.23e-015 s\n",
"// Conductivity of copper at room temperature = 5.3e+006 per ohm-m "
   ]
   }
,
{
		   "cell_type": "markdown",
		   "metadata": {},
		   "source": [
			"## Example 12.2: Conduction_in_diamond.sce"
		   ]
		  },
  {
"cell_type": "code",
	   "execution_count": null,
	   "metadata": {
	    "collapsed": true
	   },
	   "outputs": [],
"source": [
"// Scilab code Ex12.2: Pg 429 (2005)\n",
"clc; clear;\n",
"V = 7;    // Energy gap, V\n",
"L = 5e-08;   // Mean free path , m\n",
"E = V/L;   // Electric field, V/m\n",
"printf('\nThe electric field strength required to produce conduction in diamond = %3.1fe+08 V/m', E*1e-08);\n",
"printf('\n');\n",
"\n",
"// Result\n",
"// The electric field strength required to produce conduction in diamond = 1.4e+08 V/m"
   ]
   }
,
{
		   "cell_type": "markdown",
		   "metadata": {},
		   "source": [
			"## Example 12.3: Forward_and_reverse_currents_in_diode.sce"
		   ]
		  },
  {
"cell_type": "code",
	   "execution_count": null,
	   "metadata": {
	    "collapsed": true
	   },
	   "outputs": [],
"source": [
"// Scilab code Ex12.3: Pg 436 (2005)\n",
"clc; clear;\n",
"e_V = 1;    // Energy applied to diode, eV\n",
"k_B_T = 0.025;   // Product of Boltzmann constant and temperature, eV\n",
"// For simplicity let (q*V)/(k_B*T) = x\n",
"x = (e_V/(k_B_T));\n",
"I_f_r = (exp(x)-1)/(exp(-x)-1);   // Ratio of forward current to reverse current in diode\n",
"printf('\nThe ratio of forward current to reverse current in diode = %3.1fe+17', I_f_r*1e-17);\n",
"\n",
"// Result\n",
"// The ratio of forward current to reverse current in diode = -2.4e+17 "
   ]
   }
],
"metadata": {
		  "kernelspec": {
		   "display_name": "Scilab",
		   "language": "scilab",
		   "name": "scilab"
		  },
		  "language_info": {
		   "file_extension": ".sce",
		   "help_links": [
			{
			 "text": "MetaKernel Magics",
			 "url": "https://github.com/calysto/metakernel/blob/master/metakernel/magics/README.md"
			}
		   ],
		   "mimetype": "text/x-octave",
		   "name": "scilab",
		   "version": "0.7.1"
		  }
		 },
		 "nbformat": 4,
		 "nbformat_minor": 0
}
