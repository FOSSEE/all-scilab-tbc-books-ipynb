{
"cells": [
 {
		   "cell_type": "markdown",
	   "metadata": {},
	   "source": [
       "# Chapter 14: Nuclear Physics Applications "
	   ]
	},
{
		   "cell_type": "markdown",
		   "metadata": {},
		   "source": [
			"## Example 14.1: Energy_released_in_Fission.sce"
		   ]
		  },
  {
"cell_type": "code",
	   "execution_count": null,
	   "metadata": {
	    "collapsed": true
	   },
	   "outputs": [],
"source": [
"// Scilab code Ex14.1: Pg 513 (2005)\n",
"clc; clear;\n",
"// Part (a)\n",
"u = 931.5;     // Atomic mass unit, Mev    \n",
"M_Li = 7.016003;   // Mass of Lithium, kg\n",
"M_H = 1.007825;   // Mass of Hydrogen, kg\n",
"M_He = 4.002603;   // Mass of Helium, kg\n",
"Q = (M_Li + M_H - 2*M_He)*u;    // Q-value of the reaction, MeV\n",
"// Part (b)\n",
"K_incident = 0.6;    // Kinetic energy of the incident protons, MeV\n",
"K_products = Q + K_incident;    // Kinetic energy of the products\n",
"printf('\nThe Q value of the reaction = %4.1f MeV', Q);\n",
"printf('\nThe kinetic energy of the products (two alpha particles) = %4.1f MeV', K_products);\n",
"\n",
"// Result\n",
"// The Q value of the reaction = 17.3 MeV\n",
"// The kinetic energy of the products (two alpha particles) = 17.9 MeV"
   ]
   }
,
{
		   "cell_type": "markdown",
		   "metadata": {},
		   "source": [
			"## Example 14.2: Neutron_capture_by_Al.sce"
		   ]
		  },
  {
"cell_type": "code",
	   "execution_count": null,
	   "metadata": {
	    "collapsed": true
	   },
	   "outputs": [],
"source": [
"// Scilab code Ex14.2: Pg 509 (2005)\n",
"clc; clear;\n",
"roh = 2.7e+06;   // Density of Al, g/cm^3\n",
"A = 27;   // Mass number of Al\n",
"n = (6.02e+23*roh)/A;    // Number of nuclei/m^3\n",
"sigma = 2.0e-31;    // Effective area of nucleas normal to motion, m^2\n",
"R_0 = 5.0e+12;      // Rate of incident particles per unit area, neutrons/cm^2-s\n",
"x = 0.30e-03;       // Thickness of foil, m\n",
"R = (R_0*sigma*n*x) // Number of neutrons captured by foil, neutrons/cm^2-s\n",
"printf('\nThe number of neutrons captured by foil = %3.1fe+07 neutrons/Sq.cm-s', R*1e-07);\n",
"\n",
"// Result\n",
"// The number of neutrons captured by foil = 1.8e+07 neutrons/Sq.cm-s "
   ]
   }
,
{
		   "cell_type": "markdown",
		   "metadata": {},
		   "source": [
			"## Example 14.4: Energy_released_in_the_Fission_of_U235.sce"
		   ]
		  },
  {
"cell_type": "code",
	   "execution_count": null,
	   "metadata": {
	    "collapsed": true
	   },
	   "outputs": [],
"source": [
"// Scilab code Ex14.4: Pg 513 (2005)\n",
"clc; clear;\n",
"m = 1;   // Mass of Uranium taken, kg\n",
"Q = 208;   // Disintegration energy per event, MeV\n",
"A = 235;   // Mass number of Uranium\n",
"N = (6.02e+23*m)/A;   // Number of nuclei\n",
"E = N*Q;    // Disintegration energy, MeV\n",
"printf('\nThe total energy released if %1d kg of Uranium undergoes fission = %4.2fe+26 MeV', m, E*1e-23);\n",
"\n",
"// Result\n",
"// The total energy released if 1 kg of Uranium undergoes fission = 5.33e+26 MeV "
   ]
   }
,
{
		   "cell_type": "markdown",
		   "metadata": {},
		   "source": [
			"## Example 14.5: A_Rough_Mechanism_for_Fission_Process.sce"
		   ]
		  },
  {
"cell_type": "code",
	   "execution_count": null,
	   "metadata": {
	    "collapsed": true
	   },
	   "outputs": [],
"source": [
"// Scilab code Ex14.5: Pg 513 (2005)\n",
"clc; clear;\n",
"A_Ba = 141;     // Mass number of Barium\n",
"A_Kr = 92;    // Mass number of Barium\n",
"r_0 = 1.2e-15;    // Separation constant, m\n",
"r_Ba = r_0*A_Ba^(1/3);   // Nuclear radius of Barium, m \n",
"r_Kr = r_0*A_Kr^(1/3);   // Nuclear radius of Krypton, m\n",
"r = r_Ba + r_Kr;   // Separation between two atoms, m\n",
"Z_1 = 56;     // Atomic number of Barium\n",
"Z_2 = 36;   // Atomic number of Barium\n",
"k = 1.440e-09;   // Coulomb constant, eV-m\n",
"U = k*Z_1*Z_2/r                // Coulomb Potential energy of two charges, MeV\n",
"printf('\nThe Coulomb potential energy for two charges = %3d MeV' , U/1e+06);\n",
"printf('\nThis shows that the fission mechanism is plausible');\n",
"\n",
"// Result\n",
"// The Coulomb potential energy for two charges = 248 MeV\n",
"// This shows that the fission mechanism is plausible "
   ]
   }
,
{
		   "cell_type": "markdown",
		   "metadata": {},
		   "source": [
			"## Example 14.6: The_Fusion_of_Two_Deutrons.sce"
		   ]
		  },
  {
"cell_type": "code",
	   "execution_count": null,
	   "metadata": {
	    "collapsed": true
	   },
	   "outputs": [],
"source": [
"// Scilab code Ex14.6: Pg 519 (2005)\n",
"clc; clear;\n",
"// Part (a)\n",
"e = 1.6e-19;    // Charge on electron, C\n",
"k = 8.99e-09;    // Coulomb constant, N-m^2/C^2\n",
"r = 1.0e-14;   // Distance between two duetrons, m\n",
"// We have U = (k*q1*q2)/r, for duetrons q1 = q2 = e, therefore we get\n",
"U = (k*e^2)/r;    // Potential energy of duetrons, J\n",
"E_C = 1.1e-014;    // The coulomb energy per deutron, J\n",
"k_B = 1.38e-023;    // Boltzmann constant, J/mol/K\n",
"T = 2/3*E_C/k_B;    // Effective temperature required for deutron to overcome the potential barrier, K\n",
"printf('\nThe potential energy of two duetrons separated by the distance of %1.0de-14 m = %4.2f MeV', r*1e+14, (U*1e+12)/e);\n",
"printf('\nThe effective temperature required for deutron to overcome the potential barrier = %3.1e K', T);\n",
"\n",
"// Result\n",
"// The potential energy of two duetrons separated by the distance of 1e-14 m = 0.14 MeV\n",
"// The effective temperature required for deutron to overcome the potential barrier = 5.3e+008 K \n",
"// Result\n",
"// The potential energy of two duetrons separated by the distance of 1e-14 m = 0.14 MeV "
   ]
   }
,
{
		   "cell_type": "markdown",
		   "metadata": {},
		   "source": [
			"## Example 14.7: Half_value_thickness.sce"
		   ]
		  },
  {
"cell_type": "code",
	   "execution_count": null,
	   "metadata": {
	    "collapsed": true
	   },
	   "outputs": [],
"source": [
"// Scilab code Ex14.7: Pg 530 (2005)\n",
"clc; clear;\n",
"mew = 55e-02;    // Linear absoption coefficient, per m\n",
"// In equation I(x) = I_o*exp(-mew*x), replacing I(x) by I_o/2 & solving for x, we get\n",
"x = log(2)/mew;   // Half value thickness, m \n",
"printf('\nThe half value thickness for lead = %4.2fe-02 cm', x);\n",
"\n",
"// Result\n",
"// The half value thickness for lead = %1.26e-02 cm"
   ]
   }
],
"metadata": {
		  "kernelspec": {
		   "display_name": "Scilab",
		   "language": "scilab",
		   "name": "scilab"
		  },
		  "language_info": {
		   "file_extension": ".sce",
		   "help_links": [
			{
			 "text": "MetaKernel Magics",
			 "url": "https://github.com/calysto/metakernel/blob/master/metakernel/magics/README.md"
			}
		   ],
		   "mimetype": "text/x-octave",
		   "name": "scilab",
		   "version": "0.7.1"
		  }
		 },
		 "nbformat": 4,
		 "nbformat_minor": 0
}
