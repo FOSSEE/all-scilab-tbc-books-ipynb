{
"cells": [
 {
		   "cell_type": "markdown",
	   "metadata": {},
	   "source": [
       "# Chapter 16: Cosmology"
	   ]
	},
{
		   "cell_type": "markdown",
		   "metadata": {},
		   "source": [
			"## Example 16.1: Hubbles_law.sce"
		   ]
		  },
  {
"cell_type": "code",
	   "execution_count": null,
	   "metadata": {
	    "collapsed": true
	   },
	   "outputs": [],
"source": [
"// Scilab code Ex16.1: Pg 15 (2005)\n",
"clc; clear;\n",
"c = 3e+05;   // Velocity of light, km/s\n",
"v = c/4;    // Recessional velocity, km/s\n",
"H_0 = 20e-06;    // Hubble's constant, km/s/lightyear\n",
"// From Hubble's law, v = H_o*R_max, solving for R_max\n",
"R_max = v/H_0;  // Maximum distance at which Hubble's law applies without relativistic correction, lightyears\n",
"printf('\nThe maximum distance at which Hubbles law applies without relativistic correction = %1.0e ly', R_max);\n",
"printf('\n');\n",
"\n",
"// Result\n",
"// The maximum distance at which Hubbles law applies without relativistic correction = 4e+09 ly"
   ]
   }
,
{
		   "cell_type": "markdown",
		   "metadata": {},
		   "source": [
			"## Example 16.2: Critical_density_of_universe.sce"
		   ]
		  },
  {
"cell_type": "code",
	   "execution_count": null,
	   "metadata": {
	    "collapsed": true
	   },
	   "outputs": [],
"source": [
"// Scilab code Ex16.2: Pg 22 (2005)\n",
"clc; clear;\n",
"H = 23e-03/(9.46e15);    // Hubble's constant, km/s/ly\n",
"G = 6.67e-11;      // Gravitational constant, N-m^2/kg^2\n",
"//  Since H^2 = (8*%pi*G*p_c)/3, solving for p_c\n",
"p_c = (3*H^2)/(8*%pi*G);    // Critical mass density of universe, kg/m^3\n",
"printf('\nCritical mass density of universe = %4.2e kg per metre cube', p_c);\n",
"\n",
"\n",
"// Result\n",
"// Critical mass density of universe = %1.06e-27 kg/m^3"
   ]
   }
],
"metadata": {
		  "kernelspec": {
		   "display_name": "Scilab",
		   "language": "scilab",
		   "name": "scilab"
		  },
		  "language_info": {
		   "file_extension": ".sce",
		   "help_links": [
			{
			 "text": "MetaKernel Magics",
			 "url": "https://github.com/calysto/metakernel/blob/master/metakernel/magics/README.md"
			}
		   ],
		   "mimetype": "text/x-octave",
		   "name": "scilab",
		   "version": "0.7.1"
		  }
		 },
		 "nbformat": 4,
		 "nbformat_minor": 0
}
