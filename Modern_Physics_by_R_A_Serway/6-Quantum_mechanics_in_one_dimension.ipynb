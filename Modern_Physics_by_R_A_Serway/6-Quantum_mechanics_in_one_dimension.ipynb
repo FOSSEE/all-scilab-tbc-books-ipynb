{
"cells": [
 {
		   "cell_type": "markdown",
	   "metadata": {},
	   "source": [
       "# Chapter 6: Quantum mechanics in one dimension"
	   ]
	},
{
		   "cell_type": "markdown",
		   "metadata": {},
		   "source": [
			"## Example 6.12: The_quantum_oscillator_in_nonclassical_region.sce"
		   ]
		  },
  {
"cell_type": "code",
	   "execution_count": null,
	   "metadata": {
	    "collapsed": true
	   },
	   "outputs": [],
"source": [
"// Scilab code Ex6.12: Pg 214 (2005)\n",
"clc; clear;\n",
"P = 2/sqrt(%pi)*integrate('exp(-z^2)', 'z', 1, 100);   // Probability that the quantum oscillator in its ground state will be found in the nonclassical region\n",
"printf('\nThe probability that the quantum oscillator in its ground state will be found in the nonclassical region = %5.3f', P);\n",
"\n",
"// Result\n",
"// The probability that the quantum oscillator in its ground state will be found in the nonclassical region = 0.157 "
   ]
   }
,
{
		   "cell_type": "markdown",
		   "metadata": {},
		   "source": [
			"## Example 6.13: Quantization_of_vibrational_energy.sce"
		   ]
		  },
  {
"cell_type": "code",
	   "execution_count": null,
	   "metadata": {
	    "collapsed": true
	   },
	   "outputs": [],
"source": [
"// Scilab code Ex6.13: Pg 211 (2005)\n",
"clc; clear;\n",
"h_cross = 6.582e-016;   // Reduced Planck's constant, eV-s\n",
"// For spring-mass system\n",
"K = 0.100;  // Force constant of the spring-mass system, N/m\n",
"m = 0.0100; // Mass attached to the spring, kg\n",
"omega = sqrt(K/m);  // Angular frequency of oscillations, rad/s\n",
"delta_E = h_cross*omega;    // Energy spacing between quantum levels, eV\n",
"printf('\nThe energy spacing between quantum levels for spring-mass system = %4.2e eV\nwhich is far below present limits of detection', delta_E);\n",
"// For vibrating hydrogen molecule\n",
"K = 510.5;  // Force constant of the hydrogen molecule system, N/m\n",
"mu = 8.37e-028; // Reduced mass of the hydrogen molecule, kg\n",
"omega = sqrt(K/mu);  // Angular frequency of oscillations, rad/s\n",
"delta_E = h_cross*omega;    // Energy spacing between quantum levels, eV\n",
"printf('\nThe energy spacing between quantum levels for hydrogen molecule = %5.3f eV\nwhich can be measured easily', delta_E);\n",
"\n",
"// Result\n",
"// The energy spacing between quantum levels for spring-mass system = 2.08e-15 eV\n",
"// which is far below present limits of detection\n",
"// The energy spacing between quantum levels for hydrogen molecule = 0.514 eV\n",
"// which can be measured easily "
   ]
   }
,
{
		   "cell_type": "markdown",
		   "metadata": {},
		   "source": [
			"## Example 6.14: Standard_Deviations_from_Averages.sce"
		   ]
		  },
  {
"cell_type": "code",
	   "execution_count": null,
	   "metadata": {
	    "collapsed": true
	   },
	   "outputs": [],
"source": [
"// Scilab code Ex6.14: Pg 219 (2005)\n",
"clc; clear;\n",
"x = [2.5, 3.7, 1.4, 7.9, 6.2, 5.4, 8.0, 6.4, 4.1, 5.4, 7.0, 3.3, 4.2, 8.8, 6.2, 7.1, 5.4, 5.3]; // Data entries\n",
"sum_x = 0;      // Initialize the accumulator\n",
"sum_x_sq = 0;   // Initialize the second accumulator\n",
"N = 18;     // Total number of data points\n",
"for i = 1:1:N\n",
"    sum_x = sum_x + x(i);   // Sum of data\n",
"    sum_x_sq = sum_x_sq + x(i)^2; // Sum of square of data\n",
"end\n",
"x_av = sum_x/N;     // Average of data\n",
"x_sq_av = sum_x_sq/N;   // Mean square value\n",
"sigma = sqrt(x_sq_av-x_av^2);   // Standard deviation from averages\n",
"printf('\nThe standard deviation from averages = %4.2f', sigma);\n",
"\n",
"\n",
"// Result\n",
"// The standard deviation from averages = 1.93 "
   ]
   }
,
{
		   "cell_type": "markdown",
		   "metadata": {},
		   "source": [
			"## Example 6.15: Location_of_a_particle_in_the_box.sce"
		   ]
		  },
  {
"cell_type": "code",
	   "execution_count": null,
	   "metadata": {
	    "collapsed": true
	   },
	   "outputs": [],
"source": [
"// Scilab code Ex6.15: Pg 219 (2005)\n",
"clc; clear;\n",
"L = 1;  // For simplicity assume length of the box to be unity, unit\n",
"x_av = 2*L/%pi^2*integrate('theta*sin(theta)^2', 'theta', 0, %pi);  // Average value of x\n",
"x_sq_av = L^2/%pi^3*(integrate('theta^2', 'theta', 0, %pi)-integrate('theta^2*cos(2*theta)', 'theta', 0, %pi)); // Average value of x square\n",
"delta_x = sqrt(x_sq_av - x_av^2);   // Uncertainty in the position for this particle, unit\n",
"printf('\nThe average position of the particle in the box = L/%1d', x_av*4);\n",
"printf('\nThe uncertainty in the position for the particle = %5.3fL', delta_x);\n",
"\n",
"// Result\n",
"// The average position of the particle in the box = L/2\n",
"// The uncertainty in the position for the particle = 0.181L "
   ]
   }
,
{
		   "cell_type": "markdown",
		   "metadata": {},
		   "source": [
			"## Example 6.2: Probability_from_wave_function.sce"
		   ]
		  },
  {
"cell_type": "code",
	   "execution_count": null,
	   "metadata": {
	    "collapsed": true
	   },
	   "outputs": [],
"source": [
"// Scilab code Ex6.2: Pg 193 (2005)\n",
"clc; clear;\n",
"x0 = 1;    // For simplicity assume x0 = 1\n",
"C = 1/sqrt(x0);    // Normalization constant\n",
"P = 2*C^2*integrate('exp(-2*x/x0)', 'x', 0, x0);\n",
"printf('\nThe probability that the particle will be found in the interval -x0 <= x <= x0 is %6.4f or %4.1f percent', P, P*100);\n",
"\n",
"// Result\n",
"// The probability that the particle will be found in the interval -x0 <= x <= x0 is 0.8647 "
   ]
   }
,
{
		   "cell_type": "markdown",
		   "metadata": {},
		   "source": [
			"## Example 6.4: Dispersion_of_matter_waves.sce"
		   ]
		  },
  {
"cell_type": "code",
	   "execution_count": null,
	   "metadata": {
	    "collapsed": true
	   },
	   "outputs": [],
"source": [
"// Scilab code Ex6.4: Pg 197 (2005)\n",
"clc; clear;\n",
"delta_x0 = 1e-010;    // Initial width of the localized space, m\n",
"delta_xt = 10*delta_x0;    // Final width at which the wave packet is dispersed, m\n",
"h_cross = 1.055e-034;    // Reduced Planck's constant, Js\n",
"m = 9.11e-031;    // Mass of the electron, kg\n",
"// From Dispersion relation, delta_xt^2 - delta_x0^2 = sqrt(h_cross*t/(2*m*deltax0)^2), solving for t\n",
"t = 2*m*sqrt(delta_xt^2 - delta_x0^2)*delta_x0/h_cross;  // Time which elapses before delocalization\n",
"printf('\nThe time which elapses before the localization of electron destroys = %3.1e s', t);\n",
"m = 1e-03;    // Mass of marble, kg\n",
"delta_x0 = 1e-004;    // Initial width of the localized space, m\n",
"delta_xt = 10*delta_x0;    // Final width at which the wave packet is dispersed, m\n",
"t = 2*m*sqrt(delta_xt^2 - delta_x0^2)*delta_x0/h_cross;  // Time which elapses before delocalization\n",
"printf('\nThe time which elapses before the localization of marble destroys = %3.1e s', t);\n",
"printf('\nFor all the practical purposes, the marble will remain localized for ever');\n",
"// Result\n",
"// \n",
"\n",
""
   ]
   }
,
{
		   "cell_type": "markdown",
		   "metadata": {},
		   "source": [
			"## Example 6.5: Energy_Quantization_for_Macroscopic_Object.sce"
		   ]
		  },
  {
"cell_type": "code",
	   "execution_count": null,
	   "metadata": {
	    "collapsed": true
	   },
	   "outputs": [],
"source": [
"// Scilab code Ex6.5: Pg 202 (2005)\n",
"clc; clear;\n",
"h = 6.626e-034;     // Planck's constant, Js\n",
"m = 1e-06;    // Mass of the object, kg\n",
"n = 1;    // Quantum number for minimum energy level\n",
"L = 1e-02;     // Distance between two rigid walls, m\n",
"E1 = n^2*h^2/(8*m*L^2);  // Minimum energy of the object, J\n",
"v1 = sqrt(2*E1/m);    // Minimum speed of the object, m/s\n",
"v = 3.00e-02;    // Given speed of the objct, m/s\n",
"E = 1/2*m*v^2;  // Energy of the object for given speed, J\n",
"n = sqrt(8*m*L^2*E)/h;  // Quantum number corresponding to the given speed\n",
"printf('\nThe minimum speed of the object = %4.2e m/s', v1);\n",
"printf('\nThe quantum number corresponding to the speed of %4.2e m/s is n = %4.2e', v1, n);\n",
"\n",
"// Result\n",
"//  The minimum speed of the object = 3.31e-26 m/s\n",
"// The quantum number corresponding to the speed of 3.31e-26 m/s is n = 9.06e+23 "
   ]
   }
,
{
		   "cell_type": "markdown",
		   "metadata": {},
		   "source": [
			"## Example 6.6: Model_of_an_Atom.sce"
		   ]
		  },
  {
"cell_type": "code",
	   "execution_count": null,
	   "metadata": {
	    "collapsed": true
	   },
	   "outputs": [],
"source": [
"// Scilab code Ex6.6: Pg 203 (2005)\n",
"clc; clear;\n",
"c = 1;      // Assume speed of light to be unity, m/s\n",
"h_cross = 197.3;    // Reduced Planck's constant, eV.nm/c^2\n",
"m_e = 511e+03;          // Mass of an electron, eV/c^2\n",
"L = 0.200;  // Length of the box, nm\n",
"E1 = %pi^2*(h_cross/c)^2/(2*m_e*L^2);   // Ground state energy of atomic electron, eV\n",
"E2 = 2^2*E1;    // Excited state energy of the atomic electron, eV\n",
"delta_E = E2- E1;   // Energy that must be applied to the electron  to raise it from ground to the first excited state, eV\n",
"h = 2*%pi*h_cross;  // Planck's constant, Js\n",
"lambda = h*c/delta_E;   // Wavelength of the photon to cause the electron transition, nm\n",
"printf('\nThe energy that must be applied to the electron  to raise it from ground to the first excited state = %4.1f eV', delta_E);\n",
"printf('\nThe wavelength of the photon to cause this electron transition = %4.1f nm', lambda);\n",
"printf('\nThis wavelength is in the far ultraviolet region.');\n",
"\n",
"// Result\n",
"// The energy that must be applied to the electron  to raise it from ground to the first excited state = 28.2 eV\n",
"// The wavelength of the photon to cause this electron transition = 44.0 nm\n",
"// This wavelength is in the far ultraviolet region.  "
   ]
   }
,
{
		   "cell_type": "markdown",
		   "metadata": {},
		   "source": [
			"## Example 6.7: Probabilities_for_a_particle_in_a_Box.sce"
		   ]
		  },
  {
"cell_type": "code",
	   "execution_count": null,
	   "metadata": {
	    "collapsed": true
	   },
	   "outputs": [],
"source": [
"// Scilab code Ex6.7: Pg 205 (2005)\n",
"clc; clear;\n",
"L = 1;  // For simplicity assume length of finite square well to be unity, m\n",
"P = 2/L*integrate('sin(%pi*x/L)^2', 'x', L/4, 3*L/4); // Probability that the particle will be found in the middle half of the well\n",
"printf('\nThe probability that the particle will be found in the middle half of the well = %5.3f', P);\n",
"\n",
"// Result\n",
"// The probability that the particle will be found in the middle half of the well = 0.818"
   ]
   }
,
{
		   "cell_type": "markdown",
		   "metadata": {},
		   "source": [
			"## Example 6.8: Ground_state_energy_of_an_electron_confined_to_a_potential_well.sce"
		   ]
		  },
  {
"cell_type": "code",
	   "execution_count": null,
	   "metadata": {
	    "collapsed": true
	   },
	   "outputs": [],
"source": [
"\n",
"// Scilab code Ex6.8: Pg 211 (2005)\n",
"clc; clear;\n",
"c = 1;      // Assume speed of light to be unity, m/s\n",
"L = 0.200;  // Width of the potential well, nm\n",
"h_cross = 197.3;    // Reduced Planck's constant, eV.nm/c^2\n",
"m = 511e+03;          // Mass of an electron, eV/c^2\n",
"U = 100;    // Height of potential well, eV\n",
"delta = h_cross/sqrt(2*m*U);    // Decay length of electron, nm\n",
"L = L + 2*delta;    // Effective length of the infinite potential well, nm\n",
"E = %pi^2*(h_cross/c)^2/(2*m*L^2);  // Ground state energy of the electron with effective length, eV\n",
"U = U - E;  // New potential energy, eV\n",
"delta = h_cross/sqrt(2*m*U);    // New decay length of electron, nm\n",
"printf('\nThe ground state energy of an electron confined to the potential well = %4.2f eV', E);\n",
"printf('\nThe new decay length of the electron = %6.4f nm', delta);\n",
"\n",
"// Result\n",
"// The ground state energy of an electron confined to the potential well = 6.58 eV \n",
"// The new decay length of the electron = 0.0202 nm "
   ]
   }
],
"metadata": {
		  "kernelspec": {
		   "display_name": "Scilab",
		   "language": "scilab",
		   "name": "scilab"
		  },
		  "language_info": {
		   "file_extension": ".sce",
		   "help_links": [
			{
			 "text": "MetaKernel Magics",
			 "url": "https://github.com/calysto/metakernel/blob/master/metakernel/magics/README.md"
			}
		   ],
		   "mimetype": "text/x-octave",
		   "name": "scilab",
		   "version": "0.7.1"
		  }
		 },
		 "nbformat": 4,
		 "nbformat_minor": 0
}
