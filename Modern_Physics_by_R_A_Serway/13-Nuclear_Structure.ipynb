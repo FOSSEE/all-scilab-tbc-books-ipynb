{
"cells": [
 {
		   "cell_type": "markdown",
	   "metadata": {},
	   "source": [
       "# Chapter 13: Nuclear Structure"
	   ]
	},
{
		   "cell_type": "markdown",
		   "metadata": {},
		   "source": [
			"## Example 13.11: Radioactive_Dating.sce"
		   ]
		  },
  {
"cell_type": "code",
	   "execution_count": null,
	   "metadata": {
	    "collapsed": true
	   },
	   "outputs": [],
"source": [
"// Scilab code Ex13.11: Pg 490 (2005)\n",
"clc; clear;\n",
"T_half = 5370*3.6e+07;  // Half life of C-14, s\n",
"lambda = 0.693/T_half;  // // Decay constant for C-14 disintegration, per sec\n",
"N_C12 = 6.02e+023/12*25;    // Number of C-12 nuclei in 25.0 g of carbon\n",
"N0_C14 = 1.3e-012*N_C12;    // Number of C-14 nuclei in 25.0 g of carbon before decay\n",
"R0 = N0_C14*3.83e-012*60;  // Initial activty of the sample, decays/min\n",
"R = 250;    // Present activity of the sample\n",
"// As R = R0*exp(-lambda*t), solving for t\n",
"t = -1/lambda*log(R/R0);    // Time during which the tree dies, s\n",
"printf('\nThe lifetime of the tree = %3.1e yr', t/(365*24*60*60));\n",
"\n",
"// Result\n",
"// The lifetime of the tree = 3.6e+03 yr "
   ]
   }
,
{
		   "cell_type": "markdown",
		   "metadata": {},
		   "source": [
			"## Example 13.1: The_Atomic_Mass_Unit.sce"
		   ]
		  },
  {
"cell_type": "code",
	   "execution_count": null,
	   "metadata": {
	    "collapsed": true
	   },
	   "outputs": [],
"source": [
"// Scilab code Ex13.1: Pg 466 (2005)\n",
"clc; clear;\n",
"M = 0.012;  // Atomic mass of carbon, kg\n",
"N_A = 6.02e+023; // Avogadro's number\n",
"m = M/N_A;   // Mass of one Carbon-12 atom, kg\n",
"// As m = 12*u, twelve mass units, solving for u\n",
"u = m/12;   // The atomic mass unit, kg\n",
"printf('\nThe atomic mass unit = %4.2e kg', u);\n",
"\n",
"// Result\n",
"// The atomic mass unit = 1.66e-27 kg "
   ]
   }
,
{
		   "cell_type": "markdown",
		   "metadata": {},
		   "source": [
			"## Example 13.2: The_Volume_and_Density_of_Nucleus.sce"
		   ]
		  },
  {
"cell_type": "code",
	   "execution_count": null,
	   "metadata": {
	    "collapsed": true
	   },
	   "outputs": [],
"source": [
"// Scilab code Ex13.2: Pg 468 (2005)\n",
"clc; clear;\n",
"r0 = 1.2e-015;  // Nuclear mean radius, m\n",
"m = 1.67e-027;  // Mass of the nucleon, kg\n",
"rho_0 = 3*m/(4*%pi*r0^3);   // Density of the nucleus, kg per metre cube\n",
"printf('\nThe mass of the nucleus = Am approx.');\n",
"printf('\nThe volume of the nucleus = 4/3*pi*r0^3*A');\n",
"printf('\nThe density of the nucleus = %3.1e kg per metre cube', rho_0);\n",
"\n",
"// Result\n",
"// The mass of the nucleus = Am approx.\n",
"// The volume of the nucleus = 4/3*pi*r0^3*A\n",
"// The density of the nucleus = 2.3e+17 kg per metre cube "
   ]
   }
,
{
		   "cell_type": "markdown",
		   "metadata": {},
		   "source": [
			"## Example 13.3: Binding_energy_of_the_Deuteron.sce"
		   ]
		  },
  {
"cell_type": "code",
	   "execution_count": null,
	   "metadata": {
	    "collapsed": true
	   },
	   "outputs": [],
"source": [
"// Scilab code Ex13.3: Pg 473 (2005)\n",
"clc; clear;\n",
"M2 = 2.014102;  // Atomic mass of deuteron, u\n",
"M_H = 1.007825; // Atomic mass of hydrogen, u\n",
"m_n = 1.008665; // Mass of a neutron, u\n",
"E_b = (M_H + m_n - M2)*931.494;     // Binding energy of the deuteron, MeV/u\n",
"printf('\nThe binding energy of the Deuteron = %5.3f MeV', E_b);\n",
"\n",
"// Result\n",
"// The binding energy of the Deuteron = 2.224 MeV"
   ]
   }
,
{
		   "cell_type": "markdown",
		   "metadata": {},
		   "source": [
			"## Example 13.4: Left_out_sample_during_radioactive_decay.sce"
		   ]
		  },
  {
"cell_type": "code",
	   "execution_count": null,
	   "metadata": {
	    "collapsed": true
	   },
	   "outputs": [],
"source": [
"// Scilab code Ex13.4: Pg 482 (2005)\n",
"clc; clear;\n",
"T = 5730;   // Half life of the carbon-14 isotope, years\n",
"N0 = 1000;  // Initial number of carbon-14 isotope\n",
"t = 22920;  // Time of decay, years\n",
"n = t/T;    // Total number of half lives\n",
"N = (1/2)^n*N0; // Sample remains after 22920 years\n",
"printf('\nNumber of C-14 isotopes remained after %d years = %d', t, N);\n",
"\n",
"// Result\n",
"// Number of C-14 isotopes remained after 22920 years = 62 "
   ]
   }
,
{
		   "cell_type": "markdown",
		   "metadata": {},
		   "source": [
			"## Example 13.5: The_Activity_of_Radium.sce"
		   ]
		  },
  {
"cell_type": "code",
	   "execution_count": null,
	   "metadata": {
	    "collapsed": true
	   },
	   "outputs": [],
"source": [
"// Scilab code Ex13.5: Pg 483 (2005)\n",
"clc; clear;\n",
"T_half = 1.6e+03*3.16e+07;    // Half life of radioactive nucleus Ra-226, s\n",
"lambda = 0.693/T_half;  // Decay constant of Ra-226, per second\n",
"N0 = 3.0e+016;  // Number of radioactive nuclei at t = 0\n",
"R0 = lambda*N0; // Activity of sample at t = 0, decays/s\n",
"t = 2.0e+003*3.16e+07;   // Time during which the radioactive disintegration takes place, s\n",
"R = R0*exp(-1*lambda*t);  // Decay rate after 2.0e+003 years, decay/s\n",
"printf('\nThe decay constant of Ra-226 = %3.1e per second', lambda);\n",
"printf('\nThe activity of sample at t = 0 = %4.1f micro-Ci', R0/(3.7e+010*1e-006));  \n",
"printf('\nThe activity of sample after %3.1e years = %3.1e decays/s', t, R);  \n",
"\n",
"// Result\n",
"// The decay constant of Ra-226 = 1.4e-11 per second\n",
"// The activity of sample at t = 0 = 11.1 micro-Ci\n",
"// The activity of sample after 6.3e+10 years = 1.7e+05 decays/s "
   ]
   }
,
{
		   "cell_type": "markdown",
		   "metadata": {},
		   "source": [
			"## Example 13.6: The_Activity_of_Carbo.sce"
		   ]
		  },
  {
"cell_type": "code",
	   "execution_count": null,
	   "metadata": {
	    "collapsed": true
	   },
	   "outputs": [],
"source": [
"// Scilab code Ex13.6: Pg 483 (2005)\n",
"clc; clear;\n",
"M = 11.0;   // Atomic mass of C-11 isotope, g\n",
"NA = 6.02e+023; // Avogadro's number\n",
"m = 3.50e-06;   // Given mass of Cabon-11, g\n",
"\n",
"// Part (a)\n",
"N = m/M*NA;     // Number of C-11 atoms in 3.50 micro-g of sample\n",
"printf('\nThe number of C-11 atoms in %4.2f micro-g of sample = %4.2e nuclei', m/1e-06, N);\n",
"\n",
"// Part (b)\n",
"T_half = 20.4*60;    // Half life of radioactive nucleus C-11, s\n",
"lambda = 0.693/T_half;  // Decay constant of C-11, per second\n",
"R0 = lambda*N; // Activity of sample at t = 0, decays/s\n",
"t = 8.00*60*60;   // Time during which the radioactive disintegration takes place, s\n",
"R = R0*exp(-1*lambda*t);  // Decay rate after 2.0e+003 years, decay/s\n",
"\n",
"printf('\nThe activity of C-11 sample at t = 0 is %4.2e decays/s', R0);  \n",
"printf('\nThe activity of sample after %4.2f hours = %4.2e decays/s', t/3600, R);  \n",
"\n",
"// Result\n",
"// The number of C-11 atoms in 3.50 micro-g of sample = 1.92e+17 nuclei\n",
"// The activity of C-11 sample at t = 0 is 1.08e+14 decays/s\n",
"// The activity of sample after 8.00 hours = 8.99e+06 decays/s "
   ]
   }
,
{
		   "cell_type": "markdown",
		   "metadata": {},
		   "source": [
			"## Example 13.7: The_Radiactive_Isotope_of_Iodine.sce"
		   ]
		  },
  {
"cell_type": "code",
	   "execution_count": null,
	   "metadata": {
	    "collapsed": true
	   },
	   "outputs": [],
"source": [
"// Scilab code Ex13.7: Pg 484 (2005)\n",
"clc; clear;\n",
"R0 = 5; // Activity of I-131 isotope at the time of shipment, mCi\n",
"R = 4.2;    // Activity of I-131 isotope at the time of receipt by the medical laboratory, mCi\n",
"T_half = 8.04;    // Half life of radioactive nucleus I-131, days\n",
"lambda = 0.693/T_half;  // Decay constant of C-11, per second\n",
"// As log(R/R0) = -lambda*t, solving for t\n",
"t = -1/lambda*log(R/R0);    // Time that has elapsed between two measurements, days\n",
"printf('\nThe time that has elapsed between two measurements = %4.2f days', t);\n",
"\n",
"// Result\n",
"// The time that has elapsed between two measurements = 2.02 days  "
   ]
   }
,
{
		   "cell_type": "markdown",
		   "metadata": {},
		   "source": [
			"## Example 13.8: Energy_Liberated_during_Decay_of_Radium.sce"
		   ]
		  },
  {
"cell_type": "code",
	   "execution_count": null,
	   "metadata": {
	    "collapsed": true
	   },
	   "outputs": [],
"source": [
"// Scilab code Ex13.8: Pg 486 (2005)\n",
"clc; clear;\n",
"M_X = 226.025406;   // Atomic mass of Ra-226, u\n",
"M_Y = 222.017574;   // Atomic mass of Rn-222, u\n",
"M_alpha = 4.002603; // Mass of alpha particle, u\n",
"Q = (M_X - M_Y - M_alpha)*931.494;  // Q-value for Radium Decay, MeV/u\n",
"printf('\nThe Q-value for Radium Decay = %4.2f MeV', Q);\n",
"\n",
"// Result\n",
"// The Q-value for Radium Decay = 4.87 MeV "
   ]
   }
,
{
		   "cell_type": "markdown",
		   "metadata": {},
		   "source": [
			"## Example 13.9: Probability_of_Alpha_Decay.sce"
		   ]
		  },
  {
"cell_type": "code",
	   "execution_count": null,
	   "metadata": {
	    "collapsed": true
	   },
	   "outputs": [],
"source": [
"// Scilab code Ex13.9: Pg 487 (2005)\n",
"clc; clear;\n",
"Z = 86;     // Atomic number of radon\n",
"A = 222;    // Mass number of radon\n",
"k = 9e+09;  // Coulomb constant, N-metre square per C-square\n",
"e = 1.6e-019;   // Charge on an electron, C\n",
"r0 = 7.25e-015; // Bohr radius for alpha particle, m\n",
"E0 = k*e^2/(2*r0*1e+06*e);  // Rydberg energy, MeV\n",
"R = 1.2e-015*A^(1/3);    // Radius of radon nucleus, fm\n",
"E = 5;  // Disintegration energy during alpha decay, MeV\n",
"T_E = exp(-4*%pi*Z*sqrt(E0/E)+8*sqrt(Z*R/r0));  // Decay probability for alpha disintegration\n",
"printf('\nThe decay probability for alpha disintegration at %d MeV energy = %4.2e', E, T_E);\n",
"\n",
"// Result\n",
"// The decay probability for alpha disintegration at 5 MeV energy = 1.29e-34  "
   ]
   }
],
"metadata": {
		  "kernelspec": {
		   "display_name": "Scilab",
		   "language": "scilab",
		   "name": "scilab"
		  },
		  "language_info": {
		   "file_extension": ".sce",
		   "help_links": [
			{
			 "text": "MetaKernel Magics",
			 "url": "https://github.com/calysto/metakernel/blob/master/metakernel/magics/README.md"
			}
		   ],
		   "mimetype": "text/x-octave",
		   "name": "scilab",
		   "version": "0.7.1"
		  }
		 },
		 "nbformat": 4,
		 "nbformat_minor": 0
}
