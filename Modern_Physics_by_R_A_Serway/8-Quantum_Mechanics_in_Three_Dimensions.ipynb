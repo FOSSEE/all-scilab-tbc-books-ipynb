{
"cells": [
 {
		   "cell_type": "markdown",
	   "metadata": {},
	   "source": [
       "# Chapter 8: Quantum Mechanics in Three Dimensions"
	   ]
	},
{
		   "cell_type": "markdown",
		   "metadata": {},
		   "source": [
			"## Example 8.4: Orbital_quantum_number_for_a_stone.sce"
		   ]
		  },
  {
"cell_type": "code",
	   "execution_count": null,
	   "metadata": {
	    "collapsed": true
	   },
	   "outputs": [],
"source": [
"// Scilab code Ex8.4: Pg 270 (2005)\n",
"clc; clear;\n",
"R = 1.00;     // Radius of circle, m\n",
"T = 1.00;     // Time period of revolution, s\n",
"v = (2*%pi*R)/T;    // Speed of stone in its orbit, m/s\n",
"m = 1.00;     // Mass of stone, kg\n",
"L = m*v*R;    // Angular momentum of stone, kg-m^2/s\n",
"h_cross = 1.055e-34;    // Reduced Planck's constant, kg-m^2/s\n",
"l = L/h_cross;    // Orbtal quantum number\n",
"printf('\nThe orbtal quantum number for stone = %4.2fe+34', l*1e-34);\n",
"\n",
"// Result\n",
"// Orbtal quantum number for stone = 5.96e+34"
   ]
   }
,
{
		   "cell_type": "markdown",
		   "metadata": {},
		   "source": [
			"## Example 8.6: Space_quantisation_for_an_atomic_electron.sce"
		   ]
		  },
  {
"cell_type": "code",
	   "execution_count": null,
	   "metadata": {
	    "collapsed": true
	   },
	   "outputs": [],
"source": [
"// Scilab code Ex8.6: Pg 272 (2005)\n",
"clc; clear;\n",
"// For simplicity let h_cross = 1\n",
"h_cross = 1;   // Reduced planck's constant\n",
"l = 3;  // Given orbital quantum number\n",
"L = sqrt(l*(l+1)*h_cross);    // Magnitude of total angular momentum, in h_cross units\n",
"m_l = [-3, -2, -1, 0, 1, 2, 3];\n",
"L_z = m_l*h_cross;  // Allowed values of L_z\n",
"cos_theta = L_z/L;\n",
"theta = acosd(L_z/L);  // Orientations of L_z, degrees\n",
"for i = 1:1:7\n",
"    if theta(i) > 90 then\n",
"        theta(i) = theta(i)-180;\n",
"    end\n",
"end\n",
"printf('\nThe magnitude of total angular momentum = 2*sqrt(%d)*h_cross\n', L^2/4);\n",
"printf('\nThe allowed values of L_z in units of h_cross are :');\n",
"disp(L_z);\n",
"printf('\nThe orientations of L_z in degrees are:');\n",
"disp(theta);\n",
"\n",
"// Result\n",
"// The magnitude of total angular momentum = 2*sqrt(2)*h_cross\n",
"\n",
"// The allowed values of L_z in units of h_cross are : \n",
"//   - 3.  - 2.  - 1.    0.    1.    2.    3.  \n",
"\n",
"// The orientations of L_z in degrees are: \n",
"//   - 30.  - 54.73561  - 73.221345    90.    73.221345    54.73561    30.  "
   ]
   }
,
{
		   "cell_type": "markdown",
		   "metadata": {},
		   "source": [
			"## Example 8.7: Energy_of_Hydrogen_atom_at_first_excited_state.sce"
		   ]
		  },
  {
"cell_type": "code",
	   "execution_count": null,
	   "metadata": {
	    "collapsed": true
	   },
	   "outputs": [],
"source": [
"// Scilab code Ex8.7: Pg 281 (2005)\n",
"clc; clear;\n",
"k = 9e+09;  // Coulomb constant, N/Sq.m/C\n",
"e = 1.6e-019;   // Electronic charge, C\n",
"a_0 = 0.529e-010;   // Bohr's radius, m\n",
"n = 2;  // Principal quantum number\n",
"l = [0, 1]; // Orbital quantum number\n",
"m_l = [-1, 0, 1];    // Orbital magnetic quantum number\n",
"Z = 1;  // Atomic number of hydrogen\n",
"E2 = -k*e^2/(2*a_0)*Z^2/n^2;   // Energy of first excited level of hydrogen, \n",
"printf('\nThe energy of first excited level of hydrogen = %3.1f eV', E2/e);\n",
"\n",
"// Result\n",
"// The energy of first excited level of hydrogen = -3.4 eV \n",
""
   ]
   }
,
{
		   "cell_type": "markdown",
		   "metadata": {},
		   "source": [
			"## Example 8.8: Probabilities_for_the_Electron_in_Hydrogen.sce"
		   ]
		  },
  {
"cell_type": "code",
	   "execution_count": null,
	   "metadata": {
	    "collapsed": true
	   },
	   "outputs": [],
"source": [
"// Scilab code Ex8.8: Pg 284 (2005)\n",
"clc; clear;\n",
"P = 1/2*integrate('z^2*exp(-z)', 'z', 2, 100); // Take some large value of upper limit\n",
"printf('\nP(electron in the ground state of hydrogen will be found outside the first Bohr radius) = %4.1f percent', P*100);\n",
"\n",
"// Result\n",
"// P(electron in the ground state of hydrogen will be found outside the first Bohr radius) = 67.7 percent \n",
""
   ]
   }
],
"metadata": {
		  "kernelspec": {
		   "display_name": "Scilab",
		   "language": "scilab",
		   "name": "scilab"
		  },
		  "language_info": {
		   "file_extension": ".sce",
		   "help_links": [
			{
			 "text": "MetaKernel Magics",
			 "url": "https://github.com/calysto/metakernel/blob/master/metakernel/magics/README.md"
			}
		   ],
		   "mimetype": "text/x-octave",
		   "name": "scilab",
		   "version": "0.7.1"
		  }
		 },
		 "nbformat": 4,
		 "nbformat_minor": 0
}
