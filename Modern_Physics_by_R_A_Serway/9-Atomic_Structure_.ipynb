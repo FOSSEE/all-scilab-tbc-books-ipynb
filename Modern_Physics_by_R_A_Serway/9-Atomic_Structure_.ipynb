{
"cells": [
 {
		   "cell_type": "markdown",
	   "metadata": {},
	   "source": [
       "# Chapter 9: Atomic Structure "
	   ]
	},
{
		   "cell_type": "markdown",
		   "metadata": {},
		   "source": [
			"## Example 9.1: Magnetic_energy_of_electron_in_Hydrogen.sce"
		   ]
		  },
  {
"cell_type": "code",
	   "execution_count": null,
	   "metadata": {
	    "collapsed": true
	   },
	   "outputs": [],
"source": [
"// Scilab code Ex9.1: Pg 300 (2005)\n",
"clc; clear;\n",
"// Since mu_B = (e*h_cross)/(2*m_e)\n",
"mu_B = 9.27e-24;     // Bohr magneton, J/T\n",
"B = 1.00;    // Magnetic flux, T\n",
"// Since 1 eV = 1.6e-19 J\n",
"eV = 1.6e-19;   // Energy, J\n",
"h_cross = 6.58e-16;   // Reduced Plank's constant, eV-s\n",
"omega_L = (mu_B*B)/(eV*h_cross);     // Larmor frequency, rad/s\n",
"printf('\nLarmour frequency at n = 2 is %4.2fe+10 rad/s', omega_L*1e-10);\n",
"\n",
"// Result\n",
"// Larmour frequency at n = 2 is 8.81e+10 rad/s"
   ]
   }
,
{
		   "cell_type": "markdown",
		   "metadata": {},
		   "source": [
			"## Example 9.2: Angles_between_z_axis_and_the_spin_angular_momentum_vector.sce"
		   ]
		  },
  {
"cell_type": "code",
	   "execution_count": null,
	   "metadata": {
	    "collapsed": true
	   },
	   "outputs": [],
"source": [
"// Scilab code Ex9.2: Pg 307 (2005)\n",
"clc; clear;\n",
"h_cross = 6.58e-16;    // Reduced Plank's constant, eV-s\n",
"S = h_cross*sqrt(3)/2;   // Spin angular momentum, eV-s\n",
"S_z = h_cross/2;     // Z-component of spin angular momentum, eV-s\n",
"theta_up = acosd(S_z/S);\n",
"theta_down = acosd(-S_z/S);\n",
"printf('\nFor up spin state, theta = %4.2f degrees', theta_up);\n",
"printf('\nFor down spin state, theta = %5.1f degrees', theta_down);\n",
"\n",
"// Result\n",
"// For up spin state, theta = 54.74 degrees\n",
"// For down spin state, theta = 125.3 degrees "
   ]
   }
,
{
		   "cell_type": "markdown",
		   "metadata": {},
		   "source": [
			"## Example 9.3: Zeeman_Spectrum_of_Hydrogen_Including_Spin.sce"
		   ]
		  },
  {
"cell_type": "code",
	   "execution_count": null,
	   "metadata": {
	    "collapsed": true
	   },
	   "outputs": [],
"source": [
"// Scilab code Ex9.3: Pg 311 (2005)\n",
"clc; clear;\n",
"e = 1.6e-019;   // Energy equivalent of 1 eV, J/eV\n",
"B = 1.00;   // Magnitude of magnetic field, tesla\n",
"n = 2;  // Initial state of the hydrogen atom\n",
"mu_B = 9.27e-024;   // Bohr's magneton, J/T\n",
"E_Z = mu_B*B/e;     // Zeeman energy, eV\n",
"E2 = -13.6/n^2;     // Energy of first excited state, eV\n",
"m_l = [-2, -1, 0, 1, 2];  // Orbital magnetic quantum number for l = 2\n",
"printf('\nThe energies of the electron (in eV) in n = 2 state are:\n');\n",
"for i = 1:1:5\n",
"    if m_l(i) < 0 then\n",
"        sig = '-';\n",
"    else\n",
"        sig = '+';\n",
"    end\n",
"    printf(' (%4.2f %s %4.2e) ', E2, sig, abs(E_Z*m_l(i)));\n",
"end\n",
"\n",
"// Result\n",
"// The energies of the electron (in eV) in n = 2 state are:\n",
"// (-3.40 - 1.16e-04)  (-3.40 - 5.79e-05)  (-3.40 + 0.00e+00)  (-3.40 + 5.79e-05)  (-3.40 + 1.16e-04"
   ]
   }
,
{
		   "cell_type": "markdown",
		   "metadata": {},
		   "source": [
			"## Example 9.4: Spin_orbit_energy_of_Sodium_doublet.sce"
		   ]
		  },
  {
"cell_type": "code",
	   "execution_count": null,
	   "metadata": {
	    "collapsed": true
	   },
	   "outputs": [],
"source": [
"// Scilab code Ex9.4: Pg 311 (2005)\n",
"clc; clear;\n",
"hc = 1240;    // Product of plank's constant & velocity of light, eV\n",
"lamda_1 = 588.995;    // Wavelength of first doublet of Na lines, nm\n",
"lamda_2 = 589.592;    // Wavelength of second doublet of Na lines, nm\n",
"delta_E = hc*(lamda_2 - lamda_1)/(lamda_1*lamda_2);     // Spin orbit energy, eV\n",
"printf('\nSpin orbit energy from doublet spacing = %4.2fe-03 eV', delta_E*1e+03);\n",
"\n",
"// Result\n",
"// Spin orbit energy from doublet spacing = 2.13e-03 eV"
   ]
   }
,
{
		   "cell_type": "markdown",
		   "metadata": {},
		   "source": [
			"## Example 9.5: Ground_state_of_Helium_atom.sce"
		   ]
		  },
  {
"cell_type": "code",
	   "execution_count": null,
	   "metadata": {
	    "collapsed": true
	   },
	   "outputs": [],
"source": [
"// Scilab code Ex9.5: Pg 316 (2005)\n",
"clc; clear;\n",
"n = 1;    // Principal quantum number\n",
"Z = 2;    // Atomic number of Helium\n",
"E_a = (-13.6*Z^2)/n^2;      // Energy of the electron in state 'a', eV\n",
"E_b = (-13.6*Z^2)/n^2;      // Energy of the electron in state 'b', eV\n",
"E = E_a + E_b;    // Total electronic energy of Helium, eV\n",
"printf('\nTotal electronic energy of Helium = %5.1f eV', E);\n",
"\n",
"// Result\n",
"// Total electronic energy of Helium = -108.8 eV"
   ]
   }
,
{
		   "cell_type": "markdown",
		   "metadata": {},
		   "source": [
			"## Example 9.6: Effective_atomic_number_for_3s_electron_in_Na.sce"
		   ]
		  },
  {
"cell_type": "code",
	   "execution_count": null,
	   "metadata": {
	    "collapsed": true
	   },
	   "outputs": [],
"source": [
"// Scilab code Ex9.6: Pg 317 (2005)\n",
"clc; clear;\n",
"E_i = 5.14;   // Ionisation energy of Na, eV\n",
"n = 3;   // Principal quantum number\n",
"Z_eff = sqrt((n^2*E_i)/13.6);    // Effective atmic number\n",
"printf('\nEffective atomic number for 3s electron in Na = %4.2f', Z_eff);\n",
"\n",
"// Result\n",
"// Effective atomic number for 3s electron in Na = 1.84"
   ]
   }
],
"metadata": {
		  "kernelspec": {
		   "display_name": "Scilab",
		   "language": "scilab",
		   "name": "scilab"
		  },
		  "language_info": {
		   "file_extension": ".sce",
		   "help_links": [
			{
			 "text": "MetaKernel Magics",
			 "url": "https://github.com/calysto/metakernel/blob/master/metakernel/magics/README.md"
			}
		   ],
		   "mimetype": "text/x-octave",
		   "name": "scilab",
		   "version": "0.7.1"
		  }
		 },
		 "nbformat": 4,
		 "nbformat_minor": 0
}
