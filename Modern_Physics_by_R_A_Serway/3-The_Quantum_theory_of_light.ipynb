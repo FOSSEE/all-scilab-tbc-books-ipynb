{
"cells": [
 {
		   "cell_type": "markdown",
	   "metadata": {},
	   "source": [
       "# Chapter 3: The Quantum theory of light"
	   ]
	},
{
		   "cell_type": "markdown",
		   "metadata": {},
		   "source": [
			"## Example 3.1: Temperature_of_su.sce"
		   ]
		  },
  {
"cell_type": "code",
	   "execution_count": null,
	   "metadata": {
	    "collapsed": true
	   },
	   "outputs": [],
"source": [
"// Scilab code Ex3.1: Pg 69 (2005)\n",
"clc; clear;\n",
"e_total = 1400;   // Total power per unit area, W/(m^2)\n",
"sigma = 5.6e-08;    // Stefan-Boltzmann constant\n",
"R = 1.5e+11;    // Earth-sun distance, m\n",
"R_s = 7.0e+08;   // Radius of sun, m\n",
"// Using Stefan's law & solving for T, we get\n",
"T = (e_total*R^2/(sigma*R_s^2))^0.25;   // Temperature of sun, K\n",
"printf('\nThe temperature of sun = %4d K', T);\n",
"\n",
"// Result\n",
"// The temperature of sun = 5820 K"
   ]
   }
,
{
		   "cell_type": "markdown",
		   "metadata": {},
		   "source": [
			"## Example 3.2: Quantum_oscillator_vs_classical_oscillator.sce"
		   ]
		  },
  {
"cell_type": "code",
	   "execution_count": null,
	   "metadata": {
	    "collapsed": true
	   },
	   "outputs": [],
"source": [
"// Scilab code Ex3.2: Pg 75 (2005)\n",
"clc; clear;\n",
"\n",
"// Part (a)\n",
"h = 6.63e-34;   // Plank's constant, Js\n",
"c = 3e+08;   // Velocity of light, m/s\n",
"lamda_green = 540e-09;   // Wavelength of green light, nm\n",
"delta_E_green = h*c/lamda_green/1.602e-19;    // Minimum energy change in green light, eV\n",
"lamda_red = 700e-09;    // Wavelength of red light, nm\n",
"delta_E_red = h*c/lamda_red/1.602e-19;    // Minimum energy change in red light, eV\n",
"\n",
"printf('\nMinimum energy change in green light = %4.2f eV', delta_E_green);\n",
"printf('\nMinimum energy change in red light = %4.2f eV', delta_E_red);\n",
"\n",
"// Part (b)\n",
"f = 0.50;   // Frequency, Hz\n",
"m = 0.1;    // Mass of pendulum, kg\n",
"l = 1;      // Length of pendulum, m\n",
"theta = %pi/180*10;   // Angle, radians\n",
"g = 9.8;   // Acceleration due to gravity, m/s^2\n",
"E = m*g*l*(1-cos(theta));\n",
"delta_E = (h*f)/(1.6e-19);    //  Minimum energy change in pendulum, eV\n",
"delta_E_f = (delta_E*1.6e-19)/E ;   // Fractional energy change \n",
"printf('\nFractional energy change = %3.1fe-32', delta_E_f*1e+32);\n",
"\n",
"// Result\n",
"// Minimum energy change in green light = 2.30 eV\n",
"// Minimum energy change in red light = 1.77 eV\n",
"// Fractional energy change = 2.2e-32 "
   ]
   }
,
{
		   "cell_type": "markdown",
		   "metadata": {},
		   "source": [
			"## Example 3.3: Stefan_law_from_Planck_distribution.sce"
		   ]
		  },
  {
"cell_type": "code",
	   "execution_count": null,
	   "metadata": {
	    "collapsed": true
	   },
	   "outputs": [],
"source": [
"// Scilab code Ex3.3: Pg 80 (2005)\n",
"clc; clear;\n",
"k_B = 1.381e-23;   // Boltzmann's constant, J/K\n",
"c = 3e+08;    // Velocity of light, m/s\n",
"h = 6.626e-34;    // Plank's constant, Js\n",
"// Since e_total = sigma*(T^4) = (2*(%pi)^5*(k_B)^4)/(15*(c^2)*(h^3))*T^4\n",
"sigma = (2*(%pi)^5*(k_B)^4)/(15*(c^2)*(h^3));\n",
"printf('\nThe value of sigma = %3.2fe-08 W/Sq.m/K^4', sigma*1e+08);\n",
"\n",
"// Result\n",
"// The value of sigma = 5.67e-08 W/Sq.m/K^4"
   ]
   }
,
{
		   "cell_type": "markdown",
		   "metadata": {},
		   "source": [
			"## Example 3.4: Time_lag_between_start_of_illumination_and_photocurrent_generation.sce"
		   ]
		  },
  {
"cell_type": "code",
	   "execution_count": null,
	   "metadata": {
	    "collapsed": true
	   },
	   "outputs": [],
"source": [
"// Scilab code Ex3.4: Pg 83 (2005)\n",
"clc; clear;\n",
"phi = 2.38;    // Work function for sodium, eV\n",
"I = 1e-07;    // Absorbed light intensity, mJcm^2/s\n",
"A = %pi*1e-16;    // Cross-sectional area, m^2\n",
"t = phi*1.6e-16/(I*A)   // Time lag, days\n",
"printf('\nTime lag between start of illumination and photocurrent generation = %3.1fe+07 s', t*1e-07);\n",
"\n",
"// Result\n",
"// Time lag between start of  illumination and photocurrent generation = 1.2e+07 s"
   ]
   }
,
{
		   "cell_type": "markdown",
		   "metadata": {},
		   "source": [
			"## Example 3.5: Time_lag_between_start_of_illumination_and_photocurrent_generation.sce"
		   ]
		  },
  {
"cell_type": "code",
	   "execution_count": null,
	   "metadata": {
	    "collapsed": true
	   },
	   "outputs": [],
"source": [
"// Scilab code Ex3.5: Pg 85 (2005)\n",
"clc; clear;\n",
"e = 1.6e-19;     // Electric charge, C\n",
"V_s = 4.3;    // Stopping potential, V\n",
"K_max = e*V_s;   // Maximum kinetic energy attained by photoelectrons, J\n",
"m_e = 9.11e-31   // Mass of electron, kg\n",
"// Since K.E = eV_s = 0.5m_e(v_max^2), therefore\n",
"v_max = sqrt((2*K_max)/m_e);    // Maximum velocity attained by photoelectron, m/s\n",
"printf('\nMaximum velocity attained by photoelectron = %3.1fe+06 m/s', v_max*1e-06);\n",
"\n",
"// Result\n",
"// Maximum velocity attained by photoelectron = 1.2e+06 m/s"
   ]
   }
,
{
		   "cell_type": "markdown",
		   "metadata": {},
		   "source": [
			"## Example 3.6: Photoelectric_effect_for_iro.sce"
		   ]
		  },
  {
"cell_type": "code",
	   "execution_count": null,
	   "metadata": {
	    "collapsed": true
	   },
	   "outputs": [],
"source": [
"// Scilab code Ex3.6: Pg 85 (2005)\n",
"clc; clear;\n",
"\n",
"// Part (a)\n",
"I_o = 1;    // Total intensity of light, micro-W/cm^2\n",
"I = (0.030)*(.040)*I_o;    // Intensity available to produce photoelectric effect, nW/cm^2\n",
"printf('\nIntensity available to produce photoelectric effect = %3.1f nW/cm^2', I*1e+03);\n",
"\n",
"// Part (b)\n",
"h = 6.6e-34;   // Planck's constant, Js\n",
"c = 3e+08;    // Velocity of light, m/s\n",
"lamda = 250e-09;    // Wavelength, m\n",
"e_per_sec = (I*lamda*1e-06)/(h*c);   // Number of electrons emitted per second\n",
"printf('\nNumber of electrons emitted per second = %3.1e', e_per_sec);\n",
"\n",
"// Part (c)\n",
"e = 1.6e-019;   // Energy equivalent of 1 eV, C\n",
"i = (e_per_sec)*e;     // Electric current in phototube, A\n",
"printf('\nElectric current in phototube = %3.1e A', i);\n",
"\n",
"// Part (d)\n",
"f_o = 1.1e+15;   // Cut-off frequeny, Hz\n",
"phi = (h*f_o)/e;   // Work function for iron, eV\n",
"printf('\nWork function for iron = %3.1f eV', phi);\n",
"\n",
"// Part (e)\n",
"V_s = (h*c/(e*lamda))-phi;        // Stopping voltage, V\n",
"printf('\nStopping voltage = %4.2f V', V_s);\n",
"\n",
"// Result\n",
"// Intensity available to produce photoelectric effect = 1.2 nW/cm^2\n",
"// Number of electrons emitted per second = 1.5e-09\n",
"// Electric current in phototube = 2.4e-10 A\n",
"// Work function for iron = 4.5 eV\n",
"// Stopping voltage = 0.41 V"
   ]
   }
,
{
		   "cell_type": "markdown",
		   "metadata": {},
		   "source": [
			"## Example 3.7: Compton_shift_for_carbon.sce"
		   ]
		  },
  {
"cell_type": "code",
	   "execution_count": null,
	   "metadata": {
	    "collapsed": true
	   },
	   "outputs": [],
"source": [
"// Scilab code Ex3.7: Pg 93 (2005)\n",
"clc; clear;\n",
"h = 6.63e-34;   // Plank's constant, Js\n",
"m_e = 9.11e-31;   // Mass of electron, kg\n",
"c = 3e+08;    // Velocity of light, m/s\n",
"theta = ((%pi)/180)*45;    // Angle, radians\n",
"delta_lamda = (h/(m_e*c)*(1-cos(theta)));   // Compton shift, nm\n",
"lamda_o = 0.200e-09;    // Wavelength of X-ray, nm\n",
"lamda = delta_lamda+lamda_o   // Increased wavelength of scattered X-ray, nm\n",
"printf('\nIncreased wavelength of scattered X-ray = %8.6f nm', lamda*1e+09);\n",
"\n",
"// Result\n",
"// Increased wavelength of scattered X-ray = 0.200711 nm"
   ]
   }
,
{
		   "cell_type": "markdown",
		   "metadata": {},
		   "source": [
			"## Example 3.8: Xray_photons_vs_visible_photons.sce"
		   ]
		  },
  {
"cell_type": "code",
	   "execution_count": null,
	   "metadata": {
	    "collapsed": true
	   },
	   "outputs": [],
"source": [
"// Scilab code Ex3.8: Pg 93 (2005)\n",
"clc; clear;\n",
"\n",
"// Part (a)\n",
"h = 6.63e-34;    // Plank's constant, Js\n",
"q = 1.6e-19;    // Electric charge, C\n",
"m_e = 9.11e-31;    // Mass of electron, kg\n",
"c = 3e+08;     // Velocity of light, m/s\n",
"theta = ((%pi)/180)*90;    // Angle, radians\n",
"delta_lamda = (h/(m_e*c)*(1-cos(theta)));              // Compton shift, Angstrom\n",
"lamda_C = 0.0106;   // Wavelength of gamma-rays from Cobalt, \n",
"f_dl_C = delta_lamda/ lamda_C;   // Fractional change in wavelength of gamma rays from cobalt\n",
"printf('\nFractional change in wavelength of gamma rays from Cobalt = %4.2f', f_dl_C*1e+10);\n",
"lamda_Mo = 0.712;    // Wavelength of gamma-rays from Molybdenum, Angstrom \n",
"f_dl_Mo = delta_lamda/ lamda_Mo;                 // Fractional change in wavelength of gamma rays from Molybdenum\n",
"printf('\nFractional change in wavelength of gamma rays from Molybdenum = %6.4f', f_dl_Mo*1e+10);\n",
"lamda_Hg = 5461;    // Wavelength of gamma-rays from Mercury, Angstrom\n",
"f_dl_Hg = delta_lamda/ lamda_Hg;                 // Fractional change in wavelength of gamma rays from mercury\n",
"printf('\nFractional change in wavelength of gamma rays from Mercury = %4.2fe-06', f_dl_Hg*1e+16);\n",
"\n",
"// Part (b)\n",
"lamda = 0.712e-10;   // Wavelength of X-rays, Angstrom\n",
"E = (h*c)/(q*lamda);   // Energy of X-rays' photon, eV\n",
"printf('\nEnergy of X-rays photon = %5.0f eV\n', E);\n",
"\n",
"// Result\n",
"// Fractional change in wavelength of gamma rays from Cobalt = 2.29\n",
"// Fractional change in wavelength of gamma rays from Molybdenum = 0.0341\n",
"// Fractional change in wavelength of gamma rays from Mercury = 4.45fe-06\n",
"// Energy of X-rays photon = 17460 eV"
   ]
   }
,
{
		   "cell_type": "markdown",
		   "metadata": {},
		   "source": [
			"## Example 3.9: Gravitational_redshift_for_a_white_dwarf.sce"
		   ]
		  },
  {
"cell_type": "code",
	   "execution_count": null,
	   "metadata": {
	    "collapsed": true
	   },
	   "outputs": [],
"source": [
"// Scilab code Ex3.9: Pg 96 (2005)\n",
"clc; clear;\n",
"M = 1.99e+30;   // Mass of sun, kg\n",
"R_s = 6.37e+06;    // Radius of earth, m\n",
"G = 6.67e-11;   // Gravitational constant, Nm^2/kg^2\n",
"lamda = 300e-09;   // Wavelength, m\n",
"c = 3e+08;     // Velocity of light, m/s\n",
"delta_lamda = lamda*((G*M)/(R_s*c^2));   // Gravitational redshift, angstrom\n",
"printf('\nGravitational redshift = %3.1f angstrom', delta_lamda*1e+10);\n",
"\n",
"// Result\n",
"// Gravitational redshift = 0.7 angstrom"
   ]
   }
],
"metadata": {
		  "kernelspec": {
		   "display_name": "Scilab",
		   "language": "scilab",
		   "name": "scilab"
		  },
		  "language_info": {
		   "file_extension": ".sce",
		   "help_links": [
			{
			 "text": "MetaKernel Magics",
			 "url": "https://github.com/calysto/metakernel/blob/master/metakernel/magics/README.md"
			}
		   ],
		   "mimetype": "text/x-octave",
		   "name": "scilab",
		   "version": "0.7.1"
		  }
		 },
		 "nbformat": 4,
		 "nbformat_minor": 0
}
