{
"cells": [
 {
		   "cell_type": "markdown",
	   "metadata": {},
	   "source": [
       "# Chapter 5: Matter waves"
	   ]
	},
{
		   "cell_type": "markdown",
		   "metadata": {},
		   "source": [
			"## Example 5.10: Width_of_spectral_lines.sce"
		   ]
		  },
  {
"cell_type": "code",
	   "execution_count": null,
	   "metadata": {
	    "collapsed": true
	   },
	   "outputs": [],
"source": [
"// Scilab code Ex5.10: Pg 178 (2005)\n",
"clc; clear;\n",
"\n",
"// Part (a)\n",
"h_cross = 1.05e-34;   // Reduced Plank's constant, J-s\n",
"h = 6.63e-34;    // Plank's constant, J-s\n",
"delta_t = 1.0e-08;    // Average time to measure the excited state, s\n",
"delta_E = h_cross/(2*delta_t);   // Uncertainty in energy of the excited state, J\n",
"// Since delta_E = h*delta_f, solving for delta_f\n",
"delta_f = delta_E/h;    // Line width of emitted light, Hz\n",
"printf('\nLine width of emitted light = %2.0e Hz', delta_f);\n",
"\n",
"// Part (b)\n",
"c = 3e+08;    // Velocity of light, m/s\n",
"lamda = 500e-09;      // Wavelength of spectral line, m\n",
"f_o = c/lamda;      // Center frequency of spectral line, Hz\n",
"f_b = delta_f/f_o;   // Fractional broadening of spectral line\n",
"printf('\nFractional broadening of spectral line = %3.1e', f_b);\n",
"\n",
"// Result\n",
"// Line width of emitted light = 8.0e+06 Hz\n",
"// Fractional broadening of spectral line = 1.3e-08"
   ]
   }
,
{
		   "cell_type": "markdown",
		   "metadata": {},
		   "source": [
			"## Example 5.1: Wave_properties_of_a_baseball.sce"
		   ]
		  },
  {
"cell_type": "code",
	   "execution_count": null,
	   "metadata": {
	    "collapsed": true
	   },
	   "outputs": [],
"source": [
"// Scilab code Ex5.1: Pg 154 (2005)\n",
"clc; clear;\n",
"h = 6.63e-34;     // Plank's constant, Js\n",
"m = 140e-03;     // Mass of baseball, kg\n",
"v = 27;     // Velocity of baseball, m/s\n",
"p = m*v;   // Momentum of baseball, kgm/s\n",
"lamda = h/p;   // de Broglie wavelength associated with baseball, m\n",
"printf('\nde-Broglie wavelength associated with baseball = %3.1e m', lamda);\n",
"\n",
"// Result\n",
"// de-Broglie wavelength associated with baseball = 1.8e-34 m "
   ]
   }
,
{
		   "cell_type": "markdown",
		   "metadata": {},
		   "source": [
			"## Example 5.2: de_Broglie_wavelength_of_an_electron.sce"
		   ]
		  },
  {
"cell_type": "code",
	   "execution_count": null,
	   "metadata": {
	    "collapsed": true
	   },
	   "outputs": [],
"source": [
"// Scilab code Ex5.2: Pg 154 (2005)\n",
"clc; clear;\n",
"\n",
"// Part (b)\n",
"h = 6.63e-34;     // Plank's constant, Js\n",
"m_e = 9.11e-31;   // Mass of electron, kg\n",
"q = 1.6e-19;     // Charge on electron, C\n",
"V = 50;    // Electric potential applied, V\n",
"lamda = h/(sqrt(2*m_e*q*V));     // de Broglie wavelength of an electron, m\n",
"printf('\nde Broglie wavelength of an electron = %3.1f angstrom', lamda/1e-10);\n",
"\n",
"// Result\n",
"// de Broglie wavelength of an electron = 1.7 angstrom "
   ]
   }
,
{
		   "cell_type": "markdown",
		   "metadata": {},
		   "source": [
			"## Example 5.3: Diffraction_of_neutrons_at_the_crystal_lattice.sce"
		   ]
		  },
  {
"cell_type": "code",
	   "execution_count": null,
	   "metadata": {
	    "collapsed": true
	   },
	   "outputs": [],
"source": [
"// Scilab code Ex5.3: Pg 158 (2005)\n",
"clc; clear;\n",
"h = 6.63e-34;    // Plank's constant, J-s\n",
"lamda = 1e-10;     // de Broglie wavelength of neutron, m\n",
"p = h/lamda;     // Momentum associated with neutron, kg-m/s\n",
"m_n = 1.66e-27;     // Mass of neutron, kg\n",
"e = 1.6e-19;    // Energy equivalent of 1 eV, J/eV\n",
"K = p^2/(2*m_n);    // Kinetic energy of neutron, eV\n",
"printf('\nThe momentum of neutrons = %4.2e kg-m/s', p)\n",
"printf('\nThe kinetic energy of neutrons = %4.2fe-20 J = %6.4f eV', K*1e+20, K/e);\n",
"\n",
"// Result\n",
"// The momentum of neutrons = 6.63e-24 kg-m/s\n",
"// The kinetic energy of neutrons = 1.32e-20 J = 0.0828 eV "
   ]
   }
,
{
		   "cell_type": "markdown",
		   "metadata": {},
		   "source": [
			"## Example 5.8: Uncertainity_principle_for_macroscopic_objects.sce"
		   ]
		  },
  {
"cell_type": "code",
	   "execution_count": null,
	   "metadata": {
	    "collapsed": true
	   },
	   "outputs": [],
"source": [
"// Scilab code Ex5.8: Pg 177 (2005)\n",
"clc; clear;\n",
"h_cross = 1.05e-34;    // Reduced Plank's constant, J-s\n",
"delta_x = 15;      // Uncertainity in position, m\n",
"v_x = 2;      // Velocity of ball, m/s\n",
"m = 100e-03;     // Mass of ball, kg\n",
"delta_p_x = h_cross/(2*delta_x);    // Uncertainity in momentum, kg-m/s\n",
"delta_v_x = delta_p_x/m;     // Minimum spread in velcoity, m/s\n",
"U_r = delta_v_x/v_x;     // Relative uncertainity in velocity of ball\n",
"printf('\nThe minimum spread in velcoity of ball = %3.1e m/s', delta_v_x);\n",
"printf('\nThe relative uncertainity in velocity of ball = %4.2e', U_r);\n",
"\n",
"// Result\n",
"// The minimum spread in velcoity of ball = 3.5e-35 m/s\n",
"// The relative uncertainity in velocity of ball = 1.75e-35 "
   ]
   }
,
{
		   "cell_type": "markdown",
		   "metadata": {},
		   "source": [
			"## Example 5.9: Kinetic_energy_of_electron_confined_within_the_nucleus.sce"
		   ]
		  },
  {
"cell_type": "code",
	   "execution_count": null,
	   "metadata": {
	    "collapsed": true
	   },
	   "outputs": [],
"source": [
"// Scilab code Ex5.9: Pg 178 (2005)\n",
"clc; clear;\n",
"delta_x = 1.0e-14/2;                     // Uncertainity in position of electron, m\n",
"q = 1.6e-19;                           // Charge on electron, C\n",
"h_cross = 1.05e-34;                // Reduced Plank's constant, J-s\n",
"c = 3e+08;                         // Velocity of light, m/s\n",
"delta_p_x = (h_cross*c)/(2*delta_x*q);                     // Uncertainity in momentum, eV/c\n",
"E_r = 0.551e+06;                         // Rest mass energy if electron, eV\n",
"E = sqrt((delta_p_x)^2 + (E_r)^2);\n",
"K = E - E_r;                           // Kinetic energy of electron within nucleus, eV\n",
"printf('\nKinetic energy of electron within nucleus = %4.1f MeV', K/1e+06);\n",
"\n",
"// Result\n",
"// Kinetic energy of electron within nucleus = 19.1 MeV"
   ]
   }
],
"metadata": {
		  "kernelspec": {
		   "display_name": "Scilab",
		   "language": "scilab",
		   "name": "scilab"
		  },
		  "language_info": {
		   "file_extension": ".sce",
		   "help_links": [
			{
			 "text": "MetaKernel Magics",
			 "url": "https://github.com/calysto/metakernel/blob/master/metakernel/magics/README.md"
			}
		   ],
		   "mimetype": "text/x-octave",
		   "name": "scilab",
		   "version": "0.7.1"
		  }
		 },
		 "nbformat": 4,
		 "nbformat_minor": 0
}
