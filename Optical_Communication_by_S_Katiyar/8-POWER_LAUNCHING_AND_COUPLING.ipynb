{
"cells": [
 {
		   "cell_type": "markdown",
	   "metadata": {},
	   "source": [
       "# Chapter 8: POWER LAUNCHING AND COUPLING"
	   ]
	},
{
		   "cell_type": "markdown",
		   "metadata": {},
		   "source": [
			"## Example 8.1_a: optical_power_coupled.sce"
		   ]
		  },
  {
"cell_type": "code",
	   "execution_count": null,
	   "metadata": {
	    "collapsed": true
	   },
	   "outputs": [],
"source": [
"// Example 8.1.a;//OPTICAL POWER coupled\n",
"clc;\n",
"clear;\n",
"close;\n",
"B0=100;//in W per cm2 sr\n",
"rs=0.002;// radiating radius in cm\n",
"a=0.0015;//core radius in cm\n",
"NA=0.3;//numerical aperture\n",
"Pc=(B0*rs^2*%pi^2*NA^2)*10^3;//POWER COUPLED IN STEP INDEX FIBER in mili watt\n",
"disp(Pc,'POWER COUPLED IN STEP INDEX FIBER in mili watt')"
   ]
   }
,
{
		   "cell_type": "markdown",
		   "metadata": {},
		   "source": [
			"## Example 8.1_b: core_radius.sce"
		   ]
		  },
  {
"cell_type": "code",
	   "execution_count": null,
	   "metadata": {
	    "collapsed": true
	   },
	   "outputs": [],
"source": [
"// Example 8.1.b;//OPTICAL POWER coupled in fiber\n",
"clc;\n",
"clear;\n",
"close;\n",
"B0=100;//in W per cm2 sr\n",
"rs=0.002;// radiating radius in cm\n",
"a=0.0015;//core radius in cm\n",
"NA=0.3;//numerical aperture\n",
"Pc=(B0*a^2*%pi^2*NA^2)*10^3;//POWER COUPLED IN FIBER in mili watt\n",
"disp(Pc,'POWER COUPLED IN FIBER in mili watt')"
   ]
   }
,
{
		   "cell_type": "markdown",
		   "metadata": {},
		   "source": [
			"## Example 8.2: power_distribution_coefficients.sce"
		   ]
		  },
  {
"cell_type": "code",
	   "execution_count": null,
	   "metadata": {
	    "collapsed": true
	   },
	   "outputs": [],
"source": [
"// Example 8.2;//lateral power distribution coefficient\n",
"clc;\n",
"clear;\n",
"close;\n",
"th=5;//power beam width angle in degree\n",
"ph=0;//lateral angle in degree\n",
"L=round((log10(1/2))/(log10(cosd(th))));\n",
"disp(L,'lateral power distribution coefficient')"
   ]
   }
,
{
		   "cell_type": "markdown",
		   "metadata": {},
		   "source": [
			"## Example 8.3: power_coupled.sce"
		   ]
		  },
  {
"cell_type": "code",
	   "execution_count": null,
	   "metadata": {
	    "collapsed": true
	   },
	   "outputs": [],
"source": [
"// Example 8.3;//power coupled\n",
"clc;\n",
"clear;\n",
"close;\n",
"n1=1.48;//core refractive index\n",
"n2=1.46;//cladiing refractive index\n",
"Po=150;//output power in micro watt\n",
"NA=sqrt(n1^2-n2^2);//numerical aperture\n",
"Pin=Po*NA^2;\n",
"disp(Pin,'Power couled in micro watt')"
   ]
   }
,
{
		   "cell_type": "markdown",
		   "metadata": {},
		   "source": [
			"## Example 8.4: fresnel_reflection_coefficient.sce"
		   ]
		  },
  {
"cell_type": "code",
	   "execution_count": null,
	   "metadata": {
	    "collapsed": true
	   },
	   "outputs": [],
"source": [
"// Example 8.4;//fresenel reflection coefficient\n",
"clc;\n",
"clear;\n",
"close;\n",
"n1=1.45;//Core refrative index\n",
"n2=1;//refractive index of air\n",
"R=((n1-n2)/(n1+n2))^2;//Fresenel Coefficient\n",
"disp(R,'fresenel reflection coefficient is')"
   ]
   }
,
{
		   "cell_type": "markdown",
		   "metadata": {},
		   "source": [
			"## Example 8.5: compare_optical_powers.sce"
		   ]
		  },
  {
"cell_type": "code",
	   "execution_count": null,
	   "metadata": {
	    "collapsed": true
	   },
	   "outputs": [],
"source": [
"// Example 8.5;//Compare OPTICAL POWER \n",
"clc;\n",
"clear;\n",
"close;\n",
"a=20;//core radius in micro meter\n",
"Bo=100;//in W per cm2 sr\n",
"rs=35;// radiating radius in micro meter\n",
"rs1=50;//\n",
"NA=0.2;//numerical aperture\n",
"Ps1= (%pi^2*(rs*10^-6)^2*Bo*NA^2)*10^7;\n",
"Ps2= (((rs/rs1)^2)*Ps1);//\n",
"disp(Ps1,'POWER when area is large in micro watt')\n",
"disp(Ps2,'power wHEN AREA IS SMALL in milli watt')"
   ]
   }
],
"metadata": {
		  "kernelspec": {
		   "display_name": "Scilab",
		   "language": "scilab",
		   "name": "scilab"
		  },
		  "language_info": {
		   "file_extension": ".sce",
		   "help_links": [
			{
			 "text": "MetaKernel Magics",
			 "url": "https://github.com/calysto/metakernel/blob/master/metakernel/magics/README.md"
			}
		   ],
		   "mimetype": "text/x-octave",
		   "name": "scilab",
		   "version": "0.7.1"
		  }
		 },
		 "nbformat": 4,
		 "nbformat_minor": 0
}
