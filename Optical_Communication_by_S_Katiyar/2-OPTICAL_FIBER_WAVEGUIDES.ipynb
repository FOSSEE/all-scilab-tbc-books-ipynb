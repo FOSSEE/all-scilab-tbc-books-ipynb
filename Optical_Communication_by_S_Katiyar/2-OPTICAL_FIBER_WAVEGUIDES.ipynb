{
"cells": [
 {
		   "cell_type": "markdown",
	   "metadata": {},
	   "source": [
       "# Chapter 2: OPTICAL FIBER WAVEGUIDES"
	   ]
	},
{
		   "cell_type": "markdown",
		   "metadata": {},
		   "source": [
			"## Example 2.10_a: core_radius.sce"
		   ]
		  },
  {
"cell_type": "code",
	   "execution_count": null,
	   "metadata": {
	    "collapsed": true
	   },
	   "outputs": [],
"source": [
"// Example 2.10.a;Core Readius\n",
"clc;\n",
"clear;\n",
"close;\n",
"n1=1.450;//Waveguide Refractive Index\n",
"n2=1.447;//Cladding Refractive Index\n",
"h= 1.3;// Wavelenght in micrometers\n",
"NA=sqrt(n1^2-n2^2);// Numerical Aperture\n",
"a= (2.405*h)/(2*%pi*NA);// Core radius\n",
"disp(a,'Core radius in micro meter')"
   ]
   }
,
{
		   "cell_type": "markdown",
		   "metadata": {},
		   "source": [
			"## Example 2.10_b: numerical_aperture.sce"
		   ]
		  },
  {
"cell_type": "code",
	   "execution_count": null,
	   "metadata": {
	    "collapsed": true
	   },
	   "outputs": [],
"source": [
"// Example 2.10.b;Numerical Aperture\n",
"clc;\n",
"clear;\n",
"close;\n",
"n1=1.450;//Waveguide Refractive Index\n",
"n2=1.447;//Cladding Refractive Index\n",
"h= 1.3;// Wavelenght in micrometers\n",
"NA=sqrt(n1^2-n2^2);// Numerical Aperture\n",
"disp(NA,'Numerical Aperture is')"
   ]
   }
,
{
		   "cell_type": "markdown",
		   "metadata": {},
		   "source": [
			"## Example 2.10_c: acceptance_angle.sce"
		   ]
		  },
  {
"cell_type": "code",
	   "execution_count": null,
	   "metadata": {
	    "collapsed": true
	   },
	   "outputs": [],
"source": [
"// Example 2.10.c;Acceptance Angle\n",
"clc;\n",
"clear;\n",
"close;\n",
"n1=1.450;//Waveguide Refractive Index\n",
"n2=1.447;//Cladding Refractive Index\n",
"h= 1.3;// Wavelenght in micrometers\n",
"NA=sqrt(n1^2-n2^2);// Numerical Aperture\n",
"Omax=asind(NA);//MAXIMUM ACCEPTANCE ANGLE\n",
"disp(Omax,'MAXIMUM ACCEPTANCE ANGLE IN DEGREE')"
   ]
   }
,
{
		   "cell_type": "markdown",
		   "metadata": {},
		   "source": [
			"## Example 2.11_a: critical_angle.sce"
		   ]
		  },
  {
"cell_type": "code",
	   "execution_count": null,
	   "metadata": {
	    "collapsed": true
	   },
	   "outputs": [],
"source": [
"// Example 2.11.a;Critical Angle\n",
"clc;\n",
"clear;\n",
"close;\n",
"n1=1.50;//Waveguide Refractive Index\n",
"n2=1.47;//Cladding Refractive Index\n",
"Oc=asind(n2/n1);//Critical Angle\n",
"disp(Oc,'CRITICAL ANGLE IN DEGREE')"
   ]
   }
,
{
		   "cell_type": "markdown",
		   "metadata": {},
		   "source": [
			"## Example 2.11_b: numerical_aperture.sce"
		   ]
		  },
  {
"cell_type": "code",
	   "execution_count": null,
	   "metadata": {
	    "collapsed": true
	   },
	   "outputs": [],
"source": [
"// Example 2.11.b;Numerical Aperture\n",
"clc;\n",
"clear;\n",
"close;\n",
"n1=1.50;//Waveguide Refractive Index\n",
"n2=1.47;//Cladding Refractive Index\n",
"NA=sqrt(n1^2-n2^2);// Numerical Aperture\n",
"disp(NA,'Numerical Aperture is')"
   ]
   }
,
{
		   "cell_type": "markdown",
		   "metadata": {},
		   "source": [
			"## Example 2.11_c: acceptance_angle.sce"
		   ]
		  },
  {
"cell_type": "code",
	   "execution_count": null,
	   "metadata": {
	    "collapsed": true
	   },
	   "outputs": [],
"source": [
"// Example 2.11.c;Acceptance Angle\n",
"clc;\n",
"clear;\n",
"close;\n",
"n1=1.50;//Waveguide Refractive Index\n",
"n2=1.47;//Cladding Refractive Index\n",
"h= 1.3;// Wavelenght in micrometers\n",
"NA=sqrt(n1^2-n2^2);// Numerical Aperture\n",
"Oa=asind(NA);//ACCEPTANCE ANGLE\n",
"disp(Oa,' ACCEPTANCE ANGLE IN DEGREE')"
   ]
   }
,
{
		   "cell_type": "markdown",
		   "metadata": {},
		   "source": [
			"## Example 2.12: acceptance_angle.sce"
		   ]
		  },
  {
"cell_type": "code",
	   "execution_count": null,
	   "metadata": {
	    "collapsed": true
	   },
	   "outputs": [],
"source": [
"// Example 2.12;Acceptance Angle\n",
"clc;\n",
"clear;\n",
"close;\n",
"NA=0.4;// Numerical Aperture\n",
"r= 50;// Angle at which angle changes for skew rays in degreee\n",
"m=cosd(r);\n",
"Oas=asind(NA/m)\n",
"disp(Oas,' ACCEPTANCE ANGLE FOR SKEW RAYS IN DEGREE')"
   ]
   }
,
{
		   "cell_type": "markdown",
		   "metadata": {},
		   "source": [
			"## Example 2.13_a: normalized_frequency.sce"
		   ]
		  },
  {
"cell_type": "code",
	   "execution_count": null,
	   "metadata": {
	    "collapsed": true
	   },
	   "outputs": [],
"source": [
"// Example 2.13.a:Normaised Frequency\n",
"clc;\n",
"clear;\n",
"close;\n",
"n1=1.48;//Waveguide Refractive Index\n",
"d= 0.015;// Cange in core-cladding refractive index\n",
"a=40;// core radius in micro meters\n",
"h=0.85;//wavelngth in micro meters\n",
"v=(2*%pi*a*n1*sqrt(2*d))/h;//Normalised wavelngth\n",
"disp(v,'normalised frequency ')"
   ]
   }
,
{
		   "cell_type": "markdown",
		   "metadata": {},
		   "source": [
			"## Example 2.13_b: number_of_modes.sce"
		   ]
		  },
  {
"cell_type": "code",
	   "execution_count": null,
	   "metadata": {
	    "collapsed": true
	   },
	   "outputs": [],
"source": [
"// Example 2.13.b:Number of modes\n",
"clc;\n",
"clear;\n",
"close;\n",
"n1=1.48;//Waveguide Refractive Index\n",
"d= 0.015;// Cange in core-cladding refractive index\n",
"a=40;// core radius in micro meters\n",
"h=0.85;//wavelngth in micro meters\n",
"v=(2*%pi*a*n1*sqrt(2*d))/h;//Normalised wavelngth\n",
"m= round (v^2/2);// number of modes\n",
"disp(m,'number of modes')\n",
"disp('the fiber have v=76 and it gives nearly 3000 guided modes')"
   ]
   }
,
{
		   "cell_type": "markdown",
		   "metadata": {},
		   "source": [
			"## Example 2.14_a: cutoff_frequency.sce"
		   ]
		  },
  {
"cell_type": "code",
	   "execution_count": null,
	   "metadata": {
	    "collapsed": true
	   },
	   "outputs": [],
"source": [
"// Example 2.14.a:Cut off wavelength\n",
"clc;\n",
"clear;\n",
"close;\n",
"n1=1.48;//Waveguide Refractive Index\n",
"d= 0.01;// Cange in core-cladding refractive index\n",
"a=2;// parabolic refractive index\n",
"h=1.3;//wavelngth in micro meters\n",
"v= 2.4*sqrt(1+(2/a));//maximum value of normalised frequence\n",
"disp(v,'maximum value of normalised frequency')\n",
""
   ]
   }
,
{
		   "cell_type": "markdown",
		   "metadata": {},
		   "source": [
			"## Example 2.14_b: core_radius.sce"
		   ]
		  },
  {
"cell_type": "code",
	   "execution_count": null,
	   "metadata": {
	    "collapsed": true
	   },
	   "outputs": [],
"source": [
"// Example 2.14.b:Maximum Core Readius\n",
"clc;\n",
"clear;\n",
"close;\n",
"n1=1.48;//Waveguide Refractive Index\n",
"d= 0.01;// Cange in core-cladding refractive index\n",
"a=2;// parabolic refractive index\n",
"h=1.3;//wavelngth in micro meters\n",
"v= 2.4*sqrt(1+(2/a));//maximum value of normalised frequence\n",
"a= (v*h)/(2*%pi*n1*sqrt(2*d));//Core Radius\n",
"disp(a,'maximum core radius in micro meters')\n",
""
   ]
   }
,
{
		   "cell_type": "markdown",
		   "metadata": {},
		   "source": [
			"## Example 2.15: cut_off_wavelength.sce"
		   ]
		  },
  {
"cell_type": "code",
	   "execution_count": null,
	   "metadata": {
	    "collapsed": true
	   },
	   "outputs": [],
"source": [
"// Example 2.15:Cutoff Wavelengt\n",
"clc;\n",
"clear;\n",
"close;\n",
"n1=1.46;//Waveguide Refractive Index\n",
"a=4.5;// core radius in micro meters\n",
"d= 0.0025;// Cange in core-cladding refractive index\n",
"Hc= (2*%pi*a*sqrt(2*d)*n1)/2.405;\n",
"disp(Hc,'Cutoff wavelenght in micro meters')"
   ]
   }
,
{
		   "cell_type": "markdown",
		   "metadata": {},
		   "source": [
			"## Example 2.16: numerical_aperture_and_acceptance_angle.sce"
		   ]
		  },
  {
"cell_type": "code",
	   "execution_count": null,
	   "metadata": {
	    "collapsed": true
	   },
	   "outputs": [],
"source": [
"// Example 2.16;Numerical Aperture & Acceptance Angle\n",
"clc;\n",
"clear;\n",
"close;\n",
"n1=1.45;//Waveguide Refractive Index\n",
"n2=1.40;//Cladding Refractive Index\n",
"NA=sqrt(n1^2-n2^2);// Numerical Aperture\n",
"disp(NA,'Numerical Aperture is')\n",
"Om=asind(NA);\n",
"disp(Om,'Acceptance angle in degree is')"
   ]
   }
,
{
		   "cell_type": "markdown",
		   "metadata": {},
		   "source": [
			"## Example 2.17_a: CLADDING_INDEX.sce"
		   ]
		  },
  {
"cell_type": "code",
	   "execution_count": null,
	   "metadata": {
	    "collapsed": true
	   },
	   "outputs": [],
"source": [
"// Example 2.17.a:Cladding Index\n",
"clc;\n",
"clear;\n",
"close;\n",
"n1=1.5;//Waveguide Refractive Index\n",
"d= 0.0005;// Cange in core-cladding refractive index\n",
"n2= n1-(d*n1);\n",
"disp(n2,'Refradctive index of cladding is')"
   ]
   }
,
{
		   "cell_type": "markdown",
		   "metadata": {},
		   "source": [
			"## Example 2.17_b: critical_internal_reflection_angle.sce"
		   ]
		  },
  {
"cell_type": "code",
	   "execution_count": null,
	   "metadata": {
	    "collapsed": true
	   },
	   "outputs": [],
"source": [
"// Example 2.17.b:Critical Internal Reflection Angle\n",
"clc;\n",
"clear;\n",
"close;\n",
"n1=1.5;//Waveguide Refractive Index\n",
"d= 0.0005;// Cange in core-cladding refractive index\n",
"n2= n1-(d*n1);\n",
"Oc=asind(n2/n1);\n",
"disp(Oc,'Critical Internal Reflection angle in degree is')"
   ]
   }
,
{
		   "cell_type": "markdown",
		   "metadata": {},
		   "source": [
			"## Example 2.17_c: acceptance_angle.sce"
		   ]
		  },
  {
"cell_type": "code",
	   "execution_count": null,
	   "metadata": {
	    "collapsed": true
	   },
	   "outputs": [],
"source": [
"// Example 2.17.c: External Critical Acceptance Angle\n",
"clc;\n",
"clear;\n",
"close;\n",
"n1=1.5;//Waveguide Refractive Index\n",
"d= 0.0005;// Cange in core-cladding refractive index\n",
"n2= n1-(d*n1);\n",
"n0=1;// For air\n",
"Om=asind(sqrt(n1^2-n2^2)/n0);\n",
"disp(Om,'External Critical Acceptance angle in degree is')"
   ]
   }
,
{
		   "cell_type": "markdown",
		   "metadata": {},
		   "source": [
			"## Example 2.17_d: numerical_aperture.sce"
		   ]
		  },
  {
"cell_type": "code",
	   "execution_count": null,
	   "metadata": {
	    "collapsed": true
	   },
	   "outputs": [],
"source": [
"// Example 2.17.d: Numerical Aperture\n",
"clc;\n",
"clear;\n",
"close;\n",
"n1=1.5;//Waveguide Refractive Index\n",
"d= 0.0005;// Cange in core-cladding refractive index\n",
"NA=n1*sqrt(2*d);\n",
"disp(NA,'numerical aperture is')"
   ]
   }
,
{
		   "cell_type": "markdown",
		   "metadata": {},
		   "source": [
			"## Example 2.18: acceptance_angle.sce"
		   ]
		  },
  {
"cell_type": "code",
	   "execution_count": null,
	   "metadata": {
	    "collapsed": true
	   },
	   "outputs": [],
"source": [
"// Example 2.18:Critical Acceptance Angle\n",
"clc;\n",
"clear;\n",
"close;\n",
"n2=1.59;//Cladding Refractive Index\n",
"NA=0.20;// NUMERICAL APERTURE IN AIR\n",
"n1= sqrt(NA^2+n2^2);// Core refractive index\n",
"n0=1.33;//refractive index of water\n",
"NA=sqrt(n1^2-n2^2)/n0;// Numerical aperture in water\n",
"Om=asind(NA);\n",
"disp(Om,' Acceptance angle in degree is')"
   ]
   }
,
{
		   "cell_type": "markdown",
		   "metadata": {},
		   "source": [
			"## Example 2.19_a: numerical_aperture.sce"
		   ]
		  },
  {
"cell_type": "code",
	   "execution_count": null,
	   "metadata": {
	    "collapsed": true
	   },
	   "outputs": [],
"source": [
"// Example 2.19.A:Numerical Aperture\n",
"clc;\n",
"clear;\n",
"close;\n",
"n1=1.55;//cORE Refractive Index\n",
"n2=1.51;//Cladding Refractive Index\n",
"NA=sqrt(n1^2-n2^2);// Numerical Aperture\n",
"disp(NA,'Numerical Aperture of the Fiber')"
   ]
   }
,
{
		   "cell_type": "markdown",
		   "metadata": {},
		   "source": [
			"## Example 2.19_b: acceptance_angle.sce"
		   ]
		  },
  {
"cell_type": "code",
	   "execution_count": null,
	   "metadata": {
	    "collapsed": true
	   },
	   "outputs": [],
"source": [
"// Example 2.19.b:Acceptance Angle\n",
"clc;\n",
"clear;\n",
"close;\n",
"n1=1.55;//cORE Refractive Index\n",
"n2=1.51;//Cladding Refractive Index\n",
"NA=sqrt(n1^2-n2^2);// Numerical Aperture\n",
"Om= asind(NA);\n",
"disp(Om,'Acceptance Angle in degree is')"
   ]
   }
,
{
		   "cell_type": "markdown",
		   "metadata": {},
		   "source": [
			"## Example 2.1: Thickness.sce"
		   ]
		  },
  {
"cell_type": "code",
	   "execution_count": null,
	   "metadata": {
	    "collapsed": true
	   },
	   "outputs": [],
"source": [
"// Example 2.1:Thickness\n",
"clc;\n",
"clear;\n",
"close;\n",
"pi=3.14;\n",
"n1=3.5;//Waveguide Refractive Index\n",
"n2=3.0;//Cladding Refractive Index\n",
"v=6;// number of modes\n",
"h=1.5;// wavelenght in micro meter\n",
"Os= asind(n2/n1)// angle in degree\n",
"th= round(12*pi*h)/(2*pi*n1*cosd(Os));// Thickness of the film\n",
"disp(th,'Thickness of film in mircometers')\n",
"disp('Thcikness of the film should be less than 5 micro meter so that only six modes will be guided along the fiber')"
   ]
   }
,
{
		   "cell_type": "markdown",
		   "metadata": {},
		   "source": [
			"## Example 2.20: normalized_frequency.sce"
		   ]
		  },
  {
"cell_type": "code",
	   "execution_count": null,
	   "metadata": {
	    "collapsed": true
	   },
	   "outputs": [],
"source": [
"// Example 2.20:Normaised Frequency\n",
"clc;\n",
"clear;\n",
"close;\n",
"n1=1.45;//Core Refractive Index\n",
"NA=0.16;//Numerical Aperture\n",
"a=30;// core radius in micro meters\n",
"h=0.1;//wavelngth in micro meters\n",
"v=(2*%pi*a*NA)/h;//Normalised wavelngth\n",
"disp(v,'normalised frequency ')"
   ]
   }
,
{
		   "cell_type": "markdown",
		   "metadata": {},
		   "source": [
			"## Example 2.21_a: numerical_aperture.sce"
		   ]
		  },
  {
"cell_type": "code",
	   "execution_count": null,
	   "metadata": {
	    "collapsed": true
	   },
	   "outputs": [],
"source": [
"// Example 2.21.A:Numerical Aperture\n",
"clc;\n",
"clear;\n",
"close;\n",
"c=3*10^8 ;// Speed of lignt in m/s\n",
"v=2*10^8;//speed of ligh in fiber in m/s\n",
"Oc=75;// Critical angle in degree\n",
"n1=c/v;//cORE Refractive Index\n",
"n2=n1*(sind(Oc));// Cladding Refrative index\n",
"NA=sqrt(n1^2-n2^2);// Numerical Aperture\n",
"disp(NA,'Numerical Aperture of the Fiber')"
   ]
   }
,
{
		   "cell_type": "markdown",
		   "metadata": {},
		   "source": [
			"## Example 2.21_b: dispersion_per_unit_length.sce"
		   ]
		  },
  {
"cell_type": "code",
	   "execution_count": null,
	   "metadata": {
	    "collapsed": true
	   },
	   "outputs": [],
"source": [
"// Example 2.21.b:Multipath dispersion per unit length\n",
"clc;\n",
"clear;\n",
"close;\n",
"c=3*10^8 ;// Speed of lignt in m/s\n",
"v=2*10^8;//speed of ligh in fiber in m/s\n",
"Oc=75;// Critical angle in degree\n",
"n1=c/v;//cORE Refractive Index\n",
"n2=n1*(sind(Oc));// Cladding Refrative index\n",
"d= n1-n2;// differnce in refractive index\n",
"Md1=(n1/n2)*(d/c);//\n",
"Md= Md1*10^9;\n",
"disp(Md,'Multipath dispersion in microsecond per kilometer ')"
   ]
   }
,
{
		   "cell_type": "markdown",
		   "metadata": {},
		   "source": [
			"## Example 2.22: Thickness.sce"
		   ]
		  },
  {
"cell_type": "code",
	   "execution_count": null,
	   "metadata": {
	    "collapsed": true
	   },
	   "outputs": [],
"source": [
"// Example 2.22:Thickness\n",
"clc;\n",
"clear;\n",
"close;\n",
"n1=3.6;//Core Refractive Index\n",
"n2=3.56;//Cladding Refractive Index\n",
"h=0.85;// wavelenght in micro meter\n",
"m=1;// mode is fundamental TE10\n",
"n=0;\n",
"Vc=2.405;//Cutoff wavelength\n",
"a=(Vc*h)/(2*%pi*sqrt(n1^2-n2^2));// Core radius \n",
"disp(a,'Core radius in mircometers')"
   ]
   }
,
{
		   "cell_type": "markdown",
		   "metadata": {},
		   "source": [
			"## Example 2.23: core_diameter.sce"
		   ]
		  },
  {
"cell_type": "code",
	   "execution_count": null,
	   "metadata": {
	    "collapsed": true
	   },
	   "outputs": [],
"source": [
"// Example 2.23:Daimeter\n",
"clc;\n",
"clear;\n",
"close;\n",
"n1=1.5;//Core Refractive Index\n",
"d=0.01;//difference in the refrative index\n",
"h=1.3;// wavelenght in micro meter\n",
"m=1100;// numer of modes\n",
"v=round(sqrt(2*m));// Number of guided modes\n",
"a=(v*h)/(2*%pi*n1*sqrt(2*d));// Core radius \n",
"d= 2*a;// Core Diameter\n",
"disp(d,'Core diameter in mircometers')\n",
"//answer is calculated wrong in the textbook"
   ]
   }
,
{
		   "cell_type": "markdown",
		   "metadata": {},
		   "source": [
			"## Example 2.24_a: critical_angle.sce"
		   ]
		  },
  {
"cell_type": "code",
	   "execution_count": null,
	   "metadata": {
	    "collapsed": true
	   },
	   "outputs": [],
"source": [
"// Example 2.24.a;Critical Angle\n",
"clc;\n",
"clear;\n",
"close;\n",
"n1=1.50;//Waveguide Refractive Index\n",
"n2=1.46;//Cladding Refractive Index\n",
"Oc=asind(n2/n1);//Critical Angle\n",
"disp(Oc,'CRITICAL ANGLE IN DEGREE')"
   ]
   }
,
{
		   "cell_type": "markdown",
		   "metadata": {},
		   "source": [
			"## Example 2.24_b: numerical_aperture.sce"
		   ]
		  },
  {
"cell_type": "code",
	   "execution_count": null,
	   "metadata": {
	    "collapsed": true
	   },
	   "outputs": [],
"source": [
"// Example 2.14.b;Numerical Aperture\n",
"clc;\n",
"clear;\n",
"close;\n",
"n1=1.50;//Waveguide Refractive Index\n",
"n2=1.46;//Cladding Refractive Index\n",
"NA=sqrt(n1^2-n2^2);// Numerical Aperture\n",
"disp(NA,'Numerical Aperture is')"
   ]
   }
,
{
		   "cell_type": "markdown",
		   "metadata": {},
		   "source": [
			"## Example 2.25: acceptance_angle.sce"
		   ]
		  },
  {
"cell_type": "code",
	   "execution_count": null,
	   "metadata": {
	    "collapsed": true
	   },
	   "outputs": [],
"source": [
"// Example 2.25;Acceptance Angle\n",
"clc;\n",
"clear;\n",
"close;\n",
"NA=0.344;// Numerical Aperture\n",
"r= 50;// Angle at which angle changes for skew rays in degreee\n",
"m=cosd(r);\n",
"Oa=asind(NA);\n",
"disp(Oa,'Acceptance angle in degree is')\n",
"Oas=asind(NA/m)\n",
"disp(Oas,' ACCEPTANCE ANGLE FOR SKEW RAYS IN DEGREE')"
   ]
   }
,
{
		   "cell_type": "markdown",
		   "metadata": {},
		   "source": [
			"## Example 2.26: numer_of_modes_and_cutoff_frequency.sce"
		   ]
		  },
  {
"cell_type": "code",
	   "execution_count": null,
	   "metadata": {
	    "collapsed": true
	   },
	   "outputs": [],
"source": [
"// Example 2.26:Number of guided modes\n",
"clc;\n",
"clear;\n",
"close;\n",
"n1=1.5;//Core Refractive Index\n",
"d= 0.013;// Cange in core-cladding refractive index\n",
"alpha=1.90;//  index profile\n",
"a=20;//Core radius in micro meters\n",
"h=1.55;//wavelngth in micro meters\n",
"Mg= round((alpha/(alpha+2))*((n1*2*%pi*a)/h)^2 *d);\n",
"Vc=2.405*sqrt(1+2/alpha);\n",
"disp(Mg,'Number of guided modes are')\n",
"disp(Vc,' normalised frequency')\n",
""
   ]
   }
,
{
		   "cell_type": "markdown",
		   "metadata": {},
		   "source": [
			"## Example 2.27_a: numerical_aperture.sce"
		   ]
		  },
  {
"cell_type": "code",
	   "execution_count": null,
	   "metadata": {
	    "collapsed": true
	   },
	   "outputs": [],
"source": [
"// Example 2.27.a:Numerical Aperture\n",
"clc;\n",
"clear;\n",
"close;\n",
"n1=1.5;//Core Refractive Index\n",
"n2=1.48;//Cladding Refractive Index\n",
"a=50;//Core radius in micro meters\n",
"NA=sqrt(n1^2-n2^2);// Numerical Aperture\n",
"disp(NA,'Numerical Aperture of the Fiber')"
   ]
   }
,
{
		   "cell_type": "markdown",
		   "metadata": {},
		   "source": [
			"## Example 2.27_b: critical_angle.sce"
		   ]
		  },
  {
"cell_type": "code",
	   "execution_count": null,
	   "metadata": {
	    "collapsed": true
	   },
	   "outputs": [],
"source": [
"// Example 2.27.a:Numerical Aperture\n",
"clc;\n",
"clear;\n",
"close;\n",
"n1=1.5;//Core Refractive Index\n",
"n2=1.48;//Cladding Refractive Index\n",
"a=50;//Core radius in micro meters\n",
"NA=sqrt(n1^2-n2^2);// Numerical Aperture\n",
"Oc=asind(n2/n1);\n",
"disp(Oc,'Critical Angle')"
   ]
   }
,
{
		   "cell_type": "markdown",
		   "metadata": {},
		   "source": [
			"## Example 2.27_c: pulse_broadning.sce"
		   ]
		  },
  {
"cell_type": "code",
	   "execution_count": null,
	   "metadata": {
	    "collapsed": true
	   },
	   "outputs": [],
"source": [
"// Example 2.27.a:Numerical Aperture\n",
"clc;\n",
"clear;\n",
"close;\n",
"n1=1.5;//Core Refractive Index\n",
"n2=1.48;//Cladding Refractive Index\n",
"c=3*10^8;// Speed of ligh in m/s\n",
"a=50;//Core radius in micro meters\n",
"PB= (n1/n2)*((n1-n2)/c);// Pulse broadning per unit length\n",
"disp(PB,'Pulse broadning per unit length due to multipath dispersion in s/m')"
   ]
   }
,
{
		   "cell_type": "markdown",
		   "metadata": {},
		   "source": [
			"## Example 2.28: core_diameter.sce"
		   ]
		  },
  {
"cell_type": "code",
	   "execution_count": null,
	   "metadata": {
	    "collapsed": true
	   },
	   "outputs": [],
"source": [
"// Example 2.28:Core diameter\n",
"clc;\n",
"clear;\n",
"close;\n",
"n1=1.5;//Core Refractive Index\n",
"d= 0.01;// Cange in core-cladding refractive index\n",
"alpha=2;//  index profile\n",
"h=1.3;//wavelngth in micro meters\n",
"Vc=2.405*sqrt(1+2/alpha);\n",
"a=(Vc*h)/(2*%pi*n1*sqrt(2*d));\n",
"di=2*a;\n",
"disp(di,'core diameter in micro meters')\n",
"//answer is calculated wrong in the textbook\n",
""
   ]
   }
,
{
		   "cell_type": "markdown",
		   "metadata": {},
		   "source": [
			"## Example 2.2: ACCEPTANCE_AND_CRITICAL_ANGLE.sce"
		   ]
		  },
  {
"cell_type": "code",
	   "execution_count": null,
	   "metadata": {
	    "collapsed": true
	   },
	   "outputs": [],
"source": [
"// Example 2.2:Acceptance Angle\n",
"clc;\n",
"clear;\n",
"close;\n",
"n1=1.53;//Waveguide Refractive Index\n",
"n2=1.48;//Cladding Refractive Index\n",
"no=1;// for air\n",
"Oa= asind((sqrt(n1^2 - n2^2))/no);//Acceptance Angle\n",
"Oc= asind(n2/n1);// Critical Angle\n",
"disp(Oa,'Acceptanc Angle in Degree')\n",
"disp(Oc,'Critical angle in degree')"
   ]
   }
,
{
		   "cell_type": "markdown",
		   "metadata": {},
		   "source": [
			"## Example 2.3: numerical_aperture.sce"
		   ]
		  },
  {
"cell_type": "code",
	   "execution_count": null,
	   "metadata": {
	    "collapsed": true
	   },
	   "outputs": [],
"source": [
"// Example 2.3:Numerical Aperture\n",
"clc;\n",
"clear;\n",
"close;\n",
"v= 26.6;//normalised frequency\n",
"h=1.3;// Wavelenght in micro meters\n",
"a=25;//core radius in micro meters\n",
"NA=(v*h)/(2*%pi*a);// Numerical Aperture\n",
"disp(NA,'Numerical Aperture of the Fiber is')"
   ]
   }
,
{
		   "cell_type": "markdown",
		   "metadata": {},
		   "source": [
			"## Example 2.4: numerical_aperture.sce"
		   ]
		  },
  {
"cell_type": "code",
	   "execution_count": null,
	   "metadata": {
	    "collapsed": true
	   },
	   "outputs": [],
"source": [
"// Example 2.4:Numerical Aperture\n",
"clc;\n",
"clear;\n",
"close;\n",
"n1=1.4675;//Waveguide Refractive Index\n",
"n2=1.4622;//Cladding Refractive Index\n",
"NA=sqrt(n1^2-n2^2);// Numerical Aperture\n",
"disp(NA,'Numerical Aperture of the Fiber')"
   ]
   }
,
{
		   "cell_type": "markdown",
		   "metadata": {},
		   "source": [
			"## Example 2.5: cut_off_wavelngth.sce"
		   ]
		  },
  {
"cell_type": "code",
	   "execution_count": null,
	   "metadata": {
	    "collapsed": true
	   },
	   "outputs": [],
"source": [
"// Example 2.5:Cutoff Wavelengt\n",
"clc;\n",
"clear;\n",
"close;\n",
"n1=1.5;//Waveguide Refractive Index\n",
"n2=1.47;//Cladding Refractive Index\n",
"a=4;// core radius in micro meters\n",
"NA=sqrt(n1^2-n2^2);// Numerical Aperture\n",
"Hc= (2*%pi*a*NA)/(2.405)\n",
"disp(Hc,'Cutoff wavelenght in micro meters')"
   ]
   }
,
{
		   "cell_type": "markdown",
		   "metadata": {},
		   "source": [
			"## Example 2.6: core_diameter.sce"
		   ]
		  },
  {
"cell_type": "code",
	   "execution_count": null,
	   "metadata": {
	    "collapsed": true
	   },
	   "outputs": [],
"source": [
"// Example 2.6:Core Diameter\n",
"clc;\n",
"clear;\n",
"close;\n",
"n1=1.55;//Waveguide Refractive Index\n",
"n2=1.48;//Cladding Refractive Index\n",
"h= 1.55;// Wavelenght in micrometers\n",
"NA=sqrt(n1^2-n2^2);// Numerical Aperture\n",
"a= (2.405*h)/(2*%pi*NA);// Core radius\n",
"d=2*a;// Core Diameter\n",
"disp(d,'Core Diameter in micro meter')"
   ]
   }
,
{
		   "cell_type": "markdown",
		   "metadata": {},
		   "source": [
			"## Example 2.7: number_of_modes.sce"
		   ]
		  },
  {
"cell_type": "code",
	   "execution_count": null,
	   "metadata": {
	    "collapsed": true
	   },
	   "outputs": [],
"source": [
"// Example 2.7:Number of the modes\n",
"clc;\n",
"clear;\n",
"close;\n",
"n1=1.48;//Waveguide Refractive Index\n",
"n2=0.01;//Cladding Refractive Index\n",
"h= 0.84;// Wavelenght in micrometers\n",
"a= 25;// Core radius in micrometers\n",
"NA=(n1^2-n2^2);// Numerical Aperture\n",
"M=round((((2*%pi)/h)^2*a^2*NA)/100);//\n",
"v= round(sqrt(M*2));//\n",
"disp(v,'Number of modes')"
   ]
   }
,
{
		   "cell_type": "markdown",
		   "metadata": {},
		   "source": [
			"## Example 2.8: number_of_modes.sce"
		   ]
		  },
  {
"cell_type": "code",
	   "execution_count": null,
	   "metadata": {
	    "collapsed": true
	   },
	   "outputs": [],
"source": [
"// Example 2.8:Number of the modes\n",
"clc;\n",
"clear;\n",
"close;\n",
"n1=1.475;//Waveguide Refractive Index\n",
"n2=1.472;//Cladding Refractive Index\n",
"h1= 0.85;// Wavelenght in micrometers\n",
"a= 20;// Core radius in micrometers\n",
"NA=sqrt(n1^2-n2^2);// Numerical Aperture\n",
"v=(2*%pi*a*NA)/h1;\n",
"m1= round((v^2)/2);\n",
"h2= 1.3;// Wavelenght in micrometers\n",
"v1=(2*%pi*a*NA)/h2;\n",
"m2= round((v1^2)/2);\n",
"disp (m1, 'number of modes when wavelngth is 0.85 micro meters')\n",
"disp(m2,'when wavelenght is 1.3 micro meters')"
   ]
   }
,
{
		   "cell_type": "markdown",
		   "metadata": {},
		   "source": [
			"## Example 2.9: numerical_aperture.sce"
		   ]
		  },
  {
"cell_type": "code",
	   "execution_count": null,
	   "metadata": {
	    "collapsed": true
	   },
	   "outputs": [],
"source": [
"// Example 2.9:Numerical Aperture\n",
"clc;\n",
"clear;\n",
"close;\n",
"n1=1.5;//Waveguide Refractive Index\n",
"n2=1.48;//Cladding Refractive Index\n",
"NA=sqrt(n1^2-n2^2);// Numerical Aperture\n",
"disp(NA,'Numerical Aperture of the Fiber')"
   ]
   }
],
"metadata": {
		  "kernelspec": {
		   "display_name": "Scilab",
		   "language": "scilab",
		   "name": "scilab"
		  },
		  "language_info": {
		   "file_extension": ".sce",
		   "help_links": [
			{
			 "text": "MetaKernel Magics",
			 "url": "https://github.com/calysto/metakernel/blob/master/metakernel/magics/README.md"
			}
		   ],
		   "mimetype": "text/x-octave",
		   "name": "scilab",
		   "version": "0.7.1"
		  }
		 },
		 "nbformat": 4,
		 "nbformat_minor": 0
}
