{
"cells": [
 {
		   "cell_type": "markdown",
	   "metadata": {},
	   "source": [
       "# Chapter 10: OPTICAL RECEIVER"
	   ]
	},
{
		   "cell_type": "markdown",
		   "metadata": {},
		   "source": [
			"## Example 10.10: optical_power.sce"
		   ]
		  },
  {
"cell_type": "code",
	   "execution_count": null,
	   "metadata": {
	    "collapsed": true
	   },
	   "outputs": [],
"source": [
"// Example 10.10;//threshold quantum limit\n",
"clc;\n",
"clear;\n",
"close;\n",
"e=1.6*10^-19;\n",
"R=0.5;//responsivity in amper per watt\n",
"n=1;//efficiency for idea case\n",
"ht=6.62*10^-34;//plank constt.\n",
"f=3*10^14;//frequency in hertz\n",
"R=35;//mega bits per second\n",
"h=0.50^-6;//wavelength in metr\n",
"BER=10^-7;//bit error rate\n",
"Zm=-(log(BER));//probality of error\n",
"Po=(Zm*2*e*R*10^6)/2;\n",
"Podb=10*(log10(Po*10^3));//pulse energy in dB when refrence level is one milli watt\n",
"disp(Podb , 'pulse energy in dB when refrence level is one miiliwatt in dBm')"
   ]
   }
,
{
		   "cell_type": "markdown",
		   "metadata": {},
		   "source": [
			"## Example 10.1: quantum_noise_dark_and_thermal_noise_current.sce"
		   ]
		  },
  {
"cell_type": "code",
	   "execution_count": null,
	   "metadata": {
	    "collapsed": true
	   },
	   "outputs": [],
"source": [
"// Example 10.1;//QUANTUM NOISE , DARK CURRENT & THERMAL NOISE\n",
"clc;\n",
"clear;\n",
"close;\n",
"T=300;//TEMPRATURE IN KELVIN\n",
"K=1.38*10^-23;//boltzman constt\n",
"C=3*10^8;//SPEED of light in meter per second\n",
"e=1.6*10^-19;//elecronic charge\n",
"ht=6.62*10^-34;//plank constt.\n",
"Id=4;//dark current in nano ampere\n",
"n=0.90;//efficiency\n",
"Rl=1000;//load resistance in ohms\n",
"h=1100;//wavelength in nano meter\n",
"Po=300;// ouput power in nano watt\n",
"B=20;// bandwidth in mega hertz\n",
"Ip= (n*h*10^-9*Po*10^-9*e)/(ht*C);//PHOTO CURRENT IN AMPERE\n",
"Iq=(sqrt(2*e*Ip*B*10^6))*10^9;//QUANTUM NOISE IN NANO AMPERE\n",
"id=(sqrt(2*e*B*10^6*Id*10^-9))*10^9;//dark current in nano ampere\n",
"it=(sqrt((4*K*T*B*10^6)/Rl))*10^9;//thermal noise\n",
"disp(Iq,'QUANTUM NOISE IN NANO AMPERE')\n",
"disp(id,'dark current in nano ampere')\n",
"disp(it,'THERMAL NOISE in nano ampere')"
   ]
   }
,
{
		   "cell_type": "markdown",
		   "metadata": {},
		   "source": [
			"## Example 10.2_a: quantum_limit.sce"
		   ]
		  },
  {
"cell_type": "code",
	   "execution_count": null,
	   "metadata": {
	    "collapsed": true
	   },
	   "outputs": [],
"source": [
"// Example 10.2.a;//threshold quantum limit\n",
"clc;\n",
"clear;\n",
"close;\n",
"n=1;//efficiency for idea case\n",
"ht=6.62*10^-34;//plank constt.\n",
"f=3*10^14;//frequency in hertz\n",
"B=10^7;//NO. OF BITS\n",
"h=10^-6;//wavelength in metr\n",
"BER=10^-9;//bit error rate\n",
"Zm=-(log(BER));//probality of error\n",
"Emin=(20.7*h*f)/n;\n",
"disp(Emin , 'this is the quantum limit')"
   ]
   }
,
{
		   "cell_type": "markdown",
		   "metadata": {},
		   "source": [
			"## Example 10.2_b: incident_optical_power.sce"
		   ]
		  },
  {
"cell_type": "code",
	   "execution_count": null,
	   "metadata": {
	    "collapsed": true
	   },
	   "outputs": [],
"source": [
"// Example 10.2.a;//threshold quantum limit\n",
"clc;\n",
"clear;\n",
"close;\n",
"n=1;//efficiency for idea case\n",
"ht=6.62*10^-34;//plank constt.\n",
"f=3*10^14;//frequency in hertz\n",
"B=10^7;//NO. OF BITS\n",
"h=10^-6;//wavelength in metr\n",
"BER=10^-9;//bit error rate\n",
"Zm=-(log(BER));//probality of error\n",
"Po=((20.7*ht*f*B)/(2*n))*10^12;//pulse energy in pico watt\n",
"Podb=10*(log10(Po*10^-12));//pulse energy in dB when refrence level is one watt\n",
"Podb1=10*(log10(Po*10^-9));//pulse energy in dB when refrence level is one miili watt\n",
"disp(Podb , 'pulse energy in dB when refrence level is one watt in dBW')\n",
"disp(Podb1 , 'pulse energy in dB when refrence level is one miiliwatt in dBm')"
   ]
   }
,
{
		   "cell_type": "markdown",
		   "metadata": {},
		   "source": [
			"## Example 10.3: incident_optical_power.sce"
		   ]
		  },
  {
"cell_type": "code",
	   "execution_count": null,
	   "metadata": {
	    "collapsed": true
	   },
	   "outputs": [],
"source": [
"// Example 10.3;//incident optical power\n",
"clc;\n",
"clear;\n",
"close;\n",
"ht=6.62*10^-34;//plank constt.\n",
"f=3*10^14;//frequency in hertz\n",
"n=1;//efficiency for ideal case\n",
"SNR=50;//signal to noise ration in dB\n",
"h=1;//wavelength in micro meter\n",
"B=5;//bandwidth in mega hertz\n",
"SN=10^5;//Signal too noise ratio\n",
"Po=((2*ht*f*B*10^6*SN)/n)*10^9;//output power in nano watt\n",
"Podb=10*(log10(Po*10^-6));//output power in dB\n",
"disp(Podb,'output power in dB')"
   ]
   }
,
{
		   "cell_type": "markdown",
		   "metadata": {},
		   "source": [
			"## Example 10.4_a: shot_noise.sce"
		   ]
		  },
  {
"cell_type": "code",
	   "execution_count": null,
	   "metadata": {
	    "collapsed": true
	   },
	   "outputs": [],
"source": [
"// Example 10.4.a;//TOTAL SHOT NOISE\n",
"clc;\n",
"clear;\n",
"close;\n",
"T=293;//TEMPRATURE IN KELVIN\n",
"K=1.38*10^-23;//boltzman constt\n",
"C=3*10^8;//SPEED of light in meter per second\n",
"e=1.6*10^-19;//elecronic charge\n",
"ht=6.62*10^-34;//plank constt.\n",
"Id=3;//dark current in nano ampere\n",
"n=0.60;//efficiency\n",
"Rl=4;//load resistance in killo ohms\n",
"h=0.9;//wavelength in micro meter\n",
"Po=200;// ouput power in nano wat\n",
"B=5;// bandwidth in mega hertz\n",
"Ip= ((n*h*10^-6*Po*10^-9*e)/(ht*C))*10^9;//PHOTO CURRENT IN AMPERE\n",
"its=(2*e*B*10^6*(Id+Ip)*10^-9);//total shot noise\n",
"itsr=sqrt(its);//RMS shot noise\n",
"disp(its,'total shot noise is')\n",
"disp(itsr,'RMS shot noise current in ampere is')"
   ]
   }
,
{
		   "cell_type": "markdown",
		   "metadata": {},
		   "source": [
			"## Example 10.4_b: thermal_noise.sce"
		   ]
		  },
  {
"cell_type": "code",
	   "execution_count": null,
	   "metadata": {
	    "collapsed": true
	   },
	   "outputs": [],
"source": [
"// Example 10.4.b;//Thermal noise\n",
"clc;\n",
"clear;\n",
"close;\n",
"T=293;//TEMPRATURE IN KELVIN\n",
"K=1.38*10^-23;//boltzman constt\n",
"C=3*10^8;//SPEED of light in meter per second\n",
"e=1.6*10^-19;//elecronic charge\n",
"ht=6.62*10^-34;//plank constt.\n",
"Id=3;//dark current in nano ampere\n",
"n=0.60;//efficiency\n",
"Rl=4;//load resistance in killo ohms\n",
"h=0.9;//wavelength in micro meter\n",
"Po=200;// ouput power in nano wat\n",
"B=5;// bandwidth in mega hertz\n",
"it=(((4*K*T*B*10^6)/(Rl*10^3)));//thermal noise\n",
"itr=sqrt(it);//rms thermal noise\n",
"disp(it,'total thermal noise is')\n",
"disp(itr,'RMS thermal noise current in ampere is')"
   ]
   }
,
{
		   "cell_type": "markdown",
		   "metadata": {},
		   "source": [
			"## Example 10.5_a: load_resistance.sce"
		   ]
		  },
  {
"cell_type": "code",
	   "execution_count": null,
	   "metadata": {
	    "collapsed": true
	   },
	   "outputs": [],
"source": [
"// Example 10.5.a;//maximum load resistance\n",
"clc;\n",
"clear;\n",
"close;\n",
"B=6;//bandwidth in mega hertz\n",
"Cd=8;//Photodiode capacitance in pico  farad\n",
"Ca=4;//amplifier capacitance in pico  farad\n",
"Rlm=(1/(2*%pi*B*10^6*Cd*10^-12))*10^-3;//Maximum lod resistance in Kilo ohm\n",
"disp(Rlm,'Maximum lod resistance in Kilo ohm')"
   ]
   }
,
{
		   "cell_type": "markdown",
		   "metadata": {},
		   "source": [
			"## Example 10.5_b: bandwidth.sce"
		   ]
		  },
  {
"cell_type": "code",
	   "execution_count": null,
	   "metadata": {
	    "collapsed": true
	   },
	   "outputs": [],
"source": [
"// Example 10.5.b;//maximum bandwidth\n",
"clc;\n",
"clear;\n",
"close;\n",
"B=6;//bandwidth in mega hertz\n",
"Cd=8;//Photodiode capacitance in pico  farad\n",
"Ca=4;//amplifier capacitance in pico  farad\n",
"Rlm=(1/(2*%pi*B*10^6*Cd*10^-12))*10^-3;//Maximum lod resistance in Kilo ohm\n",
"B=(1/(2*%pi*Rlm*10^3*(Cd+Ca)*10^-12))*10^-6;//Maximum bandwidth in mega hertz\n",
"disp(B,'Maximum bandwidth in mega hertz')"
   ]
   }
,
{
		   "cell_type": "markdown",
		   "metadata": {},
		   "source": [
			"## Example 10.6: SNR.sce"
		   ]
		  },
  {
"cell_type": "code",
	   "execution_count": null,
	   "metadata": {
	    "collapsed": true
	   },
	   "outputs": [],
"source": [
"// Example 10.6;//maximum bandwidth\n",
"clc;\n",
"clear;\n",
"close;\n",
"Ip=87.1*10^-9;//Photo current in ampere\n",
"its=1.44*10^-19;\n",
"it=2.02*10^-17;\n",
"Fn=2;//noise figure\n",
"SN=(Ip^2)/(its+(it*Fn));//Signal to noise ratio\n",
"SNdb=10*(log10(SN));//SIGNAL TO NOISE RATIO IN dB\n",
"disp(SNdb,'signal to noise raion in dB')"
   ]
   }
,
{
		   "cell_type": "markdown",
		   "metadata": {},
		   "source": [
			"## Example 10.7: SNR_IMPROVEMENT.sce"
		   ]
		  },
  {
"cell_type": "code",
	   "execution_count": null,
	   "metadata": {
	    "collapsed": true
	   },
	   "outputs": [],
"source": [
"// Example 10.7;//max SNR improvment \n",
"clc;\n",
"clear;\n",
"close;\n",
"K=1.38*10^-23;//boltzman constt\n",
"C=3*10^8;//SPEED of light in meter per second\n",
"e=1.6*10^-19;//elecronic charge\n",
"ht=6.62*10^-34;//plank constt.\n",
"B=50;//bandwidth in mega hertz\n",
"Cd=5;//Photodiode capacitance in pico  farad\n",
"T=291;//tEMPERATURE IN KELVIN\n",
"Ip=10^-7;//photo current in ampere\n",
"Rlm=(1/(2*%pi*B*10^6*Cd*10^-12));//Maximum lod resistance in  ohm\n",
"//Case 1 when M=1\n",
"SNR1=(Ip^2)/((2*e*B*10^6*Ip)+((4*K*T*B*10^6)/(Rlm)));\n",
"SNR1dB=10*(log10(SNR1));//signal to noise ration when M=1 in dB\n",
"//CASE2 M=Mop & x=0.3\n",
"x=0.3;\n",
"Mop=(((4*K*T)/(x*e*Rlm*Ip))^(1/2.3))\n",
"SNR2=(Mop^2*Ip^2)/((2*e*B*10^6*Ip*Mop^2.3)+((4*K*T*B*10^6)/(Rlm)));//signal to noise ratio M=Mop & x=0.3\n",
"SNR2dB=10*(log10(SNR2));//signal to noise ratio M=Mop & x=0.3 in dB\n",
"disp(SNR1dB,'signal to noise ration when M=1 in dB')\n",
"disp(SNR2dB,'signal to noise ratio M=Mop & x=0.3 in dB')"
   ]
   }
,
{
		   "cell_type": "markdown",
		   "metadata": {},
		   "source": [
			"## Example 10.8_a: photocurrent.sce"
		   ]
		  },
  {
"cell_type": "code",
	   "execution_count": null,
	   "metadata": {
	    "collapsed": true
	   },
	   "outputs": [],
"source": [
"// Example 10.8.a;//MIMIMUM PHOTO CURRENT\n",
"clc;\n",
"clear;\n",
"close;\n",
"x=1;\n",
"SNR=3.16*10^3;//SIGNAL TO NOISE RATIO\n",
"Fn=1,26;//Noise figure\n",
"K=1.38*10^-23;//boltzman constt\n",
"C=3*10^8;//SPEED of light in meter per second\n",
"e=1.6*10^-19;//elecronic charge\n",
"ht=6.62*10^-34;//plank constt.\n",
"B=10;//bandwidth in mega hertz\n",
"T=120;//tEMPERATURE IN KELVIN\n",
"Rl=10//Maximum lod resistance in killo ohm\n",
"Ip=(((SNR*((12*K*T*B*10^6*Fn)/(Rl*10^3))))/(((4*K*T*Fn)/(1.1*e*Rl*10^3)))^(2/3))^(3/4);//\n",
"disp(Ip,'Photo current in ampere')"
   ]
   }
,
{
		   "cell_type": "markdown",
		   "metadata": {},
		   "source": [
			"## Example 10.8_b: avalanche_multiplication_factor.sce"
		   ]
		  },
  {
"cell_type": "code",
	   "execution_count": null,
	   "metadata": {
	    "collapsed": true
	   },
	   "outputs": [],
"source": [
"// Example 10.8.b;//optimum avalanche multiplication factor\n",
"clc;\n",
"clear;\n",
"close;\n",
"x=1;\n",
"SNR=3.16*10^3;//SIGNAL TO NOISE RATIO\n",
"Fn=1,26;//Noise figure\n",
"K=1.38*10^-23;//boltzman constt\n",
"C=3*10^8;//SPEED of light in meter per second\n",
"e=1.6*10^-19;//elecronic charge\n",
"ht=6.62*10^-34;//plank constt.\n",
"B=10;//bandwidth in mega hertz\n",
"T=120;//tEMPERATURE IN KELVIN\n",
"Rl=10//Maximum lod resistance in killo ohm\n",
"Ip=(((SNR*((12*K*T*B*10^6*Fn)/(Rl*10^3))))/(((4*K*T*Fn)/(1.1*e*Rl*10^3)))^(2/3))^(3/4);//\n",
"Mop=(((4*K*T*Fn)/(1.1*e*Ip*10^3)))^(1/3);//optimum avalanche multiplication factor\n",
"disp(Mop,'optimum avalanche multiplication factor is')"
   ]
   }
,
{
		   "cell_type": "markdown",
		   "metadata": {},
		   "source": [
			"## Example 10.9_a: bandwidth.sce"
		   ]
		  },
  {
"cell_type": "code",
	   "execution_count": null,
	   "metadata": {
	    "collapsed": true
	   },
	   "outputs": [],
"source": [
"// Example 10.9.a;//maximum bandwidth\n",
"clc;\n",
"clear;\n",
"close;\n",
"Ra=4*10^6;//input resistane in ohms\n",
"Rb=4*10^6;//matched bias resistane in ohms\n",
"Ct=6*10^-12;//total capicatance in farad\n",
"T=300;//TEMPERATURE IN KELVIN\n",
"Rtl=(Ra*Rb)/(Ra+Rb);//total resistance\n",
"B=(1/(2*%pi*Rtl*Ct));//Maximum bandwidth inhertz\n",
"disp(B,'Maximum bandwidth in  hertz')"
   ]
   }
,
{
		   "cell_type": "markdown",
		   "metadata": {},
		   "source": [
			"## Example 10.9_b: thermal_noise_current.sce"
		   ]
		  },
  {
"cell_type": "code",
	   "execution_count": null,
	   "metadata": {
	    "collapsed": true
	   },
	   "outputs": [],
"source": [
"// Example 10.9.b;//thermal noise\n",
"clc;\n",
"clear;\n",
"close;\n",
"K=1.38*10^-23;//boltzman constt\n",
"Ra=4*10^6;//input resistane in ohms\n",
"Rb=4*10^6;//matched bias resistane in ohms\n",
"Ct=6*10^-12;//total capicatance in farad\n",
"T=300;//TEMPERATURE IN KELVIN\n",
"Rtl=(Ra*Rb)/(Ra+Rb);//total resistance\n",
"B=(1/(2*%pi*Rtl*Ct));//Maximum bandwidth inhertz\n",
"it=(((4*K*T)/(Rtl)));//thermal noise\n",
"disp(it,'thermal noise in ampere square per hertz')"
   ]
   }
],
"metadata": {
		  "kernelspec": {
		   "display_name": "Scilab",
		   "language": "scilab",
		   "name": "scilab"
		  },
		  "language_info": {
		   "file_extension": ".sce",
		   "help_links": [
			{
			 "text": "MetaKernel Magics",
			 "url": "https://github.com/calysto/metakernel/blob/master/metakernel/magics/README.md"
			}
		   ],
		   "mimetype": "text/x-octave",
		   "name": "scilab",
		   "version": "0.7.1"
		  }
		 },
		 "nbformat": 4,
		 "nbformat_minor": 0
}
