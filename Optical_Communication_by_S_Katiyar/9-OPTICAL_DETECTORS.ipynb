{
"cells": [
 {
		   "cell_type": "markdown",
	   "metadata": {},
	   "source": [
       "# Chapter 9: OPTICAL DETECTORS"
	   ]
	},
{
		   "cell_type": "markdown",
		   "metadata": {},
		   "source": [
			"## Example 9.10_a: noise_equivalent_power.sce"
		   ]
		  },
  {
"cell_type": "code",
	   "execution_count": null,
	   "metadata": {
	    "collapsed": true
	   },
	   "outputs": [],
"source": [
"// Example 9.10.a;//noise equivalent power\n",
"clc;\n",
"clear;\n",
"close;\n",
"e=1.6*10^-19;//elecronic charge\n",
"h=1.3;//wavelength in micro meter\n",
"C=3*10^8;//SPEED of light in meter per second\n",
"n=0.55;//efficiency\n",
"ht=6.62*10^-34;//plank constt.\n",
"Id=8;//CURRENT IN nano AMPERE\n",
"NEP=((ht*C)*sqrt(2*e*Id*10^-9))/(n*e*h*10^-6);//noise equivalent power in watt\n",
"disp(NEP,'noise equivalent power in watt is')"
   ]
   }
,
{
		   "cell_type": "markdown",
		   "metadata": {},
		   "source": [
			"## Example 9.10_b: specific_detectivity.sce"
		   ]
		  },
  {
"cell_type": "code",
	   "execution_count": null,
	   "metadata": {
	    "collapsed": true
	   },
	   "outputs": [],
"source": [
"// Example 9.10.a;//specific detectivity \n",
"clc;\n",
"clear;\n",
"close;\n",
"A=75*50*10^-12;//\n",
"e=1.6*10^-19;//elecronic charge\n",
"h=1.3;//wavelength in micro meter\n",
"C=3*10^8;//SPEED of light in meter per second\n",
"n=0.55;//efficiency\n",
"ht=6.62*10^-34;//plank constt.\n",
"Id=8;//CURRENT IN nano AMPERE\n",
"NEP=((ht*C)*sqrt(2*e*Id*10^-9))/(n*e*h*10^-6);//noise equivalent power in watt\n",
"D=(sqrt(A)/NEP);//specific detectivity\n",
"disp(D,'specific detectivity is')"
   ]
   }
,
{
		   "cell_type": "markdown",
		   "metadata": {},
		   "source": [
			"## Example 9.11_a: optical_gai.sce"
		   ]
		  },
  {
"cell_type": "code",
	   "execution_count": null,
	   "metadata": {
	    "collapsed": true
	   },
	   "outputs": [],
"source": [
"// Example 9.11.a;//Optical gain\n",
"clc;\n",
"clear;\n",
"close;\n",
"e=1.6*10^-19;//elecronic charge\n",
"h=1.26;//wavelength in micro meter\n",
"C=3*10^8;//SPEED of light in meter per second\n",
"n=0.60;//efficiency\n",
"ht=6.62*10^-34;//plank constt.\n",
"Ic=15;//CURRENT IN milli ampere\n",
"Po=125;//output power in micro watt\n",
"Gc=(ht*C*Ic*10^-3)/(h*10^-6*e*Po*10^-6);//Gain\n",
"disp(Gc,'optical gain is')\n",
""
   ]
   }
,
{
		   "cell_type": "markdown",
		   "metadata": {},
		   "source": [
			"## Example 9.11_b: common_emitter_current_gain.sce"
		   ]
		  },
  {
"cell_type": "code",
	   "execution_count": null,
	   "metadata": {
	    "collapsed": true
	   },
	   "outputs": [],
"source": [
"// Example 9.11.b;//Common emitter current gain\n",
"clc;\n",
"clear;\n",
"close;\n",
"e=1.6*10^-19;//elecronic charge\n",
"h=1.26;//wavelength in micro meter\n",
"C=3*10^8;//SPEED of light in meter per second\n",
"n=0.60;//efficiency\n",
"ht=6.62*10^-34;//plank constt.\n",
"Ic=15;//CURRENT IN milli ampere\n",
"Po=125;//output power in micro watt\n",
"Gc=(ht*C*Ic*10^-3)/(h*10^-6*e*Po*10^-6);//Gain\n",
"nfc=Gc/n;//Common emitter current gain\n",
"disp(nfc,'common emittergain is')"
   ]
   }
,
{
		   "cell_type": "markdown",
		   "metadata": {},
		   "source": [
			"## Example 9.12: bandwidth.sce"
		   ]
		  },
  {
"cell_type": "code",
	   "execution_count": null,
	   "metadata": {
	    "collapsed": true
	   },
	   "outputs": [],
"source": [
"// Example 9.12;//Maximuum bandwidth\n",
"clc;\n",
"clear;\n",
"close;\n",
"tr=5*10^-12;//electron transit time in pico second\n",
"G=70;//photo conductive gain\n",
"Bm=(1/(2*%pi*tr*G))*10^-6;//Maximum bandwidth\n",
"disp(Bm,'Maximum bandwidth in mega hertz is')"
   ]
   }
,
{
		   "cell_type": "markdown",
		   "metadata": {},
		   "source": [
			"## Example 9.13: photocurrent.sce"
		   ]
		  },
  {
"cell_type": "code",
	   "execution_count": null,
	   "metadata": {
	    "collapsed": true
	   },
	   "outputs": [],
"source": [
"// Example 9.13;//output photo current\n",
"clc;\n",
"clear;\n",
"close;\n",
"e=1.6*10^-19;//elecronic charge\n",
"rp=10^11;//photons per second\n",
"hf=1.28*10^19;// energy in joule\n",
"n=1;//efficency\n",
"C=3*10^8;//SPEED of light in meter per second\n",
"ht=6.62*10^-34;//plank constt.\n",
"Po=(rp/hf)*10^9;//incident optical power in micro watt\n",
"Ip=(n*Po*10^-6*e)/(hf);//output photo current\n",
"disp(Ip,'output photo current in ampere is')"
   ]
   }
,
{
		   "cell_type": "markdown",
		   "metadata": {},
		   "source": [
			"## Example 9.14: photocurrent.sce"
		   ]
		  },
  {
"cell_type": "code",
	   "execution_count": null,
	   "metadata": {
	    "collapsed": true
	   },
	   "outputs": [],
"source": [
"// Example 9.14;//output photo current\n",
"clc;\n",
"clear;\n",
"close;\n",
"R=0.40;//RESPONSIVITY IN AMPERE PER WATT\n",
"If=100;//incident flus in micro watt per milli meter square\n",
"Ae=2;//active area in mili mtere square\n",
"Po=If*Ae;//incident optical power in micro watt\n",
"Ip=Po*R*10^-3;//output photo current IN MIILI AMPERE\n",
"disp(Ip,'output photo current in milli ampere is')"
   ]
   }
,
{
		   "cell_type": "markdown",
		   "metadata": {},
		   "source": [
			"## Example 9.15: multiplication_factor.sce"
		   ]
		  },
  {
"cell_type": "code",
	   "execution_count": null,
	   "metadata": {
	    "collapsed": true
	   },
	   "outputs": [],
"source": [
"// Example 9.15;//multiplication factor\n",
"clc;\n",
"clear;\n",
"close;\n",
"e=1.6*10^-19;//elecronic charge\n",
"h=1.3;//wavelength in micro meter\n",
"C=3*10^8;//SPEED of light in meter per second\n",
"n=0.5;//efficiency\n",
"ht=6.62*10^-34;//plank constt.\n",
"I=8;//CURRENT IN MICRO AMPERE\n",
"Po=0.4;//output power in micro watt\n",
"R=((n*e*h*10^-6)/(ht*C));\n",
"Ip=Po*R;//photocurrent in micro ampere\n",
"M=I/Ip;//Multilplication factor\n",
"disp(M,'Multilplication factor IS')\n",
""
   ]
   }
,
{
		   "cell_type": "markdown",
		   "metadata": {},
		   "source": [
			"## Example 9.16: bandwidth.sce"
		   ]
		  },
  {
"cell_type": "code",
	   "execution_count": null,
	   "metadata": {
	    "collapsed": true
	   },
	   "outputs": [],
"source": [
"// Example 9.16;//Maximuum bandwidth\n",
"clc;\n",
"clear;\n",
"close;\n",
"tr=4.5*10^-12;//electron transit time in  second\n",
"G=80;//photo conductive gain\n",
"Bm=(1/(2*%pi*tr*G))*10^-9;//Maximum bandwidth\n",
"disp(Bm,'Maximum bandwidth in giga hertz is')"
   ]
   }
,
{
		   "cell_type": "markdown",
		   "metadata": {},
		   "source": [
			"## Example 9.17: responsivity_and_optical_power.sce"
		   ]
		  },
  {
"cell_type": "code",
	   "execution_count": null,
	   "metadata": {
	    "collapsed": true
	   },
	   "outputs": [],
"source": [
"// Example 9.17;//responsivity and recieved optical power\n",
"clc;\n",
"clear;\n",
"close;\n",
"e=1.6*10^-19;//elecronic charge\n",
"h=0.9;//wavelength in micro meter\n",
"C=3*10^8;//SPEED of light in meter per second\n",
"n=0.50;//efficiency\n",
"ht=6.62*10^-34;//plank constt.\n",
"I=1;//CURRENT IN MICRO AMPERE\n",
"R=((n*e*h*10^-6)/(ht*C));\n",
"Po=(I*10^-6)/R;//\n",
"disp(R,'Responsivity is in ampere per watt')\n",
"disp(Po,'Output power in m watt')\n",
""
   ]
   }
,
{
		   "cell_type": "markdown",
		   "metadata": {},
		   "source": [
			"## Example 9.18: EFFICIENCY.sce"
		   ]
		  },
  {
"cell_type": "code",
	   "execution_count": null,
	   "metadata": {
	    "collapsed": true
	   },
	   "outputs": [],
"source": [
"// Example 9.18;//efficiency\n",
"clc;\n",
"clear;\n",
"close;\n",
"e=1.6*10^-19;//elecronic charge\n",
"h=1300;//wavelength in nano meter\n",
"C=3*10^8;//SPEED of light in meter per second\n",
"R=0.374;//Responsivity is in ampere per watt\n",
"ht=6.62*10^-34;//plank constt.\n",
"n=((R*ht*C)/(e*h*10^-9))*100;\n",
"disp(n,'Efficiency is')"
   ]
   }
,
{
		   "cell_type": "markdown",
		   "metadata": {},
		   "source": [
			"## Example 9.19_a: responsivity.sce"
		   ]
		  },
  {
"cell_type": "code",
	   "execution_count": null,
	   "metadata": {
	    "collapsed": true
	   },
	   "outputs": [],
"source": [
"// Example 9.19.a;//responsivity\n",
"clc;\n",
"clear;\n",
"close;\n",
"e=1.6*10^-19;//elecronic charge\n",
"C=3*10^8;//SPEED of light in meter per second\n",
"n=0.50;//quantum efficiency\n",
"h=0.9;//wavelength in nano meter\n",
"ht=6.62*10^-34;//plank constt.\n",
"R=((n*e*h*10^-6)/(ht*C));//responsivity\n",
"disp(R,'Responsivity is in ampere per watt')"
   ]
   }
,
{
		   "cell_type": "markdown",
		   "metadata": {},
		   "source": [
			"## Example 9.19_b: optical_power.sce"
		   ]
		  },
  {
"cell_type": "code",
	   "execution_count": null,
	   "metadata": {
	    "collapsed": true
	   },
	   "outputs": [],
"source": [
"// Example 9.19.a;//OPTICAL POWER\n",
"clc;\n",
"clear;\n",
"close;\n",
"Ip=10^-6;//optical current in ampere\n",
"e=1.6*10^-19;//elecronic charge\n",
"C=3*10^8;//SPEED of light in meter per second\n",
"n=0.50;//quantum efficiency\n",
"h=0.9;//wavelength in nano meter\n",
"ht=6.62*10^-34;//plank constt.\n",
"R=((n*e*h*10^-6)/(ht*C));//responsivity\n",
"Po=(Ip/R)*10^6;//Output power in micro watt\n",
"disp(Po,'Output power in  micro watt')\n",
""
   ]
   }
,
{
		   "cell_type": "markdown",
		   "metadata": {},
		   "source": [
			"## Example 9.1: quantum_efficiency.sce"
		   ]
		  },
  {
"cell_type": "code",
	   "execution_count": null,
	   "metadata": {
	    "collapsed": true
	   },
	   "outputs": [],
"source": [
"// Example 9.1;//quantum efficiency\n",
"clc;\n",
"clear;\n",
"close;\n",
"re=4.2*10^6;// Average no. of electron hole pair generated\n",
"rp=6*10^6;//no. of photons\n",
"h=1200;//wavelength in nano meter\n",
"n=round((re/rp)*100);//quantum efficiency\n",
"disp(n,'quantum efficiency is')"
   ]
   }
,
{
		   "cell_type": "markdown",
		   "metadata": {},
		   "source": [
			"## Example 9.20: Thickness.sce"
		   ]
		  },
  {
"cell_type": "code",
	   "execution_count": null,
	   "metadata": {
	    "collapsed": true
	   },
	   "outputs": [],
"source": [
"// Example 9.20;//thickness\n",
"clc;\n",
"clear;\n",
"close;\n",
"A=1.5;//area in mili meter square\n",
"R=100;//resistance in ohms\n",
"Eo=1.04*10^-10;//F/m\n",
"Vd=10^7;//DRIFT VELOCITY IN m/s\n",
"w=round((sqrt(R*Eo*A*10^-6*Vd))*10^6);//thickness in micro meters\n",
"disp(w,'thickness in micro meters is')"
   ]
   }
,
{
		   "cell_type": "markdown",
		   "metadata": {},
		   "source": [
			"## Example 9.21: dark_current.sce"
		   ]
		  },
  {
"cell_type": "code",
	   "execution_count": null,
	   "metadata": {
	    "collapsed": true
	   },
	   "outputs": [],
"source": [
"// Example 9.21;//dark current\n",
"clc;\n",
"clear;\n",
"close;\n",
"C=2.998*10^8;//SPEED of light in meter per second\n",
"e=1.6*10^-19;//elecronic charge\n",
"ht=6.62*10^-34;//plank constt.\n",
"h=0.85;//wavelength in micro meters\n",
"n=0.64;//efficiency\n",
"B=1;//bandwidth in hertz\n",
"D=7*10^10;//SPECIFIC DETECTIVITY\n",
"a=10;//active dimension in micro meter\n",
"Id=((n*sqrt(e*a*10^-6)*h*10^-6)/(ht*C*sqrt(2)*D))^2;//\n",
"disp(Id,'Dark current in ampere is')"
   ]
   }
,
{
		   "cell_type": "markdown",
		   "metadata": {},
		   "source": [
			"## Example 9.2: photocurrent.sce"
		   ]
		  },
  {
"cell_type": "code",
	   "execution_count": null,
	   "metadata": {
	    "collapsed": true
	   },
	   "outputs": [],
"source": [
"// Example 9.2;//photocurrent \n",
"clc;\n",
"clear;\n",
"close;\n",
"R=0.85;//responsivity in ampere per watt\n",
"Po=1;//output power in milli watt\n",
"Ip= R*Po;//photocurrent in milli ampere\n",
"disp(Ip,'photocurrent in milli ampere is ')"
   ]
   }
,
{
		   "cell_type": "markdown",
		   "metadata": {},
		   "source": [
			"## Example 9.3: responsivity.sce"
		   ]
		  },
  {
"cell_type": "code",
	   "execution_count": null,
	   "metadata": {
	    "collapsed": true
	   },
	   "outputs": [],
"source": [
"// Example 9.3;//responsivity\n",
"clc;\n",
"clear;\n",
"close;\n",
"E=0.75;//energy gap in electron volt\n",
"C=3*10^8;//SPEED of light in meter per second\n",
"n=0.60;//quantum efficiency\n",
"ht=6.62*10^-34;//plank constt.\n",
"h=((ht*C)/(E*1.6*10^-19))*10^9;//wavelength in nano meter\n",
"R=((n*h)/1248);//responsivity\n",
"disp(R,'Responsivity is in ampere per watt')"
   ]
   }
,
{
		   "cell_type": "markdown",
		   "metadata": {},
		   "source": [
			"## Example 9.4: quantum_efficiency_and_responsivity.sce"
		   ]
		  },
  {
"cell_type": "code",
	   "execution_count": null,
	   "metadata": {
	    "collapsed": true
	   },
	   "outputs": [],
"source": [
"// Example 9.3;//quantum efficiency and responsivity\n",
"clc;\n",
"clear;\n",
"close;\n",
"e=1.6*10^-19;//elecronic charge\n",
"re=1.5*10^12;// Average no. of electron hole pair generated\n",
"rp=3*10^12;//no. of photons\n",
"h=0.65;//wavelength in micro meter\n",
"E=0.75;//energy gap in electron volt\n",
"C=3*10^8;//SPEED of light in meter per second\n",
"n=round((re/rp)*100);//quantum efficiency\n",
"ht=6.62*10^-34;//plank constt.\n",
"R=((n/100)*e*h*10^-6)/(ht*C);\n",
"disp(n,'quantum efficiency is')\n",
"disp(R,'Responsivity is in ampere per watt')"
   ]
   }
,
{
		   "cell_type": "markdown",
		   "metadata": {},
		   "source": [
			"## Example 9.5_a: operating_wavelngth.sce"
		   ]
		  },
  {
"cell_type": "code",
	   "execution_count": null,
	   "metadata": {
	    "collapsed": true
	   },
	   "outputs": [],
"source": [
"// Example 9.5.a;//WAVELENGTH\n",
"clc;\n",
"clear;\n",
"close;\n",
"E=1.5*10^-19;//energy in joule\n",
"e=1.6*10^-19;//elecronic charge\n",
"If=1.5*10^-6;//forward current in ampere\n",
"C=3*10^8;//SPEED of light in meter per second\n",
"n=0.65;//quantum efficiency\n",
"ht=6.62*10^-34;//plank constt.\n",
"h=((ht*C)/E)*10^6;//Wavelength\n",
"disp(h,'wavelength in micro meter')\n",
""
   ]
   }
,
{
		   "cell_type": "markdown",
		   "metadata": {},
		   "source": [
			"## Example 9.5_b: incident_optical_power.sce"
		   ]
		  },
  {
"cell_type": "code",
	   "execution_count": null,
	   "metadata": {
	    "collapsed": true
	   },
	   "outputs": [],
"source": [
"// Example 9.5.b;//Incident optical power\n",
"clc;\n",
"clear;\n",
"close;\n",
"E=1.5*10^-19;//energy in joule\n",
"e=1.6*10^-19;//elecronic charge\n",
"If=1.5*10^-6;//forward current in ampere\n",
"C=3*10^8;//SPEED of light in meter per second\n",
"n=0.65;//quantum efficiency\n",
"ht=6.62*10^-34;//plank constt.\n",
"h=((ht*C)/E)*10^6;//Wavelength\n",
"R=(n*e)/(E);//Responsivity in ampere per watt\n",
"Po=(If/R)*10^6;//Output power in micro watt\n",
"disp(Po,'Output power in micro watt')"
   ]
   }
,
{
		   "cell_type": "markdown",
		   "metadata": {},
		   "source": [
			"## Example 9.6: WAVELENGTH.sce"
		   ]
		  },
  {
"cell_type": "code",
	   "execution_count": null,
	   "metadata": {
	    "collapsed": true
	   },
	   "outputs": [],
"source": [
"// Example 9.6;//WAVELENGTH\n",
"clc;\n",
"clear;\n",
"close;\n",
"E=1.43//energy gap in electron-volt\n",
"e=1.6*10^-19;//elecronic charge\n",
"C=3*10^8;//SPEED of light in meter per second\n",
"ht=6.62*10^-34;//plank constt.\n",
"h=((ht*C)/(E*e))*10^6;//Wavelength\n",
"disp(h,'wavelength in micro meter')"
   ]
   }
,
{
		   "cell_type": "markdown",
		   "metadata": {},
		   "source": [
			"## Example 9.7_a: responsivity.sce"
		   ]
		  },
  {
"cell_type": "code",
	   "execution_count": null,
	   "metadata": {
	    "collapsed": true
	   },
	   "outputs": [],
"source": [
"// Example 9.7.a;//responsivity\n",
"clc;\n",
"clear;\n",
"close;\n",
"C=3*10^8;//SPEED of light in meter per second\n",
"n=0.50;//quantum efficiency\n",
"h=900;//wavelength in nano meter\n",
"ht=6.62*10^-34;//plank constt.\n",
"R=((n*h)/1248);//responsivity\n",
"disp(R,'Responsivity is in ampere per watt')"
   ]
   }
,
{
		   "cell_type": "markdown",
		   "metadata": {},
		   "source": [
			"## Example 9.7_b: received_optical_power.sce"
		   ]
		  },
  {
"cell_type": "code",
	   "execution_count": null,
	   "metadata": {
	    "collapsed": true
	   },
	   "outputs": [],
"source": [
"// Example 9.7.b;//optical POWER\n",
"clc;\n",
"clear;\n",
"close;\n",
"Ip=10^-6;//optical current in ampere\n",
"C=3*10^8;//SPEED of light in meter per second\n",
"n=0.50;//quantum efficiency\n",
"h=900;//wavelength in nano meter\n",
"ht=6.62*10^-34;//plank constt.\n",
"R=((n*h)/1248);//responsivity\n",
"Po=(Ip/R);//Output power in  watt\n",
"disp(Po,'Output power in  watt')"
   ]
   }
,
{
		   "cell_type": "markdown",
		   "metadata": {},
		   "source": [
			"## Example 9.7_c: number_of_received_photons.sce"
		   ]
		  },
  {
"cell_type": "code",
	   "execution_count": null,
	   "metadata": {
	    "collapsed": true
	   },
	   "outputs": [],
"source": [
"// Example 9.7.b;//optical current\n",
"clc;\n",
"clear;\n",
"close;\n",
"Ip=10^-6;//optical current in ampere\n",
"C=3*10^8;//SPEED of light in meter per second\n",
"n=0.50;//quantum efficiency\n",
"h=900;//wavelength in nano meter\n",
"ht=6.62*10^-34;//plank constt.\n",
"R=((n*h)/1248);//responsivity\n",
"Po=(Ip/R);//Output power in  watt\n",
"n=(Po*h*10^-9)/(ht*C);//no. of received phontons\n",
"disp(n,'no. of received phontons is')"
   ]
   }
,
{
		   "cell_type": "markdown",
		   "metadata": {},
		   "source": [
			"## Example 9.8: multiplication_factor.sce"
		   ]
		  },
  {
"cell_type": "code",
	   "execution_count": null,
	   "metadata": {
	    "collapsed": true
	   },
	   "outputs": [],
"source": [
"// Example 9.8;//multiplication factor\n",
"clc;\n",
"clear;\n",
"close;\n",
"e=1.6*10^-19;//elecronic charge\n",
"h=0.9;//wavelength in micro meter\n",
"C=3*10^8;//SPEED of light in meter per second\n",
"n=0.80;//efficiency\n",
"ht=6.62*10^-34;//plank constt.\n",
"I=12;//CURRENT IN MICRO AMPERE\n",
"Po=0.5;//output power in micro watt\n",
"R=((n*e*h*10^-6)/(ht*C));\n",
"Ip=Po*R;//photocurrent in micro ampere\n",
"M=I/Ip;//Multilplication factor\n",
"disp(M,'Multilplication factor IS')\n",
""
   ]
   }
,
{
		   "cell_type": "markdown",
		   "metadata": {},
		   "source": [
			"## Example 9.9: responsivity_and_multiplication_factor.sce"
		   ]
		  },
  {
"cell_type": "code",
	   "execution_count": null,
	   "metadata": {
	    "collapsed": true
	   },
	   "outputs": [],
"source": [
"// Example 9.9;//multiplication factor\n",
"clc;\n",
"clear;\n",
"close;\n",
"e=1.6*10^-19;//elecronic charge\n",
"h=850;//wavelength in NANO meter\n",
"C=3*10^8;//SPEED of light in meter per second\n",
"n=0.65;//efficiency\n",
"ht=6.62*10^-34;//plank constt.\n",
"I=10;//CURRENT IN MICRO AMPERE\n",
"Po=0.5;//output power in micro watt\n",
"R=((n*e*h*10^-9)/(ht*C));\n",
"Ip=Po*R;//photocurrent in micro ampere\n",
"M=I/Ip;//Multilplication factor\n",
"disp(M,'Multilplication factor IS')\n",
""
   ]
   }
],
"metadata": {
		  "kernelspec": {
		   "display_name": "Scilab",
		   "language": "scilab",
		   "name": "scilab"
		  },
		  "language_info": {
		   "file_extension": ".sce",
		   "help_links": [
			{
			 "text": "MetaKernel Magics",
			 "url": "https://github.com/calysto/metakernel/blob/master/metakernel/magics/README.md"
			}
		   ],
		   "mimetype": "text/x-octave",
		   "name": "scilab",
		   "version": "0.7.1"
		  }
		 },
		 "nbformat": 4,
		 "nbformat_minor": 0
}
