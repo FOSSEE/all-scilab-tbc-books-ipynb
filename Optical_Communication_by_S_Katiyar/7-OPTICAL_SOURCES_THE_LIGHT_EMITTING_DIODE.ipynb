{
"cells": [
 {
		   "cell_type": "markdown",
	   "metadata": {},
	   "source": [
       "# Chapter 7: OPTICAL SOURCES THE LIGHT EMITTING DIODE"
	   ]
	},
{
		   "cell_type": "markdown",
		   "metadata": {},
		   "source": [
			"## Example 7.10_a: internal_quantum_efficiency_and_internal_power_level.sce"
		   ]
		  },
  {
"cell_type": "code",
	   "execution_count": null,
	   "metadata": {
	    "collapsed": true
	   },
	   "outputs": [],
"source": [
"// Example 7.10.a;//inernal quantum efficiency and internal power level\n",
"clc;\n",
"clear;\n",
"close;\n",
"e=1.6*10^-19;//Electronic charge\n",
"ht=6.62*10^-34;//Constt\n",
"C=3*10^8;//sPPED OF LIGHT IN M/S\n",
"h=1310*10^-9;//wavelength in meter\n",
"tr=25;//radiative recombination time in nano second\n",
"tnr=90;//non radiative recombination time in nano second\n",
"i=35;//injected current in milli ampere\n",
"t=(tr*tnr)/(tr+tnr);//Bulk recombination life time in nano second\n",
"nint= (t/tr)\n",
"Pint= (nint*((ht*C*i*10^-3)/(e*h)))*10^2;//internal power level in milli watt\n",
"disp(nint,'inernal quantum efficiency is ')\n",
"disp(Pint,'internal power level in milli watt')\n",
""
   ]
   }
,
{
		   "cell_type": "markdown",
		   "metadata": {},
		   "source": [
			"## Example 7.10_b: power_emitted.sce"
		   ]
		  },
  {
"cell_type": "code",
	   "execution_count": null,
	   "metadata": {
	    "collapsed": true
	   },
	   "outputs": [],
"source": [
"// Example 7.10.b;//power emitted\n",
"clc;\n",
"clear;\n",
"close;\n",
"n=3.5;//refractive index\n",
"e=1.6*10^-19;//Electronic charge\n",
"ht=6.62*10^-34;//Constt\n",
"C=3*10^8;//sPPED OF LIGHT IN M/S\n",
"h=1310*10^-9;//wavelength in meter\n",
"tr=25;//radiative recombination time in nano second\n",
"tnr=90;//non radiative recombination time in nano second\n",
"i=35;//injected current in milli ampere\n",
"t=(tr*tnr)/(tr+tnr);//Bulk recombination life time in nano second\n",
"nint= (t/tr)\n",
"Pint= (nint*((ht*C*i*10^-3)/(e*h)))*10^2;//internal power level in milli watt\n",
"P=(Pint)/(n*(n+1)^2)*10;//Power emitted\n",
"disp(P,'power emitted in milli watt is')"
   ]
   }
,
{
		   "cell_type": "markdown",
		   "metadata": {},
		   "source": [
			"## Example 7.11: transmission_factor.sce"
		   ]
		  },
  {
"cell_type": "code",
	   "execution_count": null,
	   "metadata": {
	    "collapsed": true
	   },
	   "outputs": [],
"source": [
"// Example 7.11;//transmission factor\n",
"clc;\n",
"clear;\n",
"close;\n",
"n=1;//refratcive index of air\n",
"i=37;//current in milli ampere\n",
"V=1.6;//Voltage in volts\n",
"nep=0.75;//external power efficiency\n",
"Pint=30;//power in milli watt\n",
"nx=3.46;//refrative index\n",
"P=i*V*10^-3;//POWER IN WATT\n",
"Pe=(nep*P)/100;//\n",
"F=(Pe*4*nx^2)/(Pint*10^-3*n^2);//Transmission factor \n",
"disp(F,'Transmission factor is')"
   ]
   }
,
{
		   "cell_type": "markdown",
		   "metadata": {},
		   "source": [
			"## Example 7.12: optical_power_and_external_power_efficiency.sce"
		   ]
		  },
  {
"cell_type": "code",
	   "execution_count": null,
	   "metadata": {
	    "collapsed": true
	   },
	   "outputs": [],
"source": [
"// Example 7.12;//OPTICAL POWER EMITTED & EXTERNAL POWER EFFICIENCY\n",
"clc;\n",
"clear;\n",
"close;\n",
"e=1.6*10^-19;//Electronic charge\n",
"ht=6.62*10^-34;//Constt\n",
"C=3*10^8;//sPPED OF LIGHT IN M/S\n",
"h=0.85*10^-5;//wavelength in meter\n",
"V=1;//VOLTAGE\n",
"F=0.68;//transmiison factor\n",
"nx=3.6;//refractive index\n",
"n=1;;//refrative index of air\n",
"nint=0.6;//inernal efficiency\n",
"i=20*10^-3;//injected current in milli ampere\n",
"Pint= (nint*((ht*C*i*10^-3)/(e*h)))*10^7;//internal power level in milli watt\n",
"Pe=round((Pint*F)/(4*nx^2)*10^3);//optical power emitted\n",
"nep=(Pe*10^-6/(V*i))*100;//EXTERNAL POWER EFFICIENCY\n",
"disp(Pe,'optical power emitted in micro watt')\n",
"disp(nep,'external power efficiency is')"
   ]
   }
,
{
		   "cell_type": "markdown",
		   "metadata": {},
		   "source": [
			"## Example 7.1_a: bulk_recombination_life_time.sce"
		   ]
		  },
  {
"cell_type": "code",
	   "execution_count": null,
	   "metadata": {
	    "collapsed": true
	   },
	   "outputs": [],
"source": [
"// Example 7.1.a;//Bulk recombination life time\n",
"clc;\n",
"clear;\n",
"close;\n",
"h=1310*10^-9;//wavelength in meter\n",
"tr=30;//radiative recombination time in nano second\n",
"tnr=100;//non radiative recombination time in nano second\n",
"i=40;//injected current in milli ampere\n",
"t=(tr*tnr)/(tr+tnr);//Bulk recombination life time in nano second\n",
"disp(t,'Bulk recombination life time in nano second')"
   ]
   }
,
{
		   "cell_type": "markdown",
		   "metadata": {},
		   "source": [
			"## Example 7.1_b: internal_quantum_efficiency.sce"
		   ]
		  },
  {
"cell_type": "code",
	   "execution_count": null,
	   "metadata": {
	    "collapsed": true
	   },
	   "outputs": [],
"source": [
"// Example 7.1.b;//inernal quantum efficiency\n",
"clc;\n",
"clear;\n",
"close;\n",
"h=1310*10^-9;//wavelength in meter\n",
"tr=30;//radiative recombination time in nano second\n",
"tnr=100;//non radiative recombination time in nano second\n",
"i=40;//injected current in milli ampere\n",
"t=(tr*tnr)/(tr+tnr);//Bulk recombination life time in nano second\n",
"nint= (t/tr)\n",
"disp(nint,'inernal quantum efficiency is ')"
   ]
   }
,
{
		   "cell_type": "markdown",
		   "metadata": {},
		   "source": [
			"## Example 7.1_c: power_level.sce"
		   ]
		  },
  {
"cell_type": "code",
	   "execution_count": null,
	   "metadata": {
	    "collapsed": true
	   },
	   "outputs": [],
"source": [
"// Example 7.1.c;//inernal power level\n",
"clc;\n",
"clear;\n",
"close;\n",
"e=1.6*10^-19;//Electronic charge\n",
"ht=6.62*10^-34;//Constt\n",
"C=3*10^8;//sPPED OF LIGHT IN M/S\n",
"h=1310*10^-9;//wavelength in meter\n",
"tr=30;//radiative recombination time in nano second\n",
"tnr=100;//non radiative recombination time in nano second\n",
"i=40;//injected current in milli ampere\n",
"t=(tr*tnr)/(tr+tnr);//Bulk recombination life time in nano second\n",
"nint= (t/tr)\n",
"Pint= (nint*((ht*C*i*10^-3)/(e*h)))*10^2;//internal power level in milli watt\n",
"disp(Pint,'internal power level in milli watt')"
   ]
   }
,
{
		   "cell_type": "markdown",
		   "metadata": {},
		   "source": [
			"## Example 7.2: power_radiated.sce"
		   ]
		  },
  {
"cell_type": "code",
	   "execution_count": null,
	   "metadata": {
	    "collapsed": true
	   },
	   "outputs": [],
"source": [
"// Example 7.2;//power radiated by LED\n",
"clc;\n",
"clear;\n",
"close;\n",
"e=1.6*10^-19;//Electronic charge\n",
"ht=6.62*10^-34;//plank Constt\n",
"C=3*10^8;//sPPED OF LIGHT IN M/S\n",
"h=670*10^-9;//wavelength in meter\n",
"i=50;//injected current in milli ampere\n",
"nint=0.03;//inernal quantume efficiency\n",
"Pint= (nint*((ht*C*i*10^-3)/(e*h)))*10^2;//internal power level in milli watt\n",
"disp(Pint,'internal power level in milli watt')"
   ]
   }
,
{
		   "cell_type": "markdown",
		   "metadata": {},
		   "source": [
			"## Example 7.3: non_radiative_recombination_lifetime.sce"
		   ]
		  },
  {
"cell_type": "code",
	   "execution_count": null,
	   "metadata": {
	    "collapsed": true
	   },
	   "outputs": [],
"source": [
"// Example 7.3;//non radiative recombination time \n",
"clc;\n",
"clear;\n",
"close;\n",
"h=890*10^-9;//wavelength in meter\n",
"tr=100;//radiative recombination time in nano second\n",
"t=130;//Bulk recombination life time in nano second\n",
"i=14;//injected current in milli ampere\n",
"tnr=round((t*tr)/(t-tr));//non radiative recombination time in nano second\n",
"disp(tnr,'non radiative recombination time in nano second')"
   ]
   }
,
{
		   "cell_type": "markdown",
		   "metadata": {},
		   "source": [
			"## Example 7.4: internal_quantum_efficiency.sce"
		   ]
		  },
  {
"cell_type": "code",
	   "execution_count": null,
	   "metadata": {
	    "collapsed": true
	   },
	   "outputs": [],
"source": [
"// Example 7.4;//inernal power level\n",
"clc;\n",
"clear;\n",
"close;\n",
"e=1.6*10^-19;//Electronic charge\n",
"ht=6.62*10^-34;//Constt\n",
"C=3*10^8;//sPPED OF LIGHT IN M/S\n",
"h=0.87*10^-9;//wavelength in meter\n",
"i=40;//injected current in milli ampere\n",
"nint= 0.625;//inernal quantum efficieny\n",
"Pint= (nint*((ht*C*i*10^-3)/(e*h)));//internal power level in milli watt\n",
"disp(Pint,'internal power level in milli watt')"
   ]
   }
,
{
		   "cell_type": "markdown",
		   "metadata": {},
		   "source": [
			"## Example 7.5: optical_power_emitted.sce"
		   ]
		  },
  {
"cell_type": "code",
	   "execution_count": null,
	   "metadata": {
	    "collapsed": true
	   },
	   "outputs": [],
"source": [
"// Example 7.5;//optical power emitted\n",
"clc;\n",
"clear;\n",
"close;\n",
"F=0.68;//transmission factore\n",
"nx=3.6;//refractive index\n",
"n=1;//refractive index of air\n",
"Px=((F*n^2)/(4*nx^2))*100;//optical power emitter\n",
"disp(Px,'percentage of emiiter power in terms of power generated internally')"
   ]
   }
,
{
		   "cell_type": "markdown",
		   "metadata": {},
		   "source": [
			"## Example 7.6_a: coupling_efficiency.sce"
		   ]
		  },
  {
"cell_type": "code",
	   "execution_count": null,
	   "metadata": {
	    "collapsed": true
	   },
	   "outputs": [],
"source": [
"// Example 7.6.a;//coupling efficiency\n",
"clc;\n",
"clear;\n",
"close;\n",
"NA=0.2;//numerical aperture\n",
"n=1.4;//refractive index\n",
"nc=(NA)^2;//coupling efficiency\n",
"disp(nc,'coupling efficiency is')"
   ]
   }
,
{
		   "cell_type": "markdown",
		   "metadata": {},
		   "source": [
			"## Example 7.6_b: optical_loss.sce"
		   ]
		  },
  {
"cell_type": "code",
	   "execution_count": null,
	   "metadata": {
	    "collapsed": true
	   },
	   "outputs": [],
"source": [
"// Example 7.6.b;//optical power loss\n",
"clc;\n",
"clear;\n",
"close;\n",
"NA=0.2;//numerical aperture\n",
"n=1.4;//refractive index\n",
"nc=(NA)^2;//coupling efficiency\n",
"Loss=round(-(10*log10(nc)));//optical loss in dB\n",
"disp(Loss,'optical loss in dB is')"
   ]
   }
,
{
		   "cell_type": "markdown",
		   "metadata": {},
		   "source": [
			"## Example 7.7: optical_power.sce"
		   ]
		  },
  {
"cell_type": "code",
	   "execution_count": null,
	   "metadata": {
	    "collapsed": true
	   },
	   "outputs": [],
"source": [
"// Example 7.7;//optical power \n",
"clc;\n",
"clear;\n",
"close;\n",
"r=0.01;//fresenel reflection coefficient\n",
"NA=0.15;//numeical apertrure\n",
"Rd=30;//radiance in W sr-1 cm-2\n",
"i=40;//currenct in milli ampere\n",
"R=25*10^-4;//radis in centi meter\n",
"A=(%pi*R^2);//area \n",
"Pc=(%pi*(1-r)*A*Rd*NA^2)*10^6;//optical power coupled in mincro watt\n",
"disp(Pc,'optical power coupled in mincro watt is')"
   ]
   }
,
{
		   "cell_type": "markdown",
		   "metadata": {},
		   "source": [
			"## Example 7.8: power_conversion_efficiency.sce"
		   ]
		  },
  {
"cell_type": "code",
	   "execution_count": null,
	   "metadata": {
	    "collapsed": true
	   },
	   "outputs": [],
"source": [
"// Example 7.8;//overall power conversion efficiency \n",
"clc;\n",
"clear;\n",
"close;\n",
"Pc=150*10^-6;//Optical power in watt\n",
"If=25;//forward current in milli ampere\n",
"Vf=2.5;//forward voltage in volts\n",
"P=If*10^-3*If;//power in watt\n",
"npc=((Pc/P)*10^3);//overall power conversion efficiency\n",
"disp(npc,'overall power conversion efficiency in percentage')"
   ]
   }
,
{
		   "cell_type": "markdown",
		   "metadata": {},
		   "source": [
			"## Example 7.9: optical_power.sce"
		   ]
		  },
  {
"cell_type": "code",
	   "execution_count": null,
	   "metadata": {
	    "collapsed": true
	   },
	   "outputs": [],
"source": [
"// Example 7.9;//overall power \n",
"clc;\n",
"clear;\n",
"close;\n",
"Pdc=300*10^-6;//d.c. power in watt\n",
"f=20*10^6;//frequency in hertz\n",
"Ti=5*10^-9;//recombination life time in nano second\n",
"Pe=(Pdc*sqrt(1+(2*%pi*f*Ti)^2))*10^6;\n",
"disp(Pe,'overall power in micro watt')"
   ]
   }
],
"metadata": {
		  "kernelspec": {
		   "display_name": "Scilab",
		   "language": "scilab",
		   "name": "scilab"
		  },
		  "language_info": {
		   "file_extension": ".sce",
		   "help_links": [
			{
			 "text": "MetaKernel Magics",
			 "url": "https://github.com/calysto/metakernel/blob/master/metakernel/magics/README.md"
			}
		   ],
		   "mimetype": "text/x-octave",
		   "name": "scilab",
		   "version": "0.7.1"
		  }
		 },
		 "nbformat": 4,
		 "nbformat_minor": 0
}
