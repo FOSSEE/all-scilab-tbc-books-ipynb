{
"cells": [
 {
		   "cell_type": "markdown",
	   "metadata": {},
	   "source": [
       "# Chapter 4: TRANSMISSION CHARACTERSTICS OF OPTICAL FIBERS"
	   ]
	},
{
		   "cell_type": "markdown",
		   "metadata": {},
		   "source": [
			"## Example 4.10: optical_power.sce"
		   ]
		  },
  {
"cell_type": "code",
	   "execution_count": null,
	   "metadata": {
	    "collapsed": true
	   },
	   "outputs": [],
"source": [
"// Example 4.10:Optical Powers\n",
"clc;\n",
"clear;\n",
"close;\n",
"h=1.5;//Wavelength in micro meters\n",
"d=6;//Core diameter in micro meter\n",
"v=0.8;//frequency in Giga Hertz\n",
"alpha=0.5;//Attenuation in dB/Km\n",
"Pb=(4.4*10^-3*d^2*h^2*alpha*v)*10^3;//Threshold optical power for brillouin scattering in milli watt\n",
"Pr=(5.9*10^-2*d^2*alpha*h);//Threshold optical power for Raman scattering in watt\n",
"disp(Pb,'Threshold optical power for brillouin scattering in milli watt')\n",
"disp(Pr,'Threshold optical power for Raman scattering in watt')"
   ]
   }
,
{
		   "cell_type": "markdown",
		   "metadata": {},
		   "source": [
			"## Example 4.11: critical_radius.sce"
		   ]
		  },
  {
"cell_type": "code",
	   "execution_count": null,
	   "metadata": {
	    "collapsed": true
	   },
	   "outputs": [],
"source": [
"// Example 4.11:Critical Radius\n",
"clc;\n",
"clear;\n",
"close;\n",
"d=0.03;//Refractive index difference\n",
"n1=1.5;//Core refractive index\n",
"h= 0.82*10^-6;//Wavelength in meters\n",
"n2=sqrt(n1^2-(2*d*n1^2));// Cladding refractive index\n",
"Rc=(3*n1^2*h)/(4*%pi*sqrt(n1^2-n2^2))*10^6;// Critical Radius in micro meters\n",
"disp(Rc,'Critical Radius in micro meters')\n",
"//answer is calculated wrong in the textbook"
   ]
   }
,
{
		   "cell_type": "markdown",
		   "metadata": {},
		   "source": [
			"## Example 4.12: critical_radius.sce"
		   ]
		  },
  {
"cell_type": "code",
	   "execution_count": null,
	   "metadata": {
	    "collapsed": true
	   },
	   "outputs": [],
"source": [
"// Example 4.11:Critical Radius\n",
"clc;\n",
"clear;\n",
"close;\n",
"d=0.003;//Refractive index difference\n",
"a=4;// core radius in micro meters\n",
"n1=2;//Core refractive index\n",
"h= 1.55*10^-6;//Wavelength in meters\n",
"n2=sqrt(n1^2-(2*d*n1^2));// Cladding refractive index\n",
"hc= ((2*%pi*a*10^-6*sqrt(2*d)*n1)/2.405)*10^6;//cut off wavelength in micro meters;\n",
"x=(20*h)/(sqrt(n1-1.75));\n",
"y=((2.748-0.996*(h*10^6/hc)))^-3;\n",
"Rcs=x*y*10^6;\n",
"disp(Rcs,'Critical Radius in micro meters')"
   ]
   }
,
{
		   "cell_type": "markdown",
		   "metadata": {},
		   "source": [
			"## Example 4.13_a: bandwidth.sce"
		   ]
		  },
  {
"cell_type": "code",
	   "execution_count": null,
	   "metadata": {
	    "collapsed": true
	   },
	   "outputs": [],
"source": [
"// Example 4.13.a:Maximum possible optical bandwidth\n",
"clc;\n",
"clear;\n",
"close;\n",
"t=0.1*10^-6;//Time in second\n",
"L=10;//Distance in Km\n",
"Bt=(1/(2*t))*10^-6;//Maximum possible optical bandwidth in Mega Hertz\n",
"disp(Bt,'Maximum possible optical bandwidth in Mega Hertz')"
   ]
   }
,
{
		   "cell_type": "markdown",
		   "metadata": {},
		   "source": [
			"## Example 4.13_b: pulse_dispersion.sce"
		   ]
		  },
  {
"cell_type": "code",
	   "execution_count": null,
	   "metadata": {
	    "collapsed": true
	   },
	   "outputs": [],
"source": [
"// Example 4.13.b:Despersion per unit length\n",
"clc;\n",
"clear;\n",
"close;\n",
"t=0.1*10^-6;//Time in second\n",
"L=10;//Distance in Km\n",
"dp=(t/L)*10^6;//Despersion per unit length in micro second per Km\n",
"disp(dp,'Despersion per unit length in micro second per Km')"
   ]
   }
,
{
		   "cell_type": "markdown",
		   "metadata": {},
		   "source": [
			"## Example 4.13_c: bandwidth_length_product.sce"
		   ]
		  },
  {
"cell_type": "code",
	   "execution_count": null,
	   "metadata": {
	    "collapsed": true
	   },
	   "outputs": [],
"source": [
"// Example 4.13.b:Bandwidth legth product\n",
"clc;\n",
"clear;\n",
"close;\n",
"t=0.1*10^-6;//Time in second\n",
"L=10;//Distance in Km\n",
"Bt=(1/(2*t))*10^-6;//Maximum possible optical bandwidth in Mega Hertz\n",
"BL=Bt*L;// bANDWIDTH LENGTH PRODUCT IN kM\n",
"disp(BL,'BANDWIDTH LENGTH PRODUCT IN Km')"
   ]
   }
,
{
		   "cell_type": "markdown",
		   "metadata": {},
		   "source": [
			"## Example 4.14: wavelength.sce"
		   ]
		  },
  {
"cell_type": "code",
	   "execution_count": null,
	   "metadata": {
	    "collapsed": true
	   },
	   "outputs": [],
"source": [
"// Example 4.14:Wavelength\n",
"clc;\n",
"clear;\n",
"close;\n",
"Rc=84;// Critical Radius in micro meters\n",
"n2=1.45;//Cladding refrative index\n",
"n1=1.46;//Core refractive index\n",
"h=(Rc*10^-6*4*%pi*sqrt(n1^2-n2^2))/(3*n1^2)*10^6;// Wavelength in micro meters\n",
"disp(h,'Wavelength in micro meters')\n",
"//answer is calculated wrong in the textbook"
   ]
   }
,
{
		   "cell_type": "markdown",
		   "metadata": {},
		   "source": [
			"## Example 4.15: pulse_broadning.sce"
		   ]
		  },
  {
"cell_type": "code",
	   "execution_count": null,
	   "metadata": {
	    "collapsed": true
	   },
	   "outputs": [],
"source": [
"// Example 4.15;//Pulse broadning\n",
"clc;\n",
"clear;\n",
"close;\n",
"M=20;//dispersion parametr picosecond per nano meter per kilometer\n",
"L=30;//distance in Km\n",
"h=1.5;//WAVELENGTH IN MICRO METERS\n",
"Sh=2;// Spectral width in nano meter\n",
"Sm=Sh*L*M;//Pulse broadning due to material dispersion in pico second\n",
"disp(Sm,'Pulse broadning due to material dispersion in pico second')"
   ]
   }
,
{
		   "cell_type": "markdown",
		   "metadata": {},
		   "source": [
			"## Example 4.16_a: material_dispersion_parameter.sce"
		   ]
		  },
  {
"cell_type": "code",
	   "execution_count": null,
	   "metadata": {
	    "collapsed": true
	   },
	   "outputs": [],
"source": [
"// Example 4.16.a;/Material Dispersion Parameter\n",
"clc;\n",
"clear;\n",
"close;\n",
"c=2.998*10^5;// speed of light in km/s\n",
"Dh=0.025;//Material dispersion\n",
"L=30;//distance in Km\n",
"h=850;//WAVELENGTH IN Nano METERS\n",
"Sh=20;// Spectral width in nano meter\n",
"M=((Dh)/(c*h))*10^12;//dispersion parametr picosecond per nano meter per kilometer\n",
"disp(M,'dispersion parametr picosecond per nano meter per kilometer')"
   ]
   }
,
{
		   "cell_type": "markdown",
		   "metadata": {},
		   "source": [
			"## Example 4.16_b: pulse_broadning.sce"
		   ]
		  },
  {
"cell_type": "code",
	   "execution_count": null,
	   "metadata": {
	    "collapsed": true
	   },
	   "outputs": [],
"source": [
"// Example 4.16.b;/Pulse broadning due to material dispersion\n",
"clc;\n",
"clear;\n",
"close;\n",
"c=2.998*10^5;// speed of light in km/s\n",
"Dh=0.025;//Material dispersion\n",
"L=30;//distance in Km\n",
"h=850;//WAVELENGTH IN Nano METERS\n",
"Sh=20;// Spectral width in nano meter\n",
"M=((Dh)/(c*h))*10^12;//dispersion parametr picosecond per nano meter per kilometer\n",
"Sm=(Sh*1*M)*10^-3;//Pulse broadning due to material dispersion in nanp second per kilometer\n",
"disp(Sm,'Pulse broadning due to material dispersion in nanp second per kilometer')"
   ]
   }
,
{
		   "cell_type": "markdown",
		   "metadata": {},
		   "source": [
			"## Example 4.17: pulse_broadning.sce"
		   ]
		  },
  {
"cell_type": "code",
	   "execution_count": null,
	   "metadata": {
	    "collapsed": true
	   },
	   "outputs": [],
"source": [
"// Example 4.17;/Pulse broadning due to material dispersion\n",
"clc;\n",
"clear;\n",
"close;\n",
"c=3*10^8;// speed of light in m/s\n",
"Dh=4*10^-2;//Material dispersion\n",
"L=30;//distance in Km\n",
"h=0.9;//WAVELENGTH IN micro METERS\n",
"Sh=45;// Spectral width in nano meter\n",
"Sm=(Sh*1*900*10^6*4*10^-2)/c;//Pulse broadning due to material dispersion in nano second per kilometer\n",
"disp(Sm,'Pulse broadning due to material dispersion in nano second per kilometer')"
   ]
   }
,
{
		   "cell_type": "markdown",
		   "metadata": {},
		   "source": [
			"## Example 4.18: pulse_broadning.sce"
		   ]
		  },
  {
"cell_type": "code",
	   "execution_count": null,
	   "metadata": {
	    "collapsed": true
	   },
	   "outputs": [],
"source": [
"// Example 4.18;//Pulse broadning\n",
"clc;\n",
"clear;\n",
"close;\n",
"M=95;//dispersion parametr picosecond per nano meter per kilometer\n",
"L=1;//distance in Km\n",
"h=0.85;//WAVELENGTH IN MICRO METERS\n",
"Sh=0.0012*h*10^-6;// Spectral width in nano meter\n",
"Sm=(Sh*L*M)*10^6;//Pulse broadning due to material dispersion in nano second\n",
"disp(Sm,'Pulse broadning due to material dispersion in nano second per kilo meter')"
   ]
   }
,
{
		   "cell_type": "markdown",
		   "metadata": {},
		   "source": [
			"## Example 4.19: pulse_broadning.sce"
		   ]
		  },
  {
"cell_type": "code",
	   "execution_count": null,
	   "metadata": {
	    "collapsed": true
	   },
	   "outputs": [],
"source": [
"// Example 4.19;//LIGHT PULSE SPREAD IN NS\n",
"clc;\n",
"clear;\n",
"close;\n",
"NA=0.275;//Numerical Aperture\n",
"n1=1.48;//Core refrctive index\n",
"L=5;//Length in Km\n",
"C=3*10^5;//Speed of light in km/s\n",
"dts=((L*(NA)^2)/(2*n1*C))*10^9;//LIGHT PULSE SPREAD IN NS\n",
"disp(dts,'LIGHT PULSE SPREAD IN NS')"
   ]
   }
,
{
		   "cell_type": "markdown",
		   "metadata": {},
		   "source": [
			"## Example 4.1: power_loss.sce"
		   ]
		  },
  {
"cell_type": "code",
	   "execution_count": null,
	   "metadata": {
	    "collapsed": true
	   },
	   "outputs": [],
"source": [
"// Example 4.1:Loss\n",
"clc;\n",
"clear;\n",
"close;\n",
"L=0.4;// Length of fiber in km\n",
"Pi=1;// Assume input power\n",
"Po=0.25//Optical Signal Loss\n",
"Loss= round((10/L)*(log10(Pi/Po)));//Loss in dB/Km\n",
"disp(Loss,'Loss in dB/Km')"
   ]
   }
,
{
		   "cell_type": "markdown",
		   "metadata": {},
		   "source": [
			"## Example 4.20_a: delay.sce"
		   ]
		  },
  {
"cell_type": "code",
	   "execution_count": null,
	   "metadata": {
	    "collapsed": true
	   },
	   "outputs": [],
"source": [
"// Example 4.20.a;//delay\n",
"clc;\n",
"clear;\n",
"close;\n",
"d=0.02;// Change in refractive index\n",
"n1=1.5;//Core refrctive index\n",
"L=3*10^3;//Length in meter\n",
"C=2.998*10^8;//Speed of light in m/s\n",
"dts=round(((L*n1*d)/C)*10^9);//DELAY IN NS\n",
"disp(dts,'DELAY IN NS')"
   ]
   }
,
{
		   "cell_type": "markdown",
		   "metadata": {},
		   "source": [
			"## Example 4.20_b: pulse_broadning.sce"
		   ]
		  },
  {
"cell_type": "code",
	   "execution_count": null,
	   "metadata": {
	    "collapsed": true
	   },
	   "outputs": [],
"source": [
"// Example 4.20.b;//Pulse broadning due to intermodal dispersion\n",
"clc;\n",
"clear;\n",
"close;\n",
"d=0.02;// Change in refractive index\n",
"n1=1.5;//Core refrctive index\n",
"L=3*10^3;//Length in meter\n",
"C=2.998*10^8;//Speed of light in m/s\n",
"Ss=(L*n1*d)/(2*sqrt(3)*C)*10^9;//Pulse broadning due to intermodal dispersion in ns\n",
"disp(Ss,'DELAY IN NS')"
   ]
   }
,
{
		   "cell_type": "markdown",
		   "metadata": {},
		   "source": [
			"## Example 4.20_c: bit_rate.sce"
		   ]
		  },
  {
"cell_type": "code",
	   "execution_count": null,
	   "metadata": {
	    "collapsed": true
	   },
	   "outputs": [],
"source": [
"// Example 4.20.c;//Bit Rate\n",
"clc;\n",
"clear;\n",
"close;\n",
"d=0.02;// Change in refractive index\n",
"n1=1.5;//Core refrctive index\n",
"L=3*10^3;//Length in meter\n",
"C=2.998*10^8;//Speed of light in m/s\n",
"dts=round(((L*n1*d)/C)*10^9);//DELAY IN NS\n",
"Bt=(1/(2*dts*10^9))*10^12;//Bit rate in Mbits/sec\n",
"disp(Bt,'Bit rate in Mbits/sec')"
   ]
   }
,
{
		   "cell_type": "markdown",
		   "metadata": {},
		   "source": [
			"## Example 4.20_d: bandwidth_length_product.sce"
		   ]
		  },
  {
"cell_type": "code",
	   "execution_count": null,
	   "metadata": {
	    "collapsed": true
	   },
	   "outputs": [],
"source": [
"// Example 4.20.d;/bANDWIDTH LENGTH PRODUCT\n",
"clc;\n",
"clear;\n",
"close;\n",
"d=0.02;// Change in refractive index\n",
"n1=1.5;//Core refrctive index\n",
"L=3*10^3;//Length in meter\n",
"C=2.998*10^8;//Speed of light in m/s\n",
"dts=round(((L*n1*d)/C)*10^9);//DELAY IN NS\n",
"Bt=(1/(2*dts*10^9))*10^12;//Bit rate in Mbits/sec\n",
"BL=Bt*L*10^-3;// bANDWIDTH LENGTH PRODUCT IN kM\n",
"disp(BL,'bANDWIDTH LENGTH PRODUCT IN Mega Hertz kM')"
   ]
   }
,
{
		   "cell_type": "markdown",
		   "metadata": {},
		   "source": [
			"## Example 4.21: pulse_broadning.sce"
		   ]
		  },
  {
"cell_type": "code",
	   "execution_count": null,
	   "metadata": {
	    "collapsed": true
	   },
	   "outputs": [],
"source": [
"// Example 4.21;//Pulse broadning due to intermodal dispersion\n",
"clc;\n",
"clear;\n",
"close;\n",
"d=0.01;// Change in refractive index\n",
"n1=1.5;//Core refrctive index\n",
"L=6;//Length in Km\n",
"C=2.998*10^8;//Speed of light in m/s\n",
"Pb=86.7;// rms pulse broadning in ns\n",
"PbL=Pb/L;//rms pulse broadning in ns/Km\n",
"Sg=(1*10^3*n1*d^2)/(20*sqrt(3)*C)*10^12;//Pulse broadning due to intermodal dispersion in Ps\n",
"disp(Sg,'Pulse broadning due to intermodal dispersion in Ps')"
   ]
   }
,
{
		   "cell_type": "markdown",
		   "metadata": {},
		   "source": [
			"## Example 4.22: pulse_broadning.sce"
		   ]
		  },
  {
"cell_type": "code",
	   "execution_count": null,
	   "metadata": {
	    "collapsed": true
	   },
	   "outputs": [],
"source": [
"// Example 4.22;//TOTAL RMS Pulse broadning \n",
"clc;\n",
"clear;\n",
"close;\n",
"M=30;//dispersion parametr picosecond per nano meter per kilometer\n",
"Sa=25;//spectral width in nm\n",
"NA=0.4;//nUMERICAL aPERTURE\n",
"n1=1.48;// Core refractibve index\n",
"n2=1.47;//cleadding refrative index\n",
"C=2.998*10^8;//Speed of light in m/s\n",
"d=n1-n2;\n",
"L=1;//length in Km\n",
"Sm=M*L*Sa;//rms pulse broadning due to material dispersion\n",
"Sg=(L*10^3*n1*d^2)/(20*sqrt(3)*C)*10^12;//Pulse broadning due to intermodal dispersion in Ps/Km\n",
"St=sqrt(Sm^2+Sg^2);// Total broadning\n",
"disp(St,'Total broadning Ps per Km is')"
   ]
   }
,
{
		   "cell_type": "markdown",
		   "metadata": {},
		   "source": [
			"## Example 4.23_a: pulse_broadning.sce"
		   ]
		  },
  {
"cell_type": "code",
	   "execution_count": null,
	   "metadata": {
	    "collapsed": true
	   },
	   "outputs": [],
"source": [
"// Example 4.23.a;//TOTAL RMS Pulse broadning \n",
"clc;\n",
"clear;\n",
"close;\n",
"M=250;//dispersion parametr picosecond per nano meter per kilometer\n",
"Sa=50;//spectral width in nm\n",
"NA=0.3;//nUMERICAL aPERTURE\n",
"n1=1.45;// Core refractibve index\n",
"C=2.998*10^8;//Speed of light in m/s\n",
"L=1;//length in Km\n",
"Sm=M*L*Sa*10^-3;//rms pulse broadning due to material dispersion\n",
"Ss=(L*10^3*NA^2)/(4*sqrt(3)*C*n1)*10^9;//Pulse broadning due to intermodal dispersion in ns/Km\n",
"St=sqrt(Sm^2+Ss^2);// Total broadning\n",
"disp(Ss,Sm,St,'Total broadning ns per Km is')"
   ]
   }
,
{
		   "cell_type": "markdown",
		   "metadata": {},
		   "source": [
			"## Example 4.23_b: bandwidth_length_product.sce"
		   ]
		  },
  {
"cell_type": "code",
	   "execution_count": null,
	   "metadata": {
	    "collapsed": true
	   },
	   "outputs": [],
"source": [
"// Example 4.23.b;//bandwidth length product\n",
"clc;\n",
"clear;\n",
"close;\n",
"M=250;//dispersion parametr picosecond per nano meter per kilometer\n",
"Sa=50;//spectral width in nm\n",
"NA=0.3;//nUMERICAL aPERTURE\n",
"n1=1.45;// Core refractibve index\n",
"C=2.998*10^8;//Speed of light in m/s\n",
"L=1;//length in Km\n",
"Sm=M*L*Sa*10^-3;//rms pulse broadning due to material dispersion\n",
"Ss=(L*10^3*NA^2)/(4*sqrt(3)*C*n1)*10^9;//Pulse broadning due to intermodal dispersion in ns/Km\n",
"St=sqrt(Sm^2+Ss^2);// Total broadning\n",
"BL= (0.2/(St*10^-9))*10^-6;// Bandwidth length product in Mega hertz Km\n",
"disp(BL,'Bandwidth length product in Mega hertz Km')"
   ]
   }
,
{
		   "cell_type": "markdown",
		   "metadata": {},
		   "source": [
			"## Example 4.24: beat_length.sce"
		   ]
		  },
  {
"cell_type": "code",
	   "execution_count": null,
	   "metadata": {
	    "collapsed": true
	   },
	   "outputs": [],
"source": [
"// Example 4.23.b;//bandwidth length product\n",
"clc;\n",
"clear;\n",
"close;\n",
"Lbc=100;//Birefringent Coherence over length in Km\n",
"h=1.32;//wavelength in micro meter\n",
"df=1.5;//spectral width\n",
"Bf=((h*10^-6)^2)/(Lbc*10^3*df*10^-9);\n",
"Lb=(h*10^-6)/Bf;//Beat Length in Km\n",
"disp(Lb,'Beat Length in Km')"
   ]
   }
,
{
		   "cell_type": "markdown",
		   "metadata": {},
		   "source": [
			"## Example 4.25: modal_birefringence.sce"
		   ]
		  },
  {
"cell_type": "code",
	   "execution_count": null,
	   "metadata": {
	    "collapsed": true
	   },
	   "outputs": [],
"source": [
"// Example 4.25;//birefringence\n",
"clc;\n",
"clear;\n",
"close;\n",
"Lbc1=0.5;//beat length mm\n",
"h=1.3;//wavelength in micro meter\n",
"Bf1=((h*10^-6)/(Lbc1*10^-3));// birefringence when beat length = 0.5mm\n",
"Lbc2=60;//beat length meter\n",
"Bf2=((h*10^-6)/(Lbc2));// birefringence when beat length = 60 meter\n",
"disp(Bf1,'birefringence when beat length = 0.5mm')\n",
"disp(Bf2,'birefringence when beat length = 60 meter')"
   ]
   }
,
{
		   "cell_type": "markdown",
		   "metadata": {},
		   "source": [
			"## Example 4.26: modal_birefringence_cohrence_length_and_prop_diif.sce"
		   ]
		  },
  {
"cell_type": "code",
	   "execution_count": null,
	   "metadata": {
	    "collapsed": true
	   },
	   "outputs": [],
"source": [
"// Example 4.26;//Bifringence and differnce between the propogation constt.\n",
"clc;\n",
"clear;\n",
"close;\n",
"Lb=0.05;//Birefringent Coherence over length in meter\n",
"h=0.5;//wavelength in micro meter\n",
"df=1;//spectral width in nano meter\n",
"Bf=((h*10^-6)/(Lb));//modal bifringence \n",
"Lbc= (((h*10^-6)^2)/(Bf*df*10^-9));//COHERENCE LENGTHnin meter\n",
"Bxy=(2*%pi)/(Lb);//Diff in the propogation constant\n",
"disp(Bf,'modal bifringence  is')\n",
"disp(Bxy,'Diff in the propgation constt. is')"
   ]
   }
,
{
		   "cell_type": "markdown",
		   "metadata": {},
		   "source": [
			"## Example 4.27: bit_rate.sce"
		   ]
		  },
  {
"cell_type": "code",
	   "execution_count": null,
	   "metadata": {
	    "collapsed": true
	   },
	   "outputs": [],
"source": [
"// Example 4.27;//Maximum bit rate\n",
"clc;\n",
"clear;\n",
"close;\n",
"L=10;//Length in Km\n",
"Dt2=600*10^-12;//Birefringent in second per kilometer\n",
"B=(0.9)/(Dt2*L*10^3);//\n",
"Btm= round((B/0.55)*10^-3);// maximum bit rate in kilo bit per second\n",
"disp(Btm,'maximum bit rate in kilo bit per second')"
   ]
   }
,
{
		   "cell_type": "markdown",
		   "metadata": {},
		   "source": [
			"## Example 4.28: pulse_broadning.sce"
		   ]
		  },
  {
"cell_type": "code",
	   "execution_count": null,
	   "metadata": {
	    "collapsed": true
	   },
	   "outputs": [],
"source": [
"// Example 4.28;//Pulse Spreadning\n",
"clc;\n",
"clear;\n",
"close;\n",
"L=100;// Length in Km\n",
"Tpmd=0.5*sqrt(L);// pulse broadning in pico second\n",
"disp(Tpmd,'pulse broadning in pico second is ')"
   ]
   }
,
{
		   "cell_type": "markdown",
		   "metadata": {},
		   "source": [
			"## Example 4.2: power_level.sce"
		   ]
		  },
  {
"cell_type": "code",
	   "execution_count": null,
	   "metadata": {
	    "collapsed": true
	   },
	   "outputs": [],
"source": [
"// Example 4.2:Outpit Power\n",
"clc;\n",
"clear;\n",
"close;\n",
"h=0.82;// Wavelength in micro meters\n",
"alpha = 0.5;//Attenuation loss in dB/Km\n",
"L=3;// Length of fiber in km\n",
"Pi=1;//Input power in Milli Watt\n",
"X= ((alpha*L)/10);\n",
"Po=Pi*(10^(- X));//Output power in milli watt\n",
"disp(Po,'output power in mili watt')"
   ]
   }
,
{
		   "cell_type": "markdown",
		   "metadata": {},
		   "source": [
			"## Example 4.3: link_length.sce"
		   ]
		  },
  {
"cell_type": "code",
	   "execution_count": null,
	   "metadata": {
	    "collapsed": true
	   },
	   "outputs": [],
"source": [
"// Example 4.1:Link Length\n",
"clc;\n",
"clear;\n",
"close;\n",
"alpha = 0.5;//Attenuation loss in dB/Km\n",
"Pi=1.5;//input power in milli watt\n",
"Po=2//Output power in micro watt\n",
"L=(10/alpha)*(log10((Pi*10^-3)/(Po*10^-6)));// Link Length in Km\n",
"disp(L,'Length in Km')"
   ]
   }
,
{
		   "cell_type": "markdown",
		   "metadata": {},
		   "source": [
			"## Example 4.4: pulse_dispersio.sce"
		   ]
		  },
  {
"cell_type": "code",
	   "execution_count": null,
	   "metadata": {
	    "collapsed": true
	   },
	   "outputs": [],
"source": [
"// Example 4.4:Dispersion\n",
"clc;\n",
"clear;\n",
"close;\n",
"Pb=1.2;//in nano second\n",
"D=30;//in Km\n",
"DL=((Pb*10^-3)/30);// Dispersion per unit length\n",
"disp(DL,'Dispersion in ns/m')"
   ]
   }
,
{
		   "cell_type": "markdown",
		   "metadata": {},
		   "source": [
			"## Example 4.5: output_optical_power.sce"
		   ]
		  },
  {
"cell_type": "code",
	   "execution_count": null,
	   "metadata": {
	    "collapsed": true
	   },
	   "outputs": [],
"source": [
"// Example 4.5:Outpit Power\n",
"clc;\n",
"clear;\n",
"close;\n",
"h=1.3;// Wavelength in micro meters\n",
"alpha = 0.8;//Attenuation loss in dB/Km\n",
"L=30;// Length of fiber in km\n",
"Pi=200;//Input power in micro Watt\n",
"X= ((alpha*L)/10);\n",
"Po=Pi*(10^(- X));//Output power in micro watt\n",
"disp(Po,'output power in micro watt')"
   ]
   }
,
{
		   "cell_type": "markdown",
		   "metadata": {},
		   "source": [
			"## Example 4.6_a: signal_loss.sce"
		   ]
		  },
  {
"cell_type": "code",
	   "execution_count": null,
	   "metadata": {
	    "collapsed": true
	   },
	   "outputs": [],
"source": [
"// Example 4.6.a:Loss\n",
"clc;\n",
"clear;\n",
"close;\n",
"L=8;// Length of fiber in km\n",
"Pi=120*10^-6;// input power in watt\n",
"Po=3*10^-6;//Output power in watt\n",
"alpha= round(10*(log10(Pi/Po)));//Loss in dB\n",
"disp(alpha,'Loss in dB')"
   ]
   }
,
{
		   "cell_type": "markdown",
		   "metadata": {},
		   "source": [
			"## Example 4.6_b: signal_loss_per_kilometer.sce"
		   ]
		  },
  {
"cell_type": "code",
	   "execution_count": null,
	   "metadata": {
	    "collapsed": true
	   },
	   "outputs": [],
"source": [
"// Example 4.6.b:Loss in dB/Km\n",
"clc;\n",
"clear;\n",
"close;\n",
"L=8;// Length of fiber in km\n",
"Pi=120*10^-6;// input power in watt\n",
"Po=3*10^-6;//Output power in watt\n",
"alpha= round(10*(log10(Pi/Po)));//Loss in dB\n",
"alphadb= alpha/L;//Loss in dB/Km\n",
"disp(alphadb,'Loss in dB/Km')\n",
""
   ]
   }
,
{
		   "cell_type": "markdown",
		   "metadata": {},
		   "source": [
			"## Example 4.6_c: overall_signal_attenuation.sce"
		   ]
		  },
  {
"cell_type": "code",
	   "execution_count": null,
	   "metadata": {
	    "collapsed": true
	   },
	   "outputs": [],
"source": [
"// Example 4.6.c:Loss for 10Km\n",
"clc;\n",
"clear;\n",
"close;\n",
"L=8;// Length of fiber in km\n",
"Pi=120*10^-6;// input power in watt\n",
"Po=3*10^-6;//Output power in watt\n",
"alpha= round(10*(log10(Pi/Po)));//Loss in dB\n",
"alphadb= alpha/L;//Loss in dB/Km\n",
"alphadb2=alphadb*10;// Loss along 10Km fiber length in dB\n",
"Ds=alphadb2+9;// Due to splices at 1km Interval\n",
"disp(Ds,'Due to splices at 1km Interval in dB')\n",
""
   ]
   }
,
{
		   "cell_type": "markdown",
		   "metadata": {},
		   "source": [
			"## Example 4.6_d: ratio_of_input_to_output_power.sce"
		   ]
		  },
  {
"cell_type": "code",
	   "execution_count": null,
	   "metadata": {
	    "collapsed": true
	   },
	   "outputs": [],
"source": [
"// Example 4.6.d:Ratio of powers\n",
"clc;\n",
"clear;\n",
"close;\n",
"L=8;// Length of fiber in km\n",
"Pi=120*10^-6;// input power in watt\n",
"Po=3*10^-6;//Output power in watt\n",
"alpha= round(10*(log10(Pi/Po)));//Loss in dB\n",
"alphadb= alpha/L;//Loss in dB/Km\n",
"alphadb2=alphadb*10;// Loss along 10Km fiber length in dB\n",
"Ds=alphadb2+9;// Due to splices at 1km Interval\n",
"rt= 10^(Ds/10);// Ratio of input to output power\n",
"disp(rt,'Ratio of input to output power')\n",
""
   ]
   }
,
{
		   "cell_type": "markdown",
		   "metadata": {},
		   "source": [
			"## Example 4.7_a: signal_attenuation.sce"
		   ]
		  },
  {
"cell_type": "code",
	   "execution_count": null,
	   "metadata": {
	    "collapsed": true
	   },
	   "outputs": [],
"source": [
"// Example 4.8.a:Attenuation \n",
"clc;\n",
"clear;\n",
"close;\n",
"L=1;// dISTANCE IN kM\n",
"h=0.63;//in micro meter\n",
"Tf=1400;//Temperature in kelvin\n",
"p=0.286;//photoelastic coefficient of silica\n",
"n=1.46;//Refractive index of silica\n",
"Bc=7*10^-11;//isothermal compersebility in in Metere square per N\n",
"K=1.38*10^-23;// bOLTZMAN CONSTT. IN JULIAN PER KELVIN\n",
"x= (h*10^-6);\n",
"Yr=(8*%pi^3*n^8*p^2*Bc*K*Tf)/(3*(x)^4);//ray leigh scattering coefficient\n",
"Ekm= exp(-Yr*L*10^3)\n",
"alpha=10*(log10(1/Ekm));//Attenuation in dB/Km\n",
"disp(alpha,'Attenuation in dB/Km')\n",
"disp('solutions of example 4.8 and 4.7 are interchanged in the book')\n",
""
   ]
   }
,
{
		   "cell_type": "markdown",
		   "metadata": {},
		   "source": [
			"## Example 4.7_b: signal_attenuation.sce"
		   ]
		  },
  {
"cell_type": "code",
	   "execution_count": null,
	   "metadata": {
	    "collapsed": true
	   },
	   "outputs": [],
"source": [
"// Example 4.7.b:Attenuation \n",
"clc;\n",
"clear;\n",
"close;\n",
"L=1;//distance in Km\n",
"h=1.30;//in micro meter\n",
"Tf=1400;//Temperature in kelvin\n",
"p=0.286;//photoelastic coefficient of silica\n",
"n=1.46;//Refractive index of silica\n",
"Bc=7*10^-11;//isothermal compersebility in in Metere square per N\n",
"K=1.38*10^-23;// bOLTZMAN CONSTT. IN JULIAN PER KELVIN\n",
"x= (h*10^-6);\n",
"Yr=(8*%pi^3*n^8*p^2*Bc*K*Tf)/(3*(x)^4);//ray leigh scattering coefficient\n",
"Ekm= exp(-Yr*L*10^3);//Transmission loss factor\n",
"alpha=10*(log10(1/Ekm));//Attenuation in dB/Km\n",
"disp(alpha,'Attenuation in dB/Km')\n",
"disp('solutions of example 4.8 and 4.7 are interchanged in the book')\n",
"\n",
""
   ]
   }
,
{
		   "cell_type": "markdown",
		   "metadata": {},
		   "source": [
			"## Example 4.8: refractive_index.sce"
		   ]
		  },
  {
"cell_type": "code",
	   "execution_count": null,
	   "metadata": {
	    "collapsed": true
	   },
	   "outputs": [],
"source": [
"// Example 4.8:refrative index\n",
"clc;\n",
"clear;\n",
"close;\n",
"alpha=0.46;//attenuation in Db/Km\n",
"L=1;// dISTANCE IN kM\n",
"h=1;//in micro meter\n",
"Tf=758;//Temperature in kelvin\n",
"p=0.245;//photoelastic coefficient of silica\n",
"Bc=8.4*10^-11;//isothermal compersebility in in Metere square per N\n",
"K=1.38*10^-23;// bOLTZMAN CONSTT. IN JULIAN PER KELVIN\n",
"x= h\n",
"Yr=((8*%pi^3*p^2*Bc*K*Tf)/(3*(x)^4))*10^24;//ray leigh scattering coefficient\n",
"n=((alpha)/(4.34*Yr*10^3))^(1/8);//Refractive index\n",
"disp(n,'Refractive index is')\n",
""
   ]
   }
,
{
		   "cell_type": "markdown",
		   "metadata": {},
		   "source": [
			"## Example 4.9: operating_wavelength_and_attenuation.sce"
		   ]
		  },
  {
"cell_type": "code",
	   "execution_count": null,
	   "metadata": {
	    "collapsed": true
	   },
	   "outputs": [],
"source": [
"// Example 4.9:Attenuation \n",
"clc;\n",
"clear;\n",
"close;\n",
"Pb=150;//Threshold optical power for brillouin scattering in milli watt\n",
"Pr=1.5;//Threshold optical power for Raman scattering in watt\n",
"d=8;//Core diameter in micro meter\n",
"v=1;//frequency in Giga Hertz\n",
"h=(5.9*10^-2*d^2*Pb*10^-3)/((4.4*10^-3*d^2*Pr));\n",
"alpha=(Pb*10^-3)/((4.4*10^-3*d^2*h^2));// Attenuation in db/Km\n",
"disp(alpha,'Loss in dB/Km')"
   ]
   }
],
"metadata": {
		  "kernelspec": {
		   "display_name": "Scilab",
		   "language": "scilab",
		   "name": "scilab"
		  },
		  "language_info": {
		   "file_extension": ".sce",
		   "help_links": [
			{
			 "text": "MetaKernel Magics",
			 "url": "https://github.com/calysto/metakernel/blob/master/metakernel/magics/README.md"
			}
		   ],
		   "mimetype": "text/x-octave",
		   "name": "scilab",
		   "version": "0.7.1"
		  }
		 },
		 "nbformat": 4,
		 "nbformat_minor": 0
}
