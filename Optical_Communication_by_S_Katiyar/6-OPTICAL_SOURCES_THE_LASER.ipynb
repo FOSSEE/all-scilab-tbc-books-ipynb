{
"cells": [
 {
		   "cell_type": "markdown",
	   "metadata": {},
	   "source": [
       "# Chapter 6: OPTICAL SOURCES THE LASER"
	   ]
	},
{
		   "cell_type": "markdown",
		   "metadata": {},
		   "source": [
			"## Example 6.10: wavelngth_and_line_width.sce"
		   ]
		  },
  {
"cell_type": "code",
	   "execution_count": null,
	   "metadata": {
	    "collapsed": true
	   },
	   "outputs": [],
"source": [
"// Example 6.10;//wavelength\n",
"clc;\n",
"close;\n",
"clear;\n",
"Eg=1.43;//Energy gap in electron-volt\n",
"hC=1.24;//cONSTANT\n",
"h=hC/Eg;//wavelength in micro meter\n",
"disp(h,'wavelength in micro meter is')"
   ]
   }
,
{
		   "cell_type": "markdown",
		   "metadata": {},
		   "source": [
			"## Example 6.11: threshold_coefficient_gain.sce"
		   ]
		  },
  {
"cell_type": "code",
	   "execution_count": null,
	   "metadata": {
	    "collapsed": true
	   },
	   "outputs": [],
"source": [
"// Example 6.4;//threshold coefficient gain\n",
"clc;\n",
"clear;\n",
"close;\n",
"R1=0.35;\n",
"R2=0.35;\n",
"alpha=1.5;// in per meter\n",
"L=0.5;//in mm\n",
"t=0.8;//confinement factor\n",
"gth=alpha+(1/(2*L)*log(1/(R1*R2)));\n",
"Tc= gth/t;// threshold coefficient gain in per mm\n",
"disp(Tc,'threshold coefficient gain in per mm ')"
   ]
   }
,
{
		   "cell_type": "markdown",
		   "metadata": {},
		   "source": [
			"## Example 6.12: cavity_length_and_number_of_logitudinal_modes.sce"
		   ]
		  },
  {
"cell_type": "code",
	   "execution_count": null,
	   "metadata": {
	    "collapsed": true
	   },
	   "outputs": [],
"source": [
"// Example 6.12;//Cavity length and longitudinal modes\n",
"clc;\n",
"close;\n",
"clear;\n",
"h=0.87*10^-6;//Wavelength in meter\n",
"n=3.6;//refractive index\n",
"df=278;//frequency sepration in Gega Hertz\n",
"C=3*10^8;//Speed of light in m/s\n",
"L=(C/(2*n*df*10^9))*10^4;//Length of cavity in cm \n",
"q=(2*n*L*10^-2)/(h);//Number of logitudinal modes\n",
"disp(L,'Length of cavity in cm')\n",
"disp(q,'Number of longitudinal modes are ')"
   ]
   }
,
{
		   "cell_type": "markdown",
		   "metadata": {},
		   "source": [
			"## Example 6.13: internal_quantum_efficiency.sce"
		   ]
		  },
  {
"cell_type": "code",
	   "execution_count": null,
	   "metadata": {
	    "collapsed": true
	   },
	   "outputs": [],
"source": [
"// Example 6.13;//internal quantum efficiency\n",
"clc;\n",
"clear;\n",
"close;\n",
"n=3.6;//refractive index\n",
"nd=0.45;//differntilal quantum efficiency \n",
"alpha=20;// in per cm\n",
"L=500;//in micro meter\n",
"r1= ((n-1)/(n+1))^2;\n",
"r2=r1;\n",
"ni=(nd*(1+((2*alpha*L*10^-4)/(log(1/(r1*r2))))))*100;\n",
"disp(ni,'Internal quantum efficiency is')"
   ]
   }
,
{
		   "cell_type": "markdown",
		   "metadata": {},
		   "source": [
			"## Example 6.14: number_of_longitudinal_modes_and_frequency_sepration.sce"
		   ]
		  },
  {
"cell_type": "code",
	   "execution_count": null,
	   "metadata": {
	    "collapsed": true
	   },
	   "outputs": [],
"source": [
"// Example 6.14;//number of longitudinal modes and frequency spacing\n",
"clc;\n",
"clear;\n",
"close;\n",
"h=0.5*10^-6;//Wavelength in meter\n",
"n=1.5;//refractive index\n",
"L=7*10^-2;//LENGTH IN METER\n",
"C=3*10^8;//Speed of light in m/s\n",
"q=(2*n*L)/(h);//Number of logitudinal modes\n",
"df=((C)/(2*n*L))*10^-9;//frequency sepration in Gega Hertz\n",
"disp(df,'frequency spacing in Gega Hertz is ')\n",
"disp(q,'Number of longitudinal modes are ')"
   ]
   }
,
{
		   "cell_type": "markdown",
		   "metadata": {},
		   "source": [
			"## Example 6.15: cavity_length_and_number_of_logitudinal_modes.sce"
		   ]
		  },
  {
"cell_type": "code",
	   "execution_count": null,
	   "metadata": {
	    "collapsed": true
	   },
	   "outputs": [],
"source": [
"// Example 6.15;//Cavity length and longitudinal modes\n",
"clc;\n",
"close;\n",
"clear;\n",
"h=0.87*10^-6;//Wavelength in meter\n",
"n=3.6;//refractive index\n",
"df=278;//frequency sepration in Gega Hertz\n",
"C=3*10^8;//Speed of light in m/s\n",
"L=round((C/(2*n*df*10^9))*10^6);//Length of cavity in micro meter \n",
"q=round(((2*n*L*10^-2)/(h))*10^-4);//Number of logitudinal modes\n",
"disp(L,'Length of cavity in micro meter')\n",
"disp(q,'Number of longitudinal modes are ')"
   ]
   }
,
{
		   "cell_type": "markdown",
		   "metadata": {},
		   "source": [
			"## Example 6.16: hole_concentration.sce"
		   ]
		  },
  {
"cell_type": "code",
	   "execution_count": null,
	   "metadata": {
	    "collapsed": true
	   },
	   "outputs": [],
"source": [
"// Example 6.16;//Hole concentration\n",
"clear;\n",
"close;\n",
"clc;\n",
"Br=2.39*10^-10;//Bit rate\n",
"Tr=1;//Time in nano second\n",
"n=1/(Br*Tr*10^-9)//hole concentration\n",
"disp(n,'hole concentration in per cubic centimeter')\n",
""
   ]
   }
,
{
		   "cell_type": "markdown",
		   "metadata": {},
		   "source": [
			"## Example 6.17: gain_factor.sce"
		   ]
		  },
  {
"cell_type": "code",
	   "execution_count": null,
	   "metadata": {
	    "collapsed": true
	   },
	   "outputs": [],
"source": [
"// Example 6.17;//Gain factor\n",
"clc;\n",
"clear;\n",
"close;\n",
"W=15;//width in per centimeter\n",
"Ith=50;//Current in mili ampere\n",
"r1=0.3;\n",
"r2=0.3;\n",
"alpha=10;// in per cm\n",
"L=50;//length in MICRO meter\n",
"Jth=(Ith/(L*10^-6*W));//Current density\n",
"B=(1/Jth)*(alpha+((1/(2*L*10^-04))*log(1/(r1*r2))));//gain factor in centimeter per ampere is\n",
"disp(B,'gain factor in centimeter per ampere is')"
   ]
   }
,
{
		   "cell_type": "markdown",
		   "metadata": {},
		   "source": [
			"## Example 6.18: internal_quantum_efficiency.sce"
		   ]
		  },
  {
"cell_type": "code",
	   "execution_count": null,
	   "metadata": {
	    "collapsed": true
	   },
	   "outputs": [],
"source": [
"// Example 6.18;//internal quantum efficiency\n",
"clc;\n",
"clear;\n",
"close;\n",
"n=3.6;//refractive index\n",
"nd=0.225;//differntilal quantum efficiency \n",
"alpha=20;// in per cm\n",
"L=500;//in micro meter\n",
"r1= ((n-1)/(n+1))^2;\n",
"r2=r1;\n",
"ni=(nd*(1+((2*alpha*L*10^-4)/(log(1/(r1*r2))))))*100;\n",
"disp(ni,'Internal quantum efficiency is')"
   ]
   }
,
{
		   "cell_type": "markdown",
		   "metadata": {},
		   "source": [
			"## Example 6.1: ratio_of_stimulated_emission_rate_to_spontaneous_emission_rate.sce"
		   ]
		  },
  {
"cell_type": "code",
	   "execution_count": null,
	   "metadata": {
	    "collapsed": true
	   },
	   "outputs": [],
"source": [
"// Example 6.1;//Ratio of stimulated emision to spontaneous emission\n",
"clc;\n",
"clear;\n",
"close;\n",
"hw=0.5;//wavelength in micro meetr\n",
"h=6.626*10^-34;//\n",
"T=1000;// temeperature in kelvin\n",
"C=3*10^8;// speed of light in m/s\n",
"f=C/(hw*10^-6);//frequency in hertz\n",
"K=1.38*10^-23;//bOltzman constt.\n",
"x=(h*f)/(K*T);\n",
"Rtp= 1/(exp(x)-1);\n",
"disp(Rtp,'Ratio of stimulated emisssion rate to spontaneous rate is')"
   ]
   }
,
{
		   "cell_type": "markdown",
		   "metadata": {},
		   "source": [
			"## Example 6.2: optical_spacing.sce"
		   ]
		  },
  {
"cell_type": "code",
	   "execution_count": null,
	   "metadata": {
	    "collapsed": true
	   },
	   "outputs": [],
"source": [
"// Example 6.2;//optical spacing\n",
"clc;\n",
"clear;\n",
"close;\n",
"h=0.5*10^-6;//Wavelength in meter\n",
"n=1.38;//refractive index\n",
"T=1000;//tEMPERTURE IN KELVIN\n",
"q=1.3*10^4;//logitudinal modes\n",
"L=(h*q)/(2*n);// optical spacing in meter\n",
"disp(L,'optical spacing in meter')"
   ]
   }
,
{
		   "cell_type": "markdown",
		   "metadata": {},
		   "source": [
			"## Example 6.3: emission_wavelength.sce"
		   ]
		  },
  {
"cell_type": "code",
	   "execution_count": null,
	   "metadata": {
	    "collapsed": true
	   },
	   "outputs": [],
"source": [
"// Example 6.3;//number of longitudinal modes and frequency spacing\n",
"clc;\n",
"clear;\n",
"close;\n",
"h=0.55*10^-6;//Wavelength in meter\n",
"n=1.78;//refractive index\n",
"L=4*10^-2;//LENGTH IN METER\n",
"C=3*10^8;//Speed of light in m/s\n",
"q=(2*n*L)/(h);//Number of logitudinal modes\n",
"df=((C)/(2*n*L))*10^-9;//frequency sepration in Gega Hertz\n",
"disp(df,'frequency spacing in Gega Hertz is ')\n",
"disp(q,'Number of longitudinal modes are ')"
   ]
   }
,
{
		   "cell_type": "markdown",
		   "metadata": {},
		   "source": [
			"## Example 6.4: optical_gai.sce"
		   ]
		  },
  {
"cell_type": "code",
	   "execution_count": null,
	   "metadata": {
	    "collapsed": true
	   },
	   "outputs": [],
"source": [
"// Example 6.4;//optical gain\n",
"clc;\n",
"clear;\n",
"close;\n",
"R1=0.32;\n",
"R2=0.32;\n",
"alpha=10;// in cm\n",
"L=500;//in micro meter\n",
"gth=alpha+(1/(2*L*10^-4)*log(1/(R1*R2)));\n",
"disp(gth,'Optical gain in per centimeter is ')"
   ]
   }
,
{
		   "cell_type": "markdown",
		   "metadata": {},
		   "source": [
			"## Example 6.5: FREQUENCY_AND_WAVELNEGTH_SPACING.sce"
		   ]
		  },
  {
"cell_type": "code",
	   "execution_count": null,
	   "metadata": {
	    "collapsed": true
	   },
	   "outputs": [],
"source": [
"// Example 6.5;//wavelength spacing and frequency spacing\n",
"clc;\n",
"clear;\n",
"close;\n",
"h=850*10^-9;//Wavelength in meter\n",
"n=3.7;//refractive index\n",
"L=500*10^-6;//LENGTH IN METER\n",
"C=3*10^8;//Speed of light in m/s\n",
"df=((C)/(2*n*L))*10^-9;//frequency sepration in Gega Hertz\n",
"dh=((h^2)/(2*n*L))*10^9;//wavelength spacing in mm\n",
"disp(df,'frequency spacing in Gega Hertz is ')\n",
"disp(dh,' wavelength spacing in mm is')"
   ]
   }
,
{
		   "cell_type": "markdown",
		   "metadata": {},
		   "source": [
			"## Example 6.6: CARRIER_LIFETIME.sce"
		   ]
		  },
  {
"cell_type": "code",
	   "execution_count": null,
	   "metadata": {
	    "collapsed": true
	   },
	   "outputs": [],
"source": [
"// Example 6.3;//wavelength spacing and frequency spacing\n",
"clc;\n",
"clear;\n",
"close;\n",
"Br1=7.21*10^-10;//Bit rate\n",
"n=10^18;//hole concentration\n",
"Trg=((Br1*n)^-1)*10^9;//radiative minority carrier lifetime in GaAs in ns\n",
"Br2=1.79*10^-15;//Bit rate\n",
"Trs=((Br2*n)^-1)*10^3;//radiative minority carrier lifetime in Si in ms\n",
"disp(Trg,'radiative minority carrier lifetime in GaAs in ns')\n",
"disp(Trs,'radiative minority carrier lifetime in Si in ms')"
   ]
   }
,
{
		   "cell_type": "markdown",
		   "metadata": {},
		   "source": [
			"## Example 6.7: threshold_density.sce"
		   ]
		  },
  {
"cell_type": "code",
	   "execution_count": null,
	   "metadata": {
	    "collapsed": true
	   },
	   "outputs": [],
"source": [
"// Example 6.6;//threshold density\n",
"clc;\n",
"clear;\n",
"close;\n",
"B=21*10^-3;//Gain factor in ampere per centimeter cube\n",
"alpha=10;// in per cm\n",
"L=250*10^-6;//length in meter\n",
"r=0.32\n",
"Jth=(1/B)*(alpha+(1/L)*log(1/r));//Threshold current in ampere per centimeter cube\n",
"disp(Jth,'threshold density in amper per centimeter cube')"
   ]
   }
,
{
		   "cell_type": "markdown",
		   "metadata": {},
		   "source": [
			"## Example 6.8: external_power_efficiency.sce"
		   ]
		  },
  {
"cell_type": "code",
	   "execution_count": null,
	   "metadata": {
	    "collapsed": true
	   },
	   "outputs": [],
"source": [
"// Example 6.8;//external power efficiency\n",
"clc;\n",
"clear;\n",
"close;\n",
"nt=0.18;//total efficiency of injection laser\n",
"Eg=1.43;//Energy gap in elecron volt\n",
"V=2.5;//votls\n",
"next=round(nt*(Eg/V)*100);//EXTERNAL EFEICIENCY \n",
"disp(next,'external efficiency percentage is')"
   ]
   }
,
{
		   "cell_type": "markdown",
		   "metadata": {},
		   "source": [
			"## Example 6.9: ratio_of_threshold_current_densities.sce"
		   ]
		  },
  {
"cell_type": "code",
	   "execution_count": null,
	   "metadata": {
	    "collapsed": true
	   },
	   "outputs": [],
"source": [
"// Example 6.9;//ratio of threshold current at differnt temperatures\n",
"clc;\n",
"close;\n",
"clear;\n",
"To=160;//Absolute temperature in Kelovin\n",
"T1=293;//T=20 in kelvin\n",
"T2=353;//T=80 in kelvin\n",
"J1=exp(T2/To);//threshold current at T=80 degree celsius\n",
"J2=exp(T1/To);//threshold current at T=20 degree celsius\n",
"Jr=(J1/J2);//ratio of threshold current\n",
"disp(Jr,'ratio of threshold current is')"
   ]
   }
],
"metadata": {
		  "kernelspec": {
		   "display_name": "Scilab",
		   "language": "scilab",
		   "name": "scilab"
		  },
		  "language_info": {
		   "file_extension": ".sce",
		   "help_links": [
			{
			 "text": "MetaKernel Magics",
			 "url": "https://github.com/calysto/metakernel/blob/master/metakernel/magics/README.md"
			}
		   ],
		   "mimetype": "text/x-octave",
		   "name": "scilab",
		   "version": "0.7.1"
		  }
		 },
		 "nbformat": 4,
		 "nbformat_minor": 0
}
