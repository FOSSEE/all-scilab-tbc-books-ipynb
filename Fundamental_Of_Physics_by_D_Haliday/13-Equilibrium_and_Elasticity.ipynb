{
"cells": [
 {
		   "cell_type": "markdown",
	   "metadata": {},
	   "source": [
       "# Chapter 13: Equilibrium and Elasticity"
	   ]
	},
{
		   "cell_type": "markdown",
		   "metadata": {},
		   "source": [
			"## Example 13.1: Sample_Problem_1.sce"
		   ]
		  },
  {
"cell_type": "code",
	   "execution_count": null,
	   "metadata": {
	    "collapsed": true
	   },
	   "outputs": [],
"source": [
"//Given that\n",
"L = 1  //(say)\n",
"m = 1.8  //in kg\n",
"M = 2.7  //in kg\n",
"d = L/4\n",
"g = 9.8  //in m/s^2\n",
"\n",
"//Sample Problem 13-1\n",
"printf('**Sample Problem 13-1**\n')\n",
"//From the figure\n",
"//Balancing torque from A\n",
"//N2*L = M*g*L/4 + m*g*L/2\n",
"N2 = M*g/4 + m*g/2\n",
"//similarly\n",
"N1 = M*g*(3/4) + m*g/2\n",
"printf('The Normal from point A is %fN\n', N1)\n",
"printf('The Normal from point B is %fN', N2)"
   ]
   }
,
{
		   "cell_type": "markdown",
		   "metadata": {},
		   "source": [
			"## Example 13.2: Sample_Problem_2.sce"
		   ]
		  },
  {
"cell_type": "code",
	   "execution_count": null,
	   "metadata": {
	    "collapsed": true
	   },
	   "outputs": [],
"source": [
"//Given that\n",
"L = 12  // in meter\n",
"m = 45 //in kg\n",
"h = 9.3  //in meter\n",
"M = 72  //in kg\n",
"g = 9.8  //in m/s^2\n",
"\n",
"//Sample Problem 13-2\n",
"printf('**Sample Problem 13-2**\n')\n",
"//From the figure\n",
"N2 = (M+m)*g\n",
"A = asin(h/L)\n",
"//Balancing torque from the bottom point of the ladder\n",
"N1 = (m*g*L/3*cos(A)+M*g*L/2*cos(A))/(L*sin(A))\n",
"f = N1\n",
"printf('The normal force from the wall is equal to %fN\n', N1)\n",
"printf('The normal force from the pavement is equal to %fN\n', N2)\n",
"printf('The frictional force from the pavement is equal to %fN', f)"
   ]
   }
,
{
		   "cell_type": "markdown",
		   "metadata": {},
		   "source": [
			"## Example 13.3: Sample_Problem_3.sce"
		   ]
		  },
  {
"cell_type": "code",
	   "execution_count": null,
	   "metadata": {
	    "collapsed": true
	   },
	   "outputs": [],
"source": [
"//Given that\n",
"M = 430  //in kg\n",
"a = 1.9  //in meter\n",
"b = 2.5  //in meter\n",
"m = 85  //in kg\n",
"g = 9.8  //in m/s^2\n",
"\n",
"//Sample Problem 13-3a\n",
"printf('**Sample Problem 13-3a**\n')\n",
"Tr = M*g\n",
"//Balancing torque from the hinge\n",
"Tc = (m*g*b/2 + Tr*b)/a\n",
"printf('The magntude of force on the beam from the cable is %fN\n', Tc)\n",
"\n",
"//Sample Problem 13-3b\n",
"printf('\n**Sample Problem 13-3b**\n')\n",
"Fu = Tr + m*g\n",
"Fd = Tc\n",
"printf('The magnitude of force on the beam from the hinge is %fN', sqrt(Fu^2+Fd^2))"
   ]
   }
,
{
		   "cell_type": "markdown",
		   "metadata": {},
		   "source": [
			"## Example 13.4: Sample_Problem_4.sce"
		   ]
		  },
  {
"cell_type": "code",
	   "execution_count": null,
	   "metadata": {
	    "collapsed": true
	   },
	   "outputs": [],
"source": [
"//Given that\n",
"m = 55  //in kg\n",
"w = 1  //in meter\n",
"d = 0.20  //in meter\n",
"u1 = 1.1\n",
"u2 = 0.70\n",
"g = 9.8  //in m/s^2\n",
"\n",
"//Sample Problem 13-4a\n",
"printf('**Sample Problem 13-4a**\n')\n",
"//From the figure\n",
"//fr + fl = m*g\n",
"//Nr = Nl\n",
"//u1*Nr + u2*Nl = m*g\n",
"Nr = m*g/(u1+u2)\n",
"Nl = Nr\n",
"fr = u2*Nr\n",
"fl = u1*Nl\n",
"printf('The minimum horiontal push on the wall should be %fN\n', Nr)\n",
"\n",
"//Sample Problem 13-4b\n",
"printf('\n**Sample Problem 13-4b**\n')\n",
"//balancing torque from the shoulder side wall\n",
"l = (fl*w - m*g*d)/Nl\n",
"printf('The vertical distance between her shoulder and her feet should be %fm', l)"
   ]
   }
,
{
		   "cell_type": "markdown",
		   "metadata": {},
		   "source": [
			"## Example 13.5: Sample_Problem_5.sce"
		   ]
		  },
  {
"cell_type": "code",
	   "execution_count": null,
	   "metadata": {
	    "collapsed": true
	   },
	   "outputs": [],
"source": [
"//Given that\n",
"R = 9.5*10^-3  //in meter\n",
"L = 81*10^-2  //in meter\n",
"F = 62*10^3  //in N\n",
"Y = 2*10^11  //in N/m^2\n",
"\n",
"//Sample Problem 13-5\n",
"printf('**Sample Problem 13-5**\n')\n",
"//From the definition of stress, strain & hook's law\n",
"sigma = F/(%pi*R^2)\n",
"strain = sigma/Y\n",
"deltaL = strain*L\n",
"printf('The stress in the rod is %en/m^2\n', sigma)\n",
"printf('The strain in the rod is %e\n', strain)\n",
"printf('The elongation in the rod is %em', deltaL)"
   ]
   }
,
{
		   "cell_type": "markdown",
		   "metadata": {},
		   "source": [
			"## Example 13.6: Sample_Problem_6.sce"
		   ]
		  },
  {
"cell_type": "code",
	   "execution_count": null,
	   "metadata": {
	    "collapsed": true
	   },
	   "outputs": [],
"source": [
"//Given that\n",
"M = 290  //in kg\n",
"A = 1*10^-4  //in m^2\n",
"Y = 1.3*10^10  //in N/m^2\n",
"l = 0.50*10^-3  //in meter\n",
"g = 9.8  //in m/s^2\n",
"L = 1.00  //in meter\n",
"\n",
"//Sample Problem 13-6\n",
"printf('**Sample Problem 13-6**\n')\n",
"//We know F = A*Y*(delataL/L)\n",
"l1 = poly(0,'l1')\n",
"p = M*g - 3*(A*Y*(l1/L)) - (A*Y*((l1+l)/L))\n",
"l1 = roots(p)\n",
"F3 = A*Y*(l1/L)\n",
"F1 = (A*Y*((l1+l)/L))\n",
"printf('The force on the leveled legs is %fN\n', F3)\n",
"printf('The force on the unleveled legs is %fN', F1)"
   ]
   }
],
"metadata": {
		  "kernelspec": {
		   "display_name": "Scilab",
		   "language": "scilab",
		   "name": "scilab"
		  },
		  "language_info": {
		   "file_extension": ".sce",
		   "help_links": [
			{
			 "text": "MetaKernel Magics",
			 "url": "https://github.com/calysto/metakernel/blob/master/metakernel/magics/README.md"
			}
		   ],
		   "mimetype": "text/x-octave",
		   "name": "scilab",
		   "version": "0.7.1"
		  }
		 },
		 "nbformat": 4,
		 "nbformat_minor": 0
}
