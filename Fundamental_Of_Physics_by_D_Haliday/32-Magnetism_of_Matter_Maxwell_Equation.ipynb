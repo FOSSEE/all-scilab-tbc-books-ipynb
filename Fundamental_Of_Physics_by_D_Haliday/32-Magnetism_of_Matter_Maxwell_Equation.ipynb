{
"cells": [
 {
		   "cell_type": "markdown",
	   "metadata": {},
	   "source": [
       "# Chapter 32: Magnetism of Matter Maxwell Equation"
	   ]
	},
{
		   "cell_type": "markdown",
		   "metadata": {},
		   "source": [
			"## Example 32.1: Sample_Problem_1.sce"
		   ]
		  },
  {
"cell_type": "code",
	   "execution_count": null,
	   "metadata": {
	    "collapsed": true
	   },
	   "outputs": [],
"source": [
"//Given that\n",
"T = 300  //in K\n",
"B = 1.5  //in T\n",
"ub = 9.27*10^-24  //in J/T\n",
"mu = 1.0*ub\n",
"K = 1.38*10^-23  //in J/K\n",
"e = 1.6*10^-19  //in coulomb\n",
"\n",
"//Sample Problem 32-1\n",
"printf('**Sample Problem 32-1**\n')\n",
"K = 3/2*K*T\n",
"deltaU = 2*ub*B\n",
"printf('The average translation kinetic energy of the atoms is %1.2eeV\n', K/e)\n",
"printf('The difference between the energy of the two arrangement is %1.2eeV', deltaU/e)"
   ]
   }
,
{
		   "cell_type": "markdown",
		   "metadata": {},
		   "source": [
			"## Example 32.2: Sample_Problem_2.sce"
		   ]
		  },
  {
"cell_type": "code",
	   "execution_count": null,
	   "metadata": {
	    "collapsed": true
	   },
	   "outputs": [],
"source": [
"//Given that\n",
"density = 7900  //in kg/m^3\n",
"L = 3*10^-2  //in meter\n",
"w = 1*10^-3  //in meter\n",
"t = 0.50*10^-3  //in meter\n",
"MFe = 2.1*10^-23  //in J/T\n",
"f = 10/100\n",
"M = 55.847*10^-3  //in kg/mol\n",
"Na = 6.023*10^23  //in /mol\n",
"\n",
"//Sample Problem 32-2\n",
"printf('**Sample Problem 32-2**\n')\n",
"N = density*L*w*t/M * Na\n",
"MD = N*f*MFe\n",
"printf('The needles magnetic dipole moment is %1.2eJ/T', MD)"
   ]
   }
,
{
		   "cell_type": "markdown",
		   "metadata": {},
		   "source": [
			"## Example 32.3: Sample_Problem_3.sce"
		   ]
		  },
  {
"cell_type": "code",
	   "execution_count": null,
	   "metadata": {
	    "collapsed": true
	   },
	   "outputs": [],
"source": [
"//Given that\n",
"r = 11.0*10^-3  //in meter\n",
"R = 5*r\n",
"Edot = 1.50*10^12  //in V/m.s\n",
"uo = 4*%pi*10^-7\n",
"Eo = 8.85*10^-12  //in C^2/N.m^2\n",
"\n",
"//Sample Problem 32-3\n",
"printf('**Sample Problem 32-3**\n')\n",
"//for r=R/5\n",
"B = uo*Eo*R^2/(2*r)*Edot\n",
"printf('The magnetic field is at r=R/5 is equal to %1.2eT', B)"
   ]
   }
],
"metadata": {
		  "kernelspec": {
		   "display_name": "Scilab",
		   "language": "scilab",
		   "name": "scilab"
		  },
		  "language_info": {
		   "file_extension": ".sce",
		   "help_links": [
			{
			 "text": "MetaKernel Magics",
			 "url": "https://github.com/calysto/metakernel/blob/master/metakernel/magics/README.md"
			}
		   ],
		   "mimetype": "text/x-octave",
		   "name": "scilab",
		   "version": "0.7.1"
		  }
		 },
		 "nbformat": 4,
		 "nbformat_minor": 0
}
