{
"cells": [
 {
		   "cell_type": "markdown",
	   "metadata": {},
	   "source": [
       "# Chapter 16: Oscillation"
	   ]
	},
{
		   "cell_type": "markdown",
		   "metadata": {},
		   "source": [
			"## Example 16.1: Sample_Problem_1.sce"
		   ]
		  },
  {
"cell_type": "code",
	   "execution_count": null,
	   "metadata": {
	    "collapsed": true
	   },
	   "outputs": [],
"source": [
"//Given that\n",
"m = 680*10^-3  //in kg\n",
"k = 65  //in N/m\n",
"x = 11*10^-2  //in meter\n",
"\n",
"//Sample Problem 16-1a\n",
"printf('**Sample Problem 16-1a**\n')\n",
"w = sqrt(k/m)\n",
"f = 2*%pi/w\n",
"T = 1/f\n",
"printf('  Angular Frequency  -  %f rad/s\n', w)\n",
"printf('  Frequency\t     -  %f Hz\n', f)\n",
"printf('  Time Period\t     -  %f s\n', T)\n",
"\n",
"//Sample Problem 16-1b\n",
"printf('\n**Sample Problem 16-1b**\n')\n",
"A = x\n",
"printf('The amplitude of oscillation is %fcm\n', A*100)\n",
"\n",
"//Sample Problem 16-1c\n",
"printf('\n**Sample Problem 16-1c**\n')\n",
"Vmax = A*w\n",
"printf('The maximum speed of the block is %fm/s\n', Vmax)\n",
"\n",
"//Sample Problem 16-1d\n",
"printf('\n**Sample Problem 16-1d**\n')\n",
"aMAX = Vmax*w\n",
"printf('The maximum acceleration of the block is %fm/s^2\n', aMAX)\n",
"\n",
"//Sample Problem 16-1e\n",
"printf('\n**Sample Problem 16-1e**\n')\n",
"//at t=0 x = A\n",
"phi = acos(x/A)\n",
"printf('The phase constant for the SHM x=Acos(w*t+phi) is 2*n*pi + %d where n is an integer', phi)"
   ]
   }
,
{
		   "cell_type": "markdown",
		   "metadata": {},
		   "source": [
			"## Example 16.2: Sample_Problem_2.sce"
		   ]
		  },
  {
"cell_type": "code",
	   "execution_count": null,
	   "metadata": {
	    "collapsed": true
	   },
	   "outputs": [],
"source": [
"//Given that\n",
"x0 = -8.50*10^-2  //in m\n",
"v0 = -0.920  //in m/s\n",
"a0 = 47  //in m/s^2\n",
"exec('degree_rad.sci', -1)\n",
"\n",
"//Sample Problem 16-2a\n",
"printf('**Sample Problem 16-2a**\n')\n",
"w = sqrt(-a0/x0)\n",
"printf('The angular frequency of SHM is equal to %frad/s\n', w)\n",
"\n",
"//Sample Problem 16-2b\n",
"printf('\n**Sample Problem 16-2b**\n')\n",
"phi = atan(-(v0/x0)/w)\n",
"A = x0/cos(phi)\n",
"printf('The value of phi is %f degrees\n', rtod(phi))\n",
"printf('The maximum value of displacement is equal to %fcm\', A*100)"
   ]
   }
,
{
		   "cell_type": "markdown",
		   "metadata": {},
		   "source": [
			"## Example 16.3: Sample_Problem_3.sce"
		   ]
		  },
  {
"cell_type": "code",
	   "execution_count": null,
	   "metadata": {
	    "collapsed": true
	   },
	   "outputs": [],
"source": [
"//Sample Problem 16-3a\n",
"printf('**Sample Problem 16-3a**\n')\n",
"k = 65  //in N/m\n",
"A = 11*10^-2  //in meter\n",
"v = 0  //in m/s\n",
"E = 0.5*k*A^2 + 0\n",
"printf('The mechanical energy of the block is %fJ\n', E)\n",
"\n",
"//Sample Problem 16-3b\n",
"printf('\n**Sample Problem 16-3b**\n')\n",
"x = A/2\n",
"U = 0.5*k*x^2\n",
"K = E-U\n",
"printf('The potential energy at that position is %fJ\n', U)\n",
"printf('The kinetic energy of the block is %fJ', K)"
   ]
   }
,
{
		   "cell_type": "markdown",
		   "metadata": {},
		   "source": [
			"## Example 16.4: Sample_Problem_4.sce"
		   ]
		  },
  {
"cell_type": "code",
	   "execution_count": null,
	   "metadata": {
	    "collapsed": true
	   },
	   "outputs": [],
"source": [
"//Given that\n",
"L = 12.4*10^-2  // in meter\n",
"m = 135*10^-3  //in kg\n",
"Ta = 2.53  //in sec\n",
"Tb = 4.76  //in sec\n",
"\n",
"//Sample Problem 16-4\n",
"printf('**Sample Problem 16-4**\n')\n",
"//Time period is directly proportional to the squre root of rotational inertial\n",
"Ia = m*L^2/12\n",
"I = Ia*(Tb/Ta)^2\n",
"printf('The rotational inertail of X is %ekg.m^2', I)"
   ]
   }
,
{
		   "cell_type": "markdown",
		   "metadata": {},
		   "source": [
			"## Example 16.5: Sample_Problem_5.sce"
		   ]
		  },
  {
"cell_type": "code",
	   "execution_count": null,
	   "metadata": {
	    "collapsed": true
	   },
	   "outputs": [],
"source": [
"//Given that\n",
"L = 1.0  //in meter\n",
"g = 9.8  //in m/s^2\n",
"\n",
"//Sample Problem 16-5a\n",
"printf('**Sample Problem 16-5a**\n')\n",
"//(say)\n",
"m = 1\n",
"I = (1/3)*m*L^2\n",
"T = 2*%pi*sqrt(I/(m*g*(L/2)))\n",
"printf('The time period of SHm is %fs\n', T)\n",
"\n",
"//Sample Problem 16-5b\n",
"printf('\n**Sample Problem 16-5b**\n')\n",
"Lo = (T/(2*%pi))^2*g\n",
"printf('The distance of center of oscillation from the pivot is %fcm', Lo*100)"
   ]
   }
,
{
		   "cell_type": "markdown",
		   "metadata": {},
		   "source": [
			"## Example 16.6: Sample_Problem_6.sce"
		   ]
		  },
  {
"cell_type": "code",
	   "execution_count": null,
	   "metadata": {
	    "collapsed": true
	   },
	   "outputs": [],
"source": [
"//Given that\n",
"L = 2.0  //in meter\n",
"m = 12  //in kg\n",
"k = 1300  //in N/m\n",
"\n",
"//Sample Problem 16-6\n",
"printf('**Sample Problem 16-6**\n')\n",
"//I*a/L = -k*x*L\n",
"I = m*L^2/3\n",
"w = sqrt(k*L*L/I)\n",
"T = 2*%pi/w\n",
"printf('The time period of oscillation is %fs', T)"
   ]
   }
,
{
		   "cell_type": "markdown",
		   "metadata": {},
		   "source": [
			"## Example 16.7: Sample_Problem_7.sce"
		   ]
		  },
  {
"cell_type": "code",
	   "execution_count": null,
	   "metadata": {
	    "collapsed": true
	   },
	   "outputs": [],
"source": [
"//Given that\n",
"m = 250*10^-3  //in kg\n",
"k = 85  //in N/m\n",
"b = 70*10^-3  //in kg/s\\n",
"g = 9.8  //in m/s^2\n",
"\n",
"//Sample Problem 16-7a\n",
"printf('**Sample Problem 16-7a**\n')\n",
"T = 2*%pi*sqrt(m/k)\n",
"printf('The time period of oscillation is %fs\n', T)\n",
"\n",
"//Sample Problem 16-7b\n",
"printf('\n**Sample Problem 16-7b**\n')\n",
"//b*t/(2*m) = log(2)\n",
"t = log(2)*2*m/b\n",
"printf('The time taken to drop the amplitude half of its value is %fs\n', t)\n",
"\n",
"//Sample Problem 16-7c\n",
"printf('\nb**Sample Problem 16-7c**\n')\n",
"//amplitude should drop to A/sqrt(2) from A\n",
"tE = t/2\n",
"printf('The time taken to drop the mechanical energy half of its initial value is %fs', tE)"
   ]
   }
],
"metadata": {
		  "kernelspec": {
		   "display_name": "Scilab",
		   "language": "scilab",
		   "name": "scilab"
		  },
		  "language_info": {
		   "file_extension": ".sce",
		   "help_links": [
			{
			 "text": "MetaKernel Magics",
			 "url": "https://github.com/calysto/metakernel/blob/master/metakernel/magics/README.md"
			}
		   ],
		   "mimetype": "text/x-octave",
		   "name": "scilab",
		   "version": "0.7.1"
		  }
		 },
		 "nbformat": 4,
		 "nbformat_minor": 0
}
