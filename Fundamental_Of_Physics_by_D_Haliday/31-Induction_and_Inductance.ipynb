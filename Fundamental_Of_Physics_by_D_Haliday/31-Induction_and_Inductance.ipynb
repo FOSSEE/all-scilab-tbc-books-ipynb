{
"cells": [
 {
		   "cell_type": "markdown",
	   "metadata": {},
	   "source": [
       "# Chapter 31: Induction and Inductance"
	   ]
	},
{
		   "cell_type": "markdown",
		   "metadata": {},
		   "source": [
			"## Example 31.1: Sample_Problem_1.sce"
		   ]
		  },
  {
"cell_type": "code",
	   "execution_count": null,
	   "metadata": {
	    "collapsed": true
	   },
	   "outputs": [],
"source": [
"//Given that\n",
"i = 1.5  //in A\n",
"D = 3.2*10^-2  //in meter\n",
"N = 220/10^-2  //in turns/m\n",
"n = 130\n",
"d = 2.1*10^-2  //in meter\n",
"deltaT = 25*10^-3  //in s\n",
"uo = 4*%pi*10^-7  //in SI unit\n",
"\n",
"//Sample Problem 31-1\n",
"printf('**Sample Problem 31-1**\n')\n",
"A = %pi*(d/2)^2\n",
"deltaPhi = uo*N*i*A\n",
"E = n*deltaPhi/deltaT\n",
"printf('The emf induced is equal to %eV', E)"
   ]
   }
,
{
		   "cell_type": "markdown",
		   "metadata": {},
		   "source": [
			"## Example 31.2: Sample_Problem_2.sce"
		   ]
		  },
  {
"cell_type": "code",
	   "execution_count": null,
	   "metadata": {
	    "collapsed": true
	   },
	   "outputs": [],
"source": [
"//Given that\n",
"r = 0.20  //in meter\n",
"t = poly(0, 't')\n",
"B = 4.0*t^2 + 2.0*t + 3.0\n",
"E = 2.0  //in Volts\n",
"R = 2  //in Ohm\n",
"\n",
"//Sample Problem 31-2a\n",
"printf('**Sample Problem 31-2a**\n')\n",
"t = 10  //in sec\n",
"flux = B*%pi*r^2/2\n",
"Et = derivat(flux)\n",
"E1 = horner(Et, t)\n",
"printf('The Emf induced is equal to %fV\n', E1)\n",
"\n",
"//Sample Problem 31-2b\n",
"printf('\n**Sample Problem 31-2b**\n')\n",
"I = (E1-E)/R\n",
"printf('The induced current is equal to %fA', I)"
   ]
   }
,
{
		   "cell_type": "markdown",
		   "metadata": {},
		   "source": [
			"## Example 31.3: Sample_Problem_3.sce"
		   ]
		  },
  {
"cell_type": "code",
	   "execution_count": null,
	   "metadata": {
	    "collapsed": true
	   },
	   "outputs": [],
"source": [
"//Given that\n",
"t = poly(0, 't')\n",
"//B = 4*t^2*x^2\n",
"W = 3.0  //in meter\n",
"H = 2.0  //in meter\n",
"t1 = 0.10  //in sec\n",
"\n",
"//Sample Problem 31-3\n",
"printf('**Sample Problem 31-3**\n')\n",
"flux = integrate('4*x^2*H', 'x', 0, W)\n",
"E = derivat(flux*t^2)\n",
"E1 = horner(E, t1)\n",
"printf('The induced emf is equal to %fV', E1)"
   ]
   }
,
{
		   "cell_type": "markdown",
		   "metadata": {},
		   "source": [
			"## Example 31.4: Sample_Problem_4.sce"
		   ]
		  },
  {
"cell_type": "code",
	   "execution_count": null,
	   "metadata": {
	    "collapsed": true
	   },
	   "outputs": [],
"source": [
"//Given that\n",
"R = 8.5*10^-2   //in meter\n",
"Rb = 0.13  //in T/s\n",
"r = 5.2*10^-2  //in meter\n",
"\n",
"//Sample Problem 31-4a\n",
"printf('**Sample Problem 31-4a**\n')\n",
"//Using Faraday's law\n",
"Rf = Rb*%pi*r^2\n",
"E = Rf/(2*%pi*r)\n",
"printf('The induced electric field is equal to %eV/m\n', E)\n",
"\n",
"//Sample Problem 31-4b\n",
"printf('\n**Sample Problem 31-4b**\n')\n",
"r = 12.5*10^-2  //in meter\n",
"Rf = Rb*%pi*R^2\n",
"E = Rf/(2*%pi*r)\n",
"printf('The induced electric field is equal to %eV/m', E)"
   ]
   }
,
{
		   "cell_type": "markdown",
		   "metadata": {},
		   "source": [
			"## Example 31.5: Sample_Problem_5.sce"
		   ]
		  },
  {
"cell_type": "code",
	   "execution_count": null,
	   "metadata": {
	    "collapsed": true
	   },
	   "outputs": [],
"source": [
"//Given that\n",
"R = 9.0  //in Ohm\n",
"L = 2*10^-3  //in Henery\n",
"E = 18  //in Volts\n",
"\n",
"//Sample Problem 31-5a\n",
"printf('**Sample Problem 31-5a**\n')\n",
"//As soon as switch is closed the inductor will act like current barrier\n",
"Io = E/R\n",
"printf('The current as soon as qwitch is closed is equal to %1.2fA\n', Io)\n",
"\n",
"//Sample Problem 31-5b\n",
"printf('\n**Sample Problem 31-5b**\n')\n",
"//After long time inductor will act like short circuit\n",
"Req = R/3\n",
"If = E/(R/3)\n",
"printf('The current through the battery after long time will be %1.2fA', If)"
   ]
   }
,
{
		   "cell_type": "markdown",
		   "metadata": {},
		   "source": [
			"## Example 31.6: Sample_Problem_6.sce"
		   ]
		  },
  {
"cell_type": "code",
	   "execution_count": null,
	   "metadata": {
	    "collapsed": true
	   },
	   "outputs": [],
"source": [
"//Given that\n",
"L = 53*10^-3  //in H\n",
"R = 0.37  //in Ohm\n",
"\n",
"//Sample Problem 31-6\n",
"printf('**Sample Problem 31-6**\n')\n",
"//i = io(1-e^(t/T))\n",
"//ln2 = t/T\n",
"T = L/R\n",
"t = T*log(2)\n",
"printf('The time taken to rach the current to half of its stedy state value is %fs', t)"
   ]
   }
,
{
		   "cell_type": "markdown",
		   "metadata": {},
		   "source": [
			"## Example 31.7: Sample_Problem_7.sce"
		   ]
		  },
  {
"cell_type": "code",
	   "execution_count": null,
	   "metadata": {
	    "collapsed": true
	   },
	   "outputs": [],
"source": [
"//Given that\n",
"L = 53*10^-3  //in H\n",
"R = 0.35  //in Ohm\n",
"V = 12  //in Volts\n",
"\n",
"//Sample Problem 31-7a\n",
"printf('**Sample Problem 31-7a**\n')\n",
"i = V/R  //in steady state\n",
"E = 1/2*L*i^2\n",
"printf('The Energy stored in the inductor in steady state is %fJ\n', E)\n",
"\n",
"//Sample Problem 31-7b\n",
"printf('\n**Sample Problem 31-7b**\n')\n",
"Et = E/2\n",
"//hence It = Io/sqrt(2)\n",
"f = log(1-1/sqrt(2))  //the number of times of time constant\n",
"printf('After t=%1.1fT, the energy stored in the inductor will be half of tis steady state value', f)"
   ]
   }
,
{
		   "cell_type": "markdown",
		   "metadata": {},
		   "source": [
			"## Example 31.8: Sample_Problem_8.sce"
		   ]
		  },
  {
"cell_type": "code",
	   "execution_count": null,
	   "metadata": {
	    "collapsed": true
	   },
	   "outputs": [],
"source": [
"//Given that\n",
"a = 1.2*10^-3  //in meter\n",
"b = 3.5*10^-3  //in meter\n",
"i = 2.7  //in Amp\n",
"l = 1  //in meter(say)\n",
"uo = 4*%pi*10^-7\n",
"\n",
"//Sample Problem 31-8\n",
"printf('**Sample Problem 31-8**\n')\n",
"B = uo*i/(2*%pi)  //divided by r\n",
"Ul = B^2/(2*uo)  //divided by r^2\n",
"//Energy as a funtion of r\n",
"U = Ul*2*%pi*l  //divided by r by r\n",
"Energy = integrate('U/r', 'r', a, b)\n",
"printf('Energy per unit length is equal to %1.2eJ/m', Energy)"
   ]
   }
,
{
		   "cell_type": "markdown",
		   "metadata": {},
		   "source": [
			"## Example 31.9: Sample_Problem_9.sce"
		   ]
		  },
  {
"cell_type": "code",
	   "execution_count": null,
	   "metadata": {
	    "collapsed": true
	   },
	   "outputs": [],
"source": [
"//Given that\n",
"N1 = 1200   //turns\n",
"N2 = N1\n",
"R2 = 1.1*10^-2  //in meter\n",
"R1 = 15*10^-2  //in meter\n",
"uo = 4*%pi*10^-7\n",
"\n",
"//Sample Problem 31-9\n",
"printf('**Sample Problem 31-9**\n')\n",
"//let's assume\n",
"i = 1  //in amp\n",
"B1 = uo*N1*i/(2*R1)\n",
"phi2 = B1*%pi*R2^2*N2\n",
"M = phi2/i\n",
"printf('The mutual inductance of the two coil is equal to %1.2eH', M)"
   ]
   }
],
"metadata": {
		  "kernelspec": {
		   "display_name": "Scilab",
		   "language": "scilab",
		   "name": "scilab"
		  },
		  "language_info": {
		   "file_extension": ".sce",
		   "help_links": [
			{
			 "text": "MetaKernel Magics",
			 "url": "https://github.com/calysto/metakernel/blob/master/metakernel/magics/README.md"
			}
		   ],
		   "mimetype": "text/x-octave",
		   "name": "scilab",
		   "version": "0.7.1"
		  }
		 },
		 "nbformat": 4,
		 "nbformat_minor": 0
}
