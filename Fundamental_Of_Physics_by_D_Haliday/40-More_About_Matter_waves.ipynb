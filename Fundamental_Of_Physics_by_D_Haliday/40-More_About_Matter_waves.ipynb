{
"cells": [
 {
		   "cell_type": "markdown",
	   "metadata": {},
	   "source": [
       "# Chapter 40: More About Matter waves"
	   ]
	},
{
		   "cell_type": "markdown",
		   "metadata": {},
		   "source": [
			"## Example 40.1: Sample_Problem_1.sce"
		   ]
		  },
  {
"cell_type": "code",
	   "execution_count": null,
	   "metadata": {
	    "collapsed": true
	   },
	   "outputs": [],
"source": [
"exec('quantum.sci', -1)\n",
"\n",
"//Given that\n",
"L = 100*10^-12  //in m\n",
"\n",
"//Sample Problem 40-1a\n",
"printf('**Sample Prblem 40-1a**\n')\n",
"n = 1  //for min energy\n",
"Emin = Ediff(n, 0, Me, L)\n",
"printf('The least possible energy is %1.2fev\n', Emin/conv)\n",
"\n",
"//Sample Problem 40-1b\n",
"printf('\n**Sample Prblem 40-1b**\n')\n",
"n2 = 3\n",
"n1 = 1\n",
"deltaE13 = Ediff(n2, n1, Me, L)\n",
"printf('The energy to be transferred is %1.2fev\n', deltaE13/conv)\n",
"\n",
"//Sample Problem 40-1c\n",
"printf('\n**Sample Prblem 40-1c**\n')\n",
"lambda = wavelength(deltaE13)\n",
"printf('The wavelength of photon is %1.2fnm\n', lambda*10^9)\n",
"\n",
"//Sample Problem 40-1d\n",
"printf('\n**Sample Prblem 40-1d**\n')\n",
"deltaE12 = Ediff(2, 1, Me, L)\n",
"lambda1 = wavelength(deltaE12)\n",
"deltaE23 =  Ediff(3, 2, Me, L)\n",
"lambda2 = wavelength(deltaE23)\n",
"printf('The possible wavelength of photon is :\n')\n",
"printf('\t %1.2fnm\n', lambda*10^9)\n",
"printf('\t %1.2fnm\n', lambda1*10^9)\n",
"printf('\t %1.2fnm', lambda2*10^9)"
   ]
   }
,
{
		   "cell_type": "markdown",
		   "metadata": {},
		   "source": [
			"## Example 40.3: Sample_Problem_3.sce"
		   ]
		  },
  {
"cell_type": "code",
	   "execution_count": null,
	   "metadata": {
	    "collapsed": true
	   },
	   "outputs": [],
"source": [
"//Given that\n",
"L = 100*10^-12  //in m\n",
"\n",
"//Sample Problem 40-3a\n",
"printf('**Sample Prblem 40-3a**\n')\n",
"P = integrate('2/L*(sin(%pi/L*x))^2', 'x', 0, L/3)\n",
"printf('The probability is equal to %1.2f\n', P)\n",
"\n",
"//Sample Problem 40-3b\n",
"printf('\n**Sample Prblem 40-3b**\n')\n",
"P = integrate('2/L*(sin(%pi/L*x))^2', 'x', L/3, 2*L/3)\n",
"printf('The probability is equal to %1.2f\n', P)"
   ]
   }
,
{
		   "cell_type": "markdown",
		   "metadata": {},
		   "source": [
			"## Example 40.4: Sample_Problem_4.sce"
		   ]
		  },
  {
"cell_type": "code",
	   "execution_count": null,
	   "metadata": {
	    "collapsed": true
	   },
	   "outputs": [],
"source": [
"exec('quantum.sci', -1)\n",
"\n",
"//Given that\n",
"L = 100*10^-12  //in m\n",
"Uo = 450*conv  //in ev\n",
"l = 2*10^-9  //in m\n",
"\n",
"//Sample Problem 40-4a\n",
"printf('**Sample Prblem 40-4a**\n')\n",
"E1 = Ediff(1, 0, Me, L)\n",
"E = Uo - E1\n",
"lambda = wavelength(E)\n",
"printf('The wavelength of the free electron is %1.2fnm\n', lambda*10^9)\n",
"\n",
"//Sample Problem 40-4b\n",
"printf('\n**Sample Prblem 40-4b**\n')\n",
"E2 = Energy(l)\n",
"K = E2 - E\n",
"printf('The electron energy is %1.2fev', K/conv)"
   ]
   }
,
{
		   "cell_type": "markdown",
		   "metadata": {},
		   "source": [
			"## Example 40.6: Sample_Problem_6.sce"
		   ]
		  },
  {
"cell_type": "code",
	   "execution_count": null,
	   "metadata": {
	    "collapsed": true
	   },
	   "outputs": [],
"source": [
"exec('quantum.sci', -1)\n",
"\n",
"//Sample Problem 40-6a\n",
"printf('**Sample Prblem 40-6a**\n')\n",
"//lyman series : least energetic photon => 2 to 1 transition\n",
"deltaE21 = -(13.6) * (1/2^2 - 1/1^2)*conv\n",
"lambda = wavelength(deltaE21)\n",
"printf('The wavelength of the least energetic photon in lyman series is %1.2fnm\n', lambda*10^9)\n",
"\n",
"//Sample Problem 40-6b\n",
"printf('\n**Sample Prblem 40-6b**\n')\n",
"//lyman series limit  => 1 to infinity transition\n",
"deltaE = -(13.6) * (0 - 1/1^2)*conv\n",
"lambda = wavelength(deltaE)\n",
"printf('The wavelength of the lyman series limit is %1.2fnm\n', lambda*10^9)"
   ]
   }
,
{
		   "cell_type": "markdown",
		   "metadata": {},
		   "source": [
			"## Example 40.8: Sample_Problem_8.sce"
		   ]
		  },
  {
"cell_type": "code",
	   "execution_count": null,
	   "metadata": {
	    "collapsed": true
	   },
	   "outputs": [],
"source": [
"//Given that\n",
"p = 0.90\n",
"\n",
"//Sample Problem 40-8\n",
"printf('**Sample Prblem 40-8**\n')\n",
"funcprot(0)\n",
"function [P] = f(x)\n",
"    P = 1 - (%e^(-2*x))*(1 + 2*x + 2*x^2) - p\n",
"endfunction\n",
"p = fsolve(1, f)\n",
"printf('The possible value of radius is %1.2f*a', p)"
   ]
   }
],
"metadata": {
		  "kernelspec": {
		   "display_name": "Scilab",
		   "language": "scilab",
		   "name": "scilab"
		  },
		  "language_info": {
		   "file_extension": ".sce",
		   "help_links": [
			{
			 "text": "MetaKernel Magics",
			 "url": "https://github.com/calysto/metakernel/blob/master/metakernel/magics/README.md"
			}
		   ],
		   "mimetype": "text/x-octave",
		   "name": "scilab",
		   "version": "0.7.1"
		  }
		 },
		 "nbformat": 4,
		 "nbformat_minor": 0
}
