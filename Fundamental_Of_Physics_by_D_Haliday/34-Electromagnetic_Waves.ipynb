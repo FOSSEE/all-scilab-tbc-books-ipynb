{
"cells": [
 {
		   "cell_type": "markdown",
	   "metadata": {},
	   "source": [
       "# Chapter 34: Electromagnetic Waves"
	   ]
	},
{
		   "cell_type": "markdown",
		   "metadata": {},
		   "source": [
			"## Example 34.1: Sample_Problem_1.sce"
		   ]
		  },
  {
"cell_type": "code",
	   "execution_count": null,
	   "metadata": {
	    "collapsed": true
	   },
	   "outputs": [],
"source": [
"//Given that\n",
"d = 1.8  //in meter\n",
"P = 250  //in W\n",
"c = 3*10^8  //in m/s\n",
"mu = 4*%pi*10^-7  //in SI unit\n",
"\n",
"//Sample Problem 34-1\n",
"printf('**Sample Problem 34-1**\n')\n",
"Erms = sqrt(P*c*mu/(4*%pi*d^2))\n",
"Brms = Erms/c\n",
"printf('The rms value of electric field is equal to %1.2eV/m\n', Erms)\n",
"Brms = printf('The rms value of magnetic field is equal to %1.2eT', Brms)"
   ]
   }
,
{
		   "cell_type": "markdown",
		   "metadata": {},
		   "source": [
			"## Example 34.2: Sample_Problem_2.sce"
		   ]
		  },
  {
"cell_type": "code",
	   "execution_count": null,
	   "metadata": {
	    "collapsed": true
	   },
	   "outputs": [],
"source": [
"exec('Gravitation.sci', -1)\n",
"\n",
"//Given that\n",
"density = 3.5*10^3  //in kg/m^3\n",
"c = 3*10^8  //in m/s\n",
"d = 1  //(say)\n",
"Ps = 3.9*10^26  //in W\n",
"\n",
"//Sample Problem 34-2\n",
"printf('**Sample Problem 34-2**\n')\n",
"R = poly(0, 'R')\n",
"A = %pi*R^2\n",
"Ad = 4*%pi*d^2\n",
"I = Ps/Ad\n",
"Fr = I*A/c\n",
"V = 4/3*%pi*R^3\n",
"m = density*V\n",
"Fg = GForce(m, Ms, d)\n",
"R = roots(Fr-Fg)\n",
"printf('The radius of the dust particle is %1.3em', R(1))"
   ]
   }
,
{
		   "cell_type": "markdown",
		   "metadata": {},
		   "source": [
			"## Example 34.3: Sample_Problem_3.sce"
		   ]
		  },
  {
"cell_type": "code",
	   "execution_count": null,
	   "metadata": {
	    "collapsed": true
	   },
	   "outputs": [],
"source": [
"exec('degree_rad.sci', -1)\n",
"\n",
"//Given that\n",
"theta1 = dtor(60)\n",
"theta2 = dtor(90-60)\n",
"I = 1  //(say)\n",
"\n",
"//Sample Problem 34-3\n",
"printf('**Sample Problem 34-3**\n')\n",
"//half of the original intensity, from the one-half rule\n",
"I1 = I/2  \n",
"I2 = I1*cos(theta1)^2\n",
"I3 = I2*cos(theta2)^2\n",
"printf('The ratio of the initial inensity to the final intensity of the light is %.4f', I3)"
   ]
   }
,
{
		   "cell_type": "markdown",
		   "metadata": {},
		   "source": [
			"## Example 34.4: Sample_Problem_4.sce"
		   ]
		  },
  {
"cell_type": "code",
	   "execution_count": null,
	   "metadata": {
	    "collapsed": true
	   },
	   "outputs": [],
"source": [
"exec('degree_rad.sci', -1)\n",
"\n",
"//Given that\n",
"n1 = 1.33\n",
"n2 = 1.77\n",
"n3 = 1.00\n",
"theta1 = 50  //in degrees\n",
"\n",
"//Sample Problem 34-4a\n",
"printf('**Sample Problem 34-4a**\n')\n",
"AORl = 90 - theta1\n",
"AORr = rtod(asin(n1/n2*sin(dtor(AORl))))\n",
"printf('The angle of reflection is %1.2fdegrees\n', AORl)\n",
"printf('The angle of refraction is %1.2fdegrees\n', AORr)\n",
"\n",
"//Sample Problem 34-4b\n",
"printf('\n**Sample Problem 34-4b**\n')\n",
"Af = rtod(asin(n2/n3*sin(dtor(AORr))))\n",
"printf('The final angle of refraction is %1.2fdegrees', Af)"
   ]
   }
,
{
		   "cell_type": "markdown",
		   "metadata": {},
		   "source": [
			"## Example 34.5: Sample_Problem_5.sce"
		   ]
		  },
  {
"cell_type": "code",
	   "execution_count": null,
	   "metadata": {
	    "collapsed": true
	   },
	   "outputs": [],
"source": [
"exec('degree_rad.sci', -1)\n",
"\n",
"//Given that\n",
"e = 45  //in degrees\n",
"\n",
"//Sample Problem 34-5\n",
"printf('**Sample Problem 34-5**\n')\n",
"//For extrem case\n",
"n = 1/sin(dtor(e))\n",
"printf('The index of refraction should be at least %1.1f', n)"
   ]
   }
],
"metadata": {
		  "kernelspec": {
		   "display_name": "Scilab",
		   "language": "scilab",
		   "name": "scilab"
		  },
		  "language_info": {
		   "file_extension": ".sce",
		   "help_links": [
			{
			 "text": "MetaKernel Magics",
			 "url": "https://github.com/calysto/metakernel/blob/master/metakernel/magics/README.md"
			}
		   ],
		   "mimetype": "text/x-octave",
		   "name": "scilab",
		   "version": "0.7.1"
		  }
		 },
		 "nbformat": 4,
		 "nbformat_minor": 0
}
