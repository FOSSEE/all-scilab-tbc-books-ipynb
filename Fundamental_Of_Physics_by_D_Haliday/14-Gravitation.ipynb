{
"cells": [
 {
		   "cell_type": "markdown",
	   "metadata": {},
	   "source": [
       "# Chapter 14: Gravitation"
	   ]
	},
{
		   "cell_type": "markdown",
		   "metadata": {},
		   "source": [
			"## Example 14.1: Sample_Problem_1.sce"
		   ]
		  },
  {
"cell_type": "code",
	   "execution_count": null,
	   "metadata": {
	    "collapsed": true
	   },
	   "outputs": [],
"source": [
"exec ('Gravitation.sci',-1)\n",
"\n",
"//Given that\n",
"m1 = 6 //kg\n",
"m2 = 4 //kg\n",
"m3 = 4 //kg\n",
"a = 2 * (10^-2)\n",
"\n",
"//Sample Problem 14-1\n",
"printf('**Sample Problem 14-1**\n')\n",
"//F1 = F12 + F13\n",
"F12 = [0,-GForce(m1,m2,a)]\n",
"F13 = [GForce(m1,m3,2*a),0]\n",
"F1 = F12 + F13\n",
"printf('The magnitude of net force is approximately equal to %e N', norm(F1))"
   ]
   }
,
{
		   "cell_type": "markdown",
		   "metadata": {},
		   "source": [
			"## Example 14.2: Sample_Problem_2.sce"
		   ]
		  },
  {
"cell_type": "code",
	   "execution_count": null,
	   "metadata": {
	    "collapsed": true
	   },
	   "outputs": [],
"source": [
"exec('Gravitation.sci',-1)\n",
"exec('degree_rad.sci', -1)\n",
"\n",
"//Given that\n",
"//masses in kg\n",
"m1 = 8\n",
"m2 = 2\n",
"m3 = 2\n",
"m4 = 2\n",
"m5 = 2\n",
"a = 2*(10^-2); //in meter\n",
"Theta = dtor(30) //in radians\n",
"\n",
"//Sample Problem 14-2\n",
"printf('**Sample Problem 14-2**\n')\n",
"//The net force will be equal to the vector eum of all the forces acting on the particle due to the rest of the particles i.e F1 = F12 + F13 + F14 + F15\n",
"F12 = [GForce(m1,m2,(2*a))*sin(Theta), GForce(m1,m2,(2*a))*cos(Theta)]\n",
"F13 = [GForce(m1,m3,a)*sin(Theta), -GForce(m1,m3,a)*cos(Theta)]\n",
"F14 = [-GForce(m1,m4,(2*a))*sin(Theta), -GForce(m1,m4,(2*a))*cos(Theta)]\n",
"F15 = [-GForce(m1,m5,a)*sin(Theta),-GForce(m1,m5,a)*cos(Theta)]\n",
"F1 = F12 + F13 + F14 + F15\n",
"printf('The net force on particle 1 is approimately equal to %e N', norm(F1))"
   ]
   }
,
{
		   "cell_type": "markdown",
		   "metadata": {},
		   "source": [
			"## Example 14.3_a: Sample_Problem_3a.sce"
		   ]
		  },
  {
"cell_type": "code",
	   "execution_count": null,
	   "metadata": {
	    "collapsed": true
	   },
	   "outputs": [],
"source": [
"exec ('Gravitation.sci',-1)\n",
"\n",
"//Given that\n",
"r = 6.77 * 10^6  //in meter\n",
"dr = 1.7 //in meter\n",
"\n",
"//Sample Problem 3a\n",
"printf('**Sample Problem 3a**\n')\n",
"dg = -2 * G * Me * dr /(r^3)\n",
"printf('The difference in acceleration is approximately equal to  %e  m/sec*sec', dg)"
   ]
   }
,
{
		   "cell_type": "markdown",
		   "metadata": {},
		   "source": [
			"## Example 14.3_b: Sample_Problem_3b.sce"
		   ]
		  },
  {
"cell_type": "code",
	   "execution_count": null,
	   "metadata": {
	    "collapsed": true
	   },
	   "outputs": [],
"source": [
"exec ('Gravitation.sci',-1)\n",
"\n",
"//variavles with their values\n",
"Mh = 1.99 * 10^31   //in kg\n",
"R = 6.77 * 10^6 //in meter\n",
"DR = 1.7 //in meter\n",
"\n",
"//Sample Problem 3b\n",
"printf('**Sample Problem 3b**\n')\n",
"//the difference in gravitational acceleration is given by\n",
"DG = -2 * G * Mh * DR /(R^3)\n",
"printf('The difference in acceleration is approximately equal to  %em/s^2', DG)"
   ]
   }
,
{
		   "cell_type": "markdown",
		   "metadata": {},
		   "source": [
			"## Example 14.5: Sample_Problem_5.sce"
		   ]
		  },
  {
"cell_type": "code",
	   "execution_count": null,
	   "metadata": {
	    "collapsed": true
	   },
	   "outputs": [],
"source": [
"exec ('Gravitation.sci',-1)\n",
"//Given that\n",
"Vi = 1.2 * 10^4 //in m/sec\n",
"d = 10*Re;\n",
"m = 10 //let say it will mass cancel out later\n",
"//Sample Problem 5\n",
"printf('**Sample Problem 5**\n')\n",
"//we know that E(initial) = E(final)\n",
"//=> Ki + Ui = Kf + Uf\n",
"//K = .5*m*Vi*Vi (Kinetic Energy)\n",
"//U = gravitational potential (Potential Energy)\n",
"Ki = .5*m*Vi*Vi; \n",
"Ui = GPotential(m,Me,d);\n",
"Uf = GPotential(m,Me,Re);\n",
"Kf = Ki + Ui -Uf;\n",
"Vf = sqrt(2*Kf/m);\n",
"printf('The final velocity of the asteroid is equal to %e m/sec', Vf)"
   ]
   }
,
{
		   "cell_type": "markdown",
		   "metadata": {},
		   "source": [
			"## Example 14.6: Sample_Problem_6.sce"
		   ]
		  },
  {
"cell_type": "code",
	   "execution_count": null,
	   "metadata": {
	    "collapsed": true
	   },
	   "outputs": [],
"source": [
"exec ('Gravitation.sci',-1)\n",
"\n",
"//Given that\n",
"T = 76 * 365 * 24 * 60 * 60 //time period in seconds (converting from years)\n",
"\n",
"//Sample Problem 6a\n",
"printf('**Sample Problem 6a**\n')\n",
"//We know that Ra + Re  = 2*a\n",
"Rp = 8.9 * 10^10 //in meter\n",
"a = KeplerRadius(Ms,T)\n",
"//therefore\n",
"Ra = 2*a -Rp //in meter\n",
"printf('The Aphelion distance is equal to %em\n', Ra)\n",
"\n",
"//Sample Problem 6b\n",
"printf('\n**Sample Problem 6b**\n')\n",
"//we know that e*a = a - Rp\n",
"e = 1 - Rp/a\n",
"printf('The eccentricity of the path is %e ', e)"
   ]
   }
,
{
		   "cell_type": "markdown",
		   "metadata": {},
		   "source": [
			"## Example 14.7: Sample_Problem_7.sce"
		   ]
		  },
  {
"cell_type": "code",
	   "execution_count": null,
	   "metadata": {
	    "collapsed": true
	   },
	   "outputs": [],
"source": [
"exec ('Gravitation.sci',-1)\n",
"\n",
"//Given that\n",
"//Both the stars are moving around the centre of mass of the two particale system\n",
"//m1 = mass of visible star\n",
"//m2 = mass of invisible star\n",
"//r1 = distance of m1 from center of mass\n",
"//r2 = distance of m2 from center of mass\n",
"//r = r1+r2 distance between both the stars\n",
"//we have G*m1*m2/(r*r) = m1*v1*v1/r1 = m2*v2*v2/r2 ....1\n",
"v1 = 270*10^3 //in meter/sec\n",
"T = 1.7 * 24 * 60 * 60 //in s\n",
"m1 = 6* Ms \n",
"\n",
"//Sample Problem 7\n",
"printf('**Sample Problem 7**\n')\n",
"//m2 = ?\n",
"//using definition of center of mass\n",
"// we have r = r1 * (m1 + m2)/m2  ....2\n",
"//& 2*pi*r1/v1 = T  ....3\n",
"//therefore\n",
"r1 = v1*T/(2*%pi);  //from equation 3\n",
"//from equation 1 & 2\n",
"//G*(m2^3)/((r1*(m1+m2))^2) = v1*v1/r1\n",
"//we have a polynomial equation in order 3 \n",
"//(m2^3)/(m1+m2)^2 = v1*v1*r1/G\n",
"temp = v1*v1*r1/G; //say\n",
"//=> -m2^3 + temp*m2^2 + 2*m1*temp*m2+ m1*m1*temp\n",
"solpoly = (poly([-m1*m1,-2*m1,-1,1/temp],'x','c'));\n",
"sol = roots(solpoly,'e');\n",
"printf('The mass of the invisible star is equal to %e kg\n', sol(1))\n",
"printf('The mass of the invisible star is equal to %f times the mass of Sun', sol(1)/Ms)"
   ]
   }
,
{
		   "cell_type": "markdown",
		   "metadata": {},
		   "source": [
			"## Example 14.8: Sample_Problem_8.sce"
		   ]
		  },
  {
"cell_type": "code",
	   "execution_count": null,
	   "metadata": {
	    "collapsed": true
	   },
	   "outputs": [],
"source": [
"exec ('Gravitation.sci',-1)\n",
"\n",
"//Given that\n",
"m = 7.20 //in kg\n",
"h = 350 * 10^3 //altitude in meter\n",
"\n",
"//Sample Problem 8a\n",
"printf('**Sample Problem 8a**\n')\n",
"//mechanical energy E = K + U\n",
"//E = - G * M * m /(2* r)\n",
"E = .5*GPotential(m,Me,(h+Re))\n",
"printf('The total energy at the given altitude is %e joule\n',E)\n",
"\n",
"\n",
"//Sample Problem 8b\n",
"printf('\n**Sample Problem 8b**\n')\n",
"//here the k = 0\n",
"E0 = GPotential(m,Me,Re)\n",
"printf('The total energy on the launchpad is %e joule\n',E0)\n",
"deltaE = E - E0;\n",
"printf('The differencein both the energy %e joule',deltaE)"
   ]
   }
],
"metadata": {
		  "kernelspec": {
		   "display_name": "Scilab",
		   "language": "scilab",
		   "name": "scilab"
		  },
		  "language_info": {
		   "file_extension": ".sce",
		   "help_links": [
			{
			 "text": "MetaKernel Magics",
			 "url": "https://github.com/calysto/metakernel/blob/master/metakernel/magics/README.md"
			}
		   ],
		   "mimetype": "text/x-octave",
		   "name": "scilab",
		   "version": "0.7.1"
		  }
		 },
		 "nbformat": 4,
		 "nbformat_minor": 0
}
