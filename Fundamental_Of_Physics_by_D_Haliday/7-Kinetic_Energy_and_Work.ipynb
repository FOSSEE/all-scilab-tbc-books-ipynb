{
"cells": [
 {
		   "cell_type": "markdown",
	   "metadata": {},
	   "source": [
       "# Chapter 7: Kinetic Energy and Work"
	   ]
	},
{
		   "cell_type": "markdown",
		   "metadata": {},
		   "source": [
			"## Example 7.10: Sample_Problem_10.sce"
		   ]
		  },
  {
"cell_type": "code",
	   "execution_count": null,
	   "metadata": {
	    "collapsed": true
	   },
	   "outputs": [],
"source": [
"exec('degree_rad.sci',-1)\n",
"\n",
"//Given that\n",
"//taking right direction as positive direction\n",
"F1 = [-2, 0]  //in N\n",
"v = [3, 0]  //in m/s\n",
"mag = [4,6]\n",
"\n",
"//Sample Problem 7-10a&b\n",
"Qnum = ['a', 'b']\n",
"count = 1\n",
"for x = mag\n",
"    printf('\n**Sample Problem 7-10%s**\n', Qnum(count))\n",
"    F2 = [x*cos(dtor(60)), x*sin(dtor(60))]  //in N\n",
"    //from the definition of the power\n",
"    P1 = F1 * v'\n",
"    P2 = F2 * v'\n",
"    Pnet = P1 + P2\n",
"    printf('The power transferred by F1 is %dW\n', P1)\n",
"    printf('The power transferred by F2 is %dW\n', P2)\n",
"    printf('The net power transferred is %dW\n', Pnet)\n",
"    Pnet = round(Pnet)\n",
"    if Pnet == 0\n",
"        printf('The Kinetic energy is not changing\n')\n",
"    else\n",
"        printf('The Kinetic Energy is changing\n')\n",
"    end\n",
"    count = count + 1\n",
"end"
   ]
   }
,
{
		   "cell_type": "markdown",
		   "metadata": {},
		   "source": [
			"## Example 7.1: Sample_Problem_1.sce"
		   ]
		  },
  {
"cell_type": "code",
	   "execution_count": null,
	   "metadata": {
	    "collapsed": true
	   },
	   "outputs": [],
"source": [
"exec('degree_rad.sci',-1)\n",
"\n",
"//Given that\n",
"weight_locomotive = 1.2 * 10^6 //Ng = 9.8  //in m/s^2\n",
"acceleration = 0.26 //m/s^2\n",
"v_final = 0  //m/s\n",
"distance = 3.2 * 10^3  //m\n",
"g = 9.8  //in m/s^2\n",
"\n",
"//Sample Problem 7-1\n",
"printf('**Sample Problem 7-1**\n')\n",
"//using newton's second equation of motion\n",
"v_initial = sqrt(v_final^2 + 2 * acceleration * distance)\n",
"total_kinetic_energy = 2 * .5 * weight_locomotive/g * v_initial^2\n",
"printf('The total kinetic energy of two locomotive just before the collision is %e J', total_kinetic_energy)"
   ]
   }
,
{
		   "cell_type": "markdown",
		   "metadata": {},
		   "source": [
			"## Example 7.2: Sample_Problem_2.sce"
		   ]
		  },
  {
"cell_type": "code",
	   "execution_count": null,
	   "metadata": {
	    "collapsed": true
	   },
	   "outputs": [],
"source": [
"exec('degree_rad.sci',-1)\n",
"\n",
"//Given that\n",
"mass = 225  //in kg\n",
"displacement = 8.5  //in meter\n",
"F1 = 12  //in N\n",
"Theta1 = dtor(30)  //in rad\n",
"F2 = 10  //in N\n",
"Theta2 = dtor(40)  //in rad\n",
"\n",
"//Sample Problem 7-2a\n",
"printf('**Sample Problem 7-2a**\n')\n",
"//form the definition of Work done\n",
"W1 = F1 * displacement * cos(Theta1)\n",
"W2 = F2 * displacement * cos(Theta2)\n",
"//The net work done\n",
"W = W1 + W2\n",
"printf('The spies transfer %eJ amount of energy during the given displacement\n', W)\n",
"\n",
"//Sample Problem 7-2b\n",
"printf('\n**Sample Problem 7-2b**\n')\n",
"printf('Work done by the normal in the process is 0J\n')\n",
"printf('Work done by the gravity in the process is 0J\n')\n",
"\n",
"//Sample Problem 7-2c\n",
"printf('\n**Sample Problem 7-2c**\n')\n",
"//Using Work Energy theorem\n",
"//W = Kf - Ki\n",
"//Ki = 0\n",
"v_final = sqrt(2* W/mass)\n",
"printf('The final velocity of the safe is equal to %e', v_final)"
   ]
   }
,
{
		   "cell_type": "markdown",
		   "metadata": {},
		   "source": [
			"## Example 7.3: Sample_Problem_3.sce"
		   ]
		  },
  {
"cell_type": "code",
	   "execution_count": null,
	   "metadata": {
	    "collapsed": true
	   },
	   "outputs": [],
"source": [
"//Given that\n",
"d = [-3, 0]  //in meter\n",
"F = [2, -6]  //in N\n",
"\n",
"//Sample Problem 7-3a\n",
"printf('**Sample Problem 7-3a**\n')\n",
"W = F * d'\n",
"printf('The work done is equal to %dJ\n', W)\n",
"\n",
"//Sample Problem 7-3b\n",
"printf('\n**Sample Problem 7-3b**\n')\n",
"Ki = 10  //in J\n",
"//Using work energy theorem\n",
"Kf = Ki + W\n",
"printf('The final kinetic energy of the crate is %dJ', Kf)"
   ]
   }
,
{
		   "cell_type": "markdown",
		   "metadata": {},
		   "source": [
			"## Example 7.4: Sample_Problem_4.sce"
		   ]
		  },
  {
"cell_type": "code",
	   "execution_count": null,
	   "metadata": {
	    "collapsed": true
	   },
	   "outputs": [],
"source": [
"//Given that\n",
"mass = 260  //in kg\n",
"d = 2  //in meter\n",
"g = 9.8  //on m/^2\n",
"\n",
"//Sample Problem 7-4a\n",
"printf('**Sample Problem 7-4a**\n')\n",
"//Using definition of work done\n",
"Wg = mass* g * (-1) * d\n",
"printf('The work done by the force of gravity is %dJ\n', Wg)\n",
"\n",
"//Sample Problem 7-4b\n",
"printf('\n**Sample Problem 7-4b**\n')\n",
"//Using work energy theorem\n",
"Wc = -1 * Wg\n",
"printf('The work done by Chemerkins force is %dJ\n', Wc)\n",
"\n",
"//Sample Problem 7-4c\n",
"printf('\n**Sample Problem 7-4c**\n')\n",
"printf('The Work done in helding the object stationary is 0, as the dispacement is 0\n')\n",
"\n",
"//Sample Problem 7-4d\n",
"printf('\n**Sample Problem 7-4d**\n')\n",
"Weight = 27900  //in N\n",
"d = 1 * 10^-2  //in meter\n",
"Wg = Weight * d\n",
"printf('The work done by the gravity is %dJ', Wg)"
   ]
   }
,
{
		   "cell_type": "markdown",
		   "metadata": {},
		   "source": [
			"## Example 7.5: Sample_Problem_5.sce"
		   ]
		  },
  {
"cell_type": "code",
	   "execution_count": null,
	   "metadata": {
	    "collapsed": true
	   },
	   "outputs": [],
"source": [
"//Given that\n",
"mass = 15  //in kg\n",
"L = 5.7  //in meter\n",
"h = 2.5  //in meter\n",
"g = 9.8\n",
"\n",
"//Sample Problem 7-5a\n",
"printf('**Sample Problem 7-5a**\n')\n",
"//Using the definition of work done\n",
"Wg = - mass * g * h\n",
"printf('The work done by the gravity is during the pull is %eJ\n', Wg)\n",
"\n",
"//Sample Problem 7-5b\n",
"printf('\n**Sample Problem 7-5b**\n')\n",
"//Using Work-Energy theorem\n",
"//as there is no change in kinetic energy\n",
"Wt = - Wg\n",
"printf('The work done by the tension during the pull is %eJ', Wt)"
   ]
   }
,
{
		   "cell_type": "markdown",
		   "metadata": {},
		   "source": [
			"## Example 7.6: Sample_Problem_6.sce"
		   ]
		  },
  {
"cell_type": "code",
	   "execution_count": null,
	   "metadata": {
	    "collapsed": true
	   },
	   "outputs": [],
"source": [
"//Given that\n",
"g = 9.8  //in m/s^2\n",
"m = 500  //in kg\n",
"Vi = 4  //in m/s\n",
"a = g/5  //in m/s\n",
"d = 12  //in meter\n",
"\n",
"//Sample Problem 7-6a\n",
"printf('**Sample Problem 7-6a**\n')\n",
"//Using the definition of the work done\n",
"Wg = m * g * d\n",
"printf('The work done by the gravity during the fall is %eJ\n', Wg)\n",
"\n",
"//Sample Problem 7-6b\n",
"printf('\n**Sample Problem 7-6b**\n')\n",
"//from Example7-6_FBD\n",
"//m*g - T = m*a\n",
"T = m * (g - a)\n",
"Wt = - T * d\n",
"printf('The work done by the tension is %eJ\n', Wt)\n",
"\n",
"//Sample Problem 7-6c\n",
"printf('\n*Sample Problem 7-6c**\n')\n",
"Wnet = Wt + Wg\n",
"printf('The net work done is %eJ\n', Wnet)\n",
"\n",
"//Sample Problem 7-6d\n",
"printf('\n**Sample Problem 7-6d**\n')\n",
"//Using work energy theorem\n",
"//Kf - Ki = Wnet\n",
"Kf = Wnet + .5 * m * Vi^2\n",
"printf('The final kinetic energy of the cab is %eJ', Kf)"
   ]
   }
,
{
		   "cell_type": "markdown",
		   "metadata": {},
		   "source": [
			"## Example 7.7: Sample_Problem_7.sce"
		   ]
		  },
  {
"cell_type": "code",
	   "execution_count": null,
	   "metadata": {
	    "collapsed": true
	   },
	   "outputs": [],
"source": [
"//Given that\n",
"Fa = 4.9  //in N\n",
"x1 = 12 * 10^-3  //in meter\n",
"x2 = 17 * 10^-3  //in meter\n",
"x3 = -12 * 10^-3  //in meter\n",
"\n",
"//Sample Problem 7-7a\n",
"printf('**Sample Problem 7-7a**\n')\n",
"//k * x1 = Fa\n",
"//Spring constant\n",
"k = Fa/x1\n",
"Ws1 = -.5* k * x2^2\n",
"printf('The work done by the spring force is %fJ\n', Ws1)\n",
"\n",
"//Sample Problem 7-7b\n",
"printf('\n**Sample Problem 7-7b**\n')\n",
"Ws2 = .5 * k * (x2^2 - x3^2)\n",
"printf('The work done by the spring is %fJ', Ws2)"
   ]
   }
,
{
		   "cell_type": "markdown",
		   "metadata": {},
		   "source": [
			"## Example 7.8: Sample_Problem_8.sce"
		   ]
		  },
  {
"cell_type": "code",
	   "execution_count": null,
	   "metadata": {
	    "collapsed": true
	   },
	   "outputs": [],
"source": [
"//Given that\n",
"m=.4  //in kg\n",
"Vi = .5  //in m/s\n",
"k = 750  //in N/m\n",
"\n",
"//Sample Problem 7-8\n",
"printf('**Sample Problem 7-8**\n')\n",
"//Using work energy theorem\n",
"//Wnet = Kf - Ki\n",
"//Kf = 0\n",
"//.5*k*x^2 = Ki\n",
"x = sqrt(m*Vi^2/k)\n",
"printf('The compression in the spring is %em', x)"
   ]
   }
,
{
		   "cell_type": "markdown",
		   "metadata": {},
		   "source": [
			"## Example 7.9: Sample_Problem_9.sce"
		   ]
		  },
  {
"cell_type": "code",
	   "execution_count": null,
	   "metadata": {
	    "collapsed": true
	   },
	   "outputs": [],
"source": [
"//Sample Problem 7-9\n",
"printf('**Sample Problem 7-9**\n')\n",
"W = integrate('3*x^2', 'x', 2, 3) + integrate('4', 'x', 3, 0)\n",
"printf('The net work done is %dJ', W)"
   ]
   }
],
"metadata": {
		  "kernelspec": {
		   "display_name": "Scilab",
		   "language": "scilab",
		   "name": "scilab"
		  },
		  "language_info": {
		   "file_extension": ".sce",
		   "help_links": [
			{
			 "text": "MetaKernel Magics",
			 "url": "https://github.com/calysto/metakernel/blob/master/metakernel/magics/README.md"
			}
		   ],
		   "mimetype": "text/x-octave",
		   "name": "scilab",
		   "version": "0.7.1"
		  }
		 },
		 "nbformat": 4,
		 "nbformat_minor": 0
}
