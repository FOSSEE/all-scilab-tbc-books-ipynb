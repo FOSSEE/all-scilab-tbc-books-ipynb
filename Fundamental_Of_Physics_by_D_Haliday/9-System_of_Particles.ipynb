{
"cells": [
 {
		   "cell_type": "markdown",
	   "metadata": {},
	   "source": [
       "# Chapter 9: System of Particles"
	   ]
	},
{
		   "cell_type": "markdown",
		   "metadata": {},
		   "source": [
			"## Example 9.1: Sample_Problem_1.sce"
		   ]
		  },
  {
"cell_type": "code",
	   "execution_count": null,
	   "metadata": {
	    "collapsed": true
	   },
	   "outputs": [],
"source": [
"exec('degree_rad.sci',-1)\n",
"\n",
"//Given that\n",
"m1 = 1.2  //in kg\n",
"m2 = 2.5  //in kg\n",
"m3 = 3.4  //in kg\n",
"a = 140  //in cm\n",
"\n",
"//Sample Problem 9-1\n",
"printf('**Sample Problem 9-1**\n')\n",
"r1 = [0, 0]\n",
"r2 = [a, 0]\n",
"r3 = [a*cos(dtor(60)), a*sin(dtor(60))]\n",
"Rc = (m1*r1 + m2*r2 + m3*r3)/(m1 + m2 + m3)\n",
"printf('The co-ordinate of center of mass are (%f, %f)', Rc(1), Rc(2))"
   ]
   }
,
{
		   "cell_type": "markdown",
		   "metadata": {},
		   "source": [
			"## Example 9.2: Sample_Problem_2.sce"
		   ]
		  },
  {
"cell_type": "code",
	   "execution_count": null,
	   "metadata": {
	    "collapsed": true
	   },
	   "outputs": [],
"source": [
"//Sample Problem 9-2\n",
"printf('**Sample Problem 9-2**\n')\n",
"R = poly(0, 'R')\n",
"//Mass is proportinal to area\n",
"Aw = %pi* (2*R)^2\n",
"Ac = %pi* R^2\n",
"//& the x-co-ordinate of the masses\n",
"CMw = 0\n",
"CMc = -R\n",
"CMf = pdiv((Aw*CMw - Ac*CMc), (Aw - Ac))\n",
"printf('The CM is located at a distace of %fR to the right of the center', horner(CMf, 1))"
   ]
   }
,
{
		   "cell_type": "markdown",
		   "metadata": {},
		   "source": [
			"## Example 9.3: Sample_Problem_3.sce"
		   ]
		  },
  {
"cell_type": "code",
	   "execution_count": null,
	   "metadata": {
	    "collapsed": true
	   },
	   "outputs": [],
"source": [
"exec('degree_rad.sci',-1)\n",
"\n",
"//Given that\n",
"m1 = 4  //in kg\n",
"m2 = 8  //in kg\n",
"m3 = 4  //in kg\n",
"F1 = [-6, 0]\n",
"F2 = [12*cos(dtor(45)), 12*sin(dtor(45))]\n",
"F3 = [14, 0]\n",
"\n",
"//Sample Problem 9-3\n",
"printf('**Sample Problem 9-3**\n')\n",
"aC = (F1 + F2 + F3)/(m1 + m2+ m3)\n",
"printf('The acceleration of center of mass is %fm/s^2 at \nan angle of %f degrees to the positive x-axis', norm(aC), rtod(atan(aC(2)/aC(1))))"
   ]
   }
,
{
		   "cell_type": "markdown",
		   "metadata": {},
		   "source": [
			"## Example 9.4: Sample_Problem_4.sce"
		   ]
		  },
  {
"cell_type": "code",
	   "execution_count": null,
	   "metadata": {
	    "collapsed": true
	   },
	   "outputs": [],
"source": [
"exec('degree_rad.sci',-1)\n",
"\n",
"//Given that\n",
"m = 2.0  //in kg\n",
"v1 = [0, -0.50]\n",
"v2 = [0.40, 0]\n",
"\n",
"//Sample Problem 9-4\n",
"printf('**Sample Problem 9-4**\n')\n",
"deltaP = m* (v2 - v1)\n",
"printf('The change in mometum vactor in kg.m/sec is %1.1fi + %1.1fj', deltaP(1), deltaP(2))"
   ]
   }
,
{
		   "cell_type": "markdown",
		   "metadata": {},
		   "source": [
			"## Example 9.5: Sample_Problem_5.sce"
		   ]
		  },
  {
"cell_type": "code",
	   "execution_count": null,
	   "metadata": {
	    "collapsed": true
	   },
	   "outputs": [],
"source": [
"//Given that\n",
"//Before collision\n",
"m = 6  //in kg\n",
"v = 4  //in m/sec\n",
"//After collision\n",
"m1 = 2  //in kg\n",
"\n",
"//Sample Problem 9-5\n",
"printf('**Sample Problem 9-5**\n')\n",
"m2 = m - m1\n",
"v1 = 8.0  //in m/s\n",
"v2 = (m*v - m1*v1)/m2\n",
"printf('The velocity of peiece having mass m2 is %dm/s', v2)"
   ]
   }
,
{
		   "cell_type": "markdown",
		   "metadata": {},
		   "source": [
			"## Example 9.6: Sample_Problem_6.sce"
		   ]
		  },
  {
"cell_type": "code",
	   "execution_count": null,
	   "metadata": {
	    "collapsed": true
	   },
	   "outputs": [],
"source": [
"//Given that\n",
"M = 1  //(say)to get the answer directly\n",
"Vi = 2100  //in km/h\n",
"//initial momentum\n",
"Pi = M* Vi\n",
"Vrel = 500  //in km/h\n",
"\n",
"//Sample Problem 9-6\n",
"printf('**Sample Problem 9-6**\n')\n",
"//Assuming Vf as the final velocity of the hauler\n",
"Vf = poly(0, 'Vf')\n",
"Pf = 0.20*M*(Vf - Vrel) + (M - 0.20*M)*Vf\n",
"p = Pi - Pf\n",
"Vf = roots(p)\n",
"printf('The final velocity of the hauler is %dkm/h', Vf)"
   ]
   }
,
{
		   "cell_type": "markdown",
		   "metadata": {},
		   "source": [
			"## Example 9.7: Sample_Problem_7.sce"
		   ]
		  },
  {
"cell_type": "code",
	   "execution_count": null,
	   "metadata": {
	    "collapsed": true
	   },
	   "outputs": [],
"source": [
"exec('degree_rad.sci',-1)\n",
"\n",
"//Given that\n",
"M = 1  //(say) to directly get the answer\n",
"Mc = 0.30*M\n",
"Vc = [5*cos(dtor(40)), 5*sin(dtor(40))]\n",
"Mb = 0.20*M\n",
"Ma = 0.50*M\n",
"\n",
"//Sample Problem 9-7\n",
"printf('**Sample Problem 9-7**\n')\n",
"deff('[f] = eq_maker(V)', 'f = Ma*V(1)*[cos(dtor(140)),sin(dtor(140))] + Mb*V(2)*[0,-1] + Mc*Vc')\n",
"V= fsolve([0,0], eq_maker)\n",
"printf('The velocity of A is %dm/s & velocity of B is %fm/s after the collision in the given directions', V(1), V(2))"
   ]
   }
,
{
		   "cell_type": "markdown",
		   "metadata": {},
		   "source": [
			"## Example 9.8: Sample_Problem_8.sce"
		   ]
		  },
  {
"cell_type": "code",
	   "execution_count": null,
	   "metadata": {
	    "collapsed": true
	   },
	   "outputs": [],
"source": [
"//Given that\n",
"Mi = 850  //in kg\n",
"R = 2.3  //kg/s\n",
"Vrel = 2800  //in kg\n",
"\n",
"//Sample Problem 9-8a\n",
"printf('**Sample Problem 9-8a**\n')\n",
"T = R*Vrel\n",
"printf('The Thrust force rocket engine provide is equal to %dN\n', T)\n",
"\n",
"//Sample Problem 9-8b\n",
"printf('\n**Sample Problem 9-8b**\n')\n",
"a = T/Mi\n",
"printf('The initial acceleration of rocket is %fm/s^2\n', a)\n",
"\n",
"//Sample Problem 9-8c\n",
"printf('\n**Sample Problem 9-8c**\n')\n",
"Mf = 180  //in kg\n",
"Vf = Vrel * log(Mi/Mf)\n",
"printf('The final velocity of the rocket is %fm/s', Vf)"
   ]
   }
,
{
		   "cell_type": "markdown",
		   "metadata": {},
		   "source": [
			"## Example 9.9: Sample_Problem_9.sce"
		   ]
		  },
  {
"cell_type": "code",
	   "execution_count": null,
	   "metadata": {
	    "collapsed": true
	   },
	   "outputs": [],
"source": [
"//Given that\n",
"m = 4.0* 10^-6  //in kg\n",
"l = 0.77 * 10^-3  //in meter\n",
"h = 0.30  //in m\n",
"g = 9.8  //in m/s^2\n",
"\n",
"//Sample Problem 9-9\n",
"printf('**Sample Problem 9-9**\n')\n",
"//Using Work-Energy theorem\n",
"//F * l = mgh\n",
"F = m* g* h/l\n",
"printf('The external force on the betal is %fN', F)"
   ]
   }
],
"metadata": {
		  "kernelspec": {
		   "display_name": "Scilab",
		   "language": "scilab",
		   "name": "scilab"
		  },
		  "language_info": {
		   "file_extension": ".sce",
		   "help_links": [
			{
			 "text": "MetaKernel Magics",
			 "url": "https://github.com/calysto/metakernel/blob/master/metakernel/magics/README.md"
			}
		   ],
		   "mimetype": "text/x-octave",
		   "name": "scilab",
		   "version": "0.7.1"
		  }
		 },
		 "nbformat": 4,
		 "nbformat_minor": 0
}
