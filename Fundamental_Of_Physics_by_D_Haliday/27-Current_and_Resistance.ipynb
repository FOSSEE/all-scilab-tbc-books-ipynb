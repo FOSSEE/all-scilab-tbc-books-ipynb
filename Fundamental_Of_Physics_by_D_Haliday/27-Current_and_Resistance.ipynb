{
"cells": [
 {
		   "cell_type": "markdown",
	   "metadata": {},
	   "source": [
       "# Chapter 27: Current and Resistance"
	   ]
	},
{
		   "cell_type": "markdown",
		   "metadata": {},
		   "source": [
			"## Example 27.1: Sample_Problem_1.sce"
		   ]
		  },
  {
"cell_type": "code",
	   "execution_count": null,
	   "metadata": {
	    "collapsed": true
	   },
	   "outputs": [],
"source": [
"//Given that\n",
"rate = 450*10^-6  //in m^3/s\n",
"e = 1.6*10^-19\n",
"Na = 6.023*10^23\n",
"M = 18*10^-3  //in kg/mol\n",
"density = 1000  //in kg/m^3\n",
"\n",
"//Sample Problem 27-1\n",
"printf('**Sample Problem 27-1**\n')\n",
"n = 10\n",
"i = e*n*Na/M*density*rate\n",
"printf('The current of negative charge is equal to %eA', i)"
   ]
   }
,
{
		   "cell_type": "markdown",
		   "metadata": {},
		   "source": [
			"## Example 27.2: Sample_Problem_2.sce"
		   ]
		  },
  {
"cell_type": "code",
	   "execution_count": null,
	   "metadata": {
	    "collapsed": true
	   },
	   "outputs": [],
"source": [
"//Given that\n",
"R = 2*10^-3  //in meter\n",
"J = 2*10^5  //in A/m^2\n",
"\n",
"//Sample Problem 27-2a\n",
"printf('**Sample Problem 27-2a**\n')\n",
"//As current density is uniform\n",
"A = %pi*(R^2 - (R/2)^2)\n",
"I = J*A\n",
"printf('The current flowing through the outer portion is %fA\n', I)\n",
"\n",
"//Sample Problem 27-2b\n",
"printf('\n**Sample Problem 27-2b**\n')\n",
"a = 3*10^11  //in SI unit\n",
"Iv = integrate('a*r^2*2*%pi*r', 'r', R/2, R)\n",
"printf('Now the current will be %fA', Iv)"
   ]
   }
,
{
		   "cell_type": "markdown",
		   "metadata": {},
		   "source": [
			"## Example 27.3: Sample_Problem_3.sce"
		   ]
		  },
  {
"cell_type": "code",
	   "execution_count": null,
	   "metadata": {
	    "collapsed": true
	   },
	   "outputs": [],
"source": [
"//Given that\n",
"r = 900*10^-6  //in m\n",
"i = 17*10^-3  //in A\n",
"e = 1.6*10^-19  //in C\n",
"densityCopper = 8.96*10^3  //in kg/m^3\n",
"M = 63.54*10^-3  //in kg/mol\n",
"Na = 6.023*10^23\n",
"\n",
"//Sample Problem 27-3\n",
"printf('**Sample Problem 27-3**\n')\n",
"A = %pi*r^2\n",
"J = i/A\n",
"n = densityCopper/M*Na\n",
"Vd = J/(n*e)\n",
"printf('The drift speed is %em/s', Vd)"
   ]
   }
,
{
		   "cell_type": "markdown",
		   "metadata": {},
		   "source": [
			"## Example 27.4: Sample_Problem_4.sce"
		   ]
		  },
  {
"cell_type": "code",
	   "execution_count": null,
	   "metadata": {
	    "collapsed": true
	   },
	   "outputs": [],
"source": [
"//Given that\n",
"l = 1.2*10^-2  //in meter\n",
"b = 1.2*10^-2  //in meter\n",
"h = 15*10^-2  //in meter\n",
"resistivityIron = 9.68*10^-8  //in ohm.m\n",
"\n",
"//Sample Problem 27-4(1)\n",
"printf('**Sample Problem 27-4(1)**\n')\n",
"R1 = resistivityIron*h/(l*b)\n",
"printf('The resistance of the block is equal to %eOhm\n', R1)\n",
"\n",
"//Sample Problem 27-4(2)\n",
"printf('\n**Sample Problem 27-4(2)**\n')\n",
"R2 = resistivityIron*l/(b*h)\n",
"printf('The resistance of the block is equal to %eOhm', R2)"
   ]
   }
,
{
		   "cell_type": "markdown",
		   "metadata": {},
		   "source": [
			"## Example 27.5: Sample_Problem_5.sce"
		   ]
		  },
  {
"cell_type": "code",
	   "execution_count": null,
	   "metadata": {
	    "collapsed": true
	   },
	   "outputs": [],
"source": [
"//Given that\n",
"e = 1.6*10^-19  //in C\n",
"Re = 1.69*10^-8  //in Ohm.m\n",
"n = 8.49*10^28\n",
"m = 9.1*10^-31  //mass of electron in kg\n",
"Veff = 1.6*10^6  //in m/s\n",
"\n",
"//Sample Problem 27-5a\n",
"printf('**Sample Problem 27-5a**\n')\n",
"//resistivity = m/(n*e^2*t)\n",
"t = m/(n*e^2*Re)\n",
"printf('The mean free time between two collision is %es\n', t)\n",
"\n",
"//Sample Problem 27-5b\n",
"printf('\n**Sample Problem 27-5b**\n')\n",
"lambda = Veff*t\n",
"printf('The mean free path is equal to %em', lambda)"
   ]
   }
,
{
		   "cell_type": "markdown",
		   "metadata": {},
		   "source": [
			"## Example 27.6: Sample_Problem_6.sce"
		   ]
		  },
  {
"cell_type": "code",
	   "execution_count": null,
	   "metadata": {
	    "collapsed": true
	   },
	   "outputs": [],
"source": [
"//Given that\n",
"R = 72  //in Ohm\n",
"V = 120  //in volts\n",
"\n",
"//Sample Problem 27-6\n",
"printf('**Sample Problem 27-6**\n')\n",
"H1 = V^2/R\n",
"printf('The Power dissipated in first case is equal to %dW\n', H1)\n",
"H2 = V^2/(R/2) * 2\n",
"printf('The Power dissipated in second case is equal to %dW\n', H2)"
   ]
   }
],
"metadata": {
		  "kernelspec": {
		   "display_name": "Scilab",
		   "language": "scilab",
		   "name": "scilab"
		  },
		  "language_info": {
		   "file_extension": ".sce",
		   "help_links": [
			{
			 "text": "MetaKernel Magics",
			 "url": "https://github.com/calysto/metakernel/blob/master/metakernel/magics/README.md"
			}
		   ],
		   "mimetype": "text/x-octave",
		   "name": "scilab",
		   "version": "0.7.1"
		  }
		 },
		 "nbformat": 4,
		 "nbformat_minor": 0
}
