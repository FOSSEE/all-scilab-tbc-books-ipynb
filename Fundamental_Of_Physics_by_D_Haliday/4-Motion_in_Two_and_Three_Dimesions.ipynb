{
"cells": [
 {
		   "cell_type": "markdown",
	   "metadata": {},
	   "source": [
       "# Chapter 4: Motion in Two and Three Dimesions"
	   ]
	},
{
		   "cell_type": "markdown",
		   "metadata": {},
		   "source": [
			"## Example 4.10: Sample_Problem_10.sce"
		   ]
		  },
  {
"cell_type": "code",
	   "execution_count": null,
	   "metadata": {
	    "collapsed": true
	   },
	   "outputs": [],
"source": [
"//To convert velocity m/s from km/h\n",
"conv = 5/18\n",
"\n",
"//Given that\n",
"v_BA = 52   //in km/hr\n",
"v_PA = -78  //in km/hr\n",
"\n",
"//Sample Problem 4-10a\n",
"printf('**Sample Problem 4-10a**\n')\n",
"//using concept of relative velocity\n",
"v_PB = v_PA - v_BA\n",
"printf('The velocity of P as measured by Barbara is %d km/hr\n',v_PB)\n",
"\n",
"//Sample Problem 4-10b\n",
"printf('\n**Sample Problem 4-10b**\n')\n",
"//In frame of Alex\n",
"delta_t = 10  //in sec\n",
"a_PA = (0 - v_PA)* conv/delta_t\n",
"printf('The accleration of P in frame of Alex is %f m/s^2\n', a_PA)\n",
"\n",
"//Sample Problem 4-10c\n",
"printf('\n**Sample Problem 4-10c**\n')\n",
"a_BA = 0\n",
"a_PB = a_PA - a_BA\n",
"printf('The acceleration of P as measured by B is %f m/s^2', a_PB)"
   ]
   }
,
{
		   "cell_type": "markdown",
		   "metadata": {},
		   "source": [
			"## Example 4.11: Sample_Problem_11.sce"
		   ]
		  },
  {
"cell_type": "code",
	   "execution_count": null,
	   "metadata": {
	    "collapsed": true
	   },
	   "outputs": [],
"source": [
"exec('degree_rad.sci',-1)\n",
"\n",
"//Given that\n",
"v_WG = [65 * sin(dtor(20)),65 * cos(dtor(20))]   //in km/h\n",
"v_PG_y = 0\n",
"v_PW_mag = 215  //in km/h\n",
"\n",
"//Sample Problem 4-11\n",
"printf('**Sample Problem 4-11**\n')\n",
"//therefore in direction\n",
"v_PW_y = v_PG_y - v_WG(2)\n",
"v_PW_x = sqrt(v_PW_mag^2 - v_PW_y^2)\n",
"v_PG_x = v_PW_x + v_WG(1)\n",
"printf('The magnitude of velocity of plane relative to ground is %f km/h', v_PG_x)"
   ]
   }
,
{
		   "cell_type": "markdown",
		   "metadata": {},
		   "source": [
			"## Example 4.1: Sample_Problem_1.sce"
		   ]
		  },
  {
"cell_type": "code",
	   "execution_count": null,
	   "metadata": {
	    "collapsed": true
	   },
	   "outputs": [],
"source": [
"//Given that\n",
"r_initial = [-3,2,5]   //in meter\n",
"r_final = [9,2,8]   //in meter\n",
"//Sample Problem 4-1\n",
"printf('**Sample Problem 4-1**\n')\n",
"dis_v = r_final - r_initial\n",
"printf('The displacement vector of the particle in meter is')\n",
"disp(dis_v)"
   ]
   }
,
{
		   "cell_type": "markdown",
		   "metadata": {},
		   "source": [
			"## Example 4.2_a: Sample_Problem_2a.sce"
		   ]
		  },
  {
"cell_type": "code",
	   "execution_count": null,
	   "metadata": {
	    "collapsed": true
	   },
	   "outputs": [],
"source": [
"exec('degree_rad.sci',-1)\n",
"\n",
"//Given that\n",
"t = poly(0,'t')\n",
"x = -0.31 *t^2 + 7.2 *t +28  //in meter\n",
"y = 0.22 *t^2 - 9.1 *t + 30  //in meter\n",
"\n",
"//Sample Problem 4-2a\n",
"printf('**Sample Problem 4-2a**\n')\n",
"time_t =15  //in sec\n",
"position_r = [horner(x,time_t),horner(y,time_t)]\n",
"printf('The position vector of the rabbit at t=15sec in meter is')\n",
"disp(position_r)\n",
"printf('The magnitude of the position vector is %f m\n', norm(position_r))\n",
"printf('The angle made by the position vector with the x axis in degrees at the same time %f', rtod(atan(position_r(2)/position_r(1))))"
   ]
   }
,
{
		   "cell_type": "markdown",
		   "metadata": {},
		   "source": [
			"## Example 4.2_b: Sample_Problem_2b.sce"
		   ]
		  },
  {
"cell_type": "code",
	   "execution_count": null,
	   "metadata": {
	    "collapsed": true
	   },
	   "outputs": [],
"source": [
"exec('Example4_2a.sce',-1)\n",
"clc\n",
"\n",
"//Sample Problem 4-2b\n",
"printf('**Sample Problem 4-2b**\n')\n",
"xx = horner(x, [0:2:25])\n",
"yy = horner(y, [0:2:25])\n",
"xset('window',3)\n",
"xtitle ('Y v/s X [t=0sec to t=25sec]','X (m)','Y (m)');\n",
"plot2d(linspace(0,0,10),linspace(0,0,10),style=3,rect=[0,-80,80,40]);\n",
"//plotting grid\n",
"plot(linspace(10,10,5),linspace(-80,40,5),'--')\n",
"plot(linspace(20,20,5),linspace(-80,40,5),'--')\n",
"plot(linspace(30,30,5),linspace(-80,40,5),'--')\n",
"plot(linspace(40,40,5),linspace(-80,40,5),'--')\n",
"plot(linspace(50,50,5),linspace(-80,40,5),'--')\n",
"plot(linspace(60,60,5),linspace(-80,40,5),'--')\n",
"plot(linspace(70,70,5),linspace(-80,40,5),'--')\n",
"plot(linspace(80,80,5),linspace(-80,40,5),'--')\n",
"plot(linspace(0,80,5),linspace(-60,-60,5),'--')\n",
"plot(linspace(0,80,5),linspace(-40,-40,5),'--')\n",
"plot(linspace(0,80,5),linspace(-20,-20,5),'--')\n",
"plot(linspace(0,80,5),linspace(0,0,5),'--')\n",
"plot(linspace(0,80,5),linspace(20,20,5),'--')\n",
"plot(linspace(0,80,5),linspace(40,40,5),'--')\n",
"//plotting graph\n",
"plot(xx,yy,'m.<-')"
   ]
   }
,
{
		   "cell_type": "markdown",
		   "metadata": {},
		   "source": [
			"## Example 4.3: Sample_Problem_3.sce"
		   ]
		  },
  {
"cell_type": "code",
	   "execution_count": null,
	   "metadata": {
	    "collapsed": true
	   },
	   "outputs": [],
"source": [
"exec('Example4_2a.sce',-1)\n",
"clc\n",
"\n",
"//Sample Problem 4-3\n",
"printf('\n**Sample Problem 4-3**\n')\n",
"velocity_v_x = derivat(x)\n",
"velocity_v_y = derivat(y)\n",
"v_time_t = [horner(velocity_v_x,time_t),horner(velocity_v_y,time_t)]\n",
"printf('The velocity vector of the rabbit at t=15sec in m/s is')\n",
"disp(v_time_t)\n",
"printf('The magnitude of the velocity vector is %f m/s\n', norm(v_time_t))\n",
"printf('The angle made by the velocity vector with the x axis in degrees at the same time %f', rtod(atan(v_time_t(2)/v_time_t(1))))"
   ]
   }
,
{
		   "cell_type": "markdown",
		   "metadata": {},
		   "source": [
			"## Example 4.4: Sample_Problem_4.sce"
		   ]
		  },
  {
"cell_type": "code",
	   "execution_count": null,
	   "metadata": {
	    "collapsed": true
	   },
	   "outputs": [],
"source": [
"exec('Example4_3.sce',-1)\n",
"clc\n",
"\n",
"//Sample Problem 4-4\n",
"printf('\n**Sample Problem 4-4**\n')\n",
"acceler_x = derivat(velocity_v_x)\n",
"acceler_y = derivat(velocity_v_y)\n",
"a_time_t = [horner(acceler_x,time_t),horner(acceler_y,time_t)]\n",
"printf('The acceleration vector of the rabbit at t=15sec in m/sec^2 is')\n",
"disp(a_time_t)\n",
"printf('The magnitude of the acceleration vector is %f m/sec^2\n', norm(a_time_t))\n",
"printf('The angle made by the acceleration vector with the x axis in degrees at the same time %f', rtod(atan(a_time_t(2)/a_time_t(1))))"
   ]
   }
,
{
		   "cell_type": "markdown",
		   "metadata": {},
		   "source": [
			"## Example 4.5: Sample_Problem_5.sce"
		   ]
		  },
  {
"cell_type": "code",
	   "execution_count": null,
	   "metadata": {
	    "collapsed": true
	   },
	   "outputs": [],
"source": [
"exec('degree_rad.sci',-1)\n",
"\n",
"//Given that\n",
"velocity_v0 = [-2,4]   //in m/s\n",
"acceler_a = [3 *cos(dtor(130)), 3 *sin(dtor(130))]   //in m/sec^2\n",
"time_t = 5   //in sec\n",
"\n",
"//Sample Problem 4-5\n",
"printf('**Sample Problem 4-5**\n')\n",
"//using newton's first equation of motion v = u + a *t\n",
"velocity_t = velocity_v0 + acceler_a * time_t\n",
"printf('The velocity vector of the particle at t=5sec in m/s is')\n",
"disp(velocity_t)\n",
"printf('The magnitude of the velocity vector is %f m/s\n', norm(velocity_t))\n",
"printf('The angle made by the velocity vector with the x axis in degrees at the same time %f', rtod(atan(velocity_t(2)/velocity_t(1))))"
   ]
   }
,
{
		   "cell_type": "markdown",
		   "metadata": {},
		   "source": [
			"## Example 4.6: Sample_Problem_6.sce"
		   ]
		  },
  {
"cell_type": "code",
	   "execution_count": null,
	   "metadata": {
	    "collapsed": true
	   },
	   "outputs": [],
"source": [
"exec('degree_rad.sci',-1)\n",
"\n",
"//Given that\n",
"v_rescue = [55,0]   //in m/s\n",
"dis_y = -500    //in m\n",
"g = -9.8    //in m/s^2\n",
"\n",
"//Sample Problem 4-6a\n",
"printf('**Sample Problem 4-6a**\n')\n",
"//using newton's second equation of motion\n",
"time = sqrt(2 *dis_y /g)\n",
"dis_x = v_rescue(1) *time\n",
"printf('The angle of the piliots line of sight to the victim %f degrees\n',rtod(atan(-dis_x/dis_y)))\n",
"\n",
"//Sample Problem 4-6b\n",
"printf('\n**Sample Problem 4-6b**\n')\n",
"u_initial = v_rescue\n",
"//using newton's first equation of motion\n",
"v_final = u_initial + [0,g] * time\n",
"printf('The velocity vector of the capsule near water in m/s is')\n",
"disp(v_final)\n",
"printf('The magnitude of the velocity vector is %f m/s\n', norm(v_final))\n",
"printf('The angle made by the velocity vector with the x axis in degrees at the same time %f', rtod(atan(v_final(2)/v_final(1))))"
   ]
   }
,
{
		   "cell_type": "markdown",
		   "metadata": {},
		   "source": [
			"## Example 4.7: Sample_Problem_7.sce"
		   ]
		  },
  {
"cell_type": "code",
	   "execution_count": null,
	   "metadata": {
	    "collapsed": true
	   },
	   "outputs": [],
"source": [
"exec('degree_rad.sci',-1)\n",
"\n",
"//Given that\n",
"range_x = 560   //in m\n",
"v0_mag = 82     //in m/sec\n",
"g = -9.8    //in m/s^2\n",
"\n",
"//Sample Problem 4-7a\n",
"printf('**Sample Problem 4-7a**\n')\n",
"theta = .5 *asin(-g* range_x/v0_mag^2)\n",
"printf('The angle at which the ball be fired to hit the ship is %f degrees or %f\n', rtod(theta), (90 - rtod(theta)))\n",
"\n",
"//Sample Problem 4-7b\n",
"printf('\n**Sample Problem 4-7b**\n')\n",
"//Range is maximum when theta = 45 degree\n",
"R_max = -v0_mag^2/g\n",
"printf('The maximum possible range is %f m', R_max)"
   ]
   }
,
{
		   "cell_type": "markdown",
		   "metadata": {},
		   "source": [
			"## Example 4.8: Sample_Problem_8.sce"
		   ]
		  },
  {
"cell_type": "code",
	   "execution_count": null,
	   "metadata": {
	    "collapsed": true
	   },
	   "outputs": [],
"source": [
"exec('degree_rad.sci',-1)\n",
"\n",
"//Given that\n",
"gr_height = 3   //in m\n",
"theta = dtor(53)\n",
"g = -9.8   //in m/s^2\n",
"v0 = 26.5   //in m/s\n",
"tower_height = 18   //in m\n",
"\n",
"//Sample Problem 4-8a\n",
"printf('**Sample Problem 4-8a**\n')\n",
"x = poly(0,'x')\n",
"y = x * tan(theta) + g * x * x /(2* v0^2) * sec(theta)^2\n",
"y_tower1 = horner(y,23)\n",
"if y_tower1<0 then printf('No, It does not clear the first Ferris wheel\n')\n",
"    else printf('Yes, It clears the first Ferris wheel\n')\n",
"end\n",
"\n",
"//Sample Proble, 4-8b\n",
"printf('\n**Sample Problem 4-8b**\n')\n",
"y_max = horner(y,34.5)\n",
"printf('The balls clearance above middle tower is %f m\n', y_max + gr_height - tower_height)\n",
"\n",
"//Sample Problem 4-8c\n",
"printf('\n**Sample Problem 4-8c**\n')\n",
"Range = -v0^2 * sin(2*theta)/g\n",
"printf('The centre of the net should be placed at a diastance of %f m form the cannon', Range)"
   ]
   }
,
{
		   "cell_type": "markdown",
		   "metadata": {},
		   "source": [
			"## Example 4.9: Sample_Problem_9.sce"
		   ]
		  },
  {
"cell_type": "code",
	   "execution_count": null,
	   "metadata": {
	    "collapsed": true
	   },
	   "outputs": [],
"source": [
"//Given that\n",
"g = 9.8    //in m/s^2\n",
"v = 694   //in m/s\n",
"r = 5800    //in m\n",
"\n",
"//Sample Problem 4-9\n",
"printf('**Sample Problem 4-9**\n')\n",
"cent_a = v^2 / (r *g)\n",
"printf('Centripetal acceleration of the pilot is %f*g m/s^2', cent_a)"
   ]
   }
],
"metadata": {
		  "kernelspec": {
		   "display_name": "Scilab",
		   "language": "scilab",
		   "name": "scilab"
		  },
		  "language_info": {
		   "file_extension": ".sce",
		   "help_links": [
			{
			 "text": "MetaKernel Magics",
			 "url": "https://github.com/calysto/metakernel/blob/master/metakernel/magics/README.md"
			}
		   ],
		   "mimetype": "text/x-octave",
		   "name": "scilab",
		   "version": "0.7.1"
		  }
		 },
		 "nbformat": 4,
		 "nbformat_minor": 0
}
