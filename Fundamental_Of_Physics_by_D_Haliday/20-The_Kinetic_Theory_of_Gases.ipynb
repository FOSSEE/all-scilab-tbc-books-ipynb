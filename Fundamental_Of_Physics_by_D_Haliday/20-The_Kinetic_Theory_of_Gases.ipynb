{
"cells": [
 {
		   "cell_type": "markdown",
	   "metadata": {},
	   "source": [
       "# Chapter 20: The Kinetic Theory of Gases"
	   ]
	},
{
		   "cell_type": "markdown",
		   "metadata": {},
		   "source": [
			"## Example 20.1: Sample_Problem_1.sce"
		   ]
		  },
  {
"cell_type": "code",
	   "execution_count": null,
	   "metadata": {
	    "collapsed": true
	   },
	   "outputs": [],
"source": [
"//Given that\n",
"Vi = 12  //in L\n",
"Ti = 20+273  //in K\n",
"Pi = 15  //in atm\n",
"Tf = 35+273  //in K\n",
"Vf = 8.5  //in L\n",
"R = .0821  //in atm.lit/(mol.K)\n",
"\n",
"//Sample Problem 20-1\n",
"printf('**Sample Problem 20-1**\n')\n",
"Pf = (Pi*Vi/(R*Ti))/(Vf/(R*Tf))\n",
"printf('The final pressure of the gas is %fatm', Pf)"
   ]
   }
,
{
		   "cell_type": "markdown",
		   "metadata": {},
		   "source": [
			"## Example 20.2: Sample_Problem_2.sce"
		   ]
		  },
  {
"cell_type": "code",
	   "execution_count": null,
	   "metadata": {
	    "collapsed": true
	   },
	   "outputs": [],
"source": [
"//Given that\n",
"n = 1  //in mole\n",
"T = 310  //in K\n",
"Vi = 12  //in L\n",
"Vf = 19  //in L\n",
"R = .0821  //in atm.lit/(mol.K)\n",
"\n",
"//Sample Probelm 20-2\n",
"printf('**Sample Problem 20-2**\n')\n",
"W = n*R*T*log(Vf/Vi)  //in atm.lit\n",
"printf('The work done by the gas is equal to %fJ', W*1.0125*10^5*10^-3)"
   ]
   }
,
{
		   "cell_type": "markdown",
		   "metadata": {},
		   "source": [
			"## Example 20.3: Sample_Problem_3.sce"
		   ]
		  },
  {
"cell_type": "code",
	   "execution_count": null,
	   "metadata": {
	    "collapsed": true
	   },
	   "outputs": [],
"source": [
"//Given that\n",
"n = [5, 11, 32, 67, 89]\n",
"\n",
"//Sample Probelm 20-3a\n",
"printf('**Sample Problem 20-3a**\n')\n",
"navg = sum(n)/length(n)\n",
"printf('The average value of numbers is %2.2f\n', navg)\n",
"\n",
"//Sample Probelm 20-3b\n",
"printf('\n**Sample Problem 20-3b**\n')\n",
"nrms = sqrt(sum(n.*n)/5)\n",
"printf('The rms value of numbers is %2.2f', nrms)"
   ]
   }
,
{
		   "cell_type": "markdown",
		   "metadata": {},
		   "source": [
			"## Example 20.4: Sample_Problem_4.sce"
		   ]
		  },
  {
"cell_type": "code",
	   "execution_count": null,
	   "metadata": {
	    "collapsed": true
	   },
	   "outputs": [],
"source": [
"//Given that\n",
"R = 8.31  //in J/mol.K\n",
"Na = 6.023*10^23  //in /mol\n",
"K = R/Na\n",
"\n",
"//Sample Problem 20-4a\n",
"printf('**Sample Problem 20-4a**\n')\n",
"T = 300  //in K\n",
"P = 1*1.0125*10^5  //in pa\n",
"d = 290*10^-12  //in meter\n",
"lambda = K*T/(sqrt(2)*%pi*d^2*P)\n",
"printf('The mean free path is equal to %em\n', lambda)\n",
"\n",
"//Sample Problem 20-4b\n",
"printf('\n**Sample Problem 20-4b**\n')\n",
"v = 450  //in m/s\n",
"t = lambda/v\n",
"printf('The time between two collisions is %esec\n', t)\n",
"f = 1/t\n",
"printf('The frequency of collision is %eHz', f)"
   ]
   }
,
{
		   "cell_type": "markdown",
		   "metadata": {},
		   "source": [
			"## Example 20.5: Sample_Problem_5.sce"
		   ]
		  },
  {
"cell_type": "code",
	   "execution_count": null,
	   "metadata": {
	    "collapsed": true
	   },
	   "outputs": [],
"source": [
"//Given that\n",
"T = 300  //in K\n",
"v1 = 599  //m/s\n",
"v2 = 601  //in m/s\n",
"M = 0.0320  //in kg/mol\n",
"R = 8.31  //J/(mol.K)\n",
"\n",
"//Sample Problem 20-5\n",
"printf('**Sample Problem 20-5**\n')\n",
"v = (v1+v2)/2\n",
"deltav = v2 - v1\n",
"f = 4*%pi*(M/(2*%pi*R*T))^(3/2)*v^2*%e^(-M*v^2/2/R/T)*deltav\n",
"printf('The fraction of molecules having speed in given range is %e', f)"
   ]
   }
,
{
		   "cell_type": "markdown",
		   "metadata": {},
		   "source": [
			"## Example 20.6: Sample_Problem_6.sce"
		   ]
		  },
  {
"cell_type": "code",
	   "execution_count": null,
	   "metadata": {
	    "collapsed": true
	   },
	   "outputs": [],
"source": [
"//Given that\n",
"M = 0.0320  //in kg/mol\n",
"T = 300  //in K\n",
"R = 8.31  //in J/mol.cal\n",
"\n",
"//Sample Problem 20-6a\n",
"printf('**Sample Problem 20-6a**\n')\n",
"Vavg = sqrt(8*R*T/%pi/M)\n",
"printf('The average speed of molecule is %fm/s\n', Vavg)\n",
"\n",
"//Sample Problem 20-6b\n",
"printf('\n**Sample Problem 20-6b**\n')\n",
"Vrms = sqrt(3*R*T/M)\n",
"printf('The rms speed of molecule is %fm/s\n', Vrms)\n",
"\n",
"//Sample Problem 20-6c\n",
"printf('\n**Sample Problem 20-6c**\n')\n",
"Vmps = sqrt(2*R*T/M)\n",
"printf('The most probable speed of molecule is %fm/s', Vmps)"
   ]
   }
,
{
		   "cell_type": "markdown",
		   "metadata": {},
		   "source": [
			"## Example 20.7: Sample_Problem_7.sce"
		   ]
		  },
  {
"cell_type": "code",
	   "execution_count": null,
	   "metadata": {
	    "collapsed": true
	   },
	   "outputs": [],
"source": [
"//Given that\n",
"n = 5.00  //in mol\n",
"deltaT = 20\n",
"R = 8.31  //in J/mol.K\n",
"\n",
"//Sample Problem 20-7a\n",
"printf('**Sample Problem 20-7a**\n')\n",
"//For Helium\n",
"Cv = 3/2*R\n",
"Cp = Cv + R\n",
"Q = n*Cp*deltaT\n",
"printf('The heat added to the bubble is equal to %fJ\n', Q)\n",
"\n",
"//Sample Problem 20-7b\n",
"printf('\n**Sample Problem 20-7b**\n')\n",
"deltaEint = n*Cv*deltaT\n",
"printf('The change in internal energy is equal to %fJ\n', deltaEint)\n",
"\n",
"//Sample Problem 20-7c\n",
"printf('\n**Sample Problem 20-7c**\n')\n",
"W = Q - deltaEint\n",
"printf('The work done by the system is equal to %fJ', W)"
   ]
   }
,
{
		   "cell_type": "markdown",
		   "metadata": {},
		   "source": [
			"## Example 20.9: Sample_Problem_9.sce"
		   ]
		  },
  {
"cell_type": "code",
	   "execution_count": null,
	   "metadata": {
	    "collapsed": true
	   },
	   "outputs": [],
"source": [
"//Given that\n",
"n = 1  //in mol\n",
"Ti = 310  //in K\n",
"Vi = 12  //in L\n",
"Vf = 19  //in L\n",
"\n",
"//Sample Probelm 20-9a\n",
"printf('**Sample Problem 20-9a**\n')\n",
"gama = 7/5  //for diatomic gases\n",
"Tf = Ti*(Vi/Vf)^(gama-1)\n",
"printf('The final temprature of the gas is %fK\n', Tf)\n",
"\n",
"//Sample Probelm 20-9b\n",
"printf('\n**Sample Problem 20-9b**\n')\n",
"Tf = Ti  //Temprature does not change in free expansion\n",
"Pi = 2  //in Pa\n",
"Pf = Pi*Vi/Vf\n",
"printf('The final pressure of the gas is %fPa\n', Pf)\n",
"printf('The final temprature of the gas is %fK', Tf)"
   ]
   }
],
"metadata": {
		  "kernelspec": {
		   "display_name": "Scilab",
		   "language": "scilab",
		   "name": "scilab"
		  },
		  "language_info": {
		   "file_extension": ".sce",
		   "help_links": [
			{
			 "text": "MetaKernel Magics",
			 "url": "https://github.com/calysto/metakernel/blob/master/metakernel/magics/README.md"
			}
		   ],
		   "mimetype": "text/x-octave",
		   "name": "scilab",
		   "version": "0.7.1"
		  }
		 },
		 "nbformat": 4,
		 "nbformat_minor": 0
}
