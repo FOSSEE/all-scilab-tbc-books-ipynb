{
"cells": [
 {
		   "cell_type": "markdown",
	   "metadata": {},
	   "source": [
       "# Chapter 36: Interference"
	   ]
	},
{
		   "cell_type": "markdown",
		   "metadata": {},
		   "source": [
			"## Example 36.1: Sample_Problem_1.sce"
		   ]
		  },
  {
"cell_type": "code",
	   "execution_count": null,
	   "metadata": {
	    "collapsed": true
	   },
	   "outputs": [],
"source": [
"//Given that\n",
"l = 550*10^-9  //in meter\n",
"n2 = 1.60\n",
"n1 = 1.00\n",
"t = 2.6*10^-6  //in meter\n",
"\n",
"//Sample Problem 36-1a\n",
"printf('**Sample Problem 36-1a**\n')\n",
"deltaPHI = t/l*(n2 - n1)*360\n",
"printf('The phase difference is equal to %1.2fdegrees\n', deltaPHI)\n",
"\n",
"//Sample Problem 36-1b\n",
"printf('\n**Sample Problem 36-1b**\n')\n",
"printf('The interference produced would be constructive')"
   ]
   }
,
{
		   "cell_type": "markdown",
		   "metadata": {},
		   "source": [
			"## Example 36.2: Sample_Problem_2.sce"
		   ]
		  },
  {
"cell_type": "code",
	   "execution_count": null,
	   "metadata": {
	    "collapsed": true
	   },
	   "outputs": [],
"source": [
"//Given that\n",
"l = 546*10^-9  //in meter\n",
"d = 12*10^-5  //in meter\n",
"D = 55*10^-2  //in meter\n",
"\n",
"//Sample Problem 36-2\n",
"printf('**Sample Problem 36-2**\n')\n",
"beeta = l*D/d\n",
"printf('The difference between two adjacent maxima is %1.2em', beeta)"
   ]
   }
,
{
		   "cell_type": "markdown",
		   "metadata": {},
		   "source": [
			"## Example 36.3: Sample_Problem_3.sce"
		   ]
		  },
  {
"cell_type": "code",
	   "execution_count": null,
	   "metadata": {
	    "collapsed": true
	   },
	   "outputs": [],
"source": [
"exec('degree_rad.sci', -1)\n",
"\n",
"//Given that\n",
"Eo = 1  //(say)\n",
"E1 = Eo\n",
"E2 = Eo\n",
"E3 = Eo\n",
"phi1 = dtor(0)\n",
"phi2 = dtor(60)\n",
"phi3 = dtor(-30)\n",
"\n",
"//Sample Problem 36-3\n",
"printf('**Sample Problem 36-3**\n')\n",
"Eh = E1*cos(phi1) + E2*cos(phi2) + E3*cos(phi3)\n",
"Ev = E1*sin(phi1) + E2*sin(phi2) + E3*sin(phi3)\n",
"Er = sqrt(Ev^2 + Eh^2)\n",
"theta = rtod(atan(Ev/Eh))\n",
"printf('The resultant electric field is E=%1.2f*Eo*sin(w*t + %1.2f)', Er, theta)"
   ]
   }
,
{
		   "cell_type": "markdown",
		   "metadata": {},
		   "source": [
			"## Example 36.4: Sample_Problem_4.sce"
		   ]
		  },
  {
"cell_type": "code",
	   "execution_count": null,
	   "metadata": {
	    "collapsed": true
	   },
	   "outputs": [],
"source": [
"//Given that\n",
"lmin = 400  //in nm\n",
"lmax = 690  //in nm\n",
"n2 = 1.33\n",
"L = 320  //in nm\n",
"\n",
"//Sample Problem 36-4\n",
"printf('**Sample Problem 36-4**\n')\n",
"flag = 1\n",
"odd_number = 1\n",
"while flag == 1\n",
"    lambda = 4*L*n2/odd_number\n",
"    if lambda > lmin & lambda < lmax then\n",
"        flag = 0\n",
"    end\n",
"    odd_number = odd_number + 2\n",
"end\n",
"printf('The wavelength of the light is %1.2enm', lambda)"
   ]
   }
,
{
		   "cell_type": "markdown",
		   "metadata": {},
		   "source": [
			"## Example 36.5: Sample_Problem_5.sce"
		   ]
		  },
  {
"cell_type": "code",
	   "execution_count": null,
	   "metadata": {
	    "collapsed": true
	   },
	   "outputs": [],
"source": [
"//Given that\n",
"n1 = 1.38\n",
"n2 = 1.50\n",
"lambda = 550  //in nm\n",
"\n",
"//Sample Problem 36-5\n",
"printf('**Sample Problem 36-5**\n')\n",
"Lmin = lambda/4/n1\n",
"printf('The minimum value of wavelength possible is %1.2fnm', Lmin)"
   ]
   }
,
{
		   "cell_type": "markdown",
		   "metadata": {},
		   "source": [
			"## Example 36.6: Sample_Problem_6.sce"
		   ]
		  },
  {
"cell_type": "code",
	   "execution_count": null,
	   "metadata": {
	    "collapsed": true
	   },
	   "outputs": [],
"source": [
"//Given that\n",
"lambda = 632.8*10^-9  //in meter\n",
"i = 0  //in rad\n",
"dFringes = 6\n",
"bFringes = 5\n",
"\n",
"//Sample Problem 36-6\n",
"printf('**Sample Problem 36-6**\n')\n",
"//Assume the difference in thickness is 't'\n",
"//then the path difference will be 2*L\n",
"//hence\n",
"deltaL = bFringes/2*lambda\n",
"printf('The difference in thickness is equal to %fnm', deltaL*10^9)"
   ]
   }
],
"metadata": {
		  "kernelspec": {
		   "display_name": "Scilab",
		   "language": "scilab",
		   "name": "scilab"
		  },
		  "language_info": {
		   "file_extension": ".sce",
		   "help_links": [
			{
			 "text": "MetaKernel Magics",
			 "url": "https://github.com/calysto/metakernel/blob/master/metakernel/magics/README.md"
			}
		   ],
		   "mimetype": "text/x-octave",
		   "name": "scilab",
		   "version": "0.7.1"
		  }
		 },
		 "nbformat": 4,
		 "nbformat_minor": 0
}
