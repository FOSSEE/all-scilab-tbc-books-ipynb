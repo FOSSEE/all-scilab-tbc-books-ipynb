{
"cells": [
 {
		   "cell_type": "markdown",
	   "metadata": {},
	   "source": [
       "# Chapter 11: Rotation"
	   ]
	},
{
		   "cell_type": "markdown",
		   "metadata": {},
		   "source": [
			"## Example 11.10: Sample_Problem_10.sce"
		   ]
		  },
  {
"cell_type": "code",
	   "execution_count": null,
	   "metadata": {
	    "collapsed": true
	   },
	   "outputs": [],
"source": [
"//Given that\n",
"m = 1  //(say)\n",
"R = 0.15  //in meter\n",
"L = 2.0 * R\n",
"g =  9.8  //in m/s^2\n",
"\n",
"//Sample Problem 11-10\n",
"printf('**Sample Problem 11-10**\n')\n",
"I = 0.5*m*R^2 + m*L^2/12 + m*(L/2+R)^2\n",
"deltaU = m* g* (L + 2*R)\n",
"//deltaK = 0.5*I*w^2\n",
"//therefore-\n",
"w = sqrt(deltaU/(0.5*I))\n",
"printf('The angular speed is equal to %frad/s', w)"
   ]
   }
,
{
		   "cell_type": "markdown",
		   "metadata": {},
		   "source": [
			"## Example 11.1: Sample_Problem_1.sce"
		   ]
		  },
  {
"cell_type": "code",
	   "execution_count": null,
	   "metadata": {
	    "collapsed": true
	   },
	   "outputs": [],
"source": [
"//Given that\n",
"t = poly(0, 't')\n",
"A = -1.00-0.600*t+0.250*t^2\n",
"\n",
"//Sample Problem 11-1a\n",
"printf('**Sample Problem 11-1a**\n')\n",
"Ts = [-3:0.5:6]\n",
"As = horner(A, Ts)\n",
"xset('window', 1)\n",
"xtitle( 'angular variable for the disk v/s time', 'time(sec)', 'Y-axis')\n",
"plot(Ts, As, 'm-o')\n",
"\n",
"//Sample Problem 11-1b\n",
"printf('\n**Sample Problem 11-1b**\n')\n",
"To = roots(derivat(A))\n",
"printf('At t=%fsec, theta approaches its minimum value equal to %f\n', To, horner(A, To))\n",
"\n",
"//Sample Problem 11-1c\n",
"printf('\n**Sample Problem 11-1c**\n')\n",
"Os = horner(derivat(A), Ts)\n",
"plot(Ts, Os, 'r-+')\n",
"legend('theta(rad)', 'omega(rad/s)')"
   ]
   }
,
{
		   "cell_type": "markdown",
		   "metadata": {},
		   "source": [
			"## Example 11.2: Sample_Problem_2.sce"
		   ]
		  },
  {
"cell_type": "code",
	   "execution_count": null,
	   "metadata": {
	    "collapsed": true
	   },
	   "outputs": [],
"source": [
"//Given that\n",
"alpha = 0.335  //in rad/s^2\n",
"Wo = -4.6  //in rad/s\n",
"Ao = 0  //in rad\n",
"Af = 5* 2*%pi  //in rad\n",
"\n",
"//Sample Problem 11-2a\n",
"printf('**Sample Problem 11-2a**\n')\n",
"//Using newton's second equation of motion\n",
"t = poly(0, 't')\n",
"p = Ao + Wo*t + 0.5*alpha*t^2 - Af\n",
"to = roots(p)\n",
"printf('At time equal to %fsec, the reference line will be at given position\n', to(2))\n",
"\n",
"//Sample Problem 11-2c\n",
"printf('\n**Sample Problem 11-2c**\n')\n",
"p = Wo + alpha*t\n",
"ts = roots(p)\n",
"printf('At time equal to %fsec, the disk momentarily stops', ts)"
   ]
   }
,
{
		   "cell_type": "markdown",
		   "metadata": {},
		   "source": [
			"## Example 11.3: Sample_Problem_3.sce"
		   ]
		  },
  {
"cell_type": "code",
	   "execution_count": null,
	   "metadata": {
	    "collapsed": true
	   },
	   "outputs": [],
"source": [
"//Given that\n",
"W1 = 3.40  //in rad/s\n",
"W2 = 2.00  //in rad/s\n",
"rev_taken = 20\n",
"\n",
"//Sample Problem 11-3a\n",
"printf('**Sample Problem 11-3a**\n')\n",
"angle_traversed = 2*%pi*rev_taken\n",
"//Using newton's third equation of motion\n",
"//Wf^2 = Wi^2 + 2*alpha*theta\n",
"alpha = (W2^2 - W1^2)/(2*angle_traversed)\n",
"printf('The angular acceleration during the stop is %frads^2\n', alpha)\n",
"\n",
"//Sample Problem 11-3b\n",
"printf('\n**Sample Problem 11-3b**\n')\n",
"//Using newton's first equation of motion\n",
"time_taken = (W2 - W1)/alpha\n",
"printf('The time taken in decreasing the speed is %fsec', time_taken)"
   ]
   }
,
{
		   "cell_type": "markdown",
		   "metadata": {},
		   "source": [
			"## Example 11.4: Sample_Problem_4.sce"
		   ]
		  },
  {
"cell_type": "code",
	   "execution_count": null,
	   "metadata": {
	    "collapsed": true
	   },
	   "outputs": [],
"source": [
"//Given that\n",
"r = 15  //in meter\n",
"g = 9.8  //in m.s^2\n",
"a = 11 * g  //in m.s^2\n",
"\n",
"//Sample Problem 11-4a\n",
"printf('**Sample Problem 11-4a**\n')\n",
"w = sqrt(a/r)\n",
"printf('The angular speed should be %frad/s\n', w)\n",
"\n",
"//Sample Problem 11-4b\n",
"printf('\n**Sample Problem 11-4b**\n')\n",
"t = 120  //in sec\n",
"alpha = w/t\n",
"at = alpha*r\n",
"printf('The tangential acceleration will be %fm/s^2', at)"
   ]
   }
,
{
		   "cell_type": "markdown",
		   "metadata": {},
		   "source": [
			"## Example 11.6: Sample_Problem_6.sce"
		   ]
		  },
  {
"cell_type": "code",
	   "execution_count": null,
	   "metadata": {
	    "collapsed": true
	   },
	   "outputs": [],
"source": [
"//Given that\n",
"M = 272  //in kg\n",
"R = 38*10^-2  //in meter\n",
"w = 14000* 2*%pi/60  //in rad/s\n",
"\n",
"///Sample Problem 11-6\n",
"printf('**Sample Problem 11-6**\n')\n",
"I = 0.5* M* R^2\n",
"E = 0.5* I* w^2\n",
"printf('The energy released during the explosion is %eJ', E)"
   ]
   }
,
{
		   "cell_type": "markdown",
		   "metadata": {},
		   "source": [
			"## Example 11.7: Sample_Problem_7.sce"
		   ]
		  },
  {
"cell_type": "code",
	   "execution_count": null,
	   "metadata": {
	    "collapsed": true
	   },
	   "outputs": [],
"source": [
"//Given that\n",
"M = 2.5  //in kg\n",
"R = 0.20  //i meter\n",
"m = 1.2  //in kg\n",
"g = 9.8  //in m/s^2\n",
"I = 0.5*M*R^2\n",
"\n",
"//Sample Problem 11-7\n",
"printf('**Sample Problem 11-7**\n')\n",
"//mg - T = ma\n",
"//T*R = I*a/R\n",
"//T = I*a/R^2\n",
"//on adding =>\n",
"a = m*g/(m+I/R^2)\n",
"T = m*(g-a)\n",
"alpha = a/R\n",
"printf('The acceleration of the block is %fm/s^2\n', a)\n",
"printf('The angular acceleration of the pulley is %frad/s^2\n', alpha)\n",
"printf('The tension in the string is %fN', T)"
   ]
   }
,
{
		   "cell_type": "markdown",
		   "metadata": {},
		   "source": [
			"## Example 11.8: Sample_Problem_8.sce"
		   ]
		  },
  {
"cell_type": "code",
	   "execution_count": null,
	   "metadata": {
	    "collapsed": true
	   },
	   "outputs": [],
"source": [
"//Given that\n",
"M = 80  //in kg\n",
"d1 = 0.30  //in meter\n",
"alpha = 6  //in rad/s^2\n",
"I = 15  //in kg.m^2\n",
"g = 9.8  //in m/s^2\n",
"\n",
"//Sample Problem 11-8a\n",
"printf('**Sample Problem 11-8a**\n')\n",
"F = I*alpha/d1\n",
"printf('The magnitude of F is %fN\n', F)\n",
"\n",
"//Sample Problem 11-8b\n",
"printf('\n**Sample Problem 11-8b**\n')\n",
"d2 = 0.12  //in meter\n",
"//F*d1 - M*g*d2 = I*alpha\n",
"F = I*alpha + M*g*d2\n",
"F = F/d1\n",
"printf('The magnitude of F in second case is %fN', F)"
   ]
   }
,
{
		   "cell_type": "markdown",
		   "metadata": {},
		   "source": [
			"## Example 11.9: Sample_Problem_9.sce"
		   ]
		  },
  {
"cell_type": "code",
	   "execution_count": null,
	   "metadata": {
	    "collapsed": true
	   },
	   "outputs": [],
"source": [
"exec('Example11_7.sce', -1)\n",
"clc\n",
"\n",
"//Given that\n",
"t = 2.5  //in sec\n",
"\n",
"//Sample Problem 11-9\n",
"printf('\n**Sample Problem 11-9**\n')\n",
"w = 0 + alpha*t\n",
"RE = 0.5* I* w^2\n",
"printf('The rotational kinetic energy of the disk will be %fJ', RE)"
   ]
   }
],
"metadata": {
		  "kernelspec": {
		   "display_name": "Scilab",
		   "language": "scilab",
		   "name": "scilab"
		  },
		  "language_info": {
		   "file_extension": ".sce",
		   "help_links": [
			{
			 "text": "MetaKernel Magics",
			 "url": "https://github.com/calysto/metakernel/blob/master/metakernel/magics/README.md"
			}
		   ],
		   "mimetype": "text/x-octave",
		   "name": "scilab",
		   "version": "0.7.1"
		  }
		 },
		 "nbformat": 4,
		 "nbformat_minor": 0
}
