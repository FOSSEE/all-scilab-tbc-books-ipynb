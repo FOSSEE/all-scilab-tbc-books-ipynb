{
"cells": [
 {
		   "cell_type": "markdown",
	   "metadata": {},
	   "source": [
       "# Chapter 1: Measurement"
	   ]
	},
{
		   "cell_type": "markdown",
		   "metadata": {},
		   "source": [
			"## Example 1.1: Sample_Problem_1.sce"
		   ]
		  },
  {
"cell_type": "code",
	   "execution_count": null,
	   "metadata": {
	    "collapsed": true
	   },
	   "outputs": [],
"source": [
"//Given that\n",
"velocityP = 23 //rides per h\n",
"c1 = 4  //from ride to stadia\n",
"c2 = 6  //from stadia to plethra\n",
"c3 = 30.8 //from plethra to meter\n",
"c4 = 10^-3  //from meter to kilometer\n",
"c5 = 60 * 60  //from h to sec\n",
"\n",
"//Sample Problem 1-1\n",
"printf('**Sample Problem 1-1**\n')\n",
"velocityC = velocityP * c1 * c2 * c3 * c4 / c5\n",
"printf('The speed is %e km/s', velocityC)"
   ]
   }
,
{
		   "cell_type": "markdown",
		   "metadata": {},
		   "source": [
			"## Example 1.2: Sample_Problem_2.sce"
		   ]
		  },
  {
"cell_type": "code",
	   "execution_count": null,
	   "metadata": {
	    "collapsed": true
	   },
	   "outputs": [],
"source": [
"//Given that\n",
"conv1 = 170.474  //conversion from crans to liters\n",
"conv2 = 48.26  //from covido to cm\n",
"V1 = 1255  //in crans\n",
"\n",
"//Sample Problem 1-2\n",
"printf('**Sample Problem 1-2**\n')\n",
"VC = V1 * conv1 * 10^3 / (conv2^3)\n",
"printf('The required declaration is %e cubic covidos', VC)"
   ]
   }
,
{
		   "cell_type": "markdown",
		   "metadata": {},
		   "source": [
			"## Example 1.3: Sample_Problem_3.sce"
		   ]
		  },
  {
"cell_type": "code",
	   "execution_count": null,
	   "metadata": {
	    "collapsed": true
	   },
	   "outputs": [],
"source": [
"//Given that\n",
"//the crossection to be approximately squre\n",
"Radius = 2 //in meter\n",
"side = 4 * 10^-3  //converted from mm to meter\n",
"\n",
"//Sample Problem 1-3\n",
"printf('**Sample Problem 1-3**\n')\n",
"//making the volume equal\n",
"Length = 4/3 * %pi * Radius^3 / side^2\n",
"L_km = Length/10^3\n",
"order = round(log(L_km)/log(10)) //will give us order of magnitude\n",
"printf('The order of length of string is 10^%d km', order)"
   ]
   }
,
{
		   "cell_type": "markdown",
		   "metadata": {},
		   "source": [
			"## Example 1.4: Sample_Problem_4.sce"
		   ]
		  },
  {
"cell_type": "code",
	   "execution_count": null,
	   "metadata": {
	    "collapsed": true
	   },
	   "outputs": [],
"source": [
"//Given that\n",
"height = 1.70  //in meter\n",
"elapsed_time = 11.1  //in sec\n",
"\n",
"//Sample Problem 1-4\n",
"printf('**Sample Problem 1-4**\n')\n",
"//the angle between the two radius is\n",
"theta = elapsed_time / (24 * 3600) * %pi*2  //in radians\n",
"//we also have d^2 = 2 * r *h\n",
"//as d is very small hence can be considered as a arc\n",
"//d = r * theta\n",
"//=> r * theta^2 = 2 * h\n",
"radius = 2 * height /theta^2\n",
"printf('The radius of earth is %e m', radius)"
   ]
   }
],
"metadata": {
		  "kernelspec": {
		   "display_name": "Scilab",
		   "language": "scilab",
		   "name": "scilab"
		  },
		  "language_info": {
		   "file_extension": ".sce",
		   "help_links": [
			{
			 "text": "MetaKernel Magics",
			 "url": "https://github.com/calysto/metakernel/blob/master/metakernel/magics/README.md"
			}
		   ],
		   "mimetype": "text/x-octave",
		   "name": "scilab",
		   "version": "0.7.1"
		  }
		 },
		 "nbformat": 4,
		 "nbformat_minor": 0
}
