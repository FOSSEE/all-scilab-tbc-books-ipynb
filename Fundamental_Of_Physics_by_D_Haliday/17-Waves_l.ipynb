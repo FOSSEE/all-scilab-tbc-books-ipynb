{
"cells": [
 {
		   "cell_type": "markdown",
	   "metadata": {},
	   "source": [
       "# Chapter 17: Waves l"
	   ]
	},
{
		   "cell_type": "markdown",
		   "metadata": {},
		   "source": [
			"## Example 17.1: Sample_Problem_1.sce"
		   ]
		  },
  {
"cell_type": "code",
	   "execution_count": null,
	   "metadata": {
	    "collapsed": true
	   },
	   "outputs": [],
"source": [
"//Given that\n",
"funcprot(0)\n",
"deff('[y] = wave(t, x)', 'y = 0.00327*sin(72.1*x - 2.72*t)')\n",
"//Comparing the given equation with the standard wave equation\n",
"A = 0.00327  //in m\n",
"k = 72.1  //in rad/s\n",
"w = 2.72  //in rad/s\n",
"\n",
"//Sample Problem 17-1a\n",
"printf('**Sample Problem 17-1a**\n')\n",
"printf('The amplitude of the wave is %fm\n', A)\n",
"\n",
"//Sample Problem 17-1b\n",
"printf('\n**Sample Problem 17-1b**\n')\n",
"lambda = 2*%pi/k\n",
"printf('  wavelength = %fm\n', lambda)\n",
"T = 2*%pi/w\n",
"printf('  period     = %fs\n',T)\n",
"f = 1/T\n",
"printf('  frequency  = %fHz\n', f)\n",
"\n",
"//Sample Problem 17-1c\n",
"printf('\n**Sample Problem 17-1c**\n')\n",
"v = w/k\n",
"printf('The velocity of the wave is %fm/s\n', v)\n",
"\n",
"//Sample Problem 17-1d\n",
"printf('\n**Sample Problem 17-1d**\n')\n",
"y = wave(18.9, 22.5*10^-2)\n",
"printf('Displacement of the wave is %fm', y)"
   ]
   }
,
{
		   "cell_type": "markdown",
		   "metadata": {},
		   "source": [
			"## Example 17.2: Sample_Problem_2.sce"
		   ]
		  },
  {
"cell_type": "code",
	   "execution_count": null,
	   "metadata": {
	    "collapsed": true
	   },
	   "outputs": [],
"source": [
"exec('Example17_1.sce', -1)\n",
"clc\n",
"\n",
"//Sample Problem 17-2a\n",
"printf('\n\n**Sample Problem 17-2a**\n')\n",
"v = numdiff(list(wave, 22.5*10^-2), 18.9)\n",
"printf('The velocity of the particle is %fm/s\n', v)\n",
"\n",
"//Sample Problem 17-2b\n",
"printf('\n**Sample Problem 17-2b**\n')\n",
"dx = 0.001\n",
"a = (numdiff(list(wave, 22.5*10^-2), 18.9+dx) - numdiff(list(wave, 22.5*10^-2), 18.9))/dx\n",
"printf('The acceleration of the particle is %fm/s^2', a)"
   ]
   }
,
{
		   "cell_type": "markdown",
		   "metadata": {},
		   "source": [
			"## Example 17.3: Sample_Problem_3.sce"
		   ]
		  },
  {
"cell_type": "code",
	   "execution_count": null,
	   "metadata": {
	    "collapsed": true
	   },
	   "outputs": [],
"source": [
"//Given that\n",
"u1 = 1.4*10^-4  //in kg/m\n",
"u2 = 2.8*10^-4  //in kg/m\n",
"L1 = 3.0  //in m\n",
"L2 = 2.0  //in m\n",
"T = 400  //in N\n",
"\n",
"//Sample Problem 17-3\n",
"printf('**Sample Problem 17-3**\n')\n",
"v1 = sqrt(T/u1)\n",
"v2 = sqrt(T/u2)\n",
"t1 = L1/v1\n",
"t2 = L2/v2\n",
"if t1<t2 then\n",
"    printf('The pulse on string1 will reach the knot first')\n",
"else\n",
"    printf('The pulse on string2 will reach the knot first')\n",
"end"
   ]
   }
,
{
		   "cell_type": "markdown",
		   "metadata": {},
		   "source": [
			"## Example 17.4: Sample_Problem_4.sce"
		   ]
		  },
  {
"cell_type": "code",
	   "execution_count": null,
	   "metadata": {
	    "collapsed": true
	   },
	   "outputs": [],
"source": [
"//Given that\n",
"u = 525*10^-3  //in kg/m\n",
"T = 45  //in N\n",
"f = 120  //in Hz\n",
"Ym = 8.5*10^-3  //in meter\n",
"\n",
"//Sample Problem 17-4\n",
"printf('**Sample Problem 17-4**\n')\n",
"v = sqrt(T/u)\n",
"w = 2*%pi*f\n",
"Pavg = 0.5*u*v*w^2*Ym^2\n",
"printf('The average power transfered is equal to %fW', Pavg)"
   ]
   }
,
{
		   "cell_type": "markdown",
		   "metadata": {},
		   "source": [
			"## Example 17.5: Sample_Problem_5.sce"
		   ]
		  },
  {
"cell_type": "code",
	   "execution_count": null,
	   "metadata": {
	    "collapsed": true
	   },
	   "outputs": [],
"source": [
"exec('degree_rad.sci', -1)\n",
"\n",
"//Given that\n",
"Ym = 9.8*10^-3  //in meter\n",
"phi = dtor(100)  //in degrees\n",
"\n",
"//Sample Problem 17-5a\n",
"printf('**Sample Problem 17-5a**\n')\n",
"Yn = 2*Ym*cos(phi/2)\n",
"printf('The amplitude of resultant wave is %fmm\n', Yn*10^3)\n",
"\n",
"//Sample Problem 17-5b\n",
"printf('\n**Sample Problem 17-5b**\n')\n",
"Y = 4.9*10^-3  //in meter\n",
"phi = 2*acos(Y/(2*Ym))\n",
"printf('The phase difference required is %frad', phi)"
   ]
   }
,
{
		   "cell_type": "markdown",
		   "metadata": {},
		   "source": [
			"## Example 17.6: Sample_Problem_6.sce"
		   ]
		  },
  {
"cell_type": "code",
	   "execution_count": null,
	   "metadata": {
	    "collapsed": true
	   },
	   "outputs": [],
"source": [
"//Given that\n",
"Ym1 = 4.0*10^-3  //in meter\n",
"Ym2 = 3.0*10^-3  //in meter\n",
"phi1 = 0  //in rad\n",
"phi2 = %pi/3  //in rad\n",
"\n",
"//Sample Problem 17-6\n",
"printf('**Sample Problem 17-6**\n')\n",
"//For horizontal component\n",
"Ymh = Ym1*cos(phi1) + Ym2*cos(phi2)\n",
"//For vertical component\n",
"Ymv = Ym1*sin(phi1) + Ym2*sin(phi2)\n",
"Ym = sqrt(Ymv^2 + Ymh^2)\n",
"beta = atan(Ymv/Ymh)\n",
"printf('The amplitude of the resultant wave is equal to %fmm\n', Ym*10^3)\n",
"printf('The phase constant for the wave is %frad\n', beta)\n",
"printf('The equation of wave is %f*sin(k*x - w*t + %frad)',Ym, beta)"
   ]
   }
,
{
		   "cell_type": "markdown",
		   "metadata": {},
		   "source": [
			"## Example 17.7: Sample_Problem_7.sce"
		   ]
		  },
  {
"cell_type": "code",
	   "execution_count": null,
	   "metadata": {
	    "collapsed": true
	   },
	   "outputs": [],
"source": [
"//Given that\n",
"L = 1.2  //in meter\n",
"u = 1.6*10^-3  //in kg/m\n",
"f = 120  //in Hz\n",
"g = 9.8  //in m/s^2\n",
"\n",
"//Sample Problem 17-7a\n",
"printf('**Sample Problem 17-7a**\n')\n",
"n = 4\n",
"//T = m*g\n",
"//v = sqrt(m*g/u)\n",
"//f = n*v/(2*L)\n",
"m = (2*L*f)^2*u/(g*n^2)\n",
"printf('The value of m should be %fkg\n', m)\n",
"\n",
"//Sample Problem 17-7b\n",
"printf('\n**Sample Problem 17-7b**\n')\n",
"M = 1  //in kg\n",
"n = sqrt((2*L*f)^2*u/(g*M))\n",
"if abs(n - round(n)) < 0.01 then\n",
"    printf('The allowed wave mode is %d', n)\n",
"else\n",
"    printf('No wave mode will be allowed')\n",
"end"
   ]
   }
],
"metadata": {
		  "kernelspec": {
		   "display_name": "Scilab",
		   "language": "scilab",
		   "name": "scilab"
		  },
		  "language_info": {
		   "file_extension": ".sce",
		   "help_links": [
			{
			 "text": "MetaKernel Magics",
			 "url": "https://github.com/calysto/metakernel/blob/master/metakernel/magics/README.md"
			}
		   ],
		   "mimetype": "text/x-octave",
		   "name": "scilab",
		   "version": "0.7.1"
		  }
		 },
		 "nbformat": 4,
		 "nbformat_minor": 0
}
