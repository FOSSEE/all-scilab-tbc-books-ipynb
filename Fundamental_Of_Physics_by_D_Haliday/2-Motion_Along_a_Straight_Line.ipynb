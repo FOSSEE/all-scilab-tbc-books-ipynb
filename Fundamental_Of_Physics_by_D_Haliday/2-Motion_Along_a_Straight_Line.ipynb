{
"cells": [
 {
		   "cell_type": "markdown",
	   "metadata": {},
	   "source": [
       "# Chapter 2: Motion Along a Straight Line"
	   ]
	},
{
		   "cell_type": "markdown",
		   "metadata": {},
		   "source": [
			"## Example 2.1_a: Sample_Problem_1a.sce"
		   ]
		  },
  {
"cell_type": "code",
	   "execution_count": null,
	   "metadata": {
	    "collapsed": true
	   },
	   "outputs": [],
"source": [
"//Given that\n",
"velocity = 70  //in km/h\n",
"distance_covered = 8.4   //in km\n",
"next_time = 30  //in min\n",
"next_walk = 2  //in km\n",
"\n",
"//Sample Problem 2-1a\n",
"printf('**Sample Problem 2-1a**\n')\n",
"overall_displacement = distance_covered + next_walk\n",
"printf('Overall displacement from begining of the drive to the station is %f km', overall_displacement)"
   ]
   }
,
{
		   "cell_type": "markdown",
		   "metadata": {},
		   "source": [
			"## Example 2.1_b: Sample_Problem_1b.sce"
		   ]
		  },
  {
"cell_type": "code",
	   "execution_count": null,
	   "metadata": {
	    "collapsed": true
	   },
	   "outputs": [],
"source": [
"exec('Example2_1a.sce', -1)\n",
"clc\n",
"\n",
"//Sample Problem 2-1b\n",
"printf('\n**Sample Problem 2-1b**\n')\n",
"time = distance_covered / velocity  //in hr\n",
"delta_t = time  + next_time /60  //in hr\n",
"printf('Time interval from the begining of the drive to the arrival at the station is %f hr', delta_t)"
   ]
   }
,
{
		   "cell_type": "markdown",
		   "metadata": {},
		   "source": [
			"## Example 2.1_c: Sample_Problem_1c.sce"
		   ]
		  },
  {
"cell_type": "code",
	   "execution_count": null,
	   "metadata": {
	    "collapsed": true
	   },
	   "outputs": [],
"source": [
"exec('Example2_1a.sce', -1)\n",
"clc\n",
"\n",
"//Sample Problem 2-1c\n",
"printf('\n**Sample Problem 2-1c**\n')\n",
"average_velocity = overall_displacement/delta_t\n",
"printf('The average velocity over the whole journey is %f km/h\n', average_velocity)\n",
"\n",
"//from position v/s time graph\n",
"xset('window',1)\n",
"xtitle ('position v/s time','time(hr)','position(Km)');\n",
"//drawing reference lines\n",
"plot(linspace(delta_t,delta_t,10),linspace(0,overall_displacement,10),'--.x')\n",
"plot(linspace(0,delta_t,10),linspace(overall_displacement,overall_displacement,10),'--.o')\n",
"plot(linspace(time,time,10),linspace(0,distance_covered,10),'--')\n",
"plot(linspace(0,time,10),linspace(distance_covered,distance_covered,10),'--')\n",
"//position v/s time graph\n",
"x = linspace(0,time,10);\n",
"y = linspace(0,distance_covered,10);\n",
"plot(x,y,'r');\n",
"//average graph\n",
"x = linspace(time,delta_t,10);\n",
"y = linspace(distance_covered,overall_displacement,10);\n",
"plot(x,y,'r');\n",
"//slope of this line will give us the average velocity\n",
"x = linspace(0,delta_t,10);\n",
"y = linspace(0,overall_displacement,10);\n",
"plot(x,y,'m');\n",
"legend('$\delta x=10.4 km$','time interval=.62hr')\n",
"printf('The average velocity from the graph is %f km/h', 10.4/delta_t)"
   ]
   }
,
{
		   "cell_type": "markdown",
		   "metadata": {},
		   "source": [
			"## Example 2.1_d: Sample_Problem_1d.sce"
		   ]
		  },
  {
"cell_type": "code",
	   "execution_count": null,
	   "metadata": {
	    "collapsed": true
	   },
	   "outputs": [],
"source": [
"//Given that\n",
"exec('Example2_1a.sce', -1)\n",
"exec('Example2_1a.sce', -1)\n",
"clc\n",
"\n",
"//Sample Problem 2-1d\n",
"printf('\n**Sample Probelm 2-1d**\n')\n",
"time_station = 45  //in min\n",
"//he trevels 2 km back to the truck\n",
"final_displacement = overall_displacement + 2  //in km\n",
"final_average_velocity = final_displacement /(delta_t + time_station /60)\n",
"printf('Average velocity from the begining of the drive till reaching back to the truck is %f km/h', final_average_velocity)"
   ]
   }
,
{
		   "cell_type": "markdown",
		   "metadata": {},
		   "source": [
			"## Example 2.2: Sample_Problem_2.sce"
		   ]
		  },
  {
"cell_type": "code",
	   "execution_count": null,
	   "metadata": {
	    "collapsed": true
	   },
	   "outputs": [],
"source": [
"//Sample Problem 2-2\n",
"printf('**Sample Problem 2-2**\n')\n",
"//we know that v=dx/dt\n",
"xset('window',2)\n",
"//velocity v/s time graph\n",
"subplot(2,1,1);\n",
"xtitle ('VELOCITY v/s TIME','time (sec)','velocity (m/s)');\n",
"plot2d(linspace(0,0,10),linspace(0,0,10),style=3,rect=[0,0,10,5]);\n",
"//drawing the graph\n",
"plot(linspace(0,1,10),linspace(0,0,10),'m');\n",
"plot(linspace(1,3,10),linspace(0,4,10),'m');\n",
"plot(linspace(3,8,10),linspace(4,4,10),'m');\n",
"plot(linspace(8,9,10),linspace(4,0,10),'m');\n",
"plot(linspace(9,10,10),linspace(0,0,10),'m');\n",
"//dotted lines\n",
"plot(linspace(0,3,5),linspace(4,4,5),'--');\n",
"plot(linspace(3,3,5),linspace(0,4,5),'--');\n",
"plot(linspace(8,8,5),linspace(0,4,5),'--');\n",
"\n",
"//acceleration v/s time graph\n",
"subplot(2,1,2);\n",
"xtitle('ACCELERATION v/s TIME','time (sec)', 'acceleration s(m/s^2)')\n",
"plot2d(linspace(0,0,10),linspace(0,0,10),style=0,rect=[0,-5,10,5]);\n",
"//drawing the graph\n",
"plot(linspace(0,1,5),linspace(0,0,5),'m');\n",
"plot(linspace(1,1,5),linspace(0,2,5),'m');\n",
"plot(linspace(1,3,5),linspace(2,2,5),'m');\n",
"plot(linspace(3,3,5),linspace(2,0,5),'m');\n",
"plot(linspace(3,8,5),linspace(0,0,5),'m');\n",
"plot(linspace(8,8,5),linspace(0,-4,5),'m');\n",
"plot(linspace(8,9,5),linspace(-4,-4,5),'m');\n",
"plot(linspace(9,9,5),linspace(-4,0,5),'m');\n",
"plot(linspace(9,10,5),linspace(0,0,5),'m');\n",
"//dotted lines\n",
"plot(linspace(1,1,5),linspace(-5,0,5),'--');\n",
"plot(linspace(3,3,5),linspace(-5,0,5),'--');\n",
"plot(linspace(8,8,5),linspace(-5,-4,5),'-.');\n",
"plot(linspace(9,9,5),linspace(-5,-4,5),'-.');\n",
"plot(linspace(0,1,5),linspace(2,2,5),'--');\n",
"plot(linspace(0,8,5),linspace(-4,-4,5),'--');\n",
"plot(linspace(1,3,5),linspace(0,0,5),'--');\n",
"plot(linspace(8,9,5),linspace(0,0,5),'--');"
   ]
   }
,
{
		   "cell_type": "markdown",
		   "metadata": {},
		   "source": [
			"## Example 2.3: Sample_Problem_3.sce"
		   ]
		  },
  {
"cell_type": "code",
	   "execution_count": null,
	   "metadata": {
	    "collapsed": true
	   },
	   "outputs": [],
"source": [
"//Given that\n",
"t = poly(0,'t');\n",
"x = 7.8 + 9.2 * t - 2.1 * t^3;\n",
"\n",
"//Sample Problem 2-3\n",
"printf('**Sample Problem 2-3**\n')\n",
"v = derivat(x)\n",
"velocity = horner(v,3.5)\n",
"printf('Velocity at t=3.5 second is equal to %f m/s', velocity)"
   ]
   }
,
{
		   "cell_type": "markdown",
		   "metadata": {},
		   "source": [
			"## Example 2.4: Sample_Problem_4.sce"
		   ]
		  },
  {
"cell_type": "code",
	   "execution_count": null,
	   "metadata": {
	    "collapsed": true
	   },
	   "outputs": [],
"source": [
"//Given that\n",
"t = poly(0,'t')\n",
"x = t^3  - 27 * t + 4\n",
"\n",
"//Sample Problem 2-4a\n",
"printf('**Sample Problem 2-4a**\n')\n",
"velocity = derivat(x)\n",
"acceleration = derivat(velocity)\n",
"printf('The velocity as a function of time in m/s is')\n",
"disp(velocity)\n",
"printf('The acceleration as a function of time in m/s^2 is')\n",
"disp(acceleration)\n",
"\n",
"//Sample Problem 2-4b\n",
"printf('\n**Sample Problem 2-4b**\n')\n",
"v0 = roots(velocity)\n",
"printf('velocity of the particle is zero at times in sec')\n",
"disp(v0)"
   ]
   }
,
{
		   "cell_type": "markdown",
		   "metadata": {},
		   "source": [
			"## Example 2.5: Sample_Problem_5.sce"
		   ]
		  },
  {
"cell_type": "code",
	   "execution_count": null,
	   "metadata": {
	    "collapsed": true
	   },
	   "outputs": [],
"source": [
"//Given that\n",
"conv = 5/18  //converts velocity from km/h to in m/s\n",
"speed_initial = 100 * conv  //in km/h\n",
"speed_final = 80 * conv   //in km/h\n",
"displacement = 88  //in meter\n",
"\n",
"//Sample Problem 2-5a\n",
"printf('**Sample Problem 2-5a\n')\n",
"//using newton's 3rd equation of motion\n",
"acceleration = (speed_final^2 - speed_initial^2)/(2 * displacement)\n",
"printf('The acceleration is equal to %f m/sec^2\n', acceleration)\n",
"\n",
"//Sample Problem2-5b\n",
"printf('\n**Sample Problem 2-5a**\n')\n",
"//using newton's first equation of motion\n",
"time = (speed_final - speed_initial)/acceleration\n",
"printf('The time taken to decrease the speed is %f sec', time)"
   ]
   }
,
{
		   "cell_type": "markdown",
		   "metadata": {},
		   "source": [
			"## Example 2.6: Sample_Problem_6.sce"
		   ]
		  },
  {
"cell_type": "code",
	   "execution_count": null,
	   "metadata": {
	    "collapsed": true
	   },
	   "outputs": [],
"source": [
"//Given that\n",
"g = -9.8   //in m/sec^2\n",
"displacement = -48  //in meter\n",
"\n",
"//Sample Problem 2-6a\n",
"printf('**Sample Problem 2-6a**\n')\n",
"//using newton's  equation of motion\n",
"//displacement = 0 * t + .5 * g * t * t\n",
"//displacement = .5 * g * t * t\n",
"time = sqrt(displacement/(.5 * g))\n",
"printf('The time taken to reach at the ground is %f sec\n', time)\n",
"\n",
"//Sample Problem 2-6b\n",
"printf('\n**Sample Problem 2-6b**\n')\n",
"t = poly(0,'t');\n",
"dis_t = 0 * t + .5 * g *t * t\n",
"ds = horner(dis_t,[1,2,3])\n",
"printf('The displacements at times 1,2,3 sec in meter is')\n",
"disp(ds)\n",
"\n",
"//Sample Problem 2-6c\n",
"printf('\n**Sample Problem 2-6c**\n')\n",
"//using newton's first equation of motion v = u + a*t\n",
"velocity = 0 + g * time\n",
"printf('The velocity at water surface is equal to %f km/h\n', velocity)\n",
"\n",
"//Sample Problem 2-6d\n",
"printf('\n**Sample Problem 2-6d**\n')\n",
"//using newton's first equation of motion\n",
"v_at_time_t = 0 + g * t\n",
"velocities = horner(v_at_time_t,[1,2,3])\n",
"printf('The velocitis at times 1,2,3 sec in m/s is')\n",
"disp(velocities)"
   ]
   }
,
{
		   "cell_type": "markdown",
		   "metadata": {},
		   "source": [
			"## Example 2.7: Sample_Problem_7.sce"
		   ]
		  },
  {
"cell_type": "code",
	   "execution_count": null,
	   "metadata": {
	    "collapsed": true
	   },
	   "outputs": [],
"source": [
"//Given that\n",
"g = -9.8   //in m/sec^2\n",
"v_initial = 12  //in m/s\n",
"v_final = 0  //at maximum height velocity equal to zero\n",
"\n",
"//Sample Problem 2-7a\n",
"printf('**Sample Problem 2-7a**\n')\n",
"//using newton'd first equation of motion\n",
"// v_final = v_initial + g * t\n",
"h_max_time = (v_final - v_initial)/g\n",
"printf('After %f sec, the ball will attain its maximum height\n', h_max_time)\n",
"\n",
"//Sample Problem 2-7b\n",
"printf('\n**Sample Problem 2-7b**\n')\n",
"//using newton's second equation of motion\n",
"h_max = (v_final^2 - v_initial^2)/(2 * g)\n",
"printf('The maximum height reached by the baseball is %f m\n', h_max)\n",
"\n",
"//Sample Problem 2-7c\n",
"printf('\n**Sample Problem 2-7c**\n')\n",
"displacement = 5\n",
"t = poly(0,'t')\n",
"quad_t = v_initial * t + .5 * g * t * t - displacement\n",
"t_5 = roots(quad_t)\n",
"printf('At following times in sec, the ball will be at height 5m')\n",
"disp(t_5)"
   ]
   }
],
"metadata": {
		  "kernelspec": {
		   "display_name": "Scilab",
		   "language": "scilab",
		   "name": "scilab"
		  },
		  "language_info": {
		   "file_extension": ".sce",
		   "help_links": [
			{
			 "text": "MetaKernel Magics",
			 "url": "https://github.com/calysto/metakernel/blob/master/metakernel/magics/README.md"
			}
		   ],
		   "mimetype": "text/x-octave",
		   "name": "scilab",
		   "version": "0.7.1"
		  }
		 },
		 "nbformat": 4,
		 "nbformat_minor": 0
}
