{
"cells": [
 {
		   "cell_type": "markdown",
	   "metadata": {},
	   "source": [
       "# Chapter 8: Potential and Conservation of Energy"
	   ]
	},
{
		   "cell_type": "markdown",
		   "metadata": {},
		   "source": [
			"## Example 8.1: Sample_Problem_1.sce"
		   ]
		  },
  {
"cell_type": "code",
	   "execution_count": null,
	   "metadata": {
	    "collapsed": true
	   },
	   "outputs": [],
"source": [
"//Given that\n",
"h = 0.8  //in meter\n",
"l = 2.0  //in meter\n",
"m = 2  //in kg\n",
"g = 9.8  //in m/s^2\n",
"\n",
"//Sample Problem 8-1\n",
"printf('**Sample Problem 8-1**\n')\n",
"//Using the definition of \n",
"Wg = m* g* h\n",
"printf('The work done by the gravity is %eJ', Wg)"
   ]
   }
,
{
		   "cell_type": "markdown",
		   "metadata": {},
		   "source": [
			"## Example 8.2: Sample_Problem_2.sce"
		   ]
		  },
  {
"cell_type": "code",
	   "execution_count": null,
	   "metadata": {
	    "collapsed": true
	   },
	   "outputs": [],
"source": [
"//Given that\n",
"mass = 2  //in kg\n",
"y1 = 5  //in meter\n",
"g = 9.8  //in m/s^2\n",
"ref = [0, 3, 5, 6]\n",
"\n",
"//Sample Problem 8-2a\n",
"printf('**Sample Problem 8-2a**\n')\n",
"for x = ref\n",
"    U = mass* g* (y1 - x)\n",
"    printf('The potential energy at y1 is %dJ if reference is assumed to be at y=%d\n', U, x)\n",
"end\n",
"\n",
"//sample Probelm 8-2b\n",
"printf('\n**Sample Problem 8-2b**\n')\n",
"y2 = 0\n",
"//The change in potential energy doesn't depend on choice of reference\n",
"deltaY = y2 - y1\n",
"//because the deltaY doesn't depend upon the choice of references\n",
"deltaU = mass* g* deltaY\n",
"printf('The change in potential energy is %dJ same for all the references', deltaU)"
   ]
   }
,
{
		   "cell_type": "markdown",
		   "metadata": {},
		   "source": [
			"## Example 8.3: Sample_Problem_3.sce"
		   ]
		  },
  {
"cell_type": "code",
	   "execution_count": null,
	   "metadata": {
	    "collapsed": true
	   },
	   "outputs": [],
"source": [
"//Given that\n",
"h = 8.5  //in meter\\n",
"g = 9.8  //in m/s^2\n",
"\n",
"//Sample Problem 8-3\n",
"printf('**Sample Problem 8-3**\n')\n",
"//Using conservation of energy\n",
"//Change in Potential energy = Change in Kinetic energy\n",
"//m* g* h = .5* m* v^2\n",
"v = sqrt(2* g * h)\n",
"printf('The velocity of child at the bottom will be %fm/s', v)"
   ]
   }
,
{
		   "cell_type": "markdown",
		   "metadata": {},
		   "source": [
			"## Example 8.4: Sample_Problem_4.sce"
		   ]
		  },
  {
"cell_type": "code",
	   "execution_count": null,
	   "metadata": {
	    "collapsed": true
	   },
	   "outputs": [],
"source": [
"//Given that\n",
"m = 61  //in kg\n",
"Hi = 45  //in meter\n",
"L = 25  //in meter\n",
"k = 160  //in N/m\n",
"g = 9.8  //in m/s^2\n",
"\n",
"//Sample Problem 8-4\n",
"printf('**Sample Problem 8-4**\n')\n",
"//Assume that the jumper goes x meter down the bridge\n",
"//Using energy conservation energy\n",
"s=poly(0,'s')\n",
"p = .5*k*(s-25)^2 - m*g*s  //equal to 0\n",
"x = roots(p)\n",
"printf('The height fell down is %fm', x(2))"
   ]
   }
,
{
		   "cell_type": "markdown",
		   "metadata": {},
		   "source": [
			"## Example 8.5: Sample_Problem_5.sce"
		   ]
		  },
  {
"cell_type": "code",
	   "execution_count": null,
	   "metadata": {
	    "collapsed": true
	   },
	   "outputs": [],
"source": [
"//Given that\n",
"n = 25\n",
"Ms = 9000  //in kg\n",
"Mm = 80  //in kg\n",
"d = [45, 10000]  //in meter\n",
"t = 2  //in minute\n",
"g = 9.8  //in m/s^2\n",
"\n",
"//Sample Problem 8-5\n",
"count = 0\n",
"for x = d\n",
"    //Sample Problem 8-5a\n",
"    if count == 0 then\n",
"        printf('**Sample Problem 8-5a**\n')\n",
"        count = count + 1\n",
"    end\n",
"    //We can assume that the force applied by each of man is equal to twice his weight\n",
"    Wnet = n * (2* Mm * g) * x\n",
"    printf('The total work done is equal to %eJ\n', Wnet)\n",
"    \n",
"    //Sample Problem 8-5b\n",
"    if count == 1 then\n",
"        printf('\n**Sample Problem 8-5b**\n')\n",
"        count = count + 1 \n",
"    end\n",
"    //All the work done must be converted into thermal energy\n",
"    TE = Wnet\n",
"    printf('The total thermal energy generated is equal to %eJ\n', TE)\n",
"    \n",
"    //Sample Problem 8-5c\n",
"    if count == 2 then\n",
"        printf('\n**Sample Problem 8-5c**\n')\n",
"        count = count + 1 \n",
"    end\n",
"end"
   ]
   }
,
{
		   "cell_type": "markdown",
		   "metadata": {},
		   "source": [
			"## Example 8.6: Sample_Problem_6.sce"
		   ]
		  },
  {
"cell_type": "code",
	   "execution_count": null,
	   "metadata": {
	    "collapsed": true
	   },
	   "outputs": [],
"source": [
"//Given that\n",
"m = 14  //in kg\n",
"F = 40  //in N\n",
"d = 0.50  //in meter\n",
"Vo = 0.60  //in m/s\n",
"V = 0.20  //in m/s\n",
"\n",
"//Sample Problem 8-6a\n",
"printf('**Sample Problem 8-6a**\n')\n",
"//Using the definition of Work done\n",
"Wf = F* d\n",
"printf('The work done by the force F is equal to %dJ\n', Wf)\n",
"\n",
"//Sample Problem 8-6b\n",
"printf('\n**Sample Problem 8-6b**\n')\n",
"//Using Work-Energy theorem\n",
"//TE = decrease in Kinetic Energy + Work done by the force F\n",
"TE = .5*m*(Vo^2 - V^2) + Wf\n",
"printf('The incrase in the thermal energy is equal to %fJ', TE)"
   ]
   }
,
{
		   "cell_type": "markdown",
		   "metadata": {},
		   "source": [
			"## Example 8.7: Sample_Problem_7.sce"
		   ]
		  },
  {
"cell_type": "code",
	   "execution_count": null,
	   "metadata": {
	    "collapsed": true
	   },
	   "outputs": [],
"source": [
"//Given that\n",
"mass = 2.0  //in kg\n",
"v1 = 4.0  //in m/s^2\n",
"Ff = 15  //in N\n",
"k = 10^4  //in N/m\n",
"\n",
"//Sample Problem 8-7\n",
"printf('**Sample Problem 8-7**\n')\n",
"//Using energy conservation\n",
"//Ki = Uf + TEf\n",
"Ki = .5* mass* v1^2\n",
"//Uf = .5*k*x^2\n",
"//TEf = Ff* x\n",
"s=poly(0,'s')\n",
"p = .5*k*s^2 + Ff* s - Ki\n",
"x = roots(p)\n",
"printf('The compression in the spring is equal to %fcm', x(1)*100)"
   ]
   }
,
{
		   "cell_type": "markdown",
		   "metadata": {},
		   "source": [
			"## Example 8.8: Sample_Problem_8.sce"
		   ]
		  },
  {
"cell_type": "code",
	   "execution_count": null,
	   "metadata": {
	    "collapsed": true
	   },
	   "outputs": [],
"source": [
"//Given that\n",
"m = 6.0  //in kg\n",
"Vo = 7.8  //in m/s\n",
"Yo = 8.5  //in meter\n",
"Y = 11.1  //in meter\n",
"g = 9.8  //in m/s^2\n",
"\n",
"//Sample Problem 8-8\n",
"printf('**Sample Problem 8-8**\n')\n",
"//initial mechanical energy\n",
"Mi = .5* m* Vo^2 + m* g* Yo\n",
"//final mechanical energy\n",
"Mf = 0 + m* g* Y\n",
"Eth = Mi - Mf\n",
"printf('The thermal energy generated is equal to %fJ', Eth)"
   ]
   }
],
"metadata": {
		  "kernelspec": {
		   "display_name": "Scilab",
		   "language": "scilab",
		   "name": "scilab"
		  },
		  "language_info": {
		   "file_extension": ".sce",
		   "help_links": [
			{
			 "text": "MetaKernel Magics",
			 "url": "https://github.com/calysto/metakernel/blob/master/metakernel/magics/README.md"
			}
		   ],
		   "mimetype": "text/x-octave",
		   "name": "scilab",
		   "version": "0.7.1"
		  }
		 },
		 "nbformat": 4,
		 "nbformat_minor": 0
}
