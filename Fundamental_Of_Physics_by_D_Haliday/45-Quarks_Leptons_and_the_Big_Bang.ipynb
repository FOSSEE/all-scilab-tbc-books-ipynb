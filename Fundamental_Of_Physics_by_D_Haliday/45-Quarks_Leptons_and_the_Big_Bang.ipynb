{
"cells": [
 {
		   "cell_type": "markdown",
	   "metadata": {},
	   "source": [
       "# Chapter 45: Quarks Leptons and the Big Bang"
	   ]
	},
{
		   "cell_type": "markdown",
		   "metadata": {},
		   "source": [
			"## Example 45.1: Sample_Problem_1.sce"
		   ]
		  },
  {
"cell_type": "code",
	   "execution_count": null,
	   "metadata": {
	    "collapsed": true
	   },
	   "outputs": [],
"source": [
"//Given that\n",
"Rpi = 139.6  //in Mev\n",
"Rmu = 105.7  //in Mev\n",
"c = 3*10^8  //in m/s\n",
"\n",
"//Sample Problem 45-1\n",
"pt = mopen('Example45_1_result.txt', 'wt')\n",
"mfprintf(pt, '**Sample Problem 45-1**\n')\n",
"Kmu = poly(0, 'Kmu')\n",
"//CONSERVATION OF ENERGY\n",
"//Rpi + Kpi = Rmu + Kmu + Rv + Kv\n",
"//putting Rv(as mass is 0) & Kpi equal to 0\n",
"//Rpi = Rmu + Kmu + Kv\n",
"SUM = Rpi - Rmu  //sum of Kmu & Kv\n",
"Kv = SUM - Kmu\n",
"//for neutrino\n",
"Pv = Kv/c\n",
"//CONSERVATION OF LINEAR MOMENTUM\n",
"//Ppi = Pmu + Pv\n",
"//putting Ppi equal to 0\n",
"Pmu = - Pv\n",
"//for pion\n",
"P = Kmu + 2*Kmu*Rmu - (Pmu*c)^2\n",
"Kmu = roots(P)\n",
"Kmu = Kmu(2)\n",
"mfprintf(pt, 'The kinetic energy of the antimuon is %fMev\n', Kmu)\n",
"mfprintf(pt, 'The kinetic energy of the neutrino is %fMev\n', SUM - Kmu)\n",
"mclose(pt)"
   ]
   }
,
{
		   "cell_type": "markdown",
		   "metadata": {},
		   "source": [
			"## Example 45.2: Sample_Problem_3.sce"
		   ]
		  },
  {
"cell_type": "code",
	   "execution_count": null,
	   "metadata": {
	    "collapsed": true
	   },
	   "outputs": [],
"source": [
"//Given that\n",
"Epi = 139.6  //in Mev\n",
"Ek = 493.7  //in Mev\n",
"Ep = 983.3  //in Mev\n",
"Es = 1189.4  //in Mev\n",
"\n",
"//Sample Problem 45-2\n",
"pt = mopen('Example45_2_result.txt', 'wt')\n",
"mfprintf(pt, '**Sample Problem 45-2**\n')\n",
"Q = Epi + Ep - Ek - Es\n",
"mfprintf(pt, 'The energy of the reaction is %dMev', Q)\n",
"mclose(pt)"
   ]
   }
,
{
		   "cell_type": "markdown",
		   "metadata": {},
		   "source": [
			"## Example 45.3: Sample_Problem_3.sce"
		   ]
		  },
  {
"cell_type": "code",
	   "execution_count": null,
	   "metadata": {
	    "collapsed": true
	   },
	   "outputs": [],
"source": [
"//Given that\n",
"Ep = 938.3  //in Mev\n",
"Epi = 135.0  //in Mev\n",
"Epip = 139.6  //in Mev\n",
"\n",
"//Sample Problem 45-3\n",
"pt = mopen('Example45_3_result.txt', 'wt')\n",
"mfprintf(pt, '**Sample Problem 45-3**\n')\n",
"Q = Ep - Epi - Epip\n",
"if (Q > 0) then\n",
"    mfprintf(pt, 'The proton can decay according to given scheme')\n",
"else\n",
"    mfprintf(pt, 'The proton cannot decay according to the given scheme')\n",
"end\n",
"mclose(pt)"
   ]
   }
,
{
		   "cell_type": "markdown",
		   "metadata": {},
		   "source": [
			"## Example 45.6: Sample_Problem_6.sce"
		   ]
		  },
  {
"cell_type": "code",
	   "execution_count": null,
	   "metadata": {
	    "collapsed": true
	   },
	   "outputs": [],
"source": [
"//Given that\n",
"v = 2.8*10^8  //in m/s\n",
"H = 19.3*10^-3  //in m/s.ly\n",
"\n",
"//Sample Problem 45-6\n",
"pt = mopen('Example45_6_result.txt', 'wt')\n",
"mfprintf(pt, '**Sample Problem 45-6**\n')\n",
"r = v/H\n",
"mfprintf(pt, 'The quasar is approx at a distance of %ely', r)\n",
"mclose(pt)"
   ]
   }
,
{
		   "cell_type": "markdown",
		   "metadata": {},
		   "source": [
			"## Example 45.7: Sample_Problem_7.sce"
		   ]
		  },
  {
"cell_type": "code",
	   "execution_count": null,
	   "metadata": {
	    "collapsed": true
	   },
	   "outputs": [],
"source": [
"//Given that\n",
"w = 1  //(say)\n",
"W = 1.1*w\n",
"c = 3*10^8  //in m/s\n",
"H = 19.3*10^-3  //in m/s.ly\n",
"\n",
"//Sample Problem 45-7\n",
"pt = mopen('Example45_7_result.txt', 'wt')\n",
"mfprintf(pt, '**Sample Problem 45-7**\n')\n",
"deltaW = W - w\n",
"r = c/H * deltaW/w\n",
"mfprintf(pt, 'The galaxy is at a distance of %ely', r)\n",
"mclose(pt)"
   ]
   }
],
"metadata": {
		  "kernelspec": {
		   "display_name": "Scilab",
		   "language": "scilab",
		   "name": "scilab"
		  },
		  "language_info": {
		   "file_extension": ".sce",
		   "help_links": [
			{
			 "text": "MetaKernel Magics",
			 "url": "https://github.com/calysto/metakernel/blob/master/metakernel/magics/README.md"
			}
		   ],
		   "mimetype": "text/x-octave",
		   "name": "scilab",
		   "version": "0.7.1"
		  }
		 },
		 "nbformat": 4,
		 "nbformat_minor": 0
}
