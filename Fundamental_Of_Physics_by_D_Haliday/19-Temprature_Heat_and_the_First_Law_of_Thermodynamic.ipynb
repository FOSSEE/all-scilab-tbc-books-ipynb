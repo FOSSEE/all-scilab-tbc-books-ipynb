{
"cells": [
 {
		   "cell_type": "markdown",
	   "metadata": {},
	   "source": [
       "# Chapter 19: Temprature Heat and the First Law of Thermodynamic"
	   ]
	},
{
		   "cell_type": "markdown",
		   "metadata": {},
		   "source": [
			"## Example 19.1: Sample_Problem_1.sce"
		   ]
		  },
  {
"cell_type": "code",
	   "execution_count": null,
	   "metadata": {
	    "collapsed": true
	   },
	   "outputs": [],
"source": [
"//Given that\n",
"Bz = 65  //in degree Z\n",
"Fz = -14  //in degree Z\n",
"Tz = -98  //in degree Z\n",
"Bf = 212  //in degree F\n",
"Ff = 32  //in degree F\n",
"\n",
"//Sample Problem 19-1\n",
"printf('**Sample Problem 19-1**\n')\n",
"Tf = (Tz - Fz)/(Bz - Fz) * (Bf - Ff) + Ff\n",
"printf('-98 degree Z is equal to %f degree Forenheit', Tf)"
   ]
   }
,
{
		   "cell_type": "markdown",
		   "metadata": {},
		   "source": [
			"## Example 19.2: Sample_Problem_2.sce"
		   ]
		  },
  {
"cell_type": "code",
	   "execution_count": null,
	   "metadata": {
	    "collapsed": true
	   },
	   "outputs": [],
"source": [
"//Given that\n",
"V = 37*10^3  //in Litre\n",
"b = 9.50*10^-4  //in /degree C\n",
"deltaT = -23  //in degree C\n",
"\n",
"//Sample Problem 19-2\n",
"printf('**Sample Problem 19-2**\n')\n",
"deltaV = V* b* deltaT\n",
"Vd = V + deltaV\n",
"printf('The amount of oil delievered is %dL', Vd)"
   ]
   }
,
{
		   "cell_type": "markdown",
		   "metadata": {},
		   "source": [
			"## Example 19.3: Sample_Problem_3.sce"
		   ]
		  },
  {
"cell_type": "code",
	   "execution_count": null,
	   "metadata": {
	    "collapsed": true
	   },
	   "outputs": [],
"source": [
"//Given that\n",
"m = 720*10^-3  //in kg\n",
"Ti = -10  //in degree C\n",
"Tw = 15  //in degree C\n",
"Si = 2220  //in J/kg.K\n",
"L = 333*10^3  //in J/Kg\n",
"Sw = 4190  //in J/kg.K\n",
"//Sample Problem 19-3a\n",
"printf('**Sample Problem 19-3a**\n');\n",
"//When ice comes to temprature 0 degree celcius\n",
"deltaTi = 0 - Ti\n",
"Q1 = m*Si*deltaTi\n",
"//When ice melts to water\n",
"Q2 = m*L\n",
"//when water comes to temprature 15 degree celcius\n",
"deltaTw = Tw - 0\n",
"Q3 = m*Sw*deltaTw\n",
"Q = Q1 + Q2 + Q3\n",
"printf('The heat absorbed by the ice is %fKJ\n', Q*10^-3)\n",
"//Sample Problem 19-3b\n",
"printf('\n**Sample Problem 19-3b**\n')\n",
"Qg = 210*10^3 //in J\n",
"//Energy left after the ice comes to 0 degree C\n",
"Qleft = Qg - Q1\n",
"//the mass of ice left aftr all the heat is consumed\n",
"Mleft = Qleft/L\n",
"printf('The mass of ice left is equal to %fg', Mleft*10^3)"
   ]
   }
,
{
		   "cell_type": "markdown",
		   "metadata": {},
		   "source": [
			"## Example 19.4: Sample_Problem_4.sce"
		   ]
		  },
  {
"cell_type": "code",
	   "execution_count": null,
	   "metadata": {
	    "collapsed": true
	   },
	   "outputs": [],
"source": [
"//Given that\n",
"Mc = 75 //in g\n",
"To = 312  //in degree C\n",
"Mw = 220  //in g\n",
"Cb = 45  //in cal/K\n",
"Ti = 12  //in degree C\n",
"Sc = 0.0923  //in cal/g.K\n",
"Cb = 45  //in cal/K\n",
"Sw = 1  //in cal/g.K\n",
"//Sample Problem 19-4\n",
"printf('**Sample Problem 19-4**\n')\n",
"Tf = (Sc*Mc*To + Cb*Ti + Sw*Mw*Ti)/(Sw*Mw + Cb + Sc*Mc)\n",
"printf('The final temprature of the system is %f degree C', Tf)"
   ]
   }
,
{
		   "cell_type": "markdown",
		   "metadata": {},
		   "source": [
			"## Example 19.5: Sample_Problem_5.sce"
		   ]
		  },
  {
"cell_type": "code",
	   "execution_count": null,
	   "metadata": {
	    "collapsed": true
	   },
	   "outputs": [],
"source": [
"//Given that\n",
"M = 1.00  //in kg\n",
"T = 100  //in degree C\n",
"P = 1.01*10^5  //in Pascal\n",
"Vi = 1.00*10^-3  //in m^3\n",
"Vf = 1.671  //in m^3\n",
"Lv = 2256*10^3  //in J/kg\n",
"//Sample Problem 19-5a\n",
"printf('**Sample Problem 19-5a**\n')\n",
"W = P*(Vf - Vi)\n",
"printf('The work done by the system during the process is %fkJ\n', W*10^-3)\n",
"//Sample Problem 19-5b\n",
"printf('\n**Sample Problem 19-5b**\n')\n",
"Q = Lv*M\n",
"printf('The heat supplied to the system is equal to %eJ\n', Q)\n",
"//Sample Problem 19-5c\n",
"printf('\n**Sample Problem 19-5c**\n')\n",
"deltaE = Q - W\n",
"printf('The change in internal energy is equal to %eJ', deltaE)"
   ]
   }
,
{
		   "cell_type": "markdown",
		   "metadata": {},
		   "source": [
			"## Example 19.6: Sample_Problem_6.sce"
		   ]
		  },
  {
"cell_type": "code",
	   "execution_count": null,
	   "metadata": {
	    "collapsed": true
	   },
	   "outputs": [],
"source": [
"//Given that\n",
"La = 1  //(say)\n",
"Ld = 2.0*La\n",
"ka = 1  //(say)\n",
"kd = 5.0*ka\n",
"T1 = 25  //in degree C\n",
"T2 = 20  //in degree C\n",
"T5 = -10 //in degree C\n",
"//Sample Problem 19-6\n",
"printf('**Sample Problem 19-6**\n')\n",
"//The rate of thermal conduction will be same through (a) & (d)\n",
"//ka*A*(T2-T1)/La = kd*A*(T5-T4)/Ld\n",
"T4 = T5 - ka*(T2-T1)/La * (Ld/kd)\n",
"printf('The T4 is equal to %d degree C', T4)"
   ]
   }
,
{
		   "cell_type": "markdown",
		   "metadata": {},
		   "source": [
			"## Example 19.7: Sample_Problem_7.sce"
		   ]
		  },
  {
"cell_type": "code",
	   "execution_count": null,
	   "metadata": {
	    "collapsed": true
	   },
	   "outputs": [],
"source": [
"//Given that\n",
"R = 2*10^-2  //in meter\n",
"n = 500  //number of bees\n",
"t = 20*60  //in sec\n",
"e = .80\n",
"T1 = 35 + 273  //in K\n",
"T2 = 47 + 273  //in K\n",
"sigma = 5.67*10^-8  //in W/m^2\n",
"\n",
"//Sample Problem 19-7\n",
"printf('**Sample Problem 19-7**\n')\n",
"A = 4*%pi*R^2\n",
"Eaddi = sigma*e*A*(T2^4 - T1^4)*t  //for n bees\n",
"E = Eaddi/n\n",
"printf('The additional energy produced by each bee is equal to %fJ', E)"
   ]
   }
],
"metadata": {
		  "kernelspec": {
		   "display_name": "Scilab",
		   "language": "scilab",
		   "name": "scilab"
		  },
		  "language_info": {
		   "file_extension": ".sce",
		   "help_links": [
			{
			 "text": "MetaKernel Magics",
			 "url": "https://github.com/calysto/metakernel/blob/master/metakernel/magics/README.md"
			}
		   ],
		   "mimetype": "text/x-octave",
		   "name": "scilab",
		   "version": "0.7.1"
		  }
		 },
		 "nbformat": 4,
		 "nbformat_minor": 0
}
