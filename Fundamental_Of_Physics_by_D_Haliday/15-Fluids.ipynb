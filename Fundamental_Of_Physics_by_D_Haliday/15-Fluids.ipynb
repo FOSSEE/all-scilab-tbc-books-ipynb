{
"cells": [
 {
		   "cell_type": "markdown",
	   "metadata": {},
	   "source": [
       "# Chapter 15: Fluids"
	   ]
	},
{
		   "cell_type": "markdown",
		   "metadata": {},
		   "source": [
			"## Example 15.1: Sample_Problem_1.sce"
		   ]
		  },
  {
"cell_type": "code",
	   "execution_count": null,
	   "metadata": {
	    "collapsed": true
	   },
	   "outputs": [],
"source": [
"//Given that\n",
"l = 3.5  //in meter\n",
"b = 4.2  //in meter\n",
"h = 2.4  //in meter\n",
"g = 9.8  //in m/s^2\n",
"//Sample Problem 15-1a\n",
"printf('**Sample Problem 15-1a**\n')\n",
"P = 1.0*1.01*10^5  //in N/m^2\n",
"density_air = 1.21  //in kg/m^3 at 1atm pressure\n",
"V = l*b*h  //Volume of the air\n",
"W = density_air*V*g  //Weight of the air\n",
"printf('The weight of the air in the room is equal to %fkg\n', W)\n",
"//Sample Problem 15-1b\n",
"printf('\n**Sample Problem 15-1b**\n')\n",
"A = l*b\n",
"F = P*A\n",
"printf('The magnitude of atmosphere force on the floor of the room is %eN\n', F)"
   ]
   }
,
{
		   "cell_type": "markdown",
		   "metadata": {},
		   "source": [
			"## Example 15.2: Sample_Problem_2.sce"
		   ]
		  },
  {
"cell_type": "code",
	   "execution_count": null,
	   "metadata": {
	    "collapsed": true
	   },
	   "outputs": [],
"source": [
"//Given that\n",
"deltaP = 9.3*10^3  //in N/m^2\n",
"density_water = 998  //in kg/m^3\n",
"g = 9.8  //in m/s^2\n",
"\n",
"//Sample Problem 15-2\n",
"printf('**Sample Problem 15-2**\n')\n",
"//deltaP = density_water*g*L\n",
"//therefore\n",
"L = deltaP/(density_water*g)\n",
"printf('The diver started at a depth of %fm', L)"
   ]
   }
,
{
		   "cell_type": "markdown",
		   "metadata": {},
		   "source": [
			"## Example 15.3: Sample_Problem_3.sce"
		   ]
		  },
  {
"cell_type": "code",
	   "execution_count": null,
	   "metadata": {
	    "collapsed": true
	   },
	   "outputs": [],
"source": [
"//Given that\n",
"density_water = 998  //in kg/m^3\n",
"l = 135*10^-3  //in meter\n",
"d = 12.3*10^-3  //in meter\n",
"g = 9.8  //in m/s^2\n",
"\n",
"//Sample Problem 15-3\n",
"printf('**Sample Problem 15-3**\n')\n",
"d_oil = density_water*g*l/(g*(l+d))  //pressure at same height should be same\n",
"printf('The density of the oil is %fkg/m^3', d_oil)"
   ]
   }
,
{
		   "cell_type": "markdown",
		   "metadata": {},
		   "source": [
			"## Example 15.4: Sample_Problem_4.sce"
		   ]
		  },
  {
"cell_type": "code",
	   "execution_count": null,
	   "metadata": {
	    "collapsed": true
	   },
	   "outputs": [],
"source": [
"//Given that\n",
"density_ice = 917  //in kg/m^3\n",
"density_seawater = 1024  //in kg/m^3\n",
"\n",
"//Sample Problem 15-4\n",
"printf('**Sample Problem 15-4**\n')\n",
"//Using archimedies principle\n",
"//density_seawater*Vs*g = density_ice*Vt*g\n",
"//fractoin of non-visible part 'f' is\n",
"f = density_ice/density_seawater  //Vs/Vt\n",
"printf('The fraction of the visible part is equal to %f', (1-f))"
   ]
   }
,
{
		   "cell_type": "markdown",
		   "metadata": {},
		   "source": [
			"## Example 15.5: Sample_Problem_5.sce"
		   ]
		  },
  {
"cell_type": "code",
	   "execution_count": null,
	   "metadata": {
	    "collapsed": true
	   },
	   "outputs": [],
"source": [
"//Given that\n",
"R = 12.0  //in meter\n",
"m = 196  //in kg\n",
"density_He = 0.160  //in kg/m^3\n",
"density_air = 1.25  //in kg/m^3\n",
"g = 9.8  //in m/s^2\n",
"\n",
"//Sample Problem 15-5\n",
"printf('**Sample Problem 15-5**\n')\n",
"Vb = 4/3*%pi*R^3\n",
"PayLoad = (density_air*Vb*g - (density_He*Vb*g + m*g))/g\n",
"printf('The maximum mass attached can be %fkg', PayLoad)"
   ]
   }
,
{
		   "cell_type": "markdown",
		   "metadata": {},
		   "source": [
			"## Example 15.6: Sample_Problem_6.sce"
		   ]
		  },
  {
"cell_type": "code",
	   "execution_count": null,
	   "metadata": {
	    "collapsed": true
	   },
	   "outputs": [],
"source": [
"//Given that\n",
"Ao = 3*10^-4  //in m^2\n",
"Vo = 30*10^-2  //in m/s\n",
"A = 3*10^-7*10^-4  //in m^2\n",
"V = 0.05*10^-2  //in m/s\n",
"\n",
"//Sample Problem 15-6\n",
"printf('**Sample Problem 15-6**\n')\n",
"n = (Ao*Vo)/(A*V)\n",
"printf('Number of capillaries a person should have %e', n)"
   ]
   }
,
{
		   "cell_type": "markdown",
		   "metadata": {},
		   "source": [
			"## Example 15.7: Sample_Problem_7.sce"
		   ]
		  },
  {
"cell_type": "code",
	   "execution_count": null,
	   "metadata": {
	    "collapsed": true
	   },
	   "outputs": [],
"source": [
"exec('Bernauli.sci', -1)\n",
"\n",
"//Given that\n",
"Ao = 1.2*10^-4  //in m^2\n",
"A = 0.35*10^-4  //in m^2\n",
"h = 45*10^-3  //in m\n",
"density_water = 998  //in kg/m^3\n",
"\n",
"//Sample Problem 15-7\n",
"printf('**Sample Problem 15-7\n')\n",
"A = [A, Ao]\n",
"deltaP = 0  //in N/m^2\n",
"density = density_water\n",
"V = fsolve([0,0], Bernauli)\n",
"FlowRate = A(1)*V(1)\n",
"printf('The volume flow rate from the tap is equal to %fcm^3/s', FlowRate*10^6)"
   ]
   }
,
{
		   "cell_type": "markdown",
		   "metadata": {},
		   "source": [
			"## Example 15.8: Sample_Problem_8.sce"
		   ]
		  },
  {
"cell_type": "code",
	   "execution_count": null,
	   "metadata": {
	    "collapsed": true
	   },
	   "outputs": [],
"source": [
"exec('Bernauli.sci', -1)\n",
"\n",
"//Given that\n",
"density_Ethanol = 791  //in kg/m^3\n",
"A1 = 1.20*10^-3  //in m^2\n",
"A2 = A1/2\n",
"//Pressure in narrower section is lesser\n",
"deltaP = -4120  //in N/m^2\n",
"\n",
"//Sample Problem 15-8\n",
"printf('**Sample Problem 15-8**\n')\n",
"A = [A1, A2]\n",
"density = density_Ethanol\n",
"h = 0\n",
"V = fsolve([0, 1], Bernauli)\n",
"printf('The volume flow rate is %e m^3/s', abs(A1*V(1)))"
   ]
   }
],
"metadata": {
		  "kernelspec": {
		   "display_name": "Scilab",
		   "language": "scilab",
		   "name": "scilab"
		  },
		  "language_info": {
		   "file_extension": ".sce",
		   "help_links": [
			{
			 "text": "MetaKernel Magics",
			 "url": "https://github.com/calysto/metakernel/blob/master/metakernel/magics/README.md"
			}
		   ],
		   "mimetype": "text/x-octave",
		   "name": "scilab",
		   "version": "0.7.1"
		  }
		 },
		 "nbformat": 4,
		 "nbformat_minor": 0
}
