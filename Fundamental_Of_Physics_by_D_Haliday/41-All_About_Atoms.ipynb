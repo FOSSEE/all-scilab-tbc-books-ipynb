{
"cells": [
 {
		   "cell_type": "markdown",
	   "metadata": {},
	   "source": [
       "# Chapter 41: All About Atoms"
	   ]
	},
{
		   "cell_type": "markdown",
		   "metadata": {},
		   "source": [
			"## Example 41.1: Sample_Problem_1.sce"
		   ]
		  },
  {
"cell_type": "code",
	   "execution_count": null,
	   "metadata": {
	    "collapsed": true
	   },
	   "outputs": [],
"source": [
"//Given that\n",
"Bdot = 1.4/10^-3  //in T/m\n",
"w = 3.5*10^-2  //in m\n",
"v = 750  //in m/s\n",
"M = 1.8*10^-25  //in kg\n",
"u = 9.27*10^-24  //in J/T\n",
"\n",
"//Sample Problem 41-1\n",
"printf('**Sample Problem 41-1**\n')\n",
"Fz = u*Bdot\n",
"a = Fz/M\n",
"t = w/v\n",
"d = 0.5*a*t^2\n",
"printf('The atoms have been deflected %e m', d)"
   ]
   }
,
{
		   "cell_type": "markdown",
		   "metadata": {},
		   "source": [
			"## Example 41.2: Sample_Problem_2.sce"
		   ]
		  },
  {
"cell_type": "code",
	   "execution_count": null,
	   "metadata": {
	    "collapsed": true
	   },
	   "outputs": [],
"source": [
"//Given that\n",
"B = 1.80  //in T\n",
"Uz  =1.41*10^-26  //in J/T\n",
"h = 6.62*10^-34  //in J-s\n",
"c = 3*10^8  //in m/s\n",
"\n",
"//Sample Problem 42-2\n",
"printf('**Sample Problem 42-2**\n')\n",
"f = 2*Uz*B/h\n",
"printf('The frequency of the alternating field is %e Hz\n', f)\n",
"lambda = c/f\n",
"printf('The wavelength of the field is %fm', lambda)"
   ]
   }
,
{
		   "cell_type": "markdown",
		   "metadata": {},
		   "source": [
			"## Example 41.3: Sample_Problem_3.sce"
		   ]
		  },
  {
"cell_type": "code",
	   "execution_count": null,
	   "metadata": {
	    "collapsed": true
	   },
	   "outputs": [],
"source": [
"//Sample Problem 41_3\n",
"printf('Sample Problem 42_3')"
   ]
   }
,
{
		   "cell_type": "markdown",
		   "metadata": {},
		   "source": [
			"## Example 41.4: Sample_Problem_4.sce"
		   ]
		  },
  {
"cell_type": "code",
	   "execution_count": null,
	   "metadata": {
	    "collapsed": true
	   },
	   "outputs": [],
"source": [
"//Given that\n",
"K = 35*10^3  //in ev\n",
"e = 1.6*10^-19  //in coulomb\n",
"h = 6.62*10^-34  //in J-s\n",
"c = 3*10^8  //in m/s\n",
"\n",
"//Sample Problem 41-4\n",
"printf('**Sample Problem 41-4**\n')\n",
"lambdaMin = h*c/(K*e)\n",
"printf('The cutoff wavelength is %em', lambdaMin)"
   ]
   }
,
{
		   "cell_type": "markdown",
		   "metadata": {},
		   "source": [
			"## Example 41.5: Sample_Problem_5.sce"
		   ]
		  },
  {
"cell_type": "code",
	   "execution_count": null,
	   "metadata": {
	    "collapsed": true
	   },
	   "outputs": [],
"source": [
"//Given that\n",
"Kalpha = 178.9*10^-12  //in m\n",
"Kimpure = 143.5*10^-12  //in m\n",
"Z = 27\n",
"\n",
"//sample Problem 41-5\n",
"printf('**Sample Problem 41-5**\n')\n",
"Zx = sqrt(Kalpha/Kimpure)*(Z-1) + 1\n",
"printf('The proton number of the impurity is %d', Zx)"
   ]
   }
,
{
		   "cell_type": "markdown",
		   "metadata": {},
		   "source": [
			"## Example 41.6: Sample_Problem_6.sce"
		   ]
		  },
  {
"cell_type": "code",
	   "execution_count": null,
	   "metadata": {
	    "collapsed": true
	   },
	   "outputs": [],
"source": [
"//Given that\n",
"lambda = 550*10^-9  //in m\n",
"T = 300  //in K room temprature\n",
"h = 6.62*10^-34  //in J-s\n",
"c = 3*10^8  //in m/s\n",
"e = 1.6*10^-19\n",
"K = 8.62*10^-5*e\n",
"\n",
"//Sample Problem 41-6a\n",
"printf('**Sample Problem 41-6a**\n')\n",
"deltaE = h*c/lambda\n",
"ratio = %e^(-(deltaE)/(K*T))\n",
"printf('The ratio is equal to %e\n', ratio)\n",
"\n",
"//Sample Problem 41-6b\n",
"printf('\n**Sample Problem 41-6b**\n')\n",
"ratio = 0.5\n",
"T = -deltaE/K/log(ratio)\n",
"printf('The temprature required for the given ratio is equal to %fK', T)"
   ]
   }
],
"metadata": {
		  "kernelspec": {
		   "display_name": "Scilab",
		   "language": "scilab",
		   "name": "scilab"
		  },
		  "language_info": {
		   "file_extension": ".sce",
		   "help_links": [
			{
			 "text": "MetaKernel Magics",
			 "url": "https://github.com/calysto/metakernel/blob/master/metakernel/magics/README.md"
			}
		   ],
		   "mimetype": "text/x-octave",
		   "name": "scilab",
		   "version": "0.7.1"
		  }
		 },
		 "nbformat": 4,
		 "nbformat_minor": 0
}
