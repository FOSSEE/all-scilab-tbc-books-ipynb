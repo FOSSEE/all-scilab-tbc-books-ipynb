{
"cells": [
 {
		   "cell_type": "markdown",
	   "metadata": {},
	   "source": [
       "# Chapter 26: Capacitance"
	   ]
	},
{
		   "cell_type": "markdown",
		   "metadata": {},
		   "source": [
			"## Example 26.1: Sample_Problem_1.sce"
		   ]
		  },
  {
"cell_type": "code",
	   "execution_count": null,
	   "metadata": {
	    "collapsed": true
	   },
	   "outputs": [],
"source": [
"exec('electrostatics.sci', -1)\n",
"\n",
"//Given that\n",
"C = 55*10^-15  //in F\n",
"V = 5.3  //in V\n",
"\n",
"//Sample Problem 26-1\n",
"printf('**Sample Problem 26-1**\n')\n",
"Q = C*V\n",
"n = Q/e\n",
"printf('The number of excess electron is equal to %e', n)"
   ]
   }
,
{
		   "cell_type": "markdown",
		   "metadata": {},
		   "source": [
			"## Example 26.2: Sample_Problem_2.sce"
		   ]
		  },
  {
"cell_type": "code",
	   "execution_count": null,
	   "metadata": {
	    "collapsed": true
	   },
	   "outputs": [],
"source": [
"exec('electrostatics.sci', -1)\n",
"\n",
"//Given that\n",
"C1 = 12  //in uF\n",
"C2 = 5.30  //in uF\n",
"C3 = 4.50  //in uF\n",
"V = 12.5  //in Volts\n",
"\n",
"//Sample Problem 26-2a\n",
"printf('**Sample Problem 26-2a**\n')\n",
"C12 = C1 + C2  //in series\n",
"C123 = C12*C3/(C12 + C3)  //in parallel\n",
"printf('The equivalent capacitance for the given circuit is %fuF\n', C123)\n",
"\n",
"//Sample Problem 26-2b\n",
"printf('\n**Sample Problem 26-2b**\n')\n",
"Q123 = C123*V\n",
"Q12 = Q123  //in series\n",
"Q1 = Q12*C1/(C1+C2)\n",
"printf('The charge on the capacitor C1 is equal to %fuC', Q1)"
   ]
   }
,
{
		   "cell_type": "markdown",
		   "metadata": {},
		   "source": [
			"## Example 26.3: Sample_Problem_3.sce"
		   ]
		  },
  {
"cell_type": "code",
	   "execution_count": null,
	   "metadata": {
	    "collapsed": true
	   },
	   "outputs": [],
"source": [
"//Given that\n",
"C1 = 3.55  //in uF\n",
"Vo = 6.30  //in Volts\n",
"C2 = 8.95  //in uF\n",
"\n",
"//Sample Problem 26-3\n",
"printf('**Sample Problem 26-3**\n')\n",
"qT = C1*Vo  //Total charge\n",
"q1 = qT*C1/(C1+C2)  //in parallel\n",
"V = q1/C1\n",
"printf('The final potential difference between each capacitor is equal to %fV', V)"
   ]
   }
,
{
		   "cell_type": "markdown",
		   "metadata": {},
		   "source": [
			"## Example 26.4: Sample_Problem_4.sce"
		   ]
		  },
  {
"cell_type": "code",
	   "execution_count": null,
	   "metadata": {
	    "collapsed": true
	   },
	   "outputs": [],
"source": [
"exec('electrostatics.sci', -1)\n",
"\n",
"//Given that\n",
"R = 6.85*10^-2  //in m\n",
"q = 1.25*10^-9  //in C\n",
"\n",
"//Sample Problem 26-4a\n",
"printf('**Sample Problem 26-4a**\n')\n",
"C = 4*%pi*Eo*R\n",
"U = q^2/(2*C)\n",
"printf('The electric energy stored is equal to %eJ\n', U)\n",
"\n",
"//Sample Problem 26-4b\n",
"printf('\n**Sample Problem 26-4b**\n')\n",
"E = coulomb(q, 1, R)\n",
"u = 1/2*Eo*E^2\n",
"printf('The energy density is equal to %eJ/m^3', u)"
   ]
   }
,
{
		   "cell_type": "markdown",
		   "metadata": {},
		   "source": [
			"## Example 26.5: Sample_Problem_5.sce"
		   ]
		  },
  {
"cell_type": "code",
	   "execution_count": null,
	   "metadata": {
	    "collapsed": true
	   },
	   "outputs": [],
"source": [
"exec('electrostatics.sci', -1)\n",
"\n",
"//Given that\n",
"C = 13.5*10^-12  //in F\n",
"V = 12.5  //in Volts\n",
"x = 6.50\n",
"\n",
"//Sample Problem 26-5\n",
"printf('**Sample Problem 26-5**\n')\n",
"q = C*V\n",
"Ui = q^2/(2*C)\n",
"printf('The initial stored energy is equal to %eJ\n', Ui)\n",
"C = x*C\n",
"Uf = q^2/(2*C)\n",
"printf('The energy stored after the slab is inserted is equal to %eJ', Uf)"
   ]
   }
,
{
		   "cell_type": "markdown",
		   "metadata": {},
		   "source": [
			"## Example 26.6: Sample_Problem_6.sce"
		   ]
		  },
  {
"cell_type": "code",
	   "execution_count": null,
	   "metadata": {
	    "collapsed": true
	   },
	   "outputs": [],
"source": [
"exec('electrostatics.sci', -1)\n",
"\n",
"//Given that\n",
"A = 115*10^-4  //in m^2\n",
"d = 1.24*10^-2  //in meter\n",
"Vo = 85.5  //in Volts\n",
"b = 0.780*10^-2  //in meter\n",
"x = 2.61\n",
"\n",
"//Sample Problem 26-6a\n",
"printf('**Sample Problem 26-6a**\n')\n",
"Co = A*Eo/d\n",
"printf('The capacitance of the plates before the dielectric slab is inserted is equal to %fpF\n', Co*10^12)\n",
"\n",
"//Sample Problem 26-6b\n",
"printf('\n**Sample Problem 26-6b**\n')\n",
"Q = Co*Vo\n",
"printf('Free charge on the plates is equal to%fpC\n', Q*10^12)\n",
"\n",
"//Sample Problem 26-6c\n",
"printf('\n**Sample Problem 26-6c**\n')\n",
"E = Q/(A*Eo)\n",
"printf('The electric field is equal to %fV/m\n', E)\n",
"\n",
"//Sample Problem 26-6d\n",
"printf('\n**Sample Problem 26-6d**\n')\n",
"E1 = Q/(A*Eo*x)\n",
"printf('The electric field in dielectric slab is equal to %fV/m\n', E1)\n",
"\n",
"//Sample Problem 26-6e\n",
"printf('\n**Sample Problem 26-6e**\n')\n",
"V = E*(d-b) + E1*b\n",
"printf('The new potential difference is equal to %fV\n', V)\n",
"\n",
"//Sample Problem 26-6f\n",
"printf('\n**Sample Problem 26-6f**\n')\n",
"C = Q/V\n",
"printf('The new capacitance is equal to %fpF', C*10^12)"
   ]
   }
],
"metadata": {
		  "kernelspec": {
		   "display_name": "Scilab",
		   "language": "scilab",
		   "name": "scilab"
		  },
		  "language_info": {
		   "file_extension": ".sce",
		   "help_links": [
			{
			 "text": "MetaKernel Magics",
			 "url": "https://github.com/calysto/metakernel/blob/master/metakernel/magics/README.md"
			}
		   ],
		   "mimetype": "text/x-octave",
		   "name": "scilab",
		   "version": "0.7.1"
		  }
		 },
		 "nbformat": 4,
		 "nbformat_minor": 0
}
