{
"cells": [
 {
		   "cell_type": "markdown",
	   "metadata": {},
	   "source": [
       "# Chapter 33: Electromagnetic Oscillations and Alternating Current"
	   ]
	},
{
		   "cell_type": "markdown",
		   "metadata": {},
		   "source": [
			"## Example 33.1: Sample_Problem_1.sce"
		   ]
		  },
  {
"cell_type": "code",
	   "execution_count": null,
	   "metadata": {
	    "collapsed": true
	   },
	   "outputs": [],
"source": [
"//Given that\n",
"C = 1.5*10^-6  //in F\n",
"V = 57  //in volts\n",
"L = 12*10^-3  //in H\n",
"\n",
"//Sample Problem 33-1\n",
"printf('**Sample Problem 33-1**\n')\n",
"Imax = V*sqrt(C/L)\n",
"printf('The maximum current in the circuit is %1.2eA', Imax)"
   ]
   }
,
{
		   "cell_type": "markdown",
		   "metadata": {},
		   "source": [
			"## Example 33.2: Sample_Problem_2.sce"
		   ]
		  },
  {
"cell_type": "code",
	   "execution_count": null,
	   "metadata": {
	    "collapsed": true
	   },
	   "outputs": [],
"source": [
"//Given that\n",
"C = 1.5*10^-6  //in F\n",
"V = 57  //in volts\n",
"L = 12*10^-3  //in H\n",
"\n",
"//Sample Problem 33-2a\n",
"printf('**Sample Problem 33-2a**\n')\n",
"//V(accross Inductor) = V(accross Capacitor)\n",
"//-L*(dI/dt) = V\n",
"//I = C*(dV/dt)\n",
"//L*C*(d^2V/dt^2) = -V\n",
"//at t=0, Potential difference = V\n",
"w = 1/sqrt(L*C)\n",
"printf('The potential defference accross the inductor is V=%d*cos(%d*t)\n', V, w)\n",
"\n",
"//Sample Problem 33-2b\n",
"printf('\n**Sample Problem 33-2b**\n')\n",
"MaxRate = abs(-V/L)\n",
"printf('The maximum rate of change in current is %1.2famp/s', MaxRate)"
   ]
   }
,
{
		   "cell_type": "markdown",
		   "metadata": {},
		   "source": [
			"## Example 33.3: Sample_Problem_3.sce"
		   ]
		  },
  {
"cell_type": "code",
	   "execution_count": null,
	   "metadata": {
	    "collapsed": true
	   },
	   "outputs": [],
"source": [
"//Given that\n",
"L = 12*10^-3  //in H\n",
"C = 1.6*10^-6  //in F\n",
"R = 1.5  //in ohm\n",
"\n",
"//Sample Problem 33-3a\n",
"printf('**Sample Probelm 33-3a**\n')\n",
"//Q/2 = Q*e^(-R*t/(2*L))\n",
"t = -2*L/R*log(0.50)\n",
"printf('At time t=%1.2esec, the amplitude of charge oscillation is half of the maximum value\n', t)\n",
"\n",
"//Sample Problem 33-3b\n",
"printf('\n**Sample Probelm 33-3b**\n')\n",
"w = 1/sqrt(L*C)\n",
"T = (2*%pi)/w\n",
"n = t/T\n",
"printf('The number of oscillation are %1.2f till t=%1.2e', n, T)"
   ]
   }
,
{
		   "cell_type": "markdown",
		   "metadata": {},
		   "source": [
			"## Example 33.4: Sample_Problem_4.sce"
		   ]
		  },
  {
"cell_type": "code",
	   "execution_count": null,
	   "metadata": {
	    "collapsed": true
	   },
	   "outputs": [],
"source": [
"//Given that\n",
"R = 200  //in Ohm\n",
"Em = 36  //in volts\n",
"fd = 60  //in Hz\n",
"t = poly(0, 't')\n",
"w = 2*%pi*fd\n",
"//V = Em*sin(w*t)\n",
"\n",
"//Sample Problem 33-4a\n",
"printf('**Sample Problem 33-4a**\n')\n",
"//Vr = Emax*sin(w*t)\n",
"printf('The voltage drop across the resistor is Vr=%1.2f*sin(%1.2f*t)\n', Em, w)\n",
"\n",
"//Sample Problem 33-4b\n",
"printf('\n**Sample Problem 33-4b**\n')\n",
"Ir = Em/R\n",
"printf('The current in the resistor as a function of time is Ir=%1.2f*sin(%1.2f*t)', Ir, w)"
   ]
   }
,
{
		   "cell_type": "markdown",
		   "metadata": {},
		   "source": [
			"## Example 33.5: Sample_Problem_5.sce"
		   ]
		  },
  {
"cell_type": "code",
	   "execution_count": null,
	   "metadata": {
	    "collapsed": true
	   },
	   "outputs": [],
"source": [
"//Given that\n",
"C = 15*10^-6  //in Farad\n",
"Em = 36.0  //in volts\n",
"fd = 60.0  //in Hz\n",
"\n",
"//Sample Problem 33-5a\n",
"printf('**Sample Problem 33-5a**\n')\n",
"//Vc = Emax*sin(w*t)\n",
"printf('The voltage drop across the capacitor is Vc=%1.2f*sin(%1.2f*t)\n', Em, w)\n",
"\n",
"//Sample Problem 33-5b\n",
"printf('\n**Sample Problem 33-5b**\n')\n",
"//I = -C*(dV/dt)\n",
"IcMAX = abs(w*C*Em)\n",
"printf('The current in the capacitor as a function of time is Ic=%1.2f*cos(%1.2f*t)', IcMAX, w)"
   ]
   }
,
{
		   "cell_type": "markdown",
		   "metadata": {},
		   "source": [
			"## Example 33.6: Sample_Problem_6.sce"
		   ]
		  },
  {
"cell_type": "code",
	   "execution_count": null,
	   "metadata": {
	    "collapsed": true
	   },
	   "outputs": [],
"source": [
"//Given that\n",
"L = 230*10^-3  //in Farad\n",
"Em = 36.0  //in volts\n",
"fd = 60.0  //in Hz\n",
"\n",
"//Sample Problem 33-6a\n",
"printf('**Sample Problem 33-6a**\n')\n",
"//Vc = Emax*sin(w*t)\n",
"printf('The voltage drop across the inductor is Vi=%1.2f*sin(%1.2f*t)\n', Em, w)\n",
"\n",
"//Sample Problem 33-6b\n",
"printf('\n**Sample Problem 33-6b**\n')\n",
"//V = -L*(dI/dt)\n",
"IcMAX = abs(Em/(w*L))\n",
"printf('The current in the inductor as a function of time is Ic=-%1.2f*cos(%1.2f*t)', IcMAX, w)"
   ]
   }
,
{
		   "cell_type": "markdown",
		   "metadata": {},
		   "source": [
			"## Example 33.7: Sample_Problem_7.sce"
		   ]
		  },
  {
"cell_type": "code",
	   "execution_count": null,
	   "metadata": {
	    "collapsed": true
	   },
	   "outputs": [],
"source": [
"//Given that\n",
"R = 200  //in ohm\n",
"C = 15*10^-6  //in F\n",
"L = 230*10^-3  //in H\n",
"Em = 36.0  //in volts\n",
"fd = 60.0  //in Hz\n",
"\n",
"//Sample Problem 33-7a\n",
"printf('**Sample Problem 33-7a**\n')\n",
"w = 2*%pi*fd\n",
"Xl = w*L\n",
"Xc = 1/(w*C)\n",
"Z = sqrt(R^2 + (Xl - Xc)^2)\n",
"Imax = Em/Z\n",
"printf('The amplitude of current in the circuit is %1.2fA, Imax\n', Imax)\n",
"\n",
"//Sample Problem 33-7b\n",
"printf('\n**Sample Problem 33-7a**\n')\n",
"phi = atan((Xl-Xc)/R)\n",
"printf('The phase constant is equal to %fdegrees', phi)"
   ]
   }
,
{
		   "cell_type": "markdown",
		   "metadata": {},
		   "source": [
			"## Example 33.8: Sample_Problem_8.sce"
		   ]
		  },
  {
"cell_type": "code",
	   "execution_count": null,
	   "metadata": {
	    "collapsed": true
	   },
	   "outputs": [],
"source": [
"//Given that\n",
"Erms = 120  //in volts\n",
"fd = 60  //in Hz\n",
"R = 200  //in ohm\n",
"Xl = 80.0  //in ohm\n",
"Xc = 150  //in ohm\n",
"\n",
"//Sample Problem 33-8a\n",
"printf('**Sample Problem 33-8a**\n')\n",
"Z = sqrt(R^2 + (Xl - Xc)^2)\n",
"pf = R/Z\n",
"printf('The power factor for the circuit is %.3f\n', pf)\n",
"\n",
"//Sample Problem 33-8b\n",
"printf('\n**Sample Problem 33-8b**\n')\n",
"Irms = Erms/R\n",
"Pavg = Erms*Irms*pf\n",
"printf('The average rate of disscipation of energy is equal to %1.2fW\n', Pavg)\n",
"\n",
"//Sample Problem 33-8c\n",
"printf('\n**Sample Problem 33-8c**\n')\n",
"Xc = Xl\n",
"w = 2*%pi*fd\n",
"Cnew = 1/Xc/w\n",
"printf('The new capacitance should be %1.2eF', Cnew)"
   ]
   }
,
{
		   "cell_type": "markdown",
		   "metadata": {},
		   "source": [
			"## Example 33.9: Sample_Problem_9.sce"
		   ]
		  },
  {
"cell_type": "code",
	   "execution_count": null,
	   "metadata": {
	    "collapsed": true
	   },
	   "outputs": [],
"source": [
"//Given that\n",
"Vp = 8.5*10^3  //in Volts\n",
"Vs = 120  //in volts\n",
"P = 78*10^3  //in W\n",
"\n",
"//Sample Problem 33-9a\n",
"printf('**Sample Problem 33-9a**\n')\n",
"ratio = Vp/Vs\n",
"printf('The turn ratio is equal to %.3f\n', ratio)\n",
"\n",
"//Sample Problem 33-9b\n",
"printf('\n**Sample Problem 33-9b**\n')\n",
"Is = P/Vs\n",
"Ip = P/Vp\n",
"printf('The current in primary circuit is %1.2eA\n', Ip)\n",
"printf('The current in secondary circuit is %1.2eA\n', Is)\n",
"\n",
"//Sample Problem 33-9c\n",
"printf('\n**Sample Problem 33-9c**\n')\n",
"Rs = Vs/Is\n",
"Rp = Vp/Ip\n",
"printf('The resistance in primary circuit is %1.2eA\n', Rp)\n",
"printf('The resistance in secondary circuit is %1.2eA\n', Rs)"
   ]
   }
],
"metadata": {
		  "kernelspec": {
		   "display_name": "Scilab",
		   "language": "scilab",
		   "name": "scilab"
		  },
		  "language_info": {
		   "file_extension": ".sce",
		   "help_links": [
			{
			 "text": "MetaKernel Magics",
			 "url": "https://github.com/calysto/metakernel/blob/master/metakernel/magics/README.md"
			}
		   ],
		   "mimetype": "text/x-octave",
		   "name": "scilab",
		   "version": "0.7.1"
		  }
		 },
		 "nbformat": 4,
		 "nbformat_minor": 0
}
