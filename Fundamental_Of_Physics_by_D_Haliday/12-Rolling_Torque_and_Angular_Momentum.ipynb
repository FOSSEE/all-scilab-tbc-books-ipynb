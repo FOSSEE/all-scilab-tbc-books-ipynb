{
"cells": [
 {
		   "cell_type": "markdown",
	   "metadata": {},
	   "source": [
       "# Chapter 12: Rolling Torque and Angular Momentum"
	   ]
	},
{
		   "cell_type": "markdown",
		   "metadata": {},
		   "source": [
			"## Example 12.1: Sample_Problem_1.sce"
		   ]
		  },
  {
"cell_type": "code",
	   "execution_count": null,
	   "metadata": {
	    "collapsed": true
	   },
	   "outputs": [],
"source": [
"//Given that\n",
"M = 1.4  //in kg\n",
"R = 8.5*10^-2  //in meter\n",
"v = 15*10^-2  //in meter\n",
"\n",
"//Sample Problem 12-1\n",
"printf('**Sample Problem 12-1**\n')\n",
"I = 0.5*M*R^2\n",
"w = v/R\n",
"K = 0.5*M*v^2 + 0.5*I*w^2\n",
"printf('The total kinetic energy of the disk is %fJ', K)"
   ]
   }
,
{
		   "cell_type": "markdown",
		   "metadata": {},
		   "source": [
			"## Example 12.2: Sample_Problem_2.sce"
		   ]
		  },
  {
"cell_type": "code",
	   "execution_count": null,
	   "metadata": {
	    "collapsed": true
	   },
	   "outputs": [],
"source": [
"exec('degree_rad.sci', -1)\n",
"\n",
"//Given that\n",
"M = 6  //in kg\n",
"A = 30  //in degrees\n",
"h = 1.20  //in meter\n",
"g = 9.8  //in m/s^2\n",
"//Radius of the disk is equal to R\n",
"\n",
"//Sample Problem 12-2a\n",
"printf('**Sample Problem 12-2a**\n')\n",
"//using mechanical energy conservation\n",
"//M*g*h = 0.5*I*w^2 + 0.5*M*v^2\n",
"//w = v/R\n",
"//I = (2/5)M*R^2\n",
"v = sqrt(M*g*h/(0.5*M*(2/5) + 0.5*M))\n",
"printf('The speed of the disk at the bottom is %fm/s\n', v)\n",
"\n",
"//Sample Problem 12-2b\n",
"printf('\n**Sample Problem 12-2b**\n')\n",
"//at bottom\n",
"a = -g*sin(dtor(A))/(1+(2/5)*M/M)\n",
"fs = -(2/5)*M*a\n",
"printf('The frictinal force on the disk is equal to %fN', fs)"
   ]
   }
,
{
		   "cell_type": "markdown",
		   "metadata": {},
		   "source": [
			"## Example 12.3: Sample_Problem_3.sce"
		   ]
		  },
  {
"cell_type": "code",
	   "execution_count": null,
	   "metadata": {
	    "collapsed": true
	   },
	   "outputs": [],
"source": [
"exec('degree_rad.sci', -1)\n",
"exec('cross_product.sci', -1)\n",
"\n",
"//Given that\n",
"A = dtor(30)  //in rad\n",
"r = 3*[cos(A), 0, sin(A)]\n",
"F1 = 2*[1, 0, 0]\n",
"F2 = 2*[0, 0, 1]\n",
"F3 = 2*[0, 1, 0]\n",
"\n",
"//Sample Problem 12-3\n",
"printf('**Sample Problem 12-3**\n')\n",
"T1 = crossproduct(r, F1)\n",
"T2 = crossproduct(r, F2)\n",
"T3 = crossproduct(r, F3)\n",
"printf('The torque due to F1 is equal to %fN.m\n', norm(T1))\n",
"printf('The torque due to F2 is equal to %fN.m\n', norm(T2))\n",
"printf('The torque due to F3 is equal to %fN.m', norm(T3))"
   ]
   }
,
{
		   "cell_type": "markdown",
		   "metadata": {},
		   "source": [
			"## Example 12.4: Sample_Problem_4.sce"
		   ]
		  },
  {
"cell_type": "code",
	   "execution_count": null,
	   "metadata": {
	    "collapsed": true
	   },
	   "outputs": [],
"source": [
"//Given that\n",
"p1 = 5  //in kg.m/s\n",
"d1 = 2.0  //in meter\n",
"p2 = 2  //in kg.m/s\n",
"d2 = 4.0  //in meter\n",
"\n",
"//Sample Problem 12-4\n",
"printf('**Sample Problem 12-4**\n')\n",
"L = p1*d1 - p2*d2  //the direction of L2 is opposite to L1\n",
"printf('The net angular momentum of the two particle system is %dkg.m/s^2', L)"
   ]
   }
,
{
		   "cell_type": "markdown",
		   "metadata": {},
		   "source": [
			"## Example 12.6: Sample_Problem_6.sce"
		   ]
		  },
  {
"cell_type": "code",
	   "execution_count": null,
	   "metadata": {
	    "collapsed": true
	   },
	   "outputs": [],
"source": [
"//Given that\n",
"R = 38  //in meter\n",
"Mc = 1.1 *10^4  //in kg\n",
"Mw = 6.0* 10^5  //in kg\n",
"Mp = 70  //in kg\n",
"Nc = 36  //number of cars\n",
"Np = 60*Nc  //total number of person\n",
"Wf = 2*%pi/(2*60)  //in rad/s\n",
"\n",
"//Sample Problem 12-6a\n",
"printf('**Sample Problem 12-6a**\n')\n",
"Mpc = Mc*Nc + Mp*Np\n",
"Ipc = Mpc*R^2\n",
"Iw = (Mw/2)*R^2  //considering the mometum due to only the outer hoop\n",
"It = Ipc+Iw\n",
"L = It*Wf\n",
"printf('The angular momentum is %ekg.m/s^2\n', L)\n",
"\n",
"//Sample Problem 12-6b\n",
"printf('\n**Sample Problem 12-6b**\n')\n",
"//Using the definiiton of the torque\n",
"deltat  = 5.0  //in sec\n",
"Tavg = L/deltat\n",
"printf('The magnitude of average torque is %eN.m', Tavg)"
   ]
   }
,
{
		   "cell_type": "markdown",
		   "metadata": {},
		   "source": [
			"## Example 12.7: Sample_Problem_7.sce"
		   ]
		  },
  {
"cell_type": "code",
	   "execution_count": null,
	   "metadata": {
	    "collapsed": true
	   },
	   "outputs": [],
"source": [
"//Given that\n",
"Iwh = 1.2  //in kg.m/s^2\n",
"Wwh = 3.9*2*%pi  //in rad/s\n",
"Ib = 6.8  //in kg.m/s^2\n",
"\n",
"//Sample Problem 12-7\n",
"printf('**Sample Problem 12-7**\n')\n",
"//angular momentum conservation along the axis of rotation of the system\n",
"//Ib*Wb  - Iwh*Wwh = Iwh*Wwh\n",
"Wb = 2*Iwh*Wwh/Ib\n",
"printf('The angular speed of the composite system is %frev/s', Wb/(2*%pi))"
   ]
   }
,
{
		   "cell_type": "markdown",
		   "metadata": {},
		   "source": [
			"## Example 12.8: Sample_Problem_8.sce"
		   ]
		  },
  {
"cell_type": "code",
	   "execution_count": null,
	   "metadata": {
	    "collapsed": true
	   },
	   "outputs": [],
"source": [
"//Given that\n",
"t = 1.87  //in sec\n",
"I1 = 19.9  //in kg.m^2\n",
"I2 = 3.93  //in kg.m^2\n",
"//From the figure\n",
"A1 = 0.5*2*%pi  //in rad\n",
"A2 = 3.5*2*%pi  //in rad\n",
"\n",
"//Sample Problem 12-8\n",
"printf('**Sample Problem 12-8**\n')\n",
"//w1 = I2*w2/I1\n",
"//w1*t1 = A1\n",
"//w2*t2 = A2\n",
"//t = t1 + t2\n",
"//t = A1/w1 + A2/w2\n",
"//t = A1/(I2*w2/I1) + A2/w2\n",
"w2 = (1/t) * (A1*I1/I2 + A2)\n",
"printf('The angular speed during the tuck should be %frev/s', w2/(2*%pi))"
   ]
   }
,
{
		   "cell_type": "markdown",
		   "metadata": {},
		   "source": [
			"## Example 12.9: Sample_Problem_9.sce"
		   ]
		  },
  {
"cell_type": "code",
	   "execution_count": null,
	   "metadata": {
	    "collapsed": true
	   },
	   "outputs": [],
"source": [
"exec('degree_rad.sci', -1)\n",
"\n",
"//Given that\n",
"M = 1  //(say)\n",
"d = 0.50  //in meter\n",
"Wi = -2  //in rad/s\n",
"m = 1/3*M\n",
"Vi = 12  //in m/s\n",
"A = dtor(60)  //in rad\n",
"\n",
"//Sample Problem 12-9\n",
"printf('**Sample Problem 12-9**\n')\n",
"//initial angular momentum\n",
"Ii = M*d^2/3 * 4\n",
"Lti = Ii*Wi  //of the turnstile\n",
"Lbi = m* Vi * d * cos(A)\n",
"//final angular momentum\n",
"//Lf = Itotal * Wf\n",
"Itotal = Ii + m*d^2\n",
"//Using angular momentum conservation\n",
"Wf = (Lti + Lbi)/Itotal\n",
"printf('The final angular velocity of the ball-turnstile is %frad/s', Wf)"
   ]
   }
],
"metadata": {
		  "kernelspec": {
		   "display_name": "Scilab",
		   "language": "scilab",
		   "name": "scilab"
		  },
		  "language_info": {
		   "file_extension": ".sce",
		   "help_links": [
			{
			 "text": "MetaKernel Magics",
			 "url": "https://github.com/calysto/metakernel/blob/master/metakernel/magics/README.md"
			}
		   ],
		   "mimetype": "text/x-octave",
		   "name": "scilab",
		   "version": "0.7.1"
		  }
		 },
		 "nbformat": 4,
		 "nbformat_minor": 0
}
