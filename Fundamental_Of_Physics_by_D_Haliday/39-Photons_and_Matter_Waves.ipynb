{
"cells": [
 {
		   "cell_type": "markdown",
	   "metadata": {},
	   "source": [
       "# Chapter 39: Photons and Matter Waves"
	   ]
	},
{
		   "cell_type": "markdown",
		   "metadata": {},
		   "source": [
			"## Example 39.1: Sample_Problem_1.sce"
		   ]
		  },
  {
"cell_type": "code",
	   "execution_count": null,
	   "metadata": {
	    "collapsed": true
	   },
	   "outputs": [],
"source": [
"//Given that\n",
"P = 100  //in W\n",
"lambda = 590*10^-9  //in meter\n",
"h = 6.62*10^-34  //in J.s\n",
"c = 3*10^8  //in m/s\n",
"\n",
"//Sample Problem 39-1\n",
"printf('**Sample Problem 39-1**\n')\n",
"Ep = h*c/lambda  //Energy of each photon\n",
"N = P/Ep\n",
"printf('The rate at which photons are absorbed is %1.2e/s', N)"
   ]
   }
,
{
		   "cell_type": "markdown",
		   "metadata": {},
		   "source": [
			"## Example 39.2: Sample_Problem_2.sce"
		   ]
		  },
  {
"cell_type": "code",
	   "execution_count": null,
	   "metadata": {
	    "collapsed": true
	   },
	   "outputs": [],
"source": [
"//Given that\n",
"r = 3.5  //in meter\n",
"P = 1.5  //in W\n",
"phi = 2.2  //in ev\n",
"conv = 1.6*10^-19  //ev to Joule to conversion factor\n",
"R = 5.0*10^-11  //in meter\n",
"\n",
"//Sample Problem 39-2\n",
"printf('**Sample Problem 39-2**\n')\n",
"I = P/(4*%pi*r^2)\n",
"A = %pi*R^2\n",
"deltaT = phi*conv/(I*A)\n",
"printf('The time taken in ejecting electron is %ds', deltaT)"
   ]
   }
,
{
		   "cell_type": "markdown",
		   "metadata": {},
		   "source": [
			"## Example 39.3: Sample_Problem_3.sce"
		   ]
		  },
  {
"cell_type": "code",
	   "execution_count": null,
	   "metadata": {
	    "collapsed": true
	   },
	   "outputs": [],
"source": [
"//Given that\n",
"h = 6.62*10^-34  //in J.s\n",
"fo = 5.5*10^14  //in Hz\n",
"conv = 1.6*10^-19  //ev to J conversion factor\n",
"\n",
"//Sample Problem 39-3\n",
"printf('**Sample Problem 39-3**\n')\n",
"phi = h*fo/conv  //in ev\n",
"printf('The work function of sodium is %1.2fev', phi)"
   ]
   }
,
{
		   "cell_type": "markdown",
		   "metadata": {},
		   "source": [
			"## Example 39.4: Sample_Problem_4.sce"
		   ]
		  },
  {
"cell_type": "code",
	   "execution_count": null,
	   "metadata": {
	    "collapsed": true
	   },
	   "outputs": [],
"source": [
"exec('degree_rad.sci', -1)\n",
"\n",
"//Given that\n",
"lambda =  22*10^-12  //in meter\n",
"conv = 1.6*10^-19  //ev to J conversion factor\n",
"E = 56*10^3*conv\n",
"theta = dtor(85)  //in rad\n",
"h = 6.62*10^-34  //in J.s\n",
"Me = 9.1*10^-31  //in kg\n",
"c = 3*10^8  //in m/s\n",
"\n",
"//Sample Problem 39-4a\n",
"printf('**Sample Problem 39-4a**\n')\n",
"deltaL = h/(Me*c)*(1 - cos(theta))\n",
"printf('compton shift is equal to %1.2fpm\n', deltaL*10^12)\n",
"\n",
"//Sample Problem 39-4b\n",
"printf('\n**Sample Problem 39-4b**\n')\n",
"frac = deltaL/(lambda + deltaL)\n",
"printf('The fraction of energy transfered is %1.3f', frac)"
   ]
   }
,
{
		   "cell_type": "markdown",
		   "metadata": {},
		   "source": [
			"## Example 39.5: Sample_Problem_5.sce"
		   ]
		  },
  {
"cell_type": "code",
	   "execution_count": null,
	   "metadata": {
	    "collapsed": true
	   },
	   "outputs": [],
"source": [
"//Given that\n",
"K = 120*1.6*10^-19  //in J\n",
"Me = 9.11*10^-31  //in kg\n",
"h = 6.62*10^-34  //in J.s\n",
"\n",
"//Sample Problem 39-5\n",
"printf('**Sample Problem 39-5**\n')\n",
"p = sqrt(2*K*Me)\n",
"lambda = h/p\n",
"printf('The wavelength of the electon is %dpm', lambda*10^12)"
   ]
   }
,
{
		   "cell_type": "markdown",
		   "metadata": {},
		   "source": [
			"## Example 39.6: Sample_Problem_6.sce"
		   ]
		  },
  {
"cell_type": "code",
	   "execution_count": null,
	   "metadata": {
	    "collapsed": true
	   },
	   "outputs": [],
"source": [
"//Given that\n",
"v = 2.05*10^6  //in m/s\n",
"h = 6.62*10^-34  //in J.s\n",
"hC = h/(2*%pi)\n",
"precision = .50/100\n",
"Me = 9.109*10^-31  //in kg\n",
"\n",
"//Sample Problem 39-6\n",
"printf('**Sample Probelm 39-6**\n')\n",
"Px = Me*v\n",
"deltaPx = precision*Px\n",
"deltaX = hC/deltaPx\n",
"printf('The error in measuring x is %dnm', deltaX*10^9)"
   ]
   }
,
{
		   "cell_type": "markdown",
		   "metadata": {},
		   "source": [
			"## Example 39.7: Sample_Problem_7.sce"
		   ]
		  },
  {
"cell_type": "code",
	   "execution_count": null,
	   "metadata": {
	    "collapsed": true
	   },
	   "outputs": [],
"source": [
"//Given that\n",
"conv = 1.6*10^-19  //ev to J conversion factor\n",
"E = 5.1*conv  //in ev\n",
"Uo = 6.8*conv  //in ev\n",
"L = 750*10^-12  //in m\n",
"h = 6.62*10^-34  //in J.s\n",
"Me = 9.11*10^-31  //in kg\n",
"\n",
"//Sample Problem 39-7a\n",
"printf('**Sample Problem 39-7a**\n')\n",
"k = sqrt(8*%pi^2*Me*(Uo-E)/h^2)\n",
"T = %e^(-2*k*L)\n",
"printf('The transmission coefficient is %e', T)"
   ]
   }
],
"metadata": {
		  "kernelspec": {
		   "display_name": "Scilab",
		   "language": "scilab",
		   "name": "scilab"
		  },
		  "language_info": {
		   "file_extension": ".sce",
		   "help_links": [
			{
			 "text": "MetaKernel Magics",
			 "url": "https://github.com/calysto/metakernel/blob/master/metakernel/magics/README.md"
			}
		   ],
		   "mimetype": "text/x-octave",
		   "name": "scilab",
		   "version": "0.7.1"
		  }
		 },
		 "nbformat": 4,
		 "nbformat_minor": 0
}
