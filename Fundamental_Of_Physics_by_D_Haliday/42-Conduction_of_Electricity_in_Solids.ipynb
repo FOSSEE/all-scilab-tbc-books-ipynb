{
"cells": [
 {
		   "cell_type": "markdown",
	   "metadata": {},
	   "source": [
       "# Chapter 42: Conduction of Electricity in Solids"
	   ]
	},
{
		   "cell_type": "markdown",
		   "metadata": {},
		   "source": [
			"## Example 42.1: Sample_Problem_1.sce"
		   ]
		  },
  {
"cell_type": "code",
	   "execution_count": null,
	   "metadata": {
	    "collapsed": true
	   },
	   "outputs": [],
"source": [
"//Given that\n",
"T = 300  //in K\n",
"e = 1.6*10^-19  //in coulomb\n",
"Eg = 5.5*e  //in J\n",
"K = 8.62*10^-5*e  //in J/K\n",
"\n",
"//Sample Problem 42-1\n",
"printf('**Sample Problem 42-1**\n')\n",
"P = %e^(-Eg/(K*T))\n",
"printf('The probability is equal to %e', P)"
   ]
   }
,
{
		   "cell_type": "markdown",
		   "metadata": {},
		   "source": [
			"## Example 42.2: Sample_Problem_2.sce"
		   ]
		  },
  {
"cell_type": "code",
	   "execution_count": null,
	   "metadata": {
	    "collapsed": true
	   },
	   "outputs": [],
"source": [
"//Given that\n",
"n = 2\n",
"V = 2*10^-6  //in m^3\n",
"density = 1.738*10^3  //in kg/m^3\n",
"M = 24.312*10^-3  //in kg/m^3\n",
"Na = 6.023*10^23\n",
"\n",
"//Sample Problem 42-2\n",
"printf('**Sample Problem 42-2**\n')\n",
"num = density*V*Na/M\n",
"electrons = n*num\n",
"printf('The number of electrons is equal to %e', electrons)"
   ]
   }
,
{
		   "cell_type": "markdown",
		   "metadata": {},
		   "source": [
			"## Example 42.3: Sample_Problem_3.sce"
		   ]
		  },
  {
"cell_type": "code",
	   "execution_count": null,
	   "metadata": {
	    "collapsed": true
	   },
	   "outputs": [],
"source": [
"//Given that\n",
"E = 7  //in ev\n",
"V = 2*10^-9  //in m^3\n",
"density = 2*10^28  //in m^3/ev\n",
"deltaE = 3*10^-3  //in ev\n",
"\n",
"//Sample Problem 42-3a\n",
"printf('**Sample Problem 42-3a**\n')\n",
"n = density*V\n",
"printf('The number of states are equal to %1.2e per ev\n', n)\n",
"\n",
"//Sample Problem 42-3b\n",
"printf('\n**Sample Problem 42-3b**\n')\n",
"n = n*deltaE\n",
"printf('The number of states are equal to %1.2e per ev\n', n)"
   ]
   }
,
{
		   "cell_type": "markdown",
		   "metadata": {},
		   "source": [
			"## Example 42.4: Sample_Problem_4.sce"
		   ]
		  },
  {
"cell_type": "code",
	   "execution_count": null,
	   "metadata": {
	    "collapsed": true
	   },
	   "outputs": [],
"source": [
"//Given that\n",
"E = 0.10  //in ev\n",
"T = 800  //in K\n",
"k = 8.62*10^-5  //Boltzman constant\n",
"\n",
"//Sample Problem 42-4a\n",
"txt = mopen('Example42_4_result.txt','wt')\n",
"mfprintf(txt, '**Sample Problem 42-4a**\n')\n",
"expo = E/(k*T)\n",
"P = 1/(%e^expo + 1)\n",
"mfprintf(txt, 'The probability of occupying the given energy state is equal to %f\n', P)\n",
"\n",
"//Sample Problem 42-4b\n",
"Pbelow = 1/(1 + %e^-expo)\n",
"mfprintf(txt, '\n**Sample Problem 42-4**\n')\n",
"mfprintf(txt, 'The probability of occupying the given energy state is equal to %f', Pbelow)\n",
"mclose(txt)"
   ]
   }
,
{
		   "cell_type": "markdown",
		   "metadata": {},
		   "source": [
			"## Example 42.5: Sample_Problem_5.sce"
		   ]
		  },
  {
"cell_type": "code",
	   "execution_count": null,
	   "metadata": {
	    "collapsed": true
	   },
	   "outputs": [],
"source": [
"//Given that\n",
"E = 7.0  //in ev\n",
"density = 2*10^28  //density of states \n",
"V = 2*10^-9  //in m^3\n",
"\n",
"//Sample Problem 42-5\n",
"txt = mopen('Example42_5_result.txt', 'wt')\n",
"mfprintf(txt, '**Sample Problem 42-5**\n')\n",
"P = 0.50\n",
"No = density * P * V\n",
"mfprintf(txt, 'Number of occupied states per eV at 7 ev is equal to %e', No)\n",
"mclose(txt)"
   ]
   }
,
{
		   "cell_type": "markdown",
		   "metadata": {},
		   "source": [
			"## Example 42.6: Sample_Problem_6.sce"
		   ]
		  },
  {
"cell_type": "code",
	   "execution_count": null,
	   "metadata": {
	    "collapsed": true
	   },
	   "outputs": [],
"source": [
"//Given that\n",
"No = 10^16  //number per m^3\n",
"T = 298  //in K\n",
"fac = 10^6\n",
"density = 2330  //in kg/m^3\n",
"Na = 6.023*10^23\n",
"M = 28.1*10^-3  //in kg/mol\n",
"\n",
"//Sample Problem 42-6\n",
"pt = mopen('Example42_6_result.txt', 'wt')\n",
"mfprintf(pt, '**Sample Problem 42-6**\n')\n",
"Np = fac*No + No\n",
"NSi = density*Na/M\n",
"fraction = Np/NSi\n",
"mfprintf(pt, 'The fraction of Phosphorus atoms with Silicon atoms is equal to %e', fraction)\n",
"mclose(pt)"
   ]
   }
,
{
		   "cell_type": "markdown",
		   "metadata": {},
		   "source": [
			"## Example 42.7: Sample_Problem_7.sce"
		   ]
		  },
  {
"cell_type": "code",
	   "execution_count": null,
	   "metadata": {
	    "collapsed": true
	   },
	   "outputs": [],
"source": [
"//Given that\n",
"Egap = 1.9  //in eV\n",
"\n",
"//Sample Problem 42-7\n",
"pt = mopen('Example42_7_result.txt', 'wt')\n",
"mfprintf(pt, '**Sample Problem 42-7**\n')\n",
"lambada = 1242/Egap\n",
"mfprintf(pt, 'The wavelength emitted is equal to %dnm', lambada)\n",
"mclose(pt)"
   ]
   }
],
"metadata": {
		  "kernelspec": {
		   "display_name": "Scilab",
		   "language": "scilab",
		   "name": "scilab"
		  },
		  "language_info": {
		   "file_extension": ".sce",
		   "help_links": [
			{
			 "text": "MetaKernel Magics",
			 "url": "https://github.com/calysto/metakernel/blob/master/metakernel/magics/README.md"
			}
		   ],
		   "mimetype": "text/x-octave",
		   "name": "scilab",
		   "version": "0.7.1"
		  }
		 },
		 "nbformat": 4,
		 "nbformat_minor": 0
}
