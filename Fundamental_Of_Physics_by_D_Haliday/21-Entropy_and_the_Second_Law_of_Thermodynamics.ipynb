{
"cells": [
 {
		   "cell_type": "markdown",
	   "metadata": {},
	   "source": [
       "# Chapter 21: Entropy and the Second Law of Thermodynamics"
	   ]
	},
{
		   "cell_type": "markdown",
		   "metadata": {},
		   "source": [
			"## Example 21.1: Sample_Problem_1.sce"
		   ]
		  },
  {
"cell_type": "code",
	   "execution_count": null,
	   "metadata": {
	    "collapsed": true
	   },
	   "outputs": [],
"source": [
"//Given that\n",
"n = 1  //in mol\n",
"Vi = 1  //(say)\n",
"Vf = 2*Vi\n",
"R = 8.31  //in J/mol.K\n",
"T = 1  //(say)\n",
"\n",
"//Sample Problem 21-1\n",
"printf('**Sample Problem 21-1**\n')\n",
"Q = n*R*T*log(Vf/Vi)\n",
"deltaS = Q/T\n",
"printf('The change in entropy for the irreversible process is equal to %fJ/K', deltaS)"
   ]
   }
,
{
		   "cell_type": "markdown",
		   "metadata": {},
		   "source": [
			"## Example 21.2: Sample_Problem_2.sce"
		   ]
		  },
  {
"cell_type": "code",
	   "execution_count": null,
	   "metadata": {
	    "collapsed": true
	   },
	   "outputs": [],
"source": [
"//Given that\n",
"m = 1.5  //in kg\n",
"TiL = 60 + 273  //in K\n",
"TiR = 20 + 273  //in K\n",
"Tf = 40 + 273  //in K\n",
"Sc = 386  //in J/kg.K\n",
"\n",
"//Sample Problem 21-2\n",
"printf('**Sample Problem 21-2**\n')\n",
"SL = m*Sc*integrate('1/T', 'T', TiL, Tf)\n",
"SR = m*Sc*integrate('1/T', 'T', TiR, Tf)\n",
"Srev = SR + SL\n",
"printf('The net entropy change in the reversible process is equal to %fJ/K', Srev)"
   ]
   }
,
{
		   "cell_type": "markdown",
		   "metadata": {},
		   "source": [
			"## Example 21.3: Sample_Problem_3.sce"
		   ]
		  },
  {
"cell_type": "code",
	   "execution_count": null,
	   "metadata": {
	    "collapsed": true
	   },
	   "outputs": [],
"source": [
"//Given that\n",
"TH = 850  //in K\n",
"TL = 300  //in K\n",
"W = 1200  //in J\n",
"t = 0.25  //in sec\n",
"\n",
"//Sample Problem 21-3a\n",
"printf('**Sample Problem 21-3a**\n')\n",
"eta = 1 - (TL/TH)\n",
"printf('The efficiency of the cycle is equal to %f\n', eta)\n",
"\n",
"//Sample Problem 21-3b\n",
"printf('\n**Sample Problem 21-3b**\n')\n",
"P = W/t\n",
"printf('The average power of the cycle is %fW\n', P)\n",
"\n",
"//Sample Problem 21-3c\n",
"printf('\n**Sample Problem 21-3c**\n')\n",
"QH = W/eta\n",
"printf('The heat extracted from the reservoir is equal to %fJ\n', QH)\n",
"\n",
"//Sample Problem 21-3d\n",
"printf('\n**Sample Problem 21-3d**\n')\n",
"QL = W - QH\n",
"printf('The heat delivered to the reservoir is equal to %fJ\n', QL)\n",
"\n",
"//Sample Problem 21-3e\n",
"printf('\n**Sample Problem 21-3e**\n')\n",
"S = QH/TH + QL/TL\n",
"printf('The net entropy change for the cycle is %fJ/k', S)"
   ]
   }
,
{
		   "cell_type": "markdown",
		   "metadata": {},
		   "source": [
			"## Example 21.4: Sample_Problem_4.sce"
		   ]
		  },
  {
"cell_type": "code",
	   "execution_count": null,
	   "metadata": {
	    "collapsed": true
	   },
	   "outputs": [],
"source": [
"//Given that\n",
"eta = 0.75\n",
"TH = 100 + 273\n",
"TL = 0 + 273\n",
"\n",
"//Sample Problem 21-5\n",
"printf('**Sample Problem 21-5**\n')\n",
"etaMAX = 1 - TL/TH\n",
"if eta < etaMAX then\n",
"    printf('It is possible')\n",
"else \n",
"    printf('It is not possible')\n",
"end"
   ]
   }
,
{
		   "cell_type": "markdown",
		   "metadata": {},
		   "source": [
			"## Example 21.5: Sample_Problem_5.sce"
		   ]
		  },
  {
"cell_type": "code",
	   "execution_count": null,
	   "metadata": {
	    "collapsed": true
	   },
	   "outputs": [],
"source": [
"//Given that\n",
"n = 100\n",
"\n",
"//Sample Problem 21-5a\n",
"printf('**Sample Problem 21-5a**\n')\n",
"n1 = 50\n",
"n2 = 50\n",
"W = factorial(n)/(factorial(n1)*factorial(n2))\n",
"printf('The total number of possible configuration is %e\n', W)\n",
"\n",
"//Sample Problem 21-5b\n",
"printf('\n**Sample Problem 21-5b**\n')\n",
"n1 = 100\n",
"n2 = 0\n",
"W = factorial(n)/(factorial(n1)*factorial(n2))\n",
"printf('The total number of possible configuration is %e', W)"
   ]
   }
],
"metadata": {
		  "kernelspec": {
		   "display_name": "Scilab",
		   "language": "scilab",
		   "name": "scilab"
		  },
		  "language_info": {
		   "file_extension": ".sce",
		   "help_links": [
			{
			 "text": "MetaKernel Magics",
			 "url": "https://github.com/calysto/metakernel/blob/master/metakernel/magics/README.md"
			}
		   ],
		   "mimetype": "text/x-octave",
		   "name": "scilab",
		   "version": "0.7.1"
		  }
		 },
		 "nbformat": 4,
		 "nbformat_minor": 0
}
