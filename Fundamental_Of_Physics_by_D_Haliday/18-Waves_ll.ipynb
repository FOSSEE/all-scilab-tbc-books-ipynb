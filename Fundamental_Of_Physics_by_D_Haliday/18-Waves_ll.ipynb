{
"cells": [
 {
		   "cell_type": "markdown",
	   "metadata": {},
	   "source": [
       "# Chapter 18: Waves ll"
	   ]
	},
{
		   "cell_type": "markdown",
		   "metadata": {},
		   "source": [
			"## Example 18.1: Sample_Problem_1.sce"
		   ]
		  },
  {
"cell_type": "code",
	   "execution_count": null,
	   "metadata": {
	    "collapsed": true
	   },
	   "outputs": [],
"source": [
"exec('degree_rad.sci', -1)\n",
"\n",
"//Given that\n",
"Vs = 1482  //in m/s\n",
"Vw = 343  //in m/s\n",
"\n",
"//Sample Problem 18-1\n",
"printf('**Sample Probelm 18-1**\n')\n",
"//deltaT = d/V = D*sin(theta)/V\n",
"//D*sin(90)/Vs = D*sin(theta)/Vw\n",
"theta = rtod(asin(Vw/Vs))\n",
"printf('The actual angle at which source is present, is %fdegree', theta)"
   ]
   }
,
{
		   "cell_type": "markdown",
		   "metadata": {},
		   "source": [
			"## Example 18.2: Sample_Problem_2.sce"
		   ]
		  },
  {
"cell_type": "code",
	   "execution_count": null,
	   "metadata": {
	    "collapsed": true
	   },
	   "outputs": [],
"source": [
"//Given that\n",
"deltaPm = 28  //in N/m^2\n",
"density = 1.21  //in kg/m^3\n",
"f = 1000  //in Hz\n",
"v = 343  //in m/s\n",
"\n",
"//Sample Problem 18-2\n",
"printf('**Sample Problem 18-2**\n')\n",
"w = 2*%pi*f\n",
"Sm = deltaPm/(v*density*w)\n",
"printf('The amplitude of sound will be %em', Sm)"
   ]
   }
,
{
		   "cell_type": "markdown",
		   "metadata": {},
		   "source": [
			"## Example 18.3: Sample_Problem_3.sce"
		   ]
		  },
  {
"cell_type": "code",
	   "execution_count": null,
	   "metadata": {
	    "collapsed": true
	   },
	   "outputs": [],
"source": [
"//Given that\n",
"D = 1.5  //times wavelength\n",
"\n",
"//Sample Problem 18-3a\n",
"printf('**Sample Problem 18-3a**\n')\n",
"deltaL = 0\n",
"printf('Waves undergo constructive interference at P1\n')\n",
"\n",
"//Sample Problem 18-3b\n",
"printf('\n**Sample Problem 18-3b**\n')\n",
"deltaL = D\n",
"deltaPhi = 1.5*2*%pi\n",
"if modulo((deltaPhi/%pi), 2)==0 then\n",
"    printf('Waves undergo constructive interference at P2\n')\n",
"else\n",
"    printf('Waves undergo desstructive interference at P2')\n",
"end"
   ]
   }
,
{
		   "cell_type": "markdown",
		   "metadata": {},
		   "source": [
			"## Example 18.4: Sample_Problem_4.sce"
		   ]
		  },
  {
"cell_type": "code",
	   "execution_count": null,
	   "metadata": {
	    "collapsed": true
	   },
	   "outputs": [],
"source": [
"//Given that\n",
"L = 10  //in meter\n",
"Ps = 1.6*10^4\n",
"\n",
"//Sample Problem 18-4a\n",
"printf('**Sample Problem 18-4a**\n')\n",
"r = 12  //in meter\n",
"I = Ps/(2*%pi*r*L)\n",
"printf('The intensity of the sound at a distance %dm is equal to %fW/m^2\n', r, I)\n",
"\n",
"//Sapmle Problem 18-4b\n",
"printf('\n**Sample Problem 18-4b**\n')\n",
"Ad = 2*10^-4  //in m^2\n",
"Pd = I*Ad\n",
"printf('The sound energy intercepted by the acoustic detector is %eW', Pd)"
   ]
   }
,
{
		   "cell_type": "markdown",
		   "metadata": {},
		   "source": [
			"## Example 18.5: Sample_Problem_5.sce"
		   ]
		  },
  {
"cell_type": "code",
	   "execution_count": null,
	   "metadata": {
	    "collapsed": true
	   },
	   "outputs": [],
"source": [
"//Given that\n",
"B2 = 120  //in dB\n",
"B1 = 92  //in dB\n",
"\n",
"//Sample Problem 18-5\n",
"printf('**Sample Problem 18-5**\n')\n",
"//B2 = 10 * log(I2/Io)\n",
"//B1 = 10 * log(I1/Io)\n",
"r = 10^((B2 - B1)/10)  //The ratio\n",
"printf('The Ratio of the intensities is %f', r)"
   ]
   }
,
{
		   "cell_type": "markdown",
		   "metadata": {},
		   "source": [
			"## Example 18.6: Sample_Problem_6.sce"
		   ]
		  },
  {
"cell_type": "code",
	   "execution_count": null,
	   "metadata": {
	    "collapsed": true
	   },
	   "outputs": [],
"source": [
"//Given that\n",
"L = 67*10^-2  //in cm\n",
"Vs = 343  //in m/s\n",
"\n",
"//Sample Problem 18-6a\n",
"printf('**Sample Problem 18-6a**\n')\n",
"//Open Ends\n",
"f = Vs/(2*L)\n",
"printf('The frequency of sound in case of open end is %fHz\n', f)\n",
"\n",
"//Sample Problem 18-6b\n",
"printf('\n**Sample Problem 18-6b**\n')\n",
"//cloes end\n",
"fo = Vs/(4*L)\n",
"printf('The frequency of sound in case of open ends is %fHz', fo)"
   ]
   }
,
{
		   "cell_type": "markdown",
		   "metadata": {},
		   "source": [
			"## Example 18.8: Sample_Problem_8.sce"
		   ]
		  },
  {
"cell_type": "code",
	   "execution_count": null,
	   "metadata": {
	    "collapsed": true
	   },
	   "outputs": [],
"source": [
"//Given that\n",
"v = 242  //in m/s\n",
"f = 1250  //in Hz\n",
"Vs = 343  //in m/s\n",
"\n",
"//Sample Problem 18-8a\n",
"printf('**Sample Problem 18-8a**\n')\n",
"F = (Vs/(Vs-v))*f\n",
"printf('The frequency measured by the detector on the pole is %fHz\n', F)\n",
"\n",
"//Sample Problem 18-8b\n",
"printf('\n**Sample Problem 18-8b**\n')\n",
"Fe = (Vs+v)/Vs*F\n",
"printf('The frequency measured by the detector on the rocket is %fHz', Fe)"
   ]
   }
],
"metadata": {
		  "kernelspec": {
		   "display_name": "Scilab",
		   "language": "scilab",
		   "name": "scilab"
		  },
		  "language_info": {
		   "file_extension": ".sce",
		   "help_links": [
			{
			 "text": "MetaKernel Magics",
			 "url": "https://github.com/calysto/metakernel/blob/master/metakernel/magics/README.md"
			}
		   ],
		   "mimetype": "text/x-octave",
		   "name": "scilab",
		   "version": "0.7.1"
		  }
		 },
		 "nbformat": 4,
		 "nbformat_minor": 0
}
