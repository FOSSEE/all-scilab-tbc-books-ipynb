{
"cells": [
 {
		   "cell_type": "markdown",
	   "metadata": {},
	   "source": [
       "# Chapter 44: Energy from the Nucleus"
	   ]
	},
{
		   "cell_type": "markdown",
		   "metadata": {},
		   "source": [
			"## Example 44.1: Sample_Problem_1.sce"
		   ]
		  },
  {
"cell_type": "code",
	   "execution_count": null,
	   "metadata": {
	    "collapsed": true
	   },
	   "outputs": [],
"source": [
"//Given that\n",
"M_U = 235.0439  //in Atomic mass unit\n",
"M_Ce = 139.9054  //in Atomic mass unit\n",
"M_Zr = 93.9063  //in Atomic mass unit\n",
"M_n = 1.00867  //in Atomic mass unit\n",
"uCsqure = 931.5  //in Mev\n",
"\n",
"//Sample Problem 44-1\n",
"txt = mopen('Example44_1_result.txt','wt')\n",
"mfprintf(txt, '**Sample Problem 44-1**\n')\n",
"Q = -((M_Ce + M_Zr + M_n) - M_U) * uCsqure\n",
"mfprintf(txt, 'The disintegration energy is %dMev', Q)\n",
"mclose(txt)"
   ]
   }
,
{
		   "cell_type": "markdown",
		   "metadata": {},
		   "source": [
			"## Example 44.2: Sample_Problem_2.sce"
		   ]
		  },
  {
"cell_type": "code",
	   "execution_count": null,
	   "metadata": {
	    "collapsed": true
	   },
	   "outputs": [],
"source": [
"//Given that\n",
"c = 3*10^8  //in m/s\n",
"e = 1.6*10^-19\n",
"conv = 3600*24  //day to sec conversion\n",
"Pgen = 3400*10^6  //in W\n",
"Pused = 1100*10^6  //in W\n",
"fuel = 8.60*10^4  //in kg\n",
"Q = 200*10^6*e  //in J\n",
"Uinitial = 8.6*10^4  //in kg\n",
"M_u = 3.90*10^-25   //in kg/atom\n",
"N = 5.70*10^4\n",
"p = 3/100\n",
"\n",
"txt = mopen('Example44_2_result.txt','wt')\n",
"//Sample Problem 44-2a\n",
"mfprintf(txt, '**Sample Problem 44-2a**\n')\n",
"eff = Pused/Pgen*100\n",
"mfprintf(txt, 'The efficiency of the power plant is %d\%\n', eff)\n",
"\n",
"//Sample Problem 44-2b\n",
"mfprintf(txt, '\n**Sample Problem 44-2b**\n')\n",
"R = Pgen/Q\n",
"mfprintf(txt, 'The fissions in the reactor per second is %e\n', R)\n",
"\n",
"//Sample Proble 44-2c\n",
"mfprintf(txt, '\n**Sample Problem 44-2c**\n')\n",
"RateDay = (1+0.25)*R*M_u*conv\n",
"mfprintf(txt, 'The uranium use in a day is equal to %fkg/day\n', RateDay)\n",
"\n",
"//Sample Problem 44-2d\n",
"mfprintf(txt, '\n**Sample Problem 44-2d**\n')\n",
"T = fuel*p/RateDay\n",
"mfprintf(txt, 'The U will long for %ddays\n', T)\n",
"\n",
"//Sample Problem 44-2e\n",
"mfprintf(txt, '\n**Sample Problem 44-2e**\n')\n",
"MassConvRate = Pgen/c^2\n",
"mfprintf(txt, 'The mass conversion rate is %ekg/s', MassConvRate)\n",
"mclose(txt)"
   ]
   }
,
{
		   "cell_type": "markdown",
		   "metadata": {},
		   "source": [
			"## Example 44.3: Sample_Problem_3.sce"
		   ]
		  },
  {
"cell_type": "code",
	   "execution_count": null,
	   "metadata": {
	    "collapsed": true
	   },
	   "outputs": [],
"source": [
"//Given that\n",
"ratio = 0.0072\n",
"T = 2.0*10^9  //in years\n",
"Th1 = 7.04*10^8  //in years\n",
"Th2 = 44.7*10^8  //in years\n",
"\n",
"//Sample Problem 44-3\n",
"txt = mopen('Example44_3_result.txt','wt')\n",
"mfprintf(txt, '**Sample Problem 44-3**\n')\n",
"l1 = log(2)/Th1\n",
"l2 = log(2)/Th2\n",
"ratioEarlier = ratio*%e^((l1 - l2)*T)\n",
"mfprintf(txt, 'The earlier ratio is equal to %f', ratioEarlier)\n",
"mclose(txt)"
   ]
   }
,
{
		   "cell_type": "markdown",
		   "metadata": {},
		   "source": [
			"## Example 44.4: Sample_Problem_4.sce"
		   ]
		  },
  {
"cell_type": "code",
	   "execution_count": null,
	   "metadata": {
	    "collapsed": true
	   },
	   "outputs": [],
"source": [
"//Given that\n",
"R = 10^-15  //in meter\n",
"e = 1.6*10^-19  //in coloumb\n",
"q1 = e\n",
"k = 9*10^9  //in SI unit\n",
"B = 1.38*10^-23  //in J/K\n",
"\n",
"txt = mopen('Example44_4_result.txt','wt')\n",
"//Sample Problem 44-4a\n",
"mfprintf(txt, '**Sample Problem 44-4a**\n')\n",
"K = k*q1^2/(2*R)/2\n",
"mfprintf(txt, 'The initial kinetic energy is equal to %dKev\n', K/e/10^3)\n",
"\n",
"//Sample Problem 44-4b\n",
"mfprintf(txt, '\n**Sample Problem 44-4b**\n')\n",
"T = 2*K/(3*B)  //B is Boltzman constant\n",
"mfprintf(txt, 'The temprature required to achieve that energy equal to %eK', T)\n",
"mclose(txt)"
   ]
   }
,
{
		   "cell_type": "markdown",
		   "metadata": {},
		   "source": [
			"## Example 44.5: Sample_Problem_5.sce"
		   ]
		  },
  {
"cell_type": "code",
	   "execution_count": null,
	   "metadata": {
	    "collapsed": true
	   },
	   "outputs": [],
"source": [
"//Sample Problem 44-5\n",
"txt = mopen('Example44_5_result.txt','wt')\n",
"mfprintf(txt, '**Sample Problem 44-5**\n')\n",
"MassRate = 4*1.67*10^-27/(4.20*10^-12)  //mass of proton required to produce 1 unit of energy \n",
"Ps = 3.90*10^26  //in W\n",
"Rate = MassRate*Ps\n",
"mfprintf(txt, 'The rate at which hydrogen is consumed is %ekg/s', Rate)\n",
"mclose(txt)"
   ]
   }
,
{
		   "cell_type": "markdown",
		   "metadata": {},
		   "source": [
			"## Example 44.6: Sample_Problem_6.sce"
		   ]
		  },
  {
"cell_type": "code",
	   "execution_count": null,
	   "metadata": {
	    "collapsed": true
	   },
	   "outputs": [],
"source": [
"//Given that\n",
"d = 200  //in kg/m^3\n",
"fac = 10^3\n",
"Na = 6.023*10^23\n",
"Mt = 3*10^-3  //in kg/mol\n",
"Md = 2*10^-3  //in kg/mol\n",
"\n",
"txt = mopen('Example44_6_result.txt','wt')\n",
"//Sample Problem 44-6a\n",
"mfprintf(txt, '**Sample Problem 44-6a**\n')\n",
"n = 2*fac *d *Na /(Mt + Md)\n",
"mfprintf(txt, 'The number of particle in unit volume is %em^-3\n', n)\n",
"\n",
"//Sample Problem 44-6b\n",
"mfprintf(txt, '\n**Sample Problem 44-6b**\n')\n",
"TauMin = 10^20/n\n",
"mfprintf(txt, 'The duration of time, pallet can maintain is of the order of %esec', TauMin)\n",
"mclose(txt)"
   ]
   }
],
"metadata": {
		  "kernelspec": {
		   "display_name": "Scilab",
		   "language": "scilab",
		   "name": "scilab"
		  },
		  "language_info": {
		   "file_extension": ".sce",
		   "help_links": [
			{
			 "text": "MetaKernel Magics",
			 "url": "https://github.com/calysto/metakernel/blob/master/metakernel/magics/README.md"
			}
		   ],
		   "mimetype": "text/x-octave",
		   "name": "scilab",
		   "version": "0.7.1"
		  }
		 },
		 "nbformat": 4,
		 "nbformat_minor": 0
}
