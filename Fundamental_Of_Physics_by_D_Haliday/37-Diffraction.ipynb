{
"cells": [
 {
		   "cell_type": "markdown",
	   "metadata": {},
	   "source": [
       "# Chapter 37: Diffraction"
	   ]
	},
{
		   "cell_type": "markdown",
		   "metadata": {},
		   "source": [
			"## Example 37.1: Sample_Problem_1.sce"
		   ]
		  },
  {
"cell_type": "code",
	   "execution_count": null,
	   "metadata": {
	    "collapsed": true
	   },
	   "outputs": [],
"source": [
"exec('degree_rad.sci', -1)\n",
"\n",
"//Given that\n",
"lambda = 650*10^-9  //in meter\n",
"theta = dtor(15)  //in radians\n",
"\n",
"//Sample Problem 37-1a\n",
"printf('**Sample Problem 37-1a**\n')\n",
"//We know that [a*sin(theta) = m*lambda] for m=Integer\n",
"m = 1\n",
"a = m*lambda/sin(theta)\n",
"printf('The slit width is equal to %fnm\n', a*10^9)\n",
"\n",
"//Sample Problem 37-1b\n",
"printf('\n**Sample Problem 37-1b**\n')\n",
"m = 3/2  //for first side maxima\n",
"lambdaDESH = a*sin(theta)/ m\n",
"printf('The wavelength of the light is equal to %fnm', lambdaDESH*10^9)"
   ]
   }
,
{
		   "cell_type": "markdown",
		   "metadata": {},
		   "source": [
			"## Example 37.2: Sample_Problem_2.sce"
		   ]
		  },
  {
"cell_type": "code",
	   "execution_count": null,
	   "metadata": {
	    "collapsed": true
	   },
	   "outputs": [],
"source": [
"//Sample Problem 37-2\n",
"printf('**Sample Problem 37-2**\n')\n",
"I = [];\n",
"for m = 1:3\n",
"   theta = (m+.5)*%pi\n",
"      I = [I, (sin(theta)/theta)^2]\n",
"end\n",
"printf('The intensities of secondary maximas relative to intensity of CBF is-\n')\n",
"printf('\tI1/Im = %.4f\n', I(1))\n",
"printf('\tI2/Im = %.4f\n', I(2))\n",
"printf('\tI3/Im = %.4f', I(3))"
   ]
   }
,
{
		   "cell_type": "markdown",
		   "metadata": {},
		   "source": [
			"## Example 37.3: Sample_Problem_3.sce"
		   ]
		  },
  {
"cell_type": "code",
	   "execution_count": null,
	   "metadata": {
	    "collapsed": true
	   },
	   "outputs": [],
"source": [
"//Given that\n",
"d = 32*10^-3  //in meter\n",
"f= 24*10^-2  //in meter\n",
"lam = 550*10^-9  //in meter\n",
"\n",
"//Sample Problem 37-3a\n",
"printf('**Sample Problem 37-3a**\n')\n",
"theta = 1.22*lam/d\n",
"printf('Angular sepration should be equal to %erad\n', theta)\n",
"\n",
"//Sample Problem 37-3b\n",
"printf('\n**Sample Problem 37-3b**\n')\n",
"deltaX = f*theta\n",
"printf('The sepration between the two images is %em', deltaX)"
   ]
   }
,
{
		   "cell_type": "markdown",
		   "metadata": {},
		   "source": [
			"## Example 37.4: Sample_Problem_4.sce"
		   ]
		  },
  {
"cell_type": "code",
	   "execution_count": null,
	   "metadata": {
	    "collapsed": true
	   },
	   "outputs": [],
"source": [
"//Given that\n",
"l = 405*10^-9  //in meter\n",
"d = 19.44*10^-6  //in meter\n",
"a = 4.050*10^-6  //in meter\n",
"\n",
"//Sample Problem 37-4a\n",
"printf('**Sample Problem 37-4a**\n')\n",
"n = floor(d/a)\n",
"printf('The number of bright fringes are %d\n', 2*n+1)\n",
"\n",
"//Sample Problem 37-4b\n",
"printf('\n**Sample Problem 37-4b**\n')\n",
"num = ceil(2*d/a)\n",
"printf('The number of bright fringes within either of the first side peak is %d', num/2 - 1)"
   ]
   }
,
{
		   "cell_type": "markdown",
		   "metadata": {},
		   "source": [
			"## Example 37.5: Sample_Problem_5.sce"
		   ]
		  },
  {
"cell_type": "code",
	   "execution_count": null,
	   "metadata": {
	    "collapsed": true
	   },
	   "outputs": [],
"source": [
"exec('degree_rad.sci', -1)\n",
"\n",
"//Given that\n",
"N = 1.26*10^4\n",
"w = 25.4*10^-3  //in meter\n",
"l1 = 589*10^-9  //in meter\n",
"l2 = 589.59*10^-9  //in meter\n",
"\n",
"//Sample Problem 37-5a\n",
"printf('**Sample Problem 37-5a**\n')\n",
"d = w/N\n",
"m = 1\n",
"theta = asin(m*l1/d)\n",
"theta = rtod(theta)\n",
"printf('The first order maxima occurs at an angle of %fdegree from the center\n', theta)\n",
"\n",
"//Sample Problem 37-5b\n",
"printf('\n**Sample Problem 37-5b**\n')\n",
"theta = rtod(theta)\n",
"D = m/(d*cos(theta))\n",
"deltaL = l2-l1\n",
"deltaTHETA = D*deltaL\n",
"printf('The anglar sepration between the two first orderlines is %erad\n', deltaTHETA)\n",
"\n",
"//Sample Problem 37-5c\n",
"printf('\n**Sample Problem 37-5c**\n')\n",
"Lavg = (l1+l2)/2\n",
"R = Lavg/(m*deltaL)\n",
"N = R/m\n",
"printf('The least number of rulings a grating can have is %d', N)"
   ]
   }
],
"metadata": {
		  "kernelspec": {
		   "display_name": "Scilab",
		   "language": "scilab",
		   "name": "scilab"
		  },
		  "language_info": {
		   "file_extension": ".sce",
		   "help_links": [
			{
			 "text": "MetaKernel Magics",
			 "url": "https://github.com/calysto/metakernel/blob/master/metakernel/magics/README.md"
			}
		   ],
		   "mimetype": "text/x-octave",
		   "name": "scilab",
		   "version": "0.7.1"
		  }
		 },
		 "nbformat": 4,
		 "nbformat_minor": 0
}
