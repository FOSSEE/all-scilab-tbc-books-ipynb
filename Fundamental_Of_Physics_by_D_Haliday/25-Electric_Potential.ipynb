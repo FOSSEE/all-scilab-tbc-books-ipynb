{
"cells": [
 {
		   "cell_type": "markdown",
	   "metadata": {},
	   "source": [
       "# Chapter 25: Electric Potential"
	   ]
	},
{
		   "cell_type": "markdown",
		   "metadata": {},
		   "source": [
			"## Example 25.1: Sample_Problem_1.sce"
		   ]
		  },
  {
"cell_type": "code",
	   "execution_count": null,
	   "metadata": {
	    "collapsed": true
	   },
	   "outputs": [],
"source": [
"exec('electrostatics.sci', -1)\n",
"\n",
"//Given that\n",
"E = 150  //in N/C\n",
"d = -520  //in meter\n",
"\n",
"//Sample Problem 25-1\n",
"printf('**Sample Problem 25-1**\n')\n",
"W = E*(-e)*d\n",
"deltaU = -W\n",
"printf('The change in potential energy is %eJ', deltaU)"
   ]
   }
,
{
		   "cell_type": "markdown",
		   "metadata": {},
		   "source": [
			"## Example 25.3: Sample_Problem_3.sce"
		   ]
		  },
  {
"cell_type": "code",
	   "execution_count": null,
	   "metadata": {
	    "collapsed": true
	   },
	   "outputs": [],
"source": [
"exec('electrostatics.sci', -1)\n",
"\n",
"//Given that\n",
"d = 1.3  //in meter\n",
"q1 = 12*10^-9  //in C\n",
"q2 = -24*10^-9  //in C\n",
"q3 = +31*10^-9  //in C\n",
"q4 = 17*10^-9  //in C\n",
"\n",
"//Sample Problem 25-3\n",
"printf('**Sample Problem 25-3**\n')\n",
"V = EPotential(q1+q2+q3+q4, d/sqrt(2))\n",
"printf('The electric potential at point P is equal to %eV', V)"
   ]
   }
,
{
		   "cell_type": "markdown",
		   "metadata": {},
		   "source": [
			"## Example 25.4: Sample_Problem_4.sce"
		   ]
		  },
  {
"cell_type": "code",
	   "execution_count": null,
	   "metadata": {
	    "collapsed": true
	   },
	   "outputs": [],
"source": [
"exec('electrostatics.sci', -1)\n",
"\n",
"//Given that\n",
"n = 12\n",
"qT = -n*e\n",
"R = 1  //(say)\n",
"\n",
"//Sample Problem 25-4a\n",
"printf('**Sample Problem 25-4a**\n')\n",
"V = EPotential(qT, R)\n",
"printf('The electric potential at the center is equal to %e/R Volts', V)\n",
"\n",
"//Sample Problem 25-4b\n",
"printf('**Sample Problem 25-4b**\n')\n",
"printf('It does not change in this configuration')"
   ]
   }
,
{
		   "cell_type": "markdown",
		   "metadata": {},
		   "source": [
			"## Example 25.6: Sample_Problem_6.sce"
		   ]
		  },
  {
"cell_type": "code",
	   "execution_count": null,
	   "metadata": {
	    "collapsed": true
	   },
	   "outputs": [],
"source": [
"exec('electrostatics.sci', -1)\n",
"\n",
"//Given that\n",
"d = 12*10^-2  //in cm\n",
"q = 150*10^-9   //in C\n",
"q1 = +q\n",
"q2 = -4*q\n",
"q3 = +2*q\n",
"\n",
"//Sample Problem 25-6\n",
"printf('**Sample Problem 25-6**\n')\n",
"U = EPotential(q1, d)*q2 + EPotential(q2, d)*q3 + EPotential(q3, d)*q1\n",
"printf('The electric potential energy of the system is equal to %eJ', U)"
   ]
   }
],
"metadata": {
		  "kernelspec": {
		   "display_name": "Scilab",
		   "language": "scilab",
		   "name": "scilab"
		  },
		  "language_info": {
		   "file_extension": ".sce",
		   "help_links": [
			{
			 "text": "MetaKernel Magics",
			 "url": "https://github.com/calysto/metakernel/blob/master/metakernel/magics/README.md"
			}
		   ],
		   "mimetype": "text/x-octave",
		   "name": "scilab",
		   "version": "0.7.1"
		  }
		 },
		 "nbformat": 4,
		 "nbformat_minor": 0
}
