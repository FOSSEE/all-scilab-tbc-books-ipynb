{
"cells": [
 {
		   "cell_type": "markdown",
	   "metadata": {},
	   "source": [
       "# Chapter 43: Nuclear Physics"
	   ]
	},
{
		   "cell_type": "markdown",
		   "metadata": {},
		   "source": [
			"## Example 43.10: Sample_Problem_10.sce"
		   ]
		  },
  {
"cell_type": "code",
	   "execution_count": null,
	   "metadata": {
	    "collapsed": true
	   },
	   "outputs": [],
"source": [
"//Given that\n",
"e = 1.6*10^-19  //conversion from electron volt to Joule\n",
"deltaE = 0.20*e\n",
"h = 6.62*10^-34  //in J.s\n",
"\n",
"//Sample Problem 43-10\n",
"txt = mopen('Example43_10_result.txt','wt')\n",
"mfprintf(txt, '**Sample Problem 43-9**\n')\n",
"Tavg = h/(2*%pi)/deltaE\n",
"mfprintf(txt, 'The average life of the compound is %esec', Tavg)\n",
"mclose(txt)"
   ]
   }
,
{
		   "cell_type": "markdown",
		   "metadata": {},
		   "source": [
			"## Example 43.1: Sample_Problem_1.sce"
		   ]
		  },
  {
"cell_type": "code",
	   "execution_count": null,
	   "metadata": {
	    "collapsed": true
	   },
	   "outputs": [],
"source": [
"//Given that\n",
"e = 1.6*10^-19  //ev to joule conversion\n",
"E = 5.30*10^6*e  //in Joules\n",
"n = 79  //number of protons\n",
"\n",
"//Sample Problem 43-1\n",
"txt = mopen('Example43_1_result.txt','wt')\n",
"mfprintf(txt, '**Sample Problem 43-1**\n')\n",
"K = 9*10^9  //in SI unit\n",
"q1 = 2*e\n",
"q2 = n*e\n",
"//K*q1*q2/d = E\n",
"d = K*q1*q2/E\n",
"mfprintf(txt, 'The distance of the alpha particles from gold nucleus is equal to %em', d)\n",
"mclose(txt)"
   ]
   }
,
{
		   "cell_type": "markdown",
		   "metadata": {},
		   "source": [
			"## Example 43.2: Sample_Problem_2.sce"
		   ]
		  },
  {
"cell_type": "code",
	   "execution_count": null,
	   "metadata": {
	    "collapsed": true
	   },
	   "outputs": [],
"source": [
"//Sample Problem 43-2\n",
"txt = mopen('Example43_2_result.txt','wt')\n",
"mfprintf(txt, '**Sample Problem 43-2**\n')\n",
"A = 1  //say for the purpose of calculation\n",
"Mp = 1.67*10^-27\n",
"Mass = A*Mp\n",
"Rnot = 1.2*10^-15\n",
"r = Rnot*A^(1/3)\n",
"Volume = 4/3*%pi*r^3\n",
"density = Mass/Volume\n",
"mfprintf(txt, 'The density of nucleus is %eKg/m^3', density)\n",
"mclose(txt)"
   ]
   }
,
{
		   "cell_type": "markdown",
		   "metadata": {},
		   "source": [
			"## Example 43.3: Sample_Problem_3.sce"
		   ]
		  },
  {
"cell_type": "code",
	   "execution_count": null,
	   "metadata": {
	    "collapsed": true
	   },
	   "outputs": [],
"source": [
"//Given that\n",
"Nn = 70\n",
"Np = 50\n",
"A = Nn+Np\n",
"\n",
"//Sample Problem 43-3\n",
"txt = mopen('Example43_3_result.txt','wt')\n",
"mfprintf(txt, '**Sample Problem 43-3**\n')\n",
"Msn = 119.902199  //in Atomic mass unit\n",
"uCsqure = 931.5  //in Mev\n",
"Mp = 1.007825  //in Atomic mass unit\n",
"Mn = 1.008625  //in Atomic mass unit\n",
"deltaE = (Np*Mp + Nn*Mn - Msn)*uCsqure/A\n",
"mfprintf(txt, 'The binding energy per nucleon of Sn is %fMev/nucleon', deltaE)\n",
"mclose(txt)"
   ]
   }
,
{
		   "cell_type": "markdown",
		   "metadata": {},
		   "source": [
			"## Example 43.4: Sample_Problem_4.sce"
		   ]
		  },
  {
"cell_type": "code",
	   "execution_count": null,
	   "metadata": {
	    "collapsed": true
	   },
	   "outputs": [],
"source": [
"//Sample Problem 43-4\n",
"txt = mopen('Example43_4_result.txt','wt')\n",
"mfprintf(txt, '**Sample Problem 43-4**\n')\n",
"slope = (0-6.2)/(225-0)\n",
"lambda = -slope\n",
"mfprintf(txt, 'The disintegration constant for the radionuclide is %fmin-1\n', lambda)\n",
"Th = log(2)/lambda\n",
"mfprintf(txt, 'The half life is equal to %dmin', Th)\n",
"mclose(txt)"
   ]
   }
,
{
		   "cell_type": "markdown",
		   "metadata": {},
		   "source": [
			"## Example 43.5: Sample_Problem_5.sce"
		   ]
		  },
  {
"cell_type": "code",
	   "execution_count": null,
	   "metadata": {
	    "collapsed": true
	   },
	   "outputs": [],
"source": [
"//Given that\n",
"M = 2.71  //in g\n",
"R = 4490  //in Bq\n",
"fraction = 1.17/100\n",
"Mo = 74.555  //gm/mol\n",
"Na = 6.023*10^23  //n /mol\n",
"\n",
"//Sample Problem 43-5\n",
"txt = mopen('Example43_5_result.txt','wt')\n",
"mfprintf(txt, '**Sample Problem 43-5**\n')\n",
"Nk = Na * M * fraction/Mo\n",
"Th = log(2)*Nk/R\n",
"mfprintf(txt, 'The half life of the substance is %eSec', Th)"
   ]
   }
,
{
		   "cell_type": "markdown",
		   "metadata": {},
		   "source": [
			"## Example 43.6: Sample_Problem_6.sce"
		   ]
		  },
  {
"cell_type": "code",
	   "execution_count": null,
	   "metadata": {
	    "collapsed": true
	   },
	   "outputs": [],
"source": [
"//Given that\n",
"uCsqure = 931.5  //in Mev\n",
"M_H = 1.007825  //in Atomic mass unit\n",
"M_U  = 238.05079  //in Atomic mass unit\n",
"M_Th = 234.04363  //in Atomic mass unit\n",
"M_He = 4.00260  //in Atomic mass unit\n",
"M_Pa = 237.05121  //in Atomic mass unit\n",
"\n",
"txt = mopen('Example43_6_result.txt','wt')\n",
"//Sample Problem 43-6a\n",
"mfprintf(txt, '**Sample Problem 43-6a**\n')\n",
"Q = (M_U - (M_Th + M_He)) * uCsqure\n",
"mfprintf(txt, 'Energy released during alpha decay of uranium is %fMev\n', Q)\n",
"\n",
"//Sample Problem 43-6b\n",
"mfprintf(txt, '\n**Sample Problem 43-6b**\n')\n",
"Q = (M_U - (M_Pa + M_H)) * uCsqure\n",
"if(Q<0) \n",
"    mfprintf(txt, 'It cannot emit a proton spontaneously')\n",
"else\n",
"    mfprintf(txt, 'It can emit proton spontaneously')\n",
"end\n",
"mclose(txt)"
   ]
   }
,
{
		   "cell_type": "markdown",
		   "metadata": {},
		   "source": [
			"## Example 43.7: Sample_Problem_7.sce"
		   ]
		  },
  {
"cell_type": "code",
	   "execution_count": null,
	   "metadata": {
	    "collapsed": true
	   },
	   "outputs": [],
"source": [
"//Given that\n",
"M_P = 31.97391  //in u\n",
"M_S = 31.97207 //in u\n",
"uCsqure = 931.5  //in Mev\n",
"\n",
"//Sample Problem 43-7\n",
"txt = mopen('Example43_7_result.txt','wt')\n",
"mfprintf(txt, '**Sample Problem 43-7**\n')\n",
"Q = -(M_S - M_P)*uCsqure\n",
"mfprintf(txt, 'The disintegration energy for the beta decay of Phosphorus is %fMev', Q)\n",
"mclose(txt)"
   ]
   }
,
{
		   "cell_type": "markdown",
		   "metadata": {},
		   "source": [
			"## Example 43.8: Sample_Problem_8.sce"
		   ]
		  },
  {
"cell_type": "code",
	   "execution_count": null,
	   "metadata": {
	    "collapsed": true
	   },
	   "outputs": [],
"source": [
"//Given that\n",
"ratio = 10.3\n",
"Th = 1.25*10^9  //in years\n",
"\n",
"//Sample Problem 43-8\n",
"txt = mopen('Example43_8_result.txt','wt')\n",
"mfprintf(txt, '**Sample Problem 43-8**\n')\n",
"t = Th * log(1 + ratio)/log(2) \n",
"mfprintf(txt, 'The life of rock is %eyears', t)\n",
"mclose(txt)"
   ]
   }
,
{
		   "cell_type": "markdown",
		   "metadata": {},
		   "source": [
			"## Example 43.9: Sample_Problem_9.sce"
		   ]
		  },
  {
"cell_type": "code",
	   "execution_count": null,
	   "metadata": {
	    "collapsed": true
	   },
	   "outputs": [],
"source": [
"//Given that\n",
"dose = 3  //in J/kg\n",
"c = 4180  //in J.kg/K\n",
"m = 1  //(say)\n",
"\n",
"//Sample problem 43-9\n",
"txt = mopen('Example43_9_result.txt','wt')\n",
"mfprintf(txt, '**Sample Problem 43-9**\n')\n",
"deltaT = (dose/m)/c\n",
"mfprintf(txt, 'The change in temprature of the body is %eK', deltaT)\n",
"mclose(txt)"
   ]
   }
],
"metadata": {
		  "kernelspec": {
		   "display_name": "Scilab",
		   "language": "scilab",
		   "name": "scilab"
		  },
		  "language_info": {
		   "file_extension": ".sce",
		   "help_links": [
			{
			 "text": "MetaKernel Magics",
			 "url": "https://github.com/calysto/metakernel/blob/master/metakernel/magics/README.md"
			}
		   ],
		   "mimetype": "text/x-octave",
		   "name": "scilab",
		   "version": "0.7.1"
		  }
		 },
		 "nbformat": 4,
		 "nbformat_minor": 0
}
