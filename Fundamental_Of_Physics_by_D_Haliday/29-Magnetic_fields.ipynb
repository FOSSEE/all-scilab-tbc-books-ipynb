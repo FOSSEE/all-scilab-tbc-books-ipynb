{
"cells": [
 {
		   "cell_type": "markdown",
	   "metadata": {},
	   "source": [
       "# Chapter 29: Magnetic fields"
	   ]
	},
{
		   "cell_type": "markdown",
		   "metadata": {},
		   "source": [
			"## Example 29.1: Sample_Problem_1.sce"
		   ]
		  },
  {
"cell_type": "code",
	   "execution_count": null,
	   "metadata": {
	    "collapsed": true
	   },
	   "outputs": [],
"source": [
"//Given that\n",
"B = 1.2*10^-3  //in T\n",
"e = 1.6*10^-19  //in C\n",
"K = 5.3*10^6*e  //in J\n",
"m = 1.6*10^-27  //in kg\n",
"\n",
"//Sample Problem 29-1\n",
"printf('**Sample Problem 29-1**\n')\n",
"v = sqrt(2*K/m)\n",
"F = e*v*B\n",
"printf('The magnitude of magnetic force acting on the proton is %eN', F)"
   ]
   }
,
{
		   "cell_type": "markdown",
		   "metadata": {},
		   "source": [
			"## Example 29.2: Sample_Problem_2.sce"
		   ]
		  },
  {
"cell_type": "code",
	   "execution_count": null,
	   "metadata": {
	    "collapsed": true
	   },
	   "outputs": [],
"source": [
"//Given that\n",
"d = 1.5*10^-2  //in meter\n",
"v = 4.0  //in m/s\n",
"B = 0.050  //in T\n",
"\n",
"//Sample Problem 29-2a\n",
"printf('**Sample Problem 29-2a**\n')\n",
"//force is in right direction\n",
"printf('The right surface will be at high potential\n')\n",
"\n",
"//Sample Problem 29-2b\n",
"printf('\n**Sample Problem 29-2b**\n')\n",
"F = v*B  //force per unit charge\n",
"deltaU = d*F  //energy per unit charge = potential difference\n",
"printf('The potential difference between the two surface is %1.1eV', deltaU)"
   ]
   }
,
{
		   "cell_type": "markdown",
		   "metadata": {},
		   "source": [
			"## Example 29.3: Sample_Problem_3.sce"
		   ]
		  },
  {
"cell_type": "code",
	   "execution_count": null,
	   "metadata": {
	    "collapsed": true
	   },
	   "outputs": [],
"source": [
"//Given that\n",
"B = 80*10^-3  //in T\n",
"V = 1000.0  //in V\n",
"q = 1.6022*10^-19  //in C\n",
"x = 1.6254  //in m\n",
"conv = 1.6605*10^-27  //in kg/u\n",
"\n",
"//Sample Problem 29-3\n",
"printf('**Sample Problem 29-3**\n')\n",
"m = poly(0, 'm')\n",
"r = x/2\n",
"//r = m*v/(q*B)\n",
"//v  = q*B*r/m\n",
"m = 0.5*(q*r*B)^2/V/q\n",
"printf('The mass of the particle is %ekg', m)"
   ]
   }
,
{
		   "cell_type": "markdown",
		   "metadata": {},
		   "source": [
			"## Example 29.4: Sample_Problem_4.sce"
		   ]
		  },
  {
"cell_type": "code",
	   "execution_count": null,
	   "metadata": {
	    "collapsed": true
	   },
	   "outputs": [],
"source": [
"exec('degree_rad.sci', -1)\n",
"\n",
"//Given that\n",
"e = 1.6*10^-19\n",
"K = 22.5*e  //in J\n",
"B = 4.55*10^-4  //in T\n",
"theta = dtor(65.5)\n",
"m = 9.11*10^-31  //in kg\n",
"\n",
"//Sample Problem 29-4\n",
"printf('**Sample Problem 29-4**\n')\n",
"q = e\n",
"v = sqrt(2*K/m)\n",
"r = m*v*sin(theta)/(q*B)\n",
"T = 2*%pi*r/(v*sin(theta))\n",
"p = v*cos(theta)*T\n",
"printf('The pitch of the electron is equal to %fm', p)"
   ]
   }
,
{
		   "cell_type": "markdown",
		   "metadata": {},
		   "source": [
			"## Example 29.5: Sample_Problem_5.sce"
		   ]
		  },
  {
"cell_type": "code",
	   "execution_count": null,
	   "metadata": {
	    "collapsed": true
	   },
	   "outputs": [],
"source": [
"//Given that\n",
"f = 12*10^6  //in Hz\n",
"R = 53*10^-2  //in m\n",
"q = 1.6*10^-19  //in C\n",
"m = 3.34*10^-27  //in kg\n",
"\n",
"//Sample Problem 29-5a\n",
"printf('**Sample Problem 29-5a**\n')\n",
"B = 2*%pi*m*f/q\n",
"printf('The magnitude of magnetic field should be %fT\n', B)\n",
"\n",
"//Sample Problem 29-5b\n",
"printf('\n**Sample Problem 29-5b**\n')\n",
"v = q*B*R/m\n",
"K = 0.5*m*v^2\n",
"printf('The kinetic energy of the deuteron will be %eJ', K)"
   ]
   }
,
{
		   "cell_type": "markdown",
		   "metadata": {},
		   "source": [
			"## Example 29.6: Sample_Problem_6.sce"
		   ]
		  },
  {
"cell_type": "code",
	   "execution_count": null,
	   "metadata": {
	    "collapsed": true
	   },
	   "outputs": [],
"source": [
"//Given that\n",
"i = 28  //in A\n",
"LD = 46.6*10^-3  //in kg/m\n",
"g = 9.8  //in m/s^2\n",
"\n",
"//Sample Problem 29-6\n",
"printf('**Sample Problem 29-6**\n')\n",
"L = 1  //(say)\n",
"m = LD*L\n",
"B = m*g/i/L\n",
"printf('The minimum magnetic field required to suspend the wire is equal to %eT', B)"
   ]
   }
,
{
		   "cell_type": "markdown",
		   "metadata": {},
		   "source": [
			"## Example 29.7: Sample_Problem_7.sce"
		   ]
		  },
  {
"cell_type": "code",
	   "execution_count": null,
	   "metadata": {
	    "collapsed": true
	   },
	   "outputs": [],
"source": [
"//Given that\n",
"h = 2.1*10^-2  //in m\n",
"w = 1.2*10^-2  //in m\n",
"n = 250\n",
"B = 0.23  //in T\n",
"i = 100*10^-6  //in A\n",
"theta = 28  //in degree\n",
"\n",
"//Sample Problem 29-7\n",
"printf('**Sample Problem 29-7**\n')\n",
"A = h*w\n",
"T = B*i*n*A\n",
"k = T/theta\n",
"printf('The value of constant k is equal to %eN.m/degree', k)"
   ]
   }
,
{
		   "cell_type": "markdown",
		   "metadata": {},
		   "source": [
			"## Example 29.8: Sample_Problem_8.sce"
		   ]
		  },
  {
"cell_type": "code",
	   "execution_count": null,
	   "metadata": {
	    "collapsed": true
	   },
	   "outputs": [],
"source": [
"//Given that\n",
"n = 250\n",
"A = 2.52*10^-4  //in m^2\n",
"i = 100*10^-6  //in A\n",
"B = 0.85  //in T\n",
"\n",
"//Sample Problem 29-8\n",
"printf('**Sample Problem 29-8**\n')\n",
"mu = n*i*A\n",
"U1 = -mu*B*cos(%pi/2)\n",
"U2 = -mu*B*cos(0)\n",
"W = U1 - U2\n",
"printf('Work done is equal to %eJ', W)"
   ]
   }
],
"metadata": {
		  "kernelspec": {
		   "display_name": "Scilab",
		   "language": "scilab",
		   "name": "scilab"
		  },
		  "language_info": {
		   "file_extension": ".sce",
		   "help_links": [
			{
			 "text": "MetaKernel Magics",
			 "url": "https://github.com/calysto/metakernel/blob/master/metakernel/magics/README.md"
			}
		   ],
		   "mimetype": "text/x-octave",
		   "name": "scilab",
		   "version": "0.7.1"
		  }
		 },
		 "nbformat": 4,
		 "nbformat_minor": 0
}
