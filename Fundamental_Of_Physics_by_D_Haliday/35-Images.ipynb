{
"cells": [
 {
		   "cell_type": "markdown",
	   "metadata": {},
	   "source": [
       "# Chapter 35: Images"
	   ]
	},
{
		   "cell_type": "markdown",
		   "metadata": {},
		   "source": [
			"## Example 35.1: Sample_Problem_1.sce"
		   ]
		  },
  {
"cell_type": "code",
	   "execution_count": null,
	   "metadata": {
	    "collapsed": true
	   },
	   "outputs": [],
"source": [
"//Given that\n",
"h = 1  //(say)\n",
"f = 40  //in cm\n",
"hdash = .20*h\n",
"\n",
"//Sample Problem 35-1a\n",
"printf('**Sample Problem 35-1a**\n')\n",
"printf('The image is virtual & on the opposite side of mirror because of having same orientation\n')\n",
"\n",
"//Sample Problem 35-1b\n",
"printf('\n**Sample Problem 35-1b**\n')\n",
"printf('The height of image is smaller than the object. Therefore, the mirror is concave\n')"
   ]
   }
,
{
		   "cell_type": "markdown",
		   "metadata": {},
		   "source": [
			"## Example 35.2: Sample_Problem_2.sce"
		   ]
		  },
  {
"cell_type": "code",
	   "execution_count": null,
	   "metadata": {
	    "collapsed": true
	   },
	   "outputs": [],
"source": [
"//Given that\n",
"n1 = 1.6\n",
"n2 = 1.00\n",
"R  = -3.0  //in mm\n",
"i = -5.0  //in mm\n",
"\n",
"//Sample Problem 35-2\n",
"printf('**Sample Problem 35-2**\n')\n",
"//n1/d + n2/i = (n2-n1)/R\n",
"d = n1/(- n2/i + (n2-n1)/R)\n",
"printf('The real depth of the mosquito is %1.2fmm', d)"
   ]
   }
,
{
		   "cell_type": "markdown",
		   "metadata": {},
		   "source": [
			"## Example 35.3: Sample_Problem_3.sce"
		   ]
		  },
  {
"cell_type": "code",
	   "execution_count": null,
	   "metadata": {
	    "collapsed": true
	   },
	   "outputs": [],
"source": [
"//Given that\n",
"Xo = -20  //in cm\n",
"m = -0.25\n",
"n = 1.65\n",
"\n",
"//Sample Problem 35-3a\n",
"printf('**Sample Problem 35-3a**\n')\n",
"printf('The image is real real because m<0 as well as m<1\n')\n",
"printf('The mens is converging because magnification is negative for real image\n')\n",
"printf('The object is outside the focal length because m<1\n')\n",
"printf('The image is on the opposite side of the image from the lens\n')\n",
"printf('The image is erect\n')\n",
"\n",
"//Sample Problem 35-3b\n",
"printf('\n**Sample Problem 35-3b**\n')\n",
"f = Xo*m*Xo/(Xo-m*Xo)\n",
"R = (n-1)*2*f\n",
"printf('The radius of curvature of the lens is %1.2fcm', f)"
   ]
   }
,
{
		   "cell_type": "markdown",
		   "metadata": {},
		   "source": [
			"## Example 35.4: Sample_Problem_4.sce"
		   ]
		  },
  {
"cell_type": "code",
	   "execution_count": null,
	   "metadata": {
	    "collapsed": true
	   },
	   "outputs": [],
"source": [
"//Given that\n",
"L= 10  //in cm\n",
"f1 = 24  //in cm\n",
"f2 = 9  //in cm\n",
"xo = -6  //in cm\n",
"\n",
"//Sample Problem 35-4\n",
"printf('**Sample Problem 35-4**\n')\n",
"xi1 = xo*f1/(xo+f1)\n",
"xo2 = xi1 - L\n",
"xi2 = xo2*f2/(xo2+f2)\n",
"printf('The final image will be at a distance of %dcm from the second mirror', xi2)"
   ]
   }
],
"metadata": {
		  "kernelspec": {
		   "display_name": "Scilab",
		   "language": "scilab",
		   "name": "scilab"
		  },
		  "language_info": {
		   "file_extension": ".sce",
		   "help_links": [
			{
			 "text": "MetaKernel Magics",
			 "url": "https://github.com/calysto/metakernel/blob/master/metakernel/magics/README.md"
			}
		   ],
		   "mimetype": "text/x-octave",
		   "name": "scilab",
		   "version": "0.7.1"
		  }
		 },
		 "nbformat": 4,
		 "nbformat_minor": 0
}
