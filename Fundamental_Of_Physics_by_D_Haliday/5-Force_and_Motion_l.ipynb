{
"cells": [
 {
		   "cell_type": "markdown",
	   "metadata": {},
	   "source": [
       "# Chapter 5: Force and Motion l"
	   ]
	},
{
		   "cell_type": "markdown",
		   "metadata": {},
		   "source": [
			"## Example 5.1: Sample_Problem_1.sce"
		   ]
		  },
  {
"cell_type": "code",
	   "execution_count": null,
	   "metadata": {
	    "collapsed": true
	   },
	   "outputs": [],
"source": [
"exec('degree_rad.sci',-1)\n",
"\n",
"//Given that\n",
"m = .20   //in kg\n",
"F_1 = 4 * [1,0]\n",
"F_2 = 2 * [-1,0]\n",
"F_3 = 1 * [cos(dtor(30)),sin(dtor(30))]\n",
"\n",
"//Sample Problebb  nmkn nm 5-1\n",
"printf('**Sample Problem 5-1**\n')\n",
"acceleration_a = F_1(1)/m\n",
"acceleration_b = F_2(1)/m\n",
"acceleration_c = (F_2(1) + F_3(1))/m\n",
"printf('The acceleration of puck in case a is %d m/s^2\n',acceleration_a)\n",
"printf('The acceleration of puck in case b is %d m/s^2\n',acceleration_b)\n",
"printf('The acceleration of puck in case c is %f  m/s^2\n',acceleration_c)"
   ]
   }
,
{
		   "cell_type": "markdown",
		   "metadata": {},
		   "source": [
			"## Example 5.2: Sample_Problem_2.sce"
		   ]
		  },
  {
"cell_type": "code",
	   "execution_count": null,
	   "metadata": {
	    "collapsed": true
	   },
	   "outputs": [],
"source": [
"exec('degree_rad.sci',-1)\n",
"\n",
"//Given that\n",
"mass = 2  //in kg\n",
"acceleration = 3 * [cos(dtor(50)),sin(dtor(50))]  //in m/s^2\n",
"F1 = 10 * [cos(dtor(180+30)),sin(dtor(180+30))]   //in N\n",
"F2 = 20 * [0,1]    //in N\n",
"\n",
"//Sample Problem 5-2\n",
"printf('**Sample Problem 5-2**\n')\n",
"//from newton's first law\n",
"//F1 + F2 + F3 = mass * acceleration\n",
"F3 =  mass * acceleration - F2 - F1\n",
"printf('The third Force vector F3 in N is')\n",
"disp(F3)\n",
"printf('The magnitude F3 is %f m/s\n', norm(F3))\n",
"printf('The angle made by F3 with the x axis in degrees %f', rtod(atan(F3(2)/F3(1))))"
   ]
   }
,
{
		   "cell_type": "markdown",
		   "metadata": {},
		   "source": [
			"## Example 5.3: Sample_Problem_3.sce"
		   ]
		  },
  {
"cell_type": "code",
	   "execution_count": null,
	   "metadata": {
	    "collapsed": true
	   },
	   "outputs": [],
"source": [
"exec('degree_rad.sci',-1)\n",
"\n",
"//GIven that\n",
"F_A = 220 * [cos(dtor(180-47)),sin(dtor(180-47))]   //in N\n",
"F_B_dir =  [0,-1]\n",
"F_C_mag = 170  //in N\n",
"\n",
"//Sample Problem 5-3\n",
"printf('**Sample Problem 5-3**\n')\n",
"//net sum of three forces must be zero\n",
"phi = acos(- F_A(1) / F_C_mag)\n",
"F_B_mag = F_C_mag * sin(phi) + F_A(2)\n",
"printf('The magnitude of Bettys force is %f N', F_B_mag)"
   ]
   }
,
{
		   "cell_type": "markdown",
		   "metadata": {},
		   "source": [
			"## Example 5.4: Sample_Problem_4.sce"
		   ]
		  },
  {
"cell_type": "code",
	   "execution_count": null,
	   "metadata": {
	    "collapsed": true
	   },
	   "outputs": [],
"source": [
"exec('degree_rad.sci',-1)\n",
"\n",
"//Given that\n",
"g = 10  //in m/s^2\n",
"mass = 80  //in kg\n",
"theta = 30  //in degrees\n",
"Force_applied = 2.5 * mass * g * [cos(dtor(theta)),sin(dtor(theta))]\n",
"W_car = 7 * 10^5  //in N\n",
"distance = 1  //in meter\n",
"\n",
"//Sample Problem 5-4\n",
"printf('**Sample Problem 5-4**\n')\n",
"//using Newtons first law\n",
"acceleration = Force_applied(1) / (W_car /g)\n",
"//using newtons third equation of motion\n",
"v_final = sqrt(2 * acceleration * distance)\n",
"printf('The velocity after trevelling 1 m distance is %f m/s', v_final)"
   ]
   }
,
{
		   "cell_type": "markdown",
		   "metadata": {},
		   "source": [
			"## Example 5.5: Sample_Problem_5.sce"
		   ]
		  },
  {
"cell_type": "code",
	   "execution_count": null,
	   "metadata": {
	    "collapsed": true
	   },
	   "outputs": [],
"source": [
"//Given that\n",
"g = 9.8  //in m/s^2\n",
"M = 3.3  //in kg\n",
"m = 2.1 //in kg\n",
"\n",
"//Sample Problem 5-5\n",
"printf('**Sample Problem 5-5**\n')\n",
"//from FBD1\n",
"//both will have common acceleration\n",
"//mg - T = ma\n",
"//T = Ma\n",
"//adding -> mg = (M+m)a\n",
"a = m * g /(M + m)\n",
"T = m *g - m *a\n",
"printf('The acceleration of both the blocks is %f m/s^2\n', a)\n",
"printf('The tension in the string is %f N', T)"
   ]
   }
,
{
		   "cell_type": "markdown",
		   "metadata": {},
		   "source": [
			"## Example 5.6: Sample_Problem_6.sce"
		   ]
		  },
  {
"cell_type": "code",
	   "execution_count": null,
	   "metadata": {
	    "collapsed": true
	   },
	   "outputs": [],
"source": [
"exec('degree_rad.sci', -1)\n",
"\n",
"//Given that\n",
"g = 9.8  //in m/s^2\n",
"m = 15  //in kg\n",
"//from FBD\n",
"T = m *g\n",
"\n",
"//Sample Problem 5-6\n",
"printf('**Sample Problem 5-6**\n')\n",
"//we have-\n",
"//T1cos(28) - T2cos(47) = 0\n",
"//T1sin(28) + T2sin(47) = T\n",
"//therefore\n",
"mat_1 = [cos(dtor(28)),-cos(dtor(47));sin(dtor(28)),sin(dtor(47))]\n",
"mat_2 = [0 ; T]\n",
"//wr have -> mat_1 * ans = mat_2\n",
"mat_ans = inv(mat_1) * mat_2\n",
"printf('The tension in the first chord is %f N\n', mat_ans(1,1))\n",
"printf('The tension in the second chord is %f N\n', mat_ans(2,1))\n",
"printf('The tension in the third chord is %f N', T)"
   ]
   }
,
{
		   "cell_type": "markdown",
		   "metadata": {},
		   "source": [
			"## Example 5.7: Sample_Problem_7.sce"
		   ]
		  },
  {
"cell_type": "code",
	   "execution_count": null,
	   "metadata": {
	    "collapsed": true
	   },
	   "outputs": [],
"source": [
"exec('degree_rad.sci', -1)\n",
"\n",
"//Given that\n",
"m = 15  //in kg\n",
"g = 9.8  //in m/s^2\n",
"T = m* g* sin(dtor(27))\n",
"N = m* g* cos(dtor(27))\n",
"\n",
"//Sample Problem 5-7a\n",
"printf('**Sample Problem 5-7a**\n')\n",
"printf('The tension in the chord is %f N\n', T)\n",
"printf('The Normal force is %f N\n', N)\n",
"\n",
"//Sample Problem 5-7b\n",
"printf('\n**Sample Problem 5-7b**\n')\n",
"a = g * sin(dtor(27))\n",
"printf('The acceleration of block after cutting the chord is %f m/s^2', a)"
   ]
   }
,
{
		   "cell_type": "markdown",
		   "metadata": {},
		   "source": [
			"## Example 5.8: Sample_Problem_8.sce"
		   ]
		  },
  {
"cell_type": "code",
	   "execution_count": null,
	   "metadata": {
	    "collapsed": true
	   },
	   "outputs": [],
"source": [
"//Given that\n",
"g = 9.8  //in m/s^2\n",
"m = 72.2  //in kg\n",
"\n",
"//Sample Problem 5-8a\n",
"printf('**Sample Problem 5-8a**\n')\n",
"scale_read_b = m *g\n",
"printf('The reading of the scale in case a is %f ', scale_read_b)\n",
"\n",
"//Sample Problem 5-8b\n",
"printf('**Sample Problem 5-8b**\n')\n",
"//N - mg = ma\n",
"a_U = 3.2  //in m/s^2\n",
"scale_read_c_U = m * (g + a_U)\n",
"printf('The reading of the scale in case b if cab moves upaward is %f\n', scale_read_c_U)\n",
"a_D = -3.2  //in m/s^2\n",
"scale_read_c_D = m * (g + a_D)\n",
"printf('The reading of the scale in case b if cab moves downaward is %f\n', scale_read_c_D)\n",
"\n",
"//Sample Problem 5-8b\n",
"printf('\n**Sample Problem 5-8b**\n')\n",
"//using newtons second law => net force = mass * acceleration\n",
"F_net = m *a_U\n",
"printf('The net force on passenger during upward journey is %f N\n', F_net)\n",
"printf('The acceleration of passenger in the frame if cab is 0')"
   ]
   }
,
{
		   "cell_type": "markdown",
		   "metadata": {},
		   "source": [
			"## Example 5.9: Sample_Problem_9.sce"
		   ]
		  },
  {
"cell_type": "code",
	   "execution_count": null,
	   "metadata": {
	    "collapsed": true
	   },
	   "outputs": [],
"source": [
"//Sample Problem 5-9a\n",
"F_ap = 20  //in N\n",
"m_A = 4  //in kg\n",
"m_B = 6  //in kg\n",
"\n",
"//Sample Problem 5-9a\n",
"printf('**Sample Problem 5-9a**\n')\n",
"ac = F_ap /(m_A + m_B)\n",
"printf('The comon acceleration of the blocks is %f m/s^2\n', ac)\n",
"\n",
"//Sample Problem 5-9b\n",
"printf('\n**Sample Problem 5-9b**\n')\n",
"//from FBD of A\n",
"//F - F_AB = m_A * a\n",
"F_AB = F_ap - m_A *ac\n",
"printf('The force on block B by Block A is %f N', F_AB)"
   ]
   }
],
"metadata": {
		  "kernelspec": {
		   "display_name": "Scilab",
		   "language": "scilab",
		   "name": "scilab"
		  },
		  "language_info": {
		   "file_extension": ".sce",
		   "help_links": [
			{
			 "text": "MetaKernel Magics",
			 "url": "https://github.com/calysto/metakernel/blob/master/metakernel/magics/README.md"
			}
		   ],
		   "mimetype": "text/x-octave",
		   "name": "scilab",
		   "version": "0.7.1"
		  }
		 },
		 "nbformat": 4,
		 "nbformat_minor": 0
}
