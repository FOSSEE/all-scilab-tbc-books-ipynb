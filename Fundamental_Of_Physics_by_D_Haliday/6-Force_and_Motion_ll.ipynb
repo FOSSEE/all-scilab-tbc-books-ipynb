{
"cells": [
 {
		   "cell_type": "markdown",
	   "metadata": {},
	   "source": [
       "# Chapter 6: Force and Motion ll"
	   ]
	},
{
		   "cell_type": "markdown",
		   "metadata": {},
		   "source": [
			"## Example 6.1: Sample_Problem_1.sce"
		   ]
		  },
  {
"cell_type": "code",
	   "execution_count": null,
	   "metadata": {
	    "collapsed": true
	   },
	   "outputs": [],
"source": [
"//Given that\n",
"mu_k = 0.6\n",
"d = 290  //in meter\n",
"g = 9.8 //in m/s^2\n",
"v_final = 0\n",
"\n",
"//Sample Problem 6-1\n",
"printf('**Sample Problem 6-1**\n')\n",
"//using newton's 3rd equation of motion\n",
"ac = - mu_k * g  //due to friction hence a negative sign\n",
"v_initial = sqrt(v_final^2 - 2 * ac * d)\n",
"printf('The inital velocity of that car would have been %f m/s', v_initial)"
   ]
   }
,
{
		   "cell_type": "markdown",
		   "metadata": {},
		   "source": [
			"## Example 6.2: Sample_Problem_2.sce"
		   ]
		  },
  {
"cell_type": "code",
	   "execution_count": null,
	   "metadata": {
	    "collapsed": true
	   },
	   "outputs": [],
"source": [
"exec('degree_rad.sci',-1)\n",
"\n",
"//GIven that\n",
"g = 9.8  //in /s^2\n",
"mass = 75  //in kg\n",
"mu_k = 0.10\n",
"phi = dtor(42)\n",
"\n",
"//Sample Problem 6-2a\n",
"printf('**Sample Problem 6-2a**\n')\n",
"//T * cos(phi)- mu_k * N = 0\n",
"//T * sin(phi) + N = mass * g\n",
"mat_A = [cos(phi),-mu_k;sin(phi),1]\n",
"mat_B = [0 ;mass * g]\n",
"F = inv(mat_A) * mat_B\n",
"printf('The Tension in the string is %f N\n', F(1))\n",
"\n",
"//Sample Problem 6-2b\n",
"printf('\n**Sample Problem 6-2b**\n')\n",
"printf('The force of friction will not change')"
   ]
   }
,
{
		   "cell_type": "markdown",
		   "metadata": {},
		   "source": [
			"## Example 6.3: Sample_Problem_3.sce"
		   ]
		  },
  {
"cell_type": "code",
	   "execution_count": null,
	   "metadata": {
	    "collapsed": true
	   },
	   "outputs": [],
"source": [
"exec('degree_rad.sci',-1)\n",
"\n",
"//Given that\n",
"theta = dtor(13)\n",
"\n",
"//Sample Problem 6-3\n",
"printf('**Sample Problem 6-3**\n')\n",
"//N = mg cos(theta)\n",
"//f_s = mg sin(theta)\n",
"//dividing->\n",
"//f_s/N = tan(theta)\n",
"mu_s = tan(theta)\n",
"printf('The value of coefficient of static friction is %f', mu_s)"
   ]
   }
,
{
		   "cell_type": "markdown",
		   "metadata": {},
		   "source": [
			"## Example 6.4: Sample_Problem_4.sce"
		   ]
		  },
  {
"cell_type": "code",
	   "execution_count": null,
	   "metadata": {
	    "collapsed": true
	   },
	   "outputs": [],
"source": [
"//Given that\n",
"v1 = 97  //in km/hr\n",
"//Assuming\n",
"A1 = 1 \n",
"//therefore\n",
"A2 = 2\n",
"\n",
"//Sample Problem 6-4\n",
"printf('**Sample Problem 6-4**\n')\n",
"//the terminal velocity is inversly proportional to squre root of area\n",
"v2 = v1 * sqrt(A1/A2)\n",
"printf('The final velocity of cat will be %f km/hr', v2)"
   ]
   }
,
{
		   "cell_type": "markdown",
		   "metadata": {},
		   "source": [
			"## Example 6.5: Sample_Problem_5.sce"
		   ]
		  },
  {
"cell_type": "code",
	   "execution_count": null,
	   "metadata": {
	    "collapsed": true
	   },
	   "outputs": [],
"source": [
"//Given that\n",
"g = 9.8  //in m/s^2\n",
"Radius = 1.5 * 10^-3  //in meter\n",
"height = 1200  //in meter\n",
"C_drag = 0.60\n",
"density_water = 1000  //in kg/m^3\n",
"density_air = 1.2  //in kg/m^3\n",
"\n",
"//Sample Problem 6-5a\n",
"printf('**Sample Problem 6-5a**\n')\n",
"//v_t = sqrt(2*F_g/(C*density*A))\n",
"volume_drop = 4/3*%pi*Radius^3\n",
"mass_drop = density_water *volume_drop\n",
"Area_drop = %pi *Radius^2\n",
"v_terminal = sqrt(2*mass_drop*g/(C_drag*density_air*Area_drop))\n",
"printf('The terminal velocity will be %f m/s\n', v_terminal)\n",
"\n",
"//Sample Problem 6-5b\n",
"printf('\n**Sample Problem 6-5b**\n')\n",
"v_without_drag = sqrt(2 *g * height)\n",
"printf('The velocity just before the impact if there were no drag force would be %f m/s', v_without_drag)"
   ]
   }
,
{
		   "cell_type": "markdown",
		   "metadata": {},
		   "source": [
			"## Example 6.6: Sample_Problem_6.sce"
		   ]
		  },
  {
"cell_type": "code",
	   "execution_count": null,
	   "metadata": {
	    "collapsed": true
	   },
	   "outputs": [],
"source": [
"//Given that\n",
"Radius_earth = 6.37 * 10^6\n",
"h_alti = 520 * 10^3  //in meter\n",
"velocity = 7.6 * 10^3  //in m/s converted from km/s\n",
"mass = 79  //in kg\n",
"\n",
"//Sample Problem 6-6a\n",
"printf('**Sample Problem 6-6a**\n')\n",
"acce = velocity^2/(h_alti + Radius_earth)\n",
"printf('The acceleration is equal to %f m/s^2\n', acce)\n",
"\n",
"//Sample Problem 6-5b\n",
"printf('\n**Sample Problem 6-6b**\n')\n",
"Force_total  = mass * acce\n",
"printf('The net force is equal ro %f N', Force_total)"
   ]
   }
,
{
		   "cell_type": "markdown",
		   "metadata": {},
		   "source": [
			"## Example 6.7: Sample_Problem_7.sce"
		   ]
		  },
  {
"cell_type": "code",
	   "execution_count": null,
	   "metadata": {
	    "collapsed": true
	   },
	   "outputs": [],
"source": [
"//Given that\n",
"g = 9.8  //in m/s^2\n",
"Radius = 2.7  //in meter\n",
"\n",
"//Sample Problem 6-7\n",
"printf('**Sample Problem 6-7**\n')\n",
"//The velocity at highest point is equal to sqrt(gR)\n",
"velocity_topmost = sqrt(g * Radius)\n",
"printf('The velocity of ball at the topmost point would be %f m/s', velocity_topmost)"
   ]
   }
,
{
		   "cell_type": "markdown",
		   "metadata": {},
		   "source": [
			"## Example 6.8: Sample_Problem_8.sce"
		   ]
		  },
  {
"cell_type": "code",
	   "execution_count": null,
	   "metadata": {
	    "collapsed": true
	   },
	   "outputs": [],
"source": [
"//Given that\n",
"g = 9.8  //in m/s^2\n",
"R = 2.1  //in m\n",
"mu_s = 0.40\n",
"\n",
"//Sample Problem 6-8a\n",
"printf('**Sample Problem 6-8a**\n')\n",
"//N = mv^2/R\n",
"//mg = mu_s * N\n",
"//mg = mu_s * m*v^2/R\n",
"//v = sqrt(g*R/mu_s)\n",
"v_min = sqrt(g*R/mu_s)\n",
"printf('The minimum spped of the cylender should be %f m/s\n', v_min)\n",
"\n",
"//Sample Problem 6-8b\n",
"printf('\n**Sample Problem 6-8b**\n')\n",
"mass = 49  //in kg\n",
"c_force = mass * v_min^2/R\n",
"printf('The Centripetal force on the rider would be %f N', c_force)"
   ]
   }
,
{
		   "cell_type": "markdown",
		   "metadata": {},
		   "source": [
			"## Example 6.9: Sample_Problem_9.sce"
		   ]
		  },
  {
"cell_type": "code",
	   "execution_count": null,
	   "metadata": {
	    "collapsed": true
	   },
	   "outputs": [],
"source": [
"//Given that\n",
"g = 9.8  //in m/s^2\n",
"mass = 1600  //in kg\n",
"v_cons = 20  //in m/s\n",
"R_track = 190  //in meter\n",
"\n",
"//Sample Problem 6-9\n",
"printf('**Sample Problem 6-9**\n')\n",
"N = mass * g\n",
"f_s = mass * v_cons^2 /R_track\n",
"mu_s = f_s/N\n",
"printf('The coefficient of static friction for the given surface is %f', mu_s)"
   ]
   }
],
"metadata": {
		  "kernelspec": {
		   "display_name": "Scilab",
		   "language": "scilab",
		   "name": "scilab"
		  },
		  "language_info": {
		   "file_extension": ".sce",
		   "help_links": [
			{
			 "text": "MetaKernel Magics",
			 "url": "https://github.com/calysto/metakernel/blob/master/metakernel/magics/README.md"
			}
		   ],
		   "mimetype": "text/x-octave",
		   "name": "scilab",
		   "version": "0.7.1"
		  }
		 },
		 "nbformat": 4,
		 "nbformat_minor": 0
}
