{
"cells": [
 {
		   "cell_type": "markdown",
	   "metadata": {},
	   "source": [
       "# Chapter 8: DC motors"
	   ]
	},
{
		   "cell_type": "markdown",
		   "metadata": {},
		   "source": [
			"## Example 8.1: speed.sce"
		   ]
		  },
  {
"cell_type": "code",
	   "execution_count": null,
	   "metadata": {
	    "collapsed": true
	   },
	   "outputs": [],
"source": [
"//Example 8.1 // speed\n",
"clc;\n",
"clear;\n",
"close;\n",
"//given data :\n",
"pi=22/7;\n",
"s=22; // shaft of the motor in hp\n",
"Tsh=210; // torue in hp\n",
"N=(s*60*746)/(2*pi*Tsh);\n",
"disp(N,'speed,N(rpm) = ')"
   ]
   }
,
{
		   "cell_type": "markdown",
		   "metadata": {},
		   "source": [
			"## Example 8.2_a: Bhp.sce"
		   ]
		  },
  {
"cell_type": "code",
	   "execution_count": null,
	   "metadata": {
	    "collapsed": true
	   },
	   "outputs": [],
"source": [
"//Example 8.2.a: bhp \n",
"clc;\n",
"clear;\n",
"close;\n",
"//given data :\n",
"V=230; // voltage in volts\n",
"I=72; // current in A\n",
"W=V*I;\n",
"s=968; // stray losses\n",
"Rsh=115; // shunt field resistance in ohm\n",
"Ra=0.5;// armature resistance in ohm\n",
"Ish=V/Rsh;// shunt field resistance\n",
"Ia=I-Ish;\n",
"Eb=V-(Ia*Ra);// back emf in volts\n",
"Dpd=Eb*Ia;// driving power developed\n",
"Mpo=Dpd-s;\n",
"bhp=Mpo/746;\n",
"disp(bhp,'bhp = ')"
   ]
   }
,
{
		   "cell_type": "markdown",
		   "metadata": {},
		   "source": [
			"## Example 8.2_b: copper_losses.sce"
		   ]
		  },
  {
"cell_type": "code",
	   "execution_count": null,
	   "metadata": {
	    "collapsed": true
	   },
	   "outputs": [],
"source": [
"//Example 8.2.b: copper losses \n",
"clc;\n",
"clear;\n",
"close;\n",
"//given data :\n",
"V=230; // voltage in volts\n",
"I=72; // current in A\n",
"W=V*I;\n",
"s=968; // stray losses\n",
"Rsh=115; // shunt field resistance in ohm\n",
"Ra=0.5;// armature resistance in ohm\n",
"Ish=V/Rsh;// shunt field resistance\n",
"Ia=I-Ish;\n",
"Eb=V-(Ia*Ra);// back emf in volts\n",
"Dpd=Eb*Ia;// driving power developed\n",
"Mpo=Dpd-s;\n",
"bhp=Mpo/746;\n",
"c_losses=W-Dpd;\n",
"disp(c_losses,'copper losses(W) = ')"
   ]
   }
,
{
		   "cell_type": "markdown",
		   "metadata": {},
		   "source": [
			"## Example 8.2_c: armature_torque.sce"
		   ]
		  },
  {
"cell_type": "code",
	   "execution_count": null,
	   "metadata": {
	    "collapsed": true
	   },
	   "outputs": [],
"source": [
"//Example 8.2.c: armature torque\n",
"clc;\n",
"clear;\n",
"close;\n",
"//given data :\n",
"N=955; // in r.p.m\n",
"V=230; // voltage in volts\n",
"I=72; // current in A\n",
"W=V*I;\n",
"s=968; // stray losses\n",
"Rsh=115; // shunt field resistance in ohm\n",
"Ra=0.5;// armature resistance in ohm\n",
"Ish=V/Rsh;// shunt field resistance\n",
"Ia=I-Ish;\n",
"Eb=V-(Ia*Ra);// back emf in volts\n",
"Dpd=Eb*Ia;// driving power developed\n",
"Mpo=Dpd-s;\n",
"bhp=Mpo/746;\n",
"c_losses=W-Dpd;\n",
"Ta=(9.55*Eb*Ia)/N;\n",
"disp(Ta,'torque armature,Ta(N-m) = ')"
   ]
   }
,
{
		   "cell_type": "markdown",
		   "metadata": {},
		   "source": [
			"## Example 8.2_d: shaft_torque.sce"
		   ]
		  },
  {
"cell_type": "code",
	   "execution_count": null,
	   "metadata": {
	    "collapsed": true
	   },
	   "outputs": [],
"source": [
"//Example 8.2.d: shaft torque\n",
"clc;\n",
"clear;\n",
"close;\n",
"//given data :\n",
"pi=22/7; \n",
"N=955; // in r.p.m\n",
"V=230; // voltage in volts\n",
"I=72; // current in A\n",
"W=V*I;\n",
"s=968; // stray losses\n",
"Rsh=115; // shunt field resistance in ohm\n",
"Ra=0.5;// armature resistance in ohm\n",
"Ish=V/Rsh;// shunt field resistance\n",
"Ia=I-Ish;\n",
"Eb=V-(Ia*Ra);// back emf in volts\n",
"Dpd=Eb*Ia;// driving power developed\n",
"Mpo=Dpd-s;\n",
"bhp=Mpo/746;\n",
"c_losses=W-Dpd;\n",
"Ta=(9.55*Eb*Ia)/N;\n",
"Tsh=(bhp*60*746)/(2*pi*N);\n",
"disp(Tsh,'shaft torque,Tsh(N-m) = ')"
   ]
   }
,
{
		   "cell_type": "markdown",
		   "metadata": {},
		   "source": [
			"## Example 8.2_e: lost_torque.sce"
		   ]
		  },
  {
"cell_type": "code",
	   "execution_count": null,
	   "metadata": {
	    "collapsed": true
	   },
	   "outputs": [],
"source": [
"//Example 8.2.e: lost torque\n",
"clc;\n",
"clear;\n",
"close;\n",
"//given data :\n",
"pi=22/7; \n",
"N=955; // in r.p.m\n",
"V=230; // voltage in volts\n",
"I=72; // current in A\n",
"W=V*I;\n",
"s=968; // stray losses\n",
"Rsh=115; // shunt field resistance in ohm\n",
"Ra=0.5;// armature resistance in ohm\n",
"Ish=V/Rsh;// shunt field resistance\n",
"Ia=I-Ish;\n",
"Eb=V-(Ia*Ra);// back emf in volts\n",
"Dpd=Eb*Ia;// driving power developed\n",
"Mpo=Dpd-s;\n",
"bhp=Mpo/746;\n",
"c_losses=W-Dpd;\n",
"Ta=(9.55*Eb*Ia)/N;\n",
"Tsh=(bhp*60*746)/(2*pi*N);\n",
"Tl=Ta-Tsh;\n",
"disp(Tl,'lost torque,Tl(N-m) = ')"
   ]
   }
,
{
		   "cell_type": "markdown",
		   "metadata": {},
		   "source": [
			"## Example 8.2_f: commercial_efficiency.sce"
		   ]
		  },
  {
"cell_type": "code",
	   "execution_count": null,
	   "metadata": {
	    "collapsed": true
	   },
	   "outputs": [],
"source": [
"//Example 8.2.f: commercial efficiency\n",
"clc;\n",
"clear;\n",
"close;\n",
"//given data :\n",
"pi=22/7; \n",
"N=955; // in r.p.m\n",
"V=230; // voltage in volts\n",
"I=72; // current in A\n",
"W=V*I;\n",
"s=968; // stray losses\n",
"Rsh=115; // shunt field resistance in ohm\n",
"Ra=0.5;// armature resistance in ohm\n",
"Ish=V/Rsh;// shunt field resistance\n",
"Ia=I-Ish;\n",
"Eb=V-(Ia*Ra);// back emf in volts\n",
"Dpd=Eb*Ia;// driving power developed\n",
"Mpo=Dpd-s;\n",
"bhp=Mpo/746;\n",
"c_losses=W-Dpd;\n",
"Ta=(9.55*Eb*Ia)/N;\n",
"Tsh=(bhp*60*746)/(2*pi*N);\n",
"Tl=Ta-Tsh;\n",
"eta=(Mpo/W)*100;\n",
"disp(eta,'commercial efficioency,eta(%) = ')"
   ]
   }
,
{
		   "cell_type": "markdown",
		   "metadata": {},
		   "source": [
			"## Example 8.3: speed.sce"
		   ]
		  },
  {
"cell_type": "code",
	   "execution_count": null,
	   "metadata": {
	    "collapsed": true
	   },
	   "outputs": [],
"source": [
"//Example 8.3 // speed\n",
"clc;\n",
"clear;\n",
"close;\n",
"V=230;// in volts\n",
" I=5;// in amperes\n",
" rpm=914;//turns\n",
" ra=0.5;//resistance of armature in ihms\n",
" rsh=115;//shunt field in ohms\n",
" Il=30;// in amperes\n",
" ar=10;// in percent\n",
" Ish=V/rsh;// in amperes\n",
" anl=I-Ish;//armature current in amperes at no load\n",
" al=Il-Ish;//armature currentin amperes at load\n",
" Eb1=(V-anl*ra);//back emf at no load\n",
" Eb2=(V-al*ra);//back emf at load\n",
" ph1=100;//\n",
" ph2=90;//\n",
" Ns=(rpm*Eb2*ph1)/(Eb1*ph2);//speed when loaded in rpm\n",
" disp(Ns,'speed when loaded in rpm')"
   ]
   }
,
{
		   "cell_type": "markdown",
		   "metadata": {},
		   "source": [
			"## Example 8.4_a: stray_losses.sce"
		   ]
		  },
  {
"cell_type": "code",
	   "execution_count": null,
	   "metadata": {
	    "collapsed": true
	   },
	   "outputs": [],
"source": [
"//Example 8.4.a // stray losses\n",
"clc;\n",
"clear;\n",
"close;\n",
"Il=83;// WHEN LOADED IN AMPERES\n",
"V=110;// in volts\n",
"I=5;// in amperes without load\n",
"ra=0.5;//armature resistance in ohms\n",
"rsh=110;//shunt field in ohms\n",
"Ish=V/rsh;// in ampere\n",
" anl=I-Ish;//armature current in amperes at no load\n",
" al=Il-Ish;//armature currentin amperes at load\n",
" Eb1=(V-anl*ra);//back emf at no load\n",
" Eb2=(V-al*ra);//back emf at load\n",
" Dp=Eb1*anl;//driving power at no load in watt\n",
" Dpl=Eb2*al;//driving power at load in watt\n",
" mo=Dpl-Dp;//out of motor in watt\n",
"disp(Dp,'stray losses in watt')"
   ]
   }
,
{
		   "cell_type": "markdown",
		   "metadata": {},
		   "source": [
			"## Example 8.4_b: horsepower_of_the_motor.sce"
		   ]
		  },
  {
"cell_type": "code",
	   "execution_count": null,
	   "metadata": {
	    "collapsed": true
	   },
	   "outputs": [],
"source": [
"//Example 8.4.b // horse power\n",
"clc;\n",
"clear;\n",
"close;\n",
"Il=83;// WHEN LOADED IN AMPERES\n",
"V=110;// in volts\n",
"I=5;// in amperes without load\n",
"ra=0.5;//armature resistance in ohms\n",
"rsh=110;//shunt field in ohms\n",
"Ish=V/rsh;// in ampere\n",
" anl=I-Ish;//armature current in amperes at no load\n",
" al=Il-Ish;//armature currentin amperes at load\n",
" Eb1=(V-anl*ra);//back emf at no load\n",
" Eb2=(V-al*ra);//back emf at load\n",
" Dp=Eb1*anl;//driving power at no load in watt\n",
" Dpl=Eb2*al;//driving power at load in watt\n",
" mo=Dpl-Dp;//out of motor in watt\n",
" bhp=mo/746;//horse power\n",
"disp(bhp,'horse power in ampere is')"
   ]
   }
,
{
		   "cell_type": "markdown",
		   "metadata": {},
		   "source": [
			"## Example 8.4_c: efficiency.sce"
		   ]
		  },
  {
"cell_type": "code",
	   "execution_count": null,
	   "metadata": {
	    "collapsed": true
	   },
	   "outputs": [],
"source": [
"//Example 8.4.c // efficiency\n",
"clc;\n",
"clear;\n",
"close;\n",
"Il=83;// WHEN LOADED IN AMPERES\n",
"V=110;// in volts\n",
"I=5;// in amperes without load\n",
"ra=0.5;//armature resistance in ohms\n",
"rsh=110;//shunt field in ohms\n",
"Ish=V/rsh;// in ampere\n",
" anl=I-Ish;//armature current in amperes at no load\n",
" al=Il-Ish;//armature currentin amperes at load\n",
" Eb1=(V-anl*ra);//back emf at no load\n",
" Eb2=(V-al*ra);//back emf at load\n",
" Dp=Eb1*anl;//driving power at no load in watt\n",
" Dpl=Eb2*al;//driving power at load in watt\n",
" mo=Dpl-Dp;//out of motor in watt\n",
" bhp=mo/746;//horse power\n",
" mi=V*al;//input power in watt\n",
" n=(mo/mi)*100;//efficiency in percentage\n",
"disp(n,'efficiency of motor when it is work on full ,load in percentage is')\n",
"//answer is wrong in the textbook"
   ]
   }
,
{
		   "cell_type": "markdown",
		   "metadata": {},
		   "source": [
			"## Example 8.5_a: back_emf.sce"
		   ]
		  },
  {
"cell_type": "code",
	   "execution_count": null,
	   "metadata": {
	    "collapsed": true
	   },
	   "outputs": [],
"source": [
"//Example 8.5.a // back emf\n",
"clc;\n",
"clear;\n",
"close;\n",
"V=230;// in volts\n",
" I=60;// in amperes\n",
" rpm=955;//turns\n",
" ra=0.2;//resistance of armature in ihms\n",
" rsh=0.15;//shunt field in ohms\n",
" sl=604;//stray losses in watts\n",
" Rm=ra+rsh;// in ohms\n",
" Eb=(V-I*Rm);// back emf in volts\n",
" disp(Eb,'back emf in volts')"
   ]
   }
,
{
		   "cell_type": "markdown",
		   "metadata": {},
		   "source": [
			"## Example 8.5_b: copper_losses.sce"
		   ]
		  },
  {
"cell_type": "code",
	   "execution_count": null,
	   "metadata": {
	    "collapsed": true
	   },
	   "outputs": [],
"source": [
"//Example 8.5.b // copper losses\n",
"clc;\n",
"clear;\n",
"close;\n",
"V=230;// in volts\n",
" I=60;// in amperes\n",
" rpm=955;//turns\n",
" ra=0.2;//resistance of armature in ihms\n",
" rsh=0.15;//shunt field in ohms\n",
" sl=604;//stray losses in watts\n",
" Rm=ra+rsh;// in ohms\n",
" Eb=(V-I*Rm);// back emf in volts\n",
" Dp=Eb*I;//driving power in watts\n",
" mi=V*I;//input power in watts\n",
" Cl=mi-Dp;// copper losses in watts\n",
" disp(Cl,'copper losses in watts')"
   ]
   }
,
{
		   "cell_type": "markdown",
		   "metadata": {},
		   "source": [
			"## Example 8.5_c: Bhp.sce"
		   ]
		  },
  {
"cell_type": "code",
	   "execution_count": null,
	   "metadata": {
	    "collapsed": true
	   },
	   "outputs": [],
"source": [
"//Example 8.5.c //horse power\n",
"clc;\n",
"clear;\n",
"close;\n",
"V=230;// in volts\n",
" I=60;// in amperes\n",
" rpm=955;//turns\n",
" ra=0.2;//resistance of armature in ihms\n",
" rsh=0.15;//shunt field in ohms\n",
" sl=604;//stray losses in watts\n",
" Rm=ra+rsh;// in ohms\n",
" Eb=(V-I*Rm);// back emf in volts\n",
" Dp=Eb*I;//driving power in watts\n",
" mi=V*I;//input power in watts\n",
" Cl=mi-Dp;// copper losses in watts\n",
" mo=Dp-sl;//output of motor\n",
" bhp=mo/746;// horse power in bhp\n",
"disp(bhp,'horse power  is')"
   ]
   }
,
{
		   "cell_type": "markdown",
		   "metadata": {},
		   "source": [
			"## Example 8.5_d: total_torque.sce"
		   ]
		  },
  {
"cell_type": "code",
	   "execution_count": null,
	   "metadata": {
	    "collapsed": true
	   },
	   "outputs": [],
"source": [
"//Example 8.5.d //total torque\n",
"clc;\n",
"clear;\n",
"close;\n",
"V=230;// in volts\n",
" I=60;// in amperes\n",
" rpm=955;//turns\n",
" ra=0.2;//resistance of armature in ihms\n",
" rsh=0.15;//shunt field in ohms\n",
" sl=604;//stray losses in watts\n",
" Rm=ra+rsh;// in ohms\n",
" Eb=(V-I*Rm);// back emf in volts\n",
" Dp=Eb*I;//driving power in watts\n",
" mi=V*I;//input power in watts\n",
" Cl=mi-Dp;// copper losses in watts\n",
" mo=Dp-sl;//output of motor\n",
" bhp=mo/746;// horse power in bhp\n",
" Ta=(9.55*Eb*I)/rpm;//total torque in N-m\n",
"disp(Ta,'total torque in N-m')"
   ]
   }
,
{
		   "cell_type": "markdown",
		   "metadata": {},
		   "source": [
			"## Example 8.5_e: shaft_torque.sce"
		   ]
		  },
  {
"cell_type": "code",
	   "execution_count": null,
	   "metadata": {
	    "collapsed": true
	   },
	   "outputs": [],
"source": [
"//Example 8.5.e //shaft torque\n",
"clc;\n",
"clear;\n",
"close;\n",
"V=230;// in volts\n",
" I=60;// in amperes\n",
" rpm=955;//turns\n",
" ra=0.2;//resistance of armature in ihms\n",
" rsh=0.15;//shunt field in ohms\n",
" sl=604;//stray losses in watts\n",
" Rm=ra+rsh;// in ohms\n",
" Eb=(V-I*Rm);// back emf in volts\n",
" Dp=Eb*I;//driving power in watts\n",
" mi=V*I;//input power in watts\n",
" Cl=mi-Dp;// copper losses in watts\n",
" mo=Dp-sl;//output of motor\n",
" bhp=mo/746;// horse power in bhp\n",
"  Ta=(9.55*Eb*I)/rpm;//total torque in N-m\n",
" Ts=(bhp*60*746)/(2*%pi*rpm);//shaft torque in N-m\n",
"disp(Ts,'shaft torque in N-m')"
   ]
   }
,
{
		   "cell_type": "markdown",
		   "metadata": {},
		   "source": [
			"## Example 8.5_f: lost_torque.sce"
		   ]
		  },
  {
"cell_type": "code",
	   "execution_count": null,
	   "metadata": {
	    "collapsed": true
	   },
	   "outputs": [],
"source": [
"//Example 8.5.f //lost torque\n",
"clc;\n",
"clear;\n",
"close;\n",
"V=230;// in volts\n",
" I=60;// in amperes\n",
" rpm=955;//turns\n",
" ra=0.2;//resistance of armature in ihms\n",
" rsh=0.15;//shunt field in ohms\n",
" sl=604;//stray losses in watts\n",
" Rm=ra+rsh;// in ohms\n",
" Eb=(V-I*Rm);// back emf in volts\n",
" Dp=Eb*I;//driving power in watts\n",
" mi=V*I;//input power in watts\n",
" Cl=mi-Dp;// copper losses in watts\n",
" mo=Dp-sl;//output of motor\n",
" bhp=mo/746;// horse power in bhp\n",
"  Ta=(9.55*Eb*I)/rpm;//total torque in N-m\n",
" Ts=(bhp*60*746)/(2*%pi*rpm);//shaft torque in N-m\n",
" Tl=Ta-Ts;//lost torque in N-m\n",
"disp(Tl,'lost torque in N-m')"
   ]
   }
,
{
		   "cell_type": "markdown",
		   "metadata": {},
		   "source": [
			"## Example 8.5_g: commercial_efficiency.sce"
		   ]
		  },
  {
"cell_type": "code",
	   "execution_count": null,
	   "metadata": {
	    "collapsed": true
	   },
	   "outputs": [],
"source": [
"//Example 8.5.g //commercial efficiency\n",
"clc;\n",
"clear;\n",
"close;\n",
"V=230;// in volts\n",
" I=60;// in amperes\n",
" rpm=955;//turns\n",
" ra=0.2;//resistance of armature in ihms\n",
" rsh=0.15;//shunt field in ohms\n",
" sl=604;//stray losses in watts\n",
" Rm=ra+rsh;// in ohms\n",
" Eb=(V-I*Rm);// back emf in volts\n",
" Dp=Eb*I;//driving power in watts\n",
" mi=V*I;//input power in watts\n",
" Cl=mi-Dp;// copper losses in watts\n",
" mo=Dp-sl;//output of motor\n",
" bhp=mo/746;// horse power in bhp\n",
"  Ta=(9.55*Eb*I)/rpm;//total torque in N-m\n",
" Ts=(bhp*60*746)/(2*%pi*rpm);//shaft torque in N-m\n",
" Tl=Ta-Ts;//lost torque in N-m\n",
" nc=(mo/mi)*100;//commercial efficiency in percentge\n",
"disp(nc,'commercial efficiency in percentge')"
   ]
   }
,
{
		   "cell_type": "markdown",
		   "metadata": {},
		   "source": [
			"## Example 8.6: current_taken.sce"
		   ]
		  },
  {
"cell_type": "code",
	   "execution_count": null,
	   "metadata": {
	    "collapsed": true
	   },
	   "outputs": [],
"source": [
"//Example 8.6 //current\n",
"clc;\n",
"clear;\n",
"close;\n",
"V=220;// in volts\n",
" I=60;// in amperes\n",
" rpm=728;//turns\n",
" Ts=150;//shaft torque in N-m\n",
" nc=80;//commercial efficiency in percentge\n",
" I=((Ts*2*%pi*rpm*746)/(60*746*(nc/100)*V));// CURRENT TAKEN IN AMPERES\n",
"disp(round(I),'current taken in amperes is')"
   ]
   }
,
{
		   "cell_type": "markdown",
		   "metadata": {},
		   "source": [
			"## Example 8.7: speed.sce"
		   ]
		  },
  {
"cell_type": "code",
	   "execution_count": null,
	   "metadata": {
	    "collapsed": true
	   },
	   "outputs": [],
"source": [
"//Example 8.7 //SPEED\n",
"clc;\n",
"clear;\n",
"close;\n",
"V=220;// in volts\n",
" rpm=2100;//turns\n",
" ra=0.5;//resistance of armature in ihms\n",
" rsh=220;//shunt field in ohms\n",
" Il=21;// in amperes\n",
" R1=220;// in ohms\n",
" Ish=V/rsh;// in amperes\n",
" Ifs=V/(rsh+R1);//shunt field current in second case in ampere\n",
"ph1=50;//\n",
"ph2=100;//\n",
"n2=(rpm*ph2)/ph1;//speed in rpm\n",
"disp(n2,'speed in rpm is')"
   ]
   }
],
"metadata": {
		  "kernelspec": {
		   "display_name": "Scilab",
		   "language": "scilab",
		   "name": "scilab"
		  },
		  "language_info": {
		   "file_extension": ".sce",
		   "help_links": [
			{
			 "text": "MetaKernel Magics",
			 "url": "https://github.com/calysto/metakernel/blob/master/metakernel/magics/README.md"
			}
		   ],
		   "mimetype": "text/x-octave",
		   "name": "scilab",
		   "version": "0.7.1"
		  }
		 },
		 "nbformat": 4,
		 "nbformat_minor": 0
}
