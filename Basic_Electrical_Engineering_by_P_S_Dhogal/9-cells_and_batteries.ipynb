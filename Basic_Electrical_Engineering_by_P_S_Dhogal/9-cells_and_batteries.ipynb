{
"cells": [
 {
		   "cell_type": "markdown",
	   "metadata": {},
	   "source": [
       "# Chapter 9: cells and batteries"
	   ]
	},
{
		   "cell_type": "markdown",
		   "metadata": {},
		   "source": [
			"## Example 9.10: direction_of_current_and_total_resistance.sce"
		   ]
		  },
  {
"cell_type": "code",
	   "execution_count": null,
	   "metadata": {
	    "collapsed": true
	   },
	   "outputs": [],
"source": [
"//Example 9.10 //value and direction of the current\n",
"clc;\n",
"clear;\n",
"close\n",
"V=34;// in volts\n",
"emf1=2;//in volts\n",
"r1=6;//in ohms\n",
"r2=1;//in ohms\n",
"r3=2;//in ohms\n",
"r4=4;// in ohms\n",
"//apllying kirchoff's low\n",
"// x ampere is the current in branch AB\n",
"// x1 ampere is the current in branch AC\n",
"//x2 ampere is the current in the Branch BD\n",
"// x-x2 ampere is the current in the branch BC\n",
"// x1+x2 ampere is the current in the branch DC\n",
"// x-6*x1+8*x2=2 in mesh ABD\n",
"// 2*x-4*x1-14*x2=-2 in mesh BCD\n",
"// 10*x1+4*x2=34;//in mesh ADCEF\n",
"A=[1 -6 8;2 -4 -14;0 10 4];// EQUATIONS \n",
"B=[2;-2;34];// VALUES\n",
"X=A\B;// UNKNOW VALUES\n",
"x=X(1,1);//TOTAL CURRENT IN AMPERES\n",
"x1=X(2,1);//current taken by battery A\n",
"x2=X(3,1);//\n",
"b1=x-x2;// in amperes\n",
"b2=x1+x2;//in amperes\n",
"R=((r1*x1+r4*(x2+x1))/(x+x1));//total resistance in ohms\n",
"disp(x,' current in 1 ohms resistance from A to B in amperes ')\n",
"disp(x1,' current in 6 ohms resistance from A to D in amperes ')\n",
"disp(x2,' current in 8 ohms resistance from B to D in amperes ')\n",
"disp(b1,'current in 2 ohm resistance from B to C in amperes')\n",
"disp(b2,'current in 4 ohm resistance from D to C in amperes')\n",
"disp(R,'total reistance in ohms is')"
   ]
   }
,
{
		   "cell_type": "markdown",
		   "metadata": {},
		   "source": [
			"## Example 9.1: value_of_current_flowing.sce"
		   ]
		  },
  {
"cell_type": "code",
	   "execution_count": null,
	   "metadata": {
	    "collapsed": true
	   },
	   "outputs": [],
"source": [
"//Example 9.1 // current\n",
"clc;\n",
"clear;\n",
"close;\n",
"//given data :\n",
"n=20; // dry cells of emf\n",
"E=1.5; // emf in volts\n",
"R=5; // external resistance in ohm\n",
"r=0.5; // internal resistance in ohm\n",
"I=(n*E)/(R+(n*r));\n",
"disp(I,'current flowing,I(A) = ')"
   ]
   }
,
{
		   "cell_type": "markdown",
		   "metadata": {},
		   "source": [
			"## Example 9.2: value_of_current_flowing.sce"
		   ]
		  },
  {
"cell_type": "code",
	   "execution_count": null,
	   "metadata": {
	    "collapsed": true
	   },
	   "outputs": [],
"source": [
"//Example 9.2 // current\n",
"clc;\n",
"clear;\n",
"close;\n",
"//given data :\n",
"n=10; // dry cells of emf\n",
"E=1.5; // emf in volts\n",
"R=4.9; // resistance in ohm\n",
"r=1; // internal resistance in ohm\n",
"I=(n*E)/((n*R)+(r));\n",
"disp(I,'current flowing,I(A) = ')"
   ]
   }
,
{
		   "cell_type": "markdown",
		   "metadata": {},
		   "source": [
			"## Example 9.3: value_of_current_flowing.sce"
		   ]
		  },
  {
"cell_type": "code",
	   "execution_count": null,
	   "metadata": {
	    "collapsed": true
	   },
	   "outputs": [],
"source": [
"//Example 9.3 // current\n",
"clc;\n",
"clear;\n",
"close;\n",
"//given data :\n",
"m=3; \n",
"n=10; // dry cells of emf\n",
"E=1.5; // emf in volts\n",
"R=2.5; // resistance in ohm\n",
"r=0.5; // internal resistance in ohm\n",
"I=(m*n*E)/((m*R)+(n*r));\n",
"disp(I,'current flowing,I(A) = ')"
   ]
   }
,
{
		   "cell_type": "markdown",
		   "metadata": {},
		   "source": [
			"## Example 9.4_a: internal_resistance.sce"
		   ]
		  },
  {
"cell_type": "code",
	   "execution_count": null,
	   "metadata": {
	    "collapsed": true
	   },
	   "outputs": [],
"source": [
"//Example 9.4.a // internal resistance of each cell\n",
"clc;\n",
"clear;\n",
"close;\n",
"n=10;// no. of cells\n",
"Rl=4;// LOAD RESISTANCE\n",
"V=12;// in volts\n",
"Va=18;// IN VOLTS\n",
"r=((Va-V)*Rl)/(n*V);// internal resistance in ohms\n",
"disp(r,'internal resistance in ohms is')"
   ]
   }
,
{
		   "cell_type": "markdown",
		   "metadata": {},
		   "source": [
			"## Example 9.4_b: value_of_current_flowing.sce"
		   ]
		  },
  {
"cell_type": "code",
	   "execution_count": null,
	   "metadata": {
	    "collapsed": true
	   },
	   "outputs": [],
"source": [
"//Example 9.4.b // current\n",
"clc;\n",
"clear;\n",
"close;\n",
"n=10;// no. of cells\n",
"Rl=4;// LOAD RESISTANCE\n",
"V=12;// in volts\n",
"Va=18;// IN VOLTS\n",
"r=((Va-V)*Rl)/(n*V);// internal resistance in ohms\n",
"Il=V/Rl;// IN AMPERES\n",
"disp(Il,'load current in amperes is')"
   ]
   }
,
{
		   "cell_type": "markdown",
		   "metadata": {},
		   "source": [
			"## Example 9.5: emf_of_each_cell_and_its_internal_resistance.sce"
		   ]
		  },
  {
"cell_type": "code",
	   "execution_count": null,
	   "metadata": {
	    "collapsed": true
	   },
	   "outputs": [],
"source": [
"//Example 9.5 // emf and internal resistance of each cell\n",
"clc;\n",
"clear;\n",
"close;\n",
"n=6;// no. of cells\n",
"Rl=3;// LOAD RESISTANCE\n",
"I=2.5;// IN AMPERES\n",
"r1=9;// in ohms\n",
"I2=1.25;// om amperes\n",
"r=((r1*I2)-(Rl*I))/(n*(I-I2));// internal resistance in ohms\n",
"E=((I*(Rl+n*r))/n);// emf of each cell in volts\n",
"disp(E,'emf of each cell in volts is')\n",
"disp(r,'internal resistance of each cell in ohms')"
   ]
   }
,
{
		   "cell_type": "markdown",
		   "metadata": {},
		   "source": [
			"## Example 9.6: ampere_hour_capacity.sce"
		   ]
		  },
  {
"cell_type": "code",
	   "execution_count": null,
	   "metadata": {
	    "collapsed": true
	   },
	   "outputs": [],
"source": [
"//Example 9.6 //find ampere-hour capacity of a batery\n",
"clc;\n",
"clear;\n",
"close;\n",
"I=20;// in amperes\n",
"t=15;// in hours\n",
"Ah=I*t;// ampere hour capacity of the battery\n",
"disp(Ah,'ampere hour capacity of the battery in A-h')"
   ]
   }
,
{
		   "cell_type": "markdown",
		   "metadata": {},
		   "source": [
			"## Example 9.7_a: ampere_hour_efficiency.sce"
		   ]
		  },
  {
"cell_type": "code",
	   "execution_count": null,
	   "metadata": {
	    "collapsed": true
	   },
	   "outputs": [],
"source": [
"//Example 9.7.a //find ampere-hour efficiency\n",
"clc;\n",
"clear;\n",
"close;\n",
"I=30;// in amperes\n",
"t=6;// in hours\n",
"Vt=2;// terminal voltage\n",
"Ic=40;// in amperes\n",
"tc=5;// in hours\n",
"Vc=2.5;// in volts\n",
"Aho=I*t;// ampere hour output of the battery\n",
"Ahi=Ic*tc;// ampere hour input of the battery\n",
"nAh=(Aho/Ahi)*100;// ampere hour efficiency\n",
"disp(nAh,'ampere hour efficiency of the battery in percentage is')"
   ]
   }
,
{
		   "cell_type": "markdown",
		   "metadata": {},
		   "source": [
			"## Example 9.7_b: watt_hour_efficiency.sce"
		   ]
		  },
  {
"cell_type": "code",
	   "execution_count": null,
	   "metadata": {
	    "collapsed": true
	   },
	   "outputs": [],
"source": [
"//Example 9.7.b //find watt-hour efficiency\n",
"clc;\n",
"clear;\n",
"close;\n",
"I=30;// in amperes\n",
"t=6;// in hours\n",
"Vt=2;// terminal voltage\n",
"Ic=40;// in amperes\n",
"tc=5;// in hours\n",
"Vc=2.5;// in volts\n",
"Who=I*t*Vt;// watt hour output of the battery\n",
"Whi=Ic*tc*Vc;// watt hour input of the battery\n",
"nWh=(Who/Whi)*100;// ampere hour efficiency\n",
"disp(nWh,'watt hour efficiency of the battery in percentage is')"
   ]
   }
,
{
		   "cell_type": "markdown",
		   "metadata": {},
		   "source": [
			"## Example 9.8_a: initial_charging_current.sce"
		   ]
		  },
  {
"cell_type": "code",
	   "execution_count": null,
	   "metadata": {
	    "collapsed": true
	   },
	   "outputs": [],
"source": [
"//Example 9.8.a //initial charging current\n",
"clc;\n",
"clear;\n",
"close\n",
"n=50;// no. of cells\n",
"Vc=250;// in volts\n",
"Vd=1.8;//in volts\n",
"Vcs=2.2;//in volts\n",
"r=0.01;//internal resistance of each cell in ohms\n",
"rl=0.1;//lead resistance in ohms\n",
"Re=19.4;//external resitance in ohms\n",
"Ib=n*r;// internal resistnce of battery\n",
"Tb=rl+Ib;//total resistance of battery\n",
"Eb=Vd*n;//total rmf of battery\n",
"I=(Vc-Eb)/(Re+Tb);// initial charging current in amperes\n",
"disp(I,'initial charging current in amperes is')"
   ]
   }
,
{
		   "cell_type": "markdown",
		   "metadata": {},
		   "source": [
			"## Example 9.8_b: final_charging_current.sce"
		   ]
		  },
  {
"cell_type": "code",
	   "execution_count": null,
	   "metadata": {
	    "collapsed": true
	   },
	   "outputs": [],
"source": [
"//Example 9.8.b //final charging current\n",
"clc;\n",
"clear;\n",
"close\n",
"n=50;// no. of cells\n",
"Vc=250;// in volts\n",
"Vd=1.8;//in volts\n",
"Vcs=2.2;//in volts\n",
"r=0.01;//internal resistance of each cell in ohms\n",
"rl=0.1;//lead resistance in ohms\n",
"Re=19.4;//external resitance in ohms\n",
"Ib=n*r;// internal resistnce of battery\n",
"Tb=rl+Ib;//total resistance of battery\n",
"Eb=Vd*n;//total rmf of battery\n",
"Ebf=Vcs*n;//emf of the battery at the end of charging\n",
"I=(Vc-Ebf)/(Re+Tb);// initial charging current in amperes\n",
"disp(I,'final charging current in amperes is')"
   ]
   }
,
{
		   "cell_type": "markdown",
		   "metadata": {},
		   "source": [
			"## Example 9.9_a: value_and_direction_of_current.sce"
		   ]
		  },
  {
"cell_type": "code",
	   "execution_count": null,
	   "metadata": {
	    "collapsed": true
	   },
	   "outputs": [],
"source": [
"//Example 9.9.a //value and direction of the current\n",
"clc;\n",
"clear;\n",
"close\n",
"V=230;// in volts\n",
"emf1=122;//in volts\n",
"r=0.4;//internal resistance in ohms\n",
"emf2=130;//in volts\n",
"r1=0.5;//in ohms\n",
"//apllying kirchoff's low\n",
"// x ampere is the total current taken by battery\n",
"// x1 ampere is the total current taken by battery A\n",
"// x-x1 ampere is the total current taken by battery B\n",
"// 5*x+0.4*y=180 is the equation in mesh ABEF\n",
"// 5.5*x+0.5*y=100 equation in the mesh CDEF\n",
"// equation 1 is 25*x+2*y=540 and equation 2 is 22*x-2*y=400\n",
"A=[25 2 ;22 -2];// EQUATIONS \n",
"B=[540;400];// VALUES\n",
"X=A\B;// UNKNOW VALUES\n",
"x=X(1,1);//TOTAL CURRENT IN AMPERES\n",
"x1=X(2,1);//current taken by battery A\n",
"x2=20-20;//\n",
"disp(x1,'current in battery A in amperes (discharging)')\n",
"disp(x2,'current in bettery B in amperes')"
   ]
   }
,
{
		   "cell_type": "markdown",
		   "metadata": {},
		   "source": [
			"## Example 9.9_b: total_current.sce"
		   ]
		  },
  {
"cell_type": "code",
	   "execution_count": null,
	   "metadata": {
	    "collapsed": true
	   },
	   "outputs": [],
"source": [
"//Example 9.9.b //total current\n",
"clc;\n",
"clear;\n",
"close\n",
"V=230;// in volts\n",
"emf1=122;//in volts\n",
"r=0.4;//internal resistance in ohms\n",
"emf2=130;//in volts\n",
"r1=0.5;//in ohms\n",
"//apllying kirchoff's low\n",
"// x ampere is the total current taken by battery\n",
"// x1 ampere is the total current taken by battery A\n",
"// x-x1 ampere is the total current taken by battery B\n",
"// 5*x+0.4*y=180 is the equation in mesh ABEF\n",
"// 5.5*x+0.5*y=100 equation in the mesh CDEF\n",
"// equation 1 is 25*x+2*y=540 and equation 2 is 22*x-2*y=400\n",
"A=[25 2 ;22 -2];// EQUATIONS \n",
"B=[540;400];// VALUES\n",
"X=A\B;// UNKNOW VALUES\n",
"x=X(1,1);//TOTAL CURRENT IN AMPERES\n",
"x1=X(2,1);//current taken by battery A\n",
"x2=20-20;//\n",
"disp(x,'total current in battery A and B in amperes (charging)')"
   ]
   }
,
{
		   "cell_type": "markdown",
		   "metadata": {},
		   "source": [
			"## Example 9.9_c: power_dissipated.sce"
		   ]
		  },
  {
"cell_type": "code",
	   "execution_count": null,
	   "metadata": {
	    "collapsed": true
	   },
	   "outputs": [],
"source": [
"//Example 9.9.c //tpower dissipated\n",
"clc;\n",
"clear;\n",
"close\n",
"R=5;// in ohms\n",
"V=230;// in volts\n",
"emf1=122;//in volts\n",
"r=0.4;//internal resistance in ohms\n",
"emf2=130;//in volts\n",
"r1=0.5;//in ohms\n",
"//apllying kirchoff's low\n",
"// x ampere is the total current taken by battery\n",
"// x1 ampere is the total current taken by battery A\n",
"// x-x1 ampere is the total current taken by battery B\n",
"// 5*x+0.4*y=180 is the equation in mesh ABEF\n",
"// 5.5*x+0.5*y=100 equation in the mesh CDEF\n",
"// equation 1 is 25*x+2*y=540 and equation 2 is 22*x-2*y=400\n",
"A=[25 2 ;22 -2];// EQUATIONS \n",
"B=[540;400];// VALUES\n",
"X=A\B;// UNKNOW VALUES\n",
"x=X(1,1);//TOTAL CURRENT IN AMPERES\n",
"x1=X(2,1);//current taken by battery A\n",
"x2=20-20;//\n",
"p=x^2*R;// in watt\n",
"disp(p,'power dissipated in watts is')"
   ]
   }
],
"metadata": {
		  "kernelspec": {
		   "display_name": "Scilab",
		   "language": "scilab",
		   "name": "scilab"
		  },
		  "language_info": {
		   "file_extension": ".sce",
		   "help_links": [
			{
			 "text": "MetaKernel Magics",
			 "url": "https://github.com/calysto/metakernel/blob/master/metakernel/magics/README.md"
			}
		   ],
		   "mimetype": "text/x-octave",
		   "name": "scilab",
		   "version": "0.7.1"
		  }
		 },
		 "nbformat": 4,
		 "nbformat_minor": 0
}
