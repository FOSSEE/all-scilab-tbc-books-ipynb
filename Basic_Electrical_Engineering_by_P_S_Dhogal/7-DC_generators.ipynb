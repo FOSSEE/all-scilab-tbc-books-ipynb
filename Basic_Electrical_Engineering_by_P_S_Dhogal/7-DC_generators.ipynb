{
"cells": [
 {
		   "cell_type": "markdown",
	   "metadata": {},
	   "source": [
       "# Chapter 7: DC generators"
	   ]
	},
{
		   "cell_type": "markdown",
		   "metadata": {},
		   "source": [
			"## Example 7.1_a: emf_induced.sce"
		   ]
		  },
  {
"cell_type": "code",
	   "execution_count": null,
	   "metadata": {
	    "collapsed": true
	   },
	   "outputs": [],
"source": [
"//Example 7.1.a: e.m.f\n",
"clc;\n",
"clear;\n",
"close;\n",
"// given data:\n",
"p=8; // number of poles\n",
"a=p; // in lap winding\n",
"fi=15*10^-3; // in wb\n",
"N=500; // rev/min\n",
"Z=800; // number of conductors on armature\n",
"emf=(fi*Z*N*p)/(60*a);// when the armature is lap wound\n",
"disp(emf,'emf(V) = ')"
   ]
   }
,
{
		   "cell_type": "markdown",
		   "metadata": {},
		   "source": [
			"## Example 7.1_b: emf_generated.sce"
		   ]
		  },
  {
"cell_type": "code",
	   "execution_count": null,
	   "metadata": {
	    "collapsed": true
	   },
	   "outputs": [],
"source": [
"//Example 7.1.b: e.m.f if the armature is wave wound\n",
"clc;\n",
"clear;\n",
"close;\n",
"// given data:\n",
"p=8; // number of poles\n",
"a=2; // in wave winding\n",
"fi=15*10^-3; // in wb\n",
"N=500; // rev/min\n",
"Z=800; // number of conductors on armature\n",
"emf=(fi*Z*N*p)/(60*a);// when the armature is wave wound\n",
"disp(emf,'emf(V) = ')"
   ]
   }
,
{
		   "cell_type": "markdown",
		   "metadata": {},
		   "source": [
			"## Example 7.2_a: total_armature_current.sce"
		   ]
		  },
  {
"cell_type": "code",
	   "execution_count": null,
	   "metadata": {
	    "collapsed": true
	   },
	   "outputs": [],
"source": [
"//Example 7.2.a: total armature current\n",
"clc;\n",
"clear;\n",
"close;\n",
"// given data:\n",
"Vt=200;// terminal voltage in volts\n",
"Rsh=100; //shunt fieldresistance  in ohm\n",
"Ra=0.1; // armature resistance in ohm\n",
"l=60; // number of lamps\n",
"w=40;// in watt\n",
"total_l=l*w;// in watt\n",
"Il=total_l/Vt;// load current\n",
"Ish=Vt/Rsh;// shunt field current\n",
"Ia=Il+Ish;\n",
"disp(Ia,'armature current,Ia(A) = ')"
   ]
   }
,
{
		   "cell_type": "markdown",
		   "metadata": {},
		   "source": [
			"## Example 7.2_b: current_per_armature_path.sce"
		   ]
		  },
  {
"cell_type": "code",
	   "execution_count": null,
	   "metadata": {
	    "collapsed": true
	   },
	   "outputs": [],
"source": [
"//Example 7.2.b: current per armature path\n",
"clc;\n",
"clear;\n",
"close;\n",
"// given data:\n",
"Vt=200;// terminal voltage in volts\n",
"Rsh=100; //shunt fieldresistance  in ohm\n",
"Ra=0.1; // armature resistance in ohm\n",
"l=60; // number of lamps\n",
"w=40;// in watt\n",
"total_l=l*w;// in watt\n",
"Il=total_l/Vt;// load current\n",
"Ish=Vt/Rsh;// shunt field current\n",
"Ia=Il+Ish;\n",
"N=4; // number of poles\n",
"I=Ia/N;\n",
"disp(I,'current per path in a armature,I(A) = ')"
   ]
   }
,
{
		   "cell_type": "markdown",
		   "metadata": {},
		   "source": [
			"## Example 7.2_c: emf_generated.sce"
		   ]
		  },
  {
"cell_type": "code",
	   "execution_count": null,
	   "metadata": {
	    "collapsed": true
	   },
	   "outputs": [],
"source": [
"//Example 7.2.c: emf\n",
"clc;\n",
"clear;\n",
"close;\n",
"// given data:\n",
"Vt=200;// terminal voltage in volts\n",
"Rsh=100; //shunt fieldresistance  in ohm\n",
"Ra=0.1; // armature resistance in ohm\n",
"l=60; // number of lamps\n",
"w=40;// in watt\n",
"total_l=l*w;// in watt\n",
"Il=total_l/Vt;// load current\n",
"Ish=Vt/Rsh;// shunt field current\n",
"Ia=Il+Ish;\n",
"N=4; // number of poles\n",
"I=Ia/N;\n",
"Va=Ia*Ra;//armature voltage drop \n",
"Vb=1+1; // brush contact drop for 2 pair of poles\n",
"E=Vt+Va+Vb;\n",
"disp(E,'emf,E(v) = ')"
   ]
   }
,
{
		   "cell_type": "markdown",
		   "metadata": {},
		   "source": [
			"## Example 7.3_a: terminal_voltage.sce"
		   ]
		  },
  {
"cell_type": "code",
	   "execution_count": null,
	   "metadata": {
	    "collapsed": true
	   },
	   "outputs": [],
"source": [
"//Example 7.3.a: terminal voltage\n",
"clc;\n",
"clear;\n",
"close;\n",
"// given data:\n",
"W=10;// output of the generator in k-w\n",
"V=250; // voltage in volts\n",
"R=0.07; // in ohm\n",
"Il=(W*1000)/V;// load current in A\n",
"Vf=Il*R;// voltage drop in feeder\n",
"Vt=V+Vf;\n",
"disp(Vt,'terminal voltage,Vt(V) = ')"
   ]
   }
,
{
		   "cell_type": "markdown",
		   "metadata": {},
		   "source": [
			"## Example 7.3_b: emf_generated.sce"
		   ]
		  },
  {
"cell_type": "code",
	   "execution_count": null,
	   "metadata": {
	    "collapsed": true
	   },
	   "outputs": [],
"source": [
"//Example 7.3.b: emf\n",
"clc;\n",
"clear;\n",
"close;\n",
"// given data:\n",
"W=10;// output of the generator in k-w\n",
"V=250; // voltage in volts\n",
"R=0.07; // in ohm\n",
"Il=(W*1000)/V;// load current in A\n",
"Vf=Il*R;// voltage drop in feeder\n",
"Vt=V+Vf;// terminal voltage\n",
"Rsh=63.2; // shunt resistance in ohm\n",
"Ra=0.05; // armature resistance in ohm\n",
"Vb=2; // brush contact drop\n",
"Ish=Vt/Rsh;\n",
"Ia=Il+Ish;\n",
"Vd=Ia*Ra;// voltage drop in the armature\n",
"E=Vt+Vd+Vb;\n",
"disp(E,'emf,E(V) = ')"
   ]
   }
,
{
		   "cell_type": "markdown",
		   "metadata": {},
		   "source": [
			"## Example 7.4_a: terminal_voltage.sce"
		   ]
		  },
  {
"cell_type": "code",
	   "execution_count": null,
	   "metadata": {
	    "collapsed": true
	   },
	   "outputs": [],
"source": [
"//Example 7.4.a: terminal voltage\n",
"clc;\n",
"clear;\n",
"close;\n",
"// given data:\n",
"W=20000;// in watt\n",
"V=200; // in volts\n",
"R=0.08; // in ohm\n",
"Rs=0.02; // series field resistance in ohm\n",
"I=W/V; // in A\n",
"Vf=I*R;\n",
"Vs=I*Rs;\n",
"V1=Vf+Vs; // voltage drop of feeder and series field\n",
"Vg=V+V1;\n",
"disp(Vg,'terminal voltage,Vg(V) = ')"
   ]
   }
,
{
		   "cell_type": "markdown",
		   "metadata": {},
		   "source": [
			"## Example 7.4_b: emf_generated.sce"
		   ]
		  },
  {
"cell_type": "code",
	   "execution_count": null,
	   "metadata": {
	    "collapsed": true
	   },
	   "outputs": [],
"source": [
"//Example 7.4.b: emf generated\n",
"clc;\n",
"clear;\n",
"close;\n",
"// given data:\n",
"W=20000;// in watt\n",
"V=200; // in volts\n",
"R=0.08; // in ohm\n",
"Rs=0.02; // series field resistance in ohm\n",
"I=W/V; // in A\n",
"Rsh=42; // shunt ield resistance in ohm\n",
"Ra=0.04; //  armature resistance in ohm\n",
"Vf=I*R;\n",
"Vs=I*Rs;\n",
"V1=Vf+Vs; // voltage drop of feeder and series field\n",
"Vg=V+V1;// terminal voltage\n",
"Ish=Vg/Rsh;// shunt field current\n",
"Ia=I+Ish;\n",
"Vd=Ia*Ra;\n",
"emf=Vg+Vd;\n",
"disp(emf,'emf(V) = ')"
   ]
   }
,
{
		   "cell_type": "markdown",
		   "metadata": {},
		   "source": [
			"## Example 7.4_c: copper_losses.sce"
		   ]
		  },
  {
"cell_type": "code",
	   "execution_count": null,
	   "metadata": {
	    "collapsed": true
	   },
	   "outputs": [],
"source": [
"//Example 7.4.c: copper losses\n",
"clc;\n",
"clear;\n",
"close;\n",
"// given data:\n",
"W=20000;// electrical output in watt\n",
"V=200; // in volts\n",
"R=0.08; // in ohm\n",
"Rs=0.02; // series field resistance in ohm\n",
"I=W/V; // in A\n",
"Rsh=42; // shunt ield resistance in ohm\n",
"Ra=0.04; //  armature resistance in ohm\n",
"Vf=I*R;\n",
"Vs=I*Rs;\n",
"V1=Vf+Vs; // voltage drop of feeder and series field\n",
"Vg=V+V1;// terminal voltage\n",
"Ish=Vg/Rsh;// shunt field current\n",
"Ia=I+Ish;\n",
"Vd=Ia*Ra;\n",
"emf=Vg+Vd;\n",
"Ed=emf*Ia;// in watt\n",
"copper_losses=Ed-W;\n",
"disp(copper_losses,'copper losses(Watt) = ')"
   ]
   }
,
{
		   "cell_type": "markdown",
		   "metadata": {},
		   "source": [
			"## Example 7.4_d: Bhp_metric_of_the_primemover.sce"
		   ]
		  },
  {
"cell_type": "code",
	   "execution_count": null,
	   "metadata": {
	    "collapsed": true
	   },
	   "outputs": [],
"source": [
"//Example 7.4.d: bhp metric of the primemover\n",
"clc;\n",
"clear;\n",
"close;\n",
"// given data:\n",
"W=20000;// electrical output in watt\n",
"V=200; // in volts\n",
"R=0.08; // in ohm\n",
"Rs=0.02; // series field resistance in ohm\n",
"I=W/V; // in A\n",
"Rsh=42; // shunt ield resistance in ohm\n",
"Ra=0.04; //  armature resistance in ohm\n",
"iron_losses=309.5; // iron and friction losses\n",
"Vf=I*R;\n",
"Vs=I*Rs;\n",
"V1=Vf+Vs; // voltage drop of feeder and series field\n",
"Vg=V+V1;// terminal voltage\n",
"Ish=Vg/Rsh;// shunt field current\n",
"Ia=I+Ish;\n",
"Vd=Ia*Ra;\n",
"emf=Vg+Vd;\n",
"Ed=emf*Ia;// in watt\n",
"copper_losses=Ed-W;\n",
"mech_in=W+copper_losses+iron_losses;\n",
"Bhp=mech_in/735.5;\n",
"disp(Bhp,'bhp metric of the primemover,Bhp = ')"
   ]
   }
,
{
		   "cell_type": "markdown",
		   "metadata": {},
		   "source": [
			"## Example 7.4_e: commercial_efficiency.sce"
		   ]
		  },
  {
"cell_type": "code",
	   "execution_count": null,
	   "metadata": {
	    "collapsed": true
	   },
	   "outputs": [],
"source": [
"//Example 7.4.d: bhp metric of the primemover\n",
"clc;\n",
"clear;\n",
"close;\n",
"// given data:\n",
"W=20000;// electrical output in watt\n",
"V=200; // in volts\n",
"R=0.08; // in ohm\n",
"Rs=0.02; // series field resistance in ohm\n",
"I=W/V; // in A\n",
"Rsh=42; // shunt ield resistance in ohm\n",
"Ra=0.04; //  armature resistance in ohm\n",
"iron_losses=309.5; // iron and friction losses\n",
"Vf=I*R;\n",
"Vs=I*Rs;\n",
"V1=Vf+Vs; // voltage drop of feeder and series field\n",
"Vg=V+V1;// terminal voltage\n",
"Ish=Vg/Rsh;// shunt field current\n",
"Ia=I+Ish;\n",
"Vd=Ia*Ra;\n",
"emf=Vg+Vd;\n",
"Ed=emf*Ia;// in watt\n",
"copper_losses=Ed-W;\n",
"mech_in=W+copper_losses+iron_losses;// mechanical power inoput\n",
"Bhp=mech_in/735.5;\n",
"efficiency=(W/mech_in)*100;\n",
"disp(efficiency,'efficiency(%) = ')"
   ]
   }
,
{
		   "cell_type": "markdown",
		   "metadata": {},
		   "source": [
			"## Example 7.5_a: total_armature_current.sce"
		   ]
		  },
  {
"cell_type": "code",
	   "execution_count": null,
	   "metadata": {
	    "collapsed": true
	   },
	   "outputs": [],
"source": [
"//Example 7.5.a: total armature current\n",
"clc;\n",
"clear;\n",
"close;\n",
"// given data:\n",
"n=3;// number of motors\n",
"i=30; //current in A\n",
"I=i*n;// current taken by three motors\n",
"Rsh=44; // shunt field resistance\n",
"V=440; // voltage in V\n",
"Ish=V/Rsh;// shunt field current\n",
"Ia=I+Ish;\n",
"disp(Ia,'total armature current,Ia(A) = ')"
   ]
   }
,
{
		   "cell_type": "markdown",
		   "metadata": {},
		   "source": [
			"## Example 7.5_b: current.sce"
		   ]
		  },
  {
"cell_type": "code",
	   "execution_count": null,
	   "metadata": {
	    "collapsed": true
	   },
	   "outputs": [],
"source": [
"//Example 7.5.b: current in each path\n",
"clc;\n",
"clear;\n",
"close;\n",
"// given data:\n",
"n=3;// number of motors\n",
"n1=4;// number of parallel path in winding\n",
"i=30; //current in A\n",
"I=i*n;// current taken by three motors\n",
"Rsh=44; // shunt field resistance\n",
"Ra=0.08; // armature resistance in ohm\n",
"V=440; // voltage in V\n",
"Ish=V/Rsh;// shunt field current\n",
"Ia=I+Ish;\n",
"I1=Ia/n1;// current in each path\n",
"disp(I1,'current in each path,I1(A) = ')"
   ]
   }
,
{
		   "cell_type": "markdown",
		   "metadata": {},
		   "source": [
			"## Example 7.5_c: emf_generated.sce"
		   ]
		  },
  {
"cell_type": "code",
	   "execution_count": null,
	   "metadata": {
	    "collapsed": true
	   },
	   "outputs": [],
"source": [
"//Example 7.5.c: e.m.f\n",
"clc;\n",
"clear;\n",
"close;\n",
"// given data:\n",
"n=3;// number of motors\n",
"n1=4;// number of parallel path in winding\n",
"i=30; //current in A\n",
"I=i*n;// current taken by three motors\n",
"Rsh=44; // shunt field resistance\n",
"Ra=0.08; // armature resistance in ohm\n",
"V=440; // voltage in V\n",
"Ish=V/Rsh;// shunt field current\n",
"Ia=I+Ish;\n",
"I1=Ia/n1;// current in each path\n",
"Va=Ia*Ra; // armature drop\n",
"Vb=2;// we know , brush contact drops\n",
"E=V+Va+Vb;\n",
"disp(E,'emf,E(V) = ')\n",
"// answer is wrong in a book "
   ]
   }
,
{
		   "cell_type": "markdown",
		   "metadata": {},
		   "source": [
			"## Example 7.5_d: power_developed.sce"
		   ]
		  },
  {
"cell_type": "code",
	   "execution_count": null,
	   "metadata": {
	    "collapsed": true
	   },
	   "outputs": [],
"source": [
"//Example 7.5.d: electrical power developed in the armature\n",
"clc;\n",
"clear;\n",
"close;\n",
"// given data:\n",
"n=3;// number of motors\n",
"n1=4;// number of parallel path in winding\n",
"i=30; //current in A\n",
"Bhp=65;// in hp\n",
"I=i*n;// current taken by three motors\n",
"Rsh=44; // shunt field resistance\n",
"Ra=0.08; // armature resistance in ohm\n",
"V=440; // voltage in V\n",
"Ish=V/Rsh;// shunt field current\n",
"Ia=I+Ish;\n",
"I1=Ia/n1;// current in each path\n",
"Va=Ia*Ra; // armature drop\n",
"Vb=2;// we know , brush contact drops\n",
"E=V+Va+Vb;\n",
"E_power=E*Ia;\n",
"W=V*I;// in watt\n",
"M_power=Bhp*746;// assume Bhp=746 W\n",
"disp(E_power,'electrical power developed in watt = ')\n",
"// answer is wrong in a book "
   ]
   }
,
{
		   "cell_type": "markdown",
		   "metadata": {},
		   "source": [
			"## Example 7.5_e: copper_losses.sce"
		   ]
		  },
  {
"cell_type": "code",
	   "execution_count": null,
	   "metadata": {
	    "collapsed": true
	   },
	   "outputs": [],
"source": [
"//Example 7.5.e: copper losses\n",
"clc;\n",
"clear;\n",
"close;\n",
"// given data:\n",
"n=3;// number of motors\n",
"n1=4;// number of parallel path in winding\n",
"i=30; //current in A\n",
"Bhp=65;// in hp\n",
"I=i*n;// current taken by three motors\n",
"Rsh=44; // shunt field resistance\n",
"Ra=0.08; // armature resistance in ohm\n",
"V=440; // voltage in V\n",
"Ish=V/Rsh;// shunt field current\n",
"Ia=I+Ish;\n",
"I1=Ia/n1;// current in each path\n",
"Va=Ia*Ra; // armature drop\n",
"Vb=2;// we know , brush contact drops\n",
"E=V+Va+Vb;\n",
"E_power=E*Ia;\n",
"W=V*I;// in watt\n",
"M_power=Bhp*746;// assume Bhp=746 W\n",
"Copper_losses=E_power-W;\n",
"disp(Copper_losses,'copper losses (W) = ')"
   ]
   }
,
{
		   "cell_type": "markdown",
		   "metadata": {},
		   "source": [
			"## Example 7.5_f: stray_losses.sce"
		   ]
		  },
  {
"cell_type": "code",
	   "execution_count": null,
	   "metadata": {
	    "collapsed": true
	   },
	   "outputs": [],
"source": [
"//Example 7.5.f: stray losses\n",
"clc;\n",
"clear;\n",
"close;\n",
"// given data:\n",
"n=3;// number of motors\n",
"n1=4;// number of parallel path in winding\n",
"i=30; //current in A\n",
"Bhp=65;// in hp\n",
"I=i*n;// current taken by three motors\n",
"Rsh=44; // shunt field resistance\n",
"Ra=0.08; // armature resistance in ohm\n",
"V=440; // voltage in V\n",
"Ish=V/Rsh;// shunt field current\n",
"Ia=I+Ish;\n",
"I1=Ia/n1;// current in each path\n",
"Va=Ia*Ra; // armature drop\n",
"Vb=2;// we know , brush contact drops\n",
"E=V+Va+Vb;\n",
"E_power=E*Ia;\n",
"W=V*I;// in watt\n",
"M_power=Bhp*746;// assume Bhp=746 W\n",
"Copper_losses=E_power-W;\n",
"S_loses=M_power-E_power;\n",
"disp(S_loses,'stray losses(W) = ')"
   ]
   }
,
{
		   "cell_type": "markdown",
		   "metadata": {},
		   "source": [
			"## Example 7.5_g_1: electrical_efficiency.sce"
		   ]
		  },
  {
"cell_type": "code",
	   "execution_count": null,
	   "metadata": {
	    "collapsed": true
	   },
	   "outputs": [],
"source": [
"//Example 7.5.g.i: electrical efficiency\n",
"clc;\n",
"clear;\n",
"close;\n",
"// given data:\n",
"n=3;// number of motors\n",
"n1=4;// number of parallel path in winding\n",
"i=30; //current in A\n",
"Bhp=65;// in hp\n",
"I=i*n;// current taken by three motors\n",
"Rsh=44; // shunt field resistance\n",
"Ra=0.08; // armature resistance in ohm\n",
"V=440; // voltage in V\n",
"Ish=V/Rsh;// shunt field current\n",
"Ia=I+Ish;\n",
"I1=Ia/n1;// current in each path\n",
"Va=Ia*Ra; // armature drop\n",
"Vb=2;// we know , brush contact drops\n",
"E=V+Va+Vb;\n",
"E_power=E*Ia;\n",
"W=V*I;// in watt\n",
"M_power=Bhp*746;// assume Bhp=746 W\n",
"Copper_losses=E_power-W;\n",
"S_loses=M_power-E_power;\n",
"eta_e=(W/E_power)*100;\n",
"disp(eta_e,'electrical efficiency,eta_e(%) = ')"
   ]
   }
,
{
		   "cell_type": "markdown",
		   "metadata": {},
		   "source": [
			"## Example 7.5_g_2: commercial_efficiency.sce"
		   ]
		  },
  {
"cell_type": "code",
	   "execution_count": null,
	   "metadata": {
	    "collapsed": true
	   },
	   "outputs": [],
"source": [
"//Example 7.5.g.i: commercial efficiency\n",
"clc;\n",
"clear;\n",
"close;\n",
"// given data:\n",
"n=3;// number of motors\n",
"n1=4;// number of parallel path in winding\n",
"i=30; //current in A\n",
"Bhp=65;// in hp\n",
"I=i*n;// current taken by three motors\n",
"Rsh=44; // shunt field resistance\n",
"Ra=0.08; // armature resistance in ohm\n",
"V=440; // voltage in V\n",
"Ish=V/Rsh;// shunt field current\n",
"Ia=I+Ish;\n",
"I1=Ia/n1;// current in each path\n",
"Va=Ia*Ra; // armature drop\n",
"Vb=2;// we know , brush contact drops\n",
"E=V+Va+Vb;\n",
"E_power=E*Ia;\n",
"W=V*I;// in watt\n",
"M_power=Bhp*746;// assume Bhp=746 W\n",
"Copper_losses=E_power-W;\n",
"S_loses=M_power-E_power;\n",
"eta_c=(W/M_power)*100;\n",
"disp(eta_c,'commercial efficiency,eta_c(%) = ')"
   ]
   }
,
{
		   "cell_type": "markdown",
		   "metadata": {},
		   "source": [
			"## Example 7.5_g_3: mechanical_efficiency.sce"
		   ]
		  },
  {
"cell_type": "code",
	   "execution_count": null,
	   "metadata": {
	    "collapsed": true
	   },
	   "outputs": [],
"source": [
"//Example 7.5.g.i: electrical efficiency\n",
"clc;\n",
"clear;\n",
"close;\n",
"// given data:\n",
"n=3;// number of motors\n",
"n1=4;// number of parallel path in winding\n",
"i=30; //current in A\n",
"Bhp=65;// in hp\n",
"I=i*n;// current taken by three motors\n",
"Rsh=44; // shunt field resistance\n",
"Ra=0.08; // armature resistance in ohm\n",
"V=440; // voltage in V\n",
"Ish=V/Rsh;// shunt field current\n",
"Ia=I+Ish;\n",
"I1=Ia/n1;// current in each path\n",
"Va=Ia*Ra; // armature drop\n",
"Vb=2;// we know , brush contact drops\n",
"E=V+Va+Vb;\n",
"E_power=E*Ia;\n",
"W=V*I;// in watt\n",
"M_power=Bhp*746;// assume Bhp=746 W\n",
"Copper_losses=E_power-W;\n",
"S_loses=M_power-E_power;\n",
"eta_m=(E_power/M_power)*100;\n",
"disp(eta_m,'mechanical efficiency,eta_m(%) = ')"
   ]
   }
],
"metadata": {
		  "kernelspec": {
		   "display_name": "Scilab",
		   "language": "scilab",
		   "name": "scilab"
		  },
		  "language_info": {
		   "file_extension": ".sce",
		   "help_links": [
			{
			 "text": "MetaKernel Magics",
			 "url": "https://github.com/calysto/metakernel/blob/master/metakernel/magics/README.md"
			}
		   ],
		   "mimetype": "text/x-octave",
		   "name": "scilab",
		   "version": "0.7.1"
		  }
		 },
		 "nbformat": 4,
		 "nbformat_minor": 0
}
