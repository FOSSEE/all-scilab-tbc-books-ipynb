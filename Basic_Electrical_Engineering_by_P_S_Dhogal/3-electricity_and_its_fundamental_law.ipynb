{
"cells": [
 {
		   "cell_type": "markdown",
	   "metadata": {},
	   "source": [
       "# Chapter 3: electricity and its fundamental law"
	   ]
	},
{
		   "cell_type": "markdown",
		   "metadata": {},
		   "source": [
			"## Example 3.10: current.sce"
		   ]
		  },
  {
"cell_type": "code",
	   "execution_count": null,
	   "metadata": {
	    "collapsed": true
	   },
	   "outputs": [],
"source": [
"//Example 3.10 // current\n",
"clc;\n",
"clear;\n",
"close;\n",
"//given data :\n",
"I=44; // current in A\n",
"r1=6; // resistance in ohm\n",
"r2=12;  // resistance in ohm\n",
"r3=18; // resistance in ohmr1\n",
"a=(1/r1)+(1/r2)+(1/r3);\n",
"R=1/a;\n",
"V=I*R;\n",
"i1=V/r1;\n",
"i2=V/r2;\n",
"i3=V/r3;\n",
"disp(i1,'current in 6 ohm resistance,i1(A) = ')\n",
"disp(i2,'current in 12 ohm resistance,i2(A) = ')\n",
"disp(i3,'current in 18 ohm resistance,i3(A) = ')"
   ]
   }
,
{
		   "cell_type": "markdown",
		   "metadata": {},
		   "source": [
			"## Example 3.11_a: unknow_resistance.sce"
		   ]
		  },
  {
"cell_type": "code",
	   "execution_count": null,
	   "metadata": {
	    "collapsed": true
	   },
	   "outputs": [],
"source": [
"//Example 3.11.A // RESISTANCE\n",
"clc;\n",
"clear;\n",
"close;\n",
"t=15;//TOTAL CURRENT IN AMPERES\n",
"i1=2;//CURRENT THROUGH UNKNOWN RESISTANCE\n",
"R1=15;//in ohms\n",
"R2=50/2;//in ohms\n",
"x=(t-i1)*((R1*R2)/(R1+2*R2));//unknown resistance in ohms)\n",
"disp(x,'unknown resistance in ohms')"
   ]
   }
,
{
		   "cell_type": "markdown",
		   "metadata": {},
		   "source": [
			"## Example 3.11_b: potential_drop.sce"
		   ]
		  },
  {
"cell_type": "code",
	   "execution_count": null,
	   "metadata": {
	    "collapsed": true
	   },
	   "outputs": [],
"source": [
"//Example 3.11.B // potential drop across the circuit\n",
"clc;\n",
"clear;\n",
"close;\n",
"t=15;//TOTAL CURRENT IN AMPERES\n",
"i1=2;//CURRENT THROUGH UNKNOWN RESISTANCE\n",
"R1=15;//in ohms\n",
"R2=50/2;//in ohms\n",
"x=(t-i1)*((R1*R2)/(R1+2*R2));//unknown resistance in ohms\n",
"PD=i1*x;//in volts\n",
"disp(PD,'potential drop across the circuit in volts is')"
   ]
   }
,
{
		   "cell_type": "markdown",
		   "metadata": {},
		   "source": [
			"## Example 3.11_c: current.sce"
		   ]
		  },
  {
"cell_type": "code",
	   "execution_count": null,
	   "metadata": {
	    "collapsed": true
	   },
	   "outputs": [],
"source": [
"//Example 3.11.C // CURRENT IN EACH RESISTANCE\n",
"clc;\n",
"clear;\n",
"close;\n",
"t=15;//TOTAL CURRENT IN AMPERES\n",
"i1=2;//CURRENT THROUGH UNKNOWN RESISTANCE\n",
"R1=15;//in ohms\n",
"R2=50/2;//in ohms\n",
"x=(t-i1)*((R1*R2)/(R1+2*R2));//unknown resistance in ohms\n",
"PD=i1*x;//in volts\n",
"i5= PD/(2*R2);//current in 5 ohms resistance\n",
"i15=PD/R1;//current in 15 ohms resistance\n",
"disp(i5,'current in 5 ohms resistance in ampere')\n",
"disp(i15,'current in 15 ohms resistance in ampere')"
   ]
   }
,
{
		   "cell_type": "markdown",
		   "metadata": {},
		   "source": [
			"## Example 3.11_d: total_resistance.sce"
		   ]
		  },
  {
"cell_type": "code",
	   "execution_count": null,
	   "metadata": {
	    "collapsed": true
	   },
	   "outputs": [],
"source": [
"//Example 3.11.d // total resistance\n",
"clc;\n",
"clear;\n",
"close;\n",
"t=15;//TOTAL CURRENT IN AMPERES\n",
"i1=2;//CURRENT THROUGH UNKNOWN RESISTANCE\n",
"R1=15;//in ohms\n",
"R2=50/2;//in ohms\n",
"x=(t-i1)*((R1*R2)/(R1+2*R2));//unknown resistance in ohms\n",
"PD=i1*x;//in volts\n",
"RX=((1/R1)+(1/(2*R2))+(1/x));//\n",
"R=1/RX;//\n",
"disp(R,'total resistance of the circuit in ohms')"
   ]
   }
,
{
		   "cell_type": "markdown",
		   "metadata": {},
		   "source": [
			"## Example 3.1: resistance.sce"
		   ]
		  },
  {
"cell_type": "code",
	   "execution_count": null,
	   "metadata": {
	    "collapsed": true
	   },
	   "outputs": [],
"source": [
"//Example 3.1 // resistance\n",
"clc;\n",
"clear;\n",
"close;\n",
"//given data :\n",
"V=230; // in volts\n",
"I=10; // in A\n",
"R=V/I;\n",
"disp(R,'resistance of element,R(ohm)= ')"
   ]
   }
,
{
		   "cell_type": "markdown",
		   "metadata": {},
		   "source": [
			"## Example 3.2: voltage.sce"
		   ]
		  },
  {
"cell_type": "code",
	   "execution_count": null,
	   "metadata": {
	    "collapsed": true
	   },
	   "outputs": [],
"source": [
"//Example 3.2 // voltage\n",
"clc;\n",
"clear;\n",
"close;\n",
"//given data :\n",
"R1=0.5; // minimum value of resistance in ohm\n",
"R2=20; // maximum value of resistance in ohm\n",
"I=1.2; // current in A\n",
"V1=I*R1;\n",
"V2=I*R2;\n",
"disp(V1,'voltage drop in Ist case,V1(V) = ')\n",
"disp(V2,'voltage drop in IInd case,V2(V) = ')"
   ]
   }
,
{
		   "cell_type": "markdown",
		   "metadata": {},
		   "source": [
			"## Example 3.3: specific_resistance.sce"
		   ]
		  },
  {
"cell_type": "code",
	   "execution_count": null,
	   "metadata": {
	    "collapsed": true
	   },
	   "outputs": [],
"source": [
"//Example 3.3 // resistance\n",
"clc;\n",
"clear;\n",
"close;\n",
"//given data :\n",
"L=1000; // length of wire in cm\n",
"d=0.14; // diameter of wire in cm\n",
"R1=2.5*10^6; // resistance in micro-ohm\n",
"a=(%pi*d^2)/4; // cross section area\n",
"p=(R1*a)/L;\n",
"disp(p,'the specific resistance,p(micro-ohm-cm) = ')"
   ]
   }
,
{
		   "cell_type": "markdown",
		   "metadata": {},
		   "source": [
			"## Example 3.4: resistance.sce"
		   ]
		  },
  {
"cell_type": "code",
	   "execution_count": null,
	   "metadata": {
	    "collapsed": true
	   },
	   "outputs": [],
"source": [
"//Example 3.4 // resistance\n",
"clc;\n",
"clear;\n",
"close;\n",
"//given data :\n",
"Rt1=54.3; //  resistance in ohm\n",
"alfa=0.0043; // the resistance temperature of coeficient in per degree celcius\n",
"t1=20; // temperature in degree celcius\n",
"t2=40; // temperature in degree celcius\n",
"Rt2=(Rt1*(1+(alfa*t2)))/(1+(alfa*t1));\n",
"disp(Rt2,'resistance at 40 degree celsius,Rt2(ohm) =  ')"
   ]
   }
,
{
		   "cell_type": "markdown",
		   "metadata": {},
		   "source": [
			"## Example 3.5_a: total_resistance.sce"
		   ]
		  },
  {
"cell_type": "code",
	   "execution_count": null,
	   "metadata": {
	    "collapsed": true
	   },
	   "outputs": [],
"source": [
"//Example 3.5.a // resistance\n",
"clc;\n",
"clear;\n",
"close;\n",
"//given data :\n",
"r1=30; //  resistance in ohm\n",
"r2=35;  //  resistance in ohm\n",
"r3=45;  //  resistance in ohm\n",
"R=r1+r2+r3;\n",
"disp(R,'total resistance,R(ohm) = ')"
   ]
   }
,
{
		   "cell_type": "markdown",
		   "metadata": {},
		   "source": [
			"## Example 3.5_b: current_flowing.sce"
		   ]
		  },
  {
"cell_type": "code",
	   "execution_count": null,
	   "metadata": {
	    "collapsed": true
	   },
	   "outputs": [],
"source": [
"//Example 3.5.b // current\n",
"clc;\n",
"clear;\n",
"close;\n",
"//given data :\n",
"r1=30; //  resistance in ohm\n",
"r2=35;  //  resistance in ohm\n",
"r3=45;  //  resistance in ohm\n",
"R=r1+r2+r3;\n",
"V=220;\n",
"I=V/R;\n",
"disp(I,'current,I(A) = ')"
   ]
   }
,
{
		   "cell_type": "markdown",
		   "metadata": {},
		   "source": [
			"## Example 3.6: voltage.sce"
		   ]
		  },
  {
"cell_type": "code",
	   "execution_count": null,
	   "metadata": {
	    "collapsed": true
	   },
	   "outputs": [],
"source": [
"//Example 3.6 // voltage at the generating station\n",
"clc;\n",
"clear;\n",
"close;\n",
"//given data :\n",
"I=75; // current in A\n",
"R=0.15; // resistance in ohm\n",
"v=220; // voltage in volts\n",
"V1=I*R; // voltage drop of the feeder in section AB\n",
"V2=I*R; // voltage drop of the feeder in section CD\n",
"V_total=V1+V2; // total voltage drop in the lead and return feeder\n",
"V=v+V_total;\n",
"disp(V,'voltage at the generating station,V(v) = ')"
   ]
   }
,
{
		   "cell_type": "markdown",
		   "metadata": {},
		   "source": [
			"## Example 3.7: total_resistance.sce"
		   ]
		  },
  {
"cell_type": "code",
	   "execution_count": null,
	   "metadata": {
	    "collapsed": true
	   },
	   "outputs": [],
"source": [
"//Example 3.7 // total resistance\n",
"clc;\n",
"clear;\n",
"close;\n",
"//given data :\n",
"r1=6; //  resistance in ohm\n",
"r2=10;  //  resistance in ohm\n",
"r3=15;  //  resistance in ohm\n",
"r=(1/r1)+(1/r2)+(1/r3);\n",
"R=1/r;\n",
"disp(R,'equivalent resistance,R(ohm) = ')"
   ]
   }
,
{
		   "cell_type": "markdown",
		   "metadata": {},
		   "source": [
			"## Example 3.8: voltage.sce"
		   ]
		  },
  {
"cell_type": "code",
	   "execution_count": null,
	   "metadata": {
	    "collapsed": true
	   },
	   "outputs": [],
"source": [
"//Example 3.8 // voltage\n",
"clc;\n",
"clear;\n",
"close;\n",
"//given data :\n",
"I=5; // current in A\n",
"n=2; // number of resistance in parallel of section BC\n",
"r1=15; //  resistance in ohm\n",
"r2=20; //  resistance in ohm\n",
"r3=60; //  resistance in ohm\n",
"r4=64; //  resistance in ohm\n",
"r5=64; //  resistance in ohm\n",
"r6=2.5; //  resistance in ohm\n",
"R1=r4/n; // equivalent resistance of section BC\n",
"R2=(r1*r2*r3)/((r1*r2)+(r2*r3)+(r3*r1)); // equivalent resistance of section CD\n",
"R=R1+R2+r6; // equivalent resistance of section AD\n",
"V=I*R;\n",
"disp(V,'voltage,V(v) = ')"
   ]
   }
,
{
		   "cell_type": "markdown",
		   "metadata": {},
		   "source": [
			"## Example 3.9: effective_resistance_and_current.sce"
		   ]
		  },
  {
"cell_type": "code",
	   "execution_count": null,
	   "metadata": {
	    "collapsed": true
	   },
	   "outputs": [],
"source": [
"//Example 3.9 // resistance and current\n",
"clc;\n",
"clear;\n",
"close;\n",
"//given data :\n",
"V=240; // voltage in volts\n",
"r1=2; // resistance in ohm\n",
"r2=3; // resistance in ohm\n",
"r3=8.8;  // resistance in ohm\n",
"r4=10;  // resistance in ohm\n",
"r5=3;  // resistance in ohm\n",
"R1=(r1*r2)/(r1+r2); // equivalent resistance of parallel branch\n",
"R2=R1+r3; // equivalent resistance of section ABC\n",
"R3=(R2*r4)/(R2+r4);\n",
"R=R3+r5; // total resistance of section AD\n",
"I=V/R;\n",
"V1=I*r5; // voltage drop across r5\n",
"V2=V-V1; // voltage drop across section ABC\n",
"I1=V2/r4; // current flowing through r4 resistance\n",
"I2=I-I1; // current in r3 resistance\n",
"V3=I2*r3; // voltage drop across r3 resistance, section ABC\n",
"V4=V2-V3; // voltage drop between section AB\n",
"I3=V4/r1; // current flowing through r1 resistance\n",
"I4=V4/r2; //  current flowing through r2 resistance\n",
"disp(I3,'current flowing through r1 (2 ohms) resistance,I3(A) = ')\n",
"disp(I4,'current flowing through r2 (3 ohms)resistance,I4(A) = ')\n",
"disp(R,'total resistance,R(ohm) = ')\n",
"disp(V1,'voltage drop across r5(3 ohms) resistance,V1(V) = ')\n",
"disp(V2,'voltage drop across section ABC,V2(V) = ')\n",
"disp(V3,'voltage drop across r3 resistance(8.8 ohms),V3(V) = ')\n",
"disp(V4,' voltage drop between section AB,V4(V) = ')"
   ]
   }
],
"metadata": {
		  "kernelspec": {
		   "display_name": "Scilab",
		   "language": "scilab",
		   "name": "scilab"
		  },
		  "language_info": {
		   "file_extension": ".sce",
		   "help_links": [
			{
			 "text": "MetaKernel Magics",
			 "url": "https://github.com/calysto/metakernel/blob/master/metakernel/magics/README.md"
			}
		   ],
		   "mimetype": "text/x-octave",
		   "name": "scilab",
		   "version": "0.7.1"
		  }
		 },
		 "nbformat": 4,
		 "nbformat_minor": 0
}
