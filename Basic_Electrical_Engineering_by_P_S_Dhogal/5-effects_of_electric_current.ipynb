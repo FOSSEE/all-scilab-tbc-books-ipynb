{
"cells": [
 {
		   "cell_type": "markdown",
	   "metadata": {},
	   "source": [
       "# Chapter 5: effects of electric current"
	   ]
	},
{
		   "cell_type": "markdown",
		   "metadata": {},
		   "source": [
			"## Example 5.1: ECE_of_silver.sce"
		   ]
		  },
  {
"cell_type": "code",
	   "execution_count": null,
	   "metadata": {
	    "collapsed": true
	   },
	   "outputs": [],
"source": [
"//Example 5.1: E.C.E\n",
"clc;\n",
"clear;\n",
"close;\n",
"//given data :\n",
"t=200; // time in sec\n",
"M=111.83; // silver in mg\n",
"I=0.5; // current in A\n",
"Z=(M/(I*t*1000))*1000;// electro-chemical-equivalent\n",
"disp(Z,'E.C.E,Z(mg/C) = ')"
   ]
   }
,
{
		   "cell_type": "markdown",
		   "metadata": {},
		   "source": [
			"## Example 5.2: thickness_of_coper.sce"
		   ]
		  },
  {
"cell_type": "code",
	   "execution_count": null,
	   "metadata": {
	    "collapsed": true
	   },
	   "outputs": [],
"source": [
"//Example 5.2: thickness  \n",
"clc;\n",
"clear;\n",
"close;\n",
"//given data :\n",
"Z=0.329*10^-3;// IN g/C\n",
"I=1;// in amperes\n",
"t=90*60;// in seconds\n",
"M=Z*I*t;// in grams \n",
"A=200;//area in centimete square\n",
"S=8.9;//density in g/cc\n",
"T=(M)/(2*A*S);//thickness in cm\n",
"disp(T,'thickness of copper in cm is')"
   ]
   }
,
{
		   "cell_type": "markdown",
		   "metadata": {},
		   "source": [
			"## Example 5.3: resistance.sce"
		   ]
		  },
  {
"cell_type": "code",
	   "execution_count": null,
	   "metadata": {
	    "collapsed": true
	   },
	   "outputs": [],
"source": [
"//Example 5.3 // resistance of the heater element\n",
"clc;\n",
"clear;\n",
"close;\n",
"w=15;// in kg\n",
"t1=15;// in degree celsius\n",
"t2=100;//in degree celsius\n",
"t=25;// time in minutes\n",
"I=10;// in ampere\n",
"n=85;//efficiency of conversion in percentage\n",
"ho=w*(t2-t1);//output heat required in kcal\n",
"R=((ho*4187*100)/(I^2*t*60*n));// resistance in ohms\n",
"disp(R,'resistance in ohms')"
   ]
   }
,
{
		   "cell_type": "markdown",
		   "metadata": {},
		   "source": [
			"## Example 5.4: potential_difference.sce"
		   ]
		  },
  {
"cell_type": "code",
	   "execution_count": null,
	   "metadata": {
	    "collapsed": true
	   },
	   "outputs": [],
"source": [
"//Example 5.4 // potential difference across the heater element\n",
"clc;\n",
"clear;\n",
"close;\n",
"w=20;// in kg\n",
"t1=10;// in degree celsius\n",
"t2=90;//in degree celsius\n",
"t=2*3600+19*60+34;// time in seconds\n",
"I=4;// in ampere\n",
"n=80;//efficiency of conversion in percentage\n",
"ho=w*(t2-t1);//output heat required in kcal\n",
"V=((ho*4187*100)/(I*t*n));// POTENTIAL DROP IN VOLTS\n",
"disp(V,'potential drop across heater element in volts is')"
   ]
   }
],
"metadata": {
		  "kernelspec": {
		   "display_name": "Scilab",
		   "language": "scilab",
		   "name": "scilab"
		  },
		  "language_info": {
		   "file_extension": ".sce",
		   "help_links": [
			{
			 "text": "MetaKernel Magics",
			 "url": "https://github.com/calysto/metakernel/blob/master/metakernel/magics/README.md"
			}
		   ],
		   "mimetype": "text/x-octave",
		   "name": "scilab",
		   "version": "0.7.1"
		  }
		 },
		 "nbformat": 4,
		 "nbformat_minor": 0
}
