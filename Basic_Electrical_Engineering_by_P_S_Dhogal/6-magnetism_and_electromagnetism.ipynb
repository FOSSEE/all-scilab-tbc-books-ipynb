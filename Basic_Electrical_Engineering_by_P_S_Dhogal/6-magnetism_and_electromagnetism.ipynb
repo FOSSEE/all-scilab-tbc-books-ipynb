{
"cells": [
 {
		   "cell_type": "markdown",
	   "metadata": {},
	   "source": [
       "# Chapter 6: magnetism and electromagnetism"
	   ]
	},
{
		   "cell_type": "markdown",
		   "metadata": {},
		   "source": [
			"## Example 6.1: field_strength.sce"
		   ]
		  },
  {
"cell_type": "code",
	   "execution_count": null,
	   "metadata": {
	    "collapsed": true
	   },
	   "outputs": [],
"source": [
"//Example 6.1 // field strength\n",
"clc;\n",
"clear;\n",
"close;\n",
"I=1.5;// in amperes\n",
"n=50;//turns\n",
"l=0.25;//length of coil in meter\n",
"H=(I*n)/l;//field strength in ampere-turns/m\n",
"disp(H,'field strength in ampere-turns/m')"
   ]
   }
,
{
		   "cell_type": "markdown",
		   "metadata": {},
		   "source": [
			"## Example 6.2: force.sce"
		   ]
		  },
  {
"cell_type": "code",
	   "execution_count": null,
	   "metadata": {
	    "collapsed": true
	   },
	   "outputs": [],
"source": [
"//Example 6.2 // force\n",
"clc;\n",
"clear;\n",
"close;\n",
"I=70;// in amperes\n",
"B=0.4;//flus density in Wb/m^2\n",
"n=1;//turns\n",
"F=B*n*I;// in newton\n",
"disp(F,'force in newtons is')"
   ]
   }
,
{
		   "cell_type": "markdown",
		   "metadata": {},
		   "source": [
			"## Example 6.3: emf_induced.sce"
		   ]
		  },
  {
"cell_type": "code",
	   "execution_count": null,
	   "metadata": {
	    "collapsed": true
	   },
	   "outputs": [],
"source": [
"//Example 6.3 // emf induced\n",
"clc;\n",
"clear;\n",
"close;\n",
"b=2;//in Wb/m^2\n",
"l=6;//in cm\n",
"s=0.75;//in m's\n",
"alpha=90;//\n",
"emf=b*l*s*(sind(alpha));//\n",
"disp(emf,'emf induced in volts is')"
   ]
   }
],
"metadata": {
		  "kernelspec": {
		   "display_name": "Scilab",
		   "language": "scilab",
		   "name": "scilab"
		  },
		  "language_info": {
		   "file_extension": ".sce",
		   "help_links": [
			{
			 "text": "MetaKernel Magics",
			 "url": "https://github.com/calysto/metakernel/blob/master/metakernel/magics/README.md"
			}
		   ],
		   "mimetype": "text/x-octave",
		   "name": "scilab",
		   "version": "0.7.1"
		  }
		 },
		 "nbformat": 4,
		 "nbformat_minor": 0
}
