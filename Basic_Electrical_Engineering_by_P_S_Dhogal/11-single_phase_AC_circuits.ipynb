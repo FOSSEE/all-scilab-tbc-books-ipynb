{
"cells": [
 {
		   "cell_type": "markdown",
	   "metadata": {},
	   "source": [
       "# Chapter 11: single phase AC circuits"
	   ]
	},
{
		   "cell_type": "markdown",
		   "metadata": {},
		   "source": [
			"## Example 11.10_a: impedance.sce"
		   ]
		  },
  {
"cell_type": "code",
	   "execution_count": null,
	   "metadata": {
	    "collapsed": true
	   },
	   "outputs": [],
"source": [
"//Example 11.10.a // impedence\n",
"clc;\n",
"clear;\n",
"close;\n",
"R=5.94;//in ohms\n",
"L=0.35;//IN HENRY\n",
"C=35;// in micro farads\n",
"V=220;//IN VOLTS\n",
"F=50;// IN HERTS\n",
"Xc=(1/(2*%pi*F*C*10^-6));// capacitive reactance in ohms\n",
"Xl=2*%pi*F*L;// inductive reactance in ohms\n",
"Z=sqrt(R^2+(Xl-Xc)^2);// impedence in ohms\n",
"disp(round(Z),'impedence in ohms is')"
   ]
   }
,
{
		   "cell_type": "markdown",
		   "metadata": {},
		   "source": [
			"## Example 11.10_b: current.sce"
		   ]
		  },
  {
"cell_type": "code",
	   "execution_count": null,
	   "metadata": {
	    "collapsed": true
	   },
	   "outputs": [],
"source": [
"//Example 11.10.B // CURRENT\n",
"clc;\n",
"clear;\n",
"close;\n",
"R=5.94;//in ohms\n",
"L=0.35;//IN HENRY\n",
"C=35;// in micro farads\n",
"V=200;//IN VOLTS it is given wrong in the book\n",
"F=50;// IN HERTS\n",
"Xc=(1/(2*%pi*F*C*10^-6));// capacitive reactance in ohms\n",
"Xl=2*%pi*F*L;// inductive reactance in ohms\n",
"Z=sqrt(R^2+(Xl-Xc)^2);// impedence in ohms\n",
"I=V/round(Z);// in amperes\n",
"disp(I,'current in amperes is')"
   ]
   }
,
{
		   "cell_type": "markdown",
		   "metadata": {},
		   "source": [
			"## Example 11.10_c: phase_angles.sce"
		   ]
		  },
  {
"cell_type": "code",
	   "execution_count": null,
	   "metadata": {
	    "collapsed": true
	   },
	   "outputs": [],
"source": [
"//Example 11.10.c // angle of phase diffenrce\n",
"clc;\n",
"clear;\n",
"close;\n",
"R=5.94;//in ohms\n",
"L=0.35;//IN HENRY\n",
"C=35;// in micro farads\n",
"V=200;//IN VOLTS it is given wrong in the book\n",
"F=50;// IN HERTS\n",
"Xc=(1/(2*%pi*F*C*10^-6));// capacitive reactance in ohms\n",
"Xl=2*%pi*F*L;// inductive reactance in ohms\n",
"Z=sqrt(R^2+(Xl-Xc)^2);// impedence in ohms\n",
"I=V/round(Z);// in amperes\n",
"pf=R/round(Z);// power factor\n",
"disp(pf,'angle of phase diffence between voltage and current is')"
   ]
   }
,
{
		   "cell_type": "markdown",
		   "metadata": {},
		   "source": [
			"## Example 11.10_d: voltage.sce"
		   ]
		  },
  {
"cell_type": "code",
	   "execution_count": null,
	   "metadata": {
	    "collapsed": true
	   },
	   "outputs": [],
"source": [
"//Example 11.10.d // voltage across te coil\n",
"clc;\n",
"clear;\n",
"close;\n",
"R=5.94;//in ohms\n",
"L=0.35;//IN HENRY\n",
"C=35;// in micro farads\n",
"V=200;//IN VOLTS it is given wrong in the book\n",
"F=50;// IN HERTS\n",
"Xc=(1/(2*%pi*F*C*10^-6));// capacitive reactance in ohms\n",
"Xl=2*%pi*F*L;// inductive reactance in ohms\n",
"Z=sqrt(R^2+(Xl-Xc)^2);// impedence in ohms\n",
"I=V/round(Z);// in amperes\n",
"pf=R/round(Z);// power factor\n",
"Zc=sqrt(R^2+Xl^2);//impedence of the coil\n",
"Vl=I*Zc;//voltage drop across the coil\n",
"disp(Vl,'voltage across the coil in volts is')"
   ]
   }
,
{
		   "cell_type": "markdown",
		   "metadata": {},
		   "source": [
			"## Example 11.10_e: voltage_across_the_coil.sce"
		   ]
		  },
  {
"cell_type": "code",
	   "execution_count": null,
	   "metadata": {
	    "collapsed": true
	   },
	   "outputs": [],
"source": [
"//Example 11.10.e // voltage across the capacitor\n",
"clear;\n",
"close;\n",
"clc;\n",
"R=5.94;//in ohms\n",
"L=0.35;//IN HENRY\n",
"C=35;// in micro farads\n",
"V=200;//IN VOLTS it is given wrong in the book\n",
"F=50;// IN HERTS\n",
"Xc=(1/(2*%pi*F*C*10^-6));// capacitive reactance in ohms\n",
"Xl=2*%pi*F*L;// inductive reactance in ohms\n",
"Z=sqrt(R^2+(Xl-Xc)^2);// impedence in ohms\n",
"I=V/round(Z);// in amperes\n",
"pf=R/round(Z);// power factor\n",
"Vc=I*Xc;//voltage drop across the capacitor\n",
"disp(Vc,'voltage across capacitor in volts is')"
   ]
   }
,
{
		   "cell_type": "markdown",
		   "metadata": {},
		   "source": [
			"## Example 11.10_f: total_power_take.sce"
		   ]
		  },
  {
"cell_type": "code",
	   "execution_count": null,
	   "metadata": {
	    "collapsed": true
	   },
	   "outputs": [],
"source": [
"//Example 11.10.f // total power taken\n",
"clear;\n",
"close;\n",
"clc;\n",
"R=5.94;//in ohms\n",
"L=0.35;//IN HENRY\n",
"C=35;// in micro farads\n",
"V=200;//IN VOLTS it is given wrong in the book\n",
"F=50;// IN HERTS\n",
"Xc=(1/(2*%pi*F*C*10^-6));// capacitive reactance in ohms\n",
"Xl=2*%pi*F*L;// inductive reactance in ohms\n",
"Z=sqrt(R^2+(Xl-Xc)^2);// impedence in ohms\n",
"I=V/round(Z);// in amperes\n",
"W=I^2*R;//total power taken in watts\n",
"disp(W,'total power taken in watts is')"
   ]
   }
,
{
		   "cell_type": "markdown",
		   "metadata": {},
		   "source": [
			"## Example 11.11_a: total_impedance.sce"
		   ]
		  },
  {
"cell_type": "code",
	   "execution_count": null,
	   "metadata": {
	    "collapsed": true
	   },
	   "outputs": [],
"source": [
"//Example 11.11.a // impedence\n",
"clc;\n",
"clear;\n",
"close;\n",
"r1=6;//in ohms\n",
"r2=3.95;//in ohms\n",
"R=r1+r2;//in ohms\n",
"L1=0.21;//IN HENRY\n",
"L2=0.14;//in henry\n",
"C1=30;// in micro farads\n",
"C2=60;//in micro farads\n",
"V=220;//IN VOLTS\n",
"F=50;// IN HERTS\n",
"Xc1=(1/(2*%pi*F*C1*10^-6));// capacitive reactance in ohms\n",
"Xc2=(1/(2*%pi*F*C2*10^-6));// capacitive reactance in ohms\n",
"Xc=Xc1+Xc2;//IN OHMS\n",
"Xl1=2*%pi*F*L1;// inductive reactance in ohms\n",
"Xl2=2*%pi*F*L2;// inductive reactance in ohms\n",
"Xl=Xl1+Xl2;//in ohms\n",
"Z=sqrt(R^2+(Xl-Xc)^2);// impedence in ohms\n",
"disp(round(Z),'impedence in ohms is')"
   ]
   }
,
{
		   "cell_type": "markdown",
		   "metadata": {},
		   "source": [
			"## Example 11.11_b: current_taken.sce"
		   ]
		  },
  {
"cell_type": "code",
	   "execution_count": null,
	   "metadata": {
	    "collapsed": true
	   },
	   "outputs": [],
"source": [
"//Example 11.11.b // current taken\n",
"clc;\n",
"clear;\n",
"close;\n",
"r1=6;//in ohms\n",
"r2=3.95;//in ohms\n",
"R=r1+r2;//in ohms\n",
"L1=0.21;//IN HENRY\n",
"L2=0.14;//in henry\n",
"C1=30;// in micro farads\n",
"C2=60;//in micro farads\n",
"V=200;//IN VOLTS\n",
"F=50;// IN HERTS\n",
"Xc1=(1/(2*%pi*F*C1*10^-6));// capacitive reactance in ohms\n",
"Xc2=(1/(2*%pi*F*C2*10^-6));// capacitive reactance in ohms\n",
"Xc=Xc1+Xc2;//IN OHMS\n",
"Xl1=2*%pi*F*L1;// inductive reactance in ohms\n",
"Xl2=2*%pi*F*L2;// inductive reactance in ohms\n",
"Xl=Xl1+Xl2;//in ohms\n",
"Z=sqrt(R^2+(Xl-Xc)^2);// impedence in ohms\n",
"I=V/Z;//\n",
"disp(round(I),'current in amperes is')"
   ]
   }
,
{
		   "cell_type": "markdown",
		   "metadata": {},
		   "source": [
			"## Example 11.11_c: power_factor.sce"
		   ]
		  },
  {
"cell_type": "code",
	   "execution_count": null,
	   "metadata": {
	    "collapsed": true
	   },
	   "outputs": [],
"source": [
"//Example 11.11.c // power factor\n",
"clc;\n",
"clear;\n",
"close;\n",
"r1=6;//in ohms\n",
"r2=3.95;//in ohms\n",
"R=r1+r2;//in ohms\n",
"L1=0.21;//IN HENRY\n",
"L2=0.14;//in henry\n",
"C1=30;// in micro farads\n",
"C2=60;//in micro farads\n",
"V=200;//IN VOLTS\n",
"F=50;// IN HERTS\n",
"Xc1=(1/(2*%pi*F*C1*10^-6));// capacitive reactance in ohms\n",
"Xc2=(1/(2*%pi*F*C2*10^-6));// capacitive reactance in ohms\n",
"Xc=Xc1+Xc2;//IN OHMS\n",
"Xl1=2*%pi*F*L1;// inductive reactance in ohms\n",
"Xl2=2*%pi*F*L2;// inductive reactance in ohms\n",
"Xl=Xl1+Xl2;//in ohms\n",
"Z=sqrt(R^2+(Xl-Xc)^2);// impedence in ohms\n",
"I=V/Z;//\n",
"pf=R/Z;// leading power factor\n",
"disp(pf,'power factor (leading) is')"
   ]
   }
,
{
		   "cell_type": "markdown",
		   "metadata": {},
		   "source": [
			"## Example 11.12_a: current_taken.sce"
		   ]
		  },
  {
"cell_type": "code",
	   "execution_count": null,
	   "metadata": {
	    "collapsed": true
	   },
	   "outputs": [],
"source": [
"//Example 11.12.a // current\n",
"clc;\n",
"clear;\n",
"close;\n",
"V=200;// in volts\n",
"L=0.04;// in henry\n",
"C=100;//in micro fards\n",
"f=50;// hertz\n",
"Xl=2*%pi*f*L;//inductive reactance in ohms\n",
"Xc=(1/(2*%pi*f*C*10^-6));//CAPACITIVE REACTANCE IN OHMS\n",
"Z1=10;//ohms\n",
"R1=10;// in ohms\n",
"X1=0;// in ohms\n",
"R2=5;// in ohms\n",
"Z2=sqrt(R2^2+Xl^2);//in ohms\n",
"X2=Xl;//\n",
"R3=15;// in ohms\n",
"Z3=sqrt(R3^2+Xc^2);// IN OHMS\n",
"X3=Xc;//\n",
"g1=R1/(Z1)^2;// conductance of  branch 1 in mho\n",
"b1=X1/(Z1)^2;//susceptance in mho in branch 1\n",
"g2=R2/(Z2)^2;// conductance of  branch 2 in mho\n",
"b2=X2/(Z2)^2;//susceptance in mho in branch 2\n",
"g3=R3/(Z3)^2;// conductance of  branch 3 in mho\n",
"b3=X3/(Z3)^2;//susceptance in mho in branch 3\n",
"G=g1+g2+g3;// total conductance in mho\n",
"B=b1+b2-b3;// total susceptance in mho\n",
"Y=sqrt(G^2+B^2);//in ohms\n",
"I=V*Y;//curent in ampere\n",
"disp(I,'current in amperes is')"
   ]
   }
,
{
		   "cell_type": "markdown",
		   "metadata": {},
		   "source": [
			"## Example 11.12_b: phase_angle.sce"
		   ]
		  },
  {
"cell_type": "code",
	   "execution_count": null,
	   "metadata": {
	    "collapsed": true
	   },
	   "outputs": [],
"source": [
"//Example 11.12.b // PHASE ANGLE OF CURRENT AND VOLTAGE\n",
"clc;\n",
"clear;\n",
"close;\n",
"V=200;// in volts\n",
"L=0.04;// in henry\n",
"C=100;//in micro fards\n",
"f=50;// hertz\n",
"Xl=2*%pi*f*L;//inductive reactance in ohms\n",
"Xc=(1/(2*%pi*f*C*10^-6));//CAPACITIVE REACTANCE IN OHMS\n",
"Z1=10;//ohms\n",
"R1=10;// in ohms\n",
"X1=0;// in ohms\n",
"R2=5;// in ohms\n",
"Z2=sqrt(R2^2+Xl^2);//in ohms\n",
"X2=Xl;//\n",
"R3=15;// in ohms\n",
"Z3=sqrt(R3^2+Xc^2);// IN OHMS\n",
"X3=Xc;//\n",
"g1=R1/(Z1)^2;// conductance of  branch 1 in mho\n",
"b1=X1/(Z1)^2;//susceptance in mho in branch 1\n",
"g2=R2/(Z2)^2;// conductance of  branch 2 in mho\n",
"b2=X2/(Z2)^2;//susceptance in mho in branch 2\n",
"g3=R3/(Z3)^2;// conductance of  branch 3 in mho\n",
"b3=X3/(Z3)^2;//susceptance in mho in branch 3\n",
"G=g1+g2+g3;// total conductance in mho\n",
"B=b1+b2-b3;// total susceptance in mho\n",
"Y=sqrt(G^2+B^2);//in ohms\n",
"I=V*Y;//curent in ampere\n",
"theta=acosd(G/Y);//\n",
"x=round(theta);//\n",
"y=theta-x;//\n",
"disp('phase angle is '+string(x)+' degree and '+string(60*y)+' munutes ')\n",
"//answer is wrong in the textbook"
   ]
   }
,
{
		   "cell_type": "markdown",
		   "metadata": {},
		   "source": [
			"## Example 11.12_c: series_equivalent_arrangement_of_resistance_and_reactance.sce"
		   ]
		  },
  {
"cell_type": "code",
	   "execution_count": null,
	   "metadata": {
	    "collapsed": true
	   },
	   "outputs": [],
"source": [
"//Example 11.12.c // series equivalent arrangement of resistance and reactance\n",
"clc;\n",
"clear;\n",
"close;\n",
"V=200;// in volts\n",
"L=0.04;// in henry\n",
"C=100;//in micro fards\n",
"f=50;// hertz\n",
"Xl=2*%pi*f*L;//inductive reactance in ohms\n",
"Xc=(1/(2*%pi*f*C*10^-6));//CAPACITIVE REACTANCE IN OHMS\n",
"Z1=10;//ohms\n",
"R1=10;// in ohms\n",
"X1=0;// in ohms\n",
"R2=5;// in ohms\n",
"Z2=sqrt(R2^2+Xl^2);//in ohms\n",
"X2=Xl;//\n",
"R3=15;// in ohms\n",
"Z3=sqrt(R3^2+Xc^2);// IN OHMS\n",
"X3=Xc;//\n",
"g1=R1/(Z1)^2;// conductance of  branch 1 in mho\n",
"b1=X1/(Z1)^2;//susceptance in mho in branch 1\n",
"g2=R2/(Z2)^2;// conductance of  branch 2 in mho\n",
"b2=X2/(Z2)^2;//susceptance in mho in branch 2\n",
"g3=R3/(Z3)^2;// conductance of  branch 3 in mho\n",
"b3=X3/(Z3)^2;//susceptance in mho in branch 3\n",
"G=g1+g2+g3;// total conductance in mho\n",
"B=b1+b2-b3;// total susceptance in mho\n",
"I=V/Z3;//curent in amperes\n",
"pf3=R3/Z3;//power factor\n",
"phi=acosd(pf3);//angle of phase differnce in degree\n",
"x=floor(phi);//\n",
"y=phi-x;//\n",
"tc3=pf3;//\n",
"ts3=sind(phi)\n",
"pf1=R1/R1;//\n",
"tc1=pf1;//\n",
"ts1=sind(acosd(pf1));//\n",
"I1=V/Z1;//\n",
"E1=I1*tc1;// energy component in branch 1\n",
"EL1=I1*ts1;// idel current component in branch 1\n",
"I2=V/Z2;//\n",
"pf2=R2/Z2;//\n",
"tc2=pf2;//\n",
"ts2=sind(acosd(pf2));//\n",
"E2=I2*tc2;//ENERGY COMPONENT IN BRANCH2\n",
"EL2=I2*ts2;//idele current component in branch 2\n",
"E3=I*tc3;//energy component in branch3\n",
"EL3=I*ts3;//idle component of current in branch 3\n",
"E=E1+E2+E3;//sum of energy component of current\n",
"EL=EL1+EL2-EL3;//sum of idel component of current\n",
"It=sqrt(E^2+EL^2);// total current\n",
"pft=E/It;//power factor of the complete circuit\n",
"phi=acosd(0.95);//angle of phase differnce in degree\n",
"x=round(phi);//\n",
"y=phi-x;//\n",
"Zt=V/It;//in ohms\n",
"R=Zt*pft;//equivalent series resistance\n",
"X=Zt*(sind(phi));//equivalent series reactance\n",
"disp(R,'equivalent series resistance in ohms is')\n",
"disp(X,'euivalent series reactance in ohms is')"
   ]
   }
,
{
		   "cell_type": "markdown",
		   "metadata": {},
		   "source": [
			"## Example 11.1: instantaneous_emf.sce"
		   ]
		  },
  {
"cell_type": "code",
	   "execution_count": null,
	   "metadata": {
	    "collapsed": true
	   },
	   "outputs": [],
"source": [
"//Example 11.1 // instantaneous value\n",
"clc;\n",
"clear;\n",
"close;\n",
"//given data :\n",
"E_max=500; // emf in volts\n",
"thita=30; // in degree\n",
"e=E_max*sind(thita);\n",
"disp(e,'instantaneous value,e(v) = ')"
   ]
   }
,
{
		   "cell_type": "markdown",
		   "metadata": {},
		   "source": [
			"## Example 11.2: rms_value_of_alternating_current.sce"
		   ]
		  },
  {
"cell_type": "code",
	   "execution_count": null,
	   "metadata": {
	    "collapsed": true
	   },
	   "outputs": [],
"source": [
"//Example 11.2 // rms value\n",
"clc;\n",
"clear;\n",
"close;\n",
"//given data :\n",
"I_max=1.414; // maximum value of current in A\n",
"I_rms=I_max*0.707;\n",
"disp(round(I_rms),'rms value of current,I_rms(A) ')"
   ]
   }
,
{
		   "cell_type": "markdown",
		   "metadata": {},
		   "source": [
			"## Example 11.3: current_drawn.sce"
		   ]
		  },
  {
"cell_type": "code",
	   "execution_count": null,
	   "metadata": {
	    "collapsed": true
	   },
	   "outputs": [],
"source": [
"//Example 11.3 // current drawn\n",
"clc;\n",
"clear;\n",
"close;\n",
"//given data :\n",
"f=50; // frequency in Hz\n",
"L=0.2; // inductance in H\n",
"V=220; // voltage in volts\n",
"pi=22/7;\n",
"XL=2*pi*f*L;// in ohm\n",
"Z=XL;\n",
"I=V/Z;\n",
"disp(I,'current drawn,I(A) = ')"
   ]
   }
,
{
		   "cell_type": "markdown",
		   "metadata": {},
		   "source": [
			"## Example 11.4: current.sce"
		   ]
		  },
  {
"cell_type": "code",
	   "execution_count": null,
	   "metadata": {
	    "collapsed": true
	   },
	   "outputs": [],
"source": [
"//Example 11.4 // current flowing\n",
"clc;\n",
"clear;\n",
"close;\n",
"//given data :\n",
"f=50; // frequency in Hz\n",
"C=100*10^-6;// capacitor in Farad\n",
"V=210; // voltage in volts\n",
"pi=22/7;\n",
"XC=(1/(2*pi*f*C));\n",
"Z=XC;\n",
"I=V/Z;\n",
"disp(I,'current flowing,I(A) = ')"
   ]
   }
,
{
		   "cell_type": "markdown",
		   "metadata": {},
		   "source": [
			"## Example 11.5_a: value_of_current_flowing.sce"
		   ]
		  },
  {
"cell_type": "code",
	   "execution_count": null,
	   "metadata": {
	    "collapsed": true
	   },
	   "outputs": [],
"source": [
"//Example 11.5.a // current\n",
"clc;\n",
"clear;\n",
"close;\n",
"//given data :\n",
"f=50; // frequency in Hz\n",
"L=0.4; // inductance in H\n",
"V=220; // voltage in volts\n",
"pi=22/7;\n",
"XL=2*pi*f*L;\n",
"I=V/XL;\n",
"f1=25; // when frequency is halved\n",
"pi=22/7;\n",
"XL1=2*pi*f1*L;\n",
"I1=V/XL1;\n",
"disp(I,'current flowing,I(A) = ')\n",
"disp(I1,'current when frequency is halved,I(A) = ')"
   ]
   }
,
{
		   "cell_type": "markdown",
		   "metadata": {},
		   "source": [
			"## Example 11.5_b: value_of_current_flowing.sce"
		   ]
		  },
  {
"cell_type": "code",
	   "execution_count": null,
	   "metadata": {
	    "collapsed": true
	   },
	   "outputs": [],
"source": [
"//Example 11.5.b // current if frequency is halved\n",
"clc;\n",
"clear;\n",
"close;\n",
"//given data :\n",
"//given data :\n",
"f=50; // frequency in Hz\n",
"L=0.4; // inductance in H\n",
"V=220; // voltage in volts\n",
"f2=100; // when frequency is doubled\n",
"pi=22/7;\n",
"XL=2*pi*f2*L;\n",
"I=V/XL;\n",
"disp(I,'current when frequency is halved,I(A) = ')"
   ]
   }
,
{
		   "cell_type": "markdown",
		   "metadata": {},
		   "source": [
			"## Example 11.6_a: value_of_current_flowing.sce"
		   ]
		  },
  {
"cell_type": "code",
	   "execution_count": null,
	   "metadata": {
	    "collapsed": true
	   },
	   "outputs": [],
"source": [
"//Example 11.6.a // current\n",
"clc;\n",
"clear;\n",
"close;\n",
"//given data :\n",
"f=50; // frequency in Hz\n",
"C=28*10^-6;// capacitor in Farad\n",
"V=250; // voltage in volts\n",
"pi=22/7;\n",
"XC=1/(2*pi*f*C);\n",
"I1=V/XC;\n",
"f=50; // frequency in Hz\n",
"C=28*10^-6;// capacitor in Farad\n",
"V=250; // voltage in volts\n",
"pi=22/7;\n",
"f1=25;// when frequency is halved\n",
"XC=1/(2*pi*f1*C);\n",
"I2=V/XC;\n",
"disp(I1,'current flowing,I(A) = ')\n",
"disp(I2,'current flowing when frequency is halved,I(A) = ')"
   ]
   }
,
{
		   "cell_type": "markdown",
		   "metadata": {},
		   "source": [
			"## Example 11.6_b: value_of_current_flowing.sce"
		   ]
		  },
  {
"cell_type": "code",
	   "execution_count": null,
	   "metadata": {
	    "collapsed": true
	   },
	   "outputs": [],
"source": [
"//Example 11.6.b // current if frequency is halved \n",
"clc;\n",
"clear;\n",
"close;\n",
"//given data :\n",
"f=50; // frequency in Hz\n",
"C=28*10^-6;// capacitor in Farad\n",
"V=250; // voltage in volts\n",
"pi=22/7;\n",
"f2=100;// when frequency is doubled\n",
"XC=1/(2*pi*f2*C);\n",
"I=V/XC;\n",
"disp(I,'current flowing when frequency is doubled ,I(A) = ')"
   ]
   }
,
{
		   "cell_type": "markdown",
		   "metadata": {},
		   "source": [
			"## Example 11.7_a: inductive_reactance.sce"
		   ]
		  },
  {
"cell_type": "code",
	   "execution_count": null,
	   "metadata": {
	    "collapsed": true
	   },
	   "outputs": [],
"source": [
"//Example 11.7.a // inductive reactance\n",
"clc;\n",
"clear;\n",
"close;\n",
"R=40;//in ohms\n",
"L=0.07;//IN HENRY\n",
"v=223;//IN VOLTS\n",
"F=50;// IN HERTS\n",
"Xl=2*%pi*F*L;// inductive reactance in ohms\n",
"disp(round(Xl),'inductive reactance in ohms is')"
   ]
   }
,
{
		   "cell_type": "markdown",
		   "metadata": {},
		   "source": [
			"## Example 11.7_b: impedance.sce"
		   ]
		  },
  {
"cell_type": "code",
	   "execution_count": null,
	   "metadata": {
	    "collapsed": true
	   },
	   "outputs": [],
"source": [
"//Example 11.7.b // impedence\n",
"clc;\n",
"clear;\n",
"close;\n",
"R=40;//in ohms\n",
"L=0.07;//IN HENRY\n",
"v=223;//IN VOLTS\n",
"F=50;// IN HERTS\n",
"Xl=2*%pi*F*L;// inductive reactance in ohms\n",
"Z=sqrt(R^2+Xl^2);//IMPEDENCE IN OHMS\n",
"disp(Z,'impedence in ohms is')"
   ]
   }
,
{
		   "cell_type": "markdown",
		   "metadata": {},
		   "source": [
			"## Example 11.7_c: current.sce"
		   ]
		  },
  {
"cell_type": "code",
	   "execution_count": null,
	   "metadata": {
	    "collapsed": true
	   },
	   "outputs": [],
"source": [
"//Example 11.7.c // current\n",
"clc;\n",
"clear;\n",
"close;\n",
"R=40;//in ohms\n",
"L=0.07;//IN HENRY\n",
"V=223;//IN VOLTS\n",
"F=50;// IN HERTS\n",
"Xl=2*%pi*F*L;// inductive reactance in ohms\n",
"Z=sqrt(R^2+Xl^2);//IMPEDENCE IN OHMS\n",
"I=V/Z;//in amperes\n",
"disp(I,'current in amperes is')"
   ]
   }
,
{
		   "cell_type": "markdown",
		   "metadata": {},
		   "source": [
			"## Example 11.7_d: angle_of_phase_difference.sce"
		   ]
		  },
  {
"cell_type": "code",
	   "execution_count": null,
	   "metadata": {
	    "collapsed": true
	   },
	   "outputs": [],
"source": [
"//Example 11.7.d // angle of phase differnce \n",
"clc;\n",
"clear;\n",
"close;\n",
"R=40;//in ohms\n",
"L=0.07;//IN HENRY\n",
"V=223;//IN VOLTS\n",
"F=50;// IN HERTS\n",
"Xl=2*%pi*F*L;// inductive reactance in ohms\n",
"Z=sqrt(R^2+Xl^2);//IMPEDENCE IN OHMS\n",
"I=V/Z;//in amperes\n",
"csp=R/Z;//pf\n",
"phi=acosd(csp);//angle of phase differnce in degree\n",
"x=floor(phi);//\n",
"y=phi-x;//\n",
"disp('angle of phase difference is '+string(x)+' degree and '+string(y*60)+' minutes ')"
   ]
   }
,
{
		   "cell_type": "markdown",
		   "metadata": {},
		   "source": [
			"## Example 11.8: inductance_and_phase_angle.sce"
		   ]
		  },
  {
"cell_type": "code",
	   "execution_count": null,
	   "metadata": {
	    "collapsed": true
	   },
	   "outputs": [],
"source": [
"//Example 11.8 // inductance and phase angle between voltage and current\n",
"clc;\n",
"clear;\n",
"close;\n",
"V=200;//in volts\n",
"I=2.5;// in amperes\n",
"Vo=250;// in volts\n",
"f=50;// in hertz\n",
"R=V/I;// in ohms\n",
"Z=Vo/I;// in ohms\n",
"Xl=sqrt(Z^2-R^2);//inductive reactance in ohms\n",
"L=(Xl/(2*%pi*f));//inductance in henry\n",
"pf=R/Z;//power factor\n",
"phi=acosd(pf);//angle of phase differnce in degree\n",
"x=floor(phi);//\n",
"y=phi-x;//\n",
"disp(L,'inductance in henry is')\n",
"disp('angle of phase difference is '+string(x)+' degree and '+string(round(y*60))+' minutes ')"
   ]
   }
,
{
		   "cell_type": "markdown",
		   "metadata": {},
		   "source": [
			"## Example 11.9: capacitance.sce"
		   ]
		  },
  {
"cell_type": "code",
	   "execution_count": null,
	   "metadata": {
	    "collapsed": true
	   },
	   "outputs": [],
"source": [
"//Example 11.9 // capacitance\n",
"clc;\n",
"clear;\n",
"close;\n",
"W=100;//in watts\n",
"V=110;//in volts\n",
"Vc=220;//in volts\n",
"f=50;//in hertz\n",
"I=W/V;// in amperes\n",
"R=V/I;//in ohms\n",
"Z=Vc/I;// in ohms\n",
"Xc=sqrt(Z^2-R^2);// IN OHMS\n",
"C=(1/(2*%pi*f*Xc));// in farads\n",
"disp(C*10^6,'capacitance in micro farads is')"
   ]
   }
],
"metadata": {
		  "kernelspec": {
		   "display_name": "Scilab",
		   "language": "scilab",
		   "name": "scilab"
		  },
		  "language_info": {
		   "file_extension": ".sce",
		   "help_links": [
			{
			 "text": "MetaKernel Magics",
			 "url": "https://github.com/calysto/metakernel/blob/master/metakernel/magics/README.md"
			}
		   ],
		   "mimetype": "text/x-octave",
		   "name": "scilab",
		   "version": "0.7.1"
		  }
		 },
		 "nbformat": 4,
		 "nbformat_minor": 0
}
