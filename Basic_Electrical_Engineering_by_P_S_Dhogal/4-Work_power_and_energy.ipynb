{
"cells": [
 {
		   "cell_type": "markdown",
	   "metadata": {},
	   "source": [
       "# Chapter 4: Work power and energy"
	   ]
	},
{
		   "cell_type": "markdown",
		   "metadata": {},
		   "source": [
			"## Example 4.10_a: total_load_of_light_and_fans.sce"
		   ]
		  },
  {
"cell_type": "code",
	   "execution_count": null,
	   "metadata": {
	    "collapsed": true
	   },
	   "outputs": [],
"source": [
"//Example 4.10.a//total load of lights and fans\n",
"clc;\n",
"clear;\n",
"close;\n",
"lp=50;//no. of light points\n",
"lw=60;//wattage of light points\n",
"fp=20;//no. of fan points\n",
"fw=100;//wattage of fan points\n",
"wpp=10;//no. of wall plug points\n",
"wppw=60;//wattage of wall plug points\n",
"bp=5;//no. of bell points\n",
"bpw=40;//wattage of bell points\n",
"ppp=8;//power plug points\n",
"pppw=5000;//wattage of power plug points\n",
"lpw=lp*lw;//wattage of 50 lamps\n",
"fpw=fp*fw;//wattage of 20 fans\n",
"wpppw=wpp*wppw;//wattage of wall plug points\n",
"bpww=bp*bpw;//wattage of bell points \n",
"tl=lpw+fpw+wpppw+bpww;//total wattage\n",
"disp(tl,'total wattage of lightning load is in watts ')"
   ]
   }
,
{
		   "cell_type": "markdown",
		   "metadata": {},
		   "source": [
			"## Example 4.10_b: total_load_current.sce"
		   ]
		  },
  {
"cell_type": "code",
	   "execution_count": null,
	   "metadata": {
	    "collapsed": true
	   },
	   "outputs": [],
"source": [
"//Example 4.10.b//total load of power connection\n",
"clc;\n",
"clear;\n",
"close;\n",
"V=400;//three phase voltage\n",
"lp=50;//no. of light points\n",
"lw=60;//wattage of light points\n",
"fp=20;//no. of fan points\n",
"fw=100;//wattage of fan points\n",
"wpp=10;//no. of wall plug points\n",
"wppw=60;//wattage of wall plug points\n",
"bp=5;//no. of bell points\n",
"bpw=40;//wattage of bell points\n",
"ppp=8;//power plug points\n",
"pppw=500;//wattage of power plug points\n",
"lpw=lp*lw;//wattage of 50 lamps\n",
"fpw=fp*fw;//wattage of 20 fans\n",
"wpppw=wpp*wppw;//wattage of wall plug points\n",
"bpww=bp*bpw;//wattage of bell points \n",
"tl=lpw+fpw+wpppw+bpww;//total wattage\n",
"ppppw=ppp*pppw;//wattage of power plug points\n",
"tw=tl+ppppw;//total wattage\n",
"Il=(tl/V);// CURRENT THROUGH LIGHTNING LOAD\n",
"Ip=ppppw/V;// current through power load\n",
"ttl=Il+Ip;//total load curent\n",
"disp(ttl,'total load current in amperes')"
   ]
   }
,
{
		   "cell_type": "markdown",
		   "metadata": {},
		   "source": [
			"## Example 4.11: horsepower_of_the_motor.sce"
		   ]
		  },
  {
"cell_type": "code",
	   "execution_count": null,
	   "metadata": {
	    "collapsed": true
	   },
	   "outputs": [],
"source": [
"//Example 4.11: horse power\n",
"clc;\n",
"clear;\n",
"close;\n",
"//given data :\n",
"h=30; // in m\n",
"Fl=10;// friction loss in %\n",
"Hl=(Fl/100)*h;\n",
"total_H=h+Hl;\n",
"eta=90; // eficiency of pump\n",
"w=1000; // water weight in kg\n",
"flow_rate=243; // in per hour\n",
"W_done=(flow_rate*w*total_H)/60; // in kg-m/min\n",
"output=W_done/4500; //output of pump in hp\n",
"in=(output*100)/eta;\n",
"O=in;\n",
"disp(O,'output of the motor,O(hp) = ')"
   ]
   }
,
{
		   "cell_type": "markdown",
		   "metadata": {},
		   "source": [
			"## Example 4.12_a: Bhp_of_the_motor.sce"
		   ]
		  },
  {
"cell_type": "code",
	   "execution_count": null,
	   "metadata": {
	    "collapsed": true
	   },
	   "outputs": [],
"source": [
"//Example 4.12.a: BHP of the motor\n",
"clc;\n",
"clear;\n",
"close;n=80;//efficiency\n",
"l=7.5;//load in tonnes\n",
"h=135;//height in meters\n",
"c=0.5;//cge weight in tonnes\n",
"b=3;//balance weight in tonnes\n",
"td=90;//time in seconds\n",
"onet=1000;// in kg\n",
"onehp=746;//watt\n",
"wl=l+c-b;//weight lifted during upward journey in tonnes\n",
"wld=b-c;//weight lifted during downward journey in tonnes\n",
"wdu=(wl*10^3*h*60)/td;//work done by the lift per minute during upward journey\n",
"wdd=(wld*10^3*h*60)/td;//work done by the lift per minute during downward journey\n",
"mou=wdu/4500;// in hp\n",
"miu=(mou*100*746)/(n*1000);// input of motor in kW\n",
"mod=wdd/4500;// in hp\n",
"mid=(mod*100*746)/(n*1000);// input of motor in kW\n",
"disp(mou,'BHP of the motor in upward journey in hp')\n",
"disp(mod,'BHP of the motor in downward journey in hp')"
   ]
   }
,
{
		   "cell_type": "markdown",
		   "metadata": {},
		   "source": [
			"## Example 4.12_b: cost_of_the_energy.sce"
		   ]
		  },
  {
"cell_type": "code",
	   "execution_count": null,
	   "metadata": {
	    "collapsed": true
	   },
	   "outputs": [],
"source": [
"//Example 4.12.b: cost of the energy\n",
"clc;\n",
"clear;\n",
"close;n=80;//efficiency\n",
"l=7.5;//load in tonnes\n",
"h=135;//height in meters\n",
"c=0.5;//cge weight in tonnes\n",
"b=3;//balance weight in tonnes\n",
"td=90;//time in seconds\n",
"onet=1000;// in kg\n",
"onehp=746;//watt\n",
"wl=l+c-b;//weight lifted during upward journey in tonnes\n",
"wld=b-c;//weight lifted during downward journey in tonnes\n",
"wdu=(wl*10^3*h*60)/td;//work done by the lift per minute during upward journey\n",
"wdd=(wld*10^3*h*60)/td;//work done by the lift per minute during downward journey\n",
"mou=wdu/4500;// in hp\n",
"miu=(mou*100*746)/(n*1000);// input of motor in kW\n",
"mod=wdd/4500;// in hp\n",
"mid=(mod*100*746)/(n*1000);// input of motor in kW\n",
"tc=miu+mid;//total energy consumption in kW\n",
"Eh=tc*10;//total energy consuption per hour\n",
"rate=40;//rate in paisa\n",
"ce=Eh*(rate/100);//cost of energy in rupees\n",
"disp(ce,'cost of energy in rupees is')"
   ]
   }
,
{
		   "cell_type": "markdown",
		   "metadata": {},
		   "source": [
			"## Example 4.1_b: power_lost.sce"
		   ]
		  },
  {
"cell_type": "code",
	   "execution_count": null,
	   "metadata": {
	    "collapsed": true
	   },
	   "outputs": [],
"source": [
"//Example 4.1.b // power lost\n",
"clc;\n",
"clear;\n",
"close;\n",
"//given data :\n",
"I=11; // current in A\n",
"V1=55;  // voltage in V\n",
"V2=220; // voltage in V\n",
"V=V2-V1;\n",
"R=V/I; \n",
"P=I^2*R;\n",
"disp(P,'power lost,P(W) = ')"
   ]
   }
,
{
		   "cell_type": "markdown",
		   "metadata": {},
		   "source": [
			"## Example 4.1: resistance.sce"
		   ]
		  },
  {
"cell_type": "code",
	   "execution_count": null,
	   "metadata": {
	    "collapsed": true
	   },
	   "outputs": [],
"source": [
"//Example 4.1.a // resistance\n",
"clc;\n",
"clear;\n",
"close;\n",
"//given data :\n",
"I=11; // current in A\n",
"V1=55;  // voltage in V\n",
"V2=220; // voltage in V\n",
"V=V2-V1;\n",
"R=V/I; \n",
"disp(R,'resistance,R(ohm) = ')"
   ]
   }
,
{
		   "cell_type": "markdown",
		   "metadata": {},
		   "source": [
			"## Example 4.2: resistance.sce"
		   ]
		  },
  {
"cell_type": "code",
	   "execution_count": null,
	   "metadata": {
	    "collapsed": true
	   },
	   "outputs": [],
"source": [
"//Example 4.2 : resistance of each coil\n",
"clc;\n",
"clear;\n",
"close;\n",
"//given data :\n",
"V=300; // voltage in volts\n",
"W=360; // power lost in one coil in watt\n",
"I=6; // current in A\n",
"R1=V/I;\n",
"R=V^2/W;\n",
"a=(1/R1)-(1/R);\n",
"r2=1/a;\n",
"disp(R,'resistance of 360W coil1,R(ohm) = ')\n",
"disp(r2,'resistance of second coil2,r2(ohm) = ')"
   ]
   }
,
{
		   "cell_type": "markdown",
		   "metadata": {},
		   "source": [
			"## Example 4.3: resistance.sce"
		   ]
		  },
  {
"cell_type": "code",
	   "execution_count": null,
	   "metadata": {
	    "collapsed": true
	   },
	   "outputs": [],
"source": [
"//Example 4.3 : resistance\n",
"clc;\n",
"clear;\n",
"close;\n",
"//given data :\n",
"W1=100;// in watt\n",
"E=110;// in volts\n",
"W2=60;// in watt\n",
"I1=W1/E;// current taken by 100 w lamp\n",
"I2=W2/E;// current taken by 60W lamp\n",
"I=I1-I2;\n",
"R=E/I;\n",
"disp(R,'resistance,R(ohm) = ')"
   ]
   }
,
{
		   "cell_type": "markdown",
		   "metadata": {},
		   "source": [
			"## Example 4.4_a: power_taken_in_parallel_case.sce"
		   ]
		  },
  {
"cell_type": "code",
	   "execution_count": null,
	   "metadata": {
	    "collapsed": true
	   },
	   "outputs": [],
"source": [
"//Example 4.4.a: power in case of parallel\n",
"clc;\n",
"clear;\n",
"close;\n",
"//given data :\n",
"w=100; // in watt\n",
"V=220; // voltage in volts\n",
"R1=V^2/w;\n",
"R=R1/2; // total resistance of the circuit\n",
"I=V/R;\n",
"W=I^2*R;\n",
"disp(W,'power in case of parallel,W(watt) = ')"
   ]
   }
,
{
		   "cell_type": "markdown",
		   "metadata": {},
		   "source": [
			"## Example 4.4_b: power_taken_in_series_case.sce"
		   ]
		  },
  {
"cell_type": "code",
	   "execution_count": null,
	   "metadata": {
	    "collapsed": true
	   },
	   "outputs": [],
"source": [
"//Example 4.4.b: power in case of series\n",
"clc;\n",
"clear;\n",
"close;\n",
"//given data :\n",
"w=100; // in watt\n",
"V=220; // voltage in volts\n",
"R1=V^2/w;\n",
"R2=V^2/w;\n",
"R=R1+R2; // total resistance of the circuit\n",
"I=V/R;\n",
"W=I^2*R;\n",
"disp(W,'power in case of series,W(watt) = ')"
   ]
   }
,
{
		   "cell_type": "markdown",
		   "metadata": {},
		   "source": [
			"## Example 4.5_a: total_load.sce"
		   ]
		  },
  {
"cell_type": "code",
	   "execution_count": null,
	   "metadata": {
	    "collapsed": true
	   },
	   "outputs": [],
"source": [
"//Example 4.5.a: total load\n",
"clc;\n",
"clear;\n",
"close;\n",
"//given data :\n",
"l=300; // number of lamps\n",
"w1=60; // in watt\n",
"W1=w1*l; // wattage required for 300 lamps, 60 watt each\n",
"w2=40; // in watt\n",
"f=100; // number of fan\n",
"W2=w2*f;// wattage required for 100 fans, 40 watt each\n",
"W=(W1+W2)*10^-3;\n",
"disp(W,'total load,W(kilo-watt) = ')"
   ]
   }
,
{
		   "cell_type": "markdown",
		   "metadata": {},
		   "source": [
			"## Example 4.5_b: current_taken.sce"
		   ]
		  },
  {
"cell_type": "code",
	   "execution_count": null,
	   "metadata": {
	    "collapsed": true
	   },
	   "outputs": [],
"source": [
"//Example 4.5.b: current taken by load\n",
"clc;\n",
"clear;\n",
"close;\n",
"//given data :\n",
"V=220; // voltage in volts\n",
"l=300; // number of lamps\n",
"w1=60; // in watt\n",
"W1=w1*l;\n",
"w2=40; // in watt\n",
"f=100; // number of fan\n",
"W2=w2*f;\n",
"W=(W1+W2)*10^-3;\n",
"I=(W*1000)/V;\n",
"disp(I,'current,I(A) = ')"
   ]
   }
,
{
		   "cell_type": "markdown",
		   "metadata": {},
		   "source": [
			"## Example 4.6: total_cots_of_electric_energy_and_total_charges_of_bill.sce"
		   ]
		  },
  {
"cell_type": "code",
	   "execution_count": null,
	   "metadata": {
	    "collapsed": true
	   },
	   "outputs": [],
"source": [
"//Example 4.6 // total cost of elecric charge\n",
"clc;\n",
"clear;\n",
"close;\n",
"nl=12;//no. of lamps\n",
"wl=100;//wattage of lamps\n",
"hl=6;//each lamps work 6 hours a days\n",
"w12=wl*nl*hl;//wattage of 12 lamps in Wh\n",
"nf=6;//no. of fans\n",
"wf=60;//wattage of fans\n",
"hf=5;//each fans work 5 hours a days\n",
"w6=wf*nf*hf;//wattage of 12 fans in Wh\n",
"nc=2;//no. of electric cookers\n",
"wc=1500;//wattage of electric cookers\n",
"hc=4;//each electric cookers work 4 hours a days\n",
"w2=wc*nc*hc;//wattage of 2 electric cookers in Wh\n",
"ng=2;//no. of gysers\n",
"wg=1000;//wattage of each gyser\n",
"hg=3;//each gyser works 3 hours a day\n",
"w21=wg*hg*ng;//total wattage of gysers in Wh\n",
"tcg=(w12+w6)*10^-3;//TOTAL WATTAGE OF LAMPS AND FANS\n",
"Ccg=40;//IN PAISA\n",
"Ecg= (tcg*Ccg*30)/100;//TOTAL ENERGY CHARGES @40 PAISA PER UNIT\n",
"tcg1=(w2+w21)*10^-3;//TOTAL WATTAGE OF COOKERS AND GYSERS\n",
"Ccg1=35;//IN PAISA\n",
"Ecg1= (tcg1*Ccg1*30)/100;//TOTAL ENERGY CHARGES @35 PAISA PER UNIT\n",
"tc=Ecg+Ecg1;// IN RUPPES\n",
"disp(Ecg,'total cost of electric charge @40 paisa per unit in rupees')\n",
"disp(Ecg1,'total cost of electric charge @35 paisa per unit in rupees')\n",
"disp(tc,'total charge for ligh and power in rupees')"
   ]
   }
,
{
		   "cell_type": "markdown",
		   "metadata": {},
		   "source": [
			"## Example 4.7: voltage_current_power_and_bill_amount.sce"
		   ]
		  },
  {
"cell_type": "code",
	   "execution_count": null,
	   "metadata": {
	    "collapsed": true
	   },
	   "outputs": [],
"source": [
"//Example 4.7 // total consumption of factory in killo watts\n",
"clc;\n",
"clear;\n",
"close;\n",
"nl=400;//no. of lamps\n",
"wl=100;//wattage of lamps\n",
"w400=wl*nl;//wattage of 400 lamps in W\n",
"nf=100;//no. of fans\n",
"wf=40;//wattage of fans\n",
"w6=wf*nf;//wattage of 100 fans in W\n",
"nc=200;//no. of wall scokets\n",
"wc=60;//wattage of wall scckets\n",
"w2=wc*nc;//wattage of 200 wall sockets in Wh\n",
"tc= w400+w6+w2;//total consumption in kW\n",
"tc= w400+w6+w2;//total consumption in kW\n",
"h=5;// hours\n",
"ll=tc*10^-3*h;//lightning load in kWh\n",
"V=250;//in volts\n",
"I=20;//in amperes\n",
"Ml=V*I*10^-3;//miscellaneous loads in kW\n",
"Ml=V*I*10^-3;//miscellaneous loads in kW\n",
"hm=2;//hours\n",
"hl=50;//heating load in kW\n",
"Mhp=40;//BNHP\n",
"Mo= ((50*80*746)/(100*1000));//MOTOR AT 80% LOAD IN Kw\n",
"tl=tc*10^-3+Ml+hl+Mo;//total load in kW\n",
"disp(tl,'total load is,(kW)=')\n",
"It= (tl*10^3)/V;//total current taken buy the factory in amperes\n",
"disp(It,'total current taken by the factory is,(A)=')\n",
"r=0.03;//IN OHMS\n",
"Vc=It*r;//voltage drop in the cable\n",
"Vs=Vc+V;//voltage at the sending end of the feeder in volts\n",
"disp(Vs,'voltage at the sending end of the feeder is,(V)')\n",
"r=0.03;//IN OHMS\n",
"Vc=It*r;//voltage drop in the cable\n",
"Pw=It^2*r;//power wasted in kW\n",
"disp(Pw*10^-3,'power wasted is ,(kW)')\n",
"Mlh=Ml*hm;//miscellaneous load in kWh\n",
"te=Mlh+ll;//TOTAL ENERGY COSNUMED PER DAY\n",
"Nu=te*6;//NO. OF UNITS\n",
"Ec=(Nu*30)/100;// ENERGY CHARGE @30 PAISA PER UNIT\n",
"eCM=Ec+2+34.80;//TOTAL CHARGE AFTER TAX AND RENT IN RUPEES\n",
"hl=50;//heating load in kW\n",
"hlh=50*4;//heating load in kWh\n",
"Moh=Mo*8;//MOTOR LOAD IN kWh\n",
"TEP=hlh+Moh;//total energy per day\n",
"tepl=TEP*6;//total energy in 6 days\n",
"tepc=(tepl*35)/100;// energy charges @35 paisa per unit in rupees\n",
"tepcl=tepc+50+78.96;//total charges in rupess\n",
"disp(eCM,'total lightning charges including meter rent and electricy tax is,(Rs)=')\n",
"disp(tepcl,'total power charges including meter rent and electricy tax is,(Rs)=')\n",
"gt=tepcl+eCM;//\n",
"disp(gt,'grand total of bills is,(Rs)=')"
   ]
   }
,
{
		   "cell_type": "markdown",
		   "metadata": {},
		   "source": [
			"## Example 4.8: current_taken.sce"
		   ]
		  },
  {
"cell_type": "code",
	   "execution_count": null,
	   "metadata": {
	    "collapsed": true
	   },
	   "outputs": [],
"source": [
"//Example 4.8: current taken by load\n",
"clc;\n",
"clear;\n",
"close;\n",
"//given data :\n",
"V=250; // voltage in volts\n",
"L=5*746; // 1 hp=746 watt\n",
"eta=80;// eficiency of motor in %\n",
"Input=(L*100)/80; \n",
"I=Input/V;\n",
"disp(I,'cureent,I(A) = ')"
   ]
   }
,
{
		   "cell_type": "markdown",
		   "metadata": {},
		   "source": [
			"## Example 4.9: amount_of_bills.sce"
		   ]
		  },
  {
"cell_type": "code",
	   "execution_count": null,
	   "metadata": {
	    "collapsed": true
	   },
	   "outputs": [],
"source": [
"//Example 4.9 //total of bills\n",
"clc;\n",
"clear;\n",
"close;\n",
"p=30;//horse power of motor\n",
"r=24;// rupees per kWh\n",
"ec=35;//paisa per unit\n",
"n=80;//percentage of load\n",
"t=8;// in hours\n",
"d=25;// total days\n",
"ne=96;//efficiency of motor in percentage\n",
"mo=(n*p)/100;//output of motor at 80% of load\n",
"mi=(mo*100*746)/(ne);//input of motor in watts\n",
"ecm=mi*10^-3*t*d;//energy consumed in a month\n",
"ecu=(ecm*35)/100;//energy charges\n",
"mid=(30*100*746)/(ne*1000);//input of motor in kW at demanded\n",
"ecud=(mid*24);// demanded connection in rupees\n",
"ta=ecu+ecud;//total bill in rupees\n",
"disp(ta,'total bill in rupees is')"
   ]
   }
],
"metadata": {
		  "kernelspec": {
		   "display_name": "Scilab",
		   "language": "scilab",
		   "name": "scilab"
		  },
		  "language_info": {
		   "file_extension": ".sce",
		   "help_links": [
			{
			 "text": "MetaKernel Magics",
			 "url": "https://github.com/calysto/metakernel/blob/master/metakernel/magics/README.md"
			}
		   ],
		   "mimetype": "text/x-octave",
		   "name": "scilab",
		   "version": "0.7.1"
		  }
		 },
		 "nbformat": 4,
		 "nbformat_minor": 0
}
