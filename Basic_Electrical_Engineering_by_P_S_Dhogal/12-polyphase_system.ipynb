{
"cells": [
 {
		   "cell_type": "markdown",
	   "metadata": {},
	   "source": [
       "# Chapter 12: polyphase system"
	   ]
	},
{
		   "cell_type": "markdown",
		   "metadata": {},
		   "source": [
			"## Example 12.1_a: line_current_and_phase_current.sce"
		   ]
		  },
  {
"cell_type": "code",
	   "execution_count": null,
	   "metadata": {
	    "collapsed": true
	   },
	   "outputs": [],
"source": [
"//Example 12.1.a // line current\n",
"clc;\n",
"clear;\n",
"close;\n",
"L=30;//load in kW\n",
"pf=0.8;//power factor\n",
"Vl=250;//line voltage in volts\n",
"I=((L*10^3)/(Vl*pf*sqrt(3)));//line current in ampers\n",
"Ip=I;// in star connection\n",
"disp(I,'line current (star connection) in ampere is')\n",
"disp(Ip,'pahse current (start connection) in ampere is')"
   ]
   }
,
{
		   "cell_type": "markdown",
		   "metadata": {},
		   "source": [
			"## Example 12.1_b: line_current_and_phase_current.sce"
		   ]
		  },
  {
"cell_type": "code",
	   "execution_count": null,
	   "metadata": {
	    "collapsed": true
	   },
	   "outputs": [],
"source": [
"//Example 12.1.b // phase current\n",
"clc;\n",
"clear;\n",
"close;\n",
"L=30;//load in kW\n",
"pf=0.8;//power factor\n",
"Vl=250;//line voltage in volts\n",
"I=((L*10^3)/(Vl*pf*sqrt(3)));//line current in ampers\n",
"Ip=I/(sqrt(3));//phase current\n",
"Il=sqrt(3)*Ip;//line current in amperes\n",
"disp(Ip,'phase current in ampere is')\n",
"disp(Il,'line current (delta connection ) in amperes is')"
   ]
   }
,
{
		   "cell_type": "markdown",
		   "metadata": {},
		   "source": [
			"## Example 12.2_a: line_current_and_total_power.sce"
		   ]
		  },
  {
"cell_type": "code",
	   "execution_count": null,
	   "metadata": {
	    "collapsed": true
	   },
	   "outputs": [],
"source": [
"//Example 12.2.a // line current and power abosrbed\n",
"clc;\n",
"clear;\n",
"close;\n",
"R=11.88;//coil resistance in ohms\n",
"L=0.07;//inductance in henry\n",
"f=50;// in hertz\n",
"pf=0.48;//power factor\n",
"Vl=433;//line voltage in volts\n",
"Vp= Vl/(sqrt(3));//phase voltage\n",
"Xl=(2*%pi*f*L);//in ohms\n",
"Zb=sqrt(R^2+Xl^2);// in ohms\n",
"Ie=Vp/Zb;//current in each winding in amperes\n",
"Il=Ie;//line current in amperes\n",
"W=sqrt(3)*Vl*Il*pf;//power in watts\n",
"disp(Il,'line current in ampere is')\n",
"disp(W*10^-3,'power taken in connection in kW')"
   ]
   }
,
{
		   "cell_type": "markdown",
		   "metadata": {},
		   "source": [
			"## Example 12.2_b: line_current_and_total_power.sce"
		   ]
		  },
  {
"cell_type": "code",
	   "execution_count": null,
	   "metadata": {
	    "collapsed": true
	   },
	   "outputs": [],
"source": [
"//Example 12.2.b // line current and power abosrbed\n",
"clc;\n",
"clear;\n",
"close;\n",
"R=11.88;//coil resistance in ohms\n",
"L=0.07;//inductance in henry\n",
"f=50;// in hertz\n",
"pf=0.48;//power factor\n",
"Vl=433;//line voltage in volts\n",
"Vp= Vl;//phase voltage\n",
"Xl=(2*%pi*f*L);//in ohms\n",
"Zb=sqrt(R^2+Xl^2);// in ohms\n",
"Ie=Vp/Zb;//current in each winding in amperes\n",
"Il=sqrt(3)*Ie;//line current in amperes\n",
"W=sqrt(3)*Vl*Il*pf;//power in watts\n",
"disp(Il,'line current in ampere is')\n",
"disp(W*10^-3,'power taken in connection in kW')"
   ]
   }
,
{
		   "cell_type": "markdown",
		   "metadata": {},
		   "source": [
			"## Example 12.3_a: current_in_each_phase_of_the_motor.sce"
		   ]
		  },
  {
"cell_type": "code",
	   "execution_count": null,
	   "metadata": {
	    "collapsed": true
	   },
	   "outputs": [],
"source": [
"//Example 12.3.a // motor current in each phase\n",
"clc;\n",
"clear;\n",
"close;\n",
"Vl=1100;//line voltage in volts\n",
"n=99;//motor efficiency in percentage\n",
"Mo=n*735.5;//output of the motor\n",
"Mi=(Mo*100)/75;// INPUT OF THE MOTOR IN WATTS\n",
"pf= 0.8;//power factor\n",
"Il=(Mi)/(sqrt(3)*Vl*pf);//line current in amperes\n",
"Ip=Il/(sqrt(3));//phase current in amperes\n",
"Ipm=Il;//phase curent of the motor\n",
"Ac=Ip*pf;//active component of phase current in the motor\n",
"Rc=Ip*(sqrt(1-pf^2));//reactive component of phase current of motor\n",
"disp(Ip,'phae current of motor in amperes is')\n",
"disp(Ac,'active component of phase current in the motor in amperes')\n",
"disp(Rc,'reactive component of phase current in the motor in amperes')"
   ]
   }
,
{
		   "cell_type": "markdown",
		   "metadata": {},
		   "source": [
			"## Example 12.3_b: current_in_each_phase_of_the_generator.sce"
		   ]
		  },
  {
"cell_type": "code",
	   "execution_count": null,
	   "metadata": {
	    "collapsed": true
	   },
	   "outputs": [],
"source": [
"//Example 12.3.b // motor generator in each phase\n",
"clc;\n",
"clear;\n",
"close;\n",
"Vl=1100;//line voltage in volts\n",
"n=99;//motor efficiency in percentage\n",
"Mo=n*735.5;//output of the motor\n",
"Mi=(Mo*100)/75;// INPUT OF THE MOTOR IN WATTS\n",
"pf= 0.8;//power factor\n",
"Il=(Mi)/(sqrt(3)*Vl*pf);//line current in amperes\n",
"Ip=Il/(sqrt(3));//phase current in amperes\n",
"Ipm=Il;//phase curent of the motor\n",
"Ac=Ipm*pf;//active component of phase current in the generator\n",
"Rc=Ipm*(sqrt(1-pf^2));//reactive component of phase current of generator\n",
"disp(Ipm,'phase current of the genertor in ampere is')\n",
"disp(Ac,'active component of phase current in the generator in amperes')\n",
"disp(Rc,'reactive component of phase current in the generator in amperes')"
   ]
   }
,
{
		   "cell_type": "markdown",
		   "metadata": {},
		   "source": [
			"## Example 12.4: reading.sce"
		   ]
		  },
  {
"cell_type": "code",
	   "execution_count": null,
	   "metadata": {
	    "collapsed": true
	   },
	   "outputs": [],
"source": [
"//Example 12.4 // reading\n",
"clc;\n",
"clear;\n",
"close;\n",
"ni=74.6;//efficiency\n",
"Mo=40;//HP OF MOTOR\n",
"mo=Mo*ni;//output of motor in watts\n",
"mi=(mo*100)/(ni*1000);//input of motor in kW\n",
"tw=40;//total in kW\n",
"pf=0.8;//power factor\n",
"theta=acosd(pf);//in degree\n",
"v=tand(theta);//\n",
"dw=(v*tw)/(sqrt(3));//\n",
"w1=(tw+dw)/2;//FIRST READING IN kW\n",
"w2=tw-w1;//second reading in kW\n",
"disp(w1,'first reading in kW')\n",
"disp(w2,'second reading in kW')"
   ]
   }
,
{
		   "cell_type": "markdown",
		   "metadata": {},
		   "source": [
			"## Example 12.5_a: power_factor_when_both_readings_are_positive.sce"
		   ]
		  },
  {
"cell_type": "code",
	   "execution_count": null,
	   "metadata": {
	    "collapsed": true
	   },
	   "outputs": [],
"source": [
"//Example 12.5.a // power factor\n",
"clc;\n",
"clear;\n",
"close;\n",
"w1=4.5;//first reading in kW\n",
"w2=3;//second reading in kW , this value is given wrong in question\n",
"tw=w1+w2;//in kW\n",
"dw=w1-w2;//in kW\n",
"pfa=atand(sqrt(3)*(dw/tw));\n",
"pf=cosd(pfa);////power factor when both the eadings are positive\n",
"disp(pf,'power factor when both the readings are positive')"
   ]
   }
,
{
		   "cell_type": "markdown",
		   "metadata": {},
		   "source": [
			"## Example 12.5_b: power_factor.sce"
		   ]
		  },
  {
"cell_type": "code",
	   "execution_count": null,
	   "metadata": {
	    "collapsed": true
	   },
	   "outputs": [],
"source": [
"//Example 12.5.b // power factor\n",
"clc;\n",
"clear;\n",
"close;\n",
"w1=4.5;//first reading in kW\n",
"w2=-3;//second reading in kW , this value is given wrong in question\n",
"tw=w1+w2;//in kW\n",
"dw=w1-w2;//in kW\n",
"pfa=atand(sqrt(3)*(dw/tw));\n",
"pf=cosd(pfa);////power factor when second reading is obtained by reversing the connection\n",
"disp(pf,'power factor when second reading is obtained by reversing the connections ')"
   ]
   }
],
"metadata": {
		  "kernelspec": {
		   "display_name": "Scilab",
		   "language": "scilab",
		   "name": "scilab"
		  },
		  "language_info": {
		   "file_extension": ".sce",
		   "help_links": [
			{
			 "text": "MetaKernel Magics",
			 "url": "https://github.com/calysto/metakernel/blob/master/metakernel/magics/README.md"
			}
		   ],
		   "mimetype": "text/x-octave",
		   "name": "scilab",
		   "version": "0.7.1"
		  }
		 },
		 "nbformat": 4,
		 "nbformat_minor": 0
}
