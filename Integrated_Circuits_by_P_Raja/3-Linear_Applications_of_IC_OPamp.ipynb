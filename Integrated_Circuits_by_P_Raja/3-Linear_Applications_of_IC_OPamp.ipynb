{
"cells": [
 {
		   "cell_type": "markdown",
	   "metadata": {},
	   "source": [
       "# Chapter 3: Linear Applications of IC OPamp"
	   ]
	},
{
		   "cell_type": "markdown",
		   "metadata": {},
		   "source": [
			"## Example 3.10: Design_a_band_pass_filter.sce"
		   ]
		  },
  {
"cell_type": "code",
	   "execution_count": null,
	   "metadata": {
	    "collapsed": true
	   },
	   "outputs": [],
"source": [
"//Ex 3.10\n",
"clc;clear;close;\n",
"format('v',5);\n",
"fL=200;//Hz\n",
"fH=1*1000;//Hz\n",
"Ap=4;//band pass gain\n",
"BW=fH-fL;//Hz\n",
"f0=sqrt(fH*fL);//Hz\n",
"fc=sqrt(fH*fL);//Hz\n",
"Q=fc/BW;//Quality factor\n",
"disp(Q,'Quality factor');\n",
"disp('As Q<12 ; it is wide band filter');\n",
"disp(fL,'Design values for high pass section with Ap1=2 & fL(Hz) :');\n",
"Ap1=2;//band pass gain for high pass section\n",
"C=0.033;//micro F(have to choose C, 0.01<C<1)\n",
"R=1/(2*%pi*fL*C*10^-6)/1000;//kohm\n",
"RfBYRi=(Ap-1);//op-amp gain\n",
"Rf=2*R;//kohm\n",
"Ri=2*R;//kohm\n",
"disp(C,'Capacitance(micro F)');\n",
"disp(R,'Resistance R(kohm)');\n",
"disp(Rf,'Resistance Rf(kohm)');\n",
"disp(Ri,'Resistance Ri(kohm)');\n",
"disp(fH,'Design values for low pass section with Ap2=2 & fH(Hz) :');\n",
"Ap2=2;//band pass gain for low pass section\n",
"C=0.033;//micro F(have to choose C, 0.01<C<1)\n",
"k=fL/fH;//scaling factor\n",
"Rdash=0.2*R;//kohm\n",
"Ri=2*Rdash;//kohm\n",
"Rf=Ri;//kohm(for Ap2=2)\n",
"disp(C,'Capacitance(micro F)');\n",
"disp(Rdash,'Resistance Rdash(kohm)');\n",
"disp(Rf,'Resistance Rf(kohm)');\n",
"disp(Ri,'Resistance Ri(kohm)');\n",
"disp('For design purpose use rounded value 10 kohm for Rf & Ri');"
   ]
   }
,
{
		   "cell_type": "markdown",
		   "metadata": {},
		   "source": [
			"## Example 3.11: Design_a_band_pass_filter.sce"
		   ]
		  },
  {
"cell_type": "code",
	   "execution_count": null,
	   "metadata": {
	    "collapsed": true
	   },
	   "outputs": [],
"source": [
"//Ex 3.11\n",
"clc;clear;close;\n",
"format('v',5);\n",
"fL=200;//Hz\n",
"fH=1*1000;//Hz\n",
"Ap=4;//band pass gain\n",
"BW=fH-fL;//Hz\n",
"f0=sqrt(fH*fL);//Hz\n",
"fc=sqrt(fH*fL);//Hz\n",
"Q=fc/BW;//Quality factor\n",
"disp(Q,'Quality factor');\n",
"disp('As Q<10 ; it is wide band filter');\n",
"disp(fH,'Design values for low pass section with Ap2=2 & fH(Hz) :');\n",
"Ap2=2;//band pass gain for low pass section\n",
"C=0.03;//micro F(have to choose C, 0.01<C<1)\n",
"Rdash=1/(2*%pi*fH*C*10^-6)/1000;//kohm\n",
"disp(C,'Capacitance(micro F)');\n",
"disp(Rdash,'Resistance Rdash(kohm)');\n",
"disp('Value of Resistance Rf & Ri can be choosen as 10 kohm for filter design.');\n",
"disp(fL,'Design values for high pass section with Ap1=2 & fL(Hz) :');\n",
"Ap1=2;//band pass gain for high pass section\n",
"C=0.05;//micro F(have to choose C, 0.01<C<1)\n",
"R=1/(2*%pi*fL*C*10^-6)/1000;//kohm\n",
"RfBYRi=(Ap-1);//op-amp gain\n",
"disp(C,'Capacitance(micro F)');\n",
"disp(R,'Resistance R(kohm)');\n",
"disp('Value of Resistance Rf & Ri can be choosen as 10 kohm for filter design.');"
   ]
   }
,
{
		   "cell_type": "markdown",
		   "metadata": {},
		   "source": [
			"## Example 3.12: Design_a_band_pass_filter.sce"
		   ]
		  },
  {
"cell_type": "code",
	   "execution_count": null,
	   "metadata": {
	    "collapsed": true
	   },
	   "outputs": [],
"source": [
"//Ex 3.12\n",
"clc;clear;close;\n",
"format('v',6);\n",
"fo=1.2*1000;//Hz\n",
"Q=4;//Quality factor\n",
"Ap=10;//band pass gain\n",
"C=0.05;//micro F(have to choose C, 0.01<C<1)\n",
"R2=2*Q/(2*%pi*fo*C*10^-6)/1000;//kohm\n",
"R1=R2/2/Ap;//kohm\n",
"R3=R1/(4*%pi^2*R1*1000*R2*1000*(C*10^-6)^2*fo^2-1);//kohm\n",
"disp('Design values are :');\n",
"disp(C,'Capacitance(micro F)');\n",
"disp(R1,'Resistance R1(kohm)');\n",
"disp(R2,'Resistance R2(kohm)');\n",
"disp(R3*1000,'Resistance R3(ohm)');\n",
"//Answer in the book is wrong for R3 & value of C is 0.05 instead of 0.5."
   ]
   }
,
{
		   "cell_type": "markdown",
		   "metadata": {},
		   "source": [
			"## Example 3.13: Wide_band_stop_filter.sce"
		   ]
		  },
  {
"cell_type": "code",
	   "execution_count": null,
	   "metadata": {
	    "collapsed": true
	   },
	   "outputs": [],
"source": [
"//Ex 3.13\n",
"clc;clear;close;\n",
"format('v',6);\n",
"fH=100;//Hz\n",
"fL=1*1000;//Hz\n",
"disp('This filter is a combination of -:');\n",
"disp('High pass filter having fH=100 Hz');\n",
"disp('Low pass filter having fL=1 kHz');\n",
"disp('And a summing amplifier');\n",
"//High pass filter\n",
"disp('Design values for high pass section :');\n",
"C=0.05;//micro F(have to choose C, 0.01<C<1)\n",
"R=1/(2*%pi*fL*C*10^-6)/1000;//kohm\n",
"Ap=2;//assumed\n",
"//Rf=Ri;//for gain=2\n",
"Rf=10;//kohm(assumed)\n",
"Ri=10;//kohm(assumed)\n",
"disp(C,'Capacitance(micro F)');\n",
"disp(R,'Resistance R(kohm)');\n",
"disp('Value of Resistance Rf & Ri can be choosen as 10 kohm for filter design.');\n",
"//Low pass filter\n",
"disp('Design values for low pass section :');\n",
"C=0.1;//micro F(have to choose C, 0.01<C<1)\n",
"Rdash=1/(2*%pi*fH*C*10^-6)/1000;//kohm\n",
"Ap=2;//assumed\n",
"//Rfdash=Ridash;//for gain=2\n",
"Rf_dash=10;//kohm(assumed)\n",
"Ri_dash=10;//kohm(assumed)\n",
"disp(C,'Capacitance(micro F)');\n",
"disp(Rdash,'Resistance Rdash(kohm)');\n",
"disp('Value of Resistance Rf_dash & Ri_dash can be choosen as 10 kohm for filter design.');"
   ]
   }
,
{
		   "cell_type": "markdown",
		   "metadata": {},
		   "source": [
			"## Example 3.14: Active_notch_filter.sce"
		   ]
		  },
  {
"cell_type": "code",
	   "execution_count": null,
	   "metadata": {
	    "collapsed": true
	   },
	   "outputs": [],
"source": [
"//Ex 3.14\n",
"clc;clear;close;\n",
"format('v',6);\n",
"fN=50;//Hz\n",
"C=0.5;//micro F(have to choose C, 0.01<C<1)\n",
"R=1/(2*%pi*fN*C*10^-6)/1000;//kohm\n",
"disp('Design values are :');\n",
"disp(C,'Capacitance(micro F)');\n",
"disp(R,'Resistance R(kohm)');"
   ]
   }
,
{
		   "cell_type": "markdown",
		   "metadata": {},
		   "source": [
			"## Example 3.15: Low_pass_filter.sce"
		   ]
		  },
  {
"cell_type": "code",
	   "execution_count": null,
	   "metadata": {
	    "collapsed": true
	   },
	   "outputs": [],
"source": [
"//Ex 3.15\n",
"clc;clear;close;\n",
"format('v',6);\n",
"fo=1*1000;//Hz\n",
"fo_dash=1.5*1000;//Hz\n",
"C=0.01;//micro F(have to choose C, 0.01<C<1)\n",
"R=1/(2*%pi*fo*C*10^-6)/1000;//kohm\n",
"K=1.2*1000/fo_dash;//scaling factor\n",
"Rdash=K*R;///kohm\n",
"disp('Design values are :');\n",
"disp(C,'Capacitance(micro F)');\n",
"disp(R,'Resistance R(kohm)');\n",
"disp(Rdash,'Resistance Rdash(kohm)');"
   ]
   }
,
{
		   "cell_type": "markdown",
		   "metadata": {},
		   "source": [
			"## Example 3.16: Minimum_Gain.sce"
		   ]
		  },
  {
"cell_type": "code",
	   "execution_count": null,
	   "metadata": {
	    "collapsed": true
	   },
	   "outputs": [],
"source": [
"//Ex 3.16\n",
"clc;clear;close;\n",
"Vf=0.0125;//V\n",
"Vo=0.5;//V\n",
"Beta=Vf/Vo;//unitless\n",
"//A*Beta=1 for oscillation\n",
"A=1/Beta;//gain\n",
"disp(A,'Minimum Gain');"
   ]
   }
,
{
		   "cell_type": "markdown",
		   "metadata": {},
		   "source": [
			"## Example 3.17: Frequency_of_oscillation.sce"
		   ]
		  },
  {
"cell_type": "code",
	   "execution_count": null,
	   "metadata": {
	    "collapsed": true
	   },
	   "outputs": [],
"source": [
"//Ex 3.17\n",
"clc;clear;close;\n",
"format('v',6);\n",
"R=50;//kohm(R1=R2=R3=R)\n",
"C=60;//pF(C1=C2=C3=C)\n",
"f=1/(2*%pi*R*1000*C*10^-12*sqrt(6));//Hz\n",
"disp(f/1000,'Frequency of oscillation(kHz)');"
   ]
   }
,
{
		   "cell_type": "markdown",
		   "metadata": {},
		   "source": [
			"## Example 3.18: Wein_Bridge_Oscillator.sce"
		   ]
		  },
  {
"cell_type": "code",
	   "execution_count": null,
	   "metadata": {
	    "collapsed": true
	   },
	   "outputs": [],
"source": [
"//Ex 3.18\n",
"clc;clear;close;\n",
"format('v',5);\n",
"f=2*1000;//Hz\n",
"R=10;//kohm(Assumed)(R1=R2=R)\n",
"C=1/(2*%pi*R*1000*f);//F\n",
"disp('Value of resistance R1=R2 can be choosen as 10 kohm')\n",
"disp(C*10^9,'Cpacitance(nF)');\n",
"disp('Value of resistance R4 can be choosen as 10 kohm & R3=2*R4=20 kohm for Beta to be 1/3');"
   ]
   }
,
{
		   "cell_type": "markdown",
		   "metadata": {},
		   "source": [
			"## Example 3.19: Frequency_of_oscillation.sce"
		   ]
		  },
  {
"cell_type": "code",
	   "execution_count": null,
	   "metadata": {
	    "collapsed": true
	   },
	   "outputs": [],
"source": [
"//Ex 3.19\n",
"clc;clear;close;\n",
"format('v',6);\n",
"R=200;//kohm(R1=R2=R)\n",
"C=200;//pF(C1=C2=C)\n",
"f=1/(2*%pi*R*1000*C*10^-12);//Hz\n",
"disp(f*10^-3,'Frequency of oscillation(kHz)');\n",
"//Answer in the book is wrong"
   ]
   }
,
{
		   "cell_type": "markdown",
		   "metadata": {},
		   "source": [
			"## Example 3.1: Value_of_Rf.sce"
		   ]
		  },
  {
"cell_type": "code",
	   "execution_count": null,
	   "metadata": {
	    "collapsed": true
	   },
	   "outputs": [],
"source": [
"//Ex 3.1\n",
"clc;clear;close;\n",
"R1=2.2;//kohm\n",
"G=-100;//Voltage gain\n",
"Rf=-G*R1;//kohm\n",
"disp(Rf,'Value of Rf(kohm) : ');"
   ]
   }
,
{
		   "cell_type": "markdown",
		   "metadata": {},
		   "source": [
			"## Example 3.20: First_order_low_pass_filter.sce"
		   ]
		  },
  {
"cell_type": "code",
	   "execution_count": null,
	   "metadata": {
	    "collapsed": true
	   },
	   "outputs": [],
"source": [
"//Ex 3.20\n",
"clc;clear;close;\n",
"format('v',6);\n",
"omegaBYomega0=[0 0.5 1 5 10 100];\n",
"//T=omega0/sqrt(omega0^2+omega^2);//Gain\n",
"for i=1:6\n",
"T(i)=1/sqrt(1^2+omegaBYomega0(i)^2);//Gain    \n",
"end\n",
"G=20*log10(T);//dB\n",
"A=-20*log10(T);//dB\n",
"fi=-atand(omegaBYomega0);//degree\n",
"disp('omega/omega0        T(j*omega)        (G(dB))        A(dB)        fi')\n",
"table=[omegaBYomega0' T G A fi'];\n",
"disp(table);"
   ]
   }
,
{
		   "cell_type": "markdown",
		   "metadata": {},
		   "source": [
			"## Example 3.21: Value_of_T_and_FI.sce"
		   ]
		  },
  {
"cell_type": "code",
	   "execution_count": null,
	   "metadata": {
	    "collapsed": true
	   },
	   "outputs": [],
"source": [
"//Ex 3.21\n",
"clc;clear;close;\n",
"format('v',6);\n",
"omega1=0.1;//rad/s\n",
"omega2=1;//rad/s\n",
"omega3=10;//rad/s\n",
"T1=1/sqrt(1+omega1^6);//Transfer function\n",
"T2=1/sqrt(1+omega2^6);//Transfer function\n",
"T3=1/sqrt(1+omega3^6);//Transfer function\n",
"fi1=-atand((2*omega1-omega1^3)/real(1-2*omega1^2));//degree\n",
"fi2=-atand((2*omega2-omega2^3)/real(1-2*omega2^2));//degree\n",
"fi3=-atand((2*omega3-omega3^3)/real(1-2*omega3^2));//degree\n",
"disp(fi1,T1,'Value of T & fi for 0.1 rad/s: ');\n",
"disp(fi2-180,T2,'Value of T & fi for 1 rad/s: ');\n",
"disp(fi3,T3,'Value of T & fi for 10 rad/s: ');\n",
""
   ]
   }
,
{
		   "cell_type": "markdown",
		   "metadata": {},
		   "source": [
			"## Example 3.22: First_order_opamp_RC_low_pass_filter.sce"
		   ]
		  },
  {
"cell_type": "code",
	   "execution_count": null,
	   "metadata": {
	    "collapsed": true
	   },
	   "outputs": [],
"source": [
"//Ex 3.22\n",
"clc;clear;close;\n",
"format('v',6);\n",
"f0=10*1000;//Hz(3-dB frequency)\n",
"DCgain=10;\n",
"R1=10;//kohm\n",
"R2=DCgain*R1;//kohm\n",
"C=1/(2*%pi*f0*R2*1000)*10^9;//nF\n",
"disp('Design values are :');\n",
"disp(R2,'Resistance R2(kohm): ');\n",
"disp(C,'Capacitance C(nF): ');"
   ]
   }
,
{
		   "cell_type": "markdown",
		   "metadata": {},
		   "source": [
			"## Example 3.23: First_order_opamp_high_pass_filter.sce"
		   ]
		  },
  {
"cell_type": "code",
	   "execution_count": null,
	   "metadata": {
	    "collapsed": true
	   },
	   "outputs": [],
"source": [
"//Ex 3.23\n",
"clc;clear;close;\n",
"format('v',6);\n",
"f0=100;//Hz(3-dB frequency)\n",
"Ri_inf=100;//kohm(High frequency input resistance)\n",
"Tinf=1;//high frequency gain\n",
"R1=Ri_inf;//kohm\n",
"R2=Tinf*R1;//kohm\n",
"C=1/(2*%pi*f0*R2*1000)*10^9;//nF\n",
"disp('Design values are :');\n",
"disp(R2,'Resistance R1=R2 in kohm : ');\n",
"disp(C,'Capacitance C(nF): ');"
   ]
   }
,
{
		   "cell_type": "markdown",
		   "metadata": {},
		   "source": [
			"## Example 3.24: Cascading_components.sce"
		   ]
		  },
  {
"cell_type": "code",
	   "execution_count": null,
	   "metadata": {
	    "collapsed": true
	   },
	   "outputs": [],
"source": [
"//Ex 3.24\n",
"clc;clear;close;\n",
"format('v',6);\n",
"Ap=12;//dB(Pass band gain)\n",
"G=round(10^(Ap/20));//gain(unitless)\n",
"Ri=100;//kohm(as high input impedence required)\n",
"R1=Ri;//kohm\n",
"//Low pass filter design\n",
"ALP=-1;AHP=-4;//(to satisfy R2<=100;//kohm)\n",
"R2=-ALP*R1;//kohm\n",
"f0=10*1000;//Hz(3-dB frequency)\n",
"C=1/(2*%pi*f0*R2*1000)*10^9;//nF\n",
"disp('Design values for low pass filter :');\n",
"disp(R2,'Resistance R1=R2 in kohm : ');\n",
"disp(C,'Capacitance C(nF): ');\n",
"//High pass filter design\n",
"R3=25;//kohm(Assumed)\n",
"R4=-AHP*R3;//kohm\n",
"f0=100;//Hz(3-dB frequency)\n",
"C=1/(2*%pi*f0*R3*1000)*10^9;//nF\n",
"disp('Design values for high pass filter :');\n",
"disp(R4,R3,'Resistance R3 & R4 in kohm : ');\n",
"disp(C,'Capacitance C(nF): ');"
   ]
   }
,
{
		   "cell_type": "markdown",
		   "metadata": {},
		   "source": [
			"## Example 3.25: Value_of_R.sce"
		   ]
		  },
  {
"cell_type": "code",
	   "execution_count": null,
	   "metadata": {
	    "collapsed": true
	   },
	   "outputs": [],
"source": [
"//Ex 3.25\n",
"clc;clear;close;\n",
"format('v',6);\n",
"omega=10^4;//rad/s\n",
"C=10;//nF\n",
"fi1=-30;fi2=-90;fi3=-120;fi4=-150;//degree\n",
"R1=tand(-fi1/2)/(C*10^-9*omega)/1000;//kohm\n",
"R2=tand(-fi2/2)/(C*10^-9*omega)/1000;//kohm\n",
"R3=tand(-fi3/2)/(C*10^-9*omega)/1000;//kohm\n",
"R4=tand(-fi4/2)/(C*10^-9*omega)/1000;//kohm\n",
"disp(R1,'For phase shift=-30 degree, Resistance(kohm) : ');\n",
"disp(R2,'For phase shift=-90 degree, Resistance(kohm) : ');\n",
"disp(R3,'For phase shift=-120 degree, Resistance(kohm) : ');\n",
"disp(R4,'For phase shift=-150 degree, Resistance(kohm) : ');"
   ]
   }
,
{
		   "cell_type": "markdown",
		   "metadata": {},
		   "source": [
			"## Example 3.26: Resulting_shift.sce"
		   ]
		  },
  {
"cell_type": "code",
	   "execution_count": null,
	   "metadata": {
	    "collapsed": true
	   },
	   "outputs": [],
"source": [
"//Ex 3.26\n",
"clc;clear;close;\n",
"omega1=0;//rad/s\n",
"omega2=%inf;//rad/s\n",
"omega0=10^4;//rad/s(Assumed)\n",
"fi1=atand(omega2/omega0)-atand(omega2/-omega0);//degree\n",
"fi2=atand(omega1/omega0)-atand(omega1/-omega0);//degree\n",
"disp(fi1,'For omega=0, phase shift(degree)');\n",
"disp(fi2,'For omega=infinity, phase shift(degree)');"
   ]
   }
,
{
		   "cell_type": "markdown",
		   "metadata": {},
		   "source": [
			"## Example 3.28: Design_the_KHN_circuit.sce"
		   ]
		  },
  {
"cell_type": "code",
	   "execution_count": null,
	   "metadata": {
	    "collapsed": true
	   },
	   "outputs": [],
"source": [
"//Ex 3.28\n",
"clc;clear;close;\n",
"f0=1*1000;//Hz\n",
"BW=2*%pi*50;//Hz\n",
"C=10;//nF\n",
"Q=2*%pi*f0/BW;//quality factor\n",
"R=1/(2*%pi*f0*C*10^-9)/1000;//kohm\n",
"R1=10;//kohm(Assumed)\n",
"RF=10;//kohm(Assumed)\n",
"R3BYR2=2*Q-1;\n",
"R2=10;//kohm(Assumed)\n",
"R3=R3BYR2*R2;//kohm\n",
"disp('Design values for KHN circuit :');\n",
"disp(RF,R1,'Use Resistance R1 & RF in kohm : ');\n",
"disp(R2,'Use Resistance R2 in kohm : ');\n",
"disp(R3,'Resistance R3 in kohm : ');\n",
"K=2-1/Q;//scaling factor\n",
"CenterFrequency=K*Q;\n",
"disp(CenterFrequency,'CenterFrequency ');"
   ]
   }
,
{
		   "cell_type": "markdown",
		   "metadata": {},
		   "source": [
			"## Example 3.2: Output_Voltage.sce"
		   ]
		  },
  {
"cell_type": "code",
	   "execution_count": null,
	   "metadata": {
	    "collapsed": true
	   },
	   "outputs": [],
"source": [
"//Ex 3.2\n",
"clc;clear;close;\n",
"Vin=2.5;//mV\n",
"R1=2;//kohm\n",
"Rf=200;//kohm\n",
"G=-Rf/R1;//Gain\n",
"Vo=G*Vin/1000;//V\n",
"disp(Vo,'Output Voltage(V) : ');"
   ]
   }
,
{
		   "cell_type": "markdown",
		   "metadata": {},
		   "source": [
			"## Example 3.3: Design_invertin_amplifier.sce"
		   ]
		  },
  {
"cell_type": "code",
	   "execution_count": null,
	   "metadata": {
	    "collapsed": true
	   },
	   "outputs": [],
"source": [
"//Ex 3.3\n",
"clc;clear;close;\n",
"G=-10;//Gain\n",
"Ri=100;//kohm(input resistance)\n",
"R1=Ri;//kohm\n",
"R2=-G*R1;//kohm\n",
"disp(R1,'Value of R1(kohm)');\n",
"disp(R2/1000,'Value of R2(Mohm)');"
   ]
   }
,
{
		   "cell_type": "markdown",
		   "metadata": {},
		   "source": [
			"## Example 3.4: Approximate_values_of_attenuation.sce"
		   ]
		  },
  {
"cell_type": "code",
	   "execution_count": null,
	   "metadata": {
	    "collapsed": true
	   },
	   "outputs": [],
"source": [
"//Ex 3.4\n",
"clc;clear;close;\n",
"format('v',6);\n",
"FT1=1;//Filter Transmission\n",
"FT2=0.99;//Filter Transmission\n",
"FT3=0.9;//Filter Transmission\n",
"FT4=0.1;//Filter Transmission\n",
"A1=-20*log10(FT1);//dB\n",
"A2=-20*log10(FT2);//dB\n",
"A3=-20*log10(FT3);//dB\n",
"A4=-20*log10(FT4);//dB\n",
"disp(A1,'For filter transmission=1, Attenuation(dB)');\n",
"disp(A2,'For filter transmission=0.99, Attenuation(dB)');\n",
"disp(A3,'For filter transmission=0.9, Attenuation(dB)');\n",
"disp(A4,'For filter transmission=0.1, Attenuation(dB)');\n",
"//Answer in the book is wrong for 0.99 filter transmission."
   ]
   }
,
{
		   "cell_type": "markdown",
		   "metadata": {},
		   "source": [
			"## Example 3.5: First_order_low_pass_filter.sce"
		   ]
		  },
  {
"cell_type": "code",
	   "execution_count": null,
	   "metadata": {
	    "collapsed": true
	   },
	   "outputs": [],
"source": [
"//Ex 3.5\n",
"clc;clear;close;\n",
"format('v',5);\n",
"fo=2;//kHz\n",
"Ap=10;//Band pass gain\n",
"C=0.1;//micro F(have to choose C, 0.01<C<1)\n",
"R2=1/(2*%pi*fo*10^3*C*10^-6);//ohm\n",
"R1=R2/Ap;//ohm\n",
"disp('Design values are :');\n",
"disp(C,'Capacitance(micro F)');\n",
"disp(R1,'Resistance R1(ohm)');\n",
"disp(R2/1000,'Resistance R2(kohm)');\n",
"//Answer in the book is wrong."
   ]
   }
,
{
		   "cell_type": "markdown",
		   "metadata": {},
		   "source": [
			"## Example 3.6: Second_order_low_pass_filter.sce"
		   ]
		  },
  {
"cell_type": "code",
	   "execution_count": null,
	   "metadata": {
	    "collapsed": true
	   },
	   "outputs": [],
"source": [
"//Ex 3.6\n",
"clc;clear;close;\n",
"format('v',6);\n",
"fo=1;//kHz\n",
"Ap=1.586;//Band pass gain\n",
"C1=0.005;C2=0.005//micro F(Assumed)\n",
"R=1/(2*%pi*fo*10^3*C1*10^-6);//ohm\n",
"Rf=10;//kohm(Assumed)\n",
"Ri=Rf/(Ap-1);//kohm\n",
"disp('Design values are :');\n",
"disp(R/1000,'Resistance in kohm, R1=R2=');\n",
"disp(Ri,'Resistance Ri(kohm)');\n",
"disp(Rf,'Resistance Rf(kohm)');\n",
"disp(C1,'Capacitance(micro F), C1=C2=');"
   ]
   }
,
{
		   "cell_type": "markdown",
		   "metadata": {},
		   "source": [
			"## Example 3.7: Second_order_Butterworth_filter.sce"
		   ]
		  },
  {
"cell_type": "code",
	   "execution_count": null,
	   "metadata": {
	    "collapsed": true
	   },
	   "outputs": [],
"source": [
"//Ex 3.7\n",
"clc;clear;close;\n",
"format('v',6);\n",
"fo=3;//kHz\n",
"Ap=4;//Band pass gain\n",
"alfa=1.414;//for butterworth filter\n",
"C1=0.01;//micro F(Assumed)\n",
"C2=alfa^2*C1/4;//micro F\n",
"R=1/(2*%pi*fo*10^3*sqrt(C1*10^-6*C2*10^-6))/1000;//kohm\n",
"Rf=2*R;//kohm(Assumed)\n",
"disp('Design values are :');\n",
"disp(C1,'Capacitance C1(micro F)');\n",
"disp(C2,'Capacitance C2(micro F)');\n",
"disp(R,'Resistance R(kohm)');\n",
"disp(Rf,'For offset minimization, Resistance Rf(kohm)');\n",
"///For additional pass band gain\n",
"Ri=10;//kohm(Assumed)\n",
"Rf=(Ap-1)*Ri;//kohm\n",
"disp('For additional band pass gain:');\n",
"disp(Ri,'Resistance Ri(kohm)');\n",
"disp(Rf,'Resistance Rf(kohm)');\n",
"//Answer in the book is not accurate."
   ]
   }
,
{
		   "cell_type": "markdown",
		   "metadata": {},
		   "source": [
			"## Example 3.8: Second_order_low_pass_filter.sce"
		   ]
		  },
  {
"cell_type": "code",
	   "execution_count": null,
	   "metadata": {
	    "collapsed": true
	   },
	   "outputs": [],
"source": [
"//Ex 3.8\n",
"clc;clear;close;\n",
"format('v',6);\n",
"fo=2;//kHz\n",
"alfa=1.414;//for butterworth filter\n",
"Ap=3-alfa;//band pass gain\n",
"RfBYRi=(Ap-1);//op-amp gain\n",
"C=0.05;//micro F(Assumed)\n",
"R=1/(2*%pi*fo*10^3*C*10^-6)/1000;//kohm\n",
"//For offset minimization 2*R=Rf||Ri\n",
"Rf=2*R*RfBYRi+2*R;//kohm\n",
"Ri=Rf/RfBYRi;//kohm\n",
"disp('Design values are :');\n",
"disp(C,'Capacitance C(micro F)');\n",
"disp(R,'Resistance R(kohm)');\n",
"disp(Rf,'Resistance Rf(kohm)');\n",
"disp(Ri,'Resistance Ri(kohm)');"
   ]
   }
,
{
		   "cell_type": "markdown",
		   "metadata": {},
		   "source": [
			"## Example 3.9: Second_order_low_pass_filter.sce"
		   ]
		  },
  {
"cell_type": "code",
	   "execution_count": null,
	   "metadata": {
	    "collapsed": true
	   },
	   "outputs": [],
"source": [
"//Ex 3.9\n",
"clc;clear;close;\n",
"format('v',6);\n",
"fo=1.2;//kHz\n",
"alfa=1.414;//for butterworth filter\n",
"Ap=3-alfa;//band pass gain\n",
"RfBYRi=(Ap-1);//op-amp gain\n",
"C=0.03;//micro F(have to choose C, 0.01<C<1)\n",
"R=1/(2*%pi*fo*10^3*C*10^-6)/1000;//kohm\n",
"//For offset minimization 2*R=Rf||Ri\n",
"Rf=2*R*RfBYRi+2*R;//kohm\n",
"Ri=Rf/RfBYRi;//kohm\n",
"disp('Design values are :');\n",
"disp(C,'Capacitance(micro F)');\n",
"disp(R,'Resistance R(kohm)');\n",
"disp(Rf,'Resistance Rf(kohm)');\n",
"disp(Ri,'Resistance Ri(kohm)');"
   ]
   }
],
"metadata": {
		  "kernelspec": {
		   "display_name": "Scilab",
		   "language": "scilab",
		   "name": "scilab"
		  },
		  "language_info": {
		   "file_extension": ".sce",
		   "help_links": [
			{
			 "text": "MetaKernel Magics",
			 "url": "https://github.com/calysto/metakernel/blob/master/metakernel/magics/README.md"
			}
		   ],
		   "mimetype": "text/x-octave",
		   "name": "scilab",
		   "version": "0.7.1"
		  }
		 },
		 "nbformat": 4,
		 "nbformat_minor": 0
}
