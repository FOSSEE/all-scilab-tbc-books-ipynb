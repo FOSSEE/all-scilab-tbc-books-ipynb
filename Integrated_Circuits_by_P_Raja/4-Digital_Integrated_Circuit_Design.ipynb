{
"cells": [
 {
		   "cell_type": "markdown",
	   "metadata": {},
	   "source": [
       "# Chapter 4: Digital Integrated Circuit Design"
	   ]
	},
{
		   "cell_type": "markdown",
		   "metadata": {},
		   "source": [
			"## Example 4.3: Gain_in_transition_region.sce"
		   ]
		  },
  {
"cell_type": "code",
	   "execution_count": null,
	   "metadata": {
	    "collapsed": true
	   },
	   "outputs": [],
"source": [
"//Ex 4.3\n",
"clc;clear;close;\n",
"VDD=3;//V(Supply Voltage)\n",
"VOH=VDD;//V\n",
"VOL=0;//V\n",
"Vth=VDD/2;//V\n",
"VIL=VDD/2;//V\n",
"VIH=VDD/2;//V\n",
"NMH=VOH-VIH;//V\n",
"NML=VIL-VOL;//V\n",
"disp(Vth,'Vth(V)');\n",
"disp(VIL,'VIL(V)');\n",
"disp(VIH,'VIH(V)');\n",
"disp(VOL,'VOL(V)');\n",
"disp(VOH,'VOH(V)');\n",
"disp(NML,'NML(V)');\n",
"disp(NMH,'NMH(V)');\n",
"//Gain=(VOH-VOL)/(VIH-VIL)=infinity as VIH=VIL;//Gain in the transition region\n",
"Gain=%inf;//\n",
"disp(Gain,'Gain in the transition region');\n",
"//Answer in the book is wrong for the gain."
   ]
   }
],
"metadata": {
		  "kernelspec": {
		   "display_name": "Scilab",
		   "language": "scilab",
		   "name": "scilab"
		  },
		  "language_info": {
		   "file_extension": ".sce",
		   "help_links": [
			{
			 "text": "MetaKernel Magics",
			 "url": "https://github.com/calysto/metakernel/blob/master/metakernel/magics/README.md"
			}
		   ],
		   "mimetype": "text/x-octave",
		   "name": "scilab",
		   "version": "0.7.1"
		  }
		 },
		 "nbformat": 4,
		 "nbformat_minor": 0
}
