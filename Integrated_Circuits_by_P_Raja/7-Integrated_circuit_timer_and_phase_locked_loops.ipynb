{
"cells": [
 {
		   "cell_type": "markdown",
	   "metadata": {},
	   "source": [
       "# Chapter 7: Integrated circuit timer and phase locked loops"
	   ]
	},
{
		   "cell_type": "markdown",
		   "metadata": {},
		   "source": [
			"## Example 7.1: tHIGH_tLOW_and_free_running_frequency.sce"
		   ]
		  },
  {
"cell_type": "code",
	   "execution_count": null,
	   "metadata": {
	    "collapsed": true
	   },
	   "outputs": [],
"source": [
"//Ex 7.1\n",
"clc;clear;close;\n",
"RA=6.8;//kohm\n",
"RB=3.3;//kohm\n",
"C=0.1;//micro F\n",
"VCC=5;//V\n",
"t_high=0.695*(RA+RB)*C;//ms\n",
"disp(t_high,'(a) t_high(ms)');\n",
"t_low=0.695*RB*C;//ms\n",
"disp(t_low,'(b) t_low(ms)');\n",
"f=1.44/(RA+2*RB)/(C);//kHz\n",
"disp(f,'(c) Frequency of oscillation(kHz)');"
   ]
   }
,
{
		   "cell_type": "markdown",
		   "metadata": {},
		   "source": [
			"## Example 7.2: Calculate_timing_interval.sce"
		   ]
		  },
  {
"cell_type": "code",
	   "execution_count": null,
	   "metadata": {
	    "collapsed": true
	   },
	   "outputs": [],
"source": [
"//Ex 7.2\n",
"clc;clear;close;\n",
"RA=10;//kohm\n",
"C=0.1;//micro F\n",
"t=1.1*RA*C;//ms\n",
"disp(t,'Timing interval(ms)');"
   ]
   }
,
{
		   "cell_type": "markdown",
		   "metadata": {},
		   "source": [
			"## Example 7.3: Loop_lock.sce"
		   ]
		  },
  {
"cell_type": "code",
	   "execution_count": null,
	   "metadata": {
	    "collapsed": true
	   },
	   "outputs": [],
"source": [
"//Ex 7.3\n",
"clc;clear;close;\n",
"fc=500;//kHz(Free running frequuency)\n",
"fi=600;//kHz(Input signal frequuency)\n",
"BW=10;//kHz\n",
"out1=fi+fc;//kHz(Phase detector output)\n",
"out2=fi-fc;//kHz(Phase detector output)\n",
"disp(out2,out1,'Output of phase detector will be(kHz)');\n",
"disp('Both components are not lying in the passband(i.e. 10 kHz). Hence loop will not acquire lock.');\n",
"//fi+fc is calculated wrong in the book."
   ]
   }
,
{
		   "cell_type": "markdown",
		   "metadata": {},
		   "source": [
			"## Example 7.4: Capture_range.sce"
		   ]
		  },
  {
"cell_type": "code",
	   "execution_count": null,
	   "metadata": {
	    "collapsed": true
	   },
	   "outputs": [],
"source": [
"//Ex 7.4\n",
"clc;clear;close;\n",
"format('v',6);\n",
"fo=10;//kHz\n",
"V=12;//V\n",
"fL=8*fo/(V-(-V));//kHz(both +ve & -ve value)\n",
"C=10;//micro F(Assumed)\n",
"fC=sqrt(fL*10^3/(2*%pi*3.6*10^3*C*10^-6));//Fz(both +ve & -ve value)\n",
"disp(fC,fL,'Frequency fL & fC in kHz');\n",
"LR=2*fL;//kHz(Lock Range)\n",
"disp(LR,'Lock Range(kHz)');\n",
"CR=2*fC;//kHz(Capture rage)\n",
"disp(CR,'Capture Range(Hz)');"
   ]
   }
,
{
		   "cell_type": "markdown",
		   "metadata": {},
		   "source": [
			"## Example 7.5: Design_components_of_PLL.sce"
		   ]
		  },
  {
"cell_type": "code",
	   "execution_count": null,
	   "metadata": {
	    "collapsed": true
	   },
	   "outputs": [],
"source": [
"//Ex 7.5\n",
"clc;clear;close;\n",
"format('v',5);\n",
"fo=100;//kHz(Free running frequency)\n",
"V=6;//V(both +ve & -ve value)\n",
"C=1;//micro F(Demodulation capacitor)\n",
"fL=8*fo/(V-(-V));//Hz(both +ve & -ve value)\n",
"fC=sqrt(fL*1000/(2*%pi*3.6*10^3*C*10^-6));//kHzz(both +ve & -ve value)\n",
"LR=2*fL;//kHz(Lock range)\n",
"disp(LR,'Lock Range(kHz)');\n",
"CR=2*fC/1000;//kHz(Capture range)\n",
"disp(CR,'Capture Range(kHz)');\n",
"RT=10;//kohm(Assumed)\n",
"CT=1.2/(4*RT*1000*fo*10^3);//F\n",
"disp('Design values are : ');\n",
"disp('Resistance RT can be chooosen as 10 kohm.');\n",
"format('v',9);\n",
"disp(CT,'Capacitance CT(F)');"
   ]
   }
,
{
		   "cell_type": "markdown",
		   "metadata": {},
		   "source": [
			"## Example 7.7: Value_of_R_and_Vth.sce"
		   ]
		  },
  {
"cell_type": "code",
	   "execution_count": null,
	   "metadata": {
	    "collapsed": true
	   },
	   "outputs": [],
"source": [
"//Ex 7.7\n",
"clc;clear;close;\n",
"C=1;//nF\n",
"T=10;//micro seconds(Output pulse duration)\n",
"R=T*10^-6/(C*10^-9*log(3))/1000;//kohm\n",
"disp(R,'(a) Value of R(kohm)');\n",
"VCC=15;//V\n",
"T=20;//micro seconds(Output pulse duration)\n",
"VTH=VCC*(1-exp(-T*10^-6/(R*1000*C*10^-9)));//V\n",
"disp(VTH,'(b) Value of VTH(V)');"
   ]
   }
,
{
		   "cell_type": "markdown",
		   "metadata": {},
		   "source": [
			"## Example 7.8: Design_astable_circuit.sce"
		   ]
		  },
  {
"cell_type": "code",
	   "execution_count": null,
	   "metadata": {
	    "collapsed": true
	   },
	   "outputs": [],
"source": [
"//Ex 7.8\n",
"clc;clear;close;\n",
"format('v',6);\n",
"C=680;//pF\n",
"f=50;//kHz(Square wave frequency)\n",
"D=75/100;//duty cycle\n",
"T=1/f*1000;//micro seconds\n",
"tHIGH=D*T;//micro seconds\n",
"tLOW=T-tHIGH;//micro seconds\n",
"RB=(tLOW*10^-6)/(0.69*C*10^-12);//ohm\n",
"RA=(tHIGH*10^-6)/(0.695*C*10^-12)-RB;//ohm\n",
"disp(RA/1000,'Value of RA(kohm)');\n",
"disp(RB/1000,'Value of RB(kohm)');"
   ]
   }
],
"metadata": {
		  "kernelspec": {
		   "display_name": "Scilab",
		   "language": "scilab",
		   "name": "scilab"
		  },
		  "language_info": {
		   "file_extension": ".sce",
		   "help_links": [
			{
			 "text": "MetaKernel Magics",
			 "url": "https://github.com/calysto/metakernel/blob/master/metakernel/magics/README.md"
			}
		   ],
		   "mimetype": "text/x-octave",
		   "name": "scilab",
		   "version": "0.7.1"
		  }
		 },
		 "nbformat": 4,
		 "nbformat_minor": 0
}
