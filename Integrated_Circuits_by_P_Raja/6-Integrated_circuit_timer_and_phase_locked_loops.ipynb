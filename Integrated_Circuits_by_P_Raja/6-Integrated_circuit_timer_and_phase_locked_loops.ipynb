{
"cells": [
 {
		   "cell_type": "markdown",
	   "metadata": {},
	   "source": [
       "# Chapter 6: Integrated circuit timer and phase locked loops"
	   ]
	},
{
		   "cell_type": "markdown",
		   "metadata": {},
		   "source": [
			"## Example 6.1: Output_change_per_bit_Full_scale_output.sce"
		   ]
		  },
  {
"cell_type": "code",
	   "execution_count": null,
	   "metadata": {
	    "collapsed": true
	   },
	   "outputs": [],
"source": [
"//Ex 6.1\n",
"clc;clear;close;\n",
"n=8;//no. of bits\n",
"V1=0;//V\n",
"V2=5.12;//V\n",
"Res=2^n;//resolution\n",
"disp(Res,'(a) Resolution=');\n",
"delVo=(V2-V1)/Res*1000;//mV/bit\n",
"disp(delVo,'(b) Output change per bit(mV/bit)');\n",
"VFS=V2*(1-1/2^n);//V\n",
"disp(VFS,'(c) Full scale Output voltage(V)');"
   ]
   }
,
{
		   "cell_type": "markdown",
		   "metadata": {},
		   "source": [
			"## Example 6.2: Produced_output.sce"
		   ]
		  },
  {
"cell_type": "code",
	   "execution_count": null,
	   "metadata": {
	    "collapsed": true
	   },
	   "outputs": [],
"source": [
"//Ex 6.2\n",
"clc;clear;close;\n",
"format('v',5);\n",
"step=10.3;//mV\n",
"reading='101101111';//reading\n",
"Vo=step*bin2dec(reading)/1000;//V\n",
"disp(Vo,'Output voltage(V)');"
   ]
   }
,
{
		   "cell_type": "markdown",
		   "metadata": {},
		   "source": [
			"## Example 6.3: LSB_MSB_and_full_scale_output.sce"
		   ]
		  },
  {
"cell_type": "code",
	   "execution_count": null,
	   "metadata": {
	    "collapsed": true
	   },
	   "outputs": [],
"source": [
"//Ex 6.3\n",
"clc;clear;close;\n",
"format('v',5)\n",
"n=8;//no. of bits\n",
"Range=0:10;//range\n",
"LSB=max(Range)/2^n;//V\n",
"MSB=max(Range)/2^0;//V\n",
"VFS=MSB-LSB;//V\n",
"disp(LSB*1000,'LSB(mV)');\n",
"disp(MSB,'MSB(V)');\n",
"disp(VFS,'VFS(V)');"
   ]
   }
,
{
		   "cell_type": "markdown",
		   "metadata": {},
		   "source": [
			"## Example 6.4: Produced_output.sce"
		   ]
		  },
  {
"cell_type": "code",
	   "execution_count": null,
	   "metadata": {
	    "collapsed": true
	   },
	   "outputs": [],
"source": [
"//Ex 6.4\n",
"clc;clear;close;\n",
"format('v',5);\n",
"Range=0:10;//range\n",
"//(i)2-bit DAC\n",
"n=2;//no. of bits\n",
"step=max(Range)/2^n;//V\n",
"reading='10';//input in binary\n",
"Vo=step*bin2dec(reading);//V\n",
"disp(Vo,'(i) Output Voltage(V)');\n",
"//(ii)4-bit DAC\n",
"n=4;//no. of bits\n",
"step=max(Range)/2^n;//V\n",
"reading='0110';//input in binary\n",
"Vo=step*bin2dec(reading);//V\n",
"disp(Vo,'(ii) Output Voltage(V)');\n",
"//(i)8-bit DAC\n",
"n=8;//no. of bits\n",
"step=max(Range)/2^n;//V\n",
"reading='10111100';//input in binary\n",
"Vo=step*bin2dec(reading);//V\n",
"disp(Vo,'(iii) Output Voltage(V)');"
   ]
   }
,
{
		   "cell_type": "markdown",
		   "metadata": {},
		   "source": [
			"## Example 6.5: Analog_output_voltage.sce"
		   ]
		  },
  {
"cell_type": "code",
	   "execution_count": null,
	   "metadata": {
	    "collapsed": true
	   },
	   "outputs": [],
"source": [
"//Ex 6.5\n",
"clc;clear;close;\n",
"n=8;//no. of bits\n",
"Res=20;//mV/bit(Resolution)\n",
"reading='00010110';//input in binary\n",
"Vo=Res*bin2dec(reading);//V\n",
"disp(Vo/1000,'(a) Output Voltage(V)');\n",
"reading='10000000';//input in binary\n",
"Vo=Res*bin2dec(reading);//V\n",
"disp(Vo/1000,'(b) Output Voltage(V)');"
   ]
   }
,
{
		   "cell_type": "markdown",
		   "metadata": {},
		   "source": [
			"## Example 6.6: Offset_voltage.sce"
		   ]
		  },
  {
"cell_type": "code",
	   "execution_count": null,
	   "metadata": {
	    "collapsed": true
	   },
	   "outputs": [],
"source": [
"//Ex 6.6\n",
"clc;clear;close;\n",
"n=12;//no. of bits\n",
"Eoff=0.05;//%//maximum offset error\n",
"Vref=10.24;//V\n",
"Voffset=Eoff/100*Vref;//V\n",
"disp(round(Voffset*1000),'(a) Offset voltage(mV)');\n",
"delVo=Vref/2^n;//V/bit\n",
"Voff_dash=Voffset/delVo;//in terms of LSB\n",
"disp(round(Voff_dash),'(b) Offset voltage in terms of LSB');"
   ]
   }
,
{
		   "cell_type": "markdown",
		   "metadata": {},
		   "source": [
			"## Example 6.7: Minimum_output_voltage.sce"
		   ]
		  },
  {
"cell_type": "code",
	   "execution_count": null,
	   "metadata": {
	    "collapsed": true
	   },
	   "outputs": [],
"source": [
"//Ex 6.7\n",
"clc;clear;close;\n",
"format('v',4);\n",
"n=8;//no. of bits\n",
"E=0.2;//%//maximum gain error\n",
"Vref=5.1;//V\n",
"V11=(100-E)*Vref/100;//V\n",
"disp(V11,'Minimum output voltage(V)');"
   ]
   }
,
{
		   "cell_type": "markdown",
		   "metadata": {},
		   "source": [
			"## Example 6.8: Input_voltage_and_digital_output.sce"
		   ]
		  },
  {
"cell_type": "code",
	   "execution_count": null,
	   "metadata": {
	    "collapsed": true
	   },
	   "outputs": [],
"source": [
"//Ex 6.8\n",
"clc;clear;close;\n",
"format('v',5);\n",
"n=8;//no. of bits\n",
"Range=0:10;//V\n",
"Vin=5.2;//V\n",
"oneLSB=max(Range)/2^n;//V\n",
"disp(oneLSB*1000,'(a) Minimum voltage for 1 LSB in mV');\n",
"Vifs=max(Range)-oneLSB;//V\n",
"disp(Vifs,'(b) For all ones input voltage should be (V)');\n",
"D=Vin/oneLSB;//Digital output in decimal\n",
"D=dec2bin(round(D));//Digital output in binary\n",
"disp(D,'(c) Digital Output');"
   ]
   }
,
{
		   "cell_type": "markdown",
		   "metadata": {},
		   "source": [
			"## Example 6.9: Conversion_time.sce"
		   ]
		  },
  {
"cell_type": "code",
	   "execution_count": null,
	   "metadata": {
	    "collapsed": true
	   },
	   "outputs": [],
"source": [
"//Ex 6.9\n",
"clc;clear;close;\n",
"n=8;//no. of bits\n",
"f=1*10^6;//Hz(Clock frequency)\n",
"TC=1/f*(n+1);//seconds\n",
"disp(TC*10^6,'Conversion time in micro seconds');"
   ]
   }
],
"metadata": {
		  "kernelspec": {
		   "display_name": "Scilab",
		   "language": "scilab",
		   "name": "scilab"
		  },
		  "language_info": {
		   "file_extension": ".sce",
		   "help_links": [
			{
			 "text": "MetaKernel Magics",
			 "url": "https://github.com/calysto/metakernel/blob/master/metakernel/magics/README.md"
			}
		   ],
		   "mimetype": "text/x-octave",
		   "name": "scilab",
		   "version": "0.7.1"
		  }
		 },
		 "nbformat": 4,
		 "nbformat_minor": 0
}
