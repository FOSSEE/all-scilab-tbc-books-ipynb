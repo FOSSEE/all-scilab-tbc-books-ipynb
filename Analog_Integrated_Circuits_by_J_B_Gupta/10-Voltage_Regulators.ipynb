{
"cells": [
 {
		   "cell_type": "markdown",
	   "metadata": {},
	   "source": [
       "# Chapter 10: Voltage Regulators"
	   ]
	},
{
		   "cell_type": "markdown",
		   "metadata": {},
		   "source": [
			"## Example 10.1: Minimum_input_voltage.sce"
		   ]
		  },
  {
"cell_type": "code",
	   "execution_count": null,
	   "metadata": {
	    "collapsed": true
	   },
	   "outputs": [],
"source": [
"// Example 10.1\n",
"clc;\n",
"clear;\n",
"close;\n",
"// Given data\n",
"format('v',6);\n",
"Idc= 300;// in mA\n",
"C= 200;// in µF\n",
"Vmax= 24;// in V\n",
"Vrms= 2.4*Idc/C;//in V\n",
"Vr_peak= sqrt(3)*Vrms;// in V\n",
"Vdc= Vmax-Vr_peak;// in V\n",
"disp(Vdc,'The minimum input voltage in volts is : ')\n",
"\n",
"\n",
"\n",
""
   ]
   }
,
{
		   "cell_type": "markdown",
		   "metadata": {},
		   "source": [
			"## Example 10.2: Input_voltage.sce"
		   ]
		  },
  {
"cell_type": "code",
	   "execution_count": null,
	   "metadata": {
	    "collapsed": true
	   },
	   "outputs": [],
"source": [
"// Example 10.2\n",
"clc;\n",
"clear;\n",
"close;\n",
"// Given data\n",
"format('v',6);\n",
"VR= 12;// in V\n",
"IL= 0.5;// in A\n",
"RL= 25;// in Ω\n",
"// Resistanc required,\n",
"R= VR/IL;// in Ω\n",
"VL= IL*RL;// in V\n",
"Vout= VR+VL;//output voltage in V\n",
"Vin= Vout+2;// input voltage in V\n",
"disp(Vin,'The input voltage in volts is : ')\n",
"\n",
"\n",
"\n",
"\n",
""
   ]
   }
,
{
		   "cell_type": "markdown",
		   "metadata": {},
		   "source": [
			"## Example 10.3: Regulated_output_voltage.sce"
		   ]
		  },
  {
"cell_type": "code",
	   "execution_count": null,
	   "metadata": {
	    "collapsed": true
	   },
	   "outputs": [],
"source": [
"// Example 10.3\n",
"clc;\n",
"clear;\n",
"close;\n",
"// Given data\n",
"format('v',6);\n",
"R1= 240;// in Ω\n",
"R2= 1.2*10^3;// in Ω\n",
"// Regulated output voltage in the circuit,\n",
"Vout= 1.25*(1+R2/R1);// in V\n",
"disp(Vout,'The regulated output voltage in volts is : ');\n",
"\n",
"\n",
"\n",
"\n",
" "
   ]
   }
,
{
		   "cell_type": "markdown",
		   "metadata": {},
		   "source": [
			"## Example 10.4: Minimum_and_maximum_output_voltage.sce"
		   ]
		  },
  {
"cell_type": "code",
	   "execution_count": null,
	   "metadata": {
	    "collapsed": true
	   },
	   "outputs": [],
"source": [
"// Example 10.4\n",
"clc;\n",
"clear;\n",
"close;\n",
"// Given data\n",
"format('v',6);\n",
"V_REG= 15;// in V\n",
"I_Q= 10*10^-3;// in A\n",
"R1= 40;// in Ω\n",
"// When potentiometer R2=0 Ω (minimum)\n",
"R2= 0;// in Ω\n",
"Vout= (1+R2/R1)*V_REG+I_Q*R2;\n",
"disp(Vout,'The minimum output voltage in volts is : ');\n",
"// When potentiometer R2=200 Ω (maximum)\n",
"R2= 200;// in Ω\n",
"Vout= (1+R2/R1)*V_REG+I_Q*R2;\n",
"disp(Vout,'The minimum output voltage in volts is : ');"
   ]
   }
,
{
		   "cell_type": "markdown",
		   "metadata": {},
		   "source": [
			"## Example 10.5: Regulated_output_voltage.sce"
		   ]
		  },
  {
"cell_type": "code",
	   "execution_count": null,
	   "metadata": {
	    "collapsed": true
	   },
	   "outputs": [],
"source": [
"// Example 10.5\n",
"clc;\n",
"clear;\n",
"close;\n",
"// Given data\n",
"format('v',6);\n",
"V_REF= 1.25;// in V\n",
"R1= 2.5*10^3;// in Ω\n",
"R2= 1*10^3;// in Ω\n",
"I= V_REF/R2;// in A\n",
"// The output voltage,\n",
"Vout= I*(R1+R2);// in V\n",
"disp(Vout,'The regulated output voltage in volts is : ')\n",
""
   ]
   }
,
{
		   "cell_type": "markdown",
		   "metadata": {},
		   "source": [
			"## Example 10.6: Duty_cycle_of_the_pulses.sce"
		   ]
		  },
  {
"cell_type": "code",
	   "execution_count": null,
	   "metadata": {
	    "collapsed": true
	   },
	   "outputs": [],
"source": [
"// Example 10.6\n",
"clc;\n",
"clear;\n",
"close;\n",
"// Given data\n",
"format('v',6);\n",
"V_REF= 1.25;// in V\n",
"R1= 3*10^3;// in Ω\n",
"R2= 1*10^3;// in Ω\n",
"Vin= 20;// in V\n",
"Vout= V_REF*(R1+R2)/R2;// output voltage in volts\n",
"// Duty cycle,\n",
"D= Vout/Vin*100;// in %\n",
"disp('The duty cycle is '+string(D)+' %')\n",
""
   ]
   }
],
"metadata": {
		  "kernelspec": {
		   "display_name": "Scilab",
		   "language": "scilab",
		   "name": "scilab"
		  },
		  "language_info": {
		   "file_extension": ".sce",
		   "help_links": [
			{
			 "text": "MetaKernel Magics",
			 "url": "https://github.com/calysto/metakernel/blob/master/metakernel/magics/README.md"
			}
		   ],
		   "mimetype": "text/x-octave",
		   "name": "scilab",
		   "version": "0.7.1"
		  }
		 },
		 "nbformat": 4,
		 "nbformat_minor": 0
}
