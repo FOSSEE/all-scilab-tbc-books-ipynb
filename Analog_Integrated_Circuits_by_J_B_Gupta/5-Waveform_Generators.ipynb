{
"cells": [
 {
		   "cell_type": "markdown",
	   "metadata": {},
	   "source": [
       "# Chapter 5: Waveform Generators"
	   ]
	},
{
		   "cell_type": "markdown",
		   "metadata": {},
		   "source": [
			"## Example 5.10: A_Wien_bridge_oscillator.sce"
		   ]
		  },
  {
"cell_type": "code",
	   "execution_count": null,
	   "metadata": {
	    "collapsed": true
	   },
	   "outputs": [],
"source": [
"// Example 5.10\n",
"clc;\n",
"clear;\n",
"close;\n",
"// Given data\n",
"format('v',6);\n",
"I_Bmax= 500;// in nA\n",
"I_Bmax= I_Bmax*10^-9;// in A\n",
"VCC= 10;// in V\n",
"f= 10*10^3;// in Hz\n",
"I1= 500*10^-6;// current through R1 in A (assume)\n",
"Vout= (VCC-1);//output voltage in V\n",
"// Rf+R1= Vout/I1 and Rf= 2*R1, so\n",
"R1= Vout/(3*I1);// in Ω\n",
"R1= R1*10^-3;// in kΩ\n",
"disp('The value of R1 is : '+string(R1)+' kΩ (standard value 5.6 kΩ)');\n",
"R1= 5.6;// in kΩ (standard value)\n",
"Rf= 2*R1;// in kΩ\n",
"disp('The value of Rf is : '+string(Rf)+' kΩ (standard value 12 kΩ)');\n",
"R= R1;// in kΩ\n",
"R= R*10^3;// in Ω\n",
"C= 1/(2*%pi*f*R);// in F\n",
"C= C*10^12;// in pF\n",
"disp('The value of C is : '+string(C)+' pF');"
   ]
   }
,
{
		   "cell_type": "markdown",
		   "metadata": {},
		   "source": [
			"## Example 5.11: Frequency_of_oscillation.sce"
		   ]
		  },
  {
"cell_type": "code",
	   "execution_count": null,
	   "metadata": {
	    "collapsed": true
	   },
	   "outputs": [],
"source": [
"// Example 5.11\n",
"clc;\n",
"clear;\n",
"close;\n",
"// Given data\n",
"format('v',6);\n",
"R= 1*10^3;// in Ω\n",
"C= 4.7*10^-6;// in F\n",
"omega= 1/(R*C);// radians/second\n",
"f= omega/(2*%pi);// in Hz\n",
"disp(f,'The frequency of oscillation in Hz is : ')\n",
"\n",
""
   ]
   }
,
{
		   "cell_type": "markdown",
		   "metadata": {},
		   "source": [
			"## Example 5.1: Frequency_and_duty_cycle.sce"
		   ]
		  },
  {
"cell_type": "code",
	   "execution_count": null,
	   "metadata": {
	    "collapsed": true
	   },
	   "outputs": [],
"source": [
"// Example 5.1\n",
"clc;\n",
"clear;\n",
"close;\n",
"// Given data\n",
"format('v',6);\n",
"C= 0.01;// in µF\n",
"C=C*10^-6;// in F\n",
"R_A= 2;// in kΩ\n",
"R_A=R_A*10^3;// in Ω\n",
"R_B= 100;// in kΩ\n",
"R_B=R_B*10^3;// in Ω\n",
"T_HIGH= 0.693*(R_A+R_B)*C;//charging period in second\n",
"T_LOW= 0.693*R_B*C;// discharging period in second\n",
"T= T_HIGH+T_LOW;// overall period of oscillations in second\n",
"f= 1/T;// frequency of oscillations in Hz\n",
"D= T_HIGH/T*100;// duty cycle in %\n",
"disp(f,'The frequency of oscillations in Hz is : ')\n",
"disp(D,'Duty cycle in % is : ')\n",
"\n",
""
   ]
   }
,
{
		   "cell_type": "markdown",
		   "metadata": {},
		   "source": [
			"## Example 5.2: Positive_and_negative_pulse_width_and_free_running_frequency.sce"
		   ]
		  },
  {
"cell_type": "code",
	   "execution_count": null,
	   "metadata": {
	    "collapsed": true
	   },
	   "outputs": [],
"source": [
"// Example 5.2\n",
"clc;\n",
"clear;\n",
"close;\n",
"// Given data\n",
"format('v',6);\n",
"C= 1;// in µF\n",
"C=C*10^-6;// in F\n",
"R_A= 4.7;// in kΩ\n",
"R_A=R_A*10^3;// in Ω\n",
"R_B= 1;// in kΩ\n",
"R_B=R_B*10^3;// in Ω\n",
"T_on= 0.693*(R_A+R_B)*C;//positive pulse width in second\n",
"T_on= T_on*10^3;// in ms\n",
"T_off= 0.693*R_B*C;// pulse width in second\n",
"T_off= T_off*10^3;// in ms\n",
"f= 1.4/((R_A+2*R_B)*C);// free running frequency in Hz\n",
"D= round((R_A+R_B)/(R_A+2*R_B)*100);// in %\n",
"disp(T_on,'The positive pulse width in ms')\n",
"disp(T_off,'The negative pulse width in ms')\n",
"disp(f,'The frequency of oscillations in Hz is : ')\n",
"disp(D,'Duty cycle in % is : ')\n",
"\n",
""
   ]
   }
,
{
		   "cell_type": "markdown",
		   "metadata": {},
		   "source": [
			"## Example 5.3: Required_resistor.sce"
		   ]
		  },
  {
"cell_type": "code",
	   "execution_count": null,
	   "metadata": {
	    "collapsed": true
	   },
	   "outputs": [],
"source": [
"// Example 5.3\n",
"clc;\n",
"clear;\n",
"close;\n",
"// Given data\n",
"format('v',6);\n",
"C= 0.01;// in µF\n",
"C= C*10^-6;// in F\n",
"f= 1;// in kHz\n",
"f= f*10^3;// in Hz\n",
"// For 50% duty cycle, Ton= Toff = T/2 and R_A= R_B\n",
"// From equation, f= 1.44/((R_A+R_B)*C)= 1.44/(2*R_A*C)\n",
"R_A= 1.44/(2*f*C);// in Ω\n",
"R_A= R_A*10^-3;// in kΩ\n",
"R_B= R_A;// in kΩ\n",
"disp(R_A,'The value of R_A and R_B in kΩ : ')\n",
"disp('(Standard value 68 kΩ)')"
   ]
   }
,
{
		   "cell_type": "markdown",
		   "metadata": {},
		   "source": [
			"## Example 5.4: Designing_of_a_555_timer.sce"
		   ]
		  },
  {
"cell_type": "code",
	   "execution_count": null,
	   "metadata": {
	    "collapsed": true
	   },
	   "outputs": [],
"source": [
"// Example 5.4\n",
"clc;\n",
"clear;\n",
"close;\n",
"// Given data\n",
"format('v',5);\n",
"f= 700;// in Hz\n",
"C= 0.01;// in µF (assumed)\n",
"C= C*10^-6;// in F\n",
"// For 50% duty cycle, Ton= Toff = T/2 and R_A= R_B\n",
"// From equation, f= 1.44/((R_A+R_B)*C)= 1.44/(2*R_A*C)\n",
"R_A= 1.44/(2*f*C);// in Ω\n",
"R_A= R_A*10^-3;// in kΩ\n",
"R_B= R_A;// in kΩ\n",
"C= C*10^6;// in µF\n",
"disp(R_A,'The value of R_A and R_B in kΩ : ')\n",
"disp('(Standard value 100 kΩ)')\n",
"disp(C,'The value of C in µF is : ')"
   ]
   }
,
{
		   "cell_type": "markdown",
		   "metadata": {},
		   "source": [
			"## Example 5.5: Designing_of_a_555_timer.sce"
		   ]
		  },
  {
"cell_type": "code",
	   "execution_count": null,
	   "metadata": {
	    "collapsed": true
	   },
	   "outputs": [],
"source": [
"// Example 5.5\n",
"clc;\n",
"clear;\n",
"close;\n",
"// Given data\n",
"format('v',5);\n",
"f= 800;// in Hz\n",
"C= 0.01;// in µF (assumed)\n",
"C= C*10^-6;// in F\n",
"D= 60;// in duty cycle in %\n",
"// D= (R_A+R_B)/(R_A+2*R_B)*100= 60 or\n",
"// R_B= 2*R_A\n",
"R_A= 1.44/(f*5*C);// in Ω  (From f=1.44/((R_A+2*R_B)*C))\n",
"R_A= R_A*10^-3;//in kΩ\n",
"R_B= 2*R_A;// in kΩ\n",
"C= C*10^6;//in F\n",
"disp(R_A,'The value of R_A in kΩ is : ');\n",
"disp(R_B,'The value of R_B in kΩ is : ');\n",
"disp(C,'The value of C in µF is : ')\n",
""
   ]
   }
,
{
		   "cell_type": "markdown",
		   "metadata": {},
		   "source": [
			"## Example 5.6: Resonance_frequencies.sce"
		   ]
		  },
  {
"cell_type": "code",
	   "execution_count": null,
	   "metadata": {
	    "collapsed": true
	   },
	   "outputs": [],
"source": [
"// Example 5.6\n",
"clc;\n",
"clear;\n",
"close;\n",
"// Given data\n",
"format('v',5);\n",
"Rs= 5*10^3;//series resistance in Ω\n",
"Ls= 0.8;// seried inductance in H\n",
"Cs= 0.08*10^-12;//series capacitance in F\n",
"Cp= 1.0*10^-12;// parallel capacitance in F\n",
"fs= 1/(2*%pi*sqrt(Ls*Cs));// series resonant frequency in Hz\n",
"fs= fs*10^-3;// in kHz\n",
"fp= 1/(2*%pi)*sqrt((1+Cs/Cp)/(Ls*Cs));// parallel resonant frequency in Hz\n",
"fp= fp*10^-3;// in kHz\n",
"disp(fs,'The series resonant frequency in kHz is : ')\n",
"disp(fp,'The parallel resonant frequency in kHz is : ')\n",
"\n",
""
   ]
   }
,
{
		   "cell_type": "markdown",
		   "metadata": {},
		   "source": [
			"## Example 5.7: Power_dissipated_in_the_crystal.sce"
		   ]
		  },
  {
"cell_type": "code",
	   "execution_count": null,
	   "metadata": {
	    "collapsed": true
	   },
	   "outputs": [],
"source": [
"// Example 5.7\n",
"clc;\n",
"clear;\n",
"close;\n",
"// Given data\n",
"format('v',6);\n",
"C1= 1000*10^-12;// in F\n",
"C2= 100*10^-12;// in F\n",
"f= 1*10^6;// in Hz\n",
"R1= 1*10^6;// in Ω (assume)\n",
"R2= 10*10^3;// in Ω (assume)\n",
"Rs= 800;// in Ω\n",
"VDD= 5;// in V\n",
"C_T= C1*C2/(C1+C2);//total capacitance in F\n",
"// At resonance, X_L= X_CT or 2*%pi*f*L= 1/(2*%pi*f*C_T), So\n",
"L= 1/((2*%pi*f)^2*C_T);// in H\n",
"L= L*10^3;// in mH\n",
"disp(L,'The value of inductance in mH is : ')\n",
"i_p= VDD/(R1+R2+Rs);//current through crystal in A\n",
"// Power dissipated in the crystal,\n",
"P_D= (0.707*i_p)^2*Rs;// in W\n",
"P_D= P_D*10^9;//in nW\n",
"disp(P_D,'The power dissipated in the crystal in nW is : ')\n",
"\n",
""
   ]
   }
,
{
		   "cell_type": "markdown",
		   "metadata": {},
		   "source": [
			"## Example 5.8: Signal_frequency_and_amplitude_of_triangular_and_square_wave.sce"
		   ]
		  },
  {
"cell_type": "code",
	   "execution_count": null,
	   "metadata": {
	    "collapsed": true
	   },
	   "outputs": [],
"source": [
"// Example 5.8\n",
"clc;\n",
"clear;\n",
"close;\n",
"// Given data\n",
"format('v',6);\n",
"R= 12*10^3;// in Ω\n",
"R1= 120*10^3;// in Ω\n",
"Rf= 1*10^6;// in Ω\n",
"C= 0.1*10^-6;// in F\n",
"Vsupply= 12;// in V\n",
"Vsat= 10;//in V\n",
"//Part (i) : Signal frequency,\n",
"f= Rf/(4*R1*R*C);// in Hz\n",
"f= f*10^-3;// in kHz\n",
"disp('Part (i) : The signal frequency : '+string(f)+' kHz')\n",
"// Part (ii) : Amplitude of triangular wave,\n",
"Vpp= 2*R1/Rf*Vsat;// Vp-p\n",
"disp('Part (ii) : Amplitude of the triangular wave is : '+string(Vpp)+' Vp-p')\n",
"// Amplitude of square wave,\n",
"Vpp= Vsat-(-Vsat);//Vp-p\n",
"disp('Amplitude of the square wave is : '+string(Vpp)+' Vp-p')"
   ]
   }
],
"metadata": {
		  "kernelspec": {
		   "display_name": "Scilab",
		   "language": "scilab",
		   "name": "scilab"
		  },
		  "language_info": {
		   "file_extension": ".sce",
		   "help_links": [
			{
			 "text": "MetaKernel Magics",
			 "url": "https://github.com/calysto/metakernel/blob/master/metakernel/magics/README.md"
			}
		   ],
		   "mimetype": "text/x-octave",
		   "name": "scilab",
		   "version": "0.7.1"
		  }
		 },
		 "nbformat": 4,
		 "nbformat_minor": 0
}
