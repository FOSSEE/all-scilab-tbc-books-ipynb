{
"cells": [
 {
		   "cell_type": "markdown",
	   "metadata": {},
	   "source": [
       "# Chapter 2: Operational Amplifiers and Their Parameters"
	   ]
	},
{
		   "cell_type": "markdown",
		   "metadata": {},
		   "source": [
			"## Example 2.10: Output_voltage.sce"
		   ]
		  },
  {
"cell_type": "code",
	   "execution_count": null,
	   "metadata": {
	    "collapsed": true
	   },
	   "outputs": [],
"source": [
"// Example 2.10\n",
"clc;\n",
"clear;\n",
"close;\n",
"// Given data\n",
"format('v',9);\n",
"Vd= 25;//differential input voltage in µV\n",
"Vd= Vd*10^-6;// in V\n",
"A= 200000;// open loop gain\n",
"// Output voltage,\n",
"Vout= A*Vd;// in V\n",
"disp('The output voltage is : ± '+string(Vout)+ 'V')\n",
"\n",
"\n",
""
   ]
   }
,
{
		   "cell_type": "markdown",
		   "metadata": {},
		   "source": [
			"## Example 2.11: Slew_rate.sce"
		   ]
		  },
  {
"cell_type": "code",
	   "execution_count": null,
	   "metadata": {
	    "collapsed": true
	   },
	   "outputs": [],
"source": [
"// Example 2.11\n",
"clc;\n",
"clear;\n",
"close;\n",
"// Given data\n",
"format('v',9);\n",
"dVout= 20;// change in output voltage in V\n",
"dt= 4;// change in time in µs\n",
"SR= dVout/dt;// slew rate in V/µs\n",
"disp(SR,'The slew rate in V/µs is : ')\n",
"\n",
"\n",
"\n",
""
   ]
   }
,
{
		   "cell_type": "markdown",
		   "metadata": {},
		   "source": [
			"## Example 2.12: Input_bias_current_and_input_offset_current.sce"
		   ]
		  },
  {
"cell_type": "code",
	   "execution_count": null,
	   "metadata": {
	    "collapsed": true
	   },
	   "outputs": [],
"source": [
"// Example 2.12\n",
"clc;\n",
"clear;\n",
"close;\n",
"// Given data\n",
"format('v',9);\n",
"IB1= 10;// in µA\n",
"IB2= 7.5;// in µA\n",
"// Input bias current,\n",
"I_in_bias= (IB1+IB2)/2;// in µA\n",
"// Input offset current,\n",
"I_in_offset= IB1-IB2;// in µA\n",
"disp(I_in_bias,'The input bias current in µA is : ')\n",
"disp(I_in_offset,'The input offset current in µA is : ')\n",
"\n",
"\n",
""
   ]
   }
,
{
		   "cell_type": "markdown",
		   "metadata": {},
		   "source": [
			"## Example 2.13: Limiting_frequency.sce"
		   ]
		  },
  {
"cell_type": "code",
	   "execution_count": null,
	   "metadata": {
	    "collapsed": true
	   },
	   "outputs": [],
"source": [
"// Example 2.13\n",
"clc;\n",
"clear;\n",
"close;\n",
"// Given data\n",
"format('v',6);\n",
"SR= 6;// slew rate in V/µs\n",
"SR= 6*10^6;// in V/s\n",
"\n",
"// Part (i) For Vmax= 1V\n",
"Vmax= 1;// in V\n",
"fmax= SR/(2*%pi*Vmax);// limiting frequency in Hz\n",
"fmax= fmax*10^-6;// in MHz\n",
"disp(fmax,'Part (i) : The limiting frequency for maximum voltage of 1V in MHz is : ');\n",
"\n",
"// Part (ii) For Vmax= 10V\n",
"Vmax= 10;// in V\n",
"fmax= SR/(2*%pi*Vmax);// limiting frequency in Hz\n",
"fmax= fmax*10^-3;// in kHz\n",
"disp(fmax,'Part (ii) : The limiting frequency for maximum voltage of 10V in kHz is : ');\n",
"\n",
"\n",
""
   ]
   }
,
{
		   "cell_type": "markdown",
		   "metadata": {},
		   "source": [
			"## Example 2.14: Required_slew_rate.sce"
		   ]
		  },
  {
"cell_type": "code",
	   "execution_count": null,
	   "metadata": {
	    "collapsed": true
	   },
	   "outputs": [],
"source": [
"// Example 2.14\n",
"clc;\n",
"clear;\n",
"close;\n",
"// Given data\n",
"format('v',6);\n",
"Vpp= 3;// output voltage in V\n",
"del_t= 4;// in µs\n",
"del_V= 90*Vpp/100-10*Vpp/100;// in V\n",
"// Required slew rate,\n",
"SR= del_V/del_t;// in V/µs\n",
"disp(SR,'The required slew rate in V/µs is : ');\n",
"\n",
"\n",
"\n",
"\n",
""
   ]
   }
,
{
		   "cell_type": "markdown",
		   "metadata": {},
		   "source": [
			"## Example 2.2: Output_voltage.sce"
		   ]
		  },
  {
"cell_type": "code",
	   "execution_count": null,
	   "metadata": {
	    "collapsed": true
	   },
	   "outputs": [],
"source": [
"// Example 2.2\n",
"clc;\n",
"clear;\n",
"close;\n",
"// Given data\n",
"format('v',6);\n",
"// Part (i)\n",
"Vin1= 5;// in µV\n",
"Vin1= Vin1*10^-6;// in V\n",
"Vin2= -7;//in µV\n",
"Vin2= Vin2*10^-6;// in V\n",
"Av= 2*10^5;// unit less\n",
"Rin= 2;// in MΩ\n",
"Vout= (Vin1-Vin2)*Av;// in V\n",
"disp(Vout,'The output voltage in volts is : ')\n",
"\n",
""
   ]
   }
,
{
		   "cell_type": "markdown",
		   "metadata": {},
		   "source": [
			"## Example 2.4: Input_resistance.sce"
		   ]
		  },
  {
"cell_type": "code",
	   "execution_count": null,
	   "metadata": {
	    "collapsed": true
	   },
	   "outputs": [],
"source": [
"// Example 2.4\n",
"clc;\n",
"clear;\n",
"close;\n",
"// Given data\n",
"format('v',5);\n",
"Rs= 2;// in kΩ\n",
"RL= 5;// in kΩ\n",
"A= 10^5;// unit less\n",
"Rin= 100;//in kΩ\n",
"Rout= 50;// in Ω\n",
"Vout= 10;// in V\n",
"// For Vout = 10 V, V1= V2 = Vout\n",
"V1= Vout;// in V\n",
"V2= V1;// in V\n",
"// From equation V1= Vs*Rin/(Rin+Rs)\n",
"Vs= V1*(Rin+Rs)/Rin;// in V\n",
"Vout_by_Vs= Vout/Vs;// value of Vout/Vs\n",
"disp(Vs,'The value of Vs in volts is : ');\n",
"disp(Vout_by_Vs,'The value of Vout/Vs is : ');\n",
"disp(Rin,'The input resistance of the circuit in kΩ is : ');\n",
"\n",
"\n",
""
   ]
   }
,
{
		   "cell_type": "markdown",
		   "metadata": {},
		   "source": [
			"## Example 2.6: CMRR_in_dB.sce"
		   ]
		  },
  {
"cell_type": "code",
	   "execution_count": null,
	   "metadata": {
	    "collapsed": true
	   },
	   "outputs": [],
"source": [
"// Example 2.6\n",
"clc;\n",
"clear;\n",
"close;\n",
"// Given data\n",
"format('v',5);\n",
"Ad= 100;// differential mode gain\n",
"Acm= 0.01;// common mode gain\n",
"CMRR= Ad/Acm;\n",
"CMRR_desh= 20*log10(CMRR);// CMRR in dB\n",
"disp(CMRR_desh,'CMRR in dB is : ');\n",
"\n",
"\n",
""
   ]
   }
,
{
		   "cell_type": "markdown",
		   "metadata": {},
		   "source": [
			"## Example 2.7: Common_mode_gain.sce"
		   ]
		  },
  {
"cell_type": "code",
	   "execution_count": null,
	   "metadata": {
	    "collapsed": true
	   },
	   "outputs": [],
"source": [
"// Example 2.7\n",
"clc;\n",
"clear;\n",
"close;\n",
"// Given data\n",
"format('v',5);\n",
"Ad= 10^5;// differential mode gain\n",
"CMRR= 10^5;\n",
"// Common-mode gain,\n",
"Acm= Ad/CMRR;\n",
"disp(Acm,'The common-mode gain is : ');\n",
"\n",
"\n",
""
   ]
   }
,
{
		   "cell_type": "markdown",
		   "metadata": {},
		   "source": [
			"## Example 2.8: Percentage_error_in_the_output_voltage.sce"
		   ]
		  },
  {
"cell_type": "code",
	   "execution_count": null,
	   "metadata": {
	    "collapsed": true
	   },
	   "outputs": [],
"source": [
"// Example 2.8\n",
"clc;\n",
"clear;\n",
"close;\n",
"// Given data\n",
"format('v',6);\n",
"V1= 10;// in mV\n",
"V2= 9;// in mV\n",
"Ad= 60;// differential voltage gain in dB\n",
"Ad= 10^(Ad/20);\n",
"CMRR= 80;// in dB\n",
"CMRR= 10^(CMRR/20);\n",
"Vd= V1-V2;// difference signal in mV\n",
"Vcm= (V1+V2)/2;// common-mode signal in mV\n",
"// Output voltage,\n",
"Vout= Ad*Vd*(1+1/CMRR*Vcm/Vd);// in mV\n",
"AdVd= Ad*Vd;// in mV\n",
"// Error voltage\n",
"Verror= Vout-AdVd;// in mV\n",
"Per_error= Verror/Vout*100;// percentage error\n",
"disp(Verror,'The error voltage in mV is : ')\n",
"disp(Per_error,'The percentage error in the output voltage is : ')\n",
"\n",
""
   ]
   }
,
{
		   "cell_type": "markdown",
		   "metadata": {},
		   "source": [
			"## Example 2.9: Output_voltage_and_percentage_error.sce"
		   ]
		  },
  {
"cell_type": "code",
	   "execution_count": null,
	   "metadata": {
	    "collapsed": true
	   },
	   "outputs": [],
"source": [
"// Example 2.9\n",
"clc;\n",
"clear;\n",
"close;\n",
"// Given data\n",
"format('v',9);\n",
"V1= 745;// in µV\n",
"V2= 740;// in µV\n",
"Ad= 5*10^5;// differential voltage gain\n",
"CMRR= 80;// in dB\n",
"CMRR= 10^(CMRR/20);\n",
"Vd= V1-V2;// difference signal in µV\n",
"Vcm= (V1+V2)/2;// common-mode signal in µV\n",
"// Output voltage,\n",
"Vout= Ad*Vd*(1+1/CMRR*Vcm/Vd);// in µV\n",
"AdVd= Ad*Vd;// in µV\n",
"// Error voltage\n",
"Verror= Vout-AdVd;// in µV\n",
"Vout= Vout*10^-6;// in V\n",
"Verror= Verror*10^-6;// in V\n",
"Per_error= Verror/Vout*100;// percentage error\n",
"disp(Vout,'The output voltage in volts is : ')\n",
"disp(Per_error,'The percentage error in the output voltage is : ')\n",
"\n",
""
   ]
   }
],
"metadata": {
		  "kernelspec": {
		   "display_name": "Scilab",
		   "language": "scilab",
		   "name": "scilab"
		  },
		  "language_info": {
		   "file_extension": ".sce",
		   "help_links": [
			{
			 "text": "MetaKernel Magics",
			 "url": "https://github.com/calysto/metakernel/blob/master/metakernel/magics/README.md"
			}
		   ],
		   "mimetype": "text/x-octave",
		   "name": "scilab",
		   "version": "0.7.1"
		  }
		 },
		 "nbformat": 4,
		 "nbformat_minor": 0
}
