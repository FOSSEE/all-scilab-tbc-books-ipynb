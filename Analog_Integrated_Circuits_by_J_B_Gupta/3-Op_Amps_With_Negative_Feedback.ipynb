{
"cells": [
 {
		   "cell_type": "markdown",
	   "metadata": {},
	   "source": [
       "# Chapter 3: Op Amps With Negative Feedback"
	   ]
	},
{
		   "cell_type": "markdown",
		   "metadata": {},
		   "source": [
			"## Example 3.10: Designing_of_an_Inverting_op_amp_circuit.sce"
		   ]
		  },
  {
"cell_type": "code",
	   "execution_count": null,
	   "metadata": {
	    "collapsed": true
	   },
	   "outputs": [],
"source": [
"// Example 3.10\n",
"clc;\n",
"clear;\n",
"close;\n",
"// Given data\n",
"format('v',4);\n",
"Av= -30;// voltage gain\n",
"Rf= 1*10^6;// in Ω\n",
"//Since, Av= Vo/Vi=-Rf/R1, so\n",
"R1= -Rf/Av;// in Ω\n",
"R1= R1*10^-3;// in kΩ\n",
"Rf= Rf*10^-6;// in MΩ\n",
"disp(Rf,'The value of Rf in MΩ is : ')\n",
"disp(R1,'The value of R1 in kΩ is : ');\n",
""
   ]
   }
,
{
		   "cell_type": "markdown",
		   "metadata": {},
		   "source": [
			"## Example 3.11: Designing_of_an_Inverting_op_amp_circuit.sce"
		   ]
		  },
  {
"cell_type": "code",
	   "execution_count": null,
	   "metadata": {
	    "collapsed": true
	   },
	   "outputs": [],
"source": [
"// Example 3.11\n",
"clc;\n",
"clear;\n",
"close;\n",
"// Given data\n",
"format('v',6);\n",
"Av= -8;// voltage gain\n",
"Vi= 1;// input voltage in V\n",
"I1= 15;//maximum current in µA\n",
"I1= I1*10^-6;// in A\n",
"R1= Vi/I1;// in Ω\n",
"R1= R1*10^-3;// in kΩ\n",
"disp(R1,'The value of R1 in kΩ is : ');\n",
"disp('The standard value of R1 is 68 kΩ');\n",
"R1= 68;// in kΩ\n",
"Rf= -Av*R1;// in kΩ\n",
"disp(Rf,'The value of Rf in kΩ is : ');\n",
"\n",
"// Note : The calculated value of Rf in the book is wrong [-(-8)*68 is not equal to 384], it will be 544 kΩ"
   ]
   }
,
{
		   "cell_type": "markdown",
		   "metadata": {},
		   "source": [
			"## Example 3.14: Gain_of_the_amplifier_circuit.sce"
		   ]
		  },
  {
"cell_type": "code",
	   "execution_count": null,
	   "metadata": {
	    "collapsed": true
	   },
	   "outputs": [],
"source": [
"// Example 3.14\n",
"clc;\n",
"clear;\n",
"close;\n",
"// Given data\n",
"format('v',6);\n",
"Rf= 20*10^3;// in Ω\n",
"R1= 10*10^3;// in Ω\n",
"\n",
"//Part (i) When switch S is off,\n",
"Aoff_non_inv= 1+Rf/R1;// non-inverting amplifier circuit gain\n",
" Aoff_inv= -Rf/R1;// inverting amplifier gain\n",
" Aoff= Aoff_non_inv+Aoff_inv;// amplifier circuit gain\n",
" disp(Aoff,'Part (i) : When switch S is off, the gain of the amplifier circuit is : ');\n",
"\n",
"// Part (ii) When switch S is on,\n",
"Aon= -Rf/R1;// amplifier circuit gain\n",
"disp(Aon,'Part (ii) : When switch S is on, the gain of the amplifer circuit is : ');\n",
""
   ]
   }
,
{
		   "cell_type": "markdown",
		   "metadata": {},
		   "source": [
			"## Example 3.17: Output_voltage.sce"
		   ]
		  },
  {
"cell_type": "code",
	   "execution_count": null,
	   "metadata": {
	    "collapsed": true
	   },
	   "outputs": [],
"source": [
"// Example 3.17\n",
"clc;\n",
"clear;\n",
"close;\n",
"// Given data\n",
"format('v',6);\n",
"R1= 1*10^3;// in Ω\n",
"R2= 1*10^3;// in Ω\n",
"Rf= 10*10^3;// in Ω\n",
"R3= 10*10^3;// in Ω\n",
"Vd= 5;// in mV\n",
"Vcm= 2;// in mV\n",
"CMRR_dB= 90;// in dB\n",
"CMRR= 10^(CMRR_dB/20);\n",
"Ad= Rf/R1;// differential voltage gain\n",
"// Part (i)\n",
"Vout= Ad*Vd;// output voltage in mV\n",
"disp(Vout,'Part (i) : The output voltage in mV is : ');\n",
"// Part (ii)\n",
"Acm= Ad/CMRR;// common mode gain\n",
"AcmVcm= Acm*Vcm;// magnitude of the induced 60Hz noise at the output in mV\n",
"AcmVcm= AcmVcm*10^3;// in µV\n",
"disp(AcmVcm,'The magnitude of the induced 60Hz noise at the output in µV is : ')\n",
"\n",
""
   ]
   }
,
{
		   "cell_type": "markdown",
		   "metadata": {},
		   "source": [
			"## Example 3.18: Voltage_gain_output_voltage_and_internal_resistance.sce"
		   ]
		  },
  {
"cell_type": "code",
	   "execution_count": null,
	   "metadata": {
	    "collapsed": true
	   },
	   "outputs": [],
"source": [
"// Example 3.18\n",
"clc;\n",
"clear;\n",
"close;\n",
"// Given data\n",
"format('v',6);\n",
"R1= 540;// in Ω\n",
"R3= 540;// in Ω\n",
"R2= 5.4*10^3;// in Ω\n",
"Rf= 5.4*10^3;// in Ω\n",
"Vin1= -2.5;// in V\n",
"Vin2= -3.5;//in V\n",
"Rin= 2*10^6;//input impedance in Ω\n",
"A= 2*10^5;// open loop voltage gain\n",
"Ad= (1+Rf/R1);// voltage gain\n",
"disp(Ad,'The voltage gain is : ');\n",
"Vout=Ad*(Vin1-Vin2);// output voltage in V\n",
"disp(Vout,'The output voltage in volts is : ');\n",
"Rin_f1= Rin*(1+A*R1/(R1+Rf));// in Ω\n",
"Rin_f2= Rin*(1+A*R2/(R1+Rf));// in Ω\n",
"format('e',10);\n",
"disp(Rin_f1,'The value of Rin_f1 in Ω is : ')\n",
"disp(Rin_f2,'The value of Rin_f2 in Ω is : ')\n",
"\n",
"\n",
""
   ]
   }
,
{
		   "cell_type": "markdown",
		   "metadata": {},
		   "source": [
			"## Example 3.19: Gain_of_the_circuit.sce"
		   ]
		  },
  {
"cell_type": "code",
	   "execution_count": null,
	   "metadata": {
	    "collapsed": true
	   },
	   "outputs": [],
"source": [
"// Example 3.19\n",
"clc;\n",
"clear;\n",
"close;\n",
"// Given data\n",
"format('v',4);\n",
"Vin= 100*10^-3;// in V\n",
"Vout= 4.25;// in V\n",
"R1= 100;// in Ω\n",
"// Formula Used : Vout= (1+2*Rf/Rf)*Vin\n",
"Rf= (Vout/Vin-1)*R1/2;// in Ω\n",
"Rf= Rf*10^-3;// in kΩ\n",
"disp(R1,'The value of R1 in Ω is : ')\n",
"disp(Rf,'The value of Rf in kΩ is : ')\n",
"disp('(Standard value of Rf is 2.2 kΩ)')\n",
"\n",
""
   ]
   }
,
{
		   "cell_type": "markdown",
		   "metadata": {},
		   "source": [
			"## Example 3.1: Non_inverting_amplifier.sce"
		   ]
		  },
  {
"cell_type": "code",
	   "execution_count": null,
	   "metadata": {
	    "collapsed": true
	   },
	   "outputs": [],
"source": [
"// Example 3.1\n",
"clc;\n",
"clear;\n",
"close;\n",
"// Given data\n",
"format('v',6);\n",
"Af= 10;// voltage gain\n",
"R1= 3;// in Ω\n",
"Rf= (Af-1)*R1;// From Af= 1+Rf/R1\n",
"disp(R1,'The value of R1 in Ω is : ');\n",
"disp(Rf,'The value of Rf in Ω is : ');\n",
"\n",
""
   ]
   }
,
{
		   "cell_type": "markdown",
		   "metadata": {},
		   "source": [
			"## Example 3.20: Voltage_gain_input_resistance_output_resistance_and_bandwidth.sce"
		   ]
		  },
  {
"cell_type": "code",
	   "execution_count": null,
	   "metadata": {
	    "collapsed": true
	   },
	   "outputs": [],
"source": [
"// Example 3.20\n",
"clc;\n",
"clear;\n",
"close;\n",
"// Given data\n",
"format('v',9);\n",
"R1= 3.3;// in kΩ\n",
"R2= 3.3;// in kΩ\n",
"R3= 1.2;// in kΩ\n",
"R4= 1.2;// in kΩ\n",
"Rf= 3.9;// in kΩ\n",
"R5= 3.9;// in kΩ\n",
"Rp= 2.5;// in kΩ\n",
"A= 2*10^5;// unit less\n",
"f0= 5;// in Hz\n",
"Rin= 2*10^6;// in Ω\n",
"Rout= 75;// in Ω\n",
"Ad= -(1+2*R1/Rp)*Rf/R3;// voltage gain\n",
"disp(Ad,'The voltage gain is : ');\n",
"Rinf= Rin*(1+A*(R1+Rp)/(2*R1+Rp));//input resistance in Ω\n",
"Rinf= Rinf*10^-9;// in GΩ\n",
"disp(Rinf,'The input resistance in GΩ is : ');\n",
"Routf= Rout/(1+A/Ad);// output resistance in Ω\n",
"disp(Routf,'The output resistance in Ω is : ');\n",
"f_f= A*f0/abs(Ad);// bandwidth in Hz\n",
"f_f= f_f*10^-3;// in kHz\n",
"disp(f_f,'The bandwidth in kHz is : ');\n",
"\n",
"\n",
""
   ]
   }
,
{
		   "cell_type": "markdown",
		   "metadata": {},
		   "source": [
			"## Example 3.2: Minimum_and_maximum_closed_loop_voltage_gains.sce"
		   ]
		  },
  {
"cell_type": "code",
	   "execution_count": null,
	   "metadata": {
	    "collapsed": true
	   },
	   "outputs": [],
"source": [
"// Example 3.2\n",
"clc;\n",
"clear;\n",
"close;\n",
"// Given data\n",
"format('v',6);\n",
"R1= 2;// in kΩ\n",
"Rf_min= 0;\n",
"Rf_max= 100;// in kΩ\n",
"// Formula Used : Af= 1+Rf/R1\n",
"Af_max= 1+Rf_max/R1;// maximum closed loop voltage gain\n",
"Af_min= 1+Rf_min/R1;// minimum closed loop voltage gain\n",
"disp(Af_max,'The maximum closed loop voltage gain is : ');\n",
"disp(Af_min,'The minimum closed loop voltage gain is : ');\n",
"\n",
""
   ]
   }
,
{
		   "cell_type": "markdown",
		   "metadata": {},
		   "source": [
			"## Example 3.3: Voltage_gain_input_resistance_output_resistance_and_bandwidth.sce"
		   ]
		  },
  {
"cell_type": "code",
	   "execution_count": null,
	   "metadata": {
	    "collapsed": true
	   },
	   "outputs": [],
"source": [
"// Example 3.3\n",
"clc;\n",
"clear;\n",
"close;\n",
"// Given data\n",
"format('v',6);\n",
"R1= 100;// in Ω\n",
"Rf= 100*10^3;// in Ω\n",
"A= 2*10^5;//unit less\n",
"Rin= 2*10^6;// in Ω\n",
"Rout= 75;// in Ω\n",
"f0= 5;// in Hz\n",
"B= R1/(R1+Rf);// feedback fraction\n",
"AB= A*B;// feedback factor\n",
"Af= 1+Rf/R1;// voltage gain\n",
"Rin_f= Rin*(1+AB);// input resistance in Ω\n",
"Rout_f= Rout/(1+AB);// output resistance in Ω\n",
"f_f= f0*(1+AB);// bandwidth in Hz\n",
"Rin_f= Rin_f*10^-6;// in MΩ\n",
"disp(Af,'The voltage gain is : ');\n",
"disp(Rin_f,'The input resistance in MΩ is : ');\n",
"disp(Rout_f,'The output resistance in Ω is : ')\n",
"disp(f_f,'The bandwidth in Hz is : ');\n",
"\n",
""
   ]
   }
,
{
		   "cell_type": "markdown",
		   "metadata": {},
		   "source": [
			"## Example 3.4: Voltage_gain_input_resistance_output_resistance_and_bandwidth.sce"
		   ]
		  },
  {
"cell_type": "code",
	   "execution_count": null,
	   "metadata": {
	    "collapsed": true
	   },
	   "outputs": [],
"source": [
"// Example 3.4\n",
"clc;\n",
"clear;\n",
"close;\n",
"// Given data\n",
"format('v',9);\n",
"Rin= 2*10^6;// in Ω\n",
"Rout= 75;// in Ω\n",
"f0= 5;// in Hz\n",
"A= 2*10^5;//unit less\n",
"B=1;// for voltage follower\n",
"Rf= 0;\n",
"Af= 1;// voltage gain (since Rf=0)\n",
"Rin_f= A*Rin;// input resistance in Ω\n",
"Rin_f= Rin_f*10^-9;// in GΩ\n",
"Rout_f= Rout/A;//output resistance in Ω\n",
"f_f= f0*A;// bandwidth in Hz\n",
"f_f= f_f*10^-6;// in MHz\n",
"disp(Af,'The voltage gain is : ');\n",
"disp(Rin_f,'The input resistance in GΩ is : ');\n",
"disp(Rout_f,'The output resistance in Ω is : ')\n",
"disp(f_f,'The bandwidth in MHz is : ');\n",
"\n",
""
   ]
   }
,
{
		   "cell_type": "markdown",
		   "metadata": {},
		   "source": [
			"## Example 3.5: Voltage_gain_input_resistance_output_resistance_and_bandwidth.sce"
		   ]
		  },
  {
"cell_type": "code",
	   "execution_count": null,
	   "metadata": {
	    "collapsed": true
	   },
	   "outputs": [],
"source": [
"// Example 3.5\n",
"clc;\n",
"clear;\n",
"close;\n",
"// Given data\n",
"format('v',8);\n",
"Rin= 2*10^6;// in Ω\n",
"Rout= 75;// in Ω\n",
"f0= 5;// in Hz\n",
"R1= 330;//in Ω\n",
"Rf= 3.3*10^3;// in Ω\n",
"A= 2*10^5;//unit less\n",
"B= R1/(R1+Rf);// feedback fraction\n",
"AB= A*B;// feedback factor\n",
"Af= -Rf/R1;// colsed-loop voltage gain\n",
"Rin_f= R1;// input resistance with feedback in Ω\n",
"Rout_f=Rout/(1+AB);// output resistance with feedback in Ω\n",
"f_f= f0*(1+AB);// closed-loop bandwidth in Hz\n",
"f_f= f_f*10^-3;// in kHz\n",
"disp(Af,'The closed-loop voltage gain is : '); \n",
"disp(Rin_f,'The input resistance in Ω is : ');\n",
"disp(Rout_f,'The output resistance in Ω is : ');\n",
"disp(f_f,'The bandwidth in kHz is : ');\n",
"\n",
"\n",
""
   ]
   }
,
{
		   "cell_type": "markdown",
		   "metadata": {},
		   "source": [
			"## Example 3.6: Voltage_gain_input_resistance_output_resistance_and_bandwidth.sce"
		   ]
		  },
  {
"cell_type": "code",
	   "execution_count": null,
	   "metadata": {
	    "collapsed": true
	   },
	   "outputs": [],
"source": [
"// Example 3.6\n",
"clc;\n",
"clear;\n",
"close;\n",
"// Given data\n",
"format('v',8);\n",
"Rin= 2*10^6;// in Ω\n",
"Rout= 75;// in Ω\n",
"f0= 5;// in Hz\n",
"A= 2*10^5;//unit less\n",
"B= 1/2;// feedback fraction (since R1=Rf)\n",
"Af= -1;// voltage gain\n",
"R1= 330;//in Ω (assume)\n",
"Rin_f= R1;// input resistance with feedback in Ω\n",
"Rout_f= Rout/(A/2);// output resistance in Ω\n",
"f_f= A/2*f0;// in Hz\n",
"f_f= f_f*10^-6;// in MHz\n",
"disp(Af,'The closed-loop voltage gain is : '); \n",
"disp(Rin_f,'The input resistance in Ω is : ');\n",
"disp(Rout_f,'The output resistance in Ω is : ');\n",
"disp(f_f,'The bandwidth in kHz is : ');\n",
""
   ]
   }
,
{
		   "cell_type": "markdown",
		   "metadata": {},
		   "source": [
			"## Example 3.7: Value_of_Af_RIF_Rof_ff_and_VooT.sce"
		   ]
		  },
  {
"cell_type": "code",
	   "execution_count": null,
	   "metadata": {
	    "collapsed": true
	   },
	   "outputs": [],
"source": [
"// Example 3.7\n",
"clc;\n",
"clear;\n",
"close;\n",
"// Given data\n",
"format('v',8);\n",
"Rin= 2*10^6;// in Ω\n",
"Rout= 75;// in Ω\n",
"f0= 5;// in Hz\n",
"A= 200000;//unit less\n",
"VCC= 15;// in V\n",
"VEE= -15;// in V\n",
"Vout_swing= 13;// in V\n",
"// Part (i) : Non-inverting Amplifier\n",
"R1= 1*10^3;// in Ω\n",
"Rf= 10*10^3;//in Ω\n",
"B= R1/(R1+Rf);// feedback fraction\n",
"AB= A*B;// feedback factor\n",
"Af= 1+Rf/R1;// voltage gain\n",
"Rin_f= Rin*(1+AB);// input resistance in Ω\n",
"Rin_f=Rin_f*10^-9;// in GΩ\n",
"Rout_f= Rout/(1+AB);// output resistance in Ω\n",
"f_f= f0*(1+AB);// bandwidth in Hz\n",
"f_f=f_f*10^-3;// in kHz\n",
"VooT= Vout_swing/(1+AB);//in V\n",
"VooT= VooT*10^3;// in mV\n",
"disp('Part (i) : Non-inverting Amplifier :- ');\n",
"disp(Af,'The closed-loop voltage gain is : '); \n",
"disp(Rin_f,'The input resistance in GΩ is : ');\n",
"disp(Rout_f,'The output resistance in Ω is : ');\n",
"disp(f_f,'The bandwidth in kHz is : ');\n",
"disp('The output offset voltage with feedback is : ± '+string(VooT)+' mV')\n",
"\n",
"// Part (ii) : Inverting Amplifier\n",
"R1= 470;// in Ω\n",
"Rf= 4.7*10^3;//in Ω\n",
"B= R1/(R1+Rf);// feedback fraction\n",
"AB= A*B;// feedback factor\n",
"Af= -Rf/R1;// voltage gain\n",
"Rin_f= R1;// input resistance in Ω\n",
"Rout_f= Rout/(1+AB);// output resistance in Ω\n",
"f_f= f0*(1+AB);// bandwidth in Hz\n",
"f_f=f_f*10^-3;// in kHz\n",
"VooT= Vout_swing/(1+AB);//in V\n",
"VooT= VooT*10^3;// in mV\n",
"disp('Part (ii) : Inverting Amplifier :- ');\n",
"disp(Af,'The closed-loop voltage gain is : '); \n",
"disp(Rin_f,'The input resistance in GΩ is : ');\n",
"disp(Rout_f,'The output resistance in Ω is : ');\n",
"disp(f_f,'The bandwidth in kHz is : ');\n",
"disp('The output offset voltage with feedback is : ± '+string(VooT)+' mV')"
   ]
   }
,
{
		   "cell_type": "markdown",
		   "metadata": {},
		   "source": [
			"## Example 3.8: Voltage_gain_input_resistance_and_output_resistance.sce"
		   ]
		  },
  {
"cell_type": "code",
	   "execution_count": null,
	   "metadata": {
	    "collapsed": true
	   },
	   "outputs": [],
"source": [
"// Example 3.8\n",
"clc;\n",
"clear;\n",
"close;\n",
"// Given data\n",
"format('v',8);\n",
"Rf= 500*10^3;// in Ω\n",
"R1= 5*10^3;//in Ω\n",
"Vin= 0.1;// input voltage in V\n",
"Af= -Rf/R1;// voltage gain\n",
"Rin= R1;// input resistance in Ω\n",
"Rin= Rin*10^-3;// in kΩ\n",
"Rout= 0;// in Ω\n",
"Vout= Af*Vin;// output voltage in V\n",
"I_in= Vin/R1;// input current in A\n",
"I_in= I_in*10^3;// in mA\n",
"disp(Af,'The amplifier circuit voltage gain is : ');\n",
"disp(Rin,'The amplifier circuit input resistance in kΩ is : ');\n",
"disp(Rout,'The amplifier circuit output resistance in Ω is : ');\n",
"disp(Vout,'The output voltage in volts is : ');\n",
"disp(I_in,'The input current in mA is : ');\n",
""
   ]
   }
,
{
		   "cell_type": "markdown",
		   "metadata": {},
		   "source": [
			"## Example 3.9: Input_impedance_voltage_gain_and_power_gain.sce"
		   ]
		  },
  {
"cell_type": "code",
	   "execution_count": null,
	   "metadata": {
	    "collapsed": true
	   },
	   "outputs": [],
"source": [
"// Example 3.9\n",
"clc;\n",
"clear;\n",
"close;\n",
"// Given data\n",
"format('v',8);\n",
"Rf= 1*10^6;// in Ω\n",
"Rin= 1*10^6;// in Ω\n",
"Vout_by_Vin= -Rf/Rin;// (since Vout= -Rf/Rin*Vin)\n",
"Av= Vout_by_Vin;// voltage gain\n",
"disp(Av,'The voltage gain is : ');\n",
"// I_in= Iout (As it is a unity gain inverter)\n",
"Ain= 1;//input impedance (since I_in= Iout)\n",
"disp(Ain,'The input impedance is : ');\n",
"Ap= abs(Av*Ain);// power gain\n",
"disp(Ap,'The power gain is : ');\n",
"\n",
""
   ]
   }
],
"metadata": {
		  "kernelspec": {
		   "display_name": "Scilab",
		   "language": "scilab",
		   "name": "scilab"
		  },
		  "language_info": {
		   "file_extension": ".sce",
		   "help_links": [
			{
			 "text": "MetaKernel Magics",
			 "url": "https://github.com/calysto/metakernel/blob/master/metakernel/magics/README.md"
			}
		   ],
		   "mimetype": "text/x-octave",
		   "name": "scilab",
		   "version": "0.7.1"
		  }
		 },
		 "nbformat": 4,
		 "nbformat_minor": 0
}
