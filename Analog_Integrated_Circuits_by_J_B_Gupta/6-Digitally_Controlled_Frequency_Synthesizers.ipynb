{
"cells": [
 {
		   "cell_type": "markdown",
	   "metadata": {},
	   "source": [
       "# Chapter 6: Digitally Controlled Frequency Synthesizers"
	   ]
	},
{
		   "cell_type": "markdown",
		   "metadata": {},
		   "source": [
			"## Example 6.1: Free_runnting_frequency.sce"
		   ]
		  },
  {
"cell_type": "code",
	   "execution_count": null,
	   "metadata": {
	    "collapsed": true
	   },
	   "outputs": [],
"source": [
"// Example 6.1\n",
"clc;\n",
"clear;\n",
"close;\n",
"// Given data\n",
"format('v',6);\n",
"R1= 15*10^3;// in Ω\n",
"C1= 0.01*10^-6;// in F\n",
"C2= 10*10^-6;// in F\n",
"R2= 3.6*10^3;// in Ω\n",
"Vpos= 12;// in V\n",
"Vneg= -12;// in V\n",
"f_out= 1.2/(4*R1*C1);// free running frequency in Hz\n",
"f_out= f_out*10^-3;// in kHz\n",
"disp('The free running frequency is : '+string(f_out)+' kHz');\n",
"f_L= 8*f_out/(Vpos-(Vneg));//Lock-range in kHz\n",
"disp('Lock-range of the circuit is : ± '+string(f_L)+' kHz');\n",
"f_L= f_L*10^3;// in Hz\n",
"f_C= sqrt(f_L/(2*%pi*R2*C2));// Hz\n",
"disp('Capture-range of the circuit is : ± '+string(f_C)+' Hz');"
   ]
   }
,
{
		   "cell_type": "markdown",
		   "metadata": {},
		   "source": [
			"## Example 6.2: Frequency_of_reference_oscillator.sce"
		   ]
		  },
  {
"cell_type": "code",
	   "execution_count": null,
	   "metadata": {
	    "collapsed": true
	   },
	   "outputs": [],
"source": [
"// Example 6.2\n",
"clc;\n",
"clear;\n",
"close;\n",
"// Given data\n",
"format('v',12);\n",
"f_out_max= 200;// in kHz\n",
"f_lowest= 1;// in Hz\n",
"// Frequency of reference oscillator,\n",
"f_ref_os= 2.2*f_out_max;// in kHz\n",
"disp('The frequency of reference oscillator is : '+string(f_ref_os)+' kHz')\n",
"// Formula used : f_lowest= f_ref_os/2^n\n",
"n= round(log(f_ref_os*10^3/f_lowest)/log(2));// number of bits required\n",
"disp('The number of bits required is : '+string(n))\n",
""
   ]
   }
],
"metadata": {
		  "kernelspec": {
		   "display_name": "Scilab",
		   "language": "scilab",
		   "name": "scilab"
		  },
		  "language_info": {
		   "file_extension": ".sce",
		   "help_links": [
			{
			 "text": "MetaKernel Magics",
			 "url": "https://github.com/calysto/metakernel/blob/master/metakernel/magics/README.md"
			}
		   ],
		   "mimetype": "text/x-octave",
		   "name": "scilab",
		   "version": "0.7.1"
		  }
		 },
		 "nbformat": 4,
		 "nbformat_minor": 0
}
