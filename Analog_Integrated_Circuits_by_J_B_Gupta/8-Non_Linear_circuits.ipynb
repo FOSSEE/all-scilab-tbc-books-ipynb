{
"cells": [
 {
		   "cell_type": "markdown",
	   "metadata": {},
	   "source": [
       "# Chapter 8: Non Linear circuits"
	   ]
	},
{
		   "cell_type": "markdown",
		   "metadata": {},
		   "source": [
			"## Example 8.10: Schmitt_trigger.sce"
		   ]
		  },
  {
"cell_type": "code",
	   "execution_count": null,
	   "metadata": {
	    "collapsed": true
	   },
	   "outputs": [],
"source": [
"// Example 8.10\n",
"clc;\n",
"clear;\n",
"close;\n",
"// Given data\n",
"format('v',9);\n",
"V_UT= 5;// in V\n",
"V_LT= -5;// in V\n",
"// Hysteresis voltage,\n",
"Vhy= V_UT-V_LT;// in V\n",
"disp(Vhy,'The hysteresis voltage in volts is : ')\n",
"\n",
"\n",
"\n",
""
   ]
   }
,
{
		   "cell_type": "markdown",
		   "metadata": {},
		   "source": [
			"## Example 8.2: Peak_value_and_average_value_of_voltage.sce"
		   ]
		  },
  {
"cell_type": "code",
	   "execution_count": null,
	   "metadata": {
	    "collapsed": true
	   },
	   "outputs": [],
"source": [
"// Example 8.2\n",
"clc;\n",
"clear;\n",
"close;\n",
"// Given data\n",
"format('v',5);\n",
"R1= 5;// in kΩ\n",
"R2= 10;// in kΩ\n",
"V_peak= R1*R2/(R1+R2);// in V\n",
"Vav= V_peak/%pi;// in V\n",
"disp('Peak value of V1 is : '+string(V_peak)+' V')\n",
"disp('Average value of Vo is : '+string(Vav)+' V')\n",
""
   ]
   }
,
{
		   "cell_type": "markdown",
		   "metadata": {},
		   "source": [
			"## Example 8.7: DC_voltage_with_proper_sig.sce"
		   ]
		  },
  {
"cell_type": "code",
	   "execution_count": null,
	   "metadata": {
	    "collapsed": true
	   },
	   "outputs": [],
"source": [
"// Example 8.7\n",
"clc;\n",
"clear;\n",
"close;\n",
"// Given data\n",
"format('v',6);\n",
"t= 0;\n",
"Vc= 0;// in volts\n",
"Vo= 5;// in volts\n",
"R= 10;// in 2 Ω (assume)\n",
"RC= 1;// (assume)\n",
"R3= 2*R;// in Ω\n",
"R2= 3*R;// in Ω\n",
"// From equation : T= 2*Rf*C*log[1+2*R3/R2]\n",
"T= 2*RC*log(1+2*R3/R2);\n",
"Vc_t= 2;// in volts\n",
"t= T/2;\n",
"//Voltage across capacitor,\n",
"// Vc_t= Vco*[1-%e^(-t/ReqC)]= 1/5*(VR+4*Vo)*[1-%e^(-t/4*RC/5)]\n",
"VR= Vc_t*5/[1-%e^(-t/(4*RC/5))]-4*Vo;\n",
"disp('The value of VR is : '+string(VR)+' volts')\n",
""
   ]
   }
,
{
		   "cell_type": "markdown",
		   "metadata": {},
		   "source": [
			"## Example 8.9: Output_voltage.sce"
		   ]
		  },
  {
"cell_type": "code",
	   "execution_count": null,
	   "metadata": {
	    "collapsed": true
	   },
	   "outputs": [],
"source": [
"// Example 8.9\n",
"clc;\n",
"clear;\n",
"close;\n",
"// Given data\n",
"format('v',7);\n",
"// Part (c)\n",
"R1= 150;// in Ω\n",
"R2= 68*10^3;// in Ω\n",
"Vin= 50*10^-3;// in V\n",
"Vsat= 14;// in V\n",
"Vpositive= Vsat*(R1/(R1+R2));// in V\n",
"V_UT= Vpositive;// in V\n",
"V_LT= Vpositive;// in V\n",
"disp(V_UT,'The value of V_UT in volts is : ')\n",
"disp(V_LT,'The value of V_LT in volts is : ')"
   ]
   }
],
"metadata": {
		  "kernelspec": {
		   "display_name": "Scilab",
		   "language": "scilab",
		   "name": "scilab"
		  },
		  "language_info": {
		   "file_extension": ".sce",
		   "help_links": [
			{
			 "text": "MetaKernel Magics",
			 "url": "https://github.com/calysto/metakernel/blob/master/metakernel/magics/README.md"
			}
		   ],
		   "mimetype": "text/x-octave",
		   "name": "scilab",
		   "version": "0.7.1"
		  }
		 },
		 "nbformat": 4,
		 "nbformat_minor": 0
}
