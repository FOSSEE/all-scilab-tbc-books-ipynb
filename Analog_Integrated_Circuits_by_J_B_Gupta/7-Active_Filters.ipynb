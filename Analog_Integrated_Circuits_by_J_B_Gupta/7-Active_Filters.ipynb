{
"cells": [
 {
		   "cell_type": "markdown",
	   "metadata": {},
	   "source": [
       "# Chapter 7: Active Filters"
	   ]
	},
{
		   "cell_type": "markdown",
		   "metadata": {},
		   "source": [
			"## Example 7.10: Bandpass_active_filter.sce"
		   ]
		  },
  {
"cell_type": "code",
	   "execution_count": null,
	   "metadata": {
	    "collapsed": true
	   },
	   "outputs": [],
"source": [
"// Example 7.10\n",
"clc;\n",
"clear;\n",
"close;\n",
"// Given data\n",
"format('v',6);\n",
"f_L= 2*10^3;// in Hz\n",
"f_H= 2.5*10^3;// in Hz\n",
"Af= -5;\n",
"f_C= sqrt(f_L*f_H);// centre frequency in Hz\n",
"del_f= f_H-f_L;//bandwidth in Hz\n",
"Q= f_C/del_f;// selectivity\n",
"// Assume C1= C2= C= 0.01µF\n",
"C= 0.01*10^-6;// in F\n",
"R3= 1/(%pi*del_f*C);// in Ω\n",
"R3= R3*10^-3;// in kΩ\n",
"disp('The value of R3 is : '+string(R3)+' kΩ (standard value 64 kΩ)');\n",
"R3= 64;// in kΩ\n",
"R3= R3*10^3;// in Ω\n",
"R1= -R3/(2*Af);//in Ω\n",
"R2= R1/(4*%pi^2*f_C^2*R1*R3*C^2-.1)\n",
"R1= R1*10^-3;// in kΩ\n",
"C=C*10^6;// in µF\n",
"disp('The value of R1 is : '+string(R1)+' kΩ ');\n",
"disp('The value of R2 is : '+string(R2)+' kΩ (standard value 800Ω)');\n",
"disp('The value of C is : '+string(C)+' µF ');\n",
""
   ]
   }
,
{
		   "cell_type": "markdown",
		   "metadata": {},
		   "source": [
			"## Example 7.11: Narror_bandpass_filter.sce"
		   ]
		  },
  {
"cell_type": "code",
	   "execution_count": null,
	   "metadata": {
	    "collapsed": true
	   },
	   "outputs": [],
"source": [
"// Example 7.11\n",
"clc;\n",
"clear;\n",
"close;\n",
"// Given data\n",
"format('v',6);\n",
"f_C= 1*10^3;//centre frequency in Hz\n",
"f_C_desh= 2*10^3;//new centre frequency in Hz\n",
"Q= 5;// selectivity\n",
"Af= -8;\n",
"C= 0.01*10^-6;// in F (assume)\n",
"R3= Q/(%pi*f_C*C);//in Ω\n",
"R3= R3*10^-3;// in kΩ\n",
"disp('The value of R3 is : '+string(R3)+' kΩ (160 kΩ (approx))');\n",
"R1= round(-R3/(2*Af));// in kΩ\n",
"disp('The value of R1 is : '+string(R1)+' kΩ');\n",
"R2= R1*10^3/(4*%pi^2*f_C^2*R1*10^3*R3*10^3*C^2-1);// in Ω\n",
"R2= R2*10^-3;// in kΩ\n",
"disp('The value of R2 is : '+string(R2)+' kΩ (2 kΩ (approx))');\n",
"R2= 2;// in kΩ (approx)\n",
"R2_desh= R2*(f_C/f_C_desh)^2;// in kΩ\n",
"R2_desh= R2_desh*10^3;// in Ω\n",
"disp('The value of R2'' is : '+string(R2_desh)+' Ω')\n",
""
   ]
   }
,
{
		   "cell_type": "markdown",
		   "metadata": {},
		   "source": [
			"## Example 7.12: Cut_off_frequencies.sce"
		   ]
		  },
  {
"cell_type": "code",
	   "execution_count": null,
	   "metadata": {
	    "collapsed": true
	   },
	   "outputs": [],
"source": [
"// Example 7.12\n",
"clc;\n",
"clear;\n",
"close;\n",
"// Given data\n",
"format('v',6);\n",
"R= 10*10^3;// in Ω\n",
"C1= 0.1*10^-6;// in F \n",
"C2= 0.0025*10^-6;// in F \n",
"f_H= 1/(2*%pi*R*C2);//higher cut-off frequency in Hz\n",
"f_H= f_H*10^-3;// in kHz\n",
"f_L= 1/(2*%pi*R*C1);//lower cut-off frequency in Hz\n",
"BW= f_H-f_L*10^-3;// bandwidth in kHz\n",
"disp(f_H,'The higher cut-off frequency in kHz is : ')\n",
"disp(f_L,'The lower cut-off frequency in Hz is : ')\n",
"disp(BW,'The bandwidth in kHz is : ')"
   ]
   }
,
{
		   "cell_type": "markdown",
		   "metadata": {},
		   "source": [
			"## Example 7.13: Designing_of_a_bandpass_filter.sce"
		   ]
		  },
  {
"cell_type": "code",
	   "execution_count": null,
	   "metadata": {
	    "collapsed": true
	   },
	   "outputs": [],
"source": [
"// Example 7.13\n",
"clc;\n",
"clear;\n",
"close;\n",
"// Given data\n",
"format('v',5);\n",
"f_L= 200;// in Hz\n",
"f_H= 1*10^3;// in Hz\n",
"alpha=4;// passband gain\n",
"C_desh= 0.01*10^-6;// in F (assume)\n",
"R_desh= 1/(2*%pi*f_H*C_desh);// in Ω\n",
"R_desh= R_desh*10^-3;// in kΩ\n",
"disp('The value of R'' is : '+string(R_desh)+' kΩ (Approx. 20 kΩ)')\n",
"R_desh= 20;// in kΩ (standard value)\n",
"// First Order High-Pass Filter\n",
"C= 0.05*10^-6;// in F (assume)\n",
"R= 1/(2*%pi*f_L*C);// in Ω\n",
"R= R*10^-3;// in kΩ\n",
"R1= 10;// in kΩ\n",
"Rf= R1;// in kΩ\n",
"C_desh= C_desh*10^6;// in µF\n",
"C= C*10^6;// in µF\n",
"disp('The value of R is : '+string(R)+' kΩ (Approx. 20 kΩ)')\n",
"R= 20;// in kΩ (standard value)\n",
"disp('The value of R1 and Rf is : '+string(R1)+' kΩ')\n",
"disp('The value of C'' is : '+string(C_desh)+' µF')\n",
"disp('The value of C is : '+string(C)+' µF')\n",
"\n",
"\n",
""
   ]
   }
,
{
		   "cell_type": "markdown",
		   "metadata": {},
		   "source": [
			"## Example 7.14: A_wide_band_stop_filter.sce"
		   ]
		  },
  {
"cell_type": "code",
	   "execution_count": null,
	   "metadata": {
	    "collapsed": true
	   },
	   "outputs": [],
"source": [
"// Example 7.14\n",
"clc;\n",
"clear;\n",
"close;\n",
"// Given data\n",
"format('v',5);\n",
"f_H= 200;// in Hz\n",
"f_L= 2*10^3;// in Hz\n",
"C= 0.05*10^-6;// in F\n",
"// For low-pass filter,\n",
"R_desh= 1/(2*%pi*f_H*C);// in Ω\n",
"R_desh= R_desh*10^-3;// in kΩ\n",
"disp('The value of R'' is : '+string(R_desh)+' kΩ ( Approx. 20 kΩ)')\n",
"// For high-pass filter,\n",
"R= 1/(2*%pi*f_L*C);// in Ω\n",
"R= R*10^-3;// in kΩ\n",
"disp('The value of R is : '+string(R)+' kΩ ( Approx. 2 kΩ)')\n",
""
   ]
   }
,
{
		   "cell_type": "markdown",
		   "metadata": {},
		   "source": [
			"## Example 7.15: A_50_Hz_active_notch_filter.sce"
		   ]
		  },
  {
"cell_type": "code",
	   "execution_count": null,
	   "metadata": {
	    "collapsed": true
	   },
	   "outputs": [],
"source": [
"// Example 7.15\n",
"clc;\n",
"clear;\n",
"close;\n",
"// Given data\n",
"format('v',5);\n",
"C= 0.068*10^-6;// in F\n",
"f_N= 50;// in Hz\n",
"R= 1/(2*%pi*f_N*C);// in Ω\n",
"R= R*10^-3;// in kΩ\n",
"disp('The value of R is : '+string(R)+' kΩ ( Approx. 50 kΩ)')\n",
""
   ]
   }
,
{
		   "cell_type": "markdown",
		   "metadata": {},
		   "source": [
			"## Example 7.16: Phase_shift.sce"
		   ]
		  },
  {
"cell_type": "code",
	   "execution_count": null,
	   "metadata": {
	    "collapsed": true
	   },
	   "outputs": [],
"source": [
"// Example 7.16\n",
"clc;\n",
"clear;\n",
"close;\n",
"// Given data\n",
"format('v',5);\n",
"R= 15*10^3;// in Ω\n",
"C= 0.01*10^-6;// in F\n",
"f= 2*10^3;// in Hz\n",
"PhaseShift= -2*atand(2*%pi*f*R*C);// in °\n",
"disp('The phase shift is : '+string(PhaseShift)+'° i.e. '+string(abs(PhaseShift))+'° (lagging)')\n",
"\n",
""
   ]
   }
,
{
		   "cell_type": "markdown",
		   "metadata": {},
		   "source": [
			"## Example 7.18: Bandpass_centre_frequency.sce"
		   ]
		  },
  {
"cell_type": "code",
	   "execution_count": null,
	   "metadata": {
	    "collapsed": true
	   },
	   "outputs": [],
"source": [
"// Example 7.18\n",
"clc;\n",
"clear;\n",
"close;\n",
"// Given data\n",
"format('v',6);\n",
"R_A= 2.2*10^3;// in Ω\n",
"R_B= 1.2*10^3;// in Ω\n",
"Rf= 4.7*10^3;// in Ω\n",
"C= 0.01*10^-6;// in F\n",
"k_lp= 1.238;\n",
"k_hp= 1/k_lp;\n",
"// Part (i)\n",
"alpha= 3*R_B/(R_A+R_B);\n",
"disp(alpha,'Part (i) : The value of alpha is : ');\n",
"disp('Given filter is 1db peak Chebyshev');\n",
"\n",
"// Part (ii)\n",
"f_0= 1/(2*%pi*Rf*C);//critical frequency in Hz\n",
"f_0= f_0*10^-3;// in kHz\n",
"f_low_pass= f_0*k_lp;// in kHz\n",
"disp(f_low_pass,'Part (ii) : The low-pass frequency in kHz is : ')\n",
"f_high_pass= f_0*k_hp;// in kHz\n",
"disp(f_high_pass,'The high-pass frequency in kHz is : ')\n",
"\n",
"// Part (iii)\n",
"fc= f_0;// bandpass centre frequency in kHz\n",
"disp(fc,'Part (iii) : The bandpass centre frequency in kHz is : ')\n",
"\n",
"// Part (iv)\n",
"// Formula used : delta_f= fc/Q= fc/(1/alpha)\n",
"delta_f= fc/(1/alpha);// in kHz\n",
"disp(delta_f,'Part (iv) : The bandpass width in kHz is : ')\n",
"\n",
"// Part (v)\n",
"A0= 1/alpha;// bandpass gain at centre frequency\n",
"disp(A0,'Part (v) : The bandpass gain at centre frequency is : ')\n",
"\n",
"\n",
"\n",
"\n",
"\n",
"\n",
"\n",
"\n",
""
   ]
   }
,
{
		   "cell_type": "markdown",
		   "metadata": {},
		   "source": [
			"## Example 7.1: Low_pass_filter.sce"
		   ]
		  },
  {
"cell_type": "code",
	   "execution_count": null,
	   "metadata": {
	    "collapsed": true
	   },
	   "outputs": [],
"source": [
"// Example 7.1\n",
"clc;\n",
"clear;\n",
"close;\n",
"// Given data\n",
"format('v',6);\n",
"f_H= 2*10^3;//cut-off frequency in Hz\n",
"C= 0.01*10^-6;// in F\n",
"passband_gain= 2.5;\n",
"R= 1/(2*%pi*f_H*C);// in Ω\n",
"R= 8.2;// in kΩ (standard value)\n",
"// 1+Rf/R1= passband_gain or Rf should be equal to 1.5*R1 since Rf||R1= R\n",
"R1= passband_gain/1.5*R;// in kΩ\n",
"disp('The value of R1 is : '+string(R1)+' kΩ');\n",
"disp('(Standard value 15 kΩ)');\n",
"Rf= floor(1.5*R1);// in kΩ\n",
"disp('The value of Rf is : '+string(Rf)+' kΩ');\n",
"\n",
"\n",
"\n",
""
   ]
   }
,
{
		   "cell_type": "markdown",
		   "metadata": {},
		   "source": [
			"## Example 7.2: Second_order_low_pass_filter.sce"
		   ]
		  },
  {
"cell_type": "code",
	   "execution_count": null,
	   "metadata": {
	    "collapsed": true
	   },
	   "outputs": [],
"source": [
"// Example 7.2\n",
"clc;\n",
"clear;\n",
"close;\n",
"// Given data\n",
"format('v',6);\n",
"f_H= 2*10^3;//cut-off frequency in Hz\n",
"C= 0.033*10^-6;// in F\n",
"R= 1/(2*%pi*f_H*C);// in Ω\n",
"// 2*R= Rf*R1/(Rf+R1)= 0.586*R1^2/(1.586*R1) since Rf= 0.586*R1\n",
"R1= 2*R*1.586/0.586;// in Ω\n",
"R1= round(R1*10^-3);// in kΩ\n",
"disp('The value of R1 is : '+string(R1)+' kΩ');\n",
"disp('(The value of R1 may be taken of 15 kΩ)');\n",
"R1= 15;// in kΩ\n",
"Rf= R1*0.586;// in kΩ\n",
"//Rf= floor(1.5*R1);// in kΩ\n",
"disp('The value of Rf is : '+string(Rf)+' kΩ');\n",
"disp('(The value of Rf may be taken as a pot of 10 kΩ)');\n",
"\n",
"\n",
"\n",
""
   ]
   }
,
{
		   "cell_type": "markdown",
		   "metadata": {},
		   "source": [
			"## Example 7.3: Second_order_low_pass_filter.sce"
		   ]
		  },
  {
"cell_type": "code",
	   "execution_count": null,
	   "metadata": {
	    "collapsed": true
	   },
	   "outputs": [],
"source": [
"// Example 7.3\n",
"clc;\n",
"clear;\n",
"close;\n",
"// Given data\n",
"format('v',7);\n",
"f_H= 1*10^3;//cut-off frequency in Hz\n",
"C= 0.0047*10^-6;// in F\n",
"R= 1/(2*%pi*f_H*C);// in Ω\n",
"R= (R*10^-3);// in kΩ\n",
"R1= 30;// in kΩ (assume)\n",
"Rf= 0.586*R1;// in kΩ\n",
"C= C*10^6;// in µF\n",
"disp('The value of R''= R= '+string(R)+' kΩ (standard value 33 kΩ)');\n",
"disp('The value of C''= C= '+string(C)+' µF ');\n",
"disp('The value of R1=  '+string(R1)+' kΩ ');\n",
"disp('The value of Rf=  '+string(Rf)+' kΩ (standard value 20 kΩ pot) ');\n",
"\n",
"\n",
"\n",
""
   ]
   }
,
{
		   "cell_type": "markdown",
		   "metadata": {},
		   "source": [
			"## Example 7.4: Flattest_band_second_order_active_filter.sce"
		   ]
		  },
  {
"cell_type": "code",
	   "execution_count": null,
	   "metadata": {
	    "collapsed": true
	   },
	   "outputs": [],
"source": [
"// Example 7.4\n",
"clc;\n",
"clear;\n",
"close;\n",
"// Given data\n",
"format('v',5);\n",
"fc= 1*10^3;// in Hz\n",
"alpha= 1.414;\n",
"C= 0.1*10^-6;// in F (assume)\n",
"C_desh= C*alpha^2/4;// in F\n",
"C_desh= C_desh*10^6;// in µF\n",
"disp('The value of C'' is : '+string(C_desh)+' µF');\n",
"C_desh= C_desh*10^-6;// in F\n",
"R_desh= 1/(2*%pi*fc*sqrt(C*C_desh));// in Ω\n",
"R_desh= R_desh*10^-3;// in kΩ\n",
"disp('The value of R'' is : '+string(R_desh)+' kΩ (standard value 2.2 kΩ)')\n",
"\n",
"\n",
""
   ]
   }
,
{
		   "cell_type": "markdown",
		   "metadata": {},
		   "source": [
			"## Example 7.5: Flattest_passband_second_order_active_filter.sce"
		   ]
		  },
  {
"cell_type": "code",
	   "execution_count": null,
	   "metadata": {
	    "collapsed": true
	   },
	   "outputs": [],
"source": [
"// Example 7.5\n",
"clc;\n",
"clear;\n",
"close;\n",
"// Given data\n",
"format('v',5);\n",
"alpha= 1.414;// passband\n",
"C= 0.01*10^-6;// in F (assume)\n",
"fc= 1*10^3;// in Hz\n",
"dc_gain= 6;\n",
"R= 1/(2*%pi*C*fc);// in Ω\n",
"R= R*10^-3;// in kΩ\n",
"disp('The value of R is : '+string(R)+' kΩ (standard value 15 kΩ)');\n",
"R= 15;// in kΩ\n",
"Af= 3-alpha;// and Af= 1+Rf/R1 or\n",
"// Rf= (Af-1)*R1    (i)\n",
"// 2*R= Rf || R1, hence from (i)\n",
"R1= 2*R*Af/(Af-1);// in kΩ\n",
"disp('The value of R1 is : '+string(R1)+' kΩ (standard value 82 kΩ)');\n",
"R1= 82;// in kΩ\n",
"Rf= (Af-1)*R1;// in kΩ\n",
"disp('The value of Rf is : '+string(Rf)+' kΩ (standard value 47 kΩ)');\n",
"Aamp= dc_gain/Af;\n",
"disp('The value of Aamp is : '+string(Aamp));"
   ]
   }
,
{
		   "cell_type": "markdown",
		   "metadata": {},
		   "source": [
			"## Example 7.7: Cut_off_frequency.sce"
		   ]
		  },
  {
"cell_type": "code",
	   "execution_count": null,
	   "metadata": {
	    "collapsed": true
	   },
	   "outputs": [],
"source": [
"// Example 7.7\n",
"clc;\n",
"clear;\n",
"close;\n",
"// Given data\n",
"format('v',6);\n",
"R= 2.1*10^3;// in kΩ\n",
"C= 0.05*10^-6;// in F\n",
"R1= 20*10^3;// in Ω\n",
"Rf= 60*10^3;// in Ω\n",
"// Low cut-off frequency,\n",
"f_L= 1/(2*%pi*R*C);// in Hz\n",
"f_L= f_L*10^-3;// in kHz\n",
"disp(f_L,'The cut-off frequency in kHz is : ')\n",
"\n",
"\n",
""
   ]
   }
,
{
		   "cell_type": "markdown",
		   "metadata": {},
		   "source": [
			"## Example 7.8: Centre_frequency_and_gain.sce"
		   ]
		  },
  {
"cell_type": "code",
	   "execution_count": null,
	   "metadata": {
	    "collapsed": true
	   },
	   "outputs": [],
"source": [
"// Example 7.8\n",
"clc;\n",
"clear;\n",
"close;\n",
"// Given data\n",
"format('v',6);\n",
"R1= 2*10^3;// in Ω\n",
"R2= 2/3*10^3;// in Ω\n",
"R3= 200*10^3;// in Ω\n",
"C= 0.1*10^-6;// in F\n",
"Af= R3/(2*R1);// gain\n",
"disp(Af,'The value of Af is : ')\n",
"// R1= Q/(2*%pi*f_C*C*Af)                    (i)\n",
"// R2= Q/(2*%pi*f_C*C*(2*Q^2-Af))   (ii)\n",
"// R3= Q/(%pi*f_C*C)                              (iii)\n",
"Q= sqrt((R3/(2*R2)+Af)/2);// from (ii) and (iii)\n",
"disp(Q,'The value of Q is : ');\n",
"f_C= Q/(R3*%pi*C);// in Hz  (from (iii))\n",
"disp(f_C,'The value of f_C in Hz is : ');\n",
"omega_0= 2*%pi*f_C;// in radians/second\n",
"disp(omega_0,'The value of omega_0 in radians/seconds is : ')\n",
"\n",
""
   ]
   }
],
"metadata": {
		  "kernelspec": {
		   "display_name": "Scilab",
		   "language": "scilab",
		   "name": "scilab"
		  },
		  "language_info": {
		   "file_extension": ".sce",
		   "help_links": [
			{
			 "text": "MetaKernel Magics",
			 "url": "https://github.com/calysto/metakernel/blob/master/metakernel/magics/README.md"
			}
		   ],
		   "mimetype": "text/x-octave",
		   "name": "scilab",
		   "version": "0.7.1"
		  }
		 },
		 "nbformat": 4,
		 "nbformat_minor": 0
}
