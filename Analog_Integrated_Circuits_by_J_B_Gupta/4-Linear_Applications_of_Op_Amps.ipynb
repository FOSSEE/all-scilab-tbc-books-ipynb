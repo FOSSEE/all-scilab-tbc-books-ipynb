{
"cells": [
 {
		   "cell_type": "markdown",
	   "metadata": {},
	   "source": [
       "# Chapter 4: Linear Applications of Op Amps"
	   ]
	},
{
		   "cell_type": "markdown",
		   "metadata": {},
		   "source": [
			"## Example 4.10: Time_duration_required_for_saturation.sce"
		   ]
		  },
  {
"cell_type": "code",
	   "execution_count": null,
	   "metadata": {
	    "collapsed": true
	   },
	   "outputs": [],
"source": [
"// Example 4.10\n",
"clc;\n",
"clear;\n",
"close;\n",
"format('v',6);\n",
"// Given data\n",
"R= 500;// in kΩ\n",
"R= R*10^3;// in Ω\n",
"C= 10;// in µF\n",
"C= C*10^-6;// in F\n",
"vout= 12;// in V\n",
"v= -0.5;// in V\n",
"vout_by_t= -1/(R*C)*integrate('-t','t',0,1);//in V/sec\n",
"// Time required for saturation of output voltage\n",
"t= vout/vout_by_t;// in sec\n",
"disp(t,'The time duration required for saturation of output voltage in seconds is : ')\n",
"\n",
"\n",
"\n",
"\n",
"\n",
""
   ]
   }
,
{
		   "cell_type": "markdown",
		   "metadata": {},
		   "source": [
			"## Example 4.12: Output_voltage.sce"
		   ]
		  },
  {
"cell_type": "code",
	   "execution_count": null,
	   "metadata": {
	    "collapsed": true
	   },
	   "outputs": [],
"source": [
"// Example 4.12\n",
"clc;\n",
"clear;\n",
"close;\n",
"format('v',7);\n",
"// Given data\n",
"fa= 1;// in kHz\n",
"fa= fa*10^3;// in Hz\n",
"Vp= 1.5;// in V\n",
"f= 200;// in Hz\n",
"C= 0.1*10^-6;// in F\n",
"t= poly(0,'t');\n",
"R= 1/(2*%pi*fa*C);// in Ω\n",
"R= 1.5;// in kΩ (standard value)\n",
"fb= 20*fa;// in Hz\n",
"R_desh= 1/(2*%pi*fb*C);// in Ω\n",
"R_desh= 82;// in Ω (standard value), so\n",
"R_OM= R;// in kΩ\n",
"// Vin= Vp*sin(omega*t)= Vp*sin(2*%pi*f)*t\n",
"disp('The input votage : Vin = '+string(Vp)+ ' sin(400*%pi*t)')\n",
"RC= R*10^3*C;// in ΩF\n",
"V= -RC*Vp*400*%pi;\n",
"//Vout= -RC*dVin/dt= -RC*Vp*400*%pi*cos(400*%pi*t)\n",
"disp('The output voltage : Vout = '+string(V)+' cos(400*%pi*t)')\n",
"x=[0:0.1:5*%pi/2];\n",
"plot(V*cos(x))\n",
"title('output Waveform');\n",
"xlabel('---- Time ---->');\n",
"ylabel('---- output voltage ---->');\n",
"disp('output Waveform is shown in figure.')\n",
"\n",
"\n",
"\n",
""
   ]
   }
,
{
		   "cell_type": "markdown",
		   "metadata": {},
		   "source": [
			"## Example 4.13: Differentiator_to_differentiate_an_input_signal.sce"
		   ]
		  },
  {
"cell_type": "code",
	   "execution_count": null,
	   "metadata": {
	    "collapsed": true
	   },
	   "outputs": [],
"source": [
"// Example 4.13\n",
"clc;\n",
"clear;\n",
"close;\n",
"format('v',6);\n",
"// Given data\n",
"Vp= 1;// in V\n",
"f= 1000;// in Hz\n",
"R= 1.5*10^3;// in Ω\n",
"C= 0.1*10^-6;// in F\n",
"// Vin= Vp*sin(omega*t)= Vp*sin(2*%pi*f)*t\n",
"disp('The input votage : Vin = sin(2000*%pi*t)')\n",
"RC= R*C;// in ΩF\n",
"V= -RC*2000*%pi;\n",
"//Vout= -RC*dVin/dt= -RC*Vp*2000*%pi*cos(2000*%pi*t)\n",
"disp('The output voltage : Vout = '+string(V)+' cos(2000*%pi*t)')\n",
"x=[0:0.1:4*%pi];\n",
"plot(-1.88*cos(x))\n",
"title('Output Waveform');\n",
"xlabel('---- Time ---->');\n",
"ylabel('---- output voltage ---->');\n",
"disp('Waveform is shown in figure.')\n",
"\n",
"\n",
"\n",
""
   ]
   }
,
{
		   "cell_type": "markdown",
		   "metadata": {},
		   "source": [
			"## Example 4.15: Instrumentation_amplifier.sce"
		   ]
		  },
  {
"cell_type": "code",
	   "execution_count": null,
	   "metadata": {
	    "collapsed": true
	   },
	   "outputs": [],
"source": [
"// Example 4.15\n",
"clc;\n",
"clear;\n",
"close;\n",
"format('v',6);\n",
"// Given data\n",
"R1= 50;// in kΩ\n",
"R3=15;// in kΩ\n",
"R4=R3;// in kΩ\n",
"// For minimum differential voltage gain,\n",
"Ad_min= 5;// and\n",
"Ad= Ad_min;\n",
"// From Ad= 1+2*R2/R1\n",
"R2= (Ad-1)*R1/2;// in kΩ\n",
"// For maximum differential voltage gain,\n",
"Ad_max= 200;// and\n",
"Ad= Ad_max;\n",
"// From Ad= 1+2*R2/R1\n",
"R1_min= round(2*R2/(Ad-1));// in kΩ\n",
"disp('The value of R1 :  '+string(R1_min)+' kΩ - '+string(R1)+' kΩ')\n",
"disp(R2,'The value of R2 in kΩ is : ')\n",
"disp(R3,'The value of R3 and R4 in kΩ is : ')\n",
"\n",
""
   ]
   }
,
{
		   "cell_type": "markdown",
		   "metadata": {},
		   "source": [
			"## Example 4.1: Designing_of_an_adder_circuit.sce"
		   ]
		  },
  {
"cell_type": "code",
	   "execution_count": null,
	   "metadata": {
	    "collapsed": true
	   },
	   "outputs": [],
"source": [
"// Example 4.1\n",
"clc;\n",
"clear;\n",
"close;\n",
"// Given data\n",
"format('v',6);\n",
"Vout= '-(V1+10*V2+100*V3)';//given expression  \n",
"Rf= 100;// in kΩ\n",
"// Vout= -Rf*(V1/R1+V2/R2+V3/R3)= -(Rf/R1*V1+Rf/R2*V2+Rf/R3*V3)     (i)\n",
"// Compare equation(i) with given expression\n",
"R1= Rf/1;//in kΩ\n",
"R2= Rf/10;// in kΩ\n",
"R3= Rf/100;// in kΩ\n",
"disp(Rf,'The value of Rf in kΩ is : ');\n",
"disp(R1,'The value of R1 in kΩ is : ');\n",
"disp(R2,'The value of R2 in kΩ is : ');\n",
"disp(R3,'The value of R3 in kΩ is : ');\n",
"\n",
"\n",
""
   ]
   }
,
{
		   "cell_type": "markdown",
		   "metadata": {},
		   "source": [
			"## Example 4.2: Output_voltage.sce"
		   ]
		  },
  {
"cell_type": "code",
	   "execution_count": null,
	   "metadata": {
	    "collapsed": true
	   },
	   "outputs": [],
"source": [
"// Example 4.2\n",
"clc;\n",
"clear;\n",
"close;\n",
"// Given data\n",
"format('v',6);\n",
"Rf= 12;// in kΩ\n",
"R1= 12;// in kΩ\n",
"R2= 2;// in kΩ\n",
"R3= 3;// in kΩ\n",
"V1= 9;// in V\n",
"V2= -3;// in V\n",
"V3= -1;// in V\n",
"Vout= -Rf*(V1/R1+V2/R2+V3/R3);// output voltage in V\n",
"disp(Vout,'The output voltage in volts is : ');\n",
"\n",
"\n",
""
   ]
   }
,
{
		   "cell_type": "markdown",
		   "metadata": {},
		   "source": [
			"## Example 4.3: Summing_amplifier.sce"
		   ]
		  },
  {
"cell_type": "code",
	   "execution_count": null,
	   "metadata": {
	    "collapsed": true
	   },
	   "outputs": [],
"source": [
"// Example 4.3\n",
"clc;\n",
"clear;\n",
"close;\n",
"// Given data\n",
"format('v',6);\n",
"Vout= '(-V1+2*V2-3*V3)';//given expression  \n",
"Rf= 6;// in kΩ\n",
"// Vout=  -(Rf/R1*V1+Rf/R2*V2+Rf/R3*V3)     (i)\n",
"// Compare equation(i) with given expression\n",
"R1= Rf/1;//in kΩ\n",
"R2= Rf/2;// in kΩ\n",
"R3= Rf/3;// in kΩ\n",
"disp(Rf,'The value of Rf in kΩ is : ');\n",
"disp(R1,'The value of R1 in kΩ is : ');\n",
"disp(R2,'The value of R2 in kΩ is : ');\n",
"disp(R3,'The value of R3 in kΩ is : ');\n",
"\n",
"\n",
""
   ]
   }
,
{
		   "cell_type": "markdown",
		   "metadata": {},
		   "source": [
			"## Example 4.4: Value_of_R1_R2_and_Rf.sce"
		   ]
		  },
  {
"cell_type": "code",
	   "execution_count": null,
	   "metadata": {
	    "collapsed": true
	   },
	   "outputs": [],
"source": [
"// Example 4.4\n",
"clc;\n",
"clear;\n",
"close;\n",
"// Given data\n",
"format('v',6);\n",
"Vout= '(-2*V1+3*V2+4*V3)';//given expression  \n",
"R3= 10;// in kΩ\n",
"// Vout=  -(Rf/R1*V1+Rf/R2*V2+Rf/R3*V3)     (i)\n",
"// Compare equation(i) with given expression\n",
"Rf= 4*R3;//in kΩ\n",
"R2= Rf/3;// in kΩ\n",
"R1= Rf/2;// in kΩ\n",
"disp(Rf,'The value of Rf in kΩ is : ');\n",
"disp(R2,'The value of R2 in kΩ is : ');\n",
"disp(R1,'The value of R1 in kΩ is : ');\n",
"\n",
"\n",
""
   ]
   }
,
{
		   "cell_type": "markdown",
		   "metadata": {},
		   "source": [
			"## Example 4.5: Output_voltage.sce"
		   ]
		  },
  {
"cell_type": "code",
	   "execution_count": null,
	   "metadata": {
	    "collapsed": true
	   },
	   "outputs": [],
"source": [
"// Example 4.5\n",
"clc;\n",
"clear;\n",
"close;\n",
"format('v',6);\n",
"// Given data\n",
"V1= 2;// in V\n",
"V2= -1;// in V\n",
"R=100;// in Ω (assumed)\n",
"Vs1= V1*(R/2)/(R+R/2);// in V\n",
"Rf= 2*R;// in Ω\n",
"Vo_1= Vs1*(1+Rf/R);// in V\n",
"Vs2= V2*(R/2)/(R+R/2);// in V\n",
"Vo_2= Vs2*(1+Rf/R);// in V\n",
"Vout= Vo_1+Vo_2;//output voltage in V\n",
"disp(Vout,'The output voltage in volts is : ');\n",
"\n",
"\n",
"\n",
""
   ]
   }
,
{
		   "cell_type": "markdown",
		   "metadata": {},
		   "source": [
			"## Example 4.7: Capacitor_voltage_at_the_end_of_pulse.sce"
		   ]
		  },
  {
"cell_type": "code",
	   "execution_count": null,
	   "metadata": {
	    "collapsed": true
	   },
	   "outputs": [],
"source": [
"// Example 4.7\n",
"clc;\n",
"clear;\n",
"close;\n",
"format('v',6);\n",
"// Given data\n",
"Vin= 10;// in V\n",
"R= 2.2;// in kΩ\n",
"R= R*10^3;// in kΩ\n",
"Ad= 10^5;// differential voltage gain\n",
"C=1;// in µF\n",
"C= C*10^-6;// in F\n",
"T= 1;// in ms\n",
"T= T*10^-3;// in s\n",
"I= Vin/R;// in mA\n",
"V= I*T/C;// output voltage at the end of pulse in mV\n",
"V= V*10^-3;// in V\n",
"disp(V,'The output voltage at the end of the pulse in volts is : ')\n",
"RC_desh= R*C*Ad;// closed-loop time constant in sec.\n",
"disp(RC_desh,'The closed-loop time constant in seconds : ')\n",
"\n",
"\n",
"\n",
""
   ]
   }
,
{
		   "cell_type": "markdown",
		   "metadata": {},
		   "source": [
			"## Example 4.8: Value_of_R1_and_Rf.sce"
		   ]
		  },
  {
"cell_type": "code",
	   "execution_count": null,
	   "metadata": {
	    "collapsed": true
	   },
	   "outputs": [],
"source": [
"// Example 4.8\n",
"clc;\n",
"clear;\n",
"close;\n",
"format('v',6);\n",
"// Given data\n",
"A_dB= 20;// peak gain in dB\n",
"A= 10^(A_dB/20);// peak gain\n",
"omega= 10000;// in rad/second\n",
"C= 0.01;// in µF\n",
"C= C*10^-6;// in F\n",
"Rf= 10;// in kΩ\n",
"// Vout/V1= Rf/R1= A\n",
"R1= Rf/A;// in kΩ\n",
"disp(Rf,'The value of Rf in kΩ is : ');\n",
"disp(R1,'The value of R1 in kΩ is : ');\n",
"\n",
"\n",
"\n",
"\n",
""
   ]
   }
,
{
		   "cell_type": "markdown",
		   "metadata": {},
		   "source": [
			"## Example 4.9: Output_voltage.sce"
		   ]
		  },
  {
"cell_type": "code",
	   "execution_count": null,
	   "metadata": {
	    "collapsed": true
	   },
	   "outputs": [],
"source": [
"// Example 4.9\n",
"clc;\n",
"clear;\n",
"close;\n",
"format('v',6);\n",
"// Given data\n",
"R= 40;// in kΩ\n",
"R= R*10^3;// in Ω\n",
"C= 0.2;// in µF\n",
"C= C*10^-6;// in F\n",
"Vin= 5;// in V\n",
"V1= 3;// in V\n",
"t= 50;// in ms\n",
"Vout= 3;// in V\n",
"t=[0:0.1:50];\n",
"vout= -1/(R*C)*integrate('(Vin-V1)','t',0,t)*10^-3+Vout;//in V\n",
"plot(t,vout);\n",
"title('Sketch of output voltage');\n",
"xlabel('Time in milliseconds');\n",
"ylabel('Output voltage in volts')\n",
"disp('Plot for output voltage shown in figure');\n",
"\n",
"\n",
"\n",
"\n",
""
   ]
   }
],
"metadata": {
		  "kernelspec": {
		   "display_name": "Scilab",
		   "language": "scilab",
		   "name": "scilab"
		  },
		  "language_info": {
		   "file_extension": ".sce",
		   "help_links": [
			{
			 "text": "MetaKernel Magics",
			 "url": "https://github.com/calysto/metakernel/blob/master/metakernel/magics/README.md"
			}
		   ],
		   "mimetype": "text/x-octave",
		   "name": "scilab",
		   "version": "0.7.1"
		  }
		 },
		 "nbformat": 4,
		 "nbformat_minor": 0
}
