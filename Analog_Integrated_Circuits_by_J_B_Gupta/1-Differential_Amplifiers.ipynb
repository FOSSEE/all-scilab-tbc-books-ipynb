{
"cells": [
 {
		   "cell_type": "markdown",
	   "metadata": {},
	   "source": [
       "# Chapter 1: Differential Amplifiers"
	   ]
	},
{
		   "cell_type": "markdown",
		   "metadata": {},
		   "source": [
			"## Example 1.10: Single_input_unbalanced_output.sce"
		   ]
		  },
  {
"cell_type": "code",
	   "execution_count": null,
	   "metadata": {
	    "collapsed": true
	   },
	   "outputs": [],
"source": [
"// Example 1.10\n",
"clc;\n",
"clear;\n",
"close;\n",
"// Given data\n",
"format('v',7);\n",
"VEE= 9;//in V\n",
"VCC= 9;//in V \n",
"RC= 47*10^3;// collector resistance in Ω\n",
"RE= 43*10^3;// emitter resistance in Ω\n",
"vin1= 2.5*10^-3;// in V\n",
"Ri1= 20*10^3;// in Ω\n",
"Ri2= Ri1;// in Ω\n",
"VBE= 0.7;// in V\n",
"VT= 26*10^-3;// in V\n",
"beta1= 75;\n",
"beta2= 75;\n",
"IE= (VEE-VBE)/(2*RE+Ri1/beta1);//emitter current in A\n",
"ICQ= IE;// quiescent current in A\n",
"VCEQ= VCC+VBE-ICQ*RC;// quiescent collector voltage in V\n",
"re_desh= VT/IE;//AC emitter resistance in Ω\n",
"Ad= RC/(2*re_desh);// voltage gain\n",
"vout= Ad*vin1;// output voltage in V\n",
"disp(vout,'The output voltage in volts is : ');"
   ]
   }
,
{
		   "cell_type": "markdown",
		   "metadata": {},
		   "source": [
			"## Example 1.11: Q_point_differential_voltage_gain_and_output_resistance.sce"
		   ]
		  },
  {
"cell_type": "code",
	   "execution_count": null,
	   "metadata": {
	    "collapsed": true
	   },
	   "outputs": [],
"source": [
"// Example 1.11\n",
"clc;\n",
"clear;\n",
"close;\n",
"// Given data\n",
"format('v',6);\n",
"VEE= 15;//in V\n",
"VD1= 0.7;// in V\n",
"VD2= 0.7;// in V\n",
"VBE= 0.7;// in V\n",
"Beta= 100;\n",
"VT= 26;// in mV\n",
"R3= 180;//in Ω\n",
"RC= 470;// in Ω\n",
"VB3= -VEE+VD1+VD2;//in V\n",
"VE3= VB3-VBE;//voltage at emitter terminal of transistor Q3 in V\n",
"IE3= (VE3-(-VEE))/R3;//emitter current through transistor Q3 in A\n",
"\n",
"//Part  (i) \n",
"ICQ= IE3/2;//quiescent current in A\n",
"ICQ= round(ICQ*10^3);//in mA\n",
"IE= ICQ;//emitter current in mA\n",
"disp(ICQ,'(i) : Quiescent current in mA is : ')\n",
"VCEQ= VEE+VBE-ICQ*10^-3*RC;//quiescent collector-emitter voltage in V\n",
"disp(VCEQ,'The quiescent collector-emitter voltage in volts is : ')\n",
"re_desh= VT/IE;//AC emitter resistance in Ω\n",
"\n",
"// Part (ii)\n",
"Ad= RC/re_desh;// differential voltage gain\n",
"disp(Ad,'(ii) : Differential voltage gain is : ')\n",
"\n",
"// Part (iii)\n",
"Rin1= 2*Beta*re_desh;// in Ω\n",
"Rin1= Rin1*10^-3;// in kΩ\n",
"disp(Rin1,'(iii) : The input resistance in kΩ is : ')"
   ]
   }
,
{
		   "cell_type": "markdown",
		   "metadata": {},
		   "source": [
			"## Example 1.12: Voltage_gain_input_resistance_and_operation_point.sce"
		   ]
		  },
  {
"cell_type": "code",
	   "execution_count": null,
	   "metadata": {
	    "collapsed": true
	   },
	   "outputs": [],
"source": [
"// Example 1.12\n",
"clc;\n",
"clear;\n",
"close;\n",
"// Given data\n",
"format('v',6);\n",
"VEE= 10;//in V\n",
"VCC=10;// in V\n",
"VD1= 0.715;// in V\n",
"Vz= 6.2// in V\n",
"VBE= VD1;// in V\n",
"Izt= 41;// in mA\n",
"R3= 2.7;// in kΩ\n",
"RC= 4.7;// in kΩ\n",
"VT= 26;// in mV\n",
"beta_ac= 100;\n",
"beta_dc= 100;\n",
"VB3= -VEE+Vz+VD1;//voltage at the base of transistor Q3 in V\n",
"VE3= VB3-VBE;// voltage at the emitter of transistor Q3 in V\n",
"IE3= (VE3-(-VEE))/R3;//emitter current through transistor Q3 in mA\n",
"ICQ= IE3/2;//quiescent current in mA\n",
"VCEQ= VCC+VBE-ICQ*RC;// in V\n",
"disp('Part (a) : The Q-point values : ');\n",
"disp(ICQ,'The value of ICQ in mA is : ');\n",
"disp(VCEQ,'The value of VCEQ in volts is : ')\n",
"re_desh= VT/ICQ;//dynamic emitter resistance in Ω\n",
"Ad= RC*10^3/re_desh;// voltage gain\n",
"disp(Ad,'Part (b) : The voltage gain is : ')\n",
"Rin= 2*beta_ac*re_desh;// differential input resistance in Ω\n",
"Rin=Rin*10^-3;// in kΩ\n",
"disp(Rin,'Part (c) : The differential input resistance in kΩ is : ')"
   ]
   }
,
{
		   "cell_type": "markdown",
		   "metadata": {},
		   "source": [
			"## Example 1.13: Mirrored_current.sce"
		   ]
		  },
  {
"cell_type": "code",
	   "execution_count": null,
	   "metadata": {
	    "collapsed": true
	   },
	   "outputs": [],
"source": [
"// Example 1.13\n",
"clc;\n",
"clear;\n",
"close;\n",
"// Given data\n",
"format('v',6);\n",
"VCC= 12;// in V\n",
"VBE= 0.7;// in V\n",
"R1= 25;// in kΩ\n",
"// I= I_REF= (VCC-VBE)/R1\n",
"I= (VCC-VBE)/R1;// mirrored current in mA\n",
"disp(I,'The mirrored current in mA is : ');\n",
"\n",
"\n",
"\n",
""
   ]
   }
,
{
		   "cell_type": "markdown",
		   "metadata": {},
		   "source": [
			"## Example 1.14: Reference_current_and_output_current.sce"
		   ]
		  },
  {
"cell_type": "code",
	   "execution_count": null,
	   "metadata": {
	    "collapsed": true
	   },
	   "outputs": [],
"source": [
"// Example 1.14\n",
"clc;\n",
"clear;\n",
"close;\n",
"// Given data\n",
"format('v',6);\n",
"VCC= 10;// in V\n",
"VBE= 0.7;// in V\n",
"R1= 15;// in kΩ\n",
"Beta= 100;\n",
"I_REF= (VCC-VBE)/R1;//reference current in mA\n",
"disp(I_REF,'The reference current in mA is : ')\n",
"Iout= I_REF*Beta/(Beta+2);// output current in mA\n",
"disp(Iout,'The output current in mA is : ')\n",
""
   ]
   }
,
{
		   "cell_type": "markdown",
		   "metadata": {},
		   "source": [
			"## Example 1.15: Value_of_Current.sce"
		   ]
		  },
  {
"cell_type": "code",
	   "execution_count": null,
	   "metadata": {
	    "collapsed": true
	   },
	   "outputs": [],
"source": [
"// Example 1.15\n",
"clc;\n",
"clear;\n",
"close;\n",
"// Given data\n",
"format('v',5);\n",
"VCC= 15;// in V\n",
"VBE= 0.7;// in V\n",
"R1= 2.2;// in kΩ\n",
"Beta= 220;\n",
"I_REF= (VCC-VBE)/R1;//reference current in mA\n",
"// Formula : I= IC= I_REF*(Beta/(Beta+2))\n",
"IC= I_REF*Beta/(Beta+2);// in mA\n",
"disp(IC,'The value of current in mA is : ')\n",
""
   ]
   }
,
{
		   "cell_type": "markdown",
		   "metadata": {},
		   "source": [
			"## Example 1.16: Value_of_Current.sce"
		   ]
		  },
  {
"cell_type": "code",
	   "execution_count": null,
	   "metadata": {
	    "collapsed": true
	   },
	   "outputs": [],
"source": [
"// Example 1.16\n",
"clc;\n",
"clear;\n",
"close;\n",
"// Given data\n",
"format('v',6);\n",
"Vz= 1.8;// in V\n",
"VBE= 0.7;// in V\n",
"RE= 1;// in kΩ\n",
"Beta= 180;\n",
"VB= Vz-VBE;// in V\n",
"IE= VB/RE;//emitter current in mA\n",
"// Formula : I= IC= IE*(Beta/(Beta+1))\n",
"IC= IE*Beta/(Beta+1);// in mA\n",
"disp(IC,'The value of current in mA is : ')\n",
""
   ]
   }
,
{
		   "cell_type": "markdown",
		   "metadata": {},
		   "source": [
			"## Example 1.17: Value_of_each_current.sce"
		   ]
		  },
  {
"cell_type": "code",
	   "execution_count": null,
	   "metadata": {
	    "collapsed": true
	   },
	   "outputs": [],
"source": [
"// Example 1.17\n",
"clc;\n",
"clear;\n",
"close;\n",
"// Given data\n",
"format('v',7);\n",
"VCC= 9;// in V\n",
"R1= 12;// in kΩ\n",
"VBE= 0.7;// in V\n",
"Beta= 100;\n",
"I_REF= (VCC-2*VBE)/R1;//reference current in mA\n",
"disp(I_REF,'The reference current in mA is : ')\n",
"Iout= I_REF/(1+2/(Beta*(1+Beta)));//output current in mA\n",
"disp(Iout,'The output current in mA is : ')\n",
"IC2= Iout;//collector current in mA\n",
"disp(IC2,'The collector current in mA is : ')\n",
"// IB3= I_REF-IC1= I_REF-IC2  (since IC1= IC2)\n",
"IB3= I_REF-IC2;//base current of transistor Q3 in mA\n",
"IB3= IB3*10^3;// in µA\n",
"disp(IB3,'The base current of transistor Q3 in µA is : ')\n",
"IB3= 0.1;// in µA\n",
"IE3= (1+Beta)*IB3;// emitter current of transistor Q3 in µA\n",
"disp(IE3,'The emitter current of transistor Q3 in µA is : ')\n",
"IB1= IE3/2;//base current in µA\n",
"IB2= IB1;// in µA\n",
"disp(IB1,'The base current in µA is : ')\n",
"\n",
""
   ]
   }
,
{
		   "cell_type": "markdown",
		   "metadata": {},
		   "source": [
			"## Example 1.18: Collector_current_of_each_transistor.sce"
		   ]
		  },
  {
"cell_type": "code",
	   "execution_count": null,
	   "metadata": {
	    "collapsed": true
	   },
	   "outputs": [],
"source": [
"// Example 1.18\n",
"clc;\n",
"clear;\n",
"close;\n",
"// Given data\n",
"format('v',5);\n",
"VEE= 10;// in V\n",
"VBE= 0.715;// in V\n",
"beta_ac= 100;\n",
"beta_dc= 100;\n",
"R= 5.6;// in kΩ\n",
"I_REF= (VEE-VBE)/R;// in mA\n",
"IC1= I_REF*beta_ac/(2+beta_ac);// in mA\n",
"// IC1= IC2= IC3  (by symmetry)\n",
"IC2= IC1;// in mA\n",
"IC3= IC2;// in mA\n",
"I_RC= IC1+IC2+IC3;// current through RC in mA\n",
"disp(I_RC,'The current through RC in mA is : ');"
   ]
   }
,
{
		   "cell_type": "markdown",
		   "metadata": {},
		   "source": [
			"## Example 1.19: Differential_input_resistance.sce"
		   ]
		  },
  {
"cell_type": "code",
	   "execution_count": null,
	   "metadata": {
	    "collapsed": true
	   },
	   "outputs": [],
"source": [
"// Example 1.19\n",
"clc;\n",
"clear;\n",
"close;\n",
"// Given data\n",
"format('v',8);\n",
"VCC= 5;// in V\n",
"VBE= 0.7;// in V\n",
"VEE= -5;// in V\n",
"VT= 26;// in mV\n",
"R= 18.6;// in kΩ\n",
"Beta= 100;\n",
"I2= (VCC-VBE-VEE)/R;// in mA\n",
"IC3= I2;// in mA (due to current mirror action)\n",
"IE= IC3/2;// emitter current of transistor Q1 and Q2\n",
"re_desh= VT/IE;//AC emitter resistance of transistor in Ω\n",
"Rin1= 2*Beta*re_desh;// in Ω\n",
"Rin1= Rin1*10^-3;// in kΩ\n",
"disp(Rin1,'The differential input resistance in kΩ is : ')\n",
""
   ]
   }
,
{
		   "cell_type": "markdown",
		   "metadata": {},
		   "source": [
			"## Example 1.1: DC_voltages_and_currents.sce"
		   ]
		  },
  {
"cell_type": "code",
	   "execution_count": null,
	   "metadata": {
	    "collapsed": true
	   },
	   "outputs": [],
"source": [
"// Example 1.1\n",
"clc;\n",
"clear;\n",
"close;\n",
"// Given data\n",
"format('v',6);\n",
"VCC= 9;//in V\n",
"VEE= -9;// in V\n",
"RC= 3.9;//in kΩ\n",
"RE= 3.3;// in kΩ\n",
"VBE= 0.7;// in V\n",
"IE= (abs(VEE)-VBE)/(2*RE);// emitter current in mA\n",
"IC= IE;// collector current in mA\n",
"// Collector voltage,\n",
"VC= VCC-IC*RC;// in V\n",
"disp(VC,'The collector voltage in volts is : ');\n",
"// Emitter voltage,\n",
"VE= 0-VBE;// in V\n",
"disp(VE,'The emitter voltage in volts is : ');\n",
"// Collecctor-emitter voltage,\n",
"VCE= VC-VE;// in V\n",
"disp(VCE,'The collector-emitter voltage in volts is : ');\n",
"\n",
"// Note : There is some difference between coding output and the answer of the book because in the book the value of IE is used as 1.25mA while the calculated value of IE is 1.258"
   ]
   }
,
{
		   "cell_type": "markdown",
		   "metadata": {},
		   "source": [
			"## Example 1.20: Voltage_gai.sce"
		   ]
		  },
  {
"cell_type": "code",
	   "execution_count": null,
	   "metadata": {
	    "collapsed": true
	   },
	   "outputs": [],
"source": [
"// Example 1.20\n",
"clc;\n",
"clear;\n",
"close;\n",
"// Given data\n",
"format('v',6);\n",
"VCC= 18;// in V\n",
"R1= 4.7;// in kΩ\n",
"R2= 5.6;// in kΩ\n",
"R3= 6.8;// in kΩ\n",
"RE= 1.1;// in kΩ\n",
"VBE= 0.7;// in V\n",
"VT= 26;// in mV\n",
"RC= 1.8*10^3;// in Ω\n",
"IE1= (VCC*R1/(R1+R2+R3)-VBE)/RE;// in mA\n",
"re_desh= VT/IE1;//dynamic resistance of each transistor in Ω\n",
"Av= -RC/re_desh;// voltage gain of the cascode amplifier\n",
"disp(Av,'The voltage gain of the cascode amplifier is : ')\n",
"\n",
"\n",
"\n",
""
   ]
   }
,
{
		   "cell_type": "markdown",
		   "metadata": {},
		   "source": [
			"## Example 1.2: Quiescent_collector_current_and_collector_emitter_voltage.sce"
		   ]
		  },
  {
"cell_type": "code",
	   "execution_count": null,
	   "metadata": {
	    "collapsed": true
	   },
	   "outputs": [],
"source": [
"// Example 1.2\n",
"clc;\n",
"clear;\n",
"close;\n",
"// Given data\n",
"format('v',6);\n",
"VCC= 10;//in V\n",
"VEE= -10;// in V\n",
"RC= 10;//in kΩ\n",
"RE= 9.3;// in kΩ\n",
"VBE= 0.7;// in V\n",
"IE= (abs(VEE)-VBE)/(2*RE);// emitter current in mA\n",
"ICQ= IE;//quiescent collector current in mA\n",
"disp(ICQ,'The quiescent collector current in mA');\n",
"// Quiescent Collector-emitter voltage,\n",
"VCEQ= VCC+VBE-ICQ*RC;// in V\n",
"disp(VCEQ,'The quiescent collector-emitter voltage in volts is : ');"
   ]
   }
,
{
		   "cell_type": "markdown",
		   "metadata": {},
		   "source": [
			"## Example 1.3: Output_voltage.sce"
		   ]
		  },
  {
"cell_type": "code",
	   "execution_count": null,
	   "metadata": {
	    "collapsed": true
	   },
	   "outputs": [],
"source": [
"// Example 1.3\n",
"clc;\n",
"clear;\n",
"close;\n",
"// Given data\n",
"format('v',6);\n",
"VCC= 12;//in V\n",
"VEE= -12;// in V\n",
"RC= 10;//in kΩ\n",
"RE= 10;// in kΩ\n",
"RB= 20;// in kΩ\n",
"VBE= 0.7;// in V\n",
"// Part (a)\n",
"beta_dc= 75;\n",
"// Tail current, IT= 2*IE= VEE/RE (ignoring VBE), hence\n",
"IT= abs(VEE)/RE;// in mA\n",
"IC= IT/2;//collector current in mA\n",
"// output voltage,\n",
"Vout1= VCC-IC*RC;// in V\n",
"IT= (abs(VEE)-VBE)/RE;// tail current in mA (on considering VBE)\n",
"IC= IT/2;//collector current in mA\n",
"Vout2= VCC-IC*RC;// in V\n",
"// Tail current,\n",
"IT= (abs(VEE)-VBE)/(RE+RB/(2*beta_dc));// in mA\n",
"IC= IT/2;//collector current in mA\n",
"// output voltage,\n",
"Vout3= VCC-IC*RC;// in V\n",
"disp('Part (a) : There are three different  values of output voltage in volts');\n",
"disp(Vout1);\n",
"disp(Vout2);\n",
"disp(Vout3);\n",
"\n",
"// Part (b)\n",
"IT= abs(VEE)/RE;// in mA\n",
"IC= IT/2;//collector current in mA\n",
"IB= IC/(beta_dc);// base current in mA\n",
"IB= IB*10^3;// in µA\n",
"VB= -IB*RB;//base voltage  in mV\n",
"VB= VB*10^-3;// in V\n",
"disp('Part (b) : ');\n",
"disp(IB,'The value of base current in µA is : ');\n",
"disp(VB,'The value of base voltage in volts is : ');\n",
"\n",
"// Part (c)\n",
"beta_dc1= 60;\n",
"beta_dc2= 80;\n",
"IB1= IC/beta_dc1;//base current for transistor Q1, in mA\n",
"IB1= IB1*10^3;// in µA\n",
"disp('Part (c)')\n",
"disp(IB1,'The value of base current for transistor Q1 in µA is : ');\n",
"VB1= -IB1*RB;// in mV\n",
"VB1= VB1*10^-3;// in V\n",
"disp(VB1,'The value of base voltage for transistor Q1 in volts is : ');\n",
"IB2= IC/beta_dc2;//base current for transistor Q2, in mA\n",
"IB2= IB2*10^3;// in µA\n",
"disp(IB2,'The value of base current for transistor Q2 in µA is : ');\n",
"VB2= -IB2*RB;// in mV\n",
"VB2= VB2*10^-3;// in V\n",
"disp(VB2,'The value of base voltage for transistor Q2 in volts is : ');\n",
"\n",
"// Note : In the part (c), the unit of base current for transistor Q2 in the book is wrong it will be µA\n",
"\n",
"\n",
""
   ]
   }
,
{
		   "cell_type": "markdown",
		   "metadata": {},
		   "source": [
			"## Example 1.4: ICQ_and_VCEQ.sce"
		   ]
		  },
  {
"cell_type": "code",
	   "execution_count": null,
	   "metadata": {
	    "collapsed": true
	   },
	   "outputs": [],
"source": [
"// Example 1.4\n",
"clc;\n",
"clear;\n",
"close;\n",
"// Given data\n",
"format('v',7);\n",
"RC= 2.2;//in kΩ\n",
"RE= 4.7;// in kΩ\n",
"RE= RE*10^3;// in Ω\n",
"Ri1= 50;// in Ω\n",
"Ri2= 50;// in Ω\n",
"VCC= 10;//in V\n",
"VEE= 10;// in V\n",
"VBE= 0.7;// in V\n",
"beta_dc= 100;\n",
"beta_ac= 100;\n",
"\n",
"// Part (a)\n",
"// Formula Used : ICQ= IE= (VEE-VBE)/(2*RE+Ri/beta_dc)\n",
"ICQ= (VEE-VBE)/(2*RE+Ri1/beta_dc);//quiescent collector current in A\n",
"ICQ= ICQ*10^3;// in mA\n",
"IE= ICQ;// in mA\n",
"disp('Part (a)')\n",
"disp(ICQ,'The value of ICQ in mA is : ');\n",
"// Quiescent collector-emitter voltage,\n",
"VCEQ= VCC+VBE-ICQ*RC;// in V\n",
"disp(VCEQ,'The value of VCEQ in volts is : ');\n",
"\n",
"// Part (b)\n",
"re_desh= 26/IE;// AC emitter resistance in Ω\n",
"// Formula Used : Ad= Vout/Vind= RC/re_desh\n",
"Ad= RC*10^3/re_desh;// voltage gain\n",
"disp('Part (b)')\n",
"disp(Ad,'The voltage gain is : ');\n",
"\n",
"// Part (c)\n",
"Rin1= 2*beta_ac*re_desh;// input resistance in Ω\n",
"Rin1= Rin1*10^-3;//in kΩ\n",
"Rin2= Rin1;// in kΩ\n",
"disp('Part (c)');\n",
"disp(Rin1,'The input resistance in kΩ is : ');\n",
"\n",
"// Part (d)\n",
"Rout1= RC;// in kΩ\n",
"disp('Part (d)');\n",
"disp(Rout1,'The output resistance in kΩ is : ');\n",
"\n",
""
   ]
   }
,
{
		   "cell_type": "markdown",
		   "metadata": {},
		   "source": [
			"## Example 1.5: Voltage_gain_input_resistance_output_resistance_and_CMRR.sce"
		   ]
		  },
  {
"cell_type": "code",
	   "execution_count": null,
	   "metadata": {
	    "collapsed": true
	   },
	   "outputs": [],
"source": [
"// Example 1.5\n",
"clc;\n",
"clear;\n",
"close;\n",
"// Given data\n",
"format('v',7);\n",
"VCC= 15;//in V\n",
"VEE= 15;// in V\n",
"RC= 1;//in MΩ\n",
"RE= RC;// in MΩ\n",
"beta_ac= 100;\n",
"VBE= 0.7;// in V\n",
"IE= (VEE-VBE)/(2*RE);//emitter current in µA\n",
"IC= IE;// in collector current in µA\n",
"re_desh= 26/IE;// ac resistance of each emitter diode in kΩ\n",
"Ad= RC*10^3/re_desh;// Voltage gain \n",
"disp(Ad,'The voltage gain is : ');\n",
"Zin= 2*beta_ac*re_desh;// input impedance in kΩ\n",
"Zin= Zin*10^-3;// in MΩ\n",
"disp(Zin,'The input impedance in MΩ is : ');\n",
"Zout= RC;//output impedance in MΩ\n",
"disp(Zout,'The output impedance in MΩ is : ');\n",
"Acm= (RC*10^3)/(2*RE*10^3+re_desh);// common-mode gain\n",
"CMRR= Ad/Acm;// common-mode rejection ratio\n",
"disp(CMRR,'The common-mode rejection ratio is : ');\n",
"// When v_in is zero\n",
"Vout= VCC- IC*RC;// in V\n",
"disp(Vout,'When v_in is zero then the total output voltage at the quiescent value in volts is :  ');\n",
"// When v_in= 1mV,\n",
"v_in= 1*10^-3;// in V\n",
"Vout= Ad*v_in;// in V\n",
"disp(Vout,'When v_in is -1mV then the ac output voltage in volts is : ');\n",
"\n",
"// Note : The value of CMRR in the book is wrong because the correct value of Acm is '0.4991' and in the book it is taken as '0.4225'\n",
"\n",
"\n",
""
   ]
   }
,
{
		   "cell_type": "markdown",
		   "metadata": {},
		   "source": [
			"## Example 1.6: Magnitude_of_differential_gain.sce"
		   ]
		  },
  {
"cell_type": "code",
	   "execution_count": null,
	   "metadata": {
	    "collapsed": true
	   },
	   "outputs": [],
"source": [
"// Example 1.6\n",
"clc;\n",
"clear;\n",
"close;\n",
"// Given data\n",
"format('v',6);\n",
"VEE= 5;// supply voltage in V\n",
"RC= 2*10^3;// collector resistance in Ω\n",
"RE= 4.3;// emitter resistance in kΩ\n",
"VBE= 0.7;// in V\n",
"VT= 26;// in mV\n",
"IE= (VEE-VBE)/(2*RE);//emitter current in mA\n",
"re_desh= VT/IE;//dynamic emitter resistance in Ω\n",
"Ad= RC/(2*re_desh);// differential mode gain\n",
"disp(Ad,'The differential mode gain is : ');\n",
""
   ]
   }
,
{
		   "cell_type": "markdown",
		   "metadata": {},
		   "source": [
			"## Example 1.7: Common_mode_gain_and_CMRR.sce"
		   ]
		  },
  {
"cell_type": "code",
	   "execution_count": null,
	   "metadata": {
	    "collapsed": true
	   },
	   "outputs": [],
"source": [
"// Example 1.7\n",
"clc;\n",
"clear;\n",
"close;\n",
"// Given data\n",
"format('v',6);\n",
"VEE= 5;// supply voltage in V\n",
"RC= 2*10^3;// collector resistance in Ω\n",
"RE= 4.3;// emitter resistance in kΩ\n",
"VBE= 0.7;// in V\n",
"VT= 26;// in mV\n",
"IE= (VEE-VBE)/(2*RE);//emitter current in mA\n",
"re_desh= VT/IE;//dynamic emitter resistance in Ω\n",
"Ad= RC/(2*re_desh);// differential mode gain\n",
"Acm= RC/(2*RE*10^3+re_desh);// common mode gain\n",
"disp(Acm,'The common mode gain is : ');\n",
"CMRR= Ad/Acm;// common mode rejection ratio\n",
"disp(CMRR,'The CMRR is : ');\n",
"\n",
"\n",
"\n",
""
   ]
   }
,
{
		   "cell_type": "markdown",
		   "metadata": {},
		   "source": [
			"## Example 1.8: Output_voltage.sce"
		   ]
		  },
  {
"cell_type": "code",
	   "execution_count": null,
	   "metadata": {
	    "collapsed": true
	   },
	   "outputs": [],
"source": [
"// Example 1.8\n",
"clc;\n",
"clear;\n",
"close;\n",
"// Given data\n",
"format('v',6);\n",
"VEE= 9;//in V\n",
"VCC= 9;//in V \n",
"RC= 47*10^3;// collector resistance in Ω\n",
"RE= 43*10^3;// emitter resistance in Ω\n",
"vin1= 2.5*10^-3;// in V\n",
"Ri1= 20*10^3;// in Ω\n",
"Ri2= Ri1;// in Ω\n",
"VBE= 0.7;// in V\n",
"VT= 26*10^-3;// in V\n",
"beta1= 75;\n",
"beta2= 75;\n",
"IE= (VEE-VBE)/(2*RE+Ri1/beta1);//emitter current in A\n",
"ICQ= IE;// quiescent current in A\n",
"VCEQ= VCC+VBE-ICQ*RC;// quiescent collector voltage in V\n",
"re_desh= VT/IE;//AC emitter resistance in Ω\n",
"Ad= RC/re_desh;// voltage gain\n",
"vout= Ad*vin1;// output voltage in V\n",
"disp(vout,'The output voltage in volts is : ');"
   ]
   }
,
{
		   "cell_type": "markdown",
		   "metadata": {},
		   "source": [
			"## Example 1.9: Dual_input_unbalanced_output.sce"
		   ]
		  },
  {
"cell_type": "code",
	   "execution_count": null,
	   "metadata": {
	    "collapsed": true
	   },
	   "outputs": [],
"source": [
"// Example 1.9\n",
"clc;\n",
"clear;\n",
"close;\n",
"// Given data\n",
"format('v',7);\n",
"RC= 2.2;//in kΩ\n",
"RE= 4.7;// in kΩ\n",
"Ri1= 50*10^-3;// in kΩ\n",
"Ri2= 50*10^-3;// in kΩ\n",
"VCC= 10;//in V\n",
"VEE= 10;// in V\n",
"VBE= 0.7;// in V\n",
"beta_dc= 100;\n",
"beta_ac= 100;\n",
"\n",
"// Part (i)\n",
"// Formula Used : ICQ= IE= (VEE-VBE)/(2*RE+Ri/beta_dc)\n",
"ICQ= (VEE-VBE)/(2*RE+Ri1/beta_dc);//quiescent collector current in mA\n",
"IE= ICQ;// in mA\n",
"disp('Part (i) : Dual-input, unbalanced output')\n",
"disp(ICQ,'The value of ICQ in mA is : ');\n",
"// Quiescent collector-emitter voltage,\n",
"VCEQ= VCC+VBE-ICQ*RC;// in V\n",
"disp(VCEQ,'The value of VCEQ in volts is : ');\n",
"re_desh= 26/IE;// AC emitter resistance in Ω\n",
"Rin1= 2*beta_ac*re_desh;// input resistance in Ω\n",
"Rin1= Rin1*10^-3;//in kΩ\n",
"Rin2= Rin1;// in kΩ\n",
"disp(Rin1,'The value of Rin1 in kΩ is : ');\n",
"Rout= RC;// in kΩ\n",
"disp(Rout,'The value of Rout in kΩ is : ');\n",
"disp(RC,'The value of RC in kΩ is : ')\n",
"// Formula Used : Ad= Vout/Vind= RC/re_desh\n",
"Ad= RC*10^3/(re_desh*2);// voltage gain of dual input, unbalanced output\n",
"disp(Ad,'The value of Ad is : ');\n",
"\n",
"// Part (ii)\n",
"disp('Part (ii) : Single-output, balanced output');\n",
"disp(ICQ,'The value of ICQ in mA is : ');\n",
"disp(VCEQ,'The value of VCEQ in volts is : ');\n",
"disp(Rin1,'The value of Rin1 in kΩ is : ');\n",
"disp(Rout,'The value of Rout in kΩ is : ');\n",
"disp(RC,'The value of RC in kΩ is : ')\n",
"// Formula Used : Ad= Vout/Vind= RC/re_desh\n",
"Ad= RC*10^3/(re_desh);// voltage gain of dual input, unbalanced output\n",
"disp(Ad,'The value of Ad is : ');\n",
"\n",
""
   ]
   }
],
"metadata": {
		  "kernelspec": {
		   "display_name": "Scilab",
		   "language": "scilab",
		   "name": "scilab"
		  },
		  "language_info": {
		   "file_extension": ".sce",
		   "help_links": [
			{
			 "text": "MetaKernel Magics",
			 "url": "https://github.com/calysto/metakernel/blob/master/metakernel/magics/README.md"
			}
		   ],
		   "mimetype": "text/x-octave",
		   "name": "scilab",
		   "version": "0.7.1"
		  }
		 },
		 "nbformat": 4,
		 "nbformat_minor": 0
}
