{
"cells": [
 {
		   "cell_type": "markdown",
	   "metadata": {},
	   "source": [
       "# Chapter 6: Aircraft Propulsion "
	   ]
	},
{
		   "cell_type": "markdown",
		   "metadata": {},
		   "source": [
			"## Example 6.10: EX6_10.sce"
		   ]
		  },
  {
"cell_type": "code",
	   "execution_count": null,
	   "metadata": {
	    "collapsed": true
	   },
	   "outputs": [],
"source": [
"clc\n",
"clear\n",
"\n",
"//Input data\n",
"h=3000 //Altitude in m\n",
"Pi=0.701 //Inlet pressure in bar\n",
"Ti=268.65 //Inlet temperature in K\n",
"u=525*(5/18) //Flight velocity in m/s\n",
"eff_d=0.875 //Diffuser efficiency\n",
"eff_c=0.79 //Compressor efficiency\n",
"C1=90 //Velocity of air at compressor in m/s\n",
"dTc=230 //Temperature rise through compressor\n",
"k=1.4 //Adiabatic constant of air\n",
"Cp=1005 //Specific heat capacity at constant pressure of air in J/kg-K\n",
"R=287 //Specific gas constant in J/kg-K\n",
"\n",
"//Calculation\n",
"ai=sqrt(k*R*Ti) //Sound velocity in m/s\n",
"Mi=u/ai //Inlet mach number \n",
"Toi=(1+((0.5*(k-1)*Mi^2)))*Ti //Stagnation temperature at diffuser inlet in K\n",
"To1=Toi //Inlet Stagnation temperature of compressor in K, since hoi=ho1 \n",
"T1=To1-(C1^2/(2*Cp)) //Temperature at inlet of compressor in K\n",
"P1=Pi*((1+(eff_d*((T1/Ti)-1)))^(k/(k-1))) //Inlet pressure of compressor in bar\n",
"dPc=P1-Pi //Pressure rise through inlet diffuser in bar\n",
"pr_c=(((eff_c*dTc)/To1)+1)^(k/(k-1)) //Pressure ratio of compressor\n",
"P=Cp*(dTc) //Power required by the compressor in kW/(kg/s)\n",
"eff=1-(1/pr_c^((k-1)/k)) //Air standard efficiency\n",
"\n",
"//Output\n",
"printf('(A)Pressure rise through diffuser is %3.4f bar\n (B)Pressure developed by compressure is %3.4f bar\n (C)Air standard efficiency of the engine is %3.4f',dPc,P1,eff)"
   ]
   }
,
{
		   "cell_type": "markdown",
		   "metadata": {},
		   "source": [
			"## Example 6.11: To_estimate_diameter_power_output_AFR_and_absolute_velocity_of_the_jet.sce"
		   ]
		  },
  {
"cell_type": "code",
	   "execution_count": null,
	   "metadata": {
	    "collapsed": true
	   },
	   "outputs": [],
"source": [
"clc\n",
"clear\n",
"\n",
"//Input data\n",
"h=9500 //Altitude in m\n",
"u=800*(5/18) //Flight velocity in m/s\n",
"eff_prop=0.55 //Propulsive efficiency of the cycle\n",
"eff_o=0.17 //Overall efficiency\n",
"F=6100 //Thrust in N\n",
"d=0.17 //Density in kg/m^3\n",
"CV=46000 //Calorific value in kJ/kg\n",
"\n",
"//Calculation\n",
"mf=(F*u)/(eff_o*CV*10^3) //Mass flow rate of fuel in kg/s\n",
"Cj=((2*u)/(eff_prop))-u //Jet velocity in m/s, wrong calculation in textbook\n",
"Ca=Cj-u //Absolute Jet velocity in m/s\n",
"ma=(F-(mf*Cj))/(Ca) //Mass flow rate of air in kg/s\n",
"m=ma+mf //Mass flow rate of gas in kg/s\n",
"f=ma/mf //Air fuel ratio\n",
"Q=m/d //Volume flow rate in m^3/s\n",
"Dj=sqrt((4*Q)/(%pi*Cj))*10^3 //Diameter of jet in mm, Cj value wrong in textbook \n",
"P=((F*u)/eff_prop)*10^-3 //Power output of engine in kW\n",
"\n",
"//Output\n",
"printf('(A)Diamter of the jet is %3.1f mm\n (B)Power output is %3.1f kW\n (C)Air-fuel ratio is %3.3f\n (D)Absolute velocity of the jet is %3i m/s\n',Dj,P,f,Ca)"
   ]
   }
,
{
		   "cell_type": "markdown",
		   "metadata": {},
		   "source": [
			"## Example 6.12: EX6_12.sce"
		   ]
		  },
  {
"cell_type": "code",
	   "execution_count": null,
	   "metadata": {
	    "collapsed": true
	   },
	   "outputs": [],
"source": [
"clc\n",
"clear\n",
"\n",
"//Input data\n",
"u=960*(5/18) //Flight velocity in m/s\n",
"ma=40 //Mass flow rate of air in kg/s\n",
"AFR=50 //Air fuel ratio\n",
"sig=0.5 //Jet speed ratio, for maximum thrust power\n",
"CV=43000 //Calorific value in kJ/kg\n",
"\n",
"//Calculation\n",
"mf=ma/AFR //Mass flow rate of fuel in kg/s\n",
"m=ma+mf //Mass flow rate of gas in kg/s\n",
"Cj=u/sig //Jet velocity in m/s\n",
"F=((m*Cj)-(ma*u))*10^-3 //Thrust in kN\n",
"Fs=F*10^3/m //Specific thrust in Ns/kg, F in N\n",
"Pt=F*u //Thrust power in kW\n",
"eff_prop=((2*sig)/(1+sig))*100 //Propulsive efficiency of the cycle in %\n",
"eff_ther=((0.5*m*(Cj^2-u^2))/(mf*CV*10^3))*100 //Efficiency of turbine in %\n",
"eff=(eff_prop/100)*(eff_ther/100)*100 //Overall efficiency in %\n",
"TSFC=mf*3600/(F*10^3) //Thrust specific fuel consumption in kg/Nhr\n",
"\n",
"//Output\n",
"printf('(A)Jet velocity is %3.1f m/s\n (B)Thrust is %3.3f kN\n (C)Specific thrust is %3.2f N-s/kg\n (D)Thrust power is %3.2f kW\n (E)propulsive, thermal and overall efficiency is %3.2f, %3.2f and %3.3f respectively\n (F)Thrust specific fuel consumption is %3.4f kg/Nhr',Cj,F,Fs,Pt,eff_prop,eff_ther,eff,TSFC)"
   ]
   }
,
{
		   "cell_type": "markdown",
		   "metadata": {},
		   "source": [
			"## Example 6.13: To_jet_velocity_fuel_rate_TSFC_propulsive_power_and_efficiencies.sce"
		   ]
		  },
  {
"cell_type": "code",
	   "execution_count": null,
	   "metadata": {
	    "collapsed": true
	   },
	   "outputs": [],
"source": [
"clc\n",
"clear\n",
"\n",
"//Input data\n",
"u=960*(5/18) //Flight velocity in m/s\n",
"ma=54.5 //Mass flow rate of air in kg/s\n",
"dh=200 //Change of enthalpy for nozzle in kJ/kg\n",
"Cv=0.97 //Velocity coefficient \n",
"AFR=75 //Air fuel ratio \n",
"eff_cc=0.93 //Combustion efficiency\n",
"CV=45000 //Calorific value in kJ/kg\n",
"\n",
"//Calculation\n",
"mf=ma/AFR //Mass flow rate of fuel in kg/s\n",
"Cj=Cv*sqrt(2*dh*10^3) //Jet velocity in m/s\n",
"F=ma*(Cj-u) //Thrust in kN\n",
"TSFC=mf*3600/(F) //Thrust specific fuel consumption in kg/Nhr\n",
"HS=mf*eff_cc*CV //Heat supplied in kJ/s\n",
"Pp=0.5*ma*(Cj^2-u^2)*10^-3 //Propulsive power in kW\n",
"Pt=F*u //Thrust power in kW\n",
"eff_p=Pt/(Pp*10^3) //Propulsive efficiency of the cycle\n",
"eff_t=Pp/HS //Efficiency of turbine\n",
"eff_o=Pt*10^-3/HS  //Overall efficiency\n",
"\n",
"//Output\n",
"printf('(A)Exit velocity of the jet is %3.2f m/s\n (B)Fuel rate is %3.4f kg/s\n (C)Thrust specific fuel consumption is %3.5f kg/Nhr\n (D)Thermal efficiency is %3.3f\n (E)Propulsive power is %3.2f kW\n (F)Propulsive efficiency is %3.4f\n (G)Overall efficiency is %3.5f',Cj,mf,TSFC,eff_t,Pp,eff_p,eff_o)"
   ]
   }
,
{
		   "cell_type": "markdown",
		   "metadata": {},
		   "source": [
			"## Example 6.14: EX6_14.sce"
		   ]
		  },
  {
"cell_type": "code",
	   "execution_count": null,
	   "metadata": {
	    "collapsed": true
	   },
	   "outputs": [],
"source": [
"clc\n",
"clear\n",
"\n",
"//Input data\n",
"u=750*(5/18) //Flight velocity in m/s\n",
"h=10000 //Altitude in m\n",
"eff_p=0.5 //Propulsive efficiency of the cycle\n",
"eff_o=0.16 //Overall efficiency\n",
"d=0.173 //Density in kg/m^3\n",
"F=6250 //Thrust in N\n",
"CV=45000 //Calorific value in kJ/kg\n",
"\n",
"//Calculation\n",
"sig=eff_p/(2-eff_p) //Jet speed ratio\n",
"Cj=u/sig //Jet velocity in m/s\n",
"Ca=Cj-u //Absolute Jet velocity in m/s\n",
"ma=F/Ca //Mass flow rate of air in kg/s\n",
"Q=ma*60/d //Volume flow rate in m^3/min\n",
"A=Q/(Cj*60) //Area of flow in m^2\n",
"D=sqrt((4*A)/(%pi))*10^3 //Diameter in mm\n",
"Pt=F*u //Thrust power in W\n",
"Pp=(Pt/eff_p)*10^-3  //Propulsive power in kW\n",
"eff_t=eff_o/eff_p //Efficiency of turbine\n",
"HS=Pp/eff_t //Heat supplied in kJ/s\n",
"mf=HS/CV //Mass flow rate of fuel in kg/s\n",
"AFR=ma/mf //Air fuel ratio \n",
"\n",
"//Output\n",
"printf('(A)Absolute velocity of the jet is %3.2f m/s\n (B)Volume of air compressed per minute is %3.2f m^3/min\n (C)Diameter of the jet is %3i mm\n (D)Power unit of the unit is %3.3f kW\n (E)Air fuel ratio is %3.1f',Ca,Q,D,Pp,AFR)"
   ]
   }
,
{
		   "cell_type": "markdown",
		   "metadata": {},
		   "source": [
			"## Example 6.15: To_estimate_AFR_nozzle_thrust_propeller_thrust_and_mass_flow_rate.sce"
		   ]
		  },
  {
"cell_type": "code",
	   "execution_count": null,
	   "metadata": {
	    "collapsed": true
	   },
	   "outputs": [],
"source": [
"clc\n",
"clear\n",
"\n",
"//Input data\n",
"P1=0.56 //Inlet pressure of compressor in bar\n",
"T1=260 //Temperature at inlet of compressor in K\n",
"pr_c=6 //Pressure ratio of compressor\n",
"eff_c=0.85 //Compressor efficiency\n",
"u=360*(5/18) //Flight velocity in m/s\n",
"D=3 //Propeller diameter in m \n",
"eff_p=0.8 //Efficiency of propeller \n",
"eff_g=0.95 //Gear reduction efficiency \n",
"pr_t=5 //Expansion ratio\n",
"eff_t=0.88 //Turbine efficiency\n",
"T3=1100 //temperature at turbine inlet in K\n",
"eff_n=0.9 //Nozzle efficiency \n",
"Cp=1005 //Specific heat capacity at constant pressure of air in J/kg-K\n",
"CV=40000 //Calorific value in kJ/kg\n",
"k=1.4 //Adiabatic constant of air\n",
"R=287 //Specific gas constant in J/kg-K\n",
"\n",
"//Calculation\n",
"P2=pr_c*P1 //Exit pressure of compressor in bar\n",
"T2s=T1*(pr_c)^((k-1)/k) //Exit temperature of compressor at isentropic proces in K\n",
"T2=T1+((T2s-T1)/eff_c) //Exit temperature of compressor in K\n",
"Wc=Cp*(T2-T1)*10^-3 //Power input to compressor in kJ/kg of air\n",
"C1=u //Air velocity in m/s, since C1 is resultant of u\n",
"C=C1/eff_p //Average velocity in m/s\n",
"C2=(2*C)-C1 //Exit velocity from compressor in m/s\n",
"Ap=0.25*%pi*D^2 //Area of propeller passage in m^2\n",
"Q=Ap*C //Quantity of air inducted in m^3/s\n",
"mf=((T3-T2)*Cp)/((CV*10^3)-(Cp*T3)) //Mass flow rate of fuel in kg/s\n",
"f=mf //Fuel consumption in kg/kg of air\n",
"AFR=1/mf //Air fuel ratio\n",
"P3=P2 //Exit pressure of combustion chamber in bar, Since process is at constant pressure \n",
"P4=P3/pr_t //Exit pressure of turbine in bar\n",
"T4s=T3/((pr_t)^((k-1)/k)) //Exit temperature of turbine at isentropic proces in K, wrong calculation\n",
"T4=T3-(eff_t*(T3-T4s)) //Exit temperature of turbine in K\n",
"Po=(1+f)*Cp*(T3-T4)*10^-3 //Power output per kg of air in kJ/kg of air\n",
"Pa=Po-Wc //Power available for propeller in kJ/kg of air\n",
"Pe=P1 //Exit pressure in bar, Since exit is at ambient conditions\n",
"Tes=T4/((P4/Pe)^((k-1)/k)) //Exit temperature of nozzle at isentropic proces in K\n",
"Cj=sqrt(2*Cp*eff_n*(T4-Tes)) //Jet velocity in m/s\n",
"Fs=((1+f)*Cj)-u //Specific thrust in Ns/kg, F in N\n",
"Pp=((0.5*P1*10^5*Q*(C2^2-C1^2))/(R*T1))*10^-3 //Propulsive power by propeller in kJ/s\n",
"Ps=Pp/eff_g //Power supplied by the turbine in kW\n",
"ma=Ps/Pa //Air flow rate in kg/s\n",
"Fj=ma*Cj*10^-3 //Jet thrust in kN, calculation mistake\n",
"Fp=(Pp*eff_p)/u //Thrust produced by propeller in kN\n",
"\n",
"//Output\n",
"printf('(A)Air fuel ratio is %3.2f\n (B)Thrust produced by the nozzle is %3.3f kN\n (C)Thrust by the propeller is %3.3f kN\n (D)mass flow rate through the compressor is %3.2f kg/s',AFR,Fj,Fp,ma)"
   ]
   }
,
{
		   "cell_type": "markdown",
		   "metadata": {},
		   "source": [
			"## Example 6.16: To_find_various_parameters_of_ramjet_engine_through_out_its_operation.sce"
		   ]
		  },
  {
"cell_type": "code",
	   "execution_count": null,
	   "metadata": {
	    "collapsed": true
	   },
	   "outputs": [],
"source": [
"clc\n",
"clear\n",
"\n",
"//Input data\n",
"M1=1.5 //Mach number  \n",
"h=6500 //Altitude in m\n",
"D=0.5 //Diameter in m \n",
"To4=1600 //Stagnation temperature at nozzle inlet in K\n",
"CV=40000 //Calorific value in kJ/kg\n",
"k=1.4 //Adiabatic constant of air\n",
"R=287 //Specific gas constant in J/kg-K\n",
"eff_d=0.9 //Diffuser efficiency \n",
"eff_cc=0.98 //Combustion efficiency\n",
"eff_n=0.96 //Nozzle efficiency \n",
"pr_l=0.02 //Pressure ratio i.e. Stagnation pressure loss to Exit presure of compressor\n",
"Cp=1005 //Specific heat capacity at constant pressure of air in J/kg-K\n",
"\n",
"//Calculation\n",
"P1=0.44 //Inlet pressure of compressor in bar\n",
"T1=245.9  //Temperature at inlet of compressor in K\n",
"a1=314.5 //Sound velocity at compressor in m/s \n",
"d1=0.624 //Density at compressor in kg/m^3 \n",
"A1=0.25*%pi*D^2 //Area at diffuser inlet in m^2\n",
"u1=M1*a1 //Flight velocity in m/s\n",
"ma=d1*A1*u1 //Mass flow rate of air in kg/s\n",
"To2=T1*(1+(((k-1)/2)*M1^2)) //Stagnation temperature at commpressor inlet in K\n",
"To1=To2 //Stagnation temperature at commpressor outlet in K, (It is in case of diffuser)\n",
"pr_d=((eff_d*(((k-1)/2)*M1^2))+1)^(k/(k-1)) //Pressure ratio of diffuser \n",
"P2=pr_d*P1 //Exit pressure of compressor in bar\n",
"Po2=P2 //Stagnation pressure at exit of compressor in bar \n",
"Po3=(Po2-(pr_l*Po2)) //Stagnation pressure at exit of combustion chamber in bar \n",
"Poe=P1 //Exit stagnation pressure in kPa, Since exit is at ambient conditions\n",
"pr_n=Po3/Poe //Pressure ratio of nozzle\n",
"p1=1/pr_n //Inverse of pr_n to find in gas tables \n",
"M4s=1.41 //Mach number at turbine exit  from gas tables \n",
"T4s=To4/(1+((0.5*(k-1)*M4s^2))) //Exit temperature of turbine at isentropic process in K\n",
"To3=To4 //Stagnation temperature at inlet turbine in K,\n",
"T4=To3-(eff_n*(To3-T4s)) //Exit temperature of turbine in K\n",
"C4=sqrt(2*Cp*(To4-T4)) //Flight velocity of air in m/s\n",
"a4=sqrt(k*R*T4) //Sound velocity in m/s\n",
"Me=C4/a4 //Nozzle jet mach number\n",
"f=(Cp*(To3-To2))/(eff_cc*CV*10^3) //Fuel air ratio\n",
"mf=ma*f //Mass flow rate of fuel in kg/s\n",
"m=ma+mf //Mass flow rate of gas in kg/s\n",
"eff_i=(1/(1+((2/(k-1))*(1/M1^2))))*100 //Efficiency of the ideal cycle in %\n",
"sig=u1/C4 //Jet speed ratio \n",
"eff_p=((2*sig)/(1+sig)) //Propulsive efficiency in %\n",
"F=((m*C4)-(ma*u1))*10^-3 //Thrust in kN\n",
"\n",
"//Output\n",
"printf('(A)Efficiency of the ideal cycle is %3i percent\n (B)Flight speed is %3.3f m/s\n (C)Air flow rate is %3.3f kg/s\n (D)Diffuser pressure ratio is %3.4f\n (E)Fuel air ratio is %3.5f\n (F)Nozzle pressure ratio is %3.2f\n (G)Nozzle jet mach number is %3.3f\n (H)Propulsive efficiency is %3.4f percent\n (I)Thrust is %3.3f kN',eff_i,C4,ma,pr_d,f,pr_n,Me,eff_p,F)"
   ]
   }
,
{
		   "cell_type": "markdown",
		   "metadata": {},
		   "source": [
			"## Example 6.17: EX6_17.sce"
		   ]
		  },
  {
"cell_type": "code",
	   "execution_count": null,
	   "metadata": {
	    "collapsed": true
	   },
	   "outputs": [],
"source": [
"clc\n",
"clear\n",
"\n",
"//Input data\n",
"ma=18 //Mass flow rate of air in kg/s\n",
"Mi=0.6 //Inlet mach number \n",
"h=4600 //Altitude in m\n",
"Pi=55 //Inlet pressure in \n",
"Ti=-20+273 //Inlet temperature in K\n",
"eff_d=0.9 //Diffuser efficiency \n",
"pr_d=5 //Diffuser pressure ratio \n",
"T3=1000+273 //Inlet turbine temperature in K\n",
"Pe=60 //Exit pressure in kPa\n",
"eff_c=0.81 //Compressor efficiency\n",
"eff_t=0.85 //Turbine efficiency\n",
"eff_n=0.915 //Nozzle efficiency\n",
"CV=46520 //Calorific value in kJ/kg\n",
"Cp=1005 //Specific heat capacity at constant pressure of air in J/kg-K\n",
"k=1.4 //Adiabatic constant \n",
"R=287 //Specific gas constant in J/kg-K\n",
"\n",
"//Calculation\n",
"Ci=Mi*sqrt(k*R*Ti) //Velocity of air in m/s,\n",
"u=Ci //Flight velocity in m/s, Since it is reaction force of Ci\n",
"T1=Ti+(Ci^2/(2*Cp)) //Temperature at inlet of compressor in K\n",
"P1s=Pi*(T1/Ti)^(k/(k-1)) //Inlet pressure of compressor at isentropic process in kPa\n",
"P1=Pi+(eff_d*(P1s-Pi)) //Inlet pressure of compressor in kPa\n",
"P2=P1*pr_d //Outlet pressure of compressor in kPa\n",
"T2s=T1*(pr_d)^((k-1)/k) //Outlet temperature of compressor at isentropic process in K\n",
"T2=T1+((T2s-T1)/eff_c) //Exit temperature of compressor in K\n",
"Wc=Cp*(T2-T1)*10^-3 //Workdone on compressor in kJ/kg of air\n",
"Pc=ma*Wc //Power input in kW\n",
"Pt=Pc //Power out put of turbine for isentropic process in kW \n",
"f=(T3-T2)/((CV*10^3/Cp)-T3) //Fuel air ratio\n",
"Wt=Wc //Workdone by the turbine in kJ/kg of air\n",
"T4=T3-(Wt*10^3/Cp) //Exit temperature of turbine in K\n",
"T4s=T3-((T3-T4)/eff_t) //Exit temperature of turbine at isentropic process in K\n",
"P3=P2 //Exit pressure of combustion chamber in kPa, Since the process takes place at constant pressure process\n",
"P4=P3*(T4s/T3)^(k/(k-1)) //Pressure at outlet of turbine in kPa\n",
"pr_n=P4/Pe //Pressure ratio of nozzle\n",
"Tes=T4/(pr_n)^((k-1)/k) //Exit temperature of nozzle  at isentropic process in K\n",
"Te=T4-(eff_n*(T4-Tes)) //Exit temperature of nozzle in K\n",
"Cj=sqrt(2*Cp*(T4-Te)) //Jet velocity in m/s\n",
"Ce=Cj //Flight velocity in m/s\n",
"ae=sqrt(k*R*Te) //Sound velocity at nozzle in m/s\n",
"Me=Ce/ae //Nozzle jet mach number\n",
"F=ma*(((1+f)*Cj)-u) //Thrust in N\n",
"P=F*u*10^-3 //Thrust power in kW\n",
"\n",
"//Output\n",
"printf('(A)Power input of compressor is %3.2f kW\n (B)Power output of turbine is %3.2f kW\n (C)F/A ratio on mass basis is %3.4f\n (D)Exit mach number is %3.3f\n (E)Thrust is %3.2f N\n (F)Thrust power is %3.1f kW',Pc,Pt,f,Me,F,P)"
   ]
   }
,
{
		   "cell_type": "markdown",
		   "metadata": {},
		   "source": [
			"## Example 6.1: To_calculate_thrust_and_specific_thrust_of_jet_propulsion.sce"
		   ]
		  },
  {
"cell_type": "code",
	   "execution_count": null,
	   "metadata": {
	    "collapsed": true
	   },
	   "outputs": [],
"source": [
"clc\n",
"clear\n",
"\n",
"//Input data\n",
"eff_com=0.8 //Compressor efficiency\n",
"eff_t=0.85 //Turbine efficiency\n",
"pr=4 //Pressure ratio including combustion pressure loss(Po2s/Po1)\n",
"eff_c=0.98 //Combustion efficiency\n",
"eff_m=0.99 //Mechanical transmission efficiency \n",
"eff_n=0.9 //Nozzle efficiency \n",
"Tmax=1000 //Maximum cycle temperature in K\n",
"To3=Tmax //Stagnation temperature before turbine inlet in K\n",
"w=220 //mass flow rate in N/s\n",
"Cp_air=1005 //Specific heat capacity at constant pressure in J/kg-K\n",
"k=1.4 //Adiabatic constant for air\n",
"Cp_gas=1153 //Specific heat capacity at constant pressure in J/kg-K\n",
"k_gas=1.3 //Adiabatic constant\n",
"To1=15+273 //Inlet Stagnation temperature of compressor in K\n",
"Po1=1 //Inlet Stagnation pressure in bar\n",
"Poe=Po1 //Exit stagnation pressure in bar, Since exit at ambient conditions\n",
"g=9.81 //Acceleration due to gravity in m/s^2\n",
"\n",
"//Calculation  \n",
"To2s=To1*(pr)^((k-1)/k) //Exit Stagnation temperature of compressor at isentropic process in K\n",
"To2=((To2s-To1)/eff_com)+To1 //Exit Stagnation temperature of compressor in K\n",
"Wc=(Cp_air*(To2-To1)) //Work given to compressor in J/kg, Cp in J/kg-K\n",
"To4=To3-(Wc/Cp_gas*eff_m) //Exit Stagnation temperature of turbine in K\n",
"To4s=To3-((To3-To4)/eff_t) //Exit Stagnation temperature of turbine at isentropic process in K\n",
"Po2=Po1*pr //Exit Stagnation pressure of compressor in bar\n",
"Po3=Po2 //Exit Stagnation pressure of combustion chamber in bar, Since the process takes place at constant pressure process \n",
"p1=(To3/To4s)^(k_gas/(k_gas-1)) //Stagnation Pressure ratio of inlet and outlet of turbine  \n",
"Po4s=Po3/p1 //Stagnation Pressure at outlet of turbine at isentropic process in bar  \n",
"pr_n=Po4s/Poe //Pressure ratio of nozzle\n",
"Toes=To4/((pr_n)^((k_gas-1)/k_gas)) //Exit Stagnation temperature of nozzle at isentropic process in K\n",
"Toe=To4-((To4-Toes)*eff_n) //Exit Stagnation temperature of nozzle in K\n",
"Cj=sqrt(2*Cp_gas*(To4-Toe)) //Jet velocity in m/s\n",
"m=w/g //Mass flow rate of air in kg/s\n",
"F=m*Cj*10^-3 //Thrust in kN\n",
"Fs=(F*10^3)/m  //Specific thrust in Ns/kg, F in N\n",
"Is=F/w //Specific impulse in sec\n",
"\n",
"//Output\n",
"printf('(A)Thrust is %3.3f kN\n (B)Specific thrust is %3.2f Ns/kg',F,Fs)"
   ]
   }
,
{
		   "cell_type": "markdown",
		   "metadata": {},
		   "source": [
			"## Example 6.2: To_find_thrust_developed_thrust_power_and_propulsive_efficiency.sce"
		   ]
		  },
  {
"cell_type": "code",
	   "execution_count": null,
	   "metadata": {
	    "collapsed": true
	   },
	   "outputs": [],
"source": [
"clc\n",
"clear\n",
"\n",
"//Input data\n",
"u=800*(5/18) //Flight velocity in m/s\n",
"Pe=60 //Ambient pressure in kPa\n",
"Pn=300 //Pressure entering nozzle in kPa \n",
"Tn=200+273 //Temperature entering nozzle in K \n",
"m=20 //Mass flow rate of air in kg/s\n",
"Cp=1005 //Specific heat capacity at constant pressure in J/kg-K\n",
"k=1.4 //Adiabatic constant for air\n",
"\n",
"//Calculation\n",
"Te=Tn*(Pe/Pn)^((k-1)/k) //Exit temperature of nozzle in K\n",
"Cj=sqrt(2*Cp*(Tn-Te)) //Jet velocity in m/s\n",
"F=m*(Cj-u) //Thrust in N\n",
"P=F*u*10^-3 //Thrust power in kW\n",
"eff=((2*u)/(Cj+u))*100 //Propulsive efficiency in percent\n",
"\n",
"\n",
"//Output\n",
"printf('(A)Thrust developed is %3.1f N\n (B)Thrust developed is %3.2f kW\n (C)Propulsive efficiency is %3.3f percent',F,P,eff)"
   ]
   }
,
{
		   "cell_type": "markdown",
		   "metadata": {},
		   "source": [
			"## Example 6.3: EX6_3.sce"
		   ]
		  },
  {
"cell_type": "code",
	   "execution_count": null,
	   "metadata": {
	    "collapsed": true
	   },
	   "outputs": [],
"source": [
"clc\n",
"clear\n",
"\n",
"//Input data\n",
"Mi=0.8 //Inlet mach number \n",
"h=10000 //Altitude in m\n",
"pr_c=8 //Pressure ratio of compressor\n",
"To3=1200 //Stagnation temperature at turbine inlet in K\n",
"eff_c=0.87 //Compressor efficiency\n",
"eff_t=0.9 //Turbine efficiency\n",
"eff_d=0.93 //Diffuser efficiency \n",
"eff_n=0.95  //Nozzle efficiency \n",
"eff_m=0.99 //Mechanical transmission efficiency\n",
"eff_cc=0.98 //Combustion efficiency\n",
"pl=0.04 //Ratio of combustion pressure loss to compressor delivery pressure \n",
"k=1.4 //Adiabatic constant of air\n",
"R=287 //Specific gas constant in J/kg-K\n",
"k_g=1.33 //Adiabatic constant of gas \n",
"Cp_a=1005 //Specific heat capacity at constant pressure of air in J/kg-K\n",
"Cp_g=1100 //Specific heat capacity at constant pressure of gas in J/kg-K\n",
"CV=43000000 //Calorific value in J/kg (Assume)\n",
"\n",
"//Calculation\n",
"Ti=223.15 //Inlet temperature in K from gas tables\n",
"Pi=26.4 //Inlet pressure in kPa from gas tables \n",
"ai=sqrt(k*R*Ti) //Sound velocity in m/s\n",
"Ci=ai*Mi //Velocity of air in m/s,\n",
"u=Ci //Flight velocity in m/s, Since it is reaction force of Ci\n",
"t1=0.886 //Ratio of static to stagnation temperature a entry from gas tables at M=0.8 \n",
"To1s=Ti/t1 //Stagnation temperature at inlet of compressor at isentropic process in K\n",
"To1=((To1s-Ti)/eff_d)+Ti //Stagnation temperature at inlet of compressor in K\n",
"p1=(To1s/Ti)^(k/(k-1)) //Pressure ratio i.e. (Po1s/Pi)\n",
"Po1s=Pi*p1 //inlet Stagnation pressure of compressor at isentropic process in kPa\n",
"Po1=Po1s //Inlet Stagnation pressure of compressor in kPa\n",
"Po2=pr_c*Po1 //Exit Stagnation pressure of compressor in kPa\n",
"To2s=To1s*(Po2/Po1)^((k-1)/k) //Exit Stagnation temperature of compressor at isentropic process in K\n",
"To2=((To2s-To1)/eff_c)+To1 //Exit Stagnation temperature of compressor in K\n",
"P_los=pl*Po2 //combustion pressure loss in kPa\n",
"Po3=Po2-P_los //Exit Stagnation pressure of combustion chamber in kPa\n",
"To4=To3-((Cp_a*(To2-To1))/(eff_m*Cp_g)) //Exit Stagnation temperature of turbine in K\n",
"To4s=To3-((To3-To4)/eff_t) //Exit Stagnation temperature of turbine at isentropic process in K\n",
"p1=(To3/To4s)^(k_g/(k_g-1)) //Pressure ratio i.e. (Po3/Po4s)\n",
"Po4s=Po3/p1 //Stagnation Pressure at outlet of turbine at isentropic process in kPa\n",
"Poe=Pi //Exit stagnation pressure in kPa, Since exit is at ambient conditions\n",
"pr_n=Po4s/Poe //Pressure ratio of nozzle\n",
"Toes=To4/((pr_n)^((k_g-1)/k_g)) //Exit Stagnation temperature of nozzle at isentropic process in K\n",
"Toe=To4-((To4-Toes)*eff_n) //Exit Stagnation temperature of nozzle in K\n",
"Cj=sqrt(2*Cp_g*(To4-Toe)) //Jet velocity in m/s\n",
"Fs=Cj-u //Specific thrust in Ns/kg\n",
"f=((Cp_g*To3)-(Cp_a*To2))/((eff_cc*CV)-(Cp_g*To3)) //Fuel-air ratio\n",
"TSFC=(f/Fs)*10^5 //Thrust specific fuel consumption in kg/s-N x10^-5\n",
"\n",
"//Output\n",
"printf('(A)Specific thrust is %3.2f Ns/kg\n (B)Thrust specific fuel consumption is %3.3fx10^-5 kg/s-N',Fs,TSFC)"
   ]
   }
,
{
		   "cell_type": "markdown",
		   "metadata": {},
		   "source": [
			"## Example 6.4: To_estimate_properties_at_exit_and_propulsive_efficiency_of_a_turbojet_aircraft.sce"
		   ]
		  },
  {
"cell_type": "code",
	   "execution_count": null,
	   "metadata": {
	    "collapsed": true
	   },
	   "outputs": [],
"source": [
"clc\n",
"clear\n",
"\n",
"//Input data\n",
"u=300 //Flight velocity in m/s\n",
"Pi=35 //Inlet pressure in kPa\n",
"Ti=-40+273 //Inlet temperature in K\n",
"pr_c=10 //Pressure ratio of compressor\n",
"T3=1100+273 //Inlet turbine temperature in K\n",
"m=50 //Mass flow rate of air in kg/s\n",
"k=1.4 //Adiabatic constant of air\n",
"Cp=1005 //Specific heat capacity at constant pressure of air in J/kg-K\n",
"R=287 //Specific gas constant in J/kg-K\n",
"\n",
"//Calculation\n",
"ai=sqrt(k*R*Ti) //Sound velocity at diffuser in m/s\n",
"C1=u //Velocity of air in m/s, Since it is reaction force of u\n",
"T1=Ti+(C1^2/(2*Cp)) //Temperature at inlet of compressor in K\n",
"P1=Pi*((T1/Ti)^(k/(k-1))) //Inlet pressure of compressor in kPa\n",
"P2=pr_c*P1 //Exit pressure of compressor in kPa\n",
"P3=P2 //Exit pressure of combustion chamber in kPa, Since the process takes place at constant pressure process \n",
"T2=T1*(P2/P1)^((k-1)/k) //Exit temperature of compressor in K\n",
"T4=T3-(T2-T1) //Exit temperature of turbine in K\n",
"P4=P3/((T3/T4)^(k/(k-1))) //Pressure at outlet of turbine in kPa\n",
"Pe=Pi //Exit pressure in kPa, Since exit is at ambient conditions\n",
"pr_n=P4/Pe //Pressure ratio of nozzle\n",
"Te=T4/((pr_n)^((k-1)/k)) //Exit temperature of nozzle in K\n",
"Cj=sqrt(2*Cp*(T4-Te)) //Jet velocity in m/s\n",
"sig=u/Cj //Jet speed ratio \n",
"eff_prop=((2*sig)/(1+sig))*100 //Propulsive efficiency of the cycle in %\n",
"\n",
"//Output\n",
"printf('(A)Temperature and pressure of gases at turbine exit is %3.2f K and %3i kPa\n (B)Velocity of gases is %3.2f m/s\n (C)Propulsive efficiency of the cycle is %3.2f percent',T4,P4,Cj,eff_prop)"
   ]
   }
,
{
		   "cell_type": "markdown",
		   "metadata": {},
		   "source": [
			"## Example 6.5: To_calculate_absolute_velocity_drag_overall_and_turbine_efficiency_of_jet.sce"
		   ]
		  },
  {
"cell_type": "code",
	   "execution_count": null,
	   "metadata": {
	    "collapsed": true
	   },
	   "outputs": [],
"source": [
"clc\n",
"clear\n",
"\n",
"//Input data\n",
"n=2 //Number of jets\n",
"D=0.25 //Diameter of turbojet in m\n",
"P=3000 //Net power at turbojet in W\n",
"mf_kWh=0.42 //Fuel consumption in kg/kWh \n",
"CV=49000 //Calorific value in kJ/kg\n",
"u=300 //Flight velocity in m/s\n",
"d=0.168 //Density in kg/m^3\n",
"AFR=53 //Air fuel ratio \n",
"\n",
"//Calculatioon\n",
"mf=mf_kWh*P/3600 //Mass flow rate of fuel in kg/s\n",
"ma=AFR*mf //Mass flow rate of air in kg/s\n",
"m=ma+mf //Mass flow rate of gas in kg/s\n",
"Q=m/d //Volume flow rate in m^3/s\n",
"Cj=(Q*4)/(2*%pi*D^2) //Jet velocity in m/s\n",
"Ca=Cj-u //Absolute Jet velocity in m/s\n",
"F=((m*Cj)-(ma*u))*10^-3 //Thrust in kN\n",
"eff=((F*u)/(mf*CV))*100 //Overall efficiency in %\n",
"eff_prop=((2*u)/(Cj+u))*100 //Propulsive efficiency of the cycle in %\n",
"eff_ther=(eff/eff_prop)*100 //Efficiency of turbine in %\n",
"\n",
"//Output\n",
"printf('(A)Absolute velocity of jet is %3.3f m/s\n (B)Resistance of the plane is %3.4f kN\n (C)Overall efficiency is %3.2f percent\n (D)Efficiency of turbine is %3.3f percent',Ca,F,eff,eff_ther)"
   ]
   }
,
{
		   "cell_type": "markdown",
		   "metadata": {},
		   "source": [
			"## Example 6.6: EX6_6.sce"
		   ]
		  },
  {
"cell_type": "code",
	   "execution_count": null,
	   "metadata": {
	    "collapsed": true
	   },
	   "outputs": [],
"source": [
"clc\n",
"clear\n",
"\n",
"//Input data\n",
"u=900*(5/18) //Flight velocity in m/s\n",
"ma=3000/60 //Mass flow rate of air in kg/s\n",
"dh=200 //Enthalpy drop of nozzle in kJ/kg\n",
"eff_n=0.9 //Nozzle efficiency \n",
"AFR=85 //Air fuel ratio \n",
"eff_cc=0.95 //Combustion efficiency\n",
"CV=42000 //Calorific value in kJ/kg\n",
"\n",
"//Calculation\n",
"mf=ma/AFR //Mass flow rate of fuel in kg/s\n",
"m=ma+mf //Mass flow rate of gas in kg/s\n",
"Cj=sqrt(2*eff_n*dh*10^3) //Jet velocity in m/s\n",
"sig=u/Cj //Jet speed ratio \n",
"F=((m*Cj)-(ma*u))*10^-3 //Thrust in kN\n",
"Pt=F*u //Thrust power in kW\n",
"Pp=0.5*((m*Cj^2)-(ma*u^2))*10^-3 //Propulsive power in kW\n",
"HS=eff_cc*mf*CV //Heat supplied in kW\n",
"eff_ther=(Pp/HS)*100 //Efficiency of turbine in %\n",
"eff_prop=(Pt/Pp)*100 //Propulsive efficiency of the cycle in %\n",
"eff=(Pt/HS)*100 //Overall efficiency in %\n",
"\n",
"//Output\n",
"printf('(A)Propulsive power is %3.2f kW\n (B)Thrust power is %3.1f kW\n (C)Propulsive efficiency is %3.3f percent\n (D)Thermal efficiency is %3.2f percent\n (E)Total fuel consumption is %3.3f kg/s\n (F)Overall efficiency is %3.3f percent',Pp,Pt,eff_prop,eff_ther,mf,eff)"
   ]
   }
,
{
		   "cell_type": "markdown",
		   "metadata": {},
		   "source": [
			"## Example 6.7: EX6_7.sce"
		   ]
		  },
  {
"cell_type": "code",
	   "execution_count": null,
	   "metadata": {
	    "collapsed": true
	   },
	   "outputs": [],
"source": [
"clc\n",
"clear\n",
"\n",
"//Input data\n",
"M=0.8 //Mach number \n",
"CV=42800 //Calorific value in kJ/kg\n",
"h=10 //Altitude in km\n",
"F=50 //Thrust in kN\n",
"ma=45 //Mass flow rate of air in kg/s\n",
"mf=2.65 //Mass flow rate of fuel in kg/s\n",
"\n",
"//Calculation\n",
"m=ma+mf //Mass flow rate of gas in kg/s\n",
"a=299.6 //Sound velocity in m/s, from gas tables\n",
"T=233.15 //Inlet temperature in K \n",
"u=a*M //Flight velocity in m/s\n",
"Cj=((F*10^3)+(ma*u))/m //Jet velocity in m/s\n",
"sig=u/Cj //Jet speed ratio \n",
"Fs=F*10^3/m //Specific thrust in Ns/kg, F in N\n",
"TSFC=mf*3600/(F*10^3) //Thrust specific fuel consumption in kg/N-hr, F in N\n",
"Pt=F*u //Thrust power in kW\n",
"Pp=0.5*((m*Cj^2)-(ma*u^2))*10^-3 //Propulsive power in kW\n",
"HS=mf*CV //Heat supplied in kW\n",
"eff_ther=(Pp/HS)*100 //Efficiency of turbine in %\n",
"eff_prop=(Pt/Pp)*100 //Propulsive efficiency of the cycle in %\n",
"eff=(Pt/HS)*100 //Overall efficiency in %\n",
"\n",
"//Output \n",
"printf('(A)Specific thrust is %3.2f N/kg\n (B)Thrust specific fuel consumption is %3.4f kg/N-hr\n (C)Jet velocity is %3.3f m/s\n (D)Thermal efficiency is %3.2f percent\n (E)Propulsive efficiency is %3.3f percent\n (F)Overall efficiency is %3.2f percent',Fs,TSFC,Cj,eff_ther,eff_prop,eff)"
   ]
   }
,
{
		   "cell_type": "markdown",
		   "metadata": {},
		   "source": [
			"## Example 6.8: To_calculate_fuel_air_and_pressure_ratios_and_Mach_number_of_jet.sce"
		   ]
		  },
  {
"cell_type": "code",
	   "execution_count": null,
	   "metadata": {
	    "collapsed": true
	   },
	   "outputs": [],
"source": [
"clc\n",
"clear\n",
"\n",
"//Input data\n",
"Mi=0.8 //Inlet mach number \n",
"h=10 //Altitude in km\n",
"To3=1200 //Stagnation temperature before turbine inlet in K\n",
"dTc=175 //Stagnation temperature rise through the compressor in K\n",
"CV=43000 //Calorific value in kJ/kg\n",
"eff_c=0.75 //Compressor efficiency\n",
"eff_cc=0.75 //Combustion efficiency\n",
"eff_t=0.81 //Turbine efficiency\n",
"eff_m=0.98 //Mechanical transmission efficiency\n",
"eff_n=0.97 //Nozzle efficiency \n",
"Is=25 //Specific impulse in sec\n",
"k=1.4 //Adiabatic constant of air\n",
"R=287 //Specific gas constant in J/kg-K\n",
"Cp=1005 //Specific heat capacity at constant pressure of air in J/kg-K\n",
"g=9.81 //Acceleration due to gravity in m/s^2\n",
"\n",
"//Calculation\n",
"Ti=223.15 //Inlet temperature in K from gas tables\n",
"ai=sqrt(k*R*Ti) //Sound velocity in m/s\n",
"Toi=(1+((0.5*(k-1)*Mi^2)))*Ti //Stagnation temperature at diffuser inlet in K\n",
"To1=Toi //Inlet Stagnation temperature of compressor in K, since hoi=ho1 \n",
"To2=dTc+To1 //Exit Stagnation temperature of compressor in K\n",
"pr_c=(1+(eff_c*((To2-To1)/To1)))^(k/(k-1)) //Compressor pressure ratio \n",
"f=((Cp*To3)-(Cp*To2))/((eff_cc*CV*10^3)-(Cp*To3)) //Fuel-air ratio, calculation mistake in textbook\n",
"dTt=dTc/(eff_m*(1+f)) //Temperature difference across turbine\n",
"pr_t=1/((1-(dTt/(To3*eff_t)))^(k/(k-1))) //Turbine pressure ratio\n",
"To4=To3-dTc //Exit Stagnation temperature of turbine in K\n",
"u=ai*Mi //Flight velocity in m/s\n",
"sig=1/(((Is*g)/u)+1) //Jet speed ratio \n",
"Ce=u/sig //Exit velocity in m/s\n",
"Cj=Ce //Jet velocity in m/s, Since Cj is due to exit velociy\n",
"Te=To4-(Ce^2/(2*Cp)) //Exit temperature in K\n",
"Tes=To4-((To4-Te)*eff_n) //Exit temperature in K, (At isentropic process)\n",
"pr_n=(To4/Te)^(k/(k-1)) //Nozzle pressure ratio\n",
"ae=sqrt(k*R*Te) //Exit Sound velocity in m/s\n",
"Me=Ce/ae //Exit mach number \n",
"\n",
"printf('(A)Fuel-air ratio is %3.5f \n (B)Compressor, turbine, nozzle pressure ratio are %3.3f, %3.3f, %3.2f respectively\n (C)Mach number at exhaust jet is %3.3f',f,pr_c,pr_t,pr_n,Me)"
   ]
   }
,
{
		   "cell_type": "markdown",
		   "metadata": {},
		   "source": [
			"## Example 6.9: EX6_9.sce"
		   ]
		  },
  {
"cell_type": "code",
	   "execution_count": null,
	   "metadata": {
	    "collapsed": true
	   },
	   "outputs": [],
"source": [
"clc\n",
"clear\n",
"\n",
"//Input data\n",
"D=2.5 //Diameter in m\n",
"u=500*(5/18) //Flight velocity in m/s\n",
"h=8000 //Altitude in m\n",
"sig=0.75 //Jet speed ratio \n",
"g=9.81 //Acceleration due to gravity in m/s^2\n",
"\n",
"//Calculation\n",
"d=0.525 //from gas tables\n",
"A=%pi*D^2*0.25 //Area of flow in m^2 \n",
"Cj=u/sig //Jet velocity in m/s\n",
"Vf=(u+Cj)/2 //Velocity of flow in m/s\n",
"ma=d*A*Vf //Mass flow rate of air in kg/s\n",
"F=ma*(Cj-u)*10^-3 //Thrust in kN\n",
"P=F*u //Thrust power in kW\n",
"Fs=F*10^3/ma //Specific thrust in Ns/kg\n",
"Is=Fs/g //Specific impulse in sec\n",
"\n",
"//Output\n",
"printf('(A)Flow rate of air through the propeller is %3.3f m/s\n (B)Thrust produced is %3.3f kN\n (C)Specific thrust is %3.2f N-s/kg\n (D)Specific impulse is %3.3f sec\n (E)Thrust power is %3.1f kW',ma,F,Fs,Is,P)"
   ]
   }
],
"metadata": {
		  "kernelspec": {
		   "display_name": "Scilab",
		   "language": "scilab",
		   "name": "scilab"
		  },
		  "language_info": {
		   "file_extension": ".sce",
		   "help_links": [
			{
			 "text": "MetaKernel Magics",
			 "url": "https://github.com/calysto/metakernel/blob/master/metakernel/magics/README.md"
			}
		   ],
		   "mimetype": "text/x-octave",
		   "name": "scilab",
		   "version": "0.7.1"
		  }
		 },
		 "nbformat": 4,
		 "nbformat_minor": 0
}
