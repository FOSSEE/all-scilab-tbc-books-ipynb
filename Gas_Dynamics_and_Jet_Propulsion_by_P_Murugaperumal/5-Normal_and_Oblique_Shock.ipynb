{
"cells": [
 {
		   "cell_type": "markdown",
	   "metadata": {},
	   "source": [
       "# Chapter 5: Normal and Oblique Shock"
	   ]
	},
{
		   "cell_type": "markdown",
		   "metadata": {},
		   "source": [
			"## Example 5.10: To_determine_Mach_number_across_shock_and_area_at_shock.sce"
		   ]
		  },
  {
"cell_type": "code",
	   "execution_count": null,
	   "metadata": {
	    "collapsed": true
	   },
	   "outputs": [],
"source": [
"clc\n",
"clear\n",
"\n",
"//Input data\n",
"a1=0.4 //Ratio of throat area to exit area \n",
"p1=0.8 //Ratio of static pressure to Stagnation pressure at inlet\n",
"At=1 //Throat area in m^2\n",
"\n",
"//Calculation\n",
"a2=1/a1 //reciprocal of a1 to find in gas tables\n",
"//Pox=Po1=Po, Poy=Po2\n",
"a2p2=a2*p1 //Area pressure ratio i.e. (A2*P2)/(At2*Po2)\n",
"M2=0.28 //Exit mach number from gas tables @a2p2\n",
"a3=2.166 //Ratio of exit area to throat area after shock from gas tables @a2p2 \n",
"p2=0.947 //Static to stagnation pressure ratio at exit from gas tables @a2p2\n",
"p3=a2/a3 //Stagnation pressure ratio after and before shock \n",
"Mx=1.675 //Mach number before the shock @p3\n",
"My=0.647 //Mach number after the shock from gas tables @Mx\n",
"a4=1.14 //Ratio of area after shock to throat area after shock from isentropic gas tables @My\n",
"a5=1.315 //Ratio of area before shock to throat area before shock from isentropic gas tables @My\n",
"Ax=a5*At //Area at shock in m^2\n",
"\n",
"//Output \n",
"printf('(A)Mach number across the shock: Mx=%3.3f (My=%3.3f)\n (B)Area at shock is %3.3f m^2',Mx,My,Ax)"
   ]
   }
,
{
		   "cell_type": "markdown",
		   "metadata": {},
		   "source": [
			"## Example 5.11: To_find_Mach_number_across_shock_Static_pressure_and_area_at_shock.sce"
		   ]
		  },
  {
"cell_type": "code",
	   "execution_count": null,
	   "metadata": {
	    "collapsed": true
	   },
	   "outputs": [],
"source": [
"clc\n",
"clear\n",
"\n",
"//Input data\n",
"a1=1/3 //Ratio of throat area to exit area \n",
"p1=0.4 //Ratio of static pressure to Stagnation pressure at inlet\n",
"\n",
"//Calculation\n",
"a2=1/a1 //reciprocal of a1 to find in gas tables\n",
"//we know Pox=Po1=Po, Poy=Po2, At=Atx and Aty=At2\n",
"a2p2=a2*p1 //Area pressure ratio i.e. (A2*P2)/(At2*Po2)\n",
"M2=0.472 //Exit mach number from gas tables @a2p2\n",
"a3=1.397 //Ratio of exit area to throat area after shock from gas tables @a2p2 \n",
"p2=0.858 //Static to stagnation pressure ratio at exit from gas tables @a2p2\n",
"p3=a3/a2 //Stagnation pressure ratio after and before shock \n",
"Mx=2.58 //Mach number before the shock @p3\n",
"My=0.506 //Mach number after the shock from gas tables @Mx\n",
"p4=9.145 //Stagnation pressure after shock to Static pressure before shock from gas tables @My\n",
"a4=2.842 //Ratio of area before shock to throat area \n",
"p5=0.051 //Ratio of Pressure before shock to Stagnation pressure at entry\n",
"\n",
"//Output \n",
"printf('At section where shock occurs:\n    (A)Mach number Mx=%3.2f and My=%3.3f\n    (B)Static Pressure is %3.3f*Po1 (units depend on Po1)\n    (C)Area of cross section is %3.3f*At (units depend on At)',Mx,My,p5,a4)"
   ]
   }
,
{
		   "cell_type": "markdown",
		   "metadata": {},
		   "source": [
			"## Example 5.12: To_find_properties_at_various_sections.sce"
		   ]
		  },
  {
"cell_type": "code",
	   "execution_count": null,
	   "metadata": {
	    "collapsed": true
	   },
	   "outputs": [],
"source": [
"clc\n",
"clear\n",
"\n",
"//Input data\n",
"Po=300 //Pressure in reservoir in kPa\n",
"To=500 //Temperature in reservoir in K\n",
"At=1 //Throat area in m^2\n",
"Ax=2 //Area just before the shock in m^2\n",
"Ay=2 //Area just after the shock in m^2\n",
"A2=3 //Exit area in m^2\n",
"\n",
"//Calculation\n",
"a1=Ax/At //Area ratio \n",
"Mx=2.2 //Mach number upstream of shock\n",
"p1=0.0935 //Ratio of pressure before shock to stagnation pressure before shock from gas tables @Mx\n",
"Px=p1*Po //pressure before shock in kPa\n",
"t1=0.50 //Ratio of temperature before shock to stagnation pressure before shock from gas tables @Mx\n",
"Tx=t1*To //temperature before shock in K\n",
"My=0.547 //Mach number downstream of shock \n",
"p2=5.480 //Static pressure ratio after and before the shock from gas tables @My\n",
"Py=Px*p2 //Static pressure after shock in kPa\n",
"t2=1.857 //Temperature ratio after and before the shock from gas tables @My\n",
"Ty=t2*Tx //Temperature ratio after the shock in K\n",
"p3=6.716 //Stagnation pressure after shock to Static pressure before shock from gas tables @My\n",
"Poy=Px*p3 //Stagnation pressure after shock in kPa\n",
"Po2=Poy //Exit stagnation pressure in kPa, Since total pressure remains same after shock\n",
"t3=0.943 //Static to stagnation pressure after shock from isentropic gas tables @My\n",
"Toy=Ty/t3 //Stagnation pressure after shock in K\n",
"To2=Toy //Exit stagnation temperature in K, Since temperature remains after shock\n",
"a2=1.255 //Ratio of area after shock to throat area after shock from isentropic gas tables @My\n",
"Aty=Ay/a2 //Throat area after shock in m^2\n",
"At2=Aty //Throat area at exit in m^2\n",
"a3=A2/At2 //Areas ratio\n",
"M2=0.33 //Exit mach number from gas tables @a3\n",
"p4=0.927 //Static to Stagnation pressure at exit from gas isentropic gas tables @a3\n",
"P2=Po2*p4 //Exit pressure in kPa\n",
"t4=0.978 //Static to Stagnation temperature at exit from gas isentropic gas tables @a3\n",
"T2=To2*t4 //Exit temperature in K\n",
"\n",
"//Output\n",
"printf('(A)Pressure at section (x) Px=%3.2f kPa\n (B)Pressure at section (y) Px=%3.3f kPa\n (C)Stagnation pressure at section (y) Poy=%3.2f kPa\n (D)Throat area of cross section at section (y) Aty=%3.4f m^2\n (E)Stagnation pressure at exit Po2=%3.2f kPa\n (F)Throat area of cross section at exit At2=%3.4f m^2\n (G)Static Pressure at exit P2=%3.2f kPa\n (H)Stagantion temperature at exit To2=%3i K\n (I)Temperature at exit T2=%3i k',Px,Py,Poy,Aty,Po2,At2,P2,To2,T2)"
   ]
   }
,
{
		   "cell_type": "markdown",
		   "metadata": {},
		   "source": [
			"## Example 5.13: EX5_13.sce"
		   ]
		  },
  {
"cell_type": "code",
	   "execution_count": null,
	   "metadata": {
	    "collapsed": true
	   },
	   "outputs": [],
"source": [
"clc\n",
"clear\n",
"\n",
"//Input data\n",
"Po1=500 //Stagnation pressure in kPa\n",
"To1=600 //Stagnation temperature in K\n",
"C1=100 //inlet velocity in m/s\n",
"A1=0.01 //Inlet Area in m^2\n",
"A2=0.01 //Exit Area in m^2\n",
"Mx=1.2 //Mach number before the shock\n",
"Ax=37.6 //Area just before the shock in cm^2\n",
"Ay=37.6 //Area just after the shock in cm^2\n",
"Px=109.9 //Pressure before the shock in kPa\n",
"Poy=350 //Stagnation pressure after shock in kPa\n",
"k=1.4 //Adiabatic constant \n",
"R=287 //Specific gas constant in J/kg-K\n",
"Cp=1005 //Specific heat capacity at constant volume in J/kg-K\n",
"\n",
"//Calculation\n",
"T1=To1+(C1^2/(2*Cp)) //Inlet static temperature in K\n",
"ai_1=sqrt(k*R*T1) //Velocity of sound at inlet in m/s\n",
"M1=C1/ai_1 //Inlet Mach number \n",
"p1=0.973 //Static to Stagnation pressure ratio at entry from gas tables @M1 \n",
"P1=Po1*p1 //Inlet static pressure in kPa\n",
"d1=P1*10^3/(R*T1) //Density at inlet in kg/m^3, P1 in Pa\n",
"m=d1*A1*C1 //Mass flow rate at inlet in kg/s\n",
"p2=0.528 //Ratio of critical pressure to stagnation pressure from gas tables @M=1\n",
"Pt=Po1*p2 //Critical pressure in kPa\n",
"t1=0.834 //Ratio of critical temperature to stagnation temperature from gas tables @M=1\n",
"Tt=t1*To1 //critical temperature in K\n",
"ai_t=sqrt(k*R*Tt) //Velocity of sound at critical state in m/s\n",
"Ct=ai_t //Velocity of air at critical state in m/s\n",
"a1=2.964 //Ratio of inlet area to critical area from gas tables @M=1\n",
"At=A1/a1 //critical area in m^2\n",
"dt=Pt/(R*Tt) //Density at critical state in kg/m^3\n",
"mt=dt*At*Ct //Mass flow rate at critical satate in kg/s\n",
"//Sub-division (a)\n",
"a2=1.030 //Ratio of area after shock to critical area from gas tables @Mx\n",
"Ay_a=At*a2 //Area after shock in cm^2\n",
"p3=0.412 //Ratio of upstram of shock to stagnation pressures from isentropic gas tables @Mx\n",
"Px_a=Po1*p3 //Pressure upstram of shock in kPa\n",
"t2=0.776 //Ratio of upstram of shock to stagnation temperature from isentropic gas tables @Mx\n",
"Tx_a=To1*t2 //Temperature upstram of shock in K\n",
"My_a=0.84 //Mach number downstream of shock from normal shock gas tables @Mx\n",
"p4=1.497 //Static pressure ratio after and before the shock from gas tables @My\n",
"Py_a=Px_a*p4 //Static pressure after shock in kPa\n",
"t3=1.099 //Temperature ratio after and before the shock from gas tables @My\n",
"Ty_a=Tx_a*t3 //Temperature ratio after the shock in K\n",
"p5=2.407 //Stagnation pressure after shock to Static pressure before shock from gas tables @My\n",
"Poy_a=Px_a*p5 //Stagnation pressure after shock in kPa\n",
"a3=1.204 //Ratio of area after shock to throat area after shock from isentropic gas tables @My\n",
"At2_a=(Ay_a/a3)*10^4 //Throat area at exit in m^2, calculation mistake in textbook\n",
"a4=A2/At2_a //Ratio of areas to find gas tables \n",
"M2_a=0.2 //Exit mach number at section-A from gas tables @a4\n",
"p5=0.973 //ratio of exit pressure to stagnation pressure after shock from gas tables\n",
"P2_a=p5*Poy_a //exit pressure in kPa\n",
"//Sub-division (b)\n",
"a5=Ax/At //Ratio of area before shock to critical area\n",
"Mx_b=1.4 //Mach number at section-B from gas tables @a5\n",
"p6=0.314 //Ratio of upstram of shock to stagnation pressures from isentropic gas tables @Mx_b\n",
"Px_b=Po1*p6 //Pressure upstram of shock in kPa\n",
"t4=0.718 //Ratio of upstram of shock to stagnation temperature from isentropic gas tables @Mx_b\n",
"Tx_b=To1*t4 //Temperature upstram of shock in K\n",
"p20=3.049 //Stagnation pressure ratio after shock to Static pressure before shock from gas tables \n",
"Poy_b=Px_b*p20 //Stagnation pressure after shock in kPa\n",
"My_b=0.735 //Mach number downstream of shock from normal shock gas tables @Mx_b\n",
"p7=2.085 //Static pressure ratio after and before the shock from gas tables @My_b\n",
"Py_b=Px_b*p7 //Static pressure after shock in kPa\n",
"t5=1.260 //Temperature ratio after and before the shock from gas tables @My_b\n",
"Ty_b=Tx_b*t5 //Temperature after the shock in K\n",
"a6=1.071 //Ratio of area after shock to throat area after shock from isentropic gas tables My_b=0.735\n",
"At2_b=Ay/a6 //Throat area at exit in m^2\n",
"a7=A2/At2_b //Ratio of areas\n",
"M2_b=0.21 //Exit mach number at section-B from gas tables @a7\n",
"p8=0.9697 //ratio of exit pressure to stagnation pressure after shock from gas tables\n",
"P2_b=p8*Poy_b //exit pressure in kPa\n",
"//Sub-division (c)\n",
"p9=Px/Po1 //Ratio of upstram of shock to stagnation pressures \n",
"Mx_c=1.65 //Mach number at section-B from gas tables @p9\n",
"a8=1.292 //Ratio of area before shock to critical area from gas tables @p9\n",
"Ax_c=At*a8*10^4 //Area before shock in cm^2\n",
"t6=0.647 //Ratio of upstram of shock to stagnation temperature from isentropic gas tables @p9\n",
"Tx_c=To1*t6 //Temperature upstram of shock in K\n",
"My_c=0.654  //Mach number downstream of shock from normal shock gas tables @Mx_c\n",
"p10=3.0095 //Static pressure ratio after and before the shock from gas tables @My_c\n",
"Py_c=Px*p10 //Pressure downstram of shock in kPa\n",
"t7=1.423 //Temperature ratio after and before the shock from gas tables @My_c\n",
"Ty_c=Tx_c*t7 //Temperature after the shock in K\n",
"p12=4 //Stagnation pressure after shock to Static pressure before shock from gas tables @Mx_c\n",
"Poy_c=Px*p12 //Stagnation pressure after shock in kPa\n",
"a9=1.136 //Ratio of area after shock to throat area after shock from gas tables My_c=0.654\n",
"At2_c=Ax_c/a9 //Throat area at exit in m^2\n",
"a8=A2/At2_c //Ratio of areas\n",
"M2_c=0.23 //Exit mach number at section-B from gas tables @a8\n",
"p11=0.964 //ratio of exit pressure to stagnation pressure after shock from gas tables\n",
"P2_c=p11*Poy_c //exit pressure in kPa\n",
"//Sub-division (D)\n",
"p13=Poy/Po1 //Pressure ratio, Since Pox=Po1\n",
"Mx_d=2.04 //Mach number upstream of shock from gas tables @p13\n",
"My_d=0.571 //Mach number downstream of shock from gas tables @p13\n",
"p14=4.688 //Static pressure ratio after and before the shock from gas tables @My_d\n",
"t8=1.72 //Temperature ratio after and before the shock from gas tables @My_d\n",
"p15=5.847 //Stagnation pressure after shock to Static pressure before shock from gas tables @Mx_d\n",
"p16=0.120 //Ratio of upstram of shock to stagnation pressures from isentropic tables @Mx_d\n",
"Px_d=Po1*p16 //Pressure upstram of shock in kPa\n",
"t9=0.546 //Ratio of upstram of shock to stagnation temperature from isentropic gas tables @Mx_d\n",
"Tx_d=To1*t9 //Temperature upstram of shock in K\n",
"p21=4.688 //Static pressure ratio after and before the shock from gas tables \n",
"Py_d=Px_d*p21 //Pressure downstram of shock in kPa\n",
"t12=1.72 //Ratio of upstram of shock to stagnation temperature from isentropic gas tables \n",
"Ty_d=Tx_d*t12 //Temperature after the shock in K\n",
"a9=1.745 //Ratio of area before shock to throat area from isentropic gas tables \n",
"Ax_d=At*a9*10^4 //Area before shock in cm^2\n",
"a10=1.226 //Ratio of area after shock to throat area after shock from isentropic tables @My_d\n",
"At2_d=(Ax_d/a10) //Throat area at exit in cm^2\n",
"a11=A2/At2_d //Ratio of areas\n",
"M2_d=0.29 //Exit mach number at section-B from gas tables @a11\n",
"p17=0.943 //ratio of exit pressure to stagnation pressure after shock from gas tables\n",
"P2_d=p17*Poy //exit pressure in kPa\n",
"//Sub-division (e)\n",
"a12=Ax/At //Ratio of areas\n",
"Mx_e=2.62 //Mach number upstream of shock from gas tables @a12\n",
"t10=0.421 //Ratio of upstram of shock to stagnation temperature from isentropic gas tables \n",
"Tx_e=To1*t10 //Temperature upstram of shock in K\n",
"p18=0.0486 //Ratio of upstram of shock to stagnation pressures from isentropic tables @Mx_e\n",
"Px_e=p18*Po1 //Pressure upstram of shock in kPa\n",
"My_e=0.502 //Mach number downstream of shock from gas tables @Mx_e\n",
"p19=7.842 //Static pressure ratio after and before the shock from gas tables @My_e\n",
"Py_e=Px_e*p19 //Pressure downstram of shock in kPa\n",
"P2_e=Py_e //Exit pressure in kPa\n",
"t11=2.259 //Temperature ratio after and before the shock from gas tables @My_d\n",
"Ty_e=Tx_e*t11 //Temperaure downstram of shock in K\n",
"T2_e=Ty_e //Exit temperature in K\n",
"\n",
"//Output \n",
"printf('At throat:\n    Mass flow rate is %3.2f kg/s\n    Area at throat is %3.5f m^2\n    Pressure is %3i kPa\n    Temperature is %3.1f K\n    Velocity is %3.1f m/s\n (a)At section (A):\n    Pressure upstream is %3i kPa\n    Temperature upstream is %3.1f K\n    Mack number downstream is %3.2f\n    Pressure downstream is %3.3f kPa\n    Temperature downstream is %3.3f K\n    Stagnation pressure downstream is %3.1f kPa\n    Area is %3.3f cm^2\n  At exit:\n    Mach number is %3.1f\n    Pressure is %3.1f kPa\n (b)At section (B):\n    Pressure upstream is %3i kPa\n    Temperature upstream is %3.1f K\n    Mack number upstream is %3.1f\n    Mack number downstream is %3.3f\n    Pressure downstream is %3.2f kPa\n    Temperature downstream is %3.2f K\n    Stagnation pressure downstream is %3.1f kPa\n    Area is %3.3f cm^2\n  At exit:\n    Mach number is %3.2f\n    Pressure is %3.1f kPa\n (c)At section (C):\n    Area upstream is %3.2f cm^2\n    Temperature upstream is %3.1f K\n    Mack number upstream is %3.2f\n    Mack number downstream is %3.3f\n    Pressure downstream is %3.2f kPa\n    Temperature downstream is %3.2f K\n    Stagnation pressure downstream is %3i kPa\n    Area is %3.4f cm^2\n  At exit:\n    Mach number is %3.2f\n    Pressure is %3.1f kPa\n (d)At section (D):\n    Pressure upstream is %3i kPa\n    Temperature upstream is %3.1f K\n    Area upstream is %3.3f cm^2\n    Mack number upstream is %3.2f\n    Mack number downstream is %3.2f\n    Pressure downstream is %3.2f kPa\n    Temperature downstream is %3.2f K\n    Area is %3.3f cm^2\n  At exit:\n    Mach number is %3.2f\n    Pressure is %3.2f kPa\n (e)At section (E):\n    Pressure upstream is %3.1f kPa\n    Temperature upstream is %3.1f K\n    Mack number upstream is %3.2f\n    Mack number downstream is %3.3f\n    Pressure downstream is %3.1f kPa\n    Temperature downstream is %3.2f K\n  At exit:\n    Temperature is %3.2f K\n    Pressure is %3.1f kPa\n',m,At,Pt,Tt,Ct,Px_a,Tx_a,My_a,Py_a,Ty_a,Poy_a,At2_a,M2_a,P2_a,Px_b,Tx_b,Mx_b,My_b,Py_b,Ty_b,Poy_b,At2_b,M2_b,P2_b,Ax_c,Tx_c,Mx_c,My_c,Py_c,Ty_c,Poy_c,At2_c,M2_c,P2_c,Px_d,Tx_d,Ax_d,Mx_d,My_d,Py_d,Ty_d,At2_d,M2_d,P2_d,Px_e,Tx_e,Mx_e,My_e,Py_e,Ty_e,T2_e,P2_e)"
   ]
   }
,
{
		   "cell_type": "markdown",
		   "metadata": {},
		   "source": [
			"## Example 5.14: EX5_14.sce"
		   ]
		  },
  {
"cell_type": "code",
	   "execution_count": null,
	   "metadata": {
	    "collapsed": true
	   },
	   "outputs": [],
"source": [
"clc\n",
"clear\n",
"\n",
"//Input data\n",
"T=300 //Temperature in K\n",
"P=1.01325*10^5 //Absolute pressure in Pa\n",
"k=1.4 //Adiabatic constant \n",
"R=287 //Specific gas constant in J/kg-K\n",
"C_1=60 //Velocity of air in m/s\n",
"C_2=200 //Velocity of air in m/s\n",
"C_3=500 //Velocity of air in m/s\n",
"d_hg=13600 //Density of mercury in kg/m^3\n",
"g=9.81 //Acceleration due to gravity in m/s^2\n",
"\n",
"//Calculation\n",
"a=sqrt(k*R*T) //Sound velocity in m/s\n",
"M_1=C_1/a //Mach number \n",
"dP1=(P*C_1^2)/(2*R*T) //Difference in mercury levels in Pa\n",
"dP1_hg=(dP1/(d_hg*g))*1000 //Difference in mercury levels in mm of Hg\n",
"M_2=C_2/a //Mach number \n",
"p1=(1+((k-1)/2)*M_2^2)^(k/(k-1)) //Stagnation to static pressure ratio \n",
"Po=p1*P //Stagnation pressure in Pa\n",
"dP2=abs(Po-P) //Difference in mercury levels in Pa\n",
"dP2_hg=(dP2/(d_hg*g))*1000 //Difference in mercury levels in mm of Hg\n",
"M_3=C_3/a //Mach number & M_3=Mach number just before shock\n",
"My=0.723 //Mach number just after shock\n",
"p1=2.2530 //Ratio of pressure after shock to before shock from gas tables @My\n",
"Py=p1*P //Pressure after shock in Pa\n",
"p2=0.706 //Ratio of pressure after shock to Stagnation pressure from gas tables @My\n",
"Po=Py/p2 //Stagnation pressure in Pa\n",
"dP3=Po-Py //Difference in mercury levels in Pa\n",
"dP3_hg=(dP3/(d_hg*g))*1000 //Difference in mercury levels in mm of Hg\n",
"\n",
"//Output\n",
"printf('Difference in mercury levels at velocity equal to:\n    (A)%2i m/s is %3.3f mm of Hg\n    (B)%3i m/s is %3.1f mm of Hg\n    (C)%3i m/s is %3i mm of Hg',C_1,dP1_hg,C_2,dP2_hg,C_3,dP3_hg)"
   ]
   }
,
{
		   "cell_type": "markdown",
		   "metadata": {},
		   "source": [
			"## Example 5.15: To_estimate_Mach_number_and_properties_across_the_normal_shock_of_tube.sce"
		   ]
		  },
  {
"cell_type": "code",
	   "execution_count": null,
	   "metadata": {
	    "collapsed": true
	   },
	   "outputs": [],
"source": [
"clc\n",
"clear\n",
"\n",
"//Input data\n",
"Px=16 //Pressure before the shock in kPa\n",
"Poy=70 //Stagnation pressure after shock in kPa\n",
"To=300+273 //Stagnation temperature in K\n",
"k=1.4 //Adiabatic constant \n",
"\n",
"//Calculation\n",
"p1=Poy/Px //Pressure ratio \n",
"Mx=1.735 //Mach number upstream of shock \n",
"My=0.631 //Mach number downstream of shock \n",
"p2=0.84 //Ratio of stagnation pressures after and before shock from gas tables\n",
"t1=1.483 //Temperature ratio after and before shock from gas tables\n",
"Tx=To/(1+((k-1)/2)*Mx^2) //Temperature upstream of shock in K\n",
"Ty=Tx*t1 //Temperature downstream of shock in K\n",
"Pox=Poy/p2 //Stagnation pressure before shock in kPa\n",
"\n",
"//Output\n",
"printf('(A)Mach number of the tunnal is Mx=%3.3f (My=%3.3f)\n (B)Upstream of the tube:\n    Static temperature is %3i K\n    Total pressure is %3.1f kPa\n (C)Downstream of the tube:\n    Static temperature is %3i K\n    Total pressure is %3i kPa',Mx,My,Tx,Pox,Ty,Poy)"
   ]
   }
,
{
		   "cell_type": "markdown",
		   "metadata": {},
		   "source": [
			"## Example 5.16: To_find_Mach_number_and_velocity_in_pitot_tube.sce"
		   ]
		  },
  {
"cell_type": "code",
	   "execution_count": null,
	   "metadata": {
	    "collapsed": true
	   },
	   "outputs": [],
"source": [
"clc\n",
"clear\n",
"\n",
"//Input data\n",
"Py=455 //Pressure downstream of shock in kPa\n",
"Ty=65+273 //Temperature downstream of shock in K\n",
"dP=65 //Difference between dynamic and static pressure in kPa\n",
"k=1.4 //Adiabatic constant \n",
"R=287 //Specific gas constant in J/kg-K\n",
"\n",
"//Calculation\n",
"Poy=dP+Py //Stagnation pressure after shock in kPa\n",
"p1=Py/Poy //Pressure ratio \n",
"My=0.44 //Mach number downstream of shock from isentropic gas tables @p1\n",
"Mx=3.8 //Mach number upstream of shock from normal shock gas tables @My\n",
"t1=3.743 //Temperature ratio after and before the shock from gas tables @My\n",
"Tx=Ty/t1 //Temperature before the shock in K\n",
"ax=sqrt(k*R*Tx) //Velocity of sound before the shock in m/s\n",
"Cx=Mx*ax //Air Velocity before the shock in m/s\n",
"\n",
"//Output \n",
"printf('(A)Mach number is Mx=%3.1f (My=%3.2f)\n (B)Velocity is %3.2f m/s',Mx,My,Cx)"
   ]
   }
,
{
		   "cell_type": "markdown",
		   "metadata": {},
		   "source": [
			"## Example 5.17: To_find_shock_speed_and_air_velocity_inside_the_shock.sce"
		   ]
		  },
  {
"cell_type": "code",
	   "execution_count": null,
	   "metadata": {
	    "collapsed": true
	   },
	   "outputs": [],
"source": [
"clc\n",
"clear\n",
"\n",
"//Input data\n",
"k=1.4 //Adiabatic constant \n",
"Px=1.01325 //Pressure before the shock in bar\n",
"Tx=15+273 //Temperature before the shock in K\n",
"Py=13.789 //Pressure just after the shock in bar\n",
"R=287 //Specific gas constant in J/kg-K\n",
"\n",
"//Calculation\n",
"p1=Py/Px //Pressure ratio \n",
"Mx=3.47 //Mach number upstream of shock from normal shock gas tables @p1\n",
"My=0.454 //Mach number downstream of shock from isentropic gas tables @p1\n",
"t1=3.213 //Temperature ratio after and before the shock from gas tables @Mx\n",
"Ty=Tx*t1 //Temperature downstream of shock in K\n",
"p2=15.574 //Stagnation pressure after shock to Static pressure before shock from gas tables @Mx\n",
"Poy=Px*p2 //Stagnation pressure after shock in bar\n",
"ax=sqrt(k*R*Tx) //Velocity of sound before the shock in m/s\n",
"Cx=Mx*ax  //Velocity of air before the shock in m/s \n",
"Csh=Cx //Since Csh=Cx, see dig.\n",
"ay=sqrt(k*R*Ty) //Velocity of sound after the shock in m/s\n",
"Cy=My*ay //Velocity of air after the shock in m/s\n",
"C_y=Cx-Cy //Air velocity just inside the shock in m/s\n",
"P_y=Py //Pressure of air in bar, Since a powerful explosion creates a brief but intense blast wind as it passes\n",
"a_y=sqrt(k*R*Ty) ////Velocity of sound after the shock in m/s\n",
"M_y=C_y/a_y //Mach number\n",
"\n",
"//Output\n",
"printf('(A)Shock speed is %3.2f m/s\n (B)Air velocity just inside the shock is %3.2f m/s',Cx,C_y)"
   ]
   }
,
{
		   "cell_type": "markdown",
		   "metadata": {},
		   "source": [
			"## Example 5.18: To_compute_speed_of_wave_pressure_and_temperature_of_air_at_rest.sce"
		   ]
		  },
  {
"cell_type": "code",
	   "execution_count": null,
	   "metadata": {
	    "collapsed": true
	   },
	   "outputs": [],
"source": [
"clc\n",
"clear\n",
"\n",
"//Input data\n",
"T=300 //Temperature in K\n",
"P=1.5 //Pressure in bar\n",
"C_y=150 //Air velocity just inside the shock in m/s\n",
"k=1.4 //Adiabatic constant \n",
"R=287 //Specific gas constant in J/kg-K\n",
"  \n",
"//Calculation\n",
"ax=sqrt(k*R*T) //Velocity of sound before the shock in m/s\n",
"Mx=sqrt(((C_y*(k+1))/(2*ax))+1) //Mach number before the shock\n",
"My=0.79 ////Mach number after the shock from normal shock gas tables \n",
"Cx=Mx*ax //Velocity of gas before the shock in m/s\n",
"p1=1.775 //Stagnation pressure ratio after and before the shock from gas tables @My\n",
"Py=P*p1 //Pressure just after the shock in bar\n",
"t1=1.1845 //Temperature ratio after and before the shock from gas tables @My\n",
"Ty=T*t1 //Temperature ratio after the shock in K\n",
"ay=sqrt(k*R*Ty) //Velocity of sound after the shock in m/s\n",
"Csh=My*ay //Speed of the wave in m/s\n",
"\n",
"//Output \n",
"printf('(A)Speed of the wave is %3.1f m/s\n (B)At rest condition:\n    Pressure is %3.4f bar\n    Temperature is %3.2f K',Csh,Py,Ty)"
   ]
   }
,
{
		   "cell_type": "markdown",
		   "metadata": {},
		   "source": [
			"## Example 5.19: To_find_Mach_number_pressure_temperature_at_exit_and_diffuser_efficiency.sce"
		   ]
		  },
  {
"cell_type": "code",
	   "execution_count": null,
	   "metadata": {
	    "collapsed": true
	   },
	   "outputs": [],
"source": [
"clc\n",
"clear\n",
"\n",
"//Input data\n",
"Mx=2 //Mach number before the shock\n",
"a1=3 //Diffuser area ratio\n",
"Pox=0.1 //Stagnation pressure before shock in bar\n",
"Tx=300 //Temperature before the shock in K\n",
"k=1.4 //Adiabatic constant \n",
"\n",
"//Calculation\n",
"t1=0.555 //Static to stagnation temperature ratio before shock from isentropic gas tables @Mx,k=1.4\n",
"Tox=Tx/t1 //Stagnation temperature before shock in K\n",
"p1=0.128 //Static to stagnation pressure ratio before shock from isentropic gas tables @Mx,k=1.4\n",
"Px=Pox*p1 //Pressure before the shock in bar\n",
"My=0.577 //Mach number after the shock\n",
"p2=4.5 //Pressure ratio after and before the shock from gas tables @Mx\n",
"Py=Px*p2 //Pressure just after the shock in bar\n",
"t2=1.687 //Temperature ratio after and before the shock from gas tables @Mx\n",
"Ty=Tx*t2 //Temperature ratio after the shock in K\n",
"p3=0.721 //Stagnation pressure ratio after and before shock from gas tables @Mx\n",
"Poy=Pox*p3 //Stagnation pressure after shock in kPa\n",
"a2=1.2195 //Ratio of area after shock to throat area after shock from gas tables @My\n",
"a3=a2*a1 //Ratio of exit area to throat area at exit \n",
"M2=0.16 //Exit mach number from gas tables @a3\n",
"t3=0.9946 //Static to stagnation temperature ratio at exit from isentropic gas tables @Mx\n",
"T2=Tox*t3 //Exit Temperature in K, Since Tox=Toy=T02 in case of diffuser\n",
"p4=0.982 //Static to stagnation pressure ratio at exit from isentropic gas tables @Mx\n",
"P2=Poy*p4 //Exit pressure in bar, Calculation mistake in textbook\n",
"eff=((((Tox/Tx)*(Poy/Pox)^((k-1)/k))-1)/(((k-1)/2)*Mx^2))*100 //Diffuser efficiency including shock in percent\n",
"\n",
"//Output \n",
"printf('(A)At the diffuser exit:\n    Mach number is %3.2f\n    Pressure is %3.3f bar\n    Temperature is %3.2f K\n (B)Diffuser efficiency including shock is %3.3f percent',M2,P2,T2,eff)"
   ]
   }
,
{
		   "cell_type": "markdown",
		   "metadata": {},
		   "source": [
			"## Example 5.1: EX5_1.sce"
		   ]
		  },
  {
"cell_type": "code",
	   "execution_count": null,
	   "metadata": {
	    "collapsed": true
	   },
	   "outputs": [],
"source": [
"clc\n",
"clear\n",
"\n",
"//Input data\n",
"Px=150 //Pressure before the shock in kPa\n",
"Tx=25+273 //Temperature before the shock in K\n",
"Py=350 //Pressure just after the shock in kPa\n",
"k=1.4 //Adiabatic constant \n",
"R=287 //Specific gas constant in J/kg-K\n",
"\n",
"//Calculations\n",
"p1=Py/Px //Pressure ratio \n",
"Mx=1.4638 //Mach number before the shock\n",
"My=0.716 //Mach number after the shock from gas tables @Mx\n",
"t1=1.294 //Temperature ratio after and before the shock from gas tables @p1\n",
"Ty=t1*Tx //Temperature ratio after the shock in K\n",
"ax=sqrt(k*R*Tx) //Velocity of sound before the shock in m/s\n",
"Cx=ax*Mx //Velocity of gas before the shock in m/s\n",
"ay=sqrt(k*R*Ty) //Velocity of sound after the shock in m/s\n",
"Cy=ay*My //Velocity of gas after the shock in m/s\n",
"p2=0.942 //Stagnation pressure ratio after and before the shock from gas tables @p1\n",
"ds=R*log(1/p2) //Change in entropy in J/kg-K\n",
"p3=3.265 //Stagnation pressure after shock to Static pressure before shock from gas tables @p1\n",
"Poy=p3*Px //Stagnation pressure after shock in kPa\n",
"Pox=Poy/p2 //Stagnation pressure before shock in kPa\n",
"pr_loss=Pox-Poy //Loss of stagnation pressure of air in kPa\n",
"dd=(1000/R)*((Py/Ty)-(Px/Tx)) //Increase in density of air in kg/m^3\n",
"\n",
"//Output\n",
"printf('(A)Mach number before shock is %3.4f\n (B)After shock:\n    Mach number is %3.3f\n    Static temperature is %3.3f K\n    Velocity is %3.2f m/s\n (C)Increase in density of air is %3.2f kg/m^3\n (D)Loss of stagnation pressure of air is %3.2f kPa\n (E)Change in entropy is %3.3f J/kg-K',Mx,My,Ty,Cy,dd,pr_loss,ds)"
   ]
   }
,
{
		   "cell_type": "markdown",
		   "metadata": {},
		   "source": [
			"## Example 5.20: EX5_20.sce"
		   ]
		  },
  {
"cell_type": "code",
	   "execution_count": null,
	   "metadata": {
	    "collapsed": true
	   },
	   "outputs": [],
"source": [
"clc\n",
"clear\n",
"\n",
"//Input data\n",
"k=1.3 //Adiabatic constant \n",
"R=287 //Specific gas constant in J/kg-K\n",
"P1=1 //Inlet pressure in bar\n",
"T1=400 //Inlet temperature in K\n",
"D=0.3 //Duct diameter in m\n",
"M1=2 //Mach number at entry\n",
"Mx=1.5 //Mach number upstream of shock \n",
"M2=1 //Mach number at outlet\n",
"f=0.003 //Friction factor\n",
"\n",
"//Calculation\n",
"d1=P1*10^5/(R*T1) //Density at inlet in kg/m^3\n",
"a1=sqrt(k*R*T1) //Velocity of sound at inlet in m/s \n",
"C1=M1*a1 //Gas velocity at inlet in m/s\n",
"A1=%pi*D^2/4 //Inlet Area of the duct in m^2\n",
"m=d1*C1*A1 //Mass flow rate in kg/s\n",
"p1=0.131 //Static to Stagnation pressure ratio at entry from gas tables (M1,k=1.4,isentropic)\n",
"Po1=P1/p1 //Stagantion pressure at inlet in bar\n",
"t1=0.625 //Static to Stagnation temperature ratio at entry from gas tables (M1,k=1.4,isentropic)\n",
"To1=T1/t1 //Stagnation temperature at inlet in K\n",
"p2=0.424 //Static to Critical pressure ratio at inlet from gas tables,fanno flow tables @M1,k=1.4\n",
"Pt1=P1/p2 //Critical pressure in bar\n",
"p3=1.773 //Stagnation pressure ratio at entry to critical state from gas tables,fanno flow tables @M1,k=1.4\n",
"Pto1=Po1/p3 //Stagnation pressure at critical state in bar \n",
"t2=0.719 //Static to Critical temperature ratio at inlet from gas tables,fanno flow tables @M1,k=1.4\n",
"Tt1=T1/t2 //Critical temperature in K\n",
"X1=0.357 //frictional constant fanno parameter from gas tables,fanno flow tables @M1,k=1.4\n",
"p4=0.618 //Ratio of Static pressure before shock to critical pressure at entry from gas tables (fanno flow,Mx,k=1.4) \n",
"Px=Pt1*p4 //pressure before shock in bar\n",
"t3=0.860 //Ratio of Static temperature before shock to critical temperature at entry from gas tables (fanno flow,Mx,k=1.4) \n",
"Tx=Tt1*t3 //Temperature before shock in K\n",
"p5=1.189 //Ratio of Stagnation pressure before shock to Stagnation pressure at critical state at entry from gas tables (fanno flow,Mx,k=1.4) \n",
"Pox=Pto1*p5 //Stagnation pressure at critical state in bar\n",
"Xx=0.156 //frictional constant fanno parameter from gas tables,fanno flow tables @Mx,k=1.4\n",
"X3=X1-Xx //Overall frictional constant fanno parameter upstream of duct\n",
"L1=(X3*D)/(4*f) //Length upstream of duct in m\n",
"My=0.7 //Mach number downstream of shock from gas tables @Mx\n",
"p6=2.413 //Static pressure ratio after and before the shock from gas tables @My\n",
"Py=Px*p6 //Pressure after shock in bar\n",
"t4=1.247 //Temperature ratio after and before the shock from gas tables @My\n",
"Ty=Tx*t4 //temperature after shock in K\n",
"p7=0.926 //Stagnation pressure ratio after and before the shock from gas tables @My\n",
"Poy=Pox*p7 //Stagnation pressure after shock in bar\n",
"p8=1.479 //Ratio of pressure after shock to pressure at critical state from gas tables @My\n",
"Pt=Py/p8 //Critical pressure in bar\n",
"p9=1.097 //Ratio of Stagnation pressure after shock to Stagnation pressure at critical state from gas tables @My\n",
"Pot=Poy/p9 //Stagnation pressure at critical state in bar\n",
"t5=1.071 //Ratio of temperature after shock to temperature at critical state from gas tables @My\n",
"Tt=Ty/t5 //Critical temperature in K\n",
"Xy=0.231 //frictional constant fanno parameter from gas tables,fanno flow tables @My,k=1.4\n",
"X2=0 //frictional constant fanno parameter from gas tables,fanno flow tables @M=1,k=1.4\n",
"X4=Xy-X2 //Overall frictional constant fanno parameter downstream of duct\n",
"L2=(X4*D)/(4*f) //Length downstream of duct in m\n",
"ds1=R*log(Po1/Pox) //Change of entropy upstream of the shock in J/kg-K\n",
"ds2=R*log(Pox/Poy) //Change of entropy across the shock in J/kg-K\n",
"ds3=R*log(Poy/Pot) //Change of entropy downstream of the shock in J/kg-K\n",
"\n",
"//Output\n",
"printf('(A)Length of the duct upstream and downstream of the duct is %3.3f m and %3.3f m respectively\n (B)Mass flow rate of the gas is %3.3f kg/s\n (C)Change of entropy:\n    Upstream of the shock is %3.2f J/kg-K\n    Across the shock is %3.3f J/kg-K\n    Downstream of the shock is %3.4f J/kg-K',L1,L2,m,ds1,ds2,ds3)"
   ]
   }
,
{
		   "cell_type": "markdown",
		   "metadata": {},
		   "source": [
			"## Example 5.21: EX5_21.sce"
		   ]
		  },
  {
"cell_type": "code",
	   "execution_count": null,
	   "metadata": {
	    "collapsed": true
	   },
	   "outputs": [],
"source": [
"clc\n",
"clear\n",
"\n",
"//Input data\n",
"P1=0.685 //Inlet pressure in bar\n",
"T1=310 //Inlet temperature in K\n",
"D=0.6 //Duct diameter in m\n",
"M1=3 //Mach number at entry\n",
"Mx=2.5 //Mach number upstream of shock \n",
"M2=0.8 //Mach number at outlet\n",
"f=0.005 //Friction factor\n",
"k=1.4 //Adiabatic constant \n",
"R=287 //Specific gas constant in J/kg-K\n",
"\n",
"//Calculation\n",
"d1=P1*10^5/(R*T1) //Density at inlet in kg/m^3\n",
"a1=sqrt(k*R*T1) //Velocity of sound at inlet in m/s \n",
"C1=M1*a1 //Air velocity at inlet in m/s\n",
"A1=%pi*D^2/4 //Inlet Area of the duct in m^2\n",
"m=d1*C1*A1 //Mass flow rate in kg/s\n",
"p1=0.218 //Static to Critical pressure ratio at inlet from gas tables,fanno flow tables @M1,k=1.4\n",
"Pt1=P1/p1 //Critical pressure in bar \n",
"t1=0.428 //Static to Critical temperature ratio at inlet from gas tables,fanno flow tables @M1,k=1.4\n",
"Tt1=T1/t1 //Critical temperature in K\n",
"X1=0.522 //frictional constant fanno parameter from gas tables,fanno flow tables @M1,k=1.4\n",
"p2=0.292 //Ratio of Static pressure before shock to critical pressure at entry from gas tables (fanno flow,Mx,k=1.4)\n",
"Px=Pt1*p2 //pressure before shock in bar\n",
"t2=0.533 //Ratio of Static temperature before shock to critical temperature at entry from gas tables (fanno flow,Mx,k=1.4) \n",
"Tx=Tt1*t2 //Temperature before shock in K\n",
"Xx=0.432 //frictional constant fanno parameter from gas tables,fanno flow tables @Mx,k=1.4\n",
"X3=X1-Xx //Overall frictional constant fanno parameter upstream of duct\n",
"L1=(X3*D)/(4*f) //Length upstream of duct in m\n",
"My=0.513 //Mach number downstream of shock from gas tables @Mx\n",
"p3=7.125 //Static pressure ratio after and before the shock from gas tables @My\n",
"Py=Px*p3 //Pressure after shock in bar\n",
"t3=2.138 //Temperature ratio after and before the shock from gas tables @My\n",
"Ty=Tx*t3 //temperature after shock in K\n",
"p4=2.138 //Ratio of pressure after shock to pressure at critical state from gas tables @My\n",
"Pt=Py/p4 //Critical pressure in bar\n",
"t4=1.143 //Ratio of temperature after shock to temperature at critical state from gas tables @My\n",
"Tt=Ty/t4 //Critical temperature in K\n",
"p5=1.289 //Ratio of pressure at exit to pressure at critical state from gas tables @M2\n",
"P2=Pt*p5 //Exit pressure in bar \n",
"t5=1.064 //Ratio of temperature at exit to temperature at critical state from gas tables @M2 \n",
"T2=Tt*t5 //Exit temperature in K\n",
"Xy=1.069 //frictional constant fanno parameter from gas tables,fanno flow tables @My,k=1.4\n",
"X2=0.073 //frictional constant fanno parameter from gas tables,fanno flow tables @M2,k=1.4\n",
"X4=Xy-X2 //Overall frictional constant fanno parameter downstream of duct\n",
"L2=(X4*D)/(4*f) //Length downstream of duct in m\n",
"\n",
"//Output\n",
"printf('(A)Length L1 and L2 are %3.1f m and %3.2f m respectively\n (B)State of air at exit:\n    Pressure is %3.3f bar\n    Temperature is %3.1f K\n (C)Mass flow rate through the duct is %3.2f kg/s',L1,L2,P2,T2,m)"
   ]
   }
,
{
		   "cell_type": "markdown",
		   "metadata": {},
		   "source": [
			"## Example 5.22: To_find_properties_after_shock_and_exit_and_exit_Mach_number.sce"
		   ]
		  },
  {
"cell_type": "code",
	   "execution_count": null,
	   "metadata": {
	    "collapsed": true
	   },
	   "outputs": [],
"source": [
"clc\n",
"clear\n",
"\n",
"//Input data\n",
"At=24 //Throat area in cm^2\n",
"A2=50 //Exit area in cm^2\n",
"Po=700 //Stagnation pressure in kPa\n",
"To=100+273 //Stagnation temperature in K\n",
"Ax=34 //Area before the shock in cm^2\n",
"Ay=34 //Area after the shock in cm^2\n",
"\n",
"//Calculation\n",
"a1=Ax/At //Ratio of areas\n",
"Mx=1.78 //Mach number upstream of shock from gas tables @a1\n",
"t1=0.61212 //Ratio of temperature before shock to critical state from isentropic gas tables @Mx\n",
"Tx=To*t1  //temperature before shock in K\n",
"p1=0.179 //Ratio of pressure before shock to critical state from isentropic gas tables @Mx\n",
"Px=Po*p1 //pressure before shock in kPa\n",
"My=0.621 //Mach number downstream of shock from gas tables @Mx\n",
"p2=3.5298 //Static pressure ratio after and before the shock from gas tables @My\n",
"Py=Px*p2 //Pressure after shock in kPa\n",
"t2=1.51669 //Temperature ratio after and before the shock from gas tables @My\n",
"Ty=Tx*t2 //temperature after shock in K\n",
"p3=4.578 //Ratio of Stagnation pressure after the shock to static pressure before shock from gas tables @My\n",
"Po2=Px*p3 //Stagnation pressure at exit in bar\n",
"a2=1.16565 //Ratio of area after shock to critical area across shock from isentropic gas tables @My\n",
"At2=Ay/a2 //critical area at exit in cm^2\n",
"a3=A2/At2 //Ratio of areas \n",
"M2=0.36 //Exit mach number from gas tables (a3,k=1.4,isentropic)\n",
"p4=0.914 //Static to Stagnation pressure ratio at exit from gas tables (a3,k=1.4,isentropic) \n",
"P2=Po2*p4 //Stagnation pressure ratio at exit in kPa\n",
"t3=0.975 //Static to Stagnation temperature ratio at exit from gas tables (a3,k=1.4,isentropic)\n",
"T2=To*t3 //Stagnation temperature at exit in K\n",
"\n",
"//Output\n",
"printf('(A)Properties of fluid just after shock:\n    Mach number My=%3.3f\n    Temperature is %3.2f K\n    Pressure is %3.2f kPa\n (B)Exit mach number is %3.2f\n (C)Properties of fluid at exit:\n    Pressure is %3i kPa\n    Temperature is %3.3f K',My,Ty,Py,M2,P2,T2)"
   ]
   }
,
{
		   "cell_type": "markdown",
		   "metadata": {},
		   "source": [
			"## Example 5.23: To_find_length_diameter_of_pipe_and_properties_at_pipe_exit.sce"
		   ]
		  },
  {
"cell_type": "code",
	   "execution_count": null,
	   "metadata": {
	    "collapsed": true
	   },
	   "outputs": [],
"source": [
"clc\n",
"clear\n",
"\n",
"//Input data\n",
"D=0.4 //Duct diameter in m\n",
"Po=12 //Stagnation pressure in kPa\n",
"To=600 //Stagnation temperature in K\n",
"f=0.0025 //Friction factor\n",
"M1=1.8 //Mach number at entry\n",
"M2=1 //Mach number at outlet\n",
"Mx=1.22 //Mach number upstream of shock \n",
"\n",
"//Calculations\n",
"A2=%pi*D^2/4 //Exit area in cm^2\n",
"p1=0.174 //Static to Stagnation pressure ratio at entry from gas tables (M1,k=1.4,isentropic)\n",
"P1=Po*p1 //Inlet pressure in bar\n",
"t1=0.607 //Static to Stagnation temperature ratio at entry from gas tables (M1,k=1.4,isentropic)\n",
"T1=To*t1 //Inlet temperature in K\n",
"a1=1.094 //Ratio of area at exit to critical area across shock from isentropic gas tables @M1,k=1.4\n",
"Ax=A2/a1 //Area before the shock in cm^2\n",
"Dt=sqrt((Ax*4)/(%pi))*10^2 //Duct diameter at throat in cm\n",
"p2=0.474 //Static to Critical pressure ratio at inlet from gas tables,fanno flow tables @M1,k=1.4\n",
"Pt=P1/p2 //Critical pressure in bar \n",
"t2=0.728 //Static to Critical temperature ratio at inlet from gas tables,fanno flow tables @M1,k=1.4\n",
"Tt=T1/t2 //Critical temperature in K\n",
"X1=0.242 //frictional constant fanno parameter from gas tables,fanno flow tables @M1,k=1.4\n",
"p3=0.788 //Ratio of Static pressure before shock to critical pressure at entry from gas tables (fanno flow,Mx,k=1.4)\n",
"Px=Pt*p3 //pressure before shock in bar\n",
"t3=0.925 //Ratio of Static temperature before shock to critical temperature at entry from gas tables (fanno flow,Mx,k=1.4)\n",
"Tx=Tt*t3 //Temperature before shock in K\n",
"Xx=0.039 //frictional constant fanno parameter from gas tables,fanno flow tables @Mx,k=1.4\n",
"X3=X1-Xx //Overall frictional constant fanno parameter upstream of duct\n",
"L1=(X3*D)/(4*f) //Length upstream of duct in m\n",
"My=0.83 //Mach number downstream of shock from gas tables @Mx\n",
"p4=1.57 //Static pressure ratio after and before the shock from gas tables @My\n",
"Py=Px*p4 //Pressure after shock in bar\n",
"t4=1.141 //Temperature ratio after and before the shock from gas tables @My\n",
"Ty=Tx*t4 //temperature after shock in K\n",
"p5=1.2375 //Ratio of pressure after shock to pressure at critical state from gas tables @My\n",
"Pt=Py/p5 //Critical pressure in bar\n",
"t5=1.055 //Ratio of temperature after shock to temperature at critical state from gas tables @My\n",
"Tt=Ty/t5 //Critical temperature in K\n",
"Xy=0.049 //frictional constant fanno parameter from gas tables,fanno flow tables @My,k=1.4\n",
"X2=0 //frictional constant fanno parameter from gas tables,fanno flow tables @M=1,k=1.4\n",
"X4=Xy-X2 //Overall frictional constant fanno parameter downstream of duct\n",
"L2=(X4*D)/(4*f) //Length downstream of duct in m\n",
"L=L1+L2 //Length of duct in m\n",
"\n",
"//Output\n",
"printf('(A)Length of the pipe is %3.2f m\n (B)Diameter of the nozzle throat is %3.3f cm\n (C)At the pipe exit:\n    Pressure is %3.3f bar\n    Temperature is %3.2f K',L,Dt,Pt,Tt)"
   ]
   }
,
{
		   "cell_type": "markdown",
		   "metadata": {},
		   "source": [
			"## Example 5.24: To_estimate_amount_of_heat_added_in_two_pipe_section_and_properties.sce"
		   ]
		  },
  {
"cell_type": "code",
	   "execution_count": null,
	   "metadata": {
	    "collapsed": true
	   },
	   "outputs": [],
"source": [
"clc\n",
"clear\n",
"\n",
"//Input data\n",
"Po=700 //Stagnation pressure in kPa\n",
"To=500+273 //Stagnation temperature in K\n",
"a1=3.5 //Ratio of exit area to throat area\n",
"m=5.5 //Mass flow rate in kg/s\n",
"Cp=1.005 //Specific heat capacity at constant pressure in kJ/kg-K\n",
"k=1.4 //Adiabatic constant\n",
"\n",
"//Calculation\n",
"My=1/sqrt(k) //Mach number downstream of shock\n",
"M2=2.8 //Mach number at outlet from gas tables @a1 \n",
"t1=0.389 //Static to Stagnation temperature ratio at exit from gas tables (M1,k=1.4,isentropic)\n",
"T2=To*t1 //Exit temperature in K\n",
"p1=0.0369 //Static to Stagnation pressure ratio at exit from gas tables (M1,k=1.4,isentropic)\n",
"P2=Po*p1 //exit pressure in kPa\n",
"p2=0.2  //Ratio of pressure at exit to pressure at critical state at exit from Rayleigh flow gas tables @M2\n",
"Pt2=P2/p2 //Exit pressure at critical state in kPa\n",
"t2=0.315 //Ratio of temperature at exit to temperature at critical state at exit from Rayleigh flow gas tables @M2\n",
"Tt2=T2/t2 //Exit temperature at critical state in K\n",
"t3=0.674 //Ratio of Stagnation temperature at exit to stagnation temperature at critical state at exit from Rayleigh flow gas tables @M2\n",
"Tto2=To/t3 //Exit stagnation temperature at critical state in K\n",
"Mx=1.2 //Mach number upstream of shock from gas tables @My\n",
"p3=0.796 //Ratio of Static pressure before shock to critical pressure at exit from gas tables (Rayleigh flow,Mx,k=1.4)\n",
"Px=Pt2*p3 //Static pressure before shock in kPa\n",
"t4=0.912 //Ratio of Static temperature before shock to critical temperature at exit from gas tables (Rayleigh flow,Mx,k=1.4)\n",
"Tx=Tt2*t4 //Static temperature before shock in K\n",
"t5=0.978 //Ratio of Stagnation temperature before shock to critical Stagnation temperature at exit from gas tables (Rayleigh flow,Mx,k=1.4)\n",
"Tox=Tto2*t5 //Stagnation temperature before shock in K\n",
"p4=1.513 //Static pressure ratio after and before the shock from gas tables @Mx \n",
"Py=Px*p4 //Pressure after shock in kPa\n",
"t6=1.128 //Temperature ratio after and before the shock from gas tables @Mx\n",
"Ty=Tx*t6 //temperature after shock in K\n",
"t7=0.875 //Ratio of Temperature after the shock to Stagnation temperature after shock from gas tables @Mx \n",
"Toy=Ty/t7 //Stagnation temperature after shock in K,\n",
"p5=1.207 //Ratio of pressure after shock to pressure at critical state from gas tables @My\n",
"Pt=Py/p5 //Critical pressure in kPa\n",
"t8=1.028 //Ratio of temperature after shock to temperature at critical state from gas tables @My\n",
"Tt=Ty/t8 //Critical temperature in K\n",
"t9=0.978 //Ratio of Stagnation temperature after shock to Stagnation temperature at critical state from gas tables @My\n",
"Tot=Toy/t9 //Stagnation temperature at critical state in K, calculation mistake in textbbok \n",
"q1=Cp*(Tox-To) //Amount of heat added in upstream of shock in kJ/s\n",
"q2=Cp*(Tot-Toy) //Amount of heat added in downstream of shock in kJ/s\n",
"Q=m*(q1+q2) //Amount of heat added in two pipe section in kJ/s\n",
"\n",
"//Output\n",
"printf('(A)Amount of heat added in two pipe section is %3.2f kJ/s\n (B)Properties:\n Upstream of shock:\n    Pressure is %3.1f kPa\n    Temperature is %3.3f K\n    Stagnation temperature is %3.2f K\n    Mach number is %3.1f\n Downstream of shock:\n    Pressure is %3.3f kPa\n    Temperature is %3.3f K\n    Stagnation temperature is %3.1f K\n    Mach number is %3.3f\n At the throat:\n    Pressure is %3.2f kPa\n    Temperature is %3.3f K\n    Stagnation temperature is %3.2f K\n At the exit:\n    Pressure is %3.2f kPa\n    Temperature is %3.2f K\n    Mach number is %3.2f',Q,Px,Tx,Tox,Mx,Py,Ty,Toy,My,Pt,Tt,Tot,P2,T2,M2)"
   ]
   }
,
{
		   "cell_type": "markdown",
		   "metadata": {},
		   "source": [
			"## Example 5.25: EX5_25.sce"
		   ]
		  },
  {
"cell_type": "code",
	   "execution_count": null,
	   "metadata": {
	    "collapsed": true
	   },
	   "outputs": [],
"source": [
"clc\n",
"clear\n",
"\n",
"//Input data\n",
"M1=2.8 //Inlet mach number \n",
"sig=42 //Shock wave angle in degree\n",
"Px=1 //Pressure upstream of shock in bar(Assuming)\n",
"k=1.4 //Adiabatic constant \n",
"\n",
"//Calculations\n",
"Mx=M1*sind(sig) //Mach number before the shock\n",
"My=0.601 //Mach number after the shock from gas tables @Mx\n",
"p1=3.98 //Static pressure ratio after and before the shock from gas tables @Mx \n",
"Py=Px*p1 //Pressure after shock in bar\n",
"p2=4.994 //Stagnation pressure after shock to Static pressure before shock from gas tables @Mx\n",
"Poy=Px*p2 //Stagnation pressure after shock in bar\n",
"p3=0.788 //Stagnation pressure ratio after and before the shock from gas tables @Mx\n",
"Pox=Poy/p3 //Stagnation pressure before shock in kPa\n",
"dPl=Pox-Poy //Total pressure loss in bar\n",
"def=atand(((M1^2*sind(2*sig))-(2/tand(sig)))/(2+(M1^2*(k+cosd(2*sig))))) //Deflection angle in degree\n",
"M2=My/(sind(sig-def)) //Downstream mach number\n",
"\n",
"//Output \n",
"printf('(A)Deflection angle is %3i degree\n (B)Downstream mach number is %3.3f\n (C)Static pressure is %3.3f bar\n (D)Total pressure loss is %3.3f bar',def,M2,Py,dPl)"
   ]
   }
,
{
		   "cell_type": "markdown",
		   "metadata": {},
		   "source": [
			"## Example 5.26: To_determine_static_pressure_temperature_behind_wave_Mach_number_and_Wedge_angle.sce"
		   ]
		  },
  {
"cell_type": "code",
	   "execution_count": null,
	   "metadata": {
	    "collapsed": true
	   },
	   "outputs": [],
"source": [
"clc\n",
"clear\n",
"\n",
"//Input data\n",
"M1=2 //Inlet mach number \n",
"sig=40 //Shock wave angle in degree\n",
"Px=0.5 //Pressure upstream of shock in bar\n",
"Tx=273 //Temperature upstream of shock in K\n",
"k=1.4 //Adiabatic constant \n",
"\n",
"//Calculation\n",
"Mx=M1*sind(sig) //Mach number before the shock\n",
"My=0.796 //Mach number after the shock from gas tables @Mx\n",
"p1=1.745 //Static pressure ratio after and before the shock from gas tables @Mx \n",
"Py=p1*Px //Pressure after shock in bar\n",
"t1=1.178 //Static temperature ratio after and before the shock from gas tables @Mx \n",
"Ty=Tx*t1 //Temperature after shock in K\n",
"Ws=atand(((M1^2*sind(2*sig))-(2/tand(sig)))/(2+(M1^2*(k+cosd(2*sig))))) //Wedge semi angle in degree\n",
"W=2*Ws //Wedge angle in degree\n",
"\n",
"//Output\n",
"printf('(A)Static pressure is %3.4f bar\n (B)Temperature behind the wave is %3.2f K\n (C)Mach number of flow passing over wedge is %3.3f\n (D)Wedge angle is %3.2f degree',Py,Ty,Mx,W)"
   ]
   }
,
{
		   "cell_type": "markdown",
		   "metadata": {},
		   "source": [
			"## Example 5.27: To_find_property_ratios_at_strong_and_weak_shock_at_wedge.sce"
		   ]
		  },
  {
"cell_type": "code",
	   "execution_count": null,
	   "metadata": {
	    "collapsed": true
	   },
	   "outputs": [],
"source": [
"clc\n",
"clear\n",
"\n",
"//Input data\n",
"def=15\n",
"M1=2\n",
"k=1.4\n",
"\n",
"//Calculation\n",
"//Using relation def=atand(((M1^2*sind(2*sig))-(2/tand(sig)))/(2+(M1^2*(k+cosd(2*sig))))) and converting into 6th degree polynomial of sind(sig)=x\n",
"C=((2*tand(def))+((M1^2)*k*tand(def))+((M1^2)*tand(def))) //Constant value for convenience\n",
"D=(2*M1^2*tand(def)) //Constant value for convenience\n",
"a=4 //Value of constant in polynomial  \n",
"b=0 //Coefficient of power 1 i.e. x^1\n",
"c=(4+C^2+(8*M1^2)) //Coefficient of power 2 i.e. x^2\n",
"d=0 //Coefficient of power 3 i.e. x^3\n",
"e=(4*(M1^4))+(2*C*D)+(8*M1^2) //Coefficient of power 4 i.e. x^4\n",
"f=0 //Coefficient of power 5 i.e. x^5\n",
"g=(4*M1^4)+D^2 //Coefficient of power 6 i.e. x^6\n",
"p4=poly([a b -c -d e f -g],'x','c') //Expression for solving 6th degree polynomial\n",
"disp('Values for sine of wave angle are:\n')\n",
"disp(roots(p4))\n",
"sig1=asind(0.9842) //Strong shock wave angle in degree, nearer to 90 degree\n",
"sig2=asind(0.7113) //Weak shock wave angle in degree, nearer to 45 degree\n",
"//(a)Strong Shock Wave\n",
"Mx_1=M1*sind(sig1) //Mach number before the shock of stong shock wave\n",
"My_1=0.584 //Mach number after the shock from gas tables @Mx_1\n",
"p1=4.315 //Static pressure ratio after and before the shock from gas tables @Mx_1\n",
"t1=1.656 //Static temperature ratio after and before the shock from gas tables @Mx_1\n",
"d1=p1/t1 //Density ratio after and before the shock of stong shock wave\n",
"M2_1=My_1/(sind(sig1-def)) //Exit mach number of stong shock wave\n",
"Mx_2=M1*sind(sig2) //Mach number before the shock of weak shock wave\n",
"My_2=0.731 //Mach number after the shock from gas tables @Mx_2\n",
"p2=2.186 //Static pressure ratio after and before the shock from gas tables @Mx_2\n",
"t2=1.267 //Static temperature ratio after and before the shock from gas tables @Mx_2\n",
"d2=p2/t2 //Density ratio after and before the shock of weak shock wave\n",
"M2_2=My_2/(sind(sig2-def)) //Exit mach number of weak shock wave\n",
"\n",
"//Output \n",
"printf('\nStrong Shock Wave:\n    (A)Wave angle is %3.1f degree\n    (B)Pressure ratio is %3.3f\n    (C)Density ratio is %3.3f\n    (D)Temperature ratio is %3.3f\n    (E)Downstream Mach number is %3.3f\n Weak Shock Wave:\n    (A)Wave angle is %3.1f degree\n    (B)Pressure ratio is %3.3f\n    (C)Density ratio is %3.3f\n    (D)Temperature ratio is %3.3f\n    (E)Downstream Mach number is %3.3f',sig1,p1,d1,t1,M2_1,sig2,p2,d2,t2,M2_2)"
   ]
   }
,
{
		   "cell_type": "markdown",
		   "metadata": {},
		   "source": [
			"## Example 5.28: To_find_deflection_angle_final_Mach_number_and_temperature_of_gas.sce"
		   ]
		  },
  {
"cell_type": "code",
	   "execution_count": null,
	   "metadata": {
	    "collapsed": true
	   },
	   "outputs": [],
"source": [
"clc\n",
"clear\n",
"\n",
"//Input data\n",
"k=1.3 //Adiabatic constant \n",
"P1=0.345 //Inlet pressure in bar\n",
"T1=350 //Inlet temperature in K\n",
"M1=1.5 //Inlet mach number \n",
"P2=0.138 //Exit pressure in bar\n",
"\n",
"//Calculation\n",
"p1=0.284 //Pressure ratio at entry from gas tables @M1,k=1.3\n",
"Po=P1/p1 //Stagnation Pressure in bar\n",
"t1=0.748 //Temperature ratio at entry from gas tables @M1,k=1.3\n",
"To=T1/t1 //Stagnation temperature in K\n",
"p2=P2/Po //Pressure ratio\n",
"M2=2.08 //Final Mach number from isentropic gas tables @p2\n",
"t2=0.606 //Temperature ratio at exit from gas tables @M2,k=1.3\n",
"T2=To*t2 //The temperature of the gas in K\n",
"w1=12.693 //Prandtl Merger function at M1 \n",
"w2=31.12 //Prandtl Merger function at M2\n",
"def=w2-w1 //Deflection Angle in degree\n",
"\n",
"//Output\n",
"printf('(A)Deflection Angle is %3.3f degree\n (B)Final Mach number is %3.2f\n (C)The temperature of the gas is %3.3f K',def,M2,T2)"
   ]
   }
,
{
		   "cell_type": "markdown",
		   "metadata": {},
		   "source": [
			"## Example 5.2: To_find_properties_across_normal_shock_and_entropy_change.sce"
		   ]
		  },
  {
"cell_type": "code",
	   "execution_count": null,
	   "metadata": {
	    "collapsed": true
	   },
	   "outputs": [],
"source": [
"clc\n",
"clear\n",
"\n",
"//Input data\n",
"Tx=350 //Temperature before the shock in K\n",
"Px=137.8 //Pressure before the shock in kPa\n",
"Cx=750 //Velocity before the shock in m/s\n",
"k=1.4 //Adiabatic constant \n",
"R=287 //Specific gas constant in J/kg-K\n",
"\n",
"//Calculation\n",
"ax=sqrt(k*R*Tx) //Velocity of sound before the shock in m/s\n",
"Mx=Cx/ax //Mach number before the shock\n",
"My=0.577 //Mach number after the shock from gas tables @Mx\n",
"p1=4.5 //Static pressure ratio after and before the shock from gas tables @My\n",
"Py=Px*p1 //Static pressure after shock in kPa\n",
"t1=1.687 //Temperature ratio after and before the shock from gas tables @My\n",
"Ty=Tx*t1 //Temperature ratio after the shock in K\n",
"p2=5.641 //Stagnation pressure after shock to Static pressure before shock from gas tables @My\n",
"Poy=Px*p2 //Stagnation pressure after shock in kPa\n",
"p3=0.721 //Stagnation pressure ratio after and before the shock from gas tables @My\n",
"Pox=Poy/p3 //Stagnation pressure before shock in kPa\n",
"ds=R*log(1/p3) //Change in entropy in J/kg-K\n",
"t2=0.555 //Static to Stagnation temperature ratio before shock from isentropic gas tables @Mx,k=1.4\n",
"Tox=Tx/t2  //Stagnation temperature before shock in K\n",
"p4=0.128 //Static to Stagnation pressure ratio from isentropic gas tables @Mx,k=1.4\n",
"Pox=Px/p4 //Stagnation pressure in kPa\n",
"t4=0.937 //Static to Stagnation temperature ratio before shock from normal shock gas tables @Mx,k=1.4 (Tox=Toy Checked)\n",
"Toy=Ty/t4 //Stagnation temperature after shock in K\n",
"ay=sqrt(k*R*Ty) //Velocity of sound after the shock in m/s\n",
"Cy=(My*ay) //Velocity of gas after the shock in m/s\n",
"\n",
"//Output\n",
"printf('(A)At inlet to shock:\n    Stagnation pressure is %3.1f kPa\n    Stagnation temperature is %3.2f K\n    Mach number is %3.0f\n (B)After shock:\n    Stagnation pressure is %3.2f kPa\n    Stagnation temperature is %3.2f K\n    Static pressure is %3.1f kPa\n    Static temperature is %3.2f K\n    Mach number is %3.3f\n    Velocity is %3.2f m/s\n (C)Change in entropy across the shock is %3.2f J/kg-K',Pox,Tox,Mx,Poy,Toy,Py,Ty,My,Cy,ds)"
   ]
   }
,
{
		   "cell_type": "markdown",
		   "metadata": {},
		   "source": [
			"## Example 5.3: To_find_properties_downstream_of_shock.sce"
		   ]
		  },
  {
"cell_type": "code",
	   "execution_count": null,
	   "metadata": {
	    "collapsed": true
	   },
	   "outputs": [],
"source": [
"clc\n",
"clear\n",
"\n",
"//Input data\n",
"Tx=0+273 //Temperature before the shock in K\n",
"Px=60 //Pressure before the shock in kPa\n",
"Cx=497 //Air Velocity before the shock in m/s\n",
"k=1.4 //Adiabatic constant \n",
"R=287 //Specific gas constant in J/kg-K\n",
"\n",
"//Calculation\n",
"ax=sqrt(k*R*Tx) //Velocity of sound before the shock in m/s\n",
"Mx=Cx/ax //Mach number before the shock\n",
"My=0.70109 //Mach number after the shock from gas tables @Mx\n",
"p1=2.45833 //Static pressure ratio after and before the shock from gas tables @My\n",
"Py= p1*Px //Static pressure after shock in kPa\n",
"t1=1.32022 //Temperature ratio after and before the shock from gas tables @My\n",
"Ty=Tx*t1 //Temperature ratio after the shock in K\n",
"p2=3.41327 //Stagnation pressure after shock to Static pressure before shock from gas tables @My\n",
"Poy=p2*Px //Stagnation pressure after shock in kPa\n",
"p3=0.92979 //Stagnation pressure ratio after and before the shock from gas tables @My\n",
"Pox=Poy/p3 //Stagnation pressure before shock in kPa\n",
"ay=sqrt(k*R*Ty) //Velocity of sound after the shock in m/s\n",
"Cy=ay*My //Velocity of air after the shock in m/s\n",
"\n",
"//Output\n",
"printf('After shock:\n    (A)Mach number is %3.5f\n    (B)Velocity is %3.3f m/s\n    (C)Stagnation pressure is %3.3f kPa\n',My,Cy,Poy)"
   ]
   }
,
{
		   "cell_type": "markdown",
		   "metadata": {},
		   "source": [
			"## Example 5.4: To_find_velocities_across_shock_and_stagnation_pressure_change.sce"
		   ]
		  },
  {
"cell_type": "code",
	   "execution_count": null,
	   "metadata": {
	    "collapsed": true
	   },
	   "outputs": [],
"source": [
"clc\n",
"clear\n",
"\n",
"//Input data\n",
"Px=30 //Pressure before the shock in kPa\n",
"Tx=-30+273 //Temperature before the shock in K\n",
"pr=2.6 //Pressure ratio across the shock wave\n",
"k=1.4 //Adiabatic constant \n",
"R=287 //Specific gas constant in J/kg-K\n",
"\n",
"//Calculation\n",
"Mx=1.54 //Mach number before the shock from gas tables @pr\n",
"My=0.687 //Mach number after the shock from gas tables @Mx\n",
"t1=1.347 //Temperature ratio after and before the shock from gas tables @My\n",
"Ty=t1*Tx //Temperature ratio after the shock in K\n",
"p1=3.567 //Stagnation pressure after shock to Static pressure before shock from gas tables @My\n",
"Poy=p1*Px //Stagnation pressure after shock in kPa\n",
"p2=0.917 //Stagnation pressure ratio after and before the shock from gas tables @My\n",
"Pox=Poy/p2 //Stagnation pressure before shock in kPa\n",
"dP=Pox-Poy //Change in stagnation pressure in kPa\n",
"ax=sqrt(k*R*Tx) //Velocity of sound before the shock in m/s\n",
"Cx=(Mx*ax) //Air Velocity before the shock in m/s\n",
"ay=sqrt(k*R*Ty) //Velocity of sound after the shock in m/s\n",
"Cy=(My*ay) //Velocity of air after the shock in m/s\n",
"\n",
"//Output\n",
"printf('(A)Velocities upstream and downstream of shock wave are %3.2f m/s and %3.2f m/s respectively\n (B)Change in stagnation pressure is %3.3f kPa',Cx,Cy,dP)"
   ]
   }
,
{
		   "cell_type": "markdown",
		   "metadata": {},
		   "source": [
			"## Example 5.5: To_find_properties_downstream_of_shock.sce"
		   ]
		  },
  {
"cell_type": "code",
	   "execution_count": null,
	   "metadata": {
	    "collapsed": true
	   },
	   "outputs": [],
"source": [
"clc\n",
"clear\n",
"\n",
"//Input data\n",
"Mol=39.9 //Molar mass of a gas in kg/mol\n",
"k=1.67 //Specific heat ratio \n",
"Mx=2.5 //Mach number before the shock \n",
"Px=40 //Pressure before the shock in kPa \n",
"Tx=-20+273 //Temperature before the shock in K\n",
"\n",
"//Calculation\n",
"My=0.554 //Mach number after the shock from gas tables @Mx\n",
"p1=7.567 //Static pressure ratio after and before the shock from gas tables @My\n",
"Py=p1*Px //Static pressure after shock in kPa\n",
"t1=2.805 //Temperature ratio after and before the shock from gas tables @My\n",
"Ty=Tx*t1 //Temperature ratio after the shock in K\n",
"\n",
"//Output\n",
"printf('Downstream the normal shock:\n    Mach number is %3.3f\n    Pressure is %3.2f kPa\n    Temperature is %3.3f K',My,Py,Ty)"
   ]
   }
,
{
		   "cell_type": "markdown",
		   "metadata": {},
		   "source": [
			"## Example 5.6: To_find_pressure_acting_on_front_of_the_body.sce"
		   ]
		  },
  {
"cell_type": "code",
	   "execution_count": null,
	   "metadata": {
	    "collapsed": true
	   },
	   "outputs": [],
"source": [
"clc\n",
"clear\n",
"\n",
"//Input data\n",
"Mx=2 //Mach number before the shock \n",
"Px=50 //Pressure before the shock in kPa \n",
"\n",
"//Calculation\n",
"p1=6.335 //Stagnation pressure after shock to Static pressure before shock from gas tables @Mx\n",
"Poy=p1*Px //Stagnation pressure after shock in kPa\n",
"\n",
"//Output\n",
"printf('Pressure acting on the front of the body is %3.2f kPa',Poy)"
   ]
   }
,
{
		   "cell_type": "markdown",
		   "metadata": {},
		   "source": [
			"## Example 5.7: To_find_mass_flow_rate_and_properties_at_exit_of_CD_nozzle.sce"
		   ]
		  },
  {
"cell_type": "code",
	   "execution_count": null,
	   "metadata": {
	    "collapsed": true
	   },
	   "outputs": [],
"source": [
"clc\n",
"clear\n",
"\n",
"//Input data\n",
"Po=800 //Pressure in reservoir in kPa\n",
"To=40+273 //Temperature in reservoir in K\n",
"M2a=2.5 //Mach number at exit from diagram\n",
"At=25 //Throat Area in cm^2 \n",
"Ax=40 //Area just before the shock in cm^2\n",
"Ay=40 //Area just after the shock in cm^2\n",
"k=1.4 //Adiabatic constant \n",
"R=287 //Specific gas constant in J/kg-K\n",
"\n",
"//Calculation\n",
"t1=0.834 //Ratio of critical temperature and stagnation temperature from gas tables @M=1\n",
"Tt=To*t1 //Critical temperature in K\n",
"p1=0.528 //Ratio of critical pressure and stagnation pressure from gas tables @M=1\n",
"Pt=Po*p1 //Critical pressure in kPa\n",
"dt=Pt*10^3/(R*Tt) //Density in kg/m^3, Pt in Pa\n",
"at=sqrt(k*R*Tt) //Velocity of sound at throat in m/s\n",
"Ct=at //Air Velocity of sound at throat in m/s\n",
"m=dt*At*10^-4*Ct //Mass flow rate in kg/s\n",
"p2=0.0585 //Ratio of exit to stagnation pressure from isentropic gas tables @M2=2.5\n",
"a1=2.637 //Ratio of exit to critical area from isentropic gas tables @M2=2.5\n",
"A2=a1*At //Exit area in cm^2\n",
"a2=Ax/At //Area ratio\n",
"M=1.94 //Mach number upstream of shock from gas tables @a2\n",
"p3=0.140 //Ratio of upstram of shock to stagnation pressures from isentropic gas tables @M\n",
"Px=p3*Po //Pressure upstram of shock in kPa\n",
"t2=0.570 //Ratio of upstram of shock to stagnation temperature from isentropic gas tables @M\n",
"Tx=t2*To //Temperature upstram of shock in K\n",
"My=0.588 //Mach number downstream of shock from normal shock gas tables @M\n",
"p4=4.225 //Static pressure ratio after and before the shock from gas tables @My\n",
"Py=Px*p4 //Static pressure after shock in kPa\n",
"t3=1.639 //Temperature ratio after and before the shock from gas tables @My\n",
"Ty=Tx*t3 //Temperature ratio after the shock in K\n",
"p5=2.338 //Stagnation pressure after shock to Static pressure before shock from gas tables @My\n",
"Poy=p5*Px //Stagnation pressure after shock in kPa\n",
"p6=0.749 //Stagnation pressure ratio after and before the shock from gas tables @My\n",
"Pox=Poy/p6 //Stagnation pressure before shock in kPa \n",
"//Here At2=Aty, Po2=Poy, Toy=To2=To1=To\n",
"p7=0.79 //Static to stagnation pressure ratio after shock from isentropic gas tables @My\n",
"Po2=Py/p7 //Stagnation pressure at exit in kPa\n",
"t4=0.935 //Static to stagnation temperature ratio after shock from isentropic gas tables @My\n",
"To2=Ty/t4 //Stagnation temperature in K (checked)\n",
"a3=1.2 //Ratio of areas after shock i.e. (Ay/At2)\n",
"At2=Ay/a3 //Critical area after shock in cm^2\n",
"a4=A2/At2 //Ratio of areas \n",
"M2b=0.31 //Mach number at exit from gas tables @a4(as per section-b)\n",
"p8=0.936 //Static to stagnation pressure ratio at exit from isentropic gas tables @M2b\n",
"P2=Po2*p8 //Exit pressure in kPa\n",
"t5=0.981 //Static to stagnation temperature ratio after shock from isentropic gas tables @M2b\n",
"T2=To2*t5 //Exit temperature in K\n",
"\n",
"//Output\n",
"printf('CASE-I:\n    (A)Mass flow rate is %3.2f kg/s\n    (B)Exit area is %3.1f cm^2\n CASE-II:\n    (A)Temperature is %3.3f K\n    (B)Pressure is %3.1f kPa',m,A2,T2,P2)"
   ]
   }
,
{
		   "cell_type": "markdown",
		   "metadata": {},
		   "source": [
			"## Example 5.8: To_find_properties_upstream_of_wave_front.sce"
		   ]
		  },
  {
"cell_type": "code",
	   "execution_count": null,
	   "metadata": {
	    "collapsed": true
	   },
	   "outputs": [],
"source": [
"clc\n",
"clear\n",
"\n",
"//Input data\n",
"Px=1 //Pressure before the shock in bar\n",
"Tx=17+273 //Temperature before the shock in K\n",
"Cx=500 //Air Velocity before the shock in m/s\n",
"k=1.4 //Adiabatic constant \n",
"R=287 //Specific gas constant in J/kg-K\n",
"\n",
"//Calculation\n",
"ax=sqrt(k*R*Tx) //Velocity of sound before the shock in m/s\n",
"Mx=Cx/ax //Mach number before the shock \n",
"My=0.715 //Mach number after the shock from gas tables @Mx\n",
"p1=2.335 //Static pressure ratio after and before the shock from gas tables @My\n",
"Py=p1*Px //Static pressure after shock in bar\n",
"t1=1.297 //Temperature ratio after and before the shock from gas tables @My\n",
"Ty=Tx*t1 //Temperature ratio after the shock in K\n",
"ay=sqrt(k*R*Ty) //Velocity of sound after the shock in m/s\n",
"Cy=ay*My //Velocity of air after the shock in m/s\n",
"C_y=Cx-Cy //Velocity of air in m/s\n",
"M_y=C_y/ay  //Mach number impared upstream of the wave front\n",
"t2=0.939 //Static to stagnation temperature ratio after shock from isentropic gas tables @M_y\n",
"T_oy=Ty/t2 //Stagnation temperature of air in K\n",
"\n",
"//Output\n",
"printf('(A)Pressure is %3.3f bar\n (B)Temperature is %3.2f K\n (C)Velocity of air is %3.2f m/s\n (D)Stagnation temperature is %3.2f K\n (E)Mach number is %3.3f',Py,Ty,C_y,T_oy,M_y)"
   ]
   }
,
{
		   "cell_type": "markdown",
		   "metadata": {},
		   "source": [
			"## Example 5.9: EX5_9.sce"
		   ]
		  },
  {
"cell_type": "code",
	   "execution_count": null,
	   "metadata": {
	    "collapsed": true
	   },
	   "outputs": [],
"source": [
"clc\n",
"clear\n",
"\n",
"//Input data\n",
"Mx=3 //Mach number before the shock \n",
"Tx=27+273 //Temperature before the shock in K\n",
"Px=1 //Pressure before the shock in bar\n",
"k=1.4 //Adiabatic constant \n",
"R=287 //Specific gas constant in J/kg-K\n",
" \n",
"//Calculation\n",
"My=0.475 //Mach number after the shock from gas tables @Mx\n",
"p1=10.333 //Static pressure ratio after and before the shock from gas tables @My\n",
"Py=p1*Px //Static pressure after shock in bar\n",
"t1=2.679 //Temperature ratio after and before the shock from gas tables @My\n",
"Ty=Tx*t1 //Temperature ratio after the shock in K\n",
"p2=12.061 //Stagnation pressure after shock to Static pressure before shock from gas tables @My\n",
"Poy=p2*Px //Stagnation pressure after shock in bar\n",
"p3=0.328 //Stagnation pressure ratio after and before the shock from gas tables @My\n",
"Pox=Poy/p3 //Stagnation pressure before shock in kPa\n",
"ay=sqrt(k*R*Ty) //Velocity of sound after the shock in m/s\n",
"Cy=ay*My //Velocity of air after the shock in m/s\n",
"ds=R*log(1/p3) //Change in entropy in J/kg-K\n",
"e=(Py-Px)/Px //Strength of shock\n",
"\n",
"//Output\n",
"printf('(I)Downstream of the shock:\n    (A)Pressure is %3.3f bar\n    (B)Temperature is %3.1f K\n    (C)Gas velocity is %3.2f m/s\n    (D)Mach number is %3.3f\n (II)Total head pressure ratio is %3.3f\n (III)Entropy change across the shock is %3.3f J/kg-K\n (IV)Strength of the shock is %3.3f',Py,Ty,Cy,My,p3,ds,e) "
   ]
   }
],
"metadata": {
		  "kernelspec": {
		   "display_name": "Scilab",
		   "language": "scilab",
		   "name": "scilab"
		  },
		  "language_info": {
		   "file_extension": ".sce",
		   "help_links": [
			{
			 "text": "MetaKernel Magics",
			 "url": "https://github.com/calysto/metakernel/blob/master/metakernel/magics/README.md"
			}
		   ],
		   "mimetype": "text/x-octave",
		   "name": "scilab",
		   "version": "0.7.1"
		  }
		 },
		 "nbformat": 4,
		 "nbformat_minor": 0
}
