{
"cells": [
 {
		   "cell_type": "markdown",
	   "metadata": {},
	   "source": [
       "# Chapter 2: Flow through Variable Area Ducts"
	   ]
	},
{
		   "cell_type": "markdown",
		   "metadata": {},
		   "source": [
			"## Example 2.10: To_determine_throat_and_exit_conditions_mass_flow_rate_through_nozzle.sce"
		   ]
		  },
  {
"cell_type": "code",
	   "execution_count": null,
	   "metadata": {
	    "collapsed": true
	   },
	   "outputs": [],
"source": [
"clc\n",
"clear\n",
"\n",
"//Input data\n",
"Po=1000 //Stagnation pressure in kPa\n",
"To=800 //Stagnation temperature in K\n",
"k=1.4 //Adiabatic Constant \n",
"M2=2 //Exit mach number\n",
"At=20 //Throat area in cm^2 \n",
"R=287 //Specific gas constant in J/kg-K\n",
"\n",
"//Calculation\n",
"t1=0.834 //Ratio of critical temperature to Stagnation temperature from isentropic gas tables @M=1,k=1.4 \n",
"Tt=To*t1 //critical temperature in K\n",
"at=sqrt(k*R*Tt) //Velocity of sound at critical state in m/s\n",
"Ct=at //Velocity of air at critical state in m/s, Since M=1\n",
"p1=0.528 //Ratio of critical pressure to Stagnation pressure from isentropic gas tables @M=1,k=1.4 \n",
"Pt=Po*p1 //Critical pressure in bar\n",
"dt=(Pt*10^3)/(R*Tt) //Density at critical state in kg/m^3, Pt in Pa\n",
"m=dt*At*10^-4*Ct //Mass flow rate in kg/s, At in m^2\n",
"p2=0.128 //Ratio of exit pressure to Stagnation pressure from isentropic gas tables @M2,k=1.4\n",
"P2=Po*p2 //exit pressure in kPa\n",
"t2=0.555 //Ratio of exit temperature to Stagnation temperature from isentropic gas tables @M2,k=1.4\n",
"T2=To*t2 //exit temperature in K\n",
"a2=1.687 //Ratio of exit area to critical area from isentropic gas tables @M2,k=1.4\n",
"A2=At*a2 //Exit area in cm^2\n",
"C2=sqrt(k*R*T2)*M2 //Exit velocity in m/s\n",
"d2=P2*10^3/(R*T2) //Density at exit in kg/m^3, P2 in Pa\n",
"\n",
"//Output\n",
"printf('(A)At throat:\n    Temperature is %3.1f K\n    Velocity is %3.2f m/s\n    Pressure is %3i kPa\n (B)At Exit:\n    Temperature is %3i K\n    Pressure is %3i kPa\n    Area is %3.2f m^2\n    Mass flow rate is %3.4f kg/s',Tt,Ct,Pt,T2,P2,A2,m)"
   ]
   }
,
{
		   "cell_type": "markdown",
		   "metadata": {},
		   "source": [
			"## Example 2.11: EX2_11.sce"
		   ]
		  },
  {
"cell_type": "code",
	   "execution_count": null,
	   "metadata": {
	    "collapsed": true
	   },
	   "outputs": [],
"source": [
"clc\n",
"clear\n",
"\n",
"//Input data\n",
"M2=2 //Exit mach number\n",
"At=1000 //Throat area in cm^2 \n",
"Po=0.69 //Stagnation pressure in bar \n",
"To=310 //Stagnation temperature in K\n",
"k=1.4 //Adiabatic Constant \n",
"R=287 //Specific gas constant in J/kg-K\n",
"Cp=1.005 //Specific heat capacity at constant pressure in kJ/kg-K \n",
"\n",
"//Calculation\n",
"t1=0.834 //Ratio of critical temperature to Stagnation temperature from isentropic gas tables @M=1,k=1.4\n",
"Tt=To*t1 //critical temperature in K\n",
"at=sqrt(k*R*Tt) //Velocity of sound at critical state in m/s\n",
"Ct=at //Velocity of air at critical state in m/s, Since M=1\n",
"p1=0.528 //Ratio of critical pressure to Stagnation pressure from isentropic gas tables @M=1,k=1.4 \n",
"Pt=Po*p1 //Critical pressure in bar\n",
"dt=(Pt*10^5)/(R*Tt) //Density at critical state in kg/m^3, Pt in Pa\n",
"m=dt*At*10^-4*Ct //Mass flow rate in kg/s, At in m^2\n",
"p2=0.128 //Ratio of exit pressure to Stagnation pressure from isentropic gas tables @M2,k=1.4\n",
"P2=Po*p2 //exit pressure in bar\n",
"t2=0.555 //Ratio of exit temperature to Stagnation temperature from isentropic gas tables @M2,k=1.4\n",
"T2=To*t2 //exit temperature in K\n",
"C2=sqrt(k*R*T2)*M2 //Exit velocity in m/s\n",
"d2=(P2*10^5)/(R*T2) //Density at exit in kg/m^3, P2 in Pa\n",
"A2=(m/(d2*C2))*10^4 //Exit area in cm^2\n",
"P=m*Cp*(To-T2) //Power required to drive the compressor in kW\n",
"\n",
"//Output\n",
"printf('(A)At throat:\n    Temperature is %3.2f K\n    Velocity is %3.2f m/s\n    Pressure is %3.3f bar\n    At Test section:\n    Temperature is %3.2f K\n    Velocity is %3.3f m/s\n    Pressure is %3.3f bar\n (B)Area of cross section at test section is %3i cm^2\n (C)Mass flow rate is %3.3f kg/s\n (D)Power required to drive the compressor is %3.2f kW',Tt,Ct,Pt,T2,C2,P2,A2,m,P)"
   ]
   }
,
{
		   "cell_type": "markdown",
		   "metadata": {},
		   "source": [
			"## Example 2.12: To_find_cross_section_at_throat_and_exit.sce"
		   ]
		  },
  {
"cell_type": "code",
	   "execution_count": null,
	   "metadata": {
	    "collapsed": true
	   },
	   "outputs": [],
"source": [
"clc\n",
"clear\n",
"\n",
"//Input data\n",
"Po=10 //Stagnation pressure in bar \n",
"To=100+273 //Stagnation temperature in K\n",
"m=15 //mass flow rate in kg/s\n",
"P2s=1 //Back pressure in isentropic state in bar\n",
"eff=0.95 //efficiency of diverging nozzle\n",
"k=1.4 //Adiabatic Constant \n",
"R=287 //Specific gas constant in J/kg-K\n",
"Cp=1005 //Specific heat capacity at constant pressure in J/kg-K \n",
"\n",
"//Calculation\n",
"//case I: isentropic\n",
"t1=0.834 //Ratio of critical temperature to Stagnation temperature from isentropic gas tables @M=1,k=1.4\n",
"Tt=To*t1 //critical temperature in K\n",
"at=sqrt(k*R*Tt) //Velocity of sound at critical state in m/s\n",
"Ct=at //Velocity of air at critical state in m/s, Since M=1\n",
"p1=0.528 //Ratio of critical pressure to Stagnation pressure from isentropic gas tables @M=1,k=1.4 \n",
"Pt=Po*p1 //Critical pressure in bar\n",
"dt=(Pt*10^5)/(R*Tt) //Density at critical state in kg/m^3, Pt in Pa\n",
"At=(m/(dt*Ct))*10^4 //Throat area in cm^2 \n",
"p2=P2s/Po //Pressure ratio\n",
"M2s=2.15 //Exit mach number from gas tables (isentropic state) @p2,k=1.4\n",
"t2=0.519 //Ratio of exit temperature to Stagnation temperature from isentropic gas tables @M2s,k=1.4\n",
"T2s=t2*To //exit temperature in K\n",
"a2s=sqrt(k*R*T2s) //Velocity of sound at exit in m/s\n",
"C2s=M2s*a2s //Exit air velocity in m/s\n",
"d2s=(P2s*10^5)/(R*T2s) //Density at exit in kg/m^3, P2 in Pa\n",
"A2s=(m/(d2s*C2s))*10^4 //Exit area in cm^2\n",
"//case II: isentropic upto throat\n",
"T2=To-(eff*(To-T2s)) //Exit tempareture in K\n",
"C2=sqrt(2*Cp*(To-T2)) //Exit air velocity in m/s\n",
"P2=P2s //Exit pressure in bar, Since it is diffuser\n",
"d2=(P2*10^5)/(R*T2) //Density at exit in kg/m^3, P2 in Pa\n",
"A2=(m/(d2*C2))*10^4 //Exit area in cm^2\n",
"\n",
"//Output\n",
"printf('(A)The nozzle cross section at throat in both cases is %3.2f cm^2\n (B)The nozzle cross section at exit in case I is %3.3f cm^2 and in case II is %3.2f cm^2',At,A2s,A2)"
   ]
   }
,
{
		   "cell_type": "markdown",
		   "metadata": {},
		   "source": [
			"## Example 2.13: To_find_ratio_of_areas_velocity_and_back_pressure_in_CD_nozzle.sce"
		   ]
		  },
  {
"cell_type": "code",
	   "execution_count": null,
	   "metadata": {
	    "collapsed": true
	   },
	   "outputs": [],
"source": [
"clc\n",
"clear\n",
"\n",
"//Input data\n",
"Po=600 //Stagnation pressure in kPa\n",
"To=40+273 //Stagnation temperature in K\n",
"P2=100 //exit pressure in kPa\n",
"k=1.4 //Adiabatic Constant \n",
"R=287 //Specific gas constant in J/kg-K\n",
"\n",
"//Calculation\n",
"p1=P2/Po //pressure ratio \n",
"M2=1.82 //Exit mach number from gas tables @p2,k=1.4\n",
"ar=1.461 //Ratio of nozzle exit area to nozzle throat area from gas tables @M2\n",
"t1=0.602 //Ratio of exit temperature to Stagnation temperature from isentropic gas tables @M2,k=1.4\n",
"T2=To*t1 //exit temperature in K\n",
"C2=sqrt(k*R*T2)*M2 //Exit air velocity in m/s\n",
"p2=3.698 //Ratio of static pressures after shock to before shock from normal shock gas tables @M2 \n",
"Py=p2*P2 //The back pressure at which normal shock acts at the exit plane of the nozzle in kPa\n",
"\n",
"//Output\n",
"printf('(A)Ratio of nozzle exit area to nozzle throat area is %3.3f\n (B)The discharge velocity from nozzle is %3.2f m/s\n (C)The back pressure at which normal shock acts at the exit plane of the nozzle is %3.1f kPa',ar,C2,Py)"
   ]
   }
,
{
		   "cell_type": "markdown",
		   "metadata": {},
		   "source": [
			"## Example 2.14: To_find_how_duct_acts.sce"
		   ]
		  },
  {
"cell_type": "code",
	   "execution_count": null,
	   "metadata": {
	    "collapsed": true
	   },
	   "outputs": [],
"source": [
"clc\n",
"clear\n",
"\n",
"//Input data\n",
"ar=2 //Ratio of nozzle exit area to nozzle throat area\n",
"Po=700 //Stagnation pressure in kPa\n",
"P2=400 //exit pressure in kPa\n",
"\n",
"//Calculation\n",
"p1=0.528 //Ratio of critical pressure to Stagnation pressure from gas tables @M=1\n",
"Pt=Po*p1 //critical pressure in bar\n",
"p2=P2/Po //Pressure ratio\n",
"M2=0.93 //Exit mach number from gas tables @p2,k=1.4\n",
"\n",
"//Output\n",
"printf('Since pressure decreases from %3i kPa to %3.1f kPa from inlet to throat, it acts as nozzle\n Since exit pressure %3i kPa is above critical pressure %3.1f kPa, it acts as diffuser with M=%3.2f\n Hence the duct acts as Venturi',Po,Pt,P2,Pt,M2)"
   ]
   }
,
{
		   "cell_type": "markdown",
		   "metadata": {},
		   "source": [
			"## Example 2.15: EX2_15.sce"
		   ]
		  },
  {
"cell_type": "code",
	   "execution_count": null,
	   "metadata": {
	    "collapsed": true
	   },
	   "outputs": [],
"source": [
"clc\n",
"clear\n",
"\n",
"//Input data\n",
"A1=0.15 //Inlet area in m^2\n",
"C1=240 //Inlet velocity in m/s \n",
"T1=300 //Inlet temperature in K\n",
"P1=0.7 //Inlet pressure in bar\n",
"C2=120 //Exit velocity in m/s\n",
"k=1.4 //Adiabatic Constant\n",
"R=287 //Specific gas constant in J/kg-K\n",
"Cp=1005 //Specific heat capacity at constant pressure in J/kg-K \n",
"\n",
"//Calculations\n",
"a1=sqrt(k*R*T1) //Velocity of sound at inlet in m/s\n",
"M1=C1/a1 //Inlet mach number \n",
"d1=(P1*10^5)/(R*T1) //Density at inlet in kg/s, P1 in Pa\n",
"m=d1*A1*C1 //Mass flow rate in kg/s\n",
"t1=0.913 //Ratio of inlet temperature to Stagnation temperature from gas tables @M1,k=1.4\n",
"To=T1/t1 //Stagnation temperature in K\n",
"p1=0.727 //Ratio of inlet pressure to Stagnation pressure from gas tables @M1,k=1.4\n",
"Po=P1/p1 //Stagnation pressure in bar\n",
"T2=To-(C2^2/(2*Cp)) //Exit temperature in K\n",
"t2=T2/To //Temperature ratio \n",
"M2=0.33 //Exit mach number from gas tables @t2,k=1.4\n",
"p2=0.927 //Ratio of exit pressure to Stagnation pressure from isentropic gas tables @M2,k=1.4\n",
"P2=Po*p2 //exit pressure in bar\n",
"d2=(P2*10^5)/(R*T2) //Density at exit in kg/s, P2 in Pa\n",
"A2=(m/(d2*C2)) //Exit area in m^2\n",
"ds=0 //Entropy change in kJ/kg-K, since process is isentropic\n",
"\n",
"//Output\n",
"printf('(A)Mass flow rate is %3.3f kg/s\n (B)Stagnation pressure at exit is %3.4f bar\n (C)Stagnation Temperature at exit is %3.3f K\n (D)Static exit pressure is %3.3f bar\n (E)Entropy change is %3i kJ/kg-K\n (F)Exit area is %3.3f m^2',m,Po,To,P2,ds,A2)"
   ]
   }
,
{
		   "cell_type": "markdown",
		   "metadata": {},
		   "source": [
			"## Example 2.16: To_find_throat_area_reservoir_conditions_and_mass_flow_rate.sce"
		   ]
		  },
  {
"cell_type": "code",
	   "execution_count": null,
	   "metadata": {
	    "collapsed": true
	   },
	   "outputs": [],
"source": [
"clc\n",
"clear\n",
"\n",
"//Input data\n",
"A2=645 //Exit area in mm^2\n",
"M2=2 //Exit mach number\n",
"P2=1 //exit pressure in bar\n",
"T2=185 //Exit temperature in K\n",
"k=1.4 //Adiabatic Constant\n",
"R=287 //Specific gas constant in J/kg-K\n",
"\n",
"//Calculation\n",
"t1=0.555 //Ratio of exit temperature to Stagnation temperature from gas tables @M2,k=1.4\n",
"To=T2/t1 //Stagnation temperature in K\n",
"p1=0.128 //Ratio of exit pressure to Stagnation pressure from isentropic gas tables @M2,k=1.4\n",
"Po=P2/p1 //Stagnation pressure in bar\n",
"a1=1.687 //Ratio of exit area to critical area from isentropic gas tables @M2,k=1.4\n",
"At=A2/a1 //Critical area in mm^2\n",
"d2=(P2*10^5)/(R*T2) //Density at exit in kg/s, P2 in Pa\n",
"C2=sqrt(k*R*T2)*M2 //Exit air velocity in m/s\n",
"m=d2*A2*C2*10^-6 //Mass flow rate in kg/s, A2 in m^2\n",
"\n",
"//Output\n",
"printf('(A)Throat area is %3.2f mm^2\n (B)Reservoir pressure is %3.4f bar\n (C)Reservoir temperature is %3.2f K\n (D)Mass flow rate is %3.4f kg/s',At,Po,To,m)"
   ]
   }
,
{
		   "cell_type": "markdown",
		   "metadata": {},
		   "source": [
			"## Example 2.17: To_find_throat_conditions_ratio_of_velocities_and_mass_flow_rate.sce"
		   ]
		  },
  {
"cell_type": "code",
	   "execution_count": null,
	   "metadata": {
	    "collapsed": true
	   },
	   "outputs": [],
"source": [
"clc\n",
"clear\n",
"\n",
"//Input data\n",
"Po=20 //Stagnation pressure in kPa\n",
"To=1000 //Stagnation temperature in K\n",
"P2=3 //exit pressure in bar\n",
"A2=100 //Exit area in cm^2\n",
"k=1.4 //Adiabatic Constant\n",
"R=287 //Specific gas constant in J/kg-K\n",
"Cp=1005 //Specific heat capacity at constant pressure in J/kg-K \n",
"\n",
"//Calculations\n",
"p1=P2/Po //Pressure ratio\n",
"M2=1.9 //Exit mach number from gas tables @p1,k=1.4\n",
"t1=0.581 //Ratio of exit temperature to Stagnation temperature from isentropic gas tables @M2,k=1.4 \n",
"T2=To*t1 //exit temperature in K\n",
"C2=M2*sqrt(k*R*T2) //Exit velocity in m/s\n",
"a1=1.555 //Ratio of exit area to critical area from isentropic gas tables @M2,k=1.4\n",
"At=A2/a1 //critical area in cm^2\n",
"p1=0.528 //Ratio of critical pressure to Stagnation pressure from gas tables @M=1\n",
"Pt=Po*p1 //critical pressure in bar\n",
"t1=0.834 //Ratio of critical temperature to Stagnation temperature from gas tables @M=1\n",
"Tt=To*t1 //critical temperature in K\n",
"at=sqrt(k*R*Tt) //Sound velocity at throat in m/s \n",
"Ct=at //Air velocity t throat in m/s, Since M=1\n",
"dt=(Pt*10^5)/(R*Tt) //Density of air at throat in kg/m^3, Pt in Pa\n",
"m=dt*At*10^-4*Ct //Mass flow rate in kg/s, At in m^2\n",
"C_max=sqrt(2*Cp*To) //Maximum possible velocity in m/s\n",
"cr=C2/C_max //Ratio of velocities\n",
"\n",
"//Output\n",
"printf('(A)At Throat:\n    Area is %3.2f cm^2\n    Pressure is %3.2f bar\n    Temperature is %3i K\n (B)Exit velocity is %3.4f times C_max in m/s\n (C)Mass flow rate is %3.2f kg/s',At,Pt,Tt,cr,m)"
   ]
   }
,
{
		   "cell_type": "markdown",
		   "metadata": {},
		   "source": [
			"## Example 2.18: To_find_mass_flow_rate_and_exit_conditions.sce"
		   ]
		  },
  {
"cell_type": "code",
	   "execution_count": null,
	   "metadata": {
	    "collapsed": true
	   },
	   "outputs": [],
"source": [
"clc\n",
"clear\n",
"\n",
"//Input data\n",
"Po=7 //Stagnation pressure in bar\n",
"To=100+273 //Stagnation temperature in K\n",
"At=12 //Critical area in cm^2\n",
"A2=25.166 //Exit area in cm^2\n",
"k=1.4 //Adiabatic Constant\n",
"R=287 //Specific gas constant in J/kg-K\n",
"\n",
"//Calculation\n",
"a1=A2/At //Ratio of areas\n",
"//subsonic\n",
"M2=0.29 //Exit mach number from gas tables @a1,k=1.4\n",
"p1=0.943 //Ratio of exit pressure to Stagnation pressure from isentropic gas tables @M2,k=1.4\n",
"P2=Po*p1 //exit pressure in bar\n",
"t1=0.983 //Ratio of exit temperature to Stagnation temperature from gas tables @M2,k=1.4\n",
"T2=To*t1 //Exit temperature in K\n",
"C2=M2*sqrt(k*R*T2) //Exit air velocity in m/s\n",
"//supersonic\n",
"M_2=2.25 //Exit mach number from gas tables @a1,k=1.4\n",
"p2=0.0865 //Ratio of exit pressure to Stagnation pressure from isentropic gas tables @M2,k=1.4\n",
"P_2=Po*p2 //exit pressure in bar\n",
"t2=0.497 //Ratio of exit temperature to Stagnation temperature from gas tables @M2,k=1.4\n",
"T_2=To*t2 //Exit temperature in K\n",
"C_2=M_2*sqrt(k*R*T_2) //Exit air velocity in m/s\n",
"d2=(P2*10^5)/(R*T2) //Density at exit in kg/s, P2 in Pa\n",
"m=d2*A2*10^-4*C2 //Mass flow rate in kg/s, A2 in m^2\n",
"\n",
"//Output\n",
"printf('(A)Maximum mass flow rate is %3.3f kg/s\n (B)Subsonic exit condition:\n    Temperature is %3.3f K\n    Velocity is %3.2f m/s\n    Pressure is %3.3f bar\n    Mach number is %3.2f\n    Supersonic exit condition:\n    Temperature is %3.3f K\n    Velocity is %3.2f m/s\n    Pressure is %3.4f bar\n    Mach number is %3.2f\n',m,T2,C2,P2,M2,T_2,C_2,P_2,M_2)"
   ]
   }
,
{
		   "cell_type": "markdown",
		   "metadata": {},
		   "source": [
			"## Example 2.19: EX2_19.sce"
		   ]
		  },
  {
"cell_type": "code",
	   "execution_count": null,
	   "metadata": {
	    "collapsed": true
	   },
	   "outputs": [],
"source": [
"clc\n",
"clear\n",
"\n",
"//Input data\n",
"T1=335 //Inlet temperature in K\n",
"P1=655 //Inlet pressure in kPa\n",
"C1=150 //Inlet velocity in m/s\n",
"P2=138 //Exit pressure in kPa\n",
"T2=222 //Exit temperature in K\n",
"m=9 //Mass flow rate in kg/s\n",
"Mol=32 //Molar mass of oxygen in kg/mol\n",
"Ri=8314 //Ideal gas constant in J/kg-k\n",
"k=1.4 //Adiabatic Constant\n",
"Cp=915 //Specific heat capacity at constant pressure in J/kg-K \n",
"\n",
"//Calculation\n",
"R=Ri/Mol //Specific gas constant in J/kg-K\n",
"a1=sqrt(k*R*T1) //Sound velocity at inlet in m/s \n",
"M1=C1/a1 //Inlet mach number\n",
"t1=0.964 //Ratio of inlet temperature to Stagnation temperature from gas tables @M1,k=1.4\n",
"To1=T1/t1 //Stagnation temperature at inlet in K\n",
"p1=0.881 //Ratio of inlet pressure to Stagnation pressure at entry from gas tables @M1,k=1.4 \n",
"Po1=P1/p1 //Stagnation pressure at entry in kPa\n",
"t2=0.834 //Ratio of critical temperature to Stagnation temperature from gas tables @M=1\n",
"Tt=To1*t2 //critical temperature in K\n",
"C2=sqrt(C1^2+(2*Cp*(T1-T2))) //Exit velocity in m/s, \n",
"a2=sqrt(k*R*T2) //Sound velocity at exit in m/s \n",
"M2=C2/a2 //Exit mach number \n",
"p2=0.208 //Ratio of exit pressure to Stagnation pressure at exit from isentropic gas tables @M2,k=1.4\n",
"Po2=P2/p2 //Stagnation pressure at exit in kPa\n",
"SPC=(Po1-Po2) //Change in the stagnation pressure between inlet and exit in kPa\n",
"ds=R*log(Po1/Po2) //Change in entropy in J/kg-K\n",
"T2s=T1*((P2/P1)^((k-1)/k)) //Exit temperature at isentropic state in K\n",
"eff=((T1-T2)/(T1-T2s))*100 //Nozzle efficiency in percent\n",
"\n",
"//Output\n",
"printf('(A)Exit mach number is %3.2f\n (B)Change in the stagnation pressure between inlet and exit is %3.2f kPa\n (C)Change in entropy is %3.3f J/kg-K\n (D)Static temperature at throat is %3.1f K\n (E)Nozzle efficiency is %3.2f percent',M2,SPC,ds,Tt,eff)"
   ]
   }
,
{
		   "cell_type": "markdown",
		   "metadata": {},
		   "source": [
			"## Example 2.1: To_find_mass_flow_rate_temperature_and_pressure_at_throat.sce"
		   ]
		  },
  {
"cell_type": "code",
	   "execution_count": null,
	   "metadata": {
	    "collapsed": true
	   },
	   "outputs": [],
"source": [
"clc\n",
"clear\n",
"\n",
"//Input data\n",
"do1=1.12 //Density of air i reservoir in kg/m^3\n",
"ao1=500 //Velocity of sound in reservoir in m/s\n",
"d=0.01 //Throat diameter in m \n",
"k=1.4 //Adiabatic Constant \n",
"R=287 //Specific gas constant in J/kg-K\n",
"\n",
"//Calculation\n",
"To1=ao1^2/(k*R) //Stagnation temperature in K\n",
"Po1=do1*R*To1 //Stagnation pressure in Pa\n",
"p1=0.528 //Ratio of critical pressure to Stagnation pressure from gas tables @M=1\n",
"Pt=(Po1*p1)*10^-5 //Throat pressure in bar\n",
"t1=0.834 //Ratio of critical temperature to Stagnation temperature from gas tables @M=1\n",
"Tt=To1*t1 //critical temperature in K\n",
"d_t=(Pt*10^5)/(R*Tt) //Density of air at throat in kg/m^3\n",
"a_t=sqrt(k*R*Tt) //Sound velocity at throat in m/s \n",
"Ct=a_t //Air velocity t throat in m/s, Since M=1\n",
"A_t=%pi*d^2/4 //Throat area in m^2 \n",
"m=d_t*A_t*Ct //Maximum mass flow rate in kg/s\n",
"\n",
"//Output\n",
"printf('(A)Maximum mass flow rate is %3.5f kg/s\n (B)Pressure and temperarature at the throat are %3.3f bar and %3.4f K',m,Pt,Tt)"
   ]
   }
,
{
		   "cell_type": "markdown",
		   "metadata": {},
		   "source": [
			"## Example 2.20: To_find_pressure_rise_coefficient_and_ratio_of_area.sce"
		   ]
		  },
  {
"cell_type": "code",
	   "execution_count": null,
	   "metadata": {
	    "collapsed": true
	   },
	   "outputs": [],
"source": [
"clc\n",
"clear\n",
"\n",
"//Input data\n",
"C1=200 //Inlet velocity in m/s\n",
"Po1=400 //Stagnation pressure at entry in kPa\n",
"To1=500 //Stagnation temperature at inlet in K\n",
"C2=100 //Exit velocity in m/s\n",
"eff=0.9 //Nozzle efficiency \n",
"k=1.4 //Adiabatic Constant\n",
"Cp=1005 //Specific heat capacity at constant pressure in J/kg-K \n",
"\n",
"//Calculation\n",
"T1=To1-(C1^2/(2*Cp)) //Inlet temperature in K\n",
"t1=T1/To1 //Temperature ratio \n",
"P1=Po1*t1^(k/(k-1)) //Inlet pressure in kPa\n",
"To2s=(eff*(To1-T1))+T1 //Exit Stagnation temperature at isentropic state in K\n",
"To2=To2s //Exit Stagnation temperature in K, Since adiabatic \n",
"T2=To2-(C2^2/(2*Cp)) //Exit temperature in K\n",
"t2=To2s/T1 //Temperature ratio \n",
"Po2=P1*t2^(k/(k-1)) //Stagnation pressure at exit in kPa\n",
"t3=T2/To2 //Temperature ratio \n",
"P2=Po2*t3^(k/(k-1)) //Exit pressure in kPa\n",
"Cpr=(P2-P1)/(Po1-P1) //Pressure raise coefficient\n",
"ar=(P1*T2*C1)/(P2*T1*C2) //Ratio of exit to inlet area\n",
"\n",
"//Output\n",
"printf('(A)Pressure raise coefficient is %3.3f\n (B)Ratio of exit to inlet area is %3.3f',Cpr,ar)"
   ]
   }
,
{
		   "cell_type": "markdown",
		   "metadata": {},
		   "source": [
			"## Example 2.21: EX2_21.sce"
		   ]
		  },
  {
"cell_type": "code",
	   "execution_count": null,
	   "metadata": {
	    "collapsed": true
	   },
	   "outputs": [],
"source": [
"clc\n",
"clear\n",
"\n",
"//Input data\n",
"Po1=4.9 //Stagnation pressure at entry in bar\n",
"P2=1.4 //Exit pressure in bar\n",
"To=810 //Stagnation temperature in K\n",
"m=1 //Mass flow rate in kg/s\n",
"eff=0.9 //Nozzle efficiency \n",
"k=1.4 //Adiabatic Constant\n",
"R=287 //Specific gas constant in J/kg-K\n",
"Cp=1005 //Specific heat capacity at constant pressure in J/kg-K \n",
"\n",
"//Calculations\n",
"t1=0.834 //Ratio of critical temperature to Stagnation temperature from gas tables @M=1\n",
"Tt=To*t1 //critical temperature in K\n",
"at=sqrt(k*R*Tt) //Sound velocity at critical state in m/s \n",
"Ct=at //Air velocity t throat in m/s, Since M=1\n",
"p1=0.528 //Ratio of critical pressure to Stagnation pressure from gas tables @M=1\n",
"Pt=Po1*p1 //critical pressure in bar\n",
"dt=(Pt*10^5)/(R*Tt) //Density of air at throat in kg/m^3, Pt in Pa\n",
"At=(m/(dt*Ct))*10^4 //Throat area in cm^2 \n",
"p2=P2/Po1 //Pressure ratio\n",
"T2s=To*p2^((k-1)/k) //Exit temperature in K (at isentropic state)\n",
"T2=To-(eff*(To-T2s)) //Exit temperature in K\n",
"d2=(P2*10^5)/(R*T2) //Density at exit in kg/m^3, P2 in Pa\n",
"C2=sqrt(2*Cp*(To-T2)) //Exit air velocity in m/s\n",
"A2=(m/(d2*C2))*10^4 //Exit area in cm^2\n",
"a2=sqrt(k*R*T2) //Sound velocity at exit in m/s \n",
"M2=C2/a2 //Exit mach number\n",
"p3=0.332 //Static to stagnation pressure ratio at exit from isentropic gas tables @M2,k=1.4 \n",
"Po2=P2/p3 //stagnation pressure in bar\n",
"TPL=Po1-Po2 //Loss in total pressure is %3.3f bar\n",
"ds=R*log(Po1/Po2) //Increase in entropy in kJ/kg-K\n",
"\n",
"//Output\n",
"printf('(A)Throat and exit area are %3.2f cm^2 and %3.3f cm^2\n (B)Exit mach number is %3.2f\n (C)Loss in total pressure is %3.3f bar\n (D)Increase in entropy is %3.2f kJ/kg-K',At,A2,M2,TPL,ds)"
   ]
   }
,
{
		   "cell_type": "markdown",
		   "metadata": {},
		   "source": [
			"## Example 2.22: To_find_required_throat_and_exit_area_of_nozzle.sce"
		   ]
		  },
  {
"cell_type": "code",
	   "execution_count": null,
	   "metadata": {
	    "collapsed": true
	   },
	   "outputs": [],
"source": [
"clc\n",
"clear\n",
"\n",
"//Input data\n",
"Po=3.5 //Stagnation pressure in bar\n",
"To=425+273 //Stagnation temperature in K\n",
"P2=0.97 //Exit pressure in bar\n",
"m=18 //Mass flow rate in kg/s\n",
"Kd=0.99 //Coefficient of discharge\n",
"eff=0.94 //Nozzle efficiency \n",
"k=1.33 //Adiabatic Constant\n",
"Cp=1110 //Specific heat capacity at constant pressure in J/kg-K \n",
"\n",
"//Calculations \n",
"Pt=Po*(2/(k+1))^(k/(k-1)) //critical pressure in bar\n",
"Tt=To*(2/(k+1)) //critical temperature in K\n",
"R=Cp/(k/(k-1)) //Specific gas constant in J/kg-K\n",
"m_s=m/Kd //Isentropic mass\n",
"at=sqrt(k*R*Tt) //Sound velocity at throat in m/s\n",
"Ct=at //Air velocity t throat in m/s, Since M=1\n",
"dt=(Pt*10^5)/(R*Tt) //Density of air at throat in kg/m^3, Pt in Pa\n",
"At=(m_s/(dt*Ct))*10^4 //Throat area in cm^2 \n",
"p2=P2/Po //Pressure ratio\n",
"T2s=To*p2^(1/(k/(k-1))) //Exit temperature in K (at isentropic state)\n",
"T2=To-(eff*(To-T2s)) //Exit temperature in K\n",
"d2=(P2*10^5)/(R*T2) //Density at exit in kg/m^3, P2 in Pa\n",
"C2=sqrt(2*Cp*(To-T2)) //Exit air velocity in m/s\n",
"A2=(m_s/(d2*C2))*10^4 //Exit area in cm^2\n",
"\n",
"//Output\n",
"printf('Throat area and Exit area of nozzle are %3.1f cm^2 and %3.1f cm^2',At,A2)"
   ]
   }
,
{
		   "cell_type": "markdown",
		   "metadata": {},
		   "source": [
			"## Example 2.2: To_find_properties_at_throat_and_exit_in_Convergent_Divergent_nozzle.sce"
		   ]
		  },
  {
"cell_type": "code",
	   "execution_count": null,
	   "metadata": {
	    "collapsed": true
	   },
	   "outputs": [],
"source": [
"clc\n",
"clear\n",
"\n",
"//Input data\n",
"P1=2 //Intial pressure in bar\n",
"C1=170 //Initial velocity of air in m/s\n",
"T1=473 //Intial temperature in K\n",
"A1=1000 //Inlet area in mm^2\n",
"P2=0.95 //Exit pressure in bar\n",
"k=1.4 //Adiabatic Constant \n",
"R=287 //Specific gas constant in J/kg-K\n",
"\n",
"//Calculation\n",
"a_1=sqrt(k*R*T1) //Velocity of sound at inlet in m/s\n",
"M1=C1/a_1 //Inlet mach number\n",
"t1=0.970 //Ratio of inlet temperature to Stagnation temperature from gas tables @M=1\n",
"To1=T1/t1 //Stagnation temperature in K\n",
"p1=0.900 //Ratio of inlet pressure to Stagnation pressure from gas tables @M=1\n",
"Po1=P1/p1 //Stagnation pressure in bar\n",
"a1=1.623 //Ratio of inlet area to critical area from isentropic gas tables @M=1\n",
"At=A1/a1 //critical area in mm^2\n",
"p2=0.528 //Pressure ratio at critical state from isentropic gas tables @M=1\n",
"Pt=Po1*p2 //Throat pressure in bar\n",
"t2=0.834 //Temperature ratio at critical state from isentropic gas tables @M=1\n",
"Tt=To1*t2 //Throat temperature in K\n",
"a_t=sqrt(k*R*Tt) //Velocity of sound at throat in m/s\n",
"C_t=a_t //Critical velocity of air in m/s\n",
"p3=P2/Po1 //Pressure ratio at exit \n",
"M2=1.17 //Mach number at exit from isentropic gas tables @p3\n",
"t3=0.785 //Temperature ratio at exit from isentropic gas tables @M2\n",
"T2=To1*t3 //Exit temperature in K\n",
"a3=1.022 //Area ratio at exit from isentropic gas tables @M2\n",
"A2=At*a3 //Exit area in mm^2,  wrong answer in textbook\n",
"C2=M2*sqrt(k*R*T2) //Exit velocity in m/s\n",
"\n",
"//Output\n",
"printf('(A)Stagnation temperature and pressure are %3.2f K and %3.3f bar\n (B)Sonic velocity and mach number at entry are %3.2f m/s and %3.2f\n (C)Velocity, Mach number and flow area at outlet section are %3.2f m/s, %3.2f and %3.2f mm^2\n (D)Pressure, area at throat of the nozzle are %3.5f bar and %3.3f mm^2',To1,Po1,a_1,M1,C2,M2,A2,Pt,At)"
   ]
   }
,
{
		   "cell_type": "markdown",
		   "metadata": {},
		   "source": [
			"## Example 2.3: EX2_3.sce"
		   ]
		  },
  {
"cell_type": "code",
	   "execution_count": null,
	   "metadata": {
	    "collapsed": true
	   },
	   "outputs": [],
"source": [
"clc\n",
"clear\n",
"\n",
"//Input data\n",
"Po1=10 //Stagnation pressure in bar\n",
"To1=798 //Stagnation temperature in K\n",
"Pt=7.6 //Throat pressure in bar \n",
"m=1.5 //Mass flow rate in kg/s\n",
"k=1.4 //Adiabatic Constant\n",
"R=287 //Specific gas constant in J/kg-K\n",
"Cp=1005 //Specific heat capacity at constant pressure in J/kg-K \n",
" \n",
"//Calculation\n",
"p1=0.528 //Ratio of critical pressure to Stagnation pressure from isentropic gas tables @M=1,k=1.4\n",
"Pc=p1*Po1 //Critical pressure in bar\n",
"P2=Pt //Exit pressure in bar, Since Pc<P2\n",
"p2=P2/Po1 //Pressure ratio\n",
"M2=0.64 //Exit mach number from isentropic gas tables @p2\n",
"t1=0.924 //Ratio of exit temperature to Stagnation temperature from isentropic gas tables @M2\n",
"T2=t1*To1 //exit temperature in K\n",
"C2=sqrt(k*R*T2)*M2 //Exit velocity in m/s\n",
"C_max=sqrt(2*Cp*To1) //Maximum possible velocity in m/s\n",
"d2=(P2*10^5)/(R*T2) //Density at exit in kg/m^3\n",
"At=(m/(d2*C2))*10^6 //Throat area in mm^2\n",
"\n",
"//Output\n",
"printf('(A)At the nozzle throat/exit:\n    Pressure is %3.2f bar\n    Temperature is %3.2f K\n    Velocity is %3.2f\n (B)Maximum possible velocity is %3.2f m/s\n (C)Type of the nozzle is a convergent nozzle and its throat area is %3.3f mm^2',P2,T2,C2,C_max,At)"
   ]
   }
,
{
		   "cell_type": "markdown",
		   "metadata": {},
		   "source": [
			"## Example 2.4: To_find_properties_at_exit_in_Convergent_Divergent_nozzle.sce"
		   ]
		  },
  {
"cell_type": "code",
	   "execution_count": null,
	   "metadata": {
	    "collapsed": true
	   },
	   "outputs": [],
"source": [
"clc\n",
"clear\n",
"\n",
"//Input data\n",
"Po1=3.344 //Stagnation pressure in bar\n",
"To1=900 //Stagnation temperature in K\n",
"P2=1.05 //Exit pressure in bar\n",
"k=1.4 //Adiabatic Constant\n",
"R=287 //Specific gas constant in J/kg-K\n",
"Cp=1005 //Specific heat capacity at constant pressure in J/kg-K \n",
"\n",
"//Calculation\n",
"p1=P2/Po1 //Pressure ratio\n",
"M2=1.40 //Exit mach number from gas tables @p1,k=1.4\n",
"t1=0.718 //Ratio of exit temperature to Stagnation temperature from isentropic gas tables @M2,k=1.4\n",
"T2=To1*t1 //exit temperature in K\n",
"C2=sqrt(k*R*T2)*M2 //Exit velocity in m/s\n",
"d2=(P2*10^5)/(R*T2) //Density at exit in kg/m^3\n",
"a1=1.115 //Ratio of exit area to critical area from isentropic gas tables @M2\n",
"M_2=0.6733 //Exit mach number when it acts as diffuser \n",
"t2=0.91633 //Ratio of exit temperature to Stagnation temperature from isentropic gas tables @M2\n",
"T_2=t2*To1 //exit temperature in K\n",
"C_2=sqrt(k*R*T_2)*M_2 //Exit velocity in m/s\n",
"p2=0.738 //Ratio of exit pressure to Stagnation pressure from isentropic gas tables @M2\n",
"P_2=Po1*p2 //exit pressure in bar\n",
"d_2=(P_2*10^5)/(R*T_2) //Density at exit in kg/m^3\n",
"\n",
"//Output\n",
"printf('(A)At exit:\n    Temperaure is %3i K\n    Velocity is %3.2f m/s\n    Density is %3.3f kg/m^3\n (B)At diffuser:\n    Temperaure is %3.3f K\n    Velocity is %3.3f m/s\n    Density is %3.4f kg/m^3\n    Pressure is %3.4f bar\n',T2,C2,d2,T_2,C_2,d_2,P_2)"
   ]
   }
,
{
		   "cell_type": "markdown",
		   "metadata": {},
		   "source": [
			"## Example 2.5: To_find_mass_flow_rate_and_pressure_of_a_CD_nozzle.sce"
		   ]
		  },
  {
"cell_type": "code",
	   "execution_count": null,
	   "metadata": {
	    "collapsed": true
	   },
	   "outputs": [],
"source": [
"clc\n",
"clear\n",
"\n",
"//Input data\n",
"Po1=8 //Stagnation pressure in bar\n",
"To1=273+15 //Stagnation temperature in K\n",
"At=25 //Throat area in cm^2\n",
"A2=100 //Exit area in cm^2\n",
"k=1.4 //Adiabatic Constant\n",
"R=287 //Specific gas constant in J/kg-K\n",
"\n",
"//Calculation\n",
"a1=A2/At //Area ratio\n",
"M2=2.94 //Exit mach number from gas tables @a1,k=1.4\n",
"p1=0.0298 //Ratio of exit pressure to Stagnation pressure from isentropic gas tables @M2,k=1.4\n",
"P2=Po1*p1 //exit pressure in bar\n",
"M_2=0.146 //Exit mach number when it acts as diffuser\n",
"p2=0.9847 //Ratio of exit pressure to Stagnation pressure from isentropic gas tables @M2\n",
"P_2=Po1*p2 //exit pressure in bar\n",
"p3=0.528 //Ratio of critical pressure to Stagnation pressure from isentropic gas tables @M=1,k=1.4 \n",
"Pc=(Po1*p3) //Critical pressure in bar\n",
"t1=0.834 //Ratio of critical temperature to Stagnation temperature from isentropic gas tables @M=1,k=1.4 \n",
"Tt=To1*t1 //critical temperature in K\n",
"d_t=(Pc*10^5)/(R*Tt) //Density at critical state in kg/m^3\n",
"a_t=sqrt(k*R*Tt) //Velocity of sound at critical state in m/s\n",
"Ct=a_t //Velocity of air at critical state in m/s\n",
"m=d_t*At*Ct*10^-4 //Mass flow rate in kg/s\n",
"\n",
"//Output\n",
"printf('(A)Maximum mass flow rate is %3.3f kg/s\n (B)As nozzle:\n    Pressure is %3.4f bar\n    Mach number is %3.2f\n As diffuser:\n    Pressure is %3.4f bar\n    Mach number is %3.3f',m,P2,M2,P_2,M_2)"
   ]
   }
,
{
		   "cell_type": "markdown",
		   "metadata": {},
		   "source": [
			"## Example 2.6: To_find_exit_properties_and_force_exerted_on_diffuser_walls.sce"
		   ]
		  },
  {
"cell_type": "code",
	   "execution_count": null,
	   "metadata": {
	    "collapsed": true
	   },
	   "outputs": [],
"source": [
"clc\n",
"clear\n",
"\n",
"//Input data\n",
"D1=15 //Entry diameter in cm\n",
"D2=30 //Exit diamater in cm \n",
"P1=0.96 //Inlet pressure in bar\n",
"T1=340 //Inlet temperature in K\n",
"C1=185 //INlet velocity in m/s\n",
"k=1.4 //Adiabatic Constant\n",
"R=287 //Specific gas constant in J/kg-K\n",
"\n",
"//Calculation\n",
"A1=%pi*D1^2/4 //Entry area in cm^2\n",
"A2=%pi*D2^2/4 //Exit area in cm^2\n",
"a_1=sqrt(k*R*T1) //Sound velocity in m/s\n",
"M1=C1/a_1 //Inlet mach number \n",
"p1=0.843 //Ratio of inlet pressure to Stagnation pressure from gas tables @M1,k=1.4\n",
"Po1=P1/p1 //Stagnation pressure in bar\n",
"t1=0.952 //Ratio of inlet temperature to Stagnation temperature from gas tables @M1,k=1.4\n",
"To1=T1/t1 //Stagnation temperature in K\n",
"a1=1.34 //Ratio of inlet area to critical area from isentropic gas tables @M1,k=1.4\n",
"At=A1/a1 //critical area in cm^2\n",
"a2=A2/At //Area ratio\n",
"M2=0.1088  //Exit mach number from gas tables @a2,k=1.4\n",
"p2=0.992 //Ratio of exit pressure to Stagnation pressure from isentropic gas tables @M2,k=1.4\n",
"P2=Po1*p2 //exit pressure in bar\n",
"t2=0.9976 //Ratio of exit temperature to Stagnation temperature from isentropic gas tables @M2,k=1.4\n",
"T2=To1*t2 //exit temperature in K\n",
"C2=sqrt(k*R*T2)*M2 //Exit velocity in m/s\n",
"F1=P1*10^5*A1*10^-4*(1+(k*(M1^2))) //Force exerted at entry in kN\n",
"F2=P2*10^5*A2*10^-4*(1+(k*(M2^2))) //Force exerted at exit in kN\n",
"F=(F2-F1)*10^-3 //Force exerted on the diffuser walls in kN, wrong answer in textbook \n",
"\n",
"//Output\n",
"printf('(A)Exit pressure is %3.3f bar\n (B)Exit velocity is %3.2f m/s\n (C)Force exerted on the diffuser walls is %3.3f kN',P2,C2,F)"
   ]
   }
,
{
		   "cell_type": "markdown",
		   "metadata": {},
		   "source": [
			"## Example 2.7: To_find_properties_at_inlet_and_exit_of_diffuser.sce"
		   ]
		  },
  {
"cell_type": "code",
	   "execution_count": null,
	   "metadata": {
	    "collapsed": true
	   },
	   "outputs": [],
"source": [
"clc\n",
"clear\n",
"\n",
"//Input data\n",
"M1=3.6 //Inlet mach number \n",
"M2=2 //Exit mach number\n",
"m=15 //Mass flow rate in kg/s\n",
"P1=1.05 //Inlet pressure in bar\n",
"T1=313 //Inlet temperature in K\n",
"k=1.4 //Adiabatic Constant\n",
"R=287 //Specific gas constant in J/kg-K\n",
"\n",
"//Calculation\n",
"p1=11.38*10^-3 //Ratio of inlet pressure to Stagnation pressure from gas tables @M1,k=1.4\n",
"Po=P1/p1 //Stagnation pressure in bar\n",
"t1=0.278 //Ratio of inlet temperature to Stagnation temperature from gas tables @M1,k=1.4\n",
"To=T1/t1 //Stagnation temperature in K\n",
"C1=sqrt(k*R*T1)*M1 //Inlet velocity in m/s\n",
"d1=(P1*10^5)/(R*T1) //Density at inlet in kg/s, P1 in Pa\n",
"A1=(m/(d1*C1))*10^4 //Inlet area in cm^2\n",
"p2=0.128 //Ratio of exit pressure to Stagnation pressure from isentropic gas tables @M2,k=1.4\n",
"P2=Po*p2 //exit pressure in bar\n",
"t2=0.555 //Ratio of exit temperature to Stagnation temperature from isentropic gas tables @M2,k=1.4\n",
"T2=To*t2 //exit temperature in K\n",
"C2=sqrt(k*R*T2)*M2 //Exit velocity in m/s\n",
"d2=(P2*10^5)/(R*T2) //Density at exit in kg/s\n",
"A2=(m/(d2*C2))*10^4 //Exit area in cm^2\n",
"\n",
"//Output \n",
"printf('(A)At Inlet:\n    Area is %3.1f cm^2\n    Total pressure %3.2f bar\n    Total temperature is %3.1f K\n (B)At Exit:\n    Area is %3.1f cm^2\n    Total pressure %3.2f bar\n    Total temperature is %3.2f K\n    Static temperature is %3.2f K\n    Static pressure is %3.2f bar',A1,Po,To,A2,Po,To,T2,P2)"
   ]
   }
,
{
		   "cell_type": "markdown",
		   "metadata": {},
		   "source": [
			"## Example 2.8: To_find_properties_at_throat_and_exit_and_maximum_possible_velocity_of_nozzle.sce"
		   ]
		  },
  {
"cell_type": "code",
	   "execution_count": null,
	   "metadata": {
	    "collapsed": true
	   },
	   "outputs": [],
"source": [
"clc\n",
"clear\n",
"\n",
"//Input data\n",
"Po=6.91 //Stagnation pressure in bar\n",
"To=325+273 //Stagnation temperature in K\n",
"P2=0.98 //exit pressure in bar\n",
"m=3600/3600 //Mass flow rate in kg/s\n",
"k=1.4 //Adiabatic Constant\n",
"R=287 //Specific gas constant in J/kg-K\n",
"Cp=1005 //Specific heat capacity at constant pressure in J/kg-K \n",
"\n",
"//Calculation\n",
"p1=0.528 //Ratio of critical pressure to Stagnation pressure from gas tables @M=1\n",
"Pt=Po*p1 //critical pressure in bar\n",
"t1=0.834 //Ratio of critical temperature to Stagnation temperature from gas tables @M=1\n",
"Tt=To*t1 //critical temperature in K\n",
"at=sqrt(k*R*Tt) //Sound velocity at throat in m/s \n",
"Ct=at //Air velocity t throat in m/s, Since M=1\n",
"dt=(Pt*10^5)/(R*Tt) //Density of air at throat in kg/m^3, Pt in Pa\n",
"At=(m/(dt*Ct))*10^4 //Throat area in m^2 x10^-4 \n",
"p2=P2/Po //Pressure ratio \n",
"M2=1.93 //Exit mach number from gas tables @p2,k=1.4\n",
"t2=0.573 //Ratio of exit temperature to Stagnation temperature from isentropic gas tables @M2,k=1.4\n",
"T2=To*t2 //exit temperature in K\n",
"a2=1.593 //Ratio of exit area to critical area from isentropic gas tables @M2,k=1.4\n",
"A2=a2*At //Exit area in m^2, At in m^2 x10^-4\n",
"C_max=sqrt(2*Cp*To) //Maximum possible velocity in m/s\n",
"\n",
"//Output\n",
"printf('(A)At throat:\n    Area is %3.2fx10^-4 m^2\n    Pressure is %3.2f bar\n    Velocity is %3.1f m/s\n (B)At Exit:\n    Area is %3.3fx10^-4 m^2\n    Mach number is %3.2f\n (C)Maximum possible velocity is %3.2f m/s',At,Pt,Ct,A2,M2,C_max)"
   ]
   }
,
{
		   "cell_type": "markdown",
		   "metadata": {},
		   "source": [
			"## Example 2.9: To_find_Stagnation_temperature_properties_at_exit_and_mass_flow_rate.sce"
		   ]
		  },
  {
"cell_type": "code",
	   "execution_count": null,
	   "metadata": {
	    "collapsed": true
	   },
	   "outputs": [],
"source": [
"clc\n",
"clear\n",
"\n",
"//Input data\n",
"P1=2.45 //Inlet pressure in bar\n",
"T1=26.5+273 //Inlet temperature in K\n",
"M1=1.4 //Inlet mach number \n",
"M2=2.5 //Exit mach number\n",
"k=1.3 //Adiabatic Constant\n",
"R=469 //Specific gas constant in J/kg-K\n",
"\n",
"//Calculation\n",
"t1=0.773 //Ratio of inlet temperature to Stagnation temperature from gas tables @M1,k=1.3\n",
"To=T1/t1 //Stagnation temperature in K\n",
"t2=0.516 //Ratio of exit temperature to Stagnation temperature from isentropic gas tables @M2,k=1.3\n",
"T2=To*t2 //exit temperature in K\n",
"C2=sqrt(k*R*T2)*M2 //Exit velocity in m/s\n",
"a1=sqrt(k*R*T1) //Sound velocity at inlet in m/s\n",
"G=(P1*10^5*a1*M1)/(R*T1) //)Flow rate per square meter of the inlet cross section in kg/s-m^2\n",
"\n",
"//Output\n",
"printf('(A)Stagnation temperature is %3.2f K\n (B)At Exit:\n    Temperature is %3.3f K\n    Velocity is %3.2f m/s\n (C)Flow rate per square meter of the inlet cross section is %3.2f kg/s-m^2',To,T2,C2,G)"
   ]
   }
],
"metadata": {
		  "kernelspec": {
		   "display_name": "Scilab",
		   "language": "scilab",
		   "name": "scilab"
		  },
		  "language_info": {
		   "file_extension": ".sce",
		   "help_links": [
			{
			 "text": "MetaKernel Magics",
			 "url": "https://github.com/calysto/metakernel/blob/master/metakernel/magics/README.md"
			}
		   ],
		   "mimetype": "text/x-octave",
		   "name": "scilab",
		   "version": "0.7.1"
		  }
		 },
		 "nbformat": 4,
		 "nbformat_minor": 0
}
