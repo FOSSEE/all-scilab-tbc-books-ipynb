{
"cells": [
 {
		   "cell_type": "markdown",
	   "metadata": {},
	   "source": [
       "# Chapter 8: Two Marks Questions and Answers "
	   ]
	},
{
		   "cell_type": "markdown",
		   "metadata": {},
		   "source": [
			"## Example 8.1_34: To_find_Mach_angle.sce"
		   ]
		  },
  {
"cell_type": "code",
	   "execution_count": null,
	   "metadata": {
	    "collapsed": true
	   },
	   "outputs": [],
"source": [
"clc\n",
"clear\n",
"\n",
"//Input data\n",
"C=500 //Airplane velocity in m/s\n",
"T=20+273 //Temperature in K\n",
"k=1.4 //Adiabatic constant \n",
"R=287 //Specific gas constant in J/kg-K\n",
"\n",
"//Calculation\n",
"a=sqrt(k*R*T) //Sound velocity in m/s\n",
"M=C/a //Mach number\n",
"alp=asind(1/M) //Mach angle in degree\n",
"\n",
"//Output\n",
"printf('Mach angle is %3.3f degree',alp)"
   ]
   }
,
{
		   "cell_type": "markdown",
		   "metadata": {},
		   "source": [
			"## Example 8.1_35: To_find_values_of_back_pressure.sce"
		   ]
		  },
  {
"cell_type": "code",
	   "execution_count": null,
	   "metadata": {
	    "collapsed": true
	   },
	   "outputs": [],
"source": [
"clc\n",
"clear\n",
"\n",
"//Input data\n",
"a1=2.2 //Area ratio (A/At)\n",
"Po=10 //Stagnation Pressure in bar\n",
"\n",
"//Calculation\n",
"//Two values of mach number at a1 from gas tables\n",
"\n",
"M1=0.275 //Mach number from gas tables\n",
"p1=0.949 //Presure ratio (P/Po)\n",
"P1=Po*p1 //back pressure in bar\n",
"\n",
"M2=2.295 //Mach number from gas tables\n",
"p2=0.0806 //Presure ratio (P/Po)\n",
"P2=Po*p2 //back pressure in bar\n",
"\n",
"//Output\n",
"printf('(A)When M=%3.3f, back pressure is %3.2f bar\n (B)When M=%3.3f, back pressure is %3.3f bar',M1,P1,M2,P2)"
   ]
   }
,
{
		   "cell_type": "markdown",
		   "metadata": {},
		   "source": [
			"## Example 8.1_37: To_find_temperature_at_nose_of_aircraft.sce"
		   ]
		  },
  {
"cell_type": "code",
	   "execution_count": null,
	   "metadata": {
	    "collapsed": true
	   },
	   "outputs": [],
"source": [
"clc\n",
"clear\n",
"\n",
"//Input data\n",
"M=0.8 //Mach number\n",
"T=20+273 //Temperature in K\n",
"k=1.4 //Adiabatic constant \n",
"\n",
"//Calculation \n",
"To=T*(1+(((k-1)/2)*M^2)) //Temperature of air at nose of aircraft in K\n",
"To1=To-273 //Temperature of air at nose of aircraft in degree Centigrade\n",
"\n",
"//Output \n",
"printf('Temperature of air at nose of aircraft is %3.1f degree Centigrade',To1)"
   ]
   }
,
{
		   "cell_type": "markdown",
		   "metadata": {},
		   "source": [
			"## Example 8.1_38: To_determine_stagnation_pressure_and_stagnation_temperature.sce"
		   ]
		  },
  {
"cell_type": "code",
	   "execution_count": null,
	   "metadata": {
	    "collapsed": true
	   },
	   "outputs": [],
"source": [
"clc\n",
"clear\n",
"\n",
"//Input data\n",
"P=1 //Pressure in bar\n",
"T=400 //Temperature in K\n",
"C=400 //Air velocity in m/s\n",
"k=1.4 //Adiabatic constant \n",
"R=287 //Specific gas constant in J/kg-K\n",
"Cp=1005 //Specific heat capacity at constnat pressure in J/kg-K\n",
"\n",
"//Calculation\n",
"To=T+(C^2/(2*Cp)) //Stagnation Temperature in K\n",
"Poi=P+((P*C^2)/(R*T*2)) //Stagnation Pressure (if it is incompressible) in bar\n",
"Poc=P*(To/T)^(k/(k-1)) //Stagnation Pressure (if it is compressible) in bar\n",
"\n",
"//Output\n",
"printf('(Stagnation Temperature is %3.1f K\n (C)Stagnation Pressure:\n    If it is incompressible is %3.4f bar\n    If it is compressible is %3.4f bar',To,Poi,Poc)"
   ]
   }
,
{
		   "cell_type": "markdown",
		   "metadata": {},
		   "source": [
			"## Example 8.1_39: To_calculate_bulk_modulus_of_elasticity_of_a_liquid.sce"
		   ]
		  },
  {
"cell_type": "code",
	   "execution_count": null,
	   "metadata": {
	    "collapsed": true
	   },
	   "outputs": [],
"source": [
"clc\n",
"clear\n",
"\n",
"//Input data\n",
"v1=8 //Intial volume in litres\n",
"P1=0.7 //Intial pressure in MPa\n",
"v2=7.8 //Final volume in litres\n",
"P2=2.7 //Final pressure in MPa\n",
"\n",
"//Calculation\n",
"k=(P2-P1)/(log(v1/v2)) //Bulk modulus of elasticity of a liquid in MPa\n",
"\n",
"//Output\n",
"printf('Bulk modulus of elasticity of a liquid is %3.3f MPa',k)"
   ]
   }
,
{
		   "cell_type": "markdown",
		   "metadata": {},
		   "source": [
			"## Example 8.1_40: To_find_highest_possible_velocity.sce"
		   ]
		  },
  {
"cell_type": "code",
	   "execution_count": null,
	   "metadata": {
	    "collapsed": true
	   },
	   "outputs": [],
"source": [
"clc\n",
"clear\n",
"\n",
"//Input data\n",
"To=15+273 //Air Temperature in K\n",
"Cp=1005 //Specific heat capacity at constnat pressure in J/kg-K\n",
"\n",
"//Calculation \n",
"Cmax=sqrt(2*Cp*To) //Highest possible velocity in m/s\n",
"\n",
"//Output\n",
"printf('Highest possible velocity is %3.2f m/s',Cmax)"
   ]
   }
,
{
		   "cell_type": "markdown",
		   "metadata": {},
		   "source": [
			"## Example 8.3_10: To_find_the_length_of_the_pipe.sce"
		   ]
		  },
  {
"cell_type": "code",
	   "execution_count": null,
	   "metadata": {
	    "collapsed": true
	   },
	   "outputs": [],
"source": [
"clc\n",
"clear\n",
"\n",
"//Input data\n",
"M=0.25 //mach number\n",
"D=0.04 //Diamter in m\n",
"f=0.002 //frictional factor\n",
"\n",
"//Calculation\n",
"X=8.483 //fanno parameter from gas tables at M\n",
"Lmax=(X*D)/(4*f) //Lenggth of the pipe in m\n",
"\n",
"//Output\n",
"printf('Length of the pipe is %3.3f m',Lmax)"
   ]
   }
,
{
		   "cell_type": "markdown",
		   "metadata": {},
		   "source": [
			"## Example 8.3_15: To_find_length_of_the_pipe_to_achieve_deceleration.sce"
		   ]
		  },
  {
"cell_type": "code",
	   "execution_count": null,
	   "metadata": {
	    "collapsed": true
	   },
	   "outputs": [],
"source": [
"clc\n",
"clear\n",
"\n",
"//Input data\n",
"M=3 //mach number\n",
"D=0.04 //Diamter in m\n",
"f=0.002 //frictional factor\n",
"\n",
"//Calculation\n",
"X=0.522 //fanno parameter from gas tables at M\n",
"L=(X*D)/(4*f) //Lenggth of the pipe in m\n",
"\n",
"//Output\n",
"printf('Lenggth of the pipe is %3.2f m',L)"
   ]
   }
,
{
		   "cell_type": "markdown",
		   "metadata": {},
		   "source": [
			"## Example 8.3_31: To_find_maximum_possible_amount_of_heat_transfer_of_combustion_chamber.sce"
		   ]
		  },
  {
"cell_type": "code",
	   "execution_count": null,
	   "metadata": {
	    "collapsed": true
	   },
	   "outputs": [],
"source": [
"clc\n",
"clear\n",
"\n",
"//Input data\n",
"M=0.2 //Mach number\n",
"To=120+273 //Stagnation Temperature in K\n",
"Cp=1005 //Specific heat capacity at constnat pressure in J/kg-K\n",
"\n",
"//Calculation\n",
"t1=0.174 //Temperature ratio (To/Tot) from Rayleigh gas tables\n",
"Tot=To/t1 //Critical stagnation temperature in K\n",
"q=Cp*(Tot-To)*10^-3 //Maximum amount of heat transfer in kJ/kg\n",
"\n",
"//Output\n",
"printf('Maximum amount of heat transfer is %3.2f kJ/kg',q)"
   ]
   }
,
{
		   "cell_type": "markdown",
		   "metadata": {},
		   "source": [
			"## Example 8.3_32: To_find_increase_in_specific_entropy_of_the_fluid.sce"
		   ]
		  },
  {
"cell_type": "code",
	   "execution_count": null,
	   "metadata": {
	    "collapsed": true
	   },
	   "outputs": [],
"source": [
"clc\n",
"clear\n",
"\n",
"//Input data\n",
"p1=0.75 //Pressure ratio (Po2/Po1) Since Stagnation pressure drop is 25%\n",
"Cp=1150 //Specific heat capacity at constnat pressure in J/kg-K\n",
"k=1.33 //Adiabatic constant \n",
"\n",
"//Calculation\n",
"ds=((k-1)/k)*Cp*log(1/p1) //Increase in entropy in J/kg-K\n",
"\n",
"//Output \n",
"printf('Increase in entropy is %3.2f J/kg-K',ds)"
   ]
   }
,
{
		   "cell_type": "markdown",
		   "metadata": {},
		   "source": [
			"## Example 8.3_33: To_pipe_maximum_heat_transfer_in_a_pipe.sce"
		   ]
		  },
  {
"cell_type": "code",
	   "execution_count": null,
	   "metadata": {
	    "collapsed": true
	   },
	   "outputs": [],
"source": [
"clc\n",
"clear\n",
"\n",
"//Input data\n",
"Mi=2.2 //Inlet Mach number\n",
"T=100+273 //Temperature in K\n",
"Cp=1005 //Specific heat capacity at constnat pressure in J/kg-K\n",
"\n",
"//Calculation\n",
"t1=0.508 //Temperature ratio (To/Tot) from isentropic gas tables @Mi\n",
"To=T/t1 //Stagnation Temperature in K\n",
"t2=0.756 //Temperature ratio (To/Tot) from Rayleigh gas tables @Mi\n",
"Tot=To/t2 //Critical stagnation temperature in K\n",
"q=Cp*(Tot-To)*10^-3 //Maximum amount of heat transfer in kJ/kg\n",
"\n",
"//Output\n",
"printf('Maximum amount of heat transfer is %3.4f kJ/kg',q)"
   ]
   }
,
{
		   "cell_type": "markdown",
		   "metadata": {},
		   "source": [
			"## Example 8.5_16: To_find_pressure_acting_on_the_front_of_the_body.sce"
		   ]
		  },
  {
"cell_type": "code",
	   "execution_count": null,
	   "metadata": {
	    "collapsed": true
	   },
	   "outputs": [],
"source": [
"clc\n",
"clear\n",
"\n",
"//Input data\n",
"Mx=1.5 //Mach number\n",
"P=40 //Static pressure in kPa\n",
"\n",
"//Calculation\n",
"p1=3.413 //Pressure ratio in (Poy/Px) from normal shock gas tables @Mx\n",
"Poy=p1*P //Pressure acting on front of the body in kPa\n",
"\n",
"//Output\n",
"printf('Pressure acting on front of the body is %3.1f kPa',Poy)"
   ]
   }
,
{
		   "cell_type": "markdown",
		   "metadata": {},
		   "source": [
			"## Example 8.5_17: To_find_strength_of_shock_wave.sce"
		   ]
		  },
  {
"cell_type": "code",
	   "execution_count": null,
	   "metadata": {
	    "collapsed": true
	   },
	   "outputs": [],
"source": [
"clc\n",
"clear\n",
"\n",
"//Input data\n",
"M=2 //Mach number at shock\n",
"\n",
"//Calculation\n",
"p1=4.5 //Pressure ratio (Py/Px) from normal shock gas tables @M\n",
"e=p1-1 //Strength of shock wave\n",
"\n",
"//Output\n",
"printf('Strength of shock wave is %3.1f',e)"
   ]
   }
,
{
		   "cell_type": "markdown",
		   "metadata": {},
		   "source": [
			"## Example 8.5_20: To_find_irreversibility_of_duct.sce"
		   ]
		  },
  {
"cell_type": "code",
	   "execution_count": null,
	   "metadata": {
	    "collapsed": true
	   },
	   "outputs": [],
"source": [
"clc\n",
"clear\n",
"\n",
"//Input data\n",
"Mx=7 //mach number upstream of shock\n",
"P=2 //pressure @Mx in bar\n",
"T=57+273 //Temperature @Mx in K\n",
"R=287 //Specific gas constant in J/kg-K\n",
"\n",
"//Calculation \n",
"p1=0.72 //Pressure ratio (Poy/Pox) from normal shock gas tables @Mx\n",
"ds=R*log(1/p1) //Irreversibility in J/kg-K\n",
"\n",
"//Output\n",
"printf('Irreversibility is %3.2f J/kg-K',ds)"
   ]
   }
,
{
		   "cell_type": "markdown",
		   "metadata": {},
		   "source": [
			"## Example 8.5_21: To_find_mach_number_and_air_velocity_of_pitot_tube.sce"
		   ]
		  },
  {
"cell_type": "code",
	   "execution_count": null,
	   "metadata": {
	    "collapsed": true
	   },
	   "outputs": [],
"source": [
"clc\n",
"clear\n",
"\n",
"//Input data\n",
"Px=45 //Static pressure in kPa\n",
"T=-20+273 //Static temperature in K\n",
"Poy=395 //Stagnation pressure in kPa\n",
"k=1.4 //Adiabatic constant \n",
"R=287 //Specific gas constant in J/kg-K\n",
"\n",
"//Calculation\n",
"p1=Poy/Px //Pressure ratio\n",
"Mx=2.536 //Mach number from normal shock gas tables @p1\n",
"Cx=Mx*sqrt(k*R*T) //Air velocity in m/s\n",
"\n",
"//Output\n",
"printf('Mach number is %3.3f\n Air velocity is %3i m/s',Mx,Cx)"
   ]
   }
,
{
		   "cell_type": "markdown",
		   "metadata": {},
		   "source": [
			"## Example 8.5_22: To_find_properties_downstream_of_the_shock.sce"
		   ]
		  },
  {
"cell_type": "code",
	   "execution_count": null,
	   "metadata": {
	    "collapsed": true
	   },
	   "outputs": [],
"source": [
"clc\n",
"clear\n",
"\n",
"//Input data\n",
"Cx=750 //velocity upstream of shock in m/s\n",
"Px=1 //Pressure upstream of shock in bar\n",
"Tx=10+273 //Temperature upstream of shock in K\n",
"k=1.4 //Adiabatic constant  \n",
"R=287 //Specific gas constant in J/kg-K\n",
"\n",
"//Calculation\n",
"Mx=Cx/sqrt(k*R*Tx) //Mach number upstream of shock\n",
"My=0.545 //Mach number downstream of shock from normal shock gas tables, Mistake in textbook\n",
"t1=1.875 //Temperature ratio (Ty/Tx)\n",
"Ty=Tx*t1 //Static temperature downstream of shock in K\n",
"p1=5.583 //Pressure ratio (Py/Px)\n",
"Py=Px*p1 //Static pressure downstream of shock in bar\n",
"Cy=My*sqrt(k*R*Ty) //velocity downstream of shock in m/s\n",
"\n",
"//Output\n",
"printf('Downstream of shock:\n    Velocity is %3.3f m/s\n    Pressure is %3.3f bar\n    Temperature is %3.3f K',Cy,Py,Ty)"
   ]
   }
,
{
		   "cell_type": "markdown",
		   "metadata": {},
		   "source": [
			"## Example 8.6_41: To_find_propulsive_efficiency_for_an_optimum_thrust_power.sce"
		   ]
		  },
  {
"cell_type": "code",
	   "execution_count": null,
	   "metadata": {
	    "collapsed": true
	   },
	   "outputs": [],
"source": [
"clc\n",
"clear\n",
"\n",
"//Calculation \n",
"\n",
"//Differentiating P=m*(Cj-u)*u and equating it to zero we get jet speed ratio as 0.5\n",
"sig=0.5 //Jet speed ratio \n",
"eff_max=((2*sig)/(1+sig)) //Propulsive efficiency for optimum thrust power, wrong notation in textbook.\n",
"\n",
"//Output\n",
"printf('Propulsive efficiency for optimum thrust power is %3.3f',eff_max)"
   ]
   }
,
{
		   "cell_type": "markdown",
		   "metadata": {},
		   "source": [
			"## Example 8.6_42: To_find_propulsive_efficency.sce"
		   ]
		  },
  {
"cell_type": "code",
	   "execution_count": null,
	   "metadata": {
	    "collapsed": true
	   },
	   "outputs": [],
"source": [
"clc\n",
"clear\n",
"\n",
"//Input dat\n",
"u=1200*(5/18) //Flight velocity in m/s\n",
"Cj=800 //Effective jet velocity in m/s\n",
"\n",
"//Calculation\n",
"sig=u/Cj //jet speed ratio\n",
"eff=((2*sig)/(1+sig))*100 //Propulsive efficiency in %\n",
"\n",
"//Output\n",
"printf('Propulsive efficiency is %3.1f percent',eff)"
   ]
   }
,
{
		   "cell_type": "markdown",
		   "metadata": {},
		   "source": [
			"## Example 8.7_42: To_find_thrust_of_the_rocket.sce"
		   ]
		  },
  {
"cell_type": "code",
	   "execution_count": null,
	   "metadata": {
	    "collapsed": true
	   },
	   "outputs": [],
"source": [
"clc\n",
"clear\n",
"\n",
"//Input data\n",
"m=5 //Propellent rate in kg/s\n",
"Pamb=1.013 //Ambient pressure in bar\n",
"Pe=1.02 //Nozzle exit pressure in bar\n",
"D=0.1 //Nozzle exit diameter in m\n",
"Ce=1400 //Exit jet velocity in m/s\n",
"\n",
"//Calculation\n",
"Ae=%pi*D^2/4 //Exit area in m^2\n",
"F=(m*Ce)+((Pe-Pamb)*Ae) //Thrust in N\n",
"\n",
"//Output\n",
"printf('Thrust is %3i N',F)"
   ]
   }
,
{
		   "cell_type": "markdown",
		   "metadata": {},
		   "source": [
			"## Example 8.7_44: To_find_the_thrust_developed.sce"
		   ]
		  },
  {
"cell_type": "code",
	   "execution_count": null,
	   "metadata": {
	    "collapsed": true
	   },
	   "outputs": [],
"source": [
"clc\n",
"clear\n",
"\n",
"//Input data\n",
"Is=230 //Specific Impulse in sec\n",
"m=1 //Propellent flow in kg/s\n",
"g=9.81 //Acceleration due to gravity in m/s^2\n",
"\n",
"//Calculation\n",
"F=m*Is*g //Thrust in N\n",
"\n",
"//Output\n",
"printf('Thrust is %3.1f N',F)"
   ]
   }
,
{
		   "cell_type": "markdown",
		   "metadata": {},
		   "source": [
			"## Example 8.7_45: To_find_the_jet_velocity_of_a_rocket.sce"
		   ]
		  },
  {
"cell_type": "code",
	   "execution_count": null,
	   "metadata": {
	    "collapsed": true
	   },
	   "outputs": [],
"source": [
"clc\n",
"clear\n",
"\n",
"//Input data\n",
"u=1500 //Flight velocity in m/s\n",
"eff=0.75 //Propulsive efficiency\n",
"\n",
"//calculation\n",
"//Converting relation eff=(2*sig)/(1+sig^2) into 2nd degree polynomial of sig\n",
"sig=((2-(sqrt(4-(4*eff*eff))))/(2*eff)) //Jet speed ratio\n",
"Cj=u/sig //Jet velocity in m/s\n",
"\n",
"//Output\n",
"printf('Jet velocity is %3.2f m/s',Cj)"
   ]
   }
,
{
		   "cell_type": "markdown",
		   "metadata": {},
		   "source": [
			"## Example 8.7_46: To_calculate_thrust_propulsive_efficiency_and_thrust_power_of_a_rocket.sce"
		   ]
		  },
  {
"cell_type": "code",
	   "execution_count": null,
	   "metadata": {
	    "collapsed": true
	   },
	   "outputs": [],
"source": [
"clc\n",
"clear\n",
"\n",
"//Input data\n",
"Cj=2700 //Jet velocity in m/s\n",
"u=1350 //Flight velocity in m/s\n",
"m=78.6 //Propellent flow in kg/s\n",
"\n",
"//Calculation\n",
"F=m*Cj*10^-3 //Thrust in kN\n",
"P=F*u*10^-3 //Thrust power in MW\n",
"sig=u/Cj //Jet speed ratio\n",
"eff=((2*sig)/(1+sig^2))*100 //Propulsive efficiency in %\n",
"\n",
"//Output\n",
"printf('Thrust is %3.1f kN\n Thrust power is %3.2f MW\n Propulsive efficiency is %3i percent',F,P,eff)"
   ]
   }
,
{
		   "cell_type": "markdown",
		   "metadata": {},
		   "source": [
			"## Example 8.7_47: To_determine_orbital_velocity_and_escape_velocity_of_a_rocket.sce"
		   ]
		  },
  {
"cell_type": "code",
	   "execution_count": null,
	   "metadata": {
	    "collapsed": true
	   },
	   "outputs": [],
"source": [
"clc\n",
"clear\n",
"\n",
"//Input data\n",
"D=12683*1000 //Diameter of Earth in m\n",
"g=9.81 //Acceleration due to gravity in m/s\n",
"h=500*1000 //Altitude in m\n",
"\n",
"//Calculation\n",
"Uorb=(D/2)*sqrt(g/((D/2)+h)) //Orbital velocity in m/s\n",
"Uesc=sqrt(2)*Uorb //Escape velocity in m/s\n",
"\n",
"//Output\n",
"printf('Orbital velocity is %3.2f m/s\n Escape velocity is %3.2f m/s',Uorb,Uesc)"
   ]
   }
,
{
		   "cell_type": "markdown",
		   "metadata": {},
		   "source": [
			"## Example 8.7_48: To_determine_propulsive_efficiency_and_propulsive_power_of_a_rocket.sce"
		   ]
		  },
  {
"cell_type": "code",
	   "execution_count": null,
	   "metadata": {
	    "collapsed": true
	   },
	   "outputs": [],
"source": [
"clc\n",
"clear\n",
"\n",
"//Input data\n",
"u=10080*(5/18) //Flight velocity in m/s\n",
"Cj=1400 //Jet velocity in m/s\n",
"m=5 //Propellent flow in kg/s\n",
"\n",
"//calculation\n",
"F=m*Cj*10^-3 //Thrust in kN\n",
"P=F*u*10^-3 //Thrust power in MW\n",
"sig=u/Cj //Jet speed ratio\n",
"eff=((2*sig)/(1+sig^2)) //Propulsive efficiency \n",
"\n",
"//Output\n",
"printf('Propulsive power is %3.1f MW\n Propulsive efficiency is %3.1f',P,eff)"
   ]
   }
],
"metadata": {
		  "kernelspec": {
		   "display_name": "Scilab",
		   "language": "scilab",
		   "name": "scilab"
		  },
		  "language_info": {
		   "file_extension": ".sce",
		   "help_links": [
			{
			 "text": "MetaKernel Magics",
			 "url": "https://github.com/calysto/metakernel/blob/master/metakernel/magics/README.md"
			}
		   ],
		   "mimetype": "text/x-octave",
		   "name": "scilab",
		   "version": "0.7.1"
		  }
		 },
		 "nbformat": 4,
		 "nbformat_minor": 0
}
