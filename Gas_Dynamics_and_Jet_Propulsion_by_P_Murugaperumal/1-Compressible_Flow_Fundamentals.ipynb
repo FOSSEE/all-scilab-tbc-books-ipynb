{
"cells": [
 {
		   "cell_type": "markdown",
	   "metadata": {},
	   "source": [
       "# Chapter 1: Compressible Flow Fundamentals"
	   ]
	},
{
		   "cell_type": "markdown",
		   "metadata": {},
		   "source": [
			"## Example 1.10: To_find_sonic_velocity.sce"
		   ]
		  },
  {
"cell_type": "code",
	   "execution_count": null,
	   "metadata": {
	    "collapsed": true
	   },
	   "outputs": [],
"source": [
"clc\n",
"clear\n",
"\n",
"//Input data\n",
"SG_oil=0.8 //Specific gravity of crude oil \n",
"K_oil=153036*10^4 //Bulk modulus of Oil in N/m^2\n",
"K_hg=2648700*10^4 //Bulk modulus of Mercury in N/m^2\n",
"d_steel=7860 //Density of steel in kg/m^3\n",
"E_steel=200*10^9 //Modulus of elasticity in Pa\n",
"d_hg=13600 //Density of mercury in kg/m^3\n",
"d_water=1000 //Density of water in kg/m^3\n",
"\n",
"//Calculation\n",
"d_oil=SG_oil*d_water //Density of oil in kg/m^3\n",
"a_oil=sqrt(K_oil/d_oil) //Sonic velocity of crude oil in m/s\n",
"a_hg=sqrt(K_hg/d_hg) //Sonic velocity of mercury in m/s\n",
"a_steel=sqrt(E_steel/d_steel) //Sonic velocity of steel in m/s\n",
"\n",
"//Output\n",
"printf('(A)Sonic velocity of crude oil is %3.2f m/s\n (B)Sonic velocity of mercury is %3.2f m/s\n (A)Sonic velocity of steel is %3.1f m/s\n',a_oil,a_hg,a_steel)"
   ]
   }
,
{
		   "cell_type": "markdown",
		   "metadata": {},
		   "source": [
			"## Example 1.11: To_find_velocity_of_sound.sce"
		   ]
		  },
  {
"cell_type": "code",
	   "execution_count": null,
	   "metadata": {
	    "collapsed": true
	   },
	   "outputs": [],
"source": [
"clc\n",
"clear\n",
"\n",
"//Input data\n",
"T=20+273 //Temperarture of medium in K\n",
"Cp_fr=678 //Specific heat capacity at constant pressure of freon in J/kg-K\n",
"Cv_fr=543 //Specific heat capacity at constant volime of freon in J/kg-K\n",
"T_air=0+273 //Temperature of air in K\n",
"Ri=8314 //Ideal gas constant in J/mol-K\n",
"mol_h=2 //Molecular weight of Hydrogen in kg/mol\n",
"mol_water=18 //Molecular weight of water in kg/mol\n",
"R_air=287 //Specific gas constant of air in J/kg-K\n",
"k=1.4 //Adiabatic constant of hydrogen\n",
"k_water=1.3 //Adiabatic constant of water\n",
"\n",
"//Calculation\n",
"R_h=Ri/mol_h //Specific gas constant of hydrogen in J/kg-K\n",
"a_h=sqrt(k*R_h*T) //Velocity of sound in hydrogen in m/s\n",
"R_water=Ri/mol_water //Specific gas constant of water in J/kg-K\n",
"a_water=sqrt(k_water*R_water*T) //Velocity of sound in water vapour in m/s\n",
"k_fr=Cp_fr/Cv_fr //Adiabatic constant of feoan\n",
"R_fr=Cp_fr-Cv_fr //Specific gas constant of freon in J/kg-K\n",
"a_fr=sqrt(k_fr*R_fr*T) //Velocity of sound in freon in m/s\n",
"a_air=sqrt(k*R_air*T_air) //Sonic Velocity of air at in m/s\n",
"\n",
"//Output\n",
"printf('(A)Velocity of sound in hydrogen is %3.2f m/s\n (B)Velocity of sound in water vapour is %3.2f m/s\n (C)Velocity of sound in freon is %3.2f m/s\n (D)Sonic Velocity of air at %3i K is %3.4f m/s',a_h,a_water,a_fr,T_air,a_air)"
   ]
   }
,
{
		   "cell_type": "markdown",
		   "metadata": {},
		   "source": [
			"## Example 1.12: To_find_highest_pressure_acting_on_surface_of_a_body.sce"
		   ]
		  },
  {
"cell_type": "code",
	   "execution_count": null,
	   "metadata": {
	    "collapsed": true
	   },
	   "outputs": [],
"source": [
"clc\n",
"clear\n",
"\n",
"//Input data\n",
"M=0.85 //Mach number\n",
"P=80 //Pressure in kPa\n",
"k=1.4 //Adiabatic Constant\n",
"\n",
"//Calculation\n",
"Po=P*(1+(((k-1)/2)*M^2))^(k/(k-1)) //Pressure acting on the surface of the body in kPa\n",
"\n",
"//Output \n",
"printf('The highest pressure acting on the surface of the body is %3.1f kPa',Po)"
   ]
   }
,
{
		   "cell_type": "markdown",
		   "metadata": {},
		   "source": [
			"## Example 1.13: To_find_air_velocity_for_different_types_of_flow.sce"
		   ]
		  },
  {
"cell_type": "code",
	   "execution_count": null,
	   "metadata": {
	    "collapsed": true
	   },
	   "outputs": [],
"source": [
"clc\n",
"clear\n",
"\n",
"//Input data\n",
"P=96 //Pressure in kPa\n",
"T=27+273 //Temperature in K\n",
"dP=32 //Difference between pivot and static pressure\n",
"k=1.4 //Adiabatic Constant\n",
"R=287 //Specific Gas constant in J/kg-K\n",
"\n",
"//Calculation\n",
"d=(P*10^3)/(R*T) //Density in kg/m^3\n",
"Ci=sqrt((2*(dP*10^3))/d) //Velocity of incompressible flow in m/s\n",
"pr=(dP)/P //Pressure ratio\n",
"p1=pr+1 //Stagnation to static pressure ratio\n",
"M=sqrt(((p1^((k-1)/k)-1)*2)/(k-1)) //Mach number\n",
"Cc=M*sqrt(k*R*T) //Velocity of compressible flow in m/s\n",
"\n",
"//Output\n",
"printf('(A)Air velocity in incompressible flow is %3.1f m/s\n (B)Air velocity if flow is compressible is %3.3f m/s',Ci,Cc)"
   ]
   }
,
{
		   "cell_type": "markdown",
		   "metadata": {},
		   "source": [
			"## Example 1.14: To_find_number_of_nozzles.sce"
		   ]
		  },
  {
"cell_type": "code",
	   "execution_count": null,
	   "metadata": {
	    "collapsed": true
	   },
	   "outputs": [],
"source": [
"clc\n",
"clear\n",
"\n",
"//Input data\n",
"T1=200+273 //Intial Temperature in K\n",
"P1=1.7 //Initial Pressure in bar\n",
"P2=1 //Final Pressure in bar\n",
"C1=30 //Inlet velocity in m/s\n",
"m=1 //Mass flow rate in kg/s\n",
"D=0.025 //Nozzle diameter in m\n",
"k=1.4 //Adiabatic Constant\n",
"R=287 //Specific Gas constant in J/kg-K\n",
"Cp=1005 //Specific heat capacity at constant pressure in J/kg-K\n",
"\n",
"//Calculation\n",
"p1=P2/P1 //Pressure ratio\n",
"T2=T1*p1^((k-1)/k) //Final temperature in K\n",
"E1=T1+(C1^2/(2*Cp)) //LHS of Steady flow energy equation\n",
"C2=sqrt((E1-T2)*2*Cp) //Exit velocity of the air in m/s\n",
"d2=(P2*10^5)/(R*T2) //Density at outlet in kg/m^3\n",
"A2=%pi*D^2/4 //Area at outlet in m^2\n",
"n=ceil(m/(d2*A2*C2)) //Number of nozzles to be used\n",
"\n",
"//Output\n",
"printf('(A)Exit velocity of the air is %3.2f m/s\n (B)Number of nozzles to be used are %1.0f',C2,n)"
   ]
   }
,
{
		   "cell_type": "markdown",
		   "metadata": {},
		   "source": [
			"## Example 1.15: To_find_properties_of_a_gas_in_vessel_at_a_point.sce"
		   ]
		  },
  {
"cell_type": "code",
	   "execution_count": null,
	   "metadata": {
	    "collapsed": true
	   },
	   "outputs": [],
"source": [
"clc\n",
"clear\n",
"\n",
"//Input data\n",
"Po=300 //Pressure in the vessel in kPa\n",
"To=50+273 //Temperature in vessel in K\n",
"M=1 //Mach number \n",
"k=1.667 //Adiabatic constant\n",
"Ri=8314 //Ideal gas constant in J/mol-K\n",
"Mol=4 //Molecular weight of helium in kg/mol\n",
"\n",
"//Calculation\n",
"R=Ri/Mol //Specific gas constant in J/kg-K\n",
"Cp=(k*R)/(k-1) //Specific heat capacity at constant pressure in J/kg-K\n",
"p1=(2/(k+1))^(k/(k-1)) //Pressure ratio\n",
"Pt=Po*p1 //Pressure at test condition in kPa\n",
"t1=(2/(k+1)) //Temperature ratio \n",
"Tt=To*t1 //Temperature at test condition in K\n",
"at=sqrt(k*R*Tt) //Velocity of sound in m/s\n",
"Ct=at //Velocity of gas at test condition in m/s\n",
"Cmax=sqrt(2*Cp*To) //Maximum velocity due to expanding of gases through nozzle system in m/s\n",
"\n",
"//Output\n",
"printf('(A)At test point:\n    Pressure is %3.2f kPa\n    Temperature is %3.2f K\n    Velocity is %3.1f m/s\n (B)Maximum velocity due to expanding of gases through nozzle system is %3.2f m/s',Pt,Tt,Ct,Cmax)"
   ]
   }
,
{
		   "cell_type": "markdown",
		   "metadata": {},
		   "source": [
			"## Example 1.16: To_find_mach_number_and_velocity_of_flow.sce"
		   ]
		  },
  {
"cell_type": "code",
	   "execution_count": null,
	   "metadata": {
	    "collapsed": true
	   },
	   "outputs": [],
"source": [
"clc\n",
"clear\n",
"\n",
"//Input data\n",
"T=40+273 //Temperature in K\n",
"p1=0.5 //Static to Stagnation pressure ratio\n",
"k=1.67 //Adiabatic constant\n",
"Ri=8314 //Ideal gas constant in J/mol-K\n",
"Mol=39.94 //Molecular weight of argon in kg/mol\n",
"\n",
"//Calculation\n",
"R=Ri/Mol //Specific gas constant in J/kg-K\n",
"p2=1/p1 //Pressure ratio\n",
"M=sqrt(((p2^((k-1)/k)-1)*2)/(k-1)) //Mach number \n",
"C=M*sqrt(k*R*T) //Velocity in the flow in m/s\n",
"\n",
"//Output \n",
"printf('(A)Mach number is %3.3f\n (B)Velocity in the flow is %3.1f m/s',M,C)"
   ]
   }
,
{
		   "cell_type": "markdown",
		   "metadata": {},
		   "source": [
			"## Example 1.17: To_find_distance_covered_before_sonic_boom_is_heard_on_ground.sce"
		   ]
		  },
  {
"cell_type": "code",
	   "execution_count": null,
	   "metadata": {
	    "collapsed": true
	   },
	   "outputs": [],
"source": [
"clc\n",
"clear\n",
"\n",
"//Input data\n",
"M=2.5 //Mach number \n",
"h=10 //Height in km\n",
"\n",
"//Calculation\n",
"alp=asind(1/M) //Mach cone angle in degree\n",
"d=10/tand(alp) //Distance the jet would cover before a sonic boom is heard on ground in km\n",
"\n",
"//Output\n",
"printf('Distance the jet would cover before a sonic boom is heard on ground is %3.2f km',d)"
   ]
   }
,
{
		   "cell_type": "markdown",
		   "metadata": {},
		   "source": [
			"## Example 1.18: To_calculate_time_elapsed_to_feel_disturbance_due_to_aircraft.sce"
		   ]
		  },
  {
"cell_type": "code",
	   "execution_count": null,
	   "metadata": {
	    "collapsed": true
	   },
	   "outputs": [],
"source": [
"clc\n",
"clear\n",
"\n",
"//Input data\n",
"h=1100 //Height in m\n",
"M1=2.5 //Mach number of aircraft @h\n",
"T=280 //Temperature @h\n",
"M2=0.5 //Mach number of observer\n",
"k=1.4 //Adiabatic Constant\n",
"R=287 //Specific gas constant in J/kg-K\n",
"\n",
"//Calculation\n",
"alp=asind(1/M1) //Mach cone angle in degree\n",
"a=sqrt(k*R*T) //Velocity of sound in m/s\n",
"C1=M1*a //Velocity of aircraft when the observer is stationary in m/s\n",
"t1=h/(C1*tand(alp)) //Time elapsed when the observer is stationary in sec\n",
"C2=(M1-M2)*a //Velocity of aircraft when the observer is moving in the direction of aircraft in m/s\n",
"t2=h/(C2*tand(alp)) //Time elapsed when the observer is moving in the direction of aircraft in sec\n",
"C3=(M1+M2)*a //Velocity of aircraft when the observer is moving in the opposite direction in m/s\n",
"t3=h/(C3*tand(alp)) //Time elapsed when the observer is moving in the opposite direction in sec\n",
"\n",
"//Output\n",
"printf('(A)Time elapsed when the observer is stationary is %3.3f sec\n (B)Time elapsed when the observer is moving in the direction of aircraft with M=%3.1f is %3.2f sec\n (C)Time elapsed when the observer is moving in the opposite direction is %3.2f sec\n',t1,M2,t2,t3)"
   ]
   }
,
{
		   "cell_type": "markdown",
		   "metadata": {},
		   "source": [
			"## Example 1.19: To_find_mach_number_at_a_point.sce"
		   ]
		  },
  {
"cell_type": "code",
	   "execution_count": null,
	   "metadata": {
	    "collapsed": true
	   },
	   "outputs": [],
"source": [
"clc\n",
"clear\n",
"\n",
"//Input data\n",
"P=200 //Pressure in kPa\n",
"d=2.9 //Density in kg/m^3\n",
"C=50 //Velocity in m/s\n",
"mol=32 //Molecular weight of oxygen in kg/mol\n",
"k=1.4 //Adiabatic constant\n",
"Ri=8314 //Ideal gas constant in J/mol-K\n",
"\n",
"//Calculation\n",
"R=Ri/mol //Specific gas Constant in J/kg-k\n",
"T=(P*10^3)/(R*d) //Temperature in K\n",
"a=sqrt(k*R*T) //Velocity of sound in m/s \n",
"M=C/a //Mach number\n",
"\n",
"//Output\n",
"printf('Mach number is %3.4f',M)"
   ]
   }
,
{
		   "cell_type": "markdown",
		   "metadata": {},
		   "source": [
			"## Example 1.1: To_calculate_the_work_done.sce"
		   ]
		  },
  {
"cell_type": "code",
	   "execution_count": null,
	   "metadata": {
	    "collapsed": true
	   },
	   "outputs": [],
"source": [
"clc\n",
"clear\n",
"\n",
"//Input data\n",
"m=0.75 //Mass of air in kg \n",
"T1=800 //Intial Temperature in K\n",
"P1=400 //Initial Pressure in kPa\n",
"P2=150 //Final Pressure in kPa\n",
"k=1.4 //Adiabatic constant\n",
"R=0.287 //Specific Gas constant in J/kg-K\n",
"\n",
"//Calculation\n",
"p1=P2/P1 //pressure ratio of process\n",
"T2=T1*p1^((k-1)/k) //Final temperature in K\n",
"W=((m*R*(T1-T2))/(k-1)) //Workdone in kJ\n",
"\n",
"//P-V Diagram\n",
"scf()\n",
"clf()\n",
"V1=(((m*R*T1)/P1)^(1/k))*10^3 //Inlet volume in cc\n",
"V2=(((m*R*T2)/P2)^(1/k))*10^3 //Final volume in cc\n",
"V = V1:(V2-V1)/100:V2   //Representing volume on graph, adiabatic expansion\n",
"P = P1*V1^k./V^k //Representing pressure on graph\n",
"plot(V, P) //Plotting  \n",
"legend('P*V^k=C') //Defining curve\n",
"xtitle('PV Diagram', 'V (cc)', 'P (kPa)') //Titles of axes\n",
"\n",
"//Output\n",
"printf('Workdone is %3.2f kJ',W)"
   ]
   }
,
{
		   "cell_type": "markdown",
		   "metadata": {},
		   "source": [
			"## Example 1.20: To_find_Mach_number.sce"
		   ]
		  },
  {
"cell_type": "code",
	   "execution_count": null,
	   "metadata": {
	    "collapsed": true
	   },
	   "outputs": [],
"source": [
"clc\n",
"clear\n",
"\n",
"//Input data\n",
"C=200 //Velocity of object in m/s\n",
"mol=4 //Molecular weight of helium in kg/mol\n",
"k=1.67 //Adiabatic constant\n",
"Ri=8314 //Ideal gas constant in J/mol-K\n",
"T=288 //Temperature in K\n",
"\n",
"//Calculation\n",
"R=Ri/mol //Specific gas Constant in J/kg-k\n",
"a=sqrt(k*R*T) //Velocity of sound in m/s\n",
"M=C/a //Mach number \n",
"\n",
"//Output\n",
"printf('Mach number is %3.1f',M)"
   ]
   }
,
{
		   "cell_type": "markdown",
		   "metadata": {},
		   "source": [
			"## Example 1.21: To_find_speed_of_sound_and_Mach_number.sce"
		   ]
		  },
  {
"cell_type": "code",
	   "execution_count": null,
	   "metadata": {
	    "collapsed": true
	   },
	   "outputs": [],
"source": [
"clc\n",
"clear\n",
"\n",
"//Input data\n",
"Z1=0 //Height from sea level in m\n",
"Z2=11 //Height from sea level in m\n",
"T1=288 //Temperature @Z1 in K, from gas tables\n",
"T2=216.5 //Temperature @Z2 in K, from gas tables\n",
"C=1000*(5/18) //Velocity in m/s\n",
"k=1.4 //Adiabatic Constant\n",
"R=287 //Specific gas constant in J/kg-k\n",
"\n",
"//Calculation\n",
"a1=sqrt(k*R*T1) //Sound velocity @Z1 in m/s\n",
"M1=C/a1 //Mach number @Z1\n",
"a2=sqrt(k*R*T2) //Sound velocity @Z2 in m/s\n",
"M2=C/a2 //Mach number @Z2\n",
"\n",
"//Output\n",
"printf('(A)Speed of sound at:\n    sea level is %3.2f\n    an altitude of %3i km is %3.2f m/s\n (B)Mach numbeer at:\n    sea level is %3.2f\n    an altitude of %3i km is %3.2f',a1,Z2,a2,M1,Z2,M2)"
   ]
   }
,
{
		   "cell_type": "markdown",
		   "metadata": {},
		   "source": [
			"## Example 1.22: To_find_maximum_possible_velocity_of_air.sce"
		   ]
		  },
  {
"cell_type": "code",
	   "execution_count": null,
	   "metadata": {
	    "collapsed": true
	   },
	   "outputs": [],
"source": [
"clc\n",
"clear\n",
"\n",
"//Input data\n",
"T=300+273 //Static Temperature in K\n",
"C=200 //Velocity in m/s\n",
"Cp=1005 //Specific heat capacity at constant pressure in J/kg-K\n",
"\n",
"//Calculation\n",
"To=T+(C^2/(2*Cp)) //Stagnation Temperature in K\n",
"C_max=sqrt(2*Cp*To) //Maximum possible velocity obtained by air in m/s\n",
"\n",
"//Output\n",
"printf('Maximum possible velocity obtained by air is %3.2f m/s',C_max)"
   ]
   }
,
{
		   "cell_type": "markdown",
		   "metadata": {},
		   "source": [
			"## Example 1.23: To_find_exit_velocity_of_air.sce"
		   ]
		  },
  {
"cell_type": "code",
	   "execution_count": null,
	   "metadata": {
	    "collapsed": true
	   },
	   "outputs": [],
"source": [
"clc\n",
"clear\n",
"\n",
"//Input data\n",
"dT=37 //Temperature difference between air inside the tyre and nozzle exit\n",
"Cp=1005 //Specific heat capacity at constant pressure in J/kg-K\n",
"\n",
"//Calculation\n",
"C=sqrt(2*Cp*dT) //Exit velocity of air in m/s\n",
"\n",
"//Output\n",
"printf('Exit velocity of air is %3.1f m/s',C)"
   ]
   }
,
{
		   "cell_type": "markdown",
		   "metadata": {},
		   "source": [
			"## Example 1.24: To_find_static_conditions_and_Flight_Mach_number.sce"
		   ]
		  },
  {
"cell_type": "code",
	   "execution_count": null,
	   "metadata": {
	    "collapsed": true
	   },
	   "outputs": [],
"source": [
"clc\n",
"clear\n",
"\n",
"//Input data\n",
"C=800*(5/18) //Velocity in m/s\n",
"Po=105 //Stagnation pressure in kPa\n",
"To=35+273 //Stagnation temperature in K\n",
"Cp=1005 //Specific heat capacity at constant pressure in J/kg-K\n",
"k=1.4 //Adiabatic Constant\n",
"R=287 //Specific gas constant in J/kg-k\n",
"\n",
"//Calculation\n",
"T=To-(C^2/(2*Cp)) //Static temperature in K\n",
"P=Po*(T/To)^(k/(k-1)) //Static pressure in kPa\n",
"a=sqrt(k*R*T) //Sound Velocity in m/s \n",
"M=C/a //Mach number\n",
"\n",
"//Output\n",
"printf('(A)Static conditions:\n    Pressure is %3.2f kPa\n    Temperature is %3.2f K\n    Sound Velocity is %3.2f m/s\n (B)Mach number is %3.2f',P,T,a,M)"
   ]
   }
,
{
		   "cell_type": "markdown",
		   "metadata": {},
		   "source": [
			"## Example 1.25: To_find_stagnation_pressure_and_mach_number.sce"
		   ]
		  },
  {
"cell_type": "code",
	   "execution_count": null,
	   "metadata": {
	    "collapsed": true
	   },
	   "outputs": [],
"source": [
"clc\n",
"clear\n",
"\n",
"//Input data\n",
"C=215 //Velocity in m/s\n",
"T=30+273 //Static temperature in K\n",
"P=5 //Static pressure in bar\n",
"R=287 //Specific gas constant in J/kg-k\n",
"k=1.4 //Adiabatic Constant\n",
"\n",
"//Calculations\n",
"a=sqrt(k*R*T) //Sound Velocity in m/s \n",
"M=C/a //Mach number\n",
"To=T*(1+(((k-1)/2)*M^2)) //Stagnation temperature in K\n",
"Po=P*(To/T)^(k/(k-1)) //Stagnation pressure in kPa\n",
"\n",
"//Output\n",
"printf('(A)Stagnation Pressure is %3.4f bar\n (B)Mach number is %3.3f',Po,M)"
   ]
   }
,
{
		   "cell_type": "markdown",
		   "metadata": {},
		   "source": [
			"## Example 1.26: To_determine_different_velocities_stagnation_enthalpy_and_crocco_number.sce"
		   ]
		  },
  {
"cell_type": "code",
	   "execution_count": null,
	   "metadata": {
	    "collapsed": true
	   },
	   "outputs": [],
"source": [
"clc\n",
"clear\n",
"\n",
"//Input data\n",
"T=400 //Static temperature in K\n",
"k=1.4 //Adiabatic Constant\n",
"Cp=1005 //Specific heat capacity at constant pressure in J/kg-K\n",
"R=287 //Specific gas constant in J/kg-k\n",
"\n",
"//Calculation\n",
"a=sqrt(k*R*T) //Sound velocity in m/s\n",
"C=a //Velocity of jet in m/s, Since jet has sonic velocity\n",
"To=T+(C^2/(2*Cp)) //Stagnation temperature in K\n",
"ao=sqrt(k*R*To) //Sound velocity at Stagnation condition in m/s \n",
"ho=(Cp*To)*10^-3 //Stagnation enthalpy in kJ/kg\n",
"C_max=sqrt(2*Cp*To) //Maximum velocity of jet in m/s\n",
"cr=C/C_max //Crocco number\n",
"\n",
"//Output\n",
"printf('(A)Velocity of sound at %3i K is %3.3f m/s\n (B)Velocity of sound at stagnation condition is %3.3f m/s\n (C)Maximum velocity of jet is %3.3f m/s\n (D)Stagnation enthalpy is %3.3f kJ/kg\n (E)Crocco number is %3.4f',T,C,ao,C_max,ho,cr)"
   ]
   }
,
{
		   "cell_type": "markdown",
		   "metadata": {},
		   "source": [
			"## Example 1.27: To_find_stagnation_conditions_and_mass_flow_rate.sce"
		   ]
		  },
  {
"cell_type": "code",
	   "execution_count": null,
	   "metadata": {
	    "collapsed": true
	   },
	   "outputs": [],
"source": [
"clc\n",
"clear\n",
"\n",
"//Input data\n",
"C=250 //Velocity of air in m/s \n",
"D=10 //Diameter in duct in cm\n",
"T=5+273 //Static temperature in K\n",
"P=40 //Static pressure in kPa\n",
"k=1.4 //Adiabatic constant\n",
"Cp=1005 //Specific heat capacity at constant pressure in J/kg-K\n",
"R=287 //Specific gas constant in J/kg-k\n",
"\n",
"//Calculation\n",
"To=T+(C^2/(2*Cp)) //Stagnation temperature in K\n",
"Po=P*(To/T)^(k/(k-1)) //Stagnation pressure in kPa\n",
"d=(P*10^3)/(R*T) //Density in kg/m^3\n",
"A=(%pi*D^2/4)*10^-4 //Area in m^2\n",
"m=d*A*C //Mass flow rate in kg/s\n",
"\n",
"//Output\n",
"printf('(A)Stagnation pressure is %3.2f kPa\n (B)Stagnation temperature is %3.2f K\n (C)Mass flow rate is %3.4f kg/s',Po,To,m)"
   ]
   }
,
{
		   "cell_type": "markdown",
		   "metadata": {},
		   "source": [
			"## Example 1.28: To_find_stagnation_conditions_and_velocity_at_dynamic_condition.sce"
		   ]
		  },
  {
"cell_type": "code",
	   "execution_count": null,
	   "metadata": {
	    "collapsed": true
	   },
	   "outputs": [],
"source": [
"clc\n",
"clear\n",
"\n",
"//Input data\n",
"C=300 //Velocity of air in m/s \n",
"P=1 //Static pressure in kPa\n",
"T=290 //Static temperature in K\n",
"k=1.4 //Adiabatic constant\n",
"R=287 //Specific gas constant in J/kg-k\n",
"Cp=1005 //Specific heat capacity at constant pressure in J/kg-K\n",
"\n",
"//Calculation\n",
"To=T+(C^2/(2*Cp)) //Stagnation temperature in K\n",
"Po=P*(To/T)^(k/(k-1)) //Stagnation pressure in kPa\n",
"a=sqrt(k*R*T) //Sound velocity in m/s\n",
"Co=sqrt(k*R*To) //Sound velocity at Stagnation condition in m/s \n",
"\n",
"//Output\n",
"printf('(A)Stagnation pressure and temperature are %3.4f bar and %3.2f K\n (B)Velocity of sound in the dynamic and stagnation conditions are %3.2f m/s and %3.2f m/s',Po,To,a,Co)"
   ]
   }
,
{
		   "cell_type": "markdown",
		   "metadata": {},
		   "source": [
			"## Example 1.29: To_find_flow_velocity_for_compressible_and_incompressible_flow.sce"
		   ]
		  },
  {
"cell_type": "code",
	   "execution_count": null,
	   "metadata": {
	    "collapsed": true
	   },
	   "outputs": [],
"source": [
"clc\n",
"clear\n",
"\n",
"//Input data \n",
"dP=490*(1.01325/760) //Pressure in pivot tube in bar\n",
"P=0.3546+1.01325 //Static pressure(absolute) in bar \n",
"To=25+273 //Stagnation temperature in K\n",
"k=1.4 //Adiabaatic constant\n",
"R=287 //Specific gas constant in J/kg-k\n",
"Cp=1005 //Specific heat capacity at constant pressure in J/kg-K\n",
"\n",
"//Calculation\n",
"Po=dP+P //Stagnation pressure in bar\n",
"T=To*(P/Po)^((k-1)/k) //Static temperature\n",
"C1=sqrt(2*Cp*(To-T)) //Flow velocity for Compressible flow in m/s\n",
"di=Po/(R*To) //Density in kg/m^3\n",
"C2=sqrt((2*dP)/di) //Flow velocity for incompressible flow in m/s\n",
"\n",
"//Output\n",
"printf('Flow velocity for:\n (A)Compressible flow is %3.2f m/s\n (B)Incompressible flow is %3.2f m/s',C1,C2)"
   ]
   }
,
{
		   "cell_type": "markdown",
		   "metadata": {},
		   "source": [
			"## Example 1.2: To_calculate_heat_transfer_internal_energy_change_and_work_done.sce"
		   ]
		  },
  {
"cell_type": "code",
	   "execution_count": null,
	   "metadata": {
	    "collapsed": true
	   },
	   "outputs": [],
"source": [
"clc\n",
"clear\n",
"\n",
"//Input data\n",
"V1=0.35 //Volume of gas in m^3\n",
"P1=110 //Initial Pressure in kPa\n",
"T1=300 //Intial Temperature in K\n",
"P2=600 //Final Pressure in kPa,missing data\n",
"k=1.4 //Adiabatic constant\n",
"Cv=718 //Specific heat at constant volume in J/kg-K\n",
"R=287 //Specific Gas constant in J/kg-K\n",
"\n",
"//Calculation\n",
"dQ=0 //Heat transfer in J, Since Adiabatic process\n",
"m=(P1*10^3*V1)/(R*T1) //Mass of air in kg \n",
"p1=P2/P1 //Pressure ratio\n",
"T2=T1*p1^((k-1)/k) //Final temperature in K\n",
"dU=(m*Cv*(T2-T1))*10^-3 //Change in internal energy in kJ\n",
"dW=-dU //Workdone in kJ, Since dQ=0\n",
"\n",
"//P-V Diagram\n",
"scf()\n",
"clf()\n",
"V1cc=V1*10^3 //Inlet volume in cc\n",
"V2cc=V1cc*(T2/T1)^(1/(k-1)) //Final volume in cc\n",
"V = V1cc:(V2cc-V1cc)/100:V2cc   //Representing volume on graph, adiabatic expansion\n",
"P = P2*V1cc^k./V^k //Representing pressure on graph\n",
"plot(V, P) //Plotting  \n",
"legend('P*V^k=C') //Defining curve\n",
"xtitle('PV Diagram', 'V (cc)', 'P (kPa)') //Titles of axes\n",
"\n",
"//Output\n",
"printf('(A)Heat transfer is %3i J\n (B)Change in internal energy is %3.3f kJ\n (C)Workdone is %3.3f kJ\n',dQ,dU,dW)"
   ]
   }
,
{
		   "cell_type": "markdown",
		   "metadata": {},
		   "source": [
			"## Example 1.30: To_find_Mach_number_velocity_and_area_at_a_point.sce"
		   ]
		  },
  {
"cell_type": "code",
	   "execution_count": null,
	   "metadata": {
	    "collapsed": true
	   },
	   "outputs": [],
"source": [
"clc\n",
"clear\n",
"\n",
"//Input data\n",
"To=27+273 //Stagnation temperature in K\n",
"Po=8 //Stagnation Pressure in bar\n",
"P=5.6 //Static pressure in bar, taken from diagram given\n",
"m=2 //Mass flow rate in kg/s\n",
"k=1.4 //Adiabaatic constant\n",
"Cp=1005 //Specific heat capacity at constant pressure in J/kg-K\n",
"R=287 //Specific gas constant in J/kg-k\n",
"\n",
"//Calculation\n",
"T=To*(P/Po)^((k-1)/k) //Static temperature in K\n",
"a=sqrt(k*R*T) //Sound velocity in m/s\n",
"C=sqrt(2*Cp*(To-T)) //Velocity in m/s\n",
"M=C/a //Mach number\n",
"A=((m*R*T)/(P*10^5*C))*10^4 //Area at a point in the channal in cm^2\n",
"\n",
"//Output\n",
"printf('(A)Mach number is %3.4f\n (B)Velocity is %3.1f m/s\n (C)Area at a point in the channal is %3.3f cm^2',M,C,A)"
   ]
   }
,
{
		   "cell_type": "markdown",
		   "metadata": {},
		   "source": [
			"## Example 1.31: To_find_velocity_and_mass_flow_rate.sce"
		   ]
		  },
  {
"cell_type": "code",
	   "execution_count": null,
	   "metadata": {
	    "collapsed": true
	   },
	   "outputs": [],
"source": [
"clc\n",
"clear\n",
"\n",
"//Input data\n",
"Po=1.8 //Stagnation pressure in atm\n",
"To=20+273 //Stagnation temperature in K\n",
"P=1 //Surrounding pressure in atm\n",
"k=1.4 //Adiabatic constant\n",
"R=287 //Specific gas constant in J/kg-k\n",
"\n",
"//Calculation\n",
"p1=0.528 //Static to Stagnation pressure ratio @Mach number=1, from gas tables\n",
"Pt=p1*Po //Critical pressure in atm, Since Pt<P the flow is not chocked \n",
"di=(Po*10^5)/(R*To) //Density in kg/m^3 \n",
"ao=sqrt(k*R*To) //Sound velocity at Stagnation condition in m/s\n",
"Cp=(k*R)/(k-1) //Specific heat capacity at constant pressure in J/kg-K\n",
"C=sqrt(2*Cp*To*(1-(P/Po)^((k-1)/k))) //Velocity of air flow which will take place from chamber to the outside through a unit area hole in m/s\n",
"G=di*ao*sqrt(2/(k-1))*(P/Po)^(1/k)*sqrt((1-(P/Po)^((k-1)/k))) //Mass flow rate per unit area in kg/s-m^2\n",
"\n",
"//Output\n",
"printf('(A)Velocity of air flow which will take place from chamber to the outside through a unit area hole is %3.3f m/s\n (B)Mass flow rate per unit area is %3.3f kg/s-m^2',C,G)"
   ]
   }
,
{
		   "cell_type": "markdown",
		   "metadata": {},
		   "source": [
			"## Example 1.32: To_find_various_properties_at_one_section_in_duct.sce"
		   ]
		  },
  {
"cell_type": "code",
	   "execution_count": null,
	   "metadata": {
	    "collapsed": true
	   },
	   "outputs": [],
"source": [
"clc\n",
"clear\n",
"\n",
"//Input data\n",
"A1=465.125 //Cross sectional area at entry in cm^2\n",
"T1=26.66+273 //Static temperature at section-1 in K\n",
"P1=3.4473 //Static Pressure at section-1 in bar\n",
"C1=152.5 //Velocity at section-1 in m/s\n",
"P2=2.06838 //Static Pressure at section-2 in bar\n",
"T2=277.44 //Static temperature at section-2 in K\n",
"C2=260.775 //Velocity at section-2 in m/s\n",
"Cp=1005 //Specific heat capacity at constant pressure in J/kg-K\n",
"k=1.4 //Adiabatic constant\n",
"R=287 //Specific gas constant in J/kg-k\n",
"\n",
"//Calculations\n",
"To1=T1+(C1^2/(2*Cp)) //Stagnation temperature at entry in K\n",
"To2=T2+(C2^2/(2*Cp)) //Stagnation temperature at exit in K\n",
"//here To1=To2 from answers\n",
"d1=(P1*10^5)/(R*T1) //Density at section-1\n",
"d2=(P2*10^5)/(R*T2) //Density at section-2\n",
"ar=(d2*C2)/(d1*C1) //Ratio of inlet to outlet area\n",
"A2=A1/ar //Cross sectional area at exit in cm^2\n",
"C_max=sqrt(2*Cp*To1) //Maximum velocity at exit in m/s\n",
"m=d1*A1*C1*10^-4 //Mass flow rate in kg/s \n",
"F=((P1*10^5*A1*10^-4)-(P2*10^5*A2*10^-4))+(m*(C1-C2)) //Force acting on the duct wall between two sections in N\n",
"\n",
"//Output\n",
"printf('(A)Maximum velocity and stagnation temperature at exit are %3.2f m/s and %3.2f K\n (B)Since Stagnation temperature %3i K at entry and %3i K at exit are equal, the flow is adiabatic\n (C)Cross sectional area at exit is %3.2f cm^2\n (D)Force acting on the duct wall between two sections is %3.2f N',C_max,To2,To1,To2,A2,F)"
   ]
   }
,
{
		   "cell_type": "markdown",
		   "metadata": {},
		   "source": [
			"## Example 1.33: To_find_various_properties_at_one_section_in_duct.sce"
		   ]
		  },
  {
"cell_type": "code",
	   "execution_count": null,
	   "metadata": {
	    "collapsed": true
	   },
	   "outputs": [],
"source": [
"clc\n",
"clear\n",
"\n",
"//Input data\n",
"P1=250 //Static Pressure at section-1 in kPa\n",
"T1=26+273 //Static temperature at section-1 in K\n",
"M1=1.4 //Mach number at entry\n",
"M2=2.5 //Mach number at exit\n",
"k=1.4 //Adiabatic constant\n",
"R=287 //Specific gas constant in J/kg-k\n",
"\n",
"//Calculation\n",
"C1=sqrt(k*R*T1)*M1 //Air velocity at entry in m/s \n",
"To=T1*(1+(((k-1)/2)*M1^2)) //Stagnation temperature in K\n",
"t1=(1+(((k-1)/2)*M2^2)) //Stagnation to exit Temperature ratio\n",
"T2=To/t1 //Exit temperature in K\n",
"C2=sqrt(k*R*T2)*M2 //Air velocity at exit in m/s \n",
"P2=P1*(T2/T1)^(k/(k-1)) //Exit static pressure in kPa\n",
"d2=(P2*10^3)/(R*T2) //Density at section-2 in kg/m^3\n",
"G=d2*C2 //)Mass flow rate through the duct per square metre in kg/s-m^2\n",
"\n",
"//Output\n",
"printf('(A)At second section:\n    Temperature is %3.2f K\n    Pressure is %3.2f kPa\n    Velocity is %3.4f m/s\n (B)Mass flow rate through the duct per square metre is %3.1f kg/s-m^2',T2,P2,C2,G)"
   ]
   }
,
{
		   "cell_type": "markdown",
		   "metadata": {},
		   "source": [
			"## Example 1.34: To_find_maximum_temperature_encountered_by_skin.sce"
		   ]
		  },
  {
"cell_type": "code",
	   "execution_count": null,
	   "metadata": {
	    "collapsed": true
	   },
	   "outputs": [],
"source": [
"clc\n",
"clear\n",
"\n",
"//Input data\n",
"M=2 //Mach number\n",
"h=20 //Altitude in km\n",
"Tc=-56 //Ambient temperature in degree Centigrade\n",
"Ta=-56+273 //Ambient temperature in K\n",
"k=1.4 //Adiabatic constant\n",
"R=287 //Specific gas constant in J/kg-k\n",
"Cp=1005 //Specific heat capacity at constant pressure in J/kg-K\n",
"\n",
"//Calculation\n",
"a=sqrt(k*R*Ta) //Sound velocity in m/s\n",
"C=M*a //Velocity of flight in m/s\n",
"To=Tc+(C^2/(2*Cp)) //The maximum temperature encountered is %3.1f degree Centigrade\n",
"\n",
"//Output\n",
"printf('The maximum temperature encountered is %3.1f degree Centigrade',To)"
   ]
   }
,
{
		   "cell_type": "markdown",
		   "metadata": {},
		   "source": [
			"## Example 1.35: To_find_rate_of_heat_transfer.sce"
		   ]
		  },
  {
"cell_type": "code",
	   "execution_count": null,
	   "metadata": {
	    "collapsed": true
	   },
	   "outputs": [],
"source": [
"clc\n",
"clear\n",
"\n",
"//Input data\n",
"W=20000 //Power developed in kW\n",
"m=12 //Mass flow rate in kg/s\n",
"C1=50 //Velocity of air entering in m/s\n",
"T1=700+273 //Temperature of air entering in K\n",
"T2=298 //Temperature of air leaving in K\n",
"C2=125 //Velocity of air leaving in m/s\n",
"Cp=1.005 //Specific heat capacity at constant pressure in kJ/kg-K\n",
"\n",
"//Calculation\n",
"dh=Cp*(T2-T1) //Change in enthalpy in kJ/kg\n",
"Q=((m*dh)+W-(m*(1/2000)*(C2^2-C1^2))) //The rate of heat transfer in kJ/s\n",
"\n",
"//Output\n",
"printf('The rate of heat transfer is %3.2f kJ/s',Q)"
   ]
   }
,
{
		   "cell_type": "markdown",
		   "metadata": {},
		   "source": [
			"## Example 1.36: To_find_various_properties_in_a_nozzle.sce"
		   ]
		  },
  {
"cell_type": "code",
	   "execution_count": null,
	   "metadata": {
	    "collapsed": true
	   },
	   "outputs": [],
"source": [
"clc\n",
"clear\n",
"\n",
"//Input data\n",
"mol=39.9 //Molecular weight of gas in kg/mol\n",
"k=1.67 //Adiabatic constant\n",
"Po=500 //Pressure in chamber in kPa\n",
"To=30+273 //Temperature in chamber in K\n",
"P1=80 //Pressure of nozzle at given section in kPa\n",
"D=0.012 //Cross section diameter of nozzle in m\n",
"Ri=8314 //Ideal gas constant in J/mol-K\n",
"\n",
"//Calculation\n",
"R=Ri/mol //Specific gas constant in J/kg-K\n",
"p1=Po/P1 //Stagnation to static pressure ratio\n",
"M1=sqrt((((p1^((k-1)/k))-1)*2)/(k-1)) //Mach number at section\n",
"T1=To*((1+(((k-1)/2)*M1^2))^(-1)) //Temperature at section in K\n",
"a=sqrt(k*R*T1) //Sound Velocity in m/s\n",
"C1=M1*a //Gas Velocity at section in m/s\n",
"d=(P1*10^3)/(R*T1) //Density in kg/m^3\n",
"A1=%pi*D^2/4 //Cross-sectional Area \n",
"m=d*A1*C1 //Mass flow rate through nozzle in kg/s\n",
"\n",
"//Output\n",
"printf('(A)At section:\n    Mach number is %3.1f\n    Temperature is %3.1f K\n    Velocity is %3.3f m/s\n (B)Mass flow rate through nozzle is %3.3f kg/s',M1,T1,C1,m)"
   ]
   }
,
{
		   "cell_type": "markdown",
		   "metadata": {},
		   "source": [
			"## Example 1.37: To_find_Mach_number_velocity_and_pressure_at_a_section_in_duct.sce"
		   ]
		  },
  {
"cell_type": "code",
	   "execution_count": null,
	   "metadata": {
	    "collapsed": true
	   },
	   "outputs": [],
"source": [
"clc\n",
"clear\n",
"\n",
"//Input data\n",
"mol=4 //Molecular weight of gas in kg/mol\n",
"k=1.3 //Adiabatic constant\n",
"C1=150 //Gas Velocity at section-1 in m/s\n",
"P1=100 //Pressure of duct at section-1 in kPa\n",
"T1=15+273 //Temperature at section-1 in K\n",
"T2=-10+273 //Temperature at section-2 in K\n",
"Ri=8314 //Ideal gas constant in J/mol-K\n",
"\n",
"//Calculation\n",
"R=Ri/mol //Specific gas constant in J/kg-K\n",
"a1=sqrt(k*R*T1) //Sound velocity at section-1 in m/s\n",
"M1=C1/a1 //Mach number at section-1 \n",
"t1=0.9955 //Static to Stagnation temperature ratio at entry from gas tables @M1,k=1.3 \n",
"To=T1/t1 //Stagantion temperature in K\n",
"p1=0.9815 //Static to Stagnation pressure ratio at entry from gas tables @M1,k=1.3 \n",
"Po=P1/p1 //Stagnation pressure in kPa\n",
"t2=T2/To //Static to Stagnation temperature ratio at exit\n",
"M2=0.82 //Amch number at section-2 from gas tables @t2,k=1.3\n",
"p2=0.659 //Static to Stagnation pressure ratio at exit from gas tables @M2,k=1.3 \n",
"P2=Po*p2 //Pressure at section-2 in kPa\n",
"a2=sqrt(k*R*T2) //Sound velocity at section-2 in m/s\n",
"C2=M2*a2 //Gas Velocity at section-2 in m/s\n",
"\n",
"//Output\n",
"printf('At the second point:\n    Mach number is %3.2f\n    Pressure is %3.3f kPa\n    Velocity is %3.2f m/s',M2,P2,C2)"
   ]
   }
,
{
		   "cell_type": "markdown",
		   "metadata": {},
		   "source": [
			"## Example 1.38: To_find_mass_flow_rate_and_velocity_at_exit.sce"
		   ]
		  },
  {
"cell_type": "code",
	   "execution_count": null,
	   "metadata": {
	    "collapsed": true
	   },
	   "outputs": [],
"source": [
"clc\n",
"clear\n",
"\n",
"//Input data\n",
"A1=10 //Inlet area in cm^2\n",
"C1=80 //Inlet Air velocity in m/s\n",
"T1=28+273 //Inlet temperature in K\n",
"P1=700 //Inlet Pressure in kPa\n",
"P2=250 //Exit pressure in kPa\n",
"k=1.4 //Adiabatic constant\n",
"R=287 //Specific gas constant in J/kg-K\n",
"\n",
"//Calculation\n",
"a1=sqrt(k*R*T1) //Sound velocity at inlet in m/s\n",
"M1=C1/a1 //Mach number at inlet\n",
"t1=0.989 //Static to Stagnation temperature ratio at entry from gas tables @M1,k=1.4\n",
"To=T1/t1 //Stagantion temperature in K\n",
"p1=0.964 //Static to Stagnation pressure ratio at entry from gas tables @M1,k=1.4 \n",
"Po=P1/p1 //Stagnation pressure in kPa\n",
"p2=P2/Po //Static to Stagnation pressure ratio \n",
"M2=1.335 //Mach number at exit \n",
"t2=0.737 //Static to Stagnation temperature ratio at exit from gas tables @M2,k=1.4\n",
"T2=To*t2 //Stagnation temperatur in K\n",
"a2=sqrt(k*R*T2) //Sound velocity at exit in m/s\n",
"C2=M2*a2 //Exit Air velocity in m/s\n",
"d1=(P1*10^3)/(R*T1) //Density at inlet in kg/m^3\n",
"m=d1*A1*C1*10^-4 //Mass flow rate in kg/s\n",
"\n",
"//Output\n",
"printf('(A)Mass flow rate is %3.3f kg/s\n (B)Velocity at the exit is %3.2f m/s',m,C2)"
   ]
   }
,
{
		   "cell_type": "markdown",
		   "metadata": {},
		   "source": [
			"## Example 1.39: To_find_time_required_for_a_value_of_pressure_decrease.sce"
		   ]
		  },
  {
"cell_type": "code",
	   "execution_count": null,
	   "metadata": {
	    "collapsed": true
	   },
	   "outputs": [],
"source": [
"clc\n",
"clear\n",
"\n",
"//Input data\n",
"V=5 //Volume of air in m^3\n",
"Ae=10*10^-4 //Exit area in cm^2\n",
"To=60+273 //Temperature inside in the tank in K\n",
"Po1=40 //Intial total pressure in bar \n",
"Po2=2 //Final total pressure in bar\n",
"P=1 //Discharge pressure in bar\n",
"R=287 //Specific gas constant in J/kg-K\n",
"\n",
"//Calculation\n",
"//Here pressure ratios P/Po1 and P/Po2 are always less than critical pressure ratio therefore flow is choked i.e. M=1 at exit\n",
"Gp=(0.0404184*Ae)/sqrt(To) //Mass flow rate by Stagnation pressure i.e. m/Po\n",
"//Differentiating m=(P*V)/(R*To) w.r.t. time and intrgrating resulting equation we get following expression.\n",
"t=-(V/(R*To*Gp))*log(Po2/Po1) //The time required for tank pressure to decrease from Po1 to Po2 in sec\n",
"\n",
"//Output\n",
"printf('The time required for tank pressure to decrease from %i bar to %i bar is %3.2f sec',Po1,Po2,t)"
   ]
   }
,
{
		   "cell_type": "markdown",
		   "metadata": {},
		   "source": [
			"## Example 1.3: To_determine_temperature_enthalpy_drop_and_internal_energy_change.sce"
		   ]
		  },
  {
"cell_type": "code",
	   "execution_count": null,
	   "metadata": {
	    "collapsed": true
	   },
	   "outputs": [],
"source": [
"clc\n",
"clear\n",
"\n",
"//Input data\n",
"P1=3.2 //Initial Pressure in bar\n",
"P2=1 //Final Pressure in bar\n",
"T1=475 //Initial temperature in K\n",
"Mol=44 //Molecular weight of carbondioxide in kg/mol\n",
"Ri=8314 //Ideal gas constant in J/mol-K\n",
"k=1.3 //Adiabatic constant\n",
"\n",
"//Calculation\n",
"R=Ri/Mol //Specific gas constant in J/kg-K\n",
"Cp=(k*R)/(k-1) //Specific heat capacity at constant pressure in J/kg-K\n",
"Cv=Cp/k //Specific heat capacity at constant volume in J/kg-K\n",
"p1=P2/P1 //Pressure ratio\n",
"T2=T1*p1^((k-1)/k) //Final Temperature\n",
"dh=Cp*(T1-T2)*10^-3 //Enthalpy drop in kJ/kg\n",
"dU=Cv*(T2-T1)*10^-3 //Change in internal energy in kJ/kg, -ve sign indicates loss\n",
"\n",
"//Output\n",
"printf('(A)Temperature is %3.3f K\n (B)Enthalpy drop is %3.3f kJ/kg\n (C)Change in internal energy is %3.2f kJ/kg i.e. %3.2f kJ/kg(loss)',T2,dh,dU,abs(dU))"
   ]
   }
,
{
		   "cell_type": "markdown",
		   "metadata": {},
		   "source": [
			"## Example 1.4: To_determine_properties_at_outlet_and_area_ratio_of_diffuser.sce"
		   ]
		  },
  {
"cell_type": "code",
	   "execution_count": null,
	   "metadata": {
	    "collapsed": true
	   },
	   "outputs": [],
"source": [
"clc\n",
"clear\n",
"\n",
"//Input data\n",
"P1=0.5 //Initial Pressure in bar\n",
"T1=50+273 //Intial Temperature in K\n",
"C1=240 //Inlet velocity in m/s\n",
"C2=120 //Outlet velocity in m/s, missing data\n",
"Cp=1005 //Specific heat capacity at constant pressure in J/kg-K\n",
"k=1.4 //Adiabatic constant\n",
"\n",
"//Calculation\n",
"T2=T1+((C1^2-C2^2)/(2*Cp)) //Final Temperature in K\n",
"t1=T2/T1 //Temperature ratio\n",
"P2=P1*t1^(k/(k-1)) //Final Pressure in bar\n",
"ar=(P1*T2*C1)/(P2*T1*C2) //Ratio of outlet to inlet area\n",
"\n",
"//Output\n",
"printf('(A)At outlet:\n    Temperature is %3.2f K\n    Pressure is %3.4f bar\n (B)Ratio of outlet to inlet area is %3.4f',T2,P2,ar)"
   ]
   }
,
{
		   "cell_type": "markdown",
		   "metadata": {},
		   "source": [
			"## Example 1.5: To_determine_static_pressure_and_axial_force_of_turbojet_engine.sce"
		   ]
		  },
  {
"cell_type": "code",
	   "execution_count": null,
	   "metadata": {
	    "collapsed": true
	   },
	   "outputs": [],
"source": [
"clc\n",
"clear\n",
"\n",
"//Input data\n",
"m=25 //Mass flow rate of air in kg/s\n",
"C2=115 //Outlet velocity in m/s\n",
"P1=100 ////Initial Pressure in kPa\n",
"T1=300 //Intial Temperature in K\n",
"C1=40 //Inlet velocity in m/s\n",
"R=0.287 //Specific gas constant in kJ/kg-K\n",
"Cp=1005 //Specific heat capacity at constant pressure in J/kg-K\n",
"k=1.4 //Adiabatic constant\n",
"\n",
"//Calculation\n",
"T2=T1+((C1^2-C2^2)/(2*Cp)) //Final Temperature in K\n",
"t1=T2/T1 //Temperature ratio\n",
"P2=P1*t1^(k/(k-1)) //Final Pressure in bar\n",
"A1=(m*R*T1)/(P1*C1) //Area at inlet in m^2\n",
"A2=(m*R*T2)/(P2*C2) //Area at outlet in m^2\n",
"F=((P1*A1)-(P2*A2))+(m*(C1-C2))*10^-3 //Axial force on mouthpiece resulting from acceleration of air in kN\n",
"\n",
"//Output\n",
"printf('(A)Static pressure at intake face is %3.3f kPa\n (B)Magnitude of axial force on mouthpiece resulting from acceleration of air is %3.3f kN',P2,F)"
   ]
   }
,
{
		   "cell_type": "markdown",
		   "metadata": {},
		   "source": [
			"## Example 1.6: To_determine_mach_number_at_a_point.sce"
		   ]
		  },
  {
"cell_type": "code",
	   "execution_count": null,
	   "metadata": {
	    "collapsed": true
	   },
	   "outputs": [],
"source": [
"clc\n",
"clear\n",
"\n",
"//Input data\n",
"P=200 //Pressure in kPa\n",
"C=50 //Velocity of air in m/s\n",
"d=2.9 //Density in kg/m^3\n",
"Mol=32 //Molecular weight of oxygen in kg/mol\n",
"k=1.4 //Adiabatic constant\n",
"Ri=8314 //Ideal gas constant in J/mol-K\n",
"\n",
"//Calculator\n",
"R=Ri/Mol //Specific gas constant in J/kg-K\n",
"T=P*10^3/(R*d) //Temperature in K\n",
"a=sqrt(k*R*T) //Velocity of sound in m/s \n",
"M=C/a //Mach number \n",
"\n",
"//Output\n",
"printf('Mach number is %3.2f',M)"
   ]
   }
,
{
		   "cell_type": "markdown",
		   "metadata": {},
		   "source": [
			"## Example 1.7: To_find_direction_of_flow.sce"
		   ]
		  },
  {
"cell_type": "code",
	   "execution_count": null,
	   "metadata": {
	    "collapsed": true
	   },
	   "outputs": [],
"source": [
"clc\n",
"clear\n",
"\n",
"//Input data\n",
"Pa=1.3 //Pressure at section-A in bar\n",
"Ta=50+273 //Temperature at section-A in K\n",
"Pb=1 //Pressure at section-B in bar\n",
"Tb=13+273 //Temperature at section-B in K\n",
"Cp=1005 //Specific heat capacity at constant pressure in J/kg-K\n",
"R=287 //Specific gas constant in J/kg-K\n",
"\n",
"//Calculation\n",
"ds=((Cp*log(Tb/Ta))-(R*log(Pb/Pa)))*10^-3 //The change in the entropy is kJ/kg\n",
"//+ve sign indicates A to B\n",
"//-ve sign indicates B to A\n",
"\n",
"//Output\n",
"printf('The change in the entropy is %3.4f kJ/kg\n Since value is -ve, process must takes place from B to A',ds)"
   ]
   }
,
{
		   "cell_type": "markdown",
		   "metadata": {},
		   "source": [
			"## Example 1.8: To_calculate_the_bulk_modulus.sce"
		   ]
		  },
  {
"cell_type": "code",
	   "execution_count": null,
	   "metadata": {
	    "collapsed": true
	   },
	   "outputs": [],
"source": [
"clc\n",
"clear\n",
"\n",
"//Input data\n",
"V1=8 //Intial volume in litre\n",
"V2=7.8 //Final volume in litre\n",
"P1=0.7 //Intial Pressure in MPa\n",
"P2=2.7 //Final Pressure in MPa\n",
"\n",
"//Calculations\n",
"K=(P2-P1)/(log(V1/V2)) //Bulk modulus of liquid in kPa\n",
"\n",
"//Output\n",
"printf('Bulk modulus of liquid is %3.3f kPa',K)"
   ]
   }
,
{
		   "cell_type": "markdown",
		   "metadata": {},
		   "source": [
			"## Example 1.9: To_calculate_mass_of_water_to_be_pumped_to_obtain_desired_pressure.sce"
		   ]
		  },
  {
"cell_type": "code",
	   "execution_count": null,
	   "metadata": {
	    "collapsed": true
	   },
	   "outputs": [],
"source": [
"clc\n",
"clear\n",
"\n",
"//Input data\n",
"V1=0.5 //Voume of Water required to fill pressure vessel in m^3\n",
"P=3000 //Test pressure in bar\n",
"dv=0.6 //Change of empty volume of container due to pressurisation in percentage \n",
"K=20000 //Bulk modulus of water in MPa\n",
"\n",
"//Calculation\n",
"m1=V1*10^3 //Mass of water required to fill pressure vessel in kg\n",
"Vr=(P*V1)/K //Reduced volume of water due to compression in m^3\n",
"Vi=dv*V1/100 //Increased volume of container in m^3\n",
"V=Vr+Vi //Volume of additional water required in m^3\n",
"m=V*10^3 //Mass of additional water required in kg\n",
"mt=m1+m //Total mass of water required in litre, Since 1kg=1Lit\n",
"\n",
"//Output\n",
"printf('Mass of water to be pumped into the vesel to obtain the desired pressure is %3i lit',mt)"
   ]
   }
],
"metadata": {
		  "kernelspec": {
		   "display_name": "Scilab",
		   "language": "scilab",
		   "name": "scilab"
		  },
		  "language_info": {
		   "file_extension": ".sce",
		   "help_links": [
			{
			 "text": "MetaKernel Magics",
			 "url": "https://github.com/calysto/metakernel/blob/master/metakernel/magics/README.md"
			}
		   ],
		   "mimetype": "text/x-octave",
		   "name": "scilab",
		   "version": "0.7.1"
		  }
		 },
		 "nbformat": 4,
		 "nbformat_minor": 0
}
