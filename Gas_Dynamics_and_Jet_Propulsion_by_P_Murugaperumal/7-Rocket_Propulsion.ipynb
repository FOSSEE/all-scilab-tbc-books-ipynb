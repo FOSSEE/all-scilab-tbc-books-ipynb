{
"cells": [
 {
		   "cell_type": "markdown",
	   "metadata": {},
	   "source": [
       "# Chapter 7: Rocket Propulsion"
	   ]
	},
{
		   "cell_type": "markdown",
		   "metadata": {},
		   "source": [
			"## Example 7.10: To_find_thrust_specific_impulse_and_efficiencies.sce"
		   ]
		  },
  {
"cell_type": "code",
	   "execution_count": null,
	   "metadata": {
	    "collapsed": true
	   },
	   "outputs": [],
"source": [
"clc\n",
"clear\n",
"\n",
"//input data\n",
"Cj=1250 //effective exhaust velocity in m/s\n",
"s=0.8 //effective jet speed ratio i.e. flight to jet speed ratio\n",
"ma=3.5 //oxidizer flow rate in kg/s\n",
"mf=1 //fuel flow rate in kg/s\n",
"g=9.81 //acceleration due to gravity in m/s^2\n",
"q=2500*10^3 //heat of propellent per kg of propellant mixture in J/kg\n",
"\n",
"//calculation\n",
"u=s*Cj //flight velocity in m/s\n",
"mp=ma+mf //propellant mass flow in kg/s\n",
"F=Cj*mp*10^-3 //thrust in kN\n",
"wp=mp*g //weight flow rate of propellent in N/s\n",
"Is=(F*10^3)/(wp) //specific impulse in sec,F in N\n",
"np=(2*s)/(1+s^2) //propulsive efficiency\n",
"nth=0.5*mp*((Cj^2+u^2)/(mp*q)) //thermal efficiency\n",
"no=np*nth //overall efficiency\n",
"\n",
"//output\n",
"printf('(A)thrust is %3.3f kN\n (B)specific impulse is %3.2f sec\n (C)propulsive efficiency is %3.4f \n (D)thermal efficiency is %3.4f \n (E)overall efficiency is %3.1f',F,Is,np,nth,no)"
   ]
   }
,
{
		   "cell_type": "markdown",
		   "metadata": {},
		   "source": [
			"## Example 7.11: To_find_specific_impulse_SPC_effective_and_actual_jet_velocity_and_efficiencies.sce"
		   ]
		  },
  {
"cell_type": "code",
	   "execution_count": null,
	   "metadata": {
	    "collapsed": true
	   },
	   "outputs": [],
"source": [
"clc \n",
"clear\n",
"\n",
"//input data\n",
"mp=193 //propellent flow rate in kg/s\n",
"P1=27*10^5 //pressure at throat section in Pa\n",
"T1=3000 //temperature at throat section in K\n",
"de=0.6 //nozzle exit diameter in m\n",
"Pe=1.1*10^5 //exhaust pressure in Pa\n",
"Pamb=1.013*10^5 //ambient pressure in Pa\n",
"F=380*10^3 //thrust of motor in N\n",
"u=694.44 //flight velocity in m/s\n",
"g=9.81 //acceleration due to gravity in m/s^2\n",
"q=6500*10^3 //heat of propellent per kg of propellant mixture in J/kg\n",
"\n",
"//calculation\n",
"Ae=(%pi*0.6^2)/4 //exit area in m^2\n",
"Cj=F/mp //average effective jet velocity in m/s\n",
"Ce=(F-((Pe-Pamb)*Ae))/mp //exhaust velocity in m/s, wrong answer in textbook\n",
"wp=mp*g //weight flow rate of propellent in N/s\n",
"Is=(F)/(wp) //specific impulse in sec\n",
"SPC=(wp/F)/10^-3 //specific propellent consumption in sec^-1 *10^-3\n",
"Pt=F*u*10^-6 //Thrust power in MW\n",
"Pl=(0.5*mp*((Cj-u)^2))*10^-6 //Power loss in exhaust in MW\n",
"Pe=Pt+Pl //engine output in MW\n",
"np=Pt/Pe //propulsive efficiency\n",
"nth=Pe*10^3/(mp*q*10^-3) //thermal efficiency and Pe,q in kW\n",
"no=np*nth //overall efficiency\n",
"\n",
"//output\n",
"printf('(A)effective jet velocity is %3.4f m/s\n (B)Actual jet velocity is %3.4f m/s\n (C)specific impulse is %3.1f sec\n (D)specific propellent consumption is %3.4f*10^-3 sec^-1\n (E)propulsive efficiency is %3.5f \n (D)thermal efficiency is %3.3f \n (E)overall efficiency is %3.5f',Cj,Ce,Is,SPC,np,nth,no)"
   ]
   }
,
{
		   "cell_type": "markdown",
		   "metadata": {},
		   "source": [
			"## Example 7.12: EX7_12.sce"
		   ]
		  },
  {
"cell_type": "code",
	   "execution_count": null,
	   "metadata": {
	    "collapsed": true
	   },
	   "outputs": [],
"source": [
"clc\n",
"clear\n",
"\n",
"//input data\n",
"m1=3600 //internal mass in kg\n",
"Cj=2070 //average effective jet velocity in m/s\n",
"tp=80 //rocket operation duration in sec\n",
"g=9.81 //acceleration due to gravity in m/s^2\n",
"\n",
"//calculation\n",
"up=2*Cj //flight velocity in m/s\n",
"MR=1/exp((up+(g*tp))/Cj) //mass ratio\n",
"m2=MR*m1 //mass after rocket operation in kg\n",
"PMF=1-MR //propellant mass fraction\n",
"Mp=m1-m2 //mass of propellant in kg\n",
"mp=Mp/tp //propellent flow rate in kg/s\n",
"F=Cj*mp*10^-3 //thrust in kN\n",
"Zp=(((1+((1-(1/PMF))*log(1/MR)))*Cj*tp)-(0.5*g*tp^2))*10^-3 //powered altitude gain in km\n",
"Zc=((0.5*up^2)/g)*10^-3 //coasting altitude gain in km\n",
"Z=Zp+Zc //maximum altitude in km\n",
"\n",
"//output\n",
"printf('(A)flow rate of propellent is %3.2f kg/s\n (B)thrust developed is %3.3f kN\n (C)altitude gains during powered and coasting flights are %3.3f km and %3.3f km respectively',mp,F,Zp,Zc)"
   ]
   }
,
{
		   "cell_type": "markdown",
		   "metadata": {},
		   "source": [
			"## Example 7.13: EX7_13.sce"
		   ]
		  },
  {
"cell_type": "code",
	   "execution_count": null,
	   "metadata": {
	    "collapsed": true
	   },
	   "outputs": [],
"source": [
"clc\n",
"clear\n",
"\n",
"//input data\n",
"s=0.2105 //effective jet speed ratio\n",
"Is=203.88 //specific impulse in sec\n",
"tp=8 //rocket operation duration i.e. burn out time in sec\n",
"g=9.81 //acceleration due to kravity in m/s^2\n",
"\n",
"//calculation\n",
"Cj=g*Is //average effective jet velocity in m/s\n",
"up=s*Cj //maximum flight speed in m/s\n",
"MR=1/exp((up+(g*tp))/Cj) //mass ratio\n",
"PMF=1-MR //propellant mass fraction\n",
"Zp=(((1+((1-(1/PMF))*log(1/MR)))*Cj*tp)-(0.5*g*tp^2))*10^-3 //powered altitude gain in km\n",
"Zc=((0.5*up^2)/g)*10^-3 //coasting altitude gain in km\n",
"Z=Zp+Zc //maximum altitude in km\n",
"\n",
"//output \n",
"printf('(A)effective jet velocity is %3i m/s\n (B)mass ratio and propellent mass fraction are %3.2f and %3.2f respectively\n (C)maximum flight speed is %3.2f m/s\n (D))altitude gains during powered and coasting flights are %3.3f km and %3.3f km respectively',Cj,MR,PMF,up,Zp,Zc)"
   ]
   }
,
{
		   "cell_type": "markdown",
		   "metadata": {},
		   "source": [
			"## Example 7.14: To_find_orbital_and_escape_velocities_of_a_rocket.sce"
		   ]
		  },
  {
"cell_type": "code",
	   "execution_count": null,
	   "metadata": {
	    "collapsed": true
	   },
	   "outputs": [],
"source": [
"clc\n",
"clear\n",
"\n",
"//input data\n",
"R0=6341.6*10^3 //radius of earth at mean sea-level in m\n",
"g=9.809 //acceleration due to gravity in m/s^2\n",
"Z1=0 //altitude at sea-level in m\n",
"Z2=300*10^3 //altitude above sea-level in m\n",
"\n",
"//calculation\n",
"uorb1=R0*sqrt(g/(R0+Z1)) //orbit velocity of a rocket at mean sea level in m/s\n",
"uesc1=sqrt(2)*uorb1 //escape velocity of a rocket at mean sea level in m/s\n",
"uorb2=R0*sqrt(g/(R0+Z2)) //orbit velocity of a rocket at an altitude of 300 km in m/s\n",
"uesc2=sqrt(2)*uorb2 //escape velocity of a rocket at an altitude of 300 km in m/s\n",
"\n",
"//output \n",
"printf('(A)orbit and escape velocities of a rocket at mean sea level are %3i m/s and %3i m/s\n (B)orbit and escape velocities of a rocket at an altitude of 300 km are %3.1f m/s and %3.2f m/s',uorb1,uesc1,uorb2,uesc2 )"
   ]
   }
,
{
		   "cell_type": "markdown",
		   "metadata": {},
		   "source": [
			"## Example 7.1: To_find_thrust_of_the_motor_of_a_rocket.sce"
		   ]
		  },
  {
"cell_type": "code",
	   "execution_count": null,
	   "metadata": {
	    "collapsed": true
	   },
	   "outputs": [],
"source": [
"clc\n",
"clear\n",
"\n",
"//input data\n",
"mp=12 //flow rate in kg/s\n",
"Ae=335*10^-4 //exit area in m^2\n",
"Ce=2000 //exhaust velocity in m/s\n",
"h=10 //altitude in km\n",
"Pe=1*10^5 //exhaust pressure in Pa\n",
"P0=1*10^5 //p0=atomspheric pressure in Pa at h=0.\n",
"P10=0.25*10^5 //atmospheric pressure in Pa using gas tables\n",
"\n",
"//calculations\n",
"Fs=mp*Ce*10^-3 //thrust of motor at sea level since pe=p0 in kN\n",
"F10=((mp*Ce) + Ae*(Pe-P10))*10^-3 //thrust of motor at altitude of 10km in kN\n",
"\n",
"//output\n",
"printf('(A)thrust of motor at sea level is %3i kN (upwards) \n (B)thrust of motor at an altitude 10km is %3.4f kN',Fs,F10)"
   ]
   }
,
{
		   "cell_type": "markdown",
		   "metadata": {},
		   "source": [
			"## Example 7.2: EX7_2.sce"
		   ]
		  },
  {
"cell_type": "code",
	   "execution_count": null,
	   "metadata": {
	    "collapsed": true
	   },
	   "outputs": [],
"source": [
"clc\n",
"clear \n",
"\n",
"//input data\n",
"P0=38*10^5 //combustion chamber pressure in Pa\n",
"T0=3500 //combustion chamber temperature in K\n",
"ma=41.67 //oxidizer flow rate in kg/s\n",
"MR=5 //mixture ratio\n",
"k=1.3 //adiabatic constant\n",
"R=287 //gas constant in J/kg-K\n",
"Pamb=0.0582*10^5 //ambient pressure in Pa\n",
"Pe=Pamb //exhaust pressure at sea level in Pa\n",
"\n",
"//calculation \n",
"mf=ma/MR //mass flow of fuel in kg/s \n",
"mp=mf+ma //propellant mass flow in kg/s\n",
"Cp=(k*R)/(k-1) //specific heat at constant pressure in J/kg-k\n",
"p=P0/Pe //ratio of pressures at combustion chamber and exhaust \n",
"Me=((((p^((k-1)/k))-1)*2)/(k-1))^0.5 //Mach number\n",
"t=1/(1+(((k-1)/2)*Me^2)) //ratio of exhaust temperature to combustion temperature\n",
"Te=t*T0 //exhaust temperature in Kelvin\n",
"a=(1/Me)*(((2/(k+1))+(((k-1)/(k+1))*Me^2))^((k+1)/(2*(k-1)))) //ratio of areas at exit section and throat section of the nozzle\n",
"Ce=(k*R*Te)^0.5*Me //exit velocity in the exhaust in m/s\n",
"Cj=Ce //average effective jet velocity in m/s, since Pe=Pamb\n",
"P1=P0*(2/(k+1))^(k/(k-1)) //pressure at throat section in Pa\n",
"T1=T0*(2/(k+1)) //temperature at throat section in K\n",
"d1=P1/(R*T1) //density of fuel at throat section in kg/m^3\n",
"C1=(k*R*T1)^0.5 //velocity at throat section in m/s\n",
"A1=(mp/(d1*C1))*10^4 //nozzle throat area in cm^2\n",
"Ae=a*A1 //exit area in cm^2\n",
"F=(mp*Ce)*10^-3 //thrust in kN\n",
"Cmax1=(2*Cp*T0)^0.5 //maximum possible velocity in m/s\n",
"Cf=(F*10^3)/(P0*A1*10^-4) //thrust coefficient, F in kN and A1 in m^2\n",
"Cch1=Cj/Cf //characteristic velocity in m/s\n",
"\n",
"//output\n",
"printf('(A)nozzle throat area is %3.2f cm^2 \n (B)thrust is %3.1f kN \n (C)thrust coefficient is %3.2f \n (D)characteristic velocity is %3i m/s \n (E)exit velocity in exhaust is %3i m/s\n (F)maximum possible exhaust velocity is %3i m/s\n',A1,F,Cf,Cch1,Ce,Cmax1)\n",
""
   ]
   }
,
{
		   "cell_type": "markdown",
		   "metadata": {},
		   "source": [
			"## Example 7.3: To_estimate_thrust_per_unit_area_and_specific_impulse.sce"
		   ]
		  },
  {
"cell_type": "code",
	   "execution_count": null,
	   "metadata": {
	    "collapsed": true
	   },
	   "outputs": [],
"source": [
"clc \n",
"clear\n",
"\n",
"//input data\n",
"a=3 //exit area to throat area ratio\n",
"T0=2973 //combustion chamber temperature in K\n",
"P0=20*10^5 //combustion chamber pressure in Pa\n",
"k=1.3 //adiabatic constant\n",
"R=248 //gas constant in J/kg-K\n",
"Pamb=1*10^5 //ambient pressure in Pa\n",
"Me=2.52 //mach number for k=1.3 and a=3 using gas tables \n",
"g=9.81 //acceleration due to gravity in m/s^2\n",
"\n",
"//calculation\n",
"p=1/((1+(((k-1)/2)*Me^2))^(k/(k-1))) //ratio of pressures at exhaust and combustion chamber \n",
"Pe=p*P0 //exhaust pressure in Pa\n",
"t=1/(1+(((k-1)/2)*Me^2)) //ratio of exhaust temperature to combustion temperature\n",
"Te=t*T0 //exhaust temperature in Kelvin\n",
"Ce=(k*R*Te)^0.5*Me //exit velocity in the exhaust in m/s\n",
"M=(Pe*Ce)/(R*Te) //propellant mass flow per unit area of exit in kg/m^2-s\n",
"Fa=((M*Ce)+(Pe-Pamb))*10^-3 //thrust per unit area of exit in N/m^2\n",
"Is=(Fa*10^3)/(M*g) //specific impulse in sec\n",
"\n",
"//output\n",
"printf('(A)thrust per unit area of exit is %3.2f kN/m^2 \n (B)specific impulse is %3.2f sec',Fa,Is)"
   ]
   }
,
{
		   "cell_type": "markdown",
		   "metadata": {},
		   "source": [
			"## Example 7.4: EX7_4.sce"
		   ]
		  },
  {
"cell_type": "code",
	   "execution_count": null,
	   "metadata": {
	    "collapsed": true
	   },
	   "outputs": [],
"source": [
"clc\n",
"clear\n",
"\n",
"//input data\n",
"mp=5 //propellent flow rate in kg/s (missing data)\n",
"de=0.10 //nozzle exit diameter in m\n",
"Pe=1.02*10^5 //nozzle exit pressure in Pa\n",
"Pamb=1.013*10^5 //ambient pressure in Pa\n",
"P0=20 //thrust chamber pressure in Pa\n",
"F=7000 //thrust in N\n",
"u=1000 //rocket speed in m/s\n",
"g=9.81 //acceleration due to gravity in m/s^2\n",
"\n",
"//calculation\n",
"Cj=F/mp //effective jet velocity in m/s\n",
"Ca=Cj-u //absolute jet velocity in m/s\n",
"wp=mp*g //weight flow rate of propellent in N/s\n",
"Is=F/(wp) //specific impulse in sec\n",
"SPC=1/Is //specific propellent consumption in sec^-1\n",
"\n",
"//output\n",
"printf('(A)effective jet velocity is %3i m/s \n (B)specific impulse is %3.2f sec \n (C)specific propellent consumption is %3.3f s^-1 \n (D)absolute jet velocity is %3i m/s',Cj,Is,SPC,Ca)"
   ]
   }
,
{
		   "cell_type": "markdown",
		   "metadata": {},
		   "source": [
			"## Example 7.5: To_find_propulsive_efficiency_thrust_and_thrust_power_of_rocket.sce"
		   ]
		  },
  {
"cell_type": "code",
	   "execution_count": null,
	   "metadata": {
	    "collapsed": true
	   },
	   "outputs": [],
"source": [
"clc\n",
"clear\n",
"\n",
"//input data \n",
"Cj=2700 //average effective jet velocity in m/s\n",
"u=1350 //forward flight velocity in m/s\n",
"mp=78.6 //propellant mass flow in kg/s\n",
"\n",
"//calculation\n",
"s=u/Cj //effective jet speed ratio\n",
"np=(2*s)/(1+s^2) //propulsive efficiency\n",
"F=Cj*mp*10^-3 //thrust in kN\n",
"Pt=F*u*10^-3 //Thrust power in MW, F in N\n",
"\n",
"//output\n",
"printf('(A)thrust is %3.2f kN \n (B)Thrust power is %3.3f MW \n (C)propulsive efficiency is %3.1f',F,Pt,np)"
   ]
   }
,
{
		   "cell_type": "markdown",
		   "metadata": {},
		   "source": [
			"## Example 7.6: To_find_velocity_and_maximum_height_that_rocket_will_reach.sce"
		   ]
		  },
  {
"cell_type": "code",
	   "execution_count": null,
	   "metadata": {
	    "collapsed": true
	   },
	   "outputs": [],
"source": [
"clc\n",
"clear\n",
"\n",
"//input data\n",
"mi=15000 //mass of the rocket in kg\n",
"mp=125 //propellant mass flow in kg/s\n",
"Cj=2000 //velocity of gases coming out in m/s\n",
"t=70 //time interval in sec\n",
"t0=0 //lower limit in integration in sec\n",
"t1=70 //upper limit in integration in sec\n",
"g=9.81 //acceleration due to gravity in m/s^2\n",
"\n",
"//calculation\n",
"u=(-Cj*(log(1-((mp*t)/mi))))-(g*t) //velocity attained in 70 sec in m/s\n",
"h1=(integrate('((-2000*(log(1-((125*t)/15000))))-(g*t))','t',t0,t1))*10^-3 //distance travelled through 70 sec obtained by integrating u w.r.t time with intervals 0 to 70 in km\n",
"h2=(u^2/(2*g))*10^-3 //distance reached after fuel last i.e. after 70 sec due to kinetic energy by using KE=PE in km\n",
"h=h1+h2 //maximum height the rocket will reach in km\n",
"\n",
"//output\n",
"printf('(A)velocity attained in %i sec is %3.2f m/s\n (B)maximum height the rocket will reach is %3.3f km',t,u,h)"
   ]
   }
,
{
		   "cell_type": "markdown",
		   "metadata": {},
		   "source": [
			"## Example 7.7: EX7_7.sce"
		   ]
		  },
  {
"cell_type": "code",
	   "execution_count": null,
	   "metadata": {
	    "collapsed": true
	   },
	   "outputs": [],
"source": [
"clc\n",
"clear\n",
"\n",
"//input data\n",
"A1=18*10^-4 //throat area in m^2\n",
"P0=25*10^5 //combustion chamber pressure in Pa\n",
"Is=127.42 //specific impulse in sec\n",
"wp=44.145 //weight flow rate of propellent in N/s\n",
"g=9.81 //acceleration due to kravity in m/s^2\n",
"\n",
"//calculation\n",
"F=Is*wp //thrust in N\n",
"mp=wp/g //propellant mass flow in kg/s\n",
"Cj=F/mp //average effective jet velocity in m/s\n",
"Cf=F/(P0*A1) //thrust coefficient\n",
"Cw=wp/(P0*A1)/10^-3 //propellent weight flow coefficent *10^-3\n",
"SPC=(wp/F)/10^-3 //specific propellent consumption in sec^-1 *10^-3\n",
"Cch1=Cj/Cf //characteristic velocity in m/s\n",
"\n",
"//output\n",
"printf('(A)thrust coefficient is %3.2f \n (B)propellent weight flow coefficent is %3.2f*10^-3 \n (C)specific propellent consumption is %3.2f*10^-3 s^-1 \n (D)characteristic velocity is %3.0f m/s',Cf,Cw,SPC,Cch1)"
   ]
   }
,
{
		   "cell_type": "markdown",
		   "metadata": {},
		   "source": [
			"## Example 7.8: To_find_various_parameters_of_rocket_projectile_during_its_operation.sce"
		   ]
		  },
  {
"cell_type": "code",
	   "execution_count": null,
	   "metadata": {
	    "collapsed": true
	   },
	   "outputs": [],
"source": [
"clc\n",
"clear\n",
"\n",
"//input data\n",
"m1=200 //internal mass in kg\n",
"m2=130 //mass after rocket operation in kg\n",
"m3=110 //payload,non-propulsive structure, etc in kg\n",
"tp=3 //rocket operation duration in sec\n",
"Is=240 //specific impulse in sec\n",
"g=9.81 //acceleration due to kravity in m/s^2\n",
"\n",
"//calculation\n",
"MR=m2/m1 //mass ratio\n",
"Mp=m1-m2 //mass of propellant in kg\n",
"mp=Mp/tp //propellent flow rate in kg/s\n",
"wp=mp*g //weight flow rate of propellent in N/s\n",
"IMF=(m2-m3)/(m1-m3) //initial mass fraction\n",
"PMF=1-IMF //propellant mass fraction\n",
"F=Is*wp //thrust in N\n",
"TWRi=F/(m1*g) //initial thrust to weight ratio \n",
"TWRf=F/(m2*g) //final thrust to weight ratio\n",
"av=F/m2 //Maximum accelaration of the vechicle in m/s^2\n",
"Cj=Is*g //effective exhaust velocity in m/s\n",
"It=Is*Mp*g*10^-3 //total impulse in kN-s, units of the answer given in the book is wrong\n",
"IWR=(It*10^3)/((m1-m3)*g) //impulse to weighr ratio, It in N-s\n",
"\n",
"//output\n",
"printf('(A)mass ratio is %3.2f \n (B)propellent mass fraction is %3.3f \n (C)propellent flow rate is %3.1f kg/s\n (D)thrust is %3.1f N\n (E)thrust to weight ratio is %3.2f (intial) and %3.2f (final)\n (F)accelaration of the vechicle is %3.2f m/s^2\n (G)effective exhaust velocity is %3.1f m/s\n (H)total impulse is %3.3f kN-s\n (I)impulse to weighr ratio is %3.2f',MR,PMF,mp,F,TWRi,TWRf,av,Cj,It,IWR)"
   ]
   }
,
{
		   "cell_type": "markdown",
		   "metadata": {},
		   "source": [
			"## Example 7.9: To_propulsive_power_engine_output_and_efficiencies.sce"
		   ]
		  },
  {
"cell_type": "code",
	   "execution_count": null,
	   "metadata": {
	    "collapsed": true
	   },
	   "outputs": [],
"source": [
"clc\n",
"clear\n",
"\n",
"//input data\n",
"u=2800 //rocket speed in m/s\n",
"Cj=1400 //effective exhaust velocity in m/s\n",
"mp=5 //propellent flow rate in kg/s\n",
"q=6500 //heat of propellent per kg of propellant mixture in kJ/kg\n",
"\n",
"//calculation\n",
"s=u/Cj //effective jet speed ratio\n",
"np=(2*s)/(1+s^2) //propulsive efficiency\n",
"F=Cj*mp*10^-3 //thrust in kN\n",
"Pt=F*10^3*u*10^-6 //Thrust power in MW, F in N\n",
"Pe=Pt/np //engine outputin MW\n",
"nth=Pe*10^3/(mp*q) //thermal efficiency, Pe in kW\n",
"no=np*nth //overall efficiency\n",
"\n",
"//output\n",
"printf('(A)propulsive efficiency is %3.1f \n (B)propulsive power is %3.1f MW\n (C)engine outut is %3.1f MW\n (D)thermal efficiency is %3.4f \n (E)overall efficiency is %3.3f',np,Pt,Pe,nth,no)"
   ]
   }
],
"metadata": {
		  "kernelspec": {
		   "display_name": "Scilab",
		   "language": "scilab",
		   "name": "scilab"
		  },
		  "language_info": {
		   "file_extension": ".sce",
		   "help_links": [
			{
			 "text": "MetaKernel Magics",
			 "url": "https://github.com/calysto/metakernel/blob/master/metakernel/magics/README.md"
			}
		   ],
		   "mimetype": "text/x-octave",
		   "name": "scilab",
		   "version": "0.7.1"
		  }
		 },
		 "nbformat": 4,
		 "nbformat_minor": 0
}
