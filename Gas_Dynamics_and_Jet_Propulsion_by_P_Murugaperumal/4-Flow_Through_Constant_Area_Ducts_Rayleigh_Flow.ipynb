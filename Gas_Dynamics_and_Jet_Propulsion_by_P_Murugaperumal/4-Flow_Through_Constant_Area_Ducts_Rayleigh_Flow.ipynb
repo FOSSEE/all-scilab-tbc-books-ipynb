{
"cells": [
 {
		   "cell_type": "markdown",
	   "metadata": {},
	   "source": [
       "# Chapter 4: Flow Through Constant Area Ducts Rayleigh Flow"
	   ]
	},
{
		   "cell_type": "markdown",
		   "metadata": {},
		   "source": [
			"## Example 4.10: EX4_10.sce"
		   ]
		  },
  {
"cell_type": "code",
	   "execution_count": null,
	   "metadata": {
	    "collapsed": true
	   },
	   "outputs": [],
"source": [
"clc\n",
"clear\n",
"\n",
"//input data\n",
"T1=560 //Static Temperature at entry in K\n",
"P1=0.6 //Static Pressure at entry in bar\n",
"C1=75 //Air velocity into combustion chamber in m/s\n",
"mp=30 //air fuel ratio\n",
"CV=92000 //Calorific value of fuel in kJ/kg\n",
"Cp=1.005 //Specific heat of dry air in kJ/kg-K\n",
"k=1.4 //Adiabatic constant\n",
"R=287 //Gas constant in J/kg-K\n",
"\n",
"//calculation\n",
"a1=sqrt(k*R*T1) //Sound velocity in m/s\n",
"M1=C1/a1 //Mach number at entry\n",
"t1=0.9949 //Temperature ratio at entry from gas tables (M1,k=1.4,isentropic)\n",
"To1=T1/t1 //Total stagnation temperature at inlet in K\n",
"p1=0.982 //Pressure ratio  at entry from gas tables (M1,k=1.4,isentropic)\n",
"Po1=P1/p1 //Stagnation Pressure at entry in bar\n",
"q=CV/(mp+1) //The heat transferred per unit mass flow in kJ/kg of gas, mp+1=total amount of fuel=mf+ma\n",
"p2=2.317 //Static Pressure ratio  at critical state from gas tables (Rayleigh,k=1.4,M1)\n",
"Pt=P1/p2 //Static critical pressure in bar\n",
"p3=1.246 //Stagnation Pressure ratio at critical state from gas tables (Rayleigh,k=1.4,M1)\n",
"Pot=Po1/p3 //Stagnation critical pressure in bar\n",
"t2=0.137 //Static temperature ratio at critical state from gas tables (Rayleigh,k=1.4,M1) \n",
"Tt=T1/t2 //Static critical temperature in K\n",
"t3=0.115 //Stagnation temperature ratio at critical state from gas tables (Rayleigh,k=1.4,M1)\n",
"Tot=To1/t3 //Stagnation critical temperature in K\n",
"To2=(q/Cp)+To1 //Stagnation exit temperation in K\n",
"t4=To2/Tot //Ratio of stagnation temperature at exit and critical state \n",
"M2=0.33 //Mach number at exit from gas tables (Rayleigh,t4,k=1.4)\n",
"p4=2.0825 //Static Pressure ratio  at exit from gas tables (Rayleigh,t4,k=1.4)\n",
"P2=p4*Pt //Static Pressure at exit in bar, miscalculation in textbook\n",
"p5=1.186 //Stagnation Pressure ratio at exit from gas tables (Rayleigh,t4,k=1.4)\n",
"Po2=Pot*p5 //Stagnation Pressure at exit in bar\n",
"t5=0.472 //Static temperature ratio  at exit from gas tables (Rayleigh,t4,k=1.4)\n",
"T2=t5*Tt //Static exit temperature in K\n",
"C2=M2*sqrt(k*R*T2) //exit velocity in m/s\n",
"SPL=((Po1-Po2)/Po1)*100 //Percentage of pressure loss in combustion chamber in %\n",
"\n",
"//output\n",
"printf('(A)At exit:\n    Pressure is %3.5f bar \n    Temperature is %3i K \n    Velocity is %3.2f m/s \n    Mach number is %3.2f \n (B)Maximum stagnation temperature available is %3.2f K\n (C)Percentage of pressure loss in combustion chamber is %3.1f percent\n (D)Intial Mach number is %3.2f \n',P2,T2,C2,M2,Tot,SPL,M1)"
   ]
   }
,
{
		   "cell_type": "markdown",
		   "metadata": {},
		   "source": [
			"## Example 4.11: To_find_Mach_number_and_percentage_drop_in_pressure.sce"
		   ]
		  },
  {
"cell_type": "code",
	   "execution_count": null,
	   "metadata": {
	    "collapsed": true
	   },
	   "outputs": [],
"source": [
"clc\n",
"clear\n",
"\n",
"//input data\n",
"To1=473 //Total stagnation temperature at inlet in K\n",
"To2=673 //Stagnation exit temperation in K\n",
"M1=0.5 //Mach number at entry\n",
"\n",
"//calculation\n",
"t1=0.6914 //Stagnation temperature ratio at critical state from gas tables (Rayleigh,k=1.4,M1)\n",
"p1=1.7778 //Static pressure ratio at critical state from gas tables (Rayleigh,k=1.4,M1)\n",
"t2=(To2/To1)*t1 //Stagnation temperature ratio at exit \n",
"M2=0.867 //Mach number at exit from gas tables (Rayleigh,t2,k=1.4)\n",
"p2=1.16 //Static pressure ratio at exit from gas tables (Rayleigh,k=1.4,M2)\n",
"p=p2/p1 //ratio of static pressures at oulet and inlet\n",
"PL=(1-p)*100 //pressure loss in %\n",
"\n",
"//output\n",
"printf('(A)Mach number is %3.3f\n (B)Percentage drop in pressure is %3.1f percent',M2,PL) "
   ]
   }
,
{
		   "cell_type": "markdown",
		   "metadata": {},
		   "source": [
			"## Example 4.12: To_find_inlet_mach_number_and_percentage_loss_in_static_pressure.sce"
		   ]
		  },
  {
"cell_type": "code",
	   "execution_count": null,
	   "metadata": {
	    "collapsed": true
	   },
	   "outputs": [],
"source": [
"clc\n",
"clear\n",
"\n",
"//input data\n",
"t1=3 //Stagnation temperature ratio\n",
"M2=0.8 //Mach number at exit\n",
"\n",
"//calculation\n",
"t2=0.964 //Ratio of stagnation temperature at exit and critical state (Rayleigh,M2,k=1.4) \n",
"p1=1.266 //Static Pressure ratio  at exit from gas tables (Rayleigh,M2,k=1.4)\n",
"t3=t2/t1 //Stagnation temperature ratio at critical state \n",
"M1=0.29 //Mach number at entry from gas tables (Rayleigh,t3,k=1.4)\n",
"p2=2.147 //Static pressure ratio at critical state from gas tables (Rayleigh,k=1.4,M1)\n",
"p=p1/p2 //ratio of static pressures at exit and entry\n",
"PL=(1-p)*100 //Percentage loss in static pressure in %\n",
"\n",
"//output\n",
"printf('(A)Mach number at entry is %3.2f\n (B)Percentage loss in static pressure is %3i percent',M1,PL)"
   ]
   }
,
{
		   "cell_type": "markdown",
		   "metadata": {},
		   "source": [
			"## Example 4.13: To_find_inlet_and_exit_mach_number.sce"
		   ]
		  },
  {
"cell_type": "code",
	   "execution_count": null,
	   "metadata": {
	    "collapsed": true
	   },
	   "outputs": [],
"source": [
"clc\n",
"clear\n",
"\n",
"//input data\n",
"To1=300 //Total stagnation temperature at inlet in K\n",
"To2=310 //Stagnation exit temperation in K\n",
"G=1300 //Mass velocity in kg/m^2-s\n",
"P1=105*10^3 //Static Pressure at entry in Pa\n",
"Cp=1.005 //Specific heat of dry air in kJ/kg-K\n",
"R=287 //Gas constant in J/kg-K\n",
"\n",
"//calculation\n",
"T1=(((-2*P1^2*Cp)+sqrt(((-2*P1^2*Cp)^2)+(8*G^2*R^2*P1^2*Cp*To1)))/(2*G^2*R^2)) //Static temperature in K\n",
"t1=T1/To1 //Temperature ratio at entry\n",
"M1=1.4 //Mach number at entry from gas tables (isentropic,t1,k=1.4)\n",
"t2=0.934 //Stagnation temperature ratio at critical state from gas tables (Rayleigh,k=1.4,M1)\n",
"Tot=To1/t2 //Stagnation critical temperature in K\n",
"t3=To2/Tot //Stagnation temperature ratio at exit from gas tables (Rayleigh,k=1.4,M1)\n",
"M2=1.26 //Mach number at exit from gas tables (Rayleigh,t3,k=1.4)\n",
"\n",
"//output \n",
"printf('(A)The inlet mach number is %3.2f \n (B)The exit mach number is %3.2f',M1,M2)"
   ]
   }
,
{
		   "cell_type": "markdown",
		   "metadata": {},
		   "source": [
			"## Example 4.14: EX4_14.sce"
		   ]
		  },
  {
"cell_type": "code",
	   "execution_count": null,
	   "metadata": {
	    "collapsed": true
	   },
	   "outputs": [],
"source": [
"clc\n",
"clear\n",
"\n",
"//input data\n",
"k=1.3 //Adiabatic constant\n",
"R=466 //Gas constant in J/kg-K\n",
"P1=0.345 //Static Pressure at entry in Pa\n",
"T1=312 //Static Temperature at entry in K\n",
"C1=65.5 //Entry velocity in m/s\n",
"q=4592 //The heat transferred per unit mass flow in kJ/kg\n",
"\n",
"//calculation\n",
"a1=sqrt(k*R*T1) //Sound velocity in m/s\n",
"M1=C1/a1 //Mach number at entry\n",
"t1=0.9965 //Temperature ratio at entry from gas tables (M1,k=1.3,isentropic)\n",
"To1=T1/t1 //Total stagnation temperature at inlet in K\n",
"p1=2.235 //Static Pressure ratio  at critical state from gas tables (Rayleigh,k=1.3,M1)\n",
"Pt=P1/p1 //Static critical pressure in bar \n",
"c1=0.051 //Velocity ratio at critical state from gas tables (Rayleigh,k=1.3,M1)\n",
"Ct=C1/c1 //Critical velocity in m/s\n",
"t2=0.112 //Static temperature ratio at critical state from gas tables (Rayleigh,k=1.3,M1) \n",
"Tt=T1/t2 //Static critical temperature in K\n",
"t3=0.098 //Stagnation temperature ratio at critical state from gas tables (Rayleigh,k=1.3,M1)\n",
"Tot=To1/t3 //Stagnation critical temperature in K\n",
"Cp=(k*R)/(k-1) //Specific heat of dry air in kJ/kg-K\n",
"To2=(q/Cp)+To1 //Stagnation exit temperation in K\n",
"t4=(To2/Tot) //Stagnation Temperature ratio at exit\n",
"M2=0.60 //Mack number at exit from gas tables (Rayleigh,t4)\n",
"p2=1.567 //Static Pressure ratio  at exit from gas tables (Rayleigh,t4,k=1.4)\n",
"P2=p2*Pt //Static Pressure at exit in bar \n",
"t5=0.884 //Static temperature ratio  at exit from gas tables (Rayleigh,t4,k=1.4)\n",
"T2=t5*Tt //Static exit temperature in K\n",
"c2=0.564 //Velocity ratio at critical state from gas tables (Rayleigh,k=1.4,t4)\n",
"C2=Ct*c2 //exit velocity in m/s\n",
"qmax=Cp*(Tot-To1)/10^3 //Maximum possible heat transfer in kJ/kg \n",
"\n",
"//output\n",
"printf('(A)Heat required to accelerate the gas from the inlet condition to sonic condition is %3.2f kJ/kg\n (B)The pressure and temperature at sonic condition are %3.3f bar and %3.2f K respectively\n (C)The properties at exit are:\n    Pressure is %3.3f bar\n    Temperature is %3.2f K\n    Velocity is %3i m/s',qmax,Pt,Tt,P2,T2,C2)"
   ]
   }
,
{
		   "cell_type": "markdown",
		   "metadata": {},
		   "source": [
			"## Example 4.1: To_find_heat_transferred_per_unit_mass_flow_and_temperature_change.sce"
		   ]
		  },
  {
"cell_type": "code",
	   "execution_count": null,
	   "metadata": {
	    "collapsed": true
	   },
	   "outputs": [],
"source": [
"clc\n",
"clear\n",
"\n",
"//input data\n",
"Pa=1*10^5 //Pressure of dry air in Pa\n",
"To1=288 //Total stagnation temperature at inlet in K\n",
"M1=1 //Mach number at inlet of pipe\n",
"M2=0.8 //Mach number at exit o pipe\n",
"Cp=1.005 //Specific heat of dry air in kJ/kg-K   \n",
" \n",
"//calculation\n",
"t1=0.834 //Temperature ratio at entry, i.e.entry static temperature to total temperature from gas tables at isentropic,M1=1 & adiabatic constant=1.4\n",
"T1=t1*To1 //Static temperature at entry in Kelvin\n",
"t2=0.964 //Temperature ratio at critical state, i.e. exit stagnation temperature to critical state temperature from gas tables at Rayleigh, M2=0.8 & adiabatic constant=1.4\n",
"To2=t2*To1 //Total stagnation temperature at exit in K\n",
"t3=1.025 //Temperature ratio at exit, i.e. exit static temperature to total temperature from gas tables at isentropic,M1=1 & adiabatic constant=1.4\n",
"T2=t3*T1 //Static temperature at exit in Kelvin\n",
"q=Cp*(To1-To2) //The heat transferred per unit mass flow in kJ/kg\n",
"dT=To1-T2 //Change in temperature in K\n",
"\n",
"//output\n",
"printf('(A)The heat transferred per unit mass flow is %3.3f kJ/kg (rejected)\n (B)Change in temperature is %3.3f K',q,dT)"
   ]
   }
,
{
		   "cell_type": "markdown",
		   "metadata": {},
		   "source": [
			"## Example 4.2: To_calculate_flow_properties_at_the_exit.sce"
		   ]
		  },
  {
"cell_type": "code",
	   "execution_count": null,
	   "metadata": {
	    "collapsed": true
	   },
	   "outputs": [],
"source": [
"clc\n",
"clear\n",
"\n",
"//input data\n",
"M1=3 //Mach number at entry\n",
"P1=1 //Static Pressure at entry in atm\n",
"T1=300 //Static Temperature at entry in K\n",
"q=300 //The heat transferred per unit mass flow in kJ/kg\n",
"R=287 //Gas constant in J/kg-K\n",
"Cp=1.005 //Specific heat of dry air in kJ/kg-K\n",
"\n",
"//calculation\n",
"t1=2.8 //Temperature ratio at entry from gas tables (M=3,k=1.4,isentropic)\n",
"To1=t1*T1 //Total stagnation temperature at inlet in K\n",
"p1=0.0272 //Pressure ratio  at entry from gas tables (M=3,k=1.4,isentropic)\n",
"Po1=P1/p1 //Stagnation Pressure at entry in atm\n",
"p2=0.176 //Static Pressure ratio  at critical state from gas tables (Rayleigh,k=1.4,M=3)\n",
"Pt=P1/p2 //Static critical pressure in atm \n",
"p3=3.424 //Stagnation Pressure ratio at critical state from gas tables (Rayleigh,k=1.4,M=3)\n",
"Pot=Po1/p3 //Stagnation critical pressure in atm\n",
"t2=0.281 //Static temperature ratio at critical state from gas tables (Rayleigh,k=1.4,M=3) \n",
"Tt=T1/t2 //Static critical temperature in K\n",
"t3=0.654 //Stagnation temperature ratio at critical state from gas tables (Rayleigh,k=1.4,M=3)\n",
"Tot=To1/t3 //Stagnation critical temperature in K\n",
"To2=(q/Cp)+To1 //Stagnation exit temperation in K\n",
"t4=(To2/Tot) //Stagnation Temperature ratio at exit\n",
"M2=1.6 //Mack number at exit from gas tables (Rayleigh,t4)\n",
"p4=0.524 //Static Pressure ratio  at exit from gas tables (Rayleigh,t4=0.866,M=1.6)\n",
"P2=p4*Pt //Static Pressure at exit in atm\n",
"p5=1.176 //Stagnation Pressure ratio at exit from gas tables (Rayleigh,t4=0.866,M=1.6)\n",
"Po2=p5*Pot //Stagnation Pressure at exit in atm\n",
"t5=0.702 //Static temperature ratio at exit from gas tables (Rayleigh,t4=0.866,M=1.6)\n",
"T2=t5*Tt //Static exit temperature in K\n",
"d2=P2*101325/(R*T2) //density of air at exit in kg/m^3, P2 in N/m^2\n",
"\n",
"//outpur\n",
"printf('(A)The Mach numer at exit is %3.1f\n (B)Static Pressure at exit is %3.3f atm\n (C)Static exit temperature is %3.2f K\n (D)density of air at exit is %3.4f kg/m^3\n (E)Stagnation exit temperation is %3.2f K\n (F)Stagnation Pressure at exit is %3.2f atm',M2,P2,T2,d2,To2,Po2)"
   ]
   }
,
{
		   "cell_type": "markdown",
		   "metadata": {},
		   "source": [
			"## Example 4.3: EX4_3.sce"
		   ]
		  },
  {
"cell_type": "code",
	   "execution_count": null,
	   "metadata": {
	    "collapsed": true
	   },
	   "outputs": [],
"source": [
"clc\n",
"clear\n",
"\n",
"//input data\n",
"M1=2 //Mach number at entry\n",
"P1=1.4 //Static Pressure at entry in bar\n",
"T1=323 //Static Temperature at entry in K\n",
"Cp=1.005 //Specific heat of dry air in kJ/kg-K\n",
"k=1.4 //Adiabatic constant\n",
"R=287 //Gas constant in J/kg-K\n",
"\n",
"//calculation\n",
"t1=0.555 //Temperature ratio at entry from gas tables (M=2,k=1.4,isentropic)\n",
"To1=T1/t1 //Total stagnation temperature at inlet in K\n",
"p1=0.364 //Pressure ratio  at entry from gas tables (M=2,k=1.4,isentropic)\n",
"Po1=P1/p1 //Stagnation Pressure at entry in bar\n",
"t2=0.529 //Static temperature ratio at critical state from gas tables (Rayleigh,k=1.4,M=2) \n",
"Tt=T1/t2 //Static critical temperature in K\n",
"t3=0.793 //Stagnation temperature ratio at critical state from gas tables (Rayleigh,k=1.4,M=2)\n",
"Tot=To1/t3 //Stagnation critical temperature in K\n",
"To2=Tot //Stagnation exit temperation in K\n",
"q=Cp*(To2-To1) //The heat transferred per unit mass flow in kJ/kg\n",
"a1=sqrt(k*R*T1) //Sound velocity in m/s\n",
"C1=M1*a1 //Air velocity in m/s\n",
"d1=(P1*10^5)/(R*T1) //density of air in kg/m^3\n",
"ma=d1*C1 //Mass flow rate per unit area in kg/s-m^3\n",
"\n",
"//output\n",
"printf('(A)Mass flow rate per unit area is %3.2f kg/s-m^2\n (B)Final temperarure is %3.3f K\n (C)Heat added is %3.2f kJ/kg',ma,Tt,q)"
   ]
   }
,
{
		   "cell_type": "markdown",
		   "metadata": {},
		   "source": [
			"## Example 4.4: To_calculate_pressure_and_Mach_number_after_combustion_in_combustion_chamber.sce"
		   ]
		  },
  {
"cell_type": "code",
	   "execution_count": null,
	   "metadata": {
	    "collapsed": true
	   },
	   "outputs": [],
"source": [
"clc\n",
"clear\n",
"\n",
"//input data\n",
"C1=100 //Air velocity into combustion chamber in m/s\n",
"P1=3 //Static Pressure at entry in bar\n",
"T1=318 //Static Temperature at entry in K\n",
"q=630 //The heat transferred per unit mass flow in kJ/kg\n",
"Cp=1.005 //Specific heat of dry air in kJ/kg-K\n",
"k=1.4 //Adiabatic constant\n",
"R=287 //Gas constant in J/kg-K\n",
"\n",
"//calculation\n",
"a1=sqrt(k*R*T1) //Sound velocity in m/s\n",
"M1=C1/a1 //Mach number at entry\n",
"t1=0.985 //Temperature ratio at entry from gas tables (M1,k=1.4,isentropic)\n",
"To1=T1/t1 //Total stagnation temperature at inlet in K\n",
"p1=0.947 //Pressure ratio  at entry from gas tables (M1,k=1.4,isentropic)\n",
"Po1=P1/p1 //Stagnation Pressure at entry in bar\n",
"To2=(q/Cp)+To1 //Stagnation exit temperation in K\n",
"p2=2.163 //Static Pressure ratio  at critical state from gas tables (Rayleigh,k=1.4,M=0.28)\n",
"Pt=P1/p2 //Static critical pressure in bar \n",
"p3=2.206 //Stagnation Pressure ratio at critical state from gas tables (Rayleigh,k=1.4,M=0.28)\n",
"Pot=Po1/p3 //Stagnation critical pressure in bar\n",
"t2=0.310 //Stagnation temperature ratio at critical state from gas tables (Rayleigh,k=1.4,M=0.28)\n",
"Tot=To1/t2 //Stagnation critical temperature in K\n",
"t3=(To2/Tot) //Stagnation Temperature ratio at exit\n",
"M2=0.7 //Mack number at exit from gas tables (Rayleigh,t3)\n",
"p4=1.423 //Static Pressure ratio  at exit from gas tables (Rayleigh,t3,M2)\n",
"P2=p4*Pt //Static Pressure at exit in bar\n",
"\n",
"//output \n",
"printf('(A)Pressure after combustion is %3.3f bar\n (B)Mach number after combustion is %3.1f',P2,M2)"
   ]
   }
,
{
		   "cell_type": "markdown",
		   "metadata": {},
		   "source": [
			"## Example 4.5: EX4_5.sce"
		   ]
		  },
  {
"cell_type": "code",
	   "execution_count": null,
	   "metadata": {
	    "collapsed": true
	   },
	   "outputs": [],
"source": [
"clc \n",
"clear\n",
"\n",
"//input data\n",
"M1=3 //Mach number at entry\n",
"To1=295 //Total stagnation temperature at inlet in K\n",
"P1=0.5 //Static Pressure at entry in bar\n",
"M2=1.5 //Mack number at exit\n",
"Cp=1.005 //Specific heat of dry air in kJ/kg-K\n",
"R=287 //Gas constant in J/kg-K\n",
"\n",
"//calculation\n",
"p1=0.0272 //Pressure ratio  at entry from gas tables (M=3,k=1.4,isentropic)\n",
"Po1=P1/p1 //Stagnation Pressure at entry in bar\n",
"t1=0.357 //Temperature ratio at entry from gas tables (M=3,k=1.4,isentropic)\n",
"T1=t1*To1 //Static temperature at entry in Kelvin\n",
"p2=0.176 //Static Pressure ratio  at critical state from gas tables (Rayleigh,k=1.4,M=3)\n",
"Pt=P1/p2 //Static critical pressure in bar \n",
"p3=3.424 //Stagnation Pressure ratio at critical state from gas tables (Rayleigh,k=1.4,M=3)\n",
"Pot=Po1/p3 //Stagnation critical pressure in bar\n",
"t2=0.654 //Stagnation temperature ratio at critical state from gas tables (Rayleigh,k=1.4,M=3)\n",
"Tot=To1/t2 //Stagnation critical temperature in K\n",
"t3=0.280 //Static temperature ratio at critical state from gas tables (Rayleigh,k=1.4,M=3)\n",
"Tt=T1/t3 //Static critical temperature in K\n",
"p4=0.578 ////Static Pressure ratio  at exit from gas tables (Rayleigh,M=1.5)\n",
"P2=p4*Pt //Static Pressure at exit in bar\n",
"p5=1.122 //Stagnation Pressure ratio at exit from gas tables (Rayleigh,M=1.5)\n",
"Po2=p5*Pot //Stagnation Pressure at exit in bar\n",
"t4=0.753 ////Static temperature ratio at exit from gas tables (Rayleigh,M=1.5)\n",
"T2=t4*Tt //Static exit temperature in K\n",
"t5=0.909 //Stagnation temperature ratio at exit from gas tables (Rayleigh,M=1.5)\n",
"To2=t5*Tot //Total stagnation temperature at exit in K\n",
"q=Cp*(To1-To2) //The heat transferred per unit mass flow in kJ/kg\n",
"SPC=Po1-Po2 //Change in stagnation pressure in bar\n",
"n=log(Po1/Po2)/(log(Po1/Po2)-log(To1/To2)) //Exponent of polytropic equation\n",
"qmax=Cp*(Tot-To1) //Maximum possible heat transfer in kJ/kg\n",
"ds=Cp*log(T2/T1)-(R*log(P2/P1)) //Change in entropy in kJ/kg-K\n",
"\n",
"//output\n",
"printf('(A)Total temperature at exit is %3.2f K\n (B)Static pressure at exit is %3.3f bar \n (C)Change in stagnation pressure is %3.2f bar\n (D)Exponent of polytropic equation is %3.2f',To2,P2,SPC,n)"
   ]
   }
,
{
		   "cell_type": "markdown",
		   "metadata": {},
		   "source": [
			"## Example 4.6: EX4_6.sce"
		   ]
		  },
  {
"cell_type": "code",
	   "execution_count": null,
	   "metadata": {
	    "collapsed": true
	   },
	   "outputs": [],
"source": [
"clc\n",
"clear\n",
"\n",
"//input data\n",
"M2=0.9 //Mack number at exit\n",
"P2=2.5 //Static Pressure at exit in bar\n",
"T2=1273 //Static exit temperature in K\n",
"t1=3.74 //ratio of stagnation temperatures at and exit entry\n",
"Cp=1.218 //Specific heat of dry air in kJ/kg-K\n",
"k=1.3 //Adiabatic constant\n",
"\n",
"//calculation\n",
"t2=0.892 //Temperauture ratio at exit from gas tables (isentropic,k=1.3,M=0.9)\n",
"To2=T2/t2 //Total stagnation temperature at exit in K\n",
"To1=To2/t1 //Total stagnation temperature at inlet in K\n",
"p1=1.12 //Static pressure ratio at critical state from gas tables (Rayleigh,k=1.3,M=1.5)\n",
"Pt=P2/p1 //Static critical pressure in bar\n",
"t3=1.017 //Static temperature ratio at critical state from gas tables (Rayleigh,k=1.3,M=1.5)\n",
"Tt=T2/t3 //Static critical temperature in K\n",
"t4=0.991 //Stagnation temperature ratio at critical state from gas tables (Rayleigh,k=1.3,M=1.5)\n",
"Tot=To2/t4 //Stagnation critical temperature in K\n",
"t5=To1/Tot //Ratio of stagnation temperature at entry and critical state  \n",
"M1=0.26 //Mach number at entry from gas tables (Rayleigh,t5,k=1.3)\n",
"p2=2.114 //Static Pressure ratio  at entry from gas tables (Rayleigh,t5,k=1.3)\n",
"P1=Pt*p2 //Static Pressure at entry in bar\n",
"t6=0.302 //Static temperature ratio  at entry from gas tables (Rayleigh,t5,k=1.3)\n",
"T1=Tt*t6 //Static temperature at entry in Kelvin\n",
"q=Cp*(To2-To1) //The heat transferred per unit mass flow in kJ/kg\n",
"qmax=Cp*(Tot-To1) //Maximum possible heat transfer in kJ/kg \n",
"\n",
"//output\n",
"printf('(A)Mach number at entry is %3.2f\n (B)Pressure at entry is %3.3f bar \n (C)Temperature of gas is %3i K\n (D)Amount of heat added is %3.2f kJ/kg\n (E)Maximum heat that can be heated is %3.3f kJ/kg',M1,P1,T1,q,qmax)"
   ]
   }
,
{
		   "cell_type": "markdown",
		   "metadata": {},
		   "source": [
			"## Example 4.7: To_determine_Mach_number_pressure_temperature_and_velocity_of_gas_at_exit.sce"
		   ]
		  },
  {
"cell_type": "code",
	   "execution_count": null,
	   "metadata": {
	    "collapsed": true
	   },
	   "outputs": [],
"source": [
"clc\n",
"clear\n",
"\n",
"//input\n",
"P1=0.343 //Static Pressure at entry in bar\n",
"T1=310 //Static temperature at entry in Kelvin\n",
"C1=60 //Velocity at entrance in m/s\n",
"q=1172.5 //The heat transferred per unit mass flow in kJ/kg\n",
"Cp=1.005 //Specific heat of dry air in kJ/kg-K\n",
"k=1.4 //Adiabatic constant\n",
"R=287 //Gas constant in J/kg-K\n",
"\n",
"//calculation\n",
"a1=sqrt(k*R*T1) //Sound velocity in m/s\n",
"M1=C1/a1 //Mach number at entry\n",
"t1=0.9943 //Temperature ratio at entry from gas tables (M=0.17,k=1.4,isentropic)\n",
"To1=T1/t1 //Total stagnation temperature at inlet in K\n",
"p1=2.306 //Static Pressure ratio at critical state from gas tables (Rayleigh,k=1.4,M=0.17)\n",
"Pt=P1/p1 //Static critical pressure in bar\n",
"t2=0.154 //Static temperature ratio at critical state from gas tables (Rayleigh,k=1.4,M=0.17) \n",
"Tt=T1/t2 //Static critical temperature in K\n",
"t3=0.129 //Stagnation temperature ratio at critical state from gas tables (Rayleigh,k=1.4,M=0.17)\n",
"Tot=To1/t3 //Stagnation critical temperature in K\n",
"c1=0.0665 //Velocity ratio at critical state from gas tables (Rayleigh,k=1.4,M=0.17)\n",
"Ct=C1/c1 //Critical velocity in m/s\n",
"To2=(q/Cp)+To1 //Stagnation exit temperation in K\n",
"t4=To2/Tot //Ratio of stagnation temperature at exit and critical state \n",
"M2=0.45 //Mach number at exit from gas tables (Rayleigh,t4,k=1.4)\n",
"p2=1.87 //Static Pressure ratio  at exit from gas tables (Rayleigh,t4,k=1.4)\n",
"P2=p2*Pt //Static Pressure at exit in bar \n",
"t5=0.7075 //Static temperature ratio  at exit from gas tables (Rayleigh,t4,k=1.4)\n",
"T2=t5*Tt //Static exit temperature in K\n",
"c2=0.378 //Velocity ratio at critical state from gas tables (Rayleigh,k=1.4,t4)\n",
"C2=Ct*c2 //exit velocity in m/s\n",
"\n",
"//output\n",
"printf('At exit conditions :\n (A)Mach number is %3.2f\n (B)Pressure is %3.3f bar\n (C)Temperature is %3.2f K\n (D)Exit velocity is %3.2f m/s',M2,P2,T2,C2)"
   ]
   }
,
{
		   "cell_type": "markdown",
		   "metadata": {},
		   "source": [
			"## Example 4.8: To_find_Mach_number_pressure_and_temperature_after_cooling.sce"
		   ]
		  },
  {
"cell_type": "code",
	   "execution_count": null,
	   "metadata": {
	    "collapsed": true
	   },
	   "outputs": [],
"source": [
"clc\n",
"clear\n",
"\n",
"//input data\n",
"M1=2 //Mach number at entry\n",
"To1=523 //Total stagnation temperature at inlet in K\n",
"Po1=6 //Stagnation Pressure at entry in bar\n",
"To2=423 //Stagnation exit temperation in K\n",
"\n",
"//calculation\n",
"t1=0.555 //Temperature ratio at entry from gas tables (M=2,k=1.4,isentropic)\n",
"T1=t1*To1 //Static temperature at entry in Kelvin\n",
"p1=0.128 //Pressure ratio  at entry from gas tables (M=2,k=1.4,isentropic)\n",
"P1=Po1*p1 //Static Pressure at entry in bar\n",
"p2=0.364 //Static pressure ratio at critical state from gas tables (Rayleigh,k=1.4,M=2)\n",
"p3=1.503 ////Stagnation pressure ratio at critical state from gas tables (Rayleigh,k=1.4,M=2), printing mistake in textbook\n",
"t2=0.529 //Static Temperature ratio at critical state from gas tables (Rayleigh,k=1.4,M=2)\n",
"t3=0.793 //Stagnation temperature ratio at critical state from gas tables (Rayleigh,k=1.4,M=2)\n",
"t4=(To2/To1)*t3 //Ratio of stagnation temperature at exit and critical state \n",
"M2=3.15 //Mach number at exit from gas tables (Rayleigh,t4,k=1.4)\n",
"p4=0.161 //Static Pressure ratio  at exit from gas tables (Rayleigh,t4,k=1.4), printing mistake in textbook\n",
"t5=0.258 //Static temperature ratio  at exit from gas tables (Rayleigh,t4,k=1.4)\n",
"P2=(p4/p2)*P1 //Static Pressure at exit in bar \n",
"T2=(t5/t2)*T1 //Static exit temperature in K\n",
"\n",
"//output\n",
"printf('After Cooling :\n (A)Mach number is %3.2f\n (B)Pressure is %3.4f bar\n (C)Temperature is %3.2f K',M2,P2,T2)"
   ]
   }
,
{
		   "cell_type": "markdown",
		   "metadata": {},
		   "source": [
			"## Example 4.9: EX4_9.sce"
		   ]
		  },
  {
"cell_type": "code",
	   "execution_count": null,
	   "metadata": {
	    "collapsed": true
	   },
	   "outputs": [],
"source": [
"clc\n",
"clear\n",
"\n",
"//input data\n",
"M2=0.8 //Mack number at exit\n",
"t1=4 //Ratio of stagnation temperature at exit and entry\n",
"T1=288 //Atmospheric temperature in K\n",
"P1=1 //Atmospheric Pressure in atm\n",
"Cp=1.005 //Specific heat of dry air in kJ/kg-K\n",
"\n",
"//calculation\n",
"t2=0.964 //Ratio of stagnation temperature at exit and critical state from gas tables\n",
"t3=t2/t1 //Ratio of stagnation temperature at entry and critical state\n",
"M1=0.24 ////Mach number at entry from gas tables (Rayleigh,t3,k=1.4)\n",
"t5=0.988 //Temperature ratio at entry from gas tables (M1,k=1.4,isentropic)\n",
"To1=T1/t5 //Total stagnation temperature at inlet in K\n",
"To2=t1*To1 //Stagnation exit temperation in K\n",
"Tot=To1/t3 //Stagnation critical temperature in K\n",
"q=Cp*(To2-To1) //The heat transferred per unit mass flow in kJ/kg\n",
"qmax=Cp*(Tot-To1) //Maximum possible heat transfer in kJ/kg \n",
"t6=0.9775 //Ratio of stagnation temperature for maximum static temperature (M=1/sqrt(k),Rayleigh)\n",
"To3=Tot*t6 //maximum stagnation temperature in K\n",
"q_req=Cp*(To3-To1) //Heat transfer required to get maximum static temperature in kJ/kg\n",
"\n",
"//output\n",
"printf('(A)Heat added per kg of air flow is %3.2f kJ/kg\n (B)Maximum possible heat transfer is %3.2f kJ/kg\n (C)Heat transfer required to get maximum static temperature is %3.1f kJ/kg',q,qmax,q_req)"
   ]
   }
],
"metadata": {
		  "kernelspec": {
		   "display_name": "Scilab",
		   "language": "scilab",
		   "name": "scilab"
		  },
		  "language_info": {
		   "file_extension": ".sce",
		   "help_links": [
			{
			 "text": "MetaKernel Magics",
			 "url": "https://github.com/calysto/metakernel/blob/master/metakernel/magics/README.md"
			}
		   ],
		   "mimetype": "text/x-octave",
		   "name": "scilab",
		   "version": "0.7.1"
		  }
		 },
		 "nbformat": 4,
		 "nbformat_minor": 0
}
