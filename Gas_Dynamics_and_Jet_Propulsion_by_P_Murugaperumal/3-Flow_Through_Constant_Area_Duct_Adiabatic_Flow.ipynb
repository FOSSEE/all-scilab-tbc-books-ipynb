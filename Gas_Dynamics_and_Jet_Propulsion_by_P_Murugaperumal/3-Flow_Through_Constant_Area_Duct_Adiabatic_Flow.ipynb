{
"cells": [
 {
		   "cell_type": "markdown",
	   "metadata": {},
	   "source": [
       "# Chapter 3: Flow Through Constant Area Duct Adiabatic Flow"
	   ]
	},
{
		   "cell_type": "markdown",
		   "metadata": {},
		   "source": [
			"## Example 3.10: EX3_10.sce"
		   ]
		  },
  {
"cell_type": "code",
	   "execution_count": null,
	   "metadata": {
	    "collapsed": true
	   },
	   "outputs": [],
"source": [
"clc\n",
"clear\n",
"\n",
"//input data\n",
"M1=0.25 //Mach number at entrance\n",
"f=0.01/4 //frictional factor\n",
"D=0.15 //inner pipe diameter in m\n",
"p1=0.8 //Stagnation pressure ratio at exit to entry when loss in stagnation pressure is 20%\n",
"M3=0.8 //Mach number at a section\n",
"\n",
"//calculation\n",
"p2=2.4065 //Ratio of Stagnation pressure at entry from gas tables @M1,k=1.4\n",
"X1=8.537 //frictional constant fanno parameter from gas tables,fanno flow tables @M1\n",
"p3=p1*p2 //Ratio of Stagnation pressure at exit\n",
"M2=0.32 //Exit mach number at p1=0.8\n",
"X2=4.447 //frictional constant fanno parameter from gas tables,fanno flow tables @M2\n",
"L1=(X1*D)/(4*f) //Length of the pipe in m\n",
"L2=(X2*D)/(4*f) //Length of the pipe in m\n",
"L=L1-L2 //Overall length of the duct in m\n",
"p4=1.038 //Stagnation pressure ratio from M=1 to M3\n",
"PL=(1-(p4/p2))*100 //Percentage of stagnation pressure from inlet to section at which M3 in percent\n",
"\n",
"//output\n",
"printf('(A)Length of the pipe is %3.2f m\n (B)Mach number at this exit is %3.2f\n (C)Percentage of stagnation pressure from inlet to section at which M=%3.1f is %3.2f percent\n (D)Maximum length to reach choking condition is %3.3f m',L,M2,M3,PL,L1)"
   ]
   }
,
{
		   "cell_type": "markdown",
		   "metadata": {},
		   "source": [
			"## Example 3.11: To_find_length_of_the_pipe_and_mass_flow_rate.sce"
		   ]
		  },
  {
"cell_type": "code",
	   "execution_count": null,
	   "metadata": {
	    "collapsed": true
	   },
	   "outputs": [],
"source": [
"clc\n",
"clear\n",
"\n",
"//input data\n",
"D=0.3 //inner duct diameter in m\n",
"P1=10 //Static pressure at entrance in bar\n",
"T1=400 //Static temperature at entry in Kelvin\n",
"M1=3 //Mach number at entrance\n",
"M2=1 //Mach number at exit\n",
"k=1.3 //Adiabatic constant\n",
"R=287 //Specific Gas constant in J/kg-K, wrong printing in question\n",
"f=0.002 //frictional factor\n",
"\n",
"//calculation\n",
"p1=0.233 //Pressure ratio from gas tables (M=3,k=1.4,isentropic)\n",
"Pt=P1/p1 //Static pressure at entrance in bar\n",
"t1=0.489 //Temperature ratio from gas tables (M=3,k=1.4,isentropic)\n",
"Tt=T1/t1 //Static temperature at entrance in K\n",
"X1=0.628 //frictional constant fanno parameter from gas tables,fanno flow tables @M1,k=1.3\n",
"L1=(X1*D)/(4*f) //Length of the pipe in m\n",
"d_t=(Pt*10^5)/(R*Tt) //Density at critical state in kg/m^3, Pt in Pa\n",
"at=sqrt(k*R*Tt) //Sound velocity in m/s, R in J/kg \n",
"Ct=at //air velocity in m/s\n",
"At=(%pi*D^2)/4 //Critical area in m^2\n",
"m=d_t*At*Ct //Mass flow rate in kg/s\n",
"\n",
"//output\n",
"printf('(A)Length of the pipe is %3.2f m\n (B)Mass flow rate is %3.3f kg/s',L1,m)"
   ]
   }
,
{
		   "cell_type": "markdown",
		   "metadata": {},
		   "source": [
			"## Example 3.12: To_find_length_and_Mach_number_of_given_pipe_and_at_required_section.sce"
		   ]
		  },
  {
"cell_type": "code",
	   "execution_count": null,
	   "metadata": {
	    "collapsed": true
	   },
	   "outputs": [],
"source": [
"clc\n",
"clear\n",
"\n",
"//input data\n",
"M1=0.25 //Mach number at entrance\n",
"f=0.04/4 //frictional factor\n",
"D=0.15 //inner duct diameter in m\n",
"p1=0.9 //Stagnation pressure ratio at exit to entry when loss in stagnation pressure is 10%\n",
"ds=190 ///Change in entropy in J/kg-K\n",
"k=1.3 //Adiabatic constant\n",
"R=287 //Specific Gas constant in J/kg-K, wrong printing in question\n",
"\n",
"//calculation\n",
"p2=2.4064 //Ratio of stagnation pressures at inlet to critical state from gas tables fanno flow tables @M1,k=1.3\n",
"X1=8.537 //frictional constant fanno parameter from gas tables,fanno flow tables @M1,k=1.3\n",
"p3=p1*p2 //Ratio of stagnation pressures at exit to critical state from gas tables fanno flow tables @M1,k=1.3\n",
"M2=0.28 //Mach number at p1=0.9 from gas tables @p3\n",
"X2=6.357 //frictional constant fanno parameter from gas tables,fanno flow tables @M2,k=1.3\n",
"X3=X1-X2 //overall frictional constant fanno parameter\n",
"L1=(X3*D)/(4*f) //Length of the pipe in m\n",
"p4=exp(ds/R) //Ratio of Stagnation pressure at entry to Stagnation pressure where ds=190 \n",
"p5=p1/p4 //Ratio of Stagnation pressures where ds=190 to critical state\n",
"M3=0.56 //Mach number where ds=190\n",
"X4=0.674 //frictional constant fanno parameter from gas tables,fanno flow tables @M3,k=1.3\n",
"X5=X1-X4 //overall frictional constant fanno parameter\n",
"L2=(X5*D)/(4*f) //Length of the pipe in m\n",
"\n",
"//output\n",
"printf('(A)Length of the pipe is %3.3f m\n (B)Length of the pipe would require to rise entropy by %3i J/kg-K is %3.5f m\n (C)Mach number is %3.2f',L1,ds,L2,M3)"
   ]
   }
,
{
		   "cell_type": "markdown",
		   "metadata": {},
		   "source": [
			"## Example 3.13: EX3_13.sce"
		   ]
		  },
  {
"cell_type": "code",
	   "execution_count": null,
	   "metadata": {
	    "collapsed": true
	   },
	   "outputs": [],
"source": [
"clc\n",
"clear\n",
"\n",
"//input data\n",
"Po1=200 //Stagantion pressure at inlet in kPa\n",
"To1=303 //Stagnation temperature at inlet in K\n",
"M1=0.2 //Inlet Mach number from diagram\n",
"D=0.025 //inner tude diameter in m(missing data)\n",
"M2=0.8 //Outlet Mach number \n",
"f=0.005/4 //frictional factor\n",
"R=287 //Gas constant in J/kg-K\n",
"\n",
"//calculation\n",
"t1=0.992 //Static to Stagnation temperature ratio at entry from gas tables (M1,k=1.4,isentropic)\n",
"T1=To1*t1 //Static temperature in K\n",
"p1=0.973 //Static to Stagnation pressure ratio at entry from gas tables (M1,k=1.4,isentropic)\n",
"P1=Po1*p1 //Static pressure in kPa\n",
"p2=2.964 //Stagnation pressure ratio at inlet to critical state from gas tables (M1,k=1.4,fanno flow)\n",
"Pot=Po1/p2 //Stagnation pressure at critical state in kPa\n",
"X1=14.533 //frictional constant fanno parameter from gas tables,fanno flow tables @M1,k=1.4\n",
"p3=1.038 //Stagnation pressure ratio at outlet to critical state from gas tables (M1,k=1.4,fanno flow)\n",
"Po2=Pot*p3 //Stagnation pressure at exit in kPa\n",
"X2=0.073 //frictional constant fanno parameter from gas tables,fanno flow tables @M2,k=1.4\n",
"X3=X1-X2 //overall frictional constant fanno parameter\n",
"L1=(X3*D)/(4*f) //Length of the pipe in m\n",
"SPL=(1-(p3/p2))*100 //Percentage decrease in stagnation pressure in percent\n",
"ds=R*log(Po1/Po2) //Change of entropy in kJ/kg-K\n",
"\n",
"//output\n",
"printf('(A)Length of the pipe is %3.1f m\n (B)Percentage decrease in stagnation pressure is %3.2f percent\n (C)Change of entropy is %3.3f kJ/kg-K',L1,SPL,ds)"
   ]
   }
,
{
		   "cell_type": "markdown",
		   "metadata": {},
		   "source": [
			"## Example 3.14: To_find_maximum_length_of_pipe_and_conditions_of_air_at_exit.sce"
		   ]
		  },
  {
"cell_type": "code",
	   "execution_count": null,
	   "metadata": {
	    "collapsed": true
	   },
	   "outputs": [],
"source": [
"clc\n",
"clear\n",
"\n",
"//input data\n",
"D1=0.03 //Inlet duct diameter in m\n",
"D2=0.015 //Throat diameter of  duct in m \n",
"Po1=750 //Stagantion pressure at inlet in kPa\n",
"To1=450 //Stagnation temperature at inlet in K\n",
"f=0.02/4 //frictional factor\n",
"L=0.25 //Length of the duct in m\n",
"k=1.4 //Adiabatic constant\n",
"R=287 //Gas constant in J/kg-K\n",
"\n",
"//calculation\n",
"ar=(D1/D2)^2 //Ratio of areas\n",
"M1=2.94 //Mach number at inlet from gas tables (ar,k=1.4,isentropic)\n",
"p1=0.0298 //Static to Stagnation pressure ratio at entry from gas tables (M1,k=1.4,isentropic)\n",
"P1=Po1*p1 //Static pressure at inlet in kPa\n",
"t1=0.367 //Static to Stagnation temperature ratio at entry from gas tables (M1,k=1.4,isentropic)\n",
"T1=To1*t1 //Static temperature at inlet in K\n",
"a1=sqrt(k*R*T1) //Sound velocity in m/s\n",
"C1=a1*M1 //Air velocity at inlet in m/s\n",
"X1=0.513 //frictional constant fanno parameter from gas tables,fanno flow tables @M1,k=1.4\n",
"p2=0.226 //Static to Critical pressure ratio at inlet from gas tables,fanno flow tables @M1,k=1.4\n",
"Pt=P1/p2 //Critical pressure in kPa\n",
"c1=1.949 //Static to Critical velocity ratio at inlet from gas tables,fanno flow tables @M1,k=1.4\n",
"Ct=C1/c1 //Critical velocity in m/s\n",
"t2=0.439 //Static to Critical temperature ratio at inlet from gas tables,fanno flow tables @M1,k=1.4\n",
"Tt=T1/t2 //Critical temperature in K\n",
"L1=(X1*D1)/(4*f) //Length of the pipe from inlet to critical state in m\n",
"L2=L1-L //Length of the pipe from required point to critical state in m\n",
"X2=(4*f*L2)/D2 //frictional constant fanno parameter\n",
"M2=2.14 //Mach number at inlet from gas tables (X2,k=1.4,fanno flow)\n",
"p3=0.369 //Static to Critical pressure ratio at outlet from gas tables,fanno flow tables @M2,k=1.4\n",
"P2=Pt*p3 //Exit pressure in kPa\n",
"c2=1.694 //Static to Critical velocity ratio at outlet from gas tables,fanno flow tables @M2,k=1.4\n",
"C2=Ct*c2 //Exit velocity in m/s\n",
"t3=0.623 //Static to Critical temperature ratio at outlet from gas tables,fanno flow tables @M2,k=1.4\n",
"T2=t3*Tt //Exit temperature in K\n",
"\n",
"//output\n",
"printf('(A)Maximum length of the pipe is %3.4f m\n (B)Condition of air at exit:\n    Pressure is %3.2f kPa\n    Velocity is %3.2f m/s\n    Temperature is %3.2f K\n',L1,P2,C2,T2)"
   ]
   }
,
{
		   "cell_type": "markdown",
		   "metadata": {},
		   "source": [
			"## Example 3.15: EX3_15.sce"
		   ]
		  },
  {
"cell_type": "code",
	   "execution_count": null,
	   "metadata": {
	    "collapsed": true
	   },
	   "outputs": [],
"source": [
"clc\n",
"clear\n",
"\n",
"//input data\n",
"f=0.002 //frictional factor\n",
"C1=130 //Air velocity at inlet in m/s\n",
"T1=400 //Inlet temperature at inlet in K\n",
"P1=250 //Inlet pressure at inlet in kPa\n",
"D=0.16 //Inlet duct diameter in m\n",
"p1=0.8 //Stagnation pressure ratio at exit to entry when loss in stagnation pressure is 20%\n",
"L1=35 //Length of duct from inlet to required section\n",
"k=1.4 //Adiabatic constant\n",
"R=287 //Gas constant in J/kg-K\n",
"\n",
"//calculation\n",
"a1=sqrt(k*R*T1) //Sound velocity in m/s\n",
"M1=C1/a1 //Mach number at inlet\n",
"p2=0.9295 //Static to Stagnation pressure ratio at entry from gas tables (M1,k=1.4,isentropic)\n",
"Po1=P1/p2 //Stagantion pressure at inlet in kPa\n",
"Po2=0.8*Po1 //Stagantion pressure at outlet in kPa\n",
"p3=1.89725 //Stagnation pressure ratio at inlet to critical state from gas tables (M1,k=1.4,fanno flow)\n",
"Pot=Po1/p3 //Stagnation pressure at critical state in kPa\n",
"X1=4.273 //frictional constant fanno parameter from gas tables,fanno flow tables @M1,k=1.4\n",
"p4=3.33725 //Static Pressure ratio from gas tables (fanno flow tables,k=1.4,M=0.5)\n",
"Pt=P1/p4 //Static critical pressure in kPa\n",
"t1=1.175 //Static temperature ratio from gas tables (fanno flow tables,k=1.4,M=0.5) \n",
"Tt=T1/t1 //Static critical temperature in K\n",
"c1=0.347 //Velocity ratio from gas tables (fanno flow tables,k=1.4,M=0.5)\n",
"Ct=C1/c1 //Critical velocity in m/s\n",
"p5=Po2/Pot //Pressure ratio\n",
"M2=0.43 //Mach number at p1=0.8\n",
"X2=1.833 //frictional constant fanno parameter from gas tables,fanno flow tables @M2,k=1.4\n",
"X3=X1-X2 //overall frictional constant fanno parameter\n",
"L2=(X3*D)/(4*f) //Length of the pipe in m, (from required section to critical state) \n",
"L3=(X1*D)/(4*f) //Length of the pipe in m, (from required inlet to critical state) \n",
"L4=L3-L1 //Length of the pipe in m\n",
"X4=(4*f*L3)/D //frictional constant fanno parameter\n",
"M3=0.39 //Mach number at L1=35m\n",
"p6=2.767 //Static to Critical pressure ratio at outlet from gas tables,fanno flow tables @M3,k=1.4\n",
"P2=Pt*p6 //Exit pressure in kPa\n",
"t2=1.1645 //Static to Critical temperature ratio at outlet from gas tables,fanno flow tables @M3,k=1.4\n",
"T2=Tt*t2 //Exit temperature in K\n",
"c2=0.42087 //Static to Critical velocity ratio at outlet from gas tables,fanno flow tables @M3,k=1.4\n",
"C2=Ct*c2 //Exit velocity in m/s\n",
"\n",
"//output\n",
"printf('(A)Length of pipe required for p=%3.1f m is %3.3f m\n (B)Properties of air at section %3i from inlet:\n    Temperature is %3.3f K\n    Pressure is %3.2f kPa\n    Velocity is %3.1f m/s\n (C)Maximum length of the pipe is %3.2f m',p1,L2,L1,T2,P2,C2,L3)"
   ]
   }
,
{
		   "cell_type": "markdown",
		   "metadata": {},
		   "source": [
			"## Example 3.16: To_find_exit_mach_number_and_inlet_temperature_and_pressure.sce"
		   ]
		  },
  {
"cell_type": "code",
	   "execution_count": null,
	   "metadata": {
	    "collapsed": true
	   },
	   "outputs": [],
"source": [
"clc\n",
"clear\n",
"\n",
"//input data\n",
"D=0.3 //inner pipe diameter in m\n",
"Q=1000 //Discharge in m^3/min\n",
"P2=150 //Exit pressure in kPa\n",
"T2=293 //Exit temperature in K\n",
"L1=50 //Length of the pipe in m\n",
"f=0.005 //frictional factor\n",
"k=1.4 //Adiabatic constant\n",
"R=287 //Gas constant in J/kg-K\n",
"\n",
"//calculation\n",
"A=%pi*D^2/4 //Area of duct in m^2 \n",
"C2=Q/(A*60) //Exit air velocity in m/s\n",
"a2=sqrt(k*R*T2) //Sound velocity in m/s\n",
"M2=C2/a2 //Exit mach number \n",
"p1=1.54 ////Static to Critical pressure ratio at outlet from gas tables,fanno flow tables @M2,k=1.4\n",
"Pt=P2/p1 //Critical pressure in kPa\n",
"t1=1.10 //Static to Critical temperature ratio at outlet from gas tables,fanno flow tables @M2,k=1.4\n",
"Tt=T2/t1 //Critical temperature in K\n",
"X1=0.228 //frictional constant fanno parameter from gas tables,fanno flow tables @M2,k=1.4\n",
"L2=(X1*D)/(4*f) //Length of the pipe in m\n",
"L2=L1+L2 //Overall length of pipe from inlet to critical state in m\n",
"X2=(4*f*L2)/D //frictional constant fanno parameter for M1\n",
"M1=0.345 //Inlet Mach number from gas tables fanno flow tables @X2,k=1.4\n",
"p2=3.14 //Static to Critical pressure ratio at inlet from gas tables,fanno flow tables @M1,k=1.4\n",
"P1=Pt*p2 //Static pressure at inlet in kPa\n",
"t2=1.17 //Static to Critical temperature ratio at inlet from gas tables,fanno flow tables @M1,k=1.4\n",
"T1=Tt*t2 //Static temperature at inlet in K\n",
"\n",
"//output\n",
"printf('(A)Mach number at the exit is %3.3f\n (B)Inlet pressure and temperature are %3.3f kPa and %3.2f K',M2,P1,T1)"
   ]
   }
,
{
		   "cell_type": "markdown",
		   "metadata": {},
		   "source": [
			"## Example 3.17: EX3_17.sce"
		   ]
		  },
  {
"cell_type": "code",
	   "execution_count": null,
	   "metadata": {
	    "collapsed": true
	   },
	   "outputs": [],
"source": [
"clc\n",
"clear\n",
"\n",
"//input data\n",
"D=0.0254 //inner pipe diameter in m\n",
"f=0.003 //frictional factor\n",
"M1=2.5 //Inlet Mach number \n",
"To1=310 //Stagnation temperature at inlet in K\n",
"P1=0.507 //Static pressure at inlet in kPa\n",
"M2=1.2 //Exit mach number \n",
"k=1.4 //Adiabatic constant\n",
"R=287 //Gas constant in J/kg-K\n",
"\n",
"//calculation\n",
"t1=0.4444 //Static to Stagnation temperature ratio at entry from gas tables (M1,k=1.4,isentropic)\n",
"T1=To1*t1 //Static temperature at inlet in K\n",
"p1=0.05853 //Static to Stagnation pressure ratio at entry from gas tables (M1,k=1.4,isentropic)\n",
"Po1=P1/p1 //Stagantion pressure at inlet in kPa\n",
"a1=sqrt(k*R*T1) //Sound velocity at inlet in m/s, R in J/kg\n",
"C1=a1*M1 //air velocity at inlet in m/s\n",
"c1=2.95804 //Static to Critical velocity ratio at inlet from gas tables,isothermal tables @M1,k=1.4\n",
"Ctt=C1/c1 //Critical velocity at isothermal state in m/s\n",
"p2=0.33806 //Static to Critical pressure ratio at inlet from gas tables,isothermal @M1,k=1.4\n",
"Ptt=P1/p2 //Critical pressure at isothermal state in bar\n",
"p3=3.61691 //Stagnation pressure ratio at inlet to isothermal state from gas tables,isothermal tables @M1,k=1.4\n",
"Pott=Po1/p3 //Critical pressure at isothermal state in K\n",
"t2=1.968748 //Stagnation temperature ratio at inlet to isothermal state from gas tables,isothermal tables @M1,k=1.4\n",
"Tott=To1/t2 //Critical temperature at isothermal state in K\n",
"X1=1.28334 //frictional constant fanno parameter from gas tables,fanno flow tables @M1,k=1.4\n",
"c2=1.4186 //Static to Critical velocity ratio at exit from gas tables,isothermal tables @M2,k=1.4\n",
"C2=Ctt*c2 //Exit velocity in m/s\n",
"p4=0.7043 //Static to Critical pressure ratio at inlet from gas tables,isothermal @M2,k=1.4\n",
"P2=Ptt*p4 //Exit pressure in bar\n",
"p5=1.07026 //Stagnation pressure ratio at inlet to isothermal state from gas tables,isothermal tables @M2,k=1.4\n",
"Po2=Pott*p5 //Stagnation pressure at exit in bar \n",
"t3=1.127 //Stagnation temperature ratio at inlet to isothermal state from gas tables,isothermal tables @M2,k=1.4\n",
"To2=Tott*t3 //Stagnation temperature at exit in bar\n",
"T2=T1 //Exit temperature in K, Since isothermal flow\n",
"X2=0.19715 //frictional constant fanno parameter from gas tables,fanno flow tables @M2,k=1.4\n",
"X3=X1-X2 //Overall frictional constant fanno parameter\n",
"L1=(X3*D)/(4*f) //Length of the pipe in m\n",
"d1=(P1*10^5)/(R*T1) //Density of air in kg/m^3, P1 in Pa\n",
"A1=(%pi*D^2)/4 //Cross sectional area of pipe in m^2\n",
"m=d1*A1*C1 //Mass flow rate in kg/s\n",
"\n",
"//output\n",
"printf('At M=%3.1f :\n (A)Static pressure and static temperature are %3.5f bar and %3.3f K respectively\n (B)Stagnation pressure and temperature are %3.4f bar and %3.3f K respectively\n (C)Velocity of air is %3.3f m/s\n (D)Distance of the section from innlet is %3.3f m\n (E)Mass flow rate is %3.5f kg/s',M2,P2,T2,Po2,To2,C2,L1,m)"
   ]
   }
,
{
		   "cell_type": "markdown",
		   "metadata": {},
		   "source": [
			"## Example 3.18: EX3_18.sce"
		   ]
		  },
  {
"cell_type": "code",
	   "execution_count": null,
	   "metadata": {
	    "collapsed": true
	   },
	   "outputs": [],
"source": [
"clc\n",
"clear\n",
"\n",
"//input data\n",
"D=0.12 //inner duct diameter in m\n",
"f=0.004 //frictional factor\n",
"M1=0.4 //Inlet Mach number \n",
"P1=300 //Static pressure at inlet in kPa\n",
"T1=310 //Static temperature at inlet in K\n",
"M2=0.6 //Exit mach number\n",
"k=1.4 //Adiabatic constant\n",
"\n",
"//calculation\n",
"p1=2.118 //Static to Critical pressure ratio at inlet from gas tables,fanno flow tables @M1,k=1.4\n",
"Pt=P1/p1 //Critical pressure in kPa\n",
"X1=1.968 //frictional constant fanno parameter from gas tables,fanno flow tables @M1,k=1.4\n",
"p2=1.408 //Static to Critical pressure ratio at outlet from gas tables,fanno flow tables @M2,k=1.4\n",
"P2=Pt*p2 //Exit pressure in kPa\n",
"X2=0.299 //frictional constant fanno parameter from gas tables,fanno flow tables @M2,k=1.4\n",
"X3=X1-X2 //Overall frictional constant fanno parameter\n",
"L1=(X3*D)/(4*f) //Length of the pipe in m\n",
"T2=T1 //Exit temperature in K, Since isothermal flow\n",
"Ttt=T1 //Critical temperature at critical state, Since isothermal flow \n",
"Mtt=1/sqrt(k) //Limiting Mach number\n",
"L2=(X1*D)/(4*f) //Length of the duct required to attain limiting mach number in m\n",
"\n",
"//output\n",
"printf('(A)Length of the duct required to chnage the mach number to %3.1f is %3.4f m\n (B)Pressure and temperature at M=%3.1f is %3i kPa and %3i K respectively\n (C)Length of the duct required to attain limiting mach number is %3.3f m\n (D)State of air at limiting mach number %3.3f is subsonic',M2,L1,M2,P2,T2,L2,Mtt)"
   ]
   }
,
{
		   "cell_type": "markdown",
		   "metadata": {},
		   "source": [
			"## Example 3.19: To_find_diameter_of_pipe.sce"
		   ]
		  },
  {
"cell_type": "code",
	   "execution_count": null,
	   "metadata": {
	    "collapsed": true
	   },
	   "outputs": [],
"source": [
"clc\n",
"clear\n",
"\n",
"//input data\n",
"m=0.32 //Mass flow rate in kg/s\n",
"L=140 //Length of the pipe in m\n",
"P1=800 //Inlet pressure in N/m^2, wrong units in textbook\n",
"T1=288 //Inlet temperature in K\n",
"P2=600 //Outlet pressure in N/m^2, wrong units in textbook\n",
"f=0.006 //frictional factor\n",
"R=287 //Gas constant in J/kg-K\n",
"\n",
"//calculation\n",
"//Using Adiabatic Equation d=1/((((((%pi*(d/2)^2)^2)/(2*m^2*R*T))*(P1^2-P2^2))-(log(P1/P2)))/(2*f*L)) and converting into 5th degree polynomial of d\n",
"a=(%pi^2*(P1^2-P2^2))/(32*m^2*R*T1) //Coefficient of power 5\n",
"b=log(P1/P2) //Coefficient of power 1\n",
"c=2*f*L //Coefficient of constant\n",
"p5=poly([-c -b 0 0 0 a],'d','coeff') //Solving polynomial of degree 5\n",
"d=roots(p5,'e') //Command to find roots\n",
"\n",
"//output\n",
"disp('Possible values for diameter of pipe are:\n') //Displays whatever within paranthesis \n",
"disp([d]) //To display roots\n",
"printf('\nTherefore Diameter of the pipe is 0.7 m')\n",
"\n",
""
   ]
   }
,
{
		   "cell_type": "markdown",
		   "metadata": {},
		   "source": [
			"## Example 3.1: To_find_length_of_pipe.sce"
		   ]
		  },
  {
"cell_type": "code",
	   "execution_count": null,
	   "metadata": {
	    "collapsed": true
	   },
	   "outputs": [],
"source": [
"clc\n",
"clear\n",
"\n",
"//input data\n",
"M1=0.25 //Mach number at entrance\n",
"M2=1 //Mach number at exit\n",
"D=0.04 //inner tude diameter in m\n",
"f=0.002 //frictional factor\n",
"\n",
"//calculation\n",
"X1=8.537 //frictional constant fanno parameter at entry from gas tables @M1=0.25\n",
"X2=0 //frictional constant fanno parameter at exit from gas tables @M2=1\n",
"X=X1-X2 //overall frictional constant fanno parameter i.e. (4*f*L)/D\n",
"L=(X*D)/(4*f) //Length of the pipe in m\n",
"\n",
"//output\n",
"printf('(A)Length of the pipe is %3.3f m',L)"
   ]
   }
,
{
		   "cell_type": "markdown",
		   "metadata": {},
		   "source": [
			"## Example 3.20: To_determine_required_inlet_conditions.sce"
		   ]
		  },
  {
"cell_type": "code",
	   "execution_count": null,
	   "metadata": {
	    "collapsed": true
	   },
	   "outputs": [],
"source": [
"clc\n",
"clear\n",
"\n",
"//input data\n",
"Q=225/60 //Discharge in m^3/s\n",
"T2=293 //Exit temperature in K\n",
"P2=1.25 //Exit pressure in bar\n",
"L1=30 //Length of the pipe in m\n",
"D=0.15 //Duct diameter in m\n",
"f=0.02/4 //frictional factor\n",
"k=1.4 //Adiabatic constant\n",
"R=287 //Gas constant in J/kg-K\n",
"\n",
"//calculation\n",
"A=%pi*D^2/4 //area in m^2\n",
"C2=Q/A //Exit air velocity in m/s\n",
"a2=sqrt(k*R*T2) //Exit sound velocity in m/s \n",
"M2=C2/a2 //Exit mach number \n",
"p1=1.703 //Static to Critical pressure ratio at outlet from gas tables,fanno flow tables @M2,k=1.4\n",
"Pt=P2/p1 //Critical pressure in bar\n",
"c1=0.654 //Static to Critical velocity ratio at outlet from gas tables,fanno flow tables @M2,k=1.4\n",
"Ct=C2/c1 //Critical velocity in m/s\n",
"t1=1.114 //Static to Critical temperature ratio at outlet from gas tables,fanno flow tables @M2,k=1.4\n",
"Tt=T2/t1 //Critical temperature in K\n",
"X1=0.417 //frictional constant fanno parameter from gas tables,fanno flow tables @M1,k=1.4\n",
"X2=(4*f*L1)/D //frictional constant fanno parameter\n",
"X3=X1+X2 //overall frictional constant fanno parameter\n",
"M1=0.32 //Mach number at entrance\n",
"p2=3.385 //Static to Critical pressure ratio at inlet from gas tables,fanno flow tables @M1,k=1.4\n",
"P1=Pt*p2 //Static pressure at inlet in bar\n",
"c2=0.347 //Static to Critical velocity ratio at inlet from gas tables,fanno flow tables @M1,k=1.4\n",
"C1=Ct*c2 //Air velocity at inlet in m/s\n",
"t2=1.176 //Static to Critical temperature ratio at inlet from gas tables,fanno flow tables @M1,k=1.4\n",
"T1=Tt*t2 //Static temperature at inlet in K\n",
"\n",
"//output\n",
"printf('Required Inlet Condition:\n    Pressure is %3.4f bar\n    Velocity is %3.3f m/s\n    Temperature is %3.1f K',P1,C1,T1)"
   ]
   }
,
{
		   "cell_type": "markdown",
		   "metadata": {},
		   "source": [
			"## Example 3.21: To_find_mach_number_at_sections_and_mean_value_of_friction.sce"
		   ]
		  },
  {
"cell_type": "code",
	   "execution_count": null,
	   "metadata": {
	    "collapsed": true
	   },
	   "outputs": [],
"source": [
"clc\n",
"clear\n",
"\n",
"//input data\n",
"D1=0.134 //Inlet duct diameter in m\n",
"Po1=7 //Stagnation pressure at inlet in bar\n",
"P1=0.245 //Static pressure at 5*D1 i.e. L1 in bar\n",
"P2=0.5 //Static pressure at 33*D1 i.e. L2 in bar\n",
"D2=0.0646 //throat diameter in m \n",
"L1=5*D1 //Length of nozzle till section-1 in m\n",
"L2=33*D1 //Length of nozzle till section-2 in m \n",
"\n",
"//calculation\n",
"ar=(D1/D2)^2 //Ratio of areas\n",
"p1=P1/Po1 //Pressure ratio\n",
"APR1=p1*ar //Area Pressure ratio i.e. (A1*P1)/(At*Po1)\n",
"M1=2.54 //Mach number at inlet from isentropic gas tables @APR1 \n",
"X1=0.44 //frictional constant fanno parameter from gas tables,fanno flow tables @M1,k=1.4\n",
"APR2=0.3073 //Area Pressure ratio i.e. (A2*P2)/(At*Po1)\n",
"M2=1.54 //Exit mach number\n",
"X2=0.151 //frictional constant fanno parameter from gas tables,fanno flow tables @M2,k=1.4\n",
"X3=X1-X2 //overall frictional constant fanno parameter\n",
"L3=L2-L1 //Length of the nozzle (Section-1 to Section-2) in m \n",
"f=(X3*D1)/(4*L3) //frictional factor\n",
"\n",
"//output\n",
"printf('(A)Mach number at %3.3f m and %3.3f m are %3.2f and %3.2f respectively\n (B)Mean value of friction between two sections is %3.5f',L1,L2,M1,M2,f)"
   ]
   }
,
{
		   "cell_type": "markdown",
		   "metadata": {},
		   "source": [
			"## Example 3.2: To_find_length_of_required_duct_and_length_required_to_obtain_critical_condition.sce"
		   ]
		  },
  {
"cell_type": "code",
	   "execution_count": null,
	   "metadata": {
	    "collapsed": true
	   },
	   "outputs": [],
"source": [
"clc\n",
"clear\n",
"\n",
"//input data\n",
"M1=0.1 //Mach number at entrance\n",
"M2=0.5 //Mach number at a section\n",
"M3=1 //Mach number at critical condition\n",
"D=0.02 //Diameter of duct in m\n",
"f=0.004 //Frictional factor\n",
"\n",
"//calculation\n",
"X1=66.922 //frictional constant fanno parameter from gas tables @M1=0.1\n",
"X2=1.069 //frictional constant fanno parameter from gas tables @M2=0.5\n",
"X3=0 //frictional constant fanno parameter from gas tables @M3=1\n",
"X4=X1-X3 ////frictional constant fanno parameter from M2=0.1 to M3=1\n",
"L1=(X4*D)/(4*f) //Length of the pipe in m\n",
"X5=X2-X3 //frictional constant fanno parameter from M2=0.5 to M3=1\n",
"L2=(X5*D)/(4*f) //Addition length of the pipe required to accelerate into critical condition in m\n",
"L=L1-L2 //Length of the pipe required to accelerate the flow from M1=0.1 to M2=0.5 in m\n",
"\n",
"//output \n",
"printf('(A)Length of the pipe required to accelerate the flow from M1=%3.1f to M2=%3.1f is %3.3f m\n (B)Additional length required to accelerate into critical condition is %3.5f m',M1,M2,L,L2)"
   ]
   }
,
{
		   "cell_type": "markdown",
		   "metadata": {},
		   "source": [
			"## Example 3.3: To_find_length_of_pipe_and_mass_flow_rate.sce"
		   ]
		  },
  {
"cell_type": "code",
	   "execution_count": null,
	   "metadata": {
	    "collapsed": true
	   },
	   "outputs": [],
"source": [
"clc\n",
"clear\n",
"\n",
"//input data\n",
"D=0.05 //inner pipe diameter in m\n",
"Po=10 //Stagnation Pressure at reservoir in bar\n",
"To=400 //Stagnation temperature at reservoir in K\n",
"f=0.002 //frictional factor \n",
"M1=3 //Mach number at entrance\n",
"M2=1 //Mach number at end of pipe\n",
"R=287 //Gas constant in J/kg-K\n",
"k=1.4 //Adiabatic constant\n",
"\n",
"//calculation\n",
"X1=0.522 //frictional constant fanno parameter from gas tables @M1=3\n",
"X2=0 //frictional constant fanno parameter from gas tables @M2=1\n",
"X=X1-X2 //overall frictional constant fanno parameter\n",
"L=(X*D)/(4*f) //Length of the pipe in m\n",
"p1=0.0272 //Pressure ratio from gas tables (M=3,k=1.4,isentropic)\n",
"P1=p1*Po //Static pressure at entrance in bar\n",
"t1=0.3571 //Temperature ratio from gas tables (M=3,k=1.4,isentropic)\n",
"T1=t1*To //Static temperature at entrance in K\n",
"d1=(P1*10^5)/(R*T1) //Density of air in kg/m^3, P1 in Pa\n",
"a1=sqrt(k*R*T1) //Sound velocity in m/s\n",
"C1=a1*M1 //air velocity in m/s\n",
"A1=(%pi*D^2)/4 //Cross sectional area of pipe in m^2\n",
"m=d1*A1*C1 //Mass flow rate in kg/s\n",
"\n",
"//output\n",
"printf('(A)Length of the pipe is %3.2f m\n (B)Mass flow rate is %3.4f kg/s',L,m)"
   ]
   }
,
{
		   "cell_type": "markdown",
		   "metadata": {},
		   "source": [
			"## Example 3.4: To_find_temperature_velocity_at_a_section_and_distance_between_two_sections.sce"
		   ]
		  },
  {
"cell_type": "code",
	   "execution_count": null,
	   "metadata": {
	    "collapsed": true
	   },
	   "outputs": [],
"source": [
"clc\n",
"clear\n",
"\n",
"//input data\n",
"C1=235 //Velocity at entrance in m/s\n",
"P1=13 //Static Pressure at entry in bar\n",
"P2=10 //Static Pressure at a point in duct in bar\n",
"T1=543 //Static temperature at entry in Kelvin\n",
"D=0.15 //inner duct diameter in m\n",
"f=0.005 //frictional factor\n",
"k=1.4 //Adiabatic constant\n",
"R=287 //Gas constant in J/kg-K\n",
"\n",
"//calculation\n",
"a1=sqrt(k*R*T1) //Sound velocity in m/s\n",
"M1=C1/a1 //Mach number at entry\n",
"p1=2.138 //Static Pressure ratio from gas tables (fanno flow tables,k=1.4,M=0.5)\n",
"Pt=P1/p1 //Static critical pressure in bar\n",
"t1=1.143 //Static temperature ratio from gas tables (fanno flow tables,k=1.4,M=0.5) \n",
"Tt=T1/t1 //Static critical temperature in K\n",
"c1=0.534 //Velocity ratio from gas tables (fanno flow tables,k=1.4,M=0.5)\n",
"Ct=C1/c1 //Critical velocity in m/s\n",
"p2=1.644 //Pressure ratio from gas tables (fanno flow tables,k=1.4)\n",
"M2=0.64 //Mach number from gas tables (fanno flow tables,k=1.4,p2)\n",
"c2=0.674 //Velocity ratio from gas tables (fanno flow tables,k=1.4,p2)\n",
"C2=Ct*c2 //Air velocity at P2 in m/s\n",
"t2=1.109 //Temperature ratio from gas tables (fanno flow tables,k=1.4,p2)\n",
"T2=t2*Tt //Satic temperature at P2 is K\n",
"X1=1.06922 //frictional constant fanno parameter from gas tables @M1\n",
"X2=0.353 //frictional constant fanno parameter from gas tables @M2\n",
"X=X1-X2 //overall frictional constant fanno parameter\n",
"L=(X*D)/(4*f) //Length of the pipe in m\n",
"\n",
"//output\n",
"printf('(A)Temperature and velocity at section of the duct where the pressure has dropped to %3i bar due to friction are %3.1f K and %3.2f m/s\n (B)The distance between two section is %3.3f m',P2,T2,C2,L)"
   ]
   }
,
{
		   "cell_type": "markdown",
		   "metadata": {},
		   "source": [
			"## Example 3.5: To_find_length_of_pipe_and_properties_of_air_at_exit.sce"
		   ]
		  },
  {
"cell_type": "code",
	   "execution_count": null,
	   "metadata": {
	    "collapsed": true
	   },
	   "outputs": [],
"source": [
"clc\n",
"clear\n",
"\n",
"//input data\n",
"P1=120 //Static pressure at entrance in bar\n",
"T1=313 //Static temperature at entry in Kelvin\n",
"M1=2.5 //Mach number at entrance\n",
"M2=1.8 //Mach number at exit\n",
"D=0.2 //inner pipe diameter in m\n",
"f=0.01/4 //frictional factor\n",
"k=1.4 //Adiabatic constant\n",
"R=287 //Gas constant in J/kg-K\n",
"\n",
"//calculation\n",
"a1=sqrt(k*R*T1) //Sound velocity in m/s\n",
"C1=a1*M1 //air velocity in m/s\n",
"p1=0.292 //Static Pressure ratio from gas tables (fanno flow tables,k=1.4,M=2.5)\n",
"Pt=P1/p1 //Static critical pressure in kPa\n",
"t1=0.533 //Static temperature ratio from gas tables (fanno flow tables,k=1.4,M=2.5)\n",
"Tt=T1/t1 //Static critical temperature in K\n",
"c1=1.826 //Velocity ratio from gas tables (fanno flow tables,k=1.4,M=2.5)\n",
"Ct=C1/c1 //Critical velocity in m/s\n",
"X1=0.432 //frictional constant fanno parameter from gas tables,fanno flow tables @M1=3\n",
"X2=0 //frictional constant fanno parameter from gas tables @M2=1\n",
"X3=X1-X2 //overall frictional constant fanno parameter\n",
"L1=(X3*D)/(4*f) //Maximum length of the pipe in m\n",
"p2=0.474 //Static Pressure ratio from gas tables (fanno flow tables,k=1.4,M=1.8)\n",
"P2=Pt*p2 //Static pressure in kPa\n",
"t2=0.728 //static temperature ratio from gas tables (fanno flow tables,k=1.4,M=1.8)\n",
"T2=Tt*t2 //Static temperature in K\n",
"c2=1.536 //Velocity ratio from gas tables (fanno flow tables,k=1.4,M=1.8)\n",
"C2=c2*Ct //Critical velocity in m/s\n",
"X4=0.242 //frictional constant fanno parameter from gas tables,fanno flow tables @M=1.8\n",
"X5=X4-X2 //overall frictional constant fanno parameter\n",
"L2=(X5*D)/(4*f) //Length between sonic and oulet section\n",
"L=L1-L2 //Length of the pipe in m\n",
"\n",
"//output\n",
"printf('(A)Maximum length of the pipe is %3.2f m\n (B)Properties of air at sonic condition:\n    Pressure is %3i kPa\n    Temperature is %3.2f K\n    Velocity is %3.1f m/s\n (C)Length of the pipe is %3.1f m\n (D)Properties of air at M2=%3.1f:\n    Pressure is %3i kPa\n    Temperature is %3.2f K\n    Velocity is %3.2f m/s\n',L1,Pt,Tt,Ct,L,M2,P2,T2,C2)"
   ]
   }
,
{
		   "cell_type": "markdown",
		   "metadata": {},
		   "source": [
			"## Example 3.6: EX3_6.sce"
		   ]
		  },
  {
"cell_type": "code",
	   "execution_count": null,
	   "metadata": {
	    "collapsed": true
	   },
	   "outputs": [],
"source": [
"clc\n",
"clear\n",
"\n",
"//input data\n",
"M1=0.25 //Mach number at entrance\n",
"ds=0.124 //Change in entropy in kJ/kg-K\n",
"P1=700 //Static pressure at entrance in bar\n",
"T1=333 //Static temperature at entry in Kelvin\n",
"D=0.05 //inner pipe diameter in m\n",
"f=0.006 //frictional factor\n",
"k=1.4 //Adiabatic constant\n",
"R=0.287 //Gas constant in kJ/kg-K\n",
"\n",
"//calculation\n",
"p1=exp(ds/R) //Ratio of Stagnation pressure at inlet to outlet \n",
"t1=0.987 //Ratio of Static Temperature to Stagnation temperature at entry from gas tables @M1\n",
"To1=T1/t1 //Stagnation temperature at entry in K\n",
"p2=0.957 //Ratio of Static pressure to Stagnation pressure at entry from gas tables @M1\n",
"Po1=P1/p2 //Stagnation pressure at entry in kPa\n",
"Po2=Po1/p1 //Stagnation pressure at exit in kPa\n",
"a1=sqrt(k*R*10^3*T1) //Sound velocity in m/s, R in J/kg\n",
"C1=a1*M1 //air velocity in m/s\n",
"p3=4.3615 //Static Pressure ratio from gas tables (fanno flow tables,k=1.4,M=0.25)\n",
"Pt=P1/p3 //Static critical pressure in kPa\n",
"t1=1.185 //Static temperature ratio from gas tables (fanno flow tables,k=1.4,M=0.25)\n",
"Tt=T1/t1 //Static critical temperature in K\n",
"c1=0.272 //Velocity ratio from gas tables (fanno flow tables,k=1.4,M=0.25)\n",
"Ct=C1/c1 //Critical velocity in m/s\n",
"p4=2.4065 //Pressure ratio at entry from gas tables @M1,k\n",
"Pot=Po1/p4 //Stagnation pressure at critical state in kPa\n",
"X1=8.537 //frictional constant fanno parameter from gas tables,fanno flow tables @M1,k\n",
"p5=Po2/Pot //Pressure ratio \n",
"M2=0.41 //Mach number at exit from gas tables @p5\n",
"p6=2.629 //Pressure ratio at exit from gas tables @p5\n",
"P2=Pt*p6 //Exit pressure in kPa\n",
"t2=1.161 //Temperature ratio at exit from gas tables @p5\n",
"T2=Tt*t2 //Exit temperature in K\n",
"c2=0.4415 //Velocity ratio at exit from gas tables @p5\n",
"C2=Ct*c2 //Exit velocity in m/s\n",
"X2=2.141 //frictional constant fanno parameter from gas tables,fanno flow tables @M2,k\n",
"X3=X1-X2 //overall frictional constant fanno parameter\n",
"L=(X3*D)/(4*f) //Length of the pipe in m\n",
"\n",
"//output\n",
"printf('(A)Mach number at exit(section 2) is %3.2f \n (B)Properties at exit(section 2):\n    Pressure is %3.2f kPa\n    Temperature is %3i K\n    Velocity is %3.3f m/s\n (C)Length of the duct is %3.3f m',M2,P2,T2,C2,L)"
   ]
   }
,
{
		   "cell_type": "markdown",
		   "metadata": {},
		   "source": [
			"## Example 3.7: TO_find_final_pressure_and_velocity_of_duct.sce"
		   ]
		  },
  {
"cell_type": "code",
	   "execution_count": null,
	   "metadata": {
	    "collapsed": true
	   },
	   "outputs": [],
"source": [
"clc\n",
"clear\n",
"\n",
"//input data\n",
"M1=0.25 //Initial Mach number \n",
"M2=0.75 //Final mach number \n",
"P1=1.5 //Inlet pressure in bar\n",
"T1=300 //Inlet temperature in K\n",
"k=1.4 //Adiabatic constant\n",
"R=0.287 //Gas constant in kJ/kg-K\n",
"\n",
"//calculation\n",
"a1=sqrt(k*R*10^3*T1) //Sound velocity in m/s, R in J/kg\n",
"C1=a1*M1 //air velocity in m/s\n",
"p1=4.3615 //Pressure ratio at entry from gas tables @M1,k\n",
"Pt=P1/p1 //Static critical pressure in kPa\n",
"c1=0.272 //Velocity ratio from gas tables (fanno flow tables,k=1.4,M1)\n",
"Ct=C1/c1 //Critical velocity in m/s\n",
"p2=1.385 //Pressure ratio at exit from gas tables @M2,k\n",
"P2=Pt*p2 //Exit pressure in bar\n",
"c2=0.779 //Velocity ratio at exit from gas tables @M2,k\n",
"C2=Ct*c2 //Exit velocity in m/s\n",
"\n",
"//output\n",
"printf('Final pressure and velocity are %3.4f bar and %3.2f m/s',P2,C2)"
   ]
   }
,
{
		   "cell_type": "markdown",
		   "metadata": {},
		   "source": [
			"## Example 3.8: To_find_inlet_mach_number_mass_flow_rate_and_exit_temperature.sce"
		   ]
		  },
  {
"cell_type": "code",
	   "execution_count": null,
	   "metadata": {
	    "collapsed": true
	   },
	   "outputs": [],
"source": [
"clc\n",
"clear\n",
"\n",
"//input data\n",
"T1=333 //Inlet temperature in K\n",
"D=0.05 //inner duct diameter in m\n",
"f=0.005/4 //frictional factor\n",
"L=5 //Length of the pipe in m\n",
"Pt=101 //Exit pressure in kPa, Pt=P2 Since flow is choked \n",
"M2=1 //Mach number at exit since pipe is choked \n",
"k=1.4 //Adiabatic constant\n",
"R=0.287 //Gas constant in kJ/kg-K\n",
"\n",
"//calculation\n",
"X=(4*f*L)/D //frictional constant fanno parameter \n",
"M1=0.6 //Inlet mach number \n",
"t1=1.119 //Temperature ratio at entry from fanno flow gas tables @M1,k\n",
"Tt=T1/t1 //Static critical temperature in K\n",
"at=sqrt(k*R*10^3*Tt) //Sound velocity in m/s, R in J/kg\n",
"Ct=at //air velocity in m/s\n",
"d_t=Pt/(R*Tt) //Density at exit in kg/m^3\n",
"At=%pi*D^2/4 //Critical area in m^2\n",
"m=d_t*At*Ct //Mass flow rate in kg/s\n",
"\n",
"//output\n",
"printf('(A)Mach number at inlet is %3.1f \n (B)Mass flow rate is %3.5f kg/s\n (C)Exit temperature is %3.3f K',M1,m,Tt)"
   ]
   }
,
{
		   "cell_type": "markdown",
		   "metadata": {},
		   "source": [
			"## Example 3.9: EX3_9.sce"
		   ]
		  },
  {
"cell_type": "code",
	   "execution_count": null,
	   "metadata": {
	    "collapsed": true
	   },
	   "outputs": [],
"source": [
"clc\n",
"clear\n",
"\n",
"//input data\n",
"m=8.25 //Mass flow rate in kg/s\n",
"M1=0.15 //Mach number at entrance\n",
"M2=0.5 //Mach number at exit\n",
"P1=345 //Static pressure at entrance in kPa\n",
"T1=38+273 //Static temperature at entry in Kelvin\n",
"f=0.005 //frictional factor\n",
"k=1.4 //Adiabatic constant\n",
"R=0.287 //Gas constant in kJ/kg-K\n",
"\n",
"//calcu;ation\n",
"d1=(P1*10^3)/(R*10^3*T1) //Density of air in kg/m^3, P1 in Pa\n",
"a1=sqrt(k*R*10^3*T1) //Sound velocity in m/s, R in J/kg\n",
"C1=a1*M1 //air velocity in m/s\n",
"A1=m/(d1*C1) //Inlet area in m^2\n",
"D=(sqrt((4*A1)/(%pi)))*10^3 //inner duct diameter in mm\n",
"p1=7.3195 //Static Pressure ratio from gas tables (fanno flow tables,k=1.4,M=0.15)\n",
"Pt=P1/p1 //Static critical pressure in kPa\n",
"t1=1.1945 //Static temperature ratio from gas tables (fanno flow tables,k=1.4,M=0.15)\n",
"Tt=T1/t1 //Static critical temperature in K\n",
"c1=0.164 //Velocity ratio from gas tables (fanno flow tables,k=1.4,M=0.15)\n",
"Ct=C1/c1 //Critical velocity in m/s\n",
"p2=0.984 //Pressure ratio at entry from gas tables (fanno flow tables,k=1.4,M=0.15)\n",
"Po1=P1/p2 //Stagnation pressure at entry in kPa\n",
"p3=3.928 //Stagnation pressure ratio at entry from gas tables (fanno flow tables,k=1.4,M=0.15)\n",
"Pot=Po1/p3 //Stagnation pressure at critical state in kPa\n",
"X1=28.354 //frictional constant fanno parameter from gas tables,fanno flow tables @M1,k\n",
"p5=2.138 //Pressure ratio at exit from gas tables (fanno flow tables,k=1.4,M2)\n",
"P2=Pt*p5 //Exit pressure in kPa\n",
"t2=1.143 //Temperature ratio at exit from gas tables (fanno flow tables,k=1.4,M2)\n",
"T2=Tt*t2 //Exit temperature in K\n",
"c2=0.534 //Velocity ratio at exit from gas tables (fanno flow tables,k=1.4,M2) \n",
"C2=Ct*c2 //Exit velocity in m/s\n",
"p6=1.34 //Stagnation pressure ratio at exit from gas tables (fanno flow tables,k=1.4,M2)\n",
"Po2=Pot*p6 //Stagnation pressure at exit in kPa\n",
"SPL=Po1-Po2 //Stagnation Pressure lose in kPa\n",
"X2=1.069 //frictional constant fanno parameter from gas tables,fanno flow tables @M2,k\n",
"X3=X1-X2 //overall frictional constant fanno parameter\n",
"L=(X3*D*10^-3)/(4*f) //Length of the duct in m\n",
"\n",
"//verification\n",
"a2=sqrt(k*R*10^3*T2) //Sound velocity in m/s, R in J/kg\n",
"M2_v=C2/a2 //air velocity in m/s\n",
"\n",
"//output\n",
"printf('(A)Length of the duct is %3.2f m\n (B)Diameter of the duct is %3i mm\n (C)Pressure and diameter at exit are %3.2f kPa, and %3i mm respectively\n (D)Stagnation Pressure lose is %3i kPa\n (E)Using exit velocity %3.2f m/s, temperature %3.2f K Mach number is found to be %3.2f',L,D,P2,D,SPL,C2,T2,M2_v)"
   ]
   }
],
"metadata": {
		  "kernelspec": {
		   "display_name": "Scilab",
		   "language": "scilab",
		   "name": "scilab"
		  },
		  "language_info": {
		   "file_extension": ".sce",
		   "help_links": [
			{
			 "text": "MetaKernel Magics",
			 "url": "https://github.com/calysto/metakernel/blob/master/metakernel/magics/README.md"
			}
		   ],
		   "mimetype": "text/x-octave",
		   "name": "scilab",
		   "version": "0.7.1"
		  }
		 },
		 "nbformat": 4,
		 "nbformat_minor": 0
}
