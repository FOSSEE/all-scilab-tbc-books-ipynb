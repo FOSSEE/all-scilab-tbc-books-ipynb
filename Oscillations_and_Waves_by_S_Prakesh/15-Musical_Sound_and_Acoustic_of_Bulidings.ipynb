{
"cells": [
 {
		   "cell_type": "markdown",
	   "metadata": {},
	   "source": [
       "# Chapter 15: Musical Sound and Acoustic of Bulidings"
	   ]
	},
{
		   "cell_type": "markdown",
		   "metadata": {},
		   "source": [
			"## Example 15.1: levels_by_which_intensity_will_decrease.sce"
		   ]
		  },
  {
"cell_type": "code",
	   "execution_count": null,
	   "metadata": {
	    "collapsed": true
	   },
	   "outputs": [],
"source": [
"//Example 1 // decibles\n",
"clc;\n",
"clear;\n",
"close;\n",
"//given data :\n",
"i1=4;//assume\n",
"i2=4*i1;//\n",
"dl=10*log10(i2/i1);//db\n",
"disp(dl,'decibles by which intensity level will decrease is,(db)=')"
   ]
   }
,
{
		   "cell_type": "markdown",
		   "metadata": {},
		   "source": [
			"## Example 15.2: ratio_of_amplitudes.sce"
		   ]
		  },
  {
"cell_type": "code",
	   "execution_count": null,
	   "metadata": {
	    "collapsed": true
	   },
	   "outputs": [],
"source": [
"//Example 2 // ratio of amlitudes\n",
"clc;\n",
"clear;\n",
"close;\n",
"//given data :\n",
"l1=10;//db\n",
"l2=40;//db\n",
"dl=l2-l1;//db\n",
"x=(10^(dl/10));//\n",
"x1=sqrt(x);//\n",
"disp(x1,'ratio of amplitudes is ,=')"
   ]
   }
,
{
		   "cell_type": "markdown",
		   "metadata": {},
		   "source": [
			"## Example 15.3: frequency.sce"
		   ]
		  },
  {
"cell_type": "code",
	   "execution_count": null,
	   "metadata": {
	    "collapsed": true
	   },
	   "outputs": [],
"source": [
"//Example 3 // frequency\n",
"clc;\n",
"clear;\n",
"close;\n",
"//given data :\n",
"x=264;//key note\n",
"g=x*(3/2);//\n",
"disp(g,'frequency of note G is ,=')\n",
"cd1=x*2;//\n",
"disp(cd1,'frequency of note C is ,=')"
   ]
   }
],
"metadata": {
		  "kernelspec": {
		   "display_name": "Scilab",
		   "language": "scilab",
		   "name": "scilab"
		  },
		  "language_info": {
		   "file_extension": ".sce",
		   "help_links": [
			{
			 "text": "MetaKernel Magics",
			 "url": "https://github.com/calysto/metakernel/blob/master/metakernel/magics/README.md"
			}
		   ],
		   "mimetype": "text/x-octave",
		   "name": "scilab",
		   "version": "0.7.1"
		  }
		 },
		 "nbformat": 4,
		 "nbformat_minor": 0
}
