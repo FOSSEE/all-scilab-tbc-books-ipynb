{
"cells": [
 {
		   "cell_type": "markdown",
	   "metadata": {},
	   "source": [
       "# Chapter 10: Waves in SolidsWaves in Solids"
	   ]
	},
{
		   "cell_type": "markdown",
		   "metadata": {},
		   "source": [
			"## Example 10.10: frequency.sce"
		   ]
		  },
  {
"cell_type": "code",
	   "execution_count": null,
	   "metadata": {
	    "collapsed": true
	   },
	   "outputs": [],
"source": [
"//Example 10 // Frequencies\n",
"clc;\n",
"clear;\n",
"close;\n",
"//given data :\n",
"l=2;// in m\n",
"v=3560;// in m/s\n",
"r=0.004;// in m\n",
"k=r/2;\n",
"v1=%pi*v*k*3.011^2/(8*l^2);\n",
"disp(v1,'The frequency,v1(Hz) = ')\n",
"v2=%pi*v*k*5^2/(8*l^2);\n",
"disp(v2,'The frequency of first overtone,v2(Hz) = ')\n",
"v3=%pi*v*k*7^2/(8*l^2);\n",
"disp(v3,'The frequency of second overtone,v3(Hz) = ')"
   ]
   }
,
{
		   "cell_type": "markdown",
		   "metadata": {},
		   "source": [
			"## Example 10.11: frequency.sce"
		   ]
		  },
  {
"cell_type": "code",
	   "execution_count": null,
	   "metadata": {
	    "collapsed": true
	   },
	   "outputs": [],
"source": [
"//Example 11 // Frequency\n",
"clc;\n",
"clear;\n",
"close;\n",
"//given data :\n",
"Y=7.1*10^10;// in N/m^2\n",
"p=2.7*10^3;// in kg/m^3\n",
"r=0.005;// in m\n",
"vu=sqrt(Y/p);\n",
"k=r/2;\n",
"v=vu/(2*%pi*k);\n",
"disp(v,' The frequency,v(Hz) = ')"
   ]
   }
,
{
		   "cell_type": "markdown",
		   "metadata": {},
		   "source": [
			"## Example 10.1: youngs_modulus.sce"
		   ]
		  },
  {
"cell_type": "code",
	   "execution_count": null,
	   "metadata": {
	    "collapsed": true
	   },
	   "outputs": [],
"source": [
"//Example 1 // Young's modulus of steel\n",
"clc;\n",
"clear;\n",
"close;\n",
"//given data :\n",
"p=7.8*10^3;// in kg/m^3\n",
"v=5200;// m/s\n",
"Y=p*v^2;\n",
"disp(Y,'Young modulus of steel,Y(N/m^2) = ')"
   ]
   }
,
{
		   "cell_type": "markdown",
		   "metadata": {},
		   "source": [
			"## Example 10.2: wavelength_and_velocity.sce"
		   ]
		  },
  {
"cell_type": "code",
	   "execution_count": null,
	   "metadata": {
	    "collapsed": true
	   },
	   "outputs": [],
"source": [
"//Example 2 // Velocity and wavelength\n",
"clc;\n",
"clear;\n",
"close;\n",
"//given data :\n",
"Y=8*10^10;// in N/m^2\n",
"p=5000;// in kg/m^3\n",
"v=sqrt(Y/p);\n",
"disp(v,'(1). The velocity,v(m/s) = ')\n",
"f=400;// in vibration/sec\n",
"lamda=v/f;\n",
"disp(lamda,'(2). The wavelength,(m) = ')"
   ]
   }
,
{
		   "cell_type": "markdown",
		   "metadata": {},
		   "source": [
			"## Example 10.3: velocity_and_wavelength.sce"
		   ]
		  },
  {
"cell_type": "code",
	   "execution_count": null,
	   "metadata": {
	    "collapsed": true
	   },
	   "outputs": [],
"source": [
"//Example 3 // Velocity and wavelength\n",
"clc;\n",
"clear;\n",
"close;\n",
"//given data :\n",
"Y=7*10^10;// in N/m^2\n",
"p=2.8*10^3;// in kg/m^3\n",
"v=sqrt(Y/p);\n",
"disp(v,'(1). The velocity,v(m/s) = ')\n",
"f=500;// in vibration/sec\n",
"lamda=v/f;\n",
"disp(lamda,'(2). The wavelength,(m/s) = ')"
   ]
   }
,
{
		   "cell_type": "markdown",
		   "metadata": {},
		   "source": [
			"## Example 10.4: youngs_modulus.sce"
		   ]
		  },
  {
"cell_type": "code",
	   "execution_count": null,
	   "metadata": {
	    "collapsed": true
	   },
	   "outputs": [],
"source": [
"//Example 4 // Young's modulus\n",
"clc;\n",
"clear;\n",
"close;\n",
"//given data :\n",
"l=3;// in m\n",
"n=600;// in Hz\n",
"p=8.3*10^3;// in kg/m^3\n",
"Y=p*n^2*(2*l)^2;\n",
"disp(Y,'Youngs modulus,Y(N/m^2) = ')"
   ]
   }
,
{
		   "cell_type": "markdown",
		   "metadata": {},
		   "source": [
			"## Example 10.5: frequency.sce"
		   ]
		  },
  {
"cell_type": "code",
	   "execution_count": null,
	   "metadata": {
	    "collapsed": true
	   },
	   "outputs": [],
"source": [
"//Example 5 // Frequency\n",
"clc;\n",
"clear;\n",
"close;\n",
"//given data :\n",
"Y=2*10^11;// in N/m^2\n",
"p=8*10^3;// in kg/m^3\n",
"l=0.25;// in m\n",
"n=sqrt(Y/p)/(2*l);\n",
"disp(n,'The frequency,n(vibrations/s) = ')"
   ]
   }
,
{
		   "cell_type": "markdown",
		   "metadata": {},
		   "source": [
			"## Example 10.6: AREA.sce"
		   ]
		  },
  {
"cell_type": "code",
	   "execution_count": null,
	   "metadata": {
	    "collapsed": true
	   },
	   "outputs": [],
"source": [
"//Example 6 // Area of cross section\n",
"clc;\n",
"clear;\n",
"close;\n",
"//given data :\n",
"n1BYn2=20;\n",
"T=20*9.8;// in N\n",
"Y=19.6*10^10;// in N/m^2\n",
"alfa=n1BYn2^2*T/Y;\n",
"disp(alfa,'Area of cross section,alfa(m^2) = ')"
   ]
   }
,
{
		   "cell_type": "markdown",
		   "metadata": {},
		   "source": [
			"## Example 10.7: velocity.sce"
		   ]
		  },
  {
"cell_type": "code",
	   "execution_count": null,
	   "metadata": {
	    "collapsed": true
	   },
	   "outputs": [],
"source": [
"//Example 7 // Velocity and Young modulus\n",
"clc;\n",
"clear;\n",
"close;\n",
"//given data :\n",
"n=2600;// in Hz\n",
"l=1;// in m\n",
"p=7.8*10^3;// kg/m^3\n",
"v=2*n*l;\n",
"disp(v,'The velocity,v(m/s) = ')\n",
"Y=v^2*p;\n",
"disp(Y,'Youngs modulus,Y(N/m^2) = ')"
   ]
   }
,
{
		   "cell_type": "markdown",
		   "metadata": {},
		   "source": [
			"## Example 10.8: frequency.sce"
		   ]
		  },
  {
"cell_type": "code",
	   "execution_count": null,
	   "metadata": {
	    "collapsed": true
	   },
	   "outputs": [],
"source": [
"//Example 8 // Frequencies\n",
"clc;\n",
"clear;\n",
"close;\n",
"//given data :\n",
"Y=7.1*10^10;// in N/m^2\n",
"p=2700;//in kg/m^3\n",
"l=1.5;// in m\n",
"r1=1;\n",
"r2=3;\n",
"r3=5;\n",
"n1=(r1/(4*l))*sqrt(Y/p);\n",
"n2=(r2/(4*l))*sqrt(Y/p);\n",
"n3=(r3/(4*l))*sqrt(Y/p);\n",
"disp(n1,'frequency of first harmonic,n1(Hz) = ')\n",
"disp(n2,'frequency of first harmonic,n1(Hz) = ')\n",
"disp(n3,'frequency of first harmonic,n1(Hz) = ')"
   ]
   }
,
{
		   "cell_type": "markdown",
		   "metadata": {},
		   "source": [
			"## Example 10.9: frequency.sce"
		   ]
		  },
  {
"cell_type": "code",
	   "execution_count": null,
	   "metadata": {
	    "collapsed": true
	   },
	   "outputs": [],
"source": [
"//Example 9 // Frequency\n",
"clc;\n",
"clear;\n",
"close;\n",
"//given data :\n",
"l=1.2;// in m\n",
"v=5150;// in m/s\n",
"d=0.006;// in m\n",
"k=d/sqrt(12);\n",
"v1=%pi*v*k*3.011^2/(8*l^2);\n",
"disp(v1,'The frequency,v1(Hz) = ')"
   ]
   }
],
"metadata": {
		  "kernelspec": {
		   "display_name": "Scilab",
		   "language": "scilab",
		   "name": "scilab"
		  },
		  "language_info": {
		   "file_extension": ".sce",
		   "help_links": [
			{
			 "text": "MetaKernel Magics",
			 "url": "https://github.com/calysto/metakernel/blob/master/metakernel/magics/README.md"
			}
		   ],
		   "mimetype": "text/x-octave",
		   "name": "scilab",
		   "version": "0.7.1"
		  }
		 },
		 "nbformat": 4,
		 "nbformat_minor": 0
}
