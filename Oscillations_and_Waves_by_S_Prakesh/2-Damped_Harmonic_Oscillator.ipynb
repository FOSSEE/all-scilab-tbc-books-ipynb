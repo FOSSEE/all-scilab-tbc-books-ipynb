{
"cells": [
 {
		   "cell_type": "markdown",
	   "metadata": {},
	   "source": [
       "# Chapter 2: Damped Harmonic Oscillator"
	   ]
	},
{
		   "cell_type": "markdown",
		   "metadata": {},
		   "source": [
			"## Example 2.10: logarithmic_decrement.sce"
		   ]
		  },
  {
"cell_type": "code",
	   "execution_count": null,
	   "metadata": {
	    "collapsed": true
	   },
	   "outputs": [],
"source": [
"//Example 10 // Logarithmic decrement\n",
"clc;\n",
"clear;\n",
"close;\n",
"//given data :\n",
"a=100;\n",
"l1=20;// in cm\n",
"l2=2;// in cm\n",
"l=l1/l2;\n",
"lamda=(1/100)*log(l);\n",
"disp(lamda,' Logarithmic decrement, = ')"
   ]
   }
,
{
		   "cell_type": "markdown",
		   "metadata": {},
		   "source": [
			"## Example 2.12: frequency.sce"
		   ]
		  },
  {
"cell_type": "code",
	   "execution_count": null,
	   "metadata": {
	    "collapsed": true
	   },
	   "outputs": [],
"source": [
"//Example 12 // Frequency\n",
"clc;\n",
"clear;\n",
"close;\n",
"//given data :\n",
"C=10^-6;// in F\n",
"L=0.2;// in H\n",
"R=800;// in ohm\n",
"Rm=2*sqrt(L/C);\n",
"n=sqrt((1/(L*C))-(R^2/(4*L^2)))/(2*%pi);\n",
"disp(n,'The frequency,n(cycles/s) = ')"
   ]
   }
,
{
		   "cell_type": "markdown",
		   "metadata": {},
		   "source": [
			"## Example 2.13: resistance.sce"
		   ]
		  },
  {
"cell_type": "code",
	   "execution_count": null,
	   "metadata": {
	    "collapsed": true
	   },
	   "outputs": [],
"source": [
"//Example 13 // Resistance\n",
"clc;\n",
"clear;\n",
"close;\n",
"//given data :\n",
"C=0.0012*10^-6;// in F\n",
"L=0.2;// in H\n",
"Rm=2*sqrt(L/C);\n",
"disp(Rm,'The maximum value of resistance,Rm(ohms) = ')"
   ]
   }
,
{
		   "cell_type": "markdown",
		   "metadata": {},
		   "source": [
			"## Example 2.14: frequency_and_quality_factor.sce"
		   ]
		  },
  {
"cell_type": "code",
	   "execution_count": null,
	   "metadata": {
	    "collapsed": true
	   },
	   "outputs": [],
"source": [
"//Example 14 // Q factor\n",
"clc;\n",
"clear;\n",
"close;\n",
"//given data :\n",
"C=5*10^-6;// in F\n",
"L=2*10^-3;// in H\n",
"R=0.2;// in ohm\n",
"w=round(sqrt((1/(L*C))-(R^2/(4*L^2))));\n",
"f=w/(2*%pi);\n",
"Q=w*L/R;\n",
"disp(f,'frequency is ,(Hz)=')\n",
"disp(Q,'Quality factor,Q = ')"
   ]
   }
,
{
		   "cell_type": "markdown",
		   "metadata": {},
		   "source": [
			"## Example 2.3: time_damping_force_total_distance.sce"
		   ]
		  },
  {
"cell_type": "code",
	   "execution_count": null,
	   "metadata": {
	    "collapsed": true
	   },
	   "outputs": [],
"source": [
"//Example 3 // relaxation time ,damping force ,time and total distance\n",
"clc;\n",
"clear;\n",
"close;\n",
"v=10;//cm/s\n",
"vo=100;//cm/s\n",
"t=23;//sec\n",
"x=-(log(v/vo))/t;//\n",
"t=(1/x)*1;//seconds\n",
"disp(round(t),'relaxation time is,(seconds)=')\n",
"m=40;//gm\n",
"vx=50;//cm/sec\n",
"fd=((-x*m*10^-3*vx*10^-2));//newton\n",
"disp(fd,'damping force is ,(newton)=')\n",
"tx=5*(log(10));//\n",
"disp(tx,'time in which kinetic energy will reduce to 1/10th of its value is ,(seconds)=')\n",
"xx=v*1;//\n",
"disp(xx,'distance travelled is,(m)=')"
   ]
   }
,
{
		   "cell_type": "markdown",
		   "metadata": {},
		   "source": [
			"## Example 2.4: period.sce"
		   ]
		  },
  {
"cell_type": "code",
	   "execution_count": null,
	   "metadata": {
	    "collapsed": true
	   },
	   "outputs": [],
"source": [
"//Example 4 // period\n",
"clc;\n",
"clear;\n",
"close;\n",
"//given data :\n",
"m=2;// in g\n",
"k=30;// in dynes/cm\n",
"b=5;// in dynes/cm-sec^-1\n",
"r=b/(2*m);\n",
"w0=sqrt(k/m);\n",
"T=2*%pi/sqrt(w0^2-r^2);\n",
"disp(T,'The time period,T(s) = ')"
   ]
   }
,
{
		   "cell_type": "markdown",
		   "metadata": {},
		   "source": [
			"## Example 2.5: time_period.sce"
		   ]
		  },
  {
"cell_type": "code",
	   "execution_count": null,
	   "metadata": {
	    "collapsed": true
	   },
	   "outputs": [],
"source": [
"//Example 5 // time\n",
"clc;\n",
"clear;\n",
"close;\n",
"tr=50;//seconds\n",
"r=(1/(2*tr));//s^-1\n",
"t=1/r;//seconds\n",
"disp(t,'time in which amplitude falls to 1/e times the initial value is ,(seconds)=')\n",
"t2=tr;//\n",
"disp(t2,'time in which system falls to 1/e times the initial value is ,(seconds)=')\n",
"t3=2*(1/r);//\n",
"disp(t3,'time in which energy falls to 1/e^4 of the initial value is,(seconds)=')"
   ]
   }
,
{
		   "cell_type": "markdown",
		   "metadata": {},
		   "source": [
			"## Example 2.6: relaxation_time_frequency_energy_and_rate_of_loss.sce"
		   ]
		  },
  {
"cell_type": "code",
	   "execution_count": null,
	   "metadata": {
	    "collapsed": true
	   },
	   "outputs": [],
"source": [
"//Example 6 // relaxation time ,frequency ,energy ,time ,rate and number of vibrations\n",
"clc;\n",
"clear;\n",
"close;\n",
"k=20;//N/m\n",
"m=5//N-s/m\n",
"wo=sqrt(k/m);//\n",
"v1=2;//m/s\n",
"to=m/v1;//seconds\n",
"disp(to,'relaxation time is,(seconds)=')\n",
"w=wo*(1-(1/(2*wo*to))^2);//\n",
"lf=w/(2*%pi);//vibration/s\n",
"disp(lf,'linear frequency is,(vibration/s)=')\n",
"a=1;//\n",
"e=((1/2)*m*a^2*wo^2);//joule\n",
"disp(e,'energy is ,(joule)=')\n",
"tm=v1*to;//seconds\n",
"disp(tm,'time taken in fall of amlitude to 1/e value is ,(seconds)=')\n",
"disp(tm,'time taken in fall of velocity amplitude to 1/2 value is,(seconds)=')\n",
"tr=to;//\n",
"disp(tr,'time taken in fall of energy to 1/e value is,(seconds)=')\n",
"eng=(1/2)*m*a*v1^2*(2/tm);//\n",
"disp('rate of loss of energy at t=0 seconds is '+string(eng)+' J/s and at any time is '+string(eng)+'e^-2*t/'+string(tm)+' J/s ')\n",
"rel=((eng*2*%pi)/wo);//J/s\n",
"disp('rate of loss of energy per cycle at t=0 seconds is '+string(rel)+' J/s and at any time is '+string(rel)+'e^-2*t/'+string(tm)+' J/s ')\n",
"nv=tm/((2*%pi)/wo);//\n",
"disp(nv,'number of vibratios made are,=')"
   ]
   }
,
{
		   "cell_type": "markdown",
		   "metadata": {},
		   "source": [
			"## Example 2.7: time_and_distance.sce"
		   ]
		  },
  {
"cell_type": "code",
	   "execution_count": null,
	   "metadata": {
	    "collapsed": true
	   },
	   "outputs": [],
"source": [
"//Example 7 // time and distance\n",
"clc;\n",
"clear;\n",
"close;\n",
"b=5;//N-s/m\n",
"v=10;//m/s\n",
"to=b/v;//second\n",
"disp(to,'time in which velocity falls to 1/e times the initial value is ,(second)=')\n",
"t2=b*to;//\n",
"disp(t2,'time in which velocit falls to half the initial value is,(second)=')\n",
"disp('diatnce traversed by the particle before the velocity falls to half the initial value is '+string(b)+'*(1-e^-(log)'+string((2*to)/to)+')')\n",
"x=b;//m\n",
"disp(x,'distance traversed by the particle it comes to rest is,(m)=')"
   ]
   }
,
{
		   "cell_type": "markdown",
		   "metadata": {},
		   "source": [
			"## Example 2.8: time_interval.sce"
		   ]
		  },
  {
"cell_type": "code",
	   "execution_count": null,
	   "metadata": {
	    "collapsed": true
	   },
	   "outputs": [],
"source": [
"//Example 8// time interval\n",
"clc;\n",
"clear;\n",
"close;\n",
"q=5*10^4;//quality factor\n",
"x=1/10;//\n",
"fr=300;//second^-1\n",
"to=q/(2*%pi*fr);//second\n",
"xm=((to*log(10)));//seconds\n",
"disp(xm,'time interval is,(seconds)=')"
   ]
   }
,
{
		   "cell_type": "markdown",
		   "metadata": {},
		   "source": [
			"## Example 2.9: time.sce"
		   ]
		  },
  {
"cell_type": "code",
	   "execution_count": null,
	   "metadata": {
	    "collapsed": true
	   },
	   "outputs": [],
"source": [
"//Example 9 // Time\n",
"clc;\n",
"clear;\n",
"close;\n",
"//given data :\n",
"n=240;// in sec^-1\n",
"w=2*%pi*n;\n",
"Q=2*10^3;\n",
"tau=Q/w;\n",
"t=4*tau;\n",
"disp(t,'Time,t(s) = ')"
   ]
   }
],
"metadata": {
		  "kernelspec": {
		   "display_name": "Scilab",
		   "language": "scilab",
		   "name": "scilab"
		  },
		  "language_info": {
		   "file_extension": ".sce",
		   "help_links": [
			{
			 "text": "MetaKernel Magics",
			 "url": "https://github.com/calysto/metakernel/blob/master/metakernel/magics/README.md"
			}
		   ],
		   "mimetype": "text/x-octave",
		   "name": "scilab",
		   "version": "0.7.1"
		  }
		 },
		 "nbformat": 4,
		 "nbformat_minor": 0
}
