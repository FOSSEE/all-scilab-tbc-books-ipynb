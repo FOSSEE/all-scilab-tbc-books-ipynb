{
"cells": [
 {
		   "cell_type": "markdown",
	   "metadata": {},
	   "source": [
       "# Chapter 13: Elementary Theory of Filters"
	   ]
	},
{
		   "cell_type": "markdown",
		   "metadata": {},
		   "source": [
			"## Example 13.1: inductance_and_capacitance.sce"
		   ]
		  },
  {
"cell_type": "code",
	   "execution_count": null,
	   "metadata": {
	    "collapsed": true
	   },
	   "outputs": [],
"source": [
"//Example 1 //  design loss pass constant K-filter\n",
"clc;\n",
"clear;\n",
"close;\n",
"k=600;//ohms\n",
"fc=2500;//Hz\n",
"l=(k/(%pi*fc));//H\n",
"c=((1/(%pi*fc*k)));//farad\n",
"disp(l*10^3,'inductance is ,(mH)=')\n",
"disp(c*10^6,'capacitance is ,(micro-F)=')"
   ]
   }
,
{
		   "cell_type": "markdown",
		   "metadata": {},
		   "source": [
			"## Example 13.2: inductance_and_capacitance.sce"
		   ]
		  },
  {
"cell_type": "code",
	   "execution_count": null,
	   "metadata": {
	    "collapsed": true
	   },
	   "outputs": [],
"source": [
"//Example 2 //  T-type band pass filter\n",
"clc;\n",
"clear;\n",
"close;\n",
"//given data :\n",
"K=500;// in ohm\n",
"f1=4;// in kHz\n",
"f2=1;// in kHz\n",
"L1=K/(%pi*(f1-f2));\n",
"Ls=L1/2;\n",
"disp(Ls,'Inductance in each series arm,Ls(mH) = ')\n",
"C1=(f1-f2)*10^3/(4*%pi*K*f1*f2);\n",
"Cs=2*C1;\n",
"disp(Cs,'Capacity in each series arm,Cs(micro-F) = ')\n",
"L2=((f1-f2)*K)/(4*%pi*f1*f2);\n",
"disp(L2,'Shunt arm inductance,L2(mH) = ')\n",
"Csh=1*10^6/(%pi*(f1-f2)*10^3*K);\n",
"disp(Csh,'Capacity in shunt arm,Csh(micro-F) = ')"
   ]
   }
],
"metadata": {
		  "kernelspec": {
		   "display_name": "Scilab",
		   "language": "scilab",
		   "name": "scilab"
		  },
		  "language_info": {
		   "file_extension": ".sce",
		   "help_links": [
			{
			 "text": "MetaKernel Magics",
			 "url": "https://github.com/calysto/metakernel/blob/master/metakernel/magics/README.md"
			}
		   ],
		   "mimetype": "text/x-octave",
		   "name": "scilab",
		   "version": "0.7.1"
		  }
		 },
		 "nbformat": 4,
		 "nbformat_minor": 0
}
