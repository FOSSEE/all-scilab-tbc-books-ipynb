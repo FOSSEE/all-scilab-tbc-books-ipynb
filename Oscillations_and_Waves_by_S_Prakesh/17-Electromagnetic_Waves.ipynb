{
"cells": [
 {
		   "cell_type": "markdown",
	   "metadata": {},
	   "source": [
       "# Chapter 17: Electromagnetic Waves"
	   ]
	},
{
		   "cell_type": "markdown",
		   "metadata": {},
		   "source": [
			"## Example 17.1: poynting_vector.sce"
		   ]
		  },
  {
"cell_type": "code",
	   "execution_count": null,
	   "metadata": {
	    "collapsed": true
	   },
	   "outputs": [],
"source": [
"//Example 1 // magnitude\n",
"clc;\n",
"clear;\n",
"close;\n",
"//given data :\n",
"R=7*10^8;// in m\n",
"P=3.8*10^26;// in Watt\n",
"S=P/(4*%pi*R^2);\n",
"disp(S,'Magnitude of poynting vector,S(W/m^2) = ')"
   ]
   }
,
{
		   "cell_type": "markdown",
		   "metadata": {},
		   "source": [
			"## Example 17.2: poynting_vector.sce"
		   ]
		  },
  {
"cell_type": "code",
	   "execution_count": null,
	   "metadata": {
	    "collapsed": true
	   },
	   "outputs": [],
"source": [
"//Example 2 // Poynting vector\n",
"clc;\n",
"clear;\n",
"close;\n",
"//given data :\n",
"R=1.5*10^11;// in m\n",
"P=3.8*10^26;// in Watt\n",
"S=P/(4*%pi*R^2);// in W/m^2\n",
"Se=round(S*60/(4.2*10^4));\n",
"disp(Se,'Poynting vector,Se(cal/cm^2 -min) = ')"
   ]
   }
,
{
		   "cell_type": "markdown",
		   "metadata": {},
		   "source": [
			"## Example 17.3: amplitudes_of_electric_and_magnetic_field_radiation.sce"
		   ]
		  },
  {
"cell_type": "code",
	   "execution_count": null,
	   "metadata": {
	    "collapsed": true
	   },
	   "outputs": [],
"source": [
"//Example 3 // Amplitude and magnetic field\n",
"clc;\n",
"clear;\n",
"close;\n",
"//given data :\n",
"S=2;// in cal/cm^2- min\n",
"EH=S*4.2*10^4/60;// joule/m^2 sec\n",
"mu0=4*%pi*10^-7;\n",
"epsilon0=8.85*10^-12;\n",
"EbyH=sqrt(mu0/epsilon0);\n",
"E=sqrt(EH*EbyH);\n",
"H=EH/E;\n",
"E0=E*sqrt(2);\n",
"H0=H*sqrt(2);\n",
"disp(E,'E is ,(V/m)=')\n",
"disp(H,'H is ,(Amp-turn/m)=')\n",
"disp(E0,'Amplitude of electric fields of radiation,E0(V/m) = ')\n",
"disp(H0,'Magnetice field of radition ,H0(Amp-turn/m) = ')"
   ]
   }
,
{
		   "cell_type": "markdown",
		   "metadata": {},
		   "source": [
			"## Example 17.4: amplitudes_of_electric_and_magnetic_field_radiation.sce"
		   ]
		  },
  {
"cell_type": "code",
	   "execution_count": null,
	   "metadata": {
	    "collapsed": true
	   },
	   "outputs": [],
"source": [
"//Example 4 // electric and magnetic field\n",
"clc;\n",
"clear;\n",
"close;\n",
"//given data :\n",
"r=2;// in m\n",
"mu0=4*%pi*10^-7;\n",
"epsilon0=8.85*10^-12;\n",
"EbyH=sqrt(mu0/epsilon0);\n",
"EH=1000/(4*r^2*%pi^2);// in W/m^2\n",
"E=sqrt(EH*EbyH);\n",
"H=(EH/E);\n",
"disp(E,'Intensities of electric,E(V/m) = ')\n",
"disp(H,'Magnetic field of radiation,H(Amp-turn/m) = ')"
   ]
   }
,
{
		   "cell_type": "markdown",
		   "metadata": {},
		   "source": [
			"## Example 17.5: polarisation_degree.sce"
		   ]
		  },
  {
"cell_type": "code",
	   "execution_count": null,
	   "metadata": {
	    "collapsed": true
	   },
	   "outputs": [],
"source": [
"//Example 5 // Degree of polarization\n",
"clc;\n",
"clear;\n",
"close;\n",
"//given data :\n",
"thetai=45;// in degree\n",
"n=1.5;/// index\n",
"thetar=asind(sind(thetai)/n);\n",
"Rl=sind(thetai-thetar)^2/sind(thetai+thetar)^2;\n",
"Rp=tand(thetai-thetar)^2/tand(thetai+thetar)^2;\n",
"D=((Rl-Rp)/(Rl+Rp))*100;\n",
"disp(D,'Degree of polarization,D(%) = ')\n",
"// answer is wrong in the textbook"
   ]
   }
,
{
		   "cell_type": "markdown",
		   "metadata": {},
		   "source": [
			"## Example 17.6: frequency.sce"
		   ]
		  },
  {
"cell_type": "code",
	   "execution_count": null,
	   "metadata": {
	    "collapsed": true
	   },
	   "outputs": [],
"source": [
"//Example 6 // Frequency\n",
"clc;\n",
"clear;\n",
"close;\n",
"//given data :\n",
"del=1;// in m\n",
"mu=4*%pi*10^-7;// in H/m\n",
"sigma=4;// in siemen/m\n",
"v=1*10^-3/(%pi*del^2*mu*sigma);\n",
"disp(v,'Frequency,v(kHz) = ')"
   ]
   }
],
"metadata": {
		  "kernelspec": {
		   "display_name": "Scilab",
		   "language": "scilab",
		   "name": "scilab"
		  },
		  "language_info": {
		   "file_extension": ".sce",
		   "help_links": [
			{
			 "text": "MetaKernel Magics",
			 "url": "https://github.com/calysto/metakernel/blob/master/metakernel/magics/README.md"
			}
		   ],
		   "mimetype": "text/x-octave",
		   "name": "scilab",
		   "version": "0.7.1"
		  }
		 },
		 "nbformat": 4,
		 "nbformat_minor": 0
}
