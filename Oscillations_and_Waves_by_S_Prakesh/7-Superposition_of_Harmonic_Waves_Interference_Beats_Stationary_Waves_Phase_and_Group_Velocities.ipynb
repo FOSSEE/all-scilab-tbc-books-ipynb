{
"cells": [
 {
		   "cell_type": "markdown",
	   "metadata": {},
	   "source": [
       "# Chapter 7: Superposition of Harmonic Waves Interference Beats Stationary Waves Phase and Group Velocities"
	   ]
	},
{
		   "cell_type": "markdown",
		   "metadata": {},
		   "source": [
			"## Example 7.10: frequency.sce"
		   ]
		  },
  {
"cell_type": "code",
	   "execution_count": null,
	   "metadata": {
	    "collapsed": true
	   },
	   "outputs": [],
"source": [
"//Example 10 //  Frequency\n",
"clc;\n",
"clear;\n",
"close\n",
"b1=10;//beats per second\n",
"f1=300;//Hz\n",
"b2=15;//beats per second\n",
"f2=325;//Hz\n",
"n1=f1-b1;//Hz\n",
"n2=f1+b1;//Hz\n",
"n3=f2-b2;//Hz\n",
"n4=f2+b2;//Hz\n",
"disp(n2,'frequency is,(Hz)=')"
   ]
   }
,
{
		   "cell_type": "markdown",
		   "metadata": {},
		   "source": [
			"## Example 7.11: velocity.sce"
		   ]
		  },
  {
"cell_type": "code",
	   "execution_count": null,
	   "metadata": {
	    "collapsed": true
	   },
	   "outputs": [],
"source": [
"//Example 11 //  Velocity of sound\n",
"clc;\n",
"clear;\n",
"close;\n",
"//given data :\n",
"lamda1=5;// in m\n",
"lamda2=5.5;// in m\n",
"a=6;// beats/sec\n",
"v=a/((lamda2-lamda1)/(lamda1*lamda2));\n",
"disp(v,'The velocity of sound,v(m/s) = ')"
   ]
   }
,
{
		   "cell_type": "markdown",
		   "metadata": {},
		   "source": [
			"## Example 7.12: frequency.sce"
		   ]
		  },
  {
"cell_type": "code",
	   "execution_count": null,
	   "metadata": {
	    "collapsed": true
	   },
	   "outputs": [],
"source": [
"//Example 12 //  Frequency\n",
"clc;\n",
"clear;\n",
"close\n",
"b1=5;//beats per second\n",
"fr=384;//Hz\n",
"fo=fr-b1;//Hz\n",
"disp(fo,'frequency is,(Hz)=')"
   ]
   }
,
{
		   "cell_type": "markdown",
		   "metadata": {},
		   "source": [
			"## Example 7.13: frequency.sce"
		   ]
		  },
  {
"cell_type": "code",
	   "execution_count": null,
	   "metadata": {
	    "collapsed": true
	   },
	   "outputs": [],
"source": [
"//Example 13 //  Frequency\n",
"clc;\n",
"clear;\n",
"close\n",
"b1=4;//beats per second\n",
"fr=256;//Hz\n",
"fo=fr+b1;//Hz\n",
"disp(fo,'frequency is,(Hz)=')"
   ]
   }
,
{
		   "cell_type": "markdown",
		   "metadata": {},
		   "source": [
			"## Example 7.18: frequency_wavelength_velocity_and_amlitude.sce"
		   ]
		  },
  {
"cell_type": "code",
	   "execution_count": null,
	   "metadata": {
	    "collapsed": true
	   },
	   "outputs": [],
"source": [
"//Example 18 //Frequency,wavelength, velocity and amplitude\n",
"clc;\n",
"clear;\n",
"close;\n",
"//given data :\n",
"a=6;// in cm\n",
"lamda=10;// in cm\n",
"T=1/10;// in sec\n",
"disp(lamda,'Wavelength of progressive wave,(cm) = ')\n",
"n=1/T;\n",
"disp(n,'Frequency of progressive wave,n(per sec)')\n",
"v=n*lamda;\n",
"disp(v,'The velocity,v(cm/s) = ')\n",
"disp(a,'The amplitude,a(cm) = ')"
   ]
   }
,
{
		   "cell_type": "markdown",
		   "metadata": {},
		   "source": [
			"## Example 7.1: ratio.sce"
		   ]
		  },
  {
"cell_type": "code",
	   "execution_count": null,
	   "metadata": {
	    "collapsed": true
	   },
	   "outputs": [],
"source": [
"//Example 1 //  ratio\n",
"clc;\n",
"clear;\n",
"close;\n",
"ri=9/16;//ratio of intensities\n",
"ra=sqrt(ri);//ratio of amplitude\n",
"a1=1;//assume\n",
"a2=ra*a1;//\n",
"rim=(a1+a2)^2/(a1-a2)^2;//\n",
"disp('ratio of  maximum intensity and minimum intensity in fringe system is '+string(rim)+':'+string(a1)+'')"
   ]
   }
,
{
		   "cell_type": "markdown",
		   "metadata": {},
		   "source": [
			"## Example 7.24: group_velocity.sce"
		   ]
		  },
  {
"cell_type": "code",
	   "execution_count": null,
	   "metadata": {
	    "collapsed": true
	   },
	   "outputs": [],
"source": [
"//Example 24 //Velocity\n",
"clc;\n",
"clear;\n",
"close;\n",
"//given data :\n",
"c=3*10^8;// in m/s\n",
"lamda1=4000;// in Angustrom\n",
"lamda2=5000;// in Aungustrom\n",
"mu1=1.540;\n",
"mu2=1.530;\n",
"vg=c*((mu1*lamda1)-(mu2*lamda2))/(mu1*mu2*(lamda1-lamda2));\n",
"disp(vg,'The velocity,vg(m/s) = ')"
   ]
   }
,
{
		   "cell_type": "markdown",
		   "metadata": {},
		   "source": [
			"## Example 7.25: group_velocity.sce"
		   ]
		  },
  {
"cell_type": "code",
	   "execution_count": null,
	   "metadata": {
	    "collapsed": true
	   },
	   "outputs": [],
"source": [
"//Example 25 //Velocity\n",
"clc;\n",
"clear;\n",
"close;\n",
"//given data :\n",
"v=1.8*10^8;// in m/s\n",
"lamda=3.6*10^-7;// in m\n",
"dv_dlamda=3.8*10^13;// in per sec\n",
"vg=v-(lamda*dv_dlamda);\n",
"disp(vg,'The group velocity,vg(m/s) = ')"
   ]
   }
,
{
		   "cell_type": "markdown",
		   "metadata": {},
		   "source": [
			"## Example 7.2: intensity.sce"
		   ]
		  },
  {
"cell_type": "code",
	   "execution_count": null,
	   "metadata": {
	    "collapsed": true
	   },
	   "outputs": [],
"source": [
"//Example 2 //  intensity\n",
"clc;\n",
"clear;\n",
"close;\n",
"I=1;//assume\n",
"a1=1*I;//\n",
"a2=4*I;//\n",
"ph1=0;//degree\n",
"i1=(a1+a2)+a2*cosd(ph1);//\n",
"disp('intensity where phase difference is zero is '+string(i1)+'*I')\n",
"ph2=90;//degree\n",
"i2=(a1+a2)+a2*cosd(ph2);//\n",
"disp('intensity where phase difference is pi/2 is '+string(i2)+'*I')\n",
"ph3=180;//degree\n",
"i3=(a1+a2)+a2*cosd(ph3);//\n",
"disp('intensity where phase difference is pi is '+string(i3)+'*I')"
   ]
   }
,
{
		   "cell_type": "markdown",
		   "metadata": {},
		   "source": [
			"## Example 7.3: wavelength_and_frequency.sce"
		   ]
		  },
  {
"cell_type": "code",
	   "execution_count": null,
	   "metadata": {
	    "collapsed": true
	   },
	   "outputs": [],
"source": [
"//Example 3 //  Wavelength and frequency\n",
"clc;\n",
"clear;\n",
"close;\n",
"//given data :\n",
"d=30;// in cm\n",
"lamda=2*d*10^-2;\n",
"v=330;// in m/s\n",
"disp(lamda,'The wavelength,(m) = ')\n",
"n=v/lamda;\n",
"disp(n,'The frequency,n(vibrations/s) = ')"
   ]
   }
,
{
		   "cell_type": "markdown",
		   "metadata": {},
		   "source": [
			"## Example 7.4: time_interval.sce"
		   ]
		  },
  {
"cell_type": "code",
	   "execution_count": null,
	   "metadata": {
	    "collapsed": true
	   },
	   "outputs": [],
"source": [
"//Example 4 //  number of beats and time interval\n",
"clc;\n",
"clear;\n",
"close;\n",
"n1=300;//Hz\n",
"n2=303;//Hz\n",
"bfs=n2-n1;//\n",
"disp(bfs,'beat frequency per second is,=')\n",
"ti=1/bfs;//second\n",
"disp(ti,'time interval is,(second)=')"
   ]
   }
,
{
		   "cell_type": "markdown",
		   "metadata": {},
		   "source": [
			"## Example 7.5: frequency.sce"
		   ]
		  },
  {
"cell_type": "code",
	   "execution_count": null,
	   "metadata": {
	    "collapsed": true
	   },
	   "outputs": [],
"source": [
"//Example 5 //  Frequency\n",
"clc;\n",
"clear;\n",
"close;\n",
"//given data :\n",
"n1=256;// in Hz\n",
"x=4;// in beats per sec\n",
"n2a=n1+x;\n",
"n2b=n1-x;\n",
"disp(n2a,'The frequency,n2a(Hz) = ')\n",
"disp(n2b,'The frequency,n2b(Hz) = ')"
   ]
   }
,
{
		   "cell_type": "markdown",
		   "metadata": {},
		   "source": [
			"## Example 7.6: frequency.sce"
		   ]
		  },
  {
"cell_type": "code",
	   "execution_count": null,
	   "metadata": {
	    "collapsed": true
	   },
	   "outputs": [],
"source": [
"//Example 6 //  Frequency\n",
"clc;\n",
"clear;\n",
"close;\n",
"//given data :\n",
"nA=256;// in Hz\n",
"x=5;// in beats per sec\n",
"nB=nA+x;\n",
"disp(nB,'The frequency,nB(Hz) = ')"
   ]
   }
,
{
		   "cell_type": "markdown",
		   "metadata": {},
		   "source": [
			"## Example 7.7: frequency.sce"
		   ]
		  },
  {
"cell_type": "code",
	   "execution_count": null,
	   "metadata": {
	    "collapsed": true
	   },
	   "outputs": [],
"source": [
"//Example 7 //  Frequency\n",
"clc;\n",
"clear;\n",
"close;\n",
"//given data :\n",
"nB=512;// in Hz\n",
"x=5;// in beats per sec\n",
"nA=nB+x;\n",
"disp(nA,'The frequency of A,nA(Hz) = ')"
   ]
   }
,
{
		   "cell_type": "markdown",
		   "metadata": {},
		   "source": [
			"## Example 7.8: velocity.sce"
		   ]
		  },
  {
"cell_type": "code",
	   "execution_count": null,
	   "metadata": {
	    "collapsed": true
	   },
	   "outputs": [],
"source": [
"//Example 8 //  Velocity of sound\n",
"clc;\n",
"clear;\n",
"close;\n",
"//given data :\n",
"lamda1=1;// in m\n",
"lamda2=1.01;// in m\n",
"a=10/3;// in beats/sec\n",
"v=a/((lamda2-lamda1)/(lamda1*lamda2));\n",
"disp(v,'The velocity of sound,v(m/s) = ')"
   ]
   }
,
{
		   "cell_type": "markdown",
		   "metadata": {},
		   "source": [
			"## Example 7.9: frequency.sce"
		   ]
		  },
  {
"cell_type": "code",
	   "execution_count": null,
	   "metadata": {
	    "collapsed": true
	   },
	   "outputs": [],
"source": [
"//Example 9 //  Frequency\n",
"clc;\n",
"clear;\n",
"close;\n",
"n=273;//\n",
"b1=4;//beats per second\n",
"b2=b1-1;//\n",
"t1=15;//degree celsius\n",
"t2=10;//degree celsius\n",
"v1510=sqrt((n+t1)/(n+t2));//\n",
"n=((b2*v1510-b1)/(1-v1510));//\n",
"disp(n,'frequency is,(Hz)=')"
   ]
   }
],
"metadata": {
		  "kernelspec": {
		   "display_name": "Scilab",
		   "language": "scilab",
		   "name": "scilab"
		  },
		  "language_info": {
		   "file_extension": ".sce",
		   "help_links": [
			{
			 "text": "MetaKernel Magics",
			 "url": "https://github.com/calysto/metakernel/blob/master/metakernel/magics/README.md"
			}
		   ],
		   "mimetype": "text/x-octave",
		   "name": "scilab",
		   "version": "0.7.1"
		  }
		 },
		 "nbformat": 4,
		 "nbformat_minor": 0
}
