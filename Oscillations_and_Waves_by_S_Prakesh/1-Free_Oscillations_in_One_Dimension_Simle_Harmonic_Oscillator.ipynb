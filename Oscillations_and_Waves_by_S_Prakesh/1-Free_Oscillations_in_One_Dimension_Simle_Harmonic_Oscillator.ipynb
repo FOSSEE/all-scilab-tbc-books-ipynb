{
"cells": [
 {
		   "cell_type": "markdown",
	   "metadata": {},
	   "source": [
       "# Chapter 1: Free Oscillations in One Dimension Simle Harmonic Oscillator"
	   ]
	},
{
		   "cell_type": "markdown",
		   "metadata": {},
		   "source": [
			"## Example 1.10: velocity.sce"
		   ]
		  },
  {
"cell_type": "code",
	   "execution_count": null,
	   "metadata": {
	    "collapsed": true
	   },
	   "outputs": [],
"source": [
"//Example 10 // ENERGY\n",
"clc;\n",
"clear;\n",
"close;\n",
"t=8/3;//seconds\n",
"v=-10*%pi*sin((35*%pi)/6)//cm\n",
"disp(v,'velocity is,(cm)=')"
   ]
   }
,
{
		   "cell_type": "markdown",
		   "metadata": {},
		   "source": [
			"## Example 1.11: frequency_energy_and_velocity.sce"
		   ]
		  },
  {
"cell_type": "code",
	   "execution_count": null,
	   "metadata": {
	    "collapsed": true
	   },
	   "outputs": [],
"source": [
"//Example 11 // \n",
"clc;\n",
"clear;\n",
"close;\n",
"//given data :\n",
"K1=3;// in N/m\n",
"K2=2;// in N/m\n",
"m=0.050;// in kg\n",
"w=sqrt((K1+K2)/m);\n",
"n=w/(2*%pi);\n",
"disp(n,'(i). The frequency,n(oscillations/sec) = ')\n",
"A=0.004;// in m\n",
"E=(1/2)*A^2*(K1+K2);\n",
"disp(E,'(ii). The energy,E(J) = ')\n",
"v=sqrt(2*E/m);\n",
"disp(v,'(iii). The velocity,v(m/s) = ')"
   ]
   }
,
{
		   "cell_type": "markdown",
		   "metadata": {},
		   "source": [
			"## Example 1.12: rotational_inertia.sce"
		   ]
		  },
  {
"cell_type": "code",
	   "execution_count": null,
	   "metadata": {
	    "collapsed": true
	   },
	   "outputs": [],
"source": [
"//Example 12 // Rotational inertia\n",
"clc;\n",
"clear;\n",
"close;\n",
"//given data :\n",
"M=0.1;// in m\n",
"l=0.1;// in m\n",
"I1=M*l^2/12;// in kg-m^2\n",
"T1=2;// in s\n",
"T2=6;// in s\n",
"I2=(I1*T2^2)/T1^2;\n",
"disp(I2,'Rotational inertia,I2(kg.m^2) = ')"
   ]
   }
,
{
		   "cell_type": "markdown",
		   "metadata": {},
		   "source": [
			"## Example 1.13: period.sce"
		   ]
		  },
  {
"cell_type": "code",
	   "execution_count": null,
	   "metadata": {
	    "collapsed": true
	   },
	   "outputs": [],
"source": [
"//Example 13 // Time period\n",
"clc;\n",
"clear;\n",
"close;\n",
"//given data :\n",
"M=4;// in kg\n",
"R=0.10;// in m\n",
"I=(2/5)*M*R^2;// in kg.m^2\n",
"C=4*10^-3;// in Nm/radian\n",
"T=2*%pi*sqrt(I/C);\n",
"disp(T,'Time period,T(s) = ')\n",
"// answer is wrong in textbook"
   ]
   }
,
{
		   "cell_type": "markdown",
		   "metadata": {},
		   "source": [
			"## Example 1.15: frequency_and_energy.sce"
		   ]
		  },
  {
"cell_type": "code",
	   "execution_count": null,
	   "metadata": {
	    "collapsed": true
	   },
	   "outputs": [],
"source": [
"//Example 15 // Energy\n",
"clc;\n",
"clear;\n",
"close;\n",
"//given data :\n",
"L=10*10^-3;// in H\n",
"C=20*10^-6;// in F\n",
"n=1/(2*%pi*sqrt(L*C));\n",
"V=10;//in V\n",
"U=(1/2)*C*V^2;\n",
"disp(n,'Frequency,n(cycles/s) = ')\n",
"disp(U,'Energy of oscillations,U(J) = ')\n",
"//answer of frequency is calculated wrong in textbook"
   ]
   }
,
{
		   "cell_type": "markdown",
		   "metadata": {},
		   "source": [
			"## Example 1.16: distance_binding_energy_and_force_constant.sce"
		   ]
		  },
  {
"cell_type": "code",
	   "execution_count": null,
	   "metadata": {
	    "collapsed": true
	   },
	   "outputs": [],
"source": [
"//Example 16 // distance,binding energy and force constant\n",
"clc;\n",
"clear;\n",
"close;\n",
"disp('equilibrium inter-nuclear distance correspondes to lowest potential enegy is ro= 2*Å')\n",
"pet=0;//eV\n",
"peb=-4;//eV\n",
"be=pet-peb;//eV\n",
"x1=-2;//eV\n",
"x2=-4;//eV\n",
"V=x1-x2;//eV\n",
"e=1.6*10^-19;//electronic charge\n",
"x=0.5;//armstrong\n",
"K=((2*V)/x^2);//eV/Å^2\n",
"k1=(K*e)/(10^-10)^2;//joule/m^2\n",
"disp(be,'binding energy is ,(eV)=')\n",
"disp(k1,'force constant is ,(newton/metre)=')"
   ]
   }
,
{
		   "cell_type": "markdown",
		   "metadata": {},
		   "source": [
			"## Example 1.17: possible_values_of_r_and_energy.sce"
		   ]
		  },
  {
"cell_type": "code",
	   "execution_count": null,
	   "metadata": {
	    "collapsed": true
	   },
	   "outputs": [],
"source": [
"//Example 17 // possible values and energy\n",
"clc;\n",
"clear;\n",
"close;\n",
"r1=2;//from graph\n",
"r2=4.5;//units from graph\n",
"disp('possible values of r are '+string(r1)+' units and '+string(r2)+' units')\n",
"osc=1-(-2.5);//units\n",
"disp('maximum energy of oscillations for r=2 units is '+string(osc)+' units ')\n",
"osc1=0.5-(-1);//units\n",
"disp('maximum energy of oscillations for r=4.5 units is '+string(osc1)+' units ')\n",
"t=1;//from graph\n",
"v=0;//from graph\n",
"e=t+v;//\n",
"disp(e,'total energy is,(unit)=')\n",
"disp('at infinity V = '+string(v)+' therefore T = '+string(t)+' unit ')"
   ]
   }
,
{
		   "cell_type": "markdown",
		   "metadata": {},
		   "source": [
			"## Example 1.19: frequency_and_moment_of_inertia.sce"
		   ]
		  },
  {
"cell_type": "code",
	   "execution_count": null,
	   "metadata": {
	    "collapsed": true
	   },
	   "outputs": [],
"source": [
"//Example 19 // Frequency\n",
"clc;\n",
"clear;\n",
"close;\n",
"//given data :\n",
"m1=10;// in g\n",
"m2=90;// in g\n",
"K=10^3;// in N/m\n",
"mu=m1*m2*10^-3/(m1+m2);\n",
"n=round(sqrt(K/mu)/(2*%pi));\n",
"disp(n,' The frequency,n(oscillations/sec) = ')\n",
"x1=0;//\n",
"x2=10;//cm\n",
"xb=((m1*x1+m2*x2)/(m1+m2));//cm\n",
"mo=(m1*10^-3)*(xb*10^-2)^2+(m2*10^-3)*(1*10^-2)^2;//\n",
"disp(mo,'moment of inertia is ,(kg-m^2)=')"
   ]
   }
,
{
		   "cell_type": "markdown",
		   "metadata": {},
		   "source": [
			"## Example 1.1: frequency_and_time_period.sce"
		   ]
		  },
  {
"cell_type": "code",
	   "execution_count": null,
	   "metadata": {
	    "collapsed": true
	   },
	   "outputs": [],
"source": [
"//Example 1 //  FREQUENCY AND TIME PERIOD\n",
"clc;\n",
"clear;\n",
"close;\n",
"format('v',6)\n",
"//ph=50*x^2+100 in joule/kg\n",
"m=10;//mass in kg\n",
"f=10^3/m;//joule/kg\n",
"w=sqrt(f);//oscillations\n",
"fr=w/(2*%pi);//oscillations/sec\n",
"tp=1/fr;//seconds\n",
"disp(fr,'frequency of oscillation is ,(oscillations/seconds)=')\n",
"disp(tp,'time period is,(seconds)=')"
   ]
   }
,
{
		   "cell_type": "markdown",
		   "metadata": {},
		   "source": [
			"## Example 1.20: frequency_and_amlitude.sce"
		   ]
		  },
  {
"cell_type": "code",
	   "execution_count": null,
	   "metadata": {
	    "collapsed": true
	   },
	   "outputs": [],
"source": [
"//Example 20 // frequency and amplitude\n",
"clc;\n",
"clear;\n",
"close;\n",
"c=10^-4;//N-m\n",
"m1=9;//gm\n",
"m2=1;//gm\n",
"mu=((m1*m2)/(m1+m2))*10^-3;//kg\n",
"r=20;//cm\n",
"I=mu*(r*10^-2)^2;//kg-m^2\n",
"fr=((1/(2*%pi))*sqrt(c/I));//vibrations/sec\n",
"disp(fr,'frequency of vibration is ,(vibrations/s)=')\n",
"e=10^-2;//joule\n",
"thmax=sqrt((2*e)/c);//radians\n",
"disp(thmax,'amplitude is,(radians)=')"
   ]
   }
,
{
		   "cell_type": "markdown",
		   "metadata": {},
		   "source": [
			"## Example 1.21: frequency_energy_and_velocity.sce"
		   ]
		  },
  {
"cell_type": "code",
	   "execution_count": null,
	   "metadata": {
	    "collapsed": true
	   },
	   "outputs": [],
"source": [
"//Example 21 // frequency ,energy and maximum velocity\n",
"clc;\n",
"clear;\n",
"close;\n",
"c=1;//N-m \n",
"m1=6;//gm\n",
"m2=2;//gm\n",
"mu=((m1*m2)/(m1+m2))*10^-3;//kg\n",
"fr=((1/(2*%pi))*sqrt(c/mu));//vibrations/sec\n",
"disp(fr,'frequency of oscillations is ,(vibrations/s)=')\n",
"td= 1+(1/3);//cm\n",
"e=((1/2)*c*(td*10^-2)^2);//joule\n",
"disp(e,'energy is,(joule)=')\n",
"y=((1/2)*m2*10^-3)+((1/2)*(1/3)^2*m1*10^-3);//\n",
"v1=sqrt((e/y));//m/sec\n",
"disp(v1,'maximum velocity of smaller mass is,(m/seconds)=')\n",
"//velocity is calculated wrong in the book"
   ]
   }
,
{
		   "cell_type": "markdown",
		   "metadata": {},
		   "source": [
			"## Example 1.22: frequency.sce"
		   ]
		  },
  {
"cell_type": "code",
	   "execution_count": null,
	   "metadata": {
	    "collapsed": true
	   },
	   "outputs": [],
"source": [
"//Example 22 // frequency\n",
"clc;\n",
"clear;\n",
"close;\n",
"k=100;//N/m\n",
"m=100;//gm\n",
"n1=((1/(2*%pi))*sqrt(k/(m*10^-3)));//sec^-1\n",
"m1=100;//gm\n",
"m2=200;//gm\n",
"mu=((m1*m2)/(m1+m2))*10^-3;//kg\n",
"fr=((1/(2*%pi))*sqrt(k/mu));//sec^-1\n",
"disp(n1,'in first case frequency is,(sec^-1)=')\n",
"disp(fr,'in second case frequency is,(sec^-1)=')"
   ]
   }
,
{
		   "cell_type": "markdown",
		   "metadata": {},
		   "source": [
			"## Example 1.23: force_constant_and_work_done.sce"
		   ]
		  },
  {
"cell_type": "code",
	   "execution_count": null,
	   "metadata": {
	    "collapsed": true
	   },
	   "outputs": [],
"source": [
"//Example 23 // force constant and work done\n",
"clc;\n",
"clear;\n",
"close;\n",
"m1=1;//assume\n",
"m2=19;//assume\n",
"mh=1.66*10^-27;//kg\n",
"mu=((m1*m2)/(m1+m2))*mh;//kg\n",
"w=7.55*10^14;//radians/sec\n",
"k=mu*(w)^2;//N/m\n",
"disp(k,'force constant is,(N/m)=')\n",
"x=0.5;//arngstrom\n",
"wh=((1/2)*k*(x*10^-10)^2);//joule\n",
"disp(wh,'work done is ,(joule)=')"
   ]
   }
,
{
		   "cell_type": "markdown",
		   "metadata": {},
		   "source": [
			"## Example 1.24: frequency.sce"
		   ]
		  },
  {
"cell_type": "code",
	   "execution_count": null,
	   "metadata": {
	    "collapsed": true
	   },
	   "outputs": [],
"source": [
"//Example 24 // frequency\n",
"clc;\n",
"clear;\n",
"close;\n",
"m1=1;//a.m.u\n",
"m2=35;//a.m.u\n",
"mu1=((m1*m2)/(m1+m2));//a.m.u\n",
"m3=2;//\n",
"mu2=((m3*m2)/(m3+m2));//a.m.u\n",
"n1=8.99*10^13;//cycle/sec\n",
"n2=(sqrt(mu1/mu2))*n1;//c/s\n",
"disp(n2,'frequecy of vibrations is ,(c/s)=')"
   ]
   }
,
{
		   "cell_type": "markdown",
		   "metadata": {},
		   "source": [
			"## Example 1.3: total_energy.sce"
		   ]
		  },
  {
"cell_type": "code",
	   "execution_count": null,
	   "metadata": {
	    "collapsed": true
	   },
	   "outputs": [],
"source": [
"//Example 3 // ENERGY\n",
"clc;\n",
"clear;\n",
"close;\n",
"ke=5;//joule\n",
"pe=5;//joule\n",
"rep=10;//joule\n",
"eo=rep+ke+pe;//joule\n",
"disp(eo,'energy of the oscillator is,(joule)=')"
   ]
   }
,
{
		   "cell_type": "markdown",
		   "metadata": {},
		   "source": [
			"## Example 1.4: velocity_and_acceleration.sce"
		   ]
		  },
  {
"cell_type": "code",
	   "execution_count": null,
	   "metadata": {
	    "collapsed": true
	   },
	   "outputs": [],
"source": [
"//Example 4 //  peroid ,maximum velocity and acceleration\n",
"clc;\n",
"clear;\n",
"close;\n",
"a=3;//cm\n",
"b=4;//cm\n",
"A=sqrt(a^2+b^2);//cm\n",
"w=2;//sec^-1\n",
"T=(2*%pi)/w;//seconds\n",
"um=w*A;//cm/s\n",
"am=w^2*A;//cm/s^2\n",
"disp(T,'time period is ,(seconds)=')\n",
"disp(um,'maximum velocity is,(cm/s)=')\n",
"disp(am,'maximum acceleration is,(cm/s^2)=')"
   ]
   }
,
{
		   "cell_type": "markdown",
		   "metadata": {},
		   "source": [
			"## Example 1.5: velocity_and_acceleration.sce"
		   ]
		  },
  {
"cell_type": "code",
	   "execution_count": null,
	   "metadata": {
	    "collapsed": true
	   },
	   "outputs": [],
"source": [
"//Example 5 // maximum velocity and acceleration\n",
"clc;\n",
"clear;\n",
"close;\n",
"A=5;//cm\n",
"T=31.4//seconds\n",
"w=(2*%pi)/T;//sec^-1\n",
"um=w*A;//cm/s\n",
"am=w^2*A;//cm/s^2\n",
"disp(um,'maximum velocity is,(cm/s)=')\n",
"disp(am,'maximum acceleration is,(cm/s^2)=')"
   ]
   }
,
{
		   "cell_type": "markdown",
		   "metadata": {},
		   "source": [
			"## Example 1.6: period.sce"
		   ]
		  },
  {
"cell_type": "code",
	   "execution_count": null,
	   "metadata": {
	    "collapsed": true
	   },
	   "outputs": [],
"source": [
"//Example 6 //  Period \n",
"clc;\n",
"clear;\n",
"close;\n",
"//given data :\n",
"g=9.8;// constant\n",
"l=1;// in m\n",
"theta_m1=60;// in degree\n",
"theta_m=%pi/3;// in radians\n",
"T0=round(2*%pi*sqrt(l/g));\n",
"disp(T0,'(a). Time period for small displacement,T0(seconds) = ')\n",
"T=T0*(1+(theta_m^2/16));\n",
"disp(T,'(b).Time period,T(seconds) = ')"
   ]
   }
,
{
		   "cell_type": "markdown",
		   "metadata": {},
		   "source": [
			"## Example 1.7: energy.sce"
		   ]
		  },
  {
"cell_type": "code",
	   "execution_count": null,
	   "metadata": {
	    "collapsed": true
	   },
	   "outputs": [],
"source": [
"//Example 7 // ENERGY\n",
"clc;\n",
"clear;\n",
"close;\n",
"es=1;//joule\n",
"l=2;//metre\n",
"am=3;//cm\n",
"am1=5;//cm\n",
"e1=(am1^2/am^2)*es;//joules\n",
"l2=1;//meter\n",
"e2=(l/l2)*es;//joules\n",
"disp(e1,'energy in first case is,(joules)=')\n",
"disp(e2,'energy in second case is,(joules)= ')"
   ]
   }
,
{
		   "cell_type": "markdown",
		   "metadata": {},
		   "source": [
			"## Example 1.8: period_of_motio.sce"
		   ]
		  },
  {
"cell_type": "code",
	   "execution_count": null,
	   "metadata": {
	    "collapsed": true
	   },
	   "outputs": [],
"source": [
"//Example 8 //  Period of motion\n",
"clc;\n",
"clear;\n",
"close;\n",
"//given data :\n",
"x=0.16;// in m\n",
"m1=4;// in kg\n",
"g=9.8;\n",
"K=m1*g/x;\n",
"m=0.50;// in kg\n",
"T=2*%pi*sqrt(m/K);// \n",
"disp(T,'The period of motion ,T(seconds) = ')\n",
"// answer is wrong in textbook"
   ]
   }
,
{
		   "cell_type": "markdown",
		   "metadata": {},
		   "source": [
			"## Example 1.9: force_constant_period_of_oscillation_amlitude_and_energy.sce"
		   ]
		  },
  {
"cell_type": "code",
	   "execution_count": null,
	   "metadata": {
	    "collapsed": true
	   },
	   "outputs": [],
"source": [
"//Example 9 //foce constant,displacement , acceleration and energy\n",
"clc;\n",
"clear;\n",
"close;\n",
"//given data :\n",
"x1=.10;// in m\n",
"F1=4;// in N\n",
"K=F1/x1;\n",
"x2=0.12;// in m\n",
"disp(K,'(a). The force constant,K(N/m) = ')\n",
"F=-K*x2;\n",
"disp(F,'(b). The force,F(N) = ')\n",
"m=1.6;// in kg\n",
"T=2*%pi*sqrt(m/K);\n",
"disp(T,'(c). Period of pscillation,T(s) = ')\n",
"A=x2;\n",
"disp(A,'(d). Amplitude of motion,A(m) = ')\n",
"alfa=A*K/m;\n",
"disp(alfa,'(e). Maximum acceleration,alfa(m/s^2) = ')\n",
"x=A/2;// in m\n",
"w=sqrt(K/m);\n",
"v=w*sqrt(A^2-x^2);\n",
"a=w^2*x;// in m/s^2\n",
"KE=(1/2)*m*v^2;// in J\n",
"PE=(1/2)*K*x^2;// in J\n",
"TE=KE+PE;\n",
"disp(v,'(f) velocity is,(m/s) ')\n",
"disp(a,'(f). acceleration,(m/s^2) = ')\n",
"disp(KE,'(f) Kinetic energy is ,(J)=')\n",
"disp(PE,'(f) Potential energy is ,(J)=')\n",
"disp(TE,'(g). Total energy of the oscillating system,TE(J) = ')\n",
"// in textbook part f is inculded in the part e so their is the numbeing error in parts"
   ]
   }
],
"metadata": {
		  "kernelspec": {
		   "display_name": "Scilab",
		   "language": "scilab",
		   "name": "scilab"
		  },
		  "language_info": {
		   "file_extension": ".sce",
		   "help_links": [
			{
			 "text": "MetaKernel Magics",
			 "url": "https://github.com/calysto/metakernel/blob/master/metakernel/magics/README.md"
			}
		   ],
		   "mimetype": "text/x-octave",
		   "name": "scilab",
		   "version": "0.7.1"
		  }
		 },
		 "nbformat": 4,
		 "nbformat_minor": 0
}
