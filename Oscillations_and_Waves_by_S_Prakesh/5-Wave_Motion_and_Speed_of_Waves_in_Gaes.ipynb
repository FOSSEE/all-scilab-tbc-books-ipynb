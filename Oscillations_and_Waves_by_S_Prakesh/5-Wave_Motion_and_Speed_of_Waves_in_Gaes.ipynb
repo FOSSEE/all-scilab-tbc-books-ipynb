{
"cells": [
 {
		   "cell_type": "markdown",
	   "metadata": {},
	   "source": [
       "# Chapter 5: Wave Motion and Speed of Waves in Gaes"
	   ]
	},
{
		   "cell_type": "markdown",
		   "metadata": {},
		   "source": [
			"## Example 5.10: wave_intensity.sce"
		   ]
		  },
  {
"cell_type": "code",
	   "execution_count": null,
	   "metadata": {
	    "collapsed": true
	   },
	   "outputs": [],
"source": [
"//Example 10 //wave intensity\n",
"clc;\n",
"clear;\n",
"close;\n",
"nt=1;//watt source\n",
"r=1;//n\n",
"is=(nt/(4*%pi*r^2));// joule/sec-m^2\n",
"disp(is,'intensity on the surface is ,(joule/sec-m^2)=')"
   ]
   }
,
{
		   "cell_type": "markdown",
		   "metadata": {},
		   "source": [
			"## Example 5.14: energy_flux.sce"
		   ]
		  },
  {
"cell_type": "code",
	   "execution_count": null,
	   "metadata": {
	    "collapsed": true
	   },
	   "outputs": [],
"source": [
"//Example 14 // Energy flux \n",
"clc;\n",
"clear;\n",
"close;\n",
"//given data :\n",
"A=.10;// in m\n",
"w=4;// in per sec\n",
"k=0.1;// in per cm\n",
"p=1.25*10^3;// in kg/m^3\n",
"v=w*10^-2/k;// in m/s\n",
"n=w/(2*%pi);\n",
"Ef=2*%pi^2*n^2*A^2*p*v;\n",
"disp(Ef,'Energy flux of the wave,Ef(W/m^2) = ')"
   ]
   }
,
{
		   "cell_type": "markdown",
		   "metadata": {},
		   "source": [
			"## Example 5.15: energy.sce"
		   ]
		  },
  {
"cell_type": "code",
	   "execution_count": null,
	   "metadata": {
	    "collapsed": true
	   },
	   "outputs": [],
"source": [
"//Example 15 // Energy radiated and energy current\n",
"clc;\n",
"clear;\n",
"close;\n",
"//given data :\n",
"p=1.29;// in kg/m^3\n",
"a=.15*10^-2;// in m/s\n",
"n=76;// in Hz\n",
"E=2*%pi^2*n^2*a^2*p;\n",
"disp(E,'(a). Energy radiated,E(J/m^3) = ')\n",
"v=332;// in m/s\n",
"Ev=E*v;\n",
"disp(Ev,'(b). The energy  current,Ev(W/s) = ')\n",
"// energy current is calculated wrong in the textbook"
   ]
   }
,
{
		   "cell_type": "markdown",
		   "metadata": {},
		   "source": [
			"## Example 5.16: pressure_amplitude_energy_density_and_energy_flux.sce"
		   ]
		  },
  {
"cell_type": "code",
	   "execution_count": null,
	   "metadata": {
	    "collapsed": true
	   },
	   "outputs": [],
"source": [
"//Example 16 // Pressure amplitude, Energy density and energy flux\n",
"clc;\n",
"clear;\n",
"close;\n",
"//given data :\n",
"a=10^-5;// in m\n",
"n=500;// in per sec\n",
"p=1.29;// in kg/m^3\n",
"v=340;// in m/s\n",
"Pa=2*%pi*a*n*v*p;\n",
"disp(Pa,'(i).Pressure amplitude,Pa(N/m^2) = ')\n",
"Ed=2*%pi^2*a^2*n^2*p;\n",
"disp(Ed,'(ii). Energy density,Ed(J/m^3) = ')\n",
"Ef=2*%pi^2*a^2*n^2*p*v;\n",
"disp(Ef,'(iii). The energy flux,Ef(J/m^2-s) = ')"
   ]
   }
,
{
		   "cell_type": "markdown",
		   "metadata": {},
		   "source": [
			"## Example 5.17: pressure.sce"
		   ]
		  },
  {
"cell_type": "code",
	   "execution_count": null,
	   "metadata": {
	    "collapsed": true
	   },
	   "outputs": [],
"source": [
"//Example 17 // Pressure \n",
"clc;\n",
"clear;\n",
"close;\n",
"//given data :\n",
"gama=1.4;\n",
"u=10^-3;// in m/s\n",
"v=340;// in m/s\n",
"P=10^5;// in N/m^2\n",
"p=gama*P*u/v;\n",
"disp(p,'The pressure,p(N/m^2) = ')"
   ]
   }
,
{
		   "cell_type": "markdown",
		   "metadata": {},
		   "source": [
			"## Example 5.18: speed_of_sound.sce"
		   ]
		  },
  {
"cell_type": "code",
	   "execution_count": null,
	   "metadata": {
	    "collapsed": true
	   },
	   "outputs": [],
"source": [
"//Example 18 //speed\n",
"clc;\n",
"clear;\n",
"close;\n",
"sa=332;//m/s\n",
"pa=16;//density of air\n",
"ph=1;//density of hydrogen\n",
"vn=sa*sqrt(pa/ph);//m/s\n",
"t1=0;//degree celsius\n",
"t2=546;//degree celsius\n",
"t1k=0+273;//kelvin\n",
"t2k=t2+273;//kelvin\n",
"v2=vn*sqrt(t2k/t1k);//m/s\n",
"disp(vn,'speed of sound in first case is ,(m/s)=')\n",
"disp(v2,'speed of sound in second case is,(m/s)=')"
   ]
   }
,
{
		   "cell_type": "markdown",
		   "metadata": {},
		   "source": [
			"## Example 5.19: temperature.sce"
		   ]
		  },
  {
"cell_type": "code",
	   "execution_count": null,
	   "metadata": {
	    "collapsed": true
	   },
	   "outputs": [],
"source": [
"//Example 19 //temperature\n",
"clc;\n",
"clear;\n",
"close;\n",
"t1=0;//degree celsius\n",
"t1k=t1+273;//kelvin\n",
"rt=2;//\n",
"tk=rt^2*t1k;//Kelvin\n",
"t=tk-273;//degree celsius\n",
"disp(t,'temperature is ,(degree-celsius)=')"
   ]
   }
,
{
		   "cell_type": "markdown",
		   "metadata": {},
		   "source": [
			"## Example 5.1: wavelength.sce"
		   ]
		  },
  {
"cell_type": "code",
	   "execution_count": null,
	   "metadata": {
	    "collapsed": true
	   },
	   "outputs": [],
"source": [
"//Example 1 // wavelength\n",
"clc;\n",
"clear;\n",
"close;\n",
"//given data :\n",
"v=960;// in m/s\n",
"n=3600/60;// in per sec\n",
"lamda=v/n;\n",
"disp(lamda,'The wavelength,lamda(m) = ')"
   ]
   }
,
{
		   "cell_type": "markdown",
		   "metadata": {},
		   "source": [
			"## Example 5.20: temperature.sce"
		   ]
		  },
  {
"cell_type": "code",
	   "execution_count": null,
	   "metadata": {
	    "collapsed": true
	   },
	   "outputs": [],
"source": [
"//Example 20 //temperature\n",
"clc;\n",
"clear;\n",
"close;\n",
"rtd=16/14;//ratio of densities\n",
"tk=15+273;//degree celsius\n",
"x=(tk*rtd)-273;//degree celsius\n",
"disp(x,'temperature is ,(degree-celsius)=')"
   ]
   }
,
{
		   "cell_type": "markdown",
		   "metadata": {},
		   "source": [
			"## Example 5.21: speed_of_sound_in_nitrogen.sce"
		   ]
		  },
  {
"cell_type": "code",
	   "execution_count": null,
	   "metadata": {
	    "collapsed": true
	   },
	   "outputs": [],
"source": [
"//Example 21 //speed\n",
"clc;\n",
"clear;\n",
"close;\n",
"rt=4/1;//\n",
"ss=332;//m/s\n",
"rd=32/28;//ratio of densities\n",
"rt1=((1+(1/rt)*rd)/(1+(1/rt)));//\n",
"v1=ss*sqrt(rt1);//m/s\n",
"disp(v1,'speed of sound in nitrogen is,(m/s)=')"
   ]
   }
,
{
		   "cell_type": "markdown",
		   "metadata": {},
		   "source": [
			"## Example 5.22: RMS_velocity.sce"
		   ]
		  },
  {
"cell_type": "code",
	   "execution_count": null,
	   "metadata": {
	    "collapsed": true
	   },
	   "outputs": [],
"source": [
"//Example 22 //speed\n",
"clc;\n",
"clear;\n",
"close;\n",
"gm=1.41;//\n",
"vs=330;//m/s\n",
"vrms=sqrt(3/gm)*vs;//m/s\n",
"disp(vrms,'root mean square velocity of molecules of a gas is ,(m/s)=')"
   ]
   }
,
{
		   "cell_type": "markdown",
		   "metadata": {},
		   "source": [
			"## Example 5.2: frequency.sce"
		   ]
		  },
  {
"cell_type": "code",
	   "execution_count": null,
	   "metadata": {
	    "collapsed": true
	   },
	   "outputs": [],
"source": [
"//Example 2 // Frequency\n",
"clc;\n",
"clear;\n",
"close;\n",
"//given data :\n",
"c=3*10^8;// in m/s\n",
"lamda=300;// in m\n",
"n=c*10^-6/lamda;\n",
"disp(n,'The frequency,n(MHz) = ')"
   ]
   }
,
{
		   "cell_type": "markdown",
		   "metadata": {},
		   "source": [
			"## Example 5.3: velocity_and_direction.sce"
		   ]
		  },
  {
"cell_type": "code",
	   "execution_count": null,
	   "metadata": {
	    "collapsed": true
	   },
	   "outputs": [],
"source": [
"//Example 3 // velocity and direction\n",
"clc;\n",
"clear;\n",
"close;\n",
"//y=1.2*sin(3.5*t+0.5*x);//equation\n",
"w=3.5;//from equation\n",
"k=0.5;//from equation\n",
"v=w/k;//m/s\n",
"disp('wave velocity is '+string(v)+' m/s and direction of the wave is along negative X-axis')"
   ]
   }
,
{
		   "cell_type": "markdown",
		   "metadata": {},
		   "source": [
			"## Example 5.4: wave_equatio.sce"
		   ]
		  },
  {
"cell_type": "code",
	   "execution_count": null,
	   "metadata": {
	    "collapsed": true
	   },
	   "outputs": [],
"source": [
"//Example 4 //equation of wave propogation\n",
"clc;\n",
"clear;\n",
"close;\n",
"amp=0.02;//m\n",
"fr=110;//Hz\n",
"v=330;//m/s\n",
"w=2*%pi*fr;//s^-1\n",
"k=w/v;//constant\n",
"//y=a*sin(w*t-k*x);//refrence equation\n",
"disp('equation of wave is '+string(amp)+'*sin('+string(w)+'*t-'+string(k)+'*x)')"
   ]
   }
,
{
		   "cell_type": "markdown",
		   "metadata": {},
		   "source": [
			"## Example 5.5: path_difference.sce"
		   ]
		  },
  {
"cell_type": "code",
	   "execution_count": null,
	   "metadata": {
	    "collapsed": true
	   },
	   "outputs": [],
"source": [
"//Example 5 //path difference\n",
"clc;\n",
"clear;\n",
"close;\n",
"v=360;//m/s\n",
"fr=500;//Hz\n",
"h=v/fr;//wavelength in metre\n",
"ang=60;//degree\n",
"angr=ang*(%pi/180);//radian\n",
"pth=(h)/(2*%pi);//metre\n",
"disp(pth,'path difference is ,(m)=')"
   ]
   }
,
{
		   "cell_type": "markdown",
		   "metadata": {},
		   "source": [
			"## Example 5.6: wavelength.sce"
		   ]
		  },
  {
"cell_type": "code",
	   "execution_count": null,
	   "metadata": {
	    "collapsed": true
	   },
	   "outputs": [],
"source": [
"//Example 6 //path difference\n",
"clc;\n",
"clear;\n",
"close;\n",
"pth=15;//cm\n",
"pd=(2*%pi)/3;//radians\n",
"h=(pth*2*%pi)/pd;//cm\n",
"disp(h,'wavelength is,(cm)=')"
   ]
   }
,
{
		   "cell_type": "markdown",
		   "metadata": {},
		   "source": [
			"## Example 5.8: displacement_velocity_and_acceleration.sce"
		   ]
		  },
  {
"cell_type": "code",
	   "execution_count": null,
	   "metadata": {
	    "collapsed": true
	   },
	   "outputs": [],
"source": [
"//Example 8 //displacement ,particle velocity and acceleration\n",
"clc;\n",
"clear;\n",
"close;\n",
"//y=a*sin*((2*%pi)/h)*(vt-x);//\n",
"v=1000;//cm/s\n",
"n=25;//vibrations\n",
"h=v/n;//cm\n",
"a=3;//cm\n",
"t=2;//seconds\n",
"x1=200;//cm\n",
"y=3*sind(((2*360)/h)*(v*t-x1));//\n",
"vl=2*%pi*a*n;//cm/s\n",
"acc=0;//\n",
"disp(y,'displacement is,(cm)=')\n",
"disp(vl,'velocity is,(cm/s)=')\n",
"disp(acc,'acceleration is,(cm/s^2)=')"
   ]
   }
,
{
		   "cell_type": "markdown",
		   "metadata": {},
		   "source": [
			"## Example 5.9: amplitude_frequency_velocity_and_wavelength.sce"
		   ]
		  },
  {
"cell_type": "code",
	   "execution_count": null,
	   "metadata": {
	    "collapsed": true
	   },
	   "outputs": [],
"source": [
"//Example 9 //amplitude,frequency,velocity ,wavelength and speed\n",
"clc;\n",
"clear;\n",
"close;\n",
"//y=5*sin*(4t-0.02x);//given\n",
"a=5;//cm \n",
"h=(2*%pi)/0.02;//\n",
"v=0.02*10000;//cm/s\n",
"n=v/h;//cycles/seconds\n",
"disp(a,'amplitude is,(cm)=')\n",
"disp(n,'frequency is,(cycles/s)=')\n",
"disp(v,'velocity is,(cm/s)=')\n",
"disp(h,'wavelength is,(cm)=')\n",
"ma1x=a*4;//cm/s\n",
"disp(ma1x,'maximum speed is,(cm/s)=')"
   ]
   }
],
"metadata": {
		  "kernelspec": {
		   "display_name": "Scilab",
		   "language": "scilab",
		   "name": "scilab"
		  },
		  "language_info": {
		   "file_extension": ".sce",
		   "help_links": [
			{
			 "text": "MetaKernel Magics",
			 "url": "https://github.com/calysto/metakernel/blob/master/metakernel/magics/README.md"
			}
		   ],
		   "mimetype": "text/x-octave",
		   "name": "scilab",
		   "version": "0.7.1"
		  }
		 },
		 "nbformat": 4,
		 "nbformat_minor": 0
}
