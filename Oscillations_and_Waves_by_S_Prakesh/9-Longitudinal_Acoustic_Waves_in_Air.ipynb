{
"cells": [
 {
		   "cell_type": "markdown",
	   "metadata": {},
	   "source": [
       "# Chapter 9: Longitudinal Acoustic Waves in Air"
	   ]
	},
{
		   "cell_type": "markdown",
		   "metadata": {},
		   "source": [
			"## Example 9.10: length.sce"
		   ]
		  },
  {
"cell_type": "code",
	   "execution_count": null,
	   "metadata": {
	    "collapsed": true
	   },
	   "outputs": [],
"source": [
"//Example 10// length\n",
"clc;\n",
"clear;\n",
"close;\n",
"l1=66;//cm\n",
"v=330;//m/s\n",
"nbs=5;//beats/sec\n",
"x=(2*(v-(nbs*2*l1*10^-2))/(v*2*l1*10^-2));//\n",
"l2=1/x;//cm\n",
"disp(l2*100,'length is,(cm)=')"
   ]
   }
,
{
		   "cell_type": "markdown",
		   "metadata": {},
		   "source": [
			"## Example 9.11: fundamental_frequency_and_length.sce"
		   ]
		  },
  {
"cell_type": "code",
	   "execution_count": null,
	   "metadata": {
	    "collapsed": true
	   },
	   "outputs": [],
"source": [
"//Example 11// length\n",
"clc;\n",
"clear;\n",
"close;\n",
"f=110;//Hz\n",
"v=330;//m/s\n",
"l=v/(2*f);//m\n",
"disp(f,'fundamental frequency is,(Hz)=')\n",
"disp(l,'length is ,(m)=')"
   ]
   }
,
{
		   "cell_type": "markdown",
		   "metadata": {},
		   "source": [
			"## Example 9.12: wave_equation_frequency_amplitude_wavelength_and_distance.sce"
		   ]
		  },
  {
"cell_type": "code",
	   "execution_count": null,
	   "metadata": {
	    "collapsed": true
	   },
	   "outputs": [],
"source": [
"//Example 12// equation,frequency,amplitude ,wavelength and distance\n",
"clc;\n",
"clear;\n",
"close;\n",
"//y=6*(sin(2*%pi*x)/6)*cos(160*%pi*t);//given equation\n",
"a=3;//cm\n",
"T=(2*%pi)/(160*%pi);//sec\n",
"h=((2*%pi*6)/(2*%pi));//cm\n",
"disp('wave equation is 3*sin((160*%pi*t)+(2*%pi*x)/6)')\n",
"disp(a,'amplitude is ,(cm)=')\n",
"disp(1/T,'frequency is ,(Hz)=')\n",
"disp(h,'wavelength is,(cm)=')\n",
"db=h/2;//\n",
"disp(db,'distance between consecutive antinodes is,(cm)=')"
   ]
   }
,
{
		   "cell_type": "markdown",
		   "metadata": {},
		   "source": [
			"## Example 9.13: length_pressure_amplitude.sce"
		   ]
		  },
  {
"cell_type": "code",
	   "execution_count": null,
	   "metadata": {
	    "collapsed": true
	   },
	   "outputs": [],
"source": [
"//Example 13// length,amlitude,pressure\n",
"clc;\n",
"clear;\n",
"close;\n",
"f=440;//Hz\n",
"v=330;//m/s\n",
"l=((5*v)/(4*f))*100;//cm\n",
"disp(l,'length (L) is ,(cm)=')\n",
"ang=cos((2*%pi)/8);//\n",
"disp('maximum pressure variation is at node = ΔPo*'+string(ang)+' and minimum at antinode =0')\n",
"pmax=0;//\n",
"pmin=0;//\n",
"disp('at antinode pressure variation is Pmax= '+string(pmax)+' and Pmin= '+string(pmin)+'')"
   ]
   }
,
{
		   "cell_type": "markdown",
		   "metadata": {},
		   "source": [
			"## Example 9.1: pressure_amplitude_energy_density_and_energy_lux.sce"
		   ]
		  },
  {
"cell_type": "code",
	   "execution_count": null,
	   "metadata": {
	    "collapsed": true
	   },
	   "outputs": [],
"source": [
"//Example 1 // Pressure amplitude, Energy density and Energy flux\n",
"clc;\n",
"clear;\n",
"close;\n",
"//given data :\n",
"A=1*10^-5;// in m\n",
"n=500;// in per sec\n",
"v=340;// in m/s\n",
"p=1.29;// in kg/m^3\n",
"Pa=2*%pi*n*v*p*A;\n",
"disp(Pa,'Pressure amplitude,Pa(N/m^2) = ')\n",
"Ed=2*%pi^2*n^2*p*A^2;\n",
"disp(Ed,'Energy density,Ed(J/m^3) = ')\n",
"Ev=Ed*v;\n",
"disp(Ev,'Energy flux,Ev(J/m^2-s) = ')"
   ]
   }
,
{
		   "cell_type": "markdown",
		   "metadata": {},
		   "source": [
			"## Example 9.2: pressure.sce"
		   ]
		  },
  {
"cell_type": "code",
	   "execution_count": null,
	   "metadata": {
	    "collapsed": true
	   },
	   "outputs": [],
"source": [
"//Example 2// Pressure \n",
"clc;\n",
"clear;\n",
"close;\n",
"//given data :\n",
"gama=1.4;\n",
"u=10^-3;// in m/s\n",
"v=340;// in m/s\n",
"P=10^5;// in N/m^2\n",
"p=gama*P*u/v;\n",
"disp(p,'The pressure,p(N/m^2) = ')"
   ]
   }
,
{
		   "cell_type": "markdown",
		   "metadata": {},
		   "source": [
			"## Example 9.3: amplitude.sce"
		   ]
		  },
  {
"cell_type": "code",
	   "execution_count": null,
	   "metadata": {
	    "collapsed": true
	   },
	   "outputs": [],
"source": [
"//Example 3// The amplitude \n",
"clc;\n",
"clear;\n",
"close;\n",
"//given data :\n",
"n=350;// in Hz\n",
"v=330;// in m/s\n",
"p=1.293;// in kg/m^3\n",
"I=1*10^-6;// in W/m^2\n",
"A=sqrt(I/(2*%pi*n^2*p*v));\n",
"disp(A,'The amplitude of wave,A(m) = ')"
   ]
   }
,
{
		   "cell_type": "markdown",
		   "metadata": {},
		   "source": [
			"## Example 9.4: velocity_wavelength_and_amplitude.sce"
		   ]
		  },
  {
"cell_type": "code",
	   "execution_count": null,
	   "metadata": {
	    "collapsed": true
	   },
	   "outputs": [],
"source": [
"//Example 4// Velocity, Amplitude of pressure and particle velocity amplitude\n",
"clc;\n",
"clear;\n",
"close;\n",
"//given data :\n",
"gama=1.4;\n",
"P=1.013*10^5;\n",
"p1=1.29;// in kg/m^3\n",
"A=2.5*10^-7;// in m\n",
"v=sqrt(gama*P/p1);\n",
"disp(v,'The velocity,v(m/s) = ')\n",
"n=1000;// in Hz\n",
"lamda=v/n;\n",
"disp(lamda,'Wavelength,lamda(m) = ')\n",
"p=p1*v*2*%pi*n*A;\n",
"disp(p,'Amplitude of pressure,p(N/m^2) = ')\n",
"u=2*%pi*n*A;\n",
"disp(u,'Particle velocity amplitude,u(m/s) = ')"
   ]
   }
,
{
		   "cell_type": "markdown",
		   "metadata": {},
		   "source": [
			"## Example 9.5: BULK_MODULUS_AMPLITUDE_AND_PRESSURE_VARIATION.sce"
		   ]
		  },
  {
"cell_type": "code",
	   "execution_count": null,
	   "metadata": {
	    "collapsed": true
	   },
	   "outputs": [],
"source": [
"//Example 5// Amplitude\n",
"clc;\n",
"clear;\n",
"close;\n",
"//given data :\n",
"v=(1/3)*10^3;// in m/s\n",
"p=1.25;// in kg/m^3\n",
"E=v^2*p;\n",
"n=10^4;// in rad/sec\n",
"disp(E,'Bulk modulus of medium,E(N/m^2) = ')\n",
"I=10^-12;// in W/m^2\n",
"A=sqrt(I/(2*%pi^2*n^2*p*v));\n",
"disp(A,'Amplitude of wave,A(m ) = ')\n",
"P=sqrt(2*I*p*v);\n",
"disp(P,'Pressure amplitude,P(N/m^2) = ')\n",
"// answer A and E is wrong in textbook"
   ]
   }
,
{
		   "cell_type": "markdown",
		   "metadata": {},
		   "source": [
			"## Example 9.6: velocity.sce"
		   ]
		  },
  {
"cell_type": "code",
	   "execution_count": null,
	   "metadata": {
	    "collapsed": true
	   },
	   "outputs": [],
"source": [
"//Example 6// Root mean squre velocity\n",
"clc;\n",
"clear;\n",
"close;\n",
"//given data :\n",
"vs=330;// in m/s\n",
"gama=1.41;\n",
"c=round(sqrt(3/gama)*vs);\n",
"disp(c,'The root mean square velocity of modulus,c(m/s) = ')"
   ]
   }
,
{
		   "cell_type": "markdown",
		   "metadata": {},
		   "source": [
			"## Example 9.7: power.sce"
		   ]
		  },
  {
"cell_type": "code",
	   "execution_count": null,
	   "metadata": {
	    "collapsed": true
	   },
	   "outputs": [],
"source": [
"//Example 7// Acoustic power entering\n",
"clc;\n",
"clear;\n",
"close;\n",
"//given data :\n",
"A=1*2;// in m^2\n",
"a=80;// in dB\n",
"I0=10^-12;// in W/m^2\n",
"IbyI0=10^(80/10);\n",
"I=I0*IbyI0;\n",
"Ape=I*A;\n",
"disp(Ape,'Acoustic power entering the room,(Watt) = ')"
   ]
   }
,
{
		   "cell_type": "markdown",
		   "metadata": {},
		   "source": [
			"## Example 9.8: intensity_level.sce"
		   ]
		  },
  {
"cell_type": "code",
	   "execution_count": null,
	   "metadata": {
	    "collapsed": true
	   },
	   "outputs": [],
"source": [
"//Example 8// Acoustic intensity level\n",
"clc;\n",
"clear;\n",
"close;\n",
"//given data :\n",
"Pr=3;// in W\n",
"r=15;// in m\n",
"I=Pr/(4*%pi*r^2);// in W/m^2\n",
"I0=10^-12;// in W/m^2\n",
"L=round(10*log10(I/I0));\n",
"disp(L,'Acoustic intensity level,L(dB) = ')"
   ]
   }
,
{
		   "cell_type": "markdown",
		   "metadata": {},
		   "source": [
			"## Example 9.9: frequency.sce"
		   ]
		  },
  {
"cell_type": "code",
	   "execution_count": null,
	   "metadata": {
	    "collapsed": true
	   },
	   "outputs": [],
"source": [
"//Example 9// frequency\n",
"clc;\n",
"clear;\n",
"close;\n",
"n2=200;//second^-1\n",
"l21=2;//\n",
"f=l21*n2;//\n",
"disp(f,'frequency is,(second^-1)=')"
   ]
   }
],
"metadata": {
		  "kernelspec": {
		   "display_name": "Scilab",
		   "language": "scilab",
		   "name": "scilab"
		  },
		  "language_info": {
		   "file_extension": ".sce",
		   "help_links": [
			{
			 "text": "MetaKernel Magics",
			 "url": "https://github.com/calysto/metakernel/blob/master/metakernel/magics/README.md"
			}
		   ],
		   "mimetype": "text/x-octave",
		   "name": "scilab",
		   "version": "0.7.1"
		  }
		 },
		 "nbformat": 4,
		 "nbformat_minor": 0
}
