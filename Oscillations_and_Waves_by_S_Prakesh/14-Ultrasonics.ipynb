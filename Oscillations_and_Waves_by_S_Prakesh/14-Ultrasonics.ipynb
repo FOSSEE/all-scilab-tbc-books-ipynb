{
"cells": [
 {
		   "cell_type": "markdown",
	   "metadata": {},
	   "source": [
       "# Chapter 14: Ultrasonics"
	   ]
	},
{
		   "cell_type": "markdown",
		   "metadata": {},
		   "source": [
			"## Example 14.1: frequency.sce"
		   ]
		  },
  {
"cell_type": "code",
	   "execution_count": null,
	   "metadata": {
	    "collapsed": true
	   },
	   "outputs": [],
"source": [
"//Example 1 // Fundamental frequency\n",
"clc;\n",
"clear;\n",
"close;\n",
"//given data :\n",
"t=1.6*10^-3;// in m\n",
"lamda=2*t;// in m\n",
"v=5760;// in m/s\n",
"n1=v*10^-6/lamda;\n",
"disp(n1,'Fundamental frequency,n1(MHz) = ')"
   ]
   }
,
{
		   "cell_type": "markdown",
		   "metadata": {},
		   "source": [
			"## Example 14.2: Length.sce"
		   ]
		  },
  {
"cell_type": "code",
	   "execution_count": null,
	   "metadata": {
	    "collapsed": true
	   },
	   "outputs": [],
"source": [
"//Example 2 //  distance\n",
"clc;\n",
"clear;\n",
"close;\n",
"//given data :\n",
"th=40;//cm\n",
"t1=30;//micro-seconds\n",
"t2=80;//micro seconds\n",
"x=((2*th*10^-2*t1*10^-6)/(2*t2*10^-6))*100;//cm\n",
"disp(x,'distance is ,(cm)=')"
   ]
   }
,
{
		   "cell_type": "markdown",
		   "metadata": {},
		   "source": [
			"## Example 14.3: thickness.sce"
		   ]
		  },
  {
"cell_type": "code",
	   "execution_count": null,
	   "metadata": {
	    "collapsed": true
	   },
	   "outputs": [],
"source": [
"//Example 3 // Thickness\n",
"clc;\n",
"clear;\n",
"close;\n",
"//given data :\n",
"v=5000;// in m/s\n",
"N=50000;// in Hz\n",
"t=v/(2*N);\n",
"disp(t,'Thickness of steel plate,t(m) = ')"
   ]
   }
,
{
		   "cell_type": "markdown",
		   "metadata": {},
		   "source": [
			"## Example 14.4: capacitance.sce"
		   ]
		  },
  {
"cell_type": "code",
	   "execution_count": null,
	   "metadata": {
	    "collapsed": true
	   },
	   "outputs": [],
"source": [
"//Example 4 //  Capacitance\n",
"clc;\n",
"clear;\n",
"close;\n",
"//given data :\n",
"L=1;// in H\n",
"n=10^6;// in Hz\n",
"C=1*10^12/(4*%pi^2*n^2*L);\n",
"disp(C,'The capacitance,C(micro-F) = ')"
   ]
   }
],
"metadata": {
		  "kernelspec": {
		   "display_name": "Scilab",
		   "language": "scilab",
		   "name": "scilab"
		  },
		  "language_info": {
		   "file_extension": ".sce",
		   "help_links": [
			{
			 "text": "MetaKernel Magics",
			 "url": "https://github.com/calysto/metakernel/blob/master/metakernel/magics/README.md"
			}
		   ],
		   "mimetype": "text/x-octave",
		   "name": "scilab",
		   "version": "0.7.1"
		  }
		 },
		 "nbformat": 4,
		 "nbformat_minor": 0
}
