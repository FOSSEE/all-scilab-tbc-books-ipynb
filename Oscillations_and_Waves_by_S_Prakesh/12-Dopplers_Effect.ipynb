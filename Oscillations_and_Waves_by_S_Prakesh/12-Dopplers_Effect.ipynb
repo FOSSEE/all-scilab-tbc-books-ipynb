{
"cells": [
 {
		   "cell_type": "markdown",
	   "metadata": {},
	   "source": [
       "# Chapter 12: Dopplers Effect"
	   ]
	},
{
		   "cell_type": "markdown",
		   "metadata": {},
		   "source": [
			"## Example 12.10: frequency.sce"
		   ]
		  },
  {
"cell_type": "code",
	   "execution_count": null,
	   "metadata": {
	    "collapsed": true
	   },
	   "outputs": [],
"source": [
"//Example 10//frequency\n",
"clc;\n",
"clear;\n",
"close;\n",
"sa=1.5;//km\n",
"oa=1;//km\n",
"so=sqrt(oa^2+sa^2);//km\n",
"csd=sa/so;//\n",
"v=0.33;//km/s\n",
"n=400;//Hz\n",
"vlov=120*(1000/3600);//m/s\n",
"vs1=(1/30)*csd;//km/s\n",
"nd=((v)/(v-vs1))*n;//vibrations/sec\n",
"disp(round(nd),'apparent frequency is,(vibrations/second)=')"
   ]
   }
,
{
		   "cell_type": "markdown",
		   "metadata": {},
		   "source": [
			"## Example 12.11: frequency_and_distance.sce"
		   ]
		  },
  {
"cell_type": "code",
	   "execution_count": null,
	   "metadata": {
	    "collapsed": true
	   },
	   "outputs": [],
"source": [
"//Example 11//frequency\n",
"clc;\n",
"clear;\n",
"close;\n",
"v=1200;//km/h\n",
"w=40;//km/h\n",
"vs=40;//km/h\n",
"n=580;//Hz\n",
"nd=((v+vs)/((v+vs)-vs))*n;//Hz\n",
"disp(nd,'frequency of the whistle as heared by an observer on the hill is ,(Hz)=')\n",
"x=29/30;//km\n",
"disp(x*1000,'distance is ,(m)=')\n",
"ndd=((v-w)+vs)/((v-w))*nd;//Hz\n",
"disp(ndd,'frequency heared by driver is,(Hz)=')\n",
"//distance is calculated wrong in the textbook"
   ]
   }
,
{
		   "cell_type": "markdown",
		   "metadata": {},
		   "source": [
			"## Example 12.12: Doppler_shift_and_velocity.sce"
		   ]
		  },
  {
"cell_type": "code",
	   "execution_count": null,
	   "metadata": {
	    "collapsed": true
	   },
	   "outputs": [],
"source": [
"//Example 12//doppler shift and velocity\n",
"clc;\n",
"clear;\n",
"close;\n",
"h1=6010;//Å\n",
"h2=6000;//Å\n",
"ds=h1-h2;//Å\n",
"disp(ds,'doppler shift is ,(Å)=')\n",
"c=3*10^8;//m/s\n",
"v=((ds/h2)*c);//m/s\n",
"disp(v,'speed is ,(m/s)=')"
   ]
   }
,
{
		   "cell_type": "markdown",
		   "metadata": {},
		   "source": [
			"## Example 12.13: velocity.sce"
		   ]
		  },
  {
"cell_type": "code",
	   "execution_count": null,
	   "metadata": {
	    "collapsed": true
	   },
	   "outputs": [],
"source": [
"//Example 13//doppler shift and velocity\n",
"clc;\n",
"clear;\n",
"close;\n",
"h1=3737;//Å\n",
"h2=3700;//Å\n",
"ds=h1-h2;//Å\n",
"disp(ds,'doppler shift is ,(Å)=')\n",
"c=3*10^8;//m/s\n",
"v=((ds/h2)*c);//m/s\n",
"disp(v,'speed is ,(m/s)=')\n",
"//speed is  calculated wrong in the textbook"
   ]
   }
,
{
		   "cell_type": "markdown",
		   "metadata": {},
		   "source": [
			"## Example 12.14: speed.sce"
		   ]
		  },
  {
"cell_type": "code",
	   "execution_count": null,
	   "metadata": {
	    "collapsed": true
	   },
	   "outputs": [],
"source": [
"//Example 14//speed\n",
"clc;\n",
"clear;\n",
"close;\n",
"dv=10^3;//Hz\n",
"v=5*10^9;//Hz\n",
"c=3*10^8;//m/s\n",
"v=((dv)/(2*v))*c;//m/s\n",
"disp(v,'velocity is ,(m/s)=')"
   ]
   }
,
{
		   "cell_type": "markdown",
		   "metadata": {},
		   "source": [
			"## Example 12.1: speed.sce"
		   ]
		  },
  {
"cell_type": "code",
	   "execution_count": null,
	   "metadata": {
	    "collapsed": true
	   },
	   "outputs": [],
"source": [
"//Example 1// Speed\n",
"clc;\n",
"clear;\n",
"close;\n",
"//given data :\n",
"vl=166;//m/s\n",
"v=(2*vl);//m/s\n",
"disp(v,'speed is,(m/s)')"
   ]
   }
,
{
		   "cell_type": "markdown",
		   "metadata": {},
		   "source": [
			"## Example 12.2: frequency.sce"
		   ]
		  },
  {
"cell_type": "code",
	   "execution_count": null,
	   "metadata": {
	    "collapsed": true
	   },
	   "outputs": [],
"source": [
"//Example 2// frequency\n",
"clc;\n",
"clear;\n",
"close;\n",
"//given data :\n",
"f1=90;//vibrations/second\n",
"f2=(1+(1/10))*f1;//vibrations/s\n",
"disp(f2,'frequency is,(vibrations/s)=')"
   ]
   }
,
{
		   "cell_type": "markdown",
		   "metadata": {},
		   "source": [
			"## Example 12.3: frequency.sce"
		   ]
		  },
  {
"cell_type": "code",
	   "execution_count": null,
	   "metadata": {
	    "collapsed": true
	   },
	   "outputs": [],
"source": [
"//Example 3// frequency\n",
"clc;\n",
"clear;\n",
"close;\n",
"//given data :\n",
"N=400;//hZ\n",
"V=340;//M/S\n",
"VS=60;//M/S\n",
"N2=((V/(V-VS))*N);//Hz\n",
"disp(round(N2),'frequency when engine is approaching to the listner is,(Hz)=')\n",
"N3=((V/(V+VS))*N);//Hz\n",
"disp(N3,'frequency when engine is moving away from the listner is,(Hz)=')"
   ]
   }
,
{
		   "cell_type": "markdown",
		   "metadata": {},
		   "source": [
			"## Example 12.4: wavelength.sce"
		   ]
		  },
  {
"cell_type": "code",
	   "execution_count": null,
	   "metadata": {
	    "collapsed": true
	   },
	   "outputs": [],
"source": [
"//Example 4//WAVELENGTH\n",
"clc;\n",
"clear;\n",
"close;\n",
"x=1/5;//\n",
"h=60;//cm\n",
"h1=((1-x)*h);//cm\n",
"h2=((1+x)*h);//cm\n",
"disp(h1,'wavelength of waves in north-direction is,(cm)=')\n",
"disp(h2,'wavelength of waves in south-direction is,(cm)=')"
   ]
   }
,
{
		   "cell_type": "markdown",
		   "metadata": {},
		   "source": [
			"## Example 12.5: frequency.sce"
		   ]
		  },
  {
"cell_type": "code",
	   "execution_count": null,
	   "metadata": {
	    "collapsed": true
	   },
	   "outputs": [],
"source": [
"//Example 5//frequency\n",
"clc;\n",
"clear;\n",
"close;\n",
"v=340;//m/s\n",
"n=600;//Hz\n",
"vs=36;//km h^-1\n",
"vs1=vs*(1000/3600);//m/s\n",
"apf=((v)/(v-vs1))*n;//Hz\n",
"vs2=54;//km h^-1\n",
"vs3=vs2*(1000/3600);//m/s\n",
"apf1=((v)/(v+vs3))*n;//Hz\n",
"disp('two apparent frequencies are '+string(apf)+' Hz and '+string(apf1)+' Hz')\n",
"df=apf-apf1;//Hz\n",
"disp(df,'difference in frequencies is ,(Hz)=')\n",
"//second apparent frequency and difference is calculated wrong in the textbook"
   ]
   }
,
{
		   "cell_type": "markdown",
		   "metadata": {},
		   "source": [
			"## Example 12.6: frequency.sce"
		   ]
		  },
  {
"cell_type": "code",
	   "execution_count": null,
	   "metadata": {
	    "collapsed": true
	   },
	   "outputs": [],
"source": [
"//Example 6//frequency\n",
"clc;\n",
"clear;\n",
"close;\n",
"v=330;//m/s\n",
"n=500;//Hz\n",
"vs=30;//km h^-1\n",
"vs1=vs*(1000/3600);//m/s\n",
"n3=((v+vs1)/(v-vs1))*n;//Hz\n",
"disp(round(n3),'frequency when cars are approaching is ,(Hz)=')\n",
"n1=((v-vs1)/(v+vs1))*n;//Hz\n",
"disp(round(n1),'frequency when cars have crossed  is ,(Hz)=')"
   ]
   }
,
{
		   "cell_type": "markdown",
		   "metadata": {},
		   "source": [
			"## Example 12.7: frequency.sce"
		   ]
		  },
  {
"cell_type": "code",
	   "execution_count": null,
	   "metadata": {
	    "collapsed": true
	   },
	   "outputs": [],
"source": [
"//Example 7//frequency\n",
"clc;\n",
"clear;\n",
"close;\n",
"v=330;//m/s\n",
"n=600;//Hz\n",
"vs=20;//m/s\n",
"apf=((v)/(v+vs))*n;//Hz\n",
"disp(round(apf),'frequency when source is moving away from the observer is ,(Hz)=')\n",
"apf1=((v)/(v-vs))*n;//Hz\n",
"disp(round(apf1),'frequency when siren reaching at the cliff is ,(Hz)=')\n",
"bf=apf1-apf;//Hz\n",
"disp(round(bf),'beat frequency is ,(Hz)=')"
   ]
   }
,
{
		   "cell_type": "markdown",
		   "metadata": {},
		   "source": [
			"## Example 12.8: frequency.sce"
		   ]
		  },
  {
"cell_type": "code",
	   "execution_count": null,
	   "metadata": {
	    "collapsed": true
	   },
	   "outputs": [],
"source": [
"//Example 8//frequency\n",
"clc;\n",
"clear;\n",
"close;\n",
"r=3;//m\n",
"w=10;//s^-1\n",
"vs=r*w;//m/s\n",
"A=6;//m\n",
"fd=5/%pi;//s^-1\n",
"vmax=A*2*%pi*fd;//m/s\n",
"v=330;//m/s\n",
"n=340;//Hz\n",
"nmax=((v+vmax)/(v-vs))*n;//Hz\n",
"nmin=((v-vmax)/(v+vs))*n;//Hz\n",
"disp(nmax,'maximum frequency is,(Hz)=')\n",
"disp(nmin,'minimum frequency is ,(Hz)=')"
   ]
   }
,
{
		   "cell_type": "markdown",
		   "metadata": {},
		   "source": [
			"## Example 12.9: speed.sce"
		   ]
		  },
  {
"cell_type": "code",
	   "execution_count": null,
	   "metadata": {
	    "collapsed": true
	   },
	   "outputs": [],
"source": [
"//Example 9//speed\n",
"clc;\n",
"clear;\n",
"close;\n",
"n12=3;//\n",
"n=340;//Hz\n",
"v=340;//m/s\n",
"vs=((n12*v)/(2*n));//m/s\n",
"disp(vs,'speed is ,(m/s)=')"
   ]
   }
],
"metadata": {
		  "kernelspec": {
		   "display_name": "Scilab",
		   "language": "scilab",
		   "name": "scilab"
		  },
		  "language_info": {
		   "file_extension": ".sce",
		   "help_links": [
			{
			 "text": "MetaKernel Magics",
			 "url": "https://github.com/calysto/metakernel/blob/master/metakernel/magics/README.md"
			}
		   ],
		   "mimetype": "text/x-octave",
		   "name": "scilab",
		   "version": "0.7.1"
		  }
		 },
		 "nbformat": 4,
		 "nbformat_minor": 0
}
