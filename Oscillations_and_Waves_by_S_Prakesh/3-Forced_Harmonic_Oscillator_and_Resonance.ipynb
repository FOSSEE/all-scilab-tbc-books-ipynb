{
"cells": [
 {
		   "cell_type": "markdown",
	   "metadata": {},
	   "source": [
       "# Chapter 3: Forced Harmonic Oscillator and Resonance"
	   ]
	},
{
		   "cell_type": "markdown",
		   "metadata": {},
		   "source": [
			"## Example 3.1: amlitude_and_phase_displacement.sce"
		   ]
		  },
  {
"cell_type": "code",
	   "execution_count": null,
	   "metadata": {
	    "collapsed": true
	   },
	   "outputs": [],
"source": [
"//Example 1 // Phase shift\n",
"clc;\n",
"clear;\n",
"close;\n",
"//given data :\n",
"F0=25;// in N\n",
"m=1;\n",
"f0=F0/m;\n",
"K=1*10^3;// in N/m\n",
"w0=sqrt(K/m);\n",
"b=0.05;// in N-s/m\n",
"r=b/(2*m);// in s^-1\n",
"A=f0*10^3/sqrt(9*w0^4+(16*r^2*(w0)^2));\n",
"disp(A,'The amplitude,A(mm) = ')\n",
"p=2*w0;\n",
"fi=atand(2*r*p/(w0^2-p^2));\n",
"disp('phase shift is '+string(fi)+' degree or '+string(fi*(%pi/180))+' radian')\n",
"//phase shift is converted wrong into radians"
   ]
   }
,
{
		   "cell_type": "markdown",
		   "metadata": {},
		   "source": [
			"## Example 3.2: cosntant.sce"
		   ]
		  },
  {
"cell_type": "code",
	   "execution_count": null,
	   "metadata": {
	    "collapsed": true
	   },
	   "outputs": [],
"source": [
"//Example 2 // A/Amax\n",
"clc;\n",
"clear;\n",
"close;\n",
"x1=[0.99;0.98;0.97];//\n",
"wt=50;//\n",
"wo=1;//assume\n",
"fo=1;//assume\n",
"for i=1:3\n",
"    a(i)=((fo/((wo^2)*((1-x1(i)^2)^2+((1/wt^2)*x1(i)^2))^(1/2))));//\n",
"    am(i)=fo/((wo^2)*(1/wt^2)^(1/2));//\n",
"    z(i)=a(i)/am(i);//\n",
"    disp('for p/wo '+string(x1(i))+' value of A/Amax is '+string(z(i))+'')\n",
"end"
   ]
   }
,
{
		   "cell_type": "markdown",
		   "metadata": {},
		   "source": [
			"## Example 3.3: reactance_and_impedance.sce"
		   ]
		  },
  {
"cell_type": "code",
	   "execution_count": null,
	   "metadata": {
	    "collapsed": true
	   },
	   "outputs": [],
"source": [
"//Example 3 // Reactance and impedence\n",
"clc;\n",
"clear;\n",
"close;\n",
"//given data :\n",
"n=50;// in cycles\n",
"w=2*%pi*n;// in rad/sec\n",
"L=1/%pi;// in H\n",
"XL=w*L;\n",
"disp(XL,'The reactance,XL(ohm) = ')\n",
"R=100;// in ohm\n",
"Z=sqrt(R^2+XL^2);\n",
"disp(Z,'The impedence,Z(ohm) = ')"
   ]
   }
,
{
		   "cell_type": "markdown",
		   "metadata": {},
		   "source": [
			"## Example 3.4: current_and_capacitance.sce"
		   ]
		  },
  {
"cell_type": "code",
	   "execution_count": null,
	   "metadata": {
	    "collapsed": true
	   },
	   "outputs": [],
"source": [
"//Example 4 // Current and Capacity\n",
"clc;\n",
"clear;\n",
"close;\n",
"//given data :\n",
"E=110;// in V\n",
"R=10;// in ohm\n",
"L=1*10^-3;// in H\n",
"C=1*10^-6;// in F\n",
"n=10000;// in Hz\n",
"w=2*%pi*n;\n",
"I=E/sqrt(R^2+((w*L)-(1/(w*C)))^2);\n",
"disp(I,'The current ,I(A) = ')\n",
"L1=1/(w^2*C);\n",
"disp(L1,'The value of capacity,L1(F) = ')\n",
"//Capacitance  is calculated wrong in the textbook"
   ]
   }
,
{
		   "cell_type": "markdown",
		   "metadata": {},
		   "source": [
			"## Example 3.5: resonant_frequency_separation_and_sharpness.sce"
		   ]
		  },
  {
"cell_type": "code",
	   "execution_count": null,
	   "metadata": {
	    "collapsed": true
	   },
	   "outputs": [],
"source": [
"//Example 5 // Resonent frequency and Separation\n",
"clc;\n",
"clear;\n",
"close;\n",
"//given data :\n",
"L=1*10^-3;// in H\n",
"C=0.1*10^-6;// in F\n",
"w0=1/sqrt(L*C);\n",
"disp(w0,'Resonant frequency,w0(rad/s)  = ')\n",
"R=10;// in ohm\n",
"w2_w1=R/L;\n",
"disp(w2_w1,'the separation,(rad/s) = ')\n",
"S=w0/w2_w1;\n",
"disp(S,'The sharpness is = ')"
   ]
   }
],
"metadata": {
		  "kernelspec": {
		   "display_name": "Scilab",
		   "language": "scilab",
		   "name": "scilab"
		  },
		  "language_info": {
		   "file_extension": ".sce",
		   "help_links": [
			{
			 "text": "MetaKernel Magics",
			 "url": "https://github.com/calysto/metakernel/blob/master/metakernel/magics/README.md"
			}
		   ],
		   "mimetype": "text/x-octave",
		   "name": "scilab",
		   "version": "0.7.1"
		  }
		 },
		 "nbformat": 4,
		 "nbformat_minor": 0
}
