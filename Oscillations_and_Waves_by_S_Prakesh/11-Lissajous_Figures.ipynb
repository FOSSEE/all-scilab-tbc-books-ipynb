{
"cells": [
 {
		   "cell_type": "markdown",
	   "metadata": {},
	   "source": [
       "# Chapter 11: Lissajous Figures"
	   ]
	},
{
		   "cell_type": "markdown",
		   "metadata": {},
		   "source": [
			"## Example 11.1: frequency.sce"
		   ]
		  },
  {
"cell_type": "code",
	   "execution_count": null,
	   "metadata": {
	    "collapsed": true
	   },
	   "outputs": [],
"source": [
"//Example 1// Frequencies\n",
"clc;\n",
"clear;\n",
"close;\n",
"//given data :\n",
"t=2;// in sec\n",
"n1=100;// in vibrations/sec\n",
"n2a=n1+(1/t);\n",
"n2b=n1-(1/t);\n",
"disp(n2a,'frequency,n2a= ')\n",
"disp(n2b,'frequency,n2b = ')"
   ]
   }
,
{
		   "cell_type": "markdown",
		   "metadata": {},
		   "source": [
			"## Example 11.2: frequency.sce"
		   ]
		  },
  {
"cell_type": "code",
	   "execution_count": null,
	   "metadata": {
	    "collapsed": true
	   },
	   "outputs": [],
"source": [
"//Example 2// Frequencies\n",
"clc;\n",
"clear;\n",
"close;\n",
"//given data :\n",
"t1=15;// in sec\n",
"t2=10;// in sec\n",
"n2=400;// in vibrations/sec\n",
"n1a=n2+(1/t1);\n",
"n1b=n2-(1/t1);\n",
"disp(n1a,'frequency,n1a(Hz) = ')\n",
"disp(n1b,'frequency,n1b(Hz) = ')\n",
"n_1a=n2+(1/t2);\n",
"n_1b=n2-(1/t2);\n",
"disp(n_1a,'frequency,n_1a(Hz) = ')\n",
"disp(n_1b,'frequency,n_1b(Hz) = ')"
   ]
   }
,
{
		   "cell_type": "markdown",
		   "metadata": {},
		   "source": [
			"## Example 11.3: frequency.sce"
		   ]
		  },
  {
"cell_type": "code",
	   "execution_count": null,
	   "metadata": {
	    "collapsed": true
	   },
	   "outputs": [],
"source": [
"//Example 3// Frequencies\n",
"clc;\n",
"clear;\n",
"close;\n",
"//given data :\n",
"t1=15;// in sec\n",
"t2=10;// in sec\n",
"n2=256;// in vibrations/sec\n",
"n1a=(2*n2)+(1/t1);\n",
"n1b=(2*n2)-(1/t1);\n",
"disp(n1a,'frequency,n1a(Hz) = ')\n",
"disp(n1b,'frequency,n1b(Hz) = ')\n",
"n_1a=(2*n2)+(1/t2);\n",
"n_1b=(2*n2)-(1/t2);\n",
"disp(n_1a,'frequency,n_1a(Hz) = ')\n",
"disp(n_1b,'frequency,n_1b(Hz) = ')"
   ]
   }
],
"metadata": {
		  "kernelspec": {
		   "display_name": "Scilab",
		   "language": "scilab",
		   "name": "scilab"
		  },
		  "language_info": {
		   "file_extension": ".sce",
		   "help_links": [
			{
			 "text": "MetaKernel Magics",
			 "url": "https://github.com/calysto/metakernel/blob/master/metakernel/magics/README.md"
			}
		   ],
		   "mimetype": "text/x-octave",
		   "name": "scilab",
		   "version": "0.7.1"
		  }
		 },
		 "nbformat": 4,
		 "nbformat_minor": 0
}
