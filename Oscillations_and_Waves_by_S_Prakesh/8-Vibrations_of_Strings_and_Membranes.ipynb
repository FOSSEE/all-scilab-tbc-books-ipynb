{
"cells": [
 {
		   "cell_type": "markdown",
	   "metadata": {},
	   "source": [
       "# Chapter 8: Vibrations of Strings and Membranes"
	   ]
	},
{
		   "cell_type": "markdown",
		   "metadata": {},
		   "source": [
			"## Example 8.10: velocity.sce"
		   ]
		  },
  {
"cell_type": "code",
	   "execution_count": null,
	   "metadata": {
	    "collapsed": true
	   },
	   "outputs": [],
"source": [
"//Example 10// velocity\n",
"clc;\n",
"clear;\n",
"close;\n",
"l1=20;//cm\n",
"v1=600;//cm^-1\n",
"n1=v1/4;//\n",
"v1=2*n1*l1*10^-2;//m/sec\n",
"v2=sqrt(2)*v1;//m/s\n",
"disp(v1,'velocity of the waves is,(m/s)=')\n",
"disp(round(v2),'velocity of waves when tension of the string is doubled is,(m/s)=')"
   ]
   }
,
{
		   "cell_type": "markdown",
		   "metadata": {},
		   "source": [
			"## Example 8.11: frequency.sce"
		   ]
		  },
  {
"cell_type": "code",
	   "execution_count": null,
	   "metadata": {
	    "collapsed": true
	   },
	   "outputs": [],
"source": [
"//Example 11// frequency\n",
"clc;\n",
"clear;\n",
"close;\n",
"nb=6;//beats\n",
"l1=20;//cm\n",
"l2=21;//cm\n",
"x=l2/l1;//\n",
"n=(x*nb+nb)/(x-1);//\n",
"disp(n,'frequency is,(Hz)=')"
   ]
   }
,
{
		   "cell_type": "markdown",
		   "metadata": {},
		   "source": [
			"## Example 8.12: frequency.sce"
		   ]
		  },
  {
"cell_type": "code",
	   "execution_count": null,
	   "metadata": {
	    "collapsed": true
	   },
	   "outputs": [],
"source": [
"//Example 12// frequency\n",
"clc;\n",
"clear;\n",
"close;\n",
"nb=4;//beats\n",
"l1=70;//cm\n",
"l2=70-1;//cm\n",
"x=l2/l1;//\n",
"n=(x*nb)/(1-x);//\n",
"disp(n,'frequency is,(Hz)=')"
   ]
   }
,
{
		   "cell_type": "markdown",
		   "metadata": {},
		   "source": [
			"## Example 8.13: length.sce"
		   ]
		  },
  {
"cell_type": "code",
	   "execution_count": null,
	   "metadata": {
	    "collapsed": true
	   },
	   "outputs": [],
"source": [
"//Example 13// length\n",
"clc;\n",
"clear;\n",
"close;\n",
"n123=1/3/15;//\n",
"tl=105;//cm\n",
"l123=15/5/1;//\n",
"k=tl/21;//\n",
"l1=15*k;//cm\n",
"l2=5*k;//cm\n",
"l3=k;//cm\n",
"disp(l1,'l1 length is,(cm)=')\n",
"disp(l2,'l2 length is,(cm)=')\n",
"disp(l3,'l3 length is,(cm)=')\n",
"//length l2 is calculated wrong in the textbook"
   ]
   }
,
{
		   "cell_type": "markdown",
		   "metadata": {},
		   "source": [
			"## Example 8.14: wavelength.sce"
		   ]
		  },
  {
"cell_type": "code",
	   "execution_count": null,
	   "metadata": {
	    "collapsed": true
	   },
	   "outputs": [],
"source": [
"//Example 14// wave-length\n",
"clc;\n",
"clear;\n",
"close;\n",
"//y=ym*sin*2*%pi(nt-(x/h));//given\n",
"disp('wavelength is (%pi*ym)/2')"
   ]
   }
,
{
		   "cell_type": "markdown",
		   "metadata": {},
		   "source": [
			"## Example 8.15: FREQUENCY.sce"
		   ]
		  },
  {
"cell_type": "code",
	   "execution_count": null,
	   "metadata": {
	    "collapsed": true
	   },
	   "outputs": [],
"source": [
"//Example 15// frequency\n",
"clc;\n",
"clear;\n",
"close;\n",
"l=2.5;//m\n",
"m1=0.001;//kg\n",
"tn=4;//N\n",
"m=m1/l;//kg/m\n",
"n=((1/(2*l))*sqrt(tn/m));//Hz\n",
"disp(n,'frequency is ,(Hz)=')\n",
"disp('frequencies stopped are '+string(5*n)+' Hz,'+string(10*n)+' Hz,'+string(15*n)+' Hz')"
   ]
   }
,
{
		   "cell_type": "markdown",
		   "metadata": {},
		   "source": [
			"## Example 8.16: frequency_and_relative_amplitude.sce"
		   ]
		  },
  {
"cell_type": "code",
	   "execution_count": null,
	   "metadata": {
	    "collapsed": true
	   },
	   "outputs": [],
"source": [
"//Example 16// frequency\n",
"clc;\n",
"clear;\n",
"close;\n",
"l=1;//m\n",
"m1=0.5;//kg\n",
"tn=200;//N\n",
"m=m1/l;//kg/m\n",
"n=((1/(2*l))*sqrt(tn/m));//Hz\n",
"disp(n,'frequency is ,(Hz)=')\n",
"w=2*%pi*n;//\n",
"disp('ratio of three frequencies is '+string(w)+' : '+string(2*w)+' : '+string(3*w)+'')"
   ]
   }
,
{
		   "cell_type": "markdown",
		   "metadata": {},
		   "source": [
			"## Example 8.1: speed.sce"
		   ]
		  },
  {
"cell_type": "code",
	   "execution_count": null,
	   "metadata": {
	    "collapsed": true
	   },
	   "outputs": [],
"source": [
"//Example 1 // Speed\n",
"clc;\n",
"clear;\n",
"close;\n",
"//given data :\n",
"m1=0.1;// in kg\n",
"g=9.81;// in m/s^2\n",
"T=m1*g;// N\n",
"A=10^-6;// in m^2\n",
"p=9.81*10^3;// in kg/m^3\n",
"m=A*p;// in kg/m\n",
"v=sqrt(T/m);\n",
"disp(v,'The speed of transverse waves,v(m/s) = ')"
   ]
   }
,
{
		   "cell_type": "markdown",
		   "metadata": {},
		   "source": [
			"## Example 8.2: tensile_stress.sce"
		   ]
		  },
  {
"cell_type": "code",
	   "execution_count": null,
	   "metadata": {
	    "collapsed": true
	   },
	   "outputs": [],
"source": [
"//Example 2 // tensile stress\n",
"clc;\n",
"clear;\n",
"close;\n",
"//given data :\n",
"p=8000;// in kg/m^3\n",
"v=340;// in m/s\n",
"TbyA=v^2*p*10^-2;\n",
"disp(TbyA,'Tensile stress,(N/m^2) = ')"
   ]
   }
,
{
		   "cell_type": "markdown",
		   "metadata": {},
		   "source": [
			"## Example 8.3: tension.sce"
		   ]
		  },
  {
"cell_type": "code",
	   "execution_count": null,
	   "metadata": {
	    "collapsed": true
	   },
	   "outputs": [],
"source": [
"//Example 3 // Tension\n",
"clc;\n",
"clear;\n",
"close;\n",
"//given data :\n",
"M=2*10^-3;// in kg\n",
"l=35*10^-2;// in m\n",
"n=500;// in Hz\n",
"m=M/l;// in kg/m\n",
"T=4*n^2*l^2*m;\n",
"disp(T,'Tension,T(N) = ')"
   ]
   }
,
{
		   "cell_type": "markdown",
		   "metadata": {},
		   "source": [
			"## Example 8.4: frequency.sce"
		   ]
		  },
  {
"cell_type": "code",
	   "execution_count": null,
	   "metadata": {
	    "collapsed": true
	   },
	   "outputs": [],
"source": [
"//Example 4 // Frequency\n",
"clc;\n",
"clear;\n",
"close;\n",
"//given data :\n",
"T=625;// in N\n",
"T1=100;// in N\n",
"l=1/2;\n",
"n=240;// in Hz\n",
"n1=1/l*(sqrt(T1/T))*n;\n",
"disp(n1,'The frequency,n1(Hz) = ')"
   ]
   }
,
{
		   "cell_type": "markdown",
		   "metadata": {},
		   "source": [
			"## Example 8.5: initial_tension.sce"
		   ]
		  },
  {
"cell_type": "code",
	   "execution_count": null,
	   "metadata": {
	    "collapsed": true
	   },
	   "outputs": [],
"source": [
"//Example 5 // initial tension\n",
"clc;\n",
"clear;\n",
"close;\n",
"rt=2/3;//ratio\n",
"mi=5;//kg wt\n",
"M=((1/rt)^2)-1;//\n",
"mo=mi/M;//kg wt\n",
"disp(mo,'initial tension in string is ,(kg-wt)=')"
   ]
   }
,
{
		   "cell_type": "markdown",
		   "metadata": {},
		   "source": [
			"## Example 8.6: speed_stress_and_percentage_change.sce"
		   ]
		  },
  {
"cell_type": "code",
	   "execution_count": null,
	   "metadata": {
	    "collapsed": true
	   },
	   "outputs": [],
"source": [
"//Example 6// speed,stress and change in frequency\n",
"clc;\n",
"clear;\n",
"close;\n",
"n=175;//Hz\n",
"l=1.5;//m\n",
"v=2*n*l;//m/s\n",
"d=7.8*10^3;//kg/m^3\n",
"st=v^2*d;//N/m^2\n",
"per=3;//% increament\n",
"T=1;//assume\n",
"td=(1+per/100)*T;//\n",
"x=(((1/2)*(per/100)));//\n",
"td=x*100;//\n",
"disp(v,'velocity is,(m/s)=')\n",
"disp(st,'stress is,(N/m^2)=')\n",
"disp(td,'percentage change in frequency is,(%)=')"
   ]
   }
,
{
		   "cell_type": "markdown",
		   "metadata": {},
		   "source": [
			"## Example 8.7: frequency.sce"
		   ]
		  },
  {
"cell_type": "code",
	   "execution_count": null,
	   "metadata": {
	    "collapsed": true
	   },
	   "outputs": [],
"source": [
"//Example 7 // Frequency\n",
"clc;\n",
"clear;\n",
"close;\n",
"//given data :\n",
"l=.50;// in m\n",
"m1=25;// in kg\n",
"m2=1.44*10^-3;// in kg\n",
"g=9.81;// in m/s^2\n",
"T=m1*g;\n",
"m=m2/l;\n",
"p=2;\n",
"n=(p/(2*l))*sqrt(T/m);\n",
"disp(n,'The frequency,n = ')"
   ]
   }
,
{
		   "cell_type": "markdown",
		   "metadata": {},
		   "source": [
			"## Example 8.8: frequency.sce"
		   ]
		  },
  {
"cell_type": "code",
	   "execution_count": null,
	   "metadata": {
	    "collapsed": true
	   },
	   "outputs": [],
"source": [
"//Example 8// frequency\n",
"clc;\n",
"clear;\n",
"close;\n",
"l1=90;//cm\n",
"d1=0.05;//cm\n",
"d2=0.0625;//cm\n",
"l2=60;//cm\n",
"n1=200;//Hz\n",
"n2=((l1*d1*n1)/(l2*d2));//Hz\n",
"disp(n2,'frequency is,(Hz)=')"
   ]
   }
,
{
		   "cell_type": "markdown",
		   "metadata": {},
		   "source": [
			"## Example 8.9: tension.sce"
		   ]
		  },
  {
"cell_type": "code",
	   "execution_count": null,
	   "metadata": {
	    "collapsed": true
	   },
	   "outputs": [],
"source": [
"//Example 9// tension\n",
"clc;\n",
"clear;\n",
"close;\n",
"n21=3/2;//\n",
"r21=3/4;//\n",
"t1=2.048;//kg. wt\n",
"t2=(n21*r21)^2*t1;//kg weight\n",
"n31=9/4;//\n",
"r31=2/4;//\n",
"t3=(n31*r31)^2*t1;//kg-weight\n",
"n41=27/8;//\n",
"r41=1/4;//\n",
"t4=(n41*r41)^2*t1;//kg-weight\n",
"disp(t2,'tension (T2) is ,(kg weight)=')\n",
"disp(t3,'tension (T3) is ,(kg weight)=')\n",
"disp(t4,'tension (T4) is ,(kg weight)=')"
   ]
   }
],
"metadata": {
		  "kernelspec": {
		   "display_name": "Scilab",
		   "language": "scilab",
		   "name": "scilab"
		  },
		  "language_info": {
		   "file_extension": ".sce",
		   "help_links": [
			{
			 "text": "MetaKernel Magics",
			 "url": "https://github.com/calysto/metakernel/blob/master/metakernel/magics/README.md"
			}
		   ],
		   "mimetype": "text/x-octave",
		   "name": "scilab",
		   "version": "0.7.1"
		  }
		 },
		 "nbformat": 4,
		 "nbformat_minor": 0
}
