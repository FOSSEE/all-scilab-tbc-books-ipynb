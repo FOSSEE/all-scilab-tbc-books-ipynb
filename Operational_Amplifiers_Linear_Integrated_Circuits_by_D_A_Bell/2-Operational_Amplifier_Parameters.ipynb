{
"cells": [
 {
		   "cell_type": "markdown",
	   "metadata": {},
	   "source": [
       "# Chapter 2: Operational Amplifier Parameters"
	   ]
	},
{
		   "cell_type": "markdown",
		   "metadata": {},
		   "source": [
			"## Example 2.1: Non_Inverting_amplifier.sce"
		   ]
		  },
  {
"cell_type": "code",
	   "execution_count": null,
	   "metadata": {
	    "collapsed": true
	   },
	   "outputs": [],
"source": [
"disp('chapter 2 ex2.1')\n",
"disp('given')\n",
"disp('voltage gain is 50')\n",
"Av=50 \n",
"disp('typicalCMRR=90db')\n",
"disp('common mode input=100mv')\n",
"Vicm=.1\n",
"CMRR=10^(90/20)\n",
"Vo=(Vicm*Av)/CMRR\n",
"disp('output voltage is')\n",
"disp('volt',Vo)"
   ]
   }
,
{
		   "cell_type": "markdown",
		   "metadata": {},
		   "source": [
			"## Example 2.2: PSVR.sce"
		   ]
		  },
  {
"cell_type": "code",
	   "execution_count": null,
	   "metadata": {
	    "collapsed": true
	   },
	   "outputs": [],
"source": [
"disp('chapter 2 ex2.2')\n",
"disp('given')\n",
"disp('supply voltage=+15V and -15V')\n",
"disp('ripple voltaage supply=2mV with 120 Hz')\n",
"Vrip=2*(10^(-3))\n",
"disp('PSRR for an Op-amp=30uV/V')\n",
"PSRR=(30*(10^(-6)))\n",
"disp('output voltage produced by the power ripple=')\n",
"Vo=Vrip*PSRR\n",
"disp('volt',Vo)"
   ]
   }
,
{
		   "cell_type": "markdown",
		   "metadata": {},
		   "source": [
			"## Example 2.3: Offset_voltage.sce"
		   ]
		  },
  {
"cell_type": "code",
	   "execution_count": null,
	   "metadata": {
	    "collapsed": true
	   },
	   "outputs": [],
"source": [
"disp('chapter 2 ex2.3')\n",
"disp('given')\n",
"disp('R1=22Kohm   R2=22Kohm and tolerance of 20%')\n",
"disp('from 741 datasheet')\n",
"disp('Vi(offset)=5mV maximum')\n",
"disp('Ii(offset)=200nA maximum')\n",
"Vioffset=.005\n",
"Iioffset=200*(10^(-9))\n",
"disp('Ib=500nA')\n",
"Ib=500*(10^(-9))\n",
"R1=22000+(22000*0.2)\n",
"R2=22000-(22000*0.2)\n",
"Vioffset=Ib*(R1-R2)\n",
"disp('Vioffset=Ib*(R1-R2)')\n",
"disp('input offset voltage due to resistors')\n",
"disp('volt',Vioffset)"
   ]
   }
,
{
		   "cell_type": "markdown",
		   "metadata": {},
		   "source": [
			"## Example 2.4: Input_impedance.sce"
		   ]
		  },
  {
"cell_type": "code",
	   "execution_count": null,
	   "metadata": {
	    "collapsed": true
	   },
	   "outputs": [],
"source": [
"disp('chapter 2 ex2.4')\n",
"disp('given')\n",
"disp('from 741 datasheet')\n",
"disp('Rimin=.3Mohm')\n",
"disp('Mmin=50000')\n",
"Rimin=300000\n",
"Mmin=50000\n",
"disp('For an voltage follower beta=1')\n",
"b=1\n",
"Zin=(1+Mmin*b)*Rimin\n",
"disp('minimum input impedence')\n",
"disp('ohms',Zin)"
   ]
   }
,
{
		   "cell_type": "markdown",
		   "metadata": {},
		   "source": [
			"## Example 2.5: Output_impedance.sce"
		   ]
		  },
  {
"cell_type": "code",
	   "execution_count": null,
	   "metadata": {
	    "collapsed": true
	   },
	   "outputs": [],
"source": [
"disp('chapter 2 ex2.5')\n",
"disp('given')\n",
"disp('from 741 datasheet')\n",
"disp('Zo=75ohm')\n",
"disp('Mmax=200000')\n",
"Zo=75\n",
"Mmax=200000\n",
"disp('For an voltage follower beta=1')\n",
"b=1\n",
"Zout=Zo/(1+Mmax*b)\n",
"disp('Typical output impedence')\n",
"disp('ohms',Zout)"
   ]
   }
],
"metadata": {
		  "kernelspec": {
		   "display_name": "Scilab",
		   "language": "scilab",
		   "name": "scilab"
		  },
		  "language_info": {
		   "file_extension": ".sce",
		   "help_links": [
			{
			 "text": "MetaKernel Magics",
			 "url": "https://github.com/calysto/metakernel/blob/master/metakernel/magics/README.md"
			}
		   ],
		   "mimetype": "text/x-octave",
		   "name": "scilab",
		   "version": "0.7.1"
		  }
		 },
		 "nbformat": 4,
		 "nbformat_minor": 0
}
