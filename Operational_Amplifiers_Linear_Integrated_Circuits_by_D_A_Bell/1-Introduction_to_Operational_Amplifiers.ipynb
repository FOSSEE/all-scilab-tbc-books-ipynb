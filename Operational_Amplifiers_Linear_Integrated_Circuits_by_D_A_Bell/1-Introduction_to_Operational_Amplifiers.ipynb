{
"cells": [
 {
		   "cell_type": "markdown",
	   "metadata": {},
	   "source": [
       "# Chapter 1: Introduction to Operational Amplifiers"
	   ]
	},
{
		   "cell_type": "markdown",
		   "metadata": {},
		   "source": [
			"## Example 1.1: Voltage_follower.sce"
		   ]
		  },
  {
"cell_type": "code",
	   "execution_count": null,
	   "metadata": {
	    "collapsed": true
	   },
	   "outputs": [],
"source": [
"disp('chapter 1 ex1.1')\n",
"disp('given')\n",
"disp('input signal=1v')// input signal is 1v\n",
"disp('V0=Vi-(Vi/M)')//formula to find o/p voltage\n",
"Vi=1\n",
"M=200000//Minimum Open loop gain is 50000, Typical M is 200000\n",
"V0=Vi-(Vi/M)\n",
"disp('output voltage for typical open loop gain of 200000 is')\n",
"disp('volt',V0)\n",
"M1=50000//Minimum open loop gain\n",
"V01=Vi-(Vi/M1)//output for minimum open loop gain\n",
"disp('output voltge for minimum open loop gain of 50000 is')\n",
"disp('volt',V01)"
   ]
   }
,
{
		   "cell_type": "markdown",
		   "metadata": {},
		   "source": [
			"## Example 1.2: Non_Inverting_amplifier.sce"
		   ]
		  },
  {
"cell_type": "code",
	   "execution_count": null,
	   "metadata": {
	    "collapsed": true
	   },
	   "outputs": [],
"source": [
"disp('chapter 1 ex1.2')\n",
"disp('given')\n",
"disp('R2=8.2Kohms,R3=150ohms')//given Resistor values\n",
"R2=8200\n",
"R3=150\n",
"Av=(R2+R3)/R3//voltage gain formula\n",
"disp('voltage gain for given resistor values' )\n",
"disp(Av)\n",
"disp('New voltage gain given=75')//voltage gain=75\n",
"Av=75\n",
"R3=R2/(Av-1)//calculation of R3\n",
"disp('New value of resistor R3')\n",
"disp('ohms',R3)"
   ]
   }
,
{
		   "cell_type": "markdown",
		   "metadata": {},
		   "source": [
			"## Example 1.3: Inverting_amplifier.sce"
		   ]
		  },
  {
"cell_type": "code",
	   "execution_count": null,
	   "metadata": {
	    "collapsed": true
	   },
	   "outputs": [],
"source": [
"disp('chapter 1 ex1.3')\n",
"disp('given')\n",
"disp('R2=8.2Kohms,R1=270ohms')//given resistor values\n",
"R1=270\n",
"R2=8200\n",
"Av=R2/R1\n",
"disp('voltage gain of inverting amplifier')\n",
"disp(Av)\n",
"disp('new voltage gain given=60')\n",
"Av1=60\n",
"R1n=R2/Av1\n",
"disp('new value of R1')\n",
"disp('Ohms',R1n)"
   ]
   }
],
"metadata": {
		  "kernelspec": {
		   "display_name": "Scilab",
		   "language": "scilab",
		   "name": "scilab"
		  },
		  "language_info": {
		   "file_extension": ".sce",
		   "help_links": [
			{
			 "text": "MetaKernel Magics",
			 "url": "https://github.com/calysto/metakernel/blob/master/metakernel/magics/README.md"
			}
		   ],
		   "mimetype": "text/x-octave",
		   "name": "scilab",
		   "version": "0.7.1"
		  }
		 },
		 "nbformat": 4,
		 "nbformat_minor": 0
}
