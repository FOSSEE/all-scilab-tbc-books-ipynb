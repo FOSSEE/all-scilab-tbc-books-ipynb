{
"cells": [
 {
		   "cell_type": "markdown",
	   "metadata": {},
	   "source": [
       "# Chapter 7: Signal Processing Circuits"
	   ]
	},
{
		   "cell_type": "markdown",
		   "metadata": {},
		   "source": [
			"## Example 7.1: Precision_Half_Wave_rectifier.sce"
		   ]
		  },
  {
"cell_type": "code",
	   "execution_count": null,
	   "metadata": {
	    "collapsed": true
	   },
	   "outputs": [],
"source": [
"disp('chapter 7 ex7.1')\n",
"disp('given')\n",
"disp('Design a nonsaturating precision half wave rectifier')\n",
"disp('peak output Vo=2volt')\n",
"Vo=2\n",
"disp('input peak value Vi=.5volt')\n",
"Vi=0.5\n",
"disp('frequency f=1MHz')\n",
"f=1*10^(6)\n",
"disp('supply voltage Vcc=+or-15volt and Vee=15volt')  //(using bipolar op-amp)\n",
"Vcc=15\n",
"Vee=15\n",
"disp('I1>IBmax')\n",
"disp('I1=500*10^(-6)A')  //for adequate diode current\n",
"I1=500*10^(-6)\n",
"disp('R1=Vi/I1')\n",
"R1=Vi/I1\n",
"disp('ohms',R1)   //standard value\n",
"disp('R2=Vo/I1')\n",
"R2=Vo/I1\n",
"disp('ohms',R2)\n",
"disp('use 3.9kohm standard value')\n",
"R2=3900\n",
"disp('R3=R1||R2')\n",
"R3=R1*R2/(R1+R2)\n",
"disp('ohms',R3)  //use 820ohm standard value\n",
"disp('for diode D1 and D2')\n",
"disp('Vr>[Vcc-(-Vee)]')\n",
"Vr=[Vcc-(-Vee)]\n",
"disp('volts',Vr)\n",
"disp('trr<T')\n",
"disp('let trrmax=T/10=1/(10*f)')\n",
"trrmax=1/(10*f)\n",
"disp('seconds',trrmax) //compensate the op-amp as a voltage follower"
   ]
   }
,
{
		   "cell_type": "markdown",
		   "metadata": {},
		   "source": [
			"## Example 7.2: Precision_full_Wave_rectifier.sce"
		   ]
		  },
  {
"cell_type": "code",
	   "execution_count": null,
	   "metadata": {
	    "collapsed": true
	   },
	   "outputs": [],
"source": [
"disp('chapter 7 ex7.2')\n",
"disp('given')\n",
"disp('Design a precision full-wave rectifier circuit')\n",
"disp('peak output Vo=2volt')\n",
"Vo=2\n",
"disp('input peak value Vi=.5volt')\n",
"Vi=0.5\n",
"disp('frequency f=1MHz')\n",
"f=1*10^(6)\n",
"disp('supply voltage Vcc=+or-15volt')  //(using bipolar op-amp)\n",
"Vcc=15\n",
"disp('I1>IBmax')\n",
"disp('let I1=500*10^(-6)A')  //for adequate diode current\n",
"I1=500*10^(-6)\n",
"disp('R1=Vi/I1')\n",
"R1=Vi/I1\n",
"disp('ohms',R1)   //standard value\n",
"disp('R2=2*R1')\n",
"R2=2*R1 \n",
"disp('ohms',R2)   //use two 1kohm resistors in series\n",
"disp('R3=R1||R2')\n",
"R3=R1*R2/(R1+R2)\n",
"disp('ohms',R3)   //use 680ohm standard value\n",
"disp('R4=R5=R1=1kohm')\n",
"R4=1000\n",
"R5=1000\n",
"disp('for the output tobe 2volt when the input is 0.5volt')\n",
"disp('R6=Vo/Vi*R5')\n",
"R6=Vo/Vi*R5\n",
"disp('ohms',R6)\n",
"disp('use standard value R6=3.9kohm')\n",
"R6=3900\n",
"disp('R7=R4||R5||R6')\n",
"R7=R4*R5*R6/(R4*R5+R5*R6+R6*R4)\n",
"disp('ohms',R7) //use 470ohm standard value\n",
"disp('For diode D1 and D2,Vr>30volt and trrmax=0.1microsec as in ex7.1')\n",
"disp('Compensate A1 as a voltage follower')\n",
"disp('A2 for gain of R6+R4||R5/(R4||R5)')\n",
"A2=(R6+(R4*R5/(R4+R5)))/(R4*R5/(R4+R5))\n",
"disp(A2)"
   ]
   }
,
{
		   "cell_type": "markdown",
		   "metadata": {},
		   "source": [
			"## Example 7.3: High_Zin_Precision_full_Wave_rectifier.sce"
		   ]
		  },
  {
"cell_type": "code",
	   "execution_count": null,
	   "metadata": {
	    "collapsed": true
	   },
	   "outputs": [],
"source": [
"disp('chapter 7 ex7.3')\n",
"disp('given')\n",
"disp('Design a high input impedance precision full-wave rectifier circuit')\n",
"disp('input peak value Vi=1volt')\n",
"Vi=1\n",
"disp('supply voltage Vcc=+or-15volt')  //(using bipolar op-amp)\n",
"Vcc=15\n",
"disp('let I6=500*10^(-6)A')  //for adequate diode current\n",
"I6=500*10^(-6)\n",
"disp('R6=Vi/I6')\n",
"R6=Vi/I6\n",
"disp('ohms',R6)\n",
"disp('use 1.8kohm standard value')\n",
"R6=1800\n",
"disp('R4=R5=R6=1.8kohm')  //standard value\n",
"R4=1800\n",
"R5=1800\n",
"disp('R3=2*R4')\n",
"R3=2*R4\n",
"disp('ohms',R3)  //use two 1.8kohm resistors in series\n",
"disp('R1=R3||R4')\n",
"R1=R3*R4/(R3+R4)\n",
"disp('ohms',R1)   //standard value\n",
"disp('R2=R6||R5')\n",
"R2=R6*R5/(R6+R5) \n",
"disp('ohms',R2)   //use 1kohm standard value\n",
"disp('compensate the op-amps for Av1=2 and A2 as a voltage follower')"
   ]
   }
,
{
		   "cell_type": "markdown",
		   "metadata": {},
		   "source": [
			"## Example 7.4: Peak_clipping_circuit.sce"
		   ]
		  },
  {
"cell_type": "code",
	   "execution_count": null,
	   "metadata": {
	    "collapsed": true
	   },
	   "outputs": [],
"source": [
"disp('chapter 7 ex7.4')\n",
"disp('given')\n",
"disp('Design an adjustable peak clipping circuit')\n",
"disp('Vomax=+or-5volt and Vomin=+or-3volt')\n",
"Vomax=5\n",
"Vomin=3\n",
"disp('Vf=0.7volt')\n",
"Vf=0.7\n",
"disp('Vomax=Vz+Vf')\n",
"Vz=Vomax-Vf\n",
"disp('volts',Vz)    //use a 1N 749 Zener diode\n",
"disp('I1>Izmin=500*10^(-6)A')\n",
"disp('let I1min=2*10^(-3)A')\n",
"I1min=2*10^(-3)\n",
"disp('R2=Vomin/I1min')\n",
"R2=Vomin/I1min\n",
"disp('ohms',R2)  //standard value\n",
"disp('VR4=Vomax-Vomin')\n",
"VR4=Vomax-Vomin\n",
"disp('volts',VR4)\n",
"disp('R4=VR4/I1min')\n",
"R4=VR4/I1min\n",
"disp('ohms',R4)   //standard potentiometer value\n",
"disp('for Av=1,R1+R4=R2')\n",
"Av=1\n",
"R1=R2-R4\n",
"disp('ohms',R1)\n",
"disp('use 470ohm standard value')\n",
"R1=470\n",
"disp('R3=(R1+R4)||R2')\n",
"R3=((R1+R4)*R2)/(R1+R4+R2)\n",
"disp('ohms',R3)  //use 680ohm standard value"
   ]
   }
,
{
		   "cell_type": "markdown",
		   "metadata": {},
		   "source": [
			"## Example 7.5: Dead_zone_circuit.sce"
		   ]
		  },
  {
"cell_type": "code",
	   "execution_count": null,
	   "metadata": {
	    "collapsed": true
	   },
	   "outputs": [],
"source": [
"disp('chapter 7 ex7.5')\n",
"disp('given')\n",
"disp('Design a dead zone circuit using BIFET op-amp')\n",
"disp('voltage of 1volt to pass only in upper portion')\n",
"disp('peak voltage Vp=3volt')\n",
"Vp=3\n",
"disp('Vref=Vp-1')\n",
"Vref=Vp-1\n",
"disp('volts',Vref)\n",
"disp('Ir1min=Idmin=500*10^(-6)')\n",
"Ir1min=500*10^(-6)\n",
"disp('R1=Vref/Ir1min')\n",
"R1=Vref/Ir1min\n",
"disp('ohms',R1)\n",
"disp('use standard value R1=3.9kohm')\n",
"R1=3900\n",
"disp('R2=R3=R1=3.9kohm')\n",
"R2=3900\n",
"R3=3900\n",
"disp('R4=R1||R2||R3')\n",
"R4=R1*R2*R3/(R1*R2+R2*R3+R3*R1)\n",
"disp('ohms',R4)\n",
"disp('use 1.2kohm standard value')\n",
"disp('select the diodes as in ex7.1 and compensate the op-amp as a voltage follower')"
   ]
   }
,
{
		   "cell_type": "markdown",
		   "metadata": {},
		   "source": [
			"## Example 7.6: precision_clipping_circuit.sce"
		   ]
		  },
  {
"cell_type": "code",
	   "execution_count": null,
	   "metadata": {
	    "collapsed": true
	   },
	   "outputs": [],
"source": [
"disp('chapter 7 ex7.6')\n",
"disp('given')\n",
"disp('Design a precision clipping circuit to clip 100kHz sine wave')\n",
"disp('Vref for A1=3volt')\n",
"disp('Vref for A2=-3volt')\n",
"Vref=3\n",
"disp('Ir1min>IBmin for op-amps')\n",
"disp('let Ir1min=500*10^(-6)A')  //adequate diode current\n",
"Ir1=500*10^(-6)\n",
"disp('R1=Vref/Ir1')\n",
"R1=Vref/Ir1\n",
"disp('ohms',R1)\n",
"disp('use 5.6kohm standard value')\n",
"R1=5600\n",
"disp('R2=R3=R1=5.6kohm')\n",
"R2=5600\n",
"R3=5600\n",
"disp('R4=R1||R2||R3')\n",
"R4=R1*R2*R3/(R1*R2+R2*R3+R3*R1)\n",
"disp('ohms',R4)\n",
"disp('use 1.8kohm standard value')\n",
"disp('R11=R22=R33=R1=5.6kohm')\n",
"disp('R44=R4=1.8kohm')\n",
"disp('R5=R6=R7=R8=R1=5.6kohm')\n",
"R5=5600\n",
"R6=5600\n",
"R7=5600\n",
"R8=5600\n",
"disp('R9=R5||R6||R7||R8')\n",
"R9=R5*R6*R7*R8/(R5*R6*R7+R5*R6*R8+R5*R7*R8+R6*R7*R8)\n",
"disp('ohms',R9)   //use 1.5kohm standard value\n",
"disp('select the diodes as in ex7.1 and compensate A1 and A2 as a voltage follower')\n",
"disp('compensate A3 for Av=(R8+(R5||R6||R7))/R5||R6||R7')\n",
"Av=(R8+(R5*R6*R7/(R5*R6+R6*R7+R7*R5)))/(R5*R6*R7/(R5*R6+R6*R7+R7*R5))\n",
"disp(Av)"
   ]
   }
,
{
		   "cell_type": "markdown",
		   "metadata": {},
		   "source": [
			"## Example 7.7: precision_clamping_circuit.sce"
		   ]
		  },
  {
"cell_type": "code",
	   "execution_count": null,
	   "metadata": {
	    "collapsed": true
	   },
	   "outputs": [],
"source": [
"disp('chapter 7 ex7.7')\n",
"disp('given')\n",
"disp('design op-amp circuit using a supply of +or-12volt')\n",
"disp('voltage Vp=+or-5volt')\n",
"disp('frequency f=10kHz square wave from signal source with resistance Rs=100ohm')\n",
"Vcc=12\n",
"Vee=12\n",
"Vp=5\n",
"Rs=100\n",
"f=10000\n",
"disp('C1=1/(2*Rs*f)')\n",
"C1=1/(2*Rs*f)\n",
"disp('farads',C1)   //standard value\n",
"disp('v=1%of 5 volt')\n",
"v=.01*5\n",
"disp('volts',v)\n",
"disp('R1=Vp/(C1*v*f)')\n",
"R1=Vp/(C1*v*f)\n",
"disp('ohms',R1)   //use 22kohm standard value\n",
"disp('R2=R1=22kohm')\n",
"disp('for diodes D1 and D2,Vr>[Vcc-(-Vee)]')\n",
"Vr=[Vcc-(-Vee)]\n",
"disp('volts',Vr)\n",
"disp('trr<T')\n",
"disp('trrmax=1/(10*f)')\n",
"trrmax=1/(10*f)\n",
"disp('seconds',trrmax)\n",
"disp('compensate the op-amp as for a voltage follower')"
   ]
   }
,
{
		   "cell_type": "markdown",
		   "metadata": {},
		   "source": [
			"## Example 7.8: Peak_detector_circuit.sce"
		   ]
		  },
  {
"cell_type": "code",
	   "execution_count": null,
	   "metadata": {
	    "collapsed": true
	   },
	   "outputs": [],
"source": [
"disp('chapter 7 ex7.8')\n",
"disp('given')\n",
"disp('design a peak detector circuit')\n",
"disp('pulse-type signal voltage Vp=2.5volt with a rise time tr=5*10^(-6)s')\n",
"Vp=2.5\n",
"tr=5*10^(-6)\n",
"disp('output voltage is 2.5v for time th=100*10^(-6)s')\n",
"th=100*10^(-6)\n",
"disp('maximum output error is to be 1%')\n",
"disp('use BIFET op-amp for minimum capacitor leakage current')\n",
"disp('let R1=R2=1Mohm')\n",
"disp('C1 discharge current,Id=IrD2=1*10^(-6)A')\n",
"Id=1*10^(-6)\n",
"disp('v=1% of Vp')\n",
"v=.01*Vp\n",
"disp('volts',v)\n",
"disp('C1=Id*th/v')\n",
"C1=Id*th/v\n",
"disp('farads',C1)    //standard value\n",
"disp('for op-amp A1,Iomax=C1*Vp/tr')\n",
"Iomax=C1*Vp/tr\n",
"disp('amperes',Iomax)\n",
"disp('slewrate=3*Vp/tr')\n",
"slewrate=3*Vp/tr\n",
"disp('volts/us',slewrate)"
   ]
   }
,
{
		   "cell_type": "markdown",
		   "metadata": {},
		   "source": [
			"## Example 7.9: Sample_and_hold_circuit.sce"
		   ]
		  },
  {
"cell_type": "code",
	   "execution_count": null,
	   "metadata": {
	    "collapsed": true
	   },
	   "outputs": [],
"source": [
"disp('chapter 7 ex7.9')\n",
"disp('given')\n",
"disp('design the circuit using LF353 BIFET op-amps and a 2N4391 FET')\n",
"disp('sample and hold circuit has a signal amplitude of 1volt')\n",
"Vi=1\n",
"disp('holding time th=500*10^(-6)s')\n",
"th=500*10^(-6)\n",
"disp('for the LF 353 op-amp,IBmax=50pA')\n",
"IBmax=50*10^(-12)\n",
"disp('for the 2N4391 FET,the gate-source reverse current IGS=200nA')\n",
"IGS=200*10^(-9)\n",
"disp('the channel resistance when on Rd(on)=30ohm')\n",
"Rd=30\n",
"disp('let R1=R2=1Mohm')\n",
"disp('capacitor discharge current Id=IGS=200nA')\n",
"Id=200*10^(-9)\n",
"disp('for a 0.2% total error,allow 0.1% due to capacitor discharge and a 0.1% charging error for 0.1% error due to discharge during the holding time')\n",
"disp('let v=0.1% of Vi')\n",
"v=.1*Vi/100\n",
"disp('volts',v)\n",
"disp('C1=Id*th/v')\n",
"C1=Id*th/v\n",
"disp('farads',C1)   //standard value\n",
"disp('for the 2N4391,VGS(off)=10volt maximum')\n",
"disp('V1(-)=-10volt and V1(+)=Vo=+1volt')\n",
"disp('for 0.1% error due to acquisition time timin=7*C1*Rd')\n",
"timin=7*C1*Rd\n",
"disp('seconds',timin)"
   ]
   }
],
"metadata": {
		  "kernelspec": {
		   "display_name": "Scilab",
		   "language": "scilab",
		   "name": "scilab"
		  },
		  "language_info": {
		   "file_extension": ".sce",
		   "help_links": [
			{
			 "text": "MetaKernel Magics",
			 "url": "https://github.com/calysto/metakernel/blob/master/metakernel/magics/README.md"
			}
		   ],
		   "mimetype": "text/x-octave",
		   "name": "scilab",
		   "version": "0.7.1"
		  }
		 },
		 "nbformat": 4,
		 "nbformat_minor": 0
}
