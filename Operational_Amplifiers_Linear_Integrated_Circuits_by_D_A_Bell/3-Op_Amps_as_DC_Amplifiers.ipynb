{
"cells": [
 {
		   "cell_type": "markdown",
	   "metadata": {},
	   "source": [
       "# Chapter 3: Op Amps as DC Amplifiers"
	   ]
	},
{
		   "cell_type": "markdown",
		   "metadata": {},
		   "source": [
			"## Example 3.10: Differential_and_common_mode_input_resistance.sce"
		   ]
		  },
  {
"cell_type": "code",
	   "execution_count": null,
	   "metadata": {
	    "collapsed": true
	   },
	   "outputs": [],
"source": [
"disp('chapter 3 ex3.10')\n",
"disp('given')\n",
"disp('The difference of two input signals is to be ampliflied by factor of 37')\n",
"Av=37\n",
"disp('amplitude=50mV')\n",
"disp('R2=1Mohms')\n",
"R2=1*10^(6)\n",
"disp('R1=R2/Av')\n",
"R1=R2/Av\n",
"disp('ohms',R1)\n",
"disp('R3=R1=27kohms')\n",
"disp('R4=R2=1Mohms')\n",
"R3=27000\n",
"R4=1*10^(6)\n",
"disp('differential mode input resistance Ridiff=R1+(R3+R4)')\n",
"Ridiff=R1+(R3+R4)\n",
"disp('ohms',Ridiff)\n",
"disp('commom mode input resistance Ricm=R1||(R3+R4)')\n",
"Ricm=R1*(R3+R4)/(R1+R3+R4)\n",
"disp('ohms',Ricm)"
   ]
   }
,
{
		   "cell_type": "markdown",
		   "metadata": {},
		   "source": [
			"## Example 3.11: Output_voltage_nulling.sce"
		   ]
		  },
  {
"cell_type": "code",
	   "execution_count": null,
	   "metadata": {
	    "collapsed": true
	   },
	   "outputs": [],
"source": [
"disp('chapter 3 ex3.11')\n",
"disp('given')\n",
"disp('modifying circuit designed in example 3.10')\n",
"disp('R1=27kohms and R2=1Mohms')\n",
"disp('R3+R4=R1=27kohms')\n",
"R1=27000\n",
"R2=27000\n",
"disp('R4/R3=R2/R1=37')\n",
"disp('R3+37R3=27kohms')\n",
"R3=27000/(1+37)\n",
"disp('ohms',R3)\n",
"disp('standard value R3=680ohms')\n",
"R3=680\n",
"R4=37*R3\n",
"disp('ohms',R4)\n",
"disp('allowing +10% or-10% adjustments of R4')\n",
"disp('total resistance R%=R4+10%')\n",
"R5=R4+R4*.10\n",
"disp('ohms',R5)\n",
"disp('variable portion Rv=20% of R4')\n",
"Rv=.20*R5\n",
"disp('ohms',Rv)\n",
"disp('standard variable resistance is 5kohms')\n",
"Rv=5000\n",
"disp('ohms',Rv)\n",
"disp('fixed portion of R4 is Rf=R4-Rv')\n",
"Rf=R5-Rv\n",
"disp('ohms',Rf)"
   ]
   }
,
{
		   "cell_type": "markdown",
		   "metadata": {},
		   "source": [
			"## Example 3.1: Voltage_follower.sce"
		   ]
		  },
  {
"cell_type": "code",
	   "execution_count": null,
	   "metadata": {
	    "collapsed": true
	   },
	   "outputs": [],
"source": [
"disp('chapter 3 ex3.1')\n",
"disp('given')\n",
"disp('resistor connected R1=Rs=47kohms')\n",
"R1=47000\n",
"Rs=47000\n",
"disp('IB(max)=500nA and Ii(offset)=20nA')\n",
"IBmax=500*10^(-9)\n",
"Iioffset=20*10^(-9)\n",
"disp('V(max)=IB(max)*Rs')\n",
"Vmax=IBmax*Rs\n",
"disp('volt',Vmax)\n",
"disp('Vioffset=Ii(offset)*Rs')\n",
"Vioffset=Iioffset*Rs\n",
"disp('volt',Vioffset)"
   ]
   }
,
{
		   "cell_type": "markdown",
		   "metadata": {},
		   "source": [
			"## Example 3.2: Voltage_follower.sce"
		   ]
		  },
  {
"cell_type": "code",
	   "execution_count": null,
	   "metadata": {
	    "collapsed": true
	   },
	   "outputs": [],
"source": [
"disp('chapter 3 ex3.2')\n",
"disp('given')\n",
"disp('resistor connected Rs=47kohms and RL=20kohms')\n",
"disp('voltage follower Vs=1Volt')\n",
"disp('voltage load VL=Vs*RL/(Rs+RL)')\n",
"Rs=47000\n",
"RL=20000\n",
"Vs=1\n",
"VL=Vs*RL/(Rs+RL)\n",
"disp(VL)\n",
"disp('Zin=(1+M)*Zi')\n",
"disp('M=200000 and Zi=2Mohms')\n",
"M=200000\n",
"Zi=2000000\n",
"Zin=(1+M)*Zi\n",
"disp('ohms',Zin)\n",
"disp('Vi=Vs*Zin/(Rs+Zin)')\n",
"Vi=Vs*Zin/(Rs+Zin)\n",
"disp('volt',Vi)\n",
"disp('Vo=Vi*(1-1/M)')\n",
"Vo=Vi*(1-1/M)\n",
"disp('volt',Vo)\n",
"disp('Zout=Zo/(1+M)')\n",
"disp('Zo=75ohms')\n",
"Zo=75\n",
"Zout=Zo/(1+M)\n",
"disp('ohms',Zout)\n",
"disp('VL=Vo*RL/(RL+Zout)')\n",
"VL=Vo*RL/(RL+Zout)\n",
"disp('volt',VL)"
   ]
   }
,
{
		   "cell_type": "markdown",
		   "metadata": {},
		   "source": [
			"## Example 3.3: Potential_divider_and_voltage_follower.sce"
		   ]
		  },
  {
"cell_type": "code",
	   "execution_count": null,
	   "metadata": {
	    "collapsed": true
	   },
	   "outputs": [],
"source": [
"disp('chapter 3 ex3.3')\n",
"disp('given')\n",
"disp('RL=1kohms')\n",
"disp('voltage follower VL=5volt')\n",
"disp('supply voltage Vcc=15volt')\n",
"disp('IL=VL/RL')\n",
"RL=1000\n",
"VL=5\n",
"IL=VL/RL\n",
"disp('amperes',IL)\n",
"disp('V1=Vcc-VL')\n",
"Vcc=15\n",
"V1=Vcc-VL\n",
"disp('volt',V1)\n",
"disp('R1=V1/IL')\n",
"R1=V1/IL\n",
"disp('ohms',R1)\n",
"disp('RL changes by -10%')\n",
"disp('VL=Vcc*(RL-.10)/(R1+(RL-.10))')\n",
"VL=Vcc*(RL-.10)/(R1+(RL-.10))\n",
"disp('volt',VL)\n",
"disp('V2=VL=5volts')\n",
"V2=5\n",
"VL=5\n",
"disp('V1=Vcc-VL')\n",
"V1=Vcc-VL\n",
"disp('volt',V1)\n",
"disp('IBmax=500nA and I2=100*IBmax')\n",
"disp('R2=V2/I2')\n",
"IBmax=500*10^(-9)\n",
"I2=100*IBmax\n",
"R2=V2/I2\n",
"disp('ohms',R2)\n",
"disp('R1=V1/I2')\n",
"R1=V1/I2\n",
"disp('ohms',R1)"
   ]
   }
,
{
		   "cell_type": "markdown",
		   "metadata": {},
		   "source": [
			"## Example 3.4: Non_Inverting_amplifier.sce"
		   ]
		  },
  {
"cell_type": "code",
	   "execution_count": null,
	   "metadata": {
	    "collapsed": true
	   },
	   "outputs": [],
"source": [
"disp('chapter 3 ex3.4')\n",
"disp('given')\n",
"disp('signal amplitude Vi=15mV')\n",
"disp('IBmax=500nA and I2=100*IBmax')\n",
"Vi=.015\n",
"IBmax=500*10^(-9)\n",
"I2=100*IBmax\n",
"disp('R3=Vi/I2')\n",
"R3=Vi/I2\n",
"disp('ohms',R3)\n",
"disp('standard value resistor for R3=270ohms')\n",
"R3=270\n",
"disp('I2=Vi/R3')\n",
"I2=Vi/R3\n",
"disp('amperes',I2)\n",
"disp('Vo=Av*Vi')\n",
"Av=66\n",
"Vo=Av*Vi\n",
"disp('volt',Vo)\n",
"disp('R2=Vo/I2-R3')\n",
"R2=Vo/I2-R3\n",
"disp('ohms',R2)\n",
"disp('standard value resistor to give Av>66 R2=18kohms')\n",
"R2=18000\n",
"disp('R1=R2||R3')\n",
"R1=R2*R3/(R2+R3)\n",
"disp('ohms',R1)\n",
"disp('standard value resistor R1=270ohms')\n",
"R1=270\n",
"disp('ohms',R1)"
   ]
   }
,
{
		   "cell_type": "markdown",
		   "metadata": {},
		   "source": [
			"## Example 3.5: Non_Inverting_amplifier.sce"
		   ]
		  },
  {
"cell_type": "code",
	   "execution_count": null,
	   "metadata": {
	    "collapsed": true
	   },
	   "outputs": [],
"source": [
"disp('chapter 3 ex3.5')\n",
"disp('given')\n",
"disp('Redesigning the noninverting amplifier in example 3.4 using LF353 BIFET op-amp')\n",
"disp('IBmax=200pA and I2=100*IBmax')\n",
"disp('let R2=1Mohms and Av=66')\n",
"R2=1*10^(6)\n",
"Av=66\n",
"disp('R3=R2/(Av-1)')\n",
"R3=R2/(Av-1)\n",
"disp('ohms',R3)\n",
"disp('standard value resistor R3=15kohms will give Av>66')\n",
"R3=15000\n",
"disp('ohms',R3)\n",
"disp('R1=R2||R3')\n",
"R1=R2*R3/(R2+R3)\n",
"disp('ohms',R1)\n",
"disp('standard value R1=15kohms')\n",
"R1=15000\n",
"disp('ohms',R1)"
   ]
   }
,
{
		   "cell_type": "markdown",
		   "metadata": {},
		   "source": [
			"## Example 3.6: Input_impedance_of_non_inverting_amplifier.sce"
		   ]
		  },
  {
"cell_type": "code",
	   "execution_count": null,
	   "metadata": {
	    "collapsed": true
	   },
	   "outputs": [],
"source": [
"disp('chapter 3 ex3.6')\n",
"disp('given')\n",
"disp('standard value of resistor R1=15kohms')\n",
"disp('Av=66')\n",
"disp('typical parameters M=100000 and Zi=10^(12)')\n",
"disp('Zin=(1+M/Av)*Zi')\n",
"R1=15000\n",
"Av=66\n",
"Zi=10^(12)\n",
"M=100000\n",
"Zin=(1+M/Av)*Zi\n",
"disp('ohms',Zin)\n",
"disp('Z1in=R1+Zin')\n",
"Z1in=R1+Zin\n",
"disp('ohms',Z1in)"
   ]
   }
,
{
		   "cell_type": "markdown",
		   "metadata": {},
		   "source": [
			"## Example 3.7: Inverting_amplifier.sce"
		   ]
		  },
  {
"cell_type": "code",
	   "execution_count": null,
	   "metadata": {
	    "collapsed": true
	   },
	   "outputs": [],
"source": [
"disp('chapter 3 ex3.7')\n",
"disp('given')\n",
"disp('Designing inverting amplifier using 741 op-amp')\n",
"disp('voltage gain Av=50')\n",
"disp('output voltage Vo=2.5volt')\n",
"Av=50\n",
"Vo=2.5\n",
"disp('IBmax=500nA and I1=100*IBmax')\n",
"IBmax=500*10^(-9)\n",
"I1=100*IBmax\n",
"disp('V1=Vo/Av')\n",
"V1=Vo/Av\n",
"disp('volt',V1)\n",
"disp('R1=V1/I1')\n",
"R1=V1/I1\n",
"disp('ohms',R1)\n",
"disp('R2=Vo/I1')\n",
"R2=Vo/I1\n",
"disp('ohms',R2)\n",
"disp('R3=R1||R2')\n",
"R3=R1*R2/(R2+R1)\n",
"disp('ohms',R3)"
   ]
   }
,
{
		   "cell_type": "markdown",
		   "metadata": {},
		   "source": [
			"## Example 3.8: Inverting_amplifier.sce"
		   ]
		  },
  {
"cell_type": "code",
	   "execution_count": null,
	   "metadata": {
	    "collapsed": true
	   },
	   "outputs": [],
"source": [
"disp('chapter 3 ex3.8')\n",
"disp('given')\n",
"disp('Redesigning the inverting amplifier in example 3.7 using LF353 BIFET op-amp')\n",
"disp('let R2=1Mohms and Av=50')\n",
"R2=1*10^(6)\n",
"Av=50\n",
"disp('R1=R2/Av')\n",
"R1=R2/Av\n",
"disp('ohms',R1)\n",
"disp('R3=R1||R2')\n",
"R3=R1*R2/(R1+R2)\n",
"disp('ohms',R3)"
   ]
   }
,
{
		   "cell_type": "markdown",
		   "metadata": {},
		   "source": [
			"## Example 3.9: Summing_amplifier.sce"
		   ]
		  },
  {
"cell_type": "code",
	   "execution_count": null,
	   "metadata": {
	    "collapsed": true
	   },
	   "outputs": [],
"source": [
"disp('chapter 3 ex3.9')\n",
"disp('given')\n",
"disp('the direct sum of two inputs which range from .1Volt to 1V0lt')\n",
"Vsmin=0.1\n",
"Vsmax=1\n",
"disp('IBmax=500nA')\n",
"disp('I1min=100*IBmax')\n",
"IBmax=500*10^(-9)\n",
"I1min=100*IBmax\n",
"disp('amperes',I1min)\n",
"disp('R1=Vsmin/I1min') \n",
"R1=Vsmin/I1min\n",
"disp('ohms',R1)\n",
"disp('using standard value R2=R1=1.8kohms')\n",
"R1=1800\n",
"R2=1800\n",
"disp('for Av=1 R3=R1=1.8kohms')\n",
"Av=1\n",
"R3=1800\n",
"disp('R4=R1||R2||R3')\n",
"R4=R1/3\n",
"disp('ohms',R4)\n",
"disp('standard value is 560ohms)"
   ]
   }
],
"metadata": {
		  "kernelspec": {
		   "display_name": "Scilab",
		   "language": "scilab",
		   "name": "scilab"
		  },
		  "language_info": {
		   "file_extension": ".sce",
		   "help_links": [
			{
			 "text": "MetaKernel Magics",
			 "url": "https://github.com/calysto/metakernel/blob/master/metakernel/magics/README.md"
			}
		   ],
		   "mimetype": "text/x-octave",
		   "name": "scilab",
		   "version": "0.7.1"
		  }
		 },
		 "nbformat": 4,
		 "nbformat_minor": 0
}
