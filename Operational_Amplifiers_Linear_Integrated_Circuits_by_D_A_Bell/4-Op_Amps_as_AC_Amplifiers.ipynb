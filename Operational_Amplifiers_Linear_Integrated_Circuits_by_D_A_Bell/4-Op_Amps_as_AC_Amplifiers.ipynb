{
"cells": [
 {
		   "cell_type": "markdown",
	   "metadata": {},
	   "source": [
       "# Chapter 4: Op Amps as AC Amplifiers"
	   ]
	},
{
		   "cell_type": "markdown",
		   "metadata": {},
		   "source": [
			"## Example 4.1: Capacitor_coupled_voltage_follower.sce"
		   ]
		  },
  {
"cell_type": "code",
	   "execution_count": null,
	   "metadata": {
	    "collapsed": true
	   },
	   "outputs": [],
"source": [
"disp('chapter 4 ex4.1')\n",
"disp('given')\n",
"disp('capacitor coupled voltage follower design')\n",
"disp('lower cut off frequency for the circuit =50Hz')\n",
"disp('Rl=3.9kohms')\n",
"disp('R1max=0.1Vbe/Ibmax')\n",
"disp('Vbe=0.7volts')\n",
"disp('Ibmax=500nA')\n",
"Vbe=0.7 \n",
"Ibmax=500*10^(-9)\n",
"R1max=0.1* Vbe/ Ibmax\n",
"disp('R1max= ',R1max)\n",
"disp('assume R1=120Kohms')\n",
"R1=120000\n",
"f1=50\n",
"disp('Xc1=R1/10 at F1')\n",
"disp('C1=1/(2*pi*f1*(R1/10))')\n",
"C1=1/(2*%pi*f1*(R1/10))\n",
"disp('farad',C1)\n",
"Rl=3900\n",
"disp('Xc2=Rl at f1')\n",
"disp('C2=1/(2*pi*f1*Rl)')\n",
"C2=1/(2*%pi*f1*Rl)\n",
"disp('farad',C2)\n",
"disp('The circuit voltage should be normally between 9 to 18 volts')"
   ]
   }
,
{
		   "cell_type": "markdown",
		   "metadata": {},
		   "source": [
			"## Example 4.2: Capacitor_coupled_voltage_follower.sce"
		   ]
		  },
  {
"cell_type": "code",
	   "execution_count": null,
	   "metadata": {
	    "collapsed": true
	   },
	   "outputs": [],
"source": [
"disp('chapter 4 ex4.2')\n",
"disp('given')\n",
"disp('capacitor coupled voltage follower design using BIFET')\n",
"disp('lower cut off frequency for the circuit =50Hz')\n",
"disp('Rl=3.9kohms')\n",
"disp('R1max=1Mohms')\n",
"R1=1000000\n",
"f1=50\n",
"disp('Xc1=R1/10 at F1')\n",
"disp('C1=1/(2*pi*f1*(R1/10))')\n",
"C1=1/(2*%pi*f1*(R1/10))\n",
"disp('farad',C1)\n",
"Rl=3900\n",
"disp('Xc2=Rl at f1')\n",
"disp('C2=1/(2*pi*f1*Rl)')\n",
"C2=1/(2*%pi*f1*Rl)\n",
"disp('farad',C2)\n",
"disp('The circuit voltage should be normally between 9 to 18 volts')"
   ]
   }
,
{
		   "cell_type": "markdown",
		   "metadata": {},
		   "source": [
			"## Example 4.3: High_Zin_Capacitor_coupled_voltage_follower.sce"
		   ]
		  },
  {
"cell_type": "code",
	   "execution_count": null,
	   "metadata": {
	    "collapsed": true
	   },
	   "outputs": [],
"source": [
"disp('chapter 4 ex4.3')\n",
"disp('given')\n",
"disp('capacitor coupled voltage follower design')\n",
"disp('lower cut off frequency for the circuit =50Hz')\n",
"disp('Rl=3.9kohms')\n",
"disp('R1max=0.1Vbe/Ibmax')\n",
"disp('Vbe=0.7volts')\n",
"disp('Ibmax=500nA')\n",
"Vbe=0.7 \n",
"Ibmax=500*10^(-9)\n",
"R1max=0.1* Vbe/ Ibmax\n",
"disp('R1max= ')\n",
"disp('ohms',R1max)\n",
"disp('R1+R2=Rmax')\n",
"R1=R1max/2\n",
"R2=R1\n",
"disp('assume R1=68Kohms')\n",
"R1=68000\n",
"f1=50\n",
"disp('Xc1=R1/10 at F1')\n",
"disp('C1=1/(2*pi*f1*(R1/10))')\n",
"C1=1/(2*%pi*f1*(R1/10))\n",
"C2=C1\n",
"disp('farads',C1)\n",
"Rl=3900\n",
"disp('farads',C2)\n",
"M=50000\n",
"disp('M=50000')\n",
"disp('Zin=(1+M)*R1')\n",
"Zin=(1+M)*R1\n",
"disp('ohms',Zin)\n",
"disp('The circuit voltage should be normally between 9 to 18 volts')"
   ]
   }
,
{
		   "cell_type": "markdown",
		   "metadata": {},
		   "source": [
			"## Example 4.4: Capacitor_coupled_non_inverting_amplifier.sce"
		   ]
		  },
  {
"cell_type": "code",
	   "execution_count": null,
	   "metadata": {
	    "collapsed": true
	   },
	   "outputs": [],
"source": [
"disp('chapter 4 ex4.4')\n",
"disp('given')\n",
"disp('capacitor coupled non inverting amplifier design')\n",
"disp('lower cut off frequency for the circuit =120Hz')\n",
"disp('Rl=2.2kohms')\n",
"disp('R1max=0.1Vbe/Ibmax')\n",
"disp('Vbe=0.7volts')\n",
"disp('Ibmax=500nA')\n",
"Vbe=0.7 \n",
"Ibmax=500*10^(-9)\n",
"R1max=0.1* Vbe/ Ibmax\n",
"disp('R1max= ',R1max)\n",
"R1=120000\n",
"f1=120\n",
"disp('R1=18 kohms and R3=270 ohms from example 3.4')\n",
"disp('Xc1=R1/10 at F1')\n",
"disp('C1=1/(2*pi*f1*(R1/10))')\n",
"C1=1/(2*%pi*f1*(R1/10))\n",
"disp('farads',C1)\n",
"Rl=2200\n",
"disp('Xc2=Rl at f1')\n",
"disp('C2=1/(2*pi*f1*Rl)')\n",
"C2=1/(2*%pi*f1*Rl)\n",
"disp('farads',C2)\n",
"disp('The circuit voltage should be normally between 9 to 18 volts')"
   ]
   }
,
{
		   "cell_type": "markdown",
		   "metadata": {},
		   "source": [
			"## Example 4.5: High_Zin_Capacitor_coupled_non_inverting.sce"
		   ]
		  },
  {
"cell_type": "code",
	   "execution_count": null,
	   "metadata": {
	    "collapsed": true
	   },
	   "outputs": [],
"source": [
"disp('chapter 4 ex4.5')\n",
"disp('given')\n",
"disp('capacitor coupled non inverting high impedence follower design')\n",
"disp('lower cut off frequency for the circuit =200Hz')\n",
"disp('Rl=12kohms')\n",
"disp('input voltage=15mV')\n",
"disp('output voltage=3V')\n",
"disp('Av=Vo/Vi')\n",
"Vo=3\n",
"Vi=0.015\n",
"Av=Vo/Vi\n",
"disp(Av)\n",
"disp('for non inverting amplifier Av=(R2+R3)/R3')\n",
"disp('for BIFET opamp R2=1Mohms')\n",
"R2=1000000\n",
"R3=R2/(Av-1)\n",
"disp(R3,'R3=')\n",
"f1=200\n",
"R1=R2-R3\n",
"disp(R1,'R1=')\n",
"disp('C2=1/(2*pi*f1*(R3))')\n",
"C2=1/(2*%pi*f1*(R3))\n",
"disp('farads',C2)\n",
"disp('C1=1000pF much larger than stray capacitance')\n",
"Rl=12000\n",
"disp('Xc3=Rl/10 at f1')\n",
"disp('C2=1/(2*pi*f1*(Rl/10)')\n",
"C2=1/(2*%pi*f1*(Rl/10))\n",
"disp('farads',C2)\n",
"disp('The circuit voltage should be normally between 9 to 18 volts')"
   ]
   }
,
{
		   "cell_type": "markdown",
		   "metadata": {},
		   "source": [
			"## Example 4.6: Capacitor_coupled_inverting_amplifier.sce"
		   ]
		  },
  {
"cell_type": "code",
	   "execution_count": null,
	   "metadata": {
	    "collapsed": true
	   },
	   "outputs": [],
"source": [
"disp('chapter 4 ex4.6')\n",
"disp('given')\n",
"disp('capacitor coupled inverting amplifier design')\n",
"disp('frequency range for the circuit =10Hz to 1KHz')\n",
"disp('Rl=250ohms')\n",
"disp('From inverting amplifier designed in ex 3.7 R1=1Kohms')\n",
"R1=1000\n",
"f1=10\n",
"disp('Xc1=R1/10 at F1')\n",
"disp('C1=1/(2*pi*f1*(R1/10))')\n",
"C1=1/(2*%pi*f1*(R1/10))\n",
"disp('farads',C1)\n",
"Rl=250\n",
"disp('Xc2=Rl at f1')\n",
"disp('C2=1/(2*pi*f1*Rl)')\n",
"C2=1/(2*%pi*f1*Rl)\n",
"disp('farads',C2)\n",
"disp('From inverting amplifier designed in ex 3.7 R2=47Kohms')\n",
"R2=47000\n",
"disp('Cf=1/(2*pi*f1*R2)')\n",
"Cf=1/(2*%pi*f1*R2)\n",
"disp('farads',Cf)\n",
"disp('The circuit voltage should be normally between 9 to 18 volts')"
   ]
   }
,
{
		   "cell_type": "markdown",
		   "metadata": {},
		   "source": [
			"## Example 4.7: Capacitor_coupled_non_inverting_amplifier.sce"
		   ]
		  },
  {
"cell_type": "code",
	   "execution_count": null,
	   "metadata": {
	    "collapsed": true
	   },
	   "outputs": [],
"source": [
"disp('chapter 4 ex4.7')\n",
"disp('given')\n",
"disp('capacitor coupled non inverting amplifier design')\n",
"disp('voltage gain=100')\n",
"disp('Supply voltage=24v ')\n",
"Av=100\n",
"Vcc=24\n",
"disp('Output amplitude=5V')\n",
"Vo=5\n",
"disp('lower cut off frequency for the circuit =75Hz')\n",
"disp('Rl=5.6kohms')\n",
"disp('Ibmax=500nA')\n",
"Vbe=0.7 \n",
"Ibmax=500*10^(-9)\n",
"disp('I2>>Ibmax')\n",
"I2=100*Ibmax\n",
"disp(I2,'I2=')\n",
"R1=(Vcc/2)/I2\n",
"disp('R1= ')\n",
"disp('ohms',R1)\n",
"R2=(Vcc/2)/I2\n",
"disp(R2,'R2=')\n",
"disp('assume R1=220Kohms')\n",
"disp('Vi=Vo/Av')\n",
"Vi=Vo/Av\n",
"disp(Vi,'Vi=')\n",
"R1=220000\n",
"disp('I4>>Ibmax')\n",
"I4=100*Ibmax\n",
"disp(I4,'I4=')\n",
"R4=Vi/I4\n",
"disp(R4,'R4=')\n",
"disp('R3+R4=Vo/I4')\n",
"R3=(Vo/I4)-R4\n",
"disp(R3,'R3=')\n",
"Rp=(R1*R2)/(R1+R2)\n",
"disp(Rp,'Rp(R1||R2)=')\n",
"f1=75\n",
"disp('Xc1=Rp/10 at F1')\n",
"disp('C1=1/(2*pi*f1*(Rp/10))')\n",
"C1=1/(2*%pi*f1*(Rp/10))\n",
"disp('farads',C1)\n",
"Rl=5600\n",
"disp('Xc2=Rl/10 at F1')\n",
"disp('C2=1/(2*pi*f1*(Rl/10))')\n",
"C2=1/(2*%pi*f1*(Rl/10))\n",
"disp('farads',C2)\n",
"disp('C1=1/(2*pi*f1*R4)')\n",
"C3=1/(2*%pi*f1*R4)\n",
"disp('farads',C3)\n",
"disp('The circuit voltage should be normally between 9 to 18 volts')"
   ]
   }
],
"metadata": {
		  "kernelspec": {
		   "display_name": "Scilab",
		   "language": "scilab",
		   "name": "scilab"
		  },
		  "language_info": {
		   "file_extension": ".sce",
		   "help_links": [
			{
			 "text": "MetaKernel Magics",
			 "url": "https://github.com/calysto/metakernel/blob/master/metakernel/magics/README.md"
			}
		   ],
		   "mimetype": "text/x-octave",
		   "name": "scilab",
		   "version": "0.7.1"
		  }
		 },
		 "nbformat": 4,
		 "nbformat_minor": 0
}
