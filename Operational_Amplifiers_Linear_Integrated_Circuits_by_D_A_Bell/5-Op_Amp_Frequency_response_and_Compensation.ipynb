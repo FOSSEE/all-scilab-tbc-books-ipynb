{
"cells": [
 {
		   "cell_type": "markdown",
	   "metadata": {},
	   "source": [
       "# Chapter 5: Op Amp Frequency response and Compensation"
	   ]
	},
{
		   "cell_type": "markdown",
		   "metadata": {},
		   "source": [
			"## Example 5.10: Slew_rate_effects.sce"
		   ]
		  },
  {
"cell_type": "code",
	   "execution_count": null,
	   "metadata": {
	    "collapsed": true
	   },
	   "outputs": [],
"source": [
"disp('chapter 5 ex5.10')\n",
"disp('given')\n",
"disp('the output of sine wave Vp=.35Volt')\n",
"disp('the typical slew rate for 741 op-amp S=.5V/1*10^(-6)s')\n",
"disp('f2=800kHz')\n",
"Vp=5\n",
"S=.5/(1*10^(-6))\n",
"f2=800000\n",
"disp('tr(f2)=.35/f2')\n",
"trf2=.35/f2\n",
"disp('seconds',trf2)\n",
"disp('tr(s)=Vp/S')\n",
"trs=Vp/S\n",
"disp('seconds',trs)\n",
"disp('trs=1*10^(-6)')\n",
"trs=1*10^(-6)\n",
"disp('Vp=trs*S')\n",
"Vp=trs*S\n",
"disp('volts',Vp)\n",
"disp('f2=100kHz')\n",
"f2=100000\n",
"disp('tr(f2)=.35/f2')\n",
"trf2=.35/f2\n",
"disp('seconds',trf2)\n",
"disp('trs=3.5*10^(-6)')\n",
"trs=3.5*10^(-6)\n",
"disp('Vp=trs*S')\n",
"Vp=trs*S\n",
"disp('volts',Vp)"
   ]
   }
,
{
		   "cell_type": "markdown",
		   "metadata": {},
		   "source": [
			"## Example 5.11: Input_stray_capacitance.sce"
		   ]
		  },
  {
"cell_type": "code",
	   "execution_count": null,
	   "metadata": {
	    "collapsed": true
	   },
	   "outputs": [],
"source": [
"disp('chapter 5 ex5.11')\n",
"disp('given')\n",
"disp('R1=R3=2.2kohms')\n",
"disp('R2=220kohms')\n",
"disp('Rs=220ohms')\n",
"Rs=220\n",
"R1=2200\n",
"R3=2200\n",
"R2=220000\n",
"disp('R=R3+R2||(R1+Rs)')\n",
"R=R3+(R2*(R1+Rs)/(R2+R1+Rs))\n",
"disp('ohms',R)\n",
"disp('f=600kHz')\n",
"f=600000\n",
"disp('Cs=1/(2*%pi*f*10*R)')\n",
"Cs=1/(2*%pi*f*10*R)\n",
"disp('farads',Cs)"
   ]
   }
,
{
		   "cell_type": "markdown",
		   "metadata": {},
		   "source": [
			"## Example 5.12: Input_stray_capacitance.sce"
		   ]
		  },
  {
"cell_type": "code",
	   "execution_count": null,
	   "metadata": {
	    "collapsed": true
	   },
	   "outputs": [],
"source": [
"disp('chapter 5 ex5.12')\n",
"disp('given')\n",
"disp('R1=R3=2200ohms')\n",
"disp('R2=220kohms')\n",
"disp('Rs=220ohms')\n",
"Rs=220\n",
"R1=2200\n",
"R3=2200\n",
"R2=220000\n",
"disp('R=R2+R3')\n",
"R=R2+R3\n",
"disp('ohms',R)\n",
"disp('f=600kHz')\n",
"f=600000\n",
"disp('Cs=1/(2*%pi*f*10*R)')\n",
"Cs=1/(2*%pi*f*10*R)\n",
"disp('farads',Cs)\n",
"disp('R=R2||(R1+Rs)')\n",
"R=R2*(R1+Rs)/(R2+R1+Rs)\n",
"disp('ohms',R)\n",
"disp('Cs=1/(2*%pi*f*10*R)')\n",
"Cs=1/(2*%pi*f*10*R)\n",
"disp('farads',Cs)\n",
"disp('R=R3+R2||(R1+Rs)')\n",
"disp('R1=R3=220ohms')\n",
"disp('R2=22kohms')\n",
"disp('Rs=22ohms')\n",
"Rs=22\n",
"R1=220\n",
"R3=220\n",
"R2=22000\n",
"R=R3+(R2*(R1+Rs)/(R2+R1+Rs))\n",
"disp('ohms',R)\n",
"disp('Cs=1/(2*%pi*f*10*R)')\n",
"Cs=1/(2*%pi*f*10*R)\n",
"disp('farads',Cs)"
   ]
   }
,
{
		   "cell_type": "markdown",
		   "metadata": {},
		   "source": [
			"## Example 5.13: feedback_capacitor.sce"
		   ]
		  },
  {
"cell_type": "code",
	   "execution_count": null,
	   "metadata": {
	    "collapsed": true
	   },
	   "outputs": [],
"source": [
"disp('chapter 5 ex5.13')\n",
"disp('given')\n",
"disp('Determining the feedback capacitor')\n",
"disp('R1=220ohms')\n",
"disp('R2=22kohms')\n",
"disp('Cs from example 5.12=58pF')\n",
"R1=220\n",
"R2=22000\n",
"Cs=58*10^(-12)\n",
"disp('C2=R1*Cs/R2')\n",
"C2=R1*Cs/R2\n",
"disp('farads',C2)"
   ]
   }
,
{
		   "cell_type": "markdown",
		   "metadata": {},
		   "source": [
			"## Example 5.14: load_capacitor.sce"
		   ]
		  },
  {
"cell_type": "code",
	   "execution_count": null,
	   "metadata": {
	    "collapsed": true
	   },
	   "outputs": [],
"source": [
"disp('chapter 5 ex5.14')\n",
"disp('given')\n",
"disp('Determine the load capacitance')\n",
"disp('from the data sheet Ro=150ohm')\n",
"Ro=150\n",
"disp('f=600kHz')\n",
"f=600000\n",
"disp('Cs=1/(2*%pi*f*10*Ro)')\n",
"Cs=1/(2*%pi*f*10*Ro)\n",
"disp('farads',Cs)"
   ]
   }
,
{
		   "cell_type": "markdown",
		   "metadata": {},
		   "source": [
			"## Example 5.15: feedback_capacitance.sce"
		   ]
		  },
  {
"cell_type": "code",
	   "execution_count": null,
	   "metadata": {
	    "collapsed": true
	   },
	   "outputs": [],
"source": [
"disp('chapter 5 ex5.15')\n",
"disp('given')\n",
"disp('Determine the feedback capacitance')\n",
"disp('from the data sheet Ro=150ohm')\n",
"Ro=150\n",
"disp('R2=220kohms')\n",
"R2=220000\n",
"disp('load capacitance CL=.1*10^(-6)F')\n",
"CL=.1*10^(-6)\n",
"disp('C2=Ro/R2*CL')\n",
"C2=Ro/R2*CL\n",
"disp('farads',C2)\n",
"disp('additional resistor R=470ohm')\n",
"R=470\n",
"disp('C2=(Ro+R)/R2*CL')\n",
"C2=(Ro+R)/R2*CL\n",
"disp('farads',C2)\n",
"disp('use 300pF standard value')"
   ]
   }
,
{
		   "cell_type": "markdown",
		   "metadata": {},
		   "source": [
			"## Example 5.16: Zin_mod_compensation.sce"
		   ]
		  },
  {
"cell_type": "code",
	   "execution_count": null,
	   "metadata": {
	    "collapsed": true
	   },
	   "outputs": [],
"source": [
"disp('chapter 5 ex5.16')\n",
"disp('given')\n",
"disp('calculating R4 and C4 for high Zin Mod for ex 5.4')\n",
"disp('assuming R3 is a short circuit')\n",
"disp('circuit is designed to have Av=1/beta')\n",
"beta=0.01\n",
"Av=1/beta\n",
"disp(Av,'Av=')\n",
"Avindb=20*log10(Av)\n",
"disp(Avindb,'Av in db=')\n",
"disp('to reduce next compensating components select 1/beta1=1000=60db')\n",
"disp('1/beta1=((r1||r4)+r2)/(r1||r4)')\n",
"disp('r2=220kohms,r1=2.2kohm')\n",
"disp('r14=r1||r4=r2/(1000-1)')\n",
"r2=220000\n",
"r1=2200\n",
"r14=r2/(1000-1)\n",
"disp('ohms',r14)\n",
"disp('(1/r4)=(1/220)-(1/r1)')\n",
"g4=(1/r14)-(1/r1)\n",
"r4=1/g4\n",
"disp('ohms',r4)\n",
"disp('use 220ohm std value')\n",
"r4=220\n",
"disp('the compensating components for 1/beta1=60db are c1=10pf,r1=0,c2=3pf')\n",
"c1=10*10^(-12)\n",
"c2=3*10^(-12)\n",
"r1=0\n",
"disp('the frequency at which M*beta=1 is found and is equal to 2MHz')\n",
"f2=2000000\n",
"disp('Xc4<<r4 therefore Xc4=r4/10')\n",
"Xc4=r4/10\n",
"disp('ohms',Xc4)\n",
"disp('C4=1/(2*%pi*f2*Xc4)')\n",
"C4=1/(2*%pi*f2*Xc4)\n",
"disp('farads',C4)"
   ]
   }
,
{
		   "cell_type": "markdown",
		   "metadata": {},
		   "source": [
			"## Example 5.2: Voltage_follower.sce"
		   ]
		  },
  {
"cell_type": "code",
	   "execution_count": null,
	   "metadata": {
	    "collapsed": true
	   },
	   "outputs": [],
"source": [
"disp('chapter 5 ex5.2')\n",
"disp('given')\n",
"disp('714 op-amp is used as a voltage follower')\n",
"disp('voltage gain Av=1')\n",
"Av=1\n",
"disp('C1=500pF C2=2000pF C3=1000pF')"
   ]
   }
,
{
		   "cell_type": "markdown",
		   "metadata": {},
		   "source": [
			"## Example 5.3: Inverting_amplifier.sce"
		   ]
		  },
  {
"cell_type": "code",
	   "execution_count": null,
	   "metadata": {
	    "collapsed": true
	   },
	   "outputs": [],
"source": [
"disp('chapter 5 ex5.3')\n",
"disp('given')\n",
"disp('LM108 op-amp is used design an inverting amplifier')\n",
"disp('V1=100mV')\n",
"V1=100*10^(-3)\n",
"disp('voltage gain Av=3')\n",
"Av=3\n",
"disp('IBmax=2nA and I1=100*IBmax')\n",
"IBmax=2*10^(-9)\n",
"I1=100*IBmax\n",
"disp('amperes',I1)\n",
"disp('R1=V1/I1')\n",
"R1=V1/I1\n",
"disp('ohms',R1)\n",
"disp('standard value R1=470kohms')\n",
"R1=470000\n",
"disp('R2=Av*R1')\n",
"R2=Av*R1\n",
"disp('ohms',R2)\n",
"disp('standard value R2=1.5Mohms')\n",
"R2=1.5*10^(6)\n",
"disp('R3=R1||R2')\n",
"R3=R1*R2/(R1+R2)\n",
"disp('ohms',R3)\n",
"disp('Cf=30pF*R1/(R1+R2)')\n",
"Cf=30*10^(-12)*R1/(R1+R2)\n",
"disp('farads',Cf)"
   ]
   }
,
{
		   "cell_type": "markdown",
		   "metadata": {},
		   "source": [
			"## Example 5.4: Inverting_amplifier.sce"
		   ]
		  },
  {
"cell_type": "code",
	   "execution_count": null,
	   "metadata": {
	    "collapsed": true
	   },
	   "outputs": [],
"source": [
"disp('chapter 5 ex5.4')\n",
"disp('given')\n",
"disp('709 op-amp is used design an inverting amplifier')\n",
"disp('Vs=50mV')\n",
"Vs=50*10^(-3)\n",
"disp('voltage gain Av=100')\n",
"Av=100\n",
"disp('IBmax=2nA and I1=100*IBmax')\n",
"IBmax=2*10^(-9)\n",
"I1=100*IBmax\n",
"disp('amperes',I1)\n",
"disp('R1=Vs/I1')\n",
"R1=Vs/I1\n",
"disp('ohms',R1)\n",
"disp('standard value R1=2.2kohms')\n",
"R1=2200\n",
"disp('R2=Av*R1')\n",
"R2=Av*R1\n",
"disp('ohms',R2)\n",
"disp('R3=R1||R2')\n",
"R3=R1*R2/(R1+R2)\n",
"disp('ohms',R3)\n",
"disp('Av=100=40dB')"
   ]
   }
,
{
		   "cell_type": "markdown",
		   "metadata": {},
		   "source": [
			"## Example 5.5: Non_Inverting_amplifier.sce"
		   ]
		  },
  {
"cell_type": "code",
	   "execution_count": null,
	   "metadata": {
	    "collapsed": true
	   },
	   "outputs": [],
"source": [
"disp('chapter 5 ex5.5')\n",
"disp('given')\n",
"disp('709 op-amp is used to design an noninverting amplifier')\n",
"disp('voltage gain Av=50')\n",
"Av=50\n",
"disp('voltage gain Av=50=34dB')\n",
"disp('compensation components are listed for Av=20dB and for Av=40dB')\n",
"disp('for over compensation use components for Av=20dB')\n",
"disp('C1=500pF R1=1.5kohms C2=20pF')"
   ]
   }
,
{
		   "cell_type": "markdown",
		   "metadata": {},
		   "source": [
			"## Example 5.6: upper_cut_off_frequency.sce"
		   ]
		  },
  {
"cell_type": "code",
	   "execution_count": null,
	   "metadata": {
	    "collapsed": true
	   },
	   "outputs": [],
"source": [
"disp('chapter 5 ex5.6')\n",
"disp('given')\n",
"disp('741 op-amp is used to design an noninverting amplifier')\n",
"disp('voltage gain Av=100')\n",
"Av=100\n",
"disp('F2 occurs at')\n",
"M=20*log10(Av)\n",
"disp('db',M)\n",
"disp('from the graph')\n",
"disp('from the intersection of the line and open loop frequency responce')\n",
"disp('F2 occurs at' )\n",
"F2=8000\n",
"disp('Hz',F2)\n",
"disp('709 op-amp is used design an noninverting amplifier')\n",
"disp('from the graph')\n",
"disp('from the intersection of the line and open loop frequency responce')\n",
"disp('F2 occurs at' )\n",
"F2=6000\n",
"disp('Hz',F2)"
   ]
   }
,
{
		   "cell_type": "markdown",
		   "metadata": {},
		   "source": [
			"## Example 5.7: Gain_bandwidth_product.sce"
		   ]
		  },
  {
"cell_type": "code",
	   "execution_count": null,
	   "metadata": {
	    "collapsed": true
	   },
	   "outputs": [],
"source": [
"disp('chapter 5 ex5.7')\n",
"disp('given')\n",
"disp('Using the gain-bandwidth product estimate upper cut off frequencies in example5.6')\n",
"disp('741 op-amp')\n",
"disp('fu=800kHz and Av=100')\n",
"fu=800000\n",
"Av=100\n",
"disp('f2=fu/Av')\n",
"f2=fu/Av\n",
"disp('Hz',f2)\n",
"disp('For 709 op-amp with C1=100pF R1=1.5kohms C2=3pF')\n",
"disp('cutoff frequency cannot be calculated with above compensating components because voltage gain doesnot fall off at 20dB per decade throughout frequency response')"
   ]
   }
,
{
		   "cell_type": "markdown",
		   "metadata": {},
		   "source": [
			"## Example 5.8: Upper_cutt_off_frequency_of_voltage_follower.sce"
		   ]
		  },
  {
"cell_type": "code",
	   "execution_count": null,
	   "metadata": {
	    "collapsed": true
	   },
	   "outputs": [],
"source": [
"disp('chapter 5 ex5.8')\n",
"disp('given')\n",
"disp('Using the gain-bandwidth product estimate upper cut off frequencies')\n",
"disp('741 op-amp')\n",
"disp('fu=800kHz and Av=1')\n",
"fu=800000\n",
"Av=1\n",
"disp('f2=fu/Av')\n",
"f2=fu/Av\n",
"disp('Hz',f2)\n",
"disp('for unity gain R1=R2')\n",
"disp('Av=(R1+R2)/R1')\n",
"R1=R2\n",
"Av=(R1+R2)/R1\n",
"disp(Av)\n",
"disp('f2=fu/Av')\n",
"f2=fu/Av\n",
"disp('Hz',f2)"
   ]
   }
,
{
		   "cell_type": "markdown",
		   "metadata": {},
		   "source": [
			"## Example 5.9: Slew_rate_effects.sce"
		   ]
		  },
  {
"cell_type": "code",
	   "execution_count": null,
	   "metadata": {
	    "collapsed": true
	   },
	   "outputs": [],
"source": [
"disp('chapter 5 ex5.9')\n",
"disp('given')\n",
"disp('the output of sine wave Vp=5Volt')\n",
"disp('the typical slew rate for 741 op-amp S=.5V/1*10^(-6)s')\n",
"Vp=5\n",
"S=.5/(1*10^(-6))\n",
"disp('fs=S/(2*%pi*Vp)')\n",
"fs=S/(2*%pi*Vp)\n",
"disp('Hz',fs)\n",
"disp('The slew rate-limited frequency should be equal to cutoff frequency')\n",
"disp('fs=f2=800kHz')\n",
"f2=800000\n",
"fs=f2\n",
"disp('Vp=S/(2*%pi*fs)')\n",
"Vp=S/(2*%pi*fs)\n",
"disp('volts',Vp)\n",
"disp('741 op-amp f2=8kHz')\n",
"f2=8000\n",
"disp('Vp=S/(2*%pi*f2)')\n",
"Vp=S/(2*%pi*f2)\n",
"disp('volts',Vp)"
   ]
   }
],
"metadata": {
		  "kernelspec": {
		   "display_name": "Scilab",
		   "language": "scilab",
		   "name": "scilab"
		  },
		  "language_info": {
		   "file_extension": ".sce",
		   "help_links": [
			{
			 "text": "MetaKernel Magics",
			 "url": "https://github.com/calysto/metakernel/blob/master/metakernel/magics/README.md"
			}
		   ],
		   "mimetype": "text/x-octave",
		   "name": "scilab",
		   "version": "0.7.1"
		  }
		 },
		 "nbformat": 4,
		 "nbformat_minor": 0
}
