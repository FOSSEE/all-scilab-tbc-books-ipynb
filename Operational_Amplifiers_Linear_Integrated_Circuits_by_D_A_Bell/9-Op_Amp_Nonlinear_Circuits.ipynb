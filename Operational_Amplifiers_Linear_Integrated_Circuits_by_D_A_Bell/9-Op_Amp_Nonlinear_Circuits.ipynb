{
"cells": [
 {
		   "cell_type": "markdown",
	   "metadata": {},
	   "source": [
       "# Chapter 9: Op Amp Nonlinear Circuits"
	   ]
	},
{
		   "cell_type": "markdown",
		   "metadata": {},
		   "source": [
			"## Example 9.1: Capacitor_coupled_zero_crossing_detector.sce"
		   ]
		  },
  {
"cell_type": "code",
	   "execution_count": null,
	   "metadata": {
	    "collapsed": true
	   },
	   "outputs": [],
"source": [
"disp('chapter 9 ex9.1')\n",
"disp('given')\n",
"disp('design a suitable circuit using 741 op-amp with a supply of +or-12volt')\n",
"disp('capacitor coupled zero crossing detector to handle 1kHz square wave input with peak-to-peak amplitude of 6volt')\n",
"Vi=6\n",
"f=1000\n",
"Vcc=12\n",
"disp('I2>IBmax')\n",
"disp('let I2=100*500nA')\n",
"IBmax=500*10^(-9)\n",
"I2=100*500*10^(-9)\n",
"disp('let Vb=0.1volt')\n",
"Vb=0.1\n",
"disp('VR2=Vcc-Vb')\n",
"VR2=Vcc-Vb\n",
"disp('volts',VR2)\n",
"disp('R2=VR2/I2')\n",
"R2=VR2/I2\n",
"disp('ohms',R2)\n",
"disp('use 220kohm standard value and recalculate I2')\n",
"R2=220000\n",
"disp('I2=VR2/R2')\n",
"I2=VR2/R2\n",
"disp('amperes',I2)\n",
"disp('VR3=Vb=0.1volt')\n",
"VR3=0.1\n",
"disp('R3=VR3/I2')\n",
"R3=VR3/I2\n",
"disp('ohms',R3)   //use a 1.8kohm standard value\n",
"disp('let VBE=0.7volt')\n",
"VBE=0.7\n",
"disp('R1=0.1*VBE/IBmax')\n",
"R1=0.1*VBE/IBmax\n",
"disp('ohms',R1)\n",
"disp('use R1=120kohm standard value')\n",
"R1=120000\n",
"disp('Vi(peak)=Vi/2')\n",
"Vipeak=Vi/2\n",
"disp('volts',Vipeak)\n",
"disp('I1=Vipeak/R1')\n",
"I1=Vipeak/R1\n",
"disp('amperes',I1)\n",
"disp('let v=1volt')\n",
"v=1\n",
"disp('t=1/(2*f)')\n",
"t=1/(2*f)\n",
"disp('seconds',t)\n",
"disp('C1=I1*t/v')\n",
"C1=I1*t/v \n",
"disp('farads',C1) \n",
"disp('use a 0.015*10^(-6)F standard value to give v<1volt')"
   ]
   }
,
{
		   "cell_type": "markdown",
		   "metadata": {},
		   "source": [
			"## Example 9.2: slew_rate_for_Capacitor_coupled_zero_crossing_detector.sce"
		   ]
		  },
  {
"cell_type": "code",
	   "execution_count": null,
	   "metadata": {
	    "collapsed": true
	   },
	   "outputs": [],
"source": [
"disp('chapter 9 ex9.2')\n",
"disp('given')\n",
"disp('for circuit designed in ex 9.1 estimate minimum op-amp slew rate to give a reasonably undistorted output')\n",
"disp('Vcc=12volt,Vee=12volt and Vosat=1volt')\n",
"disp('t=500*10^(-6)s')\n",
"disp('R1=120kohm and C1=0.015*10^(-6)F')\n",
"Vcc=12\n",
"Vee=-12\n",
"Vosat=1\n",
"t=500*10^(-6)\n",
"R1=120000\n",
"C1=0.015*10^(-6)\n",
"disp('vo=+Vosat-[-Vosat]=(Vcc-1)-(Vee+1)')\n",
"vo=(Vcc-1)-(Vee+1)\n",
"disp('volts',vo)\n",
"disp('T=0.1*t')\n",
"T=0.1*t\n",
"disp('seconds',T)\n",
"disp('Smin=vo/T')\n",
"Smin=vo/T\n",
"disp('V/us',Smin)\n",
"disp('for a maximum phase shift of 2.9degree with a sine wave input')\n",
"disp('Xc1=R1/20')\n",
"Xc1=R1/20\n",
"disp('ohms',Xc1)\n",
"disp('fmin=1/(2*%pi*Xc1*C1)')\n",
"fmin=1/(2*%pi*Xc1*C1)\n",
"disp('Hz',fmin)"
   ]
   }
,
{
		   "cell_type": "markdown",
		   "metadata": {},
		   "source": [
			"## Example 9.3: Inverting_Schmitt_trigger_circuit.sce"
		   ]
		  },
  {
"cell_type": "code",
	   "execution_count": null,
	   "metadata": {
	    "collapsed": true
	   },
	   "outputs": [],
"source": [
"disp('chapter 9 ex9.3')\n",
"disp('given')\n",
"disp('design an inverting Schmitt trigger circuit to have trigger points of +or-2volt')\n",
"disp('using 741 op-amp with a supply of +or-12volt')\n",
"disp('I2>IBmax')\n",
"disp('let I2=50*10^(-6)A')\n",
"IBmax=500*10^(-9)\n",
"I2=50*10^(-6)\n",
"Vcc=12\n",
"disp('VR2=UTP=2volt')\n",
"VR2=2\n",
"disp('R2=VR2/I2')\n",
"R2=VR2/I2\n",
"disp('ohms',R2)\n",
"disp('use 39kohm standard value and recalculate I2')\n",
"R2=39000\n",
"disp('I2=VR2/R2')\n",
"I2=VR2/R2\n",
"disp('amperes',I2)\n",
"disp('VR1=Vosat-VR2=(Vcc-1)-VR2')\n",
"VR1=(Vcc-1)-VR2\n",
"disp('volt',VR1)\n",
"disp('R1=VR1/I2')\n",
"R1=VR1/I2\n",
"disp('ohms',R1)\n",
"disp('use 180kohm standard value')"
   ]
   }
,
{
		   "cell_type": "markdown",
		   "metadata": {},
		   "source": [
			"## Example 9.4: Noninverting_Schmitt_trigger_circuit.sce"
		   ]
		  },
  {
"cell_type": "code",
	   "execution_count": null,
	   "metadata": {
	    "collapsed": true
	   },
	   "outputs": [],
"source": [
"disp('chapter 9 ex9.4')\n",
"disp('given')\n",
"disp('design an noninverting Schmitt trigger circuit to have UTP=+3volt and LTP=-5volt')\n",
"disp('using 741 op-amp with a supply of +or-15volt and Vf=0.7volt')\n",
"Vcc=15\n",
"Vf=0.7\n",
"disp('design first for the UTP')\n",
"disp('for adequate diode forward current,let I2=500*10^(-6)A')\n",
"I2=500*10^(-6)\n",
"disp('VR1=UTP=3volt')\n",
"VR1=3\n",
"disp('R1=VR1/I2')\n",
"R1=VR1/I2\n",
"disp('ohms',R1)\n",
"disp('use 5.6kohm standard value and recalculate I2')\n",
"R1=5600\n",
"disp('I2=VR1/R1')\n",
"I2=VR1/R1\n",
"disp('amperes',I2)\n",
"disp('VR2=|Vo|-Vf')\n",
"VR2=(Vcc-1)-Vf\n",
"disp('volts',VR2)\n",
"disp('R2=VR2/I2')\n",
"R2=VR2/I2\n",
"disp('ohms',R2)\n",
"disp('use series connected 22kohm and 2.7kohm standard value resistors')\n",
"disp('now design for LTP,using already selected resistance R1=5.6kohm')\n",
"disp('VR1=LTP=5volt')\n",
"VR1=5\n",
"disp('I3=VR1/R1')\n",
"I3=VR1/R1\n",
"disp('amperes',I3)\n",
"disp('VR3=|Vo|-Vf')\n",
"VR3=(Vcc-1)-Vf\n",
"disp('volts',VR3)\n",
"disp('R3=VR3/I3')\n",
"R3=VR3/I3\n",
"disp('ohms',R3)\n",
"disp('use 15kohm standard value')\n",
"disp('select tha diodes,minimum reverse voltage,Vr>Vcc=15volt')\n",
"disp('trr<=min pulse width/10')"
   ]
   }
,
{
		   "cell_type": "markdown",
		   "metadata": {},
		   "source": [
			"## Example 9.5: UTP_and_LTP_Noninverting_Schmitt_trigger_circuit.sce"
		   ]
		  },
  {
"cell_type": "code",
	   "execution_count": null,
	   "metadata": {
	    "collapsed": true
	   },
	   "outputs": [],
"source": [
"disp('chapter 9 ex9.5')\n",
"disp('given')\n",
"disp('for circuit designed in ex 9.4 calculate the actual UTP and LTP using standard resistance values')\n",
"disp('using 741 op-amp with a supply of +or-15volt,Vf=0.7volt,R1=5.6kohm,R2=22kohm+2.7kohm and R3=15kohm')\n",
"Vcc=15\n",
"Vf=0.7\n",
"R1=5600\n",
"R2=24700\n",
"R3=15000\n",
"disp('I2=(|Vo|-Vf)/R2')\n",
"I2=((Vcc-1)-Vf)/R2\n",
"disp('amperes',I2)\n",
"disp('UTP=I2*R1')\n",
"UTP=I2*R1\n",
"disp('volts',UTP)\n",
"disp('I3=(|Vo|-Vf)/R3')\n",
"I3=((Vcc-1)-Vf)/R3\n",
"disp('amperes',I3)\n",
"disp('LTP=-I3*R1')\n",
"LTP=-I3*R1\n",
"disp('volts',LTP)"
   ]
   }
,
{
		   "cell_type": "markdown",
		   "metadata": {},
		   "source": [
			"## Example 9.6: Astable_Multivibrators.sce"
		   ]
		  },
  {
"cell_type": "code",
	   "execution_count": null,
	   "metadata": {
	    "collapsed": true
	   },
	   "outputs": [],
"source": [
"disp('chapter 9 ex9.6')\n",
"disp('given')\n",
"disp('design an astable multivibrator to have a+or-9volt output with frequency f=1kHz')\n",
"disp('using BIFET op-amp for Vo=+or-9volt')\n",
"Vo=9\n",
"disp('Vcc=+or-(Vo+1)')\n",
"Vcc=Vo+1\n",
"disp('volts',Vcc)\n",
"disp('select UTP and LTP<Vo')\n",
"disp('let |UTP|=|LTP|=0.5volt')\n",
"UTP=0.5\n",
"LTP=-0.5\n",
"disp('let R2=1Mohm')\n",
"R2=1*10^(6)\n",
"disp('I3=(|Vo|-UTP)/R2')\n",
"I3=(Vo-UTP)/R2\n",
"disp('amperes',I3)\n",
"disp('R3=UTP/I3')\n",
"R3=UTP/I3\n",
"disp('ohms',R3)\n",
"disp('use 5.6kohm standard value')\n",
"disp('let C1=0.1*10^(-6)F')\n",
"C1=0.1*10^(-6)\n",
"disp('t=1/(2*f)')\n",
"t=1/(2*f)\n",
"disp('seconds',t)\n",
"disp('I1=C1*(UTP-LTP)/t')\n",
"I1=C1*(UTP-LTP)/t\n",
"disp('amperes',I1)\n",
"disp('R1=(Vo-UTP)/I1')\n",
"R1=(Vo-UTP)/I1\n",
"disp('ohms',R1)\n",
"disp('use 39kohm and3.3kohm in series')"
   ]
   }
,
{
		   "cell_type": "markdown",
		   "metadata": {},
		   "source": [
			"## Example 9.7: Monostable_Multivibrators.sce"
		   ]
		  },
  {
"cell_type": "code",
	   "execution_count": null,
	   "metadata": {
	    "collapsed": true
	   },
	   "outputs": [],
"source": [
"disp('chapter 9 ex9.7')\n",
"disp('given')\n",
"disp('design a monostable multivibrator to have output pulse width 1ms when triggered by 2volt,100*10^(-6)s input pulse')\n",
"disp('using 741 op-amp with a supply of +or-12volt')\n",
"PW=1*10^(-3)\n",
"t=100*10^(-6)\n",
"disp('I2>IBmax')\n",
"disp('let I2=50*10^(-6)A and VBE=0.7volt')\n",
"IBmax=500*10^(-9)\n",
"I2=50*10^(-6)\n",
"VBE=0.7\n",
"Vcc=12\n",
"disp('let VR2<Vi')\n",
"disp('let VR2=0.5volt')\n",
"VR2=0.5\n",
"disp('R2=VR2/I2')\n",
"R2=VR2/I2\n",
"disp('ohms',R2)   //standard value\n",
"disp('R1=(Vcc-VR2)/I2')\n",
"R1=(Vcc-VR2)/I2\n",
"disp('ohms',R1)\n",
"disp('use 220kohm standard value')\n",
"R1=220000\n",
"disp('E=VR2-[-Vosat]')\n",
"E=VR2-[-Vcc+1]\n",
"disp('volts',E)\n",
"disp('Eo=-(+Vosat-VR2)')\n",
"Eo=-(Vcc-1-VR2)\n",
"disp('volts',Eo)\n",
"disp('ec=Vosat')\n",
"ec=Vcc-1\n",
"disp('volts',ec)\n",
"disp('C2=PW/((R1||R2)*ln[(E-Eo)/(E-ec)])')\n",
"C2=PW/((R1*R2/(R1+R2))*2.303*log10([(E-Eo)/(E-ec)]))\n",
"disp('farads',C2)\n",
"disp('R3max=0.1*VBE/IBmax')\n",
"R3max=0.1*VBE/IBmax\n",
"disp('ohms',R3max)\n",
"disp('use 120kohm standard value')\n",
"R3=120000\n",
"disp('C1=0.1*t/R3')\n",
"C1=0.1*t/R3\n",
"disp('farads',C1)\n",
"disp('use 91pF standard value')"
   ]
   }
],
"metadata": {
		  "kernelspec": {
		   "display_name": "Scilab",
		   "language": "scilab",
		   "name": "scilab"
		  },
		  "language_info": {
		   "file_extension": ".sce",
		   "help_links": [
			{
			 "text": "MetaKernel Magics",
			 "url": "https://github.com/calysto/metakernel/blob/master/metakernel/magics/README.md"
			}
		   ],
		   "mimetype": "text/x-octave",
		   "name": "scilab",
		   "version": "0.7.1"
		  }
		 },
		 "nbformat": 4,
		 "nbformat_minor": 0
}
