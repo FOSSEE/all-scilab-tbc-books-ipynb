{
"cells": [
 {
		   "cell_type": "markdown",
	   "metadata": {},
	   "source": [
       "# Chapter 10: Signal Generators"
	   ]
	},
{
		   "cell_type": "markdown",
		   "metadata": {},
		   "source": [
			"## Example 10.1: Triangular_and_rectangular_signal_generator.sce"
		   ]
		  },
  {
"cell_type": "code",
	   "execution_count": null,
	   "metadata": {
	    "collapsed": true
	   },
	   "outputs": [],
"source": [
"disp('chapter 10 ex10.1')\n",
"disp('given')\n",
"disp('design a triangular rectanglar signal generator to have 5volt triangular output')\n",
"disp('frequency ranging from 200Hz to 2kHz and a duty cycle adjustable from 20% to 80%')\n",
"disp('using bipolar op-amps with a supply of +or-15volt')\n",
"Vcc=15\n",
"Vo=5\n",
"f1=200\n",
"f2=2000\n",
"disp('Schmitt circuit design')\n",
"disp('I3>IBmax')\n",
"disp('let I3=50*10^(-6)A and Vf=0.7volt')\n",
"IBmax=500*10^(-9)\n",
"I3=50*10^(-6)\n",
"Vf=0.7\n",
"disp('R2=Vosat/I3')\n",
"R2=(Vcc-1)/I3\n",
"disp('ohms',R2)\n",
"disp('use 270kohm standard value and recalculate I3')\n",
"R2=270000\n",
"disp('I3=Vosat/R2')\n",
"I3=(Vcc-1)/R2\n",
"disp('amperes',I3)\n",
"disp('R3=UTP/I3')\n",
"R3=Vo/2/I3\n",
"disp('ohms',R3)    //use 47kohm and 1kohm\n",
"disp('integrator circuit')\n",
"disp('let C1 charging current I1min=50*10^(-6)A')\n",
"I1min=50*10^(-6)\n",
"disp('lowest frequency f1,PWmax=80%of Tmax')\n",
"PWmax=0.80*1/f1\n",
"disp('watts',PWmax)\n",
"disp('C1=I1min*t/v')\n",
"C1=I1min*PWmax/Vo\n",
"disp('farads',C1)    //standard value\n",
"disp('R4+R5+R6=(+Vosat-Vf)/I1min')\n",
"disp('R9=R4+R5+R6')\n",
"R9=(Vcc-1-Vf)/I1min\n",
"disp('ohms',R9)\n",
"disp('If2=I1min*f2/f1')\n",
"If2=I1min*f2/f1\n",
"disp('amperes',If2)\n",
"disp('R5+R6=(+Vosat-Vf)/If2')\n",
"disp('R8=R5+R6')\n",
"R8=(Vcc-1-Vf)/If2\n",
"disp('ohms',R8)\n",
"disp('R4=(R4+R5+R6)-(R5+R6)')\n",
"R4=R9-R8\n",
"disp('ohms',R4)  //use 250kohm standard value potentiometer\n",
"disp('PWmin=20% of Tmax')\n",
"PWmin=.20*1/f1\n",
"disp('watts',PWmin)\n",
"disp('R6=(R5+R6)*PWmin/PWmax')\n",
"R6=R8*PWmin/PWmax\n",
"disp('ohms',R6)\n",
"disp('use 6.8kohm standard value')\n",
"R6=6800\n",
"disp('R5=(R5+R6)-R6')\n",
"R5=R8-R6\n",
"disp('ohms',R5)   //standard value of potentiometer\n",
"disp('R7=R6=6.8kohm')"
   ]
   }
,
{
		   "cell_type": "markdown",
		   "metadata": {},
		   "source": [
			"## Example 10.2: Phase_shift_oscillator.sce"
		   ]
		  },
  {
"cell_type": "code",
	   "execution_count": null,
	   "metadata": {
	    "collapsed": true
	   },
	   "outputs": [],
"source": [
"disp('chapter 10 ex10.2')\n",
"disp('given')\n",
"disp('design a phase shift oscillator to have output frequency of 3.5kHz')\n",
"disp('using 741 op-amp with a supply of +or-12volt')\n",
"Vcc=12\n",
"f=3500\n",
"disp('I1>IBmax')\n",
"disp('let I1=50*10^(-6)A')\n",
"IBmax=500*10^(-9)\n",
"I1=50*10^(-6)\n",
"disp('Vo=+or-(Vcc-1)')\n",
"Vo=Vcc-1\n",
"disp('volts',Vo)\n",
"disp('R2=Vo/I1')\n",
"R2=Vo/I1\n",
"disp('ohms',R2)   //standard value\n",
"disp('let Av=29')\n",
"Av=29\n",
"disp('R1=R2/Av')\n",
"R1=R2/Av\n",
"disp('ohms',R1)\n",
"disp('use 6.8kohm to give Av>29')\n",
"R1=6800\n",
"disp('R=R1=6.8kohm')\n",
"R=6800\n",
"disp('C=1/(2*%pi*R*f*sqrt(6))')\n",
"C=1/(2*%pi*R*f*sqrt(6))\n",
"disp('farads',C)     //use 2700pF standard value"
   ]
   }
,
{
		   "cell_type": "markdown",
		   "metadata": {},
		   "source": [
			"## Example 10.3: Phase_shift_oscillator.sce"
		   ]
		  },
  {
"cell_type": "code",
	   "execution_count": null,
	   "metadata": {
	    "collapsed": true
	   },
	   "outputs": [],
"source": [
"disp('chapter 10 ex10.3')\n",
"disp('given')\n",
"disp('design a phase shift oscillator to have output frequency of 6kHz and to give maximum output of +or-3volt')\n",
"Vo=3\n",
"f=6000\n",
"disp('let I2=1mA when diodes are forward-biased,i.e peak output Vp=3volt and Vf=0.7volt')\n",
"I2=1*10^(-3)\n",
"Vf=0.7\n",
"disp('R1=Vo/29/I2')\n",
"R1=Vo/29/I2\n",
"disp('ohms',R1)\n",
"disp('use 100ohm standard value')\n",
"R1=100\n",
"disp('R2=29*R1')\n",
"R2=29*R1\n",
"disp('ohms',R2)\n",
"disp('R3=2*Vf/I2')\n",
"R3=2*Vf/I2\n",
"disp('ohms',R3)\n",
"disp('use 1.5kohm standard value')\n",
"R3=1500\n",
"disp('R4=R2-R3')\n",
"R4=R2-R3\n",
"disp('ohms',R4)\n",
"disp('R5=0.4*R4')\n",
"R5=0.4*R4\n",
"disp('ohms',R5)   //use a 1kohm potentiometer\n",
"disp('R6=0.8*R4')\n",
"R6=0.8*R4\n",
"disp('ohms',R6)  //use 1.2kohm standard value\n",
"disp('R=R1=100ohm')\n",
"R=100\n",
"disp('C=1/(2*%pi*R*f*sqrt(6))')\n",
"C=1/(2*%pi*R*f*sqrt(6))\n",
"disp('farads',C)  //standard value\n",
"disp('diodes D1 through D4,trrmax=T/10')\n",
"trrmax=1/(f*10)\n",
"disp('seconds',trrmax)\n",
"disp('Vrmax>Vcc=+or-15volt')\n",
"disp('the IN914 has trr=4ns and Vrmax=75volt use IN914 diodes')"
   ]
   }
,
{
		   "cell_type": "markdown",
		   "metadata": {},
		   "source": [
			"## Example 10.4: Wein_bridge_oscillator.sce"
		   ]
		  },
  {
"cell_type": "code",
	   "execution_count": null,
	   "metadata": {
	    "collapsed": true
	   },
	   "outputs": [],
"source": [
"disp('chapter 10 ex10.4')\n",
"disp('given')\n",
"disp('design a wein bridge oscillator to have output frequency of 15kHz')\n",
"disp('using BIFET op-amp with a supply of +or-12volt')\n",
"Vcc=12\n",
"f=15000\n",
"disp('select,C=C1=C2=0.01*10^(-6)F')\n",
"C=0.01*10^(-6)\n",
"disp('R=1/(2*%pi*C*f)')\n",
"R=1/(2*%pi*C*f)\n",
"disp('ohms',R)\n",
"disp('use 1kohm standard value')\n",
"R=1000\n",
"disp('R1=R2=R=1kohm')\n",
"disp('let R4=R2=1kohm')\n",
"R4=1000\n",
"disp('R3=2*R4')\n",
"R3=2*R4\n",
"disp('ohms',R3)\n",
"disp('use 2.2kohm standard value to give Av>3')"
   ]
   }
,
{
		   "cell_type": "markdown",
		   "metadata": {},
		   "source": [
			"## Example 10.5: signal_generator.sce"
		   ]
		  },
  {
"cell_type": "code",
	   "execution_count": null,
	   "metadata": {
	    "collapsed": true
	   },
	   "outputs": [],
"source": [
"disp('chapter 10 ex10.5')\n",
"disp('given')\n",
"disp('design a signal generator output stage to afford output amplitude from +or-0.1 to 5volt')\n",
"Vomin=0.1\n",
"Vomax=5\n",
"disp('dc voltage level control over a range of +or-2.5volt')\n",
"disp('signal applied output stage has a +or-1volt amplitude and frequency ranging from 50Hz to 20kHz')\n",
"Vi=1\n",
"fmin=50\n",
"fmax=20000\n",
"VR4=2.5-(-2.5)\n",
"disp('using a bipolar op-amp with a +or-15volt supply')\n",
"Vcc=15\n",
"disp('I1>IBmax')\n",
"disp('let I1=50*10^(-6)A')\n",
"IBmax=500*10^(-9)\n",
"I1=50*10^(-6)\n",
"disp('R1=Vi/I1')\n",
"R1=Vi/I1\n",
"disp('ohms',R1)\n",
"disp('use 18kohm standard value')\n",
"R1=18000\n",
"disp('R2max=Vomax/Vi*R1')\n",
"R2max=Vomax/Vi*R1\n",
"disp('ohms',R2max)\n",
"disp('R2min=Vomin/Vi*R1')\n",
"R2min=Vomin/Vi*R1\n",
"disp('ohms',R2min)\n",
"disp('for R2,use a 100kohm potentiometer in series with a 1.8kohm resistor')\n",
"disp('I3>IBmax')\n",
"disp('let I3=50*10^(-6)A')\n",
"I3=50*10^(-6)\n",
"disp('R4=VR4/I3')\n",
"R4=VR4/I3\n",
"disp('ohms',R4)    //standard potentiometer\n",
"disp('R3=VR3/I3')\n",
"VR3=Vcc-2.5\n",
"R3=VR3/I3\n",
"disp('ohms',R3)\n",
"disp('use 220kohm to give larger output adjustment than required')\n",
"disp('R5=R3=220kohm')\n",
"disp('Xc1<R1 at fmin')\n",
"disp('let Xc1=R1/10 at fmin')\n",
"disp('C1=1/(2*%pi*fmin*R1/10)')\n",
"C1=1/(2*%pi*fmin*R1/10)\n",
"disp('farads',C1)   //standard value"
   ]
   }
],
"metadata": {
		  "kernelspec": {
		   "display_name": "Scilab",
		   "language": "scilab",
		   "name": "scilab"
		  },
		  "language_info": {
		   "file_extension": ".sce",
		   "help_links": [
			{
			 "text": "MetaKernel Magics",
			 "url": "https://github.com/calysto/metakernel/blob/master/metakernel/magics/README.md"
			}
		   ],
		   "mimetype": "text/x-octave",
		   "name": "scilab",
		   "version": "0.7.1"
		  }
		 },
		 "nbformat": 4,
		 "nbformat_minor": 0
}
