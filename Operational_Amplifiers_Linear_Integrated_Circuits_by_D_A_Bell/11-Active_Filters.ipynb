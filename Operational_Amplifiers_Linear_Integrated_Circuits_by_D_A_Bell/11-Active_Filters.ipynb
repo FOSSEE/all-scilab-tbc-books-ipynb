{
"cells": [
 {
		   "cell_type": "markdown",
	   "metadata": {},
	   "source": [
       "# Chapter 11: Active Filters"
	   ]
	},
{
		   "cell_type": "markdown",
		   "metadata": {},
		   "source": [
			"## Example 11.10: Bandpass_Filter.sce"
		   ]
		  },
  {
"cell_type": "code",
	   "execution_count": null,
	   "metadata": {
	    "collapsed": true
	   },
	   "outputs": [],
"source": [
"disp('chapter 11 ex11.10')\n",
"disp('given')\n",
"disp('design a bandpass filter using 741 op-amp')\n",
"disp('the center frequency fo=1kHz and pass band is to be +or-33Hz on each side')\n",
"disp('B=33+33=66')\n",
"fo=1000\n",
"B=66\n",
"disp('Q=fo/B')\n",
"Q=fo/B\n",
"disp(Q)\n",
"disp('R2=R3=120kohm')\n",
"R2=120000\n",
"disp('C=2*Q/(2*%pi*fo*R2)')\n",
"C=2*Q/(2*%pi*fo*R2)\n",
"disp('farads',C)\n",
"disp('C1=C2=C=0.0403*10^(-6)F')\n",
"disp('R1=R2/2')\n",
"R1=R2/2\n",
"disp('ohms',R1)    //use 60.4kohm+or-1% standard value\n",
"disp('R4=R1/(2*Q*Q-1)')\n",
"R4=R1/(2*Q*Q-1)\n",
"disp('ohms',R4)"
   ]
   }
,
{
		   "cell_type": "markdown",
		   "metadata": {},
		   "source": [
			"## Example 11.11: State_variable_bandpass_filter.sce"
		   ]
		  },
  {
"cell_type": "code",
	   "execution_count": null,
	   "metadata": {
	    "collapsed": true
	   },
	   "outputs": [],
"source": [
"disp('chapter 11 ex11.11')\n",
"disp('given')\n",
"disp('design a bandpass filter to have f1=10.3kHz f2=10.9kHz')\n",
"f1=10300\n",
"f2=10900\n",
"disp('select C1=C2=1000pF')\n",
"C1=1000*10^(-12)\n",
"C2=1000*10^(-12)\n",
"disp('fo=sqrt(f1*f2)')\n",
"fo=sqrt(f1*f2)\n",
"disp('Hz',fo)\n",
"disp('R5=R6=1/(2*%pi*C1*f1)')\n",
"R6=1/(2*%pi*C1*f1)\n",
"R5=R6\n",
"disp('ohms',R6)\n",
"disp('Use 15kohm std value')\n",
"R5=15000\n",
"disp('R1=R3=R4=R7=R8=R6=R5=15kOhm')\n",
"disp('Q=fo/(f2-f1)')\n",
"Q=fo/(f2-f1)\n",
"disp(Q)\n",
"R1=R5\n",
"disp('R2=R1*(2Q-1)')\n",
"R2=R1*(2*Q-1)\n",
"disp('ohms',R2)\n",
"disp('use 511kohm+/- 1%')"
   ]
   }
,
{
		   "cell_type": "markdown",
		   "metadata": {},
		   "source": [
			"## Example 11.1: All_pass_circuit.sce"
		   ]
		  },
  {
"cell_type": "code",
	   "execution_count": null,
	   "metadata": {
	    "collapsed": true
	   },
	   "outputs": [],
"source": [
"disp('chapter 11 ex11.1')\n",
"disp('given')\n",
"disp('design an all-pass circuit to have phase lag from 80degree to100degree')\n",
"disp('using a 741op-amp the input signal  has a 1volt amplitude and a 5kHz frequency')\n",
"Vi=1\n",
"f=5000\n",
"disp('I1>IBmax')\n",
"disp('let I1=50*10^(-6)A')\n",
"IBmax=500*10^(-9)\n",
"I1=50*10^(-6)\n",
"disp('R1=Vi/I1')\n",
"R1=Vi/I1\n",
"disp('ohms',R1)\n",
"disp('use 18kohm standard value')\n",
"R1=18000\n",
"disp('R2=R1=18kohm')\n",
"R2=18000\n",
"disp('R3=R1||R2')\n",
"R3=R1*R2/(R1+R2)\n",
"disp('ohms',R3)\n",
"disp('for a 90degree phase shift,Xc1=R3')\n",
"disp('C1=1/(2*%pi*f*R3)')\n",
"C1=1/(2*%pi*f*R3)\n",
"disp('farads',C1)\n",
"disp('use 3600pF standard value')\n",
"C1=3600*10^(-12)\n",
"disp('for a 80degree phase shift,R3=tan(theta1/2)/(w*C1)')\n",
"theta1=80\n",
"R3=tan(theta1*%pi/180/2)/(2*%pi*f*C1)\n",
"disp('ohms',R3)\n",
"disp('for a 100degree phase shift,R3=tan(theta2/2)/(w*C1)')\n",
"theta2=100\n",
"R3=tan(theta2*%pi/180/2)/(2*%pi*f*C1)\n",
"disp('ohms',R3)\n",
"disp('for R3,use a 6.8kohm fixed value resistor in series with a 5kohm variable resistor to give a total resistance adjustable from 6.8kohm to 11.8kohm')"
   ]
   }
,
{
		   "cell_type": "markdown",
		   "metadata": {},
		   "source": [
			"## Example 11.2: First_order_active_low_pass_filter.sce"
		   ]
		  },
  {
"cell_type": "code",
	   "execution_count": null,
	   "metadata": {
	    "collapsed": true
	   },
	   "outputs": [],
"source": [
"disp('chapter 11 ex11.2')\n",
"disp('given')\n",
"disp('design a first order active low-pass filter to have cutoff frequency 1kHz')\n",
"disp('R1=70mV/IBmax')\n",
"disp('let IBmax=500*10^(-9)A')\n",
"IBmax=500*10^(-9)\n",
"R1=70*10^(-3)/IBmax\n",
"fc=1000\n",
"disp('ohms',R1)\n",
"disp('use 120kohm standard value')\n",
"disp('R2=R1=120kohm')\n",
"R1=120000\n",
"R2=120000\n",
"disp('Xc1=R1 at fc')\n",
"disp('C1=1/(2*%pi*fc*R1)')\n",
"C1=1/(2*%pi*fc*R1)\n",
"disp('farads',C1)\n",
"disp('use 1300pF standard value')"
   ]
   }
,
{
		   "cell_type": "markdown",
		   "metadata": {},
		   "source": [
			"## Example 11.3: Second_order_low_pass_filter.sce"
		   ]
		  },
  {
"cell_type": "code",
	   "execution_count": null,
	   "metadata": {
	    "collapsed": true
	   },
	   "outputs": [],
"source": [
"disp('chapter 11 ex11.3')\n",
"disp('given')\n",
"disp('design a second order low-pass filter to have cutoff frequency 1kHz')\n",
"disp('the frequency response of 741 extends to 800kHz when its voltage gain is 1 so 741op-amp is suitable')\n",
"disp('R1+R2=70mV/IBmax')\n",
"disp('R4=R1+R2')\n",
"disp('let IBmax=500*10^(-9)A')\n",
"IBmax=500*10^(-9)\n",
"R4=70*10^(-3)/IBmax\n",
"fc=1000\n",
"disp('ohms',R4)\n",
"disp('R2=R1=70kohm')\n",
"disp('use 68kohm standard value')\n",
"R1=68000\n",
"R2=68000\n",
"disp('R3=R1+R2')\n",
"R3=R1+R2\n",
"disp('ohms',R3)\n",
"disp('use 150kohm standard value')\n",
"disp('Xc1=sqrt(2)*R2 at fc')\n",
"disp('C1=1/(2*%pi*fc*sqrt(2)*R2)')\n",
"C1=1/(2*%pi*fc*sqrt(2)*R2)\n",
"disp('farads',C1)\n",
"disp('use 1600pF standard value')\n",
"C1=1600*10^(-12)\n",
"disp('C2=2*C1')\n",
"C2=2*C1\n",
"disp('farads',C2)"
   ]
   }
,
{
		   "cell_type": "markdown",
		   "metadata": {},
		   "source": [
			"## Example 11.4: First_order_active_high_pass_filter.sce"
		   ]
		  },
  {
"cell_type": "code",
	   "execution_count": null,
	   "metadata": {
	    "collapsed": true
	   },
	   "outputs": [],
"source": [
"disp('chapter 11 ex11.4')\n",
"disp('given')\n",
"disp('design a first order active high-pass filter to have cutoff frequency 5kHz')\n",
"disp('using LM108 op-amp which has extremely low input bias current,should be treated as BIFET op-amp thereforo C1=1000pF')\n",
"C1=1000*10^(-12)\n",
"fc=5000\n",
"disp('R1=1/(2*%pi*fc*C1)')\n",
"R1=1/(2*%pi*fc*C1)\n",
"disp('ohms',R1)\n",
"disp('use 31.6kohm+or-1% standard value')\n",
"disp('R1=R2=31.6kohm')\n",
"disp('from LM108 gain/frequencyresponse .the op-amp unity gain frequency is fu=1MHz')\n",
"Av=1\n",
"fu=1*10^(6)\n",
"disp('f2=fu/Av')\n",
"f2=fu/Av\n",
"disp('Hz',f2)"
   ]
   }
,
{
		   "cell_type": "markdown",
		   "metadata": {},
		   "source": [
			"## Example 11.5: second_order_active_high_pass_filter.sce"
		   ]
		  },
  {
"cell_type": "code",
	   "execution_count": null,
	   "metadata": {
	    "collapsed": true
	   },
	   "outputs": [],
"source": [
"disp('chapter 11 ex11.5')\n",
"disp('given')\n",
"disp('design a second order high-pass filter to have cutoff frequency 12kHz')\n",
"disp('from 715 data sheet,IBmax=1.5*10^(-6)A')\n",
"fc=12000\n",
"IBmax=1.5*10^(-6)\n",
"disp('R2=70mV/IBmax')\n",
"R2=70*10^(-3)/IBmax\n",
"disp('ohms',R2)\n",
"disp('R1=R2/2')\n",
"R1=R2/2\n",
"disp('ohms',R1)\n",
"disp('use 22kohm and 1.5kohm in series')\n",
"disp('R3=R2=47kohm')\n",
"R3=47000\n",
"R2=47000\n",
"disp('R2=sqrt(2)*Xc2 at fc')\n",
"disp('C2=1/(2*%pi*fc*R2/sqrt(2))')\n",
"C2=1/(2*%pi*fc*R2/sqrt(2))\n",
"disp('farads',C2)\n",
"disp('use 390pF standard value')\n",
"disp('C1=C2=390pF')\n",
"disp('from 715 data sheet the op-amp unity gain cutoff frequency is fu=11MHz')\n",
"Av=1\n",
"fu=11*10^(6)\n",
"disp('f2=fu/Av')\n",
"f2=fu/Av\n",
"disp('Hz',f2)"
   ]
   }
,
{
		   "cell_type": "markdown",
		   "metadata": {},
		   "source": [
			"## Example 11.6: Third_order_low_pass_filter.sce"
		   ]
		  },
  {
"cell_type": "code",
	   "execution_count": null,
	   "metadata": {
	    "collapsed": true
	   },
	   "outputs": [],
"source": [
"disp('chapter 11 ex11.6')\n",
"disp('given')\n",
"disp('design a third order active low-pass filter to have cutoff frequency 30kHz')\n",
"fc=30000\n",
"disp('-20dB per decade stage(first order)')\n",
"disp('select C1=1000pF')\n",
"C1=1000*10^(-12)\n",
"disp('Xc1=R1 at fc/0.65')\n",
"disp('R1=0.65/(2*%pi*fc*C1)')\n",
"R1=0.65/(2*%pi*fc*C1)\n",
"disp('ohms',R1)   //use 3.4kohm+or-1%standard value\n",
"disp('R2=R1=3.4kohm')   //use 3.3kohm standard value\n",
"disp('-40dB per decade stage(second order)')\n",
"disp('select C3=1000pF')\n",
"C3=1000*10^(-12)\n",
"disp('Xc3=sqrt(2)*R4 at fc/0.8')\n",
"disp('R4=0.8/(2*%pi*fc*sqrt(2)*C3)')\n",
"R4=0.8/(2*%pi*fc*sqrt(2)*C3)\n",
"disp('ohms',R4)    //use two 5.9kohm+or-1% parallel-connected\n",
"disp('C2=2*C3')\n",
"C2=2*C3    //standard value\n",
"disp('farads',C2)\n",
"disp('R3=R4=2.95kohm')\n",
"R3=2950\n",
"disp('R5=R4+R3')\n",
"R5=R4+R3\n",
"disp('ohms',R5)   //use 5.6kohm standard value"
   ]
   }
,
{
		   "cell_type": "markdown",
		   "metadata": {},
		   "source": [
			"## Example 11.7: Third_order_high_pass_filter.sce"
		   ]
		  },
  {
"cell_type": "code",
	   "execution_count": null,
	   "metadata": {
	    "collapsed": true
	   },
	   "outputs": [],
"source": [
"disp('chapter 11 ex11.7')\n",
"disp('given')\n",
"disp('design a third order active high-pass filter to have cutoff frequency 20kHz')\n",
"fc=20000\n",
"disp('-20dB per decade stage(first order)')\n",
"disp('let R1=120kohm')\n",
"R1=120000\n",
"disp('Xc1=R1 at 0.65*fc')\n",
"disp('C1=1/(2*%pi*0.65*fc*R1)')\n",
"C1=1/(2*%pi*0.65*fc*R1)\n",
"disp('farads',C1)\n",
"disp('this is so small that it can be affected by stray capacitance and redesign selecting C1')\n",
"disp('select C1=1000pF')\n",
"C1=1000*10^(-12)\n",
"disp('R1=1/(2*%pi*0.65*fc*C1)')\n",
"R1=1/(2*%pi*0.65*fc*C1)\n",
"disp('ohms',R1)   //use 12kohm standard value\n",
"disp('R2=R1=12kohm')\n",
"disp('-40dB per decade stage(second order)')\n",
"disp('select C3=1000pF')\n",
"C3=1000*10^(-12)\n",
"disp('R4=sqrt(2)*Xc3 at 0.8*fc')\n",
"disp('R4=sqrt(2)/(2*%pi*0.8*fc**C3)')\n",
"R4=sqrt(2)/(2*%pi*0.8*fc*C3)\n",
"disp('ohms',R4)   //use 14kohm+or-1% standard value\n",
"disp('C2=C3=1000pF')\n",
"disp('R3=R4/2')\n",
"R3=R4/2\n",
"disp('ohms',R3)  //use 6.98kohm standard value\n",
"disp('R5=R4=14.06kohm')   //use 15kohm standard value"
   ]
   }
,
{
		   "cell_type": "markdown",
		   "metadata": {},
		   "source": [
			"## Example 11.8: Highest_signal_frequency_in_3rd_order_HPF.sce"
		   ]
		  },
  {
"cell_type": "code",
	   "execution_count": null,
	   "metadata": {
	    "collapsed": true
	   },
	   "outputs": [],
"source": [
"disp('chapter 11 ex11.8')\n",
"disp('given')\n",
"disp('the circuit designed in ex11.7 estimate the highest frequency')\n",
"disp('from 741 data sheet ,the op-amp unity gain cutoff frequency is fu=800kHz')\n",
"disp('f=fu/Av')\n",
"fu=800000\n",
"Av=1\n",
"f=fu/Av\n",
"disp('Hz',f)\n",
"disp('the circuit upper cutoff frequency is,fc=0.65*f')\n",
"fc=0.65*f\n",
"disp('Hz',fc)"
   ]
   }
,
{
		   "cell_type": "markdown",
		   "metadata": {},
		   "source": [
			"## Example 11.9: Single_stage_band_pass_filter.sce"
		   ]
		  },
  {
"cell_type": "code",
	   "execution_count": null,
	   "metadata": {
	    "collapsed": true
	   },
	   "outputs": [],
"source": [
"disp('chapter 11 ex11.9')\n",
"disp('given')\n",
"disp('design a single stage bandpass filter')\n",
"disp('voltage gain Av=1 and a pass band from 300Hz to 30kHz')\n",
"Av=1\n",
"f2=30000\n",
"f1=300\n",
"disp('select C2=1000pF')\n",
"C2=1000*10^(-12)\n",
"disp('Xc2=R2 at f2')\n",
"disp('R2=1/(2*%pi*f2*C2)')\n",
"R2=1/(2*%pi*f2*C2)\n",
"disp('ohms',R2)   //use 5.36kohm+or-1% standard value\n",
"disp('R3=R2=5.36kohm')    //use 5.6kohm standard value\n",
"disp('for Av=1,R1=R2=5.36kohm')\n",
"R1=5360\n",
"disp('C1=1/(2*%pi*f1*R1)')\n",
"C1=1/(2*%pi*f1*R1)\n",
"disp('farads',C1)  //standard value"
   ]
   }
],
"metadata": {
		  "kernelspec": {
		   "display_name": "Scilab",
		   "language": "scilab",
		   "name": "scilab"
		  },
		  "language_info": {
		   "file_extension": ".sce",
		   "help_links": [
			{
			 "text": "MetaKernel Magics",
			 "url": "https://github.com/calysto/metakernel/blob/master/metakernel/magics/README.md"
			}
		   ],
		   "mimetype": "text/x-octave",
		   "name": "scilab",
		   "version": "0.7.1"
		  }
		 },
		 "nbformat": 4,
		 "nbformat_minor": 0
}
