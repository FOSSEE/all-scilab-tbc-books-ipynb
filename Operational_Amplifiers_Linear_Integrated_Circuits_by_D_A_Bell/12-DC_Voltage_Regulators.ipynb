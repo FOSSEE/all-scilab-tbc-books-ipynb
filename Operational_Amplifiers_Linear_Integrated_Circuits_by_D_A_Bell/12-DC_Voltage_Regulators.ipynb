{
"cells": [
 {
		   "cell_type": "markdown",
	   "metadata": {},
	   "source": [
       "# Chapter 12: DC Voltage Regulators"
	   ]
	},
{
		   "cell_type": "markdown",
		   "metadata": {},
		   "source": [
			"## Example 12.1: DC_voltage_source.sce"
		   ]
		  },
  {
"cell_type": "code",
	   "execution_count": null,
	   "metadata": {
	    "collapsed": true
	   },
	   "outputs": [],
"source": [
"disp('chapter 12 ex12.1')\n",
"disp('given')\n",
"disp('the dc voltage source is designed in ex 6.1 has')\n",
"disp('Vs=Vcc=12V    Vo=6.3V      R1=270ohm     ')\n",
"disp('D1 is zener diode   Ilmax=42mA')\n",
"Vs=12\n",
"Vcc=12\n",
"Vo=6.3\n",
"R1=270\n",
"Ilmax=.042\n",
"disp('supply resistance=25 ohm')\n",
"Rs=25\n",
"disp('from datasheet Zz=7ohm')\n",
"Zz=7\n",
"disp('at 10% change in Vs')\n",
"DVs=.1*Vs\n",
"disp('volts',DVs)\n",
"DVo=DVs*Zz/R1\n",
"disp(DVo,'DVo=')\n",
"disp('Line regulation=(DVo for 10%Vs change)*100/Vo')\n",
"LR=(DVo)*100/Vo\n",
"disp(LR,'LR in percentage')\n",
"DVo=Ilmax*Rs*Zz/R1\n",
"disp(DVo,'DVo=')\n",
"disp('Load regulation=(DVo for DIl=Ilmax)*100/Vo')\n",
"LR=(DVo)*100/Vo\n",
"disp(LR,'Load regulation in percentage=')\n",
"Vro=Zz/R1\n",
"disp(Vro,'Vro=Vrs*')\n",
"disp('Ripple rejection=20*log(Vrs/Vro)')\n",
"RR=20*log10(1/Vro)\n",
"disp(RR,'Ripple Rejection in DB=  ')\n",
""
   ]
   }
,
{
		   "cell_type": "markdown",
		   "metadata": {},
		   "source": [
			"## Example 12.2: Voltage_Regulator.sce"
		   ]
		  },
  {
"cell_type": "code",
	   "execution_count": null,
	   "metadata": {
	    "collapsed": true
	   },
	   "outputs": [],
"source": [
"disp('chapter 12 ex12.2')\n",
"disp('given')\n",
"disp('output =12V')\n",
"Vo=12\n",
"disp('max load current=50mA')\n",
"Il=.05\n",
"disp('Vsmin=Vo+3 V')\n",
"Vsmin=Vo+3 \n",
"disp( 'volts',Vsmin)\n",
"disp('allowing Vrs=2V(p to p)')\n",
"Vrs=2\n",
"disp('Vs=Vsmin+Vrs/2')\n",
"Vs=Vsmin+Vrs/2\n",
"disp('volts',Vs)\n",
"disp('let Vz=Vs/2')\n",
"Vz=Vs/2\n",
"disp('volts',Vz)\n",
"disp('Iz=20mA')\n",
"Iz=.02\n",
"disp('R1=(Vs-Vz)/Iz')\n",
"R1=(Vs-Vz)/Iz\n",
"disp('ohms',R1)\n",
"disp('R1=390 ohm std value')\n",
"R1=390\n",
"disp('let I2>>Ibmax     I2=50uA')\n",
"I2=50*10^(-6)\n",
"disp('R2=(Vo-Vz)/I2')\n",
"Vz=8.2\n",
"R2=(Vo-Vz)/I2\n",
"disp('ohms',R2)\n",
"disp('R2=68kohm std value')\n",
"R2=68000\n",
"disp('I2=(Vo-Vz)/R2')\n",
"I2=(Vo-Vz)/R2\n",
"disp('amperes',I2)\n",
"disp('R3=Vz/Iz')\n",
"R3=Vz/I2\n",
"disp('ohms',R3)\n",
"disp('use 150 k ohm std value')\n",
"R3=150000\n",
"disp('select C1=50uF')\n",
"C1=50*10^(-6)\n",
"disp('Q1 specification')\n",
"disp('Vcemax=Vsmax=Vs+Vrs/2')\n",
"Vcemax=Vs+Vrs/2\n",
"disp('volts',Vcemax)\n",
"Ie=Il\n",
"disp('P=Vce*Il=(Vs-Vo)*Il')\n",
"P=(Vs-Vo)*Il\n",
"disp('watts',P)\n",
"disp('A 2N718 is a suitable device')\n",
""
   ]
   }
,
{
		   "cell_type": "markdown",
		   "metadata": {},
		   "source": [
			"## Example 12.3: analysing_Voltage_Regulator.sce"
		   ]
		  },
  {
"cell_type": "code",
	   "execution_count": null,
	   "metadata": {
	    "collapsed": true
	   },
	   "outputs": [],
"source": [
"disp('chapter 12 ex12.3')\n",
"disp('given')\n",
"disp('considering example 12.2')\n",
"disp('supply source resistance=10ohm')\n",
"Rs=10\n",
"disp('from IN756 datasheet Zz=8ohm')\n",
"Zz=8\n",
"disp('At 10% change in Vs=16V is')\n",
"Vs=16\n",
"DVs=.1*Vs\n",
"disp('volts',DVs)\n",
"disp('DVo=DVs*Zz*(R2+R3)/(R1*R3)')\n",
"disp('R2=68000  R1=390   R3=150000')\n",
"R2=68000\n",
"R1=390\n",
"R3=150000\n",
"DVo=DVs*Zz*(R2+R3)/(R1*R3)\n",
"disp('volts',DVo)\n",
"disp('Line regulation=(DVo for 10%Vs change)*100/Vo  and Vo=12V')\n",
"Vo=12\n",
"LR=(DVo)*100/Vo\n",
"disp(LR,'LR in percentage')\n",
"disp('for Il change of 50mA')\n",
"Il=0.05\n",
"disp('DVo=Il*Rs')\n",
"DVs=Il*Rs\n",
"disp('volts',DVs)\n",
"DVo=DVs*Zz*(R2+R3)/(R1*R3)\n",
"disp('volts',DVo)\n",
"disp('Load regulation=(DVo for DIl=Ilmax)*100/Vo')\n",
"LR=(DVo)*100/Vo\n",
"disp(LR,'Load regulation in percentage=')\n",
"disp('Vro=Vrs*Zz*(R2+R3)/(R1*R3)')\n",
"y=Zz*(R2+R3)/(R1*R3)\n",
"disp(y,'Vro=Vrs*')\n",
"disp('Ripple rejection=20*log(Vrs/Vro)')\n",
"RR=20*log10(1/y)\n",
"disp(RR,'Ripple Rejection in DB=  ')"
   ]
   }
,
{
		   "cell_type": "markdown",
		   "metadata": {},
		   "source": [
			"## Example 12.4: DC_Voltage_Regulator.sce"
		   ]
		  },
  {
"cell_type": "code",
	   "execution_count": null,
	   "metadata": {
	    "collapsed": true
	   },
	   "outputs": [],
"source": [
"disp('chapter 12 ex12.4')\n",
"disp('given')\n",
"disp('output =10V to 15V')\n",
"Vomax=15\n",
"disp('max load current=4000mA')\n",
"Il=.4\n",
"disp('Vsmin=Vomax+3 V')\n",
"Vsmin=Vomax+3 \n",
"disp('volts',Vsmin)\n",
"disp('allowing Vrs=3V(p to p)')\n",
"Vrs=3\n",
"disp('Vs=Vsmin+Vrs/2')\n",
"Vs=Vsmin+Vrs/2\n",
"disp('volts',Vs)\n",
"disp('ZENER CIRCUIT')\n",
"disp('let Vz=Vo/2')\n",
"Vz=Vomax/2\n",
"disp('volts',Vz)\n",
"disp('Iz=20mA')\n",
"Iz=.02\n",
"disp('R1=(Vo-Vz)/Iz')\n",
"R1=(Vomax-Vz)/Iz\n",
"disp('ohms',R1)\n",
"disp('R1=330 ohm std value')\n",
"R1=390\n",
"disp('POTENTIAL DIVIDER')\n",
"disp('let I2>>Ibmax     I2=50uA Vomin=10')\n",
"I2=50*10^(-6)\n",
"Vomin=10\n",
"disp('R2=(Vomin-Vz)/I2')\n",
"Vz=7.5\n",
"R2=(Vomin-Vz)/I2\n",
"disp('ohms',R2)\n",
"disp('R2=47kohm std value')\n",
"R2=47000\n",
"disp('I2=(Vomin-Vz)/R2')\n",
"I2=(Vomin-Vz)/R2\n",
"disp('amperes',I2)\n",
"disp('R34=R3+R4=Vz/Iz')\n",
"R34=Vz/I2\n",
"disp('ohms',R34)\n",
"disp('when Vo is at its max,moving contact is at bottom of R4')\n",
"disp('I2=Vomax/(R2+R34)')\n",
"I2=Vomax/(R2+R34)\n",
"disp('amperes',I2)\n",
"disp('R3=Vz/Iz')\n",
"R3=Vz/I2\n",
"disp('ohms',R3)\n",
"disp('use 100 k ohm std value')\n",
"R3=100000\n",
"disp('R4=(R3+R4)-R3')\n",
"R4=R34-R3\n",
"disp('ohms',R4)\n",
"disp('use 50 k ohm std value')\n",
"disp('CAPACITOR')\n",
"disp('select C1=100uF')\n",
"C1=100*10^(-6)\n",
"disp('Q1 specification')\n",
"disp('Vcemax=Vsmax=Vs+Vrs/2')\n",
"Vcemax=Vs+Vrs/2\n",
"disp('volts',Vcemax)\n",
"Ie=Il\n",
"disp('P=Vce*Il=(Vs-Vomin)*Il')\n",
"P=(Vs-Vomin)*Il\n",
"disp('watts',P)\n",
"disp('A 2N3055 is a suitable device')\n",
"disp('Q2 specification')\n",
"disp('Vcemax=Vsmax=Vs+Vrs/2')\n",
"Vcemax=Vs+Vrs/2\n",
"disp('volts',Vcemax)\n",
"disp('Ie=Il/hFE1 ,hFE1=20 for Q1')\n",
"hFE1=20\n",
"Ie=Il/hFE1\n",
"disp('amperes',Ie)\n",
"disp('P=Vce*Il=(Vs-Vomin)*Il')\n",
"P=(Vs-Vomin)*Il\n",
"disp('watts',P)\n",
"disp('A 2N3904 is a suitable device')\n",
"disp('R5 Calculation')\n",
"disp('let Ie2min=0.5mA,Vbe1=0.7')\n",
"Ie2min=0.5*10^(-3)\n",
"Vbe1=0.7\n",
"disp('R5=(Vomin+Vbe1)/Ie2min')\n",
"R5=(Vomin+Vbe1)/Ie2min\n",
"disp('ohms',R5)\n",
"disp('R5=18kohm std value')\n",
"disp('OPERATIONAL AMPLIFIER')\n",
"disp('because I2 is sselected for bipolar opamp either a bipolar or BIFEt opamp can be used')\n",
"disp('supply voltage Vs=19.5V')\n",
"Vs=19.5\n",
"disp('Input supply voltage range=Vs/2-Vz')\n",
"ipvoltage==(Vs/2)-Vz\n",
"disp('volts',ipvoltage)"
   ]
   }
,
{
		   "cell_type": "markdown",
		   "metadata": {},
		   "source": [
			"## Example 12.5: Voltage_Regulator.sce"
		   ]
		  },
  {
"cell_type": "code",
	   "execution_count": null,
	   "metadata": {
	    "collapsed": true
	   },
	   "outputs": [],
"source": [
"disp('chapter 12 ex12.5')\n",
"disp('given')\n",
"disp('voltage regulator in 12.2 to have short circuit o/p current=60mA')\n",
"Isc=.06\n",
"disp('R6=0.5/Isc')\n",
"R6=0.5/Isc\n",
"disp('ohms',R6)\n",
"disp('Let Ic3=5mA')\n",
"Ic3=.005\n",
"disp('R7=Vs/Ic3')\n",
"disp('Vs=16')\n",
"Vs=16\n",
"R7=Vs/Ic3\n",
"disp('ohms',R7)\n",
"disp('Ib1max=Ilmax/hfe1   Ilmax=50mA  hfe1=50')\n",
"hfe1=50\n",
"Ilmax=.05\n",
"Ib1max=Ilmax/hfe1\n",
"disp('amperes',Ib1max)\n",
"disp('Vr7=1mA*R7')\n",
"Vr7=.001*3300\n",
"disp('volts',Vr7)\n",
"disp('yhis volatage drop is too large for circuit to operate satisfactorily')\n",
"disp('to overcome we make use of darlington pair ')\n",
"disp('hfe2=50')\n",
"hfe2=50\n",
"disp('Ib2max=Ilmax/(hfe1*hfe2)')\n",
"Ib2max=Ilmax/(hfe1*hfe2)\n",
"disp('amperes',Ib2max)\n",
"disp('under normal operating conditions Vr7=Ib2max*R7')\n",
"Vr7=Ib2max*3300\n",
"disp('volts',Vr7)"
   ]
   }
,
{
		   "cell_type": "markdown",
		   "metadata": {},
		   "source": [
			"## Example 12.6: foldback_current_limiting_circuit.sce"
		   ]
		  },
  {
"cell_type": "code",
	   "execution_count": null,
	   "metadata": {
	    "collapsed": true
	   },
	   "outputs": [],
"source": [
"disp('chapter 12 ex12.6')\n",
"disp('given')\n",
"disp('design feedback limit for 12.4 and max circuit o/p current=400mA when limited foldback to 200mA')\n",
"Ilmax=0.4\n",
"Isc=0.2\n",
"disp('Vr6=0.5 at short circuit')\n",
"disp('R6=0.5/Isc')\n",
"R6=0.5/Isc\n",
"disp('ohms',R6)\n",
"disp('use 2.7 ohm std value')\n",
"R6=2.7\n",
"disp('Vr6=Ilmax*R6')\n",
"Vr6=Ilmax*R6\n",
"disp('volts',Vr6)\n",
"disp('Vr8=Vr6-0.5    Vr6=1')\n",
"Vr8=1-0.5\n",
"disp('volts',Vr8)\n",
"disp('Ir8>>Ib3    hfe3=50  Ic3=5mA')\n",
"Ic3=0.005\n",
"hfe3=50\n",
"disp('Ib3=Ic3/hfe3')\n",
"Ib3=Ic3/hfe3\n",
"disp('amperes',Ib3)\n",
"disp('let Ir8=1mA')\n",
"Ir8=0.001\n",
"disp('R8=Vr8/Ir8')\n",
"R8=Vr8/Ir8\n",
"disp('ohms',R8)\n",
"disp('use 470 ohm std value')\n",
"R8=470\n",
"disp('using average level of Vo=12.5')\n",
"Vo=12.5\n",
"disp('R9=(Vo-Vr8)/Ir8')\n",
"R9=(Vo-Vr8)/Ir8\n",
"disp('ohms',R9)\n",
"disp('R7=Vs/Ic3    Vs=19.5')\n",
"Vs=19.5\n",
"R7=Vs/Ic3\n",
"disp('ohms',R7)\n",
"disp('hfe2=50    hfe1=20')\n",
"hfe2=50\n",
"hfe1=20\n",
"disp('Ib2max=Ilmax/(hfe1*hfe2)')\n",
"Ib2max=Ilmax/(hfe1*hfe2)\n",
"disp('amperes',Ib2max)\n",
"disp(' Vr7=Ib2max*R7')\n",
"Vr7=Ib2max*R7\n",
"disp('volts',Vr7)"
   ]
   }
,
{
		   "cell_type": "markdown",
		   "metadata": {},
		   "source": [
			"## Example 12.7: Positive_Voltage_Regulator.sce"
		   ]
		  },
  {
"cell_type": "code",
	   "execution_count": null,
	   "metadata": {
	    "collapsed": true
	   },
	   "outputs": [],
"source": [
"disp('chapter 12 ex12.7')\n",
"disp('given')\n",
"disp('voltage regulator to have o/p voltage=18V')\n",
"Vo=18\n",
"disp('I2>>error amplifier input bias current')\n",
"disp('Let I2=1mA')\n",
"I2=0.001\n",
"disp('Vr2=Vref=7.15')\n",
"Vr2=7.15\n",
"Vref=7.15\n",
"disp('R2=Vref/I2')\n",
"R2=Vref/I2\n",
"disp('ohms',R2)\n",
"disp('use 6.8 kohm std value')\n",
"R2=6800\n",
"disp('I2=7.15/6.8k')\n",
"I2=7.15/6800\n",
"disp('amperes',I2)\n",
"disp('R1=(Vo-Vr2)/I2')\n",
"R1=(Vo-Vr2)/I2\n",
"disp('ohms',R1)\n",
"disp('use 10 kohm std value')\n",
"R1=10000\n",
"disp('for satisfactory operatiom of series pass transistor')\n",
"disp('Let Vs-Vo=5V   Vs=Vo+5  ')\n",
"Vs=Vo+5\n",
"disp('volts',Vs)\n",
"disp('Inteernal circuit current is approximately ')\n",
"disp('I=Istandby+Iref=25mA')\n",
"I=0.025\n",
"disp('Internal power dissipation excluding series pass transistor ')\n",
"disp('Pi=(Istandby+Iref)*Vs')\n",
"Pi=(I)*Vs\n",
"disp('watts',Pi)\n",
"disp('Maximum power dissipated in series pass transistor')\n",
"disp('P=(specified Pdmax)-Pi    Pdmax=1000mW')\n",
"Pdmax=1\n",
"P=Pdmax-Pi\n",
"disp('watts',P)\n",
"disp('Maximum load current=P/(Vs-Vo)')\n",
"Ilmax=P/(Vs-Vo)\n",
"disp('amperes',Ilmax)"
   ]
   }
,
{
		   "cell_type": "markdown",
		   "metadata": {},
		   "source": [
			"## Example 12.8: LM217_Voltage_Regulator.sce"
		   ]
		  },
  {
"cell_type": "code",
	   "execution_count": null,
	   "metadata": {
	    "collapsed": true
	   },
	   "outputs": [],
"source": [
"disp('chapter 12 ex12.8')\n",
"disp('given')\n",
"disp('voltage regulator to have o/p voltage=9V')\n",
"Vo=9\n",
"disp('I1>>(Iadj=100uA)')\n",
"disp('Let I1=5mA')\n",
"I1=0.005\n",
"disp('R1=Vref/I1   Vref=1.25V')\n",
"Vref=1.25\n",
"R1=Vref/I1\n",
"disp('ohms',R1)\n",
"disp('use 270ohm std value and recalculate I1')\n",
"R1=270\n",
"disp('I1=Vref/R1')\n",
"I1=Vref/R1\n",
"disp('amperes',I1)\n",
"disp('R2=(Vo-Vr1)/I1, Vr1=1.25')\n",
"Vr1=1.25\n",
"R2=(Vo-Vr1)/I1\n",
"disp('ohms',R2)\n",
"disp('use 1.5kohm and 220 ohm in series')"
   ]
   }
],
"metadata": {
		  "kernelspec": {
		   "display_name": "Scilab",
		   "language": "scilab",
		   "name": "scilab"
		  },
		  "language_info": {
		   "file_extension": ".sce",
		   "help_links": [
			{
			 "text": "MetaKernel Magics",
			 "url": "https://github.com/calysto/metakernel/blob/master/metakernel/magics/README.md"
			}
		   ],
		   "mimetype": "text/x-octave",
		   "name": "scilab",
		   "version": "0.7.1"
		  }
		 },
		 "nbformat": 4,
		 "nbformat_minor": 0
}
