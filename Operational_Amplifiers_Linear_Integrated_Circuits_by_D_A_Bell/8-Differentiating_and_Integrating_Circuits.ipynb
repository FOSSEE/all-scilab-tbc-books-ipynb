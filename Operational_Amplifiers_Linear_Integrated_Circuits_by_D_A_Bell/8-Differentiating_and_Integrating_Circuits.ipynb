{
"cells": [
 {
		   "cell_type": "markdown",
	   "metadata": {},
	   "source": [
       "# Chapter 8: Differentiating and Integrating Circuits"
	   ]
	},
{
		   "cell_type": "markdown",
		   "metadata": {},
		   "source": [
			"## Example 8.1: Differentiating_circuit.sce"
		   ]
		  },
  {
"cell_type": "code",
	   "execution_count": null,
	   "metadata": {
	    "collapsed": true
	   },
	   "outputs": [],
"source": [
"disp('chapter 8 ex8.1')\n",
"disp('given')\n",
"disp('Design a differentiating circuit')\n",
"disp('output voltage Vo=5volt')\n",
"Vo=5\n",
"disp('input changes by 1volt in a time of 100*10^(-6)')\n",
"v=1\n",
"t=100*10^(-6)\n",
"disp('let I1>IBmax')\n",
"disp('I1=500*10^(-6)')\n",
"I1=500*10^(-6)\n",
"disp('R2=Vo/I1')\n",
"R2=Vo/I1\n",
"disp('ohms',R2)\n",
"disp('C1=I1*t/v')\n",
"C1=I1*t/v\n",
"disp('farads',C1)\n",
"disp('R1=R2/20')\n",
"R1=R2/20\n",
"disp('ohms',R1)\n",
"disp('use standard value R1=470ohm')\n",
"R1=470\n",
"disp('ohms',R1)\n",
"disp('R3=R2=10kohm')\n",
"disp('Vcc>=+or-(Vo+3Volt)')\n",
"Vcc=Vo+3\n",
"disp('volts',Vcc)\n",
"disp('compensate the op-amp for Av=R2/R1')\n",
"Av=R2/R1\n",
"disp(Av)"
   ]
   }
,
{
		   "cell_type": "markdown",
		   "metadata": {},
		   "source": [
			"## Example 8.2: slew_rate_for_Differentiating_circuit.sce"
		   ]
		  },
  {
"cell_type": "code",
	   "execution_count": null,
	   "metadata": {
	    "collapsed": true
	   },
	   "outputs": [],
"source": [
"disp('chapter 8 ex8.2')\n",
"disp('given')\n",
"disp('Determine required minimum slew rate for circuit designed in example 8.1')\n",
"disp('output voltage Vo=5volt')\n",
"Vo=5\n",
"disp('input rise time tri=100*10^(-6)')\n",
"tri=100*10^(-6)\n",
"disp('C1=.05*10^(-6)F and R2=10kohm')\n",
"C1=.05*10^(-6)\n",
"R2=10000\n",
"disp('output rise time tro=30%of input rise time')\n",
"tro=.30*tri\n",
"disp('seconds',tro)\n",
"disp('Smin=Vo/tro')\n",
"Smin=Vo/tro\n",
"disp('V/us',Smin)\n",
"disp('fc=1/(2*%pi*R2*C1)')\n",
"fc=1/(2*%pi*R2*C1)\n",
"disp('Hz',fc)"
   ]
   }
,
{
		   "cell_type": "markdown",
		   "metadata": {},
		   "source": [
			"## Example 8.3: Integrating_Circuit.sce"
		   ]
		  },
  {
"cell_type": "code",
	   "execution_count": null,
	   "metadata": {
	    "collapsed": true
	   },
	   "outputs": [],
"source": [
"disp('chapter 8 ex8.3')\n",
"disp('given')\n",
"disp('Design an integrating circuit to produce a triangular output wave form')\n",
"disp('peak to peak amplitude of v=4volt') //(using a BIFET op-amp)\n",
"v=4\n",
"disp('The input voltage Vi=+or-5volt square wave with frequency of 500Hz')\n",
"Vi=5\n",
"f=500\n",
"disp('C1>stray capacitance')\n",
"disp('let C1=.1*10^(-6)F')    //(standard value)\n",
"C1=.1*10^(-6)\n",
"disp('t=T/2=1/(2*f)')\n",
"t=1/(2*f)\n",
"disp('seconds',t)\n",
"disp('I1=C1*v/t')\n",
"I1=C1*v/t\n",
"disp('Amperes',I1)\n",
"disp('R1=Vi/I1')\n",
"R1=Vi/I1\n",
"disp('ohms',R1)       //(use a 12kohm standard value with a 470ohm connected in series)\n",
"disp('R2=20*R1')\n",
"R2=20*R1\n",
"disp('ohms',R2)                //(use a 270kohm standard value)\n",
"disp('R3=R1=12.5kohm')   //(use a 12kohm standard value)"
   ]
   }
,
{
		   "cell_type": "markdown",
		   "metadata": {},
		   "source": [
			"## Example 8.4: slew_rate_for_Integrating_circuit.sce"
		   ]
		  },
  {
"cell_type": "code",
	   "execution_count": null,
	   "metadata": {
	    "collapsed": true
	   },
	   "outputs": [],
"source": [
"disp('chapter 8 ex8.4')\n",
"disp('given')\n",
"disp('Determine required minimum slew rate for circuit designed in example 8.3')\n",
"disp('output voltage Vo=4volt')\n",
"Vo=4\n",
"disp(' change in time t=1*10^(-3)')\n",
"t=1*10^(-3)\n",
"disp('let C1=.1*10^(-6)F')    //(standard value)\n",
"C1=.1*10^(-6)\n",
"disp('R1=12.5kohm')\n",
"R1=12500\n",
"disp('Smin=Vo/(t/10)')\n",
"Smin=Vo/(t/10)\n",
"disp('V/us',Smin)\n",
"disp('fc=1/(2*%pi*R1*C1)')\n",
"fc=1/(2*%pi*R1*C1)\n",
"disp('Hz',fc)"
   ]
   }
],
"metadata": {
		  "kernelspec": {
		   "display_name": "Scilab",
		   "language": "scilab",
		   "name": "scilab"
		  },
		  "language_info": {
		   "file_extension": ".sce",
		   "help_links": [
			{
			 "text": "MetaKernel Magics",
			 "url": "https://github.com/calysto/metakernel/blob/master/metakernel/magics/README.md"
			}
		   ],
		   "mimetype": "text/x-octave",
		   "name": "scilab",
		   "version": "0.7.1"
		  }
		 },
		 "nbformat": 4,
		 "nbformat_minor": 0
}
