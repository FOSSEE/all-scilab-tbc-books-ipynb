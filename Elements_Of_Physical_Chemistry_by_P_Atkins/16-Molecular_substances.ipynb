{
"cells": [
 {
		   "cell_type": "markdown",
	   "metadata": {},
	   "source": [
       "# Chapter 16: Molecular substances"
	   ]
	},
{
		   "cell_type": "markdown",
		   "metadata": {},
		   "source": [
			"## Example 16.1_e: example_1.sce"
		   ]
		  },
  {
"cell_type": "code",
	   "execution_count": null,
	   "metadata": {
	    "collapsed": true
	   },
	   "outputs": [],
"source": [
"clc\n",
"//Initialization of variables\n",
"e=1.609*10^-19 //C\n",
"//calculations\n",
"mux=(-0.36*e*(-0.8) + 0.45*e*(2.1) )*10^-12 /(3.33564*10^-30)\n",
"muy=-0.91\n",
"muz=0\n",
"mux=-1.1\n",
"mu=sqrt(mux*mux+muy*muy+muz*muz)\n",
"//results\n",
"printf('Net dipole moment = %.1f D',mu+0.1)"
   ]
   }
,
{
		   "cell_type": "markdown",
		   "metadata": {},
		   "source": [
			"## Example 16.1_i: illustration_1.sce"
		   ]
		  },
  {
"cell_type": "code",
	   "execution_count": null,
	   "metadata": {
	    "collapsed": true
	   },
	   "outputs": [],
"source": [
"clc\n",
"//Initialization of variables\n",
"EH=2.1\n",
"EBr=2.8\n",
"//calculations\n",
"diff=-EH+EBr\n",
"//results\n",
"printf('Prediced dipole moment = %.1f D',diff)"
   ]
   }
,
{
		   "cell_type": "markdown",
		   "metadata": {},
		   "source": [
			"## Example 16.2_e: example_2.sce"
		   ]
		  },
  {
"cell_type": "code",
	   "execution_count": null,
	   "metadata": {
	    "collapsed": true
	   },
	   "outputs": [],
"source": [
"clc\n",
"//Initialization of variables\n",
"Na=6.023*10^23 // /mol\n",
"e=1.60228*10^-19 //C\n",
"e0=8.85419*10^-12 //C^2/J m\n",
"//calculations\n",
"factor=Na*e^2 /(4*%pi*e0)\n",
"//Multiply by Z^2/R to get the value of potential energy. Plot the graph\n",
"//results\n",
"printf('Potential energy = %.3e Z*Z/R  kJ/mol',factor)"
   ]
   }
,
{
		   "cell_type": "markdown",
		   "metadata": {},
		   "source": [
			"## Example 16.2_i: illustration_2.sce"
		   ]
		  },
  {
"cell_type": "code",
	   "execution_count": null,
	   "metadata": {
	    "collapsed": true
	   },
	   "outputs": [],
"source": [
"clc\n",
"//Initialization of variables\n",
"mu1=1.4 //D\n",
"mu2=1.4 //D\n",
"angle=180 //degrees\n",
"d=3 //nm\n",
"D=4.7*10^-30 //C m\n",
"//calculations\n",
"Vmol=D*D*(1-3*(cosd(angle))^2)/(4*%pi*8.854*10^-12 *(d*10^-9)^3)\n",
"V=Vmol*(6.023*10^23)\n",
"//results\n",
"printf('Potential energy = %.1f J/mol',V)"
   ]
   }
],
"metadata": {
		  "kernelspec": {
		   "display_name": "Scilab",
		   "language": "scilab",
		   "name": "scilab"
		  },
		  "language_info": {
		   "file_extension": ".sce",
		   "help_links": [
			{
			 "text": "MetaKernel Magics",
			 "url": "https://github.com/calysto/metakernel/blob/master/metakernel/magics/README.md"
			}
		   ],
		   "mimetype": "text/x-octave",
		   "name": "scilab",
		   "version": "0.7.1"
		  }
		 },
		 "nbformat": 4,
		 "nbformat_minor": 0
}
