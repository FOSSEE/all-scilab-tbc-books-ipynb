{
"cells": [
 {
		   "cell_type": "markdown",
	   "metadata": {},
	   "source": [
       "# Chapter 19: Magnetic resonance"
	   ]
	},
{
		   "cell_type": "markdown",
		   "metadata": {},
		   "source": [
			"## Example 19.2_i: illustration_2.sce"
		   ]
		  },
  {
"cell_type": "code",
	   "execution_count": null,
	   "metadata": {
	    "collapsed": true
	   },
	   "outputs": [],
"source": [
"clc\n",
"//Initialization of variables\n",
"A=5.1 //Hz\n",
"B=-1.4 //Hz\n",
"C=3.2 //Hz\n",
"an1=120 //degrees\n",
"an2=180 //degrees\n",
"//calculations\n",
"j1=A+B*cosd(an1) + C*cosd(2*an1)\n",
"j2=A+B*cosd(an2) + C*cosd(2*an2)\n",
"//results\n",
"printf('Spin-spin coupling constant = %d Hz',j1)\n",
"printf('\n Spin-spin coupling constant = %d Hz',j2+1)"
   ]
   }
],
"metadata": {
		  "kernelspec": {
		   "display_name": "Scilab",
		   "language": "scilab",
		   "name": "scilab"
		  },
		  "language_info": {
		   "file_extension": ".sce",
		   "help_links": [
			{
			 "text": "MetaKernel Magics",
			 "url": "https://github.com/calysto/metakernel/blob/master/metakernel/magics/README.md"
			}
		   ],
		   "mimetype": "text/x-octave",
		   "name": "scilab",
		   "version": "0.7.1"
		  }
		 },
		 "nbformat": 4,
		 "nbformat_minor": 0
}
