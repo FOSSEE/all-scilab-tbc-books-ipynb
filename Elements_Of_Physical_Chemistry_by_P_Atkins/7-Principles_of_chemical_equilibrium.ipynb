{
"cells": [
 {
		   "cell_type": "markdown",
	   "metadata": {},
	   "source": [
       "# Chapter 7: Principles of chemical equilibrium"
	   ]
	},
{
		   "cell_type": "markdown",
		   "metadata": {},
		   "source": [
			"## Example 7.1_e: example_1.sce"
		   ]
		  },
  {
"cell_type": "code",
	   "execution_count": null,
	   "metadata": {
	    "collapsed": true
	   },
	   "outputs": [],
"source": [
"clc\n",
"//Initialization of variables\n",
"G=-31 //kJ/mol\n",
"T=37+273 //K\n",
"Cadp=10^-3 //mmol/L\n",
"Cp=8*10^-3 //mmol/L\n",
"Catp=8*10^-3 //mmol/L\n",
"R=8.314 //J/K mol\n",
"//calculations\n",
"Q=Cadp*Cp/Catp\n",
"deltaG=G+R*T*log(Q) /1000.\n",
"//results\n",
"printf('Reaction Gibbs energy = %d kJ/mol',deltaG-1)"
   ]
   }
,
{
		   "cell_type": "markdown",
		   "metadata": {},
		   "source": [
			"## Example 7.2_e: example_2.sce"
		   ]
		  },
  {
"cell_type": "code",
	   "execution_count": null,
	   "metadata": {
	    "collapsed": true
	   },
	   "outputs": [],
"source": [
"clc\n",
"//Initialization of variables\n",
"Hr=-285.83 //kJ/mol\n",
"Sr=-163.34 //J/ K mol\n",
"T=298.15 //K\n",
"//calculations\n",
"Gr=Hr-T*Sr/1000.\n",
"//results\n",
"printf('Gibbs energy = %.2f kJ/mol',Gr)"
   ]
   }
,
{
		   "cell_type": "markdown",
		   "metadata": {},
		   "source": [
			"## Example 7.2_i: illustration_2.sce"
		   ]
		  },
  {
"cell_type": "code",
	   "execution_count": null,
	   "metadata": {
	    "collapsed": true
	   },
	   "outputs": [],
"source": [
"clc\n",
"//Initialization of variables\n",
"Gr=-3.40 //kJ/mol\n",
"R=8.314 //J/k mol\n",
"T=298 //K\n",
"//calculations\n",
"lnK=Gr*10^3/(R*T)\n",
"K=exp(lnK)\n",
"//results\n",
"printf('Equilibrium constant K= %.2f',K)"
   ]
   }
,
{
		   "cell_type": "markdown",
		   "metadata": {},
		   "source": [
			"## Example 7.3_e: example_3.sce"
		   ]
		  },
  {
"cell_type": "code",
	   "execution_count": null,
	   "metadata": {
	    "collapsed": true
	   },
	   "outputs": [],
"source": [
"clc\n",
"//Initialization of variables\n",
"aADP=1 //mol/L\n",
"aP=1 //mol/L\n",
"aATP=1 //mol/L\n",
"aH2O=1 //mol/L\n",
"aH=10^-7 //mol/L\n",
"G=10 //kJ/mol\n",
"T=298 //K\n",
"R=8.314 //J/K mol\n",
"//calculations\n",
"Q=aADP*aP*aH/(aATP*aH2O)\n",
"Gr=G+R*T*log(Q)/1000.\n",
"//results\n",
"printf('Change in nGibbs energy =%d kJ/mol',Gr-1)"
   ]
   }
,
{
		   "cell_type": "markdown",
		   "metadata": {},
		   "source": [
			"## Example 7.3_i: illustration_3.sce"
		   ]
		  },
  {
"cell_type": "code",
	   "execution_count": null,
	   "metadata": {
	    "collapsed": true
	   },
	   "outputs": [],
"source": [
"clc\n",
"//Initialization of variables\n",
"Hr=178 //kJ/mol\n",
"Sr=161 //J/K mol\n",
"//calculations\n",
"T=Hr*10^3 /Sr\n",
"//results\n",
"printf('Decompostion temperature = %.2e K',T)"
   ]
   }
,
{
		   "cell_type": "markdown",
		   "metadata": {},
		   "source": [
			"## Example 7.4_e: example_4.sce"
		   ]
		  },
  {
"cell_type": "code",
	   "execution_count": null,
	   "metadata": {
	    "collapsed": true
	   },
	   "outputs": [],
"source": [
"clc\n",
"//Initialization of variables\n",
"Gr=1.7*10^3 //J/mol\n",
"T=298 //K\n",
"R=8.314 //J/K mol\n",
"K=0.5\n",
"//calculations\n",
"GbyRT=Gr/(R*T)\n",
"feq=K/(K+1)\n",
"//results\n",
"printf('Equivalent fraction = %.2f ',feq)\n",
"disp('For the second part, Gr=1.7 + 2.48 ln(f/1-f)')"
   ]
   }
,
{
		   "cell_type": "markdown",
		   "metadata": {},
		   "source": [
			"## Example 7.4_i: illustration_4.sce"
		   ]
		  },
  {
"cell_type": "code",
	   "execution_count": null,
	   "metadata": {
	    "collapsed": true
	   },
	   "outputs": [],
"source": [
"clc\n",
"//Initialization of variables\n",
"GCO2=-394 //kJ/mol\n",
"GCO=-137 //kJ/mol\n",
"GO2=0\n",
"//calculations\n",
"deltaG=2*GCO2-2*GCO+GO2\n",
"//results\n",
"printf('Standard reaction gibbs energy = %d kJ/mol',deltaG)"
   ]
   }
,
{
		   "cell_type": "markdown",
		   "metadata": {},
		   "source": [
			"## Example 7.5_e: example_5.sce"
		   ]
		  },
  {
"cell_type": "code",
	   "execution_count": null,
	   "metadata": {
	    "collapsed": true
	   },
	   "outputs": [],
"source": [
"clc\n",
"//Initialization of variables\n",
"species=['N2' 'H2' 'NH3']\n",
"change=['-x' '-3x' '2x']\n",
"E=['1-x' '3-3x' '2x']\n",
"disp('Concentration table')\n",
"disp(species)\n",
"disp(change)\n",
"disp(E)\n",
"K=977\n",
"//Calculations\n",
"g=sqrt(27*K/4)\n",
"x=poly(0,'x');\n",
"vector=roots(g*x^2 -(2*g +1)*x +g)\n",
"sol=vector(2)\n",
"PN2=1-sol\n",
"PH2=3-3*sol\n",
"PNH3=2*sol\n",
"K=PNH3^2/(PH2^3 *PN2)\n",
"//results\n",
"printf('Pressure of N2 gas =%.2f bar',PN2)\n",
"printf('\n Pressure of H2 gas =%.2f bar',PH2)\n",
"printf('\n Pressure of NH3 gas =%.2f bar',PNH3)\n",
"printf('\n K final = %.1e> it is close to original value.',K)"
   ]
   }
],
"metadata": {
		  "kernelspec": {
		   "display_name": "Scilab",
		   "language": "scilab",
		   "name": "scilab"
		  },
		  "language_info": {
		   "file_extension": ".sce",
		   "help_links": [
			{
			 "text": "MetaKernel Magics",
			 "url": "https://github.com/calysto/metakernel/blob/master/metakernel/magics/README.md"
			}
		   ],
		   "mimetype": "text/x-octave",
		   "name": "scilab",
		   "version": "0.7.1"
		  }
		 },
		 "nbformat": 4,
		 "nbformat_minor": 0
}
