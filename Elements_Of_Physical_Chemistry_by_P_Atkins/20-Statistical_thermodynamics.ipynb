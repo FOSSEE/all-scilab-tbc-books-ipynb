{
"cells": [
 {
		   "cell_type": "markdown",
	   "metadata": {},
	   "source": [
       "# Chapter 20: Statistical thermodynamics"
	   ]
	},
{
		   "cell_type": "markdown",
		   "metadata": {},
		   "source": [
			"## Example 20.1_e: example_1.sce"
		   ]
		  },
  {
"cell_type": "code",
	   "execution_count": null,
	   "metadata": {
	    "collapsed": true
	   },
	   "outputs": [],
"source": [
"clc\n",
"//Initialization of variables\n",
"E=22 //kJ/mol\n",
"R=8.214 //J/K mol\n",
"T=293 //K\n",
"//Calculations\n",
"q=1+%e^(-E*10^3 /(R*T))\n",
"//results\n",
"printf('At 20 C, partition function = %.4f',q)"
   ]
   }
,
{
		   "cell_type": "markdown",
		   "metadata": {},
		   "source": [
			"## Example 20.1_i: illustration_1.sce"
		   ]
		  },
  {
"cell_type": "code",
	   "execution_count": null,
	   "metadata": {
	    "collapsed": true
	   },
	   "outputs": [],
"source": [
"clc\n",
"//Initialization of variables\n",
"E=22*10^3 //kJ/mol\n",
"T=293 //K \n",
"//calculations\n",
"ratio=%e^(-E/(8.31451*T))\n",
"//results\n",
"printf('Relative populations of boat and chair conformations is %.1e',ratio)"
   ]
   }
,
{
		   "cell_type": "markdown",
		   "metadata": {},
		   "source": [
			"## Example 20.2_i: illustration_2.sce"
		   ]
		  },
  {
"cell_type": "code",
	   "execution_count": null,
	   "metadata": {
	    "collapsed": true
	   },
	   "outputs": [],
"source": [
"clc\n",
"//Initialization of variables\n",
"g2=5\n",
"g1=3\n",
"E2=6\n",
"E1=2\n",
"k=1.38*10^-23 //J/K\n",
"h=6.626*10^-34 //J s\n",
"B=3.18*10^11 //Hz\n",
"//calculations\n",
"ratio=g2/g1 *(%e^((E1-E2)*h*B/(k*T)))\n",
"//results\n",
"printf('Ratio= %.2f',ratio)"
   ]
   }
,
{
		   "cell_type": "markdown",
		   "metadata": {},
		   "source": [
			"## Example 20.3_e: example_3.sce"
		   ]
		  },
  {
"cell_type": "code",
	   "execution_count": null,
	   "metadata": {
	    "collapsed": true
	   },
	   "outputs": [],
"source": [
"clc\n",
"//Initialization of variables\n",
"k=1.38*10^-23 //J/K\n",
"h=6.626*10^-34 //J s\n",
"B=3.18*10^11 //Hz\n",
"T=298 //K\n",
"R=8.314 //J/K mol\n",
"//calculations\n",
"Sm=R*(1+log(k*T/(h*B)))\n",
"//results\n",
"printf('Contribution to rotational motion= %.1f J/ K mol',Sm)"
   ]
   }
,
{
		   "cell_type": "markdown",
		   "metadata": {},
		   "source": [
			"## Example 20.3_i: illustration_3.sce"
		   ]
		  },
  {
"cell_type": "code",
	   "execution_count": null,
	   "metadata": {
	    "collapsed": true
	   },
	   "outputs": [],
"source": [
"clc\n",
"//Initialization of variables\n",
"T=298  //K\n",
"m=32*1.66054*10^-27 //kg\n",
"k=1.38066*10^-23 //j/k\n",
"V=10^-4 //m^3\n",
"h=6.62608*10^-34 //J/s\n",
"//calculations\n",
"q=(2*%pi*m*k*T)^1.5 *V/h^3 \n",
"//results\n",
"printf('Translational partition function = %.2e',q)"
   ]
   }
,
{
		   "cell_type": "markdown",
		   "metadata": {},
		   "source": [
			"## Example 20.5_e: example_5.sce"
		   ]
		  },
  {
"cell_type": "code",
	   "execution_count": null,
	   "metadata": {
	    "collapsed": true
	   },
	   "outputs": [],
"source": [
"clc\n",
"//Initialization of variables\n",
"me=9.10939*10^-31 //kg\n",
"k=1.38*10^-23 //J/K\n",
"h=6.626*10^-34 //J s\n",
"p=10^5 //Pa\n",
"T=1000 //K\n",
"R=8.314 //J/K mol\n",
"I=376*10^3 //J/mol\n",
"//calculations\n",
"K=(2*%pi*me)^1.5 *(k*T)^2.5 /(p*h^3) *%e^(-I/(R*T))\n",
"//results\n",
"printf('Equilibrium constant = %.2e',K)"
   ]
   }
],
"metadata": {
		  "kernelspec": {
		   "display_name": "Scilab",
		   "language": "scilab",
		   "name": "scilab"
		  },
		  "language_info": {
		   "file_extension": ".sce",
		   "help_links": [
			{
			 "text": "MetaKernel Magics",
			 "url": "https://github.com/calysto/metakernel/blob/master/metakernel/magics/README.md"
			}
		   ],
		   "mimetype": "text/x-octave",
		   "name": "scilab",
		   "version": "0.7.1"
		  }
		 },
		 "nbformat": 4,
		 "nbformat_minor": 0
}
