{
"cells": [
 {
		   "cell_type": "markdown",
	   "metadata": {},
	   "source": [
       "# Chapter 4: Thermodynamics The second law"
	   ]
	},
{
		   "cell_type": "markdown",
		   "metadata": {},
		   "source": [
			"## Example 4.1_e: example_1.sce"
		   ]
		  },
  {
"cell_type": "code",
	   "execution_count": null,
	   "metadata": {
	    "collapsed": true
	   },
	   "outputs": [],
"source": [
"clc\n",
"//Initialization of variables\n",
"Power=100 //W\n",
"time=1 //day\n",
"T=20 //C\n",
"//calculations\n",
"timeins=1*24*3600\n",
"qsurr=timeins*Power\n",
"Ssurr=qsurr/(T+273)\n",
"//results\n",
"printf('Heat transferred to surroundings = %d J',qsurr)\n",
"printf('\n Entropy production per day = %.2e J/k',Ssurr)"
   ]
   }
,
{
		   "cell_type": "markdown",
		   "metadata": {},
		   "source": [
			"## Example 4.1_i: illustration_1.sce"
		   ]
		  },
  {
"cell_type": "code",
	   "execution_count": null,
	   "metadata": {
	    "collapsed": true
	   },
	   "outputs": [],
"source": [
"clc\n",
"//Initialization of variables\n",
"H=100 //kJ\n",
"T1=273 //K\n",
"T2=373//K\n",
"//calculations\n",
"S1=H*1000/T1\n",
"S2=H*1000/T2\n",
"//results\n",
"printf('Entropy change at 273 K is %d J/K ',S1)\n",
"printf('\n Entropy change at 373 K is %d J/K ',S2)"
   ]
   }
,
{
		   "cell_type": "markdown",
		   "metadata": {},
		   "source": [
			"## Example 4.2_e: example_2.sce"
		   ]
		  },
  {
"cell_type": "code",
	   "execution_count": null,
	   "metadata": {
	    "collapsed": true
	   },
	   "outputs": [],
"source": [
"clc\n",
"//Initialization of variables\n",
"g=9.81 //m/s^2\n",
"m=30*10^-3 //kg\n",
"d=10 //m\n",
"H=2.828*10^6 //j/mol\n",
"M=180 //g/mol\n",
"//calculations\n",
"w=g*m*d\n",
"n=w/H\n",
"m=n*M\n",
"//results\n",
"printf('Amount bird must consume = %.1e g',m)"
   ]
   }
,
{
		   "cell_type": "markdown",
		   "metadata": {},
		   "source": [
			"## Example 4.2_i: illustration_2.sce"
		   ]
		  },
  {
"cell_type": "code",
	   "execution_count": null,
	   "metadata": {
	    "collapsed": true
	   },
	   "outputs": [],
"source": [
"clc\n",
"//Initialization of variables\n",
"T=59.2 //K\n",
"//calculations\n",
"Hvap=85*(273.2+T)\n",
"//results\n",
"printf('Enthalpy of vaportization  =%d kJ/mol',Hvap/1000)"
   ]
   }
,
{
		   "cell_type": "markdown",
		   "metadata": {},
		   "source": [
			"## Example 4.3_i: illustration_3.sce"
		   ]
		  },
  {
"cell_type": "code",
	   "execution_count": null,
	   "metadata": {
	    "collapsed": true
	   },
	   "outputs": [],
"source": [
"clc\n",
"//Initialization of variables\n",
"SH2O=70 //J/K mol\n",
"SH2=131 //J/K mol\n",
"SO2=205 //J/K mol\n",
"//calculations\n",
"deltaS=2*SH2O-2*SH2-SO2\n",
"printf('Change in entropy = %d J/K mol',deltaS)"
   ]
   }
],
"metadata": {
		  "kernelspec": {
		   "display_name": "Scilab",
		   "language": "scilab",
		   "name": "scilab"
		  },
		  "language_info": {
		   "file_extension": ".sce",
		   "help_links": [
			{
			 "text": "MetaKernel Magics",
			 "url": "https://github.com/calysto/metakernel/blob/master/metakernel/magics/README.md"
			}
		   ],
		   "mimetype": "text/x-octave",
		   "name": "scilab",
		   "version": "0.7.1"
		  }
		 },
		 "nbformat": 4,
		 "nbformat_minor": 0
}
