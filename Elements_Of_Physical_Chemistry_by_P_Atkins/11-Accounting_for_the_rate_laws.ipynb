{
"cells": [
 {
		   "cell_type": "markdown",
	   "metadata": {},
	   "source": [
       "# Chapter 11: Accounting for the rate laws"
	   ]
	},
{
		   "cell_type": "markdown",
		   "metadata": {},
		   "source": [
			"## Example 11.1_e: example_1.sce"
		   ]
		  },
  {
"cell_type": "code",
	   "execution_count": null,
	   "metadata": {
	    "collapsed": true
	   },
	   "outputs": [],
"source": [
"clc\n",
"//Initialization of variables\n",
"S=[10 20 40 80 120 180 300]\n",
"v=[0.32 0.58 0.9 1.22 1.42 1.58 1.74]\n",
"//calculations\n",
"bys=1000/S\n",
"byv=1/v\n",
"n=size(S)\n",
"x=bys\n",
"y=byv\n",
"disp('From graph,')\n",
"m=26.17\n",
"c=0.476\n",
"//Sx =sum(x);\n",
"//Sxx =sum(x.*x);\n",
"//Sy =sum(y);\n",
"//Syy =sum(y.*y);\n",
"//Sxy =sum(x.*y);\n",
"//m =(n*Sxy-(Sx*Sy))/(n*Sxx-(Sx*Sx));\n",
"//c =(Sy/n)-(m*Sx/n);\n",
"//disp(m)\n",
"//disp(c)\n",
"//y=zeros(7)\n",
"//for i =1:n(1)\n",
"//    y(i)=m*bys(i)+c\n",
"//end\n",
"\n",
"//clf();\n",
"//plot(x,y);\n",
"//xtitle('','x ','y ');\n",
"//legend(['measure points', 'fitted curve'], 2);\n",
"vmax=1/c\n",
"Km=m/c\n",
"//results\n",
"printf('Max. velocity  = %.2f mumol/L s',vmax)\n",
"printf('\n Michaelis constant = %.1f mumol/L',Km)"
   ]
   }
,
{
		   "cell_type": "markdown",
		   "metadata": {},
		   "source": [
			"## Example 11.1_i: illustration_1.sce"
		   ]
		  },
  {
"cell_type": "code",
	   "execution_count": null,
	   "metadata": {
	    "collapsed": true
	   },
	   "outputs": [],
"source": [
"clc\n",
"//Initialization of variables\n",
"kf=8.18*10^8 //L/mol s\n",
"kb=2*10^6 //s^-1\n",
"//calculations\n",
"K=kf/kb\n",
"//results\n",
"printf('Equilibriu constant for dimerization = %.1e ',K)"
   ]
   }
,
{
		   "cell_type": "markdown",
		   "metadata": {},
		   "source": [
			"## Example 11.2_e: examlple_2.sce"
		   ]
		  },
  {
"cell_type": "code",
	   "execution_count": null,
	   "metadata": {
	    "collapsed": true
	   },
	   "outputs": [],
"source": [
"clc\n",
"//Initialization of variables\n",
"c=1.234\n",
"m=2.044\n",
"//calculations\n",
"Ki=c/m\n",
"//results\n",
"printf('KI = %.2f ',Ki)"
   ]
   }
,
{
		   "cell_type": "markdown",
		   "metadata": {},
		   "source": [
			"## Example 11.2_i: illustration_2.sce"
		   ]
		  },
  {
"cell_type": "code",
	   "execution_count": null,
	   "metadata": {
	    "collapsed": true
	   },
	   "outputs": [],
"source": [
"clc\n",
"//Initialization of variables\n",
"F16bP=1.9*10^-5 //mmol/L\n",
"ADP=1.3*10^-3  //mmol/L\n",
"ATP=11.4*10^-3  //mmol/L\n",
"F6P=8.9*10^-5  //mmol/L\n",
"k=1.2*10^3\n",
"//calculations\n",
"Q=F16bP*ADP/(F6P*ATP)\n",
"if(Q<k)\n",
"    printf('The reaction step is far from equilibrium and Q= %.3f',Q)\n",
"else\n",
"    printf('The reaction step is at equilibrium and Q= %.3f',Q)\n",
"end\n",
""
   ]
   }
,
{
		   "cell_type": "markdown",
		   "metadata": {},
		   "source": [
			"## Example 11.3_e: example_3.sce"
		   ]
		  },
  {
"cell_type": "code",
	   "execution_count": null,
	   "metadata": {
	    "collapsed": true
	   },
	   "outputs": [],
"source": [
"clc\n",
"//Initialization of variables\n",
"P=50 //J/s\n",
"l=313*10^-9 //m\n",
"h=6.62608*10^-34 //Js\n",
"N=6.023*10^23\n",
"c=2.99792*10^8 //m/s\n",
"yield=0.21\n",
"//calculations\n",
"rate=P*l/(h*c)\n",
"Frate=yield*rate\n",
"molrate=Frate/N\n",
"//results\n",
"printf('No.of diheptane molecules destroyed = %.1e s^-1',Frate)\n",
"printf('\n Moles of  diheptane molecules destroyed = %.1e mol s^-1',molrate)"
   ]
   }
],
"metadata": {
		  "kernelspec": {
		   "display_name": "Scilab",
		   "language": "scilab",
		   "name": "scilab"
		  },
		  "language_info": {
		   "file_extension": ".sce",
		   "help_links": [
			{
			 "text": "MetaKernel Magics",
			 "url": "https://github.com/calysto/metakernel/blob/master/metakernel/magics/README.md"
			}
		   ],
		   "mimetype": "text/x-octave",
		   "name": "scilab",
		   "version": "0.7.1"
		  }
		 },
		 "nbformat": 4,
		 "nbformat_minor": 0
}
