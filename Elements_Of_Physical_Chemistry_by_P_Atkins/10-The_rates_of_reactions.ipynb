{
"cells": [
 {
		   "cell_type": "markdown",
	   "metadata": {},
	   "source": [
       "# Chapter 10: The rates of reactions"
	   ]
	},
{
		   "cell_type": "markdown",
		   "metadata": {},
		   "source": [
			"## Example 10.1_e: example_1.sce"
		   ]
		  },
  {
"cell_type": "code",
	   "execution_count": null,
	   "metadata": {
	    "collapsed": true
	   },
	   "outputs": [],
"source": [
"clc\n",
"//Initialization of variables\n",
"I=[1 2 4 6]*10^-5\n",
"r1=[1.070 3.48 13.9 31.3]*10^-3\n",
"r2=[4.35 17.4 69.6 157]*10^-3\n",
"r3=[10.69 34.7 138 313]*10^-3\n",
"Ar=[1 5 10]*10^-3\n",
"//calculations\n",
"logI=log(I)\n",
"logr1=log(r1)\n",
"logr2=log(r2)\n",
"logr3=log(r3)\n",
"//The calculations are approximate.hence the value differs from textbook a bit.\n",
"x=logI\n",
"y=logr1\n",
"sx=sum(x);sx2=sum(x^2);sy=sum(y);sxy=sum(x.*y);n=length(x);\n",
"A=[sx,n;sx2,sx];B=[sy;sxy];p=A\B;\n",
"m1=p(1,1);b1=p(2,1);\n",
"y=logr2\n",
"sx=sum(x);sx2=sum(x^2);sy=sum(y);sxy=sum(x.*y);n=length(x);\n",
"A=[sx,n;sx2,sx];B=[sy;sxy];p=A\B;\n",
"m2=p(1,1);b2=p(2,1);\n",
"y=logr3\n",
"sx=sum(x);sx2=sum(x^2);sy=sum(y);sxy=sum(x.*y);n=length(x);\n",
"A=[sx,n;sx2,sx];B=[sy;sxy];p=A\B;\n",
"m3=p(1,1);b3=p(2,1);\n",
"logAr=log(Ar)\n",
"kdash=[b1 b2 b3]\n",
"plot(logAr,kdash)\n",
"x=logAr\n",
"y=kdash\n",
"sx=sum(x);sx2=sum(x^2);sy=sum(y);sxy=sum(x.*y);n=length(x);\n",
"A=[sx,n;sx2,sx];B=[sy;sxy];p=A\B;\n",
"m4=p(1,1);b4=p(2,1);\n",
"logk=b4\n",
"k=%e^logk\n",
"//results\n",
"printf('Overall rate law is r = %.1e [I]^2 [Ar]',k)"
   ]
   }
,
{
		   "cell_type": "markdown",
		   "metadata": {},
		   "source": [
			"## Example 10.1_i: illustration_1.sce"
		   ]
		  },
  {
"cell_type": "code",
	   "execution_count": null,
	   "metadata": {
	    "collapsed": true
	   },
	   "outputs": [],
"source": [
"clc\n",
"//Initialization of variables\n",
"t=28.4 //min\n",
"//calculations\n",
"n=log2(8)\n",
"time=n*t\n",
"printf('Time required = %.1f min',time)"
   ]
   }
,
{
		   "cell_type": "markdown",
		   "metadata": {},
		   "source": [
			"## Example 10.2_e: example_2.sce"
		   ]
		  },
  {
"cell_type": "code",
	   "execution_count": null,
	   "metadata": {
	    "collapsed": true
	   },
	   "outputs": [],
"source": [
"clc\n",
"//Initialization of variables\n",
"t=[0 1000 2000 3000 4000]\n",
"p=[10.20 5.72 3.99 2.78 1.94]\n",
"lnp=log(p)\n",
"x=t\n",
"y=lnp\n",
"//hence the value differs from textbook a bit.\n",
"sx=sum(x);sx2=sum(x^2);sy=sum(y);sxy=sum(x.*y);n=length(x);\n",
"A=[sx,n;sx2,sx];B=[sy;sxy];p=A\B;\n",
"m=p(1,1);b=p(2,1);\n",
"k=m\n",
"plot(x,y)\n",
"//Since first order reaction\n",
"//results\n",
"printf('rate constant = %.2e s^-1',k)"
   ]
   }
,
{
		   "cell_type": "markdown",
		   "metadata": {},
		   "source": [
			"## Example 10.2_i: illustration_2.sce"
		   ]
		  },
  {
"cell_type": "code",
	   "execution_count": null,
	   "metadata": {
	    "collapsed": true
	   },
	   "outputs": [],
"source": [
"clc\n",
"//Initialization of variables\n",
"E=50*10^3 //J/mol\n",
"T1=25+273 //K\n",
"T2=37+273 //K\n",
"//calculations\n",
"ln=E/8.3145 *(1/T1-1/T2)\n",
"factor=%e^(ln)\n",
"//results\n",
"printf('kdash = %.2f k',factor)"
   ]
   }
,
{
		   "cell_type": "markdown",
		   "metadata": {},
		   "source": [
			"## Example 10.3_e: example_3.sce"
		   ]
		  },
  {
"cell_type": "code",
	   "execution_count": null,
	   "metadata": {
	    "collapsed": true
	   },
	   "outputs": [],
"source": [
"clc\n",
"//Initialization of variables\n",
"T=[700 730 760 790 810 840 910 1000]\n",
"k=[0.011 0.035 0.105 0.343 0.789 2.17 20 145]\n",
"//calculations\n",
"x=1000/T\n",
"y=log(k)\n",
"//sx=sum(x)\n",
"//sx2=sum(x^2)\n",
"//sy=sum(y)\n",
"//sxy=sum(x.*y)\n",
"//n=length(x)\n",
"//A=[sx,n;sx2,sx]\n",
"//B=[sy;sxy]\n",
"//p=A\B\n",
"//m=p(1,1)\n",
"//b=p(2,1)\n",
"disp('from graph')\n",
"m=2.265*10^4\n",
"Ea=m*8.3145\n",
"b=27.71\n",
"A=%e^(b)\n",
"//results\n",
"printf('Activation energy = %d kJ/mol',Ea/1000)\n",
"printf('\n Arrhenius factor = %.2e L/ mol s',A)"
   ]
   }
],
"metadata": {
		  "kernelspec": {
		   "display_name": "Scilab",
		   "language": "scilab",
		   "name": "scilab"
		  },
		  "language_info": {
		   "file_extension": ".sce",
		   "help_links": [
			{
			 "text": "MetaKernel Magics",
			 "url": "https://github.com/calysto/metakernel/blob/master/metakernel/magics/README.md"
			}
		   ],
		   "mimetype": "text/x-octave",
		   "name": "scilab",
		   "version": "0.7.1"
		  }
		 },
		 "nbformat": 4,
		 "nbformat_minor": 0
}
