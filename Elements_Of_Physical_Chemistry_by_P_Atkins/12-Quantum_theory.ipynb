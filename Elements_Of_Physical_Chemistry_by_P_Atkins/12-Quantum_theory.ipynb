{
"cells": [
 {
		   "cell_type": "markdown",
	   "metadata": {},
	   "source": [
       "# Chapter 12: Quantum theory"
	   ]
	},
{
		   "cell_type": "markdown",
		   "metadata": {},
		   "source": [
			"## Example 12.1_e: example_1.sce"
		   ]
		  },
  {
"cell_type": "code",
	   "execution_count": null,
	   "metadata": {
	    "collapsed": true
	   },
	   "outputs": [],
"source": [
"clc\n",
"//Initialization of variables\n",
"P=100 //W\n",
"t=10 //s\n",
"l=560 //nm\n",
"//calculations\n",
"TE=P*t\n",
"E1=6.626*10^-34 *2.998*10^8 /(l*10^-9)\n",
"N=TE/E1\n",
"//results\n",
"printf('No. of photons required = %.2e ',N)"
   ]
   }
,
{
		   "cell_type": "markdown",
		   "metadata": {},
		   "source": [
			"## Example 12.1_i: illustration_1.sce"
		   ]
		  },
  {
"cell_type": "code",
	   "execution_count": null,
	   "metadata": {
	    "collapsed": true
	   },
	   "outputs": [],
"source": [
"clc\n",
"//Initialization of variables\n",
"lmax=4.9*10^-7 //m\n",
"//calculations\n",
"T=2.9*10^-3 /lmax\n",
"//results\n",
"printf('Surface temperature must be close to %d K',T)"
   ]
   }
,
{
		   "cell_type": "markdown",
		   "metadata": {},
		   "source": [
			"## Example 12.2_e: example_2.sce"
		   ]
		  },
  {
"cell_type": "code",
	   "execution_count": null,
	   "metadata": {
	    "collapsed": true
	   },
	   "outputs": [],
"source": [
"clc\n",
"//Initialization of variables\n",
"V=1000 //V\n",
"//calculations\n",
"l=6.626*10^-34 /sqrt(2*9.11*10^-31 *1.602*10^-19 *V)\n",
"//results\n",
"printf('Wavelength of electrons = %.2e m',l)"
   ]
   }
,
{
		   "cell_type": "markdown",
		   "metadata": {},
		   "source": [
			"## Example 12.2_i: illustration_2.sce"
		   ]
		  },
  {
"cell_type": "code",
	   "execution_count": null,
	   "metadata": {
	    "collapsed": true
	   },
	   "outputs": [],
"source": [
"clc\n",
"//Initialization of variables\n",
"k=516 //N/m\n",
"m=1.67*10^-27 //kg\n",
"//calculations\n",
"v=sqrt(k/m) /(2*%pi)\n",
"E=6.624*10^-34 *v\n",
"//results\n",
"printf('Separation between adjacent levels frequency, %.2e Hz',v)\n",
"printf('\n Energy = %.2e',E)"
   ]
   }
,
{
		   "cell_type": "markdown",
		   "metadata": {},
		   "source": [
			"## Example 12.3_e: example_3.sce"
		   ]
		  },
  {
"cell_type": "code",
	   "execution_count": null,
	   "metadata": {
	    "collapsed": true
	   },
	   "outputs": [],
"source": [
"clc\n",
"//Initialization of variables\n",
"r1=0 //multiply by a0\n",
"r2=1 //multiply by a0\n",
"//calculations\n",
"ratio=%e^r1 /%e^(-2*r2)\n",
"//results\n",
"printf('It is more propable that electron would be found %.2f times more at r1',ratio)"
   ]
   }
,
{
		   "cell_type": "markdown",
		   "metadata": {},
		   "source": [
			"## Example 12.4_e: example_4.sce"
		   ]
		  },
  {
"cell_type": "code",
	   "execution_count": null,
	   "metadata": {
	    "collapsed": true
	   },
	   "outputs": [],
"source": [
"clc\n",
"//Initialization of variables\n",
"m=1 //g\n",
"v=10^-6 //m/s\n",
"//calculations\n",
"dx=1.054*10^-34 /(2*m*10^-3 *v)\n",
"//results\n",
"printf('Uncertainity in position = %.1e m',dx)"
   ]
   }
],
"metadata": {
		  "kernelspec": {
		   "display_name": "Scilab",
		   "language": "scilab",
		   "name": "scilab"
		  },
		  "language_info": {
		   "file_extension": ".sce",
		   "help_links": [
			{
			 "text": "MetaKernel Magics",
			 "url": "https://github.com/calysto/metakernel/blob/master/metakernel/magics/README.md"
			}
		   ],
		   "mimetype": "text/x-octave",
		   "name": "scilab",
		   "version": "0.7.1"
		  }
		 },
		 "nbformat": 4,
		 "nbformat_minor": 0
}
