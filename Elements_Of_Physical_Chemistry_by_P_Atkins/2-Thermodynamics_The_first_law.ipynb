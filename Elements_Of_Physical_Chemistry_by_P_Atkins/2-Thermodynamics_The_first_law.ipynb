{
"cells": [
 {
		   "cell_type": "markdown",
	   "metadata": {},
	   "source": [
       "# Chapter 2: Thermodynamics The first law"
	   ]
	},
{
		   "cell_type": "markdown",
		   "metadata": {},
		   "source": [
			"## Example 2.1_e: example_1.sce"
		   ]
		  },
  {
"cell_type": "code",
	   "execution_count": null,
	   "metadata": {
	    "collapsed": true
	   },
	   "outputs": [],
"source": [
"clc\n",
"//Initialization of variables\n",
"A=1.23 //A\n",
"V=12 //V\n",
"t=123 //s\n",
"Temp=4.47 //C\n",
"rise=3.22 //C\n",
"//Calculations\n",
"q=A*V*t\n",
"C=q/Temp\n",
"Output= C*rise\n",
"//Results\n",
"printf('heat supplied during calibration = %.1f J',q)\n",
"printf('\n Heat capacity of the calorimeter = %.1f J/C',C)\n",
"printf('\n Heat output = %.2f kJ',Output/1000.)"
   ]
   }
,
{
		   "cell_type": "markdown",
		   "metadata": {},
		   "source": [
			"## Example 2.1_i: illustration_1.sce"
		   ]
		  },
  {
"cell_type": "code",
	   "execution_count": null,
	   "metadata": {
	    "collapsed": true
	   },
	   "outputs": [],
"source": [
"clc\n",
"//Initialization of variables\n",
"Cpm=75 //J/k mol\n",
"n=5.55 //mol\n",
"q=1 //kJ\n",
"//Calculations\n",
"deltaT=q*1000/(n*Cpm)\n",
"//results\n",
"printf('Change in temperature = %.1f K',deltaT)"
   ]
   }
,
{
		   "cell_type": "markdown",
		   "metadata": {},
		   "source": [
			"## Example 2.2_e: example_2.sce"
		   ]
		  },
  {
"cell_type": "code",
	   "execution_count": null,
	   "metadata": {
	    "collapsed": true
	   },
	   "outputs": [],
"source": [
"clc\n",
"//Initialization of variables\n",
"work=-622 //kJ\n",
"heat=-82 //kJ\n",
"//Calculations\n",
"U=work+heat\n",
"//results\n",
"printf('The persons internal energy falls by %d kJ',U)"
   ]
   }
,
{
		   "cell_type": "markdown",
		   "metadata": {},
		   "source": [
			"## Example 2.4_i: illustration_4.sce"
		   ]
		  },
  {
"cell_type": "code",
	   "execution_count": null,
	   "metadata": {
	    "collapsed": true
	   },
	   "outputs": [],
"source": [
"clc\n",
"//Initialization of variables\n",
"n=5.55 //mol\n",
"T1=20 //C\n",
"T2=80 //K\n",
"Cpm=75.29 //J/K mol\n",
"//Calculations\n",
"H=n*Cpm*(T2-T1)\n",
"//results\n",
"printf('Enthalpy of the sample changes by %d kJ',H/1000.)"
   ]
   }
],
"metadata": {
		  "kernelspec": {
		   "display_name": "Scilab",
		   "language": "scilab",
		   "name": "scilab"
		  },
		  "language_info": {
		   "file_extension": ".sce",
		   "help_links": [
			{
			 "text": "MetaKernel Magics",
			 "url": "https://github.com/calysto/metakernel/blob/master/metakernel/magics/README.md"
			}
		   ],
		   "mimetype": "text/x-octave",
		   "name": "scilab",
		   "version": "0.7.1"
		  }
		 },
		 "nbformat": 4,
		 "nbformat_minor": 0
}
