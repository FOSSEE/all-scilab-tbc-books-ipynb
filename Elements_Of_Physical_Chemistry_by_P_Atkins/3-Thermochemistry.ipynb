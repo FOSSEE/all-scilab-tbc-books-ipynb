{
"cells": [
 {
		   "cell_type": "markdown",
	   "metadata": {},
	   "source": [
       "# Chapter 3: Thermochemistry"
	   ]
	},
{
		   "cell_type": "markdown",
		   "metadata": {},
		   "source": [
			"## Example 3.1_e: example_1.sce"
		   ]
		  },
  {
"cell_type": "code",
	   "execution_count": null,
	   "metadata": {
	    "collapsed": true
	   },
	   "outputs": [],
"source": [
"clc\n",
"//Initialization of variables\n",
"I=0.682 //A\n",
"V=12 //V\n",
"t=500 //s\n",
"m=4.33 //g\n",
"MW=46.07 //g/mol\n",
"//Calculations\n",
"q=I*V*t\n",
"n=m/MW\n",
"H=q/n\n",
"//Results\n",
"printf('Molar enthalpy change = %.1f kJ/mol',H/1000.)"
   ]
   }
,
{
		   "cell_type": "markdown",
		   "metadata": {},
		   "source": [
			"## Example 3.1_i: illustration_1.sce"
		   ]
		  },
  {
"cell_type": "code",
	   "execution_count": null,
	   "metadata": {
	    "collapsed": true
	   },
	   "outputs": [],
"source": [
"clc\n",
"//Initialization of variables\n",
"dU=-969.6 //kJ/mol\n",
"nN2=1/2\n",
"nCO2=2\n",
"nO2=9/4\n",
"T=298.15 //K\n",
"//Calculations\n",
"n=nCO2+nN2-nO2\n",
"H=dU+n*8.3145*T/1000.\n",
"//results\n",
"printf('Enthalpy change =%.1f kJ/mol',H)"
   ]
   }
,
{
		   "cell_type": "markdown",
		   "metadata": {},
		   "source": [
			"## Example 3.2_e: example_2.sce"
		   ]
		  },
  {
"cell_type": "code",
	   "execution_count": null,
	   "metadata": {
	    "collapsed": true
	   },
	   "outputs": [],
"source": [
"clc\n",
"//Initialization of variables\n",
"m=1 //g\n",
"MW=24.31 //g/mol\n",
"H=2337 //kJ/mol\n",
"//Calculations\n",
"n=m/MW\n",
"q=n*H\n",
"//results\n",
"printf('Heat supplied = %.1f kJ',q)"
   ]
   }
,
{
		   "cell_type": "markdown",
		   "metadata": {},
		   "source": [
			"## Example 3.3_e: example_3.sce"
		   ]
		  },
  {
"cell_type": "code",
	   "execution_count": null,
	   "metadata": {
	    "collapsed": true
	   },
	   "outputs": [],
"source": [
"clc\n",
"//Initialization of variables\n",
"HC=716.68 //kJ\n",
"HH=871.88 //kJ\n",
"HO=249.17 //kJ\n",
"Hcond=-38 //kJ\n",
"HCH=-412\n",
"HCO=-360\n",
"HOH=-463\n",
"//Calculations\n",
"H1=HC+HH+HO\n",
"H2=3*HCH+HCO+HOH\n",
"H3=Hcond\n",
"H=H1+H2+H3\n",
"//results\n",
"printf('Sum of enthalpy changes = %d kJ',H)"
   ]
   }
,
{
		   "cell_type": "markdown",
		   "metadata": {},
		   "source": [
			"## Example 3.4_e: example_4.sce"
		   ]
		  },
  {
"cell_type": "code",
	   "execution_count": null,
	   "metadata": {
	    "collapsed": true
	   },
	   "outputs": [],
"source": [
"clc\n",
"//Initialization of variables\n",
"Hf=-124 //kJ\n",
"Hoxi=-2220 //kJ\n",
"Hwater=286 //kJ\n",
"//Calculations\n",
"H=Hf+Hoxi+Hwater\n",
"//results\n",
"printf('Standard enthalpy of combustion of propene = %d kJ/mol',H)"
   ]
   }
,
{
		   "cell_type": "markdown",
		   "metadata": {},
		   "source": [
			"## Example 3.5_e: Example_5.sce"
		   ]
		  },
  {
"cell_type": "code",
	   "execution_count": null,
	   "metadata": {
	    "collapsed": true
	   },
	   "outputs": [],
"source": [
"clc\n",
"//Initialization of variables\n",
"nCO2=6 //mol\n",
"nH2O=3 //mol\n",
"nO2=15/2 //mol\n",
"nC6H6=1 //mol\n",
"HC6H6=49 //kJ/mol\n",
"HH2O=-285.83\n",
"HO2=0\n",
"HCO2=-393.51 \n",
"//Calculations\n",
"H=nCO2*HCO2+nH2O*HH2O-nC6H6*HC6H6-nO2*HO2\n",
"//results\n",
"printf('Standard enthalpy of combustion of benzene is %d kJ/mol',H-1)"
   ]
   }
,
{
		   "cell_type": "markdown",
		   "metadata": {},
		   "source": [
			"## Example 3.6_e: example_6.sce"
		   ]
		  },
  {
"cell_type": "code",
	   "execution_count": null,
	   "metadata": {
	    "collapsed": true
	   },
	   "outputs": [],
"source": [
"clc\n",
"//Initialization of variables\n",
"HH2O=-241.82 //kJ/mol\n",
"T1=25 //C\n",
"T2=100 //C\n",
"CpH2O=33.58 //J/K mol\n",
"CpH2=28.84 //J/K mol\n",
"CpO2=29.37  //J/K mol\n",
"//calculations\n",
"dCp=CpH2O-CpH2-0.5*CpO2\n",
"dH=HH2O+dCp*(T2-T1)/1000.\n",
"//results\n",
"printf('Enthalpy of fromation of water at 100 C is %.2f kJ/mol',dH)"
   ]
   }
],
"metadata": {
		  "kernelspec": {
		   "display_name": "Scilab",
		   "language": "scilab",
		   "name": "scilab"
		  },
		  "language_info": {
		   "file_extension": ".sce",
		   "help_links": [
			{
			 "text": "MetaKernel Magics",
			 "url": "https://github.com/calysto/metakernel/blob/master/metakernel/magics/README.md"
			}
		   ],
		   "mimetype": "text/x-octave",
		   "name": "scilab",
		   "version": "0.7.1"
		  }
		 },
		 "nbformat": 4,
		 "nbformat_minor": 0
}
