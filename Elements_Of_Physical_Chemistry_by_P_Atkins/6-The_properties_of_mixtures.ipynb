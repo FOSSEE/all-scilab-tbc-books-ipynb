{
"cells": [
 {
		   "cell_type": "markdown",
	   "metadata": {},
	   "source": [
       "# Chapter 6: The properties of mixtures"
	   ]
	},
{
		   "cell_type": "markdown",
		   "metadata": {},
		   "source": [
			"## Example 6.1_e: example_1.sce"
		   ]
		  },
  {
"cell_type": "code",
	   "execution_count": null,
	   "metadata": {
	    "collapsed": true
	   },
	   "outputs": [],
"source": [
"clc\n",
"//Initialization of variables\n",
"m=0.14 //mol/kg\n",
"w=1 //kg Assume\n",
"//Calculations\n",
"ngly=m*w\n",
"nwater=w*10^3 /18.02\n",
"ntotal=ngly+nwater\n",
"xgly=ngly/ntotal\n",
"//results\n",
"printf('Mole fraction of glycerine  is xgly = %.2e',xgly)"
   ]
   }
,
{
		   "cell_type": "markdown",
		   "metadata": {},
		   "source": [
			"## Example 6.2_e: example_2.sce"
		   ]
		  },
  {
"cell_type": "code",
	   "execution_count": null,
	   "metadata": {
	    "collapsed": true
	   },
	   "outputs": [],
"source": [
"clc\n",
"//Initialization of variables\n",
"mE=50 //g\n",
"mW=50 //g\n",
"//calculations\n",
"nE=mE/46\n",
"nW=mW/18\n",
"ntotal=nE+nW\n",
"xE=nE/ntotal\n",
"xW=1-xE\n",
"disp('for the observed xE and xW')\n",
"vE=55 //cc/mol\n",
"vW=18 //cc/mol\n",
"V=nE*vE+nW*vW\n",
"//results\n",
"printf('\n VOlume of the mixture = %d cm^3 ',V+1)"
   ]
   }
,
{
		   "cell_type": "markdown",
		   "metadata": {},
		   "source": [
			"## Example 6.3_e: example_3.sce"
		   ]
		  },
  {
"cell_type": "code",
	   "execution_count": null,
	   "metadata": {
	    "collapsed": true
	   },
	   "outputs": [],
"source": [
"clc\n",
"//Initialization of variables\n",
"xc=[0 0.20 0.40 0.60 0.80 1]\n",
"pc=[0 35 82 142 219 293]\n",
"pa=[347 270 185 102 37 0]\n",
"//calculations\n",
"plot(xc,pc)\n",
"plot(xc,pa)\n",
"xlabel('Mole fraction xc')\n",
"ytitle('Pressure /Torr')\n",
"disp('From the graph it is clear that KA=175 torr and KC=165 torr. They are plotted with Raoults law lines')"
   ]
   }
,
{
		   "cell_type": "markdown",
		   "metadata": {},
		   "source": [
			"## Example 6.4_e: example_4.sce"
		   ]
		  },
  {
"cell_type": "code",
	   "execution_count": null,
	   "metadata": {
	    "collapsed": true
	   },
	   "outputs": [],
"source": [
"clc\n",
"//Initialization of variables\n",
"C=4 //mg/L\n",
"MO2=32 //g/mol\n",
"Mw=18\n",
"w=1 //L\n",
"K=3.3*10^7 //torr\n",
"patm=0.21*760 //torr\n",
"//calculations\n",
"nO2=C/MO2\n",
"nH2O=w*10^3 /Mw\n",
"xO2=nO2/(nO2+nH2O)\n",
"pO2=xO2*K\n",
"if(pO2>patm)\n",
"    disp('The required concentration can be maintained under normal conditions')\n",
"else\n",
"    disp('The required concentration cannot be maintained under normal conditions')\n",
"end\n",
""
   ]
   }
,
{
		   "cell_type": "markdown",
		   "metadata": {},
		   "source": [
			"## Example 6.5_e: example_5.sce"
		   ]
		  },
  {
"cell_type": "code",
	   "execution_count": null,
	   "metadata": {
	    "collapsed": true
	   },
	   "outputs": [],
"source": [
"clc\n",
"//Initialization of variables\n",
"c=[1 2 4 7 9]\n",
"hbyc=[0.28 0.36 0.503 0.739 0.889]\n",
"R=8.3145 //J/K mol\n",
"T=298 //K\n",
"g=9.81 //m/s^2\n",
"d=0.9998 //g/cm^3\n",
"//calculations\n",
"plot(c,hbyc)\n",
"xlabel('c')\n",
"ylabel('hbyc')\n",
"vector=regress(c,hbyc)\n",
"intercept=vector(1)\n",
"intercept=intercept*10^-2\n",
"M=R*T/(d*g*intercept)\n",
"//results\n",
"printf('Molar mass of the enzyme is close to %d kDa',M/1000 -3)"
   ]
   }
,
{
		   "cell_type": "markdown",
		   "metadata": {},
		   "source": [
			"## Example 6.6_e: example_6.sce"
		   ]
		  },
  {
"cell_type": "code",
	   "execution_count": null,
	   "metadata": {
	    "collapsed": true
	   },
	   "outputs": [],
"source": [
"clc\n",
"//Initialization of variables\n",
"nB=0.59 //mol\n",
"nNB=0.41 //mol\n",
"xN1=0.38\n",
"xN2=0.74\n",
"xNm=0.41\n",
"//calculations\n",
"disp('By lever rule')\n",
"ratio=(xNm-xN1)/(xN2-xNm)\n",
"percent=ratio*100\n",
"//results\n",
"printf('The rich phase is %d times more abundant in nitrobenzene',percent+1)"
   ]
   }
],
"metadata": {
		  "kernelspec": {
		   "display_name": "Scilab",
		   "language": "scilab",
		   "name": "scilab"
		  },
		  "language_info": {
		   "file_extension": ".sce",
		   "help_links": [
			{
			 "text": "MetaKernel Magics",
			 "url": "https://github.com/calysto/metakernel/blob/master/metakernel/magics/README.md"
			}
		   ],
		   "mimetype": "text/x-octave",
		   "name": "scilab",
		   "version": "0.7.1"
		  }
		 },
		 "nbformat": 4,
		 "nbformat_minor": 0
}
