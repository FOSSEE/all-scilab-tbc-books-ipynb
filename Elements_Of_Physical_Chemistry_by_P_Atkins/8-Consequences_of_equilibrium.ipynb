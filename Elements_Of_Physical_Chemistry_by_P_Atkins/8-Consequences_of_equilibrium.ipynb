{
"cells": [
 {
		   "cell_type": "markdown",
	   "metadata": {},
	   "source": [
       "# Chapter 8: Consequences of equilibrium"
	   ]
	},
{
		   "cell_type": "markdown",
		   "metadata": {},
		   "source": [
			"## Example 8.1_e: example_1.sce"
		   ]
		  },
  {
"cell_type": "code",
	   "execution_count": null,
	   "metadata": {
	    "collapsed": true
	   },
	   "outputs": [],
"source": [
"clc\n",
"//Initialization of variables\n",
"C=0.15 //M\n",
"Ka=1.8*10^-5\n",
"//calculations\n",
"x=sqrt(C*Ka)\n",
"f=x/C\n",
"percent=f*100\n",
"//results\n",
"printf('percent of acetic acid molecules that have donated a proton = %.1f percent',percent)"
   ]
   }
,
{
		   "cell_type": "markdown",
		   "metadata": {},
		   "source": [
			"## Example 8.1_i: illustration_1.sce"
		   ]
		  },
  {
"cell_type": "code",
	   "execution_count": null,
	   "metadata": {
	    "collapsed": true
	   },
	   "outputs": [],
"source": [
"clc\n",
"//Initialization of variables\n",
"ph1=6.37\n",
"ph2=10.25\n",
"ph3=7.21\n",
"ph4=12.67\n",
"//calculations\n",
"pH1=0.5*(ph1+ph2)\n",
"pH2=0.5*(ph3+ph4)\n",
"//results\n",
"printf('Equilibrium pH in case 1 = ',pH1)\n",
"printf('\n Equilibrium pH in case 2 = ',pH2)"
   ]
   }
,
{
		   "cell_type": "markdown",
		   "metadata": {},
		   "source": [
			"## Example 8.2_e: example_2.sce"
		   ]
		  },
  {
"cell_type": "code",
	   "execution_count": null,
	   "metadata": {
	    "collapsed": true
	   },
	   "outputs": [],
"source": [
"clc\n",
"//Initialization of variables\n",
"pKa=4.88\n",
"C=0.01 //M\n",
"pKw=14\n",
"//calculations\n",
"pKb=pKw-pKa\n",
"Kb=10^(-pKb)\n",
"x=(sqrt(C*Kb))\n",
"pOH=-log(x)\n",
"pH=14-pOH\n",
"f=x/C\n",
"//results\n",
"printf('fraction protonated = %.1e',f)\n",
"printf('\n 1 molecule in about %d',1/f)"
   ]
   }
,
{
		   "cell_type": "markdown",
		   "metadata": {},
		   "source": [
			"## Example 8.2_i: illustration_2.sce"
		   ]
		  },
  {
"cell_type": "code",
	   "execution_count": null,
	   "metadata": {
	    "collapsed": true
	   },
	   "outputs": [],
"source": [
"clc\n",
"//Initialization of variables\n",
"n=2.5*10^-3 //mol\n",
"C=0.2 //mol/L\n",
"vbase=37.5*10^-3 //L\n",
"//calculations\n",
"V=n/C\n",
"base=n/vbase\n",
"H=10^-14 /base\n",
"disp('It follows from example 8.2 that')\n",
"pH=10.2\n",
"//results\n",
"printf('\n pH of the solution = %.1f',pH)"
   ]
   }
,
{
		   "cell_type": "markdown",
		   "metadata": {},
		   "source": [
			"## Example 8.3_e: example_3.sce"
		   ]
		  },
  {
"cell_type": "code",
	   "execution_count": null,
	   "metadata": {
	    "collapsed": true
	   },
	   "outputs": [],
"source": [
"clc\n",
"//Initialization of variables\n",
"pKa2=10.25\n",
"//calculations\n",
"C=10^(-pKa2)\n",
"//results\n",
"printf('Concentration of Carbonate ions = %.1e mol/l',C)"
   ]
   }
,
{
		   "cell_type": "markdown",
		   "metadata": {},
		   "source": [
			"## Example 8.5_e: example_5.sce"
		   ]
		  },
  {
"cell_type": "code",
	   "execution_count": null,
	   "metadata": {
	    "collapsed": true
	   },
	   "outputs": [],
"source": [
"clc\n",
"//Initialization of variables\n",
"vOH=5*10^-3 //L\n",
"vHClO=25*10^-3 //L\n",
"C=0.2 //mol/L\n",
"//calculations\n",
"nOH=vOH*C\n",
"nHClO=vHClO*C/2\n",
"nrem=nHClO-nOH\n",
"pH=7.53-log10(nrem/nOH)\n",
"//results\n",
"printf('Final pH= %.1f',pH)"
   ]
   }
],
"metadata": {
		  "kernelspec": {
		   "display_name": "Scilab",
		   "language": "scilab",
		   "name": "scilab"
		  },
		  "language_info": {
		   "file_extension": ".sce",
		   "help_links": [
			{
			 "text": "MetaKernel Magics",
			 "url": "https://github.com/calysto/metakernel/blob/master/metakernel/magics/README.md"
			}
		   ],
		   "mimetype": "text/x-octave",
		   "name": "scilab",
		   "version": "0.7.1"
		  }
		 },
		 "nbformat": 4,
		 "nbformat_minor": 0
}
