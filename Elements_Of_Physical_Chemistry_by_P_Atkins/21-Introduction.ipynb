{
"cells": [
 {
		   "cell_type": "markdown",
	   "metadata": {},
	   "source": [
       "# Chapter 21: Introduction"
	   ]
	},
{
		   "cell_type": "markdown",
		   "metadata": {},
		   "source": [
			"## Example 0.1_e: example_1.sce"
		   ]
		  },
  {
"cell_type": "code",
	   "execution_count": null,
	   "metadata": {
	    "collapsed": true
	   },
	   "outputs": [],
"source": [
"clc\n",
"//Initialization of variables\n",
"P=1.115 //bar\n",
"//Calculations\n",
"Conv_fac=1/1.01325\n",
"FinalP=Conv_fac*P //Final pressure\n",
"//Results\n",
"printf ('Final pressure in atmospheres (atm)= %.3f',FinalP)"
   ]
   }
,
{
		   "cell_type": "markdown",
		   "metadata": {},
		   "source": [
			"## Example 0.1_i: illustration_1.sce"
		   ]
		  },
  {
"cell_type": "code",
	   "execution_count": null,
	   "metadata": {
	    "collapsed": true
	   },
	   "outputs": [],
"source": [
"clc\n",
"//Initialization of variables\n",
"h=0.760 //m\n",
"d=1.36*10^4 //kg/m^3\n",
"//Calculations\n",
"P=9.81*d*h\n",
"//Results\n",
"printf ('Pressure at the foot of the column (Pa)= %.3e',P)"
   ]
   }
,
{
		   "cell_type": "markdown",
		   "metadata": {},
		   "source": [
			"## Example 20.2_i: illustration_2.sce"
		   ]
		  },
  {
"cell_type": "code",
	   "execution_count": null,
	   "metadata": {
	    "collapsed": true
	   },
	   "outputs": [],
"source": [
"clc\n",
"//Initialization of variables\n",
"h=0.1 //m\n",
"d=10^3//Kg/m^3\n",
"Patm=100021 //Pa\n",
"//Calculations\n",
"P=9.81*h*d\n",
"//Results\n",
"printf('Hydrostatic pressure(Pa) = %.3f',P )\n",
"printf('\n Pressure in apparatus(kPa) = %.3f',(Patm-P)/1000. )"
   ]
   }
,
{
		   "cell_type": "markdown",
		   "metadata": {},
		   "source": [
			"## Example 21.3_i: illustration_3.sce"
		   ]
		  },
  {
"cell_type": "code",
	   "execution_count": null,
	   "metadata": {
	    "collapsed": true
	   },
	   "outputs": [],
"source": [
"clc\n",
"//Initialization of variables\n",
"N=8.8*10^22\n",
"NA=6.023*10^23 //mol^-1\n",
"//Calculations\n",
"n=N/NA\n",
"//Results\n",
"printf('No. of moles of Cu ( mol Cu)= %.2f',n)"
   ]
   }
,
{
		   "cell_type": "markdown",
		   "metadata": {},
		   "source": [
			"## Example 21.4_i: illustration_4.sce"
		   ]
		  },
  {
"cell_type": "code",
	   "execution_count": null,
	   "metadata": {
	    "collapsed": true
	   },
	   "outputs": [],
"source": [
"clc\n",
"//Initialization of variables\n",
"m=21.5 //g\n",
"Mc=12.01 //g/mol\n",
"//Calculations\n",
"nc=m/Mc\n",
"//Results\n",
"printf('Amount of C atoms= %.2f mol C',nc)"
   ]
   }
],
"metadata": {
		  "kernelspec": {
		   "display_name": "Scilab",
		   "language": "scilab",
		   "name": "scilab"
		  },
		  "language_info": {
		   "file_extension": ".sce",
		   "help_links": [
			{
			 "text": "MetaKernel Magics",
			 "url": "https://github.com/calysto/metakernel/blob/master/metakernel/magics/README.md"
			}
		   ],
		   "mimetype": "text/x-octave",
		   "name": "scilab",
		   "version": "0.7.1"
		  }
		 },
		 "nbformat": 4,
		 "nbformat_minor": 0
}
