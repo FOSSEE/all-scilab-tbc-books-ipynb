{
"cells": [
 {
		   "cell_type": "markdown",
	   "metadata": {},
	   "source": [
       "# Chapter 17: Molecular rotations and vibrations"
	   ]
	},
{
		   "cell_type": "markdown",
		   "metadata": {},
		   "source": [
			"## Example 17.1_e: example_1.sce"
		   ]
		  },
  {
"cell_type": "code",
	   "execution_count": null,
	   "metadata": {
	    "collapsed": true
	   },
	   "outputs": [],
"source": [
"clc\n",
"//Initialization of variables\n",
"mH=1.673*10^-27 //kg\n",
"mCl=5.807*10^-26 //kg\n",
"R=127.4 *10^-12//m\n",
"//calculations\n",
"mu=mH*mCl/(mH+mCl)\n",
"I=mu*R^2\n",
"B=1.05457*10^-34 /(4*%pi*I)\n",
"f=2*B\n",
"//results\n",
"printf('Frequency of transistion = %.1f GHz',f/10^9)"
   ]
   }
,
{
		   "cell_type": "markdown",
		   "metadata": {},
		   "source": [
			"## Example 17.1_i: illustration_1.sce"
		   ]
		  },
  {
"cell_type": "code",
	   "execution_count": null,
	   "metadata": {
	    "collapsed": true
	   },
	   "outputs": [],
"source": [
"clc\n",
"//Initialization of variables\n",
"v=89.6*10^12 //Hz\n",
"//calculations\n",
"l=3*10^8 /v\n",
"wn=10^-2 /l\n",
"//results\n",
"printf('Wavenumber = %d cm^-1',wn)\n",
"printf('\n Wavelength = %.2f mu m',l*10^6)"
   ]
   }
],
"metadata": {
		  "kernelspec": {
		   "display_name": "Scilab",
		   "language": "scilab",
		   "name": "scilab"
		  },
		  "language_info": {
		   "file_extension": ".sce",
		   "help_links": [
			{
			 "text": "MetaKernel Magics",
			 "url": "https://github.com/calysto/metakernel/blob/master/metakernel/magics/README.md"
			}
		   ],
		   "mimetype": "text/x-octave",
		   "name": "scilab",
		   "version": "0.7.1"
		  }
		 },
		 "nbformat": 4,
		 "nbformat_minor": 0
}
