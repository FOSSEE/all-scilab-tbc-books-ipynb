{
"cells": [
 {
		   "cell_type": "markdown",
	   "metadata": {},
	   "source": [
       "# Chapter 15: Metallic and Ionic solids"
	   ]
	},
{
		   "cell_type": "markdown",
		   "metadata": {},
		   "source": [
			"## Example 15.1_e: example_1.sce"
		   ]
		  },
  {
"cell_type": "code",
	   "execution_count": null,
	   "metadata": {
	    "collapsed": true
	   },
	   "outputs": [],
"source": [
"clc\n",
"//Initialization of variables\n",
"Hs=89 //kJ/mol\n",
"HI=418 //kJ/mol\n",
"HD=244 //kJ/mol\n",
"HE=-349 //kJ/mol\n",
"Hf=-437 //kJ/mol\n",
"//calculations\n",
"HL=Hs+HD/2 +HI+HE-Hf\n",
"//results\n",
"printf('Lattice energy = %d kJ/mol',HL)"
   ]
   }
,
{
		   "cell_type": "markdown",
		   "metadata": {},
		   "source": [
			"## Example 15.2_e: example_2.sce"
		   ]
		  },
  {
"cell_type": "code",
	   "execution_count": null,
	   "metadata": {
	    "collapsed": true
	   },
	   "outputs": [],
"source": [
"clc\n",
"//Initialization of variables\n",
"a=0.82 //nm\n",
"b=0.94 //nm\n",
"c=0.75 //nm\n",
"h=1\n",
"k=2\n",
"l=3\n",
"//calculations\n",
"invd=sqrt(h*h/(a*a) + k*k/(b*b) + l*l/(c*c))\n",
"d=1/invd\n",
"invd2=sqrt(h*h*4/(a*a) + k*k*4/(b*b) + l*l*4/(c*c))\n",
"d2=1/invd2\n",
"//results\n",
"printf('In case 1, separation = %.2f nm',d)\n",
"printf('\n In case 2, separation = %.2f nm',d2)"
   ]
   }
,
{
		   "cell_type": "markdown",
		   "metadata": {},
		   "source": [
			"## Example 15.3_e: example_3.sce"
		   ]
		  },
  {
"cell_type": "code",
	   "execution_count": null,
	   "metadata": {
	    "collapsed": true
	   },
	   "outputs": [],
"source": [
"clc\n",
"//Initialization of variables\n",
"l=154 //pm\n",
"theta=11.2 //degrees\n",
"//calculations\n",
"d=l/(2*sind(theta))\n",
"a=d*sqrt(3)\n",
"//results\n",
"printf('Length of the side of the unit cell = %d pm',a+1)"
   ]
   }
],
"metadata": {
		  "kernelspec": {
		   "display_name": "Scilab",
		   "language": "scilab",
		   "name": "scilab"
		  },
		  "language_info": {
		   "file_extension": ".sce",
		   "help_links": [
			{
			 "text": "MetaKernel Magics",
			 "url": "https://github.com/calysto/metakernel/blob/master/metakernel/magics/README.md"
			}
		   ],
		   "mimetype": "text/x-octave",
		   "name": "scilab",
		   "version": "0.7.1"
		  }
		 },
		 "nbformat": 4,
		 "nbformat_minor": 0
}
