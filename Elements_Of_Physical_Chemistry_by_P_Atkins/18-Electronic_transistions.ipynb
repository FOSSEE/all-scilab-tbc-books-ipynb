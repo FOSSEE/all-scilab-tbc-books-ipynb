{
"cells": [
 {
		   "cell_type": "markdown",
	   "metadata": {},
	   "source": [
       "# Chapter 18: Electronic transistions"
	   ]
	},
{
		   "cell_type": "markdown",
		   "metadata": {},
		   "source": [
			"## Example 18.1_e: example_1.sce"
		   ]
		  },
  {
"cell_type": "code",
	   "execution_count": null,
	   "metadata": {
	    "collapsed": true
	   },
	   "outputs": [],
"source": [
"clc\n",
"//Initialization of variables\n",
"wl=256*10^-9 //m\n",
"t=1 //mm\n",
"C=0.050 //mol/L\n",
"T=0.16\n",
"t2=2 //mm\n",
"//calculations\n",
"E=-log10(T) /(C*t)\n",
"A1=-log10(T)\n",
"A2=E*C*t2\n",
"Tr=10^(-A2)\n",
"//results\n",
"printf('Transmittance = %.3f',Tr)"
   ]
   }
,
{
		   "cell_type": "markdown",
		   "metadata": {},
		   "source": [
			"## Example 18.2_e: example_2.sce"
		   ]
		  },
  {
"cell_type": "code",
	   "execution_count": null,
	   "metadata": {
	    "collapsed": true
	   },
	   "outputs": [],
"source": [
"clc\n",
"//Initialization of variables\n",
"Q=[1 2 3 4 5]\n",
"t1=[5.2 9.4 13.7 18 22.2]\n",
"t2=[1.1 2 2.9 4 4.5]\n",
"//calculations\n",
"kqbykf=regress(Q,t1)\n",
"slope1=kqbykf(2) *10^3\n",
"kq=regress(Q,t2)\n",
"slope2=kq(2) *10^10\n",
"kq=slope2\n",
"kf=kq/slope1\n",
"thalf=log (2) /kf\n",
"//results\n",
"printf('Quenching rate constant = %.1e L ml^-1 s^-1',kq)\n",
"printf('\n Half life= %.1e s',thalf)"
   ]
   }
],
"metadata": {
		  "kernelspec": {
		   "display_name": "Scilab",
		   "language": "scilab",
		   "name": "scilab"
		  },
		  "language_info": {
		   "file_extension": ".sce",
		   "help_links": [
			{
			 "text": "MetaKernel Magics",
			 "url": "https://github.com/calysto/metakernel/blob/master/metakernel/magics/README.md"
			}
		   ],
		   "mimetype": "text/x-octave",
		   "name": "scilab",
		   "version": "0.7.1"
		  }
		 },
		 "nbformat": 4,
		 "nbformat_minor": 0
}
