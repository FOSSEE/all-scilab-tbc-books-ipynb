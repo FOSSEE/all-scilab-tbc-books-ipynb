{
"cells": [
 {
		   "cell_type": "markdown",
	   "metadata": {},
	   "source": [
       "# Chapter 1: The properties of gases"
	   ]
	},
{
		   "cell_type": "markdown",
		   "metadata": {},
		   "source": [
			"## Example 1.1_e: example_1.sce"
		   ]
		  },
  {
"cell_type": "code",
	   "execution_count": null,
	   "metadata": {
	    "collapsed": true
	   },
	   "outputs": [],
"source": [
"clc\n",
"//Initialzation of variables\n",
"m=1.25 //g\n",
"MN2=28.02 //g/mol\n",
"T=20+273.15 //K\n",
"V=0.25//L\n",
"//Calculations\n",
"P=m*8.31451*T/(MN2*V)\n",
"//Results\n",
"printf('Pressure in the gas flask =%.2f kPa',P)"
   ]
   }
,
{
		   "cell_type": "markdown",
		   "metadata": {},
		   "source": [
			"## Example 1.2_i: illustration_2.sce"
		   ]
		  },
  {
"cell_type": "code",
	   "execution_count": null,
	   "metadata": {
	    "collapsed": true
	   },
	   "outputs": [],
"source": [
"clc\n",
"//Initialzation of variables\n",
"xN2=0.780\n",
"xO2=0.210\n",
"xAr=0.009\n",
"P=100 //kPa\n",
"//Calculations\n",
"PN2=xN2*P\n",
"PO2=xO2*P\n",
"PAr=xAr*P\n",
"//Results\n",
"printf('Partial pressure of Nitrogen(kPa) = %.1f',PN2)\n",
"printf('\n Partial pressure of Oxygen(kPa) = %.1f',PO2)\n",
"printf('\n Partial pressure of Argon(kPa) = %.1f',PAr)"
   ]
   }
,
{
		   "cell_type": "markdown",
		   "metadata": {},
		   "source": [
			"## Example 1.3_i: Illustration_3.sce"
		   ]
		  },
  {
"cell_type": "code",
	   "execution_count": null,
	   "metadata": {
	    "collapsed": true
	   },
	   "outputs": [],
"source": [
"clc\n",
"//Initialzation of variables\n",
"T1=298//K\n",
"T2=273//K\n",
"//Calculations\n",
"factor=sqrt(T2/T1)\n",
"percentage=(1-factor)*100\n",
"//Results\n",
"printf('Percentage loss of speed of air molecules = %.2f',percentage)"
   ]
   }
,
{
		   "cell_type": "markdown",
		   "metadata": {},
		   "source": [
			"## Example 1.4_i: illustration_4.sce"
		   ]
		  },
  {
"cell_type": "code",
	   "execution_count": null,
	   "metadata": {
	    "collapsed": true
	   },
	   "outputs": [],
"source": [
"clc\n",
"//Initialzation of variables\n",
"MH2=2.016 //g/mol\n",
"MCO2=44.01 //g/mol\n",
"//calculations\n",
"ratio=sqrt(MCO2/MH2)\n",
"//results\n",
"printf('ratio of rates of effusion =%.3f',ratio)"
   ]
   }
,
{
		   "cell_type": "markdown",
		   "metadata": {},
		   "source": [
			"## Example 1.5_i: illustration_5.sce"
		   ]
		  },
  {
"cell_type": "code",
	   "execution_count": null,
	   "metadata": {
	    "collapsed": true
	   },
	   "outputs": [],
"source": [
"clc\n",
"//Initialzation of variables\n",
"T=25+273 //K\n",
"sigma=0.4*10^(-18) //m^2\n",
"P=10^5 //Pa\n",
"c=481.8 //m/sec\n",
"//Calculations\n",
"Lambda=8.31451*T/(2^0.5 *6.022*10^23 *sigma*P)\n",
"frequency=2^0.5 *6.022*10^23 *sigma*P*c/(8.31451*T)\n",
"//Results\n",
"printf('Mean free path = %.2e m',Lambda)\n",
"printf('\n Collision frequency = %.2e m',frequency)"
   ]
   }
],
"metadata": {
		  "kernelspec": {
		   "display_name": "Scilab",
		   "language": "scilab",
		   "name": "scilab"
		  },
		  "language_info": {
		   "file_extension": ".sce",
		   "help_links": [
			{
			 "text": "MetaKernel Magics",
			 "url": "https://github.com/calysto/metakernel/blob/master/metakernel/magics/README.md"
			}
		   ],
		   "mimetype": "text/x-octave",
		   "name": "scilab",
		   "version": "0.7.1"
		  }
		 },
		 "nbformat": 4,
		 "nbformat_minor": 0
}
