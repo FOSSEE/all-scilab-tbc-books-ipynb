{
"cells": [
 {
		   "cell_type": "markdown",
	   "metadata": {},
	   "source": [
       "# Chapter 9: Electrochemistry"
	   ]
	},
{
		   "cell_type": "markdown",
		   "metadata": {},
		   "source": [
			"## Example 9.10_e: example_10.sce"
		   ]
		  },
  {
"cell_type": "code",
	   "execution_count": null,
	   "metadata": {
	    "collapsed": true
	   },
	   "outputs": [],
"source": [
"clc\n",
"//Initialization of variables\n",
"E1=2*(-0.340)\n",
"E2=-0.522 \n",
"//calculations\n",
"FE=-E1+E2\n",
"//results\n",
"printf('Electric potential = %.3f V',FE)"
   ]
   }
,
{
		   "cell_type": "markdown",
		   "metadata": {},
		   "source": [
			"## Example 9.11_e: example_11.sce"
		   ]
		  },
  {
"cell_type": "code",
	   "execution_count": null,
	   "metadata": {
	    "collapsed": true
	   },
	   "outputs": [],
"source": [
"clc\n",
"//Initialization of variables\n",
"v=2\n",
"F=9.6485*10^4 //C/mol\n",
"E=0.2684 //V\n",
"V1=0.2699 //V\n",
"V2=0.2669 //V\n",
"T1=293 //K\n",
"T=298 //K\n",
"T2=303 //K\n",
"//calculations\n",
"Gr= -v*F*E\n",
"Sr=v*F*(V2-V1)/(T2-T1)\n",
"Hr=Gr+T*Sr\n",
"//results\n",
"printf('Gibbs enthalpy = %.2f kJ/mol',Gr/1000)\n",
"printf('\n Standard Entropy = %.1f J /K mol',Sr)\n",
"printf('\n Enthalpy = %.1f kJ/mol',Hr/1000)"
   ]
   }
,
{
		   "cell_type": "markdown",
		   "metadata": {},
		   "source": [
			"## Example 9.1_e: example_1.sce"
		   ]
		  },
  {
"cell_type": "code",
	   "execution_count": null,
	   "metadata": {
	    "collapsed": true
	   },
	   "outputs": [],
"source": [
"clc\n",
"//Initialization of variables\n",
"lw=34.96 //mS m^2 /mol\n",
"la=4.09 //mS m^2 /mol\n",
"C=0.010 //M\n",
"K=1.65 //mS m^2 /mol\n",
"//calculations\n",
"lmd=lw+la\n",
"alpha=K/lmd\n",
"Ka=C*alpha^2\n",
"pKa=-log10(Ka)\n",
"//results\n",
"printf('Acidity constant of the acid = %.2f ',pKa)"
   ]
   }
,
{
		   "cell_type": "markdown",
		   "metadata": {},
		   "source": [
			"## Example 9.1_i: illustration_1.sce"
		   ]
		  },
  {
"cell_type": "code",
	   "execution_count": null,
	   "metadata": {
	    "collapsed": true
	   },
	   "outputs": [],
"source": [
"clc\n",
"//Initialization of variables\n",
"Gr=-10^5 //kJ/mol\n",
"v=1\n",
"F=9.6485*10^4 //C/mol\n",
"//calculations\n",
"E=-Gr/(v*F)\n",
"//results\n",
"printf('potential of the cell = %d V',E)"
   ]
   }
,
{
		   "cell_type": "markdown",
		   "metadata": {},
		   "source": [
			"## Example 9.2_i: illustration_2.sce"
		   ]
		  },
  {
"cell_type": "code",
	   "execution_count": null,
	   "metadata": {
	    "collapsed": true
	   },
	   "outputs": [],
"source": [
"clc\n",
"//Initialization of variables\n",
"V=1.1 //V\n",
"F=9.6485*10^4 //C/mol\n",
"R=8.314 //J/K mol\n",
"T=298.15 //K\n",
"//calculations\n",
"lnK=2*F*V/(R*T)\n",
"k=%e^(lnK)\n",
"//results\n",
"printf('Equilibrium constant = %.1e',k)"
   ]
   }
,
{
		   "cell_type": "markdown",
		   "metadata": {},
		   "source": [
			"## Example 9.6_e: example_6.sce"
		   ]
		  },
  {
"cell_type": "code",
	   "execution_count": null,
	   "metadata": {
	    "collapsed": true
	   },
	   "outputs": [],
"source": [
"clc\n",
"//Initialization of variables\n",
"ER=1.23 //V\n",
"EL=-0.44 //V\n",
"//calculations\n",
"E=ER-EL\n",
"//results\n",
"if(E>0)\n",
"    printf('The reaction is favouring products and E is %.2f V',E)\n",
"else\n",
"    printf('The reaction is not favouring products and E is %.2f V',E)\n",
"    "
   ]
   }
,
{
		   "cell_type": "markdown",
		   "metadata": {},
		   "source": [
			"## Example 9.7_e: example_7.sce"
		   ]
		  },
  {
"cell_type": "code",
	   "execution_count": null,
	   "metadata": {
	    "collapsed": true
	   },
	   "outputs": [],
"source": [
"clc\n",
"//Initialization of variables\n",
"ER=0.52 //V\n",
"EL=0.15 //V\n",
"//calculations\n",
"E=ER-EL\n",
"lnK=E/(25.69*10^-3)\n",
"K=exp(lnK)\n",
"//results\n",
"printf('Equilbrum constant K= %.1e',K)"
   ]
   }
,
{
		   "cell_type": "markdown",
		   "metadata": {},
		   "source": [
			"## Example 9.8_e: example_8.sce"
		   ]
		  },
  {
"cell_type": "code",
	   "execution_count": null,
	   "metadata": {
	    "collapsed": true
	   },
	   "outputs": [],
"source": [
"clc\n",
"//Initialization of variables\n",
"E0=-0.11 //V\n",
"H=10^-7\n",
"//calculations\n",
"pH=-log10(H)\n",
"E=E0-29.59*pH*10^-3\n",
"//results\n",
"printf('Biological standard potential = %.2f V',E)"
   ]
   }
,
{
		   "cell_type": "markdown",
		   "metadata": {},
		   "source": [
			"## Example 9.9_e: example_9.sce"
		   ]
		  },
  {
"cell_type": "code",
	   "execution_count": null,
	   "metadata": {
	    "collapsed": true
	   },
	   "outputs": [],
"source": [
"clc\n",
"//Initialization of variables\n",
"ER=-0.21 //V\n",
"EL=-0.6 //V\n",
"//calculations\n",
"E=ER-EL\n",
"lnK=2*E/(25.69*10^-3)\n",
"K=exp(lnK)\n",
"//results\n",
"printf('Equilibrium constant for the reaction = %.1e',K)"
   ]
   }
],
"metadata": {
		  "kernelspec": {
		   "display_name": "Scilab",
		   "language": "scilab",
		   "name": "scilab"
		  },
		  "language_info": {
		   "file_extension": ".sce",
		   "help_links": [
			{
			 "text": "MetaKernel Magics",
			 "url": "https://github.com/calysto/metakernel/blob/master/metakernel/magics/README.md"
			}
		   ],
		   "mimetype": "text/x-octave",
		   "name": "scilab",
		   "version": "0.7.1"
		  }
		 },
		 "nbformat": 4,
		 "nbformat_minor": 0
}
