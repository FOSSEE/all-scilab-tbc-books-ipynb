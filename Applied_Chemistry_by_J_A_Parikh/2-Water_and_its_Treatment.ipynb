{
"cells": [
 {
		   "cell_type": "markdown",
	   "metadata": {},
	   "source": [
       "# Chapter 2: Water and its Treatment"
	   ]
	},
{
		   "cell_type": "markdown",
		   "metadata": {},
		   "source": [
			"## Example 2.18_10: hardness_calculation.sce"
		   ]
		  },
  {
"cell_type": "code",
	   "execution_count": null,
	   "metadata": {
	    "collapsed": true
	   },
	   "outputs": [],
"source": [
"//water and its treatment//\n",
"//example 2.18.10//\n",
"clc\n",
"W1=40.5;//Ca(HCO3)2 in water in mg/lit//\n",
"W2=23.75;//MgCl2 in water in mg/lit//\n",
"W3=21;//MgCO3 in water in mg/lit//\n",
"W4=6;//SiO2 in water in mg/lit//\n",
"W5=3;//CO2 in water in mg/lit//\n",
"W6=55.5;//CaCl2 in water in mg/lit//\n",
"M1=100/162;//multiplication factor of Ca(HCO3)2//\n",
"M2=100/95;//multiplication factor of MgCl2//\n",
"M3=100/84;//multiplication factor of MgCO3//\n",
"M6=100/111;//multiplication factor of CaCl2//\n",
"P1=W1*M1;//Ca(HCO3)2 in terms of CaCO3 or //\n",
"P2=W2*M2;//MgCl2 in terms of CaCO3 or //\n",
"P3=W3*M3;//MgCO3  in terms of CaCO3 or //\n",
"P6=W6*M6;//CaCl2 in terms of CaCO3 or //\n",
"printf ('We do not take SiO2 and CO2 since they do not contribute to hardness ');\n",
"C=P1+P3;\n",
"printf('\nCarbonate hardness is %.0f mg/l or ppm',C);\n",
"NC=P2+P6;\n",
"printf('\nNon Carbonate hardness is %.0f mg/l or ppm',NC);"
   ]
   }
,
{
		   "cell_type": "markdown",
		   "metadata": {},
		   "source": [
			"## Example 2.18_11: hardness_calculation.sce"
		   ]
		  },
  {
"cell_type": "code",
	   "execution_count": null,
	   "metadata": {
	    "collapsed": true
	   },
	   "outputs": [],
"source": [
"//water and its treatment//\n",
"//example 2.18.11//\n",
"clc\n",
"W1=17.5;//Ca(HCO3)2 in water in mg/lit//\n",
"W2=14.6;//Mg(HCO3)2 in water in mg/lit//\n",
"W3=9.5;//MgCl2 in water in mg/lit//\n",
"W4=12.0;//MgSO4 in water in mg/lit//\n",
"W5=8.4;//MgCO3 in water in mg/lit//\n",
"W6=5.5;//CaCl2 in water in mg/lit//\n",
"W7=35;//NaCl in water in mg/lit//\n",
"M1=100/162;//multiplication factor of Ca(HCO3)2//\n",
"M2=100/146;//multiplication factor of Mg(HCO3)2//\n",
"M3=100/95;//multiplication factor of MgCl2//\n",
"M4=100/120;//multiplication factor of MgSO4//\n",
"M5=100/84;//multiplication factor of MgCO3//\n",
"M6=100/111;//multiplication factor of CaCl2//\n",
"P1=W1*M1;//Ca(HCO3)2 in terms of CaCO3 or //\n",
"P2=W2*M2;//Mg(HCO3)2 in terms of CaCO3 or //\n",
"P3=W3*M3;//MgCl2  in terms of CaCO3 or //\n",
"P4=W4*M4;//MgSO4 in terms of CaCO3 or //\n",
"P5=W5*M5;//MgCO3 in terms of CaCO3 or //\n",
"P6=W6*M6;//CaCl2 in terms of CaCO3 or //\n",
"printf ('We do not take NaCl since it does not contribute to hardness ');\n",
"T=P1+P2+P5;\n",
"printf('\nTemporary hardness is %.1f mg/l or ppm',T);\n",
"P=P3+P4+P6;\n",
"printf('\nPermanant hardness is %.0f mg/l or ppm',P);\n",
"To=T+P;\n",
"printf('\nTotal hardness is %.1f mg/l or ppm',To);"
   ]
   }
,
{
		   "cell_type": "markdown",
		   "metadata": {},
		   "source": [
			"## Example 2.18_12: hardness_calculation_by_EDTA_method.sce"
		   ]
		  },
  {
"cell_type": "code",
	   "execution_count": null,
	   "metadata": {
	    "collapsed": true
	   },
	   "outputs": [],
"source": [
"//water and its treatment//\n",
"//example 2.18.12//\n",
"clc\n",
"strength_CaCl2=250/200//in terms of mgs/ml CaCO3//\n",
"volume_CaCl2=25//volume of CaCl2 titrated(ml)//\n",
"EDTA_CaCl2=35//volume in terms of ml//\n",
"volume_hardwater=25//volume of hardwater titrated(ml)//\n",
"EDTA_hardwater=30//volume used to titrate unknown hardwater//\n",
"CaCO3_equivalent_CaCl2=strength_CaCl2*volume_CaCl2//in terms of mg//\n",
"one_ml_EDTA=CaCO3_equivalent_CaCl2/EDTA_CaCl2//in terms of CaCO3 equivalent//\n",
"titrate_equivalent=one_ml_EDTA*EDTA_hardwater/volume_hardwater//CaCO3 equivalent of titrated volume//\n",
"Hardness=titrate_equivalent*1000//in terms of mg/lit or ppm//\n",
"printf('\nHardness of water is %.0f mg/l or ppm',Hardness);"
   ]
   }
,
{
		   "cell_type": "markdown",
		   "metadata": {},
		   "source": [
			"## Example 2.18_13: hardness_calculation_by_EDTA_method.sce"
		   ]
		  },
  {
"cell_type": "code",
	   "execution_count": null,
	   "metadata": {
	    "collapsed": true
	   },
	   "outputs": [],
"source": [
"//water and its treatment//\n",
"//example 2.18.13//\n",
"clc\n",
"strength_SH=1//strength of Std hardwater\n",
"volume_SH=50//in terms of ml//\n",
"volume_H=50//in terms of ml//\n",
"EDTA_SH=35//volume for Std hardwater(ml)//\n",
"EDTA_H=20//volume for sample hardwater(ml)//\n",
"AB_EDTA=12//volume required after boiling(ml)//\n",
"CaCO3_equivalent_SH=strength_SH*volume_SH//in terms of CaCO3 equivalent//\n",
"one_ml_EDTA=CaCO3_equivalent_SH/EDTA_SH//in terms of CaCO3 equivalent//\n",
"To_sample=one_ml_EDTA*EDTA_H/volume_H//total hardness for given volume//\n",
"To=To_sample*1000//total hardness per litre(ppm)//\n",
"P_sample=AB_EDTA*one_ml_EDTA/volume_H//permanent hardness for given volume//\n",
"P=P_sample*1000//permanent hardness per litre(ppm)//\n",
"T=To-P\n",
"printf('\nTotal Hardness is %.2f mg/l or ppm',To);\n",
"printf('\nPermanent Hardness is %.2f mg/l or ppm',P);\n",
"printf('\nTemporary Hardness is %.2f mg/l or ppm',T);"
   ]
   }
,
{
		   "cell_type": "markdown",
		   "metadata": {},
		   "source": [
			"## Example 2.18_14: hardness_calculation_by_EDTA_method.sce"
		   ]
		  },
  {
"cell_type": "code",
	   "execution_count": null,
	   "metadata": {
	    "collapsed": true
	   },
	   "outputs": [],
"source": [
"//water and its treatment//\n",
"//example 2.18.14//\n",
"clc\n",
"conc_SH=.5/500//in terms of g/lit//\n",
"strength_SH=conc_SH*1000//in terms of mgs/lit//\n",
"volume_SH=25//in terms of ml//\n",
"volume_H=50//in terms of ml//\n",
"EDTA_SH=24//volume for Std hardwater(ml)//\n",
"EDTA_H=22.5//volume for sample hardwater(ml)//\n",
"AB_EDTA=20//volume required after boiling(ml)//\n",
"CaCO3_equivalent_SH=strength_SH*volume_SH//in terms of CaCO3 equivalent//\n",
"one_ml_EDTA=CaCO3_equivalent_SH/EDTA_SH//in terms of CaCO3 equivalent//\n",
"To_sample=one_ml_EDTA*EDTA_H/volume_H//total hardness for given volume//\n",
"To=To_sample*1000//total hardness per litre(ppm)//\n",
"P_sample=AB_EDTA*one_ml_EDTA/volume_H//permanent hardness for given volume//\n",
"P=P_sample*1000//permanent hardness per litre(ppm)//\n",
"T=To-P\n",
"printf('\nTotal Hardness is %.f mg/l or ppm',To);\n",
"printf('\nPermanent Hardness is %.f mg/l or ppm',P);\n",
"printf('\nTemporary Hardness is %.f mg/l or ppm',T);"
   ]
   }
,
{
		   "cell_type": "markdown",
		   "metadata": {},
		   "source": [
			"## Example 2.18_15: hardness_calculation_by_EDTA_method.sce"
		   ]
		  },
  {
"cell_type": "code",
	   "execution_count": null,
	   "metadata": {
	    "collapsed": true
	   },
	   "outputs": [],
"source": [
"//water and its treatment//\n",
"//example 2.18.15//\n",
"clc\n",
"conc_SH=.2/200//in terms of g/lit//\n",
"strength_SH=conc_SH*1000//in terms of mgs/lit//\n",
"volume_SH=50//in terms of ml//\n",
"volume_H=50//in terms of ml//\n",
"EDTA_SH=48//volume for Std hardwater(ml)//\n",
"EDTA_H=15//volume for sample hardwater(ml)//\n",
"AB_EDTA=10//volume required after boiling(ml)//\n",
"CaCO3_equivalent_SH=strength_SH*volume_SH//in terms of CaCO3 equivalent//\n",
"one_ml_EDTA=CaCO3_equivalent_SH/EDTA_SH//in terms of CaCO3 equivalent//\n",
"To_sample=one_ml_EDTA*EDTA_H/volume_H//total hardness for given volume//\n",
"To=To_sample*1000//total hardness per litre(ppm)//\n",
"P_sample=AB_EDTA*one_ml_EDTA/volume_H//permanent hardness for given volume//\n",
"P=P_sample*1000//permanent hardness per litre(ppm)//\n",
"T=To-P\n",
"printf('\nTotal Hardness is %.f mg/l or ppm',To);\n",
"printf('\nPermanent Hardness is %.f mg/l or ppm',P);\n",
"printf('\nTemporary Hardness is %.f mg/l or ppm',T);"
   ]
   }
,
{
		   "cell_type": "markdown",
		   "metadata": {},
		   "source": [
			"## Example 2.18_16: hardness_calculation_by_EDTA_method.sce"
		   ]
		  },
  {
"cell_type": "code",
	   "execution_count": null,
	   "metadata": {
	    "collapsed": true
	   },
	   "outputs": [],
"source": [
"//water and its treatment//\n",
"//example 2.18.16//\n",
"clc\n",
"strength_SH=1//in terms of mgs/lit//\n",
"volume_SH=50//in terms of ml//\n",
"volume_H=50//in terms of ml//\n",
"EDTA_SH=20//volume for Std hardwater(ml)//\n",
"EDTA_H=25//volume for sample hardwater(ml)//\n",
"AB_EDTA=18//volume required after boiling(ml)//\n",
"CaCO3_equivalent_SH=strength_SH*volume_SH//in terms of CaCO3 equivalent//\n",
"one_ml_EDTA=CaCO3_equivalent_SH/EDTA_SH//in terms of CaCO3 equivalent//\n",
"To_sample=one_ml_EDTA*EDTA_H/volume_H//total hardness for given volume//\n",
"To=To_sample*1000//total hardness per litre(ppm)//\n",
"P_sample=AB_EDTA*one_ml_EDTA/volume_H//permanent hardness for given volume//\n",
"P=P_sample*1000//permanent hardness per litre(ppm)//\n",
"T=To-P\n",
"printf('\nTotal Hardness is %.f mg/l or ppm',To);\n",
"printf('\nPermanent Hardness is %.f mg/l or ppm',P);\n",
"printf('\nTemporary Hardness is %.f mg/l or ppm',T);"
   ]
   }
,
{
		   "cell_type": "markdown",
		   "metadata": {},
		   "source": [
			"## Example 2.18_17: hardness_calculation_by_EDTA_method.sce"
		   ]
		  },
  {
"cell_type": "code",
	   "execution_count": null,
	   "metadata": {
	    "collapsed": true
	   },
	   "outputs": [],
"source": [
"//water and its treatment//\n",
"//example 2.18.17//\n",
"clc\n",
"strength_SH=1//in terms of mgs/lit//\n",
"volume_SH=50//in terms of ml//\n",
"volume_H=50//in terms of ml//\n",
"EDTA_SH=20//volume for Std hardwater(ml)//\n",
"EDTA_H=30//volume for sample hardwater(ml)//\n",
"CaCO3_equivalent_SH=strength_SH*volume_SH//in terms of CaCO3 equivalent//\n",
"one_ml_EDTA=CaCO3_equivalent_SH/EDTA_SH//in terms of CaCO3 equivalent//\n",
"To_sample=one_ml_EDTA*EDTA_H/volume_H//total hardness for given volume//\n",
"To=To_sample*1000//total hardness per litre(ppm)//\n",
"printf('\nTotal Hardness is %.f mg/l or ppm',To);"
   ]
   }
,
{
		   "cell_type": "markdown",
		   "metadata": {},
		   "source": [
			"## Example 2.18_18: hardness_calculation_by_EDTA_method.sce"
		   ]
		  },
  {
"cell_type": "code",
	   "execution_count": null,
	   "metadata": {
	    "collapsed": true
	   },
	   "outputs": [],
"source": [
"//water and its treatment//\n",
"//example 2.18.18//\n",
"clc\n",
"strength_SH=1//in terms of mgs/lit//\n",
"volume_SH=50//in terms of ml//\n",
"volume_H=50//in terms of ml//\n",
"EDTA_SH=20//volume for Std hardwater(ml)//\n",
"EDTA_H=25//volume for sample hardwater(ml)//\n",
"CaCO3_equivalent_SH=strength_SH*volume_SH//in terms of CaCO3 equivalent//\n",
"one_ml_EDTA=CaCO3_equivalent_SH/EDTA_SH//in terms of CaCO3 equivalent//\n",
"To_sample=one_ml_EDTA*EDTA_H/volume_H//total hardness for given volume//\n",
"To=To_sample*1000//total hardness per litre(ppm)//\n",
"printf('\nTotal Hardness is %.f mg/l or ppm',To);"
   ]
   }
,
{
		   "cell_type": "markdown",
		   "metadata": {},
		   "source": [
			"## Example 2.18_19: hardness_calculation_by_EDTA_method.sce"
		   ]
		  },
  {
"cell_type": "code",
	   "execution_count": null,
	   "metadata": {
	    "collapsed": true
	   },
	   "outputs": [],
"source": [
"//water and its treatment//\n",
"//example 2.18.19//\n",
"clc\n",
"conc_SH=0.28//in terms of g/lit//\n",
"strength_SH=conc_SH//in terms of mgs/lit//\n",
"volume_SH=100//in terms of ml//\n",
"volume_H=100//in terms of ml//\n",
"EDTA_SH=28//volume for Std hardwater(ml)//\n",
"EDTA_H=33//volume for sample hardwater(ml)//\n",
"AB_EDTA=10//volume required after boiling(ml)//\n",
"CaCO3_equivalent_SH=strength_SH*volume_SH//in terms of CaCO3 equivalent//\n",
"one_ml_EDTA=CaCO3_equivalent_SH/EDTA_SH//in terms of CaCO3 equivalent//\n",
"To_sample=one_ml_EDTA*EDTA_H/volume_H//total hardness for given volume//\n",
"To=To_sample*1000//total hardness per litre(ppm)//\n",
"P_sample=AB_EDTA*one_ml_EDTA/volume_H//permanent hardness for given volume//\n",
"P=P_sample*1000//permanent hardness per litre(ppm)//\n",
"T=To-P\n",
"printf('\nTotal Hardness is %.f mg/l or ppm',To);\n",
"printf('\nPermanent Hardness is %.f mg/l or ppm',P);\n",
"printf('\nTemporary Hardness is %.f mg/l or ppm',T);"
   ]
   }
,
{
		   "cell_type": "markdown",
		   "metadata": {},
		   "source": [
			"## Example 2.18_1: hardness_calculation.sce"
		   ]
		  },
  {
"cell_type": "code",
	   "execution_count": null,
	   "metadata": {
	    "collapsed": true
	   },
	   "outputs": [],
"source": [
"//water and its treatment//\n",
"//example 2.18.1//\n",
"clc\n",
"W1=12.5;//CaCO3 in water in mg/lit//\n",
"W2=8.4;//MgCO3 in water in mg/lit//\n",
"W3=22.2;//CaCl2 in water in mg/lit//\n",
"W4=9.5;//MgCl2 in water in mg/lit//\n",
"W5=33;//CO2 in water in mg/lit//\n",
"W6=6.68;//NaHCO3 in water in mg/lit//\n",
"M1=100/100;//multiplication factor of CaCO3//\n",
"M2=100/84;//multiplication factor of MgCO3//\n",
"M3=100/111;//multiplication factor of CaCl2//\n",
"M4=100/95;//multiplication factor of MgCl2//\n",
"M6=100/84;//multiplication factor of NaHCO3//\n",
"P1=W1*M1;//CaCO3 in terms of CaCO3//\n",
"P2=W2*M2;//MgCO3 in terms of CaCO3//\n",
"P3=W3*M3;//CaCl2  in terms of CaCO3//\n",
"P4=W4*M4;//MgCl2 in terms of CaCO3//\n",
"P6=W6*M6;//NaHCO3 in terms of CaCO3//\n",
"printf ('We do not take CO2 since it does not contribute to hardness ');\n",
"C=P1+P2+P6;\n",
"printf('\nCarbonate hardness is %.1f mg/l or ppm',C);\n",
"NC=P3+P4;\n",
"printf('\nNon Carbonate hardness is %.0f mg/l or ppm',NC);"
   ]
   }
,
{
		   "cell_type": "markdown",
		   "metadata": {},
		   "source": [
			"## Example 2.18_20_A: hardness_calculation_by_EDTA_method.sce"
		   ]
		  },
  {
"cell_type": "code",
	   "execution_count": null,
	   "metadata": {
	    "collapsed": true
	   },
	   "outputs": [],
"source": [
"//water and its treatment//\n",
"//example 2.18.20.A//\n",
"clc\n",
"conc_SH=1.29//in terms of g/lit//\n",
"strength_SH=conc_SH//in terms of mgs/lit//\n",
"volume_SH=50//in terms of ml//\n",
"volume_H=100//in terms of ml//\n",
"EDTA_SH=32//volume for Std hardwater(ml)//\n",
"EDTA_H=14//volume for sample hardwater(ml)//\n",
"AB_EDTA=8.5//volume required after boiling(ml)//\n",
"CaCO3_equivalent_SH=strength_SH*volume_SH//in terms of CaCO3 equivalent//\n",
"one_ml_EDTA=CaCO3_equivalent_SH/EDTA_SH//in terms of CaCO3 equivalent//\n",
"To_sample=one_ml_EDTA*EDTA_H/volume_H//total hardness for given volume//\n",
"To=To_sample*1000//total hardness per litre(ppm)//\n",
"P_sample=AB_EDTA*one_ml_EDTA/volume_H//permanent hardness for given volume//\n",
"P=P_sample*1000//permanent hardness per litre(ppm)//\n",
"T=To-P\n",
"printf('\nTotal Hardness is %.f mg/l or ppm',To);\n",
"printf('\nPermanent Hardness is %.1f mg/l or ppm',P);\n",
"printf('\nTemporary Hardness is %.1f mg/l or ppm',T);"
   ]
   }
,
{
		   "cell_type": "markdown",
		   "metadata": {},
		   "source": [
			"## Example 2.18_20_B: hardness_calculation_by_EDTA_method.sce"
		   ]
		  },
  {
"cell_type": "code",
	   "execution_count": null,
	   "metadata": {
	    "collapsed": true
	   },
	   "outputs": [],
"source": [
"//water and its treatment//\n",
"//example 2.18.20.B//\n",
"clc\n",
"conc_SH=15//in terms of g/lit//\n",
"strength_SH=conc_SH//in terms of mgs/lit//\n",
"volume_SH=20//in terms of ml//\n",
"volume_H=100//in terms of ml//\n",
"EDTA_SH=25//volume for Std hardwater(ml)//\n",
"EDTA_H=18//volume for sample hardwater(ml)//\n",
"AB_EDTA=12//volume required after boiling(ml)//\n",
"CaCO3_equivalent_SH=strength_SH*volume_SH//in terms of CaCO3 equivalent//\n",
"one_ml_EDTA=CaCO3_equivalent_SH/EDTA_SH//in terms of CaCO3 equivalent//\n",
"To_sample=one_ml_EDTA*EDTA_H/volume_H//total hardness for given volume//\n",
"To=To_sample*1000//total hardness per litre(ppm)//\n",
"P_sample=AB_EDTA*one_ml_EDTA/volume_H//permanent hardness for given volume//\n",
"P=P_sample*1000//permanent hardness per litre(ppm)//\n",
"T=To-P\n",
"printf('\nTotal Hardness is %.f mg/l or ppm',To);\n",
"printf('\nTemporary Hardness is %.f mg/l or ppm',T);\n",
"printf('\nPermanent Hardness is %.f mg/l or ppm',P);"
   ]
   }
,
{
		   "cell_type": "markdown",
		   "metadata": {},
		   "source": [
			"## Example 2.18_20: hardness_calculation_by_EDTA_method.sce"
		   ]
		  },
  {
"cell_type": "code",
	   "execution_count": null,
	   "metadata": {
	    "collapsed": true
	   },
	   "outputs": [],
"source": [
"//water and its treatment//\n",
"//example 2.18.20//\n",
"clc\n",
"strength_SH=1//in terms of mgs/lit//\n",
"volume_SH=50//in terms of ml//\n",
"volume_H=50//in terms of ml//\n",
"EDTA_SH=20//volume for Std hardwater(ml)//\n",
"EDTA_H=25//volume for sample hardwater(ml)//\n",
"AB_EDTA=18//volume required after boiling(ml)//\n",
"CaCO3_equivalent_SH=strength_SH*volume_SH//in terms of CaCO3 equivalent//\n",
"one_ml_EDTA=CaCO3_equivalent_SH/EDTA_SH//in terms of CaCO3 equivalent//\n",
"To_sample=one_ml_EDTA*EDTA_H/volume_H//total hardness for given volume//\n",
"To=To_sample*1000//total hardness per litre(ppm)//\n",
"P_sample=AB_EDTA*one_ml_EDTA/volume_H//permanent hardness for given volume//\n",
"P=P_sample*1000//permanent hardness per litre(ppm)//\n",
"T=To-P\n",
"printf('\nTotal Hardness is %.f mg/l or ppm',To);\n",
"printf('\nPermanent Hardness is %.f mg/l or ppm',P);\n",
"printf('\nTemporary Hardness is %.f mg/l or ppm',T);"
   ]
   }
,
{
		   "cell_type": "markdown",
		   "metadata": {},
		   "source": [
			"## Example 2.18_21: calculation_of_required_lime_and_soda.sce"
		   ]
		  },
  {
"cell_type": "code",
	   "execution_count": null,
	   "metadata": {
	    "collapsed": true
	   },
	   "outputs": [],
"source": [
"//water and its treatment//\n",
"//example 2.18.21//\n",
"clc    \n",
"Purity_Lime=.85\n",
"Purity_soda=.95\n",
"W1=55.5;//amount of CaCl2 in ppm//\n",
"W2=20;//amount of SiO2 in ppm//\n",
"W3=12.6;//amount of  NaHCO3 in ppm//\n",
"W4=250;//amount of KCl in ppm//\n",
"W5=48;//amount of MgSO4 in ppm//\n",
"W6=2.2;//amount of CO2 in ppm//\n",
"W7=43.8;//amount of Mg(HCO3)2 in ppm//\n",
"W8=2;//amount of Fe++ in ppm//\n",
"W9=10;//amount of AlCl3 in ppm//\n",
"M1=100/111;//multiplication factor of CaCl2//\n",
"M3=100/(84*2);//multiplication factor of NaHCO3//\n",
"M5=100/120;//multiplication factor of MgSO4//\n",
"M6=100/44;//multiplication factor of CO2//\n",
"M7=100/146;//multiplication factor of Mg(HCO3)2//\n",
"M8=100/55.8;//multiplication factor of Fe++//\n",
"M9=100/133.42;//multiplication factor of AlCl3//\n",
"P1=W1*M1;//in terms of CaCO3//L\n",
"P3=W3*M3;//in terms of CaCO3//+L and -S \n",
"P5=W5*M5;//in terms of CaCO3//L+S\n",
"P6=W6*M6;//in terms of CaCO3//L\n",
"P7=W7*M7;//in terms of CaCO3//L\n",
"P8=W8*M8;//in terms of CaCO3//L+S\n",
"P9=W9*M9;//in terms of CaCO3//L+S\n",
"printf ('We do not take SiO2 and KCl since they do not react with lime/soda');\n",
"V=50000;//volume of water in litres//\n",
"L=0.74*(P3+P5+P6+P7*2+P8+P9)*V/Purity_Lime;//lime required in mg//\n",
"L=L/10^6;\n",
"printf('\nLime required is %.3fkg',L);\n",
"S=1.06*(P1-P3+P5+P8+P9)*V/Purity_soda;//soda required in mg//\n",
"S=S/10^6;\n",
"printf('\nSoda required is %.4fkg',S)"
   ]
   }
,
{
		   "cell_type": "markdown",
		   "metadata": {},
		   "source": [
			"## Example 2.18_22: cost_of_lime_and_soda_required.sce"
		   ]
		  },
  {
"cell_type": "code",
	   "execution_count": null,
	   "metadata": {
	    "collapsed": true
	   },
	   "outputs": [],
"source": [
"//water and its treatment//\n",
"//example 2.18.22//\n",
"clc    \n",
"Purity_Lime=.85\n",
"Purity_soda=.80\n",
"Rate_lime=9//Rs.per kg//\n",
"Rate_soda=35//Rs.per kg//\n",
"W1=20.4;//amount of CaSO4 in ppm//\n",
"W2=9.5;//amount of MgCl2 in ppm//\n",
"W3=7.3;//amount of HCl in ppm//\n",
"M1=100/136;//multiplication factor of CaSO4//\n",
"M2=100/95;//multiplication factor of MgCl2//\n",
"M3=100/(36.5*2);//multiplication factor of HCl//\n",
"P1=W1*M1;//in terms of CaCO3//S\n",
"P2=W2*M2;//in terms of CaCO3//L+S \n",
"P3=W3*M3;//in terms of CaCO3//L+S\n",
"V=80000;//volume of water in litres//\n",
"L=0.74*(P2+P3)*V/Purity_Lime;//lime required in mg//\n",
"L=L/10^6;\n",
"printf('\nLime required is %.3f kg',L);\n",
"S=1.06*(P1+P2+P3)*V/Purity_soda;//soda required in mg//\n",
"S=S/10^6;\n",
"printf('\nSoda required is %.2f kg',S)\n",
"Cost_lime=L*Rate_lime\n",
"Cost_soda=S*Rate_soda\n",
"printf('\nCost of lime is Rs. %.2f',Cost_lime);\n",
"printf('\nCost of soda is Rs. %.2f',Cost_soda)"
   ]
   }
,
{
		   "cell_type": "markdown",
		   "metadata": {},
		   "source": [
			"## Example 2.18_23: calculation_of_required_lime_and_soda.sce"
		   ]
		  },
  {
"cell_type": "code",
	   "execution_count": null,
	   "metadata": {
	    "collapsed": true
	   },
	   "outputs": [],
"source": [
"//water and its treatment//\n",
"//example 2.18.23//\n",
"clc    \n",
"Purity_Lime=.85\n",
"Purity_soda=.90\n",
"W1=27.2;//amount of CaSO4 in ppm//\n",
"W2=24;//amount of MgSO4 in ppm//\n",
"W3=11.1;//amount of CaCl2 in ppm//\n",
"W4=47.5;//amount of MgCl2 in ppm//\n",
"W5=2.195;//amount of CO2 in ppm//\n",
"W6=1.825;//amount of HCl in ppm//\n",
"W7=13.35;//amount of AlCl3 in ppm//\n",
"M1=100/136;//multiplication factor of CaSO4//\n",
"M2=100/120;//multiplication factor of MgSO4//\n",
"M3=100/111;//multiplication factor of CaCl2//\n",
"M4=100/95;//multiplication factor of MgCl2//\n",
"M5=100/44;//multiplication factor of CO2//\n",
"M6=100/(36.5*2);//multiplication factor of HCl//\n",
"M7=100/133.5;//multiplication factor of AlCl3//\n",
"P1=W1*M1;//in terms of CaCO3//S\n",
"P2=W2*M2;//in terms of CaCO3//L+S\n",
"P3=W3*M3;//in terms of CaCO3//S\n",
"P4=W4*M4;//in terms of CaCO3//L+S \n",
"P5=W5*M5;//in terms of CaCO3//L\n",
"P6=W6*M6;//in terms of CaCO3//L+S\n",
"P7=W7*M7;//in terms of CaCO3//L+S\n",
"V=100000;//volume of water in litres//\n",
"L=0.74*(P2+P4+P5+P6+P7)*V/Purity_Lime;//lime required in mg//\n",
"L=L/10^6;\n",
"printf('Lime required is %.3fkg',L);\n",
"S=1.06*(P1+P2+P3+P4+P6+P7)*V/Purity_soda;//soda required in mg//\n",
"S=S/10^6;\n",
"printf('\n Soda required is %.2fkg',S)"
   ]
   }
,
{
		   "cell_type": "markdown",
		   "metadata": {},
		   "source": [
			"## Example 2.18_24: calculation_of_required_lime_and_soda.sce"
		   ]
		  },
  {
"cell_type": "code",
	   "execution_count": null,
	   "metadata": {
	    "collapsed": true
	   },
	   "outputs": [],
"source": [
"//water and its treatment//\n",
"//example 2.18.24//\n",
"clc\n",
"W1=50;//amount of CaCO3 in ppm//\n",
"W2=14.4;//amount of MgCO3 in ppm//\n",
"W3=22.2;//amount of CaCl2 in ppm//\n",
"W4=9.5;//amount of MgCl2 in ppm//\n",
"W5=20;//amount of Fe2O3 in ppm//\n",
"W6=20;//amount of Na2SO4 in ppm//\n",
"W7=5;//amount of SiO2 in ppm//\n",
"W8=2.2;//amount of CO2 in ppm//\n",
"M1=100/100;//multiplication factor of CaCO3//\n",
"M2=100/84;//multiplication factor of MgCO3//\n",
"M3=100/111;//multiplication factor of CaCl2//\n",
"M4=100/95;//multiplication factor of MgCl2//\n",
"M8=100/44.05;//multiplication factor of CO2//\n",
"P1=W1*M1;//in terms of CaCO3//L\n",
"P2=W2*M2;//in terms of CaCO3//L \n",
"P3=W3*M3;//in terms of CaCO3//S\n",
"P4=W4*M4;//in terms of CaCO3//L+S\n",
"P8=W8*M8;//in terms of CaCO3//L\n",
"printf ('We do not take Fe2O3, Na2SO4 and SiO2 since they do not react with lime/soda');\n",
"V=75000;//volume of water in litres//\n",
"L=0.74*(P1+P2*2+P4+P8)*V;//lime required in mg//\n",
"L=L/10^6;\n",
"printf('\nLime required is %.5fkg',L);\n",
"S=1.06*(P3+P4)*V;//soda required in mg//\n",
"S=S/10^6;\n",
"printf('\nSoda required is %.3fkg',S)"
   ]
   }
,
{
		   "cell_type": "markdown",
		   "metadata": {},
		   "source": [
			"## Example 2.18_25: cost_of_lime_and_soda_required.sce"
		   ]
		  },
  {
"cell_type": "code",
	   "execution_count": null,
	   "metadata": {
	    "collapsed": true
	   },
	   "outputs": [],
"source": [
"//water and its treatment//\n",
"//example 2.18.25//\n",
"clc    \n",
"Purity_Lime=.90\n",
"Purity_soda=.90\n",
"Rate_lime=7//Rs.per kg//\n",
"Rate_soda=35//Rs.per kg//\n",
"W1=30;//amount of Ca++ in ppm//\n",
"W2=21.6;//amount of Mg++ in ppm//\n",
"W3=12.2;//amount of HCO3- in ppm//\n",
"W4=4.4;//amount of CO2 in ppm//\n",
"W5=4.9;//amount of H2SO4 in ppm//\n",
"M1=100/40;//multiplication factor of Ca++//\n",
"M2=100/24;//multiplication factor of Mg++//\n",
"M3=100/(61*2);//multiplication factor of HCO3-//\n",
"M4=100/44;//multiplication factor of CO2//\n",
"M5=100/98;//multiplication factor of H2SO4//\n",
"P1=W1*M1;//in terms of CaCO3//S\n",
"P2=W2*M2;//in terms of CaCO3//L+S \n",
"P3=W3*M3;//in terms of CaCO3//+L and -S\n",
"P4=W4*M4;//in terms of CaCO3//L\n",
"P5=W5*M5;//in terms of CaCO3//L+S\n",
"V=25000;//volume of water in litres//\n",
"L=0.74*(P2+P3+P4+P5)*V/Purity_Lime;//lime required in mg//\n",
"L=L/10^6;\n",
"printf('Quantity of Lime required is %.4f kg',L);\n",
"S=1.06*(P1+P2-P3+P5)*V/Purity_soda;//soda required in mg//\n",
"S=S/10^6;\n",
"printf('\nQuantity of Soda required is %.4f kg',S)\n",
"Cost_lime=L*Rate_lime\n",
"Cost_soda=S*Rate_soda\n",
"printf('\nCost of lime is Rs. %.2f',Cost_lime);\n",
"printf('\nCost of soda is Rs. %.2f',Cost_soda)"
   ]
   }
,
{
		   "cell_type": "markdown",
		   "metadata": {},
		   "source": [
			"## Example 2.18_26: quantity_of_lime_and_soda.sce"
		   ]
		  },
  {
"cell_type": "code",
	   "execution_count": null,
	   "metadata": {
	    "collapsed": true
	   },
	   "outputs": [],
"source": [
"//water and its treatment//\n",
"//example 2.18.26//\n",
"clc    \n",
"Purity_Lime=.89\n",
"Purity_soda=.92\n",
"W1=30;//amount of CaCO3 in ppm//\n",
"W2=90;//amount of MgCO3 in ppm//\n",
"W3=160;//amount of MgCl2 in ppm//\n",
"W4=35;//amount of MgSO4 in ppm//\n",
"W5=25;//amount of CaSO4 in ppm//\n",
"W6=120;//amount of NaCl in ppm//\n",
"M1=100/100;//multiplication factor of CaCO3//\n",
"M2=100/84.01;//multiplication factor of MgCO3//\n",
"M3=100/95;//multiplication factor of MgCl2//\n",
"M4=100/120;//multiplication factor of MgSO4//\n",
"M5=100/135.9;//multiplication factor of CaSO4//\n",
"P1=W1*M1;//in terms of CaCO3//L\n",
"P2=W2*M2;//in terms of CaCO3//L\n",
"P3=W3*M3;//in terms of CaCO3//L+S\n",
"P4=W4*M4;//in terms of CaCO3//L+S\n",
"P5=W5*M5;//in terms of CaCO3//S\n",
"printf ('We do not take NaCl since it does not react with lime/soda');\n",
"V=40000;//volume of water in litres//\n",
"L=0.74*(P1+P2*2+P3+P4)*V/Purity_Lime;//lime required in mg//\n",
"L=L/10^6;\n",
"printf('\nQuantity of Lime required is %.3fkg',L);\n",
"S=1.06*(P3+P4+P5)*V/Purity_soda;//soda required in mg//\n",
"S=S/10^6;\n",
"printf('\nQuantity of Soda required is %.3fkg',S)"
   ]
   }
,
{
		   "cell_type": "markdown",
		   "metadata": {},
		   "source": [
			"## Example 2.18_27: quantity_of_lime_and_soda.sce"
		   ]
		  },
  {
"cell_type": "code",
	   "execution_count": null,
	   "metadata": {
	    "collapsed": true
	   },
	   "outputs": [],
"source": [
"//water and its treatment//\n",
"//example 2.18.27//\n",
"clc    \n",
"Purity_Lime=0.90\n",
"Purity_soda=0.90\n",
"W1=2.1;//amount of CaCO3 in °Clarke//\n",
"W2=0.63;//amount of MgCO3 in °Clarke//\n",
"W3=0.35;//amount of CaSO4 in °Clarke//\n",
"W4=0.21;//amount of MgSO4 in °Clarke//\n",
"W5=0.063;//amount of MgCl2 in °Clarke//\n",
"W6=0.035;//amount of KCl in °Clarke//\n",
"M1=100/(100*0.07);//multiplication factor of CaCO3//\n",
"M2=100/(84.04*0.07);//multiplication factor of MgCO3//\n",
"M3=100/(136*0.07);//multiplication factor of CaSO4//\n",
"M4=100/(120*0.07);//multiplication factor of MgSO4//\n",
"M5=100/(95*0.07);//multiplication factor of MgCl2//\n",
"P1=W1*M1;//in terms of CaCO3//L\n",
"P2=W2*M2;//in terms of CaCO3//L\n",
"P3=W3*M3;//in terms of CaCO3//S\n",
"P4=W4*M4;//in terms of CaCO3//L+S\n",
"P5=W5*M5;//in terms of CaCO3//L+S\n",
"printf ('We do not take KCl since it do not react with lime/soda');\n",
"V=85000;//volume of water in litres//\n",
"L=0.74*(P1+P2*2+P4+P5)*V/Purity_Lime;//lime required in mg//\n",
"L=L/10^6;\n",
"printf('\nQuantity of Lime required is %.4fkg',L);\n",
"S=1.06*(P3+P4+P5)*V/Purity_soda;//soda required in mg//\n",
"S=S/10^6;\n",
"printf('\nQuantity of Soda required is %.3fkg',S)"
   ]
   }
,
{
		   "cell_type": "markdown",
		   "metadata": {},
		   "source": [
			"## Example 2.18_28: quantity_of_lime_and_soda.sce"
		   ]
		  },
  {
"cell_type": "code",
	   "execution_count": null,
	   "metadata": {
	    "collapsed": true
	   },
	   "outputs": [],
"source": [
"//water and its treatment//\n",
"//example 2.18.28//\n",
"clc    \n",
"Purity_Lime=.89\n",
"Purity_soda=.95\n",
"W1=14.6;//amount of HCl in ppm//\n",
"W2=34.2;//amount of Al2(SO4)3 in ppm//\n",
"W3=9.5;//amount of MgCl2 in ppm//\n",
"W4=30;//amount of KCl in ppm//\n",
"M1=100/(2*36.5);//multiplication factor of HCl//\n",
"M2=(3*100)/342.3;//multiplication factor of Al2(SO4)3//\n",
"M3=100/95;//multiplication factor of MgCl2//\n",
"P1=W1*M1;//in terms of CaCO3//L+S\n",
"P2=W2*M2;//in terms of CaCO3//L+S\n",
"P3=W3*M3;//in terms of CaCO3//L+S\n",
"printf ('We do not take KCl since it does not react with lime/soda');\n",
"V=20000;//volume of water in litres//\n",
"L=0.74*(P1+P2+P3)*V/Purity_Lime;//lime required in mg//\n",
"L=L/10^6;\n",
"printf('\nQuantity of Lime required is %.3fkg',L);\n",
"S=1.06*(P1+P2+P3)*V/Purity_soda;//soda required in mg//\n",
"S=S/10^6;\n",
"printf('\nQuantity of Soda required is %.3fkg',S)"
   ]
   }
,
{
		   "cell_type": "markdown",
		   "metadata": {},
		   "source": [
			"## Example 2.18_29: quantity_of_lime_and_soda.sce"
		   ]
		  },
  {
"cell_type": "code",
	   "execution_count": null,
	   "metadata": {
	    "collapsed": true
	   },
	   "outputs": [],
"source": [
"//water and its treatment//\n",
"//example 2.18.29//\n",
"clc    \n",
"Purity_Lime=0.85\n",
"Purity_soda=0.95\n",
"W1=3.5;//amount of CaCO3 in ppm//\n",
"W2=6.8;//amount of CaSO4 in ppm//\n",
"W3=8.4;//amount of MgCO3 in ppm//\n",
"W4=5.7;//amount of MgCl2 in ppm//\n",
"W5=6.0;//amount of MgSO4 in ppm//\n",
"W6=3.0;//amount of SiO2 in ppm//\n",
"W7=11.7;//amount of NaCl in ppm//\n",
"M1=100/100;//multiplication factor of CaCO3//\n",
"M2=100/135.86;//multiplication factor of CaSO4//\n",
"M3=100/84;//multiplication factor of MgCO3//\n",
"M4=100/95.1;//multiplication factor of MgCl2//\n",
"M5=100/120;//multiplication factor of MgSO4//\n",
"P1=W1*M1;//in terms of CaCO3//L\n",
"P2=W2*M2;//in terms of CaCO3//S\n",
"P3=W3*M3;//in terms of CaCO3//L\n",
"P4=W4*M4;//in terms of CaCO3//L+S\n",
"P5=W5*M5;//in terms of CaCO3//L+S\n",
"printf ('We do not take SiO2 and NaCl since they do not react with lime/soda');\n",
"V=35000;//volume of water in litres//\n",
"L=0.74*(P1+P3*2+P4+P5)*V/Purity_Lime;//lime required in mg//\n",
"L=L/10^6;\n",
"printf('\nQuantity of Lime required in month of Feb 2000 is %.2fkg',L*29);\n",
"S=1.06*(P2+P4+P5)*V/Purity_soda;//soda required in mg//\n",
"S=S/10^6;\n",
"printf('\nQuantity of Soda required in month of Feb 2000 is %.4fkg',S*29)"
   ]
   }
,
{
		   "cell_type": "markdown",
		   "metadata": {},
		   "source": [
			"## Example 2.18_2: hardness_calculation.sce"
		   ]
		  },
  {
"cell_type": "code",
	   "execution_count": null,
	   "metadata": {
	    "collapsed": true
	   },
	   "outputs": [],
"source": [
"//water and its treatment//\n",
"//example 2.18.2//\n",
"clc\n",
"W1=40.5;//Ca(HCO3)2 in water in mg/lit//\n",
"W2=33.3;//CaCl2 in water in mg/lit//\n",
"W3=41;//Ca(NO3)2 in water in mg/lit//\n",
"W4=101;//KNO3 in water in mg/lit//\n",
"W5=33.6;//MgCO3 in water in mg/lit//\n",
"M1=100/162;//multiplication factor of Ca(HCO3)2//\n",
"M2=100/111;//multiplication factor of CaCl2//\n",
"M3=100/164;//multiplication factor of Ca(NO3)2//\n",
"M5=100/84;//multiplication factor of MgCO3//\n",
"P1=W1*M1;//Ca(HCO3)2 in terms of CaCO3//\n",
"P2=W2*M2;//CaCl2 in terms of CaCO3//\n",
"P3=W3*M3;//Ca(NO3)2  in terms of CaCO3//\n",
"P5=W5*M5;//MgCO3 in terms of CaCO3//\n",
"printf ('We do not take KNO3 since it does not contribute to hardness ');\n",
"C=P1+P5;\n",
"printf('\nCarbonate hardness is %.0f mg/l or ppm',C);\n",
"NC=P2+P3;\n",
"printf('\nNon Carbonate hardness is %.0f mg/l or ppm',NC);"
   ]
   }
,
{
		   "cell_type": "markdown",
		   "metadata": {},
		   "source": [
			"## Example 2.18_30: quantity_of_lime_and_soda.sce"
		   ]
		  },
  {
"cell_type": "code",
	   "execution_count": null,
	   "metadata": {
	    "collapsed": true
	   },
	   "outputs": [],
"source": [
"//water and its treatment//\n",
"//example 2.18.30//\n",
"clc    \n",
"Purity_Lime=0.95\n",
"Purity_soda=0.90\n",
"W1=9.5;//amount of MgCl2 in ppm//\n",
"W2=272;//amount of CaSO4 in ppm//\n",
"W3=120;//amount of MgSO4 in ppm//\n",
"W4=49;//amount of H2SO4 in ppm//\n",
"W5=8;//amount of SiO2 in ppm//\n",
"M1=100/95;//multiplication factor of MgCl2//\n",
"M2=100/136;//multiplication factor of CaSO4//\n",
"M3=100/120;//multiplication factor of MgSO4//\n",
"M4=100/98;//multiplication factor of H2SO4//\n",
"P1=W1*M1;//in terms of CaCO3//L+S\n",
"P2=W2*M2;//in terms of CaCO3//S\n",
"P3=W3*M3;//in terms of CaCO3//L+S\n",
"P4=W4*M4;//in terms of CaCO3//L+S\n",
"printf ('We do not take SiO2 since it does not react with lime/soda');\n",
"V=1000000;//volume of water in litres//\n",
"L=0.74*(P1+P3+P4)*V/Purity_Lime;//lime required in mg//\n",
"L=L/10^6;\n",
"printf('\nQuantity of Lime required is %.2fkg',L);\n",
"S=1.06*(P1+P2+P3+P4)*V/Purity_soda;//soda required in mg//\n",
"S=S/10^6;\n",
"printf('\nQuantity of Soda required is %.0fkg',S)"
   ]
   }
,
{
		   "cell_type": "markdown",
		   "metadata": {},
		   "source": [
			"## Example 2.18_31: calculation_of_required_lime_and_soda.sce"
		   ]
		  },
  {
"cell_type": "code",
	   "execution_count": null,
	   "metadata": {
	    "collapsed": true
	   },
	   "outputs": [],
"source": [
"//water and its treatment//\n",
"//example 2.18.31//\n",
"clc    \n",
"Purity_Lime=.80\n",
"Purity_soda=.88\n",
"W1=84;//amount of MgCO3 in ppm//\n",
"W2=25;//amount of SiO2 in ppm//\n",
"W3=68;//amount of CaSO4 in ppm//\n",
"W4=30;//amount of MgSO4 in ppm//\n",
"W5=19;//amount of MgCl2 in ppm//\n",
"W6=120;//amount of CaCO3 in ppm//\n",
"M1=100/84.004;//multiplication factor of MgCO3//\n",
"M3=100/136;//multiplication factor of CaSO4//\n",
"M4=100/120;//multiplication factor of MgSO4//\n",
"M5=100/95;//multiplication factor of MgCl2//\n",
"M6=100/100;//multiplication factor of CaCO3//\n",
"P1=W1*M1;//in terms of CaCO3//L\n",
"P3=W3*M3;//in terms of CaCO3//S\n",
"P4=W4*M4;//in terms of CaCO3//L+S\n",
"P5=W5*M5;//in terms of CaCO3//L+S\n",
"P6=W6*M6;//in terms of CaCO3//L\n",
"printf ('We do not take SiO2 since it does not react with lime/soda');\n",
"V=1000000;//volume of water in litres//\n",
"L=0.74*(P1*2+P4+P5+P6)*V/Purity_Lime;//lime required in mg//\n",
"L=L/10^6;\n",
"printf('\nLime required is %.2fkg',L);\n",
"S=1.06*(P3+P4+P5)*V/Purity_soda;//soda required in mg//\n",
"S=S/10^6;\n",
"printf('\nSoda required is %.2fkg',S)"
   ]
   }
,
{
		   "cell_type": "markdown",
		   "metadata": {},
		   "source": [
			"## Example 2.18_32: calculation_of_required_lime_and_soda.sce"
		   ]
		  },
  {
"cell_type": "code",
	   "execution_count": null,
	   "metadata": {
	    "collapsed": true
	   },
	   "outputs": [],
"source": [
"//water and its treatment//\n",
"//example 2.18.32//\n",
"clc    \n",
"Purity_Lime=.97\n",
"Purity_soda=.91\n",
"W1=24;//amount of Mg2+ in ppm//\n",
"W2=20;//amount of Ca2+ in ppm//\n",
"W3=30;//amount of CO2 in ppm//\n",
"W4=150;//amount of HCO3- in ppm//\n",
"W5=40;//amount of K+ in ppm//\n",
"M1=100/24;//multiplication factor of Mg2+//\n",
"M2=100/40;//multiplication factor of Ca2+//\n",
"M3=100/44;//multiplication factor of CO2//\n",
"M4=100/(61*2);//multiplication factor of HCO3-//\n",
"P1=W1*M1;//in terms of CaCO3//L+S\n",
"P2=W2*M2;//in terms of CaCO3//S\n",
"P3=W3*M3;//in terms of CaCO3//L\n",
"P4=W4*M4;//in terms of CaCO3//+L and -S\n",
"printf ('We do not take K+ since it does not react with lime/soda');\n",
"V=1000000;//volume of water in litres//\n",
"L=0.74*(P1+P3+P4)*V/Purity_Lime;//lime required in mg//\n",
"L=L/10^6;\n",
"printf('\nLime required is %.0fkg',L);\n",
"S=1.06*(P1+P2-P4)*V/Purity_soda;//soda required in mg//\n",
"S=S/10^6;\n",
"printf('\nSoda required is %.1fkg',S)"
   ]
   }
,
{
		   "cell_type": "markdown",
		   "metadata": {},
		   "source": [
			"## Example 2.18_33: calculation_of_required_lime_and_soda.sce"
		   ]
		  },
  {
"cell_type": "code",
	   "execution_count": null,
	   "metadata": {
	    "collapsed": true
	   },
	   "outputs": [],
"source": [
"//water and its treatment//\n",
"//example 2.18.33//\n",
"clc    \n",
"Purity_Lime=.80\n",
"Purity_soda=.85\n",
"W1=162;//amount of Ca(HCO3)2 in ppm//\n",
"W2=9.5;//amount of MgCl2 in ppm//\n",
"W3=58.5;//amount of  NaCl in ppm//\n",
"W4=7.3;//amount of Mg(HCO3)2 in ppm//\n",
"W5=36.5;//amount of HCl in ppm//\n",
"W6=44;//amount of CO2 in ppm//\n",
"W7=111;//amount of CaCl2 in ppm//\n",
"W8=60;//amount of MgSO4 in ppm//\n",
"M1=100/162;//multiplication factor of Ca(HCO3)2//\n",
"M2=100/95;//multiplication factor of MgCl2//\n",
"M4=100/146;//multiplication factor of Mg(HCO3)2//\n",
"M5=100/(2*36.5);//multiplication factor of HCl//\n",
"M6=100/44;//multiplication factor of CO2//\n",
"M7=100/111;//multiplication factor of CaCl2//\n",
"M8=100/120;//multiplication factor of MgSO4//\n",
"P1=W1*M1;//in terms of CaCO3//L\n",
"P2=W2*M2;//in terms of CaCO3//L+S \n",
"P4=W4*M4;//in terms of CaCO3//L\n",
"P5=W5*M5;//in terms of CaCO3//L+S\n",
"P6=W6*M6;//in terms of CaCO3//L\n",
"P7=W7*M7;//in terms of CaCO3//S\n",
"P8=W8*M8;//in terms of CaCO3//L+S\n",
"printf ('We do not take NaCl since they do not react with lime/soda');\n",
"V=1000000;//volume of water in litres//\n",
"L=0.74*(P1+P2+P4*2+P5+P6+P8)*V/Purity_Lime;//lime required in mg//\n",
"L=L/10^6;\n",
"printf('\nLime required is %.0fkg',L);\n",
"S=1.06*(P2+P5+P7+P8)*V/Purity_soda;//soda required in mg//\n",
"S=S/10^6;\n",
"printf('\nSoda required is %.3fkg',S)"
   ]
   }
,
{
		   "cell_type": "markdown",
		   "metadata": {},
		   "source": [
			"## Example 2.18_34: quantity_of_lime_and_soda.sce"
		   ]
		  },
  {
"cell_type": "code",
	   "execution_count": null,
	   "metadata": {
	    "collapsed": true
	   },
	   "outputs": [],
"source": [
"//water and its treatment//\n",
"//example 2.18.34//\n",
"clc    \n",
"Purity_Lime=.90\n",
"Purity_soda=.90\n",
"W1=30;//amount of Ca2+ in ppm//\n",
"W2=21.6;//amount of Mg2+ in ppm//\n",
"W3=4.9;//amount of H2SO4 in ppm//\n",
"W4=4.4;//amount of CO2 in ppm//\n",
"W5=12.2;//amount of HCO3- in ppm//\n",
"W6=15.4;//amount of Fe2O3 in ppm//\n",
"M1=100/40;//multiplication factor of Ca2+//\n",
"M2=100/24;//multiplication factor of Mg2+//\n",
"M3=100/98;//multiplication factor of H2SO4//\n",
"M4=100/44.01;//multiplication factor of CO2//\n",
"M5=100/122;//multiplication factor of HCO3-//\n",
"P1=W1*M1;//in terms of CaCO3//S\n",
"P2=W2*M2;//in terms of CaCO3//L+S \n",
"P3=W3*M3;//in terms of CaCO3//L+S\n",
"P4=W4*M4;//in terms of CaCO3//L\n",
"P5=W5*M5;//in terms of CaCO3//+L and -S\n",
"printf ('We do not take Fe2O3 since it does not react with lime/soda');\n",
"V=25000;//volume of water in litres//\n",
"L=0.74*(P2+P3+P4+P5)*V/Purity_Lime;//lime required in mg//\n",
"L=L/10^6;\n",
"printf('\nQuantity of Lime required is %.4fkg',L);\n",
"S=1.06*(P1+P2+P3-P5)*V/Purity_soda;//soda required in mg//\n",
"S=S/10^6;\n",
"printf('\nQuantity of Soda required is %.4fkg',S)"
   ]
   }
,
{
		   "cell_type": "markdown",
		   "metadata": {},
		   "source": [
			"## Example 2.18_35: quantity_of_lime_and_soda.sce"
		   ]
		  },
  {
"cell_type": "code",
	   "execution_count": null,
	   "metadata": {
	    "collapsed": true
	   },
	   "outputs": [],
"source": [
"//water and its treatment//\n",
"//example 2.18.35//\n",
"clc    \n",
"Purity_Lime=.95\n",
"Purity_soda=.80\n",
"W1=14.6;//amount of Mg(HCO3)2 in ppm//\n",
"W2=6.8;//amount of CaSO4 in ppm//\n",
"W3=8.1;//amount of Ca(HCO3)2 in ppm//\n",
"W4=12;//amount of MgSO4 in ppm//\n",
"W5=15;//amount of Na2SO4 in ppm//\n",
"W6=2;//amount of SiO2 in ppm//\n",
"M1=100/146;//multiplication factor of Ca2+//\n",
"M2=100/157;//multiplication factor of Mg2+//\n",
"M3=100/162.08;//multiplication factor of H2SO4//\n",
"M4=100/120;//multiplication factor of CO2//\n",
"P1=W1*M1;//in terms of CaCO3//L\n",
"P2=W2*M2;//in terms of CaCO3//S \n",
"P3=W3*M3;//in terms of CaCO3//L\n",
"P4=W4*M4;//in terms of CaCO3//L+S\n",
"printf ('We do not take Na2SO4 and SiO2 since they do not react with lime/soda');\n",
"V=50000;//volume of water in litres//\n",
"L=0.74*(P1*2+P3+P4)*V/Purity_Lime;//lime required in mg//\n",
"L=L/10^6;\n",
"printf('\nQuantity of Lime required is %.4fkg',L);\n",
"S=1.06*(P2+P4)*V/Purity_soda;//soda required in mg//\n",
"S=S/10^6;\n",
"printf('\nQuantity of Soda required is %.1fkg',S)"
   ]
   }
,
{
		   "cell_type": "markdown",
		   "metadata": {},
		   "source": [
			"## Example 2.18_36: quantity_of_lime_and_soda.sce"
		   ]
		  },
  {
"cell_type": "code",
	   "execution_count": null,
	   "metadata": {
	    "collapsed": true
	   },
	   "outputs": [],
"source": [
"//water and its treatment//\n",
"//example 2.18.36//\n",
"clc    \n",
"Purity_Lime=.86\n",
"Purity_soda=.90\n",
"W1=35.2;//amount of CaCO3 in ppm//\n",
"W2=7.8;//amount of MgCl2 in ppm//\n",
"W3=12.5;//amount of HCl in ppm//\n",
"W4=33.3;//amount of Al2(SO4)3 in ppm//\n",
"W5=8.8;//amount of Na2SO4 in ppm//\n",
"W6=18.6;//amount of Fe2O3 in ppm//\n",
"M1=100/99.976;//multiplication factor of CaCO3//\n",
"M2=100/94.08;//multiplication factor of MgCl2//\n",
"M3=100/73;//multiplication factor of HCl//\n",
"M4=100/114//multiplication factor of Al2(SO4)3//\n",
"P1=W1*M1;//in terms of CaCO3//L\n",
"P2=W2*M2;//in terms of CaCO3//L+S \n",
"P3=W3*M3;//in terms of CaCO3//L+S\n",
"P4=W4*M4;//in terms of CaCO3//L+S\n",
"printf ('We do not take Na2SO4 and Fe2O3 since they do not react with lime/soda');\n",
"V=25000;//volume of water in litres//\n",
"L=0.74*(P1+P2+P3+P4)*V/Purity_Lime;//lime required in mg//\n",
"L=L/10^6;\n",
"printf('\nQuantity of Lime required is %.6fkg',L);\n",
"S=1.06*(P2+P3+P4)*V/Purity_soda;//soda required in mg//\n",
"S=S/10^6;\n",
"printf('\nQuantity of Soda required is %.4fkg',S)"
   ]
   }
,
{
		   "cell_type": "markdown",
		   "metadata": {},
		   "source": [
			"## Example 2.18_37: quantity_of_lime_and_soda.sce"
		   ]
		  },
  {
"cell_type": "code",
	   "execution_count": null,
	   "metadata": {
	    "collapsed": true
	   },
	   "outputs": [],
"source": [
"//water and its treatment//\n",
"//example 2.18.37//\n",
"clc    \n",
"Purity_Lime=.80\n",
"Purity_soda=.90\n",
"W1=7.1;//amount of Mg(HCO3)2 in ppm//\n",
"W2=8.1;//amount of Ca(HCO3)2 in ppm//\n",
"W3=4.2;//amount of MgCO3 in ppm//\n",
"W4=10;//amount of CaCO3 in ppm//\n",
"M1=100/142;//multiplication factor of Mg(HCO3)2//\n",
"M2=100/162;//multiplication factor of Ca(HCO3)2//\n",
"M3=100/84;//multiplication factor of MgCO3//\n",
"M4=100/100//multiplication factor of CaCO3//\n",
"P1=W1*M1;//in terms of CaCO3//L\n",
"P2=W2*M2;//in terms of CaCO3//L\n",
"P3=W3*M3;//in terms of CaCO3//L\n",
"P4=W4*M4;//in terms of CaCO3//L\n",
"V=100000;//volume of water in litres//\n",
"L=0.74*(P1*2+P2+P3*2+P4)*V/Purity_Lime;//lime required in mg//\n",
"L=L/10^6;\n",
"printf('\nQuantity of Lime required is %.4fkg',L);\n",
"S=1.06*(0)*V/Purity_soda;//soda required in mg//\n",
"S=S/10^6;\n",
"printf('\nQuantity of Soda required is %.0fkg',S)"
   ]
   }
,
{
		   "cell_type": "markdown",
		   "metadata": {},
		   "source": [
			"## Example 2.18_38: calculation_of_required_lime_and_soda.sce"
		   ]
		  },
  {
"cell_type": "code",
	   "execution_count": null,
	   "metadata": {
	    "collapsed": true
	   },
	   "outputs": [],
"source": [
"//water and its treatment//\n",
"//example 2.18.38//\n",
"clc    \n",
"Purity_Lime=.85\n",
"Purity_soda=.90\n",
"W1=95;//amount of MgCl2 in ppm//\n",
"W2=272;//amount of CaSO4 in ppm//\n",
"W3=120;//amount of MgSO4 in ppm//\n",
"W4=49;//amount of CaSO4 in ppm//\n",
"W5=4;//amount of SiO2 in ppm//\n",
"M1=100/95;//multiplication factor of CaCO3//\n",
"M2=100/136;//multiplication factor of MgCl2//\n",
"M3=100/120;//multiplication factor of HCl//\n",
"M4=100/98//multiplication factor of Al2(SO4)3//\n",
"P1=W1*M1;//in terms of CaCO3//L\n",
"P2=W2*M2;//in terms of CaCO3//S \n",
"P3=W3*M3;//in terms of CaCO3//L+S\n",
"P4=W4*M4;//in terms of CaCO3//L+S\n",
"printf ('We do not take SiO2 since it does not react with lime/soda');\n",
"V=10000;//volume of water in litres//\n",
"L=0.74*(P1+P3+P4)*V/Purity_Lime;//lime required in mg//\n",
"L=L/10^6;\n",
"printf('\nLime required is %.4fkg',L);\n",
"S=1.06*(P1+P2+P3)*V/Purity_soda;//soda required in mg//\n",
"S=S/10^6;\n",
"printf('\nSoda required is %.3fkg',S)"
   ]
   }
,
{
		   "cell_type": "markdown",
		   "metadata": {},
		   "source": [
			"## Example 2.18_39: calculation_of_required_lime_and_soda.sce"
		   ]
		  },
  {
"cell_type": "code",
	   "execution_count": null,
	   "metadata": {
	    "collapsed": true
	   },
	   "outputs": [],
"source": [
"//water and its treatment//\n",
"//example 2.18.39//\n",
"clc    \n",
"Purity_Lime=.90\n",
"Purity_soda=1\n",
"W1=136;//amount of CaSO4 in ppm//\n",
"W2=49;//amount of H2SO4 in ppm//\n",
"W3=95;//amount of MgCl2 in ppm//\n",
"W4=60;//amount of MgSO4 in ppm//\n",
"W5=50;//amount of SiO2 in ppm//\n",
"M1=100/136;//multiplication factor of CaSO4//\n",
"M2=100/98;//multiplication factor of H2SO4//\n",
"M3=100/95;//multiplication factor of MgCl2//\n",
"M4=100/120//multiplication factor of MgSO4//\n",
"P1=W1*M1;//in terms of CaCO3//S\n",
"P2=W2*M2;//in terms of CaCO3//L+S \n",
"P3=W3*M3;//in terms of CaCO3//S\n",
"P4=W4*M4;//in terms of CaCO3//S\n",
"printf ('We do not take SiO2 since it does not react with lime/soda');\n",
"V=1000000;//volume of water in litres//\n",
"L=0.74*(P2)*V/Purity_Lime;//lime required in mg//\n",
"L=L/10^6;\n",
"printf('\nQuantity of Lime required is %.2fkg',L);\n",
"S=1.06*(P1+P3+P4)*V/Purity_soda;//soda required in mg//\n",
"S=S/10^6;\n",
"printf('\nQuantity of Soda required is %.0fkg',S)"
   ]
   }
,
{
		   "cell_type": "markdown",
		   "metadata": {},
		   "source": [
			"## Example 2.18_3: hardness_calculation.sce"
		   ]
		  },
  {
"cell_type": "code",
	   "execution_count": null,
	   "metadata": {
	    "collapsed": true
	   },
	   "outputs": [],
"source": [
"//water and its treatment//\n",
"//example 2.18.3//\n",
"clc\n",
"W1=29.1;//Mg(HCO3)2 in water in mg/lit//\n",
"W2=40.5;//Ca(HCO3)2 in water in mg/lit//\n",
"W3=11.1;//CaCl2 in water in mg/lit//\n",
"W4=15.82;//MgCl2 in water in mg/lit//\n",
"W5=28.5;//NaCl in water in mg/lit//\n",
"W6=22.0;//CO2 in water in mg/lit//\n",
"M1=100/146.007;//multiplication factor of Mg(HCO3)2//\n",
"M2=100/162;//multiplication factor of Ca(HCO3)2//\n",
"M3=100/111;//multiplication factor of CaCl2//\n",
"M4=100/95.005;//multiplication factor of MgCl2//\n",
"P1=W1*M1;//Mg(HCO3)2 in terms of CaCO3//\n",
"P2=W2*M2;//Ca(HCO3)2 in terms of CaCO3//\n",
"P3=W3*M3;//CaCl2  in terms of CaCO3//\n",
"P4=W4*M4;//MgCl2 in terms of CaCO3//\n",
"printf ('We do not take NaCl and CO2 since they do not contribute to hardness ');\n",
"C=P1+P2;\n",
"printf('\nCarbonate hardness is %.3f mg/l or ppm',C);\n",
"NC=P3+P4;\n",
"printf('\nNon Carbonate hardness is %.3f mg/l or ppm',NC);"
   ]
   }
,
{
		   "cell_type": "markdown",
		   "metadata": {},
		   "source": [
			"## Example 2.18_40: calculation_of_required_lime_and_soda.sce"
		   ]
		  },
  {
"cell_type": "code",
	   "execution_count": null,
	   "metadata": {
	    "collapsed": true
	   },
	   "outputs": [],
"source": [
"//water and its treatment//\n",
"//example 2.18.40//\n",
"clc    \n",
"Purity_Lime=.74\n",
"Purity_soda=.90\n",
"W1=73;//amount of Mg(HCO3)2 in ppm//\n",
"W2=120;//amount of MgSO4 in ppm//\n",
"W3=22.2;//amount of CaCl2 in ppm//\n",
"W4=164;//amount of Ca(NO3)3 in ppm//\n",
"W5=15;//amount of SiO2 in ppm//\n",
"M1=100/146;//multiplication factor of Mg(HCO3)2//\n",
"M2=100/120;//multiplication factor of MgSO4//\n",
"M3=100/111;//multiplication factor of CaCl2//\n",
"M4=100/164//multiplication factor of Ca(NO3)2//\n",
"P1=W1*M1;//in terms of CaCO3//L\n",
"P2=W2*M2;//in terms of CaCO3//L+S \n",
"P3=W3*M3;//in terms of CaCO3//S\n",
"P4=W4*M4;//in terms of CaCO3//S\n",
"printf ('We do not take SiO2 since it does not react with lime/soda');\n",
"V=5000;//volume of water in litres//\n",
"L=0.74*(P1*2+P2)*V/Purity_Lime;//lime required in mg//\n",
"L=L/10^6;\n",
"printf('\nLime required is %.0fkg',L);\n",
"S=1.06*(P2+P3+P4)*V/Purity_soda;//soda required in mg//\n",
"S=S/10^6;\n",
"printf('\nSoda required is %.1fkg',S)"
   ]
   }
,
{
		   "cell_type": "markdown",
		   "metadata": {},
		   "source": [
			"## Example 2.18_41: calculation_of_required_lime_and_soda.sce"
		   ]
		  },
  {
"cell_type": "code",
	   "execution_count": null,
	   "metadata": {
	    "collapsed": true
	   },
	   "outputs": [],
"source": [
"//water and its treatment//\n",
"//example 2.18.41//\n",
"clc    \n",
"Purity_Lime=.85\n",
"Purity_soda=.90\n",
"W1=95;//amount of MgCl2 in ppm//\n",
"W2=272;//amount of CaSO4 in ppm//\n",
"W3=120;//amount of MgSO4 in ppm//\n",
"W4=49;//amount of H2SO4 in ppm//\n",
"W5=4;//amount of SiO2 in ppm//\n",
"M1=100/95;//multiplication factor of MgCl2//\n",
"M2=100/136;//multiplication factor of CaSO4//\n",
"M3=100/120;//multiplication factor of MgSO4//\n",
"M4=100/98//multiplication factor of H2SO4//\n",
"P1=W1*M1;//in terms of CaCO3//L+S\n",
"P2=W2*M2;//in terms of CaCO3//S \n",
"P3=W3*M3;//in terms of CaCO3//L+S\n",
"P4=W4*M4;//in terms of CaCO3//L+S\n",
"printf ('We do not take SiO2 since it does not react with lime/soda');\n",
"V=10000;//volume of water in litres//\n",
"L=0.74*(P1+P3+P4)*V/Purity_Lime;//lime required in mg//\n",
"L=L/10^6;\n",
"printf('\nLime required is %.2fkg',L);\n",
"S=1.06*(P1+P2+P3+P4)*V/Purity_soda;//soda required in mg//\n",
"S=S/10^6;\n",
"printf('\nSoda required is %.1fkg',S)"
   ]
   }
,
{
		   "cell_type": "markdown",
		   "metadata": {},
		   "source": [
			"## Example 2.18_42: calculation_of_required_lime_and_soda.sce"
		   ]
		  },
  {
"cell_type": "code",
	   "execution_count": null,
	   "metadata": {
	    "collapsed": true
	   },
	   "outputs": [],
"source": [
"//water and its treatment//\n",
"//example 2.18.42//\n",
"clc    \n",
"W1=10;//amount of CaCO3 in ppm//\n",
"W2=14.6;//amount of Mg(HCO3)2 in ppm//\n",
"W3=4.4;//amount of CO2 in ppm//\n",
"W4=22.2;//amount of CaCl2 in ppm//\n",
"W5=9.5;//amount of MgCl2 in ppm//\n",
"W6=2.8;//amount of SiO2 in ppm//\n",
"M1=100/100;//multiplication factor of CaCO3//\n",
"M2=100/146;//multiplication factor of Mg(HCO3)2//\n",
"M3=100/44;//multiplication factor of CO2//\n",
"M4=100/111//multiplication factor of CaCl2//\n",
"M5=100/95;//multiplication factor of MgCl2/\n",
"P1=W1*M1;//in terms of CaCO3//L\n",
"P2=W2*M2;//in terms of CaCO3//L \n",
"P3=W3*M3;//in terms of CaCO3//L\n",
"P4=W4*M4;//in terms of CaCO3//S\n",
"P5=W5*M5;//in terms of CaCO3//L+S\n",
"printf ('We do not take SiO2 since it does not react with lime/soda');\n",
"V=50000;//volume of water in litres//\n",
"L=0.74*(P1+P2+P3+P5)*V;//lime required in mg//\n",
"L=L/10^6;\n",
"printf('\nLime required is %.2fkg',L);\n",
"S=1.06*(P4+P5)*V;//soda required in mg//\n",
"S=S/10^6;\n",
"printf('\nSoda required is %.2fkg',S)"
   ]
   }
,
{
		   "cell_type": "markdown",
		   "metadata": {},
		   "source": [
			"## Example 2.18_43: calculation_of_required_lime_and_soda.sce"
		   ]
		  },
  {
"cell_type": "code",
	   "execution_count": null,
	   "metadata": {
	    "collapsed": true
	   },
	   "outputs": [],
"source": [
"//water and its treatment//\n",
"//example 2.18.43//\n",
"clc    \n",
"Purity_Lime=.92\n",
"Purity_soda=.95\n",
"W1=68.2;//amount of CaCO3 in ppm//\n",
"W2=29.6;//amount of Mg(NO3)2 in ppm//\n",
"W3=58.4;//amount of Mg(HCO3)2 in ppm//\n",
"W4=36;//amount of MgSO4 in ppm//\n",
"W5=95;//amount of MgCl2 in ppm//\n",
"W6=27.2;//amount of CaSO4 in ppm//\n",
"W7=19.3;//amount of Fe2O3 in ppm//\n",
"M1=100/100;//multiplication factor of CaCO3//\n",
"M2=100/148;//multiplication factor of Mg(NO3)2//\n",
"M3=100/146;//multiplication factor of Mg(HCO3)2//\n",
"M4=100/120//multiplication factor of MgSO4//\n",
"M5=100/95;//multiplication factor of MgCl2//\n",
"M6=100/136;//multiplication factor of CaSO4//\n",
"P1=W1*M1;//in terms of CaCO3//L\n",
"P2=W2*M2;//in terms of CaCO3//S \n",
"P3=W3*M3;//in terms of CaCO3//L\n",
"P4=W4*M4;//in terms of CaCO3//L+S\n",
"P5=W5*M5;//in terms of CaCO3//L+S\n",
"P6=W6*M6;//in terms of CaCO3//S\n",
"printf ('We do not take Fe2O3 since it does not react with lime/soda');\n",
"V=15000;//volume of water in litres//\n",
"L=0.74*(P1+P3+P4+P5)*V/Purity_Lime;//lime required in mg//\n",
"L=L/10^6;\n",
"printf('\nLime required is %.3fkg',L);\n",
"S=1.06*(P2+P4+P5+P6)*V/Purity_soda;//soda required in mg//\n",
"S=S/10^6;\n",
"printf('\nSoda required is %.3fkg',S)"
   ]
   }
,
{
		   "cell_type": "markdown",
		   "metadata": {},
		   "source": [
			"## Example 2.18_44_A: calculation_of_required_lime_and_soda.sce"
		   ]
		  },
  {
"cell_type": "code",
	   "execution_count": null,
	   "metadata": {
	    "collapsed": true
	   },
	   "outputs": [],
"source": [
"//water and its treatment//\n",
"//example 2.18.44.A//\n",
"clc    \n",
"Purity_Lime=.90\n",
"Purity_soda=.90\n",
"W1=146;//amount of Mg(HCO3)2 in ppm//\n",
"W2=81;//amount of Ca(HCO3)2 in ppm//\n",
"W3=15;//amount of Na2SO4 in ppm//\n",
"W4=95;//amount of MgCl2 in ppm//\n",
"W5=111;//amount of CaCl2 in ppm//\n",
"W6=10;//amount of SiO2 in ppm//\n",
"M1=100/146;//multiplication factor of Mg(HCO3)2//\n",
"M2=100/162.7;//multiplication factor of Ca(HCO3)2//\n",
"M4=100/95.07;//multiplication factor of MgCl2//\n",
"M5=100/111//multiplication factor of CaCl2//\n",
"P1=W1*M1;//in terms of CaCO3//L\n",
"P2=W2*M2;//in terms of CaCO3//L \n",
"P4=W4*M4;//in terms of CaCO3//L+S\n",
"P5=W5*M5;//in terms of CaCO3//L+S\n",
"printf ('We do not take Na2SO4 and SiO2 since they do not react with lime/soda');\n",
"V=100000;//volume of water in litres//\n",
"L=0.74*(P1+P2*2+P4+P5)*V/Purity_Lime;//lime required in mg//\n",
"L=L/10^6;\n",
"printf('\nLime required is %.1fkg',L);\n",
"S=1.06*(P4+P5)*V/Purity_soda;//soda required in mg//\n",
"S=S/10^6;\n",
"printf('\nSoda required is %.2fkg',S)"
   ]
   }
,
{
		   "cell_type": "markdown",
		   "metadata": {},
		   "source": [
			"## Example 2.18_44_B: calculation_of_required_lime_and_soda.sce"
		   ]
		  },
  {
"cell_type": "code",
	   "execution_count": null,
	   "metadata": {
	    "collapsed": true
	   },
	   "outputs": [],
"source": [
"//water and its treatment//\n",
"//example 2.18.44.B//\n",
"clc    \n",
"Purity_Lime=.85\n",
"Purity_soda=.90\n",
"W1=16.2;//amount of Ca(HCO3)2 in ppm//\n",
"W2=6.8;//amount of CaSO4 in ppm//\n",
"W3=11.1;//amount of CaCl2 in ppm//\n",
"W4=6;//amount of MgSO4 in ppm//\n",
"W5=8.4;//amount of Mg(HCO3)2 in ppm//\n",
"W6=8;//amount of SiO2 in ppm//\n",
"M1=100/162;//multiplication factor of Ca(HCO3)2//\n",
"M2=100/136;//multiplication factor of CaSO4//\n",
"M3=100/111;//multiplication factor of CaCl2//\n",
"M4=100/120//multiplication factor of MgSO4//\n",
"M5=100/146//multiplication factor of Mg(HCO3)2//\n",
"P1=W1*M1;//in terms of CaCO3//L\n",
"P2=W2*M2;//in terms of CaCO3//L+S \n",
"P3=W3*M3;//in terms of CaCO3//L+S\n",
"P4=W4*M4;//in terms of CaCO3//L+S\n",
"P5=W5*M5;//in terms of CaCO3//L\n",
"printf ('We do not take SiO2 since it does not react with lime/soda');\n",
"V=1000000;//volume of water in litres//\n",
"L=0.74*(P1+P4+P5*2)*V/Purity_Lime;//lime required in mg//\n",
"L=L/10^6;\n",
"printf('\nLime required is %.3fkg',L);\n",
"S=1.06*(P2+P3+P4)*V/Purity_soda;//soda required in mg//\n",
"S=S/10^6;\n",
"printf('\nSoda required is %.2fkg',S)"
   ]
   }
,
{
		   "cell_type": "markdown",
		   "metadata": {},
		   "source": [
			"## Example 2.18_44: calculation_of_required_lime_and_soda.sce"
		   ]
		  },
  {
"cell_type": "code",
	   "execution_count": null,
	   "metadata": {
	    "collapsed": true
	   },
	   "outputs": [],
"source": [
"//water and its treatment//\n",
"//example 2.18.44//\n",
"clc    \n",
"Purity_Lime=.85\n",
"Purity_soda=.95\n",
"W1=49.95;//amount of CaCl2 in ppm//\n",
"W2=42;//amount of MgSO4 in ppm//\n",
"W3=12.6;//amount of NaHCO3 in ppm//\n",
"W4=10;//amount of SiO2 in ppm//\n",
"W5=500;//amount of NaCl in ppm//\n",
"W6=51.1;//amount of Mg(HCO3)2 in ppm//\n",
"W7=3;//amount of CO2 in ppm//\n",
"W8=3;//amount of Fe2+ in ppm//\n",
"W9=15;//amount of AlCl3 in ppm//\n",
"M1=100/111;//multiplication factor of CaCl2//\n",
"M2=100/120;//multiplication factor of MgSO4//\n",
"M6=100/146;//multiplication factor of Mg(HCO3)2//\n",
"M7=100/44.3//multiplication factor of CO2//\n",
"M8=100/55;//multiplication factor of Fe2+//\n",
"M9=100/133.5//multiplication factor of AlCl3//\n",
"P1=W1*M1;//in terms of CaCO3//S\n",
"P2=W2*M2;//in terms of CaCO3//L+S \n",
"P6=W6*M6;//in terms of CaCO3//L\n",
"P7=W7*M7;//in terms of CaCO3//L\n",
"P8=W8*M8;//in terms of CaCO3//L+S\n",
"P9=W9*M9;//in terms of CaCO3//L+S\n",
"printf ('We do not take NaHCO3, NaCl and Mg(HCO3)2 since they do not react with lime/soda');\n",
"V=1000000;//volume of water in litres//\n",
"L=0.74*(P2+P6*2+P7+P8+P9)*V/Purity_Lime;//lime required in mg//\n",
"L=L/10^6;\n",
"printf('\nLime required is %.1fkg',L);\n",
"S=1.06*(P1+P2+P8+P9)*V/Purity_soda;//soda required in mg//\n",
"S=S/10^6;\n",
"printf('\nSoda required is %.1fkg',S)"
   ]
   }
,
{
		   "cell_type": "markdown",
		   "metadata": {},
		   "source": [
			"## Example 2.18_44_C: calculation_of_required_lime_and_soda.sce"
		   ]
		  },
  {
"cell_type": "code",
	   "execution_count": null,
	   "metadata": {
	    "collapsed": true
	   },
	   "outputs": [],
"source": [
"//water and its treatment//\n",
"//example 2.18.44.C//\n",
"clc    \n",
"Purity_Lime=.90\n",
"Purity_soda=.95\n",
"W1=81;//amount of Ca(HCO3)2 in ppm//\n",
"W2=42;//amount of MgCO3 in ppm//\n",
"W3=4.1;//amount of NaAlO2 in ppm//\n",
"W4=3.65;//amount of HCl in ppm//\n",
"W5=82;//amount of Ca(NO3)2 in ppm//\n",
"W6=4.5;//amount of NaCl in ppm//\n",
"M1=100/162;//multiplication factor of Ca(HCO3)2//\n",
"M2=100/84;//multiplication factor of MgCO3//\n",
"M3=100/82;//multiplication factor of NaAlO2//\n",
"M4=100/36.5//multiplication factor of HCl//\n",
"P1=W1*M1;//in terms of CaCO3//L\n",
"P2=W2*M2;//in terms of CaCO3//L \n",
"P3=W3*M3;//in terms of CaCO3//-L-S\n",
"P4=W4*M4;//in terms of CaCO3//L+S\n",
"printf ('We do not take Ca(NO3)2 and NaCl since they do not react with lime/soda');\n",
"V=20000;//volume of water in litres//\n",
"L=0.74*(P1+P2*2-P3+P4)*V/Purity_Lime;//lime required in mg//\n",
"L=L/10^6;\n",
"printf('\nLime required is %.3fkg',L);\n",
"S=1.06*(P4-P3)*V/Purity_soda;//soda required in mg//\n",
"S=S/10^6;\n",
"printf('\nSoda required is %.1fkg',S)"
   ]
   }
,
{
		   "cell_type": "markdown",
		   "metadata": {},
		   "source": [
			"## Example 2.18_44_D: Calculation_of_hardness_using_Zeolite_process.sce"
		   ]
		  },
  {
"cell_type": "code",
	   "execution_count": null,
	   "metadata": {
	    "collapsed": true
	   },
	   "outputs": [],
"source": [
"//water and its treatment//\n",
"//example 2.18.44.D//\n",
"clc\n",
"volume_hardwater=7000//in litres//\n",
"volume_NaCl=60//Volume of NaCl in litres//\n",
"conc_NaCl=10//% NaCl consumed by zeolite bed//\n",
"Wt_per_Litre=conc_NaCl*10//gms NaCl consumed by zeolite bed per litre//\n",
"total_wt=Wt_per_Litre*volume_NaCl//total gms NaCl consumed by zeolite bed//\n",
"CaCO3_equivalent=total_wt*50/58.5//in terms of (gms/lit)//\n",
"H=CaCO3_equivalent/volume_hardwater//Hardness of water(gms/lit)//\n",
"Hardness=H*1000//Hardness of water(mg/lit) or ppm//\n",
"printf('\nCaCO3 equivalent is %.1f gms',CaCO3_equivalent);\n",
"printf('\nHardness of water is %.1fppm',Hardness);"
   ]
   }
,
{
		   "cell_type": "markdown",
		   "metadata": {},
		   "source": [
			"## Example 2.18_45: Hardwater_quantity_softened_using_Zeolite_process.sce"
		   ]
		  },
  {
"cell_type": "code",
	   "execution_count": null,
	   "metadata": {
	    "collapsed": true
	   },
	   "outputs": [],
"source": [
"//water and its treatment//\n",
"//example 2.18.45//\n",
"clc\n",
"Hardness=250//Hardness of water(mg/lit) or ppm//\n",
"H=Hardness/1000//Hardness of water(gms/lit)//\n",
"volume_NaCl=50//Volume of NaCl//\n",
"conc_NaCl=15//% NaCl consumed by zeolite bed//\n",
"Wt_per_Litre=conc_NaCl*10//gms NaCl consumed by zeolite bed per litre//\n",
"total_wt=Wt_per_Litre*volume_NaCl//total gms NaCl consumed by zeolite bed//\n",
"CaCO3_equivalent=total_wt*50/58.5//in terms of (gms/lit)//\n",
"volume_hardwater=CaCO3_equivalent/H\n",
"printf('\nCaCO3 equivalent is %.f mgs',CaCO3_equivalent*1000);\n",
"printf('\nQuantity of water softened using zeolite bed is %.f litres',volume_hardwater);"
   ]
   }
,
{
		   "cell_type": "markdown",
		   "metadata": {},
		   "source": [
			"## Example 2.18_46: NaCl_required_for_zeolite_bed_regeneration.sce"
		   ]
		  },
  {
"cell_type": "code",
	   "execution_count": null,
	   "metadata": {
	    "collapsed": true
	   },
	   "outputs": [],
"source": [
"//water and its treatment//\n",
"//example 2.18.46//\n",
"clc\n",
"volume_hardwater=5000//in litres//\n",
"H=250//Hardness of water(mg/lit) or ppm//\n",
"Hardness=H/1000//Hardness of water(gms/lit)//\n",
"CaCO3_equivalent=volume_hardwater*Hardness//in terms of (gms/lit)//\n",
"conc_NaCl=10//% NaCl consumed by zeolite bed//\n",
"Wt_per_Litre=conc_NaCl*10//gms NaCl consumed by zeolite bed per litre//\n",
"total_wt=CaCO3_equivalent*58.5/50//total gms NaCl consumed by zeolite bed//\n",
"volume_NaCl=total_wt/Wt_per_Litre//in litres//\n",
"printf('\nVolume of NaCl solution required is %.3f litres',volume_NaCl);"
   ]
   }
,
{
		   "cell_type": "markdown",
		   "metadata": {},
		   "source": [
			"## Example 2.18_47: NaCl_required_for_zeolite_bed_regeneration.sce"
		   ]
		  },
  {
"cell_type": "code",
	   "execution_count": null,
	   "metadata": {
	    "collapsed": true
	   },
	   "outputs": [],
"source": [
"//water and its treatment//\n",
"//example 2.18.47//\n",
"clc\n",
"volume_hardwater=20//in litres//\n",
"H=375//Hardness of water(mg/lit) or ppm//\n",
"CaCO3_equivalent=volume_hardwater*H//in terms of (gms/lit)//\n",
"conc_NaCl=20//% NaCl consumed by zeolite bed//\n",
"Wt_per_Litre=conc_NaCl*10//gms NaCl consumed by zeolite bed per litre//\n",
"total_wt=CaCO3_equivalent*58.5/50//total gms NaCl consumed by zeolite bed//\n",
"volume_NaCl=total_wt/Wt_per_Litre//in litres//\n",
"printf('\nVolume of NaCl solution required is %.f litres',volume_NaCl);"
   ]
   }
,
{
		   "cell_type": "markdown",
		   "metadata": {},
		   "source": [
			"## Example 2.18_48: Calculation_of_hardness_using_Zeolite_process.sce"
		   ]
		  },
  {
"cell_type": "code",
	   "execution_count": null,
	   "metadata": {
	    "collapsed": true
	   },
	   "outputs": [],
"source": [
"//water and its treatment//\n",
"//example 2.18.48//\n",
"clc\n",
"volume_hardwater=25000//in litres//\n",
"volume_NaCl=200//Volume of NaCl//\n",
"Wt_per_Litre=20//gms NaCl consumed by zeolite bed per litre//\n",
"total_wt=Wt_per_Litre*volume_NaCl//total gms NaCl consumed by zeolite bed//\n",
"CaCO3_equivalent=total_wt*50/58.5//in terms of (gms/lit)//\n",
"H=CaCO3_equivalent/volume_hardwater//Hardness of water(gms/lit)//\n",
"Hardness=H*1000//Hardness of water(mg/lit) or ppm//\n",
"printf('\nHardness of water sample is %.1fppm',Hardness);"
   ]
   }
,
{
		   "cell_type": "markdown",
		   "metadata": {},
		   "source": [
			"## Example 2.18_49: Calculation_of_hardness_using_Zeolite_process.sce"
		   ]
		  },
  {
"cell_type": "code",
	   "execution_count": null,
	   "metadata": {
	    "collapsed": true
	   },
	   "outputs": [],
"source": [
"//water and its treatment//\n",
"//example 2.18.49//\n",
"clc\n",
"volume_hardwater=10^4//in litres//\n",
"volume_NaCl=80//Volume of NaCl//\n",
"conc_NaCl=1000//mg NaCl consumed by zeolite bed per litre//\n",
"Wt_per_Litre=conc_NaCl/1000//gms NaCl consumed by zeolite bed per litre//\n",
"total_wt=Wt_per_Litre*volume_NaCl//total gms NaCl consumed by zeolite bed//\n",
"CaCO3_equivalent=total_wt*50/58.5//in terms of (gms/lit)//\n",
"H=CaCO3_equivalent/volume_hardwater//Hardness of water(gms/lit)//\n",
"Hardness=H*1000//Hardness of water(mg/lit) or ppm//\n",
"printf('\nCaCO3 equivalent is %.f mg',CaCO3_equivalent*1000);\n",
"printf('\nHardness of water is %.2f mg/lit',Hardness);"
   ]
   }
,
{
		   "cell_type": "markdown",
		   "metadata": {},
		   "source": [
			"## Example 2.18_4: hardness_calculation.sce"
		   ]
		  },
  {
"cell_type": "code",
	   "execution_count": null,
	   "metadata": {
	    "collapsed": true
	   },
	   "outputs": [],
"source": [
"//water and its treatment//\n",
"//example 2.18.4//\n",
"clc\n",
"W1=16.2;//Ca(HCO3)2 in water in mg/lit//\n",
"W2=14.6;//Mg(HCO3)2 in water in mg/lit//\n",
"W3=9.5;//MgCl2 in water in mg/lit//\n",
"W4=48;//MgSO4 in water in mg/lit//\n",
"W5=12;//KCl in water in mg/lit//\n",
"M1=100/162;//multiplication factor of Ca(HCO3)2//\n",
"M2=100/146;//multiplication factor of Mg(HCO3)2 //\n",
"M3=100/95;//multiplication factor of MgCl2//\n",
"M4=100/120;//multiplication factor of MgSO4//\n",
"P1=W1*M1;//Ca(HCO3)2 in terms of CaCO3//\n",
"P2=W2*M2;//Mg(HCO3)2  in terms of CaCO3//\n",
"P3=W3*M3;//MgCl2  in terms of CaCO3//\n",
"P4=W4*M4;//MgSO4 in terms of CaCO3//\n",
"printf ('We do not take KCl since it does not contribute to hardness ');\n",
"C=P1+P2;\n",
"printf('\nCarbonate hardness is %.0f mg/l or ppm',C);\n",
"NC=P3+P4;\n",
"printf('\nNon Carbonate hardness is %.0f mg/l or ppm',NC);"
   ]
   }
,
{
		   "cell_type": "markdown",
		   "metadata": {},
		   "source": [
			"## Example 2.18_50: Calculation_of_hardness_using_Zeolite_process.sce"
		   ]
		  },
  {
"cell_type": "code",
	   "execution_count": null,
	   "metadata": {
	    "collapsed": true
	   },
	   "outputs": [],
"source": [
"//water and its treatment//\n",
"//example 2.18.50//\n",
"clc\n",
"volume_hardwater=75000//in litres//\n",
"volume_NaCl=117//Volume of NaCl in litres//\n",
"conc_NaCl=1500//mg NaCl consumed by zeolite bed per litre//\n",
"Wt_per_Litre=conc_NaCl/1000//gms NaCl consumed by zeolite bed per litre//\n",
"total_wt=Wt_per_Litre*volume_NaCl//total gms NaCl consumed by zeolite bed//\n",
"CaCO3_equivalent=total_wt*50/58.5//in terms of (gms/lit)//\n",
"H=CaCO3_equivalent/volume_hardwater//Hardness of water(gms/lit)//\n",
"Hardness=H*1000//Hardness of water(mg/lit) or ppm//\n",
"printf('\nCaCO3 equivalent is %.f mg',CaCO3_equivalent*1000);\n",
"printf('\nHardness of water is %.f ppm',Hardness);"
   ]
   }
,
{
		   "cell_type": "markdown",
		   "metadata": {},
		   "source": [
			"## Example 2.18_51: Hardwater_quantity_softened_using_Zeolite_process.sce"
		   ]
		  },
  {
"cell_type": "code",
	   "execution_count": null,
	   "metadata": {
	    "collapsed": true
	   },
	   "outputs": [],
"source": [
"//water and its treatment//\n",
"//example 2.18.51//\n",
"clc\n",
"Hardness=600//Hardness of water(mg/lit) or ppm//\n",
"H=Hardness/1000//Hardness of water(gms/lit)//\n",
"volume_NaCl=300//Volume of NaCl//\n",
"Wt_per_Litre=75//gms NaCl consumed by zeolite bed per litre//\n",
"total_wt=Wt_per_Litre*volume_NaCl//total gms NaCl consumed by zeolite bed//\n",
"CaCO3_equivalent=total_wt*50/58.5//in terms of (gms/lit)//\n",
"volume_hardwater=CaCO3_equivalent/H\n",
"printf('\nCaCO3 equivalent is %.2f mgs',CaCO3_equivalent*1000);\n",
"printf('\nQuantity of water softened using zeolite bed is %.2f litres',volume_hardwater);"
   ]
   }
,
{
		   "cell_type": "markdown",
		   "metadata": {},
		   "source": [
			"## Example 2.18_52: Hardwater_quantity_softened_using_Zeolite_process.sce"
		   ]
		  },
  {
"cell_type": "code",
	   "execution_count": null,
	   "metadata": {
	    "collapsed": true
	   },
	   "outputs": [],
"source": [
"//water and its treatment//\n",
"//example 2.18.52//\n",
"clc\n",
"Hardness=50//Hardness of water(mg/lit) or ppm//\n",
"H=Hardness/1000//Hardness of water(gms/lit)//\n",
"volume_NaCl=100//Volume of NaCl//\n",
"conc_NaCl=1200//mgs NaCl consumed by zeolite bed per litre//\n",
"Wt_per_Litre=conc_NaCl/1000//gms NaCl consumed by zeolite bed per litre//\n",
"total_wt=Wt_per_Litre*volume_NaCl//total gms NaCl consumed by zeolite bed//\n",
"CaCO3_equivalent=total_wt*50/58.5//in terms of (gms/lit)//\n",
"volume_hardwater=CaCO3_equivalent/H\n",
"printf('\nCaCO3 equivalent is %.2f mgs',CaCO3_equivalent*1000);\n",
"printf('\nQuantity of water softened using zeolite bed is %.f litres',volume_hardwater);"
   ]
   }
,
{
		   "cell_type": "markdown",
		   "metadata": {},
		   "source": [
			"## Example 2.18_53: Calculation_of_hardness_using_Zeolite_process.sce"
		   ]
		  },
  {
"cell_type": "code",
	   "execution_count": null,
	   "metadata": {
	    "collapsed": true
	   },
	   "outputs": [],
"source": [
"//water and its treatment//\n",
"//example 2.18.53//\n",
"clc\n",
"volume_hardwater=75000//in litres//\n",
"volume_NaCl=1500//Volume of NaCl in litres//\n",
"conc_NaCl=117//mgs NaCl consumed by zeolite bed per litre//\n",
"Wt_per_Litre=conc_NaCl/1000//gms NaCl consumed by zeolite bed per litre//\n",
"total_wt=Wt_per_Litre*volume_NaCl//total gms NaCl consumed by zeolite bed//\n",
"CaCO3_equivalent=total_wt*50/58.5//in terms of (gms/lit)//\n",
"H=CaCO3_equivalent/volume_hardwater//Hardness of water(gms/lit)//\n",
"Hardness=H*1000//Hardness of water(mg/lit) or ppm//\n",
"printf('\nHardness of water is %.fppm or mg/lit',Hardness);"
   ]
   }
,
{
		   "cell_type": "markdown",
		   "metadata": {},
		   "source": [
			"## Example 2.18_54: Hardwater_quantity_softened_using_Zeolite_process.sce"
		   ]
		  },
  {
"cell_type": "code",
	   "execution_count": null,
	   "metadata": {
	    "collapsed": true
	   },
	   "outputs": [],
"source": [
"//water and its treatment//\n",
"//example 2.18.54//\n",
"clc\n",
"Hardness=500//Hardness of water(mg/lit) or ppm//\n",
"H=Hardness/1000//Hardness of water(gms/lit)//\n",
"volume_NaCl=1000//Volume of NaCl//\n",
"Wt_per_Litre=100//gms NaCl consumed by zeolite bed per litre//\n",
"total_wt=Wt_per_Litre*volume_NaCl//total gms NaCl consumed by zeolite bed//\n",
"CaCO3_equivalent=total_wt*50/58.5//in terms of (gms/lit)//\n",
"volume_hardwater=CaCO3_equivalent/H\n",
"printf('\nQuantity of water softened using zeolite bed is %.f litres',volume_hardwater);"
   ]
   }
,
{
		   "cell_type": "markdown",
		   "metadata": {},
		   "source": [
			"## Example 2.18_55: Hardwater_quantity_softened_using_Zeolite_process.sce"
		   ]
		  },
  {
"cell_type": "code",
	   "execution_count": null,
	   "metadata": {
	    "collapsed": true
	   },
	   "outputs": [],
"source": [
"//water and its treatment//\n",
"//example 2.18.55//\n",
"clc\n",
"Hardness=450//Hardness of water(mg/lit) or ppm//\n",
"H=Hardness/1000//Hardness of water(gms/lit)//\n",
"volume_NaCl=150//Volume of NaCl//\n",
"Wt_per_Litre=50//gms NaCl consumed by zeolite bed per litre//\n",
"total_wt=Wt_per_Litre*volume_NaCl//total gms NaCl consumed by zeolite bed//\n",
"CaCO3_equivalent=total_wt*50/58.505//in terms of (gms/lit)//\n",
"volume_hardwater=CaCO3_equivalent/H\n",
"printf('\nQuantity of water softened using zeolite bed is %.f litres',volume_hardwater);"
   ]
   }
,
{
		   "cell_type": "markdown",
		   "metadata": {},
		   "source": [
			"## Example 2.18_56: Hardwater_quantity_softened_using_Zeolite_process.sce"
		   ]
		  },
  {
"cell_type": "code",
	   "execution_count": null,
	   "metadata": {
	    "collapsed": true
	   },
	   "outputs": [],
"source": [
"//water and its treatment//\n",
"//example 2.18.56//\n",
"clc\n",
"Hardness=300//Hardness of water(mg/lit) or ppm//\n",
"H=Hardness/1000//Hardness of water(gms/lit)//\n",
"volume_NaCl=75//Volume of NaCl//\n",
"Wt_per_Litre=75//gms NaCl consumed by zeolite bed per litre//\n",
"total_wt=Wt_per_Litre*volume_NaCl//total gms NaCl consumed by zeolite bed//\n",
"CaCO3_equivalent=total_wt*50/58.595//in terms of (gms/lit)//\n",
"volume_hardwater=CaCO3_equivalent/H\n",
"printf('\nQuantity of water softened using zeolite bed is %.f litres',volume_hardwater);"
   ]
   }
,
{
		   "cell_type": "markdown",
		   "metadata": {},
		   "source": [
			"## Example 2.18_57: Calculation_of_hardness_using_Zeolite_process.sce"
		   ]
		  },
  {
"cell_type": "code",
	   "execution_count": null,
	   "metadata": {
	    "collapsed": true
	   },
	   "outputs": [],
"source": [
"//water and its treatment//\n",
"//example 2.18.57//\n",
"clc\n",
"volume_hardwater=800//in litres//\n",
"volume_NaCl=40//Volume of NaCl in litres//\n",
"Wt_per_Litre=110//gms NaCl consumed by zeolite bed per litre//\n",
"total_wt=Wt_per_Litre*volume_NaCl//total gms NaCl consumed by zeolite bed//\n",
"CaCO3_equivalent=total_wt*50/58.5//in terms of (gms/lit)//\n",
"H=CaCO3_equivalent/volume_hardwater//Hardness of water(gms/lit)//\n",
"Hardness=H*1000//Hardness of water(mg/lit) or ppm//\n",
"printf('\nCaCO3 equivalent is %.1f gms',CaCO3_equivalent);\n",
"printf('\nHardness of water is %.2fppm',Hardness);"
   ]
   }
,
{
		   "cell_type": "markdown",
		   "metadata": {},
		   "source": [
			"## Example 2.18_5: hardness_calculation.sce"
		   ]
		  },
  {
"cell_type": "code",
	   "execution_count": null,
	   "metadata": {
	    "collapsed": true
	   },
	   "outputs": [],
"source": [
"//water and its treatment//\n",
"//example 2.18.5//\n",
"clc\n",
"W1=81;//Ca(HCO3)2 in water in mg/lit//\n",
"W2=84;//MgCO3 in water in mg/lit//\n",
"W3=22.2;//CaCl2 in water in mg/lit//\n",
"W4=60;//MgSO4 in water in mg/lit//\n",
"W5=30;//KCl in water in mg/lit//\n",
"M1=100/162;//multiplication factor of Ca(HCO3)2//\n",
"M2=100/84;//multiplication factor of MgCO3//\n",
"M3=100/111;//multiplication factor of CaCl2//\n",
"M4=100/120;//multiplication factor of MgSO4//\n",
"P1=W1*M1;//Ca(HCO3)2 in terms of CaCO3//\n",
"P2=W2*M2;//MgCO3 in terms of CaCO3//\n",
"P3=W3*M3;//CaCl2  in terms of CaCO3//\n",
"P4=W4*M4;//MgSO4 in terms of CaCO3//\n",
"printf ('We do not take KCl since it does not contribute to hardness ');\n",
"T=P1+P2;\n",
"printf('\nTemporary hardness is %.0f mg/l or ppm',T);\n",
"P=P3+P4;\n",
"printf('\nPermanant hardness is %.0f mg/l or ppm',P);\n",
"To=T+P;\n",
"printf('\nTotal hardness is %.0f mg/l or ppm',To);"
   ]
   }
,
{
		   "cell_type": "markdown",
		   "metadata": {},
		   "source": [
			"## Example 2.18_6: hardness_calculation.sce"
		   ]
		  },
  {
"cell_type": "code",
	   "execution_count": null,
	   "metadata": {
	    "collapsed": true
	   },
	   "outputs": [],
"source": [
"//water and its treatment//\n",
"//example 2.18.6//\n",
"clc\n",
"W1=29.2;//MgCO3 in water in mg/lit//\n",
"W2=36;//MgSO4 in water in mg/lit//\n",
"W3=22.2;//CaCl2 in water in mg/lit//\n",
"W4=142.5;//MgCl2 in water in mg/lit//\n",
"M1=100/84;//multiplication factor of MgCO3//\n",
"M2=100/120;//multiplication factor of MgSO4//\n",
"M3=100/111;//multiplication factor of CaCl2//\n",
"M4=100/95;//multiplication factor of MgCl2//\n",
"P1=W1*M1;//MgCO3 in terms of CaCO3//\n",
"P2=W2*M2;//MgSO4 in terms of CaCO3//\n",
"P3=W3*M3;//CaCl2  in terms of CaCO3//\n",
"P4=W4*M4;//MgCl2 in terms of CaCO3//\n",
"T=P1;\n",
"printf('\nCarbonate hardness is %.2f mg/l or ppm',T);\n",
"P=P2+P3+P4;\n",
"printf('\nNon Carbonate hardness is %.0f mg/l or ppm',P);"
   ]
   }
,
{
		   "cell_type": "markdown",
		   "metadata": {},
		   "source": [
			"## Example 2.18_7_A: hardness_calculation.sce"
		   ]
		  },
  {
"cell_type": "code",
	   "execution_count": null,
	   "metadata": {
	    "collapsed": true
	   },
	   "outputs": [],
"source": [
"//water and its treatment//\n",
"//example 2.18.7.A//\n",
"clc\n",
"W1=32.4;//Ca(HCO3)2 in water in mg/lit//\n",
"W2=29.2;//Mg(HCO3)2 in water in mg/lit//\n",
"W3=13.5;//CaSO4 in water in mg/lit//\n",
"M1=100/162;//multiplication factor of Ca(HCO3)2//\n",
"M2=100/146;//multiplication factor of Mg(HCO3)2 //\n",
"M3=100/136;//multiplication factor of CaSO4//\n",
"P1=W1*M1;//Ca(HCO3)2 in terms of CaCO3//\n",
"P2=W2*M2;//Mg(HCO3)2  in terms of CaCO3//\n",
"P3=W3*M3;//CaSO4 in terms of CaCO3//\n",
"T=P1+P2;\n",
"printf('\nTemporary hardness is %.0f mg/l or ppm',T);\n",
"P=P3;\n",
"printf('\nPermanant hardness is %.0f mg/l or ppm',P);\n",
"To=T+P;\n",
"printf('\nTotal hardness is %.0f mg/l or ppm',To);"
   ]
   }
,
{
		   "cell_type": "markdown",
		   "metadata": {},
		   "source": [
			"## Example 2.18_7: hardness_in_different_systems.sce"
		   ]
		  },
  {
"cell_type": "code",
	   "execution_count": null,
	   "metadata": {
	    "collapsed": true
	   },
	   "outputs": [],
"source": [
"//water and its treatment//\n",
"//example 2.18.7//\n",
"clc\n",
"Hardness_ppm=304//ppm in terms of CaCO3//\n",
"Cl=0.07*Hardness_ppm//0.07 °Clarke =1 ppm//\n",
"Fr=0.1*Hardness_ppm//0.1 °French =1 ppm//\n",
"mgperlit=Hardness_ppm\n",
"printf('Hardness in terms of °Clarke %.2f °Cl',Cl);\n",
"printf('\nHardness in terms of °French %.1f °Fr',Fr);\n",
"printf('\nHardness in terms of mg/lit %.0f mg/l',mgperlit);"
   ]
   }
,
{
		   "cell_type": "markdown",
		   "metadata": {},
		   "source": [
			"## Example 2.18_8: hardness_in_different_systems.sce"
		   ]
		  },
  {
"cell_type": "code",
	   "execution_count": null,
	   "metadata": {
	    "collapsed": true
	   },
	   "outputs": [],
"source": [
"//water and its treatment//\n",
"//example 2.18.8//\n",
"clc\n",
"Hardness_Cl=2.42//in terms of °Clarke//\n",
"Hardness_Fr=3.6//in terms of °French//\n",
"Cl=Hardness_Cl/0.07//0.07°Clarke =1 ppm//\n",
"Fr=Hardness_Fr/0.1//0.1°French =1 ppm//\n",
"printf('2.42°Clarke %.2f mg/l or ppm',Cl);\n",
"printf('\n 3.6 °French %.0f mg/l or ppm',Fr);"
   ]
   }
,
{
		   "cell_type": "markdown",
		   "metadata": {},
		   "source": [
			"## Example 2.18_9: hardness_in_different_systems.sce"
		   ]
		  },
  {
"cell_type": "code",
	   "execution_count": null,
	   "metadata": {
	    "collapsed": true
	   },
	   "outputs": [],
"source": [
"//water and its treatment//\n",
"//example 2.18.9//\n",
"clc\n",
"Hardness_ppm1=350//ppm in terms of CaCO3//\n",
"Hardness_ppm2=500//ppm in terms of CaCO3//\n",
"Cl=0.07*Hardness_ppm1//0.07°Clarke =1 ppm//\n",
"Fr=0.1*Hardness_ppm2//0.1°French =1 ppm//\n",
"printf('1)Hardness in terms of degree Clarke %.1f °Cl',Cl);\n",
"printf('\n 2)Hardness in terms of degree French %.0f °Fr',Fr);"
   ]
   }
],
"metadata": {
		  "kernelspec": {
		   "display_name": "Scilab",
		   "language": "scilab",
		   "name": "scilab"
		  },
		  "language_info": {
		   "file_extension": ".sce",
		   "help_links": [
			{
			 "text": "MetaKernel Magics",
			 "url": "https://github.com/calysto/metakernel/blob/master/metakernel/magics/README.md"
			}
		   ],
		   "mimetype": "text/x-octave",
		   "name": "scilab",
		   "version": "0.7.1"
		  }
		 },
		 "nbformat": 4,
		 "nbformat_minor": 0
}
