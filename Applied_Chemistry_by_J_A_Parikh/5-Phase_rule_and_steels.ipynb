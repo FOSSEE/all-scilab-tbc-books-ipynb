{
"cells": [
 {
		   "cell_type": "markdown",
	   "metadata": {},
	   "source": [
       "# Chapter 5: Phase rule and steels"
	   ]
	},
{
		   "cell_type": "markdown",
		   "metadata": {},
		   "source": [
			"## Example 5.1: Eutectic_in_alloy.sce"
		   ]
		  },
  {
"cell_type": "code",
	   "execution_count": null,
	   "metadata": {
	    "collapsed": true
	   },
	   "outputs": [],
"source": [
"//phase rule and steels//\n",
"//problem 1//\n",
"clc\n",
"pc_tin=(73/100)//% composition of tin in alloy//\n",
"eutectic_tin=64//% composition of tin in eutectic alloy//\n",
"wt_alloy=1//weight of alloy in terms of kg//\n",
"w=wt_alloy*1000//weight of alloy in terms of gms//\n",
"wt_tin=pc_tin*w//wight of tin in alloy(gms)//\n",
"wt_lead=w-wt_tin//wight of lead in alloy(gms)//\n",
"wt_eutectic_tin=wt_lead*eutectic_tin/(100-eutectic_tin)//weight of eutectic tin(gms)//\n",
"To=wt_lead+wt_eutectic_tin//total mass of eutectic alloy(gms)//\n",
"printf('\nTotal mass of eutectic in alloy is %.f g',To);"
   ]
   }
],
"metadata": {
		  "kernelspec": {
		   "display_name": "Scilab",
		   "language": "scilab",
		   "name": "scilab"
		  },
		  "language_info": {
		   "file_extension": ".sce",
		   "help_links": [
			{
			 "text": "MetaKernel Magics",
			 "url": "https://github.com/calysto/metakernel/blob/master/metakernel/magics/README.md"
			}
		   ],
		   "mimetype": "text/x-octave",
		   "name": "scilab",
		   "version": "0.7.1"
		  }
		 },
		 "nbformat": 4,
		 "nbformat_minor": 0
}
