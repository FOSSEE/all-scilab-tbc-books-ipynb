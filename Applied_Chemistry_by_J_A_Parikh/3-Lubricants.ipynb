{
"cells": [
 {
		   "cell_type": "markdown",
	   "metadata": {},
	   "source": [
       "# Chapter 3: Lubricants"
	   ]
	},
{
		   "cell_type": "markdown",
		   "metadata": {},
		   "source": [
			"## Example 3.7_10: Acid_value_of_oil.sce"
		   ]
		  },
  {
"cell_type": "code",
	   "execution_count": null,
	   "metadata": {
	    "collapsed": true
	   },
	   "outputs": [],
"source": [
"//lubricants//\n",
"//example 3.7.10//\n",
"clc\n",
"wt_oil=2.5//weight f oil saponified(gms)//\n",
"volume=2.5//volume of alcoholic KOH consumed to neutralize fatty acids(ml)//\n",
"normality_KOH=(1/100)//normality of KOH //\n",
"A=volume*normality_KOH*56/wt_oil//formula for acid value//\n",
"printf('\nAcid value of oil is %.2f mgs KOH',A);"
   ]
   }
,
{
		   "cell_type": "markdown",
		   "metadata": {},
		   "source": [
			"## Example 3.7_11: Acid_value_of_oil.sce"
		   ]
		  },
  {
"cell_type": "code",
	   "execution_count": null,
	   "metadata": {
	    "collapsed": true
	   },
	   "outputs": [],
"source": [
"//lubricants//\n",
"//example 3.7.11//\n",
"clc\n",
"wt_oil=10//weight f oil saponified(gms)//\n",
"volume=.2//volume of alcoholic KOH consumed to neutralize fatty acids(ml)//\n",
"normality_KOH=0.02//normality of KOH //\n",
"A=volume*normality_KOH*56/wt_oil//formula for acid value//\n",
"printf('\nAcid value of oil is %.4f mgs KOH',A);"
   ]
   }
,
{
		   "cell_type": "markdown",
		   "metadata": {},
		   "source": [
			"## Example 3.7_12: Acid_value_of_oil.sce"
		   ]
		  },
  {
"cell_type": "code",
	   "execution_count": null,
	   "metadata": {
	    "collapsed": true
	   },
	   "outputs": [],
"source": [
"//lubricants//\n",
"//example 3.7.12//\n",
"clc\n",
"wt_oil=4.45//weight f oil saponified(gms)//\n",
"volume=2.5//volume of alcoholic KOH consumed to neutralize fatty acids(ml)//\n",
"normality_KOH=0.01//normality of KOH //\n",
"A=volume*normality_KOH*56/wt_oil//formula for acid value//\n",
"printf('\nAcid value of oil is %.3f mgs KOH',A);\n",
"if A<=0.1 then printf('\nOil can be used for lubrication');\n",
"else printf('\nOil cannot be used for lubrication');\n",
"    end"
   ]
   }
,
{
		   "cell_type": "markdown",
		   "metadata": {},
		   "source": [
			"## Example 3.7_13: Acid_value_of_oil.sce"
		   ]
		  },
  {
"cell_type": "code",
	   "execution_count": null,
	   "metadata": {
	    "collapsed": true
	   },
	   "outputs": [],
"source": [
"//lubricants//\n",
"//example 3.7.13//\n",
"clc\n",
"volume_oil=5//volume of oil titrated(ml)//\n",
"density_oil=0.92//density of oil titrated//\n",
"wt_oil=volume_oil*density_oil//weight f oil saponified(gms)//\n",
"volume=2//volume of alcoholic KOH consumed to neutralize fatty acids(ml)//\n",
"normality_KOH=0.01//normality of KOH //\n",
"A=volume*normality_KOH*56/wt_oil//formula for acid value//\n",
"printf('\nAcid value of oil is %.3f mgs KOH',A);"
   ]
   }
,
{
		   "cell_type": "markdown",
		   "metadata": {},
		   "source": [
			"## Example 3.7_14: Acid_value_of_oil.sce"
		   ]
		  },
  {
"cell_type": "code",
	   "execution_count": null,
	   "metadata": {
	    "collapsed": true
	   },
	   "outputs": [],
"source": [
"//lubricants//\n",
"//example 3.7.14//\n",
"clc\n",
"volume_oil=9//volume of oil titrated(ml)//\n",
"density_oil=0.81//density of oil titrated//\n",
"wt_oil=volume_oil*density_oil//weight f oil saponified(gms)//\n",
"volume=3.75//volume of alcoholic KOH consumed to neutralize fatty acids(ml)//\n",
"normality_KOH=0.1//normality of KOH //\n",
"A=volume*normality_KOH*56/wt_oil//formula for acid value//\n",
"printf('\nAcid value of oil is %.2f mgs KOH',A);"
   ]
   }
,
{
		   "cell_type": "markdown",
		   "metadata": {},
		   "source": [
			"## Example 3.7_15: Acid_value_of_oil.sce"
		   ]
		  },
  {
"cell_type": "code",
	   "execution_count": null,
	   "metadata": {
	    "collapsed": true
	   },
	   "outputs": [],
"source": [
"//lubricants//\n",
"//example 3.7.15//\n",
"clc\n",
"volume_oil=20//volume of oil titrated(ml)//\n",
"density_oil=0.86//density of oil titrated//\n",
"wt_oil=volume_oil*density_oil//weight f oil saponified(gms)//\n",
"volume=2.5//volume of alcoholic KOH consumed to neutralize fatty acids(ml)//\n",
"normality_KOH=0.1//normality of KOH //\n",
"A=volume*normality_KOH*56/wt_oil//formula for acid value//\n",
"printf('\nAcid value of oil is %.3f mgs KOH',A);"
   ]
   }
,
{
		   "cell_type": "markdown",
		   "metadata": {},
		   "source": [
			"## Example 3.7_16: Acid_value_of_oil.sce"
		   ]
		  },
  {
"cell_type": "code",
	   "execution_count": null,
	   "metadata": {
	    "collapsed": true
	   },
	   "outputs": [],
"source": [
"//lubricants//\n",
"//example 3.7.16//\n",
"clc\n",
"wt_oil=3//weight f oil saponified(gms)//\n",
"volume=.2//volume of alcoholic KOH consumed to neutralize fatty acids(ml)//\n",
"normality_KOH=0.025//normality of KOH //\n",
"A=volume*normality_KOH*56/wt_oil//formula for acid value//\n",
"printf('\nAcid value of oil is %.4f mgs KOH',A);"
   ]
   }
,
{
		   "cell_type": "markdown",
		   "metadata": {},
		   "source": [
			"## Example 3.7_17: Acid_value_of_oil.sce"
		   ]
		  },
  {
"cell_type": "code",
	   "execution_count": null,
	   "metadata": {
	    "collapsed": true
	   },
	   "outputs": [],
"source": [
"//lubricants//\n",
"//example 3.7.17//\n",
"clc\n",
"volume_oil=7//volume of oil titrated(ml)//\n",
"density_oil=0.885//density of oil titrated//\n",
"wt_oil=volume_oil*density_oil//weight f oil saponified(gms)//\n",
"volume=3.8//volume of alcoholic KOH consumed to neutralize fatty acids(ml)//\n",
"normality_KOH=1/20//normality of KOH //\n",
"A=volume*normality_KOH*56/wt_oil//formula for acid value//\n",
"printf('\nAcid value of oil is %.2f mgs KOH',A);"
   ]
   }
,
{
		   "cell_type": "markdown",
		   "metadata": {},
		   "source": [
			"## Example 3.7_1: Saponification_value_of_oil.sce"
		   ]
		  },
  {
"cell_type": "code",
	   "execution_count": null,
	   "metadata": {
	    "collapsed": true
	   },
	   "outputs": [],
"source": [
"//lubricants//\n",
"//example 3.7.1//\n",
"clc\n",
"wt_oil=5//weight f oil saponified(gms)//\n",
"blank=45//volume blank titration reading(ml)//\n",
"back=15//volume back titration reading(ml)//\n",
"volume=blank-back//volume of alcoholic KOH consumed(ml)//\n",
"normality_KOH=0.5//normality of KOH//\n",
"S=volume*normality_KOH*56/wt_oil//formula for saponification value//\n",
"printf('\nSaponification value of oil is %.0f mgs KOH',S);"
   ]
   }
,
{
		   "cell_type": "markdown",
		   "metadata": {},
		   "source": [
			"## Example 3.7_2: Alcoholic_KOH_consumed_in_Saponification.sce"
		   ]
		  },
  {
"cell_type": "code",
	   "execution_count": null,
	   "metadata": {
	    "collapsed": true
	   },
	   "outputs": [],
"source": [
"//lubricants//\n",
"//example 3.7.2//\n",
"clc\n",
"S=180//Saponification value of oil//\n",
"wt_oil=1//weight f oil saponified(gms)//\n",
"blank=50//volume blank titration reading(ml)//\n",
"normality_KOH=0.4//normality of KOH //\n",
"volume=S*wt_oil/(normality_KOH*56)//formula for saponification value//\n",
"back=blank-volume//volume of alcoholic KOH consumed(ml)//\n",
"printf('\nQuantity of alcoholic KOH required per gm is %.0f ml',back);"
   ]
   }
,
{
		   "cell_type": "markdown",
		   "metadata": {},
		   "source": [
			"## Example 3.7_3: Saponification_value_of_oil.sce"
		   ]
		  },
  {
"cell_type": "code",
	   "execution_count": null,
	   "metadata": {
	    "collapsed": true
	   },
	   "outputs": [],
"source": [
"//lubricants//\n",
"//example 3.7.3//\n",
"clc\n",
"wt_oil=5//weight f oil saponified(gms)//\n",
"blank=50//volume blank titration reading(ml)//\n",
"back=15//volume back titration reading(ml)//\n",
"volume=blank-back//volume of alcoholic KOH consumed(ml)//\n",
"normality_KOH=0.5//normality of KOH //\n",
"S=volume*normality_KOH*56/wt_oil//formula for saponification value//\n",
"printf('\nSaponification value of oil is %.0f mgs KOH',S);"
   ]
   }
,
{
		   "cell_type": "markdown",
		   "metadata": {},
		   "source": [
			"## Example 3.7_4: Saponification_value_of_oil.sce"
		   ]
		  },
  {
"cell_type": "code",
	   "execution_count": null,
	   "metadata": {
	    "collapsed": true
	   },
	   "outputs": [],
"source": [
"//lubricants//\n",
"//example 3.7.4//\n",
"clc\n",
"wt_oil=2.5//weight f oil saponified(gms)//\n",
"blank=40//volume blank titration reading(ml)//\n",
"back=20//volume back titration reading(ml)//\n",
"normality_KOH=0.25//normality of KOH //\n",
"normality_HCl=.5//normality of HCl//\n",
"e=normality_HCl/normality_KOH//for equivalence in titration //\n",
"volume=(blank-back)*e//volume of alcoholic KOH consumed(ml)//\n",
"S=volume*normality_KOH*56/wt_oil//formula for saponification value//\n",
"printf('\nSaponification value of oil is %.0f mgs KOH',S);"
   ]
   }
,
{
		   "cell_type": "markdown",
		   "metadata": {},
		   "source": [
			"## Example 3.7_5: Saponification_value_of_oil.sce"
		   ]
		  },
  {
"cell_type": "code",
	   "execution_count": null,
	   "metadata": {
	    "collapsed": true
	   },
	   "outputs": [],
"source": [
"//lubricants//\n",
"//example 3.7.5//\n",
"clc\n",
"wt_oil=5//weight f oil saponified(gms)//\n",
"blank=40//volume blank titration reading(ml)//\n",
"back=10//volume back titration reading(ml)//\n",
"strength_KOH=1.4/50//strength of KOH (gm/ml)//\n",
"normality_KOH=strength_KOH*1000//normality of KOH//\n",
"normality_HCl=.5//normality of HCl//\n",
"e=normality_HCl/normality_KOH//for equivalence in titration//\n",
"volume=(blank-back)*e//volume of alcoholic KOH consumed(ml)//\n",
"S=volume*normality_KOH*56/wt_oil//formula for saponification value//\n",
"printf('\nSaponification value of oil is %.0f mgs KOH',S);"
   ]
   }
,
{
		   "cell_type": "markdown",
		   "metadata": {},
		   "source": [
			"## Example 3.7_6: Saponification_value_of_oil.sce"
		   ]
		  },
  {
"cell_type": "code",
	   "execution_count": null,
	   "metadata": {
	    "collapsed": true
	   },
	   "outputs": [],
"source": [
"//lubricants//\n",
"//example 3.7.6//\n",
"clc\n",
"wt_oil=5//weight f oil saponified(gms)//\n",
"blank=50//volume blank titration reading(ml)//\n",
"back=25//volume back titration reading(ml)//\n",
"volume=blank-back//volume of alcoholic KOH consumed(ml)//\n",
"normality_KOH=0.5//normality of KOH //\n",
"S=volume*normality_KOH*56/wt_oil//formula for saponification value//\n",
"printf('\nSaponification value of oil is %.0f mgs KOH',S);"
   ]
   }
,
{
		   "cell_type": "markdown",
		   "metadata": {},
		   "source": [
			"## Example 3.7_7: Saponification_value_of_oil.sce"
		   ]
		  },
  {
"cell_type": "code",
	   "execution_count": null,
	   "metadata": {
	    "collapsed": true
	   },
	   "outputs": [],
"source": [
"//lubricants//\n",
"//example 3.7.7//\n",
"clc\n",
"wt_oil=1.55//weight f oil saponified(gms)//\n",
"blank=26//volume blank titration reading(ml)//\n",
"back=15//volume back titration reading(ml)//\n",
"volume=blank-back//volume of alcoholic KOH consumed(ml)//\n",
"normality_KOH=1/2//normality of KOH //\n",
"S=volume*normality_KOH*56/wt_oil//formula for saponification value//\n",
"printf('\nSaponification value of oil is %.1f mgs KOH',S);"
   ]
   }
,
{
		   "cell_type": "markdown",
		   "metadata": {},
		   "source": [
			"## Example 3.7_8: Saponification_value_of_oil.sce"
		   ]
		  },
  {
"cell_type": "code",
	   "execution_count": null,
	   "metadata": {
	    "collapsed": true
	   },
	   "outputs": [],
"source": [
"//lubricants//\n",
"//example 3.7.8//\n",
"clc\n",
"wt_oil=5//weight f oil saponified(gms)//\n",
"blank=52//volume blank titration reading(ml)//\n",
"back=20//volume back titration reading(ml)//\n",
"volume=blank-back//volume of alcoholic KOH consumed(ml)//\n",
"normality_KOH=0.5//normality of KOH //\n",
"S=volume*normality_KOH*56/wt_oil//formula for saponification value//\n",
"printf('\nSaponification value of oil is %.1f mgs KOH',S);"
   ]
   }
,
{
		   "cell_type": "markdown",
		   "metadata": {},
		   "source": [
			"## Example 3.7_9_A: Saponification_value_of_oil.sce"
		   ]
		  },
  {
"cell_type": "code",
	   "execution_count": null,
	   "metadata": {
	    "collapsed": true
	   },
	   "outputs": [],
"source": [
"//lubricants//\n",
"//example 3.7.9.A//\n",
"clc\n",
"wt_oil=1.55//weight f oil saponified(gms)//\n",
"blank=20//volume blank titration reading(ml)//\n",
"back=15//volume back titration reading(ml)//\n",
"volume=blank-back//volume of alcoholic KOH consumed(ml)//\n",
"normality_KOH=0.5//normality of KOH //\n",
"S=volume*normality_KOH*56/wt_oil//formula for saponification value//\n",
"printf('\nSaponification value of oil is %.2f mgs KOH',S);"
   ]
   }
,
{
		   "cell_type": "markdown",
		   "metadata": {},
		   "source": [
			"## Example 3.7_9_B: Saponification_value_of_oil.sce"
		   ]
		  },
  {
"cell_type": "code",
	   "execution_count": null,
	   "metadata": {
	    "collapsed": true
	   },
	   "outputs": [],
"source": [
"//lubricants//\n",
"//example 3.7.9.B//\n",
"clc\n",
"wt_oil=3//weight f oil saponified(gms)//\n",
"blank=36//volume blank titration reading(ml)//\n",
"back=12//volume back titration reading(ml)//\n",
"volume=blank-back//volume of alcoholic KOH consumed(ml)//\n",
"normality_KOH=0.5//normality of KOH //\n",
"S=volume*normality_KOH*56/wt_oil//formula for saponification value//\n",
"printf('\nSaponification value of oil is %.f mgs KOH',S);"
   ]
   }
,
{
		   "cell_type": "markdown",
		   "metadata": {},
		   "source": [
			"## Example 3.7_9: Saponification_of_blended_oils.sce"
		   ]
		  },
  {
"cell_type": "code",
	   "execution_count": null,
	   "metadata": {
	    "collapsed": true
	   },
	   "outputs": [],
"source": [
"//lubricants//\n",
"//example 3.7.9//\n",
"clc\n",
"S_C=192//Saponification value of castor oil//\n",
"wt_oil=16//weight f oil saponified(gms)//\n",
"blank=45//volume blank titration reading(ml)//\n",
"back=31.5//volume back titration reading(ml)//\n",
"volume=blank-back//volume of alcoholic KOH consumed(ml)//\n",
"N_H=0.5//normality of HCl in titration//\n",
"V_H=blank//volume of HCl in titration(ml)//\n",
"V_K=50//volume of KOH in titration(ml)//\n",
"N_K=N_H*V_H/V_K//normality of KOH for equivalence//\n",
"S_blended=volume*N_K*56/wt_oil//formula for saponification value//\n",
"printf('\nSaponification value of blended oil is %.2f mgs KOH',S_blended);\n",
"pc_C=(S_blended/S_C)*100\n",
"printf('\npercentage of castor oil in blend is %.3f percent',pc_C);"
   ]
   }
],
"metadata": {
		  "kernelspec": {
		   "display_name": "Scilab",
		   "language": "scilab",
		   "name": "scilab"
		  },
		  "language_info": {
		   "file_extension": ".sce",
		   "help_links": [
			{
			 "text": "MetaKernel Magics",
			 "url": "https://github.com/calysto/metakernel/blob/master/metakernel/magics/README.md"
			}
		   ],
		   "mimetype": "text/x-octave",
		   "name": "scilab",
		   "version": "0.7.1"
		  }
		 },
		 "nbformat": 4,
		 "nbformat_minor": 0
}
