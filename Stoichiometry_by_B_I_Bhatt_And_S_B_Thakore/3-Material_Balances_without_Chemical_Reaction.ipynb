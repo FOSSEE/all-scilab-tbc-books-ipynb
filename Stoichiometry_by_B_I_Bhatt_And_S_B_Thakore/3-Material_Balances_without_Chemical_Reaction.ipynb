{
"cells": [
 {
		   "cell_type": "markdown",
	   "metadata": {},
	   "source": [
       "# Chapter 3: Material Balances without Chemical Reaction"
	   ]
	},
{
		   "cell_type": "markdown",
		   "metadata": {},
		   "source": [
			"## Example 3.10: Matrix_use.sce"
		   ]
		  },
  {
"cell_type": "code",
	   "execution_count": null,
	   "metadata": {
	    "collapsed": true
	   },
	   "outputs": [],
"source": [
"clear;\n",
"clc;\n",
"\n",
"// Stoichiometry\n",
"// Chapter 3\n",
"// Material Balances Without Chemical Reaction\n",
"\n",
"\n",
"// Example 3.10\n",
"// Page 67\n",
"printf('Example 3.10, Page 67 \n \n');\n",
"\n",
"// solution\n",
"\n",
"// see examples 3.5 and 3.8"
   ]
   }
,
{
		   "cell_type": "markdown",
		   "metadata": {},
		   "source": [
			"## Example 3.11: Flowrate_calculatio.sce"
		   ]
		  },
  {
"cell_type": "code",
	   "execution_count": null,
	   "metadata": {
	    "collapsed": true
	   },
	   "outputs": [],
"source": [
"clear;\n",
"clc;\n",
"\n",
"// Stoichiometry\n",
"// Chapter 3\n",
"// Material Balances Without Chemical Reaction\n",
"\n",
"\n",
"// Example 3.11\n",
"// Page 68\n",
"printf('Example 3.11, Page 68 \n \n');\n",
"\n",
"// solution\n",
"\n",
"// basis : 1000 kg/h of feed\n",
"// balancing H2SO4, HNO3 and H2O in all the three product streams\n",
"M = [1 0 0 1 0 0 1 0 0;0 1 0 0 1 0 0 1 0;0 0 1 0 0 1 0 0 1;1 0 0 0 0 0 0 0 0;0 1 0 0 0 0 0 0 0;0 0 1 0 0 0 0 0 0;0 0 0 1 0 0 0 0 0;0 0 0 0 1 0 0 0 0;0 0 0 0 0 1 0 0 0]\n",
"v = [400;100;500;4;94;60;16;6;400]\n",
"s = M\v\n",
"A = s(1)+s(2)+s(3)\n",
"B = s(4)+s(5)+s(6)\n",
"C = s(7)+s(8)+s(9)\n",
"printf('Flowrates are :\n A = '+string(A)+' kg/h \n B = '+string(B)+' kg/h\n C = '+string(C)+' kg/h')"
   ]
   }
,
{
		   "cell_type": "markdown",
		   "metadata": {},
		   "source": [
			"## Example 3.12: solving_eqs_with_graphical_plot.sce"
		   ]
		  },
  {
"cell_type": "code",
	   "execution_count": null,
	   "metadata": {
	    "collapsed": true
	   },
	   "outputs": [],
"source": [
"clear;\n",
"clc;\n",
"\n",
"// Stoichiometry\n",
"// Chapter 3\n",
"// Material Balances Without Chemical Reaction\n",
"\n",
"\n",
"// Example 3.12\n",
"// Page 70\n",
"printf('Example 3.12, Page 70 \n \n');\n",
"\n",
"// solution\n",
"m = 100  // kg\n",
"x = linspace(70,110,5);\n",
"y = linspace(100,115,4);\n",
"y1 = 27.8/.203 - .075*x/.203\n",
"y2 = 72.2/.673 - .035*x/.673\n",
"x = linspace(70,110,5);\n",
"plot(x,y1,style=4)\n",
"plot(x,y2,style=8)\n",
"// from graph its clear x = 93.4 kg and y = 102.4 kg.\n",
"x = 93.4;\n",
"y = 102.4;\n",
"M = x+y // [kg] total mixture\n",
"Ms = M - m //[kg] mixed solvent\n",
"Mr = Ms/m // mixed solvent/original mixture\n",
"S1 = x*.574+y*.028 //[kg] water balance\n",
"S2 = x*.316+y*.096 //[kg] acetic acid balance\n",
"Qs = S1+S2\n",
"pS1 = (S1*100)/Qs\n",
"pS2 = 100-pS1\n",
"printf('(a) \n \nUpper layer = '+string(x)+' kg and Lower layer = '+string(y)+'\n \n \n(b) \n \nmass ratio of the mixed solvent to the original mixture is '+string(Mr)+' \n \n \n (c) \n \nwater mass percent = '+string(pS1)+' and acetic acid mass percent = '+string(pS2)+'.')"
   ]
   }
,
{
		   "cell_type": "markdown",
		   "metadata": {},
		   "source": [
			"## Example 3.14: ion_exclusion_process.sce"
		   ]
		  },
  {
"cell_type": "code",
	   "execution_count": null,
	   "metadata": {
	    "collapsed": true
	   },
	   "outputs": [],
"source": [
"clear;\n",
"clc;\n",
"\n",
"// Stoichiometry\n",
"// Chapter 3\n",
"// Material Balances Without Chemical Reaction\n",
"\n",
"\n",
"// Example 3.14\n",
"// Page 73\n",
"printf('Example 3.14, Page 73 \n \n');\n",
"\n",
"// solution\n",
"\n",
"//using table 2.7 on page no 75\n",
"Rg = 8124*100/9448 // recovery of glycerine\n",
"Lg = (16+83)*100/9448 // loss of glycerine in waste\n",
"Reg = 100-Rg-Lg // recycle of glycerine\n",
"m1 = 238/8124 // NaCl in product\n",
"m2 = Rg*12/100 // glycerine in product\n",
"m3 = m1+m2 // total solute\n",
"n = m1*100/m3 // NaCl percent in total solute\n",
"printf('(a) \n \nrecovery percent of glycerine is '+string(Rg)+' \n \n \n(b) \n \npercent loss of glycerinr is '+string(Lg)+' \n \n \n(c) \n \nproduct contamination with respect to salt NaCl is '+string(n)+'.')"
   ]
   }
,
{
		   "cell_type": "markdown",
		   "metadata": {},
		   "source": [
			"## Example 3.15: Air_Conditioning_plant.sce"
		   ]
		  },
  {
"cell_type": "code",
	   "execution_count": null,
	   "metadata": {
	    "collapsed": true
	   },
	   "outputs": [],
"source": [
"clear;\n",
"clc;\n",
"\n",
"// Stoichiometry\n",
"// Chapter 3\n",
"// Material Balances Without Chemical Reaction\n",
"\n",
"\n",
"// Example 3.15\n",
"// Page 76\n",
"printf('Example 3.15, Page 76 \n \n');\n",
"\n",
"// solution\n",
"\n",
"f1 = 1.25 //[m^3/s] fresh ambient air as feed (basis)\n",
"f2 = 5.806 //[m^/s] air entering auditorium\n",
"v1 = 8.314*290/101.3 //[m^3/kmol] sp. vol. of moist air at 101.3 kPa and 290 K\n",
"na1 = f2*1000/v1 // [mol/s] molar flow rate of air entering auditorium\n",
"nw1 = 243.95*.0163/1.0163 // [mol/s]\n",
"na2 = 243.95 - nw1 //[mol/s] dry air flow\n",
"nw2 = 240.04*.0225 //[mol/s] moisture enterin air conditioning plant\n",
"// using table 3.8\n",
"m1 = (nw2-nw1) //[kg/h] moisture removed in a c plant\n",
"m2 = na2-.0181 //[mol/s] moisture in air leaving auditorium\n",
"m3 = (m2-nw1)*18 // [kg/h] moisture added in auditorium\n",
"Vm2 = 8.314*308/101.3 // [m^3/kmol]\n",
"na3 = (f1/25.28)*1000 //[mol/s] \n",
"n4 = 5.40-1.925 //[mol/s] moisture in recycle stream\n",
"mr = 240.04-47.525 //[mol/s] molar flow rate of wet recycle stream\n",
"R = mr/na3\n",
"printf('(a) \n \nmoisture removed in AC plant = '+string(m1)+'\n \n \n(b) \n \nmoisture added in auditorium = '+string(m3)+' \n \n \n(c) \n \nrecycle ratio of moles of air recycled per mole mole of fresh ambient air input = '+string(R)+'.')"
   ]
   }
,
{
		   "cell_type": "markdown",
		   "metadata": {},
		   "source": [
			"## Example 3.16: Overall_efficiency_of_Pulp_Mill.sce"
		   ]
		  },
  {
"cell_type": "code",
	   "execution_count": null,
	   "metadata": {
	    "collapsed": true
	   },
	   "outputs": [],
"source": [
"clear;\n",
"clc;\n",
"\n",
"// Stoichiometry\n",
"// Chapter 3\n",
"// Material Balances Without Chemical Reaction\n",
"\n",
"\n",
"// Example 3.16\n",
"// Page 78\n",
"printf('Example 3.16 Page 78 \n \n');\n",
"\n",
"// solution\n",
"\n",
"// screen 1\n",
"// feed = N kg\n",
"// Oversize particle = NE1 kg\n",
"// Undersize particle = N-NE1\n",
"\n",
"//screen 2\n",
"//feed = NE1+X kg\n",
"// Oversize particle = (NE1+X)*E2 kg\n",
"// Undersize particle = (NE1+X)(1-E2) kg\n",
"\n",
"\n",
"//screen 3\n",
"// feed = (NE1+X)*E2 kg\n",
"// Oversize particle = (NE1+X)*E2*E3 kg\n",
"// Undersize particle = (NE1+X)*E2*(1-E3) kg\n",
"printf('Overall Efficiency = (E1 E2 E3)*100/[(1-E1)(1-E2)+E2 E3].')"
   ]
   }
,
{
		   "cell_type": "markdown",
		   "metadata": {},
		   "source": [
			"## Example 3.17: 2_stage_membrane_CO_separation.sce"
		   ]
		  },
  {
"cell_type": "code",
	   "execution_count": null,
	   "metadata": {
	    "collapsed": true
	   },
	   "outputs": [],
"source": [
"clear;\n",
"clc;\n",
"\n",
"// Stoichiometry\n",
"// Chapter 3\n",
"// Material Balances Without Chemical Reaction\n",
"\n",
"\n",
"// Example 3.17\n",
"// Page 79\n",
"printf('Example 3.17, Page 79 \n \n');\n",
"\n",
"// solution\n",
"\n",
"printf('(a) \n \n')\n",
"F = 5000 //[kmol/h] feed (basis)\n",
"m1 = F*.47 //[kmol/h] CO in F\n",
"m2 = F-m1 //[kmol/h] H2 in F\n",
"m3 = m1*.932 // CO in product stream\n",
"n2 = m3/.98 //[kmol/h] \n",
"printf('Flow rate of product stream is '+string(n2)+' kmol/h. \n \n \n(b) \n \n')\n",
"n2 = n2-m3 //[kmol/h] H2 in CO stream\n",
"printf('    Product H2 stream : \n  H2 = '+string(m2-n2)+' kmol/h \n  CO = '+string(m1-m3)+' kmol/h \n \n \n(c) \n \n')\n",
"nH2 = 2697.39 //[kmol/h]\n",
"nCO = 3000-nH2 // [kmol/h]\n",
"n4 = m2+nH2\n",
"n5 = m1+nCO\n",
"n6 = n4+n5\n",
"\n",
"printf('    Composition of Mixed feed : \n  H2 = '+string(n4*100/n6)+' \n  CO = '+string(n5*100/n6)+'')"
   ]
   }
,
{
		   "cell_type": "markdown",
		   "metadata": {},
		   "source": [
			"## Example 3.18: 2_stage_reverse_osmosis.sce"
		   ]
		  },
  {
"cell_type": "code",
	   "execution_count": null,
	   "metadata": {
	    "collapsed": true
	   },
	   "outputs": [],
"source": [
"clear;\n",
"clc;\n",
"\n",
"// Stoichiometry\n",
"// Chapter 3\n",
"// Material Balances Without Chemical Reaction\n",
"\n",
"\n",
"// Example 3.18\n",
"// Page 79\n",
"printf('Example 3.10, Page 79 \n \n');\n",
"\n",
"// solution\n",
"\n",
"// Overall balance\n",
"// F=R1+P2\n",
"// Balance across Module I\n",
"// F+R2 = R1+P1 ==> R1+P2+R2 = R1+P1\n",
"// balance across module II\n",
"// P1 = P2+R2\n",
"P2 = 5 //[m^3/h]\n",
"P1 = P2/.8 //[m^3/h]\n",
"R2 = P1-P2 //[m^3/h]\n",
"F = P1/.66 - R2//[m^3/h]\n",
"R1 = F-P2 //[m^3/h]\n",
"\n",
"// Overall balance of DS in water\n",
"xR1 = (F*4200-P2*5)/R1 //[mg/l]\n",
"xP1 = (P2*5)/(.015*P1) // [mg/l]\n",
"xR2 = (P1*xP1-P2*5)/R2 //[mg/l]\n",
"m1 = F*4200+R2*xR2 //[g] DS mixeed in MF\n",
"C1 = m1/(F+R2) // [mg/l]\n",
"m2 = R1*xR1 //[g] DS in R1\n",
"r = m2*100/m1 // rejection in module in I\n",
"m3 = m1-m2 //[g] DS in P1\n",
"C2 = m3/P1 // [mg/l] \n",
"R = R2/F \n",
"R1 = P2*100/F\n",
"printf('F = '+string(F)+' m^3/h \nR1 = '+string(R1)+' m^3/h \nP = '+string(P1+P2)+' m^3/h \nR2 = '+string(R2)+' m^3/h \nrecycle ratio = '+string(R)+' \nrejection percentage of salt in module I = '+string(r)+'')"
   ]
   }
,
{
		   "cell_type": "markdown",
		   "metadata": {},
		   "source": [
			"## Example 3.1: Lancashire_boiler.sce"
		   ]
		  },
  {
"cell_type": "code",
	   "execution_count": null,
	   "metadata": {
	    "collapsed": true
	   },
	   "outputs": [],
"source": [
"clear;\n",
"clc;\n",
"\n",
"// Stoichiometry\n",
"// Chapter 3\n",
"// Material Balances Without Chemical Reaction\n",
"\n",
"\n",
"// Example 3.1\n",
"// Page 60\n",
"printf('Example 3.1, Page 60 \n \n');\n",
"\n",
"// solution\n",
"\n",
"m = 1 //[kg] feed water\n",
"m1 = 1200 //[mg] dissolved solids in 1 kg feed water\n",
"m2 = 3500 //[mg] max dissolved solid content \n",
"x = (m*m1)/m2 // [kg] blown down water\n",
"printf('Percentage of feed water to be blown down is '+string(x)+'.')"
   ]
   }
,
{
		   "cell_type": "markdown",
		   "metadata": {},
		   "source": [
			"## Example 3.20: Purging_by_atmospheric_pressure_method.sce"
		   ]
		  },
  {
"cell_type": "code",
	   "execution_count": null,
	   "metadata": {
	    "collapsed": true
	   },
	   "outputs": [],
"source": [
"clear;\n",
"clc;\n",
"\n",
"// Stoichiometry\n",
"// Chapter 3\n",
"// Material Balances Without Chemical Reaction\n",
"\n",
"\n",
"// Example 3.20\n",
"// Page 86\n",
"printf('Example 3.20, Page 86 \n \n');\n",
"\n",
"// solution\n",
"\n",
"// concetration of the component after n times introduction of v volume of inert gas :\n",
"// Cn = Co/(1+1/n)^n\n",
"// we know limn-->infinity (1+1/n)^n = e\n",
"// therefore Cv = Co/e\n",
""
   ]
   }
,
{
		   "cell_type": "markdown",
		   "metadata": {},
		   "source": [
			"## Example 3.2: Textile_mill.sce"
		   ]
		  },
  {
"cell_type": "code",
	   "execution_count": null,
	   "metadata": {
	    "collapsed": true
	   },
	   "outputs": [],
"source": [
"clear;\n",
"clc;\n",
"\n",
"// Stoichiometry\n",
"// Chapter 3\n",
"// Material Balances Without Chemical Reaction\n",
"\n",
"\n",
"// Example 3.2\n",
"// Page 61\n",
"printf('Example 3.2, Page 61 \n \n');\n",
"\n",
"// solution\n",
"m = 100 //[kg] weak liquor (feed)\n",
"m1 = 4 //[kg] NaOH\n",
"p = .25\n",
"x = 4/p // water left\n",
"y = 100-16 // [kg] evaporated water\n",
"printf('Amount of water that evaporated is '+string(y)+' kg.')"
   ]
   }
,
{
		   "cell_type": "markdown",
		   "metadata": {},
		   "source": [
			"## Example 3.3: recovered_tannin.sce"
		   ]
		  },
  {
"cell_type": "code",
	   "execution_count": null,
	   "metadata": {
	    "collapsed": true
	   },
	   "outputs": [],
"source": [
"clear;\n",
"clc;\n",
"\n",
"// Stoichiometry\n",
"// Chapter 3\n",
"// Material Balances Without Chemical Reaction\n",
"\n",
"\n",
"// Example 3.3\n",
"// Page 61\n",
"printf('Example 3.3, Page 61 \n \n');\n",
"\n",
"// solution\n",
"\n",
"m = 100 //[kg] babul bark (basis)\n",
"m1 = 5.8 //[kg] moisture\n",
"m2 = 12.6 //[kg] Tannin\n",
"m3 = 8.3 //[kg] soluble non tannin organic material\n",
"m4 = m-m1-m2-m3 // [kg] Lignin\n",
"// lignin content remains unaffected during leaching\n",
"m5 = 100-.92-.65 // [kg lignin/kg dry residue]\n",
"x = (m4*100)/m5 // [kg]\n",
"T1 = x*.0092 //[kg] Tannin present in residue\n",
"T2 = m2 - T1 // [kg] Tannin recovered\n",
"T = (T2/m2)*100 \n",
"printf('Percentage of Tannin recovered during leaching is '+string(T)+'.')"
   ]
   }
,
{
		   "cell_type": "markdown",
		   "metadata": {},
		   "source": [
			"## Example 3.4: Extraction_of_dry_neem_leaves.sce"
		   ]
		  },
  {
"cell_type": "code",
	   "execution_count": null,
	   "metadata": {
	    "collapsed": true
	   },
	   "outputs": [],
"source": [
"clear;\n",
"clc;\n",
"\n",
"// Stoichiometry\n",
"// Chapter 3\n",
"// Material Balances Without Chemical Reaction\n",
"\n",
"\n",
"// Example 3.4\n",
"// Page 62\n",
"printf('Example 3.4, Page 62 \n \n');\n",
"\n",
"// solution\n",
"\n",
"m = 1 //[kg] dry neem leaves (basis)\n",
"m1 = .01/100 //[kg] beta cartene content of leaves\n",
"Ex = (m1*100)/.41 //[kg] extract quantity\n",
"Tc1 = Ex*.155 //[kg] Alpha Tocopherol in the extract\n",
"Tc2 = .46/100 //[kg] Alpha Tocopherol in the neem leaves\n",
"R = (Tc1*100)/Tc2 // recovery of Alpha Tocopherol \n",
"printf('(a) \n \nmass of extract phase per kg of dry leaves is '+string(Ex)+' kg \n \n \n(b) \n \npercent recovery of Alpha Tocopherol is '+string(R)+'.')"
   ]
   }
,
{
		   "cell_type": "markdown",
		   "metadata": {},
		   "source": [
			"## Example 3.5: Extraction_of_mix_of_Acetone_and_Chloroform.sce"
		   ]
		  },
  {
"cell_type": "code",
	   "execution_count": null,
	   "metadata": {
	    "collapsed": true
	   },
	   "outputs": [],
"source": [
"clear;\n",
"clc;\n",
"\n",
"// Stoichiometry\n",
"// Chapter 3\n",
"// Material Balances Without Chemical Reaction\n",
"\n",
"\n",
"// Example 3.5\n",
"// Page 62\n",
"printf('Example 3.5, Page 62 \n \n');\n",
"\n",
"// solution\n",
"\n",
"m= 100 //[kg] original mixture (basis)\n",
"A = 27.8 //[kg]\n",
"B = 72.2 //[kg]\n",
"// let x and y be uper and lower layer amounts\n",
"// total mixture = (x+y) kg\n",
"// balancing A and B\n",
"X = [.075 .203;.035 .673]\n",
"d = [27.8;72.2]\n",
"x = X\d\n",
"M = X(1,1)+X(2,1) // [kg] total mixture\n",
"Ms = M - m //[kg] mixed solvent\n",
"Mr = Ms/m // mixed solvent/original mixture\n",
"S1 = x(1,1)*.574+x(2,1)*.028 //[kg] water balance\n",
"S2 = x(1,1)*.316+x(2,1)*.096 //[kg] acetic acid balance\n",
"Qs = S1+S2\n",
"pS1 = (S1*100)/Qs\n",
"pS2 = 100-pS1\n",
"printf('(a) \n \nUpper layer = '+string(x(1,1))+' kg and Lower layer = '+string(x(2,1))+'\n \n \n(b) \n \nmass ratio of the mixed solvent to the original mixture is '+string(Mr)+' \n \n \n (c) \n \nwater mass percent = '+string(pS1)+' and acetic acid mass percent = '+string(pS2)+'.')"
   ]
   }
,
{
		   "cell_type": "markdown",
		   "metadata": {},
		   "source": [
			"## Example 3.6: Pressure_Swing_Adsorption.sce"
		   ]
		  },
  {
"cell_type": "code",
	   "execution_count": null,
	   "metadata": {
	    "collapsed": true
	   },
	   "outputs": [],
"source": [
"clear;\n",
"clc;\n",
"\n",
"// Stoichiometry\n",
"// Chapter 3\n",
"// Material Balances Without Chemical Reaction\n",
"\n",
"\n",
"// Example 3.6\n",
"// Page 63\n",
"printf('Example 3.6, Page 63 \n \n');\n",
"\n",
"// solution\n",
"\n",
"m = 170 //[Nm^3/h] air (basis)\n",
"m1 = 50*.99 //[Nm^3/h] N2 content of the stream\n",
"m2 = 50*.01 //[Nm^3/h]\n",
"N = m*.79-m1 // [Nm^3/h] N2\n",
"O = m*.21-m2 // [Nm^3/h] O2\n",
"V1 = N*100/(N+O)\n",
"V2 = O*100/(N+O)\n",
"printf('Vol percent of N2 is '+string(V1)+' and Vol percent of O2 is '+string(V2)+'.')"
   ]
   }
,
{
		   "cell_type": "markdown",
		   "metadata": {},
		   "source": [
			"## Example 3.7: Required_Oleum_strength.sce"
		   ]
		  },
  {
"cell_type": "code",
	   "execution_count": null,
	   "metadata": {
	    "collapsed": true
	   },
	   "outputs": [],
"source": [
"clear;\n",
"clc;\n",
"\n",
"// Stoichiometry\n",
"// Chapter 3\n",
"// Material Balances Without Chemical Reaction\n",
"\n",
"\n",
"// Example 3.7\n",
"// Page 64\n",
"printf('Example 3.7, Page 64 \n \n');\n",
"\n",
"// solution\n",
"\n",
"m = 100 //[kg] SO3 free mixed acid (basis)\n",
"m1 = 55 //[kg] HNO3\n",
"m2 = 45 //[kg] H2SO4\n",
"// SO3 + H2O --> H2SO4\n",
"m3 = (80/18)*3 //[kg] SO3 equivalent to 3 kg of water\n",
"Q = m2+m3 //[kg] oleum to be mixed\n",
"S = (m3/Q)*100 // strength of oleum\n",
"R = m1/Q \n",
"printf('Strength of Oleum required is '+string(S)+' \nHNO3 and Oleum are required to be mixed in the proportion of '+string(R)+':1.')"
   ]
   }
,
{
		   "cell_type": "markdown",
		   "metadata": {},
		   "source": [
			"## Example 3.8: Mixed_acid_formatio.sce"
		   ]
		  },
  {
"cell_type": "code",
	   "execution_count": null,
	   "metadata": {
	    "collapsed": true
	   },
	   "outputs": [],
"source": [
"clear;\n",
"clc;\n",
"\n",
"// Stoichiometry\n",
"// Chapter 3\n",
"// Material Balances Without Chemical Reaction\n",
"\n",
"\n",
"// Example 3.8\n",
"// Page 64\n",
"printf('Example 3.8, Page 64 \n \n');\n",
"\n",
"// solution\n",
"\n",
"m = 1000 //[kg] mixed acid (basis)\n",
"// doing overall mass balance, H2SO4 balance and HNO3 balance\n",
"A = [1 1 1;.444 0 .98;.113 .9 0]\n",
"d = [1000;600;320]\n",
"x = A\d\n",
"printf('quantities of acids required are :\n  Spent = '+string(x(1,1))+'kg \n  HNO3 = '+string(x(2,1))+' kg\n  H2SO4 = '+string(x(3,1))+' kg.')"
   ]
   }
,
{
		   "cell_type": "markdown",
		   "metadata": {},
		   "source": [
			"## Example 3.9: Actual_analysis_of_borewell_water.sce"
		   ]
		  },
  {
"cell_type": "code",
	   "execution_count": null,
	   "metadata": {
	    "collapsed": true
	   },
	   "outputs": [],
"source": [
"clear;\n",
"clc;\n",
"\n",
"// Stoichiometry\n",
"// Chapter 3\n",
"// Material Balances Without Chemical Reaction\n",
"\n",
"\n",
"// Example 3.9\n",
"// Page 65\n",
"printf('Example 3.9, Page 65 \n \n');\n",
"\n",
"// solution\n",
"\n",
"l = 1 //[litre] water (basis)\n",
"Cl = 475.6 //[mg]\n",
"m1 = (58.5/35.5)*Cl //[mg] NaCl present in water\n",
"SO4 = 102.9 //[mg] // SO4\n",
"m3 = (142/96)*SO4 //[mg] Na2SO4 present in water\n",
"// carbonates are present due to Na2CO3\n",
"// eq mass of CaCO3 = 50\n",
"// eq mass of Na2CO3 = 53\n",
"m4 = (53/50)*65.9 // [mg] Na2CO3 present in water\n",
"// NaHCO3 in water = bicarbonates - temporary hardness\n",
"m5 = 390.6-384 // [mg] NaHCO3 present as CaCO3\n",
"m6 = (84/50)*m5 // [mg] NaHCO3 present in water\n",
"// equivalent mass of Mg(HCO3)2 = 73.15\n",
"m7 = (m6/50)*225\n",
"m8  = 384-225 //[mg] CaCO3 from Ca(HCO3)2\n",
"// equivalent mass of Ca(HCO3)2 is 81\n",
"m9 = (m8/50)*159 //[mg] Ca(HCO3)2 present in water\n",
"printf('Component analysis of raw water: \n \n \nCompound          mg/l \n \nCa(HCO3)2         '+string(m9)+' \nMg(HCO3)2         '+string(m7)+' \nNaHCO3            '+string(m6)+' \nNa2CO3            '+string(m4)+' \nNaCl              '+string(m1)+' \nNa2SO4            '+string(m3)+'')"
   ]
   }
],
"metadata": {
		  "kernelspec": {
		   "display_name": "Scilab",
		   "language": "scilab",
		   "name": "scilab"
		  },
		  "language_info": {
		   "file_extension": ".sce",
		   "help_links": [
			{
			 "text": "MetaKernel Magics",
			 "url": "https://github.com/calysto/metakernel/blob/master/metakernel/magics/README.md"
			}
		   ],
		   "mimetype": "text/x-octave",
		   "name": "scilab",
		   "version": "0.7.1"
		  }
		 },
		 "nbformat": 4,
		 "nbformat_minor": 0
}
