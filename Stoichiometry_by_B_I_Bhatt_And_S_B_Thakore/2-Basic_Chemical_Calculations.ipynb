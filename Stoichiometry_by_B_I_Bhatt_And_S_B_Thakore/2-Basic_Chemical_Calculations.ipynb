{
"cells": [
 {
		   "cell_type": "markdown",
	   "metadata": {},
	   "source": [
       "# Chapter 2: Basic Chemical Calculations"
	   ]
	},
{
		   "cell_type": "markdown",
		   "metadata": {},
		   "source": [
			"## Example 2.10: mass_percent.sce"
		   ]
		  },
  {
"cell_type": "code",
	   "execution_count": null,
	   "metadata": {
	    "collapsed": true
	   },
	   "outputs": [],
"source": [
"clear;\n",
"clc;\n",
"\n",
"// Stoichiometry\n",
"// Chapter 2\n",
"// Basic Chemical Calculations\n",
"\n",
"\n",
"// Example 2.10\n",
"// Page 22\n",
"printf('Example 2.10, Page 22 \n \n');\n",
"\n",
"// solution\n",
"\n",
"// NaOH\n",
"\n",
"Impurity = 60 // [ppm] SiO2\n",
"m = (60/1000000)*100\n",
"printf('Mass percent of SiO2 is '+string(m)+'.')"
   ]
   }
,
{
		   "cell_type": "markdown",
		   "metadata": {},
		   "source": [
			"## Example 2.11: no_of_ions.sce"
		   ]
		  },
  {
"cell_type": "code",
	   "execution_count": null,
	   "metadata": {
	    "collapsed": true
	   },
	   "outputs": [],
"source": [
"clear;\n",
"clc;\n",
"\n",
"// Stoichiometry\n",
"// Chapter 2\n",
"// Basic Chemical Calculations\n",
"\n",
"\n",
"// Example 2.11\n",
"// Page 22\n",
"printf('Example 2.11, Page 22 \n \n');\n",
"\n",
"// solution\n",
"\n",
"Ca = 40.078 // at. wt of Ca\n",
"F = 18.9984032 // at wt of F\n",
"M1 = 3*Ca +2*(30.97762+(4*15.9994)) // molar mass of Ca3PO4\n",
"M2 = Ca +12.0107+3*15.9994 // molar mass of CaCO3\n",
"M3 = Ca+2*F // molar mass of CaF2\n",
"m1 = 800 //[mg] Ca3PO4\n",
"m2 = 200 //[mg] CaCO3\n",
"m3 = 5 //[mg] CaF2\n",
"n1 = ((3*Ca)/M1)*m1+(Ca/M2)*m2+(Ca/M3)*m3 // [mg] total Ca ions\n",
"n2 = (F/M3)*2*5 //[mg] total F ions\n",
"printf('Total no. of Ca+ ions is '+string(n1)+' and \ntotal no. of F- ions is '+string(n2)+'.')"
   ]
   }
,
{
		   "cell_type": "markdown",
		   "metadata": {},
		   "source": [
			"## Example 2.12: composition_of_solution.sce"
		   ]
		  },
  {
"cell_type": "code",
	   "execution_count": null,
	   "metadata": {
	    "collapsed": true
	   },
	   "outputs": [],
"source": [
"clear;\n",
"clc;\n",
"\n",
"// Stoichiometry\n",
"// Chapter 2\n",
"// Basic Chemical Calculations\n",
"\n",
"\n",
"// Example 2.12\n",
"// Page 23\n",
"printf('Example 2.12, Page 23 \n \n');\n",
"\n",
"// solution\n",
"\n",
"// (a)\n",
"printf('(a) \n \n')\n",
"// mass %\n",
"m1 = 100 //[kg] methanol (basis)\n",
"m2 = 64 //[kg] salicylic acid\n",
"m = m1+m2 // [kg] mass of solution\n",
"w1 = m2/m*100\n",
"w2 = 100-w1\n",
"printf('mass percent of salicylic acid is '+string(w1)+' and \nmass percent of methanol is '+string(w2)+'. \n \n \n')\n",
"\n",
"//(b)\n",
"printf('(b) \n \n')\n",
"//mole %\n",
"M1 = 32 // molar mass of methanol\n",
"M2 = 138 //molar mass of salicylic acid\n",
"n1 = m1/M1 //[kmol] methanol\n",
"n2 = m2/M2 //[kmol] salicylic acid\n",
"n = n1+n2\n",
"N1 = n1/n*100\n",
"N2 = n2/n*100\n",
"printf('Mole percent of methanol is '+string(N1)+' and \nMole percent of salicylic acid is '+string(N2)+'.')"
   ]
   }
,
{
		   "cell_type": "markdown",
		   "metadata": {},
		   "source": [
			"## Example 2.13: composition_of_solution.sce"
		   ]
		  },
  {
"cell_type": "code",
	   "execution_count": null,
	   "metadata": {
	    "collapsed": true
	   },
	   "outputs": [],
"source": [
"clear;\n",
"clc;\n",
"\n",
"// Stoichiometry\n",
"// Chapter 2\n",
"// Basic Chemical Calculations\n",
"\n",
"\n",
"// Example 2.13\n",
"// Page 24\n",
"printf('Example 2.13, Page 24 \n \n');\n",
"\n",
"// solution\n",
"\n",
"\n",
"//mass %\n",
"m1 = 13.70 // HCl\n",
"m2 = 8.67 // NaCl\n",
"m3 = 100 // H2O\n",
"m = m1+m2+m3 // mass of solution\n",
"w1 = m1/m*100\n",
"w2 = m2/m*100\n",
"w3 = m3/m*100\n",
"\n",
"printf('mass percent of HCl is '+string(w1)+' , \nmass percent of NaCl is '+string(w2)+'and \nmass percent of H2O is '+string(w3)+'. \n \n \n')\n",
"M1=36.4609 //HCl\n",
"M2=58.4428 //NaCl\n",
"M3=18.0153 //H2O\n",
"n1=m1/M1 //HCl\n",
"n2=m2/M2 //NaCl\n",
"n3=m3/M3 //H2O\n",
"n=n1+n2+n3\n",
"N1=n1/n*100\n",
"N2=n2/n*100\n",
"N3=n3/n*100\n",
"printf('Mole percent of HCl is '+string(N1)+' , \nMole percent of NaCl is '+string(N2)+'and \nMole percent of H2O is '+string(N3)+'.')"
   ]
   }
,
{
		   "cell_type": "markdown",
		   "metadata": {},
		   "source": [
			"## Example 2.14: Na2O_percentage.sce"
		   ]
		  },
  {
"cell_type": "code",
	   "execution_count": null,
	   "metadata": {
	    "collapsed": true
	   },
	   "outputs": [],
"source": [
"clear;\n",
"clc;\n",
"\n",
"// Stoichiometry\n",
"// Chapter 2\n",
"// Basic Chemical Calculations\n",
"\n",
"\n",
"// Example 2.14\n",
"// Page 24\n",
"printf('Example 2.14, Page 24 \n \n');\n",
"\n",
"// solution\n",
"\n",
"m = 100 //[kg] Lye (basis)\n",
"m1 = 73 //[kg] NaOH\n",
"M1 = 40 // NaOH\n",
"M2 = 62 // Na2O\n",
"p = (M2*m1)/(2*M1)\n",
"printf('percentage of Na2O in the solution is '+string(p)+'.')"
   ]
   }
,
{
		   "cell_type": "markdown",
		   "metadata": {},
		   "source": [
			"## Example 2.15: TOC_and_ThOD.sce"
		   ]
		  },
  {
"cell_type": "code",
	   "execution_count": null,
	   "metadata": {
	    "collapsed": true
	   },
	   "outputs": [],
"source": [
"clear;\n",
"clc;\n",
"\n",
"// Stoichiometry\n",
"// Chapter 2\n",
"// Basic Chemical Calculations\n",
"\n",
"\n",
"// Example 2.15\n",
"// Page 25\n",
"printf('Example 2.15, Page 25 \n \n');\n",
"\n",
"// solution\n",
"\n",
"//(CH2OH)3\n",
"M = 92 // molar mass of glycerin\n",
"C = 600 //[mg/l] glycerin conc.\n",
"TOC = (3*12/92)*600 //[mg/l]\n",
"// by combustion reaction we see 3.5 O2 is required for 1 mol of (CH2OH)3\n",
"ThOD = (3.5*32*600)/92 //[mg/l]\n",
"printf('TOC = '+string(TOC)+' mg/l\nThOD = '+string(ThOD)+' mg/l')"
   ]
   }
,
{
		   "cell_type": "markdown",
		   "metadata": {},
		   "source": [
			"## Example 2.16: conc_of_salts.sce"
		   ]
		  },
  {
"cell_type": "code",
	   "execution_count": null,
	   "metadata": {
	    "collapsed": true
	   },
	   "outputs": [],
"source": [
"clear;\n",
"clc;\n",
"\n",
"// Stoichiometry\n",
"// Chapter 2\n",
"// Basic Chemical Calculations\n",
"\n",
"\n",
"// Example 2.16\n",
"// Page 25\n",
"printf('Example 2.16, Page 25 \n \n');\n",
"\n",
"// solution\n",
"\n",
"M1 = 100 // CaCO3\n",
"v1 = 2 // valence of CaCO3\n",
"eqm1 = M1/v1 // equivalent mass of CaCO3\n",
"M2 = 162 // Ca(HCO3)2\n",
"v2 = 2\n",
"eqm2 = M2/v2\n",
"m = 500 // [mg/l] CaCO3\n",
"C1 = (eqm2/eqm1)*m*.6 // [mg/l] conc. of Ca(HCO3)2\n",
"M3 = 146.3 // Mg(HCO3)2\n",
"v3 = 2\n",
"eqm3 = M3/v3\n",
"C2 = (eqm3/eqm1)*m*.4 //[mg/l] conc. of Mg(HCO3)2\n",
"printf('Actual concentration of Ca(HCO3)2 in the sample water is '+string(C1)+' mg/l and of Mg(HCO3)2 is '+string(C2)+' mg/l.')"
   ]
   }
,
{
		   "cell_type": "markdown",
		   "metadata": {},
		   "source": [
			"## Example 2.17: ppm_unit.sce"
		   ]
		  },
  {
"cell_type": "code",
	   "execution_count": null,
	   "metadata": {
	    "collapsed": true
	   },
	   "outputs": [],
"source": [
"clear;\n",
"clc;\n",
"\n",
"// Stoichiometry\n",
"// Chapter 2\n",
"// Basic Chemical Calculations\n",
"\n",
"\n",
"// Example 2.17\n",
"// Page 26\n",
"printf('Example 2.17, Page 26 \n \n');\n",
"\n",
"// solution\n",
"\n",
"S = .68 // sulphur content by mass\n",
"d = .85 // kg/l\n",
"s = (S*d*10^6)/100 // [mg/l] or [ppm]\n",
"printf('Sulphur content in LDO is '+string(s)+' ppm.')"
   ]
   }
,
{
		   "cell_type": "markdown",
		   "metadata": {},
		   "source": [
			"## Example 2.18: molarity_normality_and_molality.sce"
		   ]
		  },
  {
"cell_type": "code",
	   "execution_count": null,
	   "metadata": {
	    "collapsed": true
	   },
	   "outputs": [],
"source": [
"clear;\n",
"clc;\n",
"\n",
"// Stoichiometry\n",
"// Chapter 2\n",
"// Basic Chemical Calculations\n",
"\n",
"// Example 2.18\n",
"\n",
"// Page 26\n",
"printf('Example 2.18, Page 26 \n \n');\n",
"\n",
"// solution\n",
"\n",
"m1 = 100 //[kg] solution (basis)\n",
"m2 = 20 //[kg] NaCl\n",
"d = 1.127 //[kg/l]\n",
"V = m1/d // volume of 100 kg sol.\n",
"n = (m2/58.5)*100 // [mol] NaCl\n",
"M = n/V //[M]\n",
"v = 1 // valence of NaCl so,\n",
"N = M\n",
"m = n/(m1-m2) //[mol/kg]\n",
"printf('Molarity = '+string(M)+' M \nNormality = '+string(N)+' N \nMolality = '+string(m)+' mol/kg.')"
   ]
   }
,
{
		   "cell_type": "markdown",
		   "metadata": {},
		   "source": [
			"## Example 2.19: molarity_of_solutio.sce"
		   ]
		  },
  {
"cell_type": "code",
	   "execution_count": null,
	   "metadata": {
	    "collapsed": true
	   },
	   "outputs": [],
"source": [
"clear;\n",
"clc;\n",
"\n",
"// Stoichiometry\n",
"// Chapter 2\n",
"// Basic Chemical Calculations\n",
"\n",
"// Example 2.19\n",
"\n",
"// Page 27\n",
"printf('Example 2.19, Page 27 \n \n');\n",
"\n",
"// solution\n",
"\n",
"m1 = 100 //[kg] TEA solution (basis)\n",
"m2 = 50 //[kg] TEA\n",
"M1 = 149 // molar mass of TEA\n",
"d = 1.05 //[kg/l]\n",
"V = m1/d // volume of 100 kg sol.\n",
"n = (m2/M1)*100 // [mol] NaCl\n",
"M = n/V //[M]\n",
"printf('Molarity of solution = '+string(M)+' M.')"
   ]
   }
,
{
		   "cell_type": "markdown",
		   "metadata": {},
		   "source": [
			"## Example 2.1: gm_of_NH4Cl.sce"
		   ]
		  },
  {
"cell_type": "code",
	   "execution_count": null,
	   "metadata": {
	    "collapsed": true
	   },
	   "outputs": [],
"source": [
"clear;\n",
"clc;\n",
"\n",
"// Stoichiometry\n",
"// Chapter 2\n",
"// Basic Chemical Calculations\n",
"\n",
"\n",
"// Example 2.1\n",
"// Page 17\n",
"printf('Example 2.1, Page 17 \n \n');\n",
"\n",
"// solution\n",
"\n",
"// NH4Cl\n",
"M = 14+4+35.5 // [g] (molar mass of NH4Cl)\n",
"n=5 // [mol]\n",
"m = M*n // [g]\n",
"printf('5 mol of NH4Cl = '+string(m)+' [g]')"
   ]
   }
,
{
		   "cell_type": "markdown",
		   "metadata": {},
		   "source": [
			"## Example 2.20: conc_of_CO2.sce"
		   ]
		  },
  {
"cell_type": "code",
	   "execution_count": null,
	   "metadata": {
	    "collapsed": true
	   },
	   "outputs": [],
"source": [
"clear;\n",
"clc;\n",
"\n",
"// Stoichiometry\n",
"// Chapter 2\n",
"// Basic Chemical Calculations\n",
"\n",
"// Example 2.20\n",
"\n",
"// Page 27\n",
"printf('Example 2.20, Page 27 \n \n');\n",
"\n",
"// solution\n",
"\n",
"m1 = 100 //[kg] MEA solution (basis)\n",
"m2 = 20 //[kg] MEA\n",
"M1 = 61 // molar mass of MEA\n",
"n1 = m2/M1 // [kmol]\n",
"C = .206 \n",
"n2 = C*n1 //[kmol] dissolved CO2\n",
"m3 = n2*44 // [kg] mass of CO2\n",
"n3 = (m1-m2-m3)/18 //[kmol] water\n",
"n = (n2/(n1+n2+n3))*100\n",
"m = (m3/100)*100\n",
"printf('Mass percent of CO2 = '+string(m)+' and Mol percent = '+string(n)+'.')"
   ]
   }
,
{
		   "cell_type": "markdown",
		   "metadata": {},
		   "source": [
			"## Example 2.21: pH_of_HOCl.sce"
		   ]
		  },
  {
"cell_type": "code",
	   "execution_count": null,
	   "metadata": {
	    "collapsed": true
	   },
	   "outputs": [],
"source": [
"clear;\n",
"clc;\n",
"\n",
"// Stoichiometry\n",
"// Chapter 2\n",
"// Basic Chemical Calculations\n",
"\n",
"// Example 2.21\n",
"\n",
"// Page 27\n",
"printf('Example 2.21, Page 29 \n \n');\n",
"\n",
"// solution\n",
"\n",
"//HOCl\n",
"Ma = .1 //molarity\n",
"Ka = 9.6*10^-7\n",
"C = (Ma*Ka)^.5 // conc. of H+ ions\n",
"pH = -log10(C)\n",
"printf('pH of the sol is '+string(pH)+'.')"
   ]
   }
,
{
		   "cell_type": "markdown",
		   "metadata": {},
		   "source": [
			"## Example 2.22: Mavg_and_composition_of_air.sce"
		   ]
		  },
  {
"cell_type": "code",
	   "execution_count": null,
	   "metadata": {
	    "collapsed": true
	   },
	   "outputs": [],
"source": [
"clear;\n",
"clc;\n",
"\n",
"// Stoichiometry\n",
"// Chapter 2\n",
"// Basic Chemical Calculations\n",
"\n",
"// Example 2.22\n",
"\n",
"// Page 39\n",
"printf('Example 2.22, Page 39 \n \n');\n",
"\n",
"// solution\n",
"\n",
"n = 100 // [mol] air (basis)\n",
"n1 = 21 //[mol] O2\n",
"n2 = 78 //[mol] N2\n",
"n3 = 1 //[mol] Ar\n",
"M1 = 31.9988 // O2\n",
"M2 = 28.0134 // N2\n",
"M3 = 39.948 // Ar\n",
"m1 = n1*M1\n",
"m2 = n2*M2\n",
"m3 = n3*M3\n",
"Ma = (m1+m2+m3)/n\n",
"printf('average molar mass of air is '+string(Ma)+' g.')"
   ]
   }
,
{
		   "cell_type": "markdown",
		   "metadata": {},
		   "source": [
			"## Example 2.23: Composition_and_specific_gravity.sce"
		   ]
		  },
  {
"cell_type": "code",
	   "execution_count": null,
	   "metadata": {
	    "collapsed": true
	   },
	   "outputs": [],
"source": [
"clear;\n",
"clc;\n",
"\n",
"// Stoichiometry\n",
"// Chapter 2\n",
"// Basic Chemical Calculations\n",
"\n",
"// Example 2.23\n",
"\n",
"// Page 39\n",
"printf('Example 2.23, Page 39 \n \n');\n",
"\n",
"// solution\n",
"\n",
"// (a)\n",
"printf('(a) \n \n')\n",
"n = 100 // [kmol] cracked gas (basis)\n",
"n1 = 45 // methane\n",
"n2 = 10 // ethane\n",
"n3 = 25 // ethylene\n",
"n4 = 7 // propane\n",
"n5 = 8 // propylene\n",
"n6 = 5 // n-butane\n",
"M1 = 16\n",
"M2 = 30\n",
"M3 = 28\n",
"M4 = 44\n",
"M5 = 42\n",
"M6 = 58\n",
"m1 = n1*M1\n",
"m2 = n2*M2\n",
"m3 = n3*M3\n",
"m4 = n4*M4\n",
"m5 = n5*M5\n",
"m6 = n6*M6\n",
"m = m1+m2+m3+m4+m5+m6\n",
"M = m/n\n",
"printf('Average molar mass of gas is '+string(M)+' g.')\n",
"//(b)\n",
"printf('(b) \n \n')\n",
"// composition\n",
"p1 = (m1/m)*100\n",
"p2 = m2*100/m\n",
"p3 = m3*100/m\n",
"p4 = m4*100/m\n",
"p5 = m5*100/m\n",
"p6 = m6*100/m\n",
"printf('   GAS            Mass Percent \n Methane              '+string(p1)+' \n Ethane              '+string(p2)+' \n Ethylene              '+string(p3)+' \n Propane              '+string(p4)+' \n Propylene              '+string(p5)+' \n n-Butane              '+string(p6)+' \n \n \n')\n",
"// (c)\n",
"printf('(c) \n \n')\n",
"// specific gravity\n",
"g = M/28.97\n",
"printf('Specific gravity is '+string(g)+'.')\n",
"\n",
"\n",
"\n",
"\n",
"\n",
"\n",
""
   ]
   }
,
{
		   "cell_type": "markdown",
		   "metadata": {},
		   "source": [
			"## Example 2.24: percentage_error.sce"
		   ]
		  },
  {
"cell_type": "code",
	   "execution_count": null,
	   "metadata": {
	    "collapsed": true
	   },
	   "outputs": [],
"source": [
"clear;\n",
"clc;\n",
"\n",
"// Stoichiometry\n",
"// Chapter 2\n",
"// Basic Chemical Calculations\n",
"\n",
"\n",
"// Example 2.24\n",
"// Page 40\n",
"printf('Example 2.24, Page 40 \n \n');\n",
"\n",
"// solution\n",
"\n",
"p = 100 //[bar]\n",
"T = 623.15 //[K]\n",
"R = .083145\n",
"V = R*T/p // [l/mol] molar volume\n",
"v = V/18.0153 // \n",
"printf('Specific volume = '+string(v)+' m^3/kg.')\n",
"\n",
""
   ]
   }
,
{
		   "cell_type": "markdown",
		   "metadata": {},
		   "source": [
			"## Example 2.25: molar_volume.sce"
		   ]
		  },
  {
"cell_type": "code",
	   "execution_count": null,
	   "metadata": {
	    "collapsed": true
	   },
	   "outputs": [],
"source": [
"clear;\n",
"clc;\n",
"\n",
"// Stoichiometry\n",
"// Chapter 2\n",
"// Basic Chemical Calculations\n",
"\n",
"\n",
"// Example 2.25\n",
"// Page 40\n",
"printf('Example 2.25, Page 40 \n \n');\n",
"\n",
"// solution\n",
"\n",
"p = 4 //[bar]\n",
"T = 773.15 //[K]\n",
"R = .083145\n",
"V = R*T/p // [l/mol] molar volume\n",
"printf('Molar volume = '+string(V)+' l/mol.\n \n \n')\n",
" // using appendix III\n",
" // calculating Tc and Pc of different gases according to their mass fractions\n",
"Tc1 = .352*32.20 // H2\n",
"Tc2 = .148*190.56 // methane\n",
"Tc3 = .128*282.34 //ethylene\n",
"Tc4 = .339*132.91 // CO\n",
"Tc5 = .015*304.10 // CO2\n",
"Tc6 = .018*126.09 // N2\n",
"Tc = Tc1+Tc2+Tc3+Tc4+Tc5+Tc6 // Tc of gas\n",
" // similarly finding Pc\n",
"Pc1=.352*12.97 \n",
"Pc2=.148*45.99\n",
"Pc3=.128*50.41\n",
"Pc4=.339*34.99\n",
"Pc5=.015*73.75\n",
"Pc6=.018*33.94\n",
"Pc=Pc1+Pc2+Pc3+Pc4+Pc5+Pc6 // Pc of gas\n",
"a = (27*R^2*Tc^2)/(64*Pc) // [bar/mol^2]\n",
"b = (R*Tc)/(8*Pc)  // l/mol\n",
"// substituting these values in vanderwall eq and solving by Newton Rhapson method we get\n",
"V = 15.74 // [l/mol]\n",
"printf('by Vanderwall eq molar volume = '+string(V)+' l/mol')"
   ]
   }
,
{
		   "cell_type": "markdown",
		   "metadata": {},
		   "source": [
			"## Example 2.26: ternary_mix_analysis.sce"
		   ]
		  },
  {
"cell_type": "code",
	   "execution_count": null,
	   "metadata": {
	    "collapsed": true
	   },
	   "outputs": [],
"source": [
"clear;\n",
"clc;\n",
"\n",
"// Stoichiometry\n",
"// Chapter 2\n",
"// Basic Chemical Calculations\n",
"\n",
"\n",
"// Example 2.26\n",
"// Page 43\n",
"printf('Example 2.26, Page 43 \n \n');\n",
"\n",
"// solution\n",
"m = 6.5065 //[g] mixture (basis)\n",
"Pv = 2.175 //[kPa] V.P. of water over KOH\n",
"Pa = 102.5-2.175 //[kPa] Partial P of n-butane and 1butene\n",
"V = 415.1*10^-3 //[l]\n",
"R = 8.314472\n",
"T = 296.4 //[K]\n",
"n = (Pa*V)/R*T // moles of butene and butane\n",
"n1 = n*.431 // n-butane\n",
"m1 = n1*58 // [g]\n",
"n2 = n-n1 // 1 butene\n",
"m2 = n2*56 //[g]\n",
"m3 = m-m1 // [g] furfural\n",
"n3 = m3/96\n",
"printf('component        mol percent        mass percent \nn-Butane         '+string(n1/n*100)+'               '+string(m1/m*100)+' \n1-Butene         '+string(n2/n*100)+'               '+string(m2/m*100)+' \nFurfural        '+string(n3/n*100)+'          '+string(m1/m*100)+'')"
   ]
   }
,
{
		   "cell_type": "markdown",
		   "metadata": {},
		   "source": [
			"## Example 2.27: vapour_mix_compositio.sce"
		   ]
		  },
  {
"cell_type": "code",
	   "execution_count": null,
	   "metadata": {
	    "collapsed": true
	   },
	   "outputs": [],
"source": [
"clear;\n",
"clc;\n",
"\n",
"// Stoichiometry\n",
"// Chapter 2\n",
"// Basic Chemical Calculations\n",
"\n",
"\n",
"// Example 2.27\n",
"// Page 44\n",
"printf('Example 2.27, Page 44 \n \n');\n",
"\n",
"// solution\n",
"\n",
"P = 5.7+1.01 //[bar] absolute total P\n",
"// using Roult's law\n",
"vp = 3.293*.7737 //[kPa] vap P of furfural\n",
"// using Dalton's law of partial P\n",
"n1 = vp/(P*100) // mol fraction of furfural\n",
"n2 = 1-n1 // mol fraction of 1 -butene\n",
"printf('mol fraction of Furfural is '+string(n1)+'\nmol fraction of 1-Butene is '+string(n2)+'.')"
   ]
   }
,
{
		   "cell_type": "markdown",
		   "metadata": {},
		   "source": [
			"## Example 2.28: absolute_humidity.sce"
		   ]
		  },
  {
"cell_type": "code",
	   "execution_count": null,
	   "metadata": {
	    "collapsed": true
	   },
	   "outputs": [],
"source": [
"clear;\n",
"clc;\n",
"\n",
"// Stoichiometry\n",
"// Chapter 2\n",
"// Basic Chemical Calculations\n",
"\n",
"\n",
"// Example 2.28\n",
"// Page 44\n",
"printf('Example 2.28, Page 44 \n \n');\n",
"\n",
"// solution\n",
"\n",
"P = 100 //[kPa] total P\n",
"Pw = 2.5326 //[kPa] V.P> of water at dew point\n",
"//absolute humity = mass of water vapour/ mass of dry air\n",
"H = (Pw/(P-Pw))*(18.0153/28.9697) // absolute humidity\n",
"printf('absolute humidity = '+string(H)+'.')"
   ]
   }
,
{
		   "cell_type": "markdown",
		   "metadata": {},
		   "source": [
			"## Example 2.29: nozzle_outlet_T.sce"
		   ]
		  },
  {
"cell_type": "code",
	   "execution_count": null,
	   "metadata": {
	    "collapsed": true
	   },
	   "outputs": [],
"source": [
"clear;\n",
"clc;\n",
"\n",
"// Stoichiometry\n",
"// Chapter 2\n",
"// Basic Chemical Calculations\n",
"\n",
"\n",
"// Example 2.29\n",
"// Page 45\n",
"printf('Example 2.29, Page 45 \n \n');\n",
"\n",
"// solution\n",
"\n",
"//Ti-Tf = mu*(Pi-Pf)\n",
"Pi = 20.7 //[bar]\n",
"Pf = 8.7 // [bar]\n",
"mu = 1.616 //[K/bar]\n",
"Ti = 355.15 //[K]\n",
"Tf = Ti-mu*(Pi-Pf)\n",
"printf('Outlet temperature is '+string(Tf)+' K')"
   ]
   }
,
{
		   "cell_type": "markdown",
		   "metadata": {},
		   "source": [
			"## Example 2.2: equivalent_moles_of_CuSO4.sce"
		   ]
		  },
  {
"cell_type": "code",
	   "execution_count": null,
	   "metadata": {
	    "collapsed": true
	   },
	   "outputs": [],
"source": [
"clear;\n",
"clc;\n",
"\n",
"// Stoichiometry\n",
"// Chapter 2\n",
"// Basic Chemical Calculations\n",
"\n",
"\n",
"// Example 2.2\n",
"// Page 17\n",
"printf('Example 2.2, Page 17 \n \n');\n",
"\n",
"// solution\n",
"\n",
"// CuSO4.5H2O\n",
"M1 = 159.5 // [g] (molar mass of CuSO4)\n",
"M2 = 159.5+5*(2+16) // (molar mass of CuSO4.5H2O)\n",
"m = 499\n",
"n = m/M2 //[mol]\n",
"printf('In the formula CuSO4.5H2O, the moles of CuSO4 is one hence, \n the equivalent moles of CuSO4 in the crystal is '+string(n)+'.')"
   ]
   }
,
{
		   "cell_type": "markdown",
		   "metadata": {},
		   "source": [
			"## Example 2.3: moles_of_K2CO3.sce"
		   ]
		  },
  {
"cell_type": "code",
	   "execution_count": null,
	   "metadata": {
	    "collapsed": true
	   },
	   "outputs": [],
"source": [
"clear;\n",
"clc;\n",
"\n",
"// Stoichiometry\n",
"// Chapter 2\n",
"// Basic Chemical Calculations\n",
"\n",
"\n",
"// Example 2.3\n",
"// Page 17\n",
"printf('Example 2.3, Page 17 \n \n');\n",
"\n",
"// solution\n",
"\n",
"// K2CO3\n",
"m = 117 // [kg] (wt of K)\n",
"Mk = 39 // [g] (at wt of K)\n",
"a = m/Mk // [kg atoms] \n",
"// 1 mol of K2CO3 contains 2 atoms of K\n",
"n = a/2 // [kmol] (moles of K2CO3)\n",
"printf(' '+string(n)+' kmol of K2CO3 contains 117 kg of K.') "
   ]
   }
,
{
		   "cell_type": "markdown",
		   "metadata": {},
		   "source": [
			"## Example 2.4: no_of_atoms_of_BaCl2.sce"
		   ]
		  },
  {
"cell_type": "code",
	   "execution_count": null,
	   "metadata": {
	    "collapsed": true
	   },
	   "outputs": [],
"source": [
"clear;\n",
"clc;\n",
"\n",
"// Stoichiometry\n",
"// Chapter 2\n",
"// Basic Chemical Calculations\n",
"\n",
"\n",
"// Example 2.4\n",
"// Page 18\n",
"printf('Example 2.4, Page 18 \n \n');\n",
"\n",
"// solution\n",
"\n",
"// BaCl2\n",
"M = 137.3+2*35.5 // [g] (molar mass of BaCl2)\n",
"m = 416.6 // [g]\n",
"n = m/M // [mol]\n",
"N = n*6.022*10^23 // (no. of atoms)\n",
"printf('Atoms present in 416.6 g BaCl2 = '+string(N)+'')"
   ]
   }
,
{
		   "cell_type": "markdown",
		   "metadata": {},
		   "source": [
			"## Example 2.5: equivalent_mass.sce"
		   ]
		  },
  {
"cell_type": "code",
	   "execution_count": null,
	   "metadata": {
	    "collapsed": true
	   },
	   "outputs": [],
"source": [
"clear;\n",
"clc;\n",
"\n",
"// Stoichiometry\n",
"// Chapter 2\n",
"// Basic Chemical Calculations\n",
"\n",
"\n",
"// Example 2.5\n",
"// Page 19\n",
"printf('Example 2.5, Page 19 \n \n');\n",
"\n",
"// solution\n",
"\n",
"printf('(a) \n \n')\n",
"//PO4 radical\n",
"M = 31+4*16 //[g] \n",
"V = 3 // (valence of PO4)\n",
"eqm = M/V \n",
"printf('eq. mass of PO4 is '+string(eqm)+' [g] \n \n \n')\n",
"printf('(b) \n \n')\n",
"//Na3PO4\n",
"M = 3*23+95 //[g]\n",
"V = 3\n",
"eqm = M/V\n",
"printf('eq. mass of Na3PO4 is '+string(eqm)+' [g] \n \n')\n",
""
   ]
   }
,
{
		   "cell_type": "markdown",
		   "metadata": {},
		   "source": [
			"## Example 2.6: equivalents.sce"
		   ]
		  },
  {
"cell_type": "code",
	   "execution_count": null,
	   "metadata": {
	    "collapsed": true
	   },
	   "outputs": [],
"source": [
"clear;\n",
"clc;\n",
"\n",
"// Stoichiometry\n",
"// Chapter 2\n",
"// Basic Chemical Calculations\n",
"\n",
"\n",
"// Example 2.6\n",
"// Page 19\n",
"printf('Example 2.6, Page 19 \n \n');\n",
"\n",
"// solution\n",
"\n",
"// AlCl3\n",
"v = 3 // valency of Al ion\n",
"eq = 3*3 // [mol]\n",
"printf('no. of equivalents in 3 kmol of AlCl3 is '+string(eq)+' keq.')"
   ]
   }
,
{
		   "cell_type": "markdown",
		   "metadata": {},
		   "source": [
			"## Example 2.7: composition_of_mixture.sce"
		   ]
		  },
  {
"cell_type": "code",
	   "execution_count": null,
	   "metadata": {
	    "collapsed": true
	   },
	   "outputs": [],
"source": [
"clear;\n",
"clc;\n",
"\n",
"// Stoichiometry\n",
"// Chapter 2\n",
"// Basic Chemical Calculations\n",
"\n",
"\n",
"// Example 2.7\n",
"// Page 20\n",
"printf('Example 2.7, Page 20 \n \n');\n",
"\n",
"// solution\n",
"\n",
"// (a)\n",
"printf('(a) \n \n')\n",
"// mass %\n",
"m1 = 600 //[kg] (NaCl)\n",
"m2 = 200 //[kg] (KCl)\n",
"m = m1+m2 // total mass\n",
"Wa = (m1/m)*100\n",
"Wb = (m2/m)*100\n",
"printf('mass percentage of NaCl is '+string(Wa)+' \nmass percentage of KCl is '+string(Wb)+' \n \n \n')\n",
"// (b)\n",
"printf('(b) \n \n')\n",
"//mol %\n",
"M1 = 23+35.5 // molar mass of NaCl\n",
"n1 = m1/M1 // no. of moles of NaCl\n",
"M2 = 39+35.5 // molar mass of KCl\n",
"n2 = m2/M2 // no. of moles of KCl\n",
"n = n1+n2\n",
"N1 = (n1/n)*100\n",
"N2 = (n2/n)*100\n",
"printf('mol percentage of NaCl is '+string(N1)+' \nmol percentage of KCl is '+string(N2)+' \n')"
   ]
   }
,
{
		   "cell_type": "markdown",
		   "metadata": {},
		   "source": [
			"## Example 2.8: composition_and_molar_mass.sce"
		   ]
		  },
  {
"cell_type": "code",
	   "execution_count": null,
	   "metadata": {
	    "collapsed": true
	   },
	   "outputs": [],
"source": [
"clear;\n",
"clc;\n",
"\n",
"// Stoichiometry\n",
"// Chapter 2\n",
"// Basic Chemical Calculations\n",
"\n",
"\n",
"// Example 2.8\n",
"// Page 21\n",
"printf('Example 2.8, Page 21 \n \n');\n",
"\n",
"// solution\n",
"// CH.35O.35S.14\n",
"// mass %\n",
"C = 12.0107 //[kg] \n",
"H = 1.00794*.35 // [kg]\n",
"O = 15.9994*.35// [kg]\n",
"S = 32.065*.14 //[kg]\n",
"m = C+H+O+S\n",
"m1 = (C/m)*100\n",
"m2 = (H/m)*100\n",
"m3 = (O/m)*100\n",
"m4 = (S/m)*100\n",
"printf('mass percentage of C is '+string(m1)+' \nmass percentage of H is '+string(m2)+' \nmass percentage of O is '+string(m3)+' \nmass percentage of S is '+string(m4)+' \n \n')\n",
"M = m/(1+.35+.35+.14)\n",
"printf('molar mass = '+string(M)+' kg/kmol.')"
   ]
   }
,
{
		   "cell_type": "markdown",
		   "metadata": {},
		   "source": [
			"## Example 2.9: actual_urea_content.sce"
		   ]
		  },
  {
"cell_type": "code",
	   "execution_count": null,
	   "metadata": {
	    "collapsed": true
	   },
	   "outputs": [],
"source": [
"clear;\n",
"clc;\n",
"\n",
"// Stoichiometry\n",
"// Chapter 2\n",
"// Basic Chemical Calculations\n",
"\n",
"\n",
"// Example 2.9\n",
"// Page 22\n",
"printf('Example 2.9, Page 22 \n \n');\n",
"\n",
"// solution\n",
"\n",
"// basis 100kg urea\n",
"m1 = 45 //[kg] (mass of N present)\n",
"Mu = 60 // (molar mass of urea)\n",
"m2 = 14*2 //[kg] (mass of N in 1 kmol of urea)\n",
"m = (Mu/m2)*m1\n",
"printf('The sample contains '+string(m)+' percent urea.')"
   ]
   }
],
"metadata": {
		  "kernelspec": {
		   "display_name": "Scilab",
		   "language": "scilab",
		   "name": "scilab"
		  },
		  "language_info": {
		   "file_extension": ".sce",
		   "help_links": [
			{
			 "text": "MetaKernel Magics",
			 "url": "https://github.com/calysto/metakernel/blob/master/metakernel/magics/README.md"
			}
		   ],
		   "mimetype": "text/x-octave",
		   "name": "scilab",
		   "version": "0.7.1"
		  }
		 },
		 "nbformat": 4,
		 "nbformat_minor": 0
}
