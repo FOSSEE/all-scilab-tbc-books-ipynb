{
"cells": [
 {
		   "cell_type": "markdown",
	   "metadata": {},
	   "source": [
       "# Chapter 5: Energy Balances"
	   ]
	},
{
		   "cell_type": "markdown",
		   "metadata": {},
		   "source": [
			"## Example 5.10: Calculations_on_O_zylene.sce"
		   ]
		  },
  {
"cell_type": "code",
	   "execution_count": null,
	   "metadata": {
	    "collapsed": true
	   },
	   "outputs": [],
"source": [
"clear;\n",
"clc;\n",
"\n",
"// Stoichiometry\n",
"// Chapter 5\n",
"// Energy Balances\n",
"\n",
"\n",
"// Example 5.10\n",
"// Page 225\n",
"printf('Example 5.10, Page 225 \n \n');\n",
"\n",
"// solution\n",
"\n",
"// (a)\n",
"Pc = 3732  // kPa\n",
"Tc = 630.3  // K\n",
"Tb = 417.6  //K\n",
"TBr = Tb/Tc\n",
"lambdav = 8.314472*417.6*(1.092*(log(3732)-5.6182)/(.930-.6625))\n",
"// (b)\n",
"T1 = 298.15  //K\n",
"lambdav1 = 36240*[(630.3-298.15)/(630.3-417.6)]^.38\n",
"printf(' (a) \n \n Latent heat of vaporization at Tb using Riedel eq is '+string(lambdav)+' kJ/kmol. \n \n \n (b) \n \n Latent heat of vaporizaation at 298.15 K using Watson eq is '+string(lambdav1)+' kJ/kmol.')"
   ]
   }
,
{
		   "cell_type": "markdown",
		   "metadata": {},
		   "source": [
			"## Example 5.11: latent_heat_of_vaporization_of_ethanol.sce"
		   ]
		  },
  {
"cell_type": "code",
	   "execution_count": null,
	   "metadata": {
	    "collapsed": true
	   },
	   "outputs": [],
"source": [
"clear;\n",
"clc;\n",
"\n",
"// Stoichiometry\n",
"// Chapter 5\n",
"// Energy Balances\n",
"\n",
"\n",
"// Example 5.11\n",
"// Page 225\n",
"printf('Example 5.11, Page 225 \n \n');\n",
"\n",
"// solution\n",
"\n",
"// (a)\n",
"Pc = 61.37 // bar\n",
"Tc = 514  //K\n",
"Tb = 351.4\n",
"P = 1 // atm\n",
"TBr = Tb/Tc\n",
"// Riedel eq\n",
"lambdav1 = 8.314472*Tb*1.092*(log(6137)-5.6182)/(.930-TBr)\n",
"// NIST eq\n",
"lambdav2 = 50430*exp(-(-.4475*TBr))*(1-TBr)^.4989\n",
"// (b)\n",
"T1 = 298.15\n",
"TBr1 = T1/Tc\n",
"// Watson eq\n",
"lambdav21 = 38563*[(514-298.15)/(514-351.4)]^.38\n",
"// NIST eq\n",
"lambdav22 = 50430*exp(-(-.4475*TBr1))*(1-TBr1)^.4969\n",
"printf(' (a) \n \n Latent heat of vaporization at Tb using \n Riedel eq is '+string(lambdav1)+' kJ/kmol \n NIST eq is '+string(lambdav2)+' kJ/kmol \n \n \n (b) \n \n Latent heat of vaporization at 298.15 K using \n Watson eq is '+string(lambdav21)+' kJ/kmol \n NIST eq is '+string(lambdav22)+' kJ/kmol')"
   ]
   }
,
{
		   "cell_type": "markdown",
		   "metadata": {},
		   "source": [
			"## Example 5.12: Saturation_P_of_steam.sce"
		   ]
		  },
  {
"cell_type": "code",
	   "execution_count": null,
	   "metadata": {
	    "collapsed": true
	   },
	   "outputs": [],
"source": [
"clear;\n",
"clc;\n",
"\n",
"// Stoichiometry\n",
"// Chapter 5\n",
"// Energy Balances\n",
"\n",
"\n",
"// Example 5.12\n",
"// Page 227\n",
"printf('Example 5.12, Page 227 \n \n');\n",
"\n",
"// solution\n",
"\n",
"// using Appendix IV.2\n",
"Ps1 = 75\n",
"Ps2 = 80\n",
"T1 = 563.65\n",
"T2 = 568.12\n",
"T = 565.15 \n",
"Ps = 75*exp((T2*(T-T1)*log(80/75)/(T*(T2-T1))))\n",
"printf(' Saturation Pressure of steam at 565.15K is '+string(Ps)+' bar.')"
   ]
   }
,
{
		   "cell_type": "markdown",
		   "metadata": {},
		   "source": [
			"## Example 5.13: Bubble_and_Dew_pt_calculations.sce"
		   ]
		  },
  {
"cell_type": "code",
	   "execution_count": null,
	   "metadata": {
	    "collapsed": true
	   },
	   "outputs": [],
"source": [
"clear;\n",
"clc;\n",
"\n",
"// Stoichiometry\n",
"// Chapter 5\n",
"// Energy Balances\n",
"\n",
"\n",
"// Example 5.13\n",
"// Page 236\n",
"printf('Example 5.13, Page 236 \n \n');\n",
"\n",
"// solution\n",
"\n",
"// basis  1 kmol equimolar mix\n",
"npent = .5 // kmol\n",
"nhex = .5 // kmol\n",
"P = 101.325  // kPa\n",
"x1 = .5\n",
"x2 = x1\n",
"Ts1 = 309.2 // K\n",
"Ts2 = 341.9 // K\n",
"T1 = (Ts1+Ts2)/2\n",
"// using these data, we get table 5.10 and 5.11\n",
"Tbb = 321.6  //K\n",
"Tdp = 329.9  //K\n",
"printf(' Bubble point = '+string(Tbb)+' K and \n Dew point = '+string(Tdp)+' K.')"
   ]
   }
,
{
		   "cell_type": "markdown",
		   "metadata": {},
		   "source": [
			"## Example 5.14: Hot_air_drying_machine.sce"
		   ]
		  },
  {
"cell_type": "code",
	   "execution_count": null,
	   "metadata": {
	    "collapsed": true
	   },
	   "outputs": [],
"source": [
"clear;\n",
"clc;\n",
"\n",
"// Stoichiometry\n",
"// Chapter 5\n",
"// Energy Balances\n",
"\n",
"\n",
"// Example 5.14\n",
"// Page 237\n",
"printf('Example 5.14, Page 237 \n \n');\n",
"\n",
"// solution\n",
"\n",
"// basis 1000 kg/h of condensate at the saturation temperature corresponding to 8 bar a\n",
"// using Appendix IV.2\n",
"H = 720.94 // kJ/kg\n",
"Hm = 419.06 // kJ/kg\n",
"x = poly(0,'x')\n",
"condensate = 1000-x\n",
"Hcondensate1 = 1000*H\n",
"Hcondensate2 = condensate*419.06\n",
"Ht = x*2676\n",
"p = Hcondensate2+Ht-Hcondensate1\n",
"printf(' The quqntity of flash steam produced = '+string(roots(p))+' kg/h.')"
   ]
   }
,
{
		   "cell_type": "markdown",
		   "metadata": {},
		   "source": [
			"## Example 5.15: Flow_of_saturated_vapors_of_R134.sce"
		   ]
		  },
  {
"cell_type": "code",
	   "execution_count": null,
	   "metadata": {
	    "collapsed": true
	   },
	   "outputs": [],
"source": [
"clear;\n",
"clc;\n",
"\n",
"// Stoichiometry\n",
"// Chapter 5\n",
"// Energy Balances\n",
"\n",
"\n",
"// Example 5.15\n",
"// Page 238\n",
"printf('Example 5.15, Page 238 \n \n');\n",
"\n",
"// solution\n",
"\n",
"qv1 = 50  // l/s\n",
"qm = qv1*1.08  // kg/s\n",
"fi = qm*3.08*(263.15-258.15) // kW\n",
"lv = 384.19-168.7  // kJ/kg\n",
"qm2 = fi/lv\n",
"H = 256.35  // kJ/kg\n",
"x = poly(0, 'x')\n",
"p = H*(qm2+x) - 168.7*qm2-x*384.19\n",
"a = qm2+roots(p)\n",
"printf(' Flow of vapor from he chiller = '+string(a)+' kg/s.')"
   ]
   }
,
{
		   "cell_type": "markdown",
		   "metadata": {},
		   "source": [
			"## Example 5.16: Liquifaction_of_Cl2.sce"
		   ]
		  },
  {
"cell_type": "code",
	   "execution_count": null,
	   "metadata": {
	    "collapsed": true
	   },
	   "outputs": [],
"source": [
"clear;\n",
"clc;\n",
"\n",
"// Stoichiometry\n",
"// Chapter 5\n",
"// Energy Balances\n",
"\n",
"\n",
"// Example 5.16\n",
"// Page 238\n",
"printf('Example 5.16, Page 238 \n \n');\n",
"\n",
"// solution\n",
"\n",
"// basis liquifaction capacity = 0.116 kg/s\n",
"p1 = 101 // kPa\n",
"Ts1 = 239.15\n",
"lv1 = 288.13 // kJ/kg\n",
"p2 = 530 // kPa\n",
"Ts2 = 290.75 // K\n",
"lv2 = 252.93 // kJ/kg\n",
"// referring to table 5.3 and using eq 5.21\n",
"H1 = -39.246*(Ts2-Ts1)+1401.223*10^-3*(Ts2^2-Ts1^2)/2-6047.226*10^-6*(Ts2^3-Ts1^3)/3+8591.4*10^-9*(Ts2^4-Ts1^4)/4  // kJ/kmol\n",
"T3 = 313.15\n",
"H2 = [28.5463*(T3-Ts1)+23.8795*10^-3*(T3^2-Ts1^2)/2-21.3631*10^-6*(T3^3-Ts1^3)/3+6.4726*10^-9*(T3^4-Ts1^4)/4]/70.903  // kJ/kg\n",
"fi2 = .116*H2\n",
"Cl2evp = fi2/lv1  // kg/s\n",
"Cl2recy = Cl2evp/(1-.185)\n",
"R = Cl2recy/.116 // kg/kg fresh feed\n",
"// T4/T1 = (p2/p1)^[(gamma-1)/gamma]\n",
"gm = 1.355\n",
"p22 = 326.3\n",
"p21 = 101\n",
"T4 = Ts1*(p2/p1)^[(gm-1)/gm]\n",
"T5 = 313.15\n",
"fi3 = 1.88*10^-3*(343.1+91.6-26.2+2.5)  // kW\n",
"Fwater1 = fi3/(8*4.1868)  // kg/s\n",
"// similarly\n",
"T6 = 379.9\n",
"fi4 = 1.88*10^-3*[28.5463*(T6-T5)+23.8795*10^-3*(T6^2-T5^2)/2-21.3631*10^-6*(T6^3-T5^3)/3+6.4726*10^-9*(T6^4-T5^4)/4]  // kW\n",
"Fwater2 = fi4/(8*4.1868)  // kg/s\n",
"Wreq = Fwater1+Fwater2\n",
"fi5 = 1.88*10^-3*[28.5463*(T5-Ts2)+23.8795*10^-3*(T5^2-Ts2^2)/2-21.3631*10^-6*(T5^3-Ts2^3)/3+6.4726*10^-9*(T5^4-Ts2^4)/4] +.1333*252.93 // kW\n",
"printf(' (a) \n \n Recycle ratio = '+string(R)+' kg Cl2/kg fresh feed \n \n \n (b) \n \n Cooling water required at \n interface = '+string(Fwater1)+' kg/s \n after cooler = '+string(Wreq)+' kg/s \n \n \n (c) \n \n Refrigiration load of chiller = '+string(fi5)+' kW.')"
   ]
   }
,
{
		   "cell_type": "markdown",
		   "metadata": {},
		   "source": [
			"## Example 5.17: Melting_of_Tin.sce"
		   ]
		  },
  {
"cell_type": "code",
	   "execution_count": null,
	   "metadata": {
	    "collapsed": true
	   },
	   "outputs": [],
"source": [
"clear;\n",
"clc;\n",
"\n",
"// Stoichiometry\n",
"// Chapter 5\n",
"// Energy Balances\n",
"\n",
"\n",
"// Example 5.17\n",
"// Page 242\n",
"printf('Example 5.17, Page 242 \n \n');\n",
"\n",
"// solution\n",
"\n",
"// basis 100 kg of tin\n",
"T1 = 303.15\n",
"T2 = 505.15\n",
"n = 100/118.7  // kmol\n",
"// Q1 = n*[intgr from T1 to T2 (Cms dT)]\n",
"Q1 = 4973.3 // kJ\n",
"lf = 7201\n",
"Q2 = n*lf  // kJ\n",
"Q = Q1+Q2\n",
"lv = 278 // kJ/kg\n",
"vp = Q/lv // kg\n",
"printf(' Quantity of eutectic mixture condensed = '+string(vp)+' kg per 100 kg of tin melted at its melting point.')"
   ]
   }
,
{
		   "cell_type": "markdown",
		   "metadata": {},
		   "source": [
			"## Example 5.18: steam_fluctuation_calculations.sce"
		   ]
		  },
  {
"cell_type": "code",
	   "execution_count": null,
	   "metadata": {
	    "collapsed": true
	   },
	   "outputs": [],
"source": [
"clear;\n",
"clc;\n",
"\n",
"// Stoichiometry\n",
"// Chapter 5\n",
"// Energy Balances\n",
"\n",
"\n",
"// Example 5.18\n",
"// Page 243\n",
"printf('Example 5.18, Page 243 \n \n');\n",
"\n",
"// solution\n",
"\n",
"Ts1 = (438.2+436)/2\n",
"Ta = 300\n",
"fi1 = .045*(Ts1-Ta)*3600\n",
"theta1 = 307293/fi1  //h\n",
"Ts2 = (436+434)/2\n",
"fi2 = .045*(Ts2-Ta)*3600\n",
"theta2 = 302415/fi2\n",
"Ts3 = (434+432.1)/2\n",
"fi3 = .045*(Ts3-Ta)*3600\n",
"theta3 = 313859/fi3\n",
"theta = theta1+theta2+theta3\n",
"printf(' total time required = '+string(theta)+' hrs.')"
   ]
   }
,
{
		   "cell_type": "markdown",
		   "metadata": {},
		   "source": [
			"## Example 5.19: Manufacture_of_dry_ice.sce"
		   ]
		  },
  {
"cell_type": "code",
	   "execution_count": null,
	   "metadata": {
	    "collapsed": true
	   },
	   "outputs": [],
"source": [
"clear;\n",
"clc;\n",
"\n",
"// Stoichiometry\n",
"// Chapter 5\n",
"// Energy Balances\n",
"\n",
"\n",
"// Example 5.19\n",
"// Page 245\n",
"printf('Example 5.19, Page 245 \n \n');\n",
"\n",
"// solution\n",
"\n",
"H1 = 482.9  // kJ/kg\n",
"H2 = 273.4\n",
"fi1 = 100*(H1-H2) // kJ/h\n",
"T1 = 313.15\n",
"T2 = 403.15\n",
"fi11 = 21.3655*(T2-T1)+64.2841*10^-3*(T2^2-T1^2)/2-41.0506*10^-6*(T2^3-T1^3)/3+9.7999*10^-9*(T2^4-T1^4)/4  // kJ/h\n",
"// at 20 MPa\n",
"h1 = 211.1\n",
"Ts = 277.6\n",
"H11 = 427.8\n",
"x = poly(0, 'x')\n",
"p = x*h1+(100-x)*H11-100*H2\n",
"a = roots(p)\n",
"fi2 = (100-a)*(H11-h1)  // kJ/h\n",
"h2 = -148.39\n",
"H3 = 422.61\n",
"y = poly(0, 'y')\n",
"p1 = 100*176.18-(100-y)*H3+h2*y\n",
"b = roots(p1)\n",
"fi3 = 100*(h1-176.8)\n",
"H = fi3+24021 \n",
"H4 = H/(100-43.16)\n",
"// from ref 23\n",
"T = 262.15\n",
"printf(' (a) \n \n Yield of dry ice = '+string(b)+' kg. \n \n \n (b) \n \n Percent liquifaction = '+string(a)+'. \n \n \n (c) \n \n Temp of vented gas = '+string(T)+' K.')"
   ]
   }
,
{
		   "cell_type": "markdown",
		   "metadata": {},
		   "source": [
			"## Example 5.1: Pumping_of_water.sce"
		   ]
		  },
  {
"cell_type": "code",
	   "execution_count": null,
	   "metadata": {
	    "collapsed": true
	   },
	   "outputs": [],
"source": [
"clear;\n",
"clc;\n",
"\n",
"// Stoichiometry\n",
"// Chapter 5\n",
"// Energy Balances\n",
"\n",
"\n",
"// Example 5.1\n",
"// Page 186\n",
"printf('Example 5.1, Page 186 \n \n');\n",
"\n",
"// solution\n",
"\n",
"// basis pumping of 1 l/s of water\n",
"Hadd = 52  // kW\n",
"Hlost = 21  // kW\n",
"fi = Hadd - Hlost  // kW\n",
"p1 = 101325  // Pa\n",
"p2 = p1\n",
"Z1 = -50  // m\n",
"Z2 = 10  // m\n",
"g = 9.80665  // m/s sq\n",
"gc = 1  // kg.m/(N.s sq)\n",
"row = 1  // kg/l\n",
"W = 1.5*.55  // kW\n",
"// energy balance b/w A and B\n",
"// dE = E2-E1 = W + Q + (Z1-Z2)*(g/gc)*qm\n",
"dE = 31.237 // kW\n",
"printf('Increase in internal energy between the storage tank and the bottom of the well = '+string(dE)+' kW.')"
   ]
   }
,
{
		   "cell_type": "markdown",
		   "metadata": {},
		   "source": [
			"## Example 5.20: Steam_produced_in_S_burner.sce"
		   ]
		  },
  {
"cell_type": "code",
	   "execution_count": null,
	   "metadata": {
	    "collapsed": true
	   },
	   "outputs": [],
"source": [
"clear;\n",
"clc;\n",
"\n",
"// Stoichiometry\n",
"// Chapter 5\n",
"// Energy Balances\n",
"\n",
"\n",
"// Example 5.20\n",
"// Page 247\n",
"printf('Example 5.20, Page 247 \n \n');\n",
"\n",
"// solution\n",
"\n",
"// basis 200 kg/h of Sulphur firing\n",
"F = 200/32  // kmol/h\n",
"O2req = 6.25*1.1\n",
"airin = O2req/.21\n",
"N2in = airin-O2req\n",
"T1 = 1144.15\n",
"T2 = 463.15\n",
"fi = 788852.2 // kJ/h\n",
"H = 15*4.1868+1945.2\n",
"qm = fi*.9/2008  // kg/h\n",
"printf(' Amount of steam produced = '+string(qm)+' kg/h.')"
   ]
   }
,
{
		   "cell_type": "markdown",
		   "metadata": {},
		   "source": [
			"## Example 5.21: Equimoar_pentane_and_hexane_mix.sce"
		   ]
		  },
  {
"cell_type": "code",
	   "execution_count": null,
	   "metadata": {
	    "collapsed": true
	   },
	   "outputs": [],
"source": [
"clear;\n",
"clc;\n",
"\n",
"// Stoichiometry\n",
"// Chapter 5\n",
"// Energy Balances\n",
"\n",
"\n",
"// Example 5.21\n",
"// Page 248\n",
"printf('Example 5.21, Page 248 \n \n');\n",
"\n",
"// solution\n",
"\n",
"// enthalpy at Tbb\n",
"Tbb = 321.6\n",
"T1 = 298.15\n",
"H1 = 65.4961*(Tbb-T1)+628.628*10^-3*(Tbb^2-T1^2)/2-1898.8*10^-6*(Tbb^3-T1^3)/3+3186.51*10^-9*(Tbb^4-T1^4)/4  // kJ/kmol\n",
"H2 = 31.421*(Tbb-T1)+976.058*10^-3*(Tbb^2-T1^2)/2-2353.68*10^-6*(Tbb^3-T1^3)/3+3092.73*10^-9*(Tbb^4-T1^4)/4  // kJ/kmol\n",
"Hsol = (H1+H2)/2  // kJ/kmol\n",
"// enthalpy at Tdp\n",
"lv1 = 25790*((469.7-329.9)/(469.7-309.2))^.38\n",
"lv2 = 28850*((507.6-329.9)/(507.6-341.9))^.38\n",
"Tdp = 329.9\n",
"H21ig = 65.4961*(Tdp-T1)+628.628*10^-3*(Tdp^2-T1^2)/2-1898.8*10^-6*(Tdp^3-T1^3)/3+3186.51*10^-9*(Tdp^4-T1^4)/4 + lv1 // kJ/kmol\n",
"H22ig = 31.421*(Tdp-T1)+976.058*10^-3*(Tdp^2-T1^2)/2-2353.68*10^-6*(Tdp^3-T1^3)/3+3092.73*10^-9*(Tdp^4-T1^4)/4 +lv2 // kJ/kmol\n",
"Hmixig = (H21ig+H22ig)/2\n",
"printf(' (a) \n \n H = '+string(Hsol)+' kJ/kmol \n \n \n (b) \n \n H = '+string(Hmixig)+' kJ/kmol')"
   ]
   }
,
{
		   "cell_type": "markdown",
		   "metadata": {},
		   "source": [
			"## Example 5.22: Flashing_of_saturated_liq_mix.sce"
		   ]
		  },
  {
"cell_type": "code",
	   "execution_count": null,
	   "metadata": {
	    "collapsed": true
	   },
	   "outputs": [],
"source": [
"clear;\n",
"clc;\n",
"\n",
"// Stoichiometry\n",
"// Chapter 5\n",
"// Energy Balances\n",
"\n",
"\n",
"// Example 5.22\n",
"// Page 252\n",
"printf('Example 5.22, Page 252 \n \n');\n",
"\n",
"// solution\n",
"\n",
"H1 = 23549  //kJ/kmol\n",
"H2 = 16325\n",
"H3 = 28332\n",
"H4 = .4*H2+.6*H3\n",
"printf('Enthalpy of vapor-liquid mixture after flashing = '+string(H4)+' kJ/mol.')"
   ]
   }
,
{
		   "cell_type": "markdown",
		   "metadata": {},
		   "source": [
			"## Example 5.23: H2_recovery_from_Refinery_off_gases.sce"
		   ]
		  },
  {
"cell_type": "code",
	   "execution_count": null,
	   "metadata": {
	    "collapsed": true
	   },
	   "outputs": [],
"source": [
"clear;\n",
"clc;\n",
"\n",
"// Stoichiometry\n",
"// Chapter 5\n",
"// Energy Balances\n",
"\n",
"\n",
"// Example 5.23\n",
"// Page 253\n",
"printf('Example 5.23, Page 253 \n \n');\n",
"\n",
"// solution\n",
"\n",
"// basis feed gas = 12000 Nm^3 = 535.4 kmol/h\n",
"T1 = 147.65  // K\n",
"n1 = 535.4*.3156  // kmol/h  HP tail gas stream\n",
"T = 118.5 // K\n",
"n2 = (535.4-n1)*.0602 // kmol/h    LP tail stream\n",
"n3 = 535.4-n2-n1 // kmol/h  product H2 stream\n",
"p = 315.35*100/n3\n",
"printf(' Purity of product H2 stream = '+string(p)+' percent.')"
   ]
   }
,
{
		   "cell_type": "markdown",
		   "metadata": {},
		   "source": [
			"## Example 5.24: Refrigiration_calculations.sce"
		   ]
		  },
  {
"cell_type": "code",
	   "execution_count": null,
	   "metadata": {
	    "collapsed": true
	   },
	   "outputs": [],
"source": [
"clear;\n",
"clc;\n",
"\n",
"// Stoichiometry\n",
"// Chapter 5\n",
"// Energy Balances\n",
"\n",
"\n",
"// Example 5.24\n",
"// Page 256\n",
"printf('Example 5.24, Page 256 \n \n');\n",
"\n",
"// solution\n",
"\n",
"// fi1 = integr (from 304.15 to 313.15) {11831.6+24997.4*10T^-3-5979.8*10^-6T^2-31.7*10^-9T3}dt\n",
"fi1 = 170787.7 // kJ/h\n",
"fi2 = 535.4*12086 - [344.36*8743.2+168.97*18036+22.07*15892]  // kJ/h\n",
"printf(' (a) \n \n Refrigiration requirement = '+string(fi1)+' kJ/h \n \n \n (b) \n \n Refrigiration requirement based on real enthalpies = '+string(fi2)+' kJ/h.')"
   ]
   }
,
{
		   "cell_type": "markdown",
		   "metadata": {},
		   "source": [
			"## Example 5.25: Chlorination_of_benzene.sce"
		   ]
		  },
  {
"cell_type": "code",
	   "execution_count": null,
	   "metadata": {
	    "collapsed": true
	   },
	   "outputs": [],
"source": [
"clear;\n",
"clc;\n",
"\n",
"// Stoichiometry\n",
"// Chapter 5\n",
"// Energy Balances\n",
"\n",
"\n",
"// Example 5.25\n",
"// Page 257\n",
"printf('Example 5.25, Page 257 \n \n');\n",
"\n",
"// solution\n",
"\n",
"// basis 100 kmol/h of benzene feed rate\n",
"Cl2 = .4*100\n",
"HClp = 40\n",
"Benzenecon = 37\n",
"MCBp = 100*.37*.9189\n",
"DCBp = Benzenecon-MCBp\n",
"unreactBenzene = 100-Benzenecon\n",
"Nt = HClp + MCBp + DCBp + unreactBenzene\n",
"// using eq      xi = Ni/(L(1-K1)+NtKi)  and sigma xi = 1\n",
"L = 89.669  // kmol/h\n",
"V = Nt - L\n",
"printf(' Liquid product stream = '+string(L)+' kmol/h \n Vapor product stream = '+string(V)+' kmol/h')"
   ]
   }
,
{
		   "cell_type": "markdown",
		   "metadata": {},
		   "source": [
			"## Example 5.26: Heat_of_formation_of_ethylene.sce"
		   ]
		  },
  {
"cell_type": "code",
	   "execution_count": null,
	   "metadata": {
	    "collapsed": true
	   },
	   "outputs": [],
"source": [
"clear;\n",
"clc;\n",
"\n",
"// Stoichiometry\n",
"// Chapter 5\n",
"// Energy Balances\n",
"\n",
"\n",
"// Example 5.26\n",
"// Page 260\n",
"printf('Example 5.26, Page 260 \n \n');\n",
"\n",
"// solution\n",
"\n",
"// 2C + 2O2 = 2CO2                  A\n",
"// 2H2 + O2 = 2H2O                  B\n",
"// C2H4 + 3O2 = 2CO2 + 2H2O         C\n",
"// A+B-C  gives\n",
"// 2C(g) + 2H2 = C2H4(g)            D\n",
"H = -2*393.51-2*241.82+1323.1  // kJ/mol\n",
"printf(' Heat of formation of Ethylene is '+string(H)+' kJ/mol.')"
   ]
   }
,
{
		   "cell_type": "markdown",
		   "metadata": {},
		   "source": [
			"## Example 5.27: Heat_of_combustion_of_ethyl_mercaptan.sce"
		   ]
		  },
  {
"cell_type": "code",
	   "execution_count": null,
	   "metadata": {
	    "collapsed": true
	   },
	   "outputs": [],
"source": [
"clear;\n",
"clc;\n",
"\n",
"// Stoichiometry\n",
"// Chapter 5\n",
"// Energy Balances\n",
"\n",
"\n",
"// Example 5.27\n",
"// Page 260\n",
"printf('Example 5.27, Page 260 \n \n');\n",
"\n",
"// solution\n",
"\n",
"Hc = 2*(-393.51)-887.811+2*(-285.83)-(-73.6+0)  //kJ/mol\n",
"printf(' Heat of combustion of ethyl mercaptan = '+string(Hc)+' kJ/mol.')"
   ]
   }
,
{
		   "cell_type": "markdown",
		   "metadata": {},
		   "source": [
			"## Example 5.28: Std_heat_of_formation_of_gaseous_di_ethyl_ether.sce"
		   ]
		  },
  {
"cell_type": "code",
	   "execution_count": null,
	   "metadata": {
	    "collapsed": true
	   },
	   "outputs": [],
"source": [
"clear;\n",
"clc;\n",
"\n",
"// Stoichiometry\n",
"// Chapter 5\n",
"// Energy Balances\n",
"\n",
"\n",
"// Example 5.28\n",
"// Page 261\n",
"printf('Example 5.28, Page 261 \n \n');\n",
"\n",
"// solution\n",
"\n",
"lv1 = 26694  // kj/kmol\n",
"Tc = 466.74\n",
"lv2 = lv1*((Tc-298.15)/(Tc-307.7))^.38/1000  // kJ/mol\n",
"Hf = -252    // kJ/mol\n",
"Hf1 = Hf-lv2  // kJ/kmol\n",
"printf('Heat of formation of liquid di ethyl ether = '+string(Hf1)+' kJ/mol.')"
   ]
   }
,
{
		   "cell_type": "markdown",
		   "metadata": {},
		   "source": [
			"## Example 5.29: Heat_of_formation_of_motor_spirit.sce"
		   ]
		  },
  {
"cell_type": "code",
	   "execution_count": null,
	   "metadata": {
	    "collapsed": true
	   },
	   "outputs": [],
"source": [
"clear;\n",
"clc;\n",
"\n",
"// Stoichiometry\n",
"// Chapter 5\n",
"// Energy Balances\n",
"\n",
"\n",
"// Example 5.29\n",
"// Page 261\n",
"printf('Example 5.29, Page 261 \n \n');\n",
"\n",
"// solution\n",
"\n",
"// basis 1 kg motor spirit\n",
"G = 141.5/(131.5+64)\n",
"// r = C/H\n",
"r = (74+15*G)/(26-15*G)\n",
"C = r/6.605 // C content of motor spirit\n",
"H2 = 1-C\n",
"O2req = C+H2\n",
"Hf = 44050-27829-18306 // kJ/kg\n",
"printf(' Heat of formation of motor spirit = '+string(Hf)+' kJ/kg.')"
   ]
   }
,
{
		   "cell_type": "markdown",
		   "metadata": {},
		   "source": [
			"## Example 5.2: Heating_of_CH4.sce"
		   ]
		  },
  {
"cell_type": "code",
	   "execution_count": null,
	   "metadata": {
	    "collapsed": true
	   },
	   "outputs": [],
"source": [
"clear;\n",
"clc;\n",
"\n",
"// Stoichiometry\n",
"// Chapter 5\n",
"// Energy Balances\n",
"\n",
"\n",
"// Example 5.2\n",
"// Page 197\n",
"printf('Example 5.2, Page 197 \n \n');\n",
"\n",
"// solution\n",
"\n",
"// using table 5.1\n",
"// basis 1 kmol of methane\n",
"T1 = 303.15  // K\n",
"T2 = 523.15  // K\n",
"// using eq 5.17\n",
"H = 19.2494*(T2-T1) + 52.1135*10^-3*(T2^2-T1^2)/2 + 11.973*10^-6*(T2^3-T1^3)/3 - 11.3173*(T2^4-T1^4)*10^-9/4  // kJ\n",
"printf(' Heat added = '+string(H)+' kJ/kmol methane.')"
   ]
   }
,
{
		   "cell_type": "markdown",
		   "metadata": {},
		   "source": [
			"## Example 5.30: Mean_heat_capacity.sce"
		   ]
		  },
  {
"cell_type": "code",
	   "execution_count": null,
	   "metadata": {
	    "collapsed": true
	   },
	   "outputs": [],
"source": [
"clear;\n",
"clc;\n",
"\n",
"// Stoichiometry\n",
"// Chapter 5\n",
"// Energy Balances\n",
"\n",
"\n",
"// Example 5.30\n",
"// Page 267\n",
"printf('Example 5.30, Page 267 \n \n');\n",
"\n",
"// solution\n",
"\n",
"// basis 1 kmol of styrene\n",
"dH = 241749-189398  // kJ/mol\n",
"Cmpn = dH/(600-298.15)  // kJ/kmol K\n",
"printf(' Mean heat capacity between 600K and 298.15 K is '+string(Cmpn)+' kJ/kmol K.')"
   ]
   }
,
{
		   "cell_type": "markdown",
		   "metadata": {},
		   "source": [
			"## Example 5.31: Heat_of_reactio.sce"
		   ]
		  },
  {
"cell_type": "code",
	   "execution_count": null,
	   "metadata": {
	    "collapsed": true
	   },
	   "outputs": [],
"source": [
"clear;\n",
"clc;\n",
"\n",
"// Stoichiometry\n",
"// Chapter 5\n",
"// Energy Balances\n",
"\n",
"\n",
"// Example 5.31\n",
"// Page 269\n",
"printf('Example 5.31, Page 269 \n \n');\n",
"\n",
"// solution\n",
"\n",
"// basis 1 mol of SiO2 reacted\n",
"Hf = [-2879+3*(-296.81)+3*0/2]-[3*(-1432.7)+1*(-903.5)]  // kJ/mol SiO2\n",
"printf(' Heat of reaction = '+string(Hf)+' kJ/mol SiO2.')"
   ]
   }
,
{
		   "cell_type": "markdown",
		   "metadata": {},
		   "source": [
			"## Example 5.32: Std_heat_of_reactio.sce"
		   ]
		  },
  {
"cell_type": "code",
	   "execution_count": null,
	   "metadata": {
	    "collapsed": true
	   },
	   "outputs": [],
"source": [
"clear;\n",
"clc;\n",
"\n",
"// Stoichiometry\n",
"// Chapter 5\n",
"// Energy Balances\n",
"\n",
"\n",
"// Example 5.32\n",
"// Page 269\n",
"printf('Example 5.32, Page 269 \n \n');\n",
"\n",
"// solution\n",
"\n",
"// basis 100 kg of 2% ammonia solution\n",
"NH3 = 2 // kg\n",
"H2O = 98 // kg\n",
"Hr = -361.2-(-45.94-285.83)  // kJ/mol NH3 dissolved\n",
"Hd = -(Hr*2*1000/17.0305)  // kJ/100 kg sol.\n",
"printf(' heat of reaction = '+string(Hd)+' kJ/100 kg solution.')"
   ]
   }
,
{
		   "cell_type": "markdown",
		   "metadata": {},
		   "source": [
			"## Example 5.33: Burning_of_SO2.sce"
		   ]
		  },
  {
"cell_type": "code",
	   "execution_count": null,
	   "metadata": {
	    "collapsed": true
	   },
	   "outputs": [],
"source": [
"clear;\n",
"clc;\n",
"\n",
"// Stoichiometry\n",
"// Chapter 5\n",
"// Energy Balances\n",
"\n",
"\n",
"// Example 5.33\n",
"// Page 272\n",
"printf('Example 5.33, Page 272 \n \n');\n",
"\n",
"// solution\n",
"\n",
"// basis 1 kmol of SO2 reacted\n",
"a = 22.036-24.771-.5*(26.026)\n",
"b = (121.624-62.948-.5*11.755)\n",
"c = (-91.876+44.258-.5*(-2.343))\n",
"d = (24.369-11.122-.5*(-.562))\n",
"Hr = -395720+296810  // kJ/kmol\n",
"Hro = Hr-a*298.15-b*10^-3*298.15^2/2-c*10^-6*298.15^3/3-d*10^-9*298.15^4/4\n",
"T = 778.15\n",
"Hrt = -Hro-15.748*T+26.4*10^-3*T^2-15.48*10^-6*T^3+3.382*10^-9*T^4\n",
"printf(' Heat of reaction at 775K is '+string(Hrt)+' kJ/kmol.')"
   ]
   }
,
{
		   "cell_type": "markdown",
		   "metadata": {},
		   "source": [
			"## Example 5.34: Esterification_of_acetic_acid.sce"
		   ]
		  },
  {
"cell_type": "code",
	   "execution_count": null,
	   "metadata": {
	    "collapsed": true
	   },
	   "outputs": [],
"source": [
"clear;\n",
"clc;\n",
"\n",
"// Stoichiometry\n",
"// Chapter 5\n",
"// Energy Balances\n",
"\n",
"\n",
"// Example 5.34\n",
"// Page 272\n",
"printf('Example 5.34, Page 272 \n \n');\n",
"\n",
"// solution\n",
"\n",
"Hr = -480-285.83+277.2+484.2  // kJ/mol\n",
"Hrt1 = Hr*1000 + [146.89+75.76-119.55-129.70]*75  // kJ/kmol \n",
"a = 4.2905+50.845-100.92-155.48\n",
"b = 934.378+213.08+111.8386+326.5951\n",
"c = -2640-631.398-498.54-744.199\n",
"d = 3342.58+648.746\n",
"Hro = Hr*1000+a*(-298.15)+b*10^-3*(-298.15^2)/2+c*10^-6*(-298.15^3)/3+d*10^-9*(-298.15^4)/4\n",
"T = 373.15\n",
"Hrt = Hro+a*T+792.949*10^-3*T^2-1504.712*10^-6*T^3+997.832*10^-9*T^4\n",
"printf(' Heat of reaction at 373 K is '+string(Hrt)+' kJ/kmol reactant.')"
   ]
   }
,
{
		   "cell_type": "markdown",
		   "metadata": {},
		   "source": [
			"## Example 5.35: Heat_transfer_in_intercoolers.sce"
		   ]
		  },
  {
"cell_type": "code",
	   "execution_count": null,
	   "metadata": {
	    "collapsed": true
	   },
	   "outputs": [],
"source": [
"clear;\n",
"clc;\n",
"\n",
"// Stoichiometry\n",
"// Chapter 5\n",
"// Energy Balances\n",
"\n",
"\n",
"// Example 5.35\n",
"// Page 273\n",
"printf('Example 5.35, Page 273 \n \n');\n",
"\n",
"// solution\n",
"\n",
"T2 = 800\n",
"T1 = 298.15\n",
"fi1 = 3614.577*(T2-T1)+305.561*10^-3*(T2^2-T2^2)/2+836.881*10^-6*(T2^3-T1^3)/3-393.707*10^-9*(T2^4-T1^4)/4  // kW\n",
"T3 = 875\n",
"fi2 = 3480.737*(T3-T1)+754.347*10^-3*(T3^2-T2^2)/2+442.159*10^-6*(T3^3-T1^3)/3-278.735*10^-9*(T3^4-T1^4)/4  // kW\n",
"Hr = -98910  // kJ/kmol SO2 reacted     by eg 5.33\n",
"fi3 = (8.8511-.351)*Hr/3600  // kW\n",
"dH = fi2/3600+fi3-fi1/3600\n",
"printf(' Net enthalpy change = '+string(dH)+' kW.')"
   ]
   }
,
{
		   "cell_type": "markdown",
		   "metadata": {},
		   "source": [
			"## Example 5.36: Enthalpy_balance_in_the_reactor.sce"
		   ]
		  },
  {
"cell_type": "code",
	   "execution_count": null,
	   "metadata": {
	    "collapsed": true
	   },
	   "outputs": [],
"source": [
"clear;\n",
"clc;\n",
"\n",
"// Stoichiometry\n",
"// Chapter 5\n",
"// Energy Balances\n",
"\n",
"\n",
"// Example 5.36\n",
"// Page 275\n",
"printf('Example 5.36, Page 275 \n \n');\n",
"\n",
"// solution\n",
"\n",
"// basis 100 kmol outgoing gas mixture from scrubber\n",
"moistin = 3127.7*.015/18  // kmol\n",
"waterin = 40.2+moistin  // kmol\n",
"// using tables 5.29 and 5.30\n",
"Hr = -27002658-(-26853359)\n",
"Hr1 = Hr/246.4493  // kJ/kmol total reactants\n",
"printf(' Heat of reaction = '+string(Hr1)+' kJ/kmol total reactants.')"
   ]
   }
,
{
		   "cell_type": "markdown",
		   "metadata": {},
		   "source": [
			"## Example 5.37: Calculation_of_circulation_rate.sce"
		   ]
		  },
  {
"cell_type": "code",
	   "execution_count": null,
	   "metadata": {
	    "collapsed": true
	   },
	   "outputs": [],
"source": [
"clear;\n",
"clc;\n",
"\n",
"// Stoichiometry\n",
"// Chapter 5\n",
"// Energy Balances\n",
"\n",
"\n",
"// Example 5.37\n",
"// Page 276\n",
"printf('Example 5.37, Page 276 \n \n');\n",
"\n",
"// solution\n",
"\n",
"fi3 = 15505407  // kJ/h\n",
"lv = 296.2  // from table 5.6\n",
"Ht = 17131551  // kJ/h\n",
"r = Ht/lv  // kg/h\n",
"printf(' Downtherm circulation rate = '+string(r)+' kg/h.')"
   ]
   }
,
{
		   "cell_type": "markdown",
		   "metadata": {},
		   "source": [
			"## Example 5.38: Loop_reactor_for_EDC_manufacture.sce"
		   ]
		  },
  {
"cell_type": "code",
	   "execution_count": null,
	   "metadata": {
	    "collapsed": true
	   },
	   "outputs": [],
"source": [
"clear;\n",
"clc;\n",
"\n",
"// Stoichiometry\n",
"// Chapter 5\n",
"// Energy Balances\n",
"\n",
"\n",
"// Example 5.38\n",
"// Page 279\n",
"printf('Example 5.38, Page 279 \n \n');\n",
"\n",
"// solution\n",
"\n",
"F = 100  // kmol/h    feed rate of ethylene\n",
"Econ = .99*F\n",
"Econ1 = Econ*.998\n",
"Econ2 = Econ-Econ1\n",
"Cl2con = Econ1+2*Econ2\n",
"Cl2in = F*1.1\n",
"Cl2s3 = Cl2in-Cl2con\n",
"HCls3 = Econ2\n",
"TCEp = Econ2\n",
"EDCp = Econ1\n",
"nC2H4 = 1\n",
"T = 328.15\n",
"pv1 = exp(4.58518-1521.789/(T-24.67))  // bar\n",
"pv2 = exp(4.06974-1310.297/(T-64.41))  // bar\n",
"xEDC = Econ1/(Econ1+Econ2)\n",
"xTEC = 1-xEDC\n",
"pEDC = 37.2*xEDC\n",
"pTEC = 12.64*xTEC\n",
"pCl2HClC2H4 = 1.6*100-pEDC-pTEC\n",
"yEDC = pEDC/160\n",
"yTEC = pTEC/160\n",
"nt = (Cl2s3+Econ2+1)*160/pCl2HClC2H4\n",
"nEDC = yEDC*nt\n",
"nTEC = yTEC*nt\n",
"printf(' Compositions of gas streams : \n \n Component           Stream 3          Stream 5          Stream 4          Stream 6 \n Cl2                 '+string(Cl2s3)+'            '+string(Cl2s3)+' \n HCl                 '+string(HCls3)+'             '+string(HCls3)+' \n C2H4                '+string(nC2H4)+'                 '+string(nC2H4)+' \n EDC                 '+string(nEDC)+'         0.2355            3.3947            98.5665 \n TEC                 '+string(nTEC)+'         Nil               '+string(nTEC)+'         '+string(TCEp)+' \n \n ')\n",
"fi1 = (10.802*33.9+.198*29.1+1*43.6+3.6302*17.4+.0025*85.3)*(328.15-273.15)\n",
"fi2 = 35.053*1000*3.3947+39.58*1000*.0025\n",
"fi3 = (3.3947*129.4+.0025*144.4)*55/2\n",
"fi = fi1+ fi2+ fi3  // kJ/h\n",
"printf(' Heavy duty of Overhead condenser = '+string(fi)+' kJ/h. \n \n ')\n",
"fi5 = (100*43.6+110*33.9)*(328.15-273.15)\n",
"fi6 = 3.6302*1000*33.6+.0025*1000*38.166\n",
"fi7 = (98.5665*129.4+.1988*144.4)*(328.15-273.15)\n",
"fi8 = 216845.5*98.802+392394.5*.198\n",
"ficol = fi5+fi8-fi1-fi6-fi7\n",
"printf(' Heavy duty of external cooler = '+string(ficol)+' kJ/h.')"
   ]
   }
,
{
		   "cell_type": "markdown",
		   "metadata": {},
		   "source": [
			"## Example 5.39: Calculations_in_adiabatic_converter.sce"
		   ]
		  },
  {
"cell_type": "code",
	   "execution_count": null,
	   "metadata": {
	    "collapsed": true
	   },
	   "outputs": [],
"source": [
"clear;\n",
"clc;\n",
"\n",
"// Stoichiometry\n",
"// Chapter 5\n",
"// Energy Balances\n",
"\n",
"\n",
"// Example 5.39\n",
"// Page 284\n",
"printf('Example 5.39, Page 284 \n \n');\n",
"\n",
"// solution\n",
"\n",
"To = 298.15\n",
"T1 = 483.15\n",
"// fi1 = intgr(from To to T1){12199.5+2241.4*10^-3*T+1557.7*10^-6*T^2-671.3*10^-9*T^3}dT\n",
"fi1 = 2455874.6  // kJ/h\n",
"dHr = 2*(-45.94)  // kJ/mol N2 reacted\n",
"fi2 = 91.88*1000*23.168\n",
"fi3 = fi1+fi2\n",
"// fi3 = intgr(from To to T2){10713.9+3841*10^-3*T+1278.8*10^-6*T^2-752.6*10^-9*T^3}dT \n",
"// solving it\n",
"T2 = 657.41  // K\n",
"printf('Temperature of the gas mixture leaving the reactor = '+string(T2)+' K.')"
   ]
   }
,
{
		   "cell_type": "markdown",
		   "metadata": {},
		   "source": [
			"## Example 5.3: Calculation_of_heat_added.sce"
		   ]
		  },
  {
"cell_type": "code",
	   "execution_count": null,
	   "metadata": {
	    "collapsed": true
	   },
	   "outputs": [],
"source": [
"clear;\n",
"clc;\n",
"\n",
"// Stoichiometry\n",
"// Chapter 5\n",
"// Energy Balances\n",
"\n",
"\n",
"// Example 5.3\n",
"// Page 198\n",
"printf('Example 5.3, Page 198 \n \n');\n",
"\n",
"// solution\n",
"\n",
"// basis 1 kmol methane at 25 bar\n",
"Pc = 46.04  // bar\n",
"Tc = 190.5  // K\n",
"Pr = 25/Pc\n",
"// H-Ho = intgr(from303.15 to 523.15){CmpR dT}\n",
"// solving it by simpson's rule\n",
"HE = 255.2  // kJ/kmol\n",
"H = 9175.1+HE\n",
"printf(' Heat added = '+string(H)+' kJ/kmol of methane.')"
   ]
   }
,
{
		   "cell_type": "markdown",
		   "metadata": {},
		   "source": [
			"## Example 5.40: Burning_of_HCl.sce"
		   ]
		  },
  {
"cell_type": "code",
	   "execution_count": null,
	   "metadata": {
	    "collapsed": true
	   },
	   "outputs": [],
"source": [
"clear;\n",
"clc;\n",
"\n",
"// Stoichiometry\n",
"// Chapter 5\n",
"// Energy Balances\n",
"\n",
"\n",
"// Example 5.40\n",
"// Page 292\n",
"printf('Example 5.40, Page 292 \n \n');\n",
"\n",
"// solution\n",
"\n",
"// basis 4 kmol of HCl gas\n",
"O2req = 1  // kmol\n",
"O2spply = 1.35*1\n",
"N2 = 1.35*79/21\n",
"air = O2spply+N2\n",
"HClbrnt = .8*4\n",
"HCl = 4-HClbrnt\n",
"O2 = O2spply-.8\n",
"Cl2 = .8*2\n",
"H2O = .8*2\n",
"printf(' (a) \n \n Composition of dry product gas stream : \n Component           Dry product gas stream,kmol \n HCl                 '+string(HCl)+' \n O2                  '+string(O2)+' \n Cl2                 '+string(Cl2)+' \n H2O                 '+string(H2O)+' \n N2                  '+string(N2)+' \n \n \n (b) \n \n ')\n",
"H2 = 114.4*1000*.8\n",
"// H2 = intgr(from 298.15 to T){286.554+12.596*10^-3*T+63.246*10^-6*T^2-25.933*10^-9*T^3}dT\n",
"// solving it\n",
"T = 599.5  // K\n",
"printf(' Adiabatic reaction temperature of product gas stream = '+string(T)+' K.')"
   ]
   }
,
{
		   "cell_type": "markdown",
		   "metadata": {},
		   "source": [
			"## Example 5.41: Dehydrogenation_of_EB.sce"
		   ]
		  },
  {
"cell_type": "code",
	   "execution_count": null,
	   "metadata": {
	    "collapsed": true
	   },
	   "outputs": [],
"source": [
"clear;\n",
"clc;\n",
"\n",
"// Stoichiometry\n",
"// Chapter 5\n",
"// Energy Balances\n",
"\n",
"\n",
"// Example 5.41\n",
"// Page 294\n",
"printf('Example 5.41, Page 294 \n \n');\n",
"\n",
"// solution\n",
"\n",
"// 1 kmol of EB vapors entering the reactor at 811.15 K\n",
"// (from 811.15 to T1)intgr{-36.72+671.12*10^-3*T-422.02*10^-6*T^2+101.15*10^-9*T^3}dT = (from T1 to 978.15)intgr{487.38+1.19*10^-3*T+198.16*10^-6*T^2-68.21*10^-9*T^3}dT\n",
"// we get\n",
"T1 = 929.72  // K\n",
"To = 298.15\n",
"H1 = 493405  // kJ\n",
"EBr = .35\n",
"Styrenep = EBr*.9\n",
"Benzeneb = EBr*.03\n",
"Ethyleneb = Benzeneb\n",
"Cb = EBr*.01\n",
"Toulened = EBr*.06\n",
"Hr1 = 147.36-29.92  // kJ/mol EB\n",
"Hr2 = 82.93+52.5-29.92\n",
"Hr3 = -29.92\n",
"Hr4 = 50.17-74.52-147.36  // kJ/mol styrene\n",
"dHr = 1000*(Hr1*(Styrenep+Toulened)+Hr2*Benzeneb+Hr3*Cb+Hr4*Toulened)\n",
"H2 = H1-dHr\n",
"// H2 = (from To t0 T2)intgr{Comp2dT\n",
"// we get\n",
"T2 = 798.79  // K\n",
"printf(' Adiabatic reaction T at the outlet of the reactor is '+string(T2)+' K.')"
   ]
   }
,
{
		   "cell_type": "markdown",
		   "metadata": {},
		   "source": [
			"## Example 5.42: Heat_of_crystallizatio.sce"
		   ]
		  },
  {
"cell_type": "code",
	   "execution_count": null,
	   "metadata": {
	    "collapsed": true
	   },
	   "outputs": [],
"source": [
"clear;\n",
"clc;\n",
"\n",
"// Stoichiometry\n",
"// Chapter 5\n",
"// Energy Balances\n",
"\n",
"\n",
"// Example 5.42\n",
"// Page 297\n",
"printf('Example 5.42, Page 297 \n \n');\n",
"\n",
"// solution\n",
"\n",
"Hsol = 62.86  // kJ/mol solute\n",
"Mcrystal = 286.1414\n",
"Hcry = Hsol*1000/Mcrystal  // kJ/kg solute\n",
"printf(' Heat of crystallization of 1 kg crystal is '+string(Hcry)+' kJ.')"
   ]
   }
,
{
		   "cell_type": "markdown",
		   "metadata": {},
		   "source": [
			"## Example 5.43: Heat_of_crystallizatio.sce"
		   ]
		  },
  {
"cell_type": "code",
	   "execution_count": null,
	   "metadata": {
	    "collapsed": true
	   },
	   "outputs": [],
"source": [
"clear;\n",
"clc;\n",
"\n",
"// Stoichiometry\n",
"// Chapter 5\n",
"// Energy Balances\n",
"\n",
"\n",
"// Example 5.43\n",
"// Page 297\n",
"printf('Example 5.43, Page 297 \n \n');\n",
"\n",
"// solution\n",
"\n",
"Hf = -285.82  // kJ/mol    of H2O\n",
"Hcryst = -4327.26-(-1387.08+10*Hf)\n",
"printf(' Heat of crystallization = '+string(Hcryst)+' kJ/mol.')"
   ]
   }
,
{
		   "cell_type": "markdown",
		   "metadata": {},
		   "source": [
			"## Example 5.44: Heat_of_sol_of_Boric_acid.sce"
		   ]
		  },
  {
"cell_type": "code",
	   "execution_count": null,
	   "metadata": {
	    "collapsed": true
	   },
	   "outputs": [],
"source": [
"clear;\n",
"clc;\n",
"\n",
"// Stoichiometry\n",
"// Chapter 5\n",
"// Energy Balances\n",
"\n",
"\n",
"// Example 5.44\n",
"// Page 297\n",
"printf('Example 5.44, Page 297 \n \n');\n",
"\n",
"// solution\n",
"\n",
"Hfs = -1094.33\n",
"Hfao = -1072.32\n",
"Hsol = Hfao-Hfs\n",
"printf(' Heat of solution of Boric acid = '+string(Hsol)+' kJ/mol.')"
   ]
   }
,
{
		   "cell_type": "markdown",
		   "metadata": {},
		   "source": [
			"## Example 5.45: Heat_of_dissolutio.sce"
		   ]
		  },
  {
"cell_type": "code",
	   "execution_count": null,
	   "metadata": {
	    "collapsed": true
	   },
	   "outputs": [],
"source": [
"clear;\n",
"clc;\n",
"\n",
"// Stoichiometry\n",
"// Chapter 5\n",
"// Energy Balances\n",
"\n",
"\n",
"// Example 5.45\n",
"// Page 297\n",
"printf('Example 5.45, Page 297 \n \n');\n",
"\n",
"// solution\n",
"\n",
"// (a)\n",
"Hf = -982.8\n",
"Hfcryst = -1053.904\n",
"Hdis = Hfcryst-Hf\n",
"// (b)\n",
"Hfcr = -3077.75\n",
"Hsol = Hfcryst+7*(-285.83)-(-3077.75)\n",
"printf(' (a) \n \n Hdissolulition = '+string(Hdis)+' kJ/mol ZnSO4. \n \n \n (b) \n \n Hsolution = '+string(Hsol)+' kJ/kmol.')"
   ]
   }
,
{
		   "cell_type": "markdown",
		   "metadata": {},
		   "source": [
			"## Example 5.46: T_change_in_dissolution.sce"
		   ]
		  },
  {
"cell_type": "code",
	   "execution_count": null,
	   "metadata": {
	    "collapsed": true
	   },
	   "outputs": [],
"source": [
"clear;\n",
"clc;\n",
"\n",
"// Stoichiometry\n",
"// Chapter 5\n",
"// Energy Balances\n",
"\n",
"\n",
"// Example 5.46\n",
"// Page 300\n",
"printf('Example 5.46, Page 300 \n \n');\n",
"\n",
"// solution\n",
"\n",
"// using chart 5.16 we get\n",
"T = 329.5  // K\n",
"printf(' T = '+string(T)+' K.')"
   ]
   }
,
{
		   "cell_type": "markdown",
		   "metadata": {},
		   "source": [
			"## Example 5.47: Using_std_heat_of_formations.sce"
		   ]
		  },
  {
"cell_type": "code",
	   "execution_count": null,
	   "metadata": {
	    "collapsed": true
	   },
	   "outputs": [],
"source": [
"clear;\n",
"clc;\n",
"\n",
"// Stoichiometry\n",
"// Chapter 5\n",
"// Energy Balances\n",
"\n",
"\n",
"// Example 5.47\n",
"// Page 300\n",
"printf('Example 5.47, Page 300 \n \n');\n",
"\n",
"// solution\n",
"// basis 100(m1) kg 46% sol\n",
"NaOH = 46  // kg\n",
"H2O = 54  // kg\n",
"m2 = NaOH/.25\n",
"NaOHo = 25  // kg\n",
"H2Oo = 75  // kg\n",
"Hf1 = -453.138  // kJ/mol\n",
"Hf2 = -467.678  // kJ/mol\n",
"Hs = Hf2-Hf1\n",
"Hg = -Hs*1000*1.501\n",
"// using Appendix IV.1\n",
"Hw1 = 146.65\n",
"Hw2 = 104.9\n",
"Hadd = 84*(Hw1-Hw2)\n",
"H = Hg+Hadd\n",
"C1 = 3.55\n",
"T2 = 298.15+H/(184*C1)  // K\n",
"printf(' Final sol T = '+string(T2)+' K.')"
   ]
   }
,
{
		   "cell_type": "markdown",
		   "metadata": {},
		   "source": [
			"## Example 5.48: Heat_effect_of_the_solutio.sce"
		   ]
		  },
  {
"cell_type": "code",
	   "execution_count": null,
	   "metadata": {
	    "collapsed": true
	   },
	   "outputs": [],
"source": [
"clear;\n",
"clc;\n",
"\n",
"// Stoichiometry\n",
"// Chapter 5\n",
"// Energy Balances\n",
"\n",
"\n",
"// Example 5.48\n",
"// Page 301\n",
"printf('Example 5.48, Page 301 \n \n');\n",
"\n",
"// solution\n",
"// basis 100 kg of sol with 32% N\n",
"MNH4NO3 = 80.0434\n",
"MNH2CONO2 = 60.0553\n",
"MN2 = 28.0134\n",
"na = 32/(60.9516)\n",
"Ureadis = 1.1758*na*MNH2CONO2  // kg\n",
"water = 100-(na*MNH4NO3+Ureadis)\n",
"ndis = 525\n",
"m = ndis/water\n",
"HE1 = 40.3044-2.5962*m+.1582*m^2-3.4782*10^-3*m^3\n",
"HE = HE1*ndis\n",
"printf('Heat effect of the sol = '+string(HE)+' kJ.')"
   ]
   }
,
{
		   "cell_type": "markdown",
		   "metadata": {},
		   "source": [
			"## Example 5.49: Integral_heats_of_solution.sce"
		   ]
		  },
  {
"cell_type": "code",
	   "execution_count": null,
	   "metadata": {
	    "collapsed": true
	   },
	   "outputs": [],
"source": [
"clear;\n",
"clc;\n",
"\n",
"// Stoichiometry\n",
"// Chapter 5\n",
"// Energy Balances\n",
"\n",
"\n",
"// Example 5.49\n",
"// Page 302\n",
"printf('Example 5.49, Page 302 \n \n');\n",
"\n",
"// solution\n",
"Hmix = 896\n",
"M1 = 88  // molar mass of n-amyl alcohol\n",
"M2 = 78  // molar mass of benzene\n",
"B = .473*M2\n",
"A = .527*M1\n",
"Ha = Hmix/A\n",
"Hb = Hmix/B\n",
"printf(' Integral heat of sol of n-amyl alcohol = '+string(Ha)+' kJ/kg n-amyl alcohol and of benzene = '+string(Hb)+' kJ/kg benzene.')"
   ]
   }
,
{
		   "cell_type": "markdown",
		   "metadata": {},
		   "source": [
			"## Example 5.4: Heating_of_Toulene.sce"
		   ]
		  },
  {
"cell_type": "code",
	   "execution_count": null,
	   "metadata": {
	    "collapsed": true
	   },
	   "outputs": [],
"source": [
"clear;\n",
"clc;\n",
"\n",
"// Stoichiometry\n",
"// Chapter 5\n",
"// Energy Balances\n",
"\n",
"\n",
"// Example 5.4\n",
"// Page 206\n",
"printf('Example 5.4, Page 206 \n \n');\n",
"\n",
"// solution\n",
"\n",
"// using table 5.3\n",
"// .25 kg/s toulene heated from 290.15K to 350.15K\n",
"qm = .25/92  // kmol/s\n",
"// reference 7\n",
"fi = 2.717*10^-3*[1.8083*(350.15-290.15) + 812.223*10^-3*(350.15^2-290.15^2)/2 - 1512.67*10^-6*(350.15^3-290.15^3)/3 + 1630.01*10^-9*(350.15^4-290.15^4)/4]\n",
"printf(' Heat required to be added to toulene = '+string(fi)+' kW.')"
   ]
   }
,
{
		   "cell_type": "markdown",
		   "metadata": {},
		   "source": [
			"## Example 5.50: Hx_for_H2SO4.sce"
		   ]
		  },
  {
"cell_type": "code",
	   "execution_count": null,
	   "metadata": {
	    "collapsed": true
	   },
	   "outputs": [],
"source": [
"clear;\n",
"clc;\n",
"\n",
"// Stoichiometry\n",
"// Chapter 5\n",
"// Energy Balances\n",
"\n",
"\n",
"// Example 5.50\n",
"// Page 302\n",
"printf('Example 5.50, Page 302 \n \n');\n",
"\n",
"// solution\n",
"// from fig 5.18\n",
"Ta = 379.5 // K\n",
"dH = -274-(-106.5) // kJ/kg sol\n",
"Cm = 2.05  // kJ/kg K\n",
"dHc = Cm*(Ta-298.15)\n",
"// basis 100 kg of 93 % acid\n",
"// acid balance \n",
"x = poly(0, 'x')\n",
"p = .93*100+x*.15-(100+x)*.77\n",
"y = roots(p)\n",
"//from fig\n",
"y1 = 25.3\n",
"printf(' (a) \n \n Resultant T of 77 percent sol = '+string(Ta)+' K. \n \n \n (b) \n \n Heat to be removed to cool it to 298.15 K = '+string(dH)+' kJ/kg sol \n \n \n (c) \n \n By mean heat capacity method : '+string(dHc)+' kJ/kg sol \n \n \n (d) \n \n Quantity of 15 percent acid to be mixed = '+string(y)+' kg. \n \n \n (e) \n \n from fig : '+string(y1)+' kg.')"
   ]
   }
,
{
		   "cell_type": "markdown",
		   "metadata": {},
		   "source": [
			"## Example 5.51: Using_heat_of_formations_of_H2SO4.sce"
		   ]
		  },
  {
"cell_type": "code",
	   "execution_count": null,
	   "metadata": {
	    "collapsed": true
	   },
	   "outputs": [],
"source": [
"clear;\n",
"clc;\n",
"\n",
"// Stoichiometry\n",
"// Chapter 5\n",
"// Energy Balances\n",
"\n",
"\n",
"// Example 5.51\n",
"// Page 304\n",
"printf('Example 5.51, Page 304 \n \n');\n",
"\n",
"// solution\n",
"// basis 100 kg of 93% acid and 25.8 kg of 15% acid\n",
"Hfp = -814\n",
"Hf1 = -830\n",
"HE1 = Hf1-Hfp\n",
"Hf2 = -886.2\n",
"HE2 = Hf2-Hfp\n",
"Hf3 = -851\n",
"HE3 = Hf3-Hfp\n",
"Hsol = .9876*1000*(-37)-[.9482*1000*(-16)+.0394*1000*(-72.2)]\n",
"Hev = 100*(30-25)*1.6\n",
"Hcon = 25.8*25*3.7\n",
"netHev = -Hsol-Hcon+Hev\n",
"T = 298.15+netHev/(125.8*2.05)\n",
"printf(' Temp of sol = '+string(T)+' K.')"
   ]
   }
,
{
		   "cell_type": "markdown",
		   "metadata": {},
		   "source": [
			"## Example 5.52: Heat_to_be_removed_for_cooling_it_to_308K.sce"
		   ]
		  },
  {
"cell_type": "code",
	   "execution_count": null,
	   "metadata": {
	    "collapsed": true
	   },
	   "outputs": [],
"source": [
"clear;\n",
"clc;\n",
"\n",
"// Stoichiometry\n",
"// Chapter 5\n",
"// Energy Balances\n",
"\n",
"\n",
"// Example 5.52\n",
"// Page 306\n",
"printf('Example 5.52, Page 306 \n \n');\n",
"\n",
"// solution\n",
"\n",
"// basis 1000 kg of mixed acid\n",
"C11 = 2.45\n",
"H1 = -296.7+C11*(308.15-273.15)\n",
"C12 = 2.2\n",
"H2 = -87.8+C12*(308.15-273.15)\n",
"C13 = 1.45\n",
"H3 = -35.5+C13*(308.15-273.15)\n",
"C14 = 1.8\n",
"H4 = -148.9+C14*(308.15-273.15)\n",
"Hmix = 1000*H4-[76.3*H1+345.9*H2+577.7*H3]\n",
"printf(' Heat of mixing = '+string(Hmix)+' kJ.')"
   ]
   }
,
{
		   "cell_type": "markdown",
		   "metadata": {},
		   "source": [
			"## Example 5.53: Heat_changes_in_formation_of_MNB.sce"
		   ]
		  },
  {
"cell_type": "code",
	   "execution_count": null,
	   "metadata": {
	    "collapsed": true
	   },
	   "outputs": [],
"source": [
"clear;\n",
"clc;\n",
"\n",
"// Stoichiometry\n",
"// Chapter 5\n",
"// Energy Balances\n",
"\n",
"\n",
"// Example 5.53\n",
"// Page 308\n",
"printf('Example 5.53, Page 308 \n \n');\n",
"\n",
"// solution\n",
"\n",
"F = 1135\n",
"Benzenef = 400*.993\n",
"HNO3con = Benzenef*63/78\n",
"H1 = -186.5\n",
"C11 = 1.88\n",
"H11 = H1+C11*(298.15-273.15)\n",
"H2 = -288.9\n",
"C12 = 1.96\n",
"H22 = H2+C12*(298.15-273.15)\n",
"H3 = 0\n",
"C13 = 1.98\n",
"H33 = C13*(298.15-273.15)\n",
"Hr = -285.83+12.5-(-174.1+49.08)\n",
"Benzener = Benzenef/78.1118\n",
"fi = 903.84*H22+HNO3con*H33-F*H11+Benzener*Hr*1000  // kJ/h\n",
"printf(' Total heat exchanged = '+string(fi)+' kJ/h.')"
   ]
   }
,
{
		   "cell_type": "markdown",
		   "metadata": {},
		   "source": [
			"## Example 5.54: Final_T_of_solution_in_absorption_of_NH3.sce"
		   ]
		  },
  {
"cell_type": "code",
	   "execution_count": null,
	   "metadata": {
	    "collapsed": true
	   },
	   "outputs": [],
"source": [
"clear;\n",
"clc;\n",
"\n",
"// Stoichiometry\n",
"// Chapter 5\n",
"// Energy Balances\n",
"\n",
"\n",
"// Example 5.54\n",
"// Page 311\n",
"printf('Example 5.54, Page 311 \n \n');\n",
"\n",
"// solution\n",
"\n",
"// from ref 24\n",
"H = 1600.83\n",
"To = 273.15\n",
"h = 200\n",
"Hf1 = -79.3  // table 5.59\n",
"Hf2 = -46.11\n",
"Hsol = Hf1-Hf2\n",
"Hg = Hsol*1000*140/17.0305\n",
"Raq = 140/.15  // kg/h\n",
"dT = Hg/(4.145*Raq)\n",
"T = -dT+303\n",
"printf(' Temp of resultant sol = '+string(T)+' K.')"
   ]
   }
,
{
		   "cell_type": "markdown",
		   "metadata": {},
		   "source": [
			"## Example 5.55: Using_table_5_60.sce"
		   ]
		  },
  {
"cell_type": "code",
	   "execution_count": null,
	   "metadata": {
	    "collapsed": true
	   },
	   "outputs": [],
"source": [
"clear;\n",
"clc;\n",
"\n",
"// Stoichiometry\n",
"// Chapter 5\n",
"// Energy Balances\n",
"\n",
"\n",
"// Example 5.55\n",
"// Page 311\n",
"printf('Example 5.55, Page 311 \n \n');\n",
"\n",
"// solution\n",
"\n",
"Hf1 = -80.14\n",
"Hf2 = -46.11\n",
"Hsol = Hf1-Hf2\n",
"Hg = Hsol*1000*2/17.0305\n",
"printf(' Heat generated for making 2 percent solution = '+string(Hg)+' kJ/100 kg sol.')"
   ]
   }
,
{
		   "cell_type": "markdown",
		   "metadata": {},
		   "source": [
			"## Example 5.56: Heat_removed_in_cooler.sce"
		   ]
		  },
  {
"cell_type": "code",
	   "execution_count": null,
	   "metadata": {
	    "collapsed": true
	   },
	   "outputs": [],
"source": [
"clear;\n",
"clc;\n",
"\n",
"// Stoichiometry\n",
"// Chapter 5\n",
"// Energy Balances\n",
"\n",
"\n",
"// Example 5.56\n",
"// Page 312\n",
"printf('Example 5.56, Page 312 \n \n');\n",
"\n",
"// solution\n",
"\n",
"fi3 = 15505407\n",
"fi4 = 11395056\n",
"fi5 = fi3-fi4  // kJ/h\n",
"fi6 = 111.375*62.75*1000\n",
"fi7 = 1063379\n",
"fi8 = 5532.15*4.1868*(303.15-298.15)\n",
"fi9 = 9030.4*3.45*(323.15-298.15)\n",
"fi = fi5+fi6+fi8-fi7-fi9\n",
"printf(' Heat removal in the cooler = '+string(fi)+' kJ/h.')"
   ]
   }
,
{
		   "cell_type": "markdown",
		   "metadata": {},
		   "source": [
			"## Example 5.57: Hx_vs_x1.sce"
		   ]
		  },
  {
"cell_type": "code",
	   "execution_count": null,
	   "metadata": {
	    "collapsed": true
	   },
	   "outputs": [],
"source": [
"clear;\n",
"clc;\n",
"\n",
"// Stoichiometry\n",
"// Chapter 5\n",
"// Energy Balances\n",
"\n",
"\n",
"// Example 5.57\n",
"// Page 314\n",
"printf('Example 5.57, Page 314 \n \n');\n",
"\n",
"// solution\n",
"\n",
"To = 273.15\n",
"T1 = 308.15\n",
"H1 = 124.8*(T1-To)  // kJ/kmol\n",
"H2 = 134.9*(T1-To)  // kJ/kmol\n",
"HE1 = .1*.9*[542.4+55.4*(.9-.1)-132.8*(.9-.1)^2-168.9*(.9-.1)^3]  // kJ/kmol of mix\n",
"Ha = HE1+H1*.1+H2*.9\n",
"HE2 = .2*.8*[542.4+55.4*(.8-.2)-132.8*(.8-.2)^2-168.9*(.8-.2)^3]  // kJ/kmol of mix\n",
"Hb = HE2+H1*.2+H2*.8\n",
"HE3 = .3*.7*[542.4+55.4*(.7-.3)-132.8*(.7-.3)^2-168.9*(.7-.3)^3]  // kJ/kmol of mix\n",
"Hc = HE3+H1*.3+H2*.7\n",
"HE4 = .4*.6*[542.4+55.4*(.6-.4)-132.8*(.6-.4)^2-168.9*(.6-.4)^3]  // kJ/kmol of mix\n",
"Hd = HE4+H1*.4+H2*.6\n",
"HE5 = .5*.5*[542.4+55.4*(.5-.5)-132.8*(.5-.5)^2-168.9*(.5-.5)^3]  // kJ/kmol of mix\n",
"He = HE5+H1*.5+H2*.5\n",
"HE6 = .6*.4*[542.4+55.4*(.4-.6)-132.8*(.4-.6)^2-168.9*(.4-.6)^3]  // kJ/kmol of mix\n",
"Hf = HE6+H1*.6+H2*.4\n",
"HE7 = .7*.3*[542.4+55.4*(.3-.7)-132.8*(.3-.7)^2-168.9*(.3-.7)^3]  // kJ/kmol of mix\n",
"Hg = HE7+H1*.7+H2*.3\n",
"HE8 = .8*.2*[542.4+55.4*(.2-.8)-132.8*(.2-.8)^2-168.9*(.2-.8)^3]  // kJ/kmol of mix\n",
"Hh = HE8+H1*.8+H2*.2\n",
"HE9 = .9*.1*[542.4+55.4*(.1-.9)-132.8*(.1-.9)^2-168.9*(.1-.9)^3]  // kJ/kmol of mix\n",
"Hi = HE9+H1*.9+H2*.1\n",
"HE10 = .0*1.*[542.4+55.4*(.0-1.)-132.8*(.0-1.)^2-168.9*(.0-1.)^3]  // kJ/kmol of mix\n",
"Hj = HE10+H1+H2*0\n",
"x = linspace(0,1,100)\n",
"y = linspace(4300,5000,100)\n",
"y = 4721.5-57.4*x+1137.7*x^2-3993.6*x^3+3909.2*x^4-1351.2*x^5\n",
"plot(x,y)\n",
"title('H vs x1')\n",
"xlabel('x1')\n",
"ylabel('H (kJ/kg sol.)')\n",
"printf('                         Enthalpy, kJ/kmol mix \n  x1           HE                 H \n  0            0                  '+string(H2)+' \n  0.1          '+string(HE1)+'          '+string(Ha)+' \n  0.2          '+string(HE2)+'          '+string(Hb)+' \n  0.3          '+string(HE3)+'           '+string(Hc)+' \n  0.4          '+string(HE4)+'          '+string(Hd)+' \n  0.5          '+string(HE5)+'              '+string(He)+' \n  0.6          '+string(HE6)+'          '+string(Hf)+' \n  0.7          '+string(HE7)+'          '+string(Hg)+' \n  0.8          '+string(HE8)+'          '+string(Hh)+' \n  0.9          '+string(HE9)+'          '+string(Hi)+' \n  1.0          '+string(HE10)+'                  '+string(Hj)+'')"
   ]
   }
,
{
		   "cell_type": "markdown",
		   "metadata": {},
		   "source": [
			"## Example 5.58: repat_of_5_57_using_heat_capacities.sce"
		   ]
		  },
  {
"cell_type": "code",
	   "execution_count": null,
	   "metadata": {
	    "collapsed": true
	   },
	   "outputs": [],
"source": [
"clear;\n",
"clc;\n",
"\n",
"// Stoichiometry\n",
"// Chapter 5\n",
"// Energy Balances\n",
"\n",
"\n",
"// Example 5.58\n",
"// Page 316\n",
"printf('Example 5.58, Page 316 \n \n');\n",
"\n",
"// solution\n",
"\n",
"// see eg 5.57\n",
"printf(' refer to eg 5.57')"
   ]
   }
,
{
		   "cell_type": "markdown",
		   "metadata": {},
		   "source": [
			"## Example 5.59: He_vs_x1_of_acetone_and_ethylacetate.sce"
		   ]
		  },
  {
"cell_type": "code",
	   "execution_count": null,
	   "metadata": {
	    "collapsed": true
	   },
	   "outputs": [],
"source": [
"clear;\n",
"clc;\n",
"\n",
"// Stoichiometry\n",
"// Chapter 5\n",
"// Energy Balances\n",
"\n",
"\n",
"// Example 5.59\n",
"// Page 318\n",
"printf('Example 5.59, Page 318 \n \n');\n",
"\n",
"// solution\n",
"\n",
"// from graph drawn in 5.57 we can see\n",
"H1E1 = 300\n",
"H1E2 = 63\n",
"H2E1 = 30\n",
"H2E2 = 214\n",
"printf(' H1 at x1=0.3 is '+string(H1E1)+' kJ/kg sol \n H2 at x1=0.3 is '+string(H2E1)+' kJ/kg sol \n H1 at x1=0.6 is '+string(H1E2)+' kJ/kg sol \n H2 at x1=0.6 is '+string(H2E2)+' kJ/kg sol.')"
   ]
   }
,
{
		   "cell_type": "markdown",
		   "metadata": {},
		   "source": [
			"## Example 5.5: Aq_caustic_soda_heating.sce"
		   ]
		  },
  {
"cell_type": "code",
	   "execution_count": null,
	   "metadata": {
	    "collapsed": true
	   },
	   "outputs": [],
"source": [
"clear;\n",
"clc;\n",
"\n",
"// Stoichiometry\n",
"// Chapter 5\n",
"// Energy Balances\n",
"\n",
"\n",
"// Example 5.5\n",
"// Page 206\n",
"printf('Example 5.5, Page 206 \n \n');\n",
"\n",
"// solution\n",
"\n",
"// basis 1kg of 20% NaOH sol\n",
"// referring to fig 5.4\n",
"C11 = 3.56  // kJ/kg.K   at 280.15K\n",
"C12 = 3.71  // kJ/kg.K   at 360.15K\n",
"C1m = (C11+C12)/2\n",
"H = 1*C1m*(360.15-280.15)  // kJ\n",
"printf(' Heat required to be added = '+string(H)+'kJ.')"
   ]
   }
,
{
		   "cell_type": "markdown",
		   "metadata": {},
		   "source": [
			"## Example 5.60: Heat_of_dilutio.sce"
		   ]
		  },
  {
"cell_type": "code",
	   "execution_count": null,
	   "metadata": {
	    "collapsed": true
	   },
	   "outputs": [],
"source": [
"clear;\n",
"clc;\n",
"\n",
"// Stoichiometry\n",
"// Chapter 5\n",
"// Energy Balances\n",
"\n",
"\n",
"// Example 5.60\n",
"// Page 320\n",
"printf('Example 5.60, Page 320 \n \n');\n",
"\n",
"// solution\n",
"\n",
"// basis 100 kg 96.1% H2SO4\n",
"// from table 5.64\n",
"m1SO3 = 78.4  // kg\n",
"m1H2O = 21.6\n",
"n1SO3 = m1SO3/80.063\n",
"n1H2O = m1H2O/18.015\n",
"// resultant sol has 23.2% H2SO4\n",
"m2SO3 = 19\n",
"m2H2O = 81\n",
"Mrsol = m1SO3*100/m2SO3\n",
"Mw = Mrsol-100\n",
"w = Mrsol-m1SO3/18.015  // kmol\n",
"HEosol = n1SO3*(-56940)+n1H2O*(-32657)  // kJ\n",
"HErsol = n1SO3*(-156168)+w-(-335)\n",
"HE = HErsol-HEosol  // kJ/kg original acid\n",
"C = 3.43  // kJ/kg K\n",
"dT = -HE/(Mrsol*C)\n",
"T = 291.15+dT  // K\n",
"printf(' Heat of dilution = '+string(HE)+' kJ/kg original solution \n \n Final T of resultant solution = '+string(T)+' K.')"
   ]
   }
,
{
		   "cell_type": "markdown",
		   "metadata": {},
		   "source": [
			"## Example 5.61: eg_5_60_with_use_of_ice_at_273K.sce"
		   ]
		  },
  {
"cell_type": "code",
	   "execution_count": null,
	   "metadata": {
	    "collapsed": true
	   },
	   "outputs": [],
"source": [
"clear;\n",
"clc;\n",
"\n",
"// Stoichiometry\n",
"// Chapter 5\n",
"// Energy Balances\n",
"\n",
"\n",
"// Example 5.61\n",
"// Page 321\n",
"printf('Example 5.61, Page 321 \n \n');\n",
"\n",
"// solution\n",
"\n",
"// basis 100 kg of original acid\n",
"lv = 333.7  // kJ/kg\n",
"H = -lv-18*4.1868\n",
"HE = (-64277-H*312.63)/100  // kJ/kg\n",
"printf(' Heat of dilution = '+string(HE)+' kJ/kg.')"
   ]
   }
,
{
		   "cell_type": "markdown",
		   "metadata": {},
		   "source": [
			"## Example 5.6: Heating_Chlorinated_diphenyl.sce"
		   ]
		  },
  {
"cell_type": "code",
	   "execution_count": null,
	   "metadata": {
	    "collapsed": true
	   },
	   "outputs": [],
"source": [
"clear;\n",
"clc;\n",
"\n",
"// Stoichiometry\n",
"// Chapter 5\n",
"// Energy Balances\n",
"\n",
"\n",
"// Example 5.6\n",
"// Page 207\n",
"printf('Example 5.6, Page 207 \n \n');\n",
"\n",
"// solution\n",
"\n",
"// basis 1kg Diphyl A-30\n",
"Q = .7511*(553.15-313.15) + 1.465*10^-3*(553.15^2-313.15^2)/2   // kJ/kg\n",
"fi = Q*4000  // kJ/h    for mass flowrate 4000 kg/h\n",
"Clm = (1.1807+1.5198)/2\n",
"fi1 = Clm*(553.15-313.15)*4000/3600  // kJ/h\n",
"err = (fi1-Q)*100/Q\n",
"printf(' Heat to be supplied = '+string(fi1)+' kW \n Percent error = '+string(err)+'.')"
   ]
   }
,
{
		   "cell_type": "markdown",
		   "metadata": {},
		   "source": [
			"## Example 5.7: Roasting_of_pyrites_fine.sce"
		   ]
		  },
  {
"cell_type": "code",
	   "execution_count": null,
	   "metadata": {
	    "collapsed": true
	   },
	   "outputs": [],
"source": [
"clear;\n",
"clc;\n",
"\n",
"// Stoichiometry\n",
"// Chapter 5\n",
"// Energy Balances\n",
"\n",
"\n",
"// Example 5.7\n",
"// Page 208\n",
"printf('Example 5.7, Page 208 \n \n');\n",
"\n",
"// solution\n",
"\n",
"T1 = 298.15 // K\n",
"T2 = 775.15  //K\n",
"// using eq 5.17\n",
"Q = 28.839*(T2-T1)+2.0395*10^-3*(T2^2-T1^2)/2 + 6.9907*10^-6*(T2^3-T1^3)/3 - 3.2304*10^-9*(T2^4-T1^4)/4  // kJ/kmol\n",
"printf(' Heat content of 1 kmol of gas mixture at 298K = '+string(Q)+' kJ/kmol.')"
   ]
   }
,
{
		   "cell_type": "markdown",
		   "metadata": {},
		   "source": [
			"## Example 5.8: Anniline_and_water_mix_subcooled.sce"
		   ]
		  },
  {
"cell_type": "code",
	   "execution_count": null,
	   "metadata": {
	    "collapsed": true
	   },
	   "outputs": [],
"source": [
"clear;\n",
"clc;\n",
"\n",
"// Stoichiometry\n",
"// Chapter 5\n",
"// Energy Balances\n",
"\n",
"\n",
"// Example 5.8\n",
"// Page 210\n",
"printf('Example 5.8, Page 210 \n \n');\n",
"\n",
"// solution\n",
"\n",
"// basis 8000 kg/h mixture is to be cooled\n",
"qn1m = .118*8000    // kg/h\n",
"qn1 = qn1m/93.1242  // kmol/h\n",
"qn2m = 8000-qn1m     // kg/h\n",
"qn2 = qn2m/18        // kmol/h\n",
"T1 = 373.15   //K\n",
"T2 = 313.15   //K\n",
"fi = qn1*[206.27*(T1-T2)-211.5065*10^-3*(T1^2-T2^2)/2+564.2902*10^-6*(T1^3-T2^3)/3] + qn2*[50.845*(T1-T2)+213.08*10^-3*(T1^2-T2^2)/2-631.398*10^-6*(T1^3-T2^3)/3+648.746*10^-9*(T1^4-T2^4)/4]  // kJ/h\n",
"printf(' Heat removal rate of subcooling zone of the condenser = '+string(fi)+' kJ/h.')"
   ]
   }
,
{
		   "cell_type": "markdown",
		   "metadata": {},
		   "source": [
			"## Example 5.9: Vapor_Pressure_calculations.sce"
		   ]
		  },
  {
"cell_type": "code",
	   "execution_count": null,
	   "metadata": {
	    "collapsed": true
	   },
	   "outputs": [],
"source": [
"clear;\n",
"clc;\n",
"\n",
"// Stoichiometry\n",
"// Chapter 5\n",
"// Energy Balances\n",
"\n",
"\n",
"// Example 5.9\n",
"// Page 220\n",
"printf('Example 5.9, Page 220 \n \n');\n",
"\n",
"// solution\n",
"\n",
"// (a)\n",
"T = 305.15 //K\n",
"Pv1 = 10^(4.0026-(1171.530/(305.15-48.784)))  // bar\n",
"// (b)\n",
"T = 395.15 \n",
"Pv2 = 10^(3.559-(643.748/(395.15-198.043)))   // bar\n",
"printf(' (a) \n \n V.P. of n-hexane at 305.15K = '+string(Pv1)+' bar. \n \n \n (b) \n \n V.P. of water at 395.15K = '+string(Pv2)+' bar.')"
   ]
   }
],
"metadata": {
		  "kernelspec": {
		   "display_name": "Scilab",
		   "language": "scilab",
		   "name": "scilab"
		  },
		  "language_info": {
		   "file_extension": ".sce",
		   "help_links": [
			{
			 "text": "MetaKernel Magics",
			 "url": "https://github.com/calysto/metakernel/blob/master/metakernel/magics/README.md"
			}
		   ],
		   "mimetype": "text/x-octave",
		   "name": "scilab",
		   "version": "0.7.1"
		  }
		 },
		 "nbformat": 4,
		 "nbformat_minor": 0
}
