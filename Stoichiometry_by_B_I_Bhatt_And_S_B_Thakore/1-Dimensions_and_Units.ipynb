{
"cells": [
 {
		   "cell_type": "markdown",
	   "metadata": {},
	   "source": [
       "# Chapter 1: Dimensions and Units"
	   ]
	},
{
		   "cell_type": "markdown",
		   "metadata": {},
		   "source": [
			"## Example 1.1: Mass_flow_rate.sce"
		   ]
		  },
  {
"cell_type": "code",
	   "execution_count": null,
	   "metadata": {
	    "collapsed": true
	   },
	   "outputs": [],
"source": [
"clear;\n",
"clc;\n",
"\n",
"// Stoichiometry\n",
"// Chapter 1\n",
"// Dimensions and Units\n",
"\n",
"\n",
"// Example 1.1\n",
"// Page 12\n",
"printf('Example 1.1, Page 12 \n \n');\n",
"\n",
"// solution\n",
"\n",
"// Using conversion factors from table 1.3 (Pg 9)\n",
"q1 = 75 // [gallon/min] (volumetric flow rate)\n",
"q2 = 75/(60*.219969) // [dm^3/s]\n",
"row = 0.8 // [kg/dm^3]\n",
"q3 = q2*row // [kg/s] (mass flow rate)\n",
"printf('mass flow rate = '+string(q3)+' [kg/s] \n')"
   ]
   }
,
{
		   "cell_type": "markdown",
		   "metadata": {},
		   "source": [
			"## Example 1.2: steam_velocity_in_pipeline.sce"
		   ]
		  },
  {
"cell_type": "code",
	   "execution_count": null,
	   "metadata": {
	    "collapsed": true
	   },
	   "outputs": [],
"source": [
"clear;\n",
"clc;\n",
"\n",
"// Stoichiometry\n",
"// Chapter 1\n",
"// Dimensions and Units\n",
"\n",
"\n",
"// Example 1.2\n",
"// Page 12\n",
"printf('Example 1.2, Page 12 \n \n');\n",
"\n",
"// solution\n",
"\n",
"qm = 2000 // [kg/h] (mass flow rate)\n",
"d1 = 3.068 // [in] (internal dia of pipe)\n",
"// Using conversion factors from table 1.3 (Pg 9)\n",
"d2 = 3.068/.0393701 // [mm]\n",
"A = ((%pi/4)*d2^2)/10^6 // [m^2] (cross section area)\n",
"// Using steam tables; Appendix IV.3\n",
"v = 0.46166 // [m^3/kg] (sp. vol. of steam at 440 kPa)\n",
"qv = (qm*v)/3600 // [m^3/s]\n",
"vs = qv/A // [m/s]\n",
"printf('velocity of the steam in the pipeline is '+string(vs)+' m/s')"
   ]
   }
,
{
		   "cell_type": "markdown",
		   "metadata": {},
		   "source": [
			"## Example 1.3: conversion_of_TR.sce"
		   ]
		  },
  {
"cell_type": "code",
	   "execution_count": null,
	   "metadata": {
	    "collapsed": true
	   },
	   "outputs": [],
"source": [
"clear;\n",
"clc;\n",
"\n",
"// Stoichiometry\n",
"// Chapter 1\n",
"// Dimensions and Units\n",
"\n",
"\n",
"// Example 1.3\n",
"// Page 13\n",
"printf('Example 1.3, Page 13 \n \n');\n",
"\n",
"// solution\n",
"\n",
"m = 2000 // [lb] (mass flow rate)\n",
"t = 24 //[hr]\n",
"lf = 144 // [Btu/lb] (latent heat of fusion)\n",
"// Using conversion factors from table 1.3 (Pg 9)\n",
"TR = (m*lf*.251996*4.184)/(3600*24)\n",
"printf('1 TR = '+string(TR)+' kW')"
   ]
   }
,
{
		   "cell_type": "markdown",
		   "metadata": {},
		   "source": [
			"## Example 1.4: conversion_of_equation_into_SI_units.sce"
		   ]
		  },
  {
"cell_type": "code",
	   "execution_count": null,
	   "metadata": {
	    "collapsed": true
	   },
	   "outputs": [],
"source": [
"clear;\n",
"clc;\n",
"\n",
"// Stoichiometry\n",
"// Chapter 1\n",
"// Dimensions and Units\n",
"\n",
"\n",
"// Example 1.4\n",
"// Page 13\n",
"printf('Example 1.4, Page 13 \n \n');\n",
"\n",
"// solution\n",
"\n",
"// C = 89.2*A*(T/M^).5   [ft^3/s]\n",
"k = 89.2 //\n",
"C1 = 1 // [ft^3/s]\n",
"// Using conversion factors from table 1.3 (Pg 9)\n",
"C2 = 35.31467*C1\n",
"T1 = 1 //[dgree R]\n",
"T2 = 1.8*T1 // [K]\n",
"A1 = 1 // [ft^2]\n",
"A2 = 10.76391\n",
"k2 = (k*A2*(1.8)^.5)/35.34167\n",
"printf('eq in SI becomes \n C = '+string(k2)+'*(T/M)^.5  [m^3/s]')"
   ]
   }
],
"metadata": {
		  "kernelspec": {
		   "display_name": "Scilab",
		   "language": "scilab",
		   "name": "scilab"
		  },
		  "language_info": {
		   "file_extension": ".sce",
		   "help_links": [
			{
			 "text": "MetaKernel Magics",
			 "url": "https://github.com/calysto/metakernel/blob/master/metakernel/magics/README.md"
			}
		   ],
		   "mimetype": "text/x-octave",
		   "name": "scilab",
		   "version": "0.7.1"
		  }
		 },
		 "nbformat": 4,
		 "nbformat_minor": 0
}
