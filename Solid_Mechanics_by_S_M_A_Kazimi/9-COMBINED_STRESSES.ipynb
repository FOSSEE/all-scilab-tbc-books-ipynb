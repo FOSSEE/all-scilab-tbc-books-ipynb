{
"cells": [
 {
		   "cell_type": "markdown",
	   "metadata": {},
	   "source": [
       "# Chapter 9: COMBINED STRESSES"
	   ]
	},
{
		   "cell_type": "markdown",
		   "metadata": {},
		   "source": [
			"## Example 9.10: Chapter9_Example_10.sce"
		   ]
		  },
  {
"cell_type": "code",
	   "execution_count": null,
	   "metadata": {
	    "collapsed": true
	   },
	   "outputs": [],
"source": [
"clc\n",
"//initialization of variables\n",
"clear\n",
"b=2 //cm\n",
"h=2 //cm\n",
"T=2000 //kg-cm\n",
"V=250 //kg\n",
"M=2000 //kg-cm\n",
"// calculations\n",
"Mmax=M*6/(b*h*b)\n",
"Vmax=3*V/(2*b*h)\n",
"Zt=0.208*b^2*h\n",
"Tmax=T/(Zt)\n",
"\n",
"sigma=Mmax\n",
"printf('points A,B,')\n",
"printf('\n sigma=%d kg/cm^2 (tension)',sigma)\n",
"printf('\n points C,D,')\n",
"printf('\n sigma=%d kg/cm^2 (cmpression)',sigma)\n",
"tau=Vmax+Tmax\n",
"printf('\n point E')\n",
"printf('\n tau=%.2f kg/cm^2 shear',tau)\n",
"tau=Vmax-Tmax\n",
"printf('\n tau=%.2f kg/cm^2 shear',tau)\n",
"// at G\n",
"sigma_x=sigma\n",
"sigma_y=0\n",
"tau_xy=Tmax\n",
"sigma_1=(sigma_x+sigma_y)/2+sqrt((1/2*(sigma_x-sigma_y))^2+tau_xy^2)\n",
"sigma_2=(sigma_x+sigma_y)/2-sqrt((1/2*(sigma_x-sigma_y))^2+tau_xy^2)\n",
"// results\n",
"printf('\n at point G')\n",
"printf('\n sigma_1 = %d kg/cm^2 (tension)',sigma_1)\n",
"printf('\n sigma_2 = %d kg/cm^2 (compression)',sigma_2)\n",
"\n",
"// Question was asked only to find out at A,B,C,D,E,F and G"
   ]
   }
,
{
		   "cell_type": "markdown",
		   "metadata": {},
		   "source": [
			"## Example 9.11: Chapter9_Example_11.sce"
		   ]
		  },
  {
"cell_type": "code",
	   "execution_count": null,
	   "metadata": {
	    "collapsed": true
	   },
	   "outputs": [],
"source": [
"clc\n",
"//initialization of variables\n",
"clear\n",
"w=10 //cm\n",
"s=2.8 //m\n",
"P=1 //tonne\n",
"Ft=1.4 //cm\n",
"Wt=0.8 //cm\n",
"Ix=13989.5 //cm^4\n",
"Z=699.5 //cm^3\n",
"// calculations\n",
"BM= 2.8 \n",
"T=P*1000*8.21\n",
"SF=P*1000\n",
"BS=BM*10^5/(Z)\n",
"sigmaXA=BS*18.6/20\n",
"K=w*Ft*19.3+18.6*Wt*9.3\n",
"tau_xy_C=SF/(Ix*Wt)*K\n",
"tau_xy_A=tau_xy_C*(w*Ft*19.3)/K     \n",
"tau_xy_B=tau_xy_A*0.5*Wt/w\n",
"sigmaXB=sigmaXA*19.3/20\n",
"\n",
"tau_max=3*Ft*8210/(w*Ft^3+37.2*Wt^3)\n",
"tau_A=3*Wt*8210/(w*Ft^3+37.2*Wt^3)\n",
"\n",
"//For point A\n",
"Shear=tau_xy_A-tau_A\n",
"sigma_x=sigmaXA\n",
"sigma_y=0\n",
"tau_xy=Shear\n",
"sigma_1=(sigma_x+sigma_y)/2+sqrt((1/2*(sigma_x-sigma_y))^2+tau_xy^2)\n",
"sigma_2=(sigma_x+sigma_y)/2-sqrt((1/2*(sigma_x-sigma_y))^2+tau_xy^2)\n",
"\n",
"printf('For point A')\n",
"printf('\n Total shear= %.1f kg/cm^2 ',Shear)\n",
"printf('\n Bending stress = %d kg/cm^2 (Compr.)',sigma_x)\n",
"printf('\n Principal stresses are %d (tension), %d (comp.) kg/cm^2 ',sigma_1,sigma_2)\n",
"\n",
"//For point B\n",
"printf('\n FOr point B')\n",
"printf('\n Bending shear stress is %.2f k/cm^2',tau_xy_B)\n",
"sigmaXB=BS*19.3/20\n",
"sigma_x=sigmaXB\n",
"sigma_y=0\n",
"tau_xy=tau_max\n",
"sigma_1=(sigma_x+sigma_y)/2+sqrt((1/2*(sigma_x-sigma_y))^2+tau_xy^2)\n",
"sigma_2=(sigma_x+sigma_y)/2-sqrt((1/2*(sigma_x-sigma_y))^2+tau_xy^2)\n",
"printf('\n Principal stresses are %d (tension), %d (comp.) kg/cm^2 ',sigma_1,sigma_2)\n",
"\n",
"// Answers in the text are approximations"
   ]
   }
,
{
		   "cell_type": "markdown",
		   "metadata": {},
		   "source": [
			"## Example 9.12: Chapter9_Example_12.sce"
		   ]
		  },
  {
"cell_type": "code",
	   "execution_count": null,
	   "metadata": {
	    "collapsed": true
	   },
	   "outputs": [],
"source": [
"clc\n",
"//initialization of variables\n",
"clear\n",
"b=10 //cm\n",
"h=10 //cm\n",
"P=5 //tonne\n",
"e=1 //cm\n",
"E=12*10^4 //kg/cm^2\n",
"str=130 // kg/cm^2\n",
"n=3\n",
"L=2 //m\n",
"// calculations\n",
"L=L*100 //cm\n",
"Pcr=%pi^2*E*b*h^3/(12*L^2)\n",
"Pcr=Pcr/1000\n",
"Smax=-P*1000/(b*h)-(P*1000*1*5*12/10^4)*1/(1-(n*P/Pcr))\n",
"// results\n",
"printf('permissible stress = %d kg/cm^2',str)\n",
"printf('\n develoed stress = %.1f kg/cm^2',Smax)\n",
"printf('\n Since it is below the permissible stress, the design is safe')\n",
""
   ]
   }
,
{
		   "cell_type": "markdown",
		   "metadata": {},
		   "source": [
			"## Example 9.13: Chapter9_Example_13.sce"
		   ]
		  },
  {
"cell_type": "code",
	   "execution_count": null,
	   "metadata": {
	    "collapsed": true
	   },
	   "outputs": [],
"source": [
"clc\n",
"//initializatio of variables\n",
"clear\n",
"// linked to 9.13\n",
"b=10 //cm\n",
"h=10 //cm\n",
"P=5 //tonne\n",
"e=1 //cm\n",
"E=12*10^4 //kg/cm^2\n",
"str=130 // kg/cm^2\n",
"n=3\n",
"L=2 //m\n",
"// calculations\n",
"L=L*100 //cm\n",
"Pcr=%pi^2*E*b*h^3/(12*L^2)\n",
"Pcr=Pcr/1000\n",
"Smax=-P*1000/(b*h)-(P*1000*1*5*12/10^4)*1/(1-(n*P/Pcr))\n",
"Smax=abs(Smax)\n",
"\n",
"rr=b*h^3/(12*100)\n",
"Smax_se=P*1000/(b*h)*(1+e*5/rr*sec(%pi/2*sqrt(n*P/Pcr)))\n",
"Perror=(Smax-Smax_se)/Smax\n",
"Perror=Perror*100\n",
"Perror=abs(Perror)\n",
"// results\n",
"printf('Using secent formula, stress obtained is %d kg/cm^2',Smax_se)\n",
"printf('\n hence, the percentage error %.2f',Perror)\n",
"// approximate answees in the text"
   ]
   }
,
{
		   "cell_type": "markdown",
		   "metadata": {},
		   "source": [
			"## Example 9.14: Chapter9_Example_14.sce"
		   ]
		  },
  {
"cell_type": "code",
	   "execution_count": null,
	   "metadata": {
	    "collapsed": true
	   },
	   "outputs": [],
"source": [
"clc\n",
"//initialization of variables\n",
"clear\n",
"P=400 //kg/m\n",
"L=10 //m\n",
"F=10 //tonne\n",
"n=3\n",
"Ixx=5943.1 //cm^4\n",
"A=52.03 //cm^2\n",
"rx=10.69 //cm\n",
"E=2*10^6 //kg/cm^2\n",
"// calculations\n",
"Pcr=%pi^2*E*Ixx/((L*100)^2)\n",
"Pcr=Pcr/1000\n",
"e=P*L^2/(8*F*1000)\n",
"g=e*12.5*100/rx^2\n",
"Smax=F*1000/A*(1+g*1/(1-n*(F/Pcr)))\n",
"// results\n",
"printf('The maximum stress developed is %d kg/cm^2',Smax)\n",
"\n",
"// approximate calculations involved in the text book"
   ]
   }
,
{
		   "cell_type": "markdown",
		   "metadata": {},
		   "source": [
			"## Example 9.15: Chapter9_Example_15.sce"
		   ]
		  },
  {
"cell_type": "code",
	   "execution_count": null,
	   "metadata": {
	    "collapsed": true
	   },
	   "outputs": [],
"source": [
"clc\n",
"//initialization of variables\n",
"clear\n",
"// linked to 9_14\n",
"// calculations\n",
"P=400 //kg/m\n",
"L=10 //m\n",
"F=10 //tonne\n",
"n=3\n",
"Ixx=5943.1 //cm^4\n",
"A=52.03 //cm^2\n",
"rx=10.69 //cm\n",
"E=2*10^6 //kg/cm^2\n",
"Pcr=%pi^2*E*Ixx/((L*100)^2)\n",
"Pcr=Pcr/1000\n",
"e=P*L^2/(8*F*1000)\n",
"g=e*12.5*100/rx^2\n",
"Smax=F*1000/A*(1+g*1/(1+n*(F/Pcr)))\n",
"// results\n",
"printf('The maximum stress developed is %d kg/cm^2',Smax)\n",
"\n",
"// approximate answer in the text"
   ]
   }
,
{
		   "cell_type": "markdown",
		   "metadata": {},
		   "source": [
			"## Example 9.1: Chapter9_Example_1.sce"
		   ]
		  },
  {
"cell_type": "code",
	   "execution_count": null,
	   "metadata": {
	    "collapsed": true
	   },
	   "outputs": [],
"source": [
"clc\n",
"//initialization of variables\n",
"clear\n",
"//case (a)\n",
"A=72.9 //cm^2\n",
"Iy=633 //cm^4\n",
"Ix=1199 //cm^4\n",
"t=24/(5*Ix)+13.5/(5*Iy)\n",
"r=1/(A*t)\n",
"printf('case (a) \n r = %.3f cm',r)\n",
"// case (b)\n",
"t=24/(5*Ix)-13.5/(5*Iy)\n",
"r=1/(A*t)\n",
"printf('\n case (b) \n r = %.1f cm',r)\n",
"//case (c)\n",
"t=-24/(5*Ix)+13.5/(5*Iy)\n",
"r=1/(A*t)\n",
"printf('\n case (a) \n r = %.1f cm',r)\n",
"printf('\n So the load is to be placed on the leg OD, at a distance of %.1f cm from O',r )\n",
""
   ]
   }
,
{
		   "cell_type": "markdown",
		   "metadata": {},
		   "source": [
			"## Example 9.3: Chapter9_Example_3.sce"
		   ]
		  },
  {
"cell_type": "code",
	   "execution_count": null,
	   "metadata": {
	    "collapsed": true
	   },
	   "outputs": [],
"source": [
"clc\n",
"//initialization of variables\n",
"clear\n",
"b=14 //cm\n",
"d=20 //cm\n",
"rx=8.46 //cm\n",
"ry=2.99 //cm\n",
"// calculations\n",
"ex=2*rx^2/d\n",
"ey=2*ry^2/b\n",
"h=2*ex\n",
"w=2*ey\n",
"// results\n",
"printf('for steel height=%.3f cm and width=%.3f cm',h,w)\n",
"// ISHB 225\n",
"b=22.5 //cm\n",
"d=22.5 //cm\n",
"rx=9.8 //cm\n",
"ry=4.96 //cm\n",
"// calculations\n",
"ex=2*rx^2/d\n",
"ey=2*ry^2/b\n",
"h=2*ex\n",
"w=2*ey\n",
"// results\n",
"printf('\n for an ISHB height=%.3f cm and width=%.3f cm',h,w)"
   ]
   }
,
{
		   "cell_type": "markdown",
		   "metadata": {},
		   "source": [
			"## Example 9.4: Chapter9_Example_4.sce"
		   ]
		  },
  {
"cell_type": "code",
	   "execution_count": null,
	   "metadata": {
	    "collapsed": true
	   },
	   "outputs": [],
"source": [
"clc\n",
"//initialization of variables\n",
"clear\n",
"t=280 //kg/cm^2\n",
"c=840 //kg/cm^2\n",
"xbar=7.5 //cm from AB\n",
"A=210 //cm^2\n",
"// calculations\n",
"e=50+xbar //cm\n",
"Iyy=7433 //cm^2\n",
"k=(1/210+e*xbar/Iyy)\n",
"P=t/k\n",
"k1=(-1/210+e*(xbar+5)/Iyy)\n",
"P1=c/k1\n",
"P_safe=min(P1,P)\n",
"// results\n",
"printf('The safe load is %d kg',P_safe)"
   ]
   }
,
{
		   "cell_type": "markdown",
		   "metadata": {},
		   "source": [
			"## Example 9.5: Chapter9_Example_5.sce"
		   ]
		  },
  {
"cell_type": "code",
	   "execution_count": null,
	   "metadata": {
	    "collapsed": true
	   },
	   "outputs": [],
"source": [
"clc\n",
"//initialization of the variables\n",
"clear\n",
"s=1.6 //m\n",
"s1=4 //m\n",
"pi=28 //degrees\n",
"w=16 //kg/m^2\n",
"p=100 //kg/m^2\n",
"pl=20 //cm\n",
"pb=10 //cm\n",
"r=500 //kg/m^3\n",
"// calculations\n",
"pi=pi*%pi/180 //radians\n",
"W=w*s+(r*pl*pb/(100*100))\n",
"P=p*s\n",
"L=P+W*cos(pi)\n",
"Mx=L*s1^2*100/8\n",
"sigma_1=Mx*6/(pb*pl^2)\n",
"My=W*sin(pi)*s1^2*100/8\n",
"sigma_2=My*6/(pl*pb^2)\n",
"sigma=sigma_1+sigma_2\n",
"// results\n",
"printf('Due to bending in the noth the planes, D experiences maximum \n compression of %.2f kg/cm^2 and B has maximum tension of %.2f kg/cm^2',sigma,sigma)"
   ]
   }
,
{
		   "cell_type": "markdown",
		   "metadata": {},
		   "source": [
			"## Example 9.6: Chapter9_Example_6.sce"
		   ]
		  },
  {
"cell_type": "code",
	   "execution_count": null,
	   "metadata": {
	    "collapsed": true
	   },
	   "outputs": [],
"source": [
"clc\n",
"//initialization of the problems\n",
"clear\n",
"s=1.6 //m\n",
"s1=4 //m\n",
"pi=28 //degrees\n",
"w=16 //kg/m^2\n",
"p=100 //kg/m^2\n",
"pl=20 //cm\n",
"pb=10 //cm\n",
"r=500 //kg/m^3\n",
"Zx=54.8 //cm^3\n",
"Zy=3.9 //cm^3\n",
"// calculations\n",
"pi=pi*%pi/180 //radians\n",
"W=w*s+8.1\n",
"P=p*s\n",
"L=P+W*cos(pi)\n",
"Mx=L*s1^2*100/8\n",
"sigma_1=Mx/Zx\n",
"My=W*sin(pi)*s1^2*100/8\n",
"sigma_2=My/Zy\n",
"sigma=sigma_1+sigma_2\n",
"// results\n",
"printf('Maximum stresses are %d kg/cm^2, tension or compression',sigma)"
   ]
   }
,
{
		   "cell_type": "markdown",
		   "metadata": {},
		   "source": [
			"## Example 9.7: Chapter9_Example_7.sce"
		   ]
		  },
  {
"cell_type": "code",
	   "execution_count": null,
	   "metadata": {
	    "collapsed": true
	   },
	   "outputs": [],
"source": [
"clc\n",
"//initialization of variables\n",
"clear\n",
"s=1.6 //m\n",
"s1=4 //m\n",
"pi=28 //degrees\n",
"w=16 //kg/m^2\n",
"p=100 //kg/m^2\n",
"pl=20 //cm\n",
"pb=10 //cm\n",
"r=500 //kg/m^3\n",
"sg=5 //cm\n",
"E=12*10^4\n",
"pi=pi*%pi/180 //radians\n",
"// calculations\n",
"W=w*s+(r*pl*pb/(100*100))\n",
"P=p*s\n",
"L=P+W*cos(pi)\n",
"Mx=L*s1^2*100/8\n",
"sigma_1=Mx*6/(pb*pl^2)\n",
"My=W*sin(pi)*s1^2*100/8\n",
"sigma_2=My*6/(pl*pb^2)\n",
"st=sigma_1*sg/10\n",
"Ts=st-sigma_2\n",
"ez=Ts/E\n",
"// results\n",
"printf('The strain gauge, aligned to the z axis will give compression strain of %.1e',ez)"
   ]
   }
,
{
		   "cell_type": "markdown",
		   "metadata": {},
		   "source": [
			"## Example 9.8: Chapter9_Example_8.sce"
		   ]
		  },
  {
"cell_type": "code",
	   "execution_count": null,
	   "metadata": {
	    "collapsed": true
	   },
	   "outputs": [],
"source": [
"clc\n",
"//initialization of variables\n",
"clear\n",
"P=3 //tonne/m\n",
"s=6 //m\n",
"l=50 //cm\n",
"b=20 //cm\n",
"k=0.5 //m\n",
"//calculations\n",
"R=P*s/2\n",
"sf=R-k*P\n",
"bm=R*k-P*k^2/2\n",
"tau_xy=1.5*sf*1000/(l*b)\n",
"tau_max=tau_xy\n",
"str=bm*s*10^5/(b*l*l)\n",
"\n",
"// consider the line a-a\n",
"\n",
"sigma_x=str*12.5/25\n",
"sigma_y=0\n",
"tau_xy=tau_xy*(1-(12.5/25)^2)\n",
"\n",
"sigma_1=(sigma_x+sigma_y)/2+sqrt((1/2*(sigma_x-sigma_y))^2+tau_xy^2)\n",
"sigma_2=(sigma_x+sigma_y)/2-sqrt((1/2*(sigma_x-sigma_y))^2+tau_xy^2)\n",
"\n",
"printf('For the line a-a the bending stress and shearing stress are \n respectively %.2f kg/cm^2, %.2f kg/cm^2 ',sigma_x,tau_xy)\n",
"printf('\n The principal stresses are %.2f kg/cm^2 (tension) %.2f kg/cm^2 (compression) ',sigma_1,sigma_2)\n",
"\n",
"//consider the line c-c\n",
"printf('\n For the line c-c the bending stress and shearing stress are \n respectively %.2f kg/cm^2, %.2f kg/cm^2 ',sigma_x,tau_xy)\n",
"printf('\n The principal stresses are %.2f kg/cm^2 (compression) %.2f kg/cm^2 (tension) ',sigma_2,sigma_1)\n",
"\n",
"//for the line b-b\n",
"tau_xy=tau_max\n",
"sigma_x=0\n",
"sigma_y=0\n",
"sigma_1=(sigma_x+sigma_y)/2+sqrt((1/2*(sigma_x-sigma_y))^2+tau_xy^2)\n",
"sigma_2=(sigma_x+sigma_y)/2-sqrt((1/2*(sigma_x-sigma_y))^2+tau_xy^2)\n",
"// results\n",
"printf('\n For the line b-b the bending stress and shearing stress are \n respectively %.2f kg/cm^2, %.2f kg/cm^2 ',sigma_x,tau_xy)\n",
"printf('\n The principal stresses are %.2f kg/cm^2 (tension) %.2f kg/cm^2 (compression) ',sigma_1,sigma_2)"
   ]
   }
,
{
		   "cell_type": "markdown",
		   "metadata": {},
		   "source": [
			"## Example 9.9: Chapter9_Example_9.sce"
		   ]
		  },
  {
"cell_type": "code",
	   "execution_count": null,
	   "metadata": {
	    "collapsed": true
	   },
	   "outputs": [],
"source": [
"clc\n",
"//initialization of variables\n",
"clear\n",
"P=3 //tonne/m\n",
"s=6 //m\n",
"l=50 //cm\n",
"b=20 //cm\n",
"k=0.5 //m\n",
"//calculations\n",
"R=P*s/2\n",
"sf=R-k*P\n",
"bm=R*k-P*k^2/2\n",
"tau_xy=1.5*sf*1000/(l*b)  //max shear stress\n",
"tau_max=tau_xy  \n",
"str=bm*s*10^5/(b*l*l)  //max bending stress\n",
"\n",
"// consider the line a-a\n",
"\n",
"sigma_x=str*12.5/25\n",
"sigma_y=0\n",
"tau_xy=tau_xy*(1-(12.5/25)^2)\n",
"\n",
"sigma_1=(sigma_x+sigma_y)/2+sqrt((1/2*(sigma_x-sigma_y))^2+tau_xy^2)\n",
"sigma_2=(sigma_x+sigma_y)/2-sqrt((1/2*(sigma_x-sigma_y))^2+tau_xy^2)\n",
"\n",
"theta=1/2*atan(2*tau_xy/(sigma_x-sigma_y))\n",
"sigma_p=sigma_1/cos(theta)\n",
"P=sigma_p*2*l*b/(3*1000)\n",
"printf('A prestressing force of %.2f Tonne must be applied to balance the tension at a-a',P)\n",
"\n",
"//At bottom point D or C\n",
"pre_str=P*2*1000/(l*b)\n",
"net=str-pre_str\n",
"printf('\n At bottom point D or C')\n",
"printf('\n Net tension = %.2f kg/cm^2 ',net)\n",
"\n",
"//consider the line b-b\n",
"pre_str=P\n",
"sigma_x=pre_str\n",
"sigma_y=0\n",
"tau_xy=tau_max\n",
"sigma_1=(sigma_x+sigma_y)/2+sqrt((1/2*(sigma_x-sigma_y))^2+tau_xy^2)\n",
"sigma_2=(sigma_x+sigma_y)/2-sqrt((1/2*(sigma_x-sigma_y))^2+tau_xy^2)\n",
"printf('\n At section b-b')\n",
"printf('\n pre-stress=%.2f kg/cm^2',pre_str)\n",
"printf('\n principal stresses are %.2f, %.2f kg/cm^2 ',sigma_1,sigma_2)\n",
"\n",
"//for the line c-c\n",
"sigma_x=str*12.5/25\n",
"sigma_y=0\n",
"tau_xy=tau_xy*(1-(12.5/25)^2)\n",
"sigma_1=(sigma_x+sigma_y)/2+sqrt((1/2*(sigma_x-sigma_y))^2+tau_xy^2)\n",
"sigma_2=(sigma_x+sigma_y)/2-sqrt((1/2*(sigma_x-sigma_y))^2+tau_xy^2)\n",
"pre_str=pre_str/2\n",
"net=sigma_1+pre_str\n",
"sigma_x=net\n",
"sigma_y=0\n",
"sigma_1=(sigma_x+sigma_y)/2+sqrt((1/2*(sigma_x-sigma_y))^2+tau_xy^2)\n",
"sigma_2=(sigma_x+sigma_y)/2-sqrt((1/2*(sigma_x-sigma_y))^2+tau_xy^2)\n",
"// results\n",
"printf('\n At section c-c')\n",
"printf('\n the direct stress is %.2f kg/cm^2',net)\n",
"printf('\n pre-stress = %.2f kg/cm^2',pre_str)\n",
"printf('\n principal stresses are %.2f, %.2f kg/cm^2 ',sigma_1,sigma_2)\n",
"\n",
"// wrong calculations in the thext for some parts\n",
""
   ]
   }
],
"metadata": {
		  "kernelspec": {
		   "display_name": "Scilab",
		   "language": "scilab",
		   "name": "scilab"
		  },
		  "language_info": {
		   "file_extension": ".sce",
		   "help_links": [
			{
			 "text": "MetaKernel Magics",
			 "url": "https://github.com/calysto/metakernel/blob/master/metakernel/magics/README.md"
			}
		   ],
		   "mimetype": "text/x-octave",
		   "name": "scilab",
		   "version": "0.7.1"
		  }
		 },
		 "nbformat": 4,
		 "nbformat_minor": 0
}
