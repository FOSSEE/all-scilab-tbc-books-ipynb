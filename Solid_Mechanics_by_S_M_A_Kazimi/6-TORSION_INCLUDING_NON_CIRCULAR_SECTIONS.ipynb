{
"cells": [
 {
		   "cell_type": "markdown",
	   "metadata": {},
	   "source": [
       "# Chapter 6: TORSION INCLUDING NON CIRCULAR SECTIONS"
	   ]
	},
{
		   "cell_type": "markdown",
		   "metadata": {},
		   "source": [
			"## Example 6.11: Chapter6_Example_11.sce"
		   ]
		  },
  {
"cell_type": "code",
	   "execution_count": null,
	   "metadata": {
	    "collapsed": true
	   },
	   "outputs": [],
"source": [
"clc\n",
"//initialization of variables\n",
"clear\n",
"d=5 //cm\n",
"rpm1=300 //rpm\n",
"rpm2=30000 //rpm\n",
"s=1000 //kg/cm^2\n",
"//calcuations\n",
"T=(d/2)*%pi*10^2*s/32\n",
"hp1= 2*%pi*rpm1*T/4500\n",
"hp2=hp1*100\n",
"// results\n",
"printf('Horse power at 300 rpm and 30000 rpm are respecively %d, %d h.p.',hp1/10,hp2/10)\n",
"\n",
"// wrong/approximate answers in the text"
   ]
   }
,
{
		   "cell_type": "markdown",
		   "metadata": {},
		   "source": [
			"## Example 6.12: Chapter6_Example_12.sce"
		   ]
		  },
  {
"cell_type": "code",
	   "execution_count": null,
	   "metadata": {
	    "collapsed": true
	   },
	   "outputs": [],
"source": [
"clc\n",
"// initialization of variables\n",
"clear\n",
"hp=300 //h.p.\n",
"N1=30 //rpm\n",
"N2=30000 //rpm\n",
"fs=600 //kg/cm^2\n",
"// calculations\n",
"T1=4500*hp*100/(2*%pi*N1)\n",
"T2=T1/1000\n",
"D1=16*T1/(%pi*fs)\n",
"D1=D1^(1/3)\n",
"D2=16*T2/(%pi*fs)\n",
"D2=D2^(1/3)\n",
"// results\n",
"printf('Diameters required are %.1f, %.1f cm',D1,D2)\n",
"\n",
"// wrong calculations in the text"
   ]
   }
,
{
		   "cell_type": "markdown",
		   "metadata": {},
		   "source": [
			"## Example 6.13: Chapter6_Example_13.sce"
		   ]
		  },
  {
"cell_type": "code",
	   "execution_count": null,
	   "metadata": {
	    "collapsed": true
	   },
	   "outputs": [],
"source": [
"clc\n",
"// initialization of variables\n",
"clear\n",
"d=10 //cm\n",
"t =1 //mm\n",
"T= 100 //kg-m\n",
"L=5 //m\n",
"G=8*10^5 //kg/cm^2\n",
"\n",
"//calculations\n",
"r=d/2\n",
"fs=T*r*100/(r^2*2*%pi*L*t*10^-1)\n",
"U=fs^2/(2*G)\n",
"U1=U*(%pi*L*100)\n",
"// results\n",
"printf('Energy per unit volume = %.3f kg-cm/cm^3',U)\n",
"printf('\n Total strain energy= %d kg-cm',U1)"
   ]
   }
,
{
		   "cell_type": "markdown",
		   "metadata": {},
		   "source": [
			"## Example 6.14: Chapter6_Example_14.sce"
		   ]
		  },
  {
"cell_type": "code",
	   "execution_count": null,
	   "metadata": {
	    "collapsed": true
	   },
	   "outputs": [],
"source": [
"clc\n",
"//initialization of variables\n",
"clear\n",
"D=10 //cm\n",
"d= 1 //cm\n",
"n=20\n",
"P=60 //kg\n",
"G=8*10^5 //kg/cm^2\n",
"//calculations\n",
"n=n-0.75*2\n",
"delta=P*n*%pi*D^3*32/(4*%pi*G)\n",
"// results\n",
"printf('The deflection is %.1f cm',delta)\n",
""
   ]
   }
,
{
		   "cell_type": "markdown",
		   "metadata": {},
		   "source": [
			"## Example 6.15: Chapter6_Example_15.sce"
		   ]
		  },
  {
"cell_type": "code",
	   "execution_count": null,
	   "metadata": {
	    "collapsed": true
	   },
	   "outputs": [],
"source": [
"clc\n",
"//initialization of variables\n",
"clear\n",
"// linked to 6_14\n",
"D=10 //cm\n",
"d= 1 //cm\n",
"n=20\n",
"P=60 //kg\n",
"G=8*10^5 //kg/cm^2\n",
"// calculations\n",
"m=D/d\n",
"fs=8*P*D/(d^3*%pi)\n",
"fs1=fs*(1+0.615/m+3/(4*m-4))\n",
"// results\n",
"printf('The shear stress with and without correction facor are \n respectively %d, %d kg/cm^2',fs,fs1)"
   ]
   }
,
{
		   "cell_type": "markdown",
		   "metadata": {},
		   "source": [
			"## Example 6.16: Chapter6_Example_16.sce"
		   ]
		  },
  {
"cell_type": "code",
	   "execution_count": null,
	   "metadata": {
	    "collapsed": true
	   },
	   "outputs": [],
"source": [
"clc\n",
"//initialization of variables\n",
"clear\n",
"\n",
"// circle\n",
"D=1 //unit diameter\n",
"Ip=D^4/32\n",
"Zp=D^3/16\n",
"\n",
"//Square\n",
"s=sqrt(%pi/4)*D\n",
"Is=0.886*D^4/32\n",
"Zs=0.7383*D^3/16\n",
"\n",
"//Rectangle\n",
"a=sqrt(%pi/2)*D\n",
"b=sqrt(%pi/8)*D\n",
"Ir=0.719*D^4/32\n",
"Zr=0.616*D^3/16\n",
"\n",
"// Trianle\n",
"t=sqrt(%pi/sqrt(3))*D\n",
"It=0.725*D^4/32\n",
"Zt=0.622*D^3/16\n",
"\n",
"//Ellipse\n",
"A=D/sqrt(2)\n",
"B=D/sqrt(8)\n",
"Ie=A^3*B^3/(A^2+B^2)\n",
"Ze=A*B^2/2\n",
"\n",
"//Normalization\n",
"Is=Is/Ip\n",
"Ie=Ie/Ip\n",
"It=It/Ip\n",
"Ir=Ir/Ip\n",
"\n",
"Zs=Zs/Zp\n",
"Ze=Ze/Zp\n",
"Zt=Zt/Zp\n",
"Zr=Zr/Zp\n",
"Ip=1\n",
"Zp=1\n",
"//results\n",
"printf('Z:: Circle:Square:Ellipse:Triangle:Rectangle = %.3f : %.3f : %.3f : %.3f : %.3f',Zp,Zs,Ze,Zt,Zr)\n",
"printf('\n I:: Circle:Square:Ellipse:Triangle:Rectangle = %.3f : %.3f : %.3f : %.3f : %.3f',Ip,Is,Ie,It,Ir)\n",
""
   ]
   }
,
{
		   "cell_type": "markdown",
		   "metadata": {},
		   "source": [
			"## Example 6.17: Chapter6_Example_17.sce"
		   ]
		  },
  {
"cell_type": "code",
	   "execution_count": null,
	   "metadata": {
	    "collapsed": true
	   },
	   "outputs": [],
"source": [
"clc\n",
"//initialization of variables\n",
"clear\n",
"\n",
"yp=2450 //kg/cm^2\n",
"d=0.4 //cm\n",
"ys=4200 //kg/cm^2\n",
"sa=1.6 //mm\n",
"sb=7 //mm\n",
"// calculations\n",
"sa=sa/10\n",
"sb=sb/10\n",
"T1=yp*%pi*d^3/16\n",
"T2=ys*0.303*sa^2*sb\n",
"// results\n",
"printf('The maximum torque that can be transitted by the screw-driver is %.1f kg-cm',T2)\n",
""
   ]
   }
,
{
		   "cell_type": "markdown",
		   "metadata": {},
		   "source": [
			"## Example 6.18: Chapter6_Example_18.sce"
		   ]
		  },
  {
"cell_type": "code",
	   "execution_count": null,
	   "metadata": {
	    "collapsed": true
	   },
	   "outputs": [],
"source": [
"clc\n",
"//initialization of variables\n",
"clear\n",
"b=5 //cm\n",
"h=10 //cm\n",
"tL=3 //mm\n",
"tl=1.5 //mm\n",
"T=100 //kg-cm\n",
"// calculations\n",
"tl=tl/10\n",
"fs=T*100/(2*b*h*tl)\n",
"// results\n",
"printf('The maximum stress is %.1f kg/cm^2',fs)"
   ]
   }
,
{
		   "cell_type": "markdown",
		   "metadata": {},
		   "source": [
			"## Example 6.19: Chapter6_Example_19.sce"
		   ]
		  },
  {
"cell_type": "code",
	   "execution_count": null,
	   "metadata": {
	    "collapsed": true
	   },
	   "outputs": [],
"source": [
"clc\n",
"//initialization of variables\n",
"clear\n",
"b=5 //cm\n",
"h=10 //cm\n",
"tL=3 //mm\n",
"tl=1.5 //mm\n",
"T=100 //kg-cm\n",
"// calculations\n",
"D=2*(b+h)/%pi\n",
"AR=b*h\n",
"AC=%pi*D^2/4\n",
"r=AC/AR\n",
"// results\n",
"printf('The ratio is 1:%.2f',r)"
   ]
   }
,
{
		   "cell_type": "markdown",
		   "metadata": {},
		   "source": [
			"## Example 6.20: Chapter6_Example_20.sce"
		   ]
		  },
  {
"cell_type": "code",
	   "execution_count": null,
	   "metadata": {
	    "collapsed": true
	   },
	   "outputs": [],
"source": [
"clc\n",
"//initialization of variables\n",
"clear\n",
"G=8*10^5 //kg/cm^2\n",
"//part (a)\n",
"T =20 //kg-m\n",
"t1=0.9 //cm\n",
"t2=0.5 //cm\n",
"b1=6.8 //cm\n",
"b2=14.2 //cm\n",
"I0=1/3*(2*b1*t1^3+b2*t2^3)\n",
"Zt=I0/max(t1,t2)\n",
"fs=T*100/Zt\n",
"Phi=T*100/(G*I0)\n",
"printf('part (a)')\n",
"printf('\n The maximum shear stress and twist rate are respectively \n %d kg/cm^2, %.2e radians/cm ',fs,Phi)\n",
"\n",
"//part (b)\n",
"t1=1 //cm\n",
"t2=1 //cm\n",
"b1=10 //cm\n",
"b2=9 //cm\n",
"I0=1/3*(b1*t1^3+b2*t2^3)\n",
"Zt=I0/max(t1,t2)\n",
"fs=T*100/Zt\n",
"Phi=T*100/(G*I0)\n",
"printf('\n part (b)')\n",
"printf('\n The maximum shear stress and twist rate are respectively \n %d kg/cm^2, %.2e radians/cm ',fs,Phi)\n",
"\n",
"//part (c)\n",
"t1=0.76 //cm \n",
"t2=0.48 //cm\n",
"b1=8 //cm\n",
"b2=14.04 //cm\n",
"I0=1/3*(2*b1*t1^3+b2*t2^3)\n",
"Zt=I0/max(t1,t2)\n",
"fs=T*100/Zt\n",
"Phi=T*100/(G*I0)\n",
"printf('\n part (c)')\n",
"printf('\n The maximum shear stress and twist rate are respectively \n %d kg/cm^2, %.2e radians/cm ',fs,Phi)\n",
"\n",
"//part(d)\n",
"t=1 //cm \n",
"b=19 //cm\n",
"I0=1/3*t^3*b\n",
"Zt=I0/t\n",
"fs=T*100/Zt\n",
"Phi=T*100/(G*I0)\n",
"printf('\n part (d)')\n",
"printf('\n The maximum shear stress and twist rate are respectively \n %d kg/cm^2, %.2e radians/cm ',fs,Phi)\n",
"\n",
"// Twist rate: answers differ by a scale of 10. wrong answers in the text"
   ]
   }
,
{
		   "cell_type": "markdown",
		   "metadata": {},
		   "source": [
			"## Example 6.21: Chapter6_Example_21.sce"
		   ]
		  },
  {
"cell_type": "code",
	   "execution_count": null,
	   "metadata": {
	    "collapsed": true
	   },
	   "outputs": [],
"source": [
"clc\n",
"// initialization of variables\n",
"clear\n",
"D=5 //cm\n",
"d=2 //cm\n",
"t_y=3000 //kg/cm^2\n",
"// calculations\n",
"R=D/2 \n",
"r=d/2 \n",
"Tep=2*%pi*R^3*t_y/3-%pi*r^3*t_y/6\n",
"t_er=2*Tep/(%pi*R^3)\n",
"t_er1=t_er*r/R\n",
"prs=t_y-t_er1\n",
"nrs=t_er-t_y\n",
"// results\n",
"printf('Maximum +ve residual stress occurs at %d cm radius and is equal to \n %d kg/cm^2',r,prs)\n",
"printf('\n Maximum -ve residual stress occurs at %d cm radius and is equal to \n %d kg/cm^2',R,-nrs)"
   ]
   }
,
{
		   "cell_type": "markdown",
		   "metadata": {},
		   "source": [
			"## Example 6.3: Chapter6_Example_3.sce"
		   ]
		  },
  {
"cell_type": "code",
	   "execution_count": null,
	   "metadata": {
	    "collapsed": true
	   },
	   "outputs": [],
"source": [
"clc\n",
"// initialization o variables\n",
"clear\n",
"p=5 //cm\n",
"D=10 //cm\n",
"d=2 //mm\n",
"T= 10 //kgm\n",
"ss= 785 //kg/cm^2\n",
"// calculations\n",
"P= 2*T/(%pi*D^2)\n",
"P=P*5*100\n",
"// results\n",
"printf('Force per rivet is %.1f kg',P)\n",
"printf('\n The diameter of rivet, using a permissible stress of %d kg/cm^2 = 0.227 cm',ss)"
   ]
   }
,
{
		   "cell_type": "markdown",
		   "metadata": {},
		   "source": [
			"## Example 6.4: Chapter6_Example_4.sce"
		   ]
		  },
  {
"cell_type": "code",
	   "execution_count": null,
	   "metadata": {
	    "collapsed": true
	   },
	   "outputs": [],
"source": [
"clc\n",
"// initialization of variables\n",
"clear\n",
"D=5 //cm\n",
"Y=3500 //kg/cm^2\n",
"\n",
"//part (a)\n",
"Ta=350 //kg-m\n",
"tau=Y/2\n",
"Ip=Ta*D*100/(2*tau)\n",
"d1=Ip*32/%pi\n",
"d1=(D^4-d1)^(1/4)\n",
"\n",
"//part (b)\n",
"Tb= 700 //kg-m\n",
"Ip=Tb*D*100/(2*tau)\n",
"d2=Ip*32/%pi\n",
"d2=(D^4-d2)\n",
"T=tau*%pi*(D^4)*2/(32*D)\n",
"// results\n",
"printf('The maximum diameter corresponding to the case a is %.2f cm',d1)\n",
"printf('\n Since the daimeter for the case (b) is coming out to be negative, \n The maximum torque transmitted is %.d kg-m',T/100)\n",
""
   ]
   }
,
{
		   "cell_type": "markdown",
		   "metadata": {},
		   "source": [
			"## Example 6.5: Chapter6_Example_5.sce"
		   ]
		  },
  {
"cell_type": "code",
	   "execution_count": null,
	   "metadata": {
	    "collapsed": true
	   },
	   "outputs": [],
"source": [
"clc\n",
"// initialization of variables\n",
"clear\n",
"A=3 //cm^2\n",
"E= 2*10^6 //kg/cm^2\n",
"nu= 0.25\n",
"l= 60 //m\n",
"L=150 //cm\n",
"d=0.5 //cm\n",
"dd=10 //cm\n",
"D=180 //cm\n",
"//calculations\n",
"K=(l*100/(A*E))+(L*D/2*D*32*2*(1+nu)/(E*%pi*dd^4*2))\n",
"P=d/K\n",
"// results\n",
"printf('The weight of the students that entered the length is %d kg',P)"
   ]
   }
,
{
		   "cell_type": "markdown",
		   "metadata": {},
		   "source": [
			"## Example 6.6: Chapter6_Example_6.sce"
		   ]
		  },
  {
"cell_type": "code",
	   "execution_count": null,
	   "metadata": {
	    "collapsed": true
	   },
	   "outputs": [],
"source": [
"clc\n",
"// initialization of variables\n",
"clear\n",
"// linked to 6_5\n",
"A=3 //cm^2\n",
"E= 2*10^6 //kg/cm^2\n",
"nu= 0.25\n",
"l= 60 //m\n",
"L=150 //cm\n",
"d=0.5 //cm\n",
"dd=10 //cm\n",
"D=180 //cm\n",
"//calculations\n",
"K=(l*100/(A*E))+(L*D/2*D*32*2*(1+nu)/(E*%pi*dd^4*2))\n",
"P=d/K\n",
"Ts=P/A\n",
"fs=dd*D*P*32/(%pi*4*dd^4)\n",
"\n",
"// results\n",
"printf('The tensile stress is %.1f kg/cm^2',Ts)\n",
"printf('\n Maximum shear stress is %.1f kg/cm^2',fs)"
   ]
   }
,
{
		   "cell_type": "markdown",
		   "metadata": {},
		   "source": [
			"## Example 6.7: Chapter6_Example_7.sce"
		   ]
		  },
  {
"cell_type": "code",
	   "execution_count": null,
	   "metadata": {
	    "collapsed": true
	   },
	   "outputs": [],
"source": [
"clc\n",
"// initialization of variables\n",
"clear\n",
"F=500 //kg\n",
"k=25 //kg/cm\n",
"dd=15 //cm\n",
"ss=3500 //kg/cm^2\n",
"L=2 //m\n",
"G=8*10^5 //kg/cm^2\n",
"// calculations\n",
"x=sqrt(%pi*G/(25*L*32*100))\n",
"d=x*16*(F+dd*k)/(ss*%pi)\n",
"x2=x*d^2\n",
"// results\n",
"printf('d=%.2f cm',d)\n",
"printf('\n x=%.2f cm',x2)\n",
"\n",
"// Text: not exact\n",
"\n",
""
   ]
   }
],
"metadata": {
		  "kernelspec": {
		   "display_name": "Scilab",
		   "language": "scilab",
		   "name": "scilab"
		  },
		  "language_info": {
		   "file_extension": ".sce",
		   "help_links": [
			{
			 "text": "MetaKernel Magics",
			 "url": "https://github.com/calysto/metakernel/blob/master/metakernel/magics/README.md"
			}
		   ],
		   "mimetype": "text/x-octave",
		   "name": "scilab",
		   "version": "0.7.1"
		  }
		 },
		 "nbformat": 4,
		 "nbformat_minor": 0
}
