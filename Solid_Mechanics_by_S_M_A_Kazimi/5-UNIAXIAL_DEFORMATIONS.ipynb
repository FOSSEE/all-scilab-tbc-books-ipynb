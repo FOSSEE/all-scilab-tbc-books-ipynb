{
"cells": [
 {
		   "cell_type": "markdown",
	   "metadata": {},
	   "source": [
       "# Chapter 5: UNIAXIAL DEFORMATIONS"
	   ]
	},
{
		   "cell_type": "markdown",
		   "metadata": {},
		   "source": [
			"## Example 5.10: Chapter5_Example_10.sce"
		   ]
		  },
  {
"cell_type": "code",
	   "execution_count": null,
	   "metadata": {
	    "collapsed": true
	   },
	   "outputs": [],
"source": [
"clc\n",
"// initialization\n",
"clear\n",
"d=10 //cm\n",
"id=9.99 //cm\n",
"t=3 //mm\n",
"E=1.0*10^6 //kg/cm^2\n",
"a=2.02*10^-5 // degree/celcius\n",
"// part(a)\n",
"Tr=10 //degree C\n",
"T=(d-id)/id*1/a\n",
"printf('part(a) \n The sleeve must be heated to %.1f degree C or more for this purpose',T+Tr)\n",
"\n",
"//part(b)\n",
"s_th=a*T*E\n",
"p=s_th*t*2/(d*10)\n",
"printf('\n part(b) \n The pressure developed between the rod and sleeve is %d kg/cm^2',p)\n",
"\n",
"// part(c)\n",
"f=0.2\n",
"o=10 // overlap: cm\n",
"A=%pi*d*o\n",
"F=f*p*A\n",
"printf('\n part (c) \n The axial force required is %d kg',F)\n",
"\n",
"//part (d)\n",
"// linked to part c\n",
"T2=20 //degree C\n",
"a2=1.17*10^-5 //  /degree C\n",
"Ts=(a-a2)*(T2-Tr)*E\n",
"Ts=s_th-Ts\n",
"p2=p*Ts/s_th\n",
"F2=F*Ts/s_th\n",
"printf('\n part(d)\n The pressure developed between the rod and sleeve is %.1f kg/cm^2',p2)\n",
"printf('\n The axial force required is %d kg',F2)\n",
"//part(e)\n",
"T3=Tr+(s_th/((a-a2)*10^6))\n",
"printf('\n part(e) \n The temperature at which the sleeve comes off easily is %.1f C',T3)\n",
"\n",
"// calculations in the text: rounding off errors\n",
""
   ]
   }
,
{
		   "cell_type": "markdown",
		   "metadata": {},
		   "source": [
			"## Example 5.11: Chapter5_Example_11.sce"
		   ]
		  },
  {
"cell_type": "code",
	   "execution_count": null,
	   "metadata": {
	    "collapsed": true
	   },
	   "outputs": [],
"source": [
"clc\n",
"//initialization of variables\n",
"clear\n",
"T1=37.8 // degre C\n",
"t=0.355 //mm\n",
"T2=93.3 // degree C\n",
"L=2 //cm\n",
"m=1\n",
"n=1.53\n",
"a=1.86*10^-5\n",
"//calculations\n",
"R=2*t*(3*(1+m)^2+(1+m*n)*(m^2+(m*n)^-1))\n",
"R=R/(6*a*(T2-T1)*(1+m^2))  // mm\n",
"R=R/10\n",
"def=L^2/(8*R)\n",
"// results\n",
"printf('The radius of curvature is %.1f cm',R)\n",
"printf('\n The deflection is %.6f cm',def)"
   ]
   }
,
{
		   "cell_type": "markdown",
		   "metadata": {},
		   "source": [
			"## Example 5.12: Chapter5_Example_12.sce"
		   ]
		  },
  {
"cell_type": "code",
	   "execution_count": null,
	   "metadata": {
	    "collapsed": true
	   },
	   "outputs": [],
"source": [
"clc\n",
"// initialization of variables\n",
"clear\n",
"L=5 //cm\n",
"D=1.8 //cm\n",
"l=2.5 //cm\n",
"d=1.5 //cm\n",
"F=1 //tonne\n",
"E=2.1*10^6 //kg/cm^2\n",
"// calculations\n",
"s1=F*1000*4/(D^2*%pi)\n",
"s2=F*1000*4/(d^2*%pi)\n",
"U1=1/2*s1^2/E\n",
"U1=U1*L*D^2*%pi/4\n",
"U2=1/2*s2^2/E\n",
"U2=U2*l*d^2*%pi/4\n",
"U=U1+U2\n",
"// results\n",
"printf('The energy stored in the bolt is %.3f kg-cm',U)"
   ]
   }
,
{
		   "cell_type": "markdown",
		   "metadata": {},
		   "source": [
			"## Example 5.13: Chapter5_Example_13.sce"
		   ]
		  },
  {
"cell_type": "code",
	   "execution_count": null,
	   "metadata": {
	    "collapsed": true
	   },
	   "outputs": [],
"source": [
"clc\n",
"// initialization of variables\n",
"clear\n",
"t=16 //mm\n",
"Pt=1500 //kg/cm^2\n",
"Ps=1025 //kg/cm^2\n",
"Pb=2360 //kg/cm^2\n",
"\n",
"//part (a)\n",
"p=6 //cm\n",
"r=24 //mm\n",
"d=r/10+0.15\n",
"Ft=t*(p-d)*Pt/10\n",
"Fs=%pi*d^2*Ps/4\n",
"Fb=d*t*Pb\n",
"x=min(Ft,Fs,Fb)\n",
"effA=x*100/(p*t/10*Pt)\n",
"\n",
"//part (b)\n",
"p=9 //cm\n",
"r=30 //mm\n",
"d=r/10+0.2\n",
"Ft=t*(p-d)*Pt/10\n",
"Fs=%pi*d^2*Ps/4\n",
"Fb=d*t*Pb\n",
"x=min(Ft,Fs,Fb)\n",
"effB=x*100/(p*t/10*Pt)\n",
"\n",
"// results\n",
"printf('The efficiencies corresponding to cases a and b are %.1f, %.1f',effA,effB)\n",
"printf('\n Hence part b is better than part a')"
   ]
   }
,
{
		   "cell_type": "markdown",
		   "metadata": {},
		   "source": [
			"## Example 5.1: Chapter5_Example_1.sce"
		   ]
		  },
  {
"cell_type": "code",
	   "execution_count": null,
	   "metadata": {
	    "collapsed": true
	   },
	   "outputs": [],
"source": [
"clc\n",
"//initialization of variables\n",
"clear\n",
"l=20 //cm\n",
"dL=1 //m\n",
"dl=0.004 //cm\n",
"//calculations\n",
"L=l*dL/dl //m\n",
"//results\n",
"printf('The depth of the clay bed is %d m',L)\n",
""
   ]
   }
,
{
		   "cell_type": "markdown",
		   "metadata": {},
		   "source": [
			"## Example 5.2: Chapter5_Example_2.sce"
		   ]
		  },
  {
"cell_type": "code",
	   "execution_count": null,
	   "metadata": {
	    "collapsed": true
	   },
	   "outputs": [],
"source": [
"clc\n",
"//initialization of variables\n",
"clear\n",
"A=1 //unit area\n",
"E=2*10^6 //kg/cm^2\n",
"// calculations\n",
"db=3000*90/(A*E)\n",
"dc=db+5000*60/(A*E)\n",
"dd=dc+4000*30/(A*E)\n",
"//results\n",
"printf('The extension of the rod in part AB is %.2e cm in part BC is %.2e cm \n and in part CD is %.2e cm',db,dc,dd)"
   ]
   }
,
{
		   "cell_type": "markdown",
		   "metadata": {},
		   "source": [
			"## Example 5.3: Chapter5_Example_3.sce"
		   ]
		  },
  {
"cell_type": "code",
	   "execution_count": null,
	   "metadata": {
	    "collapsed": true
	   },
	   "outputs": [],
"source": [
"clc\n",
"//initialization of variables\n",
"clear\n",
"A=3 //cm^2\n",
"L=18 //m\n",
"E= 2*10^6 //kg/cm^2\n",
"r=7833 //kg/m^3\n",
"//calculations\n",
"e=r*(L*100)^2/(2*E*10^6)\n",
"// results\n",
"printf('The elongation is %.5f cm',e)"
   ]
   }
,
{
		   "cell_type": "markdown",
		   "metadata": {},
		   "source": [
			"## Example 5.4: Chapter5_Example_4.sce"
		   ]
		  },
  {
"cell_type": "code",
	   "execution_count": null,
	   "metadata": {
	    "collapsed": true
	   },
	   "outputs": [],
"source": [
"clc\n",
"//initialization of variables\n",
"clear\n",
"// linked to 5_3\n",
"P=3 //tonne\n",
"E=2*10^6 //kg/cm^2\n",
"d_0= 1 //cm\n",
"d_l=2.8 //cm\n",
"// calculations\n",
"e=4*P*1000*d_l*10^3/(d_l^2*%pi*E*(1-((d_l-d_0)/d_l)))\n",
"//results\n",
"printf('The total elongation is %.2f cm',e)"
   ]
   }
,
{
		   "cell_type": "markdown",
		   "metadata": {},
		   "source": [
			"## Example 5.6: Chapter5_Example_6.sce"
		   ]
		  },
  {
"cell_type": "code",
	   "execution_count": null,
	   "metadata": {
	    "collapsed": true
	   },
	   "outputs": [],
"source": [
"clc\n",
"//initialization of variables\n",
"clear\n",
"P=10 //tonne\n",
"E=2*10^6 //kg/cm^2\n",
"// calculations\n",
"// We have to solve linear system Ax=B\n",
"A=[1 1 1 0\n",
"   3 1 -3 0\n",
"   -2 2 0 -E\n",
"   0 -1 2 -E]\n",
"B=[P*10^3;0;0;0]\n",
"x=inv(A)*B\n",
"W1=x(1,1)/1000\n",
"W2=x(2,1)/1000\n",
"W3=x(3,1)/1000\n",
"th=x(4,1)\n",
"//results\n",
"printf('The load taken by each rod is %.2f tonne, %.1f tonne, %.3f tonne',W1,W2,W3)\n",
"printf('\n and the slope is theta = %.2e. radians',th)   "
   ]
   }
,
{
		   "cell_type": "markdown",
		   "metadata": {},
		   "source": [
			"## Example 5.8: Chapter5_Example_8.sce"
		   ]
		  },
  {
"cell_type": "code",
	   "execution_count": null,
	   "metadata": {
	    "collapsed": true
	   },
	   "outputs": [],
"source": [
"clc\n",
"// initialization of variables\n",
"clear\n",
"b=30 // cm\n",
"h=30 //cm\n",
"n=6\n",
"A=36 //cm^2\n",
"ss_s=1500 //kg/cm^2\n",
"ss_c=60 //kg/cm^2\n",
"Er=15 // Elasticity ratio\n",
"// calculations\n",
"L=A*Er*ss_c+(b*h-A)*ss_c\n",
"// results\n",
"printf('The safe load is %d.kg',L)"
   ]
   }
,
{
		   "cell_type": "markdown",
		   "metadata": {},
		   "source": [
			"## Example 5.9: Chapter5_Example_9.sce"
		   ]
		  },
  {
"cell_type": "code",
	   "execution_count": null,
	   "metadata": {
	    "collapsed": true
	   },
	   "outputs": [],
"source": [
"clc\n",
"// initiaization of variables\n",
"clear\n",
"gs_b=10 //cm\n",
"gs_h=10 //cm\n",
"d_b=2 //cm\n",
"d_h=2 //cm\n",
"As= 1 //cm^2\n",
"s=10000 //kg/cm^2\n",
"// part (a)\n",
"Es=2*10^6 //kg/cm^2\n",
"Ec=2*10^5 //kg/cm^2\n",
"// calculations\n",
"e=s/Es\n",
"Ac=gs_b*gs_h-(d_b*d_h)\n",
"e_c=e*Es*As/(Ec*Ac+Es*As)\n",
"s_c=Ec*e_c\n",
"e_s=e-e_c\n",
"s_s=Es*e_s\n",
"// results\n",
"printf('part (a) \n The stress in steel and concrete are respectively %d , %.2e kg/cm^2',s_s,s_c)\n",
"// part(b)\n",
"P=8000 //kg\n",
"// calculations\n",
"e_c=(e*Es*As-P)/(Ec*Ac+Es*As)\n",
"e_s=e-e_c\n",
"s_c=Ec*e_c\n",
"s_s=Es*e_s\n",
"// results\n",
"printf('\n part (b) \n The stress in steel and concrete are respectively %.1f , %.2f kg/cm^2',s_s,s_c)\n",
"\n",
""
   ]
   }
],
"metadata": {
		  "kernelspec": {
		   "display_name": "Scilab",
		   "language": "scilab",
		   "name": "scilab"
		  },
		  "language_info": {
		   "file_extension": ".sce",
		   "help_links": [
			{
			 "text": "MetaKernel Magics",
			 "url": "https://github.com/calysto/metakernel/blob/master/metakernel/magics/README.md"
			}
		   ],
		   "mimetype": "text/x-octave",
		   "name": "scilab",
		   "version": "0.7.1"
		  }
		 },
		 "nbformat": 4,
		 "nbformat_minor": 0
}
