{
"cells": [
 {
		   "cell_type": "markdown",
	   "metadata": {},
	   "source": [
       "# Chapter 10: INTRODUCTION TO ENERGY METHODS"
	   ]
	},
{
		   "cell_type": "markdown",
		   "metadata": {},
		   "source": [
			"## Example 10.11: Chapter10_Example_11.sce"
		   ]
		  },
  {
"cell_type": "code",
	   "execution_count": null,
	   "metadata": {
	    "collapsed": true
	   },
	   "outputs": [],
"source": [
"clc\n",
"//initialization of variables\n",
"clear\n",
"A=100 //cm^2\n",
"E=2*10^6 //kg/cm^2\n",
"// calculations\n",
"del=1093.5*10^6/(E*A)\n",
"// 1093.5  from the table\n",
"// results\n",
"printf('Central deflection = %.2f mm',del)"
   ]
   }
,
{
		   "cell_type": "markdown",
		   "metadata": {},
		   "source": [
			"## Example 10.12: Chapter10_Example_12.sce"
		   ]
		  },
  {
"cell_type": "code",
	   "execution_count": null,
	   "metadata": {
	    "collapsed": true
	   },
	   "outputs": [],
"source": [
"clc\n",
"//initialization of variables\n",
"clear\n",
"T=30 //degree celcius\n",
"alpha=0.0000117 // per degree celcius\n",
"//AB\n",
"L=6 //m\n",
"dl=T*alpha*L\n",
"df=0.375 //kg\n",
"tot=dl*df\n",
"//BC\n",
"dl=T*alpha*L\n",
"df=0.375 //kg\n",
"tot=tot+dl*df\n",
"//CD\n",
"dl=T*alpha*L\n",
"df=0.75 //kg\n",
"tot=tot+dl*df\n",
"tot=tot*100*2\n",
"// results\n",
"printf('The deflection is %.4f cm',tot)"
   ]
   }
,
{
		   "cell_type": "markdown",
		   "metadata": {},
		   "source": [
			"## Example 10.3: Chapter10_Example_3.sce"
		   ]
		  },
  {
"cell_type": "code",
	   "execution_count": null,
	   "metadata": {
	    "collapsed": true
	   },
	   "outputs": [],
"source": [
"clc\n",
"//initialization of variables\n",
"clear\n",
"L=6000 //cm\n",
"L1=150 //cm\n",
"T=90 //W\n",
"Ip=%pi*10^4/32\n",
"E=2*10^6 //kg/cm^2\n",
"G=E/2.5\n",
"A=3 //cm^2\n",
"delta=0.5\n",
"//calculations\n",
"U=L/(2*E*A)+(T*T*L1/(2*G*Ip))\n",
"// U=0.5*W*delta\n",
"W=0.25/U\n",
"//results\n",
"printf('W = %.1f kg',W)"
   ]
   }
,
{
		   "cell_type": "markdown",
		   "metadata": {},
		   "source": [
			"## Example 10.4: Chapter10_Example_4.sce"
		   ]
		  },
  {
"cell_type": "code",
	   "execution_count": null,
	   "metadata": {
	    "collapsed": true
	   },
	   "outputs": [],
"source": [
"clc\n",
"//initialization of variabes\n",
"clear\n",
"cA=10 //cm^2\n",
"wA=5 //cm^2\n",
"P=1 //tonne\n",
"E=2*10^6 //kg/cm^2\n",
"P=P*1000 //kg\n",
"// calculations\n",
"U_up=P^2*200/(2*E*cA)*1/sqrt(3)*(2+4+6+8+10+12)\n",
"U_do=P^2*200/(2*E*cA)*1/sqrt(3)*(1+3+5+7+9+11+13/2)\n",
"U_web=P^2*200/(2*E*wA)*1/sqrt(3)*(2*13)\n",
"U=U_up+U_do+U_web\n",
"delta=U*2/(P)\n",
"// results\n",
"printf('deflection = %.3f cm',delta)"
   ]
   }
,
{
		   "cell_type": "markdown",
		   "metadata": {},
		   "source": [
			"## Example 10.7: Chapter10_Example_7.sce"
		   ]
		  },
  {
"cell_type": "code",
	   "execution_count": null,
	   "metadata": {
	    "collapsed": true
	   },
	   "outputs": [],
"source": [
"clc\n",
"//initialization of variables\n",
"clear\n",
"L=1 //m\n",
"w=10 //kg\n",
"h=50 //cm\n",
"A=1 //cm^2\n",
"E=2*10^6 //kg/cm^2\n",
"Ar=1 //cm^2\n",
"Ec=3*10^4 //kg/cm^2\n",
"// For steel\n",
"del=w*L*100/(A*E)\n",
"P=w*(1+sqrt(1+(2*h/del)))\n",
"printf('Stress in steeel = %d kg/cm^2 ',P)\n",
"\n",
"// for cloth laminate\n",
"del=w*L*100/(A*Ec)\n",
"P=w*(1+sqrt(1+(2*h/del)))\n",
"printf('\n Stress in cloth laminate = %.1f kg/cm^2 ',P)"
   ]
   }
,
{
		   "cell_type": "markdown",
		   "metadata": {},
		   "source": [
			"## Example 10.8: Chapter10_Example_8.sce"
		   ]
		  },
  {
"cell_type": "code",
	   "execution_count": null,
	   "metadata": {
	    "collapsed": true
	   },
	   "outputs": [],
"source": [
"clc\n",
"//initialization of variables\n",
"clear\n",
"w=64 //kg\n",
"H=60 //cm\n",
"b=40 //cm\n",
"h=5 //cm\n",
"E=0.12*10^6 //kg/cm^2\n",
"Es=2*10^6 //kg/cm^2\n",
"// for part (a) and (b)\n",
"I=b*h^3/12\n",
"del=4*w*120^3/(E*I)\n",
"P=w*(1+sqrt(1+(2*H/del)))\n",
"str=P*240*6/(b*h^2)\n",
"printf('part (a) and (b)')\n",
"printf('\n Maximum stress in wood = %d kg/cm^2',str)\n",
"printf('\n Max. force on divers feet = %d kg',P)\n",
"\n",
"//for part (c)\n",
"Ixx=I*E/Es\n",
"Zxx=19.4 //cm^2\n",
"Ixx=72.7 //cm^4\n",
"del=4*w*120^3/(Es*Ixx)\n",
"P=w*(1+sqrt(1+(2*H/del)))\n",
"str=P*240/Zxx\n",
"// results\n",
"printf('\n part (c)')\n",
"printf('\n Maximum stress in steel = %d kg/cm^2',str)\n",
"printf('\n Max. force on divers feet = %d kg',P)\n",
"printf('\n Hence wood is better than steel')\n",
"\n",
"// wrong calculations in some parts"
   ]
   }
],
"metadata": {
		  "kernelspec": {
		   "display_name": "Scilab",
		   "language": "scilab",
		   "name": "scilab"
		  },
		  "language_info": {
		   "file_extension": ".sce",
		   "help_links": [
			{
			 "text": "MetaKernel Magics",
			 "url": "https://github.com/calysto/metakernel/blob/master/metakernel/magics/README.md"
			}
		   ],
		   "mimetype": "text/x-octave",
		   "name": "scilab",
		   "version": "0.7.1"
		  }
		 },
		 "nbformat": 4,
		 "nbformat_minor": 0
}
