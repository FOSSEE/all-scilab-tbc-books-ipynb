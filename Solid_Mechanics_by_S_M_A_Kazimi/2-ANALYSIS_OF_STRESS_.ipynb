{
"cells": [
 {
		   "cell_type": "markdown",
	   "metadata": {},
	   "source": [
       "# Chapter 2: ANALYSIS OF STRESS "
	   ]
	},
{
		   "cell_type": "markdown",
		   "metadata": {},
		   "source": [
			"## Example 2.10: Chapter2_Example_10.sce"
		   ]
		  },
  {
"cell_type": "code",
	   "execution_count": null,
	   "metadata": {
	    "collapsed": true
	   },
	   "outputs": [],
"source": [
"clc\n",
"// initialization of variables\n",
"clear\n",
"tau_xx= -1 // kgf/cm^2\n",
"tau_yy= 0 // kgf/cm^2\n",
"tau_xy= 7 // kgf/cm^2\n",
"// calculations \n",
"sigma_1=(tau_xx+tau_yy)/2+sqrt((1/2*(tau_xx-tau_yy))^2+tau_xy^2)\n",
"sigma_2=(tau_xx+tau_yy)/2-sqrt((1/2*(tau_xx-tau_yy))^2+tau_xy^2)\n",
"x=sigma_1 // positive one is tension\n",
"if(sigma_2>sigma_1)\n",
"    x=sigma_2\n",
"end\n",
"// Results\n",
"printf('The diagonal tension is %.3f kgf/cm^2',x)"
   ]
   }
,
{
		   "cell_type": "markdown",
		   "metadata": {},
		   "source": [
			"## Example 2.11: Chapter2_Example_11.sce"
		   ]
		  },
  {
"cell_type": "code",
	   "execution_count": null,
	   "metadata": {
	    "collapsed": true
	   },
	   "outputs": [],
"source": [
"clc\n",
"// initialization of variables\n",
"clear\n",
"d=2 // m\n",
"l=10 // m\n",
"t=1 // cm\n",
"p=15 // kgf/cm^2\n",
"pitch= 2*%pi //m\n",
"//calculations\n",
"w=2*%pi*d/2 // m\n",
"theta=atan(w/(2*%pi))\n",
"sigma_z=p*d*100/(4*t)\n",
"sigma_th=p*d*100/(2*t)\n",
"sigma_th_new=(sigma_th+sigma_z)/2+(sigma_th-sigma_z)/2*cos(2*theta)\n",
"tau_thz=(sigma_z-sigma_th)*sin(2*theta)/2\n",
"// results\n",
"printf('At the junction, the normal and shear stresses are %d and %d kgf/cm^2 \n respectively, and the rivets must be designed for this',sigma_th_new,-tau_thz)"
   ]
   }
,
{
		   "cell_type": "markdown",
		   "metadata": {},
		   "source": [
			"## Example 2.4: Chapter2_Example_4.sce"
		   ]
		  },
  {
"cell_type": "code",
	   "execution_count": null,
	   "metadata": {
	    "collapsed": true
	   },
	   "outputs": [],
"source": [
"clc\n",
"// initialization of variables\n",
"clear\n",
"tau=[200 100 0\n",
"     100 0 0\n",
"     0 0 500] // some units\n",
"theta=60 // degrees\n",
"//calculations\n",
"theta=theta*%pi/180\n",
"a=[cos(theta) sin(theta) 0\n",
"  -sin(theta) cos(theta) 0\n",
"   0 0 1]\n",
"b=a.'\n",
"tau_new=a*tau*b\n",
"// Results\n",
"printf('The new stress tensor is')\n",
"disp(tau_new)\n",
"\n",
"   \n",
""
   ]
   }
,
{
		   "cell_type": "markdown",
		   "metadata": {},
		   "source": [
			"## Example 2.5: Chapter2_Example_5.sce"
		   ]
		  },
  {
"cell_type": "code",
	   "execution_count": null,
	   "metadata": {
	    "collapsed": true
	   },
	   "outputs": [],
"source": [
"clc\n",
"// initialization of variables\n",
"clear\n",
"sigma_1=100 //kg*f/cm^2\n",
"sigma_2=100 //kg*f/cm^2\n",
"sigma_3=-200 //kg*f/cm^2\n",
"// calculations\n",
"tau_oct=1/3*sqrt((sigma_1-sigma_2)^2+(sigma_2-sigma_3)^2+(sigma_3-sigma_1)^2)\n",
"// Results\n",
"printf('Octahedra shear stress at the point is=%.1f kgf/cm^2',tau_oct)"
   ]
   }
,
{
		   "cell_type": "markdown",
		   "metadata": {},
		   "source": [
			"## Example 2.7: Chapter2_Example_7.sce"
		   ]
		  },
  {
"cell_type": "code",
	   "execution_count": null,
	   "metadata": {
	    "collapsed": true
	   },
	   "outputs": [],
"source": [
"clc\n",
"// initialization of variables\n",
"clear\n",
"tau=[200 100 0\n",
"     100 0 0\n",
"     0 0 500] // some units\n",
"theta=60 // degrees\n",
"//calculations\n",
"theta=theta*%pi/180\n",
"a=[cos(theta) sin(theta) 0\n",
"  -sin(theta) cos(theta) 0\n",
"   0 0 1]\n",
"b=a.'\n",
"tau_new=a*tau*b\n",
"\n",
"// stress invariants :old \n",
"I1=tau(1,1)+tau(2,2)+tau(3,3)\n",
"I2=tau(1,1)*tau(2,2)+tau(2,2)*tau(3,3)+tau(3,3)*tau(1,1)-(tau(1,2)^2+tau(2,3)^2+tau(3,1)^2)\n",
"I3=tau(1,1)*tau(2,2)*tau(3,3)+2*tau(1,2)*tau(2,3)*tau(3,1)-(tau(1,1)*tau(2,3)^2+tau(2,2)*tau(3,1)^2+tau(3,3)*tau(1,2)^2)\n",
"\n",
"// stress invariants :new\n",
"I11=tau_new(1,1)+tau_new(2,2)+tau_new(3,3)\n",
"I22=tau_new(1,1)*tau_new(2,2)+tau_new(2,2)*tau_new(3,3)+tau_new(3,3)*tau_new(1,1)-(tau_new(1,2)^2+tau_new(2,3)^2+tau_new(3,1)^2)\n",
"I33=tau_new(1,1)*tau_new(2,2)*tau_new(3,3)+2*tau_new(1,2)*tau_new(2,3)*tau_new(3,1)-(tau_new(1,1)*tau_new(2,3)^2+tau_new(2,2)*tau_new(3,1)^2+tau_new(3,3)*tau_new(1,2)^2)\n",
"\n",
"// Results\n",
"printf('The invariants of old stress tensor are I1=%0.2f I2=%.e I3=%.e \n and that of the new stress tensor are I1=%0.2f I2=%.e I3=%.e',I1,I2,I3,I11,I22,I33)\n",
"printf('\n Hence the same stress tensor invariants')\n",
"\n",
"\n",
""
   ]
   }
,
{
		   "cell_type": "markdown",
		   "metadata": {},
		   "source": [
			"## Example 2.8: Chapter2_Example_8.sce"
		   ]
		  },
  {
"cell_type": "code",
	   "execution_count": null,
	   "metadata": {
	    "collapsed": true
	   },
	   "outputs": [],
"source": [
"clc\n",
"// initialization of variables\n",
"clear\n",
"sigma_3=0 // kgf/cm^2\n",
"tau_oct=1500 // kgf/cm^2\n",
"n=2 // given that sigma_1=n*sigma_2\n",
"// calculations\n",
"sigma_2=1500*3/(sqrt(2*n^2-2*n+2)) // // kgf/cm^2\n",
"sigma_1=n*sigma_2 // kgf/cm^2 \n",
"sigma_0=4500/sqrt(2) // kgf/cm^2\n",
"// Results\n",
"printf('The necessary stresses sigma_1, sigma_2 for biaxial yielding are \n %d kgf/cm^2, %d kgf/cm^2 and for uniaxial yielding sigma_0 %0.2f kgf/cm^2.',sigma_1,sigma_2,sigma_0);\n",
""
   ]
   }
,
{
		   "cell_type": "markdown",
		   "metadata": {},
		   "source": [
			"## Example 2.9: Chapter2_Example_9.sce"
		   ]
		  },
  {
"cell_type": "code",
	   "execution_count": null,
	   "metadata": {
	    "collapsed": true
	   },
	   "outputs": [],
"source": [
"clc\n",
"// initialization of variables\n",
"clear\n",
"// part (a)\n",
"tau_xx=300 // kgf/cm^2\n",
"tau_yy=0 // kgf/cm^2\n",
"tau_xy=600 // kgf/cm^2\n",
"// calculations\n",
"sigma_1=(tau_xx+tau_yy)/2+sqrt((1/2*(tau_xx-tau_yy))^2+tau_xy^2)\n",
"sigma_2=(tau_xx+tau_yy)/2-sqrt((1/2*(tau_xx-tau_yy))^2+tau_xy^2)\n",
"Beta=atan(2*tau_xy/(tau_xx-tau_yy))\n",
"Beta=Beta*180/%pi\n",
"// Results\n",
"printf('Part (a) \n The magnitude of principal stresses are %d,%d kgf/cm^2 and \n the direction is given by 2*beta=%.2f degrees',sigma_1,sigma_2,Beta)\n",
"\n",
"//part (b)\n",
"tau_xx=1000 // kgf/cm^2\n",
"tau_yy=150 // kgf/cm^2\n",
"tau_xy=450 // kgf/cm^2\n",
"// calculations\n",
"sigma_1=(tau_xx+tau_yy)/2+sqrt((1/2*(tau_xx-tau_yy))^2+tau_xy^2)\n",
"sigma_2=(tau_xx+tau_yy)/2-sqrt((1/2*(tau_xx-tau_yy))^2+tau_xy^2)\n",
"Beta=atan(2*tau_xy/(tau_xx-tau_yy))\n",
"Beta=Beta*180/%pi\n",
"// Results\n",
"printf('\n Part (b) \n The magnitude of principal stresses are %d,%d kgf/cm^2 and \n the direction is given by 2*beta=%.2f degrees',sigma_1,sigma_2,Beta)\n",
"\n",
"// part (c)\n",
"tau_xx=-850 // kgf/cm^2\n",
"tau_yy=350 // kgf/cm^2\n",
"tau_xy=700 // kgf/cm^2\n",
"// calculations\n",
"sigma_1=(tau_xx+tau_yy)/2+sqrt((1/2*(tau_xx-tau_yy))^2+tau_xy^2)\n",
"sigma_2=(tau_xx+tau_yy)/2-sqrt((1/2*(tau_xx-tau_yy))^2+tau_xy^2)\n",
"Beta=atan(2*tau_xy/(tau_xx-tau_yy))\n",
"Beta=Beta*180/%pi\n",
"// Results\n",
"printf('\n Part (c) \n The magnitude of principal stresses are %d,%d kgf/cm^2 and \n the direction is given by 2*beta=%0.2f',sigma_1,sigma_2,-Beta)\n",
"\n",
"// wrong answers were given in textbook for part (b)\n",
""
   ]
   }
],
"metadata": {
		  "kernelspec": {
		   "display_name": "Scilab",
		   "language": "scilab",
		   "name": "scilab"
		  },
		  "language_info": {
		   "file_extension": ".sce",
		   "help_links": [
			{
			 "text": "MetaKernel Magics",
			 "url": "https://github.com/calysto/metakernel/blob/master/metakernel/magics/README.md"
			}
		   ],
		   "mimetype": "text/x-octave",
		   "name": "scilab",
		   "version": "0.7.1"
		  }
		 },
		 "nbformat": 4,
		 "nbformat_minor": 0
}
