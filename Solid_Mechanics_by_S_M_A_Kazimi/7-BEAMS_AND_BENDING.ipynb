{
"cells": [
 {
		   "cell_type": "markdown",
	   "metadata": {},
	   "source": [
       "# Chapter 7: BEAMS AND BENDING"
	   ]
	},
{
		   "cell_type": "markdown",
		   "metadata": {},
		   "source": [
			"## Example 7.10: Chapter7_Example_10.sce"
		   ]
		  },
  {
"cell_type": "code",
	   "execution_count": null,
	   "metadata": {
	    "collapsed": true
	   },
	   "outputs": [],
"source": [
"clc\n",
"//initialization of variables\n",
"clear\n",
"Ys=17000 //kg/cm^2\n",
"E=2*10^6 //kg/cm^2\n",
"d1=1 //mm\n",
"d=1 //cm\n",
"//calculations: 1 cm\n",
"R=E*d/(2*Ys)\n",
"M=Ys*%pi*d^3/32\n",
"// results\n",
"printf('%d cm daimeter wire:',d)\n",
"printf('\n Minimum radius = %.2f cm',R)\n",
"printf('\n Bending Moment = %.2f kg-cm',M)\n",
"// calculations: 1 mm\n",
"R1=R/(d1*10)\n",
"M1=M/(d1*1000)\n",
"// results\n",
"printf('\n %d mm daimeter wire:',d1)\n",
"printf('\n Minimum radius = %.2f cm',R1)\n",
"printf('\n Bending Moment = %.2f kg-cm',M1)"
   ]
   }
,
{
		   "cell_type": "markdown",
		   "metadata": {},
		   "source": [
			"## Example 7.11: Chapter7_Example_11.sce"
		   ]
		  },
  {
"cell_type": "code",
	   "execution_count": null,
	   "metadata": {
	    "collapsed": true
	   },
	   "outputs": [],
"source": [
"clc\n",
"//initialization of variables\n",
"clear\n",
"t=0.5 //cm\n",
"s=2 //m\n",
"p1=7.5 //cm\n",
"p2=10 //cm\n",
"d=p2/2\n",
"str=1650 //kg/cm^2\n",
"// calculations\n",
"// ab\n",
"IxX=p1*t^3/12+t*p1*d^2\n",
"// bc\n",
"alpha=atan(3/4)\n",
"Ixx=t*(p1+d)^3/12\n",
"Iyy=0\n",
"Ixy=0\n",
"Iuu=Ixx*cos(alpha)^2+Iyy*sin(alpha)^2-Ixy*sin(2*alpha)\n",
"Ixx=Iuu+IxX\n",
"IXX=Ixx*100/(2*p1)\n",
"Z=IXX/(d+t/2)\n",
"w=str*Z*8/(s^2*100)\n",
"w=w/1000\n",
"//Results\n",
"printf('w = %.1f tonne/m',w)"
   ]
   }
,
{
		   "cell_type": "markdown",
		   "metadata": {},
		   "source": [
			"## Example 7.12: Chapter7_Example_12.sce"
		   ]
		  },
  {
"cell_type": "code",
	   "execution_count": null,
	   "metadata": {
	    "collapsed": true
	   },
	   "outputs": [],
"source": [
"clc\n",
"//initialization of variables\n",
"clear\n",
"wb=10 //cm\n",
"wh=20 //cm\n",
"sb=0.5 //cm\n",
"sh=10 //cm\n",
"s=6 //m\n",
"fs=1650 //kg/cm^2\n",
"fw=150 //kg/cm^2\n",
"Es=2*10^6 //kg/cm^2\n",
"Ew=12*10^4 //kg/cm^2\n",
"\n",
"//calculations\n",
"// Method 1\n",
"as=2*fs/(21*Es)\n",
"aw=2*fw/(20*Ew)\n",
"a=min(as,aw)\n",
"ss=a*Ew*wh/2\n",
"//Moment resistance of steel portion\n",
"F=(fs+1573)/2*sb*sh\n",
"k=sb/3*(fs+2*1573)/(fs+1573)\n",
"Ms=2*F*(10.5-k)\n",
"//Moment resistance of wooden portion\n",
"F=ss*wb*wb/2\n",
"Mw=2*(F*(wb-wb/3))\n",
"M=Ms+Mw\n",
"//Total udl supported\n",
"W=M*8/(s*100)\n",
"\n",
"//Results\n",
"printf('Using method 1')\n",
"printf('\n W = %d kg',W)\n",
"\n",
"//Method 2\n",
"nE=Es/Ew\n",
"nf=fs/fw\n",
"Is=2*(0+sb*sh*10.25^2)\n",
"Iw=0.6*wh^3/12\n",
"I=Is+Iw\n",
"W=fs*I*8/(s*100*10.5)\n",
"\n",
"//Results\n",
"printf('\n Using method 2')\n",
"printf('\n W = %d kg',W)"
   ]
   }
,
{
		   "cell_type": "markdown",
		   "metadata": {},
		   "source": [
			"## Example 7.13: Chapter7_Example_13.sce"
		   ]
		  },
  {
"cell_type": "code",
	   "execution_count": null,
	   "metadata": {
	    "collapsed": true
	   },
	   "outputs": [],
"source": [
"clc\n",
"//initialization of variables\n",
"clear\n",
"p=6 //mm\n",
"Ixx=2375 //cm^4\n",
"Es=2*10^6 //kg/cm^2\n",
"EAl=0.667*10^6 //kg/cm^2\n",
"d1=10.6 //cm\n",
"d2=10 //cm\n",
"// calculations\n",
"I1=2*(0+p/10*10*10.3^2)\n",
"I2=Ixx*EAl/Es\n",
"I=I1+I2\n",
"n=I/I2\n",
"// results\n",
"printf('stiffness ratio = %.2f ',n)\n",
"n1=Es*d1/(d2*EAl)\n",
"printf('\n Stress ration = %.2f ',n1)"
   ]
   }
,
{
		   "cell_type": "markdown",
		   "metadata": {},
		   "source": [
			"## Example 7.14: Chapter7_Example_14.sce"
		   ]
		  },
  {
"cell_type": "code",
	   "execution_count": null,
	   "metadata": {
	    "collapsed": true
	   },
	   "outputs": [],
"source": [
"clc\n",
"//initilization of new variables\n",
"clear\n",
"wt=0.8 //cm\n",
"ft=1.4 //cm\n",
"w=10 //cm\n",
"y=20 //cm\n",
"// Sigma_y: yield stress is not given explicitly\n",
"k1=wt*(40-2*ft)/2\n",
"Zp=(14*19.3+k1*9.3)*2\n",
"If=2*(w*ft^3/12+w*ft*19.3^2)\n",
"Iw=wt*(40-2*ft)^3/12\n",
"I=Iw+If\n",
"Z=I/y\n",
"sf=Zp/Z\n",
"//Results\n",
"printf('shape factor = %.2f ',sf)"
   ]
   }
,
{
		   "cell_type": "markdown",
		   "metadata": {},
		   "source": [
			"## Example 7.15: Chapter7_Example_15.sce"
		   ]
		  },
  {
"cell_type": "code",
	   "execution_count": null,
	   "metadata": {
	    "collapsed": true
	   },
	   "outputs": [],
"source": [
"clc\n",
"//initilization of new variables\n",
"clear\n",
"wt=0.8 //cm\n",
"ft=1.4 //cm\n",
"w=10 //cm\n",
"y=20 //cm\n",
"T=750 //T==750*sigma_y\n",
"// calculations\n",
"MpF=ft*w*(40-2*ft)\n",
"c1=((40-2*ft)/2)^2-(T-MpF)/wt\n",
"c=sqrt(3*c1)\n",
"// results\n",
"printf('Elastic core of %.1f cm depth is present',2*c)"
   ]
   }
,
{
		   "cell_type": "markdown",
		   "metadata": {},
		   "source": [
			"## Example 7.17: Chapter7_Example_17.sce"
		   ]
		  },
  {
"cell_type": "code",
	   "execution_count": null,
	   "metadata": {
	    "collapsed": true
	   },
	   "outputs": [],
"source": [
"clc\n",
"//initialization of new variables\n",
"clear\n",
"P=2000 //kg\n",
"a=4 //cm\n",
"b=1 //cm\n",
"d=7 //cm\n",
"r=3 //cm\n",
"// calculations\n",
"A=(a+b)/2*d\n",
"xbar=(a+b*2)*d/(r*(a+b))\n",
"rbar=r+xbar\n",
"I=b*d^3/12+r*d^3/12\n",
"Ixx=I-A*2.8^2\n",
"e=Ixx/(rbar*A)\n",
"f1=P*5.8*(xbar-0.62)/(A*0.62*r)\n",
"f2=P*5.8*(-d+2.18)/(A*0.62*(5.18+d-2.18))\n",
"str=P/A\n",
"Str_i=f1+str\n",
"Str_o=-f2-str\n",
"//Results\n",
"printf('stress at the inner side of the hook = %.1f kg/cm^2 (tensile)',Str_i)\n",
"printf('\n stress at the outer side of the hook = %.1f kg/cm^2 (compressive)',Str_o)\n",
"// approximations involved in the text"
   ]
   }
,
{
		   "cell_type": "markdown",
		   "metadata": {},
		   "source": [
			"## Example 7.20: Chapter7_Example_20.sce"
		   ]
		  },
  {
"cell_type": "code",
	   "execution_count": null,
	   "metadata": {
	    "collapsed": true
	   },
	   "outputs": [],
"source": [
"clc\n",
"//initialization of new variables\n",
"clear\n",
"t=1 //cm\n",
"a=40 //cm\n",
"A=236\n",
"// calculations\n",
"ybar=a*t*0.5+(50-1)*4*0.5/(a*t+(50-1)*4)\n",
"y1bar=1.25*a-ybar\n",
"IAA=a*t^3/3+(50-1)^3*4/12+(50-1)*4*25.5^2\n",
"Io=IAA-A*ybar^2\n",
"//part (1)\n",
"r=y1bar/ybar\n",
"// results\n",
"printf('Ratio of maximum bending stress in the stem and flange')\n",
"printf('\n Ratio = %.2f',r)\n",
"//part(2)\n",
"// calculations\n",
"r=(2/3*388*29.56)-(2/3*160*20.44)-(228*20.44)\n",
"r=r/(2*2/3*388*29.56)\n",
"// results\n",
"printf('\n Ratio of S.F in flange to total S.F')\n",
"printf('\n Ratio = %.2f percent',r*100)\n",
"// part (3)\n",
"// calculations\n",
"r=359*200/Io\n",
"// results\n",
"printf('\n Ratio of maximum shear stress in the flange to average sher stress in the stem')\n",
"printf('\n Ratio = %.2f ',r)\n",
"//part (4)\n",
"// calculations\n",
"s=10 //m\n",
"r=r/0.922\n",
"sigma=1650 //kg/cm^2\n",
"shear=945 //kg/cm^2\n",
"wsh=2*200*shear/(r*s)\n",
"wsi=8*Io*sigma/(s^2*10*29.56)\n",
"w=min(wsh,wsi)\n",
"// results\n",
"printf('\n Maximum u.d.l. = %d kg/m ',w)\n",
"\n",
"//wrong moment of Inertia (Io) in the text and hence part (3) and part (4) are wrong"
   ]
   }
,
{
		   "cell_type": "markdown",
		   "metadata": {},
		   "source": [
			"## Example 7.21: Chapter7_Example_21.sce"
		   ]
		  },
  {
"cell_type": "code",
	   "execution_count": null,
	   "metadata": {
	    "collapsed": true
	   },
	   "outputs": [],
"source": [
"clc\n",
"//initialization of new variables\n",
"clear\n",
"a=30 //cm\n",
"t=2.5 //cm\n",
"S=15 //cm\n",
"s=5 //Tonne\n",
"// calculations\n",
"I=a*a^3-25*25^3\n",
"I=I/12\n",
"tau_zx=s*1000*27.5*t*25/(4*35000*t)\n",
"FA=S*t*tau_zx\n",
"tau_xy=s*1000*a*t*27.5/(4*35000*t)\n",
"FB=tau_xy*t*S\n",
"//Results\n",
"printf('case A \n F = %d kg',FA)\n",
"printf('\n case B \n F= %d kg',FB)"
   ]
   }
,
{
		   "cell_type": "markdown",
		   "metadata": {},
		   "source": [
			"## Example 7.23: Chapter7_Example_23.sce"
		   ]
		  },
  {
"cell_type": "code",
	   "execution_count": null,
	   "metadata": {
	    "collapsed": true
	   },
	   "outputs": [],
"source": [
"clc\n",
"//initialization of variables\n",
"clear\n",
"h=40 //cm\n",
"b=10 //cm\n",
"t1=1.4 //cm\n",
"t2=0.8 //cm\n",
"Ixx=13989.5 //cm^4\n",
"//calculations\n",
"e=b^2*h^2*t1/(4*Ixx)*(1-t1/h-t1/b+t1^2/(b*h))*(1-t1/h)\n",
"//Results\n",
"printf('Shear center: \n e = %.2f cm',e)"
   ]
   }
,
{
		   "cell_type": "markdown",
		   "metadata": {},
		   "source": [
			"## Example 7.2: Chapter7_Example_2.sce"
		   ]
		  },
  {
"cell_type": "code",
	   "execution_count": null,
	   "metadata": {
	    "collapsed": true
	   },
	   "outputs": [],
"source": [
"clc\n",
"//initialization of variables\n",
"clear\n",
"s=3 //m\n",
"n=60\n",
"p=50 //kg\n",
"// calculations\n",
"W=n*p\n",
"Rc=W*2/s\n",
"Rb=W-Rc\n",
"dx = 0.001;\n",
"x = 0:dx:s\n",
"n = s/dx +1;\n",
"for i = 1:n\n",
"    Sx(i) = -Rb + Rc*x(i)^2/6;\n",
"    Mx(i) = Rb*x(i) - Rc*x(i)^3 /18;\n",
"end\n",
"//Results\n",
"figure(1);plot(x,Sx);title('Shear force diagram');xlabel('X (in m)');ylabel('Shear force (in kg)');\n",
"figure(2);plot(x,Mx);title('Bending Moment diagram');xlabel('X (in m)');ylabel('Bending Moment (in kg-m)');"
   ]
   }
,
{
		   "cell_type": "markdown",
		   "metadata": {},
		   "source": [
			"## Example 7.33: Chapter7_Example_33.sce"
		   ]
		  },
  {
"cell_type": "code",
	   "execution_count": null,
	   "metadata": {
	    "collapsed": true
	   },
	   "outputs": [],
"source": [
"clc\n",
"//initialization of new variables\n",
"clear\n",
"L=50 //cm\n",
"k=15 //cm\n",
"I=200 //cm^4\n",
"II=40 //cm^4\n",
"d=30 //cm\n",
"Pd=40 //cm\n",
"E=0.6667*10^6 //kg/cm^2\n",
"//calculations\n",
"delta=(100*10/2*16.33+L*d*35+L*k/2*25+d*k/2*45)\n",
"delta1=delta/E\n",
"//Results\n",
"printf('deflection = %.2f mm',delta1*10^1)"
   ]
   }
,
{
		   "cell_type": "markdown",
		   "metadata": {},
		   "source": [
			"## Example 7.8: Chapter7_Example_8.sce"
		   ]
		  },
  {
"cell_type": "code",
	   "execution_count": null,
	   "metadata": {
	    "collapsed": true
	   },
	   "outputs": [],
"source": [
"clc\n",
"//initialization of new variables\n",
"clear\n",
"b=10075 //mm\n",
"h=10 //mm\n",
"p1=7.5\n",
"p2=9\n",
"//part (a)\n",
"ybar=1*p1*0.5+1*p2*5.5\n",
"ybar=ybar/16.5\n",
"xbar=1*p1*0.5+1*p1*4.75\n",
"xbar=xbar/16.5\n",
"printf('part (a)')\n",
"printf('\n Centroid coordinates (x,y) = (%.2f, %.2f) cm',xbar,ybar)\n",
"\n",
"//part (b)\n",
"Ixx=p1*1^3/12+p1*1*(3.23-0.5)^2+1*p2^3/12+p2*1*(5.5-3.23)^2\n",
"Iyy=1*p1^3/12+p1*1*(3.75-2.43)^2+p2*1^3/12+p2*1*(2.43-0.5)^2\n",
"Ixy=p1*1.32*2.73+9*(-1.93)*(-2.27)\n",
"printf('\n part (b)')\n",
"printf('\n Moment of Areas: \n Ixx = %.1f cm^4 \n Iyy = %.1f cm^4 \n Ixy=%.1f cm^4',Ixx,Iyy,Ixy)\n",
"\n",
"//part (c)\n",
"alpha=0.5*atan(2*Ixy/(Iyy-Ixx))\n",
"alpha=alpha*180/%pi\n",
"printf('\n part (c)')\n",
"printf('\n Direction of principal axes:')\n",
"printf('\n alpha = %.2f degrees',alpha)\n",
"\n",
"//part (d)\n",
"Iuu=(Ixx+Iyy)/2+sqrt((Iyy-Ixx)^2/4+Ixy^2)\n",
"Ivv=(Ixx+Iyy)/2-sqrt((Iyy-Ixx)^2/4+Ixy^2)\n",
"printf('\n part (d)')\n",
"printf('\n Iuu = %.2f cm^4 \n Ivv = %.2f cm^4',Iuu,Ivv)"
   ]
   }
],
"metadata": {
		  "kernelspec": {
		   "display_name": "Scilab",
		   "language": "scilab",
		   "name": "scilab"
		  },
		  "language_info": {
		   "file_extension": ".sce",
		   "help_links": [
			{
			 "text": "MetaKernel Magics",
			 "url": "https://github.com/calysto/metakernel/blob/master/metakernel/magics/README.md"
			}
		   ],
		   "mimetype": "text/x-octave",
		   "name": "scilab",
		   "version": "0.7.1"
		  }
		 },
		 "nbformat": 4,
		 "nbformat_minor": 0
}
