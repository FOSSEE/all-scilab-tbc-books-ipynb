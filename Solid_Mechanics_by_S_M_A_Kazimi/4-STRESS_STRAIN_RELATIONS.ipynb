{
"cells": [
 {
		   "cell_type": "markdown",
	   "metadata": {},
	   "source": [
       "# Chapter 4: STRESS STRAIN RELATIONS"
	   ]
	},
{
		   "cell_type": "markdown",
		   "metadata": {},
		   "source": [
			"## Example 4.1: Chapter4_Example_1.sce"
		   ]
		  },
  {
"cell_type": "code",
	   "execution_count": null,
	   "metadata": {
	    "collapsed": true
	   },
	   "outputs": [],
"source": [
"clc\n",
"// initialization of variables\n",
"clear\n",
"E=2*10^6 // kg/cm^2\n",
"G=8*10^5 // kg/cm^2\n",
"ep=[0.001 0 -0.002\n",
"    0 -0.003 0.0005\n",
"    -0.002 0.0005 0]\n",
"// calculations\n",
"nu=E/(2*G)-1\n",
"lambda=E*nu/((1+nu)*(1-2*nu))\n",
"mu=G\n",
"sigma(1,1)=2*mu*ep(1,1)+lambda*(ep(1,1)+ep(2,2)+ep(3,3))\n",
"sigma(2,2)=2*mu*ep(2,2)+lambda*(ep(1,1)+ep(2,2)+ep(3,3))\n",
"sigma(3,3)=2*mu*ep(3,3)+lambda*(ep(1,1)+ep(2,2)+ep(3,3))\n",
"tau(1,2)=2*mu*ep(1,2)\n",
"tau(1,3)=2*mu*ep(1,3)\n",
"tau(2,3)=2*mu*ep(2,3)\n",
"tau=[sigma(1,1) tau(1,2) tau(1,3)\n",
"     tau(1,2) sigma(2,2) tau(2,3)\n",
"     tau(1,3) tau(2,3) sigma(3,3)]\n",
"// results\n",
"printf('The lames constants are %.e and %.e kg/cm^2',lambda,mu)\n",
"printf('\n The stres tensor is')\n",
"disp(tau)     \n",
""
   ]
   }
,
{
		   "cell_type": "markdown",
		   "metadata": {},
		   "source": [
			"## Example 4.2: Chapter4_Example_2.sce"
		   ]
		  },
  {
"cell_type": "code",
	   "execution_count": null,
	   "metadata": {
	    "collapsed": true
	   },
	   "outputs": [],
"source": [
"clc\n",
"// initialization of variables\n",
"clear\n",
"sigma_x=1000 //kg/cm^2\n",
"sigma_y=-500 //kg/cm^2\n",
"sigma_z=0  //kg/cm^2\n",
"tau_xy=500 //kg/cm^2\n",
"E=2*10^6 // kg/cm^2\n",
"nu=0.25\n",
"//calculations\n",
"ep_x=1/E*(sigma_x-nu*(sigma_y+sigma_z))\n",
"ep_y=1/E*(sigma_y-nu*(sigma_x+sigma_z))\n",
"ep_z=1/E*(sigma_z-nu*(sigma_y+sigma_x))\n",
"J1=ep_x+ep_y+ep_z\n",
"sigma_1=(sigma_x+sigma_y)/2+sqrt((1/2*(sigma_x-sigma_y))^2+tau_xy^2)\n",
"sigma_2=(sigma_x+sigma_y)/2-sqrt((1/2*(sigma_x-sigma_y))^2+tau_xy^2)\n",
"th=1/2*atan(2*tau_xy/(sigma_x-sigma_y))\n",
"th=th*180/%pi\n",
"ep_1=1/E*(sigma_1-nu*sigma_2)\n",
"ep_2=1/E*(sigma_2-nu*sigma_1)\n",
"ep_3=-1/E*nu*(sigma_1+sigma_2)\n",
"//results\n",
"printf('The magnitude of principal strain are %.8f, %.8f, %.8f',abs(ep_1),abs(ep_2),abs(ep_3))\n",
"printf('\n and the diection is given by theta=%.2f degrees',th)\n",
"printf('\n J1 is %.6f',J1)"
   ]
   }
,
{
		   "cell_type": "markdown",
		   "metadata": {},
		   "source": [
			"## Example 4.3: Chapter4_Example_3.sce"
		   ]
		  },
  {
"cell_type": "code",
	   "execution_count": null,
	   "metadata": {
	    "collapsed": true
	   },
	   "outputs": [],
"source": [
"clc\n",
"// initialization of variables\n",
"clear\n",
"sigma_x=1400 //kg/cm^2\n",
"tau_xy=400// kg/cm^2\n",
"ep_z=-3.6*10^-6\n",
"nu=1/4\n",
"E=2*10^8 //kg/cm^2\n",
"// calculations\n",
"sigma_y=(-ep_z*E/nu)-sigma_x\n",
"sigma_1=(sigma_x+sigma_y)/2+sqrt((1/2*(sigma_x-sigma_y))^2+tau_xy^2)\n",
"sigma_2=(sigma_x+sigma_y)/2-sqrt((1/2*(sigma_x-sigma_y))^2+tau_xy^2)\n",
"th=0.5*atan(2*tau_xy/(sigma_x-sigma_y))\n",
"th=th*180/%pi\n",
"printf('sigma_y is %d kg/cm^2',sigma_y)\n",
"printf('\n The principal stresses are %d , %d kg/cm^2',sigma_1,sigma_2)\n",
"printf('\n The direction is given by theta = %.2f degrees',th)\n",
"\n",
"// angle was given wrong in the text"
   ]
   }
,
{
		   "cell_type": "markdown",
		   "metadata": {},
		   "source": [
			"## Example 4.4: Chapter4_Example_4.sce"
		   ]
		  },
  {
"cell_type": "code",
	   "execution_count": null,
	   "metadata": {
	    "collapsed": true
	   },
	   "outputs": [],
"source": [
"clc\n",
"//initialization of variables\n",
"clear\n",
"C=1000/3 //kg/cm^2\n",
"sigma_x=2*C\n",
"sigma_y=4*C\n",
"tau_xy=4*C\n",
"sigma_0=4*C\n",
"sigma_1=3+C*sqrt(2)\n",
"sigma_2=3-C*sqrt(2)\n",
"sigma_3=0\n",
"tau_oct=1/3*sqrt((sigma_1-sigma_2)^2+(sigma_2-sigma_3)^2+(sigma_3-sigma_1)^2)\n",
"tau_max=sigma_1/2\n",
"taU=1.885*C\n",
"tau_y=2*C\n",
"printf('Actual tau is %.3f',taU)\n",
"printf('\n tau_max at yield is %.3f',tau_y)\n",
"printf('\n Hence yielding doesn not occur according to Von-Miles condition \n but it occurs due to Tresca condition')"
   ]
   }
],
"metadata": {
		  "kernelspec": {
		   "display_name": "Scilab",
		   "language": "scilab",
		   "name": "scilab"
		  },
		  "language_info": {
		   "file_extension": ".sce",
		   "help_links": [
			{
			 "text": "MetaKernel Magics",
			 "url": "https://github.com/calysto/metakernel/blob/master/metakernel/magics/README.md"
			}
		   ],
		   "mimetype": "text/x-octave",
		   "name": "scilab",
		   "version": "0.7.1"
		  }
		 },
		 "nbformat": 4,
		 "nbformat_minor": 0
}
