{
"cells": [
 {
		   "cell_type": "markdown",
	   "metadata": {},
	   "source": [
       "# Chapter 8: STABILITY OF EQUILIBRIUM COLUMNS"
	   ]
	},
{
		   "cell_type": "markdown",
		   "metadata": {},
		   "source": [
			"## Example 8.1: Chapter8_Example_1.sce"
		   ]
		  },
  {
"cell_type": "code",
	   "execution_count": null,
	   "metadata": {
	    "collapsed": true
	   },
	   "outputs": [],
"source": [
"clc\n",
"// initialization of variables\n",
"clear\n",
"L=5 //m\n",
"D=20 //cm\n",
"t=1 //cm\n",
"E=2*10^6 //kg/cm^2\n",
"I=2502 //cm^4\n",
"L=5*100 //cm\n",
"// calculations\n",
"P=E*I/(4*L^2)\n",
"// results\n",
"printf('The maximal axial load taken is %.1f Tonne',P/100)\n",
"printf('\n for both ends pinned, P=%.1f Tonne',P*4/100)\n",
"printf('\n for both ends fixed, P=%.1f Tonne',P*16/100)\n",
"printf('\n for one end fixed, one pinned, P=%.1f Tonne',P*4*2.13/100)\n",
"\n",
"// Evaluation of critical load (P) in the text is wrong"
   ]
   }
,
{
		   "cell_type": "markdown",
		   "metadata": {},
		   "source": [
			"## Example 8.2: Chapter8_Example_2.sce"
		   ]
		  },
  {
"cell_type": "code",
	   "execution_count": null,
	   "metadata": {
	    "collapsed": true
	   },
	   "outputs": [],
"source": [
"clc\n",
"//initialization of variables\n",
"clear\n",
"E=2*10^6 //kg/cm^2\n",
"sigma_y=2600 //kg/cm^2\n",
"I=2502 //cm^4\n",
"L=500 //cm\n",
"A=59.7 //cm^2\n",
"L_tcr=L/sqrt(I/A)\n",
"\n",
"printf('The actual critical length ratio is %.1f',L_tcr)\n",
"//case (b)\n",
"L_cr=sqrt(E*%pi^2/sigma_y)\n",
"printf('\n case (b)')\n",
"printf('\n The critical length ratio is %.1f',L_cr)\n",
"\n",
"//case (a)\n",
"L_cr=sqrt(E*%pi^2/(4*sigma_y))\n",
"printf('\n case (a)')\n",
"printf('\n The critical length ratio is %.1f',L_cr)\n",
"\n",
"//case (c)\n",
"L_cr=sqrt(4*E*%pi^2/sigma_y)\n",
"printf('\n case (c)')\n",
"printf('\n The critical length ratio is %.1f',L_cr)\n",
"\n",
"// case (d)\n",
"L_cr=sqrt(2.05*E*%pi^2/sigma_y)\n",
"// Results\n",
"printf('\n case (d)')\n",
"printf('\n The critical length ratio is %.1f',L_cr)\n",
"printf('\n Only in case (a) actual ratio is more than critical ratio and material \n remains elastic  For cases (b), (c) and (d) critical length ratio is \n much higher and hence the material yelds before crippling loads are reached')\n",
"\n",
""
   ]
   }
,
{
		   "cell_type": "markdown",
		   "metadata": {},
		   "source": [
			"## Example 8.3: Chapter8_Example_3.sce"
		   ]
		  },
  {
"cell_type": "code",
	   "execution_count": null,
	   "metadata": {
	    "collapsed": true
	   },
	   "outputs": [],
"source": [
"clc\n",
"//initialzation of variables\n",
"clear\n",
"h=3.5 //m\n",
"A=22.4 //cm^2\n",
"r=7.08 //cm\n",
"E=2*10^6 //kg/cm^2\n",
"Q=1/2\n",
"// calculations\n",
"h=h*100\n",
"Q1=(Q*h/r)^2\n",
"s_cr=E*%pi^2/Q1\n",
"// results\n",
"printf('The critical stress is %d kg/cm^2',s_cr)\n",
"printf('\n This is much higher than yield stress for the material, \n so the column will fail by yielding')\n",
"\n",
"// rounding off errors in the text"
   ]
   }
,
{
		   "cell_type": "markdown",
		   "metadata": {},
		   "source": [
			"## Example 8.4: Chapter8_Example_4.sce"
		   ]
		  },
  {
"cell_type": "code",
	   "execution_count": null,
	   "metadata": {
	    "collapsed": true
	   },
	   "outputs": [],
"source": [
"clc\n",
"//initialization of variables\n",
"clear\n",
"r_min=1.17 //cm\n",
"A=17.21 //cm^2\n",
"Q=1/2\n",
"h=3.5 //m\n",
"E=2*10^6 //kg/cm^2\n",
"h=h*100\n",
"// calculations\n",
"Q1=(Q*h/r_min)^2\n",
"s_cr=E*%pi^2/Q1\n",
"P_cr=s_cr*A\n",
"// results\n",
"printf('The crippling load is %d kg',P_cr)\n",
"\n",
"// wrong calculations given in the text"
   ]
   }
,
{
		   "cell_type": "markdown",
		   "metadata": {},
		   "source": [
			"## Example 8.5: Chapter8_Example_5.sce"
		   ]
		  },
  {
"cell_type": "code",
	   "execution_count": null,
	   "metadata": {
	    "collapsed": true
	   },
	   "outputs": [],
"source": [
"clc\n",
"//initialization of variables\n",
"clear\n",
"L=2.5 //m\n",
"A=6.02 //cm^2\n",
"Q1=105\n",
"s=796.5 //kg/cm^2\n",
"// calculations\n",
"P=2*A*s\n",
"printf('The safe load is %d kg',P)\n",
"// Results\n",
"// wrong calculations in the text"
   ]
   }
,
{
		   "cell_type": "markdown",
		   "metadata": {},
		   "source": [
			"## Example 8.6: Chapter8_Example_6.sce"
		   ]
		  },
  {
"cell_type": "code",
	   "execution_count": null,
	   "metadata": {
	    "collapsed": true
	   },
	   "outputs": [],
"source": [
"clc\n",
"//initialization of variables\n",
"clear\n",
"h=3.5 //m\n",
"r_xx=7.08 //cm\n",
"A=24.38 //cm^2\n",
"Q=0.5\n",
"Q1=Q*h*100/r_xx\n",
"\n",
"//Permissible load by secent formula\n",
"P=1231.28*2*A\n",
"printf('Permissible load by secent formula: %d kg',P)\n",
"\n",
"//Permissible load by Rankine-Gordon formula\n",
"P=1260/(1+(24.75^2/18000))*2*A\n",
"printf('\n Permissible load by Rankine-Gordon formula: %d kg',P)\n",
"\n",
"//Permissible load by parabolic formula\n",
"P=(1050-0.0233*Q1^2)*2*A\n",
"printf('\n Permissible load by parabolic formula: %d kg',P)\n",
"\n",
"//Permissible load by straight-line formula\n",
"P=(1120-Q1*4.8)*2*A\n",
"printf('\n Permissible load by parabolic formula: %d kg',P)\n",
"\n",
"// Rounding off errors in the text\n",
""
   ]
   }
],
"metadata": {
		  "kernelspec": {
		   "display_name": "Scilab",
		   "language": "scilab",
		   "name": "scilab"
		  },
		  "language_info": {
		   "file_extension": ".sce",
		   "help_links": [
			{
			 "text": "MetaKernel Magics",
			 "url": "https://github.com/calysto/metakernel/blob/master/metakernel/magics/README.md"
			}
		   ],
		   "mimetype": "text/x-octave",
		   "name": "scilab",
		   "version": "0.7.1"
		  }
		 },
		 "nbformat": 4,
		 "nbformat_minor": 0
}
