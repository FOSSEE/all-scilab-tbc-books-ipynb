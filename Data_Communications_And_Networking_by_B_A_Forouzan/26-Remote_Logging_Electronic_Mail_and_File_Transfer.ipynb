{
"cells": [
 {
		   "cell_type": "markdown",
	   "metadata": {},
	   "source": [
       "# Chapter 26: Remote Logging Electronic Mail and File Transfer"
	   ]
	},
{
		   "cell_type": "markdown",
		   "metadata": {},
		   "source": [
			"## Example 26.1: Option_negotiation.sce"
		   ]
		  },
  {
"cell_type": "code",
	   "execution_count": null,
	   "metadata": {
	    "collapsed": true
	   },
	   "outputs": [],
"source": [
"clear;\n",
"clc;\n",
"disp('--------------Example 26.1---------------')\n",
"// client request :- Do enable the echo option\n",
"r_character1='IAC';\n",
"r_character2='DO';\n",
"r_character3='ECHO';\n",
"//server approval :- I will enable the echo option\n",
"a_character1='IAC';\n",
"a_character2='WILL';\n",
"a_character3='ECHO';\n",
"printf('In this example, the client wants the server to echo each character sent to the server. In other words,\nwhen a character is typed at the user keyboard terminal, it goes to the server and is sent back to the screen of the user before being processed.\nThe echo option is enabled by the server because it is the server that sends the characters back to the user terminal.\nTherefore, the client should request from the server the enabling of the option using DO.\nThe request consists of three characters: %s, %s and %s.\nThe server accepts the request and enables the option WILL.\nIt informs the client by sending the three-character approval: %s, %s and %s.',r_character1,r_character2,r_character3,a_character1,a_character2,a_character3); // display result"
   ]
   }
,
{
		   "cell_type": "markdown",
		   "metadata": {},
		   "source": [
			"## Example 26.2: Suboption_negotiation.sce"
		   ]
		  },
  {
"cell_type": "code",
	   "execution_count": null,
	   "metadata": {
	    "collapsed": true
	   },
	   "outputs": [],
"source": [
"clear;\n",
"clc;\n",
"disp('--------------Example 26.2---------------')\n",
"// request :- Do enable terminal option\n",
"re_character1='IAC';\n",
"re_character2='DO';\n",
"re_character3='Terminal type';\n",
"//approval :- will enable the terminal option\n",
"a_character1='IAC';\n",
"a_character2='WILL';\n",
"a_character3='Terminal type';\n",
"//request :- Set the terminal type to 'VT'\n",
"r_character1='IAC';\n",
"r_character2='SB';\n",
"r_character3='Terminal type';\n",
"r_character4='V';\n",
"r_character5='T';\n",
"r_character6='IAC';\n",
"r_character7='SE';\n",
"// display the example\n",
"printf('  Client                                                Server\n');\n",
"printf('    |             I will enable the terminal option       |\n');\n",
"printf('    |------------|%s|-|%s|-|%s|------------>|\n',a_character3,a_character2,a_character1);\n",
"printf('    |                                                     |\n');\n",
"printf('    |             Do enable terminal option               |\n');\n",
"printf('    |<-----------|%s|-|%s|-|%s|---------------|\n',re_character1,re_character2,re_character3);\n",
"printf('    |                                                     |\n');\n",
"printf('    |            Set the terminal type to VT              |\n');\n",
"printf('    |----|%s|-|%s|-|%s|-|%s|-|%s|-|%s|-|%s|--->|\n',r_character7,r_character6,r_character5,r_character4,r_character3,r_character2,r_character1);"
   ]
   }
,
{
		   "cell_type": "markdown",
		   "metadata": {},
		   "source": [
			"## Example 26.3: Email_using_SMTP.sce"
		   ]
		  },
  {
"cell_type": "code",
	   "execution_count": null,
	   "metadata": {
	    "collapsed": true
	   },
	   "outputs": [],
"source": [
"clear;\n",
"clc;\n",
"disp('--------------Example 26.3---------------')\n",
"// display the example\n",
"printf('We use TELNET to log into port 25 (the wellknown port for SMTP). We then use the commands directly to send an e-mail.\nIn this example,forouzanb@adelphia.net is sending an e-mail to himself. The first few lines show TELNET trying to connect to the Adelphia mail server.\nAfter connection, we can type the SMTP commands and then receive the responses, as shown below.\nComment lines are designated by the = signs. These lines are not part of the e-mail procedure.');\n",
"// display the SMTP commands and responses\n",
"printf('\n\n$ telnet mail.adelphia.net25\nTrying 68.168.78.100...\nConnected to mail.adelphia.net(68.168.78.100).');\n",
"printf('\n\n================= Connection Establishment====================\n 220 mta13.adelphia.net SMTP server ready Fri, 6 Aug 2004 ...\nHELO mail.adelphia.net\n 250 mtal3.adelphia.net');\n",
"printf('\n\n============= Mail Transfer=================\nMAIL FROM: forouzanb@adelphia.net\n 250 Sender:<forouzanb@adelphia.net>:Ok\nRCPT TO:forounzanb.@adelphia.net\n 250 Recipient:<forouzanb@adelphia.net>Ok\nDATA\n 354 Ok Send data ending with <CRLF>.<CRLF>\nFrom:Forouzan\nTO:Forouzan');\n",
"printf('\n\nThis is a test message\nto show SMTP in action...');\n",
"printf('\n\n==============Connection Termination =================\n 250 Message received:adelphia.net@mail.adelphia.net\nQUIT\n 221 mta13.adelphia.net SMTP server closing connection\nConnection closed by foreign host.');"
   ]
   }
,
{
		   "cell_type": "markdown",
		   "metadata": {},
		   "source": [
			"## Example 26.4: FTP_sessio.sce"
		   ]
		  },
  {
"cell_type": "code",
	   "execution_count": null,
	   "metadata": {
	    "collapsed": true
	   },
	   "outputs": [],
"source": [
"clear;\n",
"clc;\n",
"disp('--------------Example 26.4---------------')\n",
"// display the example\n",
"printf('The following shows an actual FTP session for retrieving a list of items in a directory.Lines in the middle show \ncommands sent by the client and the top and bottom lines show data transfer.');\n",
"// display the commands and responses\n",
"printf('\n\n$ ftp voyager.deanza.tbda.edu\nConnected to voyager.deanza.tbda.edu.\n220(vsFTPd 1.2.1)\n530 Please login with USER and PASS.\nName(voyager.deanza.tbda.edu:forouzan): forouzan\n331 Please specify the password.\nPassword:\n230 Login successful.\nRemote system type is UNIX.\nUsing binary mode to transfer files.\nftp> Is reports\n227 Entering Passive Mode (153,18,17,11,238,169)\n150 Here comes the directory listing.');\n",
"printf('\n\ndrwxr-xr-x  2 3027    411        4096Sep24 2002 business\ndrwxr-xr-x  2 3027    411        4096Sep24 2002 personal\ndrwxr-xr-x  2 3027    411        4096Sep24 2002 school');\n",
"printf('\n\n226 Directory send OK.\nftp>quit\n221 Goodbye.');\n",
"printf('\n\n\nn1. After the control connection is created, the FIP server sends the 220 (service ready) response on the control connection.\n2. The client sends its name.\n3. The server responds with 331 (user name is OK, password is required).\n4. The client sends the password (not shown).\n5. The server responds with 230 (user log-in is OK).\n6. The client sends the list command Os reports) to find the list of files on the directory named report.\n7. Now the server responds with 150 and opens the data connection.\n8. The server then sends the list of the files or directories (as a file) on the data connection.\nWhen the whole list (file) is sent, the server responds with 226 (closing data connection)over the control connection.\n9. The client now has two choices. It can use the QUIT command to request the closing of the control connection, or it can send\nanother command to start another activity (and eventually open another data connection). In our example, the client sends a QUIT command.\n10. After receiving the QUIT command, the server responds with 221 (service closing) and then closes the control connection.')"
   ]
   }
,
{
		   "cell_type": "markdown",
		   "metadata": {},
		   "source": [
			"## Example 26.5: Anonymous_FTP.sce"
		   ]
		  },
  {
"cell_type": "code",
	   "execution_count": null,
	   "metadata": {
	    "collapsed": true
	   },
	   "outputs": [],
"source": [
"clear;\n",
"clc;\n",
"disp('--------------Example 26.5---------------')\n",
"printf('This an example of anonymous FTP. We assume that some public data are available at internic.net.Lines in the middle show \ncommands sent by the client and the top and bottom lines show data transfer.\n\n');\n",
"printf('$ ftp internic.net\nConnected to internic.net\n220 Server ready\nName: anonymous\n331 Guest login OK, send guest as password\nPassword:guest\nftp>pwd\n257 / is current directory\nftp>ls\n200 OK\n150 Opening ASCII mode');\n",
"printf('\n\nbin\n...\n...\n...');\n",
"printf('\n\nftp>close\n221 Goodbye\nftp>quit');"
   ]
   }
],
"metadata": {
		  "kernelspec": {
		   "display_name": "Scilab",
		   "language": "scilab",
		   "name": "scilab"
		  },
		  "language_info": {
		   "file_extension": ".sce",
		   "help_links": [
			{
			 "text": "MetaKernel Magics",
			 "url": "https://github.com/calysto/metakernel/blob/master/metakernel/magics/README.md"
			}
		   ],
		   "mimetype": "text/x-octave",
		   "name": "scilab",
		   "version": "0.7.1"
		  }
		 },
		 "nbformat": 4,
		 "nbformat_minor": 0
}
