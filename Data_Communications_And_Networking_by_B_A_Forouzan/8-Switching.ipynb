{
"cells": [
 {
		   "cell_type": "markdown",
	   "metadata": {},
	   "source": [
       "# Chapter 8: Switching"
	   ]
	},
{
		   "cell_type": "markdown",
		   "metadata": {},
		   "source": [
			"## Example 8.1: circuit_switched_network_for_telephones.sce"
		   ]
		  },
  {
"cell_type": "code",
	   "execution_count": null,
	   "metadata": {
	    "collapsed": true
	   },
	   "outputs": [],
"source": [
"clear;\n",
"clc;\n",
"disp('--------------Example 8.1---------------')\n",
"channel_bandwidth=4; // 4 kHz\n",
"n=2; // each link uses FDM to connect a maximum of two voice channels.\n",
"link_bandwidth=n*channel_bandwidth; // formula\n",
"// display the result\n",
"printf('A circuit-switched network is used to connect eight telephones in a small area. Communication is through %d-kHz voice channels.\nIt is assumed that each link uses FDM to connect a maximum of %d voice channels. The bandwidth of each link is then %d kHz.\nTelephone 1 is connected to telephone 7; 2 to 5; 3 to 8; and 4 to 6. Of course the situation may change when new connections are made.\nThe switch controls the connections.',channel_bandwidth,n,link_bandwidth);"
   ]
   }
,
{
		   "cell_type": "markdown",
		   "metadata": {},
		   "source": [
			"## Example 8.2: circuit_switched_network_of_computers.sce"
		   ]
		  },
  {
"cell_type": "code",
	   "execution_count": null,
	   "metadata": {
	    "collapsed": true
	   },
	   "outputs": [],
"source": [
"clear;\n",
"clc;\n",
"disp('--------------Example 8.2---------------')\n",
"printf('Consider a circuit-switched network that connects computers in two remote offices of a private company. The offices are\nconnected using a T-1 line leased from a communication service provider. There are two 4 X 8 (4 inputs and 8 outputs)\nswitches in this network. For each switch, four output ports are folded into the input ports to allow communication between\ncomputers in the same office. Four other output ports allow communication between the two offices.'); // display example explanation\n",
"// display the figure\n",
"clf();\n",
"xname('--------------Example 8.2----------------');\n",
"xset('font size',3);\n",
"xstring(0,.9,'Circuit-switched network');\n",
"xstring(.12,.67,'4x8 switch');\n",
"xstring(.62,.67,'4x8 switch');\n",
"xstring(.3,.63,'T-1 line with 1.544 Mbps');\n",
"xrects([0 .1 .6;.89 .8 .8;.8 .1 .1;.6 .3 .3]);\n",
"xpoly([.23 .28 .23],[.73 .68 .63],'lines',1);\n",
"xpoly([.57 .52 .57],[.73 .68 .63],'lines',1);\n",
"for i=0:2\n",
"    xpoly([.2 .23],[.72-(i/25) .72-(i/25)]);\n",
"    xpoly([.57 .6],[.72-(i/25) .72-(i/25)]);\n",
"end\n",
"\n",
"for i=0:3\n",
"    xpoly([.11+(i/45) .11+(i/45)],[.5 .45-(i/25)]);\n",
"    xpoly([.11+(i/45) .09-(i/45)],[.45-(i/25) .45-(i/25)]);\n",
"    xpoly([.09-(i/45) .09-(i/45)],[.45-(i/25) .79-(i/12)]);\n",
"    xpoly([.69-(i/45) .69-(i/45)],[.5 .45-(i/25)]);\n",
"    xpoly([.69-(i/45) .71+(i/45)],[.45-(i/25) .45-(i/25)]);\n",
"    xpoly([.71+(i/45) .71+(i/45)],[.45-(i/25) .79-(i/12)]);\n",
"    xpoly([-.05 .1],[.79-(i/12) .79-(i/12)]);\n",
"    xpoly([.7 .85],[.79-(i/12) .79-(i/12)]);\n",
"    xstring(-.13,.79-(i/12),'Computer');\n",
"    xstring(.86,.79-(i/12),'Computer');\n",
"    xfarc(.085-(i/45),.795-(i/12),.01,.01,0,64*360);\n",
"    xfarc(.705+(i/45),.795-(i/12),.01,.01,0,64*360);\n",
"end\n",
"xset('thickness',2.5);\n",
"xpoly([.28 .52],[.68 .68]);\n",
""
   ]
   }
,
{
		   "cell_type": "markdown",
		   "metadata": {},
		   "source": [
			"## Example 8.3: Design_a_three_stage_switch.sce"
		   ]
		  },
  {
"cell_type": "code",
	   "execution_count": null,
	   "metadata": {
	    "collapsed": true
	   },
	   "outputs": [],
"source": [
"clear;\n",
"clc;\n",
"disp('--------------Example 8.3---------------')\n",
"N=200; //input lines\n",
"n=20; // lines in a group\n",
"k=4; //number of crossbars in the middle stage\n",
"crossbars1=N/n; // 1st stage\n",
"crossbars2=k; // 2nd stage\n",
"crossbars3=N/n; // 3rd stage\n",
"size1a=n; // size of a crossbar in 1st stage\n",
"size1b=k;\n",
"size2=N/n; // size of a crossbar in 2nd stage\n",
"size3a=k; // size of a crossbar in 3rd stage\n",
"size3b=n;\n",
"total_crosspoints= 2*k*N + k*((N/n)^2); //2kN + k(N/n)^2\n",
"singlestage=40000;\n",
"p=(total_crosspoints/singlestage)*100;\n",
"// display result\n",
"printf('\nIn the first stage there are %d crossbars, each of size %d x %d.\n',crossbars1,size1a,size1b);\n",
"printf('\nIn the second stage there are %d crossbars, each of size %d x %d.\n',crossbars2,size2,size2);\n",
"printf('\nIn the third stage there are %d crossbars, each of size %d x %d.\n',crossbars3,size3a,size3b);\n",
"printf('\nThe total number of crosspoints is %d. This is %d percent of the number of crosspoints in a single stage switch.',total_crosspoints,p);"
   ]
   }
,
{
		   "cell_type": "markdown",
		   "metadata": {},
		   "source": [
			"## Example 8.4: Clos_criteria_switch.sce"
		   ]
		  },
  {
"cell_type": "code",
	   "execution_count": null,
	   "metadata": {
	    "collapsed": true
	   },
	   "outputs": [],
"source": [
"clear;\n",
"clc;\n",
"disp('--------------Example 8.4---------------')\n",
"N=200; \n",
"n=(N/2)^(0.5); // formula\n",
"k=2*n-1; // formula\n",
"crossbars_1stage=N/n; // formula\n",
"crosspoints_1stage=n*k; // formula\n",
"crossbars_2stage=k; // formula\n",
"crosspoints_2stage=n*n; // formula\n",
"crossbars_3stage=N/n; // formula\n",
"crosspoints_3stage=k*n; // formula\n",
"total_crosspoints=(crossbars_1stage*crosspoints_1stage)+(crossbars_2stage*crosspoints_2stage)+(crossbars_3stage*crosspoints_3stage); // formula\n",
"crosspoints_singlestage=N*N; // formula\n",
"p=(total_crosspoints/crosspoints_singlestage)*100; // percentage formula\n",
"// display the resut\n",
"printf('The value of n is %d and the value of k is %d .\nIn the first stage, there are %d crossbars, each with %d X %d crosspoints.\nIn the second stage, there are %d crossbars, each with %d X %d crosspoints.\nIn the third stage, there are %d crossbars each with %d X %d crosspoints.\nThe total number of crosspoints is %d .If a single-stage switch is used, %d crosspoints are needed.\nThe number of crosspoints in this three-stage switch is %d percent that of a single-stage switch.\nMore points are needed than in single stage . The extra crosspoints are needed to prevent blocking.',n,k,crossbars_1stage,n,k,crossbars_2stage,n,n,crossbars_3stage,k,n,total_crosspoints,crosspoints_singlestage,ceil(p));"
   ]
   }
],
"metadata": {
		  "kernelspec": {
		   "display_name": "Scilab",
		   "language": "scilab",
		   "name": "scilab"
		  },
		  "language_info": {
		   "file_extension": ".sce",
		   "help_links": [
			{
			 "text": "MetaKernel Magics",
			 "url": "https://github.com/calysto/metakernel/blob/master/metakernel/magics/README.md"
			}
		   ],
		   "mimetype": "text/x-octave",
		   "name": "scilab",
		   "version": "0.7.1"
		  }
		 },
		 "nbformat": 4,
		 "nbformat_minor": 0
}
