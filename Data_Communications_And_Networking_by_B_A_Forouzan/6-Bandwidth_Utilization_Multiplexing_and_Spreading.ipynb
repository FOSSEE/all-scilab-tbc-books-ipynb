{
"cells": [
 {
		   "cell_type": "markdown",
	   "metadata": {},
	   "source": [
       "# Chapter 6: Bandwidth Utilization Multiplexing and Spreading"
	   ]
	},
{
		   "cell_type": "markdown",
		   "metadata": {},
		   "source": [
			"## Example 6.10: 4_sources_interleaving.sce"
		   ]
		  },
  {
"cell_type": "code",
	   "execution_count": null,
	   "metadata": {
	    "collapsed": true
	   },
	   "outputs": [],
"source": [
"clear;\n",
"clc;\n",
"disp('--------------Example 6.10---------------')\n",
"cps=250; // characters per second\n",
"unit=8; // 1 unit = 1 character = 8 bits\n",
"n=4; //number of sources\n",
"sb=1; // 1 synchronization bit\n",
"//a)the data rate of each source\n",
"data_rate_source=cps*unit;\n",
"printf('a)The data rate of each source is %d kps.\n',data_rate_source*10^-3); // display result\n",
"// b) the duration of each character in each source\n",
"character_duration=1/cps;\n",
"printf('\nb)The duration of each character in each source is %d ms.\n',character_duration*10^3); // display result\n",
"// c) the frame rate\n",
"frame_rate=cps;\n",
"printf('\nc)The frame rate is %d frames per second.\n',frame_rate);// display result\n",
"// d) the duration of each frame\n",
"frame_duration=1/frame_rate;\n",
"printf('\nd)The duration of each frame is %d ms.\n',frame_duration*10^3);// display result\n",
"//e) the number of bits in each frame\n",
"bits=n*unit+sb;\n",
"printf('\ne)The number of bits in each frame is %d.\n',bits); // display result\n",
"//f) the data rate of the link\n",
"data_rate_link=frame_rate*bits;\n",
"printf('\nf)The data rate of the link is %d bps.',data_rate_link); // display result\n",
""
   ]
   }
,
{
		   "cell_type": "markdown",
		   "metadata": {},
		   "source": [
			"## Example 6.11: 2_channels_multiplexing.sce"
		   ]
		  },
  {
"cell_type": "code",
	   "execution_count": null,
	   "metadata": {
	    "collapsed": true
	   },
	   "outputs": [],
"source": [
"clear;\n",
"clc;\n",
"disp('--------------Example 6.11---------------')\n",
"N1=100; // bit rate of one channel = 100 kbps\n",
"N2=200; // bit rate of other channel = 200 kbps\n",
"printf('\n Multiplexing can be achieved by allocating one slot to the first channel and two slots to the second channel.\n');\n",
"bits=3; // let each frame carry 3 bits\n",
"frame_rate=N1*10^3;\n",
"frame_duration=1/frame_rate;\n",
"bit_rate=frame_rate*bits;\n",
"printf('\nThe frame rate is %d frames per second , the frame duration is %d ms and the bit rate of the link is %d kbps.\n',frame_rate,frame_duration*10^6,bit_rate*10^-3); // display result"
   ]
   }
,
{
		   "cell_type": "markdown",
		   "metadata": {},
		   "source": [
			"## Example 6.1: FDM_configuration.sce"
		   ]
		  },
  {
"cell_type": "code",
	   "execution_count": null,
	   "metadata": {
	    "collapsed": true
	   },
	   "outputs": [],
"source": [
"clear;\n",
"clc;\n",
"disp('--------------Example 6.1---------------')\n",
"channel_bandwidth=4; // a voice channel occupies a bandwidth of 4 kHz.\n",
"n=3; // number of channels\n",
"link_bandwidth=12; // kHz\n",
"fl=20; // link bandwidth 20-32 kHz\n",
"fl1=20; // lower frequency of bandwidth for channel 1\n",
"fh1=fl1+channel_bandwidth; // higher frequency of bandwidth for channel 1\n",
"fl2=fh1; // lower frequency of bandwidth for channel 2\n",
"fh2=fl2+channel_bandwidth; // higher frequency of bandwidth for channel 2\n",
"fl3=fh2; // lower frequency of bandwidth for channel 3\n",
"fh3=fl3+channel_bandwidth; // higher frequency of bandwidth for channel 3\n",
"printf('The %d- to %d-kHz bandwidth is used for the first channel, the %d- to %d-kHz bandwidth for the second channel, and the %d- to %d-kHz\nbandwidth for the third one. Then they are combined as shown in the figure.\n\nAt the receiver, each channel receives the entire signal, using a filter to separate out its own signal. The first channel uses a filter that passes\nfrequencies between %d and %d kHz and filters out (discards) any other frequencies. The second channel uses a filter that passes frequencies between\n%d and %d kHz,and the third channel uses a filter that passes frequencies between %d and %d kHz. Each channel then shifts the frequency to start\nfrom zero.',fl1,fh1,fl2,fh2,fl3,fh3,fl1,fh1,fl2,fh2,fl3,fh3); // display result\n",
"// display the figure\n",
"clf();\n",
"xname('--------------Example 6.1----------------');\n",
"xset('font size',3)\n",
"for i=0:2\n",
"    xset('color',i+1);\n",
"    xfpoly([-.05 -.05 -.02 .01 .01],[.6-(i/6) .64-(i/6) .68-(i/6) .64-(i/6) .6-(i/6)]);\n",
"    xfpoly([1.05 1.05 1.08 1.11 1.11],[.6-(i/6) .64-(i/6) .68-(i/6) .64-(i/6) .6-(i/6)]);\n",
"    xfpoly([.13+(i/15) .13+(i/15) .16+(i/15) .19+(i/15) .19+(i/15)],[.6-(i/6) .64-(i/6) .68-(i/6) .64-(i/6) .6-(i/6)]);\n",
"    xfpoly([.805+(i/15) .805+(i/15) .835+(i/15) .865+(i/15) .865+(i/15)],[.6-(i/6) .64-(i/6) .68-(i/6) .64-(i/6) .6-(i/6)]);\n",
"    xfpoly([.42+(i/16.5) .42+(i/16.5) .45+(i/16.5) .48+(i/16.5) .48+(i/16.5)],[.6-(1/6) .64-(1/6) .68-(1/6) .64-(1/6) .6-(1/6)]);\n",
"    xset('color',0);\n",
"    xpoly([-.1 .05],[.6-(i/6) .6-(i/6)]);\n",
"    xrect(.05,.64-(i/6),.07,.06);\n",
"    xstring(.05,.6-(i/6),'Modulator');\n",
"    xpoly([.12 .32],[.6-(i/6) .6-(i/6)]);\n",
"    xarrows([.33 .36],[.6-(i/6) .435],.5);\n",
"    xarrows([.69 .72],[.435 .6-(i/6)],.5);\n",
"    xrect(.73,.64-(i/6),.07,.06);\n",
"    xstring(.76,.6-(i/6),'Filter');\n",
"    xpoly([.8 .995],[.6-(i/6) .6-(i/6)]);\n",
"    xpoly([1.01 1.2],[.6-(i/6) .6-(i/6)]);\n",
"    xstring(-.05,.56-(i/6),'0');\n",
"    xstring(.01,.56-(i/6),'4');\n",
"    xstring(1.05,.56-(i/6),'0');\n",
"    xstring(1.1,.56-(i/6),'4');\n",
"end\n",
"xarc(.36,.445,.045,.045,0,64*360);\n",
"xarc(.64,.445,.045,.045,0,64*360);\n",
"xarrows([.41 .63],[.6-(1/6) .6-(1/6)],.4);\n",
"xrect(.04,.69,.37,.46);\n",
"xrect(.72,.69,.28,.46);\n",
"xset('font size',3)\n",
"xstring(.375,.41,'+');\n",
"xstring(.04,.7,'Shift and combine');\n",
"xstring(.75,.2,'Filter and shift');\n",
"xstring(.43,.35,'Higher-bandwidth link');\n",
"xstring(.42,.39,'20');\n",
"xstring(.59,.39,'32');\n",
"xstring(.12,.57,'20');\n",
"xstring(.19,.57,'24');\n",
"xstring(.8,.57,'20');\n",
"xstring(.87,.57,'24');\n",
"xstring(.18,.4,'24');\n",
"xstring(.25,.4,'28');\n",
"xstring(.86,.4,'24');\n",
"xstring(.93,.4,'28');\n",
"xstring(.25,.23,'28');\n",
"xstring(.32,.23,'32');\n",
"xstring(.93,.23,'28');\n",
"xstring(.99,.23,'32');"
   ]
   }
,
{
		   "cell_type": "markdown",
		   "metadata": {},
		   "source": [
			"## Example 6.2: bandwidth_with_guards.sce"
		   ]
		  },
  {
"cell_type": "code",
	   "execution_count": null,
	   "metadata": {
	    "collapsed": true
	   },
	   "outputs": [],
"source": [
"clear;\n",
"clc;\n",
"disp('--------------Example 6.2---------------')\n",
"n=5; // five channels\n",
"b=100; // bandwidth of each channel in kHz\n",
"gb=10; // guard band in kHz\n",
"n_gb= n-1; // number of guard bands= number of channels - 1\n",
"min_B = (n*b)+(n_gb*gb); // formula for total bandwidth or minimum bandwidth\n",
"printf('The required bandwidth is atleast %d kHz.',min_B); // display result\n",
"// display the figure\n",
"clf();\n",
"xname('--------------Example 6.2----------------');\n",
"xarrows([0 1],[.2 .2],.5);\n",
"xset('font size',5);\n",
"xstring(1,.1,'Frequency');\n",
"xpoly([.1 .8],[.07 .07]);\n",
"xpoly([.1 .1],[.09 .05]);\n",
"xpoly([.8 .8],[.09 .05]);\n",
"xset('font size',4);\n",
"xstring(.4,.01,'540 kHz');\n",
"x=linspace(.1,.7,5);\n",
"y=linspace(.2,.8,5);\n",
"for i=1:5\n",
"    xpoly([x(i) x(i)],[.2 .3]);\n",
"end\n",
"for i=1:5\n",
"    xpoly([y(i) y(i)],[.2 .3]);\n",
"end\n",
"for i=0:4\n",
"    xarc(.17+(i/6.65),.31,.03,.03,0,90*64);\n",
"    xarc(.1+(i/6.65),.31,.03,.03,90*64,91*64);\n",
"end\n",
"\n",
"for i=0:4\n",
"    xpoly([.11+(i/6.65) .19+(i/6.65)],[.31 .31]);\n",
"    xpoly([.1+(i/6.65) .2+(i/6.65)],[.35 .35]);\n",
"    xpoly([.1+(i/6.65) .1+(i/6.65)],[.33 .37]);\n",
"    xpoly([.2+(i/6.65) .2+(i/6.65)],[.33 .37]);\n",
"end\n",
"\n",
"xset('font size',3);\n",
"x=linspace(.15,.75,5);\n",
"for i=1:5\n",
"    xstring(x(i)-.03,.4,'100 kHz');\n",
"end\n",
"xarrows([.23 .23],[.5 .36],.5);\n",
"xstring(.2,.53,'Guard band of 10 kHz');\n",
"\n",
""
   ]
   }
,
{
		   "cell_type": "markdown",
		   "metadata": {},
		   "source": [
			"## Example 6.3: satellite_channel_FDM.sce"
		   ]
		  },
  {
"cell_type": "code",
	   "execution_count": null,
	   "metadata": {
	    "collapsed": true
	   },
	   "outputs": [],
"source": [
"clear;\n",
"clc;\n",
"disp('--------------Example 6.3---------------')\n",
"n=4; // number of channels\n",
"bitrate=1; // 1 Mbps\n",
"total_bandwidth=1*10^6; // 1 MHz\n",
"channel_bandwidth=total_bandwidth/n;\n",
"bits=(bitrate*10^6/total_bandwidth)*n; // number of bits per Hz\n",
"printf('The satellite channel is analog. Each channel has a %d kHz bandwidth.\nEach digital channel of %d Mbps is modulated such that each %d bits is modulated to 1 Hz. One solution is 16-QAM modulation.',channel_bandwidth*10^-3,bitrate,bits); // display the result\n",
"// display the figure\n",
"clf();\n",
"xname('--------------Example 6.3----------------');\n",
"xpoly([.5 .5],[.3 .8]);\n",
"xpoly([.5 .65],[.8 .55]);\n",
"xpoly([.5 .65],[.3 .55]);\n",
"xset('font size',2.8);\n",
"for i=0:3\n",
"    xstring(.22,.71-(i/10),'1 Mbps                                                   250 kHz');\n",
"    xstring(.22,.665-(i/10),'Digital                                                    Analog');\n",
"    xpoly([.2 .3],[.7-(i/10) .7-(i/10)]);\n",
"    xpoly([.4 .5],[.7-(i/10) .7-(i/10)]);\n",
"    xrect(.3,.72-(i/10),.1,.05);\n",
"    xstring(.33,.68-(i/10),'16-QAM');\n",
"end\n",
"xset('font size',4);\n",
"xstring(.53,.53,'FDM');\n",
"xstring(.67,.57,'1 MHz');\n",
"xpoly([.65 .75],[.55 .55]);"
   ]
   }
,
{
		   "cell_type": "markdown",
		   "metadata": {},
		   "source": [
			"## Example 6.4: Advanced_MobilePhone_System.sce"
		   ]
		  },
  {
"cell_type": "code",
	   "execution_count": null,
	   "metadata": {
	    "collapsed": true
	   },
	   "outputs": [],
"source": [
"clear;\n",
"clc;\n",
"disp('--------------Example 6.4---------------')\n",
"band= 25*10^6; // each band is 25 MHz\n",
"bandwidth= 30 *10^3; // Each user has a bandwidth of 30 kHz in each direction.\n",
"control_channels=42; // 42 channels are used for control\n",
"channels=floor((band/bandwidth)-1); // number of channels\n",
"user_channels=channels-control_channels; // number of channels available for users\n",
"printf('%d channels are available for cellular phone users.',user_channels); // display result"
   ]
   }
,
{
		   "cell_type": "markdown",
		   "metadata": {},
		   "source": [
			"## Example 6.5: three_durations_calculation.sce"
		   ]
		  },
  {
"cell_type": "code",
	   "execution_count": null,
	   "metadata": {
	    "collapsed": true
	   },
	   "outputs": [],
"source": [
"clear;\n",
"clc;\n",
"disp('--------------Example 6.5---------------')\n",
"data_rate=1*10^3; // data rate for each input connection is 1 kbps\n",
"unit =1; // 1 bit\n",
"n=3; // number of channels\n",
"// a) duration of each input slot\n",
"bit_duration = 1/data_rate;\n",
"ip_timeslot=bit_duration;\n",
"printf('a) The duration of each input time slot is %d ms.\n',ip_timeslot*10^3); //display result\n",
"//b) duration of each output slot\n",
"op_timeslot=ip_timeslot/n;\n",
"printf('\nb) The duration of each output time slot is %3.2f ms.\n',op_timeslot*10^3); //display result\n",
"// c)what is the duration of each frame\n",
"frame_time = n*op_timeslot;\n",
"printf('\nc) The duration of each frame is %d ms.\n',frame_time*10^3);//display result"
   ]
   }
,
{
		   "cell_type": "markdown",
		   "metadata": {},
		   "source": [
			"## Example 6.6: Synchronous_TDM.sce"
		   ]
		  },
  {
"cell_type": "code",
	   "execution_count": null,
	   "metadata": {
	    "collapsed": true
	   },
	   "outputs": [],
"source": [
"clear;\n",
"clc;\n",
"disp('--------------Example 6.6---------------')\n",
"data_rate=1*10^6; // data rate for each input connection is 1 Mbps\n",
"unit =1; // 1 bit\n",
"n=4; //number of channels\n",
"//a) input bit duration\n",
"ip_bd=1/data_rate;\n",
"printf('a) The input bit duration is %d microseconds.\n',ip_bd*10^6); //display result\n",
"//b)output bit duration\n",
"op_bd=ip_bd/n;\n",
"printf('\nb) The output bit duration is %3.2f microseconds.\n',op_bd*10^6);//display result\n",
"// c) output bit rate\n",
"op_bitrate=1/op_bd;\n",
"printf('\nc) The output bit rate is %d Mbps.\n',op_bitrate*10^-6);//display result\n",
"//d) output frame rate\n",
"frame_rate=data_rate;\n",
"printf('\nd) The frame rate is %d frames per second.',frame_rate);//display result"
   ]
   }
,
{
		   "cell_type": "markdown",
		   "metadata": {},
		   "source": [
			"## Example 6.7: Four_connections_multiplexing.sce"
		   ]
		  },
  {
"cell_type": "code",
	   "execution_count": null,
	   "metadata": {
	    "collapsed": true
	   },
	   "outputs": [],
"source": [
"clear;\n",
"clc;\n",
"disp('--------------Example 6.7---------------')\n",
"data_rate=1*10^3; // data rate for each input connection is 1 kbps\n",
"unit =1; // 1 bit\n",
"n=4; //number of channels\n",
"// (a) the duration of 1 bit before multiplexing\n",
"bit_duration=1/data_rate;\n",
"printf('a)The duration of 1 bit before multiplexing is %d ms.\n',bit_duration*10^3); //display result\n",
"// (b) the transmission rate of the link\n",
"trans_rate=n*data_rate;\n",
"printf('\nb)The transmission rate of the link is %d kbps.\n',trans_rate*10^-3); //display result\n",
"// (c) the duration of a time slot\n",
"time_slot = bit_duration/n;\n",
"printf('\nc)The duration of each time slot is %d microseconds.\n',time_slot*10^6); //display result\n",
"// (d) the duration of a frame\n",
"frame_time = bit_duration;\n",
"printf('\nd)The duration of each frame is %d ms.\n',frame_time*10^3); //display result"
   ]
   }
,
{
		   "cell_type": "markdown",
		   "metadata": {},
		   "source": [
			"## Example 6.8: Four_channels_TDM.sce"
		   ]
		  },
  {
"cell_type": "code",
	   "execution_count": null,
	   "metadata": {
	    "collapsed": true
	   },
	   "outputs": [],
"source": [
"clear;\n",
"clc;\n",
"disp('--------------Example 6.8---------------')\n",
"n=4; // number of channels\n",
"channel_byte=1; // each frame carries 1 byte from each channel\n",
"frame_size=n*channel_byte; //bytes\n",
"frame_size_bits=frame_size*8; // 1 byte = 8 bits\n",
"byte_rate=100; // each channel sends 100 bytes/s\n",
"frame_rate=channel_byte*byte_rate; // frames per second\n",
"frame_duration=1/frame_rate; // seconds\n",
"bit_rate=frame_rate*frame_size_bits; // bps\n",
"// display the result\n",
"printf('Each frame carries %d byte from each channel; the size of each frame, therefore, is %d bytes, or %d bits.\nThe frame rate is %d frames per second. The duration of a frame is %3.2f s.\nThe bit rate is %d bps.',channel_byte,frame_size,frame_size_bits,frame_rate,frame_duration,bit_rate);\n",
"// display the figure\n",
"clf();\n",
"xname('--------------Example 6.8----------------');\n",
"xpoly([.3 .3],[.3 .7]);\n",
"xset('color',4.2);\n",
"xfrect(0,.7,.28,.05);\n",
"xfrect(.58,.58,.035,.045);\n",
"xfrect(.88,.58,.035,.045);\n",
"xset('color',2.9);\n",
"xfrect(0,.6,.28,.05);\n",
"xfrect(.545,.58,.035,.045);\n",
"xfrect(.845,.58,.035,.045);\n",
"xset('color',3.8);\n",
"xfrect(0,.5,.28,.05);\n",
"xfrect(.51,.58,.035,.045);\n",
"xfrect(.81,.58,.035,.045);\n",
"xset('color',0);\n",
"xfrect(0,.4,.28,.05);\n",
"xfrect(.475,.58,.035,.045);\n",
"xfrect(.775,.58,.035,.045);\n",
"xpoly([-.05 .3],[.625 .625]);\n",
"xpoly([-.05 .3],[.525 .525]);\n",
"xpoly([-.05 .3],[.425 .425]);\n",
"xpoly([-.05 .3],[.325 .325]);\n",
"xset('font size',4)\n",
"xstring(.33,.5,'MUX');\n",
"xpoly([.3 .45],[.7 .5]);\n",
"xpoly([.3 .45],[.3 .5]);\n",
"xstring(.1,.27,'100 bytes/s');\n",
"xset('font size',3)\n",
"xstring(.65,.45,'100 frames/s');\n",
"xstring(.67,.41,'3200 bps');\n",
"xstring(.6,.33,'Frame duration = 1/100 s');\n",
"xstring(.5,.7,'Frame 4 bytes');\n",
"xstring(.8,.7,'Frame 4 bytes');\n",
"xstring(.54,.65,'32 bits');\n",
"xstring(.84,.65,'32 bits');\n",
"xrect(.47,.59,.15,.07);\n",
"xrect(.77,.59,.15,.07);\n",
"xset('thickness',2);\n",
"xarrows([.45 1],[.5 .5],.2);\n",
"xset('font size',7);\n",
"xstring(.66,.53,'. . .');"
   ]
   }
,
{
		   "cell_type": "markdown",
		   "metadata": {},
		   "source": [
			"## Example 6.9: 2_bits_timeslot.sce"
		   ]
		  },
  {
"cell_type": "code",
	   "execution_count": null,
	   "metadata": {
	    "collapsed": true
	   },
	   "outputs": [],
"source": [
"clear;\n",
"clc;\n",
"disp('--------------Example 6.9---------------')\n",
"n=4; // number of channels\n",
"channel_bits=2; // each frame carries 2 bits from each channel\n",
"bitrate_channel=100*10^3 // kbps of each channel\n",
"frame_rate=bitrate_channel/channel_bits; // frames per second\n",
"frame_duration=1/frame_rate; // seconds\n",
"frame_bits=n*channel_bits; // bits carried by each frame\n",
"bit_rate=frame_rate*frame_bits;// of the link in bps\n",
"bit_duration=1/bit_rate; // seconds\n",
"// display result with appropriate units\n",
"printf('The frame rate is %d frames per second. The frame duration is therefore %d microseconds .\nEach frame carries %d bits; the bit rate is %d kbps.\nThe bit duration is %2.1f microseconds.',frame_rate,frame_duration*10^6,frame_bits,bit_rate*10^-3,bit_duration*10^6);//display result\n",
"// display the figure\n",
"clf();\n",
"xname('--------------Example 6.9----------------');\n",
"xpoly([0 .3],[.7 .7]);\n",
"xpoly([0 .3],[.6 .6]);\n",
"xpoly([0 .3],[.5 .5]);\n",
"xpoly([0 .3],[.4 .4]);\n",
"xpoly([.3 .3],[.3 .8]);\n",
"xset('font size',4)\n",
"xstring(.33,.53,'MUX');\n",
"xpoly([.3 .45],[.8 .55]);\n",
"xpoly([.3 .45],[.3 .55]);\n",
"xset('font size',2.5)\n",
"xstring(.05,.71,'100 kbps                        ...    110010');\n",
"xstring(.05,.61,'100 kbps                        ...    001010');\n",
"xstring(.05,.51,'100 kbps                        ...    101101');\n",
"xstring(.05,.41,'100 kbps                        ...    000111');\n",
"xset('font size',3)\n",
"xstring(.65,.5,'50,000 frames/s');\n",
"xstring(.67,.46,'400 kbps');\n",
"xstring(.6,.8,'Frame duration = 1/50000 = 20 microseconds');\n",
"xstring(.5,.65,'Frame : 8 bits');\n",
"xstring(.69,.65,'Frame : 8 bits');\n",
"xstring(.88,.65,'Frame : 8 bits');\n",
"xstring(.51,.58,'00');\n",
"xstring(.55,.58,'10');\n",
"xstring(.59,.58,'00');\n",
"xstring(.63,.58,'11');\n",
"xstring(.7,.58,'01');\n",
"xstring(.74,.58,'11');\n",
"xstring(.78,.58,'10');\n",
"xstring(.82,.58,'00');\n",
"xstring(.89,.58,'11');\n",
"xstring(.93,.58,'01');\n",
"xstring(.97,.58,'10');\n",
"xstring(1.01,.58,'10');\n",
"xstring(.48,.58,'...');\n",
"xrects([.5 .54 .58 .62;.63 .63 .63 .63;.04 .04 .04 0.04;.06 .06 .06 .06]);\n",
"xrects([.69 .73 .77 .81;.63 .63 .63 .63;.04 .04 .04 0.04;.06 .06 .06 .06]);\n",
"xrects([.88 .92 .96 1.0;.63 .63 .63 .63;.04 .04 .04 0.04;.06 .06 .06 .06]);\n",
"xset('thickness',2);\n",
"xpoly([.45 1.1],[.55 .55]);"
   ]
   }
],
"metadata": {
		  "kernelspec": {
		   "display_name": "Scilab",
		   "language": "scilab",
		   "name": "scilab"
		  },
		  "language_info": {
		   "file_extension": ".sce",
		   "help_links": [
			{
			 "text": "MetaKernel Magics",
			 "url": "https://github.com/calysto/metakernel/blob/master/metakernel/magics/README.md"
			}
		   ],
		   "mimetype": "text/x-octave",
		   "name": "scilab",
		   "version": "0.7.1"
		  }
		 },
		 "nbformat": 4,
		 "nbformat_minor": 0
}
