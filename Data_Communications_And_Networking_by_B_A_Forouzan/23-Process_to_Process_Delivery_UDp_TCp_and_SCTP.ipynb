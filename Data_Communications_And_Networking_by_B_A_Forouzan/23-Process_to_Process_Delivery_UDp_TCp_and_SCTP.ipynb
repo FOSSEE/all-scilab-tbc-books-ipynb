{
"cells": [
 {
		   "cell_type": "markdown",
	   "metadata": {},
	   "source": [
       "# Chapter 23: Process to Process Delivery UDp TCp and SCTP"
	   ]
	},
{
		   "cell_type": "markdown",
		   "metadata": {},
		   "source": [
			"## Example 23.1: grep_etc_services.sce"
		   ]
		  },
  {
"cell_type": "code",
	   "execution_count": null,
	   "metadata": {
	    "collapsed": true
	   },
	   "outputs": [],
"source": [
"clear;\n",
"clc;\n",
"disp('--------------Example 23.1----------------')\n",
"// display the example\n",
"printf('In UNIX, the well-known ports are stored in a file called fetcfservices. Each line in this file gives\nthe name of the server and the well-known port number.The following shows the port for FTP. Note that FTP can use port 21 with either UDP or TCP.\n\n$grep   ftp  /etc/services\nftp     21/tcp\nftp     21/udp');\n",
"printf('\n\nSNMP uses two port numbers (161 and 162), each for a different purpose.\n\n$grep snmp /etc/services\nsnmp            161/tcp            #Simple Net Mgmt Proto\nsnmp            161/udp            #Simple Net Mgmt Proto\nsnmptrap        162/udp            #Traps for SNMP');"
   ]
   }
,
{
		   "cell_type": "markdown",
		   "metadata": {},
		   "source": [
			"## Example 23.2: Checksum_with_padding.sce"
		   ]
		  },
  {
"cell_type": "code",
	   "execution_count": null,
	   "metadata": {
	    "collapsed": true
	   },
	   "outputs": [],
"source": [
"clear;\n",
"clc;\n",
"disp('--------------Example 23.2----------------')\n",
"printf('The datagram has only 7 bytes of data. Because the number of bytes of data is odd, padding is added for checksum calculation.\nThe pseudoheader as well as the padding will be dropped when the user datagram is delivered to IP.'); // display the example"
   ]
   }
,
{
		   "cell_type": "markdown",
		   "metadata": {},
		   "source": [
			"## Example 23.3: Segment_sequence_number.sce"
		   ]
		  },
  {
"cell_type": "code",
	   "execution_count": null,
	   "metadata": {
	    "collapsed": true
	   },
	   "outputs": [],
"source": [
"clear;\n",
"clc;\n",
"disp('--------------Example 23.3----------------')\n",
"first_byte= 10001;\n",
"num_segments=5;\n",
"total_bytes = 5000;\n",
"segment=1000; // each segment carries 1000 bytes\n",
"// compute the sequence numbers of each segment\n",
"segment1_sequence_num = first_byte;\n",
"segment2_sequence_num = segment1_sequence_num+segment;\n",
"segment3_sequence_num = segment2_sequence_num+segment;\n",
"segment4_sequence_num = segment3_sequence_num+segment;\n",
"segment5_sequence_num = segment4_sequence_num+segment;\n",
"// find the range of each segment\n",
"range1=segment1_sequence_num+segment-1;\n",
"range2=range1+segment;\n",
"range3=range2+segment;\n",
"range4=range3+segment;\n",
"range5=range4+segment;\n",
"// display the result\n",
"printf('Segment 1:- Sequence Number: %d and range: %d to %d\nSegment 2:- Sequence Number: %d and range: %d to %d\nSegment 3:- Sequence Number: %d and range: %d to %d\nSegment 4:- Sequence Number: %d and range: %d to %d\nSegment 5:- Sequence Number: %d and range: %d to %d',segment1_sequence_num,segment1_sequence_num,range1,segment2_sequence_num,segment2_sequence_num,range2,segment3_sequence_num,segment3_sequence_num,range3,segment4_sequence_num,segment4_sequence_num,range4,segment5_sequence_num,segment5_sequence_num,range5);"
   ]
   }
,
{
		   "cell_type": "markdown",
		   "metadata": {},
		   "source": [
			"## Example 23.4: Value_of_rwnd.sce"
		   ]
		  },
  {
"cell_type": "code",
	   "execution_count": null,
	   "metadata": {
	    "collapsed": true
	   },
	   "outputs": [],
"source": [
"clear;\n",
"clc;\n",
"disp('--------------Example 23.4----------------')\n",
"buffer_size=5000; //bytes\n",
"recieved_unprocessed = 1000; // bytes\n",
"rwnd=buffer_size-recieved_unprocessed ; // formula\n",
"printf('The value of rwnd = %d . Hence Host B can receive only %d bytes of data before overflowing its buffer.',rwnd,rwnd); // display result"
   ]
   }
,
{
		   "cell_type": "markdown",
		   "metadata": {},
		   "source": [
			"## Example 23.5: Window_for_host.sce"
		   ]
		  },
  {
"cell_type": "code",
	   "execution_count": null,
	   "metadata": {
	    "collapsed": true
	   },
	   "outputs": [],
"source": [
"clear;\n",
"clc;\n",
"disp('--------------Example 23.5----------------')\n",
"rwnd=3000; // bytes\n",
"cwnd=3500; // bytes\n",
"window_size=min(rwnd,cwnd); // formula\n",
"printf('The size of the window is the smaller of rwnd and cwnd, which is %d bytes.',window_size); // display the result"
   ]
   }
,
{
		   "cell_type": "markdown",
		   "metadata": {},
		   "source": [
			"## Example 23.6: Unrealistic_sliding_window.sce"
		   ]
		  },
  {
"cell_type": "code",
	   "execution_count": null,
	   "metadata": {
	    "collapsed": true
	   },
	   "outputs": [],
"source": [
"clear;\n",
"clc;\n",
"disp('--------------Example 23.6----------------')\n",
"rwnd=9; // bytes\n",
"cwnd=20; // bytes\n",
"window_size=min(rwnd,cwnd); // formula\n",
"// display result\n",
"printf('This an unrealistic example of a sliding window. The sender has sent bytes up to 202.\nThe receiver has sent an acknowledgment number of 200 with an rwnd of %d bytes.\nThe size of the sender window is the minimum of rwnd and cwnd, or %d bytes. Bytes 200 to 202 are sent, but not acknowledged.\nBytes 203 to 208 can be sent without worrying about acknowledgment. Bytes 209 and above cannot be sent.',rwnd,window_size);"
   ]
   }
],
"metadata": {
		  "kernelspec": {
		   "display_name": "Scilab",
		   "language": "scilab",
		   "name": "scilab"
		  },
		  "language_info": {
		   "file_extension": ".sce",
		   "help_links": [
			{
			 "text": "MetaKernel Magics",
			 "url": "https://github.com/calysto/metakernel/blob/master/metakernel/magics/README.md"
			}
		   ],
		   "mimetype": "text/x-octave",
		   "name": "scilab",
		   "version": "0.7.1"
		  }
		 },
		 "nbformat": 4,
		 "nbformat_minor": 0
}
