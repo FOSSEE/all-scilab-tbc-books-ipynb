{
"cells": [
 {
		   "cell_type": "markdown",
	   "metadata": {},
	   "source": [
       "# Chapter 21: Network Layer Address Mapping Error Reporting and Multicasting"
	   ]
	},
{
		   "cell_type": "markdown",
		   "metadata": {},
		   "source": [
			"## Example 21.1: ARP_request_and_reply.sce"
		   ]
		  },
  {
"cell_type": "code",
	   "execution_count": null,
	   "metadata": {
	    "collapsed": true
	   },
	   "outputs": [],
"source": [
"clear;\n",
"clc;\n",
"disp('--------------Example 21.1---------------')\n",
"// ARP Request\n",
"Hardware_type='0001'; // Ethetnet = 1 , in hexadecimal\n",
"Protocol_type='0800';// IPv4 = 0800 in hexadecimal\n",
"Hardware_length='06'; // for Ethernet in hexadecimal\n",
"Protocol_length='04'; // for IPv4 in hexadecimal\n",
"Operation='0001'; // request=1 , in hexadecimal\n",
"Sender_hw_addr='B23455102210' // sender hardware address = B2:34:55:10:22:10 in hexadecimal\n",
"Sender_pr_addr='130.23.43.20'; // sender protocol address=IP address\n",
"Target_hw_addr='000000000000'; // unknown to sender , hence target hardware address = broadcast address\n",
"Target_pr_addr='130.23.43.25'; // target protocol address=IP address\n",
"// display ARP Request packet\n",
"printf('ARP Request Packet\n');\n",
"printf('        __________________________________________________\n');\n",
"printf('       |____0x%s_______________|____0x%s______________|\n',Hardware_type,Protocol_type);\n",
"printf('       |___0x%s______|___0x%s____|____0x%s______________|\n',Hardware_length,Protocol_length,Operation);\n",
"printf('       |_______________0x%s_____________________|\n',Sender_hw_addr);\n",
"printf('       |_________________%s_____________________|\n',Sender_pr_addr);\n",
"printf('       |_______________0x%s_____________________|\n',Target_hw_addr);\n",
"printf('       |_________________%s_____________________|\n',Target_pr_addr);\n",
"\n",
"// ARP Reply\n",
"Hardware_type='0001'; // Ethetnet = 1 , in hexadecimal\n",
"Protocol_type='0800';// IPv4 = 0800 in hexadecimal\n",
"Hardware_length='06'; // for Ethernet in hexadecimal\n",
"Protocol_length='04'; // for IPv4 in hexadecimal\n",
"Operation='0002'; // reply=1 , in hexadecimal\n",
"Sender_hw_addr='A46EF45983AB' // sender hardware address = A4:6E:F4:59:83:AB in hexadecimal\n",
"Sender_pr_addr='130.23.43.25'; // sender protocol address=IP address\n",
"Target_hw_addr='B23455102210'; //  target hardware address = B2:34:55:10:22:10 in hexadecimal\n",
"Target_pr_addr='130.23.43.20'; // target protocol address=IP address\n",
"// display ARP Reply Packet\n",
"printf('\nARP Reply Packet\n');\n",
"printf('        __________________________________________________\n');\n",
"printf('       |____0x%s_______________|____0x%s______________|\n',Hardware_type,Protocol_type);\n",
"printf('       |___0x%s______|___0x%s____|____0x%s______________|\n',Hardware_length,Protocol_length,Operation);\n",
"printf('       |_______________0x%s_____________________|\n',Sender_hw_addr);\n",
"printf('       |_________________%s_____________________|\n',Sender_pr_addr);\n",
"printf('       |_______________0x%s_____________________|\n',Target_hw_addr);\n",
"printf('       |_________________%s_____________________|\n',Target_pr_addr);\n",
""
   ]
   }
,
{
		   "cell_type": "markdown",
		   "metadata": {},
		   "source": [
			"## Example 21.2: Echo_request_message_checksum.sce"
		   ]
		  },
  {
"cell_type": "code",
	   "execution_count": null,
	   "metadata": {
	    "collapsed": true
	   },
	   "outputs": [],
"source": [
"clear;\n",
"clc;\n",
"disp('--------------Example 21.2----------------')\n",
"identifier=1;\n",
"sequence_number=9;\n",
"// 8 & 0\n",
"word1a=dec2bin(8,8);\n",
"word1b=dec2bin(0,8);\n",
"// 0\n",
"word2a=dec2bin(0,8);\n",
"word2b=dec2bin(0,8); \n",
"// 1\n",
"word3a=dec2bin(0,8);\n",
"word3b=dec2bin(identifier,8); \n",
"// 9\n",
"word4a=dec2bin(0,8);\n",
"word4b=dec2bin(sequence_number,8);\n",
" // TEST\n",
" // T & E\n",
"word5a=dec2bin(ascii('T'),8);\n",
"word5b=dec2bin(ascii('E'),8);\n",
" // S & T\n",
"word6a=dec2bin(ascii('S'),8);\n",
"word6b=dec2bin(ascii('T'),8);\n",
"\n",
"sum_dec=bin2dec(word1a+word1b)+0+identifier+sequence_number+bin2dec(word5a+word5b)+bin2dec(word6a+word6b);\n",
"Sum=dec2bin(sum_dec,16); // sum \n",
"sum_bytes=strsplit(Sum,8);\n",
"cmp=bitcmp(sum_dec,16);\n",
"Checksum=dec2bin(cmp,16); // checksum \n",
"Checksum_bytes=strsplit(Checksum,8);\n",
"\n",
"// display the result\n",
"printf('      8 & 0 :- %s %s\n          0 :- %s %s\n          %d :- %s %s\n          %d :- %s %s\n      T & E :- %s %s\n      S & T :- %s %s\n      Sum   :- %s %s\n   Checksum :- %s %s',word1a,word1b,word2a,word2b,identifier,word3a,word3b,sequence_number,word4a,word4b,word5a,word5b,word6a,word6b,sum_bytes(1),sum_bytes(2),Checksum_bytes(1),Checksum_bytes(2));\n",
"printf('\n\nThe message is divided into 16-bit (2-byte) words. The words are added and the sum is complemented.\nNow the sender can put this value in the checksum field.');"
   ]
   }
,
{
		   "cell_type": "markdown",
		   "metadata": {},
		   "source": [
			"## Example 21.3: ping_program.sce"
		   ]
		  },
  {
"cell_type": "code",
	   "execution_count": null,
	   "metadata": {
	    "collapsed": true
	   },
	   "outputs": [],
"source": [
"clear;\n",
"clc;\n",
"disp('--------------Example 21.3---------------')\n",
"// display the example\n",
"printf('We use the ping program to test the server fhda.edu. The result is shown below:\n$ ping thda.edu\nPING thda.edu (153.18.8.1) 56 (84) bytes of data.\n64 bytes from tiptoe.fhda.edu (153.18.8.1): icmp_seq=O  ttl=62 time=1.91 ms\n64 bytes from tiptoe.fhda.edu (153.18.8.1): icmp_seq=1  ttl=62 time=2.04 ms\n64 bytes from tiptoe.fhda.edu (153.18.8.1): icmp_seq=2  ttl=62 time=1.90 ms\n64 bytes from tiptoe.fhda.edu (153.18.8.1): icmp_seq=3  ttl=62 time=1.97 ms\n64 bytes from tiptoe.fhda.edu (153.18.8.1): icmp_seq=4  ttl=62 time=1.93 ms\n64 bytes from tiptoe.fhda.edu (153.18.8.1): icmp_seq=5  ttl=62 time=2.00 ms\n64 bytes from tiptoe.fhda.edu (153.18.8.1): icmp_seq=6  ttl=62 time=1.94 ms\n64 bytes from tiptoe.fhda.edu (153.18.8.1): icmp_seq=7  ttl=62 time=1.94 ms\n64 bytes from tiptoe.fhda.edu (153.18.8.1): icmp_seq=8  ttl=62 time=1.97 ms\n64 bytes from tiptoe.fhda.edu (153.18.8.1): icmp_seq=9  ttl=62 time=1.89 ms\n64 bytes from tiptoe.fhda.edu (153.18.8.1): icmp_seq=10 ttl=62 time=1.98 ms\n\n--- thda.edu ping statistics ---\n11 packets transmitted, 11 received, 0%s packet loss, time 10103ms\n   rttminJavg/max = 1.899/1.955/2.041 ms','%');\n",
"printf('\n\nThe ping program sends messages with sequence numbers starting from 0. For each probe it gives us the RTT time.\nThe TTL (time to live) field in the IP datagram that encapsulates an ICMP message has been set to 62,\nwhich means the packet cannot travel mare than 62 hops. At the beginning, ping defines the number of data bytes as 56\nand the total number of bytes as 84. It is obvious that if we add 8 bytes of ICMP header and 20 bytes of IP header to 56, the result is 84.\nHowever, in each probe ping defines the number of bytes as 64. This is the total number of bytes in the ICMP packet (56 + 8).\nThe ping program continues to send messages, if we do not stop it by using the interrupt key . After it is interrupted,\nit prints the statistics of the probes. It tells us the number of packets sent, the number of packets received, the total time,\nand the RTT minimum, maximum, and average. Some systems may print more information.')"
   ]
   }
,
{
		   "cell_type": "markdown",
		   "metadata": {},
		   "source": [
			"## Example 21.4: trace_route_program.sce"
		   ]
		  },
  {
"cell_type": "code",
	   "execution_count": null,
	   "metadata": {
	    "collapsed": true
	   },
	   "outputs": [],
"source": [
"clear;\n",
"clc;\n",
"disp('--------------Example 21.4---------------')\n",
"// display the example\n",
"printf('The traceroute program is used to find the route from the computer voyager.deanza.edu to the server fhda.edu.\nThe following shows the result:\n\n');\n",
"printf('$ traceroute fbda.edu\ntraceroute to fbda.edu  (153.18.8.1),30 hops max, 38 byte packets\n1 Dcore.fhda.edu    (153.18.31.254)  0.995 ms  0.899 ms  0.878 ms\n2 Dbackup.fhda.edu  (153.18.251.4)   1.039 ms  1.064 ms  1.083 ms\n3 tiptoe.fhda.edu   (153.18.8.1)     1.797 ms  1.642 ms  1.757 ms\n\n');\n",
"printf('The unnumbered line after the command shows that the destination is 153.18.8.1. The TTL value is 30 hops.\nThe packet contains 38 bytes: 20 bytes of IP header, 8 bytes of UDP header, and 10 bytes of application data.\nThe application data are used by traceroute to keep track of the packets.\n\n');\n",
"printf('The first line shows the first router visited. The router is named Dcore.fhda.edu with IP address 153.18.31.254.\nThe first round-trip time was 0.995 ms, the second was 0.899 ms, and the third was 0.878 ms.\n\n');\n",
"printf('The second line shows the second router visited. The router is named Dbackup.fhda.edu with IP address 153.18.251.4.\nThe three round-trip times are also shown.\n\n');\n",
"printf('The third line shows the destination host. This is the destination host because there are no more lines.\nThe destination host is the server thda.edu, but it is named tiptoe.fhda.edu with the IP address 153.18.8.1.\nThe three round-trip times are also shown.')"
   ]
   }
,
{
		   "cell_type": "markdown",
		   "metadata": {},
		   "source": [
			"## Example 21.5: trace_longer_route.sce"
		   ]
		  },
  {
"cell_type": "code",
	   "execution_count": null,
	   "metadata": {
	    "collapsed": true
	   },
	   "outputs": [],
"source": [
"clear;\n",
"clc;\n",
"disp('--------------Example 21.5---------------')\n",
"// display the example\n",
"printf('In this example, we trace a longer route, the route to xerox.com.\n\n');\n",
"printf('$ traceroute xerox.com\ntraceroute to xerox.com (13.1.64.93), 30 hops max, 38 byte packets\n1 Dcore.fbda.edu (153.18.31.254)  0.622 ms  0.891 ms  0.875 ms\n2 Ddmz.fbda.edu  (153.18.251.40)  2.132 ms  2.266 ms  2.094ms\n3 Cinic.fhda.edu (153.18.253.126) 2.110 ms  2.145 ms  1.763 ms\n4 cenic.net      (137.164.32.140) 3.069 ms  2.875 ms  2.930ms\n5 cenic.net      (137.164.22.31)  4.205 ms  4.870 ms  4.197 ms\n');\n",
"printf('     ...             ...              ...        ...       ...\n');\n",
"printf('14 snfc21.pbi.net  (151.164.191.49)  7.656 ms  7.129 ms  6.866ms\n15 sbcglobaLnet    (151.164.243.58)  7.844 ms  7.545 ms  7.353 ms\n16 pacbell.net     (209.232.138.114) 9.857 ms  9.535 ms  9.603 ms\n17 209.233.48.223  (209.233.48.223)  10.634 ms10.771 ms  10.592 ms\n18 alpha.Xerox.COM (13.1.64.93)      11.172 ms 11.048 ms 10.922ms\n\n');\n",
"printf('There are 17 hops between source and destination. Some round-trip times look unusual.\nIt could be that a router was too busy to process the packet immediately.')\n",
"\n",
""
   ]
   }
,
{
		   "cell_type": "markdown",
		   "metadata": {},
		   "source": [
			"## Example 21.6: report_messages_sequence.sce"
		   ]
		  },
  {
"cell_type": "code",
	   "execution_count": null,
	   "metadata": {
	    "collapsed": true
	   },
	   "outputs": [],
"source": [
"clear;\n",
"clc;\n",
"disp('--------------Example 21.6----------------')\n",
"// display the sequence of report messages.\n",
"printf('The events occur in this sequence:\n\na. Time 12: The timer for 228.42.0.0 in host A expires, and a membership report is sent,\nwhich is received by the router and every host including host B which cancels its timer\nfor 228.42.0.0.\n\nb. Time 30: The timer for 225.14.0.0 in host A expires, and a membership report is sent,\nwhich is received by the router and every host including host C which cancels its timer\nfor 225.14.0.0.\n\nc. Time 50: The timer for 238.71.0.0 in host B expires, and a membership report is sent,\nwhich is received by the router and every host.\n\nd. Time 70: The timer for 230.43.0.0 in host C expires, and a membership report is sent,\nwhich is received by the router and every host including host A which cancels its timer\nfor 230.43.0.0.')"
   ]
   }
,
{
		   "cell_type": "markdown",
		   "metadata": {},
		   "source": [
			"## Example 21.7: Ethernet_multicast_physical_address.sce"
		   ]
		  },
  {
"cell_type": "code",
	   "execution_count": null,
	   "metadata": {
	    "collapsed": true
	   },
	   "outputs": [],
"source": [
"clear;\n",
"clc;\n",
"disp('--------------Example 21.7----------------')\n",
"// multicast IP address 230.43.14.7\n",
"multicast_IP_address=dec2bin(230,5)+dec2bin(43,7)+dec2bin(14,7)+dec2bin(7,7); \n",
"s=strsplit(multicast_IP_address,length(multicast_IP_address)-23);\n",
"b=strsplit(s(2),[9 16]);\n",
"starting_Ethernet_addr = '01:00:5E'; // 01:00:5E:00:00:00\n",
"Ethernet_multicast_addr=starting_Ethernet_addr;\n",
"\n",
"function[Ethernet_multicast_addr] = ethernet_address(b) // function to form Ethernet multicast physical address\n",
"    for i=1:3\n",
"        d=bin2dec(b(i));\n",
"        h(i)=dec2hex(d);  // rightmost 23 bits of the IP address in hexadecimal\n",
"        \n",
"    end\n",
"    \n",
"    hs=strsplit(h(1));\n",
"    if(hex2dec(hs(1)) > = 8)   //subtract 8 from the leftmost digit if it is greater than or equal to 8\n",
"        hs(1)=dec2hex(hex2dec(hs(1))-8);\n",
"    end\n",
"    h(1)=hs(2)+hs(3);\n",
"    for i=1:6   // add these hexadecimal digits to the starting Ethernet multicast address, which is 01:00:5E:00:00:00\n",
"        if(modulo(i,2) == 0)\n",
"            if(length(h(i/2))==2)\n",
"                Ethernet_multicast_addr=Ethernet_multicast_addr+h(i/2);\n",
"            else\n",
"                Ethernet_multicast_addr=Ethernet_multicast_addr+'0'+h(i/2);\n",
"            end\n",
"\n",
"        else\n",
"            Ethernet_multicast_addr=Ethernet_multicast_addr+':';\n",
"        end\n",
"    end\n",
"endfunction\n",
"\n",
"Ethernet_multicast_addr=ethernet_address(b);\n",
"printf('The Ethernet multicast physical address is %s.',Ethernet_multicast_addr); // display result"
   ]
   }
,
{
		   "cell_type": "markdown",
		   "metadata": {},
		   "source": [
			"## Example 21.8: Ethernet_multicast_address.sce"
		   ]
		  },
  {
"cell_type": "code",
	   "execution_count": null,
	   "metadata": {
	    "collapsed": true
	   },
	   "outputs": [],
"source": [
"clear;\n",
"clc;\n",
"disp('--------------Example 21.8----------------')\n",
"// multicast IP address 238.212.24.9\n",
"multicast_IP_address=dec2bin(238,5)+dec2bin(212,7)+dec2bin(24,7)+dec2bin(9,7); \n",
"s=strsplit(multicast_IP_address,length(multicast_IP_address)-23);\n",
"b=strsplit(s(2),[9 16]);\n",
"starting_Ethernet_addr = '01:00:5E'; // 01:00:5E:00:00:00\n",
"Ethernet_multicast_addr=starting_Ethernet_addr;\n",
"\n",
"function[Ethernet_multicast_addr] = ethernet_address(b) // function to form Ethernet multicast physical address\n",
"    for i=1:3\n",
"        d=bin2dec(b(i));\n",
"        h(i)=dec2hex(d);  // rightmost 23 bits of the IP address in hexadecimal\n",
"        \n",
"    end\n",
"    \n",
"    hs=strsplit(h(1));\n",
"    if(hex2dec(hs(1)) > = 8)   //subtract 8 from the leftmost digit if it is greater than or equal to 8\n",
"        hs(1)=dec2hex(hex2dec(hs(1))-8);\n",
"    end\n",
"    h(1)=hs(1)+hs(2);\n",
"    for i=1:6   // add these hexadecimal digits to the starting Ethernet multicast address, which is 01:00:5E:00:00:00\n",
"        if(modulo(i,2) == 0)\n",
"            if(length(h(i/2))==2)\n",
"                Ethernet_multicast_addr=Ethernet_multicast_addr+h(i/2);\n",
"            else\n",
"                Ethernet_multicast_addr=Ethernet_multicast_addr+'0'+h(i/2);\n",
"            end\n",
"\n",
"        else\n",
"            Ethernet_multicast_addr=Ethernet_multicast_addr+':';\n",
"        end\n",
"    end\n",
"endfunction\n",
"\n",
"Ethernet_multicast_addr=ethernet_address(b);\n",
"printf('The Ethernet multicast physical address is %s.',Ethernet_multicast_addr);  // display result"
   ]
   }
,
{
		   "cell_type": "markdown",
		   "metadata": {},
		   "source": [
			"## Example 21.9: netstat_nra.sce"
		   ]
		  },
  {
"cell_type": "code",
	   "execution_count": null,
	   "metadata": {
	    "collapsed": true
	   },
	   "outputs": [],
"source": [
"clear;\n",
"clc;\n",
"disp('--------------Example 21.9---------------')\n",
"// display the example\n",
"printf('We use netstat with three options: -n, -r, and -a. The -n option gives the numeric versions of IP\naddresses, the -r option gives the routing table, and the -a option gives all addresses (unicast and\nmulticast). Gateway defines the router, Iface defines the interface.\n\n');\n",
"printf('$ netstat  -nra\nKernel IP routing table\nDestination    Gateway          Mask         Flags   Iface\n153.18.16.0   0.0.0.0          255.255.240.0  U      eth0\n169.254.0.0   0.0.0.0          255.255.0.0    U      eth0\n127.0.0.0     0.0.0.0          255.0.0.0      U      lo\n224.0.0.0     0.0.0.0          224.0.0.0      U      eth0\n0.0.0.0       153.18.31.254    0.0.0.0        UG     eth0\n\n');\n",
"printf('Any packet with a multicast address from 224.0.0.0 to 239.255.255.255 is masked and delivered to the Ethernet interface.')\n",
"\n",
"\n",
"\n",
"\n",
""
   ]
   }
],
"metadata": {
		  "kernelspec": {
		   "display_name": "Scilab",
		   "language": "scilab",
		   "name": "scilab"
		  },
		  "language_info": {
		   "file_extension": ".sce",
		   "help_links": [
			{
			 "text": "MetaKernel Magics",
			 "url": "https://github.com/calysto/metakernel/blob/master/metakernel/magics/README.md"
			}
		   ],
		   "mimetype": "text/x-octave",
		   "name": "scilab",
		   "version": "0.7.1"
		  }
		 },
		 "nbformat": 4,
		 "nbformat_minor": 0
}
