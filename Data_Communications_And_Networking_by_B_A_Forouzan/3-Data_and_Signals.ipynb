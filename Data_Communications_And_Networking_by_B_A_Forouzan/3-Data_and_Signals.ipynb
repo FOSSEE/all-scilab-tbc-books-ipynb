{
"cells": [
 {
		   "cell_type": "markdown",
	   "metadata": {},
	   "source": [
       "# Chapter 3: Data and Signals"
	   ]
	},
{
		   "cell_type": "markdown",
		   "metadata": {},
		   "source": [
			"## Example 3.10: Bandwidth_spectrum.sce"
		   ]
		  },
  {
"cell_type": "code",
	   "execution_count": null,
	   "metadata": {
	    "collapsed": true
	   },
	   "outputs": [],
"source": [
"clear;\n",
"clc;\n",
"disp('--------------Example 3.10---------------')\n",
"fl=100;  //lowest frequency in Hz\n",
"fh=900;  //highest frequency in Hz\n",
"B=fh-fl; // formula to calculate bandwidth \n",
"n=5; // nymber of sine waves\n",
"dif_f=(fh+fl)/n; // difference between each spike\n",
"f=[]; // spikes\n",
"for i=0:4\n",
"    f(i+1)=i*dif_f+fl; // formula\n",
"end\n",
"printf('The bandawidth = %d Hz\n',B); // display the result\n",
"printf('The spectrum has only %d spikes, at %d, %d, %d, %d and %d Hz.',n,f(1),f(2),f(3),f(4),f(5));\n",
"clf();\n",
"xname('--------------Example 3.10----------------');\n",
"// display the figure\n",
"xarrows([.1 1.1],[.2 .2],.5);\n",
"xarrows([.1 .1],[.2 .9],.5);\n",
"xset('font size',5);\n",
"xstring(.1,.9,'Amplitude'); // y axis\n",
"xstring(1.03,.1,'Frequency'); // x axis\n",
"xset('font size',4);\n",
"xstring(.2,.14,'100');\n",
"xstring(.4,.14,'300');\n",
"xstring(.6,.14,'500');\n",
"xstring(.8,.14,'700');\n",
"xstring(1,.14,'900');\n",
"xpoly([.2 .2],[.2 .5]);\n",
"xpoly([.4 .4],[.2 .5]);\n",
"xpoly([.6 .6],[.2 .5]);\n",
"xpoly([.8 .8],[.2 .5]);\n",
"xpoly([1 1],[.2 .5]);\n",
"xpoly([.2 1],[.1 .1]);\n",
"xpoly([.2 .2],[.08 .12]);\n",
"xpoly([1 1],[.08 .12]);\n",
"xstring(0.05,.5,'10 V');\n",
"xset('line style',2);\n",
"xpoly([.1 .2],[.5 .5],'lines');\n",
"xstring(.5,.05,'Bandwidth = 900-100 = 800 Hz');"
   ]
   }
,
{
		   "cell_type": "markdown",
		   "metadata": {},
		   "source": [
			"## Example 3.11: Bandwidth_spectrum_2.sce"
		   ]
		  },
  {
"cell_type": "code",
	   "execution_count": null,
	   "metadata": {
	    "collapsed": true
	   },
	   "outputs": [],
"source": [
"clear;\n",
"clc;\n",
"disp('--------------Example 3.11---------------')\n",
"B=20;  //bandwidth in Hz\n",
"fh=60;  //highest frequency in Hz\n",
"fl=fh-B; // formula to calculate lowest frequency \n",
"printf('The lowest frequency = %d Hz\nThe spectrum contains all integer frequencies which is shown as a series of spikes in the figure.',fl); // display the result\n",
"clf();\n",
"xname('--------------Example 3.11----------------');\n",
"xarrows([.1 .9],[.2 .2],.5);\n",
"xset('font size',5);\n",
"xstring(.92,.1,'Frequency(Hz)');\n",
"xset('thickness',2);\n",
"x=linspace(.2,.8,21);\n",
"for i=1:21\n",
"    xpoly([x(i) x(i)],[.2 .5]);\n",
"end\n",
"xset('font size',3);\n",
"for i=1:21\n",
"    s=40+i-1;\n",
"    xstring(x(i),.17,string(s));\n",
"end\n",
"xpoly([.2 .8],[.1 .1]);\n",
"xpoly([.2 .2],[.08 .12]);\n",
"xpoly([.8 .8],[.08 .12]);\n",
"xstring(.4,.1,'Bandwidth = 60-40 = 20 Hz');"
   ]
   }
,
{
		   "cell_type": "markdown",
		   "metadata": {},
		   "source": [
			"## Example 3.12: Frequency_domain_of_signal.sce"
		   ]
		  },
  {
"cell_type": "code",
	   "execution_count": null,
	   "metadata": {
	    "collapsed": true
	   },
	   "outputs": [],
"source": [
"clear;\n",
"clc;\n",
"disp('--------------Example 3.12----------------');\n",
"B=200; // kHz\n",
"mf=140; // kHz - middle frequency\n",
"fh=(2*mf+B)/2; // formula for higher frequency\n",
"fl=fh-B; // formula for lower frequency\n",
"printf('The lowest frequency is %d kHz and highest frequency is %d kHz.',fl,fh);// display the result\n",
"//display the figure\n",
"clf();\n",
"xname('--------------Example 3.12----------------');\n",
"xarrows([.2 1],[.2 .2],.5);\n",
"xarrows([.2 .2],[.2 1],.5);\n",
"xpoly([.3 .55],[.2 .6]);\n",
"xpoly([.55 .8],[.6 .2]);\n",
"xset('line style',2);\n",
"xpoly([.55 .2],[.6 .6],'lines');\n",
"xset('font size',5);\n",
"xstring(.1,1,'Amplitude'); // y axis\n",
"xstring(1,.1,'Frequency'); // x axis\n",
"xstring(0.14,.6,'20 V');\n",
"xset('font size',4);\n",
"xstring(.3,.14,'40 kHz');\n",
"xstring(.8,.14,'240 kHz');\n",
"xstring(.53,.14,'140 kHz');"
   ]
   }
,
{
		   "cell_type": "markdown",
		   "metadata": {},
		   "source": [
			"## Example 3.13: AM_Radio_Bandwidth.sce"
		   ]
		  },
  {
"cell_type": "code",
	   "execution_count": null,
	   "metadata": {
	    "collapsed": true
	   },
	   "outputs": [],
"source": [
"clear;\n",
"clc;\n",
"disp('--------------Example 3.13---------------')\n",
"printf('An example of a nonperiodic composite signal is the signal propagated by an AM radio station.\nIn the United States, each AM radio station is assigned a 10-kHz band width.\nThe total bandwidth dedicated to AM radio ranges from 530 to 1700 kHz.')   // display the example"
   ]
   }
,
{
		   "cell_type": "markdown",
		   "metadata": {},
		   "source": [
			"## Example 3.14: FM_Radio_Bandwidth.sce"
		   ]
		  },
  {
"cell_type": "code",
	   "execution_count": null,
	   "metadata": {
	    "collapsed": true
	   },
	   "outputs": [],
"source": [
"clear;\n",
"clc;\n",
"disp('--------------Example 3.14---------------')\n",
"printf('Another example of a nonperiodic composite signal is the signal propagated by an FM radio station.\nIn the United States, each FM radio station is assigned a 200-kHz bandwidth.\nThe total bandwidth dedicated to FM radio ranges from 88 to 108 MHz.')   // display the example"
   ]
   }
,
{
		   "cell_type": "markdown",
		   "metadata": {},
		   "source": [
			"## Example 3.15: Black_and_white_TV.sce"
		   ]
		  },
  {
"cell_type": "code",
	   "execution_count": null,
	   "metadata": {
	    "collapsed": true
	   },
	   "outputs": [],
"source": [
"clear;\n",
"clc;\n",
"disp('--------------Example 3.15---------------')\n",
"printf('Another example of a nonperiodic composite signal is the signal received by an old-fashioned analog black-and-white TV.\n');\n",
"s=30; // screen is scanned 30 times per second\n",
"//screen resolution = 525 x 700\n",
"vl=525; \n",
"hl=700;\n",
"pixels=vl*hl; // total number of pixels\n",
"pixels_per_second=pixels*s; // pixels scanned per second \n",
"cycles_per_second=pixels_per_second/2; // 2 pixels per cycle in the worst-case scenario i.e alternating black and white pixels\n",
"bandwidth = cycles_per_second*10^-6;\n",
"b7=bandwidth*0.7; // 70% of the bandwidth \n",
"final =ceil(b7); // final rounded bandwidth\n",
"// display the result\n",
"printf('The bandwidth needed in the worst-case scenario i.e alternating black and white pixels where we need to represent \none color by the minimum amplitude and the other color by the maximum amplitude is %5.4f MHz.\n\n',bandwidth);\n",
"printf('This worst-case scenario has such a low probability of occurrence that the assumption is that we need only 70 percent\nof this bandwidth, which is %3.2f MHz. Since audio and synchronization signals are also needed, a %d MHz bandwidth\nhas been set aside for each black and white TV channel.\nAn analog color TV channel has a 6-MHz bandwidth.',b7,final);\n",
""
   ]
   }
,
{
		   "cell_type": "markdown",
		   "metadata": {},
		   "source": [
			"## Example 3.16: Bits_per_level.sce"
		   ]
		  },
  {
"cell_type": "code",
	   "execution_count": null,
	   "metadata": {
	    "collapsed": true
	   },
	   "outputs": [],
"source": [
"clear;\n",
"clc;\n",
"disp('--------------Example 3.16---------------')\n",
"L=8; // number of levels\n",
"bits_per_level=log2(L); // formula to calculate number of bits per level\n",
"printf('The number of bits per level is %d bits.',bits_per_level); // display the result"
   ]
   }
,
{
		   "cell_type": "markdown",
		   "metadata": {},
		   "source": [
			"## Example 3.17: Bits_per_level_2.sce"
		   ]
		  },
  {
"cell_type": "code",
	   "execution_count": null,
	   "metadata": {
	    "collapsed": true
	   },
	   "outputs": [],
"source": [
"clear;\n",
"clc;\n",
"disp('--------------Example 3.17---------------')\n",
"L=9; // number of levels\n",
"bits_per_level=log2(L); // formula to calculate number of bits per level\n",
"printf('The number of bits per level is %3.2f bits.\n',bits_per_level);\n",
"if(~(bits_per_level/10 == 0))  // if the number of bits is not an integer or power of 2\n",
"    printf('This answer is not realistic. The number of bits sent per level needs to be an integer as well as a power of 2.\n');\n",
"    r=nextpow2(bits_per_level);   // find nearesr power of 2\n",
"    bits=2^r;\n",
"    printf('Therefore %d bits can represent one level.',bits); // display result\n",
"end\n",
""
   ]
   }
,
{
		   "cell_type": "markdown",
		   "metadata": {},
		   "source": [
			"## Example 3.18: Download_text_document.sce"
		   ]
		  },
  {
"cell_type": "code",
	   "execution_count": null,
	   "metadata": {
	    "collapsed": true
	   },
	   "outputs": [],
"source": [
"clear;\n",
"clc;\n",
"disp('--------------Example 3.18---------------')\n",
"num_line=24; // number of lines\n",
"num_char=80; // number of characters in each line\n",
"bits=8; // bits per character\n",
"rate = 100; // pages per minute\n",
"br=rate*bits*num_char*num_line;  // formula to calculate bit rate\n",
"bit_rate=br*10^-6; // multiply with conversion factor\n",
"printf('The bit rate of the channel is %4.3f Mbps.',bit_rate);  // display the result (answer in the text is 1.636 Mbps,which is wrong)\n",
" "
   ]
   }
,
{
		   "cell_type": "markdown",
		   "metadata": {},
		   "source": [
			"## Example 3.19: Bitrate_calculatio.sce"
		   ]
		  },
  {
"cell_type": "code",
	   "execution_count": null,
	   "metadata": {
	    "collapsed": true
	   },
	   "outputs": [],
"source": [
"clear;\n",
"clc;\n",
"disp('--------------Example 3.19---------------')\n",
"bandwidth=4000; // 4 kHz\n",
"bits =8; // bits per sample\n",
"br=2*bandwidth*bits; // formula to calculate bit rate\n",
"bit_rate=br*10^-3;  //multiply with conversion factor\n",
"printf('The bit rate of the channel is %d kbps.',bit_rate); //display result"
   ]
   }
,
{
		   "cell_type": "markdown",
		   "metadata": {},
		   "source": [
			"## Example 3.1: Power_in_houses.sce"
		   ]
		  },
  {
"cell_type": "code",
	   "execution_count": null,
	   "metadata": {
	    "collapsed": true
	   },
	   "outputs": [],
"source": [
"clear;\n",
"clc;\n",
"disp('--------------Example 3.1----------------')\n",
"printf('The power in our house can be represented by a sine wave with a peak amplitude of 155 to 170 V.\nHowever, it is common knowledge that the voltage of the power in U.S. homes is 110 to 120 V.');"
   ]
   }
,
{
		   "cell_type": "markdown",
		   "metadata": {},
		   "source": [
			"## Example 3.20: HDTV_bitrate.sce"
		   ]
		  },
  {
"cell_type": "code",
	   "execution_count": null,
	   "metadata": {
	    "collapsed": true
	   },
	   "outputs": [],
"source": [
"clear;\n",
"clc;\n",
"disp('--------------Example 3.20---------------')\n",
"rate=30 ; // screen is refreshed 30 times per second\n",
" // screen resolution = 1920x1080\n",
"vl = 1920; \n",
"hl = 1080;\n",
"bits_per_pixel=24; // bits to represent one color pixel\n",
"br=vl*hl*rate*bits_per_pixel; // formula to calculate bit rate\n",
"bit_rate=br*10^-9;  // multiply with conversion factor\n",
"printf('The bit rate of HDTV is %2.1f Gbps.',bit_rate); // display the result"
   ]
   }
,
{
		   "cell_type": "markdown",
		   "metadata": {},
		   "source": [
			"## Example 3.21: LAN.sce"
		   ]
		  },
  {
"cell_type": "code",
	   "execution_count": null,
	   "metadata": {
	    "collapsed": true
	   },
	   "outputs": [],
"source": [
"clear;\n",
"clc;\n",
"disp('--------------Example 3.21---------------')\n",
"printf('An example of a dedicated channel where the entire bandwidth of the medium is used as one single channel is a LAN.\nAlmost every wired LAN today uses a dedicated channel for two stations communicating with each other.\nIn a bus topology LAN with multipoint connections, only two stations can communicate with each other at each moment\nin time (timesharing); the other stations need to refrain from sending data. In a star topology LAN,\nthe entire channel between each station and the hub is used for communication between these two entities.');  // display the example "
   ]
   }
,
{
		   "cell_type": "markdown",
		   "metadata": {},
		   "source": [
			"## Example 3.22: Base_band_transmission.sce"
		   ]
		  },
  {
"cell_type": "code",
	   "execution_count": null,
	   "metadata": {
	    "collapsed": true
	   },
	   "outputs": [],
"source": [
"clear;\n",
"clc;\n",
"disp('--------------Example 3.22---------------')\n",
"bit_rate=10^6; // 1 Mbps\n",
"//a) rough approximation\n",
"mb=bit_rate/2; // formula to caluculate bandwidth \n",
"min_bandwidth=mb*10^-3; //multiply with conversion factor\n",
"printf('\n a) The minimum bandwidth is %d kHz.',min_bandwidth); // display result\n",
"printf('\n    A low-pass channel with frequencies between 0 and %d kHz is required.\n\n',min_bandwidth);\n",
"//b) using the first and the third harmonics\n",
"bw = 3*mb;  // formula to caluculate bandwidth \n",
"bandwidth=bw * 10^-6; //multiply with conversion factor\n",
"printf(' b) The required bandwidth is %2.1f MHz.',bandwidth); // display result\n",
"printf('\n  Hence a better result can be achieved by using the first and the third harmonics.\n\n');\n",
"//c) using the first, third, and fifth harmonics\n",
"bw = 5*mb;  // formula to caluculate bandwidth \n",
"bandwidth = bw*10^-6; //multiply with conversion factor\n",
"printf(' c) The required bandwidth is %2.1f MHz.',bandwidth);  // display result\n",
"printf('\n  Hence a still better result can be achieved by using the first, third and the fifth harmonics.\n\n');"
   ]
   }
,
{
		   "cell_type": "markdown",
		   "metadata": {},
		   "source": [
			"## Example 3.23: Maximum_bitrate_calculatio.sce"
		   ]
		  },
  {
"cell_type": "code",
	   "execution_count": null,
	   "metadata": {
	    "collapsed": true
	   },
	   "outputs": [],
"source": [
"clear;\n",
"clc;\n",
"disp('--------------Example 3.23---------------')\n",
"bandwidth = 100; // 100 kHz\n",
"max_bitrate= 2* bandwidth ; // max bitrate is achieved by using the 1st harmonic\n",
"printf('The maximum bit rate is %d kbps.',max_bitrate); // display the result"
   ]
   }
,
{
		   "cell_type": "markdown",
		   "metadata": {},
		   "source": [
			"## Example 3.24: Broadband_transmission_example.sce"
		   ]
		  },
  {
"cell_type": "code",
	   "execution_count": null,
	   "metadata": {
	    "collapsed": true
	   },
	   "outputs": [],
"source": [
"clear;\n",
"clc;\n",
"disp('--------------Example 3.24---------------')\n",
"printf('An example of broadband transmission using modulation is the sending of computer data through a telephone subscriber line,\nthe line connecting a resident to the central telephone office. These lines, installed many years ago,are designed to\ncarry voice (analog signal) with a limited bandwidth(frequencies between 0 and 4 kHz).\nAlthough this channel can be used as a low-pass channel,it is normally considered a bandpass channel. One reason is that\nthe bandwidth is so narrow(4 kHz) that if we treat the channel as low-pass and use it for baseband transmission, the maximum\nbit rate can be only 8 kbps. The solution is to consider the channel a bandpass channel, convert the digital signal from the\ncomputer to an analog signal, and send the analog signal.\nWe can install two converters to change the digital signal to analog and vice versa at the receiving end.\nThe converter,in this case, is called a modem (modulator/demodulator).'); // display the example"
   ]
   }
,
{
		   "cell_type": "markdown",
		   "metadata": {},
		   "source": [
			"## Example 3.25: Digital_cellular_telephone.sce"
		   ]
		  },
  {
"cell_type": "code",
	   "execution_count": null,
	   "metadata": {
	    "collapsed": true
	   },
	   "outputs": [],
"source": [
"clear;\n",
"clc;\n",
"disp('--------------Example 3.25---------------')\n",
"printf('Another example of broadband transmission is the digital cellular telephone. For better reception, digital cellular phones convert the analog\nvoice signal to a digital signal.Although the bandwidth allocated to a company providing digital cellular phone service is very wide,\nwe still cannot send the digital signal without conversion. The reason is that we only have a bandpass channel available between caller and callee.\nFor example, if the available bandwidth is W and we allow 1000 couples to talk simultaneously, this means the available channel is W/1000,\njust part of the entire bandwidth. We need to convert the digitized voice to a composite analog signal before sending.\nThe digital cellular phones convert the analog audio signal to digital and then convert it again to analog for transmission over\na bandpass channel.'); //display the example"
   ]
   }
,
{
		   "cell_type": "markdown",
		   "metadata": {},
		   "source": [
			"## Example 3.26: Attenuation_calculation.sce"
		   ]
		  },
  {
"cell_type": "code",
	   "execution_count": null,
	   "metadata": {
	    "collapsed": true
	   },
	   "outputs": [],
"source": [
"clear;\n",
"clc;\n",
"disp('--------------Example 3.26---------------')\n",
"ratio=0.5; // power of signal after attenuation/initial power of signal = p2/p1\n",
"at=10*log10(ratio);  // formula to calculate attenuation or loss of power\n",
"printf('The attenuation is %d dB.\nA loss of %d dB (%d dB) is equivalent to losing one-half the power.',at,-at,at); // display result"
   ]
   }
,
{
		   "cell_type": "markdown",
		   "metadata": {},
		   "source": [
			"## Example 3.27: Amplification_calculation.sce"
		   ]
		  },
  {
"cell_type": "code",
	   "execution_count": null,
	   "metadata": {
	    "collapsed": true
	   },
	   "outputs": [],
"source": [
"clear;\n",
"clc;\n",
"disp('--------------Example 3.27---------------')\n",
"ratio=10; // power of signal after amplification/initial power of signal = p2/p1\n",
"amp=10*log10(ratio);  // formula to calculate amplification or gain of power\n",
"printf('The amplification is %d dB.',amp); // display result"
   ]
   }
,
{
		   "cell_type": "markdown",
		   "metadata": {},
		   "source": [
			"## Example 3.28: Resultant_decibel_calculation.sce"
		   ]
		  },
  {
"cell_type": "code",
	   "execution_count": null,
	   "metadata": {
	    "collapsed": true
	   },
	   "outputs": [],
"source": [
"clear;\n",
"clc;\n",
"disp('--------------Example 3.28---------------')\n",
"dB1=-3; // signal is attenuated\n",
"dB2=7;  // signal is amplified\n",
"dB3=-3; // signal is attenuated\n",
"dB=dB1+dB2+dB3; // add to get final dB \n",
"printf('The final decibel value is +%d dB . Hence the signal has gained in power.',dB); //display result"
   ]
   }
,
{
		   "cell_type": "markdown",
		   "metadata": {},
		   "source": [
			"## Example 3.29: Pm_from_dBm.sce"
		   ]
		  },
  {
"cell_type": "code",
	   "execution_count": null,
	   "metadata": {
	    "collapsed": true
	   },
	   "outputs": [],
"source": [
"clear;\n",
"clc;\n",
"disp('--------------Example 3.29---------------')\n",
"dBm=-30; // dBm = 10*log10 (Pm)\n",
"Pm = 10^(dBm/10); // power in milliwatts\n",
"printf('The power of the signal in milliwatts is %2.1E mW.',Pm); // display result"
   ]
   }
,
{
		   "cell_type": "markdown",
		   "metadata": {},
		   "source": [
			"## Example 3.2: Battery_voltage.sce"
		   ]
		  },
  {
"cell_type": "code",
	   "execution_count": null,
	   "metadata": {
	    "collapsed": true
	   },
	   "outputs": [],
"source": [
"clear;\n",
"clc;\n",
"disp('--------------Example 3.2----------------')\n",
"printf('The voltage of battery is a constant; this constant value can be considered a sine wave .\nFor example, the peak value of an AA battery is normally 1.5 V.')"
   ]
   }
,
{
		   "cell_type": "markdown",
		   "metadata": {},
		   "source": [
			"## Example 3.30: dB_per_km.sce"
		   ]
		  },
  {
"cell_type": "code",
	   "execution_count": null,
	   "metadata": {
	    "collapsed": true
	   },
	   "outputs": [],
"source": [
"clear;\n",
"clc;\n",
"disp('--------------Example 3.30---------------')\n",
"dBpkm= -0.3 ; // dB/km\n",
"p1=2; // 2 mW - initial power\n",
"distance = 5; // 5km\n",
"dB= dBpkm*distance; // loss in the cable in decibel\n",
"ratio=10^(dB/10); // dB=10*log10(ratio)\n",
"p2 = p1*ratio; // ratio = p2/p1\n",
"printf('The power of the signal at 5 km is %2.1f mW.',p2);// display result"
   ]
   }
,
{
		   "cell_type": "markdown",
		   "metadata": {},
		   "source": [
			"## Example 3.31: SNR_and_SNRdB.sce"
		   ]
		  },
  {
"cell_type": "code",
	   "execution_count": null,
	   "metadata": {
	    "collapsed": true
	   },
	   "outputs": [],
"source": [
"clear;\n",
"clc;\n",
"disp('--------------Example 3.31---------------')\n",
"p_signal=10*10^-3; // 10 mW\n",
"p_noise=10^-6; // 1 microW\n",
"SNR = p_signal/p_noise; // SNR = signal power/noise power\n",
"SNRdB=10*log10(SNR); // formula to calculate SNR in dB\n",
"printf('SNR = %d \n\nSNRdB = %d ',SNR,SNRdB); // display result"
   ]
   }
,
{
		   "cell_type": "markdown",
		   "metadata": {},
		   "source": [
			"## Example 3.32: Noiseless_channel_SNR_and_SNRdB.sce"
		   ]
		  },
  {
"cell_type": "code",
	   "execution_count": null,
	   "metadata": {
	    "collapsed": true
	   },
	   "outputs": [],
"source": [
"clear;\n",
"clc;\n",
"disp('--------------Example 3.32---------------')\n",
"//for noiseless channels , noise power =0 \n",
"//SNR = signal power/ 0 = infinity\n",
"//SNRdB = 10*log10(SNR)=10*log10(infinity)=infinity\n",
"printf('The values of SNR and SNRdB for a noiseless channel are both infinity . We can never achieve this ratio in real life; it is an ideal situation.');"
   ]
   }
,
{
		   "cell_type": "markdown",
		   "metadata": {},
		   "source": [
			"## Example 3.33: Nyquist_and_baseband_transmission.sce"
		   ]
		  },
  {
"cell_type": "code",
	   "execution_count": null,
	   "metadata": {
	    "collapsed": true
	   },
	   "outputs": [],
"source": [
"clear;\n",
"clc;\n",
"disp('--------------Example 3.33---------------')\n",
"printf('The Nyquist theorem bit rate and the intuitive bit rate match when there are only two levels.\nIn baseband transmission, the bit rate is 2 times the bandwidth if only the first harmonic is used in the worst case.\nHowever, the Nyquist formula is more general than what we derived intuitively; it can be applied to baseband transmission and modulation.\nAlso, it can be applied when we have two or more levels of signals.') //display the answer"
   ]
   }
,
{
		   "cell_type": "markdown",
		   "metadata": {},
		   "source": [
			"## Example 3.34: Noiseless_channel_bitrate.sce"
		   ]
		  },
  {
"cell_type": "code",
	   "execution_count": null,
	   "metadata": {
	    "collapsed": true
	   },
	   "outputs": [],
"source": [
"clear;\n",
"clc;\n",
"disp('--------------Example 3.34---------------')\n",
"L=2; //number of levels\n",
"bandwidth=3000; // Hz\n",
"max_bitrate=2*bandwidth*log2(L); // formula to calculate maximum bit rate\n",
"printf('The maximum bit rate of the noiseless channel is %d bps.',max_bitrate); //display result"
   ]
   }
,
{
		   "cell_type": "markdown",
		   "metadata": {},
		   "source": [
			"## Example 3.35: Noiseless_channel_bitrate_2.sce"
		   ]
		  },
  {
"cell_type": "code",
	   "execution_count": null,
	   "metadata": {
	    "collapsed": true
	   },
	   "outputs": [],
"source": [
"clear;\n",
"clc;\n",
"disp('--------------Example 3.35---------------')\n",
"L=4; //number of levels\n",
"bandwidth=3000; // Hz\n",
"max_bitrate=2*bandwidth*log2(L); // formula to calculate maximum bit rate\n",
"printf('The maximum bit rate of the noiseless channel is %d bps.',max_bitrate); // display result"
   ]
   }
,
{
		   "cell_type": "markdown",
		   "metadata": {},
		   "source": [
			"## Example 3.36: Noiseless_channel_signal_levels.sce"
		   ]
		  },
  {
"cell_type": "code",
	   "execution_count": null,
	   "metadata": {
	    "collapsed": true
	   },
	   "outputs": [],
"source": [
"clear;\n",
"clc;\n",
"disp('--------------Example 3.36---------------')\n",
"bitrate=265*10^3; // 256 kbps\n",
"bandwidth= 20 * 10^3; // 20 kHz\n",
"L= 2^(bitrate/(2*bandwidth)); // bit rate = 2*bandwidth*log2(L)\n",
"printf('\nThe number of levels is %3.1f .',L);\n",
"c=log2(L);\n",
"if(~(modulo(c,10)==0)) // check correctness of the answer . If not practical , change it.\n",
"    printf('\nSince this result is not a power of 2, we need to either increase the number of levels or reduce the bit rate.');\n",
"    r=floor(bitrate/(2*bandwidth));\n",
"    L=2^r;\n",
"    n_bitrate=2*bandwidth*log2(L);\n",
"    printf('\n\nHence the number of signal levels is %d and bit rate is %d kbps.',L,n_bitrate*10^-3); // display final result\n",
"end"
   ]
   }
,
{
		   "cell_type": "markdown",
		   "metadata": {},
		   "source": [
			"## Example 3.37: C_for_extremely_noisy_channel.sce"
		   ]
		  },
  {
"cell_type": "code",
	   "execution_count": null,
	   "metadata": {
	    "collapsed": true
	   },
	   "outputs": [],
"source": [
"clear;\n",
"clc;\n",
"disp('--------------Example 3.37---------------')\n",
"SNR = 0; //an extremely noisy channel in which the value of the signal-to-noise ratio is almost zero.\n",
"m=log2(1+SNR);\n",
"//display result\n",
"printf('The value of log2(1+SNR) = %d \nHence C = B*log2(1+SNR)= B*0 = %d',m,m);\n",
"printf('\nThis means that the capacity of this channel is zero regardless of the bandwidth. In other words, any data cant be recieved through this channel.')"
   ]
   }
,
{
		   "cell_type": "markdown",
		   "metadata": {},
		   "source": [
			"## Example 3.38: C_for_noisy_channel.sce"
		   ]
		  },
  {
"cell_type": "code",
	   "execution_count": null,
	   "metadata": {
	    "collapsed": true
	   },
	   "outputs": [],
"source": [
"clear;\n",
"clc;\n",
"disp('--------------Example 3.38---------------')\n",
"SNR = 3162;\n",
"B= 3000; // bandwidth in Hz\n",
"t=log2(1+SNR);\n",
"le=floor(t*100)/100; // rounding the log value\n",
"C= B*le;// formula to calculate capacity\n",
"c=C*10^-3; // multiply with conversion factor \n",
"printf('\nThe capacity of the channel is %d bps.',C); //display result\n",
"printf('\nHence the highest bit rate for a telephone line is %5.3f kbps.',c);"
   ]
   }
,
{
		   "cell_type": "markdown",
		   "metadata": {},
		   "source": [
			"## Example 3.39: C_using_SNRdB.sce"
		   ]
		  },
  {
"cell_type": "code",
	   "execution_count": null,
	   "metadata": {
	    "collapsed": true
	   },
	   "outputs": [],
"source": [
"clear;\n",
"clc;\n",
"disp('--------------Example 3.39---------------')\n",
"SNRdB=36;\n",
"B=2*10^6; // bandwidth = 2 MHz\n",
"SNR= 10^(SNRdB/10); // SNRdB= 10*log10(SNR)\n",
"C= B*log2(1+SNR); //formula to calculate capacity\n",
"c=C*10^-6; //multiply the conversion factor \n",
"printf('\nThe theoretical channel capacity is %2.0f Mbps.',c); //display result"
   ]
   }
,
{
		   "cell_type": "markdown",
		   "metadata": {},
		   "source": [
			"## Example 3.3: House_power_period.sce"
		   ]
		  },
  {
"cell_type": "code",
	   "execution_count": null,
	   "metadata": {
	    "collapsed": true
	   },
	   "outputs": [],
"source": [
"clear;\n",
"clc;\n",
"disp('--------------Example 3.3---------------')\n",
"// frequency of power used at home = 60Hz\n",
"f=60\n",
"t=1/f // formula to calculate time period \n",
"T=t*10^3 // express time period in milliseconds\n",
"printf('\n The period of the power for our lights at home is %fs or %fms .',t,T);  //display the result \n",
"disp('Our eyes are not sensitive enough to distinguish these rapid changes in amplitude.')"
   ]
   }
,
{
		   "cell_type": "markdown",
		   "metadata": {},
		   "source": [
			"## Example 3.40: C_formula_simplificatio.sce"
		   ]
		  },
  {
"cell_type": "code",
	   "execution_count": null,
	   "metadata": {
	    "collapsed": true
	   },
	   "outputs": [],
"source": [
"clear;\n",
"clc;\n",
"disp('--------------Example 3.40---------------')\n",
"SNRdB=36;\n",
"B=2; // bandwidth = 2 MHz\n",
"C=B*(SNRdB/3); //when the SNR is very high, we can assume that SNR + 1 is almost the same as SNR\n",
"printf('The theoretical channel capacity is %d Mbps.',C); // display result"
   ]
   }
,
{
		   "cell_type": "markdown",
		   "metadata": {},
		   "source": [
			"## Example 3.41: Shannon_and_Nyquist_formula.sce"
		   ]
		  },
  {
"cell_type": "code",
	   "execution_count": null,
	   "metadata": {
	    "collapsed": true
	   },
	   "outputs": [],
"source": [
"clear;\n",
"clc;\n",
"disp('--------------Example 3.41---------------')\n",
"SNR=63;\n",
"B=10^6; // bandwidth = 1 MHz\n",
"b=4*10^6; // chosen bit rate =4 Mbps\n",
"C= B*log2(1+SNR);  // Shannon's capacity formula\n",
"c=C*10^-6; //multiply with conversion factor\n",
"L=2^(b/(2*B)); // bit rate = 2*bandwidth*log2(L) ; L= number of signal levels\n",
"//display result\n",
"printf('\nThe Shannon formula gives us %d Mbps, the upper limit. For better performance choose something lower, 4 Mbps, for example.',c);\n",
"printf('\n\nThe Nyquist formula gives the number of signal levels as %d .',L);"
   ]
   }
,
{
		   "cell_type": "markdown",
		   "metadata": {},
		   "source": [
			"## Example 3.42: Modulation_using_modem.sce"
		   ]
		  },
  {
"cell_type": "code",
	   "execution_count": null,
	   "metadata": {
	    "collapsed": true
	   },
	   "outputs": [],
"source": [
"clear;\n",
"clc;\n",
"disp('--------------Example 3.42---------------')\n",
"printf('The bandwidth of a subscriber line is 4 kHz for voice or data. The bandwidth of this line for data transmission\ncan be up to 56,000 bps using a sophisticated modem to change the digital signal to analog.') // display the examples"
   ]
   }
,
{
		   "cell_type": "markdown",
		   "metadata": {},
		   "source": [
			"## Example 3.43: Increasing_bandwidth_of_line.sce"
		   ]
		  },
  {
"cell_type": "code",
	   "execution_count": null,
	   "metadata": {
	    "collapsed": true
	   },
	   "outputs": [],
"source": [
"clear;\n",
"clc;\n",
"disp('--------------Example 3.43---------------')\n",
"printf('If the telephone company improves the quality of the line and increases the bandwidth to 8 kHz,\nwe can send 112,000 bps by using the same technology as mentioned in Example 3.42.')// display the example"
   ]
   }
,
{
		   "cell_type": "markdown",
		   "metadata": {},
		   "source": [
			"## Example 3.44: Throughput_of_network.sce"
		   ]
		  },
  {
"cell_type": "code",
	   "execution_count": null,
	   "metadata": {
	    "collapsed": true
	   },
	   "outputs": [],
"source": [
"clear;\n",
"clc;\n",
"disp('--------------Example 3.44---------------')\n",
"bandwidth = 10 ; // 10 MHz\n",
"fpm=12000; //frames per second\n",
"bits=10000; //bits carried by each frame\n",
"throughput=((fpm*bits)/60)*10^-6; //formula for throughput\n",
"frac=bandwidth/throughput;  // ratio of bandwidth to throughput\n",
"printf('The throughput is %d Mbps.\n',throughput);// display result\n",
"printf('The throughput is almost 1/%dth of the bandwidth in this case.',frac);"
   ]
   }
,
{
		   "cell_type": "markdown",
		   "metadata": {},
		   "source": [
			"## Example 3.45: Propagation_time_calculation.sce"
		   ]
		  },
  {
"cell_type": "code",
	   "execution_count": null,
	   "metadata": {
	    "collapsed": true
	   },
	   "outputs": [],
"source": [
"clear;\n",
"clc;\n",
"disp('--------------Example 3.45---------------')\n",
"distance=12000*10^3; // 12000km\n",
"propagation_speed=2.4*10^8; // 2.4*10^8 m/s\n",
"propagation_time=distance/propagation_speed; //formula for propagation time\n",
"propagation_time=propagation_time*10^3; //multiply with conversion factor\n",
"// display result\n",
"printf('\nThe propagation time is %d ms.\n',propagation_time);\n",
"printf('\nThe example shows that a bit can go over the Atlantic Ocean in only %d ms if there is a direct cable between the source and the destination.',propagation_time);"
   ]
   }
,
{
		   "cell_type": "markdown",
		   "metadata": {},
		   "source": [
			"## Example 3.46: Propagation_and_transmission_time.sce"
		   ]
		  },
  {
"cell_type": "code",
	   "execution_count": null,
	   "metadata": {
	    "collapsed": true
	   },
	   "outputs": [],
"source": [
"clear;\n",
"clc;\n",
"disp('--------------Example 3.46---------------')\n",
"message_size=2.5*10^3; //2.5 kbyte\n",
"bandwidth=10^9; // 1Gbps\n",
"propagation_speed=2.4*10^8; //2.4*10^8 m/s\n",
"distance=12000*10^3; // 12,000 km\n",
"propagation_time=distance/propagation_speed; //propagation time formula\n",
"transmission_time=(message_size*8)/bandwidth; //transmission time formula\n",
"// display result\n",
"printf('\nThe propagation time is %d ms.\n',propagation_time*10^3);\n",
"printf('The transmission time is %4.3f ms.\n',transmission_time*10^3);\n",
"printf('\nNote that in this case, because the message is short and the bandwidth is high, the dominant factor is the\npropagation time, not the transmission time. The transmission time can be ignored.')"
   ]
   }
,
{
		   "cell_type": "markdown",
		   "metadata": {},
		   "source": [
			"## Example 3.47: Propagation_and_transmission_time_2.sce"
		   ]
		  },
  {
"cell_type": "code",
	   "execution_count": null,
	   "metadata": {
	    "collapsed": true
	   },
	   "outputs": [],
"source": [
"clear;\n",
"clc;\n",
"disp('--------------Example 3.47---------------')\n",
"message_size=5*10^6; //5 M byte\n",
"bandwidth=10^6; // 1Mbps\n",
"propagation_speed=2.4*10^8; //2.4*10^8 m/s\n",
"distance=12000*10^3; // 12,000 km\n",
"propagation_time=distance/propagation_speed; //propagation time formula\n",
"transmission_time=(message_size*8)/bandwidth; //transmission time formula\n",
"// display result\n",
"printf('\nThe propagation time is %d ms.\n',propagation_time*10^3);\n",
"printf('The transmission time is %d s.\n',transmission_time);\n",
"printf('\nNote that in this case, because the message is very long and the bandwidth is not very high, the dominant factor is\nthe transmission time, not the propagation time. The propagation time can be ignored.')"
   ]
   }
,
{
		   "cell_type": "markdown",
		   "metadata": {},
		   "source": [
			"## Example 3.48: Bandwidth_delay_product.sce"
		   ]
		  },
  {
"cell_type": "code",
	   "execution_count": null,
	   "metadata": {
	    "collapsed": true
	   },
	   "outputs": [],
"source": [
"clear;\n",
"clc;\n",
"disp('--------------Example 3.48---------------')\n",
"printf('Consider the link between two points to be a pipe. The cross section of the pipe represents the bandwidth,\nand the length of the pipe represents the delay. The volume of the pipe defines the bandwidth-delay product.')//display the example"
   ]
   }
,
{
		   "cell_type": "markdown",
		   "metadata": {},
		   "source": [
			"## Example 3.4: Period_in_microseconds.sce"
		   ]
		  },
  {
"cell_type": "code",
	   "execution_count": null,
	   "metadata": {
	    "collapsed": true
	   },
	   "outputs": [],
"source": [
"clear;\n",
"clc;\n",
"disp('--------------Example 3.4--------------')\n",
"// period = 100ms \n",
"T = 100*10^-3*10^6; // multiply with the conversion factor\n",
"printf('The period in microseconds = %2.0E microseconds.',T)// display result in microseconds"
   ]
   }
,
{
		   "cell_type": "markdown",
		   "metadata": {},
		   "source": [
			"## Example 3.5: Frequency_from_period.sce"
		   ]
		  },
  {
"cell_type": "code",
	   "execution_count": null,
	   "metadata": {
	    "collapsed": true
	   },
	   "outputs": [],
"source": [
"clear;\n",
"clc;\n",
"disp('--------------Example 3.5---------------')\n",
"// period = 100 ms\n",
"T= 100*10^-3;\n",
"f1=1/T;  // formula to find frequency\n",
"f= f1*10^-3; // multiply with conversion factor \n",
"printf('The frequency in kHz = %2.1E kHz',f);  //display the final result in kHz"
   ]
   }
,
{
		   "cell_type": "markdown",
		   "metadata": {},
		   "source": [
			"## Example 3.6: Calculation_of_phase.sce"
		   ]
		  },
  {
"cell_type": "code",
	   "execution_count": null,
	   "metadata": {
	    "collapsed": true
	   },
	   "outputs": [],
"source": [
"clear;\n",
"clc;\n",
"disp('--------------Example 3.6---------------')\n",
"//offset = 1/6\n",
"phase= (1/6)*360;  //formula to calculate phase in degrees\n",
"printf('The phase in degrees = %d°\n\n',phase);\n",
"pr=phase*((2*%pi)/360); // degrees to radians conversion\n",
"printf('The phase in radians = %4.3f rad',pr); // display the result in radians"
   ]
   }
,
{
		   "cell_type": "markdown",
		   "metadata": {},
		   "source": [
			"## Example 3.7: Time_and_frequency_domains.sce"
		   ]
		  },
  {
"cell_type": "code",
	   "execution_count": null,
	   "metadata": {
	    "collapsed": true
	   },
	   "outputs": [],
"source": [
"clear;\n",
"clc;\n",
"clf();\n",
"xname('--------------Example 3.7----------------');\n",
"//display the figure\n",
"subplot(121) // time domain plot\n",
"a1=gca(); \n",
"a1.y_label.text='Amplitude'; // y-axis\n",
"a1.y_label.font_style = 3;\n",
"a1.y_label.font_size = 4;\n",
"a1.y_label.foreground = 3;\n",
"a1.y_location = 'left';\n",
"a1.x_label.text='Time'; // x-axis \n",
"a1.x_label.font_style = 3;\n",
"a1.x_label.font_size = 4;\n",
"a1.x_label.foreground = 3;\n",
"a1.x_location = 'middle';\n",
"a1.data_bounds=[0,-15;1,15];\n",
"x=[0:.000125:1];\n",
"// sine waves to be plotted\n",
"plot2d(x,10*sin(8*x)); \n",
"plot2d(x,5*sin(16*x));\n",
"plot2d(x,15*sin(%pi/2 - 0*x));\n",
"xarrows([.5 .01],[-12 -12],5);\n",
"xarrows([.5 .99],[-12 -12],5);\n",
"xpoly([1 1],[-3 -12.5]);\n",
"xset('font size',3)\n",
"xstring(.5,-11,'1s')\n",
"xset('font size',2)\n",
"xstring(.02,-13.5,'a. Time-domain representation of three sine waves with frequencies 0, 8, and 16')\n",
"subplot(122) // frequency domain plot\n",
"a1=gca();\n",
"xarrows([0 1],[.5 .5],.5)\n",
"xarrows([0 0],[.5 1],.5)\n",
"xset('font size',3)\n",
"xstring(-.01,1,'Amplitude') // y-axis\n",
"xstring(1,.45,'Frequency') // x-axis\n",
"xstring(.02,.4,'b. Frequency-domain representation of the same three signals')\n",
"xstring(0,.45,'0                                          8                                            16')\n",
"xstring(-.05,.7,'5')\n",
"xstring(-.05,.8,'10')\n",
"xstring(-.05,.9,'15')\n",
"xset('thickness',2.5)\n",
"xpoly([0 0],[.5 .9])\n",
"xpoly([.4 .4],[.5 .8])\n",
"xpoly([.8 .8],[.5 .7])\n",
"xpoly([0 -.01],[.7 .7])\n",
"xpoly([0 -.01],[.8 .8])\n",
"xpoly([0 -.01],[.9 .9])\n",
"\n",
"\n",
"\n",
"\n",
"\n",
""
   ]
   }
,
{
		   "cell_type": "markdown",
		   "metadata": {},
		   "source": [
			"## Example 3.8: Periodic_composite_signal.sce"
		   ]
		  },
  {
"cell_type": "code",
	   "execution_count": null,
	   "metadata": {
	    "collapsed": true
	   },
	   "outputs": [],
"source": [
"clear;\n",
"clc;\n",
"clf();\n",
"xname('--------------Example 3.8----------------');\n",
"a1=gca();\n",
"// define the properties of the axes\n",
"a1.x_location = 'middle';\n",
"a1.x_label.text='Time'; // display the quantity along x-axis\n",
"a1.x_label.font_style = 3;\n",
"a1.x_label.font_size = 5;\n",
"a1.x_label.foreground = 3;\n",
"a1.title.text='A Composite Periodic Signal'  // display title\n",
"a1.title.foreground = 12;\n",
"a1.title.font_size = 6;\n",
"x=[0:.001:10]; // x-range\n",
"plot2d(x,sin(x)+3*sin(3*x)+sin(9*x)+sin(15*x)); // equation to be plotted"
   ]
   }
,
{
		   "cell_type": "markdown",
		   "metadata": {},
		   "source": [
			"## Example 3.9: Nonperiodic_composite_signal.sce"
		   ]
		  },
  {
"cell_type": "code",
	   "execution_count": null,
	   "metadata": {
	    "collapsed": true
	   },
	   "outputs": [],
"source": [
"clear;\n",
"clc;\n",
"disp('--------------Example 3.9--------------')\n",
"fl=0; // 0kHz\n",
"fh=4; // 4kHz\n",
"// example explanation\n",
"printf('Figure shows a nonperiodic composite signal. It can be the signal created by a microphone or a telephone set when a word or two\nis pronounced. In this case, the composite signal cannot be periodic, because that implies that we are repeating the same word or\nwords with exactly the same tone.\n\n');\n",
"printf('In a time-domain representation of this composite signal, there are an infinite number of simple sine frequencies.\nAlthough the number of frequencies in a human voice is infinite, the range is limited. A normal human being\ncan create a continuous range of frequencies between %d and %d kHz.',fl,fh);\n",
"printf('\n\nThe frequency decomposition of the signal yields a continuous curve. There are an infinite number of frequencies between %2.1f\nand %5.1f (real values). To find the amplitude related to frequency f, draw a vertical line at f to intersect the envelope curve.\nThe height of the vertical line is the amplitude of the corresponding frequency.',fl,fh*10^3);\n",
"clf();\n",
"xname('--------------Example 3.9----------------');\n",
"//display the figure\n",
"subplot(121) // time domain plot\n",
"a1=gca();\n",
"x=[0:.001:10]; // x-range\n",
"a1.title.text='a. Time domain';\n",
"a1.x_location = 'middle';\n",
"a1.x_label.text='Time'; // display the quantity along x-axis\n",
"a1.y_label.text='Amplitude'; // display the quantity along y-axis\n",
"plot(x,sin(.5*cos(x))+.8*sin(3*x)+sin(9*x)+sin(57*x)+cos(57*x)+sin(%pi/7*x)); // equation to be plotted\n",
"\n",
"subplot(122) // frequency domain plot\n",
"a1=gca();\n",
"p=[0:.01:%pi/5]; // x-range\n",
"a1.title.text='b. Frequency domain';\n",
"a1.x_location = 'bottom';\n",
"a1.x_label.text='Frequency'; // display the quantity along x-axis\n",
"a1.y_label.text='Amplitude';// display the quantity along y-axis\n",
"a1.data_bounds=[0,0;2,5];\n",
"// equations for the plot\n",
"plot(p,%e^p+2^p-2);\n",
"xset('color',2);\n",
"xpoly([.62 1.5],[1.4 1.4]);\n",
"xarc(1.02,1.54,.5,.5,0,64*25);\n",
"xpoly([1.52 1.8],[1.31 0])\n",
"xpoly([.62 .62],[0 1.4])\n",
"xfarc(.6,1.41,.05,.05,0,64*360)\n",
"xset('font size',2)\n",
"xstring(.6,1.5,'Amplitude for sine wave of frequency f');\n",
"xstring(.59,0,'f                                                                                           4 kHz')"
   ]
   }
],
"metadata": {
		  "kernelspec": {
		   "display_name": "Scilab",
		   "language": "scilab",
		   "name": "scilab"
		  },
		  "language_info": {
		   "file_extension": ".sce",
		   "help_links": [
			{
			 "text": "MetaKernel Magics",
			 "url": "https://github.com/calysto/metakernel/blob/master/metakernel/magics/README.md"
			}
		   ],
		   "mimetype": "text/x-octave",
		   "name": "scilab",
		   "version": "0.7.1"
		  }
		 },
		 "nbformat": 4,
		 "nbformat_minor": 0
}
