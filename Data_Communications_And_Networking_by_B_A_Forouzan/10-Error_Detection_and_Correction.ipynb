{
"cells": [
 {
		   "cell_type": "markdown",
	   "metadata": {},
	   "source": [
       "# Chapter 10: Error Detection and Correction"
	   ]
	},
{
		   "cell_type": "markdown",
		   "metadata": {},
		   "source": [
			"## Example 10.10: linear_block_codes.sce"
		   ]
		  },
  {
"cell_type": "code",
	   "execution_count": null,
	   "metadata": {
	    "collapsed": true
	   },
	   "outputs": [],
"source": [
"clear;\n",
"clc;\n",
"disp('--------------Example 10.10---------------')\n",
"// function to check if given scheme is a linear block code\n",
"function[]=check_linearcode (c1,c2,c3,c4)\n",
"    if(bitxor(c1,c2)==c1|bitxor(c1,c2)==c2|bitxor(c1,c2)==c3|bitxor(c1,c2)==c4)\n",
"        if(bitxor(c1,c3)==c1|bitxor(c1,c3)==c2|bitxor(c1,c3)==c3|bitxor(c1,c3)==c4)\n",
"            if(bitxor(c1,c4)==c1|bitxor(c1,c4)==c2|bitxor(c1,c4)==c3|bitxor(c1,c4)==c4)\n",
"                if(bitxor(c2,c3)==c1|bitxor(c2,c3)==c2|bitxor(c2,c3)==c3|bitxor(c2,c3)==c4)\n",
"                    if(bitxor(c2,c4)==c1|bitxor(c2,c4)==c2|bitxor(c2,c4)==c3|bitxor(c2,c4)==c4)\n",
"                        if(bitxor(c3,c4)==c1|bitxor(c3,c4)==c2|bitxor(c3,c4)==c3|bitxor(c3,c4)==c4)\n",
"                            printf('\nThis scheme is a linear block code because the result of XORing any codeword with any other codeword is a valid codeword.\n');\n",
"                        else\n",
"                            printf('\nThis scheme is not a linear block code because the result of XORing any codewordwith any other codeword is not a valid codeword.\n');\n",
"                        end\n",
"                    else\n",
"                        printf('\nThis scheme is not a linear block code because the result of XORing any codewordwith any other codeword is not a valid codeword.\n');\n",
"                    end\n",
"                else\n",
"                    printf('\nThis scheme is not a linear block code because the result of XORing any codewordwith any other codeword is not a valid codeword.\n');\n",
"                end\n",
"            else\n",
"                printf('\nThis scheme is not a linear block code because the result of XORing any codewordwith any other codeword is not a valid codeword.\n');\n",
"            end\n",
"        else\n",
"            printf('\nThis scheme is not a linear block code because the result of XORing any codewordwith any other codeword is not a valid codeword.\n');\n",
"        end\n",
"    else\n",
"        printf('\nThis scheme is not a linear block code because the result of XORing any codewordwith any other codeword is not a valid codeword.\n');\n",
"    end\n",
"endfunction\n",
"\n",
"// 1) Table 10.1\n",
"c1=[0 0 0];\n",
"c2=[0 1 1];\n",
"c3=[1 0 1];\n",
"c4=[1 1 0];\n",
"printf('\n1)');\n",
"check_linearcode(c1,c2,c3,c4); //calling the function\n",
"\n",
"// 2) Table 10.2\n",
"c1=[0 0 0 0 0];\n",
"c2=[0 1 0 1 1];\n",
"c3=[1 0 1 0 1];\n",
"c4=[1 1 1 1 0];\n",
"printf('\n2)');\n",
"check_linearcode(c1,c2,c3,c4);  //calling the function\n",
"                "
   ]
   }
,
{
		   "cell_type": "markdown",
		   "metadata": {},
		   "source": [
			"## Example 10.11: d_min_calculation.sce"
		   ]
		  },
  {
"cell_type": "code",
	   "execution_count": null,
	   "metadata": {
	    "collapsed": true
	   },
	   "outputs": [],
"source": [
"clear;\n",
"clc;\n",
"disp('--------------Example 10.11---------------')\n",
"function [count]= num_of_ones (d)// function to find the number of ones in a binary number\n",
"    count=0; \n",
"    for i=1:length(d)\n",
"        if(d(i)== 1)\n",
"            count = count+1; // number of ones\n",
"        end\n",
"    end\n",
"endfunction\n",
"//1)Table 10.1\n",
"c1=[0 0 0];\n",
"c2=[0 1 1];\n",
"c3=[1 0 1];\n",
"c4=[1 1 0];\n",
"o2=num_of_ones(c2);\n",
"o3=num_of_ones(c3);\n",
"o4=num_of_ones(c4);\n",
"dmin=min(o2,o3,o4); //The minimum Hamming distance is the number of 1s in the nonzero valid codeword with the smallest number of 1s.\n",
"printf('\nIn the first code (Table 10.1), the numbers of 1s in the nonzero codewords are %d,%d,and %d.So the minimum Hamming distance is dmin = %d.',o2,o3,o4,dmin); //display result\n",
"\n",
"// 2) Table 10.2\n",
"c1=[0 0 0 0 0];\n",
"c2=[0 1 0 1 1];\n",
"c3=[1 0 1 0 1];\n",
"c4=[1 1 1 1 0];\n",
"o2=num_of_ones(c2);\n",
"o3=num_of_ones(c3);\n",
"o4=num_of_ones(c4);\n",
"dmin=min(o2,o3,o4); //The minimum Hamming distance is the number of 1s in the nonzero valid codeword with the smallest number of 1s.\n",
"printf('\nIn the second code (Table 10.2), the numbers of 1s in the nonzero codewords are %d,%d,and %d.So the minimum Hamming distance is dmin = %d.',o2,o3,o4,dmin); // display result"
   ]
   }
,
{
		   "cell_type": "markdown",
		   "metadata": {},
		   "source": [
			"## Example 10.12: some_transmission_scenarios.sce"
		   ]
		  },
  {
"cell_type": "code",
	   "execution_count": null,
	   "metadata": {
	    "collapsed": true
	   },
	   "outputs": [],
"source": [
"clear;\n",
"clc;\n",
"disp('--------------Example 10.12---------------')\n",
"dataword=1011;\n",
"function[]= display (codeword) // function to display the result according to the codeword recieved at the reciever\n",
"    select codeword\n",
"    case 10111\n",
"        printf('\n1)No error occurs;the received codeword is %d.The syndrome is O. The dataword 1011 is created.\n',codeword);\n",
"    case 10011\n",
"        printf('\n2)One single-bit error changes a1.The received codeword is %d.The syndrome is 1.No dataword is created.\n',codeword);\n",
"    case 10110\n",
"        printf('\n3)One single-bit error changes r0.The received codeword is %d.The syndrome is 1.No dataword is created.\nNote that although none of the dataword bits are corrupted, no dataword is created because the code is not\nsophisticated enough to show the position of the corrupted bit.\n',codeword);\n",
"    case 00110\n",
"        printf('\n4)An error changes r0 and a second error changes a3.The received codeword is 00110.The syndrome is 0.\nThe dataword 0011 is created at the receiver. Note that here the dataword is wrongly created due to the syndrome value.\nThe simple parity-check decoder cannot detect an even number of errors. The errors cancel each other out and give the syndrome a value of 0.\n');\n",
"    case 01011\n",
"        printf('\n5)Three bits-a3, a2, and a1 are changed by errors.The received codeword is 01011.The syndrome is 1.\nThe dataword is not created. This shows that the simple parity check, guaranteed to detect one single error,\ncan also find any odd number of errors.\n');\n",
"    end\n",
"endfunction\n",
"\n",
"//codeword = 10111\n",
"codeword = 10111;\n",
"display(10111); //calling the function \n",
"//codeword = 10011\n",
"codeword = 10011;\n",
"display(10011); //calling the function \n",
"//codeword = 10110\n",
"codeword = 10110;\n",
"display(10110); //calling the function \n",
"//codeword = 00110\n",
"codeword = 00110;\n",
"display(00110); //calling the function \n",
"//codeword = 01011\n",
"codeword = 01011;\n",
"display(01011); //calling the function \n",
"funcprot(0);"
   ]
   }
,
{
		   "cell_type": "markdown",
		   "metadata": {},
		   "source": [
			"## Example 10.13: path_of_three_datawords.sce"
		   ]
		  },
  {
"cell_type": "code",
	   "execution_count": null,
	   "metadata": {
	    "collapsed": true
	   },
	   "outputs": [],
"source": [
"clear;\n",
"clc;\n",
"disp('--------------Example 10.13---------------')\n",
"function[codeword]=generate_codeword (dataword)  // functionto generate the codeword at the sender\n",
"    r0=bitxor(bitxor(matrix(dataword(4),1,1),matrix(dataword(3),1,1)),matrix(dataword(2),1,1));  // r0=a0+a1+a2\n",
"    s1=bitxor(bitxor(matrix(dataword(3),1,1),matrix(dataword(2),1,1)),matrix(dataword(1),1,1)); // s1=a1+a2+a3\n",
"    r2=bitxor(bitxor(matrix(dataword(3),1,1),matrix(dataword(4),1,1)),matrix(dataword(1),1,1)); // r2=a0+a1+a3\n",
"    codeword=string(dataword(1))+string(dataword(2))+string(dataword(3))+string(dataword(4))+string(r2)+string(s1)+string(r0); // form the codeword\n",
"endfunction\n",
"function[syndrome] = generate_syndrome(codeword_recieved)  // function to generate syndrome at the reciever\n",
"    s0=bitxor(bitxor(matrix(codeword_recieved(7),1,1),matrix(codeword_recieved(2),1,1)),bitxor(matrix(codeword_recieved(3),1,1),matrix(codeword_recieved(4),1,1)));  // s0=b2+b1+b0+q0\n",
"    s1=bitxor(bitxor(matrix(codeword_recieved(6),1,1),matrix(codeword_recieved(1),1,1)),bitxor(matrix(codeword_recieved(2),1,1),matrix(codeword_recieved(3),1,1)));  // s0=b3+b2+b1+q1\n",
"    s2=bitxor(bitxor(matrix(codeword_recieved(5),1,1),matrix(codeword_recieved(4),1,1)),bitxor(matrix(codeword_recieved(3),1,1),matrix(codeword_recieved(1),1,1)));  // s0=b3+b1+b0+q2\n",
"    syndrome=string(s2)+string(s1)+string(s0); // the syndrome formed\n",
"endfunction\n",
"\n",
"function[]=find_error (syndrome,dataword,codeword,codeword_recieved) // functin to find the error bit and display the final corrected data word\n",
"    select syndrome\n",
"    case '000'\n",
"        dw=string(dataword(1))+string(dataword(2))+string(dataword(3))+string(dataword(4));\n",
"        cw=string(codeword_recieved(1))+string(codeword_recieved(2))+string(codeword_recieved(3))+string(codeword_recieved(4))+string(codeword_recieved(5))+string(codeword_recieved(6))+string(codeword_recieved(7));\n",
"        printf('The dataword %s becomes the codeword %s. The codeword %s is received.The syndrome is %s (no error), the final dataword is %s.',dw,codeword,cw,syndrome,dw);\n",
"    case '001'\n",
"        dw=string(dataword(1))+string(dataword(2))+string(dataword(3))+string(dataword(4));\n",
"        cw=string(codeword_recieved(1))+string(codeword_recieved(2))+string(codeword_recieved(3))+string(codeword_recieved(4))+string(codeword_recieved(5))+string(codeword_recieved(6))+string(codeword_recieved(7));\n",
"        error_bit='q0';\n",
"        printf('The dataword %s becomes the codeword %s. The codeword %s is received. The syndrome is %s.\n%s is the error. After flipping %s, the final dataword is %s.',dw,codeword,cw,syndrome,error_bit,error_bit,dw);\n",
"    case '010'\n",
"        dw=string(dataword(1))+string(dataword(2))+string(dataword(3))+string(dataword(4));\n",
"        cw=string(codeword_recieved(1))+string(codeword_recieved(2))+string(codeword_recieved(3))+string(codeword_recieved(4))+string(codeword_recieved(5))+string(codeword_recieved(6))+string(codeword_recieved(7));\n",
"        error_bit='q1';\n",
"        printf('The dataword %s becomes the codeword %s. The codeword %s is received. The syndrome is %s.\n%s is the error. After flipping %s, the final dataword is %s.',dw,codeword,cw,syndrome,error_bit,error_bit,dw);\n",
"    case '011'\n",
"        dw=string(dataword(1))+string(dataword(2))+string(dataword(3))+string(dataword(4));\n",
"        cw=string(codeword_recieved(1))+string(codeword_recieved(2))+string(codeword_recieved(3))+string(codeword_recieved(4))+string(codeword_recieved(5))+string(codeword_recieved(6))+string(codeword_recieved(7));\n",
"        error_bit='b2';\n",
"        fdw=string(codeword_recieved(1))+string(bitcmp(codeword_recieved(2),1))+string(codeword_recieved(3))+string(codeword_recieved(4)); // corrected dataword\n",
"        printf('The dataword %s becomes the codeword %s. The codeword %s is received. The syndrome is %s.\n%s is the error. After flipping %s, the final dataword is %s.',dw,codeword,cw,syndrome,error_bit,error_bit,fdw);\n",
"    case '100'\n",
"        dw=string(dataword(1))+string(dataword(2))+string(dataword(3))+string(dataword(4));\n",
"        cw=string(codeword_recieved(1))+string(codeword_recieved(2))+string(codeword_recieved(3))+string(codeword_recieved(4))+string(codeword_recieved(5))+string(codeword_recieved(6))+string(codeword_recieved(7));\n",
"        error_bit='q2';\n",
"        printf('The dataword %s becomes the codeword %s. The codeword %s is received. The syndrome is %s.\n%s is the error. After flipping %s, the final dataword is %s.',dw,codeword,cw,syndrome,error_bit,error_bit,dw);\n",
"    case '101'\n",
"        dw=string(dataword(1))+string(dataword(2))+string(dataword(3))+string(dataword(4));\n",
"        cw=string(codeword_recieved(1))+string(codeword_recieved(2))+string(codeword_recieved(3))+string(codeword_recieved(4))+string(codeword_recieved(5))+string(codeword_recieved(6))+string(codeword_recieved(7));\n",
"        error_bit='b0';\n",
"        fdw=string(codeword_recieved(1))+string(codeword_recieved(2))+string(codeword_recieved(3))+string(bitcmp(codeword_recieved(4),1)); // corrected dataword\n",
"        printf('The dataword %s becomes the codeword %s. The codeword %s is received. The syndrome is %s.\n%s is the error. After flipping %s, the final dataword is %s.',dw,codeword,cw,syndrome,error_bit,error_bit,fdw);\n",
"    case '110'\n",
"        dw=string(dataword(1))+string(dataword(2))+string(dataword(3))+string(dataword(4));\n",
"        cw=string(codeword_recieved(1))+string(codeword_recieved(2))+string(codeword_recieved(3))+string(codeword_recieved(4))+string(codeword_recieved(5))+string(codeword_recieved(6))+string(codeword_recieved(7));\n",
"        error_bit='b3';\n",
"        fdw=string(bitcmp(codeword_recieved(1),1))+string(codeword_recieved(2))+string(codeword_recieved(3))+string(codeword_recieved(4)); // corrected dataword\n",
"        printf('The dataword %s becomes the codeword %s. The codeword %s is received. The syndrome is %s.\n%s is the error. After flipping %s, the final dataword is %s.',dw,codeword,cw,syndrome,error_bit,error_bit,fdw);\n",
"    case '111'\n",
"        dw=string(dataword(1))+string(dataword(2))+string(dataword(3))+string(dataword(4));\n",
"        cw=string(codeword_recieved(1))+string(codeword_recieved(2))+string(codeword_recieved(3))+string(codeword_recieved(4))+string(codeword_recieved(5))+string(codeword_recieved(6))+string(codeword_recieved(7));\n",
"        error_bit='b1';\n",
"        fdw=string(codeword_recieved(1))+string(codeword_recieved(2))+string(bitcmp(codeword_recieved(3),1))+string(codeword_recieved(4)); // corrected dataword\n",
"        printf('The dataword %s becomes the codeword %s. The codeword %s is received. The syndrome is %s.\n%s is the error. After flipping %s, the final dataword is %s.',dw,codeword,cw,syndrome,error_bit,error_bit,fdw);\n",
"    end\n",
"endfunction\n",
"\n",
"// 1)\n",
"dataword=[0 1 0 0];\n",
"codeword=generate_codeword(dataword); // calling the function\n",
"codeword_recieved=[0 1 0 0 0 1 1];\n",
"syndrome=generate_syndrome(codeword_recieved) // calling the function\n",
"printf('\n1)');\n",
"find_error(syndrome,dataword,codeword,codeword_recieved); // calling the function\n",
"\n",
"// 2)\n",
"dataword=[0 1 1 1];\n",
"codeword=generate_codeword(dataword); // calling the function\n",
"codeword_recieved=[0 0 1 1 0 0 1];\n",
"syndrome=generate_syndrome(codeword_recieved) // calling the function\n",
"printf('\n\n2)');\n",
"find_error(syndrome,dataword,codeword,codeword_recieved); // calling the function\n",
"\n",
"// 3)\n",
"dataword=[1 1 0 1];\n",
"codeword=generate_codeword(dataword); // calling the function\n",
"codeword_recieved=[0 0 0 1 0 0 0];\n",
"syndrome=generate_syndrome(codeword_recieved) // calling the function\n",
"printf('\n\n3)');\n",
"find_error(syndrome,dataword,codeword,codeword_recieved); // calling the function\n",
"printf('\nThis is the wrong dataword. This shows that Hamming code cannot correct two errors.'); "
   ]
   }
,
{
		   "cell_type": "markdown",
		   "metadata": {},
		   "source": [
			"## Example 10.14: calculate_k_and_n.sce"
		   ]
		  },
  {
"cell_type": "code",
	   "execution_count": null,
	   "metadata": {
	    "collapsed": true
	   },
	   "outputs": [],
"source": [
"clear;\n",
"clc;\n",
"disp('--------------Example 10.14---------------')\n",
"// function to chexk if k >=7 and display appropriate result\n",
"function[] = check (m)\n",
"    n=2^m - 1;\n",
"    k=n-m;\n",
"    if( k > = 7)\n",
"        printf(' m = %d :- The code is C(%d, %d) or k = %d and n = %d.\n',m,n,k,k,n);\n",
"    else\n",
"        printf(' m = %d :- n = %d .k = %d , which is less than 7. Hence doesnt satisfy the condition.\n',m,n,k);\n",
"    end\n",
"endfunction\n",
"// case 1\n",
"m=3;\n",
"printf('\n1)');\n",
"check(m); // calling the function\n",
"//case 2\n",
"m=4;\n",
"printf('\n2)');\n",
"check(m);// calling the function\n",
"\n",
""
   ]
   }
,
{
		   "cell_type": "markdown",
		   "metadata": {},
		   "source": [
			"## Example 10.15: single_bit_error.sce"
		   ]
		  },
  {
"cell_type": "code",
	   "execution_count": null,
	   "metadata": {
	    "collapsed": true
	   },
	   "outputs": [],
"source": [
"clear;\n",
"clc;\n",
"disp('--------------Example 10.15---------------')\n",
"//a) g(x)= x+1\n",
"gx='x+1';\n",
"printf('\na)No x^i can be divisible by x + 1. In other words, x^i/()x + 1) always has a remainder. So the syndrome is nonzero. Any single-bit error can be caught.\n'); // display result\n",
"//b) g(x)= x3\n",
"gx='x3';\n",
"printf('\nb)If i is equal to or greater than 3, x^i is divisible by g(x). The remainder of x^i/x3 is zero, and the receiver is fooled into believing\nthat there is no error,although there might be one.Note that in this case, the corrupted bit must be in position 4 or above.\nAll single-bit errors in positions 1 to 3 are caught.\n'); // display result\n",
"//c) 1\n",
"gx='1';\n",
"printf('\nc)All values of i make x^i divisible by g(x). No single-bit error can be caught. In addition, this g(x) is useless because it means the\ncodeword is just the dataword augmented with (n - k) zeros.'); // display result"
   ]
   }
,
{
		   "cell_type": "markdown",
		   "metadata": {},
		   "source": [
			"## Example 10.16: two_isolated_single_bit_errors.sce"
		   ]
		  },
  {
"cell_type": "code",
	   "execution_count": null,
	   "metadata": {
	    "collapsed": true
	   },
	   "outputs": [],
"source": [
"clear;\n",
"clc;\n",
"disp('--------------Example 10.16---------------');\n",
"x=poly(0,'x');\n",
"// a) x+1\n",
"g=x^1+1;\n",
"t=0;\n",
"// compute t\n",
"while(%T)\n",
"    q=(x^t+1)/g;\n",
"    if(q == 1)\n",
"        break;\n",
"    end\n",
"    t=t+1;\n",
"end\n",
"printf('a. t = %d . This is a very poor choice for a generator. Any two errors next to each other cannot be detected.\n\n',t); // display result\n",
"// b) x^4+1\n",
"g=x^4+1;\n",
"t=0;\n",
"// compute t\n",
"while(%T) \n",
"    q=(x^t+1)/g;\n",
"    if(q == 1)\n",
"        break;\n",
"    end\n",
"    t=t+1;\n",
"end\n",
"printf('b. t = %d .This generator cannot detect two errors that are four positions apart. The two errors can be anywhere, but if their\ndistance is %d, they remain undetected.\n\n',t,t); // display result\n",
"// c) x^7+x^6+1\n",
"g=x^7+x^6+1;\n",
"printf('c. This is a good choice for this purpose.\n\n'); // display result\n",
"// d) x^15+x^14+1\n",
"t=32768; // very large to compute\n",
"printf('d. This polynomial cannot divide any error of type x^t + 1 if t is less than %d. This means that a codeword with two isolated\nerrors that are next to each other or up to %d bits apart can be detected by this generator.',t,t); // display result"
   ]
   }
,
{
		   "cell_type": "markdown",
		   "metadata": {},
		   "source": [
			"## Example 10.17: burst_error_generators.sce"
		   ]
		  },
  {
"cell_type": "code",
	   "execution_count": null,
	   "metadata": {
	    "collapsed": true
	   },
	   "outputs": [],
"source": [
"clear;\n",
"clc;\n",
"disp('--------------Example 10.17---------------')\n",
"// a) x^6+1\n",
"r=6;\n",
"p1=(1/2)^(r-1); // formula\n",
"p2=(1/2)^r; // formula\n",
"slip1=round(p1*100);\n",
"slip2=round(p2*1000);\n",
"// display the result\n",
"printf('\na. This generator can detect all burst errors with a length less than or equal to %d bits; %d out of 100 burst errors with\nlength %d will slip by; %d out of 1000 burst errors of length %d or more will slip by.\n\n',r,slip1,r+1,slip2,r+2);\n",
"// b) x^18+x^7x+1\n",
"r=18;\n",
"p1=(1/2)^(r-1); // formula\n",
"p2=(1/2)^r; // formula\n",
"slip1=round(p1*10^6);\n",
"slip2=round(p2*10^6);\n",
"// display the result\n",
"printf('b. This generator can detect all burst errors with a length less than or equal to %d bits; %d out of 1 million burst errors with\nlength %d will slip by; %d out of 1 million burst errors of length %d or more will slip by.\n\n',r,slip1,r+1,slip2,r+2);\n",
"// c) x^32+x^23+x^7+1\n",
"r=32;\n",
"p1=(1/2)^(r-1); // formula\n",
"p2=(1/2)^r; // formula\n",
"slip1=round(p1*10^10);\n",
"slip2=ceil(p2*10^10);\n",
"// display the result\n",
"printf('c. This generator can detect all burst errors with a length less than or equal to %d bits; %d out of 10 billion burst errors with\nlength %d will slip by; %d out of 10 billion burst errors of length %d or more will slip by.\n\n',r,slip1,r+1,slip2,r+2);"
   ]
   }
,
{
		   "cell_type": "markdown",
		   "metadata": {},
		   "source": [
			"## Example 10.18: sum_error_detectio.sce"
		   ]
		  },
  {
"cell_type": "code",
	   "execution_count": null,
	   "metadata": {
	    "collapsed": true
	   },
	   "outputs": [],
"source": [
"clear;\n",
"clc;\n",
"disp('--------------Example 10.18---------------')\n",
"// set of numbers sent\n",
"n1=7;\n",
"n2=11;\n",
"n3=12;\n",
"n4=0;\n",
"n5=6;\n",
"n_sum=n1+n2+n3+n4+n5; // find the sum \n",
"printf('\nThe set of numbers is (%d, %d, %d, %d, %d). The sender sends (%d, %d, %d, %d, %d, %d), where %d is the sum of the original numbers.\nThe receiver adds the five numbers and compares the result with the sum.\nIf the two are the same, the receiver assumes no error, accepts the five numbers, and discards the sum.\nOtherwise, there is an error somewhere and the data are not accepted.',n1,n2,n3,n4,n5,n1,n2,n3,n4,n5,n_sum,n_sum); // display the result "
   ]
   }
,
{
		   "cell_type": "markdown",
		   "metadata": {},
		   "source": [
			"## Example 10.19: checksum_error_detectio.sce"
		   ]
		  },
  {
"cell_type": "code",
	   "execution_count": null,
	   "metadata": {
	    "collapsed": true
	   },
	   "outputs": [],
"source": [
"clear;\n",
"clc;\n",
"disp('--------------Example 10.19---------------')\n",
"// set of numbers sent\n",
"n1=7;\n",
"n2=11;\n",
"n3=12;\n",
"n4=0;\n",
"n5=6;\n",
"n_sum=n1+n2+n3+n4+n5; // find the sum \n",
"checksum= - n_sum; // formula\n",
"printf('\nThe job of the receiver becomes easier if the negative (complement) of the sum, called the checksum is sent along with the numbers.\nIn this case, we send (%d, %d, %d, %d, %d, %d). The receiver can add all the numbers received (including the checksum).\nIf the result is 0, it assumes no error; otherwise, there is an error.',n1,n2,n3,n4,n5,checksum); // display result"
   ]
   }
,
{
		   "cell_type": "markdown",
		   "metadata": {},
		   "source": [
			"## Example 10.1: block_coding_error.sce"
		   ]
		  },
  {
"cell_type": "code",
	   "execution_count": null,
	   "metadata": {
	    "collapsed": true
	   },
	   "outputs": [],
"source": [
"clear;\n",
"clc;\n",
"disp('--------------Example 10.1---------------')\n",
"k=4;\n",
"n=5;\n",
"datawords=2^k; // number of datawords\n",
"codewords=2^n; // number of codewords\n",
"printf('The 4B/5B block coding scheme has %d datawords and %d codewords.\n 16 out of 32 codewords are used for message transfer and the rest are either used for other purposes or unused.',datawords,codewords); // display result"
   ]
   }
,
{
		   "cell_type": "markdown",
		   "metadata": {},
		   "source": [
			"## Example 10.20: 21_1s_complement.sce"
		   ]
		  },
  {
"cell_type": "code",
	   "execution_count": null,
	   "metadata": {
	    "collapsed": true
	   },
	   "outputs": [],
"source": [
"clear;\n",
"clc;\n",
"disp('--------------Example 10.20---------------')\n",
"n=21;\n",
"// compute one's complement\n",
"bin=dec2bin(n);\n",
"s=strsplit(bin,1);\n",
"a=bin2dec(s(1));\n",
"b=bin2dec(s(2));\n",
"f=a+b;\n",
"complement=dec2bin(f,4); //1's complement\n",
"dec_complement=bin2dec(complement); // convert 1's complement to decimal\n",
"printf('The number %d in ones complement arithmetic using only four bits is %s or %d.',n,complement,dec_complement); // display result"
   ]
   }
,
{
		   "cell_type": "markdown",
		   "metadata": {},
		   "source": [
			"## Example 10.21: negative_1s_complement.sce"
		   ]
		  },
  {
"cell_type": "code",
	   "execution_count": null,
	   "metadata": {
	    "collapsed": true
	   },
	   "outputs": [],
"source": [
"clear;\n",
"clc;\n",
"disp('--------------Example 10.21---------------')\n",
"n=-6;\n",
"// compute 1's complement\n",
"d_complement=bitcmp(-n,4);\n",
"b_complement=dec2bin(d_complement,4);\n",
"printf('The number %d in ones complement arithmetic using only four bits is %s or %d.',n,b_complement,d_complement); // display result"
   ]
   }
,
{
		   "cell_type": "markdown",
		   "metadata": {},
		   "source": [
			"## Example 10.2: 2_bit_dataword.sce"
		   ]
		  },
  {
"cell_type": "code",
	   "execution_count": null,
	   "metadata": {
	    "collapsed": true
	   },
	   "outputs": [],
"source": [
"clear;\n",
"clc;\n",
"disp('--------------Example 10.2---------------')\n",
"k=2;\n",
"n=3;\n",
"table=['Datawords','Codewords';'00','000';'01','011';'10','101';'11','110'];\n",
"disp(table) // display the table\n",
"dataword='01';\n",
"codeword='011';\n",
"printf('\nAssume the sender encodes the dataword 01 as 011 and sends it to the receiver. Consider the following cases:\n');\n",
"function[]=case_func(codeword,dataword) // function to display appropriate result\n",
"    select codeword\n",
"    case '011'\n",
"        printf('\n1. The receiver receives %s. It is a valid codeword. The receiver extracts the dataword %s from it.',codeword,dataword);\n",
"    case '111'\n",
"        printf('\n\n2. The codeword is corrupted during transmission, and %s is received (the leftmost bit is corrupted).\nThis is not a valid codeword and is discarded.',codeword);\n",
"    case '000'\n",
"        printf('\n\n3. The codeword is corrupted during transmission, and %s is received (the right two bits are corrupted).\nThis is a valid codeword. The receiver incorrectly extracts the dataword 00. Two corrupted bits have made the error undetectable.',codeword);\n",
"    end\n",
"endfunction\n",
"funcprot(0);\n",
"// case 1\n",
"case_func(codeword,dataword); //calling the function\n",
"// case 2\n",
"codeword='111';\n",
"case_func(codeword,dataword); // calling the function\n",
"// case 3\n",
"codeword='000';\n",
"case_func(codeword,dataword); // calling the function"
   ]
   }
,
{
		   "cell_type": "markdown",
		   "metadata": {},
		   "source": [
			"## Example 10.22: complement_checksum_error.sce"
		   ]
		  },
  {
"cell_type": "code",
	   "execution_count": null,
	   "metadata": {
	    "collapsed": true
	   },
	   "outputs": [],
"source": [
"clear;\n",
"clc;\n",
"disp('--------------Example 10.22---------------')\n",
"// at the sender\n",
"n1=7;\n",
"n2=11;\n",
"n3=12;\n",
"n4=0;\n",
"n5=6;\n",
"s_sum=n1+n2+n3+n4+n5; // find the sum \n",
"s_bin=dec2bin(s_sum);\n",
"s=strsplit(s_bin,length(s_bin)-4);\n",
"a=bin2dec(s(1));\n",
"b=bin2dec(s(2));\n",
"f=a+b;  // wrapping the sum\n",
"s_checksum=bitcmp(f,4); // complementing\n",
"// display the result\n",
"printf('The sender initializes the checksum to 0 and adds all data items and the checksum . The result is %d. However, %d cannot\nbe expressed in 4 bits. The extra two bits are wrapped and added with the sum to create the wrapped sum value %d. The sum is then\ncomplemented, resulting in the checksum value %d . The sender now sends six data items to the receiver including the checksum %d.\n\n',s_sum,s_sum,f,s_checksum,s_checksum); \n",
"\n",
"// at the reciever\n",
"r_sum=n1+n2+n3+n4+n5+s_checksum; // find the sum including checksum sent by sender\n",
"r_bin=dec2bin(r_sum);\n",
"r=strsplit(r_bin,length(r_bin)-4);\n",
"c=bin2dec(r(1));\n",
"d=bin2dec(r(2));\n",
"e=c+d; // wrapping the sum\n",
"r_checksum=bitcmp(e,4); // complementing\n",
"// display the result\n",
"printf('The receiver follows the same procedure as the sender. It adds all data items (including the checksum); the result is %d.\nThe sum is wrapped and becomes %d. The wrapped sum is complemented and becomes %d the checksum.\n',r_sum,e,r_checksum);\n",
"// check if data is corrupt or not\n",
"if(r_checksum==0)\n",
"    printf('Since the value of the checksum is 0, this means that the data is not corrupted. The receiver drops the checksum and keeps the other data items.');\n",
"else\n",
"    printf('The checksum is not zero,hence the entire packet is dropped.');\n",
"end\n",
""
   ]
   }
,
{
		   "cell_type": "markdown",
		   "metadata": {},
		   "source": [
			"## Example 10.23: Forouzan_text_checksum.sce"
		   ]
		  },
  {
"cell_type": "code",
	   "execution_count": null,
	   "metadata": {
	    "collapsed": true
	   },
	   "outputs": [],
"source": [
"clear;\n",
"clc;\n",
"disp('--------------Example 10.23---------------')\n",
"// sender\n",
"text='Forouzan';\n",
"// computing the checksum\n",
"a=ascii(text);\n",
"h1=dec2hex(a(1));\n",
"h2=dec2hex(a(2));\n",
"h3=dec2hex(a(3));\n",
"h4=dec2hex(a(4));\n",
"h5=dec2hex(a(5));\n",
"h6=dec2hex(a(6));\n",
"h7=dec2hex(a(7));\n",
"h8=dec2hex(a(8));\n",
"// form the hexadecimal words\n",
"Fo=h1+h2;\n",
"ro=h3+h4;\n",
"uz=h5+h6;\n",
"an=h7+h8;\n",
"d1=hex2dec(Fo);\n",
"d2=hex2dec(ro);\n",
"d3=hex2dec(uz);\n",
"d4=hex2dec(an);\n",
"ps=d1+d2+d3+d4;\n",
"partial_sum=dec2hex(ps); // partial sum of the words\n",
"s=strsplit(partial_sum,[1 4]);\n",
"Sum=s(2)+dec2hex(hex2dec(s(1))+hex2dec(s(3))); // wrapping the sum\n",
"a=hex2dec(Sum)\n",
"c=bitcmp(a,16);\n",
"Checksum=dec2hex(c); // Checksum in hex\n",
"carries='1013';\n",
"printf('Checksum for a text of 8 characters (Forouzan). The text needs to be divided into 2-byte (l6-bit) words.\nWe use ASCII to change each byte to a 2-digit hexadecimal number.\n\n');\n",
"// display the process\n",
"printf('       a) Checksum at the sender site');\n",
"printf('\n         %s                         Carries\n',carries);\n",
"printf('\n          %s                          Fo',Fo);\n",
"printf('\n          %s                          ro',ro);\n",
"printf('\n          %s                          uz',uz);\n",
"printf('\n          %s                          an',an);\n",
"printf('\n          0000                          Checksum(initial)');\n",
"printf('\n          _____\n');\n",
"printf('\n          %s                        Sum(partial)',s(2)+s(3));\n",
"printf('\n          ____\n');\n",
"printf('\n             %s',s(1));\n",
"printf('\n          _____\n');\n",
"printf('\n          %s                        Sum',Sum);\n",
"printf('\n          %s                   Checksum(to send)',Checksum);\n",
"\n",
"// reciever\n",
"Checksum_r=Checksum;\n",
"d_Sum=ps+c; // sum of data and checksum\n",
"partial_sum=dec2hex(d_Sum); \n",
"s=strsplit(partial_sum,[1 4]);\n",
"Sum=s(2)+dec2hex(hex2dec(s(1))+hex2dec(s(3))); // wrapping the sum\n",
"a=hex2dec(Sum)\n",
"c=bitcmp(a,16);\n",
"Checksum=dec2hex(c); // checksum in hex\n",
"// display the process\n",
"printf('\n\n       b) Checksum at the reciever site');\n",
"printf('\n\n         %s                         Carries\n',carries);\n",
"printf('\n          %s                          Fo',Fo);\n",
"printf('\n          %s                          ro',ro);\n",
"printf('\n          %s                          uz',uz);\n",
"printf('\n          %s                          an',an);\n",
"printf('\n          %s                          Checksum(recieved)',Checksum_r);\n",
"printf('\n          _____\n');\n",
"printf('\n          %s                        Sum(partial)',s(2)+s(3));\n",
"printf('\n          ____\n');\n",
"printf('\n             %s',s(1));\n",
"printf('\n          _____\n');\n",
"printf('\n          %s                        Sum',Sum);\n",
"printf('\n          %s000                   Checksum(new)',Checksum);\n",
""
   ]
   }
,
{
		   "cell_type": "markdown",
		   "metadata": {},
		   "source": [
			"## Example 10.3: 3_redundant_bits_codeword.sce"
		   ]
		  },
  {
"cell_type": "code",
	   "execution_count": null,
	   "metadata": {
	    "collapsed": true
	   },
	   "outputs": [],
"source": [
"clear;\n",
"clc;\n",
"disp('--------------Example 10.3---------------')\n",
"table=['Datawords','Codewords';'00','00000';'01','01011';'10','10101';'11','11110'];\n",
"codewords=['00000','01011','10101','11110'];\n",
"disp(table); // display the table\n",
"dataword='01';\n",
"codeword='01011';\n",
"corrupt_codeword='01001';\n",
"printf('\nThe dataword is %s. The sender consults the table to create the codeword %s.\nThe codeword is corrupted during transmission, and %s is received (error in the second bit from the right).\nFirst, the receiver finds that the received codeword is not in the table. This means an error has occurred. (Detection must come before correction.)\nThe receiver, assuming that there is only 1 bit corrupted, uses the following strategy to guess the correct dataword.\n',dataword,codeword,corrupt_codeword); // display result\n",
"for i=1:4 // check for each codeword\n",
"    bit=strsplit(codewords(i));\n",
"    r=strsplit(corrupt_codeword);\n",
"    count=0;\n",
"    for k=1:5\n",
"        if(bit(k)==r(k)) // check each bit \n",
"            continue;\n",
"        else\n",
"            count=count+1; // udate the count of errorenous bits\n",
"        end\n",
"    end\n",
"    if(count>1) // if more than 1 bit is errorenous\n",
"        continue;\n",
"    else\n",
"        correct_codeword=codewords(i); // the correct codeword determined\n",
"        break;\n",
"    end\n",
"end\n",
"printf('\n1. Comparing the received codeword with the first codeword in the table (%s versus 00000),the receiver decides\nthat the first codeword is not the one that was sent because there are two different bits.\n\n2. By the same reasoning, the original codeword cannot be the third or fourth one in the table.\n\n3. The original codeword must be the second one in the table because this is the only one that differs from the received codeword by 1 bit.\nThe receiver replaces %s with %s and consults the table to find the dataword %s.',corrupt_codeword,corrupt_codeword,correct_codeword,dataword); // display result"
   ]
   }
,
{
		   "cell_type": "markdown",
		   "metadata": {},
		   "source": [
			"## Example 10.4: find_Hamming_distance.sce"
		   ]
		  },
  {
"cell_type": "code",
	   "execution_count": null,
	   "metadata": {
	    "collapsed": true
	   },
	   "outputs": [],
"source": [
"clear;\n",
"clc;\n",
"disp('--------------Example 10.4---------------')\n",
"//words\n",
"x1=[0 0 0];\n",
"y1=[0 1 1];\n",
"x2=[1 0 1 0 1];\n",
"y2=[1 1 1 1 0];\n",
"// formula to find Hamming distance 'd'\n",
"d1=bitxor(x1,y1);\n",
"d2=bitxor(x2,y2);\n",
"function [count]= num_of_ones (d)// function to find the number of ones in a binary number\n",
"    count=0; \n",
"    for i=1:length(d)\n",
"        if(d(i)== 1)\n",
"            count = count+1; // number of one's \n",
"        end\n",
"    end\n",
"endfunction\n",
"d=num_of_ones(d1); // calling the function\n",
"printf('\nThe Hamming distance d(OOO, 011) is %d.\n',d); // display result\n",
"d=num_of_ones(d2); // calling the function\n",
"printf('\nThe Hamming distance d(10101, 11110) is %d.\n',d); // display result\n",
"\n",
""
   ]
   }
,
{
		   "cell_type": "markdown",
		   "metadata": {},
		   "source": [
			"## Example 10.5: minimum_Hamming_distance.sce"
		   ]
		  },
  {
"cell_type": "code",
	   "execution_count": null,
	   "metadata": {
	    "collapsed": true
	   },
	   "outputs": [],
"source": [
"clear;\n",
"clc;\n",
"disp('--------------Example 10.5---------------')\n",
"//words\n",
"x1=[0 0 0];\n",
"x2=[0 1 1];\n",
"x3=[1 0 1];\n",
"x4=[1 1 0];\n",
"//function to find Hamming distance\n",
"function [d]=hamming_distance(x,y)\n",
"    xd=bitxor(x,y);\n",
"    d=num_of_ones(xd);\n",
"endfunction\n",
"function [count]= num_of_ones (d)// function to find the number of ones in a binary number\n",
"    count=0; \n",
"    for i=1:length(d)\n",
"        if(d(i)== 1)\n",
"            count = count+1; // number of ones\n",
"        end\n",
"    end\n",
"endfunction\n",
"d1=hamming_distance(x1,x2);\n",
"printf('\nThe Hamming distance d(OOO, 011) is %d.\n',d1); // display result\n",
"d2=hamming_distance(x1,x3);\n",
"printf('\nThe Hamming distance d(OOO, 101) is %d.\n',d2); // display result\n",
"d3=hamming_distance(x1,x4);\n",
"printf('\nThe Hamming distance d(OOO, 110) is %d.\n',d3); // display result\n",
"d4=hamming_distance(x2,x3);\n",
"printf('\nThe Hamming distance d(O11, 101) is %d.\n',d4); // display result\n",
"d5=hamming_distance(x2,x4);\n",
"printf('\nThe Hamming distance d(O11, 110) is %d.\n',d5); // display result\n",
"d6=hamming_distance(x3,x4);\n",
"printf('\nThe Hamming distance d(101, 110) is %d.\n',d6); // display result\n",
"dmin=min(d1,d2,d3,d4,d5,d6);\n",
"printf('\nThe minimum Hamming distance dmin is %d.',dmin); // display result"
   ]
   }
,
{
		   "cell_type": "markdown",
		   "metadata": {},
		   "source": [
			"## Example 10.6: minimum_Hamming_distance_2.sce"
		   ]
		  },
  {
"cell_type": "code",
	   "execution_count": null,
	   "metadata": {
	    "collapsed": true
	   },
	   "outputs": [],
"source": [
"clear;\n",
"clc;\n",
"disp('--------------Example 10.6---------------')\n",
"//words\n",
"x1=[0 0 0 0 0];\n",
"x2=[0 1 0 1 1];\n",
"x3=[1 0 1 0 1];\n",
"x4=[1 1 1 1 0];\n",
"//function to find Hamming distance\n",
"function [d]=hamming_distance(x,y)\n",
"    xd=bitxor(x,y);\n",
"    d=num_of_ones(xd);\n",
"endfunction\n",
"function [count]= num_of_ones (d)// function to find the number of ones in a binary number\n",
"    count=0; \n",
"    for i=1:length(d)\n",
"        if(d(i)== 1)\n",
"            count = count+1; //number of ones\n",
"        end\n",
"    end\n",
"endfunction\n",
"d1=hamming_distance(x1,x2);\n",
"printf('\nThe Hamming distance d(OOO00, 01011) is %d.\n',d1); // display result\n",
"d2=hamming_distance(x1,x3);\n",
"printf('\nThe Hamming distance d(OOO00, 10101) is %d.\n',d2); // display result\n",
"d3=hamming_distance(x1,x4);\n",
"printf('\nThe Hamming distance d(OOO00, 11110) is %d.\n',d3); // display result\n",
"d4=hamming_distance(x2,x3);\n",
"printf('\nThe Hamming distance d(O1011, 10101) is %d.\n',d4); // display result\n",
"d5=hamming_distance(x2,x4);\n",
"printf('\nThe Hamming distance d(O1011, 11110) is %d.\n',d5); // display result\n",
"d6=hamming_distance(x3,x4);\n",
"printf('\nThe Hamming distance d(10101, 11110) is %d.\n',d6); // display result\n",
"dmin=min(d1,d2,d3,d4,d5,d6);\n",
"printf('\nThe minimum Hamming distance dmin is %d.',dmin); // display result"
   ]
   }
,
{
		   "cell_type": "markdown",
		   "metadata": {},
		   "source": [
			"## Example 10.7: error_detection_and_correction.sce"
		   ]
		  },
  {
"cell_type": "code",
	   "execution_count": null,
	   "metadata": {
	    "collapsed": true
	   },
	   "outputs": [],
"source": [
"clear;\n",
"clc;\n",
"disp('--------------Example 10.7---------------')\n",
"printf('The minimum Hamming distance for the first code scheme (Table 10.1) is 2.\nThis code guarantees detection of only a single error. For example, if the third codeword (l01)\nis sent and one error occurs, the received codeword does not match any valid codeword. If two errors occur, however,\nthe received codeword may match a valid codeword and the errors are not detected.'); //display the example"
   ]
   }
,
{
		   "cell_type": "markdown",
		   "metadata": {},
		   "source": [
			"## Example 10.8: block_code_dmi.sce"
		   ]
		  },
  {
"cell_type": "code",
	   "execution_count": null,
	   "metadata": {
	    "collapsed": true
	   },
	   "outputs": [],
"source": [
"clear;\n",
"clc;\n",
"disp('--------------Example 10.8---------------')\n",
"printf('The second block code scheme (Table 10.2) has dmin = 3. This code can detect up to two errors.\nWhen any of the valid codewords is sent, two errors create a codeword which is not in the table of valid codewords.\nHowever, some combinations of three errors change a valid codeword to another valid codeword.\nThe receiver accepts the received codeword and the errors are undetected.'); //display the example"
   ]
   }
,
{
		   "cell_type": "markdown",
		   "metadata": {},
		   "source": [
			"## Example 10.9: Hamming_distance_dmin_4.sce"
		   ]
		  },
  {
"cell_type": "code",
	   "execution_count": null,
	   "metadata": {
	    "collapsed": true
	   },
	   "outputs": [],
"source": [
"clear;\n",
"clc;\n",
"disp('--------------Example 10.9---------------')\n",
"dmin=4; // minimum Hamming distance\n",
"s=dmin-1; //error detection\n",
"t=(dmin-1)/2; //error correction\n",
"// display result\n",
"printf('This code guarantees the detection of up to %d errors.\n\n',s);\n",
"printf('It can correct upto %d error.\nIn other words, if this code is used for error correction, part of its capability is wasted. Error correction codes need to have an odd\nminimum distance (3, 5, 7, ... ).',t);"
   ]
   }
],
"metadata": {
		  "kernelspec": {
		   "display_name": "Scilab",
		   "language": "scilab",
		   "name": "scilab"
		  },
		  "language_info": {
		   "file_extension": ".sce",
		   "help_links": [
			{
			 "text": "MetaKernel Magics",
			 "url": "https://github.com/calysto/metakernel/blob/master/metakernel/magics/README.md"
			}
		   ],
		   "mimetype": "text/x-octave",
		   "name": "scilab",
		   "version": "0.7.1"
		  }
		 },
		 "nbformat": 4,
		 "nbformat_minor": 0
}
