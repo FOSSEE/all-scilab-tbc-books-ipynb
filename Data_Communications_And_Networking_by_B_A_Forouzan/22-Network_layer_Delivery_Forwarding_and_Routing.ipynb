{
"cells": [
 {
		   "cell_type": "markdown",
	   "metadata": {},
	   "source": [
       "# Chapter 22: Network layer Delivery Forwarding and Routing"
	   ]
	},
{
		   "cell_type": "markdown",
		   "metadata": {},
		   "source": [
			"## Example 22.1: Routing_Table_for_router.sce"
		   ]
		  },
  {
"cell_type": "code",
	   "execution_count": null,
	   "metadata": {
	    "collapsed": true
	   },
	   "outputs": [],
"source": [
"clear;\n",
"clc;\n",
"disp('--------------Example 22.1----------------')\n",
"// network addresses\n",
"network_address1='180.70.65.192';\n",
"network_address2='180.70.65.128';\n",
"network_address3='201.4.22.0';\n",
"network_address4='201.4.16.0';\n",
"network_address5='Any'  // Rest of the internet\n",
"// masks\n",
"mask1='/26';\n",
"mask2='/25';\n",
"mask3='/24';\n",
"mask4='/22';\n",
"mask5='Any';  // Rest of the internet\n",
"// interfaces \n",
"interface1='     m2';\n",
"interface2='     m0';\n",
"interface3='     m3';\n",
"interface4='     m1';\n",
"interface5='     m2';  // Rest of the internet\n",
"\n",
"router_address='180.70.65.200';  // Router R1\n",
"// next hop addresses\n",
"next_hop1='       -';\n",
"next_hop2='       -';\n",
"next_hop3='       -';\n",
"next_hop4='       -';\n",
"next_hop5=router_address; // For rest of the universe\n",
"\n",
"// define matrices for the 4 columns of the routing table\n",
"mask = [mask1; mask2; mask3; mask4; mask5];\n",
"network_address=[network_address1; network_address2; network_address3; network_address4; network_address5];\n",
"interface=[interface1; interface2; interface3 ; interface4; interface5];\n",
"next_hop=[next_hop1;next_hop2;next_hop3;next_hop4;next_hop5];\n",
"\n",
"// define a matrix for the whole routing table\n",
"routing_table=[mask network_address next_hop interface];\n",
"\n",
"// displaying the routing table\n",
"printf('\n        ROUTING TABLE FOR ROUTER R1\n');\n",
"printf('\n!Mask|Network address|  Next hop  | Interface!\n'); // display the headings\n",
"disp(routing_table); // display the routing table matrix"
   ]
   }
,
{
		   "cell_type": "markdown",
		   "metadata": {},
		   "source": [
			"## Example 22.2: Forwarding_process_1.sce"
		   ]
		  },
  {
"cell_type": "code",
	   "execution_count": null,
	   "metadata": {
	    "collapsed": true
	   },
	   "outputs": [],
"source": [
"clear;\n",
"clc;\n",
"disp('--------------Example 22.2----------------')\n",
"// network addresses\n",
"network_addresses=['180.70.65.192','180.70.65.128','201.4.22.0','201.4.16.0','Any'];\n",
"// masks\n",
"mask=[26,25,24,22];\n",
"\n",
"// interfaces \n",
"interface=['m2' 'm0' 'm3' 'm1' 'm2'];\n",
"\n",
"//destination address = 180.70.65.140\n",
"byte1=180;\n",
"byte2=70;\n",
"byte3=65;\n",
"byte4=140;\n",
"// convert it to binary \n",
"b1=dec2bin(byte1,8); \n",
"b2=dec2bin(byte2,8); \n",
"b3=dec2bin(byte3,8); \n",
"b4=dec2bin(byte4,8);\n",
"destination_address=b1+b2+b3+b4; // destination address in binary\n",
"network_address='';\n",
"\n",
"for i=1:4  // applying the each of the masks to the destination address\n",
"    na='';\n",
"    printf('\n\n%d) The mask /%d is applied to the destination address.',i,mask(i));\n",
"    nz=32-mask(i);  // number of zeros after applying the mask\n",
"    s=strsplit(destination_address);\n",
"        for k=33-nz:32\n",
"            s(k)='0'; // replacing last 'nz' bits with zeros\n",
"        end\n",
"        for k=1:32\n",
"            na=na+s(k);  // new address in binary\n",
"        end\n",
"        bytes=strsplit(na,[8 16 24]); // split it into bytes\n",
"       // convert them to binary\n",
"        d1=bin2dec(bytes(1));\n",
"        d2=bin2dec(bytes(2));\n",
"        d3=bin2dec(bytes(3));\n",
"        d4=bin2dec(bytes(4));\n",
"        network_address=string(d1)+'.'+string(d2)+'.'+string(d3)+'.'+string(d4); // network address formed in decimal notation\n",
"\n",
"    if(network_address==network_addresses(i))  // check if it matches with any given network addresses and display appropriate results\n",
"        printf('\nThe result is %s,which matches the corresponding network address %s.\nThe next-hop address (the destination address of the packet in this case) and the interface number %s are passed to ARP for further processing.',network_address,network_addresses(i),interface(i));\n",
"        break;\n",
"    else\n",
"        printf('\nThe result is %s, which does not match the corresponding network address %s.',network_address,network_addresses(i));\n",
"    end\n",
"end\n",
"\n",
"\n",
""
   ]
   }
,
{
		   "cell_type": "markdown",
		   "metadata": {},
		   "source": [
			"## Example 22.3: Forwarding_process_2.sce"
		   ]
		  },
  {
"cell_type": "code",
	   "execution_count": null,
	   "metadata": {
	    "collapsed": true
	   },
	   "outputs": [],
"source": [
"clear;\n",
"clc;\n",
"disp('--------------Example 22.3----------------')\n",
"// network addresses\n",
"network_addresses=['180.70.65.192','180.70.65.128','201.4.22.0','201.4.16.0','Any'];\n",
"// masks\n",
"mask=[26,25,24,22];\n",
"\n",
"// interfaces \n",
"interface=['m2' 'm0' 'm3' 'm1' 'm2'];\n",
"\n",
"//destination address = 201.4.22.35\n",
"byte1=201;\n",
"byte2=4;\n",
"byte3=22;\n",
"byte4=35;\n",
"// convert it to binary \n",
"b1=dec2bin(byte1,8); \n",
"b2=dec2bin(byte2,8); \n",
"b3=dec2bin(byte3,8); \n",
"b4=dec2bin(byte4,8);\n",
"destination_address=b1+b2+b3+b4;  // binary form\n",
"network_address='';\n",
"\n",
"for i=1:4  // applying the each of the masks to the destination address\n",
"    na='';\n",
"    printf('\n\n%d) The mask /%d is applied to the destination address.',i,mask(i));\n",
"    nz=32-mask(i);  // number of zeros after applying the mask\n",
"    s=strsplit(destination_address);\n",
"        for k=33-nz:32\n",
"            s(k)='0';  // replacing last 'nz' bits with zeros\n",
"        end\n",
"        for k=1:32\n",
"            na=na+s(k);  // new address in binary\n",
"        end\n",
"        bytes=strsplit(na,[8 16 24]);  // split it into bytes\n",
"       // convert it into decimal\n",
"        d1=bin2dec(bytes(1));\n",
"        d2=bin2dec(bytes(2));\n",
"        d3=bin2dec(bytes(3));\n",
"        d4=bin2dec(bytes(4));\n",
"        network_address=string(d1)+'.'+string(d2)+'.'+string(d3)+'.'+string(d4);  // network address formed in decimal notation\n",
"\n",
"    if(network_address==network_addresses(i))  // check if it matches with any given network addresses and display appropriate results\n",
"        printf('\nThe result is %s, which matches the corresponding network address %s .\nThe destination address of the packet and the interface number %s are passed to ARP.',network_address,network_addresses(i),interface(i));\n",
"        break;\n",
"    else\n",
"        printf('\nThe result is %s, which does not match the corresponding network address %s.',network_address,network_addresses(i));\n",
"    end\n",
"end"
   ]
   }
,
{
		   "cell_type": "markdown",
		   "metadata": {},
		   "source": [
			"## Example 22.4: Forwarding_process_3.sce"
		   ]
		  },
  {
"cell_type": "code",
	   "execution_count": null,
	   "metadata": {
	    "collapsed": true
	   },
	   "outputs": [],
"source": [
"clear;\n",
"clc;\n",
"disp('--------------Example 22.4----------------')\n",
"// network addresses\n",
"network_addresses=['180.70.65.192','180.70.65.128','201.4.22.0','201.4.16.0','Any'];\n",
"// masks\n",
"mask=[26,25,24,22];\n",
"\n",
"// interfaces \n",
"interface=['m2' 'm0' 'm3' 'm1' 'm2'];\n",
"//destination address = 18.24.32.78\n",
"byte1=18;\n",
"byte2=24;\n",
"byte3=32;\n",
"byte4=78;\n",
"// convert it to binary \n",
"b1=dec2bin(byte1,8); \n",
"b2=dec2bin(byte2,8); \n",
"b3=dec2bin(byte3,8); \n",
"b4=dec2bin(byte4,8);\n",
"destination_address=b1+b2+b3+b4; \n",
"network_address='';\n",
"\n",
"nexthop_address='180.70.65.200';  // Router R1 address\n",
"\n",
"for i=1:4  // applying the each of the masks to the destination address\n",
"    na=''; \n",
"    printf('\n\n%d) The mask /%d is applied to the destination address.',i,mask(i));\n",
"    nz=32-mask(i);  // number of zeros after applying the mask\n",
"    s=strsplit(destination_address);\n",
"        for k=33-nz:32\n",
"            s(k)='0';  // replacing last 'nz' bits with zeros\n",
"        end\n",
"        for k=1:32\n",
"            na=na+s(k); // new address in binary\n",
"        end\n",
"        bytes=strsplit(na,[8 16 24]); // split the new address into bytes\n",
"       // convert them to decimal\n",
"        d1=bin2dec(bytes(1));\n",
"        d2=bin2dec(bytes(2));\n",
"        d3=bin2dec(bytes(3));\n",
"        d4=bin2dec(bytes(4));\n",
"        network_address=string(d1)+'.'+string(d2)+'.'+string(d3)+'.'+string(d4); // final network address in decimal notation\n",
"\n",
"    if(network_address==network_addresses(i))  // check if it matches with any given network addresses and display appropriate results\n",
"        printf('\nThe result is %s, which matches the corresponding network address %s .\nThe destination address of the packet and the interface number %s are passed to ARP.',network_address,network_addresses(i),interface(i));\n",
"        break;\n",
"    else\n",
"        printf('\nThe result is %s, which does not match the corresponding network address %s.',network_address,network_addresses(i));\n",
"    end\n",
"end\n",
"\n",
"if(i==4) // if it doesnt match any of the 4 given network addresses\n",
"    printf('\n\nNo matching network address is found.\nWhen it reaches the end of the table, the module gives the next-hop address %s and interface number %s to ARP.\nThis is probably an outgoing package that needs to be sent, via the default router, to someplace else in the Internet.',nexthop_address,interface(5))\n",
"end"
   ]
   }
,
{
		   "cell_type": "markdown",
		   "metadata": {},
		   "source": [
			"## Example 22.5: Hierarchical_routing.sce"
		   ]
		  },
  {
"cell_type": "code",
	   "execution_count": null,
	   "metadata": {
	    "collapsed": true
	   },
	   "outputs": [],
"source": [
"clear;\n",
"clc;\n",
"disp('--------------Example 22.5----------------')\n",
"total_addresses=16384; // A regional ISP is granted with 16,384 addresses\n",
"// starting address = 120.14.64.0\n",
"sa1=120;\n",
"sa2=14;\n",
"sa3=64;\n",
"sa4=0;\n",
"bin_sa=dec2bin(sa1,8)+dec2bin(sa2,8)+dec2bin(sa3,8)+dec2bin(sa4,8); // starting address in binary\n",
"la=dec2bin(bin2dec(bin_sa)+total_addresses-1,32); // last address in binary\n",
"a=strsplit(la,[8 16 24 ])  //separate the bytes\n",
"a3=bin2dec(a(1));         // convert binary numbers to decimal numbers\n",
"a2=bin2dec(a(2));\n",
"a1=bin2dec(a(3));\n",
"a0=bin2dec(a(4));\n",
"last_address=string(a3)+'.'+string(a2)+'.'+string(a1)+'.'+string(a0); // last address in decimal notation\n",
"main_mask=18;\n",
"main_subblocks=4;\n",
"msb_addresses=total_addresses/main_subblocks; // The regional ISP divides this block into four subblocks, each with 4096 addresses.\n",
"msb_mask=main_mask+log2(main_subblocks); // the mask for each block is /20 because the original block with mask /18 is divided into 4 blocks\n",
"\n",
"msb1_subblocks=8; // The first local ISP has divided its assigned subblock into 8 smaller blocks and assigned each to a small ISP\n",
"mssb1_mask=msb_mask+log2(msb1_subblocks); // he mask for each small ISP is now /23 because the block is further divided into 8 blocks.\n",
"household_addresses=4; // a household has four addresses\n",
"household_mask=32-log2(household_addresses); // formula\n",
"num_households=msb_addresses/(household_addresses*msb1_subblocks); // Each small ISP provides services to 128 households (H001 to H128)\n",
"msb1_sa=string(sa1)+'.'+string(sa2)+'.'+string(sa3)+'.'+string(sa4); // starting address in decimal notation\n",
"la1=dec2bin(bin2dec(bin_sa)+msb_addresses-1,32); // last address in binary\n",
"a=strsplit(la1,[8 16 24 ])  //separate the bytes\n",
"a3=bin2dec(a(1));         // convert binary numbers to decimal numbers\n",
"a2=bin2dec(a(2));\n",
"a1=bin2dec(a(3));\n",
"a0=bin2dec(a(4));\n",
"last_address1=string(a3)+'.'+string(a2)+'.'+string(a1)+'.'+string(a0); // last address in decimal notation\n",
"H001_la=dec2bin(bin2dec(bin_sa)+household_addresses-1,32); // last address in binary\n",
"a=strsplit(H001_la,[8 16 24 ])  //separate the bytes\n",
"a3=bin2dec(a(1));         // convert binary numbers to decimal numbers\n",
"a2=bin2dec(a(2));\n",
"a1=bin2dec(a(3));\n",
"a0=bin2dec(a(4));\n",
"last_address_H001=string(a3)+'.'+string(a2)+'.'+string(a1)+'.'+string(a0); // last address in decimal notation\n",
"\n",
"\n",
"msb2_subblocks=4; //The second local ISP divides its block into 4 blocks and assigns the addresses to four large organizations (LOrg01 to LOrg04).\n",
"Lorg_addresses=msb_addresses/msb2_subblocks; // number of addresses possessed by each large organization\n",
"mssb2_mask=msb_mask+log2(msb2_subblocks); // mask of the large organization addresses\n",
"sas2=dec2bin(bin2dec(bin_sa)+2*(msb_addresses),32); // starting address in binary\n",
"a=strsplit(sas2,[8 16 24 ])  //separate the bytes\n",
"a3=bin2dec(a(1));         // convert binary numbers to decimal numbers\n",
"a2=bin2dec(a(2));\n",
"a1=bin2dec(a(3));\n",
"a0=bin2dec(a(4));\n",
"start_address2=string(a3)+'.'+string(a2)+'.'+string(a1)+'.'+string(a0); // starting address in decimal notation\n",
"\n",
"msb3_subblocks=16; //The third local ISP divides its block into 16 blocks and assigns the addresses to 15 small organizations (SOrg01 to SOrg16).\n",
"Sorg_addresses=msb_addresses/msb3_subblocks; // number of addresses possessed by each small organization\n",
"mssb3_mask=msb_mask+log2(msb3_subblocks); // mask of the small organization addresses\n",
"sas3=dec2bin(bin2dec(bin_sa)+3*(msb_addresses),32); // starting address in binary\n",
"a=strsplit(sas3,[8 16 24 ])  //separate the bytes\n",
"a3=bin2dec(a(1));         // convert binary numbers to decimal numbers\n",
"a2=bin2dec(a(2));\n",
"a1=bin2dec(a(3));\n",
"a0=bin2dec(a(4));\n",
"start_address3=string(a3)+'.'+string(a2)+'.'+string(a1)+'.'+string(a0); // starting address in decimal notation\n",
"\n",
"// display the result\n",
"\n",
"printf('A regional ISP is granted %d addresses starting from %s .The regional ISP has decided to divide this block into %d subblocks,\neach with %d addresses.Three of these subblocks are assigned to three local ISPs; the second subblock is reserved for future use.\nThe mask for each block is /%d because the original block with mask /%d is divided into %d blocks.\n\nThe first local ISP has divided its assigned subblock into %d smaller blocks and assigned each to a small ISP.\nEach small ISP provides services to %d households (H001 to H128),each using %d addresses.\nThe mask for each small ISP is now /%d because the block is further divided into %d blocks. Each household has a mask of /%d\nbecause a household has only %d addresses.\n\nThe second local ISP has divided its block into %d blocks and has assigned the addresses to %d large organizations (LOrg01 to LOrg04).\nEach large organization has %d addresses, and the mask is /%d and the starting address is %s .\n\nThe third local ISP has divided its block into %d blocks and has assigned the addresses to %d large organizations (SOrg01 to SOrg16).\nEach large organization has %d addresses, and the mask is /%d and the starting address is %s .\n\nThere is a sense of hierarchy in this configuration. All routers in the Internet send a packet with destination address\n%s to %s to the regional ISP.\n\nThe regional ISP sends every packet with destination address %s to %s to local ISPl.\nLocal ISP1 sends every packet with destination address %s to %s to H001.',total_addresses,msb1_sa,main_subblocks,msb_addresses,msb_mask,main_mask,main_subblocks,msb1_subblocks,num_households,household_addresses,mssb1_mask,msb1_subblocks,household_mask,household_addresses,msb2_subblocks,msb2_subblocks,Lorg_addresses,mssb2_mask,start_address2,msb3_subblocks,msb3_subblocks,Sorg_addresses,mssb3_mask,start_address3,msb1_sa,last_address,msb1_sa,last_address1,msb1_sa,last_address_H001);"
   ]
   }
,
{
		   "cell_type": "markdown",
		   "metadata": {},
		   "source": [
			"## Example 22.6: netstat_and_ifconfig.sce"
		   ]
		  },
  {
"cell_type": "code",
	   "execution_count": null,
	   "metadata": {
	    "collapsed": true
	   },
	   "outputs": [],
"source": [
"clear;\n",
"clc;\n",
"disp('--------------Example 22.6----------------')\n",
"// display the example\n",
"printf('One utility that can be used to find the contents of a routing table for a host or router is netstat in UNIX or LINUX.\nThe following shows the list of the contents of a default server. Two options, r and n are used.\nThe option r indicates that we are interested in the routing table, and the option n indicates that we are looking for numeric addresses.\nThis is a routing table for a host, not a router. Although we discussed the routing table for a router throughout the chapter,\na host also needs a routing table.\n');\n",
"// output of $netstat -rn command\n",
"printf('\n$ netstat -rn\nKernel IP routing table\nDestination   Gateway       Mask           Flags    Iface\n153.18.16.0   0.0.0.0       255.255.240.0     U     eth0\n127.0.0.0     0.0.0.0       255.0.0.0         U     la\n0.0.0.0      153.18.31.254  0.0.0.0           G     eth0');\n",
"// explain the diffrent columns\n",
"printf('\n\nNote also that the order of columns is different from what we showed. The destination column here defines the network address.\nThe term gateway used by UNIX is synonymous with router. This column acmally defines the address of the next hop.\nThe value 0.0.0.0 shows that the delivery is direct. The last entry has a flag of G,\nwhich means that the destination can be reached through a router (default router). The Iface defines the interface.\nThe host has only one real interface,eth0,which means interface 0 connected to an Ethernet network.\nThe second interface, la,is actually a virtual loopback interface indicating that the host accepts packets with loopback address 127.0.0.0.');\n",
"//output of $ifconfig eth0 command\n",
"printf('\n\nMore information about the IP address and physical address of the server can be found by using the ifconfig command on the given interface (eth0).\n$ ifconfig eth0\neth0 Link encap:Ethernet HWaddr 00:BO:DO:DF:09:5D\ninet addr:153.18.17.11 Bcast: 153.18.31.255 Mask:255.255.240.0');"
   ]
   }
],
"metadata": {
		  "kernelspec": {
		   "display_name": "Scilab",
		   "language": "scilab",
		   "name": "scilab"
		  },
		  "language_info": {
		   "file_extension": ".sce",
		   "help_links": [
			{
			 "text": "MetaKernel Magics",
			 "url": "https://github.com/calysto/metakernel/blob/master/metakernel/magics/README.md"
			}
		   ],
		   "mimetype": "text/x-octave",
		   "name": "scilab",
		   "version": "0.7.1"
		  }
		 },
		 "nbformat": 4,
		 "nbformat_minor": 0
}
