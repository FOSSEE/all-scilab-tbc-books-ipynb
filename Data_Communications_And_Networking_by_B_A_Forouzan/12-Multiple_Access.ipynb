{
"cells": [
 {
		   "cell_type": "markdown",
	   "metadata": {},
	   "source": [
       "# Chapter 12: Multiple Access"
	   ]
	},
{
		   "cell_type": "markdown",
		   "metadata": {},
		   "source": [
			"## Example 12.1: ALOHA_TB_calculatio.sce"
		   ]
		  },
  {
"cell_type": "code",
	   "execution_count": null,
	   "metadata": {
	    "collapsed": true
	   },
	   "outputs": [],
"source": [
"clear;\n",
"clc;\n",
"disp('--------------Example 12.1---------------')\n",
"d=600*10^3; // 600 km\n",
"speed = 3*10^8; // 3*10^8 m/s\n",
"Tp=(d/speed)*10^3; // propagation time\n",
"\n",
"// a) K=1\n",
"K=[0 1]; // range\n",
"TB1=Tp*K(1);\n",
"TB2=Tp*K(2);\n",
"printf('\na)K=1 :-  TB is either  %d ms (0 x 2) or %d ms (l x 2), based on the outcome of the random variable.\n',TB1,TB2); // display result\n",
"// b) K=2\n",
"K=[0 1 2 3]; // range\n",
"TB1=Tp*K(1);\n",
"TB2=Tp*K(2);\n",
"TB3=Tp*K(3);\n",
"TB4=Tp*K(4);\n",
"printf('\nb)K=2 :-  TB can be %d, %d, %d, or %d ms, based on the outcome of the random variable.\n',TB1,TB2,TB3,TB4); // display result\n",
"// c) K=3\n",
"K=[0 1 2 3 4 5 6 7]; //range\n",
"TB1=Tp*K(1);\n",
"TB2=Tp*K(2);\n",
"TB3=Tp*K(3);\n",
"TB4=Tp*K(4);\n",
"TB5=Tp*K(5);\n",
"TB6=Tp*K(6);\n",
"TB7=Tp*K(7);\n",
"TB8=Tp*K(8);\n",
"printf('\nc)K=3 :-  TB can be %d, %d, %d, %d, %d, %d, %d or %d ms, based on the outcome of the random variable.\n',TB1,TB2,TB3,TB4,TB5,TB6,TB7,TB8); // display result\n",
"// d) K >10\n",
"printf('\nd)K>10 :-  If K > 10, it is normally set to 10.') // display result"
   ]
   }
,
{
		   "cell_type": "markdown",
		   "metadata": {},
		   "source": [
			"## Example 12.2: Collision_free_ALOHA.sce"
		   ]
		  },
  {
"cell_type": "code",
	   "execution_count": null,
	   "metadata": {
	    "collapsed": true
	   },
	   "outputs": [],
"source": [
"clear;\n",
"clc;\n",
"disp('--------------Example 12.2---------------')\n",
"frame_bits=200; \n",
"datarate=200*10^3; // 200 kbps\n",
"Tfr=frame_bits/datarate;\n",
"Tv=2*Tfr; // vulnerable time\n",
"printf('The Tfr is %d ms and the vulnerable time is %d ms.\nThis means no station should send later than %d ms before this station starts transmission\nand no station should start sending during the one %d ms period that this station is sending.',Tfr*10^3,Tv*10^3,Tfr*10^3,Tfr*10^3); // display results with appropriate units"
   ]
   }
,
{
		   "cell_type": "markdown",
		   "metadata": {},
		   "source": [
			"## Example 12.3: Pure_ALOHA_throughput.sce"
		   ]
		  },
  {
"cell_type": "code",
	   "execution_count": null,
	   "metadata": {
	    "collapsed": true
	   },
	   "outputs": [],
"source": [
"clear;\n",
"clc;\n",
"disp('--------------Example 12.3---------------')\n",
"frame_bits=200; \n",
"datarate=200*10^3; // 200 kbps\n",
"Tfr=frame_bits/datarate;\n",
"printf('\nThe frame transmission time is %d ms.\n',Tfr*10^3);\n",
"\n",
"function[S]=s_func (frame_rate) // function to determine S\n",
"    G=frame_rate*10^-3; // load\n",
"    S=G*(%e^(-2*G)); // formula\n",
"    percent=S*100;\n",
"    printf('S = %4.3f or %3.1f percent.',S,percent);\n",
"endfunction\n",
"\n",
"//a. 1000 frames per second\n",
"frame_rate=1000;\n",
"printf('\na)');\n",
"S=s_func(frame_rate); //calling the function\n",
"throughput=S*frame_rate;\n",
"printf('\nThe throughput is %d frames.Only %d frames out of %d will probably survive.\n',throughput,throughput,frame_rate); // display result\n",
"//b. 500 frames per second\n",
"frame_rate=500;\n",
"printf('\nb)');\n",
"S=s_func(frame_rate); //calling the function\n",
"throughput=rat(S,10^-2)*frame_rate; // approximation\n",
"// display result\n",
"printf('\nThe throughput is %d frames.Only %d frames out of %d will probably survive.\n',throughput,throughput,frame_rate);\n",
"printf('Note that this is the maximum throughput case, percentage wise.\n');\n",
"\n",
"//c. 250 frames per second\n",
"frame_rate=250;\n",
"printf('\nc)');\n",
"S=s_func(frame_rate); //calling the function\n",
"throughput=rat(S,10^-1.5)*frame_rate; // approximation\n",
"printf('\nThe throughput is %d frames.Only %d frames out of %d will probably survive.\n',throughput,throughput,frame_rate); // display result\n",
"\n",
""
   ]
   }
,
{
		   "cell_type": "markdown",
		   "metadata": {},
		   "source": [
			"## Example 12.4: Slotted_ALOHA_throughput.sce"
		   ]
		  },
  {
"cell_type": "code",
	   "execution_count": null,
	   "metadata": {
	    "collapsed": true
	   },
	   "outputs": [],
"source": [
"clear;\n",
"clc;\n",
"disp('--------------Example 12.4---------------')\n",
"frame_bits=200; \n",
"datarate=200*10^3; // 200 kbps\n",
"Tfr=frame_bits/datarate;\n",
"printf('\nThe frame transmission time is %d ms.\n',Tfr*10^3);\n",
"\n",
"function[S]=s_func (frame_rate) // function to determine S\n",
"    G=frame_rate*10^-3; // load\n",
"    S=G*(%e^(-G)); //formula\n",
"    percent=S*100;\n",
"    printf('S = %4.3f or %3.1f percent.',S,percent);\n",
"endfunction\n",
"\n",
"//a. 1000 frames per second\n",
"frame_rate=1000;\n",
"printf('\na)');\n",
"S=s_func(frame_rate); //calling the function\n",
"throughput=rat(S,10^-2.5)*frame_rate;// approximation\n",
"// display result\n",
"printf('\nThe throughput is %d frames.Only %d frames out of %d will probably survive.\n',throughput,throughput,frame_rate);\n",
"printf('Note that this is the maximum throughput case, percentage wise.\n');\n",
"\n",
"//b. 500 frames per second\n",
"frame_rate=500;\n",
"printf('\nb)');\n",
"S=s_func(frame_rate); //calling the function\n",
"throughput=S*frame_rate;\n",
"printf('\nThe throughput is %d frames.Only %d frames out of %d will probably survive.\n',throughput,throughput,frame_rate); // display result\n",
"\n",
"//c. 250 frames per second\n",
"frame_rate=250;\n",
"printf('\nc)');\n",
"S=s_func(frame_rate); //calling the function\n",
"throughput=S*frame_rate;\n",
"printf('\nThe throughput is %d frames.Only %d frames out of %d will probably survive.\n',round(throughput),round(throughput),frame_rate);// display result"
   ]
   }
,
{
		   "cell_type": "markdown",
		   "metadata": {},
		   "source": [
			"## Example 12.5: Minimum_frame_size.sce"
		   ]
		  },
  {
"cell_type": "code",
	   "execution_count": null,
	   "metadata": {
	    "collapsed": true
	   },
	   "outputs": [],
"source": [
"clear;\n",
"clc;\n",
"disp('--------------Example 12.5---------------')\n",
"bandwidth = 10*10^6; // 10 Mbps\n",
"Tp=25.6*10^-6; // 25.6 microseconds\n",
"Tfr=2*Tp; // formula\n",
"min_frame_size = bandwidth*Tfr; // formula\n",
"bytes=min_frame_size/8; // 1 byte = 8 bits\n",
"printf('The minimum frame size is %d bits or %d bytes.\nThis is the minimum size of the frame for Standard Ethernet.',min_frame_size,bytes); // display result"
   ]
   }
,
{
		   "cell_type": "markdown",
		   "metadata": {},
		   "source": [
			"## Example 12.6: Chips_for_network.sce"
		   ]
		  },
  {
"cell_type": "code",
	   "execution_count": null,
	   "metadata": {
	    "collapsed": true
	   },
	   "outputs": [],
"source": [
"clear;\n",
"clc;\n",
"disp('--------------Example 12.6---------------')\n",
"// use the rows of W2 and W4 in the solution\n",
"W2=[1 1;1 -1];\n",
"W4=[1 1 1 1;1 -1 1 -1;1 1 -1 -1;1 -1 -1 1];\n",
"//a. Two stations\n",
"C1= W2(1,:); //select 1st row of W2\n",
"C2= W2(2,:); // select 2nd row of W2\n",
"// display result\n",
"disp('a)The chips for a two-station network are ');\n",
"disp(C1)\n",
"disp('and')\n",
"disp(C2)\n",
"\n",
"//b. Four stations\n",
"C1= W4(1,:); // select 1st row of W4\n",
"C2= W4(2,:); // select 2nd row of W4\n",
"C3= W4(3,:); // select 3rd row of W4\n",
"C4= W4(4,:); // select 4th row of W4\n",
"// display result\n",
"disp('b)The chips for a four-station network are ');\n",
"disp(C1)\n",
"printf(',')\n",
"disp(C2)\n",
"printf(',')\n",
"disp(C3)\n",
"printf('and')\n",
"disp(C4)\n",
""
   ]
   }
,
{
		   "cell_type": "markdown",
		   "metadata": {},
		   "source": [
			"## Example 12.7: Number_of_sequences.sce"
		   ]
		  },
  {
"cell_type": "code",
	   "execution_count": null,
	   "metadata": {
	    "collapsed": true
	   },
	   "outputs": [],
"source": [
"clear;\n",
"clc;\n",
"disp('--------------Example 12.7---------------')\n",
"stations=90;\n",
"m=7;\n",
"N=2^m; // formula\n",
"printf('The number of sequences is %d. Hence %d of the sequences can be used as the chips.',N,stations); // display result"
   ]
   }
,
{
		   "cell_type": "markdown",
		   "metadata": {},
		   "source": [
			"## Example 12.8: Proof.sce"
		   ]
		  },
  {
"cell_type": "code",
	   "execution_count": null,
	   "metadata": {
	    "collapsed": true
	   },
	   "outputs": [],
"source": [
"clear;\n",
"clc;\n",
"disp('--------------Example 12.8---------------')\n",
"//Proof\n",
"printf('Proof:-\n Let us prove this for the first station, using the previous four-station example.\n The data on the channel is D = (d1*c1 + d2*c2 + d3*c3 + d4*c4) .\n The receiver which wants to get the data sent by station 1 multiplies these data by c1.\n  D*c1 = (d1*c1+d2*c2+d3*c3+d4*c4)*c1\n       = d1*c1*c1 + d2*c2*c1 + d3*c3*c1 + d4*c4*c1\n       = d1*N + d2*0 + d3*0 + d4*0\n       = d1*N\n When the result is divided by N, we get d1. Hence Proved.');"
   ]
   }
],
"metadata": {
		  "kernelspec": {
		   "display_name": "Scilab",
		   "language": "scilab",
		   "name": "scilab"
		  },
		  "language_info": {
		   "file_extension": ".sce",
		   "help_links": [
			{
			 "text": "MetaKernel Magics",
			 "url": "https://github.com/calysto/metakernel/blob/master/metakernel/magics/README.md"
			}
		   ],
		   "mimetype": "text/x-octave",
		   "name": "scilab",
		   "version": "0.7.1"
		  }
		 },
		 "nbformat": 4,
		 "nbformat_minor": 0
}
