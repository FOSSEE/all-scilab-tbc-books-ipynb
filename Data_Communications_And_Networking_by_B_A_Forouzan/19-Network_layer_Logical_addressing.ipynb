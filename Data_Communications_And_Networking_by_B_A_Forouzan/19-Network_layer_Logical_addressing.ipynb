{
"cells": [
 {
		   "cell_type": "markdown",
	   "metadata": {},
	   "source": [
       "# Chapter 19: Network layer Logical addressing"
	   ]
	},
{
		   "cell_type": "markdown",
		   "metadata": {},
		   "source": [
			"## Example 19.10: design_sub_blocks.sce"
		   ]
		  },
  {
"cell_type": "code",
	   "execution_count": null,
	   "metadata": {
	    "collapsed": true
	   },
	   "outputs": [],
"source": [
"clear;\n",
"clc;\n",
"disp('--------------Example 19.10---------------')\n",
"// address :- 190.100.0.0/16 i.e 65,536 addresses\n",
"num_of_ISP_addresses=65536; //total number of addresses \n",
"printf('\n');\n",
"function [total]= addresses (num_of_customers,num_of_addresses) //function to find total number of addresses allocated to a group\n",
"    total=num_of_customers*num_of_addresses; //formula to calculate total number of addresses\n",
"    bits=log2(num_of_customers);\n",
"    n=32-bits;\n",
"     printf('Number of bits needed to define each host = %d',bits); //display results\n",
"    printf('\nThe prefix length = %d',n);\n",
"    endfunction\n",
"//group 1\n",
"g1=addresses(64,256); //calling fuction\n",
"printf('\nThe total number of addresses alloted to Group 1 = %d\n\n',g1);\n",
"//group 2\n",
"g2=addresses(128,128); //calling function\n",
"printf('\nThe total number of addresses alloted to Group 2 = %d\n\n',g2);\n",
"//group 3\n",
"g3=addresses(128,64); //calling function\n",
"printf('\nThe total number of addresses alloted to Group 3 = %d\n\n',g3);\n",
"num_allocated=g1+g2+g3; //total number of addresses allocated \n",
"num_remaining_addresses=num_of_ISP_addresses-num_allocated; // formula to calculate number of remaining addresses\n",
"printf('\nThe total number of addresses granted to the ISP = %d',num_of_ISP_addresses); \n",
"printf('\n\nThe total number of addresses allocated by the ISP = %d',num_allocated);\n",
"printf('\n\nThe number of addresses remaining = %d',num_remaining_addresses);  //display result"
   ]
   }
,
{
		   "cell_type": "markdown",
		   "metadata": {},
		   "source": [
			"## Example 19.11: find_original_address.sce"
		   ]
		  },
  {
"cell_type": "code",
	   "execution_count": null,
	   "metadata": {
	    "collapsed": true
	   },
	   "outputs": [],
"source": [
"clear;\n",
"clc;\n",
"disp('--------------Example 19.11---------------')\n",
"//address :- 0:15::1:12:1213\n",
"a1=0;\n",
"a2=15;\n",
"a8=1213;\n",
"a7=12;\n",
"a6=1;\n",
"n1=strsplit(string(a1));\n",
"n2=strsplit(string(a2));\n",
"n8=strsplit(string(a8));\n",
"n7=strsplit(string(a7));\n",
"n6=strsplit(string(a6));\n",
"function [n]=org_address (num,nmatrix) //function to form the 2 bytes in hexadecimal\n",
"    n='';\n",
"    for i=1:4-length(string(num))\n",
"        n=n+'0';\n",
"    end\n",
"    for i=1:length(string(num))\n",
"        n=n+nmatrix(i);\n",
"    end\n",
"endfunction\n",
"f1=org_address(a1,n1); //2 byte addresses\n",
"f2=org_address(a2,n2);\n",
"f8=org_address(a8,n8);\n",
"f7=org_address(a7,n7);\n",
"f6=org_address(a6,n6);\n",
"f3='0000';  // zeros \n",
"f4=f3;\n",
"f5=f3;\n",
"printf('\nThe original address is %s:%s:%s:%s:%s:%s:%s:%s',f1,f2,f3,f4,f5,f6,f7,f8);  //display the original addresses"
   ]
   }
,
{
		   "cell_type": "markdown",
		   "metadata": {},
		   "source": [
			"## Example 19.1: Dotted_decimal_notation.sce"
		   ]
		  },
  {
"cell_type": "code",
	   "execution_count": null,
	   "metadata": {
	    "collapsed": true
	   },
	   "outputs": [],
"source": [
"clear;\n",
"clc;\n",
"disp('--------------Example 19.1---------------')\n",
"// a) 10000001 00001011 00001011 11101111\n",
"a='10000001000010110000101111101111'\n",
"ab=strsplit(a,[8 16 24 ])  //separate the bytes\n",
"a3=bin2dec(ab(1));         // convert binary numbers to decimal numbers\n",
"a2=bin2dec(ab(2));\n",
"a1=bin2dec(ab(3));\n",
"a0=bin2dec(ab(4));\n",
"printf('\na) Decimal notation :-  %d.%d.%d.%d',a3,a2,a1,a0);       //result in decimal notation\n",
"// b) 11000001 10000011 00011011 11111111\n",
"b='11000001100000110001101111111111'\n",
"bb=strsplit(b,[8 16 24 ])        //separate the bytes\n",
"b3=bin2dec(bb(1));           //convert binary numbers into decimal numbers\n",
"b2=bin2dec(bb(2));\n",
"b1=bin2dec(bb(3));\n",
"b0=bin2dec(bb(4));\n",
"printf('\n\nb) Decimal notation :-  %d.%d.%d.%d',b3,b2,b1,b0);   //result in decimal nootation"
   ]
   }
,
{
		   "cell_type": "markdown",
		   "metadata": {},
		   "source": [
			"## Example 19.2: Binary_notation.sce"
		   ]
		  },
  {
"cell_type": "code",
	   "execution_count": null,
	   "metadata": {
	    "collapsed": true
	   },
	   "outputs": [],
"source": [
"clear;\n",
"clc;\n",
"disp('--------------Example 19.2---------------')\n",
"// a) 111.56.45.78\n",
"n=8;    //number of bits i.e 1 byte\n",
"a3=dec2bin(111,n);         // convert decimal numbers to binary numbers\n",
"a2=dec2bin(56,n);\n",
"a1=dec2bin(45,n);\n",
"a0=dec2bin(78,n);\n",
"disp('a) Binary notation :- '+a3+' '+a2+' '+a1+' '+a0)    //result in binary notation\n",
"// b) 221.34.7.82\n",
"b3=dec2bin(221,n);           //convert decimal numbers into binary numbers\n",
"b2=dec2bin(34,n);\n",
"b1=dec2bin(7,n);\n",
"b0=dec2bin(82,n);\n",
"disp('b) Binary notation :- '+b3+' '+b2+' '+b1+' '+b0)  //result in binary nootation"
   ]
   }
,
{
		   "cell_type": "markdown",
		   "metadata": {},
		   "source": [
			"## Example 19.3: Find_the_error.sce"
		   ]
		  },
  {
"cell_type": "code",
	   "execution_count": null,
	   "metadata": {
	    "collapsed": true
	   },
	   "outputs": [],
"source": [
"clear;\n",
"clc;\n",
"disp('--------------Example 19.3---------------')\n",
"// a) 111.56.045.78\n",
"disp('a) There must be no leading zero (045).') //display the result \n",
"//b) 221.34.7.8.20\n",
"disp('b) There can be no more than four numbers in an IPv4 address.')    //display the result \n",
"//c) 75.45.301.14\n",
"disp('c) Each number needs to be less than or equal to 255 (301 is outside this range).') //display the result \n",
"//d) 11100010.23.14.67\n",
"disp('d) A mixture of binary notation and dotted-decimal notation is not allowed.')       //display the result"
   ]
   }
,
{
		   "cell_type": "markdown",
		   "metadata": {},
		   "source": [
			"## Example 19.4: Find_the_class.sce"
		   ]
		  },
  {
"cell_type": "code",
	   "execution_count": null,
	   "metadata": {
	    "collapsed": true
	   },
	   "outputs": [],
"source": [
"clear;\n",
"clc;\n",
"disp('--------------Example 19.4---------------')\n",
"function []= binclass (q)       //function to determine the class of a address in binary notation \n",
"    c=strsplit(q,1);\n",
"if(c(1)=='0')\n",
"     disp(' The first bit is O. This is a class A address.')\n",
"else\n",
"    c=strsplit(q,2);\n",
"    if(c(1)=='10')\n",
"        disp(' The first 2 bits are 1O. This is a class B address.')\n",
"    else\n",
"        c=strsplit(q,3);\n",
"        if(c(1)=='110')\n",
"            disp(' The first 3 bits are 11O. This is a class C address.')\n",
"        else\n",
"            c=strsplit(q,4);\n",
"            if(c(1)=='1110')\n",
"                disp(' The first 4 bits are 111O. This is a class D address.')\n",
"            elseif(c(1)=='1111')\n",
"                disp(' The first 4 bits are 1111. This is a class E address.')\n",
"end\n",
"end\n",
"end\n",
"end\n",
"endfunction  //end of function \n",
"\n",
"function [] = byteclass (q)           //function to determine the class of a address in decimal notation\n",
"if(q>=0 & q<= 127)\n",
"    disp(' The first byte is between 0 and 127; the class is A.')\n",
"elseif(q>=128 & q<=191)\n",
"    disp(' The first byte is between 128 and 191; the class is B.')\n",
"elseif( q>=192 & q<=223)\n",
"    disp(' The first byte is between 192 and 223; the class is C.')\n",
"elseif( q>=224 & q<=239)\n",
"    disp(' The first byte is between 224 and 239; the class is D.')\n",
"elseif(q>=240 & q<=255)\n",
"    disp(' The first byte is between 240 and 255; the class is E.')\n",
"end\n",
"endfunction     //end of function\n",
"\n",
"\n",
"//a) 00000001 00001011 00001011 11101111\n",
"q='00000001';\n",
"printf('\na)');\n",
"binclass(q);  //calling the function \n",
"//b) 11000001 10000011 00011011 11111111\n",
"q='11000001';\n",
"printf('\nb)');\n",
"binclass(q);  //calling the function \n",
"//c) 14.23.120.8\n",
"q=14;\n",
"printf('\nc)');\n",
"byteclass(q);  //calling the function\n",
"//d) 252.5.15.111\n",
"q=252;\n",
"printf('\nd)');\n",
"byteclass(q);  //calling the function\n",
""
   ]
   }
,
{
		   "cell_type": "markdown",
		   "metadata": {},
		   "source": [
			"## Example 19.5: block_of_addresses.sce"
		   ]
		  },
  {
"cell_type": "code",
	   "execution_count": null,
	   "metadata": {
	    "collapsed": true
	   },
	   "outputs": [],
"source": [
"clear;\n",
"clc;\n",
"disp('--------------Example 19.5---------------')\n",
"n=16;   //cidr\n",
"fa1=205;  //bytes of 1st address in decimal \n",
"fa2=16;\n",
"fa3=37;\n",
"fa4=32;\n",
"fab1=dec2bin(fa1,8); //convert the bytes to binary\n",
"fab2=dec2bin(fa2,8);\n",
"fab3=dec2bin(fa3,8);\n",
"fab4=dec2bin(fa4,8);\n",
"la4=fa4+n-1;  //determine the last byte of the last address\n",
"lab4=dec2bin(la4,8); //last address in binary\n",
"disp('The block of addresses is');  //display the results \n",
"disp('i) In binary notation :- 1st address = '+fab1+' '+fab2+' '+fab3+' '+fab4)\n",
"disp('  last address = '+fab1+' '+fab2+' '+fab3+' '+lab4)\n",
"printf('\nii) In dotted decimal notation :- 1st address = %d.%d.%d.%d\n\n    last address = %d.%d.%d.%d',fa1,fa2,fa3,fa4,fa1,fa2,fa3,la4);"
   ]
   }
,
{
		   "cell_type": "markdown",
		   "metadata": {},
		   "source": [
			"## Example 19.6: Find_first_address.sce"
		   ]
		  },
  {
"cell_type": "code",
	   "execution_count": null,
	   "metadata": {
	    "collapsed": true
	   },
	   "outputs": [],
"source": [
"clear;\n",
"clc;\n",
"disp('--------------Example 19.6---------------')\n",
"//address :- 205.16.37.39/28\n",
"n=8;    //number of bits i.e 1 byte\n",
"a3=dec2bin(205,n);         // convert decimal numbers to binary numbers\n",
"a2=dec2bin(16,n);\n",
"a1=dec2bin(37,n);\n",
"a0=dec2bin(39,n);\n",
"disp(' Binary notation of the address is '+a3+' '+a2+' '+a1+' '+a0)\n",
"mask= 28;\n",
"num_of_zeros=32-mask; // calculate the number of bits to be set to zero\n",
"a=a3+a2+a1+a0;\n",
"p1=strsplit(a,mask); //truncate the binary address\n",
"p=p1(1);\n",
"for i= 1:num_of_zeros\n",
"    p=p+'0';       //appending zeros\n",
"end\n",
"b=strsplit(p,[8 16 24 ])  //separate the bytes\n",
"b3=bin2dec(b(1));         // convert binary numbers to decimal numbers\n",
"b2=bin2dec(b(2));\n",
"b1=bin2dec(b(3));\n",
"b0=bin2dec(b(4));\n",
"disp(' Binary notation of first address:-  '+b(1)+' '+b(2)+' '+b(3)+' '+b(4))\n",
"printf(' Decimal notation of first address:-  %d.%d.%d.%d',b3,b2,b1,b0);       //result in decimal notation"
   ]
   }
,
{
		   "cell_type": "markdown",
		   "metadata": {},
		   "source": [
			"## Example 19.7: Find_last_address.sce"
		   ]
		  },
  {
"cell_type": "code",
	   "execution_count": null,
	   "metadata": {
	    "collapsed": true
	   },
	   "outputs": [],
"source": [
"clear;\n",
"clc;\n",
"disp('--------------Example 19.7---------------')\n",
"//address :- 205.16.37.39/28\n",
"n=8;    //number of bits i.e 1 byte\n",
"a3=dec2bin(205,n);         // convert decimal numbers to binary numbers\n",
"a2=dec2bin(16,n);\n",
"a1=dec2bin(37,n);\n",
"a0=dec2bin(39,n);\n",
"disp(' Binary notation of the address is '+a3+' '+a2+' '+a1+' '+a0)\n",
"mask= 28;\n",
"num_of_ones=32-mask; // calculate the number of bits to be set to one\n",
"a=a3+a2+a1+a0;\n",
"p1=strsplit(a,mask); //truncate the binary address\n",
"p=p1(1);\n",
"for i= 1:num_of_ones\n",
"    p=p+'1';       //appending ones\n",
"end\n",
"b=strsplit(p,[8 16 24 ])  //separate the bytes\n",
"b3=bin2dec(b(1));         // convert binary numbers to decimal numbers\n",
"b2=bin2dec(b(2));\n",
"b1=bin2dec(b(3));\n",
"b0=bin2dec(b(4));\n",
"disp(' Binary notation of last address:-  '+b(1)+' '+b(2)+' '+b(3)+' '+b(4))\n",
"printf(' Decimal notation of last address:-  %d.%d.%d.%d',b3,b2,b1,b0);       //result in decimal notation"
   ]
   }
,
{
		   "cell_type": "markdown",
		   "metadata": {},
		   "source": [
			"## Example 19.8: number_of_addresses.sce"
		   ]
		  },
  {
"cell_type": "code",
	   "execution_count": null,
	   "metadata": {
	    "collapsed": true
	   },
	   "outputs": [],
"source": [
"clear;\n",
"clc;\n",
"disp('--------------Example 19.8---------------')\n",
"//address :- 205.16.37.39/28\n",
"n=28;   //cidr\n",
"exp_of_2 = 32-n;\n",
"num_of_addresses= 2^(exp_of_2); //formula to calculate number of addresses\n",
"printf('\n The number of addresses in the block is %d.',num_of_addresses); //display the results"
   ]
   }
,
{
		   "cell_type": "markdown",
		   "metadata": {},
		   "source": [
			"## Example 19.9: addresses_using_mask.sce"
		   ]
		  },
  {
"cell_type": "code",
	   "execution_count": null,
	   "metadata": {
	    "collapsed": true
	   },
	   "outputs": [],
"source": [
"clear;\n",
"clc;\n",
"disp('--------------Example 19.9---------------')\n",
"//address :- 205.16.37.39/28\n",
"n=28;\n",
"by=8;    //number of bits i.e 1 byte\n",
"a3=dec2bin(205,by);         // convert decimal numbers to binary numbers\n",
"a2=dec2bin(16,by);\n",
"a1=dec2bin(37,by);\n",
"a0=dec2bin(39,by);\n",
"disp('Binary notation of the address is '+a3+' '+a2+' '+a1+' '+a0)//display address in binary notation\n",
"a=a3+a2+a1+a0;\n",
"mask='';\n",
"for i = 1:n\n",
"    mask=mask+'1'; //adding 1s to the mask\n",
"end\n",
"m=32-n;\n",
"for i = 1:m\n",
"    mask=mask+'0'; //adding 0s to the mask\n",
"end\n",
"ma=strsplit(mask,[8 16 24]);\n",
"disp('The mask is '+ma(1)+' '+ma(2)+' '+ma(3)+' '+ma(4)) //display the mask\n",
"//a) first address\n",
"x=strsplit(a);\n",
"y=strsplit(mask);\n",
"for i= 1:32\n",
"    fa0(i)=bitand(strtod(x(i)),strtod(y(i)));  // perform 'and' of address and mask to get 1st address\n",
"end\n",
"fa1=string(fa0(1:8));\n",
"fa2=string(fa0(9:16));\n",
"fa3=string(fa0(17:24));\n",
"fa4=string(fa0(25:32));\n",
"printf('\na) The first address is '); //display result\n",
"printf('%s',fa1);\n",
"printf(' ');\n",
"printf('%s',fa2);\n",
"printf(' ');\n",
"printf('%s',fa3);\n",
"printf(' ');\n",
"printf('%s',fa4);\n",
"\n",
"//b) last address\n",
"for i=1:32\n",
"    cp0(i)=bitcmp(strtod(y(i)),1);  //find complement of the mask\n",
"end\n",
"for i=1:32\n",
"    la0(i)=bitor(strtod(x(i)),cp0(i)); //perform 'or' of address and complement of the mask\n",
"end\n",
"cp1=string(cp0(1:8));\n",
"cp2=string(cp0(9:16));\n",
"cp3=string(cp0(17:24));\n",
"cp4=string(cp0(25:32));\n",
"printf('\n\nb) The complement of the mask is ');\n",
"printf('%s',cp1);\n",
"printf(' ');\n",
"printf('%s',cp2);\n",
"printf(' ');\n",
"printf('%s',cp3);\n",
"printf(' ');\n",
"printf('%s',cp4);\n",
"\n",
"la1=string(la0(1:8));\n",
"la2=string(la0(9:16));\n",
"la3=string(la0(17:24));\n",
"la4=string(la0(25:32));\n",
"printf('\n\n  The last address is ');  //display the result\n",
"printf('%s',la1);\n",
"printf(' ');\n",
"printf('%s',la2);\n",
"printf(' ');\n",
"printf('%s',la3);\n",
"printf(' ');\n",
"printf('%s',la4);\n",
"\n",
"// c) number of addresses\n",
"cp='';\n",
"for i=1:32\n",
"    cp=cp+string(cp0(i));\n",
"end\n",
"dec=bin2dec(cp);\n",
"num_of_addresses=dec+1;  //  formula to find number of addresses \n",
"printf('\n\nc) The number of addresses is %d.',num_of_addresses); // display the result\n",
""
   ]
   }
],
"metadata": {
		  "kernelspec": {
		   "display_name": "Scilab",
		   "language": "scilab",
		   "name": "scilab"
		  },
		  "language_info": {
		   "file_extension": ".sce",
		   "help_links": [
			{
			 "text": "MetaKernel Magics",
			 "url": "https://github.com/calysto/metakernel/blob/master/metakernel/magics/README.md"
			}
		   ],
		   "mimetype": "text/x-octave",
		   "name": "scilab",
		   "version": "0.7.1"
		  }
		 },
		 "nbformat": 4,
		 "nbformat_minor": 0
}
