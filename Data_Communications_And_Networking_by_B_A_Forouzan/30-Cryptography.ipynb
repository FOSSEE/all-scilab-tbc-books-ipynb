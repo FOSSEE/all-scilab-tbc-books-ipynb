{
"cells": [
 {
		   "cell_type": "markdown",
	   "metadata": {},
	   "source": [
       "# Chapter 30: Cryptography"
	   ]
	},
{
		   "cell_type": "markdown",
		   "metadata": {},
		   "source": [
			"## Example 30.10: Diffie_Hellman_method.sce"
		   ]
		  },
  {
"cell_type": "code",
	   "execution_count": null,
	   "metadata": {
	    "collapsed": true
	   },
	   "outputs": [],
"source": [
"clear;\n",
"clc;\n",
"disp('--------------Example 30.10----------------')\n",
"g=7;\n",
"p=23;\n",
"printf('\nThe steps are as follows:\n\n');\n",
"x=3;\n",
"y=6;\n",
"R1=modulo(g^x,p); // formuula\n",
"R2=modulo(g^y,p); // formula\n",
"printf('1) Alice chooses x = %d and calculates R1 = %d.\n\n2) Bob chooses y = %d and calculates R2 = %d.\n\n3) Alice sends the number %d to Bob.\n\n4) Bob sends the number %d to Alice.\n\n',x,R1,y,R2,R1,R2);\n",
"\n",
"K_Alice=modulo((R2)^x,p); // K calculated by Alice\n",
"K_Bob=modulo((R1)^y,p); // K calculated by Bob\n",
"K=modulo(g^(x*y),p);  // The symmetric (shared) key in the Diffie-Hellman protocol\n",
"printf('5) Alice calculates the symmetric key K =%d.\n\n6) Bob calculates the symmetric key K = %d.\n\n',K_Alice,K_Bob);\n",
"\n",
"// check if the key values are equal and display appropriate result\n",
"if( K_Alice == K_Bob )\n",
"    printf('The value of K is the same for both Alice and Bob. The symmetric key K = %d.',K);\n",
"else\n",
"    printf('The value of K is not the same for both Alice and Bob. It is %d for Alice and %d for Bob.',K_Alice,K_Bob);\n",
"end"
   ]
   }
,
{
		   "cell_type": "markdown",
		   "metadata": {},
		   "source": [
			"## Example 30.1: Monoalphabetic_cipher.sce"
		   ]
		  },
  {
"cell_type": "code",
	   "execution_count": null,
	   "metadata": {
	    "collapsed": true
	   },
	   "outputs": [],
"source": [
"clear;\n",
"clc;\n",
"disp('--------------Example 30.1----------------')\n",
"plaintext=['H' 'E' 'L' 'L' 'O'];\n",
"ciphertext=['K' 'H' 'O' 'O' 'R'];\n",
"L1=ciphertext(3); // 1st L's encryption\n",
"L2=ciphertext(4); // 2nd L's encryption\n",
"// display appropriate result \n",
"if(L1==L2)\n",
"    printf('The cipher is probably monoalphabetic because both occurrences of Ls are encrypted as %ss.',L1);\n",
"else\n",
"    printf('The cipher is polyalphabetic because 1st occurrence of L is encrypted as %s and 2nd occurrence of L is encrypted as %s.',L1,L2);\n",
"end\n",
""
   ]
   }
,
{
		   "cell_type": "markdown",
		   "metadata": {},
		   "source": [
			"## Example 30.2: Polyalphabetic_cipher.sce"
		   ]
		  },
  {
"cell_type": "code",
	   "execution_count": null,
	   "metadata": {
	    "collapsed": true
	   },
	   "outputs": [],
"source": [
"clear;\n",
"clc;\n",
"disp('--------------Example 30.2----------------')\n",
"plaintext=['H' 'E' 'L' 'L' 'O'];\n",
"ciphertext=['A' 'B' 'N' 'Z' 'F'];\n",
"L1=ciphertext(3); // 1st L's encryption\n",
"L2=ciphertext(4); // 2nd L's encryption\n",
"// display appropriate result\n",
"if(L1==L2)\n",
"    printf('The cipher is probably monoalphabetic because both occurrences of Ls are encrypted as %ss.',L1);\n",
"else\n",
"    printf('The cipher is not monoalphabetic because each occurrence of L is encrypted by a different character. The first L is encrypted as %s; the second as %s.',L1,L2);\n",
"end"
   ]
   }
,
{
		   "cell_type": "markdown",
		   "metadata": {},
		   "source": [
			"## Example 30.3: Shiftkey_15_encryption.sce"
		   ]
		  },
  {
"cell_type": "code",
	   "execution_count": null,
	   "metadata": {
	    "collapsed": true
	   },
	   "outputs": [],
"source": [
"clear;\n",
"clc;\n",
"disp('--------------Example 30.3----------------')\n",
"message=['H' 'E' 'L' 'L' 'O'];\n",
"key=15; // shift down key\n",
"alphabet=['A' 'B' 'C' 'D' 'E' 'F' 'G' 'H' 'I' 'J' 'K' 'L' 'M' 'N' 'O' 'P' 'Q' 'R' 'S' 'T' 'U' 'V' 'W' 'X' 'Y' 'Z'];\n",
"ciphertext='';\n",
"\n",
"for k=1:5 // encrypt each character in the message\n",
"    for i=1:26\n",
"        if(message(k)==alphabet(i)) // find the index of the character in the alphabet array\n",
"            break;\n",
"        end\n",
"    end\n",
"    temp=i+15;  // shift down by 15 towards end of the alphabet\n",
"    if(temp > = 26)\n",
"        a=modulo(temp,26); // wrap around thhe alphabet if its greater than 26\n",
"    else\n",
"        a=temp;\n",
"    end\n",
"    ciphertext=ciphertext+alphabet(a); // form the ciphertext\n",
"end\n",
"printf('The cipher text is %s.',ciphertext); // display the result"
   ]
   }
,
{
		   "cell_type": "markdown",
		   "metadata": {},
		   "source": [
			"## Example 30.4: Shiftkey_15_decryptio.sce"
		   ]
		  },
  {
"cell_type": "code",
	   "execution_count": null,
	   "metadata": {
	    "collapsed": true
	   },
	   "outputs": [],
"source": [
"clear;\n",
"clc;\n",
"disp('--------------Example 30.4----------------')\n",
"ciphertext=['W' 'T' 'A' 'A' 'D'];\n",
"key=15; // shift up key\n",
"plaintext='';\n",
"alphabet=['A' 'B' 'C' 'D' 'E' 'F' 'G' 'H' 'I' 'J' 'K' 'L' 'M' 'N' 'O' 'P' 'Q' 'R' 'S' 'T' 'U' 'V' 'W' 'X' 'Y' 'Z'];\n",
"\n",
"for k=1:5  // decrypt each character in the ciphertext\n",
"    for i=1:26\n",
"        if(ciphertext(k)==alphabet(i))  // find the index of the character in the alphabet array\n",
"            break;\n",
"        end\n",
"    end\n",
"    temp=i-15; // shift up by 15 towards the beginning of the alphabet\n",
"    if(temp < = 0)\n",
"        a=26+temp;\n",
"        if(a>26)\n",
"            a=modulo(a,26); // wrapping around the alphabet\n",
"        end\n",
"\n",
"    else\n",
"        a=temp;\n",
"    end\n",
"    plaintext=plaintext+alphabet(a); // form the plain text\n",
"end\n",
"printf('The plain text is %s.',plaintext);  // display the result"
   ]
   }
,
{
		   "cell_type": "markdown",
		   "metadata": {},
		   "source": [
			"## Example 30.5: Encryption_of_message.sce"
		   ]
		  },
  {
"cell_type": "code",
	   "execution_count": null,
	   "metadata": {
	    "collapsed": true
	   },
	   "outputs": [],
"source": [
"clear;\n",
"clc;\n",
"disp('--------------Example 30.5----------------')\n",
"message=['H' 'E' 'L' 'L' 'O' ' ' 'M' 'Y' ' ' 'D' 'E' 'A' 'R'];  // HELLO MY DEAR\n",
"l=size(message,'c'); // length of message\n",
"ns='';\n",
"ciphertext='';\n",
"for i=1:l\n",
"    if(message(i)==' ')  // remove the spaces\n",
"        continue;\n",
"    else\n",
"        ns=ns+message(i); // form message with no spaces\n",
"    end\n",
"    \n",
"end\n",
"\n",
"block=strsplit(ns,[4 8]);  // split the message into blocks of 4\n",
"nz=4-length(block(3));  // number of 'Z's to be added to the last block\n",
"\n",
"for i=1:nz\n",
"    block(3)=block(3)+'Z';  // adding 'Z's to the last block\n",
"end\n",
"f=[];\n",
"for i=1:size(block,'r') // for each block \n",
"    c=strsplit(block(i));\n",
"    f(1)=c(2); // move the character at position 2 to position 1\n",
"    f(2)=c(4); // move the character at position 4 to position 2\n",
"    f(3)=c(1); // move the character at position 1 to position 3\n",
"    f(4)=c(3); // move the character at position 3 to position 4\n",
"    str=f(1)+f(2)+f(3)+f(4); // new block\n",
"    ciphertext=ciphertext+str; // form the ciphertext\n",
"end\n",
"// display the result\n",
"printf('The 3 blocks are %s , %s and %s.',block(1),block(2),block(3));\n",
"printf('\n\nThe ciphertext is %s .',ciphertext)"
   ]
   }
,
{
		   "cell_type": "markdown",
		   "metadata": {},
		   "source": [
			"## Example 30.6: Decryption_of_message.sce"
		   ]
		  },
  {
"cell_type": "code",
	   "execution_count": null,
	   "metadata": {
	    "collapsed": true
	   },
	   "outputs": [],
"source": [
"clear;\n",
"clc;\n",
"disp('--------------Example 30.6----------------')\n",
"ciphertext='ELHLMDOYAZER';\n",
"block=strsplit(ciphertext,[4 8]);  // split into blocks\n",
"\n",
"f=[];\n",
"for i=1:size(block,'r') // for each block \n",
"    c=strsplit(block(i));\n",
"    f(2)=c(1); // move the character at position 1 to position 2\n",
"    f(4)=c(2); // move the character at position 2 to position 4\n",
"    f(1)=c(3); // move the character at position 3 to position 1\n",
"    f(3)=c(4); // move the character at position 4 to position 3\n",
"    str=f(1)+f(2)+f(3)+f(4); \n",
"    block(i)=str;// new block\n",
"end\n",
"printf('The 3 blocks are %s , %s and %s.',block(1),block(2),block(3));\n",
"nz=0;\n",
"b3=strsplit(block(3));\n",
"for i=1:4\n",
"    if(b3(i)=='Z');\n",
"        nz=nz+1; // number of 'Z's in the last block\n",
"    end\n",
"    \n",
"end\n",
"\n",
"  f=strsplit(block(3),size(b3,'r')-nz);  // remove the 'Z's in the last block\n",
"block(3)=f(1);  // new last block\n",
"\n",
"text=block(1)+block(2)+block(3);\n",
"sp=strsplit(text,[5 7]);\n",
"plaintext=sp(1)+' '+sp(2)+' '+sp(3); // add the spaces\n",
"printf('\n\nThe message is %s.',plaintext) // display the result"
   ]
   }
,
{
		   "cell_type": "markdown",
		   "metadata": {},
		   "source": [
			"## Example 30.7: RSA_plaintext_5.sce"
		   ]
		  },
  {
"cell_type": "code",
	   "execution_count": null,
	   "metadata": {
	    "collapsed": true
	   },
	   "outputs": [],
"source": [
"clear;\n",
"clc;\n",
"disp('--------------Example 30.7----------------')\n",
"p=7;\n",
"q=11;\n",
"n=p*q; // formula\n",
"phi=(p-1)*(q-1); // formula\n",
"e=13; \n",
"d=1; // not actual 'd' value; it has to be computed\n",
"t=1;\n",
"P=5;\n",
"plaintext=P;\n",
"while t==1 do  // compute d such that d*e = 1 mod n\n",
"    if(modulo(e*d,phi)== 1)\n",
"        t=0;\n",
"    else\n",
"        d=d+1;\n",
"    end\n",
"end\n",
" // encryption by Alice\n",
"C=modulo(P^e,n); // formula\n",
"printf('Alice sends the plaintext %d to Bob. She uses the public key %d to encrypt %d.\nBob receives the ciphertext %d and uses the private key %d to decipher the ciphertext.',P,e,P,C,d); // display the result\n",
"\n",
"// decryption by Bob\n",
"P=modulo(C^d,n); // formula\n",
"printf('\n\nThe plaintext %d sent by Alice is received as plaintext %d by Bob.',plaintext,plaintext); // display the result"
   ]
   }
,
{
		   "cell_type": "markdown",
		   "metadata": {},
		   "source": [
			"## Example 30.8: RSA_message_NO.sce"
		   ]
		  },
  {
"cell_type": "code",
	   "execution_count": null,
	   "metadata": {
	    "collapsed": true
	   },
	   "outputs": [],
"source": [
"clear;\n",
"clc;\n",
"disp('--------------Example 30.8----------------')\n",
"p=397;\n",
"q=401;\n",
"n=p*q; // formula\n",
"phi=(p-1)*(q-1); // formula\n",
"e=343; \n",
"d=1;  // not actual 'd' value; it has to be computed\n",
"message=['N' 'O']; // NO\n",
"t=1;\n",
"alphabet=['A' 'B' 'C' 'D' 'E' 'F' 'G' 'H' 'I' 'J' 'K' 'L' 'M' 'N' 'O' 'P' 'Q' 'R' 'S' 'T' 'U' 'V' 'W' 'X' 'Y' 'Z'];\n",
"// Encryption process by Ted\n",
"while t==1 do  // compute d such that d*e = 1 mod n\n",
"    if(modulo(e*d,phi)== 1)\n",
"        t=0;\n",
"    else\n",
"        d=d+1;\n",
"    end\n",
"end\n",
"l=size(message,'c'); // length of the message\n",
"c=[];\n",
"for k=1:l // determine the code for each character in the message\n",
"    for i=1:26\n",
"        if(message(k)==alphabet(i))\n",
"            c(k)=i-1;  // compute the code\n",
"            break;\n",
"        end\n",
"    end\n",
"end\n",
"plaintext=c(1)*100+c(2); // form the plaintext\n",
"\n",
"//C=modulo((plaintext)^e,n) -- formula to find the ciphertext\n",
"ciphertext=33677; // from calculation\n",
"printf('\nThe plaintext is %d and the ciphertext sent by Ted is %d.\n',plaintext,ciphertext); // display the result\n",
"\n",
"//  Decryption by Jennifer\n",
"\n",
"//P=modulo((ciphertext)^d,n);  -- formula to find the plaintext\n",
"P=1314; // the plaintext that is computed\n",
"// separate the codes for each character\n",
"c(2)=modulo(P,100);\n",
"c(1)=floor(P/100);\n",
"d_message='';  // deciphered message\n",
"for k=1:l // find the corresponding letter for each code\n",
"    for i=1:26\n",
"        if(i==c(k)+1)\n",
"            d_message=d_message+alphabet(i);  // form the deciphered message\n",
"        end\n",
"        \n",
"    end\n",
"end\n",
"printf('\nJennifer deciphers the ciphertext %d as the plaintext %d and decodes it as the message %s.',ciphertext,P,d_message) // display the result"
   ]
   }
,
{
		   "cell_type": "markdown",
		   "metadata": {},
		   "source": [
			"## Example 30.9: RSA_realistic_example.sce"
		   ]
		  },
  {
"cell_type": "code",
	   "execution_count": null,
	   "metadata": {
	    "collapsed": true
	   },
	   "outputs": [],
"source": [
"clear;\n",
"clc;\n",
"disp('--------------Example 30.9----------------')\n",
"p=9613034531358350457419158128061542790930984559499621582258315087964794045505647063849125716018034750312098666606492420191808780667421096063354219926661209; // 159 digit number\n",
"q=12060191957231446918276794204450896001555925054637033936061798321731482148483764659215389453209175225273226830107120695604602513887145524969000359660045617; // 160 digit number\n",
"n=p*q; // formula\n",
"phi=(p-1)*(q-1);// formula\n",
"e=35535;\n",
"d='580083028600377639360936612896779175946690620896509621804228661113805938528223587317062869100300217108590443384021707298690876006115306202524959884448047568240966247081485817130463240644077704833134010850947385295645071936774061197326557424237217617674620776371642076003370853332885321447088955136670294831'; // compute d such that d*e = 1 mod n ( very huge value to compute)\n",
"alphabet=['A' 'B' 'C' 'D' 'E' 'F' 'G' 'H' 'I' 'J' 'K' 'L' 'M' 'N' 'O' 'P' 'Q' 'R' 'S' 'T' 'U' 'V' 'W' 'X' 'Y' 'Z' ' '];\n",
"p_str='9613034531358350457419158128061542790930984559499621582258315087964794045505647063849125716018034750312098666606492420191808780667421096063354219926661209';\n",
"q_str='12060191957231446918276794204450896001555925054637033936061798321731482148483764659215389453209175225273226830107120695604602513887145524969000359660045617';\n",
"n_str='11593504I739676149688925098646158875237714573754541447754855261376147885408326350817276878815968325168468849300625485764111250162414552339182927162507656772727460097082714127730434960500556347274566628060099924037102991424472292215772798531727033839381334692684137327622000966676671831831088373420823444370953'; // 309 digits\n",
"phi_str='115935041739676149688925098646158875237714573754541447754855261376147885408326350817276878815968325168468849300625485764111250162414552339182927162507656751054233608492916752034482627988117554787657013923444405716989581728196098226361075467211864612171359107358640614008885170265377271264467341066243857664128'; // 309 digits\n",
"// encoding by Alice\n",
"message=['T' 'H' 'I' 'S' ' ' 'I' 'S' ' ' 'A' ' ' 'T' 'E' 'S' 'T']; //THIS IS A TEST\n",
"l=size(message,'c'); // length of the message\n",
"c=[];\n",
"plaintext='';\n",
"for k=1:l // determine the code for each character in the message\n",
"    for i=1:27\n",
"        if(message(k)==alphabet(i))\n",
"            c(k)=string(i-1);  // compute the code\n",
"            if(length(c(k))==1)\n",
"                c(k)='0'+c(k);\n",
"            end\n",
"            break;\n",
"        end\n",
"    end\n",
"end\n",
"for i=1:l\n",
"    plaintext=plaintext+c(i); // form the plaintext , code 26 is for space\n",
"end\n",
"P=plaintext;\n",
"C='47530912364622682720636555061054518094237179607049171652323924305445296061319932856661784341835911415119741125200568297979457173603610127821884789274156609048002350719071527718591497518846588863210114835410336165789846796838676373376577746562507928052114814184404814184430812773059004692874248559166462108656'; // C= P^e -- ciphertext ( very huge value to compute)\n",
"printf('p = %s\n\nq = %s\n\nn = %s\n\nphi = %s\n\ne = %d\n\nd = %s\n\n',p_str,q_str,n_str,phi_str,e,d);\n",
"printf('The plaintext is %s and the ciphertext sent by Alice is\nC = %s\n\n',P,C);\n",
"// Decoding by Bob\n",
"P='1907081826081826002619041819'; // P=C^d -- plaintext (very huge to compute)\n",
"d_message=''; \n",
"c=strsplit(P,[2 4 6 8 10 12 14 16 18 20 22 24 26]); // separate the codes for each character\n",
"for k=1:l // find the corresponding letter for each code\n",
"    for i=1:27\n",
"        a=string(i-1);\n",
"        b=strsplit(c(k));\n",
"        if(b(1)=='0')\n",
"            c(k)=b(2);\n",
"        end\n",
"        if(a==c(k))\n",
"            d_message=d_message+alphabet(i);  // form the deciphered message\n",
"            break;\n",
"        end\n",
"    end\n",
"end\n",
"printf('\nBob recovers the plaintext %s and decodes it as the message %s.',P,d_message);"
   ]
   }
],
"metadata": {
		  "kernelspec": {
		   "display_name": "Scilab",
		   "language": "scilab",
		   "name": "scilab"
		  },
		  "language_info": {
		   "file_extension": ".sce",
		   "help_links": [
			{
			 "text": "MetaKernel Magics",
			 "url": "https://github.com/calysto/metakernel/blob/master/metakernel/magics/README.md"
			}
		   ],
		   "mimetype": "text/x-octave",
		   "name": "scilab",
		   "version": "0.7.1"
		  }
		 },
		 "nbformat": 4,
		 "nbformat_minor": 0
}
