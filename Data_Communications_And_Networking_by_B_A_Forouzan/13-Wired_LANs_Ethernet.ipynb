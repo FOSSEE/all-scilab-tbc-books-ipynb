{
"cells": [
 {
		   "cell_type": "markdown",
	   "metadata": {},
	   "source": [
       "# Chapter 13: Wired LANs Ethernet"
	   ]
	},
{
		   "cell_type": "markdown",
		   "metadata": {},
		   "source": [
			"## Example 13.1: Define_the_type.sce"
		   ]
		  },
  {
"cell_type": "code",
	   "execution_count": null,
	   "metadata": {
	    "collapsed": true
	   },
	   "outputs": [],
"source": [
"clear;\n",
"clc;\n",
"disp('--------------Example 13.1---------------')\n",
"\n",
"// function to check if thhe 2nd hex digit from the left is even or odd\n",
"function []=check (a)\n",
"\n",
"    s=strsplit(a,[1,2]); // extract the 2nd hex digit from left\n",
"    d= hex2dec(s(2));\n",
"    bin=dec2bin(d,4); // convert to binary\n",
"    bits=strsplit(bin,3); // least significant bit\n",
"    lb=bits(2);\n",
"    \n",
"    if(lb=='0') // check if even or odd\n",
"        printf('This is a unicast address because the second hexadecimal digit from the left i.e %s in binary is %s and is even.\n',s(2),bin);\n",
"    else\n",
"        printf('This is a multicast address because the second hexadecimal digit from the left i.e %s in binary is %s and is odd.\n',s(2),bin);\n",
"    end\n",
"endfunction\n",
"\n",
"// a) 4A:30:10:21:1O:1A\n",
"a='4A:30:10:21:1O:1A';\n",
"printf('\na)');\n",
"check(a); // calling the function\n",
"\n",
"// b) 47:20:1B:2E:08:EE\n",
"b='47:20:1B:2E:08:EE';\n",
"printf('\nb)');\n",
"check(b); // calling the function\n",
"\n",
"// c) FF:FF:FF:FF:FF:FF\n",
"c='FF:FF:FF:FF:FF:FF';\n",
"s = strsplit(c,':',6); // split into 2 hex digits\n",
"for i=1:6\n",
"    if(s(i)=='FF') // check if equal to FF\n",
"        continue;\n",
"    else\n",
"        break;\n",
"    end\n",
"    \n",
"end\n",
"if(i==6)\n",
"    printf('\nc)This is a broadcast address because all digits are Fs.') //print the result\n",
"end\n",
""
   ]
   }
,
{
		   "cell_type": "markdown",
		   "metadata": {},
		   "source": [
			"## Example 13.2: Sending_the_address.sce"
		   ]
		  },
  {
"cell_type": "code",
	   "execution_count": null,
	   "metadata": {
	    "collapsed": true
	   },
	   "outputs": [],
"source": [
"clear;\n",
"clc;\n",
"disp('--------------Example 13.2---------------')\n",
"// address = 47:20:1B:2E:08:EE\n",
"address = '47:20:1B:2E:08:EE';\n",
"\n",
"function[bin_str]=bin_address (address) // function to convert address in hexadecimal to binary\n",
"    b=strsplit(address);\n",
"    bin_str='';\n",
"    for i=1:length(address)\n",
"        if(modulo(i,3)==0)  // to exclude ':'\n",
"            continue;\n",
"        else\n",
"            d=hex2dec(b(i));\n",
"            bin=dec2bin(d,4);\n",
"            bin_str=bin_str+bin;  // address in binary\n",
"        end\n",
"        \n",
"    end\n",
"endfunction\n",
"bin_str=bin_address(address);\n",
"\n",
"function [addr] = revstr(bin_str) // function to reverse the nibbles in the address\n",
"    str_nibble=strsplit(bin_str,[4 8 12 16 20 24 28 32 36 40 44 ]);\n",
"    addr='';\n",
"    for i=1:12\n",
"        rev=strrev(str_nibble(i));\n",
"        addr=addr+rev; // resultant string\n",
"    end\n",
"endfunction\n",
"addr=revstr(bin_str);\n",
"bytes=strsplit(addr,[8 16 24 32 40]);  // spilt into bytes\n",
"\n",
"function [bytes]=exchgnib(bytes) // function to exchange the nibbles in each byte\n",
"    for i=1:6\n",
"        nib=strsplit(bytes(i),4);\n",
"        \n",
"        temp=nib(1); // exachanging nibbles\n",
"        nib(1)=nib(2);\n",
"        nib(2)=temp;\n",
"        bytes(i)=nib(1)+nib(2);\n",
"    end\n",
"endfunction\n",
"bytes=exchgnib(bytes); // final address\n",
"printf('\nThe address is sent left-to-right, byte by byte; for each byte, it is sent right-to-left, bit by bit, as :\n\n       %s %s %s %s %s %s',bytes(1),bytes(2),bytes(3),bytes(4),bytes(5),bytes(6));"
   ]
   }
],
"metadata": {
		  "kernelspec": {
		   "display_name": "Scilab",
		   "language": "scilab",
		   "name": "scilab"
		  },
		  "language_info": {
		   "file_extension": ".sce",
		   "help_links": [
			{
			 "text": "MetaKernel Magics",
			 "url": "https://github.com/calysto/metakernel/blob/master/metakernel/magics/README.md"
			}
		   ],
		   "mimetype": "text/x-octave",
		   "name": "scilab",
		   "version": "0.7.1"
		  }
		 },
		 "nbformat": 4,
		 "nbformat_minor": 0
}
