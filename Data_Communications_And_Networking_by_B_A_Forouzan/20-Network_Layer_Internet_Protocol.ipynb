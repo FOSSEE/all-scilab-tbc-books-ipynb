{
"cells": [
 {
		   "cell_type": "markdown",
	   "metadata": {},
	   "source": [
       "# Chapter 20: Network Layer Internet Protocol"
	   ]
	},
{
		   "cell_type": "markdown",
		   "metadata": {},
		   "source": [
			"## Example 20.10: IPv4_header_checksum.sce"
		   ]
		  },
  {
"cell_type": "code",
	   "execution_count": null,
	   "metadata": {
	    "collapsed": true
	   },
	   "outputs": [],
"source": [
"clear;\n",
"clc;\n",
"disp('--------------Example 20.10---------------')\n",
"source_address='10.12.14.5';\n",
"destination_address='12.6.7.9';\n",
"// convert all the fields to hexadecimal\n",
"a1=hex2dec('4500');\n",
"a2=28;\n",
"a3=1;\n",
"a4=0;\n",
"a5=hex2dec('0411');\n",
"a6=0;\n",
"a7=hex2dec('0A0C');\n",
"a8=hex2dec('0E05');\n",
"a9=hex2dec('0C06');\n",
"a10=hex2dec('0709');\n",
"d_sum=a1+a2+a3+a4+a5+a6+a7+a8+a9+a10; // find the sum of all fielda\n",
"Sum=dec2hex(d_sum);\n",
"c=bitcmp(d_sum,16); // complement sum\n",
"Checksum=dec2hex(c);\n",
"printf('Figure shows an example of a checksum calculation for an IPv4 header without options. The header is divided into 16-bit sections.\nAll the sections are added and the sum is complemented.The sum is %s and the checksum is %s.\nThe result is inserted in the checksum field.',Sum,Checksum); // display result\n",
"// display the figure\n",
"clf();\n",
"xname('--------------Example 20.10----------------');\n",
"xrects([.28 .33 .38 .44;.8 .8 .8 .8;.05 .05 .06 .16;.06 .06 .06 .06]);\n",
"xrects([.28 .44 .52;.74 .74 .74 ;.16 .08 .08 ;.06 .06 .06 ]);\n",
"xrects([.28 .36 .44 ;.68 .68 .68 ;.08 .08 .16 ;.06 .06 .06 ]);\n",
"xrect(.28,.62,.32,.06);\n",
"xrect(.28,.56,.32,.06);\n",
"for i=0:9\n",
"    xarrows([.38 .42],[.47-(i/25) .47-(i/25)],.3);\n",
"end\n",
"xarrows([.38 .42],[.04 .04],.3);\n",
"xarrows([.38 .42],[.002 .002],.3);\n",
"xpoly([.44 .52],[.06 .06]);\n",
"xset('font size',3);\n",
"xstring(.34,.033,'Sum');\n",
"xstring(.3,.00001,'Checksum');\n",
"xstring(.3,.46,'4,5 and 0');\n",
"xstring(.35,.42,'28');\n",
"xstring(.36,.38,'1');\n",
"xstring(.31,.34,'0 and 0');\n",
"xstring(.31,.3,'4 and 17');\n",
"xstring(.44,.46,'4  5  0  0');\n",
"xstring(.44,.42,'0  0  1  C');\n",
"xstring(.44,.38,'0  0  0  1');\n",
"xstring(.44,.34,'0  0  0  0');\n",
"xstring(.44,.3,'0  4  1  1');\n",
"xstring(.44,.26,'0  0  0  0');\n",
"xstring(.44,.22,'0  A  0  C');\n",
"xstring(.44,.18,'0  E  0  5');\n",
"xstring(.44,.14,'0  C  0  6');\n",
"xstring(.44,.1,'0  7  0  9');\n",
"xstring(.44,.031,'7  4  4  E');\n",
"xstring(.44,.000001,'8  B  B  1');\n",
"xstring(.36,.26,'0');\n",
"xstring(.33,.22,'10.12');\n",
"xstring(.34,.18,'14.5');\n",
"xstring(.34,.14,'12.6');\n",
"xstring(.35,.1,'7.9');\n",
"xstring(.4,.565,source_address);\n",
"xstring(.41,.51,destination_address);\n",
"xstring(.3,.75,' 4         5         0                       28');\n",
"xstring(.35 ,.69,'1                         0                0');\n",
"xstring(.31,.63,'4                 17                      0');\n",
"xpoly([.51 .55],[.02 0.02]);\n",
"xarrows([.55 .55],[0.02 .65],.6);"
   ]
   }
,
{
		   "cell_type": "markdown",
		   "metadata": {},
		   "source": [
			"## Example 20.1: Acceptance_of_packet.sce"
		   ]
		  },
  {
"cell_type": "code",
	   "execution_count": null,
	   "metadata": {
	    "collapsed": true
	   },
	   "outputs": [],
"source": [
"clear;\n",
"clc;\n",
"disp('--------------Example 20.1---------------')\n",
"// 01000010  - first 8 bits of IP4 packet\n",
"p='01000010';\n",
"s=strsplit(p,4); // split into two\n",
"v=bin2dec(s(1)); // version \n",
"d=bin2dec(s(2)); // header length \n",
"bytes=d*4; // formula\n",
"if(((bytes > = 20 )&((v == 4) |(v == 6)))) //minimum number of bytes is 20 and version should be IP4 or IP6\n",
"    printf('The packet is accepted .');\n",
"else\n",
"    printf('There is an error in this packet. The 4 leftmost bits %s show the version, which is correct.\nThe next 4 bits %s show an invalid header length %d. The minimum number of bytes in the header must be 20.\nThe packet has been corrupted in transmission.',s(1),s(2),bytes); // display result"
   ]
   }
,
{
		   "cell_type": "markdown",
		   "metadata": {},
		   "source": [
			"## Example 20.2: Bytes_of_options.sce"
		   ]
		  },
  {
"cell_type": "code",
	   "execution_count": null,
	   "metadata": {
	    "collapsed": true
	   },
	   "outputs": [],
"source": [
"clear;\n",
"clc;\n",
"disp('--------------Example 20.2---------------')\n",
"HLEN='1000';\n",
"d=bin2dec(HLEN); //convert to decimal\n",
"bytes=d*4; // formula\n",
"base_header=20;\n",
"options=bytes-base_header; // formula\n",
"printf('The total number of bytes in the header is %d bytes.The first %d bytes are the base header, the next %d bytes are the options.',bytes,base_header,options); // display result"
   ]
   }
,
{
		   "cell_type": "markdown",
		   "metadata": {},
		   "source": [
			"## Example 20.3: Bytes_of_data.sce"
		   ]
		  },
  {
"cell_type": "code",
	   "execution_count": null,
	   "metadata": {
	    "collapsed": true
	   },
	   "outputs": [],
"source": [
"clear;\n",
"clc;\n",
"disp('--------------Example 20.3---------------')\n",
"HLEN=5;\n",
"total_length='0028'; // 0x0028 in hexadecimal\n",
"total_bytes=hex2dec(total_length); // get length in decimal or total bytes\n",
"header_bytes = HLEN*4; // number of header bytes\n",
"data_bytes=total_bytes-header_bytes; // formula\n",
"printf(' The total length is %d bytes. The total number of bytes in the header is %d bytes, which means the packet is carrying %d bytes of data.',total_bytes,header_bytes,data_bytes);  // display result\n",
"\n",
"\n",
" "
   ]
   }
,
{
		   "cell_type": "markdown",
		   "metadata": {},
		   "source": [
			"## Example 20.4: Time_and_protocol.sce"
		   ]
		  },
  {
"cell_type": "code",
	   "execution_count": null,
	   "metadata": {
	    "collapsed": true
	   },
	   "outputs": [],
"source": [
"clear;\n",
"clc;\n",
"disp('--------------Example 20.4---------------')\n",
"// packet = Ox45000028000100000102\n",
"packet='45000028000100000102';\n",
"bytes=strsplit(packet,[2 4 6 8 10 12 14 16 18 ]); // split the packet into bytes\n",
"time_to_live=hex2dec(bytes(9));\n",
"printf('The time-to-live field is the ninth byte, which is %s. Hence the packet can travel %d hop.\n',bytes(9),time_to_live);\n",
"protocol_field=hex2dec(bytes(10));\n",
"select protocol_field  // display the result according to the protocol\n",
"case 1\n",
"    printf('The protocol field is the next byte i.e %s, which means that the upper-layer protocol is ICMP.',bytes(10));\n",
"case 2\n",
"    printf('The protocol field is the next byte i.e %s, which means that the upper-layer protocol is IGMP.',bytes(10));\n",
"case 6\n",
"    printf('The protocol field is the next byte i.e %s, which means that the upper-layer protocol is TCP.',bytes(10));\n",
"case 17\n",
"    printf('The protocol field is the next byte i.e %s, which means that the upper-layer protocol is UDP.',bytes(10));\n",
"case 89\n",
"    printf('The protocol field is the next byte i.e %s, which means that the upper-layer protocol is OSPF'.,bytes(10));\n",
"end"
   ]
   }
,
{
		   "cell_type": "markdown",
		   "metadata": {},
		   "source": [
			"## Example 20.5: M_equals_0.sce"
		   ]
		  },
  {
"cell_type": "code",
	   "execution_count": null,
	   "metadata": {
	    "collapsed": true
	   },
	   "outputs": [],
"source": [
"clear;\n",
"clc;\n",
"disp('--------------Example 20.5---------------')\n",
"M_bit = 0;\n",
"if(M_bit==0) // display the result according to the value of the M bit\n",
"    printf('There are no more fragments; this fragment is the last one.');\n",
"else\n",
"    printf('There are more fragments; this fragment is not the last one.');\n",
"end\n",
"printf('\nHowever, it cannot be determined if the original packet was fragmented or not. A non-fragmented packet is considered the last fragment.');"
   ]
   }
,
{
		   "cell_type": "markdown",
		   "metadata": {},
		   "source": [
			"## Example 20.6: M_equals_1.sce"
		   ]
		  },
  {
"cell_type": "code",
	   "execution_count": null,
	   "metadata": {
	    "collapsed": true
	   },
	   "outputs": [],
"source": [
"clear;\n",
"clc;\n",
"disp('--------------Example 20.6---------------')\n",
"M_bit = 1;\n",
"if(M_bit==0) // display the result according to the value of the M bit\n",
"    printf('There are no more fragments; this fragment is the last one.');\n",
"else\n",
"    printf('There is at least one more fragment. This fragment can be the first one or a middle one, but not the last one.\nIt cannot be determined if it is the first one or a middle one. The value of the fragmentation offset is needed to determine this.');\n",
"end"
   ]
   }
,
{
		   "cell_type": "markdown",
		   "metadata": {},
		   "source": [
			"## Example 20.7: M_and_offset.sce"
		   ]
		  },
  {
"cell_type": "code",
	   "execution_count": null,
	   "metadata": {
	    "collapsed": true
	   },
	   "outputs": [],
"source": [
"clear;\n",
"clc;\n",
"disp('--------------Example 20.7---------------')\n",
"M_bit = 1;\n",
"fragmentation_offset = 0;\n",
"if(M_bit==0) // display the result according to the value of the M bit\n",
"    printf('There are no more fragments; this fragment is the last one.');\n",
"else\n",
"    if(fragmentation_offset == 0) // display the result according to the value of the fragmentation offset\n",
"        printf('The M bit is %d and the offset value is %d. Hence it is the first fragment.',M_bit,fragmentation_offset);\n",
"    else\n",
"        printf('It is not first or last fragment. It can be any fragment in between.');\n",
"    end\n",
"    \n",
"end"
   ]
   }
,
{
		   "cell_type": "markdown",
		   "metadata": {},
		   "source": [
			"## Example 20.8: First_byte_number.sce"
		   ]
		  },
  {
"cell_type": "code",
	   "execution_count": null,
	   "metadata": {
	    "collapsed": true
	   },
	   "outputs": [],
"source": [
"clear;\n",
"clc;\n",
"disp('--------------Example 20.8----------------')\n",
"offset = 100;\n",
"first_byte=offset*8; // formula\n",
"printf('The first byte number is %d. The number of the last byte cannot be determined as the length of the data is unknown.',first_byte); // length of data is unknown"
   ]
   }
,
{
		   "cell_type": "markdown",
		   "metadata": {},
		   "source": [
			"## Example 20.9: First_and_last_byte_number.sce"
		   ]
		  },
  {
"cell_type": "code",
	   "execution_count": null,
	   "metadata": {
	    "collapsed": true
	   },
	   "outputs": [],
"source": [
"clear;\n",
"clc;\n",
"disp('--------------Example 20.9----------------')\n",
"offset = 100;\n",
"HLEN=5;\n",
"total_length_field=100; // 100 bytes\n",
"first_byte=offset*8; // formula\n",
"header_bytes=HLEN*4; // formula\n",
"data_bytes=total_length_field-header_bytes; // formula\n",
"last_byte=first_byte+data_bytes-1; // formula\n",
"printf('The first byte number is %d and the last byte number is %d.',first_byte,last_byte);  // display result\n",
""
   ]
   }
],
"metadata": {
		  "kernelspec": {
		   "display_name": "Scilab",
		   "language": "scilab",
		   "name": "scilab"
		  },
		  "language_info": {
		   "file_extension": ".sce",
		   "help_links": [
			{
			 "text": "MetaKernel Magics",
			 "url": "https://github.com/calysto/metakernel/blob/master/metakernel/magics/README.md"
			}
		   ],
		   "mimetype": "text/x-octave",
		   "name": "scilab",
		   "version": "0.7.1"
		  }
		 },
		 "nbformat": 4,
		 "nbformat_minor": 0
}
