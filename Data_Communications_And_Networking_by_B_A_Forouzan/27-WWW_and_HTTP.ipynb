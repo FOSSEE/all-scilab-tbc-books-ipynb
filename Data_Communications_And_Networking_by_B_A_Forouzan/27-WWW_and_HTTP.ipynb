{
"cells": [
 {
		   "cell_type": "markdown",
	   "metadata": {},
	   "source": [
       "# Chapter 27: WWW and HTTP"
	   ]
	},
{
		   "cell_type": "markdown",
		   "metadata": {},
		   "source": [
			"## Example 27.1: Retrieving_document_using_GET.sce"
		   ]
		  },
  {
"cell_type": "code",
	   "execution_count": null,
	   "metadata": {
	    "collapsed": true
	   },
	   "outputs": [],
"source": [
"clear;\n",
"clc;\n",
"disp('--------------Example 27.1---------------')\n",
"// display the example\n",
"printf('This example retrieves a document. We use the GET method to retrieve an image with the path /usr/bin/image1.\nThe request line shows the method (GET), the URL, and the HTTP version(1.1).\nThe header has two lines that show that the client can accept images in the GIF or JPEG format.\nThe request does not have a body. The response message contains the status line\nand four lines of header. The header lines define the date, server,\nMIME version, and length of the document. The body of the document follows the header.');\n",
"// figure\n",
"printf('\n\n  Client                                           Server\n');\n",
"printf('   |           Request (GET method)                    |\n');\n",
"printf('   |            _____________________________          |\n');\n",
"printf('   |-----------|GET /usr/bin/image1 HTTP/1.1 |-------->|\n');\n",
"printf('   |           |Accept: image/gif            |         |\n');\n",
"printf('   |           |Accept: image/jpeg           |         |\n');\n",
"printf('   |           |_____________________________|         |\n');\n",
"printf('   |                                                   |\n');\n",
"printf('   |            _____________________________          |\n');\n",
"printf('   |           |HTTP/l.l 200 OK              |         |\n');\n",
"printf('   |           |Date:Mon07-Jan-05 13:15:14GMT|         |\n');\n",
"printf('   |<----------|Server: Challenger           |---------|\n');\n",
"printf('   |           |MIME-version: 1.0            |         |\n');\n",
"printf('   |           |Content-length: 2048         |         |\n');\n",
"printf('   |           |                             |         |\n');\n",
"printf('   |           |(Body of the document)       |         |\n');\n",
"printf('   |           |_____________________________|         |\n');\n",
"printf('   |           Response                                |\n');"
   ]
   }
,
{
		   "cell_type": "markdown",
		   "metadata": {},
		   "source": [
			"## Example 27.2: Send_data_using_POST.sce"
		   ]
		  },
  {
"cell_type": "code",
	   "execution_count": null,
	   "metadata": {
	    "collapsed": true
	   },
	   "outputs": [],
"source": [
"clear;\n",
"clc;\n",
"disp('--------------Example 27.2---------------')\n",
"// display the example\n",
"printf('In this example, the client wants to send data to the server. The POST method is used. The request line shows the method (POST),\nURL, and HTTP version (1.1). There are four lines of headers. The request body contains the input information. The response message contains\nthe status line and four lines of headers. The created document, which is a CGI document, is included as the body.');\n",
"// figure\n",
"printf('\n\n  Client                                           Server\n');\n",
"printf('   |            Request (POST method)                  |\n');\n",
"printf('   |           ______________________________          |\n');\n",
"printf('   |----------|POST /cgi-bin/doc.pl HTTP/1.1 |-------->|\n');\n",
"printf('   |          |Accept: */*                   |         |\n');\n",
"printf('   |          |Accept: image/gif             |         |\n');\n",
"printf('   |          |Accept: image/jpeg            |         |\n');\n",
"printf('   |          |Content-length: 50            |         |\n');\n",
"printf('   |          |                              |         |\n');\n",
"printf('   |          |(Input information)           |         |\n');\n",
"printf('   |          |______________________________|         |\n');\n",
"printf('   |                                                   |\n');\n",
"printf('   |            _____________________________          |\n');\n",
"printf('   |          |HTTP/1.1 200 OK               |         |\n');\n",
"printf('   |          |Date:Mon,07-Jan-02 13:15:14GMT|         |\n');\n",
"printf('   |<---------|Server: Challenger            |---------|\n');\n",
"printf('   |          |MIME-version: 1.0             |         |\n');\n",
"printf('   |          |Content-length: 2000          |         |\n');\n",
"printf('   |          |                              |         |\n');\n",
"printf('   |          |(Body of the document)        |         |\n');\n",
"printf('   |          |______________________________|         |\n');\n",
"printf('   |           Response                                |\n');\n",
""
   ]
   }
,
{
		   "cell_type": "markdown",
		   "metadata": {},
		   "source": [
			"## Example 27.3: Connect_to_server_using_TELNET.sce"
		   ]
		  },
  {
"cell_type": "code",
	   "execution_count": null,
	   "metadata": {
	    "collapsed": true
	   },
	   "outputs": [],
"source": [
"clear;\n",
"clc;\n",
"disp('--------------Example 27.3---------------')\n",
"// display the example\n",
"printf('HTTP uses ASCII characters. A client can directly connect to a server using TELNET, which logs into port 80.\nThe next three lines show that the connection is successful.\nThe first shows the request line (GET method), the second is the header (defining the host), the third is a blank, terminating the request.\nThe server response is seven lines starting with the status line.\nThe blank line at the end terminates the server response. The file of 14,230 lines is received after the blank line.\nThe last line is the output by the client.\n\n');\n",
"printf('$ telnet www.mhhe.com 80\nTrying 198.45.24.104...\nConnected to www.mhhe.com (198.45.24.104).\nEscape character is ^]\nGET /engcs/compsci/forouzan HTTP/1.1\nFrom: forouzanbehrouz@fbda.edu\n\n');\n",
"printf('HTTP/1.1 200 OK\nDate: Thu, 28 Oct 2004 16:27:46 GMT\nServer: Apache/l.3.9 (Unix) ApacheJServ/1.1.2 PHP/4.1.2 PHP/3.0.18\nMIME-version:1.0\nContent-Type: text/html\nLast-modified: Friday, 15-0ct-04 02:11:31 GMT\nContent-length: 14230\n\nConnection closed by foreign host.');"
   ]
   }
],
"metadata": {
		  "kernelspec": {
		   "display_name": "Scilab",
		   "language": "scilab",
		   "name": "scilab"
		  },
		  "language_info": {
		   "file_extension": ".sce",
		   "help_links": [
			{
			 "text": "MetaKernel Magics",
			 "url": "https://github.com/calysto/metakernel/blob/master/metakernel/magics/README.md"
			}
		   ],
		   "mimetype": "text/x-octave",
		   "name": "scilab",
		   "version": "0.7.1"
		  }
		 },
		 "nbformat": 4,
		 "nbformat_minor": 0
}
