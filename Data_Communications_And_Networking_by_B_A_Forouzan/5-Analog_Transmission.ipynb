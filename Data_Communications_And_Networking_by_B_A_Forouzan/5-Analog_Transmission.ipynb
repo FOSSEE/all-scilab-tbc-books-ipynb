{
"cells": [
 {
		   "cell_type": "markdown",
	   "metadata": {},
	   "source": [
       "# Chapter 5: Analog Transmission"
	   ]
	},
{
		   "cell_type": "markdown",
		   "metadata": {},
		   "source": [
			"## Example 5.1: analog_signal_bit_rate.sce"
		   ]
		  },
  {
"cell_type": "code",
	   "execution_count": null,
	   "metadata": {
	    "collapsed": true
	   },
	   "outputs": [],
"source": [
"clear;\n",
"clc;\n",
"disp('--------------Example 5.1---------------')\n",
"S=1000; // baud rate\n",
"r=4; // bits/signal element\n",
"N=S*r; // bit rate formula\n",
"printf('The bit rate is %d bps.',N); // display result\n",
""
   ]
   }
,
{
		   "cell_type": "markdown",
		   "metadata": {},
		   "source": [
			"## Example 5.2: data_and_signal_elements.sce"
		   ]
		  },
  {
"cell_type": "code",
	   "execution_count": null,
	   "metadata": {
	    "collapsed": true
	   },
	   "outputs": [],
"source": [
"clear;\n",
"clc;\n",
"disp('--------------Example 5.2---------------')\n",
"S=1000; // baud rate\n",
"N= 8000; // bit rate in bps\n",
"r= N/S; // data elements/signal element\n",
"L= 2^r ; // number of signal elements\n",
"printf('The number of data elements per signal element is %d bits/baud and the number of signal elements is %d .',r,L); // display result"
   ]
   }
,
{
		   "cell_type": "markdown",
		   "metadata": {},
		   "source": [
			"## Example 5.3: ASK_fc_and_bitrate.sce"
		   ]
		  },
  {
"cell_type": "code",
	   "execution_count": null,
	   "metadata": {
	    "collapsed": true
	   },
	   "outputs": [],
"source": [
"clear;\n",
"clc;\n",
"disp('--------------Example 5.3---------------')\n",
"d=1;\n",
"r=1;\n",
"B=100; // 100 kHz\n",
"fl=200; // lower frequency=200 kHz\n",
"fh=300; // highest frequency =300 kHz\n",
"middle_bandwidth = (fl+fh)/2; // kHz\n",
"Fc=middle_bandwidth; // carrier frequency\n",
"N=(B*r)/2; // B= (1+d)*S = 2*N*(1/r) , N - bit rate\n",
"printf('\nThe carrier frequency is %d kHz.\nThe bit rate is %d kbps.',Fc,N); //display result\n",
""
   ]
   }
,
{
		   "cell_type": "markdown",
		   "metadata": {},
		   "source": [
			"## Example 5.4: Full_duplex_ASK.sce"
		   ]
		  },
  {
"cell_type": "code",
	   "execution_count": null,
	   "metadata": {
	    "collapsed": true
	   },
	   "outputs": [],
"source": [
"clear;\n",
"clc;\n",
"disp('--------------Example 5.4---------------')\n",
"B=100;// total Bandwidth in kHz\n",
"B1=B/2; // bandwith for one direction\n",
"B2=B/2; // bandwidth for other direction\n",
"fl=200; // lower frequency=200 kHz\n",
"fh=300; // highest frequency =300 kHz\n",
"middle_bandwidth1= (fl+(fl+B1))/2; // kHz\n",
"Fc1=middle_bandwidth1; // carrier frequency for one direction\n",
"middle_bandwidth2= ((fl+B1)+fh)/2; // kHz\n",
"Fc2=middle_bandwidth2; // carrier frequency for other direction\n",
"N1=B1/2; // data rate in one direction\n",
"N2=B2/2; //data rate in other direction\n",
"// display result\n",
"printf('\nThe carrier frequency for one direction is %d kHz , bandwidth is %d kHz and data rate is %d kbps.\n',Fc1,B1,N1);\n",
"printf('\nThe carrier frequency for other direction is %d kHz , bandwidth is %d kHz and data rate is %d kbps.\n',Fc2,B2,N2);\n",
"// display the figure\n",
"clf();\n",
"xname('--------------Example 5.4----------------');\n",
"x=linspace(.45,.55,2);\n",
"for i=1:2\n",
"    xpoly([x(i) x(i)],[.18 .22]);\n",
"end\n",
"x=linspace(.5,.6,2);\n",
"for i=1:2\n",
"    xpoly([x(i) x(i)],[.2 .3]);\n",
"end\n",
"x=linspace(.4,.5,2);\n",
"for i=1:2\n",
"    xpoly([x(i) x(i)],[.2 .3]);\n",
"end\n",
"for i=0:1\n",
"    xarc(.47+(i/10),.31,.03,.03,0,90*64);\n",
"    xarc(.4+(i/10),.31,.03,.03,90*64,91*64);\n",
"end\n",
"xpoly([.35 .65],[.2 .2])\n",
"for i=0:1\n",
"    xpoly([.41+(i/10) .49+(i/10)],[.31 .31]);\n",
"    \n",
"end\n",
"xpoly([.4 .49],[.32 .32]);\n",
"xpoly([.5 .6],[.32 .32]);\n",
"xpoly([.4 .4],[.31 .33]);\n",
"xpoly([.49 .49],[.31 .33]);\n",
"xpoly([.5 .5],[.31 .33]);\n",
"xpoly([.6 .6],[.31 .33]);\n",
"xset('font size',2)\n",
"xstring(.38,.17,'200                                                            300');\n",
"xstring(.45,.15,'(225)                      (275)');\n",
"xstring(.449,.23,'fc1                      fc2');\n",
"xstring(.41,.33,'B=50 kHz                      B=50 kHz');"
   ]
   }
,
{
		   "cell_type": "markdown",
		   "metadata": {},
		   "source": [
			"## Example 5.5: FSK_fc_and_bitrate.sce"
		   ]
		  },
  {
"cell_type": "code",
	   "execution_count": null,
	   "metadata": {
	    "collapsed": true
	   },
	   "outputs": [],
"source": [
"clear;\n",
"clc;\n",
"disp('--------------Example 5.5---------------')\n",
"B=100 ; //bandwidth = 100 kHz\n",
"two_df=50; // 2df = 50 kHz\n",
"fl=200; // lower frequency in kHz\n",
"fh=300; // higher frequency in kHz\n",
"mid_bandwidth = (fl+fh)/2; // mid frequency of bandwidth in kHz\n",
"Fc=mid_bandwidth;\n",
"d=1;\n",
"S=(B-two_df)/(1+d); // B= (1+d)*s + 2df\n",
"N=S; // bit rate\n",
"printf('\nThe carrier frequency is %d kHz , the signal rate is %d kbaud and the bit rate %d kbps.',Fc,S,N); // display result"
   ]
   }
,
{
		   "cell_type": "markdown",
		   "metadata": {},
		   "source": [
			"## Example 5.6: bandwidth_of_MFSK.sce"
		   ]
		  },
  {
"cell_type": "code",
	   "execution_count": null,
	   "metadata": {
	    "collapsed": true
	   },
	   "outputs": [],
"source": [
"clear;\n",
"clc;\n",
"disp('--------------Example 5.6---------------')\n",
"n=3; // number of bits per sample\n",
"N=3; // bit rate = 3 MHz\n",
"Fc=10; // carrier f requency = 10 MHz\n",
"L=2^n; // number of levels\n",
"S=N/n; // baud rate\n",
"two_df=S; // 2df = 1 MHz\n",
"B=L*S; // bandwidth\n",
"printf('\nThe number of levels is %d , the signal rate is %d Mbaud and the bandwidth is %d MHz.',L,S,B);// display result\n",
"// display the figure\n",
"clf();\n",
"xname('--------------Example 5.6----------------');\n",
"xarrows([0 1],[.2 .2],.5);\n",
"xset('font size',5);\n",
"xstring(1,.1,'Frequency');\n",
"xpoly([.1 .9],[.55 .55]);\n",
"xpoly([.1 .1],[.57 .53]);\n",
"xpoly([.9 .9],[.57 .53]);\n",
"xstring(.4,.6,'Bandwidth = 8 MHz');\n",
"x=linspace(.15,.85,8);\n",
"for i=1:8\n",
"    xpoly([x(i) x(i)],[.18 .22]);\n",
"end\n",
"x=linspace(.1,.9,9);\n",
"for i=1:9\n",
"    xpoly([x(i) x(i)],[.2 .3]);\n",
"end\n",
"for i=0:7\n",
"    xarc(.17+(i/10),.31,.03,.03,0,90*64);\n",
"    xarc(.1+(i/10),.31,.03,.03,90*64,91*64);\n",
"end\n",
"\n",
"for i=0:7\n",
"    xpoly([.11+(i/10) .19+(i/10)],[.31 .31]);\n",
"end\n",
"xset('thickness',2);\n",
"xpoly([.5 .5],[.2 .35])\n",
"xset('font size',3);\n",
"x=linspace(.15,.85,8);\n",
"for i=1:8\n",
"    s=6.5+i-1;\n",
"    xstring(x(i),.14,'f'+string(i));\n",
"    xstring(x(i),.1,string(s));\n",
"    xstring(x(i),.06,'MHz');\n",
"end\n",
"xstring(.5,.14,'fc');\n",
"xstring(.5,.1,'10');\n",
"xstring(.5,.06,'MHz');"
   ]
   }
,
{
		   "cell_type": "markdown",
		   "metadata": {},
		   "source": [
			"## Example 5.7: bandwidth_of_QPSK.sce"
		   ]
		  },
  {
"cell_type": "code",
	   "execution_count": null,
	   "metadata": {
	    "collapsed": true
	   },
	   "outputs": [],
"source": [
"clear;\n",
"clc;\n",
"disp('--------------Example 5.7---------------')\n",
"d=0;\n",
"r=2; // For QPSK, 2 bits is carried by one signal element\n",
"N=12; // bit rate = 12 Mbps\n",
"S=N*(1/r); // formula for signal rate\n",
"B=S; // bandwidth , as d=0\n",
"printf('The bandwidth is %d MHz.',B); // display result"
   ]
   }
,
{
		   "cell_type": "markdown",
		   "metadata": {},
		   "source": [
			"## Example 5.8: Three_constellations_diagrams.sce"
		   ]
		  },
  {
"cell_type": "code",
	   "execution_count": null,
	   "metadata": {
	    "collapsed": true
	   },
	   "outputs": [],
"source": [
"clear;\n",
"clc;\n",
"// drawing the constellation diagrams\n",
"clf();\n",
"xname('--------------Example 5.8----------------');\n",
"title('Constellation diagrams','fontsize',5);\n",
"xrect(-.1,.8,.35,.45);\n",
"xrect(.3,.8,.35,.45);\n",
"xrect(.7,.8,.35,.45);\n",
"xpoly([-.1 .25],[.575 .575]);\n",
"xpoly([.3 .65],[.575 .575]);\n",
"xpoly([.7 1.05],[.575 .575]);\n",
"xpoly([.075 .075],[.8 .35]);\n",
"xpoly([.475 .475],[.8 .35]);\n",
"xpoly([.875 .875],[.8 .35]);\n",
"xset('font size',4);\n",
"xstring(-.1,.3,'a. ASK(OOK)');\n",
"xstring(.3,.3,'b. BPSK');\n",
"xstring(.7,.3,'c. QPSK');\n",
"xfarc( .059,.585 , 0.03, 0.03, 0, 64 * 360 ) ;\n",
"xfarc( .15,.585 , 0.03, 0.03, 0, 64 * 360 ) ;\n",
"xfarc( .37,.585 , 0.03, 0.03, 0, 64 * 360 ) ;\n",
"xfarc( .55,.585 , 0.03, 0.03, 0, 64 * 360 ) ;\n",
"xfarc( .77,.7 , 0.03, 0.03, 0, 64 * 360 ) ;\n",
"xfarc( .95,.7 , 0.03, 0.03, 0, 64 * 360 ) ;\n",
"xfarc( .77,.46 , 0.03, 0.03, 0, 64 * 360 ) ;\n",
"xfarc( .95,.46 , 0.03, 0.03, 0, 64 * 360 ) ;\n",
"xset('font size',3);\n",
"xstring(.055,.5,'0');\n",
"xstring(.15,.5,'1');\n",
"xstring(.37,.5,'0');\n",
"xstring(.55,.5,'1');\n",
"xstring(.745,.7,'01');\n",
"xstring(.975,.7,'11');\n",
"xstring(.74,.44,'00');\n",
"xstring(.98,.44,'10');\n",
"xset('line style',2);\n",
"xarc(.75,.7,.275,.275,0,64*360);\n",
"// display the explanation of the diagrams\n",
"disp('--------------Example 5.8----------------')\n",
"printf('\na. For ASK,only an in-phase carrier is used. Therefore, the two points should be on the X axis.\nBinary 0 has an amplitude of 0 V; binary 1 has an amplitude of 1V (for example). The points are located at the origin and at 1 unit.\n\n');\n",
"printf('b. BPSK also uses only an in-phase carrier. However, polar NRZ signal is used for modulation.\nIt creates two types of signal elements, one with amplitude 1 and the other with amplitude -1. This can be stated in other words:\nBPSK creates two different signal elements, one with amplitude 1 V and in phase and the other with amplitude 1 V and 180° out of phase.\n\n');\n",
"printf('c. QPSK uses two carriers, one in-phase and the other quadrature. The point representing 11 is made of two combined signal elements,\nboth with an amplitude of 1 V. One element is represented by an in-phase carrier, the other element by a quadrature carrier.\nThe amplitude of the final signal element sent for this 2-bit data element is 2^(1/2), and the phase is 45°.\nThe argument is similar for the other three points. All signal elements have an amplitude of 2^(1/2),\nbut their phases are different (45°, 135°, -135°, and -45°).Of course, we could have chosenthe amplitude of the carrier to be 1/(2^(1/2))\nto make the final amplitudes 1 V.');"
   ]
   }
],
"metadata": {
		  "kernelspec": {
		   "display_name": "Scilab",
		   "language": "scilab",
		   "name": "scilab"
		  },
		  "language_info": {
		   "file_extension": ".sce",
		   "help_links": [
			{
			 "text": "MetaKernel Magics",
			 "url": "https://github.com/calysto/metakernel/blob/master/metakernel/magics/README.md"
			}
		   ],
		   "mimetype": "text/x-octave",
		   "name": "scilab",
		   "version": "0.7.1"
		  }
		 },
		 "nbformat": 4,
		 "nbformat_minor": 0
}
