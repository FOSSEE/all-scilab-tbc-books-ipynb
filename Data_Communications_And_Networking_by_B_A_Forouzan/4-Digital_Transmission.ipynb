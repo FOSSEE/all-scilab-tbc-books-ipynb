{
"cells": [
 {
		   "cell_type": "markdown",
	   "metadata": {},
	   "source": [
       "# Chapter 4: Digital Transmission"
	   ]
	},
{
		   "cell_type": "markdown",
		   "metadata": {},
		   "source": [
			"## Example 4.10: minimum_sampling_rate.sce"
		   ]
		  },
  {
"cell_type": "code",
	   "execution_count": null,
	   "metadata": {
	    "collapsed": true
	   },
	   "outputs": [],
"source": [
"clear;\n",
"clc;\n",
"disp('--------------Example 4.10---------------')\n",
"bandwidth = 200*10^3; // 200 kHz\n",
"//The bandwidth of a low-pass signal is between 0 and f ,where f is the maximum frequency in the signal.\n",
"// Therefore, highest frequency =200 kHz \n",
"f = bandwidth; // max frequency\n",
"sr = 2*f ; // sampling rate = 2*max frequency\n",
"printf('The sampling rate is %d samples per second.',sr);// display result"
   ]
   }
,
{
		   "cell_type": "markdown",
		   "metadata": {},
		   "source": [
			"## Example 4.11: bandpass_sampling_rate.sce"
		   ]
		  },
  {
"cell_type": "code",
	   "execution_count": null,
	   "metadata": {
	    "collapsed": true
	   },
	   "outputs": [],
"source": [
"clear;\n",
"clc;\n",
"disp('--------------Example 4.11---------------')\n",
"bandwidth = 200; // 200 kHz\n",
"printf('\nThe minimum sampling rate cannot be determined in this case because we do not know where the bandwidth starts\nor ends or in order words we do not know the maximum frequency in the signal.'); // display example"
   ]
   }
,
{
		   "cell_type": "markdown",
		   "metadata": {},
		   "source": [
			"## Example 4.12: SNR_db_formula.sce"
		   ]
		  },
  {
"cell_type": "code",
	   "execution_count": null,
	   "metadata": {
	    "collapsed": true
	   },
	   "outputs": [],
"source": [
"clear;\n",
"clc;\n",
"disp('--------------Example 4.12---------------')\n",
"L=8; // number of levels\n",
"nb=log2(L); // number of bits per sample\n",
"SNRdB=6.02*(nb)+1.76; // formula\n",
"printf('The SNRdB is %4.2f dB.\nIncreasing number of levels increases the SNR.',SNRdB); // display result\n",
"\n",
""
   ]
   }
,
{
		   "cell_type": "markdown",
		   "metadata": {},
		   "source": [
			"## Example 4.13: telephone_bits_per_sample.sce"
		   ]
		  },
  {
"cell_type": "code",
	   "execution_count": null,
	   "metadata": {
	    "collapsed": true
	   },
	   "outputs": [],
"source": [
"clear;\n",
"clc;\n",
"disp('--------------Example 4.13---------------')\n",
"SNRdB=40; \n",
"nb=(SNRdB-1.76)/6.02; // SNRdB = 6.02(nb)+1.76\n",
"printf('\nnb = %4.2f',nb); // display result\n",
"printf('\nTherefore telephone companies usually assign %d or %d bits per sample.',ceil(nb),ceil(nb)+1); // round off to nearest integer as number of bits should be a whole number\n",
""
   ]
   }
,
{
		   "cell_type": "markdown",
		   "metadata": {},
		   "source": [
			"## Example 4.14: human_voice_digitization.sce"
		   ]
		  },
  {
"cell_type": "code",
	   "execution_count": null,
	   "metadata": {
	    "collapsed": true
	   },
	   "outputs": [],
"source": [
"clear;\n",
"clc;\n",
"disp('--------------Example 4.14---------------')\n",
"bits= 8; // bits per sample\n",
"fl=0; // The human voice normally contains frequencies from 0 to 4000 Hz.\n",
"fh=4000; // Hz\n",
"sampling_rate = 2*fh; // twice the highest frequency\n",
"bit_rate=sampling_rate*bits;  // formula\n",
"printf('The sampling rate is %d samples/s and the bit rate is %d kbps.',sampling_rate,bit_rate*10^-3); // display the result with appropriate units"
   ]
   }
,
{
		   "cell_type": "markdown",
		   "metadata": {},
		   "source": [
			"## Example 4.15: digital_minimum_bandwidth.sce"
		   ]
		  },
  {
"cell_type": "code",
	   "execution_count": null,
	   "metadata": {
	    "collapsed": true
	   },
	   "outputs": [],
"source": [
"clear;\n",
"clc;\n",
"disp('--------------Example 4.15---------------')\n",
"analog_min_bandwidth = 4; //4 kHz\n",
"bits = 8; // bits per sample\n",
"digital_min_bandwidth = analog_min_bandwidth*bits; // formula \n",
"printf('The minimum bandwidth for the digital signal is %d kHz.',digital_min_bandwidth); // display result"
   ]
   }
,
{
		   "cell_type": "markdown",
		   "metadata": {},
		   "source": [
			"## Example 4.1: average_baud_rate.sce"
		   ]
		  },
  {
"cell_type": "code",
	   "execution_count": null,
	   "metadata": {
	    "collapsed": true
	   },
	   "outputs": [],
"source": [
"clear;\n",
"clc;\n",
"disp('--------------Example 4.1---------------')\n",
"r=1; // 1 data element/ 1 signal element\n",
"N=100*10^3; // bitrate=100 kbps\n",
"c=(0+1)/2; //case factor\n",
"S=c*N*(1/r); // formula for baud rate\n",
"printf('The average baud rate is %d kbaud.',S*10^-3);//display result"
   ]
   }
,
{
		   "cell_type": "markdown",
		   "metadata": {},
		   "source": [
			"## Example 4.2: Nyquist_formula_equivalence.sce"
		   ]
		  },
  {
"cell_type": "code",
	   "execution_count": null,
	   "metadata": {
	    "collapsed": true
	   },
	   "outputs": [],
"source": [
"clear;\n",
"clc;\n",
"disp('--------------Example 4.2---------------')\n",
"printf('\nA signal with L levels actually can carry log2 L bits per level. If each level corresponds to one signal element\nand we assume the average case (c = 1/2), then the two formulas agree with each other.') //display the example\n",
"disp('Nmax = (1/c) x B x r = 2 x B x log2L');"
   ]
   }
,
{
		   "cell_type": "markdown",
		   "metadata": {},
		   "source": [
			"## Example 4.3: Extra_bits_calculatio.sce"
		   ]
		  },
  {
"cell_type": "code",
	   "execution_count": null,
	   "metadata": {
	    "collapsed": true
	   },
	   "outputs": [],
"source": [
"clear;\n",
"clc;\n",
"disp('--------------Example 4.3---------------')\n",
"data_rate1=10^3; //1 kbps\n",
"data_rate2=10^6; //1 Mbps\n",
"frac= 0.1*10^-2; // receiver clock is 0.1 percent faster than the sender clock\n",
"function []=extrabits(data_rate,frac) // function to calculate extra bps and recieved bps\n",
"    extra = data_rate*frac; // formula to calculate extra bps\n",
"    recieved = data_rate+extra; //formula to calculate reieved bps\n",
"    printf('Data rate = %d bps\nBits sent = %d\nBits recieved = %d\nExtra bps = %d ',recieved,data_rate,recieved,extra); //display the result\n",
"endfunction\n",
"//data rate = 1 kbps\n",
"printf('\nAt 1 kbps, \n');\n",
"extrabits(data_rate1,frac); //calling the function\n",
"//data rate = 1 Mbps\n",
"printf('\n\nAt 1 Mbps, \n')\n",
"extrabits(data_rate2,frac); //calling the function"
   ]
   }
,
{
		   "cell_type": "markdown",
		   "metadata": {},
		   "source": [
			"## Example 4.4: avg_baud_and_min_bandwidth.sce"
		   ]
		  },
  {
"cell_type": "code",
	   "execution_count": null,
	   "metadata": {
	    "collapsed": true
	   },
	   "outputs": [],
"source": [
"clear;\n",
"clc;\n",
"disp('--------------Example 4.4---------------')\n",
"N=10*10^6; // bit rate = 10 Mbps\n",
"S=N/2; // formula for average signal rate\n",
"Bmin=S; // minimum bandwidth is equal to average baud\n",
"// display result \n",
"printf('\nThe average signal rate is %d kbaud.',S*10^-3);\n",
"printf('\n\nThe minimum bandwidth is %d kHz.',Bmin*10^-3);"
   ]
   }
,
{
		   "cell_type": "markdown",
		   "metadata": {},
		   "source": [
			"## Example 4.5: Block_coding_minimum_bandwidth.sce"
		   ]
		  },
  {
"cell_type": "code",
	   "execution_count": null,
	   "metadata": {
	    "collapsed": true
	   },
	   "outputs": [],
"source": [
"clear;\n",
"clc;\n",
"disp('--------------Example 4.5---------------')\n",
"data_rate=1; // 1 Mbps\n",
"frac= 0.25 // 4B/5B coding adds 25% to the baud rate\n",
"add=data_rate*frac;\n",
"N = (data_rate+add)*10^6; // Hz\n",
"NRZI_B= N/2; // minimum bandwidth using NRZ-I\n",
"Manchester_B = data_rate; // minimum bandwidth using Manchester scheme \n",
"// display result\n",
"printf('\n 4B/5B block coding increases the bit rate to %3.2f Mbps\n The minimum bandwidth using NRZ-I scheme is %d kHz.\n\n The minimum bandwidth using Manchester scheme is %d MHz.',N*10^-6,NRZI_B*10^-3,Manchester_B);\n",
"printf('\n\nThe NRZ-I scheme needs a lower bandwidth, but has a DC component problem; the Manchester scheme needs a higher bandwidth,\nbut does not have a DC component problem.')"
   ]
   }
,
{
		   "cell_type": "markdown",
		   "metadata": {},
		   "source": [
			"## Example 4.6: sampling_and_recovery.sce"
		   ]
		  },
  {
"cell_type": "code",
	   "execution_count": null,
	   "metadata": {
	    "collapsed": true
	   },
	   "outputs": [],
"source": [
"clear;\n",
"clc;\n",
"disp('--------------Example 4.6---------------')\n",
"// example explanation\n",
"printf('A simple sine wave is sampled at three sampling rates:\nfs = 4f (2 times the Nyquist rate )\nfs = 2f (Nyquist rate\nfs = f (one-half the Nyquist rate)\n\n');\n",
"printf('It can be seen that sampling at the Nyquist rate can create a good approximation of the original sine wave (part a).\nOversampling in part b can also create the same approximation, but it is redundant and unnecessary.\nSampling below the Nyquist rate (part c) does not produce a signal that looks like the original sine wave.')\n",
"// display the figure\n",
"clf();\n",
"xname('--------------Example 4.6----------------');\n",
"subplot(325)\n",
"a1=gca();\n",
"a1.x_label.text='c. Undersampling fs=f';\n",
"a1.x_location='middle';\n",
"x=[0:.1:5*%pi]; // x-range\n",
"plot(x,sin(x),nax=[0,0,0,0]);\n",
"xfarc(1.5,1,.1,.1,0,360*64);\n",
"xfarc(6.2,.1,.1,.1,0,360*64);\n",
"xfarc(11,-.9,.1,.1,0,360*64);\n",
"xfarc(15.7,0,.1,.1,0,360*64);\n",
"subplot(321)\n",
"a1=gca();\n",
"a1.x_label.text='a.Nyquist rate sampling fs=2f';\n",
"a1.x_location='middle';\n",
"x=[0:.1:5*%pi]; // x-range\n",
"plot(x,sin(x),nax=[0,0,0,0]);\n",
"xfarc(1.5,1,.1,.1,0,360*64);\n",
"xfarc(4.7,-.9,.1,.1,0,360*64);\n",
"xfarc(7.9,1,.1,.1,0,360*64);\n",
"xfarc(11,-.9,.1,.1,0,360*64);\n",
"xfarc(14,1,.1,.1,0,360*64);\n",
"subplot(323)\n",
"a1=gca();\n",
"a1.x_label.text='b.Oversampling fs=4f';\n",
"a1.x_location='middle';\n",
"x=[0:.1:5*%pi]; // x-range\n",
"plot(x,sin(x),nax=[0,0,0,0]);\n",
"xfarc(1.5,1,.1,.1,0,360*64);\n",
"xfarc(4.7,-.9,.1,.1,0,360*64);\n",
"xfarc(7.9,1,.1,.1,0,360*64);\n",
"xfarc(11,-.9,.1,.1,0,360*64);\n",
"xfarc(14,1,.1,.1,0,360*64);\n",
"xfarc(0,0.1,.1,.1,0,360*64);\n",
"xfarc(3.1,.1,.1,.1,0,360*64);\n",
"xfarc(6.2,.1,.1,.1,0,360*64);\n",
"xfarc(9.4,.1,.1,.1,0,360*64);\n",
"xfarc(12.5,.1,.1,.1,0,360*64);\n",
"xfarc(15.7,0,.1,.1,0,360*64);\n",
"subplot(322)\n",
"a1=gca();\n",
"xarrows([0 1],[.5 .5],.7);\n",
"xarrows([0 0],[0 1],.7);\n",
"xset('line style',2);\n",
"for i=0:2\n",
"    xpoly([0+(i/2.5) .1+(i/2.5)],[.5 1]);\n",
"    xpoly([.1+(i/2.5) .2+(i/2.5)],[1 .5]);\n",
"end\n",
"for i=0:1\n",
"    xpoly([.2+(i/2.5) .3+(i/2.5)],[.5 0]);\n",
"    xpoly([.3+(i/2.5) .4+(i/2.5)],[0 .5]);\n",
"end\n",
"xfarc(.09,1,.02,.02,0,360*64);\n",
"xfarc(.29,0,.02,.02,0,360*64);\n",
"xfarc(.49,1,.02,.02,0,360*64);\n",
"xfarc(.69,0,.02,.02,0,360*64);\n",
"xfarc(.89,1,.02,.02,0,360*64);\n",
"subplot(324)\n",
"a1=gca();\n",
"xarrows([0 1],[.5 .5],.7);\n",
"xarrows([0 0],[0 1],.7);\n",
"xset('line style',2);\n",
"for i=0:2\n",
"    xpoly([0+(i/2.5) .1+(i/2.5)],[.5 1]);\n",
"    xpoly([.1+(i/2.5) .2+(i/2.5)],[1 .5]);\n",
"end\n",
"for i=0:1\n",
"    xpoly([.2+(i/2.5) .3+(i/2.5)],[.5 0]);\n",
"    xpoly([.3+(i/2.5) .4+(i/2.5)],[0 .5]);\n",
"end\n",
"xfarc(.09,1,.02,.02,0,360*64);\n",
"xfarc(.29,0,.02,.02,0,360*64);\n",
"xfarc(.49,1,.02,.02,0,360*64);\n",
"xfarc(.69,0,.02,.02,0,360*64);\n",
"xfarc(.89,1,.02,.02,0,360*64);\n",
"xfarc(0,.52,.02,.02,0,64*360);\n",
"xfarc(.2,.52,.02,.02,0,64*360);\n",
"xfarc(.4,.52,.02,.02,0,64*360);\n",
"xfarc(.6,.52,.02,.02,0,64*360);\n",
"xfarc(.8,.52,.02,.02,0,64*360);\n",
"xfarc(1,.52,.02,.02,0,64*360);\n",
"subplot(326)\n",
"a1=gca();\n",
"//a1.x_location='middle';\n",
"//x=[0:.1:3*%pi]; // x-range\n",
"//plot(x,cos(.5*x),nax=[0,0,0,0]);\n",
"xfarc(.1,.75,.02,.02,0,360*64);\n",
"xfarc(.318,.5,.02,.02,0,360*64);\n",
"xfarc(.67,0,.02,.02,0,360*64);\n",
"xfarc(.97,.5,.02,.02,0,360*64);\n",
"xarrows([0 1],[.5 .5],.7);\n",
"xarrows([0 0],[0 1],.7);\n",
"xset('line style',2);\n",
"xpoly([0 .1],[.65 .75]);\n",
"xpoly([.1 .318],[.75 .5]);\n",
"xpoly([.318 .67],[.5 0]);\n",
"xpoly([.67 .97],[0 .5]);\n",
""
   ]
   }
,
{
		   "cell_type": "markdown",
		   "metadata": {},
		   "source": [
			"## Example 4.7: Sampling_of_clock.sce"
		   ]
		  },
  {
"cell_type": "code",
	   "execution_count": null,
	   "metadata": {
	    "collapsed": true
	   },
	   "outputs": [],
"source": [
"clear;\n",
"clc;\n",
"disp('--------------Example 4.7---------------')\n",
"T=60; // The second hand of a clock has a period of 60 s.\n",
"printf('The second hand of a clock has a period of %d s.\n',T);\n",
"// a) Sampling at Nyquist rate\n",
"Ts=0.5*T ; // or fs = 2f\n",
"sp=[]; // sampling points\n",
"time=[12 6];\n",
"for i=0:5  // assign sampling points\n",
"    if(modulo(i,2)==0)\n",
"        sp(i+1)=time(1);\n",
"    else\n",
"        sp(i+1)=time(2);\n",
"    end\n",
"end\n",
"//display the result\n",
"printf('\na)According to the Nyquist theorem, the second hand is sampled every %d s .\nThe sample points, in order, are %d, %d, %d, %d, %d, and %d.\nThe receiver of the samples cannot tell if the clock is moving forward or backward.',Ts,sp(1),sp(2),sp(3),sp(4),sp(5),sp(6));\n",
"// b) Sampling at double the Nyquist rate\n",
"Ts=0.25*T; // or fs = 4f\n",
"sp=[]; //sampling points\n",
"time=[12 3 6 9];\n",
"for i=0:4  // assign sampling points\n",
"    if (i==4) then\n",
"        sp(i+1)=time(1);\n",
"    else\n",
"        sp(i+1)=time(i+1);\n",
"    end\n",
"end\n",
"//display the result\n",
"printf('\n\nb)The second hand is sampled at double the Nyquist rate or every %d s.\nThe sample points, in order, are %d, %d, %d, %d, and %d. The clock is moving forward.',Ts,sp(1),sp(2),sp(3),sp(4),sp(5));\n",
"// b) Sampling at lesser than Nyquist rate\n",
"Ts=0.75*T; // or fs = 4/3f\n",
"sp=[]; //sampling points\n",
"time=[12 9 6 3];\n",
"for i=0:4  // assign sampling points\n",
"    if (i==4) then\n",
"        sp(i+1)=time(1);\n",
"    else\n",
"        sp(i+1)=time(i+1);\n",
"    end\n",
"end\n",
"//display the result\n",
"printf('\n\nc)The second hand is sampled below the Nyquist rate or every %d s.\nThe sample points, in order, are %d, %d, %d, %d, and %d. Although the clock is moving forward, the receiver thinks that the clock is moving backward.',Ts,sp(1),sp(2),sp(3),sp(4),sp(5));"
   ]
   }
,
{
		   "cell_type": "markdown",
		   "metadata": {},
		   "source": [
			"## Example 4.8: wheel_rotation_undersampling.sce"
		   ]
		  },
  {
"cell_type": "code",
	   "execution_count": null,
	   "metadata": {
	    "collapsed": true
	   },
	   "outputs": [],
"source": [
"clear;\n",
"clc;\n",
"disp('--------------Example 4.8---------------')\n",
"printf('\nThe seemingly backward rotation of the wheels of a forward moving car in a movie:-  This can be explained by undersampling.\nA movie is filmed at 24 frames per second. If a wheel is rotating more than 12 times per second,the undersampling\ncreates the impression of a backward rotation.')//display the example"
   ]
   }
,
{
		   "cell_type": "markdown",
		   "metadata": {},
		   "source": [
			"## Example 4.9: telephone_sampling_rate.sce"
		   ]
		  },
  {
"cell_type": "code",
	   "execution_count": null,
	   "metadata": {
	    "collapsed": true
	   },
	   "outputs": [],
"source": [
"clear;\n",
"clc;\n",
"disp('--------------Example 4.9---------------')\n",
"f=4000; // max frequency\n",
"sr=2*f; // sampling rate = 2*max frequency\n",
"printf('\nTelephone companies digitize voice by assuming a maximum frequency of %d Hz.\nThe sampling rate therefore is %d samples per second.',f,sr); // display result"
   ]
   }
],
"metadata": {
		  "kernelspec": {
		   "display_name": "Scilab",
		   "language": "scilab",
		   "name": "scilab"
		  },
		  "language_info": {
		   "file_extension": ".sce",
		   "help_links": [
			{
			 "text": "MetaKernel Magics",
			 "url": "https://github.com/calysto/metakernel/blob/master/metakernel/magics/README.md"
			}
		   ],
		   "mimetype": "text/x-octave",
		   "name": "scilab",
		   "version": "0.7.1"
		  }
		 },
		 "nbformat": 4,
		 "nbformat_minor": 0
}
