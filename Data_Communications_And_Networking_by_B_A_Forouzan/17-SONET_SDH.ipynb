{
"cells": [
 {
		   "cell_type": "markdown",
	   "metadata": {},
	   "source": [
       "# Chapter 17: SONET SDH"
	   ]
	},
{
		   "cell_type": "markdown",
		   "metadata": {},
		   "source": [
			"## Example 17.1: Datarate_of_STS1.sce"
		   ]
		  },
  {
"cell_type": "code",
	   "execution_count": null,
	   "metadata": {
	    "collapsed": true
	   },
	   "outputs": [],
"source": [
"clear;\n",
"clc;\n",
"disp('--------------Example 17.1---------------')\n",
"frame_rate=8000; // frames per sec\n",
"frame=9*(1*90); // each frame is made of 9 by (1x90) bytes\n",
"bits=8; // 1byte = 8 bits\n",
"STS1_data_rate=frame_rate*frame*bits; // formula\n",
"printf('The STS-1 data rate is %5.3f Mbps.',STS1_data_rate*10^-6); // display result with appropriate unit"
   ]
   }
,
{
		   "cell_type": "markdown",
		   "metadata": {},
		   "source": [
			"## Example 17.2: Datarate_of_STS3.sce"
		   ]
		  },
  {
"cell_type": "code",
	   "execution_count": null,
	   "metadata": {
	    "collapsed": true
	   },
	   "outputs": [],
"source": [
"clear;\n",
"clc;\n",
"disp('--------------Example 17.2---------------')\n",
"frame_rate=8000; // frames per sec\n",
"frame=9*(3*90); // each frame is made of 9 by (3x90) bytes\n",
"bits=8; // 1byte = 8 bits\n",
"STS3_data_rate=frame_rate*frame*bits; // formula\n",
"printf('The STS-3 data rate is %5.2f Mbps.',STS3_data_rate*10^-6); // display result with appropriate unit"
   ]
   }
,
{
		   "cell_type": "markdown",
		   "metadata": {},
		   "source": [
			"## Example 17.3: Duration_of_STSs.sce"
		   ]
		  },
  {
"cell_type": "code",
	   "execution_count": null,
	   "metadata": {
	    "collapsed": true
	   },
	   "outputs": [],
"source": [
"clear;\n",
"clc;\n",
"disp('--------------Example 17.3---------------')\n",
"// for all STS-1 , STS-3 and STS-n frame rate is same hence frame duration is same\n",
"frame_rate=8000; // frames per sec\n",
"frame_duration=1/frame_rate;\n",
"printf('In SONET, %d frames are sent per second. This means that the duration of an STS-l, STS-3, or STS-n frame is the same and equal %d microseconds.',frame_rate,frame_duration*10^6); // display result"
   ]
   }
,
{
		   "cell_type": "markdown",
		   "metadata": {},
		   "source": [
			"## Example 17.4: User_datarate_STS1.sce"
		   ]
		  },
  {
"cell_type": "code",
	   "execution_count": null,
	   "metadata": {
	    "collapsed": true
	   },
	   "outputs": [],
"source": [
"clear;\n",
"clc;\n",
"disp('--------------Example 17.4---------------')\n",
"frame_rate=8000; // frames per sec\n",
"//each frame is made of 9 rows and 86 columns\n",
"rows=9;\n",
"columns=(1*86);\n",
"bits=8; // 1byte = 8 bits\n",
"STS1_user_data_rate=frame_rate*rows*columns*bits; // formula\n",
"printf('The STS-1 user data rate is %5.3f Mbps.',STS1_user_data_rate*10^-6); // display result with appropriate unit"
   ]
   }
,
{
		   "cell_type": "markdown",
		   "metadata": {},
		   "source": [
			"## Example 17.5: H1_and_H2.sce"
		   ]
		  },
  {
"cell_type": "code",
	   "execution_count": null,
	   "metadata": {
	    "collapsed": true
	   },
	   "outputs": [],
"source": [
"clear;\n",
"clc;\n",
"disp('--------------Example 17.5---------------')\n",
"byte_number=650;\n",
"temp=dec2hex(byte_number);// convert to hexadecimal\n",
"hex='0'+temp;\n",
"h=strsplit(hex,2); // split the hexadecimal number into 2\n",
"H1=h(1);\n",
"H2=h(2);\n",
"printf('The number %d can be expressed in four hexadecimal digits as Ox%s.\nHence the value of H1 is Ox%s and the value of H2 is Ox%s.',byte_number,hex,H1,H2); // display result"
   ]
   }
],
"metadata": {
		  "kernelspec": {
		   "display_name": "Scilab",
		   "language": "scilab",
		   "name": "scilab"
		  },
		  "language_info": {
		   "file_extension": ".sce",
		   "help_links": [
			{
			 "text": "MetaKernel Magics",
			 "url": "https://github.com/calysto/metakernel/blob/master/metakernel/magics/README.md"
			}
		   ],
		   "mimetype": "text/x-octave",
		   "name": "scilab",
		   "version": "0.7.1"
		  }
		 },
		 "nbformat": 4,
		 "nbformat_minor": 0
}
