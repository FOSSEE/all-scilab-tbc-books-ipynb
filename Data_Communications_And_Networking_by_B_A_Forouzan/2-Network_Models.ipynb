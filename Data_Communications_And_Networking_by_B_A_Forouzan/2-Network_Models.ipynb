{
"cells": [
 {
		   "cell_type": "markdown",
	   "metadata": {},
	   "source": [
       "# Chapter 2: Network Models"
	   ]
	},
{
		   "cell_type": "markdown",
		   "metadata": {},
		   "source": [
			"## Example 2.1: Bus_topology_LAN.sce"
		   ]
		  },
  {
"cell_type": "code",
	   "execution_count": null,
	   "metadata": {
	    "collapsed": true
	   },
	   "outputs": [],
"source": [
"clear;\n",
"clc;\n",
"disp('--------------Example 2.1---------------')\n",
"// example explanation\n",
"printf('A node with physical address 10 sends a frame to a node with physical address 87. The two nodes are connected by a link (bus topology LAN).\nAt the data link layer, this frame contains physical (link) addresses in the header.The trailer contains extra bits needed for error detection.\nThe computer with physical address 10 is the sender, and the computer with physical address 87 is the receiver.\nThe header, among other pieces of information, carries the receiver and the sender physical (link) The destination address, 87 comes \nbefore the source address 10. In a bus topology, the frame is propagated in both directions (left and right). The frame propagated\nto the left dies when it reaches the end of the cable if the cable end is terminated appropriately. The frame propagated to the right is sent\nto every station on the network. Each station with a physical addresses other than 87 drops the frame because the destination address in the frame\ndoes not match its own physical address. The intended destination computer, however, finds a match between the destination address\nin the frame and its own physical address. The frame is checked, the header and trailer are dropped, and the data part is decapsulated and\ndelivered to the upper layer.');\n",
"sender_address='10';\n",
"reciever_address='87';\n",
"clf();\n",
"xname('--------------Example 2.1----------------');\n",
"// display the figure\n",
"xset('thickness',2.5);\n",
"xpoly([.049 .86],[.48 .48]);\n",
"xpoly ([.35 .35],[.73 .48]);\n",
"xpoly ([.55 .55],[.73 .48]);\n",
"xset('thickness',1);\n",
"xset('font size',2);\n",
"xstring(.36,.6,'Destination address does not');\n",
"xstring(.36,.56,'match;the packet is dropped');\n",
"xstring(.25,.63,'Trailer');\n",
"xstring(.001,.63,'Destination address');\n",
"xstring(.001,.5,'Source address');\n",
"xpoly([.1 .11],[.52 .55]);\n",
"xpoly([.22 .25],[.6 .63]);\n",
"xpoly([.05 .08],[.63 .6]);\n",
"xset('font size',4);\n",
"xstring(0.1,.75,['10 -  Sender']);\n",
"xstring(0.7,.75,['87 -  Reciever']);\n",
"xstring(.32,.75,'Station 28');\n",
"xstring(.52, .75,'Station 53');\n",
"xstring(.44,.42,'LAN');\n",
"xrect(.13,.7,.07,.05);\n",
"xstringb(.13,.65,['Data'],.07,.05);\n",
"xrect(.73,.7,.07,.05);\n",
"xstringb(.73,.65,['Data'],.07,.05);\n",
"xrects([ 0.07 .13 .2;.6 .6 .6;.06 .07 .03;.06 .06 .06]);\n",
"xstring(0.07,.55,['87']);\n",
"xstring(0.1,.55,['10']);\n",
"xstring(0.2,.55,'T2');\n",
"xrect(.135,.595,.06,.05);\n",
"xstring(.137,.555,['Data']);\n",
"xstring(0.67,.55,['87']);\n",
"xstring(0.7,.55,['10']);\n",
"xstring(.8,.55,'T2');\n",
"xrect(.735,.595,.06,.05);\n",
"xstring(.737,.555,['Data']);\n",
"xset('font size',6);\n",
"xstring(.43,.51,'. . .');\n",
"xfrect(.009,.5,.04,.05);\n",
"xfrect(.86,.5,.04,.05);\n",
"xpoly([.17 .17],[.75 .7]);\n",
"xpoly([.77 .77],[.75 .7]);\n",
"xpoly([.17 .17],[.65 .6]);\n",
"xpoly([.77 .77],[.65 .6]);\n",
"xpoly([.17 .17],[.54 .48]);\n",
"xpoly([.77 .77],[.54 .48]);\n",
"xarrows([.74 .8],[.45 .45],.5);\n",
"xarrows([.76 .76],[.45 .54],.5);\n",
"xarrows([.34 .4],[.45 .45],.5);\n",
"xarrows([.36 .36],[.45 .57],.5);\n",
"xarrows([.54 .6],[.45 .45],.5);\n",
"xarrows([.56 .56],[.45 .57],.5);\n",
"xarrows([.14 .2],[.45 .45],.5);\n",
"xarrows([.14 .08],[.45 .45],.5);\n",
"xpoly([.16 .16],[.45 .54]);\n",
"xset('line style',2);\n",
"xrects([.67 .73 .8;.6 .6 .6;.06 .07 .03;.06 .06 .06]);"
   ]
   }
,
{
		   "cell_type": "markdown",
		   "metadata": {},
		   "source": [
			"## Example 2.2: physical_address_example.sce"
		   ]
		  },
  {
"cell_type": "code",
	   "execution_count": null,
	   "metadata": {
	    "collapsed": true
	   },
	   "outputs": [],
"source": [
"clear;\n",
"clc;\n",
"disp('--------------Example 2.2---------------')\n",
"disp('07:01:02:01:2C:4B ')       //display the example \n",
"printf('This is an example of a 6-byte (12 hexadecimal digits) physical address.')"
   ]
   }
,
{
		   "cell_type": "markdown",
		   "metadata": {},
		   "source": [
			"## Example 2.3: LAN_and_router_communication.sce"
		   ]
		  },
  {
"cell_type": "code",
	   "execution_count": null,
	   "metadata": {
	    "collapsed": true
	   },
	   "outputs": [],
"source": [
"clear;\n",
"clc;\n",
"disp('--------------Example 2.3---------------')\n",
"// display the example\n",
"printf('Each device(computer or router) has a pair of addresses (logical and physical) for each connection. In this\ncase, each computer is connected to only one link and therefore has only one pair of addresses. Each router,\nhowever, is connected to three networks . So each router has three pairs of addresses,one for each\nconnection. Although it may obvious that each router must have a separate physical address for each connection,\n;it may not be obvious why it needs a logical address for each connection.');\n",
"printf('\n\nIn this example,the computer with logical address A and physical address 10 needs to send a packet to\nthe computer with logical address P and physical address 95. The sender encapsulates its data\nin a packet at the network layer and adds two logical addresses (A and P). The logical source address comes before the logical destination address .\nThe network layer, however, needs to find the physical address of the next hop before the packet can be\ndelivered. The network layer consults its routing table and finds the logical address of the next hop (router 1) to be F.\nThe ARP finds the physical address of router 1 that corresponds to the logical address of 20. Now the network layer passes\nthis address to the data link layer, which in turn, encapsulates the packet with physical destination address 20 and physical source address 10.\n\n');\n",
"printf('The frame is received by every device on LAN 1, but is discarded by all except router 1, which finds that\nthe destination physical address in the frame matches with its own physical address. The router decapsulates the\npacket from the frame to read the logical destination address P. Since the logical destination address does not match the\nrouters logical address, the router knows that the packet needs to be forwarded. The router consults its routing table\nand ARP to find the physical destination address of the next hop (router 2), creates a new frame, encapsulates the packet, and sends it to router 2.\n\n');\n",
"printf('The source physical address changes from 10 to 99. The destination physical address changes from 20 (router 1 physical address) to 33\n(router 2 physical address). The logical source and destination addresses must remain the same; otherwise the packet will be lost.\n\n');\n",
"printf('At router 2 we have a similar scenario. The physical addresses are changed, and a new frame is sent to the destination computer.\nWhen the frame reaches the destination, the packet is decapsulated. The destination logical address P matches the logical address\nof the computer. The data are decapsulated from the packet and delivered to the upper layer.')"
   ]
   }
,
{
		   "cell_type": "markdown",
		   "metadata": {},
		   "source": [
			"## Example 2.4: Two_computers_communicating.sce"
		   ]
		  },
  {
"cell_type": "code",
	   "execution_count": null,
	   "metadata": {
	    "collapsed": true
	   },
	   "outputs": [],
"source": [
"clear;\n",
"clc;\n",
"clf();\n",
"xname('--------------Example 2.4----------------');\n",
"// display the figure\n",
"xset('color',0);\n",
"xset('font size',3);\n",
"xrect(-.05,1,.09,.09);\n",
"xrect(0.06,1,.09,.09);\n",
"xrect(0.17,1,.09,.09);\n",
"xrect(0.72,1,.09,.09);\n",
"xrect(0.83,1,.09,.09);\n",
"xstring(-.02,1,['a']);\n",
"xstring(0.09,1,['b']);\n",
"xstring(.20,1,['c']);\n",
"xstring(.75,1,['j']);\n",
"xstring(.86,1,['k']);\n",
"xstring(0.06,.75,['A -  Sender']);\n",
"xstring(0.8,.75,['P -  Reciever']);\n",
"xrect(.06,.7,.07,.05);\n",
"xstringb(.06,.65,['Data'],.07,.05);\n",
"xrect(.8,.7,.07,.05);\n",
"xstringb(.8,.65,['Data'],.07,.05);\n",
"xstring(.13,.65,['----------------------------------------------------Application Layer------------------------------------------------'])\n",
"xrects([ 0 .03 .06;.6 .6 .6;.03 .03 .07;.06 .06 .06]);\n",
"xrects([.74 .77 .80;.6 .6 .6;.03 .03 .07;.06 .06 .06]);\n",
"xstring(0.005,.55,['a']);\n",
"xstring(0.035,.55,['j']);\n",
"xrect(.065,.595,.06,.05);\n",
"xstring(.074,.555,['Data']);\n",
"xstring(0.745,.55,['a']);\n",
"xstring(0.775,.55,['j']);\n",
"xrect(.805,.595,.06,.05);\n",
"xstring(.82,.555,['Data']);\n",
"xstring(.13,.55,['---------------------------------------------------Transport Layer----------------------------------------'])\n",
"xrect(-.06,.465,.19,.065);\n",
"xrect(.68,.465,.19,.065);\n",
"xrects([ -.06 -.03 0;.47 .47 .47;.03 .03 .13;.06 .06 .06]);\n",
"xrects([.68 .71 .74;.47 .47 .47;.03 .03 .13;.06 .06 .06]);\n",
"xrects([ 0 .03 .06;.46 .46 .46;.03 .03 .07;.057 .057 .057]);\n",
"xrects([.74 .77 .80;.46 .46 .46;.03 .03 .07;.057 .057 .057]);\n",
"xstring(0.005,.41,['a']);\n",
"xstring(0.035,.41,['j']);\n",
"xrect(.065,.455,.06,.05);\n",
"xstring(.074,.415,['Data']);\n",
"xstring(0.745,.41,['a']);\n",
"xstring(0.775,.41,['j']);\n",
"xrect(.805,.455,.06,.05);\n",
"xstring(.82,.415,['Data']);\n",
"xstring(-.055,.42,['A']);\n",
"xstring(-.02,.42,['P']);\n",
"xstring(.69,.42,['A']);\n",
"xstring(.72, .42,['P']);\n",
"xstring(.13,.42,['---------------------------------------------Network Layer-------------------------------------']);\n",
"xrect(-.06,.305,.19,.075);\n",
"xrect(.68,.305,.19,.075);\n",
"xrects([ -.06 -.03 0;.3 .3 .3;.03 .03 .13;.06 .06 .06]);\n",
"xrects([.68 .71 .74;.3 .3 .3;.03 .03 .13;.06 .06 .06]);\n",
"xrects([ 0 .03 .06;.297 .297 .297;.03 .03 .07;.057 .057 .057]);\n",
"xrects([.74 .77 .80;.297 .297 .297;.03 .03 .07;.057 .057 .057]);\n",
"xstring(0.005,.24,['a']);\n",
"xstring(0.035,.24,['j']);\n",
"xrect(.065,.29,.06,.05);\n",
"xstring(.074,.245,['Data']);\n",
"xstring(0.745,.24,['a']);\n",
"xstring(0.775,.24,['j']);\n",
"xrect(.805,.29,.06,.05);\n",
"xstring(.82,.245,['Data']);\n",
"xstring(-.055,.25,['A']);\n",
"xstring(-.02,.25,['P']);\n",
"xstring(.69,.25,['A']);\n",
"xstring(.72, .25,['P']);\n",
"xset('color',2);\n",
"xfrect(-.09,.305,.03,.075);\n",
"xfrect(.65,.305,.03,.075);\n",
"xfrect(.13,.305,.03,.075);\n",
"xfrect(.87,.305,.03,.075);\n",
"xstring(-.087,.24,['H2']);\n",
"xstring(.13,.24,['T2']);\n",
"xstring(.655,.24,['H2']);\n",
"xstring(.87,.24,['T2']);\n",
"xstring(.155,.26,['--------------------------------------Data link Layer---------------------------------']);\n",
"xset('color',0);\n",
"xstring(.38,.05,['Internet']);\n",
"xarc(0.3,.15,.2,.2,0,360*64);\n",
"xpoly([0.09,0.09],[.75,.7]);\n",
"xpoly([0.09,0.09],[.65,.6]);\n",
"xpoly([0.09,0.09],[.54,.47]);\n",
"xpoly([0.09,0.09],[.4,.3]);\n",
"xarrows([0.1,.3],[.23 .08]);\n",
"xpoly([0.84,0.84],[.75,.7]);\n",
"xpoly([0.84,0.84],[.65,.6]);\n",
"xpoly([0.84,0.84],[.54,.47]);\n",
"xpoly([0.84,0.84],[.4,.3]);\n",
"xpoly([.5 .8],[.08 .23]);\n",
"xpoly([-.02 .06],[.91 0.77]);\n",
"xarrows([.82 .75],[.77 0.91]);\n",
"disp('--------------Example 2.4----------------')\n",
"// display the text\n",
"printf('Figure shows two computers communicating via the Internet. The sending computer is running three processes at\nthis time with port addresses a, b, and c. The receiving computer is running two processes at this time with port addresses j and k.\nProcess a in the sending computer needs to communicate with process j in the receiving computer.\nNote that although both computers are using the same application, FTP, the port addresses are different because one is a client\nprogram and the other is a server program . To show that data from process a need to be delivered to process j, and not k,\nthe transport layer encapsulates data from the application layer in a packet and adds two port addresses (a and j), source and destination.\nThe packet from the transport layer is then encapsulated in another packet at the network layer with logical source and\ndestination addresses (A and P). Finally, this packet is encapsulated in a frame with the physical source and destination addresses of the next\nhop. We have not shown the physical addresses because they change from hop to hop inside the cloud designated as the Internet. Note\nthat although physical addresses change from hop to hop, logical and port\naddresses remain the same from the source to destination.');"
   ]
   }
,
{
		   "cell_type": "markdown",
		   "metadata": {},
		   "source": [
			"## Example 2.5: single_number_portaddress.sce"
		   ]
		  },
  {
"cell_type": "code",
	   "execution_count": null,
	   "metadata": {
	    "collapsed": true
	   },
	   "outputs": [],
"source": [
"clear;\n",
"clc;\n",
"disp('--------------Example 2.5---------------')\n",
"disp('753 -  A 16-bit port address represented as one single decimal number.')"
   ]
   }
],
"metadata": {
		  "kernelspec": {
		   "display_name": "Scilab",
		   "language": "scilab",
		   "name": "scilab"
		  },
		  "language_info": {
		   "file_extension": ".sce",
		   "help_links": [
			{
			 "text": "MetaKernel Magics",
			 "url": "https://github.com/calysto/metakernel/blob/master/metakernel/magics/README.md"
			}
		   ],
		   "mimetype": "text/x-octave",
		   "name": "scilab",
		   "version": "0.7.1"
		  }
		 },
		 "nbformat": 4,
		 "nbformat_minor": 0
}
