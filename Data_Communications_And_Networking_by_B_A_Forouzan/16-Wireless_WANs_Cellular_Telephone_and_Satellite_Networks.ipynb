{
"cells": [
 {
		   "cell_type": "markdown",
	   "metadata": {},
	   "source": [
       "# Chapter 16: Wireless WANs Cellular Telephone and Satellite Networks"
	   ]
	},
{
		   "cell_type": "markdown",
		   "metadata": {},
		   "source": [
			"## Example 16.1: Period_of_moo.sce"
		   ]
		  },
  {
"cell_type": "code",
	   "execution_count": null,
	   "metadata": {
	    "collapsed": true
	   },
	   "outputs": [],
"source": [
"clear;\n",
"clc;\n",
"disp('--------------Example 16.1---------------')\n",
"C=1/100;\n",
"dist_moon=384000; // 384,000 km\n",
"radius_earth = 6378; // 6378 km\n",
"distance=dist_moon+radius_earth ;//  total distance in km\n",
"Period=C*((distance)^1.5); //formula\n",
"month=round(Period/2592000); // 1 month = 60*60*24*30=2592000 seconds\n",
"printf('The period of the Moon, according to Keplers law is %d s or approximately %d month.',floor(Period),month);\n",
""
   ]
   }
,
{
		   "cell_type": "markdown",
		   "metadata": {},
		   "source": [
			"## Example 16.2: Period_of_geostationary_satellite.sce"
		   ]
		  },
  {
"cell_type": "code",
	   "execution_count": null,
	   "metadata": {
	    "collapsed": true
	   },
	   "outputs": [],
"source": [
"clear;\n",
"clc;\n",
"disp('--------------Example 16.2---------------')\n",
"C=1/100;\n",
"orbit=35786; // 35,786 km\n",
"radius_earth = 6378; // 6378 km\n",
"distance=orbit+radius_earth ;//  total distance in km\n",
"Period=C*((distance)^1.5); //formula\n",
"hour=round(Period/3600); // 1 hour = 60*60=3600 seconds\n",
"printf('According to Keplers law, the period of the satellite is %d s or %d hours.',floor(Period),hour);\n",
"printf('\nThis means that a satellite located at %d km has a period of %d h, which is the same as the rotation period of the Earth.\nA satellite like this is said to be stationary to the Earth. The orbit is called a geosynchronous orbit.',orbit,hour);"
   ]
   }
],
"metadata": {
		  "kernelspec": {
		   "display_name": "Scilab",
		   "language": "scilab",
		   "name": "scilab"
		  },
		  "language_info": {
		   "file_extension": ".sce",
		   "help_links": [
			{
			 "text": "MetaKernel Magics",
			 "url": "https://github.com/calysto/metakernel/blob/master/metakernel/magics/README.md"
			}
		   ],
		   "mimetype": "text/x-octave",
		   "name": "scilab",
		   "version": "0.7.1"
		  }
		 },
		 "nbformat": 4,
		 "nbformat_minor": 0
}
