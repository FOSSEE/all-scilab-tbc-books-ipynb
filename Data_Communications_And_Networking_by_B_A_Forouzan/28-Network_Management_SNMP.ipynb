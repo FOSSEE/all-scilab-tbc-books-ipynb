{
"cells": [
 {
		   "cell_type": "markdown",
	   "metadata": {},
	   "source": [
       "# Chapter 28: Network Management SNMP"
	   ]
	},
{
		   "cell_type": "markdown",
		   "metadata": {},
		   "source": [
			"## Example 28.1: Define_INTEGER_14.sce"
		   ]
		  },
  {
"cell_type": "code",
	   "execution_count": null,
	   "metadata": {
	    "collapsed": true
	   },
	   "outputs": [],
"source": [
"clear;\n",
"clc;\n",
"disp('--------------Example 28.1---------------')\n",
"tag='00000010'; // INTEGER tag\n",
"Length='00000100'; // 4 bytes = 4*8=32 bits\n",
"value=14; // INTEGER 14\n",
"value_bin=dec2bin(value,32); // value in binary\n",
"value_hex=dec2hex(value); // value in hexadecimal\n",
"tag_dec=bin2dec(tag); // tag's decimal value\n",
"Length_dec=bin2dec(Length); // length's decimal value or number of bytes\n",
"bytes=strsplit(value_bin,[8 16 24]); // split value into 4 bytes\n",
"// convert the bytes to decimal\n",
"byte1=bin2dec(bytes(1));\n",
"byte2=bin2dec(bytes(2));\n",
"byte3=bin2dec(bytes(3));\n",
"// display the format\n",
"printf('\n       0%d          0%d          0%d         0%d        0%d        0%s\n',tag_dec,Length_dec,byte1,byte2,byte3,value_hex);\n",
"printf('    | %s | %s |%s |  %s |  %s |  %s|\n',tag,Length,bytes(1),bytes(2),bytes(3),bytes(4));\n",
"printf('      Tag        Length                   Value(%d)\n',value);\n",
"printf('     (integer)  (4 bytes)');"
   ]
   }
,
{
		   "cell_type": "markdown",
		   "metadata": {},
		   "source": [
			"## Example 28.2: Define_OCTETSTRING_HI.sce"
		   ]
		  },
  {
"cell_type": "code",
	   "execution_count": null,
	   "metadata": {
	    "collapsed": true
	   },
	   "outputs": [],
"source": [
"clear;\n",
"clc;\n",
"disp('--------------Example 28.2---------------')\n",
"tag='00000100'; // OCTET STRING tag\n",
"Length='00000010'; // 2 bytes \n",
"octet_string='HI';\n",
"H_value='01001000'; // 48\n",
"I_value='01001001'; // 49\n",
"H_value_dec=48; // value in decimal\n",
"I_value_dec=49; // value in decimal\n",
"tag_dec=bin2dec(tag); // tag's decimal value\n",
"Length_dec=bin2dec(Length); // length's decimal value or number of bytes\n",
"// display the format\n",
"printf('\n       0%d          0%d          %d         %d\n',tag_dec,Length_dec,H_value_dec,I_value_dec);\n",
"printf('    | %s | %s | %s |  %s |\n',tag,Length,H_value,I_value);\n",
"printf('      Tag        Length       Value      Value\n');\n",
"printf('     (string)   (2 bytes)      (H)         (I)');"
   ]
   }
,
{
		   "cell_type": "markdown",
		   "metadata": {},
		   "source": [
			"## Example 28.3: Define_ObjectIdentifier.sce"
		   ]
		  },
  {
"cell_type": "code",
	   "execution_count": null,
	   "metadata": {
	    "collapsed": true
	   },
	   "outputs": [],
"source": [
"clear;\n",
"clc;\n",
"disp('--------------Example 28.3---------------')\n",
"tag='00000110'; // OBJECT IDENTIFIER tag\n",
"Length='00000100'; // 4 bytes \n",
"ObjectIdentifier='1.3.6.1'; // (iso.org.dod.internet)\n",
"ot1=1;\n",
"ot2=3;\n",
"ot3=6;\n",
"ot4=1;\n",
"// convert the bytes to binary\n",
"byte1=dec2bin(ot1,8);\n",
"byte2=dec2bin(ot2,8);\n",
"byte3=dec2bin(ot3,8);\n",
"byte4=dec2bin(ot4,8);\n",
"tag_dec=bin2dec(tag); // tag's decimal value\n",
"Length_dec=bin2dec(Length); // length's decimal value or number of bytes\n",
"// display the format\n",
"printf('\n       0%d          0%d          0%d         0%d        0%d        0%d\n',tag_dec,Length_dec,ot1,ot2,ot3,ot4);\n",
"printf('    | %s | %s |%s |  %s |  %s |  %s|\n',tag,Length,byte1,byte2,byte3,byte4);\n",
"printf('      Tag        Length      Value     Value     Value       Value\n');\n",
"printf('     (ObjectId)  (4 bytes)    (%d)      (%d)       (%d)          (%d)\n',ot1,ot2,ot3,ot4);\n",
"printf('                          |------%s (iso.org.dod.internet)--------|',ObjectIdentifier);"
   ]
   }
,
{
		   "cell_type": "markdown",
		   "metadata": {},
		   "source": [
			"## Example 28.4: Define_IPAddress.sce"
		   ]
		  },
  {
"cell_type": "code",
	   "execution_count": null,
	   "metadata": {
	    "collapsed": true
	   },
	   "outputs": [],
"source": [
"clear;\n",
"clc;\n",
"disp('--------------Example 28.4---------------')\n",
"tag='01000000'; // IPAddress tag\n",
"Length='00000100'; // 4 bytes \n",
"IPAddress='131.21.14.8'; // value\n",
"tag_dec=bin2dec(tag); // tag's decimal value\n",
"tag_hex=dec2hex(tag_dec); // tag's hex value\n",
"Length_dec=bin2dec(Length); // length's decimal value or number of bytes\n",
"ip1=131;\n",
"ip2=21;\n",
"ip3=14;\n",
"ip4=8;\n",
"// convert the bytes to binary\n",
"byte1=dec2bin(ip1,8);\n",
"byte2=dec2bin(ip2,8);\n",
"byte3=dec2bin(ip3,8);\n",
"byte4=dec2bin(ip4,8);\n",
"// connvert bytes to hexadecimal\n",
"h1=dec2hex(ip1);\n",
"h2=dec2hex(ip2);\n",
"h3=dec2hex(ip3);\n",
"h4=dec2hex(ip4);\n",
"// display the format\n",
"printf('\n        %s          0%d         %s         %s         0%s         0%s\n',tag_hex,Length_dec,h1,h2,h3,h4);\n",
"printf('    | %s | %s |%s |  %s |  %s |  %s|\n',tag,Length,byte1,byte2,byte3,byte4);\n",
"printf('      Tag        Length      Value     Value     Value       Value\n');\n",
"printf('    (IPAddress)  (4 bytes)   (%d)      (%d)      (%d)         (%d)\n',ip1,ip2,ip3,ip4);\n",
"printf('                          |---------------%s------------------|',IPAddress);"
   ]
   }
,
{
		   "cell_type": "markdown",
		   "metadata": {},
		   "source": [
			"## Example 28.5: SNMP_message_to_retrieve_UDP_datagrams.sce"
		   ]
		  },
  {
"cell_type": "code",
	   "execution_count": null,
	   "metadata": {
	    "collapsed": true
	   },
	   "outputs": [],
"source": [
"clear;\n",
"clc;\n",
"disp('--------------Example 28.5---------------')\n",
"//example explanation\n",
"printf('In this example, a manager station (SNMP client) uses the GetRequest message to retrieve the number of UDP datagrams that a\nrouter has received.\n\nThere is only one VarBind entity. The corresponding MIB variable related to this information is udpInDatagrams with the object identifier\n1.3.6.1.2.1.7.1.0. The manager wants to retrieve a value (not to store a value), so the value defines a null entity.\n\nThe VarBind list has only one VarBind. The variable is of type 06 and length 09.\nThe value is of type 05 and length 00. The whole VarBind is a sequence of length 0D (13).\nThe VarBind list is also a sequence of length 0F (15). The GetRequest PDU is of length 1D (29).\n\nThere are three OCTET STRINGs related to the security parameter, security model, and flags. Then we have two integers defining\nmaximum size (1024) and message ID (64). The header is a sequence of length 12, which we left blank for simplicity. There is one integer,\nversion (version 3). The whole message is a sequence of 52 bytes.\n\nThe figure shows the actual message sent by the manager station (client) to the agent (server).It shows the conceptual view of\nthe packet and the hierarchical nature of sequences.White boxes and colored boxes are used for the sequences and a gray one for the PDU.');\n",
"// display the figure\n",
"clf();\n",
"xname('--------------Example 28.5----------------');\n",
"xfrect(.04,.5,.5,.3);\n",
"a=gce();\n",
"a.background=color('gray')\n",
"xfrect(.06,.33,.4,.1);\n",
"a=gce();\n",
"a.background=color('white');\n",
"xfrect(.08,.3,.3,.06);\n",
"a=gce();\n",
"a.background=color('gray')\n",
"xrects([0 .02 .02 .04 .06 .08;1 .9 .55 .5 .33 .3;.7 .1 .6 .5 .4 .3;.9 .04 .4 .3 .1 .06]);\n",
"xset('font size',2.5)\n",
"xstring(.72,.55,'Whole message a sequence of 52 bytes');\n",
"xstring(0.01,.96,'02 01 03                          INTEGER, version');\n",
"xstring(.023,.88,'__  __   ...   __       Header, sequence of length 12, not shown');\n",
"xstring(0.01,.81,'02 01 40             Two');\n",
"xstring(0.01,.78,'02 02 04 00        INTEGERs');\n",
"xstring(0.01,.7,'04 01 00              Three');\n",
"xstring(0.01,.67,'04 00                    OCTET STRINGs');\n",
"xstring(0.01,.64,'04 00');\n",
"xstring(0.04,.51,'A0 1D');\n",
"xstring(0.042,.47,'02 04 00 01 06 11            Three');\n",
"xstring(0.042,.44,'02 01 00                              INTEGERs');\n",
"xstring(0.042,.41,'02 01 00');\n",
"xstring(0.082,.27,'06 09 01 03 06 01 02 07 01 00                                    VarBind');\n",
"xstring(0.082,.24,'05 00');\n",
"xstring(0.46,.29,'VarBind list');\n",
"xstring(0.54,.3,'length 29');\n",
"xstring(0.54,.33,'PDU of');\n",
"xstring(0.54,.36,'GetRequest');\n",
"xstring(0.63,.38,'Data, a');\n",
"xstring(0.63,.35,'sequence');\n",
"xstring(0.63,.32,'of 31');\n",
"xstring(0.63,.29,'bytes');\n",
"xpoly([.08 .1],[.84 .84]);\n",
"xpoly([.08 .1],[.78 .78]);\n",
"xpoly([.1 .1],[.78 .84]);\n",
"xpoly([.08 .1],[.72 .72]);\n",
"xpoly([.08 .1],[.64 .64]);\n",
"xpoly([.1 .1],[.64 .72]);\n",
"xset('font size',3.5);\n",
"xlfont('Monospaced',10,%t,%t);\n",
"xstring(0,1,'30 34');\n",
"xstring(0.01,.9,'30 0C');\n",
"xstring(0.01,.57,'30 1F');\n",
"xstring(0.06,.33,'30 0F');\n",
"xstring(0.08,.3,'30 0D');"
   ]
   }
],
"metadata": {
		  "kernelspec": {
		   "display_name": "Scilab",
		   "language": "scilab",
		   "name": "scilab"
		  },
		  "language_info": {
		   "file_extension": ".sce",
		   "help_links": [
			{
			 "text": "MetaKernel Magics",
			 "url": "https://github.com/calysto/metakernel/blob/master/metakernel/magics/README.md"
			}
		   ],
		   "mimetype": "text/x-octave",
		   "name": "scilab",
		   "version": "0.7.1"
		  }
		 },
		 "nbformat": 4,
		 "nbformat_minor": 0
}
