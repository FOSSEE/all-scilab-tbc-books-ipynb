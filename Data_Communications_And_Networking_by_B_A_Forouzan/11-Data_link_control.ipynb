{
"cells": [
 {
		   "cell_type": "markdown",
	   "metadata": {},
	   "source": [
       "# Chapter 11: Data link control"
	   ]
	},
{
		   "cell_type": "markdown",
		   "metadata": {},
		   "source": [
			"## Example 11.10: Piggybacking_without_Error.sce"
		   ]
		  },
  {
"cell_type": "code",
	   "execution_count": null,
	   "metadata": {
	    "collapsed": true
	   },
	   "outputs": [],
"source": [
"clear;\n",
"clc;\n",
"disp('--------------Example 11.10---------------')\n",
"// example explaination \n",
"printf('This example shows an exchange using piggybacking. The sequence of events that occur are as follows :\n\n* Node A begins the exchange of information with an I-frame numbered 0 followed by another I-frame numbered 1.\n\n* Node B piggybacks its acknowledgment of both frames onto an I-frame of its own.\n  Node Bs first I-frame is also numbered 0 [N(S) field] and contains a 2 in its N(R) field, acknowledging the receipt of As\n  frames 1 and 0 and indicating that it expects frame 2 to arrive next.\n\n* Node B transmits its second and third I-frames (numbered 1 and 2) before accepting further frames from node A.\n  Its N(R) information, therefore, has not changed: B frames 1 and 2 indicate that node B is still expecting As frame 2 to arrive next.\n\n* Node A has sent all its data. Therefore, it cannot piggyback an acknowledgment onto an I-frame and sends an S-frame instead.\n  The RR code indicates that A is still ready to receive. The number 3 in the N(R) field tells B that frames 0, 1, and 2 have all been\n  accepted and that A is now expecting frame number 3.')"
   ]
   }
,
{
		   "cell_type": "markdown",
		   "metadata": {},
		   "source": [
			"## Example 11.11: Piggybacking_with_Error.sce"
		   ]
		  },
  {
"cell_type": "code",
	   "execution_count": null,
	   "metadata": {
	    "collapsed": true
	   },
	   "outputs": [],
"source": [
"clear;\n",
"clc;\n",
"disp('--------------Example 11.11---------------')\n",
"// example explaination \n",
"printf('This example shows an exchange in which a frame is lost. The sequence of events that occur is as follows :\n\n* Node B sends three data frames (0, 1,and 2), but frame 1 is lost.\n\n* When node A receives frame 2, it discards it and sends a REJ frame for frame 1 since the protocol being used is Go-Back-N\nwith the special use of an REJ frame as a NAK frame.\n\n* The NAK frame does two things here: It confirms the receipt of frame 0 and declares that frame 1 and any following frames must be resent.\n\n* Node B, after receiving the REJ frame, resends frames 1 and 2.\n\n* Node A acknowledges the receipt by sending an RR frame (ACK) with acknowledgment number 3.');"
   ]
   }
,
{
		   "cell_type": "markdown",
		   "metadata": {},
		   "source": [
			"## Example 11.12: Network_layer_packet.sce"
		   ]
		  },
  {
"cell_type": "code",
	   "execution_count": null,
	   "metadata": {
	    "collapsed": true
	   },
	   "outputs": [],
"source": [
"clear;\n",
"clc;\n",
"disp('--------------Example 11.12---------------')\n",
"// example explaination\n",
"printf('This example shows the steps and the phases followed by a network layer packet as it is transmitted through a PPP connection.\nFor simplicity, unidirectional movement of data from the user site to the system site is assumed (such as sending an e-mail through an ISP).\n\n');\n",
"printf('The first two frames show link establishment. Two options are chosen(not shown in the figure): using PAP for authentication and\nsuppressing the address control fields. Frames 3 and 4 are for authentication. Frames 5 and 6 establish the network layer connection using IPCP.\n\n');\n",
"printf('The next several frames show that some IP packets are encapsulated in the PPP frame. The system (receiver) may have been running\nseveral network layer protocols, but it knows that the incoming data must be delivered to the IP protocol because the NCP protocol\nused before the data transfer was IPCP.\n\n');\n",
"printf('After data transfer, the user then terminates the data link connection, which is acknowledged by the system.\nOf course the user or the system could have chosen to terminate the network layer IPCP and keep the data link layer running if it\nwanted to run another NCP protocol.')"
   ]
   }
,
{
		   "cell_type": "markdown",
		   "metadata": {},
		   "source": [
			"## Example 11.1: Simplest_protocol.sce"
		   ]
		  },
  {
"cell_type": "code",
	   "execution_count": null,
	   "metadata": {
	    "collapsed": true
	   },
	   "outputs": [],
"source": [
"clear;\n",
"clc;\n",
"disp('--------------Example 11.1---------------')\n",
"//explain the example\n",
"printf('This an example of communication using the simplest protocol. It is very simple. The sender sends a sequence of frames\nwithout even thinking about the receiver. To send three frames, three events occur at the sender site and three events at the receiver site.\nThe data frames are shown by tilted boxes in the figure; the height of the box defines the transmission time difference between the first bit\nand the last bit in the frame.');\n",
"// display the figure\n",
"clf();\n",
"xname('--------------Example 11.1----------------');\n",
"xrects([.3 .6;.7 .7;.05 .05;.06 .06]);\n",
"xset('font size',3);\n",
"xstring(.3,.75,'Sender');\n",
"xstring(.6,.75,'Reciever');\n",
"xstring(.32,.65,'A');\n",
"xstring(.62,.65,'B');\n",
"xstring(.22,.327,'Request');\n",
"xstring(.22,.427,'Request');\n",
"xstring(.22,.527,'Request');\n",
"xstring(.67,.29,'Arrival');\n",
"xstring(.67,.39,'Arrival');\n",
"xstring(.67,.49,'Arrival');\n",
"xstring(.35,.52,'Frame',8);\n",
"xstring(.35,.42,'Frame',8);\n",
"xstring(.35,.32,'Frame',8);\n",
"xarrows([.29 .325],[.55 .55],.3);\n",
"xarrows([.29 .325],[.45 .45],.3);\n",
"xarrows([.29 .325],[.35 .35],.3);\n",
"xarrows([.625 .66],[.5 .5],.3);\n",
"xarrows([.625 .66],[.4 .4],.3);\n",
"xarrows([.625 .66],[.3 .3],.3);\n",
"xset('color',4.9);\n",
"xfpoly([.325 .625 .625 .325],[.56 .51 .46 .51]);\n",
"xfpoly([.325 .625 .625 .325],[.46 .41 .36 .41]);\n",
"xfpoly([.325 .625 .625 .325],[.36 .31 .26 .31]);\n",
"xset('color',0);\n",
"xset('line style',2);\n",
"xarrows([.325 .325],[.64 .14],.3);\n",
"xarrows([.625 .625],[.64 .14],.3);\n",
"xstring(.3,.1,'Time');\n",
"xstring(.6,.1,'Time');"
   ]
   }
,
{
		   "cell_type": "markdown",
		   "metadata": {},
		   "source": [
			"## Example 11.2: Stop_and_wait.sce"
		   ]
		  },
  {
"cell_type": "code",
	   "execution_count": null,
	   "metadata": {
	    "collapsed": true
	   },
	   "outputs": [],
"source": [
"clear;\n",
"clc;\n",
"disp('--------------Example 11.2---------------')\n",
"//explain the example\n",
"printf('This is an example of communication using the Stop and Wait protocol. It is still very simple. The sender sends one frame and\nwaits for feedback from the receiver. When the ACK arrives, the sender sends the next frame. Sending two frames in this\nprotocol involves the sender in four events and the receiver in two events.');\n",
"// display the figure\n",
"clf();\n",
"xname('--------------Example 11.2----------------');\n",
"xrects([.3 .6;.7 .7;.05 .05;.06 .06]);\n",
"xset('font size',3);\n",
"xstring(.3,.75,'Sender');\n",
"xstring(.6,.75,'Reciever');\n",
"xstring(.32,.65,'A');\n",
"xstring(.62,.65,'B');\n",
"xstring(.35,.52,'Frame',8);\n",
"xstring(.35,.3,'Frame',8);\n",
"xstring(.58,.41,'ACK',-8);\n",
"xstring(.58,.19,'ACK',-8);\n",
"xstring(.22,.527,'Request');\n",
"xstring(.22,.3,'Request');\n",
"xstring(.24,.38,'Arrival');\n",
"xstring(.24,.16,'Arrival');\n",
"xstring(.67,.49,'Arrival');\n",
"xstring(.67,.27,'Arrival');\n",
"xarrows([.29 .325],[.55 .55],.3);\n",
"xarrows([.29 .325],[.32 .32],.3);\n",
"xarrows([.325 .29],[.39 .39],.3);\n",
"xarrows([.325 .29],[.17 .17],.3);\n",
"xarrows([.625 .66],[.5 .5],.3);\n",
"xarrows([.625 .66],[.28 .28],.3);\n",
"xset('color',4.9);\n",
"xfpoly([.325 .625 .625 .325],[.56 .51 .46 .51]);\n",
"xfpoly([.325 .625 .625 .325],[.34 .29 .24 .29]);\n",
"xfpoly([.325 .625 .625 .325],[.41 .46 .41 .36]);\n",
"xfpoly([.325 .625 .625 .325],[.19 .24 .19 .14]);\n",
"xset('color',0)\n",
"xset('line style',2);\n",
"xarrows([.325 .325],[.64 .1],.3);\n",
"xarrows([.625 .625],[.64 .1],.3);\n",
"xstring(.3,.06,'Time');\n",
"xstring(.6,.06,'Time');\n",
"xset('font size',8);\n",
"xstring(.46,.08,'.');\n",
"xstring(.46,.06,'.');\n",
"xstring(.46,.1,'.');"
   ]
   }
,
{
		   "cell_type": "markdown",
		   "metadata": {},
		   "source": [
			"## Example 11.3: Stop_and_wait_ARQ.sce"
		   ]
		  },
  {
"cell_type": "code",
	   "execution_count": null,
	   "metadata": {
	    "collapsed": true
	   },
	   "outputs": [],
"source": [
"clear;\n",
"clc;\n",
"disp('--------------Example 11.3---------------')\n",
"// example explaination \n",
"printf('This an example of Stop-and-Wait ARQ. The series of events taking place are as follows : \n\n* Frame 0 is sent and acknowledged.\n* Frame 1 is lost and resent after the time-out.\n* The resent frame 1 is acknowledged and the timer stops.\n* Frame 0 is sent and acknowledged, but the acknowledgment is lost.\n* The sender has no idea if the frame or the acknowledgment is lost, so after the time-out, it resends frame 0, which is acknowledged.')"
   ]
   }
,
{
		   "cell_type": "markdown",
		   "metadata": {},
		   "source": [
			"## Example 11.4: Bandwidth_delay_product.sce"
		   ]
		  },
  {
"cell_type": "code",
	   "execution_count": null,
	   "metadata": {
	    "collapsed": true
	   },
	   "outputs": [],
"source": [
"clear;\n",
"clc;\n",
"disp('--------------Example 11.4---------------')\n",
"bandwidth= 1*10^6; // 1 Mbps\n",
"delay = 20*10^-3; // 20 ms\n",
"bandwidth_delay_product=bandwidth*delay;\n",
"frame_length=1000; // each frame has 1000 bits\n",
"utilization_percentage = (frame_length/bandwidth_delay_product)*100; // formula\n",
"printf('\nThe bandwidth-delay product is %d. Hence the system can send %d bits during the time it takes for the data to go from\nthe sender to the receiver and then back again.\nThe utilization percentage of the link is %d percent.',bandwidth_delay_product,bandwidth_delay_product,utilization_percentage); // display result"
   ]
   }
,
{
		   "cell_type": "markdown",
		   "metadata": {},
		   "source": [
			"## Example 11.5: link_utilization_percentage.sce"
		   ]
		  },
  {
"cell_type": "code",
	   "execution_count": null,
	   "metadata": {
	    "collapsed": true
	   },
	   "outputs": [],
"source": [
"clear;\n",
"clc;\n",
"disp('--------------Example 11.5---------------')\n",
"bandwidth= 1*10^6; // 1 Mbps\n",
"delay = 20*10^-3; // 20 ms\n",
"bandwidth_delay_product=bandwidth*delay;\n",
"frame_length=1000; // each frame has 1000 bits\n",
"num_frames= 15; // The system can send up to 15 frames during a round trip.\n",
"utilization_percentage = (frame_length*num_frames/bandwidth_delay_product)*100; // formula\n",
"printf('The bandwidth delay product is %d and the utilization percentage of the link is %d percent.',bandwidth_delay_product,utilization_percentage); // display result"
   ]
   }
,
{
		   "cell_type": "markdown",
		   "metadata": {},
		   "source": [
			"## Example 11.6: Go_Back_N.sce"
		   ]
		  },
  {
"cell_type": "code",
	   "execution_count": null,
	   "metadata": {
	    "collapsed": true
	   },
	   "outputs": [],
"source": [
"clear;\n",
"clc;\n",
"disp('--------------Example 11.6---------------')\n",
"// example explaination \n",
"printf('This an example of Go-Back-N. This is an example of a case where the forward channel is reliable, but the reverse is not.\nNo data frames are lost, but some ACKs are delayed and one is lost. The example also shows how cumulative\nacknowledgments can help if acknowledgments are delayed or lost.\n');\n",
"printf('\nAfter initialization, there are seven sender events. Request events are triggered by data from the network layer;\narrival events are triggered by acknowledgments from the physical layer. There is no time-out event here because all\noutstanding frames are acknowledged before the timer expires.Although ACK 2 is lost, ACK 3 serves as both ACK 2 and ACK3.\n\nThere are four receiver events, all triggered by the arrival of frames from the physical layer.')"
   ]
   }
,
{
		   "cell_type": "markdown",
		   "metadata": {},
		   "source": [
			"## Example 11.7: loss_of_frame.sce"
		   ]
		  },
  {
"cell_type": "code",
	   "execution_count": null,
	   "metadata": {
	    "collapsed": true
	   },
	   "outputs": [],
"source": [
"clear;\n",
"clc;\n",
"disp('--------------Example 11.7---------------')\n",
"// example explaination \n",
"printf('This example shows what happens when a frame is lost. The sequence of events that occur is as follows:\n\n* Frames 0, 1, 2, and 3 are sent. However, frame 1 is lost. The receiver receives frames 2 and 3, but they are discarded because they are received out\nof order (frame 1 is expected).\n\n* The sender receives no acknowledgment about frames 1, 2, or 3. Its timer finally expires. The sender sends all outstanding frames (1, 2, and 3)\nbecause it does not know what is wrong. The resending of frames l, 2, and 3 is the response to one single event.\n\n* When the sender is responding to this event, it cannot accept the triggering of other events. This means that when ACK 2 arrives,\nthe sender is still busy with sending frame 3. The physica1 layer must wait until this event is completed and the data link layer goes back\nto its sleeping state. A vertical line indicates this delay in the figure.\n\n* It is the same story with ACK 3; but when ACK 3 arrives, the sender is busy responding to ACK 2. It happens\nagain when ACK 4 arrives. Before the second timer expires, all outstanding frames have been sent and the timer is stopped.')"
   ]
   }
,
{
		   "cell_type": "markdown",
		   "metadata": {},
		   "source": [
			"## Example 11.8: Selective_Repeat_ARQ.sce"
		   ]
		  },
  {
"cell_type": "code",
	   "execution_count": null,
	   "metadata": {
	    "collapsed": true
	   },
	   "outputs": [],
"source": [
"clear;\n",
"clc;\n",
"disp('--------------Example 11.8---------------')\n",
"// example explaination \n",
"printf('This example shows the behaviour of Selective Repeat when a frame is lost.\n\n');\n",
"printf('Here, each frame sent or resent needs a timer, which means that the timers need to be numbered (0, 1,2, and 3).\nThe timer for frame 0 starts at the first request, but stops when the ACK for this frame arrives.\nThe timer for frame 1 starts at the second request, restarts when a NAK arrives, and finally stops when the last ACK arrives.\nThe other two timers start when the corresponding frames are sent and stop at the last arrival event.');\n",
"printf('\n\nAt the second arrival, frame 2 arrives and is stored and marked (colored slot), but it cannot be delivered because frame 1 is missing.\nAt the next arrival, frame 3 arrives and is marked and stored, but still none of the frames can be delivered.\nOnly at the last arrival, when finally a copy of frame 1 arrives, can frames 1, 2, and 3 be delivered to the network layer.\nThere are two conditions for the delivery of frames to the network layer: First, a set of consecutive frames must have arrived.\nSecond, the set starts from the beginning of the window.\nAfter the first arrival, there was only one frame and it started from the beginning of the window. After the last arrival,\nthere are three frames and the first one starts from the beginning of the window.');\n",
"printf('\n\nA NAK is sent after the second arrival, but not after the third,although both situations look the same.\nThe reason is that the protocol does not want to crowd the network with unnecessary NAKs and unnecessary resent frames.\nThe second NAK would still be NAK1 to inform the sender to resend frame 1 again; this has already been done. The first NAK sent is remembered\n(using the nakSent variable) and is not sent again until the frame slides. A NAK is sent once for each window position and defines\nthe first slot in the window.');\n",
"printf('\n\nOnly two ACKs are sent here. The first one acknowledges only the first frame; the second one acknowledges three frames.\nIn Selective Repeat, ACKs are sent when data are delivered to the network layer. If the data belonging to n frames are delivered in one shot,\nonly one ACK is sent for all of them.')"
   ]
   }
,
{
		   "cell_type": "markdown",
		   "metadata": {},
		   "source": [
			"## Example 11.9: Connection_and_disconnection.sce"
		   ]
		  },
  {
"cell_type": "code",
	   "execution_count": null,
	   "metadata": {
	    "collapsed": true
	   },
	   "outputs": [],
"source": [
"clear;\n",
"clc;\n",
"disp('--------------Example 11.9---------------')\n",
"// example explaination \n",
"printf('This example shows how U-frames can be used for connection establishment and connection release.\n\n* Node A asks for a connection with a set asynchronous balanced mode (SABM) frame; node B gives a positive response with\n  an unnumbered acknowledgment (UA) frame.\n* After these two exchanges, data can be transferred between the two nodes (not shown in the figure).\n* After data transfer, node A sends a DISC (disconnect) frame to release the connection; it is confirmed by node B\n  responding with a UA (unnumbered acknowledgment).');"
   ]
   }
],
"metadata": {
		  "kernelspec": {
		   "display_name": "Scilab",
		   "language": "scilab",
		   "name": "scilab"
		  },
		  "language_info": {
		   "file_extension": ".sce",
		   "help_links": [
			{
			 "text": "MetaKernel Magics",
			 "url": "https://github.com/calysto/metakernel/blob/master/metakernel/magics/README.md"
			}
		   ],
		   "mimetype": "text/x-octave",
		   "name": "scilab",
		   "version": "0.7.1"
		  }
		 },
		 "nbformat": 4,
		 "nbformat_minor": 0
}
