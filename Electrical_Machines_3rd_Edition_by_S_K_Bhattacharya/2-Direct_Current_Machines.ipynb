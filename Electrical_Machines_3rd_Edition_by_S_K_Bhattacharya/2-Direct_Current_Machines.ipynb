{
"cells": [
 {
		   "cell_type": "markdown",
	   "metadata": {},
	   "source": [
       "# Chapter 2: Direct Current Machines"
	   ]
	},
{
		   "cell_type": "markdown",
		   "metadata": {},
		   "source": [
			"## Example 2.10: calculating_the_torque_developed.sce"
		   ]
		  },
  {
"cell_type": "code",
	   "execution_count": null,
	   "metadata": {
	    "collapsed": true
	   },
	   "outputs": [],
"source": [
"//calculating the torque developed\n",
"//Chapter 2\n",
"//Example 2.10\n",
"//page 98\n",
"clear;\n",
"clc;\n",
"disp('Example 2.10')\n",
"n=10;             //number of turns in 1 coil\n",
"l=0.2;            \n",
"d=0.2;          //diameter in metres\n",
"B=1;              //uniform magnetic field density in weber per m^2\n",
"N=1500;            //speed in rpm\n",
"r=(d/2);           //radius in metres\n",
"E=(B*l*((2*3.14*N)/60)*r*2*n);\n",
"printf('total induced emf=%f V',E)\n",
"R=4;                //total resistance in ohms\n",
"I=E/R;\n",
"printf('\nThe current through the armature coil when connected to the load,I=%f A',I)\n",
"T=(E*I)/((2*3.14*N)/60)\n",
"printf('\ntorque=%f Nm',T)"
   ]
   }
,
{
		   "cell_type": "markdown",
		   "metadata": {},
		   "source": [
			"## Example 2.11: calculating_various_parameters_of_dc_motor.sce"
		   ]
		  },
  {
"cell_type": "code",
	   "execution_count": null,
	   "metadata": {
	    "collapsed": true
	   },
	   "outputs": [],
"source": [
"//calculating various parameters of dc motor\n",
"//Chapter 2\n",
"//Example 2.11\n",
"//page 99\n",
"clear;\n",
"clc;\n",
"disp('Example 2.11')\n",
"V=230;            //armature voltage supply in volts\n",
"Ia=12;            //armature current in amperes\n",
"Ra=0.8;            //armature resistance in ohms\n",
"N=100;               //speed in radian per second\n",
"E=(V-(Ia*Ra))\n",
"printf('induced emf,E=%fV',E)\n",
"Te=(E*Ia)/N\n",
"printf('\nthe electromagnetic torque=%fNm',Te)\n",
"Pi=V*Ia\n",
"printf('\nelectrical input to the armature,Pinput= %dW',Pi)\n",
"Pd=Te*N\n",
"printf('\nmechanical developed=%fW',Pd)\n",
"loss=(Ia^2*Ra)\n",
"printf('\narmature copper loss=%fW',loss)\n",
"\n",
""
   ]
   }
,
{
		   "cell_type": "markdown",
		   "metadata": {},
		   "source": [
			"## Example 2.12: calculating_various_parameters_of_dc_machine.sce"
		   ]
		  },
  {
"cell_type": "code",
	   "execution_count": null,
	   "metadata": {
	    "collapsed": true
	   },
	   "outputs": [],
"source": [
"//calculating various parameters of dc motor\n",
"//Chapter 2\n",
"//Example 2.11\n",
"//page 99\n",
"clear;\n",
"clc;\n",
"disp('Example 2.11')\n",
"V=230;            //armature voltage supply in volts\n",
"Ia=12;            //armature current in amperes\n",
"Ra=0.8;            //armature resistance in ohms\n",
"N=100;               //speed in radian per second\n",
"E=(V-(Ia*Ra))\n",
"printf('induced emf,E=%fV',E)\n",
"Te=(E*Ia)/N\n",
"printf('\nthe electromagnetic torque=%fNm',Te)\n",
"Pi=V*Ia\n",
"printf('\nelectrical input to the armature,Pinput= %dW',Pi)\n",
"Pd=Te*N\n",
"printf('\nmechanical developed=%fW',Pd)\n",
"loss=(Ia^2*Ra)\n",
"printf('\narmature copper loss=%fW',loss)\n",
"\n",
""
   ]
   }
,
{
		   "cell_type": "markdown",
		   "metadata": {},
		   "source": [
			"## Example 2.13: calculating_speed_of_machine.sce"
		   ]
		  },
  {
"cell_type": "code",
	   "execution_count": null,
	   "metadata": {
	    "collapsed": true
	   },
	   "outputs": [],
"source": [
"//calculating speed of machine\n",
"//Chapter 2\n",
"//Example 2.13\n",
"//page 101\n",
"clear;\n",
"clc;\n",
"disp('Example 2.13')\n",
"disp('At generator condition')\n",
"P=50000;            //power delivered in watts\n",
"V=250;              //voltage in volts\n",
"Ra=0.02;            //armature resistance in ohms\n",
"Rf=50;              //field resistance in ohms\n",
"If=V/Rf             //field current in amperes\n",
"Ng=400;             //speed in generating condition in rpm\n",
"printf('field current,If=%dA',If)\n",
"Il=P/V               //load current in amperes\n",
"printf('\nLoad current,If=%dA',Il)\n",
"Ia=If+Il             //armature current in amperes\n",
"printf('\nAramture current,If=%dA\n',Ia)\n",
"Eg=(V+(Ia*Ra))\n",
"disp('At motor condition')\n",
"Ia=(Il-If)\n",
"printf('Aramture current,If=%dA',Ia)\n",
"Em=(V-(Ia*Ra))\n",
"printf('\nEm=%fV',Em)\n",
"Nm=(Ng*Em)/Eg\n",
"printf('\nSpeed of the motor=%drpm',Nm)"
   ]
   }
,
{
		   "cell_type": "markdown",
		   "metadata": {},
		   "source": [
			"## Example 2.14: calculating_speed_ratio_of_generator_and_motor_working_conditios.sce"
		   ]
		  },
  {
"cell_type": "code",
	   "execution_count": null,
	   "metadata": {
	    "collapsed": true
	   },
	   "outputs": [],
"source": [
"//calculating speed ratio of generator and motor working conditios\n",
"//Chapter 2\n",
"//Example 2.14\n",
"//page 101\n",
"clear;\n",
"clc;\n",
"disp('Example 2.14')\n",
"V=250;                //voltage supply in volts\n",
"Ra=0.12;              //armature resistance in ohms\n",
"Rf=100;                //field resistance in ohms\n",
"Il=80;                //load current in amperes\n",
"If=V/Rf                \n",
"printf('Field current,If=%f',If)\n",
"disp('When machine is generating')\n",
"Ia=Il+If\n",
"Eg=(V+(Ia*Ra))\n",
"printf('\nIa=%fA',Ia)\n",
"printf('\nEg=%fV',Eg)\n",
"disp('When machine is motoring')\n",
"Ia=Il-If\n",
"Em=(V-(Ia*Ra))\n",
"printf('\nIa=%fA',Ia)\n",
"printf('\nEg=%fV',Em)\n",
"ratio=Eg/Em\n",
"printf('\nRatio of speeds=%f',ratio)\n",
""
   ]
   }
,
{
		   "cell_type": "markdown",
		   "metadata": {},
		   "source": [
			"## Example 2.15: calculating_flux_and_area_of_pole_shoe_and_no_load_terminal_voltage.sce"
		   ]
		  },
  {
"cell_type": "code",
	   "execution_count": null,
	   "metadata": {
	    "collapsed": true
	   },
	   "outputs": [],
"source": [
"//calculating flux, area of pole shoe and no-load terminal voltage\n",
"//Chapter 2\n",
"//Example 2.15\n",
"//page 102\n",
"clear;\n",
"clc;\n",
"disp('Example 2.15')\n",
"V=550;            //voltage supply in volts\n",
"P=16;            //number of poles\n",
"N=150;             //speed in rpm\n",
"Z=2500;            //number of armature conductors\n",
"A=16;              \n",
"Power=1500000;        //power in watt\n",
"Cl=25000;              //full-load copper loss\n",
"B=0.9;                //flux density in the pole\n",
"Ia=Power/V\n",
"printf('Full load current=%fA',Ia)\n",
"Ra=Cl/(Ia^2)\n",
"printf('\nRa=%fohms',Ra)\n",
"E=V+(Ia*Ra)\n",
"printf('\nInduced emf=%fvolts',E)\n",
"phi=(E*60*A)/(Z*N*P)\n",
"printf('\nflux density=%fWb/m^2',B)\n",
"printf('\nflux=%fWb',phi)\n",
"area=(phi/B)\n",
"printf('\n Area of pole shoe=%fcm^2',(area*10000))"
   ]
   }
,
{
		   "cell_type": "markdown",
		   "metadata": {},
		   "source": [
			"## Example 2.16: calculate_approximate_time_of_commmutatio.sce"
		   ]
		  },
  {
"cell_type": "code",
	   "execution_count": null,
	   "metadata": {
	    "collapsed": true
	   },
	   "outputs": [],
"source": [
"//calculate approximate time of commmutation\n",
"//Chapter 2\n",
"//Example 2.16\n",
"//page 103\n",
"clear;\n",
"clc; \n",
"disp('Example 2.16')\n",
"Cd=0.76;            //commutator diameter in metres\n",
"Cr=.38;              //commutator radius in metres\n",
"bw=1.5*10^(-2);        //brush width in metres\n",
"N=600;                //speed in rpm\n",
"n=10;                //speed in rps\n",
"V=Cr*(2*3.14*n);        \n",
"printf('peripheral speed of commutator,V=%fm/sec',V);\n",
" Tc=bw/V;\n",
" printf('\nTime of commutation=%fseconds',Tc)\n",
" \n",
" \n",
" \n",
" \n",
" \n",
" "
   ]
   }
,
{
		   "cell_type": "markdown",
		   "metadata": {},
		   "source": [
			"## Example 2.17: calculate_resistance.sce"
		   ]
		  },
  {
"cell_type": "code",
	   "execution_count": null,
	   "metadata": {
	    "collapsed": true
	   },
	   "outputs": [],
"source": [
"//calculate resistance\n",
"//Chapter \n",
"//Example 2.17\n",
"//page 123\n",
"clear;\n",
"clc; \n",
"disp('Example 2.17')\n",
"V=240;            //supply voltage in volts\n",
"N=800;            //speed in rpm\n",
"Ia=2;              //armeture current in amperes\n",
"Ra=0.4;            //armature resistance in ohms\n",
"Rf=160;            //field resistance in ohms\n",
"Il1=30;            //line current in amperes\n",
"E=V-(Ia*Ra);       //induced emf in volts\n",
"disp('At no-load')\n",
"printf('E=%fV',E)\n",
"If=V/Rf;             //field current in amperes\n",
"printf('\nIf=%fA',If)\n",
"K1=E/(If*N);\n",
"printf('\nK1=%f',K1)\n",
"disp('At a load of 30A')\n",
"Ia1=(Il1-If);\n",
"E1=V-(Ia1*Ra);\n",
"N1=950;               //speed in rpm\n",
"If1=E1/(K1*N1);\n",
"printf('If1=%fA\n',If1);\n",
"Rr=V/If1;\n",
"R=(Rr-Rf);\n",
"printf('\nExtra resistance required in the field circuit,R=%fohms',R)\n",
"\n",
""
   ]
   }
,
{
		   "cell_type": "markdown",
		   "metadata": {},
		   "source": [
			"## Example 2.18: calculating_resistance_required_in_series.sce"
		   ]
		  },
  {
"cell_type": "code",
	   "execution_count": null,
	   "metadata": {
	    "collapsed": true
	   },
	   "outputs": [],
"source": [
"//calculating resistance required in series\n",
"//Chapter 2\n",
"//Example 2.18\n",
"//page 124\n",
"clear;\n",
"clc; \n",
"disp('Example 2.18')\n",
"V=230;                    //voltage supply in volts\n",
"Ia=20;                    //armature current in amperes\n",
"Ra=0.5;                    //armature resistance in ohms\n",
"E=V-(Ia*Ra);\n",
"printf('E=%dV',E)\n",
"disp('when extra resistance is added in the armature circuit,the speed is halved')\n",
"E2=E/2;\n",
"R=((V-E2)/Ia)-Ra;\n",
"disp('The load torque is conatant')\n",
"printf('extra resistance in the armature circui,R=%fohms',R)\n",
"disp('The load torque directly proportional to square of speed')\n",
"disp('if N is halfed, Iais one-fourthed')\n",
"Ia2=Ia/4;\n",
"R=((V-E2)/Ia2)-Ra;\n",
"printf('extra resistance in the armature circui,R=%fohms',R)\n",
"\n",
"\n",
"\n",
""
   ]
   }
,
{
		   "cell_type": "markdown",
		   "metadata": {},
		   "source": [
			"## Example 2.19: EX2_19.sce"
		   ]
		  },
  {
"cell_type": "code",
	   "execution_count": null,
	   "metadata": {
	    "collapsed": true
	   },
	   "outputs": [],
"source": [
"//calculating resistance required in series and also the speedwhen torque is halfed\n",
"//Chapter 2\n",
"//Example 2.19\n",
"//page 125\n",
"clear;\n",
"clc; \n",
"disp('Example 2.19')\n",
"V=250;                    //voltage supply in volts\n",
"Ia=50;                    //armature current in amperes\n",
"Ra=0.3;                    //armature resistance in ohms\n",
"N=1000;\n",
"E=V-(Ia*Ra);\n",
"printf('E=%dV',E)\n",
"disp('when extra resistance is added in the armature circuit when the speed is 800rpm')\n",
"N2=800;\n",
"E2=(E*N2)/N;\n",
"printf('\nE at 800rpm=%dV',E2)\n",
"R=((V-E2)/Ia)-Ra;\n",
"printf('\nextra resistance in the armature circui,R=%fohms',R)\n",
"disp('if load is halfed,Ia will be halfed')\n",
"Ia2=Ia/2;\n",
"E1=V-(Ia2*(Ra+R));\n",
"printf('E1=%dV',E1)\n",
"N1=(N2*E1)/E2;\n",
"printf('\nN1=%frpm',N1)"
   ]
   }
,
{
		   "cell_type": "markdown",
		   "metadata": {},
		   "source": [
			"## Example 2.20: calculating_the_speed_of_the_motor.sce"
		   ]
		  },
  {
"cell_type": "code",
	   "execution_count": null,
	   "metadata": {
	    "collapsed": true
	   },
	   "outputs": [],
"source": [
"//calculating the speed of the motor\n",
"//Chapter 2\n",
"//Example 2.20\n",
"//page 125\n",
"clear;\n",
"clc; \n",
"disp('Example 2.20')\n",
"Il=5;            //current in amperes al no-load\n",
"V=250;            //voltage in volts\n",
"Rf=250;            //field resistance in ohms\n",
"If1=V/Rf;            //field current in amperes\n",
"Ia1=Il-If1;            //armature current\n",
"Ra=0.2;                    //armature resistance in ohms\n",
"disp('at a load current of 50A')\n",
"Il2=50;                //load current in amperes\n",
"//armature reaction weakens by 3percent\n",
"If2=0.97;                    //current in amperes\n",
"Ia2=Il2-If2;\n",
"N1=1000; \n",
"E1=(V-(Ia1*Ra));\n",
"E2=(V-(Ia2*Ra));\n",
"N2=(N1*E2)/(0.97*E1);\n",
"printf('N2=%frpm',N2)"
   ]
   }
,
{
		   "cell_type": "markdown",
		   "metadata": {},
		   "source": [
			"## Example 2.21: Calculate_the_fullyload_speed_of_the_motor.sce"
		   ]
		  },
  {
"cell_type": "code",
	   "execution_count": null,
	   "metadata": {
	    "collapsed": true
	   },
	   "outputs": [],
"source": [
"//Calculate the fully-load speed of the motor\n",
"//Chapter 2\n",
"//Example 2.21\n",
"//page 126\n",
"clear;\n",
"clc;\n",
"disp('Example 2.21')\n",
"P=4;..................//pole\n",
"V=500;................//shunt motor  in volts\n",
"Ia=60;......................//armature current in amperes\n",
"Ra=0.2;..........................//armature resistance in ohms\n",
"E=V-(Ia*Ra)-2;\n",
"printf('voltage drop across each brush=%fV',E)\n",
"phi=0.03;.................................//flux per pole in Wb\n",
"Z=720;.....................................//total armature current in volts\n",
"A=2;\n",
"N=(E*60*A)/(phi*Z*P)\n",
"printf('\nfull load speed of the motor=%frpm',N)"
   ]
   }
,
{
		   "cell_type": "markdown",
		   "metadata": {},
		   "source": [
			"## Example 2.22: Calculate_the_value_of_resistance.sce"
		   ]
		  },
  {
"cell_type": "code",
	   "execution_count": null,
	   "metadata": {
	    "collapsed": true
	   },
	   "outputs": [],
"source": [
"//Calculate the value of resistance\n",
"//Chapter 2\n",
"//Example 2.22\n",
"//page 126\n",
"clear;\n",
"clc;\n",
"disp('Example 2.22')\n",
"V=440;                //primary voltage in volts\n",
"Ia=50;                //armature current in amperes\n",
"Ra=0.2;                //armature resistance in ohms\n",
"N=600;                  //speed in rpm\n",
"E=V-(Ia*Ra);           //emf induced  in volts before adding extra resistance\n",
"//E=K*phi*N=K1*Ia*N\n",
"K1=E/(Ia*N);\n",
"//we have the relation T=Kt1*Ia^2, T1=Kt1*Ia1^2\n",
"//when torque is half, say torque be T1\n",
"//T1=T/2. r=T/T1\n",
"r=2;\n",
"Ia1=sqrt(Ia^2/r);\n",
"printf('Ia1=%fA',Ia1);\n",
"//extra resistance R is introduced in the circuit\n",
"N1=400;\n",
"E1=(K1*Ia1*N1);\n",
"R=((V-E1)/Ia1)-Ra;\n",
"printf('\nvalue of extra resistance added=%fohms',R)\n",
"\n",
"\n",
"\n",
"\n",
""
   ]
   }
,
{
		   "cell_type": "markdown",
		   "metadata": {},
		   "source": [
			"## Example 2.23: Calculate_the_speed.sce"
		   ]
		  },
  {
"cell_type": "code",
	   "execution_count": null,
	   "metadata": {
	    "collapsed": true
	   },
	   "outputs": [],
"source": [
"//Calculate the speed\n",
"//Chapter 2\n",
"//Example 2.23\n",
"//page 127\n",
"clear;\n",
"clc;\n",
"disp('Example 2.23')\n",
"V=200;                        //voltage in volts\n",
"Ia=20;                        //armature current in amperes\n",
"Ra=0.5;                        //armature resistance in ohms\n",
"Rse=0.2;                        //field winding resistance in ohms\n",
"E=V-(Ia*(Ra+Rse));\n",
"printf('In first case,E=%fV',E)\n",
"//E=k*phi*N\n",
"N=1000;                        //speed in rpm\n",
"Kphi=E/N;   \n",
"//a resistance R is connected in parallel with the series field which is called diverter\n",
"disp('when resistace R is added and new conditions')\n",
"I=20;                        //total current flowing\n",
"//current is equally devided between series field and diverter\n",
"Ise2=I/2;\n",
"//flux at 10A current is 20percent of flux at 20A current\n",
"p=0.70;                //percentage of flux\n",
"Kpih1=p*Kphi;\n",
"E1=(V-((Ia*Ra)+(Ise2*Rse)));\n",
"printf('Induced emf=%fV',E1)\n",
"//new speed is N1\n",
"N1=E1/(p*Kphi)\n",
"printf('\nN1=%frpm',N1)\n",
""
   ]
   }
,
{
		   "cell_type": "markdown",
		   "metadata": {},
		   "source": [
			"## Example 2.24: Calculate_the_fullyload_speed_of_the_motor.sce"
		   ]
		  },
  {
"cell_type": "code",
	   "execution_count": null,
	   "metadata": {
	    "collapsed": true
	   },
	   "outputs": [],
"source": [
"//Calculate the fully-load speed of the motor\n",
"//Chapter 2\n",
"//Example 2.24\n",
"//page 128\n",
"clear;\n",
"clc;\n",
"disp('Example 2.24')\n",
"V=200;..............................//motor runs in volts\n",
"Ia=15;.............................//current taken in amperes\n",
"Ra=1;.................................//motor resistance in ohms\n",
"E1=V-(Ia*Ra);\n",
"printf('resistance when 1ohm=%fV',E1)\n",
"R=5;....................................//resistance \n",
"E2=V-(Ia*(Ra+R))\n",
"printf('\nResistance when 5ohms connected in series=%fV',E2)\n",
"N1=800;............................//speed of motor in rpm\n",
"N2=N1*(E2/E1);\n",
"printf('\nspeed at which motor will run when resistance is 5ohms=%frpm',N2)"
   ]
   }
,
{
		   "cell_type": "markdown",
		   "metadata": {},
		   "source": [
			"## Example 2.25: Calculate_the_ampere_turns_for_each_commutating_pole.sce"
		   ]
		  },
  {
"cell_type": "code",
	   "execution_count": null,
	   "metadata": {
	    "collapsed": true
	   },
	   "outputs": [],
"source": [
"//Calculate the ampere turns for each commutating pole\n",
"//Chapter 2\n",
"//Example 2.25\n",
"//page 135\n",
"clear;\n",
"clc;\n",
"disp('Example 2.25')\n",
"P=8;..........................//pole\n",
"Z=107;.........................//generator with slots\n",
"Ia=1000;.....................//current containing in amperes\n",
"Bag=0.32;......................//gap flux density in Wb/m^2\n",
"lg=0.012;..........................//interpole air gap in meters\n",
"pi=3.14;\n",
"Mu=(4*pi*10^-7)\n",
"AT=(((Ia*Z)/(2*P))+((Bag*lg)/Mu));\n",
"printf('current for each commutating pole=%f',AT)"
   ]
   }
,
{
		   "cell_type": "markdown",
		   "metadata": {},
		   "source": [
			"## Example 2.26: Estimating_the_number_of_turns_needed_on_each_commutating_pole.sce"
		   ]
		  },
  {
"cell_type": "code",
	   "execution_count": null,
	   "metadata": {
	    "collapsed": true
	   },
	   "outputs": [],
"source": [
"//Estimating the number of turns needed on each commutating pole \n",
"//Chapter 2\n",
"//Example 2.26\n",
"//page 135\n",
"clear;\n",
"clc;\n",
"disp('Example 2.26')\n",
"Bag=0.3;..................................//flux density in the interpole air gap in Wb/m^2\n",
"Ia=200000/200;.........................//armature current in amperes\n",
"printf('Armature current=%f',Ia)\n",
"Z=540;..........................//Number of armature conductors\n",
"Zt=540/2;............................//Number armature winding turns \n",
"printf('\nNumber armature winding turns=%f',Zt)\n",
"A=6;...............//the winding lap\n",
"Ap=Zt/A;........................//Number of armature turns per parallel path\n",
"printf('\nNumber of armature turns per parallel path=%f',Ap)\n",
"P=6;...............................//pole\n",
"Np=((Ia*Ap)/P);\n",
"printf('\nNumber of armature ampere turns per pole=%f',Np)\n",
"lg=0.01;..............................//inter pole air gap in meters\n",
"pi=3.14;\n",
"Mu=(4*pi*10^-7)\n",
"Nipg=((Bag*lg)/Mu);..........................//Air gap\n",
"printf('\nampere turns for the air gap=%f',Nipg)\n",
"NipI=(Np+Nipg);................................//total interpole ampere\n",
"printf('\nTotal interpole ampere turns=%f',NipI)\n",
"Nip=(NipI/Ia);\n",
"printf('\nNumber of turns needed on each commutating pole=%f',Nip)"
   ]
   }
,
{
		   "cell_type": "markdown",
		   "metadata": {},
		   "source": [
			"## Example 2.27: Calculating_the_efficiency_of_motor.sce"
		   ]
		  },
  {
"cell_type": "code",
	   "execution_count": null,
	   "metadata": {
	    "collapsed": true
	   },
	   "outputs": [],
"source": [
"//Calculating the efficiency of motor\n",
"//Chapter 2\n",
"//Example 2.27\n",
"//page 128\n",
"clear;\n",
"clc;\n",
"disp('Example 2.27')\n",
"N=960;...........................//speed in rpm\n",
"F=23;............................//effictive load in kgf\n",
"r=45/2;...............................//radius of the drum\n",
"printf('radius of the drum=%fcm',r)\n",
"pi=3.14;\n",
"OP=(2*pi*N*F*r*9.81)/(60*100);\n",
"printf('\noutput power=%fW',OP)\n",
"Vi=230;..................//motor input in volts\n",
"Ci=28;.......................//input current in amperes\n",
"IP=(Vi*Ci);\n",
"printf('\ninput power =%fW',IP)\n",
"Effi=(OP/IP)*100;\n",
"printf('\nEfficiency of the motor=%fpercent',Effi)"
   ]
   }
,
{
		   "cell_type": "markdown",
		   "metadata": {},
		   "source": [
			"## Example 2.29: Calculate_the_efficiency_of_machine_when_running_as_generator_and_motor.sce"
		   ]
		  },
  {
"cell_type": "code",
	   "execution_count": null,
	   "metadata": {
	    "collapsed": true
	   },
	   "outputs": [],
"source": [
"//Calculate the efficiency of machine when running as generator and motor\n",
"//Chapter 2\n",
"//Example 2.29\n",
"//page 145\n",
"clear;\n",
"clc; \n",
"disp('Example 2.29')\n",
"I=440;......................//input at no-load in watt\n",
"V=220;........................//voltage in volts\n",
"Ic=I/V;......................//input current at no-load in amperes\n",
"i=1;....................//input current in amperes\n",
"A=2;.......................//current in amperes\n",
"C=A-i;.....................//armature current at no-load in amperes\n",
"L=I-((((C)^2)*0.5)+(V*C));.................//iron,friction and windage losses in watt\n",
"a=40;...................//motor current in amperes\n",
"OP=(V*a);\n",
"Ra=0.5;\n",
"Effi=(OP*100)/(OP+(((a+i)^2)*Ra)+(V*i)+L)\n",
"printf('Efficiency as a generator when delivering 40A at 220V=%fpercent',Effi)\n",
"Eff=((OP-(((a-i)^2)*Ra)-(V*C)-L)/OP)*100;\n",
"printf('\nEfficiency as a motor when taking 40A from at 220V=%fpercent',Eff)"
   ]
   }
,
{
		   "cell_type": "markdown",
		   "metadata": {},
		   "source": [
			"## Example 2.30: Calculating_the_efficiency_of_the_generator_at_full_load_and_at_half_load.sce"
		   ]
		  },
  {
"cell_type": "code",
	   "execution_count": null,
	   "metadata": {
	    "collapsed": true
	   },
	   "outputs": [],
"source": [
"//Calculating the efficiency of the generator at full load and at half load\n",
"//Chapter 2\n",
"//Example 2.30\n",
"//page 147\n",
"clear;\n",
"clc;\n",
"disp('Example 2.30')\n",
"V=400;.............................//motor in volts\n",
"Rf=200;............................//field resistance in ohms\n",
"If=V/Rf;...........................//current in amperes\n",
"i=5;......... .....................//current at no load in amperes\n",
"IP=V*i;....  ......................//motor input at no load\n",
"Ia=3;..... ........................//aramture current in amperes\n",
"Ra=0.5;.... .......................//armature resistance in ohms\n",
"L=IP-(((Ia)^2)*Ra)-(V*If);.....................//iron,friction and windage in losses in watt\n",
"printf('iron,friction and windage in losses=%fW',L)\n",
"At=50;.......................                ..//armature total current in amperes\n",
"A=At-2;..........                           ...//armature current in amperes\n",
"Ls=(((A)^2)*Ra)+(V*If)+L;..............        //Losses\n",
"Eff=(((V*At)-Ls)/(V*At))*100;\n",
"printf('\nEfficiency of full load=%fpercent',Eff)\n",
"//flux is constant\n",
"E1=V-(Ia*Ra);...................         //induced emf in the armature at no load\n",
"E2=V-(A*Ra);............................ //induced emf in the armature at full load\n",
"// since N1/N2=E1/E2\n",
"percentload=(1-(E2/E1))*100;\n",
"printf('\nPercentage change in speed from no load to full load=%fpercent',percentload)\n",
"\n",
"\n",
" "
   ]
   }
,
{
		   "cell_type": "markdown",
		   "metadata": {},
		   "source": [
			"## Example 2.31: Calculate_the_efficiency_of_machine.sce"
		   ]
		  },
  {
"cell_type": "code",
	   "execution_count": null,
	   "metadata": {
	    "collapsed": true
	   },
	   "outputs": [],
"source": [
"//Calculate the efficiency of machine\n",
"//Chapter 2\n",
"//Example 2.31\n",
"//page 148\n",
"clear;\n",
"clc; \n",
"disp('Example 2.31')\n",
"Ra=0.5;.................//armature resistance in ohms\n",
"Rf=750;...............//field circuit resistance in ohms\n",
"V=500;.......................//voltage in volts\n",
"If=V/Rf;..........................//current in amperes \n",
"l=3;..........................//line current in amperes\n",
"i=2.33;..........................//current in motor in amperes\n",
"I=0.67;.........................//current i amperes\n",
"L=(V*l)-(((i)^2)*Ra)-(V*I);.........................//Iron,friction and windage losses\n",
"O=20;...............................//generator \n",
"OP=(O*1000)/V;................//output current of the generator under loaded condition in amperes\n",
"Ia=I+OP;............//output in amperes\n",
"Effi=(O*1000*100)/((O*1000)+(((Ia)^2)*Ra)+(V*I)+L);\n",
"printf('efficiency of the machine=%fpercent',Effi)"
   ]
   }
,
{
		   "cell_type": "markdown",
		   "metadata": {},
		   "source": [
			"## Example 2.32: Calculate_the_appox_efficiency_of_each_machine.sce"
		   ]
		  },
  {
"cell_type": "code",
	   "execution_count": null,
	   "metadata": {
	    "collapsed": true
	   },
	   "outputs": [],
"source": [
"//Calculate the appox. efficiency of each machine\n",
"//Chapter 2\n",
"//Example 2.32\n",
"//page 149\n",
"clear;\n",
"clc; \n",
"disp('Example 2.32')\n",
"Ig=25;...............//current of generator in amperes\n",
"I=30;...................//current in motor in amperes\n",
"Il=I-Ig;..............//current in amperes\n",
"Ra=0.25;................//resistance in ohms\n",
"Gl=((Ig)^2)*Ra;................//loss in generator in watt\n",
"M=((I)^2)*Ra;....................//loss in motor in watt\n",
"T=Gl+M;...................//total loss in watt\n",
"V=100;.............//voltage in volts\n",
"P=V*Il;...............//power supplied from mains in watt\n",
"L=P-T;..................//iron,friction and windages losses in the two machines in ohms\n",
"l=L/2;...................//iron,friction and windages losses in each machines in ohms\n",
"IP=I*V;....................//input\n",
"Eff=((IP-M-l)/IP)*100;\n",
"printf('Efficiency of the motor=%fpercent',Eff)\n",
"OP=Ig*V;.................//output\n",
"Effi=((OP)/(OP+Gl+l))*100;\n",
"printf('\nEfficiency of the generator=%fpercent',Effi)"
   ]
   }
,
{
		   "cell_type": "markdown",
		   "metadata": {},
		   "source": [
			"## Example 2.33: Calculate_the_appox_efficiency_of_each_machine.sce"
		   ]
		  },
  {
"cell_type": "code",
	   "execution_count": null,
	   "metadata": {
	    "collapsed": true
	   },
	   "outputs": [],
"source": [
"//Calculate the appox. efficiency of each machine\n",
"//Chapter 2\n",
"//Example 2.33\n",
"//page 150\n",
"clear;\n",
"clc; \n",
"disp('Example 2.33')\n",
"V=440;....................//voltage in volts\n",
"P=200*1000;...............//power in watt\n",
"Ig=P/V;..............//rated current of each machine in amperes\n",
"//assume losses to be equal\n",
"I=90;..............//addition currnet supply\n",
"Effi=sqrt(Ig/(Ig+I))*100;\n",
"printf('approximate efficiency=%fpercent',Effi)"
   ]
   }
,
{
		   "cell_type": "markdown",
		   "metadata": {},
		   "source": [
			"## Example 2.34: Calculate_the_efficiences_of_the_generator_at_full_load.sce"
		   ]
		  },
  {
"cell_type": "code",
	   "execution_count": null,
	   "metadata": {
	    "collapsed": true
	   },
	   "outputs": [],
"source": [
"//Calculate the efficiences of the generator at full load\n",
"//Chapter 2\n",
"//Example 2.34\n",
"//page 150\n",
"clear;\n",
"clc; \n",
"disp('Example 2.34')\n",
"Ig=2000;.............................//output current of generator in amperes\n",
"I=380;...............................//Input current from supply mains in amperes\n",
"Effi=sqrt(Ig/(Ig+I))*100;..................//Efficiency of generator assuming equal efficiencies of the two machines\n",
"printf('Efficiences of the generator at full load assuming equal efficiencies=%fpercent',Effi)\n",
"S=22;............................//Shunt field current of generator\n",
"G=Ig+S;........................//Armature current of generator in amperes\n",
"R=0.01;...............................//Resistance of the armature circuit of each machine in ohms\n",
"Gc=((G)^2)*R;..........................//copper loss in arrmature circuit of generator in W\n",
"V=500;................................//Voltage in volts\n",
"L=V*S;..............................//loss in the field circuit of the generator in W\n",
"T=Ig+I;............................//total current suuply in amperes\n",
"Sf=17;........................................//shunt field current of motor in amperes\n",
"A=T-Sf;..............................//armature current in motor in amperes\n",
"Lc=((A)^2)*R;........................//loss in armature circuit of motor in amperes\n",
"Lf=V*Sf;.................................//loss in the shunt field circuit of motor in W\n",
"Tin=V*I;......................//total input to motor and generator in W\n",
"Ml=Tin-(Gc+L+Lc+Lf);.....................//iron,friction and windage loss in both machines in W\n",
"Me=Ml/2;...................................//iron,friction and windage loss in each machine in W\n",
"p=1000;.....................//power in kW\n",
"OP=(Ig*V)/p;........................//full load output of the generator\n",
"Eff=(p*100)/(p+((Gc+L+Me)/1000));\n",
"printf('\nEfficiency of the generator at full load=%fpercent',Eff)"
   ]
   }
,
{
		   "cell_type": "markdown",
		   "metadata": {},
		   "source": [
			"## Example 2.4: Calculating_average_induced_emf.sce"
		   ]
		  },
  {
"cell_type": "code",
	   "execution_count": null,
	   "metadata": {
	    "collapsed": true
	   },
	   "outputs": [],
"source": [
"//Calculating average induced emf\n",
"//Chapter 2\n",
"//Example 2.4\n",
"//page 92\n",
"clear;\n",
"clc;\n",
"disp('example 2.4')\n",
"P=2         //number of poles\n",
"Z=400        //number of conducters\n",
"n=300        //speed in rpm\n",
"E=200         //voltage of generator\n",
"A=2           //number of parallel paths\n",
"N=1200        //number of turns in each field coil\n",
"phi=(E*60*A)/(Z*n*P)   //flux at the end of 0.15sec\n",
"t=0.15                     //time\n",
"printf('magnitude of flux at the end of 15sec is %f wb',phi)\n",
"e=N*(phi/t)\n",
"printf('\ninduced emf in the field coil= %d volts',e)"
   ]
   }
,
{
		   "cell_type": "markdown",
		   "metadata": {},
		   "source": [
			"## Example 2.5: Calculating_useful_flux_per_pole.sce"
		   ]
		  },
  {
"cell_type": "code",
	   "execution_count": null,
	   "metadata": {
	    "collapsed": true
	   },
	   "outputs": [],
"source": [
"//Calculating the current and power factor of the primary circuit\n",
"//Chapter 3\n",
"//Example 3.5\n",
"//page 206\n",
"clear;\n",
"clc; \n",
"disp('Example 3.5')\n",
"I2=300;........................//Secondary current in amperes\n",
"N1=1200;                        //number of primary turns\n",
"N2=300;                         //number of secondary turns\n",
"I0=2.5;                         //load current in amperes\n",
"I1=(I2*N2)/N1;\n",
"phi0=acosd(0.2);\n",
"phi2=acosd(0.8);\n",
"I1c=(I1*cosd(phi2))+(I0*cosd(phi0));\n",
"I1s=(I1*sind(phi2))+(I0*sind(phi0));\n",
"I=sqrt(I1c^2+I1s^2);\n",
"phi=atand(I1s/I1c)\n",
"printf('primary power factor=%fdegrees',cosd(phi));"
   ]
   }
,
{
		   "cell_type": "markdown",
		   "metadata": {},
		   "source": [
			"## Example 2.6: Calculating_emf_generated_on_open_circuit_condition.sce"
		   ]
		  },
  {
"cell_type": "code",
	   "execution_count": null,
	   "metadata": {
	    "collapsed": true
	   },
	   "outputs": [],
"source": [
"//Calculating emf generated onopen circuit condition\n",
"//Chapter 2\n",
"//Example 2.6\n",
"//page 93\n",
"clear;\n",
"clc;\n",
"disp('example 2.5')\n",
"P=8            //number of poles\n",
"A=8            //number of parallel paths in the armature\n",
"Z=960          //number of conductors\n",
"N=400          //speed in rpm\n",
"phi=0.04       //flux per pole\n",
"E=(phi*Z*N*P)/(60*A)        //emf generated onopen circuit condition\n",
"printf('emf generated on open circuit condition, E=%d volts',E)"
   ]
   }
,
{
		   "cell_type": "markdown",
		   "metadata": {},
		   "source": [
			"## Example 2.7: calculate_induced_emf.sce"
		   ]
		  },
  {
"cell_type": "code",
	   "execution_count": null,
	   "metadata": {
	    "collapsed": true
	   },
	   "outputs": [],
"source": [
"//calculate induced emf\n",
"//Chapter 2\n",
"//Example 2.7\n",
"//page 97\n",
"clear;\n",
"clc;\n",
"disp('example 2.7')\n",
"disp('flux is constant')\n",
"\n",
"E=180;...............//induced emf at 500rpm\n",
"N=500;.................//speed in rpm\n",
"K1=(E/N)\n",
"printf('K1=%f',K1)\n",
"E1=(K1*600)           //induced emf at 600rpm\n",
"printf('\n induced emf at 600rpm is=%d V',E1)"
   ]
   }
,
{
		   "cell_type": "markdown",
		   "metadata": {},
		   "source": [
			"## Example 2.8: calculating_the_speed_and_percentage_increase_in_flux.sce"
		   ]
		  },
  {
"cell_type": "code",
	   "execution_count": null,
	   "metadata": {
	    "collapsed": true
	   },
	   "outputs": [],
"source": [
"//calculating the speed and percentage increase in flux\n",
"//Chapter 2\n",
"//Example 2.8\n",
"//page 97\n",
"clear;\n",
"clc;\n",
"disp('example 2.8')\n",
"disp('assuming constant flux')\n",
"E1=220;           //induced emf at N1 speed in volts\n",
"N1=750;          // speed \n",
"K1=(E1/N1)\n",
"E2=250;          //induced emf at speed N2\n",
"N2=E2/K1\n",
"printf('speed at induced emf of 250V =%d rpm',N2)\n",
"disp('when induced emf is 250V and speed 700 rpm')\n",
"E3=250;            //induced emf at N3 speed\n",
"N3=700;            //speed\n",
"ratio=(E3*N1)/(E1*N3)\n",
"Pi=(ratio-1)*100\n",
"printf('percentage increase in flux is %f percent',Pi)"
   ]
   }
,
{
		   "cell_type": "markdown",
		   "metadata": {},
		   "source": [
			"## Example 2.9: Calculating_electromagnetic_torque.sce"
		   ]
		  },
  {
"cell_type": "code",
	   "execution_count": null,
	   "metadata": {
	    "collapsed": true
	   },
	   "outputs": [],
"source": [
"//Calculating electromagnetic torque\n",
"//Chapter 2\n",
"//Example 2.9\n",
"//page 98\n",
"clear;\n",
"clc;\n",
"disp('example 2.9')\n",
"E=200      //emf induced\n",
"I=15        //armature current\n",
"n=1200          //speed in rpm\n",
"omega=(2*3.14*n)/60;\n",
"printf('omega=%f \n',omega)\n",
"T=(E*I)/omega;\n",
"printf('electromagnetic torque=%f Nm',T)"
   ]
   }
],
"metadata": {
		  "kernelspec": {
		   "display_name": "Scilab",
		   "language": "scilab",
		   "name": "scilab"
		  },
		  "language_info": {
		   "file_extension": ".sce",
		   "help_links": [
			{
			 "text": "MetaKernel Magics",
			 "url": "https://github.com/calysto/metakernel/blob/master/metakernel/magics/README.md"
			}
		   ],
		   "mimetype": "text/x-octave",
		   "name": "scilab",
		   "version": "0.7.1"
		  }
		 },
		 "nbformat": 4,
		 "nbformat_minor": 0
}
