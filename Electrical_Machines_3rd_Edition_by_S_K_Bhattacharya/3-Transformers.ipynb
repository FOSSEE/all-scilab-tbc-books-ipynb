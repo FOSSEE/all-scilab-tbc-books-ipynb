{
"cells": [
 {
		   "cell_type": "markdown",
	   "metadata": {},
	   "source": [
       "# Chapter 3: Transformers"
	   ]
	},
{
		   "cell_type": "markdown",
		   "metadata": {},
		   "source": [
			"## Example 3.10: Calculating_primary_current_and_primary_power_factor.sce"
		   ]
		  },
  {
"cell_type": "code",
	   "execution_count": null,
	   "metadata": {
	    "collapsed": true
	   },
	   "outputs": [],
"source": [
"//Calculating primary current and primary power factor\n",
"//Chapter 3\n",
"//Example 3.10\n",
"//page 211\n",
"clear;\n",
"clc; \n",
"disp('Example 3.10')\n",
"V1=6600;                    //primary voltage in volts\n",
"V2=240;                     //secondary voltage in volts\n",
"kW1=10;                     //power\n",
"phi1=acosd(0.8);\n",
"I2=50;                       //current in amperes\n",
"kW3=5;                       //power\n",
"phi2=acosd(0.7)\n",
"kVA=8;                       //rating\n",
"phi4=acosd(0.6)         \n",
"I1=(kW1*1000)/(cosd(phi1)*V2);\n",
"I3=(kW3*1000)/(1*V2);\n",
"I4=(kVA*1000)/V2;\n",
"Ih=((I1*cosd(phi1))+(I2*cosd(phi2))+I3+(I4*cosd(phi4)));\n",
"Iv=((I1*sind(phi1))+(I2*sind(phi2))-(I4*sind(phi4)));\n",
"I5=sqrt((Ih^2)+(Iv^2))\n",
"printf('I5=%dA',I5)\n",
"Ip=(I5*V2)/V1;\n",
"printf('\nThe current drawn by the primary from 6600Vmains is equal to,Ip=%fA',Ip);\n",
"phi=atand(Iv/Ih);\n",
"printf('\n\n",
"power factor=%flagging',cosd(phi))\n",
""
   ]
   }
,
{
		   "cell_type": "markdown",
		   "metadata": {},
		   "source": [
			"## Example 3.11: Calculating_equivalent_impedence_referred_to_primary.sce"
		   ]
		  },
  {
"cell_type": "code",
	   "execution_count": null,
	   "metadata": {
	    "collapsed": true
	   },
	   "outputs": [],
"source": [
"//Calculating equivalent impedence referred to primary\n",
"//Chapter 3\n",
"//Example 3.11\n",
"//page 212\n",
"clear;\n",
"clc; \n",
"disp('Example 3.11')\n",
"kVA=100;                //rating of the tronsfromer\n",
"N1=400;                   //number of primary turns\n",
"N2=80;                    //number of secondary turns\n",
"R1=0.3;                    //primary resistance in ohms\n",
"R2=0.01;                    //secondary resistance in ohms\n",
"X1=1.1;                        //primary leakage reactance in ohs\n",
"X2=0.035;                     //secondary leakage reactance in ohms\n",
"Rr2=(((N1/N2)^2)*R2)\n",
"printf('R2=%f ohms',Rr2);\n",
"Xx2=(((N1/N2)^2)*X2);\n",
"printf('\nX2=%f ohms',Xx2);\n",
"Ze=sqrt((R1+Rr2)^2+(X1+Xx2)^2);\n",
"printf('\nEquivqlent impedence=%f',Ze);"
   ]
   }
,
{
		   "cell_type": "markdown",
		   "metadata": {},
		   "source": [
			"## Example 3.12: Calculating_equivalent_impedence_referred_to_primary.sce"
		   ]
		  },
  {
"cell_type": "code",
	   "execution_count": null,
	   "metadata": {
	    "collapsed": true
	   },
	   "outputs": [],
"source": [
"//Calculating equivalent impedence referred to primary\n",
"//Chapter 3\n",
"//Example 3.12\n",
"//page 216\n",
"clear;\n",
"clc; \n",
"disp('Example 3.11')\n",
"f=50;                //frequency in hertz\n",
"r=6;                //turns ratio\n",
"R1=0.90;             //primary resistance in ohms\n",
"R2=0.03;              //secondary resistance in ohms\n",
"X1=5;                 //primary reactance in ohms\n",
"X2=0.13;              //secondary reactance in ohms\n",
"I2=200;                //full-load current\n",
"Re=(R1+(R2*r^2));\n",
"printf('equivalent resistance reffered to primary,Re=%fohms',Re);\n",
"Xe=(X1+(X2*r^2));\n",
"printf('\nequivalent reactance reffered to primary,Xe=%fohms',Xe);\n",
"Ze=sqrt(Re^2+Xe^2);\n",
"printf('\nequivalent impedance reffered to primary,Ze=%fohms',Ze);\n",
"Ii2=r*I2;\n",
"printf('\nsecondary current reffered to primary side=%fA',Ii2);\n",
"printf('\n(a)Voltage to be applied to the high voltage side=%dvolts',(Ii2*Ze));\n",
"printf('\n(b)Power factor=%f',(Re/Ze));"
   ]
   }
,
{
		   "cell_type": "markdown",
		   "metadata": {},
		   "source": [
			"## Example 3.13: Calculate_current_and_power_input.sce"
		   ]
		  },
  {
"cell_type": "code",
	   "execution_count": null,
	   "metadata": {
	    "collapsed": true
	   },
	   "outputs": [],
"source": [
"//Calculate current and power input\n",
"//Chapter 3\n",
"//Example 3.13\n",
"//page 216\n",
"clear;\n",
"clc; \n",
"disp('Example 3.13')\n",
"R1=0.21;                    //primary resistance in ohms\n",
"X1=1;                        //primary reactance in ohms\n",
"R2=2.72*10^(-4);            //secondary resistance in ohms\n",
"X2=1.3*10^(-3);              //secondary reactanced in ohms\n",
"V1=6600;                      //primary voltage in volts\n",
"V2=250;                        //secondary voltage in volts\n",
"r=V1/V2;                         //turns ratio\n",
"Re=R1+(r^2*R2);\n",
"printf('Equivalent resistance referred to primary side=%fohms',Re);\n",
"Xe=X1+(r^2*X2);\n",
"printf('\nEquivalent reactance referred to primary side=%fohms',Xe);\n",
"Ze=sqrt(Re^2+Xe^2);\n",
"printf('\nequivalent impedance reffered to primary,Ze=%fohms',Ze);\n",
"V=400;                        //voltage in volts\n",
"I1=V/Ze;\n",
"printf('\nI1=%f',I1);\n",
"printf('\nPower input=%fW',(I1^2*Re));\n",
""
   ]
   }
,
{
		   "cell_type": "markdown",
		   "metadata": {},
		   "source": [
			"## Example 3.14: Calculate_current_and_power_input.sce"
		   ]
		  },
  {
"cell_type": "code",
	   "execution_count": null,
	   "metadata": {
	    "collapsed": true
	   },
	   "outputs": [],
"source": [
"//Calculate current and power input\n",
"//Chapter 3\n",
"//Example 3.14\n",
"//page 217\n",
"clear;\n",
"clc; \n",
"disp('Example 3.14')\n",
"N1=90;                //number of primary turns\n",
"N2=180;                //number of secondary turns\n",
"R1=0.067;              //primary resistance in ohms\n",
"R2=0.233;              //secondary resistance in ohms\n",
"printf('Primary winding resistance referred to secondary side=%fohms',(R1*(N2/N1)^2))\n",
"printf('\nsecondary winding resistance referred to primary side=%fohms',(R2*(N1/N2)^2))\n",
"printf('\nTotal resistance of the transformer refferred to primary side=%fohms',((R1*(N2/N1)^2)+(R2*(N2/N1)^2)))"
   ]
   }
,
{
		   "cell_type": "markdown",
		   "metadata": {},
		   "source": [
			"## Example 3.15: Calculate_percentage_regulation.sce"
		   ]
		  },
  {
"cell_type": "code",
	   "execution_count": null,
	   "metadata": {
	    "collapsed": true
	   },
	   "outputs": [],
"source": [
"//Calculate percentage regulation\n",
"//Chapter 3\n",
"//Example 3.15\n",
"//page 217\n",
"clear;\n",
"clc; \n",
"disp('Example 3.15')\n",
"kVA=30;                //rating of the transformer\n",
"V1=6000;                //primary voltage in volts\n",
"V2=230;                //secondary voltage in volts\n",
"R1=10;                //primary resistance in ohms\n",
"R2=0.016;              //secondary resistance in ohms\n",
"Xe=23;                    //total reactance reffered to the primary\n",
"phi=acosd(0.8);                //lagging\n",
"Re=(R1+((V1/V2)^2*R2))\n",
"printf('equivalent resistance,Re=%fohms',Re)\n",
"I2dash=(kVA*1000)/V1;\n",
"V2dash=5847;\n",
"Reg=((I2dash*((Re*cosd(phi))+(Xe*sind(phi))))*100)/V2dash;\n",
"printf('\npercentage regulation=%fpercent',Reg)"
   ]
   }
,
{
		   "cell_type": "markdown",
		   "metadata": {},
		   "source": [
			"## Example 3.16: Calculating_secondary_voltage_and_voltage_regulation.sce"
		   ]
		  },
  {
"cell_type": "code",
	   "execution_count": null,
	   "metadata": {
	    "collapsed": true
	   },
	   "outputs": [],
"source": [
"//Calculating secondary voltage and voltage regulation\n",
"//Chapter 3\n",
"//Example 3.16\n",
"//page 218\n",
"clear;\n",
"clc; \n",
"disp('Example 3.16')\n",
"kVA=10;                //rating of the transformer\n",
"V1=2000;                //primary voltage in volts\n",
"V2=400;                //secondary voltage in volts\n",
"R1=5.5;                //primary voltage in ohms\n",
"R2=0.2;                //secondary voltage in ohms\n",
"X1=12;                  //primary reactance in ohms\n",
"X2=0.45;                //secondary reactance in ohms\n",
"//assuming  (V1/V2)=(N1/N2)\n",
"Re=R2+(R1*(V2/V1)^2);\n",
"printf('equivalent resistance referred to the secondary=%fohms',Re);\n",
"Xe=X2+(X1*(V2/V1)^2);\n",
"printf('equivalent reactance referred to the secondary=%fohms',Xe);\n",
"Ze=sqrt(Re^2+Xe^2);\n",
"printf('equivalent impedance referred to the secondary=%fohms',Ze);\n",
"phi=acosd(0.8);\n",
"Vl=374.5;\n",
"printf('\nVoltage across the full load and 0.8 p.f lagging=%fV',Vl);\n",
"reg=((V2-Vl)*100)/Vl;\n",
"printf('\npercentage voltage regulation=%f percent',reg);\n",
""
   ]
   }
,
{
		   "cell_type": "markdown",
		   "metadata": {},
		   "source": [
			"## Example 3.17: Calculating_regulation.sce"
		   ]
		  },
  {
"cell_type": "code",
	   "execution_count": null,
	   "metadata": {
	    "collapsed": true
	   },
	   "outputs": [],
"source": [
"//Calculating regulation\n",
"//Chapter 3\n",
"//Example 3.17\n",
"//page 219\n",
"clear;\n",
"clc; \n",
"disp('Example 3.17')\n",
"kVA=80;                //rating of the transformer\n",
"V1=2000;                //primary voltage in volts\n",
"V2=200;                 //secondary voltage in volts\n",
"f=50;                    //frequency in hertz\n",
"Id=8;                    //impedence drop\n",
"Rd=4;                    //resistance drop\n",
"phi=acosd(0.8)\n",
"I2Ze=(V2*Id)/100;\n",
"I2Re=(V2*Rd)/100;\n",
"I2Xe=sqrt(I2Ze^2-I2Re^2)\n",
"reg=((I2Re*cosd(phi))+(I2Xe*sind(phi)))*(100/V2)\n",
"printf('percentage regulation=%fpercent',reg)\n",
"pf=I2Xe/sqrt(I2Re^2+I2Xe^2)\n",
"printf('\nPower factor for zero regulation=%f(leading)',pf)"
   ]
   }
,
{
		   "cell_type": "markdown",
		   "metadata": {},
		   "source": [
			"## Example 3.19: Calculating_the_efficiency_and_voltage_regulation.sce"
		   ]
		  },
  {
"cell_type": "code",
	   "execution_count": null,
	   "metadata": {
	    "collapsed": true
	   },
	   "outputs": [],
"source": [
"//Calculating the efficiency and voltage regulation//Chapter 3\n",
"//Example 3.19\n",
"//page 225\n",
"clear;\n",
"clc;\n",
"disp('Example 3.19')\n",
"kVA=50;                        //rating of the transformer\n",
"V1=3300;                        //open circuit primary voltage\n",
"Culoss=540;                    //copper loss from short circuit test\n",
"coreloss=460;                  //core loss from open circuit test\n",
"V1sc=124;                      //short circuit primary voltage in volts\n",
"I1sc=15.4;                      //short circuit primary current in amperes\n",
"Psc=540                         //short circuit primary power in watts       \n",
"phi=acosd(0.8)\n",
"effi=(kVA*1000*cosd(phi)*100)/((kVA*1000*cosd(phi))+Culoss+coreloss)\n",
"printf('From the open-circuit test, core-loss=%dW',coreloss);\n",
"printf('\nFrom short circuit test, copper loss=%dW',Culoss);\n",
"printf('\nThe efficiency at full-load and 0.8 lagging power factor=%f',effi);\n",
"Ze=V1sc/I1sc;\n",
"Re=Psc/I1sc^2;\n",
"Xe=sqrt(Ze^2-Re^2);\n",
"V2=3203;\n",
"phi2=acosd(0.8);\n",
"phie=acosd(Culoss/(V1sc*I1sc));\n",
"reg=(V1sc*cosd(phie-phi2)*100)/V1;\n",
"printf('\nVoltage regulation=%dpercent',reg)"
   ]
   }
,
{
		   "cell_type": "markdown",
		   "metadata": {},
		   "source": [
			"## Example 3.1: calculating_number_of_turns_and_primary_and_secondary_currents_and_value_of_flux.sce"
		   ]
		  },
  {
"cell_type": "code",
	   "execution_count": null,
	   "metadata": {
	    "collapsed": true
	   },
	   "outputs": [],
"source": [
"//calculating number of turns,primary and secondary currents and value of flux\n",
"//Chapter 3\n",
"//Example 3.1\n",
"//page 196\n",
"clear;\n",
"clc; \n",
"disp('Example 3.1')\n",
"kVA=500;                //rating\n",
"V1=11000;                //primary voltage in volts\n",
"V2=400;                  //secondary voltage in volts\n",
"N2=100;                  //number of turns in secondary winding\n",
"f=50;                    //frequency in hertz\n",
"N1=(V1*N2)/V2;            //number of turns in primary winding\n",
"printf('number of turns in primary  winding,N1=%dturns',N1)\n",
"I1=(kVA*1000)/V1;\n",
"I2=(kVA*1000)/V2\n",
"printf('\nprimary current,I1=%fA',I1)\n",
"printf('\nsecondary current,I2=%fA',I2)\n",
"E1=V1;\n",
"phi=E1/(4.44*f*N1)\n",
"printf('\nmaximium flux in the core=%fWb',phi)"
   ]
   }
,
{
		   "cell_type": "markdown",
		   "metadata": {},
		   "source": [
			"## Example 3.20: Calculate_voltsge_to_be_applied.sce"
		   ]
		  },
  {
"cell_type": "code",
	   "execution_count": null,
	   "metadata": {
	    "collapsed": true
	   },
	   "outputs": [],
"source": [
"//Calculate voltsge to be applied//Chapter 3\n",
"//Example 3.20\n",
"//page 226\n",
"clear;\n",
"clc;\n",
"disp('Example 3.20')\n",
"kVA=100;\n",
"V1=6600;                //primary voltage in volts\n",
"V2=330;                  //secondary voltage in volts\n",
"f=50;                    //frequency in hertz\n",
"V1sc=100;                      //short circuit primary voltage in volts\n",
"I1sc=10;                      //short circuit primary current in amperes\n",
"Psc=436;                         //short circuit primary power in watts       \n",
"Ze=V1sc/I1sc;\n",
"Re=Psc/I1sc^2;\n",
"phi=acosd(0.8);\n",
"Xe=sqrt(Ze^2-Re^2);\n",
"printf('\nTotal resistance=%fohms',Re);\n",
"printf('\nTotal impedence=%fohms',Ze)\n",
"Il=(kVA*1000)/V1;\n",
"V1dash=(sqrt(((V1*cosd(phi))+(Il*Re))^2+((V1*sind(phi))+(Il*Xe))^2));\n",
"printf('\nfull voltage current,V1=%dV',V1dash)"
   ]
   }
,
{
		   "cell_type": "markdown",
		   "metadata": {},
		   "source": [
			"## Example 3.21: Calculate_circuit_constants_and_efficiency.sce"
		   ]
		  },
  {
"cell_type": "code",
	   "execution_count": null,
	   "metadata": {
	    "collapsed": true
	   },
	   "outputs": [],
"source": [
"//Calculate circuit constants and efficiency //Chapter 3\n",
"//Example 3.21\n",
"//page 227\n",
"clear;\n",
"clc;\n",
"disp('Example 3.21')\n",
"V2=500;                //secondary voltage in volts\n",
"V1=250;              //primary voltage in short circuit test in volts\n",
"I0=1;                //current in short circuit test in amperes\n",
"P=80;                //core loss in watt\n",
"Psc=100;                //power in short circuit test in watts\n",
"Vsc=20;                 //short circuit voltage in volts   \n",
"Isc=12;                 //short circuit current in amperes\n",
"phi0=acosd(P/(V1*I0));\n",
"printf('From open circuit test , cos(phi0)=%f',cos(phi0));\n",
"Ic=I0*cosd(phi0);\n",
"printf('\nLoss component of no-load current,Ic=%fA',Ic)\n",
"Im=sqrt(I0^2-Ic^2);\n",
"printf('\nMagnetising current,Im=%fA',Im);\n",
"Rm=V1/Ic;\n",
"Xm=V1/Im;\n",
"Re=Psc/(Isc^2);\n",
"Ze=Vsc/Isc;\n",
"Xe=sqrt(Ze^2-Re^2);\n",
"printf('\n\nEquvalent resistance referred to secondary=%fohms',Re);\n",
"printf('\nEquvalent reactance referred to secondary=%fohms',Xe);\n",
"printf('\nEquvalent impedance referred to secondary=%fohms',Ze);\n",
"K=V2/V1;                            //turns ratio\n",
"printf('\n\nEquvalent resistance referred to primary=%fohms',(Re/K^2));\n",
"printf('\nEquvalent reactance referred to primary=%fohms',(Xe/K^2));\n",
"printf('\nEquvalent impedance referred to primary=%fohms',(Ze/K^2));\n",
"V=500;                        //output in volts\n",
"I=10;                         //output current in amperes\n",
"phi=acosd(0.80);\n",
"effi=(V*I*cosd(phi)*100)/((V*I*cosd(phi))+P+((I)^2*Re));\n",
"printf('\nEffiency=%fpercent',effi);"
   ]
   }
,
{
		   "cell_type": "markdown",
		   "metadata": {},
		   "source": [
			"## Example 3.22: Calculate_efficiency.sce"
		   ]
		  },
  {
"cell_type": "code",
	   "execution_count": null,
	   "metadata": {
	    "collapsed": true
	   },
	   "outputs": [],
"source": [
"//Calculate efficiency //Chapter 3\n",
"//Example 3.22\n",
"//page 231\n",
"clear;\n",
"clc;\n",
"disp('Example 3.22')\n",
"kVA=200;                //Rating of the transformer\n",
"Pin=3.4;                //power input to two transformer in watt\n",
"Pin2=5.2;\n",
"coreloss=Pin;           //core loss of two transformers\n",
"phi=acosd(0.8);\n",
"printf('\nCore loss of two transformer=%fkW',Pin)\n",
"printf('\nCore loss of each transformer=%fkW',(Pin/2))\n",
"printf('\nFull load copper loss of the two transformer=%fkW',Pin2)\n",
"printf('Therefore,full load copper loss of each transformer=%fkW',(Pin2/2));\n",
"effi=(kVA*cosd(phi)*100)/((kVA*cosd(phi))+(Pin/2)+(Pin2/2))\n",
"printf('\nFull load efficiency at 0.8 p.f. lagging=%fpercent',effi);"
   ]
   }
,
{
		   "cell_type": "markdown",
		   "metadata": {},
		   "source": [
			"## Example 3.24: Calculate_efficiency_of_transformer.sce"
		   ]
		  },
  {
"cell_type": "code",
	   "execution_count": null,
	   "metadata": {
	    "collapsed": true
	   },
	   "outputs": [],
"source": [
"//Calculate efficiency of transformer //Chapter 3\n",
"//Example 3.24\n",
"//page 233\n",
"clear;\n",
"clc;\n",
"disp('Example 3.24')\n",
"kVA=50;                          //rating of the transformer\n",
"V1=6360;                          //primary voltage rating\n",
"V2=240;                            //secondary voltage rating\n",
"pf=0.8\n",
"coreloss=2;                      //core loss in kilo watt from open circuit test\n",
"Culoss=2;                        //copper loss at secondary current of 175A\n",
"I=175;                            //current in amperes\n",
"I2=(kVA*1000)/V2;\n",
"printf('Full load secondary current,I2=%fA',I2);\n",
"effi=(kVA*pf*100)/((kVA*pf)+coreloss+(Culoss*(I2/I)^2))\n",
"printf('\nEfficiency=%fpercent',effi)"
   ]
   }
,
{
		   "cell_type": "markdown",
		   "metadata": {},
		   "source": [
			"## Example 3.25: Calculate_efficiency_of_transformer.sce"
		   ]
		  },
  {
"cell_type": "code",
	   "execution_count": null,
	   "metadata": {
	    "collapsed": true
	   },
	   "outputs": [],
"source": [
"//Calculate efficiency of transformer //Chapter 3\n",
"//Example 3.25\n",
"//page 234\n",
"clear;\n",
"clc;\n",
"disp('Example 3.25')\n",
"kVA=500;                //rating of the transformer\n",
"R1=0.4;                //resistance in primary winding inohms\n",
"R2=0.001;              //resistance in secondary winding in ohms\n",
"V1=6600;                //primary voltahe in volts\n",
"V2=400;                 //secondary voltage in volts\n",
"ironloss=3;              //iron loss in kilowatt\n",
"pf=0.8;                  //power factor lagging\n",
"I1=(kVA*1000)/V1;              \n",
"printf('\nPrimary winding current=%fA',I1);\n",
"I2=(I1*V1)/V2;\n",
"printf('\nSecondary winding current=%fA',I2);\n",
"Culoss=((I1^2*R1)+(I2^2*R2));\n",
"printf('\nCopper losses in the two winding=%fWatts',Culoss);\n",
"effi=(kVA*pf*100)/((kVA*pf)+ironloss+(Culoss/1000));\n",
"printf('\nEfficiency at 0.8 p.f=%fpercent',effi);"
   ]
   }
,
{
		   "cell_type": "markdown",
		   "metadata": {},
		   "source": [
			"## Example 3.26: Calculate_efficiency_of_transformer.sce"
		   ]
		  },
  {
"cell_type": "code",
	   "execution_count": null,
	   "metadata": {
	    "collapsed": true
	   },
	   "outputs": [],
"source": [
"//Calculate efficiency of transformer //Chapter 3\n",
"//Example 3.26\n",
"//page 234\n",
"clear;\n",
"clc;\n",
"disp('Example 3.26')\n",
"kVA=400;                    //rating of the transformer\n",
"ironloss=2;                //iron loss in kilowatt\n",
"pf=0.8;                     //power factor\n",
"kW=240;                    //load in kilowatt\n",
"kVA1=kW/pf;\n",
"disp('Efficiency is maximium when,core-loss=copper-loss')\n",
"coreloss=ironloss;\n",
"disp('Maximium efficiency occurs at 240kw,0.8 power factor,i.e., at 300kVA load')\n",
"Cl300=coreloss;\n",
"Cl400=(Cl300*(kVA/kVA1)^2);\n",
"pf1=0.71;            //power factor for full load\n",
"effi=(kVA*pf1*100)/((kVA*pf1)+coreloss+Cl400);\n",
"printf('\nEfficiency at full-load and 071 power factor=%dpercent',effi);\n",
"pf2=1                    //maximium efficiency occurs at unity power factor\n",
"MAXeffi=(kVA1*pf2*100)/((kVA1*pf2)+coreloss+Cl300)\n",
"printf('\nMaximium efficiency at 300kVA and unity power factor=%fpercent',MAXeffi);\n",
""
   ]
   }
,
{
		   "cell_type": "markdown",
		   "metadata": {},
		   "source": [
			"## Example 3.27: Calculate_efficiency_of_transformer.sce"
		   ]
		  },
  {
"cell_type": "code",
	   "execution_count": null,
	   "metadata": {
	    "collapsed": true
	   },
	   "outputs": [],
"source": [
"//Calculate efficiency of transformer //Chapter 3\n",
"//Example 3.27\n",
"//page 235\n",
"clear;\n",
"clc;\n",
"disp('Example 3.27')\n",
"kVA=40;                    //rating of the transformer\n",
"coreloss=450;               //core-loss in watts\n",
"Culoss=800;                 //copper loss in watt\n",
"pf=0.8;                     //power factor of the load\n",
"FLeffi=(kVA*pf*100)/((kVA*pf)+((coreloss+Culoss)/1000));\n",
"printf('Full-load efficiency=%fpercent',FLeffi);\n",
"disp('For maximium efficiency, Core loss=copper loss')\n",
"Culoss2=coreloss;            //for maximium efficiency\n",
"n=sqrt(Culoss2/Culoss);\n",
"kVA2=n*kVA;                  //load for maximium efficiency\n",
"MAXeffi=(kVA2*pf*100)/((kVA2*pf)+((coreloss+Culoss2)/1000));\n",
"printf('\nValue of maximium efficiency=%fpercent',MAXeffi);\n",
""
   ]
   }
,
{
		   "cell_type": "markdown",
		   "metadata": {},
		   "source": [
			"## Example 3.28: Calculate_current_in_different_parts_of_winding_of_autotransformer.sce"
		   ]
		  },
  {
"cell_type": "code",
	   "execution_count": null,
	   "metadata": {
	    "collapsed": true
	   },
	   "outputs": [],
"source": [
"//Calculate efficiency of transformer //Chapter 3\n",
"//Example 3.29\n",
"//page 236\n",
"clear;\n",
"clc;\n",
"disp('Example 3.29')\n",
"kVA=50;                    //rating of the transformers\n",
"I1=250;                    //primary current in amperes\n",
"Re=0.006;                  //total resistance referred to the primary side\n",
"ironloss=200;                //iron loss in watt\n",
"Culoss=(I1^2*Re);           //copper loss in watt\n",
"pf=0.8;                      //power factor lagging\n",
"printf('Full-load copper loss=%fW',Culoss);\n",
"TL1=((Culoss+ironloss)/1000);         \n",
"printf('\nTotal loss on full load=%fkW',TL1);\n",
"TL2=((((Culoss*(1/2)^2))+ironloss)/1000)\n",
"printf('\nTotal loss on half load=%fkW',TL2);\n",
"effi1=(kVA*pf*100)/((kVA*pf)+TL1);\n",
"printf('\nEfficiency at full load,0.8 power factor lagging=%f percent',effi1)\n",
"effi2=((kVA/2)*pf*100)/(((kVA/2)*pf)+TL2);\n",
"printf('\nEfficiency at half load,0.8 power factor lagging=%f percent',effi2)\n",
""
   ]
   }
,
{
		   "cell_type": "markdown",
		   "metadata": {},
		   "source": [
			"## Example 3.29: Calculate_efficiency_of_transformer.sce"
		   ]
		  },
  {
"cell_type": "code",
	   "execution_count": null,
	   "metadata": {
	    "collapsed": true
	   },
	   "outputs": [],
"source": [
"//Calculate efficiency of transformer //Chapter 3\n",
"//Example 3.30\n",
"//page 237\n",
"clear;\n",
"clc;\n",
"disp('Example 3.30')\n",
"kVA=10;                    //rating of the transformers\n",
"V1=400;                    //primary voltage in volts\n",
"V2=200;                    //secondary voltage in volts\n",
"f=50;                      //frequency in hertz\n",
"MAXeffi=0.96;              //maximium efficiency\n",
"output1=(kVA*0.75);        //output at 75% of full load\n",
"input1=(output1/MAXeffi);\n",
"printf('\nInput at 75percent of full load=%fkW',input1);\n",
"TL=input1-output1;\n",
"printf('\nTotal losses=%fkW',TL);\n",
"Pi=TL/2;\n",
"Pc=TL/2;\n",
"disp('Maximiunm efficiency occurs at 3/4th of full load')\n",
"Pc=Pi/(3/4)^2;\n",
"printf('\nThus,total losses on full load=%fW',((Pc+Pi)*1000));\n",
"pf=0.8;               //power factor lagging\n",
"effi=(kVA*pf*100)/((kVA*pf)+(Pc+Pi));\n",
"printf('\nEfficiency on full load. 0.8 power factor lagging=%fpercent',effi)\n",
"\n",
""
   ]
   }
,
{
		   "cell_type": "markdown",
		   "metadata": {},
		   "source": [
			"## Example 3.2: calculating_number_of_primary_and_secondary_turns.sce"
		   ]
		  },
  {
"cell_type": "code",
	   "execution_count": null,
	   "metadata": {
	    "collapsed": true
	   },
	   "outputs": [],
"source": [
"//calculating number of primary and secondary turns\n",
"//Chapter 3\n",
"//Example 3.2\n",
"//page 196\n",
"clear;\n",
"clc; \n",
"disp('Example 3.2')\n",
"V1=6600;                //primary voltage in volts\n",
"V2=230;                  //secondary voltage in volts\n",
"f=50;                    //frequency in hertz\n",
"Bm=1.1;                    //flux density in Wb/m^2\n",
"A=(25*25*10^(-4));         //area of the core in m^2\n",
"phi=Bm*A\n",
"printf('flux=%fWb',phi)\n",
"E1=V1;\n",
"E2=V2;\n",
"N1=E1/(4.44*f*phi);\n",
"N2=E2/(4.44*f*phi);\n",
"printf('\nnumber of turns in primary winding,N1=%dturns',N1)\n",
"printf('\nnumber of turns in secondary winding,N2=%dturns',N2)"
   ]
   }
,
{
		   "cell_type": "markdown",
		   "metadata": {},
		   "source": [
			"## Example 3.30: Calculate_efficiency_of_transformer.sce"
		   ]
		  },
  {
"cell_type": "code",
	   "execution_count": null,
	   "metadata": {
	    "collapsed": true
	   },
	   "outputs": [],
"source": [
"//Calculate voltage regulation of transformer //Chapter 3\n",
"//Example 3.31\n",
"//page 237\n",
"clear;\n",
"clc;\n",
"disp('Example 3.31')\n",
"kVA=500;                    //rating of the transformers\n",
"V1=3300;                    //primary voltage in volts\n",
"V2=500;                    //secondary voltage in volts\n",
"f=50;                      //frequency in hertz\n",
"MAXeffi=0.97;        \n",
"x=0.75;                    //fraction of full load for maximium efficiency\n",
"pf1=1;\n",
"output1=(kVA*x*pf1*1000);\n",
"printf('Output at maximium efficiency=%dwatts',output1);\n",
"losses=((1/MAXeffi)-1)*output1;\n",
"printf('\nThus, at maximium efficiency,\n  lossses=%fW',losses)\n",
"Culoss=losses/2;\n",
"printf('\nCopper losses at 75percent of full load=%dW',Culoss);\n",
"CulossFL=Culoss/x^2;\n",
"printf('\nCopper losses at full load=%dW',CulossFL);\n",
"Re=CulossFL/(kVA*1000);\n",
"Ze=0.1;                        //equivalent impedence per unit\n",
"Xe=sqrt(Ze^2-Re^2);\n",
"phi=acosd(0.8);\n",
"reg=((Re*cosd(phi))+(Xe*sind(phi)))*100;\n",
"printf('\npercentage regulation=%f percent',reg);"
   ]
   }
,
{
		   "cell_type": "markdown",
		   "metadata": {},
		   "source": [
			"## Example 3.32: Calculate_current_in_different_parts_of_winding_of_autotransformer.sce"
		   ]
		  },
  {
"cell_type": "code",
	   "execution_count": null,
	   "metadata": {
	    "collapsed": true
	   },
	   "outputs": [],
"source": [
"//Calculate current in different parts of winding of autotransformer//Chapter 3\n",
"//Example 3.32\n",
"//page 240\n",
"clear;\n",
"clc;\n",
"disp('Example 3.32')\n",
"V1=230;                    //primary voltage of auto-transformer\n",
"V2=75;                     //secondary voltage of auto-transformer\n",
"r=(V1/V2);                  //ratio of primary to secondary turns\n",
"I2=200;                    //load current in amperes\n",
"I1=I2/r;\n",
"printf('Primary current,I1=%fA',I1);\n",
"printf('\nLoad current,I1=%fA',I2);\n",
"printf('\ncirrent flowing through the common portion of winding=%fA',(I2-I1));\n",
"printf('\nEconomy in saving in copper in percentage=%fpercent',(100/r));\n",
""
   ]
   }
,
{
		   "cell_type": "markdown",
		   "metadata": {},
		   "source": [
			"## Example 3.3: calculating_induced_emf_and_maximium_flux_density.sce"
		   ]
		  },
  {
"cell_type": "code",
	   "execution_count": null,
	   "metadata": {
	    "collapsed": true
	   },
	   "outputs": [],
"source": [
"//calculating induced emf and maximium flux density\n",
"//Chapter 3\n",
"//Example 3.3\n",
"//page 197\n",
"clear;\n",
"clc; \n",
"disp('Example 3.3')\n",
"V1=230;                //primary voltage in volts\n",
"f=50;                    //frequency in hertz\n",
"N1=100;                  //number of primary turns\n",
"N2=400;                  //number of secondary turns\n",
"A=250*10^(-4);            //cross section area of core in m^2\n",
"disp('since at no-load E2=V2')\n",
"E2=(V1*N2)/N1;\n",
"printf('induced secondary winding,E2=%dV',E2);\n",
"phi=E2/(4.44*f*N2);\n",
"Bm=phi/A;\n",
"printf('\nMaximium flux density in the core=%fWb/m^2',Bm)"
   ]
   }
,
{
		   "cell_type": "markdown",
		   "metadata": {},
		   "source": [
			"## Example 3.4: calculating_induced_emf_and_maximium_flux_density.sce"
		   ]
		  },
  {
"cell_type": "code",
	   "execution_count": null,
	   "metadata": {
	    "collapsed": true
	   },
	   "outputs": [],
"source": [
"//calculating induced emf and maximium flux density\n",
"//Chapter 3\n",
"//Example 3.3\n",
"//page 197\n",
"clear;\n",
"clc; \n",
"disp('Example 3.3')\n",
"kVA=40;                //rating of the transformer\n",
"V1=2000;                //primary side voltage in volts\n",
"V2=250;                 //secondary side voltage in volts\n",
"R1=1.15;                //primary resistance in ohms\n",
"R2=0.0155;              //secondary resistance in ohms\n",
"R=R2+(((V2/V1)^2)*R1)\n",
"printf('Total resistance of the transformer in terms of the secondary winding=%fohms',R)\n",
"I2=(kVA*1000)/V2;\n",
"printf('\nFull load secondary current=%dA',I2)\n",
"printf('\nTotal resistance load on full load=%fVolts',(I2*R))\n",
"printf('\nTotal copper loss on full load=%fWatts',((I2)^2*R))"
   ]
   }
,
{
		   "cell_type": "markdown",
		   "metadata": {},
		   "source": [
			"## Example 3.5: Calculating_the_current_and_power_factor_of_the_primary_circuit.sce"
		   ]
		  },
  {
"cell_type": "code",
	   "execution_count": null,
	   "metadata": {
	    "collapsed": true
	   },
	   "outputs": [],
"source": [
"//Calculating the current and power factor of the primary circuit\n",
"//Chapter 3\n",
"//Example 3.5\n",
"//page 206\n",
"clear;\n",
"clc; \n",
"disp('Example 3.5')\n",
"I2=300;........................//Secondary current in amperes\n",
"N1=1200;                        //number of primary turns\n",
"N2=300;                         //number of secondary turns\n",
"I0=2.5;                         //load current in amperes\n",
"I1=(I2*N2)/N1;\n",
"phi0=acosd(0.2);\n",
"phi2=acosd(0.8);\n",
"I1c=(I1*cosd(phi2))+(I0*cosd(phi0));\n",
"I1s=(I1*sind(phi2))+(I0*sind(phi0));\n",
"I=sqrt(I1c^2+I1s^2);\n",
"phi=atand(I1s/I1c)\n",
"printf('primary power factor=%fdegrees',cosd(phi));"
   ]
   }
,
{
		   "cell_type": "markdown",
		   "metadata": {},
		   "source": [
			"## Example 3.6: Calculating_the_value_of_primary_current.sce"
		   ]
		  },
  {
"cell_type": "code",
	   "execution_count": null,
	   "metadata": {
	    "collapsed": true
	   },
	   "outputs": [],
"source": [
"//Calculating the value of primary current\n",
"//Chapter 3\n",
"//Example 3.6\n",
"//page 207\n",
"clear;\n",
"clc; \n",
"disp('Example 3.6')\n",
"I0=1.5;                //no-load current\n",
"phi0=acosd(0.2)\n",
"I2=40;                 //secondary current in amperes\n",
"phi2=acosd(0.8)\n",
"r=3;                    //ratio of primary and secondary turns\n",
"I1=I2/r;            \n",
"I1c=(I1*cosd(phi2))+(I0*cosd(phi0));\n",
"I1s=(I1*sind(phi2))+(I0*sind(phi0));\n",
"I=sqrt(I1c^2+I1s^2);\n",
"printf('I1=%fA',I)\n",
""
   ]
   }
,
{
		   "cell_type": "markdown",
		   "metadata": {},
		   "source": [
			"## Example 3.7: Calculating_the_magnetising_current_and_core_loss_and_flux.sce"
		   ]
		  },
  {
"cell_type": "code",
	   "execution_count": null,
	   "metadata": {
	    "collapsed": true
	   },
	   "outputs": [],
"source": [
"//Calculating the magnetising current,core loss and flux\n",
"//Chapter 3\n",
"//Example 3.7\n",
"//page 208\n",
"clear;\n",
"clc; \n",
"disp('Example 3.7')\n",
"V1=230;                //voltage in volts\n",
"f=50;                  //frequency of supply in hertz\n",
"N1=250;                //number of primary turns\n",
"I0=4.5;                //no-load current in amperes\n",
"phi0=acosd(0.25);\n",
"Im=I0*sind(phi0)\n",
"printf('magnetising current,Im=%fA',Im);\n",
"Pc=V1*I0*cosd(phi0);\n",
"printf('\nCore loss=%dW',Pc)\n",
"disp('neglecting I^2R loss in primary winding at no-load')\n",
"E1=V1;\n",
"phi=E1/(4.44*f*N1);\n",
"printf('\nMaximium value of flux in the core=%fWb',phi)"
   ]
   }
,
{
		   "cell_type": "markdown",
		   "metadata": {},
		   "source": [
			"## Example 3.8: Calculating_the_current_and_power_factor_of_the_primary_circuit.sce"
		   ]
		  },
  {
"cell_type": "code",
	   "execution_count": null,
	   "metadata": {
	    "collapsed": true
	   },
	   "outputs": [],
"source": [
"//Calculating the current and power factor of the primary circuit\n",
"//Chapter 3\n",
"//Example 3.8\n",
"//page 209\n",
"clear;\n",
"clc; \n",
"disp('Example 3.8')\n",
"I2=30;........................//Secondary current in amperes\n",
"I0=2;                         //load current in amperes\n",
"V1=660;                        //primary voltage in volts\n",
"V2=220;                        //secondary voltage in volts\n",
"I1=(I2*V2)/V1;\n",
"phi0=acosd(0.225);\n",
"phi2=acosd(0.9);\n",
"I1c=(I1*cosd(phi2))+(I0*cosd(phi0));\n",
"I1s=(I1*sind(phi2))+(I0*sind(phi0));\n",
"I=sqrt(I1c^2+I1s^2);\n",
"phi=atand(I1s/I1c)\n",
"printf('I1=%fA',I)\n",
"printf('\nprimary power factor=%fdegrees',cosd(phi));"
   ]
   }
,
{
		   "cell_type": "markdown",
		   "metadata": {},
		   "source": [
			"## Example 3.9: Calculating_magnetising_current_and_primary_current_and_primary_power_factor.sce"
		   ]
		  },
  {
"cell_type": "code",
	   "execution_count": null,
	   "metadata": {
	    "collapsed": true
	   },
	   "outputs": [],
"source": [
"//Calculating magnetising current,primary current and primary power factor\n",
"//Chapter 3\n",
"//Example 3.9\n",
"//page 210\n",
"clear;\n",
"clc; \n",
"disp('Example 3.9')\n",
"phi_m=7.5*10^(-3);                    //maximium flux\n",
"f=50;                            //frequecy in hertz\n",
"N1=144;                         //number of primary turns\n",
"N2=432;                         //number of secondary turns\n",
"kVA=0.24;                        //rating of transformer\n",
"E1=(4.44*phi_m*f*N1)\n",
"V1=E1;\n",
"printf('V1=%dV',V1)\n",
"I0=(kVA*1000)/V1;\n",
"phi0=acosd(0.26);\n",
"Im=I0*sind(phi0);\n",
"printf('\nIm=%fA',Im);\n",
"V2=(E1*N2)/N1\n",
"printf('\nV2=%fV',V2)\n",
"disp('At a load of 1.2kVA and power factor of 0.8 lagging')\n",
"kVA=1.2;\n",
"phi2=acosd(0.8);\n",
"I2=(kVA*1000)/V2;\n",
"I=(I2*N2)/N1;\n",
"I1c=(I*cosd(phi2))+(I0*cosd(phi0));\n",
"I1s=(I*sind(phi2))+(I0*sind(phi0));\n",
"I=sqrt(I1c^2+I1s^2);\n",
"printf('\nI1=%fA',I);\n",
"phi=acosd(((I*cosd(phi2))+(I0*cosd(phi0)))/I);\n",
"printf('\nprimary power factor=%flagging',cosd(phi))"
   ]
   }
],
"metadata": {
		  "kernelspec": {
		   "display_name": "Scilab",
		   "language": "scilab",
		   "name": "scilab"
		  },
		  "language_info": {
		   "file_extension": ".sce",
		   "help_links": [
			{
			 "text": "MetaKernel Magics",
			 "url": "https://github.com/calysto/metakernel/blob/master/metakernel/magics/README.md"
			}
		   ],
		   "mimetype": "text/x-octave",
		   "name": "scilab",
		   "version": "0.7.1"
		  }
		 },
		 "nbformat": 4,
		 "nbformat_minor": 0
}
