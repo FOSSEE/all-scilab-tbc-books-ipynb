{
"cells": [
 {
		   "cell_type": "markdown",
	   "metadata": {},
	   "source": [
       "# Chapter 4: Three Phase Induction Machines"
	   ]
	},
{
		   "cell_type": "markdown",
		   "metadata": {},
		   "source": [
			"## Example 2.22: Calculate_the_value_of_resistance.sce"
		   ]
		  },
  {
"cell_type": "code",
	   "execution_count": null,
	   "metadata": {
	    "collapsed": true
	   },
	   "outputs": [],
"source": [
"//Calculate the value of resistance\n",
"//Chapter 2\n",
"//Example 2.22\n",
"//page 126\n",
"clear;\n",
"clc;\n",
"disp('Example 2.22')\n",
"V=440;                //primary voltage in volts\n",
"Ia=50;                //armature current in amperes\n",
"Ra=0.2;                //armature resistance in ohms\n",
"N=600;                  //speed in rpm\n",
"E=V-(Ia*Ra);           //emf induced  in volts before adding extra resistance\n",
"//E=K*phi*N=K1*Ia*N\n",
"K1=E/(Ia*N);\n",
"//we have the relation T=Kt1*Ia^2, T1=Kt1*Ia1^2\n",
"//when torque is half, say torque be T1\n",
"//T1=T/2. r=T/T1\n",
"r=2;\n",
"Ia1=sqrt(Ia^2/r);\n",
"printf('Ia1=%fA',Ia1);\n",
"//extra resistance R is introduced in the circuit\n",
"N1=400;\n",
"E1=(K1*Ia1*N1);\n",
"R=((V-E1)/Ia1)-Ra;\n",
"printf('\nvalue of extra resistance added=%fohms',R)\n",
"\n",
"\n",
"\n",
"\n",
""
   ]
   }
,
{
		   "cell_type": "markdown",
		   "metadata": {},
		   "source": [
			"## Example 4.10: Calculating_the_frequency_of_the_rotor_current.sce"
		   ]
		  },
  {
"cell_type": "code",
	   "execution_count": null,
	   "metadata": {
	    "collapsed": true
	   },
	   "outputs": [],
"source": [
"//Calculating the frequency of the rotor current\n",
"//Chapter 4\n",
"//Example 4.10\n",
"//page 299\n",
"clear;\n",
"clc; \n",
"disp('Example 4.10')\n",
"P=12;.......................//pole\n",
"f=50;.......................//frequency of induction motor in hertz\n",
"Nr=485;........................//induction motor speed in rpm\n",
"Ns=(120*f)/P;\n",
"S=(Ns-Nr)/Nr;\n",
"fr=S*f;\n",
"printf('frequency of rotor current=%fHz',fr)"
   ]
   }
,
{
		   "cell_type": "markdown",
		   "metadata": {},
		   "source": [
			"## Example 4.11: Calculating_the_rotor_current.sce"
		   ]
		  },
  {
"cell_type": "code",
	   "execution_count": null,
	   "metadata": {
	    "collapsed": true
	   },
	   "outputs": [],
"source": [
"//Calculating the rotor current\n",
"//Chapter 4\n",
"//Example 4.11\n",
"//page 299\n",
"clear;\n",
"clc; \n",
"disp('Example 4.11')\n",
"E20=100;................................//induced emf of induction motor at standstill in volts\n",
"E20p=E20/sqrt(3);........................//induced emf per phase in volts\n",
"S=0.40;................................//slip\n",
"E2=S*E20p;.................................//rotor induced emf at slip S in volts\n",
"printf('Rotor induced emf at a slip E2=%fV',E2);\n",
"R2=0.4;.................................//resistance per phase in ohms\n",
"X20=2.25;............................//standstill resistance per phase i ohms\n",
"Z2=sqrt((R2)^2+(S*X20)^2);....................//rotor impedence at slip S in ohms\n",
"printf('\nRotor impedence at a slip S, Z2=%fohms',Z2)\n",
"I=E2/Z2;\n",
"printf('\nrotor current=%fA',I)"
   ]
   }
,
{
		   "cell_type": "markdown",
		   "metadata": {},
		   "source": [
			"## Example 4.12: Calculate_power_developed_and_efficiency.sce"
		   ]
		  },
  {
"cell_type": "code",
	   "execution_count": null,
	   "metadata": {
	    "collapsed": true
	   },
	   "outputs": [],
"source": [
"//Calculate power developed and efficiency\n",
"//Chapter 4\n",
"//Example 4.12\n",
"//page 308\n",
"clear;\n",
"clc; \n",
"disp('Example 4.12')\n",
"S=0.03;                //slip\n",
"SI=50;                //stator input in kilowatts\n",
"SL=2;                //stator loss in kilowatts\n",
"RI=SI-SL;            //rotor input in kilowatts\n",
"RIL=S*RI;              //rotor I^2R loss\n",
"//rotor core loss can be neglected at 3percent slip\n",
"PDR=RI-RIL;            //power developed by the rotor\n",
"printf('Power developed by the rotor=%fkW',PDR);\n",
"FWL=1;                //friction and windage loss in kilowatt\n",
"OP=PDR-FWL;            //output power\n",
"printf('\nOutput power=%fkW',OP);\n",
"effi=(OP*100)/SI;\n",
"printf('\nEfficiency of the motor=%f percent',effi)\n",
"\n",
"\n",
""
   ]
   }
,
{
		   "cell_type": "markdown",
		   "metadata": {},
		   "source": [
			"## Example 4.13: Calculating_the_rotor_loss_and_rotor_speed.sce"
		   ]
		  },
  {
"cell_type": "code",
	   "execution_count": null,
	   "metadata": {
	    "collapsed": true
	   },
	   "outputs": [],
"source": [
"//Calculating the rotor loss and rotor speed\n",
"//Chapter 4\n",
"//Example 4.13\n",
"//page 309\n",
"clear;\n",
"clc; \n",
"disp('Example 4.13')\n",
"f=50;.....................//frequency of induction motor in hertz\n",
"hp=20;                    //horse power\n",
"ph=3;                     //Three phase supply\n",
"P=4;                    //number of poles\n",
"losses=500;                //friction and vintage losses\n",
"printf('Output of the motor=%fW',(hp*735.5))\n",
"Pd=(hp*735.5)+losses;            //power developed in watt\n",
"printf('\nPower developed by the rotor=%dW',Pd);\n",
"s=0.04;                    //slip\n",
"rotorloss=(s*Pd)/(1-s);\n",
"printf('\nRotor I^2R-loss=%fW',rotorloss);\n",
"Ns=(120*f)/P;\n",
"printf('\nNs=%drpm',Ns);\n",
"Nr=Ns*(1-s);\n",
"printf('Nr=%drpm',Nr);\n",
""
   ]
   }
,
{
		   "cell_type": "markdown",
		   "metadata": {},
		   "source": [
			"## Example 4.14: Calculating_standstill_rotor_reactance.sce"
		   ]
		  },
  {
"cell_type": "code",
	   "execution_count": null,
	   "metadata": {
	    "collapsed": true
	   },
	   "outputs": [],
"source": [
"//Calculating standstill rotor reactance\n",
"//Chapter 4\n",
"//Example 4.14\n",
"//page 310\n",
"clear;\n",
"clc; \n",
"disp('Example 4.14')\n",
"f=50;.....................//frequency of induction motor in hertz\n",
"P=6;                        //number of poles\n",
"ph=3;                    //Three phase supply\n",
"R2=0.1;                    //rotor resistance in ohms\n",
"Ns=(120*f)/P;\n",
"printf('Syncronous speed,Ns=%drpm',Ns);\n",
"Nr=940;                    //rotor speed in rpm\n",
"S=(Ns-Nr)/Ns;\n",
"printf('\nSlip,S=%f',S);\n",
"printf('\nstandstill rotor reactance,X20=%fohms',(R2/S));\n",
""
   ]
   }
,
{
		   "cell_type": "markdown",
		   "metadata": {},
		   "source": [
			"## Example 4.15: Calculating_new_full_load_speed.sce"
		   ]
		  },
  {
"cell_type": "code",
	   "execution_count": null,
	   "metadata": {
	    "collapsed": true
	   },
	   "outputs": [],
"source": [
"//Calculating new full load speed\n",
"//Chapter 4\n",
"//Example 4.15\n",
"//page 310\n",
"clear;\n",
"clc; \n",
"disp('Example 4.15')\n",
"f=50;.....................//frequency of induction motor in hertz\n",
"P=4;                        //number of poles\n",
"Nr=1440;                    //rotor speed in rpm\n",
"R2=0.1;                    //rotor resistance in ohms\n",
"X20=0.6;                    //rotor standstill resistance in ohms\n",
"Ns=(120*f)/P;\n",
"printf('Synchronous speed=%drpm',Ns);\n",
"S1=(Ns-Nr)*(100/Ns);\n",
"printf('Full-load slip with rotor resistance,R2 i.e. S1=%f',S1);\n",
"disp('on adding extra resistance o.1ohm')\n",
"//on solving we get S2=0.08\n",
"S2=0.08;\n",
"Nr2=Ns*(1-S2);\n",
"printf('\nNew rotor speed=%drpm',Nr2);\n",
""
   ]
   }
,
{
		   "cell_type": "markdown",
		   "metadata": {},
		   "source": [
			"## Example 4.16: Calculating_starting_torque.sce"
		   ]
		  },
  {
"cell_type": "code",
	   "execution_count": null,
	   "metadata": {
	    "collapsed": true
	   },
	   "outputs": [],
"source": [
"//Calculating starting torque\n",
"//Chapter 4\n",
"//Example 4.16\n",
"//page 311\n",
"clear;\n",
"clc; \n",
"disp('Example 4.16')\n",
"f=50;                    //frequency in hertz\n",
"P=4;                    //number of poles\n",
"R2=0.04;                    //rotor resistance in ohms\n",
"Ns=(120*f)/P;\n",
"printf('Syncronous speed=%drpm',Ns);\n",
"Nr=1200;                //rotor speed at maximium torque in rpm\n",
"S=(Ns-Nr)/Ns;\n",
"printf('\nSlip at maximium torque=%f',S);\n",
"X20=R2/S;\n",
"//starting torque is developed when S=1\n",
"//r=(Tst/Tm)\n",
"r=(R2/(R2^2+X20^2))*(2*X20);\n",
"printf('\nTherefore, starting torque is %fpercent of the maximium torque',(r*100));"
   ]
   }
,
{
		   "cell_type": "markdown",
		   "metadata": {},
		   "source": [
			"## Example 4.18: Calculating_external_resistance.sce"
		   ]
		  },
  {
"cell_type": "code",
	   "execution_count": null,
	   "metadata": {
	    "collapsed": true
	   },
	   "outputs": [],
"source": [
"//Calculating external resistance\n",
"//Chapter 4\n",
"//Example 4.18\n",
"//page 313\n",
"clear;\n",
"clc; \n",
"disp('Example 4.18')\n",
"P=4;                     //number of poles\n",
"f=50;                    //frequency in hertz\n",
"ph=3;                     //three phase supply\n",
"R2=0.25;                   //rotor resistance in ohms\n",
"Nr=1440;                     //rotor speed in rpm\n",
"Ns=(120*f)/P;\n",
"S1=(Ns-Nr)/Ns;\n",
"printf('S1=%f',S1);\n",
"Nr2=1200;    //rotor speed when external is added\n",
"S2=(Ns-Nr2)/Ns;\n",
"//torque remains constant,we get the relation R2'=R2*(S2/S1)\n",
"R2dash=R2*(S2/S1)\n",
"printf('\nExtra resistance to be connected in the  motor circuit=%fohms',(R2dash-R2))"
   ]
   }
,
{
		   "cell_type": "markdown",
		   "metadata": {},
		   "source": [
			"## Example 4.1: to_calculate_synchronous_speed_and_speed_of_rotro_for_slip_condition.sce"
		   ]
		  },
  {
"cell_type": "code",
	   "execution_count": null,
	   "metadata": {
	    "collapsed": true
	   },
	   "outputs": [],
"source": [
"//Calculating synchronous speed and speed of a rotor\n",
"//Chapter 4\n",
"//Example 4.1\n",
"//page 288\n",
"clear;\n",
"clc;\n",
"disp('example 4.1');\n",
"f=50;   //frequency\n",
"p=6; // number of poles\n",
"V=400; //voltage supply\n",
"S=4;   //percentage slip\n",
"Ns=(120*f)/p;  //synchronous speed\n",
"printf('Syhchronous speed,Ns=%d \n',Ns);\n",
"Nr=(1-(S/100))*Ns;\n",
"printf('speed of rotor with slip 4 percent,Nr is %d rpm \n',Nr);"
   ]
   }
,
{
		   "cell_type": "markdown",
		   "metadata": {},
		   "source": [
			"## Example 4.20: Calculating_full_load_rotor_loss_and_rotor_input_and_output_torque.sce"
		   ]
		  },
  {
"cell_type": "code",
	   "execution_count": null,
	   "metadata": {
	    "collapsed": true
	   },
	   "outputs": [],
"source": [
"//Calculating full load rotor loss and rotor input and output torque\n",
"//Chapter 4\n",
"//Example 4.20\n",
"//page 311\n",
"clear;\n",
"clc; \n",
"disp('Example 4.20')\n",
"hp=20;                        \n",
"P=4;                        //number of poles\n",
"f=50;\n",
"S=0.03;                      //slip\n",
"MSO=hp*735.5;                //motor shaft output\n",
"losses=0.02*MSO               //friction and windage loss in watts\n",
"Pd=MSO+losses;                    //power developed by the rotor in watts\n",
"RCL=(S*Pd)/(1-S);           //rotor I^2*R loss\n",
"printf('rotor copper loss=%fW',RCL);\n",
"Ri=Pd+RCL                              //rotor iron loss is neglected\n",
"printf('\nRotor input=%fW',Ri);\n",
"Ns=(120*f)/P;\n",
"Nr=Ns*(1-S)*(1/60);                  //rotor speed in rps\n",
"OT=MSO/(2*3.14*Nr);                    //outp[ut torque in Nm\n",
"printf('\noutput torque=%fNm',OT)"
   ]
   }
,
{
		   "cell_type": "markdown",
		   "metadata": {},
		   "source": [
			"## Example 4.21: EX4_21.sce"
		   ]
		  },
  {
"cell_type": "code",
	   "execution_count": null,
	   "metadata": {
	    "collapsed": true
	   },
	   "outputs": [],
"source": [
"//Calculating the slip,rotor copper loss,the output horse power and efficiency\n",
"//Chapter 4\n",
"//Example 4.21\n",
"//page 316\n",
"clear;\n",
"clc; \n",
"disp('Example 4.21')\n",
"f=50;...................//frequency of induction motor in hertz\n",
"P=6;....................//pole\n",
"Ns=(120*f)/P;\n",
"Nr=975;.........................//induction motor running speed in rpm\n",
"S=(Ns-Nr)/Ns;\n",
"printf('the slip=%f',S)\n",
"Pin=40;....................//power input to stator in kW\n",
"Sl=1;.....................//stator losses in kW\n",
"Rin=Pin-Sl;.................//output from stator in kW\n",
"Rc=S*Rin;\n",
"printf('\nrotor copper losses=%fkW',Rc)\n",
"l=2;.....................//total losses in kW\n",
"p=Rin-Rc-l;..................//output power in kw\n",
"HP=(p*1000)/735.5;\n",
"printf('\noutput horse output=%fHP',HP)\n",
"in=40;...........................//input in kW\n",
"effi=(p/in)*100;\n",
"printf('\nefficiency=%fpercent',effi)"
   ]
   }
,
{
		   "cell_type": "markdown",
		   "metadata": {},
		   "source": [
			"## Example 4.22: EX4_22.sce"
		   ]
		  },
  {
"cell_type": "code",
	   "execution_count": null,
	   "metadata": {
	    "collapsed": true
	   },
	   "outputs": [],
"source": [
"//Calculating the slip,rotor speed,mechanical power developed,rotor copper loss per phase and resistance per phase\n",
"//Chapter 4\n",
"//Example 4.22\n",
"//page 316\n",
"clear;\n",
"clc; \n",
"disp('Example 4.22')\n",
"f=50;...........................//frequency of induction motor in hertz\n",
"P=6;............................//pole\n",
"Ns=(120*f)/P;\n",
"printf('synchronous speed=%frpm',Ns)\n",
"fr=120/60;...........................//rotor frequency\n",
"S=fr/f;\n",
"printf('\nthe slip=%f',S)\n",
"Nr=Ns-(Ns*S);\n",
"printf('\nrotor speed=%frpm',Nr)\n",
"Rin=80;.......................//rotor input in kW\n",
"Rc=S*Rin;.....................//Rotor copper loss in kW\n",
"Ph=3;...............................//number of phases\n",
"Rcp=(Rc/Ph)*1000;.........................//loss per phase in watt\n",
"p=((Rin-Rc)*1000)/735.5;\n",
"printf('\nmechanical power developed=%fhp',p)\n",
"Ir=60;.........................//rotor current in amperes\n",
"R2=Rcp/(Ir)^2;\n",
"printf('\nrotor resistance per phase at rotor current 60A=%fohms',R2)"
   ]
   }
,
{
		   "cell_type": "markdown",
		   "metadata": {},
		   "source": [
			"## Example 4.23: Calculating_additional_resistance_required.sce"
		   ]
		  },
  {
"cell_type": "code",
	   "execution_count": null,
	   "metadata": {
	    "collapsed": true
	   },
	   "outputs": [],
"source": [
"//Calculating additional resistance required\n",
"//Chapter 4\n",
"//Example 4.23\n",
"//page 320\n",
"clear;\n",
"clc; \n",
"disp('Example 4.23')\n",
"// we know (Ts/Tm)=((2*a)/(1+a^2))\n",
"//where  a=(R2/X20)\n",
"//at starting contion since Tm=Ts\n",
"disp('At starting contion since Tm=Ts')\n",
"a=1     //we obtain from the relations\n",
"R2=0.05;                    //circuit resistance in ohms\n",
"X2=0.4;                    //standstill reactance in ohms\n",
"r=(a*X2)-R2;                //r is the extra that is added to the rotor circuit\n",
"printf('extra resistance added,r=%fohms',r)\n",
""
   ]
   }
,
{
		   "cell_type": "markdown",
		   "metadata": {},
		   "source": [
			"## Example 4.24: Calculate_speed_of_motor_and_maximium_torque.sce"
		   ]
		  },
  {
"cell_type": "code",
	   "execution_count": null,
	   "metadata": {
	    "collapsed": true
	   },
	   "outputs": [],
"source": [
"//Calculate speed of motor and maximium torque\n",
"//Chapter 4\n",
"//Example 4.24\n",
"//page 321\n",
"clear;\n",
"clc; \n",
"disp('Example 4.24')\n",
"V=400;                //supply voltage in volts\n",
"f=50;                    //frequency in hertz\n",
"P=6;                  //number of poles\n",
"ph=3;                  //three phase supply\n",
"R2=0.03;                //rotor resistance in ohms\n",
"X20=0.4;                 //rptor reactance in ohms\n",
"Nr=960;                //full load speed in rpm\n",
"Ns=(120*f)/P;\n",
"printf('synchronous speed=%drpm',Ns)\n",
"S=(Ns-Nr)/Ns;            //corresponding slip\n",
"//maximium torque Tm occurs at S=(R2/X20)\n",
"//we get Tm=k/(2*X20)\n",
"a=R2/X20;\n",
"//r=Tm/T\n",
"r=(a^2+S^2)/(2*a*S);\n",
"Sm=(R2/X20);\n",
"printf('\nSlip at maximium torque,Sm=%f',Sm);\n",
"//corresponding speed\n",
"Nr2=Ns*(1-Sm);\n",
"printf('\nRotor speed at maximium torque=%drpm',Nr2)\n",
"\n",
""
   ]
   }
,
{
		   "cell_type": "markdown",
		   "metadata": {},
		   "source": [
			"## Example 4.25: Calculate_starting_current.sce"
		   ]
		  },
  {
"cell_type": "code",
	   "execution_count": null,
	   "metadata": {
	    "collapsed": true
	   },
	   "outputs": [],
"source": [
"//Calculate starting current\n",
"//Chapter 4\n",
"//Example 4.25\n",
"//page 321\n",
"clear;\n",
"clc; \n",
"disp('Example 4.25')\n",
"V=400;                //supply voltage in volts\n",
"f=50;                    //frequency in hertz\n",
"P=4;                  //number of poles\n",
"ph=3;                  //three phase supply\n",
"S=0.04;\n",
"If=30;                 //Full load current in amperes\n",
"Isc=6*If;\n",
"//let r be the ratio of starting torque nd full load torque, r=Ts/Tf\n",
"r=(Isc/If)^2*S;\n",
"//Tf=Tm is produced when voltage is Vm\n",
"Vm=sqrt(V^2/r);\n",
"printf('\nvoltage at maximium torque=%fvolts',Vm);\n",
"Is=6*If*(Vm/V);\n",
"printf('\nFull-load current at 333.3 volts is=%fA',Is)\n",
"\n",
""
   ]
   }
,
{
		   "cell_type": "markdown",
		   "metadata": {},
		   "source": [
			"## Example 4.26: Calculate_starting_line_current_and_starting_torque.sce"
		   ]
		  },
  {
"cell_type": "code",
	   "execution_count": null,
	   "metadata": {
	    "collapsed": true
	   },
	   "outputs": [],
"source": [
"//Calculate starting line current and starting torque\n",
"//Chapter 4\n",
"//Example 4.26\n",
"//page 330\n",
"clear;\n",
"clc; \n",
"disp('Example 4.26')\n",
"V=400;                //supply voltage in volts\n",
"f=50;                    //frequency in hertz\n",
"Id=75;                    //current taken when delta-connected in amperes\n",
"printf('current taken when delta-connected=%dA',Id);\n",
"Is=Id/3;                    //current taken when star-connected in amperes\n",
"printf('\ncurrent taken when star-connected=%dA',Is);\n",
"//Tfl be the full load torque\n",
"//r=Ts/Tfl\n",
"r=1.5;\n",
"//since voltage becomes (1/sqrt(3)) when star connected \n",
"//torque is directly proportional to square of voltage\n",
"printf('\nStarting torque with winding star connected=%f times of Tfl',(r/3));\n",
""
   ]
   }
,
{
		   "cell_type": "markdown",
		   "metadata": {},
		   "source": [
			"## Example 4.28: Calculate_starting_torque.sce"
		   ]
		  },
  {
"cell_type": "code",
	   "execution_count": null,
	   "metadata": {
	    "collapsed": true
	   },
	   "outputs": [],
"source": [
"//Calculate starting torque \n",
"//Chapter 4\n",
"//Example 4.28\n",
"//page 333\n",
"clear;\n",
"clc; \n",
"disp('Example 4.28')\n",
"ph=3;\n",
"//rotor copper loss=slip*rotor input\n",
"//Tst= starting torque\n",
"//Tfl=torque at full load\n",
"//Ist/Ifl=r\n",
"r=6;\n",
"S=0.04\n",
"printf(' At slip=0.04')\n",
"printf('\nFor direct-on-line starting, (Tst/Tfl)=%f',((r^2*S)));\n",
"//phase current in start is (1/sqrt(3)) times the phase current in delta\n",
"\n",
"printf('\nFor direct-on-line starting, (Tst/Tfl)=%f',((r/sqrt(3))^2*S));\n",
"\n",
"\n",
"\n",
""
   ]
   }
,
{
		   "cell_type": "markdown",
		   "metadata": {},
		   "source": [
			"## Example 4.29: Calculate_full_load_speed.sce"
		   ]
		  },
  {
"cell_type": "code",
	   "execution_count": null,
	   "metadata": {
	    "collapsed": true
	   },
	   "outputs": [],
"source": [
"//Calculate full load speed\n",
"//Chapter 4\n",
"//Example 4.29\n",
"//page 334\n",
"clear;\n",
"clc; \n",
"disp('Example 4.29')\n",
"V=400;                    //voltage in volts\n",
"f=50;                    //frequency in hertz\n",
"P=4;                    //number of poles\n",
"//r1=(Ts/Tfl)\n",
"r1=1.6;\n",
"//r2=(Tm/Tfl)\n",
"r2=2;\n",
"//r3=(Ts/Tm)=(2*a)/(1+a^2)\n",
"r3=0.8;\n",
"//on solving , we get a=0.04  ,\n",
"a=0.04;\n",
"Sm=0.04;   //slip at maximium torque\n",
"printf('Slip at maximium torque,Sm=%f',Sm)\n",
"Ns=(120*f)/P;            //synchronous speed in rpm\n",
"Nr=Ns*(1-Sm)             //rotor speed in rpm\n",
"//r2=(a^2+Sfl^2)/(2*a*Sfl)\n",
"Sfl=0.01;\n",
"Nr2=Ns*(1-Sfl);\n",
"printf('\nfull load speed,Nr=%drpm',Nr2)"
   ]
   }
,
{
		   "cell_type": "markdown",
		   "metadata": {},
		   "source": [
			"## Example 4.2: to_find_out_rotor_running_at_higher_slip.sce"
		   ]
		  },
  {
"cell_type": "code",
	   "execution_count": null,
	   "metadata": {
	    "collapsed": true
	   },
	   "outputs": [],
"source": [
"//determining rotor running at high slip\n",
"//Chapter 4\n",
"//Example 4.2\n",
"//page 288\n",
"clear;\n",
"clc;\n",
"disp('example 4.2');\n",
"f=50;   //frequency\n",
"V=400; //voltage supply\n",
"\n",
"p=2;\n",
"printf('when P=2, Syhchronous speed,Ns=%d \n',((120*f)/p));\n",
"p=4;\n",
"printf('when P=2, Syhchronous speed,Ns=%d \n',((120*f)/p));\n",
"p=6;\n",
"printf('when P=2, Syhchronous speed,Ns=%d \n',((120*f)/p));\n",
"p=8;\n",
"printf('when P=2, Syhchronous speed,Ns=%d \n',((120*f)/p));\n",
"disp('for Nr to be 1440 , Ns will be 1500, thus p=4')\n",
"Ns=1500;Nr1=1440;\n",
"S1=((Ns-Nr1)/Ns)*100;\n",
"printf('slip=%d\n',S1);\n",
"disp('for Nr to be 940 , Ns will be 1000, thus p=6')\n",
"Ns=1000;Nr2=940;\n",
"S2=((Ns-Nr2)/Ns)*100;\n",
"printf('slip=%d\n',S2);\n",
"if S1>S2 then\n",
"    disp('motor running at 1440 rpm is running at higher slip')\n",
"elseif S2>S1\n",
"    disp('motor running at 940 rpm is running at higher slip')"
   ]
   }
,
{
		   "cell_type": "markdown",
		   "metadata": {},
		   "source": [
			"## Example 4.30: Calculate_full_load_rotor_loss_and_rotor_input_and_output_torque.sce"
		   ]
		  },
  {
"cell_type": "code",
	   "execution_count": null,
	   "metadata": {
	    "collapsed": true
	   },
	   "outputs": [],
"source": [
"//Calculate full load rotor loss and rotor input and output torque\n",
"//Chapter 4\n",
"//Example 4.30\n",
"//page 345\n",
"clear;\n",
"clc; \n",
"disp('Example 4.30')\n",
"hp=20;                    //power in horsepower\n",
"f=50;                    //frequency in hertz\n",
"P=4;                    //number of poles\n",
"Ns=(120*f)/P;                //synchronous speed\n",
"printf('Synchronous speed,Ns=%drpm',Ns);\n",
"S=0.04;                            //slip\n",
"Nr=Ns*(1-S);\n",
"OP=hp*735.5;\n",
"printf('\nOutput power=%fW',OP);\n",
"OT=OP/(2*3.14*(Nr/60));\n",
"printf('\nOutput torque=%fNm',OT);\n",
"FL=0.02*OP;          //Friction and windage loss\n",
"PD=OP+FL;\n",
"printf('\nPower developed by the rotor=%fW',PD);\n",
"//from relation, (rotor I^2R-loss=S*Rotor input) we get following relation \n",
"RL=(S*PD)/(1-S);        \n",
"printf('\nRotor I^2R-loss=%fW',RL);\n",
"RI=RL/S;\n",
"printf('\nRotor input=%dW',RI)\n",
""
   ]
   }
,
{
		   "cell_type": "markdown",
		   "metadata": {},
		   "source": [
			"## Example 4.31: Calculate_full_load_rotor_loss_and_rotor_input_and_output_torque.sce"
		   ]
		  },
  {
"cell_type": "code",
	   "execution_count": null,
	   "metadata": {
	    "collapsed": true
	   },
	   "outputs": [],
"source": [
"//Calculate full load rotor loss and rotor input and output torque\n",
"//Chapter 4\n",
"//Example 4.31\n",
"//page 347\n",
"clear;\n",
"clc; \n",
"disp('Example 4.31')\n",
"P=4;                //number of poles\n",
"f=50;                //frequency in hertz\n",
"V=230;               //voltage in volts\n",
"hp=5;                //power in horsepower\n",
"Ib=15;                //current in block rotor test in amperes\n",
"output=hp*735.5;        //output in watts\n",
"//in block rotor test: power input=Full=load I^2R losses=735W\n",
"FLl=735;                                //Full-load I^2R losses\n",
"printf('Full-load I^2R losses=%fW',FLl);\n",
"Re=FLl/(3*Ib^2);\n",
"Io=6.3;                //current in no load condition in amperes\n",
"lossNL=(3*(Io)^2*Re);    //I^2R loss at no-load condition\n",
"printf('\nI^2R loss at no-load=%fW',lossNL);\n",
"PiNL=275;                  //power input at no-load\n",
"printf('\nCore loss plus friction and windage loss=%dW',(PiNL-lossNL));\n",
"TL=FLl+(PiNL-lossNL);\n",
"effi=(output*100)/(output+TL);\n",
"printf('\nEfficiency=%fpercent',effi)\n",
""
   ]
   }
,
{
		   "cell_type": "markdown",
		   "metadata": {},
		   "source": [
			"## Example 4.32: Calculate_full_load_efficiency.sce"
		   ]
		  },
  {
"cell_type": "code",
	   "execution_count": null,
	   "metadata": {
	    "collapsed": true
	   },
	   "outputs": [],
"source": [
"//Calculate full load efficiency\n",
"//Chapter 4\n",
"//Example 4.32\n",
"//page 347\n",
"clear;\n",
"clc; \n",
"disp('Example 4.32')\n",
"Vl=415;            //voltage in volts\n",
"Il=50;                //line current in amperes\n",
"R1=0.5;                //resistrance of stator winding per phase in ohms\n",
"pf=0.85;              //power factor\n",
"S=0.04;\n",
"IFL=(sqrt(3)*Vl*Il*pf)         //input to the motor on full load\n",
"printf('Input to the motor on full load=%dW',IFL);\n",
"I1=Il/sqrt(3);\n",
"SLFL=(3*I1^2*R1)            //Stator I^2R loss on full load\n",
"printf('\nStator I^2R loss on full load=%dW',SLFL);\n",
"//given ratio of stator core loss friction and windahe loss be r=(r1:r2)\n",
"r1=3;\n",
"r2=2;\n",
"TL=1500;            //total loss\n",
"SCL=(r1*TL)/(r1+r2);             //stator core loss\n",
"FWL=(r2*TL)/(r1+r2);             //Friction and windage loss\n",
"SL=SLFL+SCL;                      //total stator loss\n",
"SI=IFL;                            //Stator input\n",
"Pa=SI-SL;                            //power transferred through the air-gap=input to the rotor\n",
"RI=Pa\n",
"RL=S*RI;                           //rotor losses\n",
"TRL=FWL+RL;                         //total rotor losses \n",
"OP=RI-TRL;                            //Output power at the shaft\n",
"effi=(OP*100)/SI;\n",
"printf('\nEfficiency=%f percent',effi)"
   ]
   }
,
{
		   "cell_type": "markdown",
		   "metadata": {},
		   "source": [
			"## Example 4.33: EX4_33.sce"
		   ]
		  },
  {
"cell_type": "code",
	   "execution_count": null,
	   "metadata": {
	    "collapsed": true
	   },
	   "outputs": [],
"source": [
"//Calculating the rotor current at slip 3 precent and when the rotor develops maximum torque\n",
"//Chapter 4\n",
"//Example 4.33\n",
"//page 351\n",
"clear;\n",
"clc; \n",
"disp('Example 4.33')\n",
"E20=100;...............................//induced emf between slip terminals in volts\n",
"E20p=E20/sqrt(3);.......................//induced emf per phase in volts\n",
"printf('induced emf per phase=%fV',E20p)\n",
"S=3/100;...........................//slip\n",
"R2=0.2;.................................//resistance in ohms\n",
"X20=1;................................//standstill resistance in ohms\n",
"I2=(S*E20p)/sqrt((R2)^2+(S*X20)^2)\n",
"printf('\nrotor current at slip 0.03 =%fA per phase',I2)\n",
"Sm=R2/X20;\n",
"I2m=(Sm*E20p)/sqrt((R2)^2+(Sm*X20)^2)\n",
"printf('\nrotor current when the rotor develops maximum torque=%fA per phase',I2m)"
   ]
   }
,
{
		   "cell_type": "markdown",
		   "metadata": {},
		   "source": [
			"## Example 4.34: EX4_34.sce"
		   ]
		  },
  {
"cell_type": "code",
	   "execution_count": null,
	   "metadata": {
	    "collapsed": true
	   },
	   "outputs": [],
"source": [
"//Calculating the rotor current at slip 3 precent and when the rotor develops maximum torque\n",
"//Chapter 4\n",
"//Example 4.34\n",
"//page 352\n",
"clear;\n",
"clc; \n",
"disp('Example 4.34')\n",
"E20=120;......................//induced emf of motor at standstill in volts\n",
"E20p=120/sqrt(3);.....................//induced emf per phase\n",
"f=50;...............................//frequency of the motor in hertz\n",
"R2=0.2;.................................//Rotor Resistance  per phase\n",
"X20=1;.....................................//Standstill resistance in ohms\n",
"P=4;................................//pole\n",
"I=16;........................//\n",
"S=(I*R2)/sqrt((E20)^2-(I*X20)^2);\n",
"Ns=(120*f)/P;\n",
"printf('Synchronous speed=%frpm',Ns)\n",
"Nr=Ns-(Ns*S)\n",
"Sm=R2/X20;\n",
"Nr=Ns-(Ns*Sm)\n",
"I2=(Sm*E20p)/sqrt((R2)^2+(Sm*X20)^2)\n",
"printf('\nrotor current at maximum torque=%fAper Phase',I2)\n",
"Pi=(3*((I2)^2)*R2)/Sm;\n",
"printf('\nRotor input for the three phase=%fW',Pi)"
   ]
   }
,
{
		   "cell_type": "markdown",
		   "metadata": {},
		   "source": [
			"## Example 4.35: Calculate_the_circuit_elements.sce"
		   ]
		  },
  {
"cell_type": "code",
	   "execution_count": null,
	   "metadata": {
	    "collapsed": true
	   },
	   "outputs": [],
"source": [
"//Calculate the circuit elements\n",
"//Chapter 4\n",
"//Example 4.35\n",
"//page 356\n",
"clear;\n",
"clc; \n",
"disp('Example 4.35')\n",
"R1dc=0.01;                    //DC resistance in ohms\n",
"V=400;                        //voltage in volts\n",
"r=1.5;                    //ratio of ac to dc resistance\n",
"R1=r*R1dc;                  //AC resistance in ohms\n",
"//at no-load\n",
"Io=20;                    //no-load current in amperes\n",
"SL=(3*Io^2*R1);        //I^2R loss in the stator phases in watts\n",
"FWL=300;                 //Friction and windage loss in watts\n",
"TL=1200;                    //total losses=no-load power input in watts\n",
"CL=TL-(SL+FWL);            //core loss in watt\n",
"CLp=CL/sqrt(3);              //core loss per phase\n",
"Vp=V/sqrt(3);                //voltage per phase\n",
"Rm=(Vp^3)/CL;                  //motor resistance\n",
"pf=CL/(Vp*Io);\n",
"phi0=acosd(pf);\n",
"Xm=Vp/(Io*sind(phi0));                //motor reactance\n",
"//Under blocked rotor test\n",
"Vb=100;                    //voltage in volts\n",
"Isc=45;                      //current in amperes\n",
"Vbp=100/sqrt(3);           //voltage per phase in volts\n",
"P=2750;                    //power supplied in watts\n",
"Ze=Vbp/Isc;                       //Motor impedance reffered to stator side in ohms\n",
"Re=P/(3*Isc^2);\n",
"R2=Re-R1;                //rotor resistance referred to stator side\n",
"Xe=sqrt(Ze^2-Re^2);\n",
"//assuming X1=X2\n",
"X2=Xe/2\n",
"X1=X2;\n",
"printf('Thus the elements of the equivalent circuit are:');\n",
"printf('\nRm=%fohms',Rm);\n",
"printf('\nXm=%fohms',Xm);\n",
"printf('\n\nR1=%fohms',R1);\n",
"printf('\nrotor resistance referred to stator side,R2=%fohms',R2);\n",
"printf('\nequivalent resistance referred to stator side,Re=%fohms',Re);\n",
"\n",
"printf('\n\nX1=%fohms',X1);\n",
"printf('\nrotor reactance referred to stator side,X2=%fohms',X2);\n",
"printf('\nequivalent reactance referred to stator side,Xe=%fohms',Xe);\n",
"\n",
"\n",
"\n",
"\n",
"\n",
"\n",
"\n",
""
   ]
   }
,
{
		   "cell_type": "markdown",
		   "metadata": {},
		   "source": [
			"## Example 4.3: calculating_slip_and_number_of_poles.sce"
		   ]
		  },
  {
"cell_type": "code",
	   "execution_count": null,
	   "metadata": {
	    "collapsed": true
	   },
	   "outputs": [],
"source": [
"//Calculating synchronous speed and speed of a rotor\n",
"//Chapter 4\n",
"//Example 4.3\n",
"//page 289\n",
"clear;\n",
"clc;\n",
"disp('example 4.3');\n",
"disp('induction motor is to be run at 1440 rpm')\n",
"P=10;   //poles of alternator\n",
"N=600;   //speed of alternator\n",
"f=(P*N)/120   //frequency\n",
"printf('frequency=%d',f);\n",
"disp('when P=2');p=2\n",
"Ns=(120*f)/p;  //synchronous speed\n",
"printf('Syhchronous speed,Ns=%d \n',Ns);\n",
"disp('when P=4');p=4;\n",
"Ns=(120*f)/p;  //synchronous speed\n",
"printf('Syhchronous speed,Ns=%d \n',Ns);\n",
"//speed of rotor(1440) is less than synchronous speed 1500, therefore P=4\n",
"disp('speed of rotor(1440) is less than synchronous speed 1500, therefore P=4\n')\n",
"Ns=1500;\n",
"Nr=1440;\n",
"S=((Ns-Nr)/Ns)*100\n",
"printf('\nslip is %d percent and number of poles is 4',S)"
   ]
   }
,
{
		   "cell_type": "markdown",
		   "metadata": {},
		   "source": [
			"## Example 4.4: Calculate_frequency_of_rotor_induced_emf.sce"
		   ]
		  },
  {
"cell_type": "code",
	   "execution_count": null,
	   "metadata": {
	    "collapsed": true
	   },
	   "outputs": [],
"source": [
"//Calculate frequency of rotor induced emf\n",
"//Chapter 4\n",
"//Example 4.4\n",
"//page 293\n",
"clear;\n",
"clc; \n",
"disp('Example 4.4')\n",
"Nr=1440;                //rotor speed in rpm\n",
"f=50;                    //frequency in hertz\n",
"//calculating Ns for values of P=2,4,6,8 etc\n",
"//by checking P=4\n",
"P=4;\n",
"Ns=(120*f)/P;                 //Synchronous speed\n",
"S=(Ns-Nr)/Ns;                //slip\n",
"Fr=S*f;                       //rotor frequency\n",
"printf('Rotor frequency=%dHz',Fr)\n",
""
   ]
   }
,
{
		   "cell_type": "markdown",
		   "metadata": {},
		   "source": [
			"## Example 4.5: Calculating_the_speed_of_running_motor_and_its_slip.sce"
		   ]
		  },
  {
"cell_type": "code",
	   "execution_count": null,
	   "metadata": {
	    "collapsed": true
	   },
	   "outputs": [],
"source": [
"//Calculating the speed of running motor and its slip\n",
"//Chapter 4\n",
"//Example 4.5\n",
"//page 294\n",
"clear;\n",
"clc; \n",
"disp('Example 4.5')\n",
"f=50;...................//induction motor frequency in hertz\n",
"fr=1.5;.................//rotor frequency in hertz\n",
"S=fr/f;................//slip\n",
"P=8;...................//pole\n",
"Ns=(120*f)/P;\n",
"printf('synchronous speed=%frpm',Ns)\n",
"Nr=Ns-(S*Ns);\n",
"printf('\nmotor running speed=%frpm',Nr)\n",
"S1=S*100;\n",
"printf('\nslip percent=%fpercent',S1)"
   ]
   }
,
{
		   "cell_type": "markdown",
		   "metadata": {},
		   "source": [
			"## Example 4.6: Calculating_the_speed_of_rotating_magnetic_field.sce"
		   ]
		  },
  {
"cell_type": "code",
	   "execution_count": null,
	   "metadata": {
	    "collapsed": true
	   },
	   "outputs": [],
"source": [
"//Calculate rotor current and phase difference\n",
"//Chapter 4\n",
"//Example 4.7\n",
"//page 297\n",
"clear;\n",
"clc; \n",
"disp('Example 4.7')\n",
"E20=100;            //induced emf in volts\n",
"R2=0.05;            //rotor resistance in ohms\n",
"X20=0.1;            //rotor reactance in ohms\n",
"E20p=E20/sqrt(3);\n",
"disp('When S=0.04')\n",
"S=0.04;\n",
"I2=(S*E20p)/sqrt(R2^2+(S*X20)^2)\n",
"printf('I2=%dA',I2);\n",
"phi2=acosd(R2/(sqrt(R2^2+(S*X20)^2)));\n",
"printf('\nPhase angle between rotor voltage and rotor current=%f degrees',phi2);\n",
"disp('When S=1')\n",
"S=1;\n",
"I2=(S*E20p)/sqrt(R2^2+(S*X20)^2)\n",
"printf('I2=%dA',I2);\n",
"phi2=acosd(R2/(sqrt(R2^2+(S*X20)^2)));\n",
"printf('\nPhase angle between rotor voltage and rotor current=%f degrees',phi2);\n",
"\n",
"\n",
""
   ]
   }
,
{
		   "cell_type": "markdown",
		   "metadata": {},
		   "source": [
			"## Example 4.7: Calculate_rotor_current_and_phase_difference.sce"
		   ]
		  },
  {
"cell_type": "code",
	   "execution_count": null,
	   "metadata": {
	    "collapsed": true
	   },
	   "outputs": [],
"source": [
"//Calculate rotor current and phase difference\n",
"//Chapter 4\n",
"//Example 4.7\n",
"//page 297\n",
"clear;\n",
"clc; \n",
"disp('Example 4.7')\n",
"E20=100;            //induced emf in volts\n",
"R2=0.05;            //rotor resistance in ohms\n",
"X20=0.1;            //rotor reactance in ohms\n",
"E20p=E20/sqrt(3);\n",
"disp('When S=0.04')\n",
"S=0.04;\n",
"I2=(S*E20p)/sqrt(R2^2+(S*X20)^2)\n",
"printf('I2=%dA',I2);\n",
"phi2=acosd(R2/(sqrt(R2^2+(S*X20)^2)));\n",
"printf('\nPhase angle between rotor voltage and rotor current=%f degrees',phi2);\n",
"disp('When S=1')\n",
"S=1;\n",
"I2=(S*E20p)/sqrt(R2^2+(S*X20)^2)\n",
"printf('I2=%dA',I2);\n",
"phi2=acosd(R2/(sqrt(R2^2+(S*X20)^2)));\n",
"printf('\nPhase angle between rotor voltage and rotor current=%f degrees',phi2);\n",
"\n",
"\n",
""
   ]
   }
,
{
		   "cell_type": "markdown",
		   "metadata": {},
		   "source": [
			"## Example 4.8: Calculating_the_running_speed_and_frequency_of_the_rotor_magnet_current.sce"
		   ]
		  },
  {
"cell_type": "code",
	   "execution_count": null,
	   "metadata": {
	    "collapsed": true
	   },
	   "outputs": [],
"source": [
"//Calculating the running speed and frequency of the rotor magnet current\n",
"//Chapter 4\n",
"//Example 4.8\n",
"//page 298\n",
"clear;\n",
"clc; \n",
"disp('Example 4.8')\n",
"f=50;.................//frequency of induction motor\n",
"P=4;.................//pole\n",
"Ns=(120*f)/P;\n",
"S=3;..................//slip percent\n",
"Nr=Ns-((Ns*S)/100)\n",
"fr=(S*f)/100;\n",
"printf('synchronous speed=%frpm',Ns)\n",
"printf('\nspeed of running motor=%frpm',Nr)\n",
"printf('\nrotor frequency=%fHz',fr)"
   ]
   }
,
{
		   "cell_type": "markdown",
		   "metadata": {},
		   "source": [
			"## Example 4.9: Calculating_the_running_speed_and_frequency_of_the_rotor_magnet_current.sce"
		   ]
		  },
  {
"cell_type": "code",
	   "execution_count": null,
	   "metadata": {
	    "collapsed": true
	   },
	   "outputs": [],
"source": [
"//Calculating the running speed and frequency of the rotor magnet current\n",
"//Chapter 4\n",
"//Example 4.9\n",
"//page 299\n",
"clear;\n",
"clc; \n",
"disp('Example 4.9')\n",
"fr=2;.............................//frequency of motor induced emf in hertz\n",
"f=50;.............................//frequency of induction motor in hertz\n",
"S=(fr/f)*100;................//slip percent\n",
"P=6;..............................//pole\n",
"Ns=(120*f)/P;\n",
"Nr=Ns-((Ns*S)/100);\n",
"printf('percentage slip=%fpercent',S)\n",
"printf('\nrotor speed=%frpm',Nr)"
   ]
   }
],
"metadata": {
		  "kernelspec": {
		   "display_name": "Scilab",
		   "language": "scilab",
		   "name": "scilab"
		  },
		  "language_info": {
		   "file_extension": ".sce",
		   "help_links": [
			{
			 "text": "MetaKernel Magics",
			 "url": "https://github.com/calysto/metakernel/blob/master/metakernel/magics/README.md"
			}
		   ],
		   "mimetype": "text/x-octave",
		   "name": "scilab",
		   "version": "0.7.1"
		  }
		 },
		 "nbformat": 4,
		 "nbformat_minor": 0
}
