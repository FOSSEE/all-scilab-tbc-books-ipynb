{
"cells": [
 {
		   "cell_type": "markdown",
	   "metadata": {},
	   "source": [
       "# Chapter 5: Three Phase Synchronous Machines"
	   ]
	},
{
		   "cell_type": "markdown",
		   "metadata": {},
		   "source": [
			"## Example 5.10: To_calculate_voltage_regulatio.sce"
		   ]
		  },
  {
"cell_type": "code",
	   "execution_count": null,
	   "metadata": {
	    "collapsed": true
	   },
	   "outputs": [],
"source": [
"//chapter 5\n",
"//example 5.10\n",
"//page 440\n",
"disp('example 5.10')\n",
"clear;\n",
"clc;\n",
"V=2000;\n",
"V_oc=500;         //open circuit voltage\n",
"I_sc=100;         //short circuit current\n",
"I_a=100;      \n",
"R_s=0.8;          //armature resistance\n",
"Z_s=V_oc/I_sc;    //synchronous impedence\n",
"printf('Z_s= %d ohm\n',Z_s);\n",
"X_s=sqrt(Z_s^2-R_s^2);\n",
"printf('X_s= %f ohm\n',X_s);\n",
"pf=1;\n",
"phi=acosd(pf);\n",
"disp('At unity power factor');\n",
"printf('\n');\n",
"E=sqrt((V*cosd(phi)+I_a*R_s)^2+(V*sind(phi)+I_a*X_s)^2);\n",
"printf('induced emf= %fV\n',E);\n",
"R=((E-V)*100)/V;\n",
"printf('regulation= %f percent\n',R);\n",
"clear pf;\n",
"pf=0.71;\n",
"phi=acosd(pf);\n",
"disp('At 0.71 lagging power factor');\n",
"printf('\n');\n",
"E=sqrt((V*cosd(phi)+I_a*R_s)^2+(V*sind(phi)+I_a*X_s)^2);\n",
"printf('induced emf= %fV\n',E);\n",
"R=((E-V)*100)/V;\n",
"printf('regulation= %fpercent\n',R);\n",
"clear pf;\n",
"pf=0.8;\n",
"phi=acosd(pf);\n",
"disp('At 0.8 leading power factor');\n",
"printf('\n');\n",
"E=sqrt((V*cosd(phi)+I_a*R_s)^2+(V*sind(phi)-I_a*X_s)^2);\n",
"printf('induced emf= %fV\n',E);\n",
"R=((E-V)*100)/V;\n",
"printf('regulation=  %fpercent\n',R);"
   ]
   }
,
{
		   "cell_type": "markdown",
		   "metadata": {},
		   "source": [
			"## Example 5.11: To_calculate_internal_voltage_drop.sce"
		   ]
		  },
  {
"cell_type": "code",
	   "execution_count": null,
	   "metadata": {
	    "collapsed": true
	   },
	   "outputs": [],
"source": [
"//chapter 5\n",
"//example 5.11\n",
"//page 441\n",
"clear;\n",
"clc;\n",
"disp('example 5.11');\n",
"printf('\n');\n",
"disp('field exitation current=10A');\n",
"V_oc=900;      //induced emf on open circuit\n",
"I_sc=150;      //short circuit current\n",
"Z_s=V_oc/I_sc; //synchronous impedence\n",
"printf('synchronous impedence,Z_s= %d ohm\n',Z_s);\n",
"I_a=60;\n",
"printf('internal voltage drop when the load current is 60amp=  %d V',(I_a*Z_s));"
   ]
   }
,
{
		   "cell_type": "markdown",
		   "metadata": {},
		   "source": [
			"## Example 5.12: To_calculate_percentage_change_in_terminal_voltage.sce"
		   ]
		  },
  {
"cell_type": "code",
	   "execution_count": null,
	   "metadata": {
	    "collapsed": true
	   },
	   "outputs": [],
"source": [
"//chapter 5\n",
"//example 5.12\n",
"//page 441\n",
"clear;\n",
"clc;\n",
"disp('example 5.12');\n",
"KVA=2000;\n",
"V=6600;     //rating\n",
"V_p=6600/sqrt(3);\n",
"I_a=(KVA*1000)/(sqrt(3)*V);\n",
"R_a=0.4;    //armature resistance\n",
"X_s=4.5     //synchronous reactance\n",
"pf=0.8;\n",
"phi=acosd(pf);\n",
"printf('\nV/phase= %dV \n',V_p)\n",
"E=sqrt((V_p*cosd(phi)+I_a*R_a)^2+(V_p*sind(phi)+I_a*X_s)^2)\n",
"printf('E=  %f V per phase\n',E);\n",
"R=((E-V_p)*100)/V_p;\n",
"printf('percentage change in terminal voltage= %f percent',R);"
   ]
   }
,
{
		   "cell_type": "markdown",
		   "metadata": {},
		   "source": [
			"## Example 5.13: To_calculate_regulation_on_full_load_power_factor_loading_and_lagging_condition.sce"
		   ]
		  },
  {
"cell_type": "code",
	   "execution_count": null,
	   "metadata": {
	    "collapsed": true
	   },
	   "outputs": [],
"source": [
"//chapter 5\n",
"//example 5.13\n",
"//page 442\n",
"clear;\n",
"clc;\n",
"disp('example 5.13');\n",
"printf('\n');\n",
"KVA=1200;       //output power\n",
"printf('output power=%d\n',KVA)\n",
"V_l=3300;       //line voltage\n",
"R_a=0.25;       //armature resistance\n",
"I_l=(KVA*1000)/(sqrt(3)*V_l);    //line current\n",
"//for star connected I_l=I_a\n",
"I_a=I_l;\n",
"V_p=V_l/sqrt(3);\n",
"printf('V per phase= %dV\n',V_p)\n",
"//field current of 40A produces short circuit current of 200A and open circuit emf 1100\n",
"v_l=1100;\n",
"i_s=200;\n",
"Z_s= v_l/(sqrt(3)*i_s);     //synchronous impedence\n",
"printf('Synchronous impedance,Zs=%f ohm\n',Z_s)\n",
"X_s=sqrt(Z_s^2-R_a^2);      //synchronous reactance\n",
"disp('(a)for 0.8 lagging power facor');\n",
"pf=0.8;\n",
"phi=acosd(pf);\n",
"E=sqrt((V_p*cosd(phi)+I_a*R_a)^2+(V_p*sind(phi)+I_a*X_s)^2)\n",
"printf('induced emf,E=%f V\n',E);\n",
"R=((E-V_p)*100)/V_p;\n",
"printf('regulation=%f percent\n\n',R);\n",
"clear pf;\n",
"pf=0.8;\n",
"phi=acosd(pf);\n",
"disp('(b)For leading power factor load')\n",
"E=sqrt((V_p*cosd(phi)+I_a*R_a)^2+(V_p*sind(phi)-I_a*X_s)^2)\n",
"printf('induced emf,E= %f V\n',E);\n",
"R=((E-V_p)*100)/V_p;\n",
"printf('regulation=%f percent',R);"
   ]
   }
,
{
		   "cell_type": "markdown",
		   "metadata": {},
		   "source": [
			"## Example 5.14: EX5_14.sce"
		   ]
		  },
  {
"cell_type": "code",
	   "execution_count": null,
	   "metadata": {
	    "collapsed": true
	   },
	   "outputs": [],
"source": [
"//chapter 5\n",
"//example 5.14\n",
"//page 443\n",
"clear;\n",
"clc;\n",
"disp('example 5.14');\n",
"disp('star connected alternator')\n",
"printf('\n');\n",
"KVA=1500;         //rating\n",
"ph=3;            //3-phase\n",
"V_l=6600;       //voltage\n",
"Ra=0.4         //armature resistance\n",
"Xs=6;         //reactance\n",
"Ia=(KVA*1000)/(sqrt(3)*V_l);\n",
"printf('Full-load current= %d A\n',Ia);\n",
"V=V_l/sqrt(3);\n",
"printf('Voltage per phase=%d V\n',V);\n",
"disp('for 0.8 lagging power facor');\n",
"pf=0.8;           //power factor\n",
"phi=acosd(pf);\n",
"E=sqrt((V*cosd(phi)+Ia*Ra)^2+(V*sind(phi)+Ia*Xs)^2)\n",
"printf('induced emf=%f V\n\n',E);\n",
"disp('then at 0.8 leading power factor');\n",
"Vt=4743; //solved manually \n",
"printf('termial Voltage, line-to-line=%d V\n',(sqrt(3)*Vt))"
   ]
   }
,
{
		   "cell_type": "markdown",
		   "metadata": {},
		   "source": [
			"## Example 5.15: to_find_the_power_factor_of_alternator_B.sce"
		   ]
		  },
  {
"cell_type": "code",
	   "execution_count": null,
	   "metadata": {
	    "collapsed": true
	   },
	   "outputs": [],
"source": [
"//chapter 5\n",
"//example 5.15\n",
"//page 450\n",
"clear;\n",
"clc;\n",
"disp('example 5.15');\n",
"L=8000;     //load\n",
"La=5000;\n",
"pf=0.8;\n",
"phi=acosd(pf);\n",
"printf('\ntan phi=  %f\n',tand(phi));\n",
"disp('FOR ALTERNATOR A');\n",
"pf_a=0.9;\n",
"phi_a=acosd(pf_a);\n",
"printf('\ntan phi_a=  %f\n',tand(phi_a));\n",
"disp('reactive load=active load*tan phi');\n",
"disp('Active load=8000kW');\n",
"printf('reactive load=  %d KVAr\n',(8000*tand(phi_a)));\n",
"disp('Active Load A=5000kW\n');\n",
"printf('Reactive load A=  %dkVAr\n',(5000*tand(phi_a)));\n",
"printf('Active load of B=  %dkW\n',L-La);\n",
"a=((8000*tand(phi))-(5000*tand(phi_a)))\n",
"printf('Reactive load of B=  %dkVAr\n',a);\n",
"B=a/(L-La);\n",
"phi_b=atand(B);\n",
"printf('phi_b=  %f\n',phi_b)\n",
"printf('Power Factor of B=  %f',cosd(phi_b));"
   ]
   }
,
{
		   "cell_type": "markdown",
		   "metadata": {},
		   "source": [
			"## Example 5.16: To_calculate_armature_curren_and_power_factor.sce"
		   ]
		  },
  {
"cell_type": "code",
	   "execution_count": null,
	   "metadata": {
	    "collapsed": true
	   },
	   "outputs": [],
"source": [
"//chapter 5\n",
"//example 5.16\n",
"//page 451\n",
"clear;\n",
"clc;\n",
"disp('example 5.16')\n",
"V=6600;\n",
"ph=3;  //3-phase alternators \n",
"power=10000; //total load\n",
"disp('Two alternators in parallel connection');\n",
"pf=0.8;\n",
"Ia=438;       //armature current\n",
"Il=(power*1000)/(sqrt(3)*V*pf);   //load current\n",
"printf('load current=  %fA\n\n',Il);\n",
"phi=acosd(pf);\n",
"Ac=(Il*cosd(phi));\n",
"Rc=(Il*sind(phi));\n",
"printf('Active component of current=  %fA\n',Ac);\n",
"printf('Reactive component of current=  %fA\n',Rc);\n",
"printf('Current supplied by each alternator=%fA\n',(Il/2));\n",
"printf('Active component of current supplied by each alternator=  %fA\n',(Ac/2));\n",
"printf('Reactive component of current supplied by each alternator=  %fA\n\n',(Rc/2));\n",
"disp('Since steam supply is same,the active component remain the same ');\n",
"RIl=sqrt(Ia^2-(Ac/2)^2);\n",
"printf('Reactive component of Il= %dA\n',RIl);\n",
"RI2=(Rc-RIl);\n",
"printf('reactive component of I2=  %fA\n',RI2);\n",
"I2=sqrt((Ac/2)^2+(RI2)^2);\n",
"printf(' I2=  %fA\n',I2);\n",
"phi_2=atand(RI2/(Ac/2));\n",
"printf('phi 2=  %f degrees\n',phi_2);\n",
"printf('cos phi 2= %f',cosd(phi_2));"
   ]
   }
,
{
		   "cell_type": "markdown",
		   "metadata": {},
		   "source": [
			"## Example 5.17: To_determine_KVA_rating_and_power_facor.sce"
		   ]
		  },
  {
"cell_type": "code",
	   "execution_count": null,
	   "metadata": {
	    "collapsed": true
	   },
	   "outputs": [],
"source": [
"//chapter 5\n",
"//example 5.17\n",
"//page 455\n",
"clear;\n",
"clc;\n",
"disp('example 5.17');\n",
"disp('power factor of existing load is 0.8 lagging');\n",
"pf=0.8; //power factor\n",
"phi=acosd(pf);\n",
"printf('phi= %d degree\n',phi);\n",
"L=800;   //load\n",
"kVAr1=(L*tand(phi));\n",
"printf('kVAr1= %d \n',kVAr1);\n",
"disp('output for the synchronous motor is 200kW');\n",
"output=200;\n",
"efficiency=0.9;\n",
"kW=(output/efficiency);\n",
"printf('Input to the synchronous motor= %fkW\n',kW);\n",
"TL=(L+kW); // total load\n",
"printf('Total load on the system= %fkW\n',TL);\n",
"disp('overall power factor of the load is to be raised to 0.92 lagging');\n",
"pf=0.92;\n",
"phi=acosd(pf);\n",
"kVAr2=(TL*tand(phi))\n",
"printf('kVAr2=%f\n',kVAr2);\n",
"kVAr=kVAr1-kVAr2;\n",
"printf('lagging kVAr of synchronous codenser= %f\n',kVAr);\n",
"printf('leading kVAr supplied by the motor= %f\n',kVAr);\n",
"phi=atand(kVAr/kW);\n",
"printf('phi= %d degree\n\n',phi);\n",
"printf('Power factor of the synchronos motor= %f leading \n',cosd(phi));\n",
"printf('KVA rating of the synchronous motor= %f',(kW/cosd(phi)));\n",
""
   ]
   }
,
{
		   "cell_type": "markdown",
		   "metadata": {},
		   "source": [
			"## Example 5.1: To_calculate_distribution_factor.sce"
		   ]
		  },
  {
"cell_type": "code",
	   "execution_count": null,
	   "metadata": {
	    "collapsed": true
	   },
	   "outputs": [],
"source": [
"//caption- for calculating distribution factor\n",
"//Chapter 5\n",
"//example 5.1\n",
"//page 424\n",
"clear;\n",
"clc;\n",
"disp('example 5.1'); \n",
"printf('\n');\n",
"slots=18;\n",
"p=2;             //nmber of poles\n",
"ph=3;            //three phase winding\n",
"SA=(360/slots);  //slot angle\n",
"m=slots/(p*ph);  //m=nmber of slots per pole per phase\n",
"printf('number of slots per pole per phase,m=%d\n',m);\n",
"printf('emfs of the oils of each phase will have a time-phase difference of  %d degree mechanical \n',SA);\n",
"k_d=sind((m*SA)/2)/(m*sind(SA/2));\n",
"printf('distribution factor=%f',k_d);"
   ]
   }
,
{
		   "cell_type": "markdown",
		   "metadata": {},
		   "source": [
			"## Example 5.2: To_calculate_distribution_factor.sce"
		   ]
		  },
  {
"cell_type": "code",
	   "execution_count": null,
	   "metadata": {
	    "collapsed": true
	   },
	   "outputs": [],
"source": [
"//chapter 5\n",
"//example 5.2\n",
"//page 425\n",
"clear; \n",
"clc;\n",
"disp('example 5.2')\n",
"printf('\n');\n",
"slots=36;    //number of slots\n",
"poles=4;     //number of poles\n",
"ph=3;        //single layer three phase winding\n",
"SP=slots/ph; //number of slots per phase\n",
"printf('number of slots per phase= %d\n',SP);\n",
"m=SP/poles;  //munber of slots per pole per phase\n",
"printf('number of slots per pole per phase,m=%d\n',m)\n",
"SA_m=360/slots;        //slot angle mechanical\n",
"SA_e=(poles/2)*SA_m    //slot angle electrical \n",
"printf('slot angle= %d degree electrical\n',SA_e)\n",
"k_d=sind((m*SA_e)/2)/(m*sind(SA_e/2));\n",
"printf('distribution factor= %f',k_d)"
   ]
   }
,
{
		   "cell_type": "markdown",
		   "metadata": {},
		   "source": [
			"## Example 5.3: To_calculate_pitch_factor.sce"
		   ]
		  },
  {
"cell_type": "code",
	   "execution_count": null,
	   "metadata": {
	    "collapsed": true
	   },
	   "outputs": [],
"source": [
"//chapter 5\n",
"//example 5.3\n",
"//page 426\n",
"clear;\n",
"clc;\n",
"disp('example 5.3');\n",
"printf('\n');\n",
"slots=48;      //number of slots\n",
"poles=4;       //4-pole machine\n",
"ph=3;          //3-phase machine\n",
"SA=360/slots;  //slot angle\n",
"printf('total number of slots= %d\n',slots);\n",
"printf('slot angle= %f degree mechanical\n',SA);\n",
"//coil span is 11 slot pitches\n",
"//12 slots subtend 180degress, short pitched by 1 slot \n",
"Bta=1*180/12;\n",
"k_p=cosd(Bta/2);\n",
"printf('pitch factor=%f',k_p)"
   ]
   }
,
{
		   "cell_type": "markdown",
		   "metadata": {},
		   "source": [
			"## Example 5.4: To_calculate_the_rms_value_of_induced_EMF.sce"
		   ]
		  },
  {
"cell_type": "code",
	   "execution_count": null,
	   "metadata": {
	    "collapsed": true
	   },
	   "outputs": [],
"source": [
"//chapter 5\n",
"//example 5.4\n",
"//page 426\n",
"clear;\n",
"clc;\n",
"disp('example 5.4');\n",
"printf('\n');\n",
"slots=72;    //number of slots\n",
"P=8;         //number of poles\n",
"ph=3;        //3-phase machine\n",
"N=750;       //speed of machine in rpm\n",
"//winding is made with 36 coils having 10 turns\n",
"Fp=0.15;     //flux per pole\n",
"fre=(P*N)/120;\n",
"NCp=36/ph;   //nmber of coils per phase\n",
"T=NCp*10;    //number of turns per phase\n",
"k_p=1;       //since full pitched pitch factor is 1\n",
"printf('flux per pole=%fWb\n',Fp)\n",
"printf('number of turns per phase=%d\n',T);\n",
"printf('pitch factor=%f\n',k_p);\n",
"m=slots/(P*ph); //slots per pole per phase\n",
"SA_m=360/slots; //slot angle mechanical\n",
"SA_e=(P/2)*SA_m;\n",
"k_d=sind((m*SA_e)/2)/(m*sind(SA_e/2));\n",
"printf('distribution factor=%f\n',k_d);\n",
"E=4.44*Fp*fre*T*k_d*k_p;\n",
"printf('RMS vale of emf induced per phase=%fV\n',E)"
   ]
   }
,
{
		   "cell_type": "markdown",
		   "metadata": {},
		   "source": [
			"## Example 5.5: Calculating_useful_flux_per_pole.sce"
		   ]
		  },
  {
"cell_type": "code",
	   "execution_count": null,
	   "metadata": {
	    "collapsed": true
	   },
	   "outputs": [],
"source": [
"//chapter 5\n",
"//example 5.5\n",
"//page 427\n",
"clear;\n",
"clc;\n",
"disp('example 5.5');\n",
"disp('E(line to line)=  440V');\n",
"E_l=440;    //line-to-line voltage\n",
"E_p=E_l/(sqrt(3));\n",
"N=750;      //speed in rpm\n",
"fre=50;     //frequency\n",
"P=(120*fre)/N;\n",
"printf('P=  %d\n',P);\n",
"printf('E(per phase)=  %dV\n',E_p);\n",
"ph=3;       //3-phase machine\n",
"m=2;        //number of slots per pole per phase\n",
"slots=m*P*ph;       //total number of stator slots\n",
"SA_m=360/slots;     //slot angle mechanical\n",
"SA_e=(P/2)*SA_m;    //slot angle electrical\n",
"k_p=1;              //assuming full pitch\n",
"printf('slot angle=  %d degree electrical\n',SA_e);\n",
"printf('pitch factor=%f\n',k_p);\n",
"k_d=sind((m*SA_e)/2)/(m*sind(SA_e/2));\n",
"printf('distribution factor=  %f\n\n',k_d);\n",
"//2 slots per pole per phase\n",
"NSp=2*P;            //number of slots per phase\n",
"NTc=4;              //number of turns per coil\n",
"T=8*NTc;            //number of turns per phase\n",
"Fp=E_p/(4.44*fre*T*k_d*k_p);\n",
"printf('flux per pole=  %fWb\n',Fp);"
   ]
   }
,
{
		   "cell_type": "markdown",
		   "metadata": {},
		   "source": [
			"## Example 5.6: To_calculate_the_frequency_and_induced_EMF.sce"
		   ]
		  },
  {
"cell_type": "code",
	   "execution_count": null,
	   "metadata": {
	    "collapsed": true
	   },
	   "outputs": [],
"source": [
"//chapter 5\n",
"//example 5.6\n",
"//page 428\n",
"clear;\n",
"clc; \n",
"disp('example 5.6');\n",
"printf('\n');\n",
"slots=144;   //number of slots\n",
"ph=3;        //3-phase machine\n",
"P=16;        //number of poles\n",
"Cp=10;       //number of conducters per slot\n",
"Fp=0.03;     //flux per pole\n",
"Ns=375;      //synchronous speed\n",
"fre=(Ns*P)/120;     //frequency\n",
"printf('frequency=%d\n\n',fre);\n",
"m=slots/(P*ph);     //number of slots per pole per phase\n",
"printf('number of slots per pole per phase,m=  %d\n',m);\n",
"SA_m=360/slots;     //slot angle mechanical\n",
"SA_e=(P/2)*SA_m;    //slot angle electrical\n",
"k_p=1               //no short pitching\n",
"printf('short pitch=  %d\n',k_p);\n",
"k_d=sind((m*SA_e)/2)/(m*sind(SA_e/2));\n",
"printf('distribution factor=  %f\n',k_d);\n",
"T=(slots*10)/(2*ph);\n",
"printf('number of turns per phase,T=  %d\n',T);\n",
"E=4.44*Fp*fre*T*k_d*k_p;\n",
"printf('RMS value of induced emf per phase,E=  %fV\n',E);\n",
"printf('induced emf across the linesis %fV \n',(sqrt(3)*E));"
   ]
   }
,
{
		   "cell_type": "markdown",
		   "metadata": {},
		   "source": [
			"## Example 5.7: Finding_the_number_of_armature_conductors.sce"
		   ]
		  },
  {
"cell_type": "code",
	   "execution_count": null,
	   "metadata": {
	    "collapsed": true
	   },
	   "outputs": [],
"source": [
"//chapter 5\n",
"//example 5.7\n",
"//page 428\n",
"clear;\n",
"clc;\n",
"disp('example 5.7');\n",
"printf('\n');\n",
"slots=90;   //number of slots\n",
"P=10;       //number of poles\n",
"ph=3;       //3-phase machine\n",
"fre=50;     //frequency\n",
"Fp=0.16;    //flux per pole\n",
"E_l=11000;  //line voltage\n",
"SA_m=360/slots;  //machanical slot angle\n",
"SA_e=(P/2)*SA_m; //electrical slot angle\n",
"m=slots/(ph*P);\n",
"printf('slot angle=%d degree elecrical\n',SA_e)\n",
"printf('number of slots per pole per phase,m=%d\n',m);\n",
"k_p=1;           //assuming full pitch\n",
"printf('pitch factor=%d\n',k_p);\n",
"k_d=sind((m*SA_e)/2)/(m*sind(SA_e/2));\n",
"printf('distribution factor=%f\n\n',k_d);\n",
"E_p=E_l/sqrt(3);\n",
"T=E_p/(4.44*Fp*fre*k_p*k_d); \n",
"printf('total number of armature conductors,Z= %d',(2*T));"
   ]
   }
,
{
		   "cell_type": "markdown",
		   "metadata": {},
		   "source": [
			"## Example 5.8: To_calculate_induced_EMF_per_phase.sce"
		   ]
		  },
  {
"cell_type": "code",
	   "execution_count": null,
	   "metadata": {
	    "collapsed": true
	   },
	   "outputs": [],
"source": [
"//chapter 5\n",
"//example 5.8\n",
"//page 429\n",
"clear;\n",
"clc;\n",
"disp('example 5.8');\n",
"disp('P=6   , f=50');\n",
"P=6;\n",
"f=50;\n",
"Sp=12;         //slots per pole\n",
"Cs=4;         //conductors per slot\n",
"Fp=1.5; \n",
"TS=Sp*P \n",
"printf('total number of slots=%d\n',TS);\n",
"printf('total number of slots per phase= %d\n', (TS/3));\n",
"printf('total number of conductors per phase= %d\n', ((TS*Cs)/3));\n",
"T=((TS*Cs)/3)/2;\n",
"printf('total number of turns per phase=%d\n',T)\n",
"m=(TS/(P*3));\n",
"printf('number of slots per pole per phase,m= %d\n',m);\n",
"SA_m=360/TS;             //slot angle mechanical\n",
"SA_e=(P/2)*SA_m;\n",
"k_d=sind((m*SA_e)/2)/(m*sind(SA_e/2));\n",
"printf('distribution factor=%f\n\n',k_d);\n",
"disp('coil pitch is 5/6 of full-pitch');\n",
"printf('\n');\n",
"bheta=180-(5/6)*180;     //short pitch angle\n",
"printf('short pitch angle= %d degrees\n',bheta)\n",
"k_p=cosd(bheta/2);\n",
"printf('pitch factor= %f \n',k_p);\n",
"E=4.44*Fp*f*T*k_d*k_p;\n",
"printf('induced per phase=  %fV\n',E)"
   ]
   }
,
{
		   "cell_type": "markdown",
		   "metadata": {},
		   "source": [
			"## Example 5.9: To_find_the_voltage_regulation.sce"
		   ]
		  },
  {
"cell_type": "code",
	   "execution_count": null,
	   "metadata": {
	    "collapsed": true
	   },
	   "outputs": [],
"source": [
"//chapter 5\n",
"//example 5.9\n",
"//page 439\n",
"clear;\n",
"clc;\n",
"disp('example 5.9');\n",
"printf('\n');\n",
"OP=500000;     //output power\n",
"V_l=3300;      //line voltage\n",
"I_l=OP/(sqrt(3)*V_l);      //line current\n",
"printf('line current=  %fA\n',I_l);\n",
"//for star connected alternater, line current is equal to phase current\n",
"I_a=I_l;\n",
"pf=0.8;        //power factor\n",
"phi=acosd(pf);\n",
"R_a=0.3;       //synchronous resistance\n",
"X_s=4;         //synchronous reactance\n",
"V_p=V_l/sqrt(3);\n",
"printf('phase voltage=  %fV\n',V_p)\n",
"E=sqrt((V_p*cosd(phi)+I_a*R_a)^2+(V_p*sind(phi)+I_a*X_s)^2);\n",
"printf('induced emf=  %f V/Phase\n',E  )\n",
"PR=((E-V_p)*100)/V_p;\n",
"printf('percentage regulation=  %f percent\n',PR);"
   ]
   }
],
"metadata": {
		  "kernelspec": {
		   "display_name": "Scilab",
		   "language": "scilab",
		   "name": "scilab"
		  },
		  "language_info": {
		   "file_extension": ".sce",
		   "help_links": [
			{
			 "text": "MetaKernel Magics",
			 "url": "https://github.com/calysto/metakernel/blob/master/metakernel/magics/README.md"
			}
		   ],
		   "mimetype": "text/x-octave",
		   "name": "scilab",
		   "version": "0.7.1"
		  }
		 },
		 "nbformat": 4,
		 "nbformat_minor": 0
}
