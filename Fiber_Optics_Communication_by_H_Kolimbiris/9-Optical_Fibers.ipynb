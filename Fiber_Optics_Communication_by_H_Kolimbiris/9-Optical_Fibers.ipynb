{
"cells": [
 {
		   "cell_type": "markdown",
	   "metadata": {},
	   "source": [
       "# Chapter 9: Optical Fibers"
	   ]
	},
{
		   "cell_type": "markdown",
		   "metadata": {},
		   "source": [
			"## Example 9.10: Raman_scattering_threshold_power.sce"
		   ]
		  },
  {
"cell_type": "code",
	   "execution_count": null,
	   "metadata": {
	    "collapsed": true
	   },
	   "outputs": [],
"source": [
"//Chapter 9\n",
"//page no 305\n",
"//given\n",
"clc;\n",
"clear all;\n",
"L=850;          //in nm\n",
"L1=L/1000;           //converted L in micrometer for using in given formula\n",
"A=0.4;          //in dB/km\n",
"d=5;        //in micrometer\n",
"Po=5.9*10^-2*A*L1*d^2;\n",
"printf(' \n Po(Th) =  %0.0f mW',Po*1000);       //rounding off error"
   ]
   }
,
{
		   "cell_type": "markdown",
		   "metadata": {},
		   "source": [
			"## Example 9.11: Raman_scattering_threshold_power.sce"
		   ]
		  },
  {
"cell_type": "code",
	   "execution_count": null,
	   "metadata": {
	    "collapsed": true
	   },
	   "outputs": [],
"source": [
"//Chapter 9\n",
"//page no 305\n",
"//given\n",
"clc;\n",
"clear all;\n",
"L=1330;          //in nm\n",
"L1=L/1000;           //converted L in micrometer for using in given formula\n",
"A=0.4;          //in dB/km\n",
"d=5;        //in micrometer\n",
"Po=5.9*10^-2*A*L1*d^2;\n",
"printf(' \n Po(Th) =  %0.0f mW',Po*1000);       //unit in book is wrong"
   ]
   }
,
{
		   "cell_type": "markdown",
		   "metadata": {},
		   "source": [
			"## Example 9.12: Raman_sscattering_threshold_power.sce"
		   ]
		  },
  {
"cell_type": "code",
	   "execution_count": null,
	   "metadata": {
	    "collapsed": true
	   },
	   "outputs": [],
"source": [
"\n",
"\n",
"\n",
"\n",
"\n",
"//Chapter 9\n",
"//page no 305\n",
"//given\n",
"clc;\n",
"clear all;\n",
"L=1550;          //in nm\n",
"L1=L/1000;           //converted L in micrometer for using in given formula\n",
"A=0.4;          //in dB/km\n",
"d=5;        //in micrometer\n",
"Po=5.9*10^-2*A*L1*d^2;\n",
"printf(' \n Po(Th) =  %0.0f mW',Po*1000);       //unit in book is wrong"
   ]
   }
,
{
		   "cell_type": "markdown",
		   "metadata": {},
		   "source": [
			"## Example 9.13: Maximum_modal_number.sce"
		   ]
		  },
  {
"cell_type": "code",
	   "execution_count": null,
	   "metadata": {
	    "collapsed": true
	   },
	   "outputs": [],
"source": [
"//Chapter 9\n",
"//page no 310\n",
"//given\n",
"clc;\n",
"clear all;\n",
"R=25;           //in nm\n",
"R1=25*10^-6;            //in m\n",
"L=1000;                 //in nm\n",
"L1=10^-6;           //in m\n",
"NA=0.2;     \n",
"V=2*%pi/L1*R1*NA;\n",
"printf(' \n Normalised frequency(V) =  %0.1f ',V);\n",
"y=2;                //for parabolic\n",
"Mmax=y/(y+2)*(V^2)/2;\n",
"printf(' \n Maximum number of modes is equal to =  %0.0f ',Mmax);//answer in book is wrong\n",
""
   ]
   }
,
{
		   "cell_type": "markdown",
		   "metadata": {},
		   "source": [
			"## Example 9.14: Maximum_operating_bandwidth.sce"
		   ]
		  },
  {
"cell_type": "code",
	   "execution_count": null,
	   "metadata": {
	    "collapsed": true
	   },
	   "outputs": [],
"source": [
"//Chapter 9\n",
"//page no 313\n",
"//given\n",
"clc;\n",
"clear all;\n",
"Tp=0.25;           //in microsec\n",
"fB=0.529/Tp/10^-6;      //channel bitrate\n",
"fBw=fB;             //channel bandwidth = channel bitrate when zero ISI and RZ input data is modulated\n",
"printf(' \n Maximum operating bandwidth =  %0.3f MHz',fBw*10^-6);\n",
"L=50;           //in km\n",
"D=Tp*10^-6/L;   //Dispersion\n",
"printf(' \n Dispersion =  %0.0f ns/km',D*10^9);\n",
"fBwL=fBw*10^-6*L;            //bandwidth length product\n",
"printf(' \n Bandwidth length product(fBw*L) =  %0.1f MHz/km',fBwL);"
   ]
   }
,
{
		   "cell_type": "markdown",
		   "metadata": {},
		   "source": [
			"## Example 9.15: Maximum_operating_bandwidth.sce"
		   ]
		  },
  {
"cell_type": "code",
	   "execution_count": null,
	   "metadata": {
	    "collapsed": true
	   },
	   "outputs": [],
"source": [
"//Chapter 9\n",
"//page no 314\n",
"//given\n",
"clc;\n",
"clear all;\n",
"Tp=2;           //in microsec\n",
"fB=0.529/Tp/10^-6;  //channel bit rate\n",
"fBw=fB;             //channel bandwidth = channel bitrate when zero ISI and RZ input data is modulated\n",
"printf(' \n Maximum operating bandwidth =  %0.2f MHz',fBw*10^-6);\n",
"L=50;           //in km\n",
"D=Tp*10^-6/L;   //Dispersion\n",
"printf(' \n Dispersion =  %0.0f ns/km',D*10^9);     //unit in book is wrong\n",
"fBwL=fBw*10^-6*L;         //bandwidth length product\n",
"printf(' \n Bandwidth length product(fBw*L) =  %0.0f MHz/km',fBwL);"
   ]
   }
,
{
		   "cell_type": "markdown",
		   "metadata": {},
		   "source": [
			"## Example 9.16: Maximum_operating_bandwidth.sce"
		   ]
		  },
  {
"cell_type": "code",
	   "execution_count": null,
	   "metadata": {
	    "collapsed": true
	   },
	   "outputs": [],
"source": [
"//Chapter 9\n",
"//page no 314\n",
"//given\n",
"clc;\n",
"clear all;\n",
"Tp=5;           //in microsec\n",
"fB=0.529/Tp/10^-6;   //channel bit rate\n",
"fBw=fB;             //channel bandwidth = channel bitrate when zero ISI and RZ input data is modulated\n",
"printf(' \n Maximum operating bandwidth =  %0.3f MHz',fB*10^-6);\n",
"L=50;           //in km\n",
"D=Tp*10^-6/L;   //Dispersion\n",
"printf(' \n Dispersion =  %0.1f micro sec/km',D*10^6);\n",
"fBwL=fBw*10^-6*L;        //bandwidth length product\n",
"printf(' \n Bandwidth length product(fBw*L) =  %0.1f MHz/km',fBwL);"
   ]
   }
,
{
		   "cell_type": "markdown",
		   "metadata": {},
		   "source": [
			"## Example 9.17: RMS_pulse_chirping.sce"
		   ]
		  },
  {
"cell_type": "code",
	   "execution_count": null,
	   "metadata": {
	    "collapsed": true
	   },
	   "outputs": [],
"source": [
"//Chapter 9\n",
"//page no 315\n",
"//given\n",
"clc;\n",
"clear all;\n",
"Slw=25;         //in nm\n",
"L=850;          //in nm         given\n",
"c=3*10^5;        //in km/s\n",
"ofmd=0.02;          //optical fiber material dispersion\n",
"Mdp=1/L/c*ofmd;         //answer mismatch due to differnt value chosen for calculation\n",
"printf(' \n Material Dispersion parameter Mdp =  %0.0f ps/nm.km',Mdp*10^12);\n",
"l=1;            //in km\n",
"dmd=Slw*l*Mdp;      //pulse chirping\n",
"printf(' \n pulse chirping dmd =  %0.2f ns/km',dmd*10^9);\n",
"\n",
""
   ]
   }
,
{
		   "cell_type": "markdown",
		   "metadata": {},
		   "source": [
			"## Example 9.18: RMS_pulse_broadening.sce"
		   ]
		  },
  {
"cell_type": "code",
	   "execution_count": null,
	   "metadata": {
	    "collapsed": true
	   },
	   "outputs": [],
"source": [
"//Chapter 9\n",
"//page no 315\n",
"//given\n",
"clc;\n",
"clear all;\n",
"Slw=2;         //in nm\n",
"L=850;          //in nm         given\n",
"c=3*10^5;        //in km/s\n",
"ofmd=0.02;          //optical fiber material dispersion\n",
"Mdp=1/L/c*ofmd;   //answer mismatch due to differnt value chosen for calculation\n",
"printf(' \n Material Dispersion parameter Mdp =  %0.0f ps/nm.km',Mdp*10^12);\n",
"l=1;            //in km\n",
"dmd=Slw*l*Mdp;\n",
"printf(' \n pulse chirping dmd =  %0.3f ns/km',dmd*10^9);\n",
""
   ]
   }
,
{
		   "cell_type": "markdown",
		   "metadata": {},
		   "source": [
			"## Example 9.19: Channel_capacity.sce"
		   ]
		  },
  {
"cell_type": "code",
	   "execution_count": null,
	   "metadata": {
	    "collapsed": true
	   },
	   "outputs": [],
"source": [
"//Chapter 9\n",
"//page no 325\n",
"//given\n",
"clc;\n",
"clear all;\n",
"fb1=2.5;            //in Gb/s\n",
"D1=20;          //in ps/nm.km\n",
"D2=5;          //in ps/nm.km\n",
"fb2=D1/D2*fb1;      \n",
"printf('\n fb2 = %0.0f Gb/s(OC-192)',fb2)\n",
"//Values of D1 and D2 are conflicted in question ,however solution is correct "
   ]
   }
,
{
		   "cell_type": "markdown",
		   "metadata": {},
		   "source": [
			"## Example 9.1: Compute_angle_of_acceptance_critical_angle_and_NA.sce"
		   ]
		  },
  {
"cell_type": "code",
	   "execution_count": null,
	   "metadata": {
	    "collapsed": true
	   },
	   "outputs": [],
"source": [
"//Chapter 9\n",
"//page no 296\n",
"//given\n",
"clc;\n",
"clear all;\n",
"n2=1.35;            //refractive index\n",
"n1=1.4;            //refractive index\n",
"Wo=asind(n2/n1);             //in radians\n",
"printf('\n Critical Angle,Wo = %0.2f degree\n',Wo);\n",
"NA=sqrt(n1^2-n2^2);\n",
"printf('\n Numerical Aperture,NA = %0.2f \n',NA);\n",
"Wa=asind(NA);                //in radians\n",
"printf('\n Angle of acceptance,Wa = %0.2f degree\n',Wa);"
   ]
   }
,
{
		   "cell_type": "markdown",
		   "metadata": {},
		   "source": [
			"## Example 9.20: Channel_capacity.sce"
		   ]
		  },
  {
"cell_type": "code",
	   "execution_count": null,
	   "metadata": {
	    "collapsed": true
	   },
	   "outputs": [],
"source": [
"//Chapter 9\n",
"//page no 325\n",
"//given\n",
"clc;\n",
"clear all;\n",
"fb1=2.5;            //in Gb/s\n",
"DV1=100;          //in GHz\n",
"DV2=50;          //in GHz\n",
"fb2=DV1/DV2*fb1;\n",
"printf('\n fb2 = %0.0f Gb/s',fb2)"
   ]
   }
,
{
		   "cell_type": "markdown",
		   "metadata": {},
		   "source": [
			"## Example 9.21: Total_chromatic_dispersio.sce"
		   ]
		  },
  {
"cell_type": "code",
	   "execution_count": null,
	   "metadata": {
	    "collapsed": true
	   },
	   "outputs": [],
"source": [
"//Chapter 9\n",
"//page no 332\n",
"//given\n",
"clc;\n",
"clear all;\n",
"L=400;          //in km\n",
"dAV=4;          //in ps/km\n",
"dTL=L*dAV;      //total chromatic dispersion\n",
"printf('dTL =%0.0f ps/nm.km',dTL);\n",
"printf('\n or,dTL =%0.1f ns/nm.km',dTL/10^3);"
   ]
   }
,
{
		   "cell_type": "markdown",
		   "metadata": {},
		   "source": [
			"## Example 9.22: Compute_optical_attenuation.sce"
		   ]
		  },
  {
"cell_type": "code",
	   "execution_count": null,
	   "metadata": {
	    "collapsed": true
	   },
	   "outputs": [],
"source": [
"//Chapter 9\n",
"//page no 335\n",
"//given\n",
"clc;\n",
"clear all;\n",
"no=1;            //refractive index\n",
"n1=1.35;            //refractive index\n",
"Po=[(n1-no)/(n1+no)]^2;     //fresnal reflection\n",
"printf('\n Po(refl)= %0.3f',Po);\n",
"Lrefl=-10*log10(1-Po);      //attenuation loss\n",
"printf('\n L(refl)= %0.1f dB',Lrefl);"
   ]
   }
,
{
		   "cell_type": "markdown",
		   "metadata": {},
		   "source": [
			"## Example 9.23: Compute_total_attenuation.sce"
		   ]
		  },
  {
"cell_type": "code",
	   "execution_count": null,
	   "metadata": {
	    "collapsed": true
	   },
	   "outputs": [],
"source": [
"//Chapter 9\n",
"//page no 335\n",
"//given\n",
"clc;\n",
"clear all;\n",
"no=1;            //refractive index\n",
"n1=1.55;            //refractive index\n",
"Po=[(n1-no)/(n1+no)]^2;    //fresnal reflection\n",
"printf('\n Fresnel reflective coefficient,Po(refl)= %0.5f\n',Po);\n",
"Lrefl=-10*log10(1-Po);     //attenuation loss\n",
"printf('\n Attenuation based on Fresnel reflective coefficient,L(refl)= %0.1f dB\n',Lrefl);\n",
"Ltot=5*Lrefl;\n",
"printf('\n Total link attenuation on Fresnel reflections,Ltotal = %0.1f dB',Ltot);"
   ]
   }
,
{
		   "cell_type": "markdown",
		   "metadata": {},
		   "source": [
			"## Example 9.24: Compute_the_insertion_loss.sce"
		   ]
		  },
  {
"cell_type": "code",
	   "execution_count": null,
	   "metadata": {
	    "collapsed": true
	   },
	   "outputs": [],
"source": [
"//Chapter 9\n",
"//page no 336\n",
"//given\n",
"clc;\n",
"clear all;\n",
"n1=1;\n",
"n2=1.5;\n",
"a=25;           //in micrometer\n",
"y=3;          //in micrometer\n",
"Csim=16*(n1/n2)^2/%pi/[1+(n1/n2)]^4*[2*acos(y/2/a)-(y/a)*[1-(y/2/a)^2]^0.5];  \n",
"//lateral coupling coefficient\n",
"a=2*acos(y/2/a)-(y/a)*sqrt(1-(y/2/a)^2);\n",
"b=16*(n1/n2)^2/%pi/[1+(n1/n2)]^4;\n",
"printf('\n Lateral  coupling coefficient,Csim= %0.2f\n',Csim);\n",
"Lsim=-10*log10(1-Csim);\n",
"printf('\n Insertion Loss,Lsim= %0.1f dB\n',Lsim);\n",
"//Answer wrong in book"
   ]
   }
,
{
		   "cell_type": "markdown",
		   "metadata": {},
		   "source": [
			"## Example 9.25: Compute_insertion_loss.sce"
		   ]
		  },
  {
"cell_type": "code",
	   "execution_count": null,
	   "metadata": {
	    "collapsed": true
	   },
	   "outputs": [],
"source": [
"//Chapter 9\n",
"//page no 337\n",
"//given\n",
"clc;\n",
"clear all;\n",
"Alpha=2;\n",
"a=25;           //in micrometer\n",
"y=2;            //in micrometer\n",
"Cgim=2/%pi*(y/a)*(Alpha+2)/(Alpha+1);       //lateral coupling coefficient\n",
"printf('\n Csim= %0.3f\n',Cgim);\n",
"Lgim=-10*log10(1-Cgim);     //insertion loss\n",
"printf('\n Insertion Loss,Lgim= %0.1f dB\n',Lgim);"
   ]
   }
,
{
		   "cell_type": "markdown",
		   "metadata": {},
		   "source": [
			"## Example 9.26: Compute_insertion_loss.sce"
		   ]
		  },
  {
"cell_type": "code",
	   "execution_count": null,
	   "metadata": {
	    "collapsed": true
	   },
	   "outputs": [],
"source": [
"//Chapter 9\n",
"//page no 339\n",
"//given\n",
"clc;\n",
"clear all;\n",
"n1=1.5;            //refractive index\n",
"n2=1.5;            //refractive index\n",
"W=2.5;      //in degree\n",
"NA1=0.3;\n",
"NA2=0.4;\n",
"Csim1=16*(n1/n2)^2/[1+(n1/n2)^4]*[1-n2*W/(180*NA1)];   //angular coupling coefficient\n",
"//Answer wrong in book\n",
"printf('\n Csim= %0.3f\n',Csim1);\n",
"Lsim1=-10*log10(Csim1);\n",
"printf('\n Insertion Loss,Lsim= %0.3f dB\n',Lsim1);\n",
"Csim2=16*(n1/n2)^2/[1+(n1/n2)^4]*[1-n2*W/(180*NA2)]; //angular coupling coefficient\n",
"//Answer wrong in book\n",
"printf('\n Csim= %0.3f\n',Csim2);\n",
"Lsim2=-10*log10(Csim2);\n",
"printf('\n Insertion Loss,Lsim= %0.2f dB\n',Lsim2);\n",
""
   ]
   }
,
{
		   "cell_type": "markdown",
		   "metadata": {},
		   "source": [
			"## Example 9.27: Compute_total_insertion_loss.sce"
		   ]
		  },
  {
"cell_type": "code",
	   "execution_count": null,
	   "metadata": {
	    "collapsed": true
	   },
	   "outputs": [],
"source": [
"//Chapter 9\n",
"//page no 340\n",
"//given\n",
"clc;\n",
"clear all;\n",
"a=4;            //in micrometer\n",
"V=2.4;\n",
"aw=1;           //in degree\n",
"NA1=0.2;\n",
"n1=1.45;            //refractive index\n",
"y=1;            //in micrometer\n",
"omega=a*[0.65+1.62*V^-1.5+2.88*V^-6]/sqrt(2);\n",
"printf('\n Normalised spot view (w)=  %0.2f micrometer',omega);\n",
"Lsml=2.17*(y/omega)^2;\n",
"printf('\n Insertion loss due to lateral,Lsm=  %0.2f dB',Lsml);     //answer is wrong in book \n",
"Lsmg=2.17*(aw*%pi/180*omega*n1*V/a/NA1)^2;\n",
"printf('\n Insertion loss due to angular,Lsm=  %0.2f dB',Lsmg);\n",
"\n",
"printf('\n Total Insertion loss,Lsmtotal=  %0.2f dB',Lsml+Lsmg);\n",
""
   ]
   }
,
{
		   "cell_type": "markdown",
		   "metadata": {},
		   "source": [
			"## Example 9.28: Compute_insertion_loss_at_the_joint.sce"
		   ]
		  },
  {
"cell_type": "code",
	   "execution_count": null,
	   "metadata": {
	    "collapsed": true
	   },
	   "outputs": [],
"source": [
"//Chapter 9\n",
"//page no 340\n",
"//given\n",
"clc;\n",
"clear all;\n",
"a1=4.5;            //in micrometer\n",
"a2=4;            //in micrometer\n",
"V=2.1;\n",
"aw=1;           //in degree\n",
"NA=0.2;\n",
"n1=1.45;\n",
"y=1;            //in micrometer\n",
"w1=a1*[0.65+1.62*V^-0.5+2.88*V^-6]/sqrt(2);     //insertion loss\n",
"printf('\n Wo1=  %0.1f ',w1);\n",
"w2=a2*[0.65+1.62*V^-0.5+2.88*V^-6]/sqrt(2);     //insertion loss\n",
"printf('\n Wo2=  %0.1f ',w2);\n",
"Lintr=-10*log10(4*[(w1/w2+w2/w1)^-2]);        //toatl insertion loss at joint\n",
"printf('\n Lintr=  %0.2f dB',Lintr);        //Answer wrong in book"
   ]
   }
,
{
		   "cell_type": "markdown",
		   "metadata": {},
		   "source": [
			"## Example 9.2: Fiber_Attenuation.sce"
		   ]
		  },
  {
"cell_type": "code",
	   "execution_count": null,
	   "metadata": {
	    "collapsed": true
	   },
	   "outputs": [],
"source": [
"//Chapter 9\n",
"//page no 300\n",
"//given\n",
"clc;\n",
"clear all;\n",
"Po=8;           //in mW\n",
"Pi=50;              //in mW\n",
"l=15;           //in km\n",
"TA=-10*log10(Po/Pi);\n",
"printf('\n Total fibre Attenuation,L = %0.2fdB/%0.0fkm \n',TA,l);\n",
"Alpha=TA/l;     \n",
"printf('\n Alpha is  = %0.2f dB/km\n',Alpha);"
   ]
   }
,
{
		   "cell_type": "markdown",
		   "metadata": {},
		   "source": [
			"## Example 9.3: Maximum_length_of_optical_fibre.sce"
		   ]
		  },
  {
"cell_type": "code",
	   "execution_count": null,
	   "metadata": {
	    "collapsed": true
	   },
	   "outputs": [],
"source": [
"//Chapter 9\n",
"//page no 300\n",
"//given\n",
"clc;\n",
"clear all;\n",
"Po=10;           //in mW\n",
"Pi=150;              //in mW\n",
"Alpha=0.8;          //in dB/km\n",
"TA=-10*log10(Po/Pi);\n",
"printf('\n Total fibre Attenuation,L = %0.2f dB \n',TA);\n",
"l=TA/Alpha;\n",
"printf('\n maximum length is,l = %0.2f km\n',l);\n",
"//Round off Variations appear"
   ]
   }
,
{
		   "cell_type": "markdown",
		   "metadata": {},
		   "source": [
			"## Example 9.4: Rayleigh_attenuation_of_an_optical_fibre.sce"
		   ]
		  },
  {
"cell_type": "code",
	   "execution_count": null,
	   "metadata": {
	    "collapsed": true
	   },
	   "outputs": [],
"source": [
"//Chapter 9\n",
"//page no 302\n",
"//given\n",
"clc;\n",
"clear all;\n",
"B=92*10^-12;            //in m^2/N\n",
"Tf=1550;        //in K\n",
"n=1.46;            //refractive index\n",
"p=0.29;\n",
"K=1.38*10^-23;          //in J/K\n",
"l=1;            //in km\n",
"L1=630;         //in nm\n",
"L2=1330;         //in nm\n",
"L3=1550;         //in nm\n",
"disp('Rayleight scattering coefficient');\n",
"Y1=8*%pi^3*n^8*p^2*B*K*Tf/3/(L1*10^-9)^4;\n",
"Y2=8*%pi^3*n^8*p^2*B*K*Tf/3/(L2*10^-9)^4;\n",
"Y3=8*%pi^3*n^8*p^2*B*K*Tf/3/(L3*10^-9)^4;  \n",
"mprintf(' for L1= 630nm, is %e',Y1);\n",
"mprintf('\n for L2= 1330nm, is %e',Y2);\n",
"mprintf('\n for L3= 1550nm, is %e',Y3);\n",
"//Misprinted answer\n",
"\n",
"disp('Rayleight scattering attenuation factor');\n",
"Fr1=%e^-(Y1*l*10^3);\n",
"Fr2=%e^-(Y2*l*10^3);\n",
"Fr3=%e^-(Y3*l*10^3);\n",
"printf(' \n for Y1=  0.00179 is %0.2f',Fr1);\n",
"printf(' \n for Y2=  0.00009 is %0.2f',Fr2);\n",
"printf(' \n for Y3=  0.0000182 is %0.2f\n',Fr3);\n",
"//\n",
"\n",
"disp('Rayleight scattering attenuation ');\n",
"Ar1=10*log10(Fr1^-1);\n",
"Ar2=10*log10(Fr2^-1);\n",
"Ar3=10*log10(Fr3^-1);\n",
"printf(' \n for Ar1=  0.17 is %0.2f dB/km',Ar1);\n",
"printf(' \n for Ar2=  0.91 is %0.2f dB/km',Ar2);\n",
"printf(' \n for Ar3=  0.98 is %0.3f dB/km',Ar3);\n",
"//For L3 answers in book are misprinted\n",
"//Rounding off errors in answer"
   ]
   }
,
{
		   "cell_type": "markdown",
		   "metadata": {},
		   "source": [
			"## Example 9.5: SBS_threshold_optical_power.sce"
		   ]
		  },
  {
"cell_type": "code",
	   "execution_count": null,
	   "metadata": {
	    "collapsed": true
	   },
	   "outputs": [],
"source": [
"\n",
"\n",
"\n",
"\n",
"\n",
"//Chapter 9\n",
"//page no 304\n",
"//given\n",
"clc;\n",
"clear all;\n",
"L=850;          //in nm\n",
"L1=0.850;           //converted L in micrometer for using in given formula\n",
"A=0.5;          //in dB/km\n",
"d=5;        //in micrometer\n",
"Bw=1;           //in Gz\n",
"Po=4.4*10^-3*A*Bw*L1^2*d^2;\n",
"printf(' \n Po(Th) =  %0.3f W',Po);\n",
"printf(' \n Therefore,Po(Th) =  %0.0f mW',Po*1000);\n",
"\n",
""
   ]
   }
,
{
		   "cell_type": "markdown",
		   "metadata": {},
		   "source": [
			"## Example 9.6: SBS_threshold_optical_power.sce"
		   ]
		  },
  {
"cell_type": "code",
	   "execution_count": null,
	   "metadata": {
	    "collapsed": true
	   },
	   "outputs": [],
"source": [
"\n",
"\n",
"\n",
"\n",
"\n",
"//Chapter 9\n",
"//page no 304\n",
"//given\n",
"clc;\n",
"clear all;\n",
"L=1330;          //in nm\n",
"L1=1.330;           //converted L in micrometer for using in given formula\n",
"A=0.5;          //in dB/km\n",
"d=5;        //in micrometer\n",
"Bw=1;           //in Gz\n",
"Po=4.4*10^-3*A*Bw*L1^2*d^2;\n",
"printf(' \n Po(Th) =  %0.3f W',Po);\n",
"printf(' \n Therefore,Po(Th) =  %0.0f mW',Po*1000);"
   ]
   }
,
{
		   "cell_type": "markdown",
		   "metadata": {},
		   "source": [
			"## Example 9.7: SBS_threshold_optical_power.sce"
		   ]
		  },
  {
"cell_type": "code",
	   "execution_count": null,
	   "metadata": {
	    "collapsed": true
	   },
	   "outputs": [],
"source": [
"\n",
"\n",
"\n",
"\n",
"\n",
"//Chapter 9\n",
"//page no 304\n",
"//given\n",
"clc;\n",
"clear all;\n",
"L=1550;          //in nm\n",
"L1=1.550;           //converted L in micrometer for using in given formula\n",
"A=0.5;          //in dB/km\n",
"d=5;        //in micrometer\n",
"Bw=1;           //in Gz\n",
"Po=4.4*10^-3*A*Bw*L1^2*d^2;\n",
"printf(' \n Po(Th) =  %0.3f W',Po);\n",
"printf(' \n Therefore,Po(Th) =  %0.0f mW',Po*1000);"
   ]
   }
,
{
		   "cell_type": "markdown",
		   "metadata": {},
		   "source": [
			"## Example 9.8: SBS_threshold_optical_power.sce"
		   ]
		  },
  {
"cell_type": "code",
	   "execution_count": null,
	   "metadata": {
	    "collapsed": true
	   },
	   "outputs": [],
"source": [
"\n",
"\n",
"\n",
"\n",
"\n",
"//Chapter 9\n",
"//page no 304\n",
"//given\n",
"clc;\n",
"clear all;\n",
"L=850;          //in nm\n",
"L1=0.850;           //converted L in micrometer for using in given formula\n",
"A=0.5;          //in dB/km\n",
"d=8;        //in micrometer\n",
"Bw=1;           //in Gz\n",
"Po=4.4*10^-3*A*Bw*L1^2*d^2;\n",
"printf(' \n Po(Th) =  %0.3f W',Po);\n",
"printf(' \n Therefore,Po(Th) =  %0.0f mW',Po*1000);//answer is slightly different due to rounding off"
   ]
   }
,
{
		   "cell_type": "markdown",
		   "metadata": {},
		   "source": [
			"## Example 9.9: SBS_threshold_optical_power.sce"
		   ]
		  },
  {
"cell_type": "code",
	   "execution_count": null,
	   "metadata": {
	    "collapsed": true
	   },
	   "outputs": [],
"source": [
"\n",
"\n",
"\n",
"\n",
"\n",
"//Chapter 9\n",
"//page no 304\n",
"//given\n",
"clc;\n",
"clear all;\n",
"L=850;          //in nm\n",
"L1=0.850;           //converted L in micrometer for using in given formula\n",
"A=0.5;          //in dB/km\n",
"d=10;        //in micrometer\n",
"Bw=1;           //in Gz\n",
"Po=4.4*10^-3*A*Bw*L1^2*d^2;\n",
"printf(' \n Po(Th) =  %0.3f W',Po);\n",
"printf(' \n Therefore,Po(Th) =  %0.0f mW',Po*1000);"
   ]
   }
],
"metadata": {
		  "kernelspec": {
		   "display_name": "Scilab",
		   "language": "scilab",
		   "name": "scilab"
		  },
		  "language_info": {
		   "file_extension": ".sce",
		   "help_links": [
			{
			 "text": "MetaKernel Magics",
			 "url": "https://github.com/calysto/metakernel/blob/master/metakernel/magics/README.md"
			}
		   ],
		   "mimetype": "text/x-octave",
		   "name": "scilab",
		   "version": "0.7.1"
		  }
		 },
		 "nbformat": 4,
		 "nbformat_minor": 0
}
