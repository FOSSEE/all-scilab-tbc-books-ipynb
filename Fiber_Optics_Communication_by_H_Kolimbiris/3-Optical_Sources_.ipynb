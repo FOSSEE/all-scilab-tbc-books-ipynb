{
"cells": [
 {
		   "cell_type": "markdown",
	   "metadata": {},
	   "source": [
       "# Chapter 3: Optical Sources "
	   ]
	},
{
		   "cell_type": "markdown",
		   "metadata": {},
		   "source": [
			"## Example 3.1: Determine_the_power_coupled_into_fiber.sce"
		   ]
		  },
  {
"cell_type": "code",
	   "execution_count": null,
	   "metadata": {
	    "collapsed": true
	   },
	   "outputs": [],
"source": [
"//Chapter 3\n",
"//page no 67\n",
"//given\n",
"clc;\n",
"clear all;\n",
"Pin=1;      //microW\n",
"W=15;           //in degree\n",
"NA=sin(W*%pi/180);\n",
"NAA=0.26;           //NA=0.2588190 which is rounded off\n",
"C_c=(NAA)^2;\n",
"printf('\n Coupling coefficient is  %0.4f  \n',C_c);\n",
"Pf=C_c*Pin;\n",
"printf('\n Power coupled into fiber  %0.1f  nW\n',Pf*1000);\n",
""
   ]
   }
,
{
		   "cell_type": "markdown",
		   "metadata": {},
		   "source": [
			"## Example 3.2: Power_Coupled_into_fiber.sce"
		   ]
		  },
  {
"cell_type": "code",
	   "execution_count": null,
	   "metadata": {
	    "collapsed": true
	   },
	   "outputs": [],
"source": [
"//Chapter 3\n",
"//page no 67\n",
"//given\n",
"clc;\n",
"clear all;\n",
"n=0.02;         //in percentage\n",
"W=20;           //in degree\n",
"Vf=1.5;         //in Volts\n",
"If=20;          //in mAmps\n",
"Pin=If*Vf;\n",
"printf('\n Power coupled into fiber ,Pin = %0.0f  mW\n',Pin);\n",
"Po=n*Pin;\n",
"printf('\n Output Power of the optical source is   %0.1f  mW\n',Po);\n",
"///from nc=20 degree\n",
"C_c=(sin(W*%pi/180))^2;\n",
"Pf=C_c*Po\n",
"printf('\n Optical power coupled into fibre is ,Pf = %0.0f  microW\n',Pf*1000);\n",
""
   ]
   }
,
{
		   "cell_type": "markdown",
		   "metadata": {},
		   "source": [
			"## Example 3.3: Bandwidth_of_Led_Source.sce"
		   ]
		  },
  {
"cell_type": "code",
	   "execution_count": null,
	   "metadata": {
	    "collapsed": true
	   },
	   "outputs": [],
"source": [
"//Chapter 3\n",
"//page no 68\n",
"//given\n",
"clc;\n",
"clear all;\n",
"tr=10;          //in nsec\n",
"BW=0.35/tr/10^-9;\n",
"printf('\n Maximum operating bandwidth is %0.0f  MHZ\n',BW/10^6);    //divided by 10^6 to convert answer in MHZ"
   ]
   }
,
{
		   "cell_type": "markdown",
		   "metadata": {},
		   "source": [
			"## Example 3.4: Coupling_efficiency_of_an_optical_source.sce"
		   ]
		  },
  {
"cell_type": "code",
	   "execution_count": null,
	   "metadata": {
	    "collapsed": true
	   },
	   "outputs": [],
"source": [
"//Chapter 3\n",
"//page no 70\n",
"//given\n",
"clc;\n",
"clear all;\n",
"T=1; //Air\n",
"NA=0.3;\n",
"n0=1;\n",
"//x=y;\n",
"disp('for step index :A=infinite');\n",
"//for infinite alpha\n",
"//nc=T*(NA/n0)^2*(x/y)^2*(A/(A+2))\n",
"nc=T*(NA/n0)^2*(1)^2*1;         // A/(A+2)=1 for A=infinite\n",
"printf('\n Coupling Coefficient,nc = %0.0f percent \n\n',nc*100);\n",
"\n",
"disp('for graded index :A=2');\n",
"A=2;\n",
"//n_c=(T*(NA/n0)^2*[A+[1-(y/x)^2]]/(A+2))\n",
"n_c=(T*(NA/n0)^2*[A+[1-(1)^2]]/(A+2))       //x/y=1\n",
"printf('\n Coupling Coefficient,nc = %0.1f percent \n',n_c*100);"
   ]
   }
,
{
		   "cell_type": "markdown",
		   "metadata": {},
		   "source": [
			"## Example 3.5: Coupling_efficiency.sce"
		   ]
		  },
  {
"cell_type": "code",
	   "execution_count": null,
	   "metadata": {
	    "collapsed": true
	   },
	   "outputs": [],
"source": [
"//Chapter 3\n",
"//page no 71\n",
"//given\n",
"clc;\n",
"clear all;\n",
"T=1; //Air\n",
"NA=0.3;\n",
"n0=1;\n",
"A=2;\n",
"//y=0.75x;\n",
"disp('for step index :');\n",
"//for infinite alpha\n",
"//nc=T*(NA/n0)^2*(x/y)^2*(A/(A+2))\n",
"nc=T*(NA/n0)^2*(1/0.75)^2*A/(A+2);          //    y/x=0.75\n",
"printf('\n Coupling Coefficient,nc = %0.0f percent \n\n',nc*100);\n",
"\n",
"disp('for graded index :A=2');\n",
"A=2;\n",
"//n_c=(T*(NA/n0)^2*[A+[1-(y/x)^2]]/(A+2))\n",
"n_c=(T*(NA/n0)^2*[A+[1-(0.75)^2]]/(A+2))       //y/x=0.75\n",
"printf('\n Coupling Coefficient,nc = %0.1f percent \n',n_c*100);"
   ]
   }
,
{
		   "cell_type": "markdown",
		   "metadata": {},
		   "source": [
			"## Example 3.6: MTBF_of_LED_source.sce"
		   ]
		  },
  {
"cell_type": "code",
	   "execution_count": null,
	   "metadata": {
	    "collapsed": true
	   },
	   "outputs": [],
"source": [
"//Chapter 3\n",
"//page no 72\n",
"//given\n",
"clc;\n",
"clear all;\n",
"//calculate Tf\n",
"If=85;          //in mAmps\n",
"Vf=2.5;         //in Volts\n",
"Ta=25;           //in deg C\n",
"//calculate Tj\n",
"W=150;          //in C/W for hermetric led\n",
"Pd=If*Vf;\n",
"Tj=Ta+W*Pd/1000;\n",
"printf('\n Value of Tj is %0.1f deg C\n',Tj);\n",
"TF=8.01*10^12 *%e^-(8111/(Tj+273));\n",
"printf('\n Value of TF is %0.0f deg C\n',TF);\n",
"//calculate RF\n",
"BF=6.5*10^-4;               //from table\n",
"QF=0.5;                     //from table\n",
"EF=1;                       //from table\n",
"RF=BF*TF*EF*QF*1/10^6;\n",
"disp(RF,'Value of RF')\n",
"printf('\n Value of MTBF is %0.0f*10^6 hours \n',1/RF/10^6);//Answer in book is misprint in last line\n",
"\n",
""
   ]
   }
,
{
		   "cell_type": "markdown",
		   "metadata": {},
		   "source": [
			"## Example 3.7: Calculate_MTBF.sce"
		   ]
		  },
  {
"cell_type": "code",
	   "execution_count": null,
	   "metadata": {
	    "collapsed": true
	   },
	   "outputs": [],
"source": [
"//Chapter 3\n",
"//page no 74\n",
"//given\n",
"clc;\n",
"clear all;\n",
"//calculate Tf\n",
"If=120;          //in mAmps\n",
"Vf=1.8;         //in Volts\n",
"Ta=80;           //in deg C\n",
"//calculate Tj\n",
"W=150;          //in C/W for hermetric led\n",
"Pd=0.5*If*Vf;\n",
"Tj=75+W*Pd/1000;\n",
"printf('\n Value of Tj is %0.1f degree cel \n',Tj);\n",
"TF=8.01*10^12 *%e^-(8111/(Tj+273));\n",
"printf('\n Value of TF is %0.0f \n',TF);\n",
"//calculate RF\n",
"BF=6.5*10^-4;               //from table\n",
"QF=0.2;                     //from table\n",
"EF=0.75;                       //from table\n",
"RF=BF*TF*EF*QF*1/10^6;\n",
"printf('\n Value of RF is %0.3f*10^6 \n',RF*10^6);\n",
"printf('\n Value of MTBF is %0.0f*10^6 hours \n',1/RF/10^6);"
   ]
   }
],
"metadata": {
		  "kernelspec": {
		   "display_name": "Scilab",
		   "language": "scilab",
		   "name": "scilab"
		  },
		  "language_info": {
		   "file_extension": ".sce",
		   "help_links": [
			{
			 "text": "MetaKernel Magics",
			 "url": "https://github.com/calysto/metakernel/blob/master/metakernel/magics/README.md"
			}
		   ],
		   "mimetype": "text/x-octave",
		   "name": "scilab",
		   "version": "0.7.1"
		  }
		 },
		 "nbformat": 4,
		 "nbformat_minor": 0
}
