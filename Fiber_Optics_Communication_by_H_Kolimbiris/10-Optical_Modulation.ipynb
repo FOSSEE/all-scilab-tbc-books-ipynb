{
"cells": [
 {
		   "cell_type": "markdown",
	   "metadata": {},
	   "source": [
       "# Chapter 10: Optical Modulation"
	   ]
	},
{
		   "cell_type": "markdown",
		   "metadata": {},
		   "source": [
			"## Example 10.1: Required_Biasing_voltage.sce"
		   ]
		  },
  {
"cell_type": "code",
	   "execution_count": null,
	   "metadata": {
	    "collapsed": true
	   },
	   "outputs": [],
"source": [
"//Chapter 10\n",
"//page no 354\n",
"//given\n",
"clc;\n",
"clear all;\n",
"Vpi=1;         //Assumed 1 because we can not use a variable on RHS \n",
"//Vpi is Violtage swing\n",
"A=0.25;         //chirping\n",
"//V1=(AV1p+Vp)/2\n",
"V1=(A*Vpi+Vpi)/2;\n",
"printf('\n V1= %0.3f Vpi',V1) \n",
"V2=V1-Vpi;\n",
"printf('\n V2= %0.3f Vpi',V2) "
   ]
   }
,
{
		   "cell_type": "markdown",
		   "metadata": {},
		   "source": [
			"## Example 10.2: Biasing_range.sce"
		   ]
		  },
  {
"cell_type": "code",
	   "execution_count": null,
	   "metadata": {
	    "collapsed": true
	   },
	   "outputs": [],
"source": [
"//Chapter 10\n",
"//page no 354\n",
"//given\n",
"clc;\n",
"clear all;\n",
"Vpi=1;         //Assumed 1 because we can not use a variable on RHS\n",
"//Vpi is Violtage swing\n",
"disp('for alpha=0.3');\n",
"A=0.3;         //chirping\n",
"//V1=(AV1p+Vp)/2\n",
"V1=(A*Vpi+Vpi)/2;\n",
"printf('\n V1= %0.2f Vpi',V1) \n",
"V2=V1-Vpie;\n",
"printf('\n V2= %0.2f Vpi\n',V2) \n",
"disp('for alpha=0.8');\n",
"A=0.8;         //chirping\n",
"//V1=(AV1p+Vp)/2\n",
"V1x=(A*Vpi+Vpi)/2;\n",
"printf('\n V1= %0.1f Vpi',V1x) \n",
"V2x=V1x-Vpi;\n",
"printf('\n V2= %0.1f Vpi',V2x) \n",
"printf('\n Biasing range is %0.2f Vpi <= V1 <= %0.2f Vpi',V1,V1x) \n",
"printf('\n Biasing range is %0.1f Vpi <= V2 <= %0.2f Vpi',V2x,V2) "
   ]
   }
],
"metadata": {
		  "kernelspec": {
		   "display_name": "Scilab",
		   "language": "scilab",
		   "name": "scilab"
		  },
		  "language_info": {
		   "file_extension": ".sce",
		   "help_links": [
			{
			 "text": "MetaKernel Magics",
			 "url": "https://github.com/calysto/metakernel/blob/master/metakernel/magics/README.md"
			}
		   ],
		   "mimetype": "text/x-octave",
		   "name": "scilab",
		   "version": "0.7.1"
		  }
		 },
		 "nbformat": 4,
		 "nbformat_minor": 0
}
