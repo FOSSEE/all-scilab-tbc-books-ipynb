{
"cells": [
 {
		   "cell_type": "markdown",
	   "metadata": {},
	   "source": [
       "# Chapter 11: Multiplexing"
	   ]
	},
{
		   "cell_type": "markdown",
		   "metadata": {},
		   "source": [
			"## Example 11.1: Cross_talk_in_refrence_to_the_number_of_channel.sce"
		   ]
		  },
  {
"cell_type": "code",
	   "execution_count": null,
	   "metadata": {
	    "collapsed": true
	   },
	   "outputs": [],
"source": [
"//Chapter 11\n",
"//page no 386\n",
"//given\n",
"clc;\n",
"clear all;\n",
"q=4.9*10^-18;           //in m/W.GHz raman  gain slope\n",
"f=100;                  //in GHz\n",
"A=50*10^-6;             //cross sectional area in micro  meter square\n",
"P0=3.5;           //in mW\n",
"Le=10*10^3;\n",
"G=q*f*10^6/2/A;\n",
"N=20;\n",
"mprintf('\n G = %e ',G);\n",
"CT=N*(N-1)*(P0*10^-3*G*Le)/2;\n",
"printf('\n CT(L) = %0.2f ',CT);"
   ]
   }
,
{
		   "cell_type": "markdown",
		   "metadata": {},
		   "source": [
			"## Example 11.2: Capacitor_value_of_PLL_section.sce"
		   ]
		  },
  {
"cell_type": "code",
	   "execution_count": null,
	   "metadata": {
	    "collapsed": true
	   },
	   "outputs": [],
"source": [
"//Chapter 11\n",
"//page no 410\n",
"//given\n",
"clc;\n",
"clear all;\n",
"K0=2*%pi*625;           //in MHz/V\n",
"Ip=0.6;             //in mA\n",
"N=64;           \n",
"w=2.44;             //in Mhz\n",
"Z=5;\n",
"Vout=5;         //in V\n",
"C=(4*K0*10^6*Ip*10^-3*Z)/(2*%pi*N*w*w*10^12);\n",
"printf('\n The value of capacitance is %0.0f nF',C*10^9)"
   ]
   }
,
{
		   "cell_type": "markdown",
		   "metadata": {},
		   "source": [
			"## Example 11.3: Value_of_damping_coefficient.sce"
		   ]
		  },
  {
"cell_type": "code",
	   "execution_count": null,
	   "metadata": {
	    "collapsed": true
	   },
	   "outputs": [],
"source": [
"//Chapter 11\n",
"//page no 410\n",
"//given\n",
"clc;\n",
"clear all;\n",
"K0=2*%pi*625;           //in MHz/V\n",
"Ip=0.35;             //in mA\n",
"N=64;           \n",
"w=2.44;         //in MHz\n",
"Z=5;\n",
"Vout=4;         //in V\n",
"C=22;           //in nF\n",
"Z=sqrt((2*%pi*N*w^2*C)/(4*Ip*K0*0.25))\n",
"printf('\n Zeta is = %0.0f' ,Z)\n",
""
   ]
   }
],
"metadata": {
		  "kernelspec": {
		   "display_name": "Scilab",
		   "language": "scilab",
		   "name": "scilab"
		  },
		  "language_info": {
		   "file_extension": ".sce",
		   "help_links": [
			{
			 "text": "MetaKernel Magics",
			 "url": "https://github.com/calysto/metakernel/blob/master/metakernel/magics/README.md"
			}
		   ],
		   "mimetype": "text/x-octave",
		   "name": "scilab",
		   "version": "0.7.1"
		  }
		 },
		 "nbformat": 4,
		 "nbformat_minor": 0
}
