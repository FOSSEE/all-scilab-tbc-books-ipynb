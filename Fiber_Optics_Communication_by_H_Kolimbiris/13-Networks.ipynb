{
"cells": [
 {
		   "cell_type": "markdown",
	   "metadata": {},
	   "source": [
       "# Chapter 13: Networks"
	   ]
	},
{
		   "cell_type": "markdown",
		   "metadata": {},
		   "source": [
			"## Example 13.1: Calculate_R9_R7_R8_C4.sce"
		   ]
		  },
  {
"cell_type": "code",
	   "execution_count": null,
	   "metadata": {
	    "collapsed": true
	   },
	   "outputs": [],
"source": [
"//Chapter 13\n",
"//page no 568\n",
"//given\n",
"clc;\n",
"clear all;\n",
"Vcc=5;                  //in V\n",
"Vf=1.5;             //in V\n",
"If=60;              //in mA\n",
"B=3.97;\n",
"N=3;\n",
"R9=(Vcc-Vf)*(B+1)/If/10^-3;\n",
"printf('\n R9 = %0.0f ohm\n',R9);\n",
"R7=R9/2/B-3/N;\n",
"printf('\n R7 = %0.1f ohm\n',R7);\n",
"R8=R9/2/B;\n",
"printf('\n R8 = %0.1f ohm\n',R8);\n",
"C4=2*10^-9/R8;\n",
"printf('\n C4 = %0.0f pF',C4*10^12);\n",
""
   ]
   }
,
{
		   "cell_type": "markdown",
		   "metadata": {},
		   "source": [
			"## Example 13.2: Calculate_Led_If_R3_C4.sce"
		   ]
		  },
  {
"cell_type": "code",
	   "execution_count": null,
	   "metadata": {
	    "collapsed": true
	   },
	   "outputs": [],
"source": [
"//Chapter 13\n",
"//page no 569\n",
"//given\n",
"clc;\n",
"clear all;\n",
"Vu3=1.24;           //in V\n",
"Vbeq3=0.7;          //in V\n",
"Vbeq4=0.7;          //in V\n",
"R5=17.5;            //in Ohm\n",
"R6=17.5;            //in Ohm\n",
"Voh=5;          //in V\n",
"Vol=0;          //in V\n",
"If=(Vu3-Vbeq3)/R5+(Vu3-Vbeq4)/R6;\n",
"printf('\n If= %0.1f mA\n',If*1000);\n",
"R3=(Voh-Vol)/If;\n",
"printf('\n R3= %0.0f ohm\n',R3);\n",
"C4=2*10^-9/R3;\n",
"printf('\n C4= %0.0f pF\n',C4*10^12);\n",
"//Chapter 13\n",
"//page no 581\n",
"//given\n",
"disp('Page number 581 again  Example 13-2 (numbering mistake)')\n",
"Er=4.9;\n",
"h=5;                //in mils\n",
"w=10;                //in mils\n",
"t=0.5;                //in mils\n",
"Z=60/sqrt(0.475*Er+0.67)*log(4*h/0.67/(0.8*w+t));\n",
"printf('\n Z = %0.1f ohm\n',Z);\n",
"tpd=1.017*sqrt(0.475*Er+0.67);\n",
"printf('\n tpd = %0.2f ns/ft\n',tpd);\n",
"Tpd=tpd*1000/12;           //converted into ps/in\n",
"printf('\n tpd = %0.2f ps/in\n',Tpd);\n",
"Co=Tpd/Z;\n",
"printf('\n Co = %0.1f pF/in\n',Co);\n",
""
   ]
   }
,
{
		   "cell_type": "markdown",
		   "metadata": {},
		   "source": [
			"## Example 13.3: Characteristic_impedance_and_propagation_delay.sce"
		   ]
		  },
  {
"cell_type": "code",
	   "execution_count": null,
	   "metadata": {
	    "collapsed": true
	   },
	   "outputs": [],
"source": [
"//Chapter 13\n",
"//page no 583\n",
"//given\n",
"clc;\n",
"clear all;\n",
"Er=4.7;\n",
"b=10;                //in mils\n",
"w=4;                //in mils\n",
"t=0.5;                //in mils\n",
"Z=60/sqrt(Er)*log(4*b/0.67/%pi/(0.8*w+t));\n",
"printf('\n Z = %0.2f ohm\n',Z);\n",
"tpd=1.017*sqrt(Er);\n",
"printf('\n tpd = %0.1f ns/ft\n',tpd);\n",
"Tpd=tpd*1000/12;           //converted into ps/in\n",
"printf('\n Also,tpd = %0.0f ps/in\n',Tpd);//answer is slightly different due to rounding off "
   ]
   }
],
"metadata": {
		  "kernelspec": {
		   "display_name": "Scilab",
		   "language": "scilab",
		   "name": "scilab"
		  },
		  "language_info": {
		   "file_extension": ".sce",
		   "help_links": [
			{
			 "text": "MetaKernel Magics",
			 "url": "https://github.com/calysto/metakernel/blob/master/metakernel/magics/README.md"
			}
		   ],
		   "mimetype": "text/x-octave",
		   "name": "scilab",
		   "version": "0.7.1"
		  }
		 },
		 "nbformat": 4,
		 "nbformat_minor": 0
}
