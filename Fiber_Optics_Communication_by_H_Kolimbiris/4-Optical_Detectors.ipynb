{
"cells": [
 {
		   "cell_type": "markdown",
	   "metadata": {},
	   "source": [
       "# Chapter 4: Optical Detectors"
	   ]
	},
{
		   "cell_type": "markdown",
		   "metadata": {},
		   "source": [
			"## Example 4.1: Response_time_of_PIN_photodetector.sce"
		   ]
		  },
  {
"cell_type": "code",
	   "execution_count": null,
	   "metadata": {
	    "collapsed": true
	   },
	   "outputs": [],
"source": [
"//Chapter 4\n",
"//page no 99\n",
"//given\n",
"clc;\n",
"Tn=5;               //in micrometer\n",
"Vs=10^7;          //in m/s\n",
"tr=Tn*10^-6/Vs;\n",
"disp('ps',tr/10^-12,'Response time');"
   ]
   }
,
{
		   "cell_type": "markdown",
		   "metadata": {},
		   "source": [
			"## Example 4.2: MTBF_of_photodetector.sce"
		   ]
		  },
  {
"cell_type": "code",
	   "execution_count": null,
	   "metadata": {
	    "collapsed": true
	   },
	   "outputs": [],
"source": [
"//Chapter 4\n",
"//page no 106\n",
"//given\n",
"clc;\n",
"//calculate Tf\n",
"Pd=1.15;            //in mW\n",
"//calculate Tj\n",
"TA=25;              //in deg C\n",
"theta_JA=200;          //in C/W for hermetric led\n",
"TJ=TA+theta_JA*Pd/10^3;\n",
"TF=8.01*10^12 *%e^-(8111/(TJ+273));\n",
"printf('\n Value of TJ is %0.2f deg C\n',TJ);\n",
"printf('\n Value of TF is %0.2f deg C\n',TF);\n",
"//calculate RF\n",
"BF=1.1*10^-3;               //from table\n",
"QF=0.5;                     //from table\n",
"EF=1;                       //from table\n",
"RF=BF*TF*EF*QF*1/10^6;\n",
"disp(RF,'Value of RF');\n",
"printf('\n Value of MTBF is %0.0f*10^6 hours \n',1/RF/10^6);"
   ]
   }
,
{
		   "cell_type": "markdown",
		   "metadata": {},
		   "source": [
			"## Example 4.3: Photon_Lifetime.sce"
		   ]
		  },
  {
"cell_type": "code",
	   "execution_count": null,
	   "metadata": {
	    "collapsed": true
	   },
	   "outputs": [],
"source": [
"//Chapter 4\n",
"//page no 114\n",
"//given\n",
"clc;\n",
"R1=0.7;\n",
"R2=0.99;\n",
"ad=0.1;\n",
"//compute Ld\n",
"Ld=1-R1*R2*%e^-(2*ad);\n",
"printf('\n Decay Loss %0.4f \n',Ld);\n",
"trt=40;//fs\n",
"tph=trt/Ld;\n",
"printf('\n Photon lifetime %0.2f fs\n',tph);\n",
"BW=1/tph;\n",
"printf('\n Bandwidth %0.1f Thz\n',BW*1000);//Answer in Thz  \n",
""
   ]
   }
],
"metadata": {
		  "kernelspec": {
		   "display_name": "Scilab",
		   "language": "scilab",
		   "name": "scilab"
		  },
		  "language_info": {
		   "file_extension": ".sce",
		   "help_links": [
			{
			 "text": "MetaKernel Magics",
			 "url": "https://github.com/calysto/metakernel/blob/master/metakernel/magics/README.md"
			}
		   ],
		   "mimetype": "text/x-octave",
		   "name": "scilab",
		   "version": "0.7.1"
		  }
		 },
		 "nbformat": 4,
		 "nbformat_minor": 0
}
