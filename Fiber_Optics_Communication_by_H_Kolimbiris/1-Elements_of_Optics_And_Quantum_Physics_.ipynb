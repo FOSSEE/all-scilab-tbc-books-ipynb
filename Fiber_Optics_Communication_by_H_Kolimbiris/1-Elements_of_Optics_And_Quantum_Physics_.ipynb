{
"cells": [
 {
		   "cell_type": "markdown",
	   "metadata": {},
	   "source": [
       "# Chapter 1: Elements of Optics And Quantum Physics "
	   ]
	},
{
		   "cell_type": "markdown",
		   "metadata": {},
		   "source": [
			"## Example 1.10: Degree_of_polarisatio.sce"
		   ]
		  },
  {
"cell_type": "code",
	   "execution_count": null,
	   "metadata": {
	    "collapsed": true
	   },
	   "outputs": [],
"source": [
"//Example no 1-10\n",
"//page no. 26\n",
"clc;\n",
"clear;\n",
"//p=m/{m+[2*n/(1-n)^2]^2};\n",
"\n",
"m=5;            //no. of reflective plates\n",
"n=1.33;         //refractive indices\n",
"p=m/{m+[2*n/(1-(n)^2)]^2}; //degree of polarisation\n",
"printf('\n The degree of polarisation is %0.1f    \n',p);"
   ]
   }
,
{
		   "cell_type": "markdown",
		   "metadata": {},
		   "source": [
			"## Example 1.11: Number_of_refractive_Plates.sce"
		   ]
		  },
  {
"cell_type": "code",
	   "execution_count": null,
	   "metadata": {
	    "collapsed": true
	   },
	   "outputs": [],
"source": [
"//Example no 1-11\n",
"//page no. 26\n",
"clc;\n",
"clear;\n",
"//m= p*{m+[2*n/(1-n)^2]^2};\n",
"\n",
"n=1.5;          //refractive indices\n",
"p=0.45;         //degree of polarisation\n",
"m={p*[2*n/(1-n^2)]^2}/(1-p);\n",
"printf('\n Thus it will require %0.0f reflective plate to achive a degree of polarization equal to 0.45',m);        //Result  mis rounded of to nearest integer"
   ]
   }
,
{
		   "cell_type": "markdown",
		   "metadata": {},
		   "source": [
			"## Example 1.12: Ratio_of_Optical_Ray.sce"
		   ]
		  },
  {
"cell_type": "code",
	   "execution_count": null,
	   "metadata": {
	    "collapsed": true
	   },
	   "outputs": [],
"source": [
"\n",
"//Example no 1-12\n",
"//page no. 27\n",
"clc;\n",
"clear;\n",
"//I1/I0=cos(w)^2\n",
"//k=I1/I0;\n",
"\n",
"w=30;               //angle bw polarizer and analyser in degee\n",
"k=cosd(w)^2;\n",
"disp(k,'The ratio of optical ray intensity ,I1/I0=');           //Result"
   ]
   }
,
{
		   "cell_type": "markdown",
		   "metadata": {},
		   "source": [
			"## Example 1.13: Angle_between_polariser_and_analyzer.sce"
		   ]
		  },
  {
"cell_type": "code",
	   "execution_count": null,
	   "metadata": {
	    "collapsed": true
	   },
	   "outputs": [],
"source": [
"//Example no 1-13\n",
"//page no. 27\n",
"clc;\n",
"clear;\n",
"//I1/I0=cos(w)^2\n",
"//Given I1/I0=0.55\n",
"\n",
"k=sqrt(0.55);  //from above formulae\n",
"printf('\n cos w is %0.2f ',k);\n",
"printf('\n The angle bw polarizer and analyser , w is %0.0f degree',acos(k)*180/%pi);//Result\n",
"\n",
""
   ]
   }
,
{
		   "cell_type": "markdown",
		   "metadata": {},
		   "source": [
			"## Example 1.14: find_time_difference_and_phase_difference.sce"
		   ]
		  },
  {
"cell_type": "code",
	   "execution_count": null,
	   "metadata": {
	    "collapsed": true
	   },
	   "outputs": [],
"source": [
"//Example no 1-14\n",
"//page no. 29\n",
"clc;\n",
"clear;\n",
"disp('Solution (i) is ');\n",
"ne=1.4;//refractive index\n",
"no=1.25;            //refractive index\n",
"c=3*10^8;                   //in m/s\n",
"T=2*10^-5;  //in m\n",
"l=740;      //in nm\n",
"t=[ne-no]*T/c;      //time difference\n",
"printf('\n Time difference, t is %0.2f ps',t*10^12);// result\n",
"disp('Solution (ii) is ');\n",
"le=l/ne; \n",
"lo=l/no;\n",
"fi=2*%pi*T*(1/le-1/lo)*10^9;\n",
"printf('\n Phase difference is %0.1f rad',fi);// result\n",
"// Answer misprinted in book\n",
""
   ]
   }
,
{
		   "cell_type": "markdown",
		   "metadata": {},
		   "source": [
			"## Example 1.15: Find_wavelength.sce"
		   ]
		  },
  {
"cell_type": "code",
	   "execution_count": null,
	   "metadata": {
	    "collapsed": true
	   },
	   "outputs": [],
"source": [
"\n",
"\n",
"//page no. 31\n",
"//Example no 1-15\n",
"//E=h*v=h*c/l;\n",
"clc;\n",
"clear;\n",
"E=3;       //In KeV\n",
"//1eV=1.6*10^-19\n",
"h=6.63*10^-34;  //plank constant in J/s\n",
"c=3*10^8;           // speed of light in m/s\n",
"l=h*c/(E*10^3*1.6*10^-19);// wavelength  in nm\n",
"printf('wavelength of a electromagnetic radiation is %0.3f nm',l*10^9);//result\n",
""
   ]
   }
,
{
		   "cell_type": "markdown",
		   "metadata": {},
		   "source": [
			"## Example 1.16: Compute_the_constant_phi.sce"
		   ]
		  },
  {
"cell_type": "code",
	   "execution_count": null,
	   "metadata": {
	    "collapsed": true
	   },
	   "outputs": [],
"source": [
"\n",
"//page no. 31\n",
"//Example no 1-16\n",
"clc;\n",
"clear;\n",
"disp('Solution (i) is ');\n",
"l=670//in nm\n",
"h=6.63*10^-34;  // plank constant in J/s\n",
"c=3*10^17//speed of light in nm/sec\n",
"Ek=0.75//In eV\n",
"phi=(h*c/l)/(1.6*10^-19) -Ek;\n",
"phi=round(phi*10)/10;           //round to 1 decimal point\n",
"printf('\n Characteristic of material = %0.1f eV\n',phi);//result\n",
"disp('Solution (ii) is ');\n",
"fc=phi*1.6*10^-19/h*10^-12;// frequency in THz//result\n",
"fc=round(fc);\n",
"printf('\n Cuttoff frequency is = %0.0f THz\n',fc);//result\n",
"lc=c/(fc*10^12);       //in nm\n",
"printf('\n Cuttoff wavelength is = %0.0f nm\n',lc);//result"
   ]
   }
,
{
		   "cell_type": "markdown",
		   "metadata": {},
		   "source": [
			"## Example 1.17: Voltage_required_to_accelerate_an_electron.sce"
		   ]
		  },
  {
"cell_type": "code",
	   "execution_count": null,
	   "metadata": {
	    "collapsed": true
	   },
	   "outputs": [],
"source": [
"\n",
"\n",
"//page no. 31\n",
"//Example no 1-17\n",
"clc;\n",
"clear all;\n",
"disp('Solution (i) is ');\n",
"l=0.045;//wavelength in nm\n",
"h=6.63*10^-34;      //planks constant in J/s\n",
"c=3*10^8;        //speed of light in m/s\n",
"E=h*c/l/10^-9;    //energy of photon in eV\n",
"mprintf('\n E = %e J',E);\n",
"E1=E/(1.6*10^-19);    // energy in joule\n",
"mprintf('\n E = %e eV',E1);\n",
"e=1.6*10^-19;    // charge of electron\n",
"disp('Solution (ii) is ');\n",
"V=E/e;\n",
"printf('\n Required voltage is = %0.2f KV',V/1000);// result\n",
"\n",
"// Value of wavelenght in problem is .45 but in the solution is .045 \n",
"//the value considered above is .045\n",
""
   ]
   }
,
{
		   "cell_type": "markdown",
		   "metadata": {},
		   "source": [
			"## Example 1.18: Compute_uncertainity_in_electron_velocity.sce"
		   ]
		  },
  {
"cell_type": "code",
	   "execution_count": null,
	   "metadata": {
	    "collapsed": true
	   },
	   "outputs": [],
"source": [
"//page no. 36\n",
"//Example no 1-18\n",
"clc;\n",
"clear;\n",
"\n",
"disp('Solution (i) is ');\n",
"x=620// difference in particle momentum In nm\n",
"h=6.63*10^-34// planks constant In J/s\n",
"//p=h/(4*%pi*x);\n",
"//m*v=h/(4*%pi*x);\n",
"m=9.11*10^-31 //In kg // mass of electron\n",
"v=h /(4*%pi* x *10^-9*m);// electron velocity\n",
"printf('\n The uncertanity in electron velocity is %0.0f m/s  \n',v);// result"
   ]
   }
,
{
		   "cell_type": "markdown",
		   "metadata": {},
		   "source": [
			"## Example 1.1: Arrival_time_difference_between_two_monochromatic_optical_beams.sce"
		   ]
		  },
  {
"cell_type": "code",
	   "execution_count": null,
	   "metadata": {
	    "collapsed": true
	   },
	   "outputs": [],
"source": [
"\n",
"\n",
"\n",
"\n",
"\n",
"//Example1-1\n",
"//Given\n",
"clc;\n",
"clear all;\n",
"printf('(i)   t1=d/c  \n');\n",
"printf(' (ii)  t2=[(d-5)/c]+[5/v2] \n');\n",
"printf('       v2=c/n2      \n');\n",
"printf('       t2=(d+2.5)/c\n');\n",
"printf(' (iii) delta_t=t2-t1=(d+2.5-d)/c\n');\n",
"c=3*10^8;       //Speed of light in m/s\n",
"delta_t=2.5*10^-2/c;            //converted 2.5 cm into meters\n",
"printf('The time difference %e s',delta_t );\n",
"printf('\n Arrival time difference of two monochromatic beams is %0.0f ps',delta_t*10^12)\n",
"// Answer misprinted in the book"
   ]
   }
,
{
		   "cell_type": "markdown",
		   "metadata": {},
		   "source": [
			"## Example 1.2: Calculate_angle_of_refraction_velocity_wavelength.sce"
		   ]
		  },
  {
"cell_type": "code",
	   "execution_count": null,
	   "metadata": {
	    "collapsed": true
	   },
	   "outputs": [],
"source": [
"\n",
"\n",
"\n",
"\n",
"\n",
"//given \n",
"//page no 5\n",
"clc;\n",
"clear;\n",
"//Applying Snell's law\n",
"a=1*sin(428)/1.333;//a=sin(w2)\n",
"printf('Angle of refraction is %0.1f\n ',a)\n",
"printf('\n Angle of refraction is %0.0f degree \n ',asin(a)*57.27)\n",
"c=3*10^8;           //speed of light in m/s\n",
"n2=1.333;           //refractive index of 2nd medium\n",
"v2=c/n2;            //velocity in second medium in m/s\n",
"n1=1;               //refractive index of 1st medium\n",
"l1=620;             //in nm   wavelength\n",
"printf('\n Velocity of optical ray through medium second %0.02f*10^8 m/s\n',v2/10^8);\n",
"l2= (n1*l1)/n2;     //wavelength in 2nd medium in nm\n",
"printf('\n Wavelenght of optical ray through medium second %0.1f nm',l2);       //Result"
   ]
   }
,
{
		   "cell_type": "markdown",
		   "metadata": {},
		   "source": [
			"## Example 1.3: Angle_of_refration_and_Deviation.sce"
		   ]
		  },
  {
"cell_type": "code",
	   "execution_count": null,
	   "metadata": {
	    "collapsed": true
	   },
	   "outputs": [],
"source": [
"\n",
"\n",
"\n",
"\n",
"\n",
"//given \n",
"//page no 5 \n",
"clc;\n",
"clear;\n",
"n1=1;                   //refractive index of air\n",
"n2=1.56;                //refractive index of medium\n",
"w1=60;      //in deg C\n",
"//using snell's law\n",
"a= n1*sind(w1)/n2;             //a=sin(w1)\n",
"w2=asind(a);                   //in degree\n",
"printf('Angle of refraction is %0.2f degree\n ',w2);\n",
"B=w1-w2;                         //in degree\n",
"printf('Angle of deviation is %0.1f degree\n ',B)\n",
"// The answer doesn't match because of priting errorsin calculation as sin(608)"
   ]
   }
,
{
		   "cell_type": "markdown",
		   "metadata": {},
		   "source": [
			"## Example 1.4: Find_optical_Path_and_angle_phi.sce"
		   ]
		  },
  {
"cell_type": "code",
	   "execution_count": null,
	   "metadata": {
	    "collapsed": true
	   },
	   "outputs": [],
"source": [
"//given \n",
"//page no 6\n",
"clc;\n",
"disp('Solution (i)');\n",
" w=5/12.5; //          tan(w)=5/12.5;\n",
"printf('\n The value of tan(w2) is %0.1f \n',w);\n",
"w2=atan(w)*180/%pi;\n",
"//w2=atan(w)*180/%pi\n",
"printf('\n The value of w2 is %0.1f degree\n',w2);\n",
"printf('\n The value of sin(w2) is %0.2f \n',sin(w2*%pi/180));\n",
"disp('Solution (ii)');\n",
"//Applying snell's law\n",
"n1=1.05;\n",
"n2=1.5;\n",
"w1=(n2*sin(w2*%pi/180))/n1;//a=sin(w1)\n",
"printf('\n The value of sin(w1) is %0.2f \n',w1);\n",
"printf('\n The value of w1 is  %0.0f degree \n',asin(w1)*180/%pi);\n",
"//value of w1\n",
"//tan(w1)=(p-x)12.5;\n",
"k=0.62*12.5;\n",
"d=1.05*[(12.5)^2+(k)^2]^0.5 +1.5*(12.5^2+5^2)^0.5;//d=1.05[(h1)^2+(k)^2]^0.5 +n2(h2^2+x^2)^0.5;\n",
"printf('\n the optical distance is %0.2f cm\n',d);"
   ]
   }
,
{
		   "cell_type": "markdown",
		   "metadata": {},
		   "source": [
			"## Example 1.5: Find_Phase_velocity.sce"
		   ]
		  },
  {
"cell_type": "code",
	   "execution_count": null,
	   "metadata": {
	    "collapsed": true
	   },
	   "outputs": [],
"source": [
"//Ex1_5\n",
"//given \n",
"//page no 11\n",
"clc;\n",
"clear;\n",
"c=3*10^8;\n",
"disp('Solution (i) is ');\n",
"ri=1.5;//refractive index\n",
"u=830// in nm\n",
"l=u/ri;      //in nm\n",
"printf('\n Wavelength is %0.0f nm \n',l);\n",
"disp('Solution (ii) is ');\n",
"l=round(l);                 // rounding to nearest integer\n",
"f=c/(l*10^-9)*10^-12;       //in THz\n",
"printf('\n  frequency is %0.0f THz\n',f);\n",
"disp('Solution (iii) is ');\n",
"f=round(f);                 // rounding to nearest integer\n",
"v=l*10^-9*f*10^12;          //in m/s\n",
"mprintf('\n  phase velocity  is %.3e m/s\n',v);//answer is getting rounding off due to larger calculation\n",
"\n",
""
   ]
   }
,
{
		   "cell_type": "markdown",
		   "metadata": {},
		   "source": [
			"## Example 1.6: find_wavelength.sce"
		   ]
		  },
  {
"cell_type": "code",
	   "execution_count": null,
	   "metadata": {
	    "collapsed": true
	   },
	   "outputs": [],
"source": [
"//Ex1_6\n",
"//given \n",
"//page no 12\n",
"clc;\n",
"clear;\n",
"disp('Solution (i) is ');\n",
"l=720;      //wavelength in nm\n",
"n=1.5;          //refractive index\n",
"lm=l/n;\n",
"disp('nm',lm,'Wavelenth is');       //result\n",
"disp('Solution (ii) is ');\n",
"c=3*10^8;           //in m/s speed of light\n",
"u=c/n;\n",
"disp('m/s',u,'Velocity  is');       //result"
   ]
   }
,
{
		   "cell_type": "markdown",
		   "metadata": {},
		   "source": [
			"## Example 1.7: Find_wavelength_of_Light.sce"
		   ]
		  },
  {
"cell_type": "code",
	   "execution_count": null,
	   "metadata": {
	    "collapsed": true
	   },
	   "outputs": [],
"source": [
"//Ex1_7\n",
"//given \n",
"//page no 12\n",
"clc;\n",
"clear;\n",
"disp('Solution (i)');\n",
"c=3*10^8;       //in m/s speed of light\n",
"l=640;          //in nm\n",
"u=2.2*10^8;     //in m/s\n",
"lm=u*l/c;           //wavelenth in medium\n",
"printf('\n The wavelength is %0.1f nm\n',lm);// The answer in the book is misprinted \n",
"disp('Solution (ii)');\n",
"n=l/lm;         //refractive index\n",
"printf('\n Refractive Index is %0.3f \n',n);//The answer in the book is misprinted"
   ]
   }
,
{
		   "cell_type": "markdown",
		   "metadata": {},
		   "source": [
			"## Example 1.8: Ratio_of_input_output_intensity.sce"
		   ]
		  },
  {
"cell_type": "code",
	   "execution_count": null,
	   "metadata": {
	    "collapsed": true
	   },
	   "outputs": [],
"source": [
"\n",
"\n",
"\n",
"\n",
"\n",
"//Ex1_8\n",
"//given \n",
"//page no 12\n",
"clc;\n",
"clear;\n",
"//k=aa+as=6.3;\n",
"//Given values from research\n",
"k=6.3;      //combined attenuation due to absorption and scattering\n",
"d=25;       //in cm\n",
"disp('Solution (ii)');\n",
"//Io/Ii=exp(-(ao+ai)*d);  d in m\n",
"j=exp(-(k)*d/100);  //Io/Ii ratio\n",
"printf('\n  Io is %0.3f of Ii \n',j);       //result"
   ]
   }
,
{
		   "cell_type": "markdown",
		   "metadata": {},
		   "source": [
			"## Example 1.9: Compute_length_of_Tube.sce"
		   ]
		  },
  {
"cell_type": "code",
	   "execution_count": null,
	   "metadata": {
	    "collapsed": true
	   },
	   "outputs": [],
"source": [
"//Ex1_9\n",
"//given \n",
"//page no 13\n",
"clc;\n",
"clear;\n",
"//      Given formula   Io/Ii=exp(-(ao+ai)*d);\n",
"//       k=aa+as=63.1;\n",
"//       Io/Ii=1.5\n",
"d=log(.15)/-63.1;       //length of tube\n",
"printf('\nLength of tube, d = %0.0f cm   \n',d*100);      //Result"
   ]
   }
],
"metadata": {
		  "kernelspec": {
		   "display_name": "Scilab",
		   "language": "scilab",
		   "name": "scilab"
		  },
		  "language_info": {
		   "file_extension": ".sce",
		   "help_links": [
			{
			 "text": "MetaKernel Magics",
			 "url": "https://github.com/calysto/metakernel/blob/master/metakernel/magics/README.md"
			}
		   ],
		   "mimetype": "text/x-octave",
		   "name": "scilab",
		   "version": "0.7.1"
		  }
		 },
		 "nbformat": 4,
		 "nbformat_minor": 0
}
