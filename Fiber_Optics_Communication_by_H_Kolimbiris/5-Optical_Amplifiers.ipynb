{
"cells": [
 {
		   "cell_type": "markdown",
	   "metadata": {},
	   "source": [
       "# Chapter 5: Optical Amplifiers"
	   ]
	},
{
		   "cell_type": "markdown",
		   "metadata": {},
		   "source": [
			"## Example 5.1: Input_power.sce"
		   ]
		  },
  {
"cell_type": "code",
	   "execution_count": null,
	   "metadata": {
	    "collapsed": true
	   },
	   "outputs": [],
"source": [
"//Chapter 5\n",
"//page no 128\n",
"//given\n",
"clc;\n",
"Vrms=0.3;     //in V\n",
"CF=0.75;        //in V/mW\n",
"Pi=Vrms/CF;         \n",
"printf('\n input power %0.1f mW\n',Pi);"
   ]
   }
,
{
		   "cell_type": "markdown",
		   "metadata": {},
		   "source": [
			"## Example 5.2: Compute_pseudo_random_binary_sequence.sce"
		   ]
		  },
  {
"cell_type": "code",
	   "execution_count": null,
	   "metadata": {
	    "collapsed": true
	   },
	   "outputs": [],
"source": [
"//Chapter 5\n",
"//page no 131\n",
"//given\n",
"clc;\n",
"Di=155;         //in Mb/s\n",
"sl=10^-3*Di*10^6;           //in  bitstream\n",
"//PRBS=2^x-1=sl;\n",
"x=log(sl+1)/log(2);//equation is made to pick value of x\n",
"printf('\n PRBS =2^%0.0f -1 \n',x);"
   ]
   }
],
"metadata": {
		  "kernelspec": {
		   "display_name": "Scilab",
		   "language": "scilab",
		   "name": "scilab"
		  },
		  "language_info": {
		   "file_extension": ".sce",
		   "help_links": [
			{
			 "text": "MetaKernel Magics",
			 "url": "https://github.com/calysto/metakernel/blob/master/metakernel/magics/README.md"
			}
		   ],
		   "mimetype": "text/x-octave",
		   "name": "scilab",
		   "version": "0.7.1"
		  }
		 },
		 "nbformat": 4,
		 "nbformat_minor": 0
}
