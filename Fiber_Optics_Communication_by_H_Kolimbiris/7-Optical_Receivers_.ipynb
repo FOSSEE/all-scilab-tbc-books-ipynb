{
"cells": [
 {
		   "cell_type": "markdown",
	   "metadata": {},
	   "source": [
       "# Chapter 7: Optical Receivers "
	   ]
	},
{
		   "cell_type": "markdown",
		   "metadata": {},
		   "source": [
			"## Example 7.1: PWD_of_optical_receiver.sce"
		   ]
		  },
  {
"cell_type": "code",
	   "execution_count": null,
	   "metadata": {
	    "collapsed": true
	   },
	   "outputs": [],
"source": [
"//Chapter 7\n",
"//page no 203\n",
"//given\n",
"clc;\n",
"clear all;\n",
"Trec=54;          //in ns\n",
"Ttrans=40;          //in ns\n",
"Pwd=(Trec-Ttrans)/Ttrans*100;\n",
"printf('\n PWD= %0.0f percent',Pwd) "
   ]
   }
,
{
		   "cell_type": "markdown",
		   "metadata": {},
		   "source": [
			"## Example 7.2: Value_of_Radj.sce"
		   ]
		  },
  {
"cell_type": "code",
	   "execution_count": null,
	   "metadata": {
	    "collapsed": true
	   },
	   "outputs": [],
"source": [
"//Chapter 7\n",
"//page no 214\n",
"//given\n",
"clc;\n",
"clear all;\n",
"//Vc=Vdin-Vdinq\n",
"Vc=5;           //in mV  Vdin-Vdinq=Vc\n",
"Irset =1.8*10^-3*(Vc*10^-3);     //in A\n",
"printf('\n Irset %0.0f microA',Irset*10^6) ;\n",
"Vs=1.5;              //Voltage at signal level below Vcc in V\n",
"Radj=Vs/Irset;                 //in Ohm\n",
"printf('\n Radj %0.0f kohm',Radj*10^-3) ;\n",
""
   ]
   }
,
{
		   "cell_type": "markdown",
		   "metadata": {},
		   "source": [
			"## Example 7.3: Reference_voltage_and_reference_resistor.sce"
		   ]
		  },
  {
"cell_type": "code",
	   "execution_count": null,
	   "metadata": {
	    "collapsed": true
	   },
	   "outputs": [],
"source": [
"//Chapter 7\n",
"//page no 223\n",
"//given\n",
"clc;\n",
"clear all;\n",
"\n",
"Rl=50;      //in Ohm\n",
"Ro=100;     //in Ohm\n",
"Vos=450;            //in mV\n",
"Vref=(Rl+Ro)/Rl*Vos/2;\n",
"printf('\n Vref= %0.0f mV',Vref) ;\n",
"Vee=3.3;            //in V\n",
"R1=500;         //in Ohm\n",
"R2=16000;            //in Ohm\n",
"//Rref=(Vee/Vref/10^3-1)*R1/[1-{R1/R2*(Vee/Vref/10^3-1)}]\n",
"Rref={(Vee/Vref/10^-3-1)*R1}/[1-R1/R2*(Vee/Vref/10^-3-1)]\n",
"printf('\n Rref= %0.0f kohm',Rref) ;\n",
"printf('\n Approx. Rref= %0.1f kohm',Rref*10^-3) ;\n",
""
   ]
   }
],
"metadata": {
		  "kernelspec": {
		   "display_name": "Scilab",
		   "language": "scilab",
		   "name": "scilab"
		  },
		  "language_info": {
		   "file_extension": ".sce",
		   "help_links": [
			{
			 "text": "MetaKernel Magics",
			 "url": "https://github.com/calysto/metakernel/blob/master/metakernel/magics/README.md"
			}
		   ],
		   "mimetype": "text/x-octave",
		   "name": "scilab",
		   "version": "0.7.1"
		  }
		 },
		 "nbformat": 4,
		 "nbformat_minor": 0
}
