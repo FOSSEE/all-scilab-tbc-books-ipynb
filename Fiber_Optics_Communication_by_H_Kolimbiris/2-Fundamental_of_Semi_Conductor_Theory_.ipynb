{
"cells": [
 {
		   "cell_type": "markdown",
	   "metadata": {},
	   "source": [
       "# Chapter 2: Fundamental of Semi Conductor Theory "
	   ]
	},
{
		   "cell_type": "markdown",
		   "metadata": {},
		   "source": [
			"## Example 2.1: maximum_number_of_electron.sce"
		   ]
		  },
  {
"cell_type": "code",
	   "execution_count": null,
	   "metadata": {
	    "collapsed": true
	   },
	   "outputs": [],
"source": [
"//Chapter 2\n",
"//page no 43\n",
"//given\n",
"clc;\n",
"clear ;\n",
"n=1;\n",
"Ne=2*n^2;\n",
"printf('\n Maximum number of electron in 1st shell is %.0f\n ',Ne);//Result\n",
"n2=2;// shell no\n",
"Ne2=2*n2^2;// shell no\n",
"printf('\n Maximum number of electron in 2nd shell is %.0f ',Ne2);//Result"
   ]
   }
,
{
		   "cell_type": "markdown",
		   "metadata": {},
		   "source": [
			"## Example 2.2: Find_band_gap_energy.sce"
		   ]
		  },
  {
"cell_type": "code",
	   "execution_count": null,
	   "metadata": {
	    "collapsed": true
	   },
	   "outputs": [],
"source": [
"//Chapter 2\n",
"//page no 45\n",
"//given\n",
"clc;\n",
"clear ;\n",
"//Given  for silicon for temp 0-400K\n",
"Eg0_Si=1.17;       //in eV\n",
"A=4.73*10^-4;       //in eV/K\n",
"B=636;\n",
"for i=1:8\n",
"T=50*i;      //degree/Kelvin\n",
"Eg_Si=Eg0_Si-(A*T^2)/(B+T);\n",
"printf('\n Band gap energy of silicon at %.0f K is %.3f eV ',T,Eg_Si);//result\n",
"end\n",
"//Given  for Germanium for temp 0-400K\n",
"disp('');\n",
"Eg0_Ge=0.7437;       //in eV\n",
"A_Ge=4.774*10^-4;       //in eV/K\n",
"B_Ge=235;\n",
"for i=1:8\n",
"T=50*i;      //degree/Kelvin\n",
"Eg_Ge=Eg0_Ge-(A_Ge*T^2)/(B_Ge+T);\n",
"printf('\n Band gap energy of germanium at %.0f K is %.3f eV ',T,Eg_Ge);//result\n",
"end\n",
"\n",
"//Given  for GaAs for temp 0-400K\n",
"disp('');\n",
"Eg0_Ga=1.519;       //in eV\n",
"A_Ga=5.405*10^-4;       //in eV/K\n",
"B_Ga=204;\n",
"for i=1:8\n",
"T=50*i;      //degree/Kelvin\n",
"Eg_Ga=Eg0_Ga-(A_Ga*T^2)/(B_Ga+T);\n",
"printf('\n Band gap energy of GaAs at %.0f K is %.3f eV ',T,Eg_Ga);//result\n",
"end"
   ]
   }
,
{
		   "cell_type": "markdown",
		   "metadata": {},
		   "source": [
			"## Example 2.3: Find_carrier_velocity_and_current_density.sce"
		   ]
		  },
  {
"cell_type": "code",
	   "execution_count": null,
	   "metadata": {
	    "collapsed": true
	   },
	   "outputs": [],
"source": [
"//Chapter 2\n",
"//page no 52\n",
"//given\n",
"clc;\n",
"clear ;\n",
"l=10*10^-3;         //in m\n",
"w=2*10^-3;         //in m\n",
"h=2*10^-3;         //in m\n",
"V=12;           //in V\n",
"u_n=0.14;         //in  m*m/V*s\n",
"u_p=0.05;          //in m*m/V*s\n",
"q_n=1.6*10^-19;     //in Columbs\n",
"q_p=1.6*10^-19;     //in Columbs\n",
"p_i=2.4*10^19;     //in columbs\n",
"n_i=2.4*10^19;     //in columbs\n",
"E=V/l;\n",
"v_n=E*u_n;\n",
"v_p=E*u_p;\n",
"J_n=n_i*q_n*v_n;\n",
"J_p=p_i*q_p*v_p;\n",
"J=J_n+J_p;\n",
"printf('\n Electron velocity :vn is  %.0f m/s ',v_n);//result\n",
"printf('\n Hole velocity :vp is  %.3f km/s ',v_p/1000);  // result\n",
"printf('\n Current density : Jn %0.2f A/m^2',J);             //Result\n",
"A=88*10^-6;\n",
"I_T=J*A;\n",
"printf('\n Total current :I_T is  %.0f mA ',I_T*1000);      //Result"
   ]
   }
,
{
		   "cell_type": "markdown",
		   "metadata": {},
		   "source": [
			"## Example 2.4: Find_electron_density_and_type_of_semi_conductor_and_extrensic_semiconductivity.sce"
		   ]
		  },
  {
"cell_type": "code",
	   "execution_count": null,
	   "metadata": {
	    "collapsed": true
	   },
	   "outputs": [],
"source": [
"//Chapter 2\n",
"//page no 53\n",
"//given\n",
"clc;\n",
"clear ;\n",
"n_i=2*10^17;          //electron/m*m*m\n",
"p=5.7*10^20;            //holes/m*m*m\n",
"u_n=0.14;         //in  m*m/V*s\n",
"u_p=0.05;          //in m*m/V*s\n",
"q_n=1.6*10^-19;     //in Columbs\n",
"q_p=1.6*10^-19;     //in Columbs\n",
"n=(n_i)^2/p;\n",
"mprintf('\n Electron :n is  %e electrons ',n);//result\n",
"n=7*10^13\n",
"P=(n*u_n*q_n)+(p*u_p*q_p);\n",
"printf('\n Conductivity :P is  %.2f S/m ',P);// result\n",
"// answer misprinted"
   ]
   }
,
{
		   "cell_type": "markdown",
		   "metadata": {},
		   "source": [
			"## Example 2.5: Find_barrier_voltage.sce"
		   ]
		  },
  {
"cell_type": "code",
	   "execution_count": null,
	   "metadata": {
	    "collapsed": true
	   },
	   "outputs": [],
"source": [
"//Chapter 2\n",
"//page no 55\n",
"//given\n",
"clc;\n",
"clear ;\n",
"NA=10^22;           //acceptors/m*m*m\n",
"ND=1.2*10^21;       //donors/m*m*m\n",
"T=298;             //in Kelvin\n",
"k=1.38*10^-23;      //Boltzman Constant in J/K\n",
"q=1.6*10^-19;      //  charge of electron  in C\n",
"Vt=k*T/q;      //thermal voltage  in V\n",
"printf('\n VT is  %0.1f mV \n',Vt*1000);     // result\n",
"n_i=2.4*10^17;      //carrier/m^3 for silicon \n",
"VB=Vt*log(NA*ND/n_i^2);// barrier voltage in V\n",
"printf('\n Barrier Voltage of Silicon VB is  %0.0f mV ',VB*1000);     //result"
   ]
   }
,
{
		   "cell_type": "markdown",
		   "metadata": {},
		   "source": [
			"## Example 2.6: Calculate_current.sce"
		   ]
		  },
  {
"cell_type": "code",
	   "execution_count": null,
	   "metadata": {
	    "collapsed": true
	   },
	   "outputs": [],
"source": [
"\n",
"\n",
"\n",
"\n",
"\n",
"//Chapter 2\n",
"//page no 56\n",
"//given\n",
"clc;\n",
"clear ;\n",
"Is=0.12;          //in pAmp\n",
"V=0.6;          //in V\n",
"T=293;             //in Kelvin\n",
"k=1.38*10^-23;      //Boltzmann's Constant in J/K\n",
"q=1.6*10^-19;     // charge of electron in C\n",
"Vt=k*T/q;       //thermal voltage\n",
"printf('\n VT(20 deg Cel) is  %0.5f V \n',Vt);//result in book is misprint\n",
"T1=373;             //in Kelvin\n",
"n=1.25;\n",
"Vt1=k*T1/q;      //thermal voltage\n",
"printf('\n VT(100 deg Cel) is  %0.5f V \n',Vt1);\n",
"I=Is*(exp(V/(n*Vt1))-1);        //forward biasing current in mircoA\n",
"printf('\n I(100 deg Cel) is  %0.2f microA \n',I/10^6);//result"
   ]
   }
,
{
		   "cell_type": "markdown",
		   "metadata": {},
		   "source": [
			"## Example 2.7: compute_saturation_current.sce"
		   ]
		  },
  {
"cell_type": "code",
	   "execution_count": null,
	   "metadata": {
	    "collapsed": true
	   },
	   "outputs": [],
"source": [
"//Chapter 2\n",
"//page no 56\n",
"//given\n",
"clc;\n",
"clear ;\n",
"Is=100;          //in nAmp        \n",
"Ts=100;             //in Kelvin\n",
"I_s=Is*10^-9*2^(Ts/10);       //I_s will be in nm \n",
"printf('\n I(100 deg Cel) is  %0.2f microA \n',I_s*10^6);   //converted to microA from nm\n",
"// wrong calculation in the book"
   ]
   }
,
{
		   "cell_type": "markdown",
		   "metadata": {},
		   "source": [
			"## Example 2.8: calculate_radiative_minority.sce"
		   ]
		  },
  {
"cell_type": "code",
	   "execution_count": null,
	   "metadata": {
	    "collapsed": true
	   },
	   "outputs": [],
"source": [
"\n",
"\n",
"\n",
"\n",
"\n",
"//Chapter 2\n",
"//page no 59\n",
"//given\n",
"clc;\n",
"clear ;\n",
"Br_Si=1.79*10^-15;           //Recombination coefficient for Si\n",
"Br_Ge=5.25*10^-14;           //Recombination coefficient for Ge\n",
"Br_GeAs=7.21*10^-10;           //Recombination coefficient for GeAs\n",
"Br_InAs=8.5*10^-11;           //Recombination coefficient for InAs\n",
"P_N=2*10^20;        //per cubic cm\n",
"T_Ge=1/Br_Ge/P_N;//radiative minority carrier lifetime\n",
"printf('\n T_Ge is  %0.3f micro-s \n',T_Ge/10^-6);//result\n",
"T_Si=1/Br_Si/P_N;//radiative minority carrier lifetime\n",
"printf('\n T_Si is  %0.2f micro-s \n',T_Si/10^-6);//result\n",
"T_InAs=1/Br_InAs/P_N;//radiative minority carrier lifetime\n",
"printf('\n T_InAs is  %0.0f ps \n',T_InAs/10^-12);//result\n",
"T_GeAs=1/Br_GeAs/P_N;//radiative minority carrier lifetime\n",
"printf('\n T_GeAs is  %0.0f ps \n',T_GeAs/10^-12);//result\n",
""
   ]
   }
],
"metadata": {
		  "kernelspec": {
		   "display_name": "Scilab",
		   "language": "scilab",
		   "name": "scilab"
		  },
		  "language_info": {
		   "file_extension": ".sce",
		   "help_links": [
			{
			 "text": "MetaKernel Magics",
			 "url": "https://github.com/calysto/metakernel/blob/master/metakernel/magics/README.md"
			}
		   ],
		   "mimetype": "text/x-octave",
		   "name": "scilab",
		   "version": "0.7.1"
		  }
		 },
		 "nbformat": 4,
		 "nbformat_minor": 0
}
