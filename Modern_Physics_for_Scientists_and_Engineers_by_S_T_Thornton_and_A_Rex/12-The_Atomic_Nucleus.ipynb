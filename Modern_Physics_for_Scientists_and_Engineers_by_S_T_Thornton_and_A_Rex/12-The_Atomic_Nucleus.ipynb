{
"cells": [
 {
		   "cell_type": "markdown",
	   "metadata": {},
	   "source": [
       "# Chapter 12: The Atomic Nucleus"
	   ]
	},
{
		   "cell_type": "markdown",
		   "metadata": {},
		   "source": [
			"## Example 12.10: Radiactive_decay_of_Po210.sce"
		   ]
		  },
  {
"cell_type": "code",
	   "execution_count": null,
	   "metadata": {
	    "collapsed": true
	   },
	   "outputs": [],
"source": [
"// Scilab Code Ex12.10: Page-451 (2014)\n",
"clc; clear;\n",
"N_A = 6.023e+023;    // Avogadro's number\n",
"T = 138*24*3600;    // Half life of Po-210, s\n",
"R = 2000;    // Activity of Po-210, disintegrations/s\n",
"M = 0.210;    // Gram molecular mass of Po-210, kg\n",
"f = 1/3.7e+010;    // Conversion factor to convert from decays/s to Ci\n",
"A = R*f/1e-006;    // Activity of Po-210, micro-Ci\n",
"N = R*T/log(2);    // Number of radiactive nuclei of Po-210, nuclei\n",
"m = N*M/N_A;    // Mass of Po-210 sample, kg\n",
"printf('\nThe activity of Po-210 = %5.3f micro-Ci', A);\n",
"printf('\nThe mass of Po-210 sample = %3.1e kg', m);\n",
"\n",
"// Result\n",
"//  The activity of Po-210 = 0.054 micro-Ci\n",
"// The mass of Po-210 sample = 1.2e-014 kg "
   ]
   }
,
{
		   "cell_type": "markdown",
		   "metadata": {},
		   "source": [
			"## Example 12.11: Time_of_decay_of_F18_isotope.sce"
		   ]
		  },
  {
"cell_type": "code",
	   "execution_count": null,
	   "metadata": {
	    "collapsed": true
	   },
	   "outputs": [],
"source": [
"// Scilab Code Ex12.11: Page-452 (2014)\n",
"clc; clear;\n",
"T = 110;    // Half life of F-18, min\n",
"f_remain = 0.01;    // Fraction of the F-18 sample remained\n",
"t = -log(0.01)/(log(2)*60)*T;    // Time taken by the F-18 sample to decay to 1 percent of its initial value, h\n",
"printf('\nThe time taken for 99 percent of the F-18 sample to decay = %4.1f h', t);\n",
"\n",
"// Result\n",
"// The time taken for 99 percent of the F-18 sample to decay = 12.2 h "
   ]
   }
,
{
		   "cell_type": "markdown",
		   "metadata": {},
		   "source": [
			"## Example 12.12: Alpha_activity_of_10_kg_sample_of_U235.sce"
		   ]
		  },
  {
"cell_type": "code",
	   "execution_count": null,
	   "metadata": {
	    "collapsed": true
	   },
	   "outputs": [],
"source": [
"// Scilab Code Ex12.12: Page-452 (2014)\n",
"clc; clear;\n",
"N_A = 6.023e+023;    // Avogadro's number\n",
"M = 10e+03;    // Mass of the U-235, g\n",
"M_U235 = 235;    // Molecular mass of U-235, g\n",
"t_half = 7.04e+008;    // Half life of U-235, y\n",
"N = M*N_A/M_U235;    // Number of U-235 atoms in 10 kg sample\n",
"R = log(2)*N/t_half;    // The alpha activity of 10 kg sample of U-235, decays/y\n",
"printf('\nThe alpha activity of 10 kg sample of U-235 = %3.1e Bq', R/(365.25*24*60*60));\n",
"\n",
"// Result\n",
"// The alpha activity of 10 kg sample of U-235 = 8.0e+008 Bq "
   ]
   }
,
{
		   "cell_type": "markdown",
		   "metadata": {},
		   "source": [
			"## Example 12.13: Non_emission_of_a_neutron_by_U230.sce"
		   ]
		  },
  {
"cell_type": "code",
	   "execution_count": null,
	   "metadata": {
	    "collapsed": true
	   },
	   "outputs": [],
"source": [
"// Scilab Code Ex12.13: Page-453 (2014)\n",
"clc; clear;\n",
"u = 931.5;    // Energy equivalent of 1 u, MeV\n",
"M_U230 = 230.033927;    // Atomic mass of U-230, u\n",
"m_n = 1.008665;    // Mass of a neutron, u\n",
"M_H = 1.007825;    // Mass of hydrogen, u\n",
"M_U229 = 229.033496;    // Gram atomic mass of U-230\n",
"Q = (M_U230 - M_U229 - m_n)*u;    // Q-value of the reaction emitting a neutron\n",
"if (Q < 0) then\n",
"    printf('\nThe neutron decay in this reaction is not possible.');\n",
"else\n",
"    printf('\nThe neutron decay in this reaction is possible.');    \n",
"end\n",
"Q = (M_U230 - M_U229 - M_H)*u;    // Q-value of the reaction emitting a proton\n",
"if (Q < 0) then\n",
"    printf('\nThe proton decay in this reaction is not possible.');\n",
"else\n",
"    printf('\nThe proton decay in this reaction is possible.');    \n",
"end\n",
"\n",
"// Result\n",
"// The neutron decay in this reaction is not possible.\n",
"// The proton decay in this reaction is not possible. "
   ]
   }
,
{
		   "cell_type": "markdown",
		   "metadata": {},
		   "source": [
			"## Example 12.15: Possible_reaction_with_Fe55_isotope.sce"
		   ]
		  },
  {
"cell_type": "code",
	   "execution_count": null,
	   "metadata": {
	    "collapsed": true
	   },
	   "outputs": [],
"source": [
"// Scilab Code Ex12.15: Page-461 (2014)\n",
"clc; clear;\n",
"u = 931.5;    // Energy equivalent of 1 u, MeV\n",
"M_Fe55 = 54.938298;    // Atomic mass of Fe-55, u\n",
"M_Mn55 = 54.938050;    // Atomic mass of Mn-55, u\n",
"m_e = 0.000549;    // Mass of the electron, u\n",
"Q = (M_Fe55 - M_Mn55 - 2*m_e)*u;    // Q-value of the reaction undergoing beta+ decay, MeV\n",
"if (Q < 0) then\n",
"    printf('\nThe beta+ decay is not allowed for Fe-55');\n",
"else\n",
"    printf('\nThe beta+ decay is allowed for Fe-55');\n",
"end\n",
"Q = (M_Fe55 - M_Mn55)*u;    // Q-value of the reaction undergoing electron capture, MeV\n",
"if (Q < 0) then\n",
"    printf('\nFe-55 may not undergo electron capture');\n",
"else\n",
"    printf('\nFe-55 may undergo electron capture');\n",
"end\n",
"\n",
"// Result\n",
"// The beta+ decay is not allowed for Fe-55\n",
"// Fe-55 may undergo electron capture "
   ]
   }
,
{
		   "cell_type": "markdown",
		   "metadata": {},
		   "source": [
			"## Example 12.16: Allowed_decay_modes_for_Ac226.sce"
		   ]
		  },
  {
"cell_type": "code",
	   "execution_count": null,
	   "metadata": {
	    "collapsed": true
	   },
	   "outputs": [],
"source": [
"// Scilab Code Ex12.16: : Page-461 (2014)\n",
"clc; clear;\n",
"function [] = check_allowance(Q, decay_type)\n",
"    if (Q < 0) then\n",
"    printf('\nThe %s is not allowed for Ac-226', decay_type);\n",
"else\n",
"    printf('\nThe %s is allowed for Ac-226', decay_type);\n",
"end\n",
"endfunction\n",
"u = 931.5;    // Energy equivalent of 1 u, MeV\n",
"M_Ac226 = 226.026090;    // Atomic mass of Ac-226, u\n",
"M_Fr222 = 222.017544;    // Atomic mass of Fr-222, u\n",
"M_He4 = 4.002603;    // Atomic mass of He-4, u\n",
"M_Th226 = 226.024891;    // Atomic mass of M_Th226, u\n",
"M_Ra226 = 226.025403;    // Atomic mass of M_Ra226, u\n",
"m_e = 0.000549;    // Mass of the electron, u\n",
"// Alpha Decay\n",
"Q = (M_Ac226 - M_Fr222 - M_He4)*u;    // Q-value of the reaction undergoing alpha decay, MeV\n",
"check_allowance(Q, 'alpha decay');\n",
"// Beta- Decay\n",
"Q = (M_Ac226 - M_Th226)*u;    // Q-value of the reaction undergoing beta- decay, MeV\n",
"check_allowance(Q, 'beta- decay');\n",
"// Beta+ Decay\n",
"Q = (M_Ac226 - M_Ra226 - 2*m_e)*u;    // Q-value of the reaction undergoing beta+ decay, MeV\n",
"check_allowance(Q, 'beta+ decay');\n",
"// Electron Capture\n",
"Q = (M_Ac226 - M_Ra226)*u;    // Q-value of the reaction undergoing electron capture, MeV\n",
"check_allowance(Q, 'electron capture');\n",
"\n",
"// Result\n",
"// The alpha decay is allowed for Ac-226\n",
"// The beta- decay is allowed for Ac-226\n",
"// The beta+ decay is not allowed for Ac-226\n",
"// The electron capture is allowed for Ac-226 "
   ]
   }
,
{
		   "cell_type": "markdown",
		   "metadata": {},
		   "source": [
			"## Example 12.17: Error_introduced_in_the_gamma_ray_energy.sce"
		   ]
		  },
  {
"cell_type": "code",
	   "execution_count": null,
	   "metadata": {
	    "collapsed": true
	   },
	   "outputs": [],
"source": [
"// Scilab Code Ex12.17: Page-463(2014)\n",
"clc; clear;\n",
"u = 931.5;    // Energy equivalent of 1 u, MeV\n",
"E_ex = 0.072;    // Energy of the excited state, MeV\n",
"M = 226*u*1e;    // Energy equivalent of atomic mass of Th-226, MeV\n",
"x = E_ex/(2*M);    // The error introduced in the gamma ray energy by approximation\n",
"printf('\nThe error introduced in the gamma ray energy by approximation = %3.1e', x);\n",
"\n",
"// Result\n",
"// The error introduced in the gamma ray energy by approximation = 1.7e-007 "
   ]
   }
,
{
		   "cell_type": "markdown",
		   "metadata": {},
		   "source": [
			"## Example 12.18: Age_of_the_uranium_ore.sce"
		   ]
		  },
  {
"cell_type": "code",
	   "execution_count": null,
	   "metadata": {
	    "collapsed": true
	   },
	   "outputs": [],
"source": [
"// Scilab Code Ex12.18: Page-467(2014)\n",
"clc; clear;\n",
"t_half = 4.47e+009;    // The half life of uranium ore, years\n",
"R_prime = 0.60;    // The ratio of Pb206 abundance to that of U238\n",
"t = t_half/log(2)*log(R_prime + 1);    // Age of the uranuim ore, years\n",
"printf('\nThe age of U-238 ore = %3.1e years', t);\n",
"\n",
"// Result\n",
"// The age of U-238 ore = 3.0e+009 years "
   ]
   }
,
{
		   "cell_type": "markdown",
		   "metadata": {},
		   "source": [
			"## Example 12.19: C14_dating_to_determine_age_of_bone.sce"
		   ]
		  },
  {
"cell_type": "code",
	   "execution_count": null,
	   "metadata": {
	    "collapsed": true
	   },
	   "outputs": [],
"source": [
"// Scilab Code Ex12.19: Page-469(2014)\n",
"clc; clear;\n",
"t_half = 5730;    // The half life of uranium ore, years\n",
"R0 = 1.2e-012;    // The initial ratio of C14 to C12 at the time of death\n",
"R = 1.10e-012;    // The final ratio of C14 to C12 t years after death\n",
"// As R = R0*exp(-lambda*t), solving for t\n",
"t = -log(R/R0)*t_half/log(2);    // Age of the bone, years\n",
"printf('\nThe %3d years age of bone does not date from the Roman Empire.', ceil(t));\n",
"\n",
"// Result\n",
"// The 720 years age of bone does not date from the Roman Empire. "
   ]
   }
,
{
		   "cell_type": "markdown",
		   "metadata": {},
		   "source": [
			"## Example 12.1: Minimum_kinetic_energy_of_a_proton_in_a_medium_sized_nuclecus.sce"
		   ]
		  },
  {
"cell_type": "code",
	   "execution_count": null,
	   "metadata": {
	    "collapsed": true
	   },
	   "outputs": [],
"source": [
"// Scilab Code Ex12.1: Page-432 (2014)\n",
"clc; clear;\n",
"h = 6.62e-034;    // Planck's constant, Js\n",
"h_bar = h/(2*%pi);    // Reduced Planck's constant, Js\n",
"m = 1.67e-027;    // Rest mass of proton, kg\n",
"e = 1.602e-019;    // Energy equivalent of 1 eV, J\n",
"c = 3.00e+008;    // Speed of light, m/s\n",
"delta_x = 8.0e-015;    // Size of the nucleus, m\n",
"delta_p = h_bar/(2*delta_x*e);    // Uncertainty in momentum of proton from Heisenberg Uncertainty Principle, eV-s/m\n",
"p_min = delta_p;    // Minimum momentum of the proton inside the nucleus, eV-s/m\n",
"K = (p_min*c)^2*e/(2*m*c^2*1e+006);    // The minimum kinetic energy of the proton in a medium sized nuclecus, MeV\n",
"printf('\nThe minimum kinetic energy of the proton in a medium sized nuclecus = %4.2f MeV', K);\n",
"\n",
"// Result\n",
"// The minimum kinetic energy of the proton in a medium sized nuclecus = 0.08 MeV "
   ]
   }
,
{
		   "cell_type": "markdown",
		   "metadata": {},
		   "source": [
			"## Example 12.2: Nuclear_radius_of_calcium.sce"
		   ]
		  },
  {
"cell_type": "code",
	   "execution_count": null,
	   "metadata": {
	    "collapsed": true
	   },
	   "outputs": [],
"source": [
"// Scilab Code Ex12.2: Page-436 (2014)\n",
"clc; clear;\n",
"c = 3.00e+008;    // Speed of light, m/s\n",
"e = 1.602e-019;    // Energy equivalent of 1 eV, J\n",
"m_e = 0.511;    // Rest mass energy of electron, MeV\n",
"m_p = 938.3;    // Rest mass energy of proton, MeV\n",
"h = 6.62e-034;    // Planck's constant, Js\n",
"A = 40;    // Mass number of Ca-40\n",
"r0 = 1.2;    // Nuclear radius constant, fm\n",
"R = r0*A^(1/3);    // Radius of Ca-40 nucleus, fm\n",
"printf('\nThe radius of Ca-40 nucleus = %3.1f fm', R);\n",
"lambda = 2.0;    // de-Broglie wavelength to distinguish a distance at least half the radius, fm\n",
"// Electron energy\n",
"E = ceil(sqrt(m_e^2+(h*c/(lambda*e*1e+006*1e-015))^2));    // Total energy of the probing electron, MeV\n",
"K = E - m_e;    // Kinetic energy of probing electron, MeV\n",
"printf('\nThe kinetic energy of probing electron = %3d MeV', ceil(K));\n",
"// Proton energy\n",
"E = ceil(sqrt(m_p^2+(h*c/(lambda*e*1e+006*1e-015))^2));    // Total energy of the probing electron, MeV\n",
"K = E - m_p;    // Kinetic energy of probing electron, MeV\n",
"printf('\nThe kinetic energy of probing proton = %3d MeV', ceil(K));\n",
" \n",
"// Result\n",
"//The radius of Ca-40 nucleus = 4.1 fm\n",
"// The kinetic energy of probing electron = 620 MeV\n",
"// The kinetic energy of probing proton = 187 MeV \n",
"// The answers are deviated due to the approximations used in the textbook"
   ]
   }
,
{
		   "cell_type": "markdown",
		   "metadata": {},
		   "source": [
			"## Example 12.3: Radii_of_U238_and_He4_nuclei.sce"
		   ]
		  },
  {
"cell_type": "code",
	   "execution_count": null,
	   "metadata": {
	    "collapsed": true
	   },
	   "outputs": [],
"source": [
"// Scilab Code Ex12.3: Page-437 (2014)\n",
"clc; clear;\n",
"A_U238 = 238;    // Mass number of U-238\n",
"A_He4 = 4;    // Mass number of He-4\n",
"r0 = 1.2;    // Nuclear radius constant, nm\n",
"R_U238 = r0*A_U238^(1/3);    // Radius of U-238 nucleus, fm\n",
"R_He4 = r0*A_He4^(1/3);    // Radius of He-4 nucleus, fm\n",
"printf('\nThe radii of U-238 and He-4 nuclei are %3.1f fm and %3.1f fm repectively', R_U238, R_He4);\n",
"ratio = R_U238/R_He4;    // Ratio of the two radii\n",
"printf('\nThe ratio of radius to U-238 to that of He-4 = %3.1f', ratio);\n",
"\n",
"// Result\n",
"// The radii of U-238 and He-4 nuclei are 7.4 fm and 1.9 fm repectively\n",
"// The ratio of radius to U-238 to that of He-4 = 3.9 "
   ]
   }
,
{
		   "cell_type": "markdown",
		   "metadata": {},
		   "source": [
			"## Example 12.4: A_proton_subjected_to_the_magnetic_field.sce"
		   ]
		  },
  {
"cell_type": "code",
	   "execution_count": null,
	   "metadata": {
	    "collapsed": true
	   },
	   "outputs": [],
"source": [
"// Scilab Code Ex12.4: Page-438 (2014)\n",
"clc; clear;\n",
"h = 6.62e-034;    // Planck's constant, Js\n",
"c = 3.00e+008;    // Speed of light, m/s\n",
"e = 1.602e-019;    // Energy equivalent of 1 eV, J\n",
"B = 2.0;    // Applied magnetic field, T\n",
"mu_N = 3.15e-008;    // Nucleon magnetic moment, eV/T\n",
"mu_p = 2.79*mu_N;    // Proton magnetic moment, eV/T\n",
"delta_E = 2*mu_p*B;    // Energy difference between the up and down proton states, eV\n",
"f = delta_E*e/h;    // Frequency of electromagnetic radiation that flips the proton spins, Hz\n",
"lambda = c/f;    // Wavelength of electromagnetic radiation that flips the proton spins, m\n",
"printf('\nThe energy difference between the up and down proton states = %3.1e eV', delta_E);\n",
"printf('\nThe frequency of electromagnetic radiation that flips the proton spins = %2d MHz', f/1e+006);\n",
"printf('\nThe wavelength of electromagnetic radiation that flips the proton spins = %3.1f m', lambda);\n",
"\n",
"// Result\n",
"// The energy difference between the up and down proton states = 3.5e-007 eV\n",
"// The frequency of electromagnetic radiation that flips the proton spins = 85 MHz\n",
"// The wavelength of electromagnetic radiation that flips the proton spins = 3.5 m "
   ]
   }
,
{
		   "cell_type": "markdown",
		   "metadata": {},
		   "source": [
			"## Example 12.5: Binding_energy_of_Be.sce"
		   ]
		  },
  {
"cell_type": "code",
	   "execution_count": null,
	   "metadata": {
	    "collapsed": true
	   },
	   "outputs": [],
"source": [
"// Scilab Code Ex12.5: Page-443 (2014)\n",
"clc; clear;\n",
"c = 3.00e+008;    // Speed of light, m/s\n",
"e = 1.602e-019;    // Energy equivalent of 1 eV, J\n",
"u = 931.5;    // Energy equivalent of 1 amu, MeV\n",
"m_n = 1.008665;    // Mass of a neutron, u\n",
"M_H = 1.007825;    // Mass of a proton, u\n",
"M_He = 4.002603;    // Mass of helium nucleus\n",
"M_Be = 8.005305;    // Mass of Be-8, u\n",
"B_Be = (4*m_n+4*M_H - M_Be)*u;\n",
"B_Be_2alpha = (2*M_He - M_Be)*u;\n",
"printf('\nThe binding energy of Be-8 = %4.1f MeV and is positive', B_Be);\n",
"if (B_Be_2alpha > 0) then\n",
"    printf('\nThe Be-4 is stable w.r.t. decay into two alpha particles.');\n",
"else\n",
"    printf('\nThe Be-4 is unstable w.r.t. decay into two alpha particles since the decay has binding energy of %5.3f MeV', B_Be_2alpha);     \n",
"end\n",
"\n",
"// Result\n",
"// The binding energy of Be-8 = 56.5 MeV and is positive\n",
"// The Be-4 is unstable w.r.t. decay into two alpha particles since the decay has binding energy of -0.092 MeV "
   ]
   }
,
{
		   "cell_type": "markdown",
		   "metadata": {},
		   "source": [
			"## Example 12.6: Total_Coulomb_energy_of_U238.sce"
		   ]
		  },
  {
"cell_type": "code",
	   "execution_count": null,
	   "metadata": {
	    "collapsed": true
	   },
	   "outputs": [],
"source": [
"// Scilab Code Ex12.6: Page-444 (2014)\n",
"clc; clear;\n",
"Z = 92;    // Atomic number of U-238\n",
"A = 238;    // Mass number of U-238\n",
"E_Coul = 0.72*Z*(Z-1)*A^(-1/3);    // Total Coulomb energy of U-238, MeV\n",
"printf('\nThe total Coulomb energy of U-238 = %3d MeV', E_Coul);\n",
"\n",
"// Result\n",
"// The total Coulomb energy of U-238 = 972 MeV "
   ]
   }
,
{
		   "cell_type": "markdown",
		   "metadata": {},
		   "source": [
			"## Example 12.8: Binding_energy_per_nucleon.sce"
		   ]
		  },
  {
"cell_type": "code",
	   "execution_count": null,
	   "metadata": {
	    "collapsed": true
	   },
	   "outputs": [],
"source": [
"// Scilab Code Ex12.8: Page-447 (2014)\n",
"clc; clear;\n",
"u = 931.5;    // Energy equivalent of 1 amu, MeV\n",
"m_p = 1.007825;    // Mass of proton, amu\n",
"m_n = 1.008665;     // Mass of neutron, amu\n",
"M_Ne = 19.992440; // Mass of Ne-20 nucleus, amu\n",
"M_Fe = 55.934942;    // Mass of Fe-56 nucleus, amu\n",
"M_U = 238.050783;    // Mass of U-238 nucleus, amu\n",
"A_Ne = 20;    // Mass number of Ne-20 nucleus\n",
"A_Fe = 56;    // Mass number of Fe-56 nucleus\n",
"A_U = 238;    // Mass number of U-238 nucleus\n",
"BE_Ne = [10*m_p+10*m_n-M_Ne]*u;    // Binding energy of Ne-20 nucleus, MeV\n",
"BE_Fe = [26*m_p+30*m_n-M_Fe]*u;    // Binding energy of Fe-56 nucleus, MeV\n",
"BE_U = [92*m_p+146*m_n-M_U]*u;    // Binding energy of U-238 nucleus, MeV\n",
"printf('\nThe binding energy per nucleon for Ne-20 : %4.2f MeV/nucleon', BE_Ne/A_Ne);\n",
"printf('\nThe binding energy per nucleon for Fe-56 : %4.2f MeV/nucleon', BE_Fe/A_Fe);\n",
"printf('\nThe binding energy per nucleon for U-238 : %4.2f MeV/nucleon', BE_U/A_U);\n",
"\n",
"// Result\n",
"// The binding energy per nucleon for Ne-20 : 8.03 MeV/nucleon\n",
"// The binding energy per nucleon for Fe-56 : 8.79 MeV/nucleon\n",
"// The binding energy per nucleon for U-238 : 7.57 MeV/nucleon "
   ]
   }
],
"metadata": {
		  "kernelspec": {
		   "display_name": "Scilab",
		   "language": "scilab",
		   "name": "scilab"
		  },
		  "language_info": {
		   "file_extension": ".sce",
		   "help_links": [
			{
			 "text": "MetaKernel Magics",
			 "url": "https://github.com/calysto/metakernel/blob/master/metakernel/magics/README.md"
			}
		   ],
		   "mimetype": "text/x-octave",
		   "name": "scilab",
		   "version": "0.7.1"
		  }
		 },
		 "nbformat": 4,
		 "nbformat_minor": 0
}
