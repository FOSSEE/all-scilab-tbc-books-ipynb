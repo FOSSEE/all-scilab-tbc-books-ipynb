{
"cells": [
 {
		   "cell_type": "markdown",
	   "metadata": {},
	   "source": [
       "# Chapter 7: The Hydrogen Atom"
	   ]
	},
{
		   "cell_type": "markdown",
		   "metadata": {},
		   "source": [
			"## Example 7.10: Energy_of_allowed_transitions_for_the_hydrogen_atom.sce"
		   ]
		  },
  {
"cell_type": "code",
	   "execution_count": null,
	   "metadata": {
	    "collapsed": true
	   },
	   "outputs": [],
"source": [
"// Scilab Code Ex7.10: Page-263 (2014)\n",
"clc; clear;\n",
"function flag = check_allowance(dn, dl, dml, dms)\n",
"    if (dl == -1 | dl == 1 | dml == -1 | dml == 0 | dml == 1 | dms == -1 | dms == 0 | dms == 1) & dl <> 0 then\n",
"        flag = 1;\n",
"    else\n",
"        flag = 0;    \n",
"    end\n",
"endfunction\n",
"state = [2 0 0 1/2; 3 1 1 1/2; 2 0 0 1/2; 3 0 0 1/2; 4 2 -1 -1/2; 2 1 0 1/2];\n",
"for i = 1:2:5\n",
"    flag = 0; \n",
"    d_n = state(i,1) - state(i+1,1);\n",
"    d_l = state(i,2) - state(i+1,2);\n",
"    d_m_l = state(i,3) - state(i+1,3);\n",
"    d_m_s = state(i,4) - state(i+1,4);\n",
"    flag = check_allowance(d_n, d_l, d_m_l, d_m_s);\n",
"    if flag == 1 then\n",
"        printf('\n\nThe transition (%d,%d,%d,1/%d) --> (%d,%d,%d,1/%d) is allowed', state(i,1), state(i,2), state(i,3), state(i,4)*4, state(i+1,1), state(i+1,2), state(i+1,3), state(i+1,4)*4);\n",
"        delta_E = -13.6*(1/state(i+1)^2-1/state(i)^2);\n",
"        printf('\nThe energy of this transition is %4.2f eV', delta_E);\n",
"    else \n",
"        printf('\n\nThe transition (%d,%d,%d, %d)--> (%d,%d,%d,%d) is not allowed', state(i,1), state(i,2), state(i,3), state(i,4), state(i+1,1), state(i+1,2), state(i+1,3), state(i+1,4));\n",
"    end\n",
"end\n",
"\n",
"// Result\n",
"// The transition (2,0,0,1/2) --> (3,1,1,1/2) is allowed\n",
"// The energy of this transition is 1.89 eV\n",
"\n",
"// The transition (2,0,0, 0)--> (3,0,0,0) is not allowed\n",
"\n",
"// The transition (4,2,-1,1/-2) --> (2,1,0,1/2) is allowed\n",
"// The energy of this transition is -2.55 eV "
   ]
   }
,
{
		   "cell_type": "markdown",
		   "metadata": {},
		   "source": [
			"## Example 7.13: Probability_of_the_electron_in_the_1s_state_of_the_hydrogen_atom.sce"
		   ]
		  },
  {
"cell_type": "code",
	   "execution_count": null,
	   "metadata": {
	    "collapsed": true
	   },
	   "outputs": [],
"source": [
"// Scilab Code Ex7.13: Page-265 (2014)\n",
"clc; clear;\n",
"a0 = 1;    // For simplicity assume bohr radius to be unity\n",
"P = integrate('4/a0^3*exp(-2*r/a0)*r^2', 'r', a0, 10);\n",
"printf('\nThe probability of the electron in the 1s state of the hydrogen atom = %4.2f', P);\n",
"\n",
"// Result\n",
"// The probability of the electron in the 1s state of the hydrogen atom = 0.68 "
   ]
   }
,
{
		   "cell_type": "markdown",
		   "metadata": {},
		   "source": [
			"## Example 7.2: Normalization_of_hydrogen_wave_function.sce"
		   ]
		  },
  {
"cell_type": "code",
	   "execution_count": null,
	   "metadata": {
	    "collapsed": true
	   },
	   "outputs": [],
"source": [
"// Scilab Code Ex7.2: Page-248 (2014)\n",
"clc; clear;\n",
"a0 = 1;    // For simplicity assume Bohr radius to be unity, m\n",
"NE = 1/(64*%pi*a0^5)*integrate('r^4*exp(-r/a0)', 'r', 0, 15)*integrate('sin(t)^3', 't', 0, %pi)*integrate('p^0', 'p', 0, 2*%pi);\n",
"if round(NE) == 1  then\n",
"    printf('\nThe hydrogen wave function <211| is normalized');\n",
"else\n",
"    printf('\nThe hydrogen wave function <211| is not normalized');\n",
"end\n",
"\n",
"// Result\n",
"// The hydrogen wave function <211| is normalized "
   ]
   }
,
{
		   "cell_type": "markdown",
		   "metadata": {},
		   "source": [
			"## Example 7.4: Degeneracy_of_M_level_in_hydrogen_atom.sce"
		   ]
		  },
  {
"cell_type": "code",
	   "execution_count": null,
	   "metadata": {
	    "collapsed": true
	   },
	   "outputs": [],
"source": [
"// Scilab Code Ex7.4: Page-252 (2014)\n",
"clc; clear;\n",
"n = 3;    // Principal quantum number\n",
"Total = 0;\n",
"printf('\nn    l    m_l               2(l + 1)');\n",
"printf('\n------------------------------------');\n",
"for l = 0:1:n-1\n",
"    printf('\n%d', n);\n",
"    printf('    %d    ', l);\n",
"        if l > 0 then\n",
"            count = 0;\n",
"           for m_l = -l:1:l\n",
"              printf('%2d ', m_l); \n",
"              count = count + 1;\n",
"           end \n",
"           if  l == 1 then\n",
"               printf('      ');\n",
"           else\n",
"               printf('');\n",
"           end\n",
"        else\n",
"              m_l = 0;\n",
"              count = 0;\n",
"              printf('%2d             ', m_l); \n",
"              count = count + 1;\n",
"        end\n",
"        printf('     %d', count);\n",
"        Total = Total + count;\n",
"end\n",
"printf('\n                      Total = %d', Total);\n",
"\n",
"// Result\n",
"// n    l    m_l               2(l + 1)\n",
"// ------------------------------------\n",
"// 3    0     0                  1\n",
"// 3    1    -1  0  1            3\n",
"// 3    2    -2 -1  0  1  2      5\n",
"//                       Total = 9 "
   ]
   }
,
{
		   "cell_type": "markdown",
		   "metadata": {},
		   "source": [
			"## Example 7.7: EX7_7.sce"
		   ]
		  },
  {
"cell_type": "code",
	   "execution_count": null,
	   "metadata": {
	    "collapsed": true
	   },
	   "outputs": [],
"source": [
"// Scilab Code Ex7.7: Page-255 (2014)\n",
"clc; clear;\n",
"e = 1.602e-019;    // Charge on an electron, C\n",
"h = 6.62e-034;    // Planck's constant, Js\n",
"h_bar = h/(2*%pi);    // Reduced Planck's constant, Js\n",
"m = 9.11e-031;    // Electron mass, kg\n",
"B = 2.00;    // External magnetic field, T\n",
"m_l1 = 0;    // Lower orbial magnetic quantum number\n",
"m_l2 = 1;    // Upper orbial magnetic quantum number\n",
"delta_m_l = m_l2 - m_l1;    // Change in m_l\n",
"mu_B = e*h_bar/(2*m);    // Bohr's magneton, J/T\n",
"delta_E = mu_B*B*delta_m_l/e;    // Energy difference between components of p states of atomic hydrogen placed in the external field, eV\n",
"printf('\nThe value of Bohr magneton = %4.2e J/T', mu_B);\n",
"printf('\nThe energy difference between components of p states of atomic hydrogen placed in the external field = %4.2e eV', delta_E);\n",
"\n",
"// Result\n",
"// The value of Bohr magneton = 9.26e-024 J/T\n",
"// The energy difference between components of p states of atomic hydrogen placed in the external field = 1.16e-004 eV "
   ]
   }
,
{
		   "cell_type": "markdown",
		   "metadata": {},
		   "source": [
			"## Example 7.8: Separation_of_the_atomic_beam.sce"
		   ]
		  },
  {
"cell_type": "code",
	   "execution_count": null,
	   "metadata": {
	    "collapsed": true
	   },
	   "outputs": [],
"source": [
"// Scilab Code Ex7.8: Page-257 (2014)\n",
"clc; clear;\n",
"m = 1.67e-027;    // Mass of the proton, kg\n",
"k = 1.38e-023;    // Boltzmann constant, J/K\n",
"T = 663;    // Temperature of the discharge tube, K\n",
"v_x = sqrt(3*k*T/m);    // Average speed of the hydrogen atom\n",
"mu_z = 9.27e-024;    // Bohr's magneton, J/T\n",
"B_grad = 1240;    // Magnetic field gradient, T/m\n",
"delta_x = 0.03;    // Length of the homogeneous magnetic field, m\n",
"d = 1/(2*m)*(mu_z*B_grad)*(delta_x/v_x)^2;    // Separation of the atomic beam, m\n",
"printf('\nThe separation of the atomic beam = %4.2f mm', d/1e-003);\n",
"\n",
"// Result\n",
"// The separation of the atomic beam = 0.19 mm "
   ]
   }
,
{
		   "cell_type": "markdown",
		   "metadata": {},
		   "source": [
			"## Example 7.9: Number_of_distinct_states_for_the_4d_level_of_atomic_hydrogen.sce"
		   ]
		  },
  {
"cell_type": "code",
	   "execution_count": null,
	   "metadata": {
	    "collapsed": true
	   },
	   "outputs": [],
"source": [
"// Scilab Code Ex7.9: Page-259 (2014)\n",
"clc; clear;\n",
"n = 4;    // Principal quantum number\n",
"l = 2;    // For 4d-state\n",
"printf('\nn    l         m_l      m_s');\n",
"printf('\n-------------------------------');\n",
"     count = 0;\n",
"     for m_l = -l:1:l\n",
"         if (m_l == 0) then\n",
"             printf('\n%d', n);\n",
"             printf('    %d    ', l);\n",
"             printf('     %2d', m_l); \n",
"             printf('    +1/2, -1/2');\n",
"         else    \n",
"             printf('\n               %2d', m_l); \n",
"             printf('    +1/2, -1/2');             \n",
"         end\n",
"         count = count + 2;\n",
"     end \n",
"printf('\nTotal No. of different states for 4d level of atomic hydrogen = %d', count);\n",
"\n",
"// Result\n",
"// n    l         m_l      m_s\n",
"// -------------------------------\n",
"//                -2    +1/2, -1/2\n",
"//                -1    +1/2, -1/2\n",
"// 4    2          0    +1/2, -1/2\n",
"//                 1    +1/2, -1/2\n",
"//                 2    +1/2, -1/2\n",
"// Total No. of different states for 4d level of atomic hydrogen = 10 "
   ]
   }
],
"metadata": {
		  "kernelspec": {
		   "display_name": "Scilab",
		   "language": "scilab",
		   "name": "scilab"
		  },
		  "language_info": {
		   "file_extension": ".sce",
		   "help_links": [
			{
			 "text": "MetaKernel Magics",
			 "url": "https://github.com/calysto/metakernel/blob/master/metakernel/magics/README.md"
			}
		   ],
		   "mimetype": "text/x-octave",
		   "name": "scilab",
		   "version": "0.7.1"
		  }
		 },
		 "nbformat": 4,
		 "nbformat_minor": 0
}
