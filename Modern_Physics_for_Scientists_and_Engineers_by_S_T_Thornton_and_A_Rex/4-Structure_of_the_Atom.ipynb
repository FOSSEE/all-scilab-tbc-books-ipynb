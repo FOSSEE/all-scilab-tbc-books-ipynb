{
"cells": [
 {
		   "cell_type": "markdown",
	   "metadata": {},
	   "source": [
       "# Chapter 4: Structure of the Atom"
	   ]
	},
{
		   "cell_type": "markdown",
		   "metadata": {},
		   "source": [
			"## Example 4.1: Maximum_scattering_angle_in_Geiger_and_Marsden_experiment.sce"
		   ]
		  },
  {
"cell_type": "code",
	   "execution_count": null,
	   "metadata": {
	    "collapsed": true
	   },
	   "outputs": [],
"source": [
"// Scilab Code Ex4.1: Page-129 (2013)\n",
"clc; clear\n",
"m_e = 0.000549;    // Rest mass of an electron, u\n",
"m_He = 4.002603;    // Rest mass of a helium, u\n",
"M_alpha = m_He - 2*m_e;    // Mass of alpha particle, u\n",
"theta_max = 2*m_e/M_alpha;    // Maximum scttering angle for aplha particle, rad\n",
"printf('\nThe maximum scttering angle for aplha particle = %5.3f degrees', theta_max*180/%pi);\n",
"\n",
"// Result\n",
"// The maximum scttering angle for aplha particle = 0.016 degrees "
   ]
   }
,
{
		   "cell_type": "markdown",
		   "metadata": {},
		   "source": [
			"## Example 4.2: Fraction_of_alpha_particles_deflected_from_a_gold_foil.sce"
		   ]
		  },
  {
"cell_type": "code",
	   "execution_count": null,
	   "metadata": {
	    "collapsed": true
	   },
	   "outputs": [],
"source": [
"// Scilab Code Ex4.2: Page-137 (2013)\n",
"clc; clear\n",
"rho = 19.3;    // Density of gold, g/cc\n",
"N_A = 6.02e+023;    // Avogadro's number\n",
"N_M = 1;    // Number of atoms per molecule\n",
"M_g = 197;    // Gram atomic mass of gold, g/mol\n",
"n = rho*N_A*N_M/(M_g*1e-006);    // Number density of gold atoms, atoms/metre-cube\n",
"Z1 = 79;    // Atomic number of gold\n",
"Z2 = 2;    // Atomic number of He nucleus\n",
"t = 1e-006;    // Thickness of the gold foil, m\n",
"e = 1.602e-019;    // Charge on an electron, C\n",
"k = 9e+009;    // Coulomb constant, N-Sq.m/C^2\n",
"theta = 90;    // Angle of deflection of alpha particle, degrees\n",
"K = 7.7;    // Kinetic energy of alpha particles, MeV\n",
"f = %pi*n*t*(Z1*Z2*e^2*k/(2*1.6e-013*K))^2*cotd(theta/2)^2; // The fraction of alpha particles deflected\n",
"printf('\nThe fraction of alpha particles deflected = %1.0e', f);\n",
"\n",
"// Result\n",
"// The fraction of alpha particles deflected = 4e-005 "
   ]
   }
,
{
		   "cell_type": "markdown",
		   "metadata": {},
		   "source": [
			"## Example 4.3: Fraction_of_alpha_particles_deflected_from_goil_foil_at_a_given_angle.sce"
		   ]
		  },
  {
"cell_type": "code",
	   "execution_count": null,
	   "metadata": {
	    "collapsed": true
	   },
	   "outputs": [],
"source": [
"// Scilab Code Ex4.3: Page-138 (2013)\n",
"clc; clear\n",
"rho = 19.3;    // Density of gold, g/cc\n",
"N_A = 6.02e+023;    // Avogadro's number\n",
"N_M = 1;    // Number of atoms per molecule\n",
"M_g = 197;    // Gram atomic mass of gold, g/mol\n",
"n = rho*N_A*N_M/(M_g*1e-006);    // Number density of gold atoms, atoms/metre-cube\n",
"Z1 = 79;    // Atomic number of gold\n",
"Z2 = 2;    // Atomic number of He nucleus\n",
"t = 2.1e-007;    // Thickness of the gold foil, m\n",
"e = 1.602e-019;    // Charge on an electron, C\n",
"k = 9e+009;    // Coulomb constant, N-Sq.m/C^2\n",
"r = 1e-002;    // Distance of the alpha particles from the target, m\n",
"theta = 45;    // Angle of deflection of alpha particle, degrees\n",
"K = 7.7;    // Kinetic energy of alpha particles, MeV\n",
"f = n*t*(Z1*Z2*e^2*k)^2/((r*1.6e-013*K)^2*sind(theta/2)^4*16); // The fraction of alpha particles deflected\n",
"printf('\nThe fraction of alpha particles deflected at %d degrees = %3.1e per mm square', theta, f/1e+006);\n",
"\n",
"// Result\n",
"// The fraction of alpha particles deflected at 45 degrees = 3.2e-007 per mm square "
   ]
   }
,
{
		   "cell_type": "markdown",
		   "metadata": {},
		   "source": [
			"## Example 4.5: Size_of_the_nucleus.sce"
		   ]
		  },
  {
"cell_type": "code",
	   "execution_count": null,
	   "metadata": {
	    "collapsed": true
	   },
	   "outputs": [],
"source": [
"// Scilab Code Ex4.5:Page-139 (2013)\n",
"clc; clear\n",
"Z1 = 2;    // Atomic number of He nucleus\n",
"Z2 = 13;    // Atomic number of aluminium\n",
"e = 1.602e-019;    // Charge on an electron, C\n",
"k = 9e+009;    // Coulomb constant, N-Sq.m/C^2\n",
"K = 7.7;    // Kinetic energy of alpha particles, MeV\n",
"r_min = Z1*Z2*e^2*k/(K*1.6e-013);    // Size of the aluminium nucleus, m\n",
"printf('\nThe size of the aluminium nucleus = %3.1e m', r_min);\n",
"\n",
"// Result\n",
"// The size of the aluminium nucleus = 4.9e-015 m \n",
"\n",
"\n",
"// Result\n",
"// The maximum scttering angle for aplha particle = 0.016 degrees "
   ]
   }
,
{
		   "cell_type": "markdown",
		   "metadata": {},
		   "source": [
			"## Example 4.6: Nonrelativistic_justification_for_the_spped_of_the_electron.sce"
		   ]
		  },
  {
"cell_type": "code",
	   "execution_count": null,
	   "metadata": {
	    "collapsed": true
	   },
	   "outputs": [],
"source": [
"// Scilab Code Ex4.6: Page-140 (2013)\n",
"clc; clear\n",
"c = 3.00e+008;    // Speed of light, m/s\n",
"r = 0.5e-010;    // Radius of the atom, m\n",
"e = 1.6e-019;    // Charge on an electron, C\n",
"m_e = 9.11e-031;    // Mass of the electron, kg\n",
"k = 9e+009;    // Coulomb constant, N-Sq.m/C^2\n",
"v = e*k^(1/2)/(m_e*r)^(1/2);    // Speed of the electron, m/s\n",
"if v < 0.01*c then\n",
"    printf('\nThe nonrelativistic treatment for calculating speed of the electron = %3.1e m/s is justified', v);\n",
"end\n",
"\n",
"// Result\n",
"// The nonrelativistic treatment for calculating speed of the electron = 2.2e+006 m/s is justified "
   ]
   }
,
{
		   "cell_type": "markdown",
		   "metadata": {},
		   "source": [
			"## Example 4.7: Longest_and_shortest_wavelengths_observed_in_Paschen_series_for_hydrogen.sce"
		   ]
		  },
  {
"cell_type": "code",
	   "execution_count": null,
	   "metadata": {
	    "collapsed": true
	   },
	   "outputs": [],
"source": [
"// Scilab Code Ex4.7: Page-146(2013)\n",
"clc; clear\n",
"function region = check_region(lambda)\n",
"    if lambda >= 400 & lambda < 700 then\n",
"        region = 'visible';\n",
"        else region = 'infrared';\n",
"    end\n",
"endfunction\n",
"n_l = 3;    // Lower electron orbit in Paschen series\n",
"n_u = [4, %inf];    // First and limiting upper orbits in Paschen series\n",
"R_inf = 1.0974e+007;    // Rydberg constant, per metre\n",
"lambda_max = 1/(R_inf*(1/n_l^2-1/n_u(1)^2)*1e-009);    // The longest wavelength in Paschen series, nm\n",
"region = check_region(lambda_max);    // Check for the region\n",
"printf('\nThe maximum wavelength is %d nm and is in the %s region', ceil(lambda_max), region);\n",
"lambda_min = 1/(R_inf*(1/n_l^2-1/n_u(2)^2)*1e-009);    // The shortest wavelength in Paschen series, nm\n",
"region = check_region(lambda_min);    // Check for the region\n",
"printf('\nThe minimum wavelength is %d nm and is also in the %s region', lambda_min, region);\n",
"\n",
"// Result\n",
"// The maximum wavelength is 1875 nm and is in the infrared region\n",
"// The minimum wavelength is 820 nm and is also in the infrared region "
   ]
   }
,
{
		   "cell_type": "markdown",
		   "metadata": {},
		   "source": [
			"## Example 4.8: Wavelengts_of_H_alpha_lines_for_three_isotopes_of_hydrogen.sce"
		   ]
		  },
  {
"cell_type": "code",
	   "execution_count": null,
	   "metadata": {
	    "collapsed": true
	   },
	   "outputs": [],
"source": [
"// Scilab Code Ex4.8: Page-149(2013)\n",
"clc; clear\n",
"m_e = 0.0005486;    // Mass of an electron u\n",
"m_p = 1.007276;    // Mass of a proton, u\n",
"m_d = 2.013553;    // Mass of a deutron, u\n",
"m_t = 3.015500;    // Mass of a triton, u\n",
"R_inf = 1.0974e+007;    // Rydberg constant, per metre\n",
"R_H = 1/(1+m_e/m_p)*R_inf;    // Rydberg constant for hydrogen\n",
"R_D = 1/(1+m_e/m_d)*R_inf;    // Rydberg constant for deuterium\n",
"R_T = 1/(1+m_e/m_t)*R_inf;    // Rydberg constant for tritium\n",
"lambda_H = 1/(R_H*(1/2^2-1/3^2)*1e-009);    // Wavelength of H_alpha line for hydrogen, nm\n",
"lambda_D = 1/(R_D*(1/2^2-1/3^2)*1e-009);    // Wavelength of H_alpha line for deuterium, nm\n",
"lambda_T = 1/(R_T*(1/2^2-1/3^2)*1e-009);    // Wavelength of H_alpha line for tritium, nm\n",
"printf('\nThe wavelength of H_alpha line for hydrogen = %6.2f nm', lambda_H);\n",
"printf('\nThe wavelength of H_alpha line for deutruim = %6.2f nm', lambda_D);\n",
"printf('\nThe wavelength of H_alpha line for tritium = %6.2f nm', lambda_T);\n",
"\n",
"// Result\n",
"// The wavelength of H_alpha line for hydrogen = 656.45 nm\n",
"// The wavelength of H_alpha line for deutruim = 656.27 nm\n",
"// The wavelength of H_alpha line for tritium = 656.22 nm "
   ]
   }
,
{
		   "cell_type": "markdown",
		   "metadata": {},
		   "source": [
			"## Example 4.9: Shortest_wavelength_emitted_by_doubly_positive_Li_ion.sce"
		   ]
		  },
  {
"cell_type": "code",
	   "execution_count": null,
	   "metadata": {
	    "collapsed": true
	   },
	   "outputs": [],
"source": [
"// Scilab Code Ex4.9: Page-150 (2013)\n",
"clc; clear\n",
"R = 1.0974e+007;    // Rydberg constant, per metre\n",
"Z = 3;    // Atomic number of Li\n",
"n_l = 1;    // Lower orbit of Li++ ion\n",
"n_u = %inf;    // Limiting orbit of Li++ ion\n",
"lambda = 1/(Z^2*R*(1/n_l^2-1/n_u^2)*1e-009);    // The shortest wavelentgh emitted by Li++ ion, nm\n",
"printf('\nThe shortest wavelentgh emitted by Li++ ion = %4.1f nm', lambda);\n",
"\n",
"// Result\n",
"// The shortest wavelentgh emitted by Li++ ion = 10.1 nm "
   ]
   }
],
"metadata": {
		  "kernelspec": {
		   "display_name": "Scilab",
		   "language": "scilab",
		   "name": "scilab"
		  },
		  "language_info": {
		   "file_extension": ".sce",
		   "help_links": [
			{
			 "text": "MetaKernel Magics",
			 "url": "https://github.com/calysto/metakernel/blob/master/metakernel/magics/README.md"
			}
		   ],
		   "mimetype": "text/x-octave",
		   "name": "scilab",
		   "version": "0.7.1"
		  }
		 },
		 "nbformat": 4,
		 "nbformat_minor": 0
}
