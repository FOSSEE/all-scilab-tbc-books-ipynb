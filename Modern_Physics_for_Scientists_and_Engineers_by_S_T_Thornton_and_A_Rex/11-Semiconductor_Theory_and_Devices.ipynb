{
"cells": [
 {
		   "cell_type": "markdown",
	   "metadata": {},
	   "source": [
       "# Chapter 11: Semiconductor Theory and Devices"
	   ]
	},
{
		   "cell_type": "markdown",
		   "metadata": {},
		   "source": [
			"## Example 11.1: Relative_number_of_electrons_with_given_energies_above_the_valence_band.sce"
		   ]
		  },
  {
"cell_type": "code",
	   "execution_count": null,
	   "metadata": {
	    "collapsed": true
	   },
	   "outputs": [],
"source": [
"// Scilab Code Ex11.1 : Page-399 (2014)\n",
"clc; clear;\n",
"e = 1.6e-019;    // Energy equivalent of 1 eV, J\n",
"k = 1.38e-023;    // Boltzmann constant, J/K\n",
"T = 293;    // Room temperature, K\n",
"dE = [0.10, 1.0, 10.0];    // Energies above the valence band, eV\n",
"F_FD = zeros(3);\n",
"for i = 1:1:3\n",
"    F_FD(i) = 1/(exp(dE(i)*e/(k*T)) + 1);\n",
"    printf('\nFor E - E_F = %4.2f eV, F_FD = %4.2e', dE(i), F_FD(i));\n",
"end\n",
"\n",
"// Result\n",
"// For E - E_F = 0.10 eV, F_FD = 1.88e-002\n",
"// For E - E_F = 1.00 eV, F_FD = 6.53e-018\n",
"// For E - E_F = 10.00 eV, F_FD = 1.40e-172 "
   ]
   }
,
{
		   "cell_type": "markdown",
		   "metadata": {},
		   "source": [
			"## Example 11.3: Hall_effect_in_zinc_strip.sce"
		   ]
		  },
  {
"cell_type": "code",
	   "execution_count": null,
	   "metadata": {
	    "collapsed": true
	   },
	   "outputs": [],
"source": [
"\n",
"// Scilab Code Ex11.3: Page-402 (2014)\n",
"clc; clear;\n",
"e = 1.6e-019;    // Energy equivalent of 1 eV, J\n",
"rho = 5.92e-008;    // Resistivity of the zinc at room temperature, ohm-m\n",
"B = 0.25;    // Magnetic field applied perpendicular to the strip, T\n",
"x = 10.0e-002;    // Length of the zinc strip, m\n",
"y = 2.0e-002;    // Width of the zinc strip, m\n",
"V = 20e-003;    // Potential difference applied across the strip, V\n",
"I = 0.400;    // Current through the strip, A\n",
"V_H = 0.56e-006;    // Hall voltage that appeared across the strip, V\n",
"z = rho*x*I/(y*V);    // Thickness of the strip, m\n",
"n = I*B/(e*V_H*z);    // Number density of the charge carriers, per metre cube\n",
"printf('\nThe thickness of the zinc strip = %4.2e m', z);\n",
"printf('\nThe number density of the charge carriers = %4.2e per metre cube', n);\n",
"printf('\nThe charge carries in zinc are positive.');\n",
"\n",
"// Result\n",
"// The thickness of the zinc strip = 5.92e-006 m\n",
"// The number density of the charge carriers = 1.89e+029 per metre cube\n",
"// The charge carries in zinc are positive. "
   ]
   }
,
{
		   "cell_type": "markdown",
		   "metadata": {},
		   "source": [
			"## Example 11.4: Current_through_a_reverse_bias_pn_junction_diode.sce"
		   ]
		  },
  {
"cell_type": "code",
	   "execution_count": null,
	   "metadata": {
	    "collapsed": true
	   },
	   "outputs": [],
"source": [
"// Scilab Code Ex11.4: Page-408 (2014)\n",
"clc; clear;\n",
"e = 1.602e-019;    // Energy equivalent of 1 eV, J\n",
"k = 1.38e-023;    // Boltzmann constant, J/K\n",
"T = 293;    // Room temperature, K\n",
"V_f = 0.200;    // Forward voltage, V\n",
"I_f = 50e-003;    // Forward current, A\n",
"V_r = -0.200;    // Reverse voltage, V\n",
"I_r = I_f*(exp(e*V_r/(k*T))-1)/(exp(e*V_f/(k*T)) - 1);    // Reverse current from diode equation, A\n",
"printf('\nThe reverse current through pn-juntion diode = %2d micro-ampere', I_r/1e-006);\n",
"\n",
"// Result\n",
"// The reverse current through pn-juntion diode = -18 micro-ampere "
   ]
   }
,
{
		   "cell_type": "markdown",
		   "metadata": {},
		   "source": [
			"## Example 11.5: Energy_produced_by_a_solar_cell_per_day.sce"
		   ]
		  },
  {
"cell_type": "code",
	   "execution_count": null,
	   "metadata": {
	    "collapsed": true
	   },
	   "outputs": [],
"source": [
"// Scilab Code Ex11.5: Page-412 (2014)\n",
"clc; clear;\n",
"A = 100*100;    // Area of solar cell, Sq.m\n",
"t = 12*60*60;    // Time for which the solar cell operates, s\n",
"phi = 680;    // Solar flux received by the solar cell, W/Sq.m\n",
"eta = 0.30    // Efficiency of the solar array\n",
"E_array = eta*phi*A*t;    // Energy produced by solar cell in one 12-hour day, J\n",
"printf('\nThe energy produced by solar cell in one 12-hour day : %3.1e J', E_array);\n",
"P = 100e+006;    // Power output of power plant, W\n",
"t = 24*60*60;    // Time for which power plant operates, s\n",
"E_plant = P*t;    // Energy produced by power plant, J\n",
"printf('\nThe energy produced by power plant in one day : %3.1e J which is about %d times more than that produced by solar cell array..!', E_plant, ceil(E_plant/E_array));\n",
"\n",
"// Result\n",
"// The energy produced by solar cell in one 12-hour day : 8.8e+010 J\n",
"// The energy produced by power plant in one day : 8.6e+012 J which is about 99 times more than that produced by solar cell array..! "
   ]
   }
,
{
		   "cell_type": "markdown",
		   "metadata": {},
		   "source": [
			"## Example 11.6: Data_bits_stored_into_CD_ROM.sce"
		   ]
		  },
  {
"cell_type": "code",
	   "execution_count": null,
	   "metadata": {
	    "collapsed": true
	   },
	   "outputs": [],
"source": [
"\n",
"// Scilab Code Ex11.6: Page-418 (2014)\n",
"clc; clear;\n",
"r1 = 2.30e-002;    // Radius of inner edge of storing region of CD-ROM, m\n",
"r2 =5.80e-002;    // Radius of outer edge of storing region of CD-ROM, m\n",
"A = %pi*(r2^2 - r1^2);    // Area of the usable region of CD-ROM, Sq.m\n",
"N = 700e+006*8;    // Total number of bits in CD-ROM\n",
"APB = A/N;    // Area per bit of CD-ROM, Sq.m/bit\n",
"t = 1.6e-006;    // Track width of CD_ROM, m\n",
"l = APB/t;    // Bit length, m\n",
"printf('\nThe surface area of CD-ROM allowed for each data bit = %3.1e Sq.m/bit', APB);\n",
"printf('\nThe approx. dimensions of each bit along the track = %1.0f micro-metre', l/1e-006);\n",
"\n",
"// Result\n",
"// The surface area of CD-ROM allowed for each data bit = 1.6e-012 Sq.m/bit\n",
"// The approx. dimensions of each bit along the track = 1 micro-metre "
   ]
   }
],
"metadata": {
		  "kernelspec": {
		   "display_name": "Scilab",
		   "language": "scilab",
		   "name": "scilab"
		  },
		  "language_info": {
		   "file_extension": ".sce",
		   "help_links": [
			{
			 "text": "MetaKernel Magics",
			 "url": "https://github.com/calysto/metakernel/blob/master/metakernel/magics/README.md"
			}
		   ],
		   "mimetype": "text/x-octave",
		   "name": "scilab",
		   "version": "0.7.1"
		  }
		 },
		 "nbformat": 4,
		 "nbformat_minor": 0
}
