{
"cells": [
 {
		   "cell_type": "markdown",
	   "metadata": {},
	   "source": [
       "# Chapter 16: Cosmology and Modern Astrophysics"
	   ]
	},
{
		   "cell_type": "markdown",
		   "metadata": {},
		   "source": [
			"## Example 16.1: Hubble_constant_determinantion.sce"
		   ]
		  },
  {
"cell_type": "code",
	   "execution_count": null,
	   "metadata": {
	    "collapsed": true
	   },
	   "outputs": [],
"source": [
"// Scilab Code Ex16.1: Page-581(2014)\n",
"clc; clear;\n",
"H0 = 22;    // Value of Hubble constant, km/s per million ly\n",
"parsec = 3.26;    // The value of 1 parsec, light years\n",
"printf('\nThe value of Hubble constant = %d km/s per Mpc', ceil(H0*parsec));\n",
"\n",
"// Result\n",
"// The value of Hubble constant = 72 km/s per Mpc "
   ]
   }
,
{
		   "cell_type": "markdown",
		   "metadata": {},
		   "source": [
			"## Example 16.2: Current_ratio_of_protons_to_neutrons_in_the_universe.sce"
		   ]
		  },
  {
"cell_type": "code",
	   "execution_count": null,
	   "metadata": {
	    "collapsed": true
	   },
	   "outputs": [],
"source": [
"// Scilab Code Ex16.2: Page-583(2014)\n",
"clc; clear;\n",
"M = 1;    // Let the current mass of the universe be unity\n",
"m_u = 1;    // Mass equivalent of 1 amu, u\n",
"N_n = 2;    // Number of neutrons in helium\n",
"N_p = 2;    // Number of protons in helium\n",
"M_p = 0.75*M*m_u;    // Total mass of protons\n",
"M_He = 0.25*M*m_u;    // Total mass of helium\n",
"N_fp = M_p/M_He*(N_n + N_p);    // Total number of free protons for every He-4\n",
"N_P = N_fp + N_p;    // Total number of protons per He-4\n",
"ratio = N_P/N_n;    // Current ratio of protons to the neutrons in the universe\n",
"printf('\nThe current ratio of protons to the neutrons in the universe = %d', ratio);\n",
" \n",
"// Result\n",
"// The current ratio of protons to the neutrons in the universe = 7 "
   ]
   }
,
{
		   "cell_type": "markdown",
		   "metadata": {},
		   "source": [
			"## Example 16.3: Ratio_of_protons_to_neutrons_at_10_billion_kelvin_temperature_of_the_universe.sce"
		   ]
		  },
  {
"cell_type": "code",
	   "execution_count": null,
	   "metadata": {
	    "collapsed": true
	   },
	   "outputs": [],
"source": [
"// Scilab Code Ex16.3: Page-587(2014)\n",
"clc; clear;\n",
"m_n = 939.566;    // Rest mass of the neutron, MeV/c^2\n",
"m_p = 938.272;    // Rest mass of the proton, MeV/c^2\n",
"e = 1.6e-019;    // Energy equivalent of 1 eV, J\n",
"c = 1;    // For simplicity assume speed of light of light to be unity\n",
"T = 1e+010;    // Temperature of the universe, K\n",
"delta_m = m_n - m_p;    // Mass difference between a proton and a neutron, MeV/c^2\n",
"k = 1.38e-023;    // Boltzmann constant, J/k\n",
"// As from Maxwell-Boltzmann distribution from thermodynamics, N = exp(-m*c^2/(k*T)), so\n",
"ratio = exp(delta_m*c^2*1e+006*e/(k*T));    // Ratio of protons to neutrons in the universe at 10 billion kelvin\n",
"printf('\nThe ratio of protons to neutrons in the universe at 10 billion kelvin = %3.1f', ratio);\n",
"\n",
"// Result\n",
"// The ratio of protons to neutrons in the universe at 10 billion kelvin = 4.5 "
   ]
   }
,
{
		   "cell_type": "markdown",
		   "metadata": {},
		   "source": [
			"## Example 16.4: Mean_temperature_of_the_sun.sce"
		   ]
		  },
  {
"cell_type": "code",
	   "execution_count": null,
	   "metadata": {
	    "collapsed": true
	   },
	   "outputs": [],
"source": [
"// Scilab Code Ex16.4: Page-589(2014)\n",
"clc; clear;\n",
"M = 1.99e+030;    // Mass of the sun, kg\n",
"G = 6.67e-011;    // Universal gravitational constant, N-Sq.m/kg^2\n",
"k = 1.38e-023;    // Boltzmann constant, J/K\n",
"R = 6.96e+008;    // Radius of the sun, m\n",
"m = 1.67e-027;    // Rest mass of the proton, kg\n",
"PE = 3/5*(G*M^2/R);    // Self potential energy of the sun, J\n",
"// As KE = 1/3*(M/m_p)*m_p*v^2, solving for v\n",
"v = sqrt(2*PE/M);    // Velocity of a proton inside the sun, m/s\n",
"// From kinetic theory of gases, v = sqrt(3*k*T/m), solving for T\n",
"T = m*v^2/(3*k);    // The mean temperature of the sun, K\n",
"printf('\nThe mean temperature of the sun = %1.0e K', T);\n",
"\n",
"// Result\n",
"// The mean temperature of the sun = 9e+006 K "
   ]
   }
,
{
		   "cell_type": "markdown",
		   "metadata": {},
		   "source": [
			"## Example 16.5: Radius_of_the_neutron_star.sce"
		   ]
		  },
  {
"cell_type": "code",
	   "execution_count": null,
	   "metadata": {
	    "collapsed": true
	   },
	   "outputs": [],
"source": [
"// Scilab Code Ex16.5: Page-590(2014)\n",
"clc; clear;\n",
"M_sun = 1.99e+030;    // Mass of the sun, kg\n",
"m_n = 1.675e-027;    // Rest mass of the neutron, kg\n",
"h = 6.62e-034;    // Planck's constant, Js\n",
"h_bar = h/(2*%pi);    // Planck's constant, Js\n",
"G = 6.67e-011;    // Universal gravitational constant, N-Sq.m/kg^2\n",
"N = 2*M_sun/m_n;    // Number of neutrons in the neutron star\n",
"V = (6.5*h_bar^2/(N^(1/3)*m_n^3*G))^3;    // Volume of the neutron star, metre cube\n",
"R = (3/(4*%pi)*V)^(1/3);    // The radius of neutron star, m\n",
"printf('\nThe radius of the neutron star of 2 solar masses = %d km', ceil(R/1e+003));\n",
"\n",
"// Result\n",
"// The radius of the neutron star of 2 solar masses = 11 km "
   ]
   }
,
{
		   "cell_type": "markdown",
		   "metadata": {},
		   "source": [
			"## Example 16.6: Redshift_versus_recession_velocity.sce"
		   ]
		  },
  {
"cell_type": "code",
	   "execution_count": null,
	   "metadata": {
	    "collapsed": true
	   },
	   "outputs": [],
"source": [
"// Scilab Code Ex16.6: Page-598(2014)\n",
"clc; clear;\n",
"c = 1;    // Assume speed of light to be unity\n",
"clf();\n",
"v = [0:0.01:0.92]';\n",
"bita = v/c;        // Recession velocity ratio\n",
"for i = 1:1:93     \n",
"    red_shift(i) = sqrt((1+bita(i))/(1-bita(i)))-1;\n",
"end\n",
"plot(bita, red_shift);\n",
"title('The relation between Redshift and recession velocity', 'fontsize', 4, 'color','red', 'position', [0.02, 4.1]);\n",
"xlabel('Recession velocity (beta = v/c)', 'fontsize', 3, 'color', 'green');\n",
"ylabel('Redshift', 'fontsize', 3, 'color', 'green');\n",
"\n",
"// Result\n",
"// The plot between Redshift vs recession velocity is as shown in the Fig."
   ]
   }
,
{
		   "cell_type": "markdown",
		   "metadata": {},
		   "source": [
			"## Example 16.7: Difference_in_the_travel_times_of_different_mass_neutrinos.sce"
		   ]
		  },
  {
"cell_type": "code",
	   "execution_count": null,
	   "metadata": {
	    "collapsed": true
	   },
	   "outputs": [],
"source": [
"// Scilab Code Ex16.7: Page-598(2014)\n",
"clc; clear;\n",
"c = 1;    // For simplicity assume speed of light to be unity, m/s\n",
"d = 1.6e+005;    // Distance of the supernova 1987A from the earth, ly\n",
"m = 16;    // Mass of heavier neutrino, eV/c^2;\n",
"E = 20e+006;    // Energy of the neutrino, eV\n",
"delta_t = d/(2*c)*(m/E)^2;    // Difference between the travel times of the lighter and the massive neutrinos, y\n",
"printf('\nThe difference between the travel times of the lighter and the massive neutrinos = %3.1f s', delta_t*(365.25*24*60*60));\n",
"\n",
"// Result\n",
"// The difference between the travel times of the lighter and the massive neutrinos = 1.6 s "
   ]
   }
,
{
		   "cell_type": "markdown",
		   "metadata": {},
		   "source": [
			"## Example 16.8: Critical_density_of_the_universe.sce"
		   ]
		  },
  {
"cell_type": "code",
	   "execution_count": null,
	   "metadata": {
	    "collapsed": true
	   },
	   "outputs": [],
"source": [
"// Scilab Code Ex16.8: Page-602(2014)\n",
"clc; clear;\n",
"c = 3.00e+008;    // Speed of light, m/s\n",
"H = 22;    // Hubble constant, km/s per million ly\n",
"G = 6.67e-011;    // Universal gravitational constant, N-Sq.m/kg^2\n",
"rho_c = 3/(8*%pi)*H^2/G*1e+003/(c*365.25*24*60*60*1e+006)^2;    // The critical density of the universe, g/cc\n",
"printf('\nThe critical density of the universe = %3.1e g/cc', rho_c);\n",
"\n",
"// Result\n",
"//The critical density of the universe = 9.7e-030 g/cc "
   ]
   }
,
{
		   "cell_type": "markdown",
		   "metadata": {},
		   "source": [
			"## Example 16.9: Upper_limit_of_the_age_of_the_universe.sce"
		   ]
		  },
  {
"cell_type": "code",
	   "execution_count": null,
	   "metadata": {
	    "collapsed": true
	   },
	   "outputs": [],
"source": [
"// Scilab Code Ex16.9: Page-604(2014)\n",
"clc; clear;\n",
"H0 = 71;    // Hubble cinstant, km/s per Mpc\n",
"tau = 1/H0*1e+006*3.26*9.46e+012/3.16e+007;    // The upper limit of the age of the universe, y\n",
"printf('\nThe upper limit of the age of the universe = %4.2e y', tau);\n",
"\n",
"// Result\n",
"// The upper limit of the age of the universe = 1.37e+010 y "
   ]
   }
],
"metadata": {
		  "kernelspec": {
		   "display_name": "Scilab",
		   "language": "scilab",
		   "name": "scilab"
		  },
		  "language_info": {
		   "file_extension": ".sce",
		   "help_links": [
			{
			 "text": "MetaKernel Magics",
			 "url": "https://github.com/calysto/metakernel/blob/master/metakernel/magics/README.md"
			}
		   ],
		   "mimetype": "text/x-octave",
		   "name": "scilab",
		   "version": "0.7.1"
		  }
		 },
		 "nbformat": 4,
		 "nbformat_minor": 0
}
