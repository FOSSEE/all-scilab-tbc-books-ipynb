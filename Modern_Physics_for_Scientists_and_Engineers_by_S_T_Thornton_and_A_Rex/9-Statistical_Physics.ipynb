{
"cells": [
 {
		   "cell_type": "markdown",
	   "metadata": {},
	   "source": [
       "# Chapter 9: Statistical Physics"
	   ]
	},
{
		   "cell_type": "markdown",
		   "metadata": {},
		   "source": [
			"## Example 9.1: Mean_translational_kinetic_energy_of_gas_molecules_at_room_temperature.sce"
		   ]
		  },
  {
"cell_type": "code",
	   "execution_count": null,
	   "metadata": {
	    "collapsed": true
	   },
	   "outputs": [],
"source": [
"// Scilab Code Ex9.1: Page-303 (2014)\n",
"clc; clear;\n",
"k = 1.38e-023;    // Boltzmann constant, J/K\n",
"N_A = 6.023e+023;    // Avogadro's number\n",
"T = 293;    // Room temperature, K\n",
"e = 1.6e-019;    // Energy equivalent of 1 eV, J\n",
"// For a single molecule\n",
"K_bar_single = 3/2*k*T/e;    // Mean translational kinetic energy of a single gas molecule, J\n",
"// For a 1 mole of molecules\n",
"K_bar_mole = K_bar_single*N_A*e;    // Mean translational kinetic energy of 1 mole of gas molecules, J\n",
"printf('\nThe mean translational kinetic energy of the single idela gas molecule = %5.3f eV', K_bar_single);\n",
"printf('\nThe mean translational kinetic energy of the one mole of ideal gas molecules = %4d J', ceil(K_bar_mole));\n",
"\n",
"// Result\n",
"// The mean translational kinetic energy of the single idela gas molecule = 0.038 eV\n",
"// The mean translational kinetic energy of the one mole of ideal gas molecules = 3654 J "
   ]
   }
,
{
		   "cell_type": "markdown",
		   "metadata": {},
		   "source": [
			"## Example 9.3: Mean_molecular_speed_in_light_gas_hydrogen_and_heavy_radon_gas.sce"
		   ]
		  },
  {
"cell_type": "code",
	   "execution_count": null,
	   "metadata": {
	    "collapsed": true
	   },
	   "outputs": [],
"source": [
"// Scilab Code Ex9.3: Page-310 (2014)\n",
"clc; clear;\n",
"k = 1.38e-023;    // Boltzmann constant, J/K\n",
"u = 1.67e-027;    // Mass equivalent of one atomic mass unit, kg\n",
"T = 293;    // Room temperature, K\n",
"m_H = 1.008*u;    // Gram atomic mass of hydrogen, kg\n",
"m = 2*m_H;    // Gram molecular mass of hydrogen molecule, kg\n",
"v_bar = 4/sqrt(2*%pi)*sqrt(k*T/m);    // Mean molecular speed in the light gas hydrogen, m/s\n",
"printf('\nThe mean molecular speed in the light gas hydrogen = %4d m/s', ceil(v_bar));\n",
"m = 222*u;    // Gram atomic mass of Radon, kg\n",
"v_bar = 4/sqrt(2*%pi)*sqrt(k*T/m);    // Mean molecular speed in the heavy radon gas, m/s\n",
"printf('\nThe mean molecular speed in the heavy radon gas = %3d m/s', ceil(v_bar));\n",
"\n",
"// Result\n",
"// The mean molecular speed in the light gas hydrogen = 1749 m/s\n",
"// The mean molecular speed in the heavy radon gas = 167 m/s "
   ]
   }
,
{
		   "cell_type": "markdown",
		   "metadata": {},
		   "source": [
			"## Example 9.4: EX9_4.sce"
		   ]
		  },
  {
"cell_type": "code",
	   "execution_count": null,
	   "metadata": {
	    "collapsed": true
	   },
	   "outputs": [],
"source": [
"// Scilab Code Ex9.4: Page-310 (2014)\n",
"clc; clear;\n",
"m = 1;    // For simplicity assume mass of gas molecule to be unity, kg\n",
"k = 1.38e-023;    // Boltzmann constant, J/K\n",
"T = 293;    // Room temperature, K\n",
"bita = k*T;    // Energy associated with three degrees of freedom, J\n",
"v_mps = sqrt(2/(bita*m));    // For simplcity assume most probable speed to be unity, m/s\n",
"C = (bita*m/(2*%pi))^(3/2);    // Constant in the distribution function\n",
"P = integrate('4*%pi*C*exp(-1/2*bita*m*v^2)*v^2', 'v', 0.99*v_mps, 1.01*v_mps);\n",
"printf('\nThe fraction of molecules in an ideal gas in equilibrium which have speeds within 1 percent above and below the most probable speed = %5.3f', P);\n",
"\n",
"// Result\n",
"// The fraction of molecules in an ideal gas in equilibrium which have speeds within 1 percent above and below the most probable speed = 0.017 "
   ]
   }
,
{
		   "cell_type": "markdown",
		   "metadata": {},
		   "source": [
			"## Example 9.6: EX9_6.sce"
		   ]
		  },
  {
"cell_type": "code",
	   "execution_count": null,
	   "metadata": {
	    "collapsed": true
	   },
	   "outputs": [],
"source": [
"// Scilab Code Ex9.6: Page-315 (2014)\n",
"clc; clear;\n",
"k = 1.38e-023;    // Boltzmann constant, J/K\n",
"T = [293 5000 1e+006];    // Room temperature, temperature at the surface of the star and temperature at the star interior respectively, K\n",
"e = 1.6e-019;    // Energy equivalent of 1 eV, J\n",
"g_E1 = 2;    // Possible configuration of the electrons in ground state of H-atom\n",
"g_E2 = 8;    // Possible configuration of the electrons in the first excited state of H-atom\n",
"E1 = -13.6;    // Energy of the ground state, eV\n",
"E2 = -3.4;    // Energy of the first excited state state, eV\n",
"n_ratio = zeros(3);\n",
"for i = 1:1:3\n",
"    n_ratio(i) = g_E2/g_E1*exp(1/(k*T(i))*(E1 - E2)*e);\n",
"    printf('\nFor T = %4.2e K, n_E2/n_E1 = %4.2e', T(i), n_ratio(i));\n",
"end\n",
"\n",
"\n",
"// Result\n",
"// For T = 2.93e+002 K, n_E2/n_E1 = 2.05e-175\n",
"// For T = 5.00e+003 K, n_E2/n_E1 = 2.14e-010\n",
"// For T = 1.00e+006 K, n_E2/n_E1 = 3.55e+000 "
   ]
   }
,
{
		   "cell_type": "markdown",
		   "metadata": {},
		   "source": [
			"## Example 9.7: Fermi_energy_and_Fermi_temperature_for_copper.sce"
		   ]
		  },
  {
"cell_type": "code",
	   "execution_count": null,
	   "metadata": {
	    "collapsed": true
	   },
	   "outputs": [],
"source": [
"// Scilab Code Ex9.7: Page-320 (2014)\n",
"clc; clear;\n",
"e = 1.6e-019;    // Energy equivalent of 1 eV, J\n",
"n = 8.47e+028;    // Number density of conduction electrons in copper, per metre cube\n",
"k = 1.38e-023;    // Boltzmann constant, J/K\n",
"h = 6.626e-034;    // Planck's constant, Js\n",
"m = 9.11e-031;    // Mass of an electron, kg\n",
"E_F = h^2/(8*m*e)*(3*n/%pi)^(2/3);    // Fermi energy for copper, eV\n",
"T_F = E_F*e/k;    // Fermi temperature for copper, K\n",
"printf('\nThe Fermi energy for copper = %4.2f eV', E_F);\n",
"printf('\nThe Fermi temperature for copper = %4.2e K', T_F);\n",
"\n",
"// Result\n",
"//  The Fermi energy for copper = 7.04 eV\n",
"// The Fermi temperature for copper = 8.16e+004 K "
   ]
   }
,
{
		   "cell_type": "markdown",
		   "metadata": {},
		   "source": [
			"## Example 9.8: Electronic_contribution_to_the_molar_heat_capacity_of_metals.sce"
		   ]
		  },
  {
"cell_type": "code",
	   "execution_count": null,
	   "metadata": {
	    "collapsed": true
	   },
	   "outputs": [],
"source": [
"// Scilab Code Ex9.8: Page-322 (2014)\n",
"clc; clear;\n",
"R = 1;    // For simplicity assume the molar gas constant to be unity, J/mol/K\n",
"T = 293;    // Room temperature, K\n",
"T_F = 8.16e+004;    // The Fermi temperature for copper\n",
"C_V = %pi^2*T/(2*T_F)*R;    // Electronic contribution to the molar heat capacity for copper, J/mol/K\n",
"printf('\nThe electronic contribution to the molar heat capacity for copper = %6.4fR', C_V);\n",
"T_F = 6.38e+004;    // The Fermi temperature for silver\n",
"C_V = %pi^2*T/(2*T_F)*R;    // Electronic contribution to the molar heat capacity for silver, J/mol/K\n",
"printf('\nThe electronic contribution to the molar heat capacity for silver = %6.4fR', C_V);\n",
"\n",
"// Result\n",
"// The electronic contribution to the molar heat capacity for copper = 0.0177R\n",
"// The electronic contribution to the molar heat capacity for silver = 0.0227R "
   ]
   }
],
"metadata": {
		  "kernelspec": {
		   "display_name": "Scilab",
		   "language": "scilab",
		   "name": "scilab"
		  },
		  "language_info": {
		   "file_extension": ".sce",
		   "help_links": [
			{
			 "text": "MetaKernel Magics",
			 "url": "https://github.com/calysto/metakernel/blob/master/metakernel/magics/README.md"
			}
		   ],
		   "mimetype": "text/x-octave",
		   "name": "scilab",
		   "version": "0.7.1"
		  }
		 },
		 "nbformat": 4,
		 "nbformat_minor": 0
}
