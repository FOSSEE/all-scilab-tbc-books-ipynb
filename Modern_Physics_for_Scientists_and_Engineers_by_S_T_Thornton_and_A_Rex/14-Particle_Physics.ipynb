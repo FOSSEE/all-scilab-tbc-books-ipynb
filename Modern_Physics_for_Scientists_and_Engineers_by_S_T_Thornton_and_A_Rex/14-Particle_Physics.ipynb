{
"cells": [
 {
		   "cell_type": "markdown",
	   "metadata": {},
	   "source": [
       "# Chapter 14: Particle Physics"
	   ]
	},
{
		   "cell_type": "markdown",
		   "metadata": {},
		   "source": [
			"## Example 14.10: Fixed_target_accelerators.sce"
		   ]
		  },
  {
"cell_type": "code",
	   "execution_count": null,
	   "metadata": {
	    "collapsed": true
	   },
	   "outputs": [],
"source": [
"// Scilab Code Ex14.10: Page-548(2014)\n",
"clc; clear;\n",
"m_p = 0.938;    // Rest mass energy of the proton, GeV\n",
"K = 6.4;    // Kinetic energy of the proton projectile, GeV\n",
"E_cm = sqrt(2*m_p^2+2*m_p*K);    // Centre of mass energy of proton collsion with the fixed proton target, GeV\n",
"Q = 2*m_p - 4*m_p;     // Q value of the reaction, GeV\n",
"K_th = -3*Q;    // Threshold kinetic energy required to produce the antiprotons, GeV\n",
"K = 1000;    // Kinetic energy of the protons in Tevatron, GeV\n",
"E_cm_T = sqrt(2*m_p^2+2*m_p*K);    // Centre-of-mass energy available for the reaction for the Tevatron, GeV\n",
"printf('\nThe available energy in the center on mass = %4.2f GeV', E_cm);\n",
"printf('\nThe threshold kinetic energy required to produce the antiprotons = %3.1f GeV', K_th);\n",
"printf('\nThe centre-of-mass energy available for the reaction for the Tevatron = %d GeV', E_cm_T);\n",
"\n",
"// Result\n",
"// The available energy in the center on mass = 3.71 GeV\n",
"// The threshold kinetic energy required to produce the antiprotons = 5.6 GeV\n",
"// The centre-of-mass energy available for the reaction for the Tevatron = 43 GeV "
   ]
   }
,
{
		   "cell_type": "markdown",
		   "metadata": {},
		   "source": [
			"## Example 14.11: EX14_11.sce"
		   ]
		  },
  {
"cell_type": "code",
	   "execution_count": null,
	   "metadata": {
	    "collapsed": true
	   },
	   "outputs": [],
"source": [
"// Scilab Code Ex14.11: Page-550(2014)\n",
"clc; clear;\n",
"m_p = 0.938;    // Rest mass energy of the proton, GeV\n",
"E_cm = 14000;    // Centre of mass energy of colliding proton beams at LHC, GeV\n",
"// As E_cm = sqrt(2*m_p^2+2*m_p*K), solving for K\n",
"K = E_cm^2*1e+009/(2*m_p);    // Approx. kinetic energy of the protons needed for fixed-target experiment, eV \n",
"printf('\nThe kinetic energy of the protons needed for fixed-target experiment = %3.1e eV', K);\n",
"\n",
"// Result\n",
"// The kinetic energy of the protons needed for fixed-target experiment = 1.0e+017 eV "
   ]
   }
,
{
		   "cell_type": "markdown",
		   "metadata": {},
		   "source": [
			"## Example 14.1: Mass_of_the_meson_from_Heisenberg_uncertainty_principle.sce"
		   ]
		  },
  {
"cell_type": "code",
	   "execution_count": null,
	   "metadata": {
	    "collapsed": true
	   },
	   "outputs": [],
"source": [
"// Scilab Code Ex14.1: Page-522(2014)\n",
"clc; clear;\n",
"e = 1.6e-019;  // Energy equivalent of 1 eV, J\n",
"h = 6.62e-034;    // Planck's oconstant, Js\n",
"c = 3.00e+008;    // Speed of light in vacuum, m/s\n",
"h_bar = h/(2*%pi);    // Reduced Planck's constant, Js\n",
"R_N = 1e-015;     // Range of nuclear force, m\n",
"// As delta_E*delta_t = h_bar/2 and delta_E = m_pion*c^2, solving for m_pion\n",
"m_pion = h_bar*c/(2*R_N*e*1e+006);    // Mass of the meson, MeV/c^2\n",
"printf('\nThe estimated mass of meson from Heisenberg uncertainty principle = %d MeV/c^2', round(m_pion));\n",
"\n",
"// Result\n",
"// The estimated mass of meson from Heisenberg uncertainty principle = 99 MeV/c^2 \n",
"// The answer is rounded off in the textbook"
   ]
   }
,
{
		   "cell_type": "markdown",
		   "metadata": {},
		   "source": [
			"## Example 14.2: Range_of_the_weak_interaction.sce"
		   ]
		  },
  {
"cell_type": "code",
	   "execution_count": null,
	   "metadata": {
	    "collapsed": true
	   },
	   "outputs": [],
"source": [
"// Scilab Code Ex14.2: Page-525(2014)\n",
"clc; clear;\n",
"e = 1.6e-019;  // Energy equivalent of 1 eV, J\n",
"h = 6.62e-034;    // Planck's oconstant, Js\n",
"c = 3.00e+008;    // For simplicity assume speed of light to be unity\n",
"h_bar = h/(2*%pi);    // Reduced Planck's constant, Js\n",
"m_W = 80.4;    // Energy equivalent of mass of W- particle, MeV\n",
"R_W = h_bar*c/(2*m_W*e*1e+009);    // Range of W- particle, m\n",
"delta_t = h_bar/(2*m_W*e*1e+009);    // Time during which the energy conservation is violated, s\n",
"printf('\nThe range of W- particle = %3.1e m', R_W);\n",
"printf('\nThe time during which the energy conservation is violated = %1.0e s', delta_t);\n",
"\n",
"// Result\n",
"// The range of W- particle = 1.2e-018 m\n",
"// The time during which the energy conservation is violated = 4e-027 s "
   ]
   }
],
"metadata": {
		  "kernelspec": {
		   "display_name": "Scilab",
		   "language": "scilab",
		   "name": "scilab"
		  },
		  "language_info": {
		   "file_extension": ".sce",
		   "help_links": [
			{
			 "text": "MetaKernel Magics",
			 "url": "https://github.com/calysto/metakernel/blob/master/metakernel/magics/README.md"
			}
		   ],
		   "mimetype": "text/x-octave",
		   "name": "scilab",
		   "version": "0.7.1"
		  }
		 },
		 "nbformat": 4,
		 "nbformat_minor": 0
}
