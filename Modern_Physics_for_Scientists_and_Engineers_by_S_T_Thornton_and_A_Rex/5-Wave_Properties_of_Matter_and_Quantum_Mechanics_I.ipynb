{
"cells": [
 {
		   "cell_type": "markdown",
	   "metadata": {},
	   "source": [
       "# Chapter 5: Wave Properties of Matter and Quantum Mechanics I"
	   ]
	},
{
		   "cell_type": "markdown",
		   "metadata": {},
		   "source": [
			"## Example 5.10: Minimum_kinetic_energy_of_electron_localized_within_a_typical_nuclear_radius.sce"
		   ]
		  },
  {
"cell_type": "code",
	   "execution_count": null,
	   "metadata": {
	    "collapsed": true
	   },
	   "outputs": [],
"source": [
"// Scilab Code 5.10: : Page-190 (2013)\n",
"clc; clear;\n",
"dx = 6e-015;    // The uncertainty in position of the electron, m\n",
"h_bar = 1.054e-034;    // PReduced Planck's constant, Js\n",
"e = 1.602e-019;    // Energy equivalnet of 1 eV, J/eV\n",
"c = 3e+008;    // Speed of light, m/s\n",
"E0 = 0.511e+006;    // Rest mass energy of the electron, J\n",
"dp = h_bar*c/(2*dx*e);    // Minimum electron momentum, eV/c\n",
"p = dp;    // Momentum of the electron at least equal to the uncertainty in momentum, eV/c\n",
"E = sqrt(p^2+E0^2)/1e+006;    // Relativistic energy of the electron, MeV \n",
"K = E - E0/1e+006;    // Minimum kinetic energy of the electron, MeV\n",
"printf('\nThe minimum kinetic energy of the electron = %4.1f MeV', K);\n",
"\n",
"// Result\n",
"// The minimum kinetic energy of  the electron = 15.9 MeV "
   ]
   }
,
{
		   "cell_type": "markdown",
		   "metadata": {},
		   "source": [
			"## Example 5.12: EX5_12.sce"
		   ]
		  },
  {
"cell_type": "code",
	   "execution_count": null,
	   "metadata": {
	    "collapsed": true
	   },
	   "outputs": [],
"source": [
"// Scilab Code Ex5.12 : Page-190 (2014)\n",
"clc; clear;\n",
"c = 3e+8;    // Speed of light, m/s\n",
"dt = 1e-08;    // Relaxation time of atom, s\n",
"h = 6.6e-34;    // Planck's constant, Js\n",
"dE = h/(4*%pi*dt);    // Energy width of excited state of atom, J\n",
"lambda = 300e-009;    // Wavelegth of emitted photon, m\n",
"f = c/lambda;    // Frequency of emitted photon, per sec\n",
"printf('\nThe energy width of excited state of the atom = %3.1e eV', dE/1.6e-019);\n",
"df = dE/h;    // Uncertainty in frequency, per sec\n",
"printf('\nThe uncertainty ratio of the frequency = %1.0e',  df/f);\n",
"\n",
"// Result\n",
"// The energy width of excited state of the atom = 3.3e-008 eV\n",
"// The uncertainty ratio of the frequency = 8e-009 \n",
"\n",
"\n",
""
   ]
   }
,
{
		   "cell_type": "markdown",
		   "metadata": {},
		   "source": [
			"## Example 5.13: Energy_at_diffrent_levels.sce"
		   ]
		  },
  {
"cell_type": "code",
	   "execution_count": null,
	   "metadata": {
	    "collapsed": true
	   },
	   "outputs": [],
"source": [
"// Scilab Code Ex5.13 : Page-195 (2014)\n",
"clc; clear;\n",
"n = [1 2 3];    // First three energy levels\n",
"e = 1.6e-019;   // Energy equivalent of 1 eV, J/eV\n",
"c = 3e008;    // Speed of light, m/s\n",
"h = 6.63e-034;    // Planck's constant, Js\n",
"m = 9.1e-031;    // Mass of the proton, kg\n",
"l = 0.1;    // Length of one-dimensional box, nm\n",
"E_n = n^2*(h*c/(e*1e-009))^2/(8*m*c^2/e*l^2);    // Energy of nth level, eV\n",
"printf('\nThe first three energy level are:\nE1 = %2.0f eV, E2 = %3.0f eV and E3 = %3.0f eV', E_n(1), E_n(2), E_n(3));\n",
"\n",
"// Result\n",
"// The first three energy level are:\n",
"// E1 = 38 eV, E2 = 151 eV and E3 = 340 eV "
   ]
   }
,
{
		   "cell_type": "markdown",
		   "metadata": {},
		   "source": [
			"## Example 5.1: The_wavelength_of_the_X_rays_incident_on_rock_salt.sce"
		   ]
		  },
  {
"cell_type": "code",
	   "execution_count": null,
	   "metadata": {
	    "collapsed": true
	   },
	   "outputs": [],
"source": [
"// Scilab Code Ex5.1 :Page-167 (2013)\n",
"clc; clear;\n",
"N_A = 6.022e+23;    // Avogdaro's No., per mole\n",
"n = 1;    // Order of diffraction\n",
"M = 58.5;    // Molecular mass of NaCl, g/mol\n",
"rho = 2.16;    // Density of rock salt, g/cc\n",
"two_theta = 20;   // Scattering angle, degree \n",
"theta = two_theta/2;    // Diffraction angle, degree\n",
"N = N_A*rho*2/(M*1e-006); // Number of atoms per unit volume, per metre cube   \n",
"d = (1/N)^(1/3);  // Interplanar spacing of NaCl crystal, m \n",
"lambda = 2*d*sind(theta)/n ;    // Wavelength of X-rays using Bragg's law, m\n",
"printf('\nThe wavelength of the incident X rays  = %5.3f nm', lambda/1e-009);\n",
"\n",
"// Result\n",
"// The wavelength of the incident X rays  = 0.098 nm "
   ]
   }
,
{
		   "cell_type": "markdown",
		   "metadata": {},
		   "source": [
			"## Example 5.2: de_Broglie_wavelength_of_a_tennis_ball_and_an_electron.sce"
		   ]
		  },
  {
"cell_type": "code",
	   "execution_count": null,
	   "metadata": {
	    "collapsed": true
	   },
	   "outputs": [],
"source": [
"// Scilab Code Ex5.2 : Page-168 (2013)\n",
"clc; clear;\n",
"h = 6.63e-034;    // Planck's constant, Js\n",
"c = 3e+008;    // Speed of light, m/s\n",
"// For a moving ball\n",
"m = 0.057;    // Mass of the ball, kg\n",
"v = 25;    // Velocity of ball, m/s\n",
"p = m*v;    // Momentum of the ball, kgm/s\n",
"lambda = h/p;    // Lambda is the wavelength of ball, nm\n",
"printf('\nThe wavelength of ball = %3.1e m', lambda);\n",
"// For a moving electron\n",
"m = 0.511e+006;    // Rest mass of an electron, eV\n",
"K = 50;    // Kinetic energy of the electron, eV\n",
"p = sqrt(2*m*K);    // Momentum of the electron, kgm/s\n",
"lambda = h*c/(1.602e-019*p*1e-009);    // Wavelength of the electron, nm\n",
"printf('\nThe wavelength of the electron = %4.2f nm', lambda);\n",
"\n",
"// Result\n",
"// The wavelength of ball = 4.7e-034 m\n",
"// The wavelength of the electron = 0.17 nm "
   ]
   }
,
{
		   "cell_type": "markdown",
		   "metadata": {},
		   "source": [
			"## Example 5.3: de_Broglie_wavelength_of_an_electron_used_by_Davisson_and_Germer.sce"
		   ]
		  },
  {
"cell_type": "code",
	   "execution_count": null,
	   "metadata": {
	    "collapsed": true
	   },
	   "outputs": [],
"source": [
"// Scilab Code Ex5.3 : Page-173 (2013)\n",
"clc; clear;\n",
"m = 9.1e-31;    // Mass of the electron, kg\n",
"h = 6.63e-34;    // Planck's constant, Js\n",
"c = 3e+008;    // Speed of light, m/s\n",
"e = 1.6e-19;    // Energy equivalent of 1 eV, J/eV\n",
"V0 = 54;    // Potential difference between electrodes, V\n",
"lambda = h*c/(sqrt(2*m*c^2/e*V0)*e*1e-009);    // de Broglie wavelength of the electron, nm\n",
"printf('\nThe de Broglie wavelength of the electron used by Davisson and Germer = %5.3f nm', lambda);\n",
"\n",
"// Result\n",
"// The de Broglie wavelength of the electron used by Davisson and Germer = 0.167 nm "
   ]
   }
,
{
		   "cell_type": "markdown",
		   "metadata": {},
		   "source": [
			"## Example 5.4: Wavelength_of_a_neutron_at_different_temperatures.sce"
		   ]
		  },
  {
"cell_type": "code",
	   "execution_count": null,
	   "metadata": {
	    "collapsed": true
	   },
	   "outputs": [],
"source": [
"// Scilab Code Ex5.4 : Page-174 (2013)\n",
"clc; clear;\n",
"h = 6.63e-34;    // Planck's constant, Js\n",
"c = 3e+008;    // Speed of light, m/s\n",
"e = 1.6e-19;    // Energy equivalent of 1 eV, J/eV\n",
"m = 1.67e-27;    // Mass of a neutron, kg\n",
"k = 1.38e-23;    // Boltzmann constant, J/mol/K\n",
"T = [300 77];    // Temperatures, K\n",
"lambda = h*c/(sqrt(3*m*c^2/e*k/e*T(1))*e);    // The wavelength of the neutron at 300 K, nm\n",
"printf('\nThe wavelength of the neutron at %d K = %5.3f nm', T(1), lambda/1e-09);\n",
"lambda = h*c/(sqrt(3*m*c^2/e*k/e*T(2))*e);    // The wavelength of the neutron at 77 K, nm\n",
"printf('\nThe wavelength of the neutron at %d K = %5.3f nm', T(2), lambda/1e-09);\n",
"\n",
"// Result\n",
"// The wavelength of the neutron at 300 K = 0.146 nm\n",
"// The wavelength of the neutron at 77 K = 0.287 nm "
   ]
   }
,
{
		   "cell_type": "markdown",
		   "metadata": {},
		   "source": [
			"## Example 5.7: Distance_between_first_two_maxima_in_fringe_pattern.sce"
		   ]
		  },
  {
"cell_type": "code",
	   "execution_count": null,
	   "metadata": {
	    "collapsed": true
	   },
	   "outputs": [],
"source": [
"// Scilab Code Ex5.7 :Page-184 (2013)\n",
"clc; clear;\n",
"h = 6.626e-34;    // Planck's constant, Js\n",
"c = 3e+008;    // Speed of light, m/s\n",
"e = 1.602e-019;    // Energy equivalent of 1 eV, J/ev\n",
"d = 2000;    // Distance between slit centres, nm\n",
"K = 50e+003;    // Kinetic energy of electrons, eV\n",
"l = 350e+006;    // Distance of screen from the slits, nm\n",
"lambda = 1.226/sqrt(K);    // Non-relativistic value of de Broglie wavelength of the electrons, nm\n",
"E0 = 0.511e+006;    // Rest energy of the electron, J\n",
"E = K + E0;    // Total energy of the electron, J\n",
"p_c = sqrt(E^2 - E0^2);    // Relativistic mass energy relation, eV\n",
"lambda_r = h*c/(p_c*e*1e-009);    // Relativistic value of de Broglie wavelength, nm\n",
"percent_d = (lambda - lambda_r)/lambda*100;    // Percentage decrease in relativistic value relative to non-relavistic value\n",
"sin_theta = lambda_r/d;    // Bragg's law\n",
"y = l*sin_theta;    // The distance of first maximum from the screen, nm\n",
"printf('\nThe percentage decrease in relativistic value relative to non-relavistic value = %1.0f percent', percent_d);\n",
"printf('\nThe distance between first two maxima = %3.0f nm', y);\n",
"\n",
"// Result\n",
"// The percentage decrease in relativistic value relative to non-relavistic value = 2 percent\n",
"// The distance between first two maxima = 938 nm"
   ]
   }
,
{
		   "cell_type": "markdown",
		   "metadata": {},
		   "source": [
			"## Example 5.8: Momentum_uncertainty_fo_a_tennis_ball_and_an_electron.sce"
		   ]
		  },
  {
"cell_type": "code",
	   "execution_count": null,
	   "metadata": {
	    "collapsed": true
	   },
	   "outputs": [],
"source": [
"// Scilab Code Ex5.8 : Page-187 (2013)\n",
"clc; clear;\n",
"dx = 17.5;    // The uncertainty in position, m\n",
"h = 1.05e-034;    // Reduced Planck's constant, Js\n",
"dp_x = h/(2*dx);    // The uncertainty in momentum, kgm/s\n",
"printf('\nThe unecrtainty in momentum of the ball = %1.0e kg-m/s', dp_x);\n",
"dx = 0.529e-010;    // The uncertainty in position, m\n",
"dp_x = h/(2*dx);    // The uncertainty in momentum, kgm/s\n",
"printf('\nThe uncertainty in momentum of the electron = %1.0e kg-m/s', dp_x);\n",
"\n",
"// Result\n",
"// The unecrtainty in momentum of the ball = 3e-036 kg-m/s\n",
"// The uncertainty in momentum of the electron = 1e-024 kg-m/s "
   ]
   }
,
{
		   "cell_type": "markdown",
		   "metadata": {},
		   "source": [
			"## Example 5.9: Minimum_kinetic_energy_of_an_electron_in_hydrogen_atom.sce"
		   ]
		  },
  {
"cell_type": "code",
	   "execution_count": null,
	   "metadata": {
	    "collapsed": true
	   },
	   "outputs": [],
"source": [
"// Scilab Code Ex5.9 : Page-188 (2013)\n",
"clc; clear;\n",
"a_0 = 5.29e-11;    // Radius of H-atom, m\n",
"l = 2*a_0;    // Length, m\n",
"h = 6.63e-34;    // Planck's constant, Js\n",
"m = 9.1e-31;    // Mass of electron, kg\n",
"K_min = h^2/(8*(%pi)^2*m*l^2);    // Minimum kinetic energy possesed, J\n",
"printf('\nThe minimum kinetic energy of the electron = %3.1f eV', K_min/1.6e-19);\n",
"\n",
"// Result\n",
"// The minimum kinetic energy of the electron = 3.4 eV"
   ]
   }
],
"metadata": {
		  "kernelspec": {
		   "display_name": "Scilab",
		   "language": "scilab",
		   "name": "scilab"
		  },
		  "language_info": {
		   "file_extension": ".sce",
		   "help_links": [
			{
			 "text": "MetaKernel Magics",
			 "url": "https://github.com/calysto/metakernel/blob/master/metakernel/magics/README.md"
			}
		   ],
		   "mimetype": "text/x-octave",
		   "name": "scilab",
		   "version": "0.7.1"
		  }
		 },
		 "nbformat": 4,
		 "nbformat_minor": 0
}
