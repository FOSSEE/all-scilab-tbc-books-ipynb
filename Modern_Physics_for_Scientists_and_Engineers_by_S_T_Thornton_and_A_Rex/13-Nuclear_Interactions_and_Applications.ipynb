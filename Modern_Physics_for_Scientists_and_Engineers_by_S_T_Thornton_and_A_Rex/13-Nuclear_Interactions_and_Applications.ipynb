{
"cells": [
 {
		   "cell_type": "markdown",
	   "metadata": {},
	   "source": [
       "# Chapter 13: Nuclear Interactions and Applications"
	   ]
	},
{
		   "cell_type": "markdown",
		   "metadata": {},
		   "source": [
			"## Example 13.10: Neutron_beam_study_of_atomic_structures.sce"
		   ]
		  },
  {
"cell_type": "code",
	   "execution_count": null,
	   "metadata": {
	    "collapsed": true
	   },
	   "outputs": [],
"source": [
"// Scilab Code Ex13.10: Page-509(2014)\n",
"clc; clear;\n",
"k = 1.38e-023;    // Boltzmann constant, J/K\n",
"e = 1.6e-019;  // Energy equivalent of 1 eV, J\n",
"h = 6.62e-034;    // Planck's oconstant, Js\n",
"m = 1.67e-027;    // Mass of the neutron, kg\n",
"lambda = 0.060e-009;    // Wavelength of the neutron beam, m\n",
"p = h/lambda;    // Momentum of the neutron from de-Broglie relation, kg-m/s\n",
"K = p^2/(2*m*e);    // Kinetic energy of the neutron needed to study atomic structure, eV\n",
"// As K = 3/2*k*T, solving for T\n",
"T = 2/3*K*e/k;    // The temperature of the neutron needed to study atomic structure, K\n",
"printf('\nThe energy and temperature of the neutron needed to study the atomic structure of solids = %4.2f eV and %4d K respectively', K, T);\n",
"\n",
"// Result\n",
"// The energy and temperature of the neutron needed to study the atomic structure of solids = 0.23 eV and 1760 K respectively "
   ]
   }
,
{
		   "cell_type": "markdown",
		   "metadata": {},
		   "source": [
			"## Example 13.1: Number_of_neutrons_produced_in_collision_of_alpha_particle_and_carbon_target.sce"
		   ]
		  },
  {
"cell_type": "code",
	   "execution_count": null,
	   "metadata": {
	    "collapsed": true
	   },
	   "outputs": [],
"source": [
"// Scilab Code Ex13.1: Page-479(2014)\n",
"clc; clear;\n",
"N_A = 6.02e+023;    // Avogadro's number\n",
"e = 1.6e-019;    // Charge on an electron, C\n",
"q = 2*e;    // Charge on the alpha particle, C\n",
"rho = 1.9;    // Density of carbon target, atoms/cc\n",
"N_M = 1;    // Number of atoms per molecule\n",
"M_g = 12;    // Gram atomic mass of C12 isotope, g/mol\n",
"sigma = 25e-031;    // Total cross section for the reaction, Sq.m\n",
"t = 1e-006;    // Thickness of carbon target, m\n",
"I_beam = 1e-006;    // Beam current of akpha particle, ampere\n",
"time = 3600;    // Time for which the alpha particle beam is incident on the target, s\n",
"n = rho*N_A*N_M/M_g;    // Number of nuclei per unit volume, per cc\n",
"P = n*t*sigma*1e+006;     // Probability of scattering of alpha particles\n",
"N_I = I_beam*time/q;    // Number of incident alpha particles\n",
"N_n = N_I*P;    // Number of neutrons produced in the reaction\n",
"printf('\nThe number of neutrons produced in the reaction = %3.1e neutrons', N_n);\n",
"\n",
"// Result\n",
"// The number of neutrons produced in the reaction = 2.7e+009 neutrons "
   ]
   }
,
{
		   "cell_type": "markdown",
		   "metadata": {},
		   "source": [
			"## Example 13.2: Likelihood_of_a_neutron_production_than_a_proton.sce"
		   ]
		  },
  {
"cell_type": "code",
	   "execution_count": null,
	   "metadata": {
	    "collapsed": true
	   },
	   "outputs": [],
"source": [
"// Scilab Code Ex13.2: Page-480(2014)\n",
"clc; clear;\n",
"sigma_n = 3;    // Differential cross setion of production of the neutron, mb/sr\n",
"sigma_p = 0.2;    // Differential cross setion of production of the proton, mb/sr\n",
"// As P_n = sigma_n and P_p = sigma_p, so\n",
"P_ratio = sigma_n/sigma_p;    // The likelihood of a neutron production than a proton\n",
"printf('\nThe likelihood of the neutron production than the proton = %2d', P_ratio);\n",
"\n",
"// Result\n",
"// The likelihood of the neutron production than the proton = 15 "
   ]
   }
,
{
		   "cell_type": "markdown",
		   "metadata": {},
		   "source": [
			"## Example 13.3: Nuclear_reaction_observed_by_Rutherford.sce"
		   ]
		  },
  {
"cell_type": "code",
	   "execution_count": null,
	   "metadata": {
	    "collapsed": true
	   },
	   "outputs": [],
"source": [
"// Scilab Code Ex13.3: Page-481(2014)\n",
"clc; clear;\n",
"u = 931.5;    // Energy equivalent of 1 amu, MeV\n",
"M_He = 4.002603;    // Mass of He-4 nucleus, u\n",
"M_N = 14.003074;    // Mass of N-14 nucleus, u\n",
"M_H = 1.007825;    // Mass of hydrogen nucleus, u\n",
"M_O = 16.999132;    // Mass of O-16 nucleus, u\n",
"K_alpha = 7.7;    // The kinetic energy of alpha particle, MeV\n",
"Q = (M_He + M_N - M_H - M_O)*u;    // The ground state Q-value of the nuclear reaction, MeV\n",
"// As Q = K_p + K_O - K_alpha, solving for K_p + K_O\n",
"K = Q + K_alpha;    // The sum of kinetic energy of the products, MeV\n",
"printf('\nThe ground state Q-value of the endoergic nuclear reaction = %5.3f MeV', Q);\n",
"printf('\nThe sum of kinetic energy of the products = %3.1f MeV', K);\n",
"\n",
"// Result\n",
"// The ground state Q-value of the endoergic nuclear reaction = -1.192 MeV\n",
"// The sum of kinetic energy of the products = 6.5 MeV "
   ]
   }
,
{
		   "cell_type": "markdown",
		   "metadata": {},
		   "source": [
			"## Example 13.4: Final_energy_of_excitation_of_product_nucleus_in_the_nuclear_reaction.sce"
		   ]
		  },
  {
"cell_type": "code",
	   "execution_count": null,
	   "metadata": {
	    "collapsed": true
	   },
	   "outputs": [],
"source": [
"// Scilab Code Ex13.4: Page-484(2014)\n",
"clc; clear;\n",
"u = 931.5;    // Energy equivalent of 1 amu, MeV\n",
"K_lab = 14.6;    // Kinetic energy of incident aplha particle, MeV\n",
"Mx = 4;    // Mass number of projectile nucleus\n",
"MX = 12;    // Mass number of target nucleus\n",
"M_He = 4.002603;    // Mass of He nucleus, u\n",
"M_C = 12.0 // Mass of carbon nucleus, u\n",
"M_O = 15.994915;    // Mass of oxygen nucleus, u\n",
"K_cm = MX/(Mx + MX)*K_lab;    // Kinetic energy available in the centre of mass, MeV\n",
"E_O = (M_He + M_C - M_O)*u;    // The ground state excitation energy of O-16, MeV\n",
"E_final_O = K_cm + E_O;    // The final excitation energy of O-16, MeV\n",
"printf('\nThe final excitation energy of O-16 = %4.2f MeV', E_final_O);\n",
"\n",
"// Result\n",
"// The final excitation energy of O-16 = 18.11 MeV "
   ]
   }
,
{
		   "cell_type": "markdown",
		   "metadata": {},
		   "source": [
			"## Example 13.5: Ground_state_Q_value_of_the_induced_fission_reaction.sce"
		   ]
		  },
  {
"cell_type": "code",
	   "execution_count": null,
	   "metadata": {
	    "collapsed": true
	   },
	   "outputs": [],
"source": [
"\n",
"// Scilab Code Ex13.5: Page-487(2014)\n",
"clc; clear;\n",
"u = 931.5;    // Energy equivalent of 1 amu, MeV\n",
"M_U235 = 235.0439;    // Mass of U-235 nucleus, u\n",
"m_n = 1.0087;    // Mass of a neutron, u\n",
"M_Zr99 = 98.9165;    // Mass of Zr-99 nucleus, u\n",
"M_Te134 = 133.9115;    // Mass of Te-134 nucleus, u\n",
"Q = (M_U235 + m_n - M_Zr99 - M_Te134 - 3*m_n)*u;    // Q-value of the reaction, MeV\n",
"printf('\nThe ground state Q-value of the induced fission reaction = %3d MeV', ceil(Q));\n",
"\n",
"// Result\n",
"// The ground state Q-value of the induced fission reaction = 185 MeV "
   ]
   }
,
{
		   "cell_type": "markdown",
		   "metadata": {},
		   "source": [
			"## Example 13.6: Excitation_energy_of_the_compound_nuclei.sce"
		   ]
		  },
  {
"cell_type": "code",
	   "execution_count": null,
	   "metadata": {
	    "collapsed": true
	   },
	   "outputs": [],
"source": [
"// Scilab Code Ex13.6: Page-488(2014)\n",
"clc; clear;\n",
"u = 931.5;    // Energy equivalent of 1 amu, MeV\n",
"m_n = 1.0087;    // Mass of a neutron, u\n",
"M_U235 = 235.0439;    // Mass of U-235 nucleus, u\n",
"M_U236 = 236.0456;    // Mass of U-236 nucleus, u\n",
"M_U238 = 238.0508;    // Mass of U-238 nucleus, u\n",
"M_U239 = 239.0543;    // Mass of U-239 nucleus, u\n",
"E_U236 = (m_n + M_U235 - M_U236)*u;    // Excitation energy of U-236 nucleus, MeV\n",
"E_U239 = (m_n + M_U238 - M_U239)*u;    // Excitation energy of U-239 nucleus, MeV\n",
"printf('\nThe excitation energy of U-236 nucleus = %3.1f MeV', E_U236);\n",
"printf('\nThe excitation energy of U-239 nucleus = %3.1f MeV', E_U239);\n",
"\n",
"// Result\n",
"// The excitation energy of U-236 nucleus = 6.5 MeV\n",
"// The excitation energy of U-239 nucleus = 4.8 MeV "
   ]
   }
,
{
		   "cell_type": "markdown",
		   "metadata": {},
		   "source": [
			"## Example 13.7: Nuclear_fission_through_neutron_capture.sce"
		   ]
		  },
  {
"cell_type": "code",
	   "execution_count": null,
	   "metadata": {
	    "collapsed": true
	   },
	   "outputs": [],
"source": [
"\n",
"// Scilab Code Ex13.7: Page-490(2014)\n",
"clc; clear;\n",
"t = 30e-003;    // Time during which the number of fissions is to be calculated, s\n",
"E = 185;    // Energy produced for each fission, MeV\n",
"delta_t = 5e-006;    // Average time during which a neutron is captured, s\n",
"fs = t/delta_t;    // Number of fission cycles within 30 ms\n",
"N = (1.01)^fs;    // Number of fissions that occur in 30 ms\n",
"E_total = N*E;    // Total energy produced in 30 ms, MeV\n",
"printf('\nThe total number of fissions that occur in %d ms = %3.1e', t/1e-003, N);\n",
"printf('\nThe total energy produced = %3.1e MeV', E_total);\n",
"\n",
"// Result\n",
"// The total number of fissions that occur in 30 ms = 8.5e+025\n",
"// The total energy produced = 1.6e+028 MeV \n",
"// The answers are given wrong in the textbook"
   ]
   }
,
{
		   "cell_type": "markdown",
		   "metadata": {},
		   "source": [
			"## Example 13.8: Fusion_reaction_in_supergiant_stars.sce"
		   ]
		  },
  {
"cell_type": "code",
	   "execution_count": null,
	   "metadata": {
	    "collapsed": true
	   },
	   "outputs": [],
"source": [
"// Scilab Code Ex13.8: Page-500(2014)\n",
"clc; clear;\n",
"u = 931.5;    // Energy equivalent of 1 amu, MeV\n",
"M_He = 4.002603;    // Mass of He nucleus, u\n",
"M_C = 12.0 // Mass of carbon nucleus, u\n",
"M_O = 15.994915;    // Mass of oxygen nucleus, u\n",
"Q = (M_He + M_C - M_O)*u;    // Q-value of the reaction, MeV\n",
"printf('\nThe energy expended in the fusion reaction inside supergiant star = %3.1f MeV', Q);\n",
"\n",
"// Result\n",
"//The energy expended in the fusion reaction inside supergiant star = 7.2 MeV "
   ]
   }
,
{
		   "cell_type": "markdown",
		   "metadata": {},
		   "source": [
			"## Example 13.9: EX13_9.sce"
		   ]
		  },
  {
"cell_type": "code",
	   "execution_count": null,
	   "metadata": {
	    "collapsed": true
	   },
	   "outputs": [],
"source": [
"// Scilab Code Ex13.9: Page-502(2014)\n",
"clc; clear;\n",
"k = 1.38e-023;    // Boltzmann constant, J/K\n",
"r = 3e-015;    // Distance at whcih the nuclear force becomes effective, m\n",
"e = 1.6e-019;  // Charge on an electron, C\n",
"K = 9e+009;    // Coulomb's constant, N-Sq.m/C^2\n",
"V = K*e^2/r;    // Coulomb potential energy, J\n",
"// As V = 3/2*k*T, solving for T\n",
"T = 2/3*V/k;    // The ignition temperature needed for the fusion reaction between deuterium and a tritium, K\n",
"printf('\nThe ignition temperature needed for the fusion reaction between a deuterium and a tritium = %3.1e K', T);\n",
"\n",
"// Result\n",
"// The ignition temperature needed for the fusion reaction between a deuterium and a tritium = 3.7e+009 K "
   ]
   }
],
"metadata": {
		  "kernelspec": {
		   "display_name": "Scilab",
		   "language": "scilab",
		   "name": "scilab"
		  },
		  "language_info": {
		   "file_extension": ".sce",
		   "help_links": [
			{
			 "text": "MetaKernel Magics",
			 "url": "https://github.com/calysto/metakernel/blob/master/metakernel/magics/README.md"
			}
		   ],
		   "mimetype": "text/x-octave",
		   "name": "scilab",
		   "version": "0.7.1"
		  }
		 },
		 "nbformat": 4,
		 "nbformat_minor": 0
}
