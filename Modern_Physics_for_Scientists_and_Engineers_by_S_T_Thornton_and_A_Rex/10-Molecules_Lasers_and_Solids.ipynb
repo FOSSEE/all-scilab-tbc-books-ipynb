{
"cells": [
 {
		   "cell_type": "markdown",
	   "metadata": {},
	   "source": [
       "# Chapter 10: Molecules Lasers and Solids"
	   ]
	},
{
		   "cell_type": "markdown",
		   "metadata": {},
		   "source": [
			"## Example 10.1: Energy_of_lowest_rotational_state_of_nitrogen_gas.sce"
		   ]
		  },
  {
"cell_type": "code",
	   "execution_count": null,
	   "metadata": {
	    "collapsed": true
	   },
	   "outputs": [],
"source": [
"// Scilab Code Ex10.1 : Page-342 (2014)\n",
"clc; clear;\n",
"m = 2.33e-026;    // Mass of a nitrogen atom, kg\n",
"R = 1.1e-010;    // Interatomic separtion between two nitrogen atoms, m\n",
"h = 6.626e-034;    // Planck's constant, Js\n",
"e = 1.6e-019;    // Energy equivalent of 1 eV, J\n",
"h_bar = h/(2*%pi);    // Reduced Planck's constant, Js\n",
"I = m*R^2/2;    // Momemt of rotational inertia of nitrogen gas molecule, kg-Sq.m\n",
"l = 1;    // Rotational angular momentum quantum number\n",
"E_rot = h_bar^2*l*(l+1)/(2*I);    // The energy for lowest rotational state of the nitrogen molecule, J\n",
"printf('\nThe energy for lowest rotational state of the nitrogen molecule = %4.2e eV', E_rot/e);\n",
"\n",
"// Result\n",
"// The energy for lowest rotational state of the nitrogen molecule = 4.93e-004 eV  "
   ]
   }
,
{
		   "cell_type": "markdown",
		   "metadata": {},
		   "source": [
			"## Example 10.2: Vibrational_energy_levels_of_HCl_molecule.sce"
		   ]
		  },
  {
"cell_type": "code",
	   "execution_count": null,
	   "metadata": {
	    "collapsed": true
	   },
	   "outputs": [],
"source": [
"\n",
"// Scilab Code Ex10.2 : Page-343 (2014)\n",
"clc; clear;\n",
"h = 6.626e-034;    // Planck's constant, Js\n",
"e = 1.6e-019;    // Energy equivalent of 1 eV, J\n",
"h_bar = h/(2*%pi);    // Reduced Planck's constant, Js\n",
"k = 1.38e-023;    // Boltzmann constant, J/K\n",
"u = 1.67e-027;    // Mass equivalent of 1 amu, kg\n",
"m1 = 34.97*u;    // Atomic mass of chlorine atom, kg\n",
"m2 = 1.008*u;    // Atomic mass of hydrogen atom, kg\n",
"mu = m1*m2/(m1 + m2);    // Reduced mass of the HCl system, kg\n",
"delta_E = 0.36;    // Spacing between vibrational energy levels of the HCl molecule, eV\n",
"omega = delta_E*e/h_bar;    // Angular frequency of vibration, rad/s\n",
"kapa = mu*omega^2;    // Effective force constant for HCl molecule, N/m\n",
"T = delta_E*e/k;    // Classical temperature associated with the rotational energy spacing, K\n",
"\n",
"printf('\nThe effective force constant for HCl molecule = %3d N/m', ceil(kapa));\n",
"printf('\nThe classical temperature associated with the rotational energy spacing = %4d K', ceil(T));\n",
"\n",
"// Result\n",
"// The effective force constant for HCl molecule = 489 N/m\n",
"// The classical temperature associated with the rotational energy spacing = 4174 K \n",
"// The answers are given wrong in the textbook"
   ]
   }
,
{
		   "cell_type": "markdown",
		   "metadata": {},
		   "source": [
			"## Example 10.4: Range_parameter_for_NaCl.sce"
		   ]
		  },
  {
"cell_type": "code",
	   "execution_count": null,
	   "metadata": {
	    "collapsed": true
	   },
	   "outputs": [],
"source": [
"// Scilab Code Ex10.4 : Page-358 (2014)\n",
"clc; clear;\n",
"e = 1.602e-019;    // Charge on an electron, C\n",
"N_A = 6.023e+023;    // Avogadro's number\n",
"alpha = 1.7476;    // Madelung constant\n",
"E = -764.4e+003;    // Dissociation energy of NaCl molecule, J/mol\n",
"V = E/N_A;    // Repulsive potential energy, J\n",
"k = 8.988e+009;    // Coulomb's constant, N-Sq.m/C^2\n",
"r0 = 0.282e-009;    // Equilibrium separation for nearest neighbour in NaCl, m\n",
"rho = r0*(1+r0*V/(k*alpha*e^2));    // Range parameter for NaCl, nm\n",
"printf('\nThe range parameter for NaCl = %6.4f nm', rho/1e-009);\n",
"\n",
"// Result\n",
"// The range parameter for NaCl = 0.0316 nm "
   ]
   }
,
{
		   "cell_type": "markdown",
		   "metadata": {},
		   "source": [
			"## Example 10.5: Induced_diamagnetism_in_an_atom.sce"
		   ]
		  },
  {
"cell_type": "code",
	   "execution_count": null,
	   "metadata": {
	    "collapsed": true
	   },
	   "outputs": [],
"source": [
"// Scilab Code Ex10.5 :Page-364 (2014)\n",
"clc; clear;\n",
"e = 1.602e-019;    // Charge on an electron, C\n",
"r = 5.29e-011;    // Orbital radius of electron equal to Bohr radius, m\n",
"B = 2.0;    // Applied magnetic field, T\n",
"m = 9.11e-031;    // Mass of an electron, kg\n",
"delta_mu = e^2*r^2*B/(4*m);    // Induced diamagnetic moment in the atom, J/T\n",
"printf('\nThe induced diamagnetic moment in the atom = %3.1e J/T', delta_mu);\n",
"\n",
"// Result\n",
"// The induced diamagnetic moment in the atom = 3.9e-029 J/T "
   ]
   }
,
{
		   "cell_type": "markdown",
		   "metadata": {},
		   "source": [
			"## Example 10.6: Paramagnetism_in_a_typical_material.sce"
		   ]
		  },
  {
"cell_type": "code",
	   "execution_count": null,
	   "metadata": {
	    "collapsed": true
	   },
	   "outputs": [],
"source": [
"// Scilab Code Ex10.6 : Page-366 (2014)\n",
"clc; clear;\n",
"mu_B = 9.27e-024;    // Bohr's magneton, J/T\n",
"B = 0.50;    // Applied magnetic field, T\n",
"k = 1.38e-023;    // Boltzmann constant, J/K\n",
"T = 10*mu_B*B/k;    // Temperature at which mu*B = 0.1k*T, K\n",
"b_muB = mu_B*B/(k*T);\n",
"ratio = b_muB/tanh(b_muB);    // Ratio of b_muB and tanh(b_muB)\n",
"if (ratio - 1) < 0.01 then\n",
"    printf('\nThe value of T = %4.2f K is suiable as a classical temperature.', T);\n",
"else\n",
"    printf('\nThe value of T = %4.2f K is not suiable as a classical temperature.', T);\n",
"end\n",
"// For higher temperature\n",
"T = 100;    // Given temperature\n",
"b_muB = mu_B*B/(k*T);\n",
"ratio = b_muB/tanh(b_muB);    // Ratio of b_muB and tanh(b_muB)\n",
"if (ratio - 1) < 0.001 then\n",
"    printf('\nAt the value of T = %4.2f K, the approximation is an excellent one.', T);\n",
"else\n",
"    printf('\nAt the value of T = %4.2f K, the approximation is not an excellent.', T);\n",
"end\n",
"\n",
"// Result\n",
"// The value of T = 3.36 K is suiable as a classical temperature.\n",
"// At the value of T = 100.00 K, the approximation is an excellent one. "
   ]
   }
,
{
		   "cell_type": "markdown",
		   "metadata": {},
		   "source": [
			"## Example 10.7: Superconductivity_in_niobium.sce"
		   ]
		  },
  {
"cell_type": "code",
	   "execution_count": null,
	   "metadata": {
	    "collapsed": true
	   },
	   "outputs": [],
"source": [
"// Scilab Code Ex10.7 : Page-374 (2014)\n",
"clc; clear;\n",
"k = 1.38e-023;    // Boltzmann constant, J/K\n",
"e = 1.602e-019;    // Energy equivalent of 1 eV, J\n",
"h = 6.62e-034;    // Planck's constant, Js\n",
"c = 3.00e+008;    // Speed of light, m/s\n",
"T_c = 9.25;    // Critical temperature for niobium, K\n",
"E_g = 3.54*k*T_c;    // Energy gap for niobium from BCS theory, J\n",
"lambda = h*c/E_g;    // Minimum photon wavelength needed to break the Cooper pair, m\n",
"printf('\nThe energy gap for niobium = %4.2f meV', E_g/(e*1e-003));\n",
"printf('\nThe minimum photon wavelength needed to break the Cooper pair = %4.2e m', lambda);\n",
"\n",
"// Result\n",
"// The energy gap for niobium from BCS theory = 2.82 meV\n",
"// The minimum photon wavelength needed to break the Cooper pair = 4.39e-004 m "
   ]
   }
,
{
		   "cell_type": "markdown",
		   "metadata": {},
		   "source": [
			"## Example 10.8: Magnetic_field_perpendicular_to_the_loop.sce"
		   ]
		  },
  {
"cell_type": "code",
	   "execution_count": null,
	   "metadata": {
	    "collapsed": true
	   },
	   "outputs": [],
"source": [
"// Scilab Code Ex10.8 : Page-382 (2014)\n",
"clc; clear;\n",
"r = 1e-002;    // Radius of the loop, m\n",
"phi0 = 2.068e-015;    // Magnetic flux penetrating to the loop, T-Sq.m\n",
"A = %pi*r^2;    // Area of the loop, Sq.m\n",
"B = phi0/A;    // Magnetic field perpendicular to the loop, T\n",
"printf('\nThe magnetic field perpendicular to the loop = %4.2e T', B);\n",
"\n",
"// Result\n",
"// The magnetic field perpendicular to the loop = 6.58e-012 T "
   ]
   }
],
"metadata": {
		  "kernelspec": {
		   "display_name": "Scilab",
		   "language": "scilab",
		   "name": "scilab"
		  },
		  "language_info": {
		   "file_extension": ".sce",
		   "help_links": [
			{
			 "text": "MetaKernel Magics",
			 "url": "https://github.com/calysto/metakernel/blob/master/metakernel/magics/README.md"
			}
		   ],
		   "mimetype": "text/x-octave",
		   "name": "scilab",
		   "version": "0.7.1"
		  }
		 },
		 "nbformat": 4,
		 "nbformat_minor": 0
}
