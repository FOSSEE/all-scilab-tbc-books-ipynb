{
"cells": [
 {
		   "cell_type": "markdown",
	   "metadata": {},
	   "source": [
       "# Chapter 8: Atomic Physics"
	   ]
	},
{
		   "cell_type": "markdown",
		   "metadata": {},
		   "source": [
			"## Example 8.3: Splitting_of_3p_subshell_of_sodium.sce"
		   ]
		  },
  {
"cell_type": "code",
	   "execution_count": null,
	   "metadata": {
	    "collapsed": true
	   },
	   "outputs": [],
"source": [
"// Scilab Code Ex8.3: Page-285 (2014)\n",
"clc; clear;\n",
"delta_E = 2e-003;    // Energy difference for the 3p subshell of sodium, eV\n",
"h = 6.62e-034;    // Planck's constant, Js\n",
"e = 1.602e-019;    // Energy equivalent of 1 eV, J\n",
"c = 3.00e+008;    // Speed of light in vacuum, m/s\n",
"lambda = 589.3;    // Wavelength of spectral line, nm\n",
"// As delta_E = h*c/lambda^2*delta_lambda, solving for delta_lambda\n",
"delta_lambda = lambda^2*e/(h*c*1e+009)*delta_E;    // Splitting of 3p subshell of sodium, nm\n",
"printf('\nThe splitting of 3p subshell of sodium = %3.1f nm', delta_lambda);\n",
"\n",
"// Result\n",
"// The splitting of 3p subshell of sodium = 0.6 nm "
   ]
   }
,
{
		   "cell_type": "markdown",
		   "metadata": {},
		   "source": [
			"## Example 8.5: LS_coupling_of_two_electrons_in_an_atom.sce"
		   ]
		  },
  {
"cell_type": "code",
	   "execution_count": null,
	   "metadata": {
	    "collapsed": true
	   },
	   "outputs": [],
"source": [
"// Scilab Code Ex8.5: Page-289 (2014)\n",
"clc; clear;\n",
"l1 = 1;    // Orbital angular momentum quantum number for first electron\n",
"l2 = 2;    // Orbital angular momentum quantum number for second electron\n",
"s1 = 1/2;    // Spin angular momentum quantum number for first electron\n",
"s2 = 1/2;    // Spin angular momentum quantum number for second electron\n",
"temp_j = zeros(15);\n",
"cnt = 1;\n",
"printf('\nThe all possibe values of the total angular momentum quantum number of J are:\n');\n",
"for L = abs(l1 - l2):1:abs(l1 + l2)\n",
"    for S = abs(s1 - s2):1:abs(s1 + s2)\n",
"        for j = abs(L - S):1:abs(L + S)\n",
"            temp_j(cnt) = j; \n",
"            cnt = cnt + 1;\n",
"        end\n",
"    end\n",
"end\n",
"J = -1;\n",
"temp_J = gsort(temp_j, 'g', 'i');\n",
"for i = 1:1:cnt-1\n",
"    if temp_J(i) > J  then\n",
"       J = temp_J(i);\n",
"       printf('%d  ', J);\n",
"    end\n",
"end\n",
"\n",
"// Result\n",
"// The all possibe values of the total angular momentum quantum number of J are:\n",
"// 0  1  2  3  4   "
   ]
   }
,
{
		   "cell_type": "markdown",
		   "metadata": {},
		   "source": [
			"## Example 8.8: Internal_magnetic_field_causing_spin_orbit_splitting.sce"
		   ]
		  },
  {
"cell_type": "code",
	   "execution_count": null,
	   "metadata": {
	    "collapsed": true
	   },
	   "outputs": [],
"source": [
"// Scilab Code Ex8.8: Page-291 (2014)\n",
"clc; clear;\n",
"delta_E = 0.0021;    // Energy difference for the 3p subshell of sodium, eV\n",
"h = 6.62e-034;    // Planck's constant, Js\n",
"h_bar = h/(2*%pi);    // Reduced Planck's constant, Js\n",
"e = 1.602e-019;    // Energy equivalent of 1 eV, J\n",
"m = 9.11e-031;    // Rest of an an electron, kg\n",
"g_s = 2;    // Gyromagnetic ratio due to spin splitting\n",
"// As delta_E = g_s*e*h_bar/(2*m)*B, solving for B\n",
"B = m*delta_E/h_bar;    // Internal magnetic field causing the LS splitting, T\n",
"printf('\nThe internal magnetic field causing the LS splitting = %2d T', B);\n",
"\n",
"// Result\n",
"// The internal magnetic field causing the LS splitting = 18 T"
   ]
   }
],
"metadata": {
		  "kernelspec": {
		   "display_name": "Scilab",
		   "language": "scilab",
		   "name": "scilab"
		  },
		  "language_info": {
		   "file_extension": ".sce",
		   "help_links": [
			{
			 "text": "MetaKernel Magics",
			 "url": "https://github.com/calysto/metakernel/blob/master/metakernel/magics/README.md"
			}
		   ],
		   "mimetype": "text/x-octave",
		   "name": "scilab",
		   "version": "0.7.1"
		  }
		 },
		 "nbformat": 4,
		 "nbformat_minor": 0
}
