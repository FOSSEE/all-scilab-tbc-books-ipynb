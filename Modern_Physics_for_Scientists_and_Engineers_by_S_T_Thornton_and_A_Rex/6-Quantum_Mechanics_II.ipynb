{
"cells": [
 {
		   "cell_type": "markdown",
	   "metadata": {},
	   "source": [
       "# Chapter 6: Quantum Mechanics II"
	   ]
	},
{
		   "cell_type": "markdown",
		   "metadata": {},
		   "source": [
			"## Example 6.14: Fraction_of_electrons_tunneling_through_a_barrier.sce"
		   ]
		  },
  {
"cell_type": "code",
	   "execution_count": null,
	   "metadata": {
	    "collapsed": true
	   },
	   "outputs": [],
"source": [
"// Scilab Code Ex6.14: Page-229 (2014)\n",
"clc; clear;\n",
"h = 6.62e-034;    // Planck's constant, Js\n",
"h_bar = h/(2*%pi);    // Reduced Planck's constant, Js\n",
"c = 3.00e+008;    // Speed of light, m/s\n",
"e = 1.602e-019;    // Energy equivalent of 1 eV, J\n",
"m = 0.511e+006;    // Energy equivalent of electron rest mass, eV\n",
"V0 = 10;    // Height of potential barrier, eV\n",
"E = 5;    // Energy of the incident electrons, eV\n",
"L = 0.8e-009;    // Width of the potential barrier, m\n",
"k = sqrt(2*m*(V0 - E))*e/(h_bar*c);    // Schrodinger's constant, per m\n",
"T = (1 + V0^2*sinh(k*L)^2/(4*E*(V0 - E)))^(-1);    // Transmission electron probability\n",
"printf('\nThe fraction of electrons tunneled through the barrier = %3.1e', T);\n",
"\n",
"// Result\n",
"// The fraction of electrons tunneled through the barrier = 4.4e-008 "
   ]
   }
,
{
		   "cell_type": "markdown",
		   "metadata": {},
		   "source": [
			"## Example 6.15: Probability_of_electron_tunneling_through_the_barrier.sce"
		   ]
		  },
  {
"cell_type": "code",
	   "execution_count": null,
	   "metadata": {
	    "collapsed": true
	   },
	   "outputs": [],
"source": [
"// Scilab Code Ex6.15: Page-229 (2014)\n",
"clc; clear;\n",
"h = 6.62e-034;    // Planck's constant, Js\n",
"h_bar = h/(2*%pi);    // Reduced Planck's constant, Js\n",
"c = 3.00e+008;    // Speed of light, m/s\n",
"e = 1.602e-019;    // Energy equivalent of 1 eV, J\n",
"m = 0.511e+006;    // Energy equivalent of electron rest mass, eV\n",
"V0 = 10;    // Height of potential barrier, eV\n",
"Sum_M = 0;\n",
"i = 1;\n",
"for E = 5:-1:1    // Range of energies of the incident electrons, eV\n",
"    M = 16*E/V0*(1-E/V0);    // All the factors multiplying the exponential term\n",
"    Sum_M = Sum_M + M;    // Accumulator\n",
"    i = i + 1;\n",
"end\n",
"E = 5;    // Given energy of the incident electrons, eV\n",
"M = int(Sum_M/i);    // Avearge value of M\n",
"L = 0.8e-009;    // Width of the potential barrier, m\n",
"k = sqrt(2*m*(V0 - E))*e/(h_bar*c);    // Schrodinger's constant, per m\n",
"T = M*exp(-2*k*L);    // Transmission electron probability\n",
"printf('\nThe fraction of electrons tunneled through the barrier = %3.1e', T);\n",
"\n",
"// Result\n",
"// The fraction of electrons tunneled through the barrier = 2.2e-008 "
   ]
   }
,
{
		   "cell_type": "markdown",
		   "metadata": {},
		   "source": [
			"## Example 6.16: A_particle_penetrating_through_a_potential_step.sce"
		   ]
		  },
  {
"cell_type": "code",
	   "execution_count": null,
	   "metadata": {
	    "collapsed": true
	   },
	   "outputs": [],
"source": [
"// Scilab Code Ex6.16: Page-230 (2014)\n",
"clc; clear;\n",
"h = 6.62e-034;    // Planck's constant, Js\n",
"h_bar = h/(2*%pi);    // Reduced Planck's constant, Js\n",
"c = 3.00e+008;    // Speed of light, m/s\n",
"e = 1.602e-019;    // Energy equivalent of 1 eV, J\n",
"m = 0.511e+006;    // Energy equivalent of electron rest mass, eV\n",
"V0 = 10;    // Height of potential barrier, eV\n",
"E = 5;    // Given energy of the incident electrons, eV\n",
"l = h_bar*c/(2*sqrt(2*m*(V0 - E))*1e-009*e);    // Penetration distance into the barrier when the probability of the particle penetration drops to 1/e, nm\n",
"printf('\nThe penetration distance for a %d eV electron approaching a step barrier of %d eV = %5.3f nm', E, V0, l);\n",
"\n",
"// Result\n",
"// The penetration distance for a 5 eV electron approaching a step barrier of 10 eV = 0.044 nm "
   ]
   }
,
{
		   "cell_type": "markdown",
		   "metadata": {},
		   "source": [
			"## Example 6.17: An_alpha_particle_tunnelling_through_a_nucleus.sce"
		   ]
		  },
  {
"cell_type": "code",
	   "execution_count": null,
	   "metadata": {
	    "collapsed": true
	   },
	   "outputs": [],
"source": [
"\n",
"// Scilab Code Ex6.17: Page-234 (2014)\n",
"clc; clear;\n",
"h = 6.62e-034;    // Planck's constant, Js\n",
"h_bar = h/(2*%pi);    // Reduced Planck's constant, Js\n",
"c = 3.00e+008;    // Speed of light, m/s\n",
"e = 1.602e-019;    // Charge on an electron, C\n",
"k = 9e+009;    // Coulomb constant, N-Sq.m./C^2\n",
"m = 3727;    // Energy equivalent of alpha particle rest mass, MeV\n",
"E = 5;    // Given energy of the incident electrons, eV\n",
"Z1 = 2;    // Atomic number of an alpha particle\n",
"Z2 = 92;    // Atomic number of the U-238 nucleus\n",
"r_N = 7e-015;    // Nuclear radius, m\n",
"K = 4.2;    // Kinetic energy of alpha particle, MeV\n",
"V_C = Z1*Z2*e^2*k/(r_N*e*1e+006);    // Coulomb Potential, MeV\n",
"r_prime = V_C*r_N/(K*1e-015);    // Distance through which the alpha particle must tunnel, fm\n",
"kapa = sqrt(2*m*(V_C-E))*e/(h_bar*c*1e-006);    // Schronginger's Constant, per m\n",
"L = r_prime - r_N/1e-015;    // Barrier width, fm\n",
"T = 16*(K/V_C)*(1-K/V_C)*exp(-2*kapa*L*1e-015);    // Tunnelling probability of alpha particle\n",
"V_C_new = V_C/2;    // Potential equal to half the Coulomb potential, MeV\n",
"L = L/2;    // Width equal to half the barrier width, fm\n",
"kapa = sqrt(2*m*(V_C_new-E))*e/(h_bar*c*1e-006);    // Schronginger's Constant, per m\n",
"T_a = 16*(K/V_C_new)*(1-K/V_C_new)*exp(-2*kapa*L*1e-015);    // Approximated tunnelling probability of alpha particle\n",
"v = sqrt(2*K/m)*c;    // Speed of the alpha particle, m/s\n",
"t = r_N/v;    // Time taken by alpha particle to cross the U-238 nucleus, s\n",
"printf('\nThe barrier height = %2d MeV', ceil(V_C));\n",
"printf('\nThe distance that alpha particle must tunnel = %2d fm', r_prime);\n",
"printf('\nThe tunneling potential assuming square-top potential = %1.0e', T);\n",
"printf('\nThe approximated tunneling potential = %3.1e', T_a);\n",
"printf('\nThe speed of the alpha particle = %3.1e m/s', v);\n",
"printf('\nThe time taken by alpha particle to cross the U-238 nucleus = %1.0e s', t);\n",
"\n",
"// Result\n",
"// The barrier height = 38 MeV\n",
"// The distance that alpha particle must tunnel = 63 fm\n",
"// The answers are given wrongly in the textbook\n",
"// The tunneling potential assuming square-top potential = 6e-123\n",
"// The approximated tunneling potential = 3.8e-040\n",
"// The speed of the alpha particle = 1.4e+007 m/s\n",
"// The time taken by alpha particle to cross the U-238 nucleus = 5e-022 s \n",
"// Some answers are given wrong in the textbook for this problem"
   ]
   }
,
{
		   "cell_type": "markdown",
		   "metadata": {},
		   "source": [
			"## Example 6.4: Probabilities_of_a_particle_in_the_given_regions.sce"
		   ]
		  },
  {
"cell_type": "code",
	   "execution_count": null,
	   "metadata": {
	    "collapsed": true
	   },
	   "outputs": [],
"source": [
"// Scilab Code Ex6.4 : Page-205 (2014)\n",
"clc; clear;\n",
"alpha = 1;    // For simplicity assume alpha to be unity\n",
"P = integrate('sqrt(alpha)*exp(-2*alpha*x)', 'x', 0, 1/alpha);    // Probability that the particle lies between 0 and 1/alpha\n",
"printf('\nThe probability that the particle lies between 0 and 1/alpha = %5.3f', P);\n",
"P = integrate('sqrt(alpha)*exp(-2*alpha*x)', 'x', 1/alpha, 2/alpha);    // Probability that the particle lies between 1/alpha and 2/alpha\n",
"printf('\nThe probability that the particle lies between 1/alpha and 2/alpha = %5.3f', P);\n",
"\n",
"// Result\n",
"// The probability that the particle lies between 0 and 1/alpha = 0.432\n",
"// The probability that the particle lies between 1/alpha and 2/alpha = 0.059 "
   ]
   }
,
{
		   "cell_type": "markdown",
		   "metadata": {},
		   "source": [
			"## Example 6.9: Transition_energy_for_a_proton_confined_to_a_nucleus.sce"
		   ]
		  },
  {
"cell_type": "code",
	   "execution_count": null,
	   "metadata": {
	    "collapsed": true
	   },
	   "outputs": [],
"source": [
"// Scilab Code Ex6.9: Page-215 (2014)\n",
"clc; clear;\n",
"h = 6.62e-034;    // Planck's constant, Js\n",
"h_bar = h/(2*%pi);    // Reduced Planck's constant, Js\n",
"c = 3.00e+008;    // Speed of light, m/s\n",
"e = 1.602e-019;    // Energy equivalent of 1 eV, J\n",
"m = 938.3e+006;    // Energy equivalent of proton mass, eV\n",
"L = 1e-005;    // Diameter of the nucleus, nm\n",
"E1 = %pi^2*(h_bar*c/(e*1e-009))^2/(2*L^2*m*1e+006);      // Energy of the ground state of proton, MeV\n",
"E2 = 4*E1;    // Energy of first excited state of proton, MeV\n",
"delta_E = E2 -E1;    // Transition energy of the proton inside the nucleus, MeV\n",
"printf('\nThe transition energy of the proton inside the nucleus = %1d MeV', delta_E);\n",
"\n",
"// Result\n",
"// The transition energy of the proton inside the nucleus = 6 MeV "
   ]
   }
],
"metadata": {
		  "kernelspec": {
		   "display_name": "Scilab",
		   "language": "scilab",
		   "name": "scilab"
		  },
		  "language_info": {
		   "file_extension": ".sce",
		   "help_links": [
			{
			 "text": "MetaKernel Magics",
			 "url": "https://github.com/calysto/metakernel/blob/master/metakernel/magics/README.md"
			}
		   ],
		   "mimetype": "text/x-octave",
		   "name": "scilab",
		   "version": "0.7.1"
		  }
		 },
		 "nbformat": 4,
		 "nbformat_minor": 0
}
