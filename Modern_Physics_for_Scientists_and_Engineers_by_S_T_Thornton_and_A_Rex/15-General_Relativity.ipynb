{
"cells": [
 {
		   "cell_type": "markdown",
	   "metadata": {},
	   "source": [
       "# Chapter 15: General Relativity"
	   ]
	},
{
		   "cell_type": "markdown",
		   "metadata": {},
		   "source": [
			"## Example 15.1: Gravitational_time_dilation_effect.sce"
		   ]
		  },
  {
"cell_type": "code",
	   "execution_count": null,
	   "metadata": {
	    "collapsed": true
	   },
	   "outputs": [],
"source": [
"// Scilab Code Ex15.1: Page-562(2014)\n",
"clc; clear;\n",
"g = 9.8;    // Acceleration due to gravity, m/sec^2\n",
"H = 10000;    // Altitude of the aeroplane above the surface of earth, m\n",
"c = 3.00e+008;    // Speed of light in free space, m/s\n",
"T = 45*3600;    // Time taken by the airplane to from eastward to westward trip, s\n",
"delta_T_G = g*H*T/(c^2*1e-009);    // Time difference in the two clocks due to gravitational redshift, ns\n",
"C = 4e+007;    // Circumference of the earth, m \n",
"v = 300;        // Speed of the jet airplane, m/s\n",
"T0 = C/v;    // Time of flight of jet airplane very near the surface of the earth, s\n",
"bita = v/c;    // Boost parameter\n",
"// As from special relativity time dilation relation, T = T0*sqrt(1-bita^2), solving for T0 - T = delta_T_R, we have\n",
"delta_T_R = T0*(1-sqrt(1-bita^2))/1e-009;    // Time difference in the two clocks due to special relativity, ns\n",
"printf('\nThe gravitational time dilation effect of %d ns is larger than the approximate %4.1f ns of that of special relativity.', ceil(delta_T_G), delta_T_R);\n",
"\n",
"// Result\n",
"// The gravitational time dilation effect of 177 ns is larger than the approximate 66.7 ns of that of special relativity. "
   ]
   }
,
{
		   "cell_type": "markdown",
		   "metadata": {},
		   "source": [
			"## Example 15.2: Schwarzschild_radius_for_the_sun_and_the_earth.sce"
		   ]
		  },
  {
"cell_type": "code",
	   "execution_count": null,
	   "metadata": {
	    "collapsed": true
	   },
	   "outputs": [],
"source": [
"// Scilab Code Ex15.2: Page-567(2014)\n",
"clc; clear;\n",
"c = 3.00e+008;    // Speed of light in free space, m/s\n",
"G = 6.67e-011;    // Newton's gravitational constant, N-Sq.m/per kg square\n",
"M_S = 2.0e+030;    // Mass of the sun, kg\n",
"M_E = 6.0e+024;    // Mass of the earth, kg\n",
"r_S = 2*G*M_S/(c^2*1e+003);    // Schwarzschild radius for sun, km\n",
"r_E = 2*G*M_E/(c^2*1e-003);    // Schwarzschild radius for earth, mm\n",
"printf('\nThe Schwarzschild radius for sun = %d km', ceil(r_S));\n",
"printf('\nThe Schwarzschild radius for earth = %d mm', ceil(r_E));\n",
"\n",
"// Result\n",
"// The Schwarzschild radius for sun = 3 km\n",
"// The Schwarzschild radius for earth = 9 mm "
   ]
   }
,
{
		   "cell_type": "markdown",
		   "metadata": {},
		   "source": [
			"## Example 15.3: Time_taken_by_a_black_hole_to_radiate_its_energy.sce"
		   ]
		  },
  {
"cell_type": "code",
	   "execution_count": null,
	   "metadata": {
	    "collapsed": true
	   },
	   "outputs": [],
"source": [
"// Scilab Code Ex15.3: Page-568(2014)\n",
"clc; clear;\n",
"c = 3.00e+008;    // Speed of light in free space, m/s\n",
"G = 6.67e-011;    // Newton's gravitational constant, N-Sq.m/per kg square\n",
"h = 6.62e-034;    // Planck's constant, Js\n",
"h_bar = h/(2*%pi);    // Reduced Planck's constant, Js\n",
"sigma = 5.67e-008;    // Stefan-Boltzmann constant, W per Sq.m per K^4\n",
"k = 1.38e-023;    // Boltzmann constant, J/K\n",
"M0 = 1.99e+030;    // Mass of the sun, kg\n",
"alpha = 2*sigma*h_bar^4*c^6/((8*%pi)^3*k^4*G^2);    // A constant, kg^3/s\n",
"t = integrate('1/alpha*M^2', 'M', 0, 3*M0);\n",
"printf('\nThe time required for the 3-solar-mass black hole to evaporate = %3.1e y', t/(365.25*24*60*60));\n",
"\n",
"// Result\n",
"// The time required for the 3-solar-mass black hole to evaporate = 5.7e+068 y "
   ]
   }
],
"metadata": {
		  "kernelspec": {
		   "display_name": "Scilab",
		   "language": "scilab",
		   "name": "scilab"
		  },
		  "language_info": {
		   "file_extension": ".sce",
		   "help_links": [
			{
			 "text": "MetaKernel Magics",
			 "url": "https://github.com/calysto/metakernel/blob/master/metakernel/magics/README.md"
			}
		   ],
		   "mimetype": "text/x-octave",
		   "name": "scilab",
		   "version": "0.7.1"
		  }
		 },
		 "nbformat": 4,
		 "nbformat_minor": 0
}
