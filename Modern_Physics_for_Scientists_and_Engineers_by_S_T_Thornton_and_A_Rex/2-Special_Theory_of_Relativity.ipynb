{
"cells": [
 {
		   "cell_type": "markdown",
	   "metadata": {},
	   "source": [
       "# Chapter 2: Special Theory of Relativity"
	   ]
	},
{
		   "cell_type": "markdown",
		   "metadata": {},
		   "source": [
			"## Example 2.11: Accelerating_electrons_to_produce_X_rays.sce"
		   ]
		  },
  {
"cell_type": "code",
	   "execution_count": null,
	   "metadata": {
	    "collapsed": true
	   },
	   "outputs": [],
"source": [
"// Scilab Code Ex2.11: Page-64 (2013)\n",
"clc; clear;\n",
"q = 1.6e-019;    // Charge on an electron, C\n",
"V = 25e+003;    // Accelerating potential, volt\n",
"K = q*V;    // Kinetic energy of electrons, J\n",
"m = 9.11e-031;    // Rest mass of an electron, kg\n",
"c = 3.00e+08;    // Speed of light, m/s\n",
"// From relativistic kinetic energy formula, K = (gama - 1)*m*C^2, solving for gama\n",
"gama = 1 + K/(m*c^2);    // Relativistic factor\n",
"bita = sqrt((gama^2-1)/gama^2);    // Boost parameter\n",
"u = bita*c;    // Speed of the electrons, m/s\n",
"// From non-relativistic expression, K = 1/2*m*u^2, solving for u\n",
"u_classical = sqrt(2*K/m);    // Non-relativistic speed of the electrons, m/s\n",
"u_error = (u_classical - u)/u_classical*100;    // Percentage error in speed of electrons, m/s\n",
"printf('\nThe relativistic speed of the accelerated electrons = %4.2e m/s', u);\n",
"printf('\nThe classical speed is about %d percent greater than the relativistic speed', ceil(u_error));\n",
"\n",
"// Result\n",
"// The relativistic speed of the accelerated electrons = 9.04e+007 m/s\n",
"// The classical speed is about 4 percent greater than the relativistic speed "
   ]
   }
,
{
		   "cell_type": "markdown",
		   "metadata": {},
		   "source": [
			"## Example 2.13: Head_on_collision_of_two_protons.sce"
		   ]
		  },
  {
"cell_type": "code",
	   "execution_count": null,
	   "metadata": {
	    "collapsed": true
	   },
	   "outputs": [],
"source": [
"// Scilab Code Ex2.13: Page-69 (2013)\n",
"clc; clear;\n",
"c = 1;    // For simplicity assume peed of light to be unity, m/s\n",
"K = 2.00;    // Kinetic energy of protons, GeV\n",
"E0 = 0.938;    // Rest mass of a proton, GeV\n",
"E = K + E0;    // Total energy of the proton, GeV\n",
"// From relativistic mass energy relation, E^2 = (p*c)^2+E0^2, solving for p\n",
"p = sqrt(E^2 - E0^2)/c;    // Momentum of the protons, GeV/c\n",
"// As E = gama*E0, solving for gama\n",
"gama = E/E0;    // Relativistic factor\n",
"bita = sqrt((gama^2-1)/gama^2);    // Boost parameter\n",
"v = bita*3.00e+08;    // Speed of 2 GeV proton, m/s\n",
"printf('\nThe energy of each initial proton = %5.3f GeV', E);\n",
"printf('\nThe momentum of each initial proton = %4.2f GeV/c', p);\n",
"printf('\nThe speed of each initial proton = %3.1e m/s', v);\n",
"printf('\nThe relativistic factor, gama = %4.2f', gama);\n",
"printf('\nThe boost parameter, beta = %5.3f', bita);\n",
"\n",
"// Result \n",
"// The energy of each initial proton = 2.938 GeV\n",
"// The momentum of each initial proton = 2.78 GeV/c\n",
"// The speed of each initial proton = 2.8e+008 m/s\n",
"// The relativistic factor, gama = 3.13\n",
"// The boost parameter, beta = 0.948  "
   ]
   }
,
{
		   "cell_type": "markdown",
		   "metadata": {},
		   "source": [
			"## Example 2.15: Minimum_kinetic_energy_of_the_protons_in_head_on_collision.sce"
		   ]
		  },
  {
"cell_type": "code",
	   "execution_count": null,
	   "metadata": {
	    "collapsed": true
	   },
	   "outputs": [],
"source": [
"// Scilab Code Ex2.15: Page-71 (2013)\n",
"clc; clear;\n",
"E_d = 1875.6;    // Rest mass energy of the deuterium, MeV\n",
"E_pi = 139.6;    // Rest mass energy of the pion, MeV\n",
"E_p = 938.3;    // Rest mass energy of the proton, MeV\n",
"K = 1/2*(E_d + E_pi - 2*E_p);    // Minimum kinetic energy of the protons, MeV \n",
"printf('\nThe minimum kinetic energy of the protons = %2d MeV', K);\n",
"\n",
"// Result \n",
"// The minimum kinetic energy of the protons = 69 MeV "
   ]
   }
,
{
		   "cell_type": "markdown",
		   "metadata": {},
		   "source": [
			"## Example 2.16: Binding_energy_of_He_nucleus.sce"
		   ]
		  },
  {
"cell_type": "code",
	   "execution_count": null,
	   "metadata": {
	    "collapsed": true
	   },
	   "outputs": [],
"source": [
"// Scilab Code Ex2.16: Page-72 (2013)\n",
"clc; clear\n",
"u = 931.5;    // Energy equivalent of 1 amu, MeV\n",
"c = 1;    // Speed of light in vacuum, m/s\n",
"m_e = 0.000549*u;    // Rest mass of an electron, MeV/c^2\n",
"m_p = 1.007276*u;    // Rest mass of a proton, MeV/c^2\n",
"m_n = 1.008665*u;    // Rest mass of a neutron, MeV/c^2\n",
"m_He = 4.002603*u;    // Rest mass of a helium, MeV/c^2\n",
"M_He = m_He - 2*m_e;    // Mass of He nucleus, MeV/c^2\n",
"E_B_He = (2*m_p + 2*m_n - M_He)*c^2;    // Binding energy of the He nucleus, MeV\n",
"printf('\nThe binding energy of the He nucleus = %4.1f MeV', E_B_He);\n",
"\n",
"// Result \n",
"// The binding energy of the He nucleus = 28.3 MeV "
   ]
   }
,
{
		   "cell_type": "markdown",
		   "metadata": {},
		   "source": [
			"## Example 2.17: Fractional_mass_increase_of_the_Na_and_Cl_atoms.sce"
		   ]
		  },
  {
"cell_type": "code",
	   "execution_count": null,
	   "metadata": {
	    "collapsed": true
	   },
	   "outputs": [],
"source": [
"// Scilab Code Ex2.17: Page-72 (2013)\n",
"clc; clear\n",
"u = 931.5;    // Energy equivalent of 1 amu, MeV/u\n",
"c = 1;    // For simplicity assume speed of light in vacuum to be unity, m/s\n",
"E_B = 4.24;    // The dissociationenergy of the NaCl molecule, MeV\n",
"M = 58.44*u;    // Energy corresponding to molecular mass of NaCl, MeV\n",
"f_r = E_B/M;    // The fractional mass increase of the Na and Cl atoms\n",
"printf('\nThe fractional mass increase of the Na and Cl atoms when they are not bound together in NaCl = %4.1e', f_r/1e+006);\n",
"\n",
"// Result \n",
"// The fractional mass increase of the Na and Cl atoms when they are not bound together in NaCl = 7.8e-011 "
   ]
   }
,
{
		   "cell_type": "markdown",
		   "metadata": {},
		   "source": [
			"## Example 2.18: Kinetic_energy_and_the_mass_of_sigma_particle.sce"
		   ]
		  },
  {
"cell_type": "code",
	   "execution_count": null,
	   "metadata": {
	    "collapsed": true
	   },
	   "outputs": [],
"source": [
"// Scilab Code Ex2.18: Page-72 (2013)\n",
"clc; clear\n",
"c = 1;    // For simplicity assume speed of light in vacuum to be unity, m/s\n",
"E0_n = 940;    // Rest energy of a neutron, MeV\n",
"E0_pi = 140;    // Rest energy of a pion, MeV\n",
"p_n = 4702;    // Momentum of the neutron, MeV/c\n",
"p_pi = 169;    // Momentum of the pion, MeV/c\n",
"E_n = sqrt((p_n*c)^2+E0_n^2);    // Total energy of the neutron, MeV\n",
"E_pi = sqrt((p_pi*c)^2+E0_pi^2);    // Total energy of the pion, MeV\n",
"E = E_n + E_pi;    // Total energy of the reaction, MeV\n",
"p_sigma = p_n + p_pi;    // Momentum of the sigma particle, MeV/c\n",
"E0_sigma = sqrt(E^2 - (p_sigma*c)^2);    // Rest mass energy of the sigma particle, MeV\n",
"m_sigma = E0_sigma/c^2;    // Rest mass of sigma particle, MeV/c^2;\n",
"K = E - E0_sigma;    // Kinetic energy of sigma particle, MeV\n",
"printf('\nThe rest mass of sigma particle = %4d MeV/c^2', ceil(m_sigma));\n",
"printf('\nThe kinetic energy of sigma particle = %4d MeV', ceil(K));\n",
"\n",
"// Result \n",
"// The rest mass of sigma particle = 1192 MeV/c^2\n",
"// The kinetic energy of sigma particle = 3824 MeV  \n",
"// The answers are given wrongly in the textbook"
   ]
   }
,
{
		   "cell_type": "markdown",
		   "metadata": {},
		   "source": [
			"## Example 2.2: Speed_of_the_aircraft.sce"
		   ]
		  },
  {
"cell_type": "code",
	   "execution_count": null,
	   "metadata": {
	    "collapsed": true
	   },
	   "outputs": [],
"source": [
"// Scilab Code Ex2.2 : Page-34 (2013)\n",
"clc; clear;\n",
"ly = 9.46e+015;    // Distance travelled by light in an year, m\n",
"c = 3e+008;    // Speed of light, m/s\n",
"L = 4.30*ly;    // Distance of Alpha Centauri from earth, m\n",
"T0 = 16*365.25*24*60*60;    // Proper time in system K_prime, s\n",
"// As time measured on earth, T = 2*L/v = T0_prime/sqrt(1-(v/c)^2), solving for v\n",
"v = sqrt(4*L^2/(T0^2+4*L^2/c^2));    // Speed of the aircraft, m/s\n",
"gama = 1/sqrt(1-(v/c)^2);    // Relativistic factor\n",
"T = gama*T0/(365.25*24*60*60);    // Time interval as measured on Earth, y\n",
"printf('\nThe speed of the aircraft = %4.2e m/s', v);\n",
"printf('\nThe time interval as measured on earth = %4.1f y', T);\n",
"\n",
"// Result\n",
"// The speed of the aircraft = 1.42e+008 m/s\n",
"// The time interval as measured on earth = 18.2 y "
   ]
   }
,
{
		   "cell_type": "markdown",
		   "metadata": {},
		   "source": [
			"## Example 2.3: Speed_of_the_aircraft_from_the_standpoint_of_length_contraction.sce"
		   ]
		  },
  {
"cell_type": "code",
	   "execution_count": null,
	   "metadata": {
	    "collapsed": true
	   },
	   "outputs": [],
"source": [
"// Scilab Code Ex2.3 : Page-38 (2013)\n",
"clc; clear;\n",
"L0 = 4.30;    // Distance of Alpha Centauri from earth, ly\n",
"c = 3e+008;    // Speed of light, m/s\n",
"T = 8;    // Proper time in system K_prime, y\n",
"// As v/c = L0*sqrt(1-(v/c)^2)/(c*T) or bita = L0*sqrt(1-bita^2)/(c*T), solving for bita\n",
"bita = sqrt(L0^2/(T^2 + L0^2));    // Boost parameter\n",
"v = L0*sqrt(1-bita^2)/T;    // Speed of the aircraft, c units\n",
"printf('\nThe boost parameter = %5.3f', bita);    \n",
"printf('\nThe speed of the aircraft = %5.3f c units', v);\n",
"\n",
"// Result\n",
"// The boost parameter = 0.473\n",
"// The speed of the aircraft = 0.473 c units "
   ]
   }
,
{
		   "cell_type": "markdown",
		   "metadata": {},
		   "source": [
			"## Example 2.4: Speed_of_the_aircraft_from_the_standpoint_of_length_contraction.sce"
		   ]
		  },
  {
"cell_type": "code",
	   "execution_count": null,
	   "metadata": {
	    "collapsed": true
	   },
	   "outputs": [],
"source": [
"// Scilab Code Ex2.4 : Page-40 (2013)\n",
"clc; clear;\n",
"c = 1;    // For simplicity assume speed of light to be unity, m/s\n",
"bita = 0.600;    // Boost parameter\n",
"gama = 1/sqrt(1-bita^2);    // Relativistic factor\n",
"u_x_prime = 0;    // Speed of the protons in spaceship frame along x-axis, m/s\n",
"u_y_prime = 0.99*c;    // Speed of the protons in spaceship frame along y-axis, m/s\n",
"u_z_prime = 0;    // Speed of the protons in spaceship frame along z-axis, m/s\n",
"v = 0.60*c;    // Speed of the spaceship w.r.t. space station, m/s\n",
"u_x = (u_x_prime + v)/(1 + v/c^2*u_x_prime);    // Speed of protons in space station frame along x-axis, m/s\n",
"u_y = u_y_prime/(gama*(1 + v/c^2*u_x_prime));    // Speed of protons in space station frame along y-axis, m/s\n",
"u_z = u_z_prime/(gama*(1 + v/c^2*u_x_prime));    // Speed of protons in space station frame along y-axis, m/s\n",
"u = sqrt(u_x^2 + u_y^2 + u_z^2);    // The speed of the protons measured by an observer in the space station, m/s\n",
"printf('\nThe speed of the protons measured by an observer in the space station = %5.3f c units', u);\n",
"\n",
"// Result\n",
"// The speed of the protons measured by an observer in the space station = 0.994 c units "
   ]
   }
,
{
		   "cell_type": "markdown",
		   "metadata": {},
		   "source": [
			"## Example 2.6: Time_loss_of_an_atomic_clock.sce"
		   ]
		  },
  {
"cell_type": "code",
	   "execution_count": null,
	   "metadata": {
	    "collapsed": true
	   },
	   "outputs": [],
"source": [
"// Scilab Code Ex2.6 : Page-45 (2013)\n",
"clc; clear;\n",
"c = 2.998e+008;    // Speed of light in free space, m/s\n",
"v = 7712;    // Speed of the space shuttle, m/s\n",
"bita = v/c;    // Boost parameter\n",
"T_loss = 295.02;    // Total measured loss in time, ps/sec\n",
"Add_T_loss = 35.0;    // Additional time loss for moving clock from general relativity prediction, ps/s\n",
"// From time dilation relation, T0_prime = T*sqrt(1 - bita^2), solving for (T - T0_prime)/T\n",
"Calc_T_loss = bita^2/2*1e+012;    // Expected time lost per sec by the moving clock, ps/sec\n",
"Measured_T_loss = T_loss + Add_T_loss;    // Total measured loss in time per sec as per special relativity, ps/s\n",
"percent_T_loss = (Calc_T_loss - Measured_T_loss)/Calc_T_loss*100;    // Percentage deviation of measured and the calculated time loss per sec\n",
"T = 6.05e+05;    // Total time of the seven-day mission, s\n",
"delta_T = Calc_T_loss*1e-012*T;    // The total time difference between the moving and stationary clocks during the entire shuttle flight, s\n",
"printf('\nThe expected time lost per second for the moving clock = %6.2f ps', Calc_T_loss);\n",
"printf('\nThe percentage deviation of measured and the calculated time loss per sec for moving clock = %3.1f percent', percent_T_loss);\n",
"printf('\nThe total time difference between the moving and stationary clocks during the entire shuttle flight = %3.1f ms', delta_T/1e-003);\n",
"\n",
"// Result\n",
"// The expected time lost per second for the moving clock = 330.86 ps\n",
"// The percentage deviation of measured and the calculated time loss per sec for moving clock = 0.3 percent\n",
"// The total time difference between the moving and stationary clocks during the entire shuttle flight = 0.2 ms "
   ]
   }
,
{
		   "cell_type": "markdown",
		   "metadata": {},
		   "source": [
			"## Example 2.8: Relativistic_doppler_effect_in_twin_paradox.sce"
		   ]
		  },
  {
"cell_type": "code",
	   "execution_count": null,
	   "metadata": {
	    "collapsed": true
	   },
	   "outputs": [],
"source": [
"// Scilab Code Ex2.8 : Page-57 (2013)\n",
"clc; clear;\n",
"f0 = 1;    // For simplicity assume frequency of the signals sent by Frank, Hz\n",
"// Outbound trip\n",
"bita = -0.8;    // Boost parameter for receding frames\n",
"f = sqrt(1+bita)/sqrt(1-bita)*f0;    // The frequency of the signals received by Mary in outbound trip, Hz\n",
"printf('\nThe frequency of the signals received by Mary in outbound trip = f0/%d', ceil(f*9));\n",
"// Return trip\n",
"bita = +0.8;    // Boost parameter for approaching frames\n",
"f = sqrt(1+bita)/sqrt(1-bita)*f0;    // The frequency of the signals received by Mary in return trip, Hz\n",
"printf('\nThe frequency of the signals received by Mary in return trip = %df0', f);\n",
"\n",
"// Result\n",
"// The frequency of the signals received by Mary in outbound trip = f0/3\n",
"// The frequency of the signals received by Mary in return trip = 3f0 "
   ]
   }
],
"metadata": {
		  "kernelspec": {
		   "display_name": "Scilab",
		   "language": "scilab",
		   "name": "scilab"
		  },
		  "language_info": {
		   "file_extension": ".sce",
		   "help_links": [
			{
			 "text": "MetaKernel Magics",
			 "url": "https://github.com/calysto/metakernel/blob/master/metakernel/magics/README.md"
			}
		   ],
		   "mimetype": "text/x-octave",
		   "name": "scilab",
		   "version": "0.7.1"
		  }
		 },
		 "nbformat": 4,
		 "nbformat_minor": 0
}
