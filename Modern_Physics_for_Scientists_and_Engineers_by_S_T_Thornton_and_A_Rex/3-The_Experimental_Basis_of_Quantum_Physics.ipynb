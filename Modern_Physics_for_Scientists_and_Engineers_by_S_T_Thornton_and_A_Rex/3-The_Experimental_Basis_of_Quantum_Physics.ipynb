{
"cells": [
 {
		   "cell_type": "markdown",
	   "metadata": {},
	   "source": [
       "# Chapter 3: The Experimental Basis of Quantum Physics"
	   ]
	},
{
		   "cell_type": "markdown",
		   "metadata": {},
		   "source": [
			"## Example 3.10: Exposure_time_of_light_to_produce_a_photoelectron_of_given_kinetic_energy.sce"
		   ]
		  },
  {
"cell_type": "code",
	   "execution_count": null,
	   "metadata": {
	    "collapsed": true
	   },
	   "outputs": [],
"source": [
"// Scilab Code Ex3.10: Page-106 (2013)\n",
"clc; clear\n",
"phi = 2.36;    // Work function of sodium, eV\n",
"N_A = 6.02e+023;    // Avogadro's number\n",
"e = 1.6e-019;    // Energy equivalent of 1 eV, J\n",
"I = 1e-008;    // Intensity of incident radiation, W/Sq.m\n",
"K = 1.00;    // Kinetic energy of the ejected photoelectron, eV\n",
"rho = 0.97;    // Density of Na atoms, g/cc\n",
"M = 23;    // Gram atomic mass of Na, g/mol\n",
"n = N_A*1e+006/M*rho;    // Number of Na atoms per unit volume, atoms/metre-cube\n",
"// Assume a cubic structure, then 1/d^3 = n, solving for d\n",
"d = (1/n)^(1/3);    // Thickness of one layer of sodium atoms, m\n",
"N = n*d;    // Number of exposed atoms per Sq.m\n",
"R = I/(N*e);    // Rate of energy received by each atom, eV/s\n",
"t = (phi+K)/R;    // Time needed to absorb 3.36 eV energy\n",
"printf('\nThe exposure time of light to produce the photoelectron of %4.2f kinetic energy = %4.1f years', K, t/(60*60*24*365.25));\n",
"\n",
"// Result\n",
"// The exposure time of light to produce the photoelectron of 1.00 kinetic energy = 14.7 years "
   ]
   }
,
{
		   "cell_type": "markdown",
		   "metadata": {},
		   "source": [
			"## Example 3.11: Photoelectric_effect_for_lithium.sce"
		   ]
		  },
  {
"cell_type": "code",
	   "execution_count": null,
	   "metadata": {
	    "collapsed": true
	   },
	   "outputs": [],
"source": [
"// Scilab Code Ex3.11: Page-109 (2013)\n",
"clc; clear\n",
"phi = 2.93;    // Work function of lithium, eV\n",
"lambda = 400e-009;    // Wavelength of incident light, m\n",
"e = 1.6e-019;    // Energy equivalent of 1 eV, J\n",
"c = 2.998e+008;    // Speed of light in vacuum, m/s\n",
"h = 6.626e-034;    // Planck's constant, Js\n",
"E = h*c/(lambda*e);    // Energy of incident light, eV\n",
"V0 = E - phi;    // Stopping potential, V\n",
"printf('\nThe energy of incident photons = %4.2f eV', E);\n",
"printf('\nThe stopping potential = %4.2f V', V0);\n",
"\n",
"// Result\n",
"// The energy of incident photons = 3.10 eV\n",
"// The stopping potential = 0.17 V "
   ]
   }
,
{
		   "cell_type": "markdown",
		   "metadata": {},
		   "source": [
			"## Example 3.12: Lithium_exposed_to_light_radiatio.sce"
		   ]
		  },
  {
"cell_type": "code",
	   "execution_count": null,
	   "metadata": {
	    "collapsed": true
	   },
	   "outputs": [],
"source": [
"\n",
"// Scilab Code Ex3.12: Page-109 (2013)\n",
"clc; clear\n",
"phi = 2.93;    // Work function of lithium, eV\n",
"c = 2.998e+008;    // Speed of light in vacuum, m/s\n",
"K = 3.00;    // Kinetic energy of photoelectron, eV\n",
"E = phi + K;    // Total energy of the incident light, eV\n",
"h = 6.626e-034;    // Planck's constant, Js\n",
"e = 1.6e-019;    // Energy equivalent of 1 eV, J\n",
"f = E*e/h;    // Frequency of incident light, Hz\n",
"lambda = c/f;    // Wavelength of the incident light, m\n",
"printf('\nThe frequency of incident light = %4.2e Hz', f);\n",
"printf('\nThe wavelength of the incident light = %4.2f nm', lambda/1e-009);\n",
"\n",
"// Result\n",
"// The frequency of incident light = 1.43e+015 Hz\n",
"// The wavelength of the incident light = 209.37 nm "
   ]
   }
,
{
		   "cell_type": "markdown",
		   "metadata": {},
		   "source": [
			"## Example 3.13: Number_of_photons_in_the_light_beam_of_given_wavelength_and_intensity.sce"
		   ]
		  },
  {
"cell_type": "code",
	   "execution_count": null,
	   "metadata": {
	    "collapsed": true
	   },
	   "outputs": [],
"source": [
"// Scilab Code Ex3.13: Page-110 (2013)\n",
"clc; clear\n",
"lambda = 350;    // Wavelength of incident light, nm\n",
"e = 1.6e-019;    // Energy equivalent of 1 eV, J\n",
"E = 1.250e+003/lambda;    // Total energy of the incident light, eV\n",
"I = 1e-008;    // Intensity of incident light, W/Sq.m\n",
"// As Intensity, I = N*E, solving for N\n",
"N = I/(E*e);    // The number of photons in the light beam\n",
"printf('\nThe number of photons in the light beam = %3.1e photons/Sq.m/s', N);\n",
"\n",
"// Result\n",
"// The number of photons in the light beam = 1.8e+010 photons/Sq.m/s "
   ]
   }
,
{
		   "cell_type": "markdown",
		   "metadata": {},
		   "source": [
			"## Example 3.15: Minimum_wavelength_of_the_X_rays.sce"
		   ]
		  },
  {
"cell_type": "code",
	   "execution_count": null,
	   "metadata": {
	    "collapsed": true
	   },
	   "outputs": [],
"source": [
"// Scilab Code Ex3.15: Page-113 (2013)\n",
"clc; clear\n",
"e = 1.6e-019;    // Energy equivalent of 1 eV, J\n",
"c = 2.998e+008;    // Speed of light in vacuum, m/s\n",
"h = 6.626e-034;    // Planck's constant, Js\n",
"V0 = 35e+003;    // Electron acceleration voltage, V\n",
"lambda_min = h*c/(e*V0);    // Duane-Hunt rule for wavelength, m\n",
"printf('\nThe minimum wavelength of X-rays = %4.2e m', lambda_min);\n",
"\n",
"// Result\n",
"// The minimum wavelength of X-rays = 3.55e-011 m "
   ]
   }
,
{
		   "cell_type": "markdown",
		   "metadata": {},
		   "source": [
			"## Example 3.16: X_ray_scattering_from_the_gold_target.sce"
		   ]
		  },
  {
"cell_type": "code",
	   "execution_count": null,
	   "metadata": {
	    "collapsed": true
	   },
	   "outputs": [],
"source": [
"// Scilab Code Ex3.16: Page-116 (2013)\n",
"clc; clear\n",
"c = 2.998e+008;    // Speed of light in vacuum, m/s\n",
"h = 6.626e-034;    // Planck's constant, Js\n",
"m_e = 9.11e-031;    // Rest mass of an electron, kg\n",
"lambda = 0.050;    // Wavelength of the X-ray, nm\n",
"theta = 180;    // The angle at which the recoil electron Ke becomes the largest, degree\n",
"E_x_ray = 1.240e+003/lambda;    // Energy of the X-ray, eV\n",
"lambda_prime = lambda + (1-cosd(theta))*h/(m_e*c*1e-009);    // The largest wavelength of the scattered photon, nm\n",
"E_prime_x_ray = 1.240e+003/lambda_prime;    // Energy of the scattered photon, eV\n",
"K = (E_x_ray - E_prime_x_ray)/1e+003;    // Kinetic energy of the most energetic recoil electron, keV\n",
"if (E_prime_x_ray < E_x_ray) then\n",
"    printf('\nThe X-ray is Compton-scattered by the electron.');\n",
"else\n",
"    printf('\nThe X-ray is not Compton-scattered by the electron.');\n",
"end\n",
"printf('\nThe largest wavelength of the scattered photon = %5.3f nm', lambda_prime);\n",
"printf('\nThe kinetic energy of the most energetic recoil electron = %3.1f keV', K);\n",
"printf('\nThe angle at which the recoil electron energy is the largest = %d degrees', theta);\n",
"\n",
"// Result\n",
"// The X-ray is Compton-scattered by the electron.\n",
"// The largest wavelength of the scattered photon = 0.055 nm\n",
"// The kinetic energy of the most energetic recoil electron = 2.2 keV\n",
"// The angle at which the recoil electron energy is the largest = 180 degrees "
   ]
   }
,
{
		   "cell_type": "markdown",
		   "metadata": {},
		   "source": [
			"## Example 3.1: A_moving_electron_subjected_to_electric_and_magnetic_fields.sce"
		   ]
		  },
  {
"cell_type": "code",
	   "execution_count": null,
	   "metadata": {
	    "collapsed": true
	   },
	   "outputs": [],
"source": [
"// Scilab Code Ex3.1: Page-87 (2013)\n",
"clc; clear\n",
"E = 1.2e+004;    // Electric field, V/m\n",
"B = 8.8e-004;    // Magnetic field, T\n",
"l = 0.05;    // Length of the deflection plates, m\n",
"v0 = E/B;    // Initial velocity of the electron, m/s\n",
"theta = 30;    // Angular deflection of the electron, degrees\n",
"q_ratio_m = E*tand(theta)/(B^2*l);    // Specific charge of the electron, C/kg\n",
"printf('\nThe initial velocity of the electron = %3.1e m/s', v0);\n",
"printf('\nThe specific charge of the electron = %3.1e C/kg', q_ratio_m);\n",
"\n",
"// Result \n",
"// The initial velocity of the electron = 1.4e+007 m/s\n",
"// The specific charge of the electron = 1.8e+011 C/kg "
   ]
   }
,
{
		   "cell_type": "markdown",
		   "metadata": {},
		   "source": [
			"## Example 3.3: Hydrogen_series_of_spectral_lines.sce"
		   ]
		  },
  {
"cell_type": "code",
	   "execution_count": null,
	   "metadata": {
	    "collapsed": true
	   },
	   "outputs": [],
"source": [
"// Scilab Code Ex3.3: Page-94 (2013)\n",
"clc; clear\n",
"function flag = check_visible(lambda)\n",
"    if lambda >= 400 & lambda < 700 then\n",
"        flag = 1;\n",
"        else flag = 0;\n",
"    end\n",
"endfunction\n",
"R_H = 1.0968e+007;    // Rydberg constanr, per metre\n",
"f = zeros(7);\n",
"// Lyman series\n",
"printf('\nFor Lyman series, the wavelengths are:\n')\n",
"n = 1;    // The lowest level of Lyman series\n",
"for k = 2:1:3\n",
"    lambda = 1/(R_H*(1/n^2-1/k^2))/1e-009;\n",
"    printf('k = %d, %5.1f nm', k, lambda);\n",
"    f(k) = check_visible(lambda); \n",
"    if f(k) == 1 then\n",
"            printf(' (Visible) \n');\n",
"        else\n",
"            printf(' (Ultraviolet)\n');\n",
"    end\n",
"end\n",
"if f(1)  == 1 | f(2)  == 1 | f(3) == 1 then\n",
"        printf('Some wavelengths of Lyman series fall in the visible region.\n')\n",
"    else\n",
"        printf('All the wavelengths of Lyman series fall in the UV-region.\n')\n",
"    end\n",
"\n",
"// Balmer series\n",
"printf('\nFor Balmer series, the wavelengths are:\n')\n",
"n = 2;    // The lowest level of Balmer series\n",
"for k = 3:1:7\n",
"    lambda = 1/(R_H*(1/n^2-1/k^2))/1e-009;\n",
"    printf('k = %d, %5.1f nm', k, lambda);\n",
"    f(k) = check_visible(lambda);\n",
"        if f(k) == 1 then\n",
"            printf(' (Visible) \n');\n",
"        else\n",
"            printf(' (Ultraviolet)\n');\n",
"    end\n",
"end\n",
"\n",
"// Paschen series\n",
"printf('\nFor Paschen series, the wavelengths are:\n')\n",
"n = 3;    // The lowest level of Lyman series\n",
"for k = 4:1:5\n",
"    lambda = 1/(R_H*(1/n^2-1/k^2))/1e-009;\n",
"    printf('k = %d, %5.1f nm', k, lambda);\n",
"    f(k) = check_visible(lambda); \n",
"    if f(k) == 1 then\n",
"            printf(' (Visible) \n');\n",
"        else\n",
"            printf(' (Infrared)\n');\n",
"    end\n",
"end\n",
"// For limiting member\n",
"k = %inf;\n",
"lambda = 1/(R_H*(1/n^2-1/k^2))/1e-009;\n",
"printf('k = %d, %5.1f nm', %inf, lambda);\n",
"f(6) = check_visible(lambda);\n",
"if f(6) == 1 then\n",
"            printf(' (Visible) \n');\n",
"        else\n",
"            printf(' (Infrared)\n');\n",
"    end\n",
"if f(4)  == 1 | f(5)  == 1 | f(6) == 1 then\n",
"        printf('Some wavelengths of Paschen series fall in the visible region.')\n",
"    else\n",
"        printf('All the wavelengths of Paschen series fall in the IR-region.')\n",
"    end\n",
"        \n",
"// Result \n",
"// For Lyman series, the wavelengths are:\n",
"// k = 2, 121.6 nm (Ultraviolet)\n",
"// k = 3, 102.6 nm (Ultraviolet)\n",
"// All the wavelengths of Lyman series fall in the UV-region.\n",
"\n",
"// For Balmer series, the wavelengths are:\n",
"// k = 3, 656.5 nm (Visible) \n",
"// k = 4, 486.3 nm (Visible) \n",
"// k = 5, 434.2 nm (Visible) \n",
"// k = 6, 410.3 nm (Visible) \n",
"// k = 7, 397.1 nm (Ultraviolet)\n",
"\n",
"// For Paschen series, the wavelengths are:\n",
"// k = 4, 1875.6 nm (Infrared)\n",
"// k = 5, 1282.1 nm (Infrared)\n",
"// k = Inf, 820.6 nm (Infrared)\n",
"// All the wavelengths of Paschen series fall in the IR-region.  "
   ]
   }
,
{
		   "cell_type": "markdown",
		   "metadata": {},
		   "source": [
			"## Example 3.4: Maximum_wavelength_emitted_from_a_heated_furnace.sce"
		   ]
		  },
  {
"cell_type": "code",
	   "execution_count": null,
	   "metadata": {
	    "collapsed": true
	   },
	   "outputs": [],
"source": [
"// Scilab Code Ex3.4: Page-98 (2013)\n",
"clc; clear\n",
"T = 1600 + 273;    // Temperature of the furnace, K\n",
"b = 2.898e-003;    // Wein's constant, m-K\n",
"lambda_max = ceil(b/(T*1e-009));    // Maximum wavelength from Wein's Displacement Law, nm\n",
"printf('\nThe maximum wavelength emitted from the heated furnace = %4d nm', lambda_max); \n",
"printf('\nThis wavelength falls in the IR-region.');\n",
"\n",
"// Result\n",
"// The maximum wavelength emitted from the heated furnace = 1548 nm\n",
"// This wavelength falls in the IR-region. "
   ]
   }
,
{
		   "cell_type": "markdown",
		   "metadata": {},
		   "source": [
			"## Example 3.5: Sun_as_a_blackbody.sce"
		   ]
		  },
  {
"cell_type": "code",
	   "execution_count": null,
	   "metadata": {
	    "collapsed": true
	   },
	   "outputs": [],
"source": [
"\n",
"// Scilab Code Ex3.5: Page-98 (2013)\n",
"clc; clear\n",
"lambda_max = 500e-009;    // Maximum intensity wavelength emitted by the sun, m\n",
"b = 2.898e-003;    // Wein's constant, m-K\n",
"sigma = 5.67e-008;    // Stefan's constant, W/Sq.m-K^4\n",
"r = 6.96e+008;    // Radius of the sun, m\n",
"r_E = 6.37e+006;    // Radius of the earth, m\n",
"R_E = 1.49e+011;    // Mean-earth sun distance, m\n",
"S = 4*%pi*r^2;    // Surface area of the sun, Sq.m\n",
"T_sun = b/lambda_max;    // The temperature of the sun's surface, K\n",
"R_T = sigma*T_sun^4;    // Power per unit area radiated by the sun, W/Sq.m\n",
"P_sun = R_T*S;    // The total power radiated from the sun's surface, W\n",
"F = r_E^2/(4*R_E^2);    // Fraction of sun's radiation received by Earth\n",
"P_Earth_received = P_sun*F;    // The radiation received by the Earth from the sun, W\n",
"U_Earth = P_Earth_received*60*60*24;    // The radiation received by the Earth from the sun in one day, J\n",
"R_Earth = P_Earth_received/(%pi*r_E^2);    // Power received by the Earth per unit of exposed area, W/Sq.m\n",
"printf('\nThe surface temperature of the sun = %4d K', ceil(T_sun));\n",
"printf('\nThe power per unit area emitted from the surface of the sun = %4.2e W/Sq.m', R_T);\n",
"printf('\nThe energy received by the Earth each day from the radiation of sun = %4.2e J', U_Earth);\n",
"printf('\nThe power received by the Earth per unit of exposed area = %4d W/Sq.m', ceil(R_Earth));\n",
"\n",
"// Result\n",
"// The surface temperature of the sun = 5796 K\n",
"// The power per unit area emitted from the surface of the sun = 6.40e+007 W/Sq.m\n",
"// The energy received by the Earth each day from the radiation of sun = 1.54e+022 J\n",
"// The power received by the Earth per unit of exposed area = 1397 W/Sq.m \n",
"// The answers are given wrong in the textbook"
   ]
   }
],
"metadata": {
		  "kernelspec": {
		   "display_name": "Scilab",
		   "language": "scilab",
		   "name": "scilab"
		  },
		  "language_info": {
		   "file_extension": ".sce",
		   "help_links": [
			{
			 "text": "MetaKernel Magics",
			 "url": "https://github.com/calysto/metakernel/blob/master/metakernel/magics/README.md"
			}
		   ],
		   "mimetype": "text/x-octave",
		   "name": "scilab",
		   "version": "0.7.1"
		  }
		 },
		 "nbformat": 4,
		 "nbformat_minor": 0
}
