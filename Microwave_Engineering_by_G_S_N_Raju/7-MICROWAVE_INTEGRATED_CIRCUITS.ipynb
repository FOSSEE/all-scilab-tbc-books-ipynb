{
"cells": [
 {
		   "cell_type": "markdown",
	   "metadata": {},
	   "source": [
       "# Chapter 7: MICROWAVE INTEGRATED CIRCUITS"
	   ]
	},
{
		   "cell_type": "markdown",
		   "metadata": {},
		   "source": [
			"## Example 7.10: resistance_per_square.sce"
		   ]
		  },
  {
"cell_type": "code",
	   "execution_count": null,
	   "metadata": {
	    "collapsed": true
	   },
	   "outputs": [],
"source": [
"//resistance per square\n",
"//given\n",
"clc\n",
"l=12d-3//metre\n",
"t=0.12d-6//metre\n",
"w=10d-3//metre\n",
"delta_s=4.10d+7//mho/m\n",
"Rp=l/(w*t*delta_s)//resistance in ohm\n",
"Rp=round(Rp*10000)/10000///rounding off decimals\n",
"disp(Rp,'the resistance for the given parameter in ohm')//ohm"
   ]
   }
,
{
		   "cell_type": "markdown",
		   "metadata": {},
		   "source": [
			"## Example 7.11: resistance_per_square.sce"
		   ]
		  },
  {
"cell_type": "code",
	   "execution_count": null,
	   "metadata": {
	    "collapsed": true
	   },
	   "outputs": [],
"source": [
"//resistance per square\n",
"//given\n",
"clc\n",
"l=20d-3//metre\n",
"t=15d-6//metre\n",
"w=10d-3//metre\n",
"delta_s=5.8d+7//mho/m\n",
"Rp=l/(w*t*delta_s)//resistance in ohm\n",
"disp(Rp,'the resistance for the given parameter in ohm/square')//ohm/square\n",
"//ERROR IN THE BOOK CALCULATION"
   ]
   }
,
{
		   "cell_type": "markdown",
		   "metadata": {},
		   "source": [
			"## Example 7.12: resistance_per_square.sce"
		   ]
		  },
  {
"cell_type": "code",
	   "execution_count": null,
	   "metadata": {
	    "collapsed": true
	   },
	   "outputs": [],
"source": [
"//resistance per square\n",
"//given\n",
"clc\n",
"l=30d-3//metre\n",
"t=0.1d-6//metre\n",
"Rp=0.3//ohm\n",
"delta_s=4.1d+7//mho/m\n",
"w=l/(Rp*t*delta_s)//metre\n",
"w=round(w*1000)/1000///rounding off decimals\n",
"disp(t*1d+6, w*1000,l*1d+3 ,'the design parameter of planer resistor are in mm and um')//millimetre"
   ]
   }
,
{
		   "cell_type": "markdown",
		   "metadata": {},
		   "source": [
			"## Example 7.13: resistance_per_square.sce"
		   ]
		  },
  {
"cell_type": "code",
	   "execution_count": null,
	   "metadata": {
	    "collapsed": true
	   },
	   "outputs": [],
"source": [
"//resistance per square\n",
"//given\n",
"clc\n",
"w=10d-3//metre\n",
"t=0.08d-6//metre\n",
"Rp=0.15//ohm\n",
"delta_s=6.17d+7//mho/m\n",
"l=w*(Rp*t*delta_s)//metre\n",
"disp(l*1000,'the resistance for the given parameter in mm')//millimetre"
   ]
   }
,
{
		   "cell_type": "markdown",
		   "metadata": {},
		   "source": [
			"## Example 7.14: inductance_of_circular_spiral.sce"
		   ]
		  },
  {
"cell_type": "code",
	   "execution_count": null,
	   "metadata": {
	    "collapsed": true
	   },
	   "outputs": [],
"source": [
"//inductance of circular spiral\n",
"//given\n",
"clc\n",
"N=10//number of turns\n",
"w=50//mils//sepration\n",
"s=20//mils//film width\n",
"d=2.5*N*(w+s)//\n",
"L=31.25*(N^2)*d//PH/mil\n",
"L=round(L*1D-3)/1d-3///rounding off decimals\n",
"disp(L*1d-3,'the resistance for the given parameter in nH/mil')//nH/mil(the value is different on book)"
   ]
   }
,
{
		   "cell_type": "markdown",
		   "metadata": {},
		   "source": [
			"## Example 7.1: resistance_of_a_planar_resistor.sce"
		   ]
		  },
  {
"cell_type": "code",
	   "execution_count": null,
	   "metadata": {
	    "collapsed": true
	   },
	   "outputs": [],
"source": [
"//resistance of a planar resistor\n",
"//given\n",
"clc\n",
"con_d=4.1d+7//mho/m\n",
"l=10d-3//m\n",
"w=5d-3//m\n",
"d=0.2d-6//m\n",
"Rp=l/(w*d*con_d)//resistance\n",
"Rp=round(Rp*1000)/1000///rounding off decimals\n",
"disp(Rp,'resistance of a aluminum planar resistor')//ohm"
   ]
   }
,
{
		   "cell_type": "markdown",
		   "metadata": {},
		   "source": [
			"## Example 7.2: inductance_for_given_dimensions.sce"
		   ]
		  },
  {
"cell_type": "code",
	   "execution_count": null,
	   "metadata": {
	    "collapsed": true
	   },
	   "outputs": [],
"source": [
"//inductance  for  given dimensions\n",
"//given\n",
"clc\n",
"l=100//mils\n",
"d=10//mils\n",
"Lw=5.08*l*(log(l/d)+0.386)//PH/mil\n",
"Lw=round(Lw)///rounding off decimals\n",
"disp(Lw*1d-3,'the inductance  in nH/mil')//nH/mil"
   ]
   }
,
{
		   "cell_type": "markdown",
		   "metadata": {},
		   "source": [
			"## Example 7.3: resistance.sce"
		   ]
		  },
  {
"cell_type": "code",
	   "execution_count": null,
	   "metadata": {
	    "collapsed": true
	   },
	   "outputs": [],
"source": [
"//resistance \n",
"//given\n",
"clc\n",
"l=11d-3//meter\n",
"d=0.2d-6//meter\n",
"w=8d-3//meter\n",
"delta_s=3.82d+7//mho/m\n",
"Rp=l/(w*d*delta_s)//resistance\n",
"Rp=round(Rp*100)/100///rounding off decimals\n",
"disp(Rp,'the resistance for the given parameter in ohm')//ohm"
   ]
   }
,
{
		   "cell_type": "markdown",
		   "metadata": {},
		   "source": [
			"## Example 7.4: resistance.sce"
		   ]
		  },
  {
"cell_type": "code",
	   "execution_count": null,
	   "metadata": {
	    "collapsed": true
	   },
	   "outputs": [],
"source": [
"//resistance \n",
"//given\n",
"clc\n",
"l=11d-3\n",
"d=0.2d-6\n",
"w=8d-3\n",
"delta_s=4.10d+7\n",
"Rp=l/(w*d*delta_s)//resistance\n",
"Rp=round(Rp*1000)/1000///rounding off decimals\n",
"disp(Rp,'the resistance for the given parameter in ohm')//ohm"
   ]
   }
,
{
		   "cell_type": "markdown",
		   "metadata": {},
		   "source": [
			"## Example 7.5: resistance.sce"
		   ]
		  },
  {
"cell_type": "code",
	   "execution_count": null,
	   "metadata": {
	    "collapsed": true
	   },
	   "outputs": [],
"source": [
"//resistance \n",
"//given\n",
"clc\n",
"l=11d-3\n",
"d=0.2d-6\n",
"w=8d-3\n",
"delta_s=6.17d+7\n",
"Rp=l/(w*d*delta_s)//resistance\n",
"Rp=round(Rp*1000)/1000///rounding off decimals\n",
"disp(Rp,'the resistance for the given parameter in ohm')//ohm"
   ]
   }
,
{
		   "cell_type": "markdown",
		   "metadata": {},
		   "source": [
			"## Example 7.6: inductance.sce"
		   ]
		  },
  {
"cell_type": "code",
	   "execution_count": null,
	   "metadata": {
	    "collapsed": true
	   },
	   "outputs": [],
"source": [
"//inductance\n",
"//given\n",
"clc\n",
"A=0.04//cm^2\n",
"N=4//no. of turns\n",
"Lss=8.5*(A^(0.5))*(N^(5/3))*1d+3//PH\n",
"Lss=round(Lss/10)*10///rounding off decimals\n",
"disp(Lss*1d-3,'the inductance for the given parameter in nH')//nH\n",
""
   ]
   }
,
{
		   "cell_type": "markdown",
		   "metadata": {},
		   "source": [
			"## Example 7.7: inductance.sce"
		   ]
		  },
  {
"cell_type": "code",
	   "execution_count": null,
	   "metadata": {
	    "collapsed": true
	   },
	   "outputs": [],
"source": [
"//inductance \n",
"//given\n",
"clc\n",
"l=10//mils\n",
"t=0.2//mils\n",
"w=8//mils\n",
"Lt=5.08*l*(log(l/(w+t))+0.222*((w+t)/l)+1.19)//PH/mil\n",
"Lt=round(Lt*10)/10///rounding off decimals\n",
"disp(Lt,'the inductance for the given parameters')"
   ]
   }
,
{
		   "cell_type": "markdown",
		   "metadata": {},
		   "source": [
			"## Example 7.8: resistance_of_a_planer_resistor.sce"
		   ]
		  },
  {
"cell_type": "code",
	   "execution_count": null,
	   "metadata": {
	    "collapsed": true
	   },
	   "outputs": [],
"source": [
"//resistance of a planer resistor\n",
"//given\n",
"clc\n",
"l=8d-3//metre\n",
"t=0.1d-6//metre\n",
"w=8d-3//metre\n",
"delta_s=1/0.262d-7//mho/m\n",
"Rp=l/(w*t*delta_s)//resistance in ohm\n",
"disp(Rp,'the resistance for the given parameter in ohm')//ohm"
   ]
   }
,
{
		   "cell_type": "markdown",
		   "metadata": {},
		   "source": [
			"## Example 7.9: resistance_per_square.sce"
		   ]
		  },
  {
"cell_type": "code",
	   "execution_count": null,
	   "metadata": {
	    "collapsed": true
	   },
	   "outputs": [],
"source": [
"//resistance per square\n",
"//given\n",
"clc\n",
"l=15d-3//metre\n",
"t=0.1d-6//metre\n",
"w=15d-3//metre\n",
"delta_s=6.17d+7//mho/m\n",
"Rp=l/(w*t*delta_s)//resistance in ohm\n",
"Rp=round(Rp*1000)/1000///rounding off decimals\n",
"disp(Rp,'the resistance for the given parameter in ohm/square')//ohm/square\n",
"//ERROR IN THE PRINTING OF THE BOOK"
   ]
   }
],
"metadata": {
		  "kernelspec": {
		   "display_name": "Scilab",
		   "language": "scilab",
		   "name": "scilab"
		  },
		  "language_info": {
		   "file_extension": ".sce",
		   "help_links": [
			{
			 "text": "MetaKernel Magics",
			 "url": "https://github.com/calysto/metakernel/blob/master/metakernel/magics/README.md"
			}
		   ],
		   "mimetype": "text/x-octave",
		   "name": "scilab",
		   "version": "0.7.1"
		  }
		 },
		 "nbformat": 4,
		 "nbformat_minor": 0
}
