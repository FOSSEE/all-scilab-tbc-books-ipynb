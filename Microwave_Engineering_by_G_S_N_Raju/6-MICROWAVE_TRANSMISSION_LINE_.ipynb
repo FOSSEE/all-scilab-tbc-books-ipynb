{
"cells": [
 {
		   "cell_type": "markdown",
	   "metadata": {},
	   "source": [
       "# Chapter 6: MICROWAVE TRANSMISSION LINE "
	   ]
	},
{
		   "cell_type": "markdown",
		   "metadata": {},
		   "source": [
			"## Example 6.10: voltage_standing_wave_ratio.sce"
		   ]
		  },
  {
"cell_type": "code",
	   "execution_count": null,
	   "metadata": {
	    "collapsed": true
	   },
	   "outputs": [],
"source": [
"//voltage standing wave ratio\n",
"//given\n",
"clc\n",
"Vmax=50//volts\n",
"Vmin=35//volts\n",
"VSWR=Vmax/Vmin\n",
"VSWR_db=20*log10(VSWR)//db\n",
"VSWR_db=round(VSWR_db*1000)/1000///rounding off decimals\n",
"disp(VSWR_db,'the voltage standing wave ratio in decibles')//db"
   ]
   }
,
{
		   "cell_type": "markdown",
		   "metadata": {},
		   "source": [
			"## Example 6.11: maximum_impedance_of_the_line.sce"
		   ]
		  },
  {
"cell_type": "code",
	   "execution_count": null,
	   "metadata": {
	    "collapsed": true
	   },
	   "outputs": [],
"source": [
"//maximum impedance of the line\n",
"//given\n",
"clc\n",
"Zo=75//ohm\n",
"VSWR=3//voltage standing wave ratio\n",
"Zmax=VSWR*Zo//ohm\n",
"disp(Zmax,'the maximum impedance of the line for the given VSWR IN ohm')//ohm"
   ]
   }
,
{
		   "cell_type": "markdown",
		   "metadata": {},
		   "source": [
			"## Example 6.12: voltage_standing_wave_ratio.sce"
		   ]
		  },
  {
"cell_type": "code",
	   "execution_count": null,
	   "metadata": {
	    "collapsed": true
	   },
	   "outputs": [],
"source": [
"//EXAMPLE-6.12;PAGE-201\n",
"//voltage standin wave ratio\n",
"//given\n",
"clc\n",
"row=0.4\n",
"VSWR=(1+row)/(1-row)//voltage standing wave ratio\n",
"VSWR=round(VSWR*100)/100///rounding off decimals\n",
"disp(VSWR,'the voltage standing wave ratio')"
   ]
   }
,
{
		   "cell_type": "markdown",
		   "metadata": {},
		   "source": [
			"## Example 6.13: input_impedance.sce"
		   ]
		  },
  {
"cell_type": "code",
	   "execution_count": null,
	   "metadata": {
	    "collapsed": true
	   },
	   "outputs": [],
"source": [
"//input impedance\n",
"//given\n",
"clc\n",
"Zl=0//ohm\n",
"Bl=2*%pi/8//rad\n",
"Zo=75//ohm\n",
"Zi=Zo*(Zl+%i*Zo*tan(Bl))/(Zo+%i*Zl*tan(Bl))\n",
"disp(Zi,'the input impedance at point')//ohm"
   ]
   }
,
{
		   "cell_type": "markdown",
		   "metadata": {},
		   "source": [
			"## Example 6.14: length_and_characteristic_impedance_of_transformer.sce"
		   ]
		  },
  {
"cell_type": "code",
	   "execution_count": null,
	   "metadata": {
	    "collapsed": true
	   },
	   "outputs": [],
"source": [
"//length and characteristic impedance of transformer\n",
"//given\n",
"Zo=50//ohm\n",
"Zl=200//ohm\n",
"f=300d+6//MHz\n",
"Vo=3d+8//velocity of wave\n",
"lem=Vo/f\n",
"leng_trans=lem/4//meter//the length of transformer is 1/4 of wavelength\n",
"Zt=sqrt(Zo*Zl)//ohm\n",
"disp(Zt,leng_trans,'the length and characteristic impedance in meter and ohm respectively')"
   ]
   }
,
{
		   "cell_type": "markdown",
		   "metadata": {},
		   "source": [
			"## Example 6.15: characteristic_impedance.sce"
		   ]
		  },
  {
"cell_type": "code",
	   "execution_count": null,
	   "metadata": {
	    "collapsed": true
	   },
	   "outputs": [],
"source": [
"//characteristic impedance\n",
"//given\n",
"clc\n",
"Zl=300//ohm\n",
"Zo=75//ohm//of the line\n",
"SWR=1//the source impedence is equal to characteristic impedance of the line\n",
"Zt=sqrt(Zl*Zo)\n",
"disp(Zt,'the  characteristic impedance  in ohm')"
   ]
   }
,
{
		   "cell_type": "markdown",
		   "metadata": {},
		   "source": [
			"## Example 6.16: reflection_coefficent.sce"
		   ]
		  },
  {
"cell_type": "code",
	   "execution_count": null,
	   "metadata": {
	    "collapsed": true
	   },
	   "outputs": [],
"source": [
"//reflection coefficent\n",
"//given\n",
"clc\n",
"S=2//voltage standing wave ratio(VSWR)\n",
"Zo=50//ohm\n",
"row=((S-1)/(S+1))\n",
"row=round(row*1000)/1000///rounding off decimals\n",
"disp(row,'the value of reflection coefficent as modulus row')\n",
""
   ]
   }
,
{
		   "cell_type": "markdown",
		   "metadata": {},
		   "source": [
			"## Example 6.17: input_impedance_of_the_shorted_line.sce"
		   ]
		  },
  {
"cell_type": "code",
	   "execution_count": null,
	   "metadata": {
	    "collapsed": true
	   },
	   "outputs": [],
"source": [
"//input impedance of the shorted line\n",
"//given\n",
"clc\n",
"Zn=50//ohm\n",
"f=500//Mhz\n",
"Bl=0.2*%pi//B=2*pi/lemda\n",
"Zi=%i*Zn*tan(Bl)//input impedance\n",
"Zi=round(Zi*100)/100//rounding off decimals\n",
"disp(Zi,'the input impedance of the shorted line in ohm')"
   ]
   }
,
{
		   "cell_type": "markdown",
		   "metadata": {},
		   "source": [
			"## Example 6.18: characteristc_impedance_of_the_line_for_air_dielectric.sce"
		   ]
		  },
  {
"cell_type": "code",
	   "execution_count": null,
	   "metadata": {
	    "collapsed": true
	   },
	   "outputs": [],
"source": [
"//characteristc impedance of the line for air dielectric\n",
"//given\n",
"clc\n",
"b=30-2*2//mm//diameter of the outside conductor\n",
"a=10-2*1//mm//diameter of the inner conductor\n",
"Zo=138*log10(b/a)//characteristic impedance\n",
"Zo=round(Zo*100)/100///rounding off decimals\n",
"disp(Zo,'the characteristic impedance of the line for air  dielectric in ohm')\n",
"//error in the value of  b\n",
""
   ]
   }
,
{
		   "cell_type": "markdown",
		   "metadata": {},
		   "source": [
			"## Example 6.19: time_delay_propogaion_velocity_propagation_delay.sce"
		   ]
		  },
  {
"cell_type": "code",
	   "execution_count": null,
	   "metadata": {
	    "collapsed": true
	   },
	   "outputs": [],
"source": [
"//time delay ,propogaion velocity,propagation delay\n",
"//given\n",
"clc\n",
"L=500D-9//H/m\n",
"C=30D-12//F/m\n",
"td=sqrt(L*C)//time delay for 1 m long cable \n",
"vp=1/3.87d-9//m/s\n",
"C1=C*10//capacitance of 10 m cable\n",
"L1=L*10//inductance of 10 m cable\n",
"Ld=sqrt(L1*C1)//time delay for 10 m long cable \n",
"Ld=round(Ld*1d+10)/1d+10///rounding off decimals\n",
"td=round(td*1d+11)/1d+11///rounding off decimals\n",
"disp(Ld*1d+9,vp,td*1d+9,'the time delay in nanoseconds ,propogaion velocity in meter/second,propogation delay over a cable length in nanoseconds')\n",
"\n",
""
   ]
   }
,
{
		   "cell_type": "markdown",
		   "metadata": {},
		   "source": [
			"## Example 6.1: determine_Z0_for_given_transmission_line.sce"
		   ]
		  },
  {
"cell_type": "code",
	   "execution_count": null,
	   "metadata": {
	    "collapsed": true
	   },
	   "outputs": [],
"source": [
"//determine Z0 for given transmission line\n",
"//given\n",
"clc\n",
"function[Zo]=zed(L,C)\n",
"Zo=sqrt(L/C)//impedence function\n",
"endfunction\n",
"L=110D-9\n",
"C=20D-12\n",
"[Zo1]=zed(L,C)\n",
"L=110D-9\n",
"C=20D-12\n",
"[Zo2]=zed(L,C)\n",
"Zo2=round(Zo2*100)/100///rounding off decimals\n",
"Zo1=round(Zo1*100)/100///rounding off decimals\n",
"disp(Zo1,Zo2,'the Zo is determined in ohm:')\n",
"\n",
"\n",
"    "
   ]
   }
,
{
		   "cell_type": "markdown",
		   "metadata": {},
		   "source": [
			"## Example 6.20: radius_of_the_outer_conductor.sce"
		   ]
		  },
  {
"cell_type": "code",
	   "execution_count": null,
	   "metadata": {
	    "collapsed": true
	   },
	   "outputs": [],
"source": [
"//radius of the outer conductor\n",
"//given\n",
"clc\n",
"C=70D-12//F/m\n",
"Zo=75//ohm\n",
"L=Zo^2*C//inductance\n",
"epsilon_r=2.3\n",
"a=0.292//mm//radius of inner conductor\n",
"b=a*10^(Zo*sqrt(epsilon_r)/138)//Zo=(138/sqrt(epsilon_r))*log(b/a)\n",
"b=round(b*1d+4)/1d+4///rounding off decimals\n",
"disp(b,'the radius of the outer conductor')"
   ]
   }
,
{
		   "cell_type": "markdown",
		   "metadata": {},
		   "source": [
			"## Example 6.21: resonant_frequency.sce"
		   ]
		  },
  {
"cell_type": "code",
	   "execution_count": null,
	   "metadata": {
	    "collapsed": true
	   },
	   "outputs": [],
"source": [
"//resonant frequency\n",
"//given\n",
"clc\n",
"a=0.03//m\n",
"b=0.01//m\n",
"c=0.04//m\n",
"v=3d+8//speed of wave\n",
"fr=(v/2)*(sqrt((1/a^2)+(1/b^2)+(1/c^2)))//hertz\n",
"disp(fr*1d-9,'resonant frequency for TM110 mode in Ghz')//Ghz"
   ]
   }
,
{
		   "cell_type": "markdown",
		   "metadata": {},
		   "source": [
			"## Example 6.22: resonant_frequency_and_quality_cycle.sce"
		   ]
		  },
  {
"cell_type": "code",
	   "execution_count": null,
	   "metadata": {
	    "collapsed": true
	   },
	   "outputs": [],
"source": [
"//resonant frequency and quality cycle\n",
"//given\n",
"clc\n",
"a=0.03//m\n",
"b=0.01//m\n",
"c=0.04//m\n",
"l=0.04//m\n",
"v=3d+8//speed of wave in m/s in mho/m\n",
"uo=4*%pi*10^-7\n",
"con_d=5.8d+7//conductivity of copper\n",
"fr=(v/2)*(sqrt((1/a^2)+(1/b^2)))//hertz\n",
"fr1=(v/2)*(sqrt((1/a^2)+(1/l^2)))//hertz\n",
"del=1/sqrt(%pi*fr1*uo*con_d)\n",
"Q=((a^2+c^2)*a*b*c)/(del*(((a^3+c^3)*2*b)+a*c*(a^2+c^2)))\n",
"fr=round(fr*1d-8)/1d-8///rounding off decimals\n",
"Q=round(Q)///rounding off decimals\n",
"disp(Q,fr1*1d-9,fr*1d-9,'resonant frequency of dominant mode TM110,dominant mode TE101  in Ghz and the quality factor')//GHz "
   ]
   }
,
{
		   "cell_type": "markdown",
		   "metadata": {},
		   "source": [
			"## Example 6.23: resonant_frequency_of_TE101_and_its_quality_factor.sce"
		   ]
		  },
  {
"cell_type": "code",
	   "execution_count": null,
	   "metadata": {
	    "collapsed": true
	   },
	   "outputs": [],
"source": [
"//resonant frequency of TE101 and its quality factor\n",
"//given\n",
"clc\n",
"con_d=5.8d+7//mho/m\n",
"a=0.05//m\n",
"b=0.04//m\n",
"c=0.1//m\n",
"v=3d+8//m/s\n",
"epsilon_r=4//dielectric\n",
"uo=4*%pi*10^-7\n",
"fr=(v/(2*sqrt(epsilon_r)))*(sqrt((1/a^2)+(1/c^2)))//hertz\n",
"del=1/sqrt(%pi*fr*uo*con_d)//ERROR\n",
"Q=((a^2+c^2)*a*b*c)/(del*(((a^3+c^3)*2*b)+a*c*(a^2+c^2)))//quality factor\n",
"disp(Q,fr*1d-9,'resonant frequency in dominant mode TE101 in Ghz and the quality factor')//GHz \n",
"//ERROR in the calculation of the book as value of del=32.275d-7 in the book."
   ]
   }
,
{
		   "cell_type": "markdown",
		   "metadata": {},
		   "source": [
			"## Example 6.2: characteristic_impedence.sce"
		   ]
		  },
  {
"cell_type": "code",
	   "execution_count": null,
	   "metadata": {
	    "collapsed": true
	   },
	   "outputs": [],
"source": [
"//characteristic impedence\n",
"//given\n",
"clc\n",
"s=300//mm//\n",
"r=3/2//mm\n",
"Zo=276*log10(s/r)\n",
"Zo=round(Zo)///rounding off decimals\n",
"disp(Zo,'the characteristic impedence in ohm')"
   ]
   }
,
{
		   "cell_type": "markdown",
		   "metadata": {},
		   "source": [
			"## Example 6.3: input_impedance.sce"
		   ]
		  },
  {
"cell_type": "code",
	   "execution_count": null,
	   "metadata": {
	    "collapsed": true
	   },
	   "outputs": [],
"source": [
"//input impedance\n",
"//given\n",
"clc\n",
"Zl=0//ohm\n",
"Zo=50//ohm\n",
"Bl=2*%pi*0.1//((2*pi/lem)*lem)\n",
"Zi=Zo*(Zl+%i*Zo*tan(Bl))/(Zo+%i*Zl*tan(Bl))//the input impedence in ohm\n",
"Zi=round(Zi*100)/100///rounding off decimals\n",
"disp(Zi,'the input impedance of 50ohm loss less transmission line')"
   ]
   }
,
{
		   "cell_type": "markdown",
		   "metadata": {},
		   "source": [
			"## Example 6.4: input_of_lossless_transmission_line.sce"
		   ]
		  },
  {
"cell_type": "code",
	   "execution_count": null,
	   "metadata": {
	    "collapsed": true
	   },
	   "outputs": [],
"source": [
"//input of lossless transmission line\n",
"//given\n",
"clc\n",
"Zo=50//ohms\n",
"Zl=%inf//defined as infinity\n",
"Bl=2*%pi*0.1\n",
"Zi=(Zo*(1+%i*(Zo/Zl)*tan(Bl))/(Zo/Zl+%i*tan(Bl)))//taking Zl common from numerrator and denominator\n",
"Zi=round(Zi*100)/100///rounding off decimals\n",
"disp(Zi,'the input of 50ohm lossless transmission line')//ohm"
   ]
   }
,
{
		   "cell_type": "markdown",
		   "metadata": {},
		   "source": [
			"## Example 6.5: input_impedance_of_a_lossless_transmission.sce"
		   ]
		  },
  {
"cell_type": "code",
	   "execution_count": null,
	   "metadata": {
	    "collapsed": true
	   },
	   "outputs": [],
"source": [
"//input impedance of a lossless transmission\n",
"//given\n",
"clc\n",
"Zo=100//ohm\n",
"Bl=(2*%pi)/3//ERROR \n",
"Zl=150+%i*60\n",
"Zi=Zo*(Zl+%i*Zo*tan(Bl))/(Zo+%i*Zl*tan(Bl))//the input impedence in ohm\n",
"disp(Zi,'the input impedance of lossless transmission line in ohm:')\n",
"//ERROR in the calculation of the book as value of Bl=120*pi"
   ]
   }
,
{
		   "cell_type": "markdown",
		   "metadata": {},
		   "source": [
			"## Example 6.6: time_required_for_wave_to_travell.sce"
		   ]
		  },
  {
"cell_type": "code",
	   "execution_count": null,
	   "metadata": {
	    "collapsed": true
	   },
	   "outputs": [],
"source": [
"//time required for wave to travell\n",
"//given\n",
"clc\n",
"L=1.2d-6//H/m\n",
"C=12.5d-12//F/m\n",
"leng_line=2//length of the line in meter\n",
"t=sqrt(L*C)*leng_line//time required for the wave to travell in seconds\n",
"t=round(t*1d+12)/1d+12///rounding off decimals\n",
"disp(t*1d+9,'the time required for wave to travell in nanoseconds')//nsec"
   ]
   }
,
{
		   "cell_type": "markdown",
		   "metadata": {},
		   "source": [
			"## Example 6.7: characteristic_impedance.sce"
		   ]
		  },
  {
"cell_type": "code",
	   "execution_count": null,
	   "metadata": {
	    "collapsed": true
	   },
	   "outputs": [],
"source": [
"//characteristic impedance\n",
"//given\n",
"clc\n",
"L=1.5d-6//H/m\n",
"C=10d-12//F\n",
"Zo=sqrt(L/C)\n",
"Zo=round(Zo)///rounding off decimals\n",
"disp(Zo,'the characteristic impedence in ohm')//ohm"
   ]
   }
,
{
		   "cell_type": "markdown",
		   "metadata": {},
		   "source": [
			"## Example 6.8: reflected_voltage.sce"
		   ]
		  },
  {
"cell_type": "code",
	   "execution_count": null,
	   "metadata": {
	    "collapsed": true
	   },
	   "outputs": [],
"source": [
"//reflected voltage\n",
"//given\n",
"clc\n",
"Vi=50//volts\n",
"row=0.25//reflection coefficent\n",
"Vr=Vi*row//the reflected voltage\n",
"disp(Vr,'the reflected voltage for given reflection coefficent in volts')"
   ]
   }
,
{
		   "cell_type": "markdown",
		   "metadata": {},
		   "source": [
			"## Example 6.9: percenage_of_reflected_voltage.sce"
		   ]
		  },
  {
"cell_type": "code",
	   "execution_count": null,
	   "metadata": {
	    "collapsed": true
	   },
	   "outputs": [],
"source": [
"//percentage of reflected voltage\n",
"//given\n",
"clc\n",
"Vi=50//volts\n",
"Vr=25//volts\n",
"row=Vr/Vi//reflection coefficent\n",
"per_ref_volt=row*100//percentage of reflected voltage \n",
"disp(per_ref_volt,'the percentage of reflected voltage')"
   ]
   }
],
"metadata": {
		  "kernelspec": {
		   "display_name": "Scilab",
		   "language": "scilab",
		   "name": "scilab"
		  },
		  "language_info": {
		   "file_extension": ".sce",
		   "help_links": [
			{
			 "text": "MetaKernel Magics",
			 "url": "https://github.com/calysto/metakernel/blob/master/metakernel/magics/README.md"
			}
		   ],
		   "mimetype": "text/x-octave",
		   "name": "scilab",
		   "version": "0.7.1"
		  }
		 },
		 "nbformat": 4,
		 "nbformat_minor": 0
}
