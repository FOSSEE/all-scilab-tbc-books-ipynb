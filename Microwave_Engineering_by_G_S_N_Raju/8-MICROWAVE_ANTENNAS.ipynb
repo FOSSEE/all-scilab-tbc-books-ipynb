{
"cells": [
 {
		   "cell_type": "markdown",
	   "metadata": {},
	   "source": [
       "# Chapter 8: MICROWAVE ANTENNAS"
	   ]
	},
{
		   "cell_type": "markdown",
		   "metadata": {},
		   "source": [
			"## Example 8.10: half_power_radiation_pattern_and_beamwidth_between_first_null.sce"
		   ]
		  },
  {
"cell_type": "code",
	   "execution_count": null,
	   "metadata": {
	    "collapsed": true
	   },
	   "outputs": [],
"source": [
"//half power radiation pattern and beamwidth between first null\n",
"//given\n",
"clc\n",
"Da=5//metre\n",
"f=10d+9//hertz\n",
"v=3d+8//m/s\n",
"lemda=v/f//metre\n",
"NNBW=140*(lemda/Da)//degree\n",
"HPBW=70*(lemda/Da)//degree\n",
"gp=6.4*(Da/lemda)^2//gain pattern\n",
"gp_decibles=10*log10(gp)//changing to db\n",
"gp_decibles=round(gp_decibles*1000)/1000///rounding off decimals\n",
"disp(NNBW,HPBW,gp_decibles,'the half power beamwidth and  beamwidth between first null and the gain pattern in degrees and decibles')//degree,db"
   ]
   }
,
{
		   "cell_type": "markdown",
		   "metadata": {},
		   "source": [
			"## Example 8.11: half_power_radiation_pattern_and_beamwidth_between_first_null.sce"
		   ]
		  },
  {
"cell_type": "code",
	   "execution_count": null,
	   "metadata": {
	    "collapsed": true
	   },
	   "outputs": [],
"source": [
"//half power radiation pattern and beamwidth between first null\n",
"//given\n",
"clc\n",
"Da=12//metre\n",
"f=10d+9//hertz\n",
"v=3d+8//m/s\n",
"lemda=v/f//metre\n",
"ie=0.6//illumination efficiency\n",
"gp=ie*(Da/lemda)^2//gain pattern\n",
"gp_decibles=10*log10(gp)//changing to db\n",
"gp_decibles=round(gp_decibles*100)/100///rounding off decimals\n",
"disp(gp_decibles,'the power gain in decibles')//degree,db"
   ]
   }
,
{
		   "cell_type": "markdown",
		   "metadata": {},
		   "source": [
			"## Example 8.12: mouth_diameter_and_capture_area.sce"
		   ]
		  },
  {
"cell_type": "code",
	   "execution_count": null,
	   "metadata": {
	    "collapsed": true
	   },
	   "outputs": [],
"source": [
"//mouth diameter and capture area\n",
"//given\n",
"clc\n",
"f=4d+9//hertz\n",
"v=3d+8//m/s\n",
"NNBW=8//degree\n",
"lemda=v/f//metre\n",
"Da=140*(lemda/NNBW)//degree\n",
"A=%pi*(Da^2)/4//actual area\n",
"Ac=0.65*A//capture area\n",
"Ac=round(Ac*1000)/1000///rounding off decimals\n",
"disp(Ac,Da,'the mouth diameter and capture area in metre and metersquare')//m,m^2"
   ]
   }
,
{
		   "cell_type": "markdown",
		   "metadata": {},
		   "source": [
			"## Example 8.13: mouth_diameter_and_power_gain.sce"
		   ]
		  },
  {
"cell_type": "code",
	   "execution_count": null,
	   "metadata": {
	    "collapsed": true
	   },
	   "outputs": [],
"source": [
"//mouth diameter and power gain\n",
"//given\n",
"clc\n",
"NNBW=2//degree//null to null beamwidth\n",
"f=4d+9//hertz\n",
"v=3d+8//m/s\n",
"lemda=v/f//metre//\n",
"Da=140*(lemda/NNBW)//degree//beamwidth between first null\n",
"gp=6.4*(Da/lemda)^2\n",
"gp_decibles=10*log10(gp)//changing to decibles\n",
"gp_decibles=round(gp_decibles*100)/100///rounding off decimals\n",
"disp(gp_decibles,Da,'the beamwidth between first null and the value of half power beamwidth in decibles and degree')//decibles,degrees\n",
""
   ]
   }
,
{
		   "cell_type": "markdown",
		   "metadata": {},
		   "source": [
			"## Example 8.14: null_to_null_beamwidth_and_the_gain_power.sce"
		   ]
		  },
  {
"cell_type": "code",
	   "execution_count": null,
	   "metadata": {
	    "collapsed": true
	   },
	   "outputs": [],
"source": [
"//null to null beamwidth and the gain power\n",
"//given\n",
"clc\n",
"HPBW=6//degree//half power beamwidth\n",
"f=6d+9//hertz\n",
"v=3d+8\n",
"NNBW=2*HPBW//degree//null to null beamwidth\n",
"lemda=v/f//metre\n",
"Da=70*(lemda/HPBW)//degree//half power beamwidth\n",
"gp=6.4*(Da/lemda)^2\n",
"gp_decibles=10*log10(gp)//changing to decibles\n",
"gp_decibles=round(gp_decibles*100)/100///rounding off decimals\n",
"disp(gp_decibles,NNBW,'the beamwidth between first null and gain power in degree and decibles')//degrees,decibles"
   ]
   }
,
{
		   "cell_type": "markdown",
		   "metadata": {},
		   "source": [
			"## Example 8.15: power_gain_of_paraboloid_reflector.sce"
		   ]
		  },
  {
"cell_type": "code",
	   "execution_count": null,
	   "metadata": {
	    "collapsed": true
	   },
	   "outputs": [],
"source": [
"//power gain of paraboloid reflector\n",
"//given\n",
"clc\n",
"lemda=1//as value of lemda do not effect the expression\n",
"for(lemda!=0)\n",
"Da=6*lemda\n",
"gp=6.4*(Da/lemda)^2\n",
"gp_decibles=10*log10(gp)//changing to decibles\n",
"end\n",
"gp_decibles=round(gp_decibles*100)/100///rounding off decimals\n",
"disp(gp_decibles,'the power gain of paraboloid reflector in decibles')//decibles"
   ]
   }
,
{
		   "cell_type": "markdown",
		   "metadata": {},
		   "source": [
			"## Example 8.16: HPBW_NNBW_directivity.sce"
		   ]
		  },
  {
"cell_type": "code",
	   "execution_count": null,
	   "metadata": {
	    "collapsed": true
	   },
	   "outputs": [],
"source": [
"//HPBW NNBW directivity\n",
"//given\n",
"clc\n",
"lemda=1//as value of lemda do not effect the expression\n",
"for(lemda!= 0)\n",
"Da=7*lemda//aperture diameter\n",
"NNBW=140*(lemda/Da)//degree\n",
"HPBW=70*(lemda/Da)//degree\n",
"D=6.4*(Da/lemda)^2//directivity\n",
"end\n",
"disp(D,NNBW,HPBW,'the half power beamwidth and  beamwidth between first null and the directivity in degrees and decibles')//degree,db"
   ]
   }
,
{
		   "cell_type": "markdown",
		   "metadata": {},
		   "source": [
			"## Example 8.17: beamwidth_power_gain_and_directivity.sce"
		   ]
		  },
  {
"cell_type": "code",
	   "execution_count": null,
	   "metadata": {
	    "collapsed": true
	   },
	   "outputs": [],
"source": [
"//beamwidth power gain and directivity\n",
"//given\n",
"clc\n",
"f=8d+9//hertz\n",
"v=3d+8//m/s\n",
"d=0.09//m//aperture dimentions\n",
"W=0.04//m//aperture dimentions\n",
"lemda=v/f//metre\n",
"QE=56*lemda/d//\n",
"QH=67*lemda/W//\n",
"gp=4.5*W*d/lemda^2\n",
"gp_decibles=10*log10(gp)//changing to decibles\n",
"D=7.5*W*d/lemda^2//directivity\n",
"gp_decibles=round(gp_decibles*100)/100///rounding off decimals\n",
"QH=round(QH*100)/100///rounding off decimals\n",
"QE=round(QE*100)/100///rounding off decimals\n",
"disp(D,gp_decibles,QH,QE,'the beamwidth power gain and directivity in degrees,decibles')//degrees,decibles"
   ]
   }
,
{
		   "cell_type": "markdown",
		   "metadata": {},
		   "source": [
			"## Example 8.18: power_gain_of_square_horn_antenna.sce"
		   ]
		  },
  {
"cell_type": "code",
	   "execution_count": null,
	   "metadata": {
	    "collapsed": true
	   },
	   "outputs": [],
"source": [
"//power gain of square horn antenna\n",
"//given\n",
"clc\n",
"lemda=1//as value of lemda do not affect the expression\n",
"for(lemda!=0)\n",
"    d=10*lemda // dimentions   \n",
"    W=10*lemda//dimentions\n",
"gp=4.5*W*d/lemda^2//power gain\n",
"gp_decibles=10*log10(gp)//changing to decibles\n",
"end\n",
"gp_decibles=round(gp_decibles*1000)/1000///rounding off decimals\n",
"disp(gp_decibles,'the  power gain  in decibles')//decibles"
   ]
   }
,
{
		   "cell_type": "markdown",
		   "metadata": {},
		   "source": [
			"## Example 8.19: power_gain_and_directivity_of_a_horn.sce"
		   ]
		  },
  {
"cell_type": "code",
	   "execution_count": null,
	   "metadata": {
	    "collapsed": true
	   },
	   "outputs": [],
"source": [
"//power gain and directivity of a horn\n",
"//given\n",
"clc\n",
"f=8d+9//hertz\n",
"v=3d+8//m/s\n",
"d=0.1//m//aperture dimentions\n",
"W=0.05//m//aperture dimentions\n",
"lemda=v/f//metre\n",
"gp=4.5*W*d/lemda^2\n",
"gp_decibles=10*log10(gp)//changing to decibles\n",
"D=7.5*W*d/lemda^2//directivity\n",
"D_decibles=10*log10(D)\n",
"gp_decibles=round(gp_decibles*100)/100///rounding off decimals\n",
"D_decibles=round(D_decibles*100)/100///rounding off decimals\n",
"disp(D_decibles,gp_decibles,'the beamwidth power gain and directivity in decibles')//decibles"
   ]
   }
,
{
		   "cell_type": "markdown",
		   "metadata": {},
		   "source": [
			"## Example 8.1: half_power_beam_width.sce"
		   ]
		  },
  {
"cell_type": "code",
	   "execution_count": null,
	   "metadata": {
	    "collapsed": true
	   },
	   "outputs": [],
"source": [
"//given\n",
"clc\n",
"Da=2.5//metre\n",
"f=5d+9//hertz\n",
"v=3d+8\n",
"lemda=v/f//metre\n",
"NNBW=140*(lemda/Da)//degree//beamwidth between first null\n",
"HPBW=70*(lemda/Da)//degree//half power beamwidth\n",
"disp(HPBW,NNBW,'the beamwidth between first null and the value of half power beamwidth in degree')//degrees"
   ]
   }
,
{
		   "cell_type": "markdown",
		   "metadata": {},
		   "source": [
			"## Example 8.20: complementary_slot_impedence.sce"
		   ]
		  },
  {
"cell_type": "code",
	   "execution_count": null,
	   "metadata": {
	    "collapsed": true
	   },
	   "outputs": [],
"source": [
"//complementary slot impedence\n",
"//given\n",
"clc\n",
"function[Zs]=slot_imp(Zd)\n",
"no=377\n",
"Rd=real(Zd)\n",
"Xd=imag(Zd)\n",
"Zs=(no^2/(4*(Rd^2+Xd^2)))*(Rd-%i*Xd)//slot impedance\n",
"Zs=round(Zs*100)/100///rounding off decimals\n",
"endfunction\n",
"Zd=73+%i*50//ohm\n",
"[Zs1]=slot_imp(Zd)\n",
"Zd=70//ohm\n",
"[Zs2]=slot_imp(Zd)\n",
"Zd=800//ohm\n",
"[Zs3]=slot_imp(Zd)\n",
"Zd=400//ohm\n",
"[Zs4]=slot_imp(Zd)\n",
"Zd=50+%i*10//ohm\n",
"[Zs5]=slot_imp(Zd)\n",
"Zd=50-%i*30//ohm\n",
"[Zs6]=slot_imp(Zd)\n",
"Zd=350//ohm\n",
"[Zs7]=slot_imp(Zd)\n",
"disp(Zs7,Zs6,Zs5,Zs4,Zs3,Zs2,Zs1,'the complementry slot impedence in ohms')//ohm"
   ]
   }
,
{
		   "cell_type": "markdown",
		   "metadata": {},
		   "source": [
			"## Example 8.21: radiation_resistance_of_hertzian_dipole.sce"
		   ]
		  },
  {
"cell_type": "code",
	   "execution_count": null,
	   "metadata": {
	    "collapsed": true
	   },
	   "outputs": [],
"source": [
"//radiation resistance of hertzian dipole\n",
"//given\n",
"clc\n",
"lemda=1//as the radiation resistance is independent  of lemda\n",
"function[Rr]=rad_resistance(dl)\n",
" for(lemda!=0)\n",
"     Rr=80*%pi^2*(dl/lemda)^2\n",
"     Rr=round(Rr*1000)/1000///rounding off decimals\n",
"     end\n",
" endfunction\n",
"dl=lemda/20\n",
"[Rr1]=rad_resistance(dl)\n",
"dl=lemda/30\n",
"[Rr2]=rad_resistance(dl)\n",
"dl=lemda/40\n",
"[Rr3]=rad_resistance(dl)\n",
"disp(Rr3,Rr2,Rr1,'the radiation resistance of hertzian dipole')"
   ]
   }
,
{
		   "cell_type": "markdown",
		   "metadata": {},
		   "source": [
			"## Example 8.22: directivity_of_half_wave_dipole.sce"
		   ]
		  },
  {
"cell_type": "code",
	   "execution_count": null,
	   "metadata": {
	    "collapsed": true
	   },
	   "outputs": [],
"source": [
"//directivity of half wave dipole\n",
"//given\n",
"clc\n",
"Pr=1//watts\n",
"r=1//as value of 'r' do not effect the expression\n",
"n0=120*%pi\n",
"for(r!=0)\n",
"I=sqrt(Pr/73)\n",
"Emax=60*I/r\n",
"si=r^2*Emax^2/n0\n",
"gdmax=4*%pi*(si)/Pr\n",
"gdmax=round(gdmax*1000)/1000///rounding off decimals\n",
"end\n",
"disp(gdmax,'the directivity expression for half wave dipole')"
   ]
   }
,
{
		   "cell_type": "markdown",
		   "metadata": {},
		   "source": [
			"## Example 8.23: radiated_power_of_an_antenna.sce"
		   ]
		  },
  {
"cell_type": "code",
	   "execution_count": null,
	   "metadata": {
	    "collapsed": true
	   },
	   "outputs": [],
"source": [
"//radiated power of an  antenna \n",
"//given\n",
"clc\n",
"I=2//amperes\n",
"Rr=300//ohms\n",
"Pr=I^2*Rr//radiated power\n",
"disp(Pr,'the radiated power  of  anantenna in watts')"
   ]
   }
,
{
		   "cell_type": "markdown",
		   "metadata": {},
		   "source": [
			"## Example 8.24: effective_area_of_a_half_wave_dipole.sce"
		   ]
		  },
  {
"cell_type": "code",
	   "execution_count": null,
	   "metadata": {
	    "collapsed": true
	   },
	   "outputs": [],
"source": [
"//effective area of a half wave dipole\n",
"//given\n",
"clc\n",
"f=0.6d+9//hertz\n",
"Vo=3d+8//m/s\n",
"gd=1.644//directivity of half wave dipole\n",
"lemda=Vo/f\n",
"Ae=(lemda^2/(4*%pi))*gd//metre^2\n",
"Ae=round(Ae*1d+4)/1d+4///rounding off decimals\n",
"disp(Ae,'the effective area of a half wave dipole in metre^2')//m^2"
   ]
   }
,
{
		   "cell_type": "markdown",
		   "metadata": {},
		   "source": [
			"## Example 8.25: effective_area_of_hertzian_dipole.sce"
		   ]
		  },
  {
"cell_type": "code",
	   "execution_count": null,
	   "metadata": {
	    "collapsed": true
	   },
	   "outputs": [],
"source": [
"//effective area of hertzian dipole\n",
"//given\n",
"clc\n",
"f=0.2d+9//hertz\n",
"Vo=3d+8//m/s\n",
"lemda=Vo/f\n",
"Ae=(lemda^2/(4*%pi))//metre^2//ERROR\n",
"Ae=round(Ae*1000)/1000///rounding off decimals\n",
"disp(Ae,'the effective area of a half wave dipole in metre^2')//m^2\n",
"//ERROR in the  calculation of the book as effective area includes lemda square not cube."
   ]
   }
,
{
		   "cell_type": "markdown",
		   "metadata": {},
		   "source": [
			"## Example 8.2: gain_of_paraboloid.sce"
		   ]
		  },
  {
"cell_type": "code",
	   "execution_count": null,
	   "metadata": {
	    "collapsed": true
	   },
	   "outputs": [],
"source": [
"//gain of paraboloid\n",
"//given\n",
"clc\n",
"Da=2.5//metre\n",
"f=5d+9//hertz\n",
"v=3d+8//m/s\n",
"lemda=v/f\n",
"gp=6.4*(Da/lemda)^2\n",
"gp_decibles=10*log10(gp)//changing to decibles\n",
"gp_decibles=round(gp_decibles*100)/100///rounding off decimals\n",
"disp(gp_decibles,'the gain of paraboloid in decibles')//db"
   ]
   }
,
{
		   "cell_type": "markdown",
		   "metadata": {},
		   "source": [
			"## Example 8.3: half_power_radiation_pattern_and_beamwidth_between_first_null.sce"
		   ]
		  },
  {
"cell_type": "code",
	   "execution_count": null,
	   "metadata": {
	    "collapsed": true
	   },
	   "outputs": [],
"source": [
"//half power radiation pattern and beamwidth between first null\n",
"//given\n",
"clc\n",
"Da=0.15//metre\n",
"f=9d+9//hertz\n",
"v=3d+8//m/s\n",
"lemda=v/f//metre\n",
"NNBW=140*(lemda/Da)//degree\n",
"HPBW=70*(lemda/Da)//degree\n",
"gp=6.4*(Da/lemda)^2//gain pattern\n",
"gp_decibles=10*log10(gp)//changing to db\n",
"gp_decibles=round(gp_decibles*100)/100///rounding off decimals\n",
"HPBW=round(HPBW*100)/100///rounding off decimals\n",
"NNBW=round(NNBW*100)/100///rounding off decimals\n",
"disp(gp_decibles,HPBW,NNBW,'the half power beamwidth and  beamwidth between first null and the gain pattern in degrees and decibles')//degree,db\n",
""
   ]
   }
,
{
		   "cell_type": "markdown",
		   "metadata": {},
		   "source": [
			"## Example 8.4: gain_of_paraboloid.sce"
		   ]
		  },
  {
"cell_type": "code",
	   "execution_count": null,
	   "metadata": {
	    "collapsed": true
	   },
	   "outputs": [],
"source": [
"//gain of paraboloid\n",
"//given\n",
"clc\n",
"Da=2//metre\n",
"f=2d+9//hertz\n",
"v=3d+8//m/s\n",
"lemda=v/f\n",
"gp=6.4*(Da/lemda)^2\n",
"gp_decibles=10*log10(gp)//changing to decibles\n",
"disp(gp_decibles,'the gain of paraboloid in decibles')//db\n",
"//ERROR  in the printing of the book"
   ]
   }
,
{
		   "cell_type": "markdown",
		   "metadata": {},
		   "source": [
			"## Example 8.5: half_power_beam_width_the_gain_power.sce"
		   ]
		  },
  {
"cell_type": "code",
	   "execution_count": null,
	   "metadata": {
	    "collapsed": true
	   },
	   "outputs": [],
"source": [
"//half power beam width the gain power\n",
"//given\n",
"clc\n",
"NNBW=5//degree//null to null beamwidth\n",
"f=6d+9//hertz\n",
"v=3d+8\n",
"lemda=v/f//metre\n",
"Da=140*(lemda/NNBW)//degree//beamwidth between first null\n",
"HPBW=70*(lemda/Da)//degree//half power beamwidth\n",
"gp=6.4*(Da/lemda)^2\n",
"gp_decibles=10*log10(gp)//changing to decibles\n",
"disp(gp_decibles,HPBW,Da,'the beamwidth between first null and the value of half power beamwidth in degree')//degrees\n",
"//ERROR in the printing of the book"
   ]
   }
,
{
		   "cell_type": "markdown",
		   "metadata": {},
		   "source": [
			"## Example 8.6: beamwidth_directivity_and_capture_area.sce"
		   ]
		  },
  {
"cell_type": "code",
	   "execution_count": null,
	   "metadata": {
	    "collapsed": true
	   },
	   "outputs": [],
"source": [
"//beamwidth,directivity and capture area\n",
"//given\n",
"clc\n",
"Da=5//metre\n",
"f=9d+9//hertz\n",
"v=3d+8//m/s\n",
"lemda=v/f//metre\n",
"A=%pi*(Da^2)/4//actual area\n",
"Ac=0.65*A//capture area\n",
"NNBW=140*(lemda/Da)//degree\n",
"HPBW=70*(lemda/Da)//degree\n",
"D=6.4*(Da/lemda)^2//directivity\n",
"D_decibles=10*log10(D)//changing to db\n",
"NNBW=round(NNBW*1D+4)/1D+4///rounding off decimals\n",
"HPBW=round(HPBW*1D+3)/1D+3///rounding off decimals\n",
"Ac=round(Ac*100)/100///rounding off decimals\n",
"D_decibles=round(D_decibles*100)/100///rounding off decimals\n",
"disp(D_decibles,Ac,HPBW,NNBW,'the half power beamwidth and  beamwidth between first null and the gain pattern in degrees and decibles')//degree,m^2,db\n",
""
   ]
   }
,
{
		   "cell_type": "markdown",
		   "metadata": {},
		   "source": [
			"## Example 8.7: minimum_distance_between_two_antennas.sce"
		   ]
		  },
  {
"cell_type": "code",
	   "execution_count": null,
	   "metadata": {
	    "collapsed": true
	   },
	   "outputs": [],
"source": [
"//minimum distance between two antennas\n",
"//given\n",
"clc\n",
"Da=5//metre\n",
"f=5d+9//hertz\n",
"v=3d+8//m/s\n",
"lemda=v/f//metre\n",
"r=2*(Da^2)/lemda//metre\n",
"r=round(r*100)/100///rounding off decimals\n",
"disp(r,'the minimum distance required between two antennas in metre')//metre\n",
""
   ]
   }
,
{
		   "cell_type": "markdown",
		   "metadata": {},
		   "source": [
			"## Example 8.8: mouth_diameter_and_the_beamwidth_of_antenna.sce"
		   ]
		  },
  {
"cell_type": "code",
	   "execution_count": null,
	   "metadata": {
	    "collapsed": true
	   },
	   "outputs": [],
"source": [
"//mouth diameter and the beamwidth of antenna\n",
"//given\n",
"clc\n",
"Da=0.15//metre\n",
"f=4d+9//hertz\n",
"gp=500//\n",
"v=3d+8//m/s\n",
"lemda=v/f//metre\n",
"Da=lemda*sqrt(gp/6.4)//diameter\n",
"NNBW=140*(lemda/Da)//degree\n",
"HPBW=70*(lemda/Da)//degree\n",
"Da=round(Da*1000)/1000///rounding off decimals\n",
"HPBW=round(HPBW*100)/100///rounding off decimals\n",
"NNBW=round(NNBW*100)/100///rounding off decimals\n",
"disp(NNBW,HPBW,Da,'the mouth diameter and the beamwidth of antenna in metre and degrees')//metre,degree\n",
""
   ]
   }
,
{
		   "cell_type": "markdown",
		   "metadata": {},
		   "source": [
			"## Example 8.9: beamwidth_directivity_and_capture_area.sce"
		   ]
		  },
  {
"cell_type": "code",
	   "execution_count": null,
	   "metadata": {
	    "collapsed": true
	   },
	   "outputs": [],
"source": [
"//beamwidth,directivity and capture area\n",
"//given\n",
"clc\n",
"f=9d+9//hertz\n",
"v=3d+8//m/s\n",
"gp_decibles=100//db\n",
"lemda=v/f//metre\n",
"gp=10^(gp_decibles/10)//\n",
"Da=lemda*sqrt(gp/6.4)//metre\n",
"A=%pi*(Da^2)/4//actual area\n",
"Ac=0.65*A//capture area\n",
"NNBW=140*(lemda/Da)//degree\n",
"HPBW=70*(lemda/Da)//degree\n",
"HPBW=round(HPBW*1D+5)/1D+5///rounding off decimals\n",
"NNBW=round(NNBW*1D+4)/1D+4///rounding off decimals\n",
"disp(HPBW,NNBW,Ac,'the half power beamwidth and  beamwidth between first null and the gain pattern in degrees and decibles')//degree,m^2,db"
   ]
   }
],
"metadata": {
		  "kernelspec": {
		   "display_name": "Scilab",
		   "language": "scilab",
		   "name": "scilab"
		  },
		  "language_info": {
		   "file_extension": ".sce",
		   "help_links": [
			{
			 "text": "MetaKernel Magics",
			 "url": "https://github.com/calysto/metakernel/blob/master/metakernel/magics/README.md"
			}
		   ],
		   "mimetype": "text/x-octave",
		   "name": "scilab",
		   "version": "0.7.1"
		  }
		 },
		 "nbformat": 4,
		 "nbformat_minor": 0
}
