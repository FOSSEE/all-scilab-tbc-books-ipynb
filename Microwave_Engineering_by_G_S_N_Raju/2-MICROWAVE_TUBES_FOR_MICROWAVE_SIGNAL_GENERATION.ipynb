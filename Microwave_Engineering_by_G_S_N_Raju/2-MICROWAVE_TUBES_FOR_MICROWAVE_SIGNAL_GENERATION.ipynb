{
"cells": [
 {
		   "cell_type": "markdown",
	   "metadata": {},
	   "source": [
       "# Chapter 2: MICROWAVE TUBES FOR MICROWAVE SIGNAL GENERATION"
	   ]
	},
{
		   "cell_type": "markdown",
		   "metadata": {},
		   "source": [
			"## Example 2.1: maximum_power_for_given_beam_current.sce"
		   ]
		  },
  {
"cell_type": "code",
	   "execution_count": null,
	   "metadata": {
	    "collapsed": true
	   },
	   "outputs": [],
"source": [
"//maximum power\n",
"//GIVEN\n",
"I1=20D-3//current in ampere\n",
"Va=300//VOLTAGE of the beam in volts\n",
"n=1//given mode value\n",
"Prf=0.39861*I1*Va/(n+0.75)//the maximum output power\n",
"Prf=round(Prf*1000)/1000///rounding off decimals\n",
"disp(Prf,'the maximum r-f power when given beam current is 20mA in watts:')"
   ]
   }
,
{
		   "cell_type": "markdown",
		   "metadata": {},
		   "source": [
			"## Example 2.2: gain_parameter_output_power_and_Be.sce"
		   ]
		  },
  {
"cell_type": "code",
	   "execution_count": null,
	   "metadata": {
	    "collapsed": true
	   },
	   "outputs": [],
"source": [
"//gain parameter ,output power and Be\n",
"//given\n",
"clc\n",
"Vdc=2.5d+3//votage  in volts\n",
"Idc=25d-3//current in ampere\n",
"Z0=10//resistance in ohm\n",
"L=40//CIRCUIT LENGTH\n",
"f=9.5d+9//in Hz\n",
"G=((Idc*Z0)/(4*Vdc))^(1/3)//the gain parameter\n",
"Ap=-9.54+47.3*L*G//OUTPUT power in dB\n",
"w=2*%pi*f\n",
"Ve=0.593d+6*sqrt(Vdc)\n",
"Be=w/Ve//in rad/m\n",
"Be=round(Be/10)*10///rounding off decimals\n",
"Ap=round(Ap*10)/10////rounding off decimals\n",
"G=round(G*10000)/10000////rounding off decimals\n",
"disp(Be,Ap,G,'the  Be,the output power and the gain parameter')//dB,Rad/m"
   ]
   }
,
{
		   "cell_type": "markdown",
		   "metadata": {},
		   "source": [
			"## Example 2.3: angular_frequency_and_the_cutoff_voltage.sce"
		   ]
		  },
  {
"cell_type": "code",
	   "execution_count": null,
	   "metadata": {
	    "collapsed": true
	   },
	   "outputs": [],
"source": [
"//angular frequency and the cutoff voltage\n",
"//given\n",
"clc\n",
"Bm=0.4//magnetic flux in tesla\n",
"ebym=1.759d+11//electron to mass ratio\n",
"a=0.04//radius of cathode in meter\n",
"b=0.1//radius of vane edge from centre in meter\n",
"Wc=ebym*Bm//angular frequency in rad\n",
"Vc=((ebym/8)*(Bm^2)*((b/10)^2)*((1-((a/b)^2))^2))//ERROR cut off voltage in volts\n",
"disp(Vc,Wc,'THE  the angular frequency and Cutoff voltage in radians and volts is given  by:')// rad,volts\n",
"//EERROR in cutoff voltage as value of ((1-((a/b)^2))^2)=0.7056 instead  of ((1-((a/b)^2))^2)=0.36"
   ]
   }
,
{
		   "cell_type": "markdown",
		   "metadata": {},
		   "source": [
			"## Example 2.4: electron_velocity_transit_angle_and_beam_coupling_coefficent.sce"
		   ]
		  },
  {
"cell_type": "code",
	   "execution_count": null,
	   "metadata": {
	    "collapsed": true
	   },
	   "outputs": [],
"source": [
"//electron velocity,transit angle and beam coupling coefficent\n",
"//given\n",
"Va=900// in volts\n",
"Rb=30d+3//in ohm\n",
"Ib=20d-3//in ampere\n",
"f=3.2d+9//in hertz\n",
"d=1d-3//meter\n",
"Ve=0.593d+6*sqrt(Va)//m/s\n",
"w=2*%pi*f\n",
"Qt=w*d/Ve//radians\n",
"Bc=(sin(Qt/2))/(Qt/2)\n",
"Qt=round(Qt*100)/100///rounding off decimals\n",
"Bc=round(Bc*1000)/1000///rounding off decimals\n",
"disp(Bc,Qt,Ve,'THE electron eloccity ,transit angle and beam coupling coefficient in m/s,radians')//m/s,radians."
   ]
   }
,
{
		   "cell_type": "markdown",
		   "metadata": {},
		   "source": [
			"## Example 2.5: efficency_of_kylstron.sce"
		   ]
		  },
  {
"cell_type": "code",
	   "execution_count": null,
	   "metadata": {
	    "collapsed": true
	   },
	   "outputs": [],
"source": [
"//efficency of kylstron\n",
"//given\n",
"clc\n",
"I2=28d-3//ampere\n",
"V2=850//volts\n",
"Bc=0.496//beam coupling coefficent\n",
"Vd=900//volts\n",
"Ib=26d-3//ampere\n",
"n=(Bc*I2*V2)/(2*Ib*Vd)\n",
"disp(n*100,'the beam efficiency of kylstron in the percentage format')\n",
"//ERROR in calcultion of the book the value of Bc is different in question"
   ]
   }
],
"metadata": {
		  "kernelspec": {
		   "display_name": "Scilab",
		   "language": "scilab",
		   "name": "scilab"
		  },
		  "language_info": {
		   "file_extension": ".sce",
		   "help_links": [
			{
			 "text": "MetaKernel Magics",
			 "url": "https://github.com/calysto/metakernel/blob/master/metakernel/magics/README.md"
			}
		   ],
		   "mimetype": "text/x-octave",
		   "name": "scilab",
		   "version": "0.7.1"
		  }
		 },
		 "nbformat": 4,
		 "nbformat_minor": 0
}
