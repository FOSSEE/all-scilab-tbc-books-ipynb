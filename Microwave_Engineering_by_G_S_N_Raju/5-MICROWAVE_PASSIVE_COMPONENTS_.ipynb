{
"cells": [
 {
		   "cell_type": "markdown",
	   "metadata": {},
	   "source": [
       "# Chapter 5: MICROWAVE PASSIVE COMPONENTS "
	   ]
	},
{
		   "cell_type": "markdown",
		   "metadata": {},
		   "source": [
			"## Example 5.10: voltage_standing_wave_ratio.sce"
		   ]
		  },
  {
"cell_type": "code",
	   "execution_count": null,
	   "metadata": {
	    "collapsed": true
	   },
	   "outputs": [],
"source": [
"//voltage standing wave ratio\n",
"//given\n",
"clc\n",
"clear \n",
"format\n",
"Vr=0.37//volts\n",
"Vi=1//volts\n",
"row=Vr/Vi\n",
"if(row>=0)\n",
"VSWR=(1+row)/(1-row)\n",
"VSWR=round(VSWR*10)/10///rounding off decimals\n",
"disp(VSWR,'THE voltage standing wave ratio is:')\n",
"else\n",
"disp('not possible')\n",
"end"
   ]
   }
,
{
		   "cell_type": "markdown",
		   "metadata": {},
		   "source": [
			"## Example 5.11: magnitude_of_the_reflection_coefficent.sce"
		   ]
		  },
  {
"cell_type": "code",
	   "execution_count": null,
	   "metadata": {
	    "collapsed": true
	   },
	   "outputs": [],
"source": [
"//magnitude of the reflection coefficent\n",
"//given\n",
"clc\n",
"zl=10*%i//ohm\n",
"z0=100//ohm\n",
"row=(zl-z0)/(zl+z0)//reflection coefficent\n",
"mag_row=norm(row)//magnitude of reflection coefficent\n",
"disp(mag_row,'the magnitude of the reflection coefficent:')"
   ]
   }
,
{
		   "cell_type": "markdown",
		   "metadata": {},
		   "source": [
			"## Example 5.1: Zo_of_a_two_wire_transmission_line.sce"
		   ]
		  },
  {
"cell_type": "code",
	   "execution_count": null,
	   "metadata": {
	    "collapsed": true
	   },
	   "outputs": [],
"source": [
"//Zo of a two wire transmission  line\n",
"//given\n",
"clc\n",
"L=1D-3//H/Km\n",
"C=0.25D-6//F/Km\n",
"Zo=sqrt(L/C)//ohm\n",
"Zo=round(Zo*100)/100///rounding off decimalssc\n",
"disp(Zo,'the Zo for two wire transmission line  in ohm:')//ohm"
   ]
   }
,
{
		   "cell_type": "markdown",
		   "metadata": {},
		   "source": [
			"## Example 5.2: Zo_of_a_transmission_line.sce"
		   ]
		  },
  {
"cell_type": "code",
	   "execution_count": null,
	   "metadata": {
	    "collapsed": true
	   },
	   "outputs": [],
"source": [
"//Zo of a transmission line\n",
"//given\n",
"clc\n",
"epsilon_r=1//assume as 1 according to question\n",
"s=0.49//cm\n",
"d=0.1//cm \n",
"Zo=(276/sqrt(epsilon_r))*log10((2*s)/d)\n",
"Zo=round(Zo*100)/100///rounding off decimals\n",
"disp(Zo,'the Zo of a transmission line is given in ohm  as follows:')//ohm"
   ]
   }
,
{
		   "cell_type": "markdown",
		   "metadata": {},
		   "source": [
			"## Example 5.3: wavelength_in_coaxial_line.sce"
		   ]
		  },
  {
"cell_type": "code",
	   "execution_count": null,
	   "metadata": {
	    "collapsed": true
	   },
	   "outputs": [],
"source": [
"//wavelength in coaxial line\n",
"//given\n",
"clc\n",
"V0=3D+8//m/s\n",
"f=8D+9//hertz\n",
"epsilon_r=2.25\n",
"lem=V0/((sqrt(epsilon_r))*f)//meter\n",
"disp(lem,'the wave length for the operating frequency  of 8GHz in meter:')\n",
"//error in the form of miscalculation"
   ]
   }
,
{
		   "cell_type": "markdown",
		   "metadata": {},
		   "source": [
			"## Example 5.4: frequency_of_air_dielectric_and_highest_frequency.sce"
		   ]
		  },
  {
"cell_type": "code",
	   "execution_count": null,
	   "metadata": {
	    "collapsed": true
	   },
	   "outputs": [],
"source": [
"//frequency of air dielectric and highest frequency\n",
"//given\n",
"clc\n",
"n=1//lowest mode\n",
"d=2.6//mm\n",
"D=0.8//mm\n",
"V0=3d+11//mm/s//ERROR\n",
"lem_c=(%pi/(2*n))*(d+D)\n",
"fc=V0/lem_c//hertz//ERROR\n",
"disp(fc,'the frequency is as follows:')//Hz\n",
"//ERROR in the calculation  in the book as value of V0=3d+10"
   ]
   }
,
{
		   "cell_type": "markdown",
		   "metadata": {},
		   "source": [
			"## Example 5.5: Zo_of_the_coaxial_cable.sce"
		   ]
		  },
  {
"cell_type": "code",
	   "execution_count": null,
	   "metadata": {
	    "collapsed": true
	   },
	   "outputs": [],
"source": [
"//Zo of the coaxial cable\n",
"//given\n",
"clc\n",
"epsilon_r=2.25\n",
"Dbyd=2.25\n",
"Zo=(138/sqrt(epsilon_r))*log10(Dbyd)//ohm\n",
"Zo=round(Zo*1000)/1000///rounding off decimals\n",
"disp(Zo,'the Zo for the given coaxial cable is :')//ohm"
   ]
   }
,
{
		   "cell_type": "markdown",
		   "metadata": {},
		   "source": [
			"## Example 5.6: output_power_of_cable.sce"
		   ]
		  },
  {
"cell_type": "code",
	   "execution_count": null,
	   "metadata": {
	    "collapsed": true
	   },
	   "outputs": [],
"source": [
"//output power of cable\n",
"//given\n",
"clc\n",
"alpha=0.28//db/m//attenuation\n",
"alpha_50m=0.28*50//db//attenutaion of 50 m cable\n",
"pi=0.4//watt//input power//ERROR\n",
"po=pi/(10^((alpha_50m)/10))//watt//output power\n",
"disp(po*1000,'the output power of 50m in mW ')//mW\n",
"//ERROR in calculation of the book as pi=0.04  "
   ]
   }
,
{
		   "cell_type": "markdown",
		   "metadata": {},
		   "source": [
			"## Example 5.7: percentage_of_reflected_power.sce"
		   ]
		  },
  {
"cell_type": "code",
	   "execution_count": null,
	   "metadata": {
	    "collapsed": true
	   },
	   "outputs": [],
"source": [
"//percentage of reflected power\n",
"//given\n",
"Vi=20//volts//incident voltage\n",
"Vr=12.5//volts//reflected voltage\n",
"row=Vr/Vi//reflected voltage coefficent\n",
"row2=row^2//reflected_power/incident_power\n",
"pi=1//watt\n",
"pr=0.391*1\n",
"%pr=pr*100//percentage power\n",
"disp(%pr,'the percentage of reflected power is:')"
   ]
   }
,
{
		   "cell_type": "markdown",
		   "metadata": {},
		   "source": [
			"## Example 5.8: voltage_standing_wave_ratio.sce"
		   ]
		  },
  {
"cell_type": "code",
	   "execution_count": null,
	   "metadata": {
	    "collapsed": true
	   },
	   "outputs": [],
"source": [
"//voltage standing wave ratio\n",
"//given\n",
"clc\n",
"Vmax=5//volts\n",
"Vmin=3//volts\n",
"VSWR=Vmax/Vmin//voltage standing wave ratio\n",
"VSWR_S=20*log10(VSWR)//VSWR IN db\n",
"VSWR_S=round(VSWR_S*100)/100///rounding off decimals\n",
"disp(VSWR_S,'THE voltage standing wave ratio in db:')//decibles"
   ]
   }
,
{
		   "cell_type": "markdown",
		   "metadata": {},
		   "source": [
			"## Example 5.9: VSWR_FOR_LOAD_impedence.sce"
		   ]
		  },
  {
"cell_type": "code",
	   "execution_count": null,
	   "metadata": {
	    "collapsed": true
	   },
	   "outputs": [],
"source": [
"//VSWR FOR LOAD impedence\n",
"//given\n",
"clc\n",
"Zo=100\n",
"Zl1=50\n",
"Zl2=125\n",
"VSWR=Zo/Zl1//for Zo>Zl\n",
"VSWR_1=Zl2/Zo//for Zo<Zl\n",
"disp(VSWR_1,VSWR,'THE voltage standing wave ratio for each case:')"
   ]
   }
],
"metadata": {
		  "kernelspec": {
		   "display_name": "Scilab",
		   "language": "scilab",
		   "name": "scilab"
		  },
		  "language_info": {
		   "file_extension": ".sce",
		   "help_links": [
			{
			 "text": "MetaKernel Magics",
			 "url": "https://github.com/calysto/metakernel/blob/master/metakernel/magics/README.md"
			}
		   ],
		   "mimetype": "text/x-octave",
		   "name": "scilab",
		   "version": "0.7.1"
		  }
		 },
		 "nbformat": 4,
		 "nbformat_minor": 0
}
