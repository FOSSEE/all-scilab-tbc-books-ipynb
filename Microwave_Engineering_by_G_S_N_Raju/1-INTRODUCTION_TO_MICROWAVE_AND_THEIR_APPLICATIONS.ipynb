{
"cells": [
 {
		   "cell_type": "markdown",
	   "metadata": {},
	   "source": [
       "# Chapter 1: INTRODUCTION TO MICROWAVE AND THEIR APPLICATIONS"
	   ]
	},
{
		   "cell_type": "markdown",
		   "metadata": {},
		   "source": [
			"## Example 1.10: direction_of_power_flow_of_microwave.sce"
		   ]
		  },
  {
"cell_type": "code",
	   "execution_count": null,
	   "metadata": {
	    "collapsed": true
	   },
	   "outputs": [],
"source": [
"//FIND THE DIRECTION OF POWER FLOW OF MICROWAVE\n",
"//given\n",
"clc\n",
"function w=cross_prod(E,F)//function to determine the cross product of two vectors\n",
"D=[E(:),F(:)]\n",
"w(1)=det([[1;0;0],D])\n",
"w(2)=det([[0;1;0],D])\n",
"w(3)=det([[0;0;1],D])\n",
"endfunction\n",
"E=[0 1 0]\n",
"F=[1 0 0]\n",
"q=cross_prod(E,F)\n",
"disp(q','the cross product of the given fields')//towards az\n",
"//ERROR  in book as cross product of two perpendicular vector gives the third"
   ]
   }
,
{
		   "cell_type": "markdown",
		   "metadata": {},
		   "source": [
			"## Example 1.11: pointing_vector_and_direction_of_power_flow_of_microwave.sce"
		   ]
		  },
  {
"cell_type": "code",
	   "execution_count": null,
	   "metadata": {
	    "collapsed": true
	   },
	   "outputs": [],
"source": [
"//find pointing vector and direction of power flow of microwave\n",
"//given\n",
"clc\n",
"function w=cross_prod(E,H)//function to determine the cross product of two vector\n",
"D=[E(:),H(:)]\n",
"w(1)=det([[1;0;0],D])\n",
"w(2)=det([[0;1;0],D])\n",
"w(3)=det([[0;0;1],D])\n",
"endfunction\n",
"E=1*[1 0 0]//electric field towards ax\n",
"H=2*[0 1 0]//magnetic field towards ay\n",
"q=cross_prod(E,H)\n",
"disp(q','the display is along az axis')//along az\n",
"//ERROR in the book as cross product of two perpendicular vector is  the third vector"
   ]
   }
,
{
		   "cell_type": "markdown",
		   "metadata": {},
		   "source": [
			"## Example 1.12: frequency_of_the_wave.sce"
		   ]
		  },
  {
"cell_type": "code",
	   "execution_count": null,
	   "metadata": {
	    "collapsed": true
	   },
	   "outputs": [],
"source": [
"//find the frequency of the wave\n",
"//given\n",
"clc\n",
"t1=100d-12\n",
"t2=500d-12\n",
"t3=1d-9\n",
"f1=t1^-1\n",
"f2=t2^-1\n",
"f3=t3^-1\n",
"disp(f3*1D-9,f2*1D-9,f1*1D-9,'the frequencies respectively')//in GHz"
   ]
   }
,
{
		   "cell_type": "markdown",
		   "metadata": {},
		   "source": [
			"## Example 1.13: velocity_of_propogation_of_microwave.sce"
		   ]
		  },
  {
"cell_type": "code",
	   "execution_count": null,
	   "metadata": {
	    "collapsed": true
	   },
	   "outputs": [],
"source": [
"//determine the velocity of propogation of microwave\n",
"//given\n",
"clc\n",
"ur=1//permeability in H/m\n",
"epsilonr=4//permittivity in F/m\n",
"k=3d+8//the speed of light in vaccum \n",
"v=k/((ur*epsilonr)^1/2)//velocity of microwave\n",
"disp(v,'the  velocity of propogation of microwave in m/s:')//velocity in m/s"
   ]
   }
,
{
		   "cell_type": "markdown",
		   "metadata": {},
		   "source": [
			"## Example 1.14: wavelength_of_microwave_frequency.sce"
		   ]
		  },
  {
"cell_type": "code",
	   "execution_count": null,
	   "metadata": {
	    "collapsed": true
	   },
	   "outputs": [],
"source": [
"//find the wavelength of microwave frequency\n",
"//given\n",
"clc\n",
"v0=3d+8//velocity in m/s\n",
"function[lem]=wavelength(v0,fr)\n",
"lem=v0/fr//calculating wavelength\n",
"endfunction\n",
"fr=1d+6//frequency in MHz\n",
"[lem1]=wavelength(v0,fr)\n",
"fr=1d+7//frequency in MHz\n",
"[lem2]=wavelength(v0,fr)\n",
"fr=1d+8//frequency in MHz\n",
"[lem3]=wavelength(v0,fr)\n",
"fr=1d+9//frequency in MHz\n",
"[lem4]=wavelength(v0,fr)\n",
"fr=1d+10//frequency in MHz\n",
"[lem5]=wavelength(v0,fr)\n",
"disp(lem5,lem4,lem3,lem2,lem1,'the wavelength  for given values of frequency in meter')//wavelength in meter"
   ]
   }
,
{
		   "cell_type": "markdown",
		   "metadata": {},
		   "source": [
			"## Example 1.15: phase_shift_of_the_wave.sce"
		   ]
		  },
  {
"cell_type": "code",
	   "execution_count": null,
	   "metadata": {
	    "collapsed": true
	   },
	   "outputs": [],
"source": [
"//find the phase shift of the wave\n",
"//given\n",
"f=1d+9//Hz\n",
"v0=3d+8//m/s\n",
"lem=v0/f//calculating wavelength\n",
"b=2*%pi/lem//calculating phase shift\n",
"b=round(b*100)/100///rounding off decimals\n",
"disp(b,lem,'the wavelength and phase shift respectively')//in rad/m and m"
   ]
   }
,
{
		   "cell_type": "markdown",
		   "metadata": {},
		   "source": [
			"## Example 1.1: electric_field_its_magnitude_and_direction.sce"
		   ]
		  },
  {
"cell_type": "code",
	   "execution_count": null,
	   "metadata": {
	    "collapsed": true
	   },
	   "outputs": [],
"source": [
"//calculate the electric field,its magnitude and direction.\n",
"//given\n",
"F=[2 1 1]//force vector in newton\n",
"Q=1//charge in columbs\n",
"E=F/Q//the electric field\n",
"//the magnitude of this field is given by:\n",
"e=norm(E)\n",
"//THE direction of the electric field is given by:\n",
"aE=E/e\n",
"e=round(e*1000)/1000//rounding off decimals\n",
"aE=round(aE*1000)/1000//rounding off decimals\n",
"disp(E,'the electric field is given by:' )//N/C\n",
"disp(e,'the magnitude of the electric field E:')//V/m\n",
"disp(aE,'THE direction of the electric field in x,y,z axis respectively :')\n",
"\n",
"\n",
""
   ]
   }
,
{
		   "cell_type": "markdown",
		   "metadata": {},
		   "source": [
			"## Example 1.2: electric_field_at_a_point.sce"
		   ]
		  },
  {
"cell_type": "code",
	   "execution_count": null,
	   "metadata": {
	    "collapsed": true
	   },
	   "outputs": [],
"source": [
"//determine the electric field at a point;\n",
"//given\n",
"clc\n",
"Qf=2d-6\n",
"Qt=1d-6\n",
"rf=[1 0 0]//this can also be written as ax\n",
"rt=[0 1 0]//this can also be written as ay\n",
"rtf=rt-rf\n",
"Rtf=norm(rtf)//this is the magnitude of the vector\n",
"atf=rtf/Rtf//the unit vector across the two points p1 and p2\n",
"//the electric field at the point p2 is given by:\n",
"epsilon0=8.85D-12//value may differ, as i have not used the estimated value\n",
"E=((Qf*Qt)/(4*%pi*epsilon0*(Rtf)^2))*atf//electric field calculation\n",
"E=round(E*1d+6)/1d+6///rounding off decimals\n",
"disp(E*1d+3,'the electric field of p2 is:')//mN/C"
   ]
   }
,
{
		   "cell_type": "markdown",
		   "metadata": {},
		   "source": [
			"## Example 1.3: TOTAL_FIELD_AT_A_POINT_P_DUE_TO_ALL_THE_THREE_CHARGES.sce"
		   ]
		  },
  {
"cell_type": "code",
	   "execution_count": null,
	   "metadata": {
	    "collapsed": true
	   },
	   "outputs": [],
"source": [
"//DETERMINE TOTAL FIELD AT A POINT ,P DUE TO ALL THE THREE CHARGES.\n",
"//given\n",
"clc\n",
"E1=[1 2 -1]//at p due to 1uc\n",
"E2=[0 1 3]//due to 2uc\n",
"E3=[2 -1 0]//due to 3uc\n",
"//total field at p due to all these three charges is given by:\n",
"E=E1+E2+E3//resultant of all the three charges\n",
"disp(E,'the fiel at point p due to all the charges')//N/C"
   ]
   }
,
{
		   "cell_type": "markdown",
		   "metadata": {},
		   "source": [
			"## Example 1.4: charge_Q_at_the_point_2_0_0.sce"
		   ]
		  },
  {
"cell_type": "code",
	   "execution_count": null,
	   "metadata": {
	    "collapsed": true
	   },
	   "outputs": [],
"source": [
"//determine the charge Q at the point (2,0,0).\n",
"//given\n",
"clc\n",
"Q1=-10D-9//coulombs\n",
"epsilon0=8.85d-12//permitivity of free space\n",
"r1=[3 1 1]-[0 0 0]\n",
"r2=[3 1 1]-[2 0 0]\n",
"R1=norm(r1)//magnitude of the given vector r1\n",
"R2=norm(r2)//magnitude of vector r2\n",
"ar1=r1/R1//unit vector\n",
"ar2=r2/R2//unit vector\n",
"deff('[Qt]=electricfield(E)','Qt=((E-((Q1/(4*%pi*epsilon0*R1^2))*ar1(1,1)))/ar2(1,1))*(4*%pi*epsilon0*R2^2)')\n",
"Qt=electricfield(0)//in coulombs\n",
"Qt=round(Qt*1d+11)/1d+11///rounding off decimals\n",
"disp(Qt/1d-9,'the electrical field at the point [2,0,0] in nC')//nC"
   ]
   }
,
{
		   "cell_type": "markdown",
		   "metadata": {},
		   "source": [
			"## Example 1.5: electric_field_at_Q1.sce"
		   ]
		  },
  {
"cell_type": "code",
	   "execution_count": null,
	   "metadata": {
	    "collapsed": true
	   },
	   "outputs": [],
"source": [
"//the electric field at Q1 needed to be determined.\n",
"//given\n",
"clc\n",
"Q1=1d-9//at (-1,1,-3)\n",
"Q2=5d-9//at (3,1,0)\n",
"epsilon0=8.85D-12//the values may differ as i have used the exact value of permitivity\n",
"R=[-1 1 -3]-[3 1 0]//\n",
"r=norm(R)//magnitude of the vector r\n",
"ar=R/r//unit vector\n",
"E=(Q1/(4*%pi*epsilon0*(r^2)))*ar\n",
"E=round(E*10000)/10000///rounding off decimals\n",
"disp(E,'THE electric field at Q1 is given as:')//both vectors are in ax and az directions respectively\n",
"//ERROR in the book"
   ]
   }
,
{
		   "cell_type": "markdown",
		   "metadata": {},
		   "source": [
			"## Example 1.6: electric_field_at_location_of_3_coulombs.sce"
		   ]
		  },
  {
"cell_type": "code",
	   "execution_count": null,
	   "metadata": {
	    "collapsed": true
	   },
	   "outputs": [],
"source": [
"//determine the electric field at location of 3 coulombs\n",
"//given\n",
"clc\n",
"fr=12d-3// N\n",
"Qt=3//C\n",
"E=fr/Qt//electric field\n",
"disp(E*1000,'the electricfield at 3c')//mN/C"
   ]
   }
,
{
		   "cell_type": "markdown",
		   "metadata": {},
		   "source": [
			"## Example 1.7: magnetic_field_at_distance_of_2m_in_free_space.sce"
		   ]
		  },
  {
"cell_type": "code",
	   "execution_count": null,
	   "metadata": {
	    "collapsed": true
	   },
	   "outputs": [],
"source": [
"//find the magnetic field at distance of 2m in free space\n",
"//given\n",
"clc\n",
"fr=3d-3//IN Newtons\n",
"mt=2//meters\n",
"H=fr/mt//magnetic field\n",
"disp(H*1d+3,'THE magnetic field:')//mN/Wb"
   ]
   }
],
"metadata": {
		  "kernelspec": {
		   "display_name": "Scilab",
		   "language": "scilab",
		   "name": "scilab"
		  },
		  "language_info": {
		   "file_extension": ".sce",
		   "help_links": [
			{
			 "text": "MetaKernel Magics",
			 "url": "https://github.com/calysto/metakernel/blob/master/metakernel/magics/README.md"
			}
		   ],
		   "mimetype": "text/x-octave",
		   "name": "scilab",
		   "version": "0.7.1"
		  }
		 },
		 "nbformat": 4,
		 "nbformat_minor": 0
}
