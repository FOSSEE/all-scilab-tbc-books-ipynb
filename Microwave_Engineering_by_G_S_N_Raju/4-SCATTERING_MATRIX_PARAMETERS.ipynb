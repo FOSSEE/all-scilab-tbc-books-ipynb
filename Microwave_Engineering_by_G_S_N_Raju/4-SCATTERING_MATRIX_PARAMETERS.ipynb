{
"cells": [
 {
		   "cell_type": "markdown",
	   "metadata": {},
	   "source": [
       "# Chapter 4: SCATTERING MATRIX PARAMETERS"
	   ]
	},
{
		   "cell_type": "markdown",
		   "metadata": {},
		   "source": [
			"## Example 4.3: voltage_standing_wave_ratio.sce"
		   ]
		  },
  {
"cell_type": "code",
	   "execution_count": null,
	   "metadata": {
	    "collapsed": true
	   },
	   "outputs": [],
"source": [
"//voltage standing wave ratio\n",
"//given\n",
"clc\n",
"LEMg=4.82//cm\n",
"d1_d2=0.7//cm\n",
"VSWR=LEMg/(%pi*d1_d2)//VSWR\n",
"VSWR=round(VSWR*1000)/1000///rounding off decimals\n",
"disp(VSWR,'the voltage standing wave ratio:')"
   ]
   }
,
{
		   "cell_type": "markdown",
		   "metadata": {},
		   "source": [
			"## Example 4.4: scattering_matrix_of_inductor.sce"
		   ]
		  },
  {
"cell_type": "code",
	   "execution_count": null,
	   "metadata": {
	    "collapsed": true
	   },
	   "outputs": [],
"source": [
"//scattering matrix of inductor\n",
"//given\n",
"clc\n",
"IL=0.3//db//insertion loss\n",
"I=40//db//isolation\n",
"s21=(10^(-0.3/20))//-20log|s21|\n",
"s12=(10^(-40/20))//-20log|s12|\n",
"s11=0//FOR SCATTER MATRIX\n",
"s22=0//FOR SCATTER MATRIX\n",
"S=[s11,s12;s21,s22]\n",
"S=round(S*1000)/1000///rounding off decimals\n",
"disp(S,'THE  matrix is  S-matrix:')//all points are well matched"
   ]
   }
,
{
		   "cell_type": "markdown",
		   "metadata": {},
		   "source": [
			"## Example 4.5: wave_guide_length.sce"
		   ]
		  },
  {
"cell_type": "code",
	   "execution_count": null,
	   "metadata": {
	    "collapsed": true
	   },
	   "outputs": [],
"source": [
"//wave guide length\n",
"//given\n",
"clc\n",
"d1_d2=0.4//distance measured between twice minima\n",
"VSWR=2.5//voltage standing wave ratio\n",
"LEMg=VSWR*%pi*d1_d2//wave guide length\n",
"LEMg=round(LEMg*100)/100///rounding off decimals\n",
"disp(LEMg,'the wave guide length for given VSWR IN cm:')//cm"
   ]
   }
],
"metadata": {
		  "kernelspec": {
		   "display_name": "Scilab",
		   "language": "scilab",
		   "name": "scilab"
		  },
		  "language_info": {
		   "file_extension": ".sce",
		   "help_links": [
			{
			 "text": "MetaKernel Magics",
			 "url": "https://github.com/calysto/metakernel/blob/master/metakernel/magics/README.md"
			}
		   ],
		   "mimetype": "text/x-octave",
		   "name": "scilab",
		   "version": "0.7.1"
		  }
		 },
		 "nbformat": 4,
		 "nbformat_minor": 0
}
