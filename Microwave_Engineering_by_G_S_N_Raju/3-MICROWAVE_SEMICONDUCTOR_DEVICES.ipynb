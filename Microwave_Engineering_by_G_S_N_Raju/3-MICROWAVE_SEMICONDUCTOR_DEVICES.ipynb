{
"cells": [
 {
		   "cell_type": "markdown",
	   "metadata": {},
	   "source": [
       "# Chapter 3: MICROWAVE SEMICONDUCTOR DEVICES"
	   ]
	},
{
		   "cell_type": "markdown",
		   "metadata": {},
		   "source": [
			"## Example 3.1: frequency_of_IMPATT_diode.sce"
		   ]
		  },
  {
"cell_type": "code",
	   "execution_count": null,
	   "metadata": {
	    "collapsed": true
	   },
	   "outputs": [],
"source": [
"//frequency of IMPATT diode\n",
"//given\n",
"clc\n",
"Vd=2.2d+5//m/s\n",
"l=5d-6//meter\n",
"f=Vd/(2*l)//hertz\n",
"disp(f*1d-9,'THE required frequiency in GHz')//Ghz\n",
""
   ]
   }
,
{
		   "cell_type": "markdown",
		   "metadata": {},
		   "source": [
			"## Example 3.2: frequency_of_IMPATT_diode.sce"
		   ]
		  },
  {
"cell_type": "code",
	   "execution_count": null,
	   "metadata": {
	    "collapsed": true
	   },
	   "outputs": [],
"source": [
"//frequency of IMPATT diode\n",
"//given\n",
"clc\n",
"Vd=3d+5//m/s\n",
"l=7d-6//meter\n",
"f=Vd/(2*l)//hertz\n",
"f=round(f*1d-8)/1d-8///rounding off decimals\n",
"disp(f*1d-9,'the required frequency of IMPATT diode in GHz')//GHz"
   ]
   }
,
{
		   "cell_type": "markdown",
		   "metadata": {},
		   "source": [
			"## Example 3.3: avalanche_zone_velocity_of_TRAPATT_diode.sce"
		   ]
		  },
  {
"cell_type": "code",
	   "execution_count": null,
	   "metadata": {
	    "collapsed": true
	   },
	   "outputs": [],
"source": [
"//avalanche zone velocity of TRAPATT diode\n",
"//given\n",
"clc\n",
"Na=1.8d+15//per cm3//doping concentration\n",
"j=25d+3//A/cm2//current density\n",
"q=1.6d-19//couloms\n",
"Vaz=j/(q*Na)//cms//avalanche zone velocity\n",
"Vaz=round(Vaz/1d+5)*1d+5///rounding off decimals\n",
"disp(Vaz/100,'the avalanche zone velocity of TRAPATT in m/s')//m/s"
   ]
   }
,
{
		   "cell_type": "markdown",
		   "metadata": {},
		   "source": [
			"## Example 3.4: frequency_of_gunn_diode_oscillator.sce"
		   ]
		  },
  {
"cell_type": "code",
	   "execution_count": null,
	   "metadata": {
	    "collapsed": true
	   },
	   "outputs": [],
"source": [
"//frequency of gunn diode oscillator\n",
"//given\n",
"clc\n",
"Vd=2d+8//m/s\n",
"l=12d-6//meter\n",
"f=Vd/l//hertz\n",
"disp(f*1d-9,'the required frequency in GHz')\n",
"//ERROR in the book\n",
""
   ]
   }
,
{
		   "cell_type": "markdown",
		   "metadata": {},
		   "source": [
			"## Example 3.5: minimum_voltage_to_operate.sce"
		   ]
		  },
  {
"cell_type": "code",
	   "execution_count": null,
	   "metadata": {
	    "collapsed": true
	   },
	   "outputs": [],
"source": [
"//minimum voltage to operate\n",
"//given\n",
"clc\n",
"Vs=3.3d+3//VOLTS//the minimum voltage gradient required to start the diode\n",
"l=2.5d-6//meter//the drift length\n",
"Vmin=Vs*l//the minimum voltage required to operate\n",
"disp(Vmin*1000,'the minimum voltage required to operate in m/V')//mV//millivolts"
   ]
   }
],
"metadata": {
		  "kernelspec": {
		   "display_name": "Scilab",
		   "language": "scilab",
		   "name": "scilab"
		  },
		  "language_info": {
		   "file_extension": ".sce",
		   "help_links": [
			{
			 "text": "MetaKernel Magics",
			 "url": "https://github.com/calysto/metakernel/blob/master/metakernel/magics/README.md"
			}
		   ],
		   "mimetype": "text/x-octave",
		   "name": "scilab",
		   "version": "0.7.1"
		  }
		 },
		 "nbformat": 4,
		 "nbformat_minor": 0
}
