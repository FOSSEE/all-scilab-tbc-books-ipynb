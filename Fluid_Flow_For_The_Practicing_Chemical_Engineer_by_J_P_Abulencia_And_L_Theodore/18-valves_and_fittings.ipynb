{
"cells": [
 {
		   "cell_type": "markdown",
	   "metadata": {},
	   "source": [
       "# Chapter 18: valves and fittings"
	   ]
	},
{
		   "cell_type": "markdown",
		   "metadata": {},
		   "source": [
			"## Example 18.1: sudden_expansion.sce"
		   ]
		  },
  {
"cell_type": "code",
	   "execution_count": null,
	   "metadata": {
	    "collapsed": true
	   },
	   "outputs": [],
"source": [
"clc;\n",
"//Example 18.1\n",
"//page no 225\n",
"printf('\n Example 18.1 page no 225\n\n');\n",
"//there is a sudden expansion in which the diameter D1 doubls to D2,D2=2D1\n",
"//if D1=1 then D2=2\n",
"D1=1//diameter D1\n",
"D2=2//diameter D2\n",
"K_se=[1-(D1/D2)^2]^2// coefficent of sudden expansion \n",
"printf('\n K_se coeff. of sudden expansion=%f ',K_se);\n",
" "
   ]
   }
,
{
		   "cell_type": "markdown",
		   "metadata": {},
		   "source": [
			"## Example 18.2: equivalent_length.sce"
		   ]
		  },
  {
"cell_type": "code",
	   "execution_count": null,
	   "metadata": {
	    "collapsed": true
	   },
	   "outputs": [],
"source": [
"clc;\n",
"//Example 18.2\n",
"//page no 227\n",
"printf('\n Example 18.2 page no 227\n\n');\n",
"//cal. equivalent length of pipe that would cause the same head los  for gate and globe valve located in piping\n",
"D=3//diameter  of pipe,in\n",
"L_gate=7//L/D ratio for fully open gate valve\n",
"L_globe=300//L/D ratio for globe valve \n",
"L_eq_gate=L_gate*D//equivalent length for gate valve\n",
"printf('\n L_eq_gate=%f in',L_eq_gate);\n",
"L_eq_globe=L_globe*D//equivalent length for globe valve\n",
"printf('\n L_eq_globe=%f in ',L_eq_globe);"
   ]
   }
,
{
		   "cell_type": "markdown",
		   "metadata": {},
		   "source": [
			"## Example 18.3: pressure_drop_in_a_pipe.sce"
		   ]
		  },
  {
"cell_type": "code",
	   "execution_count": null,
	   "metadata": {
	    "collapsed": true
	   },
	   "outputs": [],
"source": [
"clc;\n",
"//Example 18.3\n",
"//page no 227\n",
"printf('\n Example 18.3 page no 227\n\n');\n",
"// water is flowing at room temperature\n",
"rho=62.4//density  of water,lb/ft^3\n",
"meu=6.72e-4//viscosity of water,lb/ft.s\n",
"D=0.03125//diameter of pipe\n",
"v=10//velocity \n",
"R_e=D*v*rho/meu//reynolds no.\n",
"printf('\n reynolds no R_e=%f ',R_e);\n",
"f=0.0015+0.125/R_e^.30//equation for friction factor\n",
"printf('\n friction factor f=%f ',f);\n",
"L=30//length of pipe\n",
"gc=32.2//gravitational constant\n",
"P_drop=2*f*rho*v^2*L/(D*gc)//pressure drop \n",
"printf('\n pressure drop P_drop=%f lbf/ft^2 ',P_drop);"
   ]
   }
,
{
		   "cell_type": "markdown",
		   "metadata": {},
		   "source": [
			"## Example 18.4: frictional_fitting.sce"
		   ]
		  },
  {
"cell_type": "code",
	   "execution_count": null,
	   "metadata": {
	    "collapsed": true
	   },
	   "outputs": [],
"source": [
"clc;\n",
"//Example 18.4\n",
"//page no 229\n",
"printf('\n Example 18.4 pageno 229\n\n');\n",
"//refer to example 18.3\n",
"//applying eq 18.4 for friction loss by globe valve\n",
"K_f=22//coeff of expansion loss\n",
"v=10//velocity\n",
"gc=32.2//ravitational constant\n",
"h_f=K_f*v^2/(2*gc)//friction loss due to globe valve\n",
"printf('\n friction loss due to globe valve h_f=%f ft.lbf/lb',h_f);"
   ]
   }
,
{
		   "cell_type": "markdown",
		   "metadata": {},
		   "source": [
			"## Example 18.5: total_pressure_drop.sce"
		   ]
		  },
  {
"cell_type": "code",
	   "execution_count": null,
	   "metadata": {
	    "collapsed": true
	   },
	   "outputs": [],
"source": [
"clc;\n",
"//Example 18.5\n",
"//page no 230\n",
"printf(' Example 18.5 page no. 230\n\n');\n",
"//refer to example no. 18.3 and 18.4\n",
"P_drop=34.16//pressure drop ,ft\n",
"h_f=43//friction loss due to fitting\n",
"rho=62.4//density,lb/ft^3\n",
"P_d_t=(P_drop+h_f)*rho//total pressure drop\n",
"printf('\n total pressure drop P_d_t=%f lbf/ft^2',P_d_t);"
   ]
   }
,
{
		   "cell_type": "markdown",
		   "metadata": {},
		   "source": [
			"## Example 18.6: volumetric_flow_rate.sce"
		   ]
		  },
  {
"cell_type": "code",
	   "execution_count": null,
	   "metadata": {
	    "collapsed": true
	   },
	   "outputs": [],
"source": [
"clc;\n",
"//Example 18.6\n",
"//page no 230\n",
"printf('Example 18.6 page no 230\n\n');\n",
"k=0.00085//relative roughness of pipe ,ft\n",
"D=0.833//diameter  of pipe,ft\n",
"f=0.005//we assume fanning friction factor ,0.004-0.005,select upper limit\n",
"K=0.45//entrance loss coefficient is estimated from eq. 18.10 and 18.11\n",
"L=5000//length of pipe,ft\n",
"h_f=4*f*(L/D)//the friction head loss in terms of the line velocity\n",
"printf('\n h_f=%f ',h_f);//printing mistake in book 12 instead of 120\n",
"//applying bernoulli equation between points 1 and 2 to calculate v2\n",
"h_s=0//no shaft head\n",
"v1=0//large tank\n",
"//because both locations open to the atmosphere,P1=P2=0 psig\n",
"h=260//height from point 1 to 2\n",
"V2_h=sqrt(h/(1+h_f+K))//total velocity head at point 2\n",
"g=32.174\n",
"V2=V2_h*2*g\n",
"V2=11.75\n",
"neu=1.0825e-5//viscosity\n",
"R_e=D*(V2)/neu//reynolds number\n",
"printf('\n reynolds number R_e=%f ',R_e);//printing mistake in book due to value of h_f\n",
"q=V2*(%pi*(D^2)/4)//volumatric flow rate\n",
"printf('\n vol. flow rate q=%f ft^3/s',q);//printing mistake in book due to value of h_f\n",
""
   ]
   }
,
{
		   "cell_type": "markdown",
		   "metadata": {},
		   "source": [
			"## Example 18.7: friction_loss.sce"
		   ]
		  },
  {
"cell_type": "code",
	   "execution_count": null,
	   "metadata": {
	    "collapsed": true
	   },
	   "outputs": [],
"source": [
"clc;\n",
"//Example 18.7\n",
"//page no 232\n",
"printf('Example 18.7 page no 232\n\n')\n",
"//two large water  reservoirs are connected by a pipe\n",
"D=0.0779//diameter of pipe (m), by appendix A.5 for 3 inch schdule 40 pipe\n",
"k=0.046*1e-3//roughness of pipe\n",
"K_r=k/D//relative roughness\n",
"printf('\n relative roughness K_r=%f ',K_r);\n",
"q=0.0126//flow rate of water m^3/s,\n",
"S=(%pi/4)*D^2//cross sectional area of pipe\n",
"v=q/S//flow velocity of water\n",
"printf('\n flow velocity v=%f m/s',v);\n",
"neu=1e-6//viscosity of water\n",
"R_e=v*D/neu//reynolds no\n",
"printf('\n reynolds no R_e=%f ',R_e);\n",
"//from R_e and relative roughness K_r ,obtain friction factor \n",
"f=0.00345\n",
"L=2000*.3048//length of pipe,m\n",
"h_f=4*f*(L/D)*(v^2/2)\n",
"printf('\n head loss h_f=%f J/kg',h_f);\n",
"//apply bernoulli equation between station 1 and 2. Note that P1=P2=1 atm,v1=v2,z1=z2\n",
"//P_drop/rho + V^2/2g + z =  h_s - h_f\n",
"//whera h_s is the major friction loss\n",
"//above equation reduces to h_s=h_f\n",
"h_s=h_f//h_s is major friction loss\n",
"printf('\n major friction losses h_s=%f J/kg',h_s); "
   ]
   }
,
{
		   "cell_type": "markdown",
		   "metadata": {},
		   "source": [
			"## Example 18.8: pressure_rise_in_pump.sce"
		   ]
		  },
  {
"cell_type": "code",
	   "execution_count": null,
	   "metadata": {
	    "collapsed": true
	   },
	   "outputs": [],
"source": [
"clc;\n",
"//Example 18.8\n",
"//page no 233\n",
"printf('\n Example 18.8 page no 233\n\n');\n",
"//refer to example no 18.7\n",
"rho=1000//density\n",
"g=9.807//gravitational acc.\n",
"h_f=38.39//head loss\n",
"P_rise=rho*g*h_f//pressure rise across the pump\n",
"P_rise=475000//in book by mistake this value instead original value \n",
"q=0.0126//flow rate from example 18.7\n",
"W_dot=q*P_rise//ideal pumping requirement(the fluid power)\n",
"printf('\n W_dot fluid power=%f kw',W_dot);//printing mistake in book in putting value of P_rise"
   ]
   }
],
"metadata": {
		  "kernelspec": {
		   "display_name": "Scilab",
		   "language": "scilab",
		   "name": "scilab"
		  },
		  "language_info": {
		   "file_extension": ".sce",
		   "help_links": [
			{
			 "text": "MetaKernel Magics",
			 "url": "https://github.com/calysto/metakernel/blob/master/metakernel/magics/README.md"
			}
		   ],
		   "mimetype": "text/x-octave",
		   "name": "scilab",
		   "version": "0.7.1"
		  }
		 },
		 "nbformat": 4,
		 "nbformat_minor": 0
}
