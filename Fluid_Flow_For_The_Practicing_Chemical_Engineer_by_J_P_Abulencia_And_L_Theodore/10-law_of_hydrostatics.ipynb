{
"cells": [
 {
		   "cell_type": "markdown",
	   "metadata": {},
	   "source": [
       "# Chapter 10: law of hydrostatics"
	   ]
	},
{
		   "cell_type": "markdown",
		   "metadata": {},
		   "source": [
			"## Example 10.1: EX10_1.sce"
		   ]
		  },
  {
"cell_type": "code",
	   "execution_count": null,
	   "metadata": {
	    "collapsed": true
	   },
	   "outputs": [],
"source": [
"clc;\n",
"//Example 10.1\n",
"//page no 98 \n",
"printf('Example 10.1  pagr no. 98\n\n');\n",
"// in a column of liquid\n",
"h=2.493//height of the liquid (mercury) column\n",
"rho=848.7//density of mercury\n",
"P_at=2116//atmospheric pressure \n",
"printf('\n height of mercury h=%f ft\n density of mercury rho=%f lb/ft^3\n atmospheric pressure P_at=%f psf ',h,rho,P_at);\n",
"//refer to equation 10.5\n",
"g=9.8\n",
"g_c=9.8\n",
"P=rho*(g/g_c)*h//gauge pressure \n",
"P_ab=round(P+P_at)//absolute pressure\n",
"printf('gauge pressure P=%f psf\n absolute pressure P_ab=%f psf',P,P_ab);"
   ]
   }
,
{
		   "cell_type": "markdown",
		   "metadata": {},
		   "source": [
			"## Example 10.2: Determine_the_depth_in_the_atlantic_ocean_at_given_pressure.sce"
		   ]
		  },
  {
"cell_type": "code",
	   "execution_count": null,
	   "metadata": {
	    "collapsed": true
	   },
	   "outputs": [],
"source": [
"clc;\n",
"//Example 10.2\n",
"//page no 99\n",
"printf('Example 10.2 page no 99\n\n');\n",
"//determining the depth of  atlantic ocean \n",
"rho=1000//density of water\n",
"P1=10//pressure at which depth is to be determine\n",
"P2=1//pressure at the ocean surface z1\n",
"z1=0//ocean surface\n",
"g=9.807//gravitational constant\n",
"printf('\n density rho=%f kg/m^3\n pressure P1=%f atm\n pressure P2=%f atm\n height at ocean surface z1=%f m',rho,P1,P2,z1);\n",
"z2=z1-(P1-P2)*101325/(rho*g)//depth  at pressure P2\n",
"printf(' \n depth z2=%f m',z2);"
   ]
   }
,
{
		   "cell_type": "markdown",
		   "metadata": {},
		   "source": [
			"## Example 10.3: cylindrical_tank.sce"
		   ]
		  },
  {
"cell_type": "code",
	   "execution_count": null,
	   "metadata": {
	    "collapsed": true
	   },
	   "outputs": [],
"source": [
"clc;\n",
"//Example 10.3\n",
"//page no 99 fig 10.1\n",
"printf('Example 10.3 page no 99 fig 10.1\n\n\n');\n",
"//a cylindrical tank contain water and immiscible  oil ,tank isvopen to the atmosphere\n",
"rho=1000//density of water \n",
"SG=0.89//special gravity of oil\n",
"rho_oil=rho*SG//density of oil\n",
"printf('\ density of water rho=%f kg/m^3\n density of oil rho_oil=%f kg/m^3',rho,rho_oil);\n",
"//applying bernoulli equationbetween point 1 and 2 to calculate the gauge pressure at water oil interface\n",
"z1=0//depth at surface\n",
"P1=1//pressure at point 1\n",
"z2=-10.98//depth at point 2\n",
"printf('\n depth at point 1, z1=%f m\n pressure P1=%f atm\n depth at point 2,z2=%f m',z1,P1,z2);\n",
"g=9.807//gravitational constant\n",
"P2_gu=rho_oil*g*(z1-z2)//gauge pressure at point 2\n",
"printf('\n gauge pressure P2_gu=%f Pag',P2_gu);\n",
"//gauge preesure at bottom z3\n",
"z3=-13.72\n",
"P3=P2_gu+rho*g*(z2-z3)\n",
"printf('\n depth z3=%f m\n pressure at bottom P3=%f Pag',z3,P3);\n",
"d=6.1//diameter  of tank\n",
"s=%pi*d^2/4//surface area of tank \n",
"printf('\n diameter of tank d=%f m\n surface area of tank s=%f m^2',d,s);\n",
"P3_ab=P3+101325//absolute pressure\n",
"F=P3_ab*s//pressure force at the bottom of tank\n",
"printf('\n absolute pressure P3_ab=%f Pag\n pressure force at bottom F=%f N',P3_ab,F); \n",
"//the force on the side of the tank ,within water layer\n",
"F_s=(%pi*d)*integrate('-11910-9807*z','z',-13.72,-10.98);\n",
"printf('\n force on the side of the tank F_s=%f  N',F_s);\n",
""
   ]
   }
,
{
		   "cell_type": "markdown",
		   "metadata": {},
		   "source": [
			"## Example 10.4: buoyancy_force.sce"
		   ]
		  },
  {
"cell_type": "code",
	   "execution_count": null,
	   "metadata": {
	    "collapsed": true
	   },
	   "outputs": [],
"source": [
"clc;\n",
"//Example 10.4\n",
"//page no 102 \n",
"printf(' Example 10.4 page n0 102 \n\n');\n",
"W_a=200//weight of material in air\n",
"W_w=120//weight of material in water\n",
"gamma_w=62.4//specific weight of water\n",
"printf('\n weight of air W_a=%f lbf\n weight of water W_w=%f lbf\n sp.weight of water gamma_w=%f lbf/ft^3',W_a,W_w,gamma_w);\n",
"F_b=W_a-W_w//buoyant force\\n",
"printf('\nbuoyant force F_b=%f lbf',F_b);\n",
"V_dis=F_b/gamma_w//volume displaced\n",
"printf('\n volume displaced V_dis=%f ft^3',V_dis);\n",
"rho_b=W_a/V_dis//density of block\n",
"printf('\n density of block rho_b=%f lb/ft^3',rho_b);//printing mistake in book\n",
"//assumption of rho_b>rho_w is justified"
   ]
   }
,
{
		   "cell_type": "markdown",
		   "metadata": {},
		   "source": [
			"## Example 10.5: in_hydrometer_calculate_height_at_which_liquid_will_float.sce"
		   ]
		  },
  {
"cell_type": "code",
	   "execution_count": null,
	   "metadata": {
	    "collapsed": true
	   },
	   "outputs": [],
"source": [
"clc;\n",
"//Example 10.5\n",
"//page no 103\n",
"printf('\n Example 10.5 page no 103\n\n');\n",
"//a hydrometer is a liquid specific gravity indicator with the value being indicated by the level at which the surface of the liquid intersects the sten when floating in avliquid\n",
"F=0.13//the total hydrometer weight, N\n",
"SG=1.3//sp. gravity of liquid\n",
"D=.008//stem diameter of hydrometer,m\n",
"rho_w=1000//density of water ,kg/m^3\n",
"g=9.807\n",
"pi=22/7\n",
"printf('\n force F=%f N\n sp.gravity SG=%f \n stem diameter D=%f m\n density rho_w=%f kg/m^3\n g=ravitational acc. g=%f m/s^2',F,SG,D,rho_w,g);\n",
"h=(4*F/(pi*D^2*rho_w*g))*(1-1/SG)//height where it will float\n",
"printf('\n height h=%f m',h);"
   ]
   }
,
{
		   "cell_type": "markdown",
		   "metadata": {},
		   "source": [
			"## Example 10.6: calculate_the_gauge_pressure.sce"
		   ]
		  },
  {
"cell_type": "code",
	   "execution_count": null,
	   "metadata": {
	    "collapsed": true
	   },
	   "outputs": [],
"source": [
"clc;\n",
"//  Example 10.6\n",
"//page no 105 fig. 10.3\n",
"printf('\n Example 10.6 page no 105 fig. 10.3\n\n\n');\n",
"// since the density of air is effectively zero,the contribution of air to the 3 ft. manometer can be neglected\n",
"//the contribution due to the carbon tetrachloride can be found by using the hydrostatic equation\n",
"rho=62.3//density of water\n",
"SG=1.4///specific gravity of ccl4\n",
"h=3//height in manometer\n",
"P=rho*SG*h/144//factor 144 for psf to psi\n",
"printf(' \n pressure P=%f psi',P);\n",
"P_r=14.7//the right leg of manometer is open to atmosphere,atmospheric pressure at this point\n",
"//contribution to the prssure due to the height of water above pressure gauge\n",
"P_w=rho*h/144\n",
"printf('\n  pressure at right leg P_r=%f psia\n pressure due to water height P_w=%f psi',P_r,P_w);\n",
"P_a=P_r-P+P_w//absolute pressure\n",
"P_g=P_a-14.7//gauge pressure \n",
"printf('\n absolute pressure P_a=%f psia\n gauge pressure P_g=%f psig',P_a,P_g);  \n",
"P_af=P_a*144\n",
"P_gf=round(P_g*144)\n",
"printf('\npressure in psfa P_af=%f psfa\n pressure in psfg P_gf=%f psfg',P_af,P_gf);"
   ]
   }
],
"metadata": {
		  "kernelspec": {
		   "display_name": "Scilab",
		   "language": "scilab",
		   "name": "scilab"
		  },
		  "language_info": {
		   "file_extension": ".sce",
		   "help_links": [
			{
			 "text": "MetaKernel Magics",
			 "url": "https://github.com/calysto/metakernel/blob/master/metakernel/magics/README.md"
			}
		   ],
		   "mimetype": "text/x-octave",
		   "name": "scilab",
		   "version": "0.7.1"
		  }
		 },
		 "nbformat": 4,
		 "nbformat_minor": 0
}
