{
"cells": [
 {
		   "cell_type": "markdown",
	   "metadata": {},
	   "source": [
       "# Chapter 14: TURBULENT FLOW IN PIPES "
	   ]
	},
{
		   "cell_type": "markdown",
		   "metadata": {},
		   "source": [
			"## Example 14.10: turbulent_flow_through_a_pipe.sce"
		   ]
		  },
  {
"cell_type": "code",
	   "execution_count": null,
	   "metadata": {
	    "collapsed": true
	   },
	   "outputs": [],
"source": [
"clc;\n",
"//Example 14.10\n",
"//page no 163\n",
"printf('Example 14.10 page no 163\n\n');\n",
"//a fluid is moving in the turbulent flw through a pipe \n",
"// a hot wire anemometer is inserted to measure the local velocity at a given point P in the system \n",
"//following readings were recorded at equal time interval\n",
"//instantaneous velocities at subsequent time interval\n",
"vz=[43.4,42.1,42,40.8,38.5,37,37.5,38,39,41.7]\n",
"vz_bar=0;\n",
"n=10;\n",
"i = 0;\n",
"sums=0;\n",
"for i = 1:10 \n",
"    sums=sums+vz(i);\n",
"end\n",
"vz_bar=sums/n;\n",
"printf('\n vz_bar=%f',vz_bar);\n",
"sigma=0;\n",
"for i=1:10\n",
"    sigma=sigma+(vz(i)-vz_bar)^2;\n",
"    vz_sqr=sigma/10;\n",
"end\n",
"printf('\n vz_sqr=%f',vz_sqr)\n",
"I = sqrt(vz_sqr)/vz_bar//intensity of turbulance\n",
"printf('\n intensity of turbulance I=%f ',I);"
   ]
   }
,
{
		   "cell_type": "markdown",
		   "metadata": {},
		   "source": [
			"## Example 14.11: calculate_the_volumatric_flow_rate_in_different_condition.sce"
		   ]
		  },
  {
"cell_type": "code",
	   "execution_count": null,
	   "metadata": {
	    "collapsed": true
	   },
	   "outputs": [],
"source": [
"clc;\n",
"//Example 14.11\n",
"//page no 164\n",
"printf('Example 14.11 page no 164\n\n');\n",
"//a fluid is flowing through a pipe\n",
"D=2//inside diameter of pipe,in\n",
"v_max=30//maximum velocity,ft/min\n",
"A=(%pi/4)*(D/12)^2//cross sectional area\n",
"//(a) for laminar flow \n",
"v_a=(1/2)*v_max//average velocity\n",
"q_a=v_a*A//volumatric flow rate\n",
"printf('\n flow rate q_a=%f ft^3/min',q_a);\n",
"//(b) for plug flow \n",
"v_b=v_max//average velocity \n",
"q_b=v_b*A//volumatric flow rate\n",
"printf(' \nflow rate q_b=%f ft^3/min',q_b);\n",
"//(c)for turbulent flow\n",
"v_c=(49/60)*v_max//average velocity\n",
"q_c=v_c*A//volumatric flow rate\n",
"printf('\n flow rate q_c=%f ft^3/min',q_c);"
   ]
   }
,
{
		   "cell_type": "markdown",
		   "metadata": {},
		   "source": [
			"## Example 14.1: calculate_the_reynolds_no.sce"
		   ]
		  },
  {
"cell_type": "code",
	   "execution_count": null,
	   "metadata": {
	    "collapsed": true
	   },
	   "outputs": [],
"source": [
"clc;\n",
"//Example 14.1\n",
"//page no 148\n",
"printf('Example 14.1 page no 148\n\n');\n",
"//a liquid flow through a tube\n",
"meu=0.78e-2//viscosity of liquid,g/cm*s\n",
"rho=1.50//density,g/cm^3\n",
"D=2.54//diameter,cm\n",
"v=20//flow velocity\n",
"R_e=D*v*rho/meu//reynolds no\n",
"printf('\n Reynolds no R_e=%f ',R_e);"
   ]
   }
,
{
		   "cell_type": "markdown",
		   "metadata": {},
		   "source": [
			"## Example 14.2: Detemine_the_minimum_velocity_at_which_turblence_will_appear.sce"
		   ]
		  },
  {
"cell_type": "code",
	   "execution_count": null,
	   "metadata": {
	    "collapsed": true
	   },
	   "outputs": [],
"source": [
"clc;\n",
"//Example 14.2\n",
"//page no 148\n",
"printf('Example 14.2 page no 148\n\n');\n",
"//a fluid is moving through a cylinder in laminar flow\n",
"meu=6.9216e-4//viscosity of fluid,lb/ft*s\n",
"rho=62.4//density,lb/ft^3\n",
"D=1/12//diameter,ft\n",
"R_e=2100//reynolds no\n",
"v=R_e*meu/(D*rho)//minimum velocity at which turbulance will appear\n",
"printf('\n velocity v=%f ft/s',v);"
   ]
   }
,
{
		   "cell_type": "markdown",
		   "metadata": {},
		   "source": [
			"## Example 14.3: predict_the_friction_factor_by_different_equation.sce"
		   ]
		  },
  {
"cell_type": "code",
	   "execution_count": null,
	   "metadata": {
	    "collapsed": true
	   },
	   "outputs": [],
"source": [
"clc;\n",
"//Example 14.3\n",
"//page no 152\n",
"printf('Example 14.3 page no 152\n\n');\n",
"//calculate the friction factor by using different equation's\n",
"R_e=14080//reynolds no\n",
"K_r=0.004//relative roughness\n",
"//(a) by PAT proposed equation\n",
"f_a=0.0015+[8*(R_e)^0.30]^-1\n",
"printf('\n fanning friction factor f_a=%f ',f_a);\n",
"//equation for 5000<R_e>50000\n",
"f_b1=0.0786/(R_e)^0.25 \n",
"printf('\n friction factor f_b1=%f ',f_b1);\n",
"// equation for 30000<R_e>1000000\n",
"f_b2=0.046/(R_e)^0.20\n",
"printf('\n friction factor f_b2=%f ',f_b2);\n",
"// equation for the completely turbulent region \n",
"f_c=1/[4*(1.14-2*log10(K_r))^2]\n",
"printf('\n friction factor f_c=%f ',f_c); \n",
"//equation given by jain \n",
"f_d=1/[2.28-4*log10(K_r+21.25/(R_e^.9))]^2\n",
"printf('\n friction factor f_d=%f ',f_d);\n",
"f_e=0.0085 //from figur 14.2\n",
"printf('\n friction factor f_e=%f',f_e);\n",
"f_av=(f_a+f_b1+f_b2+f_c+f_d+f_e)/6\n",
"printf('\n average friction f_av=%f ',f_av);"
   ]
   }
,
{
		   "cell_type": "markdown",
		   "metadata": {},
		   "source": [
			"## Example 14.4: Calculate_the_equivalent_diameter.sce"
		   ]
		  },
  {
"cell_type": "code",
	   "execution_count": null,
	   "metadata": {
	    "collapsed": true
	   },
	   "outputs": [],
"source": [
"clc;\n",
"//Example 14.4\n",
"//page no 154\n",
"printf('Example 14.4 page no 154\n\n');\n",
"//for turbulent fluid flow in across section \n",
"//(a) for a rectangle \n",
"w=2//width of a rectangle,in\n",
"h=10//height of rectangle,in\n",
"S_a=h*w//cross sectional area\n",
"P_a=2*h+2*w//perimeter of rectangle\n",
"D_eq_a=4*S_a/P_a//equivalent diameter\n",
"printf('\n equivalent diameter D_eq_a=%f in',D_eq_a);\n",
"//(b) for an annulus \n",
"d_o=10//outer diameter of annulus\n",
"d_i=8//inner diameter \n",
"S_b=%pi*(d_o^2-d_i^2)/4//cross sectional area\n",
"P_b=%pi*(d_o-d_i)//perimeter\n",
"D_eq_b=(4*S_b)/(P_b)//eq. diameter\n",
"printf('\n equivalent diameter D_eq_b=%f cm',D_eq_b);\n",
"//(c) for an half- full circle\n",
"d_c=10//diameter of circle \n",
"S_c=%pi*d_c^2/8// cross sectional area\n",
"P_c=%pi*d_c/2//perimeter\n",
"D_eq_c=4*S_c/P_c//eq. diameter\n",
"printf('\n equivalent diameter D_eq_c=%f cm',D_eq_c); "
   ]
   }
,
{
		   "cell_type": "markdown",
		   "metadata": {},
		   "source": [
			"## Example 14.5: pipe_diameter_and_velocity.sce"
		   ]
		  },
  {
"cell_type": "code",
	   "execution_count": null,
	   "metadata": {
	    "collapsed": true
	   },
	   "outputs": [],
"source": [
"clc;\n",
"//Exampkle 14.5\n",
"//page no 157\n",
"printf('Example 14.5 page no 157\n\n');\n",
"//air is transported through a circular conduit \n",
"MW=28.9//molecular weight of air \n",
"R=10.73//gas constant\n",
"T=500//temperature\n",
"P=14.75//pressure,psia\n",
"//applying ideal gas law for density\n",
"rho=P*MW/(R*T)//density \n",
"rho=0.08//after round off\n",
"meu=3.54e-7//viscosity of air at 40 degF\n",
"//assume flow is laminar\n",
"q=8.33//flow rate ,ft^3/s\n",
"L=800//length of pipe,ft\n",
"P_1=.1//pressure at starting point\n",
"P_2=.01//pressure at delivery point \n",
"D=[(128*meu*L*q)/(%pi*(P_1-P_2)*144)]^(1/4)//diameter\n",
"printf('\n pipe diameter D=%f ft',D);\n",
"//check the flow type\n",
"meu=1.14e-5\n",
"R_e1=4*q*rho/(%pi*D*meu)//reynolds no\n",
"//printf('\n reynolds no R_e=%f ',R_e);\n",
"//from R_e we can conclude that laminar flow is not valid\n",
"P_drop=12.96//pressure drop P_1-P2 in psf\n",
"f=0.005//fanning friction factor\n",
"g_c=32.174\n",
"D=(32*rho*f*L*q^2/(g_c*%pi^2*P_drop))^(0.2)//diamter from new assumption\n",
"//strat the second iteration with the newly calculated D\n",
"k=0.00006/12//roughness factor\n",
"K_r=k/D//relative roughness \n",
"C_f=1.321224\n",
"R_e_n=4*q*rho/(%pi*D*meu)//new reynolds no\n",
"//printf('\n new reynolds no R_e=%f ',R_e);\n",
"f_n=0.0045//new fanning friction factor\n",
"D=[((8*rho*f_n*L*q^2)/(g_c*%pi^2*P_drop))^(0.2)]*C_f//final calculated diameter because last diameter is same with this\n",
"printf('\nD=%f ',D);\n",
"//iteration may now be terminated\n",
"S=%pi*(D^2)/4//cross sectional area of pipe\n",
"v=q/S//flow velocity\n",
"printf('\n flow velocity v=%f ft/s',v);//printing mistake in book in the value of meu in the formula of D is first time that's why this deviation in answer\n",
"\n",
""
   ]
   }
,
{
		   "cell_type": "markdown",
		   "metadata": {},
		   "source": [
			"## Example 14.6: determine_the_tube_diameter_and_velocity.sce"
		   ]
		  },
  {
"cell_type": "code",
	   "execution_count": null,
	   "metadata": {
	    "collapsed": true
	   },
	   "outputs": [],
"source": [
"clc;\n",
"//Example 14.6\n",
"//page no 159\n",
"printf('Example 14.6 page no. 159\n\n');\n",
"//ethyl alcohol is pumped through a horizontal tube\n",
"rho=789//density .kg/m^3\n",
"meu=1.1e-3//viscosity ,kg/m-s\n",
"k=1.5e-6//roughness,m\n",
"L=60//length of tube,m\n",
"q=2.778e-3//flow rate \n",
"g=9.807\n",
"h_f=30//friction loss\n",
"A=(L*q^2)/(g*h_f)\n",
"A=1.574e-7\n",
"//D=0.66*[[(k^1.25)*(A^4.75)+meu*(A^5.2)/(q*rho)]^.04]\n",
"D=0.0377\n",
"//calculate velocity of alcohol in the tube\n",
"S=3.14*(D)^2/4//surface area\n",
"v=q/S//velocity\n",
"v=3.93//velocity\n",
"neu=1.395e-6//dynamic viscosity\n",
"R_e=D*v/neu//reynolds no \n",
"printf('\n R_e=%f ',R_e);//printing mistake in book\n",
"printf('\n since R_e is more than 4000 flow is turbulent');\n",
""
   ]
   }
,
{
		   "cell_type": "markdown",
		   "metadata": {},
		   "source": [
			"## Example 14.7: kerosene_flow_in_pipe.sce"
		   ]
		  },
  {
"cell_type": "code",
	   "execution_count": null,
	   "metadata": {
	    "collapsed": true
	   },
	   "outputs": [],
"source": [
"clc;\n",
"//Exanmple 14.7\n",
"//page no 160\n",
"printf('Example 14.7 page no 160\n\n');\n",
"//kerosene flow ina lng ,smooth ,horizontal pipe\n",
"rho=820//density,kg/m^3\n",
"D=0.0493//iside diameter of pipe by appendix A.5,m\n",
"R_e=60000\n",
"meu=0.0016//viscosity,kg/m.s\n",
"v=(R_e*meu)/(D*rho)// flow average velocity\n",
"printf('\n average velocity v=%f m/s',v);\n",
"S=(%pi/4)*D^2//cross sectional area\n",
"printf('\n S=%f ',S);\n",
"q=v/S//flow rate \n",
"printf('\n flow rate q=%f m^3/s',q);//printing mistake in book\n",
"m_dot=rho*q//mass flow rate\n",
"printf('\n mass flow rate m_dot=%f kg/s',m_dot);//printing mistake in book in the value of v\n",
"n=7//seventh power apply\n",
"v_max=v/(2*n^2/((n+1)*(2*n+1)))//maximum velocity\n",
"printf('\n v_max=%f m/s',v_max);\n",
"//check the assumptioon of fully developed flow\n",
"R_e=60000//reynolds no\n",
"L_c=4.4*R_e^(1/6)*D//critical length\n",
"printf('\n length L_c=%f m',L_c);\n",
"//since L_c <L th eassumption is valid"
   ]
   }
,
{
		   "cell_type": "markdown",
		   "metadata": {},
		   "source": [
			"## Example 14.8: determine_the_fanning_friction_factor_and_friction_loss_and_the_pressure_drop.sce"
		   ]
		  },
  {
"cell_type": "code",
	   "execution_count": null,
	   "metadata": {
	    "collapsed": true
	   },
	   "outputs": [],
"source": [
"clc;\n",
"//Example 14.8\n",
"//page no 161\n",
"printf('\n Example 14.8 page no 161\n\n');\n",
"//refer to example no 14.7\n",
"rho=860//density\n",
"R_e=60000//reynolds no\n",
"f=.046/R_e^.2//fanning friction factor\n",
"printf('\n fanning friction factor f=%f ',f);\n",
"L=9//length of tube\n",
"v=2.38//velocity\n",
"D=.0493//diameter of tube\n",
"g=9.807\n",
"h_f=4*f*(L*v^2)/(D*2*g)//friction loss \n",
"printf('\n h_f friction loss=%f m ',h_f);\n",
"//applying  bernoulli equation\n",
"P_drop=rho*g*h_f//pressure drop in pa\n",
"P_drop_a=P_drop/10^5//pressure drop in atm\n",
"printf('\n P_drop_a =%f atm',P_drop_a);"
   ]
   }
,
{
		   "cell_type": "markdown",
		   "metadata": {},
		   "source": [
			"## Example 14.9: calculate_the_force_required_to_hold_the_pipe_in_place.sce"
		   ]
		  },
  {
"cell_type": "code",
	   "execution_count": null,
	   "metadata": {
	    "collapsed": true
	   },
	   "outputs": [],
"source": [
"clc;\n",
"//Example 14.9\n",
"//page no 161\n",
"printf(' Example 14.9 page no 161\n\n');\n",
"//refer to example 14.7\n",
"D=0.0493//diameter of tuube\n",
"S=%pi*D^2/4//cross sectional area\\n",
"P=8685//pressure\n",
"F=P*S//force required to hold the pipe,direction is opposite the flow\n",
"printf('\n Force required to hold pipe F=%f N',F); "
   ]
   }
],
"metadata": {
		  "kernelspec": {
		   "display_name": "Scilab",
		   "language": "scilab",
		   "name": "scilab"
		  },
		  "language_info": {
		   "file_extension": ".sce",
		   "help_links": [
			{
			 "text": "MetaKernel Magics",
			 "url": "https://github.com/calysto/metakernel/blob/master/metakernel/magics/README.md"
			}
		   ],
		   "mimetype": "text/x-octave",
		   "name": "scilab",
		   "version": "0.7.1"
		  }
		 },
		 "nbformat": 4,
		 "nbformat_minor": 0
}
