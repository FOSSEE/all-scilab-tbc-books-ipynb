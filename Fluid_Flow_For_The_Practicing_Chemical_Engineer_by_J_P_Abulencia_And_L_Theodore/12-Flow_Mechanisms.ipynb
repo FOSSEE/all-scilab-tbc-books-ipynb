{
"cells": [
 {
		   "cell_type": "markdown",
	   "metadata": {},
	   "source": [
       "# Chapter 12: Flow Mechanisms"
	   ]
	},
{
		   "cell_type": "markdown",
		   "metadata": {},
		   "source": [
			"## Example 12.1: calculate_size_of_outlet_duct_required.sce"
		   ]
		  },
  {
"cell_type": "code",
	   "execution_count": null,
	   "metadata": {
	    "collapsed": true
	   },
	   "outputs": [],
"source": [
"clc;\n",
"//Example 12.1\n",
"//page no 124\n",
"printf('Example 12.1 page no 124\n\n');\n",
"T_i=660//temperature of flue at inlet in furnsce\n",
"D_1=6//inside diameter of pipe,ft\n",
"v_1=25//velocity  at inlet\n",
"printf('\n temperature at inlet T_i=%f k\n diameter at inlet D_1=%f ft\n velocity at inlet v_1=%f ft/s',T_i,D_1,v_1);\n",
"A_1=%pi/4*D_1^2;\n",
"q_1=A_1*v_1//volumatric flow rate at inlet\n",
"printf ('\n area at ilet A_1=%f st^2\n volumatric flow rate at inlet q_1=%f ft^3/s',A_1,q_1);\n",
"//applying charle's law for volumatic flow out of the scrubber\n",
"//given\n",
"T_2=2360//the temperature up to which furnace heats the gas\n",
"v_2=40//velocity of flow at outlet\n",
"printf('\n temperature T_2=%f k\n velocity of flow at outlet v_2=%f ft/s',T_2,v_2);\n",
"q_2=q_1*(T_2/T_i)//volumatric flow rate at outlet\n",
"A_2=q_2/v_2// cross sectional area at outlet duct\n",
"printf('\n volumatric flow rate at outlet q_2=%f ft^3/s\n cross sectional area at outlet A_2=%f ft^2 ',q_2,A_2);\n",
"D_2=sqrt(4*A_2/%pi)//diameter at outlet\n",
"printf('\n diameter at outlet D_2=%f ft ',D_2);"
   ]
   }
,
{
		   "cell_type": "markdown",
		   "metadata": {},
		   "source": [
			"## Example 12.2: calculate_the_reynolds_number_for_a_liquid.sce"
		   ]
		  },
  {
"cell_type": "code",
	   "execution_count": null,
	   "metadata": {
	    "collapsed": true
	   },
	   "outputs": [],
"source": [
"clc;\n",
"//Example 12.2\n",
"//page no 125\n",
"printf('Example 12.2 page no 125\n\n');\n",
"//to calculate reynolds number\n",
"L=2.54//diameter of tube in cm\n",
"rho=1.50//density of liquid in gm/cm^3\n",
"v=20//velocity of flow in cm/s\n",
"meu=0.78e-2//viscosity of liquid in g/cm*s\n",
"printf('\n diameter of tube L=%f cm\n density  rho=%f gm/cm^3\n velocity v=%f cm/s\n viscosity meu=%f g/cm*s',L,rho,v,meu);\n",
"R_e=L*rho*v/meu//reynolds number\n",
"printf('\n Reynolds no. R_e=%f ',R_e);"
   ]
   }
,
{
		   "cell_type": "markdown",
		   "metadata": {},
		   "source": [
			"## Example 12.3: determine_the_reynolds_number_of_a_gas.sce"
		   ]
		  },
  {
"cell_type": "code",
	   "execution_count": null,
	   "metadata": {
	    "collapsed": true
	   },
	   "outputs": [],
"source": [
"clc;\n",
"//Example 12.3\n",
"//page no 126\n",
"printf('\n Example 12.3 page no 126\n\n');\n",
"//to determine the teynolds no of a gas stream \n",
"v=3.8//velocity through the duct \n",
"D=0.45//duct diameter\n",
"rho=1.2//density of gas\n",
"meu=1.73e-5//viscosity of gas\n",
"printf('\n velocity v=%f m/s\n diameter D=%f m\n density rho=%f kg/m^3\n viscosity meu=%f kg/m*s',v,D,rho,meu);\n",
"R_e=D*v*rho/meu//reynolds no\n",
"printf('\n reynoldsno R_e=%f ',R_e);"
   ]
   }
,
{
		   "cell_type": "markdown",
		   "metadata": {},
		   "source": [
			"## Example 12.5: calculate_the_average_velocity_of_fluid_and_the_volumatric_flow_rate.sce"
		   ]
		  },
  {
"cell_type": "code",
	   "execution_count": null,
	   "metadata": {
	    "collapsed": true
	   },
	   "outputs": [],
"source": [
"clc;\n",
"//Example 12.5\n",
"//page no 128\n",
"printf(' Example 12.5 page no 128\n\n');\n",
"SG=0.96//sp.gravity of a liquid\n",
"R=0.03//radius of long circular tube through which liquid  flow\n",
"//flow rate is related with the diameter of circular tube \n",
"q=2*%pi*(3*R^2-(200/3)*R^3);\n",
"printf('\n volumatric flow rate  q=%f m^3/s',q);\n",
"rho_w=1000//density of water \n",
"rho_l=SG*rho_w//density of liquid\n",
"m_dot=rho_l*q//mass flow rate \n",
"printf('\n mass flow rate m_dot=%f kg/s',m_dot);\n",
"s=%pi*R^2//surface area\n",
"v_av=q/s//average velocity\n",
"printf('\n average velocity v_av=%f m/s',v_av);"
   ]
   }
,
{
		   "cell_type": "markdown",
		   "metadata": {},
		   "source": [
			"## Example 12.6: calculate_the_time_to_pass_the_liquid_through_the_cross_section_of_pipe.sce"
		   ]
		  },
  {
"cell_type": "code",
	   "execution_count": null,
	   "metadata": {
	    "collapsed": true
	   },
	   "outputs": [],
"source": [
"clc;\n",
"//Example 12.6\n",
"//page no 129\n",
"printf('Example 12.6 page no 129\n\n');\n",
"//refer to example 12.6\n",
"V=20//volume of liquid passes through the section,m^3\n",
"q=0.00565//volumatric flow rate \n",
"t=V/q//time to pass liquid pass through volume V\n",
"printf('\n time t=%f s',t);"
   ]
   }
,
{
		   "cell_type": "markdown",
		   "metadata": {},
		   "source": [
			"## Example 12.7: calculate_the_actual_volumatric_flow_rate_and_reynolds_number.sce"
		   ]
		  },
  {
"cell_type": "code",
	   "execution_count": null,
	   "metadata": {
	    "collapsed": true
	   },
	   "outputs": [],
"source": [
"clc;\n",
"//Example 12.7\n",
"//page no 130\n",
"printf('Example 12.7 page no. 130\n\n');\n",
"//a gas is flowing through a circular duct\n",
"D=1.2//diameter of duct,ft\n",
"T=760//temperature,k\n",
"P=1//pressure\n",
"T_s=520//standard temperature\n",
"P_s=1//standard pressure\n",
"q_s=1000// standard volumatric flow rate,in scfm(given)\n",
"q=q_s*(T/T_s)*(P/P_s)//actual volumatric flow rate\n",
"printf('\n actual volumatric flow rate q=%f acfm ',q);\n",
"s=%pi*D^2/4//cross sectional area\n",
"s_m=s*0.0929//area in m^2 \n",
"v=(q/s)/60//velocity\n",
"printf('\n average velocity v=%f ft/s',v);\n",
"MW=33//mlecular weight of gas\n",
"R=0.7302//gas constant\n",
"rho=(P*MW)/(R*T)//density  from ideal gas law\n",
"printf('\n density rho=%f lb/ft^3',rho);\n",
"m_dot=rho*v*s_m//mass flow rate \n",
"printf('\n mass flow rate m_dot=%f lb/s',m_dot);//printing mistake in book\n",
"D_m=0.366//diamter in m\n",
"v_m=6.55//velocity in m/s\n",
"rho_m=rho*(0.4536/.3048^3)//density in kg/m^3\n",
"rho_m=0.952//round off value\n",
"printf('\nv_m=%f',v_m);\n",
"meu=2.2e-5//viscosity of gas in \n",
"R_e=D_m*v_m*rho_m/meu//reynolds no\n",
"printf('\n reynolds no R_e=%f ',R_e);//calculation error in book"
   ]
   }
],
"metadata": {
		  "kernelspec": {
		   "display_name": "Scilab",
		   "language": "scilab",
		   "name": "scilab"
		  },
		  "language_info": {
		   "file_extension": ".sce",
		   "help_links": [
			{
			 "text": "MetaKernel Magics",
			 "url": "https://github.com/calysto/metakernel/blob/master/metakernel/magics/README.md"
			}
		   ],
		   "mimetype": "text/x-octave",
		   "name": "scilab",
		   "version": "0.7.1"
		  }
		 },
		 "nbformat": 4,
		 "nbformat_minor": 0
}
