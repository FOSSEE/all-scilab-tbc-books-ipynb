{
"cells": [
 {
		   "cell_type": "markdown",
	   "metadata": {},
	   "source": [
       "# Chapter 31: numerical methods"
	   ]
	},
{
		   "cell_type": "markdown",
		   "metadata": {},
		   "source": [
			"## Example 31.1: linear_algebraic_equation.sce"
		   ]
		  },
  {
"cell_type": "code",
	   "execution_count": null,
	   "metadata": {
	    "collapsed": true
	   },
	   "outputs": [],
"source": [
"clc;\n",
"//Example 31.1 page no 486\n",
"printf('Example 31.1 page no 486\n\n ');\n",
"//set of linear algebric equation using gauss elimination\n",
"A=[3,-2,1;1,4,-2;2,-3,-4]//matrix A\n",
"B=[7;21;9]//matrix B\n",
"X=inv(A)*B\n",
"printf('\n X=%f',X);\n",
"X1=X(1,1)//value of X1\n",
"X2=X(2,1)//value of X2\n",
"X3=X(3,1)//value of X3\n",
"printf('\n X1=%f\nX2=%f \nX3=%f',X1,X2,X3);"
   ]
   }
,
{
		   "cell_type": "markdown",
		   "metadata": {},
		   "source": [
			"## Example 31.2: temperature_and_pressure.sce"
		   ]
		  },
  {
"cell_type": "code",
	   "execution_count": null,
	   "metadata": {
	    "collapsed": true
	   },
	   "outputs": [],
"source": [
"clc;\n",
"//Example 31.2\n",
"//page no 492\n",
"printf('Example 31.2 page no 492\n\n');\n",
"//the vapor pressure p' for a new synthetic chemical at a given temperature\n",
"t1=1100//assume intial actual temperature,k\n",
"T1=t1*1e-3//temperature,k\n",
"printf('\n T1=%f k',T1);\n",
"f1=T1^3 -2*T1^2 + 2*T1 -1//function of T,f(T)\n",
"f_d1=3*T1^2 -4*T1 + 2//derivative of f(T)\n",
"//using newton rapson formula to estimate T2\n",
"T2=T1 -(f1/f_d1)//temperature T2\n",
"printf('\n T2=%f k',T2);\n",
"f2=T2^3 -2*T2^2 + 2*T2 -1\n",
"f_d2=3*T2^2 -4*T2 + 2\n",
"T3=T2 -(f2/f_d2)//temperature T3\n",
"printf('\n T3=%f k',T3);\n",
"//finally the best estimate is T3,t=1.000095"
   ]
   }
,
{
		   "cell_type": "markdown",
		   "metadata": {},
		   "source": [
			"## Example 31.3: newton_rapson_method.sce"
		   ]
		  },
  {
"cell_type": "code",
	   "execution_count": null,
	   "metadata": {
	    "collapsed": true
	   },
	   "outputs": [],
"source": [
"clc;\n",
"//Example 31.3\n",
"//page no 493\n",
"printf('Example 31.3 page no 493\n\n');\n",
"//friction factor for smooth tubes can be approximated by\n",
"//f = 0.079*R_e^(-1/4),if 2000< R_e<2e-5\n",
"// average velocity in the system ,involving the flow of water at 60 deg F is given by \n",
"//v =sqrt(2180/(213.4R_e^(-1/4) + 10), flow of water at 60 deg F\n",
"//R_e=12168v,putting this value and by simplifying we get\n",
"v=poly(0,'v');\n",
"f=213.5*v^2 +105.03*v- 22896.08*v\n",
"//df=derivat(213.5*v^2 +105.03*v- 22896.08*v)\n",
"df=- 22791.05 + 427*v \n",
"v1=5\n",
"f1=213.5*v1^2 +105.03*v1- 22896.08*v1// value of f at v=5\n",
"df1=- 22791.05 + 427*v1//value of df at v=5\n",
"v2=v1-(f1/df1)\n",
"//by iteration we get values of v3,v4,v5,v6\n",
"//at v6 result converges\n",
"v6=10.09\n",
"printf('\n v6=%f ft/s ',v6);"
   ]
   }
,
{
		   "cell_type": "markdown",
		   "metadata": {},
		   "source": [
			"## Example 31.4: simpson_rule.sce"
		   ]
		  },
  {
"cell_type": "code",
	   "execution_count": null,
	   "metadata": {
	    "collapsed": true
	   },
	   "outputs": [],
"source": [
"clc;\n",
"//Example 31.4\n",
"//page no 497\n",
"printf('Example 31.4 page no 497\n\n')\n",
"//integration\n",
"I=integrate('(1-0.4*x^2)/((1-x)*(1-0.4*x)-1.19*x^2)','x',0,0.468)\n",
"printf('\n I=%f ',I);"
   ]
   }
],
"metadata": {
		  "kernelspec": {
		   "display_name": "Scilab",
		   "language": "scilab",
		   "name": "scilab"
		  },
		  "language_info": {
		   "file_extension": ".sce",
		   "help_links": [
			{
			 "text": "MetaKernel Magics",
			 "url": "https://github.com/calysto/metakernel/blob/master/metakernel/magics/README.md"
			}
		   ],
		   "mimetype": "text/x-octave",
		   "name": "scilab",
		   "version": "0.7.1"
		  }
		 },
		 "nbformat": 4,
		 "nbformat_minor": 0
}
