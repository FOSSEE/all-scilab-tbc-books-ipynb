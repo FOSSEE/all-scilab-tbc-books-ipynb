{
"cells": [
 {
		   "cell_type": "markdown",
	   "metadata": {},
	   "source": [
       "# Chapter 25: porous media and packed beds"
	   ]
	},
{
		   "cell_type": "markdown",
		   "metadata": {},
		   "source": [
			"## Example 25.1: effective_particle_diameter.sce"
		   ]
		  },
  {
"cell_type": "code",
	   "execution_count": null,
	   "metadata": {
	    "collapsed": true
	   },
	   "outputs": [],
"source": [
"clc;\n",
"//Example 25.1\n",
"//page no 370\n",
"printf('Example 25.1 page no 370\n\n');\n",
"//calculation of efffective particle diameter for a set of packing\n",
"V=0.2//packing volume\n",
"n=100//no. of particle assume\n",
"V_p=V*1000/n//the volume of single particle,mm^2//\n",
"S_p=2.18//average surface area of particle,mm^2\n",
"a_p=S_p/V_p//specific surface area of particle ,(mm)^-1\n",
"D_p = 6/a_p//effective diameter of particle,mm\n",
"printf('\n effective partcle diameter D_p=%f mm ',D_p);"
   ]
   }
,
{
		   "cell_type": "markdown",
		   "metadata": {},
		   "source": [
			"## Example 25.2: reynolds_number.sce"
		   ]
		  },
  {
"cell_type": "code",
	   "execution_count": null,
	   "metadata": {
	    "collapsed": true
	   },
	   "outputs": [],
"source": [
"clc;\n",
"//Example 25.2\n",
"//page no 371\n",
"printf('Example 25.2 page no 371\n\n');\n",
"//refer to example 25.1\n",
"V=0.2//packing volume\n",
"n=100//no. of particle assume\n",
"V_p=V*1000/n//the volume of single particle,mm^2//\n",
"S_p=2.18//average surface area of particle,mm^2\n",
"a_p=S_p/V_p//specific surface area of particle ,(mm)^-1\n",
"D_p = 6/a_p//effective diameter of particle,mm\n",
"D_p=5.50//round off value for accurate answer\n",
"rho=0.235//density of fluid,g/cm^3\n",
"meu=2e-4//viscosity,g/cm.s\n",
"v=10//interstitial velocity ,cm\n",
"R_e=round((D_p/v)*rho*v/meu)//reynolds no\n",
"printf('\n Reynolds no R_e=%f ',R_e);\n",
"//from R_e value we can conclude that the flow of fluid would be in the turbulent region"
   ]
   }
,
{
		   "cell_type": "markdown",
		   "metadata": {},
		   "source": [
			"## Example 25.3: particle_specific_surface_and_effective_diameter.sce"
		   ]
		  },
  {
"cell_type": "code",
	   "execution_count": null,
	   "metadata": {
	    "collapsed": true
	   },
	   "outputs": [],
"source": [
"clc;\n",
"//Example 25.3\n",
"//page no 372\n",
"printf('Example 25.3 page no 372\n\n');\n",
"//air flows across a packed bed \n",
"d_p=1.5//diamter of cylinderical particles,cm\n",
"h=2.5//height ,cm\n",
"V_p=%pi*d_p^2*h/(4)//volume of the cylinderical particles\n",
"S_p=%pi*d_p*h + 2*(%pi*d_p^2/4)//cylinderical particle surface area,cm^2\n",
"a_p=S_p/V_p//particle specific surface \n",
"printf('\n particle specific surface a_p =%f cm^-1 ',a_p);\n",
"d_p_e=6/a_p//effective particle diameter\n",
"printf('\n effective particle diameter d_p_e=%f cm',d_p_e);\n",
""
   ]
   }
,
{
		   "cell_type": "markdown",
		   "metadata": {},
		   "source": [
			"## Example 25.4: specific_surface_and_effective_particle_diameter.sce"
		   ]
		  },
  {
"cell_type": "code",
	   "execution_count": null,
	   "metadata": {
	    "collapsed": true
	   },
	   "outputs": [],
"source": [
"clc;\n",
"//Example 25.4\n",
"//page no 373\n",
"printf('\nExample 25.4 page no 373\n\n');\n",
"//a absorber bed consists of cube particles \n",
"L=3/4//edge length of particle\n",
"V_p=L^3//volume of particle \n",
"S_p=6*L^2//surface area of particle\n",
"a_p=6*L^2/L^3//specific particle surface area\n",
"printf('\n specific particle surface area a_p=%f in^-1',a_p);\n",
"d_p_e = L//effective particle diameter = edge length\n",
"printf('\n effective particle diameter d_p_e=%f in',d_p_e)"
   ]
   }
,
{
		   "cell_type": "markdown",
		   "metadata": {},
		   "source": [
			"## Example 25.5: a_catalyst_tower.sce"
		   ]
		  },
  {
"cell_type": "code",
	   "execution_count": null,
	   "metadata": {
	    "collapsed": true
	   },
	   "outputs": [],
"source": [
"clc;\n",
"//Example 25.5\n",
"//page no 373\n",
"printf('Example 25.5 page no 373\n\n');\n",
"//gas(propane) flows through a catalyst tower\n",
"Mw=44.1//molecular weight\n",
"P=4320//pressre at the bottom of the catalyst bed,psf\n",
"R=10.73//gas constant\n",
"T=960//temperature,Rankine\n",
"rho=P*Mw/(R*T*144)//density of propane\n",
"L=50//height of bed,ft\n",
"D=20//diameter of bed,ft\n",
"V=%pi*D^2*L/4//bed volume\n",
"theta=10//contact time,s\n",
"e=0.4//bed porosity\n",
"q=V*e/theta//volumetric flow rate\n",
"v_s=4*q/(%pi*D^2)//superficial  velocity\n",
"printf('\n superficial velocity v_s=%f ft/s',v_s);\n",
"v_i=v_s/e//interstitial velocity\n",
"printf('\n interstitial velocity v_i=%f ft/s',v_i);\n",
"rho_s=77.28//ultimate density(spheres )\n",
"rho_b=(1-e)*rho_s//bulk density\n",
"printf('\n bulk density rho_b=%f lb/ft^3',rho_b);\n",
"d_p=0.0833//diameter of particles\n",
"a_p=6/d_p//specific surface area\n",
"printf('\n specific surface area a_p=%f ft^-1',a_p);\n",
"a_b=a_p*(1-e)//bed specific surface\n",
"printf('\n bed specific surface a_b=%f ft^-1',a_b)"
   ]
   }
,
{
		   "cell_type": "markdown",
		   "metadata": {},
		   "source": [
			"## Example 25.6: hydraulic_radius_and_hydraulic_diameter.sce"
		   ]
		  },
  {
"cell_type": "code",
	   "execution_count": null,
	   "metadata": {
	    "collapsed": true
	   },
	   "outputs": [],
"source": [
"clc;\n",
"//Example 25.6\n",
"//page no 375\n",
"printf('Example 25.6 page no 375\n\n');\n",
"//refer to example 25.5\n",
"d_p=0.0833//diameter of particles,ft\n",
"e=0.4//bed porosity\n",
"D_h=2/3*(e/(1-e))*d_p//hydraulic diameter\n",
"r_h=D_h/4//hydrulic radius\n",
"printf('\n hydraulic diameter D_h=%f ft\n hydrulic radius r_h=%f ft',D_h,r_h); "
   ]
   }
],
"metadata": {
		  "kernelspec": {
		   "display_name": "Scilab",
		   "language": "scilab",
		   "name": "scilab"
		  },
		  "language_info": {
		   "file_extension": ".sce",
		   "help_links": [
			{
			 "text": "MetaKernel Magics",
			 "url": "https://github.com/calysto/metakernel/blob/master/metakernel/magics/README.md"
			}
		   ],
		   "mimetype": "text/x-octave",
		   "name": "scilab",
		   "version": "0.7.1"
		  }
		 },
		 "nbformat": 4,
		 "nbformat_minor": 0
}
