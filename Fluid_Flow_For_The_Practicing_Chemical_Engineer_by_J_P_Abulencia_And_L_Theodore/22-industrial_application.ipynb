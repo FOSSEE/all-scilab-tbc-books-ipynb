{
"cells": [
 {
		   "cell_type": "markdown",
	   "metadata": {},
	   "source": [
       "# Chapter 22: industrial application"
	   ]
	},
{
		   "cell_type": "markdown",
		   "metadata": {},
		   "source": [
			"## Example 22.10: discharge_and_NPSH.sce"
		   ]
		  },
  {
"cell_type": "code",
	   "execution_count": null,
	   "metadata": {
	    "collapsed": true
	   },
	   "outputs": [],
"source": [
"clc;\n",
"//Example 22.10\n",
"//page no 306\n",
"printf('\n Example 22.10 page no 306\n\n');\n",
"//benzene is pumped from a large tank to a delivery station \n",
"//refer fig 22.3\n",
"q=0.003//vol. flow rate,m^3/s\n",
"//tank is at atmosphric pressure\n",
"D=0.03//diameter of suction and discharge line,m\n",
"v_2=q/((%pi/4)*D^2)//discharge velocity,m/s\n",
"//since all diameters are same likewise velocities are same\n",
"v_3=v_2\n",
"g=9.807//grav. acc.\n",
"D_h=(v_3^2)/(2*g)//dynamic head\n",
"printf('\n dynamic head D_h=%f m',D_h);\n",
"z1=0//height at point 1,tank level\n",
"z2=1.8//height at point 3\n",
"//applying bernoulli's eq. between the top of the tank(open to theatomsphere)and the inlet to the pump(station3)\n",
"rho=865//density of benzene,kg/m^3\n",
"P3=101325-(z2+D_h)*(rho*g)//ptressure at point 3\n",
"printf('\n pressure at point 3 P3=%f Pa',P3);\n",
"P_v=26200//vapor pressure of benzene,Pa\n",
"NPSH =  (P3 - P_v)/(rho*g) +  D_h\n",
"printf('\n  NPSH=%f m',NPSH)\n",
"//the manufacturer NPSH is 8 m, which is greater than the calculated NPSH  of 7.06m,therfore, the suction point of pump must be lowered \n",
"//calculation of new pressure\n",
"NPSH_m=8//NPSH by manufacturer\n",
"P3_n_ab=8*(rho*g)-D_h*(rho*g) + P_v\n",
"printf('\n new pressure at point 3 P3_n_ab=%f Pa absolute',P3_n_ab);\n",
"P3_n_bz=-1.77//pressure in terms of benzene height,m\n",
"z3=-P3_n_bz -D_h//desired height of point 3\n",
"printf('\n height z3=%f m',z3);  "
   ]
   }
,
{
		   "cell_type": "markdown",
		   "metadata": {},
		   "source": [
			"## Example 22.11: pump_requirement_in_hp.sce"
		   ]
		  },
  {
"cell_type": "code",
	   "execution_count": null,
	   "metadata": {
	    "collapsed": true
	   },
	   "outputs": [],
"source": [
"clc;\n",
"//Example 22.11\n",
"//page no 308\n",
"printf('Example 22.11 page no 308\n\n');\n",
"//a storage tank on top of a building pumps 60 deg F water through an open pipe to it from a reservoir \n",
"q=1.36//vol. flow rate ,ft^3/s\n",
"D=0.333//diameter of pipe,ft\n",
"S=%pi/4*D^2//cross sectional area,ft^2\n",
"v2=q/S//flow velocity,ft/s\n",
"rho=62.37//density of water,lb/ft^3\n",
"meu=1.129*6.72e-4//viscosity of water\n",
"R_e=D*v2*rho/meu//reynolds no.\n",
"printf('\n reynolds no. R_e=%f',R_e );\n",
"//from R_e we can conclude that flow is turbulent\n",
"k=0.0018//roughness factor\n",
"K_r=k/D//relative roughness\n",
"f=0.0046//friction factor\n",
"L=525//length of pipe,ft\n",
"g_c=32.174//grav. acc\n",
"h_fp=(4*f*L*v2^2)/(D*2*g_c)//frictional loss due to the length of pipe\n",
"printf('\n frictional loss h_fp=%f ft.lbf/lb',h_fp);\n",
"//friction due to the fitings from table 18.1\n",
"K_ff_gate=2*0.11//loss coeff. due to gates\n",
"K_ff_elbows=5*0.64//loss coeff. due to elbows\n",
"//friction due to the sudden contraction is obtained from eq. 18.10 .\n",
"//note that D1/D2=0,since the upstream diameter is singnificantly larger than the downward diameter \n",
"K_c=0.42//coeff. of sudden contraction\n",
"K_e=1//coeff. of sudden expansion\n",
"K_s=K_ff_gate +K_ff_elbows +K_e +K_c//sum of loss coeff.\n",
"h_f=K_s*v2^2/(2*g_c)//friction losses due to fitting,expansion,contraction\n",
"h_f_total=h_fp + h_f//total frictional losses\n",
"printf('\n total frictional loss h_f_total=%f ft.lbf/lb',h_f_total);\n",
"v1=0\n",
"P_drop=0//pressure drop\n",
"z1=0//reservoir water level\n",
"z2=200//height of reservoir\n",
"W_s=(v2^2-v1^2)/(2*g_c)  + (z2-z1)  + h_f_total//power requirement\n",
"m_dot=q*rho//mass flow rate,lb/s\n",
"neta=0.6//efficiency of pump\n",
"W_dot_s=m_dot*W_s/(550*neta)//actual horsepower requirement\n",
"printf('\n W_dot_s=%f hp',W_dot_s);"
   ]
   }
,
{
		   "cell_type": "markdown",
		   "metadata": {},
		   "source": [
			"## Example 22.12: friction_loss.sce"
		   ]
		  },
  {
"cell_type": "code",
	   "execution_count": null,
	   "metadata": {
	    "collapsed": true
	   },
	   "outputs": [],
"source": [
"clc;\n",
"//Example 22.12\n",
"//Page no 311\n",
"printf('Example 22.12 page no 311\n\n')\n",
"//turpentine is being moved  from a large storage tank to a blender through a 700 ft pipeline\n",
"rho=62.4//density\n",
"SG=0.872//specific gravity of terpentine\n",
"rho_t=SG*rho//density of turpentine\n",
"v=12.67//av. velocity of the turpentine in the line,ft/s\n",
"z1=20//height of top surface in the storage tank above floor level,ft\n",
"z2=90//height of discharge end of pipe,ft\n",
"neta=0.74//efficiency of pump\n",
"W_s=401.9//average energy delivered by pump,ft/lbf/lb\n",
"g_c=32.174//grav.acc\n",
"L=700//length of pipeline\n",
"//from bernoulli eq.\n",
"h_f= neta*W_s - v^2/(2*g_c) - (z2-z1)//frictional loss  if there is no pressure drop\n",
"printf('\n frictional loss h_f =%f ft.lbf/lb',h_f);  \n",
"k_c=0.4//coeff. of contraction\n",
"k_e=0.9//coeff. of expansion\n",
"k_f=0.2//coeff. of bends and valve\n",
"//making equation(1) from the friction coeff. due to fittings between f and D,f=0.0293*D \n",
"//making another equation(2) from Reynolds number in terms D ,R_e=582250*D\n",
"//from trial and error method we get D\n",
"D=0.184//diameter\n",
"S=%pi*D^2/4//cross sectional area\n",
"S=0.0266\n",
"q=v*S//volumetric flow rate \n",
"printf('\n q=%f ft^3/s ',q);\n",
"m_dot=rho_t*q//mass flow rate\n",
"bhp =m_dot*W_s/(550*neta)//brake horse power\n",
"printf('\n brake horse power bhp=%f hp',bhp);\n",
"\n",
"\n",
"\n",
""
   ]
   }
,
{
		   "cell_type": "markdown",
		   "metadata": {},
		   "source": [
			"## Example 22.13: friction_loss_and_friction_power_loss_per_unit_length_of_pipe.sce"
		   ]
		  },
  {
"cell_type": "code",
	   "execution_count": null,
	   "metadata": {
	    "collapsed": true
	   },
	   "outputs": [],
"source": [
"clc;\n",
"//Example 22.13\n",
"//page no 313\n",
"printf('Example 22.13 page no 313\n\n');\n",
"//hydrogen flows through a horizontal pipe\n",
"//properties of hydrogen at 20 deg C from table A.3 in the appendix\n",
"rho=0.0838//density of hydrogen,kg/m^3\n",
"meu=9.05e-6//viscosity,kg/m.s\n",
"D=0.08//diameter of pipe,m\n",
"L=1//unit length of pipe,m\n",
"q=0.0004//vol. flow rate ,m^3/s\n",
"S=.000503//cross sectional area\n",
"v=q/S//flow velocity,m/s\n",
"m_dot=rho*q//mass flow rate,kg/s\n",
"R_e=(D*v*rho/meu)//reynolds no.\n",
"printf('\n R_e reynolds no=%f ',R_e);\n",
"//since R_e is 593<2100, flow is laminar\n",
"//since the tube is horizontal z1=z2,calculation of pressure gradient(P/L)\n",
"P_grad= 128*meu*q/(%pi*D^4)//pressure gradient\n",
"printf('\n Pressure gradient P_grad=%f Pa/m',P_grad)\n",
"v_max=2*v//m/s\n",
"//calculation of fanning friction factor\n",
"//since the flow is laminar \n",
"f=16/R_e//fanning friction factor\n",
"printf('\n fanning friction factor f=%f ',f);\n",
"f_d=4*f//darcy friction factor\n",
"printf('\n darcy friction factor f_d=%f ',f_d);\n",
"g=9.807//grav. acc.\n",
"h_f=f_d*(L/D)*(v^2/(2*g))//friction loss\n",
"printf('\n friction loss h_f=%f m',h_f);\n",
"W_f = m_dot*g*h_f//friction power loss\n",
"printf('\n friction power loss W_f=%f W',W_f); \n",
"\n",
"\n",
"\n",
"\n",
"\n",
"\n",
" "
   ]
   }
,
{
		   "cell_type": "markdown",
		   "metadata": {},
		   "source": [
			"## Example 22.14: average_velocity_of_gasoline.sce"
		   ]
		  },
  {
"cell_type": "code",
	   "execution_count": null,
	   "metadata": {
	    "collapsed": true
	   },
	   "outputs": [],
"source": [
"clc;\n",
"//Example 22.14\n",
"//page no 315\n",
"printf('\Example 22.14 page no 315\n\n');\n",
"//gasoline is pump through a horizontal cast iron pipe\n",
"L=30//length of pipe\n",
"D=0.2//diameter of pipe,m\n",
"S=(%pi/4)*D^2//cross sectional area\n",
"q=0.3//vol. flow rate ,m^3/s\n",
"v=q/S//flow velocity,m/s\n",
"rho=680//density of gasoline,kg/m^3\n",
"meu=2.92e-4//viscosity of gasoline,kg/m.s\n",
"R_e=D*v*rho/meu//reynolds no.\n",
"printf('\n reynolds no R_e=%f ',R_e);\n",
"//since R_e is >4000 flow is turbulent\n",
"k=0.00026//roughness factor from table 14.1 for cast iron,m\n",
"K_r=k/D//relative roughness\n",
"f=0.00525//fanning friction factor from fig 14.2\n",
"//Note that the flow corresponds to complete turbulence in the rough pipe\n",
"g=9.807//gravitational acceleration\n",
"//h_f=4*f*(L/D)*(v^2/(2*g))//head loss\n",
"h_f=14.647\n",
"//applying bernoulli equation to the fluid in the pipe\n",
"//in this case the pipe is horizontal (z1=z2) with constant diameter (v1=v2) and no shaft head (h_s=0)\n",
"//first convert the friction head to a pressure difference\n",
"P_diff=rho*g*h_f//pressure difference \n",
"P_diff= 97.68*10^3//after round off\n",
"W_s_id=q*P_diff//ideal shaft work\n",
"printf('\n ideal shaft work W_s_id=%f W ',W_s_id);\n",
"neta=0.8//efficiency of pump\n",
"W_s_ac=W_s_id/neta//actual shaft work \n",
"printf('\n actual shaft work W_s_ac=%f W',W_s_ac);\n",
"f_s=0.009//friction factor smooth\n",
"f_r=0.021//friction factor roughnes\n",
"k=f_r/f_s\n",
"f_inc=100*(k-1)//percentage increment in f due to roughness \n",
"printf('\n f_inc=%f ',f_inc);\n",
"\n",
"\n",
"\n",
"\n",
"\n",
""
   ]
   }
,
{
		   "cell_type": "markdown",
		   "metadata": {},
		   "source": [
			"## Example 22.15: average_velocity_of_the_benzene.sce"
		   ]
		  },
  {
"cell_type": "code",
	   "execution_count": null,
	   "metadata": {
	    "collapsed": true
	   },
	   "outputs": [],
"source": [
"clc;\n",
"//Example 22.15\n",
"//page no 316\n",
"printf('\n Example 22.15 page no 316\n\n')\n",
"//liquid benzene flows through a smooth horizontal iron pipe \n",
"D=2.3//diameter of pipe,m\n",
"L=146.304//length of pipe,m\n",
"S=(%pi/4)*D^2//cross sectional area,m^2\n",
"q=4000//vol. flow rate,gal/min\n",
"v=q/(S*264.17*60)//flow velocity\n",
"printf('\n flow velocity v=%f m/s',v);\n",
"rho=899//density of benzene\n",
"meu=0.0008//viscosity of benzene,kg/m.s\n",
"R_e = D*v*rho/meu//reynolds no\n",
"printf('\n reynolds no R_e=%f ',R_e);\n",
"//since the reynolds number falls in the turbulent regime,determine the fanning friction factor from fig. 14.2\n",
"f=0.0032//fanning friction factor\n",
"// calculation of pressure drop with the assumption of no height and velocity change , and no pump work \n",
"//since only frictional losses are to be considered\n",
"//applying eq. 14.3\n",
"P_drop = 4*f*(L/D)*(v^2/2)*rho//pressure drop\n",
"printf('\n pressure drop P_drop=%f Pa',P_drop);\n",
"W_dot_f=q*P_drop/(264.17*60)//friction power loss\n",
"printf('\n friction power loss W_dot_f=%f W',W_dot_f);"
   ]
   }
,
{
		   "cell_type": "markdown",
		   "metadata": {},
		   "source": [
			"## Example 22.16: steam_flow_rate.sce"
		   ]
		  },
  {
"cell_type": "code",
	   "execution_count": null,
	   "metadata": {
	    "collapsed": true
	   },
	   "outputs": [],
"source": [
"clc;\n",
"//Example 22.16\n",
"//page no 317\n",
"printf('\n Example 22.16 page no 317\n\n');\n",
"//a power plant employs steam to generate power \n",
"//adiabatic conditions\n",
"z1=0//steam vertical position at inlet,ft\n",
"z2=-20//steam vertical position at outlet,ft\n",
"v1=120//steam velocity at inlet,ft/s\n",
"v2=330//steam velocity at outlet,ft/s\n",
"H1=1505.4//steam enthalpy at inlet \n",
"H2=940//steam enthalpy at outlet\n",
"Q=0//for adiabatic conditions\n",
"g_c=32.174//grav .acc\n",
"//applying energy equation\n",
"W_s=-(z2/778) - v2^2/(2*g_c*778) - H2  +z1 + v1^2/(2*g_c*778) + H1//work extracted from system\n",
"printf('\n work extracted from the system W_s=%f Btu/lb ',W_s);\n",
"m_dot=450000//mass flow rate ,lb/h\n",
"W_dot_s=m_dot*W_s//total power generated by the turbine \n",
"printf('\n W_dot_s =%f Btu/h',W_dot_s);//approx calculation in book \n",
"W_hp=W_dot_s*3.927e-4//power generated in horsepower hp\n",
"printf('\n power generated W_hp=%f hp',W_hp);//approx calculation in book"
   ]
   }
,
{
		   "cell_type": "markdown",
		   "metadata": {},
		   "source": [
			"## Example 22.4: centrifugal_pump.sce"
		   ]
		  },
  {
"cell_type": "code",
	   "execution_count": null,
	   "metadata": {
	    "collapsed": true
	   },
	   "outputs": [],
"source": [
"clc;\n",
"//Example 22.4\n",
"//page no 298\n",
"printf('Example 22.4 page no 298\n\n');\n",
"//a centrifugal pump operating at 1800 rpm ,we have to find the impeller diameter needed to develop a head of 200 ft\n",
"h=200//height,ft\n",
"g=32.2//gravitational acc. ft/s^2\n",
"v=sqrt(2*g*h)//velocity needed to develop a head of 200 ft\n",
"printf('\n velocity v=%f ft/s',v);\n",
"N=1800//pump operating at this rotational speed,in rpm\n",
"c=v*60/N//the number of feet that the impeller travels in one rotations\n",
"//this c represents the circumference of the impeller  since it is equal to one rotation \n",
"printf('\n circumference c=%f ft/rotation',c);\n",
"D=c/%pi//diameter of the impeller\n",
"printf('\n diameter D=%f ft',D);"
   ]
   }
,
{
		   "cell_type": "markdown",
		   "metadata": {},
		   "source": [
			"## Example 22.5: total_energy_required.sce"
		   ]
		  },
  {
"cell_type": "code",
	   "execution_count": null,
	   "metadata": {
	    "collapsed": true
	   },
	   "outputs": [],
"source": [
"clc;\n",
"//Example 22.5\n",
"//page no 299\n",
"printf('Example 22.5 page no 299\n\n');\n",
"//water for a processing plant is required to be stored in a reservoir\n",
"//assume the properties of water at 20 deg C are\n",
"rho=998//density,kg/m^3\n",
"meu=0.001//viscosity,N.s/m^2\n",
"L=120//length of pipe,m\n",
"D=0.15//diameter  of pipe,m\n",
"S=(%pi/4)*D^2//cross sectional area of pipe\n",
"//given:\n",
"q=1.2/60//volumetric flow rate,m^3/s\n",
"v=q/S//flow velocity,m/s\n",
"R_e=D*v*rho/meu//reynolds no\n",
"printf('\n reynolds no R_e=%f ',R_e);\n",
"//from value of R_e ,flow is clearly turbulent\n",
"k=0.0005//roughness factor for galvanized iron\n",
"K_r=k/D//relative roughness\n",
"f=0.0053//fricion factor from fig. 14.2\n",
"h_f=4*f*(L/D)*(v^2/2)//friction loss of energy\n",
"printf('\n h_f frictional  loss=%f J ',h_f);\n",
"//for right elbows (from table 18.1),the estimated value of resistance coff. K for one regular 90 deg elbows is 0.5\n",
"K=4//resstance coeff.\n",
"V_h=v^2/2//velociy head\n",
"e_l=K*V_h//the total loss from the elbows\n",
"printf('\n e_l total elbow loss=%f J/kg',e_l);\n",
"//the energy to move 1 kg of water against a head of 22m of water is\n",
"z=22//height,m\n",
"g=9.81//grav. acc,m/s^2\n",
"PE=z*g\n",
"printf('\n potential energy PE=%f J/kg',PE);\n",
"TE = h_f + e_l  + PE//total requirement per kg\n",
"printf('\n total energy TE=%f J/kg',TE);\n",
"W_dot_s= TE*q*rho//theoretical power requirement \n",
"printf('\n theoritical power W_dot_s=%f J/s',W_dot_s); \n",
"h=TE/g//head equivalent to the energy requirement \n",
"printf('\n equivalent head h=%f m ',h);\n",
"\n",
"\n",
"\n",
"\n",
"\n",
"\n",
"\n",
"\n",
" "
   ]
   }
,
{
		   "cell_type": "markdown",
		   "metadata": {},
		   "source": [
			"## Example 22.6: reynolds_number_and_head.sce"
		   ]
		  },
  {
"cell_type": "code",
	   "execution_count": null,
	   "metadata": {
	    "collapsed": true
	   },
	   "outputs": [],
"source": [
"clc;\n",
"//Example 22.6\n",
"//page no 301\n",
"printf('Example 22.6 page no 301\n\n');\n",
"//oil is flowing through a standard 3/2 inch steel pipe containing a 1 inch square edged orifice\n",
"v_gal=400//orifice velocity of oil in gal/hr\n",
"v_o=400*144/(0.785*3600*7.48)//orifice velocity in ft/hr\n",
"D_o=1/12//diameter of orifice\n",
"rho=0.87*62.4//density of oil\n",
"meu=20.6*0.000672//viscosity of oil\n",
"R_e=D_o*v_o*rho/meu\n",
"printf('\n reynolds no =%f ',R_e);\n",
"D_r=0.62//ratio of orifice plate to pipe diametersD_o/D1 = 1/1.61\n",
"C_d=0.76//discharge coeff. fro fig 19.8\n",
"g=32.2//grav. acc. ft/s^2\n",
"h=(v_o^2/(2*g*(C_d)^2))*(1-D_r^4)//height of oil in gauge reading\n",
"printf('\n gauge reading h=%f ft ',h);"
   ]
   }
,
{
		   "cell_type": "markdown",
		   "metadata": {},
		   "source": [
			"## Example 22.7: mass_flow_rate.sce"
		   ]
		  },
  {
"cell_type": "code",
	   "execution_count": null,
	   "metadata": {
	    "collapsed": true
	   },
	   "outputs": [],
"source": [
"clc;\n",
"//Example 22.7\n",
"//page no 302\n",
"printf('Example 22.7 page no 302\n\n ');\n",
"//natural gas consisting of essentially pure methane flows through a long straight standard 10 inch steel pipe into which is inserted a square edged orifice 2.50 inches in diameter ,with pressure taps ,each 5 inch from the orifice plate\n",
"//manometer is attached across the orifice reads 1.60 in H20\n",
"D_o=2.50//diameter of orifice\n",
"D_1=10.15//diameter of plate\n",
"D_r=D_o/D_1//ratio of diameters\n",
"//assuming the reynolds no R_e in the orifice to be over 30,000\n",
"C_o=0.61//coeff. of discharge from R_e value\n",
"g=32.2//garv. acc ft/s^2\n",
"rho_m=62.4//density of medium (water)\n",
"rho=0.054//density of methane gas,lb/ft^3\n",
"h=1.60//manometer reading height,in\n",
"meu=12*0.011*0.000672//viscosity \n",
"v_o= C_o*sqrt((2*g*h*rho_m)/(12*rho))// orifice velocity\n",
"printf('\n orifice veloctiy v_o=%f ft/s',v_o);\n",
"R_e_o=D_o*v_o*rho/meu//reynolds no in the orifice\n",
"printf('\n R_e_o reynolds no =%f ',R_e_o);\n",
"//from R_e_o value C_o=0.61 is permissible\n",
"m_dot=round(v_o*(%pi/4)*(D_o^2)*rho*(3600/144))//mass flow rate \n",
"printf('\n mass flow rate m_dot=%f lb/hr',m_dot);"
   ]
   }
,
{
		   "cell_type": "markdown",
		   "metadata": {},
		   "source": [
			"## Example 22.8: gradual_contraction.sce"
		   ]
		  },
  {
"cell_type": "code",
	   "execution_count": null,
	   "metadata": {
	    "collapsed": true
	   },
	   "outputs": [],
"source": [
"clc;\n",
"//Example 22.8\n",
"//page no 303\n",
"printf('Example 22.8 page no 303\n\n');\n",
"//refer to fig 22.1\n",
"D1=.1//upstream diameter(at station 1),m\n",
"D2=.06//downstream diameter(station 2),m\n",
"S2=(%pi/4)*D2^2//cross sectional area at point 2\n",
"rho=1.22//density of air  from ideal gas law\n",
"rho_m=827//density of medium,kg.m^3\n",
"g=9.8//gravitational acc.\n",
"h=0.08//manometer head,m\n",
"//from bernoulli equation\n",
"v2=sqrt(2*g*h*((rho_m/rho)-1))//velocity at point 2\n",
"v1=v2*(D2/D1)^2//velocity at point 1\n",
"q=v2*S2//volumatric flow rate\n",
"printf('\n vol.flow rate q=%f m^3/s',q);\n",
"//calculation of mach number from equation 15.1\n",
"T=293//temperature in k\n",
"c=20*sqrt(T)//speed of light at this temperature,m/s\n",
"M_a=v2/c//mach no.\n",
"printf('\n mach no. M_a =%f ',M_a);\n",
"//noting that M_a=0.095 < 0.3 , we can conclude that flow is incompressible//given \n",
"P1=130000 //absolute pressure at point 1,pa\n",
"//by using bernoulli eq for P2\n",
"P2=P1-rho*v2^2*(1-(D2/D1)^4)/2//pressure at point 2\n",
"printf('\n pressure at point 2=%f Pa',P2);"
   ]
   }
,
{
		   "cell_type": "markdown",
		   "metadata": {},
		   "source": [
			"## Example 22.9: friction_loss_in_the_conduit.sce"
		   ]
		  },
  {
"cell_type": "code",
	   "execution_count": null,
	   "metadata": {
	    "collapsed": true
	   },
	   "outputs": [],
"source": [
"clc;\n",
"//Example 22.9\n",
"//page no 305 \n",
"printf('\n Example 22.9 page no 305\n\n');\n",
"//water is flowing from an elevated reservoir through a conduit to a turbine at a lower level and out of the turbine through a similar conduit  \n",
"//refer to fig 22.2\n",
"//since the diameter of the conduit is the same at location 1 and 2 ,kinetic energy effects can be  neglected and bernoulli eq. takes the form\n",
"//P/rho  + z(g/g_c)  -h_s + h_f  = 0\n",
"P1=30///pressure at point 1,psia\n",
"z1=300//height of point 1,ft\n",
"P2=18//pressure at point 2,psia\n",
"z2=-10//height of point 2,ft\n",
"rho=62.4//density\n",
"m_dot=3600//mass flow rate,tons/hr\n",
"W_dot =1000//output at the shaft of turbine,hp\n",
"neta=0.9//efficiency of turbine\n",
"h_s=W_dot*550*3600/(neta*m_dot*2000)//\n",
"printf('\n h_s =%f ft.lbf/lb',h_s);\n",
"//put this value in bernoulli eq.\n",
"h_f=(P2-P1)*144/rho + (z2-z1) -h_s//frictional loss\n",
"printf('\n frictional loss h_f=%f ft.lbf/lb',h_f)"
   ]
   }
],
"metadata": {
		  "kernelspec": {
		   "display_name": "Scilab",
		   "language": "scilab",
		   "name": "scilab"
		  },
		  "language_info": {
		   "file_extension": ".sce",
		   "help_links": [
			{
			 "text": "MetaKernel Magics",
			 "url": "https://github.com/calysto/metakernel/blob/master/metakernel/magics/README.md"
			}
		   ],
		   "mimetype": "text/x-octave",
		   "name": "scilab",
		   "version": "0.7.1"
		  }
		 },
		 "nbformat": 4,
		 "nbformat_minor": 0
}
