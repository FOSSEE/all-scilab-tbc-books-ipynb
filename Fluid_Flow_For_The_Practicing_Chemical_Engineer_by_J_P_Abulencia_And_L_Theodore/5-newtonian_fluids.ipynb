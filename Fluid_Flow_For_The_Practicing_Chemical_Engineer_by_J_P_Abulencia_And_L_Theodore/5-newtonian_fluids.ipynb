{
"cells": [
 {
		   "cell_type": "markdown",
	   "metadata": {},
	   "source": [
       "# Chapter 5: newtonian fluids"
	   ]
	},
{
		   "cell_type": "markdown",
		   "metadata": {},
		   "source": [
			"## Example 5.2: two_parallel_plates.sce"
		   ]
		  },
  {
"cell_type": "code",
	   "execution_count": null,
	   "metadata": {
	    "collapsed": true
	   },
	   "outputs": [],
"source": [
"clc;\n",
"//Example 5.2\n",
"//page no. 42\n",
"printf('Example 5.2 page no 42\n\n');\n",
"//To calculate the force to maintain movement of left plate \n",
"//velocity of moving plate is equal to the velocity of the plate and velocity of the gas at the surface of the stationary plate is zero\n",
"k=1.66//kinamatic viscosity of gas\n",
"rho=0.08//density of gas\n",
"d=0.0833//distance between plate\n",
"v1=300//velocity of left plate\n",
"v2=0//velocity of stationary plate\n",
"g_c=4.17*10^(8)//gravitational constant\n",
"printf('given \n kinamatic viscosity =%2f ft^2/hr\n rho=%2f lb/ft^3\n d=%4f ft\n v1=%f ft/hr\n v2=%f ft/hr\n gc=%f (ft*lb/hr)/lbf*hr',k,rho,d,v1,v2,g_c);\n",
"tou_xy=-k*rho*((v2-v1)/(g_c*d))//the frce necessary to mantain the movement of the left plate\n",
"printf('\n force tou_xy=%f  lbf/ft^2',tou_xy);"
   ]
   }
,
{
		   "cell_type": "markdown",
		   "metadata": {},
		   "source": [
			"## Example 5.3: couette_and_hatschek_viscometer.sce"
		   ]
		  },
  {
"cell_type": "code",
	   "execution_count": null,
	   "metadata": {
	    "collapsed": true
	   },
	   "outputs": [],
"source": [
"clc;\n",
"//Example 5.3\n",
"//Page no. 45\n",
"printf('Example  5.3 page no. 45\n\n');\n",
"D=0.25//diameter of fixed inner cylinder of viscometer\n",
"L=0.5//height of fixed inner cylinder of viscometer\n",
"T=15.3//measured torque\n",
"printf('Given :\n diameter =%.2f ft\n height =%f ft\n Torque=%f ft.lbf',D,L,T);\n",
"F=(2*T)/D\n",
"printf('\n force =%f lbf',F);\n",
"//the shear stress(force parallel to the surface) using equation 5.11\n",
"tou=F/(%pi*D*L)\n",
"printf('\n shear stress tou=%f psf', tou);"
   ]
   }
,
{
		   "cell_type": "markdown",
		   "metadata": {},
		   "source": [
			"## Example 5.4: viscosities.sce"
		   ]
		  },
  {
"cell_type": "code",
	   "execution_count": null,
	   "metadata": {
	    "collapsed": true
	   },
	   "outputs": [],
"source": [
"clc;\n",
"//Example 5.4\n",
"//page no. 45\n",
"printf('Example 5.4 page no. 45\n\n');\n",
"//refer to example no 5.3\n",
"//determine dynamic viscosity and kinematic viscosity\n",
"omega=26.2//angular rotation speed \n",
"D=0.25//diameter of fixed inner cylinder of viscometer\n",
"v=omega*D/2\n",
"printf('\n omega=%f rad/s\n diameter D =%f ft\n linear velocity =%2f ft/s',omega,D,v);\n",
"d=0.001//clearance betwween two cylinder of visometer\n",
"vel. gradient =v/(d/12)//velocity gradient\n",
"gc=32.14//gravitational constant\n",
"printf('\n clearance d=%5f ft\n vel. gradient=%f 1/s\n gravitational constant gc=%3f ft/s*S',d,vel. gradient,gc);\n",
"tou=311.7//shear stress tou\n",
"meu=gc*tou/vel. gradient\n",
"printf('\n tou=%f psf\n meu=%f lb/ft*s',tou,meu);\n",
"rho=60.528//density of oil\n",
"neu=meu/rho//kinamatic viscosity\n",
"printf('\n kinematic viscosity=%5f (ft*ft)/s',neu);\n",
"\n",
""
   ]
   }
],
"metadata": {
		  "kernelspec": {
		   "display_name": "Scilab",
		   "language": "scilab",
		   "name": "scilab"
		  },
		  "language_info": {
		   "file_extension": ".sce",
		   "help_links": [
			{
			 "text": "MetaKernel Magics",
			 "url": "https://github.com/calysto/metakernel/blob/master/metakernel/magics/README.md"
			}
		   ],
		   "mimetype": "text/x-octave",
		   "name": "scilab",
		   "version": "0.7.1"
		  }
		 },
		 "nbformat": 4,
		 "nbformat_minor": 0
}
