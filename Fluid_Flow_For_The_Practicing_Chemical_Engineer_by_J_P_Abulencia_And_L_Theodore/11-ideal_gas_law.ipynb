{
"cells": [
 {
		   "cell_type": "markdown",
	   "metadata": {},
	   "source": [
       "# Chapter 11: ideal gas law"
	   ]
	},
{
		   "cell_type": "markdown",
		   "metadata": {},
		   "source": [
			"## Example 11.2: density_of_ideal_gas.sce"
		   ]
		  },
  {
"cell_type": "code",
	   "execution_count": null,
	   "metadata": {
	    "collapsed": true
	   },
	   "outputs": [],
"source": [
"clc;\n",
"//Example 11.2\n",
"//Page no. 113\n",
"printf('Example 11.2-Page no.113\n\n')\n",
"//given\n",
"//Pressure(P),Temp.(T),Molecular wt. of gas(M)\n",
"P=1//atm\n",
"T_d=60//degree F\n",
"M=29//gram\n",
"//Gas constant R\n",
"R=.73\n",
"T=T_d+460//  rankin\n",
"//density of gaS\n",
"rho=(P*M)/(R*T)\n",
"printf('density of gas rho =%flb/ft^3',rho)"
   ]
   }
,
{
		   "cell_type": "markdown",
		   "metadata": {},
		   "source": [
			"## Example 11.3: actual_volumetric_flow_rate.sce"
		   ]
		  },
  {
"cell_type": "code",
	   "execution_count": null,
	   "metadata": {
	    "collapsed": true
	   },
	   "outputs": [],
"source": [
"clc\n",
"//Example 11.3\n",
"//Page no. 114\n",
"printf('Example 11.3-Page no. 114\n\n')\n",
"//given\n",
"//standard volumetric flowrate of a gas stream(Qs),standard conditions,actual conditions\n",
" Qs=2000//scfm\n",
" Ps=1//atm\n",
" Ts=60//degree F\n",
" Pa=1//atm\n",
" Ta=700//degree F\n",
"Ta=Ta+460//rankin\n",
"Ts=Ts+460//rankin\n",
" Qa=Qs*(Ta/Ts)*(Ps/Pa)\n",
"printf('actual volumetric flowrate Qa=%f acfm',Qa)"
   ]
   }
,
{
		   "cell_type": "markdown",
		   "metadata": {},
		   "source": [
			"## Example 11.4: standard_volumetric_flow_rate.sce"
		   ]
		  },
  {
"cell_type": "code",
	   "execution_count": null,
	   "metadata": {
	    "collapsed": true
	   },
	   "outputs": [],
"source": [
"clc\n",
"//Example 11.4\n",
"//Page no. 115\n",
"printf('Example 11.4-Page no. 115\n\n')\n",
"//given\n",
"//mass flowrate of flue gas ,average moleculer weight flue gas,standard conditions\n",
" m=50//lb/min\n",
" M=29//lb/lbmol\n",
" Ts=60//degree F\n",
" Ps=1//atm\n",
" R=0.73//atm.ft^3/(lbmol.degree R)\n",
" Ts=Ts+460//rankin\n",
" Qs=(m/M)*(R*Ts/Ps)\n",
" printf('standard volumetric flowrate Qs=%f scfm',Qs)"
   ]
   }
,
{
		   "cell_type": "markdown",
		   "metadata": {},
		   "source": [
			"## Example 11.5: molecular_weight_of_gas.sce"
		   ]
		  },
  {
"cell_type": "code",
	   "execution_count": null,
	   "metadata": {
	    "collapsed": true
	   },
	   "outputs": [],
"source": [
"clc\n",
"//Example 11.5\n",
"//Page no. 116\n",
"printf('Example 11.5-Page no.1 116\n\n')\n",
"//given\n",
"//specific volume(V),temperature(T),pressure(P)\n",
"V=12.084//ft^3/lb\n",
"T=70//degree F\n",
"P=1//atm\n",
"R=0.73\n",
"T=T+460//rankin\n",
"Mw=(R*T)/(P*V)\n",
"printf('molecular weight of gas Mw=%f',Mw)"
   ]
   }
,
{
		   "cell_type": "markdown",
		   "metadata": {},
		   "source": [
			"## Example 11.6: virial_equatio.sce"
		   ]
		  },
  {
"cell_type": "code",
	   "execution_count": null,
	   "metadata": {
	    "collapsed": true
	   },
	   "outputs": [],
"source": [
"clc;\n",
"//Example 11.6\n",
"//page no 118\n",
"printf('Example 11.6 page no 118\n\n');\n",
"clear;\n",
"//first and second viral coeff.\n",
"B=-0.159//m^3/kgmol\n",
"C=0.009//(m^3/kgmol)^2\n",
"V_new=0\n",
"V=0.820;\n",
"for i=1:3\n",
"    V_new=(1+(B)/V+(C)/(V^2))/1.22\n",
"    V=V_new\n",
"end\n",
"printf('\nVolume of gas V=%f L/gmol',V)"
   ]
   }
,
{
		   "cell_type": "markdown",
		   "metadata": {},
		   "source": [
			"## Example 11.7: Rk_equatio.sce"
		   ]
		  },
  {
"cell_type": "code",
	   "execution_count": null,
	   "metadata": {
	    "collapsed": true
	   },
	   "outputs": [],
"source": [
"clc;\n",
"//Example 11.7\n",
"//page no 118\n",
"printf('Example 11.7 page no 118\n\n');\n",
"//given\n",
"T_c=343// critical temperature,deg R\n",
"P_c=45.4//critical pressure,atm\n",
"//emplying redlich kwong (R-K)equation\n",
"R=0.73//gas constant \n",
"a=round(0.42748*R^2*T_c^2.5/P_c)//R-k constant\n",
"b=0.08664*R*T_c/P_c//R-k constant\n",
" //   V_new=[[490/(V-b)]-[a/(25.9*V*V+b)]]/10\n",
" // V=V_new\n",
"//by trial and error method\n",
"V=48.8\n",
"printf('\n Volume V=%f ft^3/lbmol ',V);\n",
"\n",
""
   ]
   }
],
"metadata": {
		  "kernelspec": {
		   "display_name": "Scilab",
		   "language": "scilab",
		   "name": "scilab"
		  },
		  "language_info": {
		   "file_extension": ".sce",
		   "help_links": [
			{
			 "text": "MetaKernel Magics",
			 "url": "https://github.com/calysto/metakernel/blob/master/metakernel/magics/README.md"
			}
		   ],
		   "mimetype": "text/x-octave",
		   "name": "scilab",
		   "version": "0.7.1"
		  }
		 },
		 "nbformat": 4,
		 "nbformat_minor": 0
}
