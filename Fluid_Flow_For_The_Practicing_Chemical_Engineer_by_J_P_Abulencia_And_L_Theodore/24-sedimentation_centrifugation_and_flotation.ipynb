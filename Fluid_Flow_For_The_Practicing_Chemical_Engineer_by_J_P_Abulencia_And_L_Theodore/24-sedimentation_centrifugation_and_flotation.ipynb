{
"cells": [
 {
		   "cell_type": "markdown",
	   "metadata": {},
	   "source": [
       "# Chapter 24: sedimentation centrifugation and flotation"
	   ]
	},
{
		   "cell_type": "markdown",
		   "metadata": {},
		   "source": [
			"## Example 2.3: minimum_size_of_charcoal.sce"
		   ]
		  },
  {
"cell_type": "code",
	   "execution_count": null,
	   "metadata": {
	    "collapsed": true
	   },
	   "outputs": [],
"source": [
"clc;\n",
"//Example 24.3\n",
"//page no  352\n",
"printf('Example 24.3 page no 352\n\n');\n",
"//classification of small speherical particles of charcoal with a specific gravity of 2.2\n",
"//the particles are falling in a vertical tower against a rising current of air\n",
"//we have to calculate the minimum size of charcoal that will settle down to the bottom of the tower\n",
"rho =0.075//density of air,lb/ft^3\n",
"meu=1.23e-5//viscosity of air,lb/ft.s\n",
"//assume stokes law to apply\n",
"SG=2.2//specific gravity of charcoal\n",
"rho_w=62.4//density of water \n",
"rho_p=SG*rho_w//density of charcoal\n",
"v=15//velocity of air\n",
"g=32.2//grav. acc\n",
"D_p1=(18*meu*v/(g*rho_p))^0.5\n",
"K1 = D_p1*(g*rho*rho_p/meu^2)^(1/3)//settling factor\n",
"printf('\n settling factor K1=%f ',K1);\n",
"//from value of K,stokes law does not apply\n",
"//therefore,assume Intermediate range law applies\n",
"D_p =((v*rho^0.29*meu^0.43)/(0.153*(g*rho_p)^0.71))^(1/1.14)\n",
"printf('\n particle diameter= D_p=%f ft ',D_p);\n",
"K_n=(D_p/D_p1)*K1\n",
"printf('\n final settling factor K_n=%f',K_n)\n",
"//since the result is correct for the intermediate range"
   ]
   }
,
{
		   "cell_type": "markdown",
		   "metadata": {},
		   "source": [
			"## Example 24.10: maximum_diameter.sce"
		   ]
		  },
  {
"cell_type": "code",
	   "execution_count": null,
	   "metadata": {
	    "collapsed": true
	   },
	   "outputs": [],
"source": [
"clc;\n",
"//Example 24.10\n",
"//page no 362\n",
"printf('Example 24.10 page no 362\n\n');\n",
"//air is being dried by bubbling through concentrated NaOH\n",
"q=4/60//flow rate of air,ft^3/min\n",
"D=2.5/12//diameter of tube\n",
"S=(%pi/4)*D^2//cross sectional area\n",
"v=q/S//velocity of air,ft/s\n",
"meu=1.23e-5//viscosity of NaOH\n",
"rho=0.0775//density of air\n",
"g=32.2//grav. acc.\n",
"SG=1.34//specific gravity of NaOH\n",
"rho_w=62.4//density of water\n",
"rho_p=SG*rho_w//density of NaOH\n",
"D_p_max = [v*(rho^0.29)*(meu^0.43)/(0.153*(g*rho_p)^0.71)]^(1/1.14)//assuming that the intermediate range applies ,maximum diamter of particle\n",
"printf('\nD_p_max=%f ',D_p_max);\n",
"//settling factor \n",
"K=D_p_max*(g*rho*rho_p/(meu^2))^(1/3)\n",
"printf('\n settling factor K=%f ',K);\n",
"//tus result for D_p_max is correct"
   ]
   }
,
{
		   "cell_type": "markdown",
		   "metadata": {},
		   "source": [
			"## Example 24.1: terminal_velocity_and_effective_viscosity.sce"
		   ]
		  },
  {
"cell_type": "code",
	   "execution_count": null,
	   "metadata": {
	    "collapsed": true
	   },
	   "outputs": [],
"source": [
"clc;\n",
"//Example 24.1\n",
"//page no 350\n",
"printf('Example 24.1 page no 350\n\n');\n",
"//glass sphere are settling in water at 20 deg C\n",
"//the slurry contains 60 wt% solids \n",
"// start by assuming a basis of 100 kg of slurry\n",
"m_f=40//mass of fluid,kg\n",
"rho_f=998//density of water,kg/m^3\n",
"V_f=m_f/rho_f//volume of the fluid,m^3\n",
"m_s=60//mass of solid,kg\n",
"rho_p=2467//density of glass,kg/m^3\n",
"V_s=m_s/rho_p//volume of glass,m^3\n",
"V = V_f + V_s//total volume,m^3\n",
"v_frac_f = V_f/V//volume fraction for the fluid particles\n",
"printf('\n volume fraction fluid particles v_frac_f =%f ',v_frac_f);\n",
"v_frac_p=1-v_frac_f//volume fraction for the glass particles\n",
"printf('\n volume fraction for the glass particles v_frac_p=%f  ',v_frac_p);\n",
"rho_m=round(v_frac_f*rho_f  + v_frac_p*rho_p)//bulk density of slurry\n",
"printf('\n bulk density of slurry rho_m=%f kg/m^3 ',rho_m);\n",
"b=10^(1.82*(1-v_frac_f))//dimensionless correction factor\n",
"g=9.807//gravitational acc.,m/s^2\n",
"D_p=0.0001554//diameter of particle,m\n",
"meu_f=0.001//viscosity of fluid\n",
"v_t = g*D_p^2*(rho_p-rho_f)*v_frac_f^2/(18*meu_f*b)//terminal velocity\n",
"printf('\n terminal velocity v_t=%f m/s',v_t);\n",
"meu_m = meu_f*b//effective mixture viscosity\n",
"printf('\n effective mixture viscosity meu_m=%f kg/m.s',meu_m);"
   ]
   }
,
{
		   "cell_type": "markdown",
		   "metadata": {},
		   "source": [
			"## Example 24.2: reynolds_number.sce"
		   ]
		  },
  {
"cell_type": "code",
	   "execution_count": null,
	   "metadata": {
	    "collapsed": true
	   },
	   "outputs": [],
"source": [
"clc;\n",
"//Example 24.2\n",
"//page no 352\n",
"printf('Example 24.2 page no 352\n\n');\n",
"//refer to example 24.1\n",
"m_f=40//mass of fluid,kg\n",
"rho_f=998//density of water,kg/m^3\n",
"V_f=m_f/rho_f//volume of the fluid,m^3\n",
"m_s=60//mass of solid,kg\n",
"rho_p=2467//density of glass,kg/m^3\n",
"V_s=m_s/rho_p//volume of glass,m^3\n",
"V = V_f + V_s//total volume,m^3\n",
"v_frac_f = V_f/V//volume fraction for the fluid particles\n",
"printf('\n volume fraction fluid particles v_frac_f =%f ',v_frac_f);\n",
"v_frac_p=1-v_frac_f//volume fraction for the glass particles\n",
"printf('\n volume fraction for the glass particles v_frac_p=%f  ',v_frac_p);\n",
"rho_m=round(v_frac_f*rho_f  + v_frac_p*rho_p)//bulk density of slurry\n",
"printf('\n bulk density of slurry rho_m=%f kg/m^3 ',rho_m);\n",
"b=10^(1.82*(1-v_frac_f))//dimensionless correction factor\n",
"g=9.807//gravitational acc.,m/s^2\n",
"D_p=0.0001554//diameter of particle,m\n",
"meu_f=0.001//viscosity of fluid\n",
"v_t = g*D_p^2*(rho_p-rho_f)*v_frac_f^2/(18*meu_f*b)//terminal velocity\n",
"printf('\n terminal velocity v_t=%f m/s',v_t);\n",
"meu_m = meu_f*b//effective mixture viscosity\n",
"printf('\n effective mixture viscosity meu_m=%f kg/m.s',meu_m);\n",
"R_e=rho_m*v_t*D_p/(meu_m*v_frac_f)//reynolds no.\n",
"printf('\n reynolds no R_e=%f ',R_e);"
   ]
   }
,
{
		   "cell_type": "markdown",
		   "metadata": {},
		   "source": [
			"## Example 24.4: number_of_Gs.sce"
		   ]
		  },
  {
"cell_type": "code",
	   "execution_count": null,
	   "metadata": {
	    "collapsed": true
	   },
	   "outputs": [],
"source": [
"clc;\n",
"//Exmple 24.4\n",
"//page no 354\n",
"printf('Example 24.4 page no 354\n\n');\n",
"//a particle is spining in a 3 inch ID centrifuge \n",
"r=3/12//radius of centrifuge,ft\n",
"omega=30//rotational speed,rad/s\n",
"g=32.2\n",
"G=round(r*omega^2/g)\n",
"printf('\n G=%f ',G);"
   ]
   }
,
{
		   "cell_type": "markdown",
		   "metadata": {},
		   "source": [
			"## Example 24.5: angular_velocity.sce"
		   ]
		  },
  {
"cell_type": "code",
	   "execution_count": null,
	   "metadata": {
	    "collapsed": true
	   },
	   "outputs": [],
"source": [
"clc;\n",
"//Example 24.5\n",
"//page no 357\n",
"printf('Example 24.5 page no 357\n\n');\n",
"//a circular cylinder filled with water is rotated a uniform ,steady angular speed about it's central axis in rigid body motion\n",
"//since the cylinder is full the water will spill the moment the cylinder starts to spin ,spilling occur when omega > 0 rpm\n",
"// to determine the angular speed for 1/3 of the water to spill , consider the cylinder at rest when 1/3 of the water has already beem spilled\n",
"g=32.174//grav. acc\n",
"R = 0.25 //radius  of cylinder\n",
"z_st=2/3//the stationary height, ft\n",
"h = 2*(1-z_st)//increase in height is h/2,ft\n",
"omega=sqrt(4*g*(h/2)/R^2) \n",
"printf('\n omega =%f rad/s',omega);"
   ]
   }
,
{
		   "cell_type": "markdown",
		   "metadata": {},
		   "source": [
			"## Example 24.6: equatio_describing_pressure.sce"
		   ]
		  },
  {
"cell_type": "code",
	   "execution_count": null,
	   "metadata": {
	    "collapsed": true
	   },
	   "outputs": [],
"source": [
"clc;\n",
"//Example 26.6\n",
"//page no 392 \n",
"printf('Example 26.6 page no 392\n\n');\n",
"//a bed of pulverized is to be fluidized with liquid oil\n",
"D=4//diameter of bed ,ft\n",
"d_p=0.00137//particle diameter ,ft \n",
"rho_s=84//coal particle density ,lb/ft^3\n",
"rho_f=55//oil density,lb/ft^3\n",
"e_mf=0.38//void fraction\n",
"L_mf=8//bed height at minimum fluidization,ft\n",
"P_drop=(rho_s-rho_f)*(1-e_mf)*L_mf +rho_f*L_mf \n",
"printf('\npressure drop P_drop=%f psf',P_drop);"
   ]
   }
,
{
		   "cell_type": "markdown",
		   "metadata": {},
		   "source": [
			"## Example 24.7: angular_speed_and_film_thickness.sce"
		   ]
		  },
  {
"cell_type": "code",
	   "execution_count": null,
	   "metadata": {
	    "collapsed": true
	   },
	   "outputs": [],
"source": [
"clc;\n",
"//Example 24.7\n",
"//page no 358\n",
"printf('Example 24.7 page no 358\n\n');\n",
"//a cylindrical cup open to the atmosphere is filled with liquid to a height of 7 cm\n",
"//rotated around it's axis\n",
"//calculation of an angular velocity that will cause the liquid to start spilling \n",
"h=0.03//height,m\n",
"R=0.03//radius,cm\n",
"//applying eq. 24.22\n",
"g=9.807//grav. acc\n",
"omega=sqrt(2*h*g/(R^2))\n",
"omega=36.2//printing mistake in book\n",
"//calculation of pressure at point A and B that is P_a and P_b\n",
"z=.1//liquid height above point A and B,m\n",
"rho=1010//density of liquid,kg/m^3\n",
"P_a = rho*g*z\n",
"P_b=P_a//from symmetry P_a = P_b\n",
"printf('\n pressure P_a=%f Pa_gauge\n pressure P_b=%f Pa_gauge',P_a,P_b);\n",
"z_c=0.04//liquid height above point c,m\n",
"P_c=rho*g*z_c//pressure at point c\n",
"printf('\n pressure P_c=%f Pa_gauge',P_c);\n",
"//to obtain the film thicknes,we have to find the original height \n",
"z_l=0.07//liquid height ,m\n",
"h_o=z_l-z_c//original height\n",
"r = 100*sqrt(2*h_o*g/(omega^2))//100 for centimeter\n",
"printf('\n r=%fcm ',r);\n",
"R=3\n",
"t_f=R-r//thikness of film\n",
"printf('\n thickness film t_f=%f m',t_f);//printing mistake in book\n",
"\n",
"\n",
"\n",
""
   ]
   }
,
{
		   "cell_type": "markdown",
		   "metadata": {},
		   "source": [
			"## Example 24.8: velocity_to_obtain_pure_galena.sce"
		   ]
		  },
  {
"cell_type": "code",
	   "execution_count": null,
	   "metadata": {
	    "collapsed": true
	   },
	   "outputs": [],
"source": [
"clc;\n",
"//Example 24.8\n",
"//page no 360\n",
"printf('Example 24.7 page no 358\n\n');\n",
"//It is desired to separate quartz particles  from galena particles \n",
"SG_q = 2.65//specific gravity of quartz particle \n",
"SG_g=7.5//specific gravity of galena particles \n",
"rho_f=1000//density of water \n",
"rho_q=SG_q*rho_f//density of quartz paticles\n",
"rho_g=SG_g*rho_f//density of galena particle \n",
"//calculation of the settling veloctiy of the largest quartz particle with a diameter \n",
"D_q=9e-5//diameter of largest particle of quartz\n",
"g=9.807//grav. acc\n",
"meu_f=0.001//viscosity of water\n",
"K_q = D_q*(g*(rho_q-rho_f)*rho_f/(meu_f^2))^(1/3)//settling factor\n",
"printf('\n settling factor K_q=%f ',K_q);\n",
"//since K =2.27<3.3,stokes flow regime applies ,from the equation 23.36\n",
"v_q=g*D_q^2*(rho_q-rho_f)/(18*meu_f)//settling velocity of thelargest quartz particle\n",
"printf('\n settling velocity (quartz) v_q=%f m/s',v_q);\n",
"//calculation of the settling velocity of the smallest galena partilce \n",
"d_g=4e-5//diameter of smallest galena particle\n",
"K_g = d_g*(g*(rho_g-rho_f)*rho_f/(meu_f^2))^(1/3)//settling factor\n",
"printf('\n settling factor K_g=%f ',K_g);\n",
"//since K = 1.6<3.3,stokes flow regime again applies\n",
"v_g=g*d_g^2*(rho_g-rho_f)/(18*meu_f)//settling velocity for galena particles\n",
"printf('\n setling velocity v_g=%f m/s',v_g);\n",
"//to  obtain pure galena the upward velociy of the water must be equal to or greater than the settling veloctiy of the quartz particle\n",
"v_w=v_q//velocity of water\n",
"printf('\n water velocity v_w=%f m/s',v_w);"
   ]
   }
,
{
		   "cell_type": "markdown",
		   "metadata": {},
		   "source": [
			"## Example 24.9: size_range_of_galena_particle.sce"
		   ]
		  },
  {
"cell_type": "code",
	   "execution_count": null,
	   "metadata": {
	    "collapsed": true
	   },
	   "outputs": [],
"source": [
"clc;\n",
"//Example 24.9\n",
"//page no 361\n",
"printf('\n Example 24.9 page no 361\n\n');\n",
"//refer to illustrative example 24.8\n",
"//we have to determine the size range of the galena in the top product\n",
"//to determine the size range of the galena product ,calculate the galena particle size that has a settling velocity equal to water velocity \n",
"//assume stokes law applies\n",
"v_w=0.0073//velocity of water\n",
"v_q=v_w//velocity of quartz particles\n",
"SG_q = 2.65//specific gravity of quartz particle \n",
"SG_g=7.5//specific gravity of galena particles \n",
"rho_f=1000//density of water \n",
"rho_q=SG_q*rho_f//density of quartz paticles\n",
"rho_g=SG_g*rho_f//density of galena particle\n",
"g=9.807//grav. acc\n",
"meu_f=0.001//viscosity of water\n",
"D = sqrt(18*meu_f*v_q/(g*(rho_g-rho_f)))\n",
"printf('\n diameter D =%f m',D);\n",
"//check on the validity of stokes law by calculating the K factor \n",
"K = D*(g*(rho_g-rho_f)*rho_f/(meu_f^2))^(1/3)//settling factor\n",
"printf('\n settling factor K=%f ',K);\n",
"//since K =1.82<3.3 , the flow is in the stokes law range "
   ]
   }
],
"metadata": {
		  "kernelspec": {
		   "display_name": "Scilab",
		   "language": "scilab",
		   "name": "scilab"
		  },
		  "language_info": {
		   "file_extension": ".sce",
		   "help_links": [
			{
			 "text": "MetaKernel Magics",
			 "url": "https://github.com/calysto/metakernel/blob/master/metakernel/magics/README.md"
			}
		   ],
		   "mimetype": "text/x-octave",
		   "name": "scilab",
		   "version": "0.7.1"
		  }
		 },
		 "nbformat": 4,
		 "nbformat_minor": 0
}
