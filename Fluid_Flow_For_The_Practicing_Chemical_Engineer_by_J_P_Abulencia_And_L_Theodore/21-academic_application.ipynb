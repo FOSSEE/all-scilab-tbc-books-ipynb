{
"cells": [
 {
		   "cell_type": "markdown",
	   "metadata": {},
	   "source": [
       "# Chapter 21: academic application"
	   ]
	},
{
		   "cell_type": "markdown",
		   "metadata": {},
		   "source": [
			"## Example 21.10: centrifugal_pump.sce"
		   ]
		  },
  {
"cell_type": "code",
	   "execution_count": null,
	   "metadata": {
	    "collapsed": true
	   },
	   "outputs": [],
"source": [
"clc;\n",
"//Example 21.10\n",
"//page no 286\n",
"printf('Example 21.10 page no 286\n\n');\n",
"//a centrifugal pump is needed to transport water from sea level to 10000 feet above sea level\n",
"//using bernoulli equation\n",
"//neglectiing kinetic energy effects and frictional losses\n",
"P1=14.7//atmospheric pressure at sea level,psi\n",
"P2=10.2//atmospheric pressure at 10000 feet,psi\n",
"z1=0//at sea level,ft\n",
"z2=10000//height above sea level,ft\n",
"rho=62.4//density of water\n",
"g=32.2//gravitational acc.\n",
"g_c=32.2//gravitational constant\n",
"h_s=((P2-P1)*144/(rho)  + (z2-z1)*(g/g_c))//work deliverd by the pump to the water,in ft.lbf/lb\n",
"h_s=9990//ft.lbf/lb\n",
"h_sf=h_s*50//in ft.lbf\n",
"printf('\n work h_sf=%f ft.lbf/s',h_sf);\n",
"//actual pump work is calculated by dividing the above terms by the frictional afficiency\n",
"neta=0.65//frictional efficiency\n",
"W_p=round((h_sf/550)/neta)//actual work\n",
"printf('\n actual work W_p=%f hp',W_p);"
   ]
   }
,
{
		   "cell_type": "markdown",
		   "metadata": {},
		   "source": [
			"## Example 21.12: friction_loss.sce"
		   ]
		  },
  {
"cell_type": "code",
	   "execution_count": null,
	   "metadata": {
	    "collapsed": true
	   },
	   "outputs": [],
"source": [
"clc;\n",
"//Example 21.12\n",
"//page no 288\n",
"printf('Example 21.12 page no 288\n\n');\n",
"//refer to illustrative Example 21.4\n",
"// if the pipe contains two globe valves and one straight through tee,what is the friction loss\n",
"K_f_globe=6\n",
"K_f_tee=0.4\n",
"v=2.53// flow velocity \n",
"g_c=32.2\n",
"f=5/4//friction factor\n",
"L=144//lenth of pipe\n",
"D=62.4//diameter\n",
"h_f=4*f*(L/D) + (2*K_f_globe + K_f_tee)*(v^2/(2*g_c))\n",
"printf('\n frictional loss h_f=%f ft.lbf/lb',h_f);\n",
" "
   ]
   }
,
{
		   "cell_type": "markdown",
		   "metadata": {},
		   "source": [
			"## Example 21.13: pitot_tube.sce"
		   ]
		  },
  {
"cell_type": "code",
	   "execution_count": null,
	   "metadata": {
	    "collapsed": true
	   },
	   "outputs": [],
"source": [
"clc;\n",
"//Example 21.13\n",
"//page no 289 figure 21.1\n",
"printf('Example 21.13 page no 289 fig 21.1  \n\n\n');\n",
"//a pitot tube is inserted in acircular pipe  to measure the flow velocity\n",
"// the tube is inserted so that it points upstream into the flow and the pressure sensed by thre probeis the stagnation pressure \n",
"//the change in elevation between the tip of the pitot and the wall pressure tap is negligible \n",
"//the flowing fluid is soyabean oil at 20 deg C and the fluid in manometer tube is mercury\n",
"//point 2 is a stagnation point ,P2>P1 and the manometer fluid should be higher on th eleft side(h<0) \n",
"rho_m=13600//density of mercury,kg/m^3\n",
"h=0.04//height of mercury,\n",
"rho=919//density of oil kg/m^3\n",
"g=9.804\n",
"D=0.055//diameter of pipe,m\n",
"meu=0.04//viscosity of oil,kg.m.s\n",
"v=sqrt(2*g*h*((rho_m/rho)-1))//flow velocity\n",
"printf('\n flow velocity v=%f m/s',v);\n",
"//assuming uniform velocity\n",
"S=(%pi/4)*D^2\n",
"m_dot=rho*v*S//mass flow rate\n",
"R_e=(D*v*rho)/meu//reynolds no\n",
"printf('\n reynolds no R_e=%f ',R_e);\n",
"printf('\n mass flow rate m_dot=%f kg/s',m_dot);"
   ]
   }
,
{
		   "cell_type": "markdown",
		   "metadata": {},
		   "source": [
			"## Example 21.14: flow_rate.sce"
		   ]
		  },
  {
"cell_type": "code",
	   "execution_count": null,
	   "metadata": {
	    "collapsed": true
	   },
	   "outputs": [],
"source": [
"clc;\n",
"//Example 21.14 \n",
"//page no 290\n",
"printf('Example 21.14 page no 290\n\n');\n",
"//given: a 50 ft pipe with flowing water ,we have to determine the flow rate if there is an expansion from 3/8 inch to 1/8 inch and immediatly back to 3/8n inch with an overall pressure loss no greater than 2lbf/ft^2\n",
"//from table A.5 in the appendix \n",
"S1=0.00133//cross sectional area of 3/8 inch pipe,ft^2\n",
"S2=0.00211//cross sectional area of 1/2 inch pipe,ft^2\n",
"K_e=(1-S1/S2)^2//expansion constant\n",
"K_c=0.4*(1-S2/S1)^2//contraction constant\n",
"L=50//length of pipe\n",
"D=0.03125//diameter of pipe\n",
"v=1.93//velocity ,ft/s\n",
"f=0.01124//friction factor from table 21.3,for velocity estimated to be 1.93 ft/s\n",
"g_c=32.2 \n",
"h_f=(4*f*L/D  + K_e + K_c)*(v^2*g_c)//frictional loss\n",
"printf('\n frictional loss h_f=%f ft.lbf/lb ',h_f);"
   ]
   }
,
{
		   "cell_type": "markdown",
		   "metadata": {},
		   "source": [
			"## Example 21.16: pressure_drop.sce"
		   ]
		  },
  {
"cell_type": "code",
	   "execution_count": null,
	   "metadata": {
	    "collapsed": true
	   },
	   "outputs": [],
"source": [
"clc;\n",
"//Example 21.16\n",
"//page no 291\n",
"printf('Example 21.16 page no 291\n\n');\n",
"//water flows in a concrete pipe\n",
"v_p=0.02// flow velocity,m/s \n",
"D_p=1.5//diameter of pipe\n",
"L_p=20//length of pipe,m\n",
"rho_p=1000//density of water,kg/m^3\n",
"meu_p=0.001//viscosity of water,kg/m.s\n",
"K_p=0.003//roughnes factor,m\n",
"//this prototype is to be modeled in a lab using a 1/3o th scale pipe\n",
"D_m=D_p/30//D_m is diameter of modeled pipe\n",
"L_m=L_p*(D_m/D_p)//length of modeled pipe\n",
"K_m=K_p*(D_m/D_p)//roughness factor for modeled pipe\n",
"//the fluid in the model is caster oil \n",
"rho_m=961.3//densiy of oil, kg/m^3\n",
"meu_m=0.0721//viscosity of oil,kg/m.s\n",
"//since R_e = (rho_m*v_m*D_m)/meu_m   =  (rho_p*v_p*D_p)/meu_p\n",
"v_m = (rho_p*v_p*D_p*meu_m)/(rho_m*D_m*meu_p)// flow velcity in molded pipe\n",
"printf('\n flow velocity v_m=%f m/s',v_m);\n",
"//pressure drop in prototype\n",
"P_drop_m=1e+5//pressure drop in model\n",
"P_drop_p=(P_drop_m*rho_p*(v_p)^2)/(rho_m*(v_m)^2)//pressure drop in prototype\n",
"printf('\n pressure drop in prototype P_drop_p=%f Pa',P_drop_p);"
   ]
   }
,
{
		   "cell_type": "markdown",
		   "metadata": {},
		   "source": [
			"## Example 21.7: reynolds_number.sce"
		   ]
		  },
  {
"cell_type": "code",
	   "execution_count": null,
	   "metadata": {
	    "collapsed": true
	   },
	   "outputs": [],
"source": [
"clc;\n",
"//Example 21.7\n",
"//Page no 284\n",
"printf('Example 21.7 page no 284\n\n');\n",
"// water is flowing through a 3/8 in schedule 40 brass pipe\n",
"D=0.0411//diameter of pipe,ft\n",
"S=0.00133//cross section area of pipe,ft^2\n",
"meu=6.598e-4//viscosity of water from table A.4 in the appendix,lb/ft.s\n",
"rho=62.4//density,lb/ft^3\n",
"q_gpm=2//vol.flow rate \n",
"q=q_gpm*0.00228//volumatric flow rate in ft^3s\n",
"v=q/S//velocity of fluid\n",
"printf('\n veloctiy of fluid v=%f ft/s',v);\n",
"R_e=D*v*rho/meu//reynolds no.\n",
"printf('\n reynolds no R_e=%f ',R_e);"
   ]
   }
,
{
		   "cell_type": "markdown",
		   "metadata": {},
		   "source": [
			"## Example 21.8: reynolds_number.sce"
		   ]
		  },
  {
"cell_type": "code",
	   "execution_count": null,
	   "metadata": {
	    "collapsed": true
	   },
	   "outputs": [],
"source": [
"clc;\n",
"//Example 21.8\n",
"//page no 285\n",
"printf('Example 21.8 page no 285\n\n');\n",
"//water flowing through a pipe\n",
"rho=62.4//density of water,lb/ft^3\n",
"meu=6.72e-4//viscosity of water,lb/ft.s\n",
"q_1gpm=1.5//vol. flow rate in gpm\n",
"q_2gpm=6//vol. flow rate in gpm \n",
"D_1=0.493//internal diameter of 3/8 in schdule pipe\n",
"v11=(0.409*q_1gpm)/(D_1^2)//flow velocity for an 3/8 in pipe with 1.5 gpm flow rate  \n",
"v12=(0.409*q_2gpm)/(D_1^2)//flow velocity for an 3/8 pipe with 6 gpm flow\n",
"R_e11=D_1*v11*rho/meu//reynolds no for case 11\n",
"R_e12=D_1*v12*rho/meu//reynolds no for case 12\n",
"printf('\n reynolds no R_e11=%f\n reynolds no R_e12=%f  ',R_e11,R_e12);//printing mistake in book\n",
"D_2=0.622//internal diameter of  1/2 in schdule pipe \n",
"v21=(0.409*q_1gpm)/D_2^2//flow velocity for 1/2 pipe with 1.5 gpm\n",
"v22=(0.409*q_2gpm)/D_2^2//flow velocity for 1/2 pipe with 6 gpm\n",
"R_e21=D_2*v21*rho/meu//reynolds no for case 21\n",
"R_e22=D_2*v22*rho/meu//reynolds no foe case 22\n",
"printf('\n reynolds no R_e21=%f\n reynolds no R_e22=%f',R_e21,R_e22);\n",
"//printing mistake in value of R_e"
   ]
   }
,
{
		   "cell_type": "markdown",
		   "metadata": {},
		   "source": [
			"## Example 21.9: pressure_drop.sce"
		   ]
		  },
  {
"cell_type": "code",
	   "execution_count": null,
	   "metadata": {
	    "collapsed": true
	   },
	   "outputs": [],
"source": [
"clc;\n",
"//Example 21.9 page no 286\n",
"printf('Example no 21.9 page no 286\n\n');\n",
"//water is flowing in a vertical pipe \n",
"//assume constant velocity \n",
"P_drop=-4.5//pressure drop from bottom to top\n",
"rho=62.4 //density of water \n",
"z2=15//height of pipe\n",
"z1=0//bottom level\n",
"//applying bernoulli equation \n",
"h_f=(P_drop/rho)+(z2-z1)//frictional loss \n",
"printf('\n frictional loss h_f=%f ft.lbf/lb ',h_f)"
   ]
   }
],
"metadata": {
		  "kernelspec": {
		   "display_name": "Scilab",
		   "language": "scilab",
		   "name": "scilab"
		  },
		  "language_info": {
		   "file_extension": ".sce",
		   "help_links": [
			{
			 "text": "MetaKernel Magics",
			 "url": "https://github.com/calysto/metakernel/blob/master/metakernel/magics/README.md"
			}
		   ],
		   "mimetype": "text/x-octave",
		   "name": "scilab",
		   "version": "0.7.1"
		  }
		 },
		 "nbformat": 4,
		 "nbformat_minor": 0
}
