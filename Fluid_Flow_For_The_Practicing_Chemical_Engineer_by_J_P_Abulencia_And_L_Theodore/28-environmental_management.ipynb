{
"cells": [
 {
		   "cell_type": "markdown",
	   "metadata": {},
	   "source": [
       "# Chapter 28: environmental management"
	   ]
	},
{
		   "cell_type": "markdown",
		   "metadata": {},
		   "source": [
			"## Example 28.10: compliance_stack_test.sce"
		   ]
		  },
  {
"cell_type": "code",
	   "execution_count": null,
	   "metadata": {
	    "collapsed": true
	   },
	   "outputs": [],
"source": [
"clc;\n",
"//Example 28.10\n",
"//page no 438\n",
"printf('Example 28.10 page no 438\n\n');\n",
"// a compliance stack test on a facility yields the results ,we have to determine whether the incineratormeets the state particulate standard of 0.05 gr/dscf\n",
"g=9.807//grav. acc\n",
"rho_l=1000//density of manometer fluid,kg/m^3\n",
"rho=1.084//density of flue gas,kg/m^3\n",
"C=0.85//pitot tube constant \n",
"h=0.3772//mean pitot tube reading ,in H2O\n",
"m=0.16//mass of particulate collected ,g\n",
"V=35//volume sampled,dscf\n",
"C_p=m*15.43/V//partculate concentration,gr/dscf\n",
"printf('\n particulate con. C_p=%f gr/dscf',C_p);\n",
"//since this does not exceed the particulate standard of 0.05 gr/dscf,the facility is not in compliance\n",
"//the stack flow rate is calculated from the velocity measurement\n",
"v=C*sqrt(2*g*(rho_l/rho)* 0.0254*h)/.3048//velocity\n",
"printf('\n velocity v=%f fps',v);\n",
"D=2//diameter of stack,ft\n",
"v_s=(v*%pi*D^2/4)*60//stack flow rate \n",
"printf('\n stack flow rate v_s=%f acfm',v_s);\n",
"w_mo=0.07//% moisture in stack gas\n",
"v_dry=(1-w_mo)*v_s//dry volumetric flow rate \n",
"//correct to standard conditions of  70 deg F and 1 atm\n",
"T_s=530// standard temprature deg R\n",
"P_s=29.9//standard pressure,psi\n",
"P_g=29.6//pressure of stack gas,psi\n",
"T_g=600//temprature of standard gas,deg R\n",
"q_s=v_dry*(T_s/T_g)*(P_g/P_s)//standard volumetric flow rate\n",
"printf('\n standard volumetric flow rate q_s=%f dscfm',q_s) \n",
"R_e=C_p*q_s*(1440/7000)//particulate emission rate\n",
"printf('\n particulate emmision rate R_e=%f lb/day',R_e);\n",
"w_co2=0.14//percentage of co2 by volume\n",
"w_N2=0.79//percentage of N2 by volume\n",
"mw_o=32//molecular weight of oxygen\n",
"mw_co2=44//molecular weight of co2\n",
"mw_N2=28//molecular weight of N2\n",
"MW_d=w_mo*mw_o + w_co2*mw_co2 +w_N2*mw_N2//molecular weight of flue gas on dry basis\n",
"printf('\n mol. weight of flue gas on dry basis MW_d=%f lb/lbmol',MW_d);\n",
" \n",
""
   ]
   }
,
{
		   "cell_type": "markdown",
		   "metadata": {},
		   "source": [
			"## Example 28.3: cement_dust_emitting_source.sce"
		   ]
		  },
  {
"cell_type": "code",
	   "execution_count": null,
	   "metadata": {
	    "collapsed": true
	   },
	   "outputs": [],
"source": [
"clc;\n",
"//Example 28.3\n",
"//page no 430\n",
"printf('Example 28.3 page no 430\n\n');\n",
"//we have to determine the minimum distance downstream from a cement dust emitting  source that will be free of cement deposit \n",
"//the souce is equipped with a cyclone located 150 ft above ground level \n",
"//neglect meteorological aspects\n",
"h=150//cyclone height from ground level,ft\n",
"v_w=3/3600//wind velocity,miles/second\n",
"SG=1.96//specific gravity of cement dust\n",
"rho_w=62.4//density of water,lb/ft^3\n",
"rho_p=SG*rho_w///density cement particles\n",
"//applying ideal gas law for density of air\n",
"P=1//pressure,atm\n",
"M= 29//mol. weight of air\n",
"R=0.73//gas constant \n",
"T=520//temperature,Rankine\n",
"rho_a=P*M/(R*T)//density of air \n",
"meu=1.22e-5//viscosity of air,lb/ft.s\n",
"g=32.174//grav. acc.\n",
"d_p=2.5/(25400*12)//particle diameter,ft\n",
"K = d_p*(g*rho_p*rho_a/(meu^2))^(1/3)//settling factor\n",
"printf('\n settling factor K=%f ',K);\n",
"//since K=0.103<3.3,sokes law rane applies\n",
"v= g*d_p^2*rho_p/(18*meu)//terminal settling velocity)\n",
"printf('\nsettling velocity v=%f ft/s',v);\n",
"t=h/v//time for desent\n",
"printf('\n desent time t=%f sec',t);\n",
"x=v_w*t//horizontal distance travelled in miles\n",
"printf('\n minimum horizontal distance x=%f miles',x);//printing mistake in book"
   ]
   }
,
{
		   "cell_type": "markdown",
		   "metadata": {},
		   "source": [
			"## Example 28.4: filter_system.sce"
		   ]
		  },
  {
"cell_type": "code",
	   "execution_count": null,
	   "metadata": {
	    "collapsed": true
	   },
	   "outputs": [],
"source": [
"clc;\n",
"//Example 28.4\n",
"//page no 432\n",
"printf('Example 28.4 page  no 432\n\n');\n",
"//it is proposed to install a pulse jet fabric filter system to clean an air stream containing particulate pollutants\n",
"//we have to select the most apporpriate filter beg fabric \n",
"q_scfm=10000//volumetric flow rate of polluted air stream at 60 deg F ,1 atm\n",
"T=520//temperature,R\n",
"T_o=710//operating temparature ,R\n",
"q_acfm=q_scfm*(T_o/T)//flow rate in acfm\n",
"v_f=2.5//filteration velocity,ft/min\n",
"S_c=q_acfm/v_f//filtering beg area\n",
"printf('\n filtering beg area S_c=%f ft^2',S_c);\n",
"//(1) for bag A ,the area and N number of bags are\n",
"D_a=8/12//diamter,ft\n",
"H_a=16//height,ft\n",
"S_a =%pi*D_a*H_a//area\n",
"N_a= round(S_c/S_a)//no. of bags  \n",
"printf('\n area S_a=%f ft^2\n number og bags N_a=%f ',S_a,N_a);\n",
"//(2) for bag B\n",
"D_b=10/12//diameter,ft\n",
"H_b=16//height,ft\n",
"S_b=%pi*D_b*H_b//area\n",
"N_b=round(S_c/S_b)//no. of bags\n",
"printf('\n area S_b=%f ft^2\n no. of bags N_b=%f ',S_b,N_b);\n",
"//total cost for each bag\n",
"//for bag A\n",
"c_a=26//cost per bag\n",
"TC_a=round(N_a*c_a)//total cost for A bag\n",
"printf('\n total cost TC_a=%f $',TC_a);\n",
"//for bag B\n",
"c_b=38//cost per bag\n",
"TC_b=N_b*c_b//total cost for bag B\n",
"printf('\n total cost TC_b=%f $',TC_b);\n",
"//since the total cost for bag A is less than bag B,select bag A"
   ]
   }
,
{
		   "cell_type": "markdown",
		   "metadata": {},
		   "source": [
			"## Example 28.5: fabric_system.sce"
		   ]
		  },
  {
"cell_type": "code",
	   "execution_count": null,
	   "metadata": {
	    "collapsed": true
	   },
	   "outputs": [],
"source": [
"clc;\n",
"//Example 28.5\n",
"//page no 433\n",
"printf('\n Example 28.5 page no 433\n\n');\n",
"//we have to determine the number if filtering bags required and cleaning frequency for a plant equipped with a fabric system\n",
"q=50000//volumetric flow rate of gas stream,acfm\n",
"v_f=10//filteration velocity,ft/min\n",
"D=1//diameter of filtering bag,ft\n",
"L=15//length of filtering bag,ft\n",
"S_c=q/v_f//filtering area,ft^2\n",
"S=%pi*D*L//area per bag,ft^2\n",
"N=S_c/S//no. of bags\n",
"printf('\n no. of bags N=%f ',N);\n",
"c=0.0007143//dust concentration ,lb/ft^2\n",
"P_drop=8//pressure drop ,in H20\n",
"t=(P_drop-(0.2*v_f))/(5*c*v_f^2)//time sic ethe bags were cleaned\n",
"printf('\n time t=%f min',t);"
   ]
   }
,
{
		   "cell_type": "markdown",
		   "metadata": {},
		   "source": [
			"## Example 28.6: manning_equation.sce"
		   ]
		  },
  {
"cell_type": "code",
	   "execution_count": null,
	   "metadata": {
	    "collapsed": true
	   },
	   "outputs": [],
"source": [
"clc;\n",
"//Example 28.6\n",
"//page no 434\n",
"printf('Example 28.6 page no 434\n\n');\n",
"//comparison between flow in pipes and open channel flow\n",
"//water is passing through a trapezodial channel\n",
"l_b=20//length of bottom base,ft\n",
"l_t=50//length of top base,ft\n",
"h=7.5//height of channel,ft\n",
"A = (l_b+ l_t)*(h/2)//cross sectional area\n",
"P = l_b +sqrt(h^2+ (2*h)^2)//perimeter of trapezoid\n",
"r_h=A/P//hydrulic radius\n",
"S=0.0008//coeff. in manning equation\n",
"n=0.02//coeff. in manning eq.\n",
"q = 1.486*A*r_h^(2/3)*S^(1/2)/n//manning equation to determine flow rate\n",
"printf('\n volumetric flow rate q=%f ft^3/s',q);"
   ]
   }
,
{
		   "cell_type": "markdown",
		   "metadata": {},
		   "source": [
			"## Example 28.7: a_watershed.sce"
		   ]
		  },
  {
"cell_type": "code",
	   "execution_count": null,
	   "metadata": {
	    "collapsed": true
	   },
	   "outputs": [],
"source": [
"clc;\n",
"//Example 28.7\n",
"//page no 435\n",
"printf('\n Example 28.7 page no 435\n\n')\n",
"//waste water treatment plant \n",
"//we have  to compare the total nitrogen discharge from the watershed with that of the city 's sewage treatment plant\n",
"q_w=10//flow rate from waste water treatment plant\n",
"c=35//nitoren concentration,mg/l\n",
"m_dot_w=c*q_w*8.34//discharge   from the treatment plant\n",
"printf('\n fdischarge from the treatment plant m_dot_w=%f lb/day',m_dot_w);\n",
"S=8//area of watershed,mi^2 \n",
"r=0.06//rate of rainfall,ml/day\n",
"n=.5//50% rain reaches the sewers\n",
"q=n*r*S*(5280^2/(3600*12))//volumetric flow rate of the runoff\n",
"c_r=9//tota; nitrogen conentration in runoff,mg/l\n",
"rho=62.4///density of water\n",
"m_r=q*c_r*1e-6*(3600*24)*rho//total nitrogen discharge  from runoff\n",
"printf('\n total nitrogen discharge m_r=%f lb/day ',m_r);\n",
" //since the durinf rain ,the runoff is over 2.5 times that for the tratment plant"
   ]
   }
,
{
		   "cell_type": "markdown",
		   "metadata": {},
		   "source": [
			"## Example 28.8: aerobic_digester.sce"
		   ]
		  },
  {
"cell_type": "code",
	   "execution_count": null,
	   "metadata": {
	    "collapsed": true
	   },
	   "outputs": [],
"source": [
"clc;\n",
"//Example 28.8\n",
"//page no 436\n",
"printf('Example 28.8 page no 436\n\n');\n",
"//we have to determine the siaze an aerobic digester to treat the solids \n",
"m=1000//mass of solid that is generate by municipality,lb\n",
"OL=0.2//organic loading,lbcs/ft^3.day\n",
"VS=.78//volatile solids\n",
"V_ol=m*VS/OL//volume based on organic loading\n",
"printf('\n volume based on organic loading V_ol=%f ft^3',V_ol);\n",
"t_h=20//detention time hydraulic, days\n",
"TS=0.044//percentage solids enterning digester\n",
"V_hl=m*t_h/(TS*8.33*7.48)//volume based on hydrulic load\n",
"printf('\n volume based on hyraulic load V_hl=%f ft^3',V_hl);\n",
"//since V_hl >V_ol,the hdraulic time controls and the design volume is V_hl"
   ]
   }
,
{
		   "cell_type": "markdown",
		   "metadata": {},
		   "source": [
			"## Example 28.9: deep_caver.sce"
		   ]
		  },
  {
"cell_type": "code",
	   "execution_count": null,
	   "metadata": {
	    "collapsed": true
	   },
	   "outputs": [],
"source": [
"clc;\n",
"//Example 28.9\n",
"//page no 437\n",
"printf('Example 28.9 page no 437\n\n');\n",
"//a large deep cavern has been proposed as an ultimate disposal site for both solid hazardous and municipal wastes\n",
"V_c=0.78//approximate total volume of cavern,mi^2\n",
"V_s=.75//% volume availiable for solid waste depositry \n",
"V=V_c*V_s*(5280)^3//volume of the cavern availible for the solid waste ,factor 5280 to convert mi^3 into ft^3\n",
"printf('\n volume of cavern availible for solid waste V=%f ft^3',V)\n",
"r=20000//proposed maximum waste feed rate to cavern ,lb/day\n",
"rho=30//average bulk density,lb/ft^3\n",
"q=(r/rho)*(6*52)//volume rate of solid deposited within the cavern in ft^3/year\n",
"printf('\n q=%f ',q);\n",
"t=V/q//time to fill the cavern\n",
"printf('\n time to fill the cavern t=%f year',t);\n",
" "
   ]
   }
],
"metadata": {
		  "kernelspec": {
		   "display_name": "Scilab",
		   "language": "scilab",
		   "name": "scilab"
		  },
		  "language_info": {
		   "file_extension": ".sce",
		   "help_links": [
			{
			 "text": "MetaKernel Magics",
			 "url": "https://github.com/calysto/metakernel/blob/master/metakernel/magics/README.md"
			}
		   ],
		   "mimetype": "text/x-octave",
		   "name": "scilab",
		   "version": "0.7.1"
		  }
		 },
		 "nbformat": 4,
		 "nbformat_minor": 0
}
