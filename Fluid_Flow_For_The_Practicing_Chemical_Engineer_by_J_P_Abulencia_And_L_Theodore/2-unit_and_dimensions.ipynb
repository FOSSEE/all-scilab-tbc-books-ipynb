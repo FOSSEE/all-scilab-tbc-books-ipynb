{
"cells": [
 {
		   "cell_type": "markdown",
	   "metadata": {},
	   "source": [
       "# Chapter 2: unit and dimensions"
	   ]
	},
{
		   "cell_type": "markdown",
		   "metadata": {},
		   "source": [
			"## Example 2.1: some_basic_conversion.sce"
		   ]
		  },
  {
"cell_type": "code",
	   "execution_count": null,
	   "metadata": {
	    "collapsed": true
	   },
	   "outputs": [],
"source": [
"//Example 2.1(1) \n",
"//Page no.10\n",
"printf('Example 2.1(1) Page no. 10\n\n')\n",
"//convert 8.03 yr to seconds\n",
"printf('8.03 yr =a\n\n')\n",
"yr=365//day\n",
"day=24//h\n",
"h=60//min\n",
"min=60//second\n",
"a=8.03*365*24*60*60\n",
"printf('8.03 yr is %f seconds \n\n',a)\n",
"//Example 2.1(2)\n",
"//Page no. 10\n",
"printf('Example 2.1(2) Page no.10\n\n')\n",
"//convert 150 mile/h to yard/h\n",
"printf('150 mile/h =x\n\n')\n",
"mile=5280//ft\n",
"ft=(1/3)//yd\n",
"x=150*5280*(1/3)\n",
"printf('150 mile/h is %f yd/h\n',x)\n",
"//Example 2.1(3)\n",
"//Page no. 10\n",
"printf('Example 2.1(3) Page no. 10\n\n')\n",
"//convert 100 m/s^2 to ft/min^2\n",
"printf('100 m/s^2 =a\n\n')\n",
"m =100//cm\n",
"cm=(1/30.48)//ft\n",
"min=60//sec\n",
"a=100*100*(1/30.48)*(60)^2\n",
"printf('100 m/s^2 is %f ft/min^2\n',a)\n",
"//Example 2.1(4)\n",
"//Page no. 10\n",
"printf('Example 2.1(4) Page no.10\n\n ')\n",
"//convert 0.03g/cm^3 to lb/ft^3\n",
"printf('0.03g/cm^3 =x\n')\n",
"g=(1/454)//lb\n",
"ft=(30.48)^3//cm^3\n",
"x=0.03*(1/454)*(30.48)^3\n",
"printf('0.03g/cm^3 is %f lb/ft^3\n',x)"
   ]
   }
],
"metadata": {
		  "kernelspec": {
		   "display_name": "Scilab",
		   "language": "scilab",
		   "name": "scilab"
		  },
		  "language_info": {
		   "file_extension": ".sce",
		   "help_links": [
			{
			 "text": "MetaKernel Magics",
			 "url": "https://github.com/calysto/metakernel/blob/master/metakernel/magics/README.md"
			}
		   ],
		   "mimetype": "text/x-octave",
		   "name": "scilab",
		   "version": "0.7.1"
		  }
		 },
		 "nbformat": 4,
		 "nbformat_minor": 0
}
