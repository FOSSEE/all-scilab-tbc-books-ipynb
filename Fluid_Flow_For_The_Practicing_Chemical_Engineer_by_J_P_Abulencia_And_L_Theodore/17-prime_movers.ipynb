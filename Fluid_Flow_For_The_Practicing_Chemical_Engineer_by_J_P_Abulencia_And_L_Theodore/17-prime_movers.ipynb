{
"cells": [
 {
		   "cell_type": "markdown",
	   "metadata": {},
	   "source": [
       "# Chapter 17: prime movers"
	   ]
	},
{
		   "cell_type": "markdown",
		   "metadata": {},
		   "source": [
			"## Example 17.1: fan_law.sce"
		   ]
		  },
  {
"cell_type": "code",
	   "execution_count": null,
	   "metadata": {
	    "collapsed": true
	   },
	   "outputs": [],
"source": [
"clc;\n",
"//Example 17.1\n",
"//page no 201\n",
"printf('Example 17.1 page no 201\n\n');\n",
"//fan are operating for transporting gas\n",
"//two fans fan(a)and fan(b)\n",
"D_a=46//diameter of blade of fan (a)\n",
"rpm_a=1575//operating speed of fan(a)\n",
"D_b=42//diameter of blade of fan(b)\n",
"rpm_b=1625//operating speed of fan(b)\n",
"h_p_a=47.5//power requirement of fan (a)\n",
"h_p_b=(rpm_b^3/rpm_a^3)*(D_b/D_a)^5*h_p_a//power requirement of fan(b)\n",
"printf('\n power requirement h_p_b=%f bhp',h_p_b);"
   ]
   }
,
{
		   "cell_type": "markdown",
		   "metadata": {},
		   "source": [
			"## Example 17.2: fan_operating.sce"
		   ]
		  },
  {
"cell_type": "code",
	   "execution_count": null,
	   "metadata": {
	    "collapsed": true
	   },
	   "outputs": [],
"source": [
"clc;\n",
"//Example 17.2\n",
"//page no 201\n",
"printf('Example 17.2 page no 201\n\n');\n",
"rpm=1694//speed of fan \n",
"q=12200//flow rate of q_a\n",
"rpm_n=2100//new speed of fan \n",
"q_n=q*(rpm_n/rpm)//new flow rate\n",
"printf('\nnew flow rate q_n=%f acfm',q_n);\n",
"//applyingeq 17.5\n",
"P=5//pressure ,in\n",
"P_n=P*(rpm_n^2/rpm^2)//new pressure\n",
"printf('\nnew pressureP_n=%f in H20',P_n);\n",
"//required power is calculated using eq. 17.6\n",
"hp=9.25//power at 1694 speed\n",
"hp_n=hp*(rpm_n^3/rpm^3)//new power required\n",
"printf('\n new powerhp_n=%f bhp',hp_n);\n",
""
   ]
   }
,
{
		   "cell_type": "markdown",
		   "metadata": {},
		   "source": [
			"## Example 17.3: gas_stream.sce"
		   ]
		  },
  {
"cell_type": "code",
	   "execution_count": null,
	   "metadata": {
	    "collapsed": true
	   },
	   "outputs": [],
"source": [
"clc;\n",
"//Example 17.3\n",
"//page no. 201\n",
"printf('\Example 17.3 page no 201\n\n');\n",
"// a gas stream in a process\n",
"P_l_m=4.4// minor pressure loss for duct work,valves etc,in\n",
"P_l_mz=6.4//major pressure loss due to pieces of equipment,in\n",
"P_drop=P_l_m+P_l_mz//total pressure drop\n",
"printf('\n total pressure P_drop=%f in H20',P_drop);\n",
"//applying eq 17.7\n",
"q=6500//flow rate ,acfm\n",
"neta=0.63//overall fan-motor effficiency \n",
"bhp=1.575e-4*q*P_drop/neta//brake horse power required\n",
"//1.575e-5 is aconversion factor for horse power\n",
"printf('\n brake horse power bhp=%f bhp',bhp);"
   ]
   }
,
{
		   "cell_type": "markdown",
		   "metadata": {},
		   "source": [
			"## Example 17.4: pump_in_opeation.sce"
		   ]
		  },
  {
"cell_type": "code",
	   "execution_count": null,
	   "metadata": {
	    "collapsed": true
	   },
	   "outputs": [],
"source": [
"clc;\n",
"//Example 17.4\n",
"//page no 208\n",
"printf(' Example 17.4 page no 208\n\n');\n",
"//a pump is in process\n",
"//given: parabolic pump pressure flow \n",
"//P=a-b*q^2  equation\n",
"//a and  b calculate from conditions\n",
"a=25\n",
"b=5\n",
"//then equation becomes P=25-5*q^2\n",
"//pressure at 1m^3/s  flow rate\n",
"q=1//flow rate,m^3/s\n",
"P=a-b*q^2//pressure\n",
"printf('\n pressure P=%f kpa',P);"
   ]
   }
,
{
		   "cell_type": "markdown",
		   "metadata": {},
		   "source": [
			"## Example 17.6: centrifugal_pump.sce"
		   ]
		  },
  {
"cell_type": "code",
	   "execution_count": null,
	   "metadata": {
	    "collapsed": true
	   },
	   "outputs": [],
"source": [
"clc;\n",
"//Example 17.6\n",
"//page no 214\n",
"printf('\n Example 17.6 page no. 214\n\n');\n",
"//the total head developed by a centrifugal pump is given by a equation \n",
"//hc=42-0.0047*q^2\n",
"//the pump is to be used in a water flow system in which the pump head in feet of water is given by eq.\n",
"//hp=12+0.0198*q^2\n",
"//for cal. flow rate hc=hp\n",
"q=35//from condition hc=hp,gpm\n",
" hc=42-0.0047*q^2//total head\n",
" printf('\n total head hc=%f ft of water',hc);\n",
"rho=62.40//density\n",
"q_c=0.078//flow rate in cfs unit\n",
"m_dot=rho*q_c//mass flow rate\n",
"printf('\n m_dot mass flow rate =%f lb/s',m_dot);\n",
"W_dot=m_dot*hc//fluid power requirement can be calculated\n",
"printf('\n fluid power requirement W_dot=%f lbf.ft/s',W_dot);\n",
"neta=.6//efficiency\n",
"W_dot_hp=.32//fluid power requirement in hp\n",
"bhp=W_dot_hp/neta//brake horse power\n",
"printf('\n brake horse power bhp=%f bhp',bhp);"
   ]
   }
,
{
		   "cell_type": "markdown",
		   "metadata": {},
		   "source": [
			"## Example 17.8: power_requirement.sce"
		   ]
		  },
  {
"cell_type": "code",
	   "execution_count": null,
	   "metadata": {
	    "collapsed": true
	   },
	   "outputs": [],
"source": [
"clc;\n",
"//Example 17.8 \n",
"//page no 216\n",
"printf(' Example 17.8 page no 216\n\n');\n",
"//compressed air is to be employed in the nozzle\n",
"T1=520//temperature\n",
"P2=40//pressure\n",
"P1=14.7//atmosphric pressure\n",
"gamma=1.3//degree of freedom\n",
"R=1.987//gas constant\n",
"W_s=-(gamma*R*T1/(gamma-1))*[(P2/P1)^((gamma-1)/gamma)-1]//compreesd energy requirement \n",
"printf('\n energy requirement W_s=%f btu/lbmol of air',W_s);\n",
"hp=W_s*(7.5/29)*778//power\n",
"printf('\n power hp=%f ft .lbf/min',hp);"
   ]
   }
],
"metadata": {
		  "kernelspec": {
		   "display_name": "Scilab",
		   "language": "scilab",
		   "name": "scilab"
		  },
		  "language_info": {
		   "file_extension": ".sce",
		   "help_links": [
			{
			 "text": "MetaKernel Magics",
			 "url": "https://github.com/calysto/metakernel/blob/master/metakernel/magics/README.md"
			}
		   ],
		   "mimetype": "text/x-octave",
		   "name": "scilab",
		   "version": "0.7.1"
		  }
		 },
		 "nbformat": 4,
		 "nbformat_minor": 0
}
