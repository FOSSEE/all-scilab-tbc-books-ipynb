{
"cells": [
 {
		   "cell_type": "markdown",
	   "metadata": {},
	   "source": [
       "# Chapter 3: key terms and definitions"
	   ]
	},
{
		   "cell_type": "markdown",
		   "metadata": {},
		   "source": [
			"## Example 3.2: determine_the_rise_of_the_liquid_in_capillary_tube.sce"
		   ]
		  },
  {
"cell_type": "code",
	   "execution_count": null,
	   "metadata": {
	    "collapsed": true
	   },
	   "outputs": [],
"source": [
"clc;\n",
"//Example 3.2\n",
"//Page no. 25\n",
"printf('Example 3.2 Page no. 25\n\n')\n",
"//given temperature(T),pressure(P),capilLary tube diameter(D),water density(rho),contact angle(ththetaeta)\n",
"sigma=0.0712//surface tension (sigma)of water at 30 degree C temperature in appendix A.4\n",
"D=0.008\n",
"R=D/2\n",
"theta=0\n",
"g=9.807\n",
"rho=1000\n",
"printf('surface tension=%fN/m\n Radius=%fm\n theta=%fdegree\n g=%fm/s^2\n rho=%fkg/m^3\n',sigma,R,theta,g,rho)\n",
"h=(2*sigma*cos(0))/(rho*g*R)//height rise of the liquid\n",
"printf('height of liquid rise =%fm\n',h)"
   ]
   }
,
{
		   "cell_type": "markdown",
		   "metadata": {},
		   "source": [
			"## Example 3.3: find_diameter_of_glass_tube_for_the_capillary_height.sce"
		   ]
		  },
  {
"cell_type": "code",
	   "execution_count": null,
	   "metadata": {
	    "collapsed": true
	   },
	   "outputs": [],
"source": [
"clc;\n",
"//Example 3.3\n",
"//Page no. 26\n",
"printf('Example 3.3 Page no. 26\n\n')\n",
"//given at 30 degree temerature\n",
"//properties of water from appendix A.2 density(rho),surface tension(sigma)\n",
"rho=996\n",
"sigma=0.071\n",
"printf('rho=%f\kg/m^3\n surface tension (sigma)=%f N/m\n',rho,sigma)\n",
"theta=0//negligible angle of contact\n",
"g=9.807\n",
"h=0.001//less than one milimeter\n",
"printf('theta=%f degree \n g=%f m/s^2\n h=%f m\n',theta,g,h)\n",
"R=(2*sigma*cos(0))/(rho*g*h)//by capiilary rise equation\n",
"D=2*R\n",
"printf('R=%f m\n D=%f m\n',R,D)\n",
"//if the tube diameter is greater than 0.029075 mm, then the capillary rise will be less than 1mm"
   ]
   }
,
{
		   "cell_type": "markdown",
		   "metadata": {},
		   "source": [
			"## Example 3.4: EX3_4.sce"
		   ]
		  },
  {
"cell_type": "code",
	   "execution_count": null,
	   "metadata": {
	    "collapsed": true
	   },
	   "outputs": [],
"source": [
"clc;\n",
"//Example 3.4\n",
"//page no. 28\n",
"printf('Example 3.4 page no 28\n\n');\n",
"S=2//surface area ft^2\n",
"F=10//magnitude of force,lbf\n",
"theta=%pi/6//angle\n",
"F_p=F*cos(theta)//parallel comp. of force\n",
"printf('\n F_p=%f lbf',F_p);\n",
"F_n=F*sin(theta)//normal comp. of force\n",
"printf('\n F-n=%f lbf',F_n);\n",
"tou=F_p/S//shear stress\n",
"P=F_n/S//pressure\n",
"printf('\n tou=%f psf\n P=%f psf',tou,P);\n",
""
   ]
   }
,
{
		   "cell_type": "markdown",
		   "metadata": {},
		   "source": [
			"## Example 3.5: determine_the_potential_energy_of_water_for_10_meter_height.sce"
		   ]
		  },
  {
"cell_type": "code",
	   "execution_count": null,
	   "metadata": {
	    "collapsed": true
	   },
	   "outputs": [],
"source": [
"clc;\n",
"//Example 3.5\n",
"//Page no. 30\n",
"printf('Example 3.5 Page no. 30\n\n')\n",
"//determine potential energy of water \n",
"// given height,mass of water,g\n",
"m=1\n",
"g=9.8\n",
"Z1=0//at ground level\n",
"Z2=10//at 10 m above from ground level\n",
"printf('m=%f kg\n g=%f m/s^2\n Z1=%f m\n Z2=%f m\n',m,g,Z1,Z2)\n",
"PE1=m*g*Z1//potential energy at ground level\n",
"PE2=m*g*Z2//potential energy at 10m height\n",
"PE= PE2-PE1\n",
"printf('PE1=%fJ\n PE2=%fJ\n PE=%fJ\n',PE1,PE2,PE)"
   ]
   }
],
"metadata": {
		  "kernelspec": {
		   "display_name": "Scilab",
		   "language": "scilab",
		   "name": "scilab"
		  },
		  "language_info": {
		   "file_extension": ".sce",
		   "help_links": [
			{
			 "text": "MetaKernel Magics",
			 "url": "https://github.com/calysto/metakernel/blob/master/metakernel/magics/README.md"
			}
		   ],
		   "mimetype": "text/x-octave",
		   "name": "scilab",
		   "version": "0.7.1"
		  }
		 },
		 "nbformat": 4,
		 "nbformat_minor": 0
}
