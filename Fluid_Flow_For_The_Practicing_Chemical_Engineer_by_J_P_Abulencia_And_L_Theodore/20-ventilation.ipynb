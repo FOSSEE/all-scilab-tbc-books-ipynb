{
"cells": [
 {
		   "cell_type": "markdown",
	   "metadata": {},
	   "source": [
       "# Chapter 20: ventilation"
	   ]
	},
{
		   "cell_type": "markdown",
		   "metadata": {},
		   "source": [
			"## Example 20.2: diluent_volumetric_flow_rate.sce"
		   ]
		  },
  {
"cell_type": "code",
	   "execution_count": null,
	   "metadata": {
	    "collapsed": true
	   },
	   "outputs": [],
"source": [
"clc;\n",
"//Example 20.2\n",
"//page no 269\n",
"printf('\n Example 20.2 page no 269\n\n');\n",
"//ventilation required in an indoor work area where a toluene containing adhesive in a nanotechnology process is used.\n",
"//equation  for estimate the dilution air requirement \n",
"C_a=80e-6//concentration of toluene\n",
"q=3/8//volumatric flow rate, gal/h\n",
"v=0.4//adhesive contains 4 volume % toluene\n",
"S_g=0.87//specific gravity\n",
"printf('\n C_a concentration of toluene=%f \n q  volumatric flow rate q=%f gal/h \n S_g specific gravity=%f ',C_a,q,S_g);\n",
"//mass flow rate of toluene \n",
"m_dot_tol=q*v*S_g*(8.34)//factor 8.34 for lb\n",
"printf('\n mass flow rate m_dot-tol=%f lb/h',m_dot_tol);\n",
"m_dot_g=m_dot_tol*(454/60)//unit conversion of mass flow rate in g/min\n",
"printf('\n mass flow rate in g/min m_dot_g=%f g/min',m_dot_g);\n",
"M_w=92//molecular weight of toluene\n",
"n_dot_tol=m_dot_g/M_w//no. of gm moles of toluene/min\n",
"printf('\n no. of moles n_dot_tol=%f gmol/min',n_dot_tol);\n",
"//resultant toluene vapor volumatric flow rate q_tol is directly calculated from th eidal gas law\n",
"//applying ideal gas law\n",
"R=0.08206//gas constant \n",
"P=1//standard pressure\n",
"T=293//standard temperature\n",
"printf('\n R gas constant=%f atm.L/(gmol.K)\n T temperature=%f K\n P pressure =%f atm',R,T,P);\n",
"q_tol=n_dot_tol*R*T/P//toluene vapor volumatric flow rate \n",
"printf('\n toluene vapor vol. flow rate q_tol=%f L/min',q_tol);\n",
"q_tol=2.15//round off value\n",
"//the required diluent volumatric flow rtae\n",
"K=5//dimensionless mixing factor \n",
"q_dil=K*q_tol/(C_a)//diluent vol. flow rate\n",
"printf('\n diluent vol. flow rate q_dil=%f L/min',q_dil);"
   ]
   }
,
{
		   "cell_type": "markdown",
		   "metadata": {},
		   "source": [
			"## Example 20.3: limiting_reactant.sce"
		   ]
		  },
  {
"cell_type": "code",
	   "execution_count": null,
	   "metadata": {
	    "collapsed": true
	   },
	   "outputs": [],
"source": [
"clc;\n",
"//Example 20.3\n",
"//page no 270\n",
"printf('Example 20.3 page no 270 \n\n');\n",
"// a certain poorly ventilated room chemical stroage room has a ceiling fan\n",
"//inside this room bottle of iron(3) sulfide sits next to a bottle sulfuric acid  containg 1 lb H2SO4 in water\n",
"// an earthquake sends the botlles on the shelf crashing to the floor where bottles break and their contant mix and react to form iron(3) sulfate and hydrogen sulfide\n",
"//we have to calculate maximum H2S concentration that could be reached in the room\n",
"Mw_Fe2S3=208//mol. weight of Fe2S3\n",
"Mw_H2SO4=98//mol. weight of H2SO4\n",
"Mw_H2S=34//mol. weight of H2S\n",
"Mw_air=29//mol. weight of air\n",
"//balancing chemical reaction \n",
"// from the stiochiometric of the reaction ,sulfuric acid is the limiting reagent\n",
"// 0.030 lbmol of Fe2S3 is required to react with 0.010 lbmol of H2SO4\\n",
"v_r=1600//volume of room,ft^3\n",
"n_H2SO4=0.010// lbmol of H2SO4\n",
"Stoi_c_H2SO4=3//stoichiometric coeff. of H2SO4\n",
"Stoi_c_H2S=3//stoichiometric coeff. of H2S\n",
"n_H2S=n_H2SO4*(Stoi_c_H2S/Stoi_c_H2SO4)//lbmol of H2S\n",
"printf('\n lbmol of H2S n_H2S=%f lbmol',n_H2S);\n",
"m_H2S=n_H2S*Mw_H2S//conversion of moles into mass of H2S\n",
"printf('\n mass of H2S m_H2S=%f lb',m_H2S);\n",
"//at 32 degF and i atm pressure an ideal gas occupies 359 ft^3 volume then,at 51 deg F occupies\n",
"T_r=51//temperature of air in the room\n",
"T_st=32//standard temperature\n",
"v_st=359//standard volume\n",
"printf('\n stand. temperature T_st=%f F\n temperature of air in room T_r=%f F\n stand. volume v_st=%f ft^3',T_st,T_r,v_st); \n",
"V_a=v_st*(460+T_r)/(460+T_st)//volume of air\n",
"printf('\n volume of air at 51deg F V_a=%f ft^3',V_a);\n",
"//the final concentration of H2S in the room in ppm C_H2S\n",
"C_H2S=m_H2S*(V_a/Mw_air)*1e+6/(v_r)\n",
"printf('\n conc. of H2S in ppm C_H2S=%f ppm',C_H2S);"
   ]
   }
,
{
		   "cell_type": "markdown",
		   "metadata": {},
		   "source": [
			"## Example 20.4: vinyl_chloride_application.sce"
		   ]
		  },
  {
"cell_type": "code",
	   "execution_count": null,
	   "metadata": {
	    "collapsed": true
	   },
	   "outputs": [],
"source": [
"clc;\n",
"//Example 20.4\n",
"//Page no 271\n",
"printf('Example 20.4 page no 271\n\n');\n",
"//vinyl chloride application\n",
"//calculation of density by using ideal gas law\n",
"Mw=78//molecular weight of vinyl chloride\n",
"R=82.06//gas constant,cm^3.atm/mol.K \n",
"T=298//temperature,K \n",
"P=1//pressure ,atm\n",
"rho=P*Mw/(R*T)//density of vinyl chloride\n",
"printf('\n rho density of vinyl chloride=%f g/cm^3',rho);\n",
"//given\n",
"m_dot=10//mass flow rate,g/min\n",
"q=m_dot/rho//volumatric flow rate\n",
"printf('\n vol. flow rate q=%f cm^3/min',q);\n",
"q_acfm=0.1107//vol flow rate in acfm\n",
"//cal. the air flow rate in acfm q_air required to meet the 1.0 ppm constraint with the equation \n",
"q_air=q_acfm/1e-6\n",
"printf('\n vol.flow rate q_air=%f acfm',q_air);\n",
"S_factor=10//correct for mixing by employing a saftey factor\n",
"//apply saftey factor to calculate the actual air flow rate for dilution ventilation \n",
"q_dil=S_factor*q_air\n",
"printf('\n air flow rate for dilution q_dil=%f acfm',q_dil);\n",
"//now consider the local exhaust ventilation by first calculating the face area\n",
"H=30//height of hood,in\n",
"W=25//width of hood,in\n",
"S=H*W/144//surface area of hood ,ft^2\n",
"//the air flow rate in acfm q_air,exh required for a face velocity of 100 ft/min is then\n",
"v=100//face velocity,ft/min\n",
"q_exh=round(S*v)\n",
"printf('\n air flow rate q_exh=%f acfm',q_exh); \n",
""
   ]
   }
,
{
		   "cell_type": "markdown",
		   "metadata": {},
		   "source": [
			"## Example 20.7: ventilation_flow_rate.sce"
		   ]
		  },
  {
"cell_type": "code",
	   "execution_count": null,
	   "metadata": {
	    "collapsed": true
	   },
	   "outputs": [],
"source": [
"clc;\n",
"//Example 20.7\n",
"//page no 276\n",
"printf('\n Example 20.7 page no 276\n\n');\n",
"//refer to illustrative Example 20.5\n",
"//(1)\n",
"//we have to calculate minimum air ventilation flow rate into the room containing 10 ng/m^3 of a toxic chemical\n",
"//ng means nanograms\n",
"rV=250//chemical generated in the laboratory,ng/min\n",
"c_o=10//room containg toxic chemical of 10ng/m^3 \n",
"c=35//limit of chemical concentration,ng/m^3\n",
"//applicable modal in this case\n",
"//q_o(c_o-c) + rV  =V*dc/dt\n",
"//substituting gives\n",
"q_o=(-rV)/(c_o-c)//minimum air ventilation flow rate\n",
"printf('\n q_o min. air ventilation flow rate=%f m^3/min',q_o);\n",
"\n",
""
   ]
   }
,
{
		   "cell_type": "markdown",
		   "metadata": {},
		   "source": [
			"## Example 20.8: ventilation_air.sce"
		   ]
		  },
  {
"cell_type": "code",
	   "execution_count": null,
	   "metadata": {
	    "collapsed": true
	   },
	   "outputs": [],
"source": [
"clc;\n",
"//Example 20.8 page no 277\n",
"printf(' Example 20.8 page no 277\n\n');\n",
"//refer to example no 20.5 and 20.7\n",
"V=142//volume of room,m^3\n",
"q=12.1// flow rate of air,m^3/min\n",
"tou=V/q//time ,min\n",
"r=30//rate of generation of chemical,ng/min\n",
"k=r/V//ng/(m^3.min)\n",
"c_i=85//intial concentration in laboratory,ng/m^3\n",
"c_o=10//given concentration in room\n",
"c=20.7//final concentration in room\n",
"//by using  trial and error mthod we get \n",
"function y=f(t)\n",
"  y=c_i*(exp(-t/tou))+ (c_o+k*tou)*(1-exp(-t/tou)) - c\n",
"endfunction\n",
"t=fsolve(30,f);\n",
"//by using trail and error method we get\n",
"t=29\n",
"printf('\n t=%f min ',t);"
   ]
   }
],
"metadata": {
		  "kernelspec": {
		   "display_name": "Scilab",
		   "language": "scilab",
		   "name": "scilab"
		  },
		  "language_info": {
		   "file_extension": ".sce",
		   "help_links": [
			{
			 "text": "MetaKernel Magics",
			 "url": "https://github.com/calysto/metakernel/blob/master/metakernel/magics/README.md"
			}
		   ],
		   "mimetype": "text/x-octave",
		   "name": "scilab",
		   "version": "0.7.1"
		  }
		 },
		 "nbformat": 4,
		 "nbformat_minor": 0
}
