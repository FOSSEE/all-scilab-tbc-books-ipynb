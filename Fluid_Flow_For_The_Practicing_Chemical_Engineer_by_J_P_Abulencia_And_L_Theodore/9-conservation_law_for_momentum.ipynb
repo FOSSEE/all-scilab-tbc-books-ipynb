{
"cells": [
 {
		   "cell_type": "markdown",
	   "metadata": {},
	   "source": [
       "# Chapter 9: conservation law for momentum"
	   ]
	},
{
		   "cell_type": "markdown",
		   "metadata": {},
		   "source": [
			"## Example 9.1: the_force_required_to_hold_the_plate.sce"
		   ]
		  },
  {
"cell_type": "code",
	   "execution_count": null,
	   "metadata": {
	    "collapsed": true
	   },
	   "outputs": [],
"source": [
"clc;\n",
"//Example 9.1\n",
"//page no 87\n",
"printf('Example 9.1 page no 87\n\n');\n",
"//a horizontal water jet impinges on avertical plate\n",
"rho=62.4//density of water\n",
"v=100//horizontal velocity of water\n",
"q=0.5//flow rate\n",
"g=32.2//gravitational constant\n",
"printf('\n density rho=%f lb/ft^3\n horizontal velocity of water v=%f ft/s\n flow rate q=%f ft^3/s',rho,v,q);\n",
"M_in=(rho*q*v)/g//momentum rate of inlet water in the horizontal direction\n",
"printf('\n momentum rate M_in=%f lbf',M_in);\n",
"M_out=0//momentum rate of water out\n",
"F=M_out-M_in\n",
"printf('\n net horizontal force F=%f lbf',F);\n",
"//negative sign indicate that to hold the plate in place, a force must be exerted in a direction opposite to that of the water flow"
   ]
   }
,
{
		   "cell_type": "markdown",
		   "metadata": {},
		   "source": [
			"## Example 9.2: the_force_required_to_hold_the_bend_in_place_in_water.sce"
		   ]
		  },
  {
"cell_type": "code",
	   "execution_count": null,
	   "metadata": {
	    "collapsed": true
	   },
	   "outputs": [],
"source": [
"clc;\n",
"//Example 9.2\n",
"//page no 87\n",
"printf('Example 9.2 page no 87\n\n');\n",
"//a horizontal line carries saturated steam\n",
"//water is entrained by the steam,and line is bend\n",
"//select the control volume as the fluid in the bend and apply amass balance\n",
"//since m1_dot=m2_dot,v1=v2\n",
"m_dot=0.15//mass flow rate\n",
"V_in_x=420//velocity in horizontal x direction\n",
"V_out_x=0//velocity out ,horizontal direction\n",
"printf('mass flow rate m_dot=%f kg/s\n velocity in x direction V_in=%f m/s\n velocity out in  the x direction=%f=m/s',m_dot,V_in_x,V_out_x);\n",
"//applying linear horizontal balance in x direction\n",
"F_x=m_dot*V_out_x-m_dot*V_in_x//force in x-dir\n",
"printf('\n force F_x=%f N',F_x);\n",
"//the x-dir force acting on the 90 deg elbow therefore,F_x=+63 N\n",
"V_in_y=0//velocity in vertical in y direction\n",
"V_out_y=420//velocity out vertical in y direction\n",
"printf('velocity in y dir V_in_y=%f m/s\n velocity out y dir V_out_y=%f m/s',V_in_y,V_out_y);\n",
"F_y=m_dot*V_out_y-m_dot*V_in_y//force in y dir\n",
"printf('\n force in y dir F_y=%f N',F_y);\n",
"//y dir force is acting on the elbow is therefore F_y=-63 N\n",
"F_res=sqrt(F_x*F_x+F_y*F_y)//resultant force F_res\n",
"printf('\n resultant force F_res=%f N',F_res);\n",
"//this is the force required to hold the elbow"
   ]
   }
,
{
		   "cell_type": "markdown",
		   "metadata": {},
		   "source": [
			"## Example 9.3: maximum_flow_rate.sce"
		   ]
		  },
  {
"cell_type": "code",
	   "execution_count": null,
	   "metadata": {
	    "collapsed": true
	   },
	   "outputs": [],
"source": [
"clc;\n",
"//Example  9.3\n",
"//page no 88\n",
"printf('Example 9.3 page no 88\n\n');\n",
"//water flow in a pipe\n",
"rho=62.4//density of water \n",
"D=0.167//diameter of pipe\n",
"g=32.174//gravitational constant\n",
"M_dot_out=0//momentum out in x dir\n",
"F_x=5//foce in the x dir\n",
"printf('density  rho=%f lb/ft^3\n diameter D=%f ft\n momentum M_dot_out=%f lbf\n forc in x dir F_x=%f lbf',rho,D,M_dot_out,F_x);\n",
"M_dot_in=M_dot_out+F_x//momentum in \n",
"printf('\n momentum M_dot_in=%f lbf',M_dot_in);\n",
"S=(%pi*D^2)/4//surface area \n",
"printf('\n surface area S=%f ft^2',S);\n",
"v=sqrt((M_dot_in*g)/(rho*S))\n",
"printf('\n velocity =%f ft/s',v);\n",
"q=S*v//volumatric flow rate \n",
"m_dot=rho*q//mass flow rate\n",
"printf('\n volumatric flow rate q=%f ft^3/s\n mass flow rate m_dot=%f lb/s',q,m_dot);"
   ]
   }
,
{
		   "cell_type": "markdown",
		   "metadata": {},
		   "source": [
			"## Example 9.4: fire_hose.sce"
		   ]
		  },
  {
"cell_type": "code",
	   "execution_count": null,
	   "metadata": {
	    "collapsed": true
	   },
	   "outputs": [],
"source": [
"clc;\n",
"//Example 9.4\n",
"//page no 89 fig 9.2\n",
"printf('Example 9.4 page no 89 fig. 9.2\n\n\n');\n",
"//water is discharged through a fire hose\n",
"rho=1000//density of water \n",
"meu=0.001//viscosity of water\n",
"q=0.025//flow rate  at section 1\n",
"D1=.1//diameter at section 1\n",
"D2=.03//diameter at section 2\n",
"printf('\n density rho=%f kg/m^3\n viscosity meu=%3f kg/m.s\n volumatric flow rate q=%f m^3/s\n diametetr at section1 D1=%f m\n diameter at section2 D2=%f m',rho,meu,q,D1,D2);\n",
"S1=(%pi*D1^2)/4\n",
"S2=(%pi*D2^2)/4\n",
"printf('\n surface area at section 1 S1=%f m^2\n surface area at section 2 S2=%f m^2',S1,S2);\n",
"v1=q/S1//velocity at section1\n",
"v2=q/S2//velocity at section2\n",
"printf('\n velocity at sec1 v1=%f m/s\n velocity at sec2 v2=%f m/s',v1,v2);\n",
"//appuing bernoulli's equation between point 1 and 2\n",
"P2=0//pressure at point 2\n",
"P1=(rho/2)*(v2^2-v1^2)//pressure at point 1\n",
"printf('\n pressure at point2 P2=%f Pag(pascal gauge)\n pressure atpoint1 P1=%f Pag',P2,P1);\n",
"m_dot1=25//mass flow rate at section 1\n",
"m_dot2=25//mass flow rate at section 2\n",
"printf('\n mass flow rate m_dot1=%f kg/s\n mass flow rate m_dot2=%f kg/s',m_dot1,m_dot2);\n",
"M_dot1_x=m_dot1*v1//momentum rate in x dir at section 1\n",
"M_dot2_x=m_dot2*v2//momentum rate in x dir at section 2\n",
"printf('\n momentum rate M_dot1_x=%f N\n momentum rate M_dot2_x=%f N',M_dot1_x,M_dot2_x);\n",
"//applying momentum balance in the x direction\n",
"F_x=M_dot2_x-M_dot1_x-P1*S1//force from momentum balance\n",
"printf('\n force from momentum balance F_x=%f N',F_x);\n",
"\n",
"\n",
"\n",
"\n",
"\n",
""
   ]
   }
],
"metadata": {
		  "kernelspec": {
		   "display_name": "Scilab",
		   "language": "scilab",
		   "name": "scilab"
		  },
		  "language_info": {
		   "file_extension": ".sce",
		   "help_links": [
			{
			 "text": "MetaKernel Magics",
			 "url": "https://github.com/calysto/metakernel/blob/master/metakernel/magics/README.md"
			}
		   ],
		   "mimetype": "text/x-octave",
		   "name": "scilab",
		   "version": "0.7.1"
		  }
		 },
		 "nbformat": 4,
		 "nbformat_minor": 0
}
