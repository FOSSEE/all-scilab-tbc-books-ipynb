{
"cells": [
 {
		   "cell_type": "markdown",
	   "metadata": {},
	   "source": [
       "# Chapter 8: conservation law of energy"
	   ]
	},
{
		   "cell_type": "markdown",
		   "metadata": {},
		   "source": [
			"## Example 8.1: gas_flow_from_cooler.sce"
		   ]
		  },
  {
"cell_type": "code",
	   "execution_count": null,
	   "metadata": {
	    "collapsed": true
	   },
	   "outputs": [],
"source": [
"clc;\n",
"//Example 8.1\n",
"//page no 75\n",
"printf('Example 8.1 page no 75\n\n');\n",
"// heat is transferred from a gas \n",
"Cp=1090//average heat capacity of gas\n",
"M_dot=9//mass flow rate \n",
"T1=650//gas inlet temperature\n",
"//kinetic and potential enargy effects are neglected,there is no shaft work\n",
"Q=5.5e+6//heat transferred\n",
"delta_H=Q//since there are no kinetic,potential,and shaft work effects\n",
"printf('\n heat capacity Cp=%f J/kg.deg c\n mass flow rate M_dot=%f kg/s\n gas inlet temperature T1=%f deg c\n heat transferred Q=%f W',Cp,M_dot,T1,Q);\n",
"T2=round(-Q/(M_dot*Cp)) + T1\n",
"printf('\n  temperature T2=%f deg c ',T2);"
   ]
   }
,
{
		   "cell_type": "markdown",
		   "metadata": {},
		   "source": [
			"## Example 8.2: a_fluid_flow_device.sce"
		   ]
		  },
  {
"cell_type": "code",
	   "execution_count": null,
	   "metadata": {
	    "collapsed": true
	   },
	   "outputs": [],
"source": [
"clc;\n",
"//Example 8.2\n",
"//page no 77 fig 8.2\n",
"printf('Example 8.2 page no 77  fig 8.2 \n\n\n');\n",
"//fluid flow in a device\n",
"//fluid flow with in the control volume is steady\n",
"q1=8//flow rate at section 1,direction in\n",
"q2=6//flow rate at section 2, direction in\n",
"q3=14//flow rate at section 3,direction out\n",
"h1=250//enthalpy at section 1\n",
"h2=150//enthalpy at section 2\n",
"h3=200//enthalpy at section 3\n",
"rho=800//density of fluid\n",
"printf('\n flow rate q1=%f m^3/s\n flow rate q2=%f m^3/s\n flow rate q3=%f m^3/s\n enthalpy h1=%f j/kg\n enthalpy h2=%f j/kg\n enthalpy h3=%f j/kg\n density of fluid rho=%f kg/m^3',q1,q2,q3,h1,h2,h3,rho);\n",
"//applying total energy balance\n",
"hp=746//1 hp=746 kw\n",
"H=rho*(q1*h1+q2*h2-q3*h3)/hp\n",
"printf('\n enthalpy H=%f hp',H);\n",
"//for adiabatic steady operation, Q_dot=0\n",
"W_dot=H//W_dot is work \n",
"printf('\n work W_dot=%f hp',W_dot);\n",
"//since work is positive ,the surroundings must be doing work on the system through some device\n",
"\n",
""
   ]
   }
,
{
		   "cell_type": "markdown",
		   "metadata": {},
		   "source": [
			"## Example 8.5: a_cylindrical_tank.sce"
		   ]
		  },
  {
"cell_type": "code",
	   "execution_count": null,
	   "metadata": {
	    "collapsed": true
	   },
	   "outputs": [],
"source": [
"clc;\n",
"//Example 8.5\n",
"//page no 81 fig 8.3\n",
"printf(' Example 8.5 page no 81 fig 8.3\n\n\n');\n",
"//a cylindrical tank filled with water\n",
"//applying bernoulli equation\n",
"z1=9//elevation head at section 1\n",
"h2=1//height at section 2\n",
"D1=3//diameter of cylindrical tank \n",
"D2=.3//diameter of outlet hole of tank\n",
"g=9.807//gravitational acceleration\n",
"printf('\n elevation head at section 1 z1=%f m\n height at section h2=%f m\n diameter of cylindrical tank D1=%f m\n diameter of outlet hole of tank D2=%f m\n gravitational acc. g=%f m/s^2',z1,h2,D1,D2,g);\n",
"t=2*[(sqrt(z1)-sqrt(h2))/((sqrt(2*g))*(D2/D1)^2)]\n",
"printf('\n time t=%f sec',t);\n",
"x=-(D2/D1)^2//ratio of a/g\n",
"printf('\n  x=%f',x);\n",
"//for this example the maximum acceleration is 1% of g,therefore saftey use Bernoulli equation  \n",
"\n",
"\n",
"\n",
""
   ]
   }
],
"metadata": {
		  "kernelspec": {
		   "display_name": "Scilab",
		   "language": "scilab",
		   "name": "scilab"
		  },
		  "language_info": {
		   "file_extension": ".sce",
		   "help_links": [
			{
			 "text": "MetaKernel Magics",
			 "url": "https://github.com/calysto/metakernel/blob/master/metakernel/magics/README.md"
			}
		   ],
		   "mimetype": "text/x-octave",
		   "name": "scilab",
		   "version": "0.7.1"
		  }
		 },
		 "nbformat": 4,
		 "nbformat_minor": 0
}
