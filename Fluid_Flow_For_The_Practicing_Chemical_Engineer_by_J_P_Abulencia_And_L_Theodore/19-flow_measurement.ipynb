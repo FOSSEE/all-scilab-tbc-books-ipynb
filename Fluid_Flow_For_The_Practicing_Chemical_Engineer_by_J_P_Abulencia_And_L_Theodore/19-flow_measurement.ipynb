{
"cells": [
 {
		   "cell_type": "markdown",
	   "metadata": {},
	   "source": [
       "# Chapter 19: flow measurement"
	   ]
	},
{
		   "cell_type": "markdown",
		   "metadata": {},
		   "source": [
			"## Example 19.1: air_pressure_in_the_oil_tank.sce"
		   ]
		  },
  {
"cell_type": "code",
	   "execution_count": null,
	   "metadata": {
	    "collapsed": true
	   },
	   "outputs": [],
"source": [
"clc;\n",
"//Example 19.1\n",
"//page no. 246\n",
"printf('Example 19.1 page no 246\n\n');\n",
"//we have to find pressure at different point in a oil tank\n",
"//apply manometer equation between point 1 and 2\n",
"//since rho1=rho2,z1=z2\n",
"//it gives P1=P2\n",
"//applying manometer equation between points 2 and 3\n",
"rho_oil=0.8*1000//density of oil\n",
"//since rho3=rho_oil=rho2\n",
"rho3=rho_oil\n",
"z_32=.4//height difference between point 2 and 3\n",
"g=9.807//grav. acc.\n",
"P7=0//pressure at point 7,on gauge basis\n",
"z_76=0.8//height difference between point 6 and 7\n",
"rho_hg=13600//density of mercury\n",
"P6=P7 + rho_hg*g*z_76//pressure at point 6\n",
"P5=P6//pressure at point 5\n",
"rho_air=1.2//density of air\n",
"z_54=1//height difference between point 5 and 4\n",
"P4=P5 + rho_air*g*z_54//pressure at point 4 \n",
"P3=P4//pressure at point 3\n",
"P2=P3 + rho_oil*g*z_32//pressure at point 2\n",
"P1=P2//air pressure in the oil tank\n",
"printf('\n pressure P1=%f Pag',P1); "
   ]
   }
,
{
		   "cell_type": "markdown",
		   "metadata": {},
		   "source": [
			"## Example 19.2: pitot_tube.sce"
		   ]
		  },
  {
"cell_type": "code",
	   "execution_count": null,
	   "metadata": {
	    "collapsed": true
	   },
	   "outputs": [],
"source": [
"clc;\n",
"//Example 19.2\n",
"//page no 250\n",
"printf('Example 19.2 page no 250\n\n');\n",
"//pitot tube is located at the center line of a horizontal pipe transporting air\n",
"rho=0.075//density of gas ,lb/ft^2\n",
"h=0.0166667//height difference,ft\n",
"g=32.2//gravitational acc. lb/ft^2\n",
"rho_m=62.4//density of medium which is air\n",
"v=sqrt(2*g*h*(rho_m-rho)/rho)//velocity\n",
"printf('\n velocity v=%f ft/s',v);\n",
"v_max=v//because at that point where the reading was taken is the centerline\n",
"printf('\n maximum veocity v_max=%f ft/s',v_max);\n",
"//since the flowing fluid is air at a high velocity the flow has a high probability of being turbilent .from chapter 14,assume\n",
"//v_av/v_max=0.815\n",
"v_av=v_max*0.815\n",
"printf('\n average velocity v_av=%f ft/s',v_av);"
   ]
   }
,
{
		   "cell_type": "markdown",
		   "metadata": {},
		   "source": [
			"## Example 19.3: mass_flow_rate.sce"
		   ]
		  },
  {
"cell_type": "code",
	   "execution_count": null,
	   "metadata": {
	    "collapsed": true
	   },
	   "outputs": [],
"source": [
"clc;\n",
"//Example 19.3\n",
"//page no 251\n",
"printf('Example 19.3 page no 251\n\n');\n",
"//refer to example 19.3 \n",
"S=0.785//cross sectional area,ft^2\n",
"v_av=24.4//average velocity,ft/s\n",
"q=v_av*S*60//flow rate,factor 60 for minute\n",
"printf('\n flow rate q=%f ft^3 min',q);\n",
"rho=0.075//density \n",
"m_dot=q*rho*60//mass flow rate \n",
"printf('\n m_dot mass flow rate=%f lb/hr',m_dot);"
   ]
   }
,
{
		   "cell_type": "markdown",
		   "metadata": {},
		   "source": [
			"## Example 19.4: volumatric_flow_rate.sce"
		   ]
		  },
  {
"cell_type": "code",
	   "execution_count": null,
	   "metadata": {
	    "collapsed": true
	   },
	   "outputs": [],
"source": [
"clc;\n",
"//Example 19.4\n",
"//page no 251\n",
"printf('Example 19.4 page no\n\n')\n",
"//water flow ina circular pipe,a pitot tube is used to measure the water velocity \n",
"h=0.07//manometer height,m\n",
"rho=1000//density of water,kg/m^3\n",
"rho_m=13600//density of mercury,kg/m^3\n",
"g=9.807\n",
"v=sqrt(2*g*h*(rho_m-rho)/rho)\n",
"printf('\n water velocity v=%f m/s ',v);\n",
"D=0.0779//pipe inside diameter,by using table A.5 in the appendix for a 3 inch schedule 40 pipe\n",
"S=(%pi/4)*D^2\n",
"printf('/n cross sectional area S=%f m^2',S);\n",
"q=v*S//flow rate\n",
"printf('\n flow rate q=%f m^3/s',q);\n",
"meu=0.001//viscosity of water,kg/m.s\n",
"R_e=rho*v*D/meu//reynolds number\n",
"printf('\n reynolds no R_e=%f ',R_e);"
   ]
   }
,
{
		   "cell_type": "markdown",
		   "metadata": {},
		   "source": [
			"## Example 19.5: venturimeter.sce"
		   ]
		  },
  {
"cell_type": "code",
	   "execution_count": null,
	   "metadata": {
	    "collapsed": true
	   },
	   "outputs": [],
"source": [
"clc;\n",
"//Example 19.5\n",
"//page no 254\n",
"printf('Example 19.5 page no 254\n\n');\n",
"//a venturi meter has gasoline flowing through it.\n",
"h=0.035//height of venturi meter\n",
"D1=0.06//upsteeam diameter,m\n",
"D2=0.02//throat diameter,m\n",
"rho_m=13600//density of mercury\n",
"rho=680//density of gasoline\n",
"g=9.807\n",
"v2=sqrt((2*g*h*(rho_m-rho)/rho)/1-D2^4/D1^4)//velocity of gasoline at the the throat\n",
"printf('\n velocity at throat v2=%f m/s',v2);\n",
"q=(%pi/4)*D2^2*v2//flow rate\n",
"printf('\n flow rate q =%f m^3/s',q);\n",
"P1=101325//upstream pressure,Pa\n",
"P2=P1-g*h*(rho_m-rho)//pressure at throat P2\n",
"printf('\n pressure P2=%f Pa',P2);\n",
"P_d=P1-P2//pressure difference\n",
"P_l=.1*P_d//pressure loss is 10 %\n",
"printf('\n pressure loss P_l=%f Pa',P_l);\n",
"W_l=q*P_l//power loss\n",
"printf('\n power loss W_l=%f W',W_l);"
   ]
   }
,
{
		   "cell_type": "markdown",
		   "metadata": {},
		   "source": [
			"## Example 19.6: flow_rate.sce"
		   ]
		  },
  {
"cell_type": "code",
	   "execution_count": null,
	   "metadata": {
	    "collapsed": true
	   },
	   "outputs": [],
"source": [
"clc;\n",
"//Example 19.6\n",
"//page no. 255\n",
"printf('\n Example 19.6 page no. 255\n\n');\n",
"//refer to example 19.5\n",
"//if gasoline has vapor pressure of 50000Pa ,we have to calculate flow rate at whhich cavitation to occur\n",
"P1=101325//upstream pressure,Pa\n",
"P2=50000//given vapor pressure,Pa\n",
"D1=0.06//upstream diameter,m\n",
"D2=0.02//throat diameter,m\n",
"rho=680//density of gasoline\n",
"v2=sqrt((2*(P1-P2))/rho*(1-D2^4/D1^4))//velocity\n",
"printf('\n velocity v2=%f m/s',v2); \n",
"q=(%pi/4)*D2^2*v2//flow rate\n",
"printf('\n flow rate q=%f m^3/s',q);\n",
" "
   ]
   }
,
{
		   "cell_type": "markdown",
		   "metadata": {},
		   "source": [
			"## Example 19.7: orifice_meter.sce"
		   ]
		  },
  {
"cell_type": "code",
	   "execution_count": null,
	   "metadata": {
	    "collapsed": true
	   },
	   "outputs": [],
"source": [
"clc; \n",
"//Example 19.7\n",
"//page no 258\n",
"printf('Example 19.7 page no 258\n\n');\n",
"//an  orifice meter is equipped with flange top is installed to measure the flow rate of air in a circular duct\n",
"D1=0.25//diameter of circular duct,m\n",
"D2=0.19//orifice diamter,m\n",
"v2=4/(%pi*D2^2)//velocity through orifice\n",
"printf('\n velocity through orifice v2=%f m/s',v2);\n",
"C_o=1// assuming orifice discharge coefficient\n",
"rho=1.23//density of air,kg/m^3\n",
"P=rho*v2^2*[1-(D2^4/D1^4)]/2//pressure \n",
"printf('\n pressure P=%f Pa',P);\n",
"meu=1.8e-5// absolute viscosity\n",
"R_e=rho*v2*D2/(meu)//reynolds no.\n",
"printf('\n Reynolds no. R_e=%f ',R_e);\n",
"C_ac=0.62//actual discharge cefficient,from fig.19.8\n",
"P_ac=P/(C_ac)^2//actual pressure drop \n",
"P_rec=14*(D2/D1) + 80*((D2/D1)^2)//equation for percentage pressure recovery\n",
"P_loss=100-P_rec//precentage pressure loss\n",
"P_l=round((P_loss/100)*P_ac)//actual pressure  drop after recovery\n",
"printf('\n actual pressure drop P_l=%f Pa',P_l);\n",
""
   ]
   }
,
{
		   "cell_type": "markdown",
		   "metadata": {},
		   "source": [
			"## Example 19.9: orifice_pressure_drop.sce"
		   ]
		  },
  {
"cell_type": "code",
	   "execution_count": null,
	   "metadata": {
	    "collapsed": true
	   },
	   "outputs": [],
"source": [
"clc;\n",
"//Example 19.9\n",
"//page no 259\n",
"printf('\n Example 19.9 page no 259\n\n');\n",
"//air at ambient condition is flowing in a pipe\n",
"rho=0.075//density of air ,lb/ft^3\n",
"m_dot=0.5//mass flow rate ,lb/s\n",
"q=m_dot/rho//volumatric flow rate\n",
"printf('\n volumatric flow rate q=%f ft^3/s',q);"
   ]
   }
],
"metadata": {
		  "kernelspec": {
		   "display_name": "Scilab",
		   "language": "scilab",
		   "name": "scilab"
		  },
		  "language_info": {
		   "file_extension": ".sce",
		   "help_links": [
			{
			 "text": "MetaKernel Magics",
			 "url": "https://github.com/calysto/metakernel/blob/master/metakernel/magics/README.md"
			}
		   ],
		   "mimetype": "text/x-octave",
		   "name": "scilab",
		   "version": "0.7.1"
		  }
		 },
		 "nbformat": 4,
		 "nbformat_minor": 0
}
