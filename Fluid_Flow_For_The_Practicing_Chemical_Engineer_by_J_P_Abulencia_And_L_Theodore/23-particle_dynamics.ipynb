{
"cells": [
 {
		   "cell_type": "markdown",
	   "metadata": {},
	   "source": [
       "# Chapter 23: particle dynamics"
	   ]
	},
{
		   "cell_type": "markdown",
		   "metadata": {},
		   "source": [
			"## Example 23.1: aerodynamic_diameter.sce"
		   ]
		  },
  {
"cell_type": "code",
	   "execution_count": null,
	   "metadata": {
	    "collapsed": true
	   },
	   "outputs": [],
"source": [
"clc;\n",
"//Example 23.1 page no 323\n",
"printf('Example 23.1 page no 323\n\n');\n",
"//calculation of aerodynamic diameter for the following particles\n",
"d_es=1.4//equivalent dia of solid sphere,micrometer\n",
"sg_s=2//specific gravity of solid sphere\n",
"d_eh=2.8//equivalent diameter of hollow sphere, mirometer\n",
"sg_h=0.51//specific gravity of hollow sphere\n",
"d_pa1=d_es*sqrt(sg_s)//aerodynamic dia for solid sphere\n",
"d_pa2=round(d_eh*sqrt(sg_h))//aerodynamic dia for hollow sphere\n",
"printf('\n d_pa1=%f micron\nd_pa2=%f micron',d_pa1,d_pa2);"
   ]
   }
,
{
		   "cell_type": "markdown",
		   "metadata": {},
		   "source": [
			"## Example 23.2: aerodynamic_diameter.sce"
		   ]
		  },
  {
"cell_type": "code",
	   "execution_count": null,
	   "metadata": {
	    "collapsed": true
	   },
	   "outputs": [],
"source": [
"clc;\n",
"//Example 23.2 page no 323\n",
"printf('Example 23.2 page no 323\n\n');\n",
"//calculation of aerodynamic diameter of irregular saped sphere\n",
"d_e=1.3//eq. diameter,micron\n",
"sg=2.35\n",
"d_pa=d_e*sqrt(sg)//aerodynamic diameter\n",
"printf('\n aerodynamic diameter d_pa=%f micron',d_pa);"
   ]
   }
,
{
		   "cell_type": "markdown",
		   "metadata": {},
		   "source": [
			"## Example 23.3: cunningham_correction_factor.sce"
		   ]
		  },
  {
"cell_type": "code",
	   "execution_count": null,
	   "metadata": {
	    "collapsed": true
	   },
	   "outputs": [],
"source": [
"clc;\n",
"//Example 23.3 page no 335\n",
"printf('Example 23.3 page no 335\n\n');\n",
"//calculation of cunningham correction factor \n",
"dp=0.4//particle diameter\n",
"lemda=6.53e-2\n",
"A=1.257 + 0.40*exp(-1.10*dp/(2*lemda))\n",
"C= 1 + 2*A*lemda/dp//cunningham correction factor(CCF)\n",
"printf('CCF C=%f ',C);"
   ]
   }
,
{
		   "cell_type": "markdown",
		   "metadata": {},
		   "source": [
			"## Example 23.4: particle_terminal_velocity.sce"
		   ]
		  },
  {
"cell_type": "code",
	   "execution_count": null,
	   "metadata": {
	    "collapsed": true
	   },
	   "outputs": [],
"source": [
"clc;\n",
"//Example 23.4\n",
"//page no 336\n",
"printf('Example 23.4 page no 336\n\n');\n",
"//three different diameter sized fly ash particls settle through air \n",
"//we have to calculate the particle terminal velocity and determine how far each will fall in 30 seconds \n",
"//assume the particles are speherical \n",
"SG=2.31//specific gravity of fly ash\n",
"rho_w=62.4//density of water \n",
"rho_p=SG*rho_w//density of particles\n",
"//properties of air\n",
"R=0.7302//gas constant\n",
"T=698//temperature,R\n",
"P=1//pressure ,atm\n",
"Mw=29//mol. wt of air\n",
"rho_a=P*Mw/(R*T)//density of air,lb/ft^3\n",
"meu=1.41e-5//viscosity of air,lb/ft.s\n",
"g=32.174//grav. acc\n",
"D1=0.4//diameter of particle 1,microns\n",
"D2=40//diameter of particle 2,microns\n",
"D3=400//diameter of particle 3,microns\n",
"K1=(D1/(25400*12))*(g*rho_p*rho_a/(meu^2))^(1/3)//dimensionless constant for particle 1\n",
"K2=(D2/(25400*12))*(g*rho_p*rho_a/(meu^2))^(1/3)//dimensionless constant for particle 2\n",
"K3=(D3/(25400*12))*(g*rho_p*rho_a/(meu^2))^(1/3)//dimensionless constant for particle 3\n",
"printf('\n dimensionless constant K1=%f \n K2=%f \n K3=%f ',K1,K2,K3);\n",
"//first we determine which fluid particle dynamic law applies for the above values of K\n",
"//for particle 1,strokes law applies\n",
"//for particle 2,strokes law applies\n",
"//for particle 3,intermediate law applies\n",
"//terminal settling velocity for each particle\n",
"v1=(D1/(25400*12))^2*g*rho_p/(18*meu)\n",
"printf('\n terminal settling velocity for particle 1 v1=%f ft/s',v1);\n",
"v2=(D2/(25400*12))^2*g*rho_p/(18*meu)\n",
"printf('\n terminal settling velocity v2=%f ft/s',v2);\n",
"v3=(D3/(25400*12))^1.14*0.153*g^0.71*rho_p^0.71/(rho_a^0.29*meu^0.43)\n",
"printf('\n terminal settling velocity v3=%f ft/s ',v3);\n",
"//calculation of how far x,the fly ash particles will fall in 30 seconds\n",
"t=30//time,sec\n",
"x2=v2*t//distance travel by 2 particle\n",
"x3=v3*t//distance travel by 3 particle\n",
"printf('\n distance by 2 particle x2=%f ft\n distance by 3 particle x3=%f ft',x2,x3);\n",
"//for 1 particle K1 and v1 value are without the CCF.With the correction factor lemda=6.53e-8,gives\n",
"lemda=6.53e-8//correction factor\n",
"y=-1.10*(D1/(25400*12))/(2*lemda)\n",
"A =1.257 + 0.40*exp(y)\n",
"C=1 + 2*A*lemda/(D1/(25400*12))//cunningham correction factor(ccf)\n",
"//now equation 23.36 can be employed \n",
"v1_corrected=v1*C//corrected velocity of 1 particle\n",
"x1=v1_corrected*t//distance travel by 1 particle\n",
"printf('\n distance travel by 1 particle x1=%f ft',x1); "
   ]
   }
,
{
		   "cell_type": "markdown",
		   "metadata": {},
		   "source": [
			"## Example 23.5: size_of_fly_ash_particle.sce"
		   ]
		  },
  {
"cell_type": "code",
	   "execution_count": null,
	   "metadata": {
	    "collapsed": true
	   },
	   "outputs": [],
"source": [
"clc;\n",
"//Example 23.5\n",
"//page no 338\n",
"printf('\n Example 23.5 page no 338\n\n');\n",
"//refer to example 23.5\n",
"//we have to calculate size of a flyash particle that will settle with a velocity of 1.384 ft/s\n",
"SG=2.31//specific gravity of fly ash\n",
"rho_w=62.4//density of water \n",
"rho_p=SG*rho_w//density of particles\n",
"//properties of air\n",
"R=0.7302//gas constant\n",
"T=698//temperature,R\n",
"P=1//pressure ,atm\n",
"Mw=29//mol. wt of air\n",
"rho_a=P*Mw/(R*T)//density of air,lb/ft^3\n",
"meu=1.41e-5//viscosity of air,lb/ft.s\n",
"g=32.174//grav. acc\n",
"v=1.384//velocity at which particle settle down,ft/s\n",
"W= v^3*rho_a^2/(g*rho_p*meu)//dimensionless constant\n",
"printf('\n dimensionless constant W=%f ',W);\n",
"//since W < 0.2222 stokes' law applies\n",
"D_p=sqrt(18*meu*v/(g*rho_p))//diameter of particle\n",
"printf('\n diameter of particle D_p=%f ft',D_p);\n",
"  "
   ]
   }
,
{
		   "cell_type": "markdown",
		   "metadata": {},
		   "source": [
			"## Example 23.7: average_height_of_soap_particles.sce"
		   ]
		  },
  {
"cell_type": "code",
	   "execution_count": null,
	   "metadata": {
	    "collapsed": true
	   },
	   "outputs": [],
"source": [
"clc;\n",
"//Example 23.7\n",
"//page no 340\n",
"printf('\n Example 23.7 page no 340\n\n');\n",
"// In a plant manufacturing ivory soap detergent explodes one windy day\n",
"//we have to calculate the distance from the plant where the soap particles will start to deposit and where they will cease to deposit\n",
"//the smallest particle wll travel the greatest distance while the largest will travel the least distance \n",
"//for the minimumdistance ,we use largest particle \n",
"D_l=3.28e-3//largest diameter,ft\n",
"g=32.174//grav. acc.\n",
"SG=0.8//specific gravity of soap particle\n",
"rho_w=62.4\n",
"rho_p=SG*rho_w//density of particle\n",
"rho_a=0.0752//density of given atmosphere,lb/ft^3\n",
"meu=1.18e-5//viscosity \n",
"K_l = D_l*(g*(rho_p-rho_a)*rho_p/(meu^2))^(1/3)//dimensionless constant\n",
"printf('\n dimensionless constant K_l=%f ',K_l);\n",
"//value of K indicates the intermediate range applies \n",
"//the settling velocity is given by \n",
"v_l=0.153*g^0.71*D_l^1.14*rho_p^0.71/(meu^0.43*rho_a^0.29)\n",
"printf('\n settling velocity v_l=%f ft/s',v_l);\n",
"H=400//vertical height blowen by particle,ft\n",
"t_l=H/v_l//descent time\n",
"v_w=20//wind velocity in miles/h\n",
"L=t_l*v_w*(5280/3600)//horizontal distance travelled by particles\n",
"printf('\n descent time t_l=%f second\n horizontal distance L=%f ft',t_l,L);\n",
"//for the minimum distance we use smallest particle\n",
"D_s=6.89e-6//diameter of smallest particle,ft\n",
"K_s=D_s*(g*(rho_p-rho_a)*rho_a/(meu^2))^(1/3)\n",
"printf('\n dimensionless constant K_s=%f ',K_s);\n",
"//velocity is in the stokes regime and is given by\n",
"v_s=g*D_s^2*rho_p/(18*meu)\n",
"printf('\n settling velocity v_s=%f ft/s',v_s);\n",
"t_s=H/v_s//descent time \n",
"L_s=t_s*v_w*(5280/3600)//horizontal distance travelled \n",
"printf('\n descent time t_s=%f s\nhorizontal distance travelled by smallest particle L_s=%f ft',t_s,L_s);\n",
"m=100*2000//mass of particles\n",
"V_act=m/rho_p//actual volume of particles\n",
"e=0.5//void fraction\n",
"V_b=V_act/e//bulk volume\n",
"printf('\ actual volume V_act=%f ft^3\nbulk volume V_b=%f ',V_act,V_b);\n",
"L_d=L_s-L//length of drop area\n",
"printf('\n L_d=%f ',L_d);\n",
"W=100//width ,ft\n",
"A_d=L_d*W//deposition area\n",
"H_d=V_b/A_d//deposition height\n",
"printf('\n deposition height H_d=%f ft',H_d);\n",
"//deposition height can be ,at bestt, described asa sprinkling \n",
"\n",
""
   ]
   }
,
{
		   "cell_type": "markdown",
		   "metadata": {},
		   "source": [
			"## Example 23.8: reynolds_number_and_terminal_velocity.sce"
		   ]
		  },
  {
"cell_type": "code",
	   "execution_count": null,
	   "metadata": {
	    "collapsed": true
	   },
	   "outputs": [],
"source": [
"clc;\n",
"//Example 23.8\n",
"//page no 342\n",
"printf('Example 23.8 page no 342\n\n');\n",
"//a small sphere is observed to fall through caster oil \n",
"v_t=0.042//terminal velocity of particle \n",
"meu_f=0.9//viscosity of oil\n",
"rho_f=970//density of oil\n",
"g=9.807//grav. acc.\n",
"D_p=0.006//diameter of particle\n",
"rho_p=(18*meu_f*v_t)/(g*D_p^2)  + rho_f\n",
"printf('\n density of particle rho_p=%f kg/m^3',rho_p);\n",
"neu_f=9.28e-4//dynamic viscosity of fluid\n",
"R_e=D_p*v_t/neu_f//reynolds no\n",
"printf('\n reynolds no R_e=%f ',R_e);\n",
"//since R_e < 0.3\n",
"//calculation of the settling criterion factor ,K\n",
"K=D_p*(g*rho_f*(rho_p-rho_f)/(meu_f^2))^(1/3)//the settling criterion factor\n",
"printf('\n K=%f ',K);\n",
"//since K <3.3, stokes law applies \n",
"//the drag coeff. C_d \n",
"C_d=24/R_e\n",
"printf('\n drag coeff C_d=%f ',C_d);\n",
"F_d=3*%pi*meu_f*D_p*v_t//drag force\n",
"printf('\n drag force F_d=%f N',F_d);\n",
"F_b=(%pi/6)*D_p^3*rho_f*g//buoyancy force \n",
"printf('\n buoyancy force F_b=%f N',F_b);\n",
"//Consider the case when same sphere is dropped in water \n",
"rho_w=1000//density of water,kg/m^3\n",
"meu_w=0.001//viscosity of water,kg/m.s\n",
"//the particle will move faster because of the lower viscosity of water ,stokes law will almost definietly not apply\n",
"K_w=D_p*(g*rho_w*(rho_p-rho_w)/(meu_w^2))^(1/3)//the settling criterion factor\n",
"printf('\n k_w settling factor =%f ',K_w);\n",
"//since K_w = 158 > 43.6,the flow is in the Newton's law regime \n",
"//employ eq. 23.31 but include the (buoyant) density ratio factor\n",
"v_t_w=1.75*sqrt((rho_p-rho_w)/(rho_w)*g*D_p)//terminal velocity \n",
"printf('\n terminal velocity in water v_t_w=%f m/s',v_t_w);  \n",
"\n",
"\n",
"\n",
"\n",
" "
   ]
   }
,
{
		   "cell_type": "markdown",
		   "metadata": {},
		   "source": [
			"## Example 23.9: drag_force.sce"
		   ]
		  },
  {
"cell_type": "code",
	   "execution_count": null,
	   "metadata": {
	    "collapsed": true
	   },
	   "outputs": [],
"source": [
"clc;\n",
"//Example 23.9\n",
"//page no 344\n",
"printf('Example 23.9 page no 344\n\n');\n",
"//the bottom of a ship,moving in water\n",
"rho=1000//density of water\n",
"v=12//velocity of boat,m/s\n",
"L=20//length,m\n",
"W=5//width ,m\n",
"meu=1e-3//viscosity\n",
"R_e=rho*v*L/meu//reynolds no\n",
"printf('Reynolds no R_e=%f ',R_e);\n",
"//from reynolds no  flow is turbulent\n",
"C_d=0.031/(R_e^(1/7))//coeff. discharge\\n",
"printf('\ncoeff. discharge C_d=%f ',C_d);\n",
"//calculation of the drag on area LW\n",
"F_d=(1/2)*C_d*rho*v^2*L*W//drag force\n",
"printf('\n drag force F_d=%f N',F_d); "
   ]
   }
],
"metadata": {
		  "kernelspec": {
		   "display_name": "Scilab",
		   "language": "scilab",
		   "name": "scilab"
		  },
		  "language_info": {
		   "file_extension": ".sce",
		   "help_links": [
			{
			 "text": "MetaKernel Magics",
			 "url": "https://github.com/calysto/metakernel/blob/master/metakernel/magics/README.md"
			}
		   ],
		   "mimetype": "text/x-octave",
		   "name": "scilab",
		   "version": "0.7.1"
		  }
		 },
		 "nbformat": 4,
		 "nbformat_minor": 0
}
