{
"cells": [
 {
		   "cell_type": "markdown",
	   "metadata": {},
	   "source": [
       "# Chapter 32: economics and finance "
	   ]
	},
{
		   "cell_type": "markdown",
		   "metadata": {},
		   "source": [
			"## Example 32.5: fluid_transportation.sce"
		   ]
		  },
  {
"cell_type": "code",
	   "execution_count": null,
	   "metadata": {
	    "collapsed": true
	   },
	   "outputs": [],
"source": [
"clc;\n",
"//Example 32.5\n",
"//page no 512\n",
"printf('Example 32.5 page no 512\n\n');\n",
"// a fluid is transported 4 miles under turbulent flow conditions\n",
"//we have two choices in designing the system\n",
"OC_a=20000//per year pressure drop costs for the 2 inch ID pipe,$\n",
"CRF=0.1//capital recovery factor for both pipe\n",
"OC_b=OC_a/16//operating cost associated with the pressure drop cost per year for 4 inch pipe\n",
"d=4*5280//distance,feet\n",
"c_a=1// 2 inch ID pipe cost per feet,$\n",
"c_b=6// 4 inch ID pipe cost per feet,$\n",
"CC_a=d*c_a*CRF//capital cost for  2 inch ID pipe,$\n",
"CC_b=d*c_b*CRF//capital cost for 4 inch ID pipe,$\n",
"TC_a= OC_a +CC_a//total cost associated with 2 inch pipe\n",
"printf('\n total cost with 2 inch pipe TC_a=%f $',TC_a);\n",
"TC_b=OC_b + CC_b//total cost associated with 4 inch pipe\n",
"printf('\n total cost with 4 inch pipe TC_b=%f $',TC_b);\n",
"//from result we can conclude that 4 inch pipe is more economical"
   ]
   }
,
{
		   "cell_type": "markdown",
		   "metadata": {},
		   "source": [
			"## Example 32.6: particulate_control_device.sce"
		   ]
		  },
  {
"cell_type": "code",
	   "execution_count": null,
	   "metadata": {
	    "collapsed": true
	   },
	   "outputs": [],
"source": [
"clc;\n",
"//Example 32.6\n",
"//page no 512\n",
"printf(' Example 32.6 page no 512\n\n')\n",
"//a process emits gas of containg dust,a particulate device is employed for particle capture \n",
"q=50000//vol. flow rate of dust,ft^3/min\n",
"c=2/7000//inlet loading of dust\n",
"DV=0.03//value of dust\n",
"//recovered value RV can be expressed in terms of pressure drop\n",
"//RV=q*c*DV*P1/(P1+15)\n",
"C_e=0.18//cost of electricity\n",
"E_f=0.55//fractional efficiency\n",
"function x=f(P1)\n",
"    \n",
"    E=P1/(P1+15)//collection efficiency\n",
"    RV=q*c*DV*E//recovered value in terms of E$/min\n",
"    C_p=q*(C_e/44200)*P1/(E_f*60)\n",
"//  x=q*c*DV*P1/(P1+15)-q*C_e*P1/E_f\n",
"    x=RV-C_p   \n",
"endfunction\n",
"P1=fsolve(100,f)\n",
"printf('\n P1=%f',P1);\n",
"//calculation mistake in book"
   ]
   }
,
{
		   "cell_type": "markdown",
		   "metadata": {},
		   "source": [
			"## Example 32.8: a_filter_press.sce"
		   ]
		  },
  {
"cell_type": "code",
	   "execution_count": null,
	   "metadata": {
	    "collapsed": true
	   },
	   "outputs": [],
"source": [
"clc;\n",
"//Example 32.8\n",
"//page no 514\n",
"printf('Example 32.8 page no 514\n\n');\n",
"//a filter press is in operation\n",
"//we have to determine the appraisal value of the press\n",
"i=0.03375//intrest on fund\n",
"n=9//time,year\n",
"SFDF=i/((1+i)^n -1)//sinking fund depreciation factor\n",
"P=60000//cost of filter press,$\n",
"L=500//salvage value,$\n",
"UAP= (P-L)*SFDF//uniform annual payment,$\n",
"printf('\n uniform annual payment UAP=%f $',UAP);\n",
"//in determing the appraisel value where the straight line method of depreciation is used \n",
"// B = P -(P-L/n)x\n",
"//where x refers to any time the present before the end of usable\n",
"x=5//let for 5 year\n",
"B5=P-((P-L)/n)*x//appraissl value for 5 year\n",
"printf('\n apprasial value B=%f $',B5);"
   ]
   }
,
{
		   "cell_type": "markdown",
		   "metadata": {},
		   "source": [
			"## Example 32.9: an_outdated_environmental_control_device.sce"
		   ]
		  },
  {
"cell_type": "code",
	   "execution_count": null,
	   "metadata": {
	    "collapsed": true
	   },
	   "outputs": [],
"source": [
"clc;\n",
"//Example 32.9\n",
"//page no 516\n",
"printf('Example 32.9 page no 516\n\n');\n",
"//we have to determine the annulized cost of a new processing plant of enviromental control\n",
"//input data\n",
"CC=150000//capital cost,$\n",
"I=.07//interst\n",
"n=5//time,year\n",
"CRF=(I*(1+I)^n)/((1+I)^5-1)//capital recovery factor CRF\n",
"IC=CRF*CC//installation cost,$\n",
"OC=15000//operation cost,$\n",
"AC=IC + OC//annulized cost\n",
"printf('\n annulized cost AC=%f $',AC);\n",
""
   ]
   }
],
"metadata": {
		  "kernelspec": {
		   "display_name": "Scilab",
		   "language": "scilab",
		   "name": "scilab"
		  },
		  "language_info": {
		   "file_extension": ".sce",
		   "help_links": [
			{
			 "text": "MetaKernel Magics",
			 "url": "https://github.com/calysto/metakernel/blob/master/metakernel/magics/README.md"
			}
		   ],
		   "mimetype": "text/x-octave",
		   "name": "scilab",
		   "version": "0.7.1"
		  }
		 },
		 "nbformat": 4,
		 "nbformat_minor": 0
}
