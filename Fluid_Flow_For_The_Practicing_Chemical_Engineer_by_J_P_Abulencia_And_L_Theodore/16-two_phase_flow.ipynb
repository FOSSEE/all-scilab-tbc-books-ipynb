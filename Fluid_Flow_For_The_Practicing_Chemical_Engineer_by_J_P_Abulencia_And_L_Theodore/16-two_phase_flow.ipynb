{
"cells": [
 {
		   "cell_type": "markdown",
	   "metadata": {},
	   "source": [
       "# Chapter 16: two phase flow"
	   ]
	},
{
		   "cell_type": "markdown",
		   "metadata": {},
		   "source": [
			"## Example 16.2: pressure_drop.sce"
		   ]
		  },
  {
"cell_type": "code",
	   "execution_count": null,
	   "metadata": {
	    "collapsed": true
	   },
	   "outputs": [],
"source": [
"clc;\n",
"//Example 16.2\n",
"//page no 183\n",
"printf(' Example 16.2 page no 183\n\n');\n",
"//cal. pressure drop if the flow for both phases is turbulent\n",
"//a. since the flow is tt and 1<X<10 ,apply equatuion 16.16b to obtain Y_g\n",
"X=1.66\n",
"Y_g=5.80+6.7143*X+6.9643*X^2-0.75*X^3\n",
"printf('\n Y_g=%f ',Y_g);\n",
"//the value of Y_g is an excellent agreement with the values provided by lockhart and Martinelli\n",
"//then pressure drop is\n",
"P_drop_g=2.71\n",
"P_drop_t=Y_g*P_drop_g\n",
"printf('\n P_drop_t=%f psf/100 ft',P_drop_t);\n",
"//b. applying eq. 16.17b to generate Y_l\n",
"Y_l=18.219*X^-.8192\n",
"printf('\n Y_l =%f ',Y_l);\n",
"//pressure drop from eq. 16.2\n",
"P_drop_l=7.50\n",
"P_drop=Y_l*P_drop_l\n",
"printf('\n P_drop=%f psf/100ft',P_drop); "
   ]
   }
,
{
		   "cell_type": "markdown",
		   "metadata": {},
		   "source": [
			"## Example 16.3: pressure_drop.sce"
		   ]
		  },
  {
"cell_type": "code",
	   "execution_count": null,
	   "metadata": {
	    "collapsed": true
	   },
	   "outputs": [],
"source": [
"clc;\n",
"//Example 16.3\n",
"//page no 185\n",
"printf(' Example 16.3 page no 185\n\n');\n",
"//if the flow for the gas phase is turbulent and the liquid phase is viscous\n",
"//cal. pressure drop total\n",
"X=1.66//from ex. 16.1\n",
"Y_G_tv=20-21.81*X+16.357*X^2-1.8333*X^3\n",
"printf('\n Y_G_tv=%f ',Y_G_tv);\n",
"//pressure drop from eq 16.1\n",
"P_drop_g=2.71\n",
"P_drop_a=Y_G_tv*P_drop_g\n",
"printf('\n pressure drop P_drop_a=%f psf/100 ft',P_drop_a);\n",
"//b. applying eq 16.20b to generate Y_l\n",
"Y_l_tv=11.702*X^-0.7334\n",
"printf('\n Y_l_tv=%f ',Y_l_tv);\n",
"//pressure drop from equation 16.2\n",
"P_drop_l=7.50\n",
"P_drop_b=Y_l_tv*P_drop_l\n",
"printf('\n P_drop_b=%f psf/100 f',P_drop_b);"
   ]
   }
,
{
		   "cell_type": "markdown",
		   "metadata": {},
		   "source": [
			"## Example 16.4: laminar_flow_in_both_phase.sce"
		   ]
		  },
  {
"cell_type": "code",
	   "execution_count": null,
	   "metadata": {
	    "collapsed": true
	   },
	   "outputs": [],
"source": [
"clc;\n",
"//Example 16.4\n",
"//page no 187\n",
"printf('Example 16.4 page no 187\n\n');\n",
"//if flow for both phases is laminar then cal pressure drop total\n",
"//a. apply eq. 16.22b to obtain Y_G\n",
"X=1.66\n",
"Y_G=10-10.405*X+8.6786*X^2-0.9167*X^3\n",
"printf('\n Y_G=%f ',Y_G);\n",
"//pressure drop from eq 16.1\n",
"P_drop_g=2.71\n",
"P_drop=Y_G*P_drop_g\n",
"printf('\n pressure drop P_drop=%f psf/100 ft',P_drop);\n",
"//b. apply eq 16.23b to generate Y_l\n",
"Y_l=6.4699*X^-0.556\n",
"printf('\n Y_l =%f ',Y_l);\n",
"//pressure drop from eq. 16.2\n",
"P_drop_l=7.50\n",
"P_drop_b=Y_l*P_drop_l\n",
"printf('\n pressure drop P_drop_b=%f psf/100 ft',P_drop_b);\n",
""
   ]
   }
,
{
		   "cell_type": "markdown",
		   "metadata": {},
		   "source": [
			"## Example 16.6: flow_regime.sce"
		   ]
		  },
  {
"cell_type": "code",
	   "execution_count": null,
	   "metadata": {
	    "collapsed": true
	   },
	   "outputs": [],
"source": [
"clc;\n",
"//Example 16.6\n",
"//page no 191\n",
"printf('\n Example 16.6 page no 191\n\n');\n",
"//a mixture of air(a) and kerosene(k) are flowing in a horizontal pipe \n",
"rho_a=0.075//density of airlb/ft^3\n",
"meu_a=1.24e-5//viscosity of air ,lb/ft.s\n",
"q_a=5.3125//flow rate ft^3/s\n",
"rho_k=52.1//density of kerosene,lb/ft^3\n",
"meu_k=0.00168//viscosity lof kerosene,lb/ft.s\n",
"q_k=1.790//flow rate ft^3/s\n",
"D=.19167//diameter of pipe ,ft\n",
"S=(%pi/4)*D^2//cross sectional area,ft^2\n",
"printf('\n S=%f ',S);\n",
"//superficial velocity of each phase can be obtained by applying either eq, 16.7 and 16.8\n",
"v_a=q_a/(S*60)//for air\n",
"v_k=q_k/(S*60)//for kerosene\n",
"printf('\n velocity v_a =%f ft/s\n velocity v_k=%f ft/s',v_a,v_k);\n",
"R_e_a=D*rho_a*v_a/meu_a//reynolds no. of Air\n",
"R_e_k=D*rho_k*v_k/meu_k//reynolds no. of kerosene\n",
"printf('\n R_e_a=%f\nR_e_k=%f ',R_e_a,R_e_k);"
   ]
   }
],
"metadata": {
		  "kernelspec": {
		   "display_name": "Scilab",
		   "language": "scilab",
		   "name": "scilab"
		  },
		  "language_info": {
		   "file_extension": ".sce",
		   "help_links": [
			{
			 "text": "MetaKernel Magics",
			 "url": "https://github.com/calysto/metakernel/blob/master/metakernel/magics/README.md"
			}
		   ],
		   "mimetype": "text/x-octave",
		   "name": "scilab",
		   "version": "0.7.1"
		  }
		 },
		 "nbformat": 4,
		 "nbformat_minor": 0
}
