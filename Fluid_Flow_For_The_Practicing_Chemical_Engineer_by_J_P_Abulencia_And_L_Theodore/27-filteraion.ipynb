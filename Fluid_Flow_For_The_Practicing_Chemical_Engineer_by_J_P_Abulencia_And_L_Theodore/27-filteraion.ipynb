{
"cells": [
 {
		   "cell_type": "markdown",
	   "metadata": {},
	   "source": [
       "# Chapter 27: filteraion"
	   ]
	},
{
		   "cell_type": "markdown",
		   "metadata": {},
		   "source": [
			"## Example 27.2: a_plate_and_frame_filter_press.sce"
		   ]
		  },
  {
"cell_type": "code",
	   "execution_count": null,
	   "metadata": {
	    "collapsed": true
	   },
	   "outputs": [],
"source": [
"clc;\n",
"//Example 27.2\n",
"//page no 413\n",
"printf('Example 27.2 page no 413\n\n');\n",
"//plate and frame filter press is to be employed to filter a slurry \n",
"m_dot_slurry=600*60//mass flow rate ,lb/h\n",
"m=0.1//sluury contain 10% by mass solid\n",
"m_dot_solids = m*m_dot_slurry//the solid flow rate in the slurry\n",
"a=(1/5)//filter colth area required for 1 lb/h of solid\n",
"A=m_dot_solids*(a)//filter colth area for 3600 lb/h of solids\n",
"printf('\n filter colth area A=%f ft^2',A);"
   ]
   }
,
{
		   "cell_type": "markdown",
		   "metadata": {},
		   "source": [
			"## Example 27.4: press_and_filter_plate.sce"
		   ]
		  },
  {
"cell_type": "code",
	   "execution_count": null,
	   "metadata": {
	    "collapsed": true
	   },
	   "outputs": [],
"source": [
"clc;\n",
"//Example 27.4\n",
"//page no 414\n",
"printf('Example 27.4 page no. 414\n\n');\n",
"m=1947//slope of curve b/w t/V vs V,s/ft^6\n",
"K_c=2*m\n",
"c=217//intercept on graph\n",
"q_r=c//reciprocal of q\n",
"printf('\n coeff. K_c=%f s/ft^6\n coeff. q_r=%f s/ft^3',K_c,q_r)"
   ]
   }
,
{
		   "cell_type": "markdown",
		   "metadata": {},
		   "source": [
			"## Example 27.5: filtration_coefficients.sce"
		   ]
		  },
  {
"cell_type": "code",
	   "execution_count": null,
	   "metadata": {
	    "collapsed": true
	   },
	   "outputs": [],
"source": [
"clc;\n",
"//Example 27.5\n",
"//page no 415\n",
"printf('Example 27.5 page no 415\n\n');\n",
"//refer to example 27.4\n",
"meu=5.95e-4//viscosity \n",
"g_c=32.174//grav. acc\n",
"P_drop=20*144//pressure drop\n",
"q_o=(1/217)//flow rate \n",
"S=0.35//filteration area per unit\n",
"K_c=3894//coefficentc\n",
"c=4.142//slurry conentration  \n",
"R_m=S*g_c*P_drop/(q_o*meu)//filteration coeff.\n",
"printf('R_m=%f ft',R_m);\n",
"alpha=K_c*S^2*g_c*P_drop/(c*meu)//filteration coeff.\n",
"printf('\n alpha=%f ft/lb',alpha);\n",
" "
   ]
   }
,
{
		   "cell_type": "markdown",
		   "metadata": {},
		   "source": [
			"## Example 27.7: filtration_experiment.sce"
		   ]
		  },
  {
"cell_type": "code",
	   "execution_count": null,
	   "metadata": {
	    "collapsed": true
	   },
	   "outputs": [],
"source": [
"clc;\n",
"//Example 27.7\n",
"//page no 418\n",
"printf('Example 27.7 page no 418\n\n');\n",
"//the following result were obtained during the running of a filteration experiment \n",
"alpha=4.57e+11//cake resistance,ft/lb\n",
"P_drop=1554//pressure drop ,lbf/ft^2\n",
"alpha_o=alpha/(P_drop^0.21)//specific cake resistance\n",
"printf('\n specific cake resistance alpha_o=%f ft/lb',alpha_o);"
   ]
   }
,
{
		   "cell_type": "markdown",
		   "metadata": {},
		   "source": [
			"## Example 27.9: filter_press_capacity.sce"
		   ]
		  },
  {
"cell_type": "code",
	   "execution_count": null,
	   "metadata": {
	    "collapsed": true
	   },
	   "outputs": [],
"source": [
"clc;\n",
"//Example 27.9\n",
"//page no 418\n",
"printf('Example 27.9 page no 418\n\n');\n",
"//a filter press operates at a constant pressure\n",
"P=50//pressure,psig\n",
"q=10//flow rate,ft^3/min\n",
"//applying eq.27.12\n",
"//q = P/(B*V_s + C)\n",
"//in this case,V_s=0\n",
"C=P/q//constant\n",
"//for constant pressure applying equation 27.13\n",
"//t = B*V_s^2/(2P) + C*V_s/P\n",
"t=60//time ,min\n",
"V_s=100//volume,ft^3\n",
"B= 2*P*t/(V_s^2) - 2*C/V_s//constant\n",
"//during the washing cycle t_w = V_w/q_w\n",
"//B and C remain same\n",
"V_w=15//volume of water for washing per hr\n",
"t_w= V_w*(B*V_s + C)/P//time in washing\n",
"printf('\n washing time t_w=%f min',t_w);\n",
"t_d=30//time for dumping and cleanig\n",
"t_c=(t + t_w +t_d)/60//collecting time,in hr\n",
"q_c =V_s/t_c//flow rate for 100 ft^3\n",
"printf('\n flow rate q_c=%f gal/hr ',q_c); "
   ]
   }
],
"metadata": {
		  "kernelspec": {
		   "display_name": "Scilab",
		   "language": "scilab",
		   "name": "scilab"
		  },
		  "language_info": {
		   "file_extension": ".sce",
		   "help_links": [
			{
			 "text": "MetaKernel Magics",
			 "url": "https://github.com/calysto/metakernel/blob/master/metakernel/magics/README.md"
			}
		   ],
		   "mimetype": "text/x-octave",
		   "name": "scilab",
		   "version": "0.7.1"
		  }
		 },
		 "nbformat": 4,
		 "nbformat_minor": 0
}
