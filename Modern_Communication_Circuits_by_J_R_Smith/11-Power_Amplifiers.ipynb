{
"cells": [
 {
		   "cell_type": "markdown",
	   "metadata": {},
	   "source": [
       "# Chapter 11: Power Amplifiers"
	   ]
	},
{
		   "cell_type": "markdown",
		   "metadata": {},
		   "source": [
			"## Example 11.1: PA_Ex_11_1.sce"
		   ]
		  },
  {
"cell_type": "code",
	   "execution_count": null,
	   "metadata": {
	    "collapsed": true
	   },
	   "outputs": [],
"source": [
"clc\n",
"//Chapter 11:Power amplifiers\n",
"//example 11.1 page no 456\n",
"//given\n",
"Po=5//max power in watts\n",
"Rl=50//load resistance in ohm\n",
"Vp=sqrt(2*5*50)//peak voltage across Rl\n",
"Vcc=24//supply voltage\n",
"Ip=Vp/Rl//peak current corresponding to Vp\n",
"Iq=Vcc/50//Q point current value\n",
"Pcc=Vcc*Iq//power supplied\n",
"Eff=(Po/Pcc)*100//efficiency\n",
"mprintf('peak voltage across Rl is %f V \n the peak current is %f A \n the power supplied is %f W \n the efficiency is %f ',Vp,Ip,Pcc,Eff)\n",
"disp('the transistor that is selected must be able to dissipate 11.52W in case the input power drops to zero and the transistor Vce breakdown voltage must be at least 48V(2*Vcc)')"
   ]
   }
,
{
		   "cell_type": "markdown",
		   "metadata": {},
		   "source": [
			"## Example 11.2: PA_Ex_11_2.sce"
		   ]
		  },
  {
"cell_type": "code",
	   "execution_count": null,
	   "metadata": {
	    "collapsed": true
	   },
	   "outputs": [],
"source": [
"clc\n",
"//Chapter 11:Power amplifiers\n",
"//example 11.2 page no 466\n",
"//given\n",
"Po=5//max power in watts\n",
"Rl=50//load resistance in ohm\n",
"//asumme'1:1 truns ratio transformer coupled push pull amplifier each supllying 2.5 watt'\n",
"disp('since a push pull amplifier is used, each class B amplifier will supply 2.5W')\n",
"Pomax=2.5\n",
"Vcc=sqrt(4*Rl*Po)//supply voltage\n",
"Ptmax=Pomax*(4/%pi^2)//maximum power handling requriment of the transistor\n",
"I=sqrt((4*Pomax)/Rl)//peak output current\n",
"mprintf('maximum power handling requriment of the transistor is %d W \n peak output current is %f A ',Ptmax,I)"
   ]
   }
,
{
		   "cell_type": "markdown",
		   "metadata": {},
		   "source": [
			"## Example 11.3: PA_Ex_11_3.sce"
		   ]
		  },
  {
"cell_type": "code",
	   "execution_count": null,
	   "metadata": {
	    "collapsed": true
	   },
	   "outputs": [],
"source": [
"clc\n",
"//Chapter 11:Power amplifiers\n",
"//example 11.2 page no 474\n",
"//given\n",
"Po=5//max power in watts\n",
"Rl=50//load resistance in ohm\n",
"f=1e6//operating frequency in hertz\n",
"Vcc=sqrt(2*Rl*Po)\n",
"Ptmax=0.1*Po//allowable power dissipation\n",
"I_m=0.5\n",
"Im=(2*%pi*Vcc*I_m)/Rl//peak collector current\n",
"mprintf('required supply voltage is %f V \n max allowable power dissipation is %f W \n peak collector current is %f A',Vcc,Ptmax,Im)"
   ]
   }
,
{
		   "cell_type": "markdown",
		   "metadata": {},
		   "source": [
			"## Example 11.4: PA_Ex_11_4.sce"
		   ]
		  },
  {
"cell_type": "code",
	   "execution_count": null,
	   "metadata": {
	    "collapsed": true
	   },
	   "outputs": [],
"source": [
"clc\n",
"//Chapter 11:Power amplifiers\n",
"//example 11.4 page no 475\n",
"//given\n",
"Pt=4//max power dissipation in watt\n",
"Idmax=1.5//max drain current in amp\n",
"Vcc=48//supply voltage\n",
"P_t=(4*%pi*Pt)/(Vcc*Idmax)//the normalised max transistor dissipation\n",
"disp('from figure 11.21 it is found that maximum possible conduction angle is =80degree without exceeding the maximum transistor dissipation')\n",
"Po=Pt/0.22//output power\n",
"Rl=Vcc^2/(2*Po)//load resistance\n",
"mprintf('the output power is %f W \n the load resistance is %f ohm ',Po,Rl)"
   ]
   }
,
{
		   "cell_type": "markdown",
		   "metadata": {},
		   "source": [
			"## Example 11.5: PA_Ex_11_5.sce"
		   ]
		  },
  {
"cell_type": "code",
	   "execution_count": null,
	   "metadata": {
	    "collapsed": true
	   },
	   "outputs": [],
"source": [
"clc\n",
"//Chapter 11:Power amplifiers\n",
"//example 11.5 page no 477\n",
"//given\n",
"disp('from the figure 11.23 it is seen that the amplitude of the fourth harmonic has a maximum value for a conduction angle 2theta of approximately 60degree The output circuit would be tuned to the fourth harmonic of the input signal')"
   ]
   }
,
{
		   "cell_type": "markdown",
		   "metadata": {},
		   "source": [
			"## Example 11.6: PA_Ex_11_6.sce"
		   ]
		  },
  {
"cell_type": "code",
	   "execution_count": null,
	   "metadata": {
	    "collapsed": true
	   },
	   "outputs": [],
"source": [
"clc\n",
"//Chapter 11:Power amplifiers\n",
"//example 11.6 page no 479\n",
"//given\n",
"Po=20//power delivered in watt\n",
"Rl=50//load resistance\n",
"Vcc=sqrt(%pi^2*Rl*Po/8)//suppy volatage\n",
"Idc=4*Vcc/(Rl*%pi^2)//direct current in each transistor\n",
"mprintf('the suppy volatage is %f V \n the direct current in each transistor is %f A',Vcc,Idc)\n",
"disp('the maximum voltage drop across each transistor will be 2Vcc,or 70.2V the load circuit would be tuned to resonant at the fundamental frequency of the input signal')\n",
""
   ]
   }
,
{
		   "cell_type": "markdown",
		   "metadata": {},
		   "source": [
			"## Example 11.7: PA_Ex_11_7.sce"
		   ]
		  },
  {
"cell_type": "code",
	   "execution_count": null,
	   "metadata": {
	    "collapsed": true
	   },
	   "outputs": [],
"source": [
"clc\n",
"//Chapter 11:Power amplifiers\n",
"//example 11.7 page no 480\n",
"//given\n",
"Vg=8//get signal level for VMOS 2N6659\n",
"Rl=50//load resistance in ohms(it should have been given in the problem but its missing)\n",
"disp('The specification sheet for the 2N6659 indicates that yhe on resisitance is approximately 2 ohm for this drive level')\n",
"Ron=2\n",
"Poideal=20\n",
"Po=Poideal*((Rl/(Rl+Ron))^2)//actual output power\n",
"Eff=Rl*100/(Rl+Ron)//Efficiency\n",
"mprintf('actual output power is %f W \n the Efficiency is %f ',Po,Eff)"
   ]
   }
],
"metadata": {
		  "kernelspec": {
		   "display_name": "Scilab",
		   "language": "scilab",
		   "name": "scilab"
		  },
		  "language_info": {
		   "file_extension": ".sce",
		   "help_links": [
			{
			 "text": "MetaKernel Magics",
			 "url": "https://github.com/calysto/metakernel/blob/master/metakernel/magics/README.md"
			}
		   ],
		   "mimetype": "text/x-octave",
		   "name": "scilab",
		   "version": "0.7.1"
		  }
		 },
		 "nbformat": 4,
		 "nbformat_minor": 0
}
