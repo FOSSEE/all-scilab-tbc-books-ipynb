{
"cells": [
 {
		   "cell_type": "markdown",
	   "metadata": {},
	   "source": [
       "# Chapter 1: Introduction to Radio Communication System"
	   ]
	},
{
		   "cell_type": "markdown",
		   "metadata": {},
		   "source": [
			"## Example 1.3: IRCS_Ex_1_3.sce"
		   ]
		  },
  {
"cell_type": "code",
	   "execution_count": null,
	   "metadata": {
	    "collapsed": true
	   },
	   "outputs": [],
"source": [
"clc\n",
"//Chapter 1:Introduction to Radio Communication\n",
"//example 1.3 page no 3\n",
"//given\n",
"disp('The transfer function has no finite zeros ')\n",
"p=poly([1 0.5 1],'s','c')\n",
"x=roots(p)\n",
"disp('The poles ')\n",
"disp(x)"
   ]
   }
,
{
		   "cell_type": "markdown",
		   "metadata": {},
		   "source": [
			"## Example 1.4: IRCS_Ex_1_4.sce"
		   ]
		  },
  {
"cell_type": "code",
	   "execution_count": null,
	   "metadata": {
	    "collapsed": true
	   },
	   "outputs": [],
"source": [
"clc\n",
"//Chapter 1:Introduction to Radio Communication Systems\n",
"//example 1.4 page no 8\n",
"//given\n",
"fIF=455*10^3//intermediate frequency\n",
"fO=1.455*10^6//oscillator frequency\n",
"fIM=fIF+fO//image frequency\n",
"mprintf('the image frequency is %f MHz',fIM*1e-6)"
   ]
   }
],
"metadata": {
		  "kernelspec": {
		   "display_name": "Scilab",
		   "language": "scilab",
		   "name": "scilab"
		  },
		  "language_info": {
		   "file_extension": ".sce",
		   "help_links": [
			{
			 "text": "MetaKernel Magics",
			 "url": "https://github.com/calysto/metakernel/blob/master/metakernel/magics/README.md"
			}
		   ],
		   "mimetype": "text/x-octave",
		   "name": "scilab",
		   "version": "0.7.1"
		  }
		 },
		 "nbformat": 4,
		 "nbformat_minor": 0
}
