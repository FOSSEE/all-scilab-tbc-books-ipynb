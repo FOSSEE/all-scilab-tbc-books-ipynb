{
"cells": [
 {
		   "cell_type": "markdown",
	   "metadata": {},
	   "source": [
       "# Chapter 12: Modulators and Demodulators"
	   ]
	},
{
		   "cell_type": "markdown",
		   "metadata": {},
		   "source": [
			"## Example 12.2: MD_Ex_12_2.sce"
		   ]
		  },
  {
"cell_type": "code",
	   "execution_count": null,
	   "metadata": {
	    "collapsed": true
	   },
	   "outputs": [],
"source": [
"clc\n",
"//Chapter 12:Frequency mixers\n",
"//example 12.2 page no 504\n",
"//given\n",
"gm=14*10^-3//tranconductance\n",
"IDSS=40*10^-3\n",
"RL=50//load resistance\n",
"Vgs=0\n",
"Vp=2*IDSS/gm//pinch off voltage\n",
"gc=IDSS/(2*Vp)//conversion tranconductance\n",
"Av=gc*RL//voltage gain\n",
"mprintf('the conversion voltage gain is %f ',Av)"
   ]
   }
,
{
		   "cell_type": "markdown",
		   "metadata": {},
		   "source": [
			"## Example 12.4: MD_Ex_12_4.sce"
		   ]
		  },
  {
"cell_type": "code",
	   "execution_count": null,
	   "metadata": {
	    "collapsed": true
	   },
	   "outputs": [],
"source": [
"clc\n",
"//Chapter 12:Frequency mixers\n",
"//example 12.4\n",
"//given\n",
"f=1*10^3//maximum frequency of unknown signal\n",
"df=1//maximum error in signal\n",
"fs=f^2/df//sampling frequency\n",
"disp(fs,'the required sampling frequency is')"
   ]
   }
],
"metadata": {
		  "kernelspec": {
		   "display_name": "Scilab",
		   "language": "scilab",
		   "name": "scilab"
		  },
		  "language_info": {
		   "file_extension": ".sce",
		   "help_links": [
			{
			 "text": "MetaKernel Magics",
			 "url": "https://github.com/calysto/metakernel/blob/master/metakernel/magics/README.md"
			}
		   ],
		   "mimetype": "text/x-octave",
		   "name": "scilab",
		   "version": "0.7.1"
		  }
		 },
		 "nbformat": 4,
		 "nbformat_minor": 0
}
