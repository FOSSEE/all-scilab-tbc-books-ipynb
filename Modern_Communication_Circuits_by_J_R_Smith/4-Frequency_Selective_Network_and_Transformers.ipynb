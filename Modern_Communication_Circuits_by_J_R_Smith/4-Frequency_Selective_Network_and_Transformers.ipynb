{
"cells": [
 {
		   "cell_type": "markdown",
	   "metadata": {},
	   "source": [
       "# Chapter 4: Frequency Selective Network and Transformers"
	   ]
	},
{
		   "cell_type": "markdown",
		   "metadata": {},
		   "source": [
			"## Example 4.1: FSNT_Ex_4_1.sce"
		   ]
		  },
  {
"cell_type": "code",
	   "execution_count": null,
	   "metadata": {
	    "collapsed": true
	   },
	   "outputs": [],
"source": [
"clc\n",
"//Chapter 4:Frequency selective networks and transformers\n",
"//example 4.1 page no 108\n",
"//given\n",
"R=50//load resistance in ohm\n",
"B=100//bandwidth in KHz\n",
"Cf=5//filter center frequency in MHz\n",
"L=R/(2*%pi*10^5)//inductance in micro henry\n",
"C=((L)*(2*%pi*Cf*10^6)^2)^-1//capacitance\n",
"mprintf('the inductance is %f uH \n the capacitance is %f pF ',L*1e6,C*1e12)"
   ]
   }
,
{
		   "cell_type": "markdown",
		   "metadata": {},
		   "source": [
			"## Example 4.2: FSNT_Ex_4_2.sce"
		   ]
		  },
  {
"cell_type": "code",
	   "execution_count": null,
	   "metadata": {
	    "collapsed": true
	   },
	   "outputs": [],
"source": [
"clc\n",
"//Chapter 4:Frequency selective networks and transformers\n",
"//example 4.2\n",
"//given\n",
"//Forty decibles corresponds to a voltage ratio of 100:1 therefore since A(jwo)=1\n",
"Ajwo=0.01\n",
"n=5//no. of harmonics\n",
"Q=n/(Ajwo*(n^2-1))//quality point\n",
"mprintf('the minimum circuit Q is =Qmin = %f ',Q)"
   ]
   }
,
{
		   "cell_type": "markdown",
		   "metadata": {},
		   "source": [
			"## Example 4.3: FSNT_Ex_4_3.sce"
		   ]
		  },
  {
"cell_type": "code",
	   "execution_count": null,
	   "metadata": {
	    "collapsed": true
	   },
	   "outputs": [],
"source": [
"clc\n",
"//Chapter 4:Frequency selective networks and transformers\n",
"//example 4.3 page no 115 \n",
"//given\n",
"L=10*10^-6//inductance\n",
"C=10*10^-12//capacitance\n",
"wo=(sqrt(L*C))^-1//resonant frequency(ignoring the finite resistance)\n",
"Q=100\n",
"rs=wo*L/Q//series resistance\n",
"Rp=(wo*L)^2/rs//parallel resistance\n",
"QL=50*10^3/(wo*L)//loaded Q\n",
"mprintf('the loaded Q is %f ',QL)"
   ]
   }
,
{
		   "cell_type": "markdown",
		   "metadata": {},
		   "source": [
			"## Example 4.4: FSNT_Ex_4_4.sce"
		   ]
		  },
  {
"cell_type": "code",
	   "execution_count": null,
	   "metadata": {
	    "collapsed": true
	   },
	   "outputs": [],
"source": [
"clc\n",
"//Chapter 4:Frequency selective networks and transformers\n",
"//example 4.4 page no 121\n",
"//given\n",
"L1=25*10^-6//primary inductance\n",
"L2=400*10^-6//secondary inductane\n",
"n=(sqrt(L1/L2))//equivalent turns ratio\n",
"CT=(8+(2/n^2))*1e-12//total primary capacitance\n",
"RL=25*10^3//load resistance reflected to the primary\n",
"wo=(sqrt(L1*CT))^-1//resonant frequency\n",
"Q=RL/(wo*L1)//quality point\n",
"mprintf('the resonant frequency is %3.2e rad/s \n Q = %f',wo,Q)"
   ]
   }
,
{
		   "cell_type": "markdown",
		   "metadata": {},
		   "source": [
			"## Example 4.6: FSNT_Ex_4_6.sce"
		   ]
		  },
  {
"cell_type": "code",
	   "execution_count": null,
	   "metadata": {
	    "collapsed": true
	   },
	   "outputs": [],
"source": [
"clc\n",
"//Chapter 4:Frequency selective networks and transformers\n",
"//example 4.6 paga no 130\n",
"//given\n",
"Rs=10//source resistance\n",
"L=0.2*10^-6//inductor \n",
"f=20*10^6//given frequency\n",
"XL=(2*%pi*f*L)//inductive reactance\n",
"Rp=50//input impedance\n",
"Xs=sqrt(Rp*Rs-Rs^2)//series reactance\n",
"Xcs=5.1//series capacitive reactance\n",
"CS=(2*%pi*f*Xcs)^-1//series capacitance\n",
"Xp=(Rs^2+Xs^2)/Xs//equivalent parallel reactance\n",
"mprintf('the value of series reactance is j%f ohm \n the value equivalent parallel reactance is j%f ohm ',Xs,Xp)"
   ]
   }
,
{
		   "cell_type": "markdown",
		   "metadata": {},
		   "source": [
			"## Example 4.7: FSNT_Ex_4_7.sce"
		   ]
		  },
  {
"cell_type": "code",
	   "execution_count": null,
	   "metadata": {
	    "collapsed": true
	   },
	   "outputs": [],
"source": [
"clc\n",
"//Chapter 4:Frequency selective networks and transformers\n",
"//example 4.7 page no 132\n",
"//given\n",
"Rs=50//series resistance\n",
"Rp=100//parallel resistance\n",
"Xp=sqrt(Rs*Rp^2/(Rp-Rs))//equivalent parallel reactance\n",
"disp(Xp,'the equivalent parallel reactance in ohm is ')"
   ]
   }
],
"metadata": {
		  "kernelspec": {
		   "display_name": "Scilab",
		   "language": "scilab",
		   "name": "scilab"
		  },
		  "language_info": {
		   "file_extension": ".sce",
		   "help_links": [
			{
			 "text": "MetaKernel Magics",
			 "url": "https://github.com/calysto/metakernel/blob/master/metakernel/magics/README.md"
			}
		   ],
		   "mimetype": "text/x-octave",
		   "name": "scilab",
		   "version": "0.7.1"
		  }
		 },
		 "nbformat": 4,
		 "nbformat_minor": 0
}
