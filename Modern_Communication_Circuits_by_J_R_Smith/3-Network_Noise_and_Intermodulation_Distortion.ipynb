{
"cells": [
 {
		   "cell_type": "markdown",
	   "metadata": {},
	   "source": [
       "# Chapter 3: Network Noise and Intermodulation Distortion"
	   ]
	},
{
		   "cell_type": "markdown",
		   "metadata": {},
		   "source": [
			"## Example 3.10: NNID_Ex_3_10.sce"
		   ]
		  },
  {
"cell_type": "code",
	   "execution_count": null,
	   "metadata": {
	    "collapsed": true
	   },
	   "outputs": [],
"source": [
"clc\n",
"//Chapter 3:Design of low noise networks\n",
"//example 3.10 page no 86\n",
"//given\n",
"ensqr=8*10^-16//noise voltage\n",
"insqr=9*10^-25//rms noise current\n",
"Rs=10*10^4//sourse resistance\n",
"k=1.37*10^-23//Boltzmmans constant\n",
"T=290//tempreture\n",
"F=(ensqr+(insqr*Rs^2))/(4*k*T*Rs)//amplifier noise factor\n",
"disp(F,'the amplifier noise factor is ')"
   ]
   }
,
{
		   "cell_type": "markdown",
		   "metadata": {},
		   "source": [
			"## Example 3.11: NNID_Ex_3_11.sce"
		   ]
		  },
  {
"cell_type": "code",
	   "execution_count": null,
	   "metadata": {
	    "collapsed": true
	   },
	   "outputs": [],
"source": [
"clc\n",
"//Chapter 3:Network noise and intermodulation distortion\n",
"//example 3.11 page no 88\n",
"//given\n",
"ensqr=8*10^-16//noise voltage\n",
"insqr=9*10^-25//rms noise current\n",
"Rs=sqrt(ensqr/insqr)//sourse resistance\n",
"k=1.38*10^-23//Boltzmmans constant\n",
"T=290//tempreture\n",
"F=(ensqr+insqr*Rs^2+4*k*T*Rs)/(4*k*T*Rs)//amplifier noise factor\n",
"NF=10*log10(F)//noise figure\n",
"mprintf('the minimum minimum noise figure is %f dB',round(NF*10)/10)"
   ]
   }
,
{
		   "cell_type": "markdown",
		   "metadata": {},
		   "source": [
			"## Example 3.12: NNID_Ex_3_12.sce"
		   ]
		  },
  {
"cell_type": "code",
	   "execution_count": null,
	   "metadata": {
	    "collapsed": true
	   },
	   "outputs": [],
"source": [
"clc\n",
"//Chapter 3:Network noise and intermodulation distortion\n",
"//example 3.12 page no 89\n",
"//given\n",
"ensqr=8*10^-16//noise voltage\n",
"insqr=9*10^-25//rms noise current\n",
"Rs=9.42*10^3//sourse resistance\n",
"k=1.38*10^-23//Boltzmmans constant\n",
"T=290//tempreture\n",
"N=ensqr+insqr*Rs^2+4*k*T*Rs//total noise\n",
"disp(N,'the total noise is ')\n",
"disp('If the sourse resistance is zero,the total noise is ')\n",
"disp('N=ensqr=8*10^-16')"
   ]
   }
,
{
		   "cell_type": "markdown",
		   "metadata": {},
		   "source": [
			"## Example 3.13: NNID_Ex_3_13.sce"
		   ]
		  },
  {
"cell_type": "code",
	   "execution_count": null,
	   "metadata": {
	    "collapsed": true
	   },
	   "outputs": [],
"source": [
"clc\n",
"//Chapter 3:Network noise and intermodulation distortion\n",
"//example 3.13 page no 96\n",
"//given\n",
"PI=20//intercept point in dBm\n",
"Pi=0//input signal power dBm\n",
"PIMR=-2*PI//intermodulation distortion ratio (by the rules of logaritham as values are already given in dBm)\n",
"mprintf('the intermodulation distortion ratio  is %d dB',PIMR)"
   ]
   }
,
{
		   "cell_type": "markdown",
		   "metadata": {},
		   "source": [
			"## Example 3.14: NNID_Ex_3_14.sce"
		   ]
		  },
  {
"cell_type": "code",
	   "execution_count": null,
	   "metadata": {
	    "collapsed": true
	   },
	   "outputs": [],
"source": [
"clc\n",
"//Chapter 3:Network noise and intermodulation distortion\n",
"//example 3.14 page no 97\n",
"//given\n",
"PI=20//intercept point in dBm\n",
"Nf=-123//noise floor in dBm\n",
"DR=2/3*(PI-Nf)//dynamic range (by the rules of logarithms as value are already given in dBm)\n",
"mprintf('the dynamic range is %f dB',DR)"
   ]
   }
,
{
		   "cell_type": "markdown",
		   "metadata": {},
		   "source": [
			"## Example 3.3: NNID_Ex_3_3.sce"
		   ]
		  },
  {
"cell_type": "code",
	   "execution_count": null,
	   "metadata": {
	    "collapsed": true
	   },
	   "outputs": [],
"source": [
"clc\n",
"//Chapter 3:Network noise and intermodulation distortion\n",
"//example 3.3 page no 80\n",
"//given\n",
"NF1=2//first stage noise figure\n",
"NF2=6//second stage noise figure\n",
"F1=10^(NF1/10)//first stage noise factor\n",
"F2=10^(NF2/10)//second stage noise factor\n",
"G1=15.9//gain of first stage equivalent to 12dB\n",
"G2=10//gain of second stage equivalent to 10dB\n",
"F=F1+(F2-1)/G1//overall noise factor\n",
"NF=10*log10(F)//noise figure of the two-stage systemm\n",
"printf('the noise figure of the two-stage system is %f dB',round(NF*10)/10)"
   ]
   }
,
{
		   "cell_type": "markdown",
		   "metadata": {},
		   "source": [
			"## Example 3.4: NNID_Ex_3_4.sce"
		   ]
		  },
  {
"cell_type": "code",
	   "execution_count": null,
	   "metadata": {
	    "collapsed": true
	   },
	   "outputs": [],
"source": [
"clc\n",
"//Chapter 3:Network noise and intermodulation distortion\n",
"//example 3.4 page no 81\n",
"//given\n",
"k=1.37*10^-23//boltzmann's onstant\n",
"T=290//operating tempreture\n",
"B=3*10^3//bandwidth\n",
"F=1.779//overall noise factor(from previous ex)\n",
"G1=15.9//gain of first stage(from previous ex)\n",
"G2=10//gain of second stage(from previous ex)\n",
"Ni_Na=F*k*T*B//noise at the input (addition of Ni and Na)\n",
"No=G1*G2*(Ni_Na)//the output noise\n",
"mprintf('the output noise is %3.2e W',No)"
   ]
   }
,
{
		   "cell_type": "markdown",
		   "metadata": {},
		   "source": [
			"## Example 3.5: NNID_Ex_3_5.sce"
		   ]
		  },
  {
"cell_type": "code",
	   "execution_count": null,
	   "metadata": {
	    "collapsed": true
	   },
	   "outputs": [],
"source": [
"clc\n",
"//Chapter 3:Network noise and intermodulation distortion\n",
"//example 3.5 page no 82\n",
"//given\n",
"F=1.6//noise factor\n",
"T=290//referance temperture\n",
"Tr=(F-1)*T//system noise tempreture\n",
"mprintf('the system noise tempreture is %d K',Tr)"
   ]
   }
,
{
		   "cell_type": "markdown",
		   "metadata": {},
		   "source": [
			"## Example 3.6: NNID_Ex_3_6.sce"
		   ]
		  },
  {
"cell_type": "code",
	   "execution_count": null,
	   "metadata": {
	    "collapsed": true
	   },
	   "outputs": [],
"source": [
"clc\n",
"//Chapter 3:Network noise and intermodulation distortion\n",
"//example 3.6 page no 82\n",
"//given\n",
"NF=8//noise figure in dB\n",
"B=2.1*10^3//bandwidth\n",
"Rs=50//sourse resistance\n",
"Si_dB=NF-144+log10(B)//available input power in dBm\n",
"Si_W=(10^(Si_dB/10))/10^3//available input power in W\n",
"Ei=sqrt(Si_W*4*Rs)//minimum detectable signal\n",
"mprintf('the minimum detectable signal is %f uV',round(Ei*1e6*100)/100)"
   ]
   }
,
{
		   "cell_type": "markdown",
		   "metadata": {},
		   "source": [
			"## Example 3.7: NNID_Ex_3_7.sce"
		   ]
		  },
  {
"cell_type": "code",
	   "execution_count": null,
	   "metadata": {
	    "collapsed": true
	   },
	   "outputs": [],
"source": [
"clc\n",
"//Chapter 3:Network noise and intermodulation distortion\n",
"//example 3.7 page no 83\n",
"//given\n",
"NF=8//noise figure in dB\n",
"B=2.1*10^3//bandwidth\n",
"Rs=50//sourse resistance\n",
"Si_dB=NF-134+log10(B)//available input power in dBm\n",
"Si_W=(10^(Si_dB/10))/10^3//available input power in Watts\n",
"Ei=sqrt(Si_W*4*Rs)//minimum detectable signal\n",
"mprintf('the minimum detectable signal is %f uV',round(Ei*1e7*1000)/10000)"
   ]
   }
,
{
		   "cell_type": "markdown",
		   "metadata": {},
		   "source": [
			"## Example 3.8: NNID_Ex_3_8.sce"
		   ]
		  },
  {
"cell_type": "code",
	   "execution_count": null,
	   "metadata": {
	    "collapsed": true
	   },
	   "outputs": [],
"source": [
"clc\n",
"//Chapter 3:Network noise and intermodulation distortion\n",
"//example 3.8 page no 83\n",
"//given\n",
"NF=4//noise figure in dB\n",
"B=3*10^3//bandwidth\n",
"Rs=50//sourse resistance\n",
"k=1.38*10^-23//Boltzmmans constant\n",
"T=290//tempreture\n",
"//For si of -125dBm the value of Ei is 0.245uV will produce a 10dB output to noise ratio. now consider the performance of this receiver when it is connected to an antenna with a noise figure of 20dB\n",
"N_ant=20//antenna noise figure\n",
"N_Fr=4//receiver noise figure\n",
"F_ant=10^(N_ant/10)//antenna noise factor\n",
"Fr=10^(N_Fr/10)//receiver noise factor\n",
"S_N=10//output signal to noise ratio\n",
"Si_W=(S_N)*(F_ant+Fr-1)*k*T*B//available input power in Watts\n",
"Ei=sqrt(Si_W*4*Rs)//minimum detectable signal\n",
"mprintf('the minimum detectable signal is %f uV',round(Ei*1e6*100)/100)"
   ]
   }
,
{
		   "cell_type": "markdown",
		   "metadata": {},
		   "source": [
			"## Example 3.9: NNID_Ex_3_9.sce"
		   ]
		  },
  {
"cell_type": "code",
	   "execution_count": null,
	   "metadata": {
	    "collapsed": true
	   },
	   "outputs": [],
"source": [
"clc\n",
"//Chapter 3:Network noise and intermodulation distortion\n",
"//example 3.8 page no 84\n",
"//given\n",
"NF=4//noise figure in dB\n",
"B=3*10^3//bandwidth\n",
"Rs=50//sourse resistance\n",
"k=1.38*10^-23//Boltzmmans constant\n",
"T=290//tempreture\n",
"NFa=20//antenna noise figure\n",
"NFr=10//receiver noise figure\n",
"Fa=10^(NFa/10)//antenna noise factor\n",
"Fr=10^(NFr/10)//receiver noise factor\n",
"S_N=10//output signal to noise ratio\n",
"Si_W=(S_N)*(Fa+Fr-1)*k*T*B//available input power in Watts\n",
"Ei=sqrt(Si_W*4*Rs)//minimum detectable signal\n",
"mprintf('the minimum detectable signal is %f uV',round(Ei*1e6*10)/10)"
   ]
   }
],
"metadata": {
		  "kernelspec": {
		   "display_name": "Scilab",
		   "language": "scilab",
		   "name": "scilab"
		  },
		  "language_info": {
		   "file_extension": ".sce",
		   "help_links": [
			{
			 "text": "MetaKernel Magics",
			 "url": "https://github.com/calysto/metakernel/blob/master/metakernel/magics/README.md"
			}
		   ],
		   "mimetype": "text/x-octave",
		   "name": "scilab",
		   "version": "0.7.1"
		  }
		 },
		 "nbformat": 4,
		 "nbformat_minor": 0
}
