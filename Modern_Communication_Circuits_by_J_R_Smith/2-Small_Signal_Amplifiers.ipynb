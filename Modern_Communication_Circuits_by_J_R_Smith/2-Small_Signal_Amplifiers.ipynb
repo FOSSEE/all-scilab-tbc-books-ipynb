{
"cells": [
 {
		   "cell_type": "markdown",
	   "metadata": {},
	   "source": [
       "# Chapter 2: Small Signal Amplifiers"
	   ]
	},
{
		   "cell_type": "markdown",
		   "metadata": {},
		   "source": [
			"## Example 2.10: SSA_Ex_2_10.sce"
		   ]
		  },
  {
"cell_type": "code",
	   "execution_count": null,
	   "metadata": {
	    "collapsed": true
	   },
	   "outputs": [],
"source": [
"clc\n",
"//Chapter 2:Small Signal Amplifiers\n",
"//example 2.10 page no 51\n",
"//given\n",
"Z1=1*10^3//asumming impedance value for required specification\n",
"Av=-50//voltage gain\n",
"Zf=-Av*Z1//feedback impedance\n",
"mprintf('Z1=%d K ohm \n feedback impedance (Zf)= %d K ohm',Z1*1e-3,Zf*1e-3)"
   ]
   }
,
{
		   "cell_type": "markdown",
		   "metadata": {},
		   "source": [
			"## Example 2.11: SSA_Ex_2_11.sce"
		   ]
		  },
  {
"cell_type": "code",
	   "execution_count": null,
	   "metadata": {
	    "collapsed": true
	   },
	   "outputs": [],
"source": [
"clc\n",
"//Chapter 2:Small Signal Amplifiers\n",
"//example 2.11 pag no 51\n",
"//given\n",
"wL=10^6//bandwidth\n",
"R1=1*10^3//taking resistance value for required specification\n",
"Av=-50//voltage gain\n",
"Rf=-Av*R1//feedback resistance\n",
"C=(wL*Rf)^-1//capacitance\n",
"mprintf('R1=%d K ohm \n feedback resistance= %d K  ohm \n capacitance= %d pF',R1*1e-3,Rf*1e-3,C*1e12)"
   ]
   }
,
{
		   "cell_type": "markdown",
		   "metadata": {},
		   "source": [
			"## Example 2.12: SSA_Ex_2_12.sce"
		   ]
		  },
  {
"cell_type": "code",
	   "execution_count": null,
	   "metadata": {
	    "collapsed": true
	   },
	   "outputs": [],
"source": [
"clc\n",
"//Chapter 2:Small Signal Amplifiers\n",
"//example 2.12 page no 53\n",
"//given\n",
"Aa=10^4//open loop gain\n",
"Rf=10^4//feedback resistance\n",
"Ri=100//input resistance\n",
"Av=-(Rf/Ri)/(1+(Ri+Rf)*(Aa*Ri))//actual amplifier gain\n",
"disp(Av,'the actual amplifier gain is ')"
   ]
   }
,
{
		   "cell_type": "markdown",
		   "metadata": {},
		   "source": [
			"## Example 2.13: SSA_Ex_2_13.sce"
		   ]
		  },
  {
"cell_type": "code",
	   "execution_count": null,
	   "metadata": {
	    "collapsed": true
	   },
	   "outputs": [],
"source": [
"clc\n",
"//Chapter 2:Bipolar transistor amplifiers\n",
"//example 2.13 page no 53\n",
"//given\n",
"G=90//low frequency gain in dB\n",
"Ao=(G/20)//low frequency open loop gain\n",
"wT=150*10^6//gain bandwidth product\n",
"wo=wT/Ao//bandwidth\n",
"disp('the transfer function is')\n",
"disp('Av=3.16*e4/(1+jw/(2*pi*4.7*e3))')"
   ]
   }
,
{
		   "cell_type": "markdown",
		   "metadata": {},
		   "source": [
			"## Example 2.14: SSA_Ex_2_14.sce"
		   ]
		  },
  {
"cell_type": "code",
	   "execution_count": null,
	   "metadata": {
	    "collapsed": true
	   },
	   "outputs": [],
"source": [
"clc\n",
"//Chapter 2:Small Signal Amplifiers\n",
"//example 2.14 page no 57\n",
"//given\n",
"Z1=1*10^3//assuming impedance value for required specification\n",
"Av=100//voltage gain\n",
"Z2=(Av-1)*Z1\n",
"mprintf('Z1=%d Kohm \n Z2=%d Kohm',Z1*1e-3,Z2*1e-3)"
   ]
   }
,
{
		   "cell_type": "markdown",
		   "metadata": {},
		   "source": [
			"## Example 2.1: SSA_Ex_2_1.sce"
		   ]
		  },
  {
"cell_type": "code",
	   "execution_count": null,
	   "metadata": {
	    "collapsed": true
	   },
	   "outputs": [],
"source": [
"clc\n",
"//Chapter 2:Small Signal Amplifiers\n",
"//example 2.1 page no 17\n",
"//given\n",
"B=100//current gain\n",
"Ic=10^-3//collector bias current\n",
"//kT/q=0.026 where as k=Boltzmanns constant T=temperature q=charge on an electron\n",
"rpi=(0.026*B)/Ic//base emitter resistance\n",
"mprintf('the base emitter resistance is %d ohm',rpi)"
   ]
   }
,
{
		   "cell_type": "markdown",
		   "metadata": {},
		   "source": [
			"## Example 2.2: SSA_Ex_2_2.sce"
		   ]
		  },
  {
"cell_type": "code",
	   "execution_count": null,
	   "metadata": {
	    "collapsed": true
	   },
	   "outputs": [],
"source": [
"clc\n",
"//Chapter 2:Small Signal Amplifiers\n",
"//example 2.2 page no 22\n",
"//given\n",
"Ic=10^-3//collector bias current\n",
"B=100//current gain\n",
"RL=4*10^3//load resistance\n",
"Rs=50//source resistance\n",
"gm=40*Ic//transconductance\n",
"rpi=B/gm//base emitter resistance\n",
"Av=(B*RL)/(rpi+Rs*(1+B))//voltage gain\n",
"disp(Av,'the voltage gain is ')\n",
"Ai=B/(1+B)//current gain\n",
"disp(Ai,'the current gain is ')\n",
"Zi=1/gm//input impedance\n",
"mprintf('the input impedance is %d ohm',Zi)\n",
""
   ]
   }
,
{
		   "cell_type": "markdown",
		   "metadata": {},
		   "source": [
			"## Example 2.3: SSA_Ex_2_3.sce"
		   ]
		  },
  {
"cell_type": "code",
	   "execution_count": null,
	   "metadata": {
	    "collapsed": true
	   },
	   "outputs": [],
"source": [
"clc\n",
"//Chapter 2:Small Signal Amplifiers\n",
"//example 2.3 page no 25\n",
"//given\n",
"Ic=40*10^-3//collector bias current\n",
"B=40//current gain\n",
"RL=50//load resistance\n",
"Rs=50//source resistance\n",
"rpi=(0.026*B)/Ic//base emitter resistance\n",
"Av=(B*RL)/(rpi+Rs+(1+B)*RL)//voltage gain\n",
"Ai=(1+B)//current gain\n",
"Ap=Ai*Av//power gain\n",
"mprintf('the power gain is %f \n',Ap)\n",
"Zo=(rpi+Rs)/(1+B)//output impedance\n",
"mprintf('the amplifier output impedance as per seen by 50 ohm \nresistance is %f ohm',Zo)"
   ]
   }
,
{
		   "cell_type": "markdown",
		   "metadata": {},
		   "source": [
			"## Example 2.4: SSA_Ex_2_4.sce"
		   ]
		  },
  {
"cell_type": "code",
	   "execution_count": null,
	   "metadata": {
	    "collapsed": true
	   },
	   "outputs": [],
"source": [
"clc\n",
"//Chapter 2:Small Signal Amplifiers\n",
"//example 2.4 page no 30\n",
"//given\n",
"VDS=15\n",
"IDSS=8*10^-3\n",
"gmo=4*10^-3\n",
"rd=13*10^3\n",
"ID=2*10^-3//drain current\n",
"Vs=0//source is grounded Vgs=Vg-Vs=Vi\n",
"RL=2*10^3//load resistance\n",
"R_L=(RL*rd)/(RL+rd)//equivalent load resistance\n",
"gm=gmo*sqrt(ID/IDSS)//transconductance\n",
"Av=-gm*R_L//voltage gain Av=Vo/Vi=-gm*R_L\n",
"mprintf('the midband voltage gain is %f ',Av)"
   ]
   }
,
{
		   "cell_type": "markdown",
		   "metadata": {},
		   "source": [
			"## Example 2.5: SSA_Ex_2_5.sce"
		   ]
		  },
  {
"cell_type": "code",
	   "execution_count": null,
	   "metadata": {
	    "collapsed": true
	   },
	   "outputs": [],
"source": [
"clc\n",
"//Chapter 2:Small Signal Amplifiers\n",
"//example 2.5 page no 32\n",
"//given\n",
"gm=60*10^-3//transconductance\n",
"Si=50//antenna source impedance\n",
"rd=2.5*10^3\n",
"Zo=rd/(1+gm*rd)//output impedance without load\n",
"RL=200//load resistance\n",
"zo1=200*Zo/(200+Zo)//output impedance with load\n",
"Av=gm*(rd*RL/rd+RL)/(1+gm*(rd*RL/rd+RL))//voltage gain\n",
"mprintf('the voltage gain is %f ',Av)\n",
"\n",
"\n",
""
   ]
   }
,
{
		   "cell_type": "markdown",
		   "metadata": {},
		   "source": [
			"## Example 2.6: SSA_Ex_2_6.sce"
		   ]
		  },
  {
"cell_type": "code",
	   "execution_count": null,
	   "metadata": {
	    "collapsed": true
	   },
	   "outputs": [],
"source": [
"clc\n",
"//Chapter 2:Small Signal Amplifiers\n",
"//example 2.6 page no 36\n",
"//given\n",
"RL=50//load resistance\n",
"gm=0.2//tranceconductance\n",
"B=100//current gain\n",
"rpi=B/gm//transistor input resistance\n",
"disp(rpi,'the transistor input resistance is ')\n",
"disp('The load resistance seen bythe first stage will be the 2k ohm resistor in parallel with Rb2 and the input impedance of the second stage That is R_L=1.05*10^3')\n",
"R_L=1.05*10^3\n",
"Rs=500//source resistance\n",
"IC1=2*10^-3//collector bias current\n",
"gm1=40*IC1//tranceconductance\n",
"disp(gm1,'the tranceconductance is in ohm ')\n",
"rpi1=B/gm1//transistor input resistance\n",
"disp(rpi1,'the transistor input resistance is in ohm ')\n",
"Av1=-gm1*R_L*(rpi1/(rpi1+Rs))//the voltage gain of first \n",
"disp(Av1,'the voltage gain of second stage is closed to unity the voltage gain of first is ')"
   ]
   }
,
{
		   "cell_type": "markdown",
		   "metadata": {},
		   "source": [
			"## Example 2.8: SSA_Ex_2_8.sce"
		   ]
		  },
  {
"cell_type": "code",
	   "execution_count": null,
	   "metadata": {
	    "collapsed": true
	   },
	   "outputs": [],
"source": [
"clc\n",
"//Chapter 2:Small Signal Amplifiers\n",
"//example 2.8 page no 42\n",
"//given\n",
"disp('Assuming Vi (input voltage)=1')\n",
"V1=(5+10^6)/(5+2*10^6)//voltage on the positive terminal\n",
"V2=10^6/(5+2*10^6)//the voltage on the inverting terminal\n",
"ed=V1-V2//differential voltage\n",
"ec=(V1+V2)/2//common-mode voltage\n",
"Ad=2*10^3//differentail gain\n",
"Ac=2*10^-3//common mode gain (here 20% of differentail gain)\n",
"Vo=Ad*ed+Ac*ec//actual amplifier output\n",
"mprintf('the voltage gain is %3.2e Volts',Vo)"
   ]
   }
,
{
		   "cell_type": "markdown",
		   "metadata": {},
		   "source": [
			"## Example 2.9: SSA_Ex_2_9.sce"
		   ]
		  },
  {
"cell_type": "code",
	   "execution_count": null,
	   "metadata": {
	    "collapsed": true
	   },
	   "outputs": [],
"source": [
"clc\n",
"//Chapter 2:Small Signal Amplifiers\n",
"//example 2.9 page no 45\n",
"//given\n",
"ed=5*10^-3//differential voltage\n",
"ec=2.5*10^-3//common-mode voltage\n",
"gm=1.5*10^-3//tranceconductance\n",
"rd=500*10^3\n",
"Rs=150*10^3//source resistance\n",
"RL=10*10^3//load resistance\n",
"Ac=-gm*RL/(1+2*gm*Rs)//common mode gain \n",
"Ad=gm*RL/2//differential gain\n",
"Vo=ec*Ac+ed*Ad//actual amplifier output\n",
"mprintf('the output to the applied signal is %f mV',Vo*1e3)\n",
""
   ]
   }
],
"metadata": {
		  "kernelspec": {
		   "display_name": "Scilab",
		   "language": "scilab",
		   "name": "scilab"
		  },
		  "language_info": {
		   "file_extension": ".sce",
		   "help_links": [
			{
			 "text": "MetaKernel Magics",
			 "url": "https://github.com/calysto/metakernel/blob/master/metakernel/magics/README.md"
			}
		   ],
		   "mimetype": "text/x-octave",
		   "name": "scilab",
		   "version": "0.7.1"
		  }
		 },
		 "nbformat": 4,
		 "nbformat_minor": 0
}
