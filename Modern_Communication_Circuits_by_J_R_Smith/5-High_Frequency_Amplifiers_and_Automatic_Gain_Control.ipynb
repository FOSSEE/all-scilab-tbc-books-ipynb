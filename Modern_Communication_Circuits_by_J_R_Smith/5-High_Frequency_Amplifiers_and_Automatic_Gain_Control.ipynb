{
"cells": [
 {
		   "cell_type": "markdown",
	   "metadata": {},
	   "source": [
       "# Chapter 5: High Frequency Amplifiers and Automatic Gain Control"
	   ]
	},
{
		   "cell_type": "markdown",
		   "metadata": {},
		   "source": [
			"## Example 5.10: HFAAGC_Ex_5_10.sce"
		   ]
		  },
  {
"cell_type": "code",
	   "execution_count": null,
	   "metadata": {
	    "collapsed": true
	   },
	   "outputs": [],
"source": [
"clc\n",
"//Chapter 5:High Frequency Amplifiers and Automatic Gain Control\n",
"//example 5.10 page no 178\n",
"//given\n",
"fp=10*10^6//upper corner frequency\n",
"n=2//no. of stages\n",
"f1=fp*sqrt(2^(1/n)-1)//overall bandwidth\n",
"disp('since each stage has a gain of 20dB,the overall low-frequency gain is 40dB ')\n",
"mprintf('the overall bandwidth is %f MHz',f1*1e-6)"
   ]
   }
,
{
		   "cell_type": "markdown",
		   "metadata": {},
		   "source": [
			"## Example 5.11: HFAAGC_Ex_5_11.sce"
		   ]
		  },
  {
"cell_type": "code",
	   "execution_count": null,
	   "metadata": {
	    "collapsed": true
	   },
	   "outputs": [],
"source": [
"clc\n",
"//Chapter 5:High Frequency Amplifiers and Automatic Gain Control\n",
"//example 5.11 page no 181\n",
"//given\n",
"rpi=237\n",
"CM=1166*10^-12//miller capacitance\n",
"Co=4*10^-12//equivalent miller capacitance reflected at output side\n",
"Rs=500//source resistance\n",
"RL=600//load resistance\n",
"Cs=rpi*CM/Rs//capacitance across source resistance\n",
"B=(RL*Co)^-1//total bandwidth\n",
"disp('the midfrequency voltage gain is -77.2')\n",
"mprintf('the total bandwidth is %3.2e rad/s \n the capacitance across source resistance is %3.2e F',B,Cs)"
   ]
   }
,
{
		   "cell_type": "markdown",
		   "metadata": {},
		   "source": [
			"## Example 5.12: HFAAGC_Ex_5_12.sce"
		   ]
		  },
  {
"cell_type": "code",
	   "execution_count": null,
	   "metadata": {
	    "collapsed": true
	   },
	   "outputs": [],
"source": [
"clc\n",
"//Chapter 5:High Frequency Amplifiers and Automatic Gain Control\n",
"//example 5.12\n",
"//given\n",
"B=10^7//amplifier bandwidth\n",
"Bf=10*B//closed loop bandwidth\n",
"disp('The closed loop gain has been reduced by 20dB (a factor of 10) so the banwidth increased proportionally')\n",
"mprintf('the closed-loop bandwidth is %3.2e rad/s',B)"
   ]
   }
,
{
		   "cell_type": "markdown",
		   "metadata": {},
		   "source": [
			"## Example 5.13: HFAAGC_Ex_5_13.sce"
		   ]
		  },
  {
"cell_type": "code",
	   "execution_count": null,
	   "metadata": {
	    "collapsed": true
	   },
	   "outputs": [],
"source": [
"clc\n",
"//Chapter 5:High Frequency amplifiers and automatic gain control\n",
"//Example 5.13 page no 184\n",
"//Example on emitter feedback\n",
"disp('The parallel combination of the two base biasing resistors is 2.66k ohm resistor. The parallel combination of this resistor and the 260ohm emitter resistance is 237ohm  i.e.rpi=237ohm')\n",
"gm=0.4//transconductance\n",
"rpi=237//base emitter resistance\n",
"RL=600//load resistance (values of resistance are taken from the figure)\n",
"Rs=500//source resistance\n",
"Av=gm*RL*rpi/(rpi+Rs)//Voltage gain \n",
"B=0.84*10^6//Bandwidth (The value of Bandwidth is taken from the Graph firure 5.51)\n",
"GB=Av*B//Gain bandwidth product\n",
"mprintf('The gain bandwidth product is %3.2e Hz ',GB)"
   ]
   }
,
{
		   "cell_type": "markdown",
		   "metadata": {},
		   "source": [
			"## Example 5.14: HFAAGC_Ex_5_14.sce"
		   ]
		  },
  {
"cell_type": "code",
	   "execution_count": null,
	   "metadata": {
	    "collapsed": true
	   },
	   "outputs": [],
"source": [
"clc\n",
"//Chapter 5:High Frequency amplifiers and automatic gain control\n",
"//Example 5.14 page no 189\n",
"//Example on voltage to current feedback\n",
"gm=0.4//transconductance\n",
"RL=600//load resistance\n",
"Rs=500//source resistance (refer figure 5.54)\n",
"disp('Av=-gm*RL/(1+gf*RL+gm*RL*(Rs/RF))')//Voltage gain \n",
"disp('GB=Av*B')\n",
"disp('The gain bandwidth product varies from a low of 59.5*10^6 Hz for a gain of unity 265.1*10^6 Hz for a closed loop gain of 17.9 ')//(refer figure 5.55)"
   ]
   }
,
{
		   "cell_type": "markdown",
		   "metadata": {},
		   "source": [
			"## Example 5.15: HFAAGC_Ex_5_15.sce"
		   ]
		  },
  {
"cell_type": "code",
	   "execution_count": null,
	   "metadata": {
	    "collapsed": true
	   },
	   "outputs": [],
"source": [
"clc\n",
"//Chapter 5:High Frequency amplifiers and automatic gain control\n",
"//Example 5.15 page no 193\n",
"disp('Gain bandwidth product of a common base amplifier with lossless feedback ')\n",
"//All the Bandwidth values are taken by graph\n",
"m1=0//i.e. for no turns ratio \n",
"Av1=1//for no turns ratio voltage gain is approx unity \n",
"B1=79.4*10^6//bandwidth\n",
"GB1=Av1*B1//Gain bandwidth product\n",
"m2=4//i.e. for turns ratio is 4\n",
"Av2=m2/2//voltage gain\n",
"B2=11.22*10^6//bandwidth\n",
"GB2=Av2*B2//Gain bandwidth product\n",
"m3=6//i.e. for turns ratio is 6\n",
"Av3=m3/2//voltage gain \n",
"B3=4.67*10^6//bandwidth\n",
"GB3=Av3*B3//Gain bandwidth product\n",
"m4=10//i.e. for turns ratio is 10\n",
"Av4=m4/2//voltage gain \n",
"B4=1.6*10^6//bandwidth\n",
"GB4=Av4*B4//Gain bandwidth product\n",
"m5=20//i.e. for turns ratio is 20\n",
"Av5=m5/2//voltage gain \n",
"B5=4.22*10^5//bandwidth\n",
"GB5=Av5*B5//Gain bandwidth product\n",
"disp('The Gain Bandwidth product in Hz')\n",
"mprintf('GB1 = %3.2e \n GB2 = %3.2e \n GB3 = %3.2e \n GB4 = %3.2e \n GB5 = %3.2e ',GB1,GB2,GB3,GB4,GB5)"
   ]
   }
,
{
		   "cell_type": "markdown",
		   "metadata": {},
		   "source": [
			"## Example 5.18: HFAAGC_Ex_5_18.sce"
		   ]
		  },
  {
"cell_type": "code",
	   "execution_count": null,
	   "metadata": {
	    "collapsed": true
	   },
	   "outputs": [],
"source": [
"clc\n",
"//Chapter 5:High Frequency Amplifiers and Automatic Gain Control\n",
"//example 5.18\n",
"//given\n",
"Vr=1//reference voltage\n",
"Vc=0.5\n",
"Vo=Vr-Vc//output voltage\n",
"Vi=Vo/Vc^2//input voltage\n",
"mprintf('the dc voltage as function of input voltage is %d V',Vi)"
   ]
   }
,
{
		   "cell_type": "markdown",
		   "metadata": {},
		   "source": [
			"## Example 5.1: HFAAGC_Ex_5_1.sce"
		   ]
		  },
  {
"cell_type": "code",
	   "execution_count": null,
	   "metadata": {
	    "collapsed": true
	   },
	   "outputs": [],
"source": [
"clc\n",
"//Chapter 5:High Frequency Amplifiers and Automatic Gain Control\n",
"//example 5.1 page no 147\n",
"//given\n",
"B=100\n",
"fT=3*10^8//transistor frequency\n",
"Cu=4*10^-12//output capacitance common baxe configuration\n",
"Ic=10*10^-3//collector direct current\n",
"rpi=0.026*B/Ic//base emitter resistance\n",
"gm=40*Ic//transconductance\n",
"wT=0.4/(2*%pi*3*10^8)//gain bandwidth product\n",
"Cpi=wT-Cu//base emitter capacitance\n",
"mprintf('the base emitter resistance is %d ohm \n the transconductance is %f S \n the base emitter capacitance is %3.2e pF',rpi,gm,Cpi)"
   ]
   }
,
{
		   "cell_type": "markdown",
		   "metadata": {},
		   "source": [
			"## Example 5.2: HFAAGC_Ex_5_2.sce"
		   ]
		  },
  {
"cell_type": "code",
	   "execution_count": null,
	   "metadata": {
	    "collapsed": true
	   },
	   "outputs": [],
"source": [
"clc\n",
"//Chapter 5:High Frequency Amplifiers and Automatic Gain Control\n",
"//example 5.2 page no 148\n",
"//given\n",
"wT=3*10^8//gain bandwidth product\n",
"w=10*10^6//given frequency\n",
"Ai=wT/w//short circuit current gain\n",
"mprintf('the short circuit current gain is %d ',Ai)"
   ]
   }
,
{
		   "cell_type": "markdown",
		   "metadata": {},
		   "source": [
			"## Example 5.3: HFAAGC_Ex_5_3.sce"
		   ]
		  },
  {
"cell_type": "code",
	   "execution_count": null,
	   "metadata": {
	    "collapsed": true
	   },
	   "outputs": [],
"source": [
"clc\n",
"//Chapter 5:High Frequency Amplifiers and Automatic Gain Control\n",
"//example 5.3 page no 153\n",
"//given\n",
"gm=2*10^-3//transconductance\n",
"Cgs=5*10^-12//equivalent Miller's input capacitance\n",
"Cgd=1*10^-12//equivalent Miller's output capacitance\n",
"Cds=1*10^-12\n",
"rd=13*10^3\n",
"R=5*10^3//source resistance\n",
"RL=(6*10^3*13*10^3)/(6*10^3+13*10^3)//total load resistance\n",
"Av=-gm*RL//voltage gain\n",
"R_L=RL*rd/(RL+rd)\n",
"CT=Cgs+Cgd*(1+gm*R_L)//total capacitance\n",
"Co=Cds+(Cgd*(1+gm*R_L)/(gm*R_L))//output capacitance\n",
"w1=(R*CT)^-1//pole due to input circuit\n",
"w2=(RL*Co)^-1//pole due to output circuit\n",
"mprintf('the voltage gain is %f \n the total capacitance is %3.2e pF \n the output capacitance is %3.2e pF \n the pole due to input circuit is %3.2e rad/s \n the pole due to output circuit is %3.2e rad/s ',Av,CT,Co,w1,w2)"
   ]
   }
,
{
		   "cell_type": "markdown",
		   "metadata": {},
		   "source": [
			"## Example 5.4: HFAAGC_Ex_5_4.sce"
		   ]
		  },
  {
"cell_type": "code",
	   "execution_count": null,
	   "metadata": {
	    "collapsed": true
	   },
	   "outputs": [],
"source": [
"clc\n",
"//Chapter 5:High Frequency Amplifiers and Automatic Gain Control\n",
"//example 5.4 page no 155\n",
"//given\n",
"gm=2*10^-3//transconductance\n",
"Cgs=5*10^-12//equivalent Miller's input capacitance\n",
"Cgd=10^-12//equivalent Miller's output capacitance\n",
"Cds=10^-12\n",
"R=5*10^3\n",
"R_L=4.1*10^3\n",
"wz=2*10^9\n",
"CT=Cgs+Cgd*(1+gm*R_L)//total capacitance\n",
"Co=Cds+(Cgd*(1+gm*R_L)/(gm*R_L))//output capacitance\n",
"w1=(R*CT)^-1//pole due to input circuit\n",
"w2=(R_L*Co)^-1//pole due to output circuit\n",
"mprintf('the transfer function is found to be located at %3.2e rad/s \n the pole due to input circuit is %3.2e rad/s \n the pole due to output circuit is %3.2e rad/s ',wz,w1,w2)\n",
"\n",
""
   ]
   }
,
{
		   "cell_type": "markdown",
		   "metadata": {},
		   "source": [
			"## Example 5.5: HFAAGC_Ex_5_5.sce"
		   ]
		  },
  {
"cell_type": "code",
	   "execution_count": null,
	   "metadata": {
	    "collapsed": true
	   },
	   "outputs": [],
"source": [
"clc\n",
"//Chapter 5:High Frequency Amplifiers and Automatic Gain Control\n",
"//example 5.5 page no 157\n",
"//given\n",
"gm=0.4//transconductance\n",
"rpi=260\n",
"Re=237//emitter resistance\n",
"RL=600//load resistance\n",
"Rs=500//source resistance\n",
"Vi=1//input voltage(asumme Vi=1)\n",
"R=rpi*Rs/(rpi+Rs)\n",
"Vo=-gm*RL*Re/(Re+Rs)//output voltage\n",
"Cgs=960*10^-12//equivalent Miller's input capacitance\n",
"Ci=206*10^-12//input capacitance\n",
"CT=Cgs+Ci//total capacitance\n",
"Co=4*10^-12//output capacitance\n",
"w1=(R*CT)^-1//pole due to input circuit\n",
"w2=(RL*Co)^-1//pole due to output circuit\n",
"disp('The high-frequency performance is determined by the input circuit The upper -3dB frequency of this amplifier is equal to w1')\n",
"mprintf('the upper 3dB frequency is %3.2e rad/s ',w1)"
   ]
   }
,
{
		   "cell_type": "markdown",
		   "metadata": {},
		   "source": [
			"## Example 5.6: HFAAGC_Ex_5_6.sce"
		   ]
		  },
  {
"cell_type": "code",
	   "execution_count": null,
	   "metadata": {
	    "collapsed": true
	   },
	   "outputs": [],
"source": [
"clc\n",
"//Chapter 5:High Frequency Amplifiers and Automatic Gain Control\n",
"//example 5.5 page no 159\n",
"//given\n",
"s=poly(0,'s')\n",
"Vo=-(0.4-s*4*10^-12)*(966*10^3)\n",
"Vth=s^2*(79.6*10^-18)+s*(190.2*10^-9)+1\n",
"disp(Vo/Vth,'the transfer function is ')\n",
"wz=10^11//transfer function zero\n",
"w1=-5.5*10^6//pole due to input circuit\n",
"w2=-2.41*10^9//pole due to output circuit\n",
"mprintf('the transfer function zero is found to be located at %3.2e rad/s \n the pole due to input circuit is %3.2e rad/s \n the pole due to output circuit is %3.2e rad/s ',wz,w1,w2)\n",
""
   ]
   }
,
{
		   "cell_type": "markdown",
		   "metadata": {},
		   "source": [
			"## Example 5.7: HFAAGC_Ex_5_7.sce"
		   ]
		  },
  {
"cell_type": "code",
	   "execution_count": null,
	   "metadata": {
	    "collapsed": true
	   },
	   "outputs": [],
"source": [
"clc\n",
"//Chapter 5:High Frequency Amplifiers and Automatic Gain Control\n",
"//example 5.7 page no 162\n",
"//given\n",
"gm=0.4//transconductance\n",
"RL=600//load resistance\n",
"Rs=500//source resistance\n",
"Avec=gm*RL//midband emitter to collector voltage gain\n",
"CM=(1-Avec)*10^-12//miller capacitance\n",
"C_M=CM/Avec//collector to ground miller capacitance\n",
"Ri=gm^-1\n",
"Av=Avec*(Ri/Rs)//midfrequency voltage gain\n",
"Co=(4+1)*10^-12//output capacitance\n",
"CT=(206+CM)*10^-12//toatl capacitance\n",
"R=(500^-1+300^-1+260^-1)^-1\n",
"w1=(R*CT)^-1//pole due to input circuit)\n",
"w2=(RL*Co)^-1//pole due to output circuit\n",
"mprintf('the mid frequency voltage gain %f \n the pole due to input circuit is %3.2e rad/s \n the pole due to output circuit is %3.2e rad/s ',Av,w1,w2)"
   ]
   }
,
{
		   "cell_type": "markdown",
		   "metadata": {},
		   "source": [
			"## Example 5.8: HFAAGC_Ex_5_8.sce"
		   ]
		  },
  {
"cell_type": "code",
	   "execution_count": null,
	   "metadata": {
	    "collapsed": true
	   },
	   "outputs": [],
"source": [
"clc\n",
"//Chapter 5:High Frequency Amplifiers and Automatic Gain Control\n",
"//example 5.8 page no 166\n",
"//given\n",
"Rs=500//source resistance\n",
"rpi=260\n",
"gm=0.4//transconductance\n",
"RL=600//load resistance\n",
"cpi=206*10^-12\n",
"wp=(Rs+rpi+(1+gm*rpi)*RL)/(rpi*cpi*(Rs+RL))//pole at the lower frequency\n",
"wz=(1+gm*rpi)/(rpi*cpi)//pole at the zero frequency\n",
"mprintf('the pole at the lower frequency is %3.2e rad/s \n the pole pole at the zero frequency is %3.2e rad/s ',wp,wz)"
   ]
   }
],
"metadata": {
		  "kernelspec": {
		   "display_name": "Scilab",
		   "language": "scilab",
		   "name": "scilab"
		  },
		  "language_info": {
		   "file_extension": ".sce",
		   "help_links": [
			{
			 "text": "MetaKernel Magics",
			 "url": "https://github.com/calysto/metakernel/blob/master/metakernel/magics/README.md"
			}
		   ],
		   "mimetype": "text/x-octave",
		   "name": "scilab",
		   "version": "0.7.1"
		  }
		 },
		 "nbformat": 4,
		 "nbformat_minor": 0
}
