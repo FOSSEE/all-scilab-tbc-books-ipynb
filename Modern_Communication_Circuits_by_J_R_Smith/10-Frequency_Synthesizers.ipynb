{
"cells": [
 {
		   "cell_type": "markdown",
	   "metadata": {},
	   "source": [
       "# Chapter 10: Frequency Synthesizers"
	   ]
	},
{
		   "cell_type": "markdown",
		   "metadata": {},
		   "source": [
			"## Example 10.11: FS_Ex_10_11.sce"
		   ]
		  },
  {
"cell_type": "code",
	   "execution_count": null,
	   "metadata": {
	    "collapsed": true
	   },
	   "outputs": [],
"source": [
"clc\n",
"//Chapter 10:Frequency Synthesizers\n",
"//Example 10.11 page no 446\n",
"disp('A signal sideband power is -140dB/Hz ')\n",
"N=5*10^6//frequency of reference oscillator \n",
"M=5*10^3//count\n",
"No=-140+10*log10((N/M)^2)//the output noise power due to the reference oscillator \n",
"mprintf('The single sideband noise power at a frequency offset of 0.5KHz is %d dB/Hz ',No)"
   ]
   }
,
{
		   "cell_type": "markdown",
		   "metadata": {},
		   "source": [
			"## Example 10.3: FS_Ex_10_3.sce"
		   ]
		  },
  {
"cell_type": "code",
	   "execution_count": null,
	   "metadata": {
	    "collapsed": true
	   },
	   "outputs": [],
"source": [
"clc\n",
"//Chapter 10:Frequency Synthesizers\n",
"//Example 10.3 page no 416\n",
"fr=1*10^6//reference frequency\n",
"f=100*10^6//given frequency\n",
"fi=1*10^6//increment in frequency\n",
"Dmin=fr*f/fi\n",
"mprintf('The value of Dmin is %d Hz',Dmin)"
   ]
   }
,
{
		   "cell_type": "markdown",
		   "metadata": {},
		   "source": [
			"## Example 10.4: FS_Ex_10_4.sce"
		   ]
		  },
  {
"cell_type": "code",
	   "execution_count": null,
	   "metadata": {
	    "collapsed": true
	   },
	   "outputs": [],
"source": [
"clc\n",
"//Chapter 10:Frequency Synthesizers\n",
"//Example 10.4 page no 417\n",
"fo=185.6*10^6//required output frequency\n",
"fr=31.25*10^3//reference frequency\n",
"P=64\n",
"disp('To begin with the hopping bin channel spacing requirement of at least 20KHz,a 2MHz crystal is connected to the MC14512-2 with the reference address inputs(pins 4,5,6) connected such that the crystal is divided by 64(RA2=0,RA1=0,RA0=1) This gives a reference frequency of 31.25KHz; and the maximum number of hops is 5.2MHz/31.25KHz=166.4hops FOr 185.6MHZ the values of N and A are found as follows:')\n",
"N=(fo/fr)/P//finding N for A=0\n",
"disp('For this value of N,find A by ')\n",
"A=(fo/fr)-92*P\n",
"mprintf('N = %d \n A = %d ',N,A)"
   ]
   }
,
{
		   "cell_type": "markdown",
		   "metadata": {},
		   "source": [
			"## Example 10.5: FS_Ex_10_5.sce"
		   ]
		  },
  {
"cell_type": "code",
	   "execution_count": null,
	   "metadata": {
	    "collapsed": true
	   },
	   "outputs": [],
"source": [
"clc\n",
"//Chapter 10:Frequency Synthesizers\n",
"//Example 10.5 page no 426\n",
"fr=100*10^3//reference frequency\n",
"f=10*10^6//given frequency\n",
"fi=1*10^3//increment in frequency\n",
"fo=fr*f/fi//required VCO operating frequency\n",
"mprintf('The value of VCO operating frequency is %3.2e Hz',fo)"
   ]
   }
,
{
		   "cell_type": "markdown",
		   "metadata": {},
		   "source": [
			"## Example 10.7: FS_Ex_10_7.sce"
		   ]
		  },
  {
"cell_type": "code",
	   "execution_count": null,
	   "metadata": {
	    "collapsed": true
	   },
	   "outputs": [],
"source": [
"clc\n",
"//Chapter 10:Frequency Synthesizers\n",
"//Example 10.7 page no 429\n",
"N=4\n",
"M=1.8//count\n",
"fr=100*10^3//reference frequency\n",
"fo=fr*(N+M^-1)//output frequency\n",
"mprintf('The value of output frequency is %3.2e Hz',fo)"
   ]
   }
,
{
		   "cell_type": "markdown",
		   "metadata": {},
		   "source": [
			"## Example 10.8: FS_Ex_10_8.sce"
		   ]
		  },
  {
"cell_type": "code",
	   "execution_count": null,
	   "metadata": {
	    "collapsed": true
	   },
	   "outputs": [],
"source": [
"clc\n",
"//Chapter 10:Frequency Synthesizers\n",
"//Example 10.8 page no 429\n",
"N=100\n",
"M=10//count\n",
"fr=10*10^3//reference frequency\n",
"fo=fr*(N+M^-1)//output frequency\n",
"mprintf('The value of output frequency is %f Hz',fo)"
   ]
   }
],
"metadata": {
		  "kernelspec": {
		   "display_name": "Scilab",
		   "language": "scilab",
		   "name": "scilab"
		  },
		  "language_info": {
		   "file_extension": ".sce",
		   "help_links": [
			{
			 "text": "MetaKernel Magics",
			 "url": "https://github.com/calysto/metakernel/blob/master/metakernel/magics/README.md"
			}
		   ],
		   "mimetype": "text/x-octave",
		   "name": "scilab",
		   "version": "0.7.1"
		  }
		 },
		 "nbformat": 4,
		 "nbformat_minor": 0
}
