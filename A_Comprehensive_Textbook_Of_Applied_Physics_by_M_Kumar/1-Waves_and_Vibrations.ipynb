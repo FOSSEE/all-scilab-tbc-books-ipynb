{
"cells": [
 {
		   "cell_type": "markdown",
	   "metadata": {},
	   "source": [
       "# Chapter 1: Waves and Vibrations"
	   ]
	},
{
		   "cell_type": "markdown",
		   "metadata": {},
		   "source": [
			"## Example 1.10: 10.sce"
		   ]
		  },
  {
"cell_type": "code",
	   "execution_count": null,
	   "metadata": {
	    "collapsed": true
	   },
	   "outputs": [],
"source": [
"clc;\n",
"a=20;      //amplitude in cm\n",
"n=6;      //frequency per second\n",
"w=2*(%pi)*n;   //omega in radians/sec\n",
"disp(w,'Omega in radians/sec = ');   //displaying result"
   ]
   }
,
{
		   "cell_type": "markdown",
		   "metadata": {},
		   "source": [
			"## Example 1.11: 11.sce"
		   ]
		  },
  {
"cell_type": "code",
	   "execution_count": null,
	   "metadata": {
	    "collapsed": true
	   },
	   "outputs": [],
"source": [
"clc;\n",
"a=6;     //amplitude in cm\n",
"n=9;     //frequency in Hz.\n",
"vmax=2*(%pi)*n*6;  //calculating velocity in cm/sec\n",
"acc=-((18*(%pi))^2)*6;  //calculating acc. in m/sec square\n",
"disp(vmax,'Maximum velocity in cm/sec = ');  //displaying result\n",
"disp('Velocity at extreme position = 0');   //displaying result\n",
"disp('Accelaration at mean position = 0');  //displaying result\n",
"disp(acc,'Accelaration at extreme position in m/sec square = ');  //displaying result"
   ]
   }
,
{
		   "cell_type": "markdown",
		   "metadata": {},
		   "source": [
			"## Example 1.1: 1.sce"
		   ]
		  },
  {
"cell_type": "code",
	   "execution_count": null,
	   "metadata": {
	    "collapsed": true
	   },
	   "outputs": [],
"source": [
"clc;\n",
"n=512;  //frequency in Hz\n",
"l=67;   //wavelength in cm\n",
"v=n*l;   //calculating velocity\n",
"disp(v,'Velocity in cm/sec = ');   //displaying result"
   ]
   }
,
{
		   "cell_type": "markdown",
		   "metadata": {},
		   "source": [
			"## Example 1.12: 12.sce"
		   ]
		  },
  {
"cell_type": "code",
	   "execution_count": null,
	   "metadata": {
	    "collapsed": true
	   },
	   "outputs": [],
"source": [
"clc;\n",
"g=9.8;   //gravitational constant\n",
"m=50;   //mass in kg\n",
"l=0.2;   //length in m\n",
"T=0.6;    //time period\n",
"k=(m*g)/l;   //calculating constant\n",
"m=2450*((T/(2*(%pi)))^2);  //calcualting mass using given time period\n",
"disp(m,'Mass of body in kg = ');  //displaying result"
   ]
   }
,
{
		   "cell_type": "markdown",
		   "metadata": {},
		   "source": [
			"## Example 1.2: 2.sce"
		   ]
		  },
  {
"cell_type": "code",
	   "execution_count": null,
	   "metadata": {
	    "collapsed": true
	   },
	   "outputs": [],
"source": [
"clc;\n",
"v=340;  //velocity in m/sec\n",
"l=0.68;   //wavelength in m\n",
"n=v/l;   //calculating frequency\n",
"disp(n,'Frequency in Hz = ');   //displaying result"
   ]
   }
,
{
		   "cell_type": "markdown",
		   "metadata": {},
		   "source": [
			"## Example 1.3: 3.sce"
		   ]
		  },
  {
"cell_type": "code",
	   "execution_count": null,
	   "metadata": {
	    "collapsed": true
	   },
	   "outputs": [],
"source": [
"clc;\n",
"v=3*10^8;  //velocity in m/sec\n",
"n=500*10^3;   //frequency in Hz\n",
"l=v/n;   //calculating wavelength\n",
"disp(l,'Wavelength in m = ');   //displaying result"
   ]
   }
,
{
		   "cell_type": "markdown",
		   "metadata": {},
		   "source": [
			"## Example 1.4: 4.sce"
		   ]
		  },
  {
"cell_type": "code",
	   "execution_count": null,
	   "metadata": {
	    "collapsed": true
	   },
	   "outputs": [],
"source": [
"clc;\n",
"v=330;  //velocity in m/sec\n",
"n=560;   //frequency in Hz\n",
"l=v/n;   //calculating wavelength\n",
"disp(l*30,'Distance travelled in 30 vibrations in m = ');   //displaying result"
   ]
   }
,
{
		   "cell_type": "markdown",
		   "metadata": {},
		   "source": [
			"## Example 1.5: 5.sce"
		   ]
		  },
  {
"cell_type": "code",
	   "execution_count": null,
	   "metadata": {
	    "collapsed": true
	   },
	   "outputs": [],
"source": [
"clc;\n",
"s=90;     //distance in m\n",
"u=0;      //initial velocity in m/sec\n",
"t=sqrt(90/4.9);    //calculating time using kinematical equation\n",
"t1=4.56-t;      //calculating time taken by sound to travel\n",
"v=s/t1;      //calculating velocity\n",
"disp(v,'Velocity in m/sec = ');  //displaying result"
   ]
   }
,
{
		   "cell_type": "markdown",
		   "metadata": {},
		   "source": [
			"## Example 1.6: 6.sce"
		   ]
		  },
  {
"cell_type": "code",
	   "execution_count": null,
	   "metadata": {
	    "collapsed": true
	   },
	   "outputs": [],
"source": [
"clc;\n",
"l1=1.5;   //wavelength in m\n",
"l2=2;   //wavelength in m\n",
"v1=120;  //velocity in m/sec\n",
"n=v1/l1;    //calculating frequency\n",
"v2=n*l2;   //calculating velocity\n",
"disp(v2,'Velocity in m/sec = ');  //displaying result"
   ]
   }
,
{
		   "cell_type": "markdown",
		   "metadata": {},
		   "source": [
			"## Example 1.7: 7.sce"
		   ]
		  },
  {
"cell_type": "code",
	   "execution_count": null,
	   "metadata": {
	    "collapsed": true
	   },
	   "outputs": [],
"source": [
"clc;\n",
"l=5641*10^-10;   //wavelength in m\n",
"c=3*10^8;        //velocity in m/sec\n",
"n=c/l;         //calculating frequency\n",
"u=1.58;       //refractive index of glass\n",
"cg=c/u;        //calculating velocity of light in glass\n",
"l1=cg/n;      //calculating wavelegth in glass\n",
"disp(l1*10^10,'Wavelength in glass in Angstrom =');  //displaying result"
   ]
   }
,
{
		   "cell_type": "markdown",
		   "metadata": {},
		   "source": [
			"## Example 1.8: 8.sce"
		   ]
		  },
  {
"cell_type": "code",
	   "execution_count": null,
	   "metadata": {
	    "collapsed": true
	   },
	   "outputs": [],
"source": [
"clc;\n",
"n=12*10^6;        //frequency in Hz\n",
"v=3*10^8;        //velocity in m/sec\n",
"l=v/n;           //calculating wavelength\n",
"disp(l,'Wavelength in m = ');  //displaying result"
   ]
   }
,
{
		   "cell_type": "markdown",
		   "metadata": {},
		   "source": [
			"## Example 1.9: 9.sce"
		   ]
		  },
  {
"cell_type": "code",
	   "execution_count": null,
	   "metadata": {
	    "collapsed": true
	   },
	   "outputs": [],
"source": [
"clc;\n",
"n=400;        //frequency in Hz\n",
"v=300;        //velocity in m/sec\n",
"l=v/n;           //calculating wavelength\n",
"disp(l,'Wavelength in m = ');  //displaying result"
   ]
   }
],
"metadata": {
		  "kernelspec": {
		   "display_name": "Scilab",
		   "language": "scilab",
		   "name": "scilab"
		  },
		  "language_info": {
		   "file_extension": ".sce",
		   "help_links": [
			{
			 "text": "MetaKernel Magics",
			 "url": "https://github.com/calysto/metakernel/blob/master/metakernel/magics/README.md"
			}
		   ],
		   "mimetype": "text/x-octave",
		   "name": "scilab",
		   "version": "0.7.1"
		  }
		 },
		 "nbformat": 4,
		 "nbformat_minor": 0
}
