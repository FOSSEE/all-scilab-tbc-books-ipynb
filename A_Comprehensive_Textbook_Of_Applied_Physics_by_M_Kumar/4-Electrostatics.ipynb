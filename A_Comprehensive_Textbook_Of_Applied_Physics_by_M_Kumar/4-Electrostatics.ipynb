{
"cells": [
 {
		   "cell_type": "markdown",
	   "metadata": {},
	   "source": [
       "# Chapter 4: Electrostatics"
	   ]
	},
{
		   "cell_type": "markdown",
		   "metadata": {},
		   "source": [
			"## Example 4.10: 10.sce"
		   ]
		  },
  {
"cell_type": "code",
	   "execution_count": null,
	   "metadata": {
	    "collapsed": true
	   },
	   "outputs": [],
"source": [
"clc;\n",
"q1=(2*10^-8);  //charge in coulomb\n",
"q2=(-2*10^-8);  //charge in coulomb\n",
"q3=(3*10^-8);  //charge in coulomb\n",
"q4=(6*10^-8);  //charge in coulomb\n",
"s=1;  //side in m\n",
"V=(9*10^9)*(1/s)*(q1+q2+q3+q4);  //calculating voltage\n",
"disp(V,'Voltage in Volts = ');  //displaying result"
   ]
   }
,
{
		   "cell_type": "markdown",
		   "metadata": {},
		   "source": [
			"## Example 4.11: 11.sce"
		   ]
		  },
  {
"cell_type": "code",
	   "execution_count": null,
	   "metadata": {
	    "collapsed": true
	   },
	   "outputs": [],
"source": [
"clc;\n",
"eo=8.85*10^-12;  //constant\n",
"q=2*10^-6;   //charge in coulomb\n",
"l=9;   //length in cm\n",
"fi=(q/eo);  //calcualting flux in (N m square)/c\n",
"disp(fi,'Flux through the surface in (N m square)/c = ');  //displaying result"
   ]
   }
,
{
		   "cell_type": "markdown",
		   "metadata": {},
		   "source": [
			"## Example 4.1: 1.sce"
		   ]
		  },
  {
"cell_type": "code",
	   "execution_count": null,
	   "metadata": {
	    "collapsed": true
	   },
	   "outputs": [],
"source": [
"clc;\n",
"q=1;         //no of coulomb\n",
"e=1.6*10^-19;   //charge on an electron\n",
"n=(q/e);  //calculating no of electrons\n",
"disp(n,'No of electrons = ');  //displaying result"
   ]
   }
,
{
		   "cell_type": "markdown",
		   "metadata": {},
		   "source": [
			"## Example 4.12: 12.sce"
		   ]
		  },
  {
"cell_type": "code",
	   "execution_count": null,
	   "metadata": {
	    "collapsed": true
	   },
	   "outputs": [],
"source": [
"clc;\n",
"eo=8.85*10^-12;  //constant\n",
"r=1.2;   //r in m\n",
"t=80*10^-6;  //surface sharge density in c/m square\n",
"q=t*4*(%pi)*(r^2);  //calculating charge\n",
"fi=q/eo;     //calculating flux\n",
"disp(fi,'Flux in N m square/c = ');  //displaying result"
   ]
   }
,
{
		   "cell_type": "markdown",
		   "metadata": {},
		   "source": [
			"## Example 4.13: 13.sce"
		   ]
		  },
  {
"cell_type": "code",
	   "execution_count": null,
	   "metadata": {
	    "collapsed": true
	   },
	   "outputs": [],
"source": [
"clc;\n",
"eo=8.85*10^-12;  //constant\n",
"E=9*10^4;   //Electric field in N/C\n",
"r=2*10^-2;   //r in m\n",
"L=2*(%pi)*E*eo*r;  //calculating linear charge density\n",
"disp(L,'Linear charge density per cm = ');  //displaying result"
   ]
   }
,
{
		   "cell_type": "markdown",
		   "metadata": {},
		   "source": [
			"## Example 4.14: 14.sce"
		   ]
		  },
  {
"cell_type": "code",
	   "execution_count": null,
	   "metadata": {
	    "collapsed": true
	   },
	   "outputs": [],
"source": [
"clc;\n",
"o=17*10^-22;   //surface charge density in cm^-2\n",
"eo=8.85*10^-12;  //constant\n",
"E=o/eo;  //calculating electric intensity in region III\n",
"disp('Electric Intensity in regions I and II = 0');  //displaying result\n",
"disp(E,'Electric Intensity in region III in N/C = ');   //displaying result"
   ]
   }
,
{
		   "cell_type": "markdown",
		   "metadata": {},
		   "source": [
			"## Example 4.15: 15.sce"
		   ]
		  },
  {
"cell_type": "code",
	   "execution_count": null,
	   "metadata": {
	    "collapsed": true
	   },
	   "outputs": [],
"source": [
"clc;\n",
"r=0.05;  // in m\n",
"eo=8.85*10^-12;  //constant\n",
"q=10^-9;  //charge at point P in Coulomb\n",
"E=q/(4*(%pi)*eo*(r^2));  //calculating electric field\n",
"disp(E,'Electric field in v/m = ');  //displaying result\n",
"r1=0.2;  //in m\n",
"V1=q/(4*(%pi)*eo*r1);  //calculating potential difference\n",
"disp(V1,' Potential difference between two points in Volt = ');  //displaying result"
   ]
   }
,
{
		   "cell_type": "markdown",
		   "metadata": {},
		   "source": [
			"## Example 4.16: 16.sce"
		   ]
		  },
  {
"cell_type": "code",
	   "execution_count": null,
	   "metadata": {
	    "collapsed": true
	   },
	   "outputs": [],
"source": [
"clc;\n",
"eo=8.85*10^-12;  //constant\n",
"o=80*10^-6;  //surface charge density in c/ square\n",
"r=1.2;  //in m\n",
"q=o*(%pi)*(r^2);  //calculating charge in Coulomb\n",
"fi=q/eo;  //calculating electric flux\n",
"disp(q,'Charge in Coulomb = ');  //displaying result\n",
"disp(fi,'Electric flux in N m square/c = ');  //displaying result"
   ]
   }
,
{
		   "cell_type": "markdown",
		   "metadata": {},
		   "source": [
			"## Example 4.17: 17.sce"
		   ]
		  },
  {
"cell_type": "code",
	   "execution_count": null,
	   "metadata": {
	    "collapsed": true
	   },
	   "outputs": [],
"source": [
"clc;\n",
"V=250;  //potential difference in Volt\n",
"C=10^-11;  //capacitance in farad\n",
"q=C*V;  //calculating charge\n",
"disp(q,'Charge in Coulomb = ');  //displaying result"
   ]
   }
,
{
		   "cell_type": "markdown",
		   "metadata": {},
		   "source": [
			"## Example 4.18: 18.sce"
		   ]
		  },
  {
"cell_type": "code",
	   "execution_count": null,
	   "metadata": {
	    "collapsed": true
	   },
	   "outputs": [],
"source": [
"clc;\n",
"r=6.4*10^6;  //in m\n",
"C=r/(9*10^9);  //calculating charge\n",
"disp(C,'Capacitance in Farad = ');  //displaying result"
   ]
   }
,
{
		   "cell_type": "markdown",
		   "metadata": {},
		   "source": [
			"## Example 4.19: 19.sce"
		   ]
		  },
  {
"cell_type": "code",
	   "execution_count": null,
	   "metadata": {
	    "collapsed": true
	   },
	   "outputs": [],
"source": [
"clc;\n",
"C=2;  //capacitance in Farad\n",
"d=0.5*10^-2;  //distance in m\n",
"eo=8.85*10^-12;  //constant\n",
"A=(C*d)/(eo);  //calculating area\n",
"disp(A,'Area in m square = ');  //displaying result"
   ]
   }
,
{
		   "cell_type": "markdown",
		   "metadata": {},
		   "source": [
			"## Example 4.20: 20.sce"
		   ]
		  },
  {
"cell_type": "code",
	   "execution_count": null,
	   "metadata": {
	    "collapsed": true
	   },
	   "outputs": [],
"source": [
"clc;\n",
"A=0.02;  //area in m square\n",
"r=0.5;  //r in m\n",
"d=(A/(4*(%pi)*r));  //calculating distance\n",
"disp(d,'Distance between the plates in m = ');  //displaying result"
   ]
   }
,
{
		   "cell_type": "markdown",
		   "metadata": {},
		   "source": [
			"## Example 4.21: 21.sce"
		   ]
		  },
  {
"cell_type": "code",
	   "execution_count": null,
	   "metadata": {
	    "collapsed": true
	   },
	   "outputs": [],
"source": [
"clc;\n",
"eo=8.85*10^-12;  //constant\n",
"A=1;  //area in m square\n",
"d=2*10^-3;  //r in m\n",
"K=4;  //constant\n",
"C=(K*eo*A)/d;   //calculating capacitance\n",
"disp(C,'Capacitance in Farad = = ');  //displaying result"
   ]
   }
,
{
		   "cell_type": "markdown",
		   "metadata": {},
		   "source": [
			"## Example 4.22: 22.sce"
		   ]
		  },
  {
"cell_type": "code",
	   "execution_count": null,
	   "metadata": {
	    "collapsed": true
	   },
	   "outputs": [],
"source": [
"clc;\n",
"cm=10*10^-6;  //capacitance in Farad\n",
"K=2;  //constant\n",
"co=cm/K;  //calculating co\n",
"disp(co,'capacity of capacitor with air between the plates in Farad = ');  //displaying result"
   ]
   }
,
{
		   "cell_type": "markdown",
		   "metadata": {},
		   "source": [
			"## Example 4.2: 2.sce"
		   ]
		  },
  {
"cell_type": "code",
	   "execution_count": null,
	   "metadata": {
	    "collapsed": true
	   },
	   "outputs": [],
"source": [
"clc;\n",
"F=4.5*9.8;   //in Newton\n",
"q=sqrt(((0.03^2)*4.5*9.8)/(9*10^9));  //calculating q using F=(1/4*3.14*eo)*((q1*q2)/(r^2))\n",
"disp(q,'Charge in coulomb = ');  //displaying result"
   ]
   }
,
{
		   "cell_type": "markdown",
		   "metadata": {},
		   "source": [
			"## Example 4.23: 23.sce"
		   ]
		  },
  {
"cell_type": "code",
	   "execution_count": null,
	   "metadata": {
	    "collapsed": true
	   },
	   "outputs": [],
"source": [
"clc;\n",
"v=100;       //v in volt\n",
"c1=8*10^-6;  //capacitance in Farad\n",
"c2=12*10^-6;  //capacitance in Farad\n",
"c3=24*10^-6;  //capacitance in Farad\n",
"cs=4/(10^6);  //calculating series capacitance\n",
"cp=(c1+c2+c3);  //calculating parallel capacitance\n",
"disp(cs,'Equivalent Series capacitance in farad = ');  //displaying result\n",
"disp(cp,'Equivalent parallel capacitance in farad = ');  //displaying result\n",
"qs=cs*v;  //calculating charge\n",
"disp(qs,'charge on plate in Coulomb = ');  //displaying result"
   ]
   }
,
{
		   "cell_type": "markdown",
		   "metadata": {},
		   "source": [
			"## Example 4.24: 24.sce"
		   ]
		  },
  {
"cell_type": "code",
	   "execution_count": null,
	   "metadata": {
	    "collapsed": true
	   },
	   "outputs": [],
"source": [
"clc;\n",
"C=9*10^-10;  //capacitance in farad\n",
"V=100;  //in volt\n",
"U=(1/2)*(C*(V^2));  //calculating energy stored\n",
"disp(U,'Energy stored in Joule = ');  //displaying result"
   ]
   }
,
{
		   "cell_type": "markdown",
		   "metadata": {},
		   "source": [
			"## Example 4.25: 25.sce"
		   ]
		  },
  {
"cell_type": "code",
	   "execution_count": null,
	   "metadata": {
	    "collapsed": true
	   },
	   "outputs": [],
"source": [
"clc;\n",
"eo=8.85*10^-12;  //constant\n",
"A=90*10^-4;  //area in m square\n",
"d=2.5*10^-3;   //distance in m\n",
"V=400;  //in volt\n",
"C=(eo*A)/d;  //calculating capacitance\n",
"disp(C,'Capacitance in Farad = ');  //displaying result\n",
"W=(1/2)*(C*(V^2));  //calculating electrical energy stored\n",
"disp(W,'Electrical Energy stored in capacitor in Joule = ');  //displaying result"
   ]
   }
,
{
		   "cell_type": "markdown",
		   "metadata": {},
		   "source": [
			"## Example 4.26: 26.sce"
		   ]
		  },
  {
"cell_type": "code",
	   "execution_count": null,
	   "metadata": {
	    "collapsed": true
	   },
	   "outputs": [],
"source": [
"clc;\n",
"v=100;       //v in volt\n",
"c1=1*10^-6;  //capacitance in Farad\n",
"c2=2*10^-6;  //capacitance in Farad\n",
"c3=3*10^-6;  //capacitance in Farad\n",
"cs=6/11;  //calculating series capacitance\n",
"cp=(c1+c2+c3);  //calculating parallel capacitance\n",
"disp(cs,'Equivalent Series capacitance in farad = ');  //displaying result\n",
"disp(cp,'Equivalent parallel capacitance in farad = ');  //displaying result\n",
"disp('Therefore Cp=(11*Cs)');  //displaying result"
   ]
   }
,
{
		   "cell_type": "markdown",
		   "metadata": {},
		   "source": [
			"## Example 4.27: 27.sce"
		   ]
		  },
  {
"cell_type": "code",
	   "execution_count": null,
	   "metadata": {
	    "collapsed": true
	   },
	   "outputs": [],
"source": [
"clc;\n",
"eo=8.85*10^-12;  //constant\n",
"V=6;  //v in volt\n",
"A=25*10^-4;  //area in m square\n",
"d=10^-3;  //distance in m\n",
"q=(eo*A*V)/d;  //calculating charge\n",
"W=q*V;   //calculating work done\n",
"disp(q,'Charge through battery in Coulomb = ');  //displaying result\n",
"disp(W,'Work done by Battery in Joule = ');  //displaying result"
   ]
   }
,
{
		   "cell_type": "markdown",
		   "metadata": {},
		   "source": [
			"## Example 4.3: 3.sce"
		   ]
		  },
  {
"cell_type": "code",
	   "execution_count": null,
	   "metadata": {
	    "collapsed": true
	   },
	   "outputs": [],
"source": [
"clc;\n",
"q1=2*10^-7;    //charge in C\n",
"q2=3*10^-7;    //charge in C\n",
"r=30*10^-2;    //r in m\n",
"F=(9*10^9)*((q1*q2)/r^2);  //calculating F\n",
"disp(F,'Force in Newton = ');  //displaying result"
   ]
   }
,
{
		   "cell_type": "markdown",
		   "metadata": {},
		   "source": [
			"## Example 4.4: 4.sce"
		   ]
		  },
  {
"cell_type": "code",
	   "execution_count": null,
	   "metadata": {
	    "collapsed": true
	   },
	   "outputs": [],
"source": [
"clc;\n",
"q1=1;    //charge in C\n",
"q2=1;    //charge in C\n",
"r=1;    //r in m\n",
"F=(9*10^9)*((q1*q2)/r^2);  //calculating F\n",
"disp(F,'Force in Newton = ');  //displaying result"
   ]
   }
,
{
		   "cell_type": "markdown",
		   "metadata": {},
		   "source": [
			"## Example 4.5: 5.sce"
		   ]
		  },
  {
"cell_type": "code",
	   "execution_count": null,
	   "metadata": {
	    "collapsed": true
	   },
	   "outputs": [],
"source": [
"clc;\n",
"m=9*10^-31;      //mass of electron in kg\n",
"q=-3.2*10^-7;    //charge in C\n",
"e=-1.6*10^-19;    //charge on electron in C\n",
"n=(q/e);  //calculating n\n",
"M=n*m;    //calculating mass transfered\n",
"disp(n,'no. of electrons = ');   //displaying result\n",
"disp(M,'Mass transfered to polythene in kg = ');  //displaying result"
   ]
   }
,
{
		   "cell_type": "markdown",
		   "metadata": {},
		   "source": [
			"## Example 4.6: 6.sce"
		   ]
		  },
  {
"cell_type": "code",
	   "execution_count": null,
	   "metadata": {
	    "collapsed": true
	   },
	   "outputs": [],
"source": [
"clc;\n",
"q1=1.6*10^-19;    //charge in C\n",
"q2=-1.6*10^-19;    //charge in C\n",
"r=10^-9;    //r in m\n",
"F=(9*10^9)*((q1*q2)/r^2);  //calculating F\n",
"disp(F,'Force in Newton = ');  //displaying result"
   ]
   }
,
{
		   "cell_type": "markdown",
		   "metadata": {},
		   "source": [
			"## Example 4.7: 7.sce"
		   ]
		  },
  {
"cell_type": "code",
	   "execution_count": null,
	   "metadata": {
	    "collapsed": true
	   },
	   "outputs": [],
"source": [
"clc;\n",
"Va=-10; //voltage in volts\n",
"W=100;  //work in Joule\n",
"q=2;    //charge in Coulomb\n",
"v=(Va)+(W/q);  //calculating v\n",
"disp(v,'Voltage in Volts = ');  //displaying result"
   ]
   }
,
{
		   "cell_type": "markdown",
		   "metadata": {},
		   "source": [
			"## Example 4.8: 8.sce"
		   ]
		  },
  {
"cell_type": "code",
	   "execution_count": null,
	   "metadata": {
	    "collapsed": true
	   },
	   "outputs": [],
"source": [
"clc;\n",
"eo=(8.854*10^-12);   //constant\n",
"E=2;   //magnitude of electric field in N/C\n",
"r=0.5;  //r in m\n",
"q=E*4*(%pi)*(eo)*(r^2);   //calculating charge\n",
"disp(q,'Charge in Coulomb = ');  //displaying result"
   ]
   }
,
{
		   "cell_type": "markdown",
		   "metadata": {},
		   "source": [
			"## Example 4.9: 9.sce"
		   ]
		  },
  {
"cell_type": "code",
	   "execution_count": null,
	   "metadata": {
	    "collapsed": true
	   },
	   "outputs": [],
"source": [
"clc;\n",
"e=-1.6*10^-19;  //charge on electron in Coulomb\n",
"q=20*10^-6;  //charge in Coulomb\n",
"r1=0.1;  //r1 in m\n",
"r2=0.05;  //r2 in m\n",
"Va=9*10^9*(q/r1);  //calculating voltage at A\n",
"Vb=9*10^9*(q/r2);  //calculating voltage at B\n",
"V=Va-Vb;    //potential difference\n",
"W=V*e;     //calculating work done in joule\n",
"disp(W,'Work done to take the electron from A to B in Joule = ');  //displaying result"
   ]
   }
],
"metadata": {
		  "kernelspec": {
		   "display_name": "Scilab",
		   "language": "scilab",
		   "name": "scilab"
		  },
		  "language_info": {
		   "file_extension": ".sce",
		   "help_links": [
			{
			 "text": "MetaKernel Magics",
			 "url": "https://github.com/calysto/metakernel/blob/master/metakernel/magics/README.md"
			}
		   ],
		   "mimetype": "text/x-octave",
		   "name": "scilab",
		   "version": "0.7.1"
		  }
		 },
		 "nbformat": 4,
		 "nbformat_minor": 0
}
