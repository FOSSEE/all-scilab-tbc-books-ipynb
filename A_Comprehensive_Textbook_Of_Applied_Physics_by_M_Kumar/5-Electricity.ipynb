{
"cells": [
 {
		   "cell_type": "markdown",
	   "metadata": {},
	   "source": [
       "# Chapter 5: Electricity"
	   ]
	},
{
		   "cell_type": "markdown",
		   "metadata": {},
		   "source": [
			"## Example 5.10: 10.sce"
		   ]
		  },
  {
"cell_type": "code",
	   "execution_count": null,
	   "metadata": {
	    "collapsed": true
	   },
	   "outputs": [],
"source": [
"clc;\n",
"Rs=40;   //resisitance in Ohm\n",
"disp('R2=8 when R1=32, R2=32 when R1=8 Resisitance in Ohm ');  //displaying result using (1/Rp)=(1/R1)+(1/R2)"
   ]
   }
,
{
		   "cell_type": "markdown",
		   "metadata": {},
		   "source": [
			"## Example 5.11: 11.sce"
		   ]
		  },
  {
"cell_type": "code",
	   "execution_count": null,
	   "metadata": {
	    "collapsed": true
	   },
	   "outputs": [],
"source": [
"clc;\n",
"V=2;     //in volts\n",
"R1=30;   //resisitance in Ohm\n",
"R2=60;  //resistance in Ohm\n",
"Rp=(30*60)/(30+60);  //calculating parallel resistance\n",
"disp(Rp,'Resisitance in Ohm = ');  //displaying result\n",
"I=V/Rp;     //Ohm's law\n",
"disp(I,'Current in Ampere = ');  //displaying result"
   ]
   }
,
{
		   "cell_type": "markdown",
		   "metadata": {},
		   "source": [
			"## Example 5.1: 1.sce"
		   ]
		  },
  {
"cell_type": "code",
	   "execution_count": null,
	   "metadata": {
	    "collapsed": true
	   },
	   "outputs": [],
"source": [
"clc;\n",
"n=10^6;    //no. of electrons\n",
"e=1.6*10^-19;  //charge on an electron in C\n",
"q=n*e;   //calculating total charge\n",
"t=10^-3;   //time in second\n",
"I=q/t;    //calculating current\n",
"disp(I,'Current flowing in Ampere = ');  //displaying result"
   ]
   }
,
{
		   "cell_type": "markdown",
		   "metadata": {},
		   "source": [
			"## Example 5.12: 12.sce"
		   ]
		  },
  {
"cell_type": "code",
	   "execution_count": null,
	   "metadata": {
	    "collapsed": true
	   },
	   "outputs": [],
"source": [
"clc;\n",
"R1=2;   //resisitance in Ohm\n",
"R2=3;  //resistance in Ohm\n",
"R3=1;   //resistance in Ohm\n",
"Rp=(R1*R2)/(R1+R2);  //calculating parallel resistance\n",
"R=Rp+1;      //1 Ohm in series\n",
"disp(R,'(1)Equivalent Resisitance in Ohm = ');  //displaying result\n",
"Rs=(R1+R2+R3);  //series resistances\n",
"disp(Rs,'(2)All resistances in series in Ohm = ');  //displaying result\n",
"Rp=(1/R1)+(1/R2)+(1/R3);  //calculating parallel resistance\n",
"disp((1/Rp),'(3)All in Parallel in Ohm = ');  //displaying result"
   ]
   }
,
{
		   "cell_type": "markdown",
		   "metadata": {},
		   "source": [
			"## Example 5.13: 13.sce"
		   ]
		  },
  {
"cell_type": "code",
	   "execution_count": null,
	   "metadata": {
	    "collapsed": true
	   },
	   "outputs": [],
"source": [
"clc;\n",
"V=20;    //voltage in Volts\n",
"R1=2;   //resisitance in Ohm\n",
"R2=4;  //resistance in Ohm\n",
"R3=5;   //resistance in Ohm\n",
"Rp=(1/R1)+(1/R2)+(1/R3);  //calculating parallel resistance\n",
"R=1/Rp;      //Parallel\n",
"disp(R,'(a)Equivalent Resisitance in Ohm = ');  //displaying result\n",
"I1=V/R1;  //calculating current through R1\n",
"I2=V/R2;  //calculating current through R2\n",
"I3=V/R3;  //calculating current through R3\n",
"I=V/R;   //calculating total current\n",
"disp(I1,'Current through R1 in Ampere = ');  //displaying result\n",
"disp(I2,'Current through R2 in Ampere = ');  //displaying result\n",
"disp(I3,'Current through R3 in Ampere = ');  //displaying result\n",
"disp(I,'Total current in Ampere = ');  //displaying result"
   ]
   }
,
{
		   "cell_type": "markdown",
		   "metadata": {},
		   "source": [
			"## Example 5.14: 14.sce"
		   ]
		  },
  {
"cell_type": "code",
	   "execution_count": null,
	   "metadata": {
	    "collapsed": true
	   },
	   "outputs": [],
"source": [
"clc;\n",
"disp('Rp = 6/n');  //resistance in parallel\n",
"disp('R=7');  //total resistance\n",
"disp('From 1 and 2 we get n=3');  //displaying result"
   ]
   }
,
{
		   "cell_type": "markdown",
		   "metadata": {},
		   "source": [
			"## Example 5.15: 15.sce"
		   ]
		  },
  {
"cell_type": "code",
	   "execution_count": null,
	   "metadata": {
	    "collapsed": true
	   },
	   "outputs": [],
"source": [
"clc;\n",
"R1=2;  //resistance in Ohm\n",
"R2=6;   //resistance in Ohm\n",
"R3=3;  //resistance in Ohm\n",
"V=24;   //voltage in volts\n",
"R=8;    //resistance in Ohm\n",
"I=V/R; //Ohm's Law\n",
"disp(I,'Current in Ampere = ');  //displaying result\n",
"V1=I*R1;  //Ohm's Law\n",
"disp(V1,'Voltage drop across R1 in Volts = ');  //displaying result\n",
"V2=I*R2;  //Ohm's Law\n",
"disp(V2,'Voltage drop across R2 in Volts = ');  //displaying result\n",
"V3=I*R3;  //Ohm's Law\n",
"disp(V3,'Voltage drop across R3 in Volts = ');  //displaying result"
   ]
   }
,
{
		   "cell_type": "markdown",
		   "metadata": {},
		   "source": [
			"## Example 5.16: 16.sce"
		   ]
		  },
  {
"cell_type": "code",
	   "execution_count": null,
	   "metadata": {
	    "collapsed": true
	   },
	   "outputs": [],
"source": [
"clc;\n",
"R=15;  //resistance in Ohm\n",
"disp('KVL: 16I1+15I2=6   (1)');  //KVL equation\n",
"I1=-1.66;  //from(1)\n",
"I2=2.17;  //from (1)\n",
"disp(I1);  //current in Ampere\n",
"disp(I2)\n",
"V=(I1+I2)*R;  //calculating potential difference\n",
"disp(V,'Potential difference in Volt = ');  //displaying result"
   ]
   }
,
{
		   "cell_type": "markdown",
		   "metadata": {},
		   "source": [
			"## Example 5.17: 17.sce"
		   ]
		  },
  {
"cell_type": "code",
	   "execution_count": null,
	   "metadata": {
	    "collapsed": true
	   },
	   "outputs": [],
"source": [
"clc;\n",
"disp('3I1-I2-1=0   (1)');   //KVL equation\n",
"disp('3I1-I2+2I=2  (2)');   //KVL equation\n",
"disp('3I1-I1+2I=2  (3)');   //KVL equation\n",
"I1=0.2352;  //from (1)(2)(3)through AB \n",
"I2=-0.11764; //from (1)(2)(3)through BD\n",
"I=0.58823;  //from (1)(2)(3)through main circuit\n",
"Ig=-0.117647;  //current in Ampere\n",
"Ibc=I1-I2; //calculating current in BC\n",
"Iad=I-I1;  //calculating current in AD\n",
"Idc=I-I1-Ig;  //calculating current in DC\n",
"disp(Ibc,'Current in branch BC in Ampere = ');  //displaying result\n",
"disp(Iad,'Current in branch AD in Ampere = ');  //displaying result\n",
"disp(Idc,'Current in branch DC in Ampere = ');  //displaying result"
   ]
   }
,
{
		   "cell_type": "markdown",
		   "metadata": {},
		   "source": [
			"## Example 5.18: 18.sce"
		   ]
		  },
  {
"cell_type": "code",
	   "execution_count": null,
	   "metadata": {
	    "collapsed": true
	   },
	   "outputs": [],
"source": [
"clc;\n",
"P=10;  //Ohm\n",
"Q=3;   //Ohm\n",
"R=12;  //Ohm\n",
"S=6;  //Ohm\n",
"G=20;  //Ohm\n",
"disp('-12I+22I1+IgG=0  (1)');  //KVL\n",
"disp('6I-9I1+29Ig=0  (2)');  //KVL\n",
"disp('13I1-3Ig=2  (3)');  //KVL\n",
"Ig=7.797*10^-3;   //from (1)(2)(3)\n",
"disp(Ig,'Current through Galvanometer in Ampere = ');  //displaying result"
   ]
   }
,
{
		   "cell_type": "markdown",
		   "metadata": {},
		   "source": [
			"## Example 5.19: 19.sce"
		   ]
		  },
  {
"cell_type": "code",
	   "execution_count": null,
	   "metadata": {
	    "collapsed": true
	   },
	   "outputs": [],
"source": [
"clc;\n",
"P=500;  //power in Watts\n",
"V=200;  //voltage in Volts\n",
"R=(V^2)/P;  //using P=V^2*R\n",
"disp(R,'Resistance in Ohm = ');  //displaying result\n",
"V1=160;  //voltage in Volts\n",
"P1=(V1^2)/R;  //calculating power\n",
"Dp=500-P1;  //drop in heat\n",
"D=(Dp*100)/500;  //percentage drop\n",
"disp(D,'% Drop in heat production = ');  //displaying result"
   ]
   }
,
{
		   "cell_type": "markdown",
		   "metadata": {},
		   "source": [
			"## Example 5.20: 20.sce"
		   ]
		  },
  {
"cell_type": "code",
	   "execution_count": null,
	   "metadata": {
	    "collapsed": true
	   },
	   "outputs": [],
"source": [
"clc;\n",
"P1=100;  //power in Watts\n",
"P2=500;  //power in Watts\n",
"P=P2/P1;  //ratio\n",
"disp('P>0 Therefore I2>I1');  //displaying result"
   ]
   }
,
{
		   "cell_type": "markdown",
		   "metadata": {},
		   "source": [
			"## Example 5.21: 21.sce"
		   ]
		  },
  {
"cell_type": "code",
	   "execution_count": null,
	   "metadata": {
	    "collapsed": true
	   },
	   "outputs": [],
"source": [
"clc;\n",
"t=1200;  //time in second\n",
"P=100;  //power in Watts\n",
"V=230;  //voltage in Volts\n",
"R=(V^2)/P;  //calculating resistance\n",
"V1=115;  //supply voltage in Volts\n",
"E=((V1^2)*t)/R;  //calculating energy\n",
"disp(E,'Energy dissipated by bulb in Joule = ');  //displaying result"
   ]
   }
,
{
		   "cell_type": "markdown",
		   "metadata": {},
		   "source": [
			"## Example 5.22: 22.sce"
		   ]
		  },
  {
"cell_type": "code",
	   "execution_count": null,
	   "metadata": {
	    "collapsed": true
	   },
	   "outputs": [],
"source": [
"clc;\n",
"P=10^4;  //power in Watts\n",
"V=250;  //voltage in Volts\n",
"R=0.2;  //resistance in ohm\n",
"Pl=((P/V)*(P/V))*R;  //calculating power loss\n",
"disp(Pl)\n",
"E=P/(Pl+P);  //calculating efficiency\n",
"disp(E*100,'Percent Efficiency = ');  //displaying result"
   ]
   }
,
{
		   "cell_type": "markdown",
		   "metadata": {},
		   "source": [
			"## Example 5.2: 2.sce"
		   ]
		  },
  {
"cell_type": "code",
	   "execution_count": null,
	   "metadata": {
	    "collapsed": true
	   },
	   "outputs": [],
"source": [
"clc;\n",
"I=300*10^-3;   //current n Ampere\n",
"t=60;   //time in second\n",
"e=1.6*10^-19;  //chatge on electron in C\n",
"q=I*t;  //calculating charge\n",
"n=q/e;  //calculating no of electrons\n",
"disp(n,'No. of electrons = ');  //displaying result"
   ]
   }
,
{
		   "cell_type": "markdown",
		   "metadata": {},
		   "source": [
			"## Example 5.23: 23.sce"
		   ]
		  },
  {
"cell_type": "code",
	   "execution_count": null,
	   "metadata": {
	    "collapsed": true
	   },
	   "outputs": [],
"source": [
"clc;\n",
"P=100;  //power in Watts\n",
"V=220;  //voltage in Volts\n",
"I=P/V;  //Current in Ampere\n",
"R=V/I;  //resistance\n",
"disp(I,'Current in Ampere = ');  //displaying result\n",
"disp(R,'Resistance in Ohm = ');  //displaying result"
   ]
   }
,
{
		   "cell_type": "markdown",
		   "metadata": {},
		   "source": [
			"## Example 5.24: 24.sce"
		   ]
		  },
  {
"cell_type": "code",
	   "execution_count": null,
	   "metadata": {
	    "collapsed": true
	   },
	   "outputs": [],
"source": [
"clc;\n",
"V=50;  //voltage in Volts\n",
"I=12;  //Current in Ampere\n",
"P=V*I;  //power\n",
"Pd=P*0.7;  //power dissipated\n",
"R=(420/(12)^2);\n",
"disp(R,'Resistance in Ohm = ');  //displaying result"
   ]
   }
,
{
		   "cell_type": "markdown",
		   "metadata": {},
		   "source": [
			"## Example 5.3: 3.sce"
		   ]
		  },
  {
"cell_type": "code",
	   "execution_count": null,
	   "metadata": {
	    "collapsed": true
	   },
	   "outputs": [],
"source": [
"clc;\n",
"V=200;  //voltage in volt\n",
"R=100;  //resistance in Ohm\n",
"e=1.6*10^-19;  //charge on an electron in C\n",
"I=V/R;     //Ohm's law\n",
"t=1;  //time in second\n",
"q=I*t;  //calculating charge\n",
"n=q/e;  //calculating no of electrons\n",
"disp(n,'No. of electrons = ');  //displaying result"
   ]
   }
,
{
		   "cell_type": "markdown",
		   "metadata": {},
		   "source": [
			"## Example 5.4: 4.sce"
		   ]
		  },
  {
"cell_type": "code",
	   "execution_count": null,
	   "metadata": {
	    "collapsed": true
	   },
	   "outputs": [],
"source": [
"clc;\n",
"l=15;   //length in m\n",
"A=6*10^-7;  //area in m square\n",
"R=5;  //resistance in Ohm\n",
"p=(A*R)/l;  //calculating resistivity\n",
"disp(p,'Resistivity in Ohm metre = ');  //displaying result"
   ]
   }
,
{
		   "cell_type": "markdown",
		   "metadata": {},
		   "source": [
			"## Example 5.5: 5.sce"
		   ]
		  },
  {
"cell_type": "code",
	   "execution_count": null,
	   "metadata": {
	    "collapsed": true
	   },
	   "outputs": [],
"source": [
"clc;\n",
"l=0.1;   //length in m\n",
"A=10^-4;  //area in m square\n",
"R=0.01;  //resistance in Ohm\n",
"p=(A*R)/l;  //calculating resistivity\n",
"disp(p,'Resistivity in Ohm metre = ');  //displaying result"
   ]
   }
,
{
		   "cell_type": "markdown",
		   "metadata": {},
		   "source": [
			"## Example 5.6: 6.sce"
		   ]
		  },
  {
"cell_type": "code",
	   "execution_count": null,
	   "metadata": {
	    "collapsed": true
	   },
	   "outputs": [],
"source": [
"clc;\n",
"L=1;  //length in m\n",
"r=0.2*10^-3;  //radius in m\n",
"A=%pi*(r)^2;  //calculating area\n",
"disp(A)\n",
"R=2;  //resistance in Ohm\n",
"P=(R*A)/L;  //calculating resistivity\n",
"disp(P,'Resistivity in Ohm. metre = ');  //displaying result"
   ]
   }
,
{
		   "cell_type": "markdown",
		   "metadata": {},
		   "source": [
			"## Example 5.7: 7.sce"
		   ]
		  },
  {
"cell_type": "code",
	   "execution_count": null,
	   "metadata": {
	    "collapsed": true
	   },
	   "outputs": [],
"source": [
"clc;\n",
"R1=5;   //resisitance in Ohm\n",
"R2=9*5;  //calculating using R2/A1=(l2/A2)*(A1/l1)\n",
"disp(R2,'Resisitance in Ohm = ');  //displaying result"
   ]
   }
,
{
		   "cell_type": "markdown",
		   "metadata": {},
		   "source": [
			"## Example 5.8: 8.sce"
		   ]
		  },
  {
"cell_type": "code",
	   "execution_count": null,
	   "metadata": {
	    "collapsed": true
	   },
	   "outputs": [],
"source": [
"clc;\n",
"R1=5;   //resisitance in Ohm\n",
"R2=4*5;  //calculating using R2/A1=(l2/A2)*(A1/l1)\n",
"disp(R2,'Resisitance in Ohm = ');  //displaying result"
   ]
   }
,
{
		   "cell_type": "markdown",
		   "metadata": {},
		   "source": [
			"## Example 5.9: 9.sce"
		   ]
		  },
  {
"cell_type": "code",
	   "execution_count": null,
	   "metadata": {
	    "collapsed": true
	   },
	   "outputs": [],
"source": [
"clc;\n",
"R1=2;   //resisitance in Ohm\n",
"R2=4;  //resistance in Ohm\n",
"R3=5;   //resistance in Ohm\n",
"R=(R1^-1)+(R2^-1)+(R3^-1);  //calculating parallel resistance\n",
"Rp=(1/R);\n",
"disp(Rp,'Resisitance in Ohm = ');  //displaying result"
   ]
   }
],
"metadata": {
		  "kernelspec": {
		   "display_name": "Scilab",
		   "language": "scilab",
		   "name": "scilab"
		  },
		  "language_info": {
		   "file_extension": ".sce",
		   "help_links": [
			{
			 "text": "MetaKernel Magics",
			 "url": "https://github.com/calysto/metakernel/blob/master/metakernel/magics/README.md"
			}
		   ],
		   "mimetype": "text/x-octave",
		   "name": "scilab",
		   "version": "0.7.1"
		  }
		 },
		 "nbformat": 4,
		 "nbformat_minor": 0
}
