{
"cells": [
 {
		   "cell_type": "markdown",
	   "metadata": {},
	   "source": [
       "# Chapter 3: Principles of Optics"
	   ]
	},
{
		   "cell_type": "markdown",
		   "metadata": {},
		   "source": [
			"## Example 3.10: 10.sce"
		   ]
		  },
  {
"cell_type": "code",
	   "execution_count": null,
	   "metadata": {
	    "collapsed": true
	   },
	   "outputs": [],
"source": [
"clc;\n",
"fo=0.5;    //focal length of eye lens\n",
"D=25;        //distance of distinct vision\n",
"L=15;      //length in cm\n",
"m=375;   //magnification\n",
"fe=(-L*D)/(fo*((L/fo)-m));  //calculating fe\n",
"disp(fe,'Focal length of eye lens in cm = ');  //displaying result"
   ]
   }
,
{
		   "cell_type": "markdown",
		   "metadata": {},
		   "source": [
			"## Example 3.11: 11.sce"
		   ]
		  },
  {
"cell_type": "code",
	   "execution_count": null,
	   "metadata": {
	    "collapsed": true
	   },
	   "outputs": [],
"source": [
"clc;\n",
"m=5;    //magnifying power\n",
"L=24;      //length in cm\n",
"fe=4;   //focal length in cm\n",
"fo=5*fe;  //calculating fo\n",
"disp(fo,'Focal length of lens in cm = ');  //displaying result"
   ]
   }
,
{
		   "cell_type": "markdown",
		   "metadata": {},
		   "source": [
			"## Example 3.1: 1.sce"
		   ]
		  },
  {
"cell_type": "code",
	   "execution_count": null,
	   "metadata": {
	    "collapsed": true
	   },
	   "outputs": [],
"source": [
"clc;\n",
"f=15;          //focal length in cm\n",
"v=10;         //image distance in cm\n",
"u=(150/5);  //calculating u using (1/f)=(1/v)-(1/u)\n",
"disp(u,'Object Distance in cm = ');  //displaying result"
   ]
   }
,
{
		   "cell_type": "markdown",
		   "metadata": {},
		   "source": [
			"## Example 3.12: 12.sce"
		   ]
		  },
  {
"cell_type": "code",
	   "execution_count": null,
	   "metadata": {
	    "collapsed": true
	   },
	   "outputs": [],
"source": [
"clc;\n",
"D=25;        //distance of distinct vision in cm\n",
"fo=140;    //focal length of eye lens\n",
"fe=5;        //focal length in cm\n",
"m=-(fo/fe);   //calculating magnifying power\n",
"disp(m,'Magnifying power at normal adjustment = ');  //displaying result\n",
"m1=-(fo/fe)*(1+(fe/D));    //calculating magnifying power\n",
"disp(m1,'Magnifying power atleast distance of distinct vision = ');  //displaying result"
   ]
   }
,
{
		   "cell_type": "markdown",
		   "metadata": {},
		   "source": [
			"## Example 3.13: 13.sce"
		   ]
		  },
  {
"cell_type": "code",
	   "execution_count": null,
	   "metadata": {
	    "collapsed": true
	   },
	   "outputs": [],
"source": [
"clc;\n",
"M=5;         //Magnifying power\n",
"fo=10;    //focal length of eye lens\n",
"fe=fo/M;     //calculating fe\n",
"disp(fe,'Focal length of eye lens in cm = ');  //displaying result"
   ]
   }
,
{
		   "cell_type": "markdown",
		   "metadata": {},
		   "source": [
			"## Example 3.14: 14.sce"
		   ]
		  },
  {
"cell_type": "code",
	   "execution_count": null,
	   "metadata": {
	    "collapsed": true
	   },
	   "outputs": [],
"source": [
"clc;\n",
"fo=75;    //focal length of eye lens\n",
"D=25;        //distance of distinct vision\n",
"fe=5;      //focal  of eye lens in cm\n",
"M=-(fo/fe)*(1+(fe/D));  //calculating M\n",
"disp(M,'Magnifying power = ');  //displaying result"
   ]
   }
,
{
		   "cell_type": "markdown",
		   "metadata": {},
		   "source": [
			"## Example 3.15: 15.sce"
		   ]
		  },
  {
"cell_type": "code",
	   "execution_count": null,
	   "metadata": {
	    "collapsed": true
	   },
	   "outputs": [],
"source": [
"clc;\n",
"M=7;      //magnifying power\n",
"L=40;    //length\n",
"fe=(40/8);  //focal length of eye lens in cm\n",
"fo=(7*fe);   //calculating focal length\n",
"disp(fo,'Focal Length of lens in cm =');  //displaying result"
   ]
   }
,
{
		   "cell_type": "markdown",
		   "metadata": {},
		   "source": [
			"## Example 3.2: 2.sce"
		   ]
		  },
  {
"cell_type": "code",
	   "execution_count": null,
	   "metadata": {
	    "collapsed": true
	   },
	   "outputs": [],
"source": [
"clc;\n",
"f=80;     //focal length in cm\n",
"f1=20;    //focallength of first lens in cm\n",
"f2=(80/3);  //using (1/F)=(1/f1)+(1/f2)\n",
"P=(100/f);   //power in D\n",
"P1=100/20;    //power of first lens\n",
"P2=P1-P;    //power in D\n",
"disp(P2,'Power in D = ');  //displaying result"
   ]
   }
,
{
		   "cell_type": "markdown",
		   "metadata": {},
		   "source": [
			"## Example 3.3: 3.sce"
		   ]
		  },
  {
"cell_type": "code",
	   "execution_count": null,
	   "metadata": {
	    "collapsed": true
	   },
	   "outputs": [],
"source": [
"clc;\n",
"P=2.5;     //Power in D\n",
"f=-(1/P);  //calculating f in m\n",
"disp(f,'Focal length in m = ');  //displaying result"
   ]
   }
,
{
		   "cell_type": "markdown",
		   "metadata": {},
		   "source": [
			"## Example 3.4: 4.sce"
		   ]
		  },
  {
"cell_type": "code",
	   "execution_count": null,
	   "metadata": {
	    "collapsed": true
	   },
	   "outputs": [],
"source": [
"clc;\n",
"m=4;     //magnigication\n",
"f=20;    //focal length in cm\n",
"u=(20*3)/(4);  //on simplifying (1/f)=(1/v)-(1/u)\n",
"v=(4*u);  //calculating v in cm\n",
"disp(u,'Object distance in cm = ');   //displaying result\n",
"disp(v,'Image distance in cm = ');    //displaying result"
   ]
   }
,
{
		   "cell_type": "markdown",
		   "metadata": {},
		   "source": [
			"## Example 3.5: 5.sce"
		   ]
		  },
  {
"cell_type": "code",
	   "execution_count": null,
	   "metadata": {
	    "collapsed": true
	   },
	   "outputs": [],
"source": [
"clc;\n",
"u=14;    //object distance in cm\n",
"f=-21;    //focal distance in cm\n",
"v=(-5/42);  //simplifying(1/f)=(1/v)-(1/u)\n",
"I=(3*-8.4)/(-14);   //using m=(1/0)=(v/u);\n",
"disp(v,'Image distance in cm = ');  //displaying result\n",
"disp(I,'I in cm = ');  //displaying result"
   ]
   }
,
{
		   "cell_type": "markdown",
		   "metadata": {},
		   "source": [
			"## Example 3.6: 6.sce"
		   ]
		  },
  {
"cell_type": "code",
	   "execution_count": null,
	   "metadata": {
	    "collapsed": true
	   },
	   "outputs": [],
"source": [
"clc;\n",
"fe=5;  //focal length in cm\n",
"D=25;  //distance od distinct vision in cm\n",
"m=1+(D/fe);  //calculating magnifying power\n",
"disp(m,'magnifying Power = ');  //displaying result"
   ]
   }
,
{
		   "cell_type": "markdown",
		   "metadata": {},
		   "source": [
			"## Example 3.7: 7.sce"
		   ]
		  },
  {
"cell_type": "code",
	   "execution_count": null,
	   "metadata": {
	    "collapsed": true
	   },
	   "outputs": [],
"source": [
"clc;\n",
"fe=5;  //focal length in cm\n",
"D=25;  //distance od distinct vision in cm\n",
"mo=30/(1+(D/fe));  //calculating magnification of objective lens\n",
"disp(mo,'Magnification produced by objective lens = ');  //displaying result"
   ]
   }
,
{
		   "cell_type": "markdown",
		   "metadata": {},
		   "source": [
			"## Example 3.8: 8.sce"
		   ]
		  },
  {
"cell_type": "code",
	   "execution_count": null,
	   "metadata": {
	    "collapsed": true
	   },
	   "outputs": [],
"source": [
"clc;\n",
"u=-6;    //object distance in cm\n",
"fo=4;    //focal distance in cm\n",
"fe=6;  //focal length in cm\n",
"D=25; //distance of distinct vision in cm\n",
"v=(12);   //using (1/f)=(1/v)-(1/u)\n",
"m=(v/u)*(1+(D/fe));  //calculating m\n",
"disp(v,'Image distance in cm = ');   //displaying result\n",
"disp(-m,'Magnifying Power = ');     //displaying result"
   ]
   }
,
{
		   "cell_type": "markdown",
		   "metadata": {},
		   "source": [
			"## Example 3.9: 9.sce"
		   ]
		  },
  {
"cell_type": "code",
	   "execution_count": null,
	   "metadata": {
	    "collapsed": true
	   },
	   "outputs": [],
"source": [
"clc;\n",
"D=25;        //distance of distinct vision\n",
"u=-9;    //object distance in cm\n",
"fe=10;  //focal length in cm\n",
"v=(-90/1);   //using (1/f)=(1/v)-(1/u)\n",
"m=(v/u);  //calculating m\n",
"M=D/u;    //calculating Magnifying power of lens\n",
"disp(m,'Magnification of lens = ');   //displaying result\n",
"disp(-M,'Magnifying Power = ');     //displaying result"
   ]
   }
],
"metadata": {
		  "kernelspec": {
		   "display_name": "Scilab",
		   "language": "scilab",
		   "name": "scilab"
		  },
		  "language_info": {
		   "file_extension": ".sce",
		   "help_links": [
			{
			 "text": "MetaKernel Magics",
			 "url": "https://github.com/calysto/metakernel/blob/master/metakernel/magics/README.md"
			}
		   ],
		   "mimetype": "text/x-octave",
		   "name": "scilab",
		   "version": "0.7.1"
		  }
		 },
		 "nbformat": 4,
		 "nbformat_minor": 0
}
