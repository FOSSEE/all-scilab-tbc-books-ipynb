{
"cells": [
 {
		   "cell_type": "markdown",
	   "metadata": {},
	   "source": [
       "# Chapter 2: Application of Sound Waves"
	   ]
	},
{
		   "cell_type": "markdown",
		   "metadata": {},
		   "source": [
			"## Example 2.1: 1.sce"
		   ]
		  },
  {
"cell_type": "code",
	   "execution_count": null,
	   "metadata": {
	    "collapsed": true
	   },
	   "outputs": [],
"source": [
"clc;\n",
"disp('Example 2.1');\n",
"v=3000;             //volume in metre cube.\n",
"theta=0.2;          //theta in owu(open window unit).\n",
"s=1850;             //area in metre cube.\n",
"as=theta*s;    //calculating total absorbtion of surface.\n",
"T=(0.165*v)/as //calculating T using Sabine formula\n",
"disp(T,'Reverberation time of Room = ');   //Displaying Result."
   ]
   }
,
{
		   "cell_type": "markdown",
		   "metadata": {},
		   "source": [
			"## Example 2.2: 2.sce"
		   ]
		  },
  {
"cell_type": "code",
	   "execution_count": null,
	   "metadata": {
	    "collapsed": true
	   },
	   "outputs": [],
"source": [
"clc;\n",
"disp('Example 2.2');\n",
"v=120000;                           //volume in metre cube.\n",
"t=1.5;                              //time in second.\n",
"s=25000;                            //area in metre cube.\n",
"a=(0.16*v)/(t*s);                  //using Sabine formula for calculating a\n",
"disp(a,'Average Absorbing Power of Surface = ');  //Displaying Result."
   ]
   }
,
{
		   "cell_type": "markdown",
		   "metadata": {},
		   "source": [
			"## Example 2.3: 3.sce"
		   ]
		  },
  {
"cell_type": "code",
	   "execution_count": null,
	   "metadata": {
	    "collapsed": true
	   },
	   "outputs": [],
"source": [
"clc;\n",
"disp('Example 2.3');\n",
"v=6000                    //Volume in metre cube.\n",
"as=20                     //surface absorbtion in owu(open window unit).\n",
"T=(0.165*v)/(as);           //calculating T using Sabine Formula.\n",
"disp(T,'Reverberation Time = ');      //Displaying Result."
   ]
   }
,
{
		   "cell_type": "markdown",
		   "metadata": {},
		   "source": [
			"## Example 2.4: 4.sce"
		   ]
		  },
  {
"cell_type": "code",
	   "execution_count": null,
	   "metadata": {
	    "collapsed": true
	   },
	   "outputs": [],
"source": [
"clc;\n",
"disp('Example2.4');\n",
"v=3500;                 //volume in metre cube.\n",
"n1=370-300;             //no. of audience on wooden seats.\n",
"n2=300-70;              //no. of empty wooden seats.\n",
"a1s1=0.04*60;           //absorption due to wooden doors.\n",
"a2s2=0.03*700;          //absorption due to plastered walls.\n",
"a3s3=0.06*50;           //absorption due to glass work.\n",
"a4s4=4.2*370;           //absorption due to audience on spungy and wooden \n",
"//seats.\n",
"a5s5=2*230;              //absorption due to empty seats.\n",
"sum=a1s1+a2s2+a3s3+a4s4+a5s5; //total absorption of cinema hall.\n",
"T=(0.165*v)/sum;         //calculating T using Sabine Formula.\n",
"disp(T,'Reverberation Time = ');     //Displaying Result."
   ]
   }
,
{
		   "cell_type": "markdown",
		   "metadata": {},
		   "source": [
			"## Example 2.5: 5.sce"
		   ]
		  },
  {
"cell_type": "code",
	   "execution_count": null,
	   "metadata": {
	    "collapsed": true
	   },
	   "outputs": [],
"source": [
"clc;\n",
"disp('Example 2.5');\n",
"l=10;                          //length in centimetres.\n",
"Y=20*10^11;                    //Young's Modulus in dyne/cm square.\n",
"R=8;                           //Density in gram/cc\n",
"n=(1/(2*l))*sqrt(Y/R); //calculating frequency of vibration using \n",
"//young's modulus.\n",
"disp(n,'Frequency of vibration in Hz.');    //Displaying Result. "
   ]
   }
,
{
		   "cell_type": "markdown",
		   "metadata": {},
		   "source": [
			"## Example 2.6: 6.sce"
		   ]
		  },
  {
"cell_type": "code",
	   "execution_count": null,
	   "metadata": {
	    "collapsed": true
	   },
	   "outputs": [],
"source": [
"clc;\n",
"disp('Example 2.7');\n",
"t=0.1;               //thickness in centimetre.\n",
"Y=8.75*10^11;        //Young's Modulus in dyne/cm square.\n",
"R=2.654;             //Density in gram/cm square.\n",
"n=(1/(2*t))*sqrt(Y/R);     //calculating frequency using Young's modulus.\n",
"disp(n,'Frequency of Vibration in Hz = ');  //Displaying Result."
   ]
   }
,
{
		   "cell_type": "markdown",
		   "metadata": {},
		   "source": [
			"## Example 2.7: 7.sce"
		   ]
		  },
  {
"cell_type": "code",
	   "execution_count": null,
	   "metadata": {
	    "collapsed": true
	   },
	   "outputs": [],
"source": [
"clc;\n",
"disp('Example 2.7');\n",
"K=2.026*10^9;              //Bulk Modulus in N/m square.\n",
"R=10^3;                    //Density in Kg/m cube.\n",
"V=sqrt(K/R);               //Calculating speed using Bulk Modulus.\n",
"disp(V,'Velocity of sound waves in water in m/sec = ');   //displaying result."
   ]
   }
,
{
		   "cell_type": "markdown",
		   "metadata": {},
		   "source": [
			"## Example 2.8: 8.sce"
		   ]
		  },
  {
"cell_type": "code",
	   "execution_count": null,
	   "metadata": {
	    "collapsed": true
	   },
	   "outputs": [],
"source": [
"clc;\n",
"disp('Example 2.8');\n",
"Y=1.41;            //Young's Modulus.\n",
"R=1.293*10^-3;     //Density of air in g/centimetre cube.\n",
"P=76*13.6*980;     //atmospheric pressure in dyne/cm square.\n",
"V=sqrt((Y*P)/R);    //calculating speed using young's modulus.\n",
"disp(V,'Speed of ultrasonic wave in air at n.t.p. in cm/sec =  ');  //displaying result.  \n",
"disp(V*10^-2,'Speed in m/sec');  //displaying result."
   ]
   }
],
"metadata": {
		  "kernelspec": {
		   "display_name": "Scilab",
		   "language": "scilab",
		   "name": "scilab"
		  },
		  "language_info": {
		   "file_extension": ".sce",
		   "help_links": [
			{
			 "text": "MetaKernel Magics",
			 "url": "https://github.com/calysto/metakernel/blob/master/metakernel/magics/README.md"
			}
		   ],
		   "mimetype": "text/x-octave",
		   "name": "scilab",
		   "version": "0.7.1"
		  }
		 },
		 "nbformat": 4,
		 "nbformat_minor": 0
}
