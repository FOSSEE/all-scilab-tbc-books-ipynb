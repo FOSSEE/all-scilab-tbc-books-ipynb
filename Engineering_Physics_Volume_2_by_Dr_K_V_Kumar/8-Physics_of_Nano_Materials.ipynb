{
"cells": [
 {
		   "cell_type": "markdown",
	   "metadata": {},
	   "source": [
       "# Chapter 8: Physics of Nano Materials"
	   ]
	},
{
		   "cell_type": "markdown",
		   "metadata": {},
		   "source": [
			"## Example 8.1: To_calculate_the_surface_area_to_volume_ratio.sce"
		   ]
		  },
  {
"cell_type": "code",
	   "execution_count": null,
	   "metadata": {
	    "collapsed": true
	   },
	   "outputs": [],
"source": [
"clc();\n",
"clear;\n",
"// To calculate the surface area to volume ratio\n",
"r=5;    //radius in m\n",
"SA=4*%pi*r^2;    //surface area of sphere in m^2\n",
"V=(4/3)*%pi*r^3;   //volume of sphere in m^3\n",
"R=SA/V;    //ratio\n",
"//surface area to volume ratio can also be given by 3/radius\n",
"printf('surface area to volume ratio of sphere is %f m-1',R);"
   ]
   }
,
{
		   "cell_type": "markdown",
		   "metadata": {},
		   "source": [
			"## Example 8.2: To_calculate_the_surface_area_to_volume_ratio.sce"
		   ]
		  },
  {
"cell_type": "code",
	   "execution_count": null,
	   "metadata": {
	    "collapsed": true
	   },
	   "outputs": [],
"source": [
"clc();\n",
"clear;\n",
"// To calculate the surface area to volume ratio\n",
"d=26;   //distance in m\n",
"r=d/2;    //radius in m\n",
"SA=4*%pi*r^2;    //surface area of sphere in m^2\n",
"V=(4/3)*%pi*r^3;   //volume of sphere in m^3\n",
"R=SA/V;    //ratio\n",
"//surface area to volume ratio can also be given by 3/radius\n",
"printf('surface area to volume ratio of sphere is %f m-1',R);"
   ]
   }
,
{
		   "cell_type": "markdown",
		   "metadata": {},
		   "source": [
			"## Example 8.3: To_calculate_the_volume_of_cone.sce"
		   ]
		  },
  {
"cell_type": "code",
	   "execution_count": null,
	   "metadata": {
	    "collapsed": true
	   },
	   "outputs": [],
"source": [
"clc();\n",
"clear;\n",
"// To calculate the volume of cone\n",
"r=1;   //radius in m\n",
"h=1;   //height in m\n",
"V=(1/3)*%pi*(r^2)*h;\n",
"printf('volume of cone is %f m^3',V); "
   ]
   }
,
{
		   "cell_type": "markdown",
		   "metadata": {},
		   "source": [
			"## Example 8.4: To_calculate_the_total_surface_area_of_cone.sce"
		   ]
		  },
  {
"cell_type": "code",
	   "execution_count": null,
	   "metadata": {
	    "collapsed": true
	   },
	   "outputs": [],
"source": [
"clc();\n",
"clear;\n",
"// To calculate the total surface area of cone\n",
"r=3;   //radius in m\n",
"h=4;   //height in m\n",
"SA=%pi*r*sqrt((r^2)+(h^2));\n",
"TSA=SA+(%pi*r^2);\n",
"printf('total surface area of cone is %f m^2',TSA);\n",
"\n",
"//answer given in the book is wrong"
   ]
   }
,
{
		   "cell_type": "markdown",
		   "metadata": {},
		   "source": [
			"## Example 8.5: To_calculate_the_height_of_cone.sce"
		   ]
		  },
  {
"cell_type": "code",
	   "execution_count": null,
	   "metadata": {
	    "collapsed": true
	   },
	   "outputs": [],
"source": [
"clc();\n",
"clear;\n",
"// To calculate the height of cone\n",
"V=100;   //volume of cone in cubic inches\n",
"r=5;   //radius of cone in inches\n",
"r_m=r*0.0254;    //radius of cone in m\n",
"//volume V=(1/3)*%pi*(r^2)*h\n",
"//therefore h = (3*V)/(%pi*r^2)\n",
"h=(3*V)/(%pi*r^2);   //height in inches\n",
"R=3/r_m;\n",
"printf('height of the cone is %f inches',h);\n",
"printf('surface area to volume ratio is %f m-1',R);\n",
"\n",
"//answer for the surface area to volume ratio given in the book is wrong"
   ]
   }
],
"metadata": {
		  "kernelspec": {
		   "display_name": "Scilab",
		   "language": "scilab",
		   "name": "scilab"
		  },
		  "language_info": {
		   "file_extension": ".sce",
		   "help_links": [
			{
			 "text": "MetaKernel Magics",
			 "url": "https://github.com/calysto/metakernel/blob/master/metakernel/magics/README.md"
			}
		   ],
		   "mimetype": "text/x-octave",
		   "name": "scilab",
		   "version": "0.7.1"
		  }
		 },
		 "nbformat": 4,
		 "nbformat_minor": 0
}
