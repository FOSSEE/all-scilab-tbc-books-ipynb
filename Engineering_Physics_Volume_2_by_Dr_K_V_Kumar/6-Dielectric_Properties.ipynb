{
"cells": [
 {
		   "cell_type": "markdown",
	   "metadata": {},
	   "source": [
       "# Chapter 6: Dielectric Properties"
	   ]
	},
{
		   "cell_type": "markdown",
		   "metadata": {},
		   "source": [
			"## Example 6.10: To_calculate_the_complex_polarisability_of_material.sce"
		   ]
		  },
  {
"cell_type": "code",
	   "execution_count": null,
	   "metadata": {
	    "collapsed": true
	   },
	   "outputs": [],
"source": [
"clc();\n",
"clear;\n",
"// To calculate the complex polarisability of material\n",
"epsilonr=4.36;      //dielectric constant\n",
"t=2.8*10^-2;\n",
"N=4*10^28;\n",
"epsilon0=8.84*10^-12;\n",
"epsilon_r=epsilonr*t;\n",
"//epsilonstar=epsilonr-(j*epsilon_r)\n",
"//by substituting values epsilonstar = 4.36-(j*0.12208)\n",
"//by taking out 4.36 common we get epsilonstar = 4.36(1-(j*0.028))\n",
"//(epsilonstar-1)/(epsilonstar+2) = (N*alphastar/(3*epsilon0))\n",
"// (4.36(1-(j*0.028))-1)/(4.36(1-(j*0.028))+2) = (N*alphastar/(3*epsilon0))\n",
"//consider real part in numerator of LHS be A and in denominator be B\n",
"A=4.36-1;\n",
"B=4.36+2;\n",
"C=N/(3*epsilon0);\n",
"//therefore alpastar = (1/C)*((3.36-0.12208j)/(6.36-0.12208j))\n",
"//by rationalising the denominatore we get \n",
"//((3.36-0.12208j)/(6.36-0.12208j))*((6.36+0.12208j)/(6.36+0.12208j))\n",
"//after simplifuing let real part ne X and imaginary part be Y\n",
"X=((3.36*6.36)+(0.12208*0.12208))/((6.36^2)+(0.12208^2));\n",
"Y=((3.36*0.12208)-(6.36*0.12208))/((6.36^2)+(0.12208^2));\n",
"//alphastar=(1/C)*(X+jY) = ((1/C)*X)+((1/C)*jY)\n",
"R=(1/C)*X;\n",
"I=(1/C)*Y;\n",
"printf('the complex polarizability in F-m^2 is');\n",
"disp('j',I,R);\n",
"//by taking 10^-40 common we get alphastar = (3.5-j0.06)*10^-40 F-m^2"
   ]
   }
,
{
		   "cell_type": "markdown",
		   "metadata": {},
		   "source": [
			"## Example 6.1: To_calculate_the_energy_stored_in_the_condenser_and_polarizing_the_dielectric.sce"
		   ]
		  },
  {
"cell_type": "code",
	   "execution_count": null,
	   "metadata": {
	    "collapsed": true
	   },
	   "outputs": [],
"source": [
"clc();\n",
"clear;\n",
"// To calculate the energy stored in the condenser and polarizing the dielectric\n",
"C=2;    //capacitance in micro farad\n",
"C=C*10^-6;    //capacitance in farad\n",
"V=1000;   //voltage in Volts\n",
"epsilon_r=100;    \n",
"W=(C*(V^2))/2;\n",
"C0=C/epsilon_r;\n",
"W0=(C0*(V^2))/2;\n",
"W_0=1-W0;\n",
"printf('energy stored in the condenser is %f Joule',W);\n",
"printf('energy stored in the dielectric is %f Joule',W_0);"
   ]
   }
,
{
		   "cell_type": "markdown",
		   "metadata": {},
		   "source": [
			"## Example 6.2: To_calculate_the_ratio_between_electronic_and_ionic_polarizability.sce"
		   ]
		  },
  {
"cell_type": "code",
	   "execution_count": null,
	   "metadata": {
	    "collapsed": true
	   },
	   "outputs": [],
"source": [
"clc();\n",
"clear;\n",
"// To calculate the ratio between electronic and ionic polarizability\n",
"epsilon_r=4.94;\n",
"N=2.69;     //let n^2 be N\n",
"//(epsilon_r-1)/(epsilon_r+2) = (N*alpha)/(3*epsilon_0)\n",
"//alpha = alpha_e+alpha_i\n",
"//therefore (epsilon_r-1)/(epsilon_r+2) = (N*(alpha_e+alpha_i))/(3*epsilon_0)\n",
"//let (N*(alpha_e+alpha_i))/(3*epsilon_0) be X\n",
"X=(epsilon_r-1)/(epsilon_r+2);\n",
"//Ez=n^2\n",
"//therefore (N-1)/(N+2) = (N*alpha_e)/(3*epsilon_0)\n",
"//let (N*alpha_e)/(3*epsilon_0) be Y\n",
"Y=(N-1)/(N+2);\n",
"//dividing X/Y = (N*(alpha_e+alpha_i))/(N*alpha_e)\n",
"//therefore X/Y = 1+(alpha_i/alpha_e)\n",
"//let alpha_i/alpha_e be A\n",
"R=(X/Y)-1;\n",
"printf('ratio between electronic and ionic polarizability is %f',R);\n",
"\n",
"//answer given in the book is wrong in the second part"
   ]
   }
,
{
		   "cell_type": "markdown",
		   "metadata": {},
		   "source": [
			"## Example 6.3: To_calculate_the_dielectric_constant_of_the_material.sce"
		   ]
		  },
  {
"cell_type": "code",
	   "execution_count": null,
	   "metadata": {
	    "collapsed": true
	   },
	   "outputs": [],
"source": [
"clc();\n",
"clear;\n",
"// To calculate the dielectric constant of the material\n",
"N=3*10^28;   //atoms per m^3\n",
"alpha_e=10^-40;   //farad m^2\n",
"epsilon_0=8.854*10^-12;    //f/m\n",
"epsilon_r=1+(N*alpha_e/epsilon_0);\n",
"printf('dielectric constant of the material is %f',epsilon_r);"
   ]
   }
,
{
		   "cell_type": "markdown",
		   "metadata": {},
		   "source": [
			"## Example 6.4: To_calculate_the_electronic_polarizability_of_He_atoms.sce"
		   ]
		  },
  {
"cell_type": "code",
	   "execution_count": null,
	   "metadata": {
	    "collapsed": true
	   },
	   "outputs": [],
"source": [
"clc();\n",
"clear;\n",
"// To calculate the electronic polarizability of He atoms\n",
"epsilon_0=8.854*10^-12;    //f/m\n",
"epsilon_r=1.0000684;\n",
"N=2.7*10^25;   //atoms per m^3\n",
"alpha_e=(epsilon_0*(epsilon_r-1))/N;\n",
"printf('electronic polarizability of He atoms in Fm^2 is');\n",
"disp(alpha_e);"
   ]
   }
,
{
		   "cell_type": "markdown",
		   "metadata": {},
		   "source": [
			"## Example 6.5: To_calculate_the_capacitance_and_charge.sce"
		   ]
		  },
  {
"cell_type": "code",
	   "execution_count": null,
	   "metadata": {
	    "collapsed": true
	   },
	   "outputs": [],
"source": [
"clc();\n",
"clear;\n",
"// To calculate the capacitance and charge\n",
"epsilon_0=8.854*10^-12;    //f/m\n",
"A=100;    //area in cm^2\n",
"A=A*10^-4;   //area in m^2\n",
"V=100;   //potential in V\n",
"d=1;   //plate seperation in cm\n",
"d=d*10^-2;    //plate seperation in m\n",
"C=(epsilon_0*A)/d;\n",
"Q=C*V;\n",
"printf('charge on the plates in F is');\n",
"disp(C);\n",
"printf('charge on the capacitor in coulomb is');\n",
"disp(Q);"
   ]
   }
,
{
		   "cell_type": "markdown",
		   "metadata": {},
		   "source": [
			"## Example 6.6: To_calculate_the_resultant_voltage_across_the_capacitors.sce"
		   ]
		  },
  {
"cell_type": "code",
	   "execution_count": null,
	   "metadata": {
	    "collapsed": true
	   },
	   "outputs": [],
"source": [
"clc();\n",
"clear;\n",
"// To calculate the resultant voltage across the capacitors\n",
"Q=2*10^-10;   //charge in coulomb\n",
"d=4;   //plate seperation in mm\n",
"d=d*10^-3;    //plate seperation in m\n",
"epsilon_r=3.5;\n",
"epsilon_0=8.85*10^-12;    //f/m\n",
"A=650;    //area in mm^2\n",
"A=A*10^-6;    //area in m^2\n",
"V=(Q*d)/(epsilon_0*epsilon_r*A);\n",
"printf('voltage across the capacitor is %f Volts',V);"
   ]
   }
,
{
		   "cell_type": "markdown",
		   "metadata": {},
		   "source": [
			"## Example 6.7: To_calculate_the_dielectric_displacement.sce"
		   ]
		  },
  {
"cell_type": "code",
	   "execution_count": null,
	   "metadata": {
	    "collapsed": true
	   },
	   "outputs": [],
"source": [
"clc();\n",
"clear;\n",
"// To calculate the dielectric displacement\n",
"V=10;   //potential in volts\n",
"d=2*10^-3;    //plate seperation in m\n",
"epsilon_r=6;    //dielectric constant\n",
"epsilon_0=8.85*10^-12;    //f/m\n",
"E=V/d;\n",
"D=epsilon_0*epsilon_r*E;\n",
"printf('dielectric displacement in cm^-2 is');\n",
"disp(D);\n",
"\n",
"//answer given in the book is wrong in the 7th decimal point"
   ]
   }
,
{
		   "cell_type": "markdown",
		   "metadata": {},
		   "source": [
			"## Example 6.8: To_calculate_the_polarizability_and_relative_permittivity_of_He.sce"
		   ]
		  },
  {
"cell_type": "code",
	   "execution_count": null,
	   "metadata": {
	    "collapsed": true
	   },
	   "outputs": [],
"source": [
"clc();\n",
"clear;\n",
"// To calculate the polarizability and relative permittivity of He\n",
"R=0.55;    //radius of He atom in angstrom\n",
"R=R*10^-10;    //radius of He atom in m\n",
"epsilon_0=8.84*10^-12;    //f/m\n",
"N=2.7*10^25;\n",
"alpha_e=4*%pi*epsilon_0*R^3;\n",
"epsilon_r=(N*alpha_e/epsilon_0)+1;\n",
"printf('polarizability in farad m^2 is');\n",
"disp(alpha_e);\n",
"printf('relative permitivity is');\n",
"disp(epsilon_r);"
   ]
   }
,
{
		   "cell_type": "markdown",
		   "metadata": {},
		   "source": [
			"## Example 6.9: To_calculate_the_field_strength_and_total_dipole_moment.sce"
		   ]
		  },
  {
"cell_type": "code",
	   "execution_count": null,
	   "metadata": {
	    "collapsed": true
	   },
	   "outputs": [],
"source": [
"clc();\n",
"clear;\n",
"// To calculate the field strength and total dipole moment\n",
"V=15;    //potential difference in volts\n",
"C=6;    //capacity in micro farad\n",
"C=C*10^-6;    //capacity in farad\n",
"epsilon_0=8.84*10^-12;    //f/m\n",
"epsilon_r=8;\n",
"A=360;     //surface area in cm^2\n",
"A=A*10^-4;    //surface area in m^2\n",
"E=(V*C)/(epsilon_0*epsilon_r*A);\n",
"d=epsilon_0*(epsilon_r-1)*V*A;\n",
"printf('field strength in V/m is');\n",
"disp(E);\n",
"printf('total dipole moment in cm is');\n",
"disp(d);\n",
"\n",
"//answer for field strength E given in the book is wrong "
   ]
   }
],
"metadata": {
		  "kernelspec": {
		   "display_name": "Scilab",
		   "language": "scilab",
		   "name": "scilab"
		  },
		  "language_info": {
		   "file_extension": ".sce",
		   "help_links": [
			{
			 "text": "MetaKernel Magics",
			 "url": "https://github.com/calysto/metakernel/blob/master/metakernel/magics/README.md"
			}
		   ],
		   "mimetype": "text/x-octave",
		   "name": "scilab",
		   "version": "0.7.1"
		  }
		 },
		 "nbformat": 4,
		 "nbformat_minor": 0
}
