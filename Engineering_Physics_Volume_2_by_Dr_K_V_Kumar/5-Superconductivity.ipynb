{
"cells": [
 {
		   "cell_type": "markdown",
	   "metadata": {},
	   "source": [
       "# Chapter 5: Superconductivity"
	   ]
	},
{
		   "cell_type": "markdown",
		   "metadata": {},
		   "source": [
			"## Example 5.10: To_calculate_the_critical_current.sce"
		   ]
		  },
  {
"cell_type": "code",
	   "execution_count": null,
	   "metadata": {
	    "collapsed": true
	   },
	   "outputs": [],
"source": [
"clc();\n",
"clear;\n",
"// To calculate the critical current\n",
"d=3;     //diameter in mm\n",
"d=d*10^-3;     //diameter in m\n",
"Tc=8;        //critical temp in K \n",
"T=5;       //temp in K \n",
"Ho=5*10^4;    //magnetic field in A/m\n",
"r=d/2;\n",
"Hc=Ho*(1-((T/Tc)^2));\n",
"Ic=2*%pi*r*Hc;\n",
"printf('critical current is %f amp',Ic);\n",
"\n",
"//answer in the book is wrong"
   ]
   }
,
{
		   "cell_type": "markdown",
		   "metadata": {},
		   "source": [
			"## Example 5.11: To_calculate_the_critical_temperature.sce"
		   ]
		  },
  {
"cell_type": "code",
	   "execution_count": null,
	   "metadata": {
	    "collapsed": true
	   },
	   "outputs": [],
"source": [
"clc();\n",
"clear;\n",
"// To calculate the critical temperature\n",
"M1=199.5;    //isotopic mass\n",
"M2=203.4;\n",
"Tc1=4.185;      //1st critical temp in K\n",
"Tc2=Tc1*sqrt(M1/M2);\n",
"printf('the critical temperature is %f K',Tc2);"
   ]
   }
,
{
		   "cell_type": "markdown",
		   "metadata": {},
		   "source": [
			"## Example 5.12: To_calculate_the_EM_wave_frequency.sce"
		   ]
		  },
  {
"cell_type": "code",
	   "execution_count": null,
	   "metadata": {
	    "collapsed": true
	   },
	   "outputs": [],
"source": [
"clc();\n",
"clear;\n",
"// To calculate the EM wave frequency\n",
"V=8.50;    //voltage in micro Volts\n",
"V=V*10^-6;     //in volts\n",
"e=1.6*10^-19;       //electron charge in coulomb\n",
"h=6.626*10^-24;\n",
"new=2*e*V/h;\n",
"printf('EM wave frequency in Hz is');\n",
"disp(new);\n",
"\n",
"//answer given in the book is wrong"
   ]
   }
,
{
		   "cell_type": "markdown",
		   "metadata": {},
		   "source": [
			"## Example 5.13: To_calculate_the_critical_temperature.sce"
		   ]
		  },
  {
"cell_type": "code",
	   "execution_count": null,
	   "metadata": {
	    "collapsed": true
	   },
	   "outputs": [],
"source": [
"clc();\n",
"clear;\n",
"// To calculate the critical temperature\n",
"p1=1;     //1st pressure in mm\n",
"p2=6;     //2nd pressure in mm\n",
"Tc1=5;    //1st critical temp in K\n",
"Tc2=Tc1*(p2/p1);\n",
"printf('the critical temperature is %f K',Tc2);"
   ]
   }
,
{
		   "cell_type": "markdown",
		   "metadata": {},
		   "source": [
			"## Example 5.14: To_calculate_maximum_critical_temperature.sce"
		   ]
		  },
  {
"cell_type": "code",
	   "execution_count": null,
	   "metadata": {
	    "collapsed": true
	   },
	   "outputs": [],
"source": [
"clc();\n",
"clear;\n",
"// To calculate maximum critical temperature\n",
"Tc=8.7;      //1st critical temp in K\n",
"Hc=6*10^5;      //critical magnetic field in Amp/m\n",
"Ho=3*10^6;      //critical magnetic field in Amp/m\n",
"T=Tc*sqrt(1-(Hc/Ho));\n",
"printf('maximum critical temperature is %f K',T);\n",
"\n",
"//answer given in the book is wrong"
   ]
   }
,
{
		   "cell_type": "markdown",
		   "metadata": {},
		   "source": [
			"## Example 5.1: To_calculate_the_critical_field.sce"
		   ]
		  },
  {
"cell_type": "code",
	   "execution_count": null,
	   "metadata": {
	    "collapsed": true
	   },
	   "outputs": [],
"source": [
"clc();\n",
"clear;\n",
"// To calculate the critical field\n",
"Tc=3.7;        //critical temperature in kelvin\n",
"Hc_0=0.0306;    //critical field in T\n",
"T=2;\n",
"Hc_2k=Hc_0*(1-((T/Tc)^2));\n",
"printf('the critical feild at 2K is %f Tesla',Hc_2k);"
   ]
   }
,
{
		   "cell_type": "markdown",
		   "metadata": {},
		   "source": [
			"## Example 5.2: To_calculate_the_critical_current.sce"
		   ]
		  },
  {
"cell_type": "code",
	   "execution_count": null,
	   "metadata": {
	    "collapsed": true
	   },
	   "outputs": [],
"source": [
"clc();\n",
"clear;\n",
"// To calculate the critical current\n",
"T=4.2;         //temp in kelvin\n",
"Tc=7.18;       //critical temp in kelvin\n",
"Hc_0=6.5*10^4;        //in amp/m\n",
"d=1;     //diameter in mm\n",
"d=d*10^-3;    //diameter in m\n",
"r=d/2;\n",
"Hc_T=Hc_0*(1-((T/Tc)^2));\n",
"Ic=2*%pi*r*Hc_T;\n",
"printf('the critical current is %f Amp',Ic);\n",
"\n",
"//answer given in the book is wrong"
   ]
   }
,
{
		   "cell_type": "markdown",
		   "metadata": {},
		   "source": [
			"## Example 5.3: To_calculate_the_penetration_depth.sce"
		   ]
		  },
  {
"cell_type": "code",
	   "execution_count": null,
	   "metadata": {
	    "collapsed": true
	   },
	   "outputs": [],
"source": [
"clc();\n",
"clear;\n",
"// To calculate the penetration depth\n",
"lamda_T=75;       // penetration depth in nm\n",
"T=3.5;        //temperature in K\n",
"HgTc=4.12;       //in K\n",
"lamda_0=lamda_T*sqrt(1-((T/HgTc)^4));\n",
"printf('the pentration depth at 0k is %f nm',lamda_0);"
   ]
   }
,
{
		   "cell_type": "markdown",
		   "metadata": {},
		   "source": [
			"## Example 5.4: To_calculate_the_critical_temperature.sce"
		   ]
		  },
  {
"cell_type": "code",
	   "execution_count": null,
	   "metadata": {
	    "collapsed": true
	   },
	   "outputs": [],
"source": [
"clc();\n",
"clear;\n",
"// To calculate the critical temperature\n",
"lamda_T1=396;           //pentration depth in armstrong\n",
"lamda_T2=1730;          //pentration depth in armstrong\n",
"T1=3;                     //temperature in K\n",
"T2=7.1;                   //temperature in K\n",
"//lamda_T2^2=lamda_0^2*(((Tc^4-T2^4)/Tc^4)^-1)\n",
"//lamda_T12^=lamda_0^2*(((Tc^4-T1^4)/Tc^4)^-1)\n",
"//dividing lamda_T2^2 by lamda_T1^2 = (Tc^4-T1^4)/(Tc^4-T2^4)\n",
"//let A=lamda_T2^2 and B=lamda_T1^2\n",
"A=lamda_T2^2;\n",
"B=lamda_T1^2;\n",
"C=A/B;\n",
"X=T1^4;\n",
"Y=T2^4;\n",
"//C*((TC^4)-Y)=(Tc^4)-X\n",
"//C*(Tc^4)-(Tc^4)=C*Y-X\n",
"//(Tc^4)*(C-1)=(C*Y)-X\n",
"//let Tc^4 be D\n",
"//D*(C-1)=(C*Y)-X\n",
"D=((C*Y)-X)/(C-1);\n",
"Tc=D^(1/4);\n",
"printf('the critical temperature is %f K',Tc);"
   ]
   }
,
{
		   "cell_type": "markdown",
		   "metadata": {},
		   "source": [
			"## Example 5.5: To_calculate_the_critical_field.sce"
		   ]
		  },
  {
"cell_type": "code",
	   "execution_count": null,
	   "metadata": {
	    "collapsed": true
	   },
	   "outputs": [],
"source": [
"clc();\n",
"clear;\n",
"// To calculate the critical field\n",
"Tc=7.2;         //critical temp in K\n",
"Ho=6.5*10^3;     //critical magnetic field in amp/m\n",
"T=5;         //temp in K\n",
"Hc=Ho*(1-((T/Tc)^2));\n",
"printf('the critical magnetic field at 5K is %f amp/m',Hc);\n",
"\n",
"//answer given in the book is wrong"
   ]
   }
,
{
		   "cell_type": "markdown",
		   "metadata": {},
		   "source": [
			"## Example 5.6: To_calculate_the_critical_feild.sce"
		   ]
		  },
  {
"cell_type": "code",
	   "execution_count": null,
	   "metadata": {
	    "collapsed": true
	   },
	   "outputs": [],
"source": [
"clc();\n",
"clear;\n",
"// To calculate the critical feild at 2.5K\n",
"Tc=3.5;         //in K\n",
"Ho=3.2*10^3;    //in amp per m\n",
"T=2.5;         //in K\n",
"Hc=Ho*(1-((T/Tc)^2));\n",
"printf('critical field is %f amp/m is',Hc);"
   ]
   }
,
{
		   "cell_type": "markdown",
		   "metadata": {},
		   "source": [
			"## Example 5.7: To_calculate_the_transition_temperature.sce"
		   ]
		  },
  {
"cell_type": "code",
	   "execution_count": null,
	   "metadata": {
	    "collapsed": true
	   },
	   "outputs": [],
"source": [
"clc();\n",
"clear;\n",
"// To calculate the transition temperature\n",
"Hc=5*10^3       //critical magnetic field in amp/m\n",
"Ho=2*10^4;      //critical field in amp/m\n",
"T=6;         //temp in K\n",
"Tc=T/sqrt(1-(Hc/Ho));\n",
"printf('the transition temperature is %f K',Tc)\n",
"\n",
"//answer in the book is wrong"
   ]
   }
,
{
		   "cell_type": "markdown",
		   "metadata": {},
		   "source": [
			"## Example 5.8: To_calculate_the_critical_current.sce"
		   ]
		  },
  {
"cell_type": "code",
	   "execution_count": null,
	   "metadata": {
	    "collapsed": true
	   },
	   "outputs": [],
"source": [
"clc();\n",
"clear;\n",
"// To calculate the critical current\n",
"Hc=2*10^3;       //critical magnetic field in amp/m\n",
"R=0.02;       //radius in m\n",
"p=3.14;\n",
"Ic=2*p*R*Hc;\n",
"printf('the critical current is %f amp',Ic);"
   ]
   }
,
{
		   "cell_type": "markdown",
		   "metadata": {},
		   "source": [
			"## Example 5.9: To_calculate_the_isotopic_mass.sce"
		   ]
		  },
  {
"cell_type": "code",
	   "execution_count": null,
	   "metadata": {
	    "collapsed": true
	   },
	   "outputs": [],
"source": [
"clc();\n",
"clear;\n",
"// To calculate the isotopic mass\n",
"M1=199.5;      //isotopic mass in in a.m.u\n",
"T1=5;         //1st critical temp in K\n",
"T2=5.1;       //2nd critical temp in K\n",
"M2=((T1/T2)^2)*M1;\n",
"printf('the isotopic mass of M2 is %f a.m.u',M2);"
   ]
   }
],
"metadata": {
		  "kernelspec": {
		   "display_name": "Scilab",
		   "language": "scilab",
		   "name": "scilab"
		  },
		  "language_info": {
		   "file_extension": ".sce",
		   "help_links": [
			{
			 "text": "MetaKernel Magics",
			 "url": "https://github.com/calysto/metakernel/blob/master/metakernel/magics/README.md"
			}
		   ],
		   "mimetype": "text/x-octave",
		   "name": "scilab",
		   "version": "0.7.1"
		  }
		 },
		 "nbformat": 4,
		 "nbformat_minor": 0
}
