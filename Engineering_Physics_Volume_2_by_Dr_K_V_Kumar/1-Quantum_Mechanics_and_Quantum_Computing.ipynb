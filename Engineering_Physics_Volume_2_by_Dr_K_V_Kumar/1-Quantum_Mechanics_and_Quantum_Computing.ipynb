{
"cells": [
 {
		   "cell_type": "markdown",
	   "metadata": {},
	   "source": [
       "# Chapter 1: Quantum Mechanics and Quantum Computing"
	   ]
	},
{
		   "cell_type": "markdown",
		   "metadata": {},
		   "source": [
			"## Example 1.10: To_calculate_the_wavelength_of_an_electron.sce"
		   ]
		  },
  {
"cell_type": "code",
	   "execution_count": null,
	   "metadata": {
	    "collapsed": true
	   },
	   "outputs": [],
"source": [
"clc();\n",
"clear;\n",
"// To calculate the wavelength of an electron\n",
"V=15;   //potential in kV\n",
"V=V*10^3;    //potential in V\n",
"lamda=12.26/sqrt(V);    //de Broglie wavelength\n",
"printf('The de Broglie wavelength is %f Armstrong',lamda);"
   ]
   }
,
{
		   "cell_type": "markdown",
		   "metadata": {},
		   "source": [
			"## Example 1.11: To_calculate_the_de_Broglie_wavelength_of_neutron.sce"
		   ]
		  },
  {
"cell_type": "code",
	   "execution_count": null,
	   "metadata": {
	    "collapsed": true
	   },
	   "outputs": [],
"source": [
"clc();\n",
"clear;\n",
"// To calculate the de Broglie wavelength of neutron\n",
"m=1.675*10^(-27);    //mass of neutron in kg\n",
"h=6.626*10^(-34);\n",
"E=10;   //kinetic energy in keV\n",
"EeV=E*10^3;    //Energy in eV\n",
"Ej=EeV*1.6*10^-19;   //kinetic energy in J\n",
"v=sqrt(2*Ej/m);   //velocity in m/s\n",
"printf('The velocity in m/sec is');\n",
"disp(v);\n",
"lamda=h/(m*v);    //de broglie wavelength in m\n",
"printf('The de Broglie wavelength in metres is');\n",
"disp(lamda);\n",
"lamda_A=lamda*10^10;   //de broglie wavelength in armstrong\n",
"printf('The de Broglie wavelength is %f Armstrong',lamda_A);"
   ]
   }
,
{
		   "cell_type": "markdown",
		   "metadata": {},
		   "source": [
			"## Example 1.12: To_calculate_the_de_Broglie_wavelength_of_electron.sce"
		   ]
		  },
  {
"cell_type": "code",
	   "execution_count": null,
	   "metadata": {
	    "collapsed": true
	   },
	   "outputs": [],
"source": [
"clc();\n",
"clear;\n",
"// To calculate the de Broglie wavelength of electron\n",
"m=9.1*10^-31;    //mass of electron in kg\n",
"h=6.6*10^(-34);\n",
"E=2;   //kinetic energy in keV\n",
"EeV=E*10^3;    //Energy in eV\n",
"Ej=EeV*1.6*10^-19;   //kinetic energy in J\n",
"p=sqrt(2*m*Ej);    //momentum\n",
"lamda=h/p;    //de broglie wavelength in m\n",
"printf('The de Broglie wavelength in metres is');\n",
"disp(lamda);\n",
"lamda_A=lamda*10^10;   //de broglie wavelength in armstrong\n",
"printf('The de Broglie wavelength is %f Armstrong',lamda_A);"
   ]
   }
,
{
		   "cell_type": "markdown",
		   "metadata": {},
		   "source": [
			"## Example 1.13: To_calculate_the_wavelength_of_thermal_neutron.sce"
		   ]
		  },
  {
"cell_type": "code",
	   "execution_count": null,
	   "metadata": {
	    "collapsed": true
	   },
	   "outputs": [],
"source": [
"clc();\n",
"clear;\n",
"// To calculate the wavelength of thermal neutron\n",
"m=1.676*10^(-27);    //mass of neutron in kg\n",
"h=6.62*10^(-34);\n",
"E=0.025;   //kinetic energy in eV\n",
"Ej=E*1.6*10^-19;   //kinetic energy in J\n",
"v=sqrt(2*Ej/m);   //velocity in m/s\n",
"lamda=h/(m*v);    //wavelength in m\n",
"printf('The neutrons wavelength in metres is');\n",
"disp(lamda);\n",
"lamda_A=lamda*10^10;   //de broglie wavelength in armstrong\n",
"printf('The wavelength is %f Armstrong',lamda_A);"
   ]
   }
,
{
		   "cell_type": "markdown",
		   "metadata": {},
		   "source": [
			"## Example 1.14: To_calculate_the_wavelength_of_an_electron.sce"
		   ]
		  },
  {
"cell_type": "code",
	   "execution_count": null,
	   "metadata": {
	    "collapsed": true
	   },
	   "outputs": [],
"source": [
"clc();\n",
"clear;\n",
"// To calculate the wavelength of an electron\n",
"V=10;   //potential in kV\n",
"V=V*10^3;   //potential in V\n",
"lamda=12.26/sqrt(V);    //wavelength\n",
"printf('The wavelength is %f Armstrong',lamda);"
   ]
   }
,
{
		   "cell_type": "markdown",
		   "metadata": {},
		   "source": [
			"## Example 1.15: To_calculate_the_first_three_permitted_levels_of_electro.sce"
		   ]
		  },
  {
"cell_type": "code",
	   "execution_count": null,
	   "metadata": {
	    "collapsed": true
	   },
	   "outputs": [],
"source": [
"clc();\n",
"clear;\n",
"// To calculate the first three permitted levels of electron\n",
"h=6.626*10^(-34);\n",
"m=9.1*10^-31;   //mass in kg\n",
"L=1;    //width in armstrong\n",
"L=L*10^-10;   //width in m\n",
"//permitted electron energies En=(n^2*h^2)/(8*m*L^2)\n",
"//let X = h^2/(8*m*L^2)\n",
"X = h^2/(8*m*L^2);    //energy in J\n",
"XeV=X/(1.6*10^-19);   //energy in eV\n",
"//in the 1st level n1=1\n",
"n1=1;\n",
"E1=(n1^2)*XeV;    //energy in eV\n",
"printf('minimum energy the electron can have is %f eV',E1);\n",
"//in second level n2=2\n",
"n2=2;\n",
"E2=(n2^2)*XeV;    //energy in eV\n",
"//in third level n3=\n",
"n3=3;\n",
"E3=(n3^2)*XeV;    //energy in eV\n",
"printf('other values of energy are %f eV and %f eV',E2,E3);\n",
"\n",
"//answers given in the book are wrong"
   ]
   }
,
{
		   "cell_type": "markdown",
		   "metadata": {},
		   "source": [
			"## Example 1.16: To_calculate_the_probability_of_finding_the_particle.sce"
		   ]
		  },
  {
"cell_type": "code",
	   "execution_count": null,
	   "metadata": {
	    "collapsed": true
	   },
	   "outputs": [],
"source": [
"clc();\n",
"clear;\n",
"// To calculate the probability of finding the particle\n",
"n=1;   //lowest state\n",
"L=10;    //width in armstrong\n",
"L=L*10^-10;    //width in m\n",
"x=L/2;\n",
"delta_x=1;    //interval in armstrong\n",
"delta_x=delta_x*10^-10;    //interval in m\n",
"psi1=(sqrt(2/L))*sin(%pi*x/L);\n",
"A=psi1^2;\n",
"P=A*delta_x;\n",
"printf('probability of finding the particle is %f',P);"
   ]
   }
,
{
		   "cell_type": "markdown",
		   "metadata": {},
		   "source": [
			"## Example 1.17: To_calculate_the_Fermi_energy_of_the_metal.sce"
		   ]
		  },
  {
"cell_type": "code",
	   "execution_count": null,
	   "metadata": {
	    "collapsed": true
	   },
	   "outputs": [],
"source": [
"clc();\n",
"clear;\n",
"// To calculate the Fermi energy of the metal\n",
"d=970;   //density of Na in kg/m^3\n",
"n=6.02*10^26;\n",
"h=6.62*10^(-34);\n",
"m=9.1*10^-31;   //mass in kg\n",
"w=23;   //atomic weight \n",
"N=(d*n)/w;   //number of atoms per m^3\n",
"A=(h^2)/(8*m);\n",
"B=(3*N)/%pi;\n",
"Ef=A*B^(2/3);\n",
"EfeV=Ef/(1.6*10^-19);\n",
"printf('fermi energy of Na is %f eV',EfeV);"
   ]
   }
,
{
		   "cell_type": "markdown",
		   "metadata": {},
		   "source": [
			"## Example 1.18: To_calculate_the_lowest_energy_of_electron.sce"
		   ]
		  },
  {
"cell_type": "code",
	   "execution_count": null,
	   "metadata": {
	    "collapsed": true
	   },
	   "outputs": [],
"source": [
"clc();\n",
"clear;\n",
"// To calculate the lowest energy of electron\n",
"n1=1;\n",
"n2=1;\n",
"n3=1;    //values in lowest energy\n",
"h=6.62*10^(-34);\n",
"m=9.1*10^-31;   //mass in kg\n",
"L=0.1;   //side in nm\n",
"L=L*10^-9;    //side in m\n",
"n=(n1^2)+(n2^2)+(n3^2);\n",
"E1=(n*h^2)/(8*m*L^2);    //energy in j\n",
"E1eV=E1/(1.6*10^-19);    //energy in eV\n",
"printf('lowest energy of electron in Joule is');\n",
"disp(E1);\n",
"printf('lowest energy of electron is %f eV',E1eV);"
   ]
   }
,
{
		   "cell_type": "markdown",
		   "metadata": {},
		   "source": [
			"## Example 1.19: To_calculate_the_de_broglie_wavelength_of_neutron.sce"
		   ]
		  },
  {
"cell_type": "code",
	   "execution_count": null,
	   "metadata": {
	    "collapsed": true
	   },
	   "outputs": [],
"source": [
"clc();\n",
"clear;\n",
"// To calculate the de broglie wavelength of neutron\n",
"mn=1.676*10^-27;   //mass of neutron in kg\n",
"me=9.1*10^-31;    //mass of electron in kg\n",
"h=6.62*10^(-34);\n",
"c=3*10^8;    //velocity of light in m/sec\n",
"En=2*me*c^2;\n",
"lamda=h/sqrt(2*mn*En);   //wavelength in m\n",
"lamda_A=lamda*10^10;    //converting lamda from m to A\n",
"printf('The de broglie wavelength is %f Angstrom',lamda_A);"
   ]
   }
,
{
		   "cell_type": "markdown",
		   "metadata": {},
		   "source": [
			"## Example 1.1: To_calculate_the_de_Broglie_wavelength.sce"
		   ]
		  },
  {
"cell_type": "code",
	   "execution_count": null,
	   "metadata": {
	    "collapsed": true
	   },
	   "outputs": [],
"source": [
"clc();\n",
"clear;\n",
"// To calculate the de Broglie wavelength\n",
"c=3*10^8;   //velocity of light in m/s\n",
"v=c/10;   //velocity of proton in m/s\n",
"m=1.67*10^(-27);    //mass of proton in kg\n",
"h=6.626*10^(-34);\n",
"lamda=h/(m*v);   //de Broglie wavelength\n",
"printf('The de Broglie wavelength in metres is');\n",
"disp(lamda);"
   ]
   }
,
{
		   "cell_type": "markdown",
		   "metadata": {},
		   "source": [
			"## Example 1.20: To_calculate_the_energies_of_electron.sce"
		   ]
		  },
  {
"cell_type": "code",
	   "execution_count": null,
	   "metadata": {
	    "collapsed": true
	   },
	   "outputs": [],
"source": [
"clc();\n",
"clear;\n",
"// To calculate the energies of electron\n",
"n2=2;    //second quantum state\n",
"n4=4;    //fourth quantum state\n",
"h=6.626*10^-34;\n",
"m=9.1*10^-31;   //mass in kg\n",
"a=2;   //potential box length in armstrong\n",
"a=a*10^-10;    //length in m\n",
"A=n2^2*h^2;\n",
"B=8*m*a^2;\n",
"E2=A/B;    //energy in j\n",
"E2eV=E2/(1.6*10^-19);    //energy in eV\n",
"C=n4^2*h^2;\n",
"E4=C/B;    //energy in j\n",
"E4eV=E4/(1.6*10^-19);    //energy in eV\n",
"printf('energy corresponding to second quantum state in Joule is');\n",
"disp(E2);\n",
"printf('energy corresponding to second quantum state in eV is');\n",
"disp(E2eV);\n",
"printf('energy corresponding to fourth quantum state in Joule is');\n",
"disp(E4);\n",
"printf('energy corresponding to fourth quantum state in eV is');\n",
"disp(E4eV);\n",
"\n",
"//answers given in the book are wrong"
   ]
   }
,
{
		   "cell_type": "markdown",
		   "metadata": {},
		   "source": [
			"## Example 1.21: To_calculate_the_spacing_of_the_crystal.sce"
		   ]
		  },
  {
"cell_type": "code",
	   "execution_count": null,
	   "metadata": {
	    "collapsed": true
	   },
	   "outputs": [],
"source": [
"clc();\n",
"clear;\n",
"// To calculate the spacing of the crystal\n",
"V=344;   //accelerated voltage in V\n",
"n=1;    //first reflection\n",
"theta=60;   //glancing angle in degrees\n",
"lamda=12.27/sqrt(V);\n",
"d=(n*lamda)/(2*sind(theta));\n",
"printf('The spacing of the crystal is %f Angstrom',d);"
   ]
   }
,
{
		   "cell_type": "markdown",
		   "metadata": {},
		   "source": [
			"## Example 1.22: To_calculate_the_energies_of_electron.sce"
		   ]
		  },
  {
"cell_type": "code",
	   "execution_count": null,
	   "metadata": {
	    "collapsed": true
	   },
	   "outputs": [],
"source": [
"clc();\n",
"clear;\n",
"// To calculate the energies of electron\n",
"n2=2;    //second quantum state\n",
"n3=3;    //fourth quantum state\n",
"h=6.626*10^-34;\n",
"m=9.1*10^-31;   //mass in kg\n",
"a=1*10^-10;    //width of potential well in m\n",
"B=8*m*a^2;\n",
"E1=h^2/B;   //ground state energy\n",
"E1eV=E1/(1.6*10^-19);    //energy in eV\n",
"A=n2^2*h^2;\n",
"E2=A/B;    //energy in j\n",
"E2eV=E2/(1.6*10^-19);    //energy in eV\n",
"C=n3^2*h^2;\n",
"E3=C/B;    //energy in j\n",
"E3eV=E3/(1.6*10^-19);    //energy in eV\n",
"printf('ground state energy in Joule is');\n",
"disp(E1);\n",
"printf('ground state energy in eV is');\n",
"disp(E1eV);\n",
"printf('first energy state in eV is');\n",
"disp(E2eV);\n",
"printf('second energy state in eV is');\n",
"disp(E3eV);\n",
"\n",
"//answers given in the book are wrong by one decimal"
   ]
   }
,
{
		   "cell_type": "markdown",
		   "metadata": {},
		   "source": [
			"## Example 1.23: To_calculate_the_energy_required_to_jump_an_electron.sce"
		   ]
		  },
  {
"cell_type": "code",
	   "execution_count": null,
	   "metadata": {
	    "collapsed": true
	   },
	   "outputs": [],
"source": [
"clc();\n",
"clear;\n",
"// To calculate the energy required to jump an electron\n",
"n3=3;    //fourth quantum state\n",
"h=6.626*10^-34;\n",
"m=9.1*10^-31;   //mass in kg\n",
"//ground state energy E1 = h^2/(8*m*a^2)\n",
"//second excited state E3 = (9*h^2)/(8*m*a^2)\n",
"//required energy E = E3-E1\n",
"//E = (9*h^2)/(8*m*a^2) - h^2/(8*m*a^2)\n",
"//E = (h^2/(8*m*a^2))*(9-1)\n",
"//therefore E = (8*h^2)/(8*m*a^2)\n",
"//hence E = (h^2)/(m*a^2)"
   ]
   }
,
{
		   "cell_type": "markdown",
		   "metadata": {},
		   "source": [
			"## Example 1.24: To_calculate_the_minimum_uncertainity_in_velocity.sce"
		   ]
		  },
  {
"cell_type": "code",
	   "execution_count": null,
	   "metadata": {
	    "collapsed": true
	   },
	   "outputs": [],
"source": [
"clc();\n",
"clear;\n",
"// To calculate the minimum uncertainity in velocity\n",
"delta_x=10^-8;   //length of box in m\n",
"h=6.626*10^-34;\n",
"m=9.1*10^-31;   //mass in kg\n",
"delta_v=h/(m*delta_x);    //uncertainity in m/sec\n",
"delta_vk=delta_v*10^-3;   //uncertainity in km/sec\n",
"printf('minimum uncertainity in velocity is %f m/sec',delta_v);\n",
"printf('minimum uncertainity in velocity is %f km/sec',delta_vk);"
   ]
   }
,
{
		   "cell_type": "markdown",
		   "metadata": {},
		   "source": [
			"## Example 1.25: To_calculate_the_de_broglie_wavelength_of_proton.sce"
		   ]
		  },
  {
"cell_type": "code",
	   "execution_count": null,
	   "metadata": {
	    "collapsed": true
	   },
	   "outputs": [],
"source": [
"clc();\n",
"clear;\n",
"// To calculate the de broglie wavelength of proton\n",
"mp=1.6*10^-27;   //mass of proton in kg\n",
"me=9.1*10^-31;    //mass of electron in kg\n",
"h=6.626*10^(-34);\n",
"c=3*10^10;    //velocity of light in m/sec\n",
"Ep=me*c^2;\n",
"lamda=h/sqrt(2*mp*Ep);   //wavelength in m\n",
"lamda_A=lamda*10^10;    //converting lamda from m to A\n",
"printf('The de broglie wavelength in Angstrom is');\n",
"disp(lamda_A);"
   ]
   }
,
{
		   "cell_type": "markdown",
		   "metadata": {},
		   "source": [
			"## Example 1.26: To_calculate_the_glancing_angle.sce"
		   ]
		  },
  {
"cell_type": "code",
	   "execution_count": null,
	   "metadata": {
	    "collapsed": true
	   },
	   "outputs": [],
"source": [
"clc();\n",
"clear;\n",
"// To calculate the glancing angle\n",
"m=1.675*10^(-27);    //mass of neutron in kg\n",
"h=6.626*10^(-34);\n",
"n=1;   //diffractive order\n",
"d=0.314;   //spacing in nm\n",
"d=d*10^-9;   //spacing in m\n",
"E=0.04;   //kinetic energy in eV\n",
"Ej=E*1.6*10^-19;   //kinetic energy in J\n",
"lamda=h/sqrt(2*m*Ej);   //de Broglie wavelength\n",
"lamdaA=lamda*10^9;   //converting wavelength from m to nm\n",
"theta=asind((n*lamda)/(2*d));\n",
"printf('The de Broglie wavelength in metres is');\n",
"disp(lamda);\n",
"printf('The de Broglie wavelength is %f nm',lamdaA);\n",
"printf('glancing angle is %f degrees',theta);\n",
"\n",
"//answer given in the book is wrong"
   ]
   }
,
{
		   "cell_type": "markdown",
		   "metadata": {},
		   "source": [
			"## Example 1.2: To_calculate_the_de_Broglie_wavelength_of_an_electron.sce"
		   ]
		  },
  {
"cell_type": "code",
	   "execution_count": null,
	   "metadata": {
	    "collapsed": true
	   },
	   "outputs": [],
"source": [
"clc();\n",
"clear;\n",
"// To calculate the de Broglie wavelength of an electron\n",
"V=400;   //potential in Volts\n",
"lamda=12.56/sqrt(V);    //de Broglie wavelength\n",
"printf('The de Broglie wavelength is %f Armstrong',lamda);\n",
"\n",
"//answer given in the book is wrong"
   ]
   }
,
{
		   "cell_type": "markdown",
		   "metadata": {},
		   "source": [
			"## Example 1.3: To_calculate_the_de_Broglie_wavelength_of_neutron.sce"
		   ]
		  },
  {
"cell_type": "code",
	   "execution_count": null,
	   "metadata": {
	    "collapsed": true
	   },
	   "outputs": [],
"source": [
"clc();\n",
"clear;\n",
"// To calculate the de Broglie wavelength of neutron\n",
"m=1.674*10^(-27);    //mass of neutron in kg\n",
"h=6.626*10^(-34);\n",
"E=0.025;   //kinetic energy in eV\n",
"Ej=E*1.6*10^-19;   //kinetic energy in J\n",
"lamda=h/sqrt(2*m*Ej);   //de Broglie wavelength\n",
"printf('The de Broglie wavelength in metres is');\n",
"disp(lamda);\n",
"lamdaA=lamda*10^10;   //converting wavelength from m to Armstrong\n",
"printf('The de Broglie wavelength is %f Armstrong',lamdaA);"
   ]
   }
,
{
		   "cell_type": "markdown",
		   "metadata": {},
		   "source": [
			"## Example 1.4: To_calculate_the_wavelength_of_an_electron.sce"
		   ]
		  },
  {
"cell_type": "code",
	   "execution_count": null,
	   "metadata": {
	    "collapsed": true
	   },
	   "outputs": [],
"source": [
"\n",
"clc();\n",
"clear;\n",
"// To calculate the wavelength of an electron\n",
"V=1600;   //potential in Volts\n",
"lamda=12.26/sqrt(V);    //de Broglie wavelength\n",
"printf('The de Broglie wavelength is %3.1f Angstrom',lamda);"
   ]
   }
,
{
		   "cell_type": "markdown",
		   "metadata": {},
		   "source": [
			"## Example 1.5: To_calculate_the_uncertainity_in_momentum.sce"
		   ]
		  },
  {
"cell_type": "code",
	   "execution_count": null,
	   "metadata": {
	    "collapsed": true
	   },
	   "outputs": [],
"source": [
"clc();\n",
"clear;\n",
"// To calculate the uncertainity in momentum\n",
"deltax=0.2;   //distance in armstrong\n",
"delta_xm=deltax*10^-10;    //distance in m\n",
"h=6.626*10^(-34);\n",
"delta_p=h/(2*%pi*delta_xm);\n",
"printf('The uncertainity in momentum of electron in kg m/sec is');\n",
"disp(delta_p);"
   ]
   }
,
{
		   "cell_type": "markdown",
		   "metadata": {},
		   "source": [
			"## Example 1.6: To_calculate_the_lowest_energy_of_electron.sce"
		   ]
		  },
  {
"cell_type": "code",
	   "execution_count": null,
	   "metadata": {
	    "collapsed": true
	   },
	   "outputs": [],
"source": [
"clc();\n",
"clear;\n",
"// To calculate the lowest energy of electron\n",
"n1=1;\n",
"n2=1;\n",
"n3=1;    //values in lowest energy\n",
"h=6.62*10^(-34);\n",
"M=9.1*10^-31;   //mass in kg\n",
"L=0.1;   //side in nm\n",
"L=L*10^-9;    //side in m\n",
"n=(n1^2)+(n2^2)+(n3^2);\n",
"E1=(n*h^2)/(8*M*L^2);    //energy in j\n",
"E1eV=E1/(1.6*10^-19);    //energy in eV\n",
"printf('lowest energy of electron in Joule is');\n",
"disp(E1);\n",
"printf('lowest energy of electron is %f eV',E1eV);\n",
"\n",
"//answer for lowest energy in eV given in the book is wrong"
   ]
   }
,
{
		   "cell_type": "markdown",
		   "metadata": {},
		   "source": [
			"## Example 1.7: To_calculate_the_wavelength_associated_with_electron.sce"
		   ]
		  },
  {
"cell_type": "code",
	   "execution_count": null,
	   "metadata": {
	    "collapsed": true
	   },
	   "outputs": [],
"source": [
"clc();\n",
"clear;\n",
"// To calculate the wavelength associated with electron\n",
"M=9.1*10^-31;    //mass of electron in kg\n",
"h=6.66*10^(-34);\n",
"E=2000;   //energy in eV\n",
"Ej=E*1.6*10^-19;   //energy in J\n",
"lamda=h/sqrt(2*M*Ej);   //wavelength in m\n",
"lamda_nm=lamda*10^9;    //converting lamda from m to nm\n",
"printf('The wavelength associated with electron is %f nm',lamda_nm);"
   ]
   }
,
{
		   "cell_type": "markdown",
		   "metadata": {},
		   "source": [
			"## Example 1.8: To_calculate_the_minimum_energy_of_electron.sce"
		   ]
		  },
  {
"cell_type": "code",
	   "execution_count": null,
	   "metadata": {
	    "collapsed": true
	   },
	   "outputs": [],
"source": [
"clc();\n",
"clear;\n",
"// To calculate the minimum energy of electron\n",
"n=1;    //for minimum energy\n",
"h=6.626*10^(-34);\n",
"m=9.1*10^-31;   //mass in kg\n",
"L=4*10^-10;   //size in m\n",
"E1=(n*h^2)/(8*m*L^2);    //energy in j\n",
"printf('lowest energy of electron in Joule is');\n",
"disp(E1);\n",
"\n",
"//answer given in the book is wrong"
   ]
   }
,
{
		   "cell_type": "markdown",
		   "metadata": {},
		   "source": [
			"## Example 1.9: To_calculate_the_velocity_and_kinetic_energy_of_electron.sce"
		   ]
		  },
  {
"cell_type": "code",
	   "execution_count": null,
	   "metadata": {
	    "collapsed": true
	   },
	   "outputs": [],
"source": [
"clc();\n",
"clear;\n",
"// To calculate the velocity and kinetic energy of electron\n",
"h=6.626*10^(-34);\n",
"m=9.1*10^-31;   //mass in kg\n",
"lamda=1.66*10^-10;   //wavelength in m\n",
"v=h/(m*lamda);    //velocity in m/sec\n",
"printf('velocity of electron in m/sec is');\n",
"disp(v);\n",
"v_km=v*10^-3;    //velocity in km/sec\n",
"printf('velocity of electron is %f km/sec',v_km);\n",
"E=(1/2)*m*v^2;    //kinetic energy in joule\n",
"EeV=E/(1.6*10^-19);    //energy in eV\n",
"printf('kinetic energy of electron in Joule is');\n",
"disp(E);\n",
"printf('kinetic energy of electron is %f eV',EeV);"
   ]
   }
],
"metadata": {
		  "kernelspec": {
		   "display_name": "Scilab",
		   "language": "scilab",
		   "name": "scilab"
		  },
		  "language_info": {
		   "file_extension": ".sce",
		   "help_links": [
			{
			 "text": "MetaKernel Magics",
			 "url": "https://github.com/calysto/metakernel/blob/master/metakernel/magics/README.md"
			}
		   ],
		   "mimetype": "text/x-octave",
		   "name": "scilab",
		   "version": "0.7.1"
		  }
		 },
		 "nbformat": 4,
		 "nbformat_minor": 0
}
