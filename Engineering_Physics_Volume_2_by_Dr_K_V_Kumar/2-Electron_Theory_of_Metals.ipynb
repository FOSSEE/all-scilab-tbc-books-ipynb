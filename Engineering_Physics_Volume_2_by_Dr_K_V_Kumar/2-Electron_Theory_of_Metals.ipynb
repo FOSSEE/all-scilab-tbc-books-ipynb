{
"cells": [
 {
		   "cell_type": "markdown",
	   "metadata": {},
	   "source": [
       "# Chapter 2: Electron Theory of Metals"
	   ]
	},
{
		   "cell_type": "markdown",
		   "metadata": {},
		   "source": [
			"## Example 2.10: To_calculate_the_number_of_states_per_unit_volume.sce"
		   ]
		  },
  {
"cell_type": "code",
	   "execution_count": null,
	   "metadata": {
	    "collapsed": true
	   },
	   "outputs": [],
"source": [
"clc();\n",
"clear;\n",
"// To calculate the number of states per unit volume\n",
"m=9.1*10^-31;   //mass in kg\n",
"h=6.626*10^-34;\n",
"A=(8*m)^(3/2);\n",
"B=%pi/(2*h^3);\n",
"EfeV=3.10;    //fermi energy in eV\n",
"Ef=EfeV*1.6*10^-19;    //fermi energy in J\n",
"EFeV=EfeV+0.02;    //energy after interval in eV\n",
"EF=EFeV*1.6*10^-19;    //energy after interval in J\n",
"function Q=f(E),Q=A*B*sqrt(E),endfunction\n",
"I=intg(Ef,EF,f)\n",
"printf('number of energy states per unit volume is');\n",
"disp(I);"
   ]
   }
,
{
		   "cell_type": "markdown",
		   "metadata": {},
		   "source": [
			"## Example 2.11: To_calculate_the_mean_free_path_of_electron.sce"
		   ]
		  },
  {
"cell_type": "code",
	   "execution_count": null,
	   "metadata": {
	    "collapsed": true
	   },
	   "outputs": [],
"source": [
"clc();\n",
"clear;\n",
"// To calculate the mean free path of electron\n",
"T=300;   //temperature in K\n",
"n=8.5*10^28;   //density per m^3\n",
"rho=1.69*10^-8;   //resistivity in ohm/m^3\n",
"me=9.11*10^-31;    //mass of electron in kg\n",
"e=1.6*10^-19;    //charge in coulomb\n",
"KB=1.38*10^-23;    //boltzmann constant in J/k\n",
"lamda=sqrt(3*KB*me*T)/(n*(e^2)*rho);\n",
"printf('mean free path of electron in m is');\n",
"disp(lamda);\n",
"\n",
"//answer given in the book is wrong"
   ]
   }
,
{
		   "cell_type": "markdown",
		   "metadata": {},
		   "source": [
			"## Example 2.12: To_calculate_the_relaxation_time_of_conduction_electrons.sce"
		   ]
		  },
  {
"cell_type": "code",
	   "execution_count": null,
	   "metadata": {
	    "collapsed": true
	   },
	   "outputs": [],
"source": [
"clc();\n",
"clear;\n",
"// To calculate the relaxation time of conduction electrons\n",
"rho=1.43*10^-8;    //resistivity in ohm-m\n",
"n=6.5*10^28;   //electron/m^3\n",
"m=9.11*10^-34;   //mass in kg\n",
"e=1.6*10^-19;   //charge in coulomb\n",
"tow=m/(n*(e^2)*rho);\n",
"printf('relaxation time of conduction electrons in sec is');\n",
"disp(tow);"
   ]
   }
,
{
		   "cell_type": "markdown",
		   "metadata": {},
		   "source": [
			"## Example 2.13: To_calculate_the_mobility_and_average_time_of_collision_of_electrons.sce"
		   ]
		  },
  {
"cell_type": "code",
	   "execution_count": null,
	   "metadata": {
	    "collapsed": true
	   },
	   "outputs": [],
"source": [
"clc();\n",
"clear;\n",
"// To calculate the mobility and average time of collision of electrons\n",
"d=8.92*10^3;   //density in kg/m^3\n",
"rho=1.73*10^-8;   //resistivity in ohm-m\n",
"m=9.1*10^-31;    //mass in kg\n",
"M=63.5;    //atomic weight\n",
"e=1.6*10^-19;    //charge in coulomb\n",
"A=6.02*10^26;    //avagadro number\n",
"n=(d*A)/M;\n",
"mew=1/(rho*n*e);\n",
"tow=m/(n*(e^2)*rho);\n",
"printf('mobility of electrons in Copper is %f m/Vs',mew);\n",
"printf('average time of collision of electrons in copper in sec is');\n",
"disp(tow);"
   ]
   }
,
{
		   "cell_type": "markdown",
		   "metadata": {},
		   "source": [
			"## Example 2.14: To_calculate_the_order_of_magnitude_of_velocity_of_molecules.sce"
		   ]
		  },
  {
"cell_type": "code",
	   "execution_count": null,
	   "metadata": {
	    "collapsed": true
	   },
	   "outputs": [],
"source": [
"clc();\n",
"clear;\n",
"// To calculate the order of magnitude of velocity of molecules\n",
"MH=1.008*2*1.67*10^-27;    //mass in kg\n",
"T=30;   //temperature in C\n",
"T=T+273;    //temperature in K\n",
"KB=1.38*10^-23;    //boltzmann constant in J/k\n",
"KE=(3/2)*KB*T;   //kinetic energy in J\n",
"KEeV=KE*6.24*10^18;   //kinetic energy in eV\n",
"cbar=sqrt((3*KB*T)/MH);\n",
"printf('average kinetic energy in J is');\n",
"disp(KE);\n",
"printf('average kinetic energy in eV is');\n",
"disp(KEeV);\n",
"printf('velocity of molecules is %f m/s',cbar);\n",
"\n",
"//answers for average kinetic energy in eV and velocity of electrons given in the book are wrong"
   ]
   }
,
{
		   "cell_type": "markdown",
		   "metadata": {},
		   "source": [
			"## Example 2.15: To_calculate_the_velocity_of_an_electron_and_proton.sce"
		   ]
		  },
  {
"cell_type": "code",
	   "execution_count": null,
	   "metadata": {
	    "collapsed": true
	   },
	   "outputs": [],
"source": [
"clc();\n",
"clear;\n",
"// To calculate the velocity of an electron and proton\n",
"Ee=10;   //electron kinetic energy in eV\n",
"EeeV=Ee*1.6*10^-19;   //electron kinetic energy in J\n",
"Ep=10;   //proton kinetic energy in eV\n",
"EpeV=Ep*1.6*10^-19;   //proton kinetic energy in J\n",
"me=9.1*10^-31;   //mass of electron in kg\n",
"mp=1.67*10^-27;   //mass of proton in kg\n",
"cebar=sqrt((2*EeeV)/me);\n",
"cpbar=sqrt((2*EpeV)/mp);\n",
"printf('velocity of electron in m/s is');\n",
"disp(cebar);\n",
"printf('velocity of proton in m/s is');\n",
"disp(cpbar);\n",
"\n",
"//answers given in the book are wrong"
   ]
   }
,
{
		   "cell_type": "markdown",
		   "metadata": {},
		   "source": [
			"## Example 2.16: To_calculate_the_drift_velocity_of_free_electrons.sce"
		   ]
		  },
  {
"cell_type": "code",
	   "execution_count": null,
	   "metadata": {
	    "collapsed": true
	   },
	   "outputs": [],
"source": [
"clc();\n",
"clear;\n",
"// To calculate the drift velocity of free electrons\n",
"A=10;   //area of cross section in mm^2\n",
"A=A*10^-6;   //area of cross section in m^2\n",
"i=100;   //current in amp\n",
"n=8.5*10^28;    //number of electrons per mm^3\n",
"e=1.6*10^-19;    //electron charge in coulumb\n",
"vd=1/(n*A*e);\n",
"printf('drift velocity is %f m/s',vd);\n",
"\n",
"//answer given in the book is wrong"
   ]
   }
,
{
		   "cell_type": "markdown",
		   "metadata": {},
		   "source": [
			"## Example 2.17: To_calculate_the_thermal_conductivity_of_copper.sce"
		   ]
		  },
  {
"cell_type": "code",
	   "execution_count": null,
	   "metadata": {
	    "collapsed": true
	   },
	   "outputs": [],
"source": [
"clc();\n",
"clear;\n",
"// To calculate the thermal conductivity of copper\n",
"tow=3*10^-14;    //relaxation time in sec\n",
"n=8*10^28;    //density of electrons per m^3\n",
"KB=1.38*10^-23;   //boltzmann constant in J/k\n",
"T=0;   //temperature in C\n",
"T=T+273;   //temperature in K\n",
"m=9.1*10^-31;   //mass of electron in kg\n",
"sigma_T=((3*n*tow*(KB^2)*T)/(2*m));\n",
"printf('thermal conductivity of copper is %f ohm-1',sigma_T);"
   ]
   }
,
{
		   "cell_type": "markdown",
		   "metadata": {},
		   "source": [
			"## Example 2.1: To_calculate_the_Fermi_function.sce"
		   ]
		  },
  {
"cell_type": "code",
	   "execution_count": null,
	   "metadata": {
	    "collapsed": true
	   },
	   "outputs": [],
"source": [
"clc();\n",
"clear;\n",
"// To calculate the Fermi function\n",
"// given that E-Ef = kT\n",
"// fermi function FE = 1/(1+exp((E-Ef)/kT)\n",
"// therefore FE = 1/(1+exp(kT/kT));\n",
"// FE = 1/(1+exp(1))\n",
"FE=1/(1+exp(1));\n",
"printf('fermi function is %f',FE);"
   ]
   }
,
{
		   "cell_type": "markdown",
		   "metadata": {},
		   "source": [
			"## Example 2.2: To_calculate_the_Fermi_function.sce"
		   ]
		  },
  {
"cell_type": "code",
	   "execution_count": null,
	   "metadata": {
	    "collapsed": true
	   },
	   "outputs": [],
"source": [
"clc();\n",
"clear;\n",
"// To calculate the Fermi function\n",
"// given that E-Ef = kT\n",
"// fermi function FE = 1/(1+exp((E-Ef)/kT)\n",
"// therefore FE = 1/(1+exp(kT/kT));\n",
"// FE = 1/(1+exp(1))\n",
"FE=1/(1+exp(1));\n",
"printf('fermi function is %f',FE);"
   ]
   }
,
{
		   "cell_type": "markdown",
		   "metadata": {},
		   "source": [
			"## Example 2.3: To_calculate_the_temperature.sce"
		   ]
		  },
  {
"cell_type": "code",
	   "execution_count": null,
	   "metadata": {
	    "collapsed": true
	   },
	   "outputs": [],
"source": [
"clc();\n",
"clear;\n",
"// To calculate the temperature\n",
"FE=10/100;    //fermi function is 10%\n",
"Ef=5.5;   //fermi energy of silver in eV\n",
"k=1.38*10^-23;\n",
"E=Ef+(Ef/100);\n",
"//FE=1/(1+exp((E-Ef)/(k*T)))\n",
"//therefore 1/FE = 1+exp((E-Ef)/(k*T))\n",
"//therefore (1/FE)-1 = exp((E-Ef)/(k*T))\n",
"//therefore log((1/FE)-1) = (E-Ef)/(k*T)\n",
"//therefore T = (E-Ef)/(k*log((1/FE)-1))\n",
"//let X=E-Ef;    \n",
"X=E-Ef;     //energy in eV\n",
"X=X*1.6*10^-19;    //energy in J\n",
"T = (X/(k*log((1/FE)-1)));\n",
"printf('temperature is %f K',T);"
   ]
   }
,
{
		   "cell_type": "markdown",
		   "metadata": {},
		   "source": [
			"## Example 2.4: To_calculate_the_temperature.sce"
		   ]
		  },
  {
"cell_type": "code",
	   "execution_count": null,
	   "metadata": {
	    "collapsed": true
	   },
	   "outputs": [],
"source": [
"clc();\n",
"clear;\n",
"// To calculate the temperature\n",
"//let X=E-Ef\n",
"X=0.5;   //E-Ef=0.5 in eV\n",
"X=X*1.6*10^-19;   //X in J\n",
"FE=1/100;    //fermi function is 1% \n",
"k=1.38*10^-23;\n",
"//FE=1/(1+exp(X/(k*T)))\n",
"//therefore 1/FE = 1+exp(X/(k*T))\n",
"//therefore (1/FE)-1 = exp(X/(k*T))\n",
"//therefore log((1/FE)-1) = X/(k*T)\n",
"//but log(x) = 2.303*log10(x)\n",
"//therefore T = X/(k*log((1/FE)-1))\n",
"//but log(x)=2.303*log10(x)\n",
"//therefore T = X/(k*2.303*log10((1/FE)-1))\n",
"T = X/(k*2.303*log10((1/FE)-1));\n",
"printf('temperature is %f K',T);"
   ]
   }
,
{
		   "cell_type": "markdown",
		   "metadata": {},
		   "source": [
			"## Example 2.5: To_calculate_the_density_and_mobility_of_electrons_in_silver.sce"
		   ]
		  },
  {
"cell_type": "code",
	   "execution_count": null,
	   "metadata": {
	    "collapsed": true
	   },
	   "outputs": [],
"source": [
"clc();\n",
"clear;\n",
"// To calculate the density and mobility of electrons in silver\n",
"rho_s=10.5*10^3;   //density in kg/m^3\n",
"NA=6.02*10^26;    //avagadro number per kmol\n",
"MA=107.9;    \n",
"n=(rho_s*NA)/MA;\n",
"sigma=6.8*10^7;\n",
"e=1.6*10^-19;   //charge in coulomb\n",
"mew=sigma/(n*e);\n",
"printf('density of electrons is');\n",
"disp(n);\n",
"printf('mobility of electrons in silver is %f m^2/Vs',mew);"
   ]
   }
,
{
		   "cell_type": "markdown",
		   "metadata": {},
		   "source": [
			"## Example 2.6: To_calculate_the_mobility_and_average_time_of_collision_of_electrons.sce"
		   ]
		  },
  {
"cell_type": "code",
	   "execution_count": null,
	   "metadata": {
	    "collapsed": true
	   },
	   "outputs": [],
"source": [
"clc();\n",
"clear;\n",
"// To calculate the mobility and average time of collision of electrons\n",
"d=8.92*10^3;   //density in kg/m^3\n",
"rho=1.73*10^-8;   //resistivity in ohm-m\n",
"m=9.1*10^-31;    //mass in kg\n",
"w=63.5;    //atomic weight\n",
"e=1.6*10^-19;    //charge in coulomb\n",
"A=6.02*10^26;    //avagadro number\n",
"n=(d*A)/w;\n",
"mew=1/(rho*n*e);\n",
"tow=m/(n*(e^2)*rho);\n",
"printf('mobility of electrons in Copper is %f m/Vs',mew);\n",
"printf('average time of collision of electrons in copper in sec is');\n",
"disp(tow);"
   ]
   }
,
{
		   "cell_type": "markdown",
		   "metadata": {},
		   "source": [
			"## Example 2.7: To_calculate_the_relaxation_time_of_conduction_electrons.sce"
		   ]
		  },
  {
"cell_type": "code",
	   "execution_count": null,
	   "metadata": {
	    "collapsed": true
	   },
	   "outputs": [],
"source": [
"clc();\n",
"clear;\n",
"// To calculate the relaxation time of conduction electrons\n",
"rho=1.54*10^-8;    //resistivity in ohm-m\n",
"n=5.8*10^28;   //electron/m^3\n",
"m=9.108*10^-31;   //mass in kg\n",
"e=1.602*10^-19;   //charge in coulomb\n",
"tow=m/(n*(e^2)*rho);\n",
"printf('relaxation time of conduction electrons in sec is');\n",
"disp(tow);"
   ]
   }
,
{
		   "cell_type": "markdown",
		   "metadata": {},
		   "source": [
			"## Example 2.8: To_calculate_the_temperature.sce"
		   ]
		  },
  {
"cell_type": "code",
	   "execution_count": null,
	   "metadata": {
	    "collapsed": true
	   },
	   "outputs": [],
"source": [
"clc();\n",
"clear;\n",
"// To calculate the temperature\n",
"FE=10/100;    //fermi function is 10%\n",
"Ef=5.5;   //fermi energy of silver in eV\n",
"k=1.38*10^-23;\n",
"E=Ef+(Ef/100);\n",
"//FE=1/(1+exp((E-Ef)/(k*T)))\n",
"//therefore 1/FE = 1+exp((E-Ef)/(k*T))\n",
"//therefore (1/FE)-1 = exp((E-Ef)/(k*T))\n",
"//therefore log((1/FE)-1) = (E-Ef)/(k*T)\n",
"//therefore T = (E-Ef)/(k*log((1/FE)-1))\n",
"//let X=E-Ef;    \n",
"X=E-Ef;     //energy in eV\n",
"X=X*1.6*10^-19;    //energy in J\n",
"T = (X/(k*log((1/FE)-1)));\n",
"printf('temperature is %f K',T);"
   ]
   }
,
{
		   "cell_type": "markdown",
		   "metadata": {},
		   "source": [
			"## Example 2.9: To_calculate_the_Fermi_distribution_function.sce"
		   ]
		  },
  {
"cell_type": "code",
	   "execution_count": null,
	   "metadata": {
	    "collapsed": true
	   },
	   "outputs": [],
"source": [
"clc();\n",
"clear;\n",
"// To calculate the Fermi distribution function\n",
"// given that E-Ef = kT\n",
"// fermi function FpE = 1/(1+exp((E-Ef)/kT)\n",
"// therefore FpE = 1/(1+exp(kT/kT));\n",
"// FpE = 1/(1+exp(1))\n",
"FpE=1/(1+exp(1));\n",
"printf('fermi function is %f',FpE);\n",
"//the presence of electron at that energy level is not certain"
   ]
   }
],
"metadata": {
		  "kernelspec": {
		   "display_name": "Scilab",
		   "language": "scilab",
		   "name": "scilab"
		  },
		  "language_info": {
		   "file_extension": ".sce",
		   "help_links": [
			{
			 "text": "MetaKernel Magics",
			 "url": "https://github.com/calysto/metakernel/blob/master/metakernel/magics/README.md"
			}
		   ],
		   "mimetype": "text/x-octave",
		   "name": "scilab",
		   "version": "0.7.1"
		  }
		 },
		 "nbformat": 4,
		 "nbformat_minor": 0
}
