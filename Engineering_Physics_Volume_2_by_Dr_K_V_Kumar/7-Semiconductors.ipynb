{
"cells": [
 {
		   "cell_type": "markdown",
	   "metadata": {},
	   "source": [
       "# Chapter 7: Semiconductors"
	   ]
	},
{
		   "cell_type": "markdown",
		   "metadata": {},
		   "source": [
			"## Example 7.10: To_calculate_the_resistance.sce"
		   ]
		  },
  {
"cell_type": "code",
	   "execution_count": null,
	   "metadata": {
	    "collapsed": true
	   },
	   "outputs": [],
"source": [
"clc();\n",
"clear;\n",
"// To calculate the resistance\n",
"l=1;    //length in cm\n",
"l=l*10^-2;    //length in m\n",
"e=1.6*10^-19;\n",
"w=1;    //width in mm\n",
"w=w*10^-3;    //width in m\n",
"t=1;     //thickness in mm\n",
"t=t*10^-3;      //thickness in m\n",
"A=w*t;\n",
"ni=2.5*10^19;\n",
"mew_e=0.39;\n",
"mew_p=0.19;\n",
"sigma=ni*e*(mew_p+mew_e);\n",
"R=l/(sigma*A);\n",
"printf('resistance of intrinsic Ge rod is %f ohm',R);"
   ]
   }
,
{
		   "cell_type": "markdown",
		   "metadata": {},
		   "source": [
			"## Example 7.11: To_calculate_the_conductivity.sce"
		   ]
		  },
  {
"cell_type": "code",
	   "execution_count": null,
	   "metadata": {
	    "collapsed": true
	   },
	   "outputs": [],
"source": [
"clc();\n",
"clear;\n",
"// To calculate the conductivity\n",
"Eg=1.1;   //energy gap in eV\n",
"m=9.109*10^-31;\n",
"k=1.38*10^-23;\n",
"T=300;\n",
"e=1.6*10^-19;\n",
"h=6.626*10^-34;\n",
"mew_e=0.48;     //electron mobility\n",
"mew_h=0.013;    //hole mobility\n",
"C=2*(2*%pi*m*k/(h^2))^(3/2);\n",
"X=2*k*T/e;\n",
"Y=-Eg/X;\n",
"A=exp(Y);\n",
"ni=C*(T^(3/2))*A;\n",
"sigma=ni*e*(mew_e+mew_h);\n",
"printf('conductivity in ohm-1 m-1 is');\n",
"disp(sigma);\n",
"\n",
"//answer given in the book is wrong"
   ]
   }
,
{
		   "cell_type": "markdown",
		   "metadata": {},
		   "source": [
			"## Example 7.12: To_calculate_the_intrinsic_carrier_density_and_conductivity.sce"
		   ]
		  },
  {
"cell_type": "code",
	   "execution_count": null,
	   "metadata": {
	    "collapsed": true
	   },
	   "outputs": [],
"source": [
"clc();\n",
"clear;\n",
"// To calculate the intrinsic carrier density and conductivity\n",
"m=9.109*10^-31;\n",
"k=1.38*10^-23;\n",
"T=300;\n",
"e=1.6*10^-19;\n",
"h=6.626*10^-34;\n",
"Eg=0.7;\n",
"mew_e=0.4;     //electron mobility\n",
"mew_h=0.2;    //hole mobility\n",
"C=2*(2*%pi*m*k/((h^2)))^(3/2);\n",
"X=2*k*T/e;\n",
"ni=C*(T^(3/2))*exp(-Eg/X);\n",
"sigma=ni*e*(mew_e+mew_h);\n",
"printf('conductivity is %f ohm-1 m-1',sigma);\n",
"\n",
"//answer given in the book is wrong"
   ]
   }
,
{
		   "cell_type": "markdown",
		   "metadata": {},
		   "source": [
			"## Example 7.13: To_calculate_the_energy_band_gap.sce"
		   ]
		  },
  {
"cell_type": "code",
	   "execution_count": null,
	   "metadata": {
	    "collapsed": true
	   },
	   "outputs": [],
"source": [
"clc();\n",
"clear;\n",
"// To calculate the energy band gap\n",
"k=8.616*10^-5;\n",
"T1=20;    //temp in C\n",
"T1=T1+273;    //temp in K\n",
"T2=32;     //temp in C\n",
"T2=T2+273;    //temp in K\n",
"rho2=4.5;    //resistivity in ohm m\n",
"rho1=2;    //resistivity in ohm m\n",
"dy=log10(rho2)-log10(rho1);\n",
"dx=(1/T1)-(1/T2);\n",
"Eg=2*k*dy/dx;\n",
"printf('energy band gap is %f eV',Eg);"
   ]
   }
,
{
		   "cell_type": "markdown",
		   "metadata": {},
		   "source": [
			"## Example 7.14: To_calculate_the_temperature.sce"
		   ]
		  },
  {
"cell_type": "code",
	   "execution_count": null,
	   "metadata": {
	    "collapsed": true
	   },
	   "outputs": [],
"source": [
"clc();\n",
"clear;\n",
"// To calculate the temperature\n",
"EgeV=1;   //energy in eV\n",
"k=1.38*10^-23;\n",
"Eg=EgeV*1.602*10^-19;    //in J\n",
"//EF can be taken as (Ev+0.5)eV\n",
"//therefore (Ev+0.5)eV = (Ec+Ev)/2--------(1)\n",
"//let fermi level shift by 10% then (Ev+0.6)eV = ((Ec+Ev)/2)+((3*k*T/4)*log(4))-----(2)\n",
"//subtracting (1) from (2)\n",
"//0.1 eV = (3*k*T/4)*log(4)\n",
"E=0.1;    //energy in eV\n",
"E=E*1.602*10^-19;    //energy in J\n",
"T=(4*E)/(3*k*log(4));\n",
"printf('temperature is %f K',T);"
   ]
   }
,
{
		   "cell_type": "markdown",
		   "metadata": {},
		   "source": [
			"## Example 7.15: To_calculate_the_conductivity_of_intrinsic_silicon.sce"
		   ]
		  },
  {
"cell_type": "code",
	   "execution_count": null,
	   "metadata": {
	    "collapsed": true
	   },
	   "outputs": [],
"source": [
"clc();\n",
"clear;\n",
"// To calculate the conductivity of intrinsic silicon\n",
"ni=1.5*10^16;\n",
"e=1.6*10^-19;\n",
"mew_e=0.13;\n",
"mew_h=0.05;\n",
"sigma=ni*e*(mew_e+mew_h);\n",
"printf('conductivity is %f ohm-1 m-1',sigma);\n",
"M=28.1;    //atomic weight of Si\n",
"d=2.33*10^3;   //density in kg/m^3\n",
"v=M/d;\n",
"N=6.02*10^26;\n",
"N1=N/v;\n",
"printf('number of Si atoms per m^3 is');\n",
"disp(N1);\n",
"//1 donor type impurity is added to 1 impurity atom\n",
"ND=N1/(10^8);\n",
"p=(ni^2)/ND;\n",
"sigma_exd=ND*e*mew_e;\n",
"printf('conductivity for donor type impurity is %f ohm-1 m-1',sigma_exd);\n",
"//1 acceptor type impurity is added to 1 impurity atom\n",
"Na=N1/(10^8);\n",
"n=(ni^2)/Na;\n",
"sigma_exa=Na*e*mew_h;\n",
"printf('conductivity for acceptor type impurity is %f ohm-1 m-1',sigma_exa);"
   ]
   }
,
{
		   "cell_type": "markdown",
		   "metadata": {},
		   "source": [
			"## Example 7.16: To_calculate_the_diffusion_coefficient_of_electrons.sce"
		   ]
		  },
  {
"cell_type": "code",
	   "execution_count": null,
	   "metadata": {
	    "collapsed": true
	   },
	   "outputs": [],
"source": [
"clc();\n",
"clear;\n",
"// To calculate the diffusion coefficient of electrons\n",
"T=300;   //temperature in K\n",
"KB=1.38*10^-23;\n",
"e=1.6*10^-19;\n",
"mew_e=0.19;    //mobility of electrons in m^2/Vs\n",
"Dn=mew_e*KB*T/e;\n",
"printf('diffusion coefficient of electrons is %f m^2/s',Dn);"
   ]
   }
,
{
		   "cell_type": "markdown",
		   "metadata": {},
		   "source": [
			"## Example 7.17: To_calculate_the_Hall_voltage.sce"
		   ]
		  },
  {
"cell_type": "code",
	   "execution_count": null,
	   "metadata": {
	    "collapsed": true
	   },
	   "outputs": [],
"source": [
"clc();\n",
"clear;\n",
"// To calculate the Hall voltage\n",
"RH=3.66*10^-4;     //hall coefficient in m^3/coulomb\n",
"I=10^-2;    //current in amp\n",
"B=0.5;    //magnetic field in wb/m^2\n",
"t=1;    //thickness in mm\n",
"t=t*10^-3;    //thickness in m\n",
"VH=(RH*I*B)/t;\n",
"VH=VH*10^3;    //converting from Volts to mV\n",
"printf('Hall voltage is %f mV',VH);"
   ]
   }
,
{
		   "cell_type": "markdown",
		   "metadata": {},
		   "source": [
			"## Example 7.18: To_calculate_the_density_and_mobility_of_charge_carrier.sce"
		   ]
		  },
  {
"cell_type": "code",
	   "execution_count": null,
	   "metadata": {
	    "collapsed": true
	   },
	   "outputs": [],
"source": [
"clc();\n",
"clear;\n",
"// To calculate the density and mobility of charge carrier\n",
"RH=-7.35*10^-5;    //hall coefficient\n",
"e=1.6*10^-19;\n",
"n=(-1/(RH*e));\n",
"sigma=200;\n",
"mew=sigma/(n*e);\n",
"printf('density of charge carriers in m^3 is');\n",
"disp(n);\n",
"printf('mobility of charge carriers is %f m^2/Vs',mew);"
   ]
   }
,
{
		   "cell_type": "markdown",
		   "metadata": {},
		   "source": [
			"## Example 7.19: To_calculate_the_magnitude_of_Hall_voltage.sce"
		   ]
		  },
  {
"cell_type": "code",
	   "execution_count": null,
	   "metadata": {
	    "collapsed": true
	   },
	   "outputs": [],
"source": [
"clc();\n",
"clear;\n",
"// To calculate the magnitude of Hall voltage\n",
"I=50;    //current in amp\n",
"B=1.5;   //magnetic field in T\n",
"n=8.4*10^28;     //free electron concentration in electron/m^3\n",
"t=0.5;    //thickness in cm\n",
"e=1.6*10^-19;\n",
"t=t*10^-2;    //thickness in m\n",
"VH=(I*B)/(n*e*t);\n",
"VH=VH*10^6;   //converting VH from V to micro V\n",
"printf('magnitude of Hall voltage is %f microVolt',VH);"
   ]
   }
,
{
		   "cell_type": "markdown",
		   "metadata": {},
		   "source": [
			"## Example 7.1: To_calculate_the_number_of_electron_hole_pairs.sce"
		   ]
		  },
  {
"cell_type": "code",
	   "execution_count": null,
	   "metadata": {
	    "collapsed": true
	   },
	   "outputs": [],
"source": [
"clc();\n",
"clear;\n",
"// To calculate the number of electron hole pairs\n",
"T1=300;    //temp in K\n",
"T2=310;    //temp in K\n",
"ni1=2.5*10^19;   //per cubic metre\n",
"EgeV1=0.72;    //value of Eg in eV\n",
"EgeV2=1.12;    //value of Eg in eV\n",
"Eg1=EgeV1*1.6*10^-19;    //Eg in J\n",
"Eg2=EgeV2*1.6*10^-19;    //Eg in J\n",
"KB=1.38*10^-23;     //boltzmann constant in J/k\n",
"//density of electron hole pair is ni = A*(T^(3/2))*exp(-Eg/(2*KB*T))\n",
"// let (T^(3/2))*exp(-Eg/(2*KB*T)) be X\n",
"X1=(T1^(3/2))*exp(-Eg1/(2*KB*T1));\n",
"X2=(T2^(3/2))*exp(-Eg2/(2*KB*T2));\n",
"//therefore ni1=A*X1 and ni2=A*X2. dividing ni2/ni1 we get X2/X1\n",
"ni2=ni1*(X2/X1);\n",
"printf('the number of electron hole pairs per cubic metre is');\n",
"disp(ni2);\n",
"\n",
"//answer given in the book is wrong"
   ]
   }
,
{
		   "cell_type": "markdown",
		   "metadata": {},
		   "source": [
			"## Example 7.20: To_calculate_mew_and_n.sce"
		   ]
		  },
  {
"cell_type": "code",
	   "execution_count": null,
	   "metadata": {
	    "collapsed": true
	   },
	   "outputs": [],
"source": [
"clc();\n",
"clear;\n",
"// To calculate mew and n\n",
"RH=3.66*10^-4;\n",
"e=1.6*10^-19;\n",
"rho_n=8.93*10^-3;\n",
"n=1/(RH*e);\n",
"mew_e=RH/rho_n;\n",
"printf('n per m^3 is');\n",
"disp(n);\n",
"printf('mew_e is %f m^2/V',mew_e);"
   ]
   }
,
{
		   "cell_type": "markdown",
		   "metadata": {},
		   "source": [
			"## Example 7.21: To_calculate_the_conductivity_and_equilibrium_hole_concentration.sce"
		   ]
		  },
  {
"cell_type": "code",
	   "execution_count": null,
	   "metadata": {
	    "collapsed": true
	   },
	   "outputs": [],
"source": [
"clc();\n",
"clear;\n",
"// To calculate the conductivity and equilibrium hole concentration\n",
"mew_e=0.13;    //electron mobility in m^2/Vs\n",
"mew_h=0.048;   //hole mobility in m^2/Vs\n",
"ni=1.5*10^16;\n",
"e=1.6*10^-19;\n",
"T=300;   //temp in K\n",
"ND=10^23;    //density per m^3\n",
"sigmai=ni*e*(mew_e+mew_h);\n",
"sigma=ND*mew_e*e;\n",
"p=(ni^2)/ND;\n",
"printf('conductivity of intrinsic Si is %f s',sigmai);\n",
"printf('conductivity is %f s',sigma);\n",
"printf('equilibrium hole concentration per m^3 is');\n",
"disp(p);\n",
"\n",
"//answers for sigmai and sigma given in the book are wrong"
   ]
   }
,
{
		   "cell_type": "markdown",
		   "metadata": {},
		   "source": [
			"## Example 7.22: To_calculate_the_forbidden_energy_gap.sce"
		   ]
		  },
  {
"cell_type": "code",
	   "execution_count": null,
	   "metadata": {
	    "collapsed": true
	   },
	   "outputs": [],
"source": [
"clc();\n",
"clear;\n",
"// To calculate the forbidden energy gap\n",
"T=300;   //temp in K\n",
"kB=1.38*10^-23;\n",
"mew_e=0.36;    //mobility of electrons in m^2/Vs\n",
"e=1.6*10^-19;\n",
"mew_h=0.7;    //mobility of electrons in m^2/Vs\n",
"sigma=2.12;    //conductivity in ohm-1 m-1\n",
"C=4.83*10^21;    //proportional constant\n",
"ni=sigma/(e*(mew_e+mew_h));\n",
"//exp(-Eg/(2*kB*T)) = (C*(T^(3/2)))/ni\n",
"//let X be (C*(T^(3/2)))/ni\n",
"X=(C*(T^(3/2)))/ni;\n",
"//exp(-Eg/(2*kB*T)) = X \n",
"//applyinf log on both sides\n",
"//Eg/(2*kB*T) = log(X)\n",
"Eg=2*kB*T*log(X);\n",
"printf('forbidden energy gap in eV is');\n",
"disp(Eg);\n",
"\n",
"//answer given in the book is wrong"
   ]
   }
,
{
		   "cell_type": "markdown",
		   "metadata": {},
		   "source": [
			"## Example 7.23: To_calculate_the_probability_of_occupatio.sce"
		   ]
		  },
  {
"cell_type": "code",
	   "execution_count": null,
	   "metadata": {
	    "collapsed": true
	   },
	   "outputs": [],
"source": [
"clc();\n",
"clear;\n",
"// To calculate the probability of occupation\n",
"Eg=0.4;    //energy gap in eV\n",
"Eg=Eg*1.6*10^-19;    //Eg in J\n",
"KB=1.38*10^-23;\n",
"T1=0;   //temp 1 in C\n",
"T1k=T1+273;    //temp 1 in K\n",
"T2=50;   //temp 2 in C\n",
"T2k=T2+273;    //temp 2 in K\n",
"T3=100;   //temp 3 in C\n",
"T3k=T3+273;    //temp 3 in K\n",
"//F(E) = 1/(1+(exp((E-Ep)/(KB*T))))\n",
"//but E-Ep = (1/2)*Eg\n",
"//therefore F(E) = 1/(1+(exp(Eg/(2*KB*T))))\n",
"FE1=1/(1+(exp(Eg/(2*KB*T1k))));\n",
"FE2=1/(1+(exp(Eg/(2*KB*T2k))));\n",
"FE3=1/(1+(exp(Eg/(2*KB*T3k))));\n",
"printf('probability of occupation at 0 C is %f eV',FE1);\n",
"printf('probability of occupation at 50 C is %f eV',FE2);\n",
"printf('probability of occupation at 100 C is %f eV',FE3);\n",
"\n",
"//answers given in the book are wrong"
   ]
   }
,
{
		   "cell_type": "markdown",
		   "metadata": {},
		   "source": [
			"## Example 7.24: To_calculate_the_ratio_between_conductivity.sce"
		   ]
		  },
  {
"cell_type": "code",
	   "execution_count": null,
	   "metadata": {
	    "collapsed": true
	   },
	   "outputs": [],
"source": [
"clc();\n",
"clear;\n",
"// To calculate the ratio between conductivity\n",
"Eg=1.2;   //energy in eV\n",
"Eg=Eg*1.6*10^-19;    //in J\n",
"KB=1.38*10^-23;\n",
"T1=600;   //temp in K\n",
"T2=300;   //temp in K\n",
"//sigma is proportional to exp(-Eg/(2*KB*T))\n",
"//let sigma1/sigma2 be R\n",
"R=exp((Eg/(2*KB))*((1/T2)-(1/T1)));\n",
"disp(R);\n",
"\n",
"//answer given in the book is wrong"
   ]
   }
,
{
		   "cell_type": "markdown",
		   "metadata": {},
		   "source": [
			"## Example 7.25: To_calculate_the_resistivity_of_doped_Ge.sce"
		   ]
		  },
  {
"cell_type": "code",
	   "execution_count": null,
	   "metadata": {
	    "collapsed": true
	   },
	   "outputs": [],
"source": [
"clc();\n",
"clear;\n",
"// To calculate the resistivity of doped Ge\n",
"ni=2.5*10^19;   //density of charge carriers in m^3\n",
"r=1/(10^6);    //ratio\n",
"e=1.6*10^-19;\n",
"mew_e=0.36;   //mobility of electrons in m^2/Vs\n",
"mew_h=0.18;   //mobility of holes in m^2/Vs\n",
"N=4.2*10^28;    //number of Si atoms per m^3\n",
"Ne=r*N;\n",
"printf('number of impurity atoms per m^3 is');\n",
"disp(Ne);\n",
"Nh=(ni^2)/Ne;\n",
"sigma=(Ne*e*mew_e)+(Nh*e*mew_h);\n",
"rho=1/sigma;\n",
"printf('the resistivity of doped Ge is %f ohm m',rho);"
   ]
   }
,
{
		   "cell_type": "markdown",
		   "metadata": {},
		   "source": [
			"## Example 7.26: To_calculate_the_conductivity_of_material.sce"
		   ]
		  },
  {
"cell_type": "code",
	   "execution_count": null,
	   "metadata": {
	    "collapsed": true
	   },
	   "outputs": [],
"source": [
"clc();\n",
"clear;\n",
"// To calculate the conductivity of material\n",
"n=5*10^17;   //concentration in m^3\n",
"vd=350;   //drift velocity in m/s\n",
"E=1000;   //electric field in V/m\n",
"e=1.6*10^-19;\n",
"mew=vd/E;\n",
"sigma=n*e*mew;\n",
"printf('the conductivity of material is %f ohm m',sigma);"
   ]
   }
,
{
		   "cell_type": "markdown",
		   "metadata": {},
		   "source": [
			"## Example 7.27: To_calculate_the_concentration.sce"
		   ]
		  },
  {
"cell_type": "code",
	   "execution_count": null,
	   "metadata": {
	    "collapsed": true
	   },
	   "outputs": [],
"source": [
"clc();\n",
"clear;\n",
"// To calculate the concentration\n",
"sigma_e=2.2*10^-4;   //conductivity\n",
"mew_e=125*10^-3;    //mobility of electrons in m^2/Vs\n",
"e=1.602*10^-19;\n",
"ne=sigma_e/(e*mew_e);\n",
"printf('concentration in m^3 is');\n",
"disp(ne);"
   ]
   }
,
{
		   "cell_type": "markdown",
		   "metadata": {},
		   "source": [
			"## Example 7.28: To_calculate_the_mobility_and_density_of_charge_carrier.sce"
		   ]
		  },
  {
"cell_type": "code",
	   "execution_count": null,
	   "metadata": {
	    "collapsed": true
	   },
	   "outputs": [],
"source": [
"clc();\n",
"clear;\n",
"// To calculate the mobility and density of charge carrier\n",
"RH=3.66*10^-4;    //hall coefficient in m^3/c\n",
"rho_i=8.93*10^-3;    //resistivity in ohm m\n",
"e=1.6*10^-19;\n",
"nh=1/(RH*e);\n",
"mew_h=1/(rho_i*nh*e);\n",
"printf('density of charge carriers in m^3 is');\n",
"disp(nh);\n",
"printf('mobility of charge carriers is %f m^2/Vs',mew_h);"
   ]
   }
,
{
		   "cell_type": "markdown",
		   "metadata": {},
		   "source": [
			"## Example 7.29: To_calculate_the_Hall_voltage_and_charge_carrier_concentration.sce"
		   ]
		  },
  {
"cell_type": "code",
	   "execution_count": null,
	   "metadata": {
	    "collapsed": true
	   },
	   "outputs": [],
"source": [
"clc();\n",
"clear;\n",
"// To calculate the Hall voltage and charge carrier concentration\n",
"I=3;    //current in mA\n",
"I=I*10^-3;    //current in amp\n",
"e=1.6*10^-19;\n",
"RH=3.66*10^-4;    //hall coefficient in m^3/C\n",
"B=1;    //flux density in w/m^2\n",
"d=2;   //dimension along Y in cm\n",
"d=d*10^-2;   //dimension along Y in m\n",
"z=1;   //dimension along z in mm\n",
"z=z*10^-3;    //dimension along z in m\n",
"A=d*z;   //area in m^2\n",
"EH=RH*I*B/A;\n",
"VH=EH*d;\n",
"VH=VH*10^3;    //converting from V to mV\n",
"n=1/(RH*e);\n",
"printf('Hall voltage is %f mV',VH);\n",
"printf('charge carrier concentration in m^3 is');\n",
"disp(n);"
   ]
   }
,
{
		   "cell_type": "markdown",
		   "metadata": {},
		   "source": [
			"## Example 7.2: To_calculate_the_charge_carrier_density_and_electron_mobility.sce"
		   ]
		  },
  {
"cell_type": "code",
	   "execution_count": null,
	   "metadata": {
	    "collapsed": true
	   },
	   "outputs": [],
"source": [
"clc();\n",
"clear;\n",
"// To calculate the charge carrier density and electron mobility\n",
"RH=3.66*10^-4;   //hall coefficient in m^3/coulomb\n",
"sigma=112;    //conductivity in ohm-1 m-1\n",
"e=1.6*10^-19;\n",
"ne=1/(RH*e);\n",
"//sigma = e*ne*(mew_e+mew_h)\n",
"//assuming mew_h = 0\n",
"mew_e=sigma/(e*ne);\n",
"printf('the charge carrier density per m^3 is');\n",
"disp(ne);\n",
"printf('electron mobility is %f m^2/Vs',mew_e);\n",
"\n",
"//answer given in the book is wrong"
   ]
   }
,
{
		   "cell_type": "markdown",
		   "metadata": {},
		   "source": [
			"## Example 7.3: To_calculate_the_conductivity_of_intrinsic_silicon_and_resultant_conductivity.sce"
		   ]
		  },
  {
"cell_type": "code",
	   "execution_count": null,
	   "metadata": {
	    "collapsed": true
	   },
	   "outputs": [],
"source": [
"clc();\n",
"clear;\n",
"// To calculate the conductivity of intrinsic silicon and resultant conductivity\n",
"ni=1.5*10^16;   //intrinsic concentration per m^3\n",
"e=1.6*10^-19;\n",
"mew_e=0.13;    //mobility of electrons in m^2/Vs\n",
"mew_h=0.05;    //mobility of holes in m^2/Vs\n",
"ND=5*10^20;    //conductivity in atoms/m^3\n",
"sigma1=ni*e*(mew_e+mew_h);\n",
"nd=(ni^2)/ND;\n",
"sigma2=ND*e*mew_e;\n",
"NA=5*10^20;\n",
"na=(ni^2)/NA;\n",
"sigma3=NA*e*mew_h;\n",
"printf('intrinsic conductivity of Si is %f ohm-1 m-1',sigma1);\n",
"printf('conductivity of Si during donor impurity is %f ohm-1 m-1',sigma2);\n",
"printf('conductivity of Si during acceptor impurity is %f ohm-1 m-1',sigma3);"
   ]
   }
,
{
		   "cell_type": "markdown",
		   "metadata": {},
		   "source": [
			"## Example 7.4: To_calculate_the_conductivity.sce"
		   ]
		  },
  {
"cell_type": "code",
	   "execution_count": null,
	   "metadata": {
	    "collapsed": true
	   },
	   "outputs": [],
"source": [
"clc();\n",
"clear;\n",
"// To calculate the conductivity\n",
"sigma1=2;    //conductivity in ohm-1 m-1\n",
"EgeV=0.72;    //band gap in eV\n",
"Eg=EgeV*1.6*10^-19;    //in J\n",
"KB=1.38*10^-23;    //boltzmann constant\n",
"T1=20;    //temp in C\n",
"T1=T1+273;   //temp in K\n",
"T2=40;    //temp in C\n",
"T2=T2+273;   //temp in K\n",
"//sigma2/sigma1 = exp((-Eg/(2*KB))*((1/T2)-(1/T1)))\n",
"//by taking log on both sides we get 2.303*log10(sigma2/sigma1) = (Eg/(2*KB))*((1/T1)-(1/T2))\n",
"//let (Eg/(2*KB))*((1/T1)-(1/T2)) be X\n",
"X=(Eg/(2*KB))*((1/T1)-(1/T2));\n",
"//let log10(sigma2/sigma1) be Y\n",
"Y=X/2.303;\n",
"//log10(sigma2/sigma1) = log10(sigma2)-log10(sigma1)\n",
"//let log10(sigma2) be A\n",
"A=Y+log10(sigma1);\n",
"sigma2=10^A;\n",
"printf('the conductivity is %f ohm-1 m-1',sigma2);"
   ]
   }
,
{
		   "cell_type": "markdown",
		   "metadata": {},
		   "source": [
			"## Example 7.5: To_calculate_the_concentration_of_holes_and_electrons.sce"
		   ]
		  },
  {
"cell_type": "code",
	   "execution_count": null,
	   "metadata": {
	    "collapsed": true
	   },
	   "outputs": [],
"source": [
"clc();\n",
"clear;\n",
"// To calculate the concentration of holes and electrons \n",
"mew_n=1300*10^-4;   //in m^2/Vs\n",
"mew_p=500*10^-4;   //in m^2/Vs\n",
"sigma=3*10^4;   //conductivity in ohm-1 m-1\n",
"e=1.6*10^-19;\n",
"N=sigma/(e*mew_n);\n",
"ni=1.5*10^16;    //per m^3\n",
"p=(ni^2)/N;\n",
"P=sigma/(e*mew_p);\n",
"n=(ni^2)/P;\n",
"printf('concentration of electrons in n-type per cubic metre are');\n",
"disp(N);\n",
"printf('concentration of holes in n-type per cubic metre are');\n",
"disp(p);\n",
"printf('concentration of electrons in p-type per cubic metre are');\n",
"disp(n);\n",
"printf('concentration of holes in p-type per cubic metre are');\n",
"disp(P);"
   ]
   }
,
{
		   "cell_type": "markdown",
		   "metadata": {},
		   "source": [
			"## Example 7.6: To_calculate_the_resistivity.sce"
		   ]
		  },
  {
"cell_type": "code",
	   "execution_count": null,
	   "metadata": {
	    "collapsed": true
	   },
	   "outputs": [],
"source": [
"clc();\n",
"clear;\n",
"// To calculate the resistivity\n",
"ni=2.37*10^19;   //intrinsic carrier density per m^3\n",
"mew_e=0.38;    //in m^2/Vs\n",
"mew_n=0.18;    //in m^2/Vs\n",
"e=1.6*10^-19;\n",
"sigmai=ni*e*(mew_e+mew_n);\n",
"rho=1/sigmai;\n",
"printf('resistivity is %f ohm m',rho);"
   ]
   }
,
{
		   "cell_type": "markdown",
		   "metadata": {},
		   "source": [
			"## Example 7.7: To_calculate_the_position_of_fermi_level.sce"
		   ]
		  },
  {
"cell_type": "code",
	   "execution_count": null,
	   "metadata": {
	    "collapsed": true
	   },
	   "outputs": [],
"source": [
"clc();\n",
"clear;\n",
"// To calculate the position of fermi level\n",
"Eg=1.12;   //band gap in eV\n",
"K=1.38*10^-23;\n",
"T=300;   //temp in K\n",
"//EF = (Eg/2)+(3*K*T/4)*log(mh/me)\n",
"//given me=0.12m0 and mh=0.28m0. therefore mh/me = 0.28/0.12 \n",
"//let mh/me be X. therefore X=0.28/0.12 \n",
"X=0.28/0.12;\n",
"EF=(Eg/2)+((3*K*T/4)*log(X));\n",
"printf('the position of fermi level is %f eV',EF);\n",
"\n",
"//answer given in the book is wrong"
   ]
   }
,
{
		   "cell_type": "markdown",
		   "metadata": {},
		   "source": [
			"## Example 7.8: To_calculate_the_concentration_of_intrinsic_charge_carriers.sce"
		   ]
		  },
  {
"cell_type": "code",
	   "execution_count": null,
	   "metadata": {
	    "collapsed": true
	   },
	   "outputs": [],
"source": [
"clc();\n",
"clear;\n",
"// To calculate the concentration of intrinsic charge carriers\n",
"KB=1.38*10^-23;\n",
"T=300;   //temp in K\n",
"h=6.626*10^-34;\n",
"m0=9.11*10^-31;\n",
"mh=m0;\n",
"me=m0;\n",
"EgeV=0.7;    //energy gap in eV\n",
"Eg=EgeV*1.6*10^-19;    //in J\n",
"A=((2*%pi*KB/(h^2))^(3/2))*(me*mh)^(3/4);\n",
"B=T^(3/2);\n",
"C=exp(-Eg/(2*KB*T));\n",
"ni=2*A*B*C;\n",
"printf('concentration of intrinsic charge carriers per cubic metre is');\n",
"disp(ni);"
   ]
   }
,
{
		   "cell_type": "markdown",
		   "metadata": {},
		   "source": [
			"## Example 7.9: To_calculate_the_resistivity.sce"
		   ]
		  },
  {
"cell_type": "code",
	   "execution_count": null,
	   "metadata": {
	    "collapsed": true
	   },
	   "outputs": [],
"source": [
"clc();\n",
"clear;\n",
"// To calculate the resistivity\n",
"ni=2.4*10^19;\n",
"mew_e=0.39;\n",
"mew_h=0.19;\n",
"e=1.6*10^-19;\n",
"sigmai=ni*e*(mew_e+mew_h);\n",
"rhoi=1/sigmai;\n",
"printf('resistivity is %f ohm m',rhoi);"
   ]
   }
],
"metadata": {
		  "kernelspec": {
		   "display_name": "Scilab",
		   "language": "scilab",
		   "name": "scilab"
		  },
		  "language_info": {
		   "file_extension": ".sce",
		   "help_links": [
			{
			 "text": "MetaKernel Magics",
			 "url": "https://github.com/calysto/metakernel/blob/master/metakernel/magics/README.md"
			}
		   ],
		   "mimetype": "text/x-octave",
		   "name": "scilab",
		   "version": "0.7.1"
		  }
		 },
		 "nbformat": 4,
		 "nbformat_minor": 0
}
