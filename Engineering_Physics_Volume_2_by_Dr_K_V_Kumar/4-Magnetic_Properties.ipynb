{
"cells": [
 {
		   "cell_type": "markdown",
	   "metadata": {},
	   "source": [
       "# Chapter 4: Magnetic Properties"
	   ]
	},
{
		   "cell_type": "markdown",
		   "metadata": {},
		   "source": [
			"## Example 4.10: To_calculate_the_flux_density_at_centre_and_dipole_moment.sce"
		   ]
		  },
  {
"cell_type": "code",
	   "execution_count": null,
	   "metadata": {
	    "collapsed": true
	   },
	   "outputs": [],
"source": [
"clc();\n",
"clear;\n",
"// To calculate the flux density at centre and dipole moment\n",
"r=6.1*10^-11;     //radius of H atom in m\n",
"new=8.8*10^15;    //frequency in rev/sec\n",
"e=1.6*10^-19;\n",
"mew0=4*%pi*10^-7;\n",
"i=e*new;\n",
"B=(mew0*i)/(2*r);\n",
"mew=i*%pi*(r^2);\n",
"printf('current is %f amp',i);\n",
"printf('magnetic induction is %f weber/m^2',B);\n",
"printf('dipole moment in amp m^2 is');\n",
"disp(mew);"
   ]
   }
,
{
		   "cell_type": "markdown",
		   "metadata": {},
		   "source": [
			"## Example 4.11: To_calculate_the_average_number_of_Bohr_magnetons.sce"
		   ]
		  },
  {
"cell_type": "code",
	   "execution_count": null,
	   "metadata": {
	    "collapsed": true
	   },
	   "outputs": [],
"source": [
"clc();\n",
"clear;\n",
"// To calculate the average number of Bohr magnetons\n",
"Is=1.96*10^6;     //saturation magnetisation in amp/m\n",
"a=3;     //cube edge of iron in armstrong\n",
"a=a*10^-10;    //cube edge of iron in m\n",
"mew_b=9.27*10^-24;     //bohr magneton in amp/m^2\n",
"n=2;    //number of atoms per unit cell\n",
"N=n/(a^3);\n",
"mewbar=Is/N;\n",
"mew_ab=mewbar/mew_b;\n",
"printf('average number of Bohr magnetons is %f bohr magneton per atom',mew_ab);"
   ]
   }
,
{
		   "cell_type": "markdown",
		   "metadata": {},
		   "source": [
			"## Example 4.12: To_calculate_the_magnetic_force_and_relative_permeability.sce"
		   ]
		  },
  {
"cell_type": "code",
	   "execution_count": null,
	   "metadata": {
	    "collapsed": true
	   },
	   "outputs": [],
"source": [
"clc();\n",
"clear;\n",
"// To calculate the magnetic force and relative permeability\n",
"I=3000;    //magnetisation in amp/m\n",
"B=0.005;    //flux density in weber/m^2\n",
"mew0=4*%pi*10^-7;\n",
"H=(B/mew0)-I;\n",
"mew_r=(I/H)+1;\n",
"printf('magnetic force is %f amp/m',H);\n",
"printf('relative permeability is %f',mew_r);\n",
"\n",
"//answer given in the book is wrong"
   ]
   }
,
{
		   "cell_type": "markdown",
		   "metadata": {},
		   "source": [
			"## Example 4.13: To_calculate_the_permeability.sce"
		   ]
		  },
  {
"cell_type": "code",
	   "execution_count": null,
	   "metadata": {
	    "collapsed": true
	   },
	   "outputs": [],
"source": [
"clc();\n",
"clear;\n",
"// To calculate the permeability\n",
"H=1800;     //magnetising field in amp/m\n",
"phi=3*10^-5;    //magnetic flux in weber\n",
"A=0.2;    //cross sectional area in cm^2\n",
"A=A*10^-4;     //cross sectional area in m^2\n",
"B=phi/A;\n",
"mew=B/H;\n",
"printf('the permeability is %f Henry/m',mew);\n",
"\n",
"//answer given in the book is wrong"
   ]
   }
,
{
		   "cell_type": "markdown",
		   "metadata": {},
		   "source": [
			"## Example 4.14: To_calculate_the_magnetic_dipole_moment_and_torque.sce"
		   ]
		  },
  {
"cell_type": "code",
	   "execution_count": null,
	   "metadata": {
	    "collapsed": true
	   },
	   "outputs": [],
"source": [
"clc();\n",
"clear;\n",
"// To calculate the magnetic dipole moment and torque\n",
"r=0.04;    //radius of circular loop in m\n",
"i=1000;    //current in mA\n",
"i=i*10^-3;    //current in amp\n",
"B=10^-3;    //magnetic flux density in Wb/m^2\n",
"theta=45;    //angle in degrees\n",
"A=%pi*(r^2);\n",
"mew=i*A;\n",
"tow=i*B*cosd(theta);\n",
"printf('the magnetic dipole moment is %f amp m^2',mew);\n",
"printf('the torque is %f Nm',tow);"
   ]
   }
,
{
		   "cell_type": "markdown",
		   "metadata": {},
		   "source": [
			"## Example 4.15: To_calculate_the_hysterisis_loss_per_cycle.sce"
		   ]
		  },
  {
"cell_type": "code",
	   "execution_count": null,
	   "metadata": {
	    "collapsed": true
	   },
	   "outputs": [],
"source": [
"clc();\n",
"clear;\n",
"// To calculate the hysterisis loss per cycle\n",
"A=100;   //area of hysteris loop in m^2\n",
"B=0.01;    //flux density in wb/m^2\n",
"H=40;    //magnetic field in amp/m\n",
"M=7650;    //atomic weight in kg/m^3\n",
"hl=A*B*H;\n",
"printf('the hysterisis loss per cycle is %f J/m^3',hl);"
   ]
   }
,
{
		   "cell_type": "markdown",
		   "metadata": {},
		   "source": [
			"## Example 4.16: To_calculate_the_hysterisis_power_loss_and_power_loss.sce"
		   ]
		  },
  {
"cell_type": "code",
	   "execution_count": null,
	   "metadata": {
	    "collapsed": true
	   },
	   "outputs": [],
"source": [
"clc();\n",
"clear;\n",
"// To calculate the hysterisis power loss and power loss\n",
"hl=200;   //hysterisis loss per cycle in J/m^3\n",
"M=7650;    //atomic weight in kg/m^3\n",
"m=100;   //magnetisation cycles per second\n",
"hpl=hl*m;\n",
"pl=hpl/M;\n",
"printf('hysterisis power loss per second is %f watt/m^3',hpl);\n",
"printf('the power loss is %f watt/kg',pl); "
   ]
   }
,
{
		   "cell_type": "markdown",
		   "metadata": {},
		   "source": [
			"## Example 4.1: To_calculate_the_relative_permeability_of_iro.sce"
		   ]
		  },
  {
"cell_type": "code",
	   "execution_count": null,
	   "metadata": {
	    "collapsed": true
	   },
	   "outputs": [],
"source": [
"clc();\n",
"clear;\n",
"// To calculate the relative permeability of iron\n",
"H=6.5*10^-4;    //magnetic field in T\n",
"M=1.4;     //field with iron\n",
"chi=M/H;\n",
"mew_r=1+chi;\n",
"printf('relative permeability of iron is %f',mew_r);\n",
"\n",
"//answer given in the book is wrong"
   ]
   }
,
{
		   "cell_type": "markdown",
		   "metadata": {},
		   "source": [
			"## Example 4.2: To_calculate_the_relative_permeability_of_ferromagnetic_material.sce"
		   ]
		  },
  {
"cell_type": "code",
	   "execution_count": null,
	   "metadata": {
	    "collapsed": true
	   },
	   "outputs": [],
"source": [
"clc();\n",
"clear;\n",
"// To calculate the relative permeability of ferromagnetic material\n",
"H=220;     //field in amp/m\n",
"M=3300;    //magnetisation in amp/m\n",
"chi=M/H;\n",
"mew_r=1+chi;\n",
"printf('relative permeability is %f',mew_r);\n",
""
   ]
   }
,
{
		   "cell_type": "markdown",
		   "metadata": {},
		   "source": [
			"## Example 4.3: To_calculate_the_change_in_magnetic_moment.sce"
		   ]
		  },
  {
"cell_type": "code",
	   "execution_count": null,
	   "metadata": {
	    "collapsed": true
	   },
	   "outputs": [],
"source": [
"clc();\n",
"clear;\n",
"// To calculate the change in magnetic moment\n",
"r=5.29*10^-11;     //radius of orbit in m\n",
"B=2;    //applied field in Tesla\n",
"e=1.602*10^-19;   //charge of electron in coulomb\n",
"m=9.108*10^-31;    //mass of electron in kg\n",
"mew=(e^2)*(r^2)*B/(4*m);\n",
"printf('magnetic moment in Am^2 is');\n",
"disp(mew);"
   ]
   }
,
{
		   "cell_type": "markdown",
		   "metadata": {},
		   "source": [
			"## Example 4.4: To_calculate_the_intensity_of_magnetisation_and_flux_density.sce"
		   ]
		  },
  {
"cell_type": "code",
	   "execution_count": null,
	   "metadata": {
	    "collapsed": true
	   },
	   "outputs": [],
"source": [
"clc();\n",
"clear;\n",
"// To calculate the intensity of magnetisation and flux density\n",
"chi=0.5*10^-5;    //susceptibility \n",
"H=10^6;      //field strength in amp/m\n",
"mew_0=4*%pi*10^-7;\n",
"I=chi*H;\n",
"B=mew_0*(I+H);\n",
"printf('intensity of magnetisation is %f Amp/m',I);\n",
"printf('flux density is %f Weber/m^2',B);\n",
""
   ]
   }
,
{
		   "cell_type": "markdown",
		   "metadata": {},
		   "source": [
			"## Example 4.5: To_calculate_the_average_number_of_bohr_magnetons.sce"
		   ]
		  },
  {
"cell_type": "code",
	   "execution_count": null,
	   "metadata": {
	    "collapsed": true
	   },
	   "outputs": [],
"source": [
"clc();\n",
"clear;\n",
"// To calculate the average number of bohr magnetons\n",
"e=2.86;    //edge in armstrong\n",
"e=e*10^-10;        //edge in m\n",
"Is=1.76*10^6;    //magnetisation in amp/m\n",
"mewB=9.27*10^-24;   //1 bohr magneton in amp m^2\n",
"N=2/(e^3);    //density per m^3\n",
"mewbar=Is/N;\n",
"mew_bar=mewbar/mewB;\n",
"printf('average dipole moment is %f mewB',mew_bar);"
   ]
   }
,
{
		   "cell_type": "markdown",
		   "metadata": {},
		   "source": [
			"## Example 4.6: To_calculate_the_magnetisation_and_flux_density.sce"
		   ]
		  },
  {
"cell_type": "code",
	   "execution_count": null,
	   "metadata": {
	    "collapsed": true
	   },
	   "outputs": [],
"source": [
"clc();\n",
"clear;\n",
"// To calculate the magnetisation and flux density\n",
"H=10^6;    //magnetic field in amp/m\n",
"chi=1.5*10^-3;     //susceptibility\n",
"mew_0=4*%pi*10^-7;\n",
"M=chi*H;\n",
"B=mew_0*(M+H);\n",
"printf('magnetisation is %f Amp/m',M);\n",
"printf('flux density is %f Tesla',B);\n",
"\n",
"//answer for flux density given in the book is wrong"
   ]
   }
,
{
		   "cell_type": "markdown",
		   "metadata": {},
		   "source": [
			"## Example 4.7: To_calculate_the_magnetisation_and_flux_density.sce"
		   ]
		  },
  {
"cell_type": "code",
	   "execution_count": null,
	   "metadata": {
	    "collapsed": true
	   },
	   "outputs": [],
"source": [
"clc();\n",
"clear;\n",
"// To calculate the magnetisation and flux density\n",
"chi=3.7*10^-3;    //susceptibility \n",
"H=10^4;      //field strength in amp/m\n",
"mew_0=4*%pi*10^-7;\n",
"M=chi*H;\n",
"B=mew_0*(M+H);\n",
"printf('magnetisation is %f Amp/m',M);\n",
"printf('flux density is %f Weber/m^2',B);\n",
"\n",
"//answer for flux density given in the book is wrong"
   ]
   }
,
{
		   "cell_type": "markdown",
		   "metadata": {},
		   "source": [
			"## Example 4.8: To_calculate_the_change_in_magnetic_moment.sce"
		   ]
		  },
  {
"cell_type": "code",
	   "execution_count": null,
	   "metadata": {
	    "collapsed": true
	   },
	   "outputs": [],
"source": [
"clc();\n",
"clear;\n",
"// To calculate the change in magnetic moment\n",
"r=0.052*10^-9;     //radius of orbit in m\n",
"B=1;    //magnetic field in Wb/m^2\n",
"e=1.6*10^-19;   //charge of electron in coulomb\n",
"m=9.1*10^-31;    //mass of electron in kg\n",
"dmew=(e^2)*(r^2)*B/(4*m);\n",
"printf('magnetic moment in Am^2 is');\n",
"disp(dmew);\n",
"\n",
"//answer given in the book is wrong"
   ]
   }
,
{
		   "cell_type": "markdown",
		   "metadata": {},
		   "source": [
			"## Example 4.9: To_calculate_the_intensity_of_magnetisation_and_flux_density.sce"
		   ]
		  },
  {
"cell_type": "code",
	   "execution_count": null,
	   "metadata": {
	    "collapsed": true
	   },
	   "outputs": [],
"source": [
"clc();\n",
"clear;\n",
"// To calculate the intensity of magnetisation and flux density\n",
"chi=-0.5*10^-5;    //susceptibility \n",
"H=9.9*10^4;      //field strength in amp/m\n",
"mew_0=4*%pi*10^-7;\n",
"I=chi*H;\n",
"B=mew_0*H*(1+chi);\n",
"printf('intensity of magnetisation is %f Amp/m',I);\n",
"printf('flux density in Weber/m^2 is');\n",
"disp(B);\n",
"\n",
"//answer for flux density given in the book is wrong "
   ]
   }
],
"metadata": {
		  "kernelspec": {
		   "display_name": "Scilab",
		   "language": "scilab",
		   "name": "scilab"
		  },
		  "language_info": {
		   "file_extension": ".sce",
		   "help_links": [
			{
			 "text": "MetaKernel Magics",
			 "url": "https://github.com/calysto/metakernel/blob/master/metakernel/magics/README.md"
			}
		   ],
		   "mimetype": "text/x-octave",
		   "name": "scilab",
		   "version": "0.7.1"
		  }
		 },
		 "nbformat": 4,
		 "nbformat_minor": 0
}
