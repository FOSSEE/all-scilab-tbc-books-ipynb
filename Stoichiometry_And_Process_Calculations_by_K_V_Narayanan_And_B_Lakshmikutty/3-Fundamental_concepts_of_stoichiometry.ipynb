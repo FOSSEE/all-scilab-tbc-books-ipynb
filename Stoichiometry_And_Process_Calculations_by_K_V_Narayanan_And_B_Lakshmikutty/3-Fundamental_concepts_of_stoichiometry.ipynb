{
"cells": [
 {
		   "cell_type": "markdown",
	   "metadata": {},
	   "source": [
       "# Chapter 3: Fundamental concepts of stoichiometry"
	   ]
	},
{
		   "cell_type": "markdown",
		   "metadata": {},
		   "source": [
			"## Example 3.10: Baume_scale.sce"
		   ]
		  },
  {
"cell_type": "code",
	   "execution_count": null,
	   "metadata": {
	    "collapsed": true
	   },
	   "outputs": [],
"source": [
"//clc()\n",
"Tw = 100;//Tw\n",
"sp.g = Tw/200 + 1;\n",
"Be = 145 - 145/sp.g;\n",
"disp('Be',Be,'specific gravity on beume scale =')"
   ]
   }
,
{
		   "cell_type": "markdown",
		   "metadata": {},
		   "source": [
			"## Example 3.11: Density_using_API_scale.sce"
		   ]
		  },
  {
"cell_type": "code",
	   "execution_count": null,
	   "metadata": {
	    "collapsed": true
	   },
	   "outputs": [],
"source": [
"//clc()\n",
"API1 = 30;//API\n",
"sp.g1 = 141.5/(131.5 + API1);// (since, API = 141.5/sp.g -131.5)\n",
"Dwater = 999;//kg/m^3;\n",
"Doil1 = sp.g1 * Dwater;\n",
"V1 = 250;//m^3\n",
"m1 = V1 * Doil1;\n",
"API2 = 15;//API\n",
"sp.g2 = 141.5/(131.5 + API2);// (since, API = 141.5/sp.g -131.5)\n",
"Dwater = 999;//kg/m^3;\n",
"Doil2 = sp.g2 * Dwater;\n",
"V2 = 1000;//m^3\n",
"m2 = V2 * Doil2;\n",
"Dmix = (m1 + m2)/(V1 + V2);\n",
"disp('kg/m^3',Dmix,'density of the mixture =')"
   ]
   }
,
{
		   "cell_type": "markdown",
		   "metadata": {},
		   "source": [
			"## Example 3.12: Drying_Ammonium_sulphate.sce"
		   ]
		  },
  {
"cell_type": "code",
	   "execution_count": null,
	   "metadata": {
	    "collapsed": true
	   },
	   "outputs": [],
"source": [
"//clc()\n",
"m1 = 250;//kg\n",
"mwater1 = 50;//kg\n",
"mdrysolid1 = m1 - mwater1;\n",
"wfe1 = mwater1 / m1;\n",
"wr1 = mwater1 / mdrysolid1; \n",
"wtpercentw1 = mwater1 * 100 / m1;\n",
"wtpercentd1 = mwater1 * 100 / mdrysolid1;\n",
"a = 90;//%\n",
"mwater2 = mwater1 * (1 - a/100);\n",
"m2 = mdrysolid1 + mwater2;\n",
"wfe2 = mwater2 / m2;\n",
"wr2 = mwater2 / mdrysolid1; \n",
"wtpercentw2 = mwater2 * 100 / m2;\n",
"wtpercentd2 = mwater2 * 100 / mdrysolid1;\n",
"disp(wfe1,'(a)weight fraction of water at entrance =')\n",
"disp(wfe2,'weight fraction of water at exit = ')\n",
"disp(wr1,'(b)weight ratio of water at entrance = ')\n",
"disp(wr2,'weight ratio of water at exit = ')\n",
"disp(wtpercentw1,'(c)weight percent of moisture on wet basis at entrance = ')\n",
"disp(wtpercentw2,'weight percent of moisture on wet basis at exit = ')\n",
"disp(wtpercentd1,'(d)weight percent of moisture on dry basis at entrance = ')\n",
"disp(wtpercentd2,'weight percent of moisture on dry basis at exit = ')"
   ]
   }
,
{
		   "cell_type": "markdown",
		   "metadata": {},
		   "source": [
			"## Example 3.13: Percentage_of_water_removed.sce"
		   ]
		  },
  {
"cell_type": "code",
	   "execution_count": null,
	   "metadata": {
	    "collapsed": true
	   },
	   "outputs": [],
"source": [
"//clc()\n",
"mdrysolid = 100;//kg\n",
"percentin = 25;\n",
"mwaterin = mdrysolid * percentin / 100;\n",
"percentout = 2.5;\n",
"mwaterout = mdrysolid * percentout / 100;\n",
"mremoved = mwaterin - mwaterout;\n",
"percentremoved = mremoved *100 / mwaterin ;\n",
"disp(percentremoved,'percentage of water removed = ')"
   ]
   }
,
{
		   "cell_type": "markdown",
		   "metadata": {},
		   "source": [
			"## Example 3.14: Amount_and_percentage_water_removed.sce"
		   ]
		  },
  {
"cell_type": "code",
	   "execution_count": null,
	   "metadata": {
	    "collapsed": true
	   },
	   "outputs": [],
"source": [
"//clc()\n",
"m = 1;//kg\n",
"percent1 = 20;//%\n",
"mwaterin = m * percent1 / 100;\n",
"mdrysolid = m - mwaterin;\n",
"percent2 = 2.44;//%\n",
"mout = mdrysolid / (1 - percent2/100);\n",
"mwaterout = mout - mdrysolid;\n",
"mremoved = mwaterin - mwaterout;\n",
"percentremoved = mremoved * 100 / mwaterin ;\n",
"disp('kg',mremoved,'weight of water removed = ')\n",
"disp('%',percentremoved,'percentage of water removed = ')"
   ]
   }
,
{
		   "cell_type": "markdown",
		   "metadata": {},
		   "source": [
			"## Example 3.15: NaCl_solutio.sce"
		   ]
		  },
  {
"cell_type": "code",
	   "execution_count": null,
	   "metadata": {
	    "collapsed": true
	   },
	   "outputs": [],
"source": [
"//clc()\n",
"mwater = 100;//kg\n",
"mNaCl = 35.8;//kg\n",
"msolu = mwater + mNaCl;\n",
"mfr = mNaCl / msolu;\n",
"mpr = mfr * 100;\n",
"MNaCl = 58.45;//kg/kmol\n",
"NNaCl = mNaCl / MNaCl;\n",
"MH2O = 18;//kg/kmol\n",
"NH2O = mwater / MH2O;\n",
"Mfr = NNaCl / (NNaCl + NH2O);\n",
"Mpr = Mfr * 100;\n",
"N = NNaCl *1000 / mwater;\n",
"disp(mfr,'(a)mass fraction of NaCl =')\n",
"disp(mpr,'mass percent of NaCl= ')\n",
"disp(Mfr,'(b)mole fraction of NaCl =')\n",
"disp(Mpr,'mole percent of NaCl = ')\n",
"disp(N,'kmol NaCl per 1000 kg of water =')"
   ]
   }
,
{
		   "cell_type": "markdown",
		   "metadata": {},
		   "source": [
			"## Example 3.16: Molal_absolute_humidity.sce"
		   ]
		  },
  {
"cell_type": "code",
	   "execution_count": null,
	   "metadata": {
	    "collapsed": true
	   },
	   "outputs": [],
"source": [
"//clc()\n",
"Y = 0.015;//kg water vapour/kg dry air\n",
"Mair = 29;//kg/kmol\n",
"Mwater = 18.016;//kg/kmol\n",
"Nwater = Y / Mwater;//kmol\n",
"Nair = 1 / Mair;//kmol\n",
"Mpr = Nwater *100 / (Nwater + Nair);\n",
"Mr = Nwater / Nair;\n",
"disp(Mpr,'(a)mole percent of water vapour = ')\n",
"disp('kmol water/kmol dry air',Mr,'(b) molal absolute humidity =')"
   ]
   }
,
{
		   "cell_type": "markdown",
		   "metadata": {},
		   "source": [
			"## Example 3.17: K2CO3_solutio.sce"
		   ]
		  },
  {
"cell_type": "code",
	   "execution_count": null,
	   "metadata": {
	    "collapsed": true
	   },
	   "outputs": [],
"source": [
"//clc()\n",
"msolu = 100;//g\n",
"MK2CO3 = 138.20;//g/mol\n",
"percent1 = 50;//%\n",
"mK2CO3 = percent1 *msolu / 100;\n",
"NK2CO3 = mK2CO3 / MK2CO3;\n",
"mwater = msolu - mK2CO3;\n",
"Nwater = mwater / 18.06;\n",
"Mpr = NK2CO3 * 100 / (NK2CO3 + Nwater);\n",
"sp.gr  =1.53;\n",
"Vsolu = msolu/sp.gr;//mL\n",
"Vwater = mwater / 1;//mL\n",
"Vpr = Vwater * 100/ Vsolu;\n",
"Molality = NK2CO3 / (mwater * 10^-3);\n",
"Molarity = NK2CO3 / (Vsolu * 10^-3);\n",
"Eq.wt = MK2CO3 / 2;\n",
"No = mK2CO3/Eq.wt;\n",
"N = No / (Vsolu * 10^-3);\n",
"disp('%',Mpr,'(a)Mole prcent of salt = ') \n",
"disp('%',Vpr,'(b)Volume percent of water = ')\n",
"disp('mol/kg',Molality,'(c)Molality = ')\n",
"disp('mol/L',Molarity,'(d)Molarity = ')\n",
"disp('N',N,'(e)Normality')"
   ]
   }
,
{
		   "cell_type": "markdown",
		   "metadata": {},
		   "source": [
			"## Example 3.18: Molarity_and_Molality_of_Alcohol_solution.sce"
		   ]
		  },
  {
"cell_type": "code",
	   "execution_count": null,
	   "metadata": {
	    "collapsed": true
	   },
	   "outputs": [],
"source": [
"//clc()\n",
"msolu = 100;//kg\n",
"percent1 = 60;//%\n",
"Dwater = 998;//kg/m^3\n",
"Dalco = 798;//kg/m^3\n",
"Dsolu = 895;//kg/m^3\n",
"Vsolu = msolu/Dsolu;\n",
"malco = msolu * percent1 / 100;\n",
"Valco = malco / Dalco;\n",
"Vpr = Valco * 100 / Vsolu;\n",
"Malco = 46.048;//kg/kmol\n",
"N = malco/Malco;\n",
"Molarity = N/(Vsolu );\n",
"mwater = msolu - malco;\n",
"Molality = N * 1000 /mwater;\n",
"disp('%',Vpr,'(a)Volume percent of ethanol in solution = ')\n",
"disp('mol/L',Molarity,'(b)Molarity = ')\n",
"disp('mol/(kg of water)',Molality,'(c)Molality = ')"
   ]
   }
,
{
		   "cell_type": "markdown",
		   "metadata": {},
		   "source": [
			"## Example 3.19: CO_to_phosgene.sce"
		   ]
		  },
  {
"cell_type": "code",
	   "execution_count": null,
	   "metadata": {
	    "collapsed": true
	   },
	   "outputs": [],
"source": [
"//clc()\n",
"//CO + CL2 = COCl2\n",
"Np = 12;//moles\n",
"NCl2 = 3;//moles\n",
"NCO = 8;//moles\n",
"N1Cl2 = NCl2 + Np;\n",
"N1CO = NCO + Np;\n",
"pr.ex = (N1CO - N1Cl2)* 100/N1Cl2;\n",
"pr.co = (N1Cl2-NCl2) * 100/ N1Cl2;\n",
"T = Np + NCl2 + NCO;\n",
"T1 = N1Cl2 + N1CO;\n",
"N = T / T1;\n",
"disp('%',pr.ex,'(a)percent excess of CO = ')\n",
"disp('%',pr.co,'(b)percent conversion = ')\n",
"disp(N,'(c)Moles of total products per mole of total reactants = ')"
   ]
   }
,
{
		   "cell_type": "markdown",
		   "metadata": {},
		   "source": [
			"## Example 3.1: pounds_per_minute_to_kmol_per_hour.sce"
		   ]
		  },
  {
"cell_type": "code",
	   "execution_count": null,
	   "metadata": {
	    "collapsed": true
	   },
	   "outputs": [],
"source": [
"//clc()\n",
"m = 1000 * 0.4536;//kg/min\n",
"M = 30.24;//gm/mol\n",
"m1 = m * 60 / M;\n",
"disp('kmol/hr',m1,'molar folw rate = ')"
   ]
   }
,
{
		   "cell_type": "markdown",
		   "metadata": {},
		   "source": [
			"## Example 3.20: Extent_of_reaction.sce"
		   ]
		  },
  {
"cell_type": "code",
	   "execution_count": null,
	   "metadata": {
	    "collapsed": true
	   },
	   "outputs": [],
"source": [
"//clc()\n",
"Nn2 = 2;//moles\n",
"Nh2 = 7;//moles\n",
"Nnh3 = 1;//mole\n",
"n0 = Nn2 + Nh2 + Nnh3;\n",
"v = 2 - 1- 3;\n",
"//YN2 = (2 - E)/(10 - 2*E)\n",
"//Yh2 = (7-3*E)/(10 - 2*E)\n",
"//Ynh3 = (1 + 2*E)/(10 - 2*E)\n",
"disp('mole fraction of N2 = (2 - E)/(10 - 2*E)')\n",
"disp('mole fraction of H2 = (7-3*E)/(10 - 2*E)')\n",
"disp('mole fraction of NH3 = (1 + 2*E)/(10 - 2*E)')"
   ]
   }
,
{
		   "cell_type": "markdown",
		   "metadata": {},
		   "source": [
			"## Example 3.21: ethylene_to_ethanol.sce"
		   ]
		  },
  {
"cell_type": "code",
	   "execution_count": null,
	   "metadata": {
	    "collapsed": true
	   },
	   "outputs": [],
"source": [
"//clc()\n",
"msolu = 100;//g\n",
"MK2CO3 = 138.20;//g/mol\n",
"percent1 = 50;//%\n",
"mK2CO3 = percent1 *msolu / 100;\n",
"NK2CO3 = mK2CO3 / MK2CO3;\n",
"mwater = msolu - mK2CO3;\n",
"Nwater = mwater / 18.06;\n",
"Mpr = NK2CO3 * 100 / (NK2CO3 + Nwater);\n",
"sp.gr  =1.53;\n",
"Vsolu = msolu/sp.gr;//mL\n",
"Vwater = mwater / 1;//mL\n",
"Vpr = Vwater * 100/ Vsolu;\n",
"Molality = NK2CO3 / (mwater * 10^-3);\n",
"Molarity = NK2CO3 / (Vsolu * 10^-3);\n",
"Eq.wt = MK2CO3 / 2;\n",
"No = mK2CO3/Eq.wt;\n",
"N = No / (Vsolu * 10^-3);\n",
"disp('%',Mpr,'(a)Mole prcent of salt = ') \n",
"disp('%',Vpr,'(b)Volume percent of water = ')\n",
"disp('mol/kg',Molality,'(c)Molality = ')\n",
"disp('mol/L',Molarity,'(d)Molarity = ')\n",
"disp('N',N,'(e)Normality')"
   ]
   }
,
{
		   "cell_type": "markdown",
		   "metadata": {},
		   "source": [
			"## Example 3.2: Number_of_molecules.sce"
		   ]
		  },
  {
"cell_type": "code",
	   "execution_count": null,
	   "metadata": {
	    "collapsed": true
	   },
	   "outputs": [],
"source": [
"//clc()\n",
"MK = 39.1;\n",
"MC = 12.0;\n",
"MO = 16;\n",
"MK2CO3 = MK * 2 + MC + MO * 3;\n",
"m = 691;\n",
"N = m / MK2CO3;\n",
"A = 6.023 * 10^23;\n",
"molecules = N * A;\n",
"disp('molecules',molecules,'Total no. of molecules =')"
   ]
   }
,
{
		   "cell_type": "markdown",
		   "metadata": {},
		   "source": [
			"## Example 3.3: Moles_of_sodium_sulphate.sce"
		   ]
		  },
  {
"cell_type": "code",
	   "execution_count": null,
	   "metadata": {
	    "collapsed": true
	   },
	   "outputs": [],
"source": [
"//clc()\n",
"Na = 23;//gm/mol\n",
"MNa = 100;//kg\n",
"N = MNa * 1000 / Na ;//g-atoms \n",
"NNa2SO4 = N / 2;\n",
"disp('kmol',NNa2SO4,'(a) moles of sodium sulphate = ')\n",
"MNa2SO4 = 142.06;\n",
"m = NNa2SO4 * MNa2SO4/1000;\n",
"disp('kg',m,'(b)kilograms of sodium sulphate = ') "
   ]
   }
,
{
		   "cell_type": "markdown",
		   "metadata": {},
		   "source": [
			"## Example 3.4: Pyrites_and_oxygen_moles.sce"
		   ]
		  },
  {
"cell_type": "code",
	   "execution_count": null,
	   "metadata": {
	    "collapsed": true
	   },
	   "outputs": [],
"source": [
"//clc()\n",
"MFe = 55.85;\n",
"MO = 16;\n",
"MS = 32;\n",
"MFeS2 = MFe + MS * 2;\n",
"MFe2O3 = MFe * 2 + MO * 3;\n",
"MSO3 = MS + MO * 3;\n",
"m1SO3 = 100;//kg\n",
"N1 = m1SO3 / (MSO3);//kmol\n",
"NFeS2 = N1 / 2;\n",
"mFeS2 = NFeS2 * MFeS2;\n",
"disp('kg',mFeS2,'mass of pyrites to obtain 100kg of SO3 =')\n",
"m2SO3 = 50;//kg\n",
"N2 = m2SO3 / (MSO3);//kmol\n",
"NO2 = N2 * 15/8;\n",
"mO2 = NO2 * MO * 2;\n",
"disp('kg',mO2,'mass of Oxygen consumed to produce 50kg of SO3 =')"
   ]
   }
,
{
		   "cell_type": "markdown",
		   "metadata": {},
		   "source": [
			"## Example 3.5: Volume_of_oxyge.sce"
		   ]
		  },
  {
"cell_type": "code",
	   "execution_count": null,
	   "metadata": {
	    "collapsed": true
	   },
	   "outputs": [],
"source": [
"//clc()\n",
"MKClO3 = 122.55\n",
"mKClO3 = 100;//kg\n",
"NKClO3 = mKClO3 / MKClO3;\n",
"NO2 = 3 * NKClO3 / 2;\n",
"V1 = 22.4143;//m^3/kmol;\n",
"V = V1 * NO2;\n",
"disp('m^3',V,'volume of oxygen produced = ')"
   ]
   }
,
{
		   "cell_type": "markdown",
		   "metadata": {},
		   "source": [
			"## Example 3.6: Reaction_of_iron_and_steel.sce"
		   ]
		  },
  {
"cell_type": "code",
	   "execution_count": null,
	   "metadata": {
	    "collapsed": true
	   },
	   "outputs": [],
"source": [
"//clc()\n",
"mH2 = 100;//kg\n",
"NH2 = mH2/2.016;\n",
"NFe = 3 * NH2 / 4;\n",
"mFe = NFe * 55.85;\n",
"disp('kg',mFe,'(a)mass of iron required = ')\n",
"NH2O = NH2 ;\n",
"mH2O = NH2O * 18;\n",
"disp('kg',mH2O,'mass of steam required =')\n",
"V1 = 22.4143;//m^3/kmol;\n",
"V = V1 * NH2;\n",
"disp('m^3',V,'Volume of hydrogen = ')"
   ]
   }
,
{
		   "cell_type": "markdown",
		   "metadata": {},
		   "source": [
			"## Example 3.7: Equivalent_weight.sce"
		   ]
		  },
  {
"cell_type": "code",
	   "execution_count": null,
	   "metadata": {
	    "collapsed": true
	   },
	   "outputs": [],
"source": [
"//clc()\n",
"MCaCO3 = 100.08;\n",
"GE = MCaCO3 / 2;\n",
"disp('g',GE,'Gram equivalent wt. of CaCO3 =')"
   ]
   }
,
{
		   "cell_type": "markdown",
		   "metadata": {},
		   "source": [
			"## Example 3.8: Specific_gravity_calculatio.sce"
		   ]
		  },
  {
"cell_type": "code",
	   "execution_count": null,
	   "metadata": {
	    "collapsed": true
	   },
	   "outputs": [],
"source": [
"//clc()\n",
"m1 = 1;//kg (mass in air)\n",
"m2 = 0.9;//kg (mass in water)\n",
"m3 = 0.82;//kg (mass in liquid)\n",
"L1 = m2 - m1;//kg (loss of mass in water)\n",
"L2 = m3 - m1;//kg (loss of mass in liquid)\n",
"sp.g = L2 /L1;\n",
"disp(sp.g,'specific gravity of liquid = ')"
   ]
   }
,
{
		   "cell_type": "markdown",
		   "metadata": {},
		   "source": [
			"## Example 3.9: Specific_gravity_of_mixture.sce"
		   ]
		  },
  {
"cell_type": "code",
	   "execution_count": null,
	   "metadata": {
	    "collapsed": true
	   },
	   "outputs": [],
"source": [
"//clc()\n",
"m1 = 10;//kg\n",
"m2 = 5;//kg\n",
"sp.g1 = 1.17;\n",
"sp.g2 = 0.83;\n",
"Dwater = 1000;//kg/m^3\n",
"DA = Dwater * sp.g1;\n",
"DB = Dwater * sp.g2;\n",
"V1 = m1 / DA;\n",
"V2 = m2 / DB;\n",
"V = V1 + V2;\n",
"Dmix = (m1 + m2)/ V ;\n",
"sp.g3 = Dmix / Dwater;\n",
"disp(sp.g3,'specific gravity of mixture =')"
   ]
   }
],
"metadata": {
		  "kernelspec": {
		   "display_name": "Scilab",
		   "language": "scilab",
		   "name": "scilab"
		  },
		  "language_info": {
		   "file_extension": ".sce",
		   "help_links": [
			{
			 "text": "MetaKernel Magics",
			 "url": "https://github.com/calysto/metakernel/blob/master/metakernel/magics/README.md"
			}
		   ],
		   "mimetype": "text/x-octave",
		   "name": "scilab",
		   "version": "0.7.1"
		  }
		 },
		 "nbformat": 4,
		 "nbformat_minor": 0
}
