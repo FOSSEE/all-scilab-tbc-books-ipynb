{
"cells": [
 {
		   "cell_type": "markdown",
	   "metadata": {},
	   "source": [
       "# Chapter 9: Material Balance in Unit Operations"
	   ]
	},
{
		   "cell_type": "markdown",
		   "metadata": {},
		   "source": [
			"## Example 9.10: Extractio.sce"
		   ]
		  },
  {
"cell_type": "code",
	   "execution_count": null,
	   "metadata": {
	    "collapsed": true
	   },
	   "outputs": [],
"source": [
"//clc()\n",
"m = 100;//kg\n",
"Pin1 = 40;//% ( tannin )\n",
"Pin2 = 5;//% ( moisture )\n",
"Pin3 = 23;//% ( soluble non tannin material )\n",
"Pin4 = 100 - Pin1 - Pin2 - Pin3;//% ( insoluble lignin )\n",
"// since, lignin is insoluble, all of it will be present in the residue\n",
"Pout1 = 3;//%\n",
"Pout2 = 50;//%\n",
"Pout3 = 1;//%\n",
"Pout4 = 100 - Pout1 - Pout2 - Pout3;\n",
"//let W be the mass of residue, then we get\n",
"W = Pin4 * m / Pout4;\n",
"Ptannin = W * Pout1 * 100 / (m * Pin1);\n",
"disp('%',Ptannin,'Percent of original tannin unextracted = ')"
   ]
   }
,
{
		   "cell_type": "markdown",
		   "metadata": {},
		   "source": [
			"## Example 9.11: Leaching_operation.sce"
		   ]
		  },
  {
"cell_type": "code",
	   "execution_count": null,
	   "metadata": {
	    "collapsed": true
	   },
	   "outputs": [],
"source": [
"//clc()\n",
"F = 100;//kg\n",
"//F - feed, R - overflow, U - underflow, S - solvent\n",
"//F + S = U + R ( Total balance )\n",
"Poil1 = 49;//% ( 1 - feed )\n",
"Ppulp1 = 40;//%\n",
"Psalts1 = 3;//%\n",
"Pwater = 100 - Poil1 - Ppulp1 - Psalts1;\n",
"Phexane2 = 25;//%(2 - underflow)\n",
"Psalts2 = 2.5;//%\n",
"Poil2 = 15;//%\n",
"Pwater2 = 7.5;//%\n",
"Ppulp2 = 100 - Phexane2 -  Poil2 - Pwater2 - Psalts2;\n",
"Poil3 = 25;//% ( 3 - extract )\n",
"//taking pulp ( inert ) balance\n",
"U = Ppulp1 * F / Ppulp2;\n",
"//oil balance gives, F * Poil1 = U * Poil2 + R * Poil3,from these , we get\n",
"R = (F * Poil1 - U * Poil2)/Poil3;\n",
"S = U + R - F;\n",
"disp('kg',S,'(a)The amount of solvent used for extraction = ')\n",
"Precovered = 95;//%\n",
"mhexane2 = Phexane2 * U / 100;\n",
"mrecovered = mhexane2 * Precovered / 100;\n",
"P = mrecovered * 100 / S ;\n",
"disp('%',P,'(b)Percent of hexane used that is recovered from the underflow = ')\n",
"Poil = Poil3 * R * 100 / (F * Poil1 );\n",
"disp('%',Poil,'(c)Percent recovery of oil = ')"
   ]
   }
,
{
		   "cell_type": "markdown",
		   "metadata": {},
		   "source": [
			"## Example 9.12: Dryer_and_oven.sce"
		   ]
		  },
  {
"cell_type": "code",
	   "execution_count": null,
	   "metadata": {
	    "collapsed": true
	   },
	   "outputs": [],
"source": [
"//clc()\n",
"//F = feed(wet solid), V1 = water evaporated(drier), V2 = water evaporated(oven), S1 = Dry solid(drier), S2 = Dry solid(oven)\n",
"F = 1000;//kg\n",
"xf = 0.8;\n",
"x1 = 0.15;\n",
"x2 = 0.02;\n",
"//moisture free solid balance for drier, F * ( 1 - xf) = S1 * ( 1 - x1 )\n",
"S1 = F * ( 1 - xf )/(1 - x1);\n",
"//total balance for drier , F = S1 + V1\n",
"V1 = F - S1;\n",
"//For oven, S1 * ( 1 - x1 ) = S2 * ( 1 -x2 )\n",
"S2 = S1 * ( 1 - x1 )/(1 - x2);\n",
"//Also, S1 = S2 + V2\n",
"V2 = S1 - S2;\n",
"disp('kg',S1,'(a)Weight of product leaving the drier = ')\n",
"disp('kg',S2,'   Weight of product leaving the oven = ')\n",
"P1 = V1 *100/ (F * xf);\n",
"P2 = V2 *100/ (F * xf);\n",
"disp('%',P1,'(b)Percentage of original water removed in drier = ')\n",
"disp('%',P2,'   Percentage of original water removed in oven = ')"
   ]
   }
,
{
		   "cell_type": "markdown",
		   "metadata": {},
		   "source": [
			"## Example 9.13: Adiabatic_drier.sce"
		   ]
		  },
  {
"cell_type": "code",
	   "execution_count": null,
	   "metadata": {
	    "collapsed": true
	   },
	   "outputs": [],
"source": [
"//clc()\n",
"//Ss = solid flow rate,\n",
"Pwaterin = 25;//%\n",
"Pwaterout = 5;//%\n",
"X1 = Pwaterin/(100 - Pwaterin);//kg water/kg dry air\n",
"X2 = Pwaterout/(100 - Pwaterout);//kg water/kg dry air\n",
"//form humidity chart,\n",
"Y2 = 0.015;//kg water/kg dry air\n",
"Y1 = 0.035;//kg water/kg dry air\n",
"m = 1;//kg of dry air\n",
"//Ss * X1 + Y2 = Ss * X2 + Y1\n",
"Ss = (Y1 - Y2) / ( X1 - X2 );\n",
"T = 87.5 + 273.15;//K\n",
"P = 101.3;//kPa\n",
"Tstp = 273.15;//K\n",
"Pstp = 101.3;//kPa\n",
"Vstp = 22.4143;//m^3/mol\n",
"V = 100;//m^3\n",
"N = V * P * Tstp / ( Vstp * Pstp * T);\n",
"Nr2 = Y2 * 29 / 18;//kmol of water / kmol of dry air\n",
"Ndryair = N * 1 / (1 + Nr2);\n",
"mdryair = Ndryair * 29;\n",
"mevaporated = mdryair * ( Y1 - Y2 );\n",
"disp('kg',mevaporated,'(a)total moisture evaporated per 100m^3 of air entering = ')\n",
"Ss1 = mdryair * Ss;\n",
"mproduct = Ss1 * ( 1 + X2 );\n",
"disp('kg',mproduct,'(b)mass of finished product per 100m^3 of air entering = ')"
   ]
   }
,
{
		   "cell_type": "markdown",
		   "metadata": {},
		   "source": [
			"## Example 9.14: Extraction_of_isopropyl_alcohol.sce"
		   ]
		  },
  {
"cell_type": "code",
	   "execution_count": null,
	   "metadata": {
	    "collapsed": true
	   },
	   "outputs": [],
"source": [
"//clc()\n",
"//F = feed, E = extract, S = solvent, R = Raffinate\n",
"xwaterF = 0.7;//Feed\n",
"xalcoholF = 0.3;\n",
"xwaterR = 0.71;//raffinate\n",
"xalcoholR = 0.281;\n",
"xethyR = 0.009;\n",
"xwaterE = 0.008;//Extract\n",
"xalcoholE = 0.052;\n",
"xethyE = 0.94;\n",
"//Total balance, R + E = F + S\n",
"F = 100;//kg\n",
"//R + E = 100 + S                         (1)\n",
"//Isopropyl balance, xalcoholR * R + xalcoholE*E = xalcoholF * F\n",
"//0.281*R + 0.052 * E = 30                (2)\n",
"//Ethylene tetra chloride balance, xethyR * R + xethyE * E = S\n",
"//0.009*R + 0.94*E = S                    (3)\n",
"//Solving equation 1, 2 and 3 simultaneously, we get,\n",
"S = 45.1;\n",
"E = 47.04;\n",
"R = 98.06;\n",
"disp('kg',S,'(a)Amount of solvent used = ')\n",
"disp('kg',E,'(b)Amount of extract = ')\n",
"disp('kg',R,'   Amount of raffinate = ')\n",
"mextracted = E * xalcoholE;\n",
"P1 = mextracted * 100 / (F * xalcoholF);\n",
"disp('%',P1,'(c)Percent of isopropyl alcohol extracted = ')"
   ]
   }
,
{
		   "cell_type": "markdown",
		   "metadata": {},
		   "source": [
			"## Example 9.15: Absorption_of_acetone.sce"
		   ]
		  },
  {
"cell_type": "code",
	   "execution_count": null,
	   "metadata": {
	    "collapsed": true
	   },
	   "outputs": [],
"source": [
"//clc()\n",
"G1 = 100;//kmol\n",
"//G1 and G2 be the molar flow rate of the gas at the inlet and the exit of the absorber resp.,y1 and y2 mole fraction at entrance and exit resp.,\n",
"y1 = 0.25;//%\n",
"y2 = 0.05;//%\n",
"//air balance gives, G1 * ( 1-y1 ) = G2 * ( 1-y2 )\n",
"G2 = G1 * ( 1-y1 ) / (1 - y2);\n",
"maleaving = G2 * y2;\n",
"maentering = G1 * y1;\n",
"Pabsorbed = (maentering - maleaving) * 100 / ( maentering);\n",
"disp('%',Pabsorbed,'Percentage of acetone absorbed = ')"
   ]
   }
,
{
		   "cell_type": "markdown",
		   "metadata": {},
		   "source": [
			"## Example 9.16: Absorption_of_SO3.sce"
		   ]
		  },
  {
"cell_type": "code",
	   "execution_count": null,
	   "metadata": {
	    "collapsed": true
	   },
	   "outputs": [],
"source": [
"//clc()\n",
"F = 5000;//kg/h\n",
"P1 = 50;//% (H2O4 in)\n",
"MH2SO4 = 98.016;\n",
"P1gas = 65;//(nitrogen in gas entering)\n",
"P2gas = 35;// ( SO3)\n",
"MN2 = 28;\n",
"MSO3 = 80;\n",
"Mavg = ( MN2 * P1gas + MSO3 * P2gas)/100;//avg molecular wt. of entering gas\n",
"G = 4500;//kg/h\n",
"Ng = G / Mavg;\n",
"NN2 = Ng * P1gas / 100;\n",
"NSO3 = Ng - NN2;\n",
"P2 = 75;//% (H2O4 out)\n",
"//W be the mass of 75% H2SO4, x and y be the moles of SO3 and water vapour leaving resp.,\n",
"Pwater = 25;//kPa\n",
"Ptotal = 101.3;//kPa\n",
"//Pwater / Ptotal = y / ( NN2 + x + y )\n",
"//we get, y = 0.32765 * x + 2.744           (1)\n",
"//Total balance Feed + G = W + (NN2 * 28 + x * 80 + y * 18.016)\n",
"//we get, W + 80*x + 18.016*y = 7727.32     (2)\n",
"//from 1 and 2, 84.9174*x + W = 7352.68     (3)\n",
"//SO3 balance, So3 eneterin with 50% H2SO4 + SO3 in feed gas = SO leaving with 75%H2SO4 + SO3 leaving in exit gas\n",
"//5000*0.5*80/98.016 + 34.09*80 = 80* x + 0.75*W * 80/98.016   (4)\n",
"// from 3 and 4,\n",
"x = 9.74;\n",
"Nabsorbed = NSO3 - x;\n",
"Pabsorbed = Nabsorbed * 100 / NSO3;\n",
"disp('%',Pabsorbed,'Percentage of SO3 absorbed = ')"
   ]
   }
,
{
		   "cell_type": "markdown",
		   "metadata": {},
		   "source": [
			"## Example 9.17: Continuous_distillation_column.sce"
		   ]
		  },
  {
"cell_type": "code",
	   "execution_count": null,
	   "metadata": {
	    "collapsed": true
	   },
	   "outputs": [],
"source": [
"//clc()\n",
"F = 200;//kmol/h\n",
"//F, D and W be the flow rates of the feed, the distillate and residue resp., xf , xd and xw be the mole fraction of ethanol in the fee, distillate and the residue resp.\n",
"xf = 0.10;\n",
"xd = 0.89;\n",
"xw = 0.003;\n",
"//total balance gives, F = D + W\n",
"//D + W = 200              (1)\n",
"//Alcohol balance gives, F*xf = D*xd + W*xw\n",
"//0.89*D+0.003*W = 20      (2)\n",
"//solving 1 and 2\n",
"D = 21.87;//kmol/h\n",
"W = 178.13;//kmol/h\n",
"Nawasted = W*xw;\n",
"mmakeup = Nawasted * 46*24;\n",
"disp('kg',mmakeup,'The make up alcohol required per day = ')"
   ]
   }
,
{
		   "cell_type": "markdown",
		   "metadata": {},
		   "source": [
			"## Example 9.18: Distillation_operation_for_methanol_solution.sce"
		   ]
		  },
  {
"cell_type": "code",
	   "execution_count": null,
	   "metadata": {
	    "collapsed": true
	   },
	   "outputs": [],
"source": [
"//clc()\n",
"F = 100;//kg\n",
"//F, D and W be the flow rates of the feed, the distillate and bottom product resp., xf , xd and xw be the mole fraction of methanol in the fee, distillate and the bottom product resp.\n",
"xf = 0.20;\n",
"xd = 0.97;\n",
"xw = 0.02;\n",
"//using, F = D + W and F*xf + D*xd + W*xw,we get\n",
"D = 18.95;//kg/h\n",
"W = 81.05;//kg/h\n",
"R = 3.5;\n",
"//R = L / D\n",
"//for distillate = 1kg\n",
"D1 = 1;//kg\n",
"L = R*D1;\n",
"//Taking balance around the condenser,\n",
"G = L + D1;\n",
"mcondensed = G * D / F;\n",
"disp('kg',D,'(a)Amount of distillate = ')\n",
"disp('kg',W,'   Amount of Bottom Product = ')\n",
"disp('kg',G,'(b)Amount of vapour condensed per kg of distillate = ')\n",
"disp('kg',mcondensed,'(c)Amount of vapour condensed per kg of feed = ')"
   ]
   }
,
{
		   "cell_type": "markdown",
		   "metadata": {},
		   "source": [
			"## Example 9.19: Bypass_operatio.sce"
		   ]
		  },
  {
"cell_type": "code",
	   "execution_count": null,
	   "metadata": {
	    "collapsed": true
	   },
	   "outputs": [],
"source": [
"//clc()\n",
"mdryair = 1;//kg\n",
"Pwater1 = 1.4;//kPa ( Partial pressure at 285K )\n",
"Pwater2 = 10.6;//kPa ( Partial pressure at 320K )\n",
"P = 101.3;// ( Total )\n",
"Ys1 = Pwater2 * 18 / ((P - Pwater2)*29);//( saturation humidity at 320K )\n",
"Ys2 = Pwater1 * 18 / ((P - Pwater1)*29);//( saturation humidity at 285K )\n",
"Ys = 0.03;//kg water / kg dry air. (final humidity)\n",
"// humidity of air leaving dehumidifier is Ys2 and humidity of bypassed air is Ys1. these 2 streams combine to give humidity of 0.03kg water / kg dry air.\n",
"//therefore, taking balance we get, 1*Ys2 + x * Ys1 = (1 + x)*Ys\n",
"x = (1*Ys2 - 1*Ys)/(Ys - Ys1);\n",
"disp('kg dry air',x,'(a)Mass of dry air bypassed per kg of dry air sent through the dehumidifier = ')\n",
"mcondensed = Ys1 - Ys2;\n",
"mwetair = mdryair + Ys1;\n",
"Nwetair = mdryair/29 + Ys1/18.016;\n",
"Vstp = 22.4143;//m^3/kmol\n",
"Vstp1 = Nwetair * Vstp;\n",
"T = 320;//K\n",
"P = 101.3;//kPa\n",
"Tstp = 273.15;//K\n",
"Pstp = 101.325;//kPa\n",
"V = Vstp1 * Pstp * T / (P * Tstp);\n",
"Vgiven = 100;//m^3\n",
"mcondensed1 = mcondensed * Vgiven / V;\n",
"disp('kg',mcondensed1,'(b)mass of water vapour condensed in the dehumidifier per 100m^3 of air sent through it = ')\n",
"mfinal = mdryair + x;\n",
"mfinalair = mfinal * Vgiven / V;\n",
"N = mfinalair / 29;\n",
"Ysn = Ys * 29/18;//kmol water / kmol dry air\n",
"Ntotal = N * (Ysn + 1);\n",
"Vfinal = Ntotal * Vstp * Pstp * T / ( Tstp * P );\n",
"disp('m^3',Vfinal,'(c)Volume of final air obtained per 100 cubic metres f air passed through dehumidifier = ')"
   ]
   }
,
{
		   "cell_type": "markdown",
		   "metadata": {},
		   "source": [
			"## Example 9.1: Combustion_of_coal.sce"
		   ]
		  },
  {
"cell_type": "code",
	   "execution_count": null,
	   "metadata": {
	    "collapsed": true
	   },
	   "outputs": [],
"source": [
"//clc()\n",
"PC1 = 85;//% ( Percent carbon in coal )\n",
"PA1 = 15;//% ( Percent ash in coal )\n",
"PA2 = 80;//% ( Percent ash in cinder )\n",
"PC2 = 20;//% ( Percent carbon in cinder )\n",
"m = 100;//kg (weight of coal )\n",
"mash = PA1 * m / 100;\n",
"w = mash * 100 / PA2;// weight of cinder\n",
"mcarbon = w - mash;\n",
"Plost = mcarbon * 100 / ( m - mash );\n",
"disp('kg',w,'weight of cinder formed = ')\n",
"disp('%',Plost,'Percent fuel lost = ')"
   ]
   }
,
{
		   "cell_type": "markdown",
		   "metadata": {},
		   "source": [
			"## Example 9.20: Recycle_operation_centrifuge_plus_filter.sce"
		   ]
		  },
  {
"cell_type": "code",
	   "execution_count": null,
	   "metadata": {
	    "collapsed": true
	   },
	   "outputs": [],
"source": [
"//clc()\n",
"F = 100;//kg/h\n",
"xf = 0.2;\n",
"xp = 0.93;\n",
"xr = 0.5/1.5;\n",
"xx = 0.65;\n",
"//R - recycle stream, P - Product stream , W - water separeted and removed\n",
"//component A balance, F * xf = P * xp, that is,\n",
"P = F * xf / xp;\n",
"//Total balance, F = P + W,therefore\n",
"W = F - P;\n",
"//x be the flow rate of strea entering the filter \n",
"//total balance, x = P + R                             (1)\n",
"//component A balance , 0.65 * x = 0.5*R/1.5 + 0.93P   (2)\n",
"//Solving 1 and 2, we get,\n",
"R = (xx * P - xp * P)/(xr - xx);\n",
"disp('kg/h',R,'Flow rate of the recycle stream = ')"
   ]
   }
,
{
		   "cell_type": "markdown",
		   "metadata": {},
		   "source": [
			"## Example 9.21: Recycle_operation_granulator_and_drier.sce"
		   ]
		  },
  {
"cell_type": "code",
	   "execution_count": null,
	   "metadata": {
	    "collapsed": true
	   },
	   "outputs": [],
"source": [
"//clc()\n",
"F = 1000;//kg/h\n",
"xfwater = 0.7;\n",
"xpwater = 0.2;\n",
"xrwater = 0.20;\n",
"xswater = 0.5;\n",
"y1 = 0.0025;\n",
"y2 = 0.05;\n",
"//R - recycle, S - stream entering granulator, P - Product, G1 - air entering the drier, G2 - air leaving the drier,\n",
"//takin overall, moisture free balance, F * xf = P * xp\n",
"P = F * ( 1 - xfwater )/(1 - xpwater );\n",
"// taking material balance at point where recycle strea joins the feed,\n",
"// F = R + S\n",
"//water balance, F*xfwater = R*xrwater + S*xswater,solving this we get,\n",
"R = (-F*xfwater +F*xswater)/(xrwater - xswater);\n",
"S = F + R;\n",
"mleaving = P + R;//solid leaving the drier\n",
"//dry air entering will there be in air leaving, therefore\n",
"//G1 * ( 1 - y1 ) = G2 * ( 1 - y2 )\n",
"// water balance over the drier gives, S*xswater+G1*y1=G2*y2+(P+R)*xpwater\n",
"//from above 2 equations , we get\n",
"G1 = ((mleaving*xpwater - S*xswater)/(y1 - y2*(1-y1)/(1-y2)));\n",
"disp('kg/h',R,'(a)Amount of solid recycled = ')\n",
"mdryair = G1 * (1 - y1);\n",
"disp('kg/h',mdryair,'(b)circulation rate of air in the drier on dry basis = ')"
   ]
   }
,
{
		   "cell_type": "markdown",
		   "metadata": {},
		   "source": [
			"## Example 9.22: Blowdown_operation.sce"
		   ]
		  },
  {
"cell_type": "code",
	   "execution_count": null,
	   "metadata": {
	    "collapsed": true
	   },
	   "outputs": [],
"source": [
"//clc()\n",
"xf = 500 * 10^-6;\n",
"xp = 50 * 10^-6;\n",
"xb = 1600 * 10^-6;\n",
"//F - Feed water rate, B - blow down rate, S - high pressure steam, P - process stream rate\n",
"// total balance, F = P + B\n",
"// Solid balance, F * xf + P * xp = B * xb\n",
"//eliminating P, we get, F * xf + (F - B)*xp = B * xb\n",
"//let F/B be X\n",
"X = (xb + xp)/(xf + xp);\n",
"disp(X,'the ratio of feed water to the blowdown water = ')"
   ]
   }
,
{
		   "cell_type": "markdown",
		   "metadata": {},
		   "source": [
			"## Example 9.2: Drying_of_wood.sce"
		   ]
		  },
  {
"cell_type": "code",
	   "execution_count": null,
	   "metadata": {
	    "collapsed": true
	   },
	   "outputs": [],
"source": [
"//clc()\n",
"m = 1;//kg ( mass of completely dry wood )\n",
"P1 = 40;//% ( percentage moisture in wet wood )\n",
"P2 = 5;//% ( Percentage moisture in dry wood )\n",
"mwaterin = P1 * m / ( 100 - P1 );\n",
"mwaterout = P2 * m / ( 100 - P2 );\n",
"mevaporated = mwaterin - mwaterout;\n",
"disp('kg',mevaporated,'mass of water evaporated per kg of dry wood = ')"
   ]
   }
,
{
		   "cell_type": "markdown",
		   "metadata": {},
		   "source": [
			"## Example 9.3: Effluent_discharge.sce"
		   ]
		  },
  {
"cell_type": "code",
	   "execution_count": null,
	   "metadata": {
	    "collapsed": true
	   },
	   "outputs": [],
"source": [
"//clc()\n",
"F1 = 6*1000;//L/s\n",
"BOD1 = 3 * 10^-5;//g/L\n",
"BOD2 = 5 * 10^-3;//g/L\n",
"V = 16 * 10^3;//m^3/day\n",
"v = V * 10^3 / (24 * 3600);//L/s\n",
"//Let BOD of the effluent be BODeff,\n",
"BODeff = (BOD2 * (F1 + v) - BOD1 * F1) / ( v );\n",
"disp('g/L',BODeff,'BOD of the effluent of the plant = ')"
   ]
   }
,
{
		   "cell_type": "markdown",
		   "metadata": {},
		   "source": [
			"## Example 9.4: benzene_requirement_calculation.sce"
		   ]
		  },
  {
"cell_type": "code",
	   "execution_count": null,
	   "metadata": {
	    "collapsed": true
	   },
	   "outputs": [],
"source": [
"//clc()\n",
"D = 100;//kg of overhead product\n",
"xfa = 0.956;\n",
"xdw = 0.074;\n",
"xdb = 0.741;\n",
"xda = 0.185;\n",
"//water balance gives\n",
"F = D * xdw / (1 - xfa) ;\n",
"W = F * xfa - xda * D;\n",
"W1 = 100;\n",
"B = xdb*D;\n",
"Bused = B * W1 / W;\n",
"disp('kg',Bused,'Quantity of benzene required = ')"
   ]
   }
,
{
		   "cell_type": "markdown",
		   "metadata": {},
		   "source": [
			"## Example 9.5: Fortification_of_waste_acid.sce"
		   ]
		  },
  {
"cell_type": "code",
	   "execution_count": null,
	   "metadata": {
	    "collapsed": true
	   },
	   "outputs": [],
"source": [
"//clc()\n",
"//let, W - waste acid, S - Sulfuric acid, N - nitric acid, M - mixed acid\n",
"xsh2so4 = 0.95;\n",
"xsh2o = 0.5;\n",
"xwh2so4 = 0.3;\n",
"xwhno3 = 0.36;\n",
"xwh2o = 0.34;\n",
"xmh2so4 = 0.4;\n",
"xmhno3 = 0.45;\n",
"xmh2o = 0.15;\n",
"xnhno3 = 0.8;\n",
"xnh2o = 0.2;\n",
"M = 1000;//kg\n",
"// total material balance, W + S + N = 1000;\n",
"//H2SO4 balance, xwh2so4 * W + xsh2so4 * S = xmh2so4*M\n",
"//HNO3 balance, xwhno3 * W + xnhno3 * N = xmhno3*M\n",
"//H2O balance, xwh2o*W+xnh2o*N + xsh2o*S = xmh2o*M\n",
"//solving the above equations simultaneously, we get,\n",
"W = 70.22;//kg\n",
"S = 398.88;//kg\n",
"N = 530.9;//kg\n",
"disp('kg',W,'Waste acid = ')\n",
"disp('kg',S,'Concentrated H2SO4 = ')\n",
"disp('kg',N,'Concentrated HNO3 = ')"
   ]
   }
,
{
		   "cell_type": "markdown",
		   "metadata": {},
		   "source": [
			"## Example 9.6: Triple_effect_evaporator.sce"
		   ]
		  },
  {
"cell_type": "code",
	   "execution_count": null,
	   "metadata": {
	    "collapsed": true
	   },
	   "outputs": [],
"source": [
"//clc()\n",
"F = 1000;//kg\n",
"Psolute1 = 20;//%\n",
"Psolute2 = 80;//%\n",
"//taking solute balance\n",
"L3 = F * Psolute1 / Psolute2;\n",
"//taking total material balance\n",
"V = (F -L3) / 3;\n",
"//for first effect, total balance gives,\n",
"L1 = F - V;\n",
"//solute balance gives,\n",
"Psolute3 = F * Psolute1 / L1;\n",
"//For second effect, total balance gives,\n",
"L2 = L1 - V;\n",
"//solute balnce gives,\n",
"Psolute4 = L1 * Psolute3 / L2;\n",
"disp('%',Psolute3,'solute entering second effect = ')\n",
"disp('kg',L1,'Weight entering second effect')\n",
"disp('%',Psolute4,'solute entering third effect = ')\n",
"disp('kg',L2,'Weight entering third effect')"
   ]
   }
,
{
		   "cell_type": "markdown",
		   "metadata": {},
		   "source": [
			"## Example 9.7: Crystallization_operation.sce"
		   ]
		  },
  {
"cell_type": "code",
	   "execution_count": null,
	   "metadata": {
	    "collapsed": true
	   },
	   "outputs": [],
"source": [
"//clc()\n",
"F = 100;//kg\n",
"xf = 0.25;\n",
"x2 = 7/107;\n",
"P1 = 10;//%\n",
"W3 = P1 * F * (1-xf)/100;//(W3 - weight of water evaporated)\n",
"// let W1 and W2 be weight of crystal and weight of mother liquor remaining after crystallization resp.,\n",
"//F = W1 + W2 + W3\n",
"//100 = W1 + W2 + 7.5\n",
"//solute balance gives, F*xf = W1*x1 + W2*x2\n",
"//100*0.25 = W1*1+W2 * 0.0654\n",
"W2 = (F - W3 - F*xf)/(1-x2);\n",
"W1 = F - W3 - W2;\n",
"disp('kg',W1,,,'yeild of the crystals = ')"
   ]
   }
,
{
		   "cell_type": "markdown",
		   "metadata": {},
		   "source": [
			"## Example 9.8: Evaporation_of_Na2CO3.sce"
		   ]
		  },
  {
"cell_type": "code",
	   "execution_count": null,
	   "metadata": {
	    "collapsed": true
	   },
	   "outputs": [],
"source": [
"//clc()\n",
"F = 100;//kg\n",
"xf = 0.15;\n",
"P1 = 80;//% ( Carbonate recovered )\n",
"M1 = 106;//(Molecular weight of Na2CO3)\n",
"M2 = 286;//(Molecular weight of Na2CO3.10H2O)\n",
"x1 = M1 / M2;//(Weight fraction of Na2CO3 in crystals)\n",
"Mrecovered = P1 * F * xf / 100;\n",
"Wcrystal = Mrecovered / x1;\n",
"disp('kg',Wcrystal,'(a)quantity of crystals formed = ')\n",
"//Na2CO3 balance gives, F*xf = Wcrystal*x1 + W2*x2\n",
"//W2 weight of mother liquor remaining after crystallization\n",
"//let M = W2 * x2,therefore\n",
"M = F * xf - Mrecovered;\n",
"x2 = 0.09;\n",
"W2 = M/x2;\n",
"W3 = F - Wcrystal - W2;//weight of water evaporated\n",
"disp('kg',W3,'(b)Weight of water evaporated = ')"
   ]
   }
,
{
		   "cell_type": "markdown",
		   "metadata": {},
		   "source": [
			"## Example 9.9: Crystallizatio.sce"
		   ]
		  },
  {
"cell_type": "code",
	   "execution_count": null,
	   "metadata": {
	    "collapsed": true
	   },
	   "outputs": [],
"source": [
"//clc()\n",
"m = 100;//kg (of 60% solution)\n",
"//w - water added to the original solution\n",
"//w1 - wt. of Na2S2O3.5H2O crystallized\n",
"//w2 - wt. of mother liquor obtained\n",
"//w3 - solution carried away by the crystals\n",
"xf = 0.6;\n",
"Mna2s2o3 = 158;\n",
"Mna2s2o35h2o = 248;\n",
"mcrystals = m * xf * Mna2s2o35h2o / Mna2s2o3;\n",
"// free water available = m + w - 1 - mcrystals\n",
"//concentration of impurity = 1/(w+4.823)\n",
"//total balance, 100 - 1 + w = w1 + w2 + w3\n",
"//w1 + w2 + w3 - w = 99\n",
"//Na2S2O3 balance, 60 = (w1 + w2 * 1.5/2.5 + w3 * 1.5/2.5)*158/248\n",
"//w1 + 0.6 * w2 + 0.6 * w3 = 94.177\n",
"//each gram crystals carry 0.05 kg solution,\n",
"//w3 = 0.05 * w1\n",
"//impurity % = 0.1\n",
"//impurity = w3 /(2.5 * (w+4.823))\n",
"//solving above equations, we get\n",
"w = 14.577;//kg\n",
"w1 = 65.08;//kg\n",
"w2 = 45.25;//kg\n",
"w3 = 0.05 * w1;\n",
"disp('kg',w,'(a)amount of water  added = ')\n",
"disp('kg',w1,'(b)amount of Na2S2O3.5H2O crystals added = ')\n",
"m1 = w1 * Mna2s2o3 / Mna2s2o35h2o + w3 * 1.5 * Mna2s2o3 / (2.5 * Mna2s2o35h2o);\n",
"P = m1*100/(m*xf);\n",
"disp('%',P,'(c)Percentage recovery of Na2S2O3 = ')"
   ]
   }
],
"metadata": {
		  "kernelspec": {
		   "display_name": "Scilab",
		   "language": "scilab",
		   "name": "scilab"
		  },
		  "language_info": {
		   "file_extension": ".sce",
		   "help_links": [
			{
			 "text": "MetaKernel Magics",
			 "url": "https://github.com/calysto/metakernel/blob/master/metakernel/magics/README.md"
			}
		   ],
		   "mimetype": "text/x-octave",
		   "name": "scilab",
		   "version": "0.7.1"
		  }
		 },
		 "nbformat": 4,
		 "nbformat_minor": 0
}
