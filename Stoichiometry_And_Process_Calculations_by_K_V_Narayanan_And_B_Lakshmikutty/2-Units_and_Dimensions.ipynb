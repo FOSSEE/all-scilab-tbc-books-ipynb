{
"cells": [
 {
		   "cell_type": "markdown",
	   "metadata": {},
	   "source": [
       "# Chapter 2: Units and Dimensions"
	   ]
	},
{
		   "cell_type": "markdown",
		   "metadata": {},
		   "source": [
			"## Example 2.1: Mass_flow_rate.sce"
		   ]
		  },
  {
"cell_type": "code",
	   "execution_count": null,
	   "metadata": {
	    "collapsed": true
	   },
	   "outputs": [],
"source": [
"//clc()\n",
"funcprot(0)\n",
"V1 = 15;//ft^3/min\n",
"ft = 0.3048;//m\n",
"min = 60;//secs\n",
"V = V1*ft^3/min;\n",
"disp('m^3/s',V,'Volumetric flowrate = ')\n",
"D = 1000;//kg/m^3\n",
"M = V * D;\n",
"disp('kg/s',M,'mass flowrate = ')"
   ]
   }
,
{
		   "cell_type": "markdown",
		   "metadata": {},
		   "source": [
			"## Example 2.2: Poundal_to_Newton.sce"
		   ]
		  },
  {
"cell_type": "code",
	   "execution_count": null,
	   "metadata": {
	    "collapsed": true
	   },
	   "outputs": [],
"source": [
"//clc()\n",
"funcprot(0)\n",
"ft = 0.3048;//m\n",
"lb = 0.4536;//kg\n",
"P = ft*lb;\n",
"disp('N',P,'1 poundal is 1 ft*lb/s^2 = ')"
   ]
   }
,
{
		   "cell_type": "markdown",
		   "metadata": {},
		   "source": [
			"## Example 2.3: Conversion_of_N_per_m2.sce"
		   ]
		  },
  {
"cell_type": "code",
	   "execution_count": null,
	   "metadata": {
	    "collapsed": true
	   },
	   "outputs": [],
"source": [
"//clc()\n",
"funcprot(0)\n",
"kgf = 9.80665;//N\n",
"cm = 10^-2;//m\n",
"P = kgf/cm^2;\n",
"disp('N/m^2',P,'1 kgf/cm^2 = ')\n",
"lbf = 32.174;//lb*ft//s^2\n",
"lb = 0.4535924;//kg\n",
"ft = 0.3048;//m\n",
"in = 0.0254;//m\n",
"P1 = lbf*lb*ft/in^2;\n",
"disp('N/m^2',P1,'1 lbf/in^2 = ')"
   ]
   }
,
{
		   "cell_type": "markdown",
		   "metadata": {},
		   "source": [
			"## Example 2.4: Thermal_conductivity.sce"
		   ]
		  },
  {
"cell_type": "code",
	   "execution_count": null,
	   "metadata": {
	    "collapsed": true
	   },
	   "outputs": [],
"source": [
"//clc()\n",
"Q1 = 10000;//kJ/hr\n",
"kJ = 1000;//J\n",
"hr = 3600;//s\n",
"Q = Q1*kJ/hr;//J/s\n",
"disp('J/s',Q,'Q = ')\n",
"x = 0.1;//m\n",
"A = 1//m^2\n",
"T = 800;//K\n",
"k = x*Q/(A*T);\n",
"disp('W/(m*K)',k,'thermal conductivity = ')\n",
"J = 1/4.1868;//cal\n",
"k1 = k*J*hr/1000;\n",
"disp('kcal/(h*m*C)',k1,'thermal conductivity = ')"
   ]
   }
,
{
		   "cell_type": "markdown",
		   "metadata": {},
		   "source": [
			"## Example 2.5: Mass_and_FPS_system.sce"
		   ]
		  },
  {
"cell_type": "code",
	   "execution_count": null,
	   "metadata": {
	    "collapsed": true
	   },
	   "outputs": [],
"source": [
"//clc()\n",
"F = 300;//N\n",
"a = 9.81;//m/s^2\n",
"m = F/a;//kg\n",
"disp('kg',m,'mass in kg = ')\n",
"lb = 4.535924/10;//kg\n",
"m1 = m/lb;\n",
"disp('lb',m1,'mass in pounds = ')"
   ]
   }
,
{
		   "cell_type": "markdown",
		   "metadata": {},
		   "source": [
			"## Example 2.6: Kinetic_energy_calculation.sce"
		   ]
		  },
  {
"cell_type": "code",
	   "execution_count": null,
	   "metadata": {
	    "collapsed": true
	   },
	   "outputs": [],
"source": [
"//clc()\n",
"z = 15;//m\n",
"PE = 2000;//J\n",
"g = 9.8067;//m/s^2\n",
"m = PE/(z*g);\n",
"disp('kg',m,'mass = ')\n",
"v = 50;//m/s\n",
"KE = 1/2*m*(v^2)/1000;\n",
"disp('kJ',KE,'kinetic energy = ')"
   ]
   }
,
{
		   "cell_type": "markdown",
		   "metadata": {},
		   "source": [
			"## Example 2.7: Force_and_pressure_for_piston_cylinder.sce"
		   ]
		  },
  {
"cell_type": "code",
	   "execution_count": null,
	   "metadata": {
	    "collapsed": true
	   },
	   "outputs": [],
"source": [
"//clc()\n",
"g = 9.81;//m/s^2\n",
"m = 100 * 0.4536;//kg\n",
"P = 101325;//N/m^2\n",
"D1 = 4;//inch\n",
"D = D1 * 2.54 * 10^-2;//m\n",
"A = 3.1415 * (D^2)/4;//m^2\n",
"F1 = P * A;//N\n",
"F2 = m * g;//N\n",
"F = F1 + F2;\n",
"disp('N',F,'Total force acting on the gas = ')\n",
"P1 = F / A;//N/m^2\n",
"P2 = P1/100000;//bar\n",
"P3 = P1/(6.894757 * 10^3);//psi\n",
"disp('N/m^2',P1,'Pressure in N/m^2 = ')\n",
"disp('bar',P2,'Pressure in bar = ')\n",
"disp('psi',P3,'Pressure in psi = ')\n",
"d = 0.4;//m\n",
"W = F * d;\n",
"disp('J',W,'Work done = ')\n",
"PE = m * g * d;\n",
"disp('J',PE,'Change in potential energy = ')"
   ]
   }
,
{
		   "cell_type": "markdown",
		   "metadata": {},
		   "source": [
			"## Example 2.8: units_conversion.sce"
		   ]
		  },
  {
"cell_type": "code",
	   "execution_count": null,
	   "metadata": {
	    "collapsed": true
	   },
	   "outputs": [],
"source": [
"//clc()\n",
"//kG = (6.7 * 10^-4) * (( G * (ds + dt) / ds)^0.8) / ((ds^0.4)*(dG^0.2))\n",
"//kG - lbmol/(h ft^2 atm), G - lb/(ft^2 h), ds, dG, dt - feet\n",
"//kG1 - kmol/(m^2 h atm), G1 - kg/(m^2 h), ds1, dG1, dt1 - m\n",
"G = 0.2048;//G1 * lb/(ft^2 h)\n",
"d = 3.2808;//d1 * ft\n",
"ds = d;\n",
"dt = d;\n",
"dG = d;\n",
"kG = 4.885;//kG1 (lbmol/(h ft^2 atm) = 4.885 * kmol/(m^2 h atm))\n",
"C = (6.7 * 10^-4) * (( G * d / ds)^0.8) / ((ds^0.4)*(dG^0.2))* kG;\n",
"disp(C,'Co-efficient = ')\n",
"// this is the constant for the equation\n",
"// the equation thus becomes,\n",
"// kG1 = C * (( G1 * (ds1 + dt1) / ds1)^0.8) / ((ds1^0.4)*(dG1^0.2))"
   ]
   }
,
{
		   "cell_type": "markdown",
		   "metadata": {},
		   "source": [
			"## Example 2.9: units_conversion.sce"
		   ]
		  },
  {
"cell_type": "code",
	   "execution_count": null,
	   "metadata": {
	    "collapsed": true
	   },
	   "outputs": [],
"source": [
"//clc()\n",
"//Cp = 7.13 + 0.577 * (10^-3) * t + 0.0248 * (10^-6) * t^2 \n",
"//Cp - Btu/lb-mol F, t - F\n",
"//Cp1 - kJ/kmol K , t1 - K\n",
"a = 7.13;\n",
"b = 0.577 * 10^-3;\n",
"c = 0.0248 * 10^-6;\n",
"//t = 1.8 * t1 - 459.67\n",
"Cp = 4.1868;//Cp1 (Btu/lb-mol F = 4.1868 * (kJ/kmol K) )\n",
"//substituting the above, we get,\n",
"//Cp1 = 28.763 + 4.763 * (10^-3) * t1 + 0.3366 * (10^-6) * t^2\n",
"a1 = 28.763;\n",
"b1 = 4.763 * (10^-3);\n",
"c1 = 0.3366 * (10^-6);\n",
"disp(a1,'a1 = ')\n",
"disp(b1,'b1 = ')\n",
"disp(c1,'c1 = ')\n",
"// this are the co efficents for the following equation;\n",
"// Cp1 = a1 + b1 * t1 + c1 * (t1)^2"
   ]
   }
],
"metadata": {
		  "kernelspec": {
		   "display_name": "Scilab",
		   "language": "scilab",
		   "name": "scilab"
		  },
		  "language_info": {
		   "file_extension": ".sce",
		   "help_links": [
			{
			 "text": "MetaKernel Magics",
			 "url": "https://github.com/calysto/metakernel/blob/master/metakernel/magics/README.md"
			}
		   ],
		   "mimetype": "text/x-octave",
		   "name": "scilab",
		   "version": "0.7.1"
		  }
		 },
		 "nbformat": 4,
		 "nbformat_minor": 0
}
