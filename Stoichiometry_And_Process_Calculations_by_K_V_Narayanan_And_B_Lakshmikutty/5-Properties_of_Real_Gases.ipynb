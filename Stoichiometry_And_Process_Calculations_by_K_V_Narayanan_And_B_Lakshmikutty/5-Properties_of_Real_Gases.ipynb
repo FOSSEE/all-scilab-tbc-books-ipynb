{
"cells": [
 {
		   "cell_type": "markdown",
	   "metadata": {},
	   "source": [
       "# Chapter 5: Properties of Real Gases"
	   ]
	},
{
		   "cell_type": "markdown",
		   "metadata": {},
		   "source": [
			"## Example 5.1: Van_der_waals_equation.sce"
		   ]
		  },
  {
"cell_type": "code",
	   "execution_count": null,
	   "metadata": {
	    "collapsed": true
	   },
	   "outputs": [],
"source": [
"//clc()\n",
"V = 0.6;//m^3;\n",
"T = 473;//K\n",
"N = 1 * 10 ^ 3;//mol\n",
"R = 8.314;//Pa * m^3/molK\n",
"P = N * R * T / (V * 10^5);\n",
"disp('bar',P,'(a)Pressure calculated using ideal gas equation = ')\n",
"a = 0.4233;//N * m^4 / mol^2\n",
"b = 3.73 * 10^-5;//m^3/mol\n",
"P1 = (R*T/(V/N - b)-a/(V/N)^2)/10^5;\n",
"disp('bar',P1,'(a)Pressure calculated using van der waals equation = ')"
   ]
   }
,
{
		   "cell_type": "markdown",
		   "metadata": {},
		   "source": [
			"## Example 5.2: Van_der_waals_equation_for_CO2_gas.sce"
		   ]
		  },
  {
"cell_type": "code",
	   "execution_count": null,
	   "metadata": {
	    "collapsed": true
	   },
	   "outputs": [],
"source": [
"//clc()\n",
"P = 10^7;//Pa;\n",
"T = 500;//K\n",
"R = 8.314;//Pa * L / mol K\n",
"V = N * R * T / ( P * 1000);\n",
"disp('m^3',V,'(a)Volume of CO2 calculated using ideal gas equation = ')"
   ]
   }
,
{
		   "cell_type": "markdown",
		   "metadata": {},
		   "source": [
			"## Example 5.3: Redlich_Kwong_equation_for_gaseous_ammonia.sce"
		   ]
		  },
  {
"cell_type": "code",
	   "execution_count": null,
	   "metadata": {
	    "collapsed": true
	   },
	   "outputs": [],
"source": [
"//clc()\n",
"V = 0.6 * 10^-3;//m^3\n",
"T = 473;//K\n",
"Tc = 405.5;//K\n",
"Pc = 112.8 * 10 ^ 5//Pa\n",
"R = 8.314;\n",
"a = 0.4278 * (R^2) * (Tc ^ 2.5)/Pc;\n",
"b = 0.0867 * R * Tc / Pc;\n",
"P1 = (R*T/(V - b) - a/((T^0.5)*V*(V + b)))/10^5;\n",
"disp('bar',P1,'Pressure developed by gas = ')"
   ]
   }
,
{
		   "cell_type": "markdown",
		   "metadata": {},
		   "source": [
			"## Example 5.4: Molar_Volume_calculation_for_gaseous_ammonia.sce"
		   ]
		  },
  {
"cell_type": "code",
	   "execution_count": null,
	   "metadata": {
	    "collapsed": true
	   },
	   "outputs": [],
"source": [
"//clc()\n",
"P = 10^6;//Pa\n",
"T = 373;//K\n",
"Tc = 405.5;//K\n",
"Pc = 112.8 * 10 ^ 5//Pa\n",
"R = 8.314;\n",
"a = 0.4278 * (R^2) * (Tc ^ 2.5)/Pc;\n",
"b = 0.0867 * R * Tc / Pc;\n",
"//P1 = (R*T/(V - b) - a/((T^0.5)*V*(V + b)))/10^5;\n",
"//10^6=((8.314*373)/(V-2.59*10^-5))-8.68/((373^0.5)*V*(V+2.59*10^-5) \n",
"//solving this we get,\n",
"V = 3.0 * 10^-3;//m^3/mol\n",
"disp('m^3/mol',V,'molar volume of gas = ')"
   ]
   }
,
{
		   "cell_type": "markdown",
		   "metadata": {},
		   "source": [
			"## Example 5.5: virial_equation_of_state.sce"
		   ]
		  },
  {
"cell_type": "code",
	   "execution_count": null,
	   "metadata": {
	    "collapsed": true
	   },
	   "outputs": [],
"source": [
"//clc()\n",
"B = -2.19 * 10^-4;//m^3/mol\n",
"C = -1.73 * 10^-8;//m^6/mol^2\n",
"P = 10;//bar\n",
"T = 500;//K\n",
"//virial equation is given as, Z = PV/RT = 1 + B/V + C/V^2\n",
"//V = (RT/P)*(1 + B/V + C/V^2)\n",
"// now by assuming different values for V on RHS and checking for corresponding V on LHS, we have to assume such value of V on RHS by which we get the same value for LHS V\n",
"//by trial and error we get,\n",
"V = 3.92 * 10^-3;//m^3\n",
"disp('m^3',V,'Molar volume of methanol = ')"
   ]
   }
,
{
		   "cell_type": "markdown",
		   "metadata": {},
		   "source": [
			"## Example 5.6: Lyderson_method_for_n_butane.sce"
		   ]
		  },
  {
"cell_type": "code",
	   "execution_count": null,
	   "metadata": {
	    "collapsed": true
	   },
	   "outputs": [],
"source": [
"//clc()\n",
"T = 510;//K\n",
"P = 26.6;//bar\n",
"Tc = 425.2;//K\n",
"Pc = 38;//bar\n",
"Zc = 0.274;\n",
"R = 8.314;\n",
"Pr = P / Pc;\n",
"Tr = T / Tc;\n",
"disp(Pr,'Pr = ')\n",
"disp(Tr,'Tr = ')\n",
"//From fig. 5.4 and 5.5 from the text book\n",
"Z = 0.865;\n",
"D = 0.15;\n",
"Z1 = Z + D * ( Zc - 0.27);\n",
"V = R * T * Z1 / (P * 10^5);\n",
"disp('m^3/mol',V,'Molar volume of n-butane = ')"
   ]
   }
,
{
		   "cell_type": "markdown",
		   "metadata": {},
		   "source": [
			"## Example 5.7: Pitzer_correlation_for_n_butane.sce"
		   ]
		  },
  {
"cell_type": "code",
	   "execution_count": null,
	   "metadata": {
	    "collapsed": true
	   },
	   "outputs": [],
"source": [
"//clc()\n",
"T = 510;//K\n",
"P = 26.6;//bar\n",
"Tc = 425.2;//K\n",
"Pc = 38;//bar\n",
"w = 0.193;\n",
"R = 8.314;\n",
"Pr = P / Pc;\n",
"Tr = T / Tc;\n",
"disp(Pr,'Pr = ')\n",
"disp(Tr,'Tr = ')\n",
"//From fig. 5.6 and 5.7 from the text book\n",
"Z0 = 0.855;\n",
"Z1 = 0.042;\n",
"Z = Z0 + w*Z1;\n",
"disp(Z,'Z = ')\n",
"V = R * T * Z / (P * 10^5);\n",
"disp('m^3/mol',V,'Molar volume of n-butane = ')"
   ]
   }
,
{
		   "cell_type": "markdown",
		   "metadata": {},
		   "source": [
			"## Example 5.8: Molar_volume_by_different_methods.sce"
		   ]
		  },
  {
"cell_type": "code",
	   "execution_count": null,
	   "metadata": {
	    "collapsed": true
	   },
	   "outputs": [],
"source": [
"//clc()\n",
"P = 6000;//kPa\n",
"T = 325;//K\n",
"xn2 = 0.4;\n",
"xethane = 0.6;\n",
"an2 = 0.1365;//N m^4 / mol^2\n",
"bn2 = 3.86 * 10^-5;//m^3/mol\n",
"aethane = 0.557;//N m^4 / mol^2\n",
"bethane = 6.51 * 10^-5;//m^3/mol\n",
"Pcn2 = 3394;//kPa\n",
"Tcn2 = 126.2;//K\n",
"Pcethane = 4880;//kPa\n",
"Tcethane = 305.4;//K\n",
"R = 8.314;\n",
"V = R * T / (P*1000);\n",
"disp('m^3/mol',V,'(a)Molar volume by ideal gas equation =')\n",
"a = (xn2 * (an2^0.5) + xethane * (aethane^0.5))^2;\n",
"b = (xn2*bn2 + xethane*bethane);\n",
"//substituting the above values in van der waals equation, and solving, we get\n",
"V1 = 3.680 * 10^-4;//m^3/mol\n",
"disp('m^3/mol',V1,'(b)Molar volume by van der waals equation =')\n",
"Prin2 = P/Pcn2;\n",
"Trin2 = T/Tcn2;\n",
"Priethane = P/Pcethane;\n",
"Triethane = T/Tcethane;\n",
"// using compressibilty chart, \n",
"Zn2 = 1;\n",
"Zethane = 0.42;\n",
"Z = xn2 * Zn2 + xethane * Zethane;\n",
"V2 = Z * R * T / P;\n",
"disp('m^3/mol',V2,'(c)Molar volume based on compressibilty factor =')\n",
"Pri1n2 = xn2*P/Pcn2;\n",
"Tri1n2 = T/Tcn2;\n",
"Pri1ethane = xethane*P/Pcethane;\n",
"Tri1ethane = T/Tcethane;\n",
"// using compressibilty chart, \n",
"Zn21 = 1;\n",
"Zethane1 = 0.76;\n",
"Z1 = xn2 * Zn21 + xethane * Zethane1;\n",
"V3 = Z1 * R * T / P;\n",
"disp('m^3/mol',V3,'(c)Molar volume based on daltons law =')\n",
"Tc = xn2 * Tcn2 + xethane * Tcethane;\n",
"Pc = xn2 * Pcn2 + xethane * Pcethane;\n",
"Zc = 0.83;\n",
"V4 = Zc * R *T / P;\n",
"disp('m^3/mol',V4,'(d)Molar volume by kays method =')"
   ]
   }
,
{
		   "cell_type": "markdown",
		   "metadata": {},
		   "source": [
			"## Example 5.9: Van_der_waals_equation_and_Kays_method.sce"
		   ]
		  },
  {
"cell_type": "code",
	   "execution_count": null,
	   "metadata": {
	    "collapsed": true
	   },
	   "outputs": [],
"source": [
"//clc()\n",
"P1 = 40;//% ( nitrogen )\n",
"P2 = 60;//% ( ethane )\n",
"T = 325;//K\n",
"V = 4.5 * 10^-4;//m^3/mol\n",
"a1 = 0.1365;//N*m^4/mol^2\n",
"b1 = 3.86 * 10 ^ -5;//m^3/mol\n",
"a2 = 0.557;//N*m^4/mol^2\n",
"b2 = 6.51 * 10 ^ -5;//m^3/mol\n",
"Pc1 = 3394;//kPa\n",
"Tc1 = 126.1;//K\n",
"Pc2 = 4880;//kPa\n",
"Tc2 = 305.4;//K\n",
"R = 8.314;\n",
"Pideal = R * T / (V * 1000);//kPa\n",
"disp('kPa',Pideal,'(a)Pressure of Gas by the ideal gas equation = ')\n",
"y1 = P1/100;\n",
"y2 = P2/100;\n",
"a = (y1 * (a1^(1/2)) + y2 * (a2^(1/2)))^2;\n",
"b = y1 * b1 + y2 * b2;\n",
"Pv = ((R * T / (V - b)) - a / (V^2))/1000;\n",
"disp('kPa',Pv,'(b)Pressure of Gas by Van der waals equation = ')\n",
"Tc = y1*Tc1 + y2*Tc2;\n",
"Pc = y1*Pc1 + y2*Pc2;\n",
"Vc = R * Tc / Pc;//Pseudo critical ideal volume\n",
"Vr = V / Vc;//Pseudo reduced ideal volume\n",
"Tr = T / Tc;//Pseudo reduced temperature\n",
"//From fig 5.3, we get Pr = 1.2\n",
"Pr = 1.2;\n",
"Pk = Pr * Pc;\n",
"disp('kPa',Pk,'(b)Pressure of Gas by the Kays method = ')"
   ]
   }
],
"metadata": {
		  "kernelspec": {
		   "display_name": "Scilab",
		   "language": "scilab",
		   "name": "scilab"
		  },
		  "language_info": {
		   "file_extension": ".sce",
		   "help_links": [
			{
			 "text": "MetaKernel Magics",
			 "url": "https://github.com/calysto/metakernel/blob/master/metakernel/magics/README.md"
			}
		   ],
		   "mimetype": "text/x-octave",
		   "name": "scilab",
		   "version": "0.7.1"
		  }
		 },
		 "nbformat": 4,
		 "nbformat_minor": 0
}
