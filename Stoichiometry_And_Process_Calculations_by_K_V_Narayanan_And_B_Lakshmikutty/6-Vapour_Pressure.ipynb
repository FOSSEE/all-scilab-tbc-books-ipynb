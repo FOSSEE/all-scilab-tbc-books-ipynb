{
"cells": [
 {
		   "cell_type": "markdown",
	   "metadata": {},
	   "source": [
       "# Chapter 6: Vapour Pressure"
	   ]
	},
{
		   "cell_type": "markdown",
		   "metadata": {},
		   "source": [
			"## Example 6.1: Quality_of_steam.sce"
		   ]
		  },
  {
"cell_type": "code",
	   "execution_count": null,
	   "metadata": {
	    "collapsed": true
	   },
	   "outputs": [],
"source": [
"//clc()\n",
"P = 500;//kPa\n",
"SV = 0.2813;//m^3/kg\n",
"Vsaturatedl = 1.093 * 10^-3;//m^3/kg\n",
"Vsaturatedv = 0.3747;//m^3/kg\n",
"// let the fraction of vapour be y\n",
"//(1-y)*Vsaturatedl + y*Vsaturatedv = SV\n",
"//then we get, (1-y)*(1.093*10^-3) + y*(0.3747) = 0.2813\n",
"y = (SV - Vsaturatedl)/(Vsaturatedv - Vsaturatedl);\n",
"P1 = y * 100;\n",
"P2 = 100 - P1;\n",
"disp('%',P1,'Percentage of Vapour = ')\n",
"disp('%',P2,'Percentage of Liquid = ')"
   ]
   }
,
{
		   "cell_type": "markdown",
		   "metadata": {},
		   "source": [
			"## Example 6.2: Calculation_of_vapour_pressure.sce"
		   ]
		  },
  {
"cell_type": "code",
	   "execution_count": null,
	   "metadata": {
	    "collapsed": true
	   },
	   "outputs": [],
"source": [
"//clc()\n",
"T1 = 363;//K\n",
"T2 = 373;//K\n",
"P2s = 101.3;//kPa\n",
"J = 2275 * 18;//kJ/kmol\n",
"R = 8.314;//kJ/kmolK\n",
"//ln (P2s/P1s) = J * (1/T1 - 1/T2) / R\n",
"P1s = P2s/exp(J * (1/T1 - 1/T2) / R);\n",
"disp('kPa',P1s,'Vapour pressure of water at 363 K = ')"
   ]
   }
,
{
		   "cell_type": "markdown",
		   "metadata": {},
		   "source": [
			"## Example 6.3: Clausius_Clapeyron_equation_for_acetone.sce"
		   ]
		  },
  {
"cell_type": "code",
	   "execution_count": null,
	   "metadata": {
	    "collapsed": true
	   },
	   "outputs": [],
"source": [
"//clc()\n",
"P1s = 194.9;//kPa\n",
"P2s = 8.52;//kPa\n",
"T1 = 353;//K\n",
"T2 = 273;//K\n",
"T3 = 300;//K\n",
"Pair = 101.3;//kPa\n",
"//log (P2s/P1s) = J * (1/T1 - 1/T2) / R\n",
"//let J / R = L\n",
"L = log (P2s/P1s)/(1/T1 - 1/T2);\n",
"P3s = P1s * exp(L * (1/T1 - 1/T3)) ;\n",
"Ptotal = P3s + Pair;//at saturation vapour pressure = partial pressure\n",
"disp('kPa',Ptotal,'(a)Final pressure of the mixture = ')\n",
"MP = P3s * 100 / Ptotal;\n",
"// mole percent = moles of acetone * 100 / total moles\n",
"//= Partial pressure of acetone * 100 / total Pressure\n",
"disp('%',MP,'(b)Mole percent of acetone in the final mixture = ')"
   ]
   }
,
{
		   "cell_type": "markdown",
		   "metadata": {},
		   "source": [
			"## Example 6.4: Antoine_equation_for_n_heptane.sce"
		   ]
		  },
  {
"cell_type": "code",
	   "execution_count": null,
	   "metadata": {
	    "collapsed": true
	   },
	   "outputs": [],
"source": [
"//clc()\n",
"A = 13.8587;\n",
"B = 2911.32;\n",
"C = 56.56;\n",
"T1 = 325;//K\n",
"//Pressure at normal condition = 101.3kPa\n",
"P2 = 101.3;//kPa\n",
"//Antoine equation - lnP = A - B / (T - C)\n",
"lnP = A - (B / (T - C));\n",
"P1 = exp(lnP);\n",
"disp('kPa',P1,'(a)Vapour pressure of n-heptane at 325K = ')\n",
"T2 = B/(A - log(P2)) + C;\n",
"disp('K',T2,'(b)Normal boiling point of n-heptane = ')"
   ]
   }
,
{
		   "cell_type": "markdown",
		   "metadata": {},
		   "source": [
			"## Example 6.5: Cox_chart.sce"
		   ]
		  },
  {
"cell_type": "code",
	   "execution_count": null,
	   "metadata": {
	    "collapsed": true
	   },
	   "outputs": [],
"source": [
"//clc()\n",
"T = [273 293 313 323 333 353 373];\n",
"Ps = [0.61 2.33 7.37 12.34 19.90 47.35 101.3];\n",
"plot2d('ll',T,Ps,rect=[250,0.1,380,195]);\n",
"P = get('hdl');\n",
"xtitle('Construction of cox chart','Temperature, K','Pressure, kPa');\n",
"T1 = [273 353]\n",
"Ps1 = [8.52 194.9]\n",
"plot2d('ll',T1,Ps1);"
   ]
   }
,
{
		   "cell_type": "markdown",
		   "metadata": {},
		   "source": [
			"## Example 6.6: Duhring_line.sce"
		   ]
		  },
  {
"cell_type": "code",
	   "execution_count": null,
	   "metadata": {
	    "collapsed": true
	   },
	   "outputs": [],
"source": [
"//clc()\n",
"Pswater1 = 6.08;//kPa \n",
"T1 = 313;//K\n",
"//lnPs = 16.26205 - 3799.887/(T - 46.854)\n",
"Tb1 =3799.887/(16.26205 - log(Pswater1)) + 46.854;\n",
"disp('K',Tb1,'boiling point of water at 6.08kPa vapour pressure = ')\n",
"Pswater2 = 39.33;//kPa\n",
"T2 = 353;//K\n",
"Tb2 =3799.887/(16.26205 - log(Pswater2)) + 46.854;\n",
"disp('K',Tb2,'boiling point of water at 39.33 kPa vapour pressure = ')\n",
"Tb = [Tb1 Tb2];\n",
"T = [T1 T2];\n",
"plot(T,Tb);\n",
"xtitle('Equal pressure reference plot for sulphuric acid','Boiling point of solution,K','Boiling point of water, K');\n",
"T3 = 333;//K\n",
"//corresponding to T3 on x axis, on y we get\n",
"Tb3 = 329;//K\n",
"Pswater3 = exp(16.26205 - 3799.887/(Tb3 - 46.854));\n",
"disp('kPa',Pswater3,'Vapour pressure of solution at 333K')"
   ]
   }
],
"metadata": {
		  "kernelspec": {
		   "display_name": "Scilab",
		   "language": "scilab",
		   "name": "scilab"
		  },
		  "language_info": {
		   "file_extension": ".sce",
		   "help_links": [
			{
			 "text": "MetaKernel Magics",
			 "url": "https://github.com/calysto/metakernel/blob/master/metakernel/magics/README.md"
			}
		   ],
		   "mimetype": "text/x-octave",
		   "name": "scilab",
		   "version": "0.7.1"
		  }
		 },
		 "nbformat": 4,
		 "nbformat_minor": 0
}
