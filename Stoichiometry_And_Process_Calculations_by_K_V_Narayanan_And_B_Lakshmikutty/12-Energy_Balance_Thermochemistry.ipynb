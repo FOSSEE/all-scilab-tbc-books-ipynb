{
"cells": [
 {
		   "cell_type": "markdown",
	   "metadata": {},
	   "source": [
       "# Chapter 12: Energy Balance Thermochemistry"
	   ]
	},
{
		   "cell_type": "markdown",
		   "metadata": {},
		   "source": [
			"## Example 12.10: Standard_heat_of_reaction_calculation.sce"
		   ]
		  },
  {
"cell_type": "code",
	   "execution_count": null,
	   "metadata": {
	    "collapsed": true
	   },
	   "outputs": [],
"source": [
"//clc()\n",
"// C5H12(g) + 8O2(g) = 5CO2(g) + 6H20(l)\n",
"Hfco2 = -393.51;//kJ\n",
"Hfh2o = - 241.826;//kJ\n",
"Hfc5h12 = -146.4;//kJ\n",
"Hvap = 43.967;//kJ/mol\n",
"H1 = 6*Hfh2o +5*Hfco2 - Hfc5h12;\n",
"H2 = 6 * (-Hvap);\n",
"Hreac = H1 + H2;\n",
"disp('kJ',Hreac,'Standard heat of reaction = ')"
   ]
   }
,
{
		   "cell_type": "markdown",
		   "metadata": {},
		   "source": [
			"## Example 12.11: Constant_pressure_heat_of_combustion.sce"
		   ]
		  },
  {
"cell_type": "code",
	   "execution_count": null,
	   "metadata": {
	    "collapsed": true
	   },
	   "outputs": [],
"source": [
"//clc()\n",
"m = 1;//kg of oil burned\n",
"mc = 0.9;//kg\n",
"mh2 = 0.1;//kg\n",
"Mc = mc / 12;//kmol\n",
"//C(s) + O2(g) = CO2(g)\n",
"Nh2 = mh2 / 2.016;//kmol\n",
"//change in the no. of gaseous components accompanying the combustion of 1 mole of hydrogen in liquid state is -1/2 mol, therefore for Nh2 mol\n",
"R = 8.314;\n",
"T = 298;//K\n",
"x = Nh2 * R * T / (-2);\n",
"Qv = -43000;//kJ/kg\n",
"Qp = Qv + x;\n",
"disp('kJ/kg',Qp,'the constant pressure heat of combustion = ')"
   ]
   }
,
{
		   "cell_type": "markdown",
		   "metadata": {},
		   "source": [
			"## Example 12.12: Heat_of_reaction_for_ammonia_synthesis.sce"
		   ]
		  },
  {
"cell_type": "code",
	   "execution_count": null,
	   "metadata": {
	    "collapsed": true
	   },
	   "outputs": [],
"source": [
"//clc()\n",
"//1 - N2, 2 - H2, 3 - NH3\n",
"a1 = 27.31;\n",
"a2 = 29.09;\n",
"a3 = 25.48;\n",
"b1 = 5.2335*10^-3;\n",
"b2 = -8.374*10^-4;\n",
"b3 = 36.89 * 10^-3;\n",
"c1 = -4.1868 * 10^-9;\n",
"c2 = 2.0139*10^-6;\n",
"c3 = -6.305*10^-6;\n",
"H1 = -46191;//J\n",
"T1 = 298;//K\n",
"//1/2 N2 + 3/2 H2 = NH3               H = -46.191kJ\n",
"//Ht = H + a*T + b*T^2 / 2+ c*T^3 / 3\n",
"//at 298, \n",
"a = a3 - a1 / 2 - 3 * a2 / 2;\n",
"b = b3 - b1 / 2 - 3 * b2 / 2;\n",
"c = c3 - c1 / 2 - 3 * c2 / 2;\n",
"H = H1 -a * T1 - b * (T1^2) / 2 - c * (T1^3) / 3;\n",
"T2 = 700;//K\n",
"H2 = H + a * T2 + b * (T2^2) / 2 + c * (T2^3) / 3;\n",
"disp(H);\n",
"disp('kJ',H2,'Heat of reaction at 700K = ')"
   ]
   }
,
{
		   "cell_type": "markdown",
		   "metadata": {},
		   "source": [
			"## Example 12.13: Standard_heat_of_reaction_of_methanol_synthesis.sce"
		   ]
		  },
  {
"cell_type": "code",
	   "execution_count": null,
	   "metadata": {
	    "collapsed": true
	   },
	   "outputs": [],
"source": [
"//clc()\n",
"//CO(g) + 2H2(g) = CH3OH(g)\n",
"T1 = 298;//K\n",
"T2 = 1073;//K\n",
"//Cp(CH3OH) = 18.382 + 101.564 * 10^-3 * T - 28.683 * 10^-6 * T^2\n",
"//Cp(CO) = 28.068 + 4.631 * 10^-3 * T - 2.5773 * 10^4 * T^-2\n",
"//Cp(H2)  = 27.012 + 3.509 * 10^-3 * T + 6.9006 * 10^4 * T^-2\n",
"//for reactants,\n",
"H1 = integrate('28.068 + 4.631 * 10^-3 * T - 2.5773 * 10^4 * T^-2','T',T2,T1) + 2 * integrate('27.012 + 3.509 * 10^-3 * T + 6.9006 * 10^4 * T^-2','T',T2,T1);\n",
"//for product,\n",
"H2 = integrate('18.382 + 101.564 * 10^-3 * T - 28.683 * 10^-6 * T^2','T',T1,T2);\n",
"//H298 = Hproducts - Hreactants;\n",
"//CO + 2H2 = CH3OH            Ha1 = -238.64kJ\n",
"Ha1 = -238.64;//kJ\n",
"//CH3OH(l) = CH3OH(g)         Hvap = 37.98kJ\n",
"Hvap = 37.98;//kJ\n",
"//CO(g) + 2H2(g) = CH3OH(g)   Ha2 = -200.66kJ\n",
"Ha2 = Ha1 + Hvap;//kJ\n",
"Hco = -110.6;//kJ/mol\n",
"H298 = Ha2 - (Hco);\n",
"Htotal = H1/1000 + H298 + H2/1000;\n",
"disp('kJ/mol',Htotal,'The heat of reaction at 773K = ')"
   ]
   }
,
{
		   "cell_type": "markdown",
		   "metadata": {},
		   "source": [
			"## Example 12.14: Combustion_of_CO.sce"
		   ]
		  },
  {
"cell_type": "code",
	   "execution_count": null,
	   "metadata": {
	    "collapsed": true
	   },
	   "outputs": [],
"source": [
"//clc()\n",
"Nco = 1;//mol CO reacted\n",
"//CO + 1/2 O2 = CO2\n",
"No2 = Nco / 2;\n",
"Pexcess = 100;\n",
"Nosupp = No2 * ( 1 + Pexcess / 100 );//oxygen supplied\n",
"Nn2 = Nosupp * 79 / 21;\n",
"Nco2 = Nco;\n",
"Noremain = Nosupp - No2;\n",
"T1 = 298;//K\n",
"T2 = 400;//K\n",
"Hr1 = -282.99;//kJ\n",
"T3 = 600;//K\n",
"SHco = 29.1;//J/molK\n",
"SHo2 = 29.7;//J/molK\n",
"SHn2 = 29.10;//J/molK\n",
"SHco2 = 41.45;//J/molK\n",
"H1 = (Nosupp * SHo2 + Nn2 * SHn2 + Nco * SHco) * (T1 - T2);//enthalpy of cooling of reactants from 298 to 400 K\n",
"H2 = (Nco2 * SHco2 + Nn2 * SHn2 + Noremain * SHo2) * (T3 - T1);//enthalpy of heating the products from 298K to 600K\n",
"H = H1/1000 + Hr1 + H2/1000;\n",
"disp('kJ',H,'Heat change at 600K = ')"
   ]
   }
,
{
		   "cell_type": "markdown",
		   "metadata": {},
		   "source": [
			"## Example 12.15: Heat_added_or_removed_calculatio.sce"
		   ]
		  },
  {
"cell_type": "code",
	   "execution_count": null,
	   "metadata": {
	    "collapsed": true
	   },
	   "outputs": [],
"source": [
"//clc()\n",
"//CO(g) + H2O(g) = CO2(g) + H2(g)            H298 = -41.190\n",
"T1 = 298;//K\n",
"Pconv = 75;//%\n",
"T2 = 800;//K\n",
"H298 = -41.190;//kJ\n",
"Hco = 30.35;//J/molK\n",
"Hco2 = 45.64;//J/molK\n",
"Hwater = 36;//J/molK\n",
"Hh2 = 29.3;//J/molK\n",
"Nco = 1;//mol\n",
"Nh2o = 1;//mol\n",
"Ncofinal = Nco * (1 - Pconv/100);\n",
"Nwaterf = Ncofinal;\n",
"Nco2final = Nco - Ncofinal;\n",
"Nh2final = Nco2final;\n",
"H2 = (Nco2final * Hco2 + Nh2final * Hh2 + Ncofinal * Hco + Nwaterf * Hwater) * (T2 - T1);\n",
"Hr1 = H298 * (Nco - Ncofinal);\n",
"Hr2 = Hr1 * 1000 + H2;\n",
"mh2 = Nh2final * 2.016 * 10^-3;//kg\n",
"//therfore for 1000k H2,\n",
"Hr = Hr2 * 1000 / (mh2 * 1000);//kJ\n",
"disp('kJ',Hr,'Amount of heat change for 1000kg of hydrogen produced = ')"
   ]
   }
,
{
		   "cell_type": "markdown",
		   "metadata": {},
		   "source": [
			"## Example 12.16: CO2_O2_and_N2_passed_through_a_bed_of_C.sce"
		   ]
		  },
  {
"cell_type": "code",
	   "execution_count": null,
	   "metadata": {
	    "collapsed": true
	   },
	   "outputs": [],
"source": [
"//clc()\n",
"//CO2(g) + C(s) = 2CO(g)                H1298 = 170kJ/mol\n",
"//O2(g) + 2C(s) = 2CO(g)                H2298 = -221.2kJ/mol\n",
"T2 = 1298;//K\n",
"T1 = 298;//K\n",
"Hc = 0.02;//kJ/molK\n",
"Ho = 0.03;//kJ/molK\n",
"Hco = 0.03;//kJ/molK\n",
"Hco2 = 0.05;//kJ/molK\n",
"//let the flue gas contain x mol CO2 per mole of oxygen, product contains 2(1+x)mol CO. Nitrogen in reactant and product remain the same\n",
"//enthalpy of cooling xmol CO2, 1 mol O2 and 2 + xmol carbon from 1298 to 298K is given as, H1 = (Hco2 * x + Ho * 1 + Hc * (2 + x)) * (298 - 1298)\n",
"//H1 = (-70x - 70)kJ\n",
"//enthalpy of heating the product, H2 = 2 * ( 1 + x )* Hco * (1298 - 298)\n",
"//H2 = 60 + 60x kJ\n",
"//Hr = 170x - 221.2\n",
"//Htotal = 0 = H1 + H2 + Hr\n",
"x = (221.2 + 70 - 60)/(170 + 60 - 70);\n",
"disp('mol',x,'moles of CO2 present per mol of oxygen in feed stream = ')"
   ]
   }
,
{
		   "cell_type": "markdown",
		   "metadata": {},
		   "source": [
			"## Example 12.17: Partial_oxidation_of_natural_gas.sce"
		   ]
		  },
  {
"cell_type": "code",
	   "execution_count": null,
	   "metadata": {
	    "collapsed": true
	   },
	   "outputs": [],
"source": [
"//clc()\n",
"N = 100;//mol flue gas\n",
"//Carbon balance,\n",
"//x is the feed of methane, w is water in flue ga, y is the oxygen supplied\n",
"xco2 = 0.019;\n",
"xch2o = 0.117;\n",
"xo2 = 0.038;\n",
"xch4 = 0.826;\n",
"xc = xco2 + xch2o + xch4;\n",
"Nc = xc * N;\n",
"Nch4i = Nc;\n",
"//Hydrogen balance,\n",
"xh2 = xch2o + xch4*2;\n",
"w = 2 * (Nch4i) - xh2*N;\n",
"//oxygen balance\n",
"No2s = (xco2 + xch2o/2 + xo2)*N + w/2;\n",
"y = No2s;\n",
"T1 = 298;//K\n",
"T2 = 573;//K\n",
"T3 = 673;//K\n",
"//oxygen cooled from 573K and methane from 673 to 298K \n",
"Ho573 = 30.5;//J/molK\n",
"Hch4673 = 45.9;//J/molK\n",
"H1 = y * Ho573 * (T1 - T2) + Nch4i * Hch4673 * (T1 - T3);\n",
"//CH4 + O2 = CH2O + H2O        Hr1 = -282.926kJ\n",
"//CH4 + 2O2 = CO2 + 2H2O       Hr2 = -802.372kJ\n",
"Hr1 = -282.926;//kJ\n",
"Hr2 = -802.372;//kJ\n",
"H2 = xch2o*N*Hr1 + xco2*N*Hr2;\n",
"T4 = 873;//K\n",
"Ho = 31.9\n",
"Hch4 = 51.4;\n",
"Hco2 = 46.3;\n",
"Hch2o = 47.1;\n",
"Hh2o = 36.3;\n",
"H3 = ((xco2 * Hco2 + xo2 * Ho + xch4 * Hch4 + Hch2o*xch2o)*N + w * Hh2o)*(T4 - T1);\n",
"Htotal = H1/1000 + H2 + H3/1000;\n",
"Nch2o = xch2o * N;\n",
"mch2o = Nch2o * 30.016/1000;//kg\n",
"//for 1000 kg of formaldehyde produced,\n",
"H = Htotal * 1000 / mch2o;\n",
"disp('kJ',H,'The amount of heat to be removed per 1000kg of formaldehyde produced = ')"
   ]
   }
,
{
		   "cell_type": "markdown",
		   "metadata": {},
		   "source": [
			"## Example 12.18: Maximum_allowable_conversion_calculation.sce"
		   ]
		  },
  {
"cell_type": "code",
	   "execution_count": null,
	   "metadata": {
	    "collapsed": true
	   },
	   "outputs": [],
"source": [
"//clc()\n",
"Nn2 = 1;//kmol/s ( basis - feed conisting of 1 kmol of N2  and 3 kmol of H2 )\n",
"Nh2 = 3;//kmol/s\n",
"//let x be the fraction converted \n",
"T1 = 700;//K\n",
"Hr1 = -94.2;//kJ/mol\n",
"//heat liberated = Hr1 * x\n",
"//Product consists of 2x kmol NH3, (1-x)kmol N2, and 3(1-x)kmol Hydrogen\n",
"T2 = 800;//K\n",
"Hn2 = 0.03;//kJ/molK\n",
"Hh2 = 0.0289;//kJ/molK\n",
"Hnh3 = 0.0492;//kJ/molK\n",
"//H2 = (1-x)*0.03*10^3 * 100 + 3*(1-x)*0.0289*1000*100 + 2*x*0.0492*1000*100\n",
"//H2 = 11.67*1000 - 1.83*10^3*x kJ\n",
"//reaction is adiabatic, hence, H1 = H2\n",
"//solving this we get,\n",
"x = 0.1215;\n",
"Convmax = x * 100;\n",
"disp('%',Convmax,'The maximum conversion for nitrogen should be ')"
   ]
   }
,
{
		   "cell_type": "markdown",
		   "metadata": {},
		   "source": [
			"## Example 12.19: Theoretical_flame_temperature_calculatio.sce"
		   ]
		  },
  {
"cell_type": "code",
	   "execution_count": null,
	   "metadata": {
	    "collapsed": true
	   },
	   "outputs": [],
"source": [
"//clc()\n",
"Nco = 1;//mol CO\n",
"// CO + 1/2 O2 = CO2\n",
"O2r = 1;//mol\n",
"N2r = 3.76;//mol\n",
"COr = 1;//mol\n",
"O2p = 0.5;//mol\n",
"N2p = 3.76;//mol\n",
"CO2p = 1;//mol\n",
"Hco = 29.23;//J/molK\n",
"Ho2 = 34.83;//J/molK\n",
"Hn2 = 33.03;//J/molK\n",
"Hco2 = 53.59;//J/molK\n",
"Hcomb1 = -282.99;//kJ/mol\n",
"T1 = 298;//K\n",
"T2 = 373;//K\n",
"H1 = (O2r * Ho2 + N2r * Hn2 + COr * Hco) * (T1 - T2);\n",
"//For product at temp T, H2 = (O2p * Ho2 + N2p * Hn2 + CO2p * Hco2) * (T - T1) \n",
"//For adiabatic condition, -(H1 + Hcomb1) = H2\n",
"T = -(H1 + Hcomb1 * 1000) / (O2p * Ho2 + N2p * Hn2 + CO2p * Hco2) + T1;\n",
"disp('K',T,'Theoretical flame temperature = ')"
   ]
   }
,
{
		   "cell_type": "markdown",
		   "metadata": {},
		   "source": [
			"## Example 12.1: Heat_liberated_calculatio.sce"
		   ]
		  },
  {
"cell_type": "code",
	   "execution_count": null,
	   "metadata": {
	    "collapsed": true
	   },
	   "outputs": [],
"source": [
"//clc()\n",
"N = 100;//mol gas mixture burned\n",
"//CO(g) + 1/2 O2(g) = CO2 -                    Hr1 = - 282.91kJ/mol\n",
"//H2(g) + 1/2 O2(g) = H2O -                    Hr2 = - 241.83kJ/mol\n",
"Hr1 = - 282.91;//kJ/mol\n",
"Hr2 = - 241.83;//kJ/mol\n",
"Nco1 = 20;\n",
"Nh21 = 30;\n",
"Nn21 = 50;\n",
"Htotal = Nco1*Hr1 + Nh21*Hr2;\n",
"disp('kJ',-Htotal,'the amount of heat liberated on the complete combustion of 100mol of the gas mixture = ')\n",
"Ncoreac = Nco1 * 0.9;\n",
"Nh2reac = Nh21 * 0.8;\n",
"Htotal1 = Ncoreac*Hr1 + Nh2reac*Hr2;\n",
"disp('kJ',-Htotal1,'the amount of heat liberated if only 90% of CO and 80% of H2 react of 100mol of the gas mixture = ')"
   ]
   }
,
{
		   "cell_type": "markdown",
		   "metadata": {},
		   "source": [
			"## Example 12.20: Temperature_of_products_on_burning_of_hydrogen_gas.sce"
		   ]
		  },
  {
"cell_type": "code",
	   "execution_count": null,
	   "metadata": {
	    "collapsed": true
	   },
	   "outputs": [],
"source": [
"//clc()\n",
"N = 1;//kmol hydrogen burned\n",
"No = N/2;\n",
"Nosupplied = 2 * No;\n",
"Nair = Nosupplied * 100 / 21;\n",
"Nn2 = Nair - Nosupplied;\n",
"//Reactants, H2 = 1kmol, Air = 4.762 kmol\n",
"//Product, Water vapour = 1kmol, Oxygen = 0.5kmol, N2 = 3.762kmol\n",
"//Cp(water) = 30.475 + (9.652*10^-3)*T + 1.189 * 10^-6 * T^2\n",
"//Cp(nitrogen) = 27.034 + 5.815 * 10^-3 *T - 0.2889 * 10^-6 * T^2\n",
"//Cp(oxygen) = 25.611 + 13.260 * 10^-3 * T - 4.2077 * 10^-6 * T^2\n",
"//H2 = integration(298 to T of (1 * Cp(water) + 0.5 * Cp(oxygen) + 3.762 * Cp(nitrogen)))\n",
"//therefore, H2 = 140.34 * T + 31.222 * 10^-3 * T^2 - 4.928 * 10^-6 * T^2 - 44463.54 kJ\n",
"H298 = -241.826 * 10^3;//kJ\n",
"//H2 = -H1 - H298\n",
"//H1 = 0\n",
"//therefore using equation H2, the value of T is obtained to be\n",
"T = 1609.8;//K\n",
"disp('K',T,'Temperature of the reaction products = ')"
   ]
   }
,
{
		   "cell_type": "markdown",
		   "metadata": {},
		   "source": [
			"## Example 12.2: Heat_of_formation_of_methane.sce"
		   ]
		  },
  {
"cell_type": "code",
	   "execution_count": null,
	   "metadata": {
	    "collapsed": true
	   },
	   "outputs": [],
"source": [
"//clc()\n",
"//C(s) + 2H2(g) = CH4(g)          Hf = ?\n",
"Hc = -393.51;//kJ/mol\n",
"Hh2 = -285.84;//kJ/mol\n",
"Hch4 = - 890.4;//kJ/mol\n",
"//heat of reaction can be calculated from the heat of combustion data using following equation, the heat of reaction is the sum of the heat of combustion of all the reactants in the desired reaction minus the sum of the heat of combustion of all the products of the desired reaction. Here the reactants are one mole of Carbon and two moles hydrogen, and the product is one mole of methane,there heat of reaction is\n",
"Hf = 1 * Hc + 2 * Hh2 - 1 * Hch4;\n",
"disp('kJ',Hf,'Heat of formation of methane = ')"
   ]
   }
,
{
		   "cell_type": "markdown",
		   "metadata": {},
		   "source": [
			"## Example 12.3: Net_heating_value_of_coal.sce"
		   ]
		  },
  {
"cell_type": "code",
	   "execution_count": null,
	   "metadata": {
	    "collapsed": true
	   },
	   "outputs": [],
"source": [
"//clc()\n",
"m = 1;//kg of coal burned\n",
"xc = 0.7;\n",
"xh2 = 0.055;\n",
"xn2 = 0.015;\n",
"xs = 0.03;\n",
"xo = 0.13;\n",
"xash = 0.07;\n",
"Hvap = 2370;//kJ/kg\n",
"C = 29000;//kJ/kg\n",
"Nh2 = xh2 * m / 2.016;\n",
"Nwater = Nh2;// ( amount of water formed )\n",
"mwater = Nwater * 18.016;\n",
"Hreq = mwater * Hvap;\n",
"Hnet = C - Hreq;\n",
"disp('kJ/kg',Hnet,'Net heating value of coal = ')"
   ]
   }
,
{
		   "cell_type": "markdown",
		   "metadata": {},
		   "source": [
			"## Example 12.4: Heat_of_reaction_for_esterification_of_ethyl_alcohol.sce"
		   ]
		  },
  {
"cell_type": "code",
	   "execution_count": null,
	   "metadata": {
	    "collapsed": true
	   },
	   "outputs": [],
"source": [
"//clc()\n",
"//C2H5OH(l) + CH3COOH(l) = C2H5COOCH3(l) + H2O(l) H = ?\n",
"Hc2h5oh = -1366.91;//kJ/mol\n",
"Hch3cooh = -871.69;//kJ/mol\n",
"Hc2h5cooch3 = -2274.48;//kJ/mol\n",
"//to calculate heat of reaction from the heat of combustion data , \n",
"//Hreac = Hreac - Hprod\n",
"Hreac = Hc2h5oh + Hch3cooh - Hc2h5cooch3;\n",
"disp('kJ',Hreac,'Heat of reaction for the esterification of ethyl alcohol with acetic acid = ')"
   ]
   }
,
{
		   "cell_type": "markdown",
		   "metadata": {},
		   "source": [
			"## Example 12.5: Vapour_phase_hydration_of_ethylene_to_ethanol.sce"
		   ]
		  },
  {
"cell_type": "code",
	   "execution_count": null,
	   "metadata": {
	    "collapsed": true
	   },
	   "outputs": [],
"source": [
"//clc()\n",
"//C2H4(g) + H2O(g) = C2H5OH(g)\n",
"//2CO2(g) + 3H2O(l) = C2H5OH(l) + 3O2(g)     H = 1366.91kJ  (A)\n",
"Hc2h4 = -1410.99;//kJ/mol\n",
"Hvap = 44.04;//kJ/mol\n",
"Hc2h5oh = 42.37;//kJ/mol\n",
"//C2H4(g) + 3H2O(l) = C2H5OH(l) + 3O2(g)     H = -1410.99kJ (B)\n",
"//H2O(l) = H2O(g)                            H = 44.04kJ    (C)\n",
"//C2H5OH(l) = C2H5OH(g)                      H = 42.37kJ    (D)\n",
"//A + B + D - C gives the required reaction\n",
"Ha = 1366.91;//kJ\n",
"Hb = -1410.99;//kJ\n",
"Hc = 44.04;//kJ\n",
"Hd = 42.37;//kJ\n",
"Hreac = Ha + Hb + Hd - Hc;\n",
"disp('kJ',Hreac,'The standard heat of reaction = ')"
   ]
   }
,
{
		   "cell_type": "markdown",
		   "metadata": {},
		   "source": [
			"## Example 12.6: Standard_heat_of_formation_of_acetylene.sce"
		   ]
		  },
  {
"cell_type": "code",
	   "execution_count": null,
	   "metadata": {
	    "collapsed": true
	   },
	   "outputs": [],
"source": [
"//clc()\n",
"//C2H5(g) + 5/2O2(g) = 2CO2(g) + H2O(l)             H1 = -1299.6kJ    (A)\n",
"//C(s) + O2(g) = CO2(g)                             H2 = -393.51kJ    (B)\n",
"//H2(g) + 1/2O2(g) = H2O(l)                         H3 = -285.84kJ    (C)\n",
"//2C(s) + H2(g) = C2H2(g)                           H = ?\n",
"H1 = -1299.6;//kJ\n",
"H2 = -393.51;//kJ\n",
"H3 = -285.84;//kJ\n",
"Hreac = 2 * H2 + H3 - H1;\n",
"disp('kJ',Hreac,'Heat of formation of acetylene = ')"
   ]
   }
,
{
		   "cell_type": "markdown",
		   "metadata": {},
		   "source": [
			"## Example 12.7: Standard_heat_of_roasting_of_iron_pyrites.sce"
		   ]
		  },
  {
"cell_type": "code",
	   "execution_count": null,
	   "metadata": {
	    "collapsed": true
	   },
	   "outputs": [],
"source": [
"//clc()\n",
"m = 100;//kg of pyrites charged\n",
"xfes2in = 0.8;\n",
"xganguein = 0.2;\n",
"xfes2out = 0.05;\n",
"//let x be the FeS2 in the feed, then, Fe2O3 = (80 - x)*159.69 / (119.98*2) and gangue = 20, total = 73.24 + 0.3345, be FeS2 is only 5 % in the product, hence\n",
"x = 0.05 * 73.24 / (1 - 0.05*0.3345);\n",
"mfes2reacted = m*xfes2in - x;\n",
"//4FeS2 + 11O2 = 2Fe2O3 + 8SO2\n",
"Hfes2 = -178.02;//kJ/mol\n",
"Hfe2o3 = -822.71;//kJ/mol\n",
"Hso2 = -296.9;//kJ/mol\n",
"Hreac = 2 * Hfe2o3 + 8 * Hso2 - 4 * Hfes2;\n",
"N = mfes2reacted *1000/ 119.98;\n",
"H = Hreac * N / 4;\n",
"H1 = H/m;//(heat of reaction per kg of coal burnt)\n",
"disp('kJ',H1,'Heat of reaction per 1 kg of coal burned = ')"
   ]
   }
,
{
		   "cell_type": "markdown",
		   "metadata": {},
		   "source": [
			"## Example 12.8: Standard_heat_of_formation_of_liquid_methanol.sce"
		   ]
		  },
  {
"cell_type": "code",
	   "execution_count": null,
	   "metadata": {
	    "collapsed": true
	   },
	   "outputs": [],
"source": [
"//clc()\n",
"//CH3OH(l) + 3/2O2(g) = CO2(g) + 2H2O(l)         H = -726.55kJ\n",
"H1 = -726.55;//kJ\n",
"Hco2 = -393.51;//kJ/mol\n",
"Hh2o = -285.84;//kJ/mol\n",
"Hch3oh = Hco2 + 2 * Hh2o - H1;\n",
"disp('kJ',Hch3oh,'Heat of formation of liquid methanol = ')"
   ]
   }
,
{
		   "cell_type": "markdown",
		   "metadata": {},
		   "source": [
			"## Example 12.9: Gross_heating_value_and_Net_heating_value_calculation.sce"
		   ]
		  },
  {
"cell_type": "code",
	   "execution_count": null,
	   "metadata": {
	    "collapsed": true
	   },
	   "outputs": [],
"source": [
"//clc()\n",
"N = 100;//mol fuel gas\n",
"Nco = 21;\n",
"Nh2 = 15.6;\n",
"Nco2 = 9.0;\n",
"Nch4 = 2;\n",
"Nc2h4 = 0.4;\n",
"Nn2 = 52;\n",
"Hco = 282.99;//kJ/mol ( heat of combustion )\n",
"Hh2 = 285.84;//kJ/mol ( heat of combustion )\n",
"Hch4 = 890.4;//kJ/mol ( heat of combustion )\n",
"Hc2h4 = 1410.99;//kJ/mol ( heat of combustion )\n",
"Hvap = 44.04;//kJ/mol\n",
"H = Nco * Hco + Nh2 * Hh2 + Nch4*Hch4 + Nc2h4*Hc2h4;//kJ\n",
"V = N * 22.4143/1000;\n",
"H1 = H / V;//kJ/m^3\n",
"//on combustion, 1 mol hydrogen gives 1 mol of water, 1 mol of methane gives 2 mol of water and 1 mol of ethylene gives 2 moles of water\n",
"Nwater = Nh2 + 2 * Nch4 + 2 * Nc2h4;\n",
"Hvap1 = Hvap * Nwater;\n",
"Hnet = H1 - Hvap1;\n",
"disp('kJ',Hnet,'Net heating value of the fuel = ')"
   ]
   }
],
"metadata": {
		  "kernelspec": {
		   "display_name": "Scilab",
		   "language": "scilab",
		   "name": "scilab"
		  },
		  "language_info": {
		   "file_extension": ".sce",
		   "help_links": [
			{
			 "text": "MetaKernel Magics",
			 "url": "https://github.com/calysto/metakernel/blob/master/metakernel/magics/README.md"
			}
		   ],
		   "mimetype": "text/x-octave",
		   "name": "scilab",
		   "version": "0.7.1"
		  }
		 },
		 "nbformat": 4,
		 "nbformat_minor": 0
}
