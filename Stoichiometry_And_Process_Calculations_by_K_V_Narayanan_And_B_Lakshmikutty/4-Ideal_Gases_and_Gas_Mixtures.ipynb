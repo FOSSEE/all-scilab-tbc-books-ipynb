{
"cells": [
 {
		   "cell_type": "markdown",
	   "metadata": {},
	   "source": [
       "# Chapter 4: Ideal Gases and Gas Mixtures"
	   ]
	},
{
		   "cell_type": "markdown",
		   "metadata": {},
		   "source": [
			"## Example 4.10: Absorption_column_for_H2S.sce"
		   ]
		  },
  {
"cell_type": "code",
	   "execution_count": null,
	   "metadata": {
	    "collapsed": true
	   },
	   "outputs": [],
"source": [
"//clc()\n",
"V = 100;//m^3\n",
"P = 600;//kPa\n",
"T = 310;//K\n",
"per1 = 20;//% ( H2S entering )\n",
"per2 = 2;//% ( H2S leaving )\n",
"Pstp = 101.325;//kPa\n",
"Tstp = 273.15;//K\n",
"Vstp = 22.414;//m^3/kmol\n",
"Vstp1 = V * P * Tstp / ( T * Pstp)\n",
"N = Vstp1 / Vstp;\n",
"N1 = N * per1 / 100;\n",
"N2 = N - N1;// ( 2 = inerts)\n",
"Nleaving = N2 / ( 1 - per2 / 100);\n",
"N1leaving = per2 * Nleaving / 100;\n",
"mabsorbed = (N1 - N1leaving) * 34.08;//( molecular wt. = 34.08)\n",
"mgiven = 100;//kg/h\n",
"Vactual = mgiven * V / mabsorbed;\n",
"Nactual = Nleaving * Vactual / V;// actual moles leaving\n",
"Vstpl = Nactual * Vstp;// volume leaving at STP\n",
"P2 = 500;//kPa\n",
"T2 = 290;//K\n",
"V2 = Vstpl * Pstp * T2 / ( P2 * Tstp);\n",
"Precovery = (N1 - N1leaving)*100 / N1;\n",
"disp('m^3/h',Vactual,'(a)Volume of gas entering per hour')\n",
"disp('m^3/h',V2,'(b)Volume of gas leaving per hour')\n",
"disp('%',Precovery,'(c)Percentage recovery of H2S')"
   ]
   }
,
{
		   "cell_type": "markdown",
		   "metadata": {},
		   "source": [
			"## Example 4.11: Reaction_stoichiometry_for_preparation_of_ammonia.sce"
		   ]
		  },
  {
"cell_type": "code",
	   "execution_count": null,
	   "metadata": {
	    "collapsed": true
	   },
	   "outputs": [],
"source": [
"//clc()\n",
"//N2 + 3H2 = 2NH3\n",
"V1 = 100;//m^3 ( 1 = N2)\n",
"V2 = V1 * 3;// ( According to Avagadros principle, equal volumes of all gases under similar condition contains same no. of moles)\n",
"disp('m^3',V2,'(a)Volume of hydrogen required at same condition = ')\n",
"P1 = 20;//bar\n",
"T1 = 350;//K\n",
"P2 = 5;//bar\n",
"T2 = 290;//K\n",
"V3 = 3 * V1 * P1 * T2 / ( P2 * T1);\n",
"disp('m^3',V3,'(b)Volume required at 50 bar and 290K = ')\n",
"m = 1000;//kg ( ammonia )\n",
"N = m / 17.03;//kmol\n",
"N1 = N/2;// ( nitrogen)\n",
"N2 = N * 3 / 2;//(hydrogen)\n",
"P3 = 50;//bar\n",
"T3 = 600;//K\n",
"Pstp = 1.01325;//bar\n",
"Tstp = 273.15;//K\n",
"Vstp = 22.414;//m^3/kmol\n",
"V1stp = N1 * Vstp;\n",
"V4 = V1stp * Pstp * T3 / (P3 * Tstp);// ( nitrogen at 50 bar and 600K)\n",
"V5 = V4 * 2 ;// ( ammonia at 50 bar and 600K)\n",
"V6 = V4 * 3 ;// ( hydrogen at 50 bar and 600K)\n",
"disp('m^3',V4,'(c)Volume of nitrogen at 50 bar and 600K')\n",
"disp('m^3',V6,'   Volume of hydrogen at 50 bar and 600K')\n",
"disp('m^3',V5,'   Volume of ammonia at 50 bar and 600K')"
   ]
   }
,
{
		   "cell_type": "markdown",
		   "metadata": {},
		   "source": [
			"## Example 4.12: Reaction_stoichiometry_for_preparation_of_producer_gas.sce"
		   ]
		  },
  {
"cell_type": "code",
	   "execution_count": null,
	   "metadata": {
	    "collapsed": true
	   },
	   "outputs": [],
"source": [
"//clc()\n",
"N = 100;//kmol producer gas\n",
"P1 = 25;//% ( Carbon monoxide )\n",
"P2 = 4;//% ( Carbon Dioxide )\n",
"P3 = 3;//% ( Oxygen )\n",
"P4 = 68;//% ( Nitrogen )\n",
"N1 = N * P1/100;\n",
"N2 = N * P2/100;\n",
"N3 = N * P3/100;\n",
"N4 = N * P4/100;\n",
"NC = N1 + N2;\n",
"m = NC * 12;\n",
"Ngas = N / m;//moles of gas for 1 kg of Carbon\n",
"Vstp = 22.4143;//m^3/kmol\n",
"Vstp1 = Vstp * Ngas;\n",
"P = 1;//bar\n",
"T = 290;//k\n",
"Pstp = 1.01325;//bar\n",
"Tstp = 273.15;//K\n",
"V = T * Vstp1 * Pstp / (Tstp * P );\n",
"disp('m^3',V,'(a)Volume of gas at 1 bar and 290 K per kg Carbon = ')\n",
"//CO + 1/2 * O2 = CO2\n",
"Nrequired  = N1/2 - N3;//(oxygen required)\n",
"Nsupplied = Nrequired * 1.2;\n",
"PO1 = 21;//% ( Oxygen percent in air)\n",
"Nair = Nsupplied * 100/PO1;\n",
"V1 = 100;//m^3;\n",
"Vair = V1 * Nair / N;\n",
"disp('m^3',Vair,'(b)Volume of air required = ')\n",
"NCO2 = N2 + N1;\n",
"NO2 = Nsupplied - Nrequired;\n",
"NN2 = N4 + (Vair * (1 - PO1/ 100));\n",
"Ntotal = NCO2 + NO2 + NN2;\n",
"PCO2 = NCO2 * 100 / Ntotal;\n",
"PO2 = NO2 * 100 / Ntotal;\n",
"PN2 = NN2 * 100 / Ntotal;\n",
"disp('%',PCO2,'Percent composition of Carbon Dioxide = ')\n",
"disp('%',PO2,'Percent composition of Oxygen = ')\n",
"disp('%',PN2,'Percent composition of Nitrogen = ')"
   ]
   }
,
{
		   "cell_type": "markdown",
		   "metadata": {},
		   "source": [
			"## Example 4.13: Reaction_stoichiometry_for_preparation_of_Chlorine_from_HCl.sce"
		   ]
		  },
  {
"cell_type": "code",
	   "execution_count": null,
	   "metadata": {
	    "collapsed": true
	   },
	   "outputs": [],
"source": [
"//clc()\n",
"//4HCl + O2 = 2Cl2 + 2H2O\n",
"n = 1;//mol ( Basis 1 mol of HCl )\n",
"NO2 = n / 4;\n",
"NO2supp = 1.5 * NO2;\n",
"Nair = NO2supp * 100 / 21;\n",
"V = 100;//m^3\n",
"Vair = V * Nair / n;\n",
"disp('m^3',Vair,'(a)Volume of air admitted = ')\n",
"P1 = 80;//% ( HCl converted)\n",
"Ncon = n * P1 /100;\n",
"N2 = Ncon/4;// oxygen required\n",
"NH2O = Ncon / 2;\n",
"NCl2 = Ncon / 2;\n",
"nHCl = n - Ncon;\n",
"nO2 = NO2supp - N2;\n",
"Nnitro = Nair - NO2supp;\n",
"Ntotal = nHCl + nO2 + NH2O + NCl2 + Nnitro;\n",
"V1 = V * Ntotal;\n",
"P1 = 1;//bar\n",
"T1 = 290;//K\n",
"P2 = 1.2;//bar\n",
"T2 = 400;//K\n",
"V2 = V1 * P1 * T2 / ( P2 * T1);\n",
"disp('m^3',V2,'(b)Volume of gas leaving = ')\n",
"VCl2 = NCl2 * V;\n",
"Pstp = 1.01325;//bar\n",
"Tstp = 273;//K\n",
"Vstp = 22.4143;//m^3/kmol\n",
"Vstp1 = Tstp * P1 * VCl2 / (T1 * Pstp);\n",
"Nstp = Vstp1/Vstp;\n",
"m = Nstp * 70.90;\n",
"disp('kg',m,'(c)Kilograms of Chlorine produced = ')\n",
"Ntotaldry = nHCl + nO2 + NCl2 + Nnitro;//dry basis\n",
"p1 = nHCl*100/Ntotaldry;\n",
"p2 = nO2*100/Ntotaldry;\n",
"p3 = NCl2*100/Ntotaldry;\n",
"p4 = Nnitro*100/Ntotaldry;\n",
"disp('%',p1,'(d)Percent composition of HCl in exit stream = ')\n",
"disp('%',p2,'   Percent composition of Oxygen in exit stream = ')\n",
"disp('%',p3,'   Percent composition of Chlorine in exit stream = ')\n",
"disp('%',p4,'   Percent composition of nitrogen in exit stream = ')"
   ]
   }
,
{
		   "cell_type": "markdown",
		   "metadata": {},
		   "source": [
			"## Example 4.14: Reaction_stoichiometry_for_dissociation_of_Carbon_Dioxide.sce"
		   ]
		  },
  {
"cell_type": "code",
	   "execution_count": null,
	   "metadata": {
	    "collapsed": true
	   },
	   "outputs": [],
"source": [
"//clc()\n",
"// CO2 = CO + 1/2 * O2\n",
"P1 = 1;//bar\n",
"T1 = 3500;//K\n",
"P2 = 1;//bar\n",
"T2 = 300;//K\n",
"V2 = 25;//L\n",
"V1 = V2 * P2 * T1 / ( P1 * T2 );\n",
"disp('L',V1,'(a)Final volume of gas if no dissociation occured = ')\n",
"Pstp = 1.01325;//bar\n",
"Tstp = 273;//K\n",
"Vstp = 22.4143;//m^3\n",
"N2 = V2 * P2 * Tstp / ( Vstp * Pstp * T2);\n",
"// let x be the fraction dissociated, then after dissociation,\n",
"// CO2 = (1 - x)mol, CO = xmol, O2 = (0.5*x)mol\n",
"//total moles = 1 - x + x + o.5 * x = 1 + 0.5 * x \n",
"V = 350;//L\n",
"N1 = V * P1 * Tstp / (Vstp * Pstp * T1);\n",
"// 1 + 0.5 * x = N1, therefore\n",
"x = (N1 - 1) / 0.5 ;\n",
"p = x*100;\n",
"disp('%',p,'(b)CO2 converted = ')"
   ]
   }
,
{
		   "cell_type": "markdown",
		   "metadata": {},
		   "source": [
			"## Example 4.1: gas_constant_R.sce"
		   ]
		  },
  {
"cell_type": "code",
	   "execution_count": null,
	   "metadata": {
	    "collapsed": true
	   },
	   "outputs": [],
"source": [
"//clc()\n",
"P1 = 760;//mmHg\n",
"T1 = 273.15;//K\n",
"V1 = 22.4143 * 10^-3;//m^3/mol\n",
"R1 = P1 * V1 / T1;\n",
"disp('m^3 mmHg / (molK)',R1,'Gas constant R =')\n",
"P2 = 101325;//N/m^2\n",
"T2 = 273.15;//K\n",
"V2 = 22.4143 * 10^-3;//m^3/mol\n",
"R2 = P2 * V2 / T2;//J/molK\n",
"R3 = R2 / 4.184;//cal/molK\n",
"disp('cal/molK',R3,'Gas constant R in MKS system =')"
   ]
   }
,
{
		   "cell_type": "markdown",
		   "metadata": {},
		   "source": [
			"## Example 4.2: Molar_volume_of_air.sce"
		   ]
		  },
  {
"cell_type": "code",
	   "execution_count": null,
	   "metadata": {
	    "collapsed": true
	   },
	   "outputs": [],
"source": [
"//clc()\n",
"T = 350;//K\n",
"P = 1;//bar\n",
"V1 = 22.4143 * 10^-3;//m^3 (suffix 1 represents at STD)\n",
"P1 = 1.01325;//bar\n",
"T1 = 273.15;//K\n",
"V = P1 * V1 * T/(T1 * P);\n",
"disp('m^3/mol',V,'Molar volume =')"
   ]
   }
,
{
		   "cell_type": "markdown",
		   "metadata": {},
		   "source": [
			"## Example 4.3: Ideal_gas_equatio.sce"
		   ]
		  },
  {
"cell_type": "code",
	   "execution_count": null,
	   "metadata": {
	    "collapsed": true
	   },
	   "outputs": [],
"source": [
"//clc()\n",
"P = 10;//bar\n",
"T = 300;//K\n",
"V = 150;//L\n",
"P1 = 1.01325;//bar ( \suffix 1 represents at STD)\n",
"T1 = 273.15;//K\n",
"V2 = T1 * P * V /(T * P1);//m^3\n",
"V1 = 22.4143;//m^3/mol\n",
"N = V2 / V1;//mol\n",
"MO2 = 32;\n",
"m = N * MO2/1000;\n",
"disp('kg',m,'Mass of oxygen in the cylinder = ')"
   ]
   }
,
{
		   "cell_type": "markdown",
		   "metadata": {},
		   "source": [
			"## Example 4.4: Maximum_allowable_temperature_of_tyre.sce"
		   ]
		  },
  {
"cell_type": "code",
	   "execution_count": null,
	   "metadata": {
	    "collapsed": true
	   },
	   "outputs": [],
"source": [
"//clc()\n",
"P = 195;//kPa\n",
"T = 273;//K\n",
"P1 = 250;//kPa\n",
"T1 = P1 * T / P;\n",
"disp('K',T1,'Maximum temperature to which tyre may be heated = ')"
   ]
   }
,
{
		   "cell_type": "markdown",
		   "metadata": {},
		   "source": [
			"## Example 4.5: Pressure_calculatio.sce"
		   ]
		  },
  {
"cell_type": "code",
	   "execution_count": null,
	   "metadata": {
	    "collapsed": true
	   },
	   "outputs": [],
"source": [
"//clc()\n",
"V = 250;//L\n",
"T = 300;//K\n",
"V1 = 1000;//L\n",
"P1 = 100;//kPa\n",
"T1 = 310;//K\n",
"P = T * P1 * V1 /(T1 * V);\n",
"disp('kPa',P,'Original pressure in the cylinder = ')"
   ]
   }
,
{
		   "cell_type": "markdown",
		   "metadata": {},
		   "source": [
			"## Example 4.6: weight_composition_and_density_calculation.sce"
		   ]
		  },
  {
"cell_type": "code",
	   "execution_count": null,
	   "metadata": {
	    "collapsed": true
	   },
	   "outputs": [],
"source": [
"//clc()\n",
"Vper1 = 70;//% ( 1 = HCl)\n",
"Vper2 = 20;//% ( 2 = Cl2)\n",
"Vper3 = 10;//% ( 3 = CCl4)\n",
"M1 = 36.45;\n",
"M2 = 70.90;\n",
"M3 = 153.8;\n",
"m1 = Vper1 * M1;\n",
"m2 = Vper2 * M2;\n",
"m3 = Vper3 * M3;\n",
"mper1 = m1 * 100/(m1+ m2 + m3);\n",
"mper2 = m2 * 100/(m1+ m2 + m3);\n",
"mper3 = m3 * 100/(m1+ m2 + m3);\n",
"disp(mper1,' (a) weight percent of HCl= ')\n",
"disp(mper2,'weight percent of Cl2= ')\n",
"disp(mper3,'weight percent of CCl4= ')\n",
"m = (m1 + m2 + m3)/(Vper1 + Vper2 + Vper3);\n",
"disp('kg',m,'(b)average molecular weight = ')\n",
"v = 22.4143;//m^3/kmol\n",
"Vtotal = v * (Vper1 + Vper2 + Vper3);\n",
"D = (m1 + m2 + m3)/Vtotal;\n",
"disp('kg/m^3',D,'(c)Density at standard condiions = ')"
   ]
   }
,
{
		   "cell_type": "markdown",
		   "metadata": {},
		   "source": [
			"## Example 4.7: calculations_for_natural_gas.sce"
		   ]
		  },
  {
"cell_type": "code",
	   "execution_count": null,
	   "metadata": {
	    "collapsed": true
	   },
	   "outputs": [],
"source": [
"//clc()\n",
"per1 = 93;//% ( 1 = methane)\n",
"per2 = 4.5;//% (2 = ethane)\n",
"per3 = 100 - (per1 + per2);//% ( 3 = N2);\n",
"T = 300;//K\n",
"p = 400;//kPa\n",
"P3 = p * per3 / 100;\n",
"v = 10;//m^3\n",
"V2 = per2 * v / 100;\n",
"M1 = 16.032;\n",
"M2 = 30.048;\n",
"M3 = 28;\n",
"N1 = per1;\n",
"N2 = per2;\n",
"N3 = per3;\n",
"m1 = M1 * N1;\n",
"m2 = M2 * N2;\n",
"m3 = M3 * N3;\n",
"m = m1 + m2 + m3;\n",
"Vstp = 100 * 22.4143 * 10^-3;//m3 at STP\n",
"D = m /(1000 * Vstp);\n",
"Pstp = 101.325;//kPa\n",
"T1 = 273.15;//K\n",
"V = T * Pstp * Vstp / ( T1 * p);\n",
"D1 = m /(1000 * V);\n",
"Mavg = m /100;\n",
"mper1 = m1 * 100 / (m1 + m2 + m3);\n",
"mper2 = m2 * 100 / (m1 + m2 + m3);\n",
"mper3 = m3 * 100 / (m1 + m2 + m3);\n",
"disp('kPa',P3,'(a) Partial pressure of nitrogen = ')\n",
"disp('m^3',V2,'(b) pure-component volume of ethane = ')\n",
"disp('kg/m^3',D,'(c) Density at standard conditions = ')\n",
"disp('kg/m^3',D1,'(d) Density at given condition = ')\n",
"disp(Mavg,'(e) Average molecular weight = ')\n",
"disp('%',mper1,'(f) weight percent of Methane = ')\n",
"disp('%',mper2,'weight percent of Ethane = ')\n",
"disp('%',mper3,'weight percent of Nitrogen = ')"
   ]
   }
,
{
		   "cell_type": "markdown",
		   "metadata": {},
		   "source": [
			"## Example 4.8: Volume_of_gas_from_absorption_columnn.sce"
		   ]
		  },
  {
"cell_type": "code",
	   "execution_count": null,
	   "metadata": {
	    "collapsed": true
	   },
	   "outputs": [],
"source": [
"//clc()\n",
"per1 = 20;//% ( 1 = ammonia)\n",
"Vstp = 22.4143;//m^3/kmol\n",
"Pstp = 101.325;//kPa\n",
"Tstp = 273.15;//K\n",
"V1 = 100;//m^3\n",
"P1 = 120;//kPa\n",
"T1 = 300;//K\n",
"P2 = 100;//kPa\n",
"T2 = 280;//K\n",
"per2 = 90;//% (absorbed)\n",
"N = V1 * P1 * Tstp / (Vstp * Pstp * T1);//kmol\n",
"Nair = (1 - per1 / 100) * N;\n",
"N1 = per1 * N/100;\n",
"Nabs = per2 * N1 / 100;\n",
"N2 = N1 - Nabs;//leaving\n",
"Ntotal = Nair + N2;\n",
"Vstp1 = Ntotal * Vstp;//m^3\n",
"V2 = Vstp1 * Pstp * T2 / (Tstp * P2);\n",
"disp('m^3',V2,'Volume of gas leaving = ' )"
   ]
   }
,
{
		   "cell_type": "markdown",
		   "metadata": {},
		   "source": [
			"## Example 4.9: dehumidificatio.sce"
		   ]
		  },
  {
"cell_type": "code",
	   "execution_count": null,
	   "metadata": {
	    "collapsed": true
	   },
	   "outputs": [],
"source": [
"//clc()\n",
"V = 100;//m^3\n",
"Ptotal = 100;//kPa\n",
"Pwater = 4;//kPa\n",
"Pair = Ptotal - Pwater;\n",
"T = 300;//K\n",
"T1 = 275;//K\n",
"Vstp = 22.4143;//m^3/kmol\n",
"Tstp = 273.15;//K\n",
"Pstp = 101.325;//kPa\n",
"Pwater1 = 1.8;//kPa\n",
"Pair1 = Ptotal - Pwater1;\n",
"V1 = V * Pair * T1 / ( T * Pair1);\n",
"Nwater = V * Pwater * Tstp/ (Vstp * Pstp * T);\n",
"Nwater1 = V1 * Pwater1 * Tstp/ (Vstp * Pstp * T1);\n",
"m = (Nwater - Nwater1) * 18.02;\n",
"disp('m^3',V1,'(a) volume of air after dehumidification = ')\n",
"disp('kg',m,'(b) Mass of water vapour removed = ')"
   ]
   }
],
"metadata": {
		  "kernelspec": {
		   "display_name": "Scilab",
		   "language": "scilab",
		   "name": "scilab"
		  },
		  "language_info": {
		   "file_extension": ".sce",
		   "help_links": [
			{
			 "text": "MetaKernel Magics",
			 "url": "https://github.com/calysto/metakernel/blob/master/metakernel/magics/README.md"
			}
		   ],
		   "mimetype": "text/x-octave",
		   "name": "scilab",
		   "version": "0.7.1"
		  }
		 },
		 "nbformat": 4,
		 "nbformat_minor": 0
}
