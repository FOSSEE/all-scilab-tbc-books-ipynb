{
"cells": [
 {
		   "cell_type": "markdown",
	   "metadata": {},
	   "source": [
       "# Chapter 8: Humidity and Humidity chart"
	   ]
	},
{
		   "cell_type": "markdown",
		   "metadata": {},
		   "source": [
			"## Example 8.10: Saturation_lines_for_hexane.sce"
		   ]
		  },
  {
"cell_type": "code",
	   "execution_count": null,
	   "metadata": {
	    "collapsed": true
	   },
	   "outputs": [],
"source": [
"//clc()\n",
"P = 100;//kPa\n",
"T = [273 280 290 300 310 320 330 340];\n",
"for i =1:8\n",
"    Ps(i) = exp(13.8216 - 2697.55/(T(i)-48.78));\n",
"end\n",
"disp((Ps))\n",
"for j = 1:8\n",
"    Ys(j) = Ps(j) * 86.11 / ((P - Ps(j))*28);\n",
"end\n",
"disp(Ys)\n",
"plot(T,Ys,rect=[273,0,333,10]);\n",
"xtitle('100% saturation line for nitrogen-hexane system','Temperature, K','Humidity, kg hexane/kg nitrogen');"
   ]
   }
,
{
		   "cell_type": "markdown",
		   "metadata": {},
		   "source": [
			"## Example 8.11: Psychometric_chart_applicatio.sce"
		   ]
		  },
  {
"cell_type": "code",
	   "execution_count": null,
	   "metadata": {
	    "collapsed": true
	   },
	   "outputs": [],
"source": [
"//clc()\n",
"Td = 328;//K ( dry bulb )\n",
"P = 101.3;//kPa\n",
"PS = 10;//%\n",
"//refering to the psychometric chart, corresponding to 328 K and 10% saturation\n",
"Y1 = 0.012;//kg water / kg dry air\n",
"disp('kg water / kg dry air',Y1,'(a)Absolute humidity = ')\n",
"//Y1 = Pa * 18 / ( P - Pa ) * 29\n",
"Pa = Y1 * P * 29 /( 18 + Y1 * 29 );\n",
"disp('kPa',Pa,'(b)Partial Pressure of water vapour = ')\n",
"//using psychometric chart, saturation humidity at 328 K is given as\n",
"Y1s = 0.115;//kg water / kg dry air\n",
"disp('kg water / kg dry air',Y1s,'(c)The absolute humidity at 328K = ')\n",
"//at saturation partial pressure = vapour pressure\n",
"Pas = Y1s * P * 29 /( 18 + Y1s * 29 ); \n",
"disp('kPa',Pas,'(d)Vapour Pressure of water vapour = ')\n",
"RS = Pa * 100 / Pas;\n",
"disp('%',RS,'(e)Percent relative saturation = ')\n",
"//using psychometric chart, moving horizontally keeping humidity constant to 100% saturation, we get dew point as,\n",
"T = 290;//K\n",
"disp('K',T,'(f)Dew point = ')"
   ]
   }
,
{
		   "cell_type": "markdown",
		   "metadata": {},
		   "source": [
			"## Example 8.12: Humid_heat_calculation_for_a_sample_of_air.sce"
		   ]
		  },
  {
"cell_type": "code",
	   "execution_count": null,
	   "metadata": {
	    "collapsed": true
	   },
	   "outputs": [],
"source": [
"//clc()\n",
"Ca = 1.884;//kJ/kgK\n",
"Cb = 1.005;//kJ/kgK\n",
"Y1 = 0.012;\n",
"//Cs = Cb + Y1 * Ca\n",
"Cs = Cb + Y1 * Ca;\n",
"disp('kJ/kgK',Cs,'Humid heat of the sample = ')\n",
"P = 101.3;//kPa\n",
"V = 100;//m^3\n",
"R = 8.314;\n",
"T = 328;//K\n",
"T1 = 373;//K\n",
"N = P * V / ( R * T );\n",
"Pa = 1.921;//kPa\n",
"Ndryair = N * (P - Pa)/P;\n",
"mdryair = Ndryair * 29;\n",
"Ht = mdryair * Cs * (T1 - T);\n",
"disp('kJ',Ht,'Heat to be supplied = ')"
   ]
   }
,
{
		   "cell_type": "markdown",
		   "metadata": {},
		   "source": [
			"## Example 8.14: wet_bulb_temperature_and_dry_bulb_temperature.sce"
		   ]
		  },
  {
"cell_type": "code",
	   "execution_count": null,
	   "metadata": {
	    "collapsed": true
	   },
	   "outputs": [],
"source": [
"//clc()\n",
"P = 101.3;//kPa\n",
"MW = 58;\n",
"T1 = 280.8;//K\n",
"Ps = 5;//kPa\n",
"pr = 2;//kJ/kgK ( Psychometric ratio )\n",
"Hvap = 360;//kJ/kg\n",
"Tw = T1;\n",
"Yw1 = Ps * MW / (( P - Ps) * 29);\n",
"// Tw = Tg - Hvap * ( Yw1 - Y1) / (hG / kY), where hG/kY is the psychmetric ratio pr\n",
"Y1 = 0;\n",
"Tg = Tw + Hvap * ( Yw1 - Y1) / pr;\n",
"disp('K',Tg,'The air temperature = ')"
   ]
   }
,
{
		   "cell_type": "markdown",
		   "metadata": {},
		   "source": [
			"## Example 8.15: Humidity_calculatio.sce"
		   ]
		  },
  {
"cell_type": "code",
	   "execution_count": null,
	   "metadata": {
	    "collapsed": true
	   },
	   "outputs": [],
"source": [
"//clc()\n",
"Td = 353.2;//K\n",
"Tw = 308;//K\n",
"Hvap = 2418.5;//kJ/kg\n",
"pr = 0.950;//kJ/kg\n",
"Ps = 5.62;//kPa\n",
"P = 101.3;//kPa\n",
"Yw1 = (Ps * 18)/ (( P - Ps) * 29);\n",
"Y1 = Yw1 - pr * ( Td - Tw ) / Hvap;\n",
"disp('kg water/kg dry air',Y1,'Humidity = ')\n",
"//humidity can also be directly obtained from psychometric chart, which we get to be 0.018 kg water/kg dry air"
   ]
   }
,
{
		   "cell_type": "markdown",
		   "metadata": {},
		   "source": [
			"## Example 8.16: SAturation_curve_and_adiabatic_cooling_line.sce"
		   ]
		  },
  {
"cell_type": "code",
	   "execution_count": null,
	   "metadata": {
	    "collapsed": true
	   },
	   "outputs": [],
"source": [
"//clc()\n",
"P = 101.3;//kPa\n",
"T = [283 293 303 313];\n",
"for i=1:4\n",
"    Ps(i) = exp(13.8858 - 2788.51/(T(i)-52.36));\n",
"end\n",
"for j =1:4\n",
"    Ys(j) = Ps(j) * 78.048 / ((P - Ps(j))*29);\n",
"end\n",
"disp(Ps)\n",
"disp(Ys)\n",
"plot(T,Ys,rect = [270,0,323,0.9]);\n",
"//Tas = Tg - L *(Y1as - Y1) / Cs\n",
"//Cs = Cb + Y1 *Ca = 1.005 + Y1 * 1.2,   \n",
"L = 435.4;//kJ/kgK\n",
"//for different value of Tg and Y1 tried, we have the following set of values\n",
"Tg = [283 290.4 300 310.1 320.8];\n",
"Y1 = [0.1701150 0.15 0.125 0.1 0.075];\n",
"plot(Tg,Y1);\n",
"xtitle('Saturation curve and adiabatic cooling line','Temperature, K','Y, kg benzene/kg dry air');"
   ]
   }
,
{
		   "cell_type": "markdown",
		   "metadata": {},
		   "source": [
			"## Example 8.17: Adiabatic_drier.sce"
		   ]
		  },
  {
"cell_type": "code",
	   "execution_count": null,
	   "metadata": {
	    "collapsed": true
	   },
	   "outputs": [],
"source": [
"//clc()\n",
"Tin = 380.7;//K\n",
"Pin = 101.3;//kPa\n",
"Tdew = 298;//K\n",
"mremoved = 2.25;//kg\n",
"V = 100;//m^3\n",
"//using humidity chart, humidity of air at dry bulb temperature of 380.7K and dew point = 298K is,\n",
"Y = 0.02;// kg water /kg dry air\n",
"disp('kg water /kg dry air',Y,'(a)Humidity of air entering the drier = ')\n",
"Tstp = 273.15;//K\n",
"Vstp = 22.4143;//m^3/kmol\n",
"N = V * Tstp / ( Vstp * Tin );\n",
"MY = Y * 29 / 18;//molal humidity\n",
"Ndryair = N / ( 1 + MY );\n",
"mdryair = Ndryair *29;\n",
"mwaterin = mdryair * Y;\n",
"mwaterout = mwaterin + mremoved;\n",
"Yout = mwaterout / mdryair;\n",
"// percent humidity is calculated using the chart, and is\n",
"PY = 55;//%\n",
"disp('kg water /kg dry air',Yout,'(b)exit air humidity = ')\n",
"disp('%',PY,'Percent humidity = ')\n",
"//from the humidity chart \n",
"Twet = 313.2;//K\n",
"Td = 322.2;//K\n",
"disp('K',Twet,'(c)exit air wet bulb temperature = ')\n",
"disp('K',Td,'(c)exit air dry bulb temperature = ')\n",
"MYout = Yout * 29 / 18;\n",
"Nout = Ndryair * ( 1 + MYout ) / 1;\n",
"V1 = Nout * Vstp * Td / Tstp;\n",
"disp('m^3',V1,'(d)Volume of exit air = ')"
   ]
   }
,
{
		   "cell_type": "markdown",
		   "metadata": {},
		   "source": [
			"## Example 8.18: Psychometric_chart_applicatio.sce"
		   ]
		  },
  {
"cell_type": "code",
	   "execution_count": null,
	   "metadata": {
	    "collapsed": true
	   },
	   "outputs": [],
"source": [
"//clc()\n",
"P = 101.3;//kPa\n",
"Td = 303;//K\n",
"Tw = 288;//K\n",
"//using psychometric chart,\n",
"Y1 = 0.0045;//kg water/ kg dry air\n",
"PY = 18;//%\n",
"Theated = 356.7;//K\n",
"Cb = 1.005;\n",
"Ca = 1.884;\n",
"Cs = Cb + Y1 * Ca;\n",
"Q = 1 * Cs * (Theated - Td);\n",
"disp('kg water/ kg dry air',Y1,'(a)Humidity of the initial air = ')\n",
"disp('%',PY,'(b)Percent humidity = ')\n",
"disp('K',Theated,'(c)Temperature to which the air is heated = ')\n",
"disp('kJ',Q,'(d)Heat to be suppplied = ')"
   ]
   }
,
{
		   "cell_type": "markdown",
		   "metadata": {},
		   "source": [
			"## Example 8.19: Psychometric_chart_application_and_given_wet_bulb_and_dry_bulb_temperature.sce"
		   ]
		  },
  {
"cell_type": "code",
	   "execution_count": null,
	   "metadata": {
	    "collapsed": true
	   },
	   "outputs": [],
"source": [
"//clc()\n",
"Tw = 313;//K\n",
"Td = 333;//K\n",
"//Using th psychometric chart,\n",
"Y = 0.04;//kg water/ kg dry air\n",
"PS = 26.5;//%\n",
"VS = 1.18;//m^3/kg dry air ( volume of saturated air )\n",
"VD = 0.94;//m^3/kg dry air ( volume of dry air )\n",
"VH = VD + PS * (VS - VD )/100;\n",
"HS = 470;//J / kg dry air ( enthalpy of saturated air )\n",
"HD = 60;//J / kg dry air ( enthalpy of dry air )\n",
"H = HD + PS * ( HS - HD )/100;\n",
"disp('kg water/ kg dry air',Y,'(a)Absolute Humidity of the air = ')\n",
"disp('%',PS,'(b)Percent humidity = ')\n",
"disp('m^3/kg dry air',VH,'(c)Humid volume = ')\n",
"disp('kJ/kg dry air',H,'(d)Enthalpy of wet air = ')"
   ]
   }
,
{
		   "cell_type": "markdown",
		   "metadata": {},
		   "source": [
			"## Example 8.1: Nitrogen_and_ammonia_gas_mixture.sce"
		   ]
		  },
  {
"cell_type": "code",
	   "execution_count": null,
	   "metadata": {
	    "collapsed": true
	   },
	   "outputs": [],
"source": [
"//clc()\n",
"T = 280;//K\n",
"P = 105;//kPa\n",
"Pas = 13.25;//kPa ( Vpaour pressure of acetone )\n",
"Pa = Pas;// ( As gas is saturated, partial pressure = vapour pressure )\n",
"Mfr = Pa / P;//(Mole fraction) \n",
"Mpr = Mfr * 100;\n",
"disp('%',Mpr,'(a)The mole percent of acetone in the mixture = ')\n",
"Ma = 58.048;//(molecular weight of acetone)\n",
"Mn = 28;//(molecular weight of nitrogen)\n",
"N = 1;//mole\n",
"Na = Mfr * N;\n",
"Nn = N - Na;\n",
"ma = Na * Ma ;\n",
"mn = Nn * Mn;\n",
"mtotal = ma + mn;\n",
"maper = ma *100 / mtotal;\n",
"mnper = mn *100/ mtotal;\n",
"disp('%',maper,'(b)Weight percent of acetone = ')\n",
"disp('%',mnper,'Weight percent of nitrogen = ')\n",
"Vstp = 22.4;//m^3/kmol\n",
"Pstp = 101.3;//kPa\n",
"Tstp = 273.15;//K\n",
"V = Vstp * Pstp * T / ( Tstp * P );\n",
"C = ma/V;\n",
"disp('kg/m^3',C,'(c)Concentration of vapour = ')"
   ]
   }
,
{
		   "cell_type": "markdown",
		   "metadata": {},
		   "source": [
			"## Example 8.2: Benzene_vapour_air_mixture.sce"
		   ]
		  },
  {
"cell_type": "code",
	   "execution_count": null,
	   "metadata": {
	    "collapsed": true
	   },
	   "outputs": [],
"source": [
"//clc()\n",
"P = 101.3;//kPa\n",
"Per1 = 10;//%\n",
"Pa = P * Per1 / 100;// ( a - benzene )\n",
"Ps = Pa;//( saturation )\n",
"//lnPs = 13.8858 - 2788.51/(T - 52.36)\n",
"T = 2788.51 / ( 13.8858 - log(Ps)) + 52.36;\n",
"disp('K',T,'Temperature at which saturation occurs = ')"
   ]
   }
,
{
		   "cell_type": "markdown",
		   "metadata": {},
		   "source": [
			"## Example 8.3: Evaporation_of_acetone_using_dry_air.sce"
		   ]
		  },
  {
"cell_type": "code",
	   "execution_count": null,
	   "metadata": {
	    "collapsed": true
	   },
	   "outputs": [],
"source": [
"//clc()\n",
"Pdryair = 101.3;//kPa\n",
"Pacetone = 16.82;//kPa\n",
"Nratio = Pacetone / (Pdryair - Pacetone);\n",
"mratio = Nratio * 58.048 / 29;// ( Macetone = 58.048, Mair = 29 )\n",
"macetone = 5;//kg ( given )\n",
"mdryair = macetone / mratio;\n",
"disp('kg',mdryair,'Minimum air required = ')"
   ]
   }
,
{
		   "cell_type": "markdown",
		   "metadata": {},
		   "source": [
			"## Example 8.4: Humidity_for_acetone_vapour_and_nitrogen_gas_mixture.sce"
		   ]
		  },
  {
"cell_type": "code",
	   "execution_count": null,
	   "metadata": {
	    "collapsed": true
	   },
	   "outputs": [],
"source": [
"//clc()\n",
"Pa = 15;//kPa ( partial pressure of acetone)\n",
"Ptotal = 101.3;//kPa\n",
"Mfr = Pa / Ptotal;\n",
"disp(Mfr,'(a)Mole fraction of acetone = ')\n",
"Macetone = 58.048;\n",
"Mnitrogen = 28;\n",
"mafr = Mfr * Macetone / ( Mfr * Macetone + (1-Mfr)* Mnitrogen );\n",
"disp(mafr,'(b)Weight fraction of acetone = ')\n",
"Y = Mfr / ( 1 - Mfr );\n",
"disp('moles of acetone/moles of nitrogen',Y,'(c)Molal humidity = ')\n",
"Y1 = Y * Macetone / Mnitrogen ; \n",
"disp('kg acetone/kg nitrogen',Y1,'(d)Absolute humidity = ')\n",
"Pas = 26.36;//kPa ( vapour pressure)\n",
"Ys = Pas / ( Ptotal - Pas);//saturation humidity\n",
"disp('moles of acetone/moles of nitrogen',Ys,'(e)Saturation humidity = ')\n",
"Y1s = Ys * Macetone / Mnitrogen;\n",
"disp('kg acetone/kg nitrogen',Y1s,'(f)Absolute saturation humidity = ')\n",
"V = 100;//m^3\n",
"Vstp =22.4143;//m^3/kmol\n",
"Pstp = 101.3;//kPa\n",
"Tstp = 273.15;//K\n",
"T = 295;//K\n",
"N = V * Ptotal * Tstp / (Vstp * Pstp * T );\n",
"Nacetone = N * Mfr;\n",
"macetone = Nacetone * Macetone;\n",
"disp('kg',macetone,'(g)Mass of acetone in 100m^3 of the total gas = ')"
   ]
   }
,
{
		   "cell_type": "markdown",
		   "metadata": {},
		   "source": [
			"## Example 8.5: Percent_saturation_and_relative_saturation.sce"
		   ]
		  },
  {
"cell_type": "code",
	   "execution_count": null,
	   "metadata": {
	    "collapsed": true
	   },
	   "outputs": [],
"source": [
"//clc();\n",
"Pa = 15;//kPa ( Partial pressure )\n",
"Pas = 26.36;//kPa ( Vapour pressure )\n",
"RS = Pa * 100 / Pas ;\n",
"Y = 0.1738;\n",
"Ys = 0.3517;\n",
"PS = Y * 100 / Ys;\n",
"disp('%',RS,'Relative humidity = ')\n",
"disp('%',PS,'Percent humidity = ')"
   ]
   }
,
{
		   "cell_type": "markdown",
		   "metadata": {},
		   "source": [
			"## Example 8.6: Analysis_of_Moist_air.sce"
		   ]
		  },
  {
"cell_type": "code",
	   "execution_count": null,
	   "metadata": {
	    "collapsed": true
	   },
	   "outputs": [],
"source": [
"//clc()\n",
"mwater = 0.0109;//kg\n",
"V = 1;//m^3\n",
"T = 300;//K\n",
"P = 101.3;//kPa\n",
"Vstp =22.4143;//m^3/kmol\n",
"Pstp = 101.3;//kPa\n",
"Tstp = 273.15;//K\n",
"N = V * P * Tstp / (Vstp * Pstp * T );\n",
"Nwater = mwater / 18.016;\n",
"Nfr = Nwater / N;\n",
"Pwater = Nfr * P;\n",
"disp('kPa',Pwater,'(a)Partial pressure of water vapour = ')\n",
"Ps = exp(16.26205 - 3799.887/(T - 46.854));\n",
"RS = Pwater * 100 / Ps;\n",
"disp('%',RS,'(b)Relative saturation = ')\n",
"Y1 = Pwater *18 / ((P - Pwater)*29);\n",
"disp('kg water / kg dry air',Y1,'(c)Absolute humidity = ')\n",
"Y1s = Ps *18 / ((P - Ps)*29);\n",
"PS1 = Y1 * 100 / Y1s;\n",
"disp('%',PS1,'(d)Percent saturation = ')\n",
"PS = 10;//%\n",
"Y1S = Y1 * 100/PS ; \n",
"//Y1S = Pas/(P - Pas ) * 18 /29\n",
"Pas1 = 29 * P * Y1S / (18 + 29*Y1s);\n",
"T1 = 3799.887 / (16.26205-log(Pas1)) + 46.854;\n",
"disp('K',T1,'(e)Temperature at which 10% saturation occurs = ')"
   ]
   }
,
{
		   "cell_type": "markdown",
		   "metadata": {},
		   "source": [
			"## Example 8.7: Heating_value_calculation_for_a_fuel_gas.sce"
		   ]
		  },
  {
"cell_type": "code",
	   "execution_count": null,
	   "metadata": {
	    "collapsed": true
	   },
	   "outputs": [],
"source": [
"//clc()\n",
"T = 300;//K\n",
"P = 100;//kPa\n",
"S = 25000//kJ/m^3\n",
"T1= 295;//K\n",
"P1 = 105;//kPa\n",
"RS = 50;//%\n",
"Ps = 3.5;//kPa\n",
"Ps1 = 2.6;//kPa\n",
"Vstp = 22.4143;//m^3/kmol\n",
"Pstp = 101.3;//kPa\n",
"Tstp = 273.15;//K\n",
"V = 1;//m^3\n",
"N = V * P * Tstp/(Vstp * Pstp * T);\n",
"Nfuel = N * (P - Ps)/P;\n",
"Smol = S / Nfuel;//kJ/kmol\n",
"N1 = V * P1 * Tstp/(Vstp * Pstp * T1);\n",
"Pwater = Ps1 * RS /100;\n",
"Nfuel1 = N1 * (P1 - Pwater )/P1;\n",
"S1 = Smol * Nfuel1;\n",
"disp('kJ/m^3',S1,'Heating value of gas at 295K and 105kPa = ')"
   ]
   }
,
{
		   "cell_type": "markdown",
		   "metadata": {},
		   "source": [
			"## Example 8.8: Analysis_of_nitrogen_benzene_mixture.sce"
		   ]
		  },
  {
"cell_type": "code",
	   "execution_count": null,
	   "metadata": {
	    "collapsed": true
	   },
	   "outputs": [],
"source": [
"//clc()\n",
"T = 300;//K\n",
"T1 = 335;//K\n",
"P = 150;//kPa\n",
"//lnPs = 13.8858 - 2788.51 / ( T - 52.36)\n",
"Ps = exp(13.8858 - 2788.51 / ( T - 52.36));\n",
"Ps1 = exp(13.8858 - 2788.51 / ( T1 - 52.36));\n",
"Pa = Ps;//(Vapour pressure at dew point is equal to the partial pressure of the vapour)\n",
"Y = Pa / (P - Pa);\n",
"Ys = Ps1 / (P - Ps1);\n",
"PS = Y * 100 / Ys;\n",
"disp('%',PS,'(a)Percent saturation = ')\n",
"Ma = 78.048;\n",
"Mb = 28;\n",
"Q = Y * Ma / Mb ;\n",
"disp('kg benzene/kg nitrogen',Q,'(b)Quantity of benzene per kilgram of nitrogen = ')\n",
"V = 1;//m^3 ( basis )\n",
"Vstp = 22.4143;//m^3/kmol\n",
"Pstp = 101.3;//kPa\n",
"Tstp = 273.15;//K\n",
"N = V * P * Tstp/(Vstp * Pstp * T1);\n",
"y = Y / ( 1 + Y );\n",
"Nbenzene = N * y;\n",
"C = Nbenzene * Ma;\n",
"disp('kg/m^3',C,'(c)Kilogram of benzene per m^3 of nitrogen = ')\n",
"P1 = 100;//kPa\n",
"Pbenzene = y * P1;\n",
"T1 = 2788.51 / ( 13.8858 - log (Pbenzene)) + 52.36;\n",
"disp('K',T1,'(d)Dew point = ')\n",
"Per1 = 60;//%\n",
"Y2 = Y * (1- Per1/100);\n",
"//Y2 = Pa / (P - Pa)\n",
"P = Pa / Y2 + Pa;\n",
"disp('kPa',P,'(e)Pressure required = ')"
   ]
   }
,
{
		   "cell_type": "markdown",
		   "metadata": {},
		   "source": [
			"## Example 8.9: Drying.sce"
		   ]
		  },
  {
"cell_type": "code",
	   "execution_count": null,
	   "metadata": {
	    "collapsed": true
	   },
	   "outputs": [],
"source": [
"//clc()\n",
"T = 300;//K\n",
"T1 = 285;//K\n",
"Pwater = 3.56;//kPa\n",
"Pwater1 = 1.4;//kPa\n",
"V = 1;//m^3 ( Basis )\n",
"Vstp = 22.4143;//m^3/kmol\n",
"N = V / Vstp;\n",
"Pstp = 101.3;//kPa\n",
"Y = Pwater / (Pstp - Pwater);\n",
"Y1 = Pwater1 / (Pstp - Pwater1);\n",
"Nremoved = Y - Y1;\n",
"Ndryair = N * 1 / (1 + Y);\n",
"mremoved = Ndryair * Nremoved * 18.016;\n",
"disp('kg',mremoved,'(a)amount of water removed = ')\n",
"Nremaining = Ndryair * Y1 ;\n",
"V1 = (Ndryair + Nremaining) * Vstp ;\n",
"disp('m^3',V1,'(b)Volume of gas at stp after drying = ')"
   ]
   }
],
"metadata": {
		  "kernelspec": {
		   "display_name": "Scilab",
		   "language": "scilab",
		   "name": "scilab"
		  },
		  "language_info": {
		   "file_extension": ".sce",
		   "help_links": [
			{
			 "text": "MetaKernel Magics",
			 "url": "https://github.com/calysto/metakernel/blob/master/metakernel/magics/README.md"
			}
		   ],
		   "mimetype": "text/x-octave",
		   "name": "scilab",
		   "version": "0.7.1"
		  }
		 },
		 "nbformat": 4,
		 "nbformat_minor": 0
}
