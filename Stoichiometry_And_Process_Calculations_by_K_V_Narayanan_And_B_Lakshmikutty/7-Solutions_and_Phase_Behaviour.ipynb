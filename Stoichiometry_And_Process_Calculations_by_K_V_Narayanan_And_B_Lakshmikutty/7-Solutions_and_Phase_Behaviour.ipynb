{
"cells": [
 {
		   "cell_type": "markdown",
	   "metadata": {},
	   "source": [
       "# Chapter 7: Solutions and Phase Behaviour"
	   ]
	},
{
		   "cell_type": "markdown",
		   "metadata": {},
		   "source": [
			"## Example 7.10: Dew_point_temperature_and_pressure.sce"
		   ]
		  },
  {
"cell_type": "code",
	   "execution_count": null,
	   "metadata": {
	    "collapsed": true
	   },
	   "outputs": [],
"source": [
"//clc()\n",
"//1 - pentane, 2 - hexane, 3 - heptane\n",
"y1 = 0.6;\n",
"y2 = 0.25;\n",
"y3 = 0.15;\n",
"A1 = 13.8183;\n",
"A2 = 13.8216;\n",
"A3 = 13.8587;\n",
"B1 = 2477.07;\n",
"B2 = 2697.55;\n",
"B3 = 2911.32;\n",
"C1 = 39.94;\n",
"C2 = 48.78;\n",
"C3 = 56.51;\n",
"P = 400;//kPa\n",
"T = 300;//K\n",
"//As raoults law is applicable, Ki = yi/xi = Pis/P\n",
"//xi = yi*P/Pis\n",
"//ln P = A- B/(T-C)\n",
"//Assuming,\n",
"T1 = 385.94;//K\n",
"Pas1 =exp(A1 - B1 / (T1 - C1));\n",
"Pas2 =exp(A2 - B2 / (T1 - C2));\n",
"Pas3 =exp(A3 - B3 / (T1 - C3));\n",
"disp('K',T,'(a)Dew point temperature of the mixture = ')\n",
"Ps1 =exp(A1 - B1 / (T - C1));\n",
"Ps2 =exp(A2 - B2 / (T - C2));\n",
"Ps3 =exp(A3 - B3 / (T - C3));\n",
"P1 = 1/(y1/Ps1 + y2/Ps2 + y3/Ps3);\n",
"disp('kPa',P1,'(b)Dew point pressure = ')"
   ]
   }
,
{
		   "cell_type": "markdown",
		   "metadata": {},
		   "source": [
			"## Example 7.11: bubble_point_and_dew_point.sce"
		   ]
		  },
  {
"cell_type": "code",
	   "execution_count": null,
	   "metadata": {
	    "collapsed": true
	   },
	   "outputs": [],
"source": [
"//clc()\n",
"//1 - methanol, 2 - ethanol, 3 - propanol\n",
"x1 = 0.45;\n",
"x2 = 0.3;\n",
"x3 = 1 - (x1 + x2);\n",
"P = 101.3;//kPa\n",
"// by drawing the temperature vs vapour pressure graph and interpolation,assuming,\n",
"T = 344.6;//K\n",
"Ps1 = 137.3;\n",
"Ps2 = 76.2;\n",
"Ps3 = 65.4;\n",
"y1 = x1 * Ps1 / P;\n",
"y2 = x2 * Ps2 / P;\n",
"y3 = x3 * Ps3 / P;\n",
"disp('K',T,'(a)Bubble point temperature = ')\n",
"disp('%',y1*100,'Composition of methanol in vapour = ')\n",
"disp('%',y2*100,'Composition of ethanol in vapour = ')\n",
"disp('%',y3*100,'Composition of propanol in vapour = ')\n",
"//again, for xi = 1\n",
"T1 = 347.5;//K\n",
"P1 = 153.28;\n",
"P2 = 85.25;\n",
"P3 = 73.31;\n",
"xa = x1 * P / P1;\n",
"xb = x2 * P / P2;\n",
"xc = x3 * P / P3;\n",
"disp('K',T1,'(b)Dew point temperature = ')\n",
"disp('%',xa*100,'Composition of methanol in liquid = ')\n",
"disp('%',xb*100,'Composition of ethanol in liquid = ')\n",
"disp('%',xc*100,'Composition of propanol in liquid = ')"
   ]
   }
,
{
		   "cell_type": "markdown",
		   "metadata": {},
		   "source": [
			"## Example 7.12: component_calculations.sce"
		   ]
		  },
  {
"cell_type": "code",
	   "execution_count": null,
	   "metadata": {
	    "collapsed": true
	   },
	   "outputs": [],
"source": [
"//clc()\n",
"xp = 0.25;\n",
"xnb = 0.4;\n",
"xnp = 0.35;\n",
"P = 1447.14;//kPa\n",
"//assuming temperatures 355.4 K and 366.5 K , corresponding Ki values are found from nomograph and total Ki value are 0.928 and 1.075 resp, thus bubble point temperature lies between, using interpolation bubble point temperature is found to be,\n",
"Tb = 361;//K\n",
"disp('K',Tb,'(a) The buuble point temperature = ')\n",
"//At 361,\n",
"Kip = 2.12;\n",
"Kinb = 0.85;\n",
"Kinp = 0.37;\n",
"xp1 = Kip * xp;\n",
"xnb1 = Kinb * xnb;\n",
"xnp1 = Kinp * xnp;\n",
"disp(xp1,'concentration of propane at bubble point = ')\n",
"disp(xnb1,'concentration of n-butane at bubble point = ')\n",
"disp(xnp1,'concentration of n-pentane at bubble point = ')\n",
"//At dew point Yi/Ki = 1, at 377.6K this is 1.1598 and at 388.8K it is 0.9677, by interpolation dew point is found to be\n",
"Td = 387;//K\n",
"Kip1 = 2.85;\n",
"Kinb1 = 1.25;\n",
"Kinp1 = 0.59;\n",
"yp1 = xp/Kip1;\n",
"ynb1 = xnb/Kinb1;\n",
"ynp1 = xnp/Kinp1;\n",
"disp('K',Td,'(b) The dew point temperature = ')\n",
"disp(yp1,'concentration of propane at dew point = ')\n",
"disp(ynb1,'concentration of n-butane at dew point = ')\n",
"disp(ynp1,'concentration of n-pentane at dew point = ')\n",
"//summation zi / (1 + L/VKi)= 0.45, using trial and error, we find\n",
"T = 374.6;//K\n",
"L = 0.55;\n",
"V = 0.45;\n",
"Kip2 = 2.5;\n",
"Kinb2 = 1.08;\n",
"Kinp2 = 0.48;\n",
"t = (xp/(1+L/(V*Kip2)))+(xnb/(1+L/(V*Kinb2))) + (xnp/(1+L/(V*Kinp2)));\n",
"yp2 = (xp/(1+L/(V*Kip2)))/t;\n",
"ynb2 = (xnb/(1+L/(V*Kinb2)))/t;\n",
"ynp2 = (xnp/(1+L/(V*Kinp2)))/t;\n",
"xp2 = (xp - V * yp2)/L;\n",
"xnb2 = (xnb - V * ynb2)/L;\n",
"xnp2 = (xnp - V * ynp2)/L; \n",
"disp('K',T,'(c)Temperature of the mixture = ')\n",
"disp(yp2,'vapour phase concentration of propane = ')\n",
"disp(ynb2,'vapour phase concentration of n-butane = ')\n",
"disp(ynp2,'vapour phase concentration of n-pentane = ')\n",
"disp(xp2,'liquid phase concentration of propane = ')\n",
"disp(xnb2,'liquid phase concentration of n-butane = ')\n",
"disp(xnp2,'liquid phase concentration of n-pentane = ')"
   ]
   }
,
{
		   "cell_type": "markdown",
		   "metadata": {},
		   "source": [
			"## Example 7.13: equilibrium_temperature_and_composition.sce"
		   ]
		  },
  {
"cell_type": "code",
	   "execution_count": null,
	   "metadata": {
	    "collapsed": true
	   },
	   "outputs": [],
"source": [
"//clc()\n",
"P = 93.30;//kPa\n",
"T1 = 353;//K\n",
"T2 = 373;//K\n",
"Pwater1 = 47.98;//kPa\n",
"Pwater2 = 101.3;//kPa\n",
"Pliq1 = 2.67;//kPa\n",
"Pliq2 = 5.33;//kPa\n",
"T = T1 + (T2 - T1)*(P - (Pwater1 + Pliq1))/(Pwater2 + Pliq2 - (Pwater1 + Pliq1));\n",
"disp('K',T,'(a)The equilibrium temperature = ')\n",
"Pwater = 88.50;\n",
"y = Pwater * 100 /P;\n",
"disp('%',y,'(b)Water vapour in vapour mixture = ')"
   ]
   }
,
{
		   "cell_type": "markdown",
		   "metadata": {},
		   "source": [
			"## Example 7.14: Temperature_composition_diagram.sce"
		   ]
		  },
  {
"cell_type": "code",
	   "execution_count": null,
	   "metadata": {
	    "collapsed": true
	   },
	   "outputs": [],
"source": [
"//clc()\n",
"//the three phase temperature is first find out, which comes to be 342K, the corresponding Ps1 = 71.18, Ps2 = 30.12\n",
"T = [342 343 348 353 363 373];\n",
"Ps2 = [30.12 31.06 37.99 47.32 70.11 101.3];\n",
"Ps1 = [71.18 72.91 85.31 100.5 135.42 179.14];\n",
"P = 101.3;//kPa\n",
"for i = 1:4\n",
"    y1(i) = 1 - (Ps1(i))/P;\n",
"end\n",
"for i = 1:6\n",
"    y2(i) = 1 - (Ps2(i))/P;\n",
"end\n",
"plot2d(y2,T);\n",
"plot2d(1-y1,T,rect = [0,320,1,380]);\n",
"xtitle('Temperature - compositon diagram','x, y (mole fraction of benzene)','Temperature')"
   ]
   }
,
{
		   "cell_type": "markdown",
		   "metadata": {},
		   "source": [
			"## Example 7.15: Boiling_point_calculation.sce"
		   ]
		  },
  {
"cell_type": "code",
	   "execution_count": null,
	   "metadata": {
	    "collapsed": true
	   },
	   "outputs": [],
"source": [
"//clc()\n",
"T = 379.2;//K\n",
"P = 101.3;//kPa\n",
"Ps = 70;//kPa\n",
"Molality = 5;\n",
"Pws = exp(16.26205 - 3799.887/(T - 46.854));\n",
"k = P / Pws;\n",
"Pws1 = Ps / k;\n",
"T1 = 3799.887 / (16.26205 - log( Pws1)) + 46.854;\n",
"disp('K',T1,'Boiling point of the solution = ')"
   ]
   }
,
{
		   "cell_type": "markdown",
		   "metadata": {},
		   "source": [
			"## Example 7.1: composition_calculation_of_Liquid_and_vapour_at_equilibrium.sce"
		   ]
		  },
  {
"cell_type": "code",
	   "execution_count": null,
	   "metadata": {
	    "collapsed": true
	   },
	   "outputs": [],
"source": [
"//clc()\n",
"Pas = 71.2;//kPa\n",
"Pbs = 48.9;//kPa\n",
"P = 65;//kPa\n",
"//P=(Pas-Pbs)*xa+Pbs,xa=mole fraction of n-heptane,liq. condition,therefore\n",
"xa = (P - Pbs)/(Pas - Pbs);\n",
"//ya = Pa / P , Vapour condition\n",
"ya = Pas * xa / P;\n",
"P1 = xa * 100;\n",
"P2 = ya * 100;\n",
"disp('%',P1,'Percentage of hepatne in liquid = ')\n",
"disp('%',P2,'Percentage of hepatne in vapour = ')"
   ]
   }
,
{
		   "cell_type": "markdown",
		   "metadata": {},
		   "source": [
			"## Example 7.2: Composition_and_total_pressure_calculation.sce"
		   ]
		  },
  {
"cell_type": "code",
	   "execution_count": null,
	   "metadata": {
	    "collapsed": true
	   },
	   "outputs": [],
"source": [
"//clc()\n",
"P1 = 100;//kPa ( Vapour pressure of liq A )\n",
"P2 = 60;//kPa ( Vapour pressure of liq B )\n",
"T = 320;//K\n",
"//Pa = xa * P1 = 100 * xa\n",
"//Pa = xb * P2 = 60 * xb\n",
"//P = xa * P1 + ( 1 - xa )* P2\n",
"// = 100xa + ( 1 - xa )* 60\n",
"// = 60 + 40*xa\n",
"//ya = Pa / P\n",
"//0.5 = 100*xa / ( 60 + 40 * xa)\n",
"xa = 60 * 0.5 / (100 - 20);\n",
"Per1 = xa * 100;\n",
"disp('%',Per1,'(a)Percentage of A in liquid = ')\n",
"Ptotal = 60 + 40 * xa;\n",
"disp('kPa',Ptotal,'(b)Total pressure of the vapour = ')"
   ]
   }
,
{
		   "cell_type": "markdown",
		   "metadata": {},
		   "source": [
			"## Example 7.3: Mole_fraction_calculation_for_particular_component_in_liquid_vapour_mixture.sce"
		   ]
		  },
  {
"cell_type": "code",
	   "execution_count": null,
	   "metadata": {
	    "collapsed": true
	   },
	   "outputs": [],
"source": [
"//clc()\n",
"xa = 0.25;\n",
"xb = 0.30;\n",
"xc = 1 - xa - xb;\n",
"Ptotal = 200;//kPa\n",
"Pcs = 50;//kPa(Vapour pressure of c)\n",
"Pc = xc * Pcs;//(partial pressure of c)\n",
"yc = Pc / Ptotal;\n",
"yb = 0.5;\n",
"ya = 1 - yb - yc;\n",
"per1 = ya * 100;\n",
"disp('%',per1,'Percentage of A in vapour = ') "
   ]
   }
,
{
		   "cell_type": "markdown",
		   "metadata": {},
		   "source": [
			"## Example 7.4: Flash_vapourization_of_benzene_toluene_mixture.sce"
		   ]
		  },
  {
"cell_type": "code",
	   "execution_count": null,
	   "metadata": {
	    "collapsed": true
	   },
	   "outputs": [],
"source": [
"//clc()\n",
"P = 101.3;//kPa\n",
"Pbs = 54.21;//kPa\n",
"Pas = 136.09;//kPa\n",
"xf = 0.65;\n",
"xw = (P - Pbs)/(Pas - Pbs);\n",
"yd = xw * Pas / P ;\n",
"// f = ( xf - xw ) / ( yd - xw )\n",
"f = ( xf - xw ) / ( yd - xw );\n",
"per1 = f * 100;\n",
"disp('%',per1,'mole percent of the feed that is vapourised = ')"
   ]
   }
,
{
		   "cell_type": "markdown",
		   "metadata": {},
		   "source": [
			"## Example 7.5_a: Boiling_point_diagram.sce"
		   ]
		  },
  {
"cell_type": "code",
	   "execution_count": null,
	   "metadata": {
	    "collapsed": true
	   },
	   "outputs": [],
"source": [
"//clc()\n",
"T = [371.4 378 383 388 393 398.6]\n",
"Pas = [101.3 125.3 140 160 179.9 205.3]\n",
"Pbs = [44.4 55.6 64.5 74.8 86.6 101.3]\n",
"Ptotal = 101.3;//kPa\n",
"for i = 1:6\n",
"    x(i) = (Ptotal - Pbs(i))/(Pas(i) - Pbs(i));\n",
"end\n",
"for i = 1:6\n",
"    y(i) = x(i) * Pas(i) / Ptotal;\n",
"end\n",
"plot(x,T,'-o');\n",
"plot(y,T,'-x');\n",
"xtitle('Boiling point diagram','Mole fraction x or y','Temperature K')"
   ]
   }
,
{
		   "cell_type": "markdown",
		   "metadata": {},
		   "source": [
			"## Example 7.5_b: Equilibrium_Diagram.sce"
		   ]
		  },
  {
"cell_type": "code",
	   "execution_count": null,
	   "metadata": {
	    "collapsed": true
	   },
	   "outputs": [],
"source": [
"//clc()\n",
"T = [371.4 378 383 388 393 398.6]\n",
"Pas = [101.3 125.3 140 160 179.9 205.3]\n",
"Pbs = [44.4 55.6 64.5 74.8 86.6 101.3]\n",
"Ptotal = 101.3;//kPa\n",
"for i = 1:6\n",
"    x(i) = (Ptotal - Pbs(i))/(Pas(i) - Pbs(i));\n",
"end\n",
"for i = 1:6\n",
"    y(i) = x(i) * Pas(i) / Ptotal;\n",
"end\n",
"w = x;\n",
"plot(x,w);\n",
"plot(x,y,'-o');\n",
"xtitle('Equilibrium curve','x, mole fraction in liquid','y, mole fraction in vapour');"
   ]
   }
,
{
		   "cell_type": "markdown",
		   "metadata": {},
		   "source": [
			"## Example 7.6: Bubble_point_temperature_and_vapour_composition.sce"
		   ]
		  },
  {
"cell_type": "code",
	   "execution_count": null,
	   "metadata": {
	    "collapsed": true
	   },
	   "outputs": [],
"source": [
"//clc()\n",
"Ps = 100;//kPa\n",
"A1 = 13.8587;//(1 = n-heptane)\n",
"A2 = 13.8216;//(2 = n-hexane)\n",
"B1 = 2911.32;\n",
"B2 = 2697.55;\n",
"C1 = 56.51;\n",
"C2 = 48.78;\n",
"//lnPs = A - B / ( T - C)\n",
"T1 = B1 / (-log(Ps)+A1) + C1;\n",
"T2 = B2 / (-log(Ps)+A2) + C2;\n",
"x2 = 0.25;"
   ]
   }
,
{
		   "cell_type": "markdown",
		   "metadata": {},
		   "source": [
			"## Example 7.7: Dew_point_temperature_pressure_and_concentration.sce"
		   ]
		  },
  {
"cell_type": "code",
	   "execution_count": null,
	   "metadata": {
	    "collapsed": true
	   },
	   "outputs": [],
"source": [
"//clc()\n",
"//lnPas = 14.5463 - 2940.46/(T - 35.93)\n",
"//lnPbs = 14.2724 - 2945.47 / (T - 49.15)\n",
"//xa = (P - Pbs)/(Pas - Pbs)\n",
"//Ya = Pas * (P - Pbs)/(P * (Pas - Pbs))\n",
"Ya = 0.4;\n",
"P = 65;//kPa\n",
"//various temperature value are assumed and tried till LHS = RHS, we get\n",
"T = 334.15;//K\n",
"Pas = exp(14.5463 - 2940.46/(T - 35.93));\n",
"Pbs = exp(14.2724 - 2945.47 / (T - 49.15));\n",
"xa = (P - Pbs)/(Pas - Pbs);\n",
"disp('K',T,'(a)The Dew point temperature at 65 kPa = ')\n",
"disp(xa,'    Concentration of the first drop of liquid = ')\n",
"T1 = 327;//K\n",
"Pas1 = exp(14.5463 - 2940.46/(T1 - 35.93));\n",
"Pbs1 = exp(14.2724 - 2945.47 / (T1 - 49.15));\n",
"xa1 = Ya * Pbs1 / (Pas1 - Ya*(Pas1 - Pbs1));\n",
"P1 = xa1 * Pas1 / Ya;\n",
"disp('kPa',P1,'(b)The dew point pressure at 327 K = ') \n",
"disp(xa1,'    Concentration at 327K = ')"
   ]
   }
,
{
		   "cell_type": "markdown",
		   "metadata": {},
		   "source": [
			"## Example 7.8: Partial_pressure_of_acetaldehyde.sce"
		   ]
		  },
  {
"cell_type": "code",
	   "execution_count": null,
	   "metadata": {
	    "collapsed": true
	   },
	   "outputs": [],
"source": [
"//clc()\n",
"MW = 44.032;\n",
"Mwater = 18.016;\n",
"x = 2;//%\n",
"Pa = 41.4;//kPa\n",
"Mfr = (x/MW)/(x/MW + (100-x)/Mwater);\n",
"//henry's law gives Pa = Ha * xa\n",
"Ha = Pa / Mfr;\n",
"Molality = 0.1;\n",
"Mfr1 = Molality / (1000/Mwater + Molality);\n",
"Pa1 = Ha * Mfr1;\n",
"disp('kPa',Pa1,'Partial Pressure = ')"
   ]
   }
,
{
		   "cell_type": "markdown",
		   "metadata": {},
		   "source": [
			"## Example 7.9: Raults_law_applicatio.sce"
		   ]
		  },
  {
"cell_type": "code",
	   "execution_count": null,
	   "metadata": {
	    "collapsed": true
	   },
	   "outputs": [],
"source": [
"//clc()\n",
"//1 - pentane, 2 - hexane, 3 - heptane\n",
"x1 = 0.6;\n",
"x2 = 0.25;\n",
"x3 = 0.15;\n",
"A1 = 13.8183;\n",
"A2 = 13.8216;\n",
"A3 = 13.8587;\n",
"B1 = 2477.07;\n",
"B2 = 2697.55;\n",
"B3 = 2911.32;\n",
"C1 = 39.94;\n",
"C2 = 48.78;\n",
"C3 = 56.51;\n",
"//As raoults law is applicable, Ki = yi/xi = Pis/P\n",
"//yi = xi*Pis/P\n",
"//ln P = A- B/(T-C)\n",
"//Assuming,\n",
"P = 400;//kPa\n",
"T = 369.75;//K\n",
"Pas1 =exp(A1 - B1 / (T - C1));\n",
"Pas2 =exp(A2 - B2 / (T - C2));\n",
"Pas3 =exp(A3 - B3 / (T - C3));\n",
"Yi = (x1*Pas1 + x2*Pas2 + x3*Pas3)/P;\n",
"disp('K',T,'(a)bubble point temperature of the mixture = ')\n",
"y1 = x1*Pas1/P;\n",
"y2 = x2*Pas2/P;\n",
"y3 = x3*Pas3/P;\n",
"disp('%',y1*100,'(b)composition of n-pentane in vapour = ')\n",
"disp('%',y2*100,'composition of n-hexane in vapour = ')\n",
"disp('%',y3*100,'composition of n-heptane in vapour = ')\n",
"T1 = 300;//K\n",
"Ps1 =exp(A1 - B1 / (T1 - C1));\n",
"Ps2 =exp(A2 - B2 / (T1 - C2));\n",
"Ps3 =exp(A3 - B3 / (T1 - C3));\n",
"P1 = x1*Ps1 + x2*Ps2 + x3*Ps3;\n",
"disp('kPa',P1,'(c)Bubble point pressure =')"
   ]
   }
],
"metadata": {
		  "kernelspec": {
		   "display_name": "Scilab",
		   "language": "scilab",
		   "name": "scilab"
		  },
		  "language_info": {
		   "file_extension": ".sce",
		   "help_links": [
			{
			 "text": "MetaKernel Magics",
			 "url": "https://github.com/calysto/metakernel/blob/master/metakernel/magics/README.md"
			}
		   ],
		   "mimetype": "text/x-octave",
		   "name": "scilab",
		   "version": "0.7.1"
		  }
		 },
		 "nbformat": 4,
		 "nbformat_minor": 0
}
