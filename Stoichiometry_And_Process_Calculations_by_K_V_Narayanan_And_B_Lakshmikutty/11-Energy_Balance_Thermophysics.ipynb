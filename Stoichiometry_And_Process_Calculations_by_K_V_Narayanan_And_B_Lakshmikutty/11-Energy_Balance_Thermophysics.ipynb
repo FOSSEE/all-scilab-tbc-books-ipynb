{
"cells": [
 {
		   "cell_type": "markdown",
	   "metadata": {},
	   "source": [
       "# Chapter 11: Energy Balance Thermophysics"
	   ]
	},
{
		   "cell_type": "markdown",
		   "metadata": {},
		   "source": [
			"## Example 11.10: Heat_capacity.sce"
		   ]
		  },
  {
"cell_type": "code",
	   "execution_count": null,
	   "metadata": {
	    "collapsed": true
	   },
	   "outputs": [],
"source": [
"//clc()\n",
"//Cp = 26.54 + 42.454*10^-3 * T - 14.298 * 10^-6 * T^2;\n",
"T1 = 300;//K\n",
"T2 = 1000;//K\n",
"m = 1;//kg\n",
"N = m/44;//kmol\n",
"x = integrate('26.54 + 42.454*10^-3 * T - 14.298 * 10^-6 * T^2','T',T1,T2);\n",
"Q = N*x;\n",
"disp('kJ',Q,'(a)Heat required = ')\n",
"//for temperature in t degree celsius\n",
"//Cp = 26.54 + 42.454*10^-3 * (t + 273.15) - 14.298 * 10^-6 * (t + 273.15)^2\n",
"//Cp = 37.068 + 34.643 * 10^-3*t - 14.298* 10^-6 * t^2 (kJ/kmolC)\n",
"//Cp = 8.854 + 8.274*10^-3*t -3.415*10^-6*t^2 ( Kcal/kmolC)\n",
"//For degree Fehreneit scale,replacet by ( t1 - 32)/18, we get\n",
"//Cp = 8.7058 + 4.6642 * 10^-3 *t1 - 1.0540 * 10^-6 * t1^2 ( Btu/lbmolF)"
   ]
   }
,
{
		   "cell_type": "markdown",
		   "metadata": {},
		   "source": [
			"## Example 11.11: Enthalpy_change_when_chlorine_gas_is_heated.sce"
		   ]
		  },
  {
"cell_type": "code",
	   "execution_count": null,
	   "metadata": {
	    "collapsed": true
	   },
	   "outputs": [],
"source": [
"//clc()\n",
"T = [273 373 473 573 673 773 873 973 1073 1173 1273];\n",
"Cp = [33.6 35.1 36 36.6 37 37.3 37.5 37.6 37.7 37.8 37.9];\n",
"plot2d(T,Cp,rect=[273,33,1273,38])\n",
"xtitle(' T vs Cp','Temperature K','Heat Capacity, kJ/kmolK')\n",
"// at constant Pressure, H = integration(Cp,T,T1,T2)\n",
"//Area under the curve form the graph ,is obtained as Area = 36828\n",
"H = 36828;//kJ/kmol\n",
"disp('kJ/kmol',H,'Enthalpy change = ')"
   ]
   }
,
{
		   "cell_type": "markdown",
		   "metadata": {},
		   "source": [
			"## Example 11.12: Molal_heat_capacity.sce"
		   ]
		  },
  {
"cell_type": "code",
	   "execution_count": null,
	   "metadata": {
	    "collapsed": true
	   },
	   "outputs": [],
"source": [
"//clc()\n",
"//Cp = 26.586 + 7.582 * 10 ^-3 * T - 1.12 * 10^-6 * T^2\n",
"T1 = 500;//K\n",
"T2 = 1000;//K\n",
"x = integrate('26.586 + 7.582 * 10^-3 * T - 1.12 * 10^-6 * T^2','T',T1,T2);\n",
"Cpm = 1 *x / ( T2 - T1 ) ;\n",
"disp('kJ/kmolK',Cpm,'(a)Mean molal heat capacity = ')\n",
"V = 500;//m^3;\n",
"N = V / 22.4143;\n",
"Q = N * Cpm * ( T2 - T1 );\n",
"disp('kJ/h',Q,'(b)Heat to be supplied = ')\n",
"T3 = 1500;//K\n",
"Q1 = Cpm * (T3 - T1);\n",
"y = integrate('26.586 + 7.582 * 10 ^-3 * T - 1.12 * 10^-6 * T^2','T',T1,T3);\n",
"Q2 = y ;\n",
"disp(Q2)\n",
"Perror = (Q2 - Q1) * 100 / Q2;\n",
"disp('%',Perror,'(c)Percent error = ')"
   ]
   }
,
{
		   "cell_type": "markdown",
		   "metadata": {},
		   "source": [
			"## Example 11.13: Enthalpy_change_of_a_gas.sce"
		   ]
		  },
  {
"cell_type": "code",
	   "execution_count": null,
	   "metadata": {
	    "collapsed": true
	   },
	   "outputs": [],
"source": [
"//clc()\n",
"T1 = 1500;//K\n",
"Tr = 273;//K\n",
"T2 = 400;//K\n",
"Cpm1 = 50;//kJ/kmol\n",
"Cpm2 = 35;//kJ/mol\n",
"H = Cpm1 * ( T1 - Tr ) - Cpm2 * ( T2 - Tr );\n",
"disp('kJ/kmol',H,'Enthalpy change = ')"
   ]
   }
,
{
		   "cell_type": "markdown",
		   "metadata": {},
		   "source": [
			"## Example 11.14: Combustion_of_solid_waste.sce"
		   ]
		  },
  {
"cell_type": "code",
	   "execution_count": null,
	   "metadata": {
	    "collapsed": true
	   },
	   "outputs": [],
"source": [
"//clc()\n",
"//CO,  26.586 + 7.582*10^-3*T - 1.12*10^-6*T^2\n",
"//CO2, 26.540 + 42.454*10^-3*T - 14.298*10^-6*T^2\n",
"//O2, 25.74 + 12.987*10^-3*T - 3.864*10^-6*T^2\n",
"//N2, 27.03 + 5.815*10^-3*T - 0.289*10^-6*T^2\n",
"//Cpmix = summation ( yi*Cpi ) = summation(yi*ai + yi*bi*T + yi*ci*T^2)\n",
"xco2 = 0.09;\n",
"xco = 0.02;\n",
"xo2 = 0.07;\n",
"xn2 = 0.82;\n",
"T1 = 600;//K\n",
"T2 = 375;//K\n",
"sumai = xco * 26.586 +xco2 * 26.540 + xo2 * 25.74 + xn2*27.03;\n",
"sumbi = xco * 7.582*10^-3 + xco2*2.454*10^-3+xo2*12.987*10^-3 + xn2*5.815*10^-3;\n",
"sumci = -(xco * 1.12*10^-6 + xco2*14.298*10^-6+xo2*3.864*10^-6+xn2*0.289*10^-6);\n",
"H = integrate('sumai+sumbi*T+sumci*T^2','T',T1,T2);\n",
"disp('kJ/kmol',H,'Enthalpy change = ')"
   ]
   }
,
{
		   "cell_type": "markdown",
		   "metadata": {},
		   "source": [
			"## Example 11.15: Heat_capacity_calculation_for_Na2SO4_10H2O.sce"
		   ]
		  },
  {
"cell_type": "code",
	   "execution_count": null,
	   "metadata": {
	    "collapsed": true
	   },
	   "outputs": [],
"source": [
"//clc()\n",
"Hna = 26.04;//J/g-atomK\n",
"Hs = 22.6;//J/g-atomK\n",
"Ho = 16.8;//J/g-atomK\n",
"Hh = 9.6;//J/g-atomK\n",
"Hna2so410h2o = 2*Hna + Hs + 14*Ho  + 20*Hh;\n",
"Hexp = 592.2;//J/molK\n",
"Deviation = (Hexp - Hna2so410h2o)*100/Hexp;\n",
"disp('%',Deviation,'Deviation in heat capacity = ')"
   ]
   }
,
{
		   "cell_type": "markdown",
		   "metadata": {},
		   "source": [
			"## Example 11.16: Heat_of_vaporization_calculation.sce"
		   ]
		  },
  {
"cell_type": "code",
	   "execution_count": null,
	   "metadata": {
	    "collapsed": true
	   },
	   "outputs": [],
"source": [
"//clc()\n",
"P1 = 75;//kPa\n",
"T1 = 573;//K\n",
"Tvap = 365;//K\n",
"Tbasis = 273;//K\n",
"//Since, the boiling point of water at 75kPa is 375K, the vapour at 573K is superheated;\n",
"H1 = 3075;//kJ/kg\n",
"Cliq = 4.2;//kJ/kgK\n",
"Cvap = 1.97;//kJ/kg/K\n",
"m = 1;//kg\n",
"//let assume converting liq. water into superheated stream occurs in 3 steps,\n",
"//step1 - water is heated from 273K to 365 K at constant pressure,enthalpy change is the heat required to change the temperature,\n",
"Hc1 = m*Cliq * ( Tvap - Tbasis );\n",
"//step2 - the liq is vapurized at constant pressure and constant temperature, enthalpy change is equal to the heat of vapourisation, say Hc2\n",
"//step3 - the saturated vapour at 365K is heated to 573K at constant pressure, the enthalpy change is the heat required to raise the temperature\n",
"Hc3 = m*Cvap*(T1 - Tvap);\n",
"//total enthalpy = 3075 = Hc1 + Hc2 + Hc3, therefore\n",
"Hc2 = H1 - Hc1 - Hc3;\n",
"disp('kJ/kg',Hc2,'Heat of vapourisation = ')"
   ]
   }
,
{
		   "cell_type": "markdown",
		   "metadata": {},
		   "source": [
			"## Example 11.17: Heat_requirement.sce"
		   ]
		  },
  {
"cell_type": "code",
	   "execution_count": null,
	   "metadata": {
	    "collapsed": true
	   },
	   "outputs": [],
"source": [
"//clc()\n",
"T1 = 250;//K\n",
"T = 273.15;//K\n",
"T2 = 400;//K\n",
"Cice = 2.037;//kJ/kgK\n",
"T3 = 373.15;//K\n",
"Cliq = 75.726;//kJ/kmolK\n",
"//Cp = 30.475 + 9.652*10^-3*T + 1.189*10^-6*T^2\n",
"Hfusion = 6012;//kJ/kmol\n",
"Hvap = 40608;//kJ/kmol\n",
"//1 - Heat for raising the temperature of ice, H1\n",
"H1 = Cice * (T - T1);\n",
"//2 - Latent heat of fusion of ice,  Hf\n",
"Hf = Hfusion / 18.016;//kJ\n",
"//3 - Sensible heat of raising the temperature of water, H2\n",
"H2 = Cliq * ( T3 - T)/18.016;\n",
"//4 - Latent heat of vaporization of water, Hv\n",
"Hv = Hvap / 18.016;\n",
"//5 - Sensible heat of raising the temperature of water vapou, H3\n",
"H3 = (integrate('30.475 + 9.652*10^-3*T + 1.189*10^-6*T^2','T',T3,T2))/18.016;\n",
"Q = H1 + H2 + H3 + Hf + Hv;\n",
"disp('kJ',Q,'Heat required = ')"
   ]
   }
,
{
		   "cell_type": "markdown",
		   "metadata": {},
		   "source": [
			"## Example 11.18: Equilibrium_temperature_of_mixture.sce"
		   ]
		  },
  {
"cell_type": "code",
	   "execution_count": null,
	   "metadata": {
	    "collapsed": true
	   },
	   "outputs": [],
"source": [
"//clc()\n",
"//Cp = 0.16 + 4.78 * (10^-3) * T ( organic liquid )\n",
"//Cp = 0.7935 + 1.298 * (10^-4) * T ( CCL4 )\n",
"Tb = 349.9;//K\n",
"Hv = 195;//kJ/kg\n",
"Cp = 0.4693;//kJ/kgK\n",
"//Let T be the final temperature\n",
"//integration(T - 650)(0.16 + 4.78 * (10^-3) * T)dt = integration(295 - T)(0.7935 + 1.298 * (10^-4) * T)dt\n",
"// the above equation yields, 2.4549*(10^-3)*T^2 + 0.9535*T - 1353.51 = 0, from this we get\n",
"T = 573.3;//K\n",
"//since this temperature is above boiling point of CCl4,\n",
"//heat balance is, integration(T - 650)(0.16 + 4.78 * (10^-3) * T)dt = integration(295 - 349.9)(0.7935 + 1.298 * (10^-4) * T)dt + Hv + integration(349.9 - T)*0.4693*dT\n",
"//solving above equation, we get,\n",
"T1 = 540.1;//K\n",
"disp('K',T1,'equilibrium temperature of the mixture = ')"
   ]
   }
,
{
		   "cell_type": "markdown",
		   "metadata": {},
		   "source": [
			"## Example 11.19: Estimation_of_mean_heat_of_vaporisation.sce"
		   ]
		  },
  {
"cell_type": "code",
	   "execution_count": null,
	   "metadata": {
	    "collapsed": true
	   },
	   "outputs": [],
"source": [
"//clc()\n",
"T1 = 363;//K\n",
"T2 = 373;//K\n",
"P1s = 70.11;//kPa\n",
"P2s = 101.3;//kPa\n",
"R = 8.314;//kJ/kmolK\n",
"// ln(P2s / P1s) = Hv / R * (1/T1 - 1/T2);\n",
"Hv = (log(P2s/P1s)*R)/(1/T1 - 1/T2);\n",
"Hv1 = Hv / (18);\n",
"disp('kJ/kg',Hv1,'Mean heat of vaporization = ')"
   ]
   }
,
{
		   "cell_type": "markdown",
		   "metadata": {},
		   "source": [
			"## Example 11.1: Power_calculatio.sce"
		   ]
		  },
  {
"cell_type": "code",
	   "execution_count": null,
	   "metadata": {
	    "collapsed": true
	   },
	   "outputs": [],
"source": [
"//clc()\n",
"m = 75;//kg\n",
"g = 9.81//m^2/s\n",
"d = 10;//m\n",
"t = 2.5*60;//s\n",
"f = m*g;\n",
"w = f * d;\n",
"P = w / t;\n",
"disp('Nm',w,'The work done = ')\n",
"disp('W',P,'Power required = ')"
   ]
   }
,
{
		   "cell_type": "markdown",
		   "metadata": {},
		   "source": [
			"## Example 11.20: Heat_of_vaporization_of_methyl_chloride.sce"
		   ]
		  },
  {
"cell_type": "code",
	   "execution_count": null,
	   "metadata": {
	    "collapsed": true
	   },
	   "outputs": [],
"source": [
"//clc()\n",
"T = 273.15 - 30;//K\n",
"//lnPs = 14.2410 - 2137.72 / (T-26.72)\n",
"//dlnPs/dT = Hv / RT2\n",
"Hv = 2137.72 * R * T^2 / ( T - 26.72 )^2;\n",
"disp('kJ/kmol',Hv,'Heat of vaporization = ')"
   ]
   }
,
{
		   "cell_type": "markdown",
		   "metadata": {},
		   "source": [
			"## Example 11.21: Watson_equation.sce"
		   ]
		  },
  {
"cell_type": "code",
	   "execution_count": null,
	   "metadata": {
	    "collapsed": true
	   },
	   "outputs": [],
"source": [
"//clc()\n",
"Hv1 = 2256;//kJ/kg\n",
"T1 = 373;//K\n",
"T2 = 473;//K\n",
"Tc = 647;//K\n",
"Tr1 = T1 / Tc;\n",
"Tr2 = T2 / Tc;\n",
"//Hv2 / Hv1 = ((1-Tr2)/(1-Tr1))^0.38\n",
"Hv2 = Hv1*(((1-Tr2)/(1-Tr1))^0.38);\n",
"disp('kJ/kg',Hv2,'Latent heat of vaporization of water at 473K = ')"
   ]
   }
,
{
		   "cell_type": "markdown",
		   "metadata": {},
		   "source": [
			"## Example 11.22: Kistyakowsky_equatio.sce"
		   ]
		  },
  {
"cell_type": "code",
	   "execution_count": null,
	   "metadata": {
	    "collapsed": true
	   },
	   "outputs": [],
"source": [
"//clc()\n",
"//Cp = a + b*T\n",
"T1 = 293.15;//K\n",
"Cp1 = 131.05;//J/molK\n",
"T2 = 323;//K\n",
"Cp2 = 138.04;//J/molK\n",
"//a + 293*b = 131.05\n",
"//a + 323*b = 138.04\n",
"b = (Cp1 - Cp2)/(T1 - T2);\n",
"a = Cp1 - b * T1;\n",
"//Cp = 62.781 + 0.233*T\n",
"// Hvb / Tb = 36.63 + 8.31lnTb\n",
"Tb = 273.15 + 80.1;//K\n",
"Hvb = (36.63 + 8.31*log(Tb)) * Tb;\n",
"m = 100;//kg\n",
"H = m*(10^3) * (integrate('62.781 + 0.233*T','T',T1,Tb))/78.048 + m*(10^3)*Hvb/78.048;\n",
"disp('J',H,'Heat required = ')"
   ]
   }
,
{
		   "cell_type": "markdown",
		   "metadata": {},
		   "source": [
			"## Example 11.23: Quality_of_steam.sce"
		   ]
		  },
  {
"cell_type": "code",
	   "execution_count": null,
	   "metadata": {
	    "collapsed": true
	   },
	   "outputs": [],
"source": [
"//clc()\n",
"P = 10;//kPa\n",
"T1 = 323.15;//K\n",
"T2 = 373.15;//K\n",
"T = 358.15;//K\n",
"H1 = 2592.6;//kJ/kg\n",
"H2 = 2687.5;//kJ/kg\n",
"//H by interpolation,\n",
"H = H1 + ((H2 - H1)/(T2 - T1))*(T - T1);\n",
"Hl = 697.061;//kJ/kg\n",
"Hg = 2762;//kJ/kg\n",
"//H = x*Hl + ( 1 - x )* Hg\n",
"x = (H - Hg)/(Hl - Hg) ;\n",
"Pmois = x*100;\n",
"Psteam = ( 1 - x )*100;\n",
"disp('%',Pmois,'Percentage of moisture = ')\n",
"disp('%',Psteam,'Percentage of dry saturated steam = ')"
   ]
   }
,
{
		   "cell_type": "markdown",
		   "metadata": {},
		   "source": [
			"## Example 11.24: Heat_calculatio.sce"
		   ]
		  },
  {
"cell_type": "code",
	   "execution_count": null,
	   "metadata": {
	    "collapsed": true
	   },
	   "outputs": [],
"source": [
"//clc()\n",
"P = 3500;//kPa\n",
"T = 673.15;//K\n",
"SV = 0.08453;//m^3/kg\n",
"Vcondensed = 1/2;\n",
"m = 100;//kg\n",
"V = m * SV / (m/2);\n",
"//m*(Vl+Vg)*Vcondensed = m * SV\n",
"//But Vl is negligible,\n",
"Vg = m * SV / (m * Vcondensed);\n",
"//using steam table\n",
"T1 = 459.5;//K\n",
"P1 = 1158;//kPa\n",
"//internal energy of superheated steam from steam table\n",
"I = 2928.4;//kJ/kg\n",
"U1 = m * I;\n",
"Ul = 790;//kJ/kg\n",
"Ug = 2585.9;//kJ/kg\n",
"U2 = m*Vcondensed*Ul + m*(1-Vcondensed)*Ug;\n",
"Q = U2 - U1;\n",
"disp('kJ',Q,'The amount of heat removed fromt he system = ')"
   ]
   }
,
{
		   "cell_type": "markdown",
		   "metadata": {},
		   "source": [
			"## Example 11.25: Enthalpy_balance_for_evaporation_process.sce"
		   ]
		  },
  {
"cell_type": "code",
	   "execution_count": null,
	   "metadata": {
	    "collapsed": true
	   },
	   "outputs": [],
"source": [
"//clc()\n",
"m = 1000;//kg/h ( basis  mass of 10% NaOH solution )\n",
"Pfeed = 10;//%\n",
"Ppro = 50;//(Percentage NaOH in product)\n",
"//Taking NaOH balance,P being the weight of the product\n",
"P = Pfeed * m / Ppro;\n",
"//W be the weight of water evaporized\n",
"W = m - P;\n",
"//step1 - cooling 1000kg/h of 10% solution from 305K to 298K\n",
"T1 = 305;//K\n",
"T2 = 298;//K\n",
"Cliq = 3.67;//kJ/kgK\n",
"H1 = m*Cliq * (T2 - T1);\n",
"//step2 - separation into pure components\n",
"Hsolution = -42.85;//kJ/mol\n",
"H2 = -Pfeed * m *1000 *Hsolution/ (40*100);\n",
"//step3 - W kg water is converted to water vapour\n",
"Hvap = 2442.5;//kJ/kg\n",
"H3 = W * Hvap;\n",
"//step4 - water vapour at 298K is heated to 373.15K\n",
"Cvap = 1.884;//kJ/kgK\n",
"T3 = 373.15;//K\n",
"H4 = W * Cvap * ( T3 - T2 );\n",
"//step5 - formation of 200kg of 50% NaOH solution at 298K\n",
"Hsolu = -25.89;//kJ/mol\n",
"H5 = Pfeed * m *1000 *Hsolu/ (40*100);\n",
"//step6 - Heating the solution from 298K to 380K\n",
"Csolu = 3.34;//kJ/kg\n",
"T4 = 380;//K\n",
"H6 = P * Csolu * (T4 - T2);\n",
"Htotal = H1 + H2 + H3 + H4 + H5 + H6;\n",
"disp('kJ',Htotal,'The enthalpy change accompanying the complete process = ')"
   ]
   }
,
{
		   "cell_type": "markdown",
		   "metadata": {},
		   "source": [
			"## Example 11.26: Mean_heat_capacity_of_ethanol_water_solution.sce"
		   ]
		  },
  {
"cell_type": "code",
	   "execution_count": null,
	   "metadata": {
	    "collapsed": true
	   },
	   "outputs": [],
"source": [
"//clc()\n",
"Nwater = 0.8;//moles\n",
"Nethanol = 0.2;//moles\n",
"T = 323;//K\n",
"Cwater = 4.18*10^3;//J/kgK\n",
"Cethanol = 2.58*10^3;//J/kgK\n",
"Hmixing1 = -758;//J/mol ( at 298K )\n",
"Hmixing2 = -415;//J/mol ( at 323K )\n",
"T1 = 298;//K\n",
"T2 = 523;//K\n",
"//step1 - 0.8 mol of water is cooled from 323 K to 298K\n",
"H1 = Nwater * 18 * Cwater * ( T1 - T )/ 1000;\n",
"//step2 - 0.2 mol ethanol cooled from 323K to 298K\n",
"H2 = Nethanol * 46 * Cethanol * ( T1 - T )/1000;\n",
"//step3 - 0.8 mol water and 0.2 mol ethanol are mixed together,\n",
"H3 = Hmixing1;\n",
"//step4 solution is heated to 323K, H4 = Cpm * (T - T1)\n",
"//Hmixing2 = H1 + H2 + H3 + H4\n",
"H4 = Hmixing2 - H1 - H2 - H3;\n",
"Cpm = H4 / ( T - T1 );\n",
"disp('J/molK',Cpm,'The mean heat capacity of a 20 percent solution = ')"
   ]
   }
,
{
		   "cell_type": "markdown",
		   "metadata": {},
		   "source": [
			"## Example 11.27: Evaporation_of_NaOH_solution.sce"
		   ]
		  },
  {
"cell_type": "code",
	   "execution_count": null,
	   "metadata": {
	    "collapsed": true
	   },
	   "outputs": [],
"source": [
"//clc()\n",
"F = 1000;//kg/h\n",
"H1 = 116.3;//kJ/kg ( enthalpy of feed solution - 10% NaOH, 305 K )\n",
"H2 = 560.57;//kJ/kg ( enthalpy of thick liquor - 50% NaOH, 380 K )\n",
"Hsteam = 2676;//kJ/kg ( 1atm , 373.15K )\n",
"//by doing material balances,\n",
"P = 200;//kg/h\n",
"mvap = 800;//kg/h\n",
"//Enthalpy balance gives, F*H1 + Q = mvap*Hsteam + P*H2\n",
"Q = (mvap*Hsteam + P*H2)-F*H1;\n",
"disp('kJ/h',Q,'Heat to be supplied = ')"
   ]
   }
,
{
		   "cell_type": "markdown",
		   "metadata": {},
		   "source": [
			"## Example 11.28: Heat_transfer_to_air.sce"
		   ]
		  },
  {
"cell_type": "code",
	   "execution_count": null,
	   "metadata": {
	    "collapsed": true
	   },
	   "outputs": [],
"source": [
"//clc()\n",
"U2 = 0.35*10^3;//kJ\n",
"U1 = 0.25*10^3;//kJ\n",
"//since the tank is rigid the volume does not change during heating, Under constant volume, the change in the internal energy is equal to the heat supplied\n",
"Q = U2 - U1;\n",
"disp('kJ',Q,'Heat transferred to the air = ')"
   ]
   }
,
{
		   "cell_type": "markdown",
		   "metadata": {},
		   "source": [
			"## Example 11.29: change_in_internal_energy.sce"
		   ]
		  },
  {
"cell_type": "code",
	   "execution_count": null,
	   "metadata": {
	    "collapsed": true
	   },
	   "outputs": [],
"source": [
"//clc()\n",
"W = -2.25*745.7;//W ( work done on the system and 1hp = 745.7W)\n",
"Q = -3400;//kJ/h ( Heat transferred to the surrounding )\n",
"U = Q*1000/3600 - W;\n",
"disp('J/s',U,'Rise in the Internal energy of the system = ')"
   ]
   }
,
{
		   "cell_type": "markdown",
		   "metadata": {},
		   "source": [
			"## Example 11.2: Kinetic_energy_calculation.sce"
		   ]
		  },
  {
"cell_type": "code",
	   "execution_count": null,
	   "metadata": {
	    "collapsed": true
	   },
	   "outputs": [],
"source": [
"//clc()\n",
"PE = 1.5*10^3;//J\n",
"m = 10;//kg\n",
"g = 9.81;//m/s^2\n",
"v = 50;//m/s\n",
"//PE = mgz\n",
"z = PE / (m*g);\n",
"KE = m* (v^2) / 2;\n",
"disp('m',z,'Height of the body from the ground = ')\n",
"disp('kJ',KE/1000,'Kinetic energy of the body = ')"
   ]
   }
,
{
		   "cell_type": "markdown",
		   "metadata": {},
		   "source": [
			"## Example 11.30: Heat_liberation_in_oxidation_of_iron_fillings.sce"
		   ]
		  },
  {
"cell_type": "code",
	   "execution_count": null,
	   "metadata": {
	    "collapsed": true
	   },
	   "outputs": [],
"source": [
"//clc()\n",
"//2Fe + 3/2O2 = Fe2O3\n",
"Hliberated = 831.08;//kJ\n",
"Q = -Hliberated*1000;\n",
"disp('J',Q,'Q = ')\n",
"//P(V) = (n)RT\n",
"//W = P(V) = (n)RT\n",
"n = -1.5;\n",
"R = 8.314;\n",
"T = 298;//K\n",
"W = (n) * R * T;\n",
"disp('J',W,'W = ')\n",
"U = Q - W;\n",
"disp('J',U,'U = ')"
   ]
   }
,
{
		   "cell_type": "markdown",
		   "metadata": {},
		   "source": [
			"## Example 11.31: Saturated_steam_and_saturated_water.sce"
		   ]
		  },
  {
"cell_type": "code",
	   "execution_count": null,
	   "metadata": {
	    "collapsed": true
	   },
	   "outputs": [],
"source": [
"//clc()\n",
"Vgas = 0.09;//m^3\n",
"Vliq = 0.01;//m^3\n",
"SVliq = 1.061*10^-3;//m^3/kg\n",
"SVvap = 0.8857;//m^3/kg\n",
"mvap = Vgas / SVvap;\n",
"mliq = Vliq / SVliq;\n",
"Ul = 504.5;//kJ/kg\n",
"Ug = 2529.5;//kJ/kg\n",
"U1 = Ul * mliq + Ug * mvap;\n",
"SVtotal = (Vgas + Vliq)/(mvap + mliq);\n",
"//using steam table , these value of specific volume corresponds to pressure of 148.6bar and internal energy of 2464.6kJ/kg\n",
"U = 2464;//kJ/kg\n",
"Utotal = U * (mvap + mliq);\n",
"//Utotal - U1 = Q - W,but W = o, hence, \n",
"Q = Utotal - U1;\n",
"disp('kJ',Q,'Heat to be added = ')"
   ]
   }
,
{
		   "cell_type": "markdown",
		   "metadata": {},
		   "source": [
			"## Example 11.32: constant_volume_and_constant_pressure_process.sce"
		   ]
		  },
  {
"cell_type": "code",
	   "execution_count": null,
	   "metadata": {
	    "collapsed": true
	   },
	   "outputs": [],
"source": [
"//clc()\n",
"m = 10;//kg(air)\n",
"N = m / 29;//kmol\n",
"P1 = 100;//kPa\n",
"T1 = 300;//K\n",
"R = 8.314;\n",
"V1 = N * R * T1 / P1;\n",
"V2 = V1;\n",
"T2 = 600;//K\n",
"Cv = 20.785;//kJ/kmolK\n",
"Cp = 29.099;//kJ/kmolK\n",
"U = N * Cv * (T2 - T1);\n",
"Q = U;\n",
"W = Q - U;\n",
"H = U + N * R * ( T2 - T1 );\n",
"disp('kJ',U,'(a)Change in internal energy at constant volume = ')\n",
"disp('kJ',Q,'heat supplied at constant volume = ')\n",
"disp('kJ',W,'Work done at constant volume = ')\n",
"disp('kJ',H,'Change in Enthalpy at constant volume = ')\n",
"P2 = P1;\n",
"H2 = N * Cp * ( T2 - T1 );\n",
"Q2 = H2;\n",
"U2 = H2 - N * R * (T2 - T1);\n",
"W2 = Q2 - U2;\n",
"disp('kJ',U2,'(b)Change in internal energy at constant Pressure = ')\n",
"disp('kJ',Q2,'heat supplied at constant Pressure = ')\n",
"disp('kJ',W2,'Work done at constant Pressure = ')\n",
"disp('kJ',H2,'Change in Enthalpy at constant Pressure = ')"
   ]
   }
,
{
		   "cell_type": "markdown",
		   "metadata": {},
		   "source": [
			"## Example 11.33: series_of_operations.sce"
		   ]
		  },
  {
"cell_type": "code",
	   "execution_count": null,
	   "metadata": {
	    "collapsed": true
	   },
	   "outputs": [],
"source": [
"//clc()\n",
"Cp = 29.3;//kJ/kmol\n",
"R = 8.314;\n",
"Cv = Cp - R;\n",
"T1 = 300;//K\n",
"P1 = 1;//bar\n",
"P2 = 2;//bar\n",
"//step1 - Volume remains constant, therefore the work done is zero and heat supplied is Cv, Also T2/T1 = P2/P1\n",
"T2 = P2 * T1 / P1;\n",
"Q1 = Cv * ( T2 - T1 );\n",
"W1 = 0;\n",
"disp('kJ',W1,'Work done at constant volume = ')\n",
"disp('kJ',Q1,'Heat supplied at constant volume = ')\n",
"//step2 - Process is abdiabatic\n",
"Q2 = 0;\n",
"r = 1.4;\n",
"T3 = T2 * (( P1 / P2 )^((r - 1)/r));\n",
"W2 = Cv * ( T2 - T3 ); \n",
"disp(T3)\n",
"disp('kJ',W2,'Work done in adiabatic process = ')\n",
"disp('kJ',Q2,'Heat supplied in adiabatic process = ')\n",
"//step3 - process is isobaric\n",
"Q3 = Cp * (T1 - T3);\n",
"U3 = Cv * (T1 - T3);\n",
"W3 = Q3 - U3;\n",
"disp('kJ',W3,'Work done at constant pressure = ')\n",
"disp('kJ',Q3,'Heat supplied at constant pressure = ')"
   ]
   }
,
{
		   "cell_type": "markdown",
		   "metadata": {},
		   "source": [
			"## Example 11.34: change_in_internal_energy_and_enthalpy_and_heat_supplied_and_work_done.sce"
		   ]
		  },
  {
"cell_type": "code",
	   "execution_count": null,
	   "metadata": {
	    "collapsed": true
	   },
	   "outputs": [],
"source": [
"//clc()\n",
"P1 = 5;//bar\n",
"P2 = 4;//bar\n",
"T1 = 600;//K\n",
"V = 0.1;//m^3\n",
"T2 = 400;//K\n",
"T = 298;//K\n",
"Cp = 30;//J/molK\n",
"//step1 - isothermal condition\n",
"U1 = 0;\n",
"H1 = 0;\n",
"P = 1;//bar\n",
"R = 8.314;\n",
"W1 = R*T1*log(P1/P2);\n",
"Q1 = W1;\n",
"disp('kJ/kmol',U1,'(a)Change in the internal energy in isothermal condition = ')\n",
"disp('kJ/kmol',H1,'Change in the enthalpy energy in isothermal condition = ')\n",
"disp('kJ/kmol',W1,'Work done in isothermal condition = ')\n",
"disp('kJ/kmol',Q1,'Heat supplied in isothermal condition = ')\n",
"N = P * (1.01325 * 10^5) * V / ( R * T );\n",
"Cv = Cp - R;\n",
"U2 = Cv * (T2 - T)*N;\n",
"H2 = Cp * (T2 - T)*N;\n",
"W2 = 0;\n",
"Q2 = U2 + W2;\n",
"disp('kJ/kmol',U2,'(b)Change in the internal energy at constant volume condition = ')\n",
"disp('kJ/kmol',H2,'Change in the enthalpy energy at constant volume condition = ')\n",
"disp('kJ/kmol',W2,'Work done at constant volume condition = ')\n",
"disp('kJ/kmol',Q2,'Heat supplied at constant volume condition = ')"
   ]
   }
,
{
		   "cell_type": "markdown",
		   "metadata": {},
		   "source": [
			"## Example 11.35: Heat_removed_in_condenser.sce"
		   ]
		  },
  {
"cell_type": "code",
	   "execution_count": null,
	   "metadata": {
	    "collapsed": true
	   },
	   "outputs": [],
"source": [
"//clc()\n",
"m = 1;//kg\n",
"u2 = 0.5;//m/s\n",
"u1 = 60;//m/s\n",
"H = -3000;//kJ/kg\n",
"//KE = (u^2)/2\n",
"KE = ((u2 ^ 2) - (u1^2))/2000;\n",
"g = 9.81;//m/s^2\n",
"Z1 = 7.5;//m\n",
"Z2 = 2;//m\n",
"//PE = g * (Z)\n",
"PE = g * (Z2 - Z1)/1000;\n",
"W = 800;//kJ/kg\n",
"Q = H + PE + KE + W;\n",
"disp('kJ/kg',Q,'Heat removed from the fluid = ')"
   ]
   }
,
{
		   "cell_type": "markdown",
		   "metadata": {},
		   "source": [
			"## Example 11.36: Throttling_process.sce"
		   ]
		  },
  {
"cell_type": "code",
	   "execution_count": null,
	   "metadata": {
	    "collapsed": true
	   },
	   "outputs": [],
"source": [
"//clc()\n",
"PE = 0;\n",
"W = 0;\n",
"Q = 0;\n",
"//(H) + (u^2)/2 = 0\n",
"//according to the realtion u1 * v1 = u2 * v2\n",
"//(u^2)/2 is negligible, change in enthalpy is 0\n",
"T1 = 623;//K\n",
"P1 = 6000;//kPa\n",
"H1 = 3045.8;//kJ/kg ( Enthalpy of the steam using steam table )\n",
"P2 = 1000;//kPa\n",
"T2 = 570;//K ( value of temperature corresponding to the enthalpy and pressure using the steam table )\n",
"disp('K',T2,'Temperature of superheated steam = ')"
   ]
   }
,
{
		   "cell_type": "markdown",
		   "metadata": {},
		   "source": [
			"## Example 11.37: water_pumping_and_energy_balances.sce"
		   ]
		  },
  {
"cell_type": "code",
	   "execution_count": null,
	   "metadata": {
	    "collapsed": true
	   },
	   "outputs": [],
"source": [
"//clc()\n",
"g = 9.81;//m/s^2\n",
"z = 55;\n",
"PE = g * z;\n",
"KE = 0;\n",
"T2 = 288;//K\n",
"f = 1.5*10^-2;//m^3/min\n",
"D = 1000;//kg/m^3\n",
"m = f * D;\n",
"Qsupp = 500;//kJ/min\n",
"Qlost = 400;//kJ/min\n",
"Qnet = (Qsupp - Qlost) * D / m ;\n",
"W = 2*745.7;//W\n",
"Ws = -W * 0.6 / (m/60);\n",
"H = Qnet - Ws - PE - KE;\n",
"Cp = 4200;\n",
"T1 = H / Cp;\n",
"T = T1 + T2;\n",
"disp('K',T,'The temperature of exit water = ')"
   ]
   }
,
{
		   "cell_type": "markdown",
		   "metadata": {},
		   "source": [
			"## Example 11.38: Energy_balance_on_rotary_drier.sce"
		   ]
		  },
  {
"cell_type": "code",
	   "execution_count": null,
	   "metadata": {
	    "collapsed": true
	   },
	   "outputs": [],
"source": [
"//clc()\n",
"m = 1000;//kg/h (dried product)\n",
"// S be the amount of dry solid in the product stream \n",
"Pmoisture1 = 4;//%\n",
"Pmoisture2 = 0.2;//%\n",
"S = m *(1 - P/1000);\n",
"X1 = Pmoisture1/(100 - Pmoisture1);\n",
"X2 = Pmoisture2/(100 - Pmoisture2);\n",
"//let G be the weight of dry air in the air stream \n",
"Y1 = 0.01;//kg water/kg dry solid\n",
"Cp = 1.507;\n",
"Cw = 4.2;\n",
"T1 = 298;//K\n",
"T = 273;//K\n",
"T2 = 333;//K\n",
"Tg1 = 363;//K\n",
"Tg2 = 305;//K\n",
"Hs1 = (Cp + X1 * Cw) * (T1 - T);\n",
"Hs2 = (Cp + X2 * Cw) * (T2 - T);\n",
"//Hg = Cs(Tg - To) + Y*L\n",
"//Cs = 1.005 + 1.884*Y\n",
"L = 2502.3;//kJ/kg dry air\n",
"Hg1 = (1.005 + 1.884 * Y1)*(Tg1 - T) + Y1 * L;\n",
"Q = -40000;//kJ/h\n",
"//Calculating for T2, Hg2 = 32.16 + 2562.59*Y \n",
"//change in enthalpy = Q\n",
"//H1 = S * Hs1 + G * HG1 = 37814.22 + 117.17G\n",
"//H2 = 100728.14 + G* (32.16 + 2561.59*Y)\n",
"//change in enthalpy = Q\n",
"//62913.92 + G *(-85.01 + 2561.59*Y) + 40000 = 0\n",
"//102913.92 + G *(-85.01 + 2561.59*Y) = 0            (1)\n",
"//moisture balance, S*X1 + G*Y1 = S*X2 + G*Y2\n",
"//G*(Y-0.01) = 39.62                                 (2)\n",
"//solving simultaneously ( 1 ) and ( 2 ), \n",
"Gdry = 3443;//kg/h\n",
"G = Gdry*(1 + Y1);\n",
"disp('kg/h',G,'Air requirement = ')"
   ]
   }
,
{
		   "cell_type": "markdown",
		   "metadata": {},
		   "source": [
			"## Example 11.39: Energy_balance_on_the_fractionator.sce"
		   ]
		  },
  {
"cell_type": "code",
	   "execution_count": null,
	   "metadata": {
	    "collapsed": true
	   },
	   "outputs": [],
"source": [
"//clc()\n",
"m = 1000;//kg/h ( feed solution )\n",
"//F - mass of feed distilled, W - mass of the bottom product, D - mass of the distillate, xf, xd and xw - weight fraction of actone in feed, distillate and residue resp.\n",
"//total balance, F = D + W\n",
"//Acetone balance, F*xf = D*xd + w*xw\n",
"F = 1000;\n",
"xf = 0.10;\n",
"xd = 0.9;\n",
"xw = 0.01;\n",
"//substituting in above equations,\n",
"D = F * (xf - xw) / (xd - xw);\n",
"W = F - D;\n",
"R = 8;\n",
"L = R * D;\n",
"//material balance around the condenser,G vapour reaching the condenser\n",
"G = L + D;\n",
"Td = 332;//K\n",
"T2 = 300;//K\n",
"Tw = 370;//K\n",
"Tf = 340;//K\n",
"Lacetone1 = 620;//kJ/kg\n",
"Lwater1 = 2500;//kJ/kg\n",
"Ld = xd * Lacetone1 + (1 - xd) * Lwater1;\n",
"Cpacetone = 2.2;//kJ/kgK\n",
"Cpwater = 4.2;//kJ/kgK\n",
"Cp = xd * Cpacetone + (1-xd)*Cpwater;\n",
"H = Ld + Cp * ( Td - T2 );\n",
"Cpc = 4.2;//kJ/kg\n",
"Tc = 30;//K ( change in temperature allowable for cooling water )\n",
"m = G * H / ( Cpc * Tc );\n",
"disp('kg/h',m,'(a)The circulation rate of cooling water = ')\n",
"Qc = G * H;\n",
"Hd = 0;\n",
"Hw = (xw * Cpacetone + (1-xw)*Cpwater)*(Tw - T2);\n",
"Hf = (xf * Cpacetone + (1-xf)*Cpwater)*(Tf - T2);\n",
"Qb = D * Hd + W * Hw + Qc - F * Hf;\n",
"Hcondensation = 2730;//kJ/kg\n",
"msteam = Qb/Hcondensation;\n",
"disp('kg/h',msteam,'(b)Amount of steam supplied = ')"
   ]
   }
,
{
		   "cell_type": "markdown",
		   "metadata": {},
		   "source": [
			"## Example 11.3: Work_done_calculation_for_a_gas_confined_in_a_cylinder.sce"
		   ]
		  },
  {
"cell_type": "code",
	   "execution_count": null,
	   "metadata": {
	    "collapsed": true
	   },
	   "outputs": [],
"source": [
"//clc()\n",
"d = 100 /1000;//m\n",
"m = 50;//kg\n",
"P = 1.01325*10^5;//Pa\n",
"A = %pi * (d^2)/4;\n",
"Fatm = P * A;\n",
"Fwt = m * g;\n",
"Ftotal = Fatm + Fwt;\n",
"P = Ftotal / A;\n",
"disp('bar',P/10^5,'(a)Pressure of the gas = ')\n",
"z = 500/1000;//m\n",
"w = Ftotal * z;\n",
"disp('J',w,'(b)Work done by the gas = ')"
   ]
   }
,
{
		   "cell_type": "markdown",
		   "metadata": {},
		   "source": [
			"## Example 11.4: Power_requirement_of_the_pump.sce"
		   ]
		  },
  {
"cell_type": "code",
	   "execution_count": null,
	   "metadata": {
	    "collapsed": true
	   },
	   "outputs": [],
"source": [
"//clc()\n",
"Sgr = 0.879;\n",
"F = 5;//m^3/h\n",
"D = Sgr * 1000;\n",
"m = F * D/3600;//kg/s\n",
"P = 3500;//kPa\n",
"W = P * m * 1000/ D;\n",
"disp('W',W,'Power requirement for the pump = ')"
   ]
   }
,
{
		   "cell_type": "markdown",
		   "metadata": {},
		   "source": [
			"## Example 11.5: Specific_enthalpy_of_the_fluid_in_the_tank.sce"
		   ]
		  },
  {
"cell_type": "code",
	   "execution_count": null,
	   "metadata": {
	    "collapsed": true
	   },
	   "outputs": [],
"source": [
"//clc()\n",
"d = 3;//m\n",
"m = 12500;//kg\n",
"P = 7000;//kPa\n",
"U = 5.3*10^6;//kJ\n",
"Vtank = 4*%pi*((d/2)^3) / 3;\n",
"Vliq = Vtank / 2;\n",
"H = U + P * Vliq;\n",
"disp('kJ/kg',H/m,'Specific enthalpy of the fluid in the tank = ')"
   ]
   }
,
{
		   "cell_type": "markdown",
		   "metadata": {},
		   "source": [
			"## Example 11.6: internal_energy_and_enthalpy_change_calculation.sce"
		   ]
		  },
  {
"cell_type": "code",
	   "execution_count": null,
	   "metadata": {
	    "collapsed": true
	   },
	   "outputs": [],
"source": [
"//clc()\n",
"P = 101.3;//kPa\n",
"SVl = 1.04 * 10^-3;//m^3/kmol\n",
"SVg = 1.675;//m^3/kmol\n",
"Q = 1030;//kJ\n",
"W = P * 10^3 * (SVg - SVl)/1000;\n",
"U = Q - W;\n",
"H = U +  P * 10^3 * (SVg - SVl)/1000;\n",
"disp('kJ/kmol',U,'Change in internal energy = ')\n",
"disp('kJ/kmol',H,'Change in enthalpy = ')"
   ]
   }
,
{
		   "cell_type": "markdown",
		   "metadata": {},
		   "source": [
			"## Example 11.7: change_in_internal_energy.sce"
		   ]
		  },
  {
"cell_type": "code",
	   "execution_count": null,
	   "metadata": {
	    "collapsed": true
	   },
	   "outputs": [],
"source": [
"//clc()\n",
"//work is done on the system, hence, W is negative\n",
"W = - 2 * 745.7;//J/s\n",
"//heat is transferres to the surrounding, hence, heat transferred is negative,\n",
"Q = -3000;//kJ/h\n",
"U = Q*1000/3600 - W;\n",
"disp('J/s',U,'Change in internal energy = ')"
   ]
   }
,
{
		   "cell_type": "markdown",
		   "metadata": {},
		   "source": [
			"## Example 11.8: reaction_of_iron_with_HCl.sce"
		   ]
		  },
  {
"cell_type": "code",
	   "execution_count": null,
	   "metadata": {
	    "collapsed": true
	   },
	   "outputs": [],
"source": [
"//clc()\n",
"//Fe(s) + 2HCl(aq) = FeCl2(aq) + H2(g)\n",
"MFe = 55.847;\n",
"m = 1;//kg\n",
"Nfe = m * 10^3/MFe;\n",
"Nh2 = Nfe;//(since 1 mole of Fe produces 1 mole of H2)\n",
"T = 300;//K\n",
"R = 8.314;\n",
"//the change in volume is equal to the volume occupied by hydrogen produced\n",
"PV = Nh2 * R * T;\n",
"W = PV;\n",
"disp('kJ',W,'Work done = ')"
   ]
   }
,
{
		   "cell_type": "markdown",
		   "metadata": {},
		   "source": [
			"## Example 11.9: Thermic_fluid.sce"
		   ]
		  },
  {
"cell_type": "code",
	   "execution_count": null,
	   "metadata": {
	    "collapsed": true
	   },
	   "outputs": [],
"source": [
"//clc()\n",
"//Cp =1.436 + 2.18*10^-3*T;\n",
"m = 1000/3600;//kg/s\n",
"T1 = 380;//K\n",
"T2 = 550;//K\n",
"x = integrate('1.436 + 2.18*10^-3*T','T',T1,T2);\n",
"Q = m*x;\n",
"disp('kW',Q,'Heat load on the heater = ')"
   ]
   }
],
"metadata": {
		  "kernelspec": {
		   "display_name": "Scilab",
		   "language": "scilab",
		   "name": "scilab"
		  },
		  "language_info": {
		   "file_extension": ".sce",
		   "help_links": [
			{
			 "text": "MetaKernel Magics",
			 "url": "https://github.com/calysto/metakernel/blob/master/metakernel/magics/README.md"
			}
		   ],
		   "mimetype": "text/x-octave",
		   "name": "scilab",
		   "version": "0.7.1"
		  }
		 },
		 "nbformat": 4,
		 "nbformat_minor": 0
}
