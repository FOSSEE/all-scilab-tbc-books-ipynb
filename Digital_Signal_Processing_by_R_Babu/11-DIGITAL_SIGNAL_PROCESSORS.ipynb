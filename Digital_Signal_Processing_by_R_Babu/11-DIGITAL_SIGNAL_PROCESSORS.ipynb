{
"cells": [
 {
		   "cell_type": "markdown",
	   "metadata": {},
	   "source": [
       "# Chapter 11: DIGITAL SIGNAL PROCESSORS"
	   ]
	},
{
		   "cell_type": "markdown",
		   "metadata": {},
		   "source": [
			"## Example 11.3: Program_for_Integer_Multiplication.sce"
		   ]
		  },
  {
"cell_type": "code",
	   "execution_count": null,
	   "metadata": {
	    "collapsed": true
	   },
	   "outputs": [],
"source": [
"//Program 11.3\n",
"//Program To Calculate the value of the function\n",
"//Y=A*B\n",
"clear;\n",
"clc;\n",
"close;\n",
"//Input Data\n",
"A=input('Enter Integer Number A =');\n",
"B=input('Enter Integer Number B =');\n",
"//Multiplication Computation\n",
"Y=A*B;\n",
"//Display the result in command window\n",
"disp(Y,'Y = A*B = ');"
   ]
   }
,
{
		   "cell_type": "markdown",
		   "metadata": {},
		   "source": [
			"## Example 11.5: Function_Value_Calculation.sce"
		   ]
		  },
  {
"cell_type": "code",
	   "execution_count": null,
	   "metadata": {
	    "collapsed": true
	   },
	   "outputs": [],
"source": [
"//Program 11.5\n",
"//Program To Calculate the value of the function\n",
"//Y=A*X1+B*X2+C*X3\n",
"clear;\n",
"clc;\n",
"close;\n",
"//Data\n",
"A=1;\n",
"B=2;\n",
"C=3;\n",
"X1=4;\n",
"X2=5;\n",
"X3=6;\n",
"//Compute the function\n",
"Y=A*X1+B*X2+C*X3;\n",
"//Display the result in command window\n",
"disp(Y,'Y = A*X1+B*X2+C*X3 = ');"
   ]
   }
],
"metadata": {
		  "kernelspec": {
		   "display_name": "Scilab",
		   "language": "scilab",
		   "name": "scilab"
		  },
		  "language_info": {
		   "file_extension": ".sce",
		   "help_links": [
			{
			 "text": "MetaKernel Magics",
			 "url": "https://github.com/calysto/metakernel/blob/master/metakernel/magics/README.md"
			}
		   ],
		   "mimetype": "text/x-octave",
		   "name": "scilab",
		   "version": "0.7.1"
		  }
		 },
		 "nbformat": 4,
		 "nbformat_minor": 0
}
