{
"cells": [
 {
		   "cell_type": "markdown",
	   "metadata": {},
	   "source": [
       "# Chapter 2: THE Z TRANSFORM"
	   ]
	},
{
		   "cell_type": "markdown",
		   "metadata": {},
		   "source": [
			"## Example 2.10: z_Transform_Computation.sce"
		   ]
		  },
  {
"cell_type": "code",
	   "execution_count": null,
	   "metadata": {
	    "collapsed": true
	   },
	   "outputs": [],
"source": [
"//Example 2.10\n",
"//MAXIMA SCILAB TOOLBOX REQUIRED FOR THIS PROGRAM\n",
"//Z transform of r^n.cos(Wo*n)\n",
"clc;\n",
"syms r Wo n z;\n",
"x1=(r^n)*exp(sqrt(-1)*Wo*n);\n",
"X1=symsum(x1*(z^-n),n,0,%inf);\n",
"x2=(r^n)*exp(-sqrt(-1)*Wo*n);\n",
"X2=symsum(x2*(z^-n),n,0,%inf);\n",
"X=(X1+X2)/2;\n",
"disp(X,'X(z)=');"
   ]
   }
,
{
		   "cell_type": "markdown",
		   "metadata": {},
		   "source": [
			"## Example 2.11: z_Transform_of_the_Sequence.sce"
		   ]
		  },
  {
"cell_type": "code",
	   "execution_count": null,
	   "metadata": {
	    "collapsed": true
	   },
	   "outputs": [],
"source": [
"//Example 2.11\n",
"//MAXIMA SCILAB TOOLBOX REQUIRED FOR THIS PROGRAM\n",
"//Z- transform of n.a^n u(n) \n",
"clear;\n",
"clc ;\n",
"close ;\n",
"syms a n z;\n",
"x =(a) ^n;\n",
"X= symsum (x*(z^(-n)),n ,0, %inf )\n",
"Y = diff (X,z);\n",
"//Display the result in command window\n",
"disp (Y,'Z-transform of n.a^n u(n)  is:');"
   ]
   }
,
{
		   "cell_type": "markdown",
		   "metadata": {},
		   "source": [
			"## Example 2.13_a: z_Transform_of_Discrete_Time_Signals.sce"
		   ]
		  },
  {
"cell_type": "code",
	   "execution_count": null,
	   "metadata": {
	    "collapsed": true
	   },
	   "outputs": [],
"source": [
"//Example 2.13 (a)\n",
"//MAXIMA SCILAB TOOLBOX REQUIRED FOR THIS PROGRAM\n",
"//Z- transform of (-1/5)^n u(n)+5(1/2)^(-n)u(-n-1) \n",
"clear;\n",
"clc ;\n",
"close ;\n",
"syms n z;\n",
"x1 =(-1/5)^n ;\n",
"X1= symsum (x1 *(z^(-n)),n ,0, %inf );\n",
"x2 =(1/2)^(-n);\n",
"X2= symsum (5* x2 *(z^(-n)),n ,0, %inf );\n",
"X = (X1 -X2);\n",
"//Display the result in command window\n",
"disp (X,'Z-transform of [3(3^n)-4(2)^n] u(n)  is:');\n",
"disp('ROC is the Region 1/5 < mod(z) < 2');"
   ]
   }
,
{
		   "cell_type": "markdown",
		   "metadata": {},
		   "source": [
			"## Example 2.13_b: z_Transform_of_Discrete_Time_Signals.sce"
		   ]
		  },
  {
"cell_type": "code",
	   "execution_count": null,
	   "metadata": {
	    "collapsed": true
	   },
	   "outputs": [],
"source": [
"//Example 2.13 (b)\n",
"//MAXIMA SCILAB TOOLBOX REQUIRED FOR THIS PROGRAM\n",
"//Z transform\n",
"clc;\n",
"syms n z k;\n",
"x1=1;\n",
"X1=symsum(x1*z^(-n),n,0,0);\n",
"x2=1;\n",
"X2=symsum(x2*z^(-n),n,1,1);\n",
"x3=1;\n",
"X3=symsum(x3*z^(-n),n,2,2);\n",
"X=0.5*X1+X2-1/3*X3;\n",
"disp(X,'X(z)=');"
   ]
   }
,
{
		   "cell_type": "markdown",
		   "metadata": {},
		   "source": [
			"## Example 2.13_c: z_Transform_of_Discrete_Time_Signals.sce"
		   ]
		  },
  {
"cell_type": "code",
	   "execution_count": null,
	   "metadata": {
	    "collapsed": true
	   },
	   "outputs": [],
"source": [
"//Example 2.13 (c)\n",
"//MAXIMA SCILAB TOOLBOX REQUIRED FOR THIS PROGRAM\n",
"//Z- transform of u(n-2) \n",
"clear;\n",
"clc ;\n",
"close ;\n",
"syms n z;\n",
"x =1;\n",
"X= (1/(z^2))*symsum (x*(z^(-n)),n ,0, %inf );\n",
"//Display the result in command window\n",
"disp (X,'Z-transform of u(n-2) is:');"
   ]
   }
,
{
		   "cell_type": "markdown",
		   "metadata": {},
		   "source": [
			"## Example 2.13_d: z_Transform_of_Discrete_Time_Signals.sce"
		   ]
		  },
  {
"cell_type": "code",
	   "execution_count": null,
	   "metadata": {
	    "collapsed": true
	   },
	   "outputs": [],
"source": [
"//Example 2.13 (d)\n",
"//MAXIMA SCILAB TOOLBOX REQUIRED FOR THIS PROGRAM\n",
"//Z- transform of (n+0.5)((1/3)^n)u(n) \n",
"clear;\n",
"clc ;\n",
"close ;\n",
"syms n z;\n",
"x1 =(1/3)^n;\n",
"X11= symsum (x1*(z^(-n)),n ,0, %inf )\n",
"X1 = diff (X11,z);\n",
"x2 =(1/3) ^(n);\n",
"X2= symsum (0.5* x2 *(z^(-n)),n ,0, %inf );\n",
"X = (X1+X2);\n",
"//Display the result in command window\n",
"disp (X,'Z-transform of (n+0.5)((1/3)^n)u(n)  is:');"
   ]
   }
,
{
		   "cell_type": "markdown",
		   "metadata": {},
		   "source": [
			"## Example 2.16: Impulse_Response_of_the_System.sce"
		   ]
		  },
  {
"cell_type": "code",
	   "execution_count": null,
	   "metadata": {
	    "collapsed": true
	   },
	   "outputs": [],
"source": [
"//Example 2.16\n",
"//To find input h(n)\n",
"//a=[1 2 -4 1], b=[1]\n",
"clear;\n",
"clc ;\n",
"close ;\n",
"z=%z;\n",
"a=z^3+2*(z^(2))-4*(z)+1;\n",
"b=z^3;\n",
"h =ldiv(a,b,4);\n",
"disp (h,'h(n)=');"
   ]
   }
,
{
		   "cell_type": "markdown",
		   "metadata": {},
		   "source": [
			"## Example 2.17: Pole_Zero_Plot_of_the_Difference_Equation.sce"
		   ]
		  },
  {
"cell_type": "code",
	   "execution_count": null,
	   "metadata": {
	    "collapsed": true
	   },
	   "outputs": [],
"source": [
"//Example 2.17\n",
"//To draw the pole-zero plot\n",
"clear;\n",
"clc ;\n",
"close ;\n",
"z=%z\n",
"H1Z=((z)*(z-1))/((z-0.25)*(z-0.5));\n",
"xset('window',1);\n",
"plzr(H1Z);"
   ]
   }
,
{
		   "cell_type": "markdown",
		   "metadata": {},
		   "source": [
			"## Example 2.19: Frequency_Response_of_the_System.sce"
		   ]
		  },
  {
"cell_type": "code",
	   "execution_count": null,
	   "metadata": {
	    "collapsed": true
	   },
	   "outputs": [],
"source": [
"//Example 2.19\n",
"//Program to Plot Magnitude and Phase Responce\n",
"clear;\n",
"clc ;\n",
"close ;\n",
"w=-%pi:0.01:%pi;\n",
"H=1/(1-0.5*(cos(w)-%i*sin(w)));\n",
"//caluculation of Phase and Magnitude of H\n",
"[phase_H,m]=phasemag(H);\n",
"Hm=abs(H);\n",
"a=gca();\n",
"subplot(2,1,1);\n",
"a.y_location='origin';\n",
"plot2d(w/%pi,Hm);\n",
"xlabel('Frequency in Radians');\n",
"ylabel('abs(Hm)');\n",
"title('MAGNITUDE RESPONSE');\n",
"subplot(2,1,2);\n",
"a=gca();\n",
"a.x_location='origin';\n",
"a.y_location='origin';\n",
"plot2d(w/(2*%pi),phase_H);\n",
"xlabel('Frequency in Radians');\n",
"ylabel('<(H)');\n",
"title('PHASE RESPONSE');"
   ]
   }
,
{
		   "cell_type": "markdown",
		   "metadata": {},
		   "source": [
			"## Example 2.1: z_Transform_and_ROC_of_Causal_Sequence.sce"
		   ]
		  },
  {
"cell_type": "code",
	   "execution_count": null,
	   "metadata": {
	    "collapsed": true
	   },
	   "outputs": [],
"source": [
"//Example 2.1\n",
"//Z- transform of [1 0 3 -1 2] \n",
"clear;\n",
"clc ;\n",
"close ;\n",
"function[za]=ztransfer(sequence,n)\n",
"z=poly(0,'z','r')\n",
"za=sequence*(1/z)^n'\n",
"endfunction\n",
"x1=[1 0 3 -1 2];\n",
"n=0:length(x1)-1;\n",
"zz=ztransfer(x1,n);    \n",
"//Display the result in command window\n",
"disp (zz,'Z-transform of sequence is:');\n",
"disp('ROC is the entire plane except z = 0');"
   ]
   }
,
{
		   "cell_type": "markdown",
		   "metadata": {},
		   "source": [
			"## Example 2.20_a: Inverse_z_Transform_Computation.sce"
		   ]
		  },
  {
"cell_type": "code",
	   "execution_count": null,
	   "metadata": {
	    "collapsed": true
	   },
	   "outputs": [],
"source": [
"//Example 2.10 (a)\n",
"//To find input h(n)\n",
"//X(z)=(z+0.2)/((z+0.5)(z-1);\n",
"clear;\n",
"clc ;\n",
"close ;\n",
"z=%z;\n",
"a=(z+0.5)*(z-1);\n",
"b=z+0.2;\n",
"h =ldiv(b,a,4);\n",
"disp (h,'h(n)=');"
   ]
   }
,
{
		   "cell_type": "markdown",
		   "metadata": {},
		   "source": [
			"## Example 2.22: Inverse_z_Transform_Computation.sce"
		   ]
		  },
  {
"cell_type": "code",
	   "execution_count": null,
	   "metadata": {
	    "collapsed": true
	   },
	   "outputs": [],
"source": [
"//Example 2.22\n",
"//To find input x(n)\n",
"//X(z)=1/(2*z^(-2)+2*z^(-1)+1);\n",
"clear;\n",
"clc ;\n",
"close ;\n",
"z=%z;\n",
"a=(2+2*z+z^2);\n",
"b=z^2;\n",
"h =ldiv(b,a,6);\n",
"disp (h,'First six values of h(n)=');"
   ]
   }
,
{
		   "cell_type": "markdown",
		   "metadata": {},
		   "source": [
			"## Example 2.23: Causal_Sequence_Determination.sce"
		   ]
		  },
  {
"cell_type": "code",
	   "execution_count": null,
	   "metadata": {
	    "collapsed": true
	   },
	   "outputs": [],
"source": [
"//Example 2.23\n",
"//To find input x(n)\n",
"//X(z)=1/(1-2z^(-1))(1-z^(-1))^2;\n",
"clear;\n",
"clc ;\n",
"close ;\n",
"z=%z;\n",
"a=(z-2)*(z-1)^2;\n",
"b=z^3;\n",
"h =ldiv(b,a,6);\n",
"disp (h,'First six values of h(n)=');"
   ]
   }
,
{
		   "cell_type": "markdown",
		   "metadata": {},
		   "source": [
			"## Example 2.2: z_Transform_and_ROC_of_Anticausal_Sequence.sce"
		   ]
		  },
  {
"cell_type": "code",
	   "execution_count": null,
	   "metadata": {
	    "collapsed": true
	   },
	   "outputs": [],
"source": [
"//Example 2.2\n",
"//Z- transform of [-3 -2 -1 0 1] \n",
"clear;\n",
"clc ;\n",
"close ;\n",
"function[za]=ztransfer(sequence,n)\n",
"z=poly(0,'z','r')\n",
"za=sequence*(1/z)^n'\n",
"endfunction\n",
"x1=[-3 -2 -1 0 1];\n",
"n=-(length(x1)-1):0;\n",
"zz=ztransfer(x1,n);    \n",
"//Display the result in command window\n",
"disp (zz,'Z-transform of sequence is:');\n",
"disp('ROC is the entire plane except z = %inf');"
   ]
   }
,
{
		   "cell_type": "markdown",
		   "metadata": {},
		   "source": [
			"## Example 2.34: Impulse_Response_of_the_System.sce"
		   ]
		  },
  {
"cell_type": "code",
	   "execution_count": null,
	   "metadata": {
	    "collapsed": true
	   },
	   "outputs": [],
"source": [
"//Example 2.34\n",
"//To plot the impulse responce of the system analyically and using scilab\n",
"clear;\n",
"clc ;\n",
"close ;\n",
"n=0:1:50;\n",
"x=[1,zeros(1,50)];\n",
"b=[1 2];\n",
"a=[1 -3 -4];\n",
"yanaly=6/5*4.^n-1/5*(-1).^n;//Analytical Solution\n",
"ymat=filter(b,a,x);\n",
"subplot(3,1,1);\n",
"plot2d3(n,x);\n",
"xlabel('n');\n",
"ylabel('x(n)');\n",
"title('INPUT SEQUENCE (IMPULSE FUNCTION)');\n",
"subplot(3,1,2);\n",
"plot2d3(n,yanaly);\n",
"xlabel('n');\n",
"ylabel('y(n)');\n",
"title('OUTPUT SEQUENCE yanaly');\n",
"subplot(3,1,3);\n",
"plot2d3(n,ymat);\n",
"xlabel('n');\n",
"ylabel('y(n)');\n",
"title('OUTPUT SEQUENCE ymat');\n",
"//As the Analtical Plot matches the Scilab Plot hence it is the Responce of the system"
   ]
   }
,
{
		   "cell_type": "markdown",
		   "metadata": {},
		   "source": [
			"## Example 2.35_a: Pole_Zero_Plot_of_the_System.sce"
		   ]
		  },
  {
"cell_type": "code",
	   "execution_count": null,
	   "metadata": {
	    "collapsed": true
	   },
	   "outputs": [],
"source": [
"//Example 2.35 (a)\n",
"//To draw the pole-zero plot\n",
"clear;\n",
"clc ;\n",
"close ;\n",
"z=%z\n",
"H1Z=(z)/(z^2-z-1);\n",
"xset('window',1);\n",
"plzr(H1Z);"
   ]
   }
,
{
		   "cell_type": "markdown",
		   "metadata": {},
		   "source": [
			"## Example 2.35_b: Unit_Sample_Response_of_the_System.sce"
		   ]
		  },
  {
"cell_type": "code",
	   "execution_count": null,
	   "metadata": {
	    "collapsed": true
	   },
	   "outputs": [],
"source": [
"//Example 2.35 (b)\n",
"//To plot the responce of the system analyically and using scilab\n",
"clear;\n",
"clc ;\n",
"close ;\n",
"n=0:1:20;\n",
"x=ones(1,length(n));\n",
"b=[0 1];\n",
"a=[1 -1 -1];\n",
"yanaly=0.447*(1.618).^n-0.447*(-0.618).^n;//Analytical Solution\n",
"[ymat,zf]=filter(b, a, x);\n",
"subplot(3,1,1);\n",
"plot2d3(n,x);\n",
"xlabel('n');\n",
"ylabel('x(n)');\n",
"title('INPUT SEQUENCE (STEP FUNCTION)');\n",
"subplot(3,1,2);\n",
"plot2d3(n,yanaly);\n",
"xlabel('n');\n",
"ylabel('y(n)');\n",
"title('OUTPUT SEQUENCE yanaly');\n",
"subplot(3,1,3);\n",
"plot2d3(n,ymat,zf);\n",
"xlabel('n');\n",
"ylabel('y(n)');\n",
"title('OUTPUT SEQUENCE ymat');\n",
"//As the Analtical Plot matches the Scilab Plot hence it is the Responce of the system"
   ]
   }
,
{
		   "cell_type": "markdown",
		   "metadata": {},
		   "source": [
			"## Example 2.38: Determine_Output_Response.sce"
		   ]
		  },
  {
"cell_type": "code",
	   "execution_count": null,
	   "metadata": {
	    "collapsed": true
	   },
	   "outputs": [],
"source": [
"//Example 2.38\n",
"//To plot the responce of the system analyically and using scilab\n",
"clear;\n",
"clc ;\n",
"close ;\n",
"n=0:1:20;\n",
"x=n;\n",
"b=[0 1 1];\n",
"a=[1 -0.7 0.12];\n",
"yanaly=38.89*(0.4).^n-26.53*(0.3).^n-12.36+4.76*n;//Analytical Solution\n",
"ymat=filter(b,a,x);\n",
"subplot(3,1,1);\n",
"plot2d3(n,x);\n",
"xlabel('n');\n",
"ylabel('x(n)');\n",
"title('INPUT SEQUENCE (RAMP FUNCTION)');\n",
"subplot(3,1,2);\n",
"plot2d3(n,yanaly);\n",
"xlabel('n');\n",
"ylabel('y(n)');\n",
"title('OUTPUT SEQUENCE yanaly');\n",
"subplot(3,1,3);\n",
"plot2d3(n,ymat);\n",
"xlabel('n');\n",
"ylabel('y(n)');\n",
"title('OUTPUT SEQUENCE ymat');\n",
"//As the Analtical Plot matches the Scilab Plot hence it is the Responce of the system"
   ]
   }
,
{
		   "cell_type": "markdown",
		   "metadata": {},
		   "source": [
			"## Example 2.3: z_Transform_of_the_Sequence.sce"
		   ]
		  },
  {
"cell_type": "code",
	   "execution_count": null,
	   "metadata": {
	    "collapsed": true
	   },
	   "outputs": [],
"source": [
"//Example 2.3\n",
"//Z- transform of [2 -1 3 2 1 0 2 3 -1] \n",
"clear;\n",
"clc ;\n",
"close ;\n",
"function[za]=ztransfer(sequence,n)\n",
"z=poly(0,'z','r')\n",
"za=sequence*(1/z)^n'\n",
"endfunction\n",
"x1=[2 -1 3 2 1 0 2 3 -1];\n",
"n=-4:4;\n",
"zz=ztransfer(x1,n);    \n",
"//Display the result in command window\n",
"disp (zz,'Z-transform of sequence is:');\n",
"disp('ROC is the entire plane except z = 0 and z = %inf');"
   ]
   }
,
{
		   "cell_type": "markdown",
		   "metadata": {},
		   "source": [
			"## Example 2.40: Input_Sequence_Computation.sce"
		   ]
		  },
  {
"cell_type": "code",
	   "execution_count": null,
	   "metadata": {
	    "collapsed": true
	   },
	   "outputs": [],
"source": [
"//Example 2.40\n",
"//To find input x(n)\n",
"//h(n)=1 2 3 2, y(n)=[1 3 7 10 10 7 2]\n",
"clear;\n",
"clc ;\n",
"close ;\n",
"z=%z;\n",
"a=z^6+3*(z^(5))+7*(z^(4))+10*(z^(3))+10*(z^(2))+7*(z^(1))+2;\n",
"b=z^6+2*z^(5)+3*z^(4)+2*z^(3);\n",
"x =ldiv(a,b,4);\n",
"disp (x,'x(n)=');"
   ]
   }
,
{
		   "cell_type": "markdown",
		   "metadata": {},
		   "source": [
			"## Example 2.41_a: z_Transform_of_the_Signal.sce"
		   ]
		  },
  {
"cell_type": "code",
	   "execution_count": null,
	   "metadata": {
	    "collapsed": true
	   },
	   "outputs": [],
"source": [
"//Example 2.41 (a)\n",
"//MAXIMA SCILAB TOOLBOX REQUIRED FOR THIS PROGRAM\n",
"//Z- transform of n.(-1)^n u(n) \n",
"clear;\n",
"clc ;\n",
"close ;\n",
"syms a n z;\n",
"x =(-1) ^n;\n",
"X= symsum (x*(z^(-n)),n ,0, %inf )\n",
"Y = diff (X,z);\n",
"//Display the result in command window\n",
"disp (Y,'Z-transform of n.(-1)^n u(n)  is:');"
   ]
   }
,
{
		   "cell_type": "markdown",
		   "metadata": {},
		   "source": [
			"## Example 2.41_b: z_Transform_of_the_Signal.sce"
		   ]
		  },
  {
"cell_type": "code",
	   "execution_count": null,
	   "metadata": {
	    "collapsed": true
	   },
	   "outputs": [],
"source": [
"//Example 2.41 (b)\n",
"//MAXIMA SCILAB TOOLBOX REQUIRED FOR THIS PROGRAM\n",
"//Z- transform of n^2 u(n) \n",
"clear;\n",
"clc ;\n",
"close ;\n",
"syms n z;\n",
"x =1;\n",
"X= symsum (x*(z^(-n)),n ,0, %inf )\n",
"Y = diff(diff (X,z),z);\n",
"//Display the result in command window\n",
"disp (Y,'Z-transform of n^2 u(n)  is:');"
   ]
   }
,
{
		   "cell_type": "markdown",
		   "metadata": {},
		   "source": [
			"## Example 2.41_c: z_Transform_of_the_Signal.sce"
		   ]
		  },
  {
"cell_type": "code",
	   "execution_count": null,
	   "metadata": {
	    "collapsed": true
	   },
	   "outputs": [],
"source": [
"//Example 2.41 (c)\n",
"//MAXIMA SCILAB TOOLBOX REQUIRED FOR THIS PROGRAM\n",
"//Z transform of (-1)^n.cos(%pi/3*n)\n",
"clc;\n",
"syms n z;\n",
"Wo=%pi/3;\n",
"x1=exp(sqrt(-1)*Wo*n);\n",
"X1=(-1)^n*symsum(x1*(z^-n),n,0,%inf);\n",
"x2=exp(-sqrt(-1)*Wo*n);\n",
"X2=(-1)^n*symsum(x2*(z^-n),n,0,%inf);\n",
"X=(X1+X2)/2;\n",
"disp(X,'X(z)=');"
   ]
   }
,
{
		   "cell_type": "markdown",
		   "metadata": {},
		   "source": [
			"## Example 2.45: Pole_Zero_Pattern_of_the_System.sce"
		   ]
		  },
  {
"cell_type": "code",
	   "execution_count": null,
	   "metadata": {
	    "collapsed": true
	   },
	   "outputs": [],
"source": [
"//Example 2.45\n",
"//To draw the pole-zero plot\n",
"clear;\n",
"clc ;\n",
"close ;\n",
"z=%z\n",
"H1Z=((z)*(z+1))/(z^2-z+0.5);\n",
"xset('window',1);\n",
"plzr(H1Z);"
   ]
   }
,
{
		   "cell_type": "markdown",
		   "metadata": {},
		   "source": [
			"## Example 2.4: z_Transform_and_ROC_of_the_Signal.sce"
		   ]
		  },
  {
"cell_type": "code",
	   "execution_count": null,
	   "metadata": {
	    "collapsed": true
	   },
	   "outputs": [],
"source": [
"//Example 2.4\n",
"//MAXIMA SCILAB TOOLBOX REQUIRED FOR THIS PROGRAM\n",
"//Z- transform of a^n u(n) \n",
"clear;\n",
"clc ;\n",
"close ;\n",
"syms a n z;\n",
"x =a^n\n",
"X= symsum (x*(z^(-n)),n ,0, %inf );\n",
"//Display the result in command window\n",
"disp (X,'Z-transform of a^n u(n) with is:');\n",
"disp('ROC is the Region mod(z) > a')"
   ]
   }
,
{
		   "cell_type": "markdown",
		   "metadata": {},
		   "source": [
			"## Example 2.53_a: z_Transform_of_the_Sequence.sce"
		   ]
		  },
  {
"cell_type": "code",
	   "execution_count": null,
	   "metadata": {
	    "collapsed": true
	   },
	   "outputs": [],
"source": [
"//Example 2.53 (a)\n",
"//Z- transform of [3 1 2 5 7 0 1] \n",
"clear;\n",
"clc ;\n",
"close ;\n",
"function[za]=ztransfer(sequence,n)\n",
"z=poly(0,'z','r')\n",
"za=sequence*(1/z)^n'\n",
"endfunction\n",
"x1=[3 1 2 5 7 0 1];\n",
"n=-3:3;\n",
"zz=ztransfer(x1,n);    \n",
"//Display the result in command window\n",
"disp (zz,'Z-transform of sequence is:');"
   ]
   }
,
{
		   "cell_type": "markdown",
		   "metadata": {},
		   "source": [
			"## Example 2.53_b: z_Transform_of_the_Signal.sce"
		   ]
		  },
  {
"cell_type": "code",
	   "execution_count": null,
	   "metadata": {
	    "collapsed": true
	   },
	   "outputs": [],
"source": [
"//Example 2.53 (b)\n",
"//MAXIMA SCILAB TOOLBOX REQUIRED FOR THIS PROGRAM\n",
"//Z transform of delta(n)\n",
"clc;\n",
"syms n z;\n",
"x=1;\n",
"X=symsum(x*z^(-n),n,0,0);\n",
"disp(X,'X(z)=');"
   ]
   }
,
{
		   "cell_type": "markdown",
		   "metadata": {},
		   "source": [
			"## Example 2.53_c: z_Transform_of_the_Signal.sce"
		   ]
		  },
  {
"cell_type": "code",
	   "execution_count": null,
	   "metadata": {
	    "collapsed": true
	   },
	   "outputs": [],
"source": [
"//Example 2.53 (c)\n",
"//MAXIMA SCILAB TOOLBOX REQUIRED FOR THIS PROGRAM\n",
"//Z transform of delta(n)\n",
"clc;\n",
"syms n z k;\n",
"x=1;\n",
"X=symsum(x*z^(-n),n,k,k);\n",
"disp(X,'X(z)=');"
   ]
   }
,
{
		   "cell_type": "markdown",
		   "metadata": {},
		   "source": [
			"## Example 2.53_d: z_Transform_of_the_Signal.sce"
		   ]
		  },
  {
"cell_type": "code",
	   "execution_count": null,
	   "metadata": {
	    "collapsed": true
	   },
	   "outputs": [],
"source": [
"//Example 2.53 (d)\n",
"//MAXIMA SCILAB TOOLBOX REQUIRED FOR THIS PROGRAM\n",
"//Z transform of delta(n)\n",
"clc;\n",
"syms n z kc;\n",
"x=1;\n",
"X=symsum(x*z^(-n),n,-k,-k);\n",
"disp(X,'X(z)=');"
   ]
   }
,
{
		   "cell_type": "markdown",
		   "metadata": {},
		   "source": [
			"## Example 2.54: z_Transform_of_Cosine_Signal.sce"
		   ]
		  },
  {
"cell_type": "code",
	   "execution_count": null,
	   "metadata": {
	    "collapsed": true
	   },
	   "outputs": [],
"source": [
"//Example 2.54\n",
"//MAXIMA SCILAB TOOLBOX REQUIRED FOR THIS PROGRAM\n",
"//Z transform of cos(Wo*n)\n",
"clc;\n",
"syms Wo n z;\n",
"x1=exp(sqrt(-1)*Wo*n);\n",
"X1=symsum(x1*(z^-n),n,0,%inf);\n",
"x2=exp(-sqrt(-1)*Wo*n);\n",
"X2=symsum(x2*(z^-n),n,0,%inf);\n",
"X=(X1+X2)/2;\n",
"disp(X,'X(z)=');"
   ]
   }
,
{
		   "cell_type": "markdown",
		   "metadata": {},
		   "source": [
			"## Example 2.58: Impulse_Response_of_the_System.sce"
		   ]
		  },
  {
"cell_type": "code",
	   "execution_count": null,
	   "metadata": {
	    "collapsed": true
	   },
	   "outputs": [],
"source": [
"//Example 2.58\n",
"//To plot the responce of the system analyically and using scilab\n",
"clear;\n",
"clc ;\n",
"close ;\n",
"n=0:1:20;\n",
"x=[1 zeros(1,20)];\n",
"b=[1 -0.5];\n",
"a=[1 -1 3/16];\n",
"yanaly=0.5*(0.75).^n+0.5*(0.25).^n;//Analytical Solution\n",
"ymat=filter(b,a,x);\n",
"subplot(3,1,1);\n",
"plot2d3(n,x);\n",
"xlabel('n');\n",
"ylabel('x(n)');\n",
"title('INPUT SEQUENCE (IMPULSE FUNCTION)');\n",
"subplot(3,1,2);\n",
"plot2d3(n,yanaly);\n",
"xlabel('n');\n",
"ylabel('y(n)');\n",
"title('OUTPUT SEQUENCE yanaly');\n",
"subplot(3,1,3);\n",
"plot2d3(n,ymat);\n",
"xlabel('n');\n",
"ylabel('y(n)');\n",
"title('OUTPUT SEQUENCE ymat');\n",
"//As the Analtical Plot matches the Scilab Plot hence it is the Responce of the system"
   ]
   }
,
{
		   "cell_type": "markdown",
		   "metadata": {},
		   "source": [
			"## Example 2.5: z_Transform_and_ROC_of_the_Signal.sce"
		   ]
		  },
  {
"cell_type": "code",
	   "execution_count": null,
	   "metadata": {
	    "collapsed": true
	   },
	   "outputs": [],
"source": [
"//Example 2.5\n",
"//MAXIMA SCILAB TOOLBOX REQUIRED FOR THIS PROGRAM\n",
"//Z- transform of -b^n u(-n-1) \n",
"clear;\n",
"clc ;\n",
"close ;\n",
"syms b n z;\n",
"x =b^n\n",
"X= symsum (x*(z^(-n)),n ,0, %inf );\n",
"//Display the result in command window\n",
"disp (X,'Z-transform of b^n u(n) with is:');\n",
"disp('ROC is the Region mod(z) < b')"
   ]
   }
,
{
		   "cell_type": "markdown",
		   "metadata": {},
		   "source": [
			"## Example 2.6: Stability_of_the_System.sce"
		   ]
		  },
  {
"cell_type": "code",
	   "execution_count": null,
	   "metadata": {
	    "collapsed": true
	   },
	   "outputs": [],
"source": [
"//Example 2.6\n",
"//MAXIMA SCILAB TOOLBOX REQUIRED FOR THIS PROGRAM\n",
"//Z- transform of 2^n u(n) \n",
"clear;\n",
"clc ;\n",
"close ;\n",
"syms n z;\n",
"x =(2) ^n\n",
"X= symsum (x*(z^(-n)),n ,0, %inf );\n",
"//Display the result in command window\n",
"disp (X,'Z-transform of 2^n u(n) is:');\n",
"disp('ROC is the Region mod(z) > 2');"
   ]
   }
,
{
		   "cell_type": "markdown",
		   "metadata": {},
		   "source": [
			"## Example 2.7: z_Transform_of_the_Signal.sce"
		   ]
		  },
  {
"cell_type": "code",
	   "execution_count": null,
	   "metadata": {
	    "collapsed": true
	   },
	   "outputs": [],
"source": [
"//Example 2.7\n",
"//MAXIMA SCILAB TOOLBOX REQUIRED FOR THIS PROGRAM\n",
"//Z- transform of [3(3^n)-4(2)^n] u(n) \n",
"clear;\n",
"clc ;\n",
"close ;\n",
"syms n z;\n",
"x1 =(3) ^(n);\n",
"X1= symsum (3* x1 *(z^(-n)),n ,0, %inf );\n",
"x2 =(4) ^(n);\n",
"X2= symsum (4* x2 *(z^(-n)),n ,0, %inf );\n",
"X = (X1 -X2);\n",
"//Display the result in command window\n",
"disp (X,'Z-transform of [3(3^n)-4(2)^n] u(n)  is:');"
   ]
   }
,
{
		   "cell_type": "markdown",
		   "metadata": {},
		   "source": [
			"## Example 2.8_a: z_Transform_of_the_Signal.sce"
		   ]
		  },
  {
"cell_type": "code",
	   "execution_count": null,
	   "metadata": {
	    "collapsed": true
	   },
	   "outputs": [],
"source": [
"//Example 2.8 (a)\n",
"//MAXIMA SCILAB TOOLBOX REQUIRED FOR THIS PROGRAM\n",
"//Z transform of cos(Wo*n)\n",
"clc;\n",
"syms Wo n z;\n",
"x1=exp(sqrt(-1)*Wo*n);\n",
"X1=symsum(x1*(z^-n),n,0,%inf);\n",
"x2=exp(-sqrt(-1)*Wo*n);\n",
"X2=symsum(x2*(z^-n),n,0,%inf);\n",
"X=(X1+X2)/2;\n",
"disp(X,'X(z)=');"
   ]
   }
,
{
		   "cell_type": "markdown",
		   "metadata": {},
		   "source": [
			"## Example 2.9: z_Transform_of_the_Sequence.sce"
		   ]
		  },
  {
"cell_type": "code",
	   "execution_count": null,
	   "metadata": {
	    "collapsed": true
	   },
	   "outputs": [],
"source": [
"//Example 2.9\n",
"//MAXIMA SCILAB TOOLBOX REQUIRED FOR THIS PROGRAM\n",
"//Z- transform of (1/3)^n u(n-1) \n",
"clear;\n",
"clc ;\n",
"close ;\n",
"syms n z;\n",
"x =(1/3)^n;\n",
"X= (1/z)*symsum (x*(z^(-n)),n ,0, %inf );\n",
"//Display the result in command window\n",
"disp (X,'Z-transform of (1/3)^n u(n-1) is:');"
   ]
   }
],
"metadata": {
		  "kernelspec": {
		   "display_name": "Scilab",
		   "language": "scilab",
		   "name": "scilab"
		  },
		  "language_info": {
		   "file_extension": ".sce",
		   "help_links": [
			{
			 "text": "MetaKernel Magics",
			 "url": "https://github.com/calysto/metakernel/blob/master/metakernel/magics/README.md"
			}
		   ],
		   "mimetype": "text/x-octave",
		   "name": "scilab",
		   "version": "0.7.1"
		  }
		 },
		 "nbformat": 4,
		 "nbformat_minor": 0
}
