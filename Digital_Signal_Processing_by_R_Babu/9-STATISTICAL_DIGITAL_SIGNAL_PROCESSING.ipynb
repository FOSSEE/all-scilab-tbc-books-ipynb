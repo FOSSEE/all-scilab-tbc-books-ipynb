{
"cells": [
 {
		   "cell_type": "markdown",
	   "metadata": {},
	   "source": [
       "# Chapter 9: STATISTICAL DIGITAL SIGNAL PROCESSING"
	   ]
	},
{
		   "cell_type": "markdown",
		   "metadata": {},
		   "source": [
			"## Example 9.7_a: Frequency_Resolution_Determination.sce"
		   ]
		  },
  {
"cell_type": "code",
	   "execution_count": null,
	   "metadata": {
	    "collapsed": true
	   },
	   "outputs": [],
"source": [
"//Example 9.7 (a)\n",
"//Program To Determine Frequency Resolution of Bartlett, \n",
"//Welch(50% Overlap) and Blackmann-Tukey Methods\n",
"clear;\n",
"clc;\n",
"close;\n",
"//Data\n",
"Q=10;//Quality Factor\n",
"N=1000;//Samples\n",
"//FREQUENCY RESOLUTION CALCULATION\n",
"K=Q;\n",
"rb=0.89*(2*%pi*K/N);\n",
"rw=1.28*(2*%pi*9*Q)/(16*N);\n",
"rbt=0.64*(2*%pi*2*Q)/(3*N);\n",
"//Display the result in command window\n",
"disp(rb,'Resolution of Bartlett Method');\n",
"disp(rw,'Resolution of Welch(50% overlap) Method');\n",
"disp(rbt,'Resolution of Blackmann-Tukey Method');"
   ]
   }
,
{
		   "cell_type": "markdown",
		   "metadata": {},
		   "source": [
			"## Example 9.7_b: Record_Length_Determination.sce"
		   ]
		  },
  {
"cell_type": "code",
	   "execution_count": null,
	   "metadata": {
	    "collapsed": true
	   },
	   "outputs": [],
"source": [
"//Example 9.7 (b)\n",
"//Program To Determine Record Length of Bartlett, \n",
"//Welch(50% Overlap) and Blackmann-Tukey Methods\n",
"clear;\n",
"clc;\n",
"close;\n",
"//Data\n",
"Q=10;//Quality Factor\n",
"N=1000;//Samples\n",
"//RECORD LENGTH CALCULATION\n",
"lb=N/Q;\n",
"lw=16*N/(9*Q);\n",
"lbt=3*N/(2*Q);\n",
"//Display the result in command window\n",
"disp(lb,'Record Length of Bartlett Method');\n",
"disp(lw,'Record Length of Welch(50% overlap) Method');\n",
"disp(lbt,'Record Length of Blackmann-Tukey Method');"
   ]
   }
,
{
		   "cell_type": "markdown",
		   "metadata": {},
		   "source": [
			"## Example 9.8_a: Smallest_Record_Length_Computation.sce"
		   ]
		  },
  {
"cell_type": "code",
	   "execution_count": null,
	   "metadata": {
	    "collapsed": true
	   },
	   "outputs": [],
"source": [
"//Example 9.8 (a)\n",
"//Program To Determine Smallest Record Length of Bartlett Method\n",
"clear;\n",
"clc;\n",
"close;\n",
"//Data\n",
"fr=0.01;//Frequency Resolution\n",
"N=2400; //Samples\n",
"//RECORD LENGTH CALCULATION\n",
"lb=0.89/fr;\n",
"//Display the result in command window\n",
"disp(lb,'Record Length of Bartlett Method');"
   ]
   }
,
{
		   "cell_type": "markdown",
		   "metadata": {},
		   "source": [
			"## Example 9.8_b: Quality_Factor_Computatio.sce"
		   ]
		  },
  {
"cell_type": "code",
	   "execution_count": null,
	   "metadata": {
	    "collapsed": true
	   },
	   "outputs": [],
"source": [
"//Example 9.8 (b)\n",
"//Program To Determine Quality Factor of Bartlett Method\n",
"clear;\n",
"clc;\n",
"close;\n",
"//Data\n",
"fr=0.01;//Frequency Resolution\n",
"N=2400; //Samples\n",
"lb=0.89/fr;\n",
"//QUALITY FACTOR CALCULATION\n",
"Q=N/lb;\n",
"//Display the result in command window\n",
"disp(Q,'Quality Factor of Bartlett Method');"
   ]
   }
],
"metadata": {
		  "kernelspec": {
		   "display_name": "Scilab",
		   "language": "scilab",
		   "name": "scilab"
		  },
		  "language_info": {
		   "file_extension": ".sce",
		   "help_links": [
			{
			 "text": "MetaKernel Magics",
			 "url": "https://github.com/calysto/metakernel/blob/master/metakernel/magics/README.md"
			}
		   ],
		   "mimetype": "text/x-octave",
		   "name": "scilab",
		   "version": "0.7.1"
		  }
		 },
		 "nbformat": 4,
		 "nbformat_minor": 0
}
