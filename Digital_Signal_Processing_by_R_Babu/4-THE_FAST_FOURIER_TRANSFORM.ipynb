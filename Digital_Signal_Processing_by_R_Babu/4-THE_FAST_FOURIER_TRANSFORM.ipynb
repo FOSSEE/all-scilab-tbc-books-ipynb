{
"cells": [
 {
		   "cell_type": "markdown",
	   "metadata": {},
	   "source": [
       "# Chapter 4: THE FAST FOURIER TRANSFORM"
	   ]
	},
{
		   "cell_type": "markdown",
		   "metadata": {},
		   "source": [
			"## Example 4.10: 4_Point_DFT_of_the_Sequence.sce"
		   ]
		  },
  {
"cell_type": "code",
	   "execution_count": null,
	   "metadata": {
	    "collapsed": true
	   },
	   "outputs": [],
"source": [
"//Example 4.10\n",
"//Program to Compute the 4-point DFT of a Sequence x[n]=[0,1,2,3] \n",
"//using DIT-DIF Algorithm.\n",
"clear;\n",
"clc ;\n",
"close ;\n",
"x = [0,1,2,3];\n",
"//FFT Computation\n",
"X = fft (x , -1);\n",
"disp(X,'X(z) = ');"
   ]
   }
,
{
		   "cell_type": "markdown",
		   "metadata": {},
		   "source": [
			"## Example 4.11: IDFT_of_the_Sequence_using_DIT_Algorithm.sce"
		   ]
		  },
  {
"cell_type": "code",
	   "execution_count": null,
	   "metadata": {
	    "collapsed": true
	   },
	   "outputs": [],
"source": [
"//Example 4.11\n",
"//Program to Compute the IDFT of a Sequence using DIT Algorithm. \n",
"//X[k] = [7,-0.707-j0.707,-j,0.707-j0.707,1,0.707+j0.707,j,-0.707+j0.707]\n",
"clear;\n",
"clc ;\n",
"close ;\n",
"j=sqrt(-1);\n",
"X = [7,-0.707-j*0.707,-j,0.707-j*0.707,1,0.707+j*0.707,j,-0.707+j*0.707];\n",
"//Inverse FFT Computation\n",
"x = fft (X , 1);\n",
"disp(x,'x(n) = ');"
   ]
   }
,
{
		   "cell_type": "markdown",
		   "metadata": {},
		   "source": [
			"## Example 4.12: 8_Point_DFT_of_the_Sequence.sce"
		   ]
		  },
  {
"cell_type": "code",
	   "execution_count": null,
	   "metadata": {
	    "collapsed": true
	   },
	   "outputs": [],
"source": [
"//Example 4.12\n",
"//Program to Compute the 8-point DFT of a Sequence \n",
"//x[n]=[0.5,0.5,0.5,0.5,0,0,0,0] using radix-2 DIT Algorithm.\n",
"clear;\n",
"clc ;\n",
"close ;\n",
"x=[0.5,0.5,0.5,0.5,0,0,0,0];\n",
"//FFT Computation\n",
"X = fft (x , -1);\n",
"disp(X,'X(z) = ');"
   ]
   }
,
{
		   "cell_type": "markdown",
		   "metadata": {},
		   "source": [
			"## Example 4.13: 8_Point_DFT_of_the_Sequence.sce"
		   ]
		  },
  {
"cell_type": "code",
	   "execution_count": null,
	   "metadata": {
	    "collapsed": true
	   },
	   "outputs": [],
"source": [
"//Example 4.13\n",
"//Program to Compute the 8-point DFT of a Sequence \n",
"//x[n]=[0.5,0.5,0.5,0.5,0,0,0,0] using radix-2 DIF Algorithm.\n",
"clear;\n",
"clc ;\n",
"close ;\n",
"x=[0.5,0.5,0.5,0.5,0,0,0,0];\n",
"//FFT Computation\n",
"X = fft (x , -1);\n",
"disp(X,'X(z) = ');"
   ]
   }
,
{
		   "cell_type": "markdown",
		   "metadata": {},
		   "source": [
			"## Example 4.14: DFT_using_DIT_Algorithm.sce"
		   ]
		  },
  {
"cell_type": "code",
	   "execution_count": null,
	   "metadata": {
	    "collapsed": true
	   },
	   "outputs": [],
"source": [
"//Example 4.14\n",
"//Program to Compute the 4-point DFT of a Sequence x[n]=[1,-1,1,-1] \n",
"//using DIT Algorithm.\n",
"clear;\n",
"clc ;\n",
"close ;\n",
"x=[1,-1,1,-1];\n",
"//FFT Computation\n",
"X =fft (x , -1);\n",
"disp(X,'X(z) = ');"
   ]
   }
,
{
		   "cell_type": "markdown",
		   "metadata": {},
		   "source": [
			"## Example 4.15: DFT_using_DIF_Algorithm.sce"
		   ]
		  },
  {
"cell_type": "code",
	   "execution_count": null,
	   "metadata": {
	    "collapsed": true
	   },
	   "outputs": [],
"source": [
"//Example 4.15\n",
"//Program to Compute the 4-point DFT of a Sequence x[n]=[1,0,0,1] \n",
"//using DIF Algorithm.\n",
"clear;\n",
"clc ;\n",
"close ;\n",
"x=[1,0,0,1];\n",
"//FFT Computation\n",
"X =fft (x , -1);\n",
"disp(X,'X(z) = ');"
   ]
   }
,
{
		   "cell_type": "markdown",
		   "metadata": {},
		   "source": [
			"## Example 4.16_a: 8_Point_DFT_using_DIT_FFT.sce"
		   ]
		  },
  {
"cell_type": "code",
	   "execution_count": null,
	   "metadata": {
	    "collapsed": true
	   },
	   "outputs": [],
"source": [
"//Example 4.16 (a)\n",
"//Program to Evaluate and Compare the 8-point DFT of the given Sequence \n",
"//x1[n]=1, -3<=n<=3 using DIT-FFT Algorithm.\n",
"clear;\n",
"clc ;\n",
"close ;\n",
"x1=[1,1,1,1,0,1,1,1];\n",
"//FFT Computation\n",
"X1 = fft (x1 , -1);\n",
"disp(X1,'X1(k) = ');"
   ]
   }
,
{
		   "cell_type": "markdown",
		   "metadata": {},
		   "source": [
			"## Example 4.16_b: 8_Point_DFT_using_DIT_FFT.sce"
		   ]
		  },
  {
"cell_type": "code",
	   "execution_count": null,
	   "metadata": {
	    "collapsed": true
	   },
	   "outputs": [],
"source": [
"//Example 4.16 (b)\n",
"//Program to Evaluate and Compare the 8-point DFT of the given Sequence \n",
"//x2[n]=1, 0<=n<=6 using DIT-FFT Algorithm.\n",
"clear;\n",
"clc ;\n",
"close ;\n",
"x2=[1,1,1,1,1,1,1,0];\n",
"//FFT Computation\n",
"X2 = fft (x2 , -1);\n",
"disp(X2,'X2(k) = ');"
   ]
   }
,
{
		   "cell_type": "markdown",
		   "metadata": {},
		   "source": [
			"## Example 4.17: IDFT_using_DIF_Algorithm.sce"
		   ]
		  },
  {
"cell_type": "code",
	   "execution_count": null,
	   "metadata": {
	    "collapsed": true
	   },
	   "outputs": [],
"source": [
"//Example 4.17\n",
"//Program to find the IDFT of the Sequence using DIF Algorithm.\n",
"//X[k]= [4,1-j2.414,0,1-j0.414,0,1+j0.414,0,1+j2.414] \n",
"clear;\n",
"clc ;\n",
"close ;\n",
"j=sqrt(-1);\n",
"X= [4,1-j*2.414,0,1-j*0.414,0,1+j*0.414,0,1+j*2.414];\n",
"//Inverse FFT Computation\n",
"x = fft (X , 1);\n",
"disp(x,'x(n) = ');"
   ]
   }
,
{
		   "cell_type": "markdown",
		   "metadata": {},
		   "source": [
			"## Example 4.18: IDFT_using_DIT_Algorithm.sce"
		   ]
		  },
  {
"cell_type": "code",
	   "execution_count": null,
	   "metadata": {
	    "collapsed": true
	   },
	   "outputs": [],
"source": [
"//Example 4.18\n",
"//Program to find the IDFT of the Sequence X[k]= [10,-2+j2,-2,-2-j2]\n",
"//using DIT Algorithm.\n",
"clear;\n",
"clc ;\n",
"close ;\n",
"j=sqrt(-1);\n",
"X = [10,-2+j*2,-2,-2-j*2];\n",
"//Inverse FFT Computation\n",
"x = fft (X , 1);\n",
"disp(x,'x(n) = ');"
   ]
   }
,
{
		   "cell_type": "markdown",
		   "metadata": {},
		   "source": [
			"## Example 4.19: FFT_Computation_of_the_Sequence.sce"
		   ]
		  },
  {
"cell_type": "code",
	   "execution_count": null,
	   "metadata": {
	    "collapsed": true
	   },
	   "outputs": [],
"source": [
"//Example 4.19\n",
"//Program to Compute the FFT of given Sequence x[n]=[1,0,0,0,0,0,0,0].\n",
"clear;\n",
"clc ;\n",
"close ;\n",
"x = [1,0,0,0,0,0,0,0];\n",
"//FFT Computation\n",
"X = fft (x , -1);\n",
"disp(X,'X(z) = ');"
   ]
   }
,
{
		   "cell_type": "markdown",
		   "metadata": {},
		   "source": [
			"## Example 4.20: 8_Point_DFT_by_Radix_2_DIT_FFT.sce"
		   ]
		  },
  {
"cell_type": "code",
	   "execution_count": null,
	   "metadata": {
	    "collapsed": true
	   },
	   "outputs": [],
"source": [
"//Example 4.20\n",
"//Program to Compute the 8-point DFT of given Sequence \n",
"//x[n]=[2,2,2,2,1,1,1,1] using DIT, radix-2,FFT Algorithm.\n",
"clear;\n",
"clc ;\n",
"close ;\n",
"x = [2,2,2,2,1,1,1,1];\n",
"//FFT Computation\n",
"X = fft (x , -1);\n",
"disp(X,'X(z) = ');"
   ]
   }
,
{
		   "cell_type": "markdown",
		   "metadata": {},
		   "source": [
			"## Example 4.21: DFT_using_DIT_FFT_Algorithm.sce"
		   ]
		  },
  {
"cell_type": "code",
	   "execution_count": null,
	   "metadata": {
	    "collapsed": true
	   },
	   "outputs": [],
"source": [
"//Example 4.21\n",
"//Program to Compute the DFT of given Sequence \n",
"//x[n]=[1,-1,-1,-1,1,1,1,-1] using DIT-FFT Algorithm.\n",
"clear;\n",
"clc ;\n",
"close ;\n",
"x = [1,-1,-1,-1,1,1,1,-1];\n",
"//FFT Computation\n",
"X = fft (x , -1);\n",
"disp(X,'X(z) = ');"
   ]
   }
,
{
		   "cell_type": "markdown",
		   "metadata": {},
		   "source": [
			"## Example 4.22: Compute_X_using_DIT_FFT.sce"
		   ]
		  },
  {
"cell_type": "code",
	   "execution_count": null,
	   "metadata": {
	    "collapsed": true
	   },
	   "outputs": [],
"source": [
"//Example 4.22\n",
"//Program to Compute the DFT of given Sequence \n",
"//x[n]=2^n and N=8 using DIT-FFT Algorithm.\n",
"clear;\n",
"clc ;\n",
"close ;\n",
"N=8;\n",
"n=0:1:N-1;\n",
"x =2^n;\n",
"//FFT Computation\n",
"X = fft (x , -1);\n",
"disp(X,'X(z) = ');"
   ]
   }
,
{
		   "cell_type": "markdown",
		   "metadata": {},
		   "source": [
			"## Example 4.23: DFT_using_DIF_FFT_Algorithm.sce"
		   ]
		  },
  {
"cell_type": "code",
	   "execution_count": null,
	   "metadata": {
	    "collapsed": true
	   },
	   "outputs": [],
"source": [
"//Example 4.23\n",
"//Program to Compute the DFT of given Sequence \n",
"//x[n]=cos(n*pi/2), and N=4 using DIF-FFT Algorithm.\n",
"clear;\n",
"clc ;\n",
"close ;\n",
"N=4;\n",
"pi=22/7;\n",
"n=0:1:N-1;\n",
"x =cos(n*pi/2);\n",
"//FFT Computation\n",
"X = fft (x , -1);\n",
"disp(X,'X(z) = ');"
   ]
   }
,
{
		   "cell_type": "markdown",
		   "metadata": {},
		   "source": [
			"## Example 4.24: 8_Point_DFT_of_the_Sequence.sce"
		   ]
		  },
  {
"cell_type": "code",
	   "execution_count": null,
	   "metadata": {
	    "collapsed": true
	   },
	   "outputs": [],
"source": [
"//Example 4.24\n",
"//Program to Compute the 8-point DFT of given Sequence \n",
"//x[n]=[0,1,2,3,4,5,6,7] using DIF, radix-2,FFT Algorithm.\n",
"clear;\n",
"clc ;\n",
"close ;\n",
"x = [0,1,2,3,4,5,6,7];\n",
"//FFT Computation\n",
"X = fft (x , -1);\n",
"disp(X,'X(z) = ');"
   ]
   }
,
{
		   "cell_type": "markdown",
		   "metadata": {},
		   "source": [
			"## Example 4.3: Shortest_Sequence_N_Computation.sce"
		   ]
		  },
  {
"cell_type": "code",
	   "execution_count": null,
	   "metadata": {
	    "collapsed": true
	   },
	   "outputs": [],
"source": [
"//Example 4.3\n",
"//Program to calculate shortest sequence N such that algorithm B runs //faster than A\n",
"clear;\n",
"clc ;\n",
"close ;\n",
"i=0;\n",
"N=32; //Given\n",
"//Calculation of Twiddle factor exponents for each stage\n",
"while 1==1\n",
"  i=i+1;\n",
"  N=2^i;\n",
"  A=N^2;\n",
"  B=5*N*log2(N);\n",
"  if A>B then break;\n",
"    end;   \n",
"end\n",
"disp(N,'SHORTEST SEQUENCE N =');"
   ]
   }
,
{
		   "cell_type": "markdown",
		   "metadata": {},
		   "source": [
			"## Example 4.4: Twiddle_Factor_Exponents_Calculation.sce"
		   ]
		  },
  {
"cell_type": "code",
	   "execution_count": null,
	   "metadata": {
	    "collapsed": true
	   },
	   "outputs": [],
"source": [
"//Example 4.4\n",
"//Program to calculate Twiddle factor exponents for each stage\n",
"clear;\n",
"clc ;\n",
"close ;\n",
"N=32; //Given\n",
"//Calculation of Twiddle factor exponents for each stage\n",
"for m=1:5\n",
"  disp(m,'Stage: m =');\n",
"  disp(' k =');\n",
"  for t=0:(2^(m-1)-1)\n",
"    k=N*t/2^m;\n",
"    disp(k);\n",
"  end\n",
"end"
   ]
   }
,
{
		   "cell_type": "markdown",
		   "metadata": {},
		   "source": [
			"## Example 4.6: DFT_using_DIT_Algorithm.sce"
		   ]
		  },
  {
"cell_type": "code",
	   "execution_count": null,
	   "metadata": {
	    "collapsed": true
	   },
	   "outputs": [],
"source": [
"//Example 4.6\n",
"//Program to find the DFT of a Sequence x[n]=[1,2,3,4,4,3,2,1] \n",
"//using DIT Algorithm.\n",
"clear;\n",
"clc ;\n",
"close ;\n",
"x = [1,2,3,4,4,3,2,1];\n",
"//FFT Computation\n",
"X = fft (x , -1);\n",
"disp(X,'X(z) = ');"
   ]
   }
,
{
		   "cell_type": "markdown",
		   "metadata": {},
		   "source": [
			"## Example 4.8: DFT_using_DIF_Algorithm.sce"
		   ]
		  },
  {
"cell_type": "code",
	   "execution_count": null,
	   "metadata": {
	    "collapsed": true
	   },
	   "outputs": [],
"source": [
"//Example 4.8\n",
"//Program to find the DFT of a Sequence x[n]=[1,2,3,4,4,3,2,1] \n",
"//using DIF Algorithm.\n",
"clear;\n",
"clc ;\n",
"close ;\n",
"x = [1,2,3,4,4,3,2,1];\n",
"//FFT Computation\n",
"X = fft (x , -1);\n",
"disp(X,'X(z) = ');"
   ]
   }
,
{
		   "cell_type": "markdown",
		   "metadata": {},
		   "source": [
			"## Example 4.9: 8_Point_DFT_of_the_Sequence.sce"
		   ]
		  },
  {
"cell_type": "code",
	   "execution_count": null,
	   "metadata": {
	    "collapsed": true
	   },
	   "outputs": [],
"source": [
"//Example 4.9\n",
"//Program to find the 8-point DFT of a Sequence x[n]=1, 0<=n<=7 \n",
"//using DIT,DIF Algorithm.\n",
"clear;\n",
"clc ;\n",
"close ;\n",
"x = [1,1,1,1,1,1,1,1];\n",
"//FFT Computation\n",
"X = fft (x , -1);\n",
"disp(X,'X(z) = ');"
   ]
   }
],
"metadata": {
		  "kernelspec": {
		   "display_name": "Scilab",
		   "language": "scilab",
		   "name": "scilab"
		  },
		  "language_info": {
		   "file_extension": ".sce",
		   "help_links": [
			{
			 "text": "MetaKernel Magics",
			 "url": "https://github.com/calysto/metakernel/blob/master/metakernel/magics/README.md"
			}
		   ],
		   "mimetype": "text/x-octave",
		   "name": "scilab",
		   "version": "0.7.1"
		  }
		 },
		 "nbformat": 4,
		 "nbformat_minor": 0
}
