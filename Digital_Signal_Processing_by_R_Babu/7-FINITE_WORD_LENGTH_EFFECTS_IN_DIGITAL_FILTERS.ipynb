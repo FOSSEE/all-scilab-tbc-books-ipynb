{
"cells": [
 {
		   "cell_type": "markdown",
	   "metadata": {},
	   "source": [
       "# Chapter 7: FINITE WORD LENGTH EFFECTS IN DIGITAL FILTERS"
	   ]
	},
{
		   "cell_type": "markdown",
		   "metadata": {},
		   "source": [
			"## Example 7.14: Variance_of_Output_due_to_AD_Conversion_Process.sce"
		   ]
		  },
  {
"cell_type": "code",
	   "execution_count": null,
	   "metadata": {
	    "collapsed": true
	   },
	   "outputs": [],
"source": [
"//Example 7.14\n",
"//To Compare the Varience of Output due to A/D Conversion process\n",
"//y(n)=0.8y(n-1)+x(n)\n",
"clear;\n",
"clc ;\n",
"close ;\n",
"n=8;  //Bits\n",
"r=100;  //Range\n",
"Q=2*r/(2^n);  //Quantization Step Size\n",
"Ve=(Q^2)/12;\n",
"Vo=Ve*(1/(1-0.8^2));\n",
"disp(Q,'QUANTIZATION STEP SIZE =');\n",
"disp(Ve,'VARIANCE OF ERROR SIGNAL =');\n",
"disp(Vo,'VARIANCE OF OUTPUT =');"
   ]
   }
,
{
		   "cell_type": "markdown",
		   "metadata": {},
		   "source": [
			"## Example 7.2: Subtraction_Computation.sce"
		   ]
		  },
  {
"cell_type": "code",
	   "execution_count": null,
	   "metadata": {
	    "collapsed": true
	   },
	   "outputs": [],
"source": [
"//Example 7.2\n",
"//To Compute Subtraction\n",
"//(a) 0.25 from 0.5\n",
"clear;\n",
"clc ;\n",
"close ;\n",
"a=0.5;\n",
"b=0.25;\n",
"c=a-b;\n",
"disp(c,'=',b,'-',a,'PART 1');\n",
"//(a) 0.5 from 0.25\n",
"d=b-a;\n",
"disp(d,'=',a,'-',b,'PART 2');"
   ]
   }
],
"metadata": {
		  "kernelspec": {
		   "display_name": "Scilab",
		   "language": "scilab",
		   "name": "scilab"
		  },
		  "language_info": {
		   "file_extension": ".sce",
		   "help_links": [
			{
			 "text": "MetaKernel Magics",
			 "url": "https://github.com/calysto/metakernel/blob/master/metakernel/magics/README.md"
			}
		   ],
		   "mimetype": "text/x-octave",
		   "name": "scilab",
		   "version": "0.7.1"
		  }
		 },
		 "nbformat": 4,
		 "nbformat_minor": 0
}
