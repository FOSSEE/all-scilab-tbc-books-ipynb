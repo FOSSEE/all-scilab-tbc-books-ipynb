{
"cells": [
 {
		   "cell_type": "markdown",
	   "metadata": {},
	   "source": [
       "# Chapter 3: THE DISCRETE FOURIER TRANSFORM"
	   ]
	},
{
		   "cell_type": "markdown",
		   "metadata": {},
		   "source": [
			"## Example 3.11: DFT_Computatio.sce"
		   ]
		  },
  {
"cell_type": "code",
	   "execution_count": null,
	   "metadata": {
	    "collapsed": true
	   },
	   "outputs": [],
"source": [
"//Example 3.11\n",
"//Program to Compute the 8-point DFT of the following sequences \n",
"//x1[n]=[1,0,0,0,0,1,1,1]\n",
"//x2[n]=[0,0,1,1,1,1,0,0]  \n",
"clear;\n",
"clc ;\n",
"close ;\n",
"x1=[1,0,0,0,0,1,1,1];\n",
"x2=[0,0,1,1,1,1,0,0];  \n",
"//DFT Computation\n",
"X1 = fft (x1 , -1);\n",
"X2 = fft (x2 , -1);\n",
"//Display sequences X1[k] and X2[k] in command window\n",
"disp(X1,'X1[k]=');\n",
"disp(X2,'X2[k]=');"
   ]
   }
,
{
		   "cell_type": "markdown",
		   "metadata": {},
		   "source": [
			"## Example 3.13: Circular_Convolution.sce"
		   ]
		  },
  {
"cell_type": "code",
	   "execution_count": null,
	   "metadata": {
	    "collapsed": true
	   },
	   "outputs": [],
"source": [
"//Example 3.13\n",
"//Program to Compute circular convolution of following sequences\n",
"//x1[n]=[1,-1,-2,3,-1]\n",
"//x2[n]=[1,2,3]\n",
"clear;\n",
"clc ;\n",
"close ;\n",
"x1=[1,-1,-2,3,-1];\n",
"x2=[1,2,3];\n",
"//Loop for zero padding the smaller sequence out of the two\n",
"n1=length(x1);\n",
"n2=length(x2);\n",
"n3=n2-n1;\n",
"if (n3>=0) then\n",
" x1=[x1,zeros(1,n3)];    \n",
"else\n",
" x2=[x2,zeros(1,-n3)];\n",
"end    \n",
"//DFT Computation\n",
"X1=fft(x1,-1);\n",
"X2=fft(x2,-1);\n",
"Y=X1.*X2;\n",
"//IDFT Computation\n",
"y=fft(Y,1);\n",
"//Display sequence y[n] in command window\n",
"disp(y,'y[n]=');"
   ]
   }
,
{
		   "cell_type": "markdown",
		   "metadata": {},
		   "source": [
			"## Example 3.14: Circular_Convolution.sce"
		   ]
		  },
  {
"cell_type": "code",
	   "execution_count": null,
	   "metadata": {
	    "collapsed": true
	   },
	   "outputs": [],
"source": [
"//Example 3.14\n",
"//Program to Compute circular convolution of following sequences\n",
"//x1[n]=[1,2,2,1]\n",
"//x2[n]=[1,2,3,1]\n",
"clear;\n",
"clc ;\n",
"close ;\n",
"x1=[1,2,2,1];\n",
"x2=[1,2,3,1];\n",
"//DFT Computation\n",
"X1=fft(x1,-1);\n",
"X2=fft(x2,-1);\n",
"Y=X1.*X2;\n",
"//IDFT Computation\n",
"y=fft(Y,1);\n",
"//Display sequence y[n] in command window\n",
"disp(y,'y[n]=');"
   ]
   }
,
{
		   "cell_type": "markdown",
		   "metadata": {},
		   "source": [
			"## Example 3.15: Determine_Sequence_x3.sce"
		   ]
		  },
  {
"cell_type": "code",
	   "execution_count": null,
	   "metadata": {
	    "collapsed": true
	   },
	   "outputs": [],
"source": [
"//Example 3.15\n",
"//Program to Compute x3[n] where X3[k]=X1[k].X2[k]\n",
"//x1[n]=[1,2,3,4]\n",
"//x2[n]=[1,1,2,2]\n",
"clear;\n",
"clc ;\n",
"close ;\n",
"x1=[1,2,3,4];\n",
"x2=[1,1,2,2];\n",
"//DFT Computation\n",
"X1=fft(x1,-1);\n",
"X2=fft(x2,-1);\n",
"X3=X1.*X2;\n",
"//IDFT Computation\n",
"x3=fft(X3,1);\n",
"//Display sequence x3[n] in command window\n",
"disp(x3,'x3[n]=');"
   ]
   }
,
{
		   "cell_type": "markdown",
		   "metadata": {},
		   "source": [
			"## Example 3.16: Circular_Convolution.sce"
		   ]
		  },
  {
"cell_type": "code",
	   "execution_count": null,
	   "metadata": {
	    "collapsed": true
	   },
	   "outputs": [],
"source": [
"//Example 3.16\n",
"//Program to Compute circular convolution of following sequences\n",
"//x1[n]=[1,1,2,1]\n",
"//x2[n]=[1,2,3,4]\n",
"clear;\n",
"clc ;\n",
"close ;\n",
"x1=[1,1,2,1];\n",
"x2=[1,2,3,4];\n",
"//DFT Computation\n",
"X1=fft(x1,-1);\n",
"X2=fft(x2,-1);\n",
"X3=X1.*X2;\n",
"//IDFT Computation\n",
"x3=fft(X3,1);\n",
"//Display sequence x3[n] in command window\n",
"disp(x3,'x3[n]=');"
   ]
   }
,
{
		   "cell_type": "markdown",
		   "metadata": {},
		   "source": [
			"## Example 3.17: Circular_Convolution.sce"
		   ]
		  },
  {
"cell_type": "code",
	   "execution_count": null,
	   "metadata": {
	    "collapsed": true
	   },
	   "outputs": [],
"source": [
"//Example 3.17\n",
"//Program to Compute y[n] where Y[k]=X1[k].X2[k]\n",
"//x1[n]=[0,1,2,3,4]\n",
"//x2[n]=[0,1,0,0,0]\n",
"clear;\n",
"clc ;\n",
"close ;\n",
"x1=[0,1,2,3,4];\n",
"x2=[0,1,0,0,0];\n",
"//DFT Computation\n",
"X1=fft(x1,-1);\n",
"X2=fft(x2,-1);\n",
"Y=X1.*X2;\n",
"//IDFT Computation\n",
"y=round(fft(Y,1));\n",
"//Display sequence y[n] in command window\n",
"disp(y,'y[n]=');"
   ]
   }
,
{
		   "cell_type": "markdown",
		   "metadata": {},
		   "source": [
			"## Example 3.18: Output_Response.sce"
		   ]
		  },
  {
"cell_type": "code",
	   "execution_count": null,
	   "metadata": {
	    "collapsed": true
	   },
	   "outputs": [],
"source": [
"//Example 3.18\n",
"//Program to Compute output responce of following sequences\n",
"//x[n]=[1,2,3,1]\n",
"//h[n]=[1,1,1]\n",
"//(1)Linear Convolution\n",
"//(2)Circular Convolution\n",
"//(3)Circular Convolution with zero padding\n",
"clear;\n",
"clc ;\n",
"close ;\n",
"x=[1,2,3,1];\n",
"h=[1,1,1];\n",
"//(1)Linear Convolution Computation\n",
"ylinear=convol (x,h);\n",
"//Display Linear Convoluted Sequence y[n] in command window\n",
"disp(ylinear,'ylinear[n]=');\n",
"//(2)Circular Convolution Computation\n",
"//Now zero padding in h[n] sequence to make length of x[n] and h[n] equal \n",
"h1=[h,zeros(1,1)];\n",
"//Now Performing Circular Convolution by DFT method\n",
"X=fft(x,-1);\n",
"H=fft(h1,-1);\n",
"Y=X.*H;\n",
"ycircular=fft(Y,1);\n",
"//Display Circular Convoluted Sequence y[n] in command window\n",
"disp(ycircular,'ycircular[n]=');\n",
"//(3)Circular Convolution Computation with zero Padding\n",
"x2=[x,zeros(1,2)];\n",
"h2=[h,zeros(1,3)];\n",
"//Now Performing Circular Convolution by DFT method\n",
"X2=fft(x2,-1);\n",
"H2=fft(h2,-1);\n",
"Y2=X2.*H2;\n",
"ycircularp=fft(Y2,1);\n",
"//Display Circular Convoluted Sequence with zero Padding y[n] in command window\n",
"disp(ycircularp,'ycircularp[n]=');"
   ]
   }
,
{
		   "cell_type": "markdown",
		   "metadata": {},
		   "source": [
			"## Example 3.1: DFT_and_IDFT.sce"
		   ]
		  },
  {
"cell_type": "code",
	   "execution_count": null,
	   "metadata": {
	    "collapsed": true
	   },
	   "outputs": [],
"source": [
"//Example 3.1\n",
"//Program to Compute the DFT of a Sequence x[n]=[1,1,0,0] \n",
"//and IDFT of a Sequence Y[k]=[1,0,1,0]\n",
"clear;\n",
"clc ;\n",
"close ;\n",
"x = [1,1,0,0];\n",
"//DFT Computation\n",
"X = fft (x , -1);\n",
"Y = [1,0,1,0];\n",
"//IDFT Computation\n",
"y = fft (Y , 1);\n",
"//Display sequence X[k] and y[n] in command window\n",
"disp(X,'X[k]=');\n",
"disp(y,'y[n]=');"
   ]
   }
,
{
		   "cell_type": "markdown",
		   "metadata": {},
		   "source": [
			"## Example 3.20: Output_Response.sce"
		   ]
		  },
  {
"cell_type": "code",
	   "execution_count": null,
	   "metadata": {
	    "collapsed": true
	   },
	   "outputs": [],
"source": [
"//Example 3.20\n",
"//Program to Compute Linear Convolution of following sequences\n",
"//x[n]=[3,-1,0,1,3,2,0,1,2,1]\n",
"//h[n]=[1,1,1]\n",
"clear;\n",
"clc ;\n",
"close ;\n",
"x=[3,-1,0,1,3,2,0,1,2,1];\n",
"h=[1,1,1];\n",
"// Linear Convolution Computation\n",
"y=convol (x,h);\n",
"//Display Sequence y[n] in command window\n",
"disp(y,'y[n]=');"
   ]
   }
,
{
		   "cell_type": "markdown",
		   "metadata": {},
		   "source": [
			"## Example 3.21: Linear_Convolution.sce"
		   ]
		  },
  {
"cell_type": "code",
	   "execution_count": null,
	   "metadata": {
	    "collapsed": true
	   },
	   "outputs": [],
"source": [
"//Example 3.21\n",
"//Program to Compute Linear Convolution of following sequences\n",
"//x[n]=[1,2,-1,2,3,-2,-3,-1,1,1,2,-1]\n",
"//h[n]=[1,2]\n",
"clear;\n",
"clc ;\n",
"close ;\n",
"x=[1,2,-1,2,3,-2,-3,-1,1,1,2,-1];\n",
"h=[1,2];\n",
"// Linear Convolution Computation\n",
"y=convol (x,h);\n",
"//Display Sequence y[n] in command window\n",
"disp(y,'y[n]=');"
   ]
   }
,
{
		   "cell_type": "markdown",
		   "metadata": {},
		   "source": [
			"## Example 3.23_a: N_Point_DFT_Computation.sce"
		   ]
		  },
  {
"cell_type": "code",
	   "execution_count": null,
	   "metadata": {
	    "collapsed": true
	   },
	   "outputs": [],
"source": [
"//Example 3.23 (a)\n",
"//MAXIMA SCILAB TOOLBOX REQUIRED FOR THIS PROGRAM\n",
"//N point DFT of delta(n)\n",
"clc;\n",
"syms n k N;\n",
"x=1;\n",
"X=symsum(x*exp(-%i*2*%pi*n*k/N),n,0,0);\n",
"disp(X,'X(k)=');"
   ]
   }
,
{
		   "cell_type": "markdown",
		   "metadata": {},
		   "source": [
			"## Example 3.23_b: N_Point_DFT_Computation.sce"
		   ]
		  },
  {
"cell_type": "code",
	   "execution_count": null,
	   "metadata": {
	    "collapsed": true
	   },
	   "outputs": [],
"source": [
"//Example 3.23 (b)\n",
"//MAXIMA SCILAB TOOLBOX REQUIRED FOR THIS PROGRAM\n",
"//N point DFT of delta(n-no)\n",
"clc;\n",
"syms n k N no;\n",
"x=1;\n",
"X=symsum(x*exp(-%i*2*%pi*n*k/N),n,-no,-no);\n",
"disp(X,'X(k)=');"
   ]
   }
,
{
		   "cell_type": "markdown",
		   "metadata": {},
		   "source": [
			"## Example 3.23_c: N_Point_DFT_Computation.sce"
		   ]
		  },
  {
"cell_type": "code",
	   "execution_count": null,
	   "metadata": {
	    "collapsed": true
	   },
	   "outputs": [],
"source": [
"//Example 3.23 (c)\n",
"//MAXIMA SCILAB TOOLBOX REQUIRED FOR THIS PROGRAM\n",
"//N point DFT of a^n\n",
"clc;\n",
"syms a n k N;\n",
"x=a^n;\n",
"X=symsum(x*exp(-%i*2*%pi*n*k/N),n,0,N-1);\n",
"disp(X,'X(k)=');"
   ]
   }
,
{
		   "cell_type": "markdown",
		   "metadata": {},
		   "source": [
			"## Example 3.23_d: N_Point_DFT_Computation.sce"
		   ]
		  },
  {
"cell_type": "code",
	   "execution_count": null,
	   "metadata": {
	    "collapsed": true
	   },
	   "outputs": [],
"source": [
"//Example 3.23 (d)\n",
"//MAXIMA SCILAB TOOLBOX REQUIRED FOR THIS PROGRAM\n",
"//N point DFT of x(n)=1, 0<=n<=N/2-1\n",
"clc;\n",
"syms n k N;\n",
"x=1;\n",
"X=symsum(x*exp(-%i*2*%pi*n*k/N),n,0,(N/2)-1);\n",
"disp(X,'X(k)=');"
   ]
   }
,
{
		   "cell_type": "markdown",
		   "metadata": {},
		   "source": [
			"## Example 3.23_e: N_Point_DFT_Computation.sce"
		   ]
		  },
  {
"cell_type": "code",
	   "execution_count": null,
	   "metadata": {
	    "collapsed": true
	   },
	   "outputs": [],
"source": [
"//Example 3.23 (e)\n",
"//MAXIMA SCILAB TOOLBOX REQUIRED FOR THIS PROGRAM\n",
"//N point DFT of x(n)=exp(%i*2*%pi*ko*n/N);\n",
"clc;\n",
"syms n k N ko;\n",
"x=exp(%i*2*%pi*ko*n/N);\n",
"X=symsum(x*exp(-%i*2*%pi*n*k/N),n,0,(N/2)-1);\n",
"disp(X,'X(k)=');"
   ]
   }
,
{
		   "cell_type": "markdown",
		   "metadata": {},
		   "source": [
			"## Example 3.23_f: N_Point_DFT_Computation.sce"
		   ]
		  },
  {
"cell_type": "code",
	   "execution_count": null,
	   "metadata": {
	    "collapsed": true
	   },
	   "outputs": [],
"source": [
"//Example 3.23 (f)\n",
"//MAXIMA SCILAB TOOLBOX REQUIRED FOR THIS PROGRAM\n",
"//N point DFT of x(n)=1, for n=even and 0, for n=odd\n",
"clc;\n",
"syms n k N ;\n",
"x=1;//x(2n)=1,for all n\n",
"X=symsum(x*exp(-%i*4*%pi*n*k/N),n,0,N/2-1);\n",
"disp(X,'X(k)=');"
   ]
   }
,
{
		   "cell_type": "markdown",
		   "metadata": {},
		   "source": [
			"## Example 3.24: DFT_of_the_Sequence.sce"
		   ]
		  },
  {
"cell_type": "code",
	   "execution_count": null,
	   "metadata": {
	    "collapsed": true
	   },
	   "outputs": [],
"source": [
"//Example 3.24\n",
"//Program to Compute the DFT of the Sequence x[n]=(-1)^n, for N=4\n",
"clear;\n",
"clc ;\n",
"close ;\n",
"N=4;\n",
"n=0:1:N-1;\n",
"x=(-1)^n;\n",
"//DFT Computation\n",
"X = fft (x,-1);\n",
"//Display Sequence X[k] in command window\n",
"disp(X,'X[k]=');"
   ]
   }
,
{
		   "cell_type": "markdown",
		   "metadata": {},
		   "source": [
			"## Example 3.25: 8_Point_Circular_Convolution.sce"
		   ]
		  },
  {
"cell_type": "code",
	   "execution_count": null,
	   "metadata": {
	    "collapsed": true
	   },
	   "outputs": [],
"source": [
"//Example 3.25\n",
"//Program to Compute the 8-point Circular Convolution of the Sequences\n",
"//x1[n]=[1,1,1,1,0,0,0,0]\n",
"//x2[n]=sin(3*pi*n/8)\n",
"clear;\n",
"clc ;\n",
"close ;\n",
"x1=[1,1,1,1,0,0,0,0];\n",
"n=0:1:7;\n",
"pi=22/7;\n",
"x2=sin(3*pi*n/8);\n",
"//DFT Computation\n",
"X1=fft (x1,-1);\n",
"X2=fft (x2,-1);\n",
"//Circular Convolution using DFT \n",
"Y=X1.*X2;\n",
"//IDFT Computation\n",
"y= fft (Y,1);\n",
"//Display sequence y[n] in command window\n",
"disp(y,'y[n]=');"
   ]
   }
,
{
		   "cell_type": "markdown",
		   "metadata": {},
		   "source": [
			"## Example 3.26: Linear_Convolution_using_DFT.sce"
		   ]
		  },
  {
"cell_type": "code",
	   "execution_count": null,
	   "metadata": {
	    "collapsed": true
	   },
	   "outputs": [],
"source": [
"//Example 3.26\n",
"//Program to Compute the Linear Convolution of the following Sequences\n",
"//x[n]=[1,-1,1]\n",
"//h[n]=[2,2,1]\n",
"clear;\n",
"clc ;\n",
"close ;\n",
"x=[1,-1,1];\n",
"h=[2,2,1];\n",
"//Convolution Computation\n",
"y= convol(x,h);\n",
"//Display sequence y[n] in command window\n",
"disp(y,'y[n]=');\n",
""
   ]
   }
,
{
		   "cell_type": "markdown",
		   "metadata": {},
		   "source": [
			"## Example 3.27_a: Circular_Convolution_Computation.sce"
		   ]
		  },
  {
"cell_type": "code",
	   "execution_count": null,
	   "metadata": {
	    "collapsed": true
	   },
	   "outputs": [],
"source": [
"//Example 3.27 (a)\n",
"//Program to Compute the Convolution of the following Sequences\n",
"//x1[n]=[1,1,1]\n",
"//x2[n]=[2,-1,2]\n",
"clear;\n",
"clc ;\n",
"close ;\n",
"x1=[1,1,1];\n",
"x2=[2,-1,2];\n",
"//Convolution Computation\n",
"X1=fft (x1,-1);\n",
"X2=fft (x2,-1);\n",
"Y=X1.*X2;\n",
"y=fft (Y,1);\n",
"//Display Sequence y[n] in command window\n",
"disp(y,'y[n]=');"
   ]
   }
,
{
		   "cell_type": "markdown",
		   "metadata": {},
		   "source": [
			"## Example 3.27_b: Circular_Convolution_Computation.sce"
		   ]
		  },
  {
"cell_type": "code",
	   "execution_count": null,
	   "metadata": {
	    "collapsed": true
	   },
	   "outputs": [],
"source": [
"//Example 3.27 (b)\n",
"//Program to Compute the Convolution of the following Sequences\n",
"//x1[n]=[1,1,-1,-1,0]\n",
"//x2[n]=[1,0,-1,0,1]\n",
"clear;\n",
"clc ;\n",
"close ;\n",
"x1=[1,1,-1,-1,0];\n",
"x2=[1,0,-1,0,1];\n",
"//Convolution Computation\n",
"X1=fft (x1,-1);\n",
"X2=fft (x2,-1);\n",
"Y=X1.*X2;\n",
"y= fft (Y,1);\n",
"//Display Sequence y[n] in command window\n",
"disp(y,'y[n]=');"
   ]
   }
,
{
		   "cell_type": "markdown",
		   "metadata": {},
		   "source": [
			"## Example 3.2: DFT_of_the_Sequence.sce"
		   ]
		  },
  {
"cell_type": "code",
	   "execution_count": null,
	   "metadata": {
	    "collapsed": true
	   },
	   "outputs": [],
"source": [
"//Example 3.2\n",
"//Program to Compute the DFT of a Sequence x[n]=1, 0<=n<=2; and 0 otherwise\n",
"//for N=4 and N=8. Plot Magnitude and phase plots of each.\n",
"clear;\n",
"clc ;\n",
"close ;\n",
"//N=4\n",
"x1 = [1,1,1,0];\n",
"//DFT Computation\n",
"X1 = fft (x1 , -1);\n",
"//N=8\n",
"x2 = [1,1,1,0,0,0,0,0];\n",
"//DFT Computation\n",
"X2 = fft (x2 , -1);\n",
"//Display sequence X1[k] and X2[k] in command window\n",
"disp(X1,'X1[k]=');\n",
"disp(X2,'X2[k]=');\n",
"//Plots for N=4\n",
"n1=0:1:3;\n",
"subplot(2,2,1);\n",
"a = gca ();\n",
"a.y_location ='origin';\n",
"a.x_location ='origin';\n",
"plot2d3(n1,abs(X1),2);\n",
"poly1=a.children(1).children (1);\n",
"poly1.thickness=2;\n",
"xtitle('N=4','k','|X1(k)|');\n",
"subplot(2,2,2);\n",
"a = gca ();\n",
"a.y_location ='origin';\n",
"a.x_location ='origin';\n",
"plot2d3(n1,atan(imag(X1),real(X1)),5);\n",
"poly1=a.children(1).children (1);\n",
"poly1.thickness=2;\n",
"xtitle('N=4','k','<X1(k)');\n",
"//Plots for N=8\n",
"n2=0:1:7;\n",
"subplot(2,2,3);\n",
"a = gca ();\n",
"a.y_location ='origin';\n",
"a.x_location ='origin';\n",
"plot2d3(n2,abs(X2),2);\n",
"poly1=a.children(1).children (1);\n",
"poly1.thickness=2;\n",
"xtitle('N=8','k','|X2(k)|');\n",
"subplot(2,2,4);\n",
"a = gca ();\n",
"a.y_location ='origin';\n",
"a.x_location ='origin';\n",
"plot2d3(n2,atan(imag(X2),real(X2)),5);\n",
"poly1=a.children(1).children (1);\n",
"poly1.thickness=2;\n",
"xtitle('N=8','k','<X2(k)');"
   ]
   }
,
{
		   "cell_type": "markdown",
		   "metadata": {},
		   "source": [
			"## Example 3.30: Calculate_value_of_N.sce"
		   ]
		  },
  {
"cell_type": "code",
	   "execution_count": null,
	   "metadata": {
	    "collapsed": true
	   },
	   "outputs": [],
"source": [
"//Example 3.30\n",
"//Program to Calculate N from given data\n",
"//fm=5000Hz\n",
"//df=50Hz\n",
"//t=0.5sec\n",
"clear;\n",
"clc ;\n",
"close ;\n",
"fm=5000 //Hz\n",
"df=50   //Hz\n",
"t=0.5   //sec\n",
"N1=2*fm/df;\n",
"N=2;\n",
"while N<=N1, N=N*2,end\n",
"//Displaying the value of N in command window\n",
"disp(N,'N=');"
   ]
   }
,
{
		   "cell_type": "markdown",
		   "metadata": {},
		   "source": [
			"## Example 3.32: Sketch_Sequence.sce"
		   ]
		  },
  {
"cell_type": "code",
	   "execution_count": null,
	   "metadata": {
	    "collapsed": true
	   },
	   "outputs": [],
"source": [
"//Example 3.32\n",
"//Program to plot the result of the given sequence\n",
"//X[k]=[1,2,2,1,0,2,1,2]\n",
"//y[n]=x[n/2] for n=even,0 for n=odd \n",
"clear;\n",
"clc ;\n",
"close ;\n",
"X=[1,2,2,1,0,2,1,2];\n",
"x = fft (X , 1);\n",
"y=[x(1),0,x(2),0,x(3),0,x(4),0,x(5),0,x(6),0,x(7),0,x(8),0];\n",
"Y = fft (y , -1);\n",
"//Display sequence Y[k] and in command window\n",
"disp(Y,'Y[k]=');\n",
"//Plotting the sequence Y[k]\n",
"k=0:1:15;\n",
"a = gca ();\n",
"a.y_location ='origin';\n",
"a.x_location ='origin';\n",
"plot2d3(k,Y,2);\n",
"poly1=a.children(1).children (1);\n",
"poly1.thickness=2;\n",
"xtitle('Plot of Y(k)','k','Y(k)');"
   ]
   }
,
{
		   "cell_type": "markdown",
		   "metadata": {},
		   "source": [
			"## Example 3.36: Determine_IDFT.sce"
		   ]
		  },
  {
"cell_type": "code",
	   "execution_count": null,
	   "metadata": {
	    "collapsed": true
	   },
	   "outputs": [],
"source": [
"//Example 3.36\n",
"//Program to Compute the IDFT of the following Sequence \n",
"//X[k]=[12,-1.5+j2.598,-1.5+j0.866,0,-1.5-j0.866,-1.5-j2.598]  \n",
"clear;\n",
"clc ;\n",
"close ;\n",
"j=sqrt(-1);\n",
"X=[12,-1.5+j*2.598,-1.5+j*0.866,0,-1.5-j*0.866,-1.5-j*2.598];\n",
"//IDFT Computation\n",
"x = fft (X , 1);\n",
"//Display Sequence x[n] in command window\n",
"disp(round(x),'x[n]=');"
   ]
   }
,
{
		   "cell_type": "markdown",
		   "metadata": {},
		   "source": [
			"## Example 3.3: 8_Point_DFT.sce"
		   ]
		  },
  {
"cell_type": "code",
	   "execution_count": null,
	   "metadata": {
	    "collapsed": true
	   },
	   "outputs": [],
"source": [
"//Example 3.3\n",
"//Program to Compute the 8-point DFT of the Sequence x[n]=[1,1,1,1,1,1,0,0] \n",
"clear;\n",
"clc ;\n",
"close ;\n",
"x = [1,1,1,1,1,1,0,0];\n",
"//DFT Computation\n",
"X = fft (x , -1);\n",
"//Display sequence X[k] in command window\n",
"disp(X,'X[k]=');"
   ]
   }
,
{
		   "cell_type": "markdown",
		   "metadata": {},
		   "source": [
			"## Example 3.4: IDFT_of_the_given_Sequence.sce"
		   ]
		  },
  {
"cell_type": "code",
	   "execution_count": null,
	   "metadata": {
	    "collapsed": true
	   },
	   "outputs": [],
"source": [
"//Example 3.4\n",
"//Program to Compute the IDFT of the Sequence X[k]=[5,0,1-j,0,1,0,1+j,0] \n",
"clear;\n",
"clc ;\n",
"close ;\n",
"j=sqrt(-1);\n",
"X = [5,0,1-j,0,1,0,1+j,0] \n",
"//IDFT Computation\n",
"x = fft (X , 1);\n",
"//Display sequences x[n]in command window\n",
"disp(x,'x[n]=');"
   ]
   }
,
{
		   "cell_type": "markdown",
		   "metadata": {},
		   "source": [
			"## Example 3.7: Plot_the_Sequence.sce"
		   ]
		  },
  {
"cell_type": "code",
	   "execution_count": null,
	   "metadata": {
	    "collapsed": true
	   },
	   "outputs": [],
"source": [
"//Example 3.7\n",
"//Program to Compute circular convolution of following sequences\n",
"//x[n]=[1,2,2,1,0]\n",
"//Y[k]=exp(-j*4*pi*k/5).X[k]\n",
"clear;\n",
"clc ;\n",
"close ;\n",
"x=[1,2,2,1,0];\n",
"X=fft(x,-1);\n",
"k=0:1:4;\n",
"j=sqrt(-1);\n",
"pi=22/7;\n",
"H=exp(-j*4*pi*k/5);\n",
"Y=H.*X;\n",
"//IDFT Computation\n",
"y=fft(Y,1);\n",
"//Display sequence y[n] in command window\n",
"disp(round(y),'y[n]=');\n",
"//Plots\n",
"n=0:1:4;\n",
"a = gca ();\n",
"a.y_location ='origin';\n",
"a.x_location ='origin';\n",
"plot2d3(n,round(y),5);\n",
"poly1=a.children(1).children (1);\n",
"poly1.thickness=2;\n",
"xtitle('Plot of sequence y[n]','n','y[n]');"
   ]
   }
,
{
		   "cell_type": "markdown",
		   "metadata": {},
		   "source": [
			"## Example 3.9: Remaining_Samples.sce"
		   ]
		  },
  {
"cell_type": "code",
	   "execution_count": null,
	   "metadata": {
	    "collapsed": true
	   },
	   "outputs": [],
"source": [
"//Example 3.9\n",
"//Program to remaining samples of the sequence\n",
"//X(0)=12,X(1)=-1+j3,X(2)=3+j4,X(3)=1-j5,X(4)=-2+j2,X(5)=6+j3,X(6)=-2-j3,X(7)=10\n",
"clear;\n",
"clc ;\n",
"close ;\n",
"j=sqrt(-1);\n",
"z=1;\n",
"X(0+z)=12,X(1+z)=-1+j*3,X(2+z)=3+j*4,X(3+z)=1-j*5,X(4+z)=-2+j*2,X(5+z)=6+j*3,X(6+z)=-2-j*3,X(7+z)=10;\n",
"for a=9:1:14 do X(a)=conj(X(16-a)), end; \n",
"//Display the complete sequence X[k] in command window\n",
"disp(X,'X[k]=');"
   ]
   }
],
"metadata": {
		  "kernelspec": {
		   "display_name": "Scilab",
		   "language": "scilab",
		   "name": "scilab"
		  },
		  "language_info": {
		   "file_extension": ".sce",
		   "help_links": [
			{
			 "text": "MetaKernel Magics",
			 "url": "https://github.com/calysto/metakernel/blob/master/metakernel/magics/README.md"
			}
		   ],
		   "mimetype": "text/x-octave",
		   "name": "scilab",
		   "version": "0.7.1"
		  }
		 },
		 "nbformat": 4,
		 "nbformat_minor": 0
}
