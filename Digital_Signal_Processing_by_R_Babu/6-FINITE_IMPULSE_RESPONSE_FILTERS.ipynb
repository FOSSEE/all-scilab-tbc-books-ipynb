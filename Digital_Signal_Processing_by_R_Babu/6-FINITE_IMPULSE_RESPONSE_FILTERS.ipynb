{
"cells": [
 {
		   "cell_type": "markdown",
	   "metadata": {},
	   "source": [
       "# Chapter 6: FINITE IMPULSE RESPONSE FILTERS"
	   ]
	},
{
		   "cell_type": "markdown",
		   "metadata": {},
		   "source": [
			"## Example 6.10: Hanning_Window_Filter_Design.sce"
		   ]
		  },
  {
"cell_type": "code",
	   "execution_count": null,
	   "metadata": {
	    "collapsed": true
	   },
	   "outputs": [],
"source": [
"//Example 6.10\n",
"//Program to Plot Magnitude Responce of given L.P.F. with specifications:\n",
"//N=7,w=pi/4\n",
"//Using Hanning Window\n",
"clear;\n",
"clc ;\n",
"close ;\n",
"N=7;\n",
"alpha=3;\n",
"U=1;\n",
"h_hann=window('hn',N);\n",
"for n=0+U:1:6+U\n",
"if n==4  \n",
"hd(n)=0.25;      \n",
"else\n",
"hd(n)=(sin(%pi*(n-U-alpha)/4))/(%pi*(n-U-alpha));\n",
"end\n",
"h(n)=hd(n)*h_hann(n);\n",
"end\n",
"[hzm ,fr ]= frmag (h ,256) ;\n",
"hzm_dB = 20* log10 (hzm)./ max ( hzm );\n",
"figure\n",
"plot (2*fr , hzm_dB )\n",
"a= gca ();\n",
"xlabel ('Frequency w*pi');\n",
"ylabel ('Magnitude in dB');\n",
"title ('Frequency Response of given LPF with N=7');\n",
"xgrid (2);"
   ]
   }
,
{
		   "cell_type": "markdown",
		   "metadata": {},
		   "source": [
			"## Example 6.11: LPF_Filter_Design_using_Kaiser_Window.sce"
		   ]
		  },
  {
"cell_type": "code",
	   "execution_count": null,
	   "metadata": {
	    "collapsed": true
	   },
	   "outputs": [],
"source": [
"//Example 6.11\n",
"//Program to Plot Magnitude Responce of given L.P.F. with specifications:\n",
"//wp=20rad/sec, ws=30rad/sec, wsf=100rad/sec\n",
"//as=44.0dB, ap=0.1dB\n",
"//Using Kaiser Window\n",
"clear;\n",
"clc ;\n",
"close ;\n",
"wsf=100//rad/sec\n",
"ws=30;//rad/sec\n",
"wp=20;//rad/sec\n",
"as=44.0//dB\n",
"ap=0.1//dB\n",
"B=ws-wp;\n",
"wc=0.5*(ws+wp);\n",
"wc1=wc*2*%pi/wsf;\n",
"delta1=10^(-0.05*as);\n",
"delta2=(10^(0.05*as)-1)/(10^(0.05*as)+1);\n",
"delta=min(delta1,delta2);\n",
"alphas=-20*log10(delta);\n",
"alpha=0.5842*(alphas-21)^0.4+0.07886*(alphas-21)\n",
"D=(alphas-7.95)/14.36;\n",
"N1=wsf*D/B+1;\n",
"N=ceil(N1);\n",
"U=ceil(N/2);\n",
"win_l=window('kr',N,alpha);\n",
"for n=-floor(N/2)+U:1:floor(N/2)+U\n",
"if n==ceil(N/2); \n",
"hd(n)=0.5;      \n",
"else\n",
"hd(n)=(sin(%pi*(n-U)/2))/(%pi*(n-U));\n",
"end\n",
"h(n)=hd(n)*win_l(n);\n",
"end\n",
"[hzm ,fr ]= frmag (h ,256) ;\n",
"hzm_dB = 20* log10 (hzm)./ max ( hzm );\n",
"figure\n",
"plot (2*fr , hzm_dB )\n",
"a= gca ();\n",
"xlabel ('Frequency w*pi');\n",
"ylabel ('Magnitude in dB');\n",
"title ('Frequency Response of given LPF using Kaiser Window');\n",
"xgrid (2);\n",
"disp(h,'Filter Coefficients,h(n)=');"
   ]
   }
,
{
		   "cell_type": "markdown",
		   "metadata": {},
		   "source": [
			"## Example 6.12: BPF_Filter_Design_using_Kaiser_Window.sce"
		   ]
		  },
  {
"cell_type": "code",
	   "execution_count": null,
	   "metadata": {
	    "collapsed": true
	   },
	   "outputs": [],
"source": [
"//Example 6.12\n",
"//Program to Plot Magnitude Responce of given B.P.F. with specifications:\n",
"//wp1=40pi rad/sec, wp2=60pi rad/sec\n",
"//ws1=20pi rad/sec, ws2=80pi rad/sec\n",
"//as=30dB, ap=0.5dB\n",
"//F=100 Hz\n",
"//Using Kaiser Window\n",
"clear;\n",
"clc ;\n",
"close ;\n",
"wsf=200*%pi;//rad/sec\n",
"ws1=20*%pi;//rad/sec\n",
"ws2=80*%pi;//rad/sec\n",
"wp1=40*%pi;//rad/sec\n",
"wp2=60*%pi;//rad/sec\n",
"as=30//dB\n",
"ap=0.5//dB\n",
"B=min(wp1-ws1,ws2-wp2);\n",
"wc1=wp1-B/2;\n",
"wc2=wp2+B/2;\n",
"wc1=wc1*2*%pi/wsf;\n",
"wc2=wc2*2*%pi/wsf;\n",
"delta1=10^(-0.05*as);\n",
"delta2=(10^(0.05*as)-1)/(10^(0.05*as)+1);\n",
"delta=min(delta1,delta2);\n",
"alphas=-20*log10(delta);\n",
"alpha=0.5842*(alphas-21)^0.4+0.07886*(alphas-21)\n",
"D=(alphas-7.95)/14.36;\n",
"N1=wsf*D/B+1;\n",
"N=ceil(N1);\n",
"U=ceil(N/2);\n",
"win_l=window('kr',N,alpha);\n",
"for n=-floor(N/2)+U:1:floor(N/2)+U\n",
"if n==ceil(N/2); \n",
"hd(n)=0.4;      \n",
"else\n",
"hd(n)=(sin(0.7*%pi*(n-U))-sin(0.3*%pi*(n-U)))/(%pi*(n-U));\n",
"end\n",
"h(n)=hd(n)*win_l(n);\n",
"end\n",
"[hzm ,fr ]= frmag (h ,256) ;\n",
"hzm_dB = 20* log10 (hzm)./ max ( hzm );\n",
"figure\n",
"plot (2*fr , hzm_dB )\n",
"a= gca ();\n",
"xlabel ('Frequency w*pi');\n",
"ylabel ('Magnitude in dB');\n",
"title ('Frequency Response of given LPF using Kaiser Window');\n",
"xgrid (2);\n",
"disp(h,'Filter Coefficients,h(n)=');"
   ]
   }
,
{
		   "cell_type": "markdown",
		   "metadata": {},
		   "source": [
			"## Example 6.13_a: Digital_Differentiator_using_Rectangular_Window.sce"
		   ]
		  },
  {
"cell_type": "code",
	   "execution_count": null,
	   "metadata": {
	    "collapsed": true
	   },
	   "outputs": [],
"source": [
"//Example 6.13a\n",
"//Program to Plot Magnitude Responce of ideal differentiator with specifications:\n",
"//N=8,w=pi\n",
"//using Rectangular window\n",
"clear;\n",
"clc ;\n",
"close ;\n",
"N=8;\n",
"alpha=7/2;\n",
"U=1;\n",
"h_Rect=window('re',N);\n",
"for n=0+U:1:7+U\n",
"hd(n)=-(sin(%pi*(n-U-alpha)))/(%pi*(n-U-alpha)*(n-U-alpha));\n",
"h(n)=hd(n)*h_Rect(n);\n",
"end\n",
"[hzm ,fr ]= frmag (h ,256) ;\n",
"hzm_dB = 20* log10 (hzm)./ max ( hzm );\n",
"figure\n",
"plot (2*fr , hzm_dB )\n",
"a= gca ();\n",
"xlabel ('Frequency w*pi');\n",
"ylabel ('Magnitude in dB');\n",
"title ('Frequency Response of given ideal differentiator using Rectangular Window, N=8');\n",
"xgrid (2)"
   ]
   }
,
{
		   "cell_type": "markdown",
		   "metadata": {},
		   "source": [
			"## Example 6.13_b: Digital_Differentiator_using_Hamming_Window.sce"
		   ]
		  },
  {
"cell_type": "code",
	   "execution_count": null,
	   "metadata": {
	    "collapsed": true
	   },
	   "outputs": [],
"source": [
"//Example 6.13b\n",
"//Program to Plot Magnitude Responce of ideal differentiator with specifications:\n",
"//N=8,w=pi\n",
"//using Hamming window\n",
"clear;\n",
"clc ;\n",
"close ;\n",
"N=8;\n",
"alpha=7/2;\n",
"U=1;       //Zero Adjust\n",
"h_hamm=window('hm',N);\n",
"for n=0+U:1:7+U\n",
"hd(n)=-(sin(%pi*(n-U-alpha)))/(%pi*(n-U-alpha)*(n-U-alpha));\n",
"h(n)=hd(n)*h_hamm(n);\n",
"end\n",
"[hzm ,fr ]= frmag (h ,256) ;\n",
"hzm_dB = 20* log10 (hzm)./ max ( hzm );\n",
"figure\n",
"plot (2*fr , hzm_dB )\n",
"a= gca ();\n",
"xlabel ('Frequency w*pi');\n",
"ylabel ('Magnitude in dB');\n",
"title ('Frequency Response of given ideal differentiator using Hamming Window, N=8');\n",
"xgrid (2)"
   ]
   }
,
{
		   "cell_type": "markdown",
		   "metadata": {},
		   "source": [
			"## Example 6.14_a: Hilbert_Transformer_using_Rectangular_Window.sce"
		   ]
		  },
  {
"cell_type": "code",
	   "execution_count": null,
	   "metadata": {
	    "collapsed": true
	   },
	   "outputs": [],
"source": [
"//Example 6.14a\n",
"//Program to Plot Magnitude Responce of ideal Hilbert Transformer\n",
"//using Rectangular Window \n",
"//N=11\n",
"clear;\n",
"clc ;\n",
"close ;\n",
"N=11;\n",
"U=6;\n",
"h_Rect=window('re',N);\n",
"for n=-5+U:1:5+U\n",
"if n==6  \n",
"hd(n)=0;      \n",
"else\n",
"hd(n)=(1-cos(%pi*(n-U)))/(%pi*(n-U));\n",
"end\n",
"h(n)=hd(n)*h_Rect(n);\n",
"end\n",
"[hzm ,fr]= frmag (h,256) ;\n",
"figure\n",
"plot (2*fr ,-hzm);\n",
"a = gca ();\n",
"xlabel ('Frequency w*pi');\n",
"ylabel ('H(exp(j*w))');\n",
"title ('Frequency Response of Hilbert Transformer with N=11 using Rectangular Window');\n",
"xgrid (2);"
   ]
   }
,
{
		   "cell_type": "markdown",
		   "metadata": {},
		   "source": [
			"## Example 6.14_b: Hilbert_Transformer_using_Blackman_Window.sce"
		   ]
		  },
  {
"cell_type": "code",
	   "execution_count": null,
	   "metadata": {
	    "collapsed": true
	   },
	   "outputs": [],
"source": [
"//Example 6.14b\n",
"//Program to Plot Magnitude Responce of ideal Hilbert Transformer\n",
"//using Blackman Window \n",
"//N=11\n",
"clear;\n",
"clc ;\n",
"close ;\n",
"N=11;\n",
"U=6;\n",
"for n=-5+U:1:5+U\n",
"h_balckmann(n) = 0.42+0.5*cos(2*%pi*(n-U)/(N-1))+0.08*cos(4*%pi*(n-U)/(N-1));\n",
"if n==6  \n",
"hd(n)=0;      \n",
"else\n",
"hd(n)=(1-cos(%pi*(n-U)))/(%pi*(n-U));\n",
"end\n",
"h(n)=hd(n)*h_balckmann(n);\n",
"end\n",
"[hzm ,fr]= frmag (h,256) ;\n",
"figure\n",
"plot (2*fr ,-hzm);\n",
"a = gca ();\n",
"xlabel ('Frequency w*pi');\n",
"ylabel ('H(exp(j*w))');\n",
"title ('Frequency Response of Hilbert Transformer with N=11 using Blackman Window');\n",
"xgrid (2);"
   ]
   }
,
{
		   "cell_type": "markdown",
		   "metadata": {},
		   "source": [
			"## Example 6.15: Filter_Coefficients_obtained_by_Sampling.sce"
		   ]
		  },
  {
"cell_type": "code",
	   "execution_count": null,
	   "metadata": {
	    "collapsed": true
	   },
	   "outputs": [],
"source": [
"//Example 6.15\n",
"//Program to determine filter coefficients obtained by sampling:\n",
"//N=7,w=pi/2\n",
"clear;\n",
"clc ;\n",
"close ;\n",
"N=7;\n",
"U=1;       //Zero Adjust\n",
"for n=0+U:1:N-1+U\n",
"h(n)=(1+2*cos(2*%pi*(n-U-3)/7))/N\n",
"end\n",
"disp(h,'Filter Coefficients,h(n)=')"
   ]
   }
,
{
		   "cell_type": "markdown",
		   "metadata": {},
		   "source": [
			"## Example 6.16: Coefficients_of_Linear_phase_FIR_Filter.sce"
		   ]
		  },
  {
"cell_type": "code",
	   "execution_count": null,
	   "metadata": {
	    "collapsed": true
	   },
	   "outputs": [],
"source": [
"//Example 6.16\n",
"//Program to determine filter coefficients obtained by sampling:\n",
"//N=15\n",
"clear;\n",
"clc ;\n",
"close ;\n",
"N=15;\n",
"U=1;       //Zero Adjust\n",
"for n=0:1:N-1\n",
"h(n+U)=(1+2*cos(2*%pi*(7-n)/N)+2*cos(4*%pi*(7-n)/N)+2*cos(6*%pi*(7-n)/N))/N;\n",
"end\n",
"disp(h,'Filter Coefficients,h(n)=');"
   ]
   }
,
{
		   "cell_type": "markdown",
		   "metadata": {},
		   "source": [
			"## Example 6.17: BPF_Filter_Design_using_Sampling_Method.sce"
		   ]
		  },
  {
"cell_type": "code",
	   "execution_count": null,
	   "metadata": {
	    "collapsed": true
	   },
	   "outputs": [],
"source": [
"//Example 6.17\n",
"//Program to design bandpass filter with following specifications:\n",
"//N=7, fc1=1000Hz, fc2=3000Hz, F=8000Hz\n",
"clear;\n",
"clc ;\n",
"close ;\n",
"N=7;\n",
"U=1;       //Zero Adjust\n",
"for n=0:1:N-1\n",
"h(n+U)=2*(cos(2*%pi*(3-n)/N)+cos(4*%pi*(3-n)/N))/N;\n",
"end\n",
"disp(h,'Filter Coefficients,h(n)=');"
   ]
   }
,
{
		   "cell_type": "markdown",
		   "metadata": {},
		   "source": [
			"## Example 6.18_a: Frequency_Sampling_Method_FIR_LPF_Filter.sce"
		   ]
		  },
  {
"cell_type": "code",
	   "execution_count": null,
	   "metadata": {
	    "collapsed": true
	   },
	   "outputs": [],
"source": [
"//Example 6.18a\n",
"//Program to design L.P.F. filter with following specifications:\n",
"//N=15, wc=pi/4\n",
"clear;\n",
"clc ;\n",
"close ;\n",
"N=15;\n",
"U=1;\n",
"for n=0+U:1:N-1+U\n",
"h(n)=(1+cos(2*%pi*(7-n)/N))/N;\n",
"end\n",
"[hzm ,fr ]= frmag (h ,256) ;\n",
"hzm_dB = 20* log10 (hzm)./ max ( hzm );\n",
"figure;\n",
"plot (2*fr , hzm_dB );\n",
"a= gca ();\n",
"xlabel ('Frequency w*pi');\n",
"ylabel ('Magnitude in dB');\n",
"title ('Frequency Response of FIR LPF with N=15');\n",
"xgrid (2)"
   ]
   }
,
{
		   "cell_type": "markdown",
		   "metadata": {},
		   "source": [
			"## Example 6.18_b: Frequency_Sampling_Method_FIR_LPF_Filter.sce"
		   ]
		  },
  {
"cell_type": "code",
	   "execution_count": null,
	   "metadata": {
	    "collapsed": true
	   },
	   "outputs": [],
"source": [
"//Example 6.18b\n",
"//Program to design L.P.F. filter with following specifications:\n",
"//N=15, wc=pi/4\n",
"clear;\n",
"clc ;\n",
"close ;\n",
"N=15;\n",
"U=1;\n",
"for n=0+U:1:N-1+U\n",
"h(n)=(1+cos(2*%pi*(7-n)/N)+cos(4*%pi*(7-n)/N))/N;\n",
"end\n",
"[hzm ,fr ]= frmag (h ,256) ;\n",
"hzm_dB = 20* log10 (hzm)./ max ( hzm );\n",
"figure;\n",
"plot (2*fr , hzm_dB );\n",
"a= gca ();\n",
"xlabel ('Frequency w*pi');\n",
"ylabel ('Magnitude in dB');\n",
"title ('Frequency Response of FIR LPF with N=11');\n",
"xgrid (2)"
   ]
   }
,
{
		   "cell_type": "markdown",
		   "metadata": {},
		   "source": [
			"## Example 6.19: Filter_Coefficients_Determination.sce"
		   ]
		  },
  {
"cell_type": "code",
	   "execution_count": null,
	   "metadata": {
	    "collapsed": true
	   },
	   "outputs": [],
"source": [
"//Example 6.19\n",
"//Program to Plot Magnitude Responce of given L.P.F. with specifications:\n",
"//N=13,w=pi/6\n",
"clear;\n",
"clc ;\n",
"close ;\n",
"alpha=6;\n",
"U=1;\n",
"for n=0+U:1:12+U\n",
"if n==7  \n",
"hd(n)=0.167;      \n",
"else\n",
"hd(n)=(sin(%pi*(n-U-alpha)/6))/(%pi*(n-U-alpha));\n",
"end\n",
"end\n",
"[hzm ,fr ]= frmag (hd ,256) ;\n",
"hzm_dB = 20* log10 (hzm)./ max ( hzm );\n",
"figure\n",
"plot (2*fr , hzm_dB )\n",
"a= gca ();\n",
"xlabel ('Frequency w*pi');\n",
"ylabel ('Magnitude in dB');\n",
"title ('Frequency Response of given LPF with N=13');\n",
"xgrid (2)\n",
"disp(hd,'Filter Coefficients,h(n)=');"
   ]
   }
,
{
		   "cell_type": "markdown",
		   "metadata": {},
		   "source": [
			"## Example 6.1: Group_Delay_and_Phase_Delay.sce"
		   ]
		  },
  {
"cell_type": "code",
	   "execution_count": null,
	   "metadata": {
	    "collapsed": true
	   },
	   "outputs": [],
"source": [
"//Example 6.1\n",
"//MAXIMA SCILAB TOOLBOX REQUIRED FOR THIS PROGRAM\n",
"//Program to Calculate Group Delay and Phase Delay\n",
"//y(n)=0.25x(n)+x(n-1)+0.25x(n-2)\n",
"clear;\n",
"clc ;\n",
"close ;\n",
"//w=poly(0,'w');\n",
"syms w;\n",
"theeta=-w;\n",
"gd= -diff (theeta,w); //Group Delay\n",
"pd=-theeta/w; //Phase Delay      \n",
"disp(gd,'GROUP DELAY =');\n",
"disp(pd,'PHASE DELAY =');"
   ]
   }
,
{
		   "cell_type": "markdown",
		   "metadata": {},
		   "source": [
			"## Example 6.20: Filter_Coefficients_using_Hamming_Window.sce"
		   ]
		  },
  {
"cell_type": "code",
	   "execution_count": null,
	   "metadata": {
	    "collapsed": true
	   },
	   "outputs": [],
"source": [
"//Example 6.20\n",
"//Program to Plot Magnitude Responce of given L.P.F. with specifications:\n",
"//N=13,w=pi/6\n",
"//Using Hamming Window\n",
"clear;\n",
"clc ;\n",
"close ;\n",
"N=13;\n",
"alpha=6;\n",
"U=1;\n",
"h_hamm=window('hm',N);\n",
"for n=0+U:1:12+U\n",
"if n==7  \n",
"hd(n)=0.167;      \n",
"else\n",
"hd(n)=(sin(%pi*(n-U-alpha)/6))/(%pi*(n-U-alpha));\n",
"end\n",
"h(n)=hd(n)*h_hamm(n);\n",
"end\n",
"[hzm ,fr ]= frmag (h ,256) ;\n",
"hzm_dB = 20* log10 (hzm)./ max ( hzm );\n",
"figure\n",
"plot (2*fr , hzm_dB )\n",
"a= gca ();\n",
"xlabel ('Frequency w*pi');\n",
"ylabel ('Magnitude in dB');\n",
"title ('Frequency Response of given LPF with N=13');\n",
"xgrid (2)\n",
"disp(h,'Filter Coefficients,h(n)=');\n",
"disp(h,'Filter Coefficients,h(n)=');"
   ]
   }
,
{
		   "cell_type": "markdown",
		   "metadata": {},
		   "source": [
			"## Example 6.21: LPF_Filter_using_Rectangular_Window.sce"
		   ]
		  },
  {
"cell_type": "code",
	   "execution_count": null,
	   "metadata": {
	    "collapsed": true
	   },
	   "outputs": [],
"source": [
"//Example 6.21\n",
"//Program to Plot Magnitude Responce of given L.P.F. with specifications:\n",
"//N=7,fc=1000Hz,F=5000Hz\n",
"clear;\n",
"clc ;\n",
"close ;\n",
"N=7;\n",
"U=4;\n",
"h_Rect=window('re',N);\n",
"for n=-3+U:1:3+U\n",
"if n==4  \n",
"hd(n)=0.4;      \n",
"else\n",
"hd(n)=(sin(2*%pi*(n-U)/5))/(%pi*(n-U));\n",
"end\n",
"h(n)=hd(n)*h_Rect(n);\n",
"end\n",
"[hzm ,fr ]= frmag (h ,256) ;\n",
"hzm_dB = 20* log10 (hzm)./ max ( hzm );\n",
"figure\n",
"plot (2*fr , hzm_dB )\n",
"a= gca ();\n",
"xlabel ('Frequency w*pi');\n",
"ylabel ('Magnitude in dB');\n",
"title ('Frequency Response of FIR LPF with N=7');\n",
"xgrid (2)\n",
"disp(h,'Filter Coefficients,h(n)=');"
   ]
   }
,
{
		   "cell_type": "markdown",
		   "metadata": {},
		   "source": [
			"## Example 6.28: Filter_Coefficients_for_Direct_Form_Structure.sce"
		   ]
		  },
  {
"cell_type": "code",
	   "execution_count": null,
	   "metadata": {
	    "collapsed": true
	   },
	   "outputs": [],
"source": [
"//Example 6.28\n",
"//Program to calculate FIR Filter coefficients for the direct form structure\n",
"//k1=1/2 , k2=1/3 , k3=1/4 \n",
"clear;\n",
"clc ;\n",
"close ;\n",
"U=1;\n",
"k1=1/2;\n",
"k2=1/3;\n",
"k3=1/4;\n",
"a(3+U,0+U)=1;\n",
"a(1+U,1+U)=k1;\n",
"a(2+U,2+U)=k2;\n",
"a(3+U,3+U)=k3;\n",
"m=2,k=1;\n",
"a(m+U,k+U)=a(m-1+U,k+U)+a(m+U,m+U)*a(m-1+U,m-k+U);\n",
"m=3,k=1;\n",
"a(m+U,k+U)=a(m-1+U,k+U)+a(m+U,m+U)*a(m-1+U,m-k+U);\n",
"m=3,k=2;\n",
"a(m+U,k+U)=a(m-1+U,k+U)+a(m+U,m+U)*a(m-1+U,m-k+U);\n",
"disp(a(3+U,0+U),'a(3,0)');\n",
"disp(a(3+U,1+U),'a(3,1)');\n",
"disp(a(3+U,2+U),'a(3,2)');\n",
"disp(a(3+U,3+U),'a(3,3)');"
   ]
   }
,
{
		   "cell_type": "markdown",
		   "metadata": {},
		   "source": [
			"## Example 6.29: Lattice_Filter_Coefficients_Determination.sce"
		   ]
		  },
  {
"cell_type": "code",
	   "execution_count": null,
	   "metadata": {
	    "collapsed": true
	   },
	   "outputs": [],
"source": [
"//Example 6.29\n",
"//Program to calculate given FIR Filter's Lattice form coefficients. \n",
"clear;\n",
"clc ;\n",
"close ;\n",
"U=1;          //Zero Adjust\n",
"a(3+U,0+U)=1; \n",
"a(3+U,1+U)=2/5; \n",
"a(3+U,2+U)=3/4;\n",
"a(3+U,3+U)=1/3;\n",
"a(2+U,0+U)=1; //a(m,0)=1\n",
"a(2+U,3+U)=1/3;\n",
"m=3,k=1;\n",
"a(m-1+U,k+U)=(a(m+U,k+U)-a(m+U,m+U)*a(m+U,m-k+U))/(1-a(m+U,m+U)*a(m+U,m+U));\n",
"m=3,k=2;\n",
"a(m-1+U,k+U)=(a(m+U,k+U)-a(m+U,m+U)*a(m+U,m-k+U))/(1-a(m+U,m+U)*a(m+U,m+U));\n",
"m=2,k=1;\n",
"a(m-1+U,k+U)=(a(m+U,k+U)-a(m+U,m+U)*a(m+U,m-k+U))/(1-a(m+U,m+U)*a(m+U,m+U));\n",
"disp(a(1+U,1+U),'k1');\n",
"disp(a(2+U,2+U),'k2');\n",
"disp(a(3+U,3+U),'k3');"
   ]
   }
,
{
		   "cell_type": "markdown",
		   "metadata": {},
		   "source": [
			"## Example 6.5: LPF_Magnitude_Response.sce"
		   ]
		  },
  {
"cell_type": "code",
	   "execution_count": null,
	   "metadata": {
	    "collapsed": true
	   },
	   "outputs": [],
"source": [
"//Example 6.5\n",
"//Program to Plot Magnitude Responce of ideal L.P.F. with wc=0.5*pi\n",
"//N=11\n",
"clear;\n",
"clc ;\n",
"close ;\n",
"N=11;\n",
"U=6;\n",
"for n=-5+U:1:5+U\n",
"if n==6 \n",
"hd(n)=0.5;      \n",
"else\n",
"hd(n)=(sin(%pi*(n-U)/2))/(%pi*(n-U));\n",
"end\n",
"end\n",
"[hzm ,fr ]= frmag (hd ,256) ;\n",
"hzm_dB = 20* log10 (hzm)./ max ( hzm );\n",
"figure;\n",
"plot (2*fr , hzm_dB );\n",
"a= gca ();\n",
"xlabel ('Frequency w*pi');\n",
"ylabel ('Magnitude in dB');\n",
"title ('Frequency Response of FIR LPF with N=11');\n",
"xgrid (2);"
   ]
   }
,
{
		   "cell_type": "markdown",
		   "metadata": {},
		   "source": [
			"## Example 6.6: HPF_Magnitude_Response.sce"
		   ]
		  },
  {
"cell_type": "code",
	   "execution_count": null,
	   "metadata": {
	    "collapsed": true
	   },
	   "outputs": [],
"source": [
"//Example 6.6\n",
"//Program to Plot Magnitude Responce of ideal H.P.F. with wc=0.25*pi\n",
"//N=11\n",
"clear;\n",
"clc ;\n",
"close ;\n",
"N=11;\n",
"U=6;\n",
"for n=-5+U:1:5+U\n",
"if n==6  \n",
"hd(n)=0.5;      \n",
"else\n",
"hd(n)=(sin(%pi*(n-U))-sin(%pi*(n-U)/4))/(%pi*(n-U));\n",
"end\n",
"end\n",
"[hzm ,fr ]= frmag (hd ,256) ;\n",
"hzm_dB = 20* log10 (hzm)./ max ( hzm );\n",
"figure\n",
"plot (2*fr , hzm_dB )\n",
"a= gca ();\n",
"xlabel ('Frequency w*pi');\n",
"ylabel ('Magnitude in dB');\n",
"title ('Frequency Response of FIR HPF with N=11');\n",
"xgrid (2);"
   ]
   }
,
{
		   "cell_type": "markdown",
		   "metadata": {},
		   "source": [
			"## Example 6.7: BPF_Magnitude_Response.sce"
		   ]
		  },
  {
"cell_type": "code",
	   "execution_count": null,
	   "metadata": {
	    "collapsed": true
	   },
	   "outputs": [],
"source": [
"//Example 6.7\n",
"//Program to Plot Magnitude Responce of ideal B.P.F. with \n",
"//wc1=0.25*pi and wc2=0.75*pi\n",
"//N=11\n",
"clear;\n",
"clc ;\n",
"close ;\n",
"N=11;\n",
"U=6;\n",
"for n=-5+U:1:5+U\n",
"if n==6  \n",
"hd(n)=0.5;      \n",
"else\n",
"hd(n)=(sin(%pi*3*(n-U)/4)-sin(%pi*(n-U)/4))/(%pi*(n-U));\n",
"end\n",
"end\n",
"[hzm ,fr ]= frmag (hd ,256) ;\n",
"hzm_dB = 20* log10 (hzm)./ max ( hzm );\n",
"figure\n",
"plot (2*fr , hzm_dB )\n",
"a= gca ();\n",
"xlabel ('Frequency w*pi');\n",
"ylabel ('Magnitude in dB');\n",
"title ('Frequency Response of FIR BPF with N=11');\n",
"xgrid (2);"
   ]
   }
,
{
		   "cell_type": "markdown",
		   "metadata": {},
		   "source": [
			"## Example 6.8: BRF_Magnitude_Response.sce"
		   ]
		  },
  {
"cell_type": "code",
	   "execution_count": null,
	   "metadata": {
	    "collapsed": true
	   },
	   "outputs": [],
"source": [
"//Example 6.8\n",
"//Program to Plot Magnitude Responce of ideal B.R.F. with \n",
"//wc1=0.33*pi and wc2=0.67*pi\n",
"//N=11\n",
"clear;\n",
"clc ;\n",
"close ;\n",
"N=11;\n",
"U=6;\n",
"for n=-5+U:1:5+U\n",
"if n==6  \n",
"hd(n)=0.5;      \n",
"else\n",
"hd(n)=(sin(%pi*(n-U))+sin(%pi*(n-U)/3)-sin(%pi*2*(n-U)/3))/(%pi*(n-U));\n",
"end\n",
"end\n",
"[hzm ,fr ]= frmag (hd ,256) ;\n",
"hzm_dB = 20* log10 (hzm)./ max ( hzm );\n",
"figure\n",
"plot (2*fr , hzm_dB )\n",
"a= gca ();\n",
"xlabel ('Frequency w*pi');\n",
"ylabel ('Magnitude in dB');\n",
"title ('Frequency Response of FIR BRF with N=11');\n",
"xgrid (2);"
   ]
   }
,
{
		   "cell_type": "markdown",
		   "metadata": {},
		   "source": [
			"## Example 6.9_a: HPF_Magnitude_Response_using_Hanning_Window.sce"
		   ]
		  },
  {
"cell_type": "code",
	   "execution_count": null,
	   "metadata": {
	    "collapsed": true
	   },
	   "outputs": [],
"source": [
"//Example 6.9a\n",
"//Program to Plot Magnitude Responce of ideal H.P.F. \n",
"//using Hanning Window \n",
"//wc1=0.25*pi\n",
"//N=11\n",
"clear;\n",
"clc ;\n",
"close ;\n",
"N=11;\n",
"U=6;\n",
"h_hann=window('hn',N);\n",
"for n=-5+U:1:5+U\n",
"if n==6  \n",
"hd(n)=0.75;      \n",
"else\n",
"hd(n)=(sin(%pi*(n-U))-sin(%pi*(n-U)/4))/(%pi*(n-U));\n",
"end\n",
"h(n)=h_hann(n)*hd(n);\n",
"end\n",
"[hzm ,fr ]= frmag (h ,256) ;\n",
"hzm_dB = 20* log10 (hzm)./ max ( hzm );\n",
"figure\n",
"plot (2*fr , hzm_dB )\n",
"a= gca ();\n",
"xlabel ('Frequency w*pi');\n",
"ylabel ('Magnitude in dB');\n",
"title ('Frequency Response of FIR HRF with N=11 using Hanning Window');\n",
"xgrid (2);"
   ]
   }
,
{
		   "cell_type": "markdown",
		   "metadata": {},
		   "source": [
			"## Example 6.9_b: HPF_Magnitude_Response_using_Hamming_Window.sce"
		   ]
		  },
  {
"cell_type": "code",
	   "execution_count": null,
	   "metadata": {
	    "collapsed": true
	   },
	   "outputs": [],
"source": [
"//Example 6.9b\n",
"//Program to Plot Magnitude Responce of ideal H.P.F. \n",
"//using Hamming Window \n",
"//wc1=0.25*pi\n",
"//N=11\n",
"clear;\n",
"clc ;\n",
"close ;\n",
"N=11;\n",
"U=6;\n",
"h_hamm=window('hm',N);\n",
"for n=-5+U:1:5+U\n",
"if n==6  \n",
"hd(n)=0.75;      \n",
"else\n",
"hd(n)=(sin(%pi*(n-U))-sin(%pi*(n-U)/4))/(%pi*(n-U));\n",
"end\n",
"h(n)=h_hamm(n)*hd(n);\n",
"end\n",
"[hzm ,fr ]= frmag (h ,256) ;\n",
"hzm_dB = 20* log10 (hzm)./ max ( hzm );\n",
"figure\n",
"plot (2*fr , hzm_dB )\n",
"a= gca ();\n",
"xlabel ('Frequency w*pi');\n",
"ylabel ('Magnitude in dB');\n",
"title ('Frequency Response of FIR HRF with N=11 using Hamming Window');\n",
"xgrid (2);"
   ]
   }
],
"metadata": {
		  "kernelspec": {
		   "display_name": "Scilab",
		   "language": "scilab",
		   "name": "scilab"
		  },
		  "language_info": {
		   "file_extension": ".sce",
		   "help_links": [
			{
			 "text": "MetaKernel Magics",
			 "url": "https://github.com/calysto/metakernel/blob/master/metakernel/magics/README.md"
			}
		   ],
		   "mimetype": "text/x-octave",
		   "name": "scilab",
		   "version": "0.7.1"
		  }
		 },
		 "nbformat": 4,
		 "nbformat_minor": 0
}
