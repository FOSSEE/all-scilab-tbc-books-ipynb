{
"cells": [
 {
		   "cell_type": "markdown",
	   "metadata": {},
	   "source": [
       "# Chapter 8: MULTIRATE SIGNAL PROCESSING"
	   ]
	},
{
		   "cell_type": "markdown",
		   "metadata": {},
		   "source": [
			"## Example 8.10: Two_Band_Polyphase_Decomposition.sce"
		   ]
		  },
  {
"cell_type": "code",
	   "execution_count": null,
	   "metadata": {
	    "collapsed": true
	   },
	   "outputs": [],
"source": [
"//Example 8.10\n",
"//Develop a two band polyphase decomposition for the transfer function\n",
"//H(z)=z^2+z+2/z^2+0.8z+0.6\n",
"clear;\n",
"clc ;\n",
"close ;\n",
"z=%z;\n",
"HZ=(z^2+z+2)/(z^2+0.8*z+0.6);\n",
"HZa=horner(HZ,-z);\n",
"P0=0.5*(HZ+HZa);\n",
"P1=0.5*(HZ-HZa);\n",
"disp(P1/z,'+',P0,'H(z) =')"
   ]
   }
,
{
		   "cell_type": "markdown",
		   "metadata": {},
		   "source": [
			"## Example 8.9: Two_Component_Decomposition.sce"
		   ]
		  },
  {
"cell_type": "code",
	   "execution_count": null,
	   "metadata": {
	    "collapsed": true
	   },
	   "outputs": [],
"source": [
"//Example 8.9\n",
"//MAXIMA SCILAB TOOLBOX REQUIRED FOR THIS PROGRAM\n",
"//Develop a two component decomposition for the transfer function \n",
"//and determine P0(z) and P1(z)\n",
"clear;\n",
"clc ;\n",
"close ;\n",
"syms z a n;\n",
"HZ=(z)/(z-a);\n",
"hn=a^n;//Inverse Z Transform of HZ\n",
"h2n=a^(2*n);\n",
"P0=symsum(h2n*z^(-n),n,0,%inf);\n",
"h2n1=a^(2*n+1);\n",
"P1=symsum(h2n1*z^(-n),n,0,%inf);\n",
"disp(P0,'P0(Z) = ');\n",
"disp(P1,'P1(Z) = ');"
   ]
   }
],
"metadata": {
		  "kernelspec": {
		   "display_name": "Scilab",
		   "language": "scilab",
		   "name": "scilab"
		  },
		  "language_info": {
		   "file_extension": ".sce",
		   "help_links": [
			{
			 "text": "MetaKernel Magics",
			 "url": "https://github.com/calysto/metakernel/blob/master/metakernel/magics/README.md"
			}
		   ],
		   "mimetype": "text/x-octave",
		   "name": "scilab",
		   "version": "0.7.1"
		  }
		 },
		 "nbformat": 4,
		 "nbformat_minor": 0
}
