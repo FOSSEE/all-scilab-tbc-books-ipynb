{
"cells": [
 {
		   "cell_type": "markdown",
	   "metadata": {},
	   "source": [
       "# Chapter 1: DISCRETE TIME SIGNALS AND LINEAR SYSTEMS"
	   ]
	},
{
		   "cell_type": "markdown",
		   "metadata": {},
		   "source": [
			"## Example 1.11: Stability_of_the_System.sce"
		   ]
		  },
  {
"cell_type": "code",
	   "execution_count": null,
	   "metadata": {
	    "collapsed": true
	   },
	   "outputs": [],
"source": [
"//Example 1.11\n",
"//MAXIMA SCILAB TOOLBOX REQUIRED FOR THIS PROGRAM\n",
"//Testing Stability of Given System\n",
"clear;\n",
"clc ;\n",
"close ;\n",
"syms n;\n",
"x =(1/2)^n\n",
"X= symsum (x,n ,0, %inf );\n",
"//Display the result in command window\n",
"disp (X,'Summation is :');\n",
"disp('Hence Summation < infinity. Given System is Stable');"
   ]
   }
,
{
		   "cell_type": "markdown",
		   "metadata": {},
		   "source": [
			"## Example 1.12: Convolution_Sum_of_Two_Sequences.sce"
		   ]
		  },
  {
"cell_type": "code",
	   "execution_count": null,
	   "metadata": {
	    "collapsed": true
	   },
	   "outputs": [],
"source": [
"//Example 1.12\n",
"//Program to Compute convolution of given sequences\n",
"//x(n)=[3 2 1 2], h(n)=[1 2 1 2];\n",
"clear;\n",
"clc ;\n",
"close ;\n",
"x=[3 2 1 2];\n",
"h=[1 2 1 2];\n",
"y=convol(x,h);\n",
"disp(y);"
   ]
   }
,
{
		   "cell_type": "markdown",
		   "metadata": {},
		   "source": [
			"## Example 1.13: Convolution_of_Two_Signals.sce"
		   ]
		  },
  {
"cell_type": "code",
	   "execution_count": null,
	   "metadata": {
	    "collapsed": true
	   },
	   "outputs": [],
"source": [
"//Example 1.13\n",
"//Program to Compute convolution of given sequences\n",
"//x(n)=[1 2 1 1], h(n)=[1 -1 1 -1];\n",
"clear;\n",
"clc ;\n",
"close ;\n",
"x=[1 2 1 1];\n",
"h=[1 -1 1 -1];\n",
"y=convol(x,h);\n",
"disp(round(y));"
   ]
   }
,
{
		   "cell_type": "markdown",
		   "metadata": {},
		   "source": [
			"## Example 1.18: Cross_Correlation_of_Two_Sequences.sce"
		   ]
		  },
  {
"cell_type": "code",
	   "execution_count": null,
	   "metadata": {
	    "collapsed": true
	   },
	   "outputs": [],
"source": [
"//Example 1.18\n",
"//Program to Compute Cross-correlation  of given sequences\n",
"//x(n)=[1 2 1 1], h(n)=[1 1 2 1];\n",
"clear;\n",
"clc ;\n",
"close ;\n",
"x=[1 2 1 1];\n",
"h=[1 1 2 1];\n",
"h1=[1 2 1 1];\n",
"y=convol(x,h1);\n",
"disp(round(y));"
   ]
   }
,
{
		   "cell_type": "markdown",
		   "metadata": {},
		   "source": [
			"## Example 1.19: Determination_of_Input_Sequence.sce"
		   ]
		  },
  {
"cell_type": "code",
	   "execution_count": null,
	   "metadata": {
	    "collapsed": true
	   },
	   "outputs": [],
"source": [
"//Example 1.19\n",
"//To find input x(n)\n",
"//h(n)=[1 2 1], y(n)=[1 5 10 11 8 4 1]\n",
"clear;\n",
"clc ;\n",
"close ;\n",
"z=%z;\n",
"a=z^6+5*(z^(5))+10*(z^(4))+11*(z^(3))+8*(z^(2))+4*(z^(1))+1;\n",
"b=z^6+2*z^(5)+1*z^(4);\n",
"x =ldiv(a,b,5);\n",
"disp (x,'x(n)=');"
   ]
   }
,
{
		   "cell_type": "markdown",
		   "metadata": {},
		   "source": [
			"## Example 1.1: Continuous_Time_Plot_and_Discrete_Time_Plot.sce"
		   ]
		  },
  {
"cell_type": "code",
	   "execution_count": null,
	   "metadata": {
	    "collapsed": true
	   },
	   "outputs": [],
"source": [
"//Example 1.1\n",
"//Sketch the continuous time signal x(t)=2*exp(-2t) and also its discrete time equivalent signal with a sampling period T = 0.2sec\n",
"clear;\n",
"clc ;\n",
"close ;\n",
"t=0:0.01:2;\n",
"x1=2*exp(-2*t);\n",
"subplot(1,2,1);\n",
"plot(t,x1);\n",
"xlabel('t');\n",
"ylabel('x(t)');\n",
"title('CONTINUOUS TIME PLOT');\n",
"n=0:0.2:2;\n",
"x2=2*exp(-2*n);\n",
"subplot(1,2,2);\n",
"plot2d3(n,x2);\n",
"xlabel('n');\n",
"ylabel('x(n)');\n",
"title('DISCRETE TIME PLOT');"
   ]
   }
,
{
		   "cell_type": "markdown",
		   "metadata": {},
		   "source": [
			"## Example 1.2: Continuous_Time_Plot_and_Discrete_Time_Plot.sce"
		   ]
		  },
  {
"cell_type": "code",
	   "execution_count": null,
	   "metadata": {
	    "collapsed": true
	   },
	   "outputs": [],
"source": [
"//Example 1.2\n",
"//Sketch the continuous time signal x=sin(7*t)+sin(10*t) and also its discrete time equivalent signal with a sampling period T = 0.2sec\n",
"clear;\n",
"clc ;\n",
"close ;\n",
"t=0:0.01:2;\n",
"x1=sin(7*t)+sin(10*t);\n",
"subplot(1,2,1);\n",
"plot(t,x1);\n",
"xlabel('t');\n",
"ylabel('x(t)');\n",
"title('CONTINUOUS TIME PLOT');\n",
"n=0:0.2:2;\n",
"x2=sin(7*n)+sin(10*n);\n",
"subplot(1,2,2);\n",
"plot2d3(n,x2);\n",
"xlabel('n');\n",
"ylabel('x(n)');\n",
"title('DISCRETE TIME PLOT');"
   ]
   }
,
{
		   "cell_type": "markdown",
		   "metadata": {},
		   "source": [
			"## Example 1.32_a: Plot_Magnitude_and_Phase_Response.sce"
		   ]
		  },
  {
"cell_type": "code",
	   "execution_count": null,
	   "metadata": {
	    "collapsed": true
	   },
	   "outputs": [],
"source": [
"//Example 1.32\n",
"//Program to Plot Magnitude and Phase Responce\n",
"clear;\n",
"clc ;\n",
"close ;\n",
"w=-%pi:0.01:%pi;\n",
"H=1+2*cos(w)+2*cos(2*w);\n",
"//caluculation of Phase and Magnitude of H\n",
"[phase_H,m]=phasemag(H);\n",
"Hm=abs(H);\n",
"a=gca();\n",
"subplot(2,1,1);\n",
"a.y_location='origin';\n",
"plot2d(w/%pi,Hm);\n",
"xlabel('Frequency in Radians')\n",
"ylabel('abs(Hm)');\n",
"title('MAGNITUDE RESPONSE');\n",
"subplot(2,1,2);\n",
"a=gca();\n",
"a.x_location='origin';\n",
"a.y_location='origin';\n",
"plot2d(w/(2*%pi),phase_H);\n",
"xlabel('Frequency in Radians');\n",
"ylabel('<(H)');\n",
"title('PHASE RESPONSE');"
   ]
   }
,
{
		   "cell_type": "markdown",
		   "metadata": {},
		   "source": [
			"## Example 1.37: Sketch_Magnitude_and_Phase_Response.sce"
		   ]
		  },
  {
"cell_type": "code",
	   "execution_count": null,
	   "metadata": {
	    "collapsed": true
	   },
	   "outputs": [],
"source": [
"//Example 1.37\n",
"//Program to Plot Magnitude and Phase Responce\n",
"//y(n)=1/2[x(n)+x(n-2)]\n",
"clear;\n",
"clc ;\n",
"close ;\n",
"w=0:0.01:%pi;\n",
"H=(1+cos(2*w)-%i*sin(2*w))/2;\n",
"//caluculation of Phase and Magnitude of H\n",
"[phase_H,m]=phasemag(H);\n",
"Hm=abs(H);\n",
"a=gca();\n",
"subplot(2,1,1);\n",
"a.y_location='origin';\n",
"plot2d(w/%pi,Hm);\n",
"xlabel('Frequency in Radians')\n",
"ylabel('abs(Hm)');\n",
"title('MAGNITUDE RESPONSE');\n",
"subplot(2,1,2);\n",
"a=gca();\n",
"a.x_location='origin';\n",
"a.y_location='origin';\n",
"plot2d(w/(2*%pi),phase_H);\n",
"xlabel('Frequency in Radians');\n",
"ylabel('<(H)');\n",
"title('PHASE RESPONSE');"
   ]
   }
,
{
		   "cell_type": "markdown",
		   "metadata": {},
		   "source": [
			"## Example 1.38: Plot_Magnitude_and_Phase_Response.sce"
		   ]
		  },
  {
"cell_type": "code",
	   "execution_count": null,
	   "metadata": {
	    "collapsed": true
	   },
	   "outputs": [],
"source": [
"//Example 1.38\n",
"//Program to Plot Magnitude and Phase Responce\n",
"//0.5delta(n)+delta(n-1)+0.5delta(n-2)\n",
"clear;\n",
"clc ;\n",
"close ;\n",
"w=-%pi:0.01:%pi;\n",
"H=0.5+exp(-%i*w)+0.5*exp(-%i*w);\n",
"//caluculation of Phase and Magnitude of H\n",
"[phase_H,m]=phasemag(H);\n",
"Hm=abs(H);\n",
"a=gca();\n",
"subplot(2,1,1);\n",
"a.y_location='origin';\n",
"plot2d(w/%pi,Hm);\n",
"xlabel('Frequency in Radians')\n",
"ylabel('abs(Hm)');\n",
"title('MAGNITUDE RESPONSE');\n",
"subplot(2,1,2);\n",
"a=gca();\n",
"a.x_location='origin';\n",
"a.y_location='origin';\n",
"plot2d(w/(2*%pi),phase_H);\n",
"xlabel('Frequency in Radians');\n",
"ylabel('<(H)');\n",
"title('PHASE RESPONSE');"
   ]
   }
,
{
		   "cell_type": "markdown",
		   "metadata": {},
		   "source": [
			"## Example 1.3_a: Evaluate_the_Summations.sce"
		   ]
		  },
  {
"cell_type": "code",
	   "execution_count": null,
	   "metadata": {
	    "collapsed": true
	   },
	   "outputs": [],
"source": [
"//Example 1.3 (a)\n",
"//MAXIMA SCILAB TOOLBOX REQUIRED FOR THIS PROGRAM\n",
"//Calculate Following Summations \n",
"clear;\n",
"clc ;\n",
"close ;\n",
"syms n;\n",
"X= symsum (sin(2*n),n ,2, 2);\n",
"//Display the result in command window\n",
"disp (X,'The Value of summation comes out to be:');"
   ]
   }
,
{
		   "cell_type": "markdown",
		   "metadata": {},
		   "source": [
			"## Example 1.3_b: Evaluate_the_Summations.sce"
		   ]
		  },
  {
"cell_type": "code",
	   "execution_count": null,
	   "metadata": {
	    "collapsed": true
	   },
	   "outputs": [],
"source": [
"//Example 1.3 (b)\n",
"//MAXIMA SCILAB TOOLBOX REQUIRED FOR THIS PROGRAM\n",
"//Calculate Following Summations \n",
"clear;\n",
"clc ;\n",
"close ;\n",
"syms n;\n",
"X= symsum (%e^(2*n),n ,0, 0);\n",
"//Display the result in command window\n",
"disp (X,'The Value of summation comes out to be:');"
   ]
   }
,
{
		   "cell_type": "markdown",
		   "metadata": {},
		   "source": [
			"## Example 1.45: Filter_to_Eliminate_High_Frequency_Component.sce"
		   ]
		  },
  {
"cell_type": "code",
	   "execution_count": null,
	   "metadata": {
	    "collapsed": true
	   },
	   "outputs": [],
"source": [
"//Example 1.45\n",
"// \n",
"clear;\n",
"clc ;\n",
"close ;\n",
"t=0:0.01:10;\n",
"x=2*cos(5*t)+cos(300*t);\n",
"x1=2*cos(5*t);\n",
"b=[0.05 0.05];\n",
"a=[1 -0.9];\n",
"y=filter(b,a,x);\n",
"subplot(2,1,1);\n",
"plot(t,x);\n",
"xlabel('Time in Sec');\n",
"ylabel('Amplitude');\n",
"subplot(2,1,2);\n",
"plot(t,y);\n",
"subplot(2,1,2);\n",
"plot(t,x1,':');\n",
"title('x:SIGNAL WITHOUT NOISE  y:SIGNAL WITH NOISE');\n",
"xlabel('Time in Sec');\n",
"ylabel('Amplitude');"
   ]
   }
,
{
		   "cell_type": "markdown",
		   "metadata": {},
		   "source": [
			"## Example 1.4_a: Check_for_Energy_or_Power_Signals.sce"
		   ]
		  },
  {
"cell_type": "code",
	   "execution_count": null,
	   "metadata": {
	    "collapsed": true
	   },
	   "outputs": [],
"source": [
"//Example 1.4 (a)\n",
"//MAXIMA SCILAB TOOLBOX REQUIRED FOR THIS PROGRAM\n",
"//Find Energy and Power of Given Signals \n",
"clear;\n",
"clc ;\n",
"close ;\n",
"syms n N;\n",
"x=(1/3)^n;\n",
"E= symsum (x^2,n ,0, %inf);\n",
"//Display the result in command window\n",
"disp (E,'Energy:');\n",
"p=(1/(2*N+1))*symsum (x^2,n ,0, N);\n",
"P=limit(p,N,%inf);\n",
"disp (P,'Power:');\n",
"//The Energy is Finite and Power is 0. Therefore the given signal is an Energy Signal"
   ]
   }
,
{
		   "cell_type": "markdown",
		   "metadata": {},
		   "source": [
			"## Example 1.4_d: Check_for_Energy_or_Power_Signals.sce"
		   ]
		  },
  {
"cell_type": "code",
	   "execution_count": null,
	   "metadata": {
	    "collapsed": true
	   },
	   "outputs": [],
"source": [
"//Example 1.4 (d)\n",
"//MAXIMA SCILAB TOOLBOX REQUIRED FOR THIS PROGRAM\n",
"//Find Energy and Power of Given Signals \n",
"clear;\n",
"clc ;\n",
"close ;\n",
"syms n N;\n",
"x=%e^(2*n);\n",
"E= symsum (x^2,n ,0, %inf);\n",
"//Display the result in command window\n",
"disp (E,'Energy:');\n",
"p=(1/(2*N+1))*symsum (x^2,n ,0, N);\n",
"P=limit(p,N,%inf);\n",
"disp (P,'Power:');\n",
"//The Energy andPower is infinite. Therefore the given signal is an neither Energy Signal nor Power Signal"
   ]
   }
,
{
		   "cell_type": "markdown",
		   "metadata": {},
		   "source": [
			"## Example 1.57_a: Discrete_Convolution_of_Sequences.sce"
		   ]
		  },
  {
"cell_type": "code",
	   "execution_count": null,
	   "metadata": {
	    "collapsed": true
	   },
	   "outputs": [],
"source": [
"//Example 1.57 (a)\n",
"//Program to Compute discrete convolution of given sequences\n",
"//x(n)=[1 2 -1 1], h(n)=[1 0 1 1];\n",
"clear;\n",
"clc ;\n",
"close ;\n",
"x=[1 2 -1 1];\n",
"h=[1 0 1 1];\n",
"y=convol(x,h);\n",
"disp(round(y));"
   ]
   }
,
{
		   "cell_type": "markdown",
		   "metadata": {},
		   "source": [
			"## Example 1.5_a: Determining_Periodicity_of_Signal.sce"
		   ]
		  },
  {
"cell_type": "code",
	   "execution_count": null,
	   "metadata": {
	    "collapsed": true
	   },
	   "outputs": [],
"source": [
"//Example 1.5 (a)\n",
"//To Determine Whether Given Signal is Periodic or not\n",
"clear;\n",
"clc ;\n",
"close ;\n",
"t=0:0.01:2;\n",
"x1=exp(%i*6*%pi*t);\n",
"subplot(1,2,1);\n",
"plot(t,x1);\n",
"xlabel('t');\n",
"ylabel('x(t)');\n",
"title('CONTINUOUS TIME PLOT');\n",
"n=0:0.2:2;\n",
"x2=exp(%i*6*%pi*n);\n",
"subplot(1,2,2);\n",
"plot2d3(n,x2);\n",
"xlabel('n');\n",
"ylabel('x(n)');\n",
"title('DISCRETE TIME PLOT');\n",
"//Hence Given Signal is Periodic with N=1"
   ]
   }
,
{
		   "cell_type": "markdown",
		   "metadata": {},
		   "source": [
			"## Example 1.5_c: Determining_Periodicity_of_Signal.sce"
		   ]
		  },
  {
"cell_type": "code",
	   "execution_count": null,
	   "metadata": {
	    "collapsed": true
	   },
	   "outputs": [],
"source": [
"//Example 1.5 (c)\n",
"//To Determine Whether Given Signal is Periodic or not\n",
"clear;\n",
"clc ;\n",
"close ;\n",
"t=0:0.01:10;\n",
"x1=cos(2*%pi*t/3);\n",
"subplot(1,2,1);\n",
"plot(t,x1);\n",
"xlabel('t');\n",
"ylabel('x(t)');\n",
"title('CONTINUOUS TIME PLOT');\n",
"n=0:0.2:10;\n",
"x2=cos(2*%pi*n/3);\n",
"subplot(1,2,2);\n",
"plot2d3(n,x2);\n",
"xlabel('n');\n",
"ylabel('x(n)');\n",
"title('DISCRETE TIME PLOT');\n",
"//Hence Given Signal is Periodic with N=3"
   ]
   }
,
{
		   "cell_type": "markdown",
		   "metadata": {},
		   "source": [
			"## Example 1.5_d: Determining_Periodicity_of_Signal.sce"
		   ]
		  },
  {
"cell_type": "code",
	   "execution_count": null,
	   "metadata": {
	    "collapsed": true
	   },
	   "outputs": [],
"source": [
"//Example 1.5 (d)\n",
"//To Determine Whether Given Signal is Periodic or not\n",
"clear;\n",
"clc ;\n",
"close ;\n",
"t=0:0.01:50;\n",
"x1=cos(%pi*t/3)+cos(3*%pi*t/4);\n",
"subplot(1,2,1);\n",
"plot(t,x1);\n",
"xlabel('t');\n",
"ylabel('x(t)');\n",
"title('CONTINUOUS TIME PLOT');\n",
"n=0:0.2:50;\n",
"x2=cos(%pi*n/3)+cos(3*%pi*n/4);\n",
"subplot(1,2,2);\n",
"plot2d3(n,x2);\n",
"xlabel('n');\n",
"ylabel('x(n)');\n",
"title('DISCRETE TIME PLOT');\n",
"//Hence Given Signal is Periodic with N=24"
   ]
   }
,
{
		   "cell_type": "markdown",
		   "metadata": {},
		   "source": [
			"## Example 1.61: Fourier_Transform.sce"
		   ]
		  },
  {
"cell_type": "code",
	   "execution_count": null,
	   "metadata": {
	    "collapsed": true
	   },
	   "outputs": [],
"source": [
"//Example 1.61\n",
"//MAXIMA SCILAB TOOLBOX REQUIRED FOR THIS PROGRAM\n",
"//Fourier transform of (3)^n u(n) \n",
"clear;\n",
"clc ;\n",
"close ;\n",
"syms n;\n",
"x =(3) ^n;\n",
"X= symsum (x,n ,0, %inf )\n",
"//Display the result in command window\n",
"disp (X,'The Fourier Transform does not exit as x(n) is not absolutely summable and approaches infinity i.e.');"
   ]
   }
,
{
		   "cell_type": "markdown",
		   "metadata": {},
		   "source": [
			"## Example 1.62: Fourier_Transform.sce"
		   ]
		  },
  {
"cell_type": "code",
	   "execution_count": null,
	   "metadata": {
	    "collapsed": true
	   },
	   "outputs": [],
"source": [
"//Example 1.62\n",
"//MAXIMA SCILAB TOOLBOX REQUIRED FOR THIS PROGRAM\n",
"//Fourier transform of (0.8)^|n| u(n) \n",
"clear;\n",
"clc ;\n",
"close ;\n",
"syms w n;\n",
"X= symsum ((0.8)^n*%e^(%i*w*n),n ,1, %inf )+symsum ((0.8)^n*%e^(-%i*w*n),n ,0, %inf )\n",
"//Display the result in command window\n",
"disp (X,'The Fourier Transform comes out to be:');"
   ]
   }
,
{
		   "cell_type": "markdown",
		   "metadata": {},
		   "source": [
			"## Example 1.64_a: Frequency_Response_of_LTI_System.sce"
		   ]
		  },
  {
"cell_type": "code",
	   "execution_count": null,
	   "metadata": {
	    "collapsed": true
	   },
	   "outputs": [],
"source": [
"//Example 1.64 (a)\n",
"//Program to Calculate Plot Magnitude and Phase Responce\n",
"clear;\n",
"clc ;\n",
"close ;\n",
"w=0:0.01:%pi;\n",
"H=1/(1-0.5*%e^(-%i*w));\n",
"//caluculation of Phase and Magnitude of H\n",
"[phase_H,m]=phasemag(H);\n",
"Hm=abs(H);\n",
"a=gca();\n",
"subplot(2,1,1);\n",
"a.y_location='origin';\n",
"plot2d(w/%pi,Hm);\n",
"xlabel('Frequency in Radians')\n",
"ylabel('abs(Hm)');\n",
"title('MAGNITUDE RESPONSE');\n",
"subplot(2,1,2);\n",
"a=gca();\n",
"a.x_location='origin';\n",
"a.y_location='origin';\n",
"plot2d(w/(2*%pi),phase_H);\n",
"xlabel('Frequency in Radians');\n",
"ylabel('<(H)');\n",
"title('PHASE RESPONSE');"
   ]
   }
,
{
		   "cell_type": "markdown",
		   "metadata": {},
		   "source": [
			"## Example 1.64_c: Frequency_Response_of_LTI_System.sce"
		   ]
		  },
  {
"cell_type": "code",
	   "execution_count": null,
	   "metadata": {
	    "collapsed": true
	   },
	   "outputs": [],
"source": [
"//Example 1.64 (c)\n",
"//Program to Calculate Plot Magnitude and Phase Responce\n",
"clear;\n",
"clc ;\n",
"close ;\n",
"w=0:0.01:%pi;\n",
"H=1/(1-0.9*%i*%e^(-%i*w));\n",
"//caluculation of Phase and Magnitude of H\n",
"[phase_H,m]=phasemag(H);\n",
"Hm=abs(H);\n",
"a=gca();\n",
"subplot(2,1,1);\n",
"a.y_location='origin';\n",
"plot2d(w/%pi,Hm);\n",
"xlabel('Frequency in Radians')\n",
"ylabel('abs(Hm)');\n",
"title('MAGNITUDE RESPONSE');\n",
"subplot(2,1,2);\n",
"a=gca();\n",
"a.x_location='origin';\n",
"a.y_location='origin';\n",
"plot2d(w/(2*%pi),phase_H);\n",
"xlabel('Frequency in Radians');\n",
"ylabel('<(H)');\n",
"title('PHASE RESPONSE');"
   ]
   }
],
"metadata": {
		  "kernelspec": {
		   "display_name": "Scilab",
		   "language": "scilab",
		   "name": "scilab"
		  },
		  "language_info": {
		   "file_extension": ".sce",
		   "help_links": [
			{
			 "text": "MetaKernel Magics",
			 "url": "https://github.com/calysto/metakernel/blob/master/metakernel/magics/README.md"
			}
		   ],
		   "mimetype": "text/x-octave",
		   "name": "scilab",
		   "version": "0.7.1"
		  }
		 },
		 "nbformat": 4,
		 "nbformat_minor": 0
}
