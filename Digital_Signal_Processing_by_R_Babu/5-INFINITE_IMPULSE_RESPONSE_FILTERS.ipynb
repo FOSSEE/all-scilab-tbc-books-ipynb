{
"cells": [
 {
		   "cell_type": "markdown",
	   "metadata": {},
	   "source": [
       "# Chapter 5: INFINITE IMPULSE RESPONSE FILTERS"
	   ]
	},
{
		   "cell_type": "markdown",
		   "metadata": {},
		   "source": [
			"## Example 5.10: HPF_Filter_Design_with_given_Specifications.sce"
		   ]
		  },
  {
"cell_type": "code",
	   "execution_count": null,
	   "metadata": {
	    "collapsed": true
	   },
	   "outputs": [],
"source": [
"//Example 5.10\n",
"//To Design a H.P.F. with given specifications\n",
"clear;\n",
"clc ;\n",
"close ;\n",
"ap=3;//db\n",
"as=15;//db\n",
"op=500;//rad/sec\n",
"os=1000;//rad/sec\n",
"N=log(sqrt((10^(0.1*as)-1)/(10^(0.1*ap)-1)))/log(os/op);\n",
"disp(ceil(N),'Order of the filter, N =');\n",
"s=%s;\n",
"HS=1/((s+1)*(s^2+s+1));//Transfer Function for N=3\n",
"oc=1000//rad/sec\n",
"HS1=horner(HS,oc/s);\n",
"disp(HS1,'Normalized Transfer Function, H(s) =');"
   ]
   }
,
{
		   "cell_type": "markdown",
		   "metadata": {},
		   "source": [
			"## Example 5.11: Impulse_Invariant_Method_Filter_Design.sce"
		   ]
		  },
  {
"cell_type": "code",
	   "execution_count": null,
	   "metadata": {
	    "collapsed": true
	   },
	   "outputs": [],
"source": [
"//Example 5.11\n",
"//To Design the Filter using Impulse Invarient Method\n",
"clear;\n",
"clc ;\n",
"close ;\n",
"s=%s;\n",
"T=1;\n",
"HS=(2)/(s^2+3*s+2);\n",
"elts=pfss(HS);\n",
"disp(elts,'Factorized HS = ');\n",
"//The poles comes out to be at -2 and -1\n",
"p1=-2;\n",
"p2=-1;\n",
"z=%z;\n",
"HZ=(2/(1-%e^(p2*T)*z^(-1)))-(2/(1-%e^(p1*T)*z^(-1)))\n",
"disp(HZ,'HZ = ');"
   ]
   }
,
{
		   "cell_type": "markdown",
		   "metadata": {},
		   "source": [
			"## Example 5.12: Impulse_Invariant_Method_Filter_Design.sce"
		   ]
		  },
  {
"cell_type": "code",
	   "execution_count": null,
	   "metadata": {
	    "collapsed": true
	   },
	   "outputs": [],
"source": [
"//Example 5.12\n",
"//MAXIMA SCILAB TOOLBOX REQUIRED FOR THIS PROGRAM\n",
"//To Design the Filter using Impulse Invarient Method\n",
"clear;\n",
"clc ;\n",
"close ;\n",
"s=%s;\n",
"HS=1/(s^2+sqrt(2)*s+1);\n",
"pp=ilaplace(HS);\n",
"syms n z;\n",
"t=1;\n",
"X= symsum (pp*(z^(-n)),n ,0, %inf );\n",
"disp(X,'Factorized HS = ');"
   ]
   }
,
{
		   "cell_type": "markdown",
		   "metadata": {},
		   "source": [
			"## Example 5.13: Impulse_Invariant_Method_Filter_Design.sce"
		   ]
		  },
  {
"cell_type": "code",
	   "execution_count": null,
	   "metadata": {
	    "collapsed": true
	   },
	   "outputs": [],
"source": [
"//Example 5.13\n",
"//MAXIMA SCILAB TOOLBOX REQUIRED FOR THIS PROGRAM\n",
"//To Design the 3rd Order Butterworth Filter using Impulse Invarient Method\n",
"clear;\n",
"clc ;\n",
"close ;\n",
"s=%s;\n",
"HS=1/((s+1)*(s^2+s+1));\n",
"pp=ilaplace(HS);//Inverse Laplace\n",
"syms n z;\n",
"t=1;\n",
"X= symsum (pp*(z^(-n)),n ,0, %inf );//Z Transform\n",
"disp(X,'H(z)= ');"
   ]
   }
,
{
		   "cell_type": "markdown",
		   "metadata": {},
		   "source": [
			"## Example 5.15: Impulse_Invariant_Method_Filter_Design.sce"
		   ]
		  },
  {
"cell_type": "code",
	   "execution_count": null,
	   "metadata": {
	    "collapsed": true
	   },
	   "outputs": [],
"source": [
"//Example 5.15\n",
"//To Design the Filter using Impulse Invarient Method\n",
"clear;\n",
"clc ;\n",
"close ;\n",
"s=%s;\n",
"T=0.2;\n",
"HS=10/(s^2+7*s+10);\n",
"elts=pfss(HS);\n",
"disp(elts,'Factorized HS = ');\n",
"//The poles comes out to be at -5 and -2\n",
"p1=-5;\n",
"p2=-2;\n",
"z=%z;\n",
"HZ=T*((-3.33/(1-%e^(p1*T)*z^(-1)))+(3.33/(1-%e^(p2*T)*z^(-1))))\n",
"disp(HZ,'HZ = ');"
   ]
   }
,
{
		   "cell_type": "markdown",
		   "metadata": {},
		   "source": [
			"## Example 5.16: Bilinear_Transformation_Method_Filter_Design.sce"
		   ]
		  },
  {
"cell_type": "code",
	   "execution_count": null,
	   "metadata": {
	    "collapsed": true
	   },
	   "outputs": [],
"source": [
"//Example 5.16\n",
"//To Find out Bilinear Transformation of HS=2/((s+1)*(s+2))\n",
"clear;\n",
"clc ;\n",
"close ;\n",
"s=%s;\n",
"z=%z;\n",
"HS=2/((s+1)*(s+2));\n",
"T=1;\n",
"HZ=horner(HS,(2/T)*(z-1)/(z+1));\n",
"disp(HZ,'H(z) =');"
   ]
   }
,
{
		   "cell_type": "markdown",
		   "metadata": {},
		   "source": [
			"## Example 5.17: HPF_Design_using_Bilinear_Transform.sce"
		   ]
		  },
  {
"cell_type": "code",
	   "execution_count": null,
	   "metadata": {
	    "collapsed": true
	   },
	   "outputs": [],
"source": [
"//Example 5.17\n",
"//To Design an H.P.F. monotonic in passband using Bilinear Transform\n",
"clear;\n",
"clc ;\n",
"close ;\n",
"ap=3;//db\n",
"as=10;//db\n",
"fp=1000;//Hz\n",
"fs=350;//Hz\n",
"f=5000;\n",
"T=1/f;\n",
"wp=2*%pi*fp;\n",
"ws=2*%pi*fs;\n",
"op=2/T*tan(wp*T/2);\n",
"os=2/T*tan(ws*T/2);\n",
"N=log(sqrt((10^(0.1*as)-1)/(10^(0.1*ap)-1)))/log(op/os);\n",
"disp(ceil(N),'Order of the filter, N =');\n",
"s=%s;\n",
"HS=1/(s+1)//Transfer Function for N=1\n",
"oc=op//rad/sec\n",
"HS1=horner(HS,oc/s);\n",
"disp(HS1,'Normalized Transfer Function, H(s) =');\n",
"z=%z;\n",
"HZ=horner(HS,(2/T)*(z-1)/(z+1));\n",
"disp(HZ,'H(z) =');"
   ]
   }
,
{
		   "cell_type": "markdown",
		   "metadata": {},
		   "source": [
			"## Example 5.18: Bilinear_Transformation_Method_Filter_Design.sce"
		   ]
		  },
  {
"cell_type": "code",
	   "execution_count": null,
	   "metadata": {
	    "collapsed": true
	   },
	   "outputs": [],
"source": [
"//Example 5.18\n",
"//To Find out Bilinear Transformation of H(s)=(s^2+4.525)/(s^2+0.692*s+0.504)\n",
"clear;\n",
"clc ;\n",
"close ;\n",
"s=%s;\n",
"z=%z;\n",
"HS=(s^2+4.525)/(s^2+0.692*s+0.504);\n",
"T=1;\n",
"HZ=horner(HS,(2/T)*(z-1)/(z+1));\n",
"disp(HZ,'H(z) =');"
   ]
   }
,
{
		   "cell_type": "markdown",
		   "metadata": {},
		   "source": [
			"## Example 5.19: Single_Pole_LPF_into_BPF_Conversion.sce"
		   ]
		  },
  {
"cell_type": "code",
	   "execution_count": null,
	   "metadata": {
	    "collapsed": true
	   },
	   "outputs": [],
"source": [
"//Example 5.19\n",
"//To Convert a single Pole LPF into BPF \n",
"clear;\n",
"clc ;\n",
"close ;\n",
"s=%s;\n",
"z=%z;\n",
"HZ=(0.5*(1+z^(-1)))/(1-0.302*z^(-2));\n",
"T=1;\n",
"wu=3*%pi/4;\n",
"wl=%pi/4;\n",
"wp=%pi/6;\n",
"k=tan(wp/2)/tan((wu-wl)/2);\n",
"a=cos((wu+wl)/2)/cos((wu-wl)/2);\n",
"transf=-((((k-1)/(k+1))*(z^(-2)))-((2*a*k/(k+1))*(z^(-1)))+1)/(z^(-2)-(2*a*k/(1+k)*z^(-1))+((k-1)/(k+1)));\n",
"HZ1=horner(HZ,transf);\n",
"disp(HZ1,'H(z) of B.P.F =');"
   ]
   }
,
{
		   "cell_type": "markdown",
		   "metadata": {},
		   "source": [
			"## Example 5.1: Order_of_the_Filter_Determination.sce"
		   ]
		  },
  {
"cell_type": "code",
	   "execution_count": null,
	   "metadata": {
	    "collapsed": true
	   },
	   "outputs": [],
"source": [
"//Example 5.1\n",
"//To Find out the order of the filter\n",
"clear;\n",
"clc ;\n",
"close ;\n",
"ap=1;//db\n",
"as=30;//db\n",
"op=200;//rad/sec\n",
"os=600;//rad/sec\n",
"N=log(sqrt((10^(0.1*as)-1)/(10^(0.1*ap)-1)))/log(os/op);\n",
"disp(ceil(N),'Order of the filter, N =');"
   ]
   }
,
{
		   "cell_type": "markdown",
		   "metadata": {},
		   "source": [
			"## Example 5.29: Pole_Zero_IIR_Filter_into_Lattice_Ladder_Structure.sce"
		   ]
		  },
  {
"cell_type": "code",
	   "execution_count": null,
	   "metadata": {
	    "collapsed": true
	   },
	   "outputs": [],
"source": [
"//Example 5.29\n",
"//Program to convert given IIR pole-zero Filter into Lattice Ladder Structure. \n",
"clear;\n",
"clc ;\n",
"close ;\n",
"U=1;          //Zero Adjust\n",
"a(3+U,0+U)=1; \n",
"a(3+U,1+U)=13/24; \n",
"a(3+U,2+U)=5/8;\n",
"a(3+U,3+U)=1/3;\n",
"a(2+U,0+U)=1; //a(m,0)=1\n",
"a(2+U,3+U)=1/3;\n",
"m=3,k=1;\n",
"a(m-1+U,k+U)=(a(m+U,k+U)-a(m+U,m+U)*a(m+U,m-k+U))/(1-a(m+U,m+U)*a(m+U,m+U));\n",
"m=3,k=2;\n",
"a(m-1+U,k+U)=(a(m+U,k+U)-a(m+U,m+U)*a(m+U,m-k+U))/(1-a(m+U,m+U)*a(m+U,m+U));\n",
"m=2,k=1;\n",
"a(m-1+U,k+U)=(a(m+U,k+U)-a(m+U,m+U)*a(m+U,m-k+U))/(1-a(m+U,m+U)*a(m+U,m+U));\n",
"disp('LATTICE COEFFICIENTS');\n",
"disp(a(1+U,1+U),'k1');\n",
"disp(a(2+U,2+U),'k2');\n",
"disp(a(3+U,3+U),'k3');\n",
"b0=1;\n",
"b1=2;\n",
"b2=2;\n",
"b3=1;\n",
"c3=b3;\n",
"c2=b2-c3*a(3+U,1+U);\n",
"c1=b1-(c2*a(2+U,1+U)+c3*a(3+U,2+U));\n",
"c0=b0-(c1*a(1+U,1+U)+c2*a(2+U,2+U)+c3*a(3+U,3+U));\n",
"disp('LADDER COEFFICIENTS');\n",
"disp(c0,'c0 =');\n",
"disp(c1,'c1 =');\n",
"disp(c2,'c2 =');\n",
"disp(c3,'c3 =');"
   ]
   }
,
{
		   "cell_type": "markdown",
		   "metadata": {},
		   "source": [
			"## Example 5.2: Order_of_Low_Pass_Butterworth_Filter.sce"
		   ]
		  },
  {
"cell_type": "code",
	   "execution_count": null,
	   "metadata": {
	    "collapsed": true
	   },
	   "outputs": [],
"source": [
"//Example 5.2\n",
"//To Find out the order of a Low Pass Butterworth Filter\n",
"clear;\n",
"clc ;\n",
"close ;\n",
"ap=3;//db\n",
"as=40;//db\n",
"fp=500;//Hz\n",
"fs=1000;//Hz\n",
"op=2*%pi*fp;\n",
"os=2*%pi*fs;\n",
"N=log(sqrt((10^(0.1*as)-1)/(10^(0.1*ap)-1)))/log(os/op);\n",
"disp(ceil(N),'Order of the filter, N =');"
   ]
   }
,
{
		   "cell_type": "markdown",
		   "metadata": {},
		   "source": [
			"## Example 5.4: Analog_Butterworth_Filter_Design.sce"
		   ]
		  },
  {
"cell_type": "code",
	   "execution_count": null,
	   "metadata": {
	    "collapsed": true
	   },
	   "outputs": [],
"source": [
"//Example 5.4\n",
"//To Design an Analog Butterworth Filter\n",
"clear;\n",
"clc ;\n",
"close ;\n",
"ap=2;//db\n",
"as=10;//db\n",
"op=20;//rad/sec\n",
"os=30;//rad/sec\n",
"N=log(sqrt((10^(0.1*as)-1)/(10^(0.1*ap)-1)))/log(os/op);\n",
"disp(ceil(N),'Order of the filter, N =');\n",
"s=%s;\n",
"HS=1/((s^2+0.76537*s+1)*(s^2+1.8477*s+1));//Transfer Function for N=4\n",
"oc=op/(10^(0.1*ap)-1)^(1/(2*ceil(N)));\n",
"HS1=horner(HS,s/oc);\n",
"disp(HS1,'Normalized Transfer Function, H(s) =');"
   ]
   }
,
{
		   "cell_type": "markdown",
		   "metadata": {},
		   "source": [
			"## Example 5.5: Analog_Butterworth_Filter_Design.sce"
		   ]
		  },
  {
"cell_type": "code",
	   "execution_count": null,
	   "metadata": {
	    "collapsed": true
	   },
	   "outputs": [],
"source": [
"//Example 5.5\n",
"//To Design an Analog Butterworth Filter\n",
"clear;\n",
"clc ;\n",
"close ;\n",
"op=0.2*%pi;\n",
"os=0.4*%pi;\n",
"e1=0.9;\n",
"l1=0.2;\n",
"epsilon=sqrt(1/(e1^2)-1);\n",
"lambda=sqrt(1/(l1^2)-1);\n",
"N=log(lambda/epsilon)/log(os/op);\n",
"disp(ceil(N),'Order of the filter, N =');\n",
"s=%s;\n",
"HS=1/((s^2+0.76537*s+1)*(s^2+1.8477*s+1));//Transfer Function for N=4\n",
"oc=op/epsilon^(1/ceil(N));\n",
"HS1=horner(HS,s/oc);\n",
"disp(HS1,'Normalized Transfer Function, H(s) =');"
   ]
   }
,
{
		   "cell_type": "markdown",
		   "metadata": {},
		   "source": [
			"## Example 5.6: Order_of_Chebyshev_Filter.sce"
		   ]
		  },
  {
"cell_type": "code",
	   "execution_count": null,
	   "metadata": {
	    "collapsed": true
	   },
	   "outputs": [],
"source": [
"//Example 5.6\n",
"//To Find out the order of the Filter using Chebyshev Approximation\n",
"clear;\n",
"clc ;\n",
"close ;\n",
"ap=3;//db\n",
"as=16;//db\n",
"fp=1000;//Hz\n",
"fs=2000;//Hz\n",
"op=2*%pi*fp;\n",
"os=2*%pi*fs;\n",
"N=acosh(sqrt((10^(0.1*as)-1)/(10^(0.1*ap)-1)))/acosh(os/op);\n",
"disp(ceil(N),'Order of the filter, N =');"
   ]
   }
,
{
		   "cell_type": "markdown",
		   "metadata": {},
		   "source": [
			"## Example 5.7: Chebyshev_Filter_Desig.sce"
		   ]
		  },
  {
"cell_type": "code",
	   "execution_count": null,
	   "metadata": {
	    "collapsed": true
	   },
	   "outputs": [],
"source": [
"//Example 5.7\n",
"//To Design an analog Chebyshev Filter with Given Specifications\n",
"clear;\n",
"clc ;\n",
"close ;\n",
"os=2;\n",
"op=1;\n",
"ap=3;//db\n",
"as=16;//db\n",
"e1=1/sqrt(2);\n",
"l1=0.1;\n",
"epsilon=sqrt(1/(e1^2)-1);\n",
"lambda=sqrt(1/(l1^2)-1);\n",
"N=acosh(lambda/epsilon)/acosh(os/op);\n",
"disp(ceil(N),'Order of the filter, N =');"
   ]
   }
,
{
		   "cell_type": "markdown",
		   "metadata": {},
		   "source": [
			"## Example 5.8: Order_of_Type_1_Low_Pass_Chebyshev_Filter.sce"
		   ]
		  },
  {
"cell_type": "code",
	   "execution_count": null,
	   "metadata": {
	    "collapsed": true
	   },
	   "outputs": [],
"source": [
"//Example 5.8\n",
"//To Find out the order of the poles of the Type 1 Lowpass Chebyshev Filter\n",
"clear;\n",
"clc ;\n",
"close ;\n",
"ap=1;//dB\n",
"as=40;//dB\n",
"op=1000*%pi;\n",
"os=2000*%pi;\n",
"N=acosh(sqrt((10^(0.1*as)-1)/(10^(0.1*ap)-1)))/acosh(os/op);\n",
"disp(ceil(N),'Order of the filter, N =');"
   ]
   }
,
{
		   "cell_type": "markdown",
		   "metadata": {},
		   "source": [
			"## Example 5.9: Chebyshev_Filter_Desig.sce"
		   ]
		  },
  {
"cell_type": "code",
	   "execution_count": null,
	   "metadata": {
	    "collapsed": true
	   },
	   "outputs": [],
"source": [
"//Example 5.9\n",
"//To Design a Chebyshev Filter with Given Specifications\n",
"clear;\n",
"clc ;\n",
"close ;\n",
"ap=2.5;//db\n",
"as=30;//db\n",
"op=20;//rad/sec\n",
"os=50;//rad/sec\n",
"N=acosh(sqrt((10^(0.1*as)-1)/(10^(0.1*ap)-1)))/acosh(os/op);\n",
"disp(ceil(N),'Order of the filter, N =');"
   ]
   }
],
"metadata": {
		  "kernelspec": {
		   "display_name": "Scilab",
		   "language": "scilab",
		   "name": "scilab"
		  },
		  "language_info": {
		   "file_extension": ".sce",
		   "help_links": [
			{
			 "text": "MetaKernel Magics",
			 "url": "https://github.com/calysto/metakernel/blob/master/metakernel/magics/README.md"
			}
		   ],
		   "mimetype": "text/x-octave",
		   "name": "scilab",
		   "version": "0.7.1"
		  }
		 },
		 "nbformat": 4,
		 "nbformat_minor": 0
}
