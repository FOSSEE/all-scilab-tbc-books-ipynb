{
"cells": [
 {
		   "cell_type": "markdown",
	   "metadata": {},
	   "source": [
       "# Chapter 8: Voltage Regulators"
	   ]
	},
{
		   "cell_type": "markdown",
		   "metadata": {},
		   "source": [
			"## Example 8.1: Linear_Voltage_Regulator.sce"
		   ]
		  },
  {
"cell_type": "code",
	   "execution_count": null,
	   "metadata": {
	    "collapsed": true
	   },
	   "outputs": [],
"source": [
"// Example 8.1, Page No-362\n",
"clear\n",
"clc\n",
"Vo=15\n",
"Vimin=Vo+3\n",
"Vr=2\n",
"Vi=Vimin + Vr/2\n",
"Vz=Vi/2\n",
"printf('As Vz=%.1f, use Zener diode 1N758 for 10V', Vz)\n",
"Vz=10\n",
"Iz=20*10^-3\n",
"R1=(Vi-Vz)/Iz\n",
"printf('\nR1= %d ohm', R1)\n",
"I2=50*10^-6\n",
"R2=(Vo-Vz)/I2\n",
"R2=R2/1000\n",
"printf('\nR2= %.1f kohm', R2)\n",
"R3=Vz/I2\n",
"R3=R3/1000\n",
"printf('\nR3= %d kohm', R3)\n",
"printf('\nSelect C1= 50uF')\n",
"Vcemax=Vi+Vr/2\n",
"IE=50*10^-6\n",
"IL=50*10^-6\n",
"P=(Vi-Vo)*IL\n",
"P1=P*1000000\n",
"printf('\nP= %.1f mW', P1)\n",
"printf('\nUse the transstor 2N718 for Q1')"
   ]
   }
,
{
		   "cell_type": "markdown",
		   "metadata": {},
		   "source": [
			"## Example 8.2: 7805_Voltage_Regulator.sce"
		   ]
		  },
  {
"cell_type": "code",
	   "execution_count": null,
	   "metadata": {
	    "collapsed": true
	   },
	   "outputs": [],
"source": [
"// Example 8.2, Page No-366\n",
"clear\n",
"clc\n",
"\n",
"IL=0.25\n",
"Vr=5\n",
"R=Vr/IL\n",
"printf('R= %d ohm', R)\n",
"RL=10\n",
"VL=IL*RL\n",
"\n",
"Vo=Vr+VL\n",
"printf('\nVo= %.1f V', Vo)\n",
"Vdrop=2\n",
"Vi=Vo+Vdrop\n",
"printf('\nVo= %.1f V', Vi)"
   ]
   }
,
{
		   "cell_type": "markdown",
		   "metadata": {},
		   "source": [
			"## Example 8.3: 7805_Regulator_Circuit.sce"
		   ]
		  },
  {
"cell_type": "code",
	   "execution_count": null,
	   "metadata": {
	    "collapsed": true
	   },
	   "outputs": [],
"source": [
"// Example 8.3, Page No-368\n",
"clear\n",
"clc\n",
"VL=5\n",
"RL=100\n",
"IL=VL/RL\n",
"IL1=IL*1000\n",
"printf('Part A')\n",
"printf('\nLoad Current IL= %d mA', IL1)\n",
"R1=7\n",
"VR1=IL*R1\n",
"VR1x=VR1*1000\n",
"printf('\nVoltage accross R1= %d mV', VR1x)\n",
"printf('\nAs voltage < 0.7V, Q1 is OFF')\n",
"printf('\nHence IL=Io=Ii=50 mA')\n",
"\n",
"printf('\n\nPart B')\n",
"VLb=5\n",
"RLb=2\n",
"ILb=VLb/RLb\n",
"printf('\nLoad Current IL= %.1f A', ILb)\n",
"R1=7\n",
"VR1=ILb*R1\n",
"printf('\nVoltage accross R1= %.1f mV', VR1)\n",
"printf('\nAs voltage > 0.7V, Q1 is ON')\n",
"Io=0.147\n",
"Ic=ILb-Io\n",
"printf('\nHence Ic= %.3f A', Ic)\n",
"\n",
""
   ]
   }
,
{
		   "cell_type": "markdown",
		   "metadata": {},
		   "source": [
			"## Example 8.4: LM317_Regulator.sce"
		   ]
		  },
  {
"cell_type": "code",
	   "execution_count": null,
	   "metadata": {
	    "collapsed": true
	   },
	   "outputs": [],
"source": [
"// Example 8.4, Page No-371\n",
"clear\n",
"clc\n",
"\n",
"R1=240\n",
"R2=2000\n",
"Iadj=50*10^-6\n",
"Vref=1.25\n",
"\n",
"Vo=(Vref*(1+R2/R1))+(Iadj*R2)\n",
"printf('Vo= %.2f V', Vo)"
   ]
   }
,
{
		   "cell_type": "markdown",
		   "metadata": {},
		   "source": [
			"## Example 8.5: Voltage_regulator_using_LM317.sce"
		   ]
		  },
  {
"cell_type": "code",
	   "execution_count": null,
	   "metadata": {
	    "collapsed": true
	   },
	   "outputs": [],
"source": [
"// Example 8.5, Page No-371\n",
"clear\n",
"clc\n",
"\n",
"Iadjmax=100*10^-6\n",
"R1=240\n",
"Vref=1.25\n",
"\n",
"// First case: Vo=4\n",
"Vo=4\n",
"R2a1=(Vo-Vref)/(Vref/R1 + Iadjmax)\n",
"R2a=R2a1/1000\n",
"printf('\nR2= %.2f kohm', R2a)\n",
"\n",
"// First case: Vo=12\n",
"Vo=12\n",
"R2b1=(Vo-Vref)/(Vref/R1 + Iadjmax)\n",
"R2b=R2b1/1000\n",
"printf('\nR2= %.2f kohm', R2b)"
   ]
   }
,
{
		   "cell_type": "markdown",
		   "metadata": {},
		   "source": [
			"## Example 8.6: Current_Limiting_Circuit.sce"
		   ]
		  },
  {
"cell_type": "code",
	   "execution_count": null,
	   "metadata": {
	    "collapsed": true
	   },
	   "outputs": [],
"source": [
"// Example 8.6, Page No-377\n",
"clear\n",
"clc\n",
"\n",
"ILmax=0.5\n",
"\n",
"//Part 1\n",
"Rsc=0.7/ILmax\n",
"printf('Rsc= %.1f ohm', Rsc)\n",
"\n",
"//Part 2\n",
"RL=100\n",
"Vo=20\n",
"IL=Vo/RL\n",
"printf('\nIL= %.1f A', IL)\n",
"\n",
"//Part 3\n",
"RLn=10\n",
"IL=Vo/RLn\n",
"printf('\nIL= %.1f A', IL)\n",
"printf('\nSince IL > ILmax of 0.5A, current limiting will happen')\n",
"Von=RLn*ILmax\n",
"printf('\nVo= %.1f V', Von)"
   ]
   }
,
{
		   "cell_type": "markdown",
		   "metadata": {},
		   "source": [
			"## Example 8.7: LM723_Regulator.sce"
		   ]
		  },
  {
"cell_type": "code",
	   "execution_count": null,
	   "metadata": {
	    "collapsed": true
	   },
	   "outputs": [],
"source": [
"// Example 8.7, Page No-378\n",
"clear\n",
"clc\n",
"\n",
"R2=10000\n",
"Vo=12\n",
"Vref=7.15\n",
"\n",
"R1=(Vo/Vref)*R2 - R2\n",
"R1a=R1/1000\n",
"printf('\nR1= %.2f kohm', R1a)"
   ]
   }
,
{
		   "cell_type": "markdown",
		   "metadata": {},
		   "source": [
			"## Example 8.8: Continuously_adjustable_power_supply.sce"
		   ]
		  },
  {
"cell_type": "code",
	   "execution_count": null,
	   "metadata": {
	    "collapsed": true
	   },
	   "outputs": [],
"source": [
"// Example 8.8, Page No-380\n",
"clear\n",
"clc\n",
"\n",
"Vref=7.15\n",
"Vo=5\n",
"k=Vref/Vo\n",
"printf('(R1b+R2)/R2= %.2f', k)\n",
"k1=k-1\n",
"printf('\nR1 = %.2f * R2', k1)\n",
"\n",
"// For min voltage of 2V\n",
"Vom=2\n",
"km=Vref/Vom\n",
"printf('\n(R1a+R1b+R2)/R2= %.3f', km)\n",
"km1=km-1.43\n",
"printf('\nR1a = %.3f * R2', km1)\n",
"\n",
"R1a=10000\n",
"R1b=2000\n",
"R2=R1a/2.145\n",
"R2n=R2/1000\n",
"printf('\nR2= %.2f kohm', R2n)\n",
"R1=6000\n",
"R3=(R1*R2)/(R1+R2)\n",
"R3n=R3/1000\n",
"printf('\nR3= %.2f kohm', R3n)"
   ]
   }
],
"metadata": {
		  "kernelspec": {
		   "display_name": "Scilab",
		   "language": "scilab",
		   "name": "scilab"
		  },
		  "language_info": {
		   "file_extension": ".sce",
		   "help_links": [
			{
			 "text": "MetaKernel Magics",
			 "url": "https://github.com/calysto/metakernel/blob/master/metakernel/magics/README.md"
			}
		   ],
		   "mimetype": "text/x-octave",
		   "name": "scilab",
		   "version": "0.7.1"
		  }
		 },
		 "nbformat": 4,
		 "nbformat_minor": 0
}
