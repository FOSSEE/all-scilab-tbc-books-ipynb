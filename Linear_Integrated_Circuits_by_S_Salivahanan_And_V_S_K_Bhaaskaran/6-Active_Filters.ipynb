{
"cells": [
 {
		   "cell_type": "markdown",
	   "metadata": {},
	   "source": [
       "# Chapter 6: Active Filters"
	   ]
	},
{
		   "cell_type": "markdown",
		   "metadata": {},
		   "source": [
			"## Example 6.10: bandpass_filter.sce"
		   ]
		  },
  {
"cell_type": "code",
	   "execution_count": null,
	   "metadata": {
	    "collapsed": true
	   },
	   "outputs": [],
"source": [
"// Example 6.10, Page No-286\n",
"clear\n",
"clc\n",
"\n",
"fh=2500\n",
"fL=250\n",
"B=fh-fL\n",
"printf('Bandwdth B= %d Hz', B)\n",
"\n",
"fr=sqrt(fh*fL)\n",
"printf('\nResonant Frequency fr= %.2f Hz', fr)\n",
"\n",
"fc=(fL+fh)/2\n",
"printf('\nCenter Frequency fr= %d Hz', fc)\n",
"printf('\nHence, resonant frequency is always less than center frequency')"
   ]
   }
,
{
		   "cell_type": "markdown",
		   "metadata": {},
		   "source": [
			"## Example 6.11: bandpass_filter_with_resonant_frequency.sce"
		   ]
		  },
  {
"cell_type": "code",
	   "execution_count": null,
	   "metadata": {
	    "collapsed": true
	   },
	   "outputs": [],
"source": [
"// Example 6.11, Page No-286\n",
"clear\n",
"clc\n",
"\n",
"// Part A\n",
"fr=1000\n",
"B=3000\n",
"Q=fr/B\n",
"printf('Quality factor Q= %.2f ', Q)\n",
"printf('Since Q<0.5, this is a wideband filter')\n",
"\n",
"// Part B\n",
"fL= sqrt((B*B/4)+fr^2) - B/2\n",
"printf('\nfL= %.2f Hz', fL) \n",
"\n",
"// Part C\n",
"fh=fL+B\n",
"printf('\nfh= %.2f Hz', fh)"
   ]
   }
,
{
		   "cell_type": "markdown",
		   "metadata": {},
		   "source": [
			"## Example 6.12: narrowband_bandpass_filter.sce"
		   ]
		  },
  {
"cell_type": "code",
	   "execution_count": null,
	   "metadata": {
	    "collapsed": true
	   },
	   "outputs": [],
"source": [
"// Example 6.12, Page No-288\n",
"clear\n",
"clc\n",
"\n",
"// Part A\n",
"// For a bandpass filter\n",
"R=20000\n",
"Rr=2700\n",
"C=0.01*10^-6\n",
"\n",
"fr=0.1125*(sqrt(1+R/Rr))/(R*C)\n",
"printf('Resonant frequency= %.1f Hz', fr)\n",
"\n",
"// Part B\n",
"B=0.1591/(R*C)\n",
"printf('\nBandwidth= %.1f Hz', B)"
   ]
   }
,
{
		   "cell_type": "markdown",
		   "metadata": {},
		   "source": [
			"## Example 6.13: narrowband_bandpass_filter_with_resonant_frequency.sce"
		   ]
		  },
  {
"cell_type": "code",
	   "execution_count": null,
	   "metadata": {
	    "collapsed": true
	   },
	   "outputs": [],
"source": [
"// Example 6.13, Page No-289\n",
"clear\n",
"clc\n",
"\n",
"fr=200\n",
"B=20\n",
"C=0.33*10^-6\n",
"Q=fr/B\n",
"\n",
"R=0.1591/(B*C)\n",
"Rr=R/(2*Q*Q-1)\n",
"R=R/1000\n",
"printf('\nR= %.1f kohm', R)\n",
"printf('\nRr= %.1f ohm', Rr)"
   ]
   }
,
{
		   "cell_type": "markdown",
		   "metadata": {},
		   "source": [
			"## Example 6.14: clock_frequency.sce"
		   ]
		  },
  {
"cell_type": "code",
	   "execution_count": null,
	   "metadata": {
	    "collapsed": true
	   },
	   "outputs": [],
"source": [
"// Example 6.14, Page No-307\n",
"clear\n",
"clc\n",
"\n",
"R=1*10^6\n",
"C=40*10^-12\n",
"fck=1/(R*C)\n",
"fck=fck/1000\n",
"printf('Fck= %.1f kHz', fck)"
   ]
   }
,
{
		   "cell_type": "markdown",
		   "metadata": {},
		   "source": [
			"## Example 6.1: first_order_low_pass_butterworth_filter.sce"
		   ]
		  },
  {
"cell_type": "code",
	   "execution_count": null,
	   "metadata": {
	    "collapsed": true
	   },
	   "outputs": [],
"source": [
"// Example 6.1, Page No-269\n",
"clear\n",
"clc\n",
"fH=10*10^3\n",
"f=12*10^3\n",
"t=(f^2/fH^2)\n",
"Hif=1/(sqrt(1+t))\n",
"Hifdb=20*log(Hif)/log(10)\n",
"printf('Delta Vi=%.2f dB', Hifdb)"
   ]
   }
,
{
		   "cell_type": "markdown",
		   "metadata": {},
		   "source": [
			"## Example 6.2: first_order_low_pass_filter.sce"
		   ]
		  },
  {
"cell_type": "code",
	   "execution_count": null,
	   "metadata": {
	    "collapsed": true
	   },
	   "outputs": [],
"source": [
"// Example 6.2, Page No-270\n",
"clear\n",
"clc\n",
"\n",
"fh=2000\n",
"A=2\n",
"C=0.01*10^-6\n",
"R=1/(2*%pi*fh*C)\n",
"R=R/1000\n",
"printf('R= %.3f kohm', R)\n",
"//Rf/Ri=A-1\n",
"printf('\n Hence Rf=Ri=10kohm')\n",
""
   ]
   }
,
{
		   "cell_type": "markdown",
		   "metadata": {},
		   "source": [
			"## Example 6.3: second_order_low_pass_butterworth_filter.sce"
		   ]
		  },
  {
"cell_type": "code",
	   "execution_count": null,
	   "metadata": {
	    "collapsed": true
	   },
	   "outputs": [],
"source": [
"// Example 6.3, Page No-272\n",
"clear\n",
"clc\n",
"\n",
"fh=10*10^3\n",
"f=12*10^3\n",
"RC=1/(2*%pi*fh)\n",
"R=200*10^3\n",
"C=RC/R\n",
"C3=1.414*C\n",
"C4=0.707*C\n",
"\n",
"t=(f^4/fh^4)\n",
"Hif=1/(sqrt(1+t))\n",
"Hifdb=20*log(Hif)/log(10)\n",
"printf('Hif= %.2f dB', Hifdb)\n",
"\n",
"\n",
""
   ]
   }
,
{
		   "cell_type": "markdown",
		   "metadata": {},
		   "source": [
			"## Example 6.4: second_order_low_pass_butterworth_filter_with_uppercutoff_frequency.sce"
		   ]
		  },
  {
"cell_type": "code",
	   "execution_count": null,
	   "metadata": {
	    "collapsed": true
	   },
	   "outputs": [],
"source": [
"// Example 6.4, Page No-275\n",
"clear\n",
"clc\n",
"\n",
"N=2\n",
"fh=2*10^3\n",
"C=0.1*10^-6\n",
"R=1/(2*%pi*fh*C)\n",
"Rkohm=R/1000\n",
"printf('R= %.1f kohm', Rkohm)\n",
"alpha=1.414\n",
"A=3-alpha\n",
"RfbyRi=A-1\n",
"printf('\nRf/Ri= %.3f', RfbyRi)\n",
"printf('\nHence, take Rf=5.86 kohm and Ri=10 kohm')\n",
""
   ]
   }
,
{
		   "cell_type": "markdown",
		   "metadata": {},
		   "source": [
			"## Example 6.5: third_order_low_pass_butterworth_filter.sce"
		   ]
		  },
  {
"cell_type": "code",
	   "execution_count": null,
	   "metadata": {
	    "collapsed": true
	   },
	   "outputs": [],
"source": [
"// Example 6.5, Page No-276\n",
"clear\n",
"clc\n",
"\n",
"fh=10*10^3\n",
"f=12*10^3\n",
"\n",
"// For third order low pass butterworth filter\n",
"t=(f^6/fh^6)\n",
"Hif=1/(sqrt(1+t))\n",
"Hifdb=20*log(Hif)/log(10)\n",
"printf('Hif= %.4f dB', Hifdb)\n",
"\n",
"// For fourth order low pass butterworth filter\n",
"t=(f^8/fh^8)\n",
"Hif=1/(sqrt(1+t))\n",
"Hifdb=20*log(Hif)/log(10)\n",
"printf('\nHif= %.2f dB', Hifdb)"
   ]
   }
,
{
		   "cell_type": "markdown",
		   "metadata": {},
		   "source": [
			"## Example 6.6: fourth_order_low_pass_butterworth_filter.sce"
		   ]
		  },
  {
"cell_type": "code",
	   "execution_count": null,
	   "metadata": {
	    "collapsed": true
	   },
	   "outputs": [],
"source": [
"// Example 6.6, Page No-276\n",
"clear\n",
"clc\n",
"\n",
"N=2\n",
"fh=2000\n",
"C=0.1*10^-6\n",
"R=1/(2*%pi*fh*C)\n",
"Rkohm=R/1000\n",
"printf('R= %.1f kohm', Rkohm)\n",
"\n",
"alpha1=0.765\n",
"alpha2=1.848\n",
"A1=3-alpha1\n",
"A2=3-alpha2\n",
"\n",
"Rf1byRi1=A1-1\n",
"Rf2byRi2=A2-1\n",
"\n",
"printf('\nRf1/Ri1= %.3f', Rf1byRi1)\n",
"printf('\nHence, take Rf1=12.35 kohm and Ri1=10 kohm')\n",
"printf('\nRf2/Ri2= %.3f', Rf2byRi2)\n",
"printf('\nHence, take Rf2=15.2 kohm and Ri2=100 kohm')"
   ]
   }
,
{
		   "cell_type": "markdown",
		   "metadata": {},
		   "source": [
			"## Example 6.7: first_order_high_pass_filter.sce"
		   ]
		  },
  {
"cell_type": "code",
	   "execution_count": null,
	   "metadata": {
	    "collapsed": true
	   },
	   "outputs": [],
"source": [
"// Example 6.7, Page No-279\n",
"clear\n",
"clc\n",
"\n",
"A=2\n",
"fL=2*10^3\n",
"C=0.01*10^-6\n",
"R=1/(2*%pi*fL*C)\n",
"Rkohm=R/1000\n",
"printf('R= %.1f kohm', Rkohm)\n",
"\n",
"RfbyRi=A-1\n",
"printf('\nRf/Ri= %.3f', RfbyRi)\n",
"printf('\nHence, take Rf=10 kohm and Ri=10 kohm')\n",
""
   ]
   }
,
{
		   "cell_type": "markdown",
		   "metadata": {},
		   "source": [
			"## Example 6.8: second_order_high_pass_butterworth_filter_variable_gain.sce"
		   ]
		  },
  {
"cell_type": "code",
	   "execution_count": null,
	   "metadata": {
	    "collapsed": true
	   },
	   "outputs": [],
"source": [
"// Example 6.8, Page No-282\n",
"clear\n",
"clc\n",
"\n",
"R2=16*10^3\n",
"R3=16*10^3\n",
"Rf=15.8*10^3\n",
"Ri=27*10^3\n",
"C2=0.01*10^-6\n",
"C3=0.01*10^-6\n",
"fL=1/(2*%pi*sqrt(R2*R3*C2*C3))\n",
"fL=fL/1000\n",
"printf('\nfL= %.1f kHz', fL)\n",
"\n",
"A=1+Rf/Ri\n",
"printf('\nA= %.3f', A)\n",
""
   ]
   }
,
{
		   "cell_type": "markdown",
		   "metadata": {},
		   "source": [
			"## Example 6.9: fourth_order_high_pass_butterworth_filter.sce"
		   ]
		  },
  {
"cell_type": "code",
	   "execution_count": null,
	   "metadata": {
	    "collapsed": true
	   },
	   "outputs": [],
"source": [
"// Example 6.9, Page No-284\n",
"clear\n",
"clc\n",
"\n",
"fh=50000\n",
"C=0.001*10^-6\n",
"R=1/(2*%pi*fh*C)\n",
"Rkohm=R/1000\n",
"printf('R= %.3f kohm', Rkohm)\n",
"\n",
"R1=R/1.082\n",
"R2=R/0.9241\n",
"R3=R/2.613\n",
"R4=R/0.3825\n",
"printf('\nR1= %.3f kohm', R1/1000)\n",
"printf('\nR2= %.3f kohm', R2/1000)\n",
"printf('\nR3= %.3f kohm', R3/1000)\n",
"printf('\nR4= %.3f kohm', R4/1000)\n",
"Hif=0.02\n",
"s=(Hif^2)/(1-Hif^2)\n",
"s1=s^0.125\n",
"f=fh/1.6815 * s1\n",
"fkhz=f/1000\n",
"printf('\nf= %.2f kHz', fkhz)\n",
"\n",
""
   ]
   }
],
"metadata": {
		  "kernelspec": {
		   "display_name": "Scilab",
		   "language": "scilab",
		   "name": "scilab"
		  },
		  "language_info": {
		   "file_extension": ".sce",
		   "help_links": [
			{
			 "text": "MetaKernel Magics",
			 "url": "https://github.com/calysto/metakernel/blob/master/metakernel/magics/README.md"
			}
		   ],
		   "mimetype": "text/x-octave",
		   "name": "scilab",
		   "version": "0.7.1"
		  }
		 },
		 "nbformat": 4,
		 "nbformat_minor": 0
}
