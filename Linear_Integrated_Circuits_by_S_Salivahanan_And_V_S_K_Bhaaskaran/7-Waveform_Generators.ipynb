{
"cells": [
 {
		   "cell_type": "markdown",
	   "metadata": {},
	   "source": [
       "# Chapter 7: Waveform Generators"
	   ]
	},
{
		   "cell_type": "markdown",
		   "metadata": {},
		   "source": [
			"## Example 7.10: Teletypewriter.sce"
		   ]
		  },
  {
"cell_type": "code",
	   "execution_count": null,
	   "metadata": {
	    "collapsed": true
	   },
	   "outputs": [],
"source": [
"// Example 7.10, Page No-352\n",
"clear\n",
"clc\n",
"\n",
"\n",
"f1=1070\n",
"RA=50000\n",
"C=0.01*10^-6\n",
"Rc=76//Standard Value\n",
"t=1.45/(f1*C)\n",
"RB=(t-RA)/2\n",
"printf('Assuming RA= 50 kohm and C= 0.01 uF')\n",
"RB=RB/1000\n",
"printf('\nHence, RB= %.2f kohm', RB)\n",
"printf('\nRc= %d ohm (Standard Value)', Rc)"
   ]
   }
,
{
		   "cell_type": "markdown",
		   "metadata": {},
		   "source": [
			"## Example 7.1: RC_Phase_shift_oscillator.sce"
		   ]
		  },
  {
"cell_type": "code",
	   "execution_count": null,
	   "metadata": {
	    "collapsed": true
	   },
	   "outputs": [],
"source": [
"// Example 7.1, Page No-324\n",
"clear\n",
"clc\n",
"f=300\n",
"C=0.1*10^-6\n",
"t=f*C\n",
"R=1/(2*%pi*t*sqrt(6))\n",
"R=R/1000\n",
"printf('R= %.2f kohm', R)\n",
"printf('\nLet R=2.2 kohm, hence R1=22 kohm')\n",
"R1=22000\n",
"Rf=29*R1\n",
"Rf=Rf/1000\n",
"printf('\nRf= %d kohm', Rf)"
   ]
   }
,
{
		   "cell_type": "markdown",
		   "metadata": {},
		   "source": [
			"## Example 7.2: Wien_bridge_oscillator.sce"
		   ]
		  },
  {
"cell_type": "code",
	   "execution_count": null,
	   "metadata": {
	    "collapsed": true
	   },
	   "outputs": [],
"source": [
"// Example 7.2, Page No-326\n",
"clear\n",
"clc\n",
"\n",
"f=2000\n",
"C=0.05*10^-6\n",
"t=f*C\n",
"R=1/(2*%pi*t)\n",
"R=R/1000\n",
"printf('R= %.3f kohm', R)\n",
"printf('\nLet R=1.8 kohm')\n",
"R1=1800\n",
"Rf=2*R1\n",
"Rf=Rf/1000\n",
"printf('\nRf= %d kohm', Rf)\n",
"printf('\nStandard value Rf= 3.3 kohm')"
   ]
   }
,
{
		   "cell_type": "markdown",
		   "metadata": {},
		   "source": [
			"## Example 7.3: Astable_multivibrator.sce"
		   ]
		  },
  {
"cell_type": "code",
	   "execution_count": null,
	   "metadata": {
	    "collapsed": true
	   },
	   "outputs": [],
"source": [
"// Example 7.3, Page No-329\n",
"clear\n",
"clc\n",
"\n",
"R1=116*10^3\n",
"R2=100*10^3\n",
"Vsat=14\n",
"\n",
"// Part A\n",
"f=1000\n",
"T=1/f\n",
"// As log value is approx 1\n",
"RC=T/2\n",
"RC1=RC*1000\n",
"printf('RC= %.1f *10^-3 sec', RC1)\n",
"\n",
"// Part B\n",
"C=0.01*10^-6\n",
"R=RC/C\n",
"Rn=R/1000\n",
"printf('\nR= %d kohm', Rn)\n",
"\n",
"// Part C\n",
"Vmax=2*Vsat*(R2/(R1+R2))\n",
"printf('\nMaximum value of differential input voltage= %.2f V', Vmax)"
   ]
   }
,
{
		   "cell_type": "markdown",
		   "metadata": {},
		   "source": [
			"## Example 7.4: Square_wave_oscillator.sce"
		   ]
		  },
  {
"cell_type": "code",
	   "execution_count": null,
	   "metadata": {
	    "collapsed": true
	   },
	   "outputs": [],
"source": [
"// Example 7.4, Page No-330\n",
"clear\n",
"clc\n",
"\n",
"fo=1000\n",
"Vcc=12\n",
"R1=10*10^3\n",
"R2=10*10^3\n",
"C=0.1*10^-6\n",
"R=1/(2.2*C*fo)\n",
"R=R/1000\n",
"printf('R= %.3f kohm', R)\n",
""
   ]
   }
,
{
		   "cell_type": "markdown",
		   "metadata": {},
		   "source": [
			"## Example 7.5: Triangular_wave_generator.sce"
		   ]
		  },
  {
"cell_type": "code",
	   "execution_count": null,
	   "metadata": {
	    "collapsed": true
	   },
	   "outputs": [],
"source": [
"// Example 7.5, Page No-334\n",
"clear\n",
"clc\n",
"\n",
"R1=100*10^3\n",
"R2=10*10^3\n",
"R3=20*10^3\n",
"C1=0.01*10^-6\n",
"Vsat=14\n",
"\n",
"// Part A\n",
"T=4*R1*R2*C1/R3\n",
"Tn=T*1000\n",
"printf('Time period T= %d ms', Tn)\n",
"\n",
"// Part B\n",
"f=1/T\n",
"printf('\nfrequency f= %d Hz', f)\n",
"\n",
"// Part C\n",
"printf('\nPeak value is +14V and -14V')\n",
"\n",
"// Part D\n",
"Vp=R2*Vsat/R3\n",
"printf('\nTriangular wave oscillates between  %d V and - %d V', Vp, Vp)"
   ]
   }
,
{
		   "cell_type": "markdown",
		   "metadata": {},
		   "source": [
			"## Example 7.6: Sawtooth_wave_generator.sce"
		   ]
		  },
  {
"cell_type": "code",
	   "execution_count": null,
	   "metadata": {
	    "collapsed": true
	   },
	   "outputs": [],
"source": [
"// Example 7.6, Page No-336\n",
"clear\n",
"clc\n",
"\n",
"Ri=10*10^3\n",
"Vp=10\n",
"Vref=10\n",
"fo=200\n",
"C1=0.1*10^-6\n",
"Vi=2\n",
"t=Vi/Vref\n",
"f=t/(Ri*C1)\n",
"printf('Frequency f= %d Hz', f)\n",
""
   ]
   }
,
{
		   "cell_type": "markdown",
		   "metadata": {},
		   "source": [
			"## Example 7.7: Monostable_multivibrator.sce"
		   ]
		  },
  {
"cell_type": "code",
	   "execution_count": null,
	   "metadata": {
	    "collapsed": true
	   },
	   "outputs": [],
"source": [
"// Example 7.7, Page No-345\n",
"clear\n",
"clc\n",
"\n",
"// Answer in textbook is wrong\n",
"C=0.1*10^-6\n",
"t=1*10^-3\n",
"R=t/(1.22*C)\n",
"R=R/1000\n",
"printf('R= %.1f kohm', R)\n",
""
   ]
   }
,
{
		   "cell_type": "markdown",
		   "metadata": {},
		   "source": [
			"## Example 7.8: Frequency_of_oscillation.sce"
		   ]
		  },
  {
"cell_type": "code",
	   "execution_count": null,
	   "metadata": {
	    "collapsed": true
	   },
	   "outputs": [],
"source": [
"// Example 7.8, Page No-351\n",
"clear\n",
"clc\n",
"\n",
"D=20 // 20 percent\n",
"Ton=1*10^-3\n",
"Tonpoff=100*Ton/D\n",
"Tonpoff1=Tonpoff*1000\n",
"printf('Ton + Toff= %d ms', Tonpoff1)\n",
"f=1/Tonpoff\n",
"printf('\nFrequency of oscillation= %d Hz', f)"
   ]
   }
,
{
		   "cell_type": "markdown",
		   "metadata": {},
		   "source": [
			"## Example 7.9: Astable_multivibrator.sce"
		   ]
		  },
  {
"cell_type": "code",
	   "execution_count": null,
	   "metadata": {
	    "collapsed": true
	   },
	   "outputs": [],
"source": [
"// Example 7.9, Page No-351\n",
"clear\n",
"clc\n",
"\n",
"D=0.7\n",
"f=1000\n",
"\n",
"RB=10^4/(0.693*10/3)\n",
"RA=4*RB/3\n",
"RB1=RB/1000\n",
"printf('RB= %.1f kohm', RB1)\n",
"RA1=RA/1000\n",
"printf('\nRA= %.1f kohm', RA1)\n",
"printf('\n Answers in textbooks are wrong')"
   ]
   }
],
"metadata": {
		  "kernelspec": {
		   "display_name": "Scilab",
		   "language": "scilab",
		   "name": "scilab"
		  },
		  "language_info": {
		   "file_extension": ".sce",
		   "help_links": [
			{
			 "text": "MetaKernel Magics",
			 "url": "https://github.com/calysto/metakernel/blob/master/metakernel/magics/README.md"
			}
		   ],
		   "mimetype": "text/x-octave",
		   "name": "scilab",
		   "version": "0.7.1"
		  }
		 },
		 "nbformat": 4,
		 "nbformat_minor": 0
}
