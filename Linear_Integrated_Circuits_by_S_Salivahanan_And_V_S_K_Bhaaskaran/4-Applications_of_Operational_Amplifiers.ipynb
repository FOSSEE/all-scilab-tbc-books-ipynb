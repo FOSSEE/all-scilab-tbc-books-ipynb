{
"cells": [
 {
		   "cell_type": "markdown",
	   "metadata": {},
	   "source": [
       "# Chapter 4: Applications of Operational Amplifiers"
	   ]
	},
{
		   "cell_type": "markdown",
		   "metadata": {},
		   "source": [
			"## Example 4.10: design_a_differentiator.sce"
		   ]
		  },
  {
"cell_type": "code",
	   "execution_count": null,
	   "metadata": {
	    "collapsed": true
	   },
	   "outputs": [],
"source": [
"// Example 4.10, Page No-210\n",
"clear\n",
"clc\n",
"\n",
"fa=1*10^3\n",
"C1=1*10^-6\n",
"\n",
"Rf=1/(2*%pi*fa*C1)\n",
"Rf=Rf/100\n",
"printf('Rf= %.2f kohm', Rf)"
   ]
   }
,
{
		   "cell_type": "markdown",
		   "metadata": {},
		   "source": [
			"## Example 4.11: design_a_differentiator_using_opamp.sce"
		   ]
		  },
  {
"cell_type": "code",
	   "execution_count": null,
	   "metadata": {
	    "collapsed": true
	   },
	   "outputs": [],
"source": [
"// Example 4.11, Page No-213\n",
"clear\n",
"clc\n",
"\n",
"fa=200\n",
"fmax=fa\n",
"\n",
"C1=0.1*10^-6\n",
"Rf=1/(2*%pi*fa*C1)\n",
"Rf=Rf/1000\n",
"printf('Rf= %.3f kohm', Rf)\n",
"\n",
"fb=10*fa\n",
"R1=1/(2*%pi*fb*C1)\n",
"R1=R1/1000\n",
"printf('\nR1= %.3f kohm', R1)\n",
"\n",
"Cf=R1*C1/Rf\n",
"Cf=Cf*10^6\n",
"printf('\nCf= %.2f uF', Cf)"
   ]
   }
,
{
		   "cell_type": "markdown",
		   "metadata": {},
		   "source": [
			"## Example 4.12: solving_differential_equation_using_opamp.sce"
		   ]
		  },
  {
"cell_type": "code",
	   "execution_count": null,
	   "metadata": {
	    "collapsed": true
	   },
	   "outputs": [],
"source": [
"// Example 4.12, Page No-223\n",
"clear\n",
"clc\n",
"\n",
"// This is theorotical problem"
   ]
   }
,
{
		   "cell_type": "markdown",
		   "metadata": {},
		   "source": [
			"## Example 4.13: transfer_function_using_opamp.sce"
		   ]
		  },
  {
"cell_type": "code",
	   "execution_count": null,
	   "metadata": {
	    "collapsed": true
	   },
	   "outputs": [],
"source": [
"// Example 4.13, Page No-226\n",
"clear\n",
"clc\n",
"\n",
"// TF is H(S)= 4/(s^2 + 3.3*s + 0.9)\n",
"// This is a theorotical problem\n",
""
   ]
   }
,
{
		   "cell_type": "markdown",
		   "metadata": {},
		   "source": [
			"## Example 4.1: phase_lag_circuit.sce"
		   ]
		  },
  {
"cell_type": "code",
	   "execution_count": null,
	   "metadata": {
	    "collapsed": true
	   },
	   "outputs": [],
"source": [
"// Example 4.1, Page No-185\n",
"clear\n",
"clc\n",
"R1=20*10^3\n",
"R=39*10^3\n",
"f=2000\n",
"Rf=R1\n",
"C=10^-9\n",
"fo=1/(2*%pi*R*C)\n",
"theta=-2*atan(f/fo)\n",
"theta=theta*180/%pi\n",
"printf('Phase angle=%.1f degree', theta)\n",
"td=theta/(f*360)\n",
"td=-td*10^6\n",
"printf('\nTime delay td= %.1f us',td)"
   ]
   }
,
{
		   "cell_type": "markdown",
		   "metadata": {},
		   "source": [
			"## Example 4.2: output_current.sce"
		   ]
		  },
  {
"cell_type": "code",
	   "execution_count": null,
	   "metadata": {
	    "collapsed": true
	   },
	   "outputs": [],
"source": [
"// Example 4.2, Page No-187\n",
"clear\n",
"clc\n",
"\n",
"Vee=12\n",
"Vcc=5\n",
"Vdiff=Vee-Vcc\n",
"RL=1000\n",
"IL=Vdiff/RL\n",
"IL=IL*1000\n",
"printf('Current through RL is IL= %d mA', IL)"
   ]
   }
,
{
		   "cell_type": "markdown",
		   "metadata": {},
		   "source": [
			"## Example 4.3: determine_the_current.sce"
		   ]
		  },
  {
"cell_type": "code",
	   "execution_count": null,
	   "metadata": {
	    "collapsed": true
	   },
	   "outputs": [],
"source": [
"// Example 4.3, Page No-187\n",
"clear\n",
"clc\n",
"\n",
"V=5\n",
"R=1000\n",
"I=V/R\n",
"I=I*1000\n",
"printf('Current= %d mA', I)\n",
"\n",
"\n",
"\n",
"\n",
"\n",
""
   ]
   }
,
{
		   "cell_type": "markdown",
		   "metadata": {},
		   "source": [
			"## Example 4.4: determine_the_current_through_RL.sce"
		   ]
		  },
  {
"cell_type": "code",
	   "execution_count": null,
	   "metadata": {
	    "collapsed": true
	   },
	   "outputs": [],
"source": [
"// Example 4.4, Page No-187\n",
"clear\n",
"clc\n",
"\n",
"Vcc=15\n",
"Re2=1000\n",
"Vc1=5\n",
"Ve2=5\n",
"I=(Vcc-Ve2)/Re2\n",
"I=I*1000\n",
"printf('Current= %d mA', I)"
   ]
   }
,
{
		   "cell_type": "markdown",
		   "metadata": {},
		   "source": [
			"## Example 4.5: determine_load_gain.sce"
		   ]
		  },
  {
"cell_type": "code",
	   "execution_count": null,
	   "metadata": {
	    "collapsed": true
	   },
	   "outputs": [],
"source": [
"// Example 4.5, Page No-189\n",
"clear\n",
"clc\n",
"\n",
"R1=22*10^3\n",
"Rf=1000\n",
"RL=10*10^3\n",
"Ii=10*10^-6\n",
"\n",
"Ai=1+R1/Rf\n",
"Io=Ai*Ii\n",
"Io=Io*10^6\n",
"printf('Current Io= %f uA', Io)\n",
"\n",
"Io=Io/10^6\n",
"Vmax=Io*RL + Ii*R1\n",
"printf('\nVmax= %.2f V', Vmax)\n",
"printf('\nHence output clipping doesnot occur')"
   ]
   }
,
{
		   "cell_type": "markdown",
		   "metadata": {},
		   "source": [
			"## Example 4.6: voltage_to_current_converter_with_floating_load.sce"
		   ]
		  },
  {
"cell_type": "code",
	   "execution_count": null,
	   "metadata": {
	    "collapsed": true
	   },
	   "outputs": [],
"source": [
"// Example 4.6, Page No-192\n",
"clear\n",
"clc\n",
"\n",
"Rf=10*10^3\n",
"RL=2000\n",
"Vi=0.5\n",
"\n",
"IL=Vi/Rf\n",
"IL=IL*10^6\n",
"printf('Current IL= %d uA', IL)\n",
"\n",
"IL=IL/10^6\n",
"Vmax=IL*RL + IL*Rf\n",
"printf('\nVmax= %.2f V', Vmax)\n",
"printf('\nHence output clipping doesnot occur')"
   ]
   }
,
{
		   "cell_type": "markdown",
		   "metadata": {},
		   "source": [
			"## Example 4.7: summing_amplifier.sce"
		   ]
		  },
  {
"cell_type": "code",
	   "execution_count": null,
	   "metadata": {
	    "collapsed": true
	   },
	   "outputs": [],
"source": [
"// Example 4.7, Page No-194\n",
"clear\n",
"clc\n",
"\n",
"V1=2\n",
"V2=3\n",
"V3=4\n",
"Rf=1000\n",
"R1=Rf\n",
"R2=Rf\n",
"R3=Rf\n",
"R=Rf\n",
"\n",
"Vo=-(Rf/R1)*(V1+V2+V3)\n",
"printf('Vo= %d V', Vo)\n",
"\n",
"\n",
""
   ]
   }
,
{
		   "cell_type": "markdown",
		   "metadata": {},
		   "source": [
			"## Example 4.8: input_impedence.sce"
		   ]
		  },
  {
"cell_type": "code",
	   "execution_count": null,
	   "metadata": {
	    "collapsed": true
	   },
	   "outputs": [],
"source": [
"// Example 4.8, Page No-201\n",
"clear\n",
"clc\n",
"\n",
"// This is a theorotical problem\n",
"\n",
"//(Vi-0)/R1 = (Vi'-0)/R2\n",
"//(Vo-0)/2*R1 = (Vi'-0)/R2\n",
"//Vi'/R2=Vo/2*R1\n",
"//Hence, Vo=2*Vi\n",
"\n",
"//Ii=(Vi-Vo)/R3 + (Vi-0)/R1 \n",
"printf('Hence the input impedence of circuit Ri=R1*R3/(R3-R1)')"
   ]
   }
,
{
		   "cell_type": "markdown",
		   "metadata": {},
		   "source": [
			"## Example 4.9: practical_integrator_circuit.sce"
		   ]
		  },
  {
"cell_type": "code",
	   "execution_count": null,
	   "metadata": {
	    "collapsed": true
	   },
	   "outputs": [],
"source": [
"// Example 4.9, Page No-207\n",
"clear\n",
"clc\n",
"\n",
"R1=10*10^3\n",
"Rf=100*10^3\n",
"Cf=10*10^-9\n",
"\n",
"fa=1/(2*%pi*Rf*Cf)\n",
"printf('fa= %d Hz', fa)"
   ]
   }
],
"metadata": {
		  "kernelspec": {
		   "display_name": "Scilab",
		   "language": "scilab",
		   "name": "scilab"
		  },
		  "language_info": {
		   "file_extension": ".sce",
		   "help_links": [
			{
			 "text": "MetaKernel Magics",
			 "url": "https://github.com/calysto/metakernel/blob/master/metakernel/magics/README.md"
			}
		   ],
		   "mimetype": "text/x-octave",
		   "name": "scilab",
		   "version": "0.7.1"
		  }
		 },
		 "nbformat": 4,
		 "nbformat_minor": 0
}
