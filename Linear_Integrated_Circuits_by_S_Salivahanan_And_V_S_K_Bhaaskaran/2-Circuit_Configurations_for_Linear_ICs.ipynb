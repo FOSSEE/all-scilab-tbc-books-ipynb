{
"cells": [
 {
		   "cell_type": "markdown",
	   "metadata": {},
	   "source": [
       "# Chapter 2: Circuit Configurations for Linear ICs"
	   ]
	},
{
		   "cell_type": "markdown",
		   "metadata": {},
		   "source": [
			"## Example 2.1: current_source_to_proide_output_current.sce"
		   ]
		  },
  {
"cell_type": "code",
	   "execution_count": null,
	   "metadata": {
	    "collapsed": true
	   },
	   "outputs": [],
"source": [
"// Example 2.1, page no-40\n",
"clear\n",
"clc\n",
"Vcc=5\n",
"Vbeon=0.6\n",
"Beta=150\n",
"Io=100*10^-6\n",
"Iref=Io*(1+ 2/Beta) \n",
"Iref=Iref*10^6\n",
"printf('Iref= %.2f uA', Iref)\n",
"R=(Vcc-Vbeon)/Iref\n",
"R=R*1000\n",
"printf('\nResistance= %.2f kohm', R)"
   ]
   }
,
{
		   "cell_type": "markdown",
		   "metadata": {},
		   "source": [
			"## Example 2.2: identical_transistor_circuit.sce"
		   ]
		  },
  {
"cell_type": "code",
	   "execution_count": null,
	   "metadata": {
	    "collapsed": true
	   },
	   "outputs": [],
"source": [
"// Example 2.2, page no-40\n",
"clear\n",
"clc\n",
"Vbe=0.7\n",
"Vcc=12\n",
"Rc1=1000\n",
"Rc2=330\n",
"Iref=(Vcc-Vbe)/Rc1 \n",
"I0=Iref\n",
"V0=Vcc-Rc2*I0\n",
"Iref=Iref/10^-3\n",
"printf('Iref= %.1f mA', Iref)\n",
"printf('\nV0= %.3f V', V0)"
   ]
   }
,
{
		   "cell_type": "markdown",
		   "metadata": {},
		   "source": [
			"## Example 2.3: output_current_of_transistor.sce"
		   ]
		  },
  {
"cell_type": "code",
	   "execution_count": null,
	   "metadata": {
	    "collapsed": true
	   },
	   "outputs": [],
"source": [
"// Example 2.3, page no-40\n",
"clear\n",
"clc\n",
"\n",
"Vbe=0.6\n",
"Vz=4.7\n",
"Re=1000\n",
"\n",
"Vre=Vz-Vbe\n",
"\n",
"I=(Vre)/Re \n",
"I=I/10^-3\n",
"printf('I=%.1f mA', I)"
   ]
   }
,
{
		   "cell_type": "markdown",
		   "metadata": {},
		   "source": [
			"## Example 2.4: resistance_required_to_produce_a_current.sce"
		   ]
		  },
  {
"cell_type": "code",
	   "execution_count": null,
	   "metadata": {
	    "collapsed": true
	   },
	   "outputs": [],
"source": [
"// Example 2.4, page no-42\n",
"clear\n",
"clc\n",
"\n",
"Vcc=20\n",
"R1=19300\n",
"Vbe=0.7\n",
"Ic2=0.000005\n",
"Vt=0.026\n",
"\n",
"Ic1=(Vcc-Vbe)/R1\n",
"\n",
"R2=(Vt/Ic2)*log(Ic1/Ic2)\n",
"\n",
"Ic1=Ic1/10^-3\n",
"R2=R2/10^3\n",
"printf('Ic1= %d mA',Ic1)\n",
"printf('\nR2= %.2f kohm',R2)"
   ]
   }
,
{
		   "cell_type": "markdown",
		   "metadata": {},
		   "source": [
			"## Example 2.5: multiple_current_source.sce"
		   ]
		  },
  {
"cell_type": "code",
	   "execution_count": null,
	   "metadata": {
	    "collapsed": true
	   },
	   "outputs": [],
"source": [
"// Example 2.5, page no-44\n",
"clear\n",
"clc\n",
"\n",
"Beta=100\n",
"R=20000 \n",
"Vcc=5\n",
"Vbe=0.6\n",
"Iref=(Vcc-Vbe)/R\n",
"N=3\n",
"\n",
"Ic=Iref*(1+ 4/Beta)\n",
"Ic1=Iref*(Beta)/(Beta+N+1)\n",
"Ic2=Iref*(Beta)/(Beta+N+1)\n",
"Ic3=Iref*(Beta)/(Beta+N+1)\n",
"\n",
"Iref=Iref/10^-3\n",
"printf('Iref= %.2f mA',Iref)\n",
"Ic1=Ic1/10^-3\n",
"printf('\nIc1=Ic2=Ic3= %.3f mA',Ic1)"
   ]
   }
,
{
		   "cell_type": "markdown",
		   "metadata": {},
		   "source": [
			"## Example 2.6: design_current_source_using_MOSFET.sce"
		   ]
		  },
  {
"cell_type": "code",
	   "execution_count": null,
	   "metadata": {
	    "collapsed": true
	   },
	   "outputs": [],
"source": [
"// Example 2.6, page no-52\n",
"clear\n",
"clc\n",
"\n",
"Iref=0.25*10^-3\n",
"Io=0.2*10^-3\n",
"kn=20*10^-6\n",
"Vth=1\n",
"Vgs2=1.752\n",
"lamb=0\n",
"Vdd=5\n",
"Vss=0\n",
"\n",
"wbyltwo=Io/(kn*(Vgs2-Vth)^2)\n",
"printf('W/L2= %.1f', wbyltwo)\n",
"\n",
"Vdssat=Vgs2-Vth\n",
"printf('\nVds(sat)= %.3f V', Vdssat)\n",
"\n",
"Vgs1=Vgs2\n",
"wbylone=Iref/(kn*(Vgs2-Vth)^2)\n",
"printf('\nW/L1= %.1f', wbylone)\n",
"\n",
"Vgs3=Vdd-Vss-Vgs1\n",
"printf('\nVgs3= %.3f V', Vgs3)\n",
"\n",
"wbylthr=Iref/(kn*(Vgs3-Vth)^2)\n",
"printf('\nW/L3= %.2f', wbylthr)\n",
""
   ]
   }
,
{
		   "cell_type": "markdown",
		   "metadata": {},
		   "source": [
			"## Example 2.7: differential_amplifier_CMRR.sce"
		   ]
		  },
  {
"cell_type": "code",
	   "execution_count": null,
	   "metadata": {
	    "collapsed": true
	   },
	   "outputs": [],
"source": [
"// Example 2.7, page no-75\n",
"clear\n",
"clc\n",
"\n",
"cmrra=1000\n",
"cmrrb=10000\n",
"v1a=100*10^-6\n",
"v2a=-100*10^-6\n",
"v1b=1100*10^-6\n",
"v2b=900*10^-6\n",
"\n",
"// for first set\n",
"vida=v1a-v2a\n",
"vcma=(v1a+v2a)/2\n",
"vic=0\n",
"voa=vida*(1+vic/(cmrra*vida))\n",
"voa=voa*10^6\n",
"printf('Vo for first set= %.1f uV', voa)\n",
"\n",
"// for second set\n",
"vidb=v1b-v2b\n",
"vic=(v1b+v2b)/2\n",
"vob=vidb*(1+vic/(cmrrb*vidb))\n",
"vob=vob*10^6\n",
"printf('\nVo for second set= %.1f uV', vob)\n",
"// answer in textbook is wrong"
   ]
   }
,
{
		   "cell_type": "markdown",
		   "metadata": {},
		   "source": [
			"## Example 2.8: Qpoint_of_differential_amplifier.sce"
		   ]
		  },
  {
"cell_type": "code",
	   "execution_count": null,
	   "metadata": {
	    "collapsed": true
	   },
	   "outputs": [],
"source": [
"// Example 2.8, page no-76\n",
"clear\n",
"clc\n",
"\n",
"Beta=100\n",
"Vee=15\n",
"Vcc=15\n",
"Vbe=0.7\n",
"Re=65*10^3\n",
"Rc=65*10^3\n",
"alpha=100/101\n",
"Ve=-0.7\n",
"\n",
"Ie=(Vee-Vbe)/(2*Re)\n",
"Ic=alpha*Ie\n",
"Ib=Ic/Beta\n",
"\n",
"Vc=Vcc-Ic*Rc\n",
"\n",
"Vce=Vc-Ve\n",
"\n",
"Ie=Ie*10^6\n",
"printf('Ie= %.1f uA', Ie)\n",
"\n",
"Ic=Ic*10^6\n",
"printf('\nIc= %.1f uA', Ic)\n",
"\n",
"Ib=Ib*10^6\n",
"printf('\nIb= %.3f uA', Ib)\n",
"\n",
"printf('\nVc= %.3f V',Vc)\n",
"printf('\nVce= %.3f V',Vce)\n",
"\n",
"// by approximating, because Vee>>Vbe\n",
"\n",
"Ieapprox=Vee/(2*Re)\n",
"Ieapprox=Ieapprox*10^6\n",
"printf('\nIe (approx)= %.2f uA',Ieapprox)"
   ]
   }
,
{
		   "cell_type": "markdown",
		   "metadata": {},
		   "source": [
			"## Example 2.9: Qpoint_for_MOSFET_of_differential_amplifier.sce"
		   ]
		  },
  {
"cell_type": "code",
	   "execution_count": null,
	   "metadata": {
	    "collapsed": true
	   },
	   "outputs": [],
"source": [
"// Example 2.9, page no-89\n",
"clear\n",
"clc\n",
"\n",
"Vdd=12\n",
"Vss=-12\n",
"Iss=175*10^-6\n",
"Rd=65*10^3\n",
"kn=3*10^-3\n",
"Vth=1\n",
"\n",
"Ids=Iss/2\n",
"\n",
"Vgs=Vth + sqrt(Iss/kn)\n",
"\n",
"Vds = Vdd- Ids*Rd + Vgs\n",
"\n",
"// Requirement for saturation\n",
"Vicmax= Vdd - Ids*Rd + Vth\n",
"\n",
"Ids=Ids*10^6\n",
"printf('\nIds=%.1f uA', Ids)\n",
"printf('\nVgs=%.3f V', Vgs)\n",
"printf('\nVds=%.2f V', Vds)\n",
"printf('\nVicmax=%.2f V', Vicmax)\n",
"printf('\nRequirement of saturation for M1 \nfor non-zero Vic necessiates Vic <= 7.312 V')"
   ]
   }
],
"metadata": {
		  "kernelspec": {
		   "display_name": "Scilab",
		   "language": "scilab",
		   "name": "scilab"
		  },
		  "language_info": {
		   "file_extension": ".sce",
		   "help_links": [
			{
			 "text": "MetaKernel Magics",
			 "url": "https://github.com/calysto/metakernel/blob/master/metakernel/magics/README.md"
			}
		   ],
		   "mimetype": "text/x-octave",
		   "name": "scilab",
		   "version": "0.7.1"
		  }
		 },
		 "nbformat": 4,
		 "nbformat_minor": 0
}
