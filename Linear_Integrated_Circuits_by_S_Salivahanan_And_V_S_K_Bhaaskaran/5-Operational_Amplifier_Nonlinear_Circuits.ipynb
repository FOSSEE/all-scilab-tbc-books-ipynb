{
"cells": [
 {
		   "cell_type": "markdown",
	   "metadata": {},
	   "source": [
       "# Chapter 5: Operational Amplifier Nonlinear Circuits"
	   ]
	},
{
		   "cell_type": "markdown",
		   "metadata": {},
		   "source": [
			"## Example 5.1: transfer_characteristics_of_comparator.sce"
		   ]
		  },
  {
"cell_type": "code",
	   "execution_count": null,
	   "metadata": {
	    "collapsed": true
	   },
	   "outputs": [],
"source": [
"// Example 5.1, Page No-234\n",
"clear\n",
"clc\n",
"Vz1=5.5\n",
"Vz2=5.5\n",
"Aol=100000\n",
"Vd=0.7\n",
"Vo=Vz1+Vd  // Plus or minus\n",
"Vich=Vo/Aol\n",
"Vich=Vich*1000\n",
"printf('Delta Vi=%.3f mV', Vich)"
   ]
   }
,
{
		   "cell_type": "markdown",
		   "metadata": {},
		   "source": [
			"## Example 5.2: inverting_schmitt_trigger.sce"
		   ]
		  },
  {
"cell_type": "code",
	   "execution_count": null,
	   "metadata": {
	    "collapsed": true
	   },
	   "outputs": [],
"source": [
"// Example 5.2, Page No-239\n",
"clear\n",
"clc\n",
"\n",
"R1=56*10^3\n",
"R2=150\n",
"Vi=1\n",
"f=50\n",
"Vsat=13.5\n",
"Vref=0\n",
"\n",
"Vut=Vsat*R2/(R1+R2)\n",
"Vut=Vut*1000\n",
"printf('Vut= %d mV', Vut)\n",
"VL=-Vut\n",
"printf('\nVL= %d mV', VL)\n",
"\n",
""
   ]
   }
,
{
		   "cell_type": "markdown",
		   "metadata": {},
		   "source": [
			"## Example 5.3: clipper_circuit.sce"
		   ]
		  },
  {
"cell_type": "code",
	   "execution_count": null,
	   "metadata": {
	    "collapsed": true
	   },
	   "outputs": [],
"source": [
"// Example 5.3, Page No-249\n",
"clear\n",
"clc\n",
"\n",
"Vclipl=0.35\n",
"Vp=0.5\n",
"gain=10\n",
"R=1000\n",
"\n",
"Vounclip=Vp*gain\n",
"printf('When unclipped, output voltage= %.1f V', Vounclip)\n",
"Voclip=Vclipl*gain\n",
"printf('\nWhen clipped, output voltage= %.1f V', Voclip)\n",
"Vb=Voclip-0.7\n",
"printf('\nZener diode breakdown voltage= %.1f V', Vb)\n",
"printf('\nA 2.8V Zener diode should be connected')"
   ]
   }
,
{
		   "cell_type": "markdown",
		   "metadata": {},
		   "source": [
			"## Example 5.4: negative_clamping_circuit.sce"
		   ]
		  },
  {
"cell_type": "code",
	   "execution_count": null,
	   "metadata": {
	    "collapsed": true
	   },
	   "outputs": [],
"source": [
"// Example 5.4, Page No-251\n",
"clear\n",
"clc\n",
"\n",
"Vref=1.5\n",
"\n",
"// Part A\n",
"Vpp=5\n",
"Vnp=2.5\n",
"Vc=Vnp + Vref\n",
"printf('\nCapacitor voltage Vc= %.1f V', Vc) \n",
"\n",
"// Part B\n",
"Vopeak=Vnp + Vref +Vpp\n",
"printf('\nPeak value of clamped output voltage Vo(peak)= %.1f V', Vopeak)\n",
"\n",
"// Part C\n",
"Voc=0.7 + Vref\n",
"printf('\nOp-amp output voltage during charging Vo= %.1f V', Voc) \n",
"\n",
"// Part D\n",
"Vd=Vref-Vopeak\n",
"printf('\nMaximum differential input voltage Vd= %.1f V', Vd) "
   ]
   }
],
"metadata": {
		  "kernelspec": {
		   "display_name": "Scilab",
		   "language": "scilab",
		   "name": "scilab"
		  },
		  "language_info": {
		   "file_extension": ".sce",
		   "help_links": [
			{
			 "text": "MetaKernel Magics",
			 "url": "https://github.com/calysto/metakernel/blob/master/metakernel/magics/README.md"
			}
		   ],
		   "mimetype": "text/x-octave",
		   "name": "scilab",
		   "version": "0.7.1"
		  }
		 },
		 "nbformat": 4,
		 "nbformat_minor": 0
}
