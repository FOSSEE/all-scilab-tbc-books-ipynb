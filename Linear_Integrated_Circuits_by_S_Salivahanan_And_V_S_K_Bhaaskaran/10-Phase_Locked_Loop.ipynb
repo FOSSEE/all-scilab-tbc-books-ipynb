{
"cells": [
 {
		   "cell_type": "markdown",
	   "metadata": {},
	   "source": [
       "# Chapter 10: Phase Locked Loop"
	   ]
	},
{
		   "cell_type": "markdown",
		   "metadata": {},
		   "source": [
			"## Example 10.1: DC_Control_voltage.sce"
		   ]
		  },
  {
"cell_type": "code",
	   "execution_count": null,
	   "metadata": {
	    "collapsed": true
	   },
	   "outputs": [],
"source": [
"// Example 10.1, Page No-429\n",
"clear\n",
"clc\n",
"\n",
"fs=20000\n",
"fr=21000\n",
"VCOf=4000\n",
"Vcd=(fr-fs)/VCOf\n",
"printf('Vcd= %.2f V', Vcd)"
   ]
   }
,
{
		   "cell_type": "markdown",
		   "metadata": {},
		   "source": [
			"## Example 10.2: VCO_Circuit.sce"
		   ]
		  },
  {
"cell_type": "code",
	   "execution_count": null,
	   "metadata": {
	    "collapsed": true
	   },
	   "outputs": [],
"source": [
"// Example 10.2, Page No-430\n",
"clear\n",
"clc\n",
"\n",
"//Part A\n",
"R1=15*10^3\n",
"R3=15*10^3\n",
"R2=2.2*10^3\n",
"C1=0.001*10^-6\n",
"Vcc=12\n",
"Vc=Vcc*(R3/(R2+R3))\n",
"printf('\nVc= %.3f V', Vc)\n",
"fo1=2*(Vcc-Vc)/(C1*R1*Vcc)\n",
"fo1n=fo1/1000\n",
"printf('\nFo= %.2f kHz', fo1n)\n",
"\n",
"//Part B\n",
"Vc1=7\n",
"fo2=2*(Vcc-Vc1)/(C1*R1*Vcc)\n",
"fo2n=fo2/1000\n",
"printf('\nFo= %.3f kHz', fo2n)\n",
"Vc2=8\n",
"fo3=2*(Vcc-Vc2)/(C1*R1*Vcc)\n",
"fo3n=fo3/1000\n",
"printf('\nFo= %.3f kHz', fo3n)\n",
"\n",
"fch=fo2n-fo3n\n",
"printf('\nChange in output frequency= %.3f kHz', fch)"
   ]
   }
,
{
		   "cell_type": "markdown",
		   "metadata": {},
		   "source": [
			"## Example 10.3: PLL565.sce"
		   ]
		  },
  {
"cell_type": "code",
	   "execution_count": null,
	   "metadata": {
	    "collapsed": true
	   },
	   "outputs": [],
"source": [
"// Example 10.3, Page No-438\n",
"clear\n",
"clc\n",
"\n",
"fo=100*10^3\n",
"C=2*10^-6\n",
"Vcc=6\n",
"\n",
"fld=7.8*fo/(2*Vcc)\n",
"fldn=fld/1000\n",
"printf('\nDelta FL= +/- %d kHz', fldn)\n",
"LR=2*fldn\n",
"printf('\nLock Range= %d kHz', LR)\n",
"\n",
"fcd=sqrt(fld/(C*2*%pi*3.6*10^3))\n",
"fcdn=fcd/1000\n",
"printf('\nDelta FC= +/- %.3f kHz', fcdn)\n",
"CR=2*fcdn\n",
"printf('\nCapture Range= %.3f kHz', CR)\n",
"\n",
"R1=12*10^3\n",
"C1=1.2/(4*R1*fo)\n",
"C1n=C1*10^12\n",
"printf('\nC1= %d pF', C1n)"
   ]
   }
,
{
		   "cell_type": "markdown",
		   "metadata": {},
		   "source": [
			"## Example 10.4: IC565.sce"
		   ]
		  },
  {
"cell_type": "code",
	   "execution_count": null,
	   "metadata": {
	    "collapsed": true
	   },
	   "outputs": [],
"source": [
"// Example 10.4, Page No-438\n",
"clear\n",
"clc\n",
"\n",
"R1=15000\n",
"C1=0.01*10^-6\n",
"C=1*10^-6\n",
"V=12\n",
"fo=1.2/(4*R1*C1)\n",
"fon=fo*10^-3\n",
"printf('\nCentre frequency of VCO is= %.2f kHz', fon)\n",
"\n",
"LR=7.8*fo/V\n",
"LR1=LR/1000\n",
"printf('\nLock Range = +/- %.1f kHz', LR1)\n",
"fcd=sqrt(LR/(C*2*%pi*3.6*1000))\n",
"printf('\nDelta FC= %.2f Hz', fcd)\n",
""
   ]
   }
,
{
		   "cell_type": "markdown",
		   "metadata": {},
		   "source": [
			"## Example 10.5: IC565_Output_frequency.sce"
		   ]
		  },
  {
"cell_type": "code",
	   "execution_count": null,
	   "metadata": {
	    "collapsed": true
	   },
	   "outputs": [],
"source": [
"// Example 10.5, Page No-439\n",
"clear\n",
"clc\n",
"\n",
"C1=470*10^-12\n",
"C=20*10^-6\n",
"V=12\n",
"R1=15000\n",
"fo=1.2/(4*R1*C1)\n",
"fon=fo/1000\n",
"printf('\nCentre frequency of VCO is= %.3f kHz', fon)\n",
"\n",
"LR=7.8*fo/V\n",
"LR1=LR/1000\n",
"printf('\nLock Range = +/- %.2f kHz', LR1)\n",
"fcd=sqrt(LR/(C*2*%pi*3.6*1000))\n",
"printf('\nDelta FC= +/- %.2f Hz', fcd)\n",
""
   ]
   }
,
{
		   "cell_type": "markdown",
		   "metadata": {},
		   "source": [
			"## Example 10.6: PLL.sce"
		   ]
		  },
  {
"cell_type": "code",
	   "execution_count": null,
	   "metadata": {
	    "collapsed": true
	   },
	   "outputs": [],
"source": [
"// Example 10.6, Page No-439\n",
"clear\n",
"clc\n",
"\n",
"fr=300\n",
"bw=50\n",
"ip=320\n",
"pdop=fr+ip\n",
"printf('\nPhase detector output= %d kHz', pdop)\n",
"difr=ip-fr\n",
"printf('\nDifference Frequency= %d kHz', difr)\n",
"printf('\nAs Bandwidth is greater than difference frequency,')\n",
"printf('\nPLL can acquire lock')"
   ]
   }
,
{
		   "cell_type": "markdown",
		   "metadata": {},
		   "source": [
			"## Example 10.7: IC565_as_FM_modulator.sce"
		   ]
		  },
  {
"cell_type": "code",
	   "execution_count": null,
	   "metadata": {
	    "collapsed": true
	   },
	   "outputs": [],
"source": [
"// Example 10.7, Page No-440\n",
"clear\n",
"clc\n",
"\n",
"C1=0.01*10^-6\n",
"C=0.04*10^-6\n",
"V=12\n",
"R1=10000\n",
"fo=120/(4*R1*C1)\n",
"fon=fo/1000\n",
"printf('\nCentre frequency of VCO is= %.1f kHz', fon)\n",
"\n",
"fld=7.8*fo/(V)\n",
"fldn=fld/1000\n",
"printf('\nLock Range= %d kHz', fldn)\n",
"\n",
"fcd=sqrt(fld/(C*2*%pi*3.6*10^3))\n",
"fcdn=fcd/1000\n",
"printf('\nCapture Range= %.2f kHz', fcdn)"
   ]
   }
],
"metadata": {
		  "kernelspec": {
		   "display_name": "Scilab",
		   "language": "scilab",
		   "name": "scilab"
		  },
		  "language_info": {
		   "file_extension": ".sce",
		   "help_links": [
			{
			 "text": "MetaKernel Magics",
			 "url": "https://github.com/calysto/metakernel/blob/master/metakernel/magics/README.md"
			}
		   ],
		   "mimetype": "text/x-octave",
		   "name": "scilab",
		   "version": "0.7.1"
		  }
		 },
		 "nbformat": 4,
		 "nbformat_minor": 0
}
