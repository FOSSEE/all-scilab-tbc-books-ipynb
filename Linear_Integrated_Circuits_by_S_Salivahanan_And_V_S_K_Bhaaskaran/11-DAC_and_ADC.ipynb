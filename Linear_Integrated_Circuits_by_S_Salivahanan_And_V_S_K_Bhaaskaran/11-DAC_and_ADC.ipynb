{
"cells": [
 {
		   "cell_type": "markdown",
	   "metadata": {},
	   "source": [
       "# Chapter 11: DAC and ADC"
	   ]
	},
{
		   "cell_type": "markdown",
		   "metadata": {},
		   "source": [
			"## Example 11.10: Successive_approximation_ADC.sce"
		   ]
		  },
  {
"cell_type": "code",
	   "execution_count": null,
	   "metadata": {
	    "collapsed": true
	   },
	   "outputs": [],
"source": [
"// Example 11.10, Page No-494\n",
"clear\n",
"clc\n",
"\n",
"n=8\n",
"cl=2*10^6\n",
"tp=1/cl\n",
"tpn=tp*10^6\n",
"printf('\n Time for one clock pulse= %.1f uS', tpn)\n",
"tm=(n+1)*tp\n",
"tmn=tm*10^6\n",
"printf('\n Time for resetting SAR and conversion= %.1f uS', tmn)"
   ]
   }
,
{
		   "cell_type": "markdown",
		   "metadata": {},
		   "source": [
			"## Example 11.1: Resolutio.sce"
		   ]
		  },
  {
"cell_type": "code",
	   "execution_count": null,
	   "metadata": {
	    "collapsed": true
	   },
	   "outputs": [],
"source": [
"// Example 11.1, Page No-460\n",
"clear\n",
"clc\n",
"\n",
"n=12\n",
"lv=2^n\n",
"Vo=4\n",
"st=10^6*Vo/lv\n",
"printf('\nStep Size= %d uV', st)\n",
"\n",
"dr=Vo/(st*10^-6)\n",
"printf('\nDynamic Range= %d', dr)\n",
"drdb=20*log10(dr)\n",
"printf('\nDynamic Range= %d dB', drdb)"
   ]
   }
,
{
		   "cell_type": "markdown",
		   "metadata": {},
		   "source": [
			"## Example 11.2: DAC_resolutio.sce"
		   ]
		  },
  {
"cell_type": "code",
	   "execution_count": null,
	   "metadata": {
	    "collapsed": true
	   },
	   "outputs": [],
"source": [
"// Example 11.2, Page No-460\n",
"clear\n",
"clc\n",
"\n",
"n=8\n",
"lv=2^n - 1\n",
"Vo=2.55\n",
"st=10^3*Vo/lv\n",
"printf('\nStep Size= %d mV', st)"
   ]
   }
,
{
		   "cell_type": "markdown",
		   "metadata": {},
		   "source": [
			"## Example 11.3: Ladder_type_DAC.sce"
		   ]
		  },
  {
"cell_type": "code",
	   "execution_count": null,
	   "metadata": {
	    "collapsed": true
	   },
	   "outputs": [],
"source": [
"// Example 11.3, Page No-460\n",
"clear\n",
"clc\n",
"\n",
"n=4\n",
"R=10000\n",
"Vr=10\n",
"//Part A\n",
"reso=Vr*10^6/(R*2^n)\n",
"printf('\nResolution of 1 LSB= %.1f uA', reso)\n",
"\n",
"//Part B\n",
"k=bin2dec('1101')\n",
"Io=reso*k/1000\n",
"printf('\nOutput Io for digital input 1101= %.4f uA', Io)\n",
""
   ]
   }
,
{
		   "cell_type": "markdown",
		   "metadata": {},
		   "source": [
			"## Example 11.4: 8bit_DAC.sce"
		   ]
		  },
  {
"cell_type": "code",
	   "execution_count": null,
	   "metadata": {
	    "collapsed": true
	   },
	   "outputs": [],
"source": [
"// Example 11.4, Page No-461\n",
"clear\n",
"clc\n",
"\n",
"reso=10\n",
"//Part A\n",
"k1=bin2dec('10001010')\n",
"Vo=k1*reso\n",
"Von=Vo/1000\n",
"printf('\nVo= %.2f V', Von)\n",
"\n",
"//Part B\n",
"k2=bin2dec('000100000')\n",
"Vo1=k2*reso\n",
"Von1=Vo1/1000\n",
"printf('\nVo= %.2f V', Von1)\n",
""
   ]
   }
,
{
		   "cell_type": "markdown",
		   "metadata": {},
		   "source": [
			"## Example 11.5: 4bit_converter.sce"
		   ]
		  },
  {
"cell_type": "code",
	   "execution_count": null,
	   "metadata": {
	    "collapsed": true
	   },
	   "outputs": [],
"source": [
"// Example 11.5, Page No-463\n",
"clear\n",
"clc\n",
"\n",
"//Part A\n",
"printf('\nPart A')\n",
"R=10000\n",
"Vr=10\n",
"n=4\n",
"lsb=0.5\n",
"Rf=(R*2^n)*lsb/Vr\n",
"Rfn=Rf/1000\n",
"printf('\nRf= %d kohm', Rfn)\n",
"\n",
"printf('\nPart B')\n",
"b1=1\n",
"Rf1=R*6/(Vr*lsb)\n",
"Rfn1=Rf1/1000\n",
"printf('\nRf= %d kohm', Rfn1)\n",
"\n",
"printf('\nPart C')\n",
"Vfs=12\n",
"Rf2=R*Vfs/Vr\n",
"Rfn2=Rf2/1000\n",
"printf('\nRf= %d kohm', Rfn2)\n",
"printf('\nPart D')\n",
"Vfs1=10\n",
"bb=0.9375\n",
"Rf3=R*Vfs1/(Vr*bb)\n",
"Rfn3=Rf3/1000\n",
"printf('\nRf= %.3f kohm', Rfn3)\n",
"\n",
""
   ]
   }
,
{
		   "cell_type": "markdown",
		   "metadata": {},
		   "source": [
			"## Example 11.6: Inverted_R2R_ladder.sce"
		   ]
		  },
  {
"cell_type": "code",
	   "execution_count": null,
	   "metadata": {
	    "collapsed": true
	   },
	   "outputs": [],
"source": [
"// Example 11.6, Page No-466\n",
"clear\n",
"clc\n",
"\n",
"Vr=10\n",
"R=10*10^3\n",
"I1=Vr/(2*R)\n",
"I1n=I1*1000\n",
"printf('\nI1= %.1f mA', I1n)\n",
"I2=I1/2\n",
"I2n=I2*1000\n",
"printf('\nI2= %.2f mA', I2n)\n",
"I3=I1/4\n",
"I3n=I3*1000\n",
"printf('\nI3= %.2f mA', I3n)\n",
"\n",
"Io=I1+I2+I3\n",
"Ion=Io*1000\n",
"printf('\nIo= %.3f mA', Ion)\n",
"\n",
"Vo=-1*Io*R\n",
"printf('\nOutput Voltage Vo= %.2f V', Vo)"
   ]
   }
,
{
		   "cell_type": "markdown",
		   "metadata": {},
		   "source": [
			"## Example 11.7: Output_voltage_for_digital_input.sce"
		   ]
		  },
  {
"cell_type": "code",
	   "execution_count": null,
	   "metadata": {
	    "collapsed": true
	   },
	   "outputs": [],
"source": [
"// Example 11.7, Page No-473\n",
"clear\n",
"clc\n",
"\n",
"lsb=8*10^-6\n",
"Ifs=lsb*255\n",
"R=5000\n",
"ip1= bin2dec('00000000')\n",
"Io1=ip1*lsb\n",
"Io1d=Ifs-Io1\n",
"Vo=-Io1d*R\n",
"printf('\nCase 1: Vo= %.2f V', Vo)\n",
"\n",
"ip2= bin2dec('01111111')\n",
"Io2=(ip2*lsb)*1000\n",
"Io2d=Ifs*1000-Io2\n",
"Vo2=-(Io2d*R)/1000\n",
"printf('\nCase 2: Vo= -0.04 V')\n",
"\n",
"ip3= bin2dec('10000000')\n",
"Io3=ip3*lsb\n",
"Io3d=Ifs-Io3\n",
"Vo3=-Io3d*R\n",
"printf('\nCase 3: Vo= 0.04 V')\n",
"\n",
"ip4= bin2dec('111111111')\n",
"Io4=ip4*lsb\n",
"Io4d=Ifs-Io4\n",
"Vo4=Io1d*R\n",
"printf('\nCase 4: Vo= %.2f V', Vo4)\n",
"\n",
"\n",
"\n",
"\n",
"\n",
"\n",
""
   ]
   }
,
{
		   "cell_type": "markdown",
		   "metadata": {},
		   "source": [
			"## Example 11.8: Resolution_and_dynamic_range.sce"
		   ]
		  },
  {
"cell_type": "code",
	   "execution_count": null,
	   "metadata": {
	    "collapsed": true
	   },
	   "outputs": [],
"source": [
"// Example 11.8, Page No-478\n",
"clear\n",
"clc\n",
"\n",
"n=16\n",
"lv=2^n\n",
"V=2\n",
"st=V/lv\n",
"lvn=st*10^6\n",
"printf('\nStep Size= %.2f uV', lvn)\n",
"dr=20*log10(lv)\n",
"printf('\nDynamic Range= %d dB', dr)"
   ]
   }
,
{
		   "cell_type": "markdown",
		   "metadata": {},
		   "source": [
			"## Example 11.9: 8bit_ADC.sce"
		   ]
		  },
  {
"cell_type": "code",
	   "execution_count": null,
	   "metadata": {
	    "collapsed": true
	   },
	   "outputs": [],
"source": [
"// Example 11.9, Page No-482\n",
"clear\n",
"clc\n",
"\n",
"Vm=10\n",
"n=8\n",
"lv=2^n\n",
"lsb=Vm/lv\n",
"lsbn= lsb*1000\n",
"printf('\nPart A: 1 LSB= %.1f mV', lsbn )\n",
"\n",
"Vifs=Vm-lsb\n",
"printf('\nPart B: Vifs= %.3f V', Vifs )\n",
"\n",
"ip=4.8\n",
"d=1+ ip/lsb\n",
"printf('\nPart C: D= %d', d)\n",
"d=123\n",
"op=dec2bin(d,8)\n",
"printf('\n Digital Output= %s', op)"
   ]
   }
],
"metadata": {
		  "kernelspec": {
		   "display_name": "Scilab",
		   "language": "scilab",
		   "name": "scilab"
		  },
		  "language_info": {
		   "file_extension": ".sce",
		   "help_links": [
			{
			 "text": "MetaKernel Magics",
			 "url": "https://github.com/calysto/metakernel/blob/master/metakernel/magics/README.md"
			}
		   ],
		   "mimetype": "text/x-octave",
		   "name": "scilab",
		   "version": "0.7.1"
		  }
		 },
		 "nbformat": 4,
		 "nbformat_minor": 0
}
