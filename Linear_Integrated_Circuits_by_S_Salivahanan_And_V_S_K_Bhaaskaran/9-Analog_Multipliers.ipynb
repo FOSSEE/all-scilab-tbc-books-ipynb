{
"cells": [
 {
		   "cell_type": "markdown",
	   "metadata": {},
	   "source": [
       "# Chapter 9: Analog Multipliers"
	   ]
	},
{
		   "cell_type": "markdown",
		   "metadata": {},
		   "source": [
			"## Example 9.1: DC_Component.sce"
		   ]
		  },
  {
"cell_type": "code",
	   "execution_count": null,
	   "metadata": {
	    "collapsed": true
	   },
	   "outputs": [],
"source": [
"// Example 9.1, Page No-411\n",
"clear\n",
"clc\n",
"\n",
"//Part 1\n",
"th1=acos(0)\n",
"th=th1*180/%pi\n",
"printf('Theta= + or - %d degree', th)\n",
"\n",
"//Part 2\n",
"Vodc=4.47*4.47*cos(th1)/20\n",
"//For theta=+/-30 deg\n",
"Vodc1=cos(30*%pi/180)\n",
"printf('\nVodc for 30 degree= %.3f V', Vodc1)\n",
"//For theta=+/-45 deg\n",
"Vodc2=cos(45*%pi/180)\n",
"printf('\nVodc for 45 degree= %.3f V', Vodc2)\n",
"//For theta=+/-60 deg\n",
"Vodc3=cos(60*%pi/180)\n",
"printf('\nVodc for 60 degree= %.1f V', Vodc3)"
   ]
   }
],
"metadata": {
		  "kernelspec": {
		   "display_name": "Scilab",
		   "language": "scilab",
		   "name": "scilab"
		  },
		  "language_info": {
		   "file_extension": ".sce",
		   "help_links": [
			{
			 "text": "MetaKernel Magics",
			 "url": "https://github.com/calysto/metakernel/blob/master/metakernel/magics/README.md"
			}
		   ],
		   "mimetype": "text/x-octave",
		   "name": "scilab",
		   "version": "0.7.1"
		  }
		 },
		 "nbformat": 4,
		 "nbformat_minor": 0
}
