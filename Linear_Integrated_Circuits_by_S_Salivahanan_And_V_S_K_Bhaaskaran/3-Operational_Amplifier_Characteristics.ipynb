{
"cells": [
 {
		   "cell_type": "markdown",
	   "metadata": {},
	   "source": [
       "# Chapter 3: Operational Amplifier Characteristics"
	   ]
	},
{
		   "cell_type": "markdown",
		   "metadata": {},
		   "source": [
			"## Example 3.10: open_loop_dc_voltage_gain.sce"
		   ]
		  },
  {
"cell_type": "code",
	   "execution_count": null,
	   "metadata": {
	    "collapsed": true
	   },
	   "outputs": [],
"source": [
"// Example 3.10, page no-126\n",
"clear\n",
"clc\n",
"\n",
"ugb=1.5*10^6\n",
"f1=2*10^3\n",
"A0=ugb/f1\n",
"printf('Openloop Dc Voltage gain= %d ',A0)"
   ]
   }
,
{
		   "cell_type": "markdown",
		   "metadata": {},
		   "source": [
			"## Example 3.11: time_taken_to_change_output.sce"
		   ]
		  },
  {
"cell_type": "code",
	   "execution_count": null,
	   "metadata": {
	    "collapsed": true
	   },
	   "outputs": [],
"source": [
"// Example 3.11, page no-134\n",
"clear\n",
"clc\n",
"\n",
"Voch=10\n",
"slew=0.5\n",
"time=Voch/slew\n",
"printf('Time= %d us',time)"
   ]
   }
,
{
		   "cell_type": "markdown",
		   "metadata": {},
		   "source": [
			"## Example 3.12: undistorted_sine_wave.sce"
		   ]
		  },
  {
"cell_type": "code",
	   "execution_count": null,
	   "metadata": {
	    "collapsed": true
	   },
	   "outputs": [],
"source": [
"// Example 3.12, page no-135\n",
"clear\n",
"clc\n",
"//Part A\n",
"slew=0.5\n",
"Vm=12\n",
"fmax=slew/(2*%pi*Vm)\n",
"fmax=fmax*1000\n",
"printf('Fmax= %.1f kHz',fmax)\n",
"\n",
"// Part B\n",
"Vm1=2\n",
"fmax1=slew/(2*%pi*Vm1)\n",
"fmax1=fmax1*1000\n",
"printf('\nFmax1= %.1f kHz',fmax1)"
   ]
   }
,
{
		   "cell_type": "markdown",
		   "metadata": {},
		   "source": [
			"## Example 3.13: max_input_signal_for_undistorted_output.sce"
		   ]
		  },
  {
"cell_type": "code",
	   "execution_count": null,
	   "metadata": {
	    "collapsed": true
	   },
	   "outputs": [],
"source": [
"// Example 3.13, page no-135\n",
"clear\n",
"clc\n",
"\n",
"slew=0.5\n",
"f=10*10^3\n",
"Vmmax=slew/(2*%pi*f)\n",
"Vmmax=Vmmax*10^6\n",
"printf('Vm(max)= %.2f Hz',Vmmax)\n",
"\n",
""
   ]
   }
,
{
		   "cell_type": "markdown",
		   "metadata": {},
		   "source": [
			"## Example 3.14: amplify_square_wave_with_rise_time.sce"
		   ]
		  },
  {
"cell_type": "code",
	   "execution_count": null,
	   "metadata": {
	    "collapsed": true
	   },
	   "outputs": [],
"source": [
"// Example 3.14, page no-135\n",
"clear\n",
"clc\n",
"\n",
"slew=0.5\n",
"riset=4\n",
"printf('\nVo is greater than 1V')\n",
"Vswing=(0.9-0.1)*5\n",
"slewreq=Vswing/riset\n",
"printf('\nSlew Rate Required= %d V/us',slewreq)\n",
""
   ]
   }
,
{
		   "cell_type": "markdown",
		   "metadata": {},
		   "source": [
			"## Example 3.15: effect_of_output_voltage_change_on_slew_rate.sce"
		   ]
		  },
  {
"cell_type": "code",
	   "execution_count": null,
	   "metadata": {
	    "collapsed": true
	   },
	   "outputs": [],
"source": [
"// Example 3.15, page no-135\n",
"clear\n",
"clc\n",
"\n",
"Vch=20\n",
"time=4\n",
"slew=Vch/time\n",
"printf('\nSlew Rate = %d V/us',slew)"
   ]
   }
,
{
		   "cell_type": "markdown",
		   "metadata": {},
		   "source": [
			"## Example 3.16: max_input_frequency_for_undistorted_output.sce"
		   ]
		  },
  {
"cell_type": "code",
	   "execution_count": null,
	   "metadata": {
	    "collapsed": true
	   },
	   "outputs": [],
"source": [
"// Example 3.16, page no-136\n",
"clear\n",
"clc\n",
"\n",
"A=50\n",
"slew=0.5\n",
"Vid=20*10^-3\n",
"Vm=A*Vid\n",
"\n",
"fmax=(slew*10^6)/(2*%pi*Vm)\n",
"fmax=fmax/1000\n",
"printf('Fmax= %.1f kHz', fmax)"
   ]
   }
,
{
		   "cell_type": "markdown",
		   "metadata": {},
		   "source": [
			"## Example 3.17: max_input_voltage_for_undistorted_output.sce"
		   ]
		  },
  {
"cell_type": "code",
	   "execution_count": null,
	   "metadata": {
	    "collapsed": true
	   },
	   "outputs": [],
"source": [
"// Example 3.17, page no-136\n",
"clear\n",
"clc\n",
"\n",
"slew=0.5\n",
"f=4.0*10^4\n",
"Vm=(slew*10^6)/(2*%pi*f)\n",
"printf('Vpeak= %.2f V',Vm)\n",
"Vmpp=2*Vm/10\n",
"printf('\nVoltage peak-to-peak= %.3f V',Vmpp)"
   ]
   }
,
{
		   "cell_type": "markdown",
		   "metadata": {},
		   "source": [
			"## Example 3.18: noise_gain_of_circuit.sce"
		   ]
		  },
  {
"cell_type": "code",
	   "execution_count": null,
	   "metadata": {
	    "collapsed": true
	   },
	   "outputs": [],
"source": [
"// Example 3.18, page no-138\n",
"clear\n",
"clc\n",
"\n",
"Rf=10*10^3\n",
"R1=100\n",
"Vni=1*10^-6\n",
"Kn=1+Rf/R1\n",
"Vno=Vni*(1+Rf/R1)\n",
"Vno=Vno*10^6\n",
"printf('Output noise voltage= %d uV (rms)', Vno)"
   ]
   }
,
{
		   "cell_type": "markdown",
		   "metadata": {},
		   "source": [
			"## Example 3.19: closed_loop_voltage_gai.sce"
		   ]
		  },
  {
"cell_type": "code",
	   "execution_count": null,
	   "metadata": {
	    "collapsed": true
	   },
	   "outputs": [],
"source": [
"// Example 3.19, page no-142\n",
"clear\n",
"clc\n",
"\n",
"Rf=10*10^3\n",
"R1=1*10^3\n",
"Av=-Rf/R1\n",
"printf('Closed loop voltage gain= %d',Av)"
   ]
   }
,
{
		   "cell_type": "markdown",
		   "metadata": {},
		   "source": [
			"## Example 3.1: input_stage_with_bias_circuit.sce"
		   ]
		  },
  {
"cell_type": "code",
	   "execution_count": null,
	   "metadata": {
	    "collapsed": true
	   },
	   "outputs": [],
"source": [
"// Example 3.1, page no-107\n",
"clear\n",
"clc\n",
"\n",
"Vp=15\n",
"Vm=-15\n",
"R5=40*10^3\n",
"Vbe11=0.7\n",
"Vbe12=Vbe11\n",
"\n",
"Iref= (Vp-Vbe12-Vbe11-Vm)/R5\n",
"\n",
"Iref=Iref*10^3\n",
"printf('Iref= %.3f mA', Iref)\n",
""
   ]
   }
,
{
		   "cell_type": "markdown",
		   "metadata": {},
		   "source": [
			"## Example 3.20: closed_loop_voltage_gain_and_beta.sce"
		   ]
		  },
  {
"cell_type": "code",
	   "execution_count": null,
	   "metadata": {
	    "collapsed": true
	   },
	   "outputs": [],
"source": [
"// Example 3.20, page no-147\n",
"clear\n",
"clc\n",
"\n",
"Rf=10*10^3\n",
"R1=1*10^3\n",
"Av=1+ Rf/R1\n",
"printf('Closed loop voltage gain= %d',Av)\n",
"\n",
"Beta=R1/(Rf+R1)\n",
"printf('\nFeedback factor= %.3f',Beta)\n",
"\n",
""
   ]
   }
,
{
		   "cell_type": "markdown",
		   "metadata": {},
		   "source": [
			"## Example 3.21: noninverting_amplifier_circuit.sce"
		   ]
		  },
  {
"cell_type": "code",
	   "execution_count": null,
	   "metadata": {
	    "collapsed": true
	   },
	   "outputs": [],
"source": [
"// Example 3.21, page no-147\n",
"clear\n",
"clc\n",
"\n",
"R1=10*10^3\n",
"R2=1*10^3\n",
"R3=1*10^3\n",
"Rf=50*10^3\n",
"I=1/(R2+R3)\n",
"Vi1=I*R2\n",
"Vo=Vi1*(1+ Rf/R1)\n",
"printf('Vout= %d V',Vo)"
   ]
   }
,
{
		   "cell_type": "markdown",
		   "metadata": {},
		   "source": [
			"## Example 3.22: noninverting_amplifier_with_IL.sce"
		   ]
		  },
  {
"cell_type": "code",
	   "execution_count": null,
	   "metadata": {
	    "collapsed": true
	   },
	   "outputs": [],
"source": [
"// Example 3.22, page no-147\n",
"clear\n",
"clc\n",
"\n",
"Vi=0.6\n",
"Vi1=0.6\n",
"Vi2=0.6\n",
"R1=10*10^3\n",
"Rf=20*10^3\n",
"RL=2*10^3\n",
"I1=Vi/R1\n",
"I1=I1*1000\n",
"Av=1+Rf/R1\n",
"printf('Av=%d',Av)\n",
"Vo=Av*Vi\n",
"printf('\nVo=%.1f V',Vo)\n",
"IL=Vo/RL\n",
"IL=IL*1000\n",
"printf('\nI1=%.1f mA',IL)\n",
"\n",
"//By Kirchhoff's current law\n",
"Io=I1+IL\n",
"printf('\nIo=%.2f mA', Io)"
   ]
   }
,
{
		   "cell_type": "markdown",
		   "metadata": {},
		   "source": [
			"## Example 3.23: capacitor_coupled_voltage_follower.sce"
		   ]
		  },
  {
"cell_type": "code",
	   "execution_count": null,
	   "metadata": {
	    "collapsed": true
	   },
	   "outputs": [],
"source": [
"// Example 3.23, page no-151\n",
"clear\n",
"clc\n",
"\n",
"fL=50\n",
"RL=3.3*10^3\n",
"Ibmax=500*10^-9\n",
"R1max=140*10^3\n",
"C1=1/(2*%pi*fL*R1max/10)\n",
"C1=C1*10^6\n",
"printf('C1=%.3f uF',C1)\n",
"\n",
"C2=1/(2*%pi*fL*RL)\n",
"C2=C2*10^6\n",
"printf('\nC2=%.2f uF',C2)"
   ]
   }
,
{
		   "cell_type": "markdown",
		   "metadata": {},
		   "source": [
			"## Example 3.24: high_impedence_capacitor_coupled_voltage_follower.sce"
		   ]
		  },
  {
"cell_type": "code",
	   "execution_count": null,
	   "metadata": {
	    "collapsed": true
	   },
	   "outputs": [],
"source": [
"// Example 3.24, page no-153\n",
"clear\n",
"clc\n",
"Vbe=0.6\n",
"Ibmax=500*10^-9\n",
"fL=50\n",
"RL=3.3*10^3\n",
"R1max=0.1*Vbe/Ibmax\n",
"R1=R1max/2\n",
"R2=R1\n",
"\n",
"C3=1/(2*%pi*fL*RL)\n",
"C3=C3*10^6\n",
"printf('\nC3=%.2f uF',C3)\n",
"\n",
"C2=1/(2*%pi*fL*R2/10)\n",
"C2=C2*10^6  \n",
"printf('\nC2=%.2f uF',C2)\n",
"// answer in textbook is wrong\n",
"\n",
"Mmin=50000\n",
"Zinmin=(1+Mmin)*56*10^3\n",
"Zinmin=Zinmin/10^6\n",
"printf('\nZin(min)= %d Mohm',Zinmin)"
   ]
   }
,
{
		   "cell_type": "markdown",
		   "metadata": {},
		   "source": [
			"## Example 3.25: high_impedence_capacitor_coupled_noninverting_amplifier.sce"
		   ]
		  },
  {
"cell_type": "code",
	   "execution_count": null,
	   "metadata": {
	    "collapsed": true
	   },
	   "outputs": [],
"source": [
"// Example 3.25, page no-156\n",
"clear\n",
"clc\n",
"\n",
"Vo=3\n",
"Vi=10*10^-3\n",
"R2=1*10^6\n",
"Av=300\n",
"fL=100\n",
"RL=15*10^3\n",
"R3=R2/(Av-1)\n",
"\n",
"R1=R2-R3\n",
"C2=1/(2*%pi*fL*R3)\n",
"C2=C2*10^6\n",
"printf('\nC2= %.2f uF',C2)\n",
"\n",
"C3=1/(2*%pi*fL*RL/10)\n",
"C3=C3*10^6\n",
"printf('\nC3= %.2f uF',C3)"
   ]
   }
,
{
		   "cell_type": "markdown",
		   "metadata": {},
		   "source": [
			"## Example 3.26: capacitor_coupled_inverting_amplifier.sce"
		   ]
		  },
  {
"cell_type": "code",
	   "execution_count": null,
	   "metadata": {
	    "collapsed": true
	   },
	   "outputs": [],
"source": [
"// Example 3.26, page no-159\n",
"clear\n",
"clc\n",
"\n",
"fL=20\n",
"fH=2000\n",
"RL=300\n",
"R1=1.5*10^3\n",
"R2=56*10^3\n",
"\n",
"C1=1/(2*%pi*fL*R1/10)\n",
"C1=C1*10^6\n",
"printf('\nC1= %d uF',C1)\n",
"\n",
"C2=1/(2*%pi*fL*RL)\n",
"C2=C2*10^6\n",
"printf('\nC2= %.1f uF',C2)\n",
"\n",
"Cf=1/(2*%pi*fH*R2)\n",
"Cf=Cf*10^12\n",
"printf('\nCf= %d pF',Cf)"
   ]
   }
,
{
		   "cell_type": "markdown",
		   "metadata": {},
		   "source": [
			"## Example 3.27: capacitor_coupled_noninverting_amplifier.sce"
		   ]
		  },
  {
"cell_type": "code",
	   "execution_count": null,
	   "metadata": {
	    "collapsed": true
	   },
	   "outputs": [],
"source": [
"// Example 3.27, page no-162\n",
"clear\n",
"clc\n",
"\n",
"Ibmax=500*10^-9\n",
"Vcc=24\n",
"I2=50*10^-6\n",
"Vo=6\n",
"Av=100\n",
"fL=100\n",
"RL=5.6*10^3\n",
"\n",
"I2=100*Ibmax\n",
"R1=Vcc/(2*I2)\n",
"R2=R1\n",
"Vi=Vo/Av\n",
"\n",
"I4=100*Ibmax\n",
"R4=Vi/I4\n",
"\n",
"R3=118.8*10^3\n",
"R1pR2=(R1+R2)/4\n",
"\n",
"C1=1/(2*%pi*fL*R1pR2/10)\n",
"C1=C1*10^6\n",
"printf('\nC1= %.3f uF',C1)\n",
"\n",
"C2=1/(2*%pi*fL*RL/10)\n",
"C2=C2*10^6\n",
"printf('\nC2= %.3f uF',C2)\n",
"\n",
"C3=1/(2*%pi*fL*R4)\n",
"C3=C3*10^6\n",
"printf('\nC3= %.3f uF',C3)"
   ]
   }
,
{
		   "cell_type": "markdown",
		   "metadata": {},
		   "source": [
			"## Example 3.28: common_mode_gain_Acm.sce"
		   ]
		  },
  {
"cell_type": "code",
	   "execution_count": null,
	   "metadata": {
	    "collapsed": true
	   },
	   "outputs": [],
"source": [
"// Example 3.28, page no-166\n",
"clear\n",
"clc\n",
"\n",
"cmrr=10^5\n",
"Adm=10^5\n",
"Acm=Adm/cmrr\n",
"printf('Common mode gain Acm= %d', Acm)"
   ]
   }
,
{
		   "cell_type": "markdown",
		   "metadata": {},
		   "source": [
			"## Example 3.29: differential_amplifier_with_two_opamp.sce"
		   ]
		  },
  {
"cell_type": "code",
	   "execution_count": null,
	   "metadata": {
	    "collapsed": true
	   },
	   "outputs": [],
"source": [
"// Example 3.29, page no-168\n",
"clear\n",
"clc\n",
"\n",
"R1=560\n",
"R3=560\n",
"Rf=5.6*10^3\n",
"R2=Rf\n",
"Vo1=-2\n",
"Ri=2*10^6\n",
"Vo2=-1\n",
"\n",
"// Part 1\n",
"Ad=1+Rf/R1\n",
"printf('\nAd= %d', Ad)\n",
"\n",
"// Part 2\n",
"A=200000\n",
"Ri1=Ri*(1+ (A*R2)/(R2+R3))\n",
"Ri1=Ri1/10^9\n",
"printf('\nRi1=%.1f Gohm', Ri1)\n",
"\n",
"Ri2=Ri*(1+ (A*R1)/(R1+Rf))\n",
"Ri2=Ri2/10^9\n",
"printf('\nRi2=%.2f Gohm', Ri2)\n",
"\n",
"// Part 3\n",
"Vid=Vo2-Vo1\n",
"Vo=(1+Rf/R1)*Vid\n",
"Vo=Vo\n",
"printf('\nVo=%d V',Vo)\n",
"\n",
""
   ]
   }
,
{
		   "cell_type": "markdown",
		   "metadata": {},
		   "source": [
			"## Example 3.2: gain_stage_of_Opamp.sce"
		   ]
		  },
  {
"cell_type": "code",
	   "execution_count": null,
	   "metadata": {
	    "collapsed": true
	   },
	   "outputs": [],
"source": [
"// Example 3.2, page no-107\n",
"clear\n",
"clc\n",
"\n",
"Iref= 0.715*10^-3\n",
"Ic13b= 0.75*Iref\n",
"Ic17=Ic13b\n",
"Ie17=Ic13b\n",
"Beta=150\n",
"Vbe17=0.7\n",
"R9=50*10^3\n",
"R8=100\n",
"Ic16= (Ic17/Beta) + (Ie17*R8 + Vbe17)/R9\n",
"Ic16=Ic16*1000000/1.232\n",
"printf('\nIc16= %.1f uA', Ic16)"
   ]
   }
,
{
		   "cell_type": "markdown",
		   "metadata": {},
		   "source": [
			"## Example 3.3: output_stage_of_opamp.sce"
		   ]
		  },
  {
"cell_type": "code",
	   "execution_count": null,
	   "metadata": {
	    "collapsed": true
	   },
	   "outputs": [],
"source": [
"// Example 3.3, page no-108\n",
"clear\n",
"clc\n",
"\n",
"Iref=0.000715\n",
"Vbe19=0.7\n",
"Is18=10^-14\n",
"Is19=10^-14\n",
"R10=50000\n",
"\n",
"Is14=2*10^-14\n",
"Is20=2*10^-14\n",
"\n",
"Ic13a=0.25*Iref\n",
"Vbe=0.7\n",
"Ir10=Vbe19/R10\n",
"Ic19=Ic13a-Ir10\n",
"Vbe19=0.612\n",
"Beta=200\n",
"\n",
"Ib19=Ic19/Beta\n",
"Ic18=Ir10+Ib19\n",
"Vbe18=0.549\n",
"Vbb=Vbe18+Vbe19\n",
"printf('Vbb= %.3f V', Vbb)\n",
"Ic14=Is20*exp(Vbb/2*0.026)\n",
"Ic14=Ic14*10^15/0.2042\n",
"printf('\nIc14= %.2f uA', Ic14)\n",
"\n",
""
   ]
   }
,
{
		   "cell_type": "markdown",
		   "metadata": {},
		   "source": [
			"## Example 3.4: average_bias_current.sce"
		   ]
		  },
  {
"cell_type": "code",
	   "execution_count": null,
	   "metadata": {
	    "collapsed": true
	   },
	   "outputs": [],
"source": [
"// Example 3.4, page no-115\n",
"clear\n",
"clc\n",
"\n",
"Ib1=400*10^-9\n",
"Ib2=300*10^-9\n",
"Ib=(Ib1+Ib2)/2\n",
"Ios=Ib1-Ib2\n",
"Ib=Ib*10^9\n",
"Ios=Ios*10^9\n",
"printf('Ib= %.1f nA', Ib)\n",
"printf('\nIos= %.1f nA', Ios)\n",
""
   ]
   }
,
{
		   "cell_type": "markdown",
		   "metadata": {},
		   "source": [
			"## Example 3.5: maximum_output_offset_voltage.sce"
		   ]
		  },
  {
"cell_type": "code",
	   "execution_count": null,
	   "metadata": {
	    "collapsed": true
	   },
	   "outputs": [],
"source": [
"// Example 3.5, page no-115\n",
"clear\n",
"clc\n",
"\n",
"Ios=400*10^-9\n",
"Rf=100*10^3\n",
"R1=1*10^3\n",
"Vo=Rf*Ios\n",
"Vo=Vo*1000\n",
"printf('Vo= %.1f mV', Vo)"
   ]
   }
,
{
		   "cell_type": "markdown",
		   "metadata": {},
		   "source": [
			"## Example 3.6: bias_current_compensation.sce"
		   ]
		  },
  {
"cell_type": "code",
	   "execution_count": null,
	   "metadata": {
	    "collapsed": true
	   },
	   "outputs": [],
"source": [
"// Example 3.6, page no-117\n",
"clear\n",
"clc\n",
"\n",
"Rf=10*10^3\n",
"R1=2*10^3\n",
"Vos=5*10^-3\n",
"Ios=50*10^-9\n",
"Ib=200*10^-9\n",
"Ta=25\n",
"\n",
"// without compensating resistor\n",
"Vot=(1+Rf/R1)*Vos + Rf*Ib\n",
"Vot=Vot*1000\n",
"printf('Vot= %.1f mV', Vot)\n",
"\n",
"\n",
"// with compensating resistor\n",
"Vot=(1+Rf/R1)*Vos + Rf*Ios\n",
"Vot=Vot*1000\n",
"printf('\nVot= %.1f mV', Vot)\n",
"\n",
""
   ]
   }
,
{
		   "cell_type": "markdown",
		   "metadata": {},
		   "source": [
			"## Example 3.7: Opamp_drift_specificatio.sce"
		   ]
		  },
  {
"cell_type": "code",
	   "execution_count": null,
	   "metadata": {
	    "collapsed": true
	   },
	   "outputs": [],
"source": [
"// Example 3.7, page no-119\n",
"clear\n",
"clc\n",
"//Part A\n",
"Vos=1.5*10^-3\n",
"Rf=1*10^6\n",
"R1=100*10^3\n",
"Vo=Vos*(1+Rf/R1)\n",
"Vo=Vo*1000\n",
"printf('Vo= %.1f mV',Vo)\n",
"\n",
"//Part B\n",
"Iosch= 10*10^-9\n",
"Vosch=Iosch*Rf\n",
"Vosch=Vosch*1000\n",
"printf('\nChange in Vo= %.1f mV',Vosch)\n",
"printf('\n Worst case drift is 26.5 mV or -26.5 mV')\n",
"\n",
"\n",
""
   ]
   }
,
{
		   "cell_type": "markdown",
		   "metadata": {},
		   "source": [
			"## Example 3.8: frequency_response.sce"
		   ]
		  },
  {
"cell_type": "code",
	   "execution_count": null,
	   "metadata": {
	    "collapsed": true
	   },
	   "outputs": [],
"source": [
"// Example 3.8, page no-125\n",
"clear\n",
"clc\n",
"f=1000\n",
"//from graph\n",
"gain_db=60\n",
"gain=1000\n",
"printf('Gain= %d',gain)"
   ]
   }
,
{
		   "cell_type": "markdown",
		   "metadata": {},
		   "source": [
			"## Example 3.9: unity_gain_bandwidth.sce"
		   ]
		  },
  {
"cell_type": "code",
	   "execution_count": null,
	   "metadata": {
	    "collapsed": true
	   },
	   "outputs": [],
"source": [
"// Example 3.9, page no-126\n",
"clear\n",
"clc\n",
"\n",
"riset=0.7*10^-6\n",
"bw=0.35/riset\n",
"bw=bw/1000\n",
"printf('Bandwidth= %d kHz',bw)\n",
""
   ]
   }
],
"metadata": {
		  "kernelspec": {
		   "display_name": "Scilab",
		   "language": "scilab",
		   "name": "scilab"
		  },
		  "language_info": {
		   "file_extension": ".sce",
		   "help_links": [
			{
			 "text": "MetaKernel Magics",
			 "url": "https://github.com/calysto/metakernel/blob/master/metakernel/magics/README.md"
			}
		   ],
		   "mimetype": "text/x-octave",
		   "name": "scilab",
		   "version": "0.7.1"
		  }
		 },
		 "nbformat": 4,
		 "nbformat_minor": 0
}
