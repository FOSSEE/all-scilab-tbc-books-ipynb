{
"cells": [
 {
		   "cell_type": "markdown",
	   "metadata": {},
	   "source": [
       "# Chapter 1: Integrated Circuit Fabrication"
	   ]
	},
{
		   "cell_type": "markdown",
		   "metadata": {},
		   "source": [
			"## Example 1.1: sheet_resistance_of_Ptype_diffusion.sce"
		   ]
		  },
  {
"cell_type": "code",
	   "execution_count": null,
	   "metadata": {
	    "collapsed": true
	   },
	   "outputs": [],
"source": [
"// Example 1.1, page no-23\n",
"clear\n",
"clc\n",
"\n",
"Rs=200\n",
"R=5000\n",
"luponw= R/Rs\n",
"printf('L upon W =%d', luponw)\n",
"printf('\n5kohm resistor can be fabricated by using a pattern of %d mil*1mil',luponw)"
   ]
   }
,
{
		   "cell_type": "markdown",
		   "metadata": {},
		   "source": [
			"## Example 1.2: sheet_resistance_of_polysilicon_layer.sce"
		   ]
		  },
  {
"cell_type": "code",
	   "execution_count": null,
	   "metadata": {
	    "collapsed": true
	   },
	   "outputs": [],
"source": [
"// Example 1.2, page no-23\n",
"clear\n",
"clc\n",
"\n",
"Rs=30\n",
"R=1000\n",
"luponw=R/Rs\n",
"printf('L upon W =100/3')\n",
"printf('\n1kohm resistor can be fabricated by using a pattern of 100 mil* 3 mil')"
   ]
   }
],
"metadata": {
		  "kernelspec": {
		   "display_name": "Scilab",
		   "language": "scilab",
		   "name": "scilab"
		  },
		  "language_info": {
		   "file_extension": ".sce",
		   "help_links": [
			{
			 "text": "MetaKernel Magics",
			 "url": "https://github.com/calysto/metakernel/blob/master/metakernel/magics/README.md"
			}
		   ],
		   "mimetype": "text/x-octave",
		   "name": "scilab",
		   "version": "0.7.1"
		  }
		 },
		 "nbformat": 4,
		 "nbformat_minor": 0
}
