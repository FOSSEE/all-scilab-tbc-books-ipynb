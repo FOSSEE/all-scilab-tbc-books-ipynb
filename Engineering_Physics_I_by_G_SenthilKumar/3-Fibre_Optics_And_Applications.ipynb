{
"cells": [
 {
		   "cell_type": "markdown",
	   "metadata": {},
	   "source": [
       "# Chapter 3: Fibre Optics And Applications"
	   ]
	},
{
		   "cell_type": "markdown",
		   "metadata": {},
		   "source": [
			"## Example 3.1: Finding_Numerical_Aperture.sce"
		   ]
		  },
  {
"cell_type": "code",
	   "execution_count": null,
	   "metadata": {
	    "collapsed": true
	   },
	   "outputs": [],
"source": [
"// Chapter 3 Example 1\n",
"//==============================================================================\n",
"clc;\n",
"clear;\n",
"\n",
"//input data\n",
"n1      = 1.6;      // Refractive index of core\n",
"n2      = 1.5;      // Refractive index of cladding\n",
"\n",
"// Calculations\n",
"NA      = sqrt(n1^2 - n2^2);        // Numerical Aperture of optical fiber\n",
"\n",
"// Output\n",
"mprintf('Numerical Aperture of the optical fiber = %3.4f',NA);\n",
"//=============================================================================="
   ]
   }
,
{
		   "cell_type": "markdown",
		   "metadata": {},
		   "source": [
			"## Example 3.2: Finding_Numerical_Aperture_and_Acceptance_angle.sce"
		   ]
		  },
  {
"cell_type": "code",
	   "execution_count": null,
	   "metadata": {
	    "collapsed": true
	   },
	   "outputs": [],
"source": [
"// Chapter 3 Example 2\n",
"//==============================================================================\n",
"clc;\n",
"clear;\n",
"\n",
"//input data\n",
"n1      = 1.55;      // Refractive index of core\n",
"n2      = 1.5;       // Refractive index of cladding\n",
"\n",
"// Calculations\n",
"NA      = sqrt(n1^2 - n2^2);        // Numerical Aperture of optical fiber\n",
"im      = asin(NA);                 // Acceptance angle\n",
"im_d    = im*180/%pi                // radian to degree conversion\n",
"\n",
"// Output\n",
"mprintf('Numerical Aperture of the optical fiber = %3.4f\n Acceptance angle = %3.2f degrees ',NA,im_d);\n",
"//=============================================================================="
   ]
   }
,
{
		   "cell_type": "markdown",
		   "metadata": {},
		   "source": [
			"## Example 3.3: Calculating_Refractive_Index_of_Cladding.sce"
		   ]
		  },
  {
"cell_type": "code",
	   "execution_count": null,
	   "metadata": {
	    "collapsed": true
	   },
	   "outputs": [],
"source": [
"// Chapter 3 Example 3\n",
"//==============================================================================\n",
"clc;\n",
"clear;\n",
"\n",
"//input data\n",
"NA      = 0.26;      // Numerical aperture \n",
"n1      = 1.5 ;      // Refractive index of core\n",
"d       = 100*10^-6; // diameter of the core in m\n",
"\n",
"// Calculations\n",
"n2      = sqrt( n1^2 - NA^2);       // Refractive index of cladding\n",
"\n",
"// Output\n",
"mprintf('Refractive index of cladding = %3.4f',n2);\n",
"//=============================================================================="
   ]
   }
,
{
		   "cell_type": "markdown",
		   "metadata": {},
		   "source": [
			"## Example 3.4: Finding_Numerical_Aperture.sce"
		   ]
		  },
  {
"cell_type": "code",
	   "execution_count": null,
	   "metadata": {
	    "collapsed": true
	   },
	   "outputs": [],
"source": [
"// Chapter 3 Example 4\n",
"//==============================================================================\n",
"clc;\n",
"clear;\n",
"\n",
"//input data\n",
"n1      = 1.54;      // Refractive index of core\n",
"n2      = 1.5;      // Refractive index of cladding\n",
"\n",
"// Calculations\n",
"NA      = sqrt(n1^2 - n2^2);        // Numerical Aperture of optical fiber\n",
"\n",
"// Output\n",
"mprintf('Numerical Aperture of the optical fiber = %3.4f',NA);\n",
"//=============================================================================="
   ]
   }
,
{
		   "cell_type": "markdown",
		   "metadata": {},
		   "source": [
			"## Example 3.a_1: Finding_Refractive_index_acceptance_angle_and_max_no_of_modes.sce"
		   ]
		  },
  {
"cell_type": "code",
	   "execution_count": null,
	   "metadata": {
	    "collapsed": true
	   },
	   "outputs": [],
"source": [
"// Chapter 3 Additional Example 1 \n",
"//==============================================================================\n",
"clc;\n",
"clear;\n",
"\n",
"//input data\n",
"n1      = 1.5;       // Refractive index of core\n",
"NA      = 0.26;      // Numerical aperture \n",
"d       = 100*10^-6  // core diameter\n",
"lamda   = 10^-6;     // wavelength in m\n",
"\n",
"// Calculations\n",
"n2      = sqrt( n1^2 - NA^2);       // Refractive index of cladding\n",
"im      = asin(NA);                 // Acceptance angle\n",
"im_d    = im*180/%pi                // radian to degree conversion\n",
"N       = 4.9*(d*NA/lamda)^2;       // maximum no of modes\n",
"\n",
"// Output\n",
"mprintf('Refractive index of cladding n2 = %3.4f\n Acceptance angle = %3.2f degrees\n Maximum number of modes that fibre allows = %d ',n2,im_d,N);\n",
"//=============================================================================="
   ]
   }
,
{
		   "cell_type": "markdown",
		   "metadata": {},
		   "source": [
			"## Example 3.a_2: Finding_Critical_angle.sce"
		   ]
		  },
  {
"cell_type": "code",
	   "execution_count": null,
	   "metadata": {
	    "collapsed": true
	   },
	   "outputs": [],
"source": [
"// Chapter 3 Additional Example 2 \n",
"//==============================================================================\n",
"clc;\n",
"clear;\n",
"\n",
"//input data\n",
"delta       = 0.02;         // relative refractive index\n",
"n1          = 1.48;         // refractive index of core\n",
"\n",
"// Calculations\n",
"NA          = n1*(2*delta)^0.5;     // Numerical aperture\n",
"n2          = sqrt( n1^2 - NA^2);   // Refractive index of cladding\n",
"cri_ang     = asin(n2/n1);          // critical angle\n",
"cri_ang_d   = cri_ang*180/%pi;      // critical angle in degrees\n",
"\n",
"// output\n",
"mprintf('Numerical Aperture = %3.3f\n The Critical angle = %3.2f degrees',NA,cri_ang_d);\n",
"//=============================================================================="
   ]
   }
,
{
		   "cell_type": "markdown",
		   "metadata": {},
		   "source": [
			"## Example 3.a_3: Calculating_Refractive_indices_of_core_and_cladding.sce"
		   ]
		  },
  {
"cell_type": "code",
	   "execution_count": null,
	   "metadata": {
	    "collapsed": true
	   },
	   "outputs": [],
"source": [
"// Chapter 3 Additional Example 3\n",
"//==============================================================================\n",
"clc;\n",
"clear;\n",
"\n",
"//input data\n",
"delta       = 0.015;        // relative refractive index\n",
"NA          = 0.27;         // Numerical aperture\n",
"\n",
"// Calculations\n",
"//we know that NA = n1*sqrt(2*Δ)\n",
"n1          = NA/sqrt(2*delta)      // refractive index of core\n",
"n2          = sqrt( n1^2 - NA^2);   // Refractive index of cladding\n",
"// Output\n",
"mprintf('Refractive index of the core = %3.3f\n Refractive index of the cladding = %3.3f\n',n1,n2);\n",
"//=============================================================================="
   ]
   }
,
{
		   "cell_type": "markdown",
		   "metadata": {},
		   "source": [
			"## Example 3.a_4: Calculating_no_of_modes_in_a_fibre.sce"
		   ]
		  },
  {
"cell_type": "code",
	   "execution_count": null,
	   "metadata": {
	    "collapsed": true
	   },
	   "outputs": [],
"source": [
"// Chapter 3 Additional Example 4 \n",
"//==============================================================================\n",
"clc;\n",
"clear;\n",
"\n",
"//input data\n",
"NA      = 0.25;      // Numerical aperture \n",
"d       = 60*10^-6   // core diameter\n",
"lamda   = 2.7*10^-6; // wavelength in m\n",
"\n",
"// calculations\n",
"N       = 4.9*(d*NA/lamda)^2;       // no of modes for step index fibre\n",
"\n",
"// Output\n",
"mprintf('No. of total modes propagating in a multimode step index fibre = %d',N);\n",
"//=============================================================================="
   ]
   }
,
{
		   "cell_type": "markdown",
		   "metadata": {},
		   "source": [
			"## Example 3.a_5: Calculating_No_of_Modes.sce"
		   ]
		  },
  {
"cell_type": "code",
	   "execution_count": null,
	   "metadata": {
	    "collapsed": true
	   },
	   "outputs": [],
"source": [
"// Chapter 3 Additional Example 5\n",
"//==============================================================================\n",
"clc;\n",
"clear;\n",
"\n",
"//input data\n",
"NA      = 0.25;      // Numerical aperture \n",
"d       = 6*10^-6   // core diameter\n",
"lamda   = 1.5*10^-6; // wavelength of laser source\n",
"n1      = 1.47;      // refractive index of core\n",
"n2      = 1.43       // refractive index of cladding\n",
"\n",
"// calculations\n",
"NA      = sqrt( n1^2 - n2^2);       // Numerical Aperture\n",
"N       = 4.9*(d*NA/lamda)^2;       // no of modes for step index fibre\n",
"\n",
"// Output\n",
"mprintf('No. of total modes propagating in the fibre = %d',N);\n",
"//=============================================================================="
   ]
   }
],
"metadata": {
		  "kernelspec": {
		   "display_name": "Scilab",
		   "language": "scilab",
		   "name": "scilab"
		  },
		  "language_info": {
		   "file_extension": ".sce",
		   "help_links": [
			{
			 "text": "MetaKernel Magics",
			 "url": "https://github.com/calysto/metakernel/blob/master/metakernel/magics/README.md"
			}
		   ],
		   "mimetype": "text/x-octave",
		   "name": "scilab",
		   "version": "0.7.1"
		  }
		 },
		 "nbformat": 4,
		 "nbformat_minor": 0
}
