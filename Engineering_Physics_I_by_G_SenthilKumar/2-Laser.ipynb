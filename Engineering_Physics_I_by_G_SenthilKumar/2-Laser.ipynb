{
"cells": [
 {
		   "cell_type": "markdown",
	   "metadata": {},
	   "source": [
       "# Chapter 2: Laser"
	   ]
	},
{
		   "cell_type": "markdown",
		   "metadata": {},
		   "source": [
			"## Example 1.1: Calculating_Number_of_electron_hole_pairs.sce"
		   ]
		  },
  {
"cell_type": "code",
	   "execution_count": null,
	   "metadata": {
	    "collapsed": true
	   },
	   "outputs": [],
"source": [
"// Chapter 2 Example 1 \n",
"//==============================================================================\n",
"clc;\n",
"clear;\n",
"\n",
"//input data\n",
"\n",
"A           = 4*10^-6;              // Receiving area of photo detector\n",
"I           = 200;                  // Intensity in W/m^2\n",
"h           = 6.625*10^-34;         // plank's constant\n",
"c           = 3*10^8;               // vel. of light in m/s\n",
"lamda       = 0.4*10^-6;            // wavelength of light in m\n",
"\n",
"//Calculations\n",
"v           = c/lamda;              // frequency\n",
"NOP         = I*A/(h*v)             // number of photons\n",
"\n",
"//since each photon generates an electron hole pair, the number of photons is equal to number of electron hole pairs\n",
"\n",
"//Output\n",
"\n",
"mprintf('Number of electron hole pairs = %e ',NOP);\n",
"\n",
"//=============================================================================="
   ]
   }
,
{
		   "cell_type": "markdown",
		   "metadata": {},
		   "source": [
			"## Example 1.2: Calculating_Wavelength.sce"
		   ]
		  },
  {
"cell_type": "code",
	   "execution_count": null,
	   "metadata": {
	    "collapsed": true
	   },
	   "outputs": [],
"source": [
"// Chapter 2 Example 1 \n",
"//==============================================================================\n",
"clc;\n",
"clear;\n",
"\n",
"//input data\n",
"Eg          = 2.8;                  // bandgap energy in eV\n",
"h           = 6.625*10^-34;         // plank's constant\n",
"c           = 3*10^8;               // vel. of light in m/s\n",
"q           = 1.602*10^-19;         // charge of electron\n",
"\n",
"//Calculations\n",
"E           = Eg*q                 // eV to joules conversion\n",
"lamda       = h*c/E;                // wavelength\n",
"\n",
"//Output\n",
"\n",
"mprintf('wavelength = %3.1f Å(Blue Colour)',lamda*10^10);\n",
"\n",
"//=============================================================================="
   ]
   }
,
{
		   "cell_type": "markdown",
		   "metadata": {},
		   "source": [
			"## Example 1.3: Finding_Energy_Band_gap.sce"
		   ]
		  },
  {
"cell_type": "code",
	   "execution_count": null,
	   "metadata": {
	    "collapsed": true
	   },
	   "outputs": [],
"source": [
"// Chapter 2 Example 3 \n",
"//==============================================================================\n",
"clc;\n",
"clear;\n",
"\n",
"//input data\n",
"h           = 6.625*10^-34;         // plank's constant\n",
"c           = 3*10^8;               // vel. of light in m/s\n",
"lamda       = 1.55*10^-6;           // wavelength of light in m\n",
"q           = 1.6*10^-19;           // charge of electron\n",
"\n",
"//Calculations\n",
"Eg          = (h*c)/lamda;          // band gap energy in joules\n",
"E           = Eg/q                  // bang gap energy in eV\n",
"\n",
"//Output\n",
"\n",
"mprintf('Energy bandgap Eg   = %3.4f eV',E);\n",
"\n",
"//=============================================================================="
   ]
   }
,
{
		   "cell_type": "markdown",
		   "metadata": {},
		   "source": [
			"## Example 2.4: Finding_number_of_photons.sce"
		   ]
		  },
  {
"cell_type": "code",
	   "execution_count": null,
	   "metadata": {
	    "collapsed": true
	   },
	   "outputs": [],
"source": [
"// Chapter 2 Example 4 \n",
"//==============================================================================\n",
"clc;\n",
"clear;\n",
"\n",
"//input data\n",
"h           = 6.625*10^-34;         // plank's constant\n",
"c           = 3*10^8;               // vel. of light in m/s\n",
"lamda       = 4961*10^-10;          // wavelength of light in m\n",
"\n",
"//Calculations\n",
"E           = (h*c)/lamda;          // energy in joules\n",
"N           = 1/E\n",
"//Output\n",
"\n",
"mprintf('Number of photons required to do one Joule of work  = %3.4e /m^3',N);\n",
"\n",
"//=============================================================================="
   ]
   }
,
{
		   "cell_type": "markdown",
		   "metadata": {},
		   "source": [
			"## Example 2.5: Calculating_Long_Wavelength.sce"
		   ]
		  },
  {
"cell_type": "code",
	   "execution_count": null,
	   "metadata": {
	    "collapsed": true
	   },
	   "outputs": [],
"source": [
"// Chapter 2 Example 5\n",
"//==============================================================================\n",
"clc;\n",
"clear;\n",
"\n",
"//input data\n",
"E           = 0.02;                 // ionisation energy in eV\n",
"h           = 6.625*10^-34;         // plank's constant\n",
"c           = 3*10^8;               // vel. of light in m/s\n",
"q           = 1.6*10^-19;           // charge of electron\n",
"\n",
"//Calculations\n",
"\n",
"lamda       = h*c/(E*q)             // long wavelength limit in m\n",
"\n",
"//Output\n",
"\n",
"mprintf('long wavelength limit = %3.3e m',lamda);\n",
"\n",
"//==============================================================================\n",
""
   ]
   }
,
{
		   "cell_type": "markdown",
		   "metadata": {},
		   "source": [
			"## Example 2.6: Finding_Wavelength.sce"
		   ]
		  },
  {
"cell_type": "code",
	   "execution_count": null,
	   "metadata": {
	    "collapsed": true
	   },
	   "outputs": [],
"source": [
"// Chapter 2 Example 6\n",
"//==============================================================================\n",
"clc;\n",
"clear;\n",
"\n",
"//input data\n",
"E           = 1.44;                 // Bandgap energy in eV\n",
"h           = 6.625*10^-34;         // plank's constant\n",
"c           = 3*10^8;               // vel. of light in m/s\n",
"q           = 1.6*10^-19;           // charge of electron\n",
"\n",
"//Calculations\n",
"\n",
"lamda       = h*c/(E*q)             // Wavelength of GaAs laser\n",
"\n",
"//Output\n",
"\n",
"mprintf('Wavelength of GaAs laser = %3.1f Å',lamda*10^10);\n",
"\n",
"//==============================================================================\n",
""
   ]
   }
,
{
		   "cell_type": "markdown",
		   "metadata": {},
		   "source": [
			"## Example 2.a_1: Finding_Energy_of_first_Excited_State.sce"
		   ]
		  },
  {
"cell_type": "code",
	   "execution_count": null,
	   "metadata": {
	    "collapsed": true
	   },
	   "outputs": [],
"source": [
"// Chapter 2 addl_Example 1\n",
"//==============================================================================\n",
"clc;\n",
"clear;\n",
"\n",
"//input data\n",
"h           = 6.625*10^-34;         // planck's constant\n",
"c           = 3*10^8;               // vel. of light in m/s\n",
"lamda       = 5890*10^-10;          // wavelength of light in m\n",
"q           = 1.6*10^-19;           // charge of electron\n",
"\n",
"\n",
"//Calculations\n",
"Eg          = (h*c)/lamda;          // energy in joules\n",
"E           = Eg/q                  // energy in eV\n",
"\n",
"//Output\n",
"\n",
"mprintf('Energy of the first excited state  = %3.3f eV',E);\n",
"\n",
"//=============================================================================="
   ]
   }
,
{
		   "cell_type": "markdown",
		   "metadata": {},
		   "source": [
			"## Example 2.a_2: Finding_ratio_of_stimulated_emission_to_spontaneous_emission.sce"
		   ]
		  },
  {
"cell_type": "code",
	   "execution_count": null,
	   "metadata": {
	    "collapsed": true
	   },
	   "outputs": [],
"source": [
"// Chapter 2 addl_Example 2\n",
"//==============================================================================\n",
"clc;\n",
"clear;\n",
"\n",
"//input data\n",
"h           = 6.625*10^-34;         // planck's constant\n",
"c           = 3*10^8;               // vel. of light in m/s\n",
"lamda       = 5890*10^-10;          // wavelength of light in m\n",
"k           = 1.38*10^-23;          // Boltzmann constant\n",
"Tc          = 280                   // Temperature in centigrades\n",
"\n",
"//Calculations\n",
"T           = Tc+273;               // temperature in kelvin\n",
"R           = 1/((exp((h*c)/(k*T*lamda))) - 1);     // ratio of stimulated emission to spontaneous emission\n",
"\n",
"//Output\n",
"\n",
"mprintf('The ratio between the stimulated emission and apontaneous emission = %3.3e',R);\n",
"\n",
"//==============================================================================\n",
""
   ]
   }
,
{
		   "cell_type": "markdown",
		   "metadata": {},
		   "source": [
			"## Example 2.a_3: Finding_Number_of_photons_emitted.sce"
		   ]
		  },
  {
"cell_type": "code",
	   "execution_count": null,
	   "metadata": {
	    "collapsed": true
	   },
	   "outputs": [],
"source": [
"// Chapter 2 addl_Example 3\n",
"//==============================================================================\n",
"clc;\n",
"clear;\n",
"\n",
"//input data\n",
"h           = 6.625*10^-34;         // planck's constant\n",
"c           = 3*10^8;               // vel. of light in m/s\n",
"lamda       = 6328*10^-10;          // wavelength of He-Ne laser source in m\n",
"q           = 1.6*10^-19;           // charge of electron\n",
"P           = 3*10^-3               // output power of the He-Ne source in watts or J/sec\n",
"\n",
"\n",
"//Calculations\n",
"v           = c/lamda               // frequency of the photon emitted by the laser beam\n",
"E           = h*v;                  // energy of a photon in joules\n",
"Po          = P*60;                 // conversion fro J/sec to J/min\n",
"N           = Po/E;                 // No of photons emitted per minute \n",
"\n",
"//Output\n",
"\n",
"mprintf('The No. of Photons emitted per minute = %3.3e photons/minute',N);\n",
"\n",
"//=============================================================================="
   ]
   }
,
{
		   "cell_type": "markdown",
		   "metadata": {},
		   "source": [
			"## Example 2.a_4: Finding_no_of_photons_emitted.sce"
		   ]
		  },
  {
"cell_type": "code",
	   "execution_count": null,
	   "metadata": {
	    "collapsed": true
	   },
	   "outputs": [],
"source": [
"// Chapter 2 addl_Example 4\n",
"//==============================================================================\n",
"clc;\n",
"clear;\n",
"\n",
"//input data\n",
"h           = 6.625*10^-34;         // planck's constant\n",
"c           = 3*10^8;               // vel. of light in m/s\n",
"lamda       = 9.6*10^-6;            // wavelength of CO2 laser source in m\n",
"q           = 1.6*10^-19;           // charge of electron\n",
"P           = 10*10^3               // output power of the CO2 laser source in watts or J/sec\n",
"\n",
"\n",
"//Calculations\n",
"v           = c/lamda               // frequency of the photon emitted by the laser beam\n",
"E           = h*v;                  // energy of a photon in joules\n",
"Po          = P*60*60;              // conversion fro J/sec to J/hour\n",
"N           = Po/E;                 // No of photons emitted per hour \n",
"\n",
"//Output\n",
"\n",
"mprintf('The No. of Photons emitted per hour = %3.3e photons/hour',N);\n",
"\n",
"//=============================================================================="
   ]
   }
,
{
		   "cell_type": "markdown",
		   "metadata": {},
		   "source": [
			"## Example 2.a_5: Examining_possibility_of_MASER_action.sce"
		   ]
		  },
  {
"cell_type": "code",
	   "execution_count": null,
	   "metadata": {
	    "collapsed": true
	   },
	   "outputs": [],
"source": [
"// Chapter 2 addl_Example 5\n",
"//==============================================================================\n",
"clc;\n",
"clear;\n",
"\n",
"//input data\n",
"h           = 6.625*10^-34;         // planck's constant\n",
"c           = 3*10^8;               // vel. of light in m/s\n",
"lamda       = 10*10^-2;             // wavelength for microwave region in m\n",
"T           = 300                   // Temperature in Kelvin\n",
"Kb          = 1.38*10^-23           // Boltzmann constant\n",
"\n",
"// Calculations\n",
"// let R    = Rsp/Rst \n",
"R           = exp((h*c)/(lamda*Kb*T)) - 1;     // ratio of spontaneous to stimulated emission\n",
"if R<1 then\n",
"    mprintf('Since the spontaneous emission is lesser than stimulated emission \n hence MASER action is possible at thermal equilibrium' )\n",
"end\n",
"//==============================================================================\n",
"    "
   ]
   }
,
{
		   "cell_type": "markdown",
		   "metadata": {},
		   "source": [
			"## Example 2.a_6: Possibility_of_Laser_action_in_optical_frequencies.sce"
		   ]
		  },
  {
"cell_type": "code",
	   "execution_count": null,
	   "metadata": {
	    "collapsed": true
	   },
	   "outputs": [],
"source": [
"// Chapter 2 addl_Example 6\n",
"//==============================================================================\n",
"clc;\n",
"clear;\n",
"\n",
"//input data\n",
"h           = 6.625*10^-34;         // planck's constant\n",
"c           = 3*10^8;               // vel. of light in m/s\n",
"lamda       = 5000*10^-10;          // wavelength for optical region in m\n",
"T           = 300                   // Temperature in Kelvin\n",
"Kb          = 1.38*10^-23           // Boltzmann constant\n",
"\n",
"// Calculations\n",
"// let R    = Rsp/Rst \n",
"R           = exp((h*c)/(lamda*Kb*T)) - 1;     // ratio of spontaneous to stimulated emission\n",
"if R<1 then\n",
"    mprintf('Since the spontaneous emission is lesser than stimulated emission \n hence LASER action is possible at thermal equilibrium' )\n",
"else\n",
"    \n",
"    mprintf('Since the spontaneous emission is more predominant than stimulated emission \n hence LASER action is not possible at optical frequencies under thermal equilibrium' )\n",
"end\n",
"\n",
"//==============================================================================\n",
"    "
   ]
   }
,
{
		   "cell_type": "markdown",
		   "metadata": {},
		   "source": [
			"## Example 2.a_7: Finding_Energy.sce"
		   ]
		  },
  {
"cell_type": "code",
	   "execution_count": null,
	   "metadata": {
	    "collapsed": true
	   },
	   "outputs": [],
"source": [
"// Chapter 2 Additional Example 7 \n",
"//==============================================================================\n",
"clc;\n",
"clear;\n",
"\n",
"//input data\n",
"h           = 6.625*10^-34;         // plank's constant\n",
"c           = 3*10^8;               // vel. of light in m/s\n",
"lamda       = 5511.11*10^-10;       // wavelength of green LED light in m\n",
"q           = 1.6*10^-19;           // charge of electron\n",
"\n",
"//Calculations\n",
"Eg          = (h*c)/lamda;          // band gap energy in joules\n",
"E           = Eg/q                  // bang gap energy in eV\n",
"\n",
"//Output\n",
"\n",
"mprintf('Energy bandgap Eg   = %3.2f eV',E);\n",
"\n",
"//=============================================================================="
   ]
   }
],
"metadata": {
		  "kernelspec": {
		   "display_name": "Scilab",
		   "language": "scilab",
		   "name": "scilab"
		  },
		  "language_info": {
		   "file_extension": ".sce",
		   "help_links": [
			{
			 "text": "MetaKernel Magics",
			 "url": "https://github.com/calysto/metakernel/blob/master/metakernel/magics/README.md"
			}
		   ],
		   "mimetype": "text/x-octave",
		   "name": "scilab",
		   "version": "0.7.1"
		  }
		 },
		 "nbformat": 4,
		 "nbformat_minor": 0
}
