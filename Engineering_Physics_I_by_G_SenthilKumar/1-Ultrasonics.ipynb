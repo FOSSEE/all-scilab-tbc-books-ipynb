{
"cells": [
 {
		   "cell_type": "markdown",
	   "metadata": {},
	   "source": [
       "# Chapter 1: Ultrasonics"
	   ]
	},
{
		   "cell_type": "markdown",
		   "metadata": {},
		   "source": [
			"## Example 1.1: Calculating_frequency_of_the_Oscillator.sce"
		   ]
		  },
  {
"cell_type": "code",
	   "execution_count": null,
	   "metadata": {
	    "collapsed": true
	   },
	   "outputs": [],
"source": [
"// Chapter 1 Example 1 \n",
"//==============================================================================\n",
"clc;\n",
"clear;\n",
"\n",
"//input data\n",
"\n",
"P           = 1;            // for fundamental mode\n",
"t           = 0.1*10^-2;    // thickness of piezo electric crystal\n",
"E           = 80*10^9       // young's modulus\n",
"p           = 2654          // density in kg/m^3\n",
"\n",
"//Calculations\n",
"\n",
"f           = (P/(2*t))*sqrt(E/p);      // frequency of the oscillator circuit\n",
"\n",
"//Output\n",
"mprintf('The Frequency of the oscillator circuit = %e Hz',f);\n",
"\n",
"//=============================================================================="
   ]
   }
,
{
		   "cell_type": "markdown",
		   "metadata": {},
		   "source": [
			"## Example 1.2: Calculating_Frequency_of_the_vibrating_crystal.sce"
		   ]
		  },
  {
"cell_type": "code",
	   "execution_count": null,
	   "metadata": {
	    "collapsed": true
	   },
	   "outputs": [],
"source": [
"// Chapter 1 Example 2 \n",
"//==============================================================================\n",
"clc;\n",
"clear;\n",
"\n",
"//input data\n",
"\n",
"P           = 1;            // for fundamental mode\n",
"t           = 0.1*10^-2;    // thickness of piezo electric crystal\n",
"E           = 7.9*10^10     // young's modulus\n",
"p           = 2650          // density in kg/m^3\n",
"\n",
"//Calculations\n",
"\n",
"f           = (P/(2*t))*sqrt(E/p);      // frequency of the oscillator circuit\n",
"\n",
"//Output\n",
"mprintf('The Frequency of the vibrating crystal = %3.3f MHz',f/10^6);\n",
"\n",
"//=============================================================================="
   ]
   }
,
{
		   "cell_type": "markdown",
		   "metadata": {},
		   "source": [
			"## Example 1.3: Finding_velocity_of_ultrasonic_wave.sce"
		   ]
		  },
  {
"cell_type": "code",
	   "execution_count": null,
	   "metadata": {
	    "collapsed": true
	   },
	   "outputs": [],
"source": [
"// Chapter 1 Example 3\n",
"//==============================================================================\n",
"clc;\n",
"clear;\n",
"\n",
"//input data\n",
"\n",
"f       = 1.5*10^6;         //frequency of ultrasonics in Hz\n",
"d6      = 2.75*10^-3;       // distance between 6 consecutive nodes\n",
"\n",
"//Calculations\n",
"d       = d6/5;             // distance b/w two nodes\n",
"lamda   = 2*d;              // wavelength in m\n",
"v       = f*lamda;          // velocity of ultrasonics\n",
"\n",
"//Output\n",
"mprintf('Velocity of ultrasonics  = %3.0f m/sec',v);\n",
"\n",
"//==============================================================================       "
   ]
   }
,
{
		   "cell_type": "markdown",
		   "metadata": {},
		   "source": [
			"## Example 1.a_1: calculating_fundamental_frequency.sce"
		   ]
		  },
  {
"cell_type": "code",
	   "execution_count": null,
	   "metadata": {
	    "collapsed": true
	   },
	   "outputs": [],
"source": [
"// Chapter 1 addl_Example 1 \n",
"//==============================================================================\n",
"clc;\n",
"clear;\n",
"\n",
"//input data\n",
"\n",
"P           = 1;            // for fundamental mode\n",
"t           = 1.5*10^-3;    // thickness of quartz crystal\n",
"E           = 7.9*10^10     // young's modulus in N/m^2\n",
"p           = 2650          // density in kg/m^3\n",
"\n",
"//Calculations\n",
"\n",
"f           = (P/(2*t))*sqrt(E/p);      // frequency of the oscillator circuit\n",
"\n",
"//Output\n",
"mprintf('The Fundamental Frequency of the Quartz crystal = %3.4f MHz',f/10^6);\n",
"\n",
"//=============================================================================="
   ]
   }
,
{
		   "cell_type": "markdown",
		   "metadata": {},
		   "source": [
			"## Example 1.a_2: Finding_Thickness.sce"
		   ]
		  },
  {
"cell_type": "code",
	   "execution_count": null,
	   "metadata": {
	    "collapsed": true
	   },
	   "outputs": [],
"source": [
"// Chapter 1 addl_Example 2 \n",
"//==============================================================================\n",
"clc;\n",
"clear;\n",
"\n",
"//input data\n",
"\n",
"v       = 5000;         // velocity of ultrasonics in m/s\n",
"df      = 60*10^3;      // difference b/w two adjacent harmonic freq. in Hz\n",
"\n",
"//Calculations\n",
"\n",
"d       = v/(2*df)  ;       // thickness of steel plate\n",
"\n",
"//Output\n",
"mprintf('The thickness of steel plate = %f m',d);\n",
"\n",
"//=============================================================================="
   ]
   }
,
{
		   "cell_type": "markdown",
		   "metadata": {},
		   "source": [
			"## Example 1.a_3: Finding_depth_of_submerged_submarine.sce"
		   ]
		  },
  {
"cell_type": "code",
	   "execution_count": null,
	   "metadata": {
	    "collapsed": true
	   },
	   "outputs": [],
"source": [
"// Chapter 1 addl_Example 3 \n",
"//==============================================================================\n",
"clc;\n",
"clear;\n",
"\n",
"//input data\n",
"\n",
"v       = 1440;         // velocity of ultrasonics in  sea water in m/s\n",
"t       = 0.33          // time taken b/w tx and rx in sec\n",
"\n",
"//Calculations\n",
"\n",
"d       = v*t;          // distance travelled by ultrasonics\n",
"D       = d/2;          // depth of submerged submarine in m\n",
"\n",
"//output\n",
"mprintf('Depth of submerged submarine = %3.1f m',D);\n",
"\n",
"//=============================================================================="
   ]
   }
,
{
		   "cell_type": "markdown",
		   "metadata": {},
		   "source": [
			"## Example 1.a_4: Finding_velocity_of_ultrasonics.sce"
		   ]
		  },
  {
"cell_type": "code",
	   "execution_count": null,
	   "metadata": {
	    "collapsed": true
	   },
	   "outputs": [],
"source": [
"// Chapter 1 addl_Example 4 \n",
"//==============================================================================\n",
"clc;\n",
"clear;\n",
"\n",
"//input data\n",
"\n",
"d           = 0.55*10^-3;        // distance b/w two antinodes\n",
"f           = 1.5*10^6;         // freq of the crystal\n",
"\n",
"//Calculations\n",
"\n",
"lamda       = 2*d;              // wavelength\n",
"v           = f*lamda;          // velocity of ultronics\n",
"\n",
"//Output\n",
"mprintf('Velocity of waves in sea water = %3.0f m/s',v);\n",
"\n",
"//=============================================================================="
   ]
   }
,
{
		   "cell_type": "markdown",
		   "metadata": {},
		   "source": [
			"## Example 1.a_5: Finding_Youngs_modulus_and_thickness_of_crystal.sce"
		   ]
		  },
  {
"cell_type": "code",
	   "execution_count": null,
	   "metadata": {
	    "collapsed": true
	   },
	   "outputs": [],
"source": [
"// Chapter 1 addl_Example 5 \n",
"//==============================================================================\n",
"clc;\n",
"clear;\n",
"\n",
"//input data\n",
"\n",
"P           = 1;            // for fundamental mode\n",
"p           = 2660          // density of quartz in kg/m^3\n",
"f           = 1300*10^3     // freq of quartz plate for sub division ii\n",
"k           = 2.87*10^3\n",
"//f1        = (k)/t  // freq for sub division i\n",
"\n",
"//Calculations\n",
"\n",
"//f           = (P/(2*t))*sqrt(E/p);  \n",
"E             = p*4*(k)^2;      //Youngs modulus in N/m^2\n",
"t           = (P/(2*f))*sqrt(E/p);       \n",
"\n",
"\n",
"//Output\n",
"mprintf('Youngs modulus of quartz plate = %e Nm^-2\n Thickness of the crystal = %e m',E,t);\n",
"\n",
"//=============================================================================="
   ]
   }
],
"metadata": {
		  "kernelspec": {
		   "display_name": "Scilab",
		   "language": "scilab",
		   "name": "scilab"
		  },
		  "language_info": {
		   "file_extension": ".sce",
		   "help_links": [
			{
			 "text": "MetaKernel Magics",
			 "url": "https://github.com/calysto/metakernel/blob/master/metakernel/magics/README.md"
			}
		   ],
		   "mimetype": "text/x-octave",
		   "name": "scilab",
		   "version": "0.7.1"
		  }
		 },
		 "nbformat": 4,
		 "nbformat_minor": 0
}
