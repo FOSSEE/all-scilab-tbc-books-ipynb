{
"cells": [
 {
		   "cell_type": "markdown",
	   "metadata": {},
	   "source": [
       "# Chapter 5: Crystal Physics"
	   ]
	},
{
		   "cell_type": "markdown",
		   "metadata": {},
		   "source": [
			"## Example 5.10: Calculating_lattice_constant.sce"
		   ]
		  },
  {
"cell_type": "code",
	   "execution_count": null,
	   "metadata": {
	    "collapsed": true
	   },
	   "outputs": [],
"source": [
"// Chapter 5 Example 10\n",
"//==============================================================================\n",
"clc;\n",
"clear;\n",
"\n",
"// input data\n",
"// FCC structured crystal\n",
"\n",
"p       = 6250;             // Density of crystal in kg/m^3\n",
"N       = 6.023*10^26;      // Avagadros number in atoms/kilomole\n",
"A       = 60.2;             // molecular weight\n",
"n       = 4;                // No. of atoms per unit cell for FCC\n",
"\n",
"//Calculations\n",
"\n",
"a       = ((n*A)/(N*p))^(1/3);\n",
"\n",
"//Output\n",
"\n",
"mprintf('Lattice Constant a = %3.1e m ',a);\n",
"//=============================================================================="
   ]
   }
,
{
		   "cell_type": "markdown",
		   "metadata": {},
		   "source": [
			"## Example 5.11: Calculating_interplanar_distance.sce"
		   ]
		  },
  {
"cell_type": "code",
	   "execution_count": null,
	   "metadata": {
	    "collapsed": true
	   },
	   "outputs": [],
"source": [
"// Chapter 5 Example 11\n",
"//==============================================================================\n",
"clc;\n",
"clear;\n",
"\n",
"//input data\n",
"// (321) plane in simple cubic lattice\n",
"h       = 3;            // miller indice\n",
"k       = 2;            // miller indice\n",
"l       = 1;            // miller indice\n",
"a       = 4.12          // inter atomic space Å\n",
"\n",
"// Calculations\n",
"dhkl    = a/sqrt((h^2)+(k^2)+(l^2)); // interplanar distance\n",
"\n",
"// Output\n",
"mprintf('d = %3.2f Å',dhkl);\n",
"//==============================================================================\n",
" "
   ]
   }
,
{
		   "cell_type": "markdown",
		   "metadata": {},
		   "source": [
			"## Example 5.12: Calculating_lattice_constant_of_Fe.sce"
		   ]
		  },
  {
"cell_type": "code",
	   "execution_count": null,
	   "metadata": {
	    "collapsed": true
	   },
	   "outputs": [],
"source": [
"// Chapter 5 Example 12\n",
"//==============================================================================\n",
"clc;\n",
"clear;\n",
"\n",
"// input data\n",
"// BCC structured crystal\n",
"\n",
"p       = 7860;             // Density of iron in kg/m^3\n",
"N       = 6.023*10^26;      // Avagadros number in atoms/kilomole\n",
"A       = 55.85;            // Atomic weight\n",
"n       = 2;                // No. of atoms per unit cell for BCC\n",
"\n",
"//Calculations\n",
"\n",
"a       = ((n*A)/(N*p))^(1/3); //lattice constant\n",
"\n",
"//Output\n",
"\n",
"mprintf('Lattice Constant of Fe = %3.3f Å \n',a*10^10);\n",
"mprintf(' Note: density of iron is taken as 7.86 instead of 7860 in calculation')\n",
"//=============================================================================="
   ]
   }
,
{
		   "cell_type": "markdown",
		   "metadata": {},
		   "source": [
			"## Example 5.14: Finding_Volume_of_Unit_cell.sce"
		   ]
		  },
  {
"cell_type": "code",
	   "execution_count": null,
	   "metadata": {
	    "collapsed": true
	   },
	   "outputs": [],
"source": [
"// Chapter 5  Example 14\n",
"//==============================================================================\n",
"clc;\n",
"clear;\n",
"\n",
"// input data\n",
"r       = 0.123*10^-10;         // Radius of the atom\n",
"\n",
"// Calculations\n",
"a       = (4*r)/sqrt(3);        // Lattice constant in m For a BCC structure\n",
"V       = a*a*a;                // Volume of BCC\n",
"\n",
"// Output\n",
"mprintf('Volume of the unit cell = %3.4e m^3',V);\n",
"//=============================================================================="
   ]
   }
,
{
		   "cell_type": "markdown",
		   "metadata": {},
		   "source": [
			"## Example 5.15: Finding_Miller_indices.sce"
		   ]
		  },
  {
"cell_type": "code",
	   "execution_count": null,
	   "metadata": {
	    "collapsed": true
	   },
	   "outputs": [],
"source": [
"// Chapter 5 Example 15\n",
"//==============================================================================\n",
"clc;\n",
"clear;\n",
"\n",
"// input data\n",
"a   = 0.05;     // unit cell edge of an orthorhombic crystal in nm\n",
"b   = 0.05;     // unit cell edge of an orthorhombic crystal in nm\n",
"c   = 0.03;     // unit cell edge of an orthorhombic crystal in nm\n",
"Ia  = 0.025     // intercept on 'a' in nm\n",
"Ib  = 0.02      // intercept on 'b' in nm\n",
"Ic  = 0.01      // intercept on 'c' in nm\n",
"\n",
"//Calculations\n",
"\n",
"h   = a/Ia;     // miller indice h\n",
"k   = b/Ib;     // miller indice k\n",
"l   = c/Ic      // miller indice l\n",
"\n",
"// Output\n",
"mprintf('Miller indices (h k l) = (%d %d %d)',h,k,l);\n",
"//==============================================================================\n",
"\n",
""
   ]
   }
,
{
		   "cell_type": "markdown",
		   "metadata": {},
		   "source": [
			"## Example 5.16: Finding_volume_of_unit_cell.sce"
		   ]
		  },
  {
"cell_type": "code",
	   "execution_count": null,
	   "metadata": {
	    "collapsed": true
	   },
	   "outputs": [],
"source": [
"// Chapter 5 Example 16\n",
"//==============================================================================\n",
"clc;\n",
"clear;\n",
"// Magnesium has HCP structure\n",
"// for HCF(Hexagonal closed packed structure) consider the relation between 'c' and 'a';\n",
"// c/a = sqrt(8/3) = 1.6329 \n",
"//input data\n",
"r   = 0.1605*10^-9;     // radius of magnesium atom in m\n",
"\n",
"// Calculations\n",
"\n",
"a   = 2*r               // lattice constant of HCP\n",
"c   = a*sqrt(8/3);      // relation b/w c and a in HCP\n",
"V   = (3*3^0.5)*(a*a*c)/2;      //Volume of unit cell in m^3\n",
"\n",
"// Output\n",
"mprintf('Volume of the unit cell of magnesium = %3.3e m^3',V);\n",
"//==============================================================================\n",
""
   ]
   }
,
{
		   "cell_type": "markdown",
		   "metadata": {},
		   "source": [
			"## Example 5.17: Finding_interplanar_distance.sce"
		   ]
		  },
  {
"cell_type": "code",
	   "execution_count": null,
	   "metadata": {
	    "collapsed": true
	   },
	   "outputs": [],
"source": [
"// Chapter 5 Example 17\n",
"//==============================================================================\n",
"clc;\n",
"clear;\n",
"\n",
"//input data\n",
"// (101),(221) planes in simple cubic lattice\n",
"h1       = 1;            // miller indice\n",
"k0       = 0;            // miller indice\n",
"l1       = 1;            // miller indice\n",
"h2       = 2;            // miller indice\n",
"k2       = 2;            // miller indice\n",
"l1       = 1;            // miller indice\n",
"a        = 4.2          // inter atomic space Å\n",
"\n",
"// Calculations\n",
"d101    = a/sqrt((h1^2)+(k0^2)+(l1^2)); // interplanar distance\n",
"d221    = a/sqrt((h2^2)+(k2^2)+(l1^2)); // interplanar distance\n",
"\n",
"\n",
"// Output\n",
"mprintf('d(101) = %3.4f Å\n d(221) = %3.1f Å ',d101,d221);\n",
"//=============================================================================\n",
" "
   ]
   }
,
{
		   "cell_type": "markdown",
		   "metadata": {},
		   "source": [
			"## Example 5.1: Finding_lattice_parameter_and_Density_of_copper.sce"
		   ]
		  },
  {
"cell_type": "code",
	   "execution_count": null,
	   "metadata": {
	    "collapsed": true
	   },
	   "outputs": [],
"source": [
"// Chapter 5 Example 1\n",
"//==============================================================================\n",
"clc;\n",
"clear;\n",
"\n",
"//input data\n",
"//Copper has FCC structure\n",
"\n",
"r       = 1.273;            // Atomic radius in angstrom\n",
"N       = 6.023*10^26;      // Avagadros number in atoms/kilomole\n",
"A       = 63.5;             // Atomic weight of copper in grams\n",
"n       = 4;                // No. of atoms per unit cell for FCC\n",
"\n",
"//Calculations\n",
"r1      = r*10^-10;           // Radius conversion from angstrom to m\n",
"a       = (4*r1)/sqrt(2);     // lattice parameter for FCC\n",
"p       = (n*A)/(N*a^3);      // Density of copper\n",
"\n",
"//Output\n",
"\n",
"mprintf('Lattice Constant a = %3.1e m\n Density of copper = %3.1f kg/m^3',a,p);"
   ]
   }
,
{
		   "cell_type": "markdown",
		   "metadata": {},
		   "source": [
			"## Example 5.2: Finding_Miller_indice_and_interplanar_distance.sce"
		   ]
		  },
  {
"cell_type": "code",
	   "execution_count": null,
	   "metadata": {
	    "collapsed": true
	   },
	   "outputs": [],
"source": [
"// Chapter 5 Example 1\n",
"//==============================================================================\n",
"clc;\n",
"clear;\n",
"\n",
"//input data\n",
"//given intercepts 3,4 and ∞, the recipocals of intercepts is\n",
"// (1/3):(1/4):(1/∞)\n",
"// LCM = 12\n",
"// multiplying by LCM we get miller indices\n",
"// miller indices of a plane are the smallest integers of the reciprocals of its intercerpts\n",
"// therefore miller indices(h k l) is (4 3 0);\n",
"\n",
"h   = 4;       // miller indice\n",
"k   = 3;       // miller indice\n",
"l   = 0;       // miller indice\n",
"a   = 2;      // primitive vector of lattice in angstrom\n",
"\n",
"//Calculations\n",
"\n",
"dhkl    = a/sqrt((h^2)+(k^2)+(l^2)); // interplanar distance\n",
"\n",
"//Output\n",
"mprintf('Miller indices = (4 3 0)\n');\n",
"mprintf(' The interplanar distance d = %3.1f Å',dhkl);\n",
"//=============================================================================="
   ]
   }
,
{
		   "cell_type": "markdown",
		   "metadata": {},
		   "source": [
			"## Example 5.3: Finding_Radius_of_an_atom.sce"
		   ]
		  },
  {
"cell_type": "code",
	   "execution_count": null,
	   "metadata": {
	    "collapsed": true
	   },
	   "outputs": [],
"source": [
"// Chapter 5 Example 3\n",
"//==============================================================================\n",
"clc;\n",
"clear;\n",
"\n",
"//input data\n",
"//α-Iron solidifies to BCC structure\n",
"\n",
"r       = 1.273;            // Atomic radius in angstrom\n",
"N       = 6.023*10^26;      // Avagadros number in atoms/kilomole\n",
"A       = 55.85;            // Atomic weight of α-Iron in kilograms\n",
"n       = 2;                // No. of atoms per unit cell for BCC\n",
"p       = 7860;             // density in kg/m^-3\n",
"\n",
"//Calculations\n",
"\n",
"// p    = (n*A)/(N*a^3);    density\n",
"\n",
"a       = ((n*A)/(N*p))^(1/3);  // lattice constant\n",
"a1      = a*10^10;              // m to angstrom conversion\n",
"r       = (a1*sqrt(3))/4         // atomic radius for BCC\n",
"\n",
"//Output\n",
"mprintf('The Radius of the atom = %3.5f Å\n',r);\n",
"mprintf(' Note : atomic wt taken as 55.58*10^-3 instead of 55.85 in calculation')\n",
"//=============================================================================="
   ]
   }
,
{
		   "cell_type": "markdown",
		   "metadata": {},
		   "source": [
			"## Example 5.4: Calculating_interatomic_Spacing.sce"
		   ]
		  },
  {
"cell_type": "code",
	   "execution_count": null,
	   "metadata": {
	    "collapsed": true
	   },
	   "outputs": [],
"source": [
"// Chapter 5 Example 4\n",
"//==============================================================================\n",
"clc;\n",
"clear;\n",
"\n",
"//input data\n",
"lamda   = 1.5418;       // wavelength in Å\n",
"h       = 1;            // miller indice\n",
"k       = 1;            // miller indice\n",
"l       = 1;            // miller indice\n",
"n       = 1;            // given first order\n",
"theta   = 30;           // diffraction angle in degrees\n",
"\n",
"// Calculations\n",
"theta1   = theta*%pi/180;   // degree to radian conversion\n",
"// d     = (n*lamda)/(2*sinθ);    by Braggs law               ------------- 1\n",
"// d     = a/sqrt((h^2)+(k^2)+(l^2));  interplanar distance    ------------ 2\n",
"// equating 1 and 2\n",
"\n",
"a       = (n*lamda*sqrt((h^2)+(k^2)+(l^2))/(2*sin(theta1)))\n",
"\n",
"// Output\n",
"mprintf('Interatomic spacing a = %f Å',a);\n",
"//=============================================================================="
   ]
   }
,
{
		   "cell_type": "markdown",
		   "metadata": {},
		   "source": [
			"## Example 5.5: Finding_interplanar_distance_between_planes.sce"
		   ]
		  },
  {
"cell_type": "code",
	   "execution_count": null,
	   "metadata": {
	    "collapsed": true
	   },
	   "outputs": [],
"source": [
"// Chapter 5 Example 5\n",
"//==============================================================================\n",
"clc;\n",
"clear;\n",
"\n",
"//input data\n",
"h1       = 1;            // miller indice\n",
"k1       = 1;            // miller indice\n",
"l1       = 1;            // miller indice\n",
"h0       = 0;            // miller indice\n",
"k0       = 0;            // miller indice\n",
"l0       = 0;            // miller indice\n",
"\n",
"// calculations\n",
"// dhkl    = a/sqrt((h^2)+(k^2)+(l^2)); // interplanar distance\n",
"// assume a = 1(constant) for easier calculation in scilab\n",
"\n",
"a        = 1;\n",
"d100     = a/sqrt((h1^2)+(k0^2)+(l0^2)); // interplanar distance\n",
"d110     = a/sqrt((h1^2)+(k1^2)+(l0^2)); // interplanar distance\n",
"d111     = a/sqrt((h1^2)+(k1^2)+(l1^2)); // interplanar distance\n",
"\n",
"// Output\n",
"mprintf('d100 : d110 : d111 = %d : %3.2f : %3.2f',d100,d110,d111);\n",
"\n",
"//==============================================================================\n",
"\n",
""
   ]
   }
,
{
		   "cell_type": "markdown",
		   "metadata": {},
		   "source": [
			"## Example 5.6: Finding_number_of_unit_cells.sce"
		   ]
		  },
  {
"cell_type": "code",
	   "execution_count": null,
	   "metadata": {
	    "collapsed": true
	   },
	   "outputs": [],
"source": [
"// Chapter 5 Example 6\n",
"//==============================================================================\n",
"clc;\n",
"clear;\n",
"\n",
"// input data\n",
"// Aluminium is FCC\n",
"a       = 0.405*10^-9;          // lattice constant of aluminium\n",
"t       = 0.005*10^-2;          // thickness of aluminium foil in m\n",
"s       = 25*10^-2;             // side of square in m\n",
"\n",
"//Calculations\n",
"VUC     = a^3;                  // volume of unit cell\n",
"Val     = (s^2)*t               // volume of aluminium foil (area*thickness)\n",
"N       = Val/VUC               // Number if unit cells\n",
"\n",
"//Output\n",
"mprintf('Number of unit cells = %3.3e',N);\n",
"//=============================================================================="
   ]
   }
,
{
		   "cell_type": "markdown",
		   "metadata": {},
		   "source": [
			"## Example 5.7: Finding_percentage_change_in_volume.sce"
		   ]
		  },
  {
"cell_type": "code",
	   "execution_count": null,
	   "metadata": {
	    "collapsed": true
	   },
	   "outputs": [],
"source": [
"// Chapter 5 Example 7\n",
"//==============================================================================\n",
"clc;\n",
"clear;\n",
"\n",
"// input data\n",
"// metallic iron changes from  BCC to FCC form at 910 degress\n",
"rb      = 0.1258*10^-9;     // atomic radius of BCC iron atom\n",
"rf      = 0.1292*10^-9;     // atomic radius of FCC iron atom\n",
"\n",
"// Calculations\n",
"\n",
"ab      = (4*rb)/(sqrt(3));  // lattice constant for BCC\n",
"Vbcc    = (ab^3)/2;          // volume occupied by one BCC atom\n",
"af      = (4*rf)/(sqrt(2))   // lattice constant for FCC\n",
"Vfcc    = (af^3)/4;          // volume occupied by one FCC atom\n",
"dv      = ((Vbcc-Vfcc)/Vbcc)*100        // percentage change in volume\n",
"\n",
"// output\n",
"mprintf('During the structural change the percentage change in volume = %3.4f',dv);\n",
"//=============================================================================="
   ]
   }
,
{
		   "cell_type": "markdown",
		   "metadata": {},
		   "source": [
			"## Example 5.8: Finding_lattice_constant.sce"
		   ]
		  },
  {
"cell_type": "code",
	   "execution_count": null,
	   "metadata": {
	    "collapsed": true
	   },
	   "outputs": [],
"source": [
"// Chapter 5 Example 8\n",
"//==============================================================================\n",
"clc;\n",
"clear;\n",
"\n",
"//input data\n",
"//Copper Crystallines in  FCC structure\n",
"\n",
"p       = 8960;             // Density of copper in kg/m^3\n",
"N       = 6.023*10^26;      // Avagadros number in atoms/kilomole\n",
"A       = 63.5;             // Atomic weight of copper in kg/mol\n",
"n       = 4;                // No. of atoms per unit cell for FCC\n",
"\n",
"//Calculations\n",
"\n",
"a       = ((n*A)/(N*p))^(1/3);\n",
"\n",
"//Output\n",
"\n",
"mprintf('Lattice Constant a = %3.4f Å\n',a*10^10);\n",
"mprintf(' atomic wt of copper is taken as 63.5*10^-3 instead of 63.5 in textbook')\n",
"//=============================================================================="
   ]
   }
,
{
		   "cell_type": "markdown",
		   "metadata": {},
		   "source": [
			"## Example 5.9: Calculating_d_spacing.sce"
		   ]
		  },
  {
"cell_type": "code",
	   "execution_count": null,
	   "metadata": {
	    "collapsed": true
	   },
	   "outputs": [],
"source": [
"// Chapter 5 Example 9\n",
"//==============================================================================\n",
"clc;\n",
"clear;\n",
"\n",
"//input data\n",
"// (100) planes in rock crystal\n",
"h       = 1;            // miller indice\n",
"k       = 0;            // miller indice\n",
"l       = 0;            // miller indice\n",
"a       = 2.814         // lattice constant in Å\n",
"\n",
"// Calculations\n",
"dhkl    = a/sqrt((h^2)+(k^2)+(l^2)); // interplanar distance\n",
"\n",
"// Output\n",
"mprintf('d-spacing for (100) plane in rock salt = %3.3f Å',dhkl);\n",
"//==============================================================================\n",
" "
   ]
   }
,
{
		   "cell_type": "markdown",
		   "metadata": {},
		   "source": [
			"## Example 5.a_11: Calculating_interplanar_spacing.sce"
		   ]
		  },
  {
"cell_type": "code",
	   "execution_count": null,
	   "metadata": {
	    "collapsed": true
	   },
	   "outputs": [],
"source": [
"// Chapter 5 additional Example 11\n",
"//==============================================================================\n",
"clc;\n",
"clear;\n",
"\n",
"//input data\n",
"// (311) plane in simple cubic lattice\n",
"h       = 3;            // miller indice\n",
"k       = 1;            // miller indice\n",
"l       = 1;            // miller indice\n",
"a       = 2.109*10^-10  // lattice constant in m\n",
"\n",
"// Calculations\n",
"dhkl    = a/sqrt((h^2)+(k^2)+(l^2)); // interplanar distance\n",
"\n",
"// Output\n",
"mprintf('d = %3.3e m',dhkl);\n",
"//==============================================================================\n",
" "
   ]
   }
,
{
		   "cell_type": "markdown",
		   "metadata": {},
		   "source": [
			"## Example 5.a_12: Finding_lattice_constant.sce"
		   ]
		  },
  {
"cell_type": "code",
	   "execution_count": null,
	   "metadata": {
	    "collapsed": true
	   },
	   "outputs": [],
"source": [
"// Chapter 5 additional Example 12\n",
"//==============================================================================\n",
"clc;\n",
"clear;\n",
"\n",
"//input data\n",
"\n",
"h       = 1;            // miller indice\n",
"k       = 1;            // miller indice\n",
"l       = 0;            // miller indice\n",
"d       = 2.86*10^-10   // interplanar distance in m\n",
"\n",
"// Calculations\n",
"a       = d*sqrt((h^2)+(k^2)+(l^2)); // interplanar distance\n",
"\n",
"// Output\n",
"mprintf('Lattice constant a = %3.3e m',a);\n",
"//==============================================================================\n",
" "
   ]
   }
,
{
		   "cell_type": "markdown",
		   "metadata": {},
		   "source": [
			"## Example 5.a_13: Proof.sce"
		   ]
		  },
  {
"cell_type": "code",
	   "execution_count": null,
	   "metadata": {
	    "collapsed": true
	   },
	   "outputs": [],
"source": [
"// Chapter 5 Additional Example 13\n",
"//==============================================================================\n",
"clc;\n",
"clear;\n",
"\n",
"h1      = 1;\n",
"h0      = 0;\n",
"k0      = 0;\n",
"l0      = 0;\n",
"l1      = 1;\n",
"// calculations\n",
"\n",
"// we know that dhkl = a/sqrt( h^2 + k^2 + l^2)\n",
"// let sqrt( h^2 + k^2 + l^2) = p\n",
"p101    = sqrt( h1^2 + k0^2 + l1^2);\n",
"p100    = sqrt( h1^2 + k0^2 + l0^2);\n",
"p001    = sqrt( h0^2 + k0^2 + l1^2);\n",
"\n",
"// output\n",
"mprintf('d101 : d100 : d001 :: a/%3.4f : a/%d : a/%d ',p101,p100,p001);\n",
"//=============================================================================="
   ]
   }
,
{
		   "cell_type": "markdown",
		   "metadata": {},
		   "source": [
			"## Example 5.a_14: Finding_ratio_of_intercepts.sce"
		   ]
		  },
  {
"cell_type": "code",
	   "execution_count": null,
	   "metadata": {
	    "collapsed": true
	   },
	   "outputs": [],
"source": [
"// Chapter 5 additional Example 14\n",
"//==============================================================================\n",
"clc;\n",
"clear;\n",
"\n",
"// if a plane cut intercepts of lengths l1,l2,l3 the on three crystal axes ,then\n",
"// l1 : l2 : l3 = pa : pq :rc\n",
"// where a,b and c are primitive vectors of the unit cell and p,q and r are numbers related to miller indices (hkl) of plane by relation\n",
"// 1/p : 1/q : 1/r = h : k : l\n",
"//since, the crystal is simple cubic a = b = c and given that h = 1, k = 1 and l = 1\n",
"// p : q : r = 1/h : 1/k : 1/l = 1/1 : 1/1 : 1/1 \n",
"// p : q : r = 1 : 1 : 1\n",
"//similarly l1 : l2 : l3 = 1a : 1a : 1a\n",
"mprintf('ratio of intercepts on the three axes by (111) plane is l1 : l2 : l3 = 1 : 1 : 1');"
   ]
   }
,
{
		   "cell_type": "markdown",
		   "metadata": {},
		   "source": [
			"## Example 5.a_15: Finding_interplanar_distance.sce"
		   ]
		  },
  {
"cell_type": "code",
	   "execution_count": null,
	   "metadata": {
	    "collapsed": true
	   },
	   "outputs": [],
"source": [
"// Chapter 5 additional Example 15\n",
"//==============================================================================\n",
"clc;\n",
"clear;\n",
"\n",
"//input data\n",
"r   = 1.246*10^-10;     // atomic radius in m\n",
"h1  = 1                 // miller indice\n",
"h2  = 2                 // miller indice\n",
"k0  = 0                 // miller indice\n",
"k1  = 1                 // miller indice\n",
"k2  = 2                 // miller indice\n",
"l0  = 0                 // miller indice\n",
"l1  = 1                 // miller indice\n",
"\n",
"// Calculations\n",
"a    = (4*r)/sqrt(2);    // lattice constant\n",
"d111 = a/sqrt((h1^2)+(k1^2)+(l1^2)); // interplanar distance\n",
"d200 = a/sqrt((h2^2)+(k0^2)+(l0^2)); // interplanar distance\n",
"d220 = a/sqrt((h2^2)+(k2^2)+(l0^2)); // interplanar distance\n",
"\n",
"// Output\n",
"mprintf('d111 = %3.3e m\n d200 = %3.4e m\n d220 = %3.3e m\n',d111,d200,d220');\n",
"//=============================================================================="
   ]
   }
,
{
		   "cell_type": "markdown",
		   "metadata": {},
		   "source": [
			"## Example 5.a_16: Finding_Miller_indices.sce"
		   ]
		  },
  {
"cell_type": "code",
	   "execution_count": null,
	   "metadata": {
	    "collapsed": true
	   },
	   "outputs": [],
"source": [
"// Chapter 5 additional Example 16\n",
"//==============================================================================\n",
"clc;\n",
"clear;\n",
"\n",
"//input data\n",
"// the intercept along X-axis be c1 = a\n",
"// the intercept along Y-axis be c2 = b/2 and\n",
"// the intercept along Z-axis be c3 = 3c\n",
"// Therefore, p = c1/a = a/a = 1\n",
"// q = c2/b = (b/2)/b = 1/2\n",
"// r = c3/c = (3c)/c  = 3\n",
"// therefore h = 1/p = 1\n",
"// k = 1/q = 2\n",
"// l = 1/r = 1/3\n",
"// lcm of 1 1 and 3 = 3\n",
"h = 1\n",
"k = 2\n",
"l = 1/3\n",
"p = [1 1 3]\n",
"s = lcm(p);\n",
"h1= s*h\n",
"k1= s*k\n",
"l1= s*l;\n",
"// Output\n",
"mprintf('(h k l) = (%d %d %d)',h1,k1,l1);\n",
"//=============================================================================="
   ]
   }
,
{
		   "cell_type": "markdown",
		   "metadata": {},
		   "source": [
			"## Example 5.a_17: Calculating_Wavelength_of_X_ray.sce"
		   ]
		  },
  {
"cell_type": "code",
	   "execution_count": null,
	   "metadata": {
	    "collapsed": true
	   },
	   "outputs": [],
"source": [
"// Chapter 5 Additional Example 17\n",
"//==============================================================================\n",
"clc;\n",
"clear;\n",
"\n",
"//input data\n",
"\n",
"d       = 1.3*10^-10    // interplanar distance\n",
"n       = 1;            // given first order\n",
"theta   = 23;           // Bragg reflection angle in degrees\n",
"\n",
"// Calculations\n",
"theta1   = theta*%pi/180;   // degree to radian conversion\n",
"// d     = (n*lamda)/(2*sinθ);    by Braggs law               ------------- 1\n",
"lamda    = (2*d*sin(theta1)/n)\n",
"\n",
"// Output\n",
"mprintf('Wavelength of X-ray = %3.4f Å',lamda*10^10);\n",
"//=============================================================================="
   ]
   }
,
{
		   "cell_type": "markdown",
		   "metadata": {},
		   "source": [
			"## Example 5.a_1: Finding_atomic_radius.sce"
		   ]
		  },
  {
"cell_type": "code",
	   "execution_count": null,
	   "metadata": {
	    "collapsed": true
	   },
	   "outputs": [],
"source": [
"// Chapter 5 additional Example 1\n",
"//==============================================================================\n",
"clc;\n",
"clear;\n",
"\n",
"// input data\n",
"// Copper has FCC structure\n",
"a   = 3.6;      // lattice parameter of copper in Å\n",
"\n",
"// Calculations\n",
"\n",
"r   = a*sqrt(2)/4;      // atomic radius of copper\n",
"\n",
"// Output\n",
"mprintf('Atomic Radius of copper = %3.3f Å',r);\n",
"//==============================================================================\n",
""
   ]
   }
,
{
		   "cell_type": "markdown",
		   "metadata": {},
		   "source": [
			"## Example 5.a_2: Finding_density_of_copper.sce"
		   ]
		  },
  {
"cell_type": "code",
	   "execution_count": null,
	   "metadata": {
	    "collapsed": true
	   },
	   "outputs": [],
"source": [
"// Chapter 5 additional Example 2\n",
"//==============================================================================\n",
"clc;\n",
"clear;\n",
"\n",
"// input data\n",
"// Copper has FCC structure\n",
"\n",
"r       = 1.278;            // Atomic radius in angstrom\n",
"N       = 6.023*10^26;      // Avagadros number in atoms/kilomole\n",
"A       = 63.54;            // Atomic weight of copper \n",
"n       = 4;                // No. of atoms per unit cell for FCC\n",
"\n",
"//Calculations\n",
"r1      = r*10^-10;           // Radius conversion from angstrom to m\n",
"a       = (4*r1)/sqrt(2);     // lattice parameter for FCC\n",
"p       = (n*A)/(N*a^3);      // Density of copper\n",
"\n",
"//Output\n",
"\n",
"mprintf(' Density of copper = %3.2f kg/m^3',p);\n",
"//=============================================================================="
   ]
   }
,
{
		   "cell_type": "markdown",
		   "metadata": {},
		   "source": [
			"## Example 5.a_3: Finding_distance_between_adjacent_atoms.sce"
		   ]
		  },
  {
"cell_type": "code",
	   "execution_count": null,
	   "metadata": {
	    "collapsed": true
	   },
	   "outputs": [],
"source": [
"// Chapter 5 additional Example 3\n",
"//==============================================================================\n",
"clc;\n",
"clear;\n",
"\n",
"// input data\n",
"// NaCl has FCC structure\n",
"\n",
"ANa     = 23;               // atomic wt of sodiim\n",
"ACl     = 35.45             // atomic wt of chlorine\n",
"N       = 6.023*10^26;      // Avagadros number in atoms/kilomole\n",
"n       = 4                 // No. of atoms per unit cell for FCC\n",
"p       = 2180;             // density in kg/m^-3\n",
"\n",
"// Calculations\n",
"\n",
"// p    = (n*A)/(N*a^3);    density\n",
"A       = ANa+ACl;              // atomic wt of NaCl\n",
"a       = ((n*A)/(N*p))^(1/3);  // lattice constant\n",
"r       = a/2                   // Distance b/w two adjacent atoms\n",
"//Output\n",
"mprintf('Distance between two adjacent atoms is r = %3.2e m',r);\n",
"//=============================================================================="
   ]
   }
,
{
		   "cell_type": "markdown",
		   "metadata": {},
		   "source": [
			"## Example 5.a_4: Calculating_atomic_radius_of_Fe.sce"
		   ]
		  },
  {
"cell_type": "code",
	   "execution_count": null,
	   "metadata": {
	    "collapsed": true
	   },
	   "outputs": [],
"source": [
"// Chapter 5 additional Example 4\n",
"//==============================================================================\n",
"clc;\n",
"clear;\n",
"\n",
"// input data\n",
"// iron has BCC structure\n",
"\n",
"r       = 1.273;            // Atomic radius in angstrom\n",
"N       = 6.023*10^26;      // Avagadros number in atoms/kilomole\n",
"A       = 55.85      ;      // Atomic weight of Fe \n",
"n       = 2;                // No. of atoms per unit cell for BCC\n",
"p       = 7860;             // density in kg/m^-3\n",
"\n",
"//Calculations\n",
"\n",
"// p    = (n*A)/(N*a^3);    density\n",
"\n",
"a       = ((n*A)/(N*p))^(1/3);  // lattice constant\n",
"a1      = a*10^10;              // m to angstrom conversion\n",
"r       = (a1*sqrt(3))/4         // atomic radius for BCC\n",
"\n",
"//Output\n",
"mprintf('The Radius of the Fe = %3.3f Å',r);\n",
"//=============================================================================="
   ]
   }
,
{
		   "cell_type": "markdown",
		   "metadata": {},
		   "source": [
			"## Example 5.a_5: calculating_lattice_constant.sce"
		   ]
		  },
  {
"cell_type": "code",
	   "execution_count": null,
	   "metadata": {
	    "collapsed": true
	   },
	   "outputs": [],
"source": [
"// Chapter 5 additional Example 5\n",
"//==============================================================================\n",
"clc;\n",
"clear;\n",
"\n",
"// input data\n",
"// KBr has FCC structure\n",
"\n",
"N       = 6.023*10^26;      // Avagadros number in atoms/kilomole\n",
"A       = 119;              // Atomic weight of pottasium bromide\n",
"n       = 4;                // No. of atoms per unit cell for FCC\n",
"p       = 2700;             // density in kg/m^-3\n",
"\n",
"//Calculations\n",
"\n",
"// p    = (n*A)/(N*a^3);    density\n",
"\n",
"a       = ((n*A)/(N*p))^(1/3);  // lattice constant\n",
"a1      = a*10^10;              // m to angstrom conversion\n",
"\n",
"//Output\n",
"mprintf('Lattice constant = %3.1f Å',a1);\n",
"//=============================================================================="
   ]
   }
,
{
		   "cell_type": "markdown",
		   "metadata": {},
		   "source": [
			"## Example 5.a_6: Calculating_No_of_atoms_per_unit_cell.sce"
		   ]
		  },
  {
"cell_type": "code",
	   "execution_count": null,
	   "metadata": {
	    "collapsed": true
	   },
	   "outputs": [],
"source": [
"// Chapter 5 additional Example 6\n",
"//==============================================================================\n",
"clc;\n",
"clear;\n",
"// input data\n",
"a       = 4.3*10^-10;      // Lattice constant in Å\n",
"p       = 960;            // Density of crystal in kg/m^3\n",
"A       = 23;               // Atomic wt\n",
"N       = 6.023*10^26;      // avogadros no in atoms/kilomole\n",
"\n",
"//Calculations\n",
"\n",
"n       = (p*N*(a^3))/A;      // No. of atoms per unit cell\n",
"\n",
"// Output\n",
"mprintf('No. of atoms per unit cell = %3.0f (BCC)',n);\n",
"//==============================================================================\n",
""
   ]
   }
,
{
		   "cell_type": "markdown",
		   "metadata": {},
		   "source": [
			"## Example 5.a_7: Finding_Volume_of_unit_cell.sce"
		   ]
		  },
  {
"cell_type": "code",
	   "execution_count": null,
	   "metadata": {
	    "collapsed": true
	   },
	   "outputs": [],
"source": [
"// Chapter 5 additional Example 7\n",
"//==============================================================================\n",
"clc;\n",
"clear;\n",
"// input data\n",
"// given crystal has BCC structure\n",
"r   = 1.2*10^-10;       // atomic radius in m\n",
"\n",
"// Calculations\n",
"\n",
"a   = (4*r)/sqrt(3);    // lattice constant\n",
"V   = a^3;              // volume of cell\n",
"\n",
"//Output\n",
"mprintf('Volume of the cell = %3.3e m^3',V);\n",
"//=============================================================================="
   ]
   }
,
{
		   "cell_type": "markdown",
		   "metadata": {},
		   "source": [
			"## Example 5.a_8: Finding_planar_atomic_density.sce"
		   ]
		  },
  {
"cell_type": "code",
	   "execution_count": null,
	   "metadata": {
	    "collapsed": true
	   },
	   "outputs": [],
"source": [
"// Chapter 5 additional Example 8\n",
"//==============================================================================\n",
"clc;\n",
"clear;\n",
"// input data\n",
"a   = 4*10^-10;     // lattice constant of the crystal\n",
"h   = 1             // miller indice\n",
"k   = 0             // miller indice\n",
"l   = 0             // miller indice\n",
"\n",
"//Calculations\n",
"\n",
"// in fig consider (100) plane. the no of atoms in plane ABCD\n",
"N   = 4*(1/4);      // Number of atoms\n",
"p   = N/(a*a);      // planar atomic density in atoms/m^2\n",
"p1  = p*10^-6       // planar atomic density in atoms/mm^2\n",
"\n",
"//Output\n",
"mprintf('planar atomic density = %3.2e atoms/mm^2',p1);\n",
"//==============================================================================\n",
""
   ]
   }
,
{
		   "cell_type": "markdown",
		   "metadata": {},
		   "source": [
			"## Example 5.a_9: Finding_miller_indices_of_planes.sce"
		   ]
		  },
  {
"cell_type": "code",
	   "execution_count": null,
	   "metadata": {
	    "collapsed": true
	   },
	   "outputs": [],
"source": [
"// Chapter 5 additional Example 9\n",
"//==============================================================================\n",
"clc;\n",
"clear;\n",
"// input data\n",
"// in fig 5(b) the given plane is parallel to X and Z axes.Thus,its numerical intercepts on these axes is infinity\n",
"//The numerical intercept on y axis is 1/2. Thus the numerical intercepts of plane is (∞ 1/2 ∞)\n",
"mprintf('Miller indices of plane shown in fig 5.(b) = (0 2 0)\n');\n",
"// in fig 5(c) the given plane is parallel to Z axis.Thus its numerical intercept on z axis is infinity\n",
"// The numerical intercept on x axis is 1 and y axis is 1/2. this numerical intercepts on plane is (1 1/2 ∞ )\n",
"mprintf(' Miller indices of plane shown in fig 5.(c) = (1 2 0)\n')\n",
"// in fig 5(d) the given plane is parallel to Z axis.Thus its numerical intercept on z axis is infinity\n",
"// The numerical intercept on x axis is 1/2 and y axis is 1/2. this numerical intercepts on plane is (1/2 1/2 ∞ )\n",
"mprintf(' Miller indices of plane shown in fig 5.(d) = (2 2 0)\n')\n",
"//=============================================================================="
   ]
   }
],
"metadata": {
		  "kernelspec": {
		   "display_name": "Scilab",
		   "language": "scilab",
		   "name": "scilab"
		  },
		  "language_info": {
		   "file_extension": ".sce",
		   "help_links": [
			{
			 "text": "MetaKernel Magics",
			 "url": "https://github.com/calysto/metakernel/blob/master/metakernel/magics/README.md"
			}
		   ],
		   "mimetype": "text/x-octave",
		   "name": "scilab",
		   "version": "0.7.1"
		  }
		 },
		 "nbformat": 4,
		 "nbformat_minor": 0
}
