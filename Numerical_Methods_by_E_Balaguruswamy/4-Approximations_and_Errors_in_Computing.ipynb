{
"cells": [
 {
		   "cell_type": "markdown",
	   "metadata": {},
	   "source": [
       "# Chapter 4: Approximations and Errors in Computing"
	   ]
	},
{
		   "cell_type": "markdown",
		   "metadata": {},
		   "source": [
			"## Example 4.10: Errors_in_Sequence_of_Computations.sce"
		   ]
		  },
  {
"cell_type": "code",
	   "execution_count": null,
	   "metadata": {
	    "collapsed": true
	   },
	   "outputs": [],
"source": [
"//Example No. 4_10\n",
"//Errors in Sequence of Computations\n",
"//Pg No. 77\n",
"clear ; close ; clc ;\n",
"\n",
"x_a = 2.35 ;\n",
"y_a = 6.74 ;\n",
"z_a = 3.45 ;\n",
"ex = abs(x_a)*10^(-3+1)/2\n",
"ey = abs(y_a)*10^(-3+1)/2\n",
"ez = abs(z_a)*10^(-3+1)/2\n",
"exy = abs(x_a)*ey + abs(y_a)*ex\n",
"ew = abs(exy) + abs(ez)\n",
"mprintf('\n ex = %.5f \n ey = %.5f \n ez = %.5f \n exy = %.5f \n ew = %.5f \n',ex,ey,ez,exy,ew)"
   ]
   }
,
{
		   "cell_type": "markdown",
		   "metadata": {},
		   "source": [
			"## Example 4.11: Addition_of_Chain_of_Numbers.sce"
		   ]
		  },
  {
"cell_type": "code",
	   "execution_count": null,
	   "metadata": {
	    "collapsed": true
	   },
	   "outputs": [],
"source": [
"//Example No. 4_11\n",
"//Addition of Chain of Numbers\n",
"//Pg No. 77\n",
"clear ; close ; clc ;\n",
"\n",
"x = 9678 ;\n",
"y = 678 ;\n",
"z = 78 ;\n",
"d = 4 ;  //length of mantissa\n",
"fx = x/10^4\n",
"fy = y/10^4\n",
"fu = fx + fy\n",
"Eu = 4\n",
"if fu >= 1 then\n",
"    fu = fu/10\n",
"    Eu = Eu + 1\n",
"end\n",
"//since length of mantissa is only four we need to maintain only four places in decimal, so\n",
"fu = floor(fu*10^4)/10^4\n",
"u = fu * 10^Eu\n",
"w = u + z\n",
"n = length(string(w))\n",
"w = floor(w/10^(n-4))*10^(n-4) //To maintain length of mantissa = 4\n",
"disp(w,'w = ')\n",
"True_w = 10444\n",
"ew = True_w - w\n",
"er_w = (True_w - w)/True_w\n",
"disp(er_w,'er,w = ',ew,'ew = ',True_w,'True w = ')"
   ]
   }
,
{
		   "cell_type": "markdown",
		   "metadata": {},
		   "source": [
			"## Example 4.12: Addition_of_Chain_of_Numbers.sce"
		   ]
		  },
  {
"cell_type": "code",
	   "execution_count": null,
	   "metadata": {
	    "collapsed": true
	   },
	   "outputs": [],
"source": [
"//Example No. 4_12\n",
"//Addition of chain Numbers\n",
"//Pg No. 77\n",
"clear ; close ; clc ;\n",
"\n",
"x = 9678 ;\n",
"y = 678 ;\n",
"z = 78 ;\n",
"d = 4 ;  //length of mantissa\n",
"n = max(length( string(y) ) , length(string(z)))\n",
"fy = y/10^n\n",
"fz = z/10^n\n",
"fu = fy + fz\n",
"Eu = n\n",
"if fu >= 1 then\n",
"    fu = fu/10\n",
"    Eu = Eu + 1\n",
"end\n",
"u = fu * 10^Eu\n",
"n = max(length( string(x) ) , length(string(u)))\n",
"fu = u/10^4\n",
"fx = x/10^4\n",
"fw = fu + fx\n",
"Ew = 4\n",
"if fw >= 1 then\n",
"    fw = fw/10\n",
"    Ew = Ew + 1\n",
"end\n",
"//since length of mantissa is only four we need to maintain only four places in decimal, so\n",
"fw = floor(fw*10^4)/10^4\n",
"w = fw*10^Ew\n",
"disp(w,'w = ')\n",
"True_w = 10444\n",
"ew = True_w - w\n",
"er_w = (True_w - w)/True_w\n",
"disp(er_w,'er,w = ',ew,'ew = ',True_w,'True w = ')"
   ]
   }
,
{
		   "cell_type": "markdown",
		   "metadata": {},
		   "source": [
			"## Example 4.13: Theoritical_Problem.sce"
		   ]
		  },
  {
"cell_type": "code",
	   "execution_count": null,
	   "metadata": {
	    "collapsed": true
	   },
	   "outputs": [],
"source": [
"//Example No. 4_13\n",
"//Pg No. 78\n",
"disp('Theoritical Problem')\n",
"disp('For Details go to page no. 78')"
   ]
   }
,
{
		   "cell_type": "markdown",
		   "metadata": {},
		   "source": [
			"## Example 4.14: Absolute_and_Relative_Errors.sce"
		   ]
		  },
  {
"cell_type": "code",
	   "execution_count": null,
	   "metadata": {
	    "collapsed": true
	   },
	   "outputs": [],
"source": [
"//Example No. 4_14\n",
"//Absolute & Relative Errors\n",
"//Pg No. 79\n",
"clear ; close ; clc ;\n",
"\n",
"xa = 4.000\n",
"deff('f = f(x)','f = sqrt(x) + x')\n",
"//Assuming x is correct to 4 significant digits\n",
"ex = 0.5 * 10^(-4 + 1)\n",
"df_xa = derivative(f,4)\n",
"ef = ex * df_xa\n",
"er_f = ef/f(xa)\n",
"mprintf('\n ex = %.0E \n df(xa) = %.2f \n ef = %.2E \n er,f = %.2E \n', ex,df_xa,ef,er_f)"
   ]
   }
,
{
		   "cell_type": "markdown",
		   "metadata": {},
		   "source": [
			"## Example 4.15: Error_Evaluatio.sce"
		   ]
		  },
  {
"cell_type": "code",
	   "execution_count": null,
	   "metadata": {
	    "collapsed": true
	   },
	   "outputs": [],
"source": [
"//Example No. 4_15\n",
"//Error Evaluation\n",
"//Pg No. 80\n",
"clear ; close ; clc ;\n",
"\n",
"x = 3.00 ;\n",
"y = 4.00 ;\n",
"deff('f = f(x,y)','f = x^2 + y^2 ')\n",
"deff('df_x = df_x(x)','df_x = 2*x')\n",
"deff('df_y = df_y(y)','df_y = 2*y')\n",
"ex = 0.005\n",
"ey = 0.005\n",
"ef = df_x(x)*ex + df_y(y)*ey\n",
"disp(ef,'ef = ')"
   ]
   }
,
{
		   "cell_type": "markdown",
		   "metadata": {},
		   "source": [
			"## Example 4.16: Condition_and_Stability.sce"
		   ]
		  },
  {
"cell_type": "code",
	   "execution_count": null,
	   "metadata": {
	    "collapsed": true
	   },
	   "outputs": [],
"source": [
"//Example No. 4_16\n",
"//Condition and Stability\n",
"//Pg No. 82\n",
"clear ; close ; clc ;\n",
"\n",
"C1 = 7.00 ;\n",
"C2 = 3.00 ;\n",
"m1 = 2.00 ;\n",
"m2 = 2.01 ;\n",
"x = (C1 - C2)/(m2 - m1)\n",
"y = m1*((C1 - C2)/(m2 - m1)) + C1\n",
"disp(y,'y = ',x,'x = ')\n",
"disp('Changing m2 from 2.01 to 2.005')\n",
"m2 = 2.005\n",
"x = (C1 - C2)/(m2 - m1)\n",
"y = m1*((C1 - C2)/(m2 - m1)) + C1\n",
"mprintf('\n x = %i \n y = %i \n From the above results we can see that for small change in m2 results in almost 100 percent change in the values of x and y.Therefore, the problem is absolutely ill-conditioned \n',x,y)"
   ]
   }
,
{
		   "cell_type": "markdown",
		   "metadata": {},
		   "source": [
			"## Example 4.17: Theoritical_Problem.sce"
		   ]
		  },
  {
"cell_type": "code",
	   "execution_count": null,
	   "metadata": {
	    "collapsed": true
	   },
	   "outputs": [],
"source": [
"//Example No. 4_17\n",
"//Pg No. 83\n",
"disp('Theoritical Problem')\n",
"disp('For Details go to page no. 83')"
   ]
   }
,
{
		   "cell_type": "markdown",
		   "metadata": {},
		   "source": [
			"## Example 4.18: Difference_of_Square_roots.sce"
		   ]
		  },
  {
"cell_type": "code",
	   "execution_count": null,
	   "metadata": {
	    "collapsed": true
	   },
	   "outputs": [],
"source": [
"//Example No. 4_18\n",
"//Difference of Square roots\n",
"//Pg No. 84\n",
"clear ; close ; clc ;\n",
"\n",
"x = 497.0 ;\n",
"y = 496.0 ;\n",
"sqrt_x = sqrt(497)\n",
"sqrt_y = sqrt(496)\n",
"nx = length( string( floor( sqrt_x ) ) )\n",
"ny = length( string( floor( sqrt_y ) ) )\n",
"sqrt_x = floor(sqrt_x*10^(4-nx))/10^(4-nx)\n",
"sqrt_y = floor(sqrt_y*10^(4-ny))/10^(4-ny)\n",
"z1 = sqrt_x - sqrt_y\n",
"disp(z1,'z = sqrt(x) - sqrt(y)')\n",
"z2 = ( x -y)/(sqrt_x + sqrt_y)\n",
"if z2 < 0.1 then\n",
"    z2 = z2*10^4\n",
"    nz = length(string(floor(z2)))\n",
"    z2 = floor(z2*10^(4-nz))/10^(8-nz)\n",
"end\n",
"disp( z2 , 'z = ( x-y )/( sqrt(x) + sqrt(y) )' )"
   ]
   }
,
{
		   "cell_type": "markdown",
		   "metadata": {},
		   "source": [
			"## Example 4.19: Theoritical_Problem.sce"
		   ]
		  },
  {
"cell_type": "code",
	   "execution_count": null,
	   "metadata": {
	    "collapsed": true
	   },
	   "outputs": [],
"source": [
"//Example No. 4_19\n",
"//Pg No. 84\n",
"disp('Theoritical Problem')\n",
"disp('For Details go to page no. 84')"
   ]
   }
,
{
		   "cell_type": "markdown",
		   "metadata": {},
		   "source": [
			"## Example 4.1: Greatest_Precisio.sce"
		   ]
		  },
  {
"cell_type": "code",
	   "execution_count": null,
	   "metadata": {
	    "collapsed": true
	   },
	   "outputs": [],
"source": [
"//Example No. 4_01\n",
"//Greatest precision\n",
"//Pg No. 63\n",
"clear ; close ; clc ;\n",
"\n",
"a = '4.3201'\n",
"b = '4.32'\n",
"c = '4.320106'\n",
"na = length(a)-strindex(a,'.')\n",
"mprintf('\n %s has a precision of 10^-%i\n',a,na)\n",
"nb = length(b)-strindex(b,'.')\n",
"mprintf('\n %s has a precision of 10^-%i\n',b,nb)\n",
"nc = length(c)-strindex(c,'.')\n",
"mprintf('\n %s has a precision of 10^-%i\n',c,nc)\n",
"[n,e] = max(na,nb,nc)\n",
"if e ==1 then\n",
"    mprintf('\n The number with highest precision is %s\n',a)\n",
"elseif e == 2\n",
"    mprintf('\n The number with highest precision is %s\n',b)\n",
"else\n",
"    mprintf('\n The number with highest precision is %s\n',c)\n",
"end"
   ]
   }
,
{
		   "cell_type": "markdown",
		   "metadata": {},
		   "source": [
			"## Example 4.20: Theoritical_Problem.sce"
		   ]
		  },
  {
"cell_type": "code",
	   "execution_count": null,
	   "metadata": {
	    "collapsed": true
	   },
	   "outputs": [],
"source": [
"//Example No. 4_20\n",
"//Pg No. 85\n",
"disp('Theoritical Problem')\n",
"disp('For Details go to page no. 85')"
   ]
   }
,
{
		   "cell_type": "markdown",
		   "metadata": {},
		   "source": [
			"## Example 4.21: Induced_Instability.sce"
		   ]
		  },
  {
"cell_type": "code",
	   "execution_count": null,
	   "metadata": {
	    "collapsed": true
	   },
	   "outputs": [],
"source": [
"//Example 4_21\n",
"//Pg No. 85\n",
"clear ; close ; clc ;\n",
"\n",
"x = -10\n",
"T_act(1) = 1\n",
"T_trc(1) = 1\n",
"e_x_cal = 1\n",
"for i = 1:100\n",
"    T_act(i+1) = T_act(i)*x/i\n",
"    T_trc(i+1) = floor(T_act(i+1)*10^5)/10^5\n",
"    TE(i) = abs(T_act(i+1)-T_trc(i+1))\n",
"    e_x_cal = e_x_cal + T_trc(i+1)\n",
"end\n",
"e_x_act = exp(-10)\n",
"disp(e_x_act,'actual e^x = ',e_x_cal,'calculated e^x using roundoff = ',sum(TE),'Truncation Error = ')\n",
"disp('Here we can see the difference between calculated e^x and actual e^x this is due to trucation error (which is greater than final value of e^x ), so the roundoff error totally dominates the solution')"
   ]
   }
,
{
		   "cell_type": "markdown",
		   "metadata": {},
		   "source": [
			"## Example 4.2: Accuracy_of_Numbers.sce"
		   ]
		  },
  {
"cell_type": "code",
	   "execution_count": null,
	   "metadata": {
	    "collapsed": true
	   },
	   "outputs": [],
"source": [
"//Example No. 4_02\n",
"//Accuracy of numbers\n",
"//Pg No. 63\n",
"clear ;close ;clc ;\n",
"\n",
"function n = sd(x)\n",
"    nd = strindex(x,'.')  //position of point\n",
"    num = str2code(x)\n",
"    if isempty(nd) & num(length(x)) == 0 then\n",
"        mprintf('Accuracy is not specified\n')\n",
"        n = 0 ;\n",
"    else\n",
"        if num(1)>= 1 & isempty(nd) then\n",
"            n = length(x)\n",
"        elseif num(1) >= 1 & ~isempty(nd) then\n",
"                n = length(x) - 1\n",
"        else\n",
"            for i = 1:length(x)\n",
"                if num(i) >= 1 & num(i) <= 9 then\n",
"                    break\n",
"                end\n",
"            end\n",
"            n = length(x)- i + 1\n",
"        end\n",
"    end\n",
"endfunction\n",
"a = '95.763'\n",
"na = sd(a)\n",
"mprintf('%s has %i significant digits\n',a,na)\n",
"b = '0.008472'\n",
"nb = sd(b)\n",
"mprintf('%s has %i significant digits.The leading or higher order zeros are only place holders\n',b,nb)\n",
"c = '0.0456000'\n",
"nc = sd(c)\n",
"mprintf('%s has %i significant digits\n',c,nc)\n",
"d = '36'\n",
"nd = sd(d)\n",
"mprintf('%s has %i significant digits\n',d,nd)\n",
"e = '3600'\n",
"sd(e)\n",
"f = '3600.00'\n",
"nf = sd(f)\n",
"mprintf('%s has %i significant digits\n',f,nf)"
   ]
   }
,
{
		   "cell_type": "markdown",
		   "metadata": {},
		   "source": [
			"## Example 4.3: Addition_in_Binary_form.sce"
		   ]
		  },
  {
"cell_type": "code",
	   "execution_count": null,
	   "metadata": {
	    "collapsed": true
	   },
	   "outputs": [],
"source": [
"//Example No. 4_03\n",
"//Pg No. 64\n",
"clear ; close ; clc ;\n",
"\n",
"a = 0.1\n",
"b = 0.4\n",
"for i = 1:8\n",
"    afrac(i) = floor(a*2)\n",
"    a = a*2 - floor(a*2)\n",
"    bfrac(i) = floor(b*2)\n",
"    b = b*2 - floor(b*2)\n",
"end\n",
"afrac_s = '0' + '.' + strcat(string(afrac)) //string form binary equivalent of a i.e 0.1\n",
"bfrac_s = '0' + '.' + strcat(string(bfrac))\n",
"mprintf('\n 0.1_10 = %s \n 0.4_10 = %s \n ', afrac_s , bfrac_s)\n",
"for j = 8:-1:1\n",
"    summ(j) = afrac(j) + bfrac(j)\n",
"    if summ(j) > 1 then\n",
"        summ(j) = summ(j)-2\n",
"        afrac(j-1) = afrac(j-1) + 1\n",
"    end\n",
"end\n",
"summ_dec = 0\n",
"for k = 8:-1:1\n",
"    summ_dec = summ_dec + summ(k)\n",
"    summ_dec = summ_dec*1/2 \n",
"end\n",
"disp(summ_dec,'sum =')\n",
"disp('Note : The answer should be 0.5, but it is not so.This is due to the error in conversion from decimal to binary form.')"
   ]
   }
,
{
		   "cell_type": "markdown",
		   "metadata": {},
		   "source": [
			"## Example 4.4: Rounding_off.sce"
		   ]
		  },
  {
"cell_type": "code",
	   "execution_count": null,
	   "metadata": {
	    "collapsed": true
	   },
	   "outputs": [],
"source": [
"//Example No. 4_04\n",
"//Rounding-Off\n",
"//Pg No. 66\n",
"clear ; close ; clc ;\n",
"\n",
"fx = 0.7526\n",
"E =3\n",
"gx = 0.835\n",
"d = E - (-1)\n",
"//Chopping Method\n",
"Approx_x = fx*10^E\n",
"Err = gx*10^(E-d)\n",
"mprintf('\n Chooping Method : \n Approximate x = %.4f*10^%i \n Error = %.4f \n ',fx,E,Err)\n",
"//Symmetric Method\n",
"if gx >= 0.5 then\n",
"    Err = (gx -1)*10^(-1)\n",
"    Approx_x = (fx + 10^(-d))*10^E\n",
"else\n",
"    Approx_x = fx*10^E\n",
"    Err = gx * 10^(E-d)\n",
"end\n",
"mprintf('\n Symmetric Rounding :\n Approximate x = %.4f*10^%i \n Error = %.4f \n ',fx + 10^(-d),E,Err)"
   ]
   }
,
{
		   "cell_type": "markdown",
		   "metadata": {},
		   "source": [
			"## Example 4.5: Truncation_Error.sce"
		   ]
		  },
  {
"cell_type": "code",
	   "execution_count": null,
	   "metadata": {
	    "collapsed": true
	   },
	   "outputs": [],
"source": [
"//Example No. 4_05\n",
"//Truncation Error\n",
"//Pg No. 68\n",
"clear ; close ; clc ;\n",
"\n",
"x = 1/5\n",
"//When first three terms are used\n",
"Trunc_err = x^3/factorial(3) + x^4/factorial(4) + x^5/factorial(5) + x^6/factorial(6)\n",
"mprintf('\n a) When first three terms are used \n Truncation error = %.6E \n ',Trunc_err)\n",
"\n",
"//When four terms are used\n",
"Trunc_err = x^4/factorial(4) + x^5/factorial(5) + x^6/factorial(6)\n",
"mprintf('\n b) When first four terms are used \n Truncation error = %.6E \n ',Trunc_err)\n",
"\n",
"//When Five terms are used\n",
"Trunc_err = x^5/factorial(5) + x^6/factorial(6)\n",
"mprintf('\n c) When first five terms are used \n Truncation error = %.6E \n ',Trunc_err)"
   ]
   }
,
{
		   "cell_type": "markdown",
		   "metadata": {},
		   "source": [
			"## Example 4.6: Truncation_Error.sce"
		   ]
		  },
  {
"cell_type": "code",
	   "execution_count": null,
	   "metadata": {
	    "collapsed": true
	   },
	   "outputs": [],
"source": [
"//Example No. 4_06\n",
"//Truncation Error\n",
"//Pg No. 68\n",
"clear ; close ; clc ;\n",
"\n",
"x = -1/5\n",
"//When first three terms are used\n",
"Trunc_err = x^3/factorial(3) + x^4/factorial(4) + x^5/factorial(5) + x^6/factorial(6)\n",
"mprintf('\n a) When first three terms are used \n Truncation error = %.6E \n ',Trunc_err)\n",
"\n",
"//When four terms are used\n",
"Trunc_err = x^4/factorial(4) + x^5/factorial(5) + x^6/factorial(6)\n",
"mprintf('\n b) When first four terms are used \n Truncation error = %.6E \n ',Trunc_err)\n",
"\n",
"//When Five terms are used\n",
"Trunc_err = x^5/factorial(5) + x^6/factorial(6)\n",
"mprintf('\n c) When first five terms are used \n Truncation error = %.6E \n ',Trunc_err)"
   ]
   }
,
{
		   "cell_type": "markdown",
		   "metadata": {},
		   "source": [
			"## Example 4.7: Absolute_and_Relative_Error.sce"
		   ]
		  },
  {
"cell_type": "code",
	   "execution_count": null,
	   "metadata": {
	    "collapsed": true
	   },
	   "outputs": [],
"source": [
"//Example No. 4_07\n",
"//Absolute and Relative Errors\n",
"//Pg No. 71\n",
"clear ; close ; clc ;\n",
"\n",
"h_bu_t = 2945 ;\n",
"h_bu_a = 2950 ;\n",
"h_be_t = 30 ;\n",
"h_be_a = 35 ;\n",
"e1 = abs(h_bu_t - h_bu_a)\n",
"e1_r = e1/h_bu_t\n",
"e2 = abs(h_be_t - h_be_a)\n",
"e2_r = e2/h_be_t\n",
"mprintf('\n For Building : \n Absolute error,  e1 = %i \n Relative error , e1_r = %.2f percent \n ',e1,e1_r*100) \n",
"mprintf('\n For Beam : \n Absolute error,  e2 = %i \n Relative error , e2_r = %.2G percent \n ',e2,e2_r*100)"
   ]
   }
,
{
		   "cell_type": "markdown",
		   "metadata": {},
		   "source": [
			"## Example 4.8: Machine_Epsilon.sce"
		   ]
		  },
  {
"cell_type": "code",
	   "execution_count": null,
	   "metadata": {
	    "collapsed": true
	   },
	   "outputs": [],
"source": [
"//Example No. 4_08\n",
"//Machine Epsilon\n",
"//Pg No. 72\n",
"clear ; close ; clc ;\n",
"\n",
"deff('q = Q(p)','q = 1 + (p-1)*log10(2)' )\n",
"p = 24\n",
"q = Q(p)\n",
"mprintf('q = %.1f \n We can say that the computer can store numbers with %i significant decimal digits \n ',q,q)"
   ]
   }
,
{
		   "cell_type": "markdown",
		   "metadata": {},
		   "source": [
			"## Example 4.9: Propagation_of_Error.sce"
		   ]
		  },
  {
"cell_type": "code",
	   "execution_count": null,
	   "metadata": {
	    "collapsed": true
	   },
	   "outputs": [],
"source": [
"//Example No. 4_09\n",
"//Propagation of Error\n",
"//Pg No. 75\n",
"clear ; close ; clc ;\n",
"\n",
"x = 0.1234*10^4\n",
"y = 0.1232*10^4\n",
"d = 4\n",
"er_x = 10^(-d + 1)/2\n",
"er_y = 10^(-d + 1)/2\n",
"ex = x*er_x\n",
"ey = y*er_y\n",
"ez = abs(ex) + abs(ey)\n",
"er_z = abs(ez)/abs(x-y)\n",
"\n",
"mprintf('\n |er_x| <= %.2f o/o\n |er_y| <= %.2fo/o \n ex = %.3f \n ey = %.3f \n |ez| = %.3f \n |er_z| = %.2fo/o \n',er_x *100,er_y*100,ex,ey,ez,er_z*100)"
   ]
   }
],
"metadata": {
		  "kernelspec": {
		   "display_name": "Scilab",
		   "language": "scilab",
		   "name": "scilab"
		  },
		  "language_info": {
		   "file_extension": ".sce",
		   "help_links": [
			{
			 "text": "MetaKernel Magics",
			 "url": "https://github.com/calysto/metakernel/blob/master/metakernel/magics/README.md"
			}
		   ],
		   "mimetype": "text/x-octave",
		   "name": "scilab",
		   "version": "0.7.1"
		  }
		 },
		 "nbformat": 4,
		 "nbformat_minor": 0
}
