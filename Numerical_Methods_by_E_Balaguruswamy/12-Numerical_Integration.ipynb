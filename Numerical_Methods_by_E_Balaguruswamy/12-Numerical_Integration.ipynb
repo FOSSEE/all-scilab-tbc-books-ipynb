{
"cells": [
 {
		   "cell_type": "markdown",
	   "metadata": {},
	   "source": [
       "# Chapter 12: Numerical Integration"
	   ]
	},
{
		   "cell_type": "markdown",
		   "metadata": {},
		   "source": [
			"## Example 12.10: Gauss_Legendre_Three_Point_Formula.sce"
		   ]
		  },
  {
"cell_type": "code",
	   "execution_count": null,
	   "metadata": {
	    "collapsed": true
	   },
	   "outputs": [],
"source": [
"//Example No. 9_01\n",
"//Gauss-Legendre Three-point formula\n",
"//Pg No. 400\n",
"clear ;close ;clc ;\n",
"\n",
"a = 2 ;\n",
"b = 4 ;\n",
"A = (b-a)/2 \n",
"B = (b+a)/2\n",
"C = (b-a)/2\n",
"deff('G = g(z)','G = (A*z + B)^4 + 1')\n",
"w1 = 0.55556 ;\n",
"w2 = 0.88889 ;\n",
"w3 = 0.55556 ;\n",
"z1 = -0.77460;\n",
"z2 = 0 ;\n",
"z3 = 0.77460 ;\n",
"Ig = C*( w1*g(z1) + w2*g(z2) + w3*g(z3) ) \n",
"printf('g(z) = (%f*z + %f)^4 + 1 \n C = %f \n Ig = %f \n',A,B,C,Ig)"
   ]
   }
,
{
		   "cell_type": "markdown",
		   "metadata": {},
		   "source": [
			"## Example 12.1: Trapezoidal_Rule.sce"
		   ]
		  },
  {
"cell_type": "code",
	   "execution_count": null,
	   "metadata": {
	    "collapsed": true
	   },
	   "outputs": [],
"source": [
"//Example No. 12_01\n",
"//Trapezoidal Rule\n",
"//Pg No. 373\n",
"clear ;close ;clc ;\n",
"\n",
"x = poly(0,'x');\n",
"deff('F = f(x)','F = x^3 + 1');\n",
"\n",
"//case(a)\n",
"a = 1;\n",
"b = 2 ;\n",
"h = b - a ;\n",
"It = (b-a)*(f(a)+f(b))/2\n",
"d2f = derivat(derivat( f(x) ))\n",
"Ett = h^3*horner(d2f,2)/12\n",
"Iexact = intg(1,2,f)\n",
"Trueerror = It - Iexact\n",
"disp(Trueerror,'True error = ',Iexact,'Iexact = ',Ett,'Ett = ',It,'It = ','case(a)')\n",
"disp('Here Error bound is an overestimate of true error')\n",
"\n",
"//case(b)\n",
"a = 1;\n",
"b = 1.5 ;\n",
"h = b - a ;\n",
"It = (b-a)*(f(a)+f(b))/2\n",
"Ett = h^3*horner(d2f,1.5)/12\n",
"Iexact = intg(1,1.5,f)\n",
"Trueerror = It - Iexact\n",
"disp(Trueerror,'True error = ',Iexact,'Iexact = ',Ett,'Ett = ',It,'It = ','case(b)')"
   ]
   }
,
{
		   "cell_type": "markdown",
		   "metadata": {},
		   "source": [
			"## Example 12.2: Trapezoidal_Rule.sce"
		   ]
		  },
  {
"cell_type": "code",
	   "execution_count": null,
	   "metadata": {
	    "collapsed": true
	   },
	   "outputs": [],
"source": [
"//Example No. 12_02\n",
"//Tapezoidal rule\n",
"//Pg No. 376\n",
"clear ;close ;clc ;\n",
"\n",
"deff('F = f(x)','F = exp(x)');\n",
"a = -1 ;\n",
"b = 1 ;\n",
"\n",
"//case(a)\n",
"n = 2\n",
"h = (b-a)/n \n",
"I = 0\n",
"for i = 1:n\n",
"    I = I + f(a+(i-1)*h)+f(a+i*h);\n",
"end\n",
"I = h*I/2 ;\n",
"disp(I,'intergral for case(a),Ia = ')\n",
"\n",
"//case(b)\n",
"n = 4\n",
"h = (b-a)/n \n",
"I = 0\n",
"for i = 1:n\n",
"    I = I + f(a+(i-1)*h)+f(a+i*h);\n",
"end\n",
"I = h*I/2 ;\n",
"Iexact = 2.35040\n",
"disp('n = 4 case is better than n = 2 case',Iexact,'exact integral,Iexact = ',I,'intergral for case(b),Ib = ')"
   ]
   }
,
{
		   "cell_type": "markdown",
		   "metadata": {},
		   "source": [
			"## Example 12.3: Simpons_1_by_3_rule.sce"
		   ]
		  },
  {
"cell_type": "code",
	   "execution_count": null,
	   "metadata": {
	    "collapsed": true
	   },
	   "outputs": [],
"source": [
"//Example No. 12_03\n",
"//Simpon's 1/3 rule\n",
"//Pg No. 381\n",
"clear ;close ;clc ;\n",
"\n",
"funcprot(0) //To avoid warning message for defining function f(x) twice\n",
"//case(a)\n",
"deff('F = f(x)','F = exp(x)');\n",
"a = -1;\n",
"b = 1;\n",
"h = (b-a)/2 \n",
"x1 = a+h\n",
"Is1 = h*( f(a) + f(b) + 4*f(x1) )/3 \n",
"disp(Is1,'Integral for case(a) , Is1 = ',h,'h = ')\n",
"\n",
"//case(b)\n",
"deff('F = f(x)','F = sqrt(sin(x))');\n",
"a = 0\n",
"b = %pi/2\n",
"h = (b-a)/2 \n",
"x1 = a+h\n",
"Is1 = h*( f(a) + f(b) + 4*f(x1) )/3\n",
"disp(Is1,'Integral for case(b),Is1 = ',h,'h = ')"
   ]
   }
,
{
		   "cell_type": "markdown",
		   "metadata": {},
		   "source": [
			"## Example 12.4: Simpons_1_by_3_rule.sce"
		   ]
		  },
  {
"cell_type": "code",
	   "execution_count": null,
	   "metadata": {
	    "collapsed": true
	   },
	   "outputs": [],
"source": [
"//Example No. 12_04\n",
"//Simpon's 1/3 rule\n",
"//Pg No.382\n",
"clear ;close ;clc ;\n",
"\n",
"deff('F = f(x)','F = sqrt( sin(x) )');\n",
"x0 = 0 ;\n",
"xa = %pi/2 ;\n",
"\n",
"//case(a) n = 4\n",
"n = 4 ;\n",
"h = ( xa-x0 )/n\n",
"I = 0 \n",
"for i = 1:n/2\n",
"    I = I + f(x0 + (2*i-2)*h) + 4*f(x0 + (2*i-1)*h) + f(x0 + 2*i*h) ;\n",
"end\n",
"I = h*I/3\n",
"disp(I,'Integral value for n = 4 is',h,'h = ')\n",
"\n",
"//case(b) n = 6\n",
"n = 6\n",
"h = ( xa-x0 )/n\n",
"I = 0 \n",
"for i = 1:n/2\n",
"    I = I + f(x0 + (2*i-2)*h) + 4*f(x0 + (2*i-1)*h) + f(x0 + 2*i*h) ;\n",
"end\n",
"I = h*I/3\n",
"disp(I,'Integral value for n = 6 is',h,'h = ')"
   ]
   }
,
{
		   "cell_type": "markdown",
		   "metadata": {},
		   "source": [
			"## Example 12.5: Simpsons_3_by_8_rule.sce"
		   ]
		  },
  {
"cell_type": "code",
	   "execution_count": null,
	   "metadata": {
	    "collapsed": true
	   },
	   "outputs": [],
"source": [
"//Example No. 12_05\n",
"//Simpson's 3/8 rule\n",
"//Pg No. 386\n",
"clear ;close ;clc ;\n",
"\n",
"funcprot(0)\n",
"//case(a)\n",
"deff('F = f(x)','F = x^3 + 1');\n",
"a = 1 ;\n",
"b = 2 ;\n",
"h = (b-a)/3 \n",
"x1 = a + h \n",
"x2 = a + 2*h\n",
"Is2 = 3*h*( f(a) + 3*f(x1) + 3*f(x2) + f(b) )/8 ;\n",
"disp(Is2,'Integral of x^3 +1 from 1 to 2 is')\n",
"//case(b)\n",
"deff('F = f(x)','F = sqrt( sin(x) )');\n",
"a = 0 ;\n",
"b = %pi/2 ;\n",
"h = (b-a)/3 \n",
"x1 = a + h \n",
"x2 = a + 2*h\n",
"Is2 = 3*h*( f(a) + 3*f(x1) + 3*f(x2) + f(b) )/8 ;\n",
"disp(Is2,'Integral of sqrt(sin(x)) from 0 to %pi/2 is')"
   ]
   }
,
{
		   "cell_type": "markdown",
		   "metadata": {},
		   "source": [
			"## Example 12.6: Booles_Five_Point_Formula.sce"
		   ]
		  },
  {
"cell_type": "code",
	   "execution_count": null,
	   "metadata": {
	    "collapsed": true
	   },
	   "outputs": [],
"source": [
"//Example No. 12_06\n",
"//Booles's Five-Point formula\n",
"//Pg No. 387\n",
"clear ;close ;clc ;\n",
"\n",
"deff('F = f(x)','F = sqrt( sin(x) )')\n",
"x0 = 0;\n",
"xb = %pi/2 ;\n",
"n = 4 ;\n",
"h = (xb - x0)/n\n",
"Ib = 2*h*(7*f(x0) + 32*f(x0+h) + 12*f(x0 + 2*h) + 32*f(x0+3*h) + 7*f(x0+4*h))/45;\n",
"disp(Ib,'Ib = ')"
   ]
   }
,
{
		   "cell_type": "markdown",
		   "metadata": {},
		   "source": [
			"## Example 12.7: Romberg_Integration_Formula.sce"
		   ]
		  },
  {
"cell_type": "code",
	   "execution_count": null,
	   "metadata": {
	    "collapsed": true
	   },
	   "outputs": [],
"source": [
"//Example No. 12_07\n",
"//Romberg Integration formula\n",
"//Pg No. 391\n",
"clear ;close ;clc ;\n",
"\n",
"deff('F = f(x)','F = 1/x');\n",
"//since we can't have (0,0) element in matrix we start with (1,1)\n",
"a = 1 ;\n",
"b = 2 ;\n",
"h = b-a ;\n",
"R(1,1) = h*(f(a)+f(b))/2 \n",
"disp(R(1,1),'R(0,0) = ')\n",
"for i = 2:3\n",
"    h(i) = (b-a)/2^(i-1)\n",
"    s = 0\n",
"    for k = 1:2^(i-2)\n",
"        s = s + f(a + (2*k - 1)*h(i));\n",
"    end\n",
"    R(i,1) = R(i-1,1)/2 + h(i)*s;\n",
"    printf('\nR(%i,0) = %f \n',i-1,R(i,1))\n",
"end\n",
"for j = 2:3\n",
"    for i = j:3\n",
"        R(i,j) = (4^(j-1)*R(i,j-1) - R(i-1,j-1))/(4^(j-1)-1);\n",
"        printf('\nR(%i,%i) = %f \n',i-1,j-1,R(i,j))\n",
"    end\n",
"end"
   ]
   }
,
{
		   "cell_type": "markdown",
		   "metadata": {},
		   "source": [
			"## Example 12.8: Two_Point_Gauss_Legefre_Formula.sce"
		   ]
		  },
  {
"cell_type": "code",
	   "execution_count": null,
	   "metadata": {
	    "collapsed": true
	   },
	   "outputs": [],
"source": [
"//Example No. 12_08\n",
"//Two Point Gauss -Legedre formula\n",
"//Pg No. 397\n",
"clear ;close ;clc ;\n",
"\n",
"deff('F = f(x)','F = exp(x)');\n",
"x1 = -1/sqrt(3)\n",
"x2 = 1/sqrt(3)\n",
"I = f(x1) + f(x2)\n",
"disp(I,'I = ',x2,'x2 = ',x1,'x1 = ')"
   ]
   }
,
{
		   "cell_type": "markdown",
		   "metadata": {},
		   "source": [
			"## Example 12.9: Gaussian_Two_Point_Formula.sce"
		   ]
		  },
  {
"cell_type": "code",
	   "execution_count": null,
	   "metadata": {
	    "collapsed": true
	   },
	   "outputs": [],
"source": [
"//Example No. 12_09\n",
"//Gaussian two point formula\n",
"//Pg No. 398\n",
"clear ;close ;clc ;\n",
"\n",
"a = -2 ;\n",
"b = 2 ;\n",
"deff('F = f(x)','F = exp(-x/2)')\n",
"A = (b-a)/2 \n",
"B = (a+b)/2\n",
"C = (b-a)/2\n",
"deff('G = g(z)','G = exp(-1*(A*z+B)/2)')\n",
"w1 = 1 ;\n",
"w2 = 1 ;\n",
"z1 = -1/sqrt(3)\n",
"z2 = 1/sqrt(3)\n",
"Ig = C*( w1*g(z1) + w2*g(z2) )\n",
"printf('g(z) = exp(-(%f*z + %f)/2) \n C = %f \n Ig = %f \n',A,B,C,Ig)"
   ]
   }
],
"metadata": {
		  "kernelspec": {
		   "display_name": "Scilab",
		   "language": "scilab",
		   "name": "scilab"
		  },
		  "language_info": {
		   "file_extension": ".sce",
		   "help_links": [
			{
			 "text": "MetaKernel Magics",
			 "url": "https://github.com/calysto/metakernel/blob/master/metakernel/magics/README.md"
			}
		   ],
		   "mimetype": "text/x-octave",
		   "name": "scilab",
		   "version": "0.7.1"
		  }
		 },
		 "nbformat": 4,
		 "nbformat_minor": 0
}
