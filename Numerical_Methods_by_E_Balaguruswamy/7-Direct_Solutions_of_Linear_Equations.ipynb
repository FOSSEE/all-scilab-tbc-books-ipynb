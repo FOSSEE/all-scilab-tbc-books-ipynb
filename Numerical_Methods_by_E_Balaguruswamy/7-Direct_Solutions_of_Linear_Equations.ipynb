{
"cells": [
 {
		   "cell_type": "markdown",
	   "metadata": {},
	   "source": [
       "# Chapter 7: Direct Solutions of Linear Equations"
	   ]
	},
{
		   "cell_type": "markdown",
		   "metadata": {},
		   "source": [
			"## Example 7.1: Elimination_Process.sce"
		   ]
		  },
  {
"cell_type": "code",
	   "execution_count": null,
	   "metadata": {
	    "collapsed": true
	   },
	   "outputs": [],
"source": [
"//Example No. 7_01\n",
"//Elimination Process\n",
"//Pg No. 211\n",
"\n",
"clear ; close ; clc ;\n",
"\n",
"A = [3 2 1 10; 2 3 2 14 ; 1 2 3 14];\n",
"A(2,:) = A(2,:) - A(1,:)*A(2,1)/A(1,1)\n",
"A(3,:) = A(3,:) - A(1,:)*A(3,1)/A(1,1)\n",
"disp(A)\n",
"\n",
"A(3,:) = A(3,:) - A(2,:)*A(3,2)/A(2,2)\n",
"disp(A)\n",
"\n",
"z = A(3,4)/A(3,3)\n",
"y = (A(2,4) - A(2,3)*z)/A(2,2)\n",
"x = (A(1,4) - A(1,2)*y - A(1,3)*z)/A(1,1)\n",
"disp(x,'x = ',y,'y = ',z,'z = ') "
   ]
   }
,
{
		   "cell_type": "markdown",
		   "metadata": {},
		   "source": [
			"## Example 7.2: Basic_Gauss_Elimination.sce"
		   ]
		  },
  {
"cell_type": "code",
	   "execution_count": null,
	   "metadata": {
	    "collapsed": true
	   },
	   "outputs": [],
"source": [
"//Example No. 7_02\n",
"//Basic Gauss Elimination\n",
"//Pg No. 214\n",
"clear ; close ; clc ;\n",
"\n",
"A = [  3  6  1  ;  2  4  3  ;  1  3  2 ];\n",
"B = [16 13 9];\n",
"[ar1,ac1] = size(A);\n",
"Aug = [3 6 1 16 ; 2 4 3 13 ; 1 3 2 9]\n",
"for i = 2 : ar1\n",
"    Aug(i,:) = Aug(i,:) - (Aug(i,1)/Aug(1,1))*Aug(1,:) ;\n",
"end\n",
"disp(Aug)\n",
"disp('since Aug(2,2) = 0 elimination is not possible,so reordering the matrix')\n",
"Aug = Aug( [ 1 3 2],:);\n",
"disp(Aug)\n",
"disp('Elimination is complete and by back substitution the solution is\n')\n",
"disp('x3 = 1, x2 = 2 , x1 = 1 ')"
   ]
   }
,
{
		   "cell_type": "markdown",
		   "metadata": {},
		   "source": [
			"## Example 7.3: Gauss_Elimination_using_Partial_Pivoting.sce"
		   ]
		  },
  {
"cell_type": "code",
	   "execution_count": null,
	   "metadata": {
	    "collapsed": true
	   },
	   "outputs": [],
"source": [
"//Example No. 7_03\n",
"// Gauss Elimination using partial pivoting\n",
"// Pg No. 220\n",
"clear ; close ; clc ;\n",
"\n",
"A = [   2  2  1   ;   4  2  3   ;   1  -1  1];\n",
"B = [  6   ;   4   ;  0  ];\n",
"[ ar , ac ] = size(A);\n",
"Aug = [   2  2  1  6   ;   4  2  3  4  ;  1  -1  1  0 ];\n",
"\n",
"for i = 1 : ar-1\n",
"    [ p , m ] =  max(abs(Aug(i:ar,i)))\n",
"    Aug(i:ar,:) = Aug([i+m-1  i+1:i+m-2  i  i+m:ar],:);\n",
"    disp(Aug)\n",
"    for k = i+1 : ar\n",
"        Aug(k,i:ar+1) = Aug(k,i:ar+1) - (Aug(k,i)/Aug(i,i))*Aug(i,i:ar+1);\n",
"    end\n",
"    disp(Aug)\n",
"end\n",
"\n",
"//Back Substitution\n",
"X(ar,1) = Aug(ar,ar+1)/Aug(ar,ar)\n",
"for i = ar-1 : -1 : 1\n",
"    X(i,1) = Aug(i,ar+1);\n",
"    for j = ar : -1 : i+1\n",
"        X(i,1) = X(i,1) - X(j,1)*Aug(i,j);\n",
"    end\n",
"    X(i,1) = X(i,1)/Aug(i,i);\n",
"end\n",
"\n",
"printf('\n The solution can be obtained by back substitution \n x1 = %i \n x2 = %i \n x3 = %i \n',X(1,1),X(2,1),X(3,1))"
   ]
   }
,
{
		   "cell_type": "markdown",
		   "metadata": {},
		   "source": [
			"## Example 7.4: Gauss_Jordan_Elimination.sce"
		   ]
		  },
  {
"cell_type": "code",
	   "execution_count": null,
	   "metadata": {
	    "collapsed": true
	   },
	   "outputs": [],
"source": [
"//Example No. 7_04\n",
"//Gauss Jordan Elimination\n",
"//Pg No. 228\n",
"clear ; close ; clc ;\n",
"\n",
"A = [  2  4  -6 ; 1  3  1 ; 2  -4  -2  ];\n",
"B = [  -8  ;  10  ;  -12  ];\n",
"[ar,ac] = size(A);\n",
"Aug = [  2  4  -6  -8  ;  1  3  1  10  ;  2  -4  -2  -12  ];\n",
"disp(Aug)\n",
"\n",
"for i = 1 : ar\n",
"    Aug(i,i:ar+1) = Aug(i,i:ar+1)/Aug(i,i) ;\n",
"    disp(Aug)\n",
"    for k = 1 : ar\n",
"        if k ~= i then\n",
"            Aug(k,i:ar+1) = Aug(k,i:ar+1) - Aug(k,i)*Aug(i,i:ar+1);\n",
"        end      \n",
"    end\n",
"    disp(Aug) \n",
"end"
   ]
   }
,
{
		   "cell_type": "markdown",
		   "metadata": {},
		   "source": [
			"## Example 7.5: DoLittle_LU_Decompositio.sce"
		   ]
		  },
  {
"cell_type": "code",
	   "execution_count": null,
	   "metadata": {
	    "collapsed": true
	   },
	   "outputs": [],
"source": [
"//Example No. 7_05\n",
"//DoLittle LU Decomposition\n",
"//Pg No. 234\n",
"\n",
"clear ; close ; clc ;\n",
"\n",
"A = [ 3  2  1  ;  2  3  2  ;  1  2  3  ];\n",
"B = [ 10  ;  14  ;  14  ];\n",
"[n , n] = size(A);\n",
"\n",
"for i = 2:n\n",
"    U(1,:) = A(1,:);\n",
"    L(i,i) = 1 ;\n",
"    if i ~= 1 then\n",
"         L(i,1) = A(i,1)/U(1,1); \n",
"    end  \n",
"end\n",
"\n",
"for j = 2:n\n",
"    for i = 2:n\n",
"        \n",
"        if i <= j then\n",
"            U(i,j) = A(i,j);\n",
"            for k = 1:i-1\n",
"                U(i,j) = U(i,j) - L(i,k)*U(k,j);\n",
"            end\n",
"            printf('\nU(%i,%i) = %f \n',i,j,U(i,j))\n",
"        \n",
"        else\n",
"            L(i,j) = A(i,j)\n",
"            for k = 1:j-1\n",
"                L(i,j) = L(i,j) - L(i,k)*U(k,j);\n",
"            end\n",
"            L(i,j) = L(i,j)/U(j,j)  ;\n",
"            printf('\n L(%i,%i) = %f \n',i,j,L(i,j))\n",
"        end\n",
"    end\n",
"end\n",
"disp(U,'U = ')\n",
"disp(L,'L = ')\n",
"\n",
"//Forward Substitution\n",
"for i = 1:n\n",
"    z(i,1) = B(i,1);\n",
"    for j = 1:i-1\n",
"        z(i,1) = z(i,1) - L(i,j)*z(j,1);        \n",
"    end\n",
"    printf('\n z(%i) = %f \n',i,z(i,1))\n",
"end\n",
"\n",
"//Back Substitution\n",
"for i = n : -1 : 1\n",
"    x(i,1) = z(i,1);\n",
"    for j = n : -1 : i+1\n",
"        x(i,1) = x(i,1) - U(i,j)*x(j,1);\n",
"    end\n",
"    x(i,1) = x(i,1)/U(i,i);\n",
"    printf('\n x(%i) = %f \n',i,x(i,1))\n",
"end"
   ]
   }
,
{
		   "cell_type": "markdown",
		   "metadata": {},
		   "source": [
			"## Example 7.6: Choleskys_Factorisatio.sce"
		   ]
		  },
  {
"cell_type": "code",
	   "execution_count": null,
	   "metadata": {
	    "collapsed": true
	   },
	   "outputs": [],
"source": [
"//Example No. 7_06\n",
"//Cholesky's Factorisation\n",
"//Pg No. 242\n",
"\n",
"clear ; close ; clc ;\n",
"\n",
"A = [ 1 2 3 ; 2 8 22  ; 3 22 82 ];\n",
"[n,n] = size(A);\n",
"\n",
"for i = 1:n\n",
"    for j = 1:n\n",
"        if i == j then\n",
"            U(i,i) = A(i,i)\n",
"            for k = 1:i-1\n",
"                U(i,i) = U(i,i)-U(k,i)^2 ; \n",
"            end\n",
"            U(i,i) = sqrt(U(i,i));\n",
"         elseif i < j\n",
"             U(i,j) = A(i,j)\n",
"             for k = 1:i-1\n",
"                 U(i,j) = U(i,j) - U(k,i)*U(k,j);\n",
"             end\n",
"             U(i,j) = U(i,j)/U(i,i)\n",
"        end\n",
"    end\n",
"end\n",
"disp(U)"
   ]
   }
,
{
		   "cell_type": "markdown",
		   "metadata": {},
		   "source": [
			"## Example 7.7: Ill_Conditioned_Systems.sce"
		   ]
		  },
  {
"cell_type": "code",
	   "execution_count": null,
	   "metadata": {
	    "collapsed": true
	   },
	   "outputs": [],
"source": [
"//Example No. 7_07\n",
"//Ill-Conditioned Systems\n",
"//Pg No. 245\n",
"\n",
"clear ; close ; clc ;\n",
"\n",
"A = [ 2  1 ; 2.001  1];\n",
"B = [ 25 ; 25.01 ];\n",
"x(1) = (25 - 25.01)/(2 - 2.001);\n",
"x(2) = (25.01*2 - 25*2.001)/(2*1 - 2.001*1);\n",
"printf('\n x(1) = %f \n x(2) = %f \n',x(1),x(2))\n",
"x(1) = (25 - 25.01)/(2 - 2.0005);\n",
"x(2) = (25.01*2 - 25*2.0005)/(2*1 - 2.0005*1);\n",
"printf('\n x(1) = %f \n x(2) = %f \n',x(1),x(2))\n",
"r = A*x-B\n",
"disp(x)\n",
"disp(r)"
   ]
   }
],
"metadata": {
		  "kernelspec": {
		   "display_name": "Scilab",
		   "language": "scilab",
		   "name": "scilab"
		  },
		  "language_info": {
		   "file_extension": ".sce",
		   "help_links": [
			{
			 "text": "MetaKernel Magics",
			 "url": "https://github.com/calysto/metakernel/blob/master/metakernel/magics/README.md"
			}
		   ],
		   "mimetype": "text/x-octave",
		   "name": "scilab",
		   "version": "0.7.1"
		  }
		 },
		 "nbformat": 4,
		 "nbformat_minor": 0
}
