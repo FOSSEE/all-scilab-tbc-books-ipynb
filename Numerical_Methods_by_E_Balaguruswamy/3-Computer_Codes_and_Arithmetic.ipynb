{
"cells": [
 {
		   "cell_type": "markdown",
	   "metadata": {},
	   "source": [
       "# Chapter 3: Computer Codes and Arithmetic"
	   ]
	},
{
		   "cell_type": "markdown",
		   "metadata": {},
		   "source": [
			"## Example 3.10: Floating_Point_Notation.sce"
		   ]
		  },
  {
"cell_type": "code",
	   "execution_count": null,
	   "metadata": {
	    "collapsed": true
	   },
	   "outputs": [],
"source": [
"//Example No. 3_10\n",
"//Floating Point Notation\n",
"//Pg No. 52\n",
"clear ; close ; clc ;\n",
"\n",
"function [m,e] =float_notation(n)      \n",
"m = n ;\n",
"for i = 1:16\n",
"    if abs(m) >= 1 then\n",
"        m = n/10^i\n",
"        e = i\n",
"    elseif abs(m) < 0.1\n",
"        m = n*10^i\n",
"        e = -i\n",
"    else\n",
"        if i == 1 then\n",
"            e = 0\n",
"        end\n",
"        break ;\n",
"    end\n",
"end\n",
"endfunction\n",
"\n",
"[m,e] = float_notation(0.00596)\n",
"mprintf('\n 0.00596 is expressed as  %f*10^%i \n',m,e)\n",
"[m,e] = float_notation(65.7452)\n",
"mprintf('\n 65.7452 is expressed as  %f*10^%i \n',m,e)\n",
"[m,e] = float_notation(-486.8)\n",
"mprintf('\n -486.8 is expressed as  %f*10^%i \n',m,e)"
   ]
   }
,
{
		   "cell_type": "markdown",
		   "metadata": {},
		   "source": [
			"## Example 3.11: Integer_Arithmetic.sce"
		   ]
		  },
  {
"cell_type": "code",
	   "execution_count": null,
	   "metadata": {
	    "collapsed": true
	   },
	   "outputs": [],
"source": [
"//Example No. 3_11\n",
"//Interger Arithmetic\n",
"//Pg No. 53\n",
"clear ;close ;clc ;\n",
"\n",
"disp(int(25 + 12))\n",
"disp(int(25 - 12)) \n",
"disp(int(12 - 25))\n",
"disp(int(25*12))\n",
"disp(int(25/12))\n",
"disp(int(12/25))"
   ]
   }
,
{
		   "cell_type": "markdown",
		   "metadata": {},
		   "source": [
			"## Example 3.12: Integer_Arithmetic.sce"
		   ]
		  },
  {
"cell_type": "code",
	   "execution_count": null,
	   "metadata": {
	    "collapsed": true
	   },
	   "outputs": [],
"source": [
"//Example No. 3_12\n",
"//Integer Arithmetic\n",
"//Pg No. 53\n",
"clear ;close ;clc ;\n",
"a = 5 ;\n",
"b = 7 ;\n",
"c = 3 ;\n",
"Lhs = int((a + b)/c)\n",
"Rhs = int(a/c) + int(b/c)\n",
"disp(Rhs,'a/c + b/c = ',Lhs,'(a+b)/c = ')\n",
"if Lhs ~= Rhs then\n",
"    disp('The results are not identical.This is because the remainder of an integer division is always truncated')\n",
"end"
   ]
   }
,
{
		   "cell_type": "markdown",
		   "metadata": {},
		   "source": [
			"## Example 3.13: Floating_Point_Arithmetic_Addition.sce"
		   ]
		  },
  {
"cell_type": "code",
	   "execution_count": null,
	   "metadata": {
	    "collapsed": true
	   },
	   "outputs": [],
"source": [
"//Example No. 3_13\n",
"//Floating Point Arithmetic\n",
"//Pg No. 54\n",
"clear ;close ;clc ;\n",
"\n",
"fx = 0.586351 ;\n",
"Ex = 5 ;\n",
"fy = 0.964572 ;\n",
"Ey = 2 ;\n",
"[Ez,n] = max(Ex,Ey)\n",
"if n == 1 then\n",
"    fy = fy*10^(Ey-Ex)\n",
"    fz = fx + fy\n",
"    if fz > 1 then\n",
"        fz = fz*10^(-1) \n",
"        Ez = Ez + 1\n",
"    end\n",
"    disp(fz,'fz = ',fy,'fy = ',Ez,'Ez = ')\n",
"else\n",
"    fx = fx*10^(Ex - Ey)\n",
"    fz = fx + fy\n",
"    if fz > 1 then\n",
"        fz = fz*10^(-1)\n",
"        Ez = Ez + 1\n",
"    end\n",
"    disp(fz,'fz = ',fx,'fx = ',Ez,'Ez = ')\n",
"end\n",
"mprintf('\n z = %f E%i \n',fz,Ez)"
   ]
   }
,
{
		   "cell_type": "markdown",
		   "metadata": {},
		   "source": [
			"## Example 3.14: Floating_Point_Arithmetic_Addition.sce"
		   ]
		  },
  {
"cell_type": "code",
	   "execution_count": null,
	   "metadata": {
	    "collapsed": true
	   },
	   "outputs": [],
"source": [
"//Example No. 3_14\n",
"//Floating Point Arithmetic\n",
"//Pg No. 54\n",
"clear ;close ;clc ;\n",
"\n",
"fx = 0.735816 ;\n",
"Ex = 4 ;\n",
"fy = 0.635742 ;\n",
"Ey = 4 ;\n",
"[Ez,n] = max(Ex,Ey)\n",
"if n == 1 then\n",
"    fy = fy*10^(Ey-Ex)\n",
"    fz = fx + fy\n",
"    if fz > 1 then\n",
"        fz = fz*10^(-1)\n",
"        Ez = Ez + 1\n",
"    end\n",
"    disp(fz,'fz = ',fy,'fy = ',Ez,'Ez = ')\n",
"else\n",
"    fx = fx*10^(Ex - Ey)\n",
"    fz = fx + fy\n",
"    if fz > 1 then\n",
"        fz = fz*10^(-1) \n",
"        Ez = Ez + 1\n",
"    end\n",
"    disp(fz,'fz = ',fx,'fx = ',Ez,'Ez = ')\n",
"end\n",
"mprintf('\n z = %f E%i \n',fz,Ez)"
   ]
   }
,
{
		   "cell_type": "markdown",
		   "metadata": {},
		   "source": [
			"## Example 3.15: Floating_Point_Arithmetic_Subtraction.sce"
		   ]
		  },
  {
"cell_type": "code",
	   "execution_count": null,
	   "metadata": {
	    "collapsed": true
	   },
	   "outputs": [],
"source": [
"//Example No. 3_15\n",
"//Floating Point Arithmetic\n",
"//Pg No. 54\n",
"clear ;close ;clc ;\n",
"\n",
"fx = 0.999658 ;\n",
"Ex = -3 ;\n",
"fy = 0.994576 ;\n",
"Ey = -3 ;\n",
"Ez = max(Ex,Ey)\n",
"fy = fy*10^(Ey-Ex)\n",
"fz = fx - fy\n",
"disp(fz,'fz = ',Ez,'Ez = ')\n",
"mprintf('\n z = %f E%i \n',fz,Ez)\n",
"if fz < 0.1 then\n",
"     fz = fz*10^6      //Since we are using 6 significant digits\n",
"     n = length(string(fz))\n",
"     fz = fz/10^n\n",
"     Ez = Ez + n - 6\n",
"     mprintf('\n z = %f E%i (normalised) \n',fz,Ez)\n",
"end"
   ]
   }
,
{
		   "cell_type": "markdown",
		   "metadata": {},
		   "source": [
			"## Example 3.16: Floating_Point_Arithmetic_Multiplication.sce"
		   ]
		  },
  {
"cell_type": "code",
	   "execution_count": null,
	   "metadata": {
	    "collapsed": true
	   },
	   "outputs": [],
"source": [
"//Example No. 3_16\n",
"//Floating Point Arithmetic\n",
"//Pg No. 55\n",
"clear ;close ;clc ;\n",
"\n",
"fx = 0.200000 ;\n",
"Ex = 4 ;\n",
"fy = 0.400000 ;\n",
"Ey = -2 ;\n",
"fz = fx*fy\n",
"Ez = Ex + Ey \n",
"mprintf('\n fz = %f \n Ez = %i \n z = %f E%i \n',fz,Ez,fz,Ez)\n",
"if fz < 0.1 then\n",
"    fz = fz*10\n",
"    Ez = Ez - 1\n",
"    mprintf('\n z = %f E%i (normalised) \n',fz,Ez)\n",
"end"
   ]
   }
,
{
		   "cell_type": "markdown",
		   "metadata": {},
		   "source": [
			"## Example 3.17: Floating_Point_Arithmetic_division.sce"
		   ]
		  },
  {
"cell_type": "code",
	   "execution_count": null,
	   "metadata": {
	    "collapsed": true
	   },
	   "outputs": [],
"source": [
"//Example No. 3_17\n",
"//Floating Point Arithmetic\n",
"//Pg No. 55\n",
"clear ;close ;clc ;\n",
"\n",
"fx = 0.876543 ;\n",
"Ex = -5 ;\n",
"fy = 0.200000 ;\n",
"Ey = -3 ;\n",
"fz = fx/fy\n",
"Ez = Ex - Ey \n",
"mprintf('\n fz = %f \n Ez = %i \n z = %f E%i \n',fz,Ez,fz,Ez)\n",
"\n",
"if fz > 1 then\n",
"    fz = fz/10\n",
"    Ez = Ez + 1\n",
"    mprintf('\n z = %f E%i (normalised) \n',fz,Ez)\n",
"end"
   ]
   }
,
{
		   "cell_type": "markdown",
		   "metadata": {},
		   "source": [
			"## Example 3.18: Errors_in_Arithmetic.sce"
		   ]
		  },
  {
"cell_type": "code",
	   "execution_count": null,
	   "metadata": {
	    "collapsed": true
	   },
	   "outputs": [],
"source": [
"//Example No. 3_18\n",
"//Floating Point Arithmetic\n",
"//Pg No. 56\n",
"clear ;close ;clc ;\n",
"\n",
"fx = 0.500000 ;\n",
"Ex = 1 ;\n",
"fy = 0.100000 ;\n",
"Ey = -7 ;\n",
"[Ez,n] = max(Ex,Ey)\n",
"if n == 1 then\n",
"    fy = fy*10^(Ey-Ex)\n",
"    fz = fx + fy\n",
"    if fz > 1 then\n",
"        fz = fz*10^(-1) \n",
"        Ez = Ez + 1\n",
"    end\n",
"    disp(fy,'fy = ',Ez,'Ez = ')\n",
"else\n",
"    fx = fx*10^(Ex - Ey)\n",
"    fz = fx + fy\n",
"    if fz > 1 then\n",
"        fz = fz*10^(-1)\n",
"        Ez = Ez + 1\n",
"    end\n",
"    disp(fx,'fx = ',Ez,'Ez = ')\n",
"end\n",
"mprintf('\n fz = %f \n z = %f E%i \n',fz,fz,Ez)"
   ]
   }
,
{
		   "cell_type": "markdown",
		   "metadata": {},
		   "source": [
			"## Example 3.19: Errors_in_Arithmetic.sce"
		   ]
		  },
  {
"cell_type": "code",
	   "execution_count": null,
	   "metadata": {
	    "collapsed": true
	   },
	   "outputs": [],
"source": [
"//Example No. 3_19\n",
"//Floating Point Arithmetic\n",
"//Pg No. 56\n",
"clear ;close ;clc ;\n",
"\n",
"fx = 0.350000 ;\n",
"Ex = 40 ;\n",
"fy = 0.500000 ;\n",
"Ey = 70 ;\n",
"fz = fx*fy\n",
"Ez = Ex + Ey \n",
"mprintf('\n fz = %f \n Ez = %i \n z = %f E%i \n',fz,Ez,fz,Ez)\n",
"if fz < 0.1 then\n",
"    fz = fz*10\n",
"    Ez = Ez - 1\n",
"    mprintf('\n z = %f E%i (normalised) \n',fz,Ez)\n",
"end"
   ]
   }
,
{
		   "cell_type": "markdown",
		   "metadata": {},
		   "source": [
			"## Example 3.1: binary_to_decimal.sce"
		   ]
		  },
  {
"cell_type": "code",
	   "execution_count": null,
	   "metadata": {
	    "collapsed": true
	   },
	   "outputs": [],
"source": [
"//Example No. 3_01\n",
"//Binary to decimal\n",
"//Pg No. 45\n",
"clear ;close ; clc ;\n",
"\n",
"b = '1101.1101'\n",
"v = strsplit(b,'.')    //splitting integral part and fraction part\n",
"integralp = str2code(v(1))//converting strings to numbers\n",
"fractionp = str2code(v(2))\n",
"li = length(integralp)  //lenght of integral part\n",
"lf = length(fractionp)  // and fractional part\n",
"di = 0 ;//Initializing integral part and decimal part\n",
"df = 0 ;\n",
"for i = 1:li\n",
"    di = 2*di+integralp(i)\n",
"end\n",
"for i = lf:-1:1\n",
"    df = df/2 + fractionp(i)\n",
"end\n",
"df = df/2 ;\n",
"d = di + df ; //Integral and fractional parts\n",
"disp(d,'Decimal value = ')"
   ]
   }
,
{
		   "cell_type": "markdown",
		   "metadata": {},
		   "source": [
			"## Example 3.20: Errors_in_Arithmetic.sce"
		   ]
		  },
  {
"cell_type": "code",
	   "execution_count": null,
	   "metadata": {
	    "collapsed": true
	   },
	   "outputs": [],
"source": [
"//Example No. 3_20\n",
"//Floating Point Arithmetic\n",
"//Pg No. 56\n",
"clear ;close ;clc ;\n",
"\n",
"fx = 0.875000 ;\n",
"Ex = -18 ;\n",
"fy = 0.200000 ;\n",
"Ey = 95 ;\n",
"fz = fx/fy\n",
"Ez = Ex - Ey \n",
"mprintf('\n fz = %f \n Ez = %i \n z = %f E%i \n',fz,Ez,fz,Ez)\n",
"\n",
"if fz > 1 then\n",
"    fz = fz/10\n",
"    Ez = Ez + 1\n",
"    mprintf('\n z = %f E%i (normalised) \n',fz,Ez)\n",
"end"
   ]
   }
,
{
		   "cell_type": "markdown",
		   "metadata": {},
		   "source": [
			"## Example 3.21: Errors_in_Arithmetic.sce"
		   ]
		  },
  {
"cell_type": "code",
	   "execution_count": null,
	   "metadata": {
	    "collapsed": true
	   },
	   "outputs": [],
"source": [
"//Example No. 3_21\n",
"//Floating Point Arithmetic\n",
"//Pg No. 57\n",
"clear ;close ;clc ;\n",
"\n",
"fx = 0.500000 ;\n",
"Ex = 0 ;\n",
"fy = 0.499998 ;\n",
"Ey = 0 ;\n",
"Ez = 0 ;\n",
"fz = fx - fy\n",
"disp(fz,'fz = ',Ez,'Ez = ')\n",
"mprintf('\n z = %f E%i \n',fz,Ez)\n",
"if fz < 0.1 then\n",
"     fz = fz*10^6\n",
"     n  = length(string(fz))\n",
"     fz = fz/10^n\n",
"     Ez = Ez + n - 6\n",
"     mprintf('\n z = %f E%i (normalised) \n',fz,Ez)\n",
"end"
   ]
   }
,
{
		   "cell_type": "markdown",
		   "metadata": {},
		   "source": [
			"## Example 3.22: Associative_law_of_Additio.sce"
		   ]
		  },
  {
"cell_type": "code",
	   "execution_count": null,
	   "metadata": {
	    "collapsed": true
	   },
	   "outputs": [],
"source": [
"//Example No. 3_22\n",
"//Laws of Arithmetic\n",
"//Pg No. 57\n",
"clear ; close ; clc ;\n",
"function [fz,Ez] =add_sub(fx,Ex,fy,Ey) //addition and subtraction fuction\n",
"if fx*fy >= 0 then\n",
"    //Addition\n",
"    [Ez,n] = max(Ex,Ey)\n",
"    if n == 1 then\n",
"        fy = fy*10^(Ey-Ex)\n",
"        fz = fx + fy\n",
"        if fz > 1 then\n",
"            fz = fz*10^(-1)\n",
"            Ez = Ez + 1\n",
"        end\n",
"    else\n",
"        fx = fx*10^(Ex - Ey)\n",
"        fz = fx + fy\n",
"        if fz > 1 then\n",
"            fz = fz*10^(-1) \n",
"            Ez = Ez + 1\n",
"        end\n",
"    end\n",
"    \n",
"else\n",
"    //Subtraction\n",
"    [Ez,n] = max(Ex,Ey)\n",
"    if n == 1 then\n",
"        fy = fy*10^(Ey-Ex)\n",
"        fz = fx + fy\n",
"        if abs(fz) < 0.1 then\n",
"           fz = fz*10^6\n",
"           fz = floor(fz)\n",
"           nfz = length(string(abs(fz)))\n",
"           fz = fz/10^nfz\n",
"           Ez = nfz - 6           \n",
"        end\n",
"    else\n",
"        fx = fx*10^(Ex - Ey)\n",
"        fz = fx + fy\n",
"        if fz < 0.1 then\n",
"           fz = fz*10^6\n",
"           fz = int(fz)\n",
"           nfz = length(string(abs(fz)))\n",
"           fz = fz/10^nfz\n",
"           Ez = nfz - 6\n",
"        end\n",
"    end\n",
"end   \n",
"endfunction\n",
"\n",
"fx = 0.456732\n",
"Ex = -2\n",
"fy = 0.243451\n",
"Ey = 0\n",
"fz = -0.24800\n",
"Ez = 0\n",
"\n",
"[fxy,Exy] = add_sub(fx,Ex,fy,Ey)\n",
"[fxy_z,Exy_z] = add_sub(fxy,Exy,fz,Ez)\n",
"[fyz,Eyz] = add_sub(fy,Ey,fz,Ez)\n",
"[fx_yz,Ex_yz] = add_sub(fx,Ex,fyz,Eyz)\n",
"mprintf('fxy = %f\n Exy = %i \n fxy_z = %f\n Exy_z = %i \n fyz = %f \n Eyz = %i \n fx_yz = %f \n Ex_yz = %i \n',fxy,Exy,fxy_z,Exy_z,fyz,Eyz,fx_yz,Ex_yz)\n",
"\n",
"if  fxy_z ~= fx_yz | Exy_z ~= Ex_yz then\n",
"    disp('(x+y) + z ~= x + (y+z)') \n",
"end"
   ]
   }
,
{
		   "cell_type": "markdown",
		   "metadata": {},
		   "source": [
			"## Example 3.23: Associative_law_of_Multiplicatio.sce"
		   ]
		  },
  {
"cell_type": "code",
	   "execution_count": null,
	   "metadata": {
	    "collapsed": true
	   },
	   "outputs": [],
"source": [
"//Example No. 3_23\n",
"//Associative law\n",
"//Pg No. 58\n",
"clear ; close ; clc ;\n",
"x = 0.400000*10^40\n",
"y = 0.500000*10^70\n",
"z = 0.300000*10^(-30)\n",
"disp('In book they have considered the maximum exponent can be only 99, since 110 is greater than 99 the result is erroneous')\n",
"disp((x*y)*z,'xy_z = ','but in scilab the this value is much larger than 110 so we get a correct result ')\n",
"disp(x*(y*z),'x_yz = ')"
   ]
   }
,
{
		   "cell_type": "markdown",
		   "metadata": {},
		   "source": [
			"## Example 3.24: Distributive_law_of_Arithmetic.sce"
		   ]
		  },
  {
"cell_type": "code",
	   "execution_count": null,
	   "metadata": {
	    "collapsed": true
	   },
	   "outputs": [],
"source": [
"//Example No. 3_24\n",
"//Distributive law\n",
"//Pg No. 58\n",
"clear ;close ;clc ;\n",
"\n",
"x = 0.400000*10^1 ;\n",
"fx = 0.400000\n",
"Ex = 1\n",
"y = 0.200001*10^0 ;\n",
"z = 0.200000*10^0 ;\n",
"x_yz = x*(y-z)\n",
"x_yz = x_yz*10^6\n",
"x_yz = floor(x_yz) //considering only six significant digits\n",
"n = length(string(x_yz))\n",
"fx_yz = x_yz/10^n\n",
"Ex_yz = n - 6\n",
"x_yz = fx_yz *10^Ex_yz\n",
"disp(x_yz,'x_yz = ')\n",
"\n",
"fxy = fx*y\n",
"fxy = fxy*10^6\n",
"fxy = floor(fxy) //considering only six significant digits\n",
"n = length(string(fxy))\n",
"fxy = fxy/10^n\n",
"Exy = n - 6\n",
"xy = fxy * 10^Exy\n",
"\n",
"fxz = fx*z\n",
"fxz = fxz*10^6\n",
"fxz = floor(fxz) //considering only six significant digits\n",
"n = length(string(fxz))\n",
"fxz = fxz/10^n\n",
"Exz = n - 6\n",
"xz = fxz * 10^Exz\n",
"\n",
"xy_xz = xy - xz\n",
"disp(xy_xz,'xy_xz = ')"
   ]
   }
,
{
		   "cell_type": "markdown",
		   "metadata": {},
		   "source": [
			"## Example 3.2: Hexadecimal_to_Decimal.sce"
		   ]
		  },
  {
"cell_type": "code",
	   "execution_count": null,
	   "metadata": {
	    "collapsed": true
	   },
	   "outputs": [],
"source": [
"//Example No. 3_02\n",
"//hexadecimal to decimal\n",
"//Pg No. 46\n",
"clear ; close ; clc ;\n",
"\n",
"h = '12AF' ;\n",
"u = str2code(h)\n",
"u = abs(u)\n",
"n = length(u)\n",
"d = 0\n",
"for i = 1:n\n",
"    d = d*16 + u(i)\n",
"end\n",
"disp(d,'Decimal value = ')\n",
"//Using Scilab Function\n",
"d = hex2dec(h)\n",
"disp(d,'Using scilab function Decimal value = ')"
   ]
   }
,
{
		   "cell_type": "markdown",
		   "metadata": {},
		   "source": [
			"## Example 3.3: Decimal_to_Binary.sce"
		   ]
		  },
  {
"cell_type": "code",
	   "execution_count": null,
	   "metadata": {
	    "collapsed": true
	   },
	   "outputs": [],
"source": [
"//Example No. 3_03\n",
"//Decimal to Binary\n",
"//Pg No. 47\n",
"clear; close ; clc;\n",
"\n",
"d = 43.375 ;\n",
"//Separating integral part and fractional parts\n",
"dint = floor(d)\n",
"dfrac = d - dint\n",
"\n",
"//Integral Part\n",
"i = 1 ;\n",
"intp = dec2bin(dint)\n",
"\n",
"//Fractional part\n",
"j = 1 ;\n",
"while dfrac ~= 0\n",
"    fracp(j) = floor(dfrac*2)\n",
"    dfrac = dfrac*2 - floor(dfrac*2)\n",
"    j = j+1 ;\n",
"end\n",
"fracp = strcat(string(fracp))\n",
"\n",
"b = strcat([intp,fracp],'.') //combining integral part and fractional part\n",
"disp(b,'Binary equivalent = ')"
   ]
   }
,
{
		   "cell_type": "markdown",
		   "metadata": {},
		   "source": [
			"## Example 3.4: Decimal_to_Octal.sce"
		   ]
		  },
  {
"cell_type": "code",
	   "execution_count": null,
	   "metadata": {
	    "collapsed": true
	   },
	   "outputs": [],
"source": [
"//Example No. 3_04\n",
"//Decimal to Octal\n",
"//Pg No. 48\n",
"clear ; close ; clc ;\n",
"\n",
"d = 163 ;\n",
"oct = dec2oct(d)\n",
"disp(oct,'Octal number = ')"
   ]
   }
,
{
		   "cell_type": "markdown",
		   "metadata": {},
		   "source": [
			"## Example 3.5: Decimal_to_Binary.sce"
		   ]
		  },
  {
"cell_type": "code",
	   "execution_count": null,
	   "metadata": {
	    "collapsed": true
	   },
	   "outputs": [],
"source": [
"//Example No. 3_05\n",
"//Decimal to binary\n",
"//Pg No. 48\n",
"clear ; close ; clc ;\n",
"\n",
"d = 0.65\n",
"j = 1 ;\n",
"\n",
"while d ~= 0\n",
"    fracp(j) = floor(d*2) //integral part of d*2\n",
"    d = d*2 - floor(d*2)  //Fractional part of d*2\n",
"    j = j+1 ;\n",
"    decp(j-1) = d\n",
"    p = 1\n",
"    \n",
"    for i = 1:j-2\n",
"        if abs(d - decp(i))< 0.001  then //Condition for terminating the recurring binary equivalent by \n",
"            p = 0                        //finding out if the new fractional part is equal to any of the previous fractonal parts\n",
"            break  \n",
"        end\n",
"    end\n",
"    \n",
"    if p == 0 then\n",
"        break\n",
"    end\n",
"    \n",
"end\n",
"rec_p = fracp(i+1:j-1)     //Recurring part\n",
"\n",
"rec_p = strcat(string(rec_p))\n",
"fracp = strcat(string(fracp))\n",
"\n",
"disp(strcat( [fracp,rec_p] ),'Binary equivalent = ')"
   ]
   }
,
{
		   "cell_type": "markdown",
		   "metadata": {},
		   "source": [
			"## Example 3.6: Octal_to_Hexadecimal.sce"
		   ]
		  },
  {
"cell_type": "code",
	   "execution_count": null,
	   "metadata": {
	    "collapsed": true
	   },
	   "outputs": [],
"source": [
"//Example No. 3_06\n",
"//Octal to Hexadecimal \n",
"//Pg No. 49 \n",
"clear ; close ; clc ;\n",
"\n",
"oct = '243' ;\n",
"u = str2code(oct)\n",
"n = length(u)\n",
"for i = 1:n\n",
"    b(i) = dec2bin(u(i)) //Converting each digit to binary equivalent\n",
"    if length(b(i)) == 2 then       //making the binary equivalents into a groups of triplets\n",
"        b(i) = strcat(['0',b(i)])\n",
"    elseif length(b(i)) == 1\n",
"        b(i) = strcat(['0','0',b(i)])\n",
"    end\n",
"end\n",
"bin = strcat(b) //combining all the triplets\n",
"i = 1 ;\n",
"while length(bin) > 4\n",
"    OtoH = strsplit(bin,length(bin)-4) //splitting the binary equivalent into groups of binary quadruplets\n",
"    bin = OtoH(1)\n",
"    h(i) = OtoH(2)\n",
"    i = i+1 \n",
"end\n",
"h(i) = bin ;\n",
"h = h($:-1:1)\n",
"h = bin2dec(h)\n",
"h = dec2hex(h)\n",
"h = strcat(h)\n",
"\n",
"disp(h,'Hexadecimal equivalent of octal number 243 is ')"
   ]
   }
,
{
		   "cell_type": "markdown",
		   "metadata": {},
		   "source": [
			"## Example 3.7: Hexadecimal_to_Octal.sce"
		   ]
		  },
  {
"cell_type": "code",
	   "execution_count": null,
	   "metadata": {
	    "collapsed": true
	   },
	   "outputs": [],
"source": [
"//Example No. 3_07\n",
"//Hexadecimal to Octal \n",
"//Pg No. 49\n",
"clear ; close ; clc ;\n",
"\n",
"h = '39.B8' ;\n",
"h = strsplit(h,'.') //separating integral part and fractional part\n",
"cint = abs(str2code(h(1)))\n",
"cfrac = abs(str2code(h(2)))\n",
"bint = dec2bin(cint)\n",
"bfrac = dec2bin(cfrac)\n",
"bint = strcat(bint)\n",
"bfrac = strcat(bfrac)\n",
"\n",
"//Integral Part \n",
"i = 1 ;\n",
"while length(bint) > 3\n",
"    HtoO = strsplit(bint,length(bint)-3)\n",
"    bint = HtoO(1)\n",
"    oint(i) = HtoO(2)\n",
"    i = i+1 ;\n",
"end\n",
"oint(i) = bint\n",
"oint =oint($:-1:1)\n",
"oint = bin2dec(oint)\n",
"\n",
"//Fraction Part\n",
"i = 1 ;\n",
"while length(bfrac)> 3\n",
"    HtoO = strsplit(bfrac,3)\n",
"    bfrac = HtoO(2)\n",
"    ofrac(i) = HtoO(1)\n",
"    i = i+1\n",
"end\n",
"ofrac(i) = bfrac\n",
"ofrac = bin2dec(ofrac)\n",
"\n",
"//Combining integral part and fraction part\n",
"oct = strcat([strcat(string(oint)),strcat(string(ofrac))],'.')\n",
"disp(oct,'Octal number equivalent of Hexadecimal number 39.B8 is ')"
   ]
   }
,
{
		   "cell_type": "markdown",
		   "metadata": {},
		   "source": [
			"## Example 3.8: Binary_form_of_negative_integers.sce"
		   ]
		  },
  {
"cell_type": "code",
	   "execution_count": null,
	   "metadata": {
	    "collapsed": true
	   },
	   "outputs": [],
"source": [
"//Example No. 3_08\n",
"//-ve Integer to binary\n",
"//Pg No. 50\n",
"clear ; close ; clc ;\n",
"\n",
"negint = -13\n",
"posbin = dec2bin(abs(negint))\n",
"posbin = strcat(['0',posbin])\n",
"compl_1 = strsubst(posbin,'0','d')\n",
"compl_1 = strsubst(compl_1,'1','0')\n",
"compl_1 = strsubst(compl_1,'d','1')\n",
"compl_2 = dec2bin(bin2dec(compl_1) + 1)\n",
"\n",
"disp(compl_2,'Binary equivalent of -13 is ')"
   ]
   }
,
{
		   "cell_type": "markdown",
		   "metadata": {},
		   "source": [
			"## Example 3.9: 16_bit_word_representation.sce"
		   ]
		  },
  {
"cell_type": "code",
	   "execution_count": null,
	   "metadata": {
	    "collapsed": true
	   },
	   "outputs": [],
"source": [
"//Example No. 3_09\n",
"//Binary representation\n",
"//Pg No. 51\n",
"clear ;close ;clc ;\n",
"\n",
"n = -32768\n",
"compl_32767 = dec2bin(bitcmp(abs(n)-1,16) + 1)\n",
"disp(compl_32767,'binary equivalent of -32767 is ')\n",
"\n",
"n_1 = -1\n",
"dcomp = bitcmp(1,16)\n",
"compl_1 = dec2bin(dcomp+1)\n",
"disp(compl_1,'binary equivalent of -1 is ')\n",
"compl_32767_code = str2code(compl_32767)\n",
"compl_1_code = str2code(compl_1)\n",
"summ(1) = 1 //since -32768 is a negative number\n",
"c = 0\n",
"for i = 16:-1:2\n",
"    summ(i) = compl_32767_code(i) + compl_1_code(i)+c\n",
"    if summ(i) == 2 then\n",
"        summ(i) = 0\n",
"        c = 1\n",
"    else \n",
"        c = 0\n",
"    end   \n",
"end\n",
"binfinal = strcat(string(summ))\n",
"disp(binfinal,'Binary equivalent of -32768 in a 16 bit word is ') "
   ]
   }
],
"metadata": {
		  "kernelspec": {
		   "display_name": "Scilab",
		   "language": "scilab",
		   "name": "scilab"
		  },
		  "language_info": {
		   "file_extension": ".sce",
		   "help_links": [
			{
			 "text": "MetaKernel Magics",
			 "url": "https://github.com/calysto/metakernel/blob/master/metakernel/magics/README.md"
			}
		   ],
		   "mimetype": "text/x-octave",
		   "name": "scilab",
		   "version": "0.7.1"
		  }
		 },
		 "nbformat": 4,
		 "nbformat_minor": 0
}
