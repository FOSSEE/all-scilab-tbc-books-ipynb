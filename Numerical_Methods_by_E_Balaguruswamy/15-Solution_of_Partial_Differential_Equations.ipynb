{
"cells": [
 {
		   "cell_type": "markdown",
	   "metadata": {},
	   "source": [
       "# Chapter 15: Solution of Partial Differential Equations"
	   ]
	},
{
		   "cell_type": "markdown",
		   "metadata": {},
		   "source": [
			"## Example 15.1: Elliptic_Equations.sce"
		   ]
		  },
  {
"cell_type": "code",
	   "execution_count": null,
	   "metadata": {
	    "collapsed": true
	   },
	   "outputs": [],
"source": [
"//Example No. 15_01\n",
"//Elliptic Equations\n",
"//Pg No. 488\n",
"clear ; close ; clc ;\n",
"\n",
"l = 15\n",
"h = 5\n",
"n = 1 + 15/5\n",
"f(1,1:4) = 100 ;\n",
"f(1:4,1) = 100 ;\n",
"f(4,1:4) = 0 ;\n",
"f(1:4,4) = 0 ;\n",
"\n",
"//At point 1 :  f2 + f3 - 4f1 + 100 + 100 = 0\n",
"//At point 2 :  f1 + f4 - 4f2 + 100 +   0 = 0\n",
"//At point 3 :  f1 + f4 - 4f3 + 100 +   0 = 0\n",
"//At point 4 :  f2 + f3 - 4f4 +   0 +   0 = 0\n",
"//\n",
"//Final Equations are\n",
"//         -4f1 + f2 + f3 + 0 = -200\n",
"//           f1 - 4f2 + 0 + f4 = -100\n",
"//           f1 + 0 - 4f3 + f4 = -100\n",
"//           0  + f2 + f3 - 4f4 = 0\n",
"A = [ -4 1 1 0 ; 1 -4 0 1 ; 1 0 -4 1 ; 0 1 1 -4 ]\n",
"B = [-200 ; -100 ; -100 ; 0]\n",
"C = A\B\n",
"mprintf('\n The solution of the system is \n f1 = %i \n f2 = %i \n f3 = %i \n f4 = %f \n ',C(1),C(2),C(3),C(4))"
   ]
   }
,
{
		   "cell_type": "markdown",
		   "metadata": {},
		   "source": [
			"## Example 15.2: Liebmanns_Iterative_Method.sce"
		   ]
		  },
  {
"cell_type": "code",
	   "execution_count": null,
	   "metadata": {
	    "collapsed": true
	   },
	   "outputs": [],
"source": [
"//Example No. 15_02\n",
"//Liebmann's Iterative method\n",
"//Pg No. 489\n",
"clear ; close ; clc ;\n",
"\n",
"f(1,1:4) = 100 ;\n",
"f(1:4,1) = 100 ;\n",
"f(4,1:4) = 0 ;\n",
"f(1:4,4) = 0 ;\n",
"f(3,3) = 0\n",
"for n = 1:5\n",
"    for i = 2:3\n",
"        for j = 2:3\n",
"            if n == 1 & i == 2 & j == 2 then\n",
"                f(i,j) = ( f(i+1,j+1) + f(i-1,j-1) + f(i-1,j+1) + f(i+1,j-1) )/4\n",
"            else\n",
"                f(i,j) = ( f(i+1,j) + f(i-1,j) + f(i,j+1) + f(i,j-1) )/4\n",
"            end\n",
"        end\n",
"    end\n",
"    A(2:5,n) = [f(2,2);f(2,3) ;  f(3,2) ;  f(3,3) ]\n",
"end\n",
"A(1,1:5) = 0:4\n",
"disp(A,'First row of below matrix represents iteration number')"
   ]
   }
,
{
		   "cell_type": "markdown",
		   "metadata": {},
		   "source": [
			"## Example 15.3: Poissons_Equation.sce"
		   ]
		  },
  {
"cell_type": "code",
	   "execution_count": null,
	   "metadata": {
	    "collapsed": true
	   },
	   "outputs": [],
"source": [
"//Example No. 15_03\n",
"//Poisson's Equation\n",
"//Pg No. 490\n",
"clear ; close ; clc ;\n",
"\n",
"//D2f = 2*x^2 * y^2\n",
"// f = 0\n",
"// h = 1 \n",
"//Point 1 : 0 + 0 + f2 + f3 - 4f1 = 2(1)^2 * 2^2\n",
"//          f2 + f3 - 4f1 = 8\n",
"//Point 2 : 0 + 0 + f1 + f4 -4f2 = 2*(2)^2*2^2\n",
"//           f1 - 4f2 = f4 = 32\n",
"//Point 3 : 0 + 0 + f1 + f4 - 4f4 = 2*(1^2)*1^2\n",
"//           f1 -4f3 + f4 = 2\n",
"//Point 4 : 0 + 0 + f2 + f3 - 4f4 = 2* 2^2 * 1^2\n",
"//            f2 + f3 - 4f4 = 8\n",
"//Rearranging the equations\n",
"//            -4f1 + f2 + f3 = 8\n",
"//             f1 - 4f2 + f4 = 32\n",
"//             f1 - 4f3 + f4 = 2\n",
"//              f2 + f3 - 4f4 = 8\n",
"A = [ -4 1 1 0 ; 1 -4 0 1 ; 1 0 -4 1 ; 0 1 1 -4]\n",
"B = [ 8 ; 32 ; 2 ; 8 ]\n",
"C = A\B ;\n",
"mprintf('The solution is \n f1 = %f \n f2 = %f \n f3 = %f \n f4 = %f \n ', C(1),C(2),C(3),C(4))"
   ]
   }
,
{
		   "cell_type": "markdown",
		   "metadata": {},
		   "source": [
			"## Example 15.4: Gauss_Siedel_Iteratio.sce"
		   ]
		  },
  {
"cell_type": "code",
	   "execution_count": null,
	   "metadata": {
	    "collapsed": true
	   },
	   "outputs": [],
"source": [
"//Example No. 15_04\n",
"//Gauss-Seidel Iteration\n",
"//Pg No. 491\n",
"clear ; close ; clc ;\n",
" \n",
"f2 = 0\n",
"f3 = 0\n",
"for i = 1:4\n",
"    f1 = (f2 + f3 - 8)/4\n",
"    f4 = f1 \n",
"    f2 = (f1 + f4 -32)/4\n",
"    f3 = (f1 + f4 - 2)/4\n",
"    mprintf('\nIteration %i\n f1 = %f,    f2 = %f,    f3 = %f,    f4 = %f\n',i,f1,f2,f3,f4)\n",
"end"
   ]
   }
,
{
		   "cell_type": "markdown",
		   "metadata": {},
		   "source": [
			"## Example 15.5: Initial_Value_Problems.sce"
		   ]
		  },
  {
"cell_type": "code",
	   "execution_count": null,
	   "metadata": {
	    "collapsed": true
	   },
	   "outputs": [],
"source": [
"//Example No. 15_05\n",
"//Initial Value Problems\n",
"//Pg No. 494\n",
"clear ; close ; clc ;\n",
"\n",
"h = 1 ;\n",
"k = 2 ;\n",
"tau = h^2/(2*k)\n",
"for i = 2:4\n",
"    f(1,i) = 50*( 4 - (i-1) )\n",
"end\n",
"f(1:7,1) = 0 ;\n",
"f(1:7,5) = 0 ;\n",
"for j = 1:6\n",
"    for i = 2:4\n",
"        f(j+1,i) = ( f(j,i-1) + f(j,i+1) )/2 \n",
"    end\n",
"end\n",
"disp(f,'The final results are ')"
   ]
   }
,
{
		   "cell_type": "markdown",
		   "metadata": {},
		   "source": [
			"## Example 15.6: Crank_Nicholson_Implicit_Method.sce"
		   ]
		  },
  {
"cell_type": "code",
	   "execution_count": null,
	   "metadata": {
	    "collapsed": true
	   },
	   "outputs": [],
"source": [
"//Example No. 15_06\n",
"//Crank-Nicholson Implicit Method\n",
"//Pg No. 497\n",
"clear ; close ; clc ;\n",
"\n",
"h = 1 ;\n",
"k = 2 ;\n",
"tau = h^2/(2*k)\n",
"for i = 2:4\n",
"    f(1,i) = 50*( 4 - (i-1) )\n",
"end\n",
"f(1:5,1) = 0 ;\n",
"f(1:5,5) = 0 ;\n",
"A = [4  -1  0 ; -1  4  -1 ; 0  -1  4]\n",
"for j = 1:4\n",
"    for i = 2:4\n",
"        B(i-1,1) = f(j,i-1) + f(j,i+1)\n",
"    end\n",
"    C = A\B\n",
"    f(j+1,2) = C(1)\n",
"    f(j+1,3) = C(2)\n",
"    f(j+1,4) = C(3)\n",
"end\n",
"disp(f,'The final solution using crank nicholson implicit method is ')"
   ]
   }
,
{
		   "cell_type": "markdown",
		   "metadata": {},
		   "source": [
			"## Example 15.7: Hyperbolic_Equations.sce"
		   ]
		  },
  {
"cell_type": "code",
	   "execution_count": null,
	   "metadata": {
	    "collapsed": true
	   },
	   "outputs": [],
"source": [
"//Example No. 15_07\n",
"//Hyperbolic Equations\n",
"//Pg No. 500\n",
"clear ; close ;clc ;\n",
"\n",
"h = 1\n",
"Tbyp = 4\n",
"tau = sqrt(h^2 /4)\n",
"r = 1+(2.5 - 0)/tau\n",
"c = 1+(5 - 0)/h\n",
"for i = 2:c-1\n",
"    f(1,i) = (i-1)*(5 - (i-1) )\n",
"end\n",
"f(1:r,1) = 0\n",
"f(1:r,c) = 0\n",
"for i = 2:c-1\n",
"    g(i) = 0\n",
"    f(2,i) = (f(1,i+1) + f(1,i-1))/2 + tau*g(i) \n",
"end\n",
"for j = 2:r-1\n",
"    for i = 2:c-1\n",
"        f(j+1,i) = -f(j-1,i) + f(j,i+1) + f(j,i-1)\n",
"    end\n",
"end\n",
"disp(f,'The values estimated are ')"
   ]
   }
],
"metadata": {
		  "kernelspec": {
		   "display_name": "Scilab",
		   "language": "scilab",
		   "name": "scilab"
		  },
		  "language_info": {
		   "file_extension": ".sce",
		   "help_links": [
			{
			 "text": "MetaKernel Magics",
			 "url": "https://github.com/calysto/metakernel/blob/master/metakernel/magics/README.md"
			}
		   ],
		   "mimetype": "text/x-octave",
		   "name": "scilab",
		   "version": "0.7.1"
		  }
		 },
		 "nbformat": 4,
		 "nbformat_minor": 0
}
