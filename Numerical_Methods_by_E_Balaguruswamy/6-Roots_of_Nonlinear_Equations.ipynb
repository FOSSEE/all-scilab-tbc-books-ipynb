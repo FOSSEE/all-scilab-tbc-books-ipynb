{
"cells": [
 {
		   "cell_type": "markdown",
	   "metadata": {},
	   "source": [
       "# Chapter 6: Roots of Nonlinear Equations"
	   ]
	},
{
		   "cell_type": "markdown",
		   "metadata": {},
		   "source": [
			"## Example 6.02: Theoritical_Problem.sce"
		   ]
		  },
  {
"cell_type": "code",
	   "execution_count": null,
	   "metadata": {
	    "collapsed": true
	   },
	   "outputs": [],
"source": [
"//Example No. 6_02\n",
"//Pg No. 128\n",
"disp('Theoritical Problem')\n",
"disp('For Details go to page no. 128')"
   ]
   }
,
{
		   "cell_type": "markdown",
		   "metadata": {},
		   "source": [
			"## Example 6.06: Theoritical_Problem.sce"
		   ]
		  },
  {
"cell_type": "code",
	   "execution_count": null,
	   "metadata": {
	    "collapsed": true
	   },
	   "outputs": [],
"source": [
"//Example No. 6_06\n",
"//Pg No. 146\n",
"disp('Theoritical Problem')\n",
"disp('For Details go to page no. 146')"
   ]
   }
,
{
		   "cell_type": "markdown",
		   "metadata": {},
		   "source": [
			"## Example 6.10: Theoritical_Problem.sce"
		   ]
		  },
  {
"cell_type": "code",
	   "execution_count": null,
	   "metadata": {
	    "collapsed": true
	   },
	   "outputs": [],
"source": [
"//Example No. 6_10\n",
"//Pg No. 155\n",
"disp('Theoritical Problem')\n",
"disp('For Details go to page no. 155')"
   ]
   }
,
{
		   "cell_type": "markdown",
		   "metadata": {},
		   "source": [
			"## Example 6.11: Fixed_Point_Method.sce"
		   ]
		  },
  {
"cell_type": "code",
	   "execution_count": null,
	   "metadata": {
	    "collapsed": true
	   },
	   "outputs": [],
"source": [
"//Example No. 6_11\n",
"//Fixed point method\n",
"//Pg No. 161\n",
"clear ; close ; clc ;\n",
"\n",
"//Coefficients of polynomial in increasing order of power of x\n",
"A = [ -2  1  1 ];\n",
"B = [ 2 0 -1 ];\n",
"gx = poly(B,'x','c');\n",
"x(1) = 0 ;//initial guess x0 = 0\n",
"for i = 2:10\n",
"    x(i) = horner(gx,x(i-1));\n",
"    printf('\n x%i = %f\n',i-1,x(i))\n",
"    if (x(i)-x(i-1)) == 0 then\n",
"        printf('\n%f is root of the equation,since x%i - x%i = 0 \n',x(i),i-1,i-2)\n",
"        break\n",
"    end\n",
"end\n",
"//Changing initial guess x0 = -1\n",
"x(1) = -1 ;\n",
"for i = 2:10\n",
"    x(i) = horner(gx,x(i-1));\n",
"    printf('\nx%i = %f\n',i-1,x(i))\n",
"    if (x(i)-x(i-1)) == 0 then\n",
"        printf('\n %f is root of the equation,since x%i - x%i = 0',x(i),i-1,i-2)\n",
"        break\n",
"    end\n",
"end"
   ]
   }
,
{
		   "cell_type": "markdown",
		   "metadata": {},
		   "source": [
			"## Example 6.12: Fixed_Point_Method.sce"
		   ]
		  },
  {
"cell_type": "code",
	   "execution_count": null,
	   "metadata": {
	    "collapsed": true
	   },
	   "outputs": [],
"source": [
"//Example No. 6_12\n",
"//Fixed point method\n",
"//Pg No. 162\n",
"clear ; close ; clc ;\n",
"\n",
"A = [ -5  0  1 ];\n",
"funcprot(0);\n",
"deff('x = g(x)','x = 5/x');\n",
"x(1) = 1 ;\n",
"printf('\n x0 = %f \n',x(1));\n",
"for i = 2:5\n",
"    x(i) = feval(x(i-1),g);\n",
"    printf(' x%i = %f \n',i-1,x(i))\n",
"end\n",
"//Defining g(x) in different way\n",
"deff('x = g(x)','x = x^2 + x - 5');\n",
"x(1) = 0;\n",
"printf('\n x0 = %f \n',x(1));\n",
"for i = 2:5\n",
"    x(i) = feval(x(i-1),g);\n",
"    printf(' x%i = %f \n',i-1,x(i))\n",
"end\n",
"//Third form of g(x)\n",
"deff('x = g(x)',' x = (x + 5/x)/2 ');\n",
"x(1) = 1;\n",
"printf('\n x0 = %f \n',x(1));\n",
"for i = 2:7\n",
"    x(i) = feval(x(i-1),g);\n",
"    printf(' x%i = %f \n',i-1,x(i))\n",
"end"
   ]
   }
,
{
		   "cell_type": "markdown",
		   "metadata": {},
		   "source": [
			"## Example 6.13: Fixed_Point_Method_for_non_linear_equations.sce"
		   ]
		  },
  {
"cell_type": "code",
	   "execution_count": null,
	   "metadata": {
	    "collapsed": true
	   },
	   "outputs": [],
"source": [
"//Example No. 6_13\n",
"//Solving System of non-linear equations using FIXED POINT METHOD\n",
"//Pg No. 169\n",
"clear ; close ; clc ;\n",
"\n",
"printf(' x^2 - y^2 = 3 \n x^2 + x*y \n');\n",
"deff('x = f(x,y)','x = y + 3/(x+y)') ;\n",
"deff('y = g(x)','y = (6-x^2)/x') ;\n",
"x(1) = 1 ;\n",
"y(1) = 1 ;\n",
"printf('\n x0 = %f \n y0 = %f \n',x(1),y(1));\n",
"for i = 2:4\n",
"    x(i) = feval(x(i-1),y(i-1),f);\n",
"    y(i) = feval(x(i-1),g);\n",
"    printf('\n x%i = %f \n y%i = %f \n',i-1,x(i),i-1,y(i));\n",
"end"
   ]
   }
,
{
		   "cell_type": "markdown",
		   "metadata": {},
		   "source": [
			"## Example 6.14: Newton_Raphson_Method_for_Non_linear_equations.sce"
		   ]
		  },
  {
"cell_type": "code",
	   "execution_count": null,
	   "metadata": {
	    "collapsed": true
	   },
	   "outputs": [],
"source": [
"//Example No. 6_14\n",
"//Solving System of Non-linear equations using Newton Raphson Method\n",
"//Pg No. 172\n",
"clear ; close ; clc ;\n",
"\n",
"printf('x^2 + x*y = 6 \n x^2 - y^2 = 3 \n');\n",
"deff('f = F(x,y)','f = x^2 + x*y - 6' );\n",
"deff('g = G(x,y)','g = x^2 - y^2 -3');\n",
"deff('f1 = dFx(x,y)','f1 = 2*x + y');\n",
"deff('f2 = dFy(x,y)','f2 = y');\n",
"deff('g1 = dGx(x,y)','g1 = 2*x ');\n",
"deff('g2 = dGy(x,y)','g2 = -2*y');\n",
"x(1) = 1 ;\n",
"y(1) = 1 ;\n",
"\n",
"for i = 2:3\n",
"    Fval = feval(x(i-1),y(i-1),F);\n",
"    Gval = feval(x(i-1),y(i-1),G);\n",
"    f1 = feval(x(i-1),y(i-1),dFx);\n",
"    f2 = feval(x(i-1),y(i-1),dFy);\n",
"    g1 = feval(x(i-1),y(i-1),dGx);\n",
"    g2 = feval(x(i-1),y(i-1),dGy);\n",
"    D =  f1*g2 - f2*g1 ;\n",
"    \n",
"    x(i) = x(i-1) - (Fval*g2 - Gval*f2)/D ;\n",
"    y(i) = y(i-1) - (Gval*f1 - Fval*g1)/D ;\n",
"    printf('\n x%i = %f \n y%i = %f \n',i-1,x(i),i-1,y(i))    \n",
"    \n",
"end"
   ]
   }
,
{
		   "cell_type": "markdown",
		   "metadata": {},
		   "source": [
			"## Example 6.15: Synthetic_Division.sce"
		   ]
		  },
  {
"cell_type": "code",
	   "execution_count": null,
	   "metadata": {
	    "collapsed": true
	   },
	   "outputs": [],
"source": [
"//Example No. 6_15\n",
"//Synthetic Division\n",
"//Pg No. 176\n",
"clear ; close ; clc ;\n",
"\n",
"a = [-9 15 -7 1];\n",
"b(4) = 0 ;\n",
"for i = 3:-1:1\n",
"    b(i) = a(i+1) + b(i+1)*3\n",
"    printf('b%i = %f\n',i,b(i))\n",
"end\n",
"    disp(poly(b,'x','c'),'Thus the polynomial is')"
   ]
   }
,
{
		   "cell_type": "markdown",
		   "metadata": {},
		   "source": [
			"## Example 6.16: Bairstow_Method_for_Factor_of_polynomial.sce"
		   ]
		  },
  {
"cell_type": "code",
	   "execution_count": null,
	   "metadata": {
	    "collapsed": true
	   },
	   "outputs": [],
"source": [
"//Example No. 6_16\n",
"//Quadratic factor of a polynomial using Bairstow's Method\n",
"//Pg No. 187\n",
"clear ; close ; clc ;\n",
"\n",
"a = [ 10 1 0 1];\n",
"n = length(a);\n",
"u = 1.8 ;\n",
"v = -1 ;\n",
"\n",
"b(n) = a(n);\n",
"b(n-1) = a(n-1) + u*b(n);\n",
"c(n) = 0 ;\n",
"c(n-1) = b(n);\n",
"\n",
"for i = n-2:-1:1\n",
"    b(i) = a(i) + u*b(i+1) + v*b(i+2) ;\n",
"    c(i) = b(i+1) + u*c(i+1) + v*c(i+2) ;\n",
"end\n",
"for i = n:-1:1\n",
"    printf('b%i = %f \n',i-1,b(i))\n",
"end\n",
"for i = n:-1:1\n",
"    printf('c%i = %f \n',i-1,b(i))\n",
"end\n",
"\n",
"D = c(2)*c(2) - c(1)*c(3) ;\n",
"du = -1*(b(2)*c(2) - c(1)*c(3))/D ;\n",
"dv = -1*(b(1)*c(2) - b(2)*c(1))/D ;\n",
"u = u + du ;\n",
"v = v + du ;\n",
"printf('\n D = %f \n du = %f \n dv = %f \n u = %f\n v = %f \n',D,du,dv,u,v)"
   ]
   }
,
{
		   "cell_type": "markdown",
		   "metadata": {},
		   "source": [
			"## Example 6.17: Mullers_Method_for_Leonards_equation.sce"
		   ]
		  },
  {
"cell_type": "code",
	   "execution_count": null,
	   "metadata": {
	    "collapsed": true
	   },
	   "outputs": [],
"source": [
"//Example No. 6_17\n",
"//Solving Leonard's equation using MULLER'S Method\n",
"//Pg No. 197\n",
"clear ; close ; clc ;\n",
"\n",
"deff('y = f(x)','y = x^3 + 2*x^2 + 10*x - 20') ;\n",
"x1 = 0 ;\n",
"x2 = 1 ;\n",
"x3 = 2 ;\n",
"for i = 1:10\n",
"    f1 = feval(x1,f) ;\n",
"    f2 = feval(x2,f) ;\n",
"    f3 = feval(x3,f) ;\n",
"    h1 = x1-x3 ;\n",
"    h2 = x2-x3 ;\n",
"    d1 = f1 - f3 ;\n",
"    d2 = f2 - f3 ;\n",
"    D = h1*h2*(h1-h2);\n",
"    a0 = f3 ;\n",
"    a1 = (d2*h1^2 - d1*h2^2)/D ;\n",
"    a2 = (d1*h2 - d2*h1)/D ;\n",
"    if abs(-2*a0/( a1 + sqrt( a1^2 - 4*a0*a2 ) )) < abs( -2*a0/( a1 - sqrt( a1^2 - 4*a0*a2 ) ))then\n",
"        h4 = -2*a0/(a1 + sqrt(a1^2 - 4*a0*a2));\n",
"    else\n",
"        h4 = -2*a0/(a1 - sqrt(a1^2 - 4*a0*a2))\n",
"    end\n",
"    x4 = x3 + h4 ;\n",
"    printf('\n x1 = %f\n x2 = %f\n x3 = %f\n f1 = %f\n f2 = %f\n f3 = %f\n h1 = %f\n h2 = %f\n d1 = %f\n d2 = %f\n a0 = %f\n a1 = %f\n a2 = %f\n h4 = %f\n x4 = %f\n ',x1,x2,x3,f1,f2,f3,h1,h2,d1,d2,a0,a1,a2,h4,x4) ;\n",
"    relerr = abs((x4-x3)/x4);\n",
"    if relerr <= 0.00001 then\n",
"        printf('root of the polynomial is x4 = %f',x4);\n",
"        break\n",
"    end\n",
"    x1 = x2 ;\n",
"    x2 = x3 ;\n",
"    x3 = x4 ;\n",
"  \n",
"    \n",
"end"
   ]
   }
,
{
		   "cell_type": "markdown",
		   "metadata": {},
		   "source": [
			"## Example 6.1: Possible_initial_guess_values_for_roots.sce"
		   ]
		  },
  {
"cell_type": "code",
	   "execution_count": null,
	   "metadata": {
	    "collapsed": true
	   },
	   "outputs": [],
"source": [
"//Example No. 6_01\n",
"//Possible Initial guess values for roots\n",
"//Pg No. 126\n",
"\n",
"clear ; close ; clc ;\n",
"\n",
"A = [ 2 ; -8 ; 2 ; 12]; // Coefficients of x terms in the decreasing order of power\n",
"n = size(A);\n",
"x1 = -A(2)/A(1);\n",
"disp(x1,'The largest possible root is  x1 =')\n",
"disp(x1,'No root can be larger than the value')\n",
"\n",
"x = sqrt((A(2)/A(1))^2 - 2*(A(3)/A(1))^2);\n",
"\n",
"printf('\n all real roots lie in the interval (-%f,%f)\n',x,x)\n",
"disp('We can use these two points as initial guesses for the bracketing methods and one of them for open end methods')"
   ]
   }
,
{
		   "cell_type": "markdown",
		   "metadata": {},
		   "source": [
			"## Example 6.3: Evaluating_Polynomial_using_Horners_rule.sce"
		   ]
		  },
  {
"cell_type": "code",
	   "execution_count": null,
	   "metadata": {
	    "collapsed": true
	   },
	   "outputs": [],
"source": [
"//Example No. 6_03\n",
"//Evaluating Polynomial using Horner's rule\n",
"//Pg No. \n",
"clear ; close ; clc ;\n",
"\n",
"//Coefficients of x terms in the increasing order of power\n",
"A = [ 6 ; 1 ; -4 ; 1];\n",
"x = 2\n",
"[n,c] = size(A) ;\n",
"p(n) = A(n)\n",
"disp(p(n), 'p(4) = ')\n",
"for i = 1:n-1\n",
"    p(n-i) = p(n-i+1)*x + A(n-i)\n",
"    printf('\n p(%i)= %i\n',n-i,p(n-i))\n",
"end\n",
"mprintf('\n f(%i) = p(1) = %i',x,p(1))"
   ]
   }
,
{
		   "cell_type": "markdown",
		   "metadata": {},
		   "source": [
			"## Example 6.4: Bisection_Method.sce"
		   ]
		  },
  {
"cell_type": "code",
	   "execution_count": null,
	   "metadata": {
	    "collapsed": true
	   },
	   "outputs": [],
"source": [
"//Example No. 6_04\n",
"//Root of a Equation Using Bisection Method\n",
"//Pg No. 132\n",
"\n",
"clear ; close ; clc ;\n",
"\n",
"//Coefficients in increasing order of power of x starting from 0\n",
"A = [-10 -4 1];\n",
"disp('First finding the interval that contains a root,this can be done by using Eq 6.10')\n",
"xmax = sqrt((A(2)/A(3))^2 - 2*(A(1)/A(3)))\n",
"printf('\n Both the roots lie in the interval (-%i,%i) \n',xmax,xmax)\n",
"x = -6:6\n",
"p = poly(A,'x','c')\n",
"fx = horner(p,x);\n",
"for i = 1:12\n",
"    if fx(1,i)*fx(1,i+1) < 0 then\n",
"        break ;\n",
"    end    \n",
"end\n",
"printf('\n The root lies in the interval (%i,%i)\n',x(1,i),x(1,i+1))\n",
"x1 = x(1,i);\n",
"x2 = x(1,i+1);\n",
"f1 = fx(1,i);\n",
"f2 = fx(1,i+1);\n",
"err = abs((x2-x1)/x2) ;\n",
"while err > 0.0001\n",
"x0 = (x1 + x2)/2 ;\n",
"f0 = horner(p,x0);\n",
"if f0*f1 < 0  then\n",
"    x2 = x0\n",
"    f2 = f0\n",
"elseif f0*f2 < 0\n",
"    x1 = x0\n",
"    f1 = f0\n",
"else\n",
"    break\n",
"end\n",
"printf('\n the root lies in the interval (%f,%f)\n',x1,x2);\n",
"err = abs((x2-x1)/x2);\n",
"end\n",
"printf('\nthe approximate root is %f\n',x0)"
   ]
   }
,
{
		   "cell_type": "markdown",
		   "metadata": {},
		   "source": [
			"## Example 6.5: False_Position_Method.sce"
		   ]
		  },
  {
"cell_type": "code",
	   "execution_count": null,
	   "metadata": {
	    "collapsed": true
	   },
	   "outputs": [],
"source": [
"//Example No. 6_05\n",
"//False Position Method\n",
"//Pg No. 139\n",
"clear ; close ; clc ;\n",
"\n",
"//Coefficients of polynomial in increasing order of power of x\n",
"A = [-2  -1  1];\n",
"x1 = 1 ;\n",
"x2 = 3 ;\n",
"fx = poly(A,'x','c');\n",
"for i = 1:15\n",
"    printf('Iteration No. %i \n',i);\n",
"    fx1 = horner(fx,x1);\n",
"    fx2 = horner(fx,x2);\n",
"    x0 = x1 - fx1*(x2-x1)/(fx2-fx1) \n",
"    printf('x0 = %f \n',x0);\n",
"    fx0 = horner(fx,x0);\n",
"    if fx1*fx0 < 0 then\n",
"        x2 = x0 ;\n",
"    else\n",
"        x1 = x0 ;\n",
"    end    \n",
"end"
   ]
   }
,
{
		   "cell_type": "markdown",
		   "metadata": {},
		   "source": [
			"## Example 6.7: Newton_Raphson_Method.sce"
		   ]
		  },
  {
"cell_type": "code",
	   "execution_count": null,
	   "metadata": {
	    "collapsed": true
	   },
	   "outputs": [],
"source": [
"//Example No. 6_07\n",
"//Root of the Equation using Newton Raphson Method\n",
"//Pg No. 147\n",
"clear ; close ; clc ;\n",
"\n",
"//Coefficients of polynomial in increasing order of power of x\n",
"A = [ 2  -3  1];\n",
"fx = poly(A,'x','c');\n",
"dfx = derivat(fx);\n",
"\n",
"x(1) = 0 ;\n",
"for i = 1:10\n",
"    f(i)  = horner(fx,x(i));\n",
"    if f(i)~= 0 then\n",
"        df(i) = horner(dfx,x(i));\n",
"        x(i+1) = x(i) - f(i)/df(i) ;\n",
"        printf('x%i = %f\n',i+1,x(i+1));    \n",
"    else\n",
"        printf('Since f(%f) = 0, the root closer to the point x = 0 is %f \n',x(i),x(i) );\n",
"        break\n",
"    end\n",
"end"
   ]
   }
,
{
		   "cell_type": "markdown",
		   "metadata": {},
		   "source": [
			"## Example 6.8: Newton_Raphson_Method.sce"
		   ]
		  },
  {
"cell_type": "code",
	   "execution_count": null,
	   "metadata": {
	    "collapsed": true
	   },
	   "outputs": [],
"source": [
"//Example No. 6_08\n",
"//Root of the Equation using Newton Raphson Method\n",
"//Pg No. 151\n",
"clear ; close ; clc ;\n",
"//Coefficients of polynomial in increasing order of power of x\n",
"A = [ 6  1  -4  1 ];\n",
"fx = poly(A,'x','c');\n",
"dfx = derivat(fx);\n",
"\n",
"x(1) = 5.0 ;\n",
"for i = 1:6\n",
"    f(i)  = horner(fx,x(i));\n",
"    if f(i)~= 0 then\n",
"        df(i) = horner(dfx,x(i));\n",
"        x(i+1) = x(i) - f(i)/df(i) ;\n",
"        printf('x%i = %f\n',i+1,x(i+1));\n",
"    end\n",
"end\n",
"disp('From the results we can see that number of correct digits approximately doubles with each iteration')"
   ]
   }
,
{
		   "cell_type": "markdown",
		   "metadata": {},
		   "source": [
			"## Example 6.9: Secant_Method.sce"
		   ]
		  },
  {
"cell_type": "code",
	   "execution_count": null,
	   "metadata": {
	    "collapsed": true
	   },
	   "outputs": [],
"source": [
"//Example No. 6_09\n",
"//Root of the equation using SECANT Method\n",
"//Pg No. 153\n",
"clear ; close ; clc ;\n",
"\n",
"//Coefficients of polynomial in increasing order of power of x\n",
"A = [ -10  -4  1];\n",
"x1 = 4 ;\n",
"x2 = 2 ;\n",
"fx = poly(A,'x','c')\n",
"for i = 1:6\n",
"    printf('\n For Iteration No. %i\n',i)\n",
"    fx1 = horner(fx,x1);\n",
"    fx2 = horner(fx,x2);\n",
"    x3 = x2 - fx2*(x2-x1)/(fx2-fx1) ;\n",
"    printf('\n x1 = %f\n x2 = %f \n fx1 = %f \n fx2 = %f \n x3 = %f \n',x1,x2,fx1,fx2,x3) ;\n",
"    x1 = x2;\n",
"    x2 = x3;\n",
"end\n",
"disp('This can be still continued further for accuracy')"
   ]
   }
],
"metadata": {
		  "kernelspec": {
		   "display_name": "Scilab",
		   "language": "scilab",
		   "name": "scilab"
		  },
		  "language_info": {
		   "file_extension": ".sce",
		   "help_links": [
			{
			 "text": "MetaKernel Magics",
			 "url": "https://github.com/calysto/metakernel/blob/master/metakernel/magics/README.md"
			}
		   ],
		   "mimetype": "text/x-octave",
		   "name": "scilab",
		   "version": "0.7.1"
		  }
		 },
		 "nbformat": 4,
		 "nbformat_minor": 0
}
