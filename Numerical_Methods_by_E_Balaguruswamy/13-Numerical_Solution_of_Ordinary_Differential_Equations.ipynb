{
"cells": [
 {
		   "cell_type": "markdown",
	   "metadata": {},
	   "source": [
       "# Chapter 13: Numerical Solution of Ordinary Differential Equations"
	   ]
	},
{
		   "cell_type": "markdown",
		   "metadata": {},
		   "source": [
			"## Example 13.10: Milne_Simpson_Predictor_Corrector_Method.sce"
		   ]
		  },
  {
"cell_type": "code",
	   "execution_count": null,
	   "metadata": {
	    "collapsed": true
	   },
	   "outputs": [],
"source": [
"//Example No. 13_10\n",
"//Milne-Simpson Predictor-Corrector method\n",
"//Pg NO. 446\n",
"clear;close;clc;\n",
"\n",
"deff('F = f(x,y)','F = 2*y/x')\n",
"x0 = 1 ;\n",
"y0 = 2 ;\n",
"h = 0.25 ;\n",
"//Assuming y1 ,y2 and y3(required for milne-simpson formula) are estimated using Fourth- order Runge kutta method\n",
"x1 = x0 + h \n",
"y1 = 3.13 ;\n",
"x2 = x1 + h \n",
"y2 = 4.5 ;\n",
"x3 = x2 + h\n",
"y3 = 6.13 ;\n",
"//Milne Predictor formula\n",
"yp4 = y0 + 4*h*(2*f(x1,y1) - f(x2,y2) + 2*f(x3,y3))/3\n",
"x4 = x3 + h \n",
"fp4 = f(x4,yp4) ;\n",
"disp(fp4,'fp4 = ',yp4,'yp4 = ')\n",
"//Simpson Corrector formula\n",
"yc4 = y2 + h*( f(x2,y2) + 4*f(x3,y3) + fp4)/3 \n",
"f4 = f(x4,yc4)\n",
"disp(f4,'f4 = ',yc4,'yc4 = ')\n",
"\n",
"yc4 = y2 + h*( f(x2,y2) + 4*f(x3,y3) + f4)/3 \n",
"disp(yc4 ,'yc4 = ') \n",
"disp('Note- the exact solution is y(2) = 8')"
   ]
   }
,
{
		   "cell_type": "markdown",
		   "metadata": {},
		   "source": [
			"## Example 13.11: Adams_Bashforth_Moulton_Method.sce"
		   ]
		  },
  {
"cell_type": "code",
	   "execution_count": null,
	   "metadata": {
	    "collapsed": true
	   },
	   "outputs": [],
"source": [
"//Example No. 13_11\n",
"//Adams-Bashforth-Moulton Method\n",
"//Pg NO. 446\n",
"clear;close;clc;\n",
"\n",
"deff('F = f(x,y)','F = 2*y/x')\n",
"x0 = 1 ;\n",
"y0 = 2 ;\n",
"h = 0.25 ;\n",
"x1 = x0 + h \n",
"y1 = 3.13 ;\n",
"x2 = x1 + h \n",
"y2 = 4.5 ;\n",
"x3 = x2 + h\n",
"y3 = 6.13 ;\n",
"//Adams Predictor formula\n",
"yp4 = y3 + h*(55*f(x3,y3) - 59*f(x2,y2) + 37*f(x1,y1) - 9*f(x0,y0))/24\n",
"x4 = x3 + h \n",
"fp4 = f(x4,yp4) \n",
"disp(fp4,'fp4 = ',yp4,'yp4 = ','Adams Predictor formula')\n",
"//Adams Corrector formula\n",
"yc4 = y3 + h*( f(x1,y1) - 5*f(x2,y2) + 19*f(x3,y3) + 9*fp4 )/24 \n",
"f4 = f(x4,yc4)\n",
"disp(f4,'f4 = ',yc4,'yc4 = ','Adams Corrector formula')\n",
"\n",
"yc4 = y3 + h*( f(x1,y1) - 5*f(x2,y2) + 19*f(x3,y3) + 9*f4 )/24 \n",
"disp(yc4 ,'refined-yc4 = ') "
   ]
   }
,
{
		   "cell_type": "markdown",
		   "metadata": {},
		   "source": [
			"## Example 13.12: Milne_Simpson_Method_Using_Modifier.sce"
		   ]
		  },
  {
"cell_type": "code",
	   "execution_count": null,
	   "metadata": {
	    "collapsed": true
	   },
	   "outputs": [],
"source": [
"//Example No. 13_12\n",
"//Milne-Simpson Method using modifier\n",
"//Pg No. 453\n",
"clear ; close ; clc ;\n",
"\n",
"deff('F = f(y)','F = -y^2 ')\n",
"x = [ 1 ; 1.2 ; 1.4 ; 1.6 ] ;\n",
"y = [ 1 ; 0.8333333 ; 0.7142857 ; 0.625 ] ;\n",
"h = 0.2 ;\n",
"\n",
"for i = 1:2\n",
"    yp = y(i) + 4*h*( 2*f( y(i+1) ) - f( y(i+2) ) + 2*f( y(i+3) ) )/3\n",
"    fp = f(yp) ;\n",
"    yc = y( i+2) + h*(f( y(i+2) ) + 4*f( y(i+3) ) + fp )/3 ;\n",
"    Etc = -(yc - yp)/29\n",
"    y(i+4) = yc + Etc\n",
"    mprintf('\n y%ip = %f\n f%ip = %f \n y%ic = %f \n Modifier Etc = %f \n Modified y%ic = %f \n',i+3,yp,i+3,fp,i+3,yc,Etc,i+3,y(i+4))\n",
"end\n",
"exactanswer = 0.5 ;\n",
"err = exactanswer - y(6) ;\n",
"disp(err,'error = ')"
   ]
   }
,
{
		   "cell_type": "markdown",
		   "metadata": {},
		   "source": [
			"## Example 13.13: System_of_Differential_Equations.sce"
		   ]
		  },
  {
"cell_type": "code",
	   "execution_count": null,
	   "metadata": {
	    "collapsed": true
	   },
	   "outputs": [],
"source": [
"//Example No. 13_13\n",
"//System of differetial Equations\n",
"//Pg No. 455\n",
"clear ; close ; clc ;\n",
"\n",
"deff('F1 = f1(x,y1,y2)','F1 = x + y1 + y2 ')\n",
"deff('F2 = f2(x,y1,y2)','F2 = 1 + y1 + y2 ')\n",
"\n",
"x0 = 0 ;\n",
"y10 = 1 ;\n",
"y20 = -1 ;\n",
"h = 0.1 ;\n",
"m1(1) = f1( x0 , y10 , y20 )\n",
"m1(2) = f2( x0 , y10 , y20 )\n",
"m2(1) = f1( x0+h , y10 + h*m1(1) , y20 + h*m1(2) )\n",
"m2(2) = f2( x0+h , y10 + h*m1(1) , y20 + h*m1(2) )\n",
"m(1) = (m1(1) + m2(1))/2 \n",
"m(2) = (m1(2) + m2(2))/2\n",
"\n",
"y1_0_1 = y10 + h*m(1)\n",
"y2_0_1 = y20 + h*m(2)\n",
"\n",
"mprintf('m1(1) = %f\n m1(2) = %f\n m2(1) = %f\n m2(2) = %f\n m(1) = %f\n m(2) = %f\n y1(0.1) = %f\n y2(0.1) = %f\n',m1(1),m1(2),m2(1),m2(2),m(1),m(2),y1_0_1,y2_0_1) "
   ]
   }
,
{
		   "cell_type": "markdown",
		   "metadata": {},
		   "source": [
			"## Example 13.14: Higher_Order_Differential_Equations.sce"
		   ]
		  },
  {
"cell_type": "code",
	   "execution_count": null,
	   "metadata": {
	    "collapsed": true
	   },
	   "outputs": [],
"source": [
"//Example No. 13_14\n",
"//Higher Order Differential Equations\n",
"//Pg No. 457\n",
"clear ; close ; clc ;\n",
"\n",
"x0 = 0\n",
"y10 = 0\n",
"y20 = 1\n",
"h = 0.2\n",
"m1(1) = y20 ;\n",
"m1(2) = 6*x0 + 3*y10 - 2*y20\n",
"m2(1) = y20 + h*m1(2)\n",
"m2(2) = 6*(x0+h) + 3*(y10 + h*m1(1)) - 2*(y20 + h*m1(2)) \n",
"m(1) = (m1(1) + m2(1))/2 \n",
"m(2) = (m1(2) + m2(2))/2\n",
"\n",
"y1_0_2 = y10 + h*m(1)\n",
"y2_0_2 = y20 + h*m(2)\n",
"\n",
"mprintf('m1(1) = %f\n m1(2) = %f\n m2(1) = %f\n m2(2) = %f\n m(1) = %f\n m(2) = %f\n y1(0.1) = %f\n y2(0.1) = %f\n',m1(1),m1(2),m2(1),m2(2),m(1),m(2),y1_0_2,y2_0_2) "
   ]
   }
,
{
		   "cell_type": "markdown",
		   "metadata": {},
		   "source": [
			"## Example 13.1: Taylor_Method.sce"
		   ]
		  },
  {
"cell_type": "code",
	   "execution_count": null,
	   "metadata": {
	    "collapsed": true
	   },
	   "outputs": [],
"source": [
"//Example No. 13_01\n",
"//Taylor method\n",
"//Pg No. 414\n",
"clear ; close ; clc ;\n",
"\n",
"deff('F = f(x,y)','F = x^2 + y^2')\n",
"deff('D2Y = d2y(x,y)','D2Y = 2*x + 2*y*f(x,y)');\n",
"deff('D3Y = d3y(x,y)','D3Y = 2 + 2*y*d2y(x,y) + 2*f(x,y)^2');\n",
"deff('Y = y(x)','Y = 1 + f(0,1)*x + d2y(0,1)*x^2/2 + d3y(0,1)*x^3/6');\n",
"disp(y(0.25),'y(0.25) = ')\n",
"disp(y(0.5),'y(0.5) = ')"
   ]
   }
,
{
		   "cell_type": "markdown",
		   "metadata": {},
		   "source": [
			"## Example 13.2: Recursive_Taylor_Method.sce"
		   ]
		  },
  {
"cell_type": "code",
	   "execution_count": null,
	   "metadata": {
	    "collapsed": true
	   },
	   "outputs": [],
"source": [
"//Example No. 13_02\n",
"//Recursive Taylor Method\n",
"//Pg No. 415\n",
"clear ; close ; clc ;\n",
"\n",
"deff('F = f(x,y)','F = x^2 + y^2')\n",
"deff('D2Y = d2y(x,y)','D2Y = 2*x + 2*y*f(x,y)');\n",
"deff('D3Y = d3y(x,y)','D3Y = 2 + 2*y*d2y(x,y) + 2*f(x,y)^2');\n",
"deff('D4Y = d4y(x,y)','D4Y = 6*f(x,y)*d2y(x,y) + 2*y*d3y(x,y) ');\n",
"h = 0.2 ;\n",
"deff('Y = y(x,y)','Y = y + f(x,y)*h + d2y(x,y)*h^2/2 + d3y(x,y)*h^3/6 + d4y(x,y)*h^4/factorial(4)');\n",
"x0 = 0;\n",
"y0 = 0 ;\n",
"for i = 1:2\n",
"    y_(i) = y(x0,y0)\n",
"   printf(' Iteration-%i\n\n dy(0) = %f\n d2y(0) = %f\n d3y(0) = %f\n d4y(0) = %f\n ',i,f(x0,y0),d2y(x0,y0),d3y(x0,y0),d4y(x0,y0)) \n",
"    x0 = x0 + i*h\n",
"    y0 = y_(i)\n",
"   printf('y(0) = %f\n\n',y_(i))\n",
"end"
   ]
   }
,
{
		   "cell_type": "markdown",
		   "metadata": {},
		   "source": [
			"## Example 13.3: Picards_Method.sce"
		   ]
		  },
  {
"cell_type": "code",
	   "execution_count": null,
	   "metadata": {
	    "collapsed": true
	   },
	   "outputs": [],
"source": [
"//Example No. 13_3\n",
"//Picard's Method\n",
"//Pg No. 417\n",
"clear ; close ; clc ;\n",
"funcprot(0)\n",
"//y'(x) = x^2 + y^2,y(0) = 0\n",
"//y(1) = y0 + integral(x^2 + y0^2,x0,x)\n",
"//y(1) = x^3/3\n",
"//y(2) = 0 + integral(xY2 + y1^2,x0,x)\n",
"//     = integral(x^2 + x^6/9,0,x) = x^3/3 + x^7/63\n",
"//therefore y(x) = x^3 /3 + x^7/63\n",
"deff('Y = y(x)','Y = x^3/3 + x^7/63 ')\n",
"disp(y(1),'y(1) = ',y(0.2),'y(0.2) = ',y(0.1),'y(0.1) = ','for dy(x) = x^2 + y^2 the results are ')\n",
"\n",
"//y'(x) = x*e^y, y(0) = 0\n",
"//y0 = 0 , x0 = 0\n",
"//Y(1) = 0 + integral(x*e^0,0,x) = x^2/2\n",
"//y(2) = 0 + integral( x*e^( x^2/2 ) ,0,x) = e^(x^2/2)-1\n",
"//therefore y(x) = e^(x^2/2) - 1\n",
"deff('Y = y(x)','Y = exp(x^2/2) - 1 ')\n",
"disp(y(1),'y(1) = ',y(0.2),'y(0.2) = ',y(0.1),'y(0.1) = ',,'for dy(x) = x*e^y the results are ')"
   ]
   }
,
{
		   "cell_type": "markdown",
		   "metadata": {},
		   "source": [
			"## Example 13.4: Eulers_Method.sce"
		   ]
		  },
  {
"cell_type": "code",
	   "execution_count": null,
	   "metadata": {
	    "collapsed": true
	   },
	   "outputs": [],
"source": [
"//Example No. 13_04\n",
"//Euler's Method\n",
"//Pg No. 417\n",
"clear ; close ; clc ;\n",
"\n",
"deff('DY = dy(x)','DY = 3*x^2 + 1')\n",
"x0 = 1\n",
"y(1) = 2 ;\n",
"//h = 0.5\n",
"h = 0.5\n",
"mprintf('for h = %f\n',h)\n",
"for i = 2 : 3\n",
"    y(i) = y(i-1) + h*dy(x0+(i-2)*h)\n",
"    mprintf('y(%f) = %f\n',x0+(i-1)*h,y(i))\n",
"end\n",
"//h = 0.25\n",
"h = 0.25\n",
"mprintf('\nfor h = %f\n',h)\n",
"for i = 2 : 5\n",
"    y(i) = y(i-1) + h*dy(x0+(i-2)*h)\n",
"    mprintf('y(%f) = %f\n',x0+(i-1)*h,y(i))\n",
"end"
   ]
   }
,
{
		   "cell_type": "markdown",
		   "metadata": {},
		   "source": [
			"## Example 13.5: Error_Estimation_in_Eulers_Method.sce"
		   ]
		  },
  {
"cell_type": "code",
	   "execution_count": null,
	   "metadata": {
	    "collapsed": true
	   },
	   "outputs": [],
"source": [
"//Example No. 13_05\n",
"//Error estimation in Euler's Method\n",
"//Pg No. 422\n",
"clear ; close ; clc ;\n",
"\n",
"deff('DY = dy(x)','DY = 3*x^2 + 1')\n",
"deff('D2Y = d2y(x)','D2Y = 6*x')\n",
"deff('D3Y = d3y(x)','D3Y = 6')\n",
"deff('exacty = exacty(x)','exacty = x^3 + x')\n",
"x0 = 1\n",
"y(1) = 2\n",
"h = 0.5\n",
"for i = 2 : 3\n",
"    x(i-1) = x0 + (i-1)*h\n",
"    y(i) = y(i-1) + h*dy(x0+(i-2)*h)\n",
"    mprintf('\n Step %i \n x(%i) = %f\n y(%f) = %f\n',i-1,i-1,x(i-1),x(i-1),y(i))\n",
"    Et(i-1) = d2y(x0+(i-2)*h)*h^2/2 +  d3y(x0+(i-2)*h)*h^3/6\n",
"    mprintf('\n Et(%i) = %f\n',i-1,Et(i-1))\n",
"    truey(i-1) = exacty(x0+(i-1)*h)\n",
"    gerr(i-1) = truey(i-1) - y(i)\n",
"end\n",
"\n",
"table = [x y(2:3) truey Et gerr]\n",
"disp(table,'   x      Est y   true y    Et      Globalerr')"
   ]
   }
,
{
		   "cell_type": "markdown",
		   "metadata": {},
		   "source": [
			"## Example 13.6: Heuns_Method.sce"
		   ]
		  },
  {
"cell_type": "code",
	   "execution_count": null,
	   "metadata": {
	    "collapsed": true
	   },
	   "outputs": [],
"source": [
"//Example No. 13_06\n",
"//Heun's Method\n",
"//Pg No. 427\n",
"clear ; close ;clc ;\n",
"\n",
"deff('F = f(x,y)','F = 2*y/x ')\n",
"deff('exacty = exacty(x)','exacty = 2*x^2')\n",
"x(1) = 1 ;\n",
"y(1) = 2 ;\n",
"h = 0.25 ;\n",
"//Euler's Method\n",
"disp('EULERS METHOD')\n",
"for i = 2:5\n",
"    x(i) = x(i-1) + h ;\n",
"    y(i) = y(i-1) + h*f(x(i-1),y(i-1));\n",
"    mprintf('y(%f) = %f \n ',x(i),y(i))\n",
"end\n",
"eulery = y\n",
"//Heun's Method\n",
"disp('HEUNS METHOD')\n",
"for i = 2:5\n",
"    m1 = f(x(i-1),y(i-1)) ;\n",
"    ye(i) = y(i-1) + h*f(x(i-1),y(i-1));\n",
"    m2 = f(x(i),ye(i)) ;\n",
"    y(i) = y(i-1) + h*(m1 + m2)/2\n",
"   mprintf('\nIteration %i \n m1 = %f\n ye(%f) = %f \n m2 = %f \n y(%f) = %f \n',i-1,m1,x(i),ye(i),m2,x(i),y(i)) \n",
"end\n",
"truey = exacty(x) ;\n",
"table = [x eulery y truey ] ;\n",
"disp(table,'   x     Eulers   Heuns      Analytical')"
   ]
   }
,
{
		   "cell_type": "markdown",
		   "metadata": {},
		   "source": [
			"## Example 13.7: Polygon_Method.sce"
		   ]
		  },
  {
"cell_type": "code",
	   "execution_count": null,
	   "metadata": {
	    "collapsed": true
	   },
	   "outputs": [],
"source": [
"//Example No. 13_07\n",
"//Polygon Method\n",
"//Pg NO. 433\n",
"clear ; close ; clc ;\n",
"deff('F = f(x,y)','F = 2*y/x ')\n",
"x(1) = 1 ;\n",
"y(1) = 2 ;\n",
"h = 0.25 ;\n",
"for i = 2:3\n",
"    x(i) = x(i-1) + h ; \n",
"    y(i) = y(i-1) + h*f(  x(i-1)+ h/2  ,  y(i-1) + h*f( x(i-1)  ,  y(i-1) )/2  );\n",
"    mprintf('y(%f) = %f \n ',x(i),y(i))\n",
"end"
   ]
   }
,
{
		   "cell_type": "markdown",
		   "metadata": {},
		   "source": [
			"## Example 13.8: Classical_Runge_Kutta_Method.sce"
		   ]
		  },
  {
"cell_type": "code",
	   "execution_count": null,
	   "metadata": {
	    "collapsed": true
	   },
	   "outputs": [],
"source": [
"//Example No. 13_08\n",
"//Classical Runge Kutta Method\n",
"//Pg No. 439\n",
"clear ; close ; clc ;\n",
"\n",
"deff('F = f(x,y)','F = x^2 + y^2');\n",
"h = 0.2\n",
"x(1) = 0 ;\n",
"y(1) = 0 ;\n",
"\n",
"for i = 1:2\n",
"    m1 = f(  x(i)  ,  y(i)  ) ;\n",
"    m2 = f(  x(i) + h/2  ,  y(i) + m1*h/2  ) ;\n",
"    m3 = f(  x(i) + h/2  ,  y(i) + m2*h/2  ) ;\n",
"    m4 = f(  x(i) + h  ,  y(i) + m3*h  ) ;\n",
"    x(i+1) = x(i) + h ;\n",
"    y(i+1) = y(i) +  (m1 + 2*m2 + 2*m3 + m4)*h/6 ;\n",
"    \n",
"    mprintf('\nIteration - %i\n m1 = %f\n m2 = %f \n m3 = %f \n m4 = %f \n y(%f) = %f \n',i,m1,m2,m3,m4,x(i+1),y(i+1))\n",
"end"
   ]
   }
,
{
		   "cell_type": "markdown",
		   "metadata": {},
		   "source": [
			"## Example 13.9: Optimum_Step_size.sce"
		   ]
		  },
  {
"cell_type": "code",
	   "execution_count": null,
	   "metadata": {
	    "collapsed": true
	   },
	   "outputs": [],
"source": [
"//Example No. 13_09\n",
"//Optimum step size\n",
"//Pg No. 444\n",
"clear ; close ; clc ;\n",
"\n",
"x = 0.8 ;\n",
"h1 = 0.05 ;\n",
"y1 = 5.8410870 ;\n",
"h2 = 0.025 ;\n",
"y2 = 5.8479637 ;\n",
"\n",
"//d = 4\n",
"h = ((h1^4 - h2^4)*10^(-4)/(2*(y2 - y1)))^(1/4)\n",
"disp(h,'h = ','for four decimal places')\n",
"\n",
"//d = 6\n",
"h = ((h1^4 - h2^4)*10^(-6)/(2*(y2 - y1)))^(1/4)\n",
"disp(h,'h = ','for six decimal places')\n",
"disp('Note-We can use h = 0.01 for four decimal places and h = 0.004 for six decimal places')"
   ]
   }
],
"metadata": {
		  "kernelspec": {
		   "display_name": "Scilab",
		   "language": "scilab",
		   "name": "scilab"
		  },
		  "language_info": {
		   "file_extension": ".sce",
		   "help_links": [
			{
			 "text": "MetaKernel Magics",
			 "url": "https://github.com/calysto/metakernel/blob/master/metakernel/magics/README.md"
			}
		   ],
		   "mimetype": "text/x-octave",
		   "name": "scilab",
		   "version": "0.7.1"
		  }
		 },
		 "nbformat": 4,
		 "nbformat_minor": 0
}
