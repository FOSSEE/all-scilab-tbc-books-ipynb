{
"cells": [
 {
		   "cell_type": "markdown",
	   "metadata": {},
	   "source": [
       "# Chapter 14: Boundary Value and Eigenvalue Problems"
	   ]
	},
{
		   "cell_type": "markdown",
		   "metadata": {},
		   "source": [
			"## Example 14.1: Shooting_Method.sce"
		   ]
		  },
  {
"cell_type": "code",
	   "execution_count": null,
	   "metadata": {
	    "collapsed": true
	   },
	   "outputs": [],
"source": [
"//Example No. 14_01\n",
"//Shooting Method\n",
"//Pg No. 467\n",
"clear ; close ; clc ;\n",
"\n",
"function [B,y] = heun(f,x0,y0,z0,h,xf)\n",
"    x(1) = x0 ;\n",
"    y(1) = y0 ;\n",
"    z(1) = z0 ;\n",
"    n = (xf - x0)/h\n",
"    for i = 1:n\n",
"        m1(1) = z(i) ;\n",
"        m1(2) = f(x(i),y(i))\n",
"        m2(1) = z(i) + h*m1(2)\n",
"        m2(2) = f(x(i)+h,y(i)+h*m1(1))\n",
"        m(1) = (m1(1) + m2(1))/2 \n",
"        m(2) = ( m1(2) + m2(2) )/2\n",
"        x(i+1) = x(i) + h\n",
"        y(i+1) = y(i) + h*m(1)\n",
"        z(i+1) = z(i) + h*m(2)\n",
"    end\n",
"    B = y(n+1)         \n",
"endfunction\n",
"\n",
"deff('F = f(x,y)','F = 6*x')\n",
"x0 = 1 ;\n",
"y0 = 2 ;\n",
"h = 0.5 ;\n",
"z0 = 2\n",
"M1 = z0 \n",
"xf = 2\n",
"B = 9\n",
"[B1,y] = heun(f,x0,y0,z0,h,xf)\n",
"disp(B1,'B1 = ')\n",
"if B1 ~= B then\n",
"    disp('Since B1 is less than B , let z(1) = y(1) = 4*(M2)')\n",
"    z0 = 4\n",
"    M2 = z0\n",
"    [B2,y] = heun(f,x0,y0,z0,h,xf)\n",
"    disp(B2,'B2 = ')\n",
"    if B2 ~= B then\n",
"        disp('Since B2 is larger than B ,let us have third estimate of z(1) = M3 ')\n",
"        M3 = M2 - (B2 - B)*(M2 - M1)/(B2 - B1)\n",
"        z0 = M3 \n",
"        [B3,y] = heun(f,x0,y0,z0,h,xf)\n",
"        disp(y,'The solution is ',B3,'B3 = ')\n",
"    end\n",
"end"
   ]
   }
,
{
		   "cell_type": "markdown",
		   "metadata": {},
		   "source": [
			"## Example 14.2: Finite_Difference_Method.sce"
		   ]
		  },
  {
"cell_type": "code",
	   "execution_count": null,
	   "metadata": {
	    "collapsed": true
	   },
	   "outputs": [],
"source": [
"//Example No. 14_02\n",
"//Finite Difference Method\n",
"//Pg No. 470\n",
"clear ; close ; clc ;\n",
"\n",
"deff('D2Y = d2y(x)','D2Y = exp(x^2)') \n",
"x_1 = 0;\n",
"y_0 = 0 ;\n",
"y_1  = 0 ;\n",
"h = 0.25\n",
"xf = 1\n",
"n = (xf-x_1)/h\n",
"for i = 1:n-1\n",
"    A(i,:) = [1  -2   1]\n",
"    B(i,1) = exp((x_1 + i*h)^2)*h^2\n",
"end\n",
"A(1,1) = 0 ; //since we know y0 and y4\n",
"A(3,3) = 0 ;\n",
"A(1,1:3) = [ A(1,2:3) 0] //rearranging terms\n",
"A(3,1:3) = [ 0 A(3,1:2)]  \n",
"C = A\B //Solution of Equations\n",
"mprintf(' \n The solution is \n y1 = y(0.25) = %f \n y2 = y(0.5) = %f \n y3 = y(0.75) = %f \n ',C(1),C(2),C(3)) "
   ]
   }
,
{
		   "cell_type": "markdown",
		   "metadata": {},
		   "source": [
			"## Example 14.3: Eigen_Vectors.sce"
		   ]
		  },
  {
"cell_type": "code",
	   "execution_count": null,
	   "metadata": {
	    "collapsed": true
	   },
	   "outputs": [],
"source": [
"//Example No. 14_03\n",
"//Eigen Vectors\n",
"//Pg No. 473\n",
"clear ; close ; clc ;\n",
"\n",
"A = [8 -4 ; 2 2 ] ;\n",
"lamd = poly(0,'lamd')\n",
"p = det(A - lamd*eye())\n",
"root = roots(p)\n",
"mprintf('\n The roots are \n lamda1 = %f \n lamda2 = %f \n ',root(1),root(2))\n",
"A1 = A - root(1)*eye()\n",
"X1 = [-1*A1(1,2)/A1(1,1) ; 1]\n",
"disp(X1,'X1 = ')\n",
"A2 = A - root(2)*eye()\n",
"X2 = [-1*A2(1,2)/A2(1,1) ; 1]\n",
"disp(X2,'X2 = ')"
   ]
   }
,
{
		   "cell_type": "markdown",
		   "metadata": {},
		   "source": [
			"## Example 14.4: Fadeev_Leverrier_Method.sce"
		   ]
		  },
  {
"cell_type": "code",
	   "execution_count": null,
	   "metadata": {
	    "collapsed": true
	   },
	   "outputs": [],
"source": [
"//Example No. 14_04\n",
"//Fadeev - Leverrier method\n",
"//Pg No. 474\n",
"clear ; close ; clc ;\n",
"\n",
"A = [ -1 0 0 ; 1 -2 3 ; 0 2 -3 ]\n",
"[r,c] = size(A)\n",
"A1 = A\n",
"p(1) = trace(A1)\n",
"for i = 2:r\n",
"    A1 = A*( A1 - p(i-1)*eye())\n",
"    p(i) = trace(A1)/i\n",
"    mprintf('\nA%i = ',i)\n",
"    disp(A1)\n",
"    mprintf('\np%i = %f\n',i,p(i))\n",
"end\n",
"x = poly(0,'x');\n",
"p = p($:-1:1)\n",
"polynomial = poly([-p ; 1],'x','coeff')\n",
"disp(polynomial,'Charateristic polynomial is')"
   ]
   }
,
{
		   "cell_type": "markdown",
		   "metadata": {},
		   "source": [
			"## Example 14.5: Eigen_Vectors.sce"
		   ]
		  },
  {
"cell_type": "code",
	   "execution_count": null,
	   "metadata": {
	    "collapsed": true
	   },
	   "outputs": [],
"source": [
"//Example No. 14_05\n",
"//Eigen Vectors\n",
"//Pg No. 476\n",
"\n",
"clear ; close ; clc ; \n",
"\n",
"A = [ -1 0 0 ; 1 -2 3 ; 0 2 -3]\n",
"[evectors,evalues] = spec(A)\n",
"for i = 1:3\n",
"    mprintf('\n Eigen vector - %i \n for lamda%i = %f \n X%i = ',i,i,evalues(i,i),i)\n",
"    evectors(:,i) = evectors(:,i)/evectors(2,i)\n",
"    disp(evectors(:,i))\n",
"end"
   ]
   }
,
{
		   "cell_type": "markdown",
		   "metadata": {},
		   "source": [
			"## Example 14.6: Power_Method.sce"
		   ]
		  },
  {
"cell_type": "code",
	   "execution_count": null,
	   "metadata": {
	    "collapsed": true
	   },
	   "outputs": [],
"source": [
"//Example No. 14_06\n",
"//Power method\n",
"//Pg No. 478\n",
"clear ; close ; clc ;\n",
"\n",
"A = [ 1 2 0 ; 2 1 0 ; 0 0 -1 ]\n",
"X(:,1) = [0 ; 1 ; 0]\n",
"for i = 1:7\n",
"    Y(:,i) = A*X(:,i)\n",
"    X(:,i+1) = Y(:,i)/max(Y(:,i))\n",
"end\n",
"disp('  0      1       2      3           4            5            6             7 ','Iterations')\n",
"disp(X,'X = ',[[%nan ;%nan ;%nan] Y ],'Y = ')"
   ]
   }
],
"metadata": {
		  "kernelspec": {
		   "display_name": "Scilab",
		   "language": "scilab",
		   "name": "scilab"
		  },
		  "language_info": {
		   "file_extension": ".sce",
		   "help_links": [
			{
			 "text": "MetaKernel Magics",
			 "url": "https://github.com/calysto/metakernel/blob/master/metakernel/magics/README.md"
			}
		   ],
		   "mimetype": "text/x-octave",
		   "name": "scilab",
		   "version": "0.7.1"
		  }
		 },
		 "nbformat": 4,
		 "nbformat_minor": 0
}
