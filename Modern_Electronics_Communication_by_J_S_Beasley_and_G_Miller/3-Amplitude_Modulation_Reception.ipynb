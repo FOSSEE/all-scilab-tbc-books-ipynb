{
"cells": [
 {
		   "cell_type": "markdown",
	   "metadata": {},
	   "source": [
       "# Chapter 3: Amplitude Modulation Reception"
	   ]
	},
{
		   "cell_type": "markdown",
		   "metadata": {},
		   "source": [
			"## Example 3.1: example1.sce"
		   ]
		  },
  {
"cell_type": "code",
	   "execution_count": null,
	   "metadata": {
	    "collapsed": true
	   },
	   "outputs": [],
"source": [
"// Amplitude Modulation-Reception : example 3-1 : (pg 120)\n",
"fr=550*10^3;\n",
"L=10*10^-6;\n",
"fr1=1550*10^3;\n",
"a=fr*2*%pi;\n",
"x=fr1*2*%pi;\n",
"b=1/a;\n",
"y=1/x;\n",
"C1=((b)^2/L);\n",
"C2=((y)^2/L);\n",
"fr2=1100*10^3;\n",
"BW=10*10^3;\n",
"Q=(fr2/BW);\n",
"BW1=(fr1/Q);\n",
"BW2=(fr/Q);\n",
"//part(a) : calculate C at 550kHz\n",
"printf('\nfr = 1/2.pi.(LC) \nC1= %.12f F',C1);\n",
"//at 1550 kHz\n",
"printf('\nC2 = %.11f F',C2);\n",
"printf('\nrequired range of capacitance is from 1.06 to 8.37 nF');\n",
"//part(b) : Quality factor\n",
"printf('\nQ = fr/BW \nQ = %.f Hz',Q);\n",
"//part(c) : Q at 1550 kHz\n",
"printf('\nBW = fr/Q \nBW = %.f Hz',BW1);\n",
"// Q at 550 kHz\n",
"printf('\nBW = %.f Hz',BW2);"
   ]
   }
,
{
		   "cell_type": "markdown",
		   "metadata": {},
		   "source": [
			"## Example 3.2: example2.sce"
		   ]
		  },
  {
"cell_type": "code",
	   "execution_count": null,
	   "metadata": {
	    "collapsed": true
	   },
	   "outputs": [],
"source": [
"// Amplitude Modulation-Reception : example 3-2 : (pg 134)\n",
"f=620*10^3;\n",
"IF=455*10^3;\n",
"LO=f+IF;\n",
"X=IF+LO;\n",
"// image frequency of local oscillator\n",
"//station frequency = 620 kHz\n",
"printf('\nLO - 620 kHz = IF');\n",
"printf('\nLO = %.f Hz',LO);\n",
"// determining at what other frequency, when mixed with 1075kHz,yields an o/p component at 455kHz\n",
"printf('\nX-1075kHz=IF \nX = %.f Hz',X);"
   ]
   }
,
{
		   "cell_type": "markdown",
		   "metadata": {},
		   "source": [
			"## Example 3.3: example3.sce"
		   ]
		  },
  {
"cell_type": "code",
	   "execution_count": null,
	   "metadata": {
	    "collapsed": true
	   },
	   "outputs": [],
"source": [
"// Amplitude Modulation-Reception : example 3-3 : (pg 150 & 151)\n",
"V=8*10^-6;\n",
"R=50;\n",
"P=(V^2)/R;\n",
"dBm=10*log10(P/0.001);\n",
"dBW=10*log10(P/1);\n",
"a=(-89+8+3+24+26+26-2+34);\n",
"x=(a/10);\n",
"y=10^x;\n",
"z=y*0.001;\n",
"printf('\nP = V^2/R = %.15f W',P);//input power in Watts\n",
"printf('\ndBm = 10log(P/1mW) = %.f dBm',dBm);//input power in dBm\n",
"printf('\ndBW = 10log(P/1W) = %.f dBW',dBW);//input power in dBW\n",
"printf('\nPout(dBm) = %.f dBm into speaker',a);//o/p power in dBm\n",
"printf('\nPout(dBW) = %.f W',z);\n",
"\n",
""
   ]
   }
],
"metadata": {
		  "kernelspec": {
		   "display_name": "Scilab",
		   "language": "scilab",
		   "name": "scilab"
		  },
		  "language_info": {
		   "file_extension": ".sce",
		   "help_links": [
			{
			 "text": "MetaKernel Magics",
			 "url": "https://github.com/calysto/metakernel/blob/master/metakernel/magics/README.md"
			}
		   ],
		   "mimetype": "text/x-octave",
		   "name": "scilab",
		   "version": "0.7.1"
		  }
		 },
		 "nbformat": 4,
		 "nbformat_minor": 0
}
