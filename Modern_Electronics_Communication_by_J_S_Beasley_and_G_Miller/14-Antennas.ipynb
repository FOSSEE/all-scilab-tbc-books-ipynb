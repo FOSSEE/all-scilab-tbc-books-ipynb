{
"cells": [
 {
		   "cell_type": "markdown",
	   "metadata": {},
	   "source": [
       "# Chapter 14: Antennas"
	   ]
	},
{
		   "cell_type": "markdown",
		   "metadata": {},
		   "source": [
			"## Example 14.1: example1.sce"
		   ]
		  },
  {
"cell_type": "code",
	   "execution_count": null,
	   "metadata": {
	    "collapsed": true
	   },
	   "outputs": [],
"source": [
"//Antennas : example 14-1 : pg(669)\n",
"c=3*10^8;\n",
"f=150*10^6;\n",
"h=c/f;\n",
"x=1/2;\n",
"D=0.5*2;\n",
"Rff=5*D;\n",
"printf('\nThe wavelength (h) for a h/2 dipole at 150MHz is, \nh=c/f = %.f m/cycle',h);\n",
"printf('\nh/2 = 1m, which is the antennas dimension(D) \nD/h = 1/2 = %.1f',x);\n",
"printf('\n Rff = 5D = %.f m',Rff);"
   ]
   }
,
{
		   "cell_type": "markdown",
		   "metadata": {},
		   "source": [
			"## Example 14.2: example2.sce"
		   ]
		  },
  {
"cell_type": "code",
	   "execution_count": null,
	   "metadata": {
	    "collapsed": true
	   },
	   "outputs": [],
"source": [
"//Antennas : example 14-2 : pg(669)\n",
"c=3*10^8;//velocity of light\n",
"f=12*10^9;//frequency\n",
"D=4.5;//diameter of parabolic reflector\n",
"h=c/f;//wavelength\n",
"x=D/h;\n",
"R=(2*D^2)/h;\n",
"printf('\nThe wavelength, \nh= %.3f m/cycle',h);\n",
"printf('\nD=4.5 meter \nD/h = %.f',x);\n",
"printf('\nselect equation, \nR > %.f m',R);"
   ]
   }
,
{
		   "cell_type": "markdown",
		   "metadata": {},
		   "source": [
			"## Example 14.3: example3.sce"
		   ]
		  },
  {
"cell_type": "code",
	   "execution_count": null,
	   "metadata": {
	    "collapsed": true
	   },
	   "outputs": [],
"source": [
"//Antennas : example 14-3 : pg(671)\n",
"Pt=10;//transmitted power\n",
"//dipoles have gain 2.15dB \n",
"Gr=10^(2.15);//recieving antenna gain(ratio) compared to isotropic radiator\n",
"Gt=Gr;//transmiting antenna gain(ratio) compared to isotropic radiator\n",
"Gr=1.64;\n",
"c=3*10^8;//velocity of light\n",
"f=144*10^6;//frequency\n",
"d=50*10^3;//distance between antennas\n",
"x=c/f;//wavelength\n",
"y=x^2;\n",
"z=Pt*Gt*Gr*y;\n",
"a=(16*(%pi)^2);\n",
"b=a*(d^2);\n",
"Pr=z/b;//power recieved\n",
"printf('\nPr = Pt.Gt.Gr.h^2/16.pi^2.d^2 = %.12f W',Pr);"
   ]
   }
,
{
		   "cell_type": "markdown",
		   "metadata": {},
		   "source": [
			"## Example 14.4: example4.sce"
		   ]
		  },
  {
"cell_type": "code",
	   "execution_count": null,
	   "metadata": {
	    "collapsed": true
	   },
	   "outputs": [],
"source": [
"//Antennas : example 14-4 : pg(674)\n",
"c=3*10^8;//velocity of light\n",
"f=100*10^6;//frequency\n",
"h=c/f;//wavelength\n",
"x=h/2;//dipole i.e h/2\n",
"l=0.95*x;//applying 95% correction,the actual optimum physical length\n",
"L=486/100;//alternative method to find length\n",
"printf('\nAt 100MHz, \nh=c/f = %.f m',h);\n",
"printf('\nlength of antenna = %.2f m',l);\n",
"mprintf('\nalternate method, L = 486/f = %.2f ft which is equal to %.2f m',L,l);"
   ]
   }
],
"metadata": {
		  "kernelspec": {
		   "display_name": "Scilab",
		   "language": "scilab",
		   "name": "scilab"
		  },
		  "language_info": {
		   "file_extension": ".sce",
		   "help_links": [
			{
			 "text": "MetaKernel Magics",
			 "url": "https://github.com/calysto/metakernel/blob/master/metakernel/magics/README.md"
			}
		   ],
		   "mimetype": "text/x-octave",
		   "name": "scilab",
		   "version": "0.7.1"
		  }
		 },
		 "nbformat": 4,
		 "nbformat_minor": 0
}
