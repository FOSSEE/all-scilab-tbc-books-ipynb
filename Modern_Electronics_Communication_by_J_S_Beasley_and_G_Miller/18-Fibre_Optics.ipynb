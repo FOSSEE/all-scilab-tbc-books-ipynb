{
"cells": [
 {
		   "cell_type": "markdown",
	   "metadata": {},
	   "source": [
       "# Chapter 18: Fibre Optics"
	   ]
	},
{
		   "cell_type": "markdown",
		   "metadata": {},
		   "source": [
			"## Example 18.1: example1.sce"
		   ]
		  },
  {
"cell_type": "code",
	   "execution_count": null,
	   "metadata": {
	    "collapsed": true
	   },
	   "outputs": [],
"source": [
"//Fibre Optics : example 18-1 : pg(859)\n",
"c=3*10^8;//velocity of light\n",
"f=4.4*10^14;//frequency of red light\n",
"f1=7*10^14;//frequency of violet light\n",
"h1=c/f;//wavelength of red light\n",
"h2=c/f1;//wavelength of violet light\n",
"printf('\nFor red, \nh = c/f = %.9f m',h1);\n",
"printf('\nFor violet \nh = c/f = %.9f m',h2);"
   ]
   }
,
{
		   "cell_type": "markdown",
		   "metadata": {},
		   "source": [
			"## Example 18.2: example2.sce"
		   ]
		  },
  {
"cell_type": "code",
	   "execution_count": null,
	   "metadata": {
	    "collapsed": true
	   },
	   "outputs": [],
"source": [
"//Fibre Optics : example 18-1 : pg(859)\n",
"n1=1.535;//refractive index of fibre optics\n",
"n2=1.490;//refractive index of cladding\n",
"x=(n1^2)-(n2^2);\n",
"y=sqrt(x);//numerical aperture\n",
"z=asind(y);//theta\n",
"printf('\nNA = sin(theta)in(max) = sqrt(n1^2-n2^2) = %.3f',y);\n",
"printf('\n(theta)in(max) = %.1f degrees',z);"
   ]
   }
,
{
		   "cell_type": "markdown",
		   "metadata": {},
		   "source": [
			"## Example 18.3: example3.sce"
		   ]
		  },
  {
"cell_type": "code",
	   "execution_count": null,
	   "metadata": {
	    "collapsed": true
	   },
	   "outputs": [],
"source": [
"//Fibre Optics : example 18-3 : pg(868)\n",
"w=22;//spectral width of LED\n",
"l=2;//length of fibre\n",
"d=95;//dispersion value\n",
"p=d*w;//pulse dispersion\n",
"pt=p*l;//total pulse dispersion\n",
"printf('\npulse dispersion = %.f ps/km',p);\n",
"printf('\ntotal pulse dispersion = pulse dispersion*length = %.f ps/km',pt);"
   ]
   }
,
{
		   "cell_type": "markdown",
		   "metadata": {},
		   "source": [
			"## Example 18.4: example4.sce"
		   ]
		  },
  {
"cell_type": "code",
	   "execution_count": null,
	   "metadata": {
	    "collapsed": true
	   },
	   "outputs": [],
"source": [
"//Fibre Optics : example 18-4 : pg(885)\n",
"d=30;//length of fibre cable\n",
"l=0.4;//loss\n",
"T=d*l;//total cable loss\n",
"printf('\ntotal cable loss = %.f dB',T);"
   ]
   }
,
{
		   "cell_type": "markdown",
		   "metadata": {},
		   "source": [
			"## Example 18.5: example5.sce"
		   ]
		  },
  {
"cell_type": "code",
	   "execution_count": null,
	   "metadata": {
	    "collapsed": true
	   },
	   "outputs": [],
"source": [
"//Fibre Optics : example 18-5 : pg(887)\n",
"b=565;//Line bit rate of fibre 1\n",
"c=3.5;//Cable dispersion of fibre 1\n",
"t=4;//Transmitter spectral width of fibre 1\n",
"b1=1130;//Line bit rate of fibre 2\n",
"c1=3.5;//Cable dispersion of fibre 2\n",
"t1=2;//Transmitter spectral width of fibre 2\n",
"x=440000;//assumed gaussian constant based on a 3-dB optical bandwidth using a FWHM pulse shape\n",
"L1=x/(b*c*t);//span length in km of fibre 1\n",
"L2=x/(b1*c1*t1);//span length in km of fibre 2\n",
"printf('\nL1 = %.1f km',L1);\n",
"printf('\nL2 = %.1f km',L2);"
   ]
   }
],
"metadata": {
		  "kernelspec": {
		   "display_name": "Scilab",
		   "language": "scilab",
		   "name": "scilab"
		  },
		  "language_info": {
		   "file_extension": ".sce",
		   "help_links": [
			{
			 "text": "MetaKernel Magics",
			 "url": "https://github.com/calysto/metakernel/blob/master/metakernel/magics/README.md"
			}
		   ],
		   "mimetype": "text/x-octave",
		   "name": "scilab",
		   "version": "0.7.1"
		  }
		 },
		 "nbformat": 4,
		 "nbformat_minor": 0
}
