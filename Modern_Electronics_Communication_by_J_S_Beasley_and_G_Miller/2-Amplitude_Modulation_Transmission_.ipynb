{
"cells": [
 {
		   "cell_type": "markdown",
	   "metadata": {},
	   "source": [
       "# Chapter 2: Amplitude Modulation Transmission "
	   ]
	},
{
		   "cell_type": "markdown",
		   "metadata": {},
		   "source": [
			"## Example 2.1: example1.sce"
		   ]
		  },
  {
"cell_type": "code",
	   "execution_count": null,
	   "metadata": {
	    "collapsed": true
	   },
	   "outputs": [],
"source": [
"// Amplitude Modulation-Transmission  : example 2-1 : pg(74 & 75)\n",
"//upper sideband is equal to the sum of carrier and intelligence frequencies\n",
"c=1.4*10^6;\n",
"m1=20;\n",
"m2=10*10^3;\n",
"Ur1=c+m1;\n",
"Ur2=c+m2;\n",
"Lr1=c-m1;\n",
"Lr2=c-m2;\n",
"//range of upper sideband(usb)\n",
"printf('\nupper sideband will include frequencies from  %.f Hz',Ur1 ); \n",
"printf('\nto \n %.f Hz',Ur2);\n",
"//range of lower sideband (lsb)\n",
"printf('\nlower sideband will include frequencies from  %.f Hz',Lr1);\n",
"printf('\nto \n %.f Hz',Lr2);"
   ]
   }
,
{
		   "cell_type": "markdown",
		   "metadata": {},
		   "source": [
			"## Example 2.2: example2.sce"
		   ]
		  },
  {
"cell_type": "code",
	   "execution_count": null,
	   "metadata": {
	    "collapsed": true
	   },
	   "outputs": [],
"source": [
"// Amplitude Modulation-Transmission : example 2-2 : pg(78)\n",
"b=100;\n",
"a=60;\n",
"d=125;\n",
"c=35;\n",
"x=180;\n",
"y=0;\n",
"m1=((b-a)/(b+a))*100;\n",
"m2=((d-c)/(d+c))*100;\n",
"m3=((x-y)/(y+x))*100;\n",
"//part(a)\n",
"printf('\npercent(m) = (B-A/B+A)*100percent = %.f percent',m1);\n",
"//part(b)\n",
"printf('\npercent(m) = (B-A/B+A)*100percent = %.f percent',m2);\n",
"//part(c)\n",
"printf('\npercent(m) = (B-A/B+A)*100percent = %.f percent',m3);\n",
"//part(d) : this is a case of overmodulation\n",
"//part(e) : this is a distorted AM wave as the increase > decrease in carrier's amplitude"
   ]
   }
,
{
		   "cell_type": "markdown",
		   "metadata": {},
		   "source": [
			"## Example 2.3: example3.sce"
		   ]
		  },
  {
"cell_type": "code",
	   "execution_count": null,
	   "metadata": {
	    "collapsed": true
	   },
	   "outputs": [],
"source": [
"// Amplitude Modulation-Transmission : example 2-3 : pg(79 & 80)\n",
"// m=1 or 100 percent\n",
"//each side frequency = 1/2 the carrier amplitude\n",
"//power is proportional to (V)^2\n",
"//each side band  power = 1/4 carrier power\n",
"c=1*10^3;\n",
"esb= 1/4*(c);\n",
"tsp=(esb*2);\n",
"tp=(tsp+c);\n",
"printf('\nESF = mEc/2 ');\n",
"printf('\nCarrier power = %.f W',c);\n",
"printf('\n Each side-band power = 1/4 of carrier power = %.f W',esb);\n",
"printf('\nTotal side-band power = %.f W',tsp);\n",
"printf('\nTotal transmitted power = %.f W',tp);"
   ]
   }
,
{
		   "cell_type": "markdown",
		   "metadata": {},
		   "source": [
			"## Example 2.4: example4.sce"
		   ]
		  },
  {
"cell_type": "code",
	   "execution_count": null,
	   "metadata": {
	    "collapsed": true
	   },
	   "outputs": [],
"source": [
"// Amplitude Modulation-Transmission : example 2-4 : pg(81)\n",
"m=0.9; //modulation index\n",
"Pc=500; //carrier Power \n",
"x=(m^2)/2;\n",
"y=(1+x)*Pc;\n",
"printf('\nPt = Pc*(1+(m^2)/2)');\n",
"printf('\nPt = %.1f W',y);//total transmitted powwer"
   ]
   }
,
{
		   "cell_type": "markdown",
		   "metadata": {},
		   "source": [
			"## Example 2.5: example5.sce"
		   ]
		  },
  {
"cell_type": "code",
	   "execution_count": null,
	   "metadata": {
	    "collapsed": true
	   },
	   "outputs": [],
"source": [
"// Amplitude Modulation-Transmission : example 2-5 : pg(81)\n",
"m=0.95;//modulation index\n",
"Pt= 50*10^3;//total transmitted power\n",
"x=(m^2)/2;\n",
"y=1+x;\n",
"z=(Pt/y);\n",
"Pi=Pt-z;\n",
"printf('\nPt = Pc*(1+(m^2)/2)');\n",
"printf('\nPc = %.f W',z);//carrier power\n",
"printf('\nPi = Pt-Pc = %.f W',Pi);//intelligence signal"
   ]
   }
,
{
		   "cell_type": "markdown",
		   "metadata": {},
		   "source": [
			"## Example 2.6: example6.sce"
		   ]
		  },
  {
"cell_type": "code",
	   "execution_count": null,
	   "metadata": {
	    "collapsed": true
	   },
	   "outputs": [],
"source": [
"// Amplitude Modulation-Transmission : example 2-6 : pg(81 & 82)\n",
"Ic=12;//antenna current of AM transmitter when unmodulated\n",
"It=13;//current when modulated\n",
"x=2*((13/12)^2-1);\n",
"m=sqrt(x);\n",
"a=m*100;\n",
"printf('\nIt = Ic.sqrt(1+(m^2)/2) \nm^2 = %.2f ',x);\n",
"printf('\nm = %.2f',m);\n",
"printf('\npercent(m) = %.f percent',a);//percentage of modulation"
   ]
   }
,
{
		   "cell_type": "markdown",
		   "metadata": {},
		   "source": [
			"## Example 2.7: example7.sce"
		   ]
		  },
  {
"cell_type": "code",
	   "execution_count": null,
	   "metadata": {
	    "collapsed": true
	   },
	   "outputs": [],
"source": [
"// Amplitude Modulation-Transmission : example 2-7 : pg(82)\n",
"n=0.7;//efficiency\n",
"c=10*10^3;//carrier wave\n",
"Is=0.5*c;//intelligence signal\n",
"p=(Is/n);\n",
"printf('\ndc input power = %.f W',p);//dc input power"
   ]
   }
,
{
		   "cell_type": "markdown",
		   "metadata": {},
		   "source": [
			"## Example 2.8: example8.sce"
		   ]
		  },
  {
"cell_type": "code",
	   "execution_count": null,
	   "metadata": {
	    "collapsed": true
	   },
	   "outputs": [],
"source": [
"// Amplitude Modulation-Transmission : example 2-8 : pg(82 & 83)\n",
"Pc=10*10^3;//carrier power\n",
"Pt=11.2*10^3;//transmitted power\n",
"m2=0.5;//modulation index of another sine wave\n",
"x=2*((Pt/Pc)-1);\n",
"m=sqrt(x);\n",
"meff=sqrt((m^2)+(m2^2));\n",
"a=Pc*(1+((meff^2)/2));\n",
"printf('\nPt = Pc.(1+m^2/2) \nm=%.2f',m);\n",
"printf('\nmeff = sqrt(m1^2+m2^2) \nmeff = %.1f',meff);//effective modulation index\n",
"printf('\nPt = Pc.(1+m^2/2) \n Pt = %.f W',a);//total transmitted power"
   ]
   }
,
{
		   "cell_type": "markdown",
		   "metadata": {},
		   "source": [
			"## Example 2.9: example9.sce"
		   ]
		  },
  {
"cell_type": "code",
	   "execution_count": null,
	   "metadata": {
	    "collapsed": true
	   },
	   "outputs": [],
"source": [
"// Amplitude Modulation-Transmission : example 2-9 : pg(100)\n",
"a=1;\n",
"b=0.03;\n",
"c=0.05;\n",
"d=0.02;\n",
"e=0.04;\n",
"x=sqrt((b^2+c^2+d^2+e^2)/a^2);\n",
"y=x*100;\n",
"printf('\nTHD = sqrt((V2^2)+(V3^3)+(V4^2)+(V5^2)/(V1^2)) \nTHD = %.5f',x);\n",
"printf('\nTHD = %.2f percent',y);//total harmonic distortion"
   ]
   }
],
"metadata": {
		  "kernelspec": {
		   "display_name": "Scilab",
		   "language": "scilab",
		   "name": "scilab"
		  },
		  "language_info": {
		   "file_extension": ".sce",
		   "help_links": [
			{
			 "text": "MetaKernel Magics",
			 "url": "https://github.com/calysto/metakernel/blob/master/metakernel/magics/README.md"
			}
		   ],
		   "mimetype": "text/x-octave",
		   "name": "scilab",
		   "version": "0.7.1"
		  }
		 },
		 "nbformat": 4,
		 "nbformat_minor": 0
}
