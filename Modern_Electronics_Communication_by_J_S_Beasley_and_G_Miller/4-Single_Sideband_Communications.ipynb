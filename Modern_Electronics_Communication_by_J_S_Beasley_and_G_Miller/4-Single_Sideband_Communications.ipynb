{
"cells": [
 {
		   "cell_type": "markdown",
	   "metadata": {},
	   "source": [
       "# Chapter 4: Single Sideband Communications"
	   ]
	},
{
		   "cell_type": "markdown",
		   "metadata": {},
		   "source": [
			"## Example 4.1: example1.sce"
		   ]
		  },
  {
"cell_type": "code",
	   "execution_count": null,
	   "metadata": {
	    "collapsed": true
	   },
	   "outputs": [],
"source": [
"//Single-Sideband Communications : example 4-1 : (pg 172 & 173)\n",
"x=1*10^6;\n",
"y=10^(80/20);\n",
"z=sqrt(y);\n",
"df=200;\n",
"Q=(x*z)/(4*df);\n",
"a=100*10^3;\n",
"Q1=(a*z)/(4*df);\n",
"disp(Q1);\n",
"//part(a) : Q when 1-MHz & 80-dB sideband suppression\n",
"printf('\nQ1 = fc.(log^-1(dB/20)^1/2)/4*delta(f) = %.f',Q);\n",
"//part(b) : Q when 100-kHz & 80-dB sideband suppression\n",
"printf('\nQ2 = fc.(log^-1(dB/20)^1/2)/4*delta(f) = %.f',Q1);"
   ]
   }
,
{
		   "cell_type": "markdown",
		   "metadata": {},
		   "source": [
			"## Example 4.2: example2.sce"
		   ]
		  },
  {
"cell_type": "code",
	   "execution_count": null,
	   "metadata": {
	    "collapsed": true
	   },
	   "outputs": [],
"source": [
"//Single-Sideband Communications : example 4-2 : (pg 178)\n",
"a=3*10^6;\n",
"b=3.1*10^6;//new DSB signal range\n",
"c=2.9*10^6;//new DSB signal range\n",
"Q=(a/(b-c));\n",
"printf('\nthe required filter Q is = %.f',Q);"
   ]
   }
,
{
		   "cell_type": "markdown",
		   "metadata": {},
		   "source": [
			"## Example 4.4: example4.sce"
		   ]
		  },
  {
"cell_type": "code",
	   "execution_count": null,
	   "metadata": {
	    "collapsed": true
	   },
	   "outputs": [],
"source": [
"//Single-Sideband Communications : example 4-4 : (pg 187)\n",
"a=455;\n",
"x=2000+1;\n",
"y=2000+3;\n",
"c=2000+455;\n",
"d=2455-2001;\n",
"e=2455-2003;\n",
"f=455-454;\n",
"g=455-452;\n",
"mprintf('\nRF and first mixer input: \n %.f kHz \n%.f kHz',x,y);\n",
"printf('\nlocal oscillator = %.f kHz',c);\n",
"mprintf('\nFirst mixer output: \n%.f kHz \n%.f kHz',d,e);//IF amp and second mixer input\n",
"printf('\nBFO = %.f kHz',a);\n",
"mprintf('\nSecond mixer output & audio amp: \n%.f kHZ \n%.f kHz',f,g);"
   ]
   }
],
"metadata": {
		  "kernelspec": {
		   "display_name": "Scilab",
		   "language": "scilab",
		   "name": "scilab"
		  },
		  "language_info": {
		   "file_extension": ".sce",
		   "help_links": [
			{
			 "text": "MetaKernel Magics",
			 "url": "https://github.com/calysto/metakernel/blob/master/metakernel/magics/README.md"
			}
		   ],
		   "mimetype": "text/x-octave",
		   "name": "scilab",
		   "version": "0.7.1"
		  }
		 },
		 "nbformat": 4,
		 "nbformat_minor": 0
}
