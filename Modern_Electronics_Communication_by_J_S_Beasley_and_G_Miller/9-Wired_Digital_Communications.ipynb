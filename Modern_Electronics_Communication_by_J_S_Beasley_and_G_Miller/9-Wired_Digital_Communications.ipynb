{
"cells": [
 {
		   "cell_type": "markdown",
	   "metadata": {},
	   "source": [
       "# Chapter 9: Wired Digital Communications"
	   ]
	},
{
		   "cell_type": "markdown",
		   "metadata": {},
		   "source": [
			"## Example 9.1: example1.sce"
		   ]
		  },
  {
"cell_type": "code",
	   "execution_count": null,
	   "metadata": {
	    "collapsed": true
	   },
	   "outputs": [],
"source": [
"//Wired Digital Communications : example 9-1 : (pg 405 & 406)\n",
"M=110;\n",
"x=7;\n",
"n=log2(M);\n",
"a=(log10(110)/log10(2));\n",
"b=2^a;\n",
"u=(a/x)*100;\n",
"y=log10(b);\n",
"u1=(y/3)*100;\n",
"printf('\nIn binary system, n=log2M = %.2f',n);//number of bits\n",
"printf('\n2^6.78 = %.f',b);\n",
"printf('\n7 bits are required and efficiency is u = %.f percent',u);\n",
"printf('\nIn a decimal system, the number of dits required is %.f i.e total of 3 dits',y);\n",
"printf('\nThe efficiency is %.f percent',u1);"
   ]
   }
,
{
		   "cell_type": "markdown",
		   "metadata": {},
		   "source": [
			"## Example 9.2: example2.sce"
		   ]
		  },
  {
"cell_type": "code",
	   "execution_count": null,
	   "metadata": {
	    "collapsed": true
	   },
	   "outputs": [],
"source": [
"//Wired Digital Communications : example 9-2 : (pg 407)\n",
"m=10^7;\n",
"Pe=10^-6;//error probability \n",
"a=m*Pe;//average number of errors\n",
"printf('\naverage number of errors = m*error probability(Pe) \n= %.f',a);\n",
"mprintf('\n%.f expected bit errors if %.f million bits are recieved',a,a); "
   ]
   }
,
{
		   "cell_type": "markdown",
		   "metadata": {},
		   "source": [
			"## Example 9.3: example_3.sce"
		   ]
		  },
  {
"cell_type": "code",
	   "execution_count": null,
	   "metadata": {
	    "collapsed": true
	   },
	   "outputs": [],
"source": [
"//Wired Digital Communications : example 9-3 : (pg 407)\n",
"Tb=1/9600;//bit frequency\n",
"Pt=0.8;//transmit power\n",
"Eb=Pt*Tb;//energy per bit\n",
"printf('\nbit frequency = %.7f',Tb);\n",
"printf('\nEb = Pt.Tb =%.8f J',Eb);"
   ]
   }
,
{
		   "cell_type": "markdown",
		   "metadata": {},
		   "source": [
			"## Example 9.4: example4.sce"
		   ]
		  },
  {
"cell_type": "code",
	   "execution_count": null,
	   "metadata": {
	    "collapsed": true
	   },
	   "outputs": [],
"source": [
"//Wired Digital Communications : example 9-4 : (pg 410)\n",
"bw=3*10^3;//bandwidth\n",
"x=1023;//signal-to-noise ratio\n",
"C=bw*log2(1+x);//capacity of telephone channel\n",
"printf('\nthe telephone channel has a bandwidth of about %.f Hz',bw);\n",
"printf('\nC = BW.log2(1+S/N) = %.f bits per second',C);"
   ]
   }
,
{
		   "cell_type": "markdown",
		   "metadata": {},
		   "source": [
			"## Example 9.5: example4.sce"
		   ]
		  },
  {
"cell_type": "code",
	   "execution_count": null,
	   "metadata": {
	    "collapsed": true
	   },
	   "outputs": [],
"source": [
"//Wired Digital Communications : example 9-5 : (pg 411)\n",
"Tb=1/(8*10^3);//bit frequency\n",
"BWmin=1/(2*Tb);//minimum bandwidth\n",
"printf('\nTb = %.8f s',Tb);\n",
"printf('\nBWmin = 1/2.Tb = %.f Hz',BWmin);"
   ]
   }
],
"metadata": {
		  "kernelspec": {
		   "display_name": "Scilab",
		   "language": "scilab",
		   "name": "scilab"
		  },
		  "language_info": {
		   "file_extension": ".sce",
		   "help_links": [
			{
			 "text": "MetaKernel Magics",
			 "url": "https://github.com/calysto/metakernel/blob/master/metakernel/magics/README.md"
			}
		   ],
		   "mimetype": "text/x-octave",
		   "name": "scilab",
		   "version": "0.7.1"
		  }
		 },
		 "nbformat": 4,
		 "nbformat_minor": 0
}
