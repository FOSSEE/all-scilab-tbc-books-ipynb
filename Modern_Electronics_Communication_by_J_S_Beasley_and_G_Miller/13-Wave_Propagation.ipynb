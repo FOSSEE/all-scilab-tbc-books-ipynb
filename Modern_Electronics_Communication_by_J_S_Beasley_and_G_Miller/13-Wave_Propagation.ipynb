{
"cells": [
 {
		   "cell_type": "markdown",
	   "metadata": {},
	   "source": [
       "# Chapter 13: Wave Propagation"
	   ]
	},
{
		   "cell_type": "markdown",
		   "metadata": {},
		   "source": [
			"## Example 13.1: example1.sce"
		   ]
		  },
  {
"cell_type": "code",
	   "execution_count": null,
	   "metadata": {
	    "collapsed": true
	   },
	   "outputs": [],
"source": [
"//Wave Propagation : example 13-1 : (pg 628)\n",
"x=(2*(1/2));\n",
"a=15;\n",
"d=53.5*10^-6;//duration for each horizontal line on the reciever\n",
"t=1/186000;//time delay between direct and reflected signal\n",
"g=(t/d)*a;//ghost width\n",
"printf('\nt = d/v = %.8f',t);\n",
"printf('\nghost width = %.2f in.',g);"
   ]
   }
,
{
		   "cell_type": "markdown",
		   "metadata": {},
		   "source": [
			"## Example 13.2: example2.sce"
		   ]
		  },
  {
"cell_type": "code",
	   "execution_count": null,
	   "metadata": {
	    "collapsed": true
	   },
	   "outputs": [],
"source": [
"//Wave Propagation : example 13-2 : (pg 641 & 642)\n",
"S=83;//satellite longitude in degrees\n",
"N=90;//site longitude in degrees\n",
"L=35;//site latitude in degrees\n",
"G=S-N;\n",
"a=atand(-0.128/0.5736);\n",
"A=180+a;     \n",
"x=cosd(G)*cosd(L);\n",
"b=0.1512;\n",
"d=x-b;\n",
"n=(cosd(G))^2;\n",
"m=(cosd(L))^2;\n",
"o=1-(m*n);\n",
"w=sqrt(o);\n",
"y=d/w;\n",
"E=atand(y);\n",
"printf('\nThe azimuth is equal to A = 180+arctan(tanG/tanL) = %.f degrees',A);\n",
"printf('\nThe elevation calculated ,\ntan(E)=cosG.cosL-0.1512/sqrt(1-cos^2G.cos^2L) = %.4f',y);\n",
"printf('\nE = %.3f degrees',E);"
   ]
   }
,
{
		   "cell_type": "markdown",
		   "metadata": {},
		   "source": [
			"## Example 13.3: example3.sce"
		   ]
		  },
  {
"cell_type": "code",
	   "execution_count": null,
	   "metadata": {
	    "collapsed": true
	   },
	   "outputs": [],
"source": [
"//Wave Propagation : example 13-3 : (pg 646)\n",
"x=(32+(44/60)+(36/3600));// N latitude\n",
"y=(106+(16/60)+(37/3600));//W longitude\n",
"D=42.1642*10^6;//distance from the satellite to the center of the earth\n",
"R=6.378*10^6;//earth's radius\n",
"a=32.74333;\n",
"B=-7.27694;\n",
"m=D^2;\n",
"n=R^2;\n",
"e=2*D*R;\n",
"q=cosd(a)*cosd(B);\n",
"d=sqrt(m+n-(e*q));\n",
"c=2.997925*10^5;//velocity of light\n",
"de=d/c;\n",
"rd=(2*d)/c;\n",
"printf('\n N latitude \nconverted into degrees = %.5f',x);\n",
"printf('\n W longitude \n coverted into degrees = %.7f',y);\n",
"printf('\nd = sqrt(D^2 + R^2 - 2.D.R.cosa.cosB) = %.f meters',d);\n",
"printf('\ndelay = d/c  and roundtrip delay = 2d/c ');\n",
"printf('\ndelay = 0.%.f seconds',de);\n",
"printf('\nroundtrip delay = 0.%.f seconds',rd);\n",
"\n",
""
   ]
   }
,
{
		   "cell_type": "markdown",
		   "metadata": {},
		   "source": [
			"## Example 13.4: example4.sce"
		   ]
		  },
  {
"cell_type": "code",
	   "execution_count": null,
	   "metadata": {
	    "collapsed": true
	   },
	   "outputs": [],
"source": [
"//Wave Propagation : example 13-4 : (pg 651 & 652)\n",
"G=45;//antenna gain\n",
"nt=25;//antenna noise temperature\n",
"nt1=70;//LNB noise temperature\n",
"nt2=2;//noise temperature(reciever and passive components)\n",
"T=nt+nt1+nt2;//total noise temperature\n",
"x=G-10*log10(T);//figure of merit\n",
"printf('\nSum of all of the noise temperature contributions \nTs = %.f K',T);\n",
"printf('\nThe figure of merit (G/T) \nG/T = G-10.log(Ts) = %.2f dB',x);\n",
""
   ]
   }
,
{
		   "cell_type": "markdown",
		   "metadata": {},
		   "source": [
			"## Example 13.5: example5.sce"
		   ]
		  },
  {
"cell_type": "code",
	   "execution_count": null,
	   "metadata": {
	    "collapsed": true
	   },
	   "outputs": [],
"source": [
"//Wave Propagation : example 13-5 : (pg 652 & 653)\n",
"d=41.130383*10^6;//distance\n",
"c=2.997925*10^8;//velocity of light\n",
"f=14.25*10^9;//uplink frequency\n",
"h=c/f;//wavelength\n",
"x=(4*%pi*d)/h;\n",
"Lp=20*log10(x);//free-space path loss\n",
"printf('\nThe wavelength is calculated by, \nh=c/f = %.6f',h);\n",
"printf('\nThe free-space path loss(Lp) expressed in dB');\n",
"printf('\nLp(dB)= 20log(4.pi.d/h) = %.3f dB',Lp);"
   ]
   }
],
"metadata": {
		  "kernelspec": {
		   "display_name": "Scilab",
		   "language": "scilab",
		   "name": "scilab"
		  },
		  "language_info": {
		   "file_extension": ".sce",
		   "help_links": [
			{
			 "text": "MetaKernel Magics",
			 "url": "https://github.com/calysto/metakernel/blob/master/metakernel/magics/README.md"
			}
		   ],
		   "mimetype": "text/x-octave",
		   "name": "scilab",
		   "version": "0.7.1"
		  }
		 },
		 "nbformat": 4,
		 "nbformat_minor": 0
}
