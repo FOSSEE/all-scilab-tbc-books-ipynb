{
"cells": [
 {
		   "cell_type": "markdown",
	   "metadata": {},
	   "source": [
       "# Chapter 8: Digital Communication Coding Technique"
	   ]
	},
{
		   "cell_type": "markdown",
		   "metadata": {},
		   "source": [
			"## Example 8.1: example1.sce"
		   ]
		  },
  {
"cell_type": "code",
	   "execution_count": null,
	   "metadata": {
	    "collapsed": true
	   },
	   "outputs": [],
"source": [
"//Digital Communication-Coding Techniques : example 8-1 : (pg 357)\n",
"fa=20*10^3;\n",
"fs=2*fa;//minimum sample rate\n",
"printf('\nfs >= 2.fa \nfs >= %.f Hz',fs);\n",
"  "
   ]
   }
,
{
		   "cell_type": "markdown",
		   "metadata": {},
		   "source": [
			"## Example 8.2: example2.sce"
		   ]
		  },
  {
"cell_type": "code",
	   "execution_count": null,
	   "metadata": {
	    "collapsed": true
	   },
	   "outputs": [],
"source": [
"//Digital Communication-Coding Techniques : example 8-1 : (pg 362)\n",
"dr=55;\n",
"n=(dr/6.02);\n",
"x=(1.76+(6.02*10));//signal-to-noise ratio for digitizing system\n",
"l=2^10;\n",
"y=10*log10(3*(l^2));//signal-to-quantization-noise level\n",
"printf('\nDR = 6.02dB/bit(n) \n n= %.3f',n);\n",
"printf('\nS/N = %.2f dB',x);\n",
"printf('\nL = 2^10 = %.f',l);\n",
"printf('\n(S/N)q(dB) = 10log3L^2 = %.2f dB',y);"
   ]
   }
,
{
		   "cell_type": "markdown",
		   "metadata": {},
		   "source": [
			"## Example 8.3: example3.sce"
		   ]
		  },
  {
"cell_type": "code",
	   "execution_count": null,
	   "metadata": {
	    "collapsed": true
	   },
	   "outputs": [],
"source": [
"//Digital Communication-Coding Techniques : example 8-3 : (pg 368)\n",
"R=100*10^3;\n",
"Rf=10*10^3;\n",
"Vref=-10;\n",
"Vo=-(Vref)*(Rf/R);// resolution\n",
"a=(10/100);\n",
"b=(10/50);\n",
"c=(10/25);\n",
"d=(10/12.5);\n",
"V=-(Vref)*(a+b+c+d);//output voltage\n",
"printf('\nThe step-size is determined by leaving all switches open and closing the lsb');\n",
"printf('\nVo = -(-10V)(Rf/R) = %.1f',Vo);\n",
"printf('\nThe resolution is 1.0. If all switches are closed,a logic 1 is input.');\n",
"printf('\nVo = %.f V',V);"
   ]
   }
,
{
		   "cell_type": "markdown",
		   "metadata": {},
		   "source": [
			"## Example 8.4: example4.sce"
		   ]
		  },
  {
"cell_type": "code",
	   "execution_count": null,
	   "metadata": {
	    "collapsed": true
	   },
	   "outputs": [],
"source": [
"//Digital Communication-Coding Techniques : example 8-4 : (pg 375)\n",
"d=2;\n",
"d1=3;\n",
"d2=4;\n",
"x=d-1;\n",
"a=(d/2)-1;\n",
"y=d1-1;\n",
"b=1/2*(d1-1);\n",
"z=d2-1;\n",
"c=(d2/2)-1; \n",
"//part (a)\n",
"printf('\nDmin = 2, the no. of error detected is (Dmin-1) = %.f',x);\n",
"printf('\nDmin is even, the no. of errors corrected equal = (Dmin/2)-1 = %.f',a);\n",
"printf('\nDmin = 3, the no. of error detected is (Dmin-1) = %.f',y);\n",
"printf('\nDmin is odd, the no. of errors corrected equal = (Dmin/2)-1 = %.f',b);\n",
"printf('\nDmin = 4, the no. of error detected is (Dmin-1) = %.f',z);\n",
"printf('\nDmin is even, the no. of errors corrected equal = (Dmin/2)-1 = %.f',c);"
   ]
   }
],
"metadata": {
		  "kernelspec": {
		   "display_name": "Scilab",
		   "language": "scilab",
		   "name": "scilab"
		  },
		  "language_info": {
		   "file_extension": ".sce",
		   "help_links": [
			{
			 "text": "MetaKernel Magics",
			 "url": "https://github.com/calysto/metakernel/blob/master/metakernel/magics/README.md"
			}
		   ],
		   "mimetype": "text/x-octave",
		   "name": "scilab",
		   "version": "0.7.1"
		  }
		 },
		 "nbformat": 4,
		 "nbformat_minor": 0
}
