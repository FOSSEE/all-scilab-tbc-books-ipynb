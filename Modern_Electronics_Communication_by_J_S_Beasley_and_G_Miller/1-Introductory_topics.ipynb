{
"cells": [
 {
		   "cell_type": "markdown",
	   "metadata": {},
	   "source": [
       "# Chapter 1: Introductory topics"
	   ]
	},
{
		   "cell_type": "markdown",
		   "metadata": {},
		   "source": [
			"## Example 1.10: example10.sce"
		   ]
		  },
  {
"cell_type": "code",
	   "execution_count": null,
	   "metadata": {
	    "collapsed": true
	   },
	   "outputs": [],
"source": [
"//Introductory Topics :example 1-10 : (pg no. 26)\n",
"i= 14*10^-3;//dc current\n",
"R=50;\n",
"x=(20*i*R);\n",
"y=10*log10(x);\n",
"printf('\nNR = 20.Idc.R = %.f',x);//noise ratio\n",
"printf('\nNF = 10log(NR) = %.2f dB',y);//noise figure"
   ]
   }
,
{
		   "cell_type": "markdown",
		   "metadata": {},
		   "source": [
			"## Example 1.11: example11.sce"
		   ]
		  },
  {
"cell_type": "code",
	   "execution_count": null,
	   "metadata": {
	    "collapsed": true
	   },
	   "outputs": [],
"source": [
"//Introductory Topics :example 1-11 : (pg no. 37)\n",
"f=(12*10^3);\n",
"L=3*10^-3;\n",
"C=(0.1*10^-6);\n",
"R=30;\n",
"x=L*C;\n",
"y=sqrt(x);\n",
"z=(2*%pi*y);\n",
"a=(1/z);\n",
"Xl=(2*%pi*f*L);\n",
"Xc=(1/(2*%pi*f*C));\n",
"b=(Xl-Xc)^2;\n",
"c=R^2;\n",
"d=sqrt(c+b);\n",
"printf('\nfr = 1/2.pi.sqrt(LC) = %.f Hz',a);\n",
"//at 12kHz\n",
"printf('\nXL = 2.pi.f.L = %.f Ohm',Xl);\n",
"printf('\nXC = 1/2.pi.f.C = %.f Ohm',Xc);\n",
"printf('\nZ = sqrt(R^2+(XL-XC)^2) = %.1f Ohm',d);//impedance when f=12 Hz"
   ]
   }
,
{
		   "cell_type": "markdown",
		   "metadata": {},
		   "source": [
			"## Example 1.12: example12.sce"
		   ]
		  },
  {
"cell_type": "code",
	   "execution_count": null,
	   "metadata": {
	    "collapsed": true
	   },
	   "outputs": [],
"source": [
"//Introductory Topics :example 1-12 : (pg no. 38 & 39)\n",
"R1=20;\n",
"R2=1;\n",
"L=1*10^-3;\n",
"C=0.4*10^-6;\n",
"ein=50*10^-3;\n",
"f=12*10^3;\n",
"x=sqrt(L*C);\n",
"y=(1/(2*%pi*x));\n",
"eo= ein*(R2/(R2+R1));\n",
"XL=(2*%pi*f*L);\n",
"XC=(1/(2*%pi*f*C));\n",
"a=(R1+R2)^2;\n",
"b=(XL-XC)^2;\n",
"z=sqrt(a+b);\n",
"zo=sqrt((R2^2)+b);\n",
"m=(ein*(zo/z));\n",
"printf('\nfr = 1/2.pi.sqrt(LC) = %.f Hz',y);//resonant frequency\n",
"printf('\neout = ein *(R2/R1+R2) = %.5f V',eo);//o/p voltage at resonance\n",
"// at f=12 kHz\n",
"printf('\nXL = 2.pi.f.L = %.1f Ohm',XL);\n",
"printf('\nXC = 1/2.pi.f.C = %.1f Ohm',XC);\n",
"printf('\nZtotal = sqrt((R1+R2)^2 +(XL-XC)^2) = %.1f Ohm',z);\n",
"printf('\nZout = sqrt(R2^2)+(XL-XC)^2 = %.1f Ohm',zo);\n",
"printf('\neout = %.4f V',m);//o/p voltage at 12kHz\n",
"\n",
""
   ]
   }
,
{
		   "cell_type": "markdown",
		   "metadata": {},
		   "source": [
			"## Example 1.13: example13.sce"
		   ]
		  },
  {
"cell_type": "code",
	   "execution_count": null,
	   "metadata": {
	    "collapsed": true
	   },
	   "outputs": [],
"source": [
"//Introductory Topics :example 1-13 : (pg no. 40 & 41)\n",
"a=460*10^3;\n",
"b=450*10^3;\n",
"BW=a-b;\n",
"fr=455*10^3;\n",
"Q=(fr/BW);\n",
"C=0.001*10^-6;\n",
"x=(fr*2*%pi);\n",
"y=(1/x)^2;\n",
"z=y/C;\n",
"R=(2*%pi*z*BW);\n",
"//part(a) : bandwidth\n",
"printf('\nBW = fhc-flc = %.f Hz',BW);\n",
"//part(b) : Quality factor\n",
"//filter's peak o/p occurs at 455kHz\n",
"printf('\nQ = fr/BW = %.1f kHz',Q);\n",
"//part(c) : value of inductance\n",
"printf('\nfr = 1/2.pi.sqrt(LC) = %.5f H',z);\n",
"//part(d): total circuit resistance\n",
"printf('\nBW = R/2.pi.L \nR = %.2f Ohm',R);"
   ]
   }
,
{
		   "cell_type": "markdown",
		   "metadata": {},
		   "source": [
			"## Example 1.14: example14.sce"
		   ]
		  },
  {
"cell_type": "code",
	   "execution_count": null,
	   "metadata": {
	    "collapsed": true
	   },
	   "outputs": [],
"source": [
"//Introductory Topics :example 1-14 : (pg no. 42)\n",
"R=2;\n",
"L=3*10^-3;\n",
"C=0.47*10^-6;\n",
"x=(2*%pi*sqrt(L*C));\n",
"y=1/x;\n",
"XL=(2*%pi*y*L);\n",
"Q=(XL/R);\n",
"Z=((Q^2)*R);\n",
"BW=(R/(2*%pi*L));\n",
"//part(a) : resonant frequency\n",
"printf('\nfr = 1/2.pi.sqrt(LC) = %.f Hz',y);\n",
"//part(b) : Quality factor\n",
"printf('\nQ = XL/R \n XL =2.pi.f.L \nXL = %.1f Ohm',XL);\n",
"printf('\nQ = %.1f',Q);\n",
"//part(c) : maximum impedance\n",
"printf('\nZmax = Q^2*R = %.f Ohm',Z);\n",
"//part(d) : Bandwidth\n",
"printf('\nBW = R/2.pi.L = %.f Hz',BW);"
   ]
   }
,
{
		   "cell_type": "markdown",
		   "metadata": {},
		   "source": [
			"## Example 1.1: example1.sce"
		   ]
		  },
  {
"cell_type": "code",
	   "execution_count": null,
	   "metadata": {
	    "collapsed": true
	   },
	   "outputs": [],
"source": [
"//Introductory Topics :example 1-1 : (pg no. 8)\n",
"P1=0.001;\n",
"dB=10*log(0.001/0.001);\n",
"x=10^0;\n",
"y=x*P1*600;\n",
"V=sqrt(y);\n",
"printf('\ndB =10log(P1/P2) = 10log(1mW/1mW) = %.f dBm',dB);\n",
"//0 dBm indicates result was obtained to a 1-mW reference\n",
"// voltage measured across 600 ohm load for 0dBm level is 0.775 V\n",
"printf('\ndB =10log(P1/P2) \nwhere P2=V2^2/600 \nP1=0.001 W');\n",
"printf('\n0 dBm = 10log((V2^2)/600))/0.001');\n",
"printf('\nV2 =%.5f V',V);\n",
"//value of V2 is used to calculate the dBm(600) value\n",
"printf('\ndBm(600)=20log(V2/0.775)');\n",
"\n",
""
   ]
   }
,
{
		   "cell_type": "markdown",
		   "metadata": {},
		   "source": [
			"## Example 1.2: example2.sce"
		   ]
		  },
  {
"cell_type": "code",
	   "execution_count": null,
	   "metadata": {
	    "collapsed": true
	   },
	   "outputs": [],
"source": [
"//Introductory Topics :example 1-2 : (pg no. 9 & 10)\n",
"P=0.001;\n",
"R=75;\n",
"R1=50;\n",
"x=(8/20);\n",
"y=(10^x);\n",
"V2=(y*0.775);\n",
"V=sqrt(P*R);\n",
"V1=sqrt(P*R1);\n",
"//It is a 600 ohm system so 0.775 V reference is used\n",
"printf('\ndBm(600)= 20log(V2/0.775)');\n",
"printf('\nV2 = %.3f V',V2);\n",
"//voltage reference for 75-ohm system\n",
"printf('\nV=sqrt(P*R) = %.3f V',V);\n",
"printf('\ndBm(75)= 20log(V/0.274)');\n",
"//voltage reference for 50-Ohm system\n",
"printf('\nV=sqrt(P*R) = %.4f V',V1);\n",
"printf('\ndB(50)= 20log(V/0.2236)');"
   ]
   }
,
{
		   "cell_type": "markdown",
		   "metadata": {},
		   "source": [
			"## Example 1.3: example3.sce"
		   ]
		  },
  {
"cell_type": "code",
	   "execution_count": null,
	   "metadata": {
	    "collapsed": true
	   },
	   "outputs": [],
"source": [
"//Introductory Topics :example 1-3 : (pg no. 10)\n",
"x=(10/10);\n",
"y=(10^x);\n",
"P2=(y*0.001);\n",
"a=(log10(0.01/1));\n",
"z=(10*a);\n",
"//Converting +10dBm to Watts\n",
"printf('\n+10dBm =10log(P2/0/001)');\n",
"printf('\nP2 =%.2f W',P2);\n",
"//Converting +10dBm to dBW\n",
"printf('\ndBW = 10log(0.01W/1W)');\n",
"printf('\ndBW = %.f dBW',z);"
   ]
   }
,
{
		   "cell_type": "markdown",
		   "metadata": {},
		   "source": [
			"## Example 1.4: example4.sce"
		   ]
		  },
  {
"cell_type": "code",
	   "execution_count": null,
	   "metadata": {
	    "collapsed": true
	   },
	   "outputs": [],
"source": [
"//Introductory Topics :example 1-4 : (pg no. 16)\n",
"kT=(1.6*10^-20);\n",
"f=(1*10^6);\n",
"R=(1*10^6);\n",
"x=sqrt(kT*f*R);\n",
"//4kT at room temperature (17 degree C) is 1.6*10^-20 Joules\n",
"printf('\nen = sqrt(4*k*T*delta(f)*R) \nen = %.6f Vrms',x);"
   ]
   }
,
{
		   "cell_type": "markdown",
		   "metadata": {},
		   "source": [
			"## Example 1.5: example5.sce"
		   ]
		  },
  {
"cell_type": "code",
	   "execution_count": null,
	   "metadata": {
	    "collapsed": true
	   },
	   "outputs": [],
"source": [
"//Introductory Topics :example 1-5 : (pg no. 16)\n",
"k=(1.38*10^-23);\n",
"T=(27+273);\n",
"f=(4*10^6);\n",
"R=100;\n",
"x=sqrt(4*k*T*f*R);\n",
"// to convert degres to kelvin, add 273 to it\n",
"printf('\nen = sqrt(4kT.delta(f)R) \nen = %.8f Vrms',x);"
   ]
   }
,
{
		   "cell_type": "markdown",
		   "metadata": {},
		   "source": [
			"## Example 1.6: example6.sce"
		   ]
		  },
  {
"cell_type": "code",
	   "execution_count": null,
	   "metadata": {
	    "collapsed": true
	   },
	   "outputs": [],
"source": [
"//Introductory Topics :example 1-6 : (pg no. 18 & 19)\n",
"x=10;\n",
"y=5;\n",
"z=(x/y);\n",
"a=(10*log10(z));\n",
"b=(10*log10(x));\n",
"c=(10*log10(y));\n",
"d=(b-c);\n",
"//part(a)\n",
"printf('\nNR = ((Si/Ni)/(So/No)) = %.f',z);\n",
"//part(b)\n",
"printf('\nNF = 10log((Si/Ni)/(So/No)) =  10logNR \nNF = %.f dB',a);\n",
"//part(c)\n",
"printf('\n 10log(Si/Ni) = %.f dB',b);\n",
"printf('\n 10log(So/No) = %.f dB',c);\n",
"printf('\ntheir difference = %.f dB',d);"
   ]
   }
,
{
		   "cell_type": "markdown",
		   "metadata": {},
		   "source": [
			"## Example 1.7: example7.sce"
		   ]
		  },
  {
"cell_type": "code",
	   "execution_count": null,
	   "metadata": {
	    "collapsed": true
	   },
	   "outputs": [],
"source": [
"//Introductory Topics :example 1-7 : (pg no. 21 & 22)\n",
"BW=200*10^3;\n",
"k=(1.38*10^-23);\n",
"T=(273+22);//converting degrees C into kelvin\n",
"R=(10*10^3);\n",
"R1=300;\n",
"NF1=3;\n",
"NF2=8;\n",
"NR1=2;\n",
"NR2=6.31;\n",
"df=((%pi/2)*BW);\n",
"Pn=(k*T*df);\n",
"en=sqrt(4*Pn*R);\n",
"x=(14+20+20);//sum of the power gain of the three stages\n",
"y=(x/10);\n",
"Pg=(10^y);\n",
"Po=(Pn*Pg);\n",
"eno=sqrt(Po*R1);\n",
"pg1=(10^(1.4));\n",
"pg2=(10^(20));\n",
"NR=(NR1+((NR2-1)/pg1)+((NR2-1)/(pg1*pg2)));\n",
"NF=10*log10(NR);\n",
"No=(NR*Pn*Pg);\n",
"a=sqrt(No*R1);\n",
"//part(a)\n",
"printf('\ndelta(f)= (pi/2)*BW = %.f Hz',df);//effective noise bandwidth\n",
"printf('\nPn = k.T.delta(f) = %.17f W',Pn);// at the input\n",
"printf('\nen=sqrt(4.k.T.delta(f).R) = %.8f V',en);//Voltage\n",
"printf('\nTpg = 14dB+20dB+20dB = %.f dB',x);//total power gain in decibels\n",
"printf('\n54dB = 10logPG \nPG = %.f',Pg);//total power gain\n",
"printf('\nPn(out) = Pn(in).PG = %.12f W',Po);//assuming perfect noiseless amplifiers\n",
"printf('\nen(out)= %.6f V',eno);//output driven by 300 Ohm load & P=V^2/R\n",
"//part(b)\n",
"printf('\nPG1=14dB = 25.1 \nPG2=PG3= 20dB =100 \nNF1= 3dB \nNR1=2 \nNF2=NF3=8dB \nNR2=NR3=6.31');\n",
"printf('\nNR=NR1+(NR2-1/PG1)+....+(NRn-1/PG1.PG2...PG(n-1))');//friiss's formula\n",
"printf('\nNR = %.3f',NR);//noise ratio\n",
"printf('\nNF = %.2f dB',NF);//noise figure\n",
"//part(c)\n",
"printf('\nNR = (Si/Ni)/(So/No) \nPG = %.1f*10^5',pg1);\n",
"printf('\nNR = No/(Ni*PG) \nNo = %.12f W',No);\n",
"printf('\nNo = (en^2)/R \nen= %.6f V',a);//outputnoise voltage"
   ]
   }
,
{
		   "cell_type": "markdown",
		   "metadata": {},
		   "source": [
			"## Example 1.8: example8.sce"
		   ]
		  },
  {
"cell_type": "code",
	   "execution_count": null,
	   "metadata": {
	    "collapsed": true
	   },
	   "outputs": [],
"source": [
"//Introductory Topics :example 1-8 : (pg no. 24)\n",
"k=1.38*10^-23;\n",
"T=(35+40+52);//total temperature\n",
"df=(1*10^6);\n",
"Teq=52;\n",
"To=290;\n",
"Pn=(k*T*df);\n",
"x=(Teq/To);\n",
"NR=(x+1);\n",
"NF=(10*log10(NR));\n",
"printf('\nPn = k.T.delta(f) = %.17f W',Pn);//Noise power\n",
"printf('\nTeq = To(NR-1) \nNR = %.2f',NR);//noise ratio\n",
"printf('\nNF = 10log(NR) =%.3f dB',NF);//noise figure"
   ]
   }
,
{
		   "cell_type": "markdown",
		   "metadata": {},
		   "source": [
			"## Example 1.9: example9.sce"
		   ]
		  },
  {
"cell_type": "code",
	   "execution_count": null,
	   "metadata": {
	    "collapsed": true
	   },
	   "outputs": [],
"source": [
"//Introductory Topics :example 1-9 : (pg no. 25)\n",
"x=7*10^-3;\n",
"y=0.18*10^-3;\n",
"z=10*log10(x/y);\n",
"// o/p power measured 400-Hz audio signal modulates a carrier\n",
"printf('\nS+N+D = %.3f W',x);\n",
"// o/p power measured when a filter cancels 400-Hz portion of the o/p\n",
"printf('\nN+D = %.5f W',y);\n",
"printf('\nSINAD = 10log(S+N+D/N+D)');\n",
"printf('\nSINAD = %.1f dB',z);"
   ]
   }
],
"metadata": {
		  "kernelspec": {
		   "display_name": "Scilab",
		   "language": "scilab",
		   "name": "scilab"
		  },
		  "language_info": {
		   "file_extension": ".sce",
		   "help_links": [
			{
			 "text": "MetaKernel Magics",
			 "url": "https://github.com/calysto/metakernel/blob/master/metakernel/magics/README.md"
			}
		   ],
		   "mimetype": "text/x-octave",
		   "name": "scilab",
		   "version": "0.7.1"
		  }
		 },
		 "nbformat": 4,
		 "nbformat_minor": 0
}
