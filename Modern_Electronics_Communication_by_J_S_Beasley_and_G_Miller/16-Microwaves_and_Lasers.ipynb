{
"cells": [
 {
		   "cell_type": "markdown",
	   "metadata": {},
	   "source": [
       "# Chapter 16: Microwaves and Lasers"
	   ]
	},
{
		   "cell_type": "markdown",
		   "metadata": {},
		   "source": [
			"## Example 16.1: example1.sce"
		   ]
		  },
  {
"cell_type": "code",
	   "execution_count": null,
	   "metadata": {
	    "collapsed": true
	   },
	   "outputs": [],
"source": [
"//Microwaves and Lasers : example 16-1 : pg(753)\n",
"h=0.3;//curve depth of parabolic reflector\n",
"D=3;//diameter of parabolic reflector\n",
"f=D/(16*h);//focal length\n",
"printf('\nFocal length(f)= D/16.h = %.3f m',f);\n",
"mprintf('\nThe focal length is %.3f m out from the center of the parabolic reflector',f);\n",
"\n",
""
   ]
   }
,
{
		   "cell_type": "markdown",
		   "metadata": {},
		   "source": [
			"## Example 16.2: example2.sce"
		   ]
		  },
  {
"cell_type": "code",
	   "execution_count": null,
	   "metadata": {
	    "collapsed": true
	   },
	   "outputs": [],
"source": [
"//Microwaves and Lasers : example 16-2 : pg(755)\n",
"D=3;//diameter of microwave dish\n",
"k=0.6;//efficiency of reflector\n",
"c=2.997925*10^8;//velocity of light\n",
"f=10*10^9;//frequency\n",
"h=c/f;//wavelength\n",
"x=(%pi*D)^2;\n",
"y=(h^2);\n",
"a=k*(x/y);\n",
"Ap=10*log10(a);//powergain\n",
"B=(70*h)/D;//beamwidth\n",
"printf('\nAp(dBi)=10logk(pi.D)^2/(h^2)');\n",
"printf('\nh= c/f = %.3f m',h);\n",
"printf('\nAp(dBi) = %.2f dBi',Ap);\n",
"printf('\nbeamwidth = 70h/D = %.1f degrees',B);"
   ]
   }
,
{
		   "cell_type": "markdown",
		   "metadata": {},
		   "source": [
			"## Example 16.3: example3.sce"
		   ]
		  },
  {
"cell_type": "code",
	   "execution_count": null,
	   "metadata": {
	    "collapsed": true
	   },
	   "outputs": [],
"source": [
"//Microwaves and Lasers : example 16-3 : pg(756)\n",
"D=4.5;//diameter of parabolic reflector\n",
"k=0.62;//efficiency factor\n",
"x=(D/2)^2;\n",
"y=(k*%pi);\n",
"Ae=y*x;//aperture efficiency\n",
"i=(%pi*x);//ideal capture area\n",
"printf('\nAe = k.pi(D/2)^2 sq.m = %.2f sq.m',Ae);\n",
"mprintf('\nThe ideal capture area for %.1f m parabolic antenna is pi.(D/2)^2 = %.1f sq.m',D,i);"
   ]
   }
],
"metadata": {
		  "kernelspec": {
		   "display_name": "Scilab",
		   "language": "scilab",
		   "name": "scilab"
		  },
		  "language_info": {
		   "file_extension": ".sce",
		   "help_links": [
			{
			 "text": "MetaKernel Magics",
			 "url": "https://github.com/calysto/metakernel/blob/master/metakernel/magics/README.md"
			}
		   ],
		   "mimetype": "text/x-octave",
		   "name": "scilab",
		   "version": "0.7.1"
		  }
		 },
		 "nbformat": 4,
		 "nbformat_minor": 0
}
