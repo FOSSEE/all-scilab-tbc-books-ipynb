{
"cells": [
 {
		   "cell_type": "markdown",
	   "metadata": {},
	   "source": [
       "# Chapter 5: Frequency Modulation Transmission"
	   ]
	},
{
		   "cell_type": "markdown",
		   "metadata": {},
		   "source": [
			"## Example 5.1: example1.sce"
		   ]
		  },
  {
"cell_type": "code",
	   "execution_count": null,
	   "metadata": {
	    "collapsed": true
	   },
	   "outputs": [],
"source": [
"//Frequency Modulation : Transmission : example 5-1 : (pg 209)\n",
"v=25*10^-3;\n",
"f=750;//deviation constant\n",
"vg=10*10^-3;//deviation constant\n",
"pfd=v*(f/vg);//positive frequency deviation\n",
"nfd=-v*(f/vg);//negative frequency deviation\n",
"//part(a)\n",
"printf('\npositive frequency deviation = %.f Hz',pfd);\n",
"printf('\nnegative frequency deviation = %.f Hz',nfd);\n",
"mprintf('\nThe total deviation is written as +-2.25kHz for the given input signal level');\n",
"//part(b)\n",
"printf('\nThe input frequency (fi) is 400 Hz therefore, by eqn \nfout = fc+kei');\n",
"mprintf('\nThe carrier wil deviate %.f Hz and %.f Hz at a rate of 400 Hz',pfd,nfd);"
   ]
   }
,
{
		   "cell_type": "markdown",
		   "metadata": {},
		   "source": [
			"## Example 5.3: example3.sce"
		   ]
		  },
  {
"cell_type": "code",
	   "execution_count": null,
	   "metadata": {
	    "collapsed": true
	   },
	   "outputs": [],
"source": [
"//Frequency Modulation : Transmission : example 5-3 : (pg 214)\n",
"d=20*10^3;\n",
"fi=10*10^3;\n",
"mf=d/fi;\n",
"a=mf*40;\n",
"printf('\nmf = %.f',mf);//maximum deviation\n",
"printf('\nJ0,J1,J2,J3,J4 are the significant components are obtained');//from Bessel func\n",
"printf('\nJ1=+-10kHz \nJ2=+-20kHz \nJ3 = +-30kHz \nJ4=+-40kHz');\n",
"printf('\ntotal required bandwidth is %.f kHz',a);"
   ]
   }
,
{
		   "cell_type": "markdown",
		   "metadata": {},
		   "source": [
			"## Example 5.4: example4.sce"
		   ]
		  },
  {
"cell_type": "code",
	   "execution_count": null,
	   "metadata": {
	    "collapsed": true
	   },
	   "outputs": [],
"source": [
"//Frequency Modulation : Transmission : example 5-4 : (pg 214)\n",
"d=20*10^3;\n",
"fi=5*10^3;\n",
"mf=d/fi;\n",
"a=2*35;\n",
"printf('\nmf = %.f',mf);\n",
"printf('\nhighest significant side-frequency component is J7');//from bessel function\n",
"printf('\nrequired bandwidth is %.f kHz',a);"
   ]
   }
,
{
		   "cell_type": "markdown",
		   "metadata": {},
		   "source": [
			"## Example 5.5: example5.sce"
		   ]
		  },
  {
"cell_type": "code",
	   "execution_count": null,
	   "metadata": {
	    "collapsed": true
	   },
	   "outputs": [],
"source": [
"//Frequency Modulation : Transmission : example 5-5 : (pg 215)\n",
"fc=(2*%pi*(10^8))/2*%pi;\n",
"Vm=2000;\n",
"R=50;\n",
"P=(2000/sqrt(2))^2/R;\n",
"mf=2;//by inspection of FM equation\n",
"fi=(%pi*10^4)/(2*%pi);\n",
"d=(mf*fi);\n",
"BW=mf*40;\n",
"bw=2*(d+fi);\n",
"P1=((0.58*2000/sqrt(2))^2)/R;\n",
"P2=((0.3*2000/sqrt(2))^2)/R;\n",
"//part(a)\n",
"printf('\nfc = %.f Hz',fc);//by inspection of FM equation\n",
"//part(b)\n",
"printf('\nthe peak voltage is 2000V \nP = %.f W',P);\n",
"//part(c)\n",
"printf('\nmf = 2');//by inspection of FM equation\n",
"//part(d)\n",
"printf('\nthe intelligence frequency fi = %.f Hz',fi);\n",
"//part(e) \n",
"printf('\nmf = d/fi \nd = %.f Hz',d);//d is maximum deviation\n",
"printf('\nas mf=2,significant sidebands exist to J4 \nBW = %.f Hz',BW);\n",
"printf('\n BW = %.f Hz',bw);//using carson's rule (BW = 2(dmax+fimax))\n",
"//part(f)\n",
"printf('\nJ1 is the largest sideband at at 0.58 times the unmodulated carrier amplitude');\n",
"printf('\nP = %.f W',P1);\n",
"printf('\nor 2*135 = 27kW for two sidebands at +-5kHz from carrier');\n",
"printf('\nThe smallest sideband J4 is 0.03 times the carrier = %.f W',P2);\n",
"\n",
"\n",
""
   ]
   }
,
{
		   "cell_type": "markdown",
		   "metadata": {},
		   "source": [
			"## Example 5.6: example6.sce"
		   ]
		  },
  {
"cell_type": "code",
	   "execution_count": null,
	   "metadata": {
	    "collapsed": true
	   },
	   "outputs": [],
"source": [
"//Frequency Modulation : Transmission : example 5-6 : (pg 218)\n",
"d=75*10^3;\n",
"fi=30*10^3;\n",
"fi1=15*10^3;\n",
"d1=1*10^3;\n",
"fi2=100;\n",
"fi3=2*10^3;\n",
"a=d/fi;\n",
"b=d/fi1;\n",
"c=d1/fi2;\n",
"d=d1/fi3;\n",
"DR=d1/fi3;\n",
"//part(a)\n",
"printf('\nThe maximum deviation in broadcast FM is 75 kHz');\n",
"printf('\nmf = %.f',a);//for fi=30kHz\n",
"printf('\nFor fi = 15kHz, \nmf1 = %.f',b);\n",
"//part(b)\n",
"printf('\nmf2 = %.f',c);//for fi=100Hz and d=1kHz\n",
"printf('\nfor fi=2kHz \nmf3 = %.f',d);\n",
"printf('\nDR = fdev(max)/fi(max) = %.1f',DR);//deviation ratio"
   ]
   }
,
{
		   "cell_type": "markdown",
		   "metadata": {},
		   "source": [
			"## Example 5.7: example7.sce"
		   ]
		  },
  {
"cell_type": "code",
	   "execution_count": null,
	   "metadata": {
	    "collapsed": true
	   },
	   "outputs": [],
"source": [
"//Frequency Modulation : Transmission : example 5-7 : (pg 218  & pg 219)\n",
"mf=0.25;\n",
"a=0.98;\n",
"b=0.12;\n",
"x=10*10^3;\n",
"P=(a^2)*x;\n",
"P1=(b^2)*x;\n",
"t=P+2*P1;\n",
"printf('\nFor mf=0.25,the carrier is equal to0.98 times its unmodulated amplitude & the only significant sideband is J1 with a relative amplitude of 0.12');\n",
"printf('\ncarrier power = %.f W',P);\n",
"printf('\npower of each sideband = %.f W',P1);\n",
"printf('\ntotal power = %.f W',t)"
   ]
   }
,
{
		   "cell_type": "markdown",
		   "metadata": {},
		   "source": [
			"## Example 5.8: example8.sce"
		   ]
		  },
  {
"cell_type": "code",
	   "execution_count": null,
	   "metadata": {
	    "collapsed": true
	   },
	   "outputs": [],
"source": [
"//Frequency Modulation : Transmission : example 5-8 : (pg 222)\n",
"phi=0.5;\n",
"fi=5*10^3;\n",
"d=phi*fi;\n",
"x=75*10^3;\n",
"y=x/d;\n",
"printf('\nThe i/p =2 means that the worst case deviation is about 1/2 rad');\n",
"printf('\nd = %.f Hz',d);\n",
"printf('\nbecause full volume in broadcast FM corresponds to 75kHz deviation');\n",
"printf('\no/p S/N = %.f',y);"
   ]
   }
,
{
		   "cell_type": "markdown",
		   "metadata": {},
		   "source": [
			"## Example 5.9: example9.sce"
		   ]
		  },
  {
"cell_type": "code",
	   "execution_count": null,
	   "metadata": {
	    "collapsed": true
	   },
	   "outputs": [],
"source": [
"//Frequency Modulation : Transmission : example 5-9 : (pg 222 & 223)\n",
"dm=10*10^3;\n",
"x=(1/3);//N/S input ratio\n",
"phi=asind(x);\n",
"phi1=asin(x);\n",
"fi=3*10^3;\n",
"d=phi1*fi;\n",
"a=dm/d;\n",
"printf('\nThe worst-case phase shift dur to the noise occurs when phi=asin(N/S)');\n",
"mprintf('\nphi = %.1f degrees or %.2f rad',phi,phi1);\n",
"printf('\nd= %.f Hz',d);\n",
"printf('\nThe S/N output will be %.f',a);"
   ]
   }
],
"metadata": {
		  "kernelspec": {
		   "display_name": "Scilab",
		   "language": "scilab",
		   "name": "scilab"
		  },
		  "language_info": {
		   "file_extension": ".sce",
		   "help_links": [
			{
			 "text": "MetaKernel Magics",
			 "url": "https://github.com/calysto/metakernel/blob/master/metakernel/magics/README.md"
			}
		   ],
		   "mimetype": "text/x-octave",
		   "name": "scilab",
		   "version": "0.7.1"
		  }
		 },
		 "nbformat": 4,
		 "nbformat_minor": 0
}
