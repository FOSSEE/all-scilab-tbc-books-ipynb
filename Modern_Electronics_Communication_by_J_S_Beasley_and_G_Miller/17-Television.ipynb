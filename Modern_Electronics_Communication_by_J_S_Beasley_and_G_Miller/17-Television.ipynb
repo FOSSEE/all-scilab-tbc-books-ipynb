{
"cells": [
 {
		   "cell_type": "markdown",
	   "metadata": {},
	   "source": [
       "# Chapter 17: Television"
	   ]
	},
{
		   "cell_type": "markdown",
		   "metadata": {},
		   "source": [
			"## Example 17.1: example1.sce"
		   ]
		  },
  {
"cell_type": "code",
	   "execution_count": null,
	   "metadata": {
	    "collapsed": true
	   },
	   "outputs": [],
"source": [
"//Television : example 17-1 : pg(822)\n",
"bw=5*10^6;//bandwidth\n",
"t=53.5*10^-6;//time allocated for each visible trace\n",
"T=2*bw*t;//increase in horizontal resolution\n",
"mprintf('\nThe %.8f s allocated for each visible trace could now a develop a maximum %.f Hz video signal',t,bw);\n",
"printf('\nThus, the total number of vertical lines resolvable is %.f lines',T);"
   ]
   }
,
{
		   "cell_type": "markdown",
		   "metadata": {},
		   "source": [
			"## Example 17.2: example2.sce"
		   ]
		  },
  {
"cell_type": "code",
	   "execution_count": null,
	   "metadata": {
	    "collapsed": true
	   },
	   "outputs": [],
"source": [
"//Television : example 17-2 : pg(822)\n",
"bw=5*10^6;//bandwidth\n",
"l=428;//horizontal resolution\n",
"t=l/(bw*2);//trace time\n",
"x=1/30;//time available for a full picture\n",
"y=t+10*10^-6;//assuming that 10us is used for horizontal blanking\n",
"n=x/y;//no. of horizontal traces\n",
"c=600*0.7;//allowing 32 lines for vertical retrace\n",
"printf('\ntrace time = %.8f s',t);\n",
"printf('\ntotal no. of horizontal traces = %.f lines',n);\n",
"printf('\nvertical resolution = %.f lines',c); \n",
""
   ]
   }
],
"metadata": {
		  "kernelspec": {
		   "display_name": "Scilab",
		   "language": "scilab",
		   "name": "scilab"
		  },
		  "language_info": {
		   "file_extension": ".sce",
		   "help_links": [
			{
			 "text": "MetaKernel Magics",
			 "url": "https://github.com/calysto/metakernel/blob/master/metakernel/magics/README.md"
			}
		   ],
		   "mimetype": "text/x-octave",
		   "name": "scilab",
		   "version": "0.7.1"
		  }
		 },
		 "nbformat": 4,
		 "nbformat_minor": 0
}
