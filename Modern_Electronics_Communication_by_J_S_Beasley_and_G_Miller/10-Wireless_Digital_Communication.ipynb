{
"cells": [
 {
		   "cell_type": "markdown",
	   "metadata": {},
	   "source": [
       "# Chapter 10: Wireless Digital Communication"
	   ]
	},
{
		   "cell_type": "markdown",
		   "metadata": {},
		   "source": [
			"## Example 10.2: example2.sce"
		   ]
		  },
  {
"cell_type": "code",
	   "execution_count": null,
	   "metadata": {
	    "collapsed": true
	   },
	   "outputs": [],
"source": [
"//Wireless Digital Communications : example 10-2 : (pg 467)\n",
"n=3;\n",
"n1=7;\n",
"x=(2^n)-1;\n",
"y=(2^7)-1;\n",
"//part(a) \n",
"mprintf('\n n=%.f,PN sequence length = %.f',n,x);\n",
"//part(b)\n",
"mprintf('\n n=%.f,PN sequence length = %.f',n1,y);"
   ]
   }
,
{
		   "cell_type": "markdown",
		   "metadata": {},
		   "source": [
			"## Example 10.3: example3.sce"
		   ]
		  },
  {
"cell_type": "code",
	   "execution_count": null,
	   "metadata": {
	    "collapsed": true
	   },
	   "outputs": [],
"source": [
"//Wireless Digital Communications : example 10-3 : (pg 477)\n",
"x=56;//modulation bit rate\n",
"y=560;//chip rate\n",
"a=256;//modulation bit rate\n",
"b=1792;//chip rate\n",
"z=y/x;\n",
"c=b/a;\n",
"//part(a)\n",
"printf('\nSpreading = %.f',z);\n",
"printf('\nSpreading = %.f',c);"
   ]
   }
],
"metadata": {
		  "kernelspec": {
		   "display_name": "Scilab",
		   "language": "scilab",
		   "name": "scilab"
		  },
		  "language_info": {
		   "file_extension": ".sce",
		   "help_links": [
			{
			 "text": "MetaKernel Magics",
			 "url": "https://github.com/calysto/metakernel/blob/master/metakernel/magics/README.md"
			}
		   ],
		   "mimetype": "text/x-octave",
		   "name": "scilab",
		   "version": "0.7.1"
		  }
		 },
		 "nbformat": 4,
		 "nbformat_minor": 0
}
