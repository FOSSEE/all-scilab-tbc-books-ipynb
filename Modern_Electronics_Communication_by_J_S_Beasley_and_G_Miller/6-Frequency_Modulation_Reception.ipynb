{
"cells": [
 {
		   "cell_type": "markdown",
	   "metadata": {},
	   "source": [
       "# Chapter 6: Frequency Modulation Reception"
	   ]
	},
{
		   "cell_type": "markdown",
		   "metadata": {},
		   "source": [
			"## Example 6.1: example1.sce"
		   ]
		  },
  {
"cell_type": "code",
	   "execution_count": null,
	   "metadata": {
	    "collapsed": true
	   },
	   "outputs": [],
"source": [
"//Frequency Modulation - Reception : example 6-1 : (pg 265)\n",
"G=200000;\n",
"v=200*10^-3;//quieting voltage\n",
"in=v/G;\n",
"printf('\nTo reach quieting, the input must be %.8f V',in);//reciever's sensitivity"
   ]
   }
,
{
		   "cell_type": "markdown",
		   "metadata": {},
		   "source": [
			"## Example 6.2: example2.sce"
		   ]
		  },
  {
"cell_type": "code",
	   "execution_count": null,
	   "metadata": {
	    "collapsed": true
	   },
	   "outputs": [],
"source": [
"//Frequency Modulation - Reception : example 6-2 : (pg 272)\n",
"f=10*10^6;\n",
"f1=50*10^3;\n",
"f2=200*10^3;\n",
"x=f1*2;\n",
"y=f2*2;\n",
"printf('\nThe capture occurred at %.f Hz from the free-running VCO frequency.',f1);\n",
"printf('\nAssume symmetrical operation,which implies a capture range of %.f Hz',x)\n",
"mprintf('\nOnce captured the VCO follows the input to a %.f Hz deviation,implying a lock range of %.f Hz',f2,y);"
   ]
   }
],
"metadata": {
		  "kernelspec": {
		   "display_name": "Scilab",
		   "language": "scilab",
		   "name": "scilab"
		  },
		  "language_info": {
		   "file_extension": ".sce",
		   "help_links": [
			{
			 "text": "MetaKernel Magics",
			 "url": "https://github.com/calysto/metakernel/blob/master/metakernel/magics/README.md"
			}
		   ],
		   "mimetype": "text/x-octave",
		   "name": "scilab",
		   "version": "0.7.1"
		  }
		 },
		 "nbformat": 4,
		 "nbformat_minor": 0
}
