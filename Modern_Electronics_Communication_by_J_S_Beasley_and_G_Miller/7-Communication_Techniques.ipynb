{
"cells": [
 {
		   "cell_type": "markdown",
	   "metadata": {},
	   "source": [
       "# Chapter 7: Communication Techniques"
	   ]
	},
{
		   "cell_type": "markdown",
		   "metadata": {},
		   "source": [
			"## Example 7.10: example10.sce"
		   ]
		  },
  {
"cell_type": "code",
	   "execution_count": null,
	   "metadata": {
	    "collapsed": true
	   },
	   "outputs": [],
"source": [
"//Communication Techniqu;es : example 7-10 : (pg 329)\n",
"x=0.40*100*10^6;\n",
"y=(100*10^6/(2^32));\n",
"//fCLK is reference oscillator\n",
"printf('\nThe maximum output frequency is approximately 40 percent of fCLK MAX');\n",
"printf('\n %.f Hz',x);\n",
"printf('\nThe frequency resolution is given by fCLK / 2^N');\n",
"printf('\n%.3f Hz',y);"
   ]
   }
,
{
		   "cell_type": "markdown",
		   "metadata": {},
		   "source": [
			"## Example 7.6: example.sce"
		   ]
		  },
  {
"cell_type": "code",
	   "execution_count": null,
	   "metadata": {
	    "collapsed": true
	   },
	   "outputs": [],
"source": [
"//Communication Techniqu;es : example 7-6 : (pg 304)\n",
"Q=60;\n",
"IF=455*10^3;\n",
"x=680*10^3;\n",
"imf=x+2*(IF);//image frequency\n",
"a=(imf/x);\n",
"b=(x/imf);\n",
"c=(Q*(a-b));\n",
"d=20*log10(c);\n",
"printf('\nimage rejection(dB)=20log((fi/fs-fs/fi).Q)');\n",
"printf('\nThe image frequency is %.f Hz',imf);\n",
"printf('\nimage rejection = %.f dB',d);"
   ]
   }
,
{
		   "cell_type": "markdown",
		   "metadata": {},
		   "source": [
			"## Example 7.7: example7.sce"
		   ]
		  },
  {
"cell_type": "code",
	   "execution_count": null,
	   "metadata": {
	    "collapsed": true
	   },
	   "outputs": [],
"source": [
"//Communication Techniqu;es : example 7-7 : (pg 314)\n",
"NF=20;\n",
"df=10^6;\n",
"x=10*log10(df);\n",
"S=-174+NF+x;\n",
"a=5;//input intercept\n",
"dr=2/3*(a-S);\n",
"printf('\nS = -174dBm + NF + 10log10df + S/N = %.f dB',S);//sensitivity\n",
"printf('\ndynamic range = 2/3.(input intercept-noise floor) = %.d dB',dr);"
   ]
   }
,
{
		   "cell_type": "markdown",
		   "metadata": {},
		   "source": [
			"## Example 7.8: example8.sce"
		   ]
		  },
  {
"cell_type": "code",
	   "execution_count": null,
	   "metadata": {
	    "collapsed": true
	   },
	   "outputs": [],
"source": [
"//Communication Techniqu;es : example 7-8 : (pg 315)\n",
"nf=5;\n",
"x=24;\n",
"y=20;\n",
"NR0=10^(nf/10);\n",
"NR1=10^(y/10);\n",
"PG1=10^(x/10);\n",
"NR=NR0+((NR1-1)/PG1);\n",
"NF=10*log10(NR);\n",
"S=-174+NF+60;\n",
"a=nf-x;//the system's third-order intercept point \n",
"dr=2/3*(a-S);\n",
"printf('\nNR = antilog(NF/10)');//noise ratio\n",
"printf('\nNR1 = %.2f',NR0);\n",
"printf('\nNR2 = %.f',NR1);\n",
"printf('\nOverall NR = NR1+NR2-1/PG1');\n",
"printf('\nPG1= antilog(24dB/10) = %.f',PG1);\n",
"printf('\nNR = %.2f',NR);\n",
"printf('\nNF = %.1f dB',NF);//total system noise figure\n",
"printf('\nS = %.1f dBm',S);//sensitivity\n",
"printf('\nthe systems third-order intercept point is %.f dBm',a);\n",
"printf('\ndynamic range = %.1f dB',dr);"
   ]
   }
,
{
		   "cell_type": "markdown",
		   "metadata": {},
		   "source": [
			"## Example 7.9: example9.sce"
		   ]
		  },
  {
"cell_type": "code",
	   "execution_count": null,
	   "metadata": {
	    "collapsed": true
	   },
	   "outputs": [],
"source": [
"//Communication Techniqu;es : example 7-9 : (pg 315 & 316)\n",
"x=24;\n",
"nf=-5;\n",
"NR = 3.16+(99/10);\n",
"NF = 10*log10(NR);\n",
"S=-174+NF+60;\n",
"dr = 2/3*(nf-S);\n",
"printf('\nNR = %.1f',NR);//noise ratio\n",
"printf('\nNF = %.1f dB',NF);//noise figure\n",
"printf('\nS = %.1f dBm',S);//sensitivity\n",
"printf('\ndynamic range = %.1f dB',dr);"
   ]
   }
],
"metadata": {
		  "kernelspec": {
		   "display_name": "Scilab",
		   "language": "scilab",
		   "name": "scilab"
		  },
		  "language_info": {
		   "file_extension": ".sce",
		   "help_links": [
			{
			 "text": "MetaKernel Magics",
			 "url": "https://github.com/calysto/metakernel/blob/master/metakernel/magics/README.md"
			}
		   ],
		   "mimetype": "text/x-octave",
		   "name": "scilab",
		   "version": "0.7.1"
		  }
		 },
		 "nbformat": 4,
		 "nbformat_minor": 0
}
