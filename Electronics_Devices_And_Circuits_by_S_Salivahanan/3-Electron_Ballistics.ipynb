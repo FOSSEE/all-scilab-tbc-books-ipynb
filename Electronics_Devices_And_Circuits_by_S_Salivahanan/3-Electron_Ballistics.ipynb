{
"cells": [
 {
		   "cell_type": "markdown",
	   "metadata": {},
	   "source": [
       "# Chapter 3: Electron Ballistics"
	   ]
	},
{
		   "cell_type": "markdown",
		   "metadata": {},
		   "source": [
			"## Example 3.10: velocity_and_acceleration_and_deflection.sce"
		   ]
		  },
  {
"cell_type": "code",
	   "execution_count": null,
	   "metadata": {
	    "collapsed": true
	   },
	   "outputs": [],
"source": [
"//Example 3.10\n",
"clc\n",
"Va=600\n",
"l=3.5\n",
"d=0.8\n",
"L=20\n",
"Vd=20\n",
"format(9)\n",
"q=1.6*10^-19\n",
"m=9.1*10^-31\n",
"v=sqrt(2*q*Va/m)\n",
"disp(v,'(i) The velocity of the electron, v(m/s)= ')\n",
"format(10)\n",
"a=(q/m)*(Vd/d)\n",
"a1=a*10^2\n",
"disp('(ii) ma = qE')\n",
"disp(a1,'Thus, acceleration, a(m/s)= qE / m = (q/m)(Vd/d) =')\n",
"format(5)\n",
"D=(l*L*Vd)/(2*Va*d)\n",
"disp(D,'(iii) The deflection on the screen, D(cm)= ILVd / 2Vad =')\n",
"format(7)\n",
"Ds=D/Vd\n",
"disp(Ds, '(iv) Deflection sensitivity(cm/V)= D / Vd =')"
   ]
   }
,
{
		   "cell_type": "markdown",
		   "metadata": {},
		   "source": [
			"## Example 3.11: velocity_and_deflection_of_the_beam.sce"
		   ]
		  },
  {
"cell_type": "code",
	   "execution_count": null,
	   "metadata": {
	    "collapsed": true
	   },
	   "outputs": [],
"source": [
"//Example 3.11.\n",
"clc\n",
"q=1.6*10^-19\n",
"m=9.1*10^-31\n",
"Va=800\n",
"l=2\n",
"d=0.5\n",
"L=20\n",
"D=1\n",
"format(9)\n",
"v=sqrt(2*q*Va/m)\n",
"disp(v,'(i) The velocity of the beam, v(m/s)= sqrt(2qVa / m) =')\n",
"Vd=(D*2*d*Va)/(l*L)\n",
"disp('(ii) The deflection of the beam, D = lLVd / 2dVa')\n",
"disp(Vd,'Therefore, the voltage that must be applied to the plates, Vd(V) =')"
   ]
   }
,
{
		   "cell_type": "markdown",
		   "metadata": {},
		   "source": [
			"## Example 3.12: velocity_and_deflection_sensitivity_and_theta.sce"
		   ]
		  },
  {
"cell_type": "code",
	   "execution_count": null,
	   "metadata": {
	    "collapsed": true
	   },
	   "outputs": [],
"source": [
"//Example 3.12\n",
"clc\n",
"format(9)\n",
"v=sqrt((2*(1.6*10^-19)*1000)/(9.1*10^-31))\n",
"disp(v,'(i) Velocity of beam, v(m/s) = sqrt(2qVa/m) =')\n",
"format(6)\n",
"D=((2*10^-2)*(20*10^-2)*25)/(2*1000*(0.5*10^-2))\n",
"disp('(ii) Deflection sensitivity = D/Vd')\n",
"disp(D,'where  D(cm) = l*L*Vd / 2*Va*d =')\n",
"format(7)\n",
"ds=D/25\n",
"disp(ds,'Therefore, the deflection sensitivity(cm/V) = ')\n",
"theta=atand(1/1800)\n",
"disp('(iii) To find the angle of deflection, theta :')\n",
"disp('  tan(theta) = D/L-l')\n",
"disp(theta,'Therefore,  theta(in degree) = tan^-1(D/L-l) =')"
   ]
   }
,
{
		   "cell_type": "markdown",
		   "metadata": {},
		   "source": [
			"## Example 3.13: time_required_for_maximum_height.sce"
		   ]
		  },
  {
"cell_type": "code",
	   "execution_count": null,
	   "metadata": {
	    "collapsed": true
	   },
	   "outputs": [],
"source": [
"//Example 3.13.\n",
"clc\n",
"v0=3*10^5\n",
"E=910\n",
"theta=60\n",
"m=9.109*10^-31\n",
"q=1.6*10^-19\n",
"format(8)\n",
"disp('The electron starts moving in the +y direction, but, since acceleration is along the -y direction, its velocity isreduced to zero at time t=t''')\n",
"v0y=v0*cosd(theta)\n",
"disp(v0y,'v0y(m/s) = v0 * cos(theta) =')\n",
"format(10)\n",
"ay=(q*E)/m\n",
"disp(ay,'ay(m/s^2) = qE / m =')\n",
"format(6)\n",
"tdash=v0y/ay\n",
"x1=tdash*10^9\n",
"disp(x1,'t''(ns) = v0y / ay =')"
   ]
   }
,
{
		   "cell_type": "markdown",
		   "metadata": {},
		   "source": [
			"## Example 3.14: deflection_of_the_spot.sce"
		   ]
		  },
  {
"cell_type": "code",
	   "execution_count": null,
	   "metadata": {
	    "collapsed": true
	   },
	   "outputs": [],
"source": [
"//Example 3.14.\n",
"clc\n",
"format(5)\n",
"D=(((2*10^-2)*(1*10^-4)*(20*10^-2))/sqrt(800))*sqrt((1.6*10^-19)/(2*9.1*10^-31))\n",
"x1=D*10^2\n",
"disp('The deflection of the spot,')\n",
"disp(x1,'D(cm) = (IBL/sqrt(Va))*sqrt(q/2m) =')"
   ]
   }
,
{
		   "cell_type": "markdown",
		   "metadata": {},
		   "source": [
			"## Example 3.15: deflection_voltage.sce"
		   ]
		  },
  {
"cell_type": "code",
	   "execution_count": null,
	   "metadata": {
	    "collapsed": true
	   },
	   "outputs": [],
"source": [
"//Example 3.15.\n",
"clc\n",
"disp('The magnetostatic deflection, D = (IBL/sqrt(Va))*sqrt(q/2m)')\n",
"disp('The electrostatic deflection, D = lLVd / 2dVa')\n",
"disp('For returning the beam back to the centre, the electrostatic deflection and the magnetostatic deflection must be equal, i.e.,')\n",
"disp('(IBL/sqrt(Va))*sqrt(q/2m) = lLVd / 2dVa')\n",
"disp('Therefore,')\n",
"format(6)\n",
"Vd=(1*10^-2*2*10^-4)*sqrt((2*800*1.6*10^-19)/(9.1*10^-31))\n",
"disp(Vd,'Vd(V) = dB*sqrt(2*Va*q/m) =')"
   ]
   }
,
{
		   "cell_type": "markdown",
		   "metadata": {},
		   "source": [
			"## Example 3.1: Speed_and_the_kinetic_energy.sce"
		   ]
		  },
  {
"cell_type": "code",
	   "execution_count": null,
	   "metadata": {
	    "collapsed": true
	   },
	   "outputs": [],
"source": [
"//Example 3.1\n",
"format(8)\n",
"q=1.6*10^-19 //charge of electron\n",
"V=5000 //potential difference\n",
"m=9.1*10^-31 //mass of electron\n",
"v=sqrt(2*q*V/m) //speed of electron\n",
"disp(v,'Speed of the electron, v(m/s) =sqrt(2*q*V/m) =')\n",
"ke=(q*V)/(1.6*10^-9) //kinetic energyin eV\n",
"x1=ke*10^10\n",
"disp(x1,'The kinetic energy(eV)= q x V =')"
   ]
   }
,
{
		   "cell_type": "markdown",
		   "metadata": {},
		   "source": [
			"## Example 3.2: Velocity_and_kinetic_energy.sce"
		   ]
		  },
  {
"cell_type": "code",
	   "execution_count": null,
	   "metadata": {
	    "collapsed": true
	   },
	   "outputs": [],
"source": [
"//Example 3.2.\n",
"format(6)\n",
"me=1000*9.1*10^-31\n",
"disp(me,'Mass of the charged particle(kg) = 1000 times the mass of an electron =')\n",
"disp('The charge of the partical = 1.6*10^-19 C')\n",
"q=1.6*10^-19 //charge of the particle\n",
"V=1000 //potential difference\n",
"format(8)\n",
"v=sqrt(2*q*V/me)\n",
"disp(v,'Therefore, The velocity, v(m/s) = sqrt(2*q*V/me) =')\n",
"ke=(q*V)/(1.6*10^-19)  // in eV\n",
"disp(ke,'Kinetic energy(eV) = q x V =')"
   ]
   }
,
{
		   "cell_type": "markdown",
		   "metadata": {},
		   "source": [
			"## Example 3.3: velocity_and_time_of_travel.sce"
		   ]
		  },
  {
"cell_type": "code",
	   "execution_count": null,
	   "metadata": {
	    "collapsed": true
	   },
	   "outputs": [],
"source": [
"//Example 3.3.\n",
"clc\n",
"format(6)\n",
"d=6*10^-3\n",
"q=1.6*10^-19\n",
"m=9.1*10^-31\n",
"vax=3*10^6\n",
"E=350/d\n",
"disp(E,'Therefore, E(V/m) = V / d =')\n",
"format(10)\n",
"ax=q*E/m\n",
"disp(ax,'    ax(m/s^2) = qE / m =')\n",
"disp('We know that,')\n",
"disp('       x = vox*t + 0.5*a*t^2')\n",
"disp('      vx = vox + ax*t')\n",
"disp('(i) Consider x = 3*10^-3 m')\n",
"disp('3*10^-3 = 3*10^6*t + 5.13*10^15*t^2')\n",
"disp('Solving this equation,')\n",
"format(9)\n",
"t=poly(0,'t')\n",
"p1=(5.13*10^15)*t^2+(3*10^6)*t-3*10^-3\n",
"t1=roots(p1)\n",
"ans1=t1(1)\n",
"disp(ans1,'t(seconds)= ')\n",
"format(8)\n",
"vx=(3*10^6)+((1.026*10^16)*(5.264*10^-10))\n",
"disp(vx,'vx(m/s)= ')\n",
"disp('(ii) Consider x = 6*10^-6 m')\n",
"disp('t^2+(5.85*10^-10)*t-(1.17*10^-18) = 0')\n",
"disp('Solving this equation,')\n",
"format(9)\n",
"p2=t^2+(5.85*10^-10)*t-1.17*10^-18\n",
"t2=roots(p2)\n",
"ans2=t2(1)\n",
"disp(ans2,'t(seconds)= ')\n",
"vx1=(3*10^6)+((8.28*10^-10)*(1.026*10^16))\n",
"disp(vx1,'vx(m/s)= ')"
   ]
   }
,
{
		   "cell_type": "markdown",
		   "metadata": {},
		   "source": [
			"## Example 3.4: electron_velocity_time_kinetic_energy.sce"
		   ]
		  },
  {
"cell_type": "code",
	   "execution_count": null,
	   "metadata": {
	    "collapsed": true
	   },
	   "outputs": [],
"source": [
"//Example 3.4.\n",
"clc\n",
"V=200\n",
"m=9.1*10^-31\n",
"format(8)\n",
"v=sqrt(2*q*V/m)\n",
"disp('(i)The electron starts from rest at plate A, therefore, the initial velocity is zero. The velocity of electron on reaching plate B is')\n",
"disp(v,'v(m/s) = sqrt(2*q*V/m) =')\n",
"iv=0 //initial velocity\n",
"fv=8.38*10^6 //final velocity\n",
"va=(iv+fv)/2 //average velocity of electron in transit\n",
"disp('(ii)Time taken by the electron to travel from plate A to plate B can be calculated from the average velocity of the electron in transit.The average velocity is,')\n",
"disp(va,'vaverage(m/s) = (Initial velocity + Final velocity) / 2 =')\n",
"sp=3*10^-3 //separation between the plates\n",
"time=sp/va\n",
"disp('Therefore, time taken for travel is,')\n",
"disp(time,'Time(seconds) = Separation between the plates / Average velocity =')\n",
"ke=q*V\n",
"disp('(iii)Kinetic energy of the electron on reaching the plate B is')\n",
"disp(ke,'Kinetic energy(Joules) = q V =')"
   ]
   }
,
{
		   "cell_type": "markdown",
		   "metadata": {},
		   "source": [
			"## Example 3.5: time_of_travel.sce"
		   ]
		  },
  {
"cell_type": "code",
	   "execution_count": null,
	   "metadata": {
	    "collapsed": true
	   },
	   "outputs": [],
"source": [
"//Example 3.5.\n",
"clc\n",
"format(9)\n",
"vinitial=1*10^6\n",
"q=1.6*10^-19\n",
"V=300\n",
"m=9.1*10^-31\n",
"vfinal=10.33*10^6\n",
"sp=8*10^-3 //separation between plates\n",
"v=sqrt(vinitial^2+(2*q*V/m))\n",
"disp('The speed acquired by electron due to the applied voltage is')\n",
"disp(v,'v(m/s) = sqrt(vinitial^2+(2*q*V/m)) =')\n",
"format(8)\n",
"va=(vinitial+vfinal)/2\n",
"disp('The average velocity,')\n",
"disp(va,'vaverage(m/s)= (vinitial + vfinal) / 2 =')\n",
"time=sp/va\n",
"disp(time,'Therefore, time for travel(seconds)= seperation between plates / vaverage =')"
   ]
   }
,
{
		   "cell_type": "markdown",
		   "metadata": {},
		   "source": [
			"## Example 3.6: position_of_electron_and_time.sce"
		   ]
		  },
  {
"cell_type": "code",
	   "execution_count": null,
	   "metadata": {
	    "collapsed": true
	   },
	   "outputs": [],
"source": [
"//Example 3.6.\n",
"clc\n",
"format(5)\n",
"d=(5*10^11*1.76*10^11)*(((1*10^-9)^3)/6)\n",
"x1=d*10^6\n",
"disp('The electric field intensity,')\n",
"disp('E = -5t / d*10*-9 = -5t / 10^-9*1*10^-2 = 5*10^11*t (for 0 < t < t1)')\n",
"disp('  = 0     (for t1 < t < infinity)')\n",
"disp('(i) The position of the electron after 1ns,')\n",
"disp(x1,'     d(um) = (5*10^11)*(1.76*10^11)*((1*10^-9)^3/6) =')\n",
"format(6)\n",
"x2=0.8-(d*10^2)\n",
"disp(x2,'(ii) The rest of the distance to be covered by the electron = 0.8cm - 14.7 um =')\n",
"disp('Since, the potential difference drops to zero volt, after 1ns, the electron will travel the distance of 0.799 cm with a constant velocity of')\n",
"vx=(5*10^11*1.76*10^11)*(((1*10^-9)^2)/2)\n",
"disp(vx,'vx(m/s) = (5*10^11)*(q/m)*(t^2/2) =')\n",
"format(9)\n",
"x3=(x2/vx)*10^-2\n",
"disp(x3,'Therefore, the time t2(seconds) = d / vx =')\n",
"x4=(1*10^-9)+x3\n",
"disp(x4,'The total time of transit of electron from cathode to anode(in seconds) =')"
   ]
   }
,
{
		   "cell_type": "markdown",
		   "metadata": {},
		   "source": [
			"## Example 3.7: position_of_the_electron.sce"
		   ]
		  },
  {
"cell_type": "code",
	   "execution_count": null,
	   "metadata": {
	    "collapsed": true
	   },
	   "outputs": [],
"source": [
"//Example 3.7.\n",
"clc\n",
"format(8)\n",
"q=1.6*10^-19\n",
"Va=40\n",
"m=9.1*10^-31\n",
"B=0.91\n",
"ve=sqrt(2*q*Va/m)\n",
"disp(ve,'The velocity of the electron is(m/s)= sqrt(2qVa/m) =')\n",
"format(7)\n",
"tt=(2*%pi*m)/(B*q)\n",
"disp(tt,'The time taken for one revolution is T(seconds) = 2*pi*m / B*q =')\n",
"format(9)\n",
"p=tt*ve*(sqrt(3)/2) //cos(30)=sqrt(3)/2\n",
"disp(p,'The pitch(meters) = T*v*cos(theta) =')\n",
"disp(p,'Thus, the electron has travelled(meters)= ')"
   ]
   }
,
{
		   "cell_type": "markdown",
		   "metadata": {},
		   "source": [
			"## Example 3.8: velocity_and_radius_and_time.sce"
		   ]
		  },
  {
"cell_type": "code",
	   "execution_count": null,
	   "metadata": {
	    "collapsed": true
	   },
	   "outputs": [],
"source": [
"//Example 3.8\n",
"clc\n",
"function [radians] = degrees2radians(degrees);\n",
"radians = degrees*(%pi/180);\n",
"endfunction\n",
"radians=degrees2radians(25)\n",
"q=1.6*10^-19\n",
"m=9.1*10^-31\n",
"V=50\n",
"Q=3*q\n",
"M=2*m\n",
"format(8)\n",
"v=sqrt(2*Q*V/M)\n",
"disp('(i) The velocity of the charged particle before entering the field is,')\n",
"disp(v,'v(m/s) = sqrt(2aV/m) * sqrt(2(3q)V/2m) = sqrt(6qV/2m) =')\n",
"B=0.02\n",
"format(6)\n",
"r=(M*v*sin(radians))/(Q*B)\n",
"r1=r*10^3\n",
"disp('(ii) The radius of the helical path is')\n",
"disp(r1,'r(mm) = Mvsine(theta) / QB = 2mvsine(theta) / 3qB =')\n",
"format(9)\n",
"T=(2*%pi*M)/(B*Q)\n",
"disp('(iii) Time for one revolution,')\n",
"disp(T,'T(seconds) = 2*pi*M / B*Q = 2*pi*(2m) / B(3q) =')"
   ]
   }
,
{
		   "cell_type": "markdown",
		   "metadata": {},
		   "source": [
			"## Example 3.9: radius_and_time_period_of_rotation.sce"
		   ]
		  },
  {
"cell_type": "code",
	   "execution_count": null,
	   "metadata": {
	    "collapsed": true
	   },
	   "outputs": [],
"source": [
"//Example 3.9.\n",
"clc\n",
"disp('Given,     T = 35.5/B *10^-12 s, B = 0.01 Wb/m^3, Va = 900V')\n",
"disp('Therefore, T = 3.55*10^-9 s')\n",
"T = 3.55*10^-9\n",
"Va=900\n",
"format(9)\n",
"v=sqrt(2*(1.76*10^11)*900)\n",
"disp(v,'Velocity,  v(m/s) = sqrt(2qVa/m) =')\n",
"format(6)\n",
"r=(17.799*10^6)/(0.01*1.76*10^11)\n",
"x1=r*10^3\n",
"disp(x1,'Radius,  r(mm) = mv/qB = v/(q/m)B =')"
   ]
   }
],
"metadata": {
		  "kernelspec": {
		   "display_name": "Scilab",
		   "language": "scilab",
		   "name": "scilab"
		  },
		  "language_info": {
		   "file_extension": ".sce",
		   "help_links": [
			{
			 "text": "MetaKernel Magics",
			 "url": "https://github.com/calysto/metakernel/blob/master/metakernel/magics/README.md"
			}
		   ],
		   "mimetype": "text/x-octave",
		   "name": "scilab",
		   "version": "0.7.1"
		  }
		 },
		 "nbformat": 4,
		 "nbformat_minor": 0
}
