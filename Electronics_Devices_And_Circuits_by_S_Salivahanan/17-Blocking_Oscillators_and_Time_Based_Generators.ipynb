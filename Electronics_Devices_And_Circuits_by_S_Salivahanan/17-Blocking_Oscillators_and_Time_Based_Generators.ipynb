{
"cells": [
 {
		   "cell_type": "markdown",
	   "metadata": {},
	   "source": [
       "# Chapter 17: Blocking Oscillators and Time Based Generators"
	   ]
	},
{
		   "cell_type": "markdown",
		   "metadata": {},
		   "source": [
			"## Example 17.1: design_a_UJT_relaxation_oscillator.sce"
		   ]
		  },
  {
"cell_type": "code",
	   "execution_count": null,
	   "metadata": {
	    "collapsed": true
	   },
	   "outputs": [],
"source": [
"//Example 17.1.\n",
"clc\n",
"format(5)\n",
"disp('We know that')\n",
"disp('  fo = 1 / (2.303*RE*CE*log10(1/1-eta))')\n",
"disp('We know that etamin = 0.56')\n",
"disp('For determining RE, we have')\n",
"RE=(20-2.9)/(1.6) // in k-ohm\n",
"disp(RE,'RE < VBB-VP/IP, i.e.  RE(k-ohm) < 20-2.9/1.6*10^-3 =')\n",
"RE=(20-1.118)/(3.5) // in k-ohm\n",
"disp(RE,'RE > VBB-VV/IV, i.e.  RE(k-ohm) < 20-1.118/3.5*10^-3 =')  // answer in textbook is wrong\n",
"disp('Therefore, RE is selected as 10 k-ohm')\n",
"disp('    1/500 = 2.303*10*10^3*CE*log10(1/1-0.56)')\n",
"CE=1/(500*(2.303*10^4)*0.36) // in farady\n",
"x1=CE*10^6 // in uF\n",
"disp(x1,'Therefore,  CE(uF) =')\n",
"disp('So, CE is selected as 0.22 uF')\n",
"disp('Let the required pluse voltage at B1 = 5V')\n",
"disp('Let the peak pulse current, IE = 250 mA')\n",
"R1=5/(250*10^-3) //in ohm\n",
"disp(R1,'Therefore,  R1(ohm) = VR1/IE =')\n",
"disp('So, R1 is selected to be 22 ohm')\n",
"disp('We select the voltage characteristics for VB1B2 = 4 V')\n",
"disp('Therefore,  VR2 = 20-(4+5) = 11 V')\n",
"R2=11000/250\n",
"disp(R2,'  R2(ohm) = 11*10^3/250 =')\n",
"disp('So, R2 is selected as 100 ohm')"
   ]
   }
],
"metadata": {
		  "kernelspec": {
		   "display_name": "Scilab",
		   "language": "scilab",
		   "name": "scilab"
		  },
		  "language_info": {
		   "file_extension": ".sce",
		   "help_links": [
			{
			 "text": "MetaKernel Magics",
			 "url": "https://github.com/calysto/metakernel/blob/master/metakernel/magics/README.md"
			}
		   ],
		   "mimetype": "text/x-octave",
		   "name": "scilab",
		   "version": "0.7.1"
		  }
		 },
		 "nbformat": 4,
		 "nbformat_minor": 0
}
