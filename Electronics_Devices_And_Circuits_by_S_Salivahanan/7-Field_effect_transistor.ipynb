{
"cells": [
 {
		   "cell_type": "markdown",
	   "metadata": {},
	   "source": [
       "# Chapter 7: Field effect transistor"
	   ]
	},
{
		   "cell_type": "markdown",
		   "metadata": {},
		   "source": [
			"## Example 7.10: ID_and_Vds.sce"
		   ]
		  },
  {
"cell_type": "code",
	   "execution_count": null,
	   "metadata": {
	    "collapsed": true
	   },
	   "outputs": [],
"source": [
"//Example 7.10. refer fig.7.18.\n",
"clc\n",
"format(6)\n",
"VTN=-2\n",
"KN=0.1*10^-3\n",
"VDD=5\n",
"RS=5*10^3\n",
"VGS=0\n",
"disp('Assuming that the MOSFET is baised in the saturation region. Then the d.c. drain current is')\n",
"disp('     ID = KN*(VGS-VTN)^2 = KN*(-VTN)^2')\n",
"ID=KN*(-VTN)^2\n",
"ID1=ID*10^3\n",
"disp(ID1,' ID(mA) =')\n",
"disp('The d.c. drain-to-source voltage is')\n",
"VDS=VDD-(ID*RS)\n",
"disp(VDS,'     VDS(V) = VDD - ID*RS =')\n",
"VDSsat=VGS-VTN\n",
"disp(VDSsat,'Then,  VDSsat(V) = VGS - VTN =')\n",
"disp('Since VDS > VDSsat, the MOSFET is biased in the saturation region')"
   ]
   }
,
{
		   "cell_type": "markdown",
		   "metadata": {},
		   "source": [
			"## Example 7.1: resistance_between_gate_and_source.sce"
		   ]
		  },
  {
"cell_type": "code",
	   "execution_count": null,
	   "metadata": {
	    "collapsed": true
	   },
	   "outputs": [],
"source": [
"//Example 7.1.\n",
"clc\n",
"format(6)\n",
"VGS=12\n",
"IG=10^-9\n",
"GSR=VGS/IG\n",
"GSR1=GSR*10^-6\n",
"disp('VGS = 12 V, IG = 10^-9 A')\n",
"disp(GSR1,'Therefore,  gate-to-source resistance(M-ohm) = VGS / IG = ')"
   ]
   }
,
{
		   "cell_type": "markdown",
		   "metadata": {},
		   "source": [
			"## Example 7.2: value_of_transconductance.sce"
		   ]
		  },
  {
"cell_type": "code",
	   "execution_count": null,
	   "metadata": {
	    "collapsed": true
	   },
	   "outputs": [],
"source": [
"//Example 7.2.\n",
"clc\n",
"format(6)\n",
"delta_VGS=0.1\n",
"delta_ID=0.3*10^-3\n",
"disp('delta_VGS = 4 - 3.9 = 0.1 V')\n",
"disp('delta_ID = 1.6 - 1.3 = 0.3 mA')\n",
"gm=delta_ID/delta_VGS\n",
"gm1=gm*10^3\n",
"disp(gm1,'Therefore,  transconductance, gm(m-mho) = delta_ID / delta_VGS = ')"
   ]
   }
,
{
		   "cell_type": "markdown",
		   "metadata": {},
		   "source": [
			"## Example 7.3: value_of_Vgs_and_Vp.sce"
		   ]
		  },
  {
"cell_type": "code",
	   "execution_count": null,
	   "metadata": {
	    "collapsed": true
	   },
	   "outputs": [],
"source": [
"//Example 7.3\n",
"clc\n",
"format(5)\n",
"VGSoff=-6\n",
"IDSS=8\n",
"ID=4\n",
"disp('ID = IDSS*[1 - (VGS/VGS_off)]^2')\n",
"VGS=(1-sqrt(ID/IDSS))*VGSoff\n",
"disp(VGS,'Therefore,    VGS(V) = ')\n",
"VP=abs(VGSoff)\n",
"disp(VP,'VP(V) = |VGS_off| = ')"
   ]
   }
,
{
		   "cell_type": "markdown",
		   "metadata": {},
		   "source": [
			"## Example 7.4: value_of_Vds_and_Ids.sce"
		   ]
		  },
  {
"cell_type": "code",
	   "execution_count": null,
	   "metadata": {
	    "collapsed": true
	   },
	   "outputs": [],
"source": [
"//Example 7.4.\n",
"clc\n",
"format(6)\n",
"VGS=-2\n",
"VP=-5\n",
"IDSS=8*10^-3\n",
"disp('The minimum value of VDS for pinch-off to occur for VGS = -2 V is')\n",
"VDSmin=VGS-VP\n",
"disp(VDSmin,'VDSmin(V) = VGS - VP = ')\n",
"IDS=IDSS*[1-(VGS/VP)]^2\n",
"IDS1=IDS*10^3\n",
"disp(IDS1,'IDS(mA) = IDSS * [1-(VGS/VP)]^2 = ')"
   ]
   }
,
{
		   "cell_type": "markdown",
		   "metadata": {},
		   "source": [
			"## Example 7.5: operating_point_and_RD_and_RS.sce"
		   ]
		  },
  {
"cell_type": "code",
	   "execution_count": null,
	   "metadata": {
	    "collapsed": true
	   },
	   "outputs": [],
"source": [
"//Example 7.5.\n",
"clc\n",
"format(6)\n",
"IDSS=10*10^-3\n",
"VGS=-3\n",
"ID=4*10^-3\n",
"VDD=20\n",
"disp('The value of drain current at Q-point,')\n",
"IDQ=IDSS/2\n",
"IDQ1=IDQ*10^3\n",
"disp(IDQ1,'IDQ(mA) = IDSS / 2 =')\n",
"disp('and the value of drain-to-source at Q-point,')\n",
"VDSQ=VDD/2\n",
"disp(VDSQ,'VDSQ(V) = VDD / 2 =')\n",
"disp('Therefore, the operating point is at:')\n",
"disp(VDSQ,'VDS(V) = ')\n",
"disp(IDQ1,'ID(mA) = ')\n",
"disp('Also, the drain-to-source voltage,')\n",
"disp('    VDS = VDD - ID*RD')\n",
"RD=(VDD-VDSQ)/ID\n",
"RD1=RD*10^-3\n",
"disp(RD1,'Therefore,  RD(k-ohm) =')\n",
"disp('The source voltage or voltage across the source resistor RS is')\n",
"VS=-VGS\n",
"disp('     VS = -VGS = -3 V')\n",
"disp('Also,VS = ID*RS ')\n",
"RS=VS/ID\n",
"disp(RS,'Therefore, RS(ohm) = ')"
   ]
   }
,
{
		   "cell_type": "markdown",
		   "metadata": {},
		   "source": [
			"## Example 7.6: value_of_Rs.sce"
		   ]
		  },
  {
"cell_type": "code",
	   "execution_count": null,
	   "metadata": {
	    "collapsed": true
	   },
	   "outputs": [],
"source": [
"//Example 7.6.\n",
"clc\n",
"format(6)\n",
"IDSS=40*10^-3\n",
"VP=-10\n",
"VGSQ=-5\n",
"disp('We know that,  ID = IDSS * [1 - (VGS/VP)]^2')\n",
"disp('Substituting the given values, we get')\n",
"ID = IDSS*[1-(VGSQ/VP)]^2\n",
"ID1=ID*10^3\n",
"disp(ID1,'  ID(mA) =')\n",
"RS=abs(VGSQ/ID)\n",
"disp(RS,'Therefore,  RS(ohm) = |VGSQ / ID| =')"
   ]
   }
,
{
		   "cell_type": "markdown",
		   "metadata": {},
		   "source": [
			"## Example 7.7: value_of_ID_and_verify_FET.sce"
		   ]
		  },
  {
"cell_type": "code",
	   "execution_count": null,
	   "metadata": {
	    "collapsed": true
	   },
	   "outputs": [],
"source": [
"//Example 7.7. Refer fig.7.13.\n",
"clc\n",
"format(5)\n",
"VDD=24\n",
"R2=8.57*10^6\n",
"R1=12*10^6\n",
"VP=-2\n",
"IDSS=4*10^-3\n",
"RD=910\n",
"RS=3*10^3\n",
"disp('From fig.7.13.,')\n",
"VGG=round(VDD*(R2/(R1+R2)))\n",
"disp(VGG,'    VGG(V) = VDD*(R2 / (R1+R2)) =')\n",
"disp('Also,       ID = IDSS*(1-(VGS/VP))^2')\n",
"disp('               = IDSS*(1-((VGG-(ID*RS))/VP))^2,     where VGS = VGG - ID*RS')\n",
"disp('Expressing ID and IDSS in mA, we have')\n",
"disp('            9ID^2 - 73ID +144 = 0 ')\n",
"x=poly(0,'x')\n",
"p1=roots((9*x^2) - (73*x) +144)\n",
"ans1=p1(1)\n",
"p1=roots((9*x^2) - (73*x) +144)\n",
"ans2=p1(2)\n",
"disp(ans2,'or',ans1,'Therefore,  ID(mA) = ')\n",
"disp('As ID = 4.72mA > 4mA = IDSS, this value is inappropriate. So, IDQ=3.39 mA is selected.')\n",
"disp('Therefore,')\n",
"IDQ=3.39*10^-3\n",
"VGSQ=VGG-(IDQ*RS)\n",
"disp(VGSQ,'       VGSQ(V) = VGG - (IDQ*RS) =')\n",
"format(7)\n",
"VDSQ=VDD-(IDQ*(RD+RS))\n",
"disp(VDSQ,'and    VDSQ(V) = VDD - (IDQ*(RD+RS)) =')\n",
"VDGQ = VDSQ - VGSQ\n",
"disp(VDGQ,'Then,  VDGQ(V) = VDSQ - VGSQ')\n",
"disp('which is grater than |VP| = 2 V. Hence, the FET is in the pinch-off region.')"
   ]
   }
,
{
		   "cell_type": "markdown",
		   "metadata": {},
		   "source": [
			"## Example 7.8: values_of_R1_and_R2_and_RD.sce"
		   ]
		  },
  {
"cell_type": "code",
	   "execution_count": null,
	   "metadata": {
	    "collapsed": true
	   },
	   "outputs": [],
"source": [
"//Example 7.8. refer fig.7.16.\n",
"clc\n",
"format(6)\n",
"IDSS=10*10^-3\n",
"VP=-3.5\n",
"Rth=120*10^3 //R1+R2=120 k-ohm\n",
"ID=5*10^-3\n",
"VDS=5\n",
"RS=0.5*10^3\n",
"disp('Assume that the JFET is biased in the saturation region. Then the dc drain current is given by')\n",
"disp('            ID = IDSS*(1-(VGS/VP))^2')\n",
"VGS=VP*(1-(sqrt(ID/IDSS)))\n",
"disp(VGS,'Therefore,  VGS(V) =') // textbook answer is wrong\n",
"disp('The voltage at the source terminal is')\n",
"VS=(ID*RS)-5\n",
"disp(VS,'            VS(V) = (ID*RS) - 5 =')\n",
"disp('The gate voltage is')\n",
"VG=VGS+VS\n",
"disp(VG,'            VG(V) = VGS + VS =')\n",
"disp('The gate voltage is')\n",
"disp('               VG = ((R2 / (R1 + R2))*10) - 5')\n",
"R2=(Rth*(VG+5))/10\n",
"R2_1=R2*10^-3\n",
"disp(R2_1,'Therefore,         R2(k-ohm) =') // textbook answer is wrong\n",
"R1=Rth-R2\n",
"R1_1=R1*10^-3\n",
"disp(R1_1,'and            R1(k-ohm) =')  // textbook answer is wrong\n",
"disp('The drain-to-source voltage is')\n",
"disp('VDS = 5 - ID*RD - ID*RS - (-5)')\n",
"RD=(10-VDS-(ID*RS))/ID\n",
"RD1=RD*10^-3\n",
"disp(RD1,'     RD(k-ohm) = ')\n",
"format(5)\n",
"x=VGS-VP\n",
"disp(x,'VGS - VP = ')  // textbook has taken a different value hence the wrong answer in textbook\n",
"disp('Here, since VDS > (VGS-VP), the JFET is biased in the saturation region, which satisfies the initial assumption')"
   ]
   }
,
{
		   "cell_type": "markdown",
		   "metadata": {},
		   "source": [
			"## Example 7.9: design_the_MOSFET_circuit.sce"
		   ]
		  },
  {
"cell_type": "code",
	   "execution_count": null,
	   "metadata": {
	    "collapsed": true
	   },
	   "outputs": [],
"source": [
"//Example 7.9. refer fig.7.17.\n",
"clc\n",
"format(6)\n",
"KN=1*10^-3\n",
"lamda=0.01\n",
"Ri=100*10^3\n",
"IDt=4*10^-3\n",
"IDQ=1.5*10^-3\n",
"VTN=1.5\n",
"VDD=12\n",
"VDSQ=7\n",
"disp('To determine VDSi')\n",
"disp('We have,')\n",
"disp('          IDt = KN*(VGst - VTN)^2') \n",
"disp('where the subscript t indicates transition point values.')\n",
"VGSt=sqrt(IDt/KN)+VTN\n",
"disp(VGSt,'     VGSt(V) =')\n",
"disp('Therefore,')\n",
"VDSt=VGSt-VTN\n",
"disp(VDSt,'      VDSt(V) = VGSt - VTN =')\n",
"disp('If the Q-point is in the middle of the saturation region, then VDSQ = 7 V, which gives 10 V peak-to-peak symmetrical output voltage.')\n",
"disp('From fig.7.17,')\n",
"disp('         VDSQ = VDD - IDQ*RD')\n",
"format(5)\n",
"RD=(VDD-VDSQ)/IDQ\n",
"RD1=RD*10^-3\n",
"disp(RD1,'Therefore,  RD(k-ohm) = (VDD - VDSQ) / IDQ =')\n",
"disp('Then,     IDQ = KN*(VGSQ-VTN)^2')\n",
"VGSQ=(sqrt(IDQ/KN))+VTN\n",
"disp(VGSQ,'Therefore,  VGSQ(V) =')\n",
"disp('Then,        VGSQ = 2.73 = (R2/(R1+R2))*VDD')\n",
"disp('                  = (1/R1)*(R2/(R1+R2))*VDD')\n",
"disp('                  = (Ri/R1)*VDD')\n",
"disp('By Solving, we get ')\n",
"format(6)\n",
"R1=1200/2.73\n",
"disp(R1,'    R1(k-ohm) =')\n",
"format(7)\n",
"R2=R1/((12/2.73)-1)\n",
"disp(R2,'    R2(k-ohm) =')"
   ]
   }
],
"metadata": {
		  "kernelspec": {
		   "display_name": "Scilab",
		   "language": "scilab",
		   "name": "scilab"
		  },
		  "language_info": {
		   "file_extension": ".sce",
		   "help_links": [
			{
			 "text": "MetaKernel Magics",
			 "url": "https://github.com/calysto/metakernel/blob/master/metakernel/magics/README.md"
			}
		   ],
		   "mimetype": "text/x-octave",
		   "name": "scilab",
		   "version": "0.7.1"
		  }
		 },
		 "nbformat": 4,
		 "nbformat_minor": 0
}
