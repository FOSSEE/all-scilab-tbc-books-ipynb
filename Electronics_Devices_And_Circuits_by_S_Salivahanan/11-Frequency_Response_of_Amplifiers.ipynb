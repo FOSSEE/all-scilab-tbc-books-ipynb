{
"cells": [
 {
		   "cell_type": "markdown",
	   "metadata": {},
	   "source": [
       "# Chapter 11: Frequency Response of Amplifiers"
	   ]
	},
{
		   "cell_type": "markdown",
		   "metadata": {},
		   "source": [
			"## Example 11.2: approximate_bandwidth.sce"
		   ]
		  },
  {
"cell_type": "code",
	   "execution_count": null,
	   "metadata": {
	    "collapsed": true
	   },
	   "outputs": [],
"source": [
"//Example 11.2.\n",
"clc\n",
"format(6)\n",
"tr=10*10^-9\n",
"BW=0.35/tr\n",
"x1=BW*10^-6\n",
"disp(x1,'BW(MHz) = 0.35 / tr =')"
   ]
   }
,
{
		   "cell_type": "markdown",
		   "metadata": {},
		   "source": [
			"## Example 11.3: AvMF_and_lower_3_dB_gain.sce"
		   ]
		  },
  {
"cell_type": "code",
	   "execution_count": null,
	   "metadata": {
	    "collapsed": true
	   },
	   "outputs": [],
"source": [
"//Example 11.3.\n",
"clc\n",
"hfe=400\n",
"hie=10*10^3\n",
"Rs=600\n",
"RL=5*10^3\n",
"RE=1*10^3\n",
"VCC=12\n",
"R1=15*10^3\n",
"R2=2.2*10^3\n",
"CE=50*10^-6\n",
"format(8)\n",
"RB=(R1*R2)/(R1+R2)\n",
"Av=(-hfe*RL)/(Rs+hie+((hie*Rs)/RB))\n",
"disp(Av,'AV(MF) = (-hfe*RL) / (RS + hie + ((hie*RS)/RB)) =')\n",
"disp('Lower 3-dB point,')\n",
"format(4)\n",
"f1=(1+hfe)/((Rs+hie)*2*%pi*CE)\n",
"disp(f1,'f1 = (1+hfe) / ((RS+hie)*2*%pi*CE) =')"
   ]
   }
,
{
		   "cell_type": "markdown",
		   "metadata": {},
		   "source": [
			"## Example 11.4: coupling_capacitor.sce"
		   ]
		  },
  {
"cell_type": "code",
	   "execution_count": null,
	   "metadata": {
	    "collapsed": true
	   },
	   "outputs": [],
"source": [
"//Example 11.4\n",
"clc\n",
"RS=600\n",
"hie=1*10^3\n",
"hfe=60\n",
"R1=5*10^3\n",
"R2=1.25*10^3\n",
"RCE=25\n",
"f1=125\n",
"disp('The lower 3 dB frequency, f1 = 1 / (2*pi*(RS+R1dash)*CC)')\n",
"format(5)\n",
"R1dash=(R1*R2*hie)/((R2*hie)+(R1*hie)+(R1*R2))\n",
"CC=1 / (2*%pi*f1*(RS+R1dash))\n",
"x1=CC*10^6\n",
"disp(R1dash,'(a)    R1''(ohm) = R1 || R2 || hie =')\n",
"disp(x1,'       CC(uF) = 1 / (2*pi*f1*(RS+R1'')) =')\n",
"x2=hie+((1+hfe)*RCE)\n",
"R1dash=(R1*R2*x2)/((R2*x2)+(R1*x2)+(R1*R2))\n",
"CC=1 / (2*%pi*f1*(RS+R1dash))\n",
"x3=CC*10^6\n",
"format(7)\n",
"disp(R1dash,'(b)    R1''(ohm) = R1 || R2 || [hie+((1+hfe)*RCE)] =')\n",
"format(5)\n",
"disp(x3,'       CC(uF) = 1 / (2*pi*f1*(RS+R1'')) =')"
   ]
   }
,
{
		   "cell_type": "markdown",
		   "metadata": {},
		   "source": [
			"## Example 11.5: gm_and_rbdashe_and_rbbdash_and_Cbdashe.sce"
		   ]
		  },
  {
"cell_type": "code",
	   "execution_count": null,
	   "metadata": {
	    "collapsed": true
	   },
	   "outputs": [],
"source": [
"//Example 11.5\n",
"clc\n",
"format(6)\n",
"gm=1/26 //mho\n",
"x1=gm*10^3  //m-mho\n",
"disp(x1,'  gm(m-mho) = IC(mA)/26mV = 1/26 =')\n",
"rbe=224/(38.46*10^-3)\n",
"x2=rbe*10^-3 //k-ohm\n",
"disp(x2,'  rb''e(k-ohm) = hfe / gm =')\n",
"rbb=6000-5824 //ohm\n",
"disp(rbb,'  rbb''(ohm) = hie - rb''e = 6000-5824 =')\n",
"cbe=((38.46*10^-3)/(2*%pi*(80*10^6)))-(12*10^-12) // farad\n",
"x3=cbe*10^12 //pF\n",
"format(5)\n",
"disp(x3,'  cb''e(pF) = gm/2*pi*fT - Cb''c =')"
   ]
   }
,
{
		   "cell_type": "markdown",
		   "metadata": {},
		   "source": [
			"## Example 11.6: alpha_and_beta_and_fT.sce"
		   ]
		  },
  {
"cell_type": "code",
	   "execution_count": null,
	   "metadata": {
	    "collapsed": true
	   },
	   "outputs": [],
"source": [
"//Example 11.6.\n",
"clc\n",
"format(5)\n",
"alpha=224/(2*%pi*(5.9*10^3)*(63*10^-12)) //Hz\n",
"x1=alpha*10^-6 //MHz\n",
"disp(x1,'  f_alpha(MHz) = hfe / 2*pi*rb''e*Cb''e =')\n",
"beta=1/(2*%pi*(5.9*10^3)*((63*10^-12)+(12*10^-12)))\n",
"x2=beta*10^-6\n",
"format(6)\n",
"disp(x2,'   f_beta(MHz) = 1 / 2*pi*rb''e*(Cb''e+Cb''c) =')\n",
"fT=(38*10^-3)/(2*%pi*((63*10^-12)+(12*10^-12)))\n",
"x3=fT*10^-6\n",
"disp(x3,'      fT(MHz) = gm / 2*pi*(Cb''e+Cb''c) =')"
   ]
   }
],
"metadata": {
		  "kernelspec": {
		   "display_name": "Scilab",
		   "language": "scilab",
		   "name": "scilab"
		  },
		  "language_info": {
		   "file_extension": ".sce",
		   "help_links": [
			{
			 "text": "MetaKernel Magics",
			 "url": "https://github.com/calysto/metakernel/blob/master/metakernel/magics/README.md"
			}
		   ],
		   "mimetype": "text/x-octave",
		   "name": "scilab",
		   "version": "0.7.1"
		  }
		 },
		 "nbformat": 4,
		 "nbformat_minor": 0
}
