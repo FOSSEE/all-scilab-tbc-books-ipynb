{
"cells": [
 {
		   "cell_type": "markdown",
	   "metadata": {},
	   "source": [
       "# Chapter 12: Large Signal Amplifiers"
	   ]
	},
{
		   "cell_type": "markdown",
		   "metadata": {},
		   "source": [
			"## Example 12.1: effective_resistance.sce"
		   ]
		  },
  {
"cell_type": "code",
	   "execution_count": null,
	   "metadata": {
	    "collapsed": true
	   },
	   "outputs": [],
"source": [
"//Example 12.1.\n",
"clc\n",
"format(6)\n",
"RL=16*10^2 //in ohm\n",
"x1=RL*10^-3 // in k-ohm\n",
"disp('RL'' = RL / n^2')\n",
"disp('where,  n = N2 / N1')\n",
"disp(x1,'RL''(k-ohm) = (N1/N2)^2 * RL =')"
   ]
   }
,
{
		   "cell_type": "markdown",
		   "metadata": {},
		   "source": [
			"## Example 12.2: transformer_turns_ratio.sce"
		   ]
		  },
  {
"cell_type": "code",
	   "execution_count": null,
	   "metadata": {
	    "collapsed": true
	   },
	   "outputs": [],
"source": [
"//Example 12.2.\n",
"clc\n",
"format(6)\n",
"x1=7200/8\n",
"disp(x1,'(N1/N2)^2 = RL''/RL = ')\n",
"x2=x1^0.5\n",
"disp(x2,'N1/N2 = ')\n",
"disp('Hence, N1 : N2 = 30 : 1')"
   ]
   }
,
{
		   "cell_type": "markdown",
		   "metadata": {},
		   "source": [
			"## Example 12.3: series_fed_load_and_transformer_coupled_load.sce"
		   ]
		  },
  {
"cell_type": "code",
	   "execution_count": null,
	   "metadata": {
	    "collapsed": true
	   },
	   "outputs": [],
"source": [
"//Example 12.3.\n",
"clc\n",
"format(6)\n",
"disp('(i) Series-fed load')\n",
"eta=(25*14)/15 //in percentage\n",
"disp(eta,'Overall efficiency,  eta(in percentage) = 25(Vmax-Vmin / Vmax) =')\n",
"disp('(ii) Transformer-coupled load')\n",
"eta=50*(14/16) //in percentage\n",
"disp(eta,'Overall efficiency,  eta(in percentage) = 50*(Vmax-Vmin / Vmax+Vmin) =')"
   ]
   }
,
{
		   "cell_type": "markdown",
		   "metadata": {},
		   "source": [
			"## Example 12.4: collector_circuit_efficiency.sce"
		   ]
		  },
  {
"cell_type": "code",
	   "execution_count": null,
	   "metadata": {
	    "collapsed": true
	   },
	   "outputs": [],
"source": [
"//Example 12.4.\n",
"clc\n",
"format(6)\n",
"VCE=2\n",
"VCC=15\n",
"format(6)\n",
"eta=(%pi/4)*(1-(VCE/VCC))*100\n",
"disp('Collector circuity efficiency,')\n",
"disp(eta,'    eta(in percentage) = (%pi/4)*(1-(VCE/VCC))*100% =')"
   ]
   }
,
{
		   "cell_type": "markdown",
		   "metadata": {},
		   "source": [
			"## Example 12.5: junction_temperature_TJ.sce"
		   ]
		  },
  {
"cell_type": "code",
	   "execution_count": null,
	   "metadata": {
	    "collapsed": true
	   },
	   "outputs": [],
"source": [
"//Example 12.5.\n",
"clc\n",
"format(6)\n",
"theta=8\n",
"TA=27\n",
"PD=3\n",
"TJ=TA+(theta*PD)\n",
"disp('We know that,  TJ = TA + theta*PD')\n",
"disp(TJ,'Therefore,  TJ(degree C) = 27 degree C + (8 degree C/W)*3W =')"
   ]
   }
,
{
		   "cell_type": "markdown",
		   "metadata": {},
		   "source": [
			"## Example 12.6: desipate_power_of_transistor.sce"
		   ]
		  },
  {
"cell_type": "code",
	   "execution_count": null,
	   "metadata": {
	    "collapsed": true
	   },
	   "outputs": [],
"source": [
"//Example 12.6.\n",
"clc\n",
"format(6)\n",
"TJ=160\n",
"TA=40\n",
"theta=80\n",
"PD=(TJ-TA)/theta\n",
"disp(PD,'PD(W) = (TJ-TA)/thetaJ-A = (160-40)/80 =')"
   ]
   }
,
{
		   "cell_type": "markdown",
		   "metadata": {},
		   "source": [
			"## Example 12.7: power_dissipation_capability.sce"
		   ]
		  },
  {
"cell_type": "code",
	   "execution_count": null,
	   "metadata": {
	    "collapsed": true
	   },
	   "outputs": [],
"source": [
"//Example 12.7.\n",
"clc\n",
"format(6)\n",
"thetaH=8\n",
"TA=40\n",
"TJ=160\n",
"thetaJ=5\n",
"thetaC=85\n",
"x1=(thetaC*thetaH)/(thetaC+thetaH)\n",
"theta=thetaJ+x1\n",
"disp(theta,'    theta_J-A(degree C/W) = theta_J-C + theta_C-A || theta_HS-A =')\n",
"PD=(TJ-TA)/theta\n",
"format(5)\n",
"disp(PD,'    PD(W) = TJ-TA / theta_J-A =')"
   ]
   }
],
"metadata": {
		  "kernelspec": {
		   "display_name": "Scilab",
		   "language": "scilab",
		   "name": "scilab"
		  },
		  "language_info": {
		   "file_extension": ".sce",
		   "help_links": [
			{
			 "text": "MetaKernel Magics",
			 "url": "https://github.com/calysto/metakernel/blob/master/metakernel/magics/README.md"
			}
		   ],
		   "mimetype": "text/x-octave",
		   "name": "scilab",
		   "version": "0.7.1"
		  }
		 },
		 "nbformat": 4,
		 "nbformat_minor": 0
}
