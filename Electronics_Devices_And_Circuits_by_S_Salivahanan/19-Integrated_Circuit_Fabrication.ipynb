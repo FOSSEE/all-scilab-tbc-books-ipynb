{
"cells": [
 {
		   "cell_type": "markdown",
	   "metadata": {},
	   "source": [
       "# Chapter 19: Integrated Circuit Fabrication"
	   ]
	},
{
		   "cell_type": "markdown",
		   "metadata": {},
		   "source": [
			"## Example 19.1: design_5_k_ohm_diffused_resistor.sce"
		   ]
		  },
  {
"cell_type": "code",
	   "execution_count": null,
	   "metadata": {
	    "collapsed": true
	   },
	   "outputs": [],
"source": [
"//Example 19.1.\n",
"clc\n",
"format(6)\n",
"disp('Given the sheet resistance Rs = 200 ohm/square')\n",
"disp('Then the resistance R = 5 k-ohm = Rs*(l/w) = 200*(l/w)')\n",
"x=5000/200\n",
"disp(x,'Therefore, l/w = R/Rs =')\n",
"disp('So, a 5 k-ohm resistor can be fabricated by using a pattern of 25mil x 1mil as shown in fig.19.24.')"
   ]
   }
,
{
		   "cell_type": "markdown",
		   "metadata": {},
		   "source": [
			"## Example 19.2: design_1_k_ohm_resistor.sce"
		   ]
		  },
  {
"cell_type": "code",
	   "execution_count": null,
	   "metadata": {
	    "collapsed": true
	   },
	   "outputs": [],
"source": [
"//Example 19.2.\n",
"clc\n",
"format(6)\n",
"disp('Given the sheet resistance Rs = 30 ohm/square')\n",
"disp('Then the resistance R = 1 k-ohm = Rs*(l/w) = 30*(l/w)')\n",
"disp('Therefore, l/w = R/Rs = 1000/30 = 100/3')\n",
"disp('So, a 5 k-ohm resistor can be fabricated by using a pattern of 100mil x 3mil as shown in fig.19.24.')"
   ]
   }
],
"metadata": {
		  "kernelspec": {
		   "display_name": "Scilab",
		   "language": "scilab",
		   "name": "scilab"
		  },
		  "language_info": {
		   "file_extension": ".sce",
		   "help_links": [
			{
			 "text": "MetaKernel Magics",
			 "url": "https://github.com/calysto/metakernel/blob/master/metakernel/magics/README.md"
			}
		   ],
		   "mimetype": "text/x-octave",
		   "name": "scilab",
		   "version": "0.7.1"
		  }
		 },
		 "nbformat": 4,
		 "nbformat_minor": 0
}
