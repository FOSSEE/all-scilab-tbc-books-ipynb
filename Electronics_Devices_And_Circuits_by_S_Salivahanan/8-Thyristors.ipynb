{
"cells": [
 {
		   "cell_type": "markdown",
	   "metadata": {},
	   "source": [
       "# Chapter 8: Thyristors"
	   ]
	},
{
		   "cell_type": "markdown",
		   "metadata": {},
		   "source": [
			"## Example 8.1: SCR_half_wave_rectifier.sce"
		   ]
		  },
  {
"cell_type": "code",
	   "execution_count": null,
	   "metadata": {
	    "collapsed": true
	   },
	   "outputs": [],
"source": [
"//Example 8.1.\n",
"clc\n",
"format(6)\n",
"Vm=220\n",
"V1=110\n",
"RL=100\n",
"disp('We have,')\n",
"disp('                  V1 = Vm*sin(theta)')\n",
"disp('Therefore,')\n",
"x=asind(V1/Vm)\n",
"disp(x,' Firing angel, theta =')\n",
"ca=180-x\n",
"disp(ca,'    Conduction angle = 180 - theta =')\n",
"disp('Average voltage, Vav = (Vm/2pi) * (1+cos(theta))')\n",
"Vav = (Vm/(2*%pi))*(1+cosd(x))\n",
"disp(Vav,'              Vav(V) =')\n",
"format(7)\n",
"Iav=Vav/RL\n",
"disp(Iav,'Average current,  Iav(A) = Vav / RL =')\n",
"po=Vav*Iav\n",
"disp(po,'Power output(W) = Vav*Iav =')\n",
"disp('As, V1 = Vm*sin(theta) = Vm*sin(omega*t),')\n",
"disp('     omega*t = theta = 30 =  pi/6')\n",
"disp('     (2*pi)*(50*t) = pi/6')\n",
"disp('Therefore, the time during which the SCR remains OFF is')\n",
"format(6)\n",
"t=1/(2*6*50)\n",
"t1=t*10^3\n",
"disp(t1,'       t(ms) = ')"
   ]
   }
,
{
		   "cell_type": "markdown",
		   "metadata": {},
		   "source": [
			"## Example 8.2: firing_angle_and_time_and_load_current.sce"
		   ]
		  },
  {
"cell_type": "code",
	   "execution_count": null,
	   "metadata": {
	    "collapsed": true
	   },
	   "outputs": [],
"source": [
"//Example 8.2.\n",
"clc\n",
"format(6)\n",
"Vdc=150\n",
"Vm=230*sqrt(2)\n",
"RL=10\n",
"disp('For an SCR full wave rectifier,')\n",
"disp('            Vdc = (Vm/pi)*(1+cos(theta))')\n",
"x=acosd(((Vdc*%pi)/Vm)-1)\n",
"disp(x,'Therefore,    theta =')\n",
"disp('For 50Hz, T = 20 ms for 360')\n",
"format(5)\n",
"t = (20/360)*x\n",
"disp(t,'Therefore      t(ms) = (20*10^3/360)*63.34 = ')\n",
"Iav=Vdc/RL\n",
"disp(Iav,'Load current,    Iav(A) = Vav / RL =')"
   ]
   }
,
{
		   "cell_type": "markdown",
		   "metadata": {},
		   "source": [
			"## Example 8.3: power_rating_of_the_SCR.sce"
		   ]
		  },
  {
"cell_type": "code",
	   "execution_count": null,
	   "metadata": {
	    "collapsed": true
	   },
	   "outputs": [],
"source": [
"//Example 8.3.\n",
"clc\n",
"format(6)\n",
"Vm=400\n",
"PIV=sqrt(3)*Vm\n",
"disp('As the supply voltage is 400 sin 314t, Vm = 400 V')\n",
"disp(PIV,'Peak inverse voltage(PIV)(V) = sqrt(3)*Vm =')\n",
"RMS=20\n",
"ff=1.11\n",
"Iav=round(RMS/ff)\n",
"disp('RMS value of current = 20 V')\n",
"disp(Iav,'Average value of current, Iav(A) = RMS value/form factor =')\n",
"pr=PIV*Iav\n",
"pr1=pr*10^-3\n",
"disp(pr1,'Power rating of the SCR(kW) = PIV * Iav =')"
   ]
   }
],
"metadata": {
		  "kernelspec": {
		   "display_name": "Scilab",
		   "language": "scilab",
		   "name": "scilab"
		  },
		  "language_info": {
		   "file_extension": ".sce",
		   "help_links": [
			{
			 "text": "MetaKernel Magics",
			 "url": "https://github.com/calysto/metakernel/blob/master/metakernel/magics/README.md"
			}
		   ],
		   "mimetype": "text/x-octave",
		   "name": "scilab",
		   "version": "0.7.1"
		  }
		 },
		 "nbformat": 4,
		 "nbformat_minor": 0
}
