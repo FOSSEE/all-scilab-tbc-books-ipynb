{
"cells": [
 {
		   "cell_type": "markdown",
	   "metadata": {},
	   "source": [
       "# Chapter 16: Wave Shaping and Multivibrator Circuits"
	   ]
	},
{
		   "cell_type": "markdown",
		   "metadata": {},
		   "source": [
			"## Example 16.10: frequency_of_oscillation.sce"
		   ]
		  },
  {
"cell_type": "code",
	   "execution_count": null,
	   "metadata": {
	    "collapsed": true
	   },
	   "outputs": [],
"source": [
"//Example 16.10.\n",
"clc\n",
"format(6)\n",
"f=1/(1.386*(20*10^3)*(1000*10^-12))  //in Hz\n",
"x1=f*10^-3  // in kHz\n",
"disp('The frequency of a symmetrical astable multivibrator is')\n",
"disp(x1,'      f(kHz) = 1/1.386RC =')  // answer in textbook is wrong"
   ]
   }
,
{
		   "cell_type": "markdown",
		   "metadata": {},
		   "source": [
			"## Example 16.11: period_and_frequency_of_oscillation.sce"
		   ]
		  },
  {
"cell_type": "code",
	   "execution_count": null,
	   "metadata": {
	    "collapsed": true
	   },
	   "outputs": [],
"source": [
"//Example 16.11.\n",
"clc\n",
"format(7)\n",
"disp('The period of oscillation for an asymmetrical astable multivibrator is,')\n",
"t=0.693*(((2*10^3)*0.01*10^-6)+((10*10^3)*(0.05*10^-6))) // seconds\n",
"x1=t*10^6 // in us\n",
"disp(x1,'    T(us) = 0.693(R1C1+R2C2) =')\n",
"f=1/(360.36*10^-6)  // in Hz\n",
"x2=f*10^-3 // in kHz\n",
"disp(x2,'Therefore, the frequency of oscillation, f(kHz) = 1/T =')"
   ]
   }
,
{
		   "cell_type": "markdown",
		   "metadata": {},
		   "source": [
			"## Example 16.12: astable_multivibrator_value_of_capacitor.sce"
		   ]
		  },
  {
"cell_type": "code",
	   "execution_count": null,
	   "metadata": {
	    "collapsed": true
	   },
	   "outputs": [],
"source": [
"//Example 16.12.\n",
"clc\n",
"format(5)\n",
"t=1/(100*10^3)  // in seconds\n",
"x1=t*10^6  // in us\n",
"disp(x1,'The period of oscillation is,  T(us) = 1/f =')\n",
"disp('        T1 = 2us  (given)')\n",
"t2=10-2 // in us\n",
"disp(t2,'Hence,  T2(us) = T - T1 =')\n",
"disp('        T1 = 0.693*R1C1')\n",
"c1=(2*10^-6)/(0.693*(20*10^3))  // in faraday\n",
"x1=c1*10^12  // in pF\n",
"disp(x1,'Therefore,  C1(pF) = T1 / 0.693R1 =')  //answer in textbook is wrong\n",
"c2=(8*10^-6)/(0.693*(20*10^3))  // in faraday\n",
"x1=c2*10^12  // in pF\n",
"disp('        T2 = 0.693*R2*C2')  //answer in textbook is wrong\n",
"disp(x1,'Therefore,  C2(pF) = T2 / 0.693R2 =')"
   ]
   }
,
{
		   "cell_type": "markdown",
		   "metadata": {},
		   "source": [
			"## Example 16.13: design_a_saturated_collector_coupled_multivibrator.sce"
		   ]
		  },
  {
"cell_type": "code",
	   "execution_count": null,
	   "metadata": {
	    "collapsed": true
	   },
	   "outputs": [],
"source": [
"//Example 16.13.\n",
"clc\n",
"format(6)\n",
"disp('To design a saturated collector coupled astable multivibrator')\n",
"disp('Let us assume that VCE(sat) = 0.2 V')\n",
"disp('Refer fig.16.31.')\n",
"disp('Here, C can be kept constant and timing resistor R can be varied to get appropriate Ton, Toff (or) R can be kept constant C can be varied.')\n",
"disp('Now, R <= hfe*Rc. Therefore, it is better to keep R constant.')\n",
"disp('RC = VCC-VC2(sat) / IC(ON)')\n",
"disp('Assuming VC2(sat) = 0.2 V')\n",
"rc=(12-0.2)/(1*10^-3)  // in ohm\n",
"x1=rc*10^-3  // in k-ohm\n",
"disp(x1,'  RC(k-ohm) = 12-0.2/1*10^-3 =')\n",
"r=100*11.8*10^3  // in ohm\n",
"x1=r*10^-6  // in M-ohm\n",
"disp('         R <= hfe*RC')\n",
"disp(x1,'  R(M-ohm) <=')\n",
"disp('Hence, let us assume that R = R1 = R2 = 1 M-ohm')\n",
"disp('    Toff = 0.693*R*C1')\n",
"format(4)\n",
"c1=(20*10^-6)/(0.693*10^6)  // in faraday\n",
"x1=c1*10^12  // in pF\n",
"disp(x1,'Therefore,  C1(pF) = ')\n",
"disp('    Ton = 0.693*R*C2')\n",
"format(5)\n",
"c1=(10*10^-6)/(0.693*10^6)  // in faraday\n",
"x1=c1*10^12  // in pF\n",
"disp(x1,'Therefore,  C2(pF) = ')"
   ]
   }
,
{
		   "cell_type": "markdown",
		   "metadata": {},
		   "source": [
			"## Example 16.14: component_values_of_monostable_multivibrator.sce"
		   ]
		  },
  {
"cell_type": "code",
	   "execution_count": null,
	   "metadata": {
	    "collapsed": true
	   },
	   "outputs": [],
"source": [
"//Example 16.14.\n",
"clc\n",
"format(5)\n",
"disp('At stable state, Q2 is ON and Q2 is OFF:')\n",
"rc2=(6-0.3)/(6*10^-3) // in ohm\n",
"disp(rc2,'    RC2(ohm) = RC1(ohm) = VCC-VCE(sat) / IC(sat) =')\n",
"ib2=(6*10^-3)/20 // in ampere\n",
"x1=ib2*10^3  // in mA\n",
"disp(x1,'IB2(sat)(mA) = IC(sat) / hfe(min) =')\n",
"disp('Also,    IB1(sat) = 0.3 mA')\n",
"format(6)\n",
"r=(6-0.7)/(0.3*10^-3)  // in ohm\n",
"x1=r*10^-3  // in k-ohm\n",
"disp(x1,'  R(k-ohm) = VCC-VBE(sat) / IB2(sat) =')\n",
"disp('                                          [because, VBE(sat) = 0.7 V for Si transistor]')\n",
"disp('At quasi-stable state, Q1 is ON and Q2 is OFF')\n",
"disp('    T = 0.693*R*C')\n",
"format(7)\n",
"c=(140*10^-6)/(0.693*17.67*10^3)  // in F\n",
"x1=c*10^6  // in uF\n",
"disp(x1,'Therefore,      C(uF) = T / 0.693*R =')\n",
"format(6)\n",
"disp('Assume,    IB1(sat) = IR2')\n",
"ir2=0.3+0.3  // in mA\n",
"disp(ir2,'Therefore,  IR1(mA) = IB1(sat)+IR2 =')\n",
"r1=((6-0.7)/(0.6*10^-3))-950  // in ohm\n",
"x1=r1*10^-3  // in k-ohm\n",
"disp('    VCC = VBE(sat) + IR1(RC2+R1)')\n",
"disp(x1,'Therefore,  R1(k-ohm) = (VCC-VBE(sat) / IR1) - RC2 =')\n",
"format(5)\n",
"r2=(0.7+1.5)/(0.3*10^-3)  // in ohm\n",
"x1=r2*10^-3  // in k-ohm\n",
"disp(x1,'    R2(k-ohm) = VBE(sat)-(-VBB) / IR2 =')\n",
"disp('The speed up capacitor C1 is chosen such that R1C1 = 1 us and hence,')\n",
"format(6)\n",
"c1=(10^-6)/(7.833*10^3)  // in F\n",
"x1=c1*10^12  // in pF\n",
"disp(x1,'      C1(pF) =')  // answer in textbook is wrong"
   ]
   }
,
{
		   "cell_type": "markdown",
		   "metadata": {},
		   "source": [
			"## Example 16.15: current_and_voltage_for_bistable_multivibrator.sce"
		   ]
		  },
  {
"cell_type": "code",
	   "execution_count": null,
	   "metadata": {
	    "collapsed": true
	   },
	   "outputs": [],
"source": [
"//Example 16.15.\n",
"clc\n",
"format(5)\n",
"disp('Referring to fig.16.37.')\n",
"vb1=(-12*15*10^3)/(115*10^3)  // in volts\n",
"disp(vb1,'      VB1(V) = -VBB*R2 / R2+R3 =')\n",
"disp('Since VB1 is less than VBE(cut-off), i.e. 0.7 V for silicon transistor, Q1 is OFF.')\n",
"disp('Therefore,    IB1 = 0 and IC1 = 0')\n",
"disp('               I2 = I4 + IC2')\n",
"disp('              IC2 = I2 - I4')\n",
"ic2=((12-0.3)/(2.2*10^3))-((0.3+12)/(115*10^3)) // in A\n",
"x1=ic2*10^3  // in mA  (Since Q2 is ON VC2(sat) = 0.3 V)\n",
"disp(x1,'          IC2(mA) = [VCC-VC2(sat) / RC2] - [VC2(sat)-(-VBB) / R2+R3] =')             // answer in textbook is wrong\n",
"ib2=(5.35*10^-3)/20  // in A\n",
"x1=ib2*10^3  // in mA\n",
"disp(x1,'      IB2 > IC2 / hfe(min) >')  // approximately 0.5 mA\n",
"disp('        I1 = I3 + IC1')\n",
"disp('           = I3, as IC1 = 0')\n",
"disp('        I3 = IB2 + I6')\n",
"disp('        I6 = VB2-(-VBB) / R4')\n",
"disp('       VB2 = VBE2(on) = 0.7 V')\n",
"format(6)\n",
"i6=(0.7+12)/(100)  // in mA\n",
"disp(i6,'Therefore,  I6(mA) =')\n",
"i3=0.5+0.127  // in mA\n",
"disp(i3,'            I3(mA) =')\n",
"vc1=12-((0.627*10^-3)*(2.2*10^3))\n",
"disp(vc1,'            VC1(V) =')"
   ]
   }
,
{
		   "cell_type": "markdown",
		   "metadata": {},
		   "source": [
			"## Example 16.16: design_a_schmitt_trigger_circuit.sce"
		   ]
		  },
  {
"cell_type": "code",
	   "execution_count": null,
	   "metadata": {
	    "collapsed": true
	   },
	   "outputs": [],
"source": [
"//Example 16.16.\n",
"clc\n",
"format(6)\n",
"disp('Referring to fig. 16.40.')\n",
"disp('    UTP = VB2 = 5 V')\n",
"ve=5-0.7  // in volts\n",
"disp(ve,'Voltage across RE is VE(V) = VB2 - VBE =')\n",
"disp('    IE = IC = 2 mA')\n",
"re=4.3/2 // in k-ohm\n",
"disp(re,'    RE(k-ohm) = VE / IE =')\n",
"disp('Taking Q2 saturated, VCE(sat) = 0.2 V typically,')\n",
"x=12-4.3-0.2  // in volts\n",
"disp(x,'     IC*RC2 = VCC - VE - VCE(sat) =')\n",
"rc2=7.5/(2)  // in k-ohm\n",
"disp(rc2,'     RC2(k-ohm) =')\n",
"i2=0.1*2  // in mA\n",
"disp(i2,'     I2(mA) = 0.1*IC2 =')\n",
"r2=5/0.2  // in k-ohm\n",
"disp(r2,'     R2(k-ohm) = VB2 / I2 =')\n",
"ib2=(2*10^-3)/100  // in A\n",
"x1=ib2*10^6  // in uA\n",
"disp(x1,'     IB2(uA) = IC2 / hfe(min) =')\n",
"disp('     I1 = I2 + IB2')\n",
"disp('VCC-VB2 / RC1+R1 = I1 = 0.2*10^-3 + 20*10^-6')\n",
"disp('12-5 / RC1+R1 = 0.22*10^-3')\n",
"x=7/(0.22)  // in k-ohm\n",
"format(5)\n",
"disp(x,'RC1 + R1 =')\n",
"disp('When    Q1 is ON, Vi = LTP = VB2 = 3 V')\n",
"i1=3/25 // in mA\n",
"format(6)\n",
"disp(i1,'  I1(mA) = VB2 / R2 =')\n",
"ic1=(3-0.7)/2.15  // in mA\n",
"disp(ic1,'  IC1(mA) = IE = VB1-VBE / RE =')\n",
"disp('  VCC = RC1*(IC1+I1) + I1*(R1+R2)')\n",
"rc1=(12-((0.12*10^-3)*(56.8*10^3)))/(1.07*10^-3)  // in  ohm\n",
"x1=rc1*10^-3  // in k-ohm\n",
"format(5)\n",
"disp(x1,'Therefore,  RC1(k-ohm) =')\n",
"r1=31.8-4.84\n",
"format(6)\n",
"disp(r1,'  R1(k-ohm) =')\n",
"rb=(100*2.15)/10\n",
"disp('  RB < hfe*RE')\n",
"disp(rb,'  RB(k-ohm) = hfe*RE / 10 =')"
   ]
   }
,
{
		   "cell_type": "markdown",
		   "metadata": {},
		   "source": [
			"## Example 16.1: value_of_bandwidth.sce"
		   ]
		  },
  {
"cell_type": "code",
	   "execution_count": null,
	   "metadata": {
	    "collapsed": true
	   },
	   "outputs": [],
"source": [
"//Example 16.1.\n",
"clc\n",
"format(6)\n",
"disp('Given      tr = 35 ns')\n",
"bw=0.35/(35*10^-9) // in Hz\n",
"x1=bw*10^-6  //in MHz\n",
"disp('We know that,  tr = 0.35 / BW')\n",
"disp(x1,'Therefore,    BW(MHz) = 0.35 / tr =')"
   ]
   }
,
{
		   "cell_type": "markdown",
		   "metadata": {},
		   "source": [
			"## Example 16.2: size_of_speedup_capacitor_and_input_frequency.sce"
		   ]
		  },
  {
"cell_type": "code",
	   "execution_count": null,
	   "metadata": {
	    "collapsed": true
	   },
	   "outputs": [],
"source": [
"//Example 16.2.\n",
"clc\n",
"format(6)\n",
"disp('Given      ton = 70 ns')\n",
"C=(70*10^-9)/(0.1*600)  // in faraday\n",
"x1=C*10^12  // in pF\n",
"disp(x1,'         C(pF) = ton / 0.1*Rs =')  // approximately 1200 pF\n",
"format(4)\n",
"tre=2.3*(5.6*10^3)*(1200*10^-12) // in seconds\n",
"x2=tre*10^6  //in us\n",
"disp(x2,'      tre(useconds) = 2.3*RB*C =')\n",
"format(6)\n",
"f=1/(2*(15*10^-6))  //in Hz\n",
"x3=f*10^-3  //in kHz\n",
"disp(x3,'      f(kHz) = 1/2T = 1/2tre =')"
   ]
   }
,
{
		   "cell_type": "markdown",
		   "metadata": {},
		   "source": [
			"## Example 16.3: negative_clipper.sce"
		   ]
		  },
  {
"cell_type": "code",
	   "execution_count": null,
	   "metadata": {
	    "collapsed": true
	   },
	   "outputs": [],
"source": [
"//Example 16.3.\n",
"clc\n",
"format(6)\n",
"amp = 15;\n",
"vi_t=3; // transition voltage\n",
"t=0:0.1:2*%pi;\n",
"vi=amp*sin(t);\n",
"vo=vi+3; // output voltage\n",
"disp (vi_t,'transition voltage:');\n",
"for i=1:length(t)\n",
"if(vo(i)<=0)\n",
"vo(i)=0;\n",
"end\n",
"end\n",
"subplot(2,2,1)\n",
"plot2d1(t,vo,2,'011','',[0,0,7,18]);\n",
"xtitle('Ouptut voltage in sin wave','t','vo');\n",
"\n",
"\n",
"t=0:0.1:20;\n",
"for i=1:int(length(t)/2)\n",
"vo(i)=15+3;\n",
"end\n",
"for i=int(length(t)/2):length(t)\n",
"vo(i)=0;\n",
"end\n",
"subplot(2,2,2)\n",
"plot2d2(t,vo,2,'011','',[0,-5,21,20]);\n",
"a = gca ();\n",
"xtitle('Ouptut voltage in square wave','t','vo');"
   ]
   }
,
{
		   "cell_type": "markdown",
		   "metadata": {},
		   "source": [
			"## Example 16.4: negative_clipper.sce"
		   ]
		  },
  {
"cell_type": "code",
	   "execution_count": null,
	   "metadata": {
	    "collapsed": true
	   },
	   "outputs": [],
"source": [
"//Example 16.4.\n",
"clear ; clc; close ;\n",
"t= 0:0.1:20;\n",
"for i=1:length(t);\n",
"if(t(i)<=5)\n",
"x(i)=(15/5)*t(i);\n",
"elseif(t(i)>=5&t(i)<=15)\n",
"x(i)=-3.2*t(i)+30;\n",
"elseif(t(i)>=15&t(i)<=20)\n",
"x(i)=(15/5)*t(i)-60;\n",
"end\n",
"end\n",
"for i=1:length(t)\n",
"if(x(i)>3)\n",
"y(i)=x(i);\n",
"elseif(x(i)<=3)\n",
"y(i)=3;\n",
"end\n",
"end\n",
"plot2d(t,y,2,'011','',[0,0,20,16]);\n",
"a=gca();\n",
"xtitle('output voltage','t','Vo')"
   ]
   }
,
{
		   "cell_type": "markdown",
		   "metadata": {},
		   "source": [
			"## Example 16.5: positive_and_negative_clipper.sce"
		   ]
		  },
  {
"cell_type": "code",
	   "execution_count": null,
	   "metadata": {
	    "collapsed": true
	   },
	   "outputs": [],
"source": [
"//Example 16.5.\n",
"//let input wave be V_in=V_p_in*sin(2*%pi*f*t) \n",
"f=1;    //Frequency is 1Hz\n",
"T=1/f;\n",
"V_p_in=10;    //Peak input voltage\n",
"V_th=0.7;    //knee voltage of diode\n",
"clf();\n",
"//let n be double the number of cycles of output shown in graph\n",
"for n=0:1:1\n",
"    t=T.*n/2:0.0005:T.*(n+1)/2    //time for each half cycle\n",
"    V_in=V_p_in*sin(2*%pi*f.*t);\n",
"    Vout=V_in;\n",
"    if modulo(n,2)==0 then    //positive half,D1 conducts till V_in=5V\n",
"        a=bool2s(Vout<5);    \n",
"        b=bool2s(Vout>5);    \n",
"        y=a.*Vout+5*b;    //output follows input till 5V then is constant at 5V\n",
"    else                    //negative half, D2 conducts till V_in=-3V\n",
"        a=bool2s(Vout<-3);    \n",
"        b=bool2s(Vout>-3);\n",
"        y=-3*a+b.*Vout;    //output follows input till -3V then stays constant at -3V\n",
"    end\n",
"        plot(t,y,'r')\n",
"        \n",
"        plot(t,V_in,'-.')\n",
"       end\n",
"       hl=legend(['output','input']);\n",
"    xtitle('Positive and Negative diode limiter','t','Vo')\n",
"    disp('max output voltage is 5V')\n",
"    disp('min output voltage is -3V')"
   ]
   }
,
{
		   "cell_type": "markdown",
		   "metadata": {},
		   "source": [
			"## Example 16.8: positive_clamper.sce"
		   ]
		  },
  {
"cell_type": "code",
	   "execution_count": null,
	   "metadata": {
	    "collapsed": true
	   },
	   "outputs": [],
"source": [
"//Example 16.8.\n",
"//Positive Clamping circuit\n",
"//let input voltage be V_in=V_p_in*sin(2*%pi*f*t)\n",
"V_p_in=10;\n",
"V_DC=(V_p_in);    //DC level added to output\n",
"disp(V_DC,'V_DC in volts= ')\n",
"for n=0:1:1\n",
"    t=n/2:0.0005:(n+1)/2;\n",
"    V_in=V_p_in*sin(2*%pi*t);\n",
"    Vout=V_DC+V_in;\n",
"    plot(t,Vout)\n",
"end\n",
"xtitle('Positive clipper graph','t','Vo')"
   ]
   }
,
{
		   "cell_type": "markdown",
		   "metadata": {},
		   "source": [
			"## Example 16.9: negative_clamper.sce"
		   ]
		  },
  {
"cell_type": "code",
	   "execution_count": null,
	   "metadata": {
	    "collapsed": true
	   },
	   "outputs": [],
"source": [
"//Example 16.9.\n",
"//Negative Clamping circuit\n",
"//let input voltage be V_in=V_p_in*sin(2*%pi*f*t)\n",
"V_p_in=12;\n",
"V_DC=-(V_p_in);    //DC level added to output\n",
"disp(V_DC,'V_DC in volts= ')\n",
"for n=0:1:1\n",
"    t=n/2:0.0005:(n+1)/2;\n",
"    V_in=V_p_in*sin(2*%pi*t);\n",
"    Vout=V_DC+V_in;\n",
"    plot(t,Vout)\n",
"end\n",
"xtitle('Negative clipper graph','t','Vo')"
   ]
   }
],
"metadata": {
		  "kernelspec": {
		   "display_name": "Scilab",
		   "language": "scilab",
		   "name": "scilab"
		  },
		  "language_info": {
		   "file_extension": ".sce",
		   "help_links": [
			{
			 "text": "MetaKernel Magics",
			 "url": "https://github.com/calysto/metakernel/blob/master/metakernel/magics/README.md"
			}
		   ],
		   "mimetype": "text/x-octave",
		   "name": "scilab",
		   "version": "0.7.1"
		  }
		 },
		 "nbformat": 4,
		 "nbformat_minor": 0
}
