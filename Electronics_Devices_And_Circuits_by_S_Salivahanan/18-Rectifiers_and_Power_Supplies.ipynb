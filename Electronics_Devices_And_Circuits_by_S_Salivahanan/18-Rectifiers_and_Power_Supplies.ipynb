{
"cells": [
 {
		   "cell_type": "markdown",
	   "metadata": {},
	   "source": [
       "# Chapter 18: Rectifiers and Power Supplies"
	   ]
	},
{
		   "cell_type": "markdown",
		   "metadata": {},
		   "source": [
			"## Example 18.10: design_a_full_wave_circuit.sce"
		   ]
		  },
  {
"cell_type": "code",
	   "execution_count": null,
	   "metadata": {
	    "collapsed": true
	   },
	   "outputs": [],
"source": [
"//Example 18.10\n",
"clc\n",
"format(6)\n",
"rl=10/(200*10^-3)  // in ohm\n",
"lc=1.194/0.02  \n",
"disp(rl,'The effective load resistance  RL(ohm) =')\n",
"disp('We know that the ripple factor,  gamma = 1.194 / LC')\n",
"disp(lc,'i.e.      LC =')\n",
"disp('Critical value of L(mH) = RL / 3*omega = 50 / 3*2*pi*f = 53mH')\n",
"disp('Taking L = 60 mH (about 20% higher), C will be about 1000 uF')"
   ]
   }
,
{
		   "cell_type": "markdown",
		   "metadata": {},
		   "source": [
			"## Example 18.11: design_a_CLC_or_pi_section_filter.sce"
		   ]
		  },
  {
"cell_type": "code",
	   "execution_count": null,
	   "metadata": {
	    "collapsed": true
	   },
	   "outputs": [],
"source": [
"//Example 18.11\n",
"clc\n",
"rl=(10/(200*10^-3))  // in ohm\n",
"c2=11.4/0.02\n",
"format(4)\n",
"c=sqrt(570)  // in uF\n",
"disp(rl,'    RL(ohm) =')\n",
"disp('    0.02 = 5700 / L*C1*C2*50 = 114 / L*C1*C2')\n",
"disp('If we assume L = 10 mH and  C1 = C2 = C, we have')\n",
"disp('    0.02 = 114 / L*C^2 = 11.4 / C^2')\n",
"disp(c2,'    C^2 =')\n",
"disp(c,'therefore,C(uF) =')"
   ]
   }
,
{
		   "cell_type": "markdown",
		   "metadata": {},
		   "source": [
			"## Example 18.12: design_zener_shunt_voltage_regulator.sce"
		   ]
		  },
  {
"cell_type": "code",
	   "execution_count": null,
	   "metadata": {
	    "collapsed": true
	   },
	   "outputs": [],
"source": [
"//Example 18.12.\n",
"clc\n",
"format(5)\n",
"disp('Refer fig. 18.18.')\n",
"disp('Selection of zener diode')\n",
"disp('    Vz = Vo = 10 V')\n",
"disp('    Iz_max = 40 mA')\n",
"pz=10*40*10^-3  // in W\n",
"disp(pz,'    Pz(W) = Vz * Iz_max =')\n",
"disp('Hence a 0.5Z 10 zener can be selected')\n",
"disp('Value of load resistance, RL')\n",
"rlmin=10/(50*10^-3)  // in ohm\n",
"disp(rlmin,'  RL_min(ohm) = Vo / IL_max =')\n",
"rlmax=10/(30*10^-3)  // in ohm\n",
"disp(rlmax,'  RL_max(ohm) = Vo / IL_min =')\n",
"disp('Value of input resistance, R')\n",
"rmax=(30-10)/((30+40)*10^-3)  // in ohm\n",
"disp(rmax,'  Rmax(ohm) = Vin(max)-Vo / ILmin+IZmax =')\n",
"rmin=(20-10)/((50+20)*10^-3)  // in ohm\n",
"disp(rmin,'  Rmax(ohm) = Vin(min)-Vo / ILmax+IZmin =')\n",
"r=(286+143)/2\n",
"disp(r,'  R(ohm) = Rmax+Rmin / 2 =')  // answer in textbook is wrong"
   ]
   }
,
{
		   "cell_type": "markdown",
		   "metadata": {},
		   "source": [
			"## Example 18.13: design_the_zener_regulator.sce"
		   ]
		  },
  {
"cell_type": "code",
	   "execution_count": null,
	   "metadata": {
	    "collapsed": true
	   },
	   "outputs": [],
"source": [
"//Example 18.13.\n",
"clc\n",
"format(6)\n",
"disp('The minimum Zener current is IZ(min) = 5 mA when the input voltage is minimum')\n",
"disp('Here the input voltage varies between 10 V +- 20% i.e. 8 V and 12 V')\n",
"disp('Therefore, the input voltage Vi(min) = 8 V')\n",
"disp('Therefore,')\n",
"rl=5/(20*10^-3)  // in ohm\n",
"disp(rl,'    RL(ohm) = Vo / IL =')\n",
"r=(8-5)/((5+20)*10^-3)  // in ohm\n",
"disp(r,'Hence, the series resistance  R(ohm) = Vi(min)-Vo / IZ(min)+IL =')\n",
"disp('The various values are given in the Zener regulator shown in Fig. 18.19')"
   ]
   }
,
{
		   "cell_type": "markdown",
		   "metadata": {},
		   "source": [
			"## Example 18.14: design_the_regulator.sce"
		   ]
		  },
  {
"cell_type": "code",
	   "execution_count": null,
	   "metadata": {
	    "collapsed": true
	   },
	   "outputs": [],
"source": [
"//Example 18.14.\n",
"clc\n",
"format(6)\n",
"disp('Load current varies from 0 to 20 mA')\n",
"disp('    IZ(min) = 10 mA, IZ(max) = 100 mA')\n",
"disp('Here,    Vz = Vo = 10 V (constant)')\n",
"disp('Applying KVL to a closed loop circuit,')\n",
"disp('    20 = IR + 10')\n",
"disp('or    IR = 10')\n",
"disp('Therefore, R = 10/I ohm, where I is the loop current in amperes')\n",
"disp('(i) Let IZ = IZ(min) and IL = 0')\n",
"disp('    The total current  I = IL + IZ = 10 mA')\n",
"r=10/(10*10^-3)  // in ohm\n",
"disp(r,'    Therefore,  R(ohm) =')\n",
"disp('(ii) For IZ = IZ(max) = 100 mA and IL = 20 mA')\n",
"i=20+100  // in mA\n",
"disp(i,'     I(mA) = IL + IZ =')\n",
"r=10/(120*10^-3)\n",
"disp(r,'     Therefore,  R(ohm) =')\n",
"disp('(iii) The range of R varies from 83.33 ohm to 1000 ohm')"
   ]
   }
,
{
		   "cell_type": "markdown",
		   "metadata": {},
		   "source": [
			"## Example 18.15: design_zener_voltage_regulator.sce"
		   ]
		  },
  {
"cell_type": "code",
	   "execution_count": null,
	   "metadata": {
	    "collapsed": true
	   },
	   "outputs": [],
"source": [
"//Example 18.15.\n",
"clc\n",
"format(6)\n",
"rl=5/(10*10^-3)  // in ohm\n",
"disp(rl,'Here, load resistance is RL(ohm) = Vo / IL =')\n",
"iz=400/5  // in mA\n",
"disp(iz,'Maximum Zener Current Iz_max(mA) =')\n",
"disp('The minimum input voltage required will be when Iz = 0. Under this condition,')\n",
"disp('    I = IL = 10 mA')\n",
"disp('Minimum input voltage  Vi_min = Vo + IR')\n",
"vi=10-2  // in V\n",
"disp(vi,'Hence,    Vi_min(V) =')\n",
"disp('or    8 = 5 + (10*10^-3)R')\n",
"rmax=3/(10*10^-3)  // in ohm\n",
"disp(rmax,'Therefore,  Rmax(ohm) =')\n",
"disp('Now, maximum input voltage, Vi_max = 5 + [(80+10)10^-3]R')\n",
"rmin=7/(90*10^-3)  // in ohm\n",
"disp(rmin,'    Rmin(ohm) =')\n",
"disp('The value of R is chosen between 77.77 ohm and 300 ohm')"
   ]
   }
,
{
		   "cell_type": "markdown",
		   "metadata": {},
		   "source": [
			"## Example 18.16: series_resistance_and_diode_current.sce"
		   ]
		  },
  {
"cell_type": "code",
	   "execution_count": null,
	   "metadata": {
	    "collapsed": true
	   },
	   "outputs": [],
"source": [
"//Example 18.16.\n",
"clc\n",
"format(7)\n",
"il=(24/1200)*10^3  // in mA\n",
"disp(il,'The load current,  IL(mA) = Vo / RL =')\n",
"iz=600/24  // in mA\n",
"disp(iz,'Max. Zener current,  Iz_max(mA) =')\n",
"rmax=(32-24)/((20+25)*10^-3)  // in ohm\n",
"disp(rmax,'  Rmax(ohm) = Vi-Vo / IL_min+IZ_max =')"
   ]
   }
,
{
		   "cell_type": "markdown",
		   "metadata": {},
		   "source": [
			"## Example 18.17: design_a_linear_voltage_regulator.sce"
		   ]
		  },
  {
"cell_type": "code",
	   "execution_count": null,
	   "metadata": {
	    "collapsed": true
	   },
	   "outputs": [],
"source": [
"////Example 18.17.\n",
"clc\n",
"format(6)\n",
"vi=15+3   // in V\n",
"disp('Refer to fig.18.24. We know that')\n",
"disp(vi,'    Vi_min(V) = Vo + 3V =')\n",
"vi=18+1  // in V\n",
"disp('Assuming the ripple voltage Vr = 2V(max), the input voltage is')\n",
"disp(vi,'  Vi(V) = Vi(min) + Vr/2 =')\n",
"vz=19/2  // in V\n",
"disp(vz,'Then    Vz(V) = Vi /2 =            (use the zener diode 1N758 for 10V)')\n",
"disp('Therefore,  Vz = 10 V')\n",
"disp('            Iz = 20 mA')\n",
"r1=(19-10)/(20*10^-3)  // in ohm\n",
"disp(r1,'    R1(ohm) = Vi-Vz / Iz =')\n",
"disp('Let    I2 = IB(max) = 50 uA')\n",
"r2=((15-10)/(50*10^-6))*10^-3  // in k-ohm\n",
"disp(r2,'    R2(k-ohm) = Vo-Vz / I2 =')\n",
"r3=(10/(50*10^-6))*10^-3  // in k-ohm\n",
"disp(r3,'    R3(k-ohm) = Vz / I2 =')\n",
"disp('Select    C1 = 50 uF')\n",
"disp('Specification of transistor Q1')\n",
"vce=19+1  // in V\n",
"disp(vce,'    VCE_max(V) = Vi_max(V) = Vi + Vr/2 =')\n",
"disp('    IE = IL = 50 mA')\n",
"p=((19-15)*50)  // in mW\n",
"disp(p,'    P(mW) = VCE*IL = (Vi-Vo) * IL =')\n",
"disp('Use the transistor 2N718 for Q1')"
   ]
   }
,
{
		   "cell_type": "markdown",
		   "metadata": {},
		   "source": [
			"## Example 18.18: design_a_series_voltage_regulator.sce"
		   ]
		  },
  {
"cell_type": "code",
	   "execution_count": null,
	   "metadata": {
	    "collapsed": true
	   },
	   "outputs": [],
"source": [
"//Example 18.18. refer fig.18.27\n",
"clc\n",
"format(6)\n",
"rlmin=20/(50*10^-3)  // in ohm\n",
"disp('Selection of Zener diode')\n",
"disp(rlmin,'  RLmin(ohm) = Vo / ILmax =')\n",
"vz=20/2  // in V\n",
"disp(vz,'  Vz(V) = Vo / 2 =')\n",
"disp('Hence, the zener diode 0.5Z10 is chosen.')\n",
"disp('Since,  IR1 > IB2, IR1 > IC2/beta, IR2 > 10*10^-3 / 150')\n",
"disp('        IR1 > 66.7 uA')\n",
"disp('Let  IR1 = IR2 = IR3 = 10 mA (neglecting IB2)')\n",
"disp('Let  IC2 = IE2 = 10 mA')\n",
"disp('So, the current flowing through the Zener,')\n",
"iz=10+10  // in mA\n",
"disp(iz,'  Iz(mA) = IE2 + IR1 =')\n",
"pz=10*20*10^-3  // in W\n",
"disp(pz,'  Pz(W) = Vz*Iz =')  // > 0.5 W\n",
"disp('Hence selection of 0.5Z10 Zener diode is confirmed')\n",
"disp('')\n",
"disp('Selection of transistor Q1')\n",
"ie1=10+10+50  // in mA\n",
"disp(ie1,'  IE1(mA) = IR1 + IR2 + IL =')\n",
"disp('  Vi(max) - Vo = 30 -20 = 10 V')\n",
"disp('For transistor SL100, the rating are')\n",
"disp('    IC(max) = 500 mA')\n",
"disp('   VCE(max) = 50 V')\n",
"disp('        hre = 50 - 280')\n",
"disp('Hence, SL100 can be chosen for Q1')\n",
"disp('')\n",
"disp('Selection of transistor Q2')\n",
"disp('  From the fig.,  VCE2(max) + Vz = (V0 + VBE1)')\n",
"vce2=20.6-10  // in V\n",
"disp(vce2,'  Therefore,  VCE2_max(V) = (Vo + VBE1) - Vz =')\n",
"disp('For transistor BC107, the rating are')\n",
"disp('    VCEO(max) = 45 V')\n",
"disp('      IC(max) = 200 mA')\n",
"disp('          hFE = 125 - 300')\n",
"disp('Hence, transistor BC107 is selected for Q2')\n",
"disp('')\n",
"disp('Selection of resistor R1, R2 and R3')\n",
"vr1=20-10  // in V\n",
"disp(vr1,'  VR1(V) = Vo - Vz =')\n",
"r1=10/(10)  // in k-ohm\n",
"disp(r1,'  R1(k-ohm) = VR1 / IR1 =')\n",
"vr2=20-10.6  // in V\n",
"disp(vr2,'  VR2(V) = Vo - VR3 =')\n",
"r2=9.4/(10*10^-3)  // in ohm\n",
"disp(r2,'  R2(ohm) = VR2 / IR2 =')\n",
"vr3=10+0.6  // in V\n",
"disp(vr3,'  VR3(V) = Vz + VBE2(sat) =')\n",
"r3=10.6/(10*10^-3)  // in ohm\n",
"disp(r3,'  R3(ohm) = VR3 / IR3 =')\n",
"disp('')\n",
"disp('Selection of resistor R4')\n",
"vb1=20+0.6  // in V\n",
"disp(vb1,'  VB1(V) = VC2(V) = Vo + VBE1 =')\n",
"ib1=70/50  // in mA\n",
"disp(ib1,'  IB1(mA) = IC1 / beta =')\n",
"ir4=11.4  // in mA\n",
"disp(ir4,'  IR4(mA) = IB1 + IC2 =')\n",
"format(5)\n",
"r4max=(30-20.6)/(11.4*10^-3)  // in ohm\n",
"disp(r4max,'  R4_max(ohm) = VR4(max) / IR4 = Vi(max)-VB1 / IR4 =')\n",
"r4min=(22-20.6)/(11.4*10^-3)  // in ohm\n",
"disp(r4min,'  R4_min(ohm) = VR4(min) / IR4 = Vi(min)-VB1 / IR4 =')\n",
"format(6)\n",
"r4=(825+123)/2  // in ohm\n",
"disp(r4,'  R4(ohm) = R4(max)+R4(min) / 2 =')"
   ]
   }
,
{
		   "cell_type": "markdown",
		   "metadata": {},
		   "source": [
			"## Example 18.19: design_a_circuit_to_supply_domestic_power.sce"
		   ]
		  },
  {
"cell_type": "code",
	   "execution_count": null,
	   "metadata": {
	    "collapsed": true
	   },
	   "outputs": [],
"source": [
"//Example 18.19.\n",
"clc\n",
"format(6)\n",
"disp('The secondary output of step-down transformer is sqrt(2) times the output d.c. voltage required. Therefore, the step-down transformer is wound to have 230 V : 23 V')\n",
"disp('Given data: D.C. output voltage = 9 V and Load current = 100 mA')\n",
"disp('The current rating is 1.5 times the maximum loas current i.e. 150 mA')\n",
"disp('A bridge rectifier or full wave rectifier is used to get the pulsating d.c. output.')\n",
"rl=9/(100*10^-3)  // in ohm\n",
"disp(rl,'  RL(ohm) = Vdc / TL =')\n",
"disp('A capacitor filter is used to remove the ripple and get a smooth output.')\n",
"disp('    Ripple factor gamma = 1 / 4*sqrt(3)*f*C*RL')\n",
"disp('Assume the ripple factor to be 0.03')\n",
"c=(1/(4*sqrt(3)*50*0.03*90))*10^6  // in uF\n",
"disp(c,'  C(uf) =')  // = 1000 uF\n",
"disp('The short circuit resistance Rsc connected with the series pass transistor is')\n",
"format(4)\n",
"rsc=0.7/(150*10^-3)  // in ohm\n",
"disp(rsc,'  Rsc(ohm) = VBE / Ilim_it =')\n",
"disp('Assume 7.6 V Zener diode in series with 1.5 k-ohm')\n",
"disp('The designed circuit is shown in fig.18.32.')"
   ]
   }
,
{
		   "cell_type": "markdown",
		   "metadata": {},
		   "source": [
			"## Example 18.1: Im_and_Idc_and_Irms_and_Pdc_and_Pac_and_eta.sce"
		   ]
		  },
  {
"cell_type": "code",
	   "execution_count": null,
	   "metadata": {
	    "collapsed": true
	   },
	   "outputs": [],
"source": [
"//Example 18.1.\n",
"clc\n",
"format(7)\n",
"im=325/(100+1000)  // in A\n",
"x1=im*10^3  // in mA\n",
"disp(x1,'(a) Peak value of current,  Im(mA) = Vm / rf+RL =')\n",
"idc=295.45/%pi // in mA\n",
"disp(idc,'    Average current,  Id.c.(mA) = Im / pi =')\n",
"format(8)\n",
"irms=295.45/2  // in mA\n",
"disp(irms,'    RMS value of current,  Irms(mA) = Im / 2 =')\n",
"format(6)\n",
"pdc=((94.046*10^-3)^2)*1000  // in W\n",
"disp(pdc,'(b) D.C. power output,  Pd.c.(W) = (Id.c.)^2 * RL =')\n",
"pac=((147.725*10^-3)^2)*1100 // in W\n",
"disp(pac,'(c) AC input power,  Pac = (Irms)^2 * (rf+RL)')\n",
"eta=(8.845/24)*100  // in percentage\n",
"disp(eta,'(d) Efficiency of rectification,  eta(in percentage) = Pdc / Pac =')"
   ]
   }
,
{
		   "cell_type": "markdown",
		   "metadata": {},
		   "source": [
			"## Example 18.2: maximum_value_of_ac_voltage.sce"
		   ]
		  },
  {
"cell_type": "code",
	   "execution_count": null,
	   "metadata": {
	    "collapsed": true
	   },
	   "outputs": [],
"source": [
"//Example 18.2.\n",
"clc\n",
"format(6)\n",
"icd=(24/500)*10^3  // in mA\n",
"disp(icd,'Average value of load current,  Id.c.(mA) = Vdc / RL =')\n",
"im=%pi*48 // in mA\n",
"disp(im,'Maximum value of load current,  Im(mA) = pi * Idc =')\n",
"disp('Therefore, maximum ac voltage required at the input,')\n",
"vm=550*150.8*10^-3 // in V\n",
"disp(vm,'      Vm(V) = Im * (rf+RL) =')"
   ]
   }
,
{
		   "cell_type": "markdown",
		   "metadata": {},
		   "source": [
			"## Example 18.3: Vdc_and_PIV_and_Im_and_Pm_and_Idc_and_Pdc.sce"
		   ]
		  },
  {
"cell_type": "code",
	   "execution_count": null,
	   "metadata": {
	    "collapsed": true
	   },
	   "outputs": [],
"source": [
"//Example 18.3.\n",
"clc\n",
"format(6)\n",
"x1=230/5 // in V\n",
"vm=sqrt(2) * 46  // in V\n",
"vdc=65/%pi  // in V\n",
"im=65/300  // in A\n",
"pm=0.217^2 * 300  // in W\n",
"idc=20.7/300 // in A\n",
"format(5)\n",
"pdc=(0.069^2)*300 // in W\n",
"disp(x1,'(a) The transformer secondary voltage(in V) =')\n",
"format(4)\n",
"disp(vm,'    Maximum value of secondary voltage,  Vm(V) =')\n",
"format(5)\n",
"disp(vdc,'    Therefore, d.c. output voltage,  Vd.c.(V) = Vm / pi =')\n",
"disp('(b) PIV of a diode  = Vm = 65 V')\n",
"format(6)\n",
"disp(im,'(c) Maximum value of load current,  Im(A) = Vm / RL =')\n",
"disp('    Therefore, maximum value of power delivered to the load,')\n",
"format(5)\n",
"disp(pm,'           Pm(W) = Im^2 * RL =')\n",
"format(6)\n",
"disp(idc,'(d) The average value of load current,  Id.c.(A) = Vdc / RL')\n",
"disp('    Therefore, average value of power delivered to the load,')\n",
"format(5)\n",
"disp(pdc,'        Pd.c.(W) = (Idc)^2 * RL =')"
   ]
   }
,
{
		   "cell_type": "markdown",
		   "metadata": {},
		   "source": [
			"## Example 18.4: centre_tap_fullwave_rectifier.sce"
		   ]
		  },
  {
"cell_type": "code",
	   "execution_count": null,
	   "metadata": {
	    "collapsed": true
	   },
	   "outputs": [],
"source": [
"//Example 18.4.\n",
"clc\n",
"x1=230/5  // in V\n",
"vrms=46/2 // in V\n",
"vdc=(2*23*sqrt(2))/%pi // in V\n",
"idc=(20.7/1000)*10^3 // in mA\n",
"pdc=((20.7*10^-3)^2)*900  // in W\n",
"piv=2*23*sqrt(2)  // in V\n",
"vrrms=sqrt(23^2 - 20.7^2)  // in V\n",
"f=2*60  // in Hz\n",
"format(6)\n",
"disp(x1,'The voltage across the two ends of secondary(in V) = 230 / 5 =')\n",
"disp(vrms,'Voltage from center tapping to one end, Vrms(V) =')\n",
"format(5)\n",
"disp(vdc,'(a) d.c. voltage across the load,  Vdc(V) = 2Vm / pi =')\n",
"disp('(b) d.c. current flowing through the load,')\n",
"disp(idc,'      Idc(mA) = Vdc / (rs+rf+RL) =')\n",
"format(6)\n",
"disp('(c) d.c. power delivered to the load,')\n",
"disp(pdc,'      Pdc(W) = (Idc)^2 * RL =')\n",
"format(4)\n",
"disp(piv,'(d) PIV across each diode(in W) = 2Vm =')\n",
"format(6)\n",
"disp(vrrms,'(e) Ripple voltage,  Vr,rms(V) = sqrt(Vrms^2 - Vdc^2) =')\n",
"disp(f,'    Frequency of ripple voltage(in Hz) =')"
   ]
   }
,
{
		   "cell_type": "markdown",
		   "metadata": {},
		   "source": [
			"## Example 18.5: RL_and_Vdc_and_Idc_and_PIV.sce"
		   ]
		  },
  {
"cell_type": "code",
	   "execution_count": null,
	   "metadata": {
	    "collapsed": true
	   },
	   "outputs": [],
"source": [
"//Example 18.5.\n",
"clc\n",
"format(6)\n",
"disp('(a) We know that the maximum value of current flowing through the diode for normal operation should not exceed 80% of its rated current.')\n",
"imax=0.8*400  // in mA\n",
"disp(imax,'Therefore,  Imax(mA) =')\n",
"disp('The maximum value of the secondary voltage,')\n",
"vm=sqrt(2)*100  // in V\n",
"disp(vm,'      Vm(V) =')\n",
"disp('Therefore, the value of load resistor that gives the largest d.c. power output')\n",
"format(5)\n",
"RL=141.4/(320*10^-3)\n",
"disp(RL,'      RL(ohm) = Vm / Imax =')\n",
"vdc=(2*141.4)/%pi\n",
"disp(vdc,'(b) D.C.(load) voltage,  Vdc(V) = (2*141.4)/pi =')\n",
"format(6)\n",
"idc=90/442\n",
"disp(idc,'    D.C. load current,  Idc(A) = Vdc / RL =')\n",
"disp('(c) PIV of each diode  = 2Vm = 282.8 V')"
   ]
   }
,
{
		   "cell_type": "markdown",
		   "metadata": {},
		   "source": [
			"## Example 18.6: ac_ripple_voltage.sce"
		   ]
		  },
  {
"cell_type": "code",
	   "execution_count": null,
	   "metadata": {
	    "collapsed": true
	   },
	   "outputs": [],
"source": [
"//Example 18.6.\n",
"clc\n",
"format(6)\n",
"disp('D.C. power delivered to the load,')\n",
"disp('            Pdc = Vdc^2 / RL')\n",
"vdc=sqrt(50*200)\n",
"disp(vdc,'Therefore,  Vdc(V) = sqrt(Pdc*RL) =')\n",
"disp('The ripple factor,  gamma = Vac / Vdc')\n",
"disp('i.e.                 0.01 = Vac / 100')\n",
"disp('Therefore, the ac ripple voltage across the load, Vac = 1 V')"
   ]
   }
,
{
		   "cell_type": "markdown",
		   "metadata": {},
		   "source": [
			"## Example 18.7: Vdc_and_Pdc_and_PIV_and_output_frequency.sce"
		   ]
		  },
  {
"cell_type": "code",
	   "execution_count": null,
	   "metadata": {
	    "collapsed": true
	   },
	   "outputs": [],
"source": [
"//Example 18.7. \n",
"clc\n",
"Vrms=230/4  // in V\n",
"vm=sqrt(2)*57.5  // in V\n",
"vdc=(2*81.3)/%pi  // in V\n",
"pdc=52^2/1000  // in W\n",
"format(5)\n",
"disp('(a) The rms value of the transformer secondary voltage,')\n",
"disp(Vrms,'      Vrms(V) =')\n",
"disp('    The maximum value of the secondary voltage')\n",
"disp(vm,'      Vm(V) =')\n",
"format(4)\n",
"disp(vdc,'Therefore, d.c. output voltage,  Vdc(V) = 2Vm / pi =')\n",
"format(6)\n",
"disp('(b) D.C. power delivered to the load,')\n",
"disp(pdc,'      Pd.c.(W) = (Vdc)^2 / RL =')\n",
"disp('(c) PIV across each diode = Vm = 81.3 V')\n",
"disp('(d) Output frequency = 2 x 50 = 100 Hz')"
   ]
   }
,
{
		   "cell_type": "markdown",
		   "metadata": {},
		   "source": [
			"## Example 18.8: value_of_inductance.sce"
		   ]
		  },
  {
"cell_type": "code",
	   "execution_count": null,
	   "metadata": {
	    "collapsed": true
	   },
	   "outputs": [],
"source": [
"//Example 18.8.\n",
"clc\n",
"format(7)\n",
"L=0.0625/0.04 // in H\n",
"disp('We know that the ripple factor for inductor filter is gamma = RL / 3*sqrt(2)*omega*L')\n",
"disp(L,'Therefore,    L(in Henry) = ')"
   ]
   }
,
{
		   "cell_type": "markdown",
		   "metadata": {},
		   "source": [
			"## Example 18.9: value_of_capacitance.sce"
		   ]
		  },
  {
"cell_type": "code",
	   "execution_count": null,
	   "metadata": {
	    "collapsed": true
	   },
	   "outputs": [],
"source": [
"//Example 18.9.\n",
"clc\n",
"format(6)\n",
"disp('We know that the ripple factor for capacitor filter is')\n",
"disp('    gamma = 1 / 4*sqrt(3)*f*C*RL')\n",
"c=(0.722)/0.01  // in pF\n",
"disp(c,'Therefore,    C(pF) =')"
   ]
   }
],
"metadata": {
		  "kernelspec": {
		   "display_name": "Scilab",
		   "language": "scilab",
		   "name": "scilab"
		  },
		  "language_info": {
		   "file_extension": ".sce",
		   "help_links": [
			{
			 "text": "MetaKernel Magics",
			 "url": "https://github.com/calysto/metakernel/blob/master/metakernel/magics/README.md"
			}
		   ],
		   "mimetype": "text/x-octave",
		   "name": "scilab",
		   "version": "0.7.1"
		  }
		 },
		 "nbformat": 4,
		 "nbformat_minor": 0
}
