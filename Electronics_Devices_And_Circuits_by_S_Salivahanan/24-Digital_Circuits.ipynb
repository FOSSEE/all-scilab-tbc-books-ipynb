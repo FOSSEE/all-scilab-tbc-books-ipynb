{
"cells": [
 {
		   "cell_type": "markdown",
	   "metadata": {},
	   "source": [
       "# Chapter 24: Digital Circuits"
	   ]
	},
{
		   "cell_type": "markdown",
		   "metadata": {},
		   "source": [
			"## Example 24.10: 2s_complement_subtraction.sce"
		   ]
		  },
  {
"cell_type": "code",
	   "execution_count": null,
	   "metadata": {
	    "collapsed": true
	   },
	   "outputs": [],
"source": [
"//Example 24.10\n",
"clc\n",
"disp('2''s compliment method')\n",
"disp('  1 0 0 0')\n",
"disp('  0 1 1 0   <-- 2''s complement')\n",
"disp('  -------')\n",
"disp('  1 1 1 0   <-- no carry')\n",
"disp('No carry results. Thus, the difference is negative and the answer is the 2''s compliment of 1110, i.e. 0010')"
   ]
   }
,
{
		   "cell_type": "markdown",
		   "metadata": {},
		   "source": [
			"## Example 24.11: BCD_additio.sce"
		   ]
		  },
  {
"cell_type": "code",
	   "execution_count": null,
	   "metadata": {
	    "collapsed": true
	   },
	   "outputs": [],
"source": [
"//Example 24.11\n",
"clc\n",
"disp('(i)         1 0 0 1')\n",
"disp('          + 0 1 0 0')\n",
"disp('          ---------')\n",
"disp('            1 1 0 1     Invalid BCD number')\n",
"disp('          + 0 1 1 0     Add 6')\n",
"disp('          ---------')\n",
"disp('    0 0 0 1 0 0 1 1     Valid BCD number')\n",
"disp('')\n",
"disp('(ii)   0 0 0 1 1 0 0 1')\n",
"disp('     + 0 0 0 1 0 1 0 0')\n",
"disp('       ---------------')\n",
"disp('       0 0 1 0 1 1 0 1  Right group is invalid')\n",
"disp('             + 0 1 1 0  Add 6')\n",
"disp('       ---------------')\n",
"disp('       0 0 1 1 0 0 1 1  Valid BCD number')"
   ]
   }
,
{
		   "cell_type": "markdown",
		   "metadata": {},
		   "source": [
			"## Example 24.12: Boolean_algebra.sce"
		   ]
		  },
  {
"cell_type": "code",
	   "execution_count": null,
	   "metadata": {
	    "collapsed": true
	   },
	   "outputs": [],
"source": [
"//Example 24.12.\n",
"clc\n",
"disp('(i) A + AB           = A(1+B)  distributive law')\n",
"disp('                     = A.1     law 2')\n",
"disp('                     = A       law 4')\n",
"disp('')\n",
"disp('(ii) A + A''B         = (A+A'')(A+B)  distributive law')\n",
"disp('                     = 1.(A+B)     law 6')\n",
"disp('                     = A + B       law 4')\n",
"disp('')\n",
"disp('(iii) AB + A''C + BC  = AB + A''C + BC1')\n",
"disp('                     = AB + A''C + BC(A+A'')')\n",
"disp('                     = AB + A''C + ABC + A''BC')\n",
"disp('                     = AB(1+C) + A''C(1+B)')\n",
"disp('                     = AB + A''C')\n",
"disp('The above property, i.e AB + A''C + BC = AB + A''C, is called consensus theorem.')"
   ]
   }
,
{
		   "cell_type": "markdown",
		   "metadata": {},
		   "source": [
			"## Example 24.13: Simplify_boolean_algebra.sce"
		   ]
		  },
  {
"cell_type": "code",
	   "execution_count": null,
	   "metadata": {
	    "collapsed": true
	   },
	   "outputs": [],
"source": [
"//Example 24.13\n",
"clc\n",
"disp('(a)       A + AB + AB''C')\n",
"disp('Step 1: Apply rule 10 of table 24.2,i.e A + AB = A. The expression simplifies to')\n",
"disp('          A + AB''C')\n",
"disp('Step 2: Apply distributive property')\n",
"disp('          (A+A)(A+B''C)')\n",
"disp('          = A(A+B''C)')\n",
"disp('Step 3: Taking A as the common term,')\n",
"disp('          A[1.(1+B''C)]')\n",
"disp('Step 4: Apply rule 2 of Table 24.2, i.e. 1 + B''C = 1')\n",
"disp('          A.1 = A')\n",
"disp('Thus, the simplified expression is A')\n",
"disp('')\n",
"disp('(b)       (A''+B)C + ABC')\n",
"disp('Step 1: Apply distributive property')\n",
"disp('          A''C + BC + ABC')\n",
"disp('Step 2: Taking BC as common term,')\n",
"disp('          A''C + BC(1+A)')\n",
"disp('Step 3: Apply rule 2')\n",
"disp('          A''C + BC.1')\n",
"disp('Step 4: Taking C as the common term,')\n",
"disp('          C(A''+B)')\n",
"disp('Thus, the simplified expression is C(A''+B)')\n",
"disp('')\n",
"disp('(c)       AB''C(BD+CDE) + AC''')\n",
"disp('Step 1: Apply distribtive property')\n",
"disp('          AB''BCD + AB''CCDE + AC''')\n",
"disp('Step 2: Apply rules 8 and 7 to the first and second terms, respectivly,')\n",
"disp('          0 + AB''CDE + AC''')\n",
"disp('Step 3: Taking A as the common term,')\n",
"disp('          A(B''CDE+C'')]')\n",
"disp('Step 4: Apply rule 11 i.e., B''CDE + C'' = B''DE + C''')\n",
"disp('          A(B''DE+C'')')\n",
"disp('Thus, the simplified expression is A(B''DE+C'')')"
   ]
   }
,
{
		   "cell_type": "markdown",
		   "metadata": {},
		   "source": [
			"## Example 24.14: Simplify_Karnaugh_map.sce"
		   ]
		  },
  {
"cell_type": "code",
	   "execution_count": null,
	   "metadata": {
	    "collapsed": true
	   },
	   "outputs": [],
"source": [
"//example 24.14\n",
"clc;\n",
"disp('The kanaurgh map for given truth table will be :');\n",
"disp('      A''B''  A''B  AB  AB'''); //displaying the given kmap\n",
"disp('C''     1    0    0   1');\n",
"disp('C      0    1    1   0');\n",
"disp('The adjacent cells that can be combined together are cells 000 and 100 and the cells 011 and 111');\n",
"disp('By combining the adjacent cells, we get')\n",
"disp('      Y = (A''+A)B''C'' + (A''+A)BC')\n",
"disp('        = B''C'' + BC')"
   ]
   }
,
{
		   "cell_type": "markdown",
		   "metadata": {},
		   "source": [
			"## Example 24.15: Simplify_Karnaugh_map.sce"
		   ]
		  },
  {
"cell_type": "code",
	   "execution_count": null,
	   "metadata": {
	    "collapsed": true
	   },
	   "outputs": [],
"source": [
"//example 24.15\n",
"clc;\n",
"disp('The kanaurgh map for given truth table will be :');\n",
"disp('      A''B''  A''B  AB  AB'''); //displaying the given kmap\n",
"disp('C''D''    1    0    0   1');\n",
"disp('C''D     0    1    1   0');\n",
"disp('CD      0    0    0   0');\n",
"disp('CD''     0    0    0   0');\n",
"disp('In the above K-map, the following adjacent cells can be combined to form two pairs of adjacent 1s. Thus, the cell pairs are B''C''D'' and BC''D. The simplified function is Y = B''C''D'' + BC''D');"
   ]
   }
,
{
		   "cell_type": "markdown",
		   "metadata": {},
		   "source": [
			"## Example 24.1: decimal_to_octal.sce"
		   ]
		  },
  {
"cell_type": "code",
	   "execution_count": null,
	   "metadata": {
	    "collapsed": true
	   },
	   "outputs": [],
"source": [
"//Example 24.1. convert decimal 12 to an octal number\n",
"clc\n",
"o=dec2oct(12)\n",
"disp('The procedure is as follows.')\n",
"disp('12 divided by 8 = quotient 1 with a remainder of 4')\n",
"disp(' 1 divided by 8 = quotient 0 with a remainder of 1')\n",
"disp(o,'Therefore,  decimal 12 = octal')"
   ]
   }
,
{
		   "cell_type": "markdown",
		   "metadata": {},
		   "source": [
			"## Example 24.2: octal_to_decimal.sce"
		   ]
		  },
  {
"cell_type": "code",
	   "execution_count": null,
	   "metadata": {
	    "collapsed": true
	   },
	   "outputs": [],
"source": [
"//Example 24.2. convert octal number to decimal.\n",
"clc\n",
"d=oct2dec(['444'])\n",
"disp(d,'(i) octal 444 = decimal')\n",
"d1=oct2dec(['237'])\n",
"disp(d1,'(ii) octal 237 = decimal')\n",
"d2=oct2dec(['120'])\n",
"disp(d2,'(iii) octal 120 = decimal')"
   ]
   }
,
{
		   "cell_type": "markdown",
		   "metadata": {},
		   "source": [
			"## Example 24.3: decimal_to_hexadecimal.sce"
		   ]
		  },
  {
"cell_type": "code",
	   "execution_count": null,
	   "metadata": {
	    "collapsed": true
	   },
	   "outputs": [],
"source": [
"//Example 24.3. convert decimal to hexadecimal number\n",
"clc\n",
"h=dec2hex([112])\n",
"disp('The procedure is as follows,')\n",
"disp('(i) 112 divided by 16 = quotient 7 with a remainder of 0')\n",
"disp('      7 divided by 16 = quotient 0 with a remainder of 7')\n",
"disp(h,'decimal 112 = hex')\n",
"disp('(ii) 253 divided by 16 = quotient 7 with a remainder of 13 i.e. D')\n",
"disp('      15 divided by 16 = quotient 0 with a remainder of 15 i.e. F')\n",
"h=dec2hex([253])\n",
"disp(h,'decimal 253 = hex')"
   ]
   }
,
{
		   "cell_type": "markdown",
		   "metadata": {},
		   "source": [
			"## Example 24.4: hexadecimal_to_decimal.sce"
		   ]
		  },
  {
"cell_type": "code",
	   "execution_count": null,
	   "metadata": {
	    "collapsed": true
	   },
	   "outputs": [],
"source": [
"//Example 24.4. convert hexadecimal number to decimal\n",
"clc\n",
"h=hex2dec(['4AB'])\n",
"disp(h,'(i) hex 4AB = decimal')\n",
"h=hex2dec(['23F'])\n",
"disp(h,'(ii) hex 23F = decimal')"
   ]
   }
,
{
		   "cell_type": "markdown",
		   "metadata": {},
		   "source": [
			"## Example 24.5: multiplication_of_binary_numbers.sce"
		   ]
		  },
  {
"cell_type": "code",
	   "execution_count": null,
	   "metadata": {
	    "collapsed": true
	   },
	   "outputs": [],
"source": [
"//Example 24.5. multiply binary numbers\n",
"clc\n",
"h=bin2dec('1101')\n",
"o=bin2dec('1100')\n",
"p=h*o\n",
"z=dec2bin(p)\n",
"disp(z,'(i) 1101 x 1100 = ')\n",
"h=bin2dec('1000')\n",
"o=bin2dec('101')\n",
"p=h*o\n",
"z=dec2bin(p)\n",
"disp(z,'(ii) 1000 x 101 = ')\n",
"h=bin2dec('1111')\n",
"o=bin2dec('1001')\n",
"p=h*o\n",
"z=dec2bin(p)\n",
"disp(z,'(iii) 1111 x 1001 = ')"
   ]
   }
,
{
		   "cell_type": "markdown",
		   "metadata": {},
		   "source": [
			"## Example 24.6: division_of_binary_numbers.sce"
		   ]
		  },
  {
"cell_type": "code",
	   "execution_count": null,
	   "metadata": {
	    "collapsed": true
	   },
	   "outputs": [],
"source": [
"//Example 24.6. perform the binary divisions\n",
"clc\n",
"x=bin2dec('110')\n",
"x1=bin2dec('10')\n",
"x2=x/x1\n",
"x3=dec2bin(x2)\n",
"disp('(i) 110 / 10')\n",
"disp(x3,'  = binary')\n",
"disp(x2,'  = decimal')\n",
"x=bin2dec('1111')\n",
"x1=bin2dec('110')\n",
"x2=x/x1\n",
"x3=dec2bin(x2)\n",
"disp('(ii) 1111 / 110')\n",
"disp(x3,'  = binary')\n",
"disp(x2,'  = decimal')"
   ]
   }
,
{
		   "cell_type": "markdown",
		   "metadata": {},
		   "source": [
			"## Example 24.7: 1s_complement_subtraction.sce"
		   ]
		  },
  {
"cell_type": "code",
	   "execution_count": null,
	   "metadata": {
	    "collapsed": true
	   },
	   "outputs": [],
"source": [
"//Example 24.7\n",
"clc\n",
"disp('1''s compliment method')\n",
"disp('      1 1 1 1')\n",
"disp('      0 1 0 1    <-- 1''s complement')\n",
"disp('    ---------')\n",
"disp('  (1) 1 1 0 1   <-- carry')\n",
"disp('          1   <-- add carry')\n",
"disp('    ---------')\n",
"disp('      0 1 0 1')"
   ]
   }
,
{
		   "cell_type": "markdown",
		   "metadata": {},
		   "source": [
			"## Example 24.8: 1s_complement_subtraction.sce"
		   ]
		  },
  {
"cell_type": "code",
	   "execution_count": null,
	   "metadata": {
	    "collapsed": true
	   },
	   "outputs": [],
"source": [
"//Example 24.8\n",
"clc\n",
"disp('1''s compliment method')\n",
"disp('    1 0 0 0')\n",
"disp('    0 1 0 1   <-- 1''s complement')\n",
"disp('    -------')\n",
"disp('    1 1 0 1')\n",
"disp('No carry results and the answer is the 1''s complement of 1101 and opposite in sign, i.e. -0010.')"
   ]
   }
,
{
		   "cell_type": "markdown",
		   "metadata": {},
		   "source": [
			"## Example 24.9: 2s_complement_subtraction.sce"
		   ]
		  },
  {
"cell_type": "code",
	   "execution_count": null,
	   "metadata": {
	    "collapsed": true
	   },
	   "outputs": [],
"source": [
"//Example 24.9\n",
"clc\n",
"disp('2''s compliment method')\n",
"disp('      1 1 1 1')\n",
"disp('      0 1 1 0   <-- 2''s complement')\n",
"disp('    ---------')\n",
"disp('  (1) 0 1 0 1')\n",
"disp('The carry is discarded. Thus, the answer is 0101.')"
   ]
   }
],
"metadata": {
		  "kernelspec": {
		   "display_name": "Scilab",
		   "language": "scilab",
		   "name": "scilab"
		  },
		  "language_info": {
		   "file_extension": ".sce",
		   "help_links": [
			{
			 "text": "MetaKernel Magics",
			 "url": "https://github.com/calysto/metakernel/blob/master/metakernel/magics/README.md"
			}
		   ],
		   "mimetype": "text/x-octave",
		   "name": "scilab",
		   "version": "0.7.1"
		  }
		 },
		 "nbformat": 4,
		 "nbformat_minor": 0
}
