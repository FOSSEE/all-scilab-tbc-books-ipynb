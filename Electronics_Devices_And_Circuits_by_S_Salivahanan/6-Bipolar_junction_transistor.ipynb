{
"cells": [
 {
		   "cell_type": "markdown",
	   "metadata": {},
	   "source": [
       "# Chapter 6: Bipolar junction transistor"
	   ]
	},
{
		   "cell_type": "markdown",
		   "metadata": {},
		   "source": [
			"## Example 6.10: determine_IC_and_IB.sce"
		   ]
		  },
  {
"cell_type": "code",
	   "execution_count": null,
	   "metadata": {
	    "collapsed": true
	   },
	   "outputs": [],
"source": [
"//Example 6.10\n",
"clc\n",
"format(7)\n",
"IE=12\n",
"beta=100\n",
"IB=IE/(1+beta)\n",
"disp(IB,'We know that base current,  IB(mA) = IE / (1 + beta) = ')\n",
"format(8)\n",
"IC=IE-IB\n",
"disp(IC,'and collector current,  IC(mA) = IE - IB = ')"
   ]
   }
,
{
		   "cell_type": "markdown",
		   "metadata": {},
		   "source": [
			"## Example 6.11: beta_and_alpha_and_IE.sce"
		   ]
		  },
  {
"cell_type": "code",
	   "execution_count": null,
	   "metadata": {
	    "collapsed": true
	   },
	   "outputs": [],
"source": [
"//Example 6.11\n",
"clc\n",
"format(6)\n",
"IB=100*10^-6\n",
"IC=2*10^-3\n",
"beta=IC/IB\n",
"disp('(a) To find beta of the transistor ')\n",
"disp(beta,'beta = IC / IB =')\n",
"alpha=beta/(beta+1)\n",
"disp('(b) To find alpha of the transistor')\n",
"disp(alpha,'alpha = beta / (1+beta) =')\n",
"IE=IB+IC\n",
"IE1=IE*10^3\n",
"disp('(c) To find emitter current, IE')\n",
"disp(IE1,'IE(mA) = IB + IC =')  // answer in the textbook is wrong\n",
"disp('(d) To find the new value of beta when delta_IB = 25uA and delta_IC = 0.6mA')\n",
"delta_IB=25*10^-6\n",
"delta_IC=0.6*10^-3\n",
"IB1=IB+delta_IB\n",
"IB11=IB1*10^6\n",
"IC1=IC+delta_IC\n",
"IC11=IC1*10^3\n",
"disp(IB11,'Therefore,  IB(uA) = ')\n",
"disp(IC11,'            IC(mA) = ')\n",
"beta1=IC1/IB1\n",
"disp('New value of beta of the transistor,')\n",
"disp(beta1,'beta = IC / IB = ')"
   ]
   }
,
{
		   "cell_type": "markdown",
		   "metadata": {},
		   "source": [
			"## Example 6.12: find_IC_and_IE.sce"
		   ]
		  },
  {
"cell_type": "code",
	   "execution_count": null,
	   "metadata": {
	    "collapsed": true
	   },
	   "outputs": [],
"source": [
"//Example 6.12.\n",
"clc\n",
"format(6)\n",
"alpha=0.98\n",
"ICO=5*10^-6\n",
"ICBO=ICO\n",
"IB=100*10^-6\n",
"IC=((alpha*IB)/(1-alpha))+(ICO/(1-alpha))\n",
"IC1=IC*10^3\n",
"disp(IC1,'The collector current is, IC(mA) = ((alpha*IB)/(1-alpha))+(ICO/(1-alpha))')\n",
"IE=IB+IC\n",
"IE1=IE*10^3\n",
"disp(IE1,'The emitter current is, IE(mA) = IB + IC = ')"
   ]
   }
,
{
		   "cell_type": "markdown",
		   "metadata": {},
		   "source": [
			"## Example 6.13: IC_and_new_collector_current.sce"
		   ]
		  },
  {
"cell_type": "code",
	   "execution_count": null,
	   "metadata": {
	    "collapsed": true
	   },
	   "outputs": [],
"source": [
"//Example 6.13.\n",
"clc\n",
"format(6)\n",
"ICBO=10*10^-6\n",
"hFE=50\n",
"beta=hFE\n",
"IB=0.25*10^-3\n",
"IC=(beta*IB)+((1+beta)*ICBO)\n",
"IC1=IC*10^3\n",
"disp('(a) To find the value of collector current when IB = 0.25mA')\n",
"disp(IC1,'IC(mA) = (beta*IB) + ((1+beta)*ICBO)')\n",
"T1=27\n",
"T2=50\n",
"format(5)\n",
"I_CBO = ICBO * (2^((T2-T1)/10))\n",
"I_CBO1=I_CBO*10^6\n",
"disp('(b) To find the value of new collector current if temperature rises to 50 C')\n",
"disp(I_CBO1,'I''CBO(beta=50)(in uA) = ICBO*(2^((T2-T1)/10)) = ')\n",
"format(6)\n",
"IC2=(beta*IB)+((1+beta)*I_CBO)\n",
"IC3=IC2*10^3\n",
"disp('Therefore, the collector current at 50 C is')\n",
"disp(IC3,'IC(mA) = (beta*IB) + ((1+beta)*I''CBO) = ')"
   ]
   }
,
{
		   "cell_type": "markdown",
		   "metadata": {},
		   "source": [
			"## Example 6.14: find_the_current_gain.sce"
		   ]
		  },
  {
"cell_type": "code",
	   "execution_count": null,
	   "metadata": {
	    "collapsed": true
	   },
	   "outputs": [],
"source": [
"//Example 6.14.\n",
"clc\n",
"format(6)\n",
"delta_IC=0.99*10^-3\n",
"delta_IE=1*10^-3\n",
"alpha=delta_IC/delta_IE\n",
"disp(alpha,'The current gain of the transistor is alpha = delta_IC/delta_IE = ')"
   ]
   }
,
{
		   "cell_type": "markdown",
		   "metadata": {},
		   "source": [
			"## Example 6.15: dc_current_gain_in_CB_mode.sce"
		   ]
		  },
  {
"cell_type": "code",
	   "execution_count": null,
	   "metadata": {
	    "collapsed": true
	   },
	   "outputs": [],
"source": [
"//Example 6.15\n",
"clc\n",
"format(5)\n",
"beta_dc=100\n",
"alpha_dc=beta_dc/(1+beta_dc)\n",
"disp(alpha_dc,'The d.c. current gain of the transistor in CB mode is, alpha_dc = beta_dc/(1+beta_dc) = ')"
   ]
   }
,
{
		   "cell_type": "markdown",
		   "metadata": {},
		   "source": [
			"## Example 6.16: current_gain_alpha_and_beta.sce"
		   ]
		  },
  {
"cell_type": "code",
	   "execution_count": null,
	   "metadata": {
	    "collapsed": true
	   },
	   "outputs": [],
"source": [
"//Example 6.16.\n",
"clc\n",
"format(6)\n",
"delta_IC=0.995*10^-3\n",
"delta_IE=1*10^-3\n",
"alpha=delta_IC/delta_IE\n",
"disp(alpha,'Common base current gain is, alpha = delta_IC/delta_IE = ')\n",
"beta=alpha/(1-alpha)\n",
"disp(beta,'Common-emitter current gain is beta = alpha / (1-alpha) = ')"
   ]
   }
,
{
		   "cell_type": "markdown",
		   "metadata": {},
		   "source": [
			"## Example 6.17: current_gain_and_base_current.sce"
		   ]
		  },
  {
"cell_type": "code",
	   "execution_count": null,
	   "metadata": {
	    "collapsed": true
	   },
	   "outputs": [],
"source": [
"//Example 6.17.\n",
"clc\n",
"format(6)\n",
"beta=49\n",
"alpha=beta/(1+beta)\n",
"disp('We know that,  alpha = beta/(1+beta)')\n",
"disp(alpha,'Therefore, the common base current gain is, alpha = ')\n",
"disp('We also know that, alpha = IC / IE')\n",
"IE=3*10^-3\n",
"IC=alpha*IE\n",
"IC1=IC*10^3\n",
"disp(IC1,'Therefore,  IC(mA) = alpha * IE = ')"
   ]
   }
,
{
		   "cell_type": "markdown",
		   "metadata": {},
		   "source": [
			"## Example 6.18: determine_IC_and_IE_and_alpha.sce"
		   ]
		  },
  {
"cell_type": "code",
	   "execution_count": null,
	   "metadata": {
	    "collapsed": true
	   },
	   "outputs": [],
"source": [
"//Example 6.18.\n",
"clc\n",
"format(6)\n",
"IB=15*10^-6\n",
"beta=150\n",
"IC=beta*IB\n",
"IC1=IC*10^3\n",
"disp(IC1,'The collector current, IC(mA) = beta * IB = ')\n",
"IE=IC+IB\n",
"IE1=IE*10^3\n",
"disp(IE1,'The emitter current, IE(mA) = IC + IB = ')\n",
"format(7)\n",
"alpha=beta/(1+beta)\n",
"disp(alpha,'Common-base current gain, alpha = beta/(1+beta) = ')"
   ]
   }
,
{
		   "cell_type": "markdown",
		   "metadata": {},
		   "source": [
			"## Example 6.19: IB_IC_IE_and_VCE.sce"
		   ]
		  },
  {
"cell_type": "code",
	   "execution_count": null,
	   "metadata": {
	    "collapsed": true
	   },
	   "outputs": [],
"source": [
"//Example 6.19.\n",
"clc\n",
"format(6)\n",
"disp('Referring to fig.6.18, the base current is,')\n",
"VBB=4\n",
"VBE=0.7\n",
"RB=200*10^3\n",
"IB=(VBB-VBE)/RB\n",
"IB1=IB*10^6\n",
"disp(IB1,'IB(uA) = (VBB - VBE) / RB = ')\n",
"beta=200\n",
"IC=beta*IB\n",
"IC1=IC*10^3\n",
"disp(IC1,'The collector current is, IC(mA) = beta*IB = ')\n",
"format(7)\n",
"IE=IC+IB\n",
"IE1=IE*10^3\n",
"disp(IE1,'The emitter current is, IE(mA) = IC + IB = ')\n",
"format(6)\n",
"VCC=10\n",
"RC=2*10^3\n",
"VCE=VCC-(IC*RC)\n",
"disp(VCE,'Therefore,  VCE(V) = VCC - IC*RC = ')"
   ]
   }
,
{
		   "cell_type": "markdown",
		   "metadata": {},
		   "source": [
			"## Example 6.1: find_value_of_the_base_current_IB.sce"
		   ]
		  },
  {
"cell_type": "code",
	   "execution_count": null,
	   "metadata": {
	    "collapsed": true
	   },
	   "outputs": [],
"source": [
"//Example 6.1.\n",
"clc\n",
"format(5)\n",
"IE=10\n",
"IC=9.8\n",
"disp('The emitter current is,')\n",
"disp('IE = IB + IC')\n",
"disp('10 = IB + 9.8')\n",
"IB=IE-IC\n",
"disp(IB,'Therefore,    IB(mA) = ')"
   ]
   }
,
{
		   "cell_type": "markdown",
		   "metadata": {},
		   "source": [
			"## Example 6.20: calculate_IC_and_IE.sce"
		   ]
		  },
  {
"cell_type": "code",
	   "execution_count": null,
	   "metadata": {
	    "collapsed": true
	   },
	   "outputs": [],
"source": [
"//Example 6.20.\n",
"clc\n",
"format(6)\n",
"alpha_dc=0.99\n",
"ICBO=5*10^-6\n",
"IB=20*10^-6\n",
"IC=((alpha_dc*IB)/(1-alpha_dc))+(ICBO/(1-alpha_dc))\n",
"IC1=IC*10^3\n",
"disp(IC1,'IC(mA) = ((alpha_dc*IB)/(1-alpha_dc)) + (ICBO/(1-alpha_dc)) = ')\n",
"IE=IB+IC\n",
"IE1=IE*10^3\n",
"disp(IE1,'Therefore,  IE(mA)= IB + IC = ')"
   ]
   }
,
{
		   "cell_type": "markdown",
		   "metadata": {},
		   "source": [
			"## Example 6.21: alpha_dc_and_beta_dc.sce"
		   ]
		  },
  {
"cell_type": "code",
	   "execution_count": null,
	   "metadata": {
	    "collapsed": true
	   },
	   "outputs": [],
"source": [
"//Example 6.21.\n",
"clc\n",
"format(6)\n",
"ICBO=0.2*10^-6\n",
"ICEO=18*10^-6\n",
"IB=30*10^-3\n",
"disp('The leakage current  ICBO = 0.2 uA')\n",
"disp('                     ICEO = 18 uA')\n",
"disp('Assume that          IB = 30 mA')\n",
"disp('IE = IB + IC')\n",
"disp('IC = IE - IB = (beta*IB)+((1+beta)*ICBO)')\n",
"disp('We know that,  ICEO = ICBO/(1-alpha) = (1+beta)*ICBO')\n",
"beta=(ICEO/ICBO)-1\n",
"disp(beta,'beta = (ICEO / ICBO)-1 = ')\n",
"IC=(beta*IB)+((1+beta)*ICBO)\n",
"disp(IC,'IC(A) = (beta*IB) + ((1+beta)*ICBO) = ')\n",
"alpha_dc=1-(ICBO/ICEO)\n",
"disp(alpha_dc,'alpha_dc = 1 - (ICBO / ICEO) = ')\n",
"format(4)\n",
"beta_dc=(IC-ICBO)/(IB-ICEO)\n",
"disp(beta_dc,'beta_dc = (IC-ICBO) / (IB-ICEO) = ')"
   ]
   }
,
{
		   "cell_type": "markdown",
		   "metadata": {},
		   "source": [
			"## Example 6.22: find_emitter_current.sce"
		   ]
		  },
  {
"cell_type": "code",
	   "execution_count": null,
	   "metadata": {
	    "collapsed": true
	   },
	   "outputs": [],
"source": [
"//Example 6.22.\n",
"clc\n",
"format(6)\n",
"alpha_dc=0.99\n",
"ICBO=50*10^-6\n",
"IB=1*10^-3\n",
"IC=((alpha_dc*IB)/(1-alpha_dc))+(ICBO/(1-alpha_dc))\n",
"IC1=IC*10^3\n",
"disp('Assume that,  IB = 1 mA')\n",
"disp(IC1,'IC(mA) = ((alpha_dc*IB) / (1-alpha_dc)) + (ICBO/(1-alpha_dc)) = ')\n",
"IE=IC+IB\n",
"IE1=IE*10^3\n",
"disp(IE1,'IE(mA) = IC + IB = ')"
   ]
   }
,
{
		   "cell_type": "markdown",
		   "metadata": {},
		   "source": [
			"## Example 6.23: dc_and_ac_load_line_and_operating_point.sce"
		   ]
		  },
  {
"cell_type": "code",
	   "execution_count": null,
	   "metadata": {
	    "collapsed": true
	   },
	   "outputs": [],
"source": [
"//Example 6.23.refer fig.6.22(a)\n",
"clc\n",
"format(6)\n",
"disp('(i) DC load line:')\n",
"disp('Refer fig.6.22(a), we have VCC = VCE + IC*RC')\n",
"disp('To draw the d.c. load line,we need two end points, viz. maximum VCE point(at IC = 0) and maximum IC point(at VCE = 0)')\n",
"disp('Maximum VCE = VCC = 24V')\n",
"IC=24/(8*10^3)  //in Ampere\n",
"x1=IC*10^3  //in mA\n",
"disp(x1,'Maximum  IC(mA) = VCC / RC =')\n",
"disp('Therefore, the d.c. load line AB is drawn with the point B(OB = 24V) on the VCE axis and the point A(OA = 3mA) on the IC axis, as shown in fig.6.22(b)')\n",
"disp('')\n",
"disp('(ii) For fixing the optimum operating point Q, mark the middle of the d.c. load line AB and the corresponding VCE and IC values can be found')\n",
"VCEQ=24/2\n",
"disp(VCEQ,'Here,    VCEQ(V) = VCC / 2 =') //in volts\n",
"disp('         ICQ = 1.5 mA')\n",
"disp('')\n",
"disp('(iii) AC load line')\n",
"disp('To draw the a.c. load line, we need two end points, viz. maximum VCE and maximum IC when signal is applied')\n",
"Rac=(8*24)/(8+24) //in k-ohm\n",
"disp(Rac,'AC load,   R_a.c.(k-ohm) = RC || RL =')\n",
"VCE=12+((1.5*10^-3)*(6*10^3)) //in Volts\n",
"disp(VCE,'Therefore, maximum VCE(V) = VCEQ + ICQ*R_a.c. =')\n",
"disp('This locates the point D(OD = 21V) on the VCE axis')\n",
"IC=(1.5*10^-3)+(12/(6*10^3))  //in Ampere\n",
"x3=IC*10^3  //in mA\n",
"disp(x3,'Maximum  IC(mA) = ICQ + VCEQ/R_a.c. =')\n",
"disp('This locates the point C(OC = 3.5mA) on the IC axis. By joining points C and D a.c. load line CD is constructed. ')\n",
"x=[24,0]\n",
"y=[0,3]\n",
"plot2d(x,y,style=2)\n",
"x1=[21,0]\n",
"y1=[0,3.5]\n",
"plot2d(x1,y1,style=1)\n",
"legend('d.c. load line AB','a.c. load line CD')\n",
"title('Fig.6.22(b)')\n",
"xlabel('VCE(V)')\n",
"ylabel('IC(mA)')"
   ]
   }
,
{
		   "cell_type": "markdown",
		   "metadata": {},
		   "source": [
			"## Example 6.24: ac_and_dc_load_line_and_operating_point.sce"
		   ]
		  },
  {
"cell_type": "code",
	   "execution_count": null,
	   "metadata": {
	    "collapsed": true
	   },
	   "outputs": [],
"source": [
"//Example 6.24. refer fig.6.23(a).\n",
"clc\n",
"format(6)\n",
"disp('(i) DC load line:')\n",
"disp('Refer fig.6.23(a), we have VCC = VCE + IC*(RC+RE)')\n",
"disp('To draw the d.c. load line,we need two end points, viz. maximum VCE point(at IC = 0) and maximum IC point(at VCE = 0)')\n",
"disp('Maximum VCE = VCC = 12V, which locates the point B(OB = 12V) of the d.c. load line')\n",
"IC=12/(2*10^3)  //in Ampere\n",
"x1=IC*10^3  //in mA\n",
"disp(x1,'Maximum  IC(mA) = VCC / (RC+RE) =')\n",
"disp('This locates the point A(OA = 6mA) of the d.c. load line. Fig.6.23(b) shows the d.c. load line AB, with (12V,6mA)')\n",
"disp('')\n",
"disp('(ii) Operating point Q')\n",
"disp('The voltage across  R2 is V2 = (R2/R1+R2)*VCC')\n",
"V2=((4*10^3)/(12*10^3))*12  //in V\n",
"disp(V2,'Therefore,    V2(V) =')\n",
"disp('       V2 = VBE + IE*RE')\n",
"IE=(4-0.7)/(1*10^3)  //in Ampere\n",
"x2=IE*10^3  //in mA\n",
"disp(x2,'Therefore,  IE(mA) = V2-VBE / RE =')\n",
"IC=x2 //in mA\n",
"disp(IC,'        IC(mA) = IE(mA) = ')\n",
"VCE=12-((3.3*10^-3)*(2*10^3)) //in volts\n",
"disp(VCE,'VCE(V) = VCC - IC(RC+RE) =')\n",
"disp('Therefore, the operating point Q is at 5.4V and 3.3mA, which is shown on the d.c. load line')\n",
"disp('')\n",
"disp('(iii) AC load line')\n",
"disp('To draw the a.c. load line, we need two end points, viz. maximum VCE and maximum IC when signal is applied')\n",
"Rac=1.5/2.5 //in k-ohm\n",
"disp(Rac,'AC load,   Ra.c.(k-ohm) = RC || RL =')\n",
"VCE=5.4+((3.3*10^-3)*(0.6*10^3)) //in Volts\n",
"disp(VCE,'Therefore, maximum VCE(V) = VCEQ + ICQ*Ra.c. =')\n",
"disp('This locates the point C(OC = 6.24V) on the VCE axis')\n",
"IC=(3.3*10^-3)+(5.4/(0.6*10^3))  //in Ampere\n",
"x3=IC*10^3  //in mA\n",
"disp(x3,'Maximum  IC(mA) = ICQ + VCEQ/Ra.c. =')\n",
"disp('This locates the point D(OD = 12.3mA) on the IC axis. By joining points C and D a.c. load line CD is constructed. ')\n",
"x=[7.38,0]\n",
"y=[0,12.3]\n",
"plot2d(x,y,style=2)\n",
"x1=[12,0]\n",
"y1=[0,6]\n",
"plot2d(x1,y1,style=1)\n",
"legend('a.c. load line CD','d.c. load line AB')\n",
"title('Fig.6.23(b)')\n",
"xlabel('VCE(V) -->')\n",
"ylabel('IC(mA) -->')"
   ]
   }
,
{
		   "cell_type": "markdown",
		   "metadata": {},
		   "source": [
			"## Example 6.25: Design_circuit_in_fig_6_24.sce"
		   ]
		  },
  {
"cell_type": "code",
	   "execution_count": null,
	   "metadata": {
	    "collapsed": true
	   },
	   "outputs": [],
"source": [
"//Example 6.25.\n",
"clc\n",
"format(6)\n",
"ICQ=1*10^-3\n",
"VCEQ=6\n",
"VCC=10\n",
"beta=100\n",
"VBE=0.7\n",
"RC=(VCC-VCEQ)/ICQ\n",
"RC1=RC*10^-3\n",
"RC2=round(RC1)\n",
"disp(RC2,'The collector resistance is, RC(k-ohm) = (VCC - VCEQ) / ICQ = ')\n",
"IBQ=ICQ/beta\n",
"IBQ1=IBQ*10^6\n",
"disp(IBQ1,'The base current is, IBQ(uA) = ICQ / beta = ')\n",
"RB=(VCC-VBE)/IBQ\n",
"RB1=RB*10^-6\n",
"disp(RB1,'The base resistance is, RB(M-ohm) = (VCC - VBE(on)) / IBQ = ')"
   ]
   }
,
{
		   "cell_type": "markdown",
		   "metadata": {},
		   "source": [
			"## Example 6.26: characteristics_circuit_in_fig_6_25.sce"
		   ]
		  },
  {
"cell_type": "code",
	   "execution_count": null,
	   "metadata": {
	    "collapsed": true
	   },
	   "outputs": [],
"source": [
"//Example 6.26.\n",
"clc\n",
"format(6)\n",
"beta=100\n",
"VBE=0.7\n",
"VCC=10\n",
"RB=20*10^3\n",
"RC=0.4*10^3\n",
"RE=0.6*10^3\n",
"VBB=5\n",
"disp('Referring to fig.6.25, Kirchhoff voltage law equation is,')\n",
"disp('VBB = IB*RB + VBE(on) + IE*RE')\n",
"disp('Also,  IE = IB + IC = IB + beta*IB = (1 + beta)*IB')\n",
"IB=(VBB-VBE)/(RB+((1+beta)*RE))\n",
"IB1=IB*10^6\n",
"disp(IB1,'The base current,  IB(uA) = (VBB - VBE(on)) / (RB + ((1+beta)*RE)) = ')\n",
"IC=beta*IB\n",
"IC1=IC*10^3\n",
"disp(IC1,'Therefore,  IC(mA) = beta*IB = ')\n",
"IE=IC+IB\n",
"IE1=IE*10^3\n",
"disp(IE1,'IE(mA) = IC + IB')\n",
"VCE=VCC-(IC*RC)-(IE*RE)\n",
"disp(VCE,'VCE(V) = VCC - (IC*RC) - (IE*RE) = ')\n",
"disp('The Q point is at')\n",
"disp(VCE,'VCEQ(V) = ')\n",
"disp(IC1,'and ICQ(mA) = ')"
   ]
   }
,
{
		   "cell_type": "markdown",
		   "metadata": {},
		   "source": [
			"## Example 6.27: dc_load_line_and_operating_point_and_S.sce"
		   ]
		  },
  {
"cell_type": "code",
	   "execution_count": null,
	   "metadata": {
	    "collapsed": true
	   },
	   "outputs": [],
"source": [
"//Example 6.27. refer fig.6.26.\n",
"clc\n",
"format(6)\n",
"disp('(i) DC load line:')\n",
"disp('      VCE = VCC - IC*RC')\n",
"disp('When  IC = 0, VCE = VCC = 6V')\n",
"IC=6/(3*10^3) //in Ampere\n",
"x1=IC*10^3  //in mA\n",
"disp(x1,'When  VCE = 0, IC(mA) = VCC/RC =')\n",
"disp('')\n",
"disp('(ii) Operating point Q:')\n",
"disp('     For silicon transistor,  VBE = 0.7V')\n",
"disp('                              VCC = IB*RB + VBE')\n",
"IB=(6-0.7)/(530*10^3)\n",
"x2=IB*10^6\n",
"disp(x2,'Therefore,              IB(uA) = VCC-VBE / RB =')\n",
"IC=100*10*10^-6 // in Ampere\n",
"x3=IC*10^3 // in mA\n",
"disp(x3,'Therefore,              IC(mA) = beta*IB =')\n",
"VCE=6-((1*10^-3)*(3*10^3)) // in volts\n",
"disp(VCE,'                           VCE(V) = VCC - IC*RC =')\n",
"disp('Therefore operating point is VCEQ = 3 V and ICQ = 1 mA')\n",
"disp('')\n",
"disp('(iii) Stability factor:    S = 1 + beta = 1 + 100 = 101')\n",
"x=[6,0]\n",
"y=[0,2]\n",
"plot2d(x,y,style=1)\n",
"xtitle('DC load line','VCE (V) --->','IC (mA) --->')"
   ]
   }
,
{
		   "cell_type": "markdown",
		   "metadata": {},
		   "source": [
			"## Example 6.28: RB_and_S_and_operating_point.sce"
		   ]
		  },
  {
"cell_type": "code",
	   "execution_count": null,
	   "metadata": {
	    "collapsed": true
	   },
	   "outputs": [],
"source": [
"// Example 6.28.\n",
"clc\n",
"format(6)\n",
"VCC=12\n",
"beta=100\n",
"VBE=0.7\n",
"disp('Refer fig.6.26. We know that for a silicon transistor, VBE = 0.7 V')\n",
"disp('(a) To determine RB :')\n",
"VCE=7\n",
"IC=1*10^-3\n",
"RC=(VCC-VCE)/IC\n",
"RC1=RC*10^-3\n",
"disp(RC1,'RC(k-ohm) = (VCC - VCE) / IC = ')\n",
"IB=IC/beta\n",
"IB1=IB*10^6\n",
"disp(IB1,'IB(uA) = IC / beta = ')\n",
"RB=(VCC-VBE-(IC*RC))/IB\n",
"RB1=RB*10^-3\n",
"disp(RB1,'RB(k-ohm) = (VCC - VBE - (IC*RC)) / IB = ')\n",
"S=(1+beta)/(1+(beta*(RC/(RC+RB))))\n",
"format(5)\n",
"disp(S,'(b) Stability factor, S =(1 + beta) / (1 + (beta*(RC / (RC+RB)))) = ')\n",
"beta1=50\n",
"format(6)\n",
"disp('(c) VCC = (beta*IB*RC) + (IB*RB) + VBE')\n",
"disp('        = IB * ((beta*RC) + RB) + VBE')\n",
"IB=(VCC-VBE)/((beta1*RC)+RB)\n",
"IB1=IB*10^6\n",
"disp(IB1,'IB(uA) = (VCC-VBE) / ((beta*RC)+RB) = ')\n",
"IC=beta1*IB\n",
"IC1=IC*10^3\n",
"disp(IC1,'IC(mA) = beta*IB = ')\n",
"VCE=VCC-(IC*RC)\n",
"disp(VCE,'VCE = VCC - (IC*RC) = ')\n",
"disp('Therefore the coordinates of new operating point are :')\n",
"disp(VCE,'VCEQ(V) = ')\n",
"disp(IC1,'ICQ(mA) = ')"
   ]
   }
,
{
		   "cell_type": "markdown",
		   "metadata": {},
		   "source": [
			"## Example 6.29: calculate_RB_and_stability_factor.sce"
		   ]
		  },
  {
"cell_type": "code",
	   "execution_count": null,
	   "metadata": {
	    "collapsed": true
	   },
	   "outputs": [],
"source": [
"//Example 6.29.\n",
"clc\n",
"format(6)\n",
"VCC=12\n",
"RC=250\n",
"IB=0.25*10^-3\n",
"beta=100\n",
"VCEQ=8\n",
"RB=VCEQ/IB\n",
"RB1=RB*10^-3\n",
"disp(RB1,'RB(k-ohm) = VCEQ / IB = ')\n",
"S=(1+beta)/(1+(beta*(RC/(RC+RB))))\n",
"disp(S,'Stability factor, S = (1+beta) / 1 + (beta*(RC/RC+RB)) = ')"
   ]
   }
,
{
		   "cell_type": "markdown",
		   "metadata": {},
		   "source": [
			"## Example 6.2: common_base_dc_current_gain.sce"
		   ]
		  },
  {
"cell_type": "code",
	   "execution_count": null,
	   "metadata": {
	    "collapsed": true
	   },
	   "outputs": [],
"source": [
"//Example 6.2.\n",
"clc\n",
"format(6)\n",
"IE=6.28\n",
"IC=6.20\n",
"disp('The common-base d.c. current gain,')\n",
"alpha=IC/IE\n",
"disp(alpha,'alpha = IC/IE =')"
   ]
   }
,
{
		   "cell_type": "markdown",
		   "metadata": {},
		   "source": [
			"## Example 6.30: operating_point_coordinates_and_stability_factor.sce"
		   ]
		  },
  {
"cell_type": "code",
	   "execution_count": null,
	   "metadata": {
	    "collapsed": true
	   },
	   "outputs": [],
"source": [
"//Example 6.30. Refer fig. 6.27.\n",
"clc\n",
"format(5)\n",
"VCC=16\n",
"RC=3*10^3\n",
"RE=2*10^3\n",
"R1=56*10^3\n",
"R2=20*10^3\n",
"alpha=0.985\n",
"VBE=0.3\n",
"disp('For a germanium transistor, VBE=0.3V. As alpha=0.985')\n",
"beta=alpha/(1-alpha)\n",
"beta1=round(beta)\n",
"disp(beta1,'beta = alpha / ( 1 - alpha) = ')\n",
"disp('(a) To find the coordinates of the operating point')\n",
"disp('Referring to fig. 6.29,')\n",
"VT=(R2/(R1+R2))*VCC\n",
"disp(VT,'Thevenin voltage,     VT(V) = (R2 / (R1+R2)) * VCC = ')\n",
"format(7)\n",
"RB=(R1*R2)/(R1+R2)\n",
"RB1=RB*10^-3\n",
"disp(RB1,'Thevenin resistance,  RB(k-ohm) = (R1 * R2) / (R1 + R2) =')\n",
"disp('The loop equation around the base circuit is,')\n",
"disp('VT = ( IB * RB) + VBE + ((IB + IC)*RE)')\n",
"disp('VT = ((IC / beta) * RB) + VBE + (((IC / beta) + IC)*RE)')\n",
"format(5)\n",
"IC=(VT-VBE)/((RB/beta)+(RE/beta)+RE)\n",
"IC1=IC*10^3\n",
"disp(IC1,'Therefore,   IC(mA) = ')\n",
"disp('Since IB is very small, IC ~ IE = 1.73 mA')\n",
"IE=IC\n",
"VCE=VCC-(IC*RC)-(IE*RE)\n",
"disp(VCE,'Therefore,    VCE(V) = VCC - (IC*RC) - (IE*RE) = ')\n",
"disp('Therefore, the coordinates of the operating point are :')\n",
"disp(IC1,'IC(mA) = ')\n",
"disp(VCE,'VCE(V) = ')\n",
"disp('(b) To find the stability factor S')\n",
"disp('S = (1+beta)*((1+(RB/RE))/(1+beta+(RB/RE)))')\n",
"format(6)\n",
"S = (1+beta)*((1+(RB/RE))/(1+beta+(RB/RE)))\n",
"disp(S,'S = ')"
   ]
   }
,
{
		   "cell_type": "markdown",
		   "metadata": {},
		   "source": [
			"## Example 6.31: resistors_RE_and_R1_and_R2.sce"
		   ]
		  },
  {
"cell_type": "code",
	   "execution_count": null,
	   "metadata": {
	    "collapsed": true
	   },
	   "outputs": [],
"source": [
"//Example 6.31.\n",
"clc\n",
"format(4)\n",
"VCE=12\n",
"IC=2*10^-3\n",
"VCC=24\n",
"VBE=0.7\n",
"beta=50\n",
"RC=4.7*10^3\n",
"S=5.1\n",
"disp('(a) To determine RE,')\n",
"disp('VCE = VCC - (IC*RC) - (IE*RE)')\n",
"RE = (VCC - (IC*RC) - VCE)/IC  //IC=IE\n",
"RE1=RE*10^-3\n",
"disp(RE1,'Therefore,  RE(k-ohm) = ')\n",
"disp('')\n",
"disp('(b) To determine R1 and R2,')\n",
"disp('Stability factor,  S = (1+beta)/(1+beta(RE+(RE+RB))),    where RB = (R1*R2)/(R1+R2)')\n",
"RB=((RE*beta)/(((1+beta)/S)-1))-RE\n",
"RB1=(RB*10^-3)\n",
"disp(RB1,'Therefore,  RB(k-ohm) = ((RE*beta) / (((1+beta)/S)-1)) - RE =')\n",
"disp('Also, for a good voltage divider, the value of resistor R2 = 0.1*beta*RE')\n",
"R2=0.1*beta*RE\n",
"R2_1=R2*10^-3\n",
"disp(R2_1,'Therefore,    R2(k-ohm) = ')\n",
"disp('RB = (R1*R2) / (R1+R2)')\n",
"R1=(5.9*10^3*R2)/(R2-(5.9*10^3)) //RB=5.9\n",
"R1_1=round(R1*10^-3)\n",
"disp(R1_1,'Therefore, R1(k-ohm) = R2 / ((R2/RB)-1)')"
   ]
   }
,
{
		   "cell_type": "markdown",
		   "metadata": {},
		   "source": [
			"## Example 6.32: determine_the_Q_point.sce"
		   ]
		  },
  {
"cell_type": "code",
	   "execution_count": null,
	   "metadata": {
	    "collapsed": true
	   },
	   "outputs": [],
"source": [
"//Example 6.32. refer fig.6.30.\n",
"clc\n",
"format(5)\n",
"R1=56*10^3\n",
"R2=12.2*10^3\n",
"RC=2*10^3\n",
"RE=400\n",
"VCC=10\n",
"VBE=0.7\n",
"beta=150\n",
"disp('From the Thevenin equivalent circuit shown in fig.6.30(b),')\n",
"RTH=(R1*R2)/(R1+R2)\n",
"RTH1=round(RTH*10^-3)\n",
"disp(RTH1,'RTH(k-ohm) = R1 || R2 =')\n",
"VTH=(R2/(R1+R2))*VCC\n",
"disp(VTH,'VTH(V) = (R2 / (R1+R2)) * VCC =')\n",
"disp('By kirchhoff voltage law equation,')\n",
"IBQ=(VTH-VBE)/(RTH+((1+beta)*RE))\n",
"IBQ1=IBQ*10^6\n",
"disp(IBQ1,'IBQ(uA) = (VTH-VBE(on)) / (RTH + ((1+beta)*RE)) = ')\n",
"ICQ=beta*IBQ\n",
"ICQ1=ICQ*10^3\n",
"disp(ICQ1,'Therefore,    ICQ(mA) = beta * IBQ = ')\n",
"format(6)\n",
"IEQ=IBQ+ICQ\n",
"IEQ1=IEQ*10^3\n",
"disp(IEQ1,'IEQ(mA) = IBQ + ICQ')\n",
"VCEQ=VCC-(ICQ*RC)-(IEQ*RE)\n",
"disp(VCEQ,'VCEQ(V) = VCC - (ICQ*RC) - (IEQ*RE)')\n",
"disp('The Q point is at :')\n",
"disp(VCEQ,'VCEQ(V) = ')\n",
"format(5)\n",
"disp(ICQ1,'ICQ(mA) = ')"
   ]
   }
,
{
		   "cell_type": "markdown",
		   "metadata": {},
		   "source": [
			"## Example 6.33: IB_IC_and_VCE_and_S.sce"
		   ]
		  },
  {
"cell_type": "code",
	   "execution_count": null,
	   "metadata": {
	    "collapsed": true
	   },
	   "outputs": [],
"source": [
"//Example 6.33. refer from fig.6.31.\n",
"clc\n",
"VCC=22\n",
"RC=2*10^3\n",
"beta=60\n",
"VBE=0.6\n",
"R1=100*10^3\n",
"R2=5*10^3\n",
"RE=100\n",
"disp('For the given circuit')\n",
"disp('          VCC = R1*(I1+IB) + I1*R2')\n",
"disp('           I1 = (VCC - IB*R1) / (R1 + R2)                  Eq.1')\n",
"disp('Further,  VCC = R1*[I1+IB] + VBE + IE*RE')\n",
"disp('As,        IE = IC + IB')\n",
"disp('              = beta*IB + IB = (1 + beta)*IB')\n",
"disp('Hence,    VCC = R1*[I1 + IB] + VBE + (1 + beta)*IB*RE')\n",
"disp('Substituting for I1 from Eq.1,')\n",
"disp('          VCC = R1*[[(VCC - IB*R1)/R1+R2] - IB] + VBE + (1 + beta)*IB*RE')\n",
"disp('          VCC = R1*[(VCC + IB*R2)/R1+R2] + VBE + (1 + beta)*IB*RE')\n",
"format(6)\n",
"a=VCC-VBE-((R1*VCC)/(R1+R2))\n",
"c=(((R1*R2)/(R1+R2))+((1+beta)*RE))\n",
"IB=a/c\n",
"IB1=IB*10^6\n",
"disp('Substituting for VCC, R1, R2, VBE, beta and RE, ')\n",
"disp(IB1,'       IB(uA) =')\n",
"format(5)\n",
"IC=beta*IB\n",
"IC1=IC*10^3\n",
"disp(IC1,'       IC(mA) =')\n",
"disp('Applying KVL to collector circuit,')\n",
"disp('         VCC = IC*RC + VCE + IE*RE = IC*RC + VCE + (1+beta)*IB*RE')\n",
"disp('Hence,   VCE = VCC - IC*RC - (1+beta)*IB*RE')\n",
"format(7)\n",
"VCE = VCC - (IC*RC) - ((1+beta)*IB*RE)\n",
"disp(VCE,'     VCE(V) = ')\n",
"disp('To find stability factor, (S):')\n",
"disp('Stability factor for voltage divider bias is')\n",
"format(5)\n",
"RB=(R1*R2)/(R1+R2)\n",
"S=(1+beta)/(1+(beta*(RE/(RE+RB))))\n",
"disp(S,'          S =(1+beta)/(1+(beta*(RE/(RE+RB)))) =        where RB = R1 || R2')"
   ]
   }
,
{
		   "cell_type": "markdown",
		   "metadata": {},
		   "source": [
			"## Example 6.34: Q_point_and_stability_factor.sce"
		   ]
		  },
  {
"cell_type": "code",
	   "execution_count": null,
	   "metadata": {
	    "collapsed": true
	   },
	   "outputs": [],
"source": [
"//Example 6.34.\n",
"clc\n",
"format(6)\n",
"VCC=10\n",
"RC=2*10^3\n",
"beta=50\n",
"RB=100*10^3\n",
"VBE=0.7  //collector to base resistor\n",
"disp('To determine quiescent point')\n",
"disp('the collector to base transistor circuit')\n",
"disp('              VCC = (beta*IB*RC) + IB*RB + VBE')\n",
"disp('Therefore,    IB  = (VCC - VBE) / (RB + (beta*RC))')\n",
"IB=(VCC-VBE)/(RB+(beta*RC))\n",
"IB1=IB*10^6\n",
"disp(IB1,'        IB(uA) =')\n",
"IC=beta*IB\n",
"IC1=IC*10^3\n",
"disp(IC1,'Hence, IC(mA) = beta * IB = ')\n",
"VCE=VCC-(IC*RC)\n",
"disp(VCE,'       VCE(V) = VCC - IC*RC =')\n",
"disp('Therefore,the co-ordinates of the new operating point are:')\n",
"disp(VCE,'VCEQ(V) = ')\n",
"disp(IC1,'ICQ(mA) = ')\n",
"disp('To find the stability factor S')\n",
"S=(1+beta)/(1+(beta*[RC/(RC+RB)]))\n",
"disp(S,'S = (1+beta) / (1 + (beta*[RC/(RC+RB)])) = ')"
   ]
   }
,
{
		   "cell_type": "markdown",
		   "metadata": {},
		   "source": [
			"## Example 6.3: find_value_of_base_current.sce"
		   ]
		  },
  {
"cell_type": "code",
	   "execution_count": null,
	   "metadata": {
	    "collapsed": true
	   },
	   "outputs": [],
"source": [
"//Example 6.3.\n",
"clc\n",
"format(6)\n",
"alpha=0.967\n",
"IE=10\n",
"disp('The common-base d.c. current gain (alpha) is,')\n",
"disp('alpha = 0.967 = IC/IE = IC/10')\n",
"IC=alpha*IE\n",
"disp(IC,'Therefore,    IC(mA) = ')\n",
"disp('The emitter current,    IE = IB + IC')\n",
"IB=IE-IC\n",
"disp(IB,'Therefore,    IB(mA) = ')"
   ]
   }
,
{
		   "cell_type": "markdown",
		   "metadata": {},
		   "source": [
			"## Example 6.4: find_values_of_IC_and_IB.sce"
		   ]
		  },
  {
"cell_type": "code",
	   "execution_count": null,
	   "metadata": {
	    "collapsed": true
	   },
	   "outputs": [],
"source": [
"//Example 6.4.\n",
"clc\n",
"format(6)\n",
"IE=10\n",
"alpha=0.98\n",
"disp('The common-base d.c. current gain, alpha = IC/IE')\n",
"IC=alpha*IE\n",
"disp(IC,'Therefore,  IC(mA) = ')\n",
"disp('The emitter current, IE = IB + IC')\n",
"IB=IE-IC\n",
"disp(IB,'Therefore,  IB(mA) = ')"
   ]
   }
,
{
		   "cell_type": "markdown",
		   "metadata": {},
		   "source": [
			"## Example 6.5: find_value_of_beta_and_alpha.sce"
		   ]
		  },
  {
"cell_type": "code",
	   "execution_count": null,
	   "metadata": {
	    "collapsed": true
	   },
	   "outputs": [],
"source": [
"//Example 6.5.\n",
"clc\n",
"format(6)\n",
"alpha=0.97\n",
"disp('If alpha=0.97, beta = alpha/(1 - alpha)')\n",
"beta=alpha/(1-alpha)\n",
"disp(beta,'beta = ')\n",
"beta1=200\n",
"disp('If beta=200, alpha = beta/(beta + 1)')\n",
"alpha1 =beta1/(beta1+1)\n",
"disp(alpha1,'alpha = ')"
   ]
   }
,
{
		   "cell_type": "markdown",
		   "metadata": {},
		   "source": [
			"## Example 6.6: find_value_of_emitter_current.sce"
		   ]
		  },
  {
"cell_type": "code",
	   "execution_count": null,
	   "metadata": {
	    "collapsed": true
	   },
	   "outputs": [],
"source": [
"//Example 6.6.\n",
"clc\n",
"format(6)\n",
"beta=100\n",
"IC=40\n",
"disp('beta = 100 = IC / IB')\n",
"IB=IC/beta\n",
"disp(IB,'Therefore,    IB(mA) = ')\n",
"disp('IE = IB + IC')\n",
"IE=IB+IC\n",
"disp(IE,'IE(mA) = ')"
   ]
   }
,
{
		   "cell_type": "markdown",
		   "metadata": {},
		   "source": [
			"## Example 6.7: collector_and_base_currents.sce"
		   ]
		  },
  {
"cell_type": "code",
	   "execution_count": null,
	   "metadata": {
	    "collapsed": true
	   },
	   "outputs": [],
"source": [
"//Example 6.7.\n",
"clc\n",
"format(6)\n",
"beta=150\n",
"IE=10\n",
"alpha=beta/(beta+1)\n",
"disp(alpha,'The common-base current gain, alpha = beta / (beta + 1) = ')\n",
"disp('Also,    alpha = IC / IE')\n",
"format(5)\n",
"IC=alpha*IE\n",
"disp(IC,'Therefore,    IC(mA) = ')\n",
"disp('the emitter current,    IE = IB + IC')\n",
"IB=IE-IC\n",
"disp(IB,'Therefore,    IB(mA) = ')"
   ]
   }
,
{
		   "cell_type": "markdown",
		   "metadata": {},
		   "source": [
			"## Example 6.8: calculate_IB_and_IE.sce"
		   ]
		  },
  {
"cell_type": "code",
	   "execution_count": null,
	   "metadata": {
	    "collapsed": true
	   },
	   "outputs": [],
"source": [
"//Example 6.8.\n",
"clc\n",
"format(5)\n",
"beta=170\n",
"IC=80\n",
"disp('We know that (beta),  beta = 170 = IC / IB')\n",
"IB=IC/beta\n",
"disp(IB,'Therefore,    IB(mA) = ')\n",
"format(6)\n",
"IE=IB+IC\n",
"disp(IE,'and    IE(mA) = IB + IC = ')"
   ]
   }
,
{
		   "cell_type": "markdown",
		   "metadata": {},
		   "source": [
			"## Example 6.9: determine_IC_and_IE.sce"
		   ]
		  },
  {
"cell_type": "code",
	   "execution_count": null,
	   "metadata": {
	    "collapsed": true
	   },
	   "outputs": [],
"source": [
"//Example 6.9.\n",
"clc\n",
"format(7)\n",
"IB=0.125\n",
"beta=200\n",
"disp('beta = 200 = IC / IB')\n",
"IC=beta*IB\n",
"disp(IC,'Therefore,    IC(mA) = ')\n",
"IE=IB+IC\n",
"disp(IE,'and    IE(mA) = IB + IC = ')"
   ]
   }
],
"metadata": {
		  "kernelspec": {
		   "display_name": "Scilab",
		   "language": "scilab",
		   "name": "scilab"
		  },
		  "language_info": {
		   "file_extension": ".sce",
		   "help_links": [
			{
			 "text": "MetaKernel Magics",
			 "url": "https://github.com/calysto/metakernel/blob/master/metakernel/magics/README.md"
			}
		   ],
		   "mimetype": "text/x-octave",
		   "name": "scilab",
		   "version": "0.7.1"
		  }
		 },
		 "nbformat": 4,
		 "nbformat_minor": 0
}
