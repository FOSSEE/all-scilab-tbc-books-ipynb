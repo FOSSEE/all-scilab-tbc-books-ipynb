{
"cells": [
 {
		   "cell_type": "markdown",
	   "metadata": {},
	   "source": [
       "# Chapter 20: Operational Amplifiers"
	   ]
	},
{
		   "cell_type": "markdown",
		   "metadata": {},
		   "source": [
			"## Example 20.1: common_mode_gain_or_op_amp.sce"
		   ]
		  },
  {
"cell_type": "code",
	   "execution_count": null,
	   "metadata": {
	    "collapsed": true
	   },
	   "outputs": [],
"source": [
"//Example 20.1.\n",
"clc\n",
"format(6)\n",
"disp('    CMRR = Ad / Acm = 10^5')\n",
"acm=(10^5)/(10^5)\n",
"disp(acm,'    Therefore, the common-mode gain, Acm = Ad / CMRR =')"
   ]
   }
,
{
		   "cell_type": "markdown",
		   "metadata": {},
		   "source": [
			"## Example 20.2: slew_rate_of_op_amp.sce"
		   ]
		  },
  {
"cell_type": "code",
	   "execution_count": null,
	   "metadata": {
	    "collapsed": true
	   },
	   "outputs": [],
"source": [
"//Example 20.2.\n",
"clc\n",
"format(6)\n",
"sr=20/(4) // in V/us\n",
"disp('    The slew rate,        SR = dVo / dt')\n",
"disp(sr,'    SR(in V/us) =')"
   ]
   }
,
{
		   "cell_type": "markdown",
		   "metadata": {},
		   "source": [
			"## Example 20.3: maximum_frequency.sce"
		   ]
		  },
  {
"cell_type": "code",
	   "execution_count": null,
	   "metadata": {
	    "collapsed": true
	   },
	   "outputs": [],
"source": [
"//Example 20.3.\n",
"clc\n",
"format(5)\n",
"disp('The 741C has typical slew rate of 0.5 V/us. Using Eq.(20.8), the slew rate is,')\n",
"disp('      SR = 2*pi*f*Vm / 10^6 = 0.5 V/us')\n",
"vm=50*(20*10^-3) // in volts\n",
"disp(vm,'The maximum output voltage,  Vm(V) = A*Vid =')\n",
"disp('The maximum frequency of the input for which undistorted output is obtained is given by,')\n",
"f=(0.5*10^6)/(2*%pi*1) // in kHz\n",
"x1=f*10^-3\n",
"disp(x1,'     fmax = SR*10^6 / 2*pi*Vm =')"
   ]
   }
,
{
		   "cell_type": "markdown",
		   "metadata": {},
		   "source": [
			"## Example 20.4: maximum_peak_to_peak_input_signal.sce"
		   ]
		  },
  {
"cell_type": "code",
	   "execution_count": null,
	   "metadata": {
	    "collapsed": true
	   },
	   "outputs": [],
"source": [
"//Example 20.4.\n",
"clc\n",
"format(5)\n",
"disp('The 741C has typical slew rate of 0.5 V/us. Using Eq.(20.8), the slew rate is,')\n",
"disp('      SR = 2*pi*f*Vm / 10^6 = 0.5 V/us')\n",
"vm=(0.5*10^6)/(2*%pi*(40*10^3)) // in volts\n",
"disp('    = 3.98 V peak-to-peak',vm,'The maximum output voltage,  Vm(V peak-to-peak) = SR*10^6 / 2*pi*f =')\n",
"disp('The maximum peak-to-peak input voltage for undistorted output is,')\n",
"vid=3.98/10 // in volts\n",
"format(6)\n",
"disp(vid,'      Vid(V peak-to-peak) = Vm/A =')"
   ]
   }
,
{
		   "cell_type": "markdown",
		   "metadata": {},
		   "source": [
			"## Example 20.5: closed_loop_voltage_gai.sce"
		   ]
		  },
  {
"cell_type": "code",
	   "execution_count": null,
	   "metadata": {
	    "collapsed": true
	   },
	   "outputs": [],
"source": [
"//Example 20.5. refer fig.20.10.\n",
"clc\n",
"format(6)\n",
"af=-10/1\n",
"disp(af,'  The closed-loop voltage gain Af = -RF / R1 =')"
   ]
   }
,
{
		   "cell_type": "markdown",
		   "metadata": {},
		   "source": [
			"## Example 20.6: closed_loop_voltage_gain_and_beta.sce"
		   ]
		  },
  {
"cell_type": "code",
	   "execution_count": null,
	   "metadata": {
	    "collapsed": true
	   },
	   "outputs": [],
"source": [
"//Example 20.6. refer fig.20.11.\n",
"clc\n",
"format(6)\n",
"af=1+(10/1)\n",
"disp(af,'  The closed-loop voltage gain, AF = 1 + RF/R1 =')\n",
"beta=1/(1+10)\n",
"disp(beta,'  The feedback factor,  beta = R1 / R1+RF =')"
   ]
   }
,
{
		   "cell_type": "markdown",
		   "metadata": {},
		   "source": [
			"## Example 20.7: design_the_output_voltage.sce"
		   ]
		  },
  {
"cell_type": "code",
	   "execution_count": null,
	   "metadata": {
	    "collapsed": true
	   },
	   "outputs": [],
"source": [
"//Example 20.7. refer fig. 20.16.\n",
"clc\n",
"format(6)\n",
"v=-(2+3+4) // in volts\n",
"disp('The output voltage is given by,')\n",
"disp(v,'    Vo(V) = -Rf/R * (V1+V2+...+Vn) =')"
   ]
   }
,
{
		   "cell_type": "markdown",
		   "metadata": {},
		   "source": [
			"## Example 20.8: design_a_high_pass_filter.sce"
		   ]
		  },
  {
"cell_type": "code",
	   "execution_count": null,
	   "metadata": {
	    "collapsed": true
	   },
	   "outputs": [],
"source": [
"//Example 20.8.\n",
"clc\n",
"format(5)\n",
"disp('1.  Given: fL = 1 kHz')\n",
"disp('2.  Since R and C values are not given, let assume C = 0.01 uF')\n",
"r=1/(2*%pi*(10^3)*(0.01*10^-6))\n",
"x1=r*10^-3  // in k-ohm\n",
"disp(x1,'3.  Therefore, R(k-ohm) = 1 / 2*pi*fL*C =')\n",
"disp('4.  Given pass band gain A = 1 + Rf/Ri = 2 i.e. the value of Rf = Ri')\n",
"disp('Let Rf = Ri = 10 k-ohm. The high pass circuit values are shown in Fig.20.31')"
   ]
   }
,
{
		   "cell_type": "markdown",
		   "metadata": {},
		   "source": [
			"## Example 20.9: T_and_R_and_peak_differential_input_voltage.sce"
		   ]
		  },
  {
"cell_type": "code",
	   "execution_count": null,
	   "metadata": {
	    "collapsed": true
	   },
	   "outputs": [],
"source": [
"//Example 20.9. refer fig.20.35(a).\n",
"clc\n",
"format(6)\n",
"disp('(a) From Eq.(20.32), the time period, T = 2RC ln(R1+2R2 / R1)')\n",
"disp('          T = 2RC ln(116*10^3 + 2*100*10^3/116*10^3)')\n",
"disp('          T = 2RC ln(316*10^3/116*10^3)')\n",
"disp('          T = 2RC        (since ln(316*10^3/116*10^3) = 1)')\n",
"disp('Given     f = 1 kHz,  T = 1/f = 1 ms')\n",
"disp('That is,   2RC = 1*10^-3 sec')\n",
"disp('Therefore, the time constant RC = 0.5*10^-3 sec')\n",
"r=(0.5)/0.01 // in k-ohm\n",
"disp(r,'(b) With      C = 0.01 uF,  R(k-ohm) = 0.5*10^-3/0.01*10^-6 =')\n",
"disp('(c) Maximum value of differential input voltage is')\n",
"x=2*14*(100/(100+116))\n",
"disp(x,'          2*Vsat*(R2 / R1+R2) = ')\n",
"disp('Therefore, the peak values for the differential input voltage just exceed +-2 x 6.48 V')"
   ]
   }
],
"metadata": {
		  "kernelspec": {
		   "display_name": "Scilab",
		   "language": "scilab",
		   "name": "scilab"
		  },
		  "language_info": {
		   "file_extension": ".sce",
		   "help_links": [
			{
			 "text": "MetaKernel Magics",
			 "url": "https://github.com/calysto/metakernel/blob/master/metakernel/magics/README.md"
			}
		   ],
		   "mimetype": "text/x-octave",
		   "name": "scilab",
		   "version": "0.7.1"
		  }
		 },
		 "nbformat": 4,
		 "nbformat_minor": 0
}
