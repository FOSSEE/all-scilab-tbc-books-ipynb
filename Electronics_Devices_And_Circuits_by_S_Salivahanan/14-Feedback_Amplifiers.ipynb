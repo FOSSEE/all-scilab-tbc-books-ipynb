{
"cells": [
 {
		   "cell_type": "markdown",
	   "metadata": {},
	   "source": [
       "# Chapter 14: Feedback Amplifiers"
	   ]
	},
{
		   "cell_type": "markdown",
		   "metadata": {},
		   "source": [
			"## Example 14.1: percentage_change_in_gain.sce"
		   ]
		  },
  {
"cell_type": "code",
	   "execution_count": null,
	   "metadata": {
	    "collapsed": true
	   },
	   "outputs": [],
"source": [
"//Example 14.1.\n",
"clc\n",
"format(5)\n",
"A=1000\n",
"beta=0.04\n",
"dA=10\n",
"disp('The percentage change in gain of the amplifier with feedback is')\n",
"dAf=dA*(1/(1+(A*beta)))\n",
"disp(dAf,'    dAf/Af (in %) = dA/A * 1/(1+A*beta)')"
   ]
   }
,
{
		   "cell_type": "markdown",
		   "metadata": {},
		   "source": [
			"## Example 14.2: openloop_gain_A_and_feedback_ratio.sce"
		   ]
		  },
  {
"cell_type": "code",
	   "execution_count": null,
	   "metadata": {
	    "collapsed": true
	   },
	   "outputs": [],
"source": [
"//Example 14.2.\n",
"clc\n",
"format(6)\n",
"Af=100\n",
"dAf=0.02\n",
"dA=0.2\n",
"disp('We have,      dAf/Af = dA/A * 1/(1+A*beta)')\n",
"disp('  dAf/Af = dA/A * 1/(1+A*beta)')\n",
"Ab=dA/dAf\n",
"disp(Ab,'Therefore,     (1 + A*beta) =')\n",
"disp('Also, the gain with feedback is')\n",
"disp('      Af = A / (1+A*beta)')\n",
"A=Af*Ab\n",
"disp(A,'Therefore,      A =')\n",
"disp('       1 + A*beta = 10; i.e. A*beta = 9')\n",
"beta=9/A\n",
"disp(beta,'Therefore,      beta =')"
   ]
   }
,
{
		   "cell_type": "markdown",
		   "metadata": {},
		   "source": [
			"## Example 14.3: bandwidth_and_feedback_ratio.sce"
		   ]
		  },
  {
"cell_type": "code",
	   "execution_count": null,
	   "metadata": {
	    "collapsed": true
	   },
	   "outputs": [],
"source": [
"//Example 14.3.\n",
"clc\n",
"format(6)\n",
"A=125\n",
"BW=250*10^3\n",
"beta=0.04\n",
"disp('(a) We have BWf = (1 + A*beta) * BW')\n",
"BWf = (1 + (A*beta))*BW\n",
"x1=BWf*10^-6\n",
"disp(x1,'    BWf(MHz) =')\n",
"Af=A/(1+(A*beta))\n",
"disp(Af,'Gain with feedback,  Af = A / (1+ A*beta) =')\n",
"disp('(b) BWf = (1 + A*beta'') * BW')\n",
"disp('1*10^6 = (1 + 125*beta'')*250*10^3')\n",
"Bd=3/125\n",
"disp(Bd,'Therefore,     beta =')\n",
"Bd1=Bd*100\n",
"disp(Bd1,'i.e.   beta (in %) =')"
   ]
   }
,
{
		   "cell_type": "markdown",
		   "metadata": {},
		   "source": [
			"## Example 14.4: amplifier_voltage_gain_and_Df.sce"
		   ]
		  },
  {
"cell_type": "code",
	   "execution_count": null,
	   "metadata": {
	    "collapsed": true
	   },
	   "outputs": [],
"source": [
"//Example 14.4.\n",
"clc\n",
"format(6)\n",
"A=400\n",
"f1=50\n",
"f2=200*10^3\n",
"D=10\n",
"beta=0.01\n",
"disp('The voltage gain with feedback')\n",
"Af=A/(1+(A*beta))\n",
"disp(Af,'  Af = A / (1 + A*beta) =')\n",
"disp('New lower 3dB frequency,')\n",
"f1f=f1/(1+(A*beta))\n",
"disp(f1f,'  f_1f(Hz) = f1 / 1+A*beta =')\n",
"disp('New upper 3dB frequency,')\n",
"f2f=(1+(A*beta))*f2\n",
"x2=f2f*10^-6\n",
"disp(x2,'  f2f(MHz) = (1+A*beta)*f2 =')\n",
"disp('Distortion with feedback,')\n",
"Df=D/(1+(A*beta))\n",
"disp(Df,'  Df (in %) = D / 1+A*beta =')"
   ]
   }
,
{
		   "cell_type": "markdown",
		   "metadata": {},
		   "source": [
			"## Example 14.5: Af_and_Rif_and_Rof.sce"
		   ]
		  },
  {
"cell_type": "code",
	   "execution_count": null,
	   "metadata": {
	    "collapsed": true
	   },
	   "outputs": [],
"source": [
"//Example 14.5\n",
"clc\n",
"format(6)\n",
"A=500\n",
"Ri=3*10^3\n",
"Ro=20*10^3\n",
"beta=0.01\n",
"format(6)\n",
"Af=A/(1+(A*beta))\n",
"disp(Af,'Voltage gain,      Af = A / (1+A*beta) =')\n",
"Rif=(1+(A*beta))*Ri\n",
"x1=Rif*10^-3\n",
"disp(x1,'Input resistance,  Rif(k-ohm) = (1+(A*beta))*Ri =')\n",
"Rof=Ro/(1+(A*beta))\n",
"x2=Rof*10^-3\n",
"format(5)\n",
"disp(x2,'Output resistance, Rof(k-ohm) = Ro / (1+A*beta) =')"
   ]
   }
,
{
		   "cell_type": "markdown",
		   "metadata": {},
		   "source": [
			"## Example 14.6: Ai_and_Ri_and_Av_and_Ro_and_Rof.sce"
		   ]
		  },
  {
"cell_type": "code",
	   "execution_count": null,
	   "metadata": {
	    "collapsed": true
	   },
	   "outputs": [],
"source": [
"//Example 14.6.\n",
"clc\n",
"format(6)\n",
"Ai=1+80\n",
"disp(Ai,'  Ai = 1 + hfe =')\n",
"Ri=(5*10^3)+((1+80)*(2*10^3))  //in ohm\n",
"x1=Ri*10^-3 //in k-ohm\n",
"disp(x1,'  Ri(k-ohm) = hie + (1+hfe)*RL =')\n",
"Av=(81*2*10^3)/(167*10^3)\n",
"disp(Av,'  Av = Ai*RL / Ri =')\n",
"Ro=(5000+600)/(1+80) // in ohm\n",
"disp(Ro,'  Ro(ohm) = hie+Rs / 1+hfe =')\n",
"Rof=(69.13*2000)/(2069.13)  //in ohm\n",
"disp(Rof,'  Rof(ohm) = Ro || RL =')"
   ]
   }
,
{
		   "cell_type": "markdown",
		   "metadata": {},
		   "source": [
			"## Example 14.7: Av_and_Rif_and_Avf_and_Rof_and_Rofdash.sce"
		   ]
		  },
  {
"cell_type": "code",
	   "execution_count": null,
	   "metadata": {
	    "collapsed": true
	   },
	   "outputs": [],
"source": [
"//Example 14.7. refer fig.14.6\n",
"clc\n",
"format(6)\n",
"RL=((40*2)/42)*10^3 //in ohm\n",
"disp(RL,'  R''L(ohm) = RB || RL =')\n",
"Av=(-80*1905)/5000\n",
"disp(Av,'  Av = -hfe*R''L / hie =')\n",
"format(9)\n",
"x1=(40000)/(1+30.48)\n",
"Rif=(x1*5000)/(x1+5000) //in ohm\n",
"disp(Rif,'  Rif(ohm) = hie || (RB / 1-Av) =')\n",
"format(6)\n",
"Avf=(-30.48*1013.172)/(600+1013.172)\n",
"disp(Avf,'  Avf = Vo/Vs = Av*Rif / RS+Rif =')\n",
"Rof=(40000/600)*(5600/80) //in ohm\n",
"x2=Rof*10^-3 //in k-ohm\n",
"disp(x2,'  Rof(k-ohm) = (RB / RS) * (RS+hie / hfe) =')\n",
"Roff=(4.666*2)/(6.666) //in k-ohm\n",
"disp(Roff,'  R''of(k-ohm) = Rof || RL =')"
   ]
   }
,
{
		   "cell_type": "markdown",
		   "metadata": {},
		   "source": [
			"## Example 14.8: A_and_beta_and_Rif_and_Af_and_loop_gain.sce"
		   ]
		  },
  {
"cell_type": "code",
	   "execution_count": null,
	   "metadata": {
	    "collapsed": true
	   },
	   "outputs": [],
"source": [
"//Example 14.8. Refer fig.14.8\n",
"clc\n",
"format(6)\n",
"R1=20*10^3\n",
"R2=20*10^3\n",
"hie=2*10^3\n",
"RL=1*10^3\n",
"Re=100\n",
"hfe=80\n",
"A=(-hfe*RL)/hie\n",
"disp(A,'(a)  A = -hfe*RL / hie =')\n",
"disp('     Ri = hie = 2 k-ohm')\n",
"beta=Re/RL\n",
"disp(beta,'(b)  beta = Re / RL =')\n",
"Rif=hie+((1+hfe)*Re)\n",
"x1=Rif*10^-3\n",
"disp(x1,'(c)  Rif(k-ohm) = hie + (1+hfe)*Re =')\n",
"Af=(-hfe*RL)/Rif\n",
"format(5)\n",
"disp(Af,'(d)  Af = -hfe*RL / Rif =')\n",
"lg=20*log10(4)\n",
"format(6)\n",
"disp(lg,'(e)  Loop gain, Abeta(in dB) = -40*0.1 = -4 i.e. 20log4 =')"
   ]
   }
],
"metadata": {
		  "kernelspec": {
		   "display_name": "Scilab",
		   "language": "scilab",
		   "name": "scilab"
		  },
		  "language_info": {
		   "file_extension": ".sce",
		   "help_links": [
			{
			 "text": "MetaKernel Magics",
			 "url": "https://github.com/calysto/metakernel/blob/master/metakernel/magics/README.md"
			}
		   ],
		   "mimetype": "text/x-octave",
		   "name": "scilab",
		   "version": "0.7.1"
		  }
		 },
		 "nbformat": 4,
		 "nbformat_minor": 0
}
