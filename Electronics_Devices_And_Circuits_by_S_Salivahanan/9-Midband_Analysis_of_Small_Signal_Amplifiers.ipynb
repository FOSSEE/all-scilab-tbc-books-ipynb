{
"cells": [
 {
		   "cell_type": "markdown",
	   "metadata": {},
	   "source": [
       "# Chapter 9: Midband Analysis of Small Signal Amplifiers"
	   ]
	},
{
		   "cell_type": "markdown",
		   "metadata": {},
		   "source": [
			"## Example 9.10: Zi_and_Av.sce"
		   ]
		  },
  {
"cell_type": "code",
	   "execution_count": null,
	   "metadata": {
	    "collapsed": true
	   },
	   "outputs": [],
"source": [
"//Example 9.10. refer fig.9.54\n",
"clc\n",
"disp('We know that IB = VCC-VBE / RB+(1+beta)*RE')\n",
"format(5)\n",
"IB=((15-0.7)/((75*10^3)+(101*910)))*10^6\n",
"disp(IB,'Therefore,  IB(uA) =')  // in uA\n",
"disp('IE = (1+beta)*IB = 8.57 mA')\n",
"disp('The dynamic resistance is')\n",
"re=0.026/(8.57*10^-3)\n",
"disp(re,'    re(ohm) =')  // in ohm\n",
"disp('The input impedance of the amplifier is')\n",
"zb=(101*(3.03+910))*10^-3  // in k-ohm\n",
"disp(zb,'    Zb(k-ohm) = (1+beta)(re+RE) =')\n",
"disp('The input impedance of the amplifier stage is')\n",
"format(6)\n",
"Zi=((75*92.2*10^6)/((75*10^3)+(92.2*10^3)))*10^-3  // in k-ohm\n",
"disp(Zi,'    Zi(k-ohm) = RB || Zb =')\n",
"disp('The voltage gain of the amplifier is')\n",
"av=910/(3.03+910)\n",
"disp(av,'Av = RE / re+RE =')"
   ]
   }
,
{
		   "cell_type": "markdown",
		   "metadata": {},
		   "source": [
			"## Example 9.11: Zi_and_overall_voltage_gain.sce"
		   ]
		  },
  {
"cell_type": "code",
	   "execution_count": null,
	   "metadata": {
	    "collapsed": true
	   },
	   "outputs": [],
"source": [
"//Example 9.11.refer fig.9.55\n",
"clc\n",
"format(6)\n",
"VCC=10\n",
"RB=470*10^3\n",
"RE=3.3*10^3\n",
"beta=100\n",
"RS=1*10^3\n",
"RL=50\n",
"re=22.4\n",
"VBE=0.7\n",
"IB = (VCC-VBE) / (RB + ((1+beta)*RE))\n",
"x1=IB*10^6\n",
"disp(x1,'From fig.9.55, IB(uA) = (VCC-VBE) / (RB + (1+beta)*RE)')\n",
"format(5)\n",
"IE=(1+beta)*IB\n",
"x2=IE*10^3\n",
"disp(x2,'  IE(mA) = (1+beta)*IB =')\n",
"rL=(RE*RL)/(RE+RL)\n",
"disp(rL,'The load resistance of the emitter follower is rL(ohm) = RE || RL =')                            // answer in textbook is wrong\n",
"x=(1+beta)*(re+rL)\n",
"Zi=(RB*x)/(RB+x)\n",
"x3=Zi*10^-3\n",
"disp(x3,'  Zi(k-ohm) = RB || (1+beta)(re+rL) =')\n",
"y=(50/(22.4+50))*((7.13*10^3)/((1*10^3)+(7.3*10^3)))  // answer in textbook is wrong\n",
"disp(y,'  VL / VS = (rL/re+rL)(Zi/Rs+Zi) =')"
   ]
   }
,
{
		   "cell_type": "markdown",
		   "metadata": {},
		   "source": [
			"## Example 9.12: Zb_and_Zi_and_Av_and_VL_and_iL_and_overall_voltage_and_current_gain.sce"
		   ]
		  },
  {
"cell_type": "code",
	   "execution_count": null,
	   "metadata": {
	    "collapsed": true
	   },
	   "outputs": [],
"source": [
"//Example 9.12. refer fig 9.56\n",
"clc\n",
"RS=50\n",
"RE=2*10^3\n",
"Ro=1*10^3\n",
"RL=4*10^3\n",
"VEE=6\n",
"VBE=0.7\n",
"RC=1000\n",
"VS=10*10^-3\n",
"format(5)\n",
"IE=(VEE-VBE)/RE\n",
"x1=IE*10^3\n",
"disp('We know that,  IE = VEE-VBE / RE')\n",
"disp(x1,'Therefore,  IE(mA) =')\n",
"re=0.026/IE\n",
"disp(re,'      Zb(ohm) = re(ohm) =')\n",
"Zi=(re*RE)/(re+RE)\n",
"disp(Zi,'      Zi(ohm) = re || RE =')\n",
"format(6)\n",
"Av=RC/re\n",
"disp(Av,'      Av = RC / re =')\n",
"x=Av*(re/(re+RS))*(RL/(RL+RC))\n",
"disp(x,'      VL / VS = Av*(re/re+RS)*(RL/RL+RS) =')\n",
"VL=x*VS\n",
"x2=VL*10^3\n",
"disp(x2,'      VL(in mV (rms)) = Av*VS =')\n",
"iL=VL/RL\n",
"format(5)\n",
"x3=iL*10^6\n",
"disp(x3,'      iL( in uA (rms)) = VL / RL =')\n",
"alpha=1\n",
"format(6)\n",
"y=alpha*(RS/(RS+re))*(RC/(RC+RL))\n",
"disp(y,'      iL / iS = alpha*(RS/RS+re)*(RC/RC+RL) =')"
   ]
   }
,
{
		   "cell_type": "markdown",
		   "metadata": {},
		   "source": [
			"## Example 9.13: Av_and_overall_voltage_and_current_gain.sce"
		   ]
		  },
  {
"cell_type": "code",
	   "execution_count": null,
	   "metadata": {
	    "collapsed": true
	   },
	   "outputs": [],
"source": [
"//Example 9.13.refer fig.9.57.\n",
"clc\n",
"RC=12*10^3\n",
"RL=15*10^3\n",
"RS=10\n",
"RE=22*10^3\n",
"VEE=24\n",
"VBE=0.3\n",
"disp('The emitter current of the common base amplifier is')\n",
"format(8)\n",
"IE=(VEE-VBE)/RE\n",
"disp(IE,'      IE(A) = VEE-VBE / RE =')\n",
"format(6)\n",
"re=0.026/IE\n",
"disp(re,'      re(ohm) = 0.026 / IE =')\n",
"format(5)\n",
"Av=RC/re\n",
"disp(Av,'      Av = RC /re =')\n",
"format(8)\n",
"x=497*(24.14/(24.14+10))*((15*10^3)/((12*10^3)+(15*10^3)))\n",
"disp(x,'      VL/VS = Av*(re/re+RS)*(RL/RL+RC) =')\n",
"format(6)\n",
"Ai=3.413\n",
"y=Ai*(RS/(RS+re))*(RC/(RC+RL))\n",
"disp(y,'      iL/iS = Ai*(RS/RS+re)*(RC/RC+RL) =')"
   ]
   }
,
{
		   "cell_type": "markdown",
		   "metadata": {},
		   "source": [
			"## Example 9.14: Ri_and_Ro_and_VL.sce"
		   ]
		  },
  {
"cell_type": "code",
	   "execution_count": null,
	   "metadata": {
	    "collapsed": true
	   },
	   "outputs": [],
"source": [
"//Example 9.14. refer fig.9.58.\n",
"clc\n",
"rc=1.5*10^6\n",
"RE=4.7*10^3\n",
"Ro=2.2*10^3\n",
"RS=20\n",
"RL=10*10^3\n",
"VS=20*10^-3\n",
"VEE=9\n",
"VBE=0.7\n",
"IE=(VEE-VBE)/RE\n",
"format(6)\n",
"x1=IE*10^3\n",
"disp(x1,'We know that,  IE(mA) = VEE-VBE / RE =')\n",
"format(5)\n",
"re=0.026/IE\n",
"disp(re,'      re(ohm) = 0.026 / IE =')\n",
"Zi=(RE*re)/(RE+re)\n",
"disp(Zi,'      Zi(ohm) = RE || re =')\n",
"Zo=(Ro*rc)/(Ro+rc)\n",
"x2=Zo*10^-3\n",
"disp(x2,'      Zo(k-ohm) = RC || re =')\n",
"format(6)\n",
"Av=Zo/Zi\n",
"disp(Av,'      Av = Zo/Zi = RC||rc/RE||re =')\n",
"format(5)\n",
"x=Av*(Zi/(RS+Zi))*(RL/(RL+Zo))\n",
"disp(x,'      VL/VS = Av*(Zi/RS+Zi)*(RL/RL+Zo) =')\n",
"format(6)\n",
"y=x*VS\n",
"disp(y,'      VL(rms) = Av*VS(rms) =')"
   ]
   }
,
{
		   "cell_type": "markdown",
		   "metadata": {},
		   "source": [
			"## Example 9.15: Zi_and_overall_voltage_gain.sce"
		   ]
		  },
  {
"cell_type": "code",
	   "execution_count": null,
	   "metadata": {
	    "collapsed": true
	   },
	   "outputs": [],
"source": [
"//Example 9.15.refer fig.9.59.\n",
"clc\n",
"beta=100\n",
"VCC=10\n",
"R2=4.7*10^3\n",
"R1=27*10^3\n",
"RE=680\n",
"RC=3.3*10^3\n",
"RS=600\n",
"RL=15*10^3\n",
"disp('Referring to fig.9.59(a),')\n",
"format(5)\n",
"VB=(10*4.7*10^3)/((27*10^3)+(4.7*10^3))\n",
"disp(VB,'      VB(V) = (R2 / R1+R2)*VCC =')  // answer in textbook is wrong\n",
"VE=1.39-0.7\n",
"disp(VE,'      VE(V) = 1.39 - 0.7 =')\n",
"format(4)\n",
"IE=VE/RE\n",
"x1=IE*10^3\n",
"disp(x1,'      IE(mA) = VE / RE =')\n",
"re=0.026/IE\n",
"disp(re,'      re(ohm) = 0.026/IE =')\n",
"x=beta*(re+RE)\n",
"format(5)\n",
"Zi=(R1*R2*x)/((R2*x)+(R1*x)+(R1+R2))  // answer in textbook is wrong\n",
"x2=Zi*10^-3\n",
"disp(x2,'      Zi(k-ohm) = R1 || R2 || beta*(re+RE) =')\n",
"format(4)\n",
"y=(-RC/(RE+re))*(Zi/(RS+Zi))*(RL/(RC+RL))\n",
"disp(y,'The overall voltage gain is VL/VS = (-RC/RE+re)*(Zi/RS+Zi)*(RL/RC+RL) =')\n",
"disp('Referring to fig.9.59(b),')\n",
"format(5)\n",
"u=beta*re\n",
"Zi=(R1*R2*u)/((R2*u)+(R1*u)+(R1*R2))\n",
"x3=Zi*10^-3\n",
"disp(x3,'      Zi(k-ohm) = R1 || R2 || betare =')\n",
"z=(-RC/re)*(Zi/(RS+Zi))*(RL/(RC+RL))  // answer in textbook is wrong\n",
"disp(z,'      VL/VS = (-RC/re)*(Zi/RS+Zi)*(RL/RC+RL) =')"
   ]
   }
,
{
		   "cell_type": "markdown",
		   "metadata": {},
		   "source": [
			"## Example 9.16: overall_voltage_gai.sce"
		   ]
		  },
  {
"cell_type": "code",
	   "execution_count": null,
	   "metadata": {
	    "collapsed": true
	   },
	   "outputs": [],
"source": [
"//Example 9.16. refer fig.9.53(b).\n",
"clc\n",
"RB1=7.5*10^3\n",
"RB2=6.8*10^3\n",
"RB3=3.3*10^3\n",
"RE=1.3*10^3\n",
"RC=2.2*10^3\n",
"beta1=120\n",
"beta2=120\n",
"VCC=18\n",
"VBE1=0.7\n",
"format(6)\n",
"disp('From the circuit given in Fig.9.53(b),')\n",
"disp('      IE2 = IE1 and hence, IC2 = IC1')\n",
"disp('Since,   beta1 = beta2')\n",
"disp('      IB1 = IC1/beta1 = IC2/beta = IB2')\n",
"disp('By voltage division,')\n",
"VB1=(RB3*VCC)/(RB3+RB2+RB1)\n",
"disp(VB1,'      VB1(V) = (RB3*VCC)/(RB3+RB2+RB1) =')\n",
"format(5)\n",
"IE1=(VB1-VBE1)/RE\n",
"x1=IE1*10^3\n",
"disp(x1,'      IE1(mA) = VE1/RE = (VB1-VBE1)/RE =')\n",
"format(6)\n",
"re1=(26*10^-3)/IE1\n",
"disp(re1,'      re1(ohm) = 26mV/IE1 =')\n",
"re2=re1\n",
"disp(re2,'      re2(ohm) =                 (since IE2 = IE1)')\n",
"disp('Voltage gain of the first stage,')\n",
"disp('      Av1 = -re1/re1 = -1')\n",
"disp('Voltage gain of the second stage,')\n",
"format(7)\n",
"Av2=RC/re2\n",
"disp(Av2,'      Av2 = RC / re2 =')\n",
"disp('Overall voltage gain,')\n",
"Av1=-1\n",
"Av=Av1*Av2\n",
"disp(Av,'      Av = Av1*Av2 =')"
   ]
   }
,
{
		   "cell_type": "markdown",
		   "metadata": {},
		   "source": [
			"## Example 9.17: Av_and_Zi_and_Zo.sce"
		   ]
		  },
  {
"cell_type": "code",
	   "execution_count": null,
	   "metadata": {
	    "collapsed": true
	   },
	   "outputs": [],
"source": [
"//Example 9.17. refer fig.10.66(b).\n",
"clc\n",
"format(6)\n",
"RD=5*10^3\n",
"RG=10*10^6\n",
"u=50\n",
"rd=35*10^3\n",
"disp('The voltage gain,')\n",
"Av=(-u*RD)/(RD+rd)\n",
"disp(Av,'      Av = Vo/Vi = -u*RD / RD+rd =')\n",
"disp('The minus sign indicates a 180 degree phase shift between Vi and Vo')\n",
"Zi=RG*10^-6\n",
"disp(Zi,'Input impedance  Zi(M-ohm) = RG =')\n",
"Zo=RD*10^-3\n",
"disp(Zo,'Output impedance  Zo(k-ohm) = RD =')"
   ]
   }
,
{
		   "cell_type": "markdown",
		   "metadata": {},
		   "source": [
			"## Example 9.18: Av_and_Zi_and_Zo.sce"
		   ]
		  },
  {
"cell_type": "code",
	   "execution_count": null,
	   "metadata": {
	    "collapsed": true
	   },
	   "outputs": [],
"source": [
"//Example 9.18. refer fig.9.67(b)\n",
"clc\n",
"format(6)\n",
"RS=4*10^3\n",
"RG=10*10^6\n",
"u=50\n",
"rd=35*10^3\n",
"disp('The voltage gain,')\n",
"Av=(u*RS)/(((1+u)*RS)+rd)\n",
"disp(Av,'      Av = Vo/Vi = u*RS / (u+1)*RS+rd =')\n",
"disp('The positive value indicates that Vo and Vi are in-phase and further note that Av < 1 for CD amplifier.')\n",
"disp('Input impedance,  Zi = RG = 10 M-ohm')\n",
"x=rd/u\n",
"Zo=(x*RS)/(RS+x)\n",
"disp(Zo,'Output impedance,  Zo(ohm) = 1/gm || RS = (rd/u) || RS =')"
   ]
   }
,
{
		   "cell_type": "markdown",
		   "metadata": {},
		   "source": [
			"## Example 9.19: Av_and_Zi_and_Zo.sce"
		   ]
		  },
  {
"cell_type": "code",
	   "execution_count": null,
	   "metadata": {
	    "collapsed": true
	   },
	   "outputs": [],
"source": [
"//Example 9.19. refer fig.9.68(b)\n",
"clc\n",
"format(5)\n",
"RD=2*10^3\n",
"RS=1*10^3\n",
"gm=1.43*10^-3\n",
"rd=35*10^3\n",
"disp('The voltage gain,')\n",
"Av=(((gm*rd)+1)*RD)/(RD+rd)\n",
"disp(Av,'   Av = Vo/Vi = (gm*rd + 1)*RD / (RD+rd) =')\n",
"x=1/gm\n",
"Zi=(RS*x)/(RS+x)\n",
"x1=Zi*10^-3\n",
"disp(x1,'Input impedance,  Zi(k-ohm) = RS || 1/gm =')\n",
"disp('Output impedance,  Zo ~ RD = 2 k-ohm')"
   ]
   }
,
{
		   "cell_type": "markdown",
		   "metadata": {},
		   "source": [
			"## Example 9.1: Ai_and_Ri_and_Av_and_Ro.sce"
		   ]
		  },
  {
"cell_type": "code",
	   "execution_count": null,
	   "metadata": {
	    "collapsed": true
	   },
	   "outputs": [],
"source": [
"//Example 9.1.\n",
"clc\n",
"format(7)\n",
"disp('  Exact analysis :')\n",
"AI=(-50)/(1+((25*10^-6)*(10^3)))\n",
"disp(AI,'Current gain,  AI = -hfe / 1+hoe*RL =')\n",
"Ri=1000-((50*2*10^-4)/((25*10^-6)+(1/1000)))  //in ohm\n",
"disp(Ri,'Input resistance,  Ri(ohm) = hie - (hfe*hre / hoe+(1/RL)) =')\n",
"Av=(-48.78)*(1000/990.24)\n",
"disp(Av,'Voltage gain,    Av = AI*(RL/Ri) =')\n",
"disp('Output resistance,  Ro')\n",
"format(10)\n",
"Yo=(25*10^-6)-((100*10^-4)/(1000+800))  //in mho\n",
"disp(Yo,'      Yo(mho) = hoe - (hfe*hre / hie+Rs) =')\n",
"format(6)\n",
"Ro=1/Yo //in ohm\n",
"x1=Ro*10^-3\n",
"disp(x1,'      Ro(k-ohm) = 1/Yo =')\n",
"disp('  Approximate analysis')\n",
"disp('        AI = -hfe = -50')\n",
"disp('        Ri = hie = 1 k-ohm')\n",
"Av=-(50*1000)/1000\n",
"disp(Av,'        Av = - hfe*RL / hie =')\n",
"disp('        Ro = infinity')"
   ]
   }
,
{
		   "cell_type": "markdown",
		   "metadata": {},
		   "source": [
			"## Example 9.20: the_percentage_difference.sce"
		   ]
		  },
  {
"cell_type": "code",
	   "execution_count": null,
	   "metadata": {
	    "collapsed": true
	   },
	   "outputs": [],
"source": [
"//Example 9.20.\n",
"clc\n",
"disp('  In the first set,')\n",
"Vid=100-(-100) //in uV\n",
"disp(Vid,'    Vid = Vd(uV) = V1 = V2 =')\n",
"Vc=(1/2)*(100+(-100)) // in uV\n",
"disp(Vc,'      Vc(uV) = 1/2(V1+V2) =')\n",
"disp('  Vo = Ad*Vid * [1 + 1/CMRR * Vc/Vid]')\n",
"disp('     = Ad*200 * [1 + 1/1000 * 0/200] = 200*Ad uV               Eq.1')\n",
"disp('  In the second set,')\n",
"Vd=1100-900 // in uV\n",
"disp(Vd,'      Vd(uV) = V1 - V2 =')\n",
"Vc=(1/2)*(1100+900)\n",
"disp(Vc,'      Vc(uV) = 1/2(V1+V2) =')\n",
"disp('Hence,  Vo = Ad*Vid * [1 + 1/CMRR * Vc/Vid]')\n",
"disp('           = Ad*200 * [1 + 1/1000 * 1000/200] = 201*Ad uV            Eq.2')\n",
"disp('Comparing Eq.1 and 2, the output voltages for the two sets of input signals result in a 0.5% difference.')\n",
"disp('Thought the difference voltage Vd = 200 uV in both the cases, the output is not the same and hence the effect of common mode voltage Vc has same influence in the output voltage and it decreases with increase in CMRR.')\n",
"disp('When CMRR = 10000, a similar analysis as that of case (i) gives')\n",
"disp('        Vo = Ad*200 * [1 + 1/10000 * 1000/200] = 200.1*Ad uV')\n",
"disp('Here the output voltages differ by 0.05%. Hence as the CMRR increases, the difference between the output voltages decreases.')"
   ]
   }
,
{
		   "cell_type": "markdown",
		   "metadata": {},
		   "source": [
			"## Example 9.21: Qpoint_and_Vc_and_IB.sce"
		   ]
		  },
  {
"cell_type": "code",
	   "execution_count": null,
	   "metadata": {
	    "collapsed": true
	   },
	   "outputs": [],
"source": [
"//Example 9.21. refer fig.9.87.\n",
"clc\n",
"format(6)\n",
"VEE=15\n",
"VBE=0.7\n",
"REE=65*10^3\n",
"disp('The emitter current can be found by writing a loop equation starting at the base of Q1')\n",
"disp('    VBE + 2*IE*REE - VEE = 0')\n",
"IE = (VEE - VBE)/(2*REE)\n",
"IE1=IE*10^6\n",
"disp(IE1,'     IE(uA) = (VEE - VBE)/2*REE =')\n",
"alphaF=100/101\n",
"IC=(alphaF*IE)\n",
"IC1=IC*10^6\n",
"disp(IC1,'    IC(uA) = alpha_F*IE =')\n",
"betaF=100\n",
"IB=IC/betaF\n",
"IB1=IB*10^6\n",
"disp(IB1,'    IB(uA) = IC / beta_F =')\n",
"VCC=VEE\n",
"RC=REE\n",
"VC=VCC-(IC*RC)\n",
"disp(VC,'    VC(V) = VCC - IC*RC =')\n",
"VE=-0.7\n",
"VCE=VC - VE\n",
"disp(VCE,'    VCE(V) = VC - VE =')\n",
"disp('Both transistor of the differential amplifier are based at a Q-point(108.9 uA, 8.621 V) with IB = 1.089 uA and VC = 7.921 V')\n",
"disp('As VEE >> VBE, IE can be approximated by')\n",
"format(7)\n",
"IE=(VEE/(2*REE))*10^6\n",
"disp(IE,'    IE(uA) = VEE / 2*REE =')"
   ]
   }
,
{
		   "cell_type": "markdown",
		   "metadata": {},
		   "source": [
			"## Example 9.22: Qpoint_and_maximum_VIC.sce"
		   ]
		  },
  {
"cell_type": "code",
	   "execution_count": null,
	   "metadata": {
	    "collapsed": true
	   },
	   "outputs": [],
"source": [
"//Example 9.22. refer fig.9.88\n",
"clc\n",
"format(6)\n",
"VDD=12\n",
"VSS=VDD\n",
"ISS=175*10^-6\n",
"RD=65*10^3\n",
"Kn=3*10^-3\n",
"VTN=1\n",
"IDS=ISS/2\n",
"IDS1=IDS*10^6\n",
"disp(IDS1,'    IDS(uA) = ISS / 2 =')\n",
"VGS=VTN+sqrt(ISS/Kn)\n",
"disp(VGS,'    VGS(V) = VTH + sqrt(ISS/Kn) =')\n",
"format(5)\n",
"VDS=VDD-(IDS*RD)+VGS\n",
"disp(VDS,'    VDS(V) = VDD - (IDS*RD) + VGS =')\n",
"disp('Checking for saturation,')\n",
"format(6)\n",
"x=VGS-VTN\n",
"disp(x,'     VGS - VTN =')\n",
"disp('and VDS >= 0.2. Thus, both transistors in the differential amplifier are baised at Q-point of :')\n",
"disp(IDS1)\n",
"format(5)\n",
"disp(VDS)\n",
"disp('Requiring saturation of M1 for non zero VIC,')\n",
"disp('    VGD = VIC - (VDD - IDS*RD) <= VTN')\n",
"disp('    VIC <= VDD - ID*RD + VTN')\n",
"VIC = VDD - IDS*RD + VTN\n",
"disp(VIC,'    VIC(V) =')"
   ]
   }
,
{
		   "cell_type": "markdown",
		   "metadata": {},
		   "source": [
			"## Example 9.23: ICQ_and_VCEQ_and_Ad_and_Ac.sce"
		   ]
		  },
  {
"cell_type": "code",
	   "execution_count": null,
	   "metadata": {
	    "collapsed": true
	   },
	   "outputs": [],
"source": [
"//Example 9.23. refer fig.9.89\n",
"clc\n",
"VS1=60*10^-3\n",
"VS2=40*10^-3\n",
"hie=3.2*10^3\n",
"hfe=100\n",
"VEE=12\n",
"VCC=VEE\n",
"VBE=0.7\n",
"beta=hfe\n",
"RE=5.6*10^3\n",
"RS=120\n",
"RC=4.5*10^3\n",
"Rc=4.5*10^-5\n",
"format(6)\n",
"IE=(VEE-VBE)/((2*RE)+(RS/beta))\n",
"IE1=IE*10^3\n",
"disp('beta = hfe = 100')\n",
"disp(IE1,'    IE(mA) = (VEE-VBE) / ((2*RE)+(RS/beta))')\n",
"IC=IE\n",
"disp('IC ~ IE = 1.009 mA')\n",
"disp(IE1,'    Therefore       ICQ(mA) =')\n",
"format(5)\n",
"VCE=VCC+VBE-(IC*Rc)\n",
"disp(VCE,'    VCE(V) = VCC + VBE - IC*RC =')  // answer in textbook is wrong\n",
"disp(VCE,'and      VCEQ(V) =')  // answer in textbook is wrong\n",
"disp('The differential gain is')\n",
"format(7)\n",
"Ad=(hfe*RC)/(RS+hie)\n",
"disp(Ad,'      Ad = hfe*RC / RS+hie =')\n",
"disp('Common mode gain is,')\n",
"format(7)\n",
"AC=(hfe*RC)/(((2*RE)*(1+hfe))+RS+hie)\n",
"disp(AC,'    AC = (hfe*Re) / (((2*RE)*(1+hfe)) + RS + hie) =')\n",
"format(8)\n",
"CMRR = Ad / AC\n",
"disp(CMRR,'CMRR = Ad / AC =')\n",
"format(7)\n",
"CMRR1=20*log10(135.54/0.3966)\n",
"disp(CMRR1,'CMRR(dB) = 20log|Ad/AC| =')\n",
"disp('The output voltage is Vo = Ad*Vd + AC*VC. Here,')\n",
"Vd=VS1-VS2\n",
"Vd1=Vd*10^3\n",
"disp(Vd1,'     Ad [mV(peak-peak)] = VS1 - VS2 =')\n",
"VC=(VS1+VS2)/2\n",
"VC1=VC*10^3\n",
"disp(VC1,'Then,      VC [mV(peak-peak)]= (VS1+VS2) / 2 =')\n",
"format(5)\n",
"Vo = Ad*Vd + AC*VC\n",
"disp(Vo,'Therefore,      Vo [V(peak-peak)] =')"
   ]
   }
,
{
		   "cell_type": "markdown",
		   "metadata": {},
		   "source": [
			"## Example 9.24: Ri_and_RLdash_and_Av_and_AVS_and_Ro.sce"
		   ]
		  },
  {
"cell_type": "code",
	   "execution_count": null,
	   "metadata": {
	    "collapsed": true
	   },
	   "outputs": [],
"source": [
"//Example 9.24. refer fig.9.90(a)\n",
"clc\n",
"hie=400\n",
"hre=2.1*10^-4\n",
"hfe=40\n",
"hoe=25*10^-6\n",
"RL=5*10^3\n",
"RC=3*10^3\n",
"disp('From the circuit 9.90(a),')\n",
"format(6)\n",
"Rth=(RL*RC)/(RL+RC)\n",
"RLd=hoe*(Rth)\n",
"disp(RLd,'  RL = hoe*(RL || RC) =')\n",
"disp('For equivalent circuit refer fig.9.90(b).')\n",
"Ri=(hie*100*10^3)/(hie+(100*10^3))\n",
"disp(Ri,'  Input resistance,    Ri = hie || 100k =')\n",
"R1=50*10^3\n",
"format(7)\n",
"Ro=(R1*RC*RL)/((RC*RL)+(R1*RL)+(R1*RC))\n",
"disp(Ro,'  Output resistance,    Ro = 50k || 3k || 5k =')\n",
"disp('    Vo/VS = (Vo/Vi) * (Vi/VS)')\n",
"disp('    Vo/Vi = (-hfe*RL) / hie')\n",
"x=(-hfe*Ro)/hie\n",
"disp(x,'Therefore,    Vo/Vi = -hfe*Ro / hie =')\n",
"disp('In the equivalent circuit,')\n",
"disp('    Vi = (VS*Ri) / (Ri+RS)')\n",
"RS=1*10^3\n",
"y=Ri/(Ri+RS)\n",
"disp(y,'    Vi/VS = Ri/(Ri+RS) =')\n",
"format(6)\n",
"Avs=abs(x*y)\n",
"disp(Avs,'Hence,    Avs = Vo/VS = (Vo/Vi)*(Vi/VS) =')"
   ]
   }
,
{
		   "cell_type": "markdown",
		   "metadata": {},
		   "source": [
			"## Example 9.2: AI_and_Ri_and_Av_and_Ro_and_RoT.sce"
		   ]
		  },
  {
"cell_type": "code",
	   "execution_count": null,
	   "metadata": {
	    "collapsed": true
	   },
	   "outputs": [],
"source": [
"//Example 9.2.\n",
"clc\n",
"RC=2*10^3\n",
"hie=1300\n",
"hre=2*10^-4\n",
"hfe=55\n",
"hoe=22*10^-6\n",
"disp('(i) For RE = 200 ohm,')\n",
"format(7)\n",
"RE=200\n",
"x=hoe*(RE+RC)\n",
"disp(x,'      hoe*(RE + RC) =')\n",
"disp('Since hoe*(RE+RC) < 0.1, the approximate model is permissible.')\n",
"format(6)\n",
"AI=-hfe\n",
"disp('      AI = -hfe = -55')\n",
"Ri=hie+((1+hfe)*RE)\n",
"x1=Ri*10^-3\n",
"disp(x1,'      Ri(k-ohm) = hie + (1+hfe)*RE =')\n",
"Av=AI*(RC/Ri)\n",
"disp(Av,'      Av = AI * (RC/Ri) =')\n",
"disp('Output resistance, Ro = infinity')\n",
"disp('Output terminal resistance, RoT = Ro || RC = 2 k-ohm')\n",
"disp('(ii) For RE = 400 ohm')\n",
"format(7)\n",
"RE=400\n",
"x2=hoe*(RE+RC)\n",
"disp(x2,'      hoe*(RE + RC) =')\n",
"disp('Since hoe*(RE+RC) < 0.1, the approximate model is permissible.')\n",
"format(6)\n",
"AI=-hfe\n",
"disp('      AI = -hfe = -55')\n",
"Ri=hie+((1+hfe)*RE)\n",
"x3=Ri*10^-3\n",
"disp(x3,'      Ri(k-ohm) = hie + (1+hfe)*RE =')\n",
"format(5)\n",
"Av=AI*(RC/Ri)\n",
"disp(Av,'      Av = AI * (RC/Ri) =')\n",
"disp('Output resistance, Ro = infinity')\n",
"disp('Output terminal resistance, RoT = Ro || RC = 2 k-ohm')\n",
"disp('(iii) For RE = 1000 ohm')\n",
"disp('Since hoe*(RE+RC) < 0.1, the approximate model is permissible.')\n",
"format(6)\n",
"AI=-hfe\n",
"disp('      AI = -hfe = -55')\n",
"Ri=1300+((1+55)*1000)\n",
"x3=Ri*10^-3\n",
"disp(x3,'      Ri(k-ohm) = hie + (1+hfe)*RE =')\n",
"Av=AI*(RC/Ri)\n",
"disp(Av,'      Av = AI * (RC/Ri) =')\n",
"disp('Output resistance, Ro = infinity')\n",
"disp('Output terminal resistance, RoT = Ro || RC = 2 k-ohm')"
   ]
   }
,
{
		   "cell_type": "markdown",
		   "metadata": {},
		   "source": [
			"## Example 9.3: AI_and_RI_and_Av_and_Ro.sce"
		   ]
		  },
  {
"cell_type": "code",
	   "execution_count": null,
	   "metadata": {
	    "collapsed": true
	   },
	   "outputs": [],
"source": [
"//Example 9.3.\n",
"clc\n",
"RS=900\n",
"RL=2000\n",
"hie=1200\n",
"hre=2*10^-4\n",
"hfe=60\n",
"hoe=25*10^-6\n",
"disp('Conversion formulae :')\n",
"hic=hie\n",
"disp('      hic = hie = 1200 ohm,')\n",
"hfc=-(1+hfe)\n",
"disp(hfc,'      hfc = -(1+hfe) =')\n",
"disp('hre = 1, hoc = hoe = 25 uA/V')\n",
"hoc=hoe\n",
"hre=1\n",
"disp('Exact analysis :')\n",
"format(7)\n",
"AI=-hfc/(1+(hoc*RL))\n",
"disp(AI,'Current gain,      AI = -hfe / (1 + (hoc*RL)) =')\n",
"format(8)\n",
"Ri=hic + (hre*AI*RL)\n",
"x1=Ri*10^-3\n",
"disp(x1,'Input impedance,      Ri(k-ohm) = hic + hrc*AI*RL =')\n",
"format(7)\n",
"Av=(AI*RL)/Ri\n",
"disp(Av,'Voltage gain,      Av = AI*RL / Ri =')\n",
"Yo=hoc-((hfc*hre)/(hic+RS))\n",
"disp('Output resistance, Ro :')\n",
"disp(Yo,'      Yo(mho) = 1/Ro = hoc - (hfc*hrc/hic+Rs) =')\n",
"Ro=1/Yo\n",
"disp(Ro,'      Ro(ohm) =')\n",
"disp('Approximate analysis :')\n",
"AI=1+hfe\n",
"disp(AI,'Current gain,      AI = 1 + hfe =')\n",
"Ri=hie+((1+hfe)*RL)\n",
"x2=Ri*10^-3\n",
"disp(x2,'Input impedance,      Ri(k-ohm) = hie + (1+hfe)RL =')\n",
"Av=1-(hie/Ri)\n",
"disp(Av,'Voltage gain,      Av = 1 - hie/Ri =')\n",
"disp('Output resistance,      Ro:')\n",
"format(6)\n",
"Yo=(1+hfe)/(hie+RS)\n",
"disp(Yo,'      Yo(mho) = (1+hfe) / (hie+RS) =')\n",
"Ro=1/Yo\n",
"disp(Ro,'      Ro(ohm) =')"
   ]
   }
,
{
		   "cell_type": "markdown",
		   "metadata": {},
		   "source": [
			"## Example 9.4: AI_and_Av_and_Ri_and_Ro.sce"
		   ]
		  },
  {
"cell_type": "code",
	   "execution_count": null,
	   "metadata": {
	    "collapsed": true
	   },
	   "outputs": [],
"source": [
"//Example 9.4.refer fig.9.14.\n",
"clc\n",
"hic=1.4*10^3\n",
"hfc=-100\n",
"hrc=1\n",
"hoc=20*10^-6\n",
"R1=20*10^3\n",
"RS=1*10^3\n",
"R2=20*10^3\n",
"RE=10*10^3\n",
"RL=40*10^3\n",
"disp('Current gain,        AI = -hfc / 1+hoc*RL''')\n",
"RLd=(RE*RL)/(RE+RL)\n",
"x1=RLd*10^-3\n",
"disp(x1,'where,        RL''(k-ohm) = RE || RL =')\n",
"format(5)\n",
"AI = -hfc / (1+(hoc*RLd))\n",
"disp(AI,'Therefore,  AI =')\n",
"Ri=hic+(hrc*AI*RLd)\n",
"x2=Ri*10^-3\n",
"disp(x2,'Input resistance,        Ri(k-ohm) = hic + hrc*AI*RL'' =')\n",
"format(6)\n",
"Av=(AI*RLd)/Ri\n",
"disp(Av,'Voltage gain,        Av = AI*RL'' / Ri =')\n",
"disp('Output resistance,        Ro = 1 / Yo')\n",
"disp('        Yo = hoc - (hfc*hrc)/(hic+RS'')')\n",
"format(4)\n",
"RSd=(RS*R1*R2)/((R1*R2)+(RS*R2)+(RS*R1))\n",
"x3=RSd*10^-3\n",
"disp(x3,'where,        RS''(k-ohm) = RS || R1 || R2 =')\n",
"format(6)\n",
"Yo = hoc - ((hfc*hrc)/(hic+RSd))\n",
"disp(Yo,'        Yo =')  // answer in textbook is wrong\n",
"Ro=1/0.0435\n",
"disp(Ro,'        Ro(ohm) =')\n",
"Rod=(Ro*RLd)/(Ro+RLd)\n",
"disp(Rod,'        Ro''(ohm) = Ro || RLdash =')"
   ]
   }
,
{
		   "cell_type": "markdown",
		   "metadata": {},
		   "source": [
			"## Example 9.5: AI_and_Ri_and_Av_and_Avs_and_Ais_and_Zo_and_Ap.sce"
		   ]
		  },
  {
"cell_type": "code",
	   "execution_count": null,
	   "metadata": {
	    "collapsed": true
	   },
	   "outputs": [],
"source": [
"//Example 9.5.\n",
"clc\n",
"Rs=1200\n",
"RL=1000\n",
"hib=22\n",
"hrb=3*10^-4\n",
"hfb=-0.98\n",
"hob=0.5*10^-6\n",
"format(5)\n",
"disp('      Exact analysis')\n",
"AI=-hfb/(1+(hob*RL))\n",
"disp(AI,'Current gain,      AI = -hfb / (1 + hob*RL) =')\n",
"Ri=hib+(hrb*AI*RL)\n",
"disp(Ri,'Input impedance,      Ri(ohm) = hib + hrb*AI*RL =')\n",
"format(7)\n",
"Av=(AI*RL)/Ri\n",
"disp(Av,'Voltage gain,      Av = AI*RL / Ri =')\n",
"format(6)\n",
"Avs=(Av*Ri)/(Ri+Rs)\n",
"disp(Avs,'Overall current gain,      Avc = Av*Ri / Ri+Rs =')\n",
"AIS=(AI*Rs)/(Ri+Rs)\n",
"disp(AIS,'Overall current gain,      AIS = AI*Rs / Ri+Rs =')\n",
"format(7)\n",
"Yo=hob-((hfb*hrb)/(hib+Rs))\n",
"x1=Yo*10^6\n",
"disp(x1,'Output admittance,      Yo(u-mho) = hob * (hfb*hrb / hib+Rs) =')\n",
"format(8)\n",
"Ro=1/Yo\n",
"x2=Ro*10^-6\n",
"disp(x2,'      Ro(M-ohm) = 1 / Yo =')\n",
"format(6)\n",
"AP=Av*AI\n",
"disp(AP,'Power gain,      AP = Av*AI =')\n",
"disp('')\n",
"disp('Approximate analysis')\n",
"AI=-hfb\n",
"disp(AI,'Current gain,      AI = -hfb =')\n",
"Ri=hib\n",
"disp(Ri,'Input impedance,      Ri(ohm) = hib =')\n",
"disp('Voltage gain,      Av = hfe*RL / hie')\n",
"disp('From Table 9.3,      hfb = -hfe / 1+hfe')\n",
"hfe = -hfb / (1+hfb)\n",
"disp(hfe,'Reaaranging this equation,      hfe = -hfb / 1+hfb =')\n",
"disp('From Table 9.3,      hib = hie / 1+hfe')\n",
"hie=hib*(1+hfe)\n",
"disp(hie,'      hie(ohm) = hib(1+hfe) =')\n",
"Av=hfe*RL / hie\n",
"disp(Av,'      Av =')\n",
"disp('Output impedance,      Ro = infinity')\n",
"Avs=(Av*Ri)/(Ri+Rs)\n",
"disp(Avs,'Overall voltage gain,      Avs = Av*Ri / Ri+Rs =')\n",
"AIS=(AI*Rs)/(Ri+Rs)\n",
"disp(AIS,'Overall current gain,      AIS = AI*Rs / Ri+Rs =')\n",
"AP=Av*AI\n",
"disp(AP,'Power gain,      AP = Av*AI =')"
   ]
   }
,
{
		   "cell_type": "markdown",
		   "metadata": {},
		   "source": [
			"## Example 9.6: Ai_and_Ri_and_Av_and_Ro.sce"
		   ]
		  },
  {
"cell_type": "code",
	   "execution_count": null,
	   "metadata": {
	    "collapsed": true
	   },
	   "outputs": [],
"source": [
"//Example 9.6.refer fig.9.16.\n",
"clc\n",
"hib=24\n",
"hfb=-0.98\n",
"hob=0.49*10^-6\n",
"hrb=2.9*10^-4\n",
"RS=600\n",
"RE=6*10^3\n",
"RC=12*10^3\n",
"RL=14*10^3\n",
"disp('Current gain,      AI = -hfb / 1+hob*RL''')\n",
"format(5)\n",
"RLd=(RC*RL)/(RC+RL)\n",
"x1=RLd*10^-3\n",
"disp(x1,'where,      RL''(k-ohm) = RC || RL =')\n",
"format(6)\n",
"AI=-hfb / (1+hob*RLd)\n",
"disp(AI,'      AI =')\n",
"disp('Input impedance Ri :')\n",
"Ri=hib+(hrb*AI*RLd)\n",
"disp(Ri,'      Ri(ohm) = hib + hrb*AI*RL'' =')\n",
"disp('Voltage gain Av :')\n",
"format(7)\n",
"Av=(AI*RLd)/Ri\n",
"disp(Av,'      Av = (AI*RL'') / Ri =')\n",
"disp('Output Resistance Ro :')\n",
"disp('The output admittance')\n",
"format(6)\n",
"RSd=(RS*RE)/(RS+RE)\n",
"Yo=hob-((hfb*hrb)/(hib+RSd))\n",
"x4=Yo*10^6\n",
"disp(x4,'      Yo(u-mho) = 1 / Ro = hob - (hfb*hrb / hib+RS'') =       where RS'' = RS || RE')\n",
"Ro=1/Yo\n",
"x2=Ro*10^-6\n",
"disp(x2,'      Ro(M-ohm) = 1 / Yo =')\n",
"format(5)\n",
"RSd=(Ro*RLd)/(Ro+RLd)\n",
"x3=RSd*10^-3\n",
"disp(x3,'      RS''(k-ohm) = Ro || RL'' =')"
   ]
   }
,
{
		   "cell_type": "markdown",
		   "metadata": {},
		   "source": [
			"## Example 9.7: Av_and_AI_and_Zi_and_Zo.sce"
		   ]
		  },
  {
"cell_type": "code",
	   "execution_count": null,
	   "metadata": {
	    "collapsed": true
	   },
	   "outputs": [],
"source": [
"//Example 9.7.refer fig.9.39\n",
"clc\n",
"hfe=60\n",
"hie=500\n",
"IC=3*10^-3\n",
"RB=220*10^3\n",
"RC=5.1*10^3\n",
"VCC=12\n",
"VBE=0.6\n",
"format(5)\n",
"disp('      RB = 200 k-ohm >> hie = 500 ohm')\n",
"disp('From h-parameter model')\n",
"beta=hfe\n",
"Zo=RC\n",
"Av=(-hfe*RC)/hie\n",
"disp('      Zi = hie = 500 ohm')\n",
"disp('      Zo = RC = 5.1 k-ohm')\n",
"disp(Av,'      Av = (-hfe*RC) / hie =')\n",
"disp('      AI = -hfe = -60')\n",
"disp('From re model')\n",
"disp('      Zi = beta*re      where re = 26mV / Ie')\n",
"Ib=(VCC - VBE)/RB\n",
"x1=Ib*10^6\n",
"disp(x1,'From the circuit,      Ib(uA) = (VCC - VBE) / RB =')\n",
"format(6)\n",
"Ie=beta*(51.8*10^-6)\n",
"x2=Ie*10^3\n",
"disp(x2,'      Ie(mA) = Ic = beta*Ib =')\n",
"format(5)\n",
"re = (26) / (3.108)\n",
"disp(re,'      re(ohm) = 26mV / Ie =')\n",
"format(6)\n",
"Zi = beta*8.37\n",
"disp(Zi,'      Zi(ohm) = beta*re =')\n",
"disp('      Zo = RC = 5.1 k-ohm')\n",
"Av=int(-RC/re)\n",
"disp(Av,'      Av = -RC / re =')\n",
"disp('      AI = -beta = -60')"
   ]
   }
,
{
		   "cell_type": "markdown",
		   "metadata": {},
		   "source": [
			"## Example 9.8: Zi_and_Zo_and_Av_and_Ai.sce"
		   ]
		  },
  {
"cell_type": "code",
	   "execution_count": null,
	   "metadata": {
	    "collapsed": true
	   },
	   "outputs": [],
"source": [
"//Example 9.8. refer fig.9.47\n",
"clc\n",
"hie=3.2*10^3\n",
"hfe=100\n",
"R1=40*10^3\n",
"R2=4.7*10^3\n",
"RC=4*10^3\n",
"VCC=16\n",
"VBE=0.6\n",
"RE=1.2*10^3\n",
"beta=100\n",
"disp('h-parameter analysis :')\n",
"disp('Zi = RB || hie')\n",
"format(4)\n",
"RB=(R1*R2)/(R1+R2)\n",
"x1=RB*10^-3\n",
"disp(x1,'      RB = R1 || R2 = 40 k-ohm || 4.7 k-ohm =')\n",
"format(5)\n",
"Zi=(RB*hie)/(RB+hie)\n",
"x2=Zi*10^-3\n",
"disp(x2,'      Zi = 4.2 k-ohm || 3.2 k-ohm =')\n",
"disp('      Zo = RC = 4 k-ohm')\n",
"Av=(-hfe*RC)/hie\n",
"disp(Av,'      Av = -hfe*RC / hie =')\n",
"format(6)\n",
"AI=(-hfe*RB)/(RB+hie)\n",
"disp(AI,'      AI = -hfe*RB / RB+hie =')\n",
"disp('Using r model :')\n",
"disp('To find IB,')\n",
"VB=(R2*VCC)/(R1+R2)\n",
"disp(VB,'      VB = R2*VCC / R1+R2')\n",
"disp('Using Thevenin equivalent for input part,')\n",
"IB=1.082/(125.4*10^3)\n",
"x3=IB*10^6\n",
"disp(x3,'IB(uA) = (VB-VBE) / (RB+((1+beta)*RE))')\n",
"format(5)\n",
"IC=beta*IB\n",
"x4=IC*10^3\n",
"disp(x4,'      IC(mA) = beta*IB =')\n",
"disp(x4,'      IE(mA) ~ IC(mA) =')\n",
"IE = IC\n",
"format(6)\n",
"re=(26*10^-3)/(0.86*10^-3)\n",
"disp(re,'      re(ohm) = 26mV / IE =')\n",
"format(5)\n",
"Zi=(RB*beta*re)/(RB+(beta*re))\n",
"x5=Zi*10^-3\n",
"disp(x5,'    Zi(k-ohm) = RB || beta*re')\n",
"disp(' Zo = RC = 4 k-ohm')\n",
"format(6)\n",
"Av=-RC/re\n",
"disp(Av,'      Av = -RC / re =')\n",
"format(7)\n",
"AI=(-100*(4.2*10^3))/((4.2*10^3)+(100*30.23))\n",
"disp(AI,'      AI = (-beta*RB) / (RB+(beta*re)) =')"
   ]
   }
,
{
		   "cell_type": "markdown",
		   "metadata": {},
		   "source": [
			"## Example 9.9: Zi_and_Zo_and_Av_and_Ai.sce"
		   ]
		  },
  {
"cell_type": "code",
	   "execution_count": null,
	   "metadata": {
	    "collapsed": true
	   },
	   "outputs": [],
"source": [
"//Example 9.9. refer fig 9.52.\n",
"clc\n",
"format(6)\n",
"VBE=0.6\n",
"VEE=8\n",
"VCC=10\n",
"RE=4*10^3\n",
"RC=3*10^3\n",
"IE=(VEE-VBE)/RE\n",
"x1=IE*10^3\n",
"disp(x1,'      |IE|(mA) = VEE-VBE / RE =')\n",
"re=(26*10^-3)/IE\n",
"disp(re,'      re(ohm) = 26mV / IE =')\n",
"Zi=(RE*re)/(RE+re)\n",
"disp(Zi,'      Zi(ohm) = RE || re =')\n",
"Zo=RC*10^-3\n",
"disp(Zo,'      Zo(k-ohm) = RC =')\n",
"format(7)\n",
"Av=3000/14.05\n",
"disp(Av,'      Av = RC / re =')\n",
"disp('      AI = 1')"
   ]
   }
],
"metadata": {
		  "kernelspec": {
		   "display_name": "Scilab",
		   "language": "scilab",
		   "name": "scilab"
		  },
		  "language_info": {
		   "file_extension": ".sce",
		   "help_links": [
			{
			 "text": "MetaKernel Magics",
			 "url": "https://github.com/calysto/metakernel/blob/master/metakernel/magics/README.md"
			}
		   ],
		   "mimetype": "text/x-octave",
		   "name": "scilab",
		   "version": "0.7.1"
		  }
		 },
		 "nbformat": 4,
		 "nbformat_minor": 0
}
