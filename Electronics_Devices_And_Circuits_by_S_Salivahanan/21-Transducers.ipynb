{
"cells": [
 {
		   "cell_type": "markdown",
	   "metadata": {},
	   "source": [
       "# Chapter 21: Transducers"
	   ]
	},
{
		   "cell_type": "markdown",
		   "metadata": {},
		   "source": [
			"## Example 21.1: value_of_electron_mobility.sce"
		   ]
		  },
  {
"cell_type": "code",
	   "execution_count": null,
	   "metadata": {
	    "collapsed": true
	   },
	   "outputs": [],
"source": [
"//Example 21.1.\n",
"clc\n",
"format(6)\n",
"u=10*200 // in cm^2/V-s\n",
"disp(u,'The electron mobility, un(cm^2/V-s) = sigma*RH =')"
   ]
   }
,
{
		   "cell_type": "markdown",
		   "metadata": {},
		   "source": [
			"## Example 21.2: value_of_electron_concentration.sce"
		   ]
		  },
  {
"cell_type": "code",
	   "execution_count": null,
	   "metadata": {
	    "collapsed": true
	   },
	   "outputs": [],
"source": [
"//Example 21.2.\n",
"clc\n",
"format(9)\n",
"n=10/((50*10^-4)*(1.6*10^-19))  // m^-3\n",
"disp('We know that the electron mobilty, un = sigma/nq')\n",
"disp('Therefore, the electron concentration,')\n",
"disp(n,'           n(m^-3) = sigma / uq =')"
   ]
   }
,
{
		   "cell_type": "markdown",
		   "metadata": {},
		   "source": [
			"## Example 21.3: value_of_electron_density.sce"
		   ]
		  },
  {
"cell_type": "code",
	   "execution_count": null,
	   "metadata": {
	    "collapsed": true
	   },
	   "outputs": [],
"source": [
"//Example 21.3.\n",
"clc\n",
"format(7)\n",
"n=(1.2*20)/(60*(1.6*10^-19)*(0.5*10^-3)) //  in m^3\n",
"disp('We know that the number of conduction electrons, i.e. electron density,')\n",
"disp(n,'       n(m^3) = B*I/VH*q*w =')"
   ]
   }
],
"metadata": {
		  "kernelspec": {
		   "display_name": "Scilab",
		   "language": "scilab",
		   "name": "scilab"
		  },
		  "language_info": {
		   "file_extension": ".sce",
		   "help_links": [
			{
			 "text": "MetaKernel Magics",
			 "url": "https://github.com/calysto/metakernel/blob/master/metakernel/magics/README.md"
			}
		   ],
		   "mimetype": "text/x-octave",
		   "name": "scilab",
		   "version": "0.7.1"
		  }
		 },
		 "nbformat": 4,
		 "nbformat_minor": 0
}
