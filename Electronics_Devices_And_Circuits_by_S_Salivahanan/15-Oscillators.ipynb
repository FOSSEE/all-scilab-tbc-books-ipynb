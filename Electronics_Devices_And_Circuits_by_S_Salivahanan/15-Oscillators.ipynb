{
"cells": [
 {
		   "cell_type": "markdown",
	   "metadata": {},
	   "source": [
       "# Chapter 15: Oscillators"
	   ]
	},
{
		   "cell_type": "markdown",
		   "metadata": {},
		   "source": [
			"## Example 15.10: C_and_hfe.sce"
		   ]
		  },
  {
"cell_type": "code",
	   "execution_count": null,
	   "metadata": {
	    "collapsed": true
	   },
	   "outputs": [],
"source": [
"//Example 15.10.\n",
"clc\n",
"format(6)\n",
"disp('(i) To find capacitance, C:')\n",
"disp('    Frequency of oscillation is')\n",
"disp('  fo = 1 / 2*pi*fo*R*C*sqrt(6+4K)')\n",
"disp('  C = 1 / 2*pi*fo*R*C*sqrt(6+4(Rc/R))')\n",
"fo=1/(2*%pi*(10*10^3)*(7.1*10^3)*sqrt(6+((4*40*10^3)/(7.1*10^3)))) // in Farady\n",
"x1=fo*10^9 // in nF\n",
"disp(x1,'  C(nF) =')\n",
"disp('(ii) To find hfe:')\n",
"disp('  We know that    hfe >= 23 + 29(R/Rc) + 4(Rc/R)')\n",
"h=23+(29*(7.1/40))+(4*(40/7.1))\n",
"disp(h,'                  hfe >=')"
   ]
   }
,
{
		   "cell_type": "markdown",
		   "metadata": {},
		   "source": [
			"## Example 15.11: value_of_capacitor.sce"
		   ]
		  },
  {
"cell_type": "code",
	   "execution_count": null,
	   "metadata": {
	    "collapsed": true
	   },
	   "outputs": [],
"source": [
"//Example 15.11.\n",
"clc\n",
"format(5)\n",
"C=1/(2*%pi*100000*10000) // in farady\n",
"x1=C*10^12 //in pF\n",
"disp('The operating frequency of a Wien-bridge oscillator is given by')\n",
"disp('    fo = 1 / 2*pi*R*C')\n",
"disp(x1,'Therefore,  C(pF) = 1 / 2*pi*R*fo =')"
   ]
   }
,
{
		   "cell_type": "markdown",
		   "metadata": {},
		   "source": [
			"## Example 15.12: series_and_parallel_resonant_freqency_and_Qfactor.sce"
		   ]
		  },
  {
"cell_type": "code",
	   "execution_count": null,
	   "metadata": {
	    "collapsed": true
	   },
	   "outputs": [],
"source": [
"//Example 15.12.\n",
"clc\n",
"format(6)\n",
"disp('(a) The series resonant frequencies of the crystal is')\n",
"fs=1/(2*%pi*sqrt(0.5*0.06*10^-12))  //in Hz\n",
"x1=fs*10^-3 //in kHz\n",
"disp(x1,'  fs(kHz) = 1 / 2*pi*sqrt(L*Cs) =')\n",
"format(5)\n",
"fs=(2*%pi*(918.9*10^3)*0.5)/(5*10^3)\n",
"disp(fs,'Q factor of the crystal at fs = omegaS*L / R = 2*pi*fs*L / R =')\n",
"disp('(b) The parallel resonant frequency of the crystal is')\n",
"fp=(1/(2*%pi))*sqrt((1.06*10^-12)/(0.5*(0.06*10^-12)*(1*10^-12))) // in Hz\n",
"x1=fp*10^-3\n",
"disp(x1,'  fp(kHz) = 1/2pi * sqrt((Cs+Cp)/(L*Cs*Cp)) =')\n",
"fp=(2*%pi*(946*10^3)*0.5)/(5*10^3)\n",
"disp(fp,'Q factor of the crystal at fp = omegaS*L / R = 2*pi*fs*L / R =')"
   ]
   }
,
{
		   "cell_type": "markdown",
		   "metadata": {},
		   "source": [
			"## Example 15.1: value_of_L1.sce"
		   ]
		  },
  {
"cell_type": "code",
	   "execution_count": null,
	   "metadata": {
	    "collapsed": true
	   },
	   "outputs": [],
"source": [
"//Example 15.1.\n",
"clc\n",
"format(5)\n",
"L1=(1/(4*(%pi^2)*((120*10^3)^2)*0.004*10^-6))-(0.4*10^-3)  //in henry\n",
"x1=L1*10^3 //in mH\n",
"disp('The frequency of Hartley oscillator is given by')\n",
"disp('    fo = 1 / 2*pi*sqrt((L1+L2)*C)')\n",
"disp(x1,'Therefore,  L1(mH) = (1 / 4*pi^2*fo^2*C) - L1 =')"
   ]
   }
,
{
		   "cell_type": "markdown",
		   "metadata": {},
		   "source": [
			"## Example 15.2: range_over_caacitor_is_varied.sce"
		   ]
		  },
  {
"cell_type": "code",
	   "execution_count": null,
	   "metadata": {
	    "collapsed": true
	   },
	   "outputs": [],
"source": [
"//Example 15.2.\n",
"clc\n",
"format(6)\n",
"disp('To find the range over which capacitance is to be varied')\n",
"disp('Frequency of oscillation of Hartley oscillator is')\n",
"disp('       fo = 1 / 2*pi*sqrt((L1-L2)*C)')\n",
"disp('Therfore,  C = 1 / 4*pi^2*(L1+L2)*fo^2')\n",
"disp('When fo = 950 kHz')\n",
"C=1/(4*(%pi^2)*((2*10^-3)+(20*10^-6))*((950*10^3)^2)) //farady\n",
"x1=C*10^12 //pF\n",
"disp(x1,'           C(pF) =')\n",
"disp('When fo = 2050 kHz')\n",
"C=1/(4*(%pi^2)*((2*10^-3)+(20*10^-6))*((2050*10^3)^2)) //farady\n",
"x1=C*10^12 //pF\n",
"format(5)\n",
"disp(x1,'           C(pF) =')\n",
"disp('Hence, the range of capacitance is from 2.98 pF to 13.89 pF')"
   ]
   }
,
{
		   "cell_type": "markdown",
		   "metadata": {},
		   "source": [
			"## Example 15.3: frequency_of_oscillation_and_feedback_ratio.sce"
		   ]
		  },
  {
"cell_type": "code",
	   "execution_count": null,
	   "metadata": {
	    "collapsed": true
	   },
	   "outputs": [],
"source": [
"//Example 15.3\n",
"clc\n",
"format(4)\n",
"L1=38*10^-6\n",
"L2=12*10^-6\n",
"C=500*10^-12\n",
"disp('    fo = 1 / 2*pi*sqrt(L*C)')\n",
"L=L1+L2\n",
"fo = 1 / (2*%pi*sqrt(L*C))\n",
"x1=fo*10^-6\n",
"disp('where  L = L1 + L2 = 38*10^-6 + 12*10^-6 = 50*10^-6 and C = 500 pF')\n",
"disp(x1,'Therefore,  fo(MHz) = 1 / 2*pi*sqrt(50*10^-6*500*10^-12) =')\n",
"beta=L1/L2\n",
"format(6)\n",
"disp(beta,'Feedback factor,  beta = L1 / L2 =')"
   ]
   }
,
{
		   "cell_type": "markdown",
		   "metadata": {},
		   "source": [
			"## Example 15.4: inductor_and_gain_for_oscillation.sce"
		   ]
		  },
  {
"cell_type": "code",
	   "execution_count": null,
	   "metadata": {
	    "collapsed": true
	   },
	   "outputs": [],
"source": [
"//Example 15.4.\n",
"clc\n",
"format(7)\n",
"C1=0.2*10^-6\n",
"C2=0.02*10^-6\n",
"fo=10*10^3\n",
"disp('The frequency of the Colpitts oscillator is given by')\n",
"disp('    fo = 1/2pi * sqrt(C1+C2/L*C1*C2)')\n",
"L=(C1+C2)/(4*%pi^2*fo^2*C1*C2)\n",
"x1=L*10^3\n",
"disp(x1,'Therefore,  L(mH) = (C1+C2) / (4*%pi^2*fo^2*C1*C2) =')\n",
"disp('The voltage gain required to produce oscillation is')\n",
"x2=C1/C2\n",
"disp(x2,'    Av > C1/C2 =')"
   ]
   }
,
{
		   "cell_type": "markdown",
		   "metadata": {},
		   "source": [
			"## Example 15.5: colpitts_osillator.sce"
		   ]
		  },
  {
"cell_type": "code",
	   "execution_count": null,
	   "metadata": {
	    "collapsed": true
	   },
	   "outputs": [],
"source": [
"//Example 15.5.\n",
"clc\n",
"format(5)\n",
"L=40*10^-3\n",
"C1=100*10^-12\n",
"C2=500*10^-12\n",
"Vo=10\n",
"disp('(i) In a Colpitts oscillator, a series combination of C1 and C2 which is in parallel with inductance L and frequency of oscillations is')\n",
"fo=1/ (2*%pi*sqrt((L*C1*C2)/(C1+C2)))\n",
"x1=fo*10^-3\n",
"disp(x1,'    fo(kHz) = 1 / 2pi*sqrt(LCeq) = 1 / 2pi*sqrt(L*C1*C2/C1+C2) =')\n",
"disp('(ii) The output potential is across C1 and is proportional to XC1, and the feedback voltage is across C2 and proportional to XC2. Therefore,')\n",
"disp('Vo/Vf = XC1/XC2 = (1/omega*C1)/(1/omegaC2) = C2/C1')\n",
"Vf=(Vo*C1)/C2\n",
"disp(Vf,'Hence,  Vf(V) = Vo*C1 / C2 =')\n",
"disp('(iii) Since the gain depends upon C1 and C2 only and is independent of L,')\n",
"gain=C2/C1\n",
"disp(gain,'  Gain = 500*10^-12 / 100*10^-12 =')\n",
"disp('(iv) When the gain is equal to 10, C2/C1 = 10')\n",
"x2=C2/10\n",
"x3=x2*10^12\n",
"disp(x3,'Therefore,  C1(pF) = C2 / 10 =')\n",
"disp('(v) The frequncy of oscillation is')\n",
"fo=1/ (2*%pi*sqrt((40*50*500*10^-27)/((50*10^-12)+(500*10^-12))))\n",
"x4=fo*10^-3\n",
"format(7)\n",
"disp(x4,'fo(kHz) =')"
   ]
   }
,
{
		   "cell_type": "markdown",
		   "metadata": {},
		   "source": [
			"## Example 15.6: range_of_variable_capacitor.sce"
		   ]
		  },
  {
"cell_type": "code",
	   "execution_count": null,
	   "metadata": {
	    "collapsed": true
	   },
	   "outputs": [],
"source": [
"//Example 15.6.\n",
"clc\n",
"format(6)\n",
"fo1=400*10^3\n",
"fo2=1200*10^3\n",
"Lp=60*10^-6\n",
"disp('The resonant frequency is given by')\n",
"disp('           fo = 1 / 2pi*sqrt(Lp*C)')\n",
"disp('Therefore,  C = 1 / 4*pi^2*fo^2*Lp')\n",
"C = 1 / (4*%pi^2*fo1^2*Lp)\n",
"x1=C*10^12\n",
"disp(x1,'When  fo = 400 kHz,  Cmax(pF) =')  // answer in textbook is wrong\n",
"C = 1 / (4*%pi^2*fo2^2*Lp)\n",
"x2=C*10^12\n",
"format(5)\n",
"disp(x2,'When  fo = 1200 kHz,  Cmin(pF) =')\n",
"disp('Hence, the capacitor range required is Cmin-Cmax pF')"
   ]
   }
,
{
		   "cell_type": "markdown",
		   "metadata": {},
		   "source": [
			"## Example 15.7: range_of_tuning_capacitor.sce"
		   ]
		  },
  {
"cell_type": "code",
	   "execution_count": null,
	   "metadata": {
	    "collapsed": true
	   },
	   "outputs": [],
"source": [
"//Example 15.7.\n",
"clc\n",
"format(6)\n",
"fo1=540*10^3\n",
"fo2=1650*10^3\n",
"L=1*10^-3\n",
"disp('Given L = 1 mH')\n",
"disp('fo ranges from 540-1650 kHz')\n",
"disp('The resonant frequency is given by')\n",
"disp('           fo = 1 / 2pi*sqrt(L*C)')\n",
"disp('Therefore,  C = 1 / 4*pi^2*fo^2*L')\n",
"Cmax = 1 / (4*%pi^2*fo1^2*L)\n",
"x1=Cmax*10^12\n",
"disp(x1,'When  fo = 540 kHz,  Cmax(pF) =')\n",
"Cmin = 1 / (4*%pi^2*fo2^2*L)\n",
"x2=Cmin*10^12\n",
"format(4)\n",
"disp(x2,'When  fo = 1650 kHz,  Cmin(pF) =')\n",
"disp('Hence, the capacitor range required is 9.3-86.87 pF')"
   ]
   }
,
{
		   "cell_type": "markdown",
		   "metadata": {},
		   "source": [
			"## Example 15.8: frequency_of_oscillation.sce"
		   ]
		  },
  {
"cell_type": "code",
	   "execution_count": null,
	   "metadata": {
	    "collapsed": true
	   },
	   "outputs": [],
"source": [
"//Example 15.8.\n",
"clc\n",
"format(6)\n",
"fo=1/(2*%pi*(200*10^3)*(100*10^-12)*sqrt(6)) //in Hz\n",
"x1=fo*10^-3 //in kHz\n",
"disp('The frequency of RC phase shift oscillator is given by')\n",
"disp('      fo = 1 / 2*pi*R*C*sqrt(6)')\n",
"disp(x1,' fo(KHz) =')"
   ]
   }
,
{
		   "cell_type": "markdown",
		   "metadata": {},
		   "source": [
			"## Example 15.9: minimum_current_gain.sce"
		   ]
		  },
  {
"cell_type": "code",
	   "execution_count": null,
	   "metadata": {
	    "collapsed": true
	   },
	   "outputs": [],
"source": [
"//Example 15.9.\n",
"clc\n",
"format(5)\n",
"fo=1/(2*3.142*10000*(0.01*10^-6)*sqrt(6+((4*2.2*10^3)/(10000)))) //in Hz\n",
"disp('The frequency of oscillations of a RC phase shift oscillator is')\n",
"disp('  fo = 1 / 2*pi*R*C*sqrt(6+(4*Rc/R))')\n",
"disp('Substituting the given values, we get')\n",
"disp(fo,'fo(Hz) =')\n",
"disp('For sustained oscillations, the minimum value of current gain or forward current gain hfe is')\n",
"disp('         beta = hfe = 23 + 29(R/Rc) + 4(Rc/R)')\n",
"format(6)\n",
"beta=23+(29*(10/2.2))+(4*(2.2/10))\n",
"disp(beta,'Therefore, beta =')"
   ]
   }
],
"metadata": {
		  "kernelspec": {
		   "display_name": "Scilab",
		   "language": "scilab",
		   "name": "scilab"
		  },
		  "language_info": {
		   "file_extension": ".sce",
		   "help_links": [
			{
			 "text": "MetaKernel Magics",
			 "url": "https://github.com/calysto/metakernel/blob/master/metakernel/magics/README.md"
			}
		   ],
		   "mimetype": "text/x-octave",
		   "name": "scilab",
		   "version": "0.7.1"
		  }
		 },
		 "nbformat": 4,
		 "nbformat_minor": 0
}
