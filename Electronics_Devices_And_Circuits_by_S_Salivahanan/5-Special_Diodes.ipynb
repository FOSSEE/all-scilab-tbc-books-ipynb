{
"cells": [
 {
		   "cell_type": "markdown",
	   "metadata": {},
	   "source": [
       "# Chapter 5: Special Diodes"
	   ]
	},
{
		   "cell_type": "markdown",
		   "metadata": {},
		   "source": [
			"## Example 5.1: barrier_height_and_built_in_potential.sce"
		   ]
		  },
  {
"cell_type": "code",
	   "execution_count": null,
	   "metadata": {
	    "collapsed": true
	   },
	   "outputs": [],
"source": [
"//Exmaple 5.1.\n",
"clc\n",
"format(6)\n",
"thetaM=4.26 //work function\n",
"chi=4.01 //electron affinity\n",
"thetaBN=thetaM-chi\n",
"disp('The barrier height for N-type material is,')\n",
"disp(thetaBN,'    Theta_BN(V) = Theta_M - Chi = ')\n",
"thetaIN=thetaBN-((((1.38*10^-23)*300)/(1.6*10^-19)))*log((2.8*10^25)/(4*10^17))\n",
"disp('The built-in potential is given by,')\n",
"disp(thetaIN,'    Theta_IN(V) = Theta_BN - (kT/q)*ln(NC/ND) =')  // answer in the textbook is wrong, even if we take log10 we get a answer 0.047."
   ]
   }
],
"metadata": {
		  "kernelspec": {
		   "display_name": "Scilab",
		   "language": "scilab",
		   "name": "scilab"
		  },
		  "language_info": {
		   "file_extension": ".sce",
		   "help_links": [
			{
			 "text": "MetaKernel Magics",
			 "url": "https://github.com/calysto/metakernel/blob/master/metakernel/magics/README.md"
			}
		   ],
		   "mimetype": "text/x-octave",
		   "name": "scilab",
		   "version": "0.7.1"
		  }
		 },
		 "nbformat": 4,
		 "nbformat_minor": 0
}
