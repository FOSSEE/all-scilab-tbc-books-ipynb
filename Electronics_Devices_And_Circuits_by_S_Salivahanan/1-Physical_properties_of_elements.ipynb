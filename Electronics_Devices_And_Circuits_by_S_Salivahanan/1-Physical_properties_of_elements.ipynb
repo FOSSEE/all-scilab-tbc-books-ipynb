{
"cells": [
 {
		   "cell_type": "markdown",
	   "metadata": {},
	   "source": [
       "# Chapter 1: Physical properties of elements"
	   ]
	},
{
		   "cell_type": "markdown",
		   "metadata": {},
		   "source": [
			"## Example 1.1: Finding_radii.sce"
		   ]
		  },
  {
"cell_type": "code",
	   "execution_count": null,
	   "metadata": {
	    "collapsed": true
	   },
	   "outputs": [],
"source": [
"//Example 1.1.\n",
"format(6)\n",
"epsilon=8.854*10^-12\n",
"h=6.62*10^-34 //planck's constant\n",
"m=9.1*10^-31 //mass of electron\n",
"q=1.6*10^-19 //charge of electron\n",
"for n=1\n",
"r1=(epsilon*(h^2)*(n^2))/(%pi*m*(q^2)) //radius of 1st orbit for hydrogen\n",
"x1=r1*10^10  // in A.U\n",
"disp(x1,'r1(A.U)=')\n",
"end\n",
"for n=2\n",
"r2=(epsilon*(h^2)*(n^2))/(%pi*m*(q^2)) //radius of 2st orbit for hydrogen\n",
"x2=r2*10^10  // in A.U\n",
"disp(x2,'r2(meters)=')\n",
"end\n",
"for n=3\n",
"r3=(epsilon*(h^2)*(n^2))/(%pi*m*(q^2)) //radius of 3st orbit for hydrogen\n",
"x3=r3*10^10  // in A.U\n",
"disp(x3,'r3(meters)=')\n",
"end"
   ]
   }
,
{
		   "cell_type": "markdown",
		   "metadata": {},
		   "source": [
			"## Example 1.2: Finding_wavelength.sce"
		   ]
		  },
  {
"cell_type": "code",
	   "execution_count": null,
	   "metadata": {
	    "collapsed": true
	   },
	   "outputs": [],
"source": [
"//Example 1.2.\n",
"format(7)\n",
"E1=-13.6; //energy of 10th state\n",
"E10=-13.6/10^2; //enery in the ground state\n",
"lamda=12400/(E10-E1); //wavelength of emitted photon\n",
"disp('The wavelength in Armstrong units is given by, lamda = 12400 / E2-E1')\n",
"disp('Since the hydrogen atoms goes from n=10 state to the ground state, lamda = 12400 / E10-E1')\n",
"disp('The energy of the 10th state is E10 = -13.6 / 10^2 = -0.136 eV')\n",
"disp('The energy in the ground state is E1 = -13.6 eV')\n",
"disp(lamda,'Wavelenth of the emitted photon is(Armstrong) =');"
   ]
   }
,
{
		   "cell_type": "markdown",
		   "metadata": {},
		   "source": [
			"## Example 1.3: wavelength_of_the_Balmer_series.sce"
		   ]
		  },
  {
"cell_type": "code",
	   "execution_count": null,
	   "metadata": {
	    "collapsed": true
	   },
	   "outputs": [],
"source": [
"//Example 1.3.\n",
"format(6)\n",
"Einfinity=0 //energy of electron at infinite orbit\n",
"E2=-13.6/2^2 //energy of electron at second orbit\n",
"wavelength=12400/(Einfinity-E2) //wavelength limit\n",
"disp('Wavelength of the Balmer series limit = 12400 / Einfinity-E2')\n",
"disp('Energy of the electron at the infinity orbit, Einfinity = -13.6 / infinity^2 = 0')\n",
"disp('Energy of the electron at the second orbit, E2 = -13.6 / 2^2 = -3.4')\n",
"disp(wavelength,'the wavelength limit(A.U) = 12400 / Einfinity-E2 =')"
   ]
   }
],
"metadata": {
		  "kernelspec": {
		   "display_name": "Scilab",
		   "language": "scilab",
		   "name": "scilab"
		  },
		  "language_info": {
		   "file_extension": ".sce",
		   "help_links": [
			{
			 "text": "MetaKernel Magics",
			 "url": "https://github.com/calysto/metakernel/blob/master/metakernel/magics/README.md"
			}
		   ],
		   "mimetype": "text/x-octave",
		   "name": "scilab",
		   "version": "0.7.1"
		  }
		 },
		 "nbformat": 4,
		 "nbformat_minor": 0
}
