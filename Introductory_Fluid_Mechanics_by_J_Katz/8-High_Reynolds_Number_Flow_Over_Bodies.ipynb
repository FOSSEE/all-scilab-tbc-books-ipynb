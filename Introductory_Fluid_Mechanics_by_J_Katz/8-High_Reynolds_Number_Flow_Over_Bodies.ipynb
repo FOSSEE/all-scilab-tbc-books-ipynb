{
"cells": [
 {
		   "cell_type": "markdown",
	   "metadata": {},
	   "source": [
       "# Chapter 8: High Reynolds Number Flow Over Bodies"
	   ]
	},
{
		   "cell_type": "markdown",
		   "metadata": {},
		   "source": [
			"## Example 8.10: Chapter8_Example10.sce"
		   ]
		  },
  {
"cell_type": "code",
	   "execution_count": null,
	   "metadata": {
	    "collapsed": true
	   },
	   "outputs": [],
"source": [
"clc\n",
"//initialization of new variables\n",
"clear\n",
"u=25 //km/h\n",
"t=1 //h\n",
"S=0.36 //m^2\n",
"Cd=0.88\n",
"r=1.2 //kg/m^3\n",
"//calculations\n",
"D=Cd*1/2*r*(u/3.6)^2*(S)\n",
"P=D*u/3.6\n",
"E=P*t*3600\n",
"//results\n",
"printf('Drag force = %.2f N',D)\n",
"printf('\n Power = %.2f W',P)\n",
"printf('\n Energy spent is %.1f KJ',E/1000)\n",
""
   ]
   }
,
{
		   "cell_type": "markdown",
		   "metadata": {},
		   "source": [
			"## Example 8.11: Chapter8_Example11.sce"
		   ]
		  },
  {
"cell_type": "code",
	   "execution_count": null,
	   "metadata": {
	    "collapsed": true
	   },
	   "outputs": [],
"source": [
"clc\n",
"//initialization of new variables\n",
"clear\n",
"u=20 //km/h\n",
"Cd=0.15\n",
"S=4 //m^2\n",
"r=1025 //kg/m^3\n",
"//calculations\n",
"D=Cd*1/2*r*(u/3.6)^2*(S)\n",
"P=D*u/3.6\n",
"//results\n",
"printf('Drag force = %d N',D)\n",
"printf('\n Power = %.2f KW',P/1000)"
   ]
   }
,
{
		   "cell_type": "markdown",
		   "metadata": {},
		   "source": [
			"## Example 8.12: Chapter8_Example12.sce"
		   ]
		  },
  {
"cell_type": "code",
	   "execution_count": null,
	   "metadata": {
	    "collapsed": true
	   },
	   "outputs": [],
"source": [
"clc\n",
"//initialization of new variables\n",
"clear\n",
"m=90 //kg\n",
"D=6 //m\n",
"g=9.8 //m/s^2\n",
"r=1.2 //kg/m^3\n",
"Cd=1.2\n",
"//calculations\n",
"R=D/2\n",
"S=%pi*R^2\n",
"U=sqrt(2*m*g/(Cd*r*S))\n",
"//results\n",
"printf('U = %.2f m/s',U)"
   ]
   }
,
{
		   "cell_type": "markdown",
		   "metadata": {},
		   "source": [
			"## Example 8.13: Chapter8_Example13.sce"
		   ]
		  },
  {
"cell_type": "code",
	   "execution_count": null,
	   "metadata": {
	    "collapsed": true
	   },
	   "outputs": [],
"source": [
"clc\n",
"//initialization of new variables\n",
"clear\n",
"Cd=0.32\n",
"S=1.8 //m^2\n",
"Pe=300 //hp\n",
"u=100 //km/h\n",
"r=1.2 //kg/m^3\n",
"//calculations\n",
"D=Cd*1/2*r*(u/3.6)^2*(S)\n",
"P=D*u/3.6\n",
"//result\n",
"printf('Power required = %.1f kW = %.1f hp',P/1000,P*1.341/1000)"
   ]
   }
,
{
		   "cell_type": "markdown",
		   "metadata": {},
		   "source": [
			"## Example 8.14: Chapter8_Example14.sce"
		   ]
		  },
  {
"cell_type": "code",
	   "execution_count": null,
	   "metadata": {
	    "collapsed": true
	   },
	   "outputs": [],
"source": [
"clc\n",
"//initialization of new variables\n",
"clear\n",
"D=0.3 //m\n",
"u=35 //m/s\n",
"r=1.2 //kg/m^3\n",
"mu=1.81*10^-5\n",
"St=0.23\n",
"//calculations\n",
"Re=r*u*D/mu\n",
"f=St*u/D\n",
"//results\n",
"printf('So there are %d full cycles per second',f)"
   ]
   }
,
{
		   "cell_type": "markdown",
		   "metadata": {},
		   "source": [
			"## Example 8.15: Chapter8_Example15.sce"
		   ]
		  },
  {
"cell_type": "code",
	   "execution_count": null,
	   "metadata": {
	    "collapsed": true
	   },
	   "outputs": [],
"source": [
"clc\n",
"//initialization of new variables\n",
"clear\n",
"w=2 //m\n",
"u=100 //km/h\n",
"r=1.2 //kg/m^3\n",
"mu=1.81*10^-5\n",
"//calculations\n",
"D=w\n",
"Re=r*u*D/(3.6*mu)\n",
"St=0.23 //based on Re\n",
"f=St*u/(3.6*D)\n",
"l=u/(3.6*f)\n",
"//results\n",
"printf('Oscillation frequency is %.2f Hz',f)\n",
"printf('\n The distance between two cycles is %.2f m',l)"
   ]
   }
,
{
		   "cell_type": "markdown",
		   "metadata": {},
		   "source": [
			"## Example 8.16: Chapter8_Example16.sce"
		   ]
		  },
  {
"cell_type": "code",
	   "execution_count": null,
	   "metadata": {
	    "collapsed": true
	   },
	   "outputs": [],
"source": [
"clc\n",
"//initialization of new variables\n",
"clear\n",
"D=0.65 //cm\n",
"u=50 //km/h\n",
"r=1.2 //kg/m^3\n",
"mu=1.81*10^-5\n",
"//calculations\n",
"D=D*10^-2\n",
"Re=r*u*D/(3.6*mu)\n",
"St=0.21 //based on Re\n",
"f=St*u/(3.6*D)\n",
"//results\n",
"printf('So there are %d full cycles per second',f)"
   ]
   }
,
{
		   "cell_type": "markdown",
		   "metadata": {},
		   "source": [
			"## Example 8.17: Chapter8_Example17.sce"
		   ]
		  },
  {
"cell_type": "code",
	   "execution_count": null,
	   "metadata": {
	    "collapsed": true
	   },
	   "outputs": [],
"source": [
"clc\n",
"//initialization of new variables\n",
"clear\n",
"D=3 //cm\n",
"u=11 //m/s\n",
"w=7000 //RPM\n",
"r=1.2 //kg/m^3\n",
"//calculations\n",
"D=D*10^-2\n",
"R=D/2\n",
"S=%pi*R^2\n",
"Rw=R*2*%pi*w/60*1/u\n",
"Cl=0.27 //based on Rw\n",
"Cd=0.63 //based on Rw\n",
"L=Cl*0.5*r*u^2*S\n",
"D=Cd*0.5*r*u^2*S\n",
"//results\n",
"printf('Lift = %.3f N',L)\n",
"printf('\n Drag = %.3f N',D)"
   ]
   }
,
{
		   "cell_type": "markdown",
		   "metadata": {},
		   "source": [
			"## Example 8.18: Chapter8_Example18.sce"
		   ]
		  },
  {
"cell_type": "code",
	   "execution_count": null,
	   "metadata": {
	    "collapsed": true
	   },
	   "outputs": [],
"source": [
"clc\n",
"//initialization of new variables\n",
"clear\n",
"c=3.5 //m\n",
"u=20 //km/h\n",
"alpha=5 //degrees\n",
"r=1.2 //kg/m^3\n",
"//calculations\n",
"alpha=alpha*%pi/180\n",
"Cl=2*%pi*alpha\n",
"L=0.5*Cl*r*(u/3.6)^2*c*1\n",
"//results\n",
"printf('Lift per unit span is %.2f N',L)"
   ]
   }
,
{
		   "cell_type": "markdown",
		   "metadata": {},
		   "source": [
			"## Example 8.19: Chapter8_Example19.sce"
		   ]
		  },
  {
"cell_type": "code",
	   "execution_count": null,
	   "metadata": {
	    "collapsed": true
	   },
	   "outputs": [],
"source": [
"clc\n",
"//initialization of new variables\n",
"clear\n",
"m=50 //kg\n",
"r=1.2 //kg/m^3\n",
"u=150 //km/h\n",
"Cl=0.5\n",
"g=9.8 //m/s^2\n",
"//calculations\n",
"c=m*g/(0.5*r*(u/3.6)^2*Cl)\n",
"Cd=0.005 //from figure\n",
"r=Cl/Cd\n",
"//results\n",
"printf('The chord length required is %.2f m',c)\n",
"printf('\n Lift to Drag ratio is %d',r)"
   ]
   }
,
{
		   "cell_type": "markdown",
		   "metadata": {},
		   "source": [
			"## Example 8.1: Chapter8_Example1.sce"
		   ]
		  },
  {
"cell_type": "code",
	   "execution_count": null,
	   "metadata": {
	    "collapsed": true
	   },
	   "outputs": [],
"source": [
"clc\n",
"//initialization of new variables\n",
"clear\n",
"sigma=5 //m^2/s\n",
"x0=1\n",
"y0=1 //(x0,y0) location of source\n",
"x=0\n",
"y=-1\n",
"//calculations\n",
"u=sigma/(2*%pi)*(x-x0)/((x-x0)^2+(y-y0)^2)\n",
"w=sigma/(2*%pi)*(y-y0)/((x-x0)^2+(y-y0)^2)\n",
"//results\n",
"printf('u = %.3f m/s',u)\n",
"printf('\n w = %.3f m/s',w)"
   ]
   }
,
{
		   "cell_type": "markdown",
		   "metadata": {},
		   "source": [
			"## Example 8.20: Chapter8_Example20.sce"
		   ]
		  },
  {
"cell_type": "code",
	   "execution_count": null,
	   "metadata": {
	    "collapsed": true
	   },
	   "outputs": [],
"source": [
"clc\n",
"//initialization of new variables\n",
"clear\n",
"c=3.5 //m\n",
"b=10 //m\n",
"u=20 //km/h\n",
"r=1.2 //kg/m^3\n",
"a=5 //degrees\n",
"//calculations\n",
"a=a*%pi/180\n",
"Cl=2*%pi*a/(1+2*c/b)\n",
"L=Cl*0.5*r*(u/3.6)^2*(c*b)\n",
"AR=b/c\n",
"Cdi=Cl^2/(%pi*AR)\n",
"Di=Cdi*0.5*r*(u/3.6)^2*(c*b)\n",
"//results\n",
"printf('Lift = %.2f N',L)"
   ]
   }
,
{
		   "cell_type": "markdown",
		   "metadata": {},
		   "source": [
			"## Example 8.21: Chapter8_Example21.sce"
		   ]
		  },
  {
"cell_type": "code",
	   "execution_count": null,
	   "metadata": {
	    "collapsed": true
	   },
	   "outputs": [],
"source": [
"clc\n",
"//initialization of new variables\n",
"clear\n",
"m=100 //tonne\n",
"u=200 //km/h\n",
"b=47 //m\n",
"r=1.22 //kg/m^3\n",
"g=9.8 //m/s^2\n",
"//calculations\n",
"gama=m*1000*g/(r*u/3.6*b)\n",
"w=2*gama/(%pi*b/2)\n",
"//results\n",
"printf('Downwash = %.2f m/s',w)"
   ]
   }
,
{
		   "cell_type": "markdown",
		   "metadata": {},
		   "source": [
			"## Example 8.22: Chapter8_Example22.sce"
		   ]
		  },
  {
"cell_type": "code",
	   "execution_count": null,
	   "metadata": {
	    "collapsed": true
	   },
	   "outputs": [],
"source": [
"clc\n",
"//initialization of new variables\n",
"clear\n",
"a=8 //degrees  In text calculated for 8 degrees even thoygh they mentioned it as 5 degrees\n",
"c=0.5 //m\n",
"b1=2 //m\n",
"b2=4 //m\n",
"//calculations\n",
"a=a*%pi/180\n",
"AR1=b1/c\n",
"AR2=b2/c\n",
"Cla1=2*%pi/(1+b1/AR1)\n",
"Cla2=2*%pi/(1+b2/AR2)\n",
"Cl1=Cla1*a\n",
"Cl2=Cla2*a\n",
"Cd1=Cl1^2/(%pi*AR1)\n",
"Cd2=Cl2^2/(%pi*AR2)\n",
"r1=Cl1/Cd1\n",
"r2=Cl2/Cd2\n",
"//results\n",
"printf('Lift to induced drag ratios are respectively %.2f and %.2f ',r1,r2)"
   ]
   }
,
{
		   "cell_type": "markdown",
		   "metadata": {},
		   "source": [
			"## Example 8.23: Chapter8_Example23.sce"
		   ]
		  },
  {
"cell_type": "code",
	   "execution_count": null,
	   "metadata": {
	    "collapsed": true
	   },
	   "outputs": [],
"source": [
"clc\n",
"//initialization of new variables\n",
"clear\n",
"m=250 //tonne  Weight\n",
"b=64.4 //m    wing span\n",
"S=541 //m^2   Wing area\n",
"c=8.4 //m    Wing chord\n",
"r=1.1 //kg/m^3   Air density\n",
"u=600 //km/h    air speed\n",
"g=9.8 //m/s^2  Acceleration due to gravity\n",
"//calculations\n",
"u=u/3.6\n",
"Cl=m*g*1000/(0.5*r*u^2*S)\n",
"AR=b^2/S\n",
"Cla=2*%pi/(1+2/AR)\n",
"aa=Cl/Cla\n",
"aa=aa*180/%pi\n",
"//results\n",
"printf('Airplane angle of attack is %.1f degrees',aa)\n",
"printf('\n Lift slope is %.2f ',Cla)"
   ]
   }
,
{
		   "cell_type": "markdown",
		   "metadata": {},
		   "source": [
			"## Example 8.24: Chapter8_Example24.sce"
		   ]
		  },
  {
"cell_type": "code",
	   "execution_count": null,
	   "metadata": {
	    "collapsed": true
	   },
	   "outputs": [],
"source": [
"clc\n",
"//initialization of new variables\n",
"clear\n",
"b=4 //m   wide\n",
"c=0.5 //m   chord\n",
"a=5 //degrees   angle of inclination\n",
"u=12 //m/s  speed\n",
"r=1030 //kg/m^3  density\n",
"//calculations\n",
"a=a*%pi/180\n",
"AR=b/c\n",
"Cla=2*%pi/(1+2/AR)\n",
"Cl=Cla*a\n",
"W=Cl*0.5*r*u^2*b\n",
"Cdi=Cl^2/(%pi*AR)\n",
"Di=0.5*Cdi*r*u^2*b\n",
"P=Di*u\n",
"printf('The power required is %.2f kW',P/1000)\n",
"printf('\n The weight of the boat is %.d N',W)"
   ]
   }
,
{
		   "cell_type": "markdown",
		   "metadata": {},
		   "source": [
			"## Example 8.25: Chapter8_Example25.sce"
		   ]
		  },
  {
"cell_type": "code",
	   "execution_count": null,
	   "metadata": {
	    "collapsed": true
	   },
	   "outputs": [],
"source": [
"clc\n",
"//initialization of new variables\n",
"clear\n",
"u=70 //m/s\n",
"a=20 //degrees\n",
"b=15 //m\n",
"c=25 //m\n",
"r=1.2 //kg/m^3\n",
"//calculations\n",
"AR=b^2/(0.5*b*c)\n",
"a=a*%pi/180\n",
"Cl=(0.963+1.512*AR)*sin(a)\n",
"W=Cl*0.5*r*u^2*(b*c/2)\n",
"D=W*tan(a)\n",
"//results\n",
"printf('Airplane weight is %.1f N',W)\n",
"printf('\n Drag is %.1f N',D)"
   ]
   }
,
{
		   "cell_type": "markdown",
		   "metadata": {},
		   "source": [
			"## Example 8.2: Chapter8_Example2.sce"
		   ]
		  },
  {
"cell_type": "code",
	   "execution_count": null,
	   "metadata": {
	    "collapsed": true
	   },
	   "outputs": [],
"source": [
"clc\n",
"//initialization of new variables\n",
"clear\n",
"mu=1 //m^3/s\n",
"x0=0\n",
"z0=0\n",
"x=1\n",
"z=0\n",
"//calculations\n",
"u=mu/(2*%pi)*((x-x0)^2-(z-z0)^2)/((x-x0)^2+(z-z0)^2)^2\n",
"w=mu/(2*%pi)*2*(x-x0)*(z-z0)/((x-x0)^2+(z-z0)^2)^2\n",
"//results\n",
"printf('u = %.2f m/s',u)\n",
"printf('\n w = %.2f m/s',w)"
   ]
   }
,
{
		   "cell_type": "markdown",
		   "metadata": {},
		   "source": [
			"## Example 8.3: Chapter8_Example3.sce"
		   ]
		  },
  {
"cell_type": "code",
	   "execution_count": null,
	   "metadata": {
	    "collapsed": true
	   },
	   "outputs": [],
"source": [
"clc\n",
"//initialization of new variables\n",
"clear\n",
"gama=5 //m^2/s\n",
"x0=1\n",
"y0=1 //(x0,y0) location of source\n",
"x=0\n",
"y=-1\n",
"//calculations\n",
"w=-gama/(2*%pi)*(x-x0)/((x-x0)^2+(y-y0)^2)\n",
"u=gama/(2*%pi)*(y-y0)/((x-x0)^2+(y-y0)^2)\n",
"//results\n",
"printf('u = %.3f m/s',u)\n",
"printf('\n w = %.3f m/s',w)\n",
"x=3\n",
"y=0\n",
"//calculations\n",
"w=-gama/(2*%pi)*(x-x0)/((x-x0)^2+(y-y0)^2)\n",
"u=gama/(2*%pi)*(y-y0)/((x-x0)^2+(y-y0)^2)\n",
"//results\n",
"printf('\n for the second point')\n",
"printf('\n u = %.3f m/s',u)\n",
"printf('\n w = %.3f m/s',w)"
   ]
   }
,
{
		   "cell_type": "markdown",
		   "metadata": {},
		   "source": [
			"## Example 8.6: Chapter8_Example6.sce"
		   ]
		  },
  {
"cell_type": "code",
	   "execution_count": null,
	   "metadata": {
	    "collapsed": true
	   },
	   "outputs": [],
"source": [
"clc\n",
"//initialization of new variables\n",
"clear\n",
"Re=3*10^6\n",
"CdT=0.004\n",
"x=0.4 //40%\n",
"//calculations\n",
"Cd=2*0.664/sqrt(Re)\n",
"Cd=x*Cd+(1-x)*CdT\n",
"Cd=2*Cd\n",
"//results\n",
"printf('For two sides the drag coefficient is estimated as %.4f',Cd)"
   ]
   }
,
{
		   "cell_type": "markdown",
		   "metadata": {},
		   "source": [
			"## Example 8.7: Chapter8_Example7.sce"
		   ]
		  },
  {
"cell_type": "code",
	   "execution_count": null,
	   "metadata": {
	    "collapsed": true
	   },
	   "outputs": [],
"source": [
"clc\n",
"//initialization of new variables\n",
"clear\n",
"h=15 //m\n",
"D=0.25 //m\n",
"u=30 //m/s\n",
"rho=1.2 //kg/m^3\n",
"mu=1.81*10^-5\n",
"Cd=0.7\n",
"Re=rho*u*D/mu\n",
"D=Cd*1/2*rho*u^2*(h*D)\n",
"M=h/2*D\n",
"//results\n",
"printf('D = %.1f N',D)\n",
"printf('\n M = %d N m',M)"
   ]
   }
,
{
		   "cell_type": "markdown",
		   "metadata": {},
		   "source": [
			"## Example 8.8: Chapter8_Example8.sce"
		   ]
		  },
  {
"cell_type": "code",
	   "execution_count": null,
	   "metadata": {
	    "collapsed": true
	   },
	   "outputs": [],
"source": [
"clc\n",
"//initialization of new variables\n",
"clear\n",
"D=0.5 //cm\n",
"rAl=2700 //kg/m^3\n",
"mu=0.29\n",
"rOil=919 //kg/m^3\n",
"g=9.8 //m/s^2\n",
"//calculations\n",
"D=D*10^-2\n",
"R=D/2\n",
"U=2/(9*mu)*(rAl-rOil)*g*R^2\n",
"//result\n",
"printf('The ball will sink with %.3f m/s',U)"
   ]
   }
,
{
		   "cell_type": "markdown",
		   "metadata": {},
		   "source": [
			"## Example 8.9: Chapter8_Example9.sce"
		   ]
		  },
  {
"cell_type": "code",
	   "execution_count": null,
	   "metadata": {
	    "collapsed": true
	   },
	   "outputs": [],
"source": [
"clc\n",
"//initialization of new variables\n",
"clear\n",
"Cd=1.2\n",
"r=1.2 //kg/m^3\n",
"u=15 //km/h\n",
"l=1 //m\n",
"b=1 //m\n",
"//calculations\n",
"D=Cd*1/2*r*(u/3.6)^2*(l*b)\n",
"//result\n",
"printf('The force on the plate is %.1f N',D)\n",
""
   ]
   }
],
"metadata": {
		  "kernelspec": {
		   "display_name": "Scilab",
		   "language": "scilab",
		   "name": "scilab"
		  },
		  "language_info": {
		   "file_extension": ".sce",
		   "help_links": [
			{
			 "text": "MetaKernel Magics",
			 "url": "https://github.com/calysto/metakernel/blob/master/metakernel/magics/README.md"
			}
		   ],
		   "mimetype": "text/x-octave",
		   "name": "scilab",
		   "version": "0.7.1"
		  }
		 },
		 "nbformat": 4,
		 "nbformat_minor": 0
}
