{
"cells": [
 {
		   "cell_type": "markdown",
	   "metadata": {},
	   "source": [
       "# Chapter 5: Viscous Incompressible Flow Exact Solutions"
	   ]
	},
{
		   "cell_type": "markdown",
		   "metadata": {},
		   "source": [
			"## Example 5.10: Chapter5_Example10.sce"
		   ]
		  },
  {
"cell_type": "code",
	   "execution_count": null,
	   "metadata": {
	    "collapsed": true
	   },
	   "outputs": [],
"source": [
"clc\n",
"//initialization of new variables\n",
"clear\n",
"h=20 //m\n",
"D1=0.3 //m upto 50 m distance\n",
"D2=0.2 //m\n",
"K=0.1\n",
"L1=50 //m\n",
"L2=100 //m\n",
"f=0.015\n",
"g=9.8 //m/s^2\n",
"//calculations\n",
"u3=sqrt(h*2*g/(1+f*L1/D1*(D2/D1)^4+K*(D2/D1)^4+f*L2/D2))\n",
"S3=%pi*D2^2/4\n",
"Q=u3*S3\n",
"//results\n",
"printf('Average discharge velocity is %.2f m/s',u3)\n",
"printf('\n The corresponding flow rate is %.2f m/s',Q)"
   ]
   }
,
{
		   "cell_type": "markdown",
		   "metadata": {},
		   "source": [
			"## Example 5.11: Chapter5_Example11.sce"
		   ]
		  },
  {
"cell_type": "code",
	   "execution_count": null,
	   "metadata": {
	    "collapsed": true
	   },
	   "outputs": [],
"source": [
"clc\n",
"//initialization of new variables\n",
"clear\n",
"L=20 //m\n",
"D=6 //cm\n",
"th=40 //degrees\n",
"Q=7.63 //L/s\n",
"rho=900 //kg/m^3\n",
"mu=0.18 //N s/m^2\n",
"g=9.8 //m/s^2\n",
"//calculations\n",
"th=th*%pi/180\n",
"R=D/2*10^-2\n",
"S=%pi*R^2\n",
"U=Q*10^-3/S\n",
"Re=rho*U*D*10^-2/mu\n",
"f=64/Re\n",
"Hf=f*L/D*U^2/(2*g)*10^2\n",
"Dp=rho*g*(L*sin(th)+Hf)\n",
"P=Dp*Q*10^-3\n",
"//result\n",
"printf('Power = %.1f W',P)"
   ]
   }
,
{
		   "cell_type": "markdown",
		   "metadata": {},
		   "source": [
			"## Example 5.12: Chapter5_Example12.sce"
		   ]
		  },
  {
"cell_type": "code",
	   "execution_count": null,
	   "metadata": {
	    "collapsed": true
	   },
	   "outputs": [],
"source": [
"clc\n",
"//initialization of new variables\n",
"clear\n",
"Q=5 //L/min\n",
"L=10 //m\n",
"D=5 //cm\n",
"UD=3 //cm\n",
"L1=12 //m\n",
"K1=0.9\n",
"K2=0.2\n",
"f=0.025\n",
"//calculations\n",
"Q=Q*10^-3\n",
"D=D*10^-2\n",
"R=D/2\n",
"UD=UD*10^-2\n",
"UR=UD/2\n",
"Ur=f*L/D/(f*L1/UD+2*K1+2*K2)\n",
"Ur=sqrt(Ur)\n",
"Ul=Q/%pi*1/(R^2+Ur*UR^2)\n",
"Ql=%pi*R^2*Ul*10^3\n",
"//results\n",
"printf('Velocity and flow rate in the lower pipe are respectively %.2f m/s %.2f L/s',Ul,Ql)"
   ]
   }
,
{
		   "cell_type": "markdown",
		   "metadata": {},
		   "source": [
			"## Example 5.13: Chapter5_Example13.sce"
		   ]
		  },
  {
"cell_type": "code",
	   "execution_count": null,
	   "metadata": {
	    "collapsed": true
	   },
	   "outputs": [],
"source": [
"clc\n",
"//initialization of new variables\n",
"clear\n",
"z=0.8 //m\n",
"b=1 //m\n",
"th=60 //degrees\n",
"n=0.012\n",
"phi=0.3 //degrees\n",
"//calculations\n",
"th=th*%pi/180\n",
"phi=phi*%pi/180\n",
"S=(1+z/tan(th))*z\n",
"Ph=1+2*z/sin(th)\n",
"Rh=S/Ph\n",
"Uav=1/n*Rh^(2/3)*sqrt(tan(phi))\n",
"Q=Uav*S\n",
"//results\n",
"printf('Average velocity is %.2f m/s',Uav)\n",
"printf('\n Flow rate = %.2f m^3/s',Q)"
   ]
   }
,
{
		   "cell_type": "markdown",
		   "metadata": {},
		   "source": [
			"## Example 5.14: Chapter5_Example14.sce"
		   ]
		  },
  {
"cell_type": "code",
	   "execution_count": null,
	   "metadata": {
	    "collapsed": true
	   },
	   "outputs": [],
"source": [
"clc\n",
"//initialization of new variables\n",
"clear\n",
"n = 0.012;\n",
"S = 1;\n",
"alpha = 1;//degrees\n",
"Z = 0.00005:0.05:5;\n",
"k = (5-0.00005)/0.05 +1;\n",
"for i = 1:k\n",
"    R_h(i) = S/((1/Z(i))+2*Z(i));\n",
"    U_av(i) = (1/n)*(R_h(i)^(2/3))*sqrt(tan(alpha*%pi/180));\n",
"    Q(i) = U_av(i)*S;\n",
"    b(i) = S/Z(i);\n",
"    AR(i) = Z(i)/b(i);\n",
"end\n",
"\n",
"plot(AR(1:46),U_av(1:46));\n",
"xlabel('Aspect ratio');\n",
"ylabel('Q (m^3/s)');"
   ]
   }
,
{
		   "cell_type": "markdown",
		   "metadata": {},
		   "source": [
			"## Example 5.15: Chapter5_Example15.sce"
		   ]
		  },
  {
"cell_type": "code",
	   "execution_count": null,
	   "metadata": {
	    "collapsed": true
	   },
	   "outputs": [],
"source": [
"clc\n",
"//initialization of new variables\n",
"clear\n",
"D=1 //m\n",
"alpha=0.5 //degrees\n",
"n=0.012\n",
"//calculations\n",
"R=D/2\n",
"\n",
"\n",
"theta = 1:1:180;\n",
"R_h = 0.5*R - (45*R/%pi)*(sin(2*theta*%pi/180))./(theta*180/%pi);\n",
"Z = R*(1-cos(theta*%pi/180));\n",
"U_av = (1/n)*(R_h^(2/3))*sqrt(tan(alpha));\n",
"Q = U_av*%pi*R^2 .*(theta*180/%pi) - (0.5*R^2)*sin(2*theta*%pi/180);\n",
"\n",
"plot(Z/D,(U_av-U_av(1))/max(U_av-U_av(1)),'r>-.');\n",
"//ylabel('U/U_max');\n",
"plot((Q-Q(1))/max(Q-Q(1)),Z/D,'b<-.');\n",
"//ylabel('Q/Q_max');\n",
"xlabel('z/d');\n",
"legend(['U/U_max';'Q/Q_max';],opt=2);"
   ]
   }
,
{
		   "cell_type": "markdown",
		   "metadata": {},
		   "source": [
			"## Example 5.16: Chapter5_Example16.sce"
		   ]
		  },
  {
"cell_type": "code",
	   "execution_count": null,
	   "metadata": {
	    "collapsed": true
	   },
	   "outputs": [],
"source": [
"clc\n",
"//initialization of new variables\n",
"clear\n",
"u1=8 //m/s\n",
"z1=1 //m\n",
"g=9.8 //m/s^2\n",
"//calculations\n",
"Fr1=u1/sqrt(g*z1)\n",
"zr=(-1+sqrt(1+8*Fr1^2))/2\n",
"z2=z1*zr\n",
"u2=u1*z1/z2\n",
"Fr2=u2/sqrt(g*z2)\n",
"hr=1-zr+u1^2/(2*g*z1)-u2^2/(2*g*z1)\n",
"loss=hr*z1/(z1+u1^2/(2*g))\n",
"//results\n",
"printf('Fr1 = %.3f',Fr1)\n",
"printf('\n Fr2 = %.3f',Fr2)\n",
"printf('\n percent of loss = %.1f percent',loss*100)"
   ]
   }
,
{
		   "cell_type": "markdown",
		   "metadata": {},
		   "source": [
			"## Example 5.17: Chapter5_Example17.sce"
		   ]
		  },
  {
"cell_type": "code",
	   "execution_count": null,
	   "metadata": {
	    "collapsed": true
	   },
	   "outputs": [],
"source": [
"clc\n",
"//initialization of new variables\n",
"clear\n",
"D=0.5 //m\n",
"H=0.5 //m\n",
"d=1 //m\n",
"g=9.8 //m/s^2\n",
"//calculations\n",
"Cd=0.399+0.0598*H/D\n",
"Q=Cd*d/2*sqrt(2*g)*H^(3/2)\n",
"//results\n",
"printf('Flow rate is Q = %.3f m^3/s',Q)"
   ]
   }
,
{
		   "cell_type": "markdown",
		   "metadata": {},
		   "source": [
			"## Example 5.2: Chapter5_Example2.sce"
		   ]
		  },
  {
"cell_type": "code",
	   "execution_count": null,
	   "metadata": {
	    "collapsed": true
	   },
	   "outputs": [],
"source": [
"clc\n",
"//initialization of new variables\n",
"clear\n",
"U=5 //m/s\n",
"h=1 //cm\n",
"mu=0.001    \n",
"//calculations\n",
"Uav=U/2\n",
"Q=U*h*10^-2/2\n",
"tau_xz=mu*U/(h*10^-2)\n",
"S=1 //m^2\n",
"F=tau_xz*S\n",
"//results\n",
"printf('Shear stress per unit width at wall is %.1f N/m^2',tau_xz)\n",
"printf('\n The force required is %.1f N',F)"
   ]
   }
,
{
		   "cell_type": "markdown",
		   "metadata": {},
		   "source": [
			"## Example 5.3: Chapter5_Example3.sce"
		   ]
		  },
  {
"cell_type": "code",
	   "execution_count": null,
	   "metadata": {
	    "collapsed": true
	   },
	   "outputs": [],
"source": [
"clc\n",
"//initialization of new variables\n",
"clear\n",
"Uav=1 //m/s\n",
"h=1 //cm\n",
"mu=0.001\n",
"rho=1000 //kg/m^3\n",
"//calculations\n",
"h=h*10^-2\n",
"Umax=1.5*Uav\n",
"Dp=-12*mu*Uav/h^2\n",
"tau=-h/2*Dp\n",
"Re=rho*Uav*h/mu\n",
"Cf=12/Re\n",
"//results\n",
"printf('Max velocity = %.2f m/s ',Umax)\n",
"printf('\n Pressure gradient = %.2f N/m^3',Dp)\n",
"printf('\n shear = %.1f N',tau)\n",
"printf('\n friction coefficient = %.2e ',Cf)"
   ]
   }
,
{
		   "cell_type": "markdown",
		   "metadata": {},
		   "source": [
			"## Example 5.4: Chapter5_Example4.sce"
		   ]
		  },
  {
"cell_type": "code",
	   "execution_count": null,
	   "metadata": {
	    "collapsed": true
	   },
	   "outputs": [],
"source": [
"clc\n",
"//initialization of new variables\n",
"clear\n",
"h1=0.2 //mm  gap\n",
"hr=2.2   //gap ratio\n",
"u=50 //m/s   linear velocity\n",
"mu=1.8*10^-5  // Coefficient of Viscocity \n",
"l=1 //cm   Length of the magnetic pickup\n",
"//calculations\n",
"l=l*10^-2\n",
"h1=h1*10^-3\n",
"L=0.16*mu*u*(l/h1)^2\n",
"R=4.7*h1/l\n",
"//results\n",
"printf('Lift = %.2f N/m',L)\n",
"printf('\n Drag to Lift ratio = %.3f ',R)"
   ]
   }
,
{
		   "cell_type": "markdown",
		   "metadata": {},
		   "source": [
			"## Example 5.5: Chapter5_Example5.sce"
		   ]
		  },
  {
"cell_type": "code",
	   "execution_count": null,
	   "metadata": {
	    "collapsed": true
	   },
	   "outputs": [],
"source": [
"clc\n",
"//initialization of new variables\n",
"clear\n",
"L=3 //m\n",
"D=1.2 //cm\n",
"Q=0.5 //L/min\n",
"mu=1.9*10^-2\n",
"rho=814 //kg/m^3\n",
"//calculations\n",
"R=D/2*10^-2\n",
"Q=Q/60*10^-3\n",
"Dp=-Q*8*mu/(%pi*R^4)\n",
"S=%pi*R^2\n",
"Uav=Q/S\n",
"Re=rho*Uav*D/mu\n",
"//results\n",
"printf('The pressure drop is %.1f N/m^2',Dp)\n",
"// Answer given in the ext is wrong by a scale of 10"
   ]
   }
,
{
		   "cell_type": "markdown",
		   "metadata": {},
		   "source": [
			"## Example 5.6: Chapter5_Example6.sce"
		   ]
		  },
  {
"cell_type": "code",
	   "execution_count": null,
	   "metadata": {
	    "collapsed": true
	   },
	   "outputs": [],
"source": [
"clc\n",
"//initialization of new variables\n",
"clear\n",
"L=10 //m\n",
"D=0.02 //m\n",
"Uav=0.15 //m/s\n",
"rho=1000 //kg/m^3\n",
"mu=10^-3\n",
"g=9.8 //m/s^2\n",
"//calculations\n",
"Re=rho*Uav*D/mu\n",
"f=64/Re\n",
"Hf=f*L*Uav^2/(D*2*g)\n",
"//results\n",
"printf('Head loss is = %.4f m',Hf)"
   ]
   }
,
{
		   "cell_type": "markdown",
		   "metadata": {},
		   "source": [
			"## Example 5.7: Chapter5_Example7.sce"
		   ]
		  },
  {
"cell_type": "code",
	   "execution_count": null,
	   "metadata": {
	    "collapsed": true
	   },
	   "outputs": [],
"source": [
"clc\n",
"//initialization of new variables\n",
"clear\n",
"Q=6 //L/min\n",
"D=3 //cm\n",
"K=0.32\n",
"g=9.8 //m/s^2\n",
"rho=1000 //kg/m^3\n",
"//calculations\n",
"R=D/2*10^-2\n",
"S=%pi*R^2\n",
"Q=Q/60*10^-3\n",
"Uav=Q/S\n",
"Hf=K*Uav^2/(2*g)\n",
"dP=Hf*rho*g\n",
"//results\n",
"printf('The pressure drop is %.2f N/m^2',dP)\n",
"printf('\n Head loss is %.2e m',Hf)"
   ]
   }
,
{
		   "cell_type": "markdown",
		   "metadata": {},
		   "source": [
			"## Example 5.8: Chapter5_Example8.sce"
		   ]
		  },
  {
"cell_type": "code",
	   "execution_count": null,
	   "metadata": {
	    "collapsed": true
	   },
	   "outputs": [],
"source": [
"clc\n",
"//initialization of new variables\n",
"clear\n",
"h=20 //m\n",
"a=2 //m\n",
"f=0.015\n",
"D=0.3 //m\n",
"K=0.3\n",
"g=9.8 //m/s^2\n",
"rho=804 //kg/m^3\n",
"mu=1.9*10^-3 //N s/m^2\n",
"//calculations\n",
"u2=sqrt((h+a)*2*g/(1+f*202/D+2*K))\n",
"S=%pi*D^2/4\n",
"Q=u2*S\n",
"Re=rho*u2*D/mu\n",
"//results\n",
"printf('Average discarge velocity = %.2f m/s',u2)\n",
"printf('\n Re = %.3e ',Re)"
   ]
   }
,
{
		   "cell_type": "markdown",
		   "metadata": {},
		   "source": [
			"## Example 5.9: Chapter5_Example9.sce"
		   ]
		  },
  {
"cell_type": "code",
	   "execution_count": null,
	   "metadata": {
	    "collapsed": true
	   },
	   "outputs": [],
"source": [
"clc\n",
"//initialization of new variables\n",
"clear\n",
"h2=0.2 //m\n",
"D=0.01 //m\n",
"h1=0.1 //m\n",
"rho=1254 //kg/m^3\n",
"mu=0.62 //N s/m^2\n",
"g=9.8 //m/s^2\n",
"//calculations\n",
"// Quadratic equation: a*u^2+b*u+c=0\n",
"a=1/(2*g)\n",
"b=32*mu*h2/(rho*g*D^2)\n",
"c=-(h1+h2)\n",
"u2a=(-b+sqrt(b^2-4*a*c))/(2*a)\n",
"u2b=(-b-sqrt(b^2-4*a*c))/(2*a)\n",
"u2=max(u2a,u2b)\n",
"//results\n",
"printf('Exit velocity is %.3f m/s',u2)\n",
"// Answer in the text differs by a scale of 10"
   ]
   }
],
"metadata": {
		  "kernelspec": {
		   "display_name": "Scilab",
		   "language": "scilab",
		   "name": "scilab"
		  },
		  "language_info": {
		   "file_extension": ".sce",
		   "help_links": [
			{
			 "text": "MetaKernel Magics",
			 "url": "https://github.com/calysto/metakernel/blob/master/metakernel/magics/README.md"
			}
		   ],
		   "mimetype": "text/x-octave",
		   "name": "scilab",
		   "version": "0.7.1"
		  }
		 },
		 "nbformat": 4,
		 "nbformat_minor": 0
}
