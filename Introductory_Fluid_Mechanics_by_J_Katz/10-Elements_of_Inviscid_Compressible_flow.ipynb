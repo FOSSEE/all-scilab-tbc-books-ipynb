{
"cells": [
 {
		   "cell_type": "markdown",
	   "metadata": {},
	   "source": [
       "# Chapter 10: Elements of Inviscid Compressible flow"
	   ]
	},
{
		   "cell_type": "markdown",
		   "metadata": {},
		   "source": [
			"## Example 10.1: Chapter10_Example1.sce"
		   ]
		  },
  {
"cell_type": "code",
	   "execution_count": null,
	   "metadata": {
	    "collapsed": true
	   },
	   "outputs": [],
"source": [
"clc\n",
"//initialization of new variables\n",
"clear\n",
"T=300 //k\n",
"gama=1.4\n",
"R=286.6 \n",
"//calculations\n",
"a=sqrt(gama*R*T)\n",
"//results\n",
"printf('The speed of sound in air is %.2f m/s',a)"
   ]
   }
,
{
		   "cell_type": "markdown",
		   "metadata": {},
		   "source": [
			"## Example 10.2: Chapter10_Example2.sce"
		   ]
		  },
  {
"cell_type": "code",
	   "execution_count": null,
	   "metadata": {
	    "collapsed": true
	   },
	   "outputs": [],
"source": [
"clc\n",
"//initialization of new variables\n",
"clear\n",
"T0=850 //k\n",
"T=270 //k\n",
"gama=1.4\n",
"//calculations\n",
"M=sqrt(2/(gama-1)*(T0/T-1))\n",
"//results\n",
"printf('M = %.2f',M)"
   ]
   }
,
{
		   "cell_type": "markdown",
		   "metadata": {},
		   "source": [
			"## Example 10.3: Chapter10_Example3.sce"
		   ]
		  },
  {
"cell_type": "code",
	   "execution_count": null,
	   "metadata": {
	    "collapsed": true
	   },
	   "outputs": [],
"source": [
"clc\n",
"//initialization of new variables\n",
"clear\n",
"M=1\n",
"T0=300 //k\n",
"P0=4 //atm\n",
"gama=1.4\n",
"//calculations\n",
"Tr=1+(gama-1)*M^2/2\n",
"Pr=Tr^(gama/(gama-1))\n",
"P=P0/Pr\n",
"T=T0/Tr\n",
"//results\n",
"printf('At the section:')\n",
"printf('\n Pressure is %.2f atm',P)\n",
"printf('\n Temperature is %.2f K',T)"
   ]
   }
,
{
		   "cell_type": "markdown",
		   "metadata": {},
		   "source": [
			"## Example 10.5: Chapter10_Example5.sce"
		   ]
		  },
  {
"cell_type": "code",
	   "execution_count": null,
	   "metadata": {
	    "collapsed": true
	   },
	   "outputs": [],
"source": [
"clc\n",
"//initialization of new variables\n",
"clear\n",
"P0=4 //atm\n",
"T0=300 //K\n",
"At=5 //cm^2\n",
"Ae=10 //cm^2\n",
"//calculations\n",
"//case (1)\n",
"P1=3.8 //atm\n",
"Pr=P0/P1\n",
"M1=0.26  //from the figure\n",
"Ar=2.32\n",
"Aa=Ae/Ar  //A*\n",
"Art=At/Aa //At/A*\n",
"Mt=0.64 //from the figure\n",
"printf('case (1)')\n",
"printf('\n Exit Mach = %.2f ',Mt)\n",
"//case (2)\n",
"Aer=2.00 //from figure\n",
"M2=0.3 //based on the area ratio\n",
"Pr=0.939\n",
"P2=Pr*P0\n",
"printf('\n case (2)')\n",
"printf('\n back Pressure is %.2f atm',P2)\n",
"printf('\n Exit Mach = %.2f ',M2)\n",
"printf('\n So when the pressure at the exit is lowered a bit, the velocity at the throat becomes sonic.')\n",
"//case (3)\n",
"Ar=2.00 //from figure\n",
"M2=2.2 //based on area ratio\n",
"Pr=0.094 \n",
"P2=Pr*P0\n",
"printf('\n case (3)')\n",
"printf('\n back pressure is %.2f atm',P2)\n",
"printf('\n Exit Mach = %.2f ',M2)\n",
"printf('\n The pressure ratio has to be very smaller to create a supersonic nozzle')"
   ]
   }
,
{
		   "cell_type": "markdown",
		   "metadata": {},
		   "source": [
			"## Example 10.6: Chapter10_Example6.sce"
		   ]
		  },
  {
"cell_type": "code",
	   "execution_count": null,
	   "metadata": {
	    "collapsed": true
	   },
	   "outputs": [],
"source": [
"clc\n",
"//initialization of new variables\n",
"clear\n",
"T0=2100 //k\n",
"P0=3.5 //atm\n",
"At=4 //cm^2\n",
"Ar=4.0 // Ae/At\n",
"Pa=1 //atm\n",
"gama=1.4\n",
"R=286.6 \n",
"//calculations\n",
"Me=2.94\n",
"Pr=0.030\n",
"Tr=0.366\n",
"// from Isentropic table for Area ratio = 4\n",
"Pe=Pr*P0\n",
"Te=T0*Tr\n",
"ue=Me*sqrt(gama*R*Te)\n",
"re=Pe*10^5/(R*Te)\n",
"Ae=At*Ar\n",
"Ae=Ae*10^-4\n",
"Fx=re*ue^2*Ae+(Pe*10^5-0)*Ae\n",
"printf('The thrust in space is %.2f N',Fx)\n",
"// at sea level\n",
"M1=2.9 \n",
"M2=sqrt((2+(gama-1)*M1^2)/(gama*(2*M1^2-1)+1))\n",
"P0r=0.358\n",
"Ar=3.85 //Isentropic table\n",
"Aer=1.433\n",
"Me=0.45\n",
"Per=0.870\n",
"Tr=0.961\n",
"// All the values from isentropic table\n",
"Pe=P0*P0r*Per\n",
"Te=T0*Tr\n",
"ue=Me*sqrt(gama*R*Te)\n",
"re=Pe*10^5/(R*Te)\n",
"Fx=re*ue^2*Ae+(Pe*10^5-Pa*10^5)*Ae\n",
"printf('\n The thrust at sea level is %.2f N',Fx)\n",
"\n",
"\n",
""
   ]
   }
],
"metadata": {
		  "kernelspec": {
		   "display_name": "Scilab",
		   "language": "scilab",
		   "name": "scilab"
		  },
		  "language_info": {
		   "file_extension": ".sce",
		   "help_links": [
			{
			 "text": "MetaKernel Magics",
			 "url": "https://github.com/calysto/metakernel/blob/master/metakernel/magics/README.md"
			}
		   ],
		   "mimetype": "text/x-octave",
		   "name": "scilab",
		   "version": "0.7.1"
		  }
		 },
		 "nbformat": 4,
		 "nbformat_minor": 0
}
