{
"cells": [
 {
		   "cell_type": "markdown",
	   "metadata": {},
	   "source": [
       "# Chapter 11: Fluid Machinary"
	   ]
	},
{
		   "cell_type": "markdown",
		   "metadata": {},
		   "source": [
			"## Example 11.10: Chapter11_Example10.sce"
		   ]
		  },
  {
"cell_type": "code",
	   "execution_count": null,
	   "metadata": {
	    "collapsed": true
	   },
	   "outputs": [],
"source": [
"clc\n",
"//initialization of new variables\n",
"clear\n",
"r2=0.1 //m\n",
"m=1 //kg/s\n",
"T01=1200 //K\n",
"alpha2=65 //degrees\n",
"c2=330 //m/s\n",
"rho2=0.5 //kg/m^3\n",
"eta=0.9\n",
"gama=1.4\n",
"cp=0.24\n",
"//calculations\n",
"alpha2=alpha2*%pi/180\n",
"cp=cp*4200\n",
"Cthd=c2*sin(alpha2)\n",
"U=Cthd/2\n",
"P=m*U*Cthd\n",
"Tr=U*Cthd/(cp*T01)\n",
"Pr=(1-Tr/eta)^(gama/(gama-1))\n",
"RPM=U/(2*%pi*r2)\n",
"//results\n",
"printf('part (a)')\n",
"printf('\n Power generated is %.1f W',P)\n",
"printf('part (b)')\n",
"printf('\n Stagnation pressure drop is %.3f ',Pr)\n",
"printf('\n In rotor, zero static pressure drop takes place')\n",
"printf('\n part (c)')\n",
"printf('\n RPM = %d RPM',RPM*60)"
   ]
   }
,
{
		   "cell_type": "markdown",
		   "metadata": {},
		   "source": [
			"## Example 11.11: Chapter11_Example11.sce"
		   ]
		  },
  {
"cell_type": "code",
	   "execution_count": null,
	   "metadata": {
	    "collapsed": true
	   },
	   "outputs": [],
"source": [
"clc\n",
"//initialization of new variables\n",
"clear\n",
"r=0.1 //m\n",
"RPM=1000 //RPM\n",
"c2=30 //m/s\n",
"S=2 //cm^2\n",
"beta3=60 //degrees\n",
"alpha2=90 //degrees\n",
"rho=1000 //kg/m^3\n",
"//calculations\n",
"beta3=beta3*%pi/180\n",
"alpha2=alpha2*%pi/180\n",
"S=S*10^-4\n",
"U=RPM*r*2*%pi/60\n",
"w2=c2-U\n",
"w3=w2\n",
"CthD=w2*sin(alpha2)+w2*sin(beta3)\n",
"m=rho*c2*S\n",
"T=m*r*CthD\n",
"P=m*U*CthD\n",
"//results\n",
"printf('mass flow rate is %.2f kg/s',m)\n",
"printf('\n Torque T = %.2f N m',T)\n",
"printf('\n Power P = %.2f W',P)"
   ]
   }
,
{
		   "cell_type": "markdown",
		   "metadata": {},
		   "source": [
			"## Example 11.12: Chapter11_Example12.sce"
		   ]
		  },
  {
"cell_type": "code",
	   "execution_count": null,
	   "metadata": {
	    "collapsed": true
	   },
	   "outputs": [],
"source": [
"clc\n",
"//initialization of new variables\n",
"clear\n",
"P=5 //kW\n",
"U=30 //km/h\n",
"eta=70 //percent\n",
"rho=1.22 //kg/m^3\n",
"//calculations\n",
"eta=eta/100\n",
"P=P*1000\n",
"R=sqrt(P*27/(8*eta*rho*(U/3.6)^3*%pi))\n",
"//results\n",
"printf('R = %.2f m',R)"
   ]
   }
,
{
		   "cell_type": "markdown",
		   "metadata": {},
		   "source": [
			"## Example 11.1: Chapter11_Example1.sce"
		   ]
		  },
  {
"cell_type": "code",
	   "execution_count": null,
	   "metadata": {
	    "collapsed": true
	   },
	   "outputs": [],
"source": [
"clc\n",
"//initialization of new variables\n",
"clear\n",
"r=0.3 //m\n",
"w=3000 //RPM\n",
"Cz=61 //m/s\n",
"th=45 //degrees\n",
"//calculations\n",
"U=%pi*2*r*w/60\n",
"beta1=atan(U/Cz)\n",
"beta1=beta1*180/%pi\n",
"beta2=th\n",
"DCth=U-Cz\n",
"//results\n",
"printf('Beta_1 = %d degrees',beta1)"
   ]
   }
,
{
		   "cell_type": "markdown",
		   "metadata": {},
		   "source": [
			"## Example 11.2: Chapter11_Example2.sce"
		   ]
		  },
  {
"cell_type": "code",
	   "execution_count": null,
	   "metadata": {
	    "collapsed": true
	   },
	   "outputs": [],
"source": [
"clc\n",
"//initialization of new variables\n",
"clear\n",
"Cz=120 //m/s\n",
"R_av=0.5 //m\n",
"T01=300 //k\n",
"w=4000 //RPM\n",
"alpha1=22 //degrees\n",
"beta2=27 //degrees\n",
"eta=0.98\n",
"Cp=0.24 // kcal/kg C\n",
"gama=1.4\n",
"//calculations\n",
"Cp=Cp*4200 //1 kcal= 4200 J\n",
"alpha1=alpha1*%pi/180\n",
"beta2=beta2*%pi/180\n",
"U=2*%pi*R_av*w/60\n",
"DCth=U-Cz*(tan(alpha1)+tan(beta2))\n",
"Pr=(1+eta*U*DCth/(Cp*T01))^(gama/(gama-1))\n",
"//results\n",
"printf('The pressure rise (compression ratio) is %.2f',Pr)"
   ]
   }
,
{
		   "cell_type": "markdown",
		   "metadata": {},
		   "source": [
			"## Example 11.3: Chapter11_Example3.sce"
		   ]
		  },
  {
"cell_type": "code",
	   "execution_count": null,
	   "metadata": {
	    "collapsed": true
	   },
	   "outputs": [],
"source": [
"clc\n",
"//initialization of new variables\n",
"clear\n",
"beta_d=15 //degrees  flow turn angle\n",
"r2=0.5 //m  tip radius\n",
"r1=0.2 //m   hub radius\n",
"w=5500 //RPM   rotaion speed\n",
"Cz=120 //m/s  Axial velocity\n",
"T=350 //k   Temperature\n",
"eta=0.98  //Efficiency\n",
"// air properties\n",
"gama=1.4  \n",
"R=286.6\n",
"cp=0.24\n",
"//calculatons\n",
"cp=cp*4200\n",
"T01=T\n",
"Uhub=2*%pi*r1*w/60\n",
"Utip=2*%pi*r2*w/60\n",
"w1=sqrt(Utip^2+Cz^2)\n",
"a1=sqrt(gama*R*T)\n",
"M1=w1/a1\n",
"//Hub\n",
"beta1=atan(Uhub/Cz)\n",
"beta2=beta1*180/%pi-beta_d\n",
"beta2=beta2*%pi/180\n",
"Cp=1-cos(beta1)^2/cos(beta2)^2\n",
"DCth=Uhub-Cz*tan(beta2)\n",
"Pr=(1+eta*Uhub*DCth/(cp*T01))^(gama/(gama-1))\n",
"printf('Hub:')\n",
"printf('\n The pressure rise coefficient is %.2f',Cp)\n",
"printf('\n Compression ratio = %.3f',Pr)\n",
"//tip\n",
"beta1=atan(Utip/Cz)\n",
"beta2=beta1*180/%pi-beta_d\n",
"beta2=beta2*%pi/180\n",
"Cp=1-cos(beta1)^2/cos(beta2)^2\n",
"DCth=Utip-Cz*tan(beta2)\n",
"Pr=(1+eta*Utip*DCth/(cp*T01))^(gama/(gama-1))\n",
"printf('\n tip:')\n",
"printf('\n The pressure rise coefficient is %.2f',Cp)\n",
"printf('\n Compression ratio = %.3f',Pr)\n",
""
   ]
   }
,
{
		   "cell_type": "markdown",
		   "metadata": {},
		   "source": [
			"## Example 11.4: Chapter11_Example4.sce"
		   ]
		  },
  {
"cell_type": "code",
	   "execution_count": null,
	   "metadata": {
	    "collapsed": true
	   },
	   "outputs": [],
"source": [
"clc\n",
"//initialization of new variables\n",
"clear\n",
"r=0.5 //m   average radius\n",
"Cz=140 //m/s  Axial velocity\n",
"w=4000 //RPM  turn rate\n",
"T01=300 //K   Stagnation temperature ahead of rotor\n",
"alpha1=20 //degrees  Incoming velocity angle\n",
"Cp=0.45    //Pressure rise coefficient\n",
"eta=0.98  //efficiency\n",
"cp=0.24 //specific heat\n",
"gama=1.4\n",
"//calculations\n",
"temp=alpha1 //just to store it\n",
"cp=cp*4200\n",
"U=r*w*2*%pi/60\n",
"alpha1=alpha1*%pi/180\n",
"beta1=atan(U/Cz-tan(alpha1))\n",
"beta2=acos(sqrt(cos(beta1)^2/(1-Cp)))\n",
"DCth=U-Cz*(tan(alpha1)+tan(beta2))\n",
"Pr=(1+eta*U*DCth/(cp*T01))^(gama/(gama-1))\n",
"printf('part (1)')\n",
"printf('\n stagnation pressure rise (ratio)is %.2f',Pr)\n",
"// part (2)\n",
"Cz=100 //m/s\n",
"alpha1=atan(U/Cz-tan(beta1))\n",
"Dalpha=alpha1*180/%pi-temp\n",
"printf('\n Stator ahead of this stage must be rotated by %.1f degrees',Dalpha)\n",
"DCth=U-Cz*(tan(alpha1)+tan(beta2))\n",
"Pr=(1+eta*U*DCth/(cp*T01))^(gama/(gama-1))\n",
"printf('\n part (2)')\n",
"printf('\n stagnation pressure rise (ratio)is %.2f',Pr)"
   ]
   }
,
{
		   "cell_type": "markdown",
		   "metadata": {},
		   "source": [
			"## Example 11.5: Chapter11_Example5.sce"
		   ]
		  },
  {
"cell_type": "code",
	   "execution_count": null,
	   "metadata": {
	    "collapsed": true
	   },
	   "outputs": [],
"source": [
"clc\n",
"//initialization of new variables\n",
"clear\n",
"R=0.5\n",
"U=290 //m/s\n",
"c1=150 //m/s\n",
"alpha1=37 //degrees\n",
"beta2=alpha1\n",
"cp=0.24\n",
"eta=0.85\n",
"gama=1.4\n",
"T01=280 //k\n",
"//calculations\n",
"cp=cp*4200\n",
"alpha1=alpha1*%pi/180\n",
"Cth1=c1*sin(alpha1)\n",
"DCth=U-2*c1*sin(alpha1)\n",
"beta1=atan((U-Cth1)/c1*cos(alpha1))\n",
"Cp=1-cos(beta1)^2/cos(beta2)^2\n",
"Pr=(1+eta*U*DCth/(cp*T01))^(gama/(gama-1))\n",
"//results\n",
"printf('The compression ratio is %.2f',Pr)"
   ]
   }
,
{
		   "cell_type": "markdown",
		   "metadata": {},
		   "source": [
			"## Example 11.6: Chapter11_Example6.sce"
		   ]
		  },
  {
"cell_type": "code",
	   "execution_count": null,
	   "metadata": {
	    "collapsed": true
	   },
	   "outputs": [],
"source": [
"clc\n",
"//initialization of new variables\n",
"clear\n",
"r1=0.1 //m\n",
"r2=0.4 //m\n",
"bet=15 //degrees\n",
"eta=0.9\n",
"cp=0.24\n",
"w=5000 //RPM\n",
"Cth1=0\n",
"gama=1.4\n",
"T01=300 //K\n",
"//calculations\n",
"bet=bet*%pi/180\n",
"U2=r2*w*2*%pi/60\n",
"U1=r1*w*2*%pi/60\n",
"wr2=U2/2\n",
"cp=cp*4200\n",
"Cth2=wr2*tan(bet)+U2\n",
"Tr=(U2*Cth2-U1*Cth1)/(cp*T01)\n",
"Pr=(1+eta*Tr)^(gama/(gama-1))\n",
"//results\n",
"printf('The pressure rise is %.2f',Pr)"
   ]
   }
,
{
		   "cell_type": "markdown",
		   "metadata": {},
		   "source": [
			"## Example 11.7: Chapter11_Example7.sce"
		   ]
		  },
  {
"cell_type": "code",
	   "execution_count": null,
	   "metadata": {
	    "collapsed": true
	   },
	   "outputs": [],
"source": [
"clc\n",
"//initialization of new variables\n",
"clear\n",
"w=1000 //RPM\n",
"r1=0.05 //m\n",
"r2=0.10 //m\n",
"bet=0 //degrees\n",
"eta=0.9\n",
"r=1000 //kg/m^3\n",
"//calculations\n",
"bet=bet*%pi/180\n",
"U2=r2*w*2*%pi/60\n",
"Cth2=U2\n",
"dp=r*eta*U2*Cth2\n",
"U1=r1*w*2*%pi/60\n",
"beta1=50 //degrees\n",
"beta1=90-beta1\n",
"beta1=beta1*%pi/180\n",
"c1=U1*tan(beta1)\n",
"m=r*c1*%pi*r1^2\n",
"P=m*U2*Cth2\n",
"//results\n",
"printf('Pressure rise is %.1f N/m^2',dp)\n",
"printf('\n mass flow rate is %.2f kg/s',m)\n",
"printf('\n Power = %.2f W',P)\n",
"\n",
"//wrong answer for pressure rise part in text"
   ]
   }
,
{
		   "cell_type": "markdown",
		   "metadata": {},
		   "source": [
			"## Example 11.8: Chapter11_Example8.sce"
		   ]
		  },
  {
"cell_type": "code",
	   "execution_count": null,
	   "metadata": {
	    "collapsed": true
	   },
	   "outputs": [],
"source": [
"clc\n",
"//initialization of new variables\n",
"clear\n",
"S=3 //cm^2\n",
"m=15 //kg/s\n",
"alpha2=68.5 //degrees\n",
"r=0.3 //m\n",
"w=1000 //RPM\n",
"ma=100 //kg\n",
"rho=1000 //kg/m^3\n",
"g=9.8 //m/s^2\n",
"//calculations\n",
"S=S*10^-4\n",
"alpha2=alpha2*%pi/180\n",
"U=r*w*2*%pi/60\n",
"c2=m/(rho*S)\n",
"cz=c2*cos(alpha2)\n",
"beta2=atan((c2*sin(alpha2)-U)/cz)\n",
"P=m*U*2*cz*tan(beta2)\n",
"v=P/(ma*g)\n",
"//results\n",
"printf('beta_2 = %.1f degrees',beta2*180/%pi)\n",
"printf('\n v = %.2f m/s',v)"
   ]
   }
,
{
		   "cell_type": "markdown",
		   "metadata": {},
		   "source": [
			"## Example 11.9: Chapter11_Example9.sce"
		   ]
		  },
  {
"cell_type": "code",
	   "execution_count": null,
	   "metadata": {
	    "collapsed": true
	   },
	   "outputs": [],
"source": [
"clc\n",
"//initialization of new variables\n",
"clear\n",
"r=0.3 //m\n",
"w=7000 //RPM\n",
"T01=1200 //K\n",
"rho2=0.5 //kg/m^3\n",
"R=0.5\n",
"beta2=30 //degrees\n",
"eta=0.9\n",
"gama=1.4\n",
"cp=0.24\n",
"//calculations\n",
"cp=cp*4200\n",
"U=r*w*2*%pi/60\n",
"beta2=beta2*%pi/180\n",
"// to solve for c2 and w2\n",
"//Ax=b\n",
"A=[-sin(%pi/2-beta2) -sin(beta2)\n",
"   cos(%pi/2-beta2) -cos(beta2)]\n",
"b=[-U;0]\n",
"x=inv(A)*b\n",
"w2=x(2)\n",
"c2=x(1)\n",
"wt=U*(U-2*w2*sin(beta2))\n",
"Tr=wt/(cp*T01)\n",
"Pr=(1-Tr/eta)^(gama/(gama-1))\n",
"//results\n",
"printf('The power of the turbine (per unit mass) is %.2f m^2/s^2',wt)\n",
"printf('\n The pressure ratio is %.3f',Pr)\n",
"printf('\n Because R = %.2f, half of pressure drop takes place in turbine',R)"
   ]
   }
],
"metadata": {
		  "kernelspec": {
		   "display_name": "Scilab",
		   "language": "scilab",
		   "name": "scilab"
		  },
		  "language_info": {
		   "file_extension": ".sce",
		   "help_links": [
			{
			 "text": "MetaKernel Magics",
			 "url": "https://github.com/calysto/metakernel/blob/master/metakernel/magics/README.md"
			}
		   ],
		   "mimetype": "text/x-octave",
		   "name": "scilab",
		   "version": "0.7.1"
		  }
		 },
		 "nbformat": 4,
		 "nbformat_minor": 0
}
