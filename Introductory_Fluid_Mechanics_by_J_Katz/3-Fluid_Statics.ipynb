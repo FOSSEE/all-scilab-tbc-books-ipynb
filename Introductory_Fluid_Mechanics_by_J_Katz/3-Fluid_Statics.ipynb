{
"cells": [
 {
		   "cell_type": "markdown",
	   "metadata": {},
	   "source": [
       "# Chapter 3: Fluid Statics"
	   ]
	},
{
		   "cell_type": "markdown",
		   "metadata": {},
		   "source": [
			"## Example 3.1: Chapter3_Example1.sce"
		   ]
		  },
  {
"cell_type": "code",
	   "execution_count": null,
	   "metadata": {
	    "collapsed": true
	   },
	   "outputs": [],
"source": [
"clc\n",
"//initialization of new variables\n",
"clear\n",
"h=380 //m\n",
"T=300 //K\n",
"g=9.81 //m/s^2\n",
"R=286.6  //m2/(s^2 K)\n",
"//calculations\n",
"Pr=exp(-g*h/(R*T)) //P2/P1\n",
"P1=1  //atm\n",
"dP=(P1-Pr)*101325 //N/m^2\n",
"//result\n",
"printf('The difference in pressure is %d N/m^2',dP)\n",
"\n",
""
   ]
   }
,
{
		   "cell_type": "markdown",
		   "metadata": {},
		   "source": [
			"## Example 3.2: Chapter3_Example2.sce"
		   ]
		  },
  {
"cell_type": "code",
	   "execution_count": null,
	   "metadata": {
	    "collapsed": true
	   },
	   "outputs": [],
"source": [
"clc\n",
"//initialization of new variables\n",
"clear\n",
"d=4 //m  Diameter\n",
"h=10 //m  depth\n",
"th=60 //degrees  Wall inclination\n",
"rho=1000 //kg/m^3  density\n",
"g=9.8 //m/s^2  Accelaration due to gravity\n",
"//calculations\n",
"p=rho*g*h\n",
"th=th*%pi/180\n",
"R=d/2\n",
"S=%pi*R^2\n",
"Fz=-p*S\n",
"Y=%pi*R^4/(4*h*%pi*R^2/sin(th))\n",
"M=Fz*Y\n",
"//result\n",
"printf('Hydrostatic force = %.2e N',Fz)\n",
"printf('\n Y coordinate of center of pressure with respect to centroid is %.4f m',Y)\n",
"printf('\n The moment required to open it is %.2e Nm',-M)"
   ]
   }
,
{
		   "cell_type": "markdown",
		   "metadata": {},
		   "source": [
			"## Example 3.3: Chapter3_Example3.sce"
		   ]
		  },
  {
"cell_type": "code",
	   "execution_count": null,
	   "metadata": {
	    "collapsed": true
	   },
	   "outputs": [],
"source": [
"clc\n",
"//initialization of new variables\n",
"clear\n",
"d=5 //m  depth\n",
"h=11 //m     where traingle base is located\n",
"rho=1000 //kg/m^3  density\n",
"g=9.8 //m/s^2  Acceleration due to gravity\n",
"s=6 //m  from figure\n",
"theta=30 //degrees\n",
"k=8 //m from the figure\n",
"kk=4 //m  from the figure\n",
"b=6 //m from the figure\n",
"//calculations\n",
"theta=theta*%pi/180\n",
"h_bar=d+k*sin(theta)\n",
"p=rho*g*h_bar\n",
"S=0.5*b*(kk+k)\n",
"Fz=-p*S\n",
"Ixx=b*(kk+k)^3/36\n",
"Ixy=b*(b-2*s)*(kk+k)^2/72\n",
"y_bar=h_bar/sin(theta)\n",
"X=Ixy/(y_bar*S)\n",
"Y=Ixx/(y_bar*S)\n",
"//results\n",
"printf('Force = %.3e N',Fz)\n",
"printf('\n coordinates of center of pressure relative to centroid are \n (X, Y) = (%.3f, %.3f) m',X,Y)"
   ]
   }
,
{
		   "cell_type": "markdown",
		   "metadata": {},
		   "source": [
			"## Example 3.4: Chapter3_Example4.sce"
		   ]
		  },
  {
"cell_type": "code",
	   "execution_count": null,
	   "metadata": {
	    "collapsed": true
	   },
	   "outputs": [],
"source": [
"clc\n",
"//initialization of new variables\n",
"clear\n",
"F=20.9 //N\n",
"Vc=310 //cm^3\n",
"rho_w=1000 //kg/m^3\n",
"g=9.8 //m/s^2\n",
"//calculations\n",
"Wc=F+rho_w*g*Vc*10^-6\n",
"rho_c=Wc/(Vc*10^-6*g)\n",
"//result\n",
"printf('The crown density is %d kg/m^3',rho_c)\n",
""
   ]
   }
,
{
		   "cell_type": "markdown",
		   "metadata": {},
		   "source": [
			"## Example 3.5: Chapter3_Example5.sce"
		   ]
		  },
  {
"cell_type": "code",
	   "execution_count": null,
	   "metadata": {
	    "collapsed": true
	   },
	   "outputs": [],
"source": [
"clc\n",
"//initialization of new variables\n",
"clear\n",
"W=275 //kg\n",
"rho_c=1.22 //kg/m^3\n",
"D=15 //m\n",
"g=9.8 //m/s^2\n",
"Tc=290 //K\n",
"//calculations\n",
"L=W*g\n",
"Tr=1-(6*L/(rho_c*g*%pi*D^3))  // Tc/Th\n",
"Th=Tc/Tr\n",
"//result\n",
"printf('The temperature required is % .1f K',Th)"
   ]
   }
],
"metadata": {
		  "kernelspec": {
		   "display_name": "Scilab",
		   "language": "scilab",
		   "name": "scilab"
		  },
		  "language_info": {
		   "file_extension": ".sce",
		   "help_links": [
			{
			 "text": "MetaKernel Magics",
			 "url": "https://github.com/calysto/metakernel/blob/master/metakernel/magics/README.md"
			}
		   ],
		   "mimetype": "text/x-octave",
		   "name": "scilab",
		   "version": "0.7.1"
		  }
		 },
		 "nbformat": 4,
		 "nbformat_minor": 0
}
