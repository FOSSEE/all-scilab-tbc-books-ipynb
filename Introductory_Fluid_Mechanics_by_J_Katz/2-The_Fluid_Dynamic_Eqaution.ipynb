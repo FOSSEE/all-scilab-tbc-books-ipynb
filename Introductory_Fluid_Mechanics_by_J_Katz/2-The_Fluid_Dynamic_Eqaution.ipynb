{
"cells": [
 {
		   "cell_type": "markdown",
	   "metadata": {},
	   "source": [
       "# Chapter 2: The Fluid Dynamic Eqaution"
	   ]
	},
{
		   "cell_type": "markdown",
		   "metadata": {},
		   "source": [
			"## Example 2.3: Chapter2_Example3.sce"
		   ]
		  },
  {
"cell_type": "code",
	   "execution_count": null,
	   "metadata": {
	    "collapsed": true
	   },
	   "outputs": [],
"source": [
"clc\n",
"//initialization of new variables\n",
"clear\n",
"A1=30 //cm^2  Area at station 1\n",
"u1=1 //m/s    Velocity at station 1\n",
"A3=20 //cm^2  Area at station 3\n",
"u3=1.2 //m/s   Velocity at Station 3\n",
"A2=20 //cm^2    Area at station 2\n",
"rho=1000 //kg/m^3  density\n",
"// Calculations\n",
"// m stands for mass flow rate which is conserved\n",
"m1=rho*u1*A1*10^-4\n",
"m3=rho*u3*A3*10^-4\n",
"m2=m1-m3\n",
"u2=m2/(rho*A2*10^-4)\n",
"//result\n",
"printf('Mass flow rate entering station 1 is %.1f kg/s',m1)\n",
"printf('\n Mass flow rate entering station 2 is %.1f kg/s',m2)\n",
"printf('\n The average velocity leaving at station 2 is %.1f m/s ',u2)"
   ]
   }
,
{
		   "cell_type": "markdown",
		   "metadata": {},
		   "source": [
			"## Example 2.4: Chapter2_Example4.sce"
		   ]
		  },
  {
"cell_type": "code",
	   "execution_count": null,
	   "metadata": {
	    "collapsed": true
	   },
	   "outputs": [],
"source": [
"clc\n",
"//initialization of new variables\n",
"clear\n",
"Ue=5 //m/s  Velocity\n",
"Ae=20 //cm^2  Area\n",
"dp=0   // Pressure difference\n",
"rho=1000 //kg/m^3    density\n",
"//calculations\n",
"Ae=Ae*10^-4\n",
"Fx=rho*Ue^2*Ae\n",
"//result\n",
"printf('The force on the water pipe is %d N',Fx)"
   ]
   }
],
"metadata": {
		  "kernelspec": {
		   "display_name": "Scilab",
		   "language": "scilab",
		   "name": "scilab"
		  },
		  "language_info": {
		   "file_extension": ".sce",
		   "help_links": [
			{
			 "text": "MetaKernel Magics",
			 "url": "https://github.com/calysto/metakernel/blob/master/metakernel/magics/README.md"
			}
		   ],
		   "mimetype": "text/x-octave",
		   "name": "scilab",
		   "version": "0.7.1"
		  }
		 },
		 "nbformat": 4,
		 "nbformat_minor": 0
}
