{
"cells": [
 {
		   "cell_type": "markdown",
	   "metadata": {},
	   "source": [
       "# Chapter 4: Introduction to Fluid in Motion"
	   ]
	},
{
		   "cell_type": "markdown",
		   "metadata": {},
		   "source": [
			"## Example 4.1: Chapter4_Example1.sce"
		   ]
		  },
  {
"cell_type": "code",
	   "execution_count": null,
	   "metadata": {
	    "collapsed": true
	   },
	   "outputs": [],
"source": [
"clc\n",
"//initialization of new variables\n",
"clear\n",
"An=1 //cm^2\n",
"Un=15 //m/s\n",
"Ub=10 //m/s\n",
"U1=5 //m/s\n",
"U2=5 //m/s\n",
"th=120 //degrees\n",
"rho=1000 //kg/m^3\n",
"//calculations\n",
"th=th*%pi/180\n",
"Fx=rho*U1^2*An*10^-4*(cos(th)-1)\n",
"Fz=rho*U1^2*An*10^-4*sin(th)\n",
"W=Fx*Ub\n",
"//results\n",
"printf('The forces acting are Fx = %.2f N \n Fz = %.2f N ',Fx,Fz)\n",
"printf('\n The power generated is %.1f W',-W)"
   ]
   }
,
{
		   "cell_type": "markdown",
		   "metadata": {},
		   "source": [
			"## Example 4.2: Chapter4_Example2.sce"
		   ]
		  },
  {
"cell_type": "code",
	   "execution_count": null,
	   "metadata": {
	    "collapsed": true
	   },
	   "outputs": [],
"source": [
"clc\n",
"//initialization of new variables\n",
"clear\n",
"u=15 //m/s\n",
"D=0.1 //m\n",
"u1=10 //m/s\n",
"u2=10 //m/s\n",
"rho=1000 //kg/m^3\n",
"th=60 //degrees\n",
"//calculations\n",
"th=th*%pi/180\n",
"A=%pi*D^2/4\n",
"Fx=rho*u^2*A*(cos(th)-1)\n",
"//result\n",
"printf('Force on the wedge is  Fx = %.1f N',Fx)\n",
"printf('\n Fz = 0 N')"
   ]
   }
,
{
		   "cell_type": "markdown",
		   "metadata": {},
		   "source": [
			"## Example 4.7: Chapter4_Example7.sce"
		   ]
		  },
  {
"cell_type": "code",
	   "execution_count": null,
	   "metadata": {
	    "collapsed": true
	   },
	   "outputs": [],
"source": [
"clc\n",
"//initialization of new variables\n",
"clear\n",
"m=1 //kg\n",
"p=10^5 //N/m^2\n",
"A=1 //cm^2\n",
"w=0.5 //kg\n",
"rho=1000 //kg/m^2\n",
"//calculations\n",
"Ue=sqrt(2*p/rho)\n",
"m_0=w+m\n",
"m_s=w\n",
"Uf=Ue*log(m_0/m_s)\n",
"//results\n",
"printf('The exit velocity is %.2f m/s',Ue)\n",
"printf('\n The final velocity of the system is %.2f m/s ',Uf)"
   ]
   }
,
{
		   "cell_type": "markdown",
		   "metadata": {},
		   "source": [
			"## Example 4.8: Chapter4_Example8.sce"
		   ]
		  },
  {
"cell_type": "code",
	   "execution_count": null,
	   "metadata": {
	    "collapsed": true
	   },
	   "outputs": [],
"source": [
"clc\n",
"//initialization of new variables\n",
"clear\n",
"h=20 //cm\n",
"g=9.8 //m/s^2\n",
"rho_w=1000 //kg/m^3\n",
"rho_a=1.2 //kg/m^3\n",
"//calculations\n",
"dP=rho_w*g*h*10^-2\n",
"U=sqrt(2*dP/rho_a)\n",
"//results\n",
"printf('Air speed is %.2f m/s ',U)"
   ]
   }
],
"metadata": {
		  "kernelspec": {
		   "display_name": "Scilab",
		   "language": "scilab",
		   "name": "scilab"
		  },
		  "language_info": {
		   "file_extension": ".sce",
		   "help_links": [
			{
			 "text": "MetaKernel Magics",
			 "url": "https://github.com/calysto/metakernel/blob/master/metakernel/magics/README.md"
			}
		   ],
		   "mimetype": "text/x-octave",
		   "name": "scilab",
		   "version": "0.7.1"
		  }
		 },
		 "nbformat": 4,
		 "nbformat_minor": 0
}
