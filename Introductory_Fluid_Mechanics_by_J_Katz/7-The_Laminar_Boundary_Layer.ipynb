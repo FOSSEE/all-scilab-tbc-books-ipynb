{
"cells": [
 {
		   "cell_type": "markdown",
	   "metadata": {},
	   "source": [
       "# Chapter 7: The Laminar Boundary Layer"
	   ]
	},
{
		   "cell_type": "markdown",
		   "metadata": {},
		   "source": [
			"## Example 7.1: Chapter7_Example1.sce"
		   ]
		  },
  {
"cell_type": "code",
	   "execution_count": null,
	   "metadata": {
	    "collapsed": true
	   },
	   "outputs": [],
"source": [
"clc\n",
"//initialization of new variables\n",
"clear\n",
"w=1 //m\n",
"L=0.5 //m\n",
"u=2 //m/s\n",
"rho=1000 //kg/m^3\n",
"mu=10^-3\n",
"//calculations\n",
"ReL=rho*u*L/mu\n",
"Cd=2*0.664/sqrt(ReL)\n",
"D=2*Cd*1/2*rho*u^2*(w*L)\n",
"del=1.721*L/sqrt(ReL)\n",
"th=0.664*L/sqrt(ReL)\n",
"//results\n",
"printf('The drag on teh plate is %.3f N',D)"
   ]
   }
,
{
		   "cell_type": "markdown",
		   "metadata": {},
		   "source": [
			"## Example 7.2: Chapter7_Example2.sce"
		   ]
		  },
  {
"cell_type": "code",
	   "execution_count": null,
	   "metadata": {
	    "collapsed": true
	   },
	   "outputs": [],
"source": [
"clc\n",
"//initialization of new variables\n",
"clear\n",
"u=12 //m/s\n",
"w=10 //m\n",
"L=4 //m\n",
"rho=1.22 //kg/m^3\n",
"mu=1.8*10^-5\n",
"//calculations\n",
"ReL=rho*u*L/mu\n",
"Cd=0.0032 //from figure\n",
"D=2*Cd*1/2*rho*u^2*(w*L)\n",
"//results\n",
"printf('Total drag on plates is %.2f N',D)"
   ]
   }
],
"metadata": {
		  "kernelspec": {
		   "display_name": "Scilab",
		   "language": "scilab",
		   "name": "scilab"
		  },
		  "language_info": {
		   "file_extension": ".sce",
		   "help_links": [
			{
			 "text": "MetaKernel Magics",
			 "url": "https://github.com/calysto/metakernel/blob/master/metakernel/magics/README.md"
			}
		   ],
		   "mimetype": "text/x-octave",
		   "name": "scilab",
		   "version": "0.7.1"
		  }
		 },
		 "nbformat": 4,
		 "nbformat_minor": 0
}
