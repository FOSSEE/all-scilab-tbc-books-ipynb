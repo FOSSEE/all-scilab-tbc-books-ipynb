{
"cells": [
 {
		   "cell_type": "markdown",
	   "metadata": {},
	   "source": [
       "# Chapter 1: Basic Concepts and Fluid Properties"
	   ]
	},
{
		   "cell_type": "markdown",
		   "metadata": {},
		   "source": [
			"## Example 1.1: Chapter1_Example1.sce"
		   ]
		  },
  {
"cell_type": "code",
	   "execution_count": null,
	   "metadata": {
	    "collapsed": true
	   },
	   "outputs": [],
"source": [
"clc\n",
"//initialization of new variables\n",
"clear\n",
"M=29 // Molecular weight of air\n",
"R=8314.3 // J/mol K  Gas constant\n",
"T=300 //K  Temperature\n",
"P=1 //kg/cm^2  Pressure\n",
"g=9.8 //m/s^2  Acceleration due to gravity\n",
"//calculations\n",
"R=R/M\n",
"P=P*g*10^4\n",
"rho=P/(R*T)\n",
"//result\n",
"printf(' Density = %.3f kg/m^3 ',rho)"
   ]
   }
,
{
		   "cell_type": "markdown",
		   "metadata": {},
		   "source": [
			"## Example 1.2: Chapter1_Example2.sce"
		   ]
		  },
  {
"cell_type": "code",
	   "execution_count": null,
	   "metadata": {
	    "collapsed": true
	   },
	   "outputs": [],
"source": [
"clc\n",
"//initialization of new variables\n",
"clear\n",
"t=2 //cm  thickness\n",
"U=3 //m/s   Velocity\n",
"mu=0.29 //kg/m s   Coefficient of Viscocity\n",
"//calculations\n",
"tau=mu*U/(t*10^-2)\n",
"//results\n",
"printf(' Shear = %d N/m^2',tau)"
   ]
   }
,
{
		   "cell_type": "markdown",
		   "metadata": {},
		   "source": [
			"## Example 1.4: Chapter1_Example4.sce"
		   ]
		  },
  {
"cell_type": "code",
	   "execution_count": null,
	   "metadata": {
	    "collapsed": true
	   },
	   "outputs": [],
"source": [
"clc\n",
"//initialization of new variables\n",
"clear\n",
"sigma=2.5*10^-2 //N/m\n",
"D=10 //cm\n",
"//calculations\n",
"R=D/2\n",
"dP=2*sigma/(R*10^-2)\n",
"//result\n",
"printf('The pressure difference is = %.1f N/m^2',dP)"
   ]
   }
,
{
		   "cell_type": "markdown",
		   "metadata": {},
		   "source": [
			"## Example 1.5: Chapter1_Example5.sce"
		   ]
		  },
  {
"cell_type": "code",
	   "execution_count": null,
	   "metadata": {
	    "collapsed": true
	   },
	   "outputs": [],
"source": [
"clc\n",
"//initialization of new variables\n",
"clear\n",
"R=1 //mm\n",
"sigma=0.073 //N/m\n",
"theta=0 //degrees\n",
"rho=1000 //kg/m^3\n",
"g=9.8 //m/s^2\n",
"//calculations\n",
"theta=theta*%pi/180 //radians\n",
"h=2*sigma*cos(theta)/(rho*g*R*10^-3)\n",
"//result\n",
"printf('The rise of water = %.3f m',h)\n",
"R=1 //mm\n",
"sigma=0.48 //N/m\n",
"theta=130 //degrees\n",
"rho=13600 //kg/m^3\n",
"g=9.8 //m/s^2\n",
"//calculations\n",
"theta=theta*%pi/180 //radians\n",
"h=2*sigma*cos(theta)/(rho*g*R*10^-3)\n",
"//result\n",
"printf('\n The rise of mercury = %.4f m',h)\n",
""
   ]
   }
,
{
		   "cell_type": "markdown",
		   "metadata": {},
		   "source": [
			"## Example 1.6: Chapter1_Example6.sce"
		   ]
		  },
  {
"cell_type": "code",
	   "execution_count": null,
	   "metadata": {
	    "collapsed": true
	   },
	   "outputs": [],
"source": [
"clc\n",
"//initialization of new variables\n",
"clear\n",
"E=2.34*10^9 //N/m^2  Modulus of Elasticity\n",
"d=1 //km    depth\n",
"rho=1000 //kg/m^3   density\n",
"g=9.8 //m/s^2    Acceleration due to gravity\n",
"//calculations\n",
"d=d*1000 \n",
"dp=rho*g*d\n",
"dVV=dp/E\n",
"//result\n",
"printf('The change in pressure is %.2e N/m^2 ',dp)\n",
"printf('\n Change in volume is %.3e ',dVV)"
   ]
   }
,
{
		   "cell_type": "markdown",
		   "metadata": {},
		   "source": [
			"## Example 1.7: Chapter1_Example7.sce"
		   ]
		  },
  {
"cell_type": "code",
	   "execution_count": null,
	   "metadata": {
	    "collapsed": true
	   },
	   "outputs": [],
"source": [
"clc\n",
"//initialization of new variables\n",
"clear\n",
"T=300 //K\n",
"gama=1.4\n",
"R=286.6\n",
"//calculation\n",
"// for air\n",
"a=sqrt(gama*R*T)\n",
"//result\n",
"printf('The speed of sound in air is %.1f m/s ',a)\n",
"// for sea water\n",
"E=2.34*10^9 // N/m^2\n",
"rho=1000 //kg/cm^2\n",
"a=sqrt(E/rho)\n",
"//result\n",
"printf(' \n The speed of sound in sea waer is %d m/s ',a)"
   ]
   }
],
"metadata": {
		  "kernelspec": {
		   "display_name": "Scilab",
		   "language": "scilab",
		   "name": "scilab"
		  },
		  "language_info": {
		   "file_extension": ".sce",
		   "help_links": [
			{
			 "text": "MetaKernel Magics",
			 "url": "https://github.com/calysto/metakernel/blob/master/metakernel/magics/README.md"
			}
		   ],
		   "mimetype": "text/x-octave",
		   "name": "scilab",
		   "version": "0.7.1"
		  }
		 },
		 "nbformat": 4,
		 "nbformat_minor": 0
}
