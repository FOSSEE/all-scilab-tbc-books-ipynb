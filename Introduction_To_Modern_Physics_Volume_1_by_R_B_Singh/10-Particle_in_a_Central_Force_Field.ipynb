{
"cells": [
 {
		   "cell_type": "markdown",
	   "metadata": {},
	   "source": [
       "# Chapter 10: Particle in a Central Force Field"
	   ]
	},
{
		   "cell_type": "markdown",
		   "metadata": {},
		   "source": [
			"## Example 2.9_2: Ex_2.sce"
		   ]
		  },
  {
"cell_type": "code",
	   "execution_count": null,
	   "metadata": {
	    "collapsed": true
	   },
	   "outputs": [],
"source": [
"//variable initialization\n",
"x=0:0.1:9999;\n",
"x0=0;\n",
"x1=9999;\n",
"\n",
"//calculation\n",
"I=integrate('x^2*exp(-x)','x',x0,x1);\n",
"A=sqrt(1/(I*(%pi/2)));\n",
"r=(1/4)*integrate('x^3*exp(-x)','x',x0,x1);\n",
"\n",
"printf('\n A = %f*a0^-1.5\n r = %.1f*a0',A,r);"
   ]
   }
,
{
		   "cell_type": "markdown",
		   "metadata": {},
		   "source": [
			"## Example 2.9_3: Ex_3.sce"
		   ]
		  },
  {
"cell_type": "code",
	   "execution_count": null,
	   "metadata": {
	    "collapsed": true
	   },
	   "outputs": [],
"source": [
"//variable initialization\n",
"r=0:.01:1;\n",
"r0=0;\n",
"r1=1;\n",
"\n",
"//calculation\n",
"P=4*integrate('r^2*exp(-2*r)','r',r0,r1);\n",
"\n",
"printf('\n Probability = %.2f',P);"
   ]
   }
,
{
		   "cell_type": "markdown",
		   "metadata": {},
		   "source": [
			"## Example 2.9_4: Ex_4.sce"
		   ]
		  },
  {
"cell_type": "code",
	   "execution_count": null,
	   "metadata": {
	    "collapsed": true
	   },
	   "outputs": [],
"source": [
"//variable initialization\n",
"r=0:.01:9999;\n",
"theta=0:.01:%pi;\n",
"phi=0:.01:2*%pi;\n",
"\n",
"//calculation\n",
"I1=integrate('r^4*exp(-r)','r',0,9999);\n",
"I2=integrate('sin(theta)*(cos(theta))^2','theta',0,%pi);\n",
"I3=integrate('1','phi',0,2*%pi);\n",
"A=sqrt(1/(2*%pi*I1*I2*I3));\n",
"\n",
"printf('\n A = %f*a0^(-5/2)',A);"
   ]
   }
],
"metadata": {
		  "kernelspec": {
		   "display_name": "Scilab",
		   "language": "scilab",
		   "name": "scilab"
		  },
		  "language_info": {
		   "file_extension": ".sce",
		   "help_links": [
			{
			 "text": "MetaKernel Magics",
			 "url": "https://github.com/calysto/metakernel/blob/master/metakernel/magics/README.md"
			}
		   ],
		   "mimetype": "text/x-octave",
		   "name": "scilab",
		   "version": "0.7.1"
		  }
		 },
		 "nbformat": 4,
		 "nbformat_minor": 0
}
