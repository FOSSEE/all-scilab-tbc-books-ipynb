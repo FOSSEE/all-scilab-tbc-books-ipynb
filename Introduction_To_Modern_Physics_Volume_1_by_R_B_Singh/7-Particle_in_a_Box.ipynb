{
"cells": [
 {
		   "cell_type": "markdown",
	   "metadata": {},
	   "source": [
       "# Chapter 7: Particle in a Box"
	   ]
	},
{
		   "cell_type": "markdown",
		   "metadata": {},
		   "source": [
			"## Example 2.6_1: Ex_1.sce"
		   ]
		  },
  {
"cell_type": "code",
	   "execution_count": null,
	   "metadata": {
	    "collapsed": true
	   },
	   "outputs": [],
"source": [
"//variable initialization\n",
"x=(1/3):.01:(2/3);\n",
"x0=1/3;\n",
"x1=2/3;\n",
"\n",
"//calculation\n",
"P=2*integrate('(sin(%pi*x))^2','x',x0,x1);\n",
"\n",
"printf('The required probability = %.2f',P);"
   ]
   }
,
{
		   "cell_type": "markdown",
		   "metadata": {},
		   "source": [
			"## Example 2.6_2: Ex_2.sce"
		   ]
		  },
  {
"cell_type": "code",
	   "execution_count": null,
	   "metadata": {
	    "collapsed": true
	   },
	   "outputs": [],
"source": [
"//variable initialization\n",
"x=0:.001:(1/3);\n",
"y=0:.001:(1/3);\n",
"x0=0;\n",
"x1=1/3;\n",
"y0=0;\n",
"y1=1/3;\n",
"\n",
"p=4*integrate('(sin(%pi*x))^2','x',x0,x1)*integrate('(sin(%pi*y))^2','y',y0,y1);\n",
"\n",
"printf('The required probability = %.2f',p);"
   ]
   }
,
{
		   "cell_type": "markdown",
		   "metadata": {},
		   "source": [
			"## Example 2.6_3: Ex_3.sce"
		   ]
		  },
  {
"cell_type": "code",
	   "execution_count": null,
	   "metadata": {
	    "collapsed": true
	   },
	   "outputs": [],
"source": [
"//variable initialization\n",
"L = 10;\n",
"n = 2;\n",
"\n",
"//Calculation\n",
"X = L/2;\n",
"X_square = ((L^2)/3)-((L^2)/(2*(n^2)*(3.14^2)));\n",
"\n",
"printf('\nExpectation of X = %.2f',X);\n",
"printf('\nExpectation of X^2 = %.2f',X_square);"
   ]
   }
],
"metadata": {
		  "kernelspec": {
		   "display_name": "Scilab",
		   "language": "scilab",
		   "name": "scilab"
		  },
		  "language_info": {
		   "file_extension": ".sce",
		   "help_links": [
			{
			 "text": "MetaKernel Magics",
			 "url": "https://github.com/calysto/metakernel/blob/master/metakernel/magics/README.md"
			}
		   ],
		   "mimetype": "text/x-octave",
		   "name": "scilab",
		   "version": "0.7.1"
		  }
		 },
		 "nbformat": 4,
		 "nbformat_minor": 0
}
