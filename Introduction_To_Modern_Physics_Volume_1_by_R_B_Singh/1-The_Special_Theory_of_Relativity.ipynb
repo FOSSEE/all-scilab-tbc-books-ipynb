{
"cells": [
 {
		   "cell_type": "markdown",
	   "metadata": {},
	   "source": [
       "# Chapter 1: The Special Theory of Relativity"
	   ]
	},
{
		   "cell_type": "markdown",
		   "metadata": {},
		   "source": [
			"## Example 1.1_10: Ex_10.sce"
		   ]
		  },
  {
"cell_type": "code",
	   "execution_count": null,
	   "metadata": {
	    "collapsed": true
	   },
	   "outputs": [],
"source": [
"//variable initialization\n",
"c=3*10^8;                                  //speed of light (meter/second)\n",
"\n",
"//calculation of velocity of the reference frame s'\n",
"Beta=(1-((1/1.25)^2))^(1/2);                 //calculating Beta (1.25 comes from the fact that in frame s' density of bloc is 25% greater than frame s)\n",
"v=Beta*c;                                    //velocity of the reference frame s'\n",
"\n",
"printf('\nBeta = %.1e\nThe velocity of the frame s` = %.1e meter/second',Beta,v);"
   ]
   }
,
{
		   "cell_type": "markdown",
		   "metadata": {},
		   "source": [
			"## Example 1.1_11: Ex_11.sce"
		   ]
		  },
  {
"cell_type": "code",
	   "execution_count": null,
	   "metadata": {
	    "collapsed": true
	   },
	   "outputs": [],
"source": [
"//Variable initialization\n",
"E=0.25                                                                          //Energy of photon (MeV)\n",
"Theta=(120*%pi)/180;                                                            //Scattering angle of photon (radian)\n",
"a=0.51                                                                          //Value of m0*c^2 (Mev)\n",
"\n",
"//Calculation of energy of the photon\n",
"E_dash=E/(1+(E/a)*(1-cos(Theta)));                                              //Energy of the scattered photon (MeV)\n",
"\n",
"printf('\nEnergy of the scattered photon = %.3f Mev',E_dash);"
   ]
   }
,
{
		   "cell_type": "markdown",
		   "metadata": {},
		   "source": [
			"## Example 1.1_12: Ex_12.sce"
		   ]
		  },
  {
"cell_type": "code",
	   "execution_count": null,
	   "metadata": {
	    "collapsed": true
	   },
	   "outputs": [],
"source": [
"//variable initialization\n",
"deltaTow=1*10^(-6);                          //mean proper lifetime of particle (second)\n",
"Beta=0.9                                     //value of Beta\n",
"v=2.7*10^8;                                  //velocity of particle (meter/second)\n",
"\n",
"//part(i):lifetime of the particle in the laboratory frame\n",
"deltaT=deltaTow/((1-Beta^2)^(1/2));          //lifetime of the particle in the laboratory frame (second)\n",
"\n",
"//part(ii):distance traversed by the particle in the laboratory frame\n",
"d=v*deltaT;                                  //distance traversed by the particle in the laboratory before disintegration (meter)\n",
"\n",
"printf('\nIn laboratory frame:\n\t lifetime of the particle = %.2e second\n\t distance traversed by the particle = %.1e meter',deltaT,d);"
   ]
   }
,
{
		   "cell_type": "markdown",
		   "metadata": {},
		   "source": [
			"## Example 1.1_13: Ex_13.sce"
		   ]
		  },
  {
"cell_type": "code",
	   "execution_count": null,
	   "metadata": {
	    "collapsed": true
	   },
	   "outputs": [],
"source": [
"//variable initialization\n",
"Theta=120                                                                       //Scattering angle of photon (degree)\n",
"T=0.45                                                                          //Kinetic energy of electron (MeV)\n",
"a=0.51                                                                          //Value of m0*c^2 (Mev)\n",
"\n",
"//Calculation of the energy of the incident photon\n",
"E=0.5*T*(1+(1+(2*a)/(T*(sind(Theta/2))^2))^(1/2));                              //Energy of the incident photon (MeV)\n",
"\n",
"printf('\nEnergy of the incident photon = %.2f Mev',E);"
   ]
   }
,
{
		   "cell_type": "markdown",
		   "metadata": {},
		   "source": [
			"## Example 1.1_14: Ex_14.sce"
		   ]
		  },
  {
"cell_type": "code",
	   "execution_count": null,
	   "metadata": {
	    "collapsed": true
	   },
	   "outputs": [],
"source": [
"//variable initialization\n",
"c=3*10^8;                                 //speed of light (meter/second)\n",
"u1=0.6*c;                                 //speed of Beta particle 1 in lab frame (meter/second)\n",
"u2=-0.8*c;                                //speed of Beta particle 2 in lab frame (meter/second)\n",
"v=u1;                                     //velocity of frame s' where frame s' is attached to the first Beta particle (meter/second)\n",
"\n",
"//velocity of 2nd Beta particle relative to the 1st Beta particle(assuming frame s' is attached to the first Beta particle)\n",
"u2_dash=(u2-v)/(1-((u2*v)/c^2));          //velocity of 2nd Beta particle relative to the 1st Beta particle (meter/second)\n",
"\n",
"printf('\n\tThe velocity of 2nd Beta particle relative to the 1st Beta particle = %.2e meter/second',u2_dash);"
   ]
   }
,
{
		   "cell_type": "markdown",
		   "metadata": {},
		   "source": [
			"## Example 1.1_15: Ex_15.sce"
		   ]
		  },
  {
"cell_type": "code",
	   "execution_count": null,
	   "metadata": {
	    "collapsed": true
	   },
	   "outputs": [],
"source": [
"//variable initialization\n",
"m0=1                                    //let rest mass of particle to be 1 (kg)\n",
"m=3*m0;                                 //moving mass of particle (kg)\n",
"c=3*10^8;                               //speed of light (meter/second)\n",
"\n",
"//calculation of speed of particle\n",
"Beta=(1-(m0/m)^2)^(1/2);                //Calculation fo Beta\n",
"v=Beta*c;                               //speed of particle (meter/second)\n",
"\n",
"printf('\n\tThe speed of The particle = %.2e meter/second',v);"
   ]
   }
,
{
		   "cell_type": "markdown",
		   "metadata": {},
		   "source": [
			"## Example 1.1_23: Ex_23.sce"
		   ]
		  },
  {
"cell_type": "code",
	   "execution_count": null,
	   "metadata": {
	    "collapsed": true
	   },
	   "outputs": [],
"source": [
"//variable initialization\n",
"RestEnergy=0.51                            //energy of electron if the electron is at rest (Mev)\n",
"KineticEnergy=2                            //kinetic energy of electron (Bev)\n",
"c=3*10^8;                                  //speed of light (meter/second)\n",
"//calculation of momentum of electron\n",
"p=(KineticEnergy*10^9)/c;                         //momentum of electron neglecting rest energy relative to kinetic energy (Bev*second/meter)\n",
"printf('\n\tThe momentum of the electron = %.2f ev*second/meter',p);"
   ]
   }
,
{
		   "cell_type": "markdown",
		   "metadata": {},
		   "source": [
			"## Example 1.1_24: Ex_24.sce"
		   ]
		  },
  {
"cell_type": "code",
	   "execution_count": null,
	   "metadata": {
	    "collapsed": true
	   },
	   "outputs": [],
"source": [
"//variable initialization\n",
"n=0.01                            //fractional increase in momentum\n",
"c=3*10^8;                         //speed of light (meter/second)\n",
"\n",
"//calculation of velocity of particle\n",
"Beta=(n*(2-n))^(1/2);             //calculation of Beta\n",
"v=Beta*c;                         //velocity of particle (meter/second)\n",
"\n",
"printf('\nBeta = %.1e\nThe velocity of the particle = %.2e meter/second',Beta,v);"
   ]
   }
,
{
		   "cell_type": "markdown",
		   "metadata": {},
		   "source": [
			"## Example 1.1_26: Ex_26.sce"
		   ]
		  },
  {
"cell_type": "code",
	   "execution_count": null,
	   "metadata": {
	    "collapsed": true
	   },
	   "outputs": [],
"source": [
"//variable initialization\n",
"RestEnergy=0.51                                   //rest energy of electron (Mev)\n",
"T=1                                               //potential difference i.e. kinetic energy (Mev)\n",
"c=3*10^8;                                         //speed of light (meter/second)\n",
"\n",
"//calculation of speed of electron\n",
"Beta=(1-(RestEnergy/(T+RestEnergy))^2)^(1/2);     //calculation of Beta\n",
"v=Beta*c;                                         //speed of electron (meter/second)\n",
"\n",
"printf('\n\tThe speed of the electron = %.2e meter/second',v);\n",
"\n",
"//Note: In the book answer of Beta is slightly wrong"
   ]
   }
,
{
		   "cell_type": "markdown",
		   "metadata": {},
		   "source": [
			"## Example 1.1_27: Ex_27.sce"
		   ]
		  },
  {
"cell_type": "code",
	   "execution_count": null,
	   "metadata": {
	    "collapsed": true
	   },
	   "outputs": [],
"source": [
"//variable initialization\n",
"RestEnergy=0.51                                   //rest energy of electron (Mev)\n",
"T=2000                                            //potential difference i.e. kinetic energy (Mev)\n",
"\n",
"//part(i)effective mass of electron in terms of its rest mass\n",
"EffectiveMass=1+(T/RestEnergy);                   //ratio of effective mass of electron and rest mass\n",
"\n",
"//part(ii)speed of electron in terms of the speed of light\n",
"Beta=(1-(1/EffectiveMass)^2)^(1/2);               //Calculatio of Beta\n",
"\n",
"printf('\n\t The effective mass of electron = %.2f*mo    ;mo is rest mass of electron\n\t The speed of electron = %.10f*c    ;c is speed of light',EffectiveMass,Beta);\n",
"\n",
"//Note: In the book answer of m/mo is slightly wrong"
   ]
   }
,
{
		   "cell_type": "markdown",
		   "metadata": {},
		   "source": [
			"## Example 1.1_28: Ex_28.sce"
		   ]
		  },
  {
"cell_type": "code",
	   "execution_count": null,
	   "metadata": {
	    "collapsed": true
	   },
	   "outputs": [],
"source": [
"//variable initialization\n",
"c=3*10^8;                                                          //speed of light(meter/second)\n",
"v1=0.6*c;                                                         //initial velocity of particle (meter/second)\n",
"v2=0.8*c;                                                         //final velocity of particle (meter/second)\n",
"\n",
"//Calculation of work required to increase the velocity from v1 to v2:\n",
"\n",
"//Classically\n",
"W_Classic=0.5*((v2/c)^2-(v1/c)^2);                                //ratio of work and m0*c^2 (mo is the rest mass of particle and c is the speed of light)\n",
"\n",
"//Relativistically\n",
"W_Relative=(1/(1-(v2/c)^2)^(1/2))-(1/(1-(v1/c)^2)^(1/2));         //ratio of work and m0*c^2 (mo is the rest mass of particle and c is the speed of light)\n",
"\n",
"printf('\nWork required:\n\t Classically: Work = %.2f*m0*c^2\n\t Relativistically: Work = %.3f*m0*c^2\nWhere m0:rest mass of particle & c:speed of light',W_Classic,W_Relative);"
   ]
   }
,
{
		   "cell_type": "markdown",
		   "metadata": {},
		   "source": [
			"## Example 1.1_29: Ex_29.sce"
		   ]
		  },
  {
"cell_type": "code",
	   "execution_count": null,
	   "metadata": {
	    "collapsed": true
	   },
	   "outputs": [],
"source": [
"//variable initialization\n",
"h=6.63*10^-34                                     //planck's constant (joule*second)\n",
"c=3*10^8                                          //speed of light (meter/second)\n",
"lambda1=5000*10^-10                               //wavelength (meter)\n",
"lambda2=0.1*10^-10                                //wavelength (meter)\n",
"\n",
"//Calculation of effective mass of photon:\n",
"\n",
"//part(i): wavelength=5000 Å\n",
"m1=h/(lambda1*c);                                 //effective mass of photon of wavelength 5000 Å\n",
"\n",
"//part(ii): wavelength=0.1 Å\n",
"m2=h/(lambda2*c);                                 //effective mass of photon of wavelength 0.1 Å\n",
"\n",
"printf('\neffective mass of photon:\n\t(i) mass = %.2e kg\n\t(ii) mass = %.2e kg',m1,m2);"
   ]
   }
,
{
		   "cell_type": "markdown",
		   "metadata": {},
		   "source": [
			"## Example 1.1_30: Ex_30.sce"
		   ]
		  },
  {
"cell_type": "code",
	   "execution_count": null,
	   "metadata": {
	    "collapsed": true
	   },
	   "outputs": [],
"source": [
"//variable initialization\n",
"RestEnergy=0.51                                   //rest energy of electron (Mev)\n",
"\n",
"//calculation of minimum energy of a gamma ray photon which is required to produce an electron positron pair\n",
"E=2*RestEnergy;                                   //minimum energy of gamma ray photon (Mev)\n",
"\n",
"printf('\nMinimum energy required = %.2f Mev',E);"
   ]
   }
,
{
		   "cell_type": "markdown",
		   "metadata": {},
		   "source": [
			"## Example 1.1_33: Ex_33.sce"
		   ]
		  },
  {
"cell_type": "code",
	   "execution_count": null,
	   "metadata": {
	    "collapsed": true
	   },
	   "outputs": [],
"source": [
"//variable initialization\n",
"c=3*10^8;                                      //Speed of sound (meter/second)\n",
"M=1.97*10^30;                                  //Mass of sun (kg)\n",
"R=1.5*10^11;                                   //Mean radius of the earth orbit (meter)\n",
"sigma=1.4*10^3;                                //Solar energy received by the earth (joule/meter^2*second)\n",
"//calculation of the fractional loss of mass of the sun per second\n",
"loss=(4*%pi*R^2*sigma)/(M*c^2);                //Fractional loss of mass of the sun per second\n",
"printf('\nThe fractional loss of mass of the sun per second = %.0e',loss);"
   ]
   }
,
{
		   "cell_type": "markdown",
		   "metadata": {},
		   "source": [
			"## Example 1.1_3: Ex_3.sce"
		   ]
		  },
  {
"cell_type": "code",
	   "execution_count": null,
	   "metadata": {
	    "collapsed": true
	   },
	   "outputs": [],
"source": [
"//variable initialization\n",
"x=50,y=20,z=10                            //x,y,z cordinates in meters(frame s)\n",
"t=5*10^(-8);                             //time in seconds(frame s)\n",
"velocity=0.6*3*10^8;                     //velocity of observer in s' frame relative to s in meter/second\n",
"c=3*10^8;                                //speed of light in meter/second\n",
"Beta=0.6;\n",
"Gamma=1/((1-Beta^2)^(1/2));\n",
"\n",
"//calculation of cordinates in s' frame\n",
"xdash=Gamma*(x-(velocity*t));             //value of x cordinate in frame s' in meters\n",
"ydash=y;                                  //value of y cordinate in frame s' in meters\n",
"zdash=z;                                  //value of z cordinate in frame s' in meters\n",
"tdash=Gamma*(t-((velocity*x)/(c^2)));     //value of t in frame s' in seconds\n",
"\n",
"printf('\nValue of space time cordinates in frame s`:\n\t x`=%.2f meter\n\t y`=%.0f meter\n\t z`=%.0f meter\n\t t`=%.2e second',xdash,ydash,zdash,tdash);"
   ]
   }
,
{
		   "cell_type": "markdown",
		   "metadata": {},
		   "source": [
			"## Example 1.1_4: Ex_4.sce"
		   ]
		  },
  {
"cell_type": "code",
	   "execution_count": null,
	   "metadata": {
	    "collapsed": true
	   },
	   "outputs": [],
"source": [
"//variable initialization\n",
"x1=20                                         //position of event 1 in meters(frame s)\n",
"t1=2*10^(-8);                                //time of event 1 in seconds(frame s)\n",
"x2=60                                        //position of event 2 in meters(frame s)\n",
"t2=3*10^(-8);                                //time of event 2 in seconds(frame s)\n",
"c=3*10^8;                                   //speed of light in meter/second\n",
"v=0.6*c;                                    //speed of frame s' relative to frame s (meter/second)\n",
"Beta=0.6\n",
"Gamma=1/((1-Beta^2)^(1/2));\n",
"\n",
"//part(i):spatial separation of the events in frame s'\n",
"separation=Gamma*((x2-x1)-v*(t2-t1));       //spatial separation of the events in frame s' (meter)\n",
"\n",
"//part(ii):time interval between the two events in frame s'\n",
"interval=Gamma*((t2-t1)-(v*(x2-x1))/(c^2)); //time interval between the two events in frame s' (second)\n",
"\n",
"printf('\nIn frame s`:\n\t (i)spatial separation=%.2f meter\n\t (ii)time interval=%.2e second',separation,interval);"
   ]
   }
,
{
		   "cell_type": "markdown",
		   "metadata": {},
		   "source": [
			"## Example 1.1_5: Ex_5.sce"
		   ]
		  },
  {
"cell_type": "code",
	   "execution_count": null,
	   "metadata": {
	    "collapsed": true
	   },
	   "outputs": [],
"source": [
"//variable initialization\n",
"x1=24                                         //position of event 1 in meters(frame s)\n",
"t1=8*10^(-8);                                 //time of event 1 in seconds(frame s)\n",
"x2=48                                         //position of event 2 in meters(frame s)\n",
"t2=4*10^(-8);                                 //time of event 2 in seconds(frame s)\n",
"c=3*10^8;                                     //speed of light in meter/second\n",
"\n",
"//calculation of velocity of the frame s' so that both the events occur simultaneously\n",
"v=((c^2)*(t2-t1))/(x2-x1);                    //velocity of the frame s' (meter/second)\n",
"\n",
"printf('\nvelocity of the frame s` = %.1e meter/second',v);"
   ]
   }
,
{
		   "cell_type": "markdown",
		   "metadata": {},
		   "source": [
			"## Example 1.1_6: Ex_6.sce"
		   ]
		  },
  {
"cell_type": "code",
	   "execution_count": null,
	   "metadata": {
	    "collapsed": true
	   },
	   "outputs": [],
"source": [
"//variable initialization\n",
"interval_s=1                                              //time difference between two events in frame s (second)\n",
"interval_sdash=4                                          //time difference between two events in frame s' (second)\n",
"separation_s=0                                           //spatial separation of two events in frame s (meter)\n",
"c=3*10^8;                                                //speed of light (meter/second)\n",
"v=rand();                                                  //assign a random value to unknown velocity(meter/second)\n",
"\n",
"//calculation of spatial separation of the events in frame s':\n",
"Gamma=interval_sdash/(interval_s-(v*(separation_s))/(c^2)); //calculating gamma\n",
"\n",
"separation=-2*(((Gamma^2)-1)^(1/2))*c;                     //spatial separation in s' (meter)\n",
"\n",
"printf('\nspatial separation of the events in frame s` = %.2e meter',separation);"
   ]
   }
,
{
		   "cell_type": "markdown",
		   "metadata": {},
		   "source": [
			"## Example 1.1_7: Ex_7.sce"
		   ]
		  },
  {
"cell_type": "code",
	   "execution_count": null,
	   "metadata": {
	    "collapsed": true
	   },
	   "outputs": [],
"source": [
"//variable initialization\n",
"interval_s=0                                                   //time difference between two events in frame s (second)\n",
"separation_s=1;                                                //spatial separation of two events in frame s (meter)\n",
"separation_sdash=2;                                            //spatial separation of two events in frame s' (meter)\n",
"c=3*10^8;                                                      //speed of light (meter/second)\n",
"v=rand();                                                      //assign a random value to unknown velocity of frame s' with respect to frame s (meter/second)\n",
"\n",
"//calculation of time interval between the events in frame s'\n",
"Gamma=separation_sdash/(separation_s-(v*interval_s));          //calculating value of Gamma\n",
"Beta=(1-1/(Gamma^2))^(1/2);                                    //calculating value of Beta\n",
"v=Beta*c;                                                      //velocity of s' with respect to s (meter/second)\n",
"interval_sdash=Gamma*(interval_s-((v*separation_s)/(c^2)));    //time interval between the events in frame s' (second)\n",
"\n",
"printf('\nThe time interval between the events in frame s` = %.2e X0',interval_sdash);"
   ]
   }
,
{
		   "cell_type": "markdown",
		   "metadata": {},
		   "source": [
			"## Example 1.1_8: Ex_8.sce"
		   ]
		  },
  {
"cell_type": "code",
	   "execution_count": null,
	   "metadata": {
	    "collapsed": true
	   },
	   "outputs": [],
"source": [
"//variable initialization\n",
"IbyI_not=.99                       //ratio of moving length and rest length\n",
"c=3*10^8;                          //speed of light (meter/second)\n",
"\n",
"//calculation of velocity of rocket ship\n",
"Beta=(1-IbyI_not^2)^(1/2);         //calculating value of Beta\n",
"v=Beta*c;                          //velocity of rocket ship (meter/second)\n",
"\n",
"printf('\nThe velocity of the rocket ship = %.2e meter/second',v);"
   ]
   }
,
{
		   "cell_type": "markdown",
		   "metadata": {},
		   "source": [
			"## Example 1.1_9: Ex_9.sce"
		   ]
		  },
  {
"cell_type": "code",
	   "execution_count": null,
	   "metadata": {
	    "collapsed": true
	   },
	   "outputs": [],
"source": [
"//variable initialization\n",
"l_dash=1                                                                                                //length of the rod in frame s' (meter)\n",
"Theta_dash_degree=45                                                                                    //angle of the rod with x-axis in frame s' (degree)\n",
"Beta=1/2                                                                                                //value of Beta\n",
"\n",
"//calculation of the length of the rod and its inclination with x-axis in the frame s\n",
"Theta_dash_radian=Theta_dash_degree*(%pi/180);                                                          //conversion of angle Theta in radian from degree (radian)\n",
"l=((l_dash^2)*((sin(Theta_dash_radian))^2+((1-(Beta^2))*((cos(Theta_dash_radian))^2))))^(1/2);          //length of the rod in frame s (meter)\n",
"tan_theta=tan(Theta_dash_radian)/((1-Beta^2)^(1/2));                                                    //tan of angle of rod with x-axis in frame s\n",
"theta=atand(tan_theta);                                                                                 //angle of rod with x-axis in frame s (degree)\n",
"\n",
"printf('\n\t The length of the rod = %f meter\n\t Inclination of rod with x-axis = %f degree',l,theta);"
   ]
   }
],
"metadata": {
		  "kernelspec": {
		   "display_name": "Scilab",
		   "language": "scilab",
		   "name": "scilab"
		  },
		  "language_info": {
		   "file_extension": ".sce",
		   "help_links": [
			{
			 "text": "MetaKernel Magics",
			 "url": "https://github.com/calysto/metakernel/blob/master/metakernel/magics/README.md"
			}
		   ],
		   "mimetype": "text/x-octave",
		   "name": "scilab",
		   "version": "0.7.1"
		  }
		 },
		 "nbformat": 4,
		 "nbformat_minor": 0
}
