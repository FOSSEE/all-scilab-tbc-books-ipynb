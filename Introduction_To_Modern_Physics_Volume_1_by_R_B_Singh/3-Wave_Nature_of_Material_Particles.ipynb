{
"cells": [
 {
		   "cell_type": "markdown",
	   "metadata": {},
	   "source": [
       "# Chapter 3: Wave Nature of Material Particles"
	   ]
	},
{
		   "cell_type": "markdown",
		   "metadata": {},
		   "source": [
			"## Example 2.2_10: Ex_10.sce"
		   ]
		  },
  {
"cell_type": "code",
	   "execution_count": null,
	   "metadata": {
	    "collapsed": true
	   },
	   "outputs": [],
"source": [
"//variable initialization\n",
"r=0.53                                                                          //Radius of the first Bohr orbit in hydrogen atom (Å)\n",
"\n",
"//calculation of de Broglie wavelength of electron\n",
"lembda=2*%pi*r;                                                                 //de Broglie wavelength of electron in first Bohr orbit in hydrogen atom\n",
"\n",
"printf('\nde Broglie wavelength of electron in first Bohr orbit in hydrogen atom = %.1f Å',lembda);"
   ]
   }
,
{
		   "cell_type": "markdown",
		   "metadata": {},
		   "source": [
			"## Example 2.2_12: Ex_12.sce"
		   ]
		  },
  {
"cell_type": "code",
	   "execution_count": null,
	   "metadata": {
	    "collapsed": true
	   },
	   "outputs": [],
"source": [
"//variable initialization\n",
"v=10000                                                                         //speed of object (meter/second)\n",
"accu_v=0.0001                                                                   //accuracy of speed of object\n",
"m_b=0.05                                                                        //mass of the bullet (kg)\n",
"h=1.054*10^-34;                                                                 //planck's constant (joule-second)\n",
"m_e=9.1*10^-31;                                                                 //mass of electron (kg)\n",
"\n",
"//(a) fundamental accuracy of position for bullet\n",
"p_b=m_b*v;                                                                      //momentum of bullet (kg m/s)\n",
"p_uncer_b=p_b*accu_v;                                                           //uncertainty in momentum of bullet (kg m/s)\n",
"x_uncer_b=h/p_uncer_b;                                                          //minimum uncertainty in position of bullet (meter)\n",
"\n",
"//(b) fundamental accuracy of position for electron\n",
"p_e=m_e*v;                                                                      //momentum of electron (kg m/s)\n",
"p_uncer_e=p_e*accu_v;                                                           //uncertainty in momentum of electron (kg m/s)\n",
"x_uncer_e=h/p_uncer_e;                                                          //uncertainty in position of electron (meter)\n",
"\n",
"printf('\n(a) uncertainty in position of bullet = %.1e meter\n(b) uncertainty in position of electron = %.6f meter\n   The uncertainty in bullet’s position is so small that it is far beyond the possibility of measurement.',x_uncer_b,x_uncer_e);\n",
"\n",
"//Note:The answers given in the book are wrong. Also in the solution they have used speed=1000 while in the question it is given to be equal to 10000."
   ]
   }
,
{
		   "cell_type": "markdown",
		   "metadata": {},
		   "source": [
			"## Example 2.2_13: Ex_13.sce"
		   ]
		  },
  {
"cell_type": "code",
	   "execution_count": null,
	   "metadata": {
	    "collapsed": true
	   },
	   "outputs": [],
"source": [
"//variable initialization\n",
"h=1.054*10^-34;                                                                 //planck's constant (joule-second)\n",
"m=9.1*10^-31;                                                                   //mass of electron (kg)\n",
"x_uncer=1*10^-10;                                                               //uncertainty in the position of elctrons (meter)\n",
"e=1.6*10^-19;                                                                   //charge of electron (coulomb)\n",
"\n",
"//(i) uncertainty in the momentum of electron\n",
"p_uncer=h/x_uncer;                                                              //The uncertainty in the momentum of electron (kg m/s)\n",
"\n",
"//(ii) kinetic energy of electron\n",
"T=p_uncer^2/(2*m*e);                                                            //kinetic energy of electron (eV)\n",
"\n",
"printf('\n(i) The uncertainty in the momentum of electron = %.3e kg m/s\n(ii) Kinetic energy of electron = %.1f eV\n   The ionization potential of atoms is of this order and hence the uncertainty in momentum is consistence with the binding energy of electrons in atoms.',p_uncer,T);"
   ]
   }
,
{
		   "cell_type": "markdown",
		   "metadata": {},
		   "source": [
			"## Example 2.2_14: Ex_14.sce"
		   ]
		  },
  {
"cell_type": "code",
	   "execution_count": null,
	   "metadata": {
	    "collapsed": true
	   },
	   "outputs": [],
"source": [
"//variable initialization\n",
"h=1.054*10^-34;                                                                 //planck's constant (joule-second)\n",
"x=10^-14;                                                                       //dimension of the nucleus (meter)\n",
"c=3*10^8;                                                                       //speed of light (meter/second)\n",
"e=1.6*10^-19;                                                                   //charge of electron (coulomb)\n",
"\n",
"//(i) Uncertainty in the momentum of electron\n",
"p_uncer=h/x;                                                                    //The uncertainty in the momentum of electron (kg m/s)\n",
"\n",
"//(ii) kinetic energy of electron\n",
"T=(p_uncer*c)/(e*10^6);                                                         //kinetic energy of electron (MeV)\n",
"\n",
"printf('\n(i) The uncertainty in the momentum of electron = %.3e kg m/s\n(ii) Kinetic energy of electron = %.0f MeV\n   Experiments show that energy of electrons in nuclear disintegration (beta decay) is very much less than %.0f MeV. Hence the uncertainty principle rules out the possibility of electrons being a nuclear constituent.',p_uncer,T,T);"
   ]
   }
,
{
		   "cell_type": "markdown",
		   "metadata": {},
		   "source": [
			"## Example 2.2_15: Ex_15.sce"
		   ]
		  },
  {
"cell_type": "code",
	   "execution_count": null,
	   "metadata": {
	    "collapsed": true
	   },
	   "outputs": [],
"source": [
"//variable initialization\n",
"h=1.054*10^-34;                                                                 //planck's constant (joule-second)\n",
"x=10^-14;                                                                       //dimension of the nucleus (meter)\n",
"e=1.6*10^-19;                                                                   //charge of electron (coulomb)\n",
"m=1.67*10^-27;                                                                  //mass of proton (kg)\n",
"\n",
"//(i) Uncertainty in the momentum of electron\n",
"p_uncer=h/x;                                                                    //The uncertainty in the momentum of electron (kg m/s)\n",
"\n",
"//(ii) kinetic energy of proton\n",
"T=(p_uncer^2)/(2*m*e*10^6);                                                     //kinetic energy of proton (MeV)\n",
"\n",
"printf('\n(i) The uncertainty in the momentum of electron = %.3e kg m/s\n(ii) Kinetic energy of proton = %.2f MeV\n   The binding energies of nuclei are of this order.',p_uncer,T);"
   ]
   }
,
{
		   "cell_type": "markdown",
		   "metadata": {},
		   "source": [
			"## Example 2.2_17: Ex_17.sce"
		   ]
		  },
  {
"cell_type": "code",
	   "execution_count": null,
	   "metadata": {
	    "collapsed": true
	   },
	   "outputs": [],
"source": [
"//variable initialization\n",
"h=1.054*10^-34;                                                                 //planck's constant (joule-second)\n",
"delta_t=10^-12;                                                                 //time for which nucleus remains in excited state (second)\n",
"\n",
"//calculation of uncertainty in the energy of the gamma ray photon emitted by the nucleus\n",
"delta_E=h/delta_t;                                                              //uncertainty in the energy of the gamma ray photon (joule)\n",
"\n",
"printf('\nThe uncertainty in the energy of the gamma ray photon = %.3e joule',delta_E);"
   ]
   }
,
{
		   "cell_type": "markdown",
		   "metadata": {},
		   "source": [
			"## Example 2.2_18: Ex_18.sce"
		   ]
		  },
  {
"cell_type": "code",
	   "execution_count": null,
	   "metadata": {
	    "collapsed": true
	   },
	   "outputs": [],
"source": [
"//variable initialization\n",
"delta_t=10^-8;                                                                  //life-time of the average excited atom (second)\n",
"\n",
"//calculation of the minimum uncertainty in the frequency of photon\n",
"delta_f=1/delta_t;                                                              //minimum uncertainty in the frequency of photon (radian/second)\n",
"\n",
"printf('\nminimum uncertainty in the frequency of photon = %.0e radian/second',delta_f);"
   ]
   }
,
{
		   "cell_type": "markdown",
		   "metadata": {},
		   "source": [
			"## Example 2.2_19: Ex_19.sce"
		   ]
		  },
  {
"cell_type": "code",
	   "execution_count": null,
	   "metadata": {
	    "collapsed": true
	   },
	   "outputs": [],
"source": [
"//variable initialization\n",
"h=1.054*10^-34;                                                                 //planck's constant (joule-second)\n",
"e=1.6*10^-19;                                                                   //charge of electron (coulomb)\n",
"m=9.1*10^-31;                                                                   //mass of electron (kg)\n",
"E0=8.8542*10^-12;                                                               //permittivity of free space (C^2/N*m^2)\n",
"\n",
"//(i) radius of ground state of hydrogen atom\n",
"r=(4*%pi*E0*h^2)/(m*e^2);                                                       //radius of ground state of hydrogen atom (meter)\n",
"\n",
"//(ii) Binding energy of electron in hydrogen atom in the ground state\n",
"E=(-0.5*m*e^4)/(4*%pi*E0*h)^2;                                                  //binding energy of electron in hydrogen atom in the ground state (joule)\n",
"\n",
"printf('\n(i) Radius of ground state of hydrogen atom = %.3e meter\n(ii) Binding energy of electron in ground state of hydrogen atom = %.2e joule',r,E);"
   ]
   }
,
{
		   "cell_type": "markdown",
		   "metadata": {},
		   "source": [
			"## Example 2.2_1: Ex_1.sce"
		   ]
		  },
  {
"cell_type": "code",
	   "execution_count": null,
	   "metadata": {
	    "collapsed": true
	   },
	   "outputs": [],
"source": [
"//variable initialization\n",
"m=9.1*10^-31;                                                                   //mass of electron (kg)\n",
"h=6.6*10^-34;                                                                   //planck's constant (joule-second)\n",
"e=1.6*10^-19;                                                                   //charge of electron (coulomb)\n",
"//calculation of wavelength of electron\n",
"a=(h*10^10)/(2*m*e)^(1/2);                                                              //wavelength of electron = h/(2*m*e*v)^(1/2) (Å)\n",
"printf('\n Wavelength of electron accelerated through a potential difference V = %.1f/V^0.5 Å',a);"
   ]
   }
,
{
		   "cell_type": "markdown",
		   "metadata": {},
		   "source": [
			"## Example 2.2_3: Ex_3.sce"
		   ]
		  },
  {
"cell_type": "code",
	   "execution_count": null,
	   "metadata": {
	    "collapsed": true
	   },
	   "outputs": [],
"source": [
"//variable initialization\n",
"m_e=9.1*10^-31;                                                                 //mass of electron (kg)\n",
"m=100*10^-3;                                                                    //mass of object (kg)\n",
"v=1000                                                                          //velocity of electron and object (meter/second)\n",
"h=6.63*10^-34;                                                                  //planck's constant (joule-second)\n",
"//(i) de Broglie wavelength of electron\n",
"lembda_e=h/(m_e*v);                                                             //de Broglie wavelength of electron\n",
"//(ii) de Broglie wavelength of object\n",
"lembda=h/(m*v);                                                                 //de Broglie wavelength of object\n",
"printf('\n(i) de Broglie wavelength of electron = %.3e meter\n(ii) de Broglie wavelength of object = %.2e meter\nOwing to extremely short wavelength of the object its wave behavior cannot be demonstrated.',lembda_e,lembda);\n",
"//Note: In the book the answer of part(ii) is wrong"
   ]
   }
,
{
		   "cell_type": "markdown",
		   "metadata": {},
		   "source": [
			"## Example 2.2_4: Ex_4.sce"
		   ]
		  },
  {
"cell_type": "code",
	   "execution_count": null,
	   "metadata": {
	    "collapsed": true
	   },
	   "outputs": [],
"source": [
"//variable initialization\n",
"e=1.6*10^-19;                                                                   //charge of electron (coulomb)\n",
"T=100*e;                                                                        //kinetic energy (joule)\n",
"m_e=9.1*10^-31;                                                                 //mass of electron (kg)\n",
"m_p=1.67*10^-27;                                                                //mass of proton (kg)\n",
"m_alpha=4*m_p;                                                                  //mass of alpha particle (kg)\n",
"h=6.63*10^-34;                                                                  //planck's constant (joule-second)\n",
"\n",
"//calculation of de Broglie wavelengths\n",
"lembda_e=(h*10^10)/(2*m_e*T)^(1/2);                                             //de Broglie wavelength of electron (Å)\n",
"lembda_p=(h*10^10)/(2*m_p*T)^(1/2);                                             //de Broglie wavelength of proton (Å)\n",
"lembda_alpha=(h*10^10)/(2*m_alpha*T)^(1/2);                                     //de Broglie wavelength of alpha particle (Å)\n",
"\n",
"printf('\nde Broglie wavelength of electron = %.2f Å\nde Broglie wavelength of proton = %.3f Å\nde Broglie wavelength of alpha particle = %.3f Å',lembda_e,lembda_p,lembda_alpha);"
   ]
   }
,
{
		   "cell_type": "markdown",
		   "metadata": {},
		   "source": [
			"## Example 2.2_5: Ex_5.sce"
		   ]
		  },
  {
"cell_type": "code",
	   "execution_count": null,
	   "metadata": {
	    "collapsed": true
	   },
	   "outputs": [],
"source": [
"//variable initialization\n",
"h=6.63*10^-34;                                                                  //planck's constant (joule-second)\n",
"m=9.1*10^-31;                                                                   //mass of electron (kg)\n",
"lembda=5896*10^-10;                                                             //wavelength of yellow spectral line of sodium (meter)\n",
"e=1.6*10^-19;                                                                   //charge of electron (coulomb)\n",
"\n",
"//calculation of kinetic energy of electron\n",
"T_j=h^2/(2*m*lembda^2);                                                         //kinetic energy of the electron (joule)\n",
"T_eV=T_j/e;                                                                     //kinetic energy of the electron (eV)\n",
"\n",
"printf('\n kinetic energy of electron = %.2e joule = %.1e eV',T_j,T_eV);"
   ]
   }
,
{
		   "cell_type": "markdown",
		   "metadata": {},
		   "source": [
			"## Example 2.2_6: Ex_6.sce"
		   ]
		  },
  {
"cell_type": "code",
	   "execution_count": null,
	   "metadata": {
	    "collapsed": true
	   },
	   "outputs": [],
"source": [
"//variable initialization\n",
"h=6.63*10^-34;                                                                  //planck's constant (joule-second)\n",
"m_n=1.67*10^-27;                                                                //mass of neutron (kg)\n",
"T=300                                                                           //Temperature (kelvin)\n",
"k=1.38*10^-23;                                                                  //Boltzmann constant (joule/kelvin)\n",
"\n",
"//calculation of the wavelength of thermal neutron\n",
"E=(3*k*T)/2;                                                                    //Kinetic energy of thermal neutron (joule)\n",
"lembda=(h*10^10)/(2*m_n*E)^(1/2);                                               //Wavelength of thermal neutron (Å)\n",
"\n",
"printf('\nThe wavelength of thermal neutron = %.2f Å',lembda);"
   ]
   }
,
{
		   "cell_type": "markdown",
		   "metadata": {},
		   "source": [
			"## Example 2.2_7: Ex_7.sce"
		   ]
		  },
  {
"cell_type": "code",
	   "execution_count": null,
	   "metadata": {
	    "collapsed": true
	   },
	   "outputs": [],
"source": [
"//variable initialization\n",
"h=6.63*10^-34;                                                                  //planck's constant (joule-second)\n",
"m_H2=2*1.67*10^-27;                                                             //mass of hydrogen molecule (kg)\n",
"T=27+273;                                                                       //room temperature (kelvin)\n",
"k=1.38*10^-23;                                                                  //Boltzmann constant (joule/kelvin)\n",
"\n",
"//calculation of de Broglie wavelength of hydrogen molecule\n",
"lembda=(h*10^10)/(2*m_H2*k*T)^(1/2);                                            //de Broglie wavelength of hydrogen molecule (Å)\n",
"\n",
"printf('\nThe de Broglie wavelength of hydrogen molecules at their most probable speed = %.2f Å',lembda);"
   ]
   }
,
{
		   "cell_type": "markdown",
		   "metadata": {},
		   "source": [
			"## Example 2.2_8: Ex_8.sce"
		   ]
		  },
  {
"cell_type": "code",
	   "execution_count": null,
	   "metadata": {
	    "collapsed": true
	   },
	   "outputs": [],
"source": [
"//variable initialization\n",
"a=0.51                                                                          //Value of m0*c^2 (Mev)\n",
"\n",
"//Calculation of kinetic energy of electron\n",
"T=a*(sqrt(2)-1);                                                                //Kinetic energy (MeV)\n",
"\n",
"printf('\n Kinetic energy of electron = %.2f MeV',T);"
   ]
   }
,
{
		   "cell_type": "markdown",
		   "metadata": {},
		   "source": [
			"## Example 2.2_9: Ex_9.sce"
		   ]
		  },
  {
"cell_type": "code",
	   "execution_count": null,
	   "metadata": {
	    "collapsed": true
	   },
	   "outputs": [],
"source": [
"//variable initialization\n",
"a=0.51                                                                          //Value of m0*c^2 (MeV)\n",
"b=0.0124                                                                        //Value of h*c (MeV Å)\n",
"lembda_X=0.1                                                                    //Short wavelength limit of continuous X-ray spectrum (Å)\n",
"\n",
"//calculation of de Broglie wavelength of electron\n",
"lembda=lembda_X/(1+(2*a*lembda_X)/b)^(1/2);                                           //de Broglie wavelength of relativistic electrons\n",
"\n",
"printf('de Broglie wavelength of relativistic electrons = %.3f Å',lembda);"
   ]
   }
],
"metadata": {
		  "kernelspec": {
		   "display_name": "Scilab",
		   "language": "scilab",
		   "name": "scilab"
		  },
		  "language_info": {
		   "file_extension": ".sce",
		   "help_links": [
			{
			 "text": "MetaKernel Magics",
			 "url": "https://github.com/calysto/metakernel/blob/master/metakernel/magics/README.md"
			}
		   ],
		   "mimetype": "text/x-octave",
		   "name": "scilab",
		   "version": "0.7.1"
		  }
		 },
		 "nbformat": 4,
		 "nbformat_minor": 0
}
