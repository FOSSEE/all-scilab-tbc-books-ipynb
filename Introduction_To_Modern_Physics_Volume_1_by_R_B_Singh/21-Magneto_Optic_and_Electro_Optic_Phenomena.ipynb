{
"cells": [
 {
		   "cell_type": "markdown",
	   "metadata": {},
	   "source": [
       "# Chapter 21: Magneto Optic and Electro Optic Phenomena"
	   ]
	},
{
		   "cell_type": "markdown",
		   "metadata": {},
		   "source": [
			"## Example 4.4_1: Ex_1.sce"
		   ]
		  },
  {
"cell_type": "code",
	   "execution_count": null,
	   "metadata": {
	    "collapsed": true
	   },
	   "outputs": [],
"source": [
"//variable initialization\n",
"e=1.6*10^-19;                                                                   //charge of electron (Coulomb)\n",
"B=0.5                                                                           //magnetic field (Tesla)\n",
"lembda=6438*10^-10;                                                             //wavelength of the line (m)\n",
"m=9.1*10^-31;                                                                   //mass of electron (kg)\n",
"c=3*10^8;                                                                       //speed of light (m/s)\n",
"\n",
"//calculation\n",
"dlembda=(e*B*lembda^2*10^10)/(4*%pi*m*c);                                       //normal Zeeman splitting (Å)\n",
"\n",
"printf('\nZeeman shift = %.3f Å',dlembda);"
   ]
   }
,
{
		   "cell_type": "markdown",
		   "metadata": {},
		   "source": [
			"## Example 4.4_2: Ex_2.sce"
		   ]
		  },
  {
"cell_type": "code",
	   "execution_count": null,
	   "metadata": {
	    "collapsed": true
	   },
	   "outputs": [],
"source": [
"//variable initialization\n",
"e=1.6*10^-19;                                                                   //charge of electron (Coulomb)\n",
"B=1                                                                             //magnetic field (Tesla)\n",
"lembda=612*10^-9;                                                               //wavelength of the line (m)\n",
"m=9.1*10^-31;                                                                   //mass of electron (kg)\n",
"c=3*10^8;                                                                       //speed of light (m/s)\n",
"\n",
"//calculation\n",
"dlembda1=(e*B*lembda^2*10^10)/(4*%pi*m*c);                                      //normal Zeeman splitting (Å)\n",
"dlembda2=2*dlembda1;                                                            //Separation of outer lines (Å)\n",
"\n",
"printf('\nSeparation of outer lines = %.2f Å',dlembda2);"
   ]
   }
,
{
		   "cell_type": "markdown",
		   "metadata": {},
		   "source": [
			"## Example 4.4_3: Ex_3.sce"
		   ]
		  },
  {
"cell_type": "code",
	   "execution_count": null,
	   "metadata": {
	    "collapsed": true
	   },
	   "outputs": [],
"source": [
"//variable initialization\n",
"mu=9.27*10^-24;                                                                 //(J/T)\n",
"B=1*10^-1;                                                                      //external magnetic field (T)\n",
"h=1.054*10^-34;                                                                 //Plank's constant (Js)\n",
"J=3/2;\n",
"L=1;\n",
"S=1/2;\n",
"\n",
"//calculation\n",
"g=1+(((J*(J+1))+(S*(S+1))-(L*(L+1)))/(2*J*(J+1)));                              //Lande g-factor\n",
"omega=(g*mu*B)/h;                                                               //angular velocity of precession (rad/s)\n",
"\n",
"printf('\nω = %.1e rad/sec',omega);"
   ]
   }
,
{
		   "cell_type": "markdown",
		   "metadata": {},
		   "source": [
			"## Example 4.4_4: Ex_4.sce"
		   ]
		  },
  {
"cell_type": "code",
	   "execution_count": null,
	   "metadata": {
	    "collapsed": true
	   },
	   "outputs": [],
"source": [
"//(i)\n",
"printf('\n(i) Energy level does not split');\n",
"\n",
"//(ii)\n",
"J=5/2;\n",
"sub=2*J+1;\n",
"printf('\n(ii) number of sub-shells = %.0f',sub);\n",
"\n",
"//(iii)\n",
"printf('\n(iii) Energy level does not split');"
   ]
   }
,
{
		   "cell_type": "markdown",
		   "metadata": {},
		   "source": [
			"## Example 4.4_5: Ex_5.sce"
		   ]
		  },
  {
"cell_type": "code",
	   "execution_count": null,
	   "metadata": {
	    "collapsed": true
	   },
	   "outputs": [],
"source": [
"//variable initialization\n",
"S1=0\n",
"L1=2\n",
"J1=2\n",
"g1=1\n",
"S2=1\n",
"L2=3\n",
"J2=4\n",
"g2=5/4\n",
"B=0.25                                                                          //magnetic field (T)\n",
"mu=5.79*10^-5;                                                                  //mass (eV/T)\n",
"\n",
"//(i)\n",
"E1=4*g1*mu*B;                                                                   //total splitting (eV)\n",
"\n",
"//(ii)\n",
"E2=8*g2*mu*B;                                                                   //total splitting (eV)\n",
"\n",
"printf('\n(i) total splitting = %.2e eV\n(ii) total splitting = %.4e eV',E1,E2);"
   ]
   }
,
{
		   "cell_type": "markdown",
		   "metadata": {},
		   "source": [
			"## Example 4.4_7: Ex_7.sce"
		   ]
		  },
  {
"cell_type": "code",
	   "execution_count": null,
	   "metadata": {
	    "collapsed": true
	   },
	   "outputs": [],
"source": [
"//variable initialization\n",
"mu=9.27*10^-24;                                                                 //(J/T)\n",
"B=0.45;                                                                         //magnetic field (μb/m^2)\n",
"h=1.054*10^-34;                                                                 //Plank's constant (Js)\n",
"k=[5/3 1 1/3 -1/3 -1 -5/3];                                                     //value of g'Mj'-gMj\n",
"\n",
"//calculation\n",
"c=(mu*B)/h;                                                                     //constant (rad/s)\n",
"deltaomega1=c*k(1);                                                             //displacement of Zeeman component (rad/s)\n",
"deltaomega2=c*k(2);                                                             //displacement of Zeeman component (rad/s)\n",
"deltaomega3=c*k(3);                                                             //displacement of Zeeman component (rad/s)\n",
"deltaomega4=c*k(4);                                                             //displacement of Zeeman component (rad/s)\n",
"deltaomega5=c*k(5);                                                             //displacement of Zeeman component (rad/s)\n",
"deltaomega6=c*k(6);                                                             //displacement of Zeeman component (rad/s)\n",
"\n",
"printf('\ndisplcement of Zeeman component = %.2e, %.2e, %.2e, %.2e, %.2e, %.2e rad/s',deltaomega1,deltaomega2,deltaomega3,deltaomega4,deltaomega5,deltaomega6);"
   ]
   }
,
{
		   "cell_type": "markdown",
		   "metadata": {},
		   "source": [
			"## Example 4.4_8: Ex_8.sce"
		   ]
		  },
  {
"cell_type": "code",
	   "execution_count": null,
	   "metadata": {
	    "collapsed": true
	   },
	   "outputs": [],
"source": [
"//variable initialization\n",
"m=9.1*10^-31;                                                                   //mass of electron (Kg)\n",
"h=1.054*10^-34;                                                                 //Plank's constant (Js)\n",
"B=1.2                                                                           //magnetic field (mu*b/m^2)\n",
"gs=2                                                                            //for a pure spin system\n",
"J=0.5;                                                                          //for a pure spin system\n",
"\n",
"//calculation\n",
"mub=h/(2*m);                                                                    //(eV/T)\n",
"deltaE=2*gs*mub*B*J;                                                            //energy difference b/w electrons(eV)\n",
"\n",
"printf('\n ΔE = %.2e eV',deltaE);"
   ]
   }
,
{
		   "cell_type": "markdown",
		   "metadata": {},
		   "source": [
			"## Example 4.4_9: Ex_9.sce"
		   ]
		  },
  {
"cell_type": "code",
	   "execution_count": null,
	   "metadata": {
	    "collapsed": true
	   },
	   "outputs": [],
"source": [
"//variable initialization\n",
"m=9.1*10^-31;                                                                   //mass of electron (Kg)\n",
"h=1.054*10^-34;                                                                 //Plank's constant (Js)\n",
"B=5                                                                             //magnetic field (T)\n",
"lembda=1210                                                                     //wavelength of spectral line (Å)\n",
"M=[1 0 -1 1 0 -1];                                                              //value of Ml+2*Ms\n",
"ch=12400                                                                        //product of speed of light and Plank's constant (eV*Å)\n",
"\n",
"//calculation\n",
"dE=(h/(2*m))*B*M;                                                               //value of dE(upper)-dE(lower) (eV)\n",
"dlembda=(lembda^2/ch)*dE;                                                       //wavelengths of the spectral lines in the pattern (Å)\n",
"\n",
"printf('\nwavelengths of the line = %.0f+%.3f, %.0f+%.0f, %.0f%.3f Å',lembda,dlembda(1),lembda,dlembda(2),lembda,dlembda(3));"
   ]
   }
],
"metadata": {
		  "kernelspec": {
		   "display_name": "Scilab",
		   "language": "scilab",
		   "name": "scilab"
		  },
		  "language_info": {
		   "file_extension": ".sce",
		   "help_links": [
			{
			 "text": "MetaKernel Magics",
			 "url": "https://github.com/calysto/metakernel/blob/master/metakernel/magics/README.md"
			}
		   ],
		   "mimetype": "text/x-octave",
		   "name": "scilab",
		   "version": "0.7.1"
		  }
		 },
		 "nbformat": 4,
		 "nbformat_minor": 0
}
