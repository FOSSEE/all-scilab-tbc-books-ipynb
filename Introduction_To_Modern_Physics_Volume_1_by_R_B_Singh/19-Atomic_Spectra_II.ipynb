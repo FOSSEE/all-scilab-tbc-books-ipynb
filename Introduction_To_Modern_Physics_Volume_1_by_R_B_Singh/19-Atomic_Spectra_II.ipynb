{
"cells": [
 {
		   "cell_type": "markdown",
	   "metadata": {},
	   "source": [
       "# Chapter 19: Atomic Spectra II"
	   ]
	},
{
		   "cell_type": "markdown",
		   "metadata": {},
		   "source": [
			"## Example 4.2_10: Ex_10.sce"
		   ]
		  },
  {
"cell_type": "code",
	   "execution_count": null,
	   "metadata": {
	    "collapsed": true
	   },
	   "outputs": [],
"source": [
"//variable initialization\n",
"e=1.6*10^-19;                                                                   //charge of electron (C)\n",
"m=9.1*10^-31;                                                                   //mass of electron (kg)\n",
"B=0.1                                                                           //external magnetic field (Wb/m^2)\n",
"g=4/3\n",
"mu=9.27*10^-24;                                                                 //(J/T)\n",
"\n",
"//calculation\n",
"E=g*mu*B;                                                                       //The spacing of adjacent sub-levels (J)\n",
"v=(e*B)/(4*%pi*m);                                                              //Larmor frequency (Hz)\n",
"\n",
"printf('\n The spacing of adjacent sub-levels = %e J\n Larmor frequency = %.1e Hz',E,v);"
   ]
   }
,
{
		   "cell_type": "markdown",
		   "metadata": {},
		   "source": [
			"## Example 4.2_11: Ex_11.sce"
		   ]
		  },
  {
"cell_type": "code",
	   "execution_count": null,
	   "metadata": {
	    "collapsed": true
	   },
	   "outputs": [],
"source": [
"//variable initialization\n",
"mu=9.27*10^-24;                                                                 //(J/T)\n",
"g=2;\n",
"ms=1/2;\n",
"dB=2*10^2;                                                                      //gradient of magnetic field (T/m)\n",
"m=1.67*10^-27;                                                                  //maas of hydrogen atom (kg)\n",
"l=0.2;                                                                          //distance travelled by hydrogen atom (m)\n",
"v=2*10^5;                                                                       //speed of hydrogen atom (m/s)\n",
"\n",
"//calculation\n",
"muz=g*mu*ms;                                                                    //Resolved part of magnetic moment in the direction of magnetic field (J/T)\n",
"Fz=muz*dB;                                                                      //Force on the atom (N)\n",
"z=0.5*(Fz/m)*(l/v)^2;                                                           //Displacement of beam (m)\n",
"sep=2*z;                                                                        //Total separation (m)\n",
"\n",
"printf('\n Total separation = %.2e m',sep);"
   ]
   }
,
{
		   "cell_type": "markdown",
		   "metadata": {},
		   "source": [
			"## Example 4.2_12: Ex_12.sce"
		   ]
		  },
  {
"cell_type": "code",
	   "execution_count": null,
	   "metadata": {
	    "collapsed": true
	   },
	   "outputs": [],
"source": [
"//variable initialization\n",
"l=1\n",
"s=1/2\n",
"j1=1/2\n",
"j2=3/2\n",
"\n",
"//calculation\n",
"L=sqrt(l*(l+1));                                                                //orbital angular momenta\n",
"S=sqrt(s*(s+1));                                                                //spin angular momenta\n",
"J1=sqrt(j1*(j1+1));                                                             //total angular momenta\n",
"J2=sqrt(j2*(j2+1));                                                             //total angular momenta\n",
"theta1=(180/%pi)*acos(((j1*(j1+1))-(l*(l+1))-(s*(s+1)))/(2*sqrt(l*(l+1))*sqrt(s*(s+1))));    //angle b/w l and s (degree)\n",
"theta2=(180/%pi)*acos(((j2*(j2+1))-(l*(l+1))-(s*(s+1)))/(2*sqrt(l*(l+1))*sqrt(s*(s+1))));    //angle b/w l and s (degree)\n",
"\n",
"printf('\n L = %f*h\n S = %f*h\n J = %f*h, %f*h\n θ1 = %.0f degree\n θ2 = %.0f degree',L,S,J1,J2,theta1,theta2);"
   ]
   }
,
{
		   "cell_type": "markdown",
		   "metadata": {},
		   "source": [
			"## Example 4.2_13: Ex_13.sce"
		   ]
		  },
  {
"cell_type": "code",
	   "execution_count": null,
	   "metadata": {
	    "collapsed": true
	   },
	   "outputs": [],
"source": [
"//variable initialization\n",
"B=0.5                                                                           //magnetic field (T)\n",
"s=1/2;\n",
"g=2;\n",
"\n",
"//calculation\n",
"S=sqrt(s*(s+1));                                                                //Magnitude of spin vector\n",
"theta1=(180/%pi)*acos(0.5/S);                                                   //Orientation of spin vector (degree)\n",
"theta2=(180/%pi)*acos(-0.5/S);                                                  //Orientation of spin vector (degree)\n",
"E=2*g*B;                                                                        //Separation of the energy levels (in terms of μβ)\n",
"\n",
"printf('\n θ = %.1f degree and %.1f degree\n ΔE = %.0f*μβ',theta1,theta2,E);"
   ]
   }
,
{
		   "cell_type": "markdown",
		   "metadata": {},
		   "source": [
			"## Example 4.2_15: Ex_15.sce"
		   ]
		  },
  {
"cell_type": "code",
	   "execution_count": null,
	   "metadata": {
	    "collapsed": true
	   },
	   "outputs": [],
"source": [
"//variable initialization\n",
"zH=1                                                                            //atomic no. of H\n",
"zHe=2                                                                           //atomic no. of He\n",
"deltaHe=5.84                                                                    //doublet splitting of the first excited state of He (cm-1)\n",
"\n",
"//calculation\n",
"deltaH=deltaHe*(zH/zHe)^4;                                                      //doublet splitting for hydrogen atom (cm-1)\n",
"\n",
"printf('\n doublet splitting for H atom = %.3f cm-1',deltaH);"
   ]
   }
,
{
		   "cell_type": "markdown",
		   "metadata": {},
		   "source": [
			"## Example 4.2_16: Ex_16.sce"
		   ]
		  },
  {
"cell_type": "code",
	   "execution_count": null,
	   "metadata": {
	    "collapsed": true
	   },
	   "outputs": [],
"source": [
"//variable initialization\n",
"z=1                                                                             //atomic no. of hydrogen atom\n",
"n=2\n",
"l=1\n",
"\n",
"//calculation\n",
"delta=(5.84*z^4)/(n^3*l*(l+1));                                                 //spin-orbit interaction splitting (cm-1)\n",
"\n",
"printf('\n spin-orbit interaction splitting = %.3f cm-1',delta);"
   ]
   }
,
{
		   "cell_type": "markdown",
		   "metadata": {},
		   "source": [
			"## Example 4.2_4: Ex_4.sce"
		   ]
		  },
  {
"cell_type": "code",
	   "execution_count": null,
	   "metadata": {
	    "collapsed": true
	   },
	   "outputs": [],
"source": [
"//variable initialization\n",
"rP = 4;\n",
"rD = 5;\n",
"LP = 1;\n",
"LP = 2;\n",
"jP = [5/2, 3/2, 1/2];\n",
"jD = [4, 3, 2, 1, 0];\n",
"\n",
"//Calculation\n",
"SP = (rP-1)/2;\n",
"SD = (rD-1)/2;\n",
"i=1;\n",
"for i=1:3\n",
"    JP(i) = sqrt(jP(i)*(jP(i)+1));\n",
"end\n",
"i=1;\n",
"for i=1:5\n",
"    JD(i) = sqrt(jD(i)*(jD(i)+1));\n",
"end\n",
"\n",
"printf('\nAngular moments allowed for 4P : %.2f',JP);\n",
"printf('\nAngular moments allowed for 5D : %.2f',JD);"
   ]
   }
,
{
		   "cell_type": "markdown",
		   "metadata": {},
		   "source": [
			"## Example 4.2_9: Ex_9.sce"
		   ]
		  },
  {
"cell_type": "code",
	   "execution_count": null,
	   "metadata": {
	    "collapsed": true
	   },
	   "outputs": [],
"source": [
"//variable initialization\n",
"l=1\n",
"s=1/2\n",
"j=3/2\n",
"\n",
"//calculation\n",
"angle=((j*(j+1))-(l*(l+1))-(s*(s+1)))/(2*sqrt(l*s*(l+1)*(s+1)));                //value of cos θ\n",
"\n",
"printf('\n cos θ = %.3f',angle);"
   ]
   }
],
"metadata": {
		  "kernelspec": {
		   "display_name": "Scilab",
		   "language": "scilab",
		   "name": "scilab"
		  },
		  "language_info": {
		   "file_extension": ".sce",
		   "help_links": [
			{
			 "text": "MetaKernel Magics",
			 "url": "https://github.com/calysto/metakernel/blob/master/metakernel/magics/README.md"
			}
		   ],
		   "mimetype": "text/x-octave",
		   "name": "scilab",
		   "version": "0.7.1"
		  }
		 },
		 "nbformat": 4,
		 "nbformat_minor": 0
}
