{
"cells": [
 {
		   "cell_type": "markdown",
	   "metadata": {},
	   "source": [
       "# Chapter 27: Raman Spectra"
	   ]
	},
{
		   "cell_type": "markdown",
		   "metadata": {},
		   "source": [
			"## Example 5.5_10: Ex_10.sce"
		   ]
		  },
  {
"cell_type": "code",
	   "execution_count": null,
	   "metadata": {
	    "collapsed": true
	   },
	   "outputs": [],
"source": [
"//variable initialization\n",
"h=6.6*10^-34;                                                                   //Plank's constant (joule second)\n",
"mu=1.62*10^-27;                                                                 //reduced mass of HCl molecule (kg)\n",
"c=3*10^8;                                                                       //speed of light (m/s)\n",
"v=2.886*10^5;                                                                   //wave no. of absorption line in infrared spectrum (m-1)\n",
"\n",
"//calculation of amplitude of vibration\n",
"k=4*(%pi*c*v)^2*mu;                                                             //force constant of HCl molecule (N/m)\n",
"amp=sqrt((h*c*v)/k)*10^10;                                                      //amplitude of vibration in the ground state (Å)\n",
"\n",
"printf('\namplitude of vibration = %.2f Å',amp);"
   ]
   }
,
{
		   "cell_type": "markdown",
		   "metadata": {},
		   "source": [
			"## Example 5.5_11: Ex_11.sce"
		   ]
		  },
  {
"cell_type": "code",
	   "execution_count": null,
	   "metadata": {
	    "collapsed": true
	   },
	   "outputs": [],
"source": [
"//variable initialization\n",
"v1=214330                                                                       //fundamental band for CO molecule (m-1)\n",
"v2=425970                                                                       //first overtone for CO molecule (m-1)\n",
"A=[1 -2;2 -6];                                                                  //coefficient matrix\n",
"b=[v1;v2];                                                                      //right hand side matrix\n",
"\n",
"//calculation\n",
"x=inv(A)*b;                                                                     //values of omega and x*omega (m-1)\n",
"\n",
"printf('\nωe = %.0f m-1\nxe*ωe = %.0f m-1',x(1),x(2));"
   ]
   }
,
{
		   "cell_type": "markdown",
		   "metadata": {},
		   "source": [
			"## Example 5.5_12: Ex_12.sce"
		   ]
		  },
  {
"cell_type": "code",
	   "execution_count": null,
	   "metadata": {
	    "collapsed": true
	   },
	   "outputs": [],
"source": [
"//variable initialization\n",
"v1=288600                                                                       //intense absorption (m-1)\n",
"v2=566800                                                                       //intense absorption (m-1)\n",
"v3=834700                                                                       //intense absorption (m-1)\n",
"A=[1 -2;2 -6];                                                                  //coefficient matrix\n",
"b=[v1;v2];                                                                      //right hand side matrix\n",
"mu=1.61*10^-27;                                                                 //reduced mass (kg)\n",
"c=3*10^8;                                                                       //speed of light (m/s)\n",
"\n",
"//calculation\n",
"x=inv(A)*b;                                                                     //values of omega and x*omega (m-1)\n",
"k=4*(%pi*c*x(1))^2*mu;                                                          //force constant (N/m)\n",
"\n",
"printf('\nωe = %.0f m-1\nxe*ωe = %.0f m-1\nforce constant = %.1f N/m',x(1),x(2),k);"
   ]
   }
,
{
		   "cell_type": "markdown",
		   "metadata": {},
		   "source": [
			"## Example 5.5_13: Ex_13.sce"
		   ]
		  },
  {
"cell_type": "code",
	   "execution_count": null,
	   "metadata": {
	    "collapsed": true
	   },
	   "outputs": [],
"source": [
"//variable initialization\n",
"v1=8.657*10^13;                                                                 //frequency of rotation absorption spectrum (Hz)\n",
"v2=8.483*10^13;                                                                 //frequency of rotation absorption spectrum (Hz)\n",
"h=6.6*10^-34;                                                                   //Plank's constant (joule second)\n",
"mu=1.544*10^-27;                                                                //Recuced mass of CH molecule (kg)\n",
"\n",
"//(i) equilibrium separation\n",
"I=h/(2*%pi^2*(v1-v2));                                                          //Moment of inertia (kg m^2)\n",
"r=sqrt(I/mu);                                                                   //equilibrium internuclear distance (m)\n",
"\n",
"//(ii) force constant of molecule\n",
"v0=(v1+v2)/2;                                                                   //Central frequency (Hz)\n",
"k=4*mu*(%pi*v0)^2;                                                              //Force constant of CH molecule (N/m)\n",
"\n",
"printf('\n (i) equilibrium separation = %.2e meter\n (ii) force constant = %.0f N/m',r,k);"
   ]
   }
,
{
		   "cell_type": "markdown",
		   "metadata": {},
		   "source": [
			"## Example 5.5_14: Ex_14.sce"
		   ]
		  },
  {
"cell_type": "code",
	   "execution_count": null,
	   "metadata": {
	    "collapsed": true
	   },
	   "outputs": [],
"source": [
"//variable initialization\n",
"k=448                                                                           //force constant of CH molecule (N/m)\n",
"mu=4.002*10^-27;                                                                //reduced mass of CH molecule (kg)\n",
"r=0.112*10^-9;                                                                  //internuclear distance (m)\n",
"h=6.6*10^-34;                                                                   //Plank's constant (joule second)\n",
"\n",
"//Calculation of peak frequencies\n",
"v0=(1/(2*%pi))*sqrt(k/mu);                                                      //central frequency (s-1)\n",
"I=mu*r^2;                                                                       //moment of inertia of molecule (kg m^2)\n",
"x=h/(4*%pi^2*I);                                                                //additional frequency (s-1)\n",
"v1=v0+x;                                                                        //peak frequency (Hz)\n",
"v2=v0-x;                                                                        //peak frequency (Hz)\n",
"\n",
"printf('\n Peak frequencies = %.3e Hz, %.3e Hz',v1,v2);"
   ]
   }
,
{
		   "cell_type": "markdown",
		   "metadata": {},
		   "source": [
			"## Example 5.5_15: Ex_15.sce"
		   ]
		  },
  {
"cell_type": "code",
	   "execution_count": null,
	   "metadata": {
	    "collapsed": true
	   },
	   "outputs": [],
"source": [
"//variable initialization\n",
"v1=2174.07                                                                      //peak wave number (cm-1)\n",
"v2=2166.35                                                                      //peak wave number (cm-1)\n",
"h=6.6*10^-34;                                                                   //Plank's constant (joule second)\n",
"c=3*10^8;                                                                       //Speed of light (m/s)\n",
"mu=1.145*10^-26;                                                                //Reduced mass of CO molecule (kg)\n",
"\n",
"//(a) central frequency\n",
"B=(v1-v2)/4;                                                                    //Rotational constant (cm-1)\n",
"v0=(v1+v2)/2;                                                                   //Central frequency (cm-1)\n",
"\n",
"//(b) internuclear distance\n",
"I=h/(8*%pi^2*B*100*c);                                                          //moment of inertia of molecule (kg m^2)\n",
"r=sqrt(I/mu)*10^10;                                                             //equilibrium internuclear distance (Å)\n",
"\n",
"//(c) force constant\n",
"k=4*mu*(%pi*c*v0*100)^2;                                                            //force constant (N/m)\n",
"\n",
"printf('\n(a) central frequency = %.2f cm-1\n(b) internuclear distance = %.2f Å\n(c) force constant = %.0f N/m',v0,r,k);"
   ]
   }
,
{
		   "cell_type": "markdown",
		   "metadata": {},
		   "source": [
			"## Example 5.5_16: Ex_16.sce"
		   ]
		  },
  {
"cell_type": "code",
	   "execution_count": null,
	   "metadata": {
	    "collapsed": true
	   },
	   "outputs": [],
"source": [
"//variable initialization\n",
"mu=3.142*10^-27;                                                                //reduced mass of the molecule (kg)\n",
"r=1.288*10^-10;                                                                 //internuclear distance (m)\n",
"h=6.6*10^-34;                                                                   //Plank's constant (joule second)\n",
"c=3*10^8;                                                                       //Speed of light (m/s)\n",
"v0=201100                                                                       //central frequency (m-1)\n",
"\n",
"//Calculation\n",
"I=mu*r^2;                                                                       //moment of inertia of molecule (kg m^2)\n",
"B=h/(8*%pi^2*I*c);                                                              //Rotational constant (m-1)\n",
"vR0=v0+(2*B);                                                                   //wave no. of 1st line of R-branch (m-1)\n",
"vR1=v0+(4*B);                                                                   //wave no. of 2nd line of R-branch (m-1)\n",
"vP1=v0-(2*B);                                                                   //wave no. of 1st line of P-branch (m-1)\n",
"vP2=v0-(4*B);                                                                   //wave no. of 2nd line of P-branch (m-1)\n",
"\n",
"printf('\n V_R(0) = %.0f m-1\n V_R(1) = %.0f m-1\n V_P(1) = %.0f m-1\n V_P(2) = %.0f m-1',vR0,vR1,vP1,vP2);"
   ]
   }
,
{
		   "cell_type": "markdown",
		   "metadata": {},
		   "source": [
			"## Example 5.5_17: Ex_17.sce"
		   ]
		  },
  {
"cell_type": "code",
	   "execution_count": null,
	   "metadata": {
	    "collapsed": true
	   },
	   "outputs": [],
"source": [
"//variable initialization\n",
"mu=1.62*10^-27;                                                                 //reduced mass of HCl molecule (kg)\n",
"r=1.293*10^-10;                                                                 //internuclear distance (m)\n",
"h=6.6*10^-34;                                                                   //Plank's constant (joule second)\n",
"c=3*10^8;                                                                       //Speed of light (m/s)\n",
"\n",
"//Calculation of separation between lines R(0) and P(1) of the fundamental band of HCl 35\n",
"I=mu*r^2;                                                                       //moment of inertia of molecule (kg m^2)\n",
"B=h/(8*%pi^2*I*c);                                                              //Rotational constant (m-1)\n",
"sep=4*B;                                                                        //separation b/w lines R(0) and P(1) (m-1)\n",
"\n",
"printf('\nΔν = %.0f m-1',sep);"
   ]
   }
,
{
		   "cell_type": "markdown",
		   "metadata": {},
		   "source": [
			"## Example 5.5_18: Ex_18.sce"
		   ]
		  },
  {
"cell_type": "code",
	   "execution_count": null,
	   "metadata": {
	    "collapsed": true
	   },
	   "outputs": [],
"source": [
"//variable initialization\n",
"a=214.6*100;                                                                    //(m-1)\n",
"b=0.6*100;                                                                      //(m-1)\n",
"h=6.6*10^-34;                                                                   //Plank's constant (joule second)\n",
"c=3*10^8;                                                                       //Speed of light (m/s)\n",
"no=1/(%e);                                                                      //number of molecules in state with respect to ground state\n",
"k=1.38*10^-23;                                                                  //Boltzmann constant (J K-1)\n",
"\n",
"//Calculation\n",
"deltaE=h*c*(a-2*b);                                                             //difference in the energies of state 0 and state 1 (J)\n",
"T1=deltaE/k;                                                                    //temperature at which number of molecules in state 1 is 1/e times of state 0 (K)\n",
"T2=deltaE/(k*log(10));                                                          //temperature at which number of molecules in state 1 is 10% of state 0 (K)\n",
"\n",
"printf('n(i) T = %.0f K\n(ii) T = %.0f K',T1,T2);"
   ]
   }
,
{
		   "cell_type": "markdown",
		   "metadata": {},
		   "source": [
			"## Example 5.5_19: Ex_19.sce"
		   ]
		  },
  {
"cell_type": "code",
	   "execution_count": null,
	   "metadata": {
	    "collapsed": true
	   },
	   "outputs": [],
"source": [
"//variable initialization\n",
"vexc=4358*10^-10;                                                               //wavelength of exciting line (m)\n",
"vsto=4458*10^-10;                                                               //wavelength of Stokes line (m)\n",
"\n",
"//calculation of wavelength of Anti-stokes line\n",
"vbar_exc=1/vexc;                                                                //wave number of exciting line (m-1)\n",
"vbar_sto=1/vsto;                                                                //wave number of Stokes line (m-1)\n",
"delta_vbar=vbar_exc-vbar_sto;                                                   //Raman shift (m-1)\n",
"vbar_antistoke=vbar_exc+delta_vbar;                                             //Wave number of Anti-Stokes line (m-1)\n",
"lembda_antistoke=(1/vbar_antistoke)*10^10;                                      //Wavelength of Anti-Stokes line (Å)\n",
"\n",
"printf('\nwavelength of Anti-stokes line = %.1f Å',lembda_antistoke);"
   ]
   }
,
{
		   "cell_type": "markdown",
		   "metadata": {},
		   "source": [
			"## Example 5.5_1: Ex_1.sce"
		   ]
		  },
  {
"cell_type": "code",
	   "execution_count": null,
	   "metadata": {
	    "collapsed": true
	   },
	   "outputs": [],
"source": [
"//function for calculating the wave number\n",
"function[wave]=F(j)\n",
"    wave=B*j*(j+1);\n",
"endfunction\n",
"    \n",
"//variable initialization\n",
"r=1.21*10^-10;                                                                  //internuclear distance (meter)\n",
"m=2.7*10^-26;                                                                   //mass of oxygen atom (kg)\n",
"h=6.626*10^-34;                                                                 //Plank's constant (joule second)\n",
"c=3*10^8;                                                                       //speed of light (meter/second)\n",
"\n",
"//(a) moment of inertia\n",
"mu=m/2;                                                                         //reduced mass (kg)\n",
"I=mu*r^2;                                                                       //moment of inertia (kg m^2)\n",
"\n",
"//(b) rotational constant\n",
"B=h/(8*%pi^2*I*c);                                                              //rotational constant (m-1)\n",
"\n",
"//(c) wave number\n",
"waveno=F(1)-F(0);                                                               //wave no. of the line corresponding to the transition J=0 to J=1 (m-1)\n",
"\n",
"printf('\n(a) I = %.3e kg m^2\n(b) B = %.1f m-1\n(c) wave number = %.0f m-1',I,B,waveno);"
   ]
   }
,
{
		   "cell_type": "markdown",
		   "metadata": {},
		   "source": [
			"## Example 5.5_20: Ex_20.sce"
		   ]
		  },
  {
"cell_type": "code",
	   "execution_count": null,
	   "metadata": {
	    "collapsed": true
	   },
	   "outputs": [],
"source": [
"//variable initialization\n",
"h=6.62*10^-34;                                                                  //Plank's constant (joule second)\n",
"c=3*10^8;                                                                       //Speed of light (m/s)\n",
"x=62.4*100;                                                                     //(m-1)\n",
"y=41.6*100;                                                                     //(m-1)\n",
"\n",
"//calculation of the moment of inertia of HCl molecule\n",
"B=y/4;                                                                          //Rotational constant of HCl (m-1)\n",
"I=h/(8*%pi^2*B*c);                                                              //Moment of inertia (kg m^2)\n",
"\n",
"printf('\n I = %.1e kg m^2',I);"
   ]
   }
,
{
		   "cell_type": "markdown",
		   "metadata": {},
		   "source": [
			"## Example 5.5_21: Ex_21.sce"
		   ]
		  },
  {
"cell_type": "code",
	   "execution_count": null,
	   "metadata": {
	    "collapsed": true
	   },
	   "outputs": [],
"source": [
"//function for calculating the vibrational energy of O2 molecule\n",
"function[energy]=F(v)\n",
"    energy=(((v+.5)*a)-(((v+.5)^2)*b))*h*c;\n",
"endfunction\n",
"\n",
"//variable initialization\n",
"h=6.62*10^-34;                                                                  //Plank's constant (joule second)\n",
"c=3*10^8;                                                                       //Speed of light (m/s)\n",
"a=1580.36*100;                                                                  //value of ωe (m-1)\n",
"b=12.07*100;                                                                    //value of ωexe (m-1)\n",
"\n",
"//Calculation of zero point energy\n",
"E0=F(0);                                                                        //Zero point energy of the molecule (J)\n",
"\n",
"//Calculation of vibrational Raman shift\n",
"shift=(F(1)-F(0))/(h*c);                                                        //Expected vibrational Raman shift (m-1)\n",
"\n",
"printf('\nZero point energy = %.3e J\nExpected vibrational Raman shift = %.0f m-1',E0,shift);"
   ]
   }
,
{
		   "cell_type": "markdown",
		   "metadata": {},
		   "source": [
			"## Example 5.5_2: Ex_2.sce"
		   ]
		  },
  {
"cell_type": "code",
	   "execution_count": null,
	   "metadata": {
	    "collapsed": true
	   },
	   "outputs": [],
"source": [
"//function for calculating the energy level\n",
"function[energy]=F(j)\n",
"    energy=a*j*(j+1);\n",
"endfunction\n",
"\n",
"//variable initialization\n",
"m=1.6738*10^-27;                                                                //mass of hydrogen atom (kg)\n",
"r=0.74*10^-10;                                                                  //intermolecular distance of hydrogen molecule (meter)\n",
"h=1.054*10^-34;                                                                 //Planck's constant (joule second)\n",
"e=1.6*10^-19;                                                                   //Charge of electron (coulombs)\n",
"\n",
"//calculation of rotational energy levels\n",
"mu=m/2;                                                                         //reduced mass of hydrogen atom (kg)\n",
"I=mu*r^2;                                                                       //moment of inertia of molecule (kg meter^2)\n",
"a=h^2/(2*I*e);                                                                  //constant (eV)\n",
"E0=F(0);                                                                        //energy of level 0 (eV)\n",
"E1=F(1);                                                                        //energy of level 1 (eV)\n",
"E2=F(2);                                                                        //energy of level 2 (eV)\n",
"E3=F(3);                                                                        //energy of level 3 (eV)\n",
"\n",
"printf('\nE0 = %.0f\nE1 = %.2e eV\nE2 = %.2e eV\nE3 = %.2e eV',E0,E1,E2,E3);"
   ]
   }
,
{
		   "cell_type": "markdown",
		   "metadata": {},
		   "source": [
			"## Example 5.5_3: Ex_3.sce"
		   ]
		  },
  {
"cell_type": "code",
	   "execution_count": null,
	   "metadata": {
	    "collapsed": true
	   },
	   "outputs": [],
"source": [
"//variable initialization\n",
"u=1.68*10^-27;                                                                  //mass of hydrogen atom (kg)\n",
"m1=16;                                                                          //mass of oxygen atom in terms u\n",
"m2=1;                                                                           //mass of hydrogen atom in terms of u\n",
"I=1.48*10^-47;                                                                  //moment of inertia of OH-radical (kg m^2)\n",
"h_bar=1.054*10^-34;                                                             //Planck's constant (joule second)\n",
"j=5;                                                                            //energy level of OH-radical\n",
"c=3*10^8;                                                                       //speed of light (meter/second)\n",
"h=6.626*10^-34;                                                                 //Plank's constant (joule second)\n",
"\n",
"//(a) internuclear distance\n",
"mu=((m1*m2)/(m1+m2))*u;                                                         //reduced mass of the molecule (kg)\n",
"r=(sqrt(I/mu))*10^10;                                                           //internuclear distance of molecule (Å)\n",
"\n",
"//(b) angular momentum\n",
"P=h_bar*sqrt(j*(j+1));                                                          //angular momentum of molecule (joule second)\n",
"\n",
"//(c) angular velocity\n",
"omega=P/I;                                                                      //angular velocity of molecule (radian/second)\n",
"\n",
"//(d) wave number\n",
"B=h/(8*%pi^2*I*c);                                                              //rotational constant (m-1)\n",
"no=2*B*(j+1);                                                                   //wave no. of line corresponding to transition j=5 to j=6 (m-1)\n",
"\n",
"//(e) energy absorbed\n",
"E=c*h*no;                                                                       //energy absorbed in the transition j=6 to j=5 (joule)\n",
"\n",
"printf('\n(a) r = %.3f Å\n(b) J = %.2e joule second\n(c) ω = %.2e radian/second\n(d) wave number = %.2e m-1\n(e) E = %.1e joule',r,P,omega,no,E);"
   ]
   }
,
{
		   "cell_type": "markdown",
		   "metadata": {},
		   "source": [
			"## Example 5.5_4: Ex_4.sce"
		   ]
		  },
  {
"cell_type": "code",
	   "execution_count": null,
	   "metadata": {
	    "collapsed": true
	   },
	   "outputs": [],
"source": [
"//variable initialization\n",
"h=6.63*10^-34;                                                                  //Plank's constant (joule second)\n",
"v=1.153*10^11;                                                                  //Frequency of absorption line (Hz)\n",
"mu=11.38*10^-27;                                                                //Recuced mass of the molecule (kg)\n",
"\n",
"//Calculation of the internuclear distance\n",
"I=h/(4*%pi^2*v);                                                                //moment of inertia of CO molecule (kg m^2)\n",
"r=sqrt(I/mu)*10^10;                                                             //Internuclear distance (Å)\n",
"\n",
"printf('\n Internuclear distance = %.2f Å',r);"
   ]
   }
,
{
		   "cell_type": "markdown",
		   "metadata": {},
		   "source": [
			"## Example 5.5_5: Ex_5.sce"
		   ]
		  },
  {
"cell_type": "code",
	   "execution_count": null,
	   "metadata": {
	    "collapsed": true
	   },
	   "outputs": [],
"source": [
"//variable initialization\n",
"mu=1.62*10^-27;                                                                 //Reduced mass of HCL (kg)\n",
"c=3*10^8;                                                                       //Velocity of light (m/s)\n",
"h=6.62*10^-34;                                                                  //Plank's constant (joule second)\n",
"v1_P=2906.3                                                                     //Wave no. of P branch (cm-1)\n",
"v2_P=2927.5                                                                     //Wave no. of P branch (cm-1)\n",
"v3_P=2948.7                                                                     //Wave no. of P branch (cm-1)\n",
"v4_P=2969.9                                                                     //Wave no. of P branch (cm-1)\n",
"v1_R=3012.2                                                                     //Wave no. of R branch (cm-1)\n",
"v2_R=3033.4                                                                     //Wave no. of R branch (cm-1)\n",
"v3_R=3054.6                                                                     //Wave no. of R branch (cm-1)\n",
"v4_R=3078.8                                                                     //Wave no. of R branch (cm-1)\n",
"\n",
"//(i) Equilibrium internuclear distance\n",
"delta_v=v2_P-v1_P;                                                              //Separation of successive line of P and R branch (cm-1)\n",
"B=delta_v/2;                                                                    //rotational constant (cm-1)\n",
"I=h/(8*%pi^2*B*10^2*c);                                                         //Moment of inertia (kg m^2)\n",
"r=sqrt(I/mu)*10^10;                                                             //Equilibrium internuclear distance (Å)\n",
"\n",
"//(ii) Force constant\n",
"v0=(v4_P+v1_R)/2;                                                               //Equlibrium frequency (cm-1)\n",
"k=4*%pi^2*mu*c^2*v0^2*10^4;                                                     //Force constant of HCl (N/m)\n",
"\n",
"printf('\n(i) Equilibrium internuclear distance = %.2f Å\n(ii) Force constant = %.0f N/m',r,k);\n",
"\n",
"//Note: the answer of (ii) part is wrong in the book"
   ]
   }
,
{
		   "cell_type": "markdown",
		   "metadata": {},
		   "source": [
			"## Example 5.5_6: Ex_6.sce"
		   ]
		  },
  {
"cell_type": "code",
	   "execution_count": null,
	   "metadata": {
	    "collapsed": true
	   },
	   "outputs": [],
"source": [
"//variable initialization\n",
"mu=8.37*10^-28;                                                                 //Reducec mass of hydrogen molecule (kg)\n",
"h=6.58*10^-16;                                                                  //Plank's constant (eV s)\n",
"E0=0.273                                                                        //Ground state vibrational energy of hydrogen molecule (eV)\n",
"\n",
"//calculation of force constant of the molecule\n",
"k=mu*((2*E0)/h)^2;                                                              //force constant of hydrogen molecule (N/m)\n",
"\n",
"printf('\n Force constant = %.0f N/m',k);"
   ]
   }
,
{
		   "cell_type": "markdown",
		   "metadata": {},
		   "source": [
			"## Example 5.5_7: Ex_7.sce"
		   ]
		  },
  {
"cell_type": "code",
	   "execution_count": null,
	   "metadata": {
	    "collapsed": true
	   },
	   "outputs": [],
"source": [
"//variable initialization\n",
"m1=1;                                                                           //molar mass of H atom (amu)\n",
"m2=35;                                                                          //molar mass of Cl atom (amu)\n",
"u=1.68*10^-27;                                                                  //atomic mass unit (kg)\n",
"v=2885.9*100;                                                                   //wave no. of line (m-1)\n",
"c=3*10^8;                                                                       //Velocity of light (m/s)\n",
"\n",
"//calculation of force constant\n",
"mu=((m1*m2)/(m1+m2))*u;                                                         //reduced mass of HCl molecule (kg)\n",
"k=4*(%pi*c*v)^2*mu;                                                             //force constant of HCl molecule (N/m)\n",
"\n",
"printf('\n force constant = %.2f N/m',k);"
   ]
   }
,
{
		   "cell_type": "markdown",
		   "metadata": {},
		   "source": [
			"## Example 5.5_8: Ex_8.sce"
		   ]
		  },
  {
"cell_type": "code",
	   "execution_count": null,
	   "metadata": {
	    "collapsed": true
	   },
	   "outputs": [],
"source": [
"//function for calculating the various vibrational energy levels of CO molecule\n",
"function[energy]=F(V)\n",
"    energy=((V+.5)*h*v)/e;\n",
"endfunction\n",
"\n",
"//function for converting eV to cm-1\n",
"function[energy]=G(V)\n",
"    energy=((V+.5)*h*v*8065)/e;\n",
"endfunction\n",
"\n",
"//variable initialization\n",
"m1=12;                                                                          //molar mass of C atom (amu)\n",
"m2=16;                                                                          //molar mass of O atom (amu)\n",
"u=1.68*10^-27;                                                                  //atomic mass unit (kg)\n",
"k=1870                                                                          //force constant of CO molecule (N/m)\n",
"h=6.6*10^-34;                                                                   //Plank's constant (joule second)\n",
"e=1.602*10^-19;                                                                 //charge of electron (Coulomb)\n",
"\n",
"//calculation of energy levels\n",
"mu=((m1*m2)/(m1+m2))*u;                                                         //reduced mass of CO molecule (kg)\n",
"v=(1/(2*%pi))*sqrt(k/mu);                                                       //frequency of vibration of CO molecule (Hz)\n",
"e1=F(0);                                                                        //energy of 1st level of CO molecule (eV)\n",
"E1=G(0);                                                                        //energy of 1st level of CO molecule (cm-1)\n",
"e2=F(1);                                                                        //energy of 2nd level of CO molecule (eV)\n",
"E2=G(1);                                                                        //energy of 2nd level of CO molecule (cm-1)\n",
"e3=F(2);                                                                        //energy of 3rd level of CO molecule (eV)\n",
"E3=G(2);                                                                        //energy of 3rd level of CO molecule (cm-1)\n",
"\n",
"printf('\nE = %.3f eV, %.3f eV, %.3f eV..........................\n  = %.1f cm-1, %.1f cm-1, %.1f cm-1.................',e1,e2,e3,E1,E2,E3);"
   ]
   }
,
{
		   "cell_type": "markdown",
		   "metadata": {},
		   "source": [
			"## Example 5.5_9: Ex_9.sce"
		   ]
		  },
  {
"cell_type": "code",
	   "execution_count": null,
	   "metadata": {
	    "collapsed": true
	   },
	   "outputs": [],
"source": [
"//variable initialization\n",
"mu=1.61*10^-27;                                                                 //reduced mass of HCl molecule (kg)\n",
"c=3*10^8;                                                                       //speed of light (m/s)\n",
"lembda=3.465*10^-6;                                                             //wavelength of infrared radiation (m)\n",
"\n",
"//calculation of force constant\n",
"v=c/lembda;                                                                     //frequency of radiation (s-1)\n",
"k=4*(%pi*v)^2*mu;                                                               //force constant of HCl molecule (N/m)\n",
"\n",
"printf('\nforce constant = %.1f N/m',k);"
   ]
   }
],
"metadata": {
		  "kernelspec": {
		   "display_name": "Scilab",
		   "language": "scilab",
		   "name": "scilab"
		  },
		  "language_info": {
		   "file_extension": ".sce",
		   "help_links": [
			{
			 "text": "MetaKernel Magics",
			 "url": "https://github.com/calysto/metakernel/blob/master/metakernel/magics/README.md"
			}
		   ],
		   "mimetype": "text/x-octave",
		   "name": "scilab",
		   "version": "0.7.1"
		  }
		 },
		 "nbformat": 4,
		 "nbformat_minor": 0
}
