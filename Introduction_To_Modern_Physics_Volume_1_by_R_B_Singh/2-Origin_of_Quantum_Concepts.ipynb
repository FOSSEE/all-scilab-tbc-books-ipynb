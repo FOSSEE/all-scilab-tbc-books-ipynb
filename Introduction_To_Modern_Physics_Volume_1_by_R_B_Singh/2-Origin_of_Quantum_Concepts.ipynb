{
"cells": [
 {
		   "cell_type": "markdown",
	   "metadata": {},
	   "source": [
       "# Chapter 2: Origin of Quantum Concepts"
	   ]
	},
{
		   "cell_type": "markdown",
		   "metadata": {},
		   "source": [
			"## Example 2.1_10: Ex_10.sce"
		   ]
		  },
  {
"cell_type": "code",
	   "execution_count": null,
	   "metadata": {
	    "collapsed": true
	   },
	   "outputs": [],
"source": [
"//variable initialization\n",
"E=1                                                                             //Energy of photon (MeV)\n",
"eta=0.25                                                                        //Relative change in photon's wavelength\n",
"\n",
"//Calculation of kinetic energy of electron\n",
"T=(E*eta)/(1+eta);                                                              //Kinetic energy of recoil electron (MeV)\n",
"\n",
"printf('\nThe kinetic energy of recoil electron = %.1f MeV',T);"
   ]
   }
,
{
		   "cell_type": "markdown",
		   "metadata": {},
		   "source": [
			"## Example 2.1_11: Ex_11.sce"
		   ]
		  },
  {
"cell_type": "code",
	   "execution_count": null,
	   "metadata": {
	    "collapsed": true
	   },
	   "outputs": [],
"source": [
"//Variable initialization\n",
"E=0.25                                                                          //Energy of photon (MeV)\n",
"Theta=(120*%pi)/180;                                                            //Scattering angle of photon (radian)\n",
"a=0.51                                                                          //Value of m0*c^2 (Mev)\n",
"\n",
"//Calculation of energy of the photon\n",
"E_das=E/(1+(E/a)*(1-cos(Theta)));                                              //Energy of the scattered photon (MeV)\n",
"\n",
"printf('\nEnergy of the scattered photon = %.3f Mev',E_das);"
   ]
   }
,
{
		   "cell_type": "markdown",
		   "metadata": {},
		   "source": [
			"## Example 2.1_12: Ex_12.sce"
		   ]
		  },
  {
"cell_type": "code",
	   "execution_count": null,
	   "metadata": {
	    "collapsed": true
	   },
	   "outputs": [],
"source": [
"//variable initialization\n",
"p=1.02                                                                          //momentum of the photon (MeV/c)\n",
"p_dash=0.255                                                                    //momentum of the photon after scattering (MeV/c)\n",
"a=0.51                                                                          //Value of m0*c^2 (Mev)\n",
"\n",
"//Calculation of the angle of the photon after scattering\n",
"Theta=2*asind(((0.5*a*(p-p_dash))/(p*p_dash))^(1/2));                           //Angle of the photon after scattering (degree)\n",
"\n",
"printf('\nAngle of the photon after scattering = %.0f degree',Theta);"
   ]
   }
,
{
		   "cell_type": "markdown",
		   "metadata": {},
		   "source": [
			"## Example 2.1_13: Ex_13.sce"
		   ]
		  },
  {
"cell_type": "code",
	   "execution_count": null,
	   "metadata": {
	    "collapsed": true
	   },
	   "outputs": [],
"source": [
"//variable initialization\n",
"Theta=120                                                                       //Scattering angle of photon (degree)\n",
"T=0.45                                                                          //Kinetic energy of electron (MeV)\n",
"a=0.51                                                                          //Value of m0*c^2 (Mev)\n",
"\n",
"//Calculation of the energy of the incident photon\n",
"E=0.5*T*(1+(1+(2*a)/(T*(sind(Theta/2))^2))^(1/2));                              //Energy of the incident photon (MeV)\n",
"\n",
"printf('\nEnergy of the incident photon = %.2f Mev',E);"
   ]
   }
,
{
		   "cell_type": "markdown",
		   "metadata": {},
		   "source": [
			"## Example 2.1_14: Ex_14.sce"
		   ]
		  },
  {
"cell_type": "code",
	   "execution_count": null,
	   "metadata": {
	    "collapsed": true
	   },
	   "outputs": [],
"source": [
"//variable initialization\n",
"lembda0=2536*10^-10;                                                            //wavelength of exciting line (meter)\n",
"lembda=2612*10^-10;                                                             //wavelength of Raman line (meter)\n",
"\n",
"//Calculation of the Raman shift\n",
"v0=1/lembda0;                                                                   //wave number of exciting line (1/meter)\n",
"v=1/lembda;                                                                     //wave number of Raman line (1/meter)\n",
"shift=v0-v;                                                                     //the Raman shift (1/meter)\n",
"\n",
"printf('\nThe Raman shift = %.0f m-1',shift);\n",
"\n",
"//Note: Answer given in the book is an approximate answer"
   ]
   }
,
{
		   "cell_type": "markdown",
		   "metadata": {},
		   "source": [
			"## Example 2.1_15: Ex_15.sce"
		   ]
		  },
  {
"cell_type": "code",
	   "execution_count": null,
	   "metadata": {
	    "collapsed": true
	   },
	   "outputs": [],
"source": [
"//variable initialization\n",
"lembda0=5000*10^-10;                                                            //Wavelength of radiation (meter)\n",
"lembda=5050.5*10^-10;                                                           //Wavelength of Raman line (meter)\n",
"\n",
"//(a) Raman frequency\n",
"v0=1/lembda0;                                                                   //Wave number of radiation (1/meter)\n",
"v=1/lembda;                                                                     //Wave number of Raman line (1/meter)\n",
"shift=v0-v;                                                                     //Raman shift (1/meter)\n",
"va=v0+shift;                                                                    //Frequency of antistoke's line (1/meter)\n",
"\n",
"//(b) Position of the antistokes' line\n",
"lembdaa=10^10/va;                                                               //Wavelength of antistoke's line (Å)\n",
"\n",
"printf('\n(a) Raman frequency = %.2e m-1\n(b) Wavelength of antistoke`s line = %.2f Å',va,lembdaa);"
   ]
   }
,
{
		   "cell_type": "markdown",
		   "metadata": {},
		   "source": [
			"## Example 2.1_1: Ex_1.sce"
		   ]
		  },
  {
"cell_type": "code",
	   "execution_count": null,
	   "metadata": {
	    "collapsed": true
	   },
	   "outputs": [],
"source": [
"//variable initialization\n",
"c1=0.01\n",
"c2=0.1\n",
"c3=1\n",
"c4=10\n",
"b=2.898*10^-3;                                                                  //Wien's constant (meter-kelvin)\n",
"h=(6.625*10^-34)/(2*%pi);                                                       //Planck's constant (joule-second)\n",
"c=3*10^8;                                                                       //speed of light (meter/second)\n",
"k=1.38*10^-23;                                                                  //Boltzmann constant (joule/kelvin)\n",
"T=3000                                                                          //Temperature of black body (kelvin)\n",
"Delta_lembda=1*10^-9;                                                           //wavelength interval (meter)\n",
"\n",
"//(a)Average energy of Planck's oscillator:\n",
"E1=c1/(%e^c1-1);                                                                //Average energy of Planck's oscillator\n",
"E2=c2/(%e^c2-1);                                                                //Average energy of Planck's oscillator\n",
"E3=c3/(%e^c3-1);                                                                //Average energy of Planck's oscillator\n",
"E4=c4/(%e^c4-1);                                                                //Average energy of Planck's oscillator\n",
"\n",
"//(b)Power radiated by a unit area of a black body\n",
"P=(4*%pi^2*h*c^2*T^5*Delta_lembda)/(b^5*((%e^((2*%pi*h*c)/(b*k)))-1));          //The power radiated per unit area (watt/meter^2)\n",
"\n",
"printf('\n(a) The average energy of Planck`s oscillator:\n\t (i) Energy = %.3f kT\n\t (ii) Energy = %.2f kT\n\t (iii) Energy = %.2f kT\n\t (iv) Energy = %.5f kT\n\t k: Boltzmann constant = %.2e joule/kelvin    T: Temperature\n(b) The power radiated per unit area = %.2f watt/meter^2',E1,E2,E3,E4,k,P);"
   ]
   }
,
{
		   "cell_type": "markdown",
		   "metadata": {},
		   "source": [
			"## Example 2.1_2: Ex_2.sce"
		   ]
		  },
  {
"cell_type": "code",
	   "execution_count": null,
	   "metadata": {
	    "collapsed": true
	   },
	   "outputs": [],
"source": [
"//variable initialization\n",
"v=2*10^-2;                                                                      //side of the cube (meter)\n",
"lembda=5000*10^-10;                                                             //wavelength (meter)\n",
"delta_lembda=10*10^-10;                                                         //range of wavelength (meter)\n",
"k=1.38*10^-23;                                                                  //Boltzmann constant (joule/kelvin)\n",
"T=1500                                                                          //Temperature of the cavity (kelvin)\n",
"\n",
"//(i)Number of modes:\n",
"N=(8*%pi*v^3*delta_lembda)/lembda^4;                                            //number of modes\n",
"\n",
"//(ii)Total radiant energy in the cavity:\n",
"U=N*k*T;                                                                        //energy density (joule)\n",
"\n",
"printf('\n(a) Number of modes = %.3e\n(b) Energy density = %.2e joule',N,U);\n",
"\n",
"//Note: In book the answers of both the parts are wrong by one order of magnitude"
   ]
   }
,
{
		   "cell_type": "markdown",
		   "metadata": {},
		   "source": [
			"## Example 2.1_3: Ex_3.sce"
		   ]
		  },
  {
"cell_type": "code",
	   "execution_count": null,
	   "metadata": {
	    "collapsed": true
	   },
	   "outputs": [],
"source": [
"//variable initialization\n",
"m=0.1                                                                           //mass of a spring-mass system (kg)\n",
"k=10                                                                            //spring constant of a spring-mass system (newton/meter)\n",
"A=0.1                                                                           //Amplitude of system oscillation (meter)\n",
"h=(6.625*10^-34)/(2*%pi);                                                        //Planck's constant (joule-second)\n",
"delta_n=1                                                                       //change in quantum number\n",
"\n",
"//(a) Quantum number n associated with the energy of the oscillator\n",
"f=(k/m)^(1/2);                                                                  //frequency of oscillator (radian/second)\n",
"E=0.5*f*A^2;                                                                    //Energy of oscillator (joule)\n",
"n=E/(h*f);                                                                      //Quantum number of the oscillator\n",
"\n",
"//(b) Fractional change in energy\n",
"change_E=delta_n/n;                                                             //fractional change in energy\n",
"\n",
"//(c) Conclusion: This example illustrates that the energy levels of macroscopic oscillators are so close together that even most delicate instruments cannot reveal the quantized nature of energy levels. All this is due to smallness of Planck’s constant h. In the limit h->0, the energy levels become continuous.\n",
"\n",
"printf('\n(a) Quantum number of the oscillator = %.1e\n(b) Fractional change in energy = %.1e\n(c) This example illustrates that the energy levels of macroscopic oscillators are so close together that even most delicate instruments cannot reveal the quantized nature of energy levels. All this is due to smallness of Planck’s constant h. In the limit h->0, the energy levels become continuous.',n,change_E);\n",
"\n",
"// The answer given in the book for quantum number is just the order of it as it is a very large number. But the answer generated by the code is the exact value of it."
   ]
   }
,
{
		   "cell_type": "markdown",
		   "metadata": {},
		   "source": [
			"## Example 2.1_4: Ex_4.sce"
		   ]
		  },
  {
"cell_type": "code",
	   "execution_count": null,
	   "metadata": {
	    "collapsed": true
	   },
	   "outputs": [],
"source": [
"//variable initialization\n",
"e=1.6*10^-19;                                                                   //Charge of electron (coulombs)\n",
"h=(6.625*10^-34)/(2*%pi);                                                       //Planck's constant (joule-second)\n",
"c=3*10^8;                                                                       //Speed of light (meter/second)\n",
"\n",
"//calculating ch by using ch = 2*pi*h*c\n",
"ch=(2*%pi*h*c*10^9)/e;                                                          //Value of ch (eV nm)\n",
"\n",
"printf('\nch = %.0f eV nm',ch);"
   ]
   }
,
{
		   "cell_type": "markdown",
		   "metadata": {},
		   "source": [
			"## Example 2.1_5: Ex_5.sce"
		   ]
		  },
  {
"cell_type": "code",
	   "execution_count": null,
	   "metadata": {
	    "collapsed": true
	   },
	   "outputs": [],
"source": [
"//variable initialization\n",
"h=(6.625*10^-34)/(2*%pi);                                                       //Planck's constant (joule-second)\n",
"c=3*10^8;                                                                       //speed of light (meter/second)\n",
"lembda=2000;                                                                    //Wavelength of the light (Å)\n",
"phi=4.2                                                                         //work function of aluminium surface (eV)\n",
"ch=12400                                                                        //constant (eV Å)\n",
"\n",
"//(a) maximum kinetic energy of photoelectrons\n",
"Tmax=(ch/lembda)-phi;                                                           //maximum kinetic energy of photoelectrons (eV)\n",
"\n",
"//(b) minimum kinetic energy of photoelectrons\n",
"Tmin=0\n",
"\n",
"//(c) cut-off wavelength\n",
"lembda_cut=ch/phi;                                                              // cut-off wavelength (Å)\n",
"\n",
"//(d) stopping potential\n",
"v=2                                                                             //stopping potential (volt)\n",
"\n",
"printf('\n(a) Maximum kinetic energy of photoelectrons = %.0f eV\n(b) Minimum kinetic energy of photoelectrons = %.0f\n(c) Cut-off wavelength = %.0f Å\n(d) Stopping potential = %.0f volt',Tmax,Tmin,lembda_cut,v);\n",
"\n",
"//Note: In book answer of cut_off wavelength is wrong"
   ]
   }
,
{
		   "cell_type": "markdown",
		   "metadata": {},
		   "source": [
			"## Example 2.1_6: Ex_6.sce"
		   ]
		  },
  {
"cell_type": "code",
	   "execution_count": null,
	   "metadata": {
	    "collapsed": true
	   },
	   "outputs": [],
"source": [
"//variable initialization\n",
"lembda1=4000                                                                    //wavelength of light (Å)\n",
"V1=2                                                                            //stopping potential (volt)\n",
"lembda2=6000                                                                    //wavelength of light (Å)\n",
"V2=1                                                                            //stopping potential (volt)\n",
"e=1.6*10^-19;                                                                   //Charge of electron (coulombs)\n",
"c=3*10^8;                                                                       //speed of light (meter/second)\n",
"ch=12400                                                                        //constant (eV Å)\n",
"//(i) Planck's constant\n",
"h=(e*(V1-V2)*lembda1*10^-10*lembda2*10^-10)/(c*((lembda2*10^-10)-(lembda1*10^-10)));  //Planck's constant (joule-second)\n",
"\n",
"//(ii) Work function\n",
"phi=(ch/lembda1)-V1;                                                            //work function of the material (eV)\n",
"\n",
"printf('\n(i) Planck`s constant = h = %.1e joule-second\n(ii) Work function of the material = %.1f eV',h,phi);"
   ]
   }
,
{
		   "cell_type": "markdown",
		   "metadata": {},
		   "source": [
			"## Example 2.1_7: Ex_7.sce"
		   ]
		  },
  {
"cell_type": "code",
	   "execution_count": null,
	   "metadata": {
	    "collapsed": true
	   },
	   "outputs": [],
"source": [
"//variable initialization\n",
"ch=12400                                                                        //constant (eV Å)\n",
"phi_Tantalum=4.2                                                                //work function of Tantalum (eV)\n",
"phi_Tungsten=4.5                                                                //work function of Tungsten (eV)\n",
"phi_Aluminium=4.2                                                               //work function of Aluminium (eV)\n",
"phi_Barium=2.5                                                                  //work function of Barium (eV)\n",
"phi_Lithium=2.3                                                                 //work function of Lithium (eV)\n",
"\n",
"//Calculation\n",
"lembda_Tantalum=ch/phi_Tantalum;                                                //Threshold wavelength of Tantalum (Å)\n",
"lembda_Tungsten=ch/phi_Tungsten;                                                //Threshold wavelength of Tungsten (Å)\n",
"lembda_Aluminium=ch/phi_Aluminium;                                              //Threshold wavelength of Aluminium (Å)\n",
"lembda_Barium=ch/phi_Barium;                                                    //Threshold wavelength of Barium (Å)\n",
"lembda_Lithium=ch/phi_Lithium;                                                  //Threshold wavelength of Lithium (Å)\n",
"\n",
"if(lembda_Tantalum<8000&lembda_Tantalum>4000)then                               //Checking whether Threshold wavelength of Tantalum lies in visible range or not\n",
"    disp('Tantalum can be used for designing photocell')\n",
"end\n",
"\n",
"if(lembda_Tungsten<8000&lembda_Tungsten>4000)then                               //Checking whether Threshold wavelength of Tungsten lies in visible range or not\n",
"    disp('Tungsten can be used for designing photocell')\n",
"end\n",
"\n",
"if(lembda_Aluminium<8000&lembda_Aluminium>4000)then                             //Checking whether Threshold wavelength of Aluminium lies in visible range or not\n",
"    disp('Aluminium can be used for designing photocell')\n",
"end\n",
"\n",
"if(lembda_Barium<8000&lembda_Barium>4000)then                                   //Checking whether Threshold wavelength of Barium lies in visible range or not\n",
"    disp('Barium can be used for designing photocell')\n",
"end\n",
"\n",
"if(lembda_Lithium<8000&lembda_Lithium>4000)then                                 //Checking whether Threshold wavelength of Lithium lies in visible range or not\n",
"    disp('Lithium can be used for designing photocell')\n",
"end"
   ]
   }
,
{
		   "cell_type": "markdown",
		   "metadata": {},
		   "source": [
			"## Example 2.1_8: Ex_8.sce"
		   ]
		  },
  {
"cell_type": "code",
	   "execution_count": null,
	   "metadata": {
	    "collapsed": true
	   },
	   "outputs": [],
"source": [
"//variable initialization\n",
"lembda_c=0.024                                                                  //Compton wavelength of electron (Å)\n",
"lembda=1                                                                        //Wavelength of X-rays (Å)\n",
"Theta1=(60*%pi)/180;                                                            //angle (radian)\n",
"Theta2=(90*%pi)/180;                                                            //angle (radian)\n",
"Theta3=(180*%pi)/180;                                                           //angle (radian)\n",
"ch=12400                                                                        //constant (eV Å)\n",
"\n",
"//(a) Compton shift\n",
"shift1=lembda_c*(1-cos(Theta1));                                                //Compton shift (Å)\n",
"shift2=lembda_c*(1-cos(Theta2));                                                //Compton shift (Å)\n",
"shift3=lembda_c*(1-cos(Theta3));                                                //Compton shift (Å)\n",
"\n",
"//(b) Kinetic energy imparted to the recoil electron\n",
"T1=(ch*shift1)/(lembda*(lembda+shift1));                                        //Kinetic energy imparted to the electron (eV)\n",
"T2=(ch*shift2)/(lembda*(lembda+shift2));                                        //Kinetic energy imparted to the electron (eV)\n",
"T3=(ch*shift3)/(lembda*(lembda+shift3));                                        //Kinetic energy imparted to the electron (eV)\n",
"\n",
"printf('\n(a) Compton shift:\n\t (i) %.3f Å\n\t (ii) %.3f Å\n\t (iii) %.3f Å\n(b) Kinetic energy imparted to the recoil electron:\n\t (i) %.0f eV\n\t (ii) %.0f eV\n\t (iii) %.0f eV',shift1,shift2,shift3,T1,T2,T3);"
   ]
   }
,
{
		   "cell_type": "markdown",
		   "metadata": {},
		   "source": [
			"## Example 2.1_9: Ex_9.sce"
		   ]
		  },
  {
"cell_type": "code",
	   "execution_count": null,
	   "metadata": {
	    "collapsed": true
	   },
	   "outputs": [],
"source": [
"//variable initialization\n",
"lembda_c=0.024                                                                  //Compton wavelength of electron (Å)\n",
"Theta=(45*%pi)/180;                                                             //Scattering angle (radian)\n",
"\n",
"//Calculation of wavelength of incident photon\n",
"lembda=lembda_c*(1-cos(Theta));                                                 //Wavelength of incident photon (Å)\n",
"\n",
"printf('\n(a) Wavelength of incident photon = %.4f Å\n(b) Photon lies in the gamma ray spectrum',lembda);"
   ]
   }
],
"metadata": {
		  "kernelspec": {
		   "display_name": "Scilab",
		   "language": "scilab",
		   "name": "scilab"
		  },
		  "language_info": {
		   "file_extension": ".sce",
		   "help_links": [
			{
			 "text": "MetaKernel Magics",
			 "url": "https://github.com/calysto/metakernel/blob/master/metakernel/magics/README.md"
			}
		   ],
		   "mimetype": "text/x-octave",
		   "name": "scilab",
		   "version": "0.7.1"
		  }
		 },
		 "nbformat": 4,
		 "nbformat_minor": 0
}
