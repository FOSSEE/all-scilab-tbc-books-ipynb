{
"cells": [
 {
		   "cell_type": "markdown",
	   "metadata": {},
	   "source": [
       "# Chapter 22: X Rays and X Ray Spectra"
	   ]
	},
{
		   "cell_type": "markdown",
		   "metadata": {},
		   "source": [
			"## Example 4.5_10: Ex_10.sce"
		   ]
		  },
  {
"cell_type": "code",
	   "execution_count": null,
	   "metadata": {
	    "collapsed": true
	   },
	   "outputs": [],
"source": [
"//variable initialization\n",
"ch=12.4                                                                         //product of speed of light and Plank's constant (KeV*Å)\n",
"Rch=13.6/10^3;                                                                  //product of speed of light, Plank's constant and R (KeV)\n",
"lembdak=1.74                                                                    //K band absorption edge wavelength of iron (Å)\n",
"z=30;                                                                           //atomic no. of zinc\n",
"\n",
"//calculation\n",
"Ek=ch/lembdak;                                                                  //binding energy of K electron in iron (KeV)\n",
"E=(3/4)*Rch*(z-1)^2;                                                            //energy of photon of K-alpha radiation (KeV)\n",
"K=E-Ek;                                                                         //kinetic energy of the photoelectrons liberated from iron (KeV)\n",
"\n",
"printf('\n KE = %.3f KeV',K);"
   ]
   }
,
{
		   "cell_type": "markdown",
		   "metadata": {},
		   "source": [
			"## Example 4.5_1: Ex_1.sce"
		   ]
		  },
  {
"cell_type": "code",
	   "execution_count": null,
	   "metadata": {
	    "collapsed": true
	   },
	   "outputs": [],
"source": [
"//variable initialization\n",
"ch=12400                                                                        //product of speed of light and Plank's constant (eV*Å)\n",
"lembda1=0.024;                                                                  //Compton wavelength of X-ray (Å)\n",
"lembda2=1                                                                       //wavelength of X-ray (Å)\n",
"\n",
"//(i)\n",
"x1=ch/lembda1;                                                                  //minimum voltage across X-ray tube (V)\n",
"\n",
"//(ii)\n",
"x2=ch/(lembda2*10^3);                                                           //minimum voltage across X-ray tube (kV)\n",
"\n",
"//(iii)\n",
"x3=1.02                                                                         //minimum energy of X-ray photon (M*eV)\n",
"\n",
"printf('\n(i) voltage = %.2e V\n(ii) voltage = %.1f KV\n(iii) energy = %.2f MeV',x1,x2,x3);"
   ]
   }
,
{
		   "cell_type": "markdown",
		   "metadata": {},
		   "source": [
			"## Example 4.5_2: Ex_2.sce"
		   ]
		  },
  {
"cell_type": "code",
	   "execution_count": null,
	   "metadata": {
	    "collapsed": true
	   },
	   "outputs": [],
"source": [
"//variable initialization\n",
"n=3/2;\n",
"dlembda=26*10^-2;                                                               //shifting in short wave limit of X-ray spectrum (Å)\n",
"ch=12400                                                                        //product of speed of light and Plank's constant (eV*Å)\n",
"e=1.6*10^-19;                                                                   //charge of electron (Coulomb)\n",
"\n",
"//solution\n",
"V=((n-1)/n)*(ch/(dlembda*10^3));                                              //initial voltage applied to the tube (KV)\n",
"\n",
"printf('\nInitial voltage = %.1f KV',V);"
   ]
   }
,
{
		   "cell_type": "markdown",
		   "metadata": {},
		   "source": [
			"## Example 4.5_3: Ex_3.sce"
		   ]
		  },
  {
"cell_type": "code",
	   "execution_count": null,
	   "metadata": {
	    "collapsed": true
	   },
	   "outputs": [],
"source": [
"//variable initialization\n",
"R=10972900                                                                      //(m-1)\n",
"lembda=1.54*10^-10;                                                             //wavelength of K line (m)\n",
"\n",
"//calculation\n",
"z=1+sqrt(4/(3*lembda*R));                                                       //atomic number of the target element\n",
"\n",
"printf('\nZ = %.0f',z);"
   ]
   }
,
{
		   "cell_type": "markdown",
		   "metadata": {},
		   "source": [
			"## Example 4.5_4: Ex_4.sce"
		   ]
		  },
  {
"cell_type": "code",
	   "execution_count": null,
	   "metadata": {
	    "collapsed": true
	   },
	   "outputs": [],
"source": [
"//variable initialization\n",
"z1=29                                                                           //atomic no. of Copper\n",
"z2=26                                                                           //atomic no. of Iron\n",
"lembda1=193                                                                     //wavelength of K line in Iron (pm)\n",
"\n",
"//calculation\n",
"lembda=((z2-1)/(z1-1))^2*lembda1;                                               //wavelength of K line in Copper (pm)\n",
"\n",
"printf('\nλ = %.0f pm',lembda);"
   ]
   }
,
{
		   "cell_type": "markdown",
		   "metadata": {},
		   "source": [
			"## Example 4.5_5: Ex_5.sce"
		   ]
		  },
  {
"cell_type": "code",
	   "execution_count": null,
	   "metadata": {
	    "collapsed": true
	   },
	   "outputs": [],
"source": [
"//variable initialization\n",
"z1=13                                                                           //atomic no. of Al\n",
"z2=27                                                                           //atomic no. of Co\n",
"R=1.097*10^7;                                                                   //(m-1)\n",
"\n",
"//calculation\n",
"lembda1=(4*10^12)/(3*R*(z1-1)^2);                                               //wavelength of K line in Al (pm)\n",
"lembda2=(4*10^12)/(3*R*(z2-1)^2);                                               //wavelength of k line in Co (pm)\n",
"\n",
"printf('\n wavelength of Al = %.0f pm\n wavelength of Co = %.0f pm',lembda1,lembda2);"
   ]
   }
,
{
		   "cell_type": "markdown",
		   "metadata": {},
		   "source": [
			"## Example 4.5_6: Ex_6.sce"
		   ]
		  },
  {
"cell_type": "code",
	   "execution_count": null,
	   "metadata": {
	    "collapsed": true
	   },
	   "outputs": [],
"source": [
"//variable initialization\n",
"lembda1=250*10^-12;                                                             //wavelength of K-alpha line (m)\n",
"lembda2=179*10^-12;                                                             //wavelength of K-alpha line (m)\n",
"R=10972900                                                                      //(m-1)\n",
"\n",
"//calculation\n",
"z1=1+sqrt(4/(3*lembda1*R));                                                     //atomic number\n",
"z2=1+sqrt(4/(3*lembda2*R));                                                     //atomic number\n",
"printf('\nThe required elements are: Z =');\n",
"for i=z1+1:1:z2-1\n",
"    printf(' %.0f',i);\n",
"end"
   ]
   }
,
{
		   "cell_type": "markdown",
		   "metadata": {},
		   "source": [
			"## Example 4.5_7: Ex_7.sce"
		   ]
		  },
  {
"cell_type": "code",
	   "execution_count": null,
	   "metadata": {
	    "collapsed": true
	   },
	   "outputs": [],
"source": [
"//variable initialization\n",
"ch=12400                                                                        //product of speed of light and Plank's constant (eV*Å)\n",
"Rch=13.6                                                                        //product of speed of light, Plank's constant and R (eV)\n",
"z=23                                                                            //atomic no. of vanadium\n",
"lembda=24                                                                       //wavelength of L absorption edge (Å)\n",
"\n",
"//calculation\n",
"El=ch/(lembda*10^3);                                                            //binding energy of L electron (KeV)\n",
"Ek=((3/(4*10^3))*Rch*(z-1)^2)+El;                                               //binding energy of K electron (KeV)\n",
"\n",
"printf('\nBinding energy of K-electron = %.2f KeV',Ek);"
   ]
   }
,
{
		   "cell_type": "markdown",
		   "metadata": {},
		   "source": [
			"## Example 4.5_8: Ex_8.sce"
		   ]
		  },
  {
"cell_type": "code",
	   "execution_count": null,
	   "metadata": {
	    "collapsed": true
	   },
	   "outputs": [],
"source": [
"//variable initialization\n",
"ch=12.4                                                                         //product of speed of light and Plank's constant (KeV*Å)\n",
"lembda1=0.178                                                                   //wavelength of K-alpha line (Å)\n",
"lembda2=0.210                                                                   //wavelength of K line (Å)\n",
"\n",
"//calculation\n",
"Ek=ch/lembda1;                                                                  //binding energy of K electron (KeV)\n",
"El=Ek-(ch/lembda2);                                                             //binding energy of K-alpha electron (KeV)\n",
"lembda=ch/El;                                                                  //wavelength of L absorption edge (Å)\n",
"\n",
"printf('\nWavelength of L absorption edge = %.2f Å',lembda);"
   ]
   }
,
{
		   "cell_type": "markdown",
		   "metadata": {},
		   "source": [
			"## Example 4.5_9: Ex_9.sce"
		   ]
		  },
  {
"cell_type": "code",
	   "execution_count": null,
	   "metadata": {
	    "collapsed": true
	   },
	   "outputs": [],
"source": [
"//variable initialization\n",
"ch=12.4                                                                         //product of speed of light and Plank's constant (KeV*Å)\n",
"lembdak=0.18                                                                    //wavelength of K absorption edge (Å)\n",
"lembda=0.1                                                                      //wavelength of incident photon (Å)\n",
"\n",
"//calculation\n",
"Ek=ch/lembdak;                                                                  //binding energy of K electron (KeV)\n",
"E=ch/lembda;                                                                    //energy of incident photon (KeV)\n",
"K=E-Ek;                                                                         //maximum kinetic energy of ejected electron (KeV)\n",
"\n",
"printf('\n KE = %.2f KeV',K);"
   ]
   }
],
"metadata": {
		  "kernelspec": {
		   "display_name": "Scilab",
		   "language": "scilab",
		   "name": "scilab"
		  },
		  "language_info": {
		   "file_extension": ".sce",
		   "help_links": [
			{
			 "text": "MetaKernel Magics",
			 "url": "https://github.com/calysto/metakernel/blob/master/metakernel/magics/README.md"
			}
		   ],
		   "mimetype": "text/x-octave",
		   "name": "scilab",
		   "version": "0.7.1"
		  }
		 },
		 "nbformat": 4,
		 "nbformat_minor": 0
}
