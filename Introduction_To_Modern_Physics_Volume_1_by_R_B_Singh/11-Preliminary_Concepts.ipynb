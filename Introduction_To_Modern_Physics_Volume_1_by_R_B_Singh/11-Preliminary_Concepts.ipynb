{
"cells": [
 {
		   "cell_type": "markdown",
	   "metadata": {},
	   "source": [
       "# Chapter 11: Preliminary Concepts"
	   ]
	},
{
		   "cell_type": "markdown",
		   "metadata": {},
		   "source": [
			"## Example 3.1_1: Ex_1.sce"
		   ]
		  },
  {
"cell_type": "code",
	   "execution_count": null,
	   "metadata": {
	    "collapsed": true
	   },
	   "outputs": [],
"source": [
"//variable initialization\n",
"N=2                                                                             //no. of particles\n",
"n1=2                                                                            //occupation no. of particles\n",
"g1=3                                                                            //degeneracy of particles\n",
"\n",
"//(i) particles are distinguishable\n",
"state1=(factorial(N)*g1^n1)/factorial(n1);                                      //possible microstates of distinguishable particles\n",
"\n",
"//(ii) particles are indistinguishable bosons\n",
"state2=factorial(n1+g1-1)/(factorial(n1)*factorial(g1-1));                      //possible microstates of indistinguishable bosons\n",
"\n",
"//(iii) particles are indistinguishable fermions\n",
"state3=factorial(g1)/(factorial(n1)*factorial(g1-n1));                          //possible microstates of indistinguishable fermions\n",
"\n",
"printf('\n(i) Ω(distinguishable) = %.0f\n(ii) Ω(indistinguishable bosons) = %.0f\n(iii) Ω(indistinguishable fermions) = %.0f',state1,state2,state3);"
   ]
   }
,
{
		   "cell_type": "markdown",
		   "metadata": {},
		   "source": [
			"## Example 3.1_2: Ex_2.sce"
		   ]
		  },
  {
"cell_type": "code",
	   "execution_count": null,
	   "metadata": {
	    "collapsed": true
	   },
	   "outputs": [],
"source": [
"//variable initialization\n",
"N=4                                                                             //no. of particles\n",
"A1=[2 0 0 2];                                                                   //possible macrostate\n",
"A2=[1 1 1 1];                                                                   //possible macrostate\n",
"A3=[0 3 0 1];                                                                   //possible macrostate\n",
"A4=[1 0 3 0];                                                                   //possible macrostate\n",
"A5=[0 2 2 0];                                                                   //possible macrostate\n",
"g1=1                                                                            //degeneracy of particles\n",
"g2=2                                                                            //degeneracy of particles\n",
"g3=2                                                                            //degeneracy of particles\n",
"g4=1                                                                            //degeneracy of particles\n",
"//(i) particles are distinguishable\n",
"printf('\n(i)Possible macrostates are\n ');\n",
"disp(A5,A4,A3,A2,A1);\n",
"micro1=((factorial(N)*g1^A1(1)*g2^A1(2)*g3^A1(3)*g4^A1(4))/(factorial(A1(1))*factorial(A1(2))*factorial(A1(3))*factorial(A1(4))));     //The number of microstates\n",
"micro2=((factorial(N)*g1^A2(1)*g2^A2(2)*g3^A2(3)*g4^A2(4))/(factorial(A2(1))*factorial(A2(2))*factorial(A2(3))*factorial(A2(4))));     //The number of microstates\n",
"micro3=((factorial(N)*g1^A3(1)*g2^A3(2)*g3^A3(3)*g4^A3(4))/(factorial(A3(1))*factorial(A3(2))*factorial(A3(3))*factorial(A3(4))));     //The number of microstates\n",
"micro4=((factorial(N)*g1^A4(1)*g2^A4(2)*g3^A4(3)*g4^A4(4))/(factorial(A4(1))*factorial(A4(2))*factorial(A4(3))*factorial(A4(4))));     //The number of microstates\n",
"micro5=((factorial(N)*g1^A5(1)*g2^A5(2)*g3^A5(3)*g4^A5(4))/(factorial(A5(1))*factorial(A5(2))*factorial(A5(3))*factorial(A5(4))));     //The number of microstates\n",
"printf('\nMost probable macrostates are\n ');\n",
"if(micro1>=micro2 & micro1>=micro3 & micro1>=micro4 & micro1>=micro5) then\n",
"    disp(A1);\n",
"end\n",
"if(micro2>=micro1 & micro2>=micro3 & micro2>=micro4 & micro2>=micro5) then\n",
"    disp(A2);\n",
"end\n",
"if(micro3>=micro1 & micro3>=micro2 & micro3>=micro4 & micro3>=micro5) then\n",
"    disp(A3);\n",
"end\n",
"if(micro4>=micro1 & micro4>=micro2 & micro4>=micro3 & micro4>=micro5) then\n",
"    disp(A4);\n",
"end\n",
"if(micro5>=micro1 & micro5>=micro2 & micro5>=micro3 & micro5>=micro4) then\n",
"    disp(A5);\n",
"end\n",
"//(ii) particles are indistinguishable bosons\n",
"printf('\n(ii)Possible macrostates are\n ');\n",
"disp(A5,A4,A3,A2,A1);\n",
"micro1=(factorial(A1(1)+g1-1)*factorial(A1(2)+g2-1)*factorial(A1(3)+g3-1)*factorial(A1(4)+g4-1))/(factorial(A1(1))*factorial(A1(2))*factorial(A1(3))*factorial(A1(4))*factorial(g1-1)*factorial(g2-1)*factorial(g3-1)*factorial(g4-1));\n",
"micro2=(factorial(A2(1)+g1-1)*factorial(A2(2)+g2-1)*factorial(A2(3)+g3-1)*factorial(A2(4)+g4-1))/(factorial(A2(1))*factorial(A2(2))*factorial(A2(3))*factorial(A2(4))*factorial(g1-1)*factorial(g2-1)*factorial(g3-1)*factorial(g4-1));\n",
"micro3=(factorial(A3(1)+g1-1)*factorial(A3(2)+g2-1)*factorial(A3(3)+g3-1)*factorial(A3(4)+g4-1))/(factorial(A3(1))*factorial(A3(2))*factorial(A3(3))*factorial(A3(4))*factorial(g1-1)*factorial(g2-1)*factorial(g3-1)*factorial(g4-1));\n",
"micro4=(factorial(A4(1)+g1-1)*factorial(A4(2)+g2-1)*factorial(A4(3)+g3-1)*factorial(A4(4)+g4-1))/(factorial(A4(1))*factorial(A4(2))*factorial(A4(3))*factorial(A4(4))*factorial(g1-1)*factorial(g2-1)*factorial(g3-1)*factorial(g4-1));\n",
"micro5=(factorial(A5(1)+g1-1)*factorial(A5(2)+g2-1)*factorial(A5(3)+g3-1)*factorial(A5(4)+g4-1))/(factorial(A5(1))*factorial(A5(2))*factorial(A5(3))*factorial(A5(4))*factorial(g1-1)*factorial(g2-1)*factorial(g3-1)*factorial(g4-1));\n",
"printf('\nMost probable macrostate is\n ');\n",
"if(micro1>=micro2 & micro1>=micro3 & micro1>=micro4 & micro1>=micro5) then\n",
"    disp(A1);\n",
"end\n",
"if(micro2>=micro1 & micro2>=micro3 & micro2>=micro4 & micro2>=micro5) then\n",
"    disp(A2);\n",
"end\n",
"if(micro3>=micro1 & micro3>=micro2 & micro3>=micro4 & micro3>=micro5) then\n",
"    disp(A3);\n",
"end\n",
"if(micro4>=micro1 & micro4>=micro2 & micro4>=micro3 & micro4>=micro5) then\n",
"    disp(A4);\n",
"end\n",
"if(micro5>=micro1 & micro5>=micro2 & micro5>=micro3 & micro5>=micro4) then\n",
"    disp(A5);\n",
"end\n",
"//(iii) Particles are indistinguishable fermions\n",
"printf('\n(iii)Possible macrostates are\n ');\n",
"disp(A5,A2);\n",
"micro2=4/(factorial(A2(1))*factorial(A2(2))*factorial(A2(3))*factorial(A2(4))*factorial(g1-A2(1))*factorial(g2-A2(2))*factorial(g3-A2(3))*factorial(g4-A2(4)));\n",
"micro5=4/(factorial(A5(1))*factorial(A5(2))*factorial(A5(3))*factorial(A5(4))*factorial(g1-A5(1))*factorial(g2-A5(2))*factorial(g3-A5(3))*factorial(g4-A5(4)));\n",
"printf('\nMost probable macrostate is\n ');\n",
"if(micro2>=micro5) then\n",
"    disp(A2);\n",
"end\n",
"if(micro5>=micro2) then\n",
"    disp(A5);\n",
"end"
   ]
   }
,
{
		   "cell_type": "markdown",
		   "metadata": {},
		   "source": [
			"## Example 3.1_3: Ex_3.sce"
		   ]
		  },
  {
"cell_type": "code",
	   "execution_count": null,
	   "metadata": {
	    "collapsed": true
	   },
	   "outputs": [],
"source": [
"//vairable initialization\n",
"N=4                                                                             //no. of particles\n",
"A1=[4 0];                                                                       //possible macrostate\n",
"A2=[3 1];                                                                       //possible macrostate\n",
"A3=[2 2];                                                                       //possible macrostate\n",
"A4=[1 3];                                                                       //possible macrostate\n",
"A5=[0 4];                                                                       //possible macrostate\n",
"\n",
"//calculation\n",
"printf('\nPossible macrostates are\n ');\n",
"disp(A5,A4,A3,A2,A1);\n",
"micro1=factorial(N)/(factorial(A1(1))*factorial(A1(2)));                        //no. of microstate corresponding to macrostate1\n",
"micro2=factorial(N)/(factorial(A2(1))*factorial(A2(2)));                        //no. of microstate corresponding to macrostate2\n",
"micro3=factorial(N)/(factorial(A3(1))*factorial(A3(2)));                        //no. of microstate corresponding to macrostate3\n",
"micro4=factorial(N)/(factorial(A4(1))*factorial(A4(2)));                        //no. of microstate corresponding to macrostate4\n",
"micro5=factorial(N)/(factorial(A5(1))*factorial(A5(2)));                        //no. of microstate corresponding to macrostate5\n",
"printf('\nTotal no. of microstates are %.0f',micro1+micro2+micro3+micro4+micro5);\n",
"printf('\nMost probable macrostate is\n ');\n",
"if(micro1>=micro2 & micro1>=micro3 & micro1>=micro4 & micro1>=micro5) then\n",
"    disp(A1);\n",
"end\n",
"if(micro2>=micro1 & micro2>=micro3 & micro2>=micro4 & micro2>=micro5) then\n",
"    disp(A2);\n",
"end\n",
"if(micro3>=micro1 & micro3>=micro2 & micro3>=micro4 & micro3>=micro5) then\n",
"    disp(A3);\n",
"end\n",
"if(micro4>=micro1 & micro4>=micro2 & micro4>=micro3 & micro4>=micro5) then\n",
"    disp(A4);\n",
"end\n",
"if(micro5>=micro1 & micro5>=micro2 & micro5>=micro3 & micro5>=micro4) then\n",
"    disp(A5);\n",
"end"
   ]
   }
,
{
		   "cell_type": "markdown",
		   "metadata": {},
		   "source": [
			"## Example 3.1_4: Ex_4.sce"
		   ]
		  },
  {
"cell_type": "code",
	   "execution_count": null,
	   "metadata": {
	    "collapsed": true
	   },
	   "outputs": [],
"source": [
"//variable initialization\n",
"N=4                                                                             //no. of particles\n",
"A1=[1 0 1 2];                                                                   //possible macrostate\n",
"A2=[0 2 0 2];                                                                   //possible macrostate\n",
"A3=[0 1 2 1];                                                                   //possible macrostate\n",
"A4=[0 0 4 0];                                                                   //possible macrostate\n",
"\n",
"//calculation\n",
"printf('\nPossible macrostates are\n ');\n",
"disp(A4,A3,A2,A1);\n",
"micro1=factorial(N)/(factorial(A1(1))*factorial(A1(2))*factorial(A1(3))*factorial(A1(4)));                        //no. of microstate corresponding to macrostate1\n",
"micro2=factorial(N)/(factorial(A2(1))*factorial(A2(2))*factorial(A2(3))*factorial(A2(4)));                        //no. of microstate corresponding to macrostate2\n",
"micro3=factorial(N)/(factorial(A3(1))*factorial(A3(2))*factorial(A3(3))*factorial(A3(4)));                        //no. of microstate corresponding to macrostate3\n",
"micro4=factorial(N)/(factorial(A4(1))*factorial(A4(2))*factorial(A4(3))*factorial(A4(4)));                        //no. of microstate corresponding to macrostate4\n",
"printf('\nThe number of microstates belonging to the above macrostates is:%.0f, %.0f, %.0f, %.0f',micro1,micro2,micro3,micro4);"
   ]
   }
,
{
		   "cell_type": "markdown",
		   "metadata": {},
		   "source": [
			"## Example 3.1_5: Ex_5.sce"
		   ]
		  },
  {
"cell_type": "code",
	   "execution_count": null,
	   "metadata": {
	    "collapsed": true
	   },
	   "outputs": [],
"source": [
"function[probability]=p(A)                                                      //function to calculate probability\n",
"    probability=1;\n",
"    i=1\n",
"    for i=1:7\n",
"        probability=probability*(factorial(A(i)+2)/(2*factorial(A(i))));\n",
"    end\n",
"endfunction\n",
"\n",
"//variable initialization\n",
"A1=[5 0 0 0 0 0 1];                                                             //possible macrostate\n",
"A2=[4 1 0 0 0 1 0];                                                             //possible macrostate\n",
"A3=[4 0 1 0 1 0 0];                                                             //possible macrostate\n",
"A4=[3 2 0 0 1 0 0];                                                             //possible macrostate\n",
"A5=[4 0 0 2 0 0 0];                                                             //possible macrostate\n",
"A6=[3 1 1 1 0 0 0];                                                             //possible macrostate\n",
"A7=[2 3 0 1 0 0 0];                                                             //possible macrostate\n",
"A8=[3 0 3 0 0 0 0];                                                             //possible macrostate\n",
"A9=[2 2 2 0 0 0 0];                                                             //possible macrostate\n",
"A10=[1 4 1 0 0 0 0];                                                            //possible macrostate\n",
"A11=[0 6 0 0 0 0 0];                                                            //possible macrostate\n",
"\n",
"//calculation\n",
"p1=p(A1);                                                                       //Thermodynamic probability of macrostate 1\n",
"p2=p(A2);                                                                       //Thermodynamic probability of macrostate 2\n",
"p3=p(A3);                                                                       //Thermodynamic probability of macrostate 3\n",
"p4=p(A4);                                                                       //Thermodynamic probability of macrostate 4\n",
"p5=p(A5);                                                                       //Thermodynamic probability of macrostate 5\n",
"p6=p(A6);                                                                       //Thermodynamic probability of macrostate 6\n",
"p7=p(A7);                                                                       //Thermodynamic probability of macrostate 7\n",
"p8=p(A8);                                                                       //Thermodynamic probability of macrostate 8\n",
"p9=p(A9);                                                                       //Thermodynamic probability of macrostate 9\n",
"p10=p(A10);                                                                     //Thermodynamic probability of macrostate 10\n",
"p11=p(A11);                                                                     //Thermodynamic probability of macrostate 11\n",
"\n",
"printf('\nP1 = %.0f, P2 = %.0f, P3 = %.0f, P4 = %.0f, P5 = %.0f, P6 = %.0f, P7 = %.0f, P8 = %.0f, P9 = %.0f, P10 = %.0f, P11 = %.0f',p1,p2,p3,p4,p5,p6,p7,p8,p9,p10,p11);\n",
"printf('\nThermodyanmic probability of the system = %.0f',p1+p2+p3+p4+p5+p6+p7+p8+p9+p10+p11);"
   ]
   }
,
{
		   "cell_type": "markdown",
		   "metadata": {},
		   "source": [
			"## Example 3.1_6: Ex_6.sce"
		   ]
		  },
  {
"cell_type": "code",
	   "execution_count": null,
	   "metadata": {
	    "collapsed": true
	   },
	   "outputs": [],
"source": [
"function[micro]=p(A)                                                            //function to calculate no. of microstates\n",
"    micro=1;\n",
"    i=1\n",
"    for i=1:5\n",
"        micro=micro*(6/(factorial(A(i))*factorial(3-A(i))));\n",
"    end\n",
"endfunction\n",
"\n",
"//variable initialization\n",
"A1=[3 2 0 0 1];                                                                 //possible macrostate\n",
"A2=[3 1 1 1 0];                                                                 //possible macrostate\n",
"A3=[2 3 0 1 0];                                                                 //possible macrostate\n",
"A4=[3 0 3 0 0];                                                                 //possible macrostate\n",
"A5=[2 2 2 0 0];                                                                 //possible macrostate\n",
"\n",
"//calculation\n",
"p1=p(A1);                                                                       //no. of microstates\n",
"p2=p(A2);                                                                       //no. of microstates\n",
"p3=p(A3);                                                                       //no. of microstates\n",
"p4=p(A4);                                                                       //no. of microstates\n",
"p5=p(A5);                                                                       //no. of microstates\n",
"\n",
"printf('\nPossible microstates are : %.0f, %.0f, %.0f, %.0f, %.0f',p1,p2,p3,p4,p5);\n",
"printf('\nThe thermodynamic probability of the system = %.0f',p1+p2+p3+p4+p5);"
   ]
   }
],
"metadata": {
		  "kernelspec": {
		   "display_name": "Scilab",
		   "language": "scilab",
		   "name": "scilab"
		  },
		  "language_info": {
		   "file_extension": ".sce",
		   "help_links": [
			{
			 "text": "MetaKernel Magics",
			 "url": "https://github.com/calysto/metakernel/blob/master/metakernel/magics/README.md"
			}
		   ],
		   "mimetype": "text/x-octave",
		   "name": "scilab",
		   "version": "0.7.1"
		  }
		 },
		 "nbformat": 4,
		 "nbformat_minor": 0
}
