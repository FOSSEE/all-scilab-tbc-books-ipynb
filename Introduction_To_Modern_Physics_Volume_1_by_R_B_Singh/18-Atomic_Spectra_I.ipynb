{
"cells": [
 {
		   "cell_type": "markdown",
	   "metadata": {},
	   "source": [
       "# Chapter 18: Atomic Spectra I"
	   ]
	},
{
		   "cell_type": "markdown",
		   "metadata": {},
		   "source": [
			"## Example 4.1_1: Ex_1.sce"
		   ]
		  },
  {
"cell_type": "code",
	   "execution_count": null,
	   "metadata": {
	    "collapsed": true
	   },
	   "outputs": [],
"source": [
"//variable initialization\n",
"z=2                                                                             //atomic no. of He\n",
"a0=0.529                                                                        //radius of first Bohr orbit of H atom (Å)\n",
"n=1                                                                             //no. of Bohr orbit\n",
"A=2.19*10^6;                                                                    //velocity of e in first Bohr orbit of H atom (m/s)\n",
"B=4.14*10^15;                                                                   //orbital frequency in the first Bohr orbit of H atom (rad/s)\n",
"E0=13.6                                                                         //energy of electron in ground state of H atom (eV)\n",
"n1=1;\n",
"n2=2;\n",
"R=1.097*10^7;                                                                   //Rydberg constant (m-1)\n",
"\n",
"//(i) radius of first Bohr orbit\n",
"r=a0/2;                                                                         //radius of first Bohr  orbit (Å)\n",
"\n",
"//(ii) velocity of electron in the first orbit\n",
"v=A*(z/n);                                                                      //velocity of electron in the first orbit (m/s)\n",
"\n",
"//(iii) orbital frequency in the first orbit\n",
"omega=B*(z^2/n^3);                                                              //orbital frequency in the first orbit (rad/s)\n",
"\n",
"//(iv) kinetic and binding energy\n",
"KE=E0*(z^2/n^2);                                                                //kinetic energy of electron in the ground state (eV)\n",
"BE=KE;                                                                          //binding energy of electron in the ground state (eV)\n",
"\n",
"//(v) ionization potential and first excitation potential\n",
"IP=KE;                                                                          //ionization potential (eV)\n",
"EE=E0*z^2*((1/n1^2)-(1/n2^2));                                                  //first excitation potential (eV)\n",
"\n",
"//(vi) wavelength of the resonance line emitted in the transition n=2 to n=1\n",
"lembda=(1/(R*z^2*((1/n1^2)-(1/n2^2))))*10^10;                                   //wavelength of the resonance line emitted in the transition n=2 to n=1 (Å)\n",
"\n",
"printf('\n(i) radius = %.3f Å\n(ii) velocity = %.2e m/s\n(iii) orbital frequency = %.3e rad/s\n(iv) KE = %.2f eV    BE = %.2f eV\n(v) IP = %.2f eV    EE = %.2f eV\n(vi) wavelength = %.1f Å',r,v,omega,KE,BE,IP,EE,lembda);"
   ]
   }
,
{
		   "cell_type": "markdown",
		   "metadata": {},
		   "source": [
			"## Example 4.1_2: Ex_2.sce"
		   ]
		  },
  {
"cell_type": "code",
	   "execution_count": null,
	   "metadata": {
	    "collapsed": true
	   },
	   "outputs": [],
"source": [
"//variable initialization\n",
"z=1                                                                             //atomic no. of H atom\n",
"m=1.68*10^-27;                                                                  //mass of H atom (kg)\n",
"h=1.054*10^-34;                                                                 //Planck's constant (joule second)\n",
"R=10967800;                                                                     //Rydberg constant (m-1)\n",
"e=1.6*10^-19;                                                                   //Charge of electron (coulombs)\n",
"c=3*10^8;                                                                       //speed of light (m/s)\n",
"\n",
"//(i) recoil velocity\n",
"v=(3*%pi*h*R*z^2)/(2*m);                                                        //recoil velocity of H atom (m/s)\n",
"\n",
"//(ii) recoil kinetic energy\n",
"Er=(9/8)*((%pi*h*R*z^2)^2/(m*e));                                               //recoil kinetic energy of H atom (eV)\n",
"\n",
"//(iii) energy of emitted photon\n",
"E=(1.5*%pi*h*c*R*z^2)/e;                                                        //energy of emitted photon (eV)\n",
"\n",
"printf('\n(i) recoil velocity = %.2f m/s\n(ii) recoil kinetic energy = %.1e eV\n(iii) energy of emitted photon = %.2f eV',v,Er,E);"
   ]
   }
,
{
		   "cell_type": "markdown",
		   "metadata": {},
		   "source": [
			"## Example 4.1_3: Ex_3.sce"
		   ]
		  },
  {
"cell_type": "code",
	   "execution_count": null,
	   "metadata": {
	    "collapsed": true
	   },
	   "outputs": [],
"source": [
"//variable initialization\n",
"z=2                                                                             //atomic no. of He atom\n",
"h=1.054*10^-34;                                                                 //Planck's constant (joule second)\n",
"R=10967800;                                                                     //Rydberg constant (m-1)\n",
"e=1.6*10^-19;                                                                   //Charge of electron (coulombs)\n",
"c=3*10^8;                                                                       //speed of light (m/s)\n",
"\n",
"//calculation\n",
"E=1.5*%pi*h*c*R*z^2;                                                            //The energy of the emitted photon (J)\n",
"IE=2*%pi*h*c*R;                                                                 //Ionization energy of H atom (J)\n",
"KE=(E-IE)/e;                                                                    //Kinetic energy of the photoelectron (eV)\n",
"\n",
"printf('\nKinetic energy of photoelectron = %.1f eV',KE);"
   ]
   }
,
{
		   "cell_type": "markdown",
		   "metadata": {},
		   "source": [
			"## Example 4.1_4: Ex_4.sce"
		   ]
		  },
  {
"cell_type": "code",
	   "execution_count": null,
	   "metadata": {
	    "collapsed": true
	   },
	   "outputs": [],
"source": [
"//variable initialization\n",
"ratio=4                                                                         //ratio of wavelengths\n",
"z1=1                                                                            //atomic no. of hydrogen atom\n",
"\n",
"//calculation\n",
"z2=sqrt(ratio*z1^2);                                                            //atomic no. of unknown element\n",
"\n",
"printf('\natomic no. = %.0f',z2);"
   ]
   }
,
{
		   "cell_type": "markdown",
		   "metadata": {},
		   "source": [
			"## Example 4.1_5: Ex_5.sce"
		   ]
		  },
  {
"cell_type": "code",
	   "execution_count": null,
	   "metadata": {
	    "collapsed": true
	   },
	   "outputs": [],
"source": [
"//variable initialization\n",
"lembda1=108.5*10^-9;                                                            //wavelength (m)\n",
"lembda2=30.4*10^-9;                                                             //wavelength (m)\n",
"R=1.097*10^7;                                                                   //Rydberg constant (m-1)\n",
"z=2                                                                             //atomic no. of He\n",
"n0=1                                                                            //ground state\n",
"\n",
"//calculation\n",
"n=sqrt(1/((1/n0^2)-(((1/lembda1)+(1/lembda2))/(R*z^2))));                       //quantum no. corresponding to the excited state of He+\n",
"\n",
"printf('\nn = %.0f',n);"
   ]
   }
,
{
		   "cell_type": "markdown",
		   "metadata": {},
		   "source": [
			"## Example 4.1_6: Es_6.sce"
		   ]
		  },
  {
"cell_type": "code",
	   "execution_count": null,
	   "metadata": {
	    "collapsed": true
	   },
	   "outputs": [],
"source": [
"//variable initialization\n",
"z=2                                                                             //atomic no. of He+ ion\n",
"lembda=133.7*10^-9;                                                             //difference b/w the first lines of the Balmer and Lyman series (m)\n",
"n1=1\n",
"n2=2\n",
"n3=3\n",
"\n",
"//calculation\n",
"R=(1/(lembda*z^2))*((1/((1/n2^2)-(1/n3^2)))-(1/((1/n1^2)-(1/n2^2))));           //Rudberg constant (m-1)\n",
"\n",
"printf('\nR = %.3e m-1',R);"
   ]
   }
,
{
		   "cell_type": "markdown",
		   "metadata": {},
		   "source": [
			"## Example 4.1_7: Ex_7.sce"
		   ]
		  },
  {
"cell_type": "code",
	   "execution_count": null,
	   "metadata": {
	    "collapsed": true
	   },
	   "outputs": [],
"source": [
"//variable initialization\n",
"R=1.097*10^7;                                                                   //Rydberg constant (m-1)\n",
"lembda=59.3*10^-9;                                                              //wavelength difference b/w first lines of Balmer and Lyman series (m)\n",
"\n",
"//calculation\n",
"z=sqrt(88/(15*R*lembda));                                                       //atomic no.\n",
"\n",
"printf('\nZ = %.0f',z);"
   ]
   }
,
{
		   "cell_type": "markdown",
		   "metadata": {},
		   "source": [
			"## Example 4.1_8: Ex_8.sce"
		   ]
		  },
  {
"cell_type": "code",
	   "execution_count": null,
	   "metadata": {
	    "collapsed": true
	   },
	   "outputs": [],
"source": [
"//variable initialization\n",
"R=1.097*10^7;                                                                   //Rydberg constant (m-1)\n",
"ratio=1836;                                                                     //ratio of maas of tritium and hydrogen\n",
"\n",
"//calculation\n",
"lembda=(36*2*10^10)/(5*R*3*ratio);                                              //separation of the first line of the Balmer series (Å)\n",
"\n",
"printf('\nΔλ = %.1f Å',lembda);"
   ]
   }
],
"metadata": {
		  "kernelspec": {
		   "display_name": "Scilab",
		   "language": "scilab",
		   "name": "scilab"
		  },
		  "language_info": {
		   "file_extension": ".sce",
		   "help_links": [
			{
			 "text": "MetaKernel Magics",
			 "url": "https://github.com/calysto/metakernel/blob/master/metakernel/magics/README.md"
			}
		   ],
		   "mimetype": "text/x-octave",
		   "name": "scilab",
		   "version": "0.7.1"
		  }
		 },
		 "nbformat": 4,
		 "nbformat_minor": 0
}
