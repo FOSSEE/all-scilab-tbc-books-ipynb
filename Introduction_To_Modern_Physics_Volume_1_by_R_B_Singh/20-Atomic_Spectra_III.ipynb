{
"cells": [
 {
		   "cell_type": "markdown",
	   "metadata": {},
	   "source": [
       "# Chapter 20: Atomic Spectra III"
	   ]
	},
{
		   "cell_type": "markdown",
		   "metadata": {},
		   "source": [
			"## Example 4.3_10: Ex_10.sce"
		   ]
		  },
  {
"cell_type": "code",
	   "execution_count": null,
	   "metadata": {
	    "collapsed": true
	   },
	   "outputs": [],
"source": [
"//variable initialization\n",
"E1=16960                                                                        //mean position of the level (cm-1)\n",
"E2=24490                                                                        //convergence limit of sharp series (cm-1)\n",
"\n",
"//calculation\n",
"I=(E1+E2)/8065;                                                                 //ionization energy of sodium atom (eV)\n",
"\n",
"printf('\nI = %.4f eV',I);"
   ]
   }
,
{
		   "cell_type": "markdown",
		   "metadata": {},
		   "source": [
			"## Example 4.3_11: Ex_11.sce"
		   ]
		  },
  {
"cell_type": "code",
	   "execution_count": null,
	   "metadata": {
	    "collapsed": true
	   },
	   "outputs": [],
"source": [
"//variable initialization\n",
"E1=41450                                                                        //principal series for sodium atom (cm-1)\n",
"E2=24477                                                                        //sharp series for sodium atom (cm-1)\n",
"\n",
"//calculation\n",
"I=(E1+E2)/8065;                                                                 //ionization energy of sodium atom (eV)\n",
"\n",
"printf('\nI = %.4f eV',I);"
   ]
   }
,
{
		   "cell_type": "markdown",
		   "metadata": {},
		   "source": [
			"## Example 4.3_12: Ex_12.sce"
		   ]
		  },
  {
"cell_type": "code",
	   "execution_count": null,
	   "metadata": {
	    "collapsed": true
	   },
	   "outputs": [],
"source": [
"//variable initialization\n",
"E1=14904                                                                        //mean position of the level (cm-1)\n",
"E2=28583                                                                        //convergence limit of sharp series (cm-1)\n",
"\n",
"//calculation\n",
"I=(E1+E2)/8065;                                                                 //ionization energy of Li atom (eV)\n",
"\n",
"printf('\nI = %.2f eV',I);"
   ]
   }
,
{
		   "cell_type": "markdown",
		   "metadata": {},
		   "source": [
			"## Example 4.3_13: Ex_13.sce"
		   ]
		  },
  {
"cell_type": "code",
	   "execution_count": null,
	   "metadata": {
	    "collapsed": true
	   },
	   "outputs": [],
"source": [
"//variable initialization\n",
"R=109734                                                                        //(cm-1)\n",
"T=24477                                                                         //(cm-1)\n",
"Zeff=1\n",
"n=3\n",
"\n",
"//calculation\n",
"delta=n-(Zeff*sqrt(R/T));                                                       //quantum defect for 3p configuration of sodium\n",
"\n",
"printf('\nΔ = %.3f',delta);"
   ]
   }
,
{
		   "cell_type": "markdown",
		   "metadata": {},
		   "source": [
			"## Example 4.3_14: Ex_14.sce"
		   ]
		  },
  {
"cell_type": "code",
	   "execution_count": null,
	   "metadata": {
	    "collapsed": true
	   },
	   "outputs": [],
"source": [
"//variable initialization\n",
"z1=1                                                                            //atomic no.\n",
"z2=2                                                                            //atomic no.\n",
"deltaT2=5.84                                                                    //doublet splitting of the first excited state for z=2 (cm-1)\n",
"\n",
"//calculation\n",
"deltaT1=deltaT2*(z1/z2)^4;                                                      //separation in hydrogen atom (cm-1)\n",
"\n",
"printf('\n separation in hydrogen atom = %.3f cm-1',deltaT1);"
   ]
   }
,
{
		   "cell_type": "markdown",
		   "metadata": {},
		   "source": [
			"## Example 4.3_4: Ex_4.sce"
		   ]
		  },
  {
"cell_type": "code",
	   "execution_count": null,
	   "metadata": {
	    "collapsed": true
	   },
	   "outputs": [],
"source": [
"//variable initialization\n",
"R=109729                                                                        //(cm-1)\n",
"T1=43487                                                                        //(cm-1)\n",
"T2=28583                                                                        //(cm-1)\n",
"n=2\n",
"\n",
"//calculation\n",
"delta=n-sqrt(R/T2);                                                             //quantum defect\n",
"\n",
"printf('\nquantum defect = %.4f',delta);"
   ]
   }
,
{
		   "cell_type": "markdown",
		   "metadata": {},
		   "source": [
			"## Example 4.3_5: Ex_5.sce"
		   ]
		  },
  {
"cell_type": "code",
	   "execution_count": null,
	   "metadata": {
	    "collapsed": true
	   },
	   "outputs": [],
"source": [
"//variable initialization\n",
"R=109737                                                                        //(cm-1)\n",
"n=1.805                                                                         //effective quantum number for the ground state of rubidium\n",
"\n",
"//calculation\n",
"T=R/(8065*n^2);                                                                 //ionization potential of rubidium (eV)\n",
"\n",
"printf('\nThe ionization potential of rubidium = %.3f eV',T);"
   ]
   }
,
{
		   "cell_type": "markdown",
		   "metadata": {},
		   "source": [
			"## Example 4.3_6: Ex_6.sce"
		   ]
		  },
  {
"cell_type": "code",
	   "execution_count": null,
	   "metadata": {
	    "collapsed": true
	   },
	   "outputs": [],
"source": [
"//variable initialization\n",
"ratio=2.5                                                                       //ratio of ionization potential of hydrogen and sodium\n",
"n=3\n",
"\n",
"//calculation\n",
"z=sqrt(n^2/ratio);                                                              //effective atomic number of sodium\n",
"\n",
"printf('\nEffective atomic number of sodium = %.2f',z);"
   ]
   }
,
{
		   "cell_type": "markdown",
		   "metadata": {},
		   "source": [
			"## Example 4.3_7: Ex_7.sce"
		   ]
		  },
  {
"cell_type": "code",
	   "execution_count": null,
	   "metadata": {
	    "collapsed": true
	   },
	   "outputs": [],
"source": [
"//variable initialization\n",
"hc=12400                                                                        //value of product of plank's constant and speed of light (eV Å)\n",
"E1=3.18                                                                         //separation of 4s and 3s level (eV)\n",
"lembda=5890                                                                     //wavelength of the first member of principal series of sodium (Å)\n",
"\n",
"//calculation\n",
"E2=hc/lembda;                                                                   //separation of 3s and 3p levels (eV)\n",
"deltaE=E1-E2;                                                                   //separation of 4s and 3p level (eV)\n",
"lembda1=hc/deltaE;                                                              //wavelength of the first member of sharp series (Å)\n",
"\n",
"printf('\nλ = %.0f Å',lembda1);"
   ]
   }
,
{
		   "cell_type": "markdown",
		   "metadata": {},
		   "source": [
			"## Example 4.3_8: Ex_8.sce"
		   ]
		  },
  {
"cell_type": "code",
	   "execution_count": null,
	   "metadata": {
	    "collapsed": true
	   },
	   "outputs": [],
"source": [
"//variable initialization\n",
"lembda1=5890*10^-10;                                                            //wavelength of doublet (Å)\n",
"lembda2=5896*10^-10;                                                            //wavelength of doublet (Å)\n",
"h=6.63*10^-34;                                                                  //Plank's constant (Js)\n",
"c=3*10^8;                                                                       //speed of light (m/s)\n",
"e=1.6*10^-19;                                                                   //Charge of electron (coulombs)\n",
"\n",
"//calculation\n",
"deltaV=(lembda2-lembda1)/(lembda1*lembda2);                                     //wave no. (m-1)\n",
"deltaE=(h*c*deltaV)/e;                                                          //separation of energy levels (eV)\n",
"\n",
"printf('\nΔE = %.2e eV',deltaE);"
   ]
   }
,
{
		   "cell_type": "markdown",
		   "metadata": {},
		   "source": [
			"## Example 4.3_9: Ex_9.sce"
		   ]
		  },
  {
"cell_type": "code",
	   "execution_count": null,
	   "metadata": {
	    "collapsed": true
	   },
	   "outputs": [],
"source": [
"//variable initialization\n",
"deltaT=2.1*10^-3;                                                               //(eV)\n",
"lembda=5893*10^-8;                                                              //(Å)\n",
"\n",
"//calculation\n",
"deltaV=deltaT*8065;                                                             //(cm-1)\n",
"deltalembda=deltaV*lembda^2;                                                    //(cm)\n",
"\n",
"printf('\nΔλ = %.2e cm',deltalembda);"
   ]
   }
],
"metadata": {
		  "kernelspec": {
		   "display_name": "Scilab",
		   "language": "scilab",
		   "name": "scilab"
		  },
		  "language_info": {
		   "file_extension": ".sce",
		   "help_links": [
			{
			 "text": "MetaKernel Magics",
			 "url": "https://github.com/calysto/metakernel/blob/master/metakernel/magics/README.md"
			}
		   ],
		   "mimetype": "text/x-octave",
		   "name": "scilab",
		   "version": "0.7.1"
		  }
		 },
		 "nbformat": 4,
		 "nbformat_minor": 0
}
