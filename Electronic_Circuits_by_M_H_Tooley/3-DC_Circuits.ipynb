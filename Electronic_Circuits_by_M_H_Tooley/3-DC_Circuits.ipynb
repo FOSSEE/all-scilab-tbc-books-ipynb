{
"cells": [
 {
		   "cell_type": "markdown",
	   "metadata": {},
	   "source": [
       "# Chapter 3: DC Circuits"
	   ]
	},
{
		   "cell_type": "markdown",
		   "metadata": {},
		   "source": [
			"## Example 3.10: EX3_10.sce"
		   ]
		  },
  {
"cell_type": "code",
	   "execution_count": null,
	   "metadata": {
	    "collapsed": true
	   },
	   "outputs": [],
"source": [
"//Ex:3.10\n",
"clc;\n",
"clear;\n",
"close;\n",
"c=100*10^-6;//in farads\n",
"r=1*10^3;//in ohms\n",
"t1=50*10^-3;//in sec.\n",
"t2=100*10^-3;//in sec.\n",
"V_s=350;//in volts\n",
"i1=(V_s/1000)*(%e^(-t1/(r*c)));\n",
"i2=(V_s/1000)*(%e^(-t2/(r*c)));\n",
"printf('Charging current after %f sec = %f A',t1,i1);\n",
"printf('\n Charging current after %f sec = %f A',t2,i2);"
   ]
   }
,
{
		   "cell_type": "markdown",
		   "metadata": {},
		   "source": [
			"## Example 3.11: Determine_the_time_taken_by_the_capacitor_to_fall_below_10V.sce"
		   ]
		  },
  {
"cell_type": "code",
	   "execution_count": null,
	   "metadata": {
	    "collapsed": true
	   },
	   "outputs": [],
"source": [
"//Ex:3.11\n",
"clc;\n",
"clear;\n",
"close;\n",
"c=10*10^-6;//in farads\n",
"r=47*10^3;//in ohms\n",
"V_s=20;//in volts\n",
"V_c=10;\n",
"t=-c*r*log(V_c/V_s);\n",
"printf('time taken = %f sec.',t);"
   ]
   }
,
{
		   "cell_type": "markdown",
		   "metadata": {},
		   "source": [
			"## Example 3.12: Determine_the_capacitor_voltage_1_minute_later.sce"
		   ]
		  },
  {
"cell_type": "code",
	   "execution_count": null,
	   "metadata": {
	    "collapsed": true
	   },
	   "outputs": [],
"source": [
"//Ex:3.12\n",
"clc;\n",
"clear;\n",
"close;\n",
"c=150*10^-6;//in farads\n",
"r=2*10^6;//in ohms\n",
"V_s=150;//in volts\n",
"V_c=0.8187*V_s;\n",
"printf('Capacitor voltage = %f V',V_c);"
   ]
   }
,
{
		   "cell_type": "markdown",
		   "metadata": {},
		   "source": [
			"## Example 3.13: Determine_the_C_R_values_for_sq_wave_of_1kHz.sce"
		   ]
		  },
  {
"cell_type": "code",
	   "execution_count": null,
	   "metadata": {
	    "collapsed": true
	   },
	   "outputs": [],
"source": [
"//Ex:3.13\n",
"clc;\n",
"clear;\n",
"close;\n",
"r=10*10^3;//in ohms\n",
"t=1*10^-3;\n",
"c=(0.1*t/r)*10^9;\n",
"printf('Capacitor = %d nF',c);"
   ]
   }
,
{
		   "cell_type": "markdown",
		   "metadata": {},
		   "source": [
			"## Example 3.14: Determine_the_C_R_values_for_sq_wave_of_1kHz.sce"
		   ]
		  },
  {
"cell_type": "code",
	   "execution_count": null,
	   "metadata": {
	    "collapsed": true
	   },
	   "outputs": [],
"source": [
"//Ex:3.14\n",
"clc;\n",
"clear;\n",
"close;\n",
"r=10*10^3;//in ohms\n",
"t=1*10^-3;\n",
"c=(10*t/r)*10^6;\n",
"printf('Capacitor = %d uF',c);"
   ]
   }
,
{
		   "cell_type": "markdown",
		   "metadata": {},
		   "source": [
			"## Example 3.15: Determine_the_current_in_the_inductor_after_supply_first_connected.sce"
		   ]
		  },
  {
"cell_type": "code",
	   "execution_count": null,
	   "metadata": {
	    "collapsed": true
	   },
	   "outputs": [],
"source": [
"//Ex:3.15\n",
"clc;\n",
"clear;\n",
"close;\n",
"L=6;//in henry\n",
"r=24;//in ohms\n",
"t=0.1;//in sec.\n",
"V_s=12;//in volts\n",
"i=(V_s/r)*(1-%e^(-t*r/L));\n",
"printf('current = %f A',i);"
   ]
   }
,
{
		   "cell_type": "markdown",
		   "metadata": {},
		   "source": [
			"## Example 3.16: Determine_the_inductor_voltage_20ms_after_supply_first_connected.sce"
		   ]
		  },
  {
"cell_type": "code",
	   "execution_count": null,
	   "metadata": {
	    "collapsed": true
	   },
	   "outputs": [],
"source": [
"//Ex:3.16\n",
"clc;\n",
"clear;\n",
"close;\n",
"V_s=5;//in volts\n",
"V_c=0.8647*V_s;\n",
"printf('Inductor voltage = %f V',V_c);"
   ]
   }
,
{
		   "cell_type": "markdown",
		   "metadata": {},
		   "source": [
			"## Example 3.1: Determine_the_value_of_current_flowing_between_A_B_and_value_of_I3.sce"
		   ]
		  },
  {
"cell_type": "code",
	   "execution_count": null,
	   "metadata": {
	    "collapsed": true
	   },
	   "outputs": [],
"source": [
"//Ex:3.1\n",
"clc;\n",
"clear;\n",
"close;\n",
"i1=1.5;\n",
"i2=2.7;//in amp.s\n",
"i5=i1+i2;\n",
"i4=3.3;\n",
"i3=i4+i5;\n",
"printf('Current b/w A & B = %f A',i5);\n",
"printf('\n Current I3 = %f A',i3);"
   ]
   }
,
{
		   "cell_type": "markdown",
		   "metadata": {},
		   "source": [
			"## Example 3.2: Determine_the_value_of_V2_and_value_of_E3.sce"
		   ]
		  },
  {
"cell_type": "code",
	   "execution_count": null,
	   "metadata": {
	    "collapsed": true
	   },
	   "outputs": [],
"source": [
"//Ex:3.2\n",
"clc;\n",
"clear;\n",
"close;\n",
"E1=6;\n",
"E2=3;\n",
"V2=E1-E2;\n",
"V1=4.5;\n",
"E3=V1-E2;\n",
"printf('Value of V2 = %f A',V2);\n",
"printf('\n Value of E3 = %f A',E3);"
   ]
   }
,
{
		   "cell_type": "markdown",
		   "metadata": {},
		   "source": [
			"## Example 3.3: Determine_the_voltage_and_current_in_circuit.sce"
		   ]
		  },
  {
"cell_type": "code",
	   "execution_count": null,
	   "metadata": {
	    "collapsed": true
	   },
	   "outputs": [],
"source": [
"//Ex:3.3\n",
"clc;\n",
"clear;\n",
"close;\n",
"V1=7.5;//in volts\n",
"V2=4.5;\n",
"V3=4.5;\n",
"r1=110;//in ohms\n",
"r2=33;\n",
"r3=22;\n",
"i1=V1/r1;\n",
"i2=V2/r2;\n",
"i3=V3/r3;\n",
"printf('Current I1 = %f A',i1);\n",
"printf('\n Current I2 = %f A',i2);\n",
"printf('\n Current I3 = %f A',i3);"
   ]
   }
,
{
		   "cell_type": "markdown",
		   "metadata": {},
		   "source": [
			"## Example 3.4: Determine_the_output_when_no_load_and_loaded_by_10kohm.sce"
		   ]
		  },
  {
"cell_type": "code",
	   "execution_count": null,
	   "metadata": {
	    "collapsed": true
	   },
	   "outputs": [],
"source": [
"//Ex:3.4\n",
"clc;\n",
"clear;\n",
"close;\n",
"V_in=5;//in volts\n",
"r1=4000;\n",
"r2=1000;\n",
"r_p=r1*r2/(r1+r2);\n",
"V_out=V_in*(r2/(r1+r2));\n",
"V_out_p=V_in*(r_p/(r_p+r2));\n",
"printf('output voltage at no load = %f A',V_out);\n",
"printf('\n output voltage when loaded by 10kohms = %f A',V_out_p);"
   ]
   }
,
{
		   "cell_type": "markdown",
		   "metadata": {},
		   "source": [
			"## Example 3.5: Determine_the_value_of_parallel_shunt_resistor.sce"
		   ]
		  },
  {
"cell_type": "code",
	   "execution_count": null,
	   "metadata": {
	    "collapsed": true
	   },
	   "outputs": [],
"source": [
"//Ex:3.5\n",
"clc;\n",
"clear;\n",
"close;\n",
"I_in=5;//in mA\n",
"R_m=100;\n",
"I_m=1;\n",
"R_s=R_m*I_m/(I_in-1);\n",
"printf('Value of parallel shunt resistor = %d A',R_s);"
   ]
   }
,
{
		   "cell_type": "markdown",
		   "metadata": {},
		   "source": [
			"## Example 3.6: Determine_the_range_of_resistances_that_can_be_measured.sce"
		   ]
		  },
  {
"cell_type": "code",
	   "execution_count": null,
	   "metadata": {
	    "collapsed": true
	   },
	   "outputs": [],
"source": [
"//Ex:3.6\n",
"clc;\n",
"clear;\n",
"close;\n",
"r1=100;\n",
"r2=1000;\n",
"R_x_1=(r2/r1)*10000;\n",
"R_x_2=(r1/r2)*10;\n",
"printf('Range extends from %d ohms to %d ohms',R_x_2,R_x_1);"
   ]
   }
,
{
		   "cell_type": "markdown",
		   "metadata": {},
		   "source": [
			"## Example 3.7: Determine_the_current_flow_in_100_ohm_load.sce"
		   ]
		  },
  {
"cell_type": "code",
	   "execution_count": null,
	   "metadata": {
	    "collapsed": true
	   },
	   "outputs": [],
"source": [
"//Ex:3.7\n",
"clc;\n",
"clear;\n",
"close;\n",
"E=10;\n",
"r1=500;\n",
"r2=600;\n",
"r3=500;\n",
"r4=400;\n",
"V_a=E*(r2/(r1+r2));\n",
"V_b=E*(r4/(r3+r4));\n",
"V_oc=V_a-V_b;\n",
"r=((r1*r2)/(r1+r2))+((r3*r4)/(r3+r4));\n",
"i=(V_oc/(r+100))*1000;\n",
"printf('Current flow in 100 ohm resistor = %f mA',i );"
   ]
   }
,
{
		   "cell_type": "markdown",
		   "metadata": {},
		   "source": [
			"## Example 3.8: Determine_the_voltage_produced.sce"
		   ]
		  },
  {
"cell_type": "code",
	   "execution_count": null,
	   "metadata": {
	    "collapsed": true
	   },
	   "outputs": [],
"source": [
"//Ex:3.8\n",
"clc;\n",
"clear;\n",
"close;\n",
"I_sc=19;//in uA\n",
"R=1000;\n",
"R_m=968;\n",
"V_out=I_sc*(R*R_m/(R+R_m));\n",
"printf('Voltage produced = %d uV',V_out);"
   ]
   }
,
{
		   "cell_type": "markdown",
		   "metadata": {},
		   "source": [
			"## Example 3.9: Determine_the_voltage_produced.sce"
		   ]
		  },
  {
"cell_type": "code",
	   "execution_count": null,
	   "metadata": {
	    "collapsed": true
	   },
	   "outputs": [],
"source": [
"//Ex:3.9\n",
"clc;\n",
"clear;\n",
"close;\n",
"c=1*10^-6;//in farads\n",
"r=3.3*10^6;//in ohms\n",
"t=1;//in sec.\n",
"V_s=9;//in volts\n",
"V_c=V_s*(1-%e^(-t/(r*c)));\n",
"printf('Voltage produced = %f V',V_c);"
   ]
   }
],
"metadata": {
		  "kernelspec": {
		   "display_name": "Scilab",
		   "language": "scilab",
		   "name": "scilab"
		  },
		  "language_info": {
		   "file_extension": ".sce",
		   "help_links": [
			{
			 "text": "MetaKernel Magics",
			 "url": "https://github.com/calysto/metakernel/blob/master/metakernel/magics/README.md"
			}
		   ],
		   "mimetype": "text/x-octave",
		   "name": "scilab",
		   "version": "0.7.1"
		  }
		 },
		 "nbformat": 4,
		 "nbformat_minor": 0
}
