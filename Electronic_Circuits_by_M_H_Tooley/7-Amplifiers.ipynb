{
"cells": [
 {
		   "cell_type": "markdown",
	   "metadata": {},
	   "source": [
       "# Chapter 7: Amplifiers"
	   ]
	},
{
		   "cell_type": "markdown",
		   "metadata": {},
		   "source": [
			"## Example 7.1: Determine_voltage_gain_and_current_gain_and_power_gain.sce"
		   ]
		  },
  {
"cell_type": "code",
	   "execution_count": null,
	   "metadata": {
	    "collapsed": true
	   },
	   "outputs": [],
"source": [
"//Ex:7.1\n",
"clc;\n",
"clear;\n",
"close;\n",
"I_i=4;\n",
"V_o=2;\n",
"V_i=50*10^-3;\n",
"I_o=200;\n",
"A_v=V_o/V_i;\n",
"A_i=I_o/I_i;\n",
"printf(' Volt gain = %f ',A_v); \n",
"printf('\n Current gain = %f ',A_i); \n",
"printf('\n Power gain = %f ',A_i*A_v);   \n",
"                     "
   ]
   }
,
{
		   "cell_type": "markdown",
		   "metadata": {},
		   "source": [
			"## Example 7.2: Determine_voltage_gain_and_upper_and_lower_cutoff_freq.sce"
		   ]
		  },
  {
"cell_type": "code",
	   "execution_count": null,
	   "metadata": {
	    "collapsed": true
	   },
	   "outputs": [],
"source": [
"//Ex:7.2\n",
"clc;\n",
"clear;\n",
"close;\n",
"A_v_max=35;\n",
"A_v_cutoff=0.707*A_v_max;\n",
"printf(' Mid-band Volt gain = %f ',A_v_cutoff); \n",
"printf('\n upper freq = 590Hz & lower freq = 57Hz'); \n",
"  \n",
"                     "
   ]
   }
,
{
		   "cell_type": "markdown",
		   "metadata": {},
		   "source": [
			"## Example 7.3: Determine_overall_voltage_gain_with_negative_feedback.sce"
		   ]
		  },
  {
"cell_type": "code",
	   "execution_count": null,
	   "metadata": {
	    "collapsed": true
	   },
	   "outputs": [],
"source": [
"//Ex:7.3\n",
"clc;\n",
"clear;\n",
"close;\n",
"A=50;\n",
"b=0.1;\n",
"G=A/(1+b*A);\n",
"printf(' overall Volt gain = %f ',G); "
   ]
   }
,
{
		   "cell_type": "markdown",
		   "metadata": {},
		   "source": [
			"## Example 7.4: Determine_percentage_increase_in_overall_voltage_gain.sce"
		   ]
		  },
  {
"cell_type": "code",
	   "execution_count": null,
	   "metadata": {
	    "collapsed": true
	   },
	   "outputs": [],
"source": [
"//Ex:7.4\n",
"clc;\n",
"clear;\n",
"close;\n",
"A=50;\n",
"A_new=A+0.2*A;\n",
"b=0.1;\n",
"G=A_new/(1+b*A_new);\n",
"dG=8.33-G/8.33;\n",
"printf(' percentage change in overall volt gain = %f %%',dG); "
   ]
   }
,
{
		   "cell_type": "markdown",
		   "metadata": {},
		   "source": [
			"## Example 7.5: Determine_amount_of_feedback_required.sce"
		   ]
		  },
  {
"cell_type": "code",
	   "execution_count": null,
	   "metadata": {
	    "collapsed": true
	   },
	   "outputs": [],
"source": [
"//Ex:7.5\n",
"clc;\n",
"clear;\n",
"close;\n",
"A=100;\n",
"G=20;\n",
"b=(1/G)-(1/A);\n",
"printf('amount of feedback required = %f ',b); "
   ]
   }
,
{
		   "cell_type": "markdown",
		   "metadata": {},
		   "source": [
			"## Example 7.6: Determine_output_voltage_produced_by_input_signal_of_10mV.sce"
		   ]
		  },
  {
"cell_type": "code",
	   "execution_count": null,
	   "metadata": {
	    "collapsed": true
	   },
	   "outputs": [],
"source": [
"//Ex:7.6\n",
"clc;\n",
"clear;\n",
"close;\n",
"h_oe=80*10^-6;\n",
"R_l=10000;\n",
"I_f=320*10^-6;\n",
"I_c=I_f*(1/h_oe)/((1/h_oe)+R_l);\n",
"V_out=I_c*R_l;\n",
"printf('Output voltage = %f V',V_out); "
   ]
   }
,
{
		   "cell_type": "markdown",
		   "metadata": {},
		   "source": [
			"## Example 7.7: Determine_of_load_resistance_required.sce"
		   ]
		  },
  {
"cell_type": "code",
	   "execution_count": null,
	   "metadata": {
	    "collapsed": true
	   },
	   "outputs": [],
"source": [
"//Ex:7.7\n",
"clc;\n",
"clear;\n",
"close;\n",
"b=200;\n",
"h_ie=1.5*10^3;//in ohms\n",
"h_fe=150;\n",
"R_l=b*h_ie/h_fe;\n",
"printf('Load resistance = %d ohms',R_l); "
   ]
   }
,
{
		   "cell_type": "markdown",
		   "metadata": {},
		   "source": [
			"## Example 7.8: Determine_static_value_of_current_gain_and_voltage_gain.sce"
		   ]
		  },
  {
"cell_type": "code",
	   "execution_count": null,
	   "metadata": {
	    "collapsed": true
	   },
	   "outputs": [],
"source": [
"//Ex:7.8\n",
"clc;\n",
"clear;\n",
"close;\n",
"V=9;\n",
"V_e=2;\n",
"R4=1000;\n",
"V_b=2.6;\n",
"R2=33*10^3;\n",
"R1=68000;\n",
"I_r1=(V-V_b)/R1;\n",
"R3=2.2*10^3;\n",
"I_b=15.1*10^-6;\n",
"I_c=2.0151*10^-3;\n",
"V_r3=I_c*R3;\n",
"V_c=V-V_r3;\n",
"printf('Collector voltage = %f V',V_c); "
   ]
   }
,
{
		   "cell_type": "markdown",
		   "metadata": {},
		   "source": [
			"## Example 7.9: EX7_9.sce"
		   ]
		  },
  {
"cell_type": "code",
	   "execution_count": null,
	   "metadata": {
	    "collapsed": true
	   },
	   "outputs": [],
"source": [
"//Ex:7.9\n",
"clc;\n",
"clear;\n",
"close;\n",
"V_pp=14.8-3.3;\n",
"printf('Collector quiescent voltage = 9.2 V'); \n",
"printf('\nCollector quiescent current = 7.3mA'); \n",
"printf('\nOutput peak-peak voltage = %f V',V_pp); "
   ]
   }
],
"metadata": {
		  "kernelspec": {
		   "display_name": "Scilab",
		   "language": "scilab",
		   "name": "scilab"
		  },
		  "language_info": {
		   "file_extension": ".sce",
		   "help_links": [
			{
			 "text": "MetaKernel Magics",
			 "url": "https://github.com/calysto/metakernel/blob/master/metakernel/magics/README.md"
			}
		   ],
		   "mimetype": "text/x-octave",
		   "name": "scilab",
		   "version": "0.7.1"
		  }
		 },
		 "nbformat": 4,
		 "nbformat_minor": 0
}
