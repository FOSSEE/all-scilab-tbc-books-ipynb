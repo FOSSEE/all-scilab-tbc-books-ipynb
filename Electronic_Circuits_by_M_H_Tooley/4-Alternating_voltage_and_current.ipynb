{
"cells": [
 {
		   "cell_type": "markdown",
	   "metadata": {},
	   "source": [
       "# Chapter 4: Alternating voltage and current"
	   ]
	},
{
		   "cell_type": "markdown",
		   "metadata": {},
		   "source": [
			"## Example 4.10: Determine_the_reactance_of_1mH_at_100Hz_and_10kHz.sce"
		   ]
		  },
  {
"cell_type": "code",
	   "execution_count": null,
	   "metadata": {
	    "collapsed": true
	   },
	   "outputs": [],
"source": [
"//Ex:4.10\n",
"clc;\n",
"clear;\n",
"close;\n",
"L=1*10^-3;\n",
"f1=100;\n",
"f2=10000;\n",
"X_L1=(2*%pi*f1*L);\n",
"X_L2=(2*%pi*f2*L);\n",
"printf('Reactance at 100Hz = %f ohm',X_L1);\n",
"printf('\nReactance at 10kHz = %f ohm',X_L2);"
   ]
   }
,
{
		   "cell_type": "markdown",
		   "metadata": {},
		   "source": [
			"## Example 4.11: Determine_the_impedance_of_the_circuit_and_current_fro_supply.sce"
		   ]
		  },
  {
"cell_type": "code",
	   "execution_count": null,
	   "metadata": {
	    "collapsed": true
	   },
	   "outputs": [],
"source": [
"//Ex:4.11\n",
"clc;\n",
"clear;\n",
"close;\n",
"C=2*10^-6;\n",
"f=400;\n",
"V=115;\n",
"X_C=1/(2*%pi*f*C);\n",
"r=199;\n",
"z=sqrt(r^2+X_C^2);\n",
"I_s=V/z;\n",
"printf('Reactance = %f ohm',X_C);\n",
"printf('\n Current = %f A',I_s);"
   ]
   }
,
{
		   "cell_type": "markdown",
		   "metadata": {},
		   "source": [
			"## Example 4.12: Determine_the_power_factor_of_choke_and_currentt_from_supply.sce"
		   ]
		  },
  {
"cell_type": "code",
	   "execution_count": null,
	   "metadata": {
	    "collapsed": true
	   },
	   "outputs": [],
"source": [
"//Ex:4.12\n",
"clc;\n",
"clear;\n",
"close;\n",
"L=150*10^-3;\n",
"f=400;\n",
"V=115;\n",
"X_L=(2*%pi*f*L);\n",
"r=250;\n",
"z=sqrt(r^2+X_L^2);\n",
"I_s=V/z;\n",
"printf('Reactance = %f ohm',X_L);\n",
"printf('\n Current = %f A',I_s)"
   ]
   }
,
{
		   "cell_type": "markdown",
		   "metadata": {},
		   "source": [
			"## Example 4.13: Determine_the_value_of_capacitance_required.sce"
		   ]
		  },
  {
"cell_type": "code",
	   "execution_count": null,
	   "metadata": {
	    "collapsed": true
	   },
	   "outputs": [],
"source": [
"//Ex:4.13\n",
"clc;\n",
"clear;\n",
"close;\n",
"L=100*10^-3;\n",
"f=400;\n",
"C=(1/(4*%pi*%pi*f*f*L))*10^6;\n",
"printf('Capacitance required = %f uF',C);"
   ]
   }
,
{
		   "cell_type": "markdown",
		   "metadata": {},
		   "source": [
			"## Example 4.14: Determine_the_current_supplied_and_voltage_developed_across_100_ohm.sce"
		   ]
		  },
  {
"cell_type": "code",
	   "execution_count": null,
	   "metadata": {
	    "collapsed": true
	   },
	   "outputs": [],
"source": [
"//Ex:4.14\n",
"clc;\n",
"clear;\n",
"close;\n",
"L=20*10^-3;\n",
"f=2000;\n",
"V=1.5;\n",
"r=100;\n",
"C=10*10^-9;\n",
"X_L=(2*%pi*f*L);\n",
"X_C=1/(2*%pi*f*C);\n",
"z=sqrt(r^2+(X_L-X_C)^2);\n",
"i=V/z;\n",
"v=i*r;\n",
"printf('Current supplied = %f mA',i);\n",
"printf('\nVoltage developed = %f V',v);"
   ]
   }
,
{
		   "cell_type": "markdown",
		   "metadata": {},
		   "source": [
			"## Example 4.15: Determine_the_value_of_secondry_voltage.sce"
		   ]
		  },
  {
"cell_type": "code",
	   "execution_count": null,
	   "metadata": {
	    "collapsed": true
	   },
	   "outputs": [],
"source": [
"//Ex:4.15\n",
"clc;\n",
"clear;\n",
"close;\n",
"N_s=120;\n",
"V_p=220;\n",
"N_p=2000;\n",
"V_s=N_s*V_p/N_p;\n",
"printf('Secondry voltage = %f V',V_s);"
   ]
   }
,
{
		   "cell_type": "markdown",
		   "metadata": {},
		   "source": [
			"## Example 4.16: Determine_the_number_of_secondary_turns_and_primary_current.sce"
		   ]
		  },
  {
"cell_type": "code",
	   "execution_count": null,
	   "metadata": {
	    "collapsed": true
	   },
	   "outputs": [],
"source": [
"//Ex:4.16\n",
"clc;\n",
"clear;\n",
"close;\n",
"V_p=200;\n",
"V_s=10;\n",
"N_p=1200;\n",
"N_s=N_p*V_s/V_p;\n",
"i_s=2.5;\n",
"i_p=N_s*i_s/N_p;\n",
"printf('Secondry turns = %d ',N_s);\n",
"printf('\nprimary current = %f A',i_p);"
   ]
   }
,
{
		   "cell_type": "markdown",
		   "metadata": {},
		   "source": [
			"## Example 4.1: Determine_the_instanteous_voltage.sce"
		   ]
		  },
  {
"cell_type": "code",
	   "execution_count": null,
	   "metadata": {
	    "collapsed": true
	   },
	   "outputs": [],
"source": [
"//Ex:4.1\n",
"clc;\n",
"clear;\n",
"close;\n",
"V_m=20;//in volts\n",
"f=50;//in Hz\n",
"t1=2.5*10^-3;\n",
"t2=15*10^-3;\n",
"V1=V_m*sin(2*%pi*f*t1);\n",
"V2=V_m*sin(2*%pi*f*t2);\n",
"printf('Voltage at 2.5ms = %f V',V1);\n",
"printf('\n Voltage at 15ms = %f V',V2);"
   ]
   }
,
{
		   "cell_type": "markdown",
		   "metadata": {},
		   "source": [
			"## Example 4.2: Determine_the_time_period_of_400_Hz_waveform.sce"
		   ]
		  },
  {
"cell_type": "code",
	   "execution_count": null,
	   "metadata": {
	    "collapsed": true
	   },
	   "outputs": [],
"source": [
"//Ex:4.2\n",
"clc;\n",
"clear;\n",
"close;\n",
"f=400;//in Hz\n",
"T=1/f;\n",
"printf('Time period of %d Hz waveform = %f sec',f,T);"
   ]
   }
,
{
		   "cell_type": "markdown",
		   "metadata": {},
		   "source": [
			"## Example 4.3: Determine_the_freq_of_40_ms_waveform.sce"
		   ]
		  },
  {
"cell_type": "code",
	   "execution_count": null,
	   "metadata": {
	    "collapsed": true
	   },
	   "outputs": [],
"source": [
"//Ex:4.3\n",
"clc;\n",
"clear;\n",
"close;\n",
"T=40*10^-3;//in Hz\n",
"f=1/T;\n",
"printf('Frequency of 40 ms waveform = %f Hz',f);"
   ]
   }
,
{
		   "cell_type": "markdown",
		   "metadata": {},
		   "source": [
			"## Example 4.4: Determine_the_peak_value_of_240V_rms.sce"
		   ]
		  },
  {
"cell_type": "code",
	   "execution_count": null,
	   "metadata": {
	    "collapsed": true
	   },
	   "outputs": [],
"source": [
"//Ex:4.4\n",
"clc;\n",
"clear;\n",
"close;\n",
"V_rms=240;//in Volts\n",
"V_pk=1.414*V_rms;\n",
"printf('Peak voltage of %d V RMS voltage = %f V',V_rms,V_pk);"
   ]
   }
,
{
		   "cell_type": "markdown",
		   "metadata": {},
		   "source": [
			"## Example 4.5: Determine_the_rms_value_of_50mA_peak_to_peak.sce"
		   ]
		  },
  {
"cell_type": "code",
	   "execution_count": null,
	   "metadata": {
	    "collapsed": true
	   },
	   "outputs": [],
"source": [
"//Ex:4.5\n",
"clc;\n",
"clear;\n",
"close;\n",
"I_pk=50*10^-3;//in Amps\n",
"I_rms=0.353*I_pk;\n",
"printf('RMS current of 50mA peak current = %f A',I_rms);"
   ]
   }
,
{
		   "cell_type": "markdown",
		   "metadata": {},
		   "source": [
			"## Example 4.6: Determine_the_rms_current.sce"
		   ]
		  },
  {
"cell_type": "code",
	   "execution_count": null,
	   "metadata": {
	    "collapsed": true
	   },
	   "outputs": [],
"source": [
"//Ex:4.6\n",
"clc;\n",
"clear;\n",
"close;\n",
"V=10;//pk-pk voltage\n",
"r=1000;//ohms\n",
"I_pk=V/r;//in Amps\n",
"I_rms=0.353*I_pk*1000;//milliamps\n",
"printf('RMS current of 10V peak-peak voltage = %f mA',I_rms);"
   ]
   }
,
{
		   "cell_type": "markdown",
		   "metadata": {},
		   "source": [
			"## Example 4.7: Determine_the_reactance_of_1uF_at_100Hz_and_10kHz.sce"
		   ]
		  },
  {
"cell_type": "code",
	   "execution_count": null,
	   "metadata": {
	    "collapsed": true
	   },
	   "outputs": [],
"source": [
"//Ex:4.7\n",
"clc;\n",
"clear;\n",
"close;\n",
"c=1*10^-6;\n",
"f1=100;\n",
"f2=10000;\n",
"X_c1=1/(2*%pi*f1*c);\n",
"X_c2=1/(2*%pi*f2*c);\n",
"printf('Reactance at 100Hz = %f mA',X_c1);\n",
"printf('\n Reactance at 10kHz = %f mA',X_c2);"
   ]
   }
,
{
		   "cell_type": "markdown",
		   "metadata": {},
		   "source": [
			"## Example 4.8: Determine_the_current_flow_in_capacitor.sce"
		   ]
		  },
  {
"cell_type": "code",
	   "execution_count": null,
	   "metadata": {
	    "collapsed": true
	   },
	   "outputs": [],
"source": [
"//Ex:4.8\n",
"clc;\n",
"clear;\n",
"close;\n",
"V=240;\n",
"c=100*10^-9;\n",
"f=50;\n",
"X_c=1/(2*%pi*f*c);\n",
"I_c=V/X_c;\n",
"printf('Current flow = %f A',I_c);"
   ]
   }
,
{
		   "cell_type": "markdown",
		   "metadata": {},
		   "source": [
			"## Example 4.9: Determine_the_reactance_of_1mH_at_100Hz_and_10kHz.sce"
		   ]
		  },
  {
"cell_type": "code",
	   "execution_count": null,
	   "metadata": {
	    "collapsed": true
	   },
	   "outputs": [],
"source": [
"//Ex:4.9\n",
"clc;\n",
"clear;\n",
"close;\n",
"L=1*10^-3;\n",
"f1=100;\n",
"f2=10000;\n",
"X_L1=(2*%pi*f1*L);\n",
"X_L2=(2*%pi*f2*L);\n",
"printf('Reactance at 100Hz = %f ohm',X_L1);\n",
"printf('\nReactance at 10kHz = %f ohm',X_L2);"
   ]
   }
],
"metadata": {
		  "kernelspec": {
		   "display_name": "Scilab",
		   "language": "scilab",
		   "name": "scilab"
		  },
		  "language_info": {
		   "file_extension": ".sce",
		   "help_links": [
			{
			 "text": "MetaKernel Magics",
			 "url": "https://github.com/calysto/metakernel/blob/master/metakernel/magics/README.md"
			}
		   ],
		   "mimetype": "text/x-octave",
		   "name": "scilab",
		   "version": "0.7.1"
		  }
		 },
		 "nbformat": 4,
		 "nbformat_minor": 0
}
