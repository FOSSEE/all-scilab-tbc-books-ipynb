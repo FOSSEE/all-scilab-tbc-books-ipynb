{
"cells": [
 {
		   "cell_type": "markdown",
	   "metadata": {},
	   "source": [
       "# Chapter 2: Passive Components"
	   ]
	},
{
		   "cell_type": "markdown",
		   "metadata": {},
		   "source": [
			"## Example 2.10: Determine_the_bands_coressponding_to_330RG.sce"
		   ]
		  },
  {
"cell_type": "code",
	   "execution_count": null,
	   "metadata": {
	    "collapsed": true
	   },
	   "outputs": [],
"source": [
"//Ex:2.10\n",
"clc;\n",
"clear;\n",
"close;\n",
"printf('Resistance = 330 ohms with 2%% tolerance');"
   ]
   }
,
{
		   "cell_type": "markdown",
		   "metadata": {},
		   "source": [
			"## Example 2.11: Determine_the_bands_coressponding_to_R22M.sce"
		   ]
		  },
  {
"cell_type": "code",
	   "execution_count": null,
	   "metadata": {
	    "collapsed": true
	   },
	   "outputs": [],
"source": [
"//Ex:2.11\n",
"clc;\n",
"clear;\n",
"close;\n",
"printf('Resistance = 0.22 ohm with 20%% tolerance');"
   ]
   }
,
{
		   "cell_type": "markdown",
		   "metadata": {},
		   "source": [
			"## Example 2.12: Determine_the_effective_resistance_in_Series_and_Parallel.sce"
		   ]
		  },
  {
"cell_type": "code",
	   "execution_count": null,
	   "metadata": {
	    "collapsed": true
	   },
	   "outputs": [],
"source": [
"//Ex:2.12\n",
"clc;\n",
"clear;\n",
"close;\n",
"r1=22;//in ohms\n",
"r2=47;//in ohms\n",
"r3=33;//in ohms\n",
"r_ser=r1+r2+r3;\n",
"printf('Effective resistance in series = %d ohms',r_ser);\n",
"r_parel=((1/r1)+(1/r2)+(1/r3))^-1;\n",
"printf('\n Effective resistance in parallel = %f ohms',r_parel);"
   ]
   }
,
{
		   "cell_type": "markdown",
		   "metadata": {},
		   "source": [
			"## Example 2.13: Determine_the_effective_resistance_of_the_circuit.sce"
		   ]
		  },
  {
"cell_type": "code",
	   "execution_count": null,
	   "metadata": {
	    "collapsed": true
	   },
	   "outputs": [],
"source": [
"//Ex:2.13\n",
"clc;\n",
"clear;\n",
"close;\n",
"r1=4.7;//in ohms\n",
"r2=47;//in ohms\n",
"r3=12;//in ohms\n",
"r4=27;//in ohms\n",
"r5=r3+r4;\n",
"r_parel=((1/r5)+(1/r2))^-1;\n",
"r_eff=r_parel+r1;\n",
"printf('Effective resistance = %d ohms',r_eff);"
   ]
   }
,
{
		   "cell_type": "markdown",
		   "metadata": {},
		   "source": [
			"## Example 2.14: Determine_the_resistance_required_to_realize_50_ohm_at_2W.sce"
		   ]
		  },
  {
"cell_type": "code",
	   "execution_count": null,
	   "metadata": {
	    "collapsed": true
	   },
	   "outputs": [],
"source": [
"//Ex:2.14\n",
"clc;\n",
"clear;\n",
"close;\n",
"printf('Two 100 ohm resistor of 1 W');"
   ]
   }
,
{
		   "cell_type": "markdown",
		   "metadata": {},
		   "source": [
			"## Example 2.15: Determine_the_resistance_at_80_degree.sce"
		   ]
		  },
  {
"cell_type": "code",
	   "execution_count": null,
	   "metadata": {
	    "collapsed": true
	   },
	   "outputs": [],
"source": [
"//Ex:2.15\n",
"clc;\n",
"clear;\n",
"close;\n",
"temp_coeff=0.001;//in per degree centigrade\n",
"r_o=1500;//in ohm\n",
"t=80;//temperature diff.\n",
"r_t=r_o*(1+(temp_coeff)*t)\n",
"printf('Resistance at %d degree = %d ohms',t,r_t);"
   ]
   }
,
{
		   "cell_type": "markdown",
		   "metadata": {},
		   "source": [
			"## Example 2.16: Determine_the_resistance_at_90_degree.sce"
		   ]
		  },
  {
"cell_type": "code",
	   "execution_count": null,
	   "metadata": {
	    "collapsed": true
	   },
	   "outputs": [],
"source": [
"//Ex:2.16\n",
"clc;\n",
"clear;\n",
"close;\n",
"temp_coeff=0.0005;//in per degree centigrade\n",
"r_t1=680;//in ohm\n",
"t1=20;//temperature diff.\n",
"t2=90;\n",
"r_o=r_t1/(1+(temp_coeff)*t1);\n",
"r_t2=r_o*(1+(temp_coeff)*t2);\n",
"printf('Resistance at %d degree = %f ohms',t2,r_t2);"
   ]
   }
,
{
		   "cell_type": "markdown",
		   "metadata": {},
		   "source": [
			"## Example 2.17: Determine_the_resistor_temperature_coeff.sce"
		   ]
		  },
  {
"cell_type": "code",
	   "execution_count": null,
	   "metadata": {
	    "collapsed": true
	   },
	   "outputs": [],
"source": [
"//Ex:2.17\n",
"clc;\n",
"clear;\n",
"close;\n",
"r_o=40;//resis at 0 degree\n",
"r_t=44;//at 100 degree\n",
"t=100;//temperature diff.\n",
"temp_coeff=(1/t)*((r_t/r_o)-1);\n",
"printf('Temperature Coefficient = %f per degree centigrade',temp_coeff);"
   ]
   }
,
{
		   "cell_type": "markdown",
		   "metadata": {},
		   "source": [
			"## Example 2.18: Determine_the_current_flow.sce"
		   ]
		  },
  {
"cell_type": "code",
	   "execution_count": null,
	   "metadata": {
	    "collapsed": true
	   },
	   "outputs": [],
"source": [
"//Ex:2.18\n",
"clc;\n",
"clear;\n",
"close;\n",
"V_1=50;\n",
"V_2=10;\n",
"dV=V_1-V_2;//in volts\n",
"dt=0.1;//in seconds\n",
"C=22*10^-6;\n",
"i=C*(dV/dt)*1000;//in mA\n",
"printf('Current flow = %f milliAmps',i);"
   ]
   }
,
{
		   "cell_type": "markdown",
		   "metadata": {},
		   "source": [
			"## Example 2.19: Determine_the_charged_stored.sce"
		   ]
		  },
  {
"cell_type": "code",
	   "execution_count": null,
	   "metadata": {
	    "collapsed": true
	   },
	   "outputs": [],
"source": [
"//Ex:2.19\n",
"clc;\n",
"clear;\n",
"close;\n",
"C=10*10^-6;\n",
"V=250;//in volts\n",
"Q=V*C*1000;//in millicoulomb\n",
"printf('Charged stored =%f mC',Q);"
   ]
   }
,
{
		   "cell_type": "markdown",
		   "metadata": {},
		   "source": [
			"## Example 2.1: Determine_the_tolerance_of_resistor.sce"
		   ]
		  },
  {
"cell_type": "code",
	   "execution_count": null,
	   "metadata": {
	    "collapsed": true
	   },
	   "outputs": [],
"source": [
"//Ex:2.1\n",
"clc;\n",
"clear;\n",
"close;\n",
"marked=220;//in ohms\n",
"measured=207;//in ohms\n",
"err=marked-measured;\n",
"tol=(err/marked)*100;\n",
"printf('Tolerance = %f %%',tol);"
   ]
   }
,
{
		   "cell_type": "markdown",
		   "metadata": {},
		   "source": [
			"## Example 2.20: Determine_the_potential_diff_that_be_applied_to_47_uFcapacitor.sce"
		   ]
		  },
  {
"cell_type": "code",
	   "execution_count": null,
	   "metadata": {
	    "collapsed": true
	   },
	   "outputs": [],
"source": [
"//Ex:2.20\n",
"clc;\n",
"clear;\n",
"close;\n",
"C=47*10^-6;//in farads\n",
"W=4;//energy in joules\n",
"V=sqrt(W/(0.5*C));\n",
"printf('Voltage tht be applied = %d volts',V);"
   ]
   }
,
{
		   "cell_type": "markdown",
		   "metadata": {},
		   "source": [
			"## Example 2.21: Determine_the_required_plate_area_for_1_nF_capacitor.sce"
		   ]
		  },
  {
"cell_type": "code",
	   "execution_count": null,
	   "metadata": {
	    "collapsed": true
	   },
	   "outputs": [],
"source": [
"//Ex:2.21\n",
"clc;\n",
"clear;\n",
"close;\n",
"E_o=8.85*10^-12;\n",
"E_r=5.4;\n",
"C=1*10^-9;\n",
"d=0.1*10^-3;\n",
"A=(C*d)/(E_o*E_r)*10^4;\n",
"printf('Required plate area = %f sq. cm',A);"
   ]
   }
,
{
		   "cell_type": "markdown",
		   "metadata": {},
		   "source": [
			"## Example 2.22: Determine_the_value_of_capacitance.sce"
		   ]
		  },
  {
"cell_type": "code",
	   "execution_count": null,
	   "metadata": {
	    "collapsed": true
	   },
	   "outputs": [],
"source": [
"//Ex:2.22\n",
"clc;\n",
"clear;\n",
"close;\n",
"E_o=8.85*10^-12;\n",
"E_r=4.5;\n",
"n=6;//no. of plates\n",
"d=0.2*10^-3;//in meter\n",
"A=20*10^-4;//in sq.meter\n",
"C={(E_o*E_r*(n-1)*A)/d}*10^11;\n",
"printf('Capacitance = %d pF',C);"
   ]
   }
,
{
		   "cell_type": "markdown",
		   "metadata": {},
		   "source": [
			"## Example 2.23: Determine_the_value_of_capacitor_103K.sce"
		   ]
		  },
  {
"cell_type": "code",
	   "execution_count": null,
	   "metadata": {
	    "collapsed": true
	   },
	   "outputs": [],
"source": [
"//Ex:2.23\n",
"clc;\n",
"clear;\n",
"close;\n",
"printf('Capacitance = 10000 pF of 10%%'); "
   ]
   }
,
{
		   "cell_type": "markdown",
		   "metadata": {},
		   "source": [
			"## Example 2.24: Determine_the_value_of_tubular_capacitor_with_brown_green_brown_red_brown.sce"
		   ]
		  },
  {
"cell_type": "code",
	   "execution_count": null,
	   "metadata": {
	    "collapsed": true
	   },
	   "outputs": [],
"source": [
"//Ex:2.24\n",
"clc;\n",
"clear;\n",
"close;\n",
"printf('Capacitance = 150 pF of 2%% tolerance at 100 V');"
   ]
   }
,
{
		   "cell_type": "markdown",
		   "metadata": {},
		   "source": [
			"## Example 2.25: Determine_the_effective_capacitance.sce"
		   ]
		  },
  {
"cell_type": "code",
	   "execution_count": null,
	   "metadata": {
	    "collapsed": true
	   },
	   "outputs": [],
"source": [
"//Ex:2.25\n",
"clc;\n",
"clear;\n",
"close;\n",
"C1=2;//in nF\n",
"C2=4;//in nF\n",
"C3=2;\n",
"C4=4;\n",
"C_a=C1+C2;\n",
"C_b=C_a*C3/(C_a+C3);\n",
"C_eff=C4+C_b;\n",
"printf('Capacitance = %f nF',C_eff);"
   ]
   }
,
{
		   "cell_type": "markdown",
		   "metadata": {},
		   "source": [
			"## Example 2.26: Determine_the_series_combination_of_capacitos_and_their_voltage_rating.sce"
		   ]
		  },
  {
"cell_type": "code",
	   "execution_count": null,
	   "metadata": {
	    "collapsed": true
	   },
	   "outputs": [],
"source": [
"//Ex:2.26\n",
"clc;\n",
"clear;\n",
"close;\n",
"C=100;//in uF\n",
"C_eff=C*C/(C+C);\n",
"printf('Two capacitors of %d uF be in parallel used to make %d uF capacitance',C,C_eff);"
   ]
   }
,
{
		   "cell_type": "markdown",
		   "metadata": {},
		   "source": [
			"## Example 2.27: Determine_the_voltage_induced.sce"
		   ]
		  },
  {
"cell_type": "code",
	   "execution_count": null,
	   "metadata": {
	    "collapsed": true
	   },
	   "outputs": [],
"source": [
"//Ex:2.27\n",
"clc;\n",
"clear;\n",
"close;\n",
"L=600*10^-3;//in H\n",
"I1=6;//in A\n",
"I2=2;//in A\n",
"dI=I1-I2;\n",
"dt=250*10^-3;//in sec.\n",
"E=-L*(dI/dt);\n",
"printf('Induced voltage = %f volts',E);"
   ]
   }
,
{
		   "cell_type": "markdown",
		   "metadata": {},
		   "source": [
			"## Example 2.28: Determine_the_current_that_be_applied_to_an_inductor.sce"
		   ]
		  },
  {
"cell_type": "code",
	   "execution_count": null,
	   "metadata": {
	    "collapsed": true
	   },
	   "outputs": [],
"source": [
"//Ex:2.28\n",
"clc;\n",
"clear;\n",
"close;\n",
"E=2.5;//energy in joules\n",
"L=20*10^-3;//in henry\n",
"I=sqrt(E/(0.5*L));\n",
"printf('Current = %f A',I);"
   ]
   }
,
{
		   "cell_type": "markdown",
		   "metadata": {},
		   "source": [
			"## Example 2.29: Determine_the_numbers_of_turns_required.sce"
		   ]
		  },
  {
"cell_type": "code",
	   "execution_count": null,
	   "metadata": {
	    "collapsed": true
	   },
	   "outputs": [],
"source": [
"//Ex:2.29\n",
"clc;\n",
"clear;\n",
"close;\n",
"u_o=12.57*10^-7;\n",
"u_r=500;\n",
"A=15*10^-4;//area of cross-section in sq. meters\n",
"l=20*10^-2;//length\n",
"L=100*10^-3;//in henry\n",
"n=sqrt((L*l)/(u_r*u_o*A));\n",
"printf('Inductor requires %d turns of wire',n);"
   ]
   }
,
{
		   "cell_type": "markdown",
		   "metadata": {},
		   "source": [
			"## Example 2.2: Nominal_current_taken_from_supply_and_Max_and_Min_value_of_supply_current.sce"
		   ]
		  },
  {
"cell_type": "code",
	   "execution_count": null,
	   "metadata": {
	    "collapsed": true
	   },
	   "outputs": [],
"source": [
"//Ex:2.2\n",
"clc;\n",
"clear;\n",
"close;\n",
"r=39;//in ohms\n",
"v=9;//in volts\n",
"i=(v/r);//in Amps\n",
"printf('Current = %d mA',i*1000);\n",
"tol=0.1;//i.e, 10%\n",
"r_min=r-(tol*r);\n",
"i_max=v/r_min;\n",
"r_max=r+(tol*r);\n",
"i_min=v/r_max;\n",
"printf('\n Max.Current = %f mA & Min Current= %f mA',i_max*1000,i_min*1000);"
   ]
   }
,
{
		   "cell_type": "markdown",
		   "metadata": {},
		   "source": [
			"## Example 2.30: Determine_the_parallel_combination_for_5mH_inductor_rated_at_2A.sce"
		   ]
		  },
  {
"cell_type": "code",
	   "execution_count": null,
	   "metadata": {
	    "collapsed": true
	   },
	   "outputs": [],
"source": [
"//Ex:2.30\n",
"clc;\n",
"clear;\n",
"close;\n",
"//L=(L1*L2)/(L1+L2)\n",
"L_eq=5;//in millihenry\n",
"printf('Inductor of 10 mH wired in parallel would provide %d mH',L_eq);"
   ]
   }
,
{
		   "cell_type": "markdown",
		   "metadata": {},
		   "source": [
			"## Example 2.31: Determine_the_effective_inductance.sce"
		   ]
		  },
  {
"cell_type": "code",
	   "execution_count": null,
	   "metadata": {
	    "collapsed": true
	   },
	   "outputs": [],
"source": [
"//Ex:2.31\n",
"clc;\n",
"clear;\n",
"close;\n",
"L1=60;//in mH\n",
"L2=60;//in mH\n",
"L_a=L1+L2;\n",
"L3=120;//in mH\n",
"L_b=L_a*L3/(L_a+L3);\n",
"L4=50;//in mH\n",
"L_eq=L4+L_b;\n",
"printf('Equivalent Inductance = %d mH',L_eq);"
   ]
   }
,
{
		   "cell_type": "markdown",
		   "metadata": {},
		   "source": [
			"## Example 2.3: Determine_value_and_type_of_resistor_used_for_100mA.sce"
		   ]
		  },
  {
"cell_type": "code",
	   "execution_count": null,
	   "metadata": {
	    "collapsed": true
	   },
	   "outputs": [],
"source": [
"//Ex:2.3\n",
"clc;\n",
"clear;\n",
"close;\n",
"v=28;//in volts\n",
"i=0.1;//in A\n",
"r=v/i;\n",
"p=v*i;\n",
"printf('Resistance Value = %f ohms & Power dissipated = %f W',r,p);"
   ]
   }
,
{
		   "cell_type": "markdown",
		   "metadata": {},
		   "source": [
			"## Example 2.4: Determine_the_value_and_tolerance_of_resistor_of_brown_black_red_silver.sce"
		   ]
		  },
  {
"cell_type": "code",
	   "execution_count": null,
	   "metadata": {
	    "collapsed": true
	   },
	   "outputs": [],
"source": [
"//Ex:2.4\n",
"clc;\n",
"clear;\n",
"close;\n",
"r=10*(10^2);\n",
"printf('Resistor value = %d ohm',r);\n",
"printf('\nTolerance = 10 %%');"
   ]
   }
,
{
		   "cell_type": "markdown",
		   "metadata": {},
		   "source": [
			"## Example 2.5: Determine_the_value_and_tolerance_of_resistor_of_red_violet_orange_gold.sce"
		   ]
		  },
  {
"cell_type": "code",
	   "execution_count": null,
	   "metadata": {
	    "collapsed": true
	   },
	   "outputs": [],
"source": [
"//Ex:2.5\n",
"clc;\n",
"clear;\n",
"close;\n",
"r=27*(10^3);\n",
"printf('Resistor value = %d ohm',r);\n",
"printf('\nTolerance = 5 %%');"
   ]
   }
,
{
		   "cell_type": "markdown",
		   "metadata": {},
		   "source": [
			"## Example 2.6: Determine_the_value_and_tolerance_of_resistor_of_green_blue_black_gold.sce"
		   ]
		  },
  {
"cell_type": "code",
	   "execution_count": null,
	   "metadata": {
	    "collapsed": true
	   },
	   "outputs": [],
"source": [
"//Ex:2.6\n",
"clc;\n",
"clear;\n",
"close;\n",
"r=56*(10^0);\n",
"printf('Resistor value = %d ohm',r);\n",
"printf('\nTolerance = 5 %%');"
   ]
   }
,
{
		   "cell_type": "markdown",
		   "metadata": {},
		   "source": [
			"## Example 2.7: Determine_the_value_and_tolerance_of_resistor_of_red_green_black_brown.sce"
		   ]
		  },
  {
"cell_type": "code",
	   "execution_count": null,
	   "metadata": {
	    "collapsed": true
	   },
	   "outputs": [],
"source": [
"//Ex:2.7\n",
"clc;\n",
"clear;\n",
"close;\n",
"r=25*(10^0);\n",
"printf('Resistor value = %d ohm',r);\n",
"printf('\nTolerance = 20 %%');"
   ]
   }
,
{
		   "cell_type": "markdown",
		   "metadata": {},
		   "source": [
			"## Example 2.8: Determine_the_bands_coressponding_to_2pt_kohm_of_tolerance_2_percent.sce"
		   ]
		  },
  {
"cell_type": "code",
	   "execution_count": null,
	   "metadata": {
	    "collapsed": true
	   },
	   "outputs": [],
"source": [
"//Ex:2.8\n",
"clc;\n",
"clear;\n",
"close;\n",
"r=22*(10^3);\n",
"printf('Bands are Red, Red, Red, Red');\n",
""
   ]
   }
,
{
		   "cell_type": "markdown",
		   "metadata": {},
		   "source": [
			"## Example 2.9: Determine_the_bands_coressponding_to_4R7K.sce"
		   ]
		  },
  {
"cell_type": "code",
	   "execution_count": null,
	   "metadata": {
	    "collapsed": true
	   },
	   "outputs": [],
"source": [
"//Ex:2.9\n",
"clc;\n",
"clear;\n",
"close;\n",
"printf('Resistance = 4.7 ohm with 10%% tolerance');\n",
""
   ]
   }
],
"metadata": {
		  "kernelspec": {
		   "display_name": "Scilab",
		   "language": "scilab",
		   "name": "scilab"
		  },
		  "language_info": {
		   "file_extension": ".sce",
		   "help_links": [
			{
			 "text": "MetaKernel Magics",
			 "url": "https://github.com/calysto/metakernel/blob/master/metakernel/magics/README.md"
			}
		   ],
		   "mimetype": "text/x-octave",
		   "name": "scilab",
		   "version": "0.7.1"
		  }
		 },
		 "nbformat": 4,
		 "nbformat_minor": 0
}
