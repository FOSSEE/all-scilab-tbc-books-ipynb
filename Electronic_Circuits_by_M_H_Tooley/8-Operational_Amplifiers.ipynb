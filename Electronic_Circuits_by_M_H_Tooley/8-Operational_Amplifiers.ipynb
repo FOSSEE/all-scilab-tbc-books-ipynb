{
"cells": [
 {
		   "cell_type": "markdown",
	   "metadata": {},
	   "source": [
       "# Chapter 8: Operational Amplifiers"
	   ]
	},
{
		   "cell_type": "markdown",
		   "metadata": {},
		   "source": [
			"## Example 8.1: Determine_the_value_of_open_loop_voltage_gain.sce"
		   ]
		  },
  {
"cell_type": "code",
	   "execution_count": null,
	   "metadata": {
	    "collapsed": true
	   },
	   "outputs": [],
"source": [
"//Ex:8.1\n",
"clc;\n",
"clear;\n",
"close;\n",
"V_out=2;\n",
"V_in=400*10^-6;\n",
"A_v=V_out/V_in;\n",
"A_v_dB=ceil (20*(log (A_v)/log (10)));\n",
"printf('open loop voltage gain = %d dB',A_v_dB); "
   ]
   }
,
{
		   "cell_type": "markdown",
		   "metadata": {},
		   "source": [
			"## Example 8.2: Determine_the_value_of_input_current.sce"
		   ]
		  },
  {
"cell_type": "code",
	   "execution_count": null,
	   "metadata": {
	    "collapsed": true
	   },
	   "outputs": [],
"source": [
"//Ex:8.2\n",
"clc;\n",
"clear;\n",
"close;\n",
"V_in=5*10^-3;\n",
"R_in=2*10^6;\n",
"I_in=V_in/R_in;\n",
"printf('Input current = %e A',I_in); "
   ]
   }
,
{
		   "cell_type": "markdown",
		   "metadata": {},
		   "source": [
			"## Example 8.3: Determine_the_slew_rate_of_device.sce"
		   ]
		  },
  {
"cell_type": "code",
	   "execution_count": null,
	   "metadata": {
	    "collapsed": true
	   },
	   "outputs": [],
"source": [
"//Ex:8.3\n",
"clc;\n",
"clear;\n",
"close;\n",
"V_out=10;\n",
"t=4;\n",
"SR=V_out/t;\n",
"printf('Slew rate = %f V/us',SR); "
   ]
   }
,
{
		   "cell_type": "markdown",
		   "metadata": {},
		   "source": [
			"## Example 8.4: Determine_the_time_taken_to_change_level.sce"
		   ]
		  },
  {
"cell_type": "code",
	   "execution_count": null,
	   "metadata": {
	    "collapsed": true
	   },
	   "outputs": [],
"source": [
"//Ex:8.4\n",
"clc;\n",
"clear;\n",
"close;\n",
"V_out=2;\n",
"SR=15;//in V/us\n",
"t=V_out/SR;\n",
"printf('Time taken = %f us',t); "
   ]
   }
,
{
		   "cell_type": "markdown",
		   "metadata": {},
		   "source": [
			"## Example 8.6: Determine_the_circuit_parameters_using_opamps.sce"
		   ]
		  },
  {
"cell_type": "code",
	   "execution_count": null,
	   "metadata": {
	    "collapsed": true
	   },
	   "outputs": [],
"source": [
"//Ex:8.6\n",
"clc;\n",
"clear;\n",
"close;\n",
"R_in=10000;\n",
"f1=250;\n",
"f2=15000;\n",
"C_in=0.159/(f1*R_in);\n",
"C_f=0.159/(f2*R_in);\n",
"printf('C_f = %e F',C_f); "
   ]
   }
],
"metadata": {
		  "kernelspec": {
		   "display_name": "Scilab",
		   "language": "scilab",
		   "name": "scilab"
		  },
		  "language_info": {
		   "file_extension": ".sce",
		   "help_links": [
			{
			 "text": "MetaKernel Magics",
			 "url": "https://github.com/calysto/metakernel/blob/master/metakernel/magics/README.md"
			}
		   ],
		   "mimetype": "text/x-octave",
		   "name": "scilab",
		   "version": "0.7.1"
		  }
		 },
		 "nbformat": 4,
		 "nbformat_minor": 0
}
