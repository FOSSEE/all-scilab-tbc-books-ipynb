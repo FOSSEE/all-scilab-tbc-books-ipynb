{
"cells": [
 {
		   "cell_type": "markdown",
	   "metadata": {},
	   "source": [
       "# Chapter 12: The 555 timer"
	   ]
	},
{
		   "cell_type": "markdown",
		   "metadata": {},
		   "source": [
			"## Example 12.1: Determine_the_parameters_of_timer_circuit.sce"
		   ]
		  },
  {
"cell_type": "code",
	   "execution_count": null,
	   "metadata": {
	    "collapsed": true
	   },
	   "outputs": [],
"source": [
"//Ex:12.1\n",
"clc;\n",
"clear;\n",
"close;\n",
"C=100*10^-9;\n",
"t_on=10*10^-3;\n",
"R=(t_on/(1.1*C))/1000;\n",
"printf('R= %f kohm',R);"
   ]
   }
,
{
		   "cell_type": "markdown",
		   "metadata": {},
		   "source": [
			"## Example 12.2: Determine_the_parameters_of_timer_circuit_that_produce_5V.sce"
		   ]
		  },
  {
"cell_type": "code",
	   "execution_count": null,
	   "metadata": {
	    "collapsed": true
	   },
	   "outputs": [],
"source": [
"//Ex:12.2\n",
"clc;\n",
"clear;\n",
"close;\n",
"C=100*10^-6;\n",
"t_on=60;\n",
"R=(t_on/(1.1*C))/1000;\n",
"printf('R= %f kohm',R);"
   ]
   }
,
{
		   "cell_type": "markdown",
		   "metadata": {},
		   "source": [
			"## Example 12.3: Design_of_pulse_generator.sce"
		   ]
		  },
  {
"cell_type": "code",
	   "execution_count": null,
	   "metadata": {
	    "collapsed": true
	   },
	   "outputs": [],
"source": [
"//Ex:12.3\n",
"clc;\n",
"clear;\n",
"close;\n",
"//R1=R2=R\n",
"prf=10;\n",
"C=1*10^-6;\n",
"R=0.48/(prf*C);\n",
"printf('R= %d ohm',R);"
   ]
   }
,
{
		   "cell_type": "markdown",
		   "metadata": {},
		   "source": [
			"## Example 12.4: Design_of_5V_square_wave_generator.sce"
		   ]
		  },
  {
"cell_type": "code",
	   "execution_count": null,
	   "metadata": {
	    "collapsed": true
	   },
	   "outputs": [],
"source": [
"//Ex:12.4\n",
"clc;\n",
"clear;\n",
"close;\n",
"prf=50;\n",
"C=100*10^-9;\n",
"R=0.72/(prf*C);//in ohms\n",
"printf('R= %d kohm',R/1000);"
   ]
   }
],
"metadata": {
		  "kernelspec": {
		   "display_name": "Scilab",
		   "language": "scilab",
		   "name": "scilab"
		  },
		  "language_info": {
		   "file_extension": ".sce",
		   "help_links": [
			{
			 "text": "MetaKernel Magics",
			 "url": "https://github.com/calysto/metakernel/blob/master/metakernel/magics/README.md"
			}
		   ],
		   "mimetype": "text/x-octave",
		   "name": "scilab",
		   "version": "0.7.1"
		  }
		 },
		 "nbformat": 4,
		 "nbformat_minor": 0
}
