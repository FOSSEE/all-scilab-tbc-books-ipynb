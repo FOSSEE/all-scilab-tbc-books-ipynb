{
"cells": [
 {
		   "cell_type": "markdown",
	   "metadata": {},
	   "source": [
       "# Chapter 5: Semiconductors"
	   ]
	},
{
		   "cell_type": "markdown",
		   "metadata": {},
		   "source": [
			"## Example 5.1: EX5_1.sce"
		   ]
		  },
  {
"cell_type": "code",
	   "execution_count": null,
	   "metadata": {
	    "collapsed": true
	   },
	   "outputs": [],
"source": [
"//Ex:5.1\n",
"clc;\n",
"clear;\n",
"close;\n",
"v1=0.43;//volts\n",
"i1=2.5*10^-3;//in Amps.\n",
"v2=0.65;//volts\n",
"i2=7.4*10^-3;//in Amps.\n",
"r1=v1/i1;\n",
"r2=v2/i2;\n",
"printf('Diode resistance for 2.5A current = %d ohms',r1);\n",
"printf('\n Diode resistance for 0.65V = %f ohms',r2);"
   ]
   }
,
{
		   "cell_type": "markdown",
		   "metadata": {},
		   "source": [
			"## Example 5.2: Determine_the_series_resistor_required.sce"
		   ]
		  },
  {
"cell_type": "code",
	   "execution_count": null,
	   "metadata": {
	    "collapsed": true
	   },
	   "outputs": [],
"source": [
"//Ex:5.2\n",
"clc;\n",
"clear;\n",
"close;\n",
"i=15*10^-3;\n",
"R=(21-2.2)/i;\n",
"v=18.8;//in volts\n",
"P=i*v*1000;\n",
"printf('Resistor %d ohms of %d mW',R,P);"
   ]
   }
,
{
		   "cell_type": "markdown",
		   "metadata": {},
		   "source": [
			"## Example 5.3: Determine_the_Ie_emitter_current_and_hfe.sce"
		   ]
		  },
  {
"cell_type": "code",
	   "execution_count": null,
	   "metadata": {
	    "collapsed": true
	   },
	   "outputs": [],
"source": [
"//Ex:5.3\n",
"clc;\n",
"clear;\n",
"close;\n",
"I_c=30;//in mA\n",
"I_b=0.6;\n",
"I_e=I_c+I_b;\n",
"hfe=I_c/I_b;\n",
"printf('Emitter current = %f ohms    &    hfe = %d',I_e,hfe);"
   ]
   }
,
{
		   "cell_type": "markdown",
		   "metadata": {},
		   "source": [
			"## Example 5.4: Determine_the_Ie_emitter_current_and_hfe.sce"
		   ]
		  },
  {
"cell_type": "code",
	   "execution_count": null,
	   "metadata": {
	    "collapsed": true
	   },
	   "outputs": [],
"source": [
"//Ex:5.4\n",
"clc;\n",
"clear;\n",
"close;\n",
"I_c=30;//in mA\n",
"I_b=0.6;\n",
"I_e=I_c+I_b;\n",
"hfe=I_c/I_b;\n",
"printf('Emitter current = %f ohms    &    hfe = %d',I_e,hfe);"
   ]
   }
,
{
		   "cell_type": "markdown",
		   "metadata": {},
		   "source": [
			"## Example 5.5: Determine_the_Ib_base_current_and_hfe.sce"
		   ]
		  },
  {
"cell_type": "code",
	   "execution_count": null,
	   "metadata": {
	    "collapsed": true
	   },
	   "outputs": [],
"source": [
"//Ex:5.5\n",
"clc;\n",
"clear;\n",
"close;\n",
"I_e=98;//in mA\n",
"I_c=97;\n",
"I_b=I_e-I_c;\n",
"hfe=I_c/I_b;\n",
"printf('Emitter current = %d mA    &    hfe = %d',I_b,hfe);"
   ]
   }
,
{
		   "cell_type": "markdown",
		   "metadata": {},
		   "source": [
			"## Example 5.6: Determine_the_hfe_required_and_collector_power_dissipation.sce"
		   ]
		  },
  {
"cell_type": "code",
	   "execution_count": null,
	   "metadata": {
	    "collapsed": true
	   },
	   "outputs": [],
"source": [
"//Ex:5.6\n",
"clc;\n",
"clear;\n",
"close;\n",
"I_c=1.5;//in A\n",
"I_b=50*10^-3;\n",
"V_ce=6;//volts\n",
"hfe=I_c/I_b;\n",
"P=I_c*V_ce;\n",
"printf('hfe required = %d',hfe);\n",
"printf('\n collector power dissipation = %d W',P);"
   ]
   }
,
{
		   "cell_type": "markdown",
		   "metadata": {},
		   "source": [
			"## Example 5.7: Determine_the_I_base_current_and_change_in_collector_current.sce"
		   ]
		  },
  {
"cell_type": "code",
	   "execution_count": null,
	   "metadata": {
	    "collapsed": true
	   },
	   "outputs": [],
"source": [
"//Ex:5.7\n",
"clc;\n",
"clear;\n",
"close;\n",
"hfe=200\n",
"I_c=10*10^-3;\n",
"dI_b=I_c/hfe;\n",
"dI_c=hfe*dI_b/100;\n",
"printf('Base current = %f A ',dI_b);\n",
"printf('\nChange in collector current = %f mA',dI_c);"
   ]
   }
,
{
		   "cell_type": "markdown",
		   "metadata": {},
		   "source": [
			"## Example 5.8: Determine_the_change_in_drain_current.sce"
		   ]
		  },
  {
"cell_type": "code",
	   "execution_count": null,
	   "metadata": {
	    "collapsed": true
	   },
	   "outputs": [],
"source": [
"//Ex:5.8\n",
"clc;\n",
"clear;\n",
"close;\n",
"dV_gs=0.025;\n",
"g_fs=-0.5;\n",
"dI_d=dV_gs*g_fs;//in mA\n",
"I_d1=50*10^-3;//in mA\n",
"I_d2=dI_d+I_d1;\n",
"printf('Change in drain current = %f A',dI_d);\n",
"printf('\nNew value of drain current = %f A',I_d2);"
   ]
   }
],
"metadata": {
		  "kernelspec": {
		   "display_name": "Scilab",
		   "language": "scilab",
		   "name": "scilab"
		  },
		  "language_info": {
		   "file_extension": ".sce",
		   "help_links": [
			{
			 "text": "MetaKernel Magics",
			 "url": "https://github.com/calysto/metakernel/blob/master/metakernel/magics/README.md"
			}
		   ],
		   "mimetype": "text/x-octave",
		   "name": "scilab",
		   "version": "0.7.1"
		  }
		 },
		 "nbformat": 4,
		 "nbformat_minor": 0
}
