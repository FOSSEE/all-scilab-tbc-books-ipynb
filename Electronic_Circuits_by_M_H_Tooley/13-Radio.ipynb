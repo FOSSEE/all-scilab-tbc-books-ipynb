{
"cells": [
 {
		   "cell_type": "markdown",
	   "metadata": {},
	   "source": [
       "# Chapter 13: Radio"
	   ]
	},
{
		   "cell_type": "markdown",
		   "metadata": {},
		   "source": [
			"## Example 13.1: Determine_the_frequency_of_radio_signal_of_wavelength_15m.sce"
		   ]
		  },
  {
"cell_type": "code",
	   "execution_count": null,
	   "metadata": {
	    "collapsed": true
	   },
	   "outputs": [],
"source": [
"//Ex:13.1\n",
"clc;\n",
"clear;\n",
"close;\n",
"c=3*10^8;\n",
"wl=15;\n",
"f=c/wl;\n",
"printf('The frequency =%d Hz',f);"
   ]
   }
,
{
		   "cell_type": "markdown",
		   "metadata": {},
		   "source": [
			"## Example 13.2: Determine_the_frequency_of_radio_signal_of_150MHz.sce"
		   ]
		  },
  {
"cell_type": "code",
	   "execution_count": null,
	   "metadata": {
	    "collapsed": true
	   },
	   "outputs": [],
"source": [
"//Ex:13.2\n",
"clc;\n",
"clear;\n",
"close;\n",
"c=3*10^8;\n",
"f=150*10^6;\n",
"wl=c/f;\n",
"printf('The wavelength =%d m',wl);"
   ]
   }
,
{
		   "cell_type": "markdown",
		   "metadata": {},
		   "source": [
			"## Example 13.3: Determine_the_velocity_of_propagation_of_radio_signal_of_30MHz_and_8m_wavelength.sce"
		   ]
		  },
  {
"cell_type": "code",
	   "execution_count": null,
	   "metadata": {
	    "collapsed": true
	   },
	   "outputs": [],
"source": [
"//Ex:13.3\n",
"clc;\n",
"clear;\n",
"close;\n",
"wl=8;\n",
"f=30*10^6;\n",
"v=f*wl;\n",
"printf('The veocity of propagation =%d m/s',v);"
   ]
   }
,
{
		   "cell_type": "markdown",
		   "metadata": {},
		   "source": [
			"## Example 13.4: Determine_the_two_possible_BFO_freq.sce"
		   ]
		  },
  {
"cell_type": "code",
	   "execution_count": null,
	   "metadata": {
	    "collapsed": true
	   },
	   "outputs": [],
"source": [
"//Ex:13.4\n",
"clc;\n",
"clear;\n",
"close;\n",
"f_rf=162.5;//in kHz\n",
"f_af=1.25;//in kHz\n",
"f_bfo_max=f_rf+f_af;\n",
"f_bfo_min=f_rf-f_af;\n",
"printf('The two possible BFO freq. =%f kHz and %f kHz',f_bfo_max,f_bfo_min);"
   ]
   }
,
{
		   "cell_type": "markdown",
		   "metadata": {},
		   "source": [
			"## Example 13.5: Determine_the_range_the_local_oscillator_be_tuned.sce"
		   ]
		  },
  {
"cell_type": "code",
	   "execution_count": null,
	   "metadata": {
	    "collapsed": true
	   },
	   "outputs": [],
"source": [
"//Ex:13.5\n",
"clc;\n",
"clear;\n",
"close;\n",
"f_rf_1=88;//in MHz\n",
"f_rf_2=108;//in MHz\n",
"f_if=10.7;//in MHz\n",
"f_lo_1=f_rf_1+f_if;\n",
"f_lo_2=f_rf_2+f_if;\n",
"printf('The range local oscillator be tuned =%f MHz & %f MHz',f_lo_1,f_lo_2);"
   ]
   }
,
{
		   "cell_type": "markdown",
		   "metadata": {},
		   "source": [
			"## Example 13.6: Determine_the_range_the_local_oscillator_be_tuned.sce"
		   ]
		  },
  {
"cell_type": "code",
	   "execution_count": null,
	   "metadata": {
	    "collapsed": true
	   },
	   "outputs": [],
"source": [
"//Ex:13.6\n",
"clc;\n",
"clear;\n",
"close;\n",
"f_rf_1=88;//in MHz\n",
"f_rf_2=108;//in MHz\n",
"f_if=10.7;//in MHz\n",
"f_lo_1=f_rf_1+f_if;\n",
"f_lo_2=f_rf_2+f_if;\n",
"printf('The range local oscillator be tuned =%f MHz & %f MHz',f_lo_1,f_lo_2);"
   ]
   }
,
{
		   "cell_type": "markdown",
		   "metadata": {},
		   "source": [
			"## Example 13.7: Determine_the_radiated_power.sce"
		   ]
		  },
  {
"cell_type": "code",
	   "execution_count": null,
	   "metadata": {
	    "collapsed": true
	   },
	   "outputs": [],
"source": [
"//Ex:13.7\n",
"clc;\n",
"clear;\n",
"close;\n",
"r=12;//in ohms\n",
"i=0.5;//in amps\n",
"P_r=i*i*r;//in W\n",
"printf('Power radiated = %d W',P_r);"
   ]
   }
,
{
		   "cell_type": "markdown",
		   "metadata": {},
		   "source": [
			"## Example 13.8: Determine_the_power_and_radiation_efficiency.sce"
		   ]
		  },
  {
"cell_type": "code",
	   "execution_count": null,
	   "metadata": {
	    "collapsed": true
	   },
	   "outputs": [],
"source": [
"//Ex:13.8\n",
"clc;\n",
"clear;\n",
"close;\n",
"r=2;//in ohms\n",
"i=0.5;//in amps\n",
"P_r=4;//in W\n",
"P_loss=i*i*r;\n",
"P_eff=(P_r/(P_r+P_loss))*100;\n",
"printf('The power loss = %f W',P_loss);\n",
"printf('\n The power loss = %f %%',P_eff);"
   ]
   }
],
"metadata": {
		  "kernelspec": {
		   "display_name": "Scilab",
		   "language": "scilab",
		   "name": "scilab"
		  },
		  "language_info": {
		   "file_extension": ".sce",
		   "help_links": [
			{
			 "text": "MetaKernel Magics",
			 "url": "https://github.com/calysto/metakernel/blob/master/metakernel/magics/README.md"
			}
		   ],
		   "mimetype": "text/x-octave",
		   "name": "scilab",
		   "version": "0.7.1"
		  }
		 },
		 "nbformat": 4,
		 "nbformat_minor": 0
}
