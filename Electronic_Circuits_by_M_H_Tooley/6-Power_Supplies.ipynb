{
"cells": [
 {
		   "cell_type": "markdown",
	   "metadata": {},
	   "source": [
       "# Chapter 6: Power Supplies"
	   ]
	},
{
		   "cell_type": "markdown",
		   "metadata": {},
		   "source": [
			"## Example 6.1: Determine_the_peak_voltage_that_appear_across_load.sce"
		   ]
		  },
  {
"cell_type": "code",
	   "execution_count": null,
	   "metadata": {
	    "collapsed": true
	   },
	   "outputs": [],
"source": [
"//Ex:6.1\n",
"clc;\n",
"clear;\n",
"close;\n",
"V_p=220;\n",
"V_s=V_p/44;\n",
"V_pk=1.414*V_s;//in volts\n",
"V_l=V_pk-0.6;\n",
"printf('Peak voltage that appear across load = %f V',V_l);"
   ]
   }
,
{
		   "cell_type": "markdown",
		   "metadata": {},
		   "source": [
			"## Example 6.2: Determine_the_amt_of_ripple_at_output.sce"
		   ]
		  },
  {
"cell_type": "code",
	   "execution_count": null,
	   "metadata": {
	    "collapsed": true
	   },
	   "outputs": [],
"source": [
"//Ex:6.2\n",
"clc;\n",
"clear;\n",
"close;\n",
"X_c=3.18;\n",
"R=100;\n",
"V_rip=1*(X_c/sqrt(R^2+X_c^2));\n",
"printf('Ripple voltage = %f V',V_rip);"
   ]
   }
,
{
		   "cell_type": "markdown",
		   "metadata": {},
		   "source": [
			"## Example 6.3: Determine_the_amt_of_ripple_at_output.sce"
		   ]
		  },
  {
"cell_type": "code",
	   "execution_count": null,
	   "metadata": {
	    "collapsed": true
	   },
	   "outputs": [],
"source": [
"//Ex:6.3\n",
"clc;\n",
"clear;\n",
"close;\n",
"f=50;\n",
"L=10;\n",
"X_l=2*%pi*f*L;\n",
"X_c=3.18;\n",
"V_rip=1*(X_c/sqrt(X_l^2+X_c^2));\n",
"printf('Ripple voltage = %f V',V_rip);"
   ]
   }
,
{
		   "cell_type": "markdown",
		   "metadata": {},
		   "source": [
			"## Example 6.4: Determine_the_series_resistor_for_operation_in_conjunction_with_9V.sce"
		   ]
		  },
  {
"cell_type": "code",
	   "execution_count": null,
	   "metadata": {
	    "collapsed": true
	   },
	   "outputs": [],
"source": [
"//Ex:6.4\n",
"clc;\n",
"clear;\n",
"close;\n",
"R_l=400;\n",
"V_in=9;\n",
"V_z=5;\n",
"P_z_max=0.5;\n",
"R_s_max=R_l*((V_in/V_z)-1);\n",
"R_s_min=((V_z*V_in)-V_z^2)/P_z_max;\n",
"printf('Suitable value of resistor = %d ohm',(R_s_max+R_s_min)/2);"
   ]
   }
,
{
		   "cell_type": "markdown",
		   "metadata": {},
		   "source": [
			"## Example 6.5: Determine_equiv_output_resistance_and_regulation_of_power_supply.sce"
		   ]
		  },
  {
"cell_type": "code",
	   "execution_count": null,
	   "metadata": {
	    "collapsed": true
	   },
	   "outputs": [],
"source": [
"//Ex:6.5\n",
"clc;\n",
"clear;\n",
"close;\n",
"dI_i=20;\n",
"dV_o=0.5;\n",
"dV_o_reg=0.1;\n",
"dI_o=2;\n",
"R_out=dV_o/dI_o;\n",
"Regulation=(dV_o_reg/dI_i)*100;\n",
"printf(' output resis. = %f ohm',R_out);   \n",
"printf(' \n regulation. = %f %%',Regulation);                      "
   ]
   }
],
"metadata": {
		  "kernelspec": {
		   "display_name": "Scilab",
		   "language": "scilab",
		   "name": "scilab"
		  },
		  "language_info": {
		   "file_extension": ".sce",
		   "help_links": [
			{
			 "text": "MetaKernel Magics",
			 "url": "https://github.com/calysto/metakernel/blob/master/metakernel/magics/README.md"
			}
		   ],
		   "mimetype": "text/x-octave",
		   "name": "scilab",
		   "version": "0.7.1"
		  }
		 },
		 "nbformat": 4,
		 "nbformat_minor": 0
}
