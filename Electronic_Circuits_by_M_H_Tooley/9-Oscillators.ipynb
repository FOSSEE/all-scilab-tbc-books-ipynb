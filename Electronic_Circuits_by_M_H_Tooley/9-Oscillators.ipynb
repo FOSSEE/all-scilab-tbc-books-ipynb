{
"cells": [
 {
		   "cell_type": "markdown",
	   "metadata": {},
	   "source": [
       "# Chapter 9: Oscillators"
	   ]
	},
{
		   "cell_type": "markdown",
		   "metadata": {},
		   "source": [
			"## Example 9.1: Determine_the_freq_of_oscillation.sce"
		   ]
		  },
  {
"cell_type": "code",
	   "execution_count": null,
	   "metadata": {
	    "collapsed": true
	   },
	   "outputs": [],
"source": [
"//Ex:9.1\n",
"clc;\n",
"clear;\n",
"close;\n",
"C=10*10^-9;\n",
"R=10000;\n",
"f=(1/(2*%pi*sqrt (6)*C*R));\n",
"printf('The freq of oscillation = %f Hz',f);"
   ]
   }
,
{
		   "cell_type": "markdown",
		   "metadata": {},
		   "source": [
			"## Example 9.2: Determine_the_output_freq.sce"
		   ]
		  },
  {
"cell_type": "code",
	   "execution_count": null,
	   "metadata": {
	    "collapsed": true
	   },
	   "outputs": [],
"source": [
"//Ex:9.2\n",
"clc;\n",
"clear;\n",
"close;\n",
"r1=1000;\n",
"r2=1000;\n",
"c=100*10^-9;\n",
"f=(1/(2*%pi*c*r1));\n",
"printf('The freq of oscillation at 1 kohm= %f Hz',f);\n",
"R1=6000;\n",
"R2=6000;\n",
"F=(1/(2*%pi*c*R1));\n",
"printf('\nThe freq of oscillation at 6 kohm= %f Hz',F);"
   ]
   }
,
{
		   "cell_type": "markdown",
		   "metadata": {},
		   "source": [
			"## Example 9.3: Determine_the_value_of_R3_and_R4.sce"
		   ]
		  },
  {
"cell_type": "code",
	   "execution_count": null,
	   "metadata": {
	    "collapsed": true
	   },
	   "outputs": [],
"source": [
"//Ex:9.3\n",
"clc;\n",
"clear;\n",
"close;\n",
"f=1000;\n",
"t=1/f;\n",
"C=10*10^-9;\n",
"R=t/(1.4*C);\n",
"printf('R= %d kohm',R/1000);"
   ]
   }
],
"metadata": {
		  "kernelspec": {
		   "display_name": "Scilab",
		   "language": "scilab",
		   "name": "scilab"
		  },
		  "language_info": {
		   "file_extension": ".sce",
		   "help_links": [
			{
			 "text": "MetaKernel Magics",
			 "url": "https://github.com/calysto/metakernel/blob/master/metakernel/magics/README.md"
			}
		   ],
		   "mimetype": "text/x-octave",
		   "name": "scilab",
		   "version": "0.7.1"
		  }
		 },
		 "nbformat": 4,
		 "nbformat_minor": 0
}
