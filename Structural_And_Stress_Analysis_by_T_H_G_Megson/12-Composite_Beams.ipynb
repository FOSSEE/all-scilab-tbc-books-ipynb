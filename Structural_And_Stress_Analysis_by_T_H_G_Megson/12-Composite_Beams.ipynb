{
"cells": [
 {
		   "cell_type": "markdown",
	   "metadata": {},
	   "source": [
       "# Chapter 12: Composite Beams"
	   ]
	},
{
		   "cell_type": "markdown",
		   "metadata": {},
		   "source": [
			"## Example 12.10: chapter_12_example_10.sce"
		   ]
		  },
  {
"cell_type": "code",
	   "execution_count": null,
	   "metadata": {
	    "collapsed": true
	   },
	   "outputs": [],
"source": [
"//CLC\n",
"w= 1200 //mm\n",
"d= 618 //mm\n",
"t= 150 //mm\n",
"BM= 500 //KNm\n",
"Scu= 30 //N/mm^2\n",
"Sy= 410 //mm^2\n",
"//CALCULATIONS\n",
"Mu= 0.4*Scu*w*t*(d-(t/2))*10^-6\n",
"n= d-sqrt(d^2-(2*BM*10^6/(0.4*Scu*w)))\n",
"l= d-(n/2)\n",
"As= BM*10^6/(0.87*Sy*l)\n",
"//RESULTS\n",
"printf('As(mm^2) = %.2f',As)"
   ]
   }
,
{
		   "cell_type": "markdown",
		   "metadata": {},
		   "source": [
			"## Example 12.11: chapter_12_example_11.sce"
		   ]
		  },
  {
"cell_type": "code",
	   "execution_count": null,
	   "metadata": {
	    "collapsed": true
	   },
	   "outputs": [],
"source": [
"clc\n",
"thick=150 //mm\n",
"width=1.8 //m\n",
"depth=562 //mm\n",
"SigmaCu=30 //N/mm^2\n",
"SigmaY=350 //N/mm^2\n",
"BM=709 //KNm\n",
"As=2*BM*10^6 /(0.87*SigmaY*depth)\n",
"Tensile=0.87*SigmaY*As\n",
"disp(Tensile)\n",
"Compressive=0.4*width*thick*SigmaCu*10^3\n",
"disp(Compressive)\n",
"n1=0.87*SigmaY*8530/(0.4*SigmaCu*width*10^3)\n",
"disp(n1)\n",
"Mu=0.87*SigmaY*8530*(SigmaY+6-n1/2)*10^(-6)\n",
"printf('Mu=%f KNm',Mu)\n",
"printf('\n This is greater than applied moment. hence it is satisfactory')"
   ]
   }
,
{
		   "cell_type": "markdown",
		   "metadata": {},
		   "source": [
			"## Example 12.1: chapter_12_example_1.sce"
		   ]
		  },
  {
"cell_type": "code",
	   "execution_count": null,
	   "metadata": {
	    "collapsed": true
	   },
	   "outputs": [],
"source": [
"clc\n",
"//initialisation of variables\n",
"TimberB= 100 //mm\n",
"TimberH= 400 //mm\n",
"SteelB= 12 //mm\n",
"SteelH= 300 //mm\n",
"Bm= 50 //KNm\n",
"ratio= 12\n",
"//CALCULATIONS\n",
"It= 2*TimberB*TimberH^3/12\n",
"Is= ratio*SteelH^3/12\n",
"sigmat= -(Bm*10^6*TimberH/2)/(It+ratio*Is)\n",
"sigmas= -(Bm*10^6*SteelH/2)/(Is+It/ratio)\n",
"//RESULTS\n",
"printf ('Maximum stress in timber= %.1f mm^2 (+ or -)',sigmat)\n",
"printf (' \n Maximum stress in steel=%.1f N/mm^2 (+ or -)',sigmas)"
   ]
   }
,
{
		   "cell_type": "markdown",
		   "metadata": {},
		   "source": [
			"## Example 12.2: chapter_12_example_2.sce"
		   ]
		  },
  {
"cell_type": "code",
	   "execution_count": null,
	   "metadata": {
	    "collapsed": true
	   },
	   "outputs": [],
"source": [
"clc\n",
"TimberB=100 //mm\n",
"TimberH=200 //mm\n",
"It=TimberB*TimberH^3 /12\n",
"SteelB=15 //mm\n",
"SteelH=100 //mm\n",
"ratio=15\n",
"Is=2*SteelB*SteelH*(SteelH+SteelB/2)^2\n",
"Load=10 //KN/m\n",
"Span=4 //m\n",
"Mmax=Load*Span^2 *10^6 /8 //Nm\n",
"sigmaT=Mmax*TimberH/2/(It+ratio*Is)\n",
"sigmaS=Mmax*(SteelH+SteelB)/(Is+It/ratio)\n",
"printf('The maximum stress in Timber=%f N/mm^2',sigmaT)\n",
"printf(' \n The maximum stress in Steel=%f N/mm^2',sigmaS)\n",
"Shear=Load*Span/2\n",
"printf('Max. Shear force in beam at the supports = %f kN', Shear)\n",
"Tav=Mmax/(TimberH*TimberB)\n",
"ShearPerlength=Tav*TimberB\n",
"printf('\n Shear force per unit length in timber/steel connection= %f N/m',ShearPerlength)"
   ]
   }
,
{
		   "cell_type": "markdown",
		   "metadata": {},
		   "source": [
			"## Example 12.3: chapter_12_example_3.sce"
		   ]
		  },
  {
"cell_type": "code",
	   "execution_count": null,
	   "metadata": {
	    "collapsed": true
	   },
	   "outputs": [],
"source": [
"clc\n",
"b=200 //mm\n",
"d=350 //mm\n",
"dia=20 //mm\n",
"BM=30*10^3 //Nm\n",
"m=15\n",
"As=2*%pi*dia^2 /4\n",
"n=m*As*(sqrt(1+ 2*b*d/(m*As))-1)/b\n",
"Ic=b*n^3 /3 + m*As*(d-n)^2\n",
"SigmaC=-BM*n*10^3/Ic\n",
"printf('Stress in concrete=%f N/mm^2 compression',SigmaC)\n",
"SigmaS=m*BM*10^3*(d-n)/Ic\n",
"printf('\n Stress in Steel=%f N/mm^2 tension',SigmaS)"
   ]
   }
,
{
		   "cell_type": "markdown",
		   "metadata": {},
		   "source": [
			"## Example 12.4: chapter_12_example_4.sce"
		   ]
		  },
  {
"cell_type": "code",
	   "execution_count": null,
	   "metadata": {
	    "collapsed": true
	   },
	   "outputs": [],
"source": [
"clc\n",
"b=250 //mm\n",
"d=400 //mm\n",
"dia=20 //mm\n",
"n=3\n",
"SigmaC=7 //N/mm^2\n",
"SigmaS=140 //N/mm^2\n",
"m=15\n",
"As=n*%pi*dia^2 /4\n",
"n=m*As*(sqrt(1+ 2*b*d/(m*As))-1)/b\n",
"BMC=SigmaC*b*n*(d-n/3)*10^(-6) /2\n",
"BMS=SigmaS*As*(d-n/3)*10^(-6)\n",
"if BMC>=BMS then\n",
"    printf('Limiting material is Steel and moment of resistance of the beam is %f',BMS)\n",
"else\n",
"    printf('Limiting material is Concrete and moment of resistance of the beam is %f',BMC)\n",
"end"
   ]
   }
,
{
		   "cell_type": "markdown",
		   "metadata": {},
		   "source": [
			"## Example 12.5: chapter_12_example_5.sce"
		   ]
		  },
  {
"cell_type": "code",
	   "execution_count": null,
	   "metadata": {
	    "collapsed": true
	   },
	   "outputs": [],
"source": [
"clc\n",
"d=400 //mm\n",
"m=15\n",
"ASs=120 //N/mm^2\n",
"ASc=6.5 //N/mm^2\n",
"BM=40*10^3 //Nm\n",
"n=d/(ASs/(ASc*m) +1 )\n",
"As=BM*10^3/(ASs*(d-n/3))\n",
"printf('required area= %f mm^2',As)"
   ]
   }
,
{
		   "cell_type": "markdown",
		   "metadata": {},
		   "source": [
			"## Example 12.6: chapter_12_example_6.sce"
		   ]
		  },
  {
"cell_type": "code",
	   "execution_count": null,
	   "metadata": {
	    "collapsed": true
	   },
	   "outputs": [],
"source": [
"clc\n",
"b=180 //mm\n",
"d=360 //mm\n",
"m=15\n",
"BM=45*10^3 //Nm\n",
"depth=40 //mm\n",
"Sc=8.5 //N/mm^2\n",
"Ss=140 //N/mm^2\n",
"n=d/(Ss/(Sc*m) +1 )\n",
"Ast=(BM*10^3 - Sc*b*n*(n/3 - depth)/2)/(Ss*(d-depth))\n",
"Asc=(m*Ast*(d-n) - b*n^2 /2 )/((m-1)*(n-depth))\n",
"SigmaSC=-m*(n-depth)*Sc/n\n",
"printf('Area of reinforcement steel = %f mm^2',Ast)\n",
"printf('\n Area of reinforcement concrete= %f mm^2',Asc)\n",
"printf('\n Stress in compresson steel=%f N/mm^2 compression',SigmaSC)"
   ]
   }
,
{
		   "cell_type": "markdown",
		   "metadata": {},
		   "source": [
			"## Example 12.7: chapter_12_example_7.sce"
		   ]
		  },
  {
"cell_type": "code",
	   "execution_count": null,
	   "metadata": {
	    "collapsed": true
	   },
	   "outputs": [],
"source": [
"//CLC\n",
"d= 600 //mm\n",
"b= 250 //mm\n",
"BM= 350 //KNm\n",
"t= 28\n",
"Sc= 30 //N/mm^2\n",
"T= 400 //N/mm^2\n",
"//CALCULATIONS\n",
"Mu= 0.15*Sc*b*d^2*10^-6\n",
"n= d-sqrt(d^2-(2*BM*10^6/(0.4*Sc*b)))\n",
"l= d-(n/2)\n",
"As= BM*10^6/(l*T*0.87)\n",
"//RESULTS\n",
"printf('As(mm^2) = %.2f',As)"
   ]
   }
,
{
		   "cell_type": "markdown",
		   "metadata": {},
		   "source": [
			"## Example 12.8: chapter_12_example_8.sce"
		   ]
		  },
  {
"cell_type": "code",
	   "execution_count": null,
	   "metadata": {
	    "collapsed": true
	   },
	   "outputs": [],
"source": [
"clc\n",
"b=250 //mm\n",
"BM=350*10^3 //Nm\n",
"SigmaCu=30 //N/mm^2\n",
"SigmaY=400 //N/mm^2\n",
"d1=sqrt(BM*10^3 /(0.15*SigmaCu*b))\n",
"lever=3*d1/4\n",
"As=BM*10^3/(0.87*SigmaY*lever)\n",
"printf('As=%f mmm^2',As)"
   ]
   }
,
{
		   "cell_type": "markdown",
		   "metadata": {},
		   "source": [
			"## Example 12.9: chapter_12_example_9.sce"
		   ]
		  },
  {
"cell_type": "code",
	   "execution_count": null,
	   "metadata": {
	    "collapsed": true
	   },
	   "outputs": [],
"source": [
"clc\n",
"b=300 //mm\n",
"d=618 //mm\n",
"depth=60 //mm\n",
"SigmaCu=30 //N/mm^2\n",
"SigmaY=410 //N/mm^2\n",
"BM=650 //Nm\n",
"Mu=0.15*SigmaCu*b*d^2 *10^(-6)\n",
"Asc=(BM-Mu)*10^6 /((d-depth)*0.72*SigmaY)\n",
"Ast=Mu*10^6/(0.75*d*SigmaY*0.87) + (BM-Mu)*10^6/((d-depth)*0.87*SigmaY)\n",
"printf('Asc=%f mm^2',Asc)\n",
"printf('\n Ast=%f mm^2',Ast)"
   ]
   }
],
"metadata": {
		  "kernelspec": {
		   "display_name": "Scilab",
		   "language": "scilab",
		   "name": "scilab"
		  },
		  "language_info": {
		   "file_extension": ".sce",
		   "help_links": [
			{
			 "text": "MetaKernel Magics",
			 "url": "https://github.com/calysto/metakernel/blob/master/metakernel/magics/README.md"
			}
		   ],
		   "mimetype": "text/x-octave",
		   "name": "scilab",
		   "version": "0.7.1"
		  }
		 },
		 "nbformat": 4,
		 "nbformat_minor": 0
}
