{
"cells": [
 {
		   "cell_type": "markdown",
	   "metadata": {},
	   "source": [
       "# Chapter 6: Arches"
	   ]
	},
{
		   "cell_type": "markdown",
		   "metadata": {},
		   "source": [
			"## Example 6.1: chapter_6_example_1.sce"
		   ]
		  },
  {
"cell_type": "code",
	   "execution_count": null,
	   "metadata": {
	    "collapsed": true
	   },
	   "outputs": [],
"source": [
"clc\n",
"//initialisation of variables\n",
"F1= -60 //KN\n",
"F2= -100 //KN\n",
"r= 6 //m\n",
"alpha1= 30 //degrees\n",
"alpha2= 45 //degrees\n",
"//CALCULATIONS\n",
"Rav= (-F1*(r*cosd(alpha1)+r)-F2*(r*sind(alpha1)+r) )/(2*r)\n",
"Rbv= -F1-F2-Rav\n",
"Rbh= Rbv\n",
"Rah= Rbh\n",
"Nx= -Rav*cosd(alpha2)-Rah*cosd(alpha2)-F1*cosd(alpha2)\n",
"Sx= -Rav*sind(alpha2)+Rah*cosd(alpha2)-F1*sind(alpha2)\n",
"Mx= Rav*(r-r*cosd(alpha2))-Rah*r*sind(alpha2)+F1*(r*cosd(alpha1)-r*cosd(alpha2))\n",
"//RESULTS\n",
"printf ('Normal force= %.1f KN',Nx)\n",
"printf ('\n  Shear force=%.1f KN',Sx)\n",
"printf (' \n Bending moment=%.1f KNm',Mx)"
   ]
   }
,
{
		   "cell_type": "markdown",
		   "metadata": {},
		   "source": [
			"## Example 6.2: chapter_6_example_2.sce"
		   ]
		  },
  {
"cell_type": "code",
	   "execution_count": null,
	   "metadata": {
	    "collapsed": true
	   },
	   "outputs": [],
"source": [
"clc\n",
"//initialisation of variables\n",
"W= -10 //KN/m\n",
"Yac= 7 //m\n",
"xad= -7.5 //m\n",
"xac= -15 //m\n",
"xcb= 10 //m\n",
"//CALCULATIONS\n",
"k= Yac/((xac)^2)\n",
"yb= k*(xcb)^2\n",
"hb= Yac-yb\n",
"yd= k*(xad)^2\n",
"hd= Yac-yd\n",
"A=[(xcb-xac),(hb);(xcb),(-yb)]\n",
"b=[-W*(-xac)*(-xad);0]\n",
"c= A\b\n",
"Rbv= c(1,1)\n",
"Rbh= c(2,1)\n",
"Rah= Rbh\n",
"Rav= -Rbv-W*(-xac)\n",
"dybydx= 2*k*xad\n",
"alpha= atand(-2*k*xad)\n",
"Nd= -Rav*sind(alpha)-Rah*cosd(alpha)+((-W)*(-xad)*sind(alpha))\n",
"Sd= -Rav*cosd(alpha)+Rah*sind(alpha)+((-W)*(-xad)*cosd(alpha))\n",
"Md= Rav*(-xad)-Rah*hd+W*(-xad)*(-xad/2)\n",
"//RESULTS\n",
"printf ('Normal force= %.2f kN',Nd)\n",
"printf ('\n  Shear force=%.2f KN',Sd)\n",
"printf (' \n Bending moment=%.1f KNm',Md)"
   ]
   }
],
"metadata": {
		  "kernelspec": {
		   "display_name": "Scilab",
		   "language": "scilab",
		   "name": "scilab"
		  },
		  "language_info": {
		   "file_extension": ".sce",
		   "help_links": [
			{
			 "text": "MetaKernel Magics",
			 "url": "https://github.com/calysto/metakernel/blob/master/metakernel/magics/README.md"
			}
		   ],
		   "mimetype": "text/x-octave",
		   "name": "scilab",
		   "version": "0.7.1"
		  }
		 },
		 "nbformat": 4,
		 "nbformat_minor": 0
}
