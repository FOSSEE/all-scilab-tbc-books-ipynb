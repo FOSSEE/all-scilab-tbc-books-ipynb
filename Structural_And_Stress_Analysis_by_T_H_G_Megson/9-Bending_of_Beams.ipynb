{
"cells": [
 {
		   "cell_type": "markdown",
	   "metadata": {},
	   "source": [
       "# Chapter 9: Bending of Beams"
	   ]
	},
{
		   "cell_type": "markdown",
		   "metadata": {},
		   "source": [
			"## Example 9.1: chapter_9_example_1.sce"
		   ]
		  },
  {
"cell_type": "code",
	   "execution_count": null,
	   "metadata": {
	    "collapsed": true
	   },
	   "outputs": [],
"source": [
"clc\n",
"//initialisation of variables\n",
"w= 10 //KN/m\n",
"L= 6 //m\n",
"sigmaxallowable= 155 //N/mm^2\n",
"Modulusofuniversalbeam= 307600 //mm^3\n",
"Satisfactorybeam= 254*102*28 \n",
"//CALCULATIONS\n",
"Mmaxnormal= (w*L^2)/8\n",
"Zemin= (Mmaxnormal)/sigmaxallowable\n",
"Totalload= w+((28*9.81)/10^3)\n",
"Mmaxload= (Totalload*L^2)/8\n",
"Allowablestress= (Mmaxload*10^3*10^3)/Modulusofuniversalbeam\n",
"//RESULTS\n",
"printf ('Satisafactorybeam=% 2f (254*102*28)',Satisfactorybeam)"
   ]
   }
,
{
		   "cell_type": "markdown",
		   "metadata": {},
		   "source": [
			"## Example 9.2: chapter_9_example_2.sce"
		   ]
		  },
  {
"cell_type": "code",
	   "execution_count": null,
	   "metadata": {
	    "collapsed": true
	   },
	   "outputs": [],
"source": [
"clc\n",
"//initialisation of variables\n",
"M= 100*10^6 //Nmm\n",
"BeamB= 300 //mm\n",
"BeamL= 200 //mm\n",
"BeamT= 25 //mm\n",
"BeamT2= 20 //mm\n",
"//CALCULATIONS\n",
"Iz= ((BeamL*BeamB^3)/12)-((BeamL-BeamT)*(BeamB-2*BeamT2)^3)/12\n",
"sigmaxbyY= -M/Iz\n",
"SB= sigmaxbyY*(BeamB/2)\n",
"ST= sigmaxbyY*(-BeamB/2)\n",
"//RESULTS   \n",
"printf ('Stress at top of the beam= %.2fN/mm^2(Tension)',ST) \n",
"printf ('\n Stress at bottom of the beam= %.2fN/mm^2(compression)',SB) \n",
""
   ]
   }
,
{
		   "cell_type": "markdown",
		   "metadata": {},
		   "source": [
			"## Example 9.3: chapter_9_example_3.sce"
		   ]
		  },
  {
"cell_type": "code",
	   "execution_count": null,
	   "metadata": {
	    "collapsed": true
	   },
	   "outputs": [],
"source": [
"clc\n",
"//initialisation of variables\n",
"M= 100*10^6 //Nmm\n",
"BeamB= 300 //mm\n",
"BeamH= 200 //mm\n",
"BeamT= 25 //mm\n",
"BeamT2= 20 //mm\n",
"//CALCULATIONS\n",
"Iy= (2*BeamT2*BeamH^3/12)+((BeamB-2*BeamT2)*BeamT^3/12)\n",
"alphabyz=-M/Iy\n",
"//RESULTS\n",
"printf ('sigmax= %.2f *z',alphabyz)\n",
""
   ]
   }
,
{
		   "cell_type": "markdown",
		   "metadata": {},
		   "source": [
			"## Example 9.4: chapter_9_example_4.sce"
		   ]
		  },
  {
"cell_type": "code",
	   "execution_count": null,
	   "metadata": {
	    "collapsed": true
	   },
	   "outputs": [],
"source": [
"clc\n",
"//initialisation of variables\n",
"BeamB= 300 //mm\n",
"BeamL= 200 //mm\n",
"BeamT= 25 //mm\n",
"BeamT2= 20 //mm\n",
"alpha= 30 //degrees\n",
"Mz= 100*10^6*cosd(alpha)//Nmm\n",
"My= 100*10^6*sind(alpha)//Nmm\n",
"//CALCULATIONS\n",
"Iz= ((BeamL*BeamB^3)/12)-((BeamL-BeamT)*(BeamB-2*BeamT2)^3)/12\n",
"Iy= (2*BeamT2*BeamL^3/12)+((BeamB-2*BeamT2)*BeamT^3/12)\n",
"sigmaxtl= (+Mz/Iz)*(BeamB/2)+(My/Iy)*(BeamH/2)\n",
"sigmaxtr= (+Mz/Iz)*(BeamB/2)+(My/Iy)*(-BeamH/2)\n",
"inclination= atand((My*Iz)/(Mz*Iy))\n",
"//RESULTS   \n",
"printf ('Stress at top left of the beam= %.2fN/mm^2(Tension)',sigmaxtl) \n",
"printf ('\n Stress at top right of the beam= %.2fN/mm^2(compression)',sigmaxtr) \n",
"printf ('\n Incination= %.2fdegrees',inclination)"
   ]
   }
,
{
		   "cell_type": "markdown",
		   "metadata": {},
		   "source": [
			"## Example 9.5: chapter_9_example_5.sce"
		   ]
		  },
  {
"cell_type": "code",
	   "execution_count": null,
	   "metadata": {
	    "collapsed": true
	   },
	   "outputs": [],
"source": [
"clc\n",
"//initialisation of variables\n",
"BeamB= 200 //mm\n",
"BeamH= 200 //mm\n",
"BeamT= 20 //mm\n",
"BeamT2= 20 //mm\n",
"sigmaxtop= 150 //N/mm^2\n",
"sigmaxbottom= -150 //N/mm^2\n",
"//CALCULATIONS\n",
"y= ((BeamB*BeamT*BeamT/2)+(BeamH*BeamT2*((BeamH/2)+BeamT)))/(BeamB*BeamT+BeamH*BeamT2)\n",
"Iz= ((BeamB*(y^3))/3)-(((BeamB-BeamT2)*(y-BeamT)^3)/3)+(BeamT2*((BeamH+BeamT-y)^3)/3)\n",
"P1= sigmaxtop/((1/(BeamB*BeamT+BeamH*BeamT2))+((y-BeamT/2)*y/Iz))  \n",
"P2= (sigmaxbottom/((1/(BeamB*BeamT+BeamH*BeamT2))+((y-BeamT/2)*(-(BeamH+BeamT-y))/Iz)))\n",
"if(P1>P2)\n",
"    disp(P2)\n",
"else\n",
"    disp(P1) \n",
"end"
   ]
   }
,
{
		   "cell_type": "markdown",
		   "metadata": {},
		   "source": [
			"## Example 9.6: chapter_9_example_6.sce"
		   ]
		  },
  {
"cell_type": "code",
	   "execution_count": null,
	   "metadata": {
	    "collapsed": true
	   },
	   "outputs": [],
"source": [
"clc\n",
"//initialisation of variables\n",
"Height= 7 //m\n",
"Thickness= 0.6 //m\n",
"density= 2000 //Kg/m^3\n",
"//CALCULATIONS\n",
"W= density*9.81*Thickness*Height\n",
"p= 0.1*W*2/(Height*Height)\n",
"//RESULTS\n",
"printf ('p= %.2f N/m^1',p)"
   ]
   }
,
{
		   "cell_type": "markdown",
		   "metadata": {},
		   "source": [
			"## Example 9.8: chapter_9_example_8.sce"
		   ]
		  },
  {
"cell_type": "code",
	   "execution_count": null,
	   "metadata": {
	    "collapsed": true
	   },
	   "outputs": [],
"source": [
"clc\n",
"//initialisation of variables\n",
"M= 1500 //Nm\n",
"x1= 40 //mm\n",
"x2= 80 //mm\n",
"x3= 8 //mm\n",
"y1= 8 //mm\n",
"y2= 80 //mm\n",
"//CALCULATIONS\n",
"Ycentroid= (((x1+x2)*y1*y1/2)+(y2*x3*((y2/2)+y1)))/((x1+x2)*y1+y2*x3)\n",
"Zcentroid= (((y2*x3*y1/2)+((x1+x2)*x3*((y2/2)+y1)/2))/((x1+x2)*y1+y2*x3))\n",
"Iz= (((x1+x2)*(y1)^3)/12)+(x1+x2)*y1*((Ycentroid-(y1/2))^2)+(x3/12)*(y2^3)+y2*x3*((y2/2)-(Ycentroid-y1))^2\n",
"Iy= (y1*(((x1+x2)^3)/12))+(x1+x2)*y1*(y1^2)+((x3^3)/12)*(y2)+y2*x3*((Zcentroid-(x3/2))^2)\n",
"Izy= (x1+x2)*y1*(-y1)*(Ycentroid-(y1/2))+y2*x3*(Zcentroid-(x3/2))*(-(y2/2)+(Ycentroid-y1))\n",
"sigmax= ((-M*10^3*Izy*x3)+(-M*10^3*Iy*(y2-Ycentroid+y1)))/((Iz*Iy)-(Izy)^2)\n",
"//RESULTS\n",
"printf ('Maximum direct stress= %.2f N/mm^2',sigmax)\n",
"\n",
"\n",
""
   ]
   }
],
"metadata": {
		  "kernelspec": {
		   "display_name": "Scilab",
		   "language": "scilab",
		   "name": "scilab"
		  },
		  "language_info": {
		   "file_extension": ".sce",
		   "help_links": [
			{
			 "text": "MetaKernel Magics",
			 "url": "https://github.com/calysto/metakernel/blob/master/metakernel/magics/README.md"
			}
		   ],
		   "mimetype": "text/x-octave",
		   "name": "scilab",
		   "version": "0.7.1"
		  }
		 },
		 "nbformat": 4,
		 "nbformat_minor": 0
}
