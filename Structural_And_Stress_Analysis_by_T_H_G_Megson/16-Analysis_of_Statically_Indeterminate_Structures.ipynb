{
"cells": [
 {
		   "cell_type": "markdown",
	   "metadata": {},
	   "source": [
       "# Chapter 16: Analysis of Statically Indeterminate Structures"
	   ]
	},
{
		   "cell_type": "markdown",
		   "metadata": {},
		   "source": [
			"## Example 16.13: chapter_16_example_13.sce"
		   ]
		  },
  {
"cell_type": "code",
	   "execution_count": null,
	   "metadata": {
	    "collapsed": true
	   },
	   "outputs": [],
"source": [
"clc\n",
"//initialisation of variables\n",
"W= -10 //KN/m\n",
"r= 5 //m\n",
"//CALCULATIONS\n",
"Rav= -W*2*r/2\n",
"Rbv= Rav\n",
"function[y]=conv(x)\n",
"    y=125*(sin(x))^2*5*(sin(x))*5\n",
"endfunction\n",
"v=intg(0,%pi,conv)\n",
"function[y]=conk(x)\n",
"    y=25*(sin(x))^2*5\n",
"endfunction\n",
"k=intg(0,%pi,conk)\n",
"Rbh= v/k\n",
"Rah= Rbh\n",
"//RESULTS\n",
"printf ('Rav= %.2f KN',Rav)\n",
"printf (' \n Rbv=%.2f KN',Rbv)\n",
"printf (' \n Rah=%.2f KN',Rah)\n",
"printf (' \n Rbh=%.2f KN',Rbh) \n",
""
   ]
   }
,
{
		   "cell_type": "markdown",
		   "metadata": {},
		   "source": [
			"## Example 16.18: chapter_16_example_18.sce"
		   ]
		  },
  {
"cell_type": "code",
	   "execution_count": null,
	   "metadata": {
	    "collapsed": true
	   },
	   "outputs": [],
"source": [
"//CLC\n",
"x1= 7 //m\n",
"x2= 7 //m\n",
"x3= 4 //m\n",
"x4= 4 //m\n",
"x5= 4 //m\n",
"x6= 12 //m\n",
"x7= 4 //m\n",
"Fab= 12 //KN\n",
"Fbc1= 7 //KN\n",
"Fbc2= 7 //KN\n",
"Fcd= 22 //KN\n",
"Fe= 5 //KN\n",
"//CALCULATIONS\n",
"MfAB= -Fab*(x1+x2)/(x3+x4)\n",
"MfBC= -(Fbc1*x3*(x4+x5)^2/(x6)^2)-(Fbc2*x3^2*(x4+x5)/(x6)^2)\n",
"MfCD= -Fcd*x6/x6\n",
"MfDE= -Fe*x7\n",
"DFba= (3/(x1+x2))/((3/(x1+x2))+(4/(x3+x4+x5)))\n",
"DFbc= 1-DFba\n",
"DFcb= (4/(x3+x4+x5))/((3/(x6))+(4/(x3+x4+x5))) \n",
"DFcd= 1-DFcb\n",
"//RESULTS\n",
"printf('DFba = %.2f',DFba)\n",
"printf('DFbc = %.2f',DFbc)\n",
"printf('DFcb = %.2f',DFcb)\n",
"printf('DFcd = %.2f',DFcd)"
   ]
   }
,
{
		   "cell_type": "markdown",
		   "metadata": {},
		   "source": [
			"## Example 16.19: chapter_16_example_19.sce"
		   ]
		  },
  {
"cell_type": "code",
	   "execution_count": null,
	   "metadata": {
	    "collapsed": true
	   },
	   "outputs": [],
"source": [
"clc\n",
"//initialisation of variables\n",
"W1= 5 //KN/m\n",
"W2= 5 //KN/m\n",
"F= -40 //KN\n",
"l1= 6 //m\n",
"l2= 5 //m\n",
"l3= 5 //m\n",
"l4= 6 //m\n",
"//CALCULATIONS\n",
"Mfab= -W1*l1^2/12\n",
"Mfbc= F*l2/8\n",
"DFab= (3/l1)/((3/l1)+(2/(l2+l3)))\n",
"DFbc= 1-DFab\n",
"//RESULTS\n",
"printf ('MFab= %.f KN m',Mfab)\n",
"printf (' \n MFbc= %.f KN m',Mfbc)\n",
"printf (' \n DFab= %.2f ',DFab)\n",
"printf (' \n DFbc= %.2f.',DFbc)  "
   ]
   }
,
{
		   "cell_type": "markdown",
		   "metadata": {},
		   "source": [
			"## Example 16.1: chapter_16_example_1.sce"
		   ]
		  },
  {
"cell_type": "code",
	   "execution_count": null,
	   "metadata": {
	    "collapsed": true
	   },
	   "outputs": [],
"source": [
"clc\n",
"//initialisation of variables\n",
"M= 4\n",
"N= 3\n",
"r= 5\n",
"//CALCULATIONS\n",
"Ns= 3*(M-N+1)-r\n",
"nk= 3*N-M\n",
"//RESULTS\n",
"printf ('Ns= %.f ',Ns)\n",
"printf (' \n Nk= %.f ',nk)"
   ]
   }
,
{
		   "cell_type": "markdown",
		   "metadata": {},
		   "source": [
			"## Example 16.20: chapter_16_example_20.sce"
		   ]
		  },
  {
"cell_type": "code",
	   "execution_count": null,
	   "metadata": {
	    "collapsed": true
	   },
	   "outputs": [],
"source": [
"clc\n",
"//initialisation of variables\n",
"W= 6 //KN/m\n",
"F= 40 //KN\n",
"l1= 5 //m\n",
"l2= 3 //m\n",
"l3= 3 //m\n",
"l= 12 //mm\n",
"Smab= 9*10^6 //mm^4\n",
"Smbc= 12*10^6 //mm^4\n",
"E= 200000 //N/mm^2\n",
"//CALCULATIONS\n",
"MFab= (-W*l1^2/12)+((-W*Smab*E*l))/((l1*10^3)^2*10^6)\n",
"MFba= (W*l1^2/12)+((-W*Smab*E*l))/((l1*10^3)^2*10^6)\n",
"MFbc= -(F*(l2+l3)/8)+(3*E*Smbc*l)/(((l2+l3)*10^3)^2*10^6)\n",
"MFcb= (F*(l2+l3)/8)\n",
"DFba= ((4*E*Smab)/l1)/(((4*E*Smab)/l1)+((3*E*Smbc)/(l2+l3)))\n",
"DFbc= 1-DFba\n",
"//RESULTS\n",
"printf ('MFab= %.1f KN m',MFab)\n",
"printf (' \n MFbc= %.1f KN m',MFba)\n",
"printf (' \n MFbc= %.1f KN m',MFbc)\n",
"printf (' \n MFbc= %.1f KN m',MFcb)\n",
"printf (' \n DFab= %.2f ',DFba)\n",
"printf (' \n DFbc= %.2f.',DFbc)"
   ]
   }
,
{
		   "cell_type": "markdown",
		   "metadata": {},
		   "source": [
			"## Example 16.21: chapter_16_example_21.sce"
		   ]
		  },
  {
"cell_type": "code",
	   "execution_count": null,
	   "metadata": {
	    "collapsed": true
	   },
	   "outputs": [],
"source": [
"//CLC\n",
"x1= 4 //m\n",
"x2= 4 //m\n",
"x3= 4 //m\n",
"x4= 16 //m\n",
"F1= 12 //KN\n",
"F2= 12 //KN\n",
"F3= 1 //KNm\n",
"y= 12 //m\n",
"//CALCULATIONS\n",
"MFab= -(F1*x1*(x2+x3)^2/(y)^2)-(F2*x3^2*(x1+x2)/(y)^2)\n",
"MFbc= -F3*x4^2/y\n",
"DFad= (4/y)/((4/(x1+x2+x3))+(4/y))\n",
"DFab= 1-DFad\n",
"DFba=  (4/(x1+x2+x3))/((4/x4)+(3/y)+(4/(x1+x2+x3)))\n",
"DFbc= (4/x4)/((4/x4)+(3/y)+(4/(x1+x2+x3)))\n",
"DFbe= 1-DFba-DFbc\n",
"//RESULTS\n",
"printf('DFab = %.2f',DFab)\n",
"printf('DFbc = %.2f',DFbc)\n",
"printf('DFba = %.2f',DFba)\n",
"printf('DFad = %.2f',DFad)"
   ]
   }
,
{
		   "cell_type": "markdown",
		   "metadata": {},
		   "source": [
			"## Example 16.22: chapter_16_example_22.sce"
		   ]
		  },
  {
"cell_type": "code",
	   "execution_count": null,
	   "metadata": {
	    "collapsed": true
	   },
	   "outputs": [],
"source": [
"//CLC\n",
"x1= 5 //m\n",
"x2= 10 //m\n",
"y= 10 //m\n",
"Fb= 2 //KN\n",
"Fbc= 4 //KN\n",
"Rbc= 2\n",
"//CALCULATIONS\n",
"MFbc= -Fbc*x1*x2^2/(x1+x2)^2\n",
"MFcb= Fbc*x2*x1^2/(x1+x2)^2\n",
"DFba= (4/y)/((4/y)+(4*Rbc/(x1+x2)))\n",
"DFbc= 1-DFba\n",
"//RESULTS\n",
"printf('DFba = %.2f',DFba)\n",
"printf('DFbc = %.2f',DFbc)"
   ]
   }
,
{
		   "cell_type": "markdown",
		   "metadata": {},
		   "source": [
			"## Example 16.23: chapter_16_example_23.sce"
		   ]
		  },
  {
"cell_type": "code",
	   "execution_count": null,
	   "metadata": {
	    "collapsed": true
	   },
	   "outputs": [],
"source": [
"//CLC\n",
"x1= 6 //m\n",
"x2= 4.5 //m\n",
"y1= 3 //m\n",
"y2= 3 //m\n",
"Fba= 40 //KN\n",
"Fbc= 20 //KNm\n",
"//CALCULATIONS\n",
"MFba= -Fba*(y1+y2)/8\n",
"MFbc= Fbc*x1^2/12\n",
"x= sqrt(x1^2+x2^2)\n",
"DFba= (4/(y1+y2))/((4/(y1+y2))+(4/(x1)))\n",
"DFbc= 1-DFba\n",
"DFcb= (4/x1)/((4/x1)+(3/x))\n",
"DFcd= 1-DFcb\n",
"//RESULTS\n",
"printf('DFba = %.2f',DFba)\n",
"printf('DFbc = %.2f',DFbc)\n",
"printf('DFcb = %.3f',DFcb)\n",
"printf('DFcd = %.3f',DFcd)"
   ]
   }
,
{
		   "cell_type": "markdown",
		   "metadata": {},
		   "source": [
			"## Example 16.2: chapter_16_example_2.sce"
		   ]
		  },
  {
"cell_type": "code",
	   "execution_count": null,
	   "metadata": {
	    "collapsed": true
	   },
	   "outputs": [],
"source": [
"clc\n",
"//initialisation of variables\n",
"M= 17\n",
"N= 8\n",
"r= 27\n",
"st= 3\n",
"pt= 2\n",
"n= 8\n",
"//CALCULATIONS\n",
"ns= 3*(M-N+1)-r\n",
"nk= n*pt-st\n",
"//RESULTS\n",
"printf ('Ns= %.f ',ns)\n",
"printf (' \n Nk= %.f ',nk)"
   ]
   }
,
{
		   "cell_type": "markdown",
		   "metadata": {},
		   "source": [
			"## Example 16.3: chapter_16_example_3.sce"
		   ]
		  },
  {
"cell_type": "code",
	   "execution_count": null,
	   "metadata": {
	    "collapsed": true
	   },
	   "outputs": [],
"source": [
"clc\n",
"//initialisation of variables\n",
"M= 7\n",
"N= 6\n",
"r= 3\n",
"n= 6\n",
"df= 3\n",
"//CALCULATIONS\n",
"ns= 3*(M-N+1)-r\n",
"nk= n*df-r\n",
"//RESULTS\n",
"printf ('Ns= %.f ',ns)\n",
"printf (' \n Nk= %.f ',nk)"
   ]
   }
,
{
		   "cell_type": "markdown",
		   "metadata": {},
		   "source": [
			"## Example 16.4: chapter_16_example_4.sce"
		   ]
		  },
  {
"cell_type": "code",
	   "execution_count": null,
	   "metadata": {
	    "collapsed": true
	   },
	   "outputs": [],
"source": [
"clc\n",
"//initialisation of variables\n",
"M= 19\n",
"N= 13\n",
"r= 0\n",
"n= 6\n",
"no= 13\n",
"c= 24\n",
"//CALCULATIONS\n",
"ns= n*(M-N+1)-r\n",
"nk= n*no-c\n",
"//RESULTS\n",
"printf ('Ns= %.f ',ns)\n",
"printf (' \n Nk= %.f ',nk)"
   ]
   }
,
{
		   "cell_type": "markdown",
		   "metadata": {},
		   "source": [
			"## Example 16.7: chapter_16_example_7.sce"
		   ]
		  },
  {
"cell_type": "code",
	   "execution_count": null,
	   "metadata": {
	    "collapsed": true
	   },
	   "outputs": [],
"source": [
"clc\n",
"//initialisation of variables\n",
"F1= -6 //KN\n",
"F2= -10 //KN\n",
"W= -12 //KN/m\n",
"E= 200000 //N/mm^2\n",
"I= 12000 //mm^4\n",
"x1= 0.5 //m\n",
"x2= 0.5 //m\n",
"x3= 0.5 //m\n",
"x4= 0.5 //m\n",
"x5= 1.0 //m\n",
"//CALCULATIONS\n",
"vb0= 8.88/(E*I)\n",
"vc0= 9.089/(E*I)\n",
"a11= 0.45/(E*I)\n",
"a21= 0.39/(E*I)\n",
"a22= a11\n",
"a12= a21\n",
"A=[0.45 0.39;0.39 0.45]\n",
"b=[8.88;9.08]\n",
"c=A\b\n",
"R1=c(1,1)\n",
"R2=c(2,1)\n",
"Ra= -((F1*(x2+x3+x4+x5)+R1*(x3+x4+x5)+F2*(x4+x5)+R2*(x5)+(W*x5)*(x5/2)))/(x1+x2+x3+x4+x5)\n",
"Rd= -F1-F2-W*x5-R1-R2-Ra\n",
"//RESULTS\n",
"printf ('R1= %.2f KN',R1)\n",
"printf (' \n R2=%.2f KN',R2)\n",
"printf (' \n Ra=%.2f KN',Ra)\n",
"printf (' \n Rd=%.2f KN',Rd)"
   ]
   }
],
"metadata": {
		  "kernelspec": {
		   "display_name": "Scilab",
		   "language": "scilab",
		   "name": "scilab"
		  },
		  "language_info": {
		   "file_extension": ".sce",
		   "help_links": [
			{
			 "text": "MetaKernel Magics",
			 "url": "https://github.com/calysto/metakernel/blob/master/metakernel/magics/README.md"
			}
		   ],
		   "mimetype": "text/x-octave",
		   "name": "scilab",
		   "version": "0.7.1"
		  }
		 },
		 "nbformat": 4,
		 "nbformat_minor": 0
}
