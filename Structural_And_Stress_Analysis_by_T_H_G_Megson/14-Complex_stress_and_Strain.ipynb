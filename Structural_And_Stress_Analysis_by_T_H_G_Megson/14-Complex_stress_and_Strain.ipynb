{
"cells": [
 {
		   "cell_type": "markdown",
	   "metadata": {},
	   "source": [
       "# Chapter 14: Complex stress and Strain"
	   ]
	},
{
		   "cell_type": "markdown",
		   "metadata": {},
		   "source": [
			"## Example 14.10: chapter_14_example_10.sce"
		   ]
		  },
  {
"cell_type": "code",
	   "execution_count": null,
	   "metadata": {
	    "collapsed": true
	   },
	   "outputs": [],
"source": [
"clc\n",
"//initialisation of variables\n",
"BeamL= 250 //mm\n",
"BeamH= 500 //mm\n",
"spanlength= 4 //m\n",
"Failurestress= 1.5 //N/mm^2\n",
"//CALCULATIONS\n",
"W1= (Failurestress*BeamL*BeamH^3)/(10^3*BeamL*12)\n",
"W2= (4*Failurestress*BeamL*BeamH)/3\n",
"if(W1>W2)\n",
"    printf ('W2= %.2e kN',W2)\n",
"else\n",
"    printf ('W2= %.2e kN',W1)"
   ]
   }
,
{
		   "cell_type": "markdown",
		   "metadata": {},
		   "source": [
			"## Example 14.1: chapter_14_example_1.sce"
		   ]
		  },
  {
"cell_type": "code",
	   "execution_count": null,
	   "metadata": {
	    "collapsed": true
	   },
	   "outputs": [],
"source": [
"clc\n",
"//initialisation of variables\n",
"d= 2 //m\n",
"t= 20 //mm\n",
"p= 1.5 //N/mm^2\n",
"load= 2500 //KN\n",
"alpha= 60 //degrees\n",
"//CALCULATIONS\n",
"Cs= (p*d*10^3)/(2*t)\n",
"Ls= (p*d*10^3)/(4*t)\n",
"Ds= (load*10^3)/(%pi*d*t*10^3)\n",
"Ts= Ls+Ds\n",
"sigman= (Ts*t*(cosd(90-alpha))^2+Cs*t*(cosd(alpha))^2)/t\n",
"tab= Ts*sind(alpha)*cosd(alpha)-Cs*sind(alpha)*cosd(alpha)\n",
"tmax= (Ts-Cs)/2\n",
"//RESULTS\n",
"printf ('direct stress= %.1f N/mm^2',sigman)\n",
"printf (' \n Shear stress=%.1f N/mm^2',tab)\n",
"printf (' \n maximum Shear stress=%.1f N/mm^2',tmax)"
   ]
   }
,
{
		   "cell_type": "markdown",
		   "metadata": {},
		   "source": [
			"## Example 14.2: chapter_14_example_2.sce"
		   ]
		  },
  {
"cell_type": "code",
	   "execution_count": null,
	   "metadata": {
	    "collapsed": true
	   },
	   "outputs": [],
"source": [
"clc\n",
"//initialisation of variables\n",
"load= 50000 //N\n",
"torque= 1200 //Nm\n",
"d= 60//mm\n",
"t= 1.5 //mm\n",
"alpha= 60 //degrees \n",
"//CALCULATIONS\n",
"BM= load*t\n",
"axialload= (load*4)/(%pi*d^2)\n",
"bendingmoment= (BM*d*64)/(%pi*d^4*2)\n",
"Ts= axialload+bendingmoment\n",
"shearstress= (torque*10^3*d*32)/(2*%pi*d^4)\n",
"sigman= -Ts*(cosd(alpha-30))^2+shearstress*cosd(alpha-30)*sind(alpha-30)+shearstress*cosd(alpha-30)*sind(alpha-30)\n",
"T= -Ts*sind(alpha)*cosd(alpha)-shearstress*(sind(alpha))^2+shearstress*(cosd(alpha)^2)\n",
"//RESULTS\n",
"printf ('direct stress= %.1f N/mm^2',sigman)\n",
"printf (' \n Shear stress=%.1f N/mm^2',T)\n",
""
   ]
   }
,
{
		   "cell_type": "markdown",
		   "metadata": {},
		   "source": [
			"## Example 14.3: chapter_14_example_3.sce"
		   ]
		  },
  {
"cell_type": "code",
	   "execution_count": null,
	   "metadata": {
	    "collapsed": true
	   },
	   "outputs": [],
"source": [
"clc\n",
"//initialisation of variables\n",
"directstress= 80 //N.mm^2\n",
"shearstress= 45 //N/mm^2\n",
"//CALCULATIONS\n",
"Sx= directstress \n",
"Sy= 0\n",
"Txy= shearstress\n",
"sigma1= ((Sx+Sy)/2)+(sqrt((Sx-Sy)^2+4*Txy^2))/2\n",
"sigma2= ((Sx+Sy)/2)-(sqrt((Sx-Sy)^2+4*Txy^2))/2\n",
"theta= (atand(-((2*Txy)/(Sx-Sy))))/2\n",
"direction1= theta\n",
"direction2= theta-90\n",
"Tmax= (sigma1-sigma2) /2\n",
"theta1= direction1-45\n",
"theta2= direction2-45\n",
"//RESULTS\n",
"printf ('principal stress1= %.1f N/mm^2',sigma1)\n",
"printf (' \n principal stress2=%.1f N/mm^2',sigma2)\n",
"printf (' \n direction of principal stress1=%.1f degrees',direction1)\n",
"printf (' \n.direction of principal stress2=%.1f degrees',direction2)\n",
"printf (' \n.maximum shear stress=%.1f N/mm^2',Tmax)\n",
"printf (' \n.derection of plane1=%.1f degrees',theta1)\n",
"printf (' \n.derection of plane2=%.1f degrees',theta2)"
   ]
   }
,
{
		   "cell_type": "markdown",
		   "metadata": {},
		   "source": [
			"## Example 14.5: chapter_14_example_5.sce"
		   ]
		  },
  {
"cell_type": "code",
	   "execution_count": null,
	   "metadata": {
	    "collapsed": true
	   },
	   "outputs": [],
"source": [
"clc\n",
"//initialisation of variables\n",
"sigmax= 60 //N/mm^2\n",
"sigmay= -40 //N/mm^2\n",
"Txy= 50 //N/mm^2\n",
"E= 200000 //N/mm^2\n",
"mu= 0.3\n",
"//CALCULATIONS\n",
"Sx= (sigmax-mu*sigmay)/E\n",
"Sy= (sigmay-mu*sigmax)/E\n",
"G= E/(2*(1+mu))\n",
"gamaxy= Txy/G\n",
"e1= ((Sx+Sy)/2+(sqrt((Sx-Sy)^2+(gamaxy)^2))/2)\n",
"e2= ((Sx+Sy)-(sqrt((Sx-Sy)^2+gamaxy^2)))/2\n",
"theta= atand(-gamaxy/(Sx-Sy))/2\n",
"theta1= -90+theta\n",
"//RESULTS\n",
"printf ('direct strain in x direction= %.2e ',Sx)\n",
"printf (' \n direct strain in y direction=%.2e ',Sy)\n",
"printf (' \n Gamaxy=%.2e ',gamaxy)\n",
"printf (' \n.principal strain1=%.9e ',e1)\n",
"printf (' \n.principal strain2=%.9e ',e2)\n",
"printf (' \n.direction of plane1=%.1f degrees',theta)\n",
"printf (' \n.direction of plane2=%.1f degrees',theta1)"
   ]
   }
,
{
		   "cell_type": "markdown",
		   "metadata": {},
		   "source": [
			"## Example 14.6: chapter_14_example_6.sce"
		   ]
		  },
  {
"cell_type": "code",
	   "execution_count": null,
	   "metadata": {
	    "collapsed": true
	   },
	   "outputs": [],
"source": [
"clc\n",
"//initialisation of variables\n",
"ea= 1000*10^-6\n",
"eb= -200*10^-6\n",
"ec= -300*10^-6\n",
"sigmay= 0 //N/mm^2\n",
"E= 70000 //N/mm^2\n",
"mu= 0.3\n",
"d= 50 //mm\n",
"//CALCULATIONS\n",
"e1= ((ea+ec)/2)+sqrt(((ea-eb)^2+(ec-eb)^2)/2)\n",
"e2= ((ea+ec)/2)-sqrt(((ea-eb)^2+(ec-eb)^2)/2)\n",
"sigma1= (E*(e1+mu*e2))/(1-mu^2)\n",
"sigma2= (E*(e2+mu*e1))/(1-mu^2)\n",
"sigmax= sigma1+sigma2\n",
"Txy= sqrt((((sigma1*2)-(sigmax))^2-(sigmax^2)))/2\n",
"P= sigmax*((%pi/4)*(d^2))\n",
"T= Txy*((%pi/32)*(50^4)/25)\n",
"//RESULTS\n",
"printf ('T= %.2fNm',T) \n",
"printf ('\n P= %.2fN',P) "
   ]
   }
,
{
		   "cell_type": "markdown",
		   "metadata": {},
		   "source": [
			"## Example 14.7: chapter_14_example_7.sce"
		   ]
		  },
  {
"cell_type": "code",
	   "execution_count": null,
	   "metadata": {
	    "collapsed": true
	   },
	   "outputs": [],
"source": [
"clc\n",
"//initialisation of variables\n",
"sigmax= 140 //N/mm^2\n",
"sigmay= -70 //N/mm^2\n",
"Txy= 60 //N/mm^2\n",
"T= 225 //N/mm^2\n",
"//CALCULATIONS\n",
"sigma1= (sigmax+sigmay)/2+(sqrt((sigmax-sigmay)^2+4*(Txy^2)))/2\n",
"sigma2= (sigmax+sigmay)/2-(sqrt((sigmax-sigmay)^2+4*(Txy^2)))/2\n",
"sigmaY= sigma1-sigma2\n",
"sigmaY1= sqrt(sigma1^2+sigma2^2-sigma1*sigma2)\n",
"if(sigmaY>T)\n",
"    disp('Tresca theory failure has ocurred')\n",
"else\n",
"    disp('Tresca theory failed')\n",
"end\n",
"if(sigmaY1<T)\n",
"    disp('According to Von Mises theory material has not failed')\n",
"else\n",
"    disp('According to Von Mises theory material has failed')\n",
"end"
   ]
   }
,
{
		   "cell_type": "markdown",
		   "metadata": {},
		   "source": [
			"## Example 14.8: chapter_14_example_8.sce"
		   ]
		  },
  {
"cell_type": "code",
	   "execution_count": null,
	   "metadata": {
	    "collapsed": true
	   },
	   "outputs": [],
"source": [
"clc\n",
"//initialisation of variables\n",
"M= 250 //KNm\n",
"Torquemax= 200 //KNm\n",
"allowablestress= 180 //N/mm^2\n",
"L=250 //mm\n",
"B= 500 //mm\n",
"t= 10 //mm\n",
"t1= 12 //mm \n",
"//CALCULATIONS\n",
"Stressmax= (Torquemax*10^6)/(2*B*L*t)\n",
"I= (2*t1*L*L^2)+((2*t*B^3)/12)\n",
"sigma= (M*10^6*B)/(2*I)\n",
"Stressallowable= sqrt(sigma^2+3*(Stressmax^2))\n",
"if(Stressallowable<allowablestress)\n",
"    disp('Box grider section is satisfactory')\n",
"else\n",
"    disp('Box grider section is  not satisfactory')\n",
"end"
   ]
   }
,
{
		   "cell_type": "markdown",
		   "metadata": {},
		   "source": [
			"## Example 14.9: chapter_14_example_9.sce"
		   ]
		  },
  {
"cell_type": "code",
	   "execution_count": null,
	   "metadata": {
	    "collapsed": true
	   },
	   "outputs": [],
"source": [
"clc\n",
"//initialisation of variables\n",
"BeamL= 60 //mm\n",
"BeamB= 100 //mm\n",
"Load= 60000 //N\n",
"Stress=  150 //N/mm^2\n",
"//CALCULATIONS\n",
"sigmax= Load/(BeamL*BeamB)\n",
"stressmax1= sqrt((Stress/2)^2-(sigmax^2/4))\n",
"Sy1= (2*stressmax1*BeamL*BeamB)/3\n",
"stressmax2= sqrt((Stress^2-(sigmax^2/4))/3-(sigmax^2/4))\n",
"Sy2= (2*stressmax2*BeamL*BeamB)/3  \n",
"//RESULTS\n",
"printf ('Shear force using Tresca= %.2e N',Sy1)\n",
"printf (' \n Shear force using Von Misses=%.2e N',Sy2)"
   ]
   }
],
"metadata": {
		  "kernelspec": {
		   "display_name": "Scilab",
		   "language": "scilab",
		   "name": "scilab"
		  },
		  "language_info": {
		   "file_extension": ".sce",
		   "help_links": [
			{
			 "text": "MetaKernel Magics",
			 "url": "https://github.com/calysto/metakernel/blob/master/metakernel/magics/README.md"
			}
		   ],
		   "mimetype": "text/x-octave",
		   "name": "scilab",
		   "version": "0.7.1"
		  }
		 },
		 "nbformat": 4,
		 "nbformat_minor": 0
}
