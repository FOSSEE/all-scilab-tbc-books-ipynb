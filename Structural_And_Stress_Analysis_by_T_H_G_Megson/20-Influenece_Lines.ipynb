{
"cells": [
 {
		   "cell_type": "markdown",
	   "metadata": {},
	   "source": [
       "# Chapter 20: Influenece Lines"
	   ]
	},
{
		   "cell_type": "markdown",
		   "metadata": {},
		   "source": [
			"## Example 20.1: chapter_20_example_1.sce"
		   ]
		  },
  {
"cell_type": "code",
	   "execution_count": null,
	   "metadata": {
	    "collapsed": true
	   },
	   "outputs": [],
"source": [
"clc\n",
"//initialisation of variables\n",
"Xac= 2 //m\n",
"Xcb= 4 //m\n",
"Xbd= 2 //m\n",
"Wa= 1 //N\n",
"Wc= 1 //N\n",
"Wd= 1 //N\n",
"//CALCULATIONS\n",
"Rb= Wa*Xac/(Xac+Xcb)  \n",
"Sc= Rb\n",
"Ra= Wc*Xcb/(Xac+Xcb)\n",
"Sc1= -Ra\n",
"Ra1=-Wd*Xbd/(Xac+Xcb)\n",
"Mc= Ra*Xac\n",
"Mc1= Ra1*Xac\n",
"//RESULTS\n",
"printf ('Rb= %.2f KN',Rb)\n",
"printf (' \n Ra= %.2f KN ',Ra) \n",
"printf (' \n Ra= %.2f KN ',Ra1)\n",
"printf (' \n Mc= %.2f KN m',Mc1)"
   ]
   }
,
{
		   "cell_type": "markdown",
		   "metadata": {},
		   "source": [
			"## Example 20.2: chapter_20_example_2.sce"
		   ]
		  },
  {
"cell_type": "code",
	   "execution_count": null,
	   "metadata": {
	    "collapsed": true
	   },
	   "outputs": [],
"source": [
"clc\n",
"//initialisation of variables\n",
"xac= 2 //m\n",
"xcb= 4 //m\n",
"xbd= 2 //m\n",
"//CALCULATIONS\n",
"C1e= xac/((xac)+(xcb))\n",
"C1f= xcb/ ((xac)+(xcb))\n",
"C2h= 1/((1/xac)+(1/xcb))\n",
"//RESULTS\n",
"printf ('C1e= %.2f m',C1e)\n",
"printf (' \n C1f= %.2f m',C1f) \n",
"printf (' \n C2h= %.2f m',C2h)"
   ]
   }
,
{
		   "cell_type": "markdown",
		   "metadata": {},
		   "source": [
			"## Example 20.3: chapter_20_example_3.sce"
		   ]
		  },
  {
"cell_type": "code",
	   "execution_count": null,
	   "metadata": {
	    "collapsed": true
	   },
	   "outputs": [],
"source": [
"clc\n",
"//initialisation of variables\n",
"W1= 3 //KN\n",
"W2= 4 //KN\n",
"W3= 5 //KN\n",
"x1= 0.3 //m\n",
"x2= 0.1 //m\n",
"x3= 0.5 //m\n",
"x4= 0.7 //m\n",
"//CALCULATIONS\n",
"Skmax= W3*x1+W2*x2\n",
"Sk1= W1*(-x4)+W2*(-x3)+W3*(-x1)\n",
"Sk2= W1*(x2)+W2*(-x4)+W3*(-x3)\n",
"//RESULTS\n",
"printf ('Sk(max)= %.2f KN',Skmax)\n",
"printf (' \n Sk= %.2f KN',Sk1) \n",
"printf (' \n Sk= %.2f KN',Sk2)"
   ]
   }
,
{
		   "cell_type": "markdown",
		   "metadata": {},
		   "source": [
			"## Example 20.4: chapter_20_example_4.sce"
		   ]
		  },
  {
"cell_type": "code",
	   "execution_count": null,
	   "metadata": {
	    "collapsed": true
	   },
	   "outputs": [],
"source": [
"clc\n",
"//initialisation of variables\n",
"W= 2 //KN/m\n",
"l= 2 //m\n",
"x1= 0.05\n",
"x2= 0.25\n",
"x3= 0.75\n",
"x4= 0.55\n",
"x5= 1.5\n",
"x6= 1.875\n",
"l1= 0.5 //m\n",
"l2= 1.5 //m\n",
"//CALCULATIONS\n",
"Sk= W*l*(1/2)*(x1+x2)\n",
"Sk1= -W*l*(1/2)*(x3+x4)\n",
"Mk= W*((1/2)*(x5+x6)*l1+(1/2)*(x5+x6)*l2)\n",
"//RESULTS\n",
"printf ('Sk(max +)= %.2f KN',Sk)\n",
"printf (' \n Sk(max -)= %.2f KN',Sk1) \n",
"printf (' \n Mk(max)= %.2f KN m',Mk)"
   ]
   }
,
{
		   "cell_type": "markdown",
		   "metadata": {},
		   "source": [
			"## Example 20.6: chapter_20_example_6.sce"
		   ]
		  },
  {
"cell_type": "code",
	   "execution_count": null,
	   "metadata": {
	    "collapsed": true
	   },
	   "outputs": [],
"source": [
"clc\n",
"//initialisation of variables\n",
"W1= 9 //KN\n",
"W2= 15 //KN\n",
"W3= 15 //KN\n",
"W4= 8 //KN\n",
"W5= 8 //KN\n",
"x1= 2 //m\n",
"x2= 2.3 //m\n",
"x3= 2.7 //m\n",
"x4= 2.3 //m\n",
"l= 20 //m\n",
"l1= 10.105 //m\n",
"//CALCULATIONS\n",
"x= (W2*x1+W3*(x1+x2)+W4*(x1+x2+x3)+W5*(x1+x2+x3+x4))/(W1+W2+W3+W4)\n",
"Ra= (W1+W2+W3+W4+W5)*l1/l\n",
"Mk= ((W1+W2+W3+W4+W5)/l)*l1*l1-W1*(x1+x2)-W2*x2\n",
"//RESULTS\n",
"printf ('Ra= %.1f KN',Ra)\n",
"printf (' \n Mk= %.1f KN',Mk) "
   ]
   }
,
{
		   "cell_type": "markdown",
		   "metadata": {},
		   "source": [
			"## Example 20.7: chapter_20_example_7.sce"
		   ]
		  },
  {
"cell_type": "code",
	   "execution_count": null,
	   "metadata": {
	    "collapsed": true
	   },
	   "outputs": [],
"source": [
"clc\n",
"//initialisation of variables\n",
"W= 2.5 //KN/m\n",
"n= 8\n",
"x= 1.4 //m\n",
"y= 1.4 //m\n",
"l= 4 //m\n",
"x1= 2.5\n",
"x2= 3.2\n",
"x3= 0.25\n",
"x4= 0.3125\n",
"x5= 0.625\n",
"x6= 0.5\n",
"x7= 3.5\n",
"a= 45 //degrees\n",
"//CALCULATIONS\n",
"Fec= x1*x2*x3*(1/2)/sind(a)\n",
"Scd= W*(0.5*(x4+x5)*x6+0.5*(x5+x4)*x7)\n",
"Fec1= Scd/sind(a)\n",
"//RESULTS\n",
"printf ('Maximum compressive force= %.2f KN',Fec)\n",
"printf (' \n Maximum tensile force= %.2f KN',Fec1)"
   ]
   }
,
{
		   "cell_type": "markdown",
		   "metadata": {},
		   "source": [
			"## Example 20.8: chapter_20_example_8.sce"
		   ]
		  },
  {
"cell_type": "code",
	   "execution_count": null,
	   "metadata": {
	    "collapsed": true
	   },
	   "outputs": [],
"source": [
"clc\n",
"//initialisation of variables\n",
"W= 1.5 //KN/m\n",
"W1= 1 //KN/m\n",
"n=10\n",
"x= 0.9 //m\n",
"y= 1.2 //m\n",
"x1= 5\n",
"x2= 0.5\n",
"x3= 4\n",
"x4= 0.4\n",
"x5= 6\n",
"x6= 0.6\n",
"x7= 3\n",
"x8= 0.3\n",
"//CALCULATIONS\n",
"S5= -1*0.5*x1*x2+2.5*0.5*x3*x4\n",
"S51= -1*0.5*x5*x6+2.5*0.5*x7*x8\n",
"//RESULTS\n",
"printf ('S5= %.2f KN',S5)\n",
"printf (' \n S4= %.2f KN',S51)"
   ]
   }
],
"metadata": {
		  "kernelspec": {
		   "display_name": "Scilab",
		   "language": "scilab",
		   "name": "scilab"
		  },
		  "language_info": {
		   "file_extension": ".sce",
		   "help_links": [
			{
			 "text": "MetaKernel Magics",
			 "url": "https://github.com/calysto/metakernel/blob/master/metakernel/magics/README.md"
			}
		   ],
		   "mimetype": "text/x-octave",
		   "name": "scilab",
		   "version": "0.7.1"
		  }
		 },
		 "nbformat": 4,
		 "nbformat_minor": 0
}
