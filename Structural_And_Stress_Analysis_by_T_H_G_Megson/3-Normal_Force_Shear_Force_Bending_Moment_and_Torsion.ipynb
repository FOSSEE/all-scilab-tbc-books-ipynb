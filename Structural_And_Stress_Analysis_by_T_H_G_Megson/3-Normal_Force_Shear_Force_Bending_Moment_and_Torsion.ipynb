{
"cells": [
 {
		   "cell_type": "markdown",
	   "metadata": {},
	   "source": [
       "# Chapter 3: Normal Force Shear Force Bending Moment and Torsion"
	   ]
	},
{
		   "cell_type": "markdown",
		   "metadata": {},
		   "source": [
			"## Example 3.12: chapter_3_example_12.sce"
		   ]
		  },
  {
"cell_type": "code",
	   "execution_count": null,
	   "metadata": {
	    "collapsed": true
	   },
	   "outputs": [],
"source": [
"clc\n",
"//initialisation of variables\n",
"Mb= 10 //KN\n",
"Mc= -8 //KN\n",
"x1= 1 //m\n",
"x2= 2 //m\n",
"//CALCULATIONS\n",
"Tab= Mb+Mc\n",
"Tbc= Mc\n",
"//RESULTS\n",
"printf ('Tab= %.f KN ',Tab)\n",
"printf (' \n Tbc= %.f KN',Tbc)"
   ]
   }
,
{
		   "cell_type": "markdown",
		   "metadata": {},
		   "source": [
			"## Example 3.1: chapter_3_example_1.sce"
		   ]
		  },
  {
"cell_type": "code",
	   "execution_count": null,
	   "metadata": {
	    "collapsed": true
	   },
	   "outputs": [],
"source": [
"clc\n",
"//initialisation of variables\n",
"Rah= -10 //KN\n",
"F= 10 //KN\n",
"//CALCULATIONS\n",
"Nab= -Rah\n",
"//RESULTS\n",
"printf ('Nab= %.f kN',Nab)"
   ]
   }
,
{
		   "cell_type": "markdown",
		   "metadata": {},
		   "source": [
			"## Example 3.2: chapter_3_example_2.sce"
		   ]
		  },
  {
"cell_type": "code",
	   "execution_count": null,
	   "metadata": {
	    "collapsed": true
	   },
	   "outputs": [],
"source": [
"clc\n",
"//initialisation of variables\n",
"Rah= -10 //KN\n",
"Fb= 10 //KN\n",
"//CALCULATIONS\n",
"Nab= -Rah\n",
"Nbc= Rah+Fb\n",
"//RESULTS\n",
"printf ('Nab= %.3f KN (tension)',Nab)\n",
"printf (' \n Nbc= %.2f KN',Nbc)"
   ]
   }
,
{
		   "cell_type": "markdown",
		   "metadata": {},
		   "source": [
			"## Example 3.3: chapter_3_example_3.sce"
		   ]
		  },
  {
"cell_type": "code",
	   "execution_count": null,
	   "metadata": {
	    "collapsed": true
	   },
	   "outputs": [],
"source": [
"clc\n",
"//initialisation of variables\n",
"Fb= -2 //KN\n",
"Fc= 6//KN\n",
"Fd= 4 //KN\n",
"a1= 60 //degrees\n",
"a2= 60 //degrees\n",
"//CALCULATIONS\n",
"Rah= Fd*cosd(a2)-Fc*cosd(a1)\n",
"Nac= Rah\n",
"Ncd= Fd*cosd(a2)\n",
"//RESULTS\n",
"printf ('Rah= %.3f KN',Rah)\n",
"printf (' \n Nac=%.2f KN(compression)',Nac)\n",
"printf (' \n Ncd=%.3f KN(tension)',Ncd)"
   ]
   }
],
"metadata": {
		  "kernelspec": {
		   "display_name": "Scilab",
		   "language": "scilab",
		   "name": "scilab"
		  },
		  "language_info": {
		   "file_extension": ".sce",
		   "help_links": [
			{
			 "text": "MetaKernel Magics",
			 "url": "https://github.com/calysto/metakernel/blob/master/metakernel/magics/README.md"
			}
		   ],
		   "mimetype": "text/x-octave",
		   "name": "scilab",
		   "version": "0.7.1"
		  }
		 },
		 "nbformat": 4,
		 "nbformat_minor": 0
}
