{
"cells": [
 {
		   "cell_type": "markdown",
	   "metadata": {},
	   "source": [
       "# Chapter 18: Plastic Analysis of Beams and Frames"
	   ]
	},
{
		   "cell_type": "markdown",
		   "metadata": {},
		   "source": [
			"## Example 18.1: chapter_18_example_1.sce"
		   ]
		  },
  {
"cell_type": "code",
	   "execution_count": null,
	   "metadata": {
	    "collapsed": true
	   },
	   "outputs": [],
"source": [
"clc\n",
"//initialisation of variables\n",
"sigmay= 100 //N/mm^2\n",
"b= 10 //mm\n",
"d= 12 //mm\n",
"//CALCULATIONS\n",
"My= sigmay*b*d^3*2/(d*12)\n",
"Mp= sigmay*b*(d/2)*(d/2)\n",
"f= Mp/My\n",
"//RESULTS\n",
"printf ('f= %.1f',f)"
   ]
   }
,
{
		   "cell_type": "markdown",
		   "metadata": {},
		   "source": [
			"## Example 18.2: chapter_18_example_2.sce"
		   ]
		  },
  {
"cell_type": "code",
	   "execution_count": null,
	   "metadata": {
	    "collapsed": true
	   },
	   "outputs": [],
"source": [
"clc\n",
"//initialisation of variables\n",
"d= 300 //mm\n",
"b= 150 //mm\n",
"tw= 8 //mm\n",
"tf= 12 //mm\n",
"//CALCULATIONS\n",
"Zp= b*tf*(d-tf)+(tw*((d-2*tf)^2))/4\n",
"Ze= (2/d)*((b*d^3)/12-((b-tw)*(d-2*tf)^3)/12)\n",
"f= Zp/Ze\n",
"//RESULTS\n",
"printf ('f= %.2f',f)"
   ]
   }
,
{
		   "cell_type": "markdown",
		   "metadata": {},
		   "source": [
			"## Example 18.3: chapter_18_example_3.sce"
		   ]
		  },
  {
"cell_type": "code",
	   "execution_count": null,
	   "metadata": {
	    "collapsed": true
	   },
	   "outputs": [],
"source": [
"clc\n",
"//initialisation of variables\n",
"d= 200 //mm\n",
"b= 150 //mm\n",
"tw= 7 //mm\n",
"tf= 10 //mm\n",
"//CALCULATIONS\n",
"ye= (b*tf*(tf/2)+(d-tf)*tw*((d+tf)/2))/(b*tf+(d-tf)*tw)\n",
"I= ((b*ye^3)/3)-(b-tw)*(((ye-tf)^3)/3)+(tw*((d-ye)^3)/3)\n",
"Ze= I/(d-ye)\n",
"yp= (b*tf+(d-tf)*tw)/(2*b)\n",
"Zp= b*yp*yp/2+b*(tf-yp)*(tf-yp)/2+(d-tf)*tw*((d-tf)/2+(tf-yp))\n",
"f= Zp/Ze\n",
"//RESULTS\n",
"printf ('fie= %.2f',f)"
   ]
   }
,
{
		   "cell_type": "markdown",
		   "metadata": {},
		   "source": [
			"## Example 18.7: chapter_18_example_7.sce"
		   ]
		  },
  {
"cell_type": "code",
	   "execution_count": null,
	   "metadata": {
	    "collapsed": true
	   },
	   "outputs": [],
"source": [
"clc\n",
"//initialisation of variables\n",
"Load= 100 //KN\n",
"Length= 10 //m\n",
"yieldstress= 300 //N/mm^2\n",
"loadfactor= 1.5\n",
"//CALCULATIONS\n",
"requiredultimateload= loadfactor*Load\n",
"Mp= requiredultimateload*Length/6\n",
"Zp= Mp/yieldstress\n",
"//RESULTS\n",
"printf ('Zp= %.1e mm^3',Zp)\n",
"disp('The appropriate beam for this is 406*140*49')"
   ]
   }
],
"metadata": {
		  "kernelspec": {
		   "display_name": "Scilab",
		   "language": "scilab",
		   "name": "scilab"
		  },
		  "language_info": {
		   "file_extension": ".sce",
		   "help_links": [
			{
			 "text": "MetaKernel Magics",
			 "url": "https://github.com/calysto/metakernel/blob/master/metakernel/magics/README.md"
			}
		   ],
		   "mimetype": "text/x-octave",
		   "name": "scilab",
		   "version": "0.7.1"
		  }
		 },
		 "nbformat": 4,
		 "nbformat_minor": 0
}
