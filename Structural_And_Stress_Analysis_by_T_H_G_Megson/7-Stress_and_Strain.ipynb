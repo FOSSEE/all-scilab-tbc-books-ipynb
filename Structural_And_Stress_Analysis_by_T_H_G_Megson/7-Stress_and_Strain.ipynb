{
"cells": [
 {
		   "cell_type": "markdown",
	   "metadata": {},
	   "source": [
       "# Chapter 7: Stress and Strain"
	   ]
	},
{
		   "cell_type": "markdown",
		   "metadata": {},
		   "source": [
			"## Example 7.1: chapter_7_example_1.sce"
		   ]
		  },
  {
"cell_type": "code",
	   "execution_count": null,
	   "metadata": {
	    "collapsed": true
	   },
	   "outputs": [],
"source": [
"clc\n",
"//initialisation of variables\n",
"P= 800*10^3\n",
"sigmamax= 400\n",
"//CALCULATIONS\n",
"Amin= P/sigmamax\n",
"B= sqrt(Amin/2)\n",
"//RESULTS\n",
"printf ('Amin= %.2f mm^2',Amin)\n",
"printf (' \n B=%.2f mm(Therefore the min dimensions of the column cross section are 31.6mm*63.2mm)',B)"
   ]
   }
,
{
		   "cell_type": "markdown",
		   "metadata": {},
		   "source": [
			"## Example 7.2: chapter_7_example_2.sce"
		   ]
		  },
  {
"cell_type": "code",
	   "execution_count": null,
	   "metadata": {
	    "collapsed": true
	   },
	   "outputs": [],
"source": [
"clc\n",
"//initialisation of variables\n",
"x1= %pi/4\n",
"y= 350^2-300^2\n",
"W= 2000*10^3\n",
"E= 200000\n",
"h= 5*10^3\n",
"//CALCULATIONS\n",
"A= x1*y\n",
"sigma= -(W/A)\n",
"epsilon= (sigma/E)\n",
"delta= -(epsilon*h)\n",
"//RESULTS\n",
"printf ('A= %.2f mm^2',A)\n",
"printf (' \n sigma=%.2f N/mm^2',sigma)\n",
"printf (' \n epsilon=%.5f ',epsilon)\n",
"printf (' \n delta=%.2f mm',delta)"
   ]
   }
,
{
		   "cell_type": "markdown",
		   "metadata": {},
		   "source": [
			"## Example 7.3: chapter_7_example_3.sce"
		   ]
		  },
  {
"cell_type": "code",
	   "execution_count": null,
	   "metadata": {
	    "collapsed": true
	   },
	   "outputs": [],
"source": [
"clc\n",
"//initialisation of variables\n",
"W= 10*10^3 //KN\n",
"L= 500 //mm\n",
"D= 200 //mm\n",
"T= 2 //mm\n",
"G= 25000 //N/mm^2\n",
"//CALCULATIONS\n",
"Tav= W/(D*T)\n",
"gama= Tav/G\n",
"deltas= gama*L\n",
"//RESULTS\n",
"printf ('Tav= %.2f N/mm^2',Tav)\n",
"printf (' \n gama=%.3f rad',gama)\n",
"printf (' \n deltas=%.2f mm',deltas)"
   ]
   }
,
{
		   "cell_type": "markdown",
		   "metadata": {},
		   "source": [
			"## Example 7.4: chapter_7_example_4.sce"
		   ]
		  },
  {
"cell_type": "code",
	   "execution_count": null,
	   "metadata": {
	    "collapsed": true
	   },
	   "outputs": [],
"source": [
"clc\n",
"//initialisation of variables\n",
"mu= 0.3\n",
"E= 200000 //N/mm^2\n",
"R= 0.1*10^-2\n",
"//CALCULATIONS\n",
"K= E/(3*(1-2*mu))\n",
"sigma= R*K\n",
"linearstrain= R/3\n",
"//RESULTS\n",
"printf ('K= %.f N/mm^2',K)\n",
"printf (' \n sigma=%.f N/mm^2',sigma)\n",
"printf (' \n linearstarin=%.5f ',linearstrain)"
   ]
   }
,
{
		   "cell_type": "markdown",
		   "metadata": {},
		   "source": [
			"## Example 7.5: chapter_7_example_5.sce"
		   ]
		  },
  {
"cell_type": "code",
	   "execution_count": null,
	   "metadata": {
	    "collapsed": true
	   },
	   "outputs": [],
"source": [
"clc\n",
"//initialisation of variables\n",
"x1= 4\n",
"x2= %pi/x1\n",
"L= 400 //mm\n",
"h= 5 //m\n",
"d=20 //mm\n",
"W= 1000*10^3 //KN\n",
"Ys= 200000 //N/mm^2\n",
"Yc= 15000 //N/mm^2\n",
"//CALCULATIONS\n",
"As= x1*x2*(d^2)\n",
"Ac= L^2-As\n",
"sigmas= (Ys*W)/(Ac*Yc+As*Ys)\n",
"sigmac= (Yc*W)/(Ac*Yc+As*Ys)\n",
"delta= (sigmac*h*10^3)/(Yc)\n",
"//RESULTS\n",
"printf ('As= %.f mm^2',As)\n",
"printf (' \n Ac=% f mm^2',Ac)\n",
"printf (' \n sigmas=%.f N/mm^2(stress in the steel)',sigmas)\n",
"printf (' \n sigmac=%.1f N/mm^2(stress in the concrete)',sigmac)\n",
"printf (' \n delta;=%.1f mm(shortening of the column)',delta)\n",
""
   ]
   }
,
{
		   "cell_type": "markdown",
		   "metadata": {},
		   "source": [
			"## Example 7.6: chapter_7_example_6.sce"
		   ]
		  },
  {
"cell_type": "code",
	   "execution_count": null,
	   "metadata": {
	    "collapsed": true
	   },
	   "outputs": [],
"source": [
"clc\n",
"//initialisation of variables\n",
"Ao= 2*300 //mm^2\n",
"Eo= 80000 //N/mm^2\n",
"Ei= 200000 //N/mm^2\n",
"Ai= 300 //mm^2\n",
"P= 100*10^3 //KN\n",
"deltaT= 100 //degrees\n",
"alphai= 1.2*10^-5 ///degreesc\n",
"alphao= 1.85*10^-5 ///degreesc\n",
"L= 4*10^3 //mm\n",
"//CALCULATIONS\n",
"sigmaiload= (Ei*P)/(Ao*Eo+Ai*Ei)\n",
"sigmaoload= (Eo*P)/(Ao*Eo+Ai*Ei)\n",
"sigmaotemp= (deltaT*(alphai-alphao)*Eo*Ai*Ei)/(Ao*Eo+Ai*Ei)\n",
"sigmaitemp= (deltaT*(alphai-alphao)*Eo*Ao*Ei)/(Ao*Eo+Ai*Ei)\n",
"sigmai= sigmaiload+sigmaitemp\n",
"sigmao= sigmaoload-sigmaotemp\n",
"deltaload= (P*L)/(Ao*Eo+Ai*Ei)\n",
"deltatemp= (L*deltaT)*(alphao*Ao*Eo+alphai*Ai*Ei)/(Ao*Eo+Ai*Ei)\n",
"displacement= deltatemp-deltaload\n",
"//RESULTS\n",
"printf ('sigmai= %.2f N/mm^2(stress in the column)',sigmai)\n",
"printf (' \n sigmao=% f N/mm^2(stress in the column)',sigmao)\n",
"printf (' \n displacement=% f mm(elongation)',displacement)\n",
"\n",
"\n",
"\n",
""
   ]
   }
,
{
		   "cell_type": "markdown",
		   "metadata": {},
		   "source": [
			"## Example 7.7: chapter_7_example_7.sce"
		   ]
		  },
  {
"cell_type": "code",
	   "execution_count": null,
	   "metadata": {
	    "collapsed": true
	   },
	   "outputs": [],
"source": [
"clc\n",
"//initialisation of variables\n",
"A= 120*300 //mm^2\n",
"At= 6*300 //mm^2\n",
"Ec= 150 //N/mm^2\n",
"Et= 150*15 //N/mm^2\n",
"P= 150*10^3 //N\n",
"//CALCULATIONS\n",
"Ac= A-At\n",
"sigmaci= (Ec*At)/Ac\n",
"F= Ac*sigmaci\n",
"stressintheconcrete= (sigmaci)-((Ec*P)/(Ac*Ec+At*Et))\n",
"stressinthesteel= (F/At)+((Et*P)/(Ac*Ec+At*Et))\n",
"printf ('stressintheconcrete= %.1f N/mm^2(compression)',stressintheconcrete)\n",
"printf (' \n stressinthesteel=% f N/mm^2(tension)',stressinthesteel)"
   ]
   }
,
{
		   "cell_type": "markdown",
		   "metadata": {},
		   "source": [
			"## Example 7.8: chapter_7_example_8.sce"
		   ]
		  },
  {
"cell_type": "code",
	   "execution_count": null,
	   "metadata": {
	    "collapsed": true
	   },
	   "outputs": [],
"source": [
"clc\n",
"//initialisation of variables\n",
"sigmac= 400 //N/mm^2\n",
"fs= 6\n",
"d= 2*10^3 //mm\n",
"t= 20 //mm\n",
"E= 200000 //N/mm^2\n",
"mu= 0.3\n",
"//CALCULATIONS\n",
"p= (sigmac*2*t)/(d*6)\n",
"volumestrain= (p*d)*((5/4)-mu)/(t*E)\n",
"//RESULTS\n",
"printf ('p= %.2f N/mm^2',p)\n",
"printf (' \n volumestrain=% f percent',volumestrain)"
   ]
   }
],
"metadata": {
		  "kernelspec": {
		   "display_name": "Scilab",
		   "language": "scilab",
		   "name": "scilab"
		  },
		  "language_info": {
		   "file_extension": ".sce",
		   "help_links": [
			{
			 "text": "MetaKernel Magics",
			 "url": "https://github.com/calysto/metakernel/blob/master/metakernel/magics/README.md"
			}
		   ],
		   "mimetype": "text/x-octave",
		   "name": "scilab",
		   "version": "0.7.1"
		  }
		 },
		 "nbformat": 4,
		 "nbformat_minor": 0
}
