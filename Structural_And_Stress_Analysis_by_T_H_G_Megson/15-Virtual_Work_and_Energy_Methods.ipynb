{
"cells": [
 {
		   "cell_type": "markdown",
	   "metadata": {},
	   "source": [
       "# Chapter 15: Virtual Work and Energy Methods"
	   ]
	},
{
		   "cell_type": "markdown",
		   "metadata": {},
		   "source": [
			"## Example 15.3: chapter_15_example_3.sce"
		   ]
		  },
  {
"cell_type": "code",
	   "execution_count": null,
	   "metadata": {
	    "collapsed": true
	   },
	   "outputs": [],
"source": [
"clc\n",
"//initialisation of variables\n",
"Xae= 3 //m\n",
"Ycd= 4 //m\n",
"Yde= 4 //m\n",
"Fc= 30 //KN\n",
"//CALCULATIONS\n",
"Fba= Fc*Ycd/Xae\n",
"//RESULTS\n",
"printf ('Fba= %.2fKN',Fba)"
   ]
   }
],
"metadata": {
		  "kernelspec": {
		   "display_name": "Scilab",
		   "language": "scilab",
		   "name": "scilab"
		  },
		  "language_info": {
		   "file_extension": ".sce",
		   "help_links": [
			{
			 "text": "MetaKernel Magics",
			 "url": "https://github.com/calysto/metakernel/blob/master/metakernel/magics/README.md"
			}
		   ],
		   "mimetype": "text/x-octave",
		   "name": "scilab",
		   "version": "0.7.1"
		  }
		 },
		 "nbformat": 4,
		 "nbformat_minor": 0
}
