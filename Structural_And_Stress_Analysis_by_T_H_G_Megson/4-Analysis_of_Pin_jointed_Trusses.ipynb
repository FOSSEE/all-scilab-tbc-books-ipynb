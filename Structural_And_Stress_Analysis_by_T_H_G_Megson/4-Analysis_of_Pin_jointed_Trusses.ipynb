{
"cells": [
 {
		   "cell_type": "markdown",
	   "metadata": {},
	   "source": [
       "# Chapter 4: Analysis of Pin jointed Trusses"
	   ]
	},
{
		   "cell_type": "markdown",
		   "metadata": {},
		   "source": [
			"## Example 4.2: chapter_4_example_2.sce"
		   ]
		  },
  {
"cell_type": "code",
	   "execution_count": null,
	   "metadata": {
	    "collapsed": true
	   },
	   "outputs": [],
"source": [
"clc\n",
"//initialisation of variables\n",
"F1= -2 //KN\n",
"F2= -3 //KN\n",
"F3= -1 //KN\n",
"x1= 2 //m\n",
"x2= 1.5 //m\n",
"x3= 1 //m\n",
"x4= 0.5 //m\n",
"//CALCULATIONS\n",
"Ra= (-F2*x4-F3*x3-F1*x2)/x1\n",
"Rd= -F1-F2-F3-Ra\n",
"Fab= -2.75/sind(60)\n",
"Fae= -Fab*cosd(60)\n",
"Fba= Fab\n",
"Fbe= (-2-Fba*cosd(30))/cosd(30)\n",
"Fbc= Fba*cosd(60)-Fbe*cosd(60)\n",
"Fdc= -Rd/sind(60)\n",
"Fde= -Fdc*cosd(60)\n",
"Fce= (-3-Fdc*cosd(30))/cosd(30)\n",
"//RESULTS\n",
"printf ('Ra= %.2f KN',Ra)\n",
"printf (' \n Rd=%.2f KN',Rd)\n",
"printf (' \n Fab=%.2f KN(compression)',Fab)\n",
"printf (' \n Fae=%.2f KN(tension)',Fae)\n",
"printf (' \n Fbe=%.2f KN(tension)',Fbe)\n",
"printf (' \n Fbc=%.2f KN(compression)',Fbc)\n",
"printf (' \n Fdc=%.2f KN(compression)',Fdc)\n",
"printf (' \n Fde=%.2f KN(tension)',Fde)\n",
"printf (' \n Fce=%.2f KN(tension)',Fce)"
   ]
   }
,
{
		   "cell_type": "markdown",
		   "metadata": {},
		   "source": [
			"## Example 4.3: chapter_4_example_3.sce"
		   ]
		  },
  {
"cell_type": "code",
	   "execution_count": null,
	   "metadata": {
	    "collapsed": true
	   },
	   "outputs": [],
"source": [
"clc\n",
"//initialisation of variables\n",
"Re= -4 //KN\n",
"Rh= -6 //KN\n",
"Ro= 2 //KN\n",
"x1= 1 //m\n",
"x2= 3 //m\n",
"x3= 5 //m\n",
"x4= 4 //m\n",
"//CALCULATIONS\n",
"Rb= (Ro*x1-Re*x2-Rh*x3)/8\n",
"Rav= (-Ro*x1-Re*x3-Rh*x2)/8\n",
"Rah= Ro\n",
"Fcf= (Rav+Re)/cosd(45)\n",
"Fcd= (-Re*x1-Rav*x4-Ro*x1)/x1\n",
"Fef= (Rav*x2+Ro*x1)/x1\n",
"//RESULTS\n",
"printf ('Rb= %.1f KN',Rb)\n",
"printf (' \n Rav=%.1f KN',Rav)\n",
"printf (' \n Rah=%.f KN',Rah)\n",
"printf (' \n Fcf=%.2f KN',Fcf)\n",
"printf (' \n Fcd=%.f KN',Fcd)\n",
"printf (' \n Fef=%.1f KN',Fef)"
   ]
   }
,
{
		   "cell_type": "markdown",
		   "metadata": {},
		   "source": [
			"## Example 4.4: chapter_4_example_4.sce"
		   ]
		  },
  {
"cell_type": "code",
	   "execution_count": null,
	   "metadata": {
	    "collapsed": true
	   },
	   "outputs": [],
"source": [
"clc\n",
"//initialisation of variables\n",
"Rav= 1 //KN\n",
"Re= 4 //KN\n",
"Xac= 1.5 //m\n",
"Xce= 1.5 //m\n",
"Fd= -5 //KN\n",
"Rah= -3 //KN\n",
"xa= 0 //m\n",
"ya= 0 //m\n",
"xc= 1.5 //m\n",
"yc= 0//m\n",
"xe= 3 //m\n",
"ye= 0 //m\n",
"xf= 3 //m\n",
"yf= 1.5 //m\n",
"xd= 1.5 //m\n",
"yd= 1.5 //m\n",
"xb= 0 //m\n",
"yb= 1.5 //m\n",
"Yef= 1.5 //m\n",
"Fb= 3 //KN\n",
"//CALCULATIONS\n",
"tac= -Rah/(xc-xa)\n",
"tab= -Rav/(yb-ya)\n",
"tba= tab\n",
"tbc= -tba*(ya-yb)/(yc-yb)\n",
"tbd= (-Fb-tbc*(xc-xb))/(xd-xb)\n",
"tdb= tbd\n",
"tdf= -tdb*(xb-xd)/(xf-xd)\n",
"tdc= (-Fd-tdb*(yb-yd))/(yc-yd)\n",
"tec= 0\n",
"tfe= -Re/(yf-ye)\n",
"tfc= (-tdf*(xd-xf)-tfe*(xe-xf))/(xc-xf)\n",
"Tab= tab*(yb-ya)\n",
"Tac= tac*(xc-xa)\n",
"Tbc= tbc*sqrt((xb-xc)^2+(yb-yc)^2)\n",
"Tbd= tbd*(xd-xb)\n",
"Tdf= tdf*(xf-xd)\n",
"Tdc= tdc*(yd-yc)\n",
"Tfc= tfc*sqrt((xf-xc)^2+(yf-yc)^2)\n",
"Tfe= tfe*(yf-ye)\n",
"Tec= tec*(xe-xc)\n",
"//RESULTS\n",
"printf ('Tab= %.2f KN(compression)',Tab)\n",
"printf (' \n Tac=%.2f KN(tension)',Tac)\n",
"printf (' \n Tbc=%.2f KN(tension)',Tbc)\n",
"printf (' \n Tbd=%.2f KN(compression)',Tbd)\n",
"printf (' \n Tdf=%.2f KN(compression)',Tdf)\n",
"printf (' \n Tdc=%.2f KN(compression)',Tdc)\n",
"printf (' \n Tfc=%.2f KN(tension)',Tfc)\n",
"printf (' \n Tfe=%.2f KN(compression)',Tfe)\n",
"printf (' \n Tec=%.2f KN(tension)',Tec)"
   ]
   }
,
{
		   "cell_type": "markdown",
		   "metadata": {},
		   "source": [
			"## Example 4.6: chapter_4_example_6.sce"
		   ]
		  },
  {
"cell_type": "code",
	   "execution_count": null,
	   "metadata": {
	    "collapsed": true
	   },
	   "outputs": [],
"source": [
"clc\n",
"//initialisation of variables\n",
"xa= -2\n",
"ya= -2\n",
"za= -4\n",
"xb= -2\n",
"yb= -2\n",
"zb= 2\n",
"xc= 2\n",
"yc= -2\n",
"zc= -4\n",
"xd= 2\n",
"yd= -2\n",
"zd= 2\n",
"xf= 0\n",
"yf= 0\n",
"zf= 0\n",
"xe= 0\n",
"ye= 0\n",
"ze= -2\n",
"Fe= -60 //KN\n",
"Ff= 40 //KN\n",
"//CALCULATIONS\n",
"A=[(xd-xf),(xb-xf),(xe-xf); (yd-yf),(yb-yf),(ye-yf); (zd-zf),(zb-zf),(ze-zf)]\n",
"b=[Ff;0;0]\n",
"c=A\b\n",
"tfd= c(1,1)\n",
"tfb= c(2,1)\n",
"tfe= c(3,1)\n",
"B=[(xb-xe),(xc-xe),(xa-xe); (yb-ye),(yc-ye),(ya-ye); (zb-ze),(zc-ze),(za-ze)]\n",
"e=[0-tfe*(xf-xe);-Fe-tfe*(yf-ye);-tfe*(zf-ze)]\n",
"f=B\e\n",
"teb= f(1,1)\n",
"tec= f(2,1)\n",
"tea= f(3,1)\n",
"Lfb= sqrt((xb-xf)^2+(yb-yf)^2+(zb-zf)^2)\n",
"Lfd= sqrt((xd-xf)^2+(yd-yf)^2+(zd-zf)^2)\n",
"Lfe= sqrt((xe-xf)^2+(ye-yf)^2+(ze-zf)^2)\n",
"Lec= sqrt((xc-xe)^2+(yc-ye)^2+(zc-ze)^2)\n",
"Lea= sqrt((xa-xe)^2+(ya-ye)^2+(za-ze)^2)\n",
"Leb= sqrt((xb-xe)^2+(yb-ye)^2+(zb-ze)^2)\n",
"Tfb= tfb*Lfb\n",
"Tfd= tfd*Lfd\n",
"Tfe= tfe*Lfe\n",
"Tec= tec*Lec\n",
"Tea= tea*Lea\n",
"Teb= teb*Leb\n",
"//RESULTS\n",
"printf ('Tfb= %.1f KN(compression)',Tfb)\n",
"printf (' \n Tfd=%.1f KN(tension)',Tfd)\n",
"printf (' \n Tfe=%.1f KN',Tfe)\n",
"printf (' \n Tec=%.1f KN(compression)',Tec)\n",
"printf (' \n Tea=%.1f KN(compression)',Tea)\n",
"printf (' \n Teb=%.1f KN(compression)',Teb)"
   ]
   }
],
"metadata": {
		  "kernelspec": {
		   "display_name": "Scilab",
		   "language": "scilab",
		   "name": "scilab"
		  },
		  "language_info": {
		   "file_extension": ".sce",
		   "help_links": [
			{
			 "text": "MetaKernel Magics",
			 "url": "https://github.com/calysto/metakernel/blob/master/metakernel/magics/README.md"
			}
		   ],
		   "mimetype": "text/x-octave",
		   "name": "scilab",
		   "version": "0.7.1"
		  }
		 },
		 "nbformat": 4,
		 "nbformat_minor": 0
}
