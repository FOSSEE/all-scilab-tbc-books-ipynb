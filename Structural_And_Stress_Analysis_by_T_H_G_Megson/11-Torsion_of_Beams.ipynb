{
"cells": [
 {
		   "cell_type": "markdown",
	   "metadata": {},
	   "source": [
       "# Chapter 11: Torsion of Beams"
	   ]
	},
{
		   "cell_type": "markdown",
		   "metadata": {},
		   "source": [
			"## Example 11.1: chapter_11_example_1.sce"
		   ]
		  },
  {
"cell_type": "code",
	   "execution_count": null,
	   "metadata": {
	    "collapsed": true
	   },
	   "outputs": [],
"source": [
"clc\n",
"//initialisation of variables\n",
"Lab= 2 //m\n",
"Lbc= 0.5 //m\n",
"Dab= 200 //mm\n",
"Dbc= 100 //mm\n",
"T= 50 //KNm\n",
"G= 80000 //N/mm^2\n",
"//CALCULATIONS\n",
"Jab= %pi*Dab^4/32\n",
"Jbc= %pi*Dbc^4/32\n",
"Tc= T/((Lbc*Jab)/(Lab*Jbc)+1)\n",
"Ta= T-Tc\n",
"if(Dab<Dbc)\n",
"    Dbc=Dab;Tc=Ta;\n",
"else\n",
"    Dab=Dab;Tc=Tc\n",
"end\n",
"Stressmax= (Tc*10^6*Dbc*32)/(2*%pi*Dbc^4)\n",
"angleoftwist= Ta*10^6*Lab*32*10^3*180/(G*%pi*Dab^4*%pi)\n",
"//RESULTS\n",
"printf ('Stress max= %.1f N/mm^2',Stressmax)\n",
"printf (' \n Anlge of twist=% 2f degrees',angleoftwist)"
   ]
   }
,
{
		   "cell_type": "markdown",
		   "metadata": {},
		   "source": [
			"## Example 11.2: chapter_11_example_2.sce"
		   ]
		  },
  {
"cell_type": "code",
	   "execution_count": null,
	   "metadata": {
	    "collapsed": true
	   },
	   "outputs": [],
"source": [
"clc\n",
"//initialisation of variables\n",
"d= 200 //mm\n",
"l= 2 //m\n",
"Shearstressmax= 200 //N/mm^2\n",
"Maximumangleoftwist= 2 //degrees\n",
"Maxtorque= 30/2 //KNm\n",
"G= 25000 //N/mm^2\n",
"//CALCULATIONS\n",
"tmin= (Maxtorque*10^6*4)/(2*%pi*d^2*Shearstressmax)\n",
"x1=l/2\n",
"c=0\n",
"dtbydx= (Maxtorque*%pi*200*16)/(4*%pi^2*d^4*G*tmin)\n",
"theta= (Maxtorque*%pi*200*16)/(4*%pi^2*d^4*G*tmin)*x1+c\n",
"tminimum= (Maxtorque*%pi*200*10^9*180*16)/(4*%pi^2*d^4*G*Maximumangleoftwist*%pi)*x1\n",
"//RESULTS   \n",
"printf ('minimum allowable thickness= %.1f mm',tminimum)\n",
""
   ]
   }
,
{
		   "cell_type": "markdown",
		   "metadata": {},
		   "source": [
			"## Example 12.8: chapter_12_example_8.sce"
		   ]
		  },
  {
"cell_type": "code",
	   "execution_count": null,
	   "metadata": {
	    "collapsed": true
	   },
	   "outputs": [],
"source": [
"clc\n",
"b=250 //mm\n",
"BM=350*10^3 //Nm\n",
"SigmaCu=30 //N/mm^2\n",
"SigmaY=400 //N/mm^2\n",
"d1=sqrt(BM*10^3 /(0.15*SigmaCu*b))\n",
"lever=3*d1/4\n",
"As=BM*10^3/(0.87*SigmaY*lever)\n",
"printf('As=%f mmm^2',As)"
   ]
   }
],
"metadata": {
		  "kernelspec": {
		   "display_name": "Scilab",
		   "language": "scilab",
		   "name": "scilab"
		  },
		  "language_info": {
		   "file_extension": ".sce",
		   "help_links": [
			{
			 "text": "MetaKernel Magics",
			 "url": "https://github.com/calysto/metakernel/blob/master/metakernel/magics/README.md"
			}
		   ],
		   "mimetype": "text/x-octave",
		   "name": "scilab",
		   "version": "0.7.1"
		  }
		 },
		 "nbformat": 4,
		 "nbformat_minor": 0
}
