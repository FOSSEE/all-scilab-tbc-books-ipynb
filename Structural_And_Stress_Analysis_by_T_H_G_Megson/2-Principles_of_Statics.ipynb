{
"cells": [
 {
		   "cell_type": "markdown",
	   "metadata": {},
	   "source": [
       "# Chapter 2: Principles of Statics"
	   ]
	},
{
		   "cell_type": "markdown",
		   "metadata": {},
		   "source": [
			"## Example 2.1: chapter_2_example_1.sce"
		   ]
		  },
  {
"cell_type": "code",
	   "execution_count": null,
	   "metadata": {
	    "collapsed": true
	   },
	   "outputs": [],
"source": [
"clc\n",
"//initialisation of variables\n",
"F1= -2.0 //KN\n",
"F2= 3.0 //KN\n",
"F3= -6.0 //KN\n",
"F4= -1.0 //KN\n",
"x1= 0 //m\n",
"x2= 0.6 //m\n",
"x3= 0.9 //m\n",
"x4= 1.2 //m\n",
"//CALCULATIONS\n",
"R= -(F1+F2+F3+F4)\n",
"x= -(x1*F1+x2*F2+x3*F3+x4*F4)/R\n",
"//RESULTS\n",
"printf ('R= %.2f kN',R)\n",
"printf (' \n x=%.2f m',x)\n",
""
   ]
   }
,
{
		   "cell_type": "markdown",
		   "metadata": {},
		   "source": [
			"## Example 2.2: chapter_2_example_2.sce"
		   ]
		  },
  {
"cell_type": "code",
	   "execution_count": null,
	   "metadata": {
	    "collapsed": true
	   },
	   "outputs": [],
"source": [
"clc\n",
"//initialisation of variables\n",
"F1= 5*cosd(60) //KN\n",
"F2= 5*sind(60) //KN\n",
"F3= -3 //KN\n",
"x1= 1.2 //m\n",
"x2= 0.9 //m\n",
"x3= 0.4 //m\n",
"//CALCULATIONS\n",
"Rah= F1\n",
"Rav= (-(F3*x2)+F2*x3)/1.2\n",
"Rd= -F3+F2-Rav\n",
"//RESULTS\n",
"printf ('Rah= %.1f kN',Rah)\n",
"printf (' \n Rav=%.1f KN',Rav)\n",
"printf (' \n Rd=%.1f KN',Rd)"
   ]
   }
,
{
		   "cell_type": "markdown",
		   "metadata": {},
		   "source": [
			"## Example 2.3: chapter_2_example_3.sce"
		   ]
		  },
  {
"cell_type": "code",
	   "execution_count": null,
	   "metadata": {
	    "collapsed": true
	   },
	   "outputs": [],
"source": [
"clc\n",
"//initialisation of variables\n",
"F1= -2*cosd(45) //KN\n",
"F2= -2*sind(45) //KN \n",
"F3= -5 //KN\n",
"x1= 0.4 //m\n",
"x2= 1.0 //m\n",
"Rc= 2.5 //m\n",
"Rd= 3.7 //m\n",
"//CALCULATIONS\n",
"Rah= -F1\n",
"Rav= -F3-F2\n",
"Ma= -F3*x1-F2*x2\n",
"Ra= sqrt(Rc^2+Rd^2)\n",
"theta= atan(Rc/Rd) *180/%pi \n",
"//RESULTS\n",
"printf ('Rah= %.1f kN',Rah)\n",
"printf (' \n Rav=%.1f KN',Rav)\n",
"printf (' \n Ma=%.1f KNm',Ma)\n",
"printf (' \n Ra=%.1f KN',Ra)\n",
"printf (' \n theta=%.1f degrees',theta)"
   ]
   }
,
{
		   "cell_type": "markdown",
		   "metadata": {},
		   "source": [
			"## Example 2.4: chapter_2_example_4.sce"
		   ]
		  },
  {
"cell_type": "code",
	   "execution_count": null,
	   "metadata": {
	    "collapsed": true
	   },
	   "outputs": [],
"source": [
"clc\n",
"//initialisation of variables\n",
"alpha= atand(2.4/3) //degrees\n",
"F1= 5*sind(alpha) //KN\n",
"F2= 10*sind(alpha) //KN\n",
"F3= 3 //KN\n",
"F4= 2 //KN\n",
"F5= -5*cosd(alpha) //KN\n",
"F6= 10*cosd(alpha) //KN\n",
"x1= 6 //m\n",
"x2= 4.5 //m\n",
"x3= 1.2 //m\n",
"x4= 1.5 //m\n",
"x5= 4 //m\n",
"x6= 2 //m\n",
"//CALCULATIONS\n",
"Rah= F1+F2\n",
"Rav= ((-F5)*x2-x3*F1-F6*x4-F2*x3+F3*x5+F4*x6)/6\n",
"Rb= F3+F4-F5-Rav-F6\n",
"//RESULTS\n",
"printf ('Rah= %.1f kN',Rah)\n",
"printf (' \n Rav=%.1f KN',Rav)\n",
"printf (' \n Rb=%.1f KN',Rb)"
   ]
   }
],
"metadata": {
		  "kernelspec": {
		   "display_name": "Scilab",
		   "language": "scilab",
		   "name": "scilab"
		  },
		  "language_info": {
		   "file_extension": ".sce",
		   "help_links": [
			{
			 "text": "MetaKernel Magics",
			 "url": "https://github.com/calysto/metakernel/blob/master/metakernel/magics/README.md"
			}
		   ],
		   "mimetype": "text/x-octave",
		   "name": "scilab",
		   "version": "0.7.1"
		  }
		 },
		 "nbformat": 4,
		 "nbformat_minor": 0
}
