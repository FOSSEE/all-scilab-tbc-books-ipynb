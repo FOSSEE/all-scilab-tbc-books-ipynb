{
"cells": [
 {
		   "cell_type": "markdown",
	   "metadata": {},
	   "source": [
       "# Chapter 5: Cables"
	   ]
	},
{
		   "cell_type": "markdown",
		   "metadata": {},
		   "source": [
			"## Example 5.1: chapter_5_example_1.sce"
		   ]
		  },
  {
"cell_type": "code",
	   "execution_count": null,
	   "metadata": {
	    "collapsed": true
	   },
	   "outputs": [],
"source": [
"clc\n",
"//initialisation of variables\n",
"F= -10 //KN\n",
"x1= 1 //m\n",
"x2= 2 //m\n",
"x3= 3 //m\n",
"//CALCULATIONS\n",
"alpha= atand(x1/x3)\n",
"beta= atand(x1/x2)\n",
"Tca= -F*cosd(beta)\n",
"Tcb= Tca*cosd(alpha)/cosd(beta)\n",
"Rav= -F*x2/(x2+x3)\n",
"Rbv= -F-Rav\n",
"Rah= Rav*x3/x1\n",
"Rbh= Rah\n",
"Tca= sqrt(Rav^2+Rah^2)\n",
"Tcb= sqrt(Rbv^2+Rbh^2)\n",
"//RESULTS\n",
"printf ('Tca= %.1f KN',Tca)\n",
"printf (' \n Tcb=%.1f KN',Tcb)\n",
"printf (' \n Rav=%.f KN',Rav)\n",
"printf (' \n Rbv=%.f KN',Rbv)\n",
"printf (' \n Rah=%.f KN',Rah)\n",
"printf (' \n Tca=%.1f KN',Tca)\n",
"printf (' \n Tcb=%.1f KN',Tcb)"
   ]
   }
,
{
		   "cell_type": "markdown",
		   "metadata": {},
		   "source": [
			"## Example 5.2: chapter_5_example_2.sce"
		   ]
		  },
  {
"cell_type": "code",
	   "execution_count": null,
	   "metadata": {
	    "collapsed": true
	   },
	   "outputs": [],
"source": [
"clc\n",
"//initialisation of variables\n",
"Fc= -10.0 //KN \n",
"Fd= -6.0 //KN\n",
"y= 0.5 //m\n",
"x1= 1.5 //m\n",
"x2= 2.0 //m\n",
"x3= 1.8 //m\n",
"//CALCULATIONS\n",
"//The values in the textbook are rounded off. hence, there is a small variation in the result of this code.\n",
"alpha= atand(y/x1)\n",
"Rav= (-Fd*x3-Fc*(x2+x3))/(x1+x2+x3)\n",
"Rah= Rav*x1/y\n",
"Tca= sqrt(Rah^2+Rav^2)\n",
"tanbeta= ((-Fc-Tca*sind(alpha)))/(Tca*cosd(alpha))\n",
"Tcd= Tca*cosd(alpha)/cosd(beta)\n",
"gama= atand((-Fd+Tcd*sind(beta)))/(Tcd*cosd(beta))\n",
"Tdb= (Tcd*cosd(beta))/cosd(gama)\n",
"//RESULTS\n",
"printf ('Tca= %.1f KN',Tca)\n",
"printf (' \n Tcd=%.1f KN',Tcd)\n",
"printf (' \n Tdb=%.2f KN',Tdb)\n",
""
   ]
   }
,
{
		   "cell_type": "markdown",
		   "metadata": {},
		   "source": [
			"## Example 5.4: chapter_5_example_4.sce"
		   ]
		  },
  {
"cell_type": "code",
	   "execution_count": null,
	   "metadata": {
	    "collapsed": true
	   },
	   "outputs": [],
"source": [
"clc\n",
"//initialisation of variables\n",
"L= 200 //m\n",
"D= 18 //m\n",
"h= 6 //m\n",
"w= 10 //KN/m\n",
"//CALCULATIONS\n",
"L2= L/(sqrt((D-h)/D)+1)\n",
"H= w*L2^2/(2*D)\n",
"Tmax= sqrt((w*L2)^2+H^2)\n",
"alphamax= atand(w*L2/H)\n",
"printf ('L2= %.1f m',L2)\n",
"printf (' \n H=%.1f KN',H)\n",
"printf (' \n Tmax=%.1f KN',Tmax)\n",
"printf (' \n alphamax=%.1f degrees',alphamax)"
   ]
   }
,
{
		   "cell_type": "markdown",
		   "metadata": {},
		   "source": [
			"## Example 5.5: chapter_5_example_5.sce"
		   ]
		  },
  {
"cell_type": "code",
	   "execution_count": null,
	   "metadata": {
	    "collapsed": true
	   },
	   "outputs": [],
"source": [
"clc\n",
"//initialisation of variables\n",
"w= 120 //KN\n",
"D= 30 //m\n",
"L= 300 //m\n",
"sigmamax= 600 //N/mm^2 \n",
"h= 50 //m\n",
"beta= 45 //degrees\n",
"//CALCULATIONS\n",
"Tmax= ((w*L)/2)*(sqrt(1+(L/(4*D))^2))\n",
"d= sqrt((4*Tmax*10^3)/(sigmamax*%pi))\n",
"H= (w*L^2)/(8*D)\n",
"alpha= atand((w*L)/(2*H))\n",
"Mt= Tmax*(cosd(alpha)-cosd(beta))*h\n",
"Vt= Tmax*(sind(alpha)+sind(beta))\n",
"Wa= Tmax*cosd(beta)\n",
"//RESULTS\n",
"printf ('Tmax= %.1f KN',Tmax)\n",
"printf (' \n d=%.1f mm',d)\n",
"printf (' \n H=%.0f KN',H)\n",
"printf (' \n alpha=%.1f degrees',alpha)\n",
"printf (' \n Mt=%.0f KNm',Mt)\n",
"printf (' \n Vt=%.0f KN',Vt)\n",
"printf (' \n Wa=%.0f KN',Wa)"
   ]
   }
],
"metadata": {
		  "kernelspec": {
		   "display_name": "Scilab",
		   "language": "scilab",
		   "name": "scilab"
		  },
		  "language_info": {
		   "file_extension": ".sce",
		   "help_links": [
			{
			 "text": "MetaKernel Magics",
			 "url": "https://github.com/calysto/metakernel/blob/master/metakernel/magics/README.md"
			}
		   ],
		   "mimetype": "text/x-octave",
		   "name": "scilab",
		   "version": "0.7.1"
		  }
		 },
		 "nbformat": 4,
		 "nbformat_minor": 0
}
