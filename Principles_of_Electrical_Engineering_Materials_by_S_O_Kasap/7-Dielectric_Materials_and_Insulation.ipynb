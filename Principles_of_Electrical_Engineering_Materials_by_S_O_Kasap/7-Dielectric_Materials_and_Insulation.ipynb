{
"cells": [
 {
		   "cell_type": "markdown",
	   "metadata": {},
	   "source": [
       "# Chapter 7: Dielectric Materials and Insulation"
	   ]
	},
{
		   "cell_type": "markdown",
		   "metadata": {},
		   "source": [
			"## Example 7.10: Dielectric_Breakdown_in_a_coaxial_cable.sce"
		   ]
		  },
  {
"cell_type": "code",
	   "execution_count": null,
	   "metadata": {
	    "collapsed": true
	   },
	   "outputs": [],
"source": [
"clc\n",
"//Chapter7\n",
"//Ex_10\n",
"//Given\n",
"//part(C)\n",
"d=0.5 // cm\n",
"a=d/2 //in cm\n",
"t=0.5 // in cm\n",
"Ebr_X=217 // in kV/cm from table 7.5\n",
"Ebr_S=158 // in kV/cm from table 7.5\n",
"b=a+t\n",
"Vbr_X=Ebr_X*a*log(b/a)\n",
"disp(Vbr_X,'breakdown voltage of XLPE in kV is')\n",
"Vbr_S=Ebr_S*a*log(b/a)\n",
"disp(Vbr_S,'breakdown voltage of Silicone rubber in kV is')\n",
"//part(d)\n",
"//letE=epsiolon\n",
"Er_X=2.3 // for XLPE\n",
"Er_S=3.7 // for Silicone rubber\n",
"//Eair_br=Ebr\n",
"Eair_br_X=100 //in kV/cm\n",
"Eair_br_S=100 //in kV/cm\n",
"//Vair_br=Eair_br*a*log(b/a)/Er\n",
"Vair_br_X=Eair_br_X*a*log(b/a)/Er_X\n",
"disp(Vair_br_X,'Voltage for partial discharge in a microvoid for XLPE in  kV is')\n",
"Vair_br_S=Eair_br_S*a*log(b/a)/Er_S\n",
"disp(Vair_br_S, 'Voltage for partial discharge in a microvoid for Silicone rubber in  kV is')"
   ]
   }
,
{
		   "cell_type": "markdown",
		   "metadata": {},
		   "source": [
			"## Example 7.11: conductance.sce"
		   ]
		  },
  {
"cell_type": "code",
	   "execution_count": null,
	   "metadata": {
	    "collapsed": true
	   },
	   "outputs": [],
"source": [
"clc\n",
"//Chapter7\n",
"//Ex_11\n",
"//Given\n",
"//letE=epsiolon\n",
"Er_100c=2.69\n",
"Er_25c=2.60\n",
"f=1*10^3 // in Hz\n",
"w=2*%pi*f\n",
"C_25c=560*10^-12 // in Farads\n",
"//Gp=w*C*tan(delta)\n",
"//let x=tan(delta)=0.002\n",
"x=0.002\n",
"Gp=w*C_25c*x\n",
"disp(Gp,'Equivalent parallel conductance at 25 degree celcius in ohm^-1 is')\n",
"//at 100 c\n",
"x=0.01\n",
"C_100c=C_25c*Er_100c/Er_25c\n",
"Gp=w*C_100c*x\n",
"disp(Gp,'Equivalent parallel conductance at 100 degree celcius in ohm^-1 is')"
   ]
   }
,
{
		   "cell_type": "markdown",
		   "metadata": {},
		   "source": [
			"## Example 7.12: Force.sce"
		   ]
		  },
  {
"cell_type": "code",
	   "execution_count": null,
	   "metadata": {
	    "collapsed": true
	   },
	   "outputs": [],
"source": [
"clc\n",
"//Chapter7\n",
"//Ex_12\n",
"//Given\n",
"Eo=8.85*10^-12//F/m2\n",
"Er=1000\n",
"D=3*10^-3 //in m\n",
"V=5000 // in V\n",
"d=200*10^-12 //in m/V\n",
"L=10*10^-3 //in mm\n",
"A=%pi*(D/2)^2\n",
"F=Eo*Er*A*V/(d*L)\n",
"disp(F,'Force required to spark the gap in Newton is')"
   ]
   }
,
{
		   "cell_type": "markdown",
		   "metadata": {},
		   "source": [
			"## Example 7.13: frequency.sce"
		   ]
		  },
  {
"cell_type": "code",
	   "execution_count": null,
	   "metadata": {
	    "collapsed": true
	   },
	   "outputs": [],
"source": [
"clc\n",
"//Chapter7\n",
"//Ex_13\n",
"//Given\n",
"fs=1 //in MHz\n",
"k=0.1\n",
"fa=fs/(sqrt(1-k^2))\n",
"disp(fa,'fa value in MHz for given fs is')\n",
"printf('thus fa-fs is only %f kHz, which means they are very close ',(fa-fs)*10^3)"
   ]
   }
,
{
		   "cell_type": "markdown",
		   "metadata": {},
		   "source": [
			"## Example 7.14: Quality_factor_of_the_crystal.sce"
		   ]
		  },
  {
"cell_type": "code",
	   "execution_count": null,
	   "metadata": {
	    "collapsed": true
	   },
	   "outputs": [],
"source": [
"clc\n",
"//Chapter7\n",
"//Ex_14\n",
"//Given\n",
"Co=5 //in pF\n",
"fa=1.0025 //in MHz\n",
"fs=1 //in MHz\n",
"R=20 //in ohms\n",
"C=Co*((fa/fs)^2-1)\n",
"disp(C,'Capacitance value in the equivalent circuit of the crystal in pF is')\n",
"L=1/(C*(2*%pi*fs)^2)\n",
"disp(L,'Inductance value in the equivalent circuit of the crystal in Henry is')\n",
"fs=fs*10^6 //in Hz\n",
"C=C*10^-12 //in F\n",
"Q=1/(2*%pi*fs*R*C)\n",
"disp(Q,'Quality factor of the crystal is')"
   ]
   }
,
{
		   "cell_type": "markdown",
		   "metadata": {},
		   "source": [
			"## Example 7.15: Minimum_radiation_intensity.sce"
		   ]
		  },
  {
"cell_type": "code",
	   "execution_count": null,
	   "metadata": {
	    "collapsed": true
	   },
	   "outputs": [],
"source": [
"clc\n",
"//Chapter7\n",
"//Ex_15\n",
"//Given\n",
"P=380*10^-6 //in C/m2/K\n",
"c=380//in J/Kg/K\n",
"//let epsilon=E\n",
"Eo=8.85*10^-12 //in F/m\n",
"Er=290\n",
"rho=7000//in Kg/m3\n",
"delta_V=0.001 //in V\n",
"delta_t=0.2 //in seconds\n",
"I=(P/(rho*c*Eo*Er))^-1*delta_V/delta_t\n",
"disp(I,'Minimum radiation intensity that can be measured in W/m2 is')"
   ]
   }
,
{
		   "cell_type": "markdown",
		   "metadata": {},
		   "source": [
			"## Example 7.1: dielectric_constant.sce"
		   ]
		  },
  {
"cell_type": "code",
	   "execution_count": null,
	   "metadata": {
	    "collapsed": true
	   },
	   "outputs": [],
"source": [
"clc\n",
"//Chapter7\n",
"//Ex_1\n",
"//Given\n",
"NA=6.023*10^23 // in mol^-1\n",
"d=1.8 //g/cm3\n",
"Mat=39.95 //in mol^-1\n",
"epsilon_o=8.85*10^-12//F/m2\n",
"alpha_e=1.7*10^-40 //F*m2\n",
"N=NA*d/Mat //in cm^-3\n",
"N=N*10^6 // in m^-3\n",
"epsilon_r=1+(N*alpha_e/epsilon_o)\n",
"disp(epsilon_r,'Dielectric constant of solid Ar is')\n",
"//using clausius-mossotti equation\n",
"epsilon_r=(1+(2*N*alpha_e/(3*epsilon_o)))/(1-(N*alpha_e/(3*epsilon_o)))\n",
"disp(epsilon_r,'using clausius-mossotti equation,  Dielectric constant of solid Ar is')"
   ]
   }
,
{
		   "cell_type": "markdown",
		   "metadata": {},
		   "source": [
			"## Example 7.2: Electronic_Polarizability_of_covalent_solids.sce"
		   ]
		  },
  {
"cell_type": "code",
	   "execution_count": null,
	   "metadata": {
	    "collapsed": true
	   },
	   "outputs": [],
"source": [
"clc\n",
"//Chapter7\n",
"//Ex_2\n",
"//Given\n",
"N=5*10^28 //in m^-3\n",
"e=1.6*10^-19 // in coulombs\n",
"Z=4\n",
"me=9.1*10^-31 //in Kg\n",
"epsilon_o=8.85*10^-12//F/m2\n",
"epsilon_r=11.9\n",
"//part(a)\n",
"alpha_e=(3*epsilon_o/N)*((epsilon_r-1)/(epsilon_r+2))\n",
"disp(alpha_e,'Electronic polarizability in F/m2')\n",
"//part(b)\n",
"//let x=E_loc/E\n",
"x=(epsilon_r+2)/3\n",
"printf('Local field is a factor of %f greater than applied field',x)\n",
"//part(c)\n",
"wo=sqrt(Z*e^2/(me*alpha_e))\n",
"fo=wo/(2*%pi)\n",
"disp(fo,'resonant frequency in Hz is')"
   ]
   }
,
{
		   "cell_type": "markdown",
		   "metadata": {},
		   "source": [
			"## Example 7.3: dielectric_constant.sce"
		   ]
		  },
  {
"cell_type": "code",
	   "execution_count": null,
	   "metadata": {
	    "collapsed": true
	   },
	   "outputs": [],
"source": [
"clc\n",
"//Chapter7\n",
"//Ex_3\n",
"//Given\n",
"//let epsilon=E\n",
"Eo=8.85*10^-12 //in F/m\n",
"Ni=1.43*10^28//in m^-3\n",
"alpha_e_Cs=3.35*10^-40 //F m2\n",
"alpha_e_Cl=3.40*10^-40 //F m2\n",
"alpha_i=6*10^-40 //F m2\n",
"//(Er-1)/(Er+2)=(1/(3*E0))*(Ni*alpha_e(Cs+)+Ni*alpha_e(Cl-)+Ni*alpha_i)\n",
"//let x=(1/(3*E0))*(Ni*alpha_e(Cs+)+Ni*alpha_e(Cl-)+Ni*alpha_i)\n",
"//after few mathematical steps we get\n",
"//Er=(2*x+1)/(1-x)\n",
"x=(1/(3*Eo))*(Ni*alpha_e_Cs+Ni*alpha_e_Cl+Ni*alpha_i)\n",
"Er=(2*x+1)/(1-x)\n",
"disp(Er,'Dielectric constant at low frequency is')\n",
"//similarly\n",
"//let y=(1/(3*E0))*(Ni*alpha_e(Cs+)+Ni*alpha_e(Cl-))\n",
"//after few mathematical steps we get\n",
"//Erop=(2*x+1)/(1-x)\n",
"y=(1/(3*Eo))*(Ni*alpha_e_Cs+Ni*alpha_e_Cl)\n",
"Erop=(2*y+1)/(1-y)\n",
"disp(Erop,'Dielectric constant at optical frequency is')"
   ]
   }
,
{
		   "cell_type": "markdown",
		   "metadata": {},
		   "source": [
			"## Example 7.6: Dielectric_loss_per_unit_capacitance.sce"
		   ]
		  },
  {
"cell_type": "code",
	   "execution_count": null,
	   "metadata": {
	    "collapsed": true
	   },
	   "outputs": [],
"source": [
"clc\n",
"//Chapter7\n",
"//Ex_6\n",
"//Given\n",
"//power dissipated at a given voltage per unit capacitance depends only on w*tan(delta)\n",
"//at f=60 //in Hz.\n",
"f=60 //in Hz.\n",
"w=2*%pi*f\n",
"//let x=tan(delta)\n",
"x_PC=9*10^-4 //Ploycarbonate\n",
"x_SR=2.25*10^-2 //Silicone rubber\n",
"x_E=4.7*10^-2 //Epoxy with mineral filler\n",
"p_PC=w*x_PC\n",
"p_SR=w*x_SR\n",
"p_E=w*x_E\n",
"a=min(p_PC,p_SR,p_E)\n",
"printf('The minimum w*tan(delta) is %f which corresponds to polycarbonate',a)\n",
"disp('Hence the lowest power dissipation per unit capacitance at a given voltage corresponds to polycarbonate at 60Hz')\n",
"//at f=1 //in MHz.\n",
"f=10^6 //in Hz.\n",
"w=2*%pi*f\n",
"//let x=tan(delta)\n",
"x_PC=1*10^-2 //Ploycarbonate\n",
"x_SR=4*10^-3 //Silicone rubber\n",
"x_E=3*10^-2 //Epoxy with mineral filler\n",
"p_PC=w*x_PC\n",
"p_SR=w*x_SR\n",
"p_E=w*x_E\n",
"a=min(p_PC,p_SR,p_E)\n",
"printf('The minimum w*tan(delta) is %f which corresponds to Silicone rubber',a)\n",
"disp('Hence, the lowest power dissipation per unit capacitance at a given voltage corresponds to Silicone rubber at 1MHz')"
   ]
   }
,
{
		   "cell_type": "markdown",
		   "metadata": {},
		   "source": [
			"## Example 7.7: Dielectric_loss.sce"
		   ]
		  },
  {
"cell_type": "code",
	   "execution_count": null,
	   "metadata": {
	    "collapsed": true
	   },
	   "outputs": [],
"source": [
"clc\n",
"//Chapter7\n",
"//Ex_7\n",
"//Given\n",
"//at 60 Hz\n",
"f=60 //Hz\n",
"E=100*10^3*10^2 //in V/m\n",
"//values taken from table 7.3\n",
"epsilon_o=8.85*10^-12 //in F/m\n",
"epsilon_r_HLPE=2.3\n",
"epsilon_r_Alumina=8.5\n",
"//let x=tan(delta)\n",
"x_HLPE=3*10^-4\n",
"x_Alumina=1*10^-3\n",
"W_vol_HLPE=2*%pi*f*E^2*epsilon_o*epsilon_r_HLPE*x_HLPE //in W/m3\n",
"W_vol_HLPE=W_vol_HLPE/10^3 //in mW/cm3\n",
"disp(W_vol_HLPE,'Heat dissipated per unit volume of HLPE at 60 Hz in mW/cm3 is')\n",
"W_vol_Alumina=2*%pi*f*E^2*epsilon_o*epsilon_r_Alumina*x_Alumina\n",
"W_vol_Alumina=W_vol_Alumina/10^3 //in mW/cm3\n",
"disp(W_vol_Alumina, 'Heat dissipated per unit volume of Alumina at 60 Hz in mW/cm3 is')\n",
"//at 1 MHz\n",
"f=10^6 //Hz\n",
"x_HLPE=4*10^-4\n",
"x_Alumina=1*10^-3\n",
"W_vol_HLPE=2*%pi*f*E^2*epsilon_o*epsilon_r_HLPE*x_HLPE //in W/m3\n",
"W_vol_HLPE=W_vol_HLPE/10^6 //in W/cm3\n",
"disp(W_vol_HLPE,'Heat dissipated per unit volume of HLPE at 1 MHz in mW/cm3 is')\n",
"W_vol_Alumina=2*%pi*f*E^2*epsilon_o*epsilon_r_Alumina*x_Alumina\n",
"W_vol_Alumina=W_vol_Alumina/10^6 //in W/cm3\n",
"disp(W_vol_Alumina, 'Heat dissipated per unit volume of Alumina at 1 MHz in mW/cm3 is')\n",
"disp('The heats at 60Hz are small comparing to heats at 1MHz')\n",
""
   ]
   }
],
"metadata": {
		  "kernelspec": {
		   "display_name": "Scilab",
		   "language": "scilab",
		   "name": "scilab"
		  },
		  "language_info": {
		   "file_extension": ".sce",
		   "help_links": [
			{
			 "text": "MetaKernel Magics",
			 "url": "https://github.com/calysto/metakernel/blob/master/metakernel/magics/README.md"
			}
		   ],
		   "mimetype": "text/x-octave",
		   "name": "scilab",
		   "version": "0.7.1"
		  }
		 },
		 "nbformat": 4,
		 "nbformat_minor": 0
}
