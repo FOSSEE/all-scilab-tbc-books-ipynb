{
"cells": [
 {
		   "cell_type": "markdown",
	   "metadata": {},
	   "source": [
       "# Chapter 8: Magnetic properties and conductivity"
	   ]
	},
{
		   "cell_type": "markdown",
		   "metadata": {},
		   "source": [
			"## Example 8.3: Saturation_magnetization_in_iron.sce"
		   ]
		  },
  {
"cell_type": "code",
	   "execution_count": null,
	   "metadata": {
	    "collapsed": true
	   },
	   "outputs": [],
"source": [
"clc\n",
"//Chapter8\n",
"//Ex_3\n",
"//Given\n",
"Mat=55.85*10^-3 //in Kg/mol\n",
"NA=6.022*10^23 // in mol^-1\n",
"p=7.86*10^3 //in kg/m3\n",
"Msat=1.75*10^6 //in A/m\n",
"funcprot(0)\n",
"beta=9.27*10^-24 //in J/tesla\n",
"n_at=p*NA/(Mat)\n",
"x=Msat/(n_at*beta)\n",
"printf('In the solid each Fe atom contributes only %f bohr magneton',x)"
   ]
   }
,
{
		   "cell_type": "markdown",
		   "metadata": {},
		   "source": [
			"## Example 8.5: Inductance.sce"
		   ]
		  },
  {
"cell_type": "code",
	   "execution_count": null,
	   "metadata": {
	    "collapsed": true
	   },
	   "outputs": [],
"source": [
"clc\n",
"//Chapter8\n",
"//Ex_5\n",
"//Given\n",
"u_o=4*%pi*10^-7 //in H/m\n",
"u_ri=2*10^3 //\n",
"N=200 //no. of turns\n",
"d=0.005 //in m\n",
"D=2.5*10^-2 //in m\n",
"A=%pi*(d^2)/4\n",
"l=%pi*D\n",
"L=u_ri*u_o*N^2*A/l\n",
"disp(L,'Approximate inductance of the coil in Henry is')"
   ]
   }
,
{
		   "cell_type": "markdown",
		   "metadata": {},
		   "source": [
			"## Example 8.7: Energy_stored_in_the_solenoid.sce"
		   ]
		  },
  {
"cell_type": "code",
	   "execution_count": null,
	   "metadata": {
	    "collapsed": true
	   },
	   "outputs": [],
"source": [
"clc\n",
"//Chapter8\n",
"//Ex_7\n",
"//Given\n",
"N=500 //no.of turns\n",
"B=5 //in Tesla\n",
"l=1 //in m\n",
"r=10^-3 //in m\n",
"uo=4*%pi*10^-7 //in H/m\n",
"d=10*10^-2 //in m\n",
"I=(B*l)/(uo*N)\n",
"disp(I,'current in Amperes is')\n",
"E_vol=B^2/(2*uo)\n",
"v=%pi*l*d^2/4\n",
"E=E_vol*v\n",
"disp(E,'Energy stored in the solenoid in joules is')"
   ]
   }
],
"metadata": {
		  "kernelspec": {
		   "display_name": "Scilab",
		   "language": "scilab",
		   "name": "scilab"
		  },
		  "language_info": {
		   "file_extension": ".sce",
		   "help_links": [
			{
			 "text": "MetaKernel Magics",
			 "url": "https://github.com/calysto/metakernel/blob/master/metakernel/magics/README.md"
			}
		   ],
		   "mimetype": "text/x-octave",
		   "name": "scilab",
		   "version": "0.7.1"
		  }
		 },
		 "nbformat": 4,
		 "nbformat_minor": 0
}
