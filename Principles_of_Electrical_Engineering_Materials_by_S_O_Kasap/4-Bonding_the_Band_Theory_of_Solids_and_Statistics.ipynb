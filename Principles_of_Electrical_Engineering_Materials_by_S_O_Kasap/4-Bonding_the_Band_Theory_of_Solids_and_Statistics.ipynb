{
"cells": [
 {
		   "cell_type": "markdown",
	   "metadata": {},
	   "source": [
       "# Chapter 4: Bonding the Band Theory of Solids and Statistics"
	   ]
	},
{
		   "cell_type": "markdown",
		   "metadata": {},
		   "source": [
			"## Example 4.10: Mean_free_path_of_electrons_in_a_metal.sce"
		   ]
		  },
  {
"cell_type": "code",
	   "execution_count": null,
	   "metadata": {
	    "collapsed": true
	   },
	   "outputs": [],
"source": [
"clc\n",
"//Chapter4\n",
"//Ex_10\n",
"//Given\n",
"e=1.6*10^-19 // in coulombs\n",
"me=9.1*10^-31 //in Kg\n",
"u_d=43*10^-4 // in cm2/V/s\n",
"v_e=1.22*10^6 // in m/s\n",
"T=u_d*me/e\n",
"l_e=v_e*T\n",
"disp(l_e,'Mean free path of electrons in meters is')"
   ]
   }
,
{
		   "cell_type": "markdown",
		   "metadata": {},
		   "source": [
			"## Example 4.11: Thermocouple_EMF.sce"
		   ]
		  },
  {
"cell_type": "code",
	   "execution_count": null,
	   "metadata": {
	    "collapsed": true
	   },
	   "outputs": [],
"source": [
"clc\n",
"//Chapter4\n",
"//Ex_11\n",
"//Given\n",
"e=1.6*10^-19 // in coulombs\n",
"T=373 // in kelvin\n",
"To=273 // in kelvin\n",
"k=1.38*10^-23 //in m2 kg /k/s2\n",
"//from table 4.3\n",
"E_FAO= 11.6 //in eV\n",
"E_FAO=E_FAO*e //in J\n",
"x_A=2.78\n",
"E_FBO= 7.01 //in eV\n",
"E_FBO=E_FBO*e //in J\n",
"x_B=-1.79\n",
"//Mott jones Equation\n",
"V_AB=(-%pi^2*k^2/(6*e))*((x_A/E_FAO)-(x_B/E_FBO))*(T^2-To^2)\n",
"disp(V_AB*10^6,'EMF in micro volts available from Al and Cu thermocouple with the given respective temperatures at the junctions is')"
   ]
   }
,
{
		   "cell_type": "markdown",
		   "metadata": {},
		   "source": [
			"## Example 4.13: Vacuum_tubes.sce"
		   ]
		  },
  {
"cell_type": "code",
	   "execution_count": null,
	   "metadata": {
	    "collapsed": true
	   },
	   "outputs": [],
"source": [
"clc\n",
"//Chapter4\n",
"//Ex_13\n",
"//Given\n",
"phi=2.6 //in eV\n",
"e=1.6*10^-19 //in coulombs\n",
"phi=phi*e //in Joules\n",
"Be=3*10^4 //schottky coefficient in A/m2/K2\n",
"T=1600 //in degree celcius\n",
"T=T+273 //in Kelvin\n",
"k=1.38*10^-23 //m2 kg s-2 K-1\n",
"d=2*10^-3 //in m\n",
"l=4*10^-2 //in in m\n",
"//Richardson-Dushman Equation\n",
"J=Be*T^2*exp(-phi/(k*T))\n",
"A=%pi*d*l\n",
"I=J*A\n",
"disp(I,'Saturation current in Amperes if the tube is operated at 1873 kelvin is')"
   ]
   }
,
{
		   "cell_type": "markdown",
		   "metadata": {},
		   "source": [
			"## Example 4.14: Field_Assisted_Thermionic_Emission.sce"
		   ]
		  },
  {
"cell_type": "code",
	   "execution_count": null,
	   "metadata": {
	    "collapsed": true
	   },
	   "outputs": [],
"source": [
"clc\n",
"//Chapter4\n",
"//Ex_14\n",
"//Given\n",
"phi=2.6 //in eV\n",
"e=1.6*10^-19 //in coulombs\n",
"phi=phi*e //in Joules\n",
"x=1*10^-3 // distance in m\n",
"V=4*10^3 // in Volts\n",
"Be=3*10^4 //schottky coefficient in A/m2/K2\n",
"T=1600 //in degree celcius\n",
"T=T+273 //in Kelvin\n",
"k=1.38*10^-23 //m2 kg s-2 K-1\n",
"d=2*10^-3 //in m\n",
"l=4*10^-2 //in in m\n",
"A=2.5*10^-4 //in m2 //from example 12\n",
"E=V/x\n",
"beta_s=3.79*10^-5 //in eV/sqrt(V/m)\n",
"phi_eff=phi-beta_s*sqrt(E)\n",
"Io=A*Be*T^2\n",
"I1=Io*exp(-phi/(k*T))\n",
"I2=I1*exp((phi-phi_eff)*e/(k*T)) //converting phi value from joules to eV\n",
"disp(I2,'Theoretical saturation current in Amperes is')"
   ]
   }
,
{
		   "cell_type": "markdown",
		   "metadata": {},
		   "source": [
			"## Example 4.5: Fermi_speed.sce"
		   ]
		  },
  {
"cell_type": "code",
	   "execution_count": null,
	   "metadata": {
	    "collapsed": true
	   },
	   "outputs": [],
"source": [
"clc\n",
"//Chapter4\n",
"//Ex_5\n",
"//Given\n",
"E_FO=7 //in eV\n",
"e=1.6*10^-19 // in coulombs\n",
"E_FO=E_FO*e //in Joules\n",
"me=9.1*10^-31 //in Kg\n",
"v_f=sqrt(2*E_FO/me)\n",
"disp(v_f,'Speed of the conduction electrons in m/s is')\n",
""
   ]
   }
,
{
		   "cell_type": "markdown",
		   "metadata": {},
		   "source": [
			"## Example 4.6: Cutt_Off_wavelength.sce"
		   ]
		  },
  {
"cell_type": "code",
	   "execution_count": null,
	   "metadata": {
	    "collapsed": true
	   },
	   "outputs": [],
"source": [
"clc\n",
"//Chapter4\n",
"//Ex_6\n",
"//Given\n",
"e=1.6*10^-19 // in coulombs\n",
"Eg=1.1 //in eV\n",
"Eg=Eg*e // in Joules\n",
"h=6.6*10^-34 //in Js\n",
"c=3*10^8 // in m/s\n",
"lambda=h*c/Eg\n",
"disp(lambda*10^6,'Wavelength of light that can be absorbed by an Si photodetector at Eg=1.1 eV in micro meter is')\n",
"disp('Hence the light of wavelength 1.31 micro meter and 1.55 micro meter will not be absorbed by Si and thus cannot be detected by detector')"
   ]
   }
,
{
		   "cell_type": "markdown",
		   "metadata": {},
		   "source": [
			"## Example 4.7: Density_of_states_in_a_band.sce"
		   ]
		  },
  {
"cell_type": "code",
	   "execution_count": null,
	   "metadata": {
	    "collapsed": true
	   },
	   "outputs": [],
"source": [
"clc\n",
"//Chapter4\n",
"//Ex_7\n",
"//Given\n",
"e=1.6*10^-19 // in coulombs\n",
"h=6.626*10^-34 //in Js\n",
"me=9.1*10^-31 //in Kg\n",
"//let x=k*T\n",
"x=0.026 // in eV\n",
"E=5 //in ev\n",
"E=E*e // in Joules\n",
"g_E=(8*%pi*sqrt(2))*(me/h^2)^(3/2)*sqrt(E)// in J^-1*m^-3\n",
"//convesion of units\n",
"g_E=g_E*10^-6*e //in eV^-1 cm^-3\n",
"disp(g_E,'density of states at the center of the band in cm^-3*J^-1 is')\n",
"//part(b)\n",
"n_E=g_E*x // in cm^-3\n",
"disp(n_E,' No.of states per unit volume within kT about the center in cm^-3 is')\n",
"//part(c)\n",
"E=0.026 //in eV\n",
"E=E*e // in joules\n",
"g_E=(8*%pi*sqrt(2))*(me/h^2)^(3/2)*sqrt(E)// in J^-1*m^-3\n",
"//convesion of units\n",
"g_E=g_E*10^-6*e //in eV^-1 cm^-3\n",
"disp(g_E,'density of states at at kT above the band in cm^-3*J^-1 is')\n",
"//part(d)\n",
"n_E=g_E*x // in cm^-3\n",
"disp(n_E,' No.of states per unit volume within kT about the center in cm^-3 is')\n",
"//solved using the values taken from the solution of textbook"
   ]
   }
,
{
		   "cell_type": "markdown",
		   "metadata": {},
		   "source": [
			"## Example 4.8: Total_number_of_states_in_a_band.sce"
		   ]
		  },
  {
"cell_type": "code",
	   "execution_count": null,
	   "metadata": {
	    "collapsed": true
	   },
	   "outputs": [],
"source": [
"clc\n",
"//Chapter4\n",
"//Ex_8\n",
"//Given\n",
"e=1.6*10^-19 // in coulombs\n",
"h=6.626*10^-34 //in Js\n",
"me=9.1*10^-31 //in Kg\n",
"d=10.5 // in g/cm\n",
"Mat=107.9 //g/mol\n",
"NA=6.023*10^23 // mol^-1\n",
"E_ctr=5 //in ev\n",
"E_ctr=E_ctr*e // in Joules\n",
"S_band=2*(16*%pi*sqrt(2)/3)*(me/h^2)^(3/2)*(E_ctr)^(3/2)// in states m^-3\n",
"//convesion of units\n",
"S_band=S_band*10^-6 //in states cm^-3\n",
"disp(S_band,'No. of states in the band in states cm^-3 is')\n",
"n_Ag=d*NA/Mat\n",
"disp(n_Ag,'No.of atoms per unit volume in silver in atoms per cm3 is')"
   ]
   }
,
{
		   "cell_type": "markdown",
		   "metadata": {},
		   "source": [
			"## Example 4.9: Mean_speed_of_conduction_electrons.sce"
		   ]
		  },
  {
"cell_type": "code",
	   "execution_count": null,
	   "metadata": {
	    "collapsed": true
	   },
	   "outputs": [],
"source": [
"clc\n",
"//Chapter4\n",
"//Ex_9\n",
"//Given\n",
"e=1.6*10^-19 // in coulombs\n",
"h=6.626*10^-34 //in Js\n",
"me=9.1*10^-31 //in Kg\n",
"d=8.96 // in g/cm\n",
"Mat=63.5 // g/ mol \n",
"NA=6.023*10^23 // mol^-1\n",
"n=d*NA/Mat //in cm^-3\n",
"n=n*10^6 //in m^-3\n",
"E_FO=(h^2/(8*me))*(3*n/%pi)^(2/3) //in J\n",
"E_FO=E_FO/e //in eV\n",
"disp(E_FO,'Fermi energy at 0 Kelvin in eV is')\n",
"E_FO=(h^2/(8*me))*(3*n/%pi)^(2/3) //in J\n",
"v_e=sqrt(6*E_FO/(5*me))\n",
"disp(v_e,'Average speed of conduction electrons in m/s is')"
   ]
   }
],
"metadata": {
		  "kernelspec": {
		   "display_name": "Scilab",
		   "language": "scilab",
		   "name": "scilab"
		  },
		  "language_info": {
		   "file_extension": ".sce",
		   "help_links": [
			{
			 "text": "MetaKernel Magics",
			 "url": "https://github.com/calysto/metakernel/blob/master/metakernel/magics/README.md"
			}
		   ],
		   "mimetype": "text/x-octave",
		   "name": "scilab",
		   "version": "0.7.1"
		  }
		 },
		 "nbformat": 4,
		 "nbformat_minor": 0
}
