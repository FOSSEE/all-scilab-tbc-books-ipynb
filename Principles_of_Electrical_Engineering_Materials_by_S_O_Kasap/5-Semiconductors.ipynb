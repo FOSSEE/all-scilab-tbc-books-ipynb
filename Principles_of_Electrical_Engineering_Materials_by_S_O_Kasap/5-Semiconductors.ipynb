{
"cells": [
 {
		   "cell_type": "markdown",
	   "metadata": {},
	   "source": [
       "# Chapter 5: Semiconductors"
	   ]
	},
{
		   "cell_type": "markdown",
		   "metadata": {},
		   "source": [
			"## Example 5.11: Photoconductivity.sce"
		   ]
		  },
  {
"cell_type": "code",
	   "execution_count": null,
	   "metadata": {
	    "collapsed": true
	   },
	   "outputs": [],
"source": [
"clc\n",
"//Chapter5\n",
"//Ex_11\n",
"//Given\n",
"//part(a)\n",
"h=6.63*10^-34 //in Js\n",
"c=3*10^8 // in m/s\n",
"e=1.6*10^-19 // in coulombs\n",
"ue=0.034 //in m2/V/s\n",
"uh=0.0018 //in m2/V/s\n",
"t=1*10^-3 // in seconds\n",
"L=1*10^-3 //in m\n",
"D=0.1*10^-3 //in m\n",
"W=1*10^-3 //in m\n",
"I=1// mW/cm^2\n",
"I=I*10^-3*10^4 // conversion of units to W/m^2\n",
"n=1 //quantum efficiency\n",
"lambda=450*10^-9 // in m\n",
"V=50 // in volts\n",
"//part(a)\n",
"A=L*W //in m3\n",
"EHP_ph=(A*n*I*lambda)/(h*c)\n",
"disp(EHP_ph,'No.of EHP/s generated per second is')\n",
"//part(b)\n",
"delta_sigma=e*n*I*lambda*t*(ue+uh)/(h*c*D)\n",
"disp(delta_sigma,'Photo conductivity of the sample in ohm^-1 m^-1 is')\n",
"//part(c)\n",
"A=0.1*10^-6 //m2\n",
"E=V/W\n",
"delta_J=E*delta_sigma\n",
"delta_I=A*delta_J\n",
"disp(delta_I*10^3,'Photocurrent produced in mA is')"
   ]
   }
,
{
		   "cell_type": "markdown",
		   "metadata": {},
		   "source": [
			"## Example 5.13: Diffusion_coefficient_of_electrons_in_Si.sce"
		   ]
		  },
  {
"cell_type": "code",
	   "execution_count": null,
	   "metadata": {
	    "collapsed": true
	   },
	   "outputs": [],
"source": [
"clc\n",
"//Chapter5\n",
"//Ex_13\n",
"//Given\n",
"e=1.6*10^-19 // in coulombs\n",
"T=300//in kelvin\n",
"ue=1300 //in cm2/V/s\n",
"//V=k*T/e\n",
"V=0.0259 //thermal voltage in Volts\n",
"//D=ue*k*T/e\n",
"D=ue*V\n",
"disp(D,'Diffusion coefficient of electrons at room temperature in cm2/s is')"
   ]
   }
,
{
		   "cell_type": "markdown",
		   "metadata": {},
		   "source": [
			"## Example 5.17: Photogeneration_in_GaAs.sce"
		   ]
		  },
  {
"cell_type": "code",
	   "execution_count": null,
	   "metadata": {
	    "collapsed": true
	   },
	   "outputs": [],
"source": [
"clc\n",
"//Chapter5\n",
"//Ex_17\n",
"//Given\n",
"Eg=1.42 //in eV\n",
"//letE=hc/lambda=hf\n",
"E=1.96 //in eV\n",
"P_L=50 //in mW\n",
"kT=0.0259 //  in eV\n",
"delta_E=E-(Eg+(3/2)*kT)\n",
"P_H=(P_L/(E))*delta_E\n",
"disp(P_H,'Amount of power dissipated as heat in mW is')"
   ]
   }
,
{
		   "cell_type": "markdown",
		   "metadata": {},
		   "source": [
			"## Example 5.18: Schottky_diode.sce"
		   ]
		  },
  {
"cell_type": "code",
	   "execution_count": null,
	   "metadata": {
	    "collapsed": true
	   },
	   "outputs": [],
"source": [
"clc\n",
"//Chapter5\n",
"//Ex_18\n",
"//Given\n",
"phi_m=4.28 //in eV\n",
"e=1.6*10^-19 // in coulombs\n",
"X=4.01 //in eV\n",
"kT=0.026 // in eV\n",
"Vf=0.1// in V\n",
"T=300//in kelvin\n",
"Be=30 //A/K2/cm2\n",
"A=0.01 //cm2\n",
"//part(a)\n",
"phi_B=phi_m-X\n",
"disp(phi_B,'Theoretical barrier height in eV')\n",
"//part(b)\n",
"phi_B=0.5 //in eV\n",
"Io=A*Be*T^2*exp(-phi_B/kT)\n",
"disp(Io*10^6,'Saturation current in micro amperes is')\n",
"//let/E=e*Vf //in eV\n",
"E=0.1 //in eV\n",
"If=Io*(exp((E/kT))-1)\n",
"disp(If*10^3,'Forward current in milli amperes is')"
   ]
   }
,
{
		   "cell_type": "markdown",
		   "metadata": {},
		   "source": [
			"## Example 5.1: Intrinsic_concentration_and_conduction_of_Si.sce"
		   ]
		  },
  {
"cell_type": "code",
	   "execution_count": null,
	   "metadata": {
	    "collapsed": true
	   },
	   "outputs": [],
"source": [
"clc\n",
"//Chapter5\n",
"//Ex_1\n",
"//Given\n",
"e=1.6*10^-19 // in coulombs\n",
"h=6.6*10^-34 //in J s\n",
"m=9.1*10^-31 //in Kg\n",
"me=1.08*m\n",
"mh=0.56*m\n",
"T=300 //in Kelvin\n",
"Eg=1.10 // in eV\n",
"ue=1350//in cm2/V/s\n",
"uh=450//in cm2/V/s\n",
"k=1.38*10^-23 //m2 kg s-2 K-1\n",
"Nc=2*((2*%pi*me*k*T)/h^2)^(3/2) //in m^-3\n",
"Nc=Nc*10^-6 //in cm^-3\n",
"Nv=2*((2*%pi*mh*k*T)/h^2)^(3/2) //in m^-3\n",
"Nv=Nv*10^-6 //in cm^-3\n",
"ni=sqrt(Nc*Nv)*exp(-Eg*e/(2*k*T))\n",
"disp(ni,'Intrinsic concentration of Si in cm^-3 is')\n",
"sigma=e*ni*(ue+uh)\n",
"p=1/sigma\n",
"disp(p,'Intrinsic resistivity of Si in ohm cm is')"
   ]
   }
,
{
		   "cell_type": "markdown",
		   "metadata": {},
		   "source": [
			"## Example 5.2: Mean_speed_of_electrons_in_conduction_band.sce"
		   ]
		  },
  {
"cell_type": "code",
	   "execution_count": null,
	   "metadata": {
	    "collapsed": true
	   },
	   "outputs": [],
"source": [
"clc\n",
"//Chapter5\n",
"//Ex_2\n",
"//Given\n",
"T=300//in kelvin\n",
"k=1.38*10^-23 // in m2 kg s-2 K-1\n",
"me=9.1*10^-31 // in Kg\n",
"m=0.26*me\n",
"Ve=sqrt(3*k*T/m)\n",
"disp(Ve,'Mean speed of electrons in conduction band in m/s is')"
   ]
   }
,
{
		   "cell_type": "markdown",
		   "metadata": {},
		   "source": [
			"## Example 5.3: Resistivity_of_intrinsic_and_doped_Si.sce"
		   ]
		  },
  {
"cell_type": "code",
	   "execution_count": null,
	   "metadata": {
	    "collapsed": true
	   },
	   "outputs": [],
"source": [
"clc\n",
"//Chapter5\n",
"//Ex_3\n",
"//Given\n",
"e=1.6*10^-19 // in coulombs\n",
"ue=1350//in cm2/V/s\n",
"uh=450//in cm2/V/s\n",
"ni=1.45*10^10 //in cm^-3\n",
"L=1 //in cm\n",
"A=1 //in cm2\n",
"N_Si=5*10^22 //in cm^-3\n",
"sigma=e*ni*(ue+uh)\n",
"R=L/(sigma*A)\n",
"disp(R,'Resistance of a pure Silicon crystal in ohms is')\n",
"Nd=N_Si/10^9\n",
"n=Nd //at room temperature\n",
"p=ni^2/Nd\n",
"sigma=e*n*ue\n",
"R=L/(sigma*A)\n",
"disp(R,'Resistance in ohms of Silicon crystal when dopped with Arsenic with 1 in 10^9 is')\n",
""
   ]
   }
,
{
		   "cell_type": "markdown",
		   "metadata": {},
		   "source": [
			"## Example 5.4: compensation_doping.sce"
		   ]
		  },
  {
"cell_type": "code",
	   "execution_count": null,
	   "metadata": {
	    "collapsed": true
	   },
	   "outputs": [],
"source": [
"clc\n",
"//Chapter5\n",
"//Ex_4\n",
"//Given\n",
"Na=10^17 //acceptor atoms /cm3\n",
"Nd=10^16 //donor atoms /cm3\n",
"p=Na-Nd // in cm^-3\n",
"ni=1.45*10^10 //in cm^-3\n",
"n=ni^2/p\n",
"disp(n,'Electron concentration in cm^-3')"
   ]
   }
,
{
		   "cell_type": "markdown",
		   "metadata": {},
		   "source": [
			"## Example 5.5: fermi_level.sce"
		   ]
		  },
  {
"cell_type": "code",
	   "execution_count": null,
	   "metadata": {
	    "collapsed": true
	   },
	   "outputs": [],
"source": [
"clc\n",
"//Chapter5\n",
"//Ex_5\n",
"//Given\n",
"Na=2*10^17 //acceptor atoms /cm3\n",
"Nd=10^16 //acceptor atoms /cm3\n",
"ni=1.45*10^10 //in cm^-3\n",
"K=0.0259 //  in eV\n",
"//since Nd>>ni\n",
"n=Nd\n",
"//let EFn-EFi=E\n",
"E=K*log(Nd/ni)\n",
"disp(E,'Position of the fermi energy w.r.t fermi energy in intrinsic Si in eV is')\n",
"//for intrinsic Si\n",
"//ni=Nc*exp(-(Ec-E_Fi)/(k*T))\n",
"//for doped Si\n",
"//Nd=Nc*exp(-(Ec-E_Fn)/(k*T))\n",
"//let x=Nd/ni\n",
"//let K=k*T\n",
"p=Na-Nd\n",
"//let E=EFp-EFi\n",
"//let n=p/ni\n",
"E=-K*log(p/ni)\n",
"disp(E,'Position of the fermi energy w.r.t fermi energy in n-type case in eV is')"
   ]
   }
,
{
		   "cell_type": "markdown",
		   "metadata": {},
		   "source": [
			"## Example 5.7: Saturation_and_Intrinsic_temperatures.sce"
		   ]
		  },
  {
"cell_type": "code",
	   "execution_count": null,
	   "metadata": {
	    "collapsed": true
	   },
	   "outputs": [],
"source": [
"clc\n",
"//Chapter5\n",
"//Ex_7\n",
"//Given\n",
"Nd=10^15 //in cm^-3\n",
"Nc=2.8*10^19 //in cm^-3\n",
"Ti=556 // in Kelvin\n",
"k=8.62*10^-5 //in eV/K\n",
"delta_E=0.045 //in eV\n",
"T=300 //in kelvin\n",
"//part(a)\n",
"disp('From fig 5.16 the estimated temperature above which the si sample behaves as if intrinsic is 556 Kelvin')\n",
"//part(b)\n",
"Ts=delta_E/(k*log(Nc/(2*Nd)))\n",
"Nc_Ts=Nc*(Ts/T)^(3/2)\n",
"disp(Ts,'Lowest temperature in kelvin is')\n",
"//the improved temperature \n",
"Ts=delta_E/(k*log(Nc_Ts/(2*Nd)))\n",
"printf('Extrinsic range of Si is %f K to 556 K',Ts)"
   ]
   }
,
{
		   "cell_type": "markdown",
		   "metadata": {},
		   "source": [
			"## Example 5.9: Compensation_Doped_Si.sce"
		   ]
		  },
  {
"cell_type": "code",
	   "execution_count": null,
	   "metadata": {
	    "collapsed": true
	   },
	   "outputs": [],
"source": [
"clc\n",
"//Chapter5\n",
"//Ex_9\n",
"//Given\n",
"e=1.6*10^-19 // in coulombs\n",
"Nd=10^17 //in cm^-3\n",
"Na=9*10^16 //in cm^-3\n",
"//part(a)\n",
"ue1=800 // at 300 kelvin ue in cm2/V/s\n",
"sigma1=e*Nd*ue1\n",
"ue2=420 // at 400 kelvin ue in cm2/V/s\n",
"sigma2=e*Nd*ue2\n",
"disp(sigma2,sigma1,'when Si sample is doped with 10^17 arsenic atoms/cm3, the conductivity of the sample at 300K and 400K in ohm^-1*cm^-1 is')\n",
"//part(b)\n",
"ue1=600 // at 300 kelvin ue in cm2/V/s\n",
"sigma1=e*(Nd-Na)*ue1\n",
"ue2=400 // at 400 kelvin ue in cm2/V/s\n",
"sigma2=e*(Nd-Na)*ue2\n",
"disp(sigma2,sigma1,'when n-type Si is further doped with 9*10^16 boron atoms /cm3, the conductivity of the sample at 300K and 400K in ohm^-1*cm^-1 is')"
   ]
   }
],
"metadata": {
		  "kernelspec": {
		   "display_name": "Scilab",
		   "language": "scilab",
		   "name": "scilab"
		  },
		  "language_info": {
		   "file_extension": ".sce",
		   "help_links": [
			{
			 "text": "MetaKernel Magics",
			 "url": "https://github.com/calysto/metakernel/blob/master/metakernel/magics/README.md"
			}
		   ],
		   "mimetype": "text/x-octave",
		   "name": "scilab",
		   "version": "0.7.1"
		  }
		 },
		 "nbformat": 4,
		 "nbformat_minor": 0
}
