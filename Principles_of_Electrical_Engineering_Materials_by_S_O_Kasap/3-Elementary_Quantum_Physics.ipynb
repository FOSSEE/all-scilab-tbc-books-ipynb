{
"cells": [
 {
		   "cell_type": "markdown",
	   "metadata": {},
	   "source": [
       "# Chapter 3: Elementary Quantum Physics"
	   ]
	},
{
		   "cell_type": "markdown",
		   "metadata": {},
		   "source": [
			"## Example 3.10: Transmission_coefficient.sce"
		   ]
		  },
  {
"cell_type": "code",
	   "execution_count": null,
	   "metadata": {
	    "collapsed": true
	   },
	   "outputs": [],
"source": [
"clc\n",
"//Chapter3\n",
"//Ex_10\n",
"//Given\n",
"h_bar=1.054*10^-34 // in J s\n",
"m=9.1*10^-31 //in Kg\n",
"e=1.6*10^-19 // in coulombs\n",
"Vo=10 //in ev\n",
"Vo=Vo*e //in J\n",
"E=7 // in eV\n",
"E=E*e // in J\n",
"a=5*10^-9 // in m\n",
"alpha=sqrt(2*m*(Vo-E)/h_bar^2)\n",
"To=16*E*(Vo-E)/Vo^2\n",
"T=To*exp(-2*alpha*a)\n",
"disp(T,'Transmission coefficient of condution electrons in copper is')\n",
"a=1*10^-9 // in m\n",
"T=To*exp(-2*alpha*a)\n",
"disp(T,'Transmission coefficient if the oxide barrier is 1 nm is')\n",
"// slight change in the answer due to approximations in alpha value"
   ]
   }
,
{
		   "cell_type": "markdown",
		   "metadata": {},
		   "source": [
			"## Example 3.11: significance_of_small_h.sce"
		   ]
		  },
  {
"cell_type": "code",
	   "execution_count": null,
	   "metadata": {
	    "collapsed": true
	   },
	   "outputs": [],
"source": [
"clc\n",
"//Chapter3\n",
"//Ex_11\n",
"//Given\n",
"h_bar=1.054*10^-34 // in J s\n",
"m=100// in Kg\n",
"g=10 // in m/s2\n",
"h=10 // in m\n",
"h1=15 // in m\n",
"a=10 // in m\n",
"E=m*g*h //total energy of carriage\n",
"Vo=m*g*h1 // PE required to reach the peak \n",
"alpha=sqrt(2*m*(Vo-E)/h_bar^2)\n",
"To=16*E*(Vo-E)/Vo^2\n",
"T=To*exp(-2*alpha*a)\n",
"disp(T, 'Transmission probability is')\n",
"//clculation using h_bar=10 KJs\n",
"h_bar=10*10^3 //Js\n",
"alpha=sqrt(2*m*(Vo-E)/h_bar^2)\n",
"D=Vo^2/(4*E*(Vo-E))\n",
"T=(1+(sinh(alpha*a))^2)^-1\n",
"disp(T,'transmission probability in a universe where h_bar is 10KJs is')"
   ]
   }
,
{
		   "cell_type": "markdown",
		   "metadata": {},
		   "source": [
			"## Example 3.12: number_of_states_with_same_energy.sce"
		   ]
		  },
  {
"cell_type": "code",
	   "execution_count": null,
	   "metadata": {
	    "collapsed": true
	   },
	   "outputs": [],
"source": [
"clc\n",
"//Chapter3\n",
"//Ex_12\n",
"//Given\n",
"x=9\n",
"for n1=1:x\n",
"  for n2=1:x\n",
"   for n3=1:x\n",
"y=n1^2+n2^2+n3^2 //let y=N^2=n1^2+n2^2+n3^2\n",
"if (y==41) \n",
"\n",
"    mprintf('%d\t%d\t%d\n',n1    ,n2    ,n3    )\n",
"    \n",
"end;\n",
"end\n",
"end\n",
"end\n",
"disp('Thus there are nine possible states')"
   ]
   }
,
{
		   "cell_type": "markdown",
		   "metadata": {},
		   "source": [
			"## Example 3.13: wavelengths_of_radiation.sce"
		   ]
		  },
  {
"cell_type": "code",
	   "execution_count": null,
	   "metadata": {
	    "collapsed": true
	   },
	   "outputs": [],
"source": [
"clc\n",
"//Chapter3\n",
"//Ex_13\n",
"//Given\n",
"h=6.6*10^-34 //in J s\n",
"c=3*10^8 //in m/s\n",
"m=9.1*10^-31 //in Kg\n",
"e=1.6*10^-19 // in coulombs\n",
"v=2.1*10^6 // in m/s\n",
"E=m*v^2/2 //in J\n",
"E=E/e // in eV\n",
"E1=-13.6 // in eV\n",
"//change in the energy is E=En-E1\n",
"n=sqrt(-13.6/(E+E1))\n",
"printf(' the electron gets excited to %d level',n)\n",
"n=3\n",
"E3=-13.6/n^2\n",
"delta_E31=E3-E1 // in eV\n",
"delta_E31=delta_E31*e //in J\n",
"lambda_31=h*c/delta_E31\n",
"disp(lambda_31*10^9,'wavelength of emmited radiation from n=3 to n=1 in nm is')\n",
"//Another probability is transition fromm n=3 to n=2\n",
"n=2\n",
"E2=-13.6/n^2\n",
"delta_E32=E3-E2 // in eV\n",
"delta_E32=delta_E32*e // in J\n",
"lambda_32=h*c/delta_E32\n",
"disp(lambda_32*10^9,'wavelength of emmited radiation from n=3 to n=2 in nm is')\n",
"//Another probability is transition fromm n=2 to n=1\n",
"E2=-13.6/n^2\n",
"delta_E21=E2-E1 // in eV\n",
"delta_E21=delta_E21*e // in J\n",
"lambda_21=h*c/delta_E21\n",
"disp(lambda_21*10^9,'wavelength of emmited radiation from n=2 to n=1 in nm is')"
   ]
   }
,
{
		   "cell_type": "markdown",
		   "metadata": {},
		   "source": [
			"## Example 3.14: Ionization_energy.sce"
		   ]
		  },
  {
"cell_type": "code",
	   "execution_count": null,
	   "metadata": {
	    "collapsed": true
	   },
	   "outputs": [],
"source": [
"clc\n",
"//Chapter3\n",
"//Ex_14\n",
"//Given\n",
"Z=2 \n",
"n=1\n",
"E1=-Z^2*13.6/n^2\n",
"E1=abs(E1)\n",
"disp(E1,'Energy required to ionize He+ further in eV is')"
   ]
   }
,
{
		   "cell_type": "markdown",
		   "metadata": {},
		   "source": [
			"## Example 3.15: Fraunhofer_lines.sce"
		   ]
		  },
  {
"cell_type": "code",
	   "execution_count": null,
	   "metadata": {
	    "collapsed": true
	   },
	   "outputs": [],
"source": [
"clc\n",
"//Chapter3\n",
"//Ex_15\n",
"//Given\n",
"Z=1\n",
"n1=2\n",
"n2=3\n",
"R_inf=1.0974*10^7 // in m^-1\n",
"//Let x=1/lambda\n",
"x=R_inf*Z^2*((1/n1^2)-(1/n2^2))\n",
"lambda=1/x\n",
"disp(lambda*10^10, 'Wavelength of first spectral line in Angstroms is')\n",
"n1=2\n",
"n2=4\n",
"x=R_inf*Z^2*((1/n1^2)-(1/n2^2))\n",
"lambda=1/x\n",
"disp(lambda*10^10, 'Wavelength of second spectral line in Angstroms is')\n",
"disp('These spectral lines correspond to H_alpha and H_beta lines of Hydrogen')"
   ]
   }
,
{
		   "cell_type": "markdown",
		   "metadata": {},
		   "source": [
			"## Example 3.16: Giant_atoms_in_space.sce"
		   ]
		  },
  {
"cell_type": "code",
	   "execution_count": null,
	   "metadata": {
	    "collapsed": true
	   },
	   "outputs": [],
"source": [
"clc\n",
"//Chapter3\n",
"//Ex_16\n",
"//Given\n",
"h=6.6*10^-34 //in J s\n",
"e=1.6*10^-19 // in coulombs\n",
"E1=13.6 //in eV\n",
"E1=E1*e //in J\n",
"Z=1\n",
"n1=109\n",
"n2=110\n",
"ao=52.918*10^-12 // in m\n",
"v=Z^2*E1*((1/n1^2)-(1/n2^2))/h\n",
"disp(v*10^-6,'Frequency of radiation in MHz is')\n",
"disp('The frequency of radiation in the transition from n1=109 to n2=110 is same as that of the detected frequency .Hence, the radiation comes from excited hydrogen atoms in the give transition')\n",
"x=2*n2^2*ao\n",
"disp(x*10^6,'The sie of the atom in micro meter is')\n",
"//slight difference in the answer is due to approximations"
   ]
   }
,
{
		   "cell_type": "markdown",
		   "metadata": {},
		   "source": [
			"## Example 3.1: energy.sce"
		   ]
		  },
  {
"cell_type": "code",
	   "execution_count": null,
	   "metadata": {
	    "collapsed": true
	   },
	   "outputs": [],
"source": [
"clc\n",
"//Chapter3\n",
"//Ex_1\n",
"//Given\n",
"lambda=450*10^-9 // in nm\n",
"h=6.6*10^-34 //in J s\n",
"e=1.6*10^-19 // in coulombs\n",
"c=3*10^8 //in m/s\n",
"E_ph=h*c/lambda //in J\n",
"E_ph=E_ph/e // in eV\n",
"disp(E_ph,' Energy of blue photon in eV is')"
   ]
   }
,
{
		   "cell_type": "markdown",
		   "metadata": {},
		   "source": [
			"## Example 3.20: efficiency_of_HeNe_laser.sce"
		   ]
		  },
  {
"cell_type": "code",
	   "execution_count": null,
	   "metadata": {
	    "collapsed": true
	   },
	   "outputs": [],
"source": [
"clc\n",
"//Chapter3\n",
"//Ex_20\n",
"//Given\n",
"P_out=2.5*10^-3 // in Watt\n",
"I=5*10^-3 // in Amp\n",
"V=2000 // in volts\n",
"P_in=V*I\n",
"E=(P_out/P_in)*100\n",
"disp(E,'Efficiency of the laser in % is')"
   ]
   }
,
{
		   "cell_type": "markdown",
		   "metadata": {},
		   "source": [
			"## Example 3.21: Doppler_Broadened_Linewidth.sce"
		   ]
		  },
  {
"cell_type": "code",
	   "execution_count": null,
	   "metadata": {
	    "collapsed": true
	   },
	   "outputs": [],
"source": [
"clc\n",
"//Chapter3\n",
"//Ex_21\n",
"//Given\n",
"lambda_o=632.8*10^-9 //in m\n",
"c=3*10^8 //in m/s\n",
"T=127 //in degree celcius\n",
"T=T+273 // in Kelvin\n",
"m_A=20.2*10^-3 // in Kg/mol\n",
"NA=6.023*10^23 //mol^-1\n",
"k=1.38*10^-23 //in J/K\n",
"m=m_A/NA //in Kg\n",
"vx=sqrt(k*T/m)\n",
"vo=c/lambda_o\n",
"delta_v=2*vo*vx/c\n",
"disp(delta_v*10^-9,'delta_v in GHz is')\n",
"delta_lambda=delta_v*(-lambda_o/vo)\n",
"disp(abs(delta_lambda),'delta_lambda in meters is')"
   ]
   }
,
{
		   "cell_type": "markdown",
		   "metadata": {},
		   "source": [
			"## Example 3.2: Photoelectric_experiment.sce"
		   ]
		  },
  {
"cell_type": "code",
	   "execution_count": null,
	   "metadata": {
	    "collapsed": true
	   },
	   "outputs": [],
"source": [
"clc\n",
"//Chapter3\n",
"//Ex_2\n",
"//Given\n",
"lambda_o=522*10^-9 // in nm\n",
"lambda=250*10^-9 // in nm\n",
"h=6.6*10^-34 //in J s\n",
"c=3*10^8 //in m/s\n",
"e=1.6*10^-19 //in coulombs\n",
"I=20*10^-3 //in W/cm2\n",
"I=20*10^-3*10^4 //in J/s/m2\n",
"//part(a)\n",
"phi=h*c/(lambda_o*e) //in eV\n",
"disp(phi,'Work function of sodium in eV is')\n",
"KE=h*c/(lambda*e)-phi\n",
"disp(KE,'Kinetic energy of photoemitted electrons in eV is')\n",
"J=(e*I*lambda)/(h*c)\n",
"disp(J,'Photoelectric current density in A/m2 is')"
   ]
   }
,
{
		   "cell_type": "markdown",
		   "metadata": {},
		   "source": [
			"## Example 3.4: wavelength_of_electron.sce"
		   ]
		  },
  {
"cell_type": "code",
	   "execution_count": null,
	   "metadata": {
	    "collapsed": true
	   },
	   "outputs": [],
"source": [
"clc\n",
"//Chapter3\n",
"//Ex_4\n",
"//Given\n",
"theta=15.2 // in degree\n",
"d=0.234 // in nm\n",
"V=100 //in V\n",
"lambda=2*d*sind(theta) //Braggs condition\n",
"disp(lambda,'Wavelength of electron in nm is')\n",
"lambda=1.226/sqrt(V) //debroglie wavelength in nm\n",
"disp(lambda,'de Broglie Wavelength of electron in nm is')\n",
"disp('de Broglie Wavelength is in excellent agreement with that determined from Braggs condition')"
   ]
   }
,
{
		   "cell_type": "markdown",
		   "metadata": {},
		   "source": [
			"## Example 3.5: energy.sce"
		   ]
		  },
  {
"cell_type": "code",
	   "execution_count": null,
	   "metadata": {
	    "collapsed": true
	   },
	   "outputs": [],
"source": [
"clc\n",
"//Chapter3\n",
"//Ex_5\n",
"//Given\n",
"h=6.6*10^-34 //in J s\n",
"c=3*10^8 //in m/s\n",
"n=1\n",
"m=9.1*10^-31 //in Kg\n",
"a=0.1*10^-9 //in m\n",
"e=1.6*10^-19 //in coulombs\n",
"E1=(h^2*n^2)/(8*m*a^2)\n",
"E1=E1/e //in eV\n",
"disp(E1,'Ground Energy of the electron in J is')\n",
"//part(b)\n",
"n=3\n",
"E3=E1*n^2\n",
"disp(E3,'Energy required to put the electrons in third energy level in eV is')\n",
"E=E3-E1\n",
"disp(E,'Energy required to take the electron from E1 to E3 in eV is ')\n",
"lambda=h*c/(E*e)\n",
"disp(lambda,'wavelength of the required photon in nm is')\n",
"disp( 'which is an X-ray photon')"
   ]
   }
,
{
		   "cell_type": "markdown",
		   "metadata": {},
		   "source": [
			"## Example 3.6: separation_of_energy_levels.sce"
		   ]
		  },
  {
"cell_type": "code",
	   "execution_count": null,
	   "metadata": {
	    "collapsed": true
	   },
	   "outputs": [],
"source": [
"clc\n",
"//Chapter3\n",
"//Ex_6\n",
"//Given\n",
"h=6.6*10^-34 //in J s\n",
"c=3*10^8 //in m/s\n",
"n=1\n",
"m=0.1 //in Kg\n",
"a=1 //in m\n",
"E1=(h^2*n^2)/(8*m*a^2)\n",
"v=sqrt(2*E1/m)\n",
"disp(v,'Minimum speed of the object in m/s')\n",
"//calculation of quantum number n \n",
"v=1 //in m/s\n",
"E_n=m*v^2/2\n",
"n=sqrt((8*m*a^2*E_n)/h^2)\n",
"disp(n,'Quantum number if the object is moving with a minimum speed of 1m/s is')\n",
"delta_E=(h^2/(8*m*a^2))*(2*n+1) //delta_E=E_n+1-En\n",
"disp(delta_E,'Separation of energy levels of the object moving with speed of 1 m/s in Joules is ')"
   ]
   }
,
{
		   "cell_type": "markdown",
		   "metadata": {},
		   "source": [
			"## Example 3.8: uncertainity_principle_on_Atomic_scale.sce"
		   ]
		  },
  {
"cell_type": "code",
	   "execution_count": null,
	   "metadata": {
	    "collapsed": true
	   },
	   "outputs": [],
"source": [
"clc\n",
"//Chapter3\n",
"//Ex_8\n",
"//Given\n",
"h_bar=1.054*10^-34 // in J s\n",
"delta_x=0.1*10^-9 //in m\n",
"m_e=9.1*10^-31 //in Kg\n",
"delta_Px=h_bar/delta_x\n",
"disp(delta_Px,'uncertainity in momemtum in Kg m/s is')\n",
"delta_v=delta_Px/m_e\n",
"KE=delta_Px^2/(2*m_e)\n",
"disp(KE,'Uncertainity in Kinetic Energy in J is')"
   ]
   }
,
{
		   "cell_type": "markdown",
		   "metadata": {},
		   "source": [
			"## Example 3.9: uncertainity_principle_with_macroscopic_objects.sce"
		   ]
		  },
  {
"cell_type": "code",
	   "execution_count": null,
	   "metadata": {
	    "collapsed": true
	   },
	   "outputs": [],
"source": [
"clc\n",
"//Chapter3\n",
"//Ex_9\n",
"//Given\n",
"h_bar=1.054*10^-34 // in J s\n",
"delta_x=1 //in m\n",
"m=0.1 //in Kg\n",
"delta_Px=h_bar/delta_x\n",
"delta_v=delta_Px/m\n",
"disp(delta_v,'minimum uncetainity in the velocity in m/s is')"
   ]
   }
],
"metadata": {
		  "kernelspec": {
		   "display_name": "Scilab",
		   "language": "scilab",
		   "name": "scilab"
		  },
		  "language_info": {
		   "file_extension": ".sce",
		   "help_links": [
			{
			 "text": "MetaKernel Magics",
			 "url": "https://github.com/calysto/metakernel/blob/master/metakernel/magics/README.md"
			}
		   ],
		   "mimetype": "text/x-octave",
		   "name": "scilab",
		   "version": "0.7.1"
		  }
		 },
		 "nbformat": 4,
		 "nbformat_minor": 0
}
