{
"cells": [
 {
		   "cell_type": "markdown",
	   "metadata": {},
	   "source": [
       "# Chapter 6: Semiconductor devices"
	   ]
	},
{
		   "cell_type": "markdown",
		   "metadata": {},
		   "source": [
			"## Example 6.10: jet_amplifier.sce"
		   ]
		  },
  {
"cell_type": "code",
	   "execution_count": null,
	   "metadata": {
	    "collapsed": true
	   },
	   "outputs": [],
"source": [
"clc\n",
"//Chapter6\n",
"//Ex_10\n",
"//Given\n",
"V_GS=-1.5 //in Volts\n",
"V_GS_off=-5 //in Volts\n",
"I_DSS=10*10^-3 // in A\n",
"R_D=2000 // in ohms\n",
"I_DS=I_DSS*(1-(V_GS/V_GS_off))^2 // in A\n",
"gm=-2*sqrt(I_DSS*I_DS)/V_GS_off\n",
"Av=-gm*R_D\n",
"disp(Av,'voltage amplification for small signal is')"
   ]
   }
,
{
		   "cell_type": "markdown",
		   "metadata": {},
		   "source": [
			"## Example 6.11: drain_current.sce"
		   ]
		  },
  {
"cell_type": "code",
	   "execution_count": null,
	   "metadata": {
	    "collapsed": true
	   },
	   "outputs": [],
"source": [
"clc\n",
"//Chapter6\n",
"//Ex_11\n",
"//Given\n",
"Z=50*10^-6 //in m\n",
"L=10*10^-6 //in m\n",
"t_ox=450*10^-10 //in m\n",
"V_GS=8//in V\n",
"V_th=4//in V\n",
"V_DS=20//in V\n",
"lambda=0.01\n",
"ue=750*10^-4 //in m2/V/s\n",
"epsilon_r=3.9\n",
"epsilon_o=8.85*10^-12//F/m2\n",
"epsilon=epsilon_r*epsilon_o\n",
"K=(Z*ue*epsilon)/(2*L*t_ox)\n",
"I_DS=K*(V_GS-V_th)^2*(1+lambda*V_DS)\n",
"disp(I_DS*10^3,'drain current in mA is')"
   ]
   }
,
{
		   "cell_type": "markdown",
		   "metadata": {},
		   "source": [
			"## Example 6.13: shot_noise.sce"
		   ]
		  },
  {
"cell_type": "code",
	   "execution_count": null,
	   "metadata": {
	    "collapsed": true
	   },
	   "outputs": [],
"source": [
"clc\n",
"//Chapter6\n",
"//Ex_13\n",
"//Given\n",
"e=1.6*10^-19 // in coulombs\n",
"I=10^-3 //in A\n",
"Th=10^-6 //in s\n",
"B=1/Th //in Hz\n",
"i_sn=sqrt(2*e*I*B)\n",
"disp(i_sn,'shot noise current in amperes is')"
   ]
   }
,
{
		   "cell_type": "markdown",
		   "metadata": {},
		   "source": [
			"## Example 6.1: Built_in_potential.sce"
		   ]
		  },
  {
"cell_type": "code",
	   "execution_count": null,
	   "metadata": {
	    "collapsed": true
	   },
	   "outputs": [],
"source": [
"clc\n",
"//Chapter6\n",
"//Ex_1\n",
"//Given\n",
"//let K=kT/e\n",
"K=0.0259 //in V\n",
"Nd=10^17 //in cm^-3\n",
"Na=10^16 //in cm^-3\n",
"ni_Si=1.45*10^10 //in cm^-3\n",
"ni_Ge=2.40*10^13 //in cm^-3\n",
"ni_GaAs=1.79*10^6 //in cm^-3\n",
"//Vo=(k*T/e)*log(Nd*Na/ni^2)\n",
"Vo_Si=(K)*log(Nd*Na/ni_Si^2)\n",
"disp(Vo_Si,'Built in potential for Si in Volts is')\n",
"Vo_Ge=(K)*log(Nd*Na/ni_Ge^2)\n",
"disp(Vo_Ge,'Built in potential for Ge in Volts is')\n",
"Vo_GaAs=(K)*log(Nd*Na/ni_GaAs^2)\n",
"disp(Vo_GaAs,'Built in potential for GaAs in Volts is')"
   ]
   }
,
{
		   "cell_type": "markdown",
		   "metadata": {},
		   "source": [
			"## Example 6.2: depletion_width.sce"
		   ]
		  },
  {
"cell_type": "code",
	   "execution_count": null,
	   "metadata": {
	    "collapsed": true
	   },
	   "outputs": [],
"source": [
"clc\n",
"//Chapter6\n",
"//Ex_2\n",
"//Given\n",
"//let K=kT/e\n",
"K=0.0259 //in V\n",
"Na=10^18 //in cm^-3\n",
"Nd=10^16 //in cm^-3\n",
"e=1.6*10^-19 // in coulombs\n",
"Eo=8.85*10^-12 //in m-3 kg-1 s4 A2\n",
"Er=11.9 \n",
"E=Eo*Er\n",
"ni=1.45*10^10 //in cm^-3\n",
"//Vo=(k*T/e)*log(Nd*Na/ni^2)\n",
"Vo=(K)*log(Nd*Na/ni^2)\n",
"disp(Vo)\n",
"Nd=Nd*10^6 //in m^-3\n",
"Wo=sqrt(2*E*Vo/(e*Nd))\n",
"disp(Wo*10^6,'Depletion width in micro meters is')"
   ]
   }
,
{
		   "cell_type": "markdown",
		   "metadata": {},
		   "source": [
			"## Example 6.3: Forward_and_Reverse_biased.sce"
		   ]
		  },
  {
"cell_type": "code",
	   "execution_count": null,
	   "metadata": {
	    "collapsed": true
	   },
	   "outputs": [],
"source": [
"clc\n",
"//Chapter6\n",
"//Ex_3\n",
"//Given\n",
"//part(a)\n",
"//let K=k*T/e\n",
"K=0.0259 // in V\n",
"Te=5*10^-9 // in s\n",
"Th=417*10^-9 // in s\n",
"ue=120 //in cm2/V/s\n",
"uh=440 //in cm2/V/s\n",
"Na=5*10^18 // in cm^-3\n",
"Nd=10^16 //in cm^-3\n",
"T1=300 //in kelvin\n",
"T2=373 //in kelvin\n",
"Tg=10^-6 //in seconds\n",
"Vr=5 //in volts\n",
"ni_300=1.45*10^10 //in cm^-3 at 300K\n",
"ni_373=1.2*10^12 //in cm^-3 at 373K\n",
"A=0.01 //in cm2\n",
"e=1.6*10^-19 // in coulombs\n",
"epsilon_o=8.85*10^-12 //in F/m\n",
"epsilon_r=11.9\n",
"V=0.6 //in v\n",
"//De=k*T*ue/e\n",
"De=K*ue\n",
"Dh=K*uh\n",
"Le=sqrt(De*Te)\n",
"Lh=sqrt(Dh*Th)\n",
"disp(Le,'Diffusion length of electrons in cm is')\n",
"disp(Lh,'Diffusion length of holes in cm is')\n",
"//part(b)\n",
"//Vo=(k*T/e)*log(Nd*Na/ni^2)\n",
"Vo=K*log(Nd*Na/ni_300^2)\n",
"disp(Vo,'Built-in potential in volts is')\n",
"//part(C)\n",
"Iso_300=A*e*ni_300^2*Dh/(Lh*Nd)\n",
"//I=Iso*exp(eV/kT)\n",
"I=Iso_300*exp(V/K)\n",
"disp(I,'Current when there is a forward bias of 0.6 V at 300K in Amperes is')\n",
"//part(d)\n",
"Iso_373=Iso_300*(ni_373/ni_300)^2\n",
"I=Iso_373*exp((V/K)*(T1/T2))\n",
"disp(I,'Current when there is a forward bias of 0.6 V at 373K in Amperes is')\n",
"//part(e)\n",
"Nd=Nd*10^6 //in m^-3\n",
"epsilon=epsilon_o*epsilon_r\n",
"W=sqrt(2*epsilon*(Vo+Vr)/(e*Nd))\n",
"W=W*10^2 //in cm\n",
"ni=1.45*10^10 //in cm^-3\n",
"I_gen=e*A*W*ni/Tg\n",
"disp(I_gen,'Thermal generation current in Amperes is')"
   ]
   }
,
{
		   "cell_type": "markdown",
		   "metadata": {},
		   "source": [
			"## Example 6.5: resistance_and_capacitance.sce"
		   ]
		  },
  {
"cell_type": "code",
	   "execution_count": null,
	   "metadata": {
	    "collapsed": true
	   },
	   "outputs": [],
"source": [
"clc\n",
"//Chapter6\n",
"//Ex_5\n",
"//Given\n",
"A=10^-6 //in m2\n",
"Vo=0.856 //in V\n",
"I=5*10^-3 // in Amperes\n",
"Iso=0.176*10^-12 //in Amperes\n",
"e=1.6*10^-19 // in coulombs\n",
"Eo=8.85*10^-12 //in m-3 kg-1 s4 A2\n",
"Er=11.9 \n",
"Th=417*10^-9 //in seconds\n",
"Nd=10^22 //in m^-3\n",
"//let K=kT/e\n",
"K=0.0259 //in V\n",
"//Vo=(k*T/e)*log(I/Iso)\n",
"V=(K)*log(I/Iso)\n",
"I=5 // in mA\n",
"rd=25/I\n",
"disp(rd,'Incremental diode resistance in ohms is')\n",
"E=Eo*Er\n",
"C_dep=A*sqrt((e*E*Nd)/(2*(Vo-V)))\n",
"disp(C_dep,'Depletion capacitance of the diode in Farads')\n",
"C_diff=Th*I/25\n",
"disp(C_diff,'Incremental difusion coefficient in Farads is')"
   ]
   }
,
{
		   "cell_type": "markdown",
		   "metadata": {},
		   "source": [
			"## Example 6.6: Avalanche_breakdown.sce"
		   ]
		  },
  {
"cell_type": "code",
	   "execution_count": null,
	   "metadata": {
	    "collapsed": true
	   },
	   "outputs": [],
"source": [
"clc\n",
"//Chapter6\n",
"//Ex_6\n",
"//Given\n",
"e=1.6*10^-19 // in coulombs\n",
"Nd=10^16 //in cm^-3\n",
"Ebr=4*10^5//in V/cm\n",
"epsilono=8.85*10^-12*10^-2 //in F/cm\n",
"epsilonr=11.9 \n",
"epsilon=epsilono*epsilonr\n",
"Vbr=epsilon*Ebr^2/(2*e*Nd)\n",
"disp(Vbr,'Reverse break down voltage of the Si diode in Volts is')\n",
"//part(b)\n",
"Nd=10^17 //in cm^-3\n",
"Ebr=6*10^5//in V/cm\n",
"Vbr=epsilon*Ebr^2/(2*e*Nd)\n",
"disp(Vbr,'Reverse break down voltage in Volts when phosphorous doping is incresed to 10^17 cm^-3 is')"
   ]
   }
,
{
		   "cell_type": "markdown",
		   "metadata": {},
		   "source": [
			"## Example 6.7: A_pnp_transistor.sce"
		   ]
		  },
  {
"cell_type": "code",
	   "execution_count": null,
	   "metadata": {
	    "collapsed": true
	   },
	   "outputs": [],
"source": [
"clc\n",
"//Chapter6\n",
"//Ex_7\n",
"//Given\n",
"//part(a)\n",
"Th=250*10^-9 //in seconds\n",
"A=0.02*10^-2 //in cm2\n",
"Av=10 //voltage gain\n",
"ni=1.45*10^10 //in cm^-3\n",
"Nd=2*10^16 //in cm^-3\n",
"W_B=2*10^-4 //in cm\n",
"uh=410 //in cm2/V/s\n",
"I_E=2.5*10^-3 //in Amperes\n",
"//let K=kT/e\n",
"K=0.0259 //in V\n",
"//Dh=(kT/e)*uh\n",
"Dh=K*uh\n",
"Tt=W_B^2/(2*Dh)\n",
"e=1.6*10^-19 // in coulombs\n",
"alpha=1-(Tt/Th)\n",
"disp(alpha,'CB current transfer ratio is')\n",
"funcprot(0)\n",
"beta=alpha/(1-alpha)\n",
"disp(beta,'current gain is')\n",
"//part(c)\n",
"I_EO=e*A*Dh*ni^2/(Nd*W_B)\n",
"//V_EB=(k*T/e)*log(I_E/I_EO)\n",
"V_EB=(K)*log(I_E/I_EO)\n",
"disp(V_EB,'V_EB in volts is')\n",
"//re=(k*T/e)/IE=25/IE(mA)\n",
"I_E=2.5 //in mA\n",
"re=25/I_E\n",
"disp(re,'small signal input resistance in ohms is')\n",
"//part(d)\n",
"R_C=Av*re\n",
"disp(R_C,'R_C in ohms is')\n",
"//part(e)\n",
"I_E=2.5*10^-3 //in Amperes\n",
"I_B=I_E*(1-alpha)\n",
"disp(I_B*10^6,'base current in micro amperes is')\n",
"//part(f)\n",
"f=1/Tt\n",
"disp(f*10^-6,'upper frequency range limit in MHz is')"
   ]
   }
,
{
		   "cell_type": "markdown",
		   "metadata": {},
		   "source": [
			"## Example 6.8: Emitter_Injection_Efficiency.sce"
		   ]
		  },
  {
"cell_type": "code",
	   "execution_count": null,
	   "metadata": {
	    "collapsed": true
	   },
	   "outputs": [],
"source": [
"clc\n",
"//Chapter6\n",
"//Ex_8\n",
"//Given\n",
"//part(c)\n",
"Nd=2*10^16 //in cm^-3\n",
"Na=10^19 //in cm^-3\n",
"W_B=2*10^-4 //in cm\n",
"W_E=2*10^-4 //in cm\n",
"ue=110 //in cm2/V/s\n",
"uh=410 //in cm2/V/s\n",
"Th=250*10^-9 //in seconds\n",
"//let K=kT/e\n",
"K=0.0259 //in V\n",
"//Dh=(kT/e)*uh\n",
"Dh=K*uh\n",
"Tt=W_B^2/(2*Dh)\n",
"gamma=1/(1+((Nd*W_B*ue)/(Na*W_E*uh)))\n",
"disp(gamma,'Injection frequency is')\n",
"alpha=gamma*(1-(Tt/Th))\n",
"disp(alpha,'Modified alpha is')\n",
"beta=alpha/(1-alpha)\n",
"disp(beta,'modified current gain is')"
   ]
   }
,
{
		   "cell_type": "markdown",
		   "metadata": {},
		   "source": [
			"## Example 6.9: power_and_voltage.sce"
		   ]
		  },
  {
"cell_type": "code",
	   "execution_count": null,
	   "metadata": {
	    "collapsed": true
	   },
	   "outputs": [],
"source": [
"clc\n",
"//Chapter6\n",
"//Ex_9\n",
"//Given\n",
"//rms output voltage\n",
"Ic=2.5 // in mA\n",
"Rc=1000 //in ohms\n",
"beta=100\n",
"vs=1//in mV\n",
"Rs=50 // in ohms\n",
"r_be=beta*25/Ic //Ic in mA\n",
"gm=Ic/25 //Ic in mA\n",
"//Av=v_ce/v_be=gm*Rc\n",
"Av=gm*Rc\n",
"v_be=vs*(r_be)/(r_be+Rs)//in mV\n",
"v_ce=Av*v_be\n",
"disp(v_ce,'rms output voltage in mV is')\n",
"v_be=v_be*10^-3 //in volts\n",
"Ap=beta*Av\n",
"P_in=v_be^2/r_be\n",
"disp(P_in*10^9,'Input power in watts is')\n",
"P_out=P_in*Ap\n",
"disp(P_out*10^6,'output power in watts is')\n",
""
   ]
   }
],
"metadata": {
		  "kernelspec": {
		   "display_name": "Scilab",
		   "language": "scilab",
		   "name": "scilab"
		  },
		  "language_info": {
		   "file_extension": ".sce",
		   "help_links": [
			{
			 "text": "MetaKernel Magics",
			 "url": "https://github.com/calysto/metakernel/blob/master/metakernel/magics/README.md"
			}
		   ],
		   "mimetype": "text/x-octave",
		   "name": "scilab",
		   "version": "0.7.1"
		  }
		 },
		 "nbformat": 4,
		 "nbformat_minor": 0
}
