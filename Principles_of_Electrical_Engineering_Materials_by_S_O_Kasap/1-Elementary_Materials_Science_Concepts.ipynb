{
"cells": [
 {
		   "cell_type": "markdown",
	   "metadata": {},
	   "source": [
       "# Chapter 1: Elementary Materials Science Concepts"
	   ]
	},
{
		   "cell_type": "markdown",
		   "metadata": {},
		   "source": [
			"## Example 1.10: concentration_of_vacancies.sce"
		   ]
		  },
  {
"cell_type": "code",
	   "execution_count": null,
	   "metadata": {
	    "collapsed": true
	   },
	   "outputs": [],
"source": [
"clc\n",
"//Chapter1\n",
"//Ex_1.10\n",
"//Given\n",
"NA=6.023*10^23 //mol^-1\n",
"d=2.33 //density of Si in g/cm3\n",
"Mat=28.09//g/mol\n",
"Ev=2.4 //ev/atom\n",
"Ev=2.4*1.6*10^-19 //J/atom\n",
"k=1.38*10^-23 //J/K\n",
"T=300 //kelvin\n",
"T1=1000//degree celcius\n",
"T1=T1+273 //in kelvin\n",
"N= (NA*d)/Mat\n",
"//at room temperature\n",
"nv=N*exp(-(Ev/(k*T)))\n",
"disp(nv,'concentration of vacancies in a Si crystal at room temperature in cm^-3 is')\n",
"//at 1000 degree celcius\n",
"nv=N*exp(-(Ev/(k*T1)))\n",
"disp(nv,'concentration of vacancies in a Si crystal at 1000 degree celcius in cm^-3 is')"
   ]
   }
,
{
		   "cell_type": "markdown",
		   "metadata": {},
		   "source": [
			"## Example 1.11: weight_fractions.sce"
		   ]
		  },
  {
"cell_type": "code",
	   "execution_count": null,
	   "metadata": {
	    "collapsed": true
	   },
	   "outputs": [],
"source": [
"clc\n",
"//Chapter1\n",
"//Ex_1.11\n",
"//Given\n",
"//from fig 7.1\n",
"//at 210 degree celcius\n",
"disp('At 210 degree celcius')\n",
"C_L=50 //CL=50% Sn\n",
"C_alpha=18 //C_alpha=18% Sn\n",
"Co=40 // solidification of alloy\n",
"//lever rule\n",
"W_alpha=(C_L-Co)/(C_L-C_alpha)\n",
"disp(W_alpha*100,'weight fraction of alpha in the alloy is')\n",
"W_L=1-W_alpha\n",
"disp(W_L*100,'weight fraction of liquid phase in the alloy is')\n",
"//at 183.5 degree celcius\n",
"disp('At 183.5 degree celcius')\n",
"C_L=61.9 //CL=50% Sn\n",
"C_alpha=19.2 //C_alpha=18% Sn\n",
"Co=40 // solidification of alloy\n",
"//lever rule\n",
"W_alpha=(C_L-Co)/(C_L-C_alpha)\n",
"disp(W_alpha*100,'weight fraction of alpha in the alloy is')\n",
"W_L=1-W_alpha\n",
"disp(W_L*100,'weight fraction of liquid phase in the alloy is')\n",
"//at 182.5 degree celcius\n",
"disp('At 182.5 degree celcius')\n",
"C_beta=97.5 //CL=50% Sn\n",
"C_alpha=19.2 //C_alpha=18% Sn\n",
"Co=40 // solidification of alloy\n",
"//lever rule\n",
"W_alpha=(C_beta-Co)/(C_beta-C_alpha)\n",
"disp(W_alpha*100,'weight fraction of alpha in the alloy is')\n",
"W_beta=1-W_alpha\n",
"disp(W_beta*100,'weight fraction of beta phase in the alloy is')"
   ]
   }
,
{
		   "cell_type": "markdown",
		   "metadata": {},
		   "source": [
			"## Example 1.1: Bond_length_and_bond_energy.sce"
		   ]
		  },
  {
"cell_type": "code",
	   "execution_count": null,
	   "metadata": {
	    "collapsed": true
	   },
	   "outputs": [],
"source": [
"clc\n",
"//Chapter1\n",
"//Ex_1.1\n",
"//Given\n",
"A=8*10^-77 // in J m^6\n",
"B=1.12*10^-133 // in J m^12\n",
"//lennard-Jones 6-12 potential Energy (PE)curve is E(r)=-A*r^-6+B*r^-12\n",
"//For bonding to occur PE should be minimum, hence differentiating the PE equation and setting it to Zero at r=ro we get\n",
"ro=(2*B/A)^(1/6)\n",
"disp(ro,'Bond length in meters is')\n",
"E_bond= -A*ro^-6+(B*ro^-12)//in J\n",
"E_bond=abs(E_bond/(1.6*10^-19))\n",
"disp(E_bond,'Bond Energy for solid argon in ev is')"
   ]
   }
,
{
		   "cell_type": "markdown",
		   "metadata": {},
		   "source": [
			"## Example 1.2: rms_velocity.sce"
		   ]
		  },
  {
"cell_type": "code",
	   "execution_count": null,
	   "metadata": {
	    "collapsed": true
	   },
	   "outputs": [],
"source": [
"clc\n",
"//Chapter1\n",
"//Ex_1.2\n",
"//Given\n",
"R=8.314 // in J/mol/K\n",
"T=27 //in degree celcius\n",
"T=T+273 //in Kelvin\n",
"M_at=14 //in g/mol\n",
"//From Kinetic Theory\n",
"V_rms=sqrt((3*R*T)/(2*M_at*10^-3))\n",
"disp(V_rms,'rms velocity of Nitrogen molecule in atmosphere at 300K in m/s is')\n",
"V_rmsx=V_rms/sqrt(3)\n",
"disp(V_rmsx,'rms velocity in one direction in m/s is')"
   ]
   }
,
{
		   "cell_type": "markdown",
		   "metadata": {},
		   "source": [
			"## Example 1.3: heat_capacity.sce"
		   ]
		  },
  {
"cell_type": "code",
	   "execution_count": null,
	   "metadata": {
	    "collapsed": true
	   },
	   "outputs": [],
"source": [
"clc\n",
"//Chapter1\n",
"//Ex_1.3\n",
"//Given\n",
"R=8.314 // in J/mol/K\n",
"M_at=63.6 //in g/mol\n",
"//Acc. to Dulong -Petit rule Cm=3R for NA atoms\n",
"C_gram=3*R/M_at \n",
"disp(C_gram,'Heat Capacity of copper per unit gram in J/g/K is')"
   ]
   }
,
{
		   "cell_type": "markdown",
		   "metadata": {},
		   "source": [
			"## Example 1.4: speed_of_gas_with_non_interacting_electrons.sce"
		   ]
		  },
  {
"cell_type": "code",
	   "execution_count": null,
	   "metadata": {
	    "collapsed": true
	   },
	   "outputs": [],
"source": [
"clc\n",
"//Chapter1\n",
"//Ex_1.4\n",
"//Given\n",
"k=1.38*10^-23 //in J/K\n",
"m=9.1*10^-31 // in Kg\n",
"T=300 // in Kelvin\n",
"v_av=sqrt(8*k*T/(%pi*m))\n",
"disp(v_av*10^-3,'Mean speed for a gas of non interacting electrons in Km is ')\n",
"v=sqrt(2*k*T/(m))\n",
"disp(v*10^-3,'Most probable speed for a gas of non interacting electrons in Km is')\n",
"v_rms=sqrt(3*k*T/(m))\n",
"disp(v_rms*10^-3,'rms velocity for a gas of non interacting electrons in Km is')"
   ]
   }
,
{
		   "cell_type": "markdown",
		   "metadata": {},
		   "source": [
			"## Example 1.5: Minimum_rms_radio_signal.sce"
		   ]
		  },
  {
"cell_type": "code",
	   "execution_count": null,
	   "metadata": {
	    "collapsed": true
	   },
	   "outputs": [],
"source": [
"clc\n",
"//Chapter1\n",
"//Ex_1.5\n",
"//Given\n",
"L=100*10^-6//in Henry\n",
"C=100 *10^-12 //in Farad\n",
"T=300 // in Kelvin\n",
"R=200*10^3 //in ohms\n",
"k=1.38*10^-23 //in J/K\n",
"fo=1/(2*%pi*sqrt(L*C))//resonant frequency\n",
"Q=2*%pi*fo*C*R//quality factor\n",
"B=fo/Q //Bandwidth of tuned RLC \n",
"//Acc. to Johnson resistor noise equation\n",
"Vrms=sqrt(4*k*T*R*B) //in volts\n",
"Vrms=Vrms/10^-6 //in micro volts\n",
"disp(Vrms,' Minimum rms radio signal that can be detected in micro volts is')\n",
""
   ]
   }
,
{
		   "cell_type": "markdown",
		   "metadata": {},
		   "source": [
			"## Example 1.7: density_of_Cu.sce"
		   ]
		  },
  {
"cell_type": "code",
	   "execution_count": null,
	   "metadata": {
	    "collapsed": true
	   },
	   "outputs": [],
"source": [
"clc\n",
"//Chapter1\n",
"//Ex_1.7\n",
"//Given\n",
"n=4\n",
"M_at=63.55*10^-3//Kg/mol\n",
"NA=6.022*10^23 //mol^-1\n",
"R=0.128// in nm\n",
"c=8 //no.of cornersof unit cells\n",
"f=6 //no.of faces of unit cells\n",
"//a\n",
"N=c*(1/8)+f*(1/2)\n",
"disp(N,'No. of atoms per unit cells is')\n",
"//b\n",
"//Lattice parameter \n",
"a=R*2*2^(1/2)\n",
"disp(a,'Lattice Parameter in nm is')\n",
"a=a*10^-9 //in m\n",
"//c\n",
"//APF=(No.of atoms in unit cell)*(Vol. of atom)/(Vol. of unit cell)\n",
"APF=4^2*%pi/(3*(2*sqrt(2))^3)\n",
"disp(APF,'Atomic Packing Factor is')\n",
"//d\n",
"p=n*M_at/(a^3*NA) //density \n",
"disp(p,'density of Copper in Kg/m3 is')"
   ]
   }
,
{
		   "cell_type": "markdown",
		   "metadata": {},
		   "source": [
			"## Example 1.8: miller_indices.sce"
		   ]
		  },
  {
"cell_type": "code",
	   "execution_count": null,
	   "metadata": {
	    "collapsed": true
	   },
	   "outputs": [],
"source": [
"clc\n",
"//Chapter1\n",
"//Ex_1.8\n",
"//Given\n",
"a=1/%inf\n",
"b=-1/1\n",
"c=2/1\n",
"p = int32([1,1,1])\n",
"// 1/%inf = 0  ; (0/1 -1/1 2/1) hence lcm is taken for [1 1 1]\n",
"LCM = lcm(p)\n",
"h=a*double(LCM)\n",
"k=b*double(LCM)\n",
"l=c*double(LCM)\n",
" mprintf('miller indices = %d %d %d',h,k,l)"
   ]
   }
,
{
		   "cell_type": "markdown",
		   "metadata": {},
		   "source": [
			"## Example 1.9: fractional_concentration_of_vacancies.sce"
		   ]
		  },
  {
"cell_type": "code",
	   "execution_count": null,
	   "metadata": {
	    "collapsed": true
	   },
	   "outputs": [],
"source": [
"clc\n",
"//Chapter1\n",
"//Ex_1.9\n",
"//Given\n",
"k=1.38*10^-23 //J/K\n",
"T=300 //kelvin\n",
"Ev=0.75 //eV/atom\n",
"Ev=Ev*1.6*10^-19 //in J\n",
"T1=660//degree celcius\n",
"T1=T1+273 //in kelvin\n",
"//at room temperature\n",
"//let nv/N=nv_N for convenience\n",
"nv_N=exp(-Ev/(k*T))\n",
"disp(nv_N,'Fractional concentration of vacancies in the aluminium crystal at room temperature is')\n",
"//at melting temperature\n",
"//let nv/N=nv_N for convenience\n",
"nv_N=exp(-Ev/(k*T1))\n",
"disp(nv_N,'Fractional concentration of vacancies in the aluminium crystal at melting temperature is')"
   ]
   }
],
"metadata": {
		  "kernelspec": {
		   "display_name": "Scilab",
		   "language": "scilab",
		   "name": "scilab"
		  },
		  "language_info": {
		   "file_extension": ".sce",
		   "help_links": [
			{
			 "text": "MetaKernel Magics",
			 "url": "https://github.com/calysto/metakernel/blob/master/metakernel/magics/README.md"
			}
		   ],
		   "mimetype": "text/x-octave",
		   "name": "scilab",
		   "version": "0.7.1"
		  }
		 },
		 "nbformat": 4,
		 "nbformat_minor": 0
}
