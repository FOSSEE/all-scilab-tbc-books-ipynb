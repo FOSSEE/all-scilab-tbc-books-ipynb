{
"cells": [
 {
		   "cell_type": "markdown",
	   "metadata": {},
	   "source": [
       "# Chapter 2: Electrical and thermal conduction in solids"
	   ]
	},
{
		   "cell_type": "markdown",
		   "metadata": {},
		   "source": [
			"## Example 2.10: resistivity.sce"
		   ]
		  },
  {
"cell_type": "code",
	   "execution_count": null,
	   "metadata": {
	    "collapsed": true
	   },
	   "outputs": [],
"source": [
"clc\n",
"//Chapter2\n",
"//Ex_2.10\n",
"//Given\n",
"M_Au=197\n",
"w=0.1\n",
"M_Cu=63.55\n",
"p_exp=108 //n*ohm*m\n",
"X=M_Au*w/((1-w)*M_Cu+(w*M_Au))\n",
"C=450//n*ohm*m\n",
"p_Au=22.8 // resistivity in n*ohm*m\n",
"p=p_Au+C*X*(1-X) //Nordheim rule\n",
"x=((p-p_exp)/p)*100\n",
"disp(p,'resistivity of the alloy in n*ohm*m is')\n",
"disp(x,'The difference in the value from experimental value in % is')"
   ]
   }
,
{
		   "cell_type": "markdown",
		   "metadata": {},
		   "source": [
			"## Example 2.11: worst_case_resistivity.sce"
		   ]
		  },
  {
"cell_type": "code",
	   "execution_count": null,
	   "metadata": {
	    "collapsed": true
	   },
	   "outputs": [],
"source": [
"clc\n",
"//Chapter2\n",
"//Ex_2.11\n",
"//Given\n",
"u=1.58*10^6 //in m/s\n",
"N=8.5*10^28 //m^-3\n",
"e=1.6*10^-19 // in coulombs\n",
"me=9.1*10^-31 //in Kg\n",
"N_I=0.01*N\n",
"l_I=N_I^(-1/3)\n",
"t_I=l_I/u\n",
"p=me/(e^2*N*t_I)\n",
"disp(p,' worst case resistivity in ohm*m')\n",
"//slight change in answer due to computational method"
   ]
   }
,
{
		   "cell_type": "markdown",
		   "metadata": {},
		   "source": [
			"## Example 2.13: effective_resistivity.sce"
		   ]
		  },
  {
"cell_type": "code",
	   "execution_count": null,
	   "metadata": {
	    "collapsed": true
	   },
	   "outputs": [],
"source": [
"clc\n",
"//Chapter2\n",
"//Ex_2.13\n",
"//Given\n",
"Xd=0.15\n",
"p_c=1*10^-7 //ohm*m\n",
"p_eff=p_c*((1+0.5*Xd)/(1-Xd))\n",
"disp(p_eff,'Effective resistivity in ohm m is')\n",
"//slight change in the answer due to printing the answer "
   ]
   }
,
{
		   "cell_type": "markdown",
		   "metadata": {},
		   "source": [
			"## Example 2.14: Effective_Resistivity.sce"
		   ]
		  },
  {
"cell_type": "code",
	   "execution_count": null,
	   "metadata": {
	    "collapsed": true
	   },
	   "outputs": [],
"source": [
"clc\n",
"//Chapter2\n",
"//Ex_2.14\n",
"//Given\n",
"Xd=0.15\n",
"p_c=4*10^-8 //ohm*m\n",
"p_eff=p_c((1+0.5*Xd)/(1-Xd))\n",
"disp(p_eff,'Effective resistivity in ohm m is')\n",
"// change in the answer due to coding"
   ]
   }
,
{
		   "cell_type": "markdown",
		   "metadata": {},
		   "source": [
			"## Example 2.16: change_in_dc_resistance.sce"
		   ]
		  },
  {
"cell_type": "code",
	   "execution_count": null,
	   "metadata": {
	    "collapsed": true
	   },
	   "outputs": [],
"source": [
"clc\n",
"//Chapter2\n",
"//Ex_2.16\n",
"//Given\n",
"//at f=10MHz\n",
"a=10^-3 //in m\n",
"f=10*10^6 //in Hz\n",
"w=2*%pi*f\n",
"sigma_dc=5.9*10^7 // in m^-1\n",
"u=1.257*10^-6 //in Wb/A/m\n",
"delta=1/sqrt(0.5*w*sigma_dc*u)\n",
"//let r=r_ac/r_dc=a/(2*delta)\n",
"r=a/(2*delta)\n",
"disp(r,'Change in dc resistance of a copper wire at 10MHz  is')\n",
"//part(b)\n",
"f=1*10^9 //in Hz\n",
"w=2*%pi*f\n",
"delta=1/sqrt(0.5*w*sigma_dc*u)\n",
"//let r=r_ac/r_dc=a/(2*delta)\n",
"r=a/(2*delta)\n",
"disp(r,'Change in dc resistance of a copper wire at 1GHz  is')"
   ]
   }
,
{
		   "cell_type": "markdown",
		   "metadata": {},
		   "source": [
			"## Example 2.18: drift_mobility.sce"
		   ]
		  },
  {
"cell_type": "code",
	   "execution_count": null,
	   "metadata": {
	    "collapsed": true
	   },
	   "outputs": [],
"source": [
"clc\n",
"//Chapter2\n",
"//Ex_2.18\n",
"//Given\n",
"sigma=5.9*10^7 //ohm^-1*m^-2\n",
"RH=-0.55*10^-10//m^3/A/s\n",
"u_d=-RH*sigma\n",
"disp(u_d,'drift mobility of electrons in copper in m2/V/s')"
   ]
   }
,
{
		   "cell_type": "markdown",
		   "metadata": {},
		   "source": [
			"## Example 2.19: concentration_of_conduction_electrons.sce"
		   ]
		  },
  {
"cell_type": "code",
	   "execution_count": null,
	   "metadata": {
	    "collapsed": true
	   },
	   "outputs": [],
"source": [
"clc\n",
"//Chapter2\n",
"//Ex_2.19\n",
"//Given\n",
"no=8.5*10^28 // in m3\n",
"e=1.6*10^-19 //in coulombs\n",
"u_d=3.2*10^-3 //m2/V/s\n",
"sigma=5.9*10^7 //in ohm^-1*m^-1\n",
"n=sigma/(e*u_d)\n",
"disp(n,'concentration of conduction electrons in copper in m^-3 is')\n",
"A=n/no\n",
"disp(A,'Average number of electrons contributed per atom is')"
   ]
   }
,
{
		   "cell_type": "markdown",
		   "metadata": {},
		   "source": [
			"## Example 2.20: Thermal_conductivity.sce"
		   ]
		  },
  {
"cell_type": "code",
	   "execution_count": null,
	   "metadata": {
	    "collapsed": true
	   },
	   "outputs": [],
"source": [
"clc\n",
"//Chapter2\n",
"//Ex_2.20\n",
"//Given\n",
"sigma=1*10^7 //ohm^-1*m^-1\n",
"T=300// kelvin\n",
"C_WFL=2.44*10^-8 //W*ohm/K2\n",
"X_d=0.15\n",
"K_c=sigma*T*C_WFL\n",
"K_eff=K_c*((1-X_d)/(1+0.5*X_d))\n",
"disp(K_eff,'Thermal Conductiity at room temperature in W/m/K')\n",
""
   ]
   }
,
{
		   "cell_type": "markdown",
		   "metadata": {},
		   "source": [
			"## Example 2.21: temperature_drop.sce"
		   ]
		  },
  {
"cell_type": "code",
	   "execution_count": null,
	   "metadata": {
	    "collapsed": true
	   },
	   "outputs": [],
"source": [
"clc\n",
"//Chapter2\n",
"//Ex_2.21\n",
"//Given\n",
"sigma=50*10^-9//in ohm\n",
"T=300 //kelvin\n",
"C_WFL=2.45*10^-8 //in W*ohm/K2 \n",
"L=30*10^-3 //in m\n",
"d=20*10^-3 //in m\n",
"Q=10 //in W\n",
"//Wiedemann-Franz Lorenz Law\n",
"k=sigma^-1*T*C_WFL //thermal conductivity\n",
"A=%pi*(d^2)/4\n",
"theta=L/(k*A) //thermal resistance\n",
"delta_T=theta*Q\n",
"disp(delta_T,'Temperature drop across the disk in degree celcius is')"
   ]
   }
,
{
		   "cell_type": "markdown",
		   "metadata": {},
		   "source": [
			"## Example 2.2: drift_mobility_of_electrons.sce"
		   ]
		  },
  {
"cell_type": "code",
	   "execution_count": null,
	   "metadata": {
	    "collapsed": true
	   },
	   "outputs": [],
"source": [
"clc\n",
"//Chapter2\n",
"//Ex_2.2\n",
"//Given\n",
"sigma=5.9*10^5 //in ohm^-1*cm^-1\n",
"e=1.6*10^-19 //Coulombs\n",
"d=8.93 //g/cm^3\n",
"Mat=63.5//g/mol\n",
"NA=6.02*10^23//mol^-1\n",
"n=d*NA/Mat\n",
"u_d=sigma/(e*n)//electron drift mobility\n",
"disp(u_d,'Drift mobility of electrons in copper at room temperature in cm2/V/s is')"
   ]
   }
,
{
		   "cell_type": "markdown",
		   "metadata": {},
		   "source": [
			"## Example 2.3: Applied_electric_field.sce"
		   ]
		  },
  {
"cell_type": "code",
	   "execution_count": null,
	   "metadata": {
	    "collapsed": true
	   },
	   "outputs": [],
"source": [
"clc\n",
"//Chapter2\n",
"//Ex_2.3\n",
"//Given\n",
"u_d=3.2*10^-3 //in m^2/V/s\n",
"u=1.2*10^6 //m/s\n",
"v_dx=0.1*u\n",
"// drift velocity of conduction electrons is v_dx=u_d*E\n",
"E=v_dx/u_d\n",
"disp(E,'Applied electric field in V/m is')"
   ]
   }
,
{
		   "cell_type": "markdown",
		   "metadata": {},
		   "source": [
			"## Example 2.4: percentage_change_in_the_resistance.sce"
		   ]
		  },
  {
"cell_type": "code",
	   "execution_count": null,
	   "metadata": {
	    "collapsed": true
	   },
	   "outputs": [],
"source": [
"clc\n",
"//Chapter2\n",
"//Ex_2.4\n",
"//Given\n",
"T_summer=20 //in degree celcius\n",
"T_summer=T_summer+273 //in kelvin\n",
"T_winter=-30 //in degree celcius\n",
"T_winter=T_winter+273 //in kelvin\n",
"//we have R is proportional to A*T\n",
"//Hence\n",
"R=(T_summer-T_winter)/T_summer\n",
"R=R*100\n",
"disp(R,' Percentage change in the resistance of a pure metalwire from Saskatchewans summer too winter in % is ')"
   ]
   }
,
{
		   "cell_type": "markdown",
		   "metadata": {},
		   "source": [
			"## Example 2.5: drift_mobility_and_conductivity.sce"
		   ]
		  },
  {
"cell_type": "code",
	   "execution_count": null,
	   "metadata": {
	    "collapsed": true
	   },
	   "outputs": [],
"source": [
"clc\n",
"//Chapter2\n",
"//Ex_2.5\n",
"//Given\n",
"d=8.96*10^3 //in Kg/m3\n",
"NA=6.02*10^23 //mol^-1\n",
"Mat=63.56*10^-3 //Kg/mol\n",
"k=1.38*10^-23 //J/K\n",
"T=300 //kelvin\n",
"e=1.6*10^-19 //in couloumbs\n",
"m_e= 9.1*10^-31 //in Kg\n",
"u=1.25*10^6//m/s\n",
"f=4*10^12 //frequency in s^-1\n",
"Ns=d*NA/Mat// atomic concentration in m^-3\n",
"M=Mat/NA\n",
"w=2*%pi*f //angular frequency of the vibration \n",
"//by virtue of Equipartition of energy  theorem\n",
"a=sqrt((2*k*T)/(M*w^2))\n",
"S=%pi*a^2 //cross sectional area\n",
"t=1/(S*u*Ns) //mean free time\n",
"u_d=e*t/m_e //drift velocity\n",
"u_d=u_d*10^4 //change in units\n",
"Ns=Ns/10^6 //in cm^-3\n",
"sigma=e*Ns*u_d //conductivity\n",
"disp(u_d,'drift velocity of electrons in m2/V/s is')\n",
"disp(sigma,' conductivity of copper in ohm^-1/cm is')\n",
"//slight change in the answer is due to the computation method, otherwise answer is matching with textbook"
   ]
   }
,
{
		   "cell_type": "markdown",
		   "metadata": {},
		   "source": [
			"## Example 2.7: TCR_and_n.sce"
		   ]
		  },
  {
"cell_type": "code",
	   "execution_count": null,
	   "metadata": {
	    "collapsed": true
	   },
	   "outputs": [],
"source": [
"clc\n",
"//Chapter2\n",
"//Ex_2.7\n",
"//Given\n",
"n=1.2\n",
"To=293 //in kelvin\n",
"alpha_o=n/To\n",
"printf('Theoretical value of TCR at 293K is %f which is in well agreement with exprimental value',alpha_o)\n",
"alpha_o=0.00393 //experimental value\n",
"n=alpha_o*To\n",
"disp(n,'Theoretical value of n at 293K is in well agreement with exprimental value')"
   ]
   }
,
{
		   "cell_type": "markdown",
		   "metadata": {},
		   "source": [
			"## Example 2.9: temperature_of_the_filament.sce"
		   ]
		  },
  {
"cell_type": "code",
	   "execution_count": null,
	   "metadata": {
	    "collapsed": true
	   },
	   "outputs": [],
"source": [
"clc\n",
"//Chapter2\n",
"//Ex_2.9\n",
"//Given\n",
"P=40 //in Watt\n",
"V=120 //in Volts\n",
"D=33*10^-6 //in meter\n",
"L=0.381 //in meter\n",
"To=293 // in kelvin\n",
"P_radiated=40//in watt\n",
"epsilon=0.35\n",
"sigma_s=5.6*10^-8 //in W/m2/K4\n",
"I=P/V\n",
"A=%pi*D^2/4\n",
"R=V/I // resistance of the filament\n",
"p_t=R*A/L // resistivity of tungsten\n",
"p_o=5.51*10^-8 // resistivity at room temperature in ohm*m\n",
"//p_t=p_o*(T/To)^1.2\n",
"T=To*(p_t/p_o)^(1/1.2)\n",
"disp(T,'Temperature of the bulb when it is operated at the rated voltage in Kelvin is ')\n",
"A=L*%pi*D\n",
"//Stefans Law\n",
"T=(P_radiated/(epsilon*sigma_s*A))^(1/4)\n",
"disp(T,'Temperature of the filament in kelvin is')"
   ]
   }
],
"metadata": {
		  "kernelspec": {
		   "display_name": "Scilab",
		   "language": "scilab",
		   "name": "scilab"
		  },
		  "language_info": {
		   "file_extension": ".sce",
		   "help_links": [
			{
			 "text": "MetaKernel Magics",
			 "url": "https://github.com/calysto/metakernel/blob/master/metakernel/magics/README.md"
			}
		   ],
		   "mimetype": "text/x-octave",
		   "name": "scilab",
		   "version": "0.7.1"
		  }
		 },
		 "nbformat": 4,
		 "nbformat_minor": 0
}
