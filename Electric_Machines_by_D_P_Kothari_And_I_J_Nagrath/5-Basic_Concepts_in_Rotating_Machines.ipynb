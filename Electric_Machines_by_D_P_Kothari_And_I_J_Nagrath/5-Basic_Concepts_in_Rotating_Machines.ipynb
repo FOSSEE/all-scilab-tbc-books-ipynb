{
"cells": [
 {
		   "cell_type": "markdown",
	   "metadata": {},
	   "source": [
       "# Chapter 5: Basic Concepts in Rotating Machines"
	   ]
	},
{
		   "cell_type": "markdown",
		   "metadata": {},
		   "source": [
			"## Example 5.10: EX5_10.sci"
		   ]
		  },
  {
"cell_type": "code",
	   "execution_count": null,
	   "metadata": {
	    "collapsed": true
	   },
	   "outputs": [],
"source": [
"// (a)to calculate field current and flux/pole(b)to calculate open ckt ph and line voltages\n",
"// (c)to caculate field current\n",
"\n",
"clc;\n",
"B_peak=1.65;\n",
"g=.008;\n",
"u_o=4*%pi*10^-7;\n",
"P=4;\n",
"K_b=.957;\n",
"N_field=364/2;\n",
"I_f=B_peak*%pi*g*P/((4*u_o)*(K_b*N_field));\n",
"disp(I_f,'field current(A)');\n",
"l=1.02;    //rotor length\n",
"r=.41/2;    //rotor radius\n",
"phi=(4/P)*B_peak*l*r;\n",
"disp(phi,'flux/pole(Wb)');\n",
"N_ph=3*11*P/2;\n",
"ga=60/3;    //slot angle\n",
"m=3;\n",
"f=50;\n",
"K_b=sind(m*ga/2)/(m*sind(ga/2));    //breadth factor\n",
"E_ph=sqrt(2)*%pi*K_b*f*N_ph*phi;\n",
"disp(E_ph,'E_ph(V)');\n",
"E_line=sqrt(3)*E_ph;\n",
"disp(E_line,'E_line(V)');\n",
"I_fnew=.75*I_f;\n",
"disp(I_fnew,'I_f(new)(A)');"
   ]
   }
,
{
		   "cell_type": "markdown",
		   "metadata": {},
		   "source": [
			"## Example 5.11: to_find_fundamental_mmf_wave_speed_and_its_peak_value.sci"
		   ]
		  },
  {
"cell_type": "code",
	   "execution_count": null,
	   "metadata": {
	    "collapsed": true
	   },
	   "outputs": [],
"source": [
"// to find fundamental mmf wave,speed and its peak value\n",
"\n",
"clc;\n",
"p=4;\n",
"S=60;\n",
"g=180*p/S;\n",
"ph=3;\n",
"m=S/(p*ph);    //slots/pole/phase\n",
"K_b=sind(m*g/2)/(m*sind(g/2));    //breadth factor\n",
"I_L=48;\n",
"I_P=I_L/sqrt(3);\n",
"I_Pmax=I_P*sqrt(2);\n",
"c=24;        //conductors\n",
"N_ph=S*c/(ph*2);      //turns/phase\n",
"F_m=(4/%pi)*K_b*(N_ph/p)*I_Pmax;\n",
"disp(F_m,'F_m(AT/pole)');\n",
"F_peak=(3/2)*F_m;\n",
"disp(F_peak,'F_peak(AT/pole)');\n",
"n=120*f/P;\n",
"disp(n,'speed(rpm)');"
   ]
   }
,
{
		   "cell_type": "markdown",
		   "metadata": {},
		   "source": [
			"## Example 5.12: to_calculate_resultant_air_gap_flux_per_pole.sci"
		   ]
		  },
  {
"cell_type": "code",
	   "execution_count": null,
	   "metadata": {
	    "collapsed": true
	   },
	   "outputs": [],
"source": [
"// to calculate resultant air gap flux/pole\n",
"\n",
"clc;\n",
"F1=400;\n",
"F2=850;\n",
"a=123.6;\n",
"Fr=sqrt(F1^2+F2^2+2*F1*F2*cosd(a));\n",
"P=1.408*10^-4;        //permeance/pole\n",
"phi_r=P*Fr;\n",
"disp(phi_r,'air gap flux/pole(Wb)');"
   ]
   }
,
{
		   "cell_type": "markdown",
		   "metadata": {},
		   "source": [
			"## Example 5.13: EX5_13.sci"
		   ]
		  },
  {
"cell_type": "code",
	   "execution_count": null,
	   "metadata": {
	    "collapsed": true
	   },
	   "outputs": [],
"source": [
"//To calculate resultant AT/pole and peak air gap flux density, rotor AT/pole, stator AT and its angle with the resultant AT, stator currrent\n",
"\n",
"clc;\n",
"ph=3;\n",
"S=36;\n",
"c=8*2;\n",
"p=4;\n",
"f=50;\n",
"N_ph=S*c/(ph*2);      //turns/phase\n",
"ga=180*p/S;\n",
"m=S/(p*ph);    //slots/pole/phase\n",
"K_b=sind(m*ga/2)/(m*sind(ga/2));    //breadth factor\n",
"V_L=400;\n",
"V_ph=V_L/sqrt(3);\n",
"phi_r=V_ph/(4.44*K_b*f*N_ph);\n",
"disp(phi_r,'phi_r(Wb/pole)');\n",
"D=.16;\n",
"l=0.12;\n",
"PA=%pi*l*D/4;        //pole area\n",
"B_rav=phi_r/PA;\n",
"B_rpeak=(%pi/2)*B_rav;\n",
"g=2*10^-3;\n",
"u_o=4*%pi*10^-7;\n",
"F_r=g*B_rpeak/u_o;\n",
"disp(F_r,'F_r(AT/pole)');\n",
"T=60;        //torque(Nm)\n",
"d=26;\n",
"F2=T/((%pi/2)*(p/2)^2*phi_r*sind(d));\n",
"disp(F2,'F2(AT/pole)');\n",
"F1=sqrt(F2^2+F_r^2-2*F2*F_r*sind(d));\n",
"disp(F1,'F1(AT/pole)');\n",
"w=acosd((F1^2+F_r^2-F2^2)/(2*F1*F_r));\n",
"disp(w,'angle(deg)');\n",
"K_w=K_b;\n",
"I_a=F1/((3/2)*(4*sqrt(2)/%pi)*K_w*(N_ph/p));\n",
"disp(I_a,'I_a(A)');"
   ]
   }
,
{
		   "cell_type": "markdown",
		   "metadata": {},
		   "source": [
			"## Example 5.14: EX5_14.sci"
		   ]
		  },
  {
"cell_type": "code",
	   "execution_count": null,
	   "metadata": {
	    "collapsed": true
	   },
	   "outputs": [],
"source": [
"//to determine in F2,peak rotor AT, max torque, ele i/p at max torque(motoring mode),open ckt voltage(generating mode)\n",
"\n",
"clc;\n",
"disp('motoring mode');\n",
"K_w=.976;\n",
"N_pole=746;\n",
"p=4;\n",
"I_f=20;\n",
"F2=(4/%pi)*K_w*(N_pole/p)*I_f;\n",
"disp(F2,'F2(AT)');\n",
"B_r=1.6;\n",
"D=.29;\n",
"l=.35;\n",
"T_max=(p/2)*(%pi*D*l/2)*F2*B_r;\n",
"disp(T_max,'T_max');\n",
"f=50;\n",
"w_m=4*%pi*f/p;\n",
"P_in=T_max*w_m;\n",
"disp(P_in,'P_in(W)');\n",
"\n",
"disp('generating mode');\n",
"m=S/(3*p);\n",
"ga=180*p/S;\n",
"K_b=sind(30)/(3*sind(15/2));\n",
"K_w=K_b;\n",
"u_o=4*%pi*10^-7;\n",
"phi_r=((2*D*l/p)*(u_o/g))*F2;\n",
"N_ph=20*p*4/2;\n",
"E_ph=4.44*K_b*f*N_ph*phi_r;\n",
"E_l=sqrt(3)*E_ph;\n",
"disp(E_l,'E_l(V)');"
   ]
   }
,
{
		   "cell_type": "markdown",
		   "metadata": {},
		   "source": [
			"## Example 5.15: to_find_motor_speed.sci"
		   ]
		  },
  {
"cell_type": "code",
	   "execution_count": null,
	   "metadata": {
	    "collapsed": true
	   },
	   "outputs": [],
"source": [
"// to find motor speed\n",
"\n",
"clc;\n",
"n=1500;        //speed of sync generator\n",
"p=4;\n",
"f=n*p/120;\n",
"\n",
"p_im=6;\n",
"n_s=120*f/p_im;\n",
"s=0.05;        //slip\n",
"n_im=(1-s)*n_s;\n",
"disp(n_im,'speed of induction motor(rpm)');"
   ]
   }
,
{
		   "cell_type": "markdown",
		   "metadata": {},
		   "source": [
			"## Example 5.16: to_find_voltage_available_bw_slip_rings_and_its_freq.sci"
		   ]
		  },
  {
"cell_type": "code",
	   "execution_count": null,
	   "metadata": {
	    "collapsed": true
	   },
	   "outputs": [],
"source": [
"//to find voltage available b/w slip rings and its freq\n",
"\n",
"clc;\n",
"disp('(a)');\n",
"f=50;\n",
"p=6;\n",
"n_s=120*f/p;\n",
"n=-1000;\n",
"s=(n_s-n)/n_s;\n",
"f_s=f*s;\n",
"disp(f_s,'slip freq(Hz)');\n",
"v2=100;\n",
"V2=s*v2;\n",
"disp(V2,'slip ring voltage(V)');\n",
"\n",
"disp('(b)');\n",
"n=1500;\n",
"s=(n_s-n)/n_s;\n",
"f_s=abs(f*s);\n",
"disp(f_s,'slip freq(Hz)');\n",
"v2=100;\n",
"V2=s*v2;\n",
"disp(V2,'slip ring voltage(V)');"
   ]
   }
,
{
		   "cell_type": "markdown",
		   "metadata": {},
		   "source": [
			"## Example 5.18: EX5_18.sci"
		   ]
		  },
  {
"cell_type": "code",
	   "execution_count": null,
	   "metadata": {
	    "collapsed": true
	   },
	   "outputs": [],
"source": [
"//to find no of poles, slip and freq of rotor currents at full load, motor speed at twice of full load\n",
"\n",
"clc;\n",
"n_s=600;\n",
"f=50;\n",
"P=120*f/n_s;\n",
"disp(p,'no of poles');\n",
"n=576;\n",
"s=(n_s-n)/n_s;\n",
"disp(s,'slip');\n",
"f2=s*f;\n",
"n_r=s*n_s;\n",
"disp(n_r,'rotor speed wrt rotating field(rpm)');\n",
"ss=f2*s;\n",
"n=(1-ss)*n_s;\n",
"disp(n,'motor speed(rpm)');\n",
"nn=528;\n",
"s_old=s;\n",
"s_new=(n_s-nn)/n_s;\n",
"fac=s_new/s_old;\n",
"disp(fac,'factor is');"
   ]
   }
,
{
		   "cell_type": "markdown",
		   "metadata": {},
		   "source": [
			"## Example 5.19: EX5_19.sci"
		   ]
		  },
  {
"cell_type": "code",
	   "execution_count": null,
	   "metadata": {
	    "collapsed": true
	   },
	   "outputs": [],
"source": [
"// to calculate amplitude of travelling wave mmf,peak value of air flux density, velocity of wave, current freq at some desired velocity\n",
"\n",
"clc;\n",
"K_w=.925;\n",
"N_ph=48;\n",
"I=750/sqrt(2);\n",
"wndnglgth=2;\n",
"wavelgth=wndnglgth/0.5;\n",
"p=2*wavelgth;\n",
"F_peak=(3/2)*(4*sqrt(2)/%pi)*K_w*(N_ph/p)*I;\n",
"disp(F_peak,'F_peak(A/m)');\n",
"g=.01;\n",
"u_o=4*%pi*10^-7;\n",
"B_peak=u_o*F_peak/g;\n",
"disp(B_peak,'B_peak(T)');\n",
"f=25;\n",
"B=.5;\n",
"v=f*B;    disp(v,'velocity(m/s)');\n",
"vv=72*10^3/3600;        //given velocity\n",
"f=vv/0.5;\n",
"disp(f,'freq(Hz)');"
   ]
   }
,
{
		   "cell_type": "markdown",
		   "metadata": {},
		   "source": [
			"## Example 5.1: To_calculate_harmanic_factor_for_stator.sci"
		   ]
		  },
  {
"cell_type": "code",
	   "execution_count": null,
	   "metadata": {
	    "collapsed": true
	   },
	   "outputs": [],
"source": [
"// To calculate harmanic factor for stator\n",
"\n",
"clc;\n",
"S=36;    //no of slots\n",
"q=3;    //no of phases\n",
"p=4;    //no of poles\n",
"m=S/(q*p);    //slots/pole/phase\n",
"g=180*p/S;    //gamma elec\n",
"function [k]=bfctr(n)\n",
"    k=sind(m*n*g/2)/(m*sind(n*g/2));\n",
"endfunction\n",
"\n",
"K_b=bfctr(1);\n",
"disp(K_b,'K_b(fundamental)');\n",
"\n",
"K_b=bfctr(3);\n",
"disp(K_b,'K_b(third harmonic)');\n",
"\n",
"K_b=bfctr(5);\n",
"disp(K_b,'K_b(fifth harmonic)');"
   ]
   }
,
{
		   "cell_type": "markdown",
		   "metadata": {},
		   "source": [
			"## Example 5.2: to_find_the_frequency_and_phase_and_line_voltages.sci"
		   ]
		  },
  {
"cell_type": "code",
	   "execution_count": null,
	   "metadata": {
	    "collapsed": true
	   },
	   "outputs": [],
"source": [
"// to find the frequency and phase and line voltages\n",
"\n",
"clc;\n",
"n=375;        //speed in rpm\n",
"p=16;        //no of poles\n",
"f=n*p/120;\n",
"disp(f,'freq(Hz)');\n",
"S=144;        //no of slots\n",
"c=10;        //no of conductors/slot\n",
"t=S*c/2;        //no of turns\n",
"ph=3;\n",
"N_ph=t/ph;    //no of turns/ph\n",
"g=180*p/S;    //slots angle\n",
"m=S/(p*ph);    //slots/pole/phase\n",
"K_b=sind(m*g/2)/(m*sind(g/2));    //breadth factor\n",
"phi=0.04;    //flux per pole\n",
"E_p=4.44*K_b*f*N_ph*phi;\n",
"disp(E_p,'phase voltage(V)');\n",
"E_l=sqrt(3)*E_p;\n",
"disp(E_l,'line voltage(V)');"
   ]
   }
,
{
		   "cell_type": "markdown",
		   "metadata": {},
		   "source": [
			"## Example 5.3: to_find_the_phase_and_line_voltages.sci"
		   ]
		  },
  {
"cell_type": "code",
	   "execution_count": null,
	   "metadata": {
	    "collapsed": true
	   },
	   "outputs": [],
"source": [
"// to find the phase and line voltages\n",
"\n",
"clc;\n",
"f=50;    //freq\n",
"n=600;    //speed in rpm\n",
"p=120*f/n;\n",
"ph=3;\n",
"m=4;        //slots/pole/ph\n",
"S=p*ph*m;    //slots\n",
"t=12;        //turns per coil\n",
"N_ph=S*t/ph;\n",
"g=180*p/S;\n",
"K_b=sind(m*g/2)/(m*sind(g/2));    //breadth factor\n",
"cp=10;        //coil pitch\n",
"pp=S/cp;        //pole pitch\n",
"theta_sp=(pp-cp)*g;    //short pitch angle\n",
"K_p=cosd(theta_sp/2);\n",
"phi=.035; \n",
"E_p=4.44*K_b*K_p*f*N_ph*phi;\n",
"disp(E_p,'phase voltage(V)');\n",
"E_l=sqrt(3)*E_p;\n",
"disp(E_l,'line voltage(V)');"
   ]
   }
,
{
		   "cell_type": "markdown",
		   "metadata": {},
		   "source": [
			"## Example 5.4: to_calculate_flux_per_pole.sci"
		   ]
		  },
  {
"cell_type": "code",
	   "execution_count": null,
	   "metadata": {
	    "collapsed": true
	   },
	   "outputs": [],
"source": [
"// to calculate flux/pole\n",
"\n",
"clc;\n",
"S=42;\n",
"p=2;\n",
"ph=3;\n",
"m=S/(p*ph);    //slots/pole/phase\n",
"g=180*p/S;    //slots angle\n",
"K_b=sind(m*g/2)/(m*sind(g/2));    //breadth factor\n",
"cp=17;\n",
"pp=S/p;\n",
"theta_sp=(pp-cp)*g;    //short pitch angle\n",
"K_p=cosd(theta_sp/2);\n",
"N_ph=S*2/(ph*p*2);        //2 parallel paths\n",
"E_p=2300/sqrt(3);\n",
"phi=E_p/(4.44*K_b*K_p*f*N_ph);\n",
"disp(phi,'flux/pole(Wb)');"
   ]
   }
,
{
		   "cell_type": "markdown",
		   "metadata": {},
		   "source": [
			"## Example 5.5: to_calculate_useful_flux_per_pole_and_ares_of_pole_shoe.sci"
		   ]
		  },
  {
"cell_type": "code",
	   "execution_count": null,
	   "metadata": {
	    "collapsed": true
	   },
	   "outputs": [],
"source": [
"// to calculate  useful flux/pole and ares of pole shoe\n",
"\n",
"clc;\n",
"p=1500*1000;    //power\n",
"v=600;\n",
"I_a=p/v;\n",
"cu=25*1000;    //copper losses\n",
"R_a=cu/I_a^2;\n",
"E_a=v+I_a*R_a;\n",
"n=200;\n",
"Z=2500;\n",
"p=16;\n",
"A=16;\n",
"phi=E_a*60*A/(p*n*Z);\n",
"disp(phi,'flux/pole(Wb)');\n",
"fd=0.85;    //flux density\n",
"a=phi/fd;\n",
"disp(a,'area of pole shoe(m*m)');"
   ]
   }
,
{
		   "cell_type": "markdown",
		   "metadata": {},
		   "source": [
			"## Example 5.6: To_calculate_em_power_developed_mech_power_fed_torque_provided_by_primemover.sci"
		   ]
		  },
  {
"cell_type": "code",
	   "execution_count": null,
	   "metadata": {
	    "collapsed": true
	   },
	   "outputs": [],
"source": [
"// To calculate em power developed,mech power fed, torque provided by primemover\n",
"\n",
"clc;\n",
"phi=32*10^-3;    //flux/pole\n",
"n=1600;        //speed in rpm\n",
"Z=728;        //no of conductors\n",
"p=4;\n",
"A=4;\n",
"E_a=phi*n*Z*(p/A)/60;\n",
"I_a=100;\n",
"P_e=E_a*I_a;\n",
"disp(P_e,'electromagnetic power(W)');\n",
"P_m=P_e;\n",
"disp(P_m,'mechanical power(W) fed');\n",
"w_m=2*%pi*n/60;\n",
"T=P_m/w_m;\n",
"disp(T,'primemover torque(Nm)');"
   ]
   }
,
{
		   "cell_type": "markdown",
		   "metadata": {},
		   "source": [
			"## Example 5.9: To_determine_peak_value_of_fundamental_mmf.sci"
		   ]
		  },
  {
"cell_type": "code",
	   "execution_count": null,
	   "metadata": {
	    "collapsed": true
	   },
	   "outputs": [],
"source": [
"// To determine peak value of fundamental mmf\n",
"\n",
"clc;\n",
"f=50;\n",
"n_s=300;\n",
"p=120*f/n_s;\n",
"P=400*1000;    //power\n",
"V=3300;\n",
"I_L=P/(sqrt(3)*V);\n",
"I_P=I_L;\n",
"I_m=sqrt(2)*I_P;    //max value of phase current\n",
"S=180;\n",
"g=180*p/S;\n",
"ph=3;\n",
"m=S/(p*ph);    //slots/pole/phase\n",
"K_b=sind(m*g/2)/(m*sind(g/2));    //breadth factor\n",
"c=8;        //conductors/1 coil side\n",
"N_ph=S*c/(ph*2);      //turns/phase\n",
"F_m=(4/%pi)*K_b*(N_ph/p)*I_m;\n",
"F_peak=(3/2)*F_m;\n",
"disp(F_peak,'peak mmf(AT/pole)');"
   ]
   }
],
"metadata": {
		  "kernelspec": {
		   "display_name": "Scilab",
		   "language": "scilab",
		   "name": "scilab"
		  },
		  "language_info": {
		   "file_extension": ".sce",
		   "help_links": [
			{
			 "text": "MetaKernel Magics",
			 "url": "https://github.com/calysto/metakernel/blob/master/metakernel/magics/README.md"
			}
		   ],
		   "mimetype": "text/x-octave",
		   "name": "scilab",
		   "version": "0.7.1"
		  }
		 },
		 "nbformat": 4,
		 "nbformat_minor": 0
}
