{
"cells": [
 {
		   "cell_type": "markdown",
	   "metadata": {},
	   "source": [
       "# Chapter 7: DC Machines"
	   ]
	},
{
		   "cell_type": "markdown",
		   "metadata": {},
		   "source": [
			"## Example 7.10: to_calculate_cross_and_demagnetising_turns_per_pole.sci"
		   ]
		  },
  {
"cell_type": "code",
	   "execution_count": null,
	   "metadata": {
	    "collapsed": true
	   },
	   "outputs": [],
"source": [
"// to calculate cross and demagnetising turns/pole\n",
"\n",
"clc;\n",
"P=250000;\n",
"V=400;\n",
"I_a=P/V;        //armature current\n",
"n=6;        //no of parallel path\n",
"I_c=I_a/n;    //conductor current\n",
"Z=720;        //lap wound conductors\n",
"AT_a=(1/2)*Z*I_c/n;\n",
"\n",
"B=2.5*n/2;        //brush leadof 2.5 angular degrees(mech) from geo neutral\n",
"AT_c=AT_a*(1-(2*B)/180);\n",
"disp(AT_c,'cross magnetising ampere turns(AT/pole)');\n",
"AT_d=AT_a*((2*B)/180);\n",
"disp(AT_d,'demagnetising ampere turns(AT/pole)');\n",
""
   ]
   }
,
{
		   "cell_type": "markdown",
		   "metadata": {},
		   "source": [
			"## Example 7.11: to_calculate_no_of_conductors_on_each_pole_piece.sci"
		   ]
		  },
  {
"cell_type": "code",
	   "execution_count": null,
	   "metadata": {
	    "collapsed": true
	   },
	   "outputs": [],
"source": [
"//to calculate no of conductors on each pole piece\n",
"\n",
"clc;\n",
"Z=256;\n",
"A=6;\n",
"P=6;\n",
"r=.71;        //ratio of pole arc to pole pitch\n",
"N_cw=(Z/(2*A*P))*r;   \n",
"N_cc=ceil(2*N_cw);\n",
"disp(N_cc,'compensating conductors/pole');"
   ]
   }
,
{
		   "cell_type": "markdown",
		   "metadata": {},
		   "source": [
			"## Example 7.12: to_calculate_no_of_turns_reqd_on_each_interpole.sci"
		   ]
		  },
  {
"cell_type": "code",
	   "execution_count": null,
	   "metadata": {
	    "collapsed": true
	   },
	   "outputs": [],
"source": [
"//to calculate no of turns reqd on each interpole\n",
"\n",
"clc;\n",
"P=25000;\n",
"V=440;\n",
"I_a=P/V;\n",
"Z=846;\n",
"A=2;\n",
"P=4;\n",
"B_i=.5;\n",
"u_o=4*%pi*10^-7;\n",
"l_gi=.003;\n",
"AT_i=((I_a*Z)/(2*A*P))+(B_i*l_gi)/u_o;\n",
"N_i=ceil(AT_i/I_a);\n",
"disp(N_i,'no of turns');"
   ]
   }
,
{
		   "cell_type": "markdown",
		   "metadata": {},
		   "source": [
			"## Example 7.13: to_calculate_mmf_per_pole_and_speed_at_no_load_in_rpm.sci"
		   ]
		  },
  {
"cell_type": "code",
	   "execution_count": null,
	   "metadata": {
	    "collapsed": true
	   },
	   "outputs": [],
"source": [
"//to calculate mmf per pole and speed at no load(rpm)\n",
"\n",
"clc;\n",
"ATppole=[1200 2400 3600 4800 6000];\n",
"V_i=[76 135 180 215 240];\n",
"plot(ATppole,V_i);\n",
"xlabel('AT/pole');\n",
"ylabel('E_a(V)');        \n",
"\n",
"V=240;\n",
"vd=25;        //voltage drop ie I_a*(R_a+R_se)\n",
"E_a=V-vd;\n",
"AT_netfl=4800;\n",
"AT_sefl=2400;\n",
"AT_sh=AT_sefl;\n",
"\n",
"AT_senl=(3/25)*AT_sefl;        \n",
"AT_sh=2400;        //no change        \n",
"AT_netnl=AT_senl+AT_sh;\n",
"disp(AT_netnl,'mmf/pole on no load(AT)');\n",
"n=850;\n",
"E_a=148;        //from the magnetising curve\n",
"E_anl=240-3;\n",
"nnl=n*E_anl/E_a;\n",
"disp(nnl,'speed at no load(rpm)');"
   ]
   }
,
{
		   "cell_type": "markdown",
		   "metadata": {},
		   "source": [
			"## Example 7.14: EX7_14.sci"
		   ]
		  },
  {
"cell_type": "code",
	   "execution_count": null,
	   "metadata": {
	    "collapsed": true
	   },
	   "outputs": [],
"source": [
"// to estimate at full load internal induced emf, voltage drop caused y armature rxn, and field current ~ armature rxn demagnitisation\n",
"\n",
"clc;  \n",
"I_f=[0 0.2 0.4 0.6 0.8 1 1.2 1.4];\n",
"Voc=[10 52 124 184 220 244 264 276];\n",
"plot(I_f,Voc);\n",
"xlabel('I_f(A)');\n",
"ylabel('Voc');\n",
"\n",
"I_afl=50;\n",
"R_a=.3;\n",
"vd=I_afl*R_a;\n",
"V=240;\n",
"E_a=V+vd;\n",
"disp(E_a,'internal induced emf(V)');\n",
"V_oc=276;        //from magnetising curve,I_f=1.4\n",
"V_d=V_oc-E_a;\n",
"disp(V_d,'armature rxn vol drop(V)');\n",
"I_f=0.36;\n",
"K_ar=I_f/I_afl;\n",
"disp(K_ar,'armature rxn demagnetisation');"
   ]
   }
,
{
		   "cell_type": "markdown",
		   "metadata": {},
		   "source": [
			"## Example 7.16: EX7_16.sci"
		   ]
		  },
  {
"cell_type": "code",
	   "execution_count": null,
	   "metadata": {
	    "collapsed": true
	   },
	   "outputs": [],
"source": [
"//to calculate terminal voltage and rated output current and calculate no of series turns/pole\n",
"\n",
"clc;\n",
"P=100000;\n",
"V=200;\n",
"I_L=P/V;\n",
"I_f=5;\n",
"I_a=I_L+I_f;\n",
"I_se=I_a;\n",
"N_se=5;\n",
"N_f=1200;\n",
"I_feq=I_f+(N_se/N_f)*I_se;\n",
"n=1000;\n",
"E_a=225;\n",
"nn=950;\n",
"E_aa=E_a*(nn/n);\n",
"R_a=0.03;\n",
"R_se=0.004;\n",
"V_t=E_aa-I_a*(R_a+R_se);\n",
"disp(V_t,'terminal voltage(V)');\n",
"I_fd=0.001875*I_a;\n",
"V_t=200;\n",
"E_a=V_t+I_a*(R_a+R_se);\n",
"E_aa=E_a*(n/nn);\n",
"I_fnet=7.5;\n",
"N_f=1000;\n",
"N_se=ceil((I_fnet+I_fd-I_f)*(N_f/I_a));\n",
"disp(N_se,'no of series turns/pole');"
   ]
   }
,
{
		   "cell_type": "markdown",
		   "metadata": {},
		   "source": [
			"## Example 7.1: to_calculate_no_of_parrallel_path.sci"
		   ]
		  },
  {
"cell_type": "code",
	   "execution_count": null,
	   "metadata": {
	    "collapsed": true
	   },
	   "outputs": [],
"source": [
"// to calculate no of parrallel path\n",
"\n",
"clc;\n",
"S=12;        //no of commutator segments\n",
"P=4;\n",
"Y_cs=S/P;        //slots\n",
"Y_b=2*Y_cs+1;\n",
"y_f=Y_b-2;\n",
"disp(y_f,'no of parralel path');"
   ]
   }
,
{
		   "cell_type": "markdown",
		   "metadata": {},
		   "source": [
			"## Example 7.21: to_determine_demagnetising_AT_per_pole_and_no_of_series_turns_reqd.sci"
		   ]
		  },
  {
"cell_type": "code",
	   "execution_count": null,
	   "metadata": {
	    "collapsed": true
	   },
	   "outputs": [],
"source": [
"//to determine demagnetising AT/pole and no of series turns reqd\n",
"\n",
"clc;\n",
"V_oc=[220 230 240 250 260 270];\n",
"I_f=[1 1.15 1.35 1.5 1.69 2.02];\n",
"plot(I_f,V_oc);\n",
"xlabel('I_f(A)');\n",
"ylabel('V_oc(V)');\n",
"\n",
"V=240;\n",
"I_a=83.3;\n",
"R_a=.12;\n",
"E_a=V+I_a*R_a;\n",
"n=1150;\n",
"nn=1190;\n",
"Ea=E_a*(nn/n);\n",
"I_f=2.1;\n",
"I_fnet=1.65;\n",
"I_fd=I_f-I_fnet;\n",
"N_sf=550;        //shunt field turns/pole\n",
"AT_d=N_sf*I_fd;\n",
"disp(AT_d,'demagnetising AT_d/pole');\n",
"\n",
"//at no load(1190rpm)\n",
"V_t=230;\n",
"I_f=1.43;\n",
"AT_f=N_sf*I_f;\n",
"R_f=V_t/I_f;\n",
"\n",
"//at load(1150rpm)\n",
"I_L=I_a-(V/R_f);\n",
"V_a=(V+I_a*.045)/(1+(.045/R_f));\n",
"E_a=V_a+I_a*.12;\n",
"//consult mag field\n",
"Ea=E_a*(nn/n);\n",
"Ifn=1.675;    //needed\n",
"ATn=N_sf*Ifn;\n",
"If=V_a/R_f;\n",
"ATf=N_sf*If;\n",
"\n",
"ATse=ATn+AT_d-AT_f;\n",
"I_L=I_a-If;\n",
"Nse=floor(ATse/I_L);\n",
"disp(Nse,'no of series turns/pole');"
   ]
   }
,
{
		   "cell_type": "markdown",
		   "metadata": {},
		   "source": [
			"## Example 7.22: to_compute_terminal_voltage_at_rated_voltage_current.sci"
		   ]
		  },
  {
"cell_type": "code",
	   "execution_count": null,
	   "metadata": {
	    "collapsed": true
	   },
	   "outputs": [],
"source": [
"// to compute terminal voltage at rated voltage current\n",
"\n",
"clc;\n",
"R_a=0.05;\n",
"R_se=.01;\n",
"N_f=1000;\n",
"N_se=3;\n",
"I_sf=5.6;        //shunt field current\n",
"I_L=200;\n",
"I_a=I_L+I_sf;\n",
"N=N_f*I_sf+I_a*N_se;        //excitation ampere turns\n",
"I_freq=N/N_f;\n",
"\n",
"E_a=282;\n",
"n=1200;\n",
"nn=1150;\n",
"Ea=E_a*(nn/n);\n",
"V_t=Ea-I_a*(R_a+R_se);\n",
"disp(V_t,'terminal voltage(V)');"
   ]
   }
,
{
		   "cell_type": "markdown",
		   "metadata": {},
		   "source": [
			"## Example 7.23: to_calculate_no_series_turns.sci"
		   ]
		  },
  {
"cell_type": "code",
	   "execution_count": null,
	   "metadata": {
	    "collapsed": true
	   },
	   "outputs": [],
"source": [
"//to calculate no series turns\n",
"\n",
"clc;\n",
"I_sf=5.6;\n",
"N_f=1000;\n",
"AT_f=I_sf*N_f;\n",
"I_a=205.6;\n",
"Z=400;\n",
"I_L=200;\n",
"AT_d=Z*(I_a/I_L);\n",
"V_t=250;\n",
"R_a=0.05;\n",
"R_se=.01;\n",
"E_a=V_t+I_a*(R_a+R_se);\n",
"n=1150;\n",
"nn=1200;\n",
"Ea=E_a*(nn/n);\n",
"\n",
"I_fnet=6.2;\n",
"ATnet=I_fnet*N_f;\n",
"\n",
"ATse=ATnet+AT_d-AT_f;\n",
"Nse=ceil(ATse/I_a);\n",
"disp(Nse,'no of series turns/pole');"
   ]
   }
,
{
		   "cell_type": "markdown",
		   "metadata": {},
		   "source": [
			"## Example 7.24: to_find_generator_output.sci"
		   ]
		  },
  {
"cell_type": "code",
	   "execution_count": null,
	   "metadata": {
	    "collapsed": true
	   },
	   "outputs": [],
"source": [
"//to find generator output\n",
"\n",
"clc;\n",
"P=20000;\n",
"V=250;\n",
"I_a=P/V;\n",
"R_a=.16;\n",
"vd=I_a*R_a;\n",
"function [P_o]=output(E_a)\n",
"    V_t=E_a-vd;\n",
"    P_o=I_a*V_t;\n",
"    disp(P_o,'generator output(W)');\n",
"endfunction\n",
"disp('at I_f=1A');\n",
"E_a=150;\n",
"P_o=output(E_a);\n",
"disp('at I_f=2A');\n",
"E_a=257.5;\n",
"P_o=output(E_a);\n",
"disp('at I_f=2.5A');\n",
"E_a=297.5;\n",
"P_o=output(E_a);\n",
"\n",
"disp('at speed 1200rpm');\n",
"function [Ea]=ratio(E_a);\n",
"    Ea=.8*E_a\n",
"endfunction\n",
"disp('at I_f=1A');\n",
"E_a=150;\n",
"Ea=ratio(E_a);\n",
"P_o=output(Ea);\n",
"disp('at I_f=2A');\n",
"E_a=257.5;\n",
"Ea=ratio(E_a);\n",
"P_o=output(Ea);\n",
"disp('at I_f=2.5A');\n",
"E_a=297.5;\n",
"Ea=ratio(E_a);\n",
"P_o=output(Ea);"
   ]
   }
,
{
		   "cell_type": "markdown",
		   "metadata": {},
		   "source": [
			"## Example 7.25: to_find_power_to_the_load.sci"
		   ]
		  },
  {
"cell_type": "code",
	   "execution_count": null,
	   "metadata": {
	    "collapsed": true
	   },
	   "outputs": [],
"source": [
"//to find power to the load\n",
"\n",
"clc;\n",
"R_L=3;\n",
"R_a=.16;\n",
"function [P_o]=output(E_a)\n",
"    I_a=E_a/(R_a+R_L);\n",
"    P_o=I_a^2*R_L;\n",
"    disp(P_o,'power fed to the load(W)');\n",
"endfunction\n",
"disp('at I_f=1A');\n",
"E_a=150;\n",
"P_o=output(E_a);\n",
"disp('at I_f=2A');\n",
"E_a=257.5;\n",
"P_o=output(E_a);\n",
"disp('at I_f=2.5A');\n",
"E_a=297.5;\n",
"P_o=output(E_a);"
   ]
   }
,
{
		   "cell_type": "markdown",
		   "metadata": {},
		   "source": [
			"## Example 7.28: EX7_28.sci"
		   ]
		  },
  {
"cell_type": "code",
	   "execution_count": null,
	   "metadata": {
	    "collapsed": true
	   },
	   "outputs": [],
"source": [
"//to compute the generator induced emf when fully loaded in long shunt compound and short shunt compound\n",
"\n",
"clc;\n",
"P=75000;\n",
"V_t=250;\n",
"I_L=P/V_t;\n",
"R_a=.04;\n",
"R_se=.004;\n",
"R_f=100;\n",
"disp('case of long shunt');\n",
"I_f=V_t/R_f;\n",
"I_a=I_L+I_f;\n",
"V_b=2;\n",
"E_aLS=V_t+I_a*(R_a+R_se)+V_b;\n",
"disp(E_aLS,'generator induced emf(V)');\n",
"\n",
"disp('case of short shunt');\n",
"V_b=V_t+I_L*R_se;\n",
"I_f=V_b/R_f;\n",
"I_a=I_L+I_f;\n",
"E_aSS=V_t+(I_a*R_a)+2;\n",
"disp(E_aSS,'generator induced emf(V)');\n",
"\n",
"d=(E_aLS-E_aSS)*100/V_t;\n",
"disp(d,'percent diff');"
   ]
   }
,
{
		   "cell_type": "markdown",
		   "metadata": {},
		   "source": [
			"## Example 7.29: EX7_29.sci"
		   ]
		  },
  {
"cell_type": "code",
	   "execution_count": null,
	   "metadata": {
	    "collapsed": true
	   },
	   "outputs": [],
"source": [
"// to find field current and field resistance at rated terminal voltage, em power and     torque\n",
"\n",
"clc;\n",
"V_o=250;        //no load voltage\n",
"I_f=1.5;\n",
"R_f=V_o/I_f;    disp(R_f,'field resistance(ohm)');\n",
"P=25000;\n",
"V_t=220;\n",
"I_L=P/V_t;\n",
"I_a=I_L;        disp(I_a,'field current(A)');\n",
"R_a=.1;\n",
"E_a=V_t+I_a*R_a;\n",
"I_f=1.1;\n",
"R_f=V_t/I_f;        disp(R_f,'field resistance(ohm)');\n",
"I_a=I_L-I_f;\n",
"emp=E_a*I_a;\n",
"disp(emp,'em power(W)');\n",
"n=1600;\n",
"emt=emp/(n*2*%pi/60);\n",
"disp(emt,'torque(Nm)');\n",
"I_fa=1.25;        //actual I_f\n",
"I_c=I_fa-I_f;\n",
"disp(I_c,'I_f needed to counter effect armature current');"
   ]
   }
,
{
		   "cell_type": "markdown",
		   "metadata": {},
		   "source": [
			"## Example 7.2: to_find_spacing_bw_brushes.sci"
		   ]
		  },
  {
"cell_type": "code",
	   "execution_count": null,
	   "metadata": {
	    "collapsed": true
	   },
	   "outputs": [],
"source": [
"// to find spacing b/w brushes\n",
"\n",
"clc;\n",
"S=22;\n",
"P=4;\n",
"Y_cs=floor(S/P);\n",
"U=6;        //coil sides/slot\n",
"Y_b=Y_cs*U+1;\n",
"y_f=Y_b-2;\n",
"n=(1/2)*U*S;        //no of commutator segments\n",
"A=4;        //no of brushes\n",
"sp=n/A;\n",
"disp(sp,'spacing b/w adjacent brushes');"
   ]
   }
,
{
		   "cell_type": "markdown",
		   "metadata": {},
		   "source": [
			"## Example 7.32: to_determine_the_reduction_of_flux_per_pole_due_to_armature_rxn.sci"
		   ]
		  },
  {
"cell_type": "code",
	   "execution_count": null,
	   "metadata": {
	    "collapsed": true
	   },
	   "outputs": [],
"source": [
"//to determine the reduction of flux/pole due to armature rxn\n",
"\n",
"clc;\n",
"V=250;\n",
"R_a=.7;\n",
"function [phi]=arxn(I_a,n)\n",
"    phi=(V-I_a*R_a)/n;\n",
"endfunction\n",
"\n",
"phinl=arxn(1.6,1250);\n",
"disp(phinl,'flux/pole no load');\n",
"\n",
"phil=arxn(40,1150);\n",
"disp(phil,'flux/pole load');\n",
"\n",
"d=(phinl-phil)*100/phinl;\n",
"disp(d,'reduction in phi due to armature rxn(%)');"
   ]
   }
,
{
		   "cell_type": "markdown",
		   "metadata": {},
		   "source": [
			"## Example 7.33: to_determine_internal_em_torque_developed.sci"
		   ]
		  },
  {
"cell_type": "code",
	   "execution_count": null,
	   "metadata": {
	    "collapsed": true
	   },
	   "outputs": [],
"source": [
"//to determine internal em torque developed\n",
"\n",
"clc;\n",
"V=250;\n",
"I_a=85;\n",
"R_a=.18;\n",
"E_a=V-I_a*R_a;\n",
"n=1100;\n",
"T=E_a*I_a/(n*2*%pi/60);\n",
"disp(T,'torque(Nm)');\n",
"T_1=.8*T;    disp(T_1,'new torque(Nm)');\n",
"//T=K_a'*K_f*I_f*I_a=K_a'*K_f*.8*I_f*I_a1    so\n",
"I_a1=I_a/.8;\n",
"E_a1=V-I_a1*R_a;\n",
"//E_a=K_a'*K_f*I_f*n\n",
"//E_a1=K_a'*K_f*.8*I_f*n1    so\n",
"n1=(E_a1/E_a)*n/.8\n",
"disp(n1,'speed is(rpm)');\n",
""
   ]
   }
,
{
		   "cell_type": "markdown",
		   "metadata": {},
		   "source": [
			"## Example 7.34: to_determine_speed_calculate_internal_torque_developed_on_load_and_no_load.sci"
		   ]
		  },
  {
"cell_type": "code",
	   "execution_count": null,
	   "metadata": {
	    "collapsed": true
	   },
	   "outputs": [],
"source": [
"//to determine speed, calculate internal torque developed on load and no load\n",
"\n",
"clc;\n",
"V=220;\n",
"R_f=110;\n",
"I_f=V/R_f;\n",
"I_L=5;\n",
"I_a0=I_L-I_f;\n",
"R_a=.25;\n",
"E_a0=V-I_a0*R_a;\n",
"n=1200;\n",
"T_0=(E_a0*I_a0)/(2*%pi*n/60);\n",
"disp(T_0,'torque at no load(Nm)');\n",
"\n",
"I_L=62;\n",
"I_a1=I_L-I_f;\n",
"E_a1=V-I_a1*R_a;\n",
"n1=(E_a1/E_a0)*n/.95;    disp(n1,'speed(rpm)');\n",
"T_1=(E_a1*I_a1)/(2*%pi*n1/60);\n",
"disp(T_1-T_0,'torque at on load(Nm)');\n",
""
   ]
   }
,
{
		   "cell_type": "markdown",
		   "metadata": {},
		   "source": [
			"## Example 7.36: EX7_36.sci"
		   ]
		  },
  {
"cell_type": "code",
	   "execution_count": null,
	   "metadata": {
	    "collapsed": true
	   },
	   "outputs": [],
"source": [
"//to sketch speed the speed-torque characteristicsof the series motor connectedto mains by calculating speed and torque values at diff values of armature current\n",
"\n",
"clc;\n",
"Ise=[75 100 200 300 400];\n",
"V=250;\n",
"Ra=.08;\n",
"function [Ea]=Eaa(Ise)\n",
"Ea=V-Ra*Ise;    \n",
"endfunction\n",
"\n",
"Eav=[121.5 155 250 283 292];\n",
"n=1200;\n",
"function[nn]=speed(Ea,Eav)\n",
"nn=n*Ea/Eav;\n",
"    endfunction\n",
"function [T]=torque(nn,Ea,Ise)\n",
"    T=(60*Ea*Ise/(2*%pi*nn));\n",
"endfunction\n",
"\n",
"Ise=75;\n",
"Ea=Eaa(Ise);\n",
"Eav=121.5;\n",
"nn1=speed(Ea,Eav);\n",
"T1=torque(nn1,Ea,Ise);\n",
"\n",
"Ise=100;\n",
"Ea=Eaa(Ise);\n",
"Eav=155;\n",
"nn2=speed(Ea,Eav);\n",
"T2=torque(nn2,Ea,Ise);\n",
"\n",
"Ise=200;\n",
"Ea=Eaa(Ise);\n",
"Eav=250;\n",
"nn3=speed(Ea,Eav);\n",
"T3=torque(nn3,Ea,Ise);\n",
"\n",
"Ise=300;\n",
"Ea=Eaa(Ise);\n",
"Eav=283;\n",
"nn4=speed(Ea,Eav);\n",
"T4=torque(nn4,Ea,Ise);\n",
"\n",
"Ise=400;\n",
"Ea=Eaa(Ise);\n",
"Eav=292;\n",
"nn5=speed(Ea,Eav);\n",
"T5=torque(nn5,Ea,Ise);\n",
"\n",
"nn=[nn1 nn2 nn3 nn4 nn5];disp(nn,'speed(rpm)');\n",
"T=[T1 T2 T3 T4 T5];disp(T,'torque(Nm)');\n",
"\n",
"plot(T,nn);\n",
"xlabel('T(Nm)');\n",
"ylabel('n(rpm)');"
   ]
   }
,
{
		   "cell_type": "markdown",
		   "metadata": {},
		   "source": [
			"## Example 7.37: EX7_37.sci"
		   ]
		  },
  {
"cell_type": "code",
	   "execution_count": null,
	   "metadata": {
	    "collapsed": true
	   },
	   "outputs": [],
"source": [
"//to determine the power delivered to the fan,torque developed by the motor and calculate external resistance to be added to armature ckt\n",
"\n",
"clc;\n",
"V=220;\n",
"Ra=.6;\n",
"Rse=.4;\n",
"Ia=30;\n",
"Ea=V-(Ra+Rse)*Ia;\n",
"P=Ea*Ia;    disp(P,'Power(W)');\n",
"n=400;\n",
"w=2*%pi*n/60;\n",
"T=P/w;    disp(T,'torque(Nm)');\n",
"\n",
"nn=200;\n",
"T1=T*(nn/n)^2;\n",
"Iaa=Ia*nn/n;\n",
"w1=2*%pi*nn/60;\n",
"P1=T1*w1;disp(P1,'power developed when n=200 rpm((W))');\n",
"Ea1=P1/Iaa;\n",
"Rext=(V-Ea1)/Iaa-(Ra+Rse);disp(Rext,'external resistance(ohm)');"
   ]
   }
,
{
		   "cell_type": "markdown",
		   "metadata": {},
		   "source": [
			"## Example 7.38: to_determine_the_starting_torque_developed.sci"
		   ]
		  },
  {
"cell_type": "code",
	   "execution_count": null,
	   "metadata": {
	    "collapsed": true
	   },
	   "outputs": [],
"source": [
"// to determine the starting torque developed\n",
"clc;\n",
"P=180000;\n",
"V=600;\n",
"Ia=P/V;\n",
"Ra=.105;\n",
"Ea=V-Ia*Ra;\n",
"n=600;\n",
"nn=500;\n",
"Eaa=Ea*nn/n;\n",
"Iaa=282;    //from magnetising curve\n",
"Iad=Ia-Iaa;\n",
"Ias=500;    //at start\n",
"k=Iad/Ia^2;\n",
"Iae=Ias-Iad*k;\n",
"Eas=590;    //from magnetising curve\n",
"Ts=Eas*Ias/(2*%pi*nn/60);disp(Ts,'T_start(Nm)');"
   ]
   }
,
{
		   "cell_type": "markdown",
		   "metadata": {},
		   "source": [
			"## Example 7.39: to_determine_speed_and_mech_power.sci"
		   ]
		  },
  {
"cell_type": "code",
	   "execution_count": null,
	   "metadata": {
	    "collapsed": true
	   },
	   "outputs": [],
"source": [
"//to determine speed and mech power\n",
"\n",
"clc;\n",
"k=.2*10^-3;\n",
"Ia=250;\n",
"Iad=k*Ia^2;\n",
"Ianet=Ia-Iad;\n",
"Ea=428;    //from magnetising curve\n",
"V=600;\n",
"Ra=.105;\n",
"Eaact=V-Ia*Ra;\n",
"n=500;\n",
"nn=n*Eaact/Ea;disp(nn,'speed(rpm)');\n",
"Pmech=Eaact*Ia;disp(Pmech,'mech power debeloped(W)');\n",
"T=Pmech/(2*%pi*nn/60);disp(T,'torque(Nm)');"
   ]
   }
,
{
		   "cell_type": "markdown",
		   "metadata": {},
		   "source": [
			"## Example 7.3: to_calculate_relevant_pitches_for_wave_windings.sci"
		   ]
		  },
  {
"cell_type": "code",
	   "execution_count": null,
	   "metadata": {
	    "collapsed": true
	   },
	   "outputs": [],
"source": [
"//to calculate relevant pitches for wave windings\n",
"\n",
"clc;\n",
"S=16;\n",
"P=6;\n",
"Y_cs=floor(S/P);\n",
"U=2;\n",
"Y_b=Y_cs*U+1;\n",
"C=16;\n",
"y_c=U*(C-1)/P;\n",
"y_f=2*y_c-Y_b;\n",
"disp(y_f,'no of pitches');"
   ]
   }
,
{
		   "cell_type": "markdown",
		   "metadata": {},
		   "source": [
			"## Example 7.40: to_calculate_the_mmf_per_pole_on_no_load_and_speed_developed.sci"
		   ]
		  },
  {
"cell_type": "code",
	   "execution_count": null,
	   "metadata": {
	    "collapsed": true
	   },
	   "outputs": [],
"source": [
"//to calculate the mmf per pole on no load and speed developed\n",
"\n",
"clc;\n",
"ATsefl=2400;\n",
"ATsenl=(3/25)*ATsefl;\n",
"ATsh=ATsefl;\n",
"ATnet=ATsenl+ATsh;disp(ATnet,'mmf/pole(AT)');\n",
"Ea=148;    //from magnetising curve\n",
"V=240;\n",
"vd=3;\n",
"Eanl=V-vd;\n",
"n=850;\n",
"nnl=n*Eanl/Ea;\n",
"disp(nnl,'speed(rpm)');"
   ]
   }
,
{
		   "cell_type": "markdown",
		   "metadata": {},
		   "source": [
			"## Example 7.41: EX7_41.sci"
		   ]
		  },
  {
"cell_type": "code",
	   "execution_count": null,
	   "metadata": {
	    "collapsed": true
	   },
	   "outputs": [],
"source": [
"//to calculate demagnetisising ampeare turns, em torque,starting torque and no of turns of the series field\n",
"\n",
"clc;\n",
"P=10000;\n",
"Vt=240;\n",
"Ia=P/Vt;\n",
"If=.6;\n",
"Ra=.18;\n",
"Ri=0.025;\n",
"Ea=Vt-Ia*(Ra+Ri);\n",
"n=1218;\n",
"Eaa=Ea*Vt/Ea;\n",
"Iff=.548;    //from n-If characteristics\n",
"Ifd=If-Iff;\n",
"N_s=2000;    //shunt field turns\n",
"ATd=N_s*Ifd;    disp(ATd,'demagnetising ampere turns');\n",
"T=Ea*Ia/(2*%pi*n/60);disp(T,'torque(Nm)');\n",
"Rf=320;\n",
"If=Vt/Rf;\n",
"ATd=165;    //given\n",
"Ifd=ATd/N_s;\n",
"Ifnet=If-Ifd;\n",
"n=1150;    //from n-If characteristics\n",
"//Ea=Ka*phi*w;    Ka*phi=k\n",
"k=Vt/(2*%pi*n/60);\n",
"Iastart=75;\n",
"Tstart=Iastart*k;disp(Tstart,'starting torque(Nm)');\n",
"n_0=1250;\n",
"Ea=240;\n",
"If=.56;    //from n-If characteristics\n",
"n=1200;\n",
"Rse=.04;\n",
"R=Rse+Ra+Ri;\n",
"Eaa=Ea-Ia*R;\n",
"nn=n*Ea/Eaa;\n",
"Ifnet=.684;    //from n-If characteristics\n",
"Ifd=Ifnet-If;\n",
"Nse=N_s*Ifd/Ia;    disp(ceil(Nse),'no of turns of the series field');"
   ]
   }
,
{
		   "cell_type": "markdown",
		   "metadata": {},
		   "source": [
			"## Example 7.42: EX7_42.sci"
		   ]
		  },
  {
"cell_type": "code",
	   "execution_count": null,
	   "metadata": {
	    "collapsed": true
	   },
	   "outputs": [],
"source": [
"//to determine shunt field current of the motor,demagnetising effect of armature rxn, determine series field turns/pole,speed of motor.\n",
"\n",
"clc;\n",
"Voc=[180 200 220 240 250];\n",
"If=[1.18 1.4 1.8 2.4 2.84];\n",
"plot(If,Voc);\n",
"xlabel('If(A)');\n",
"ylabel('Voc(V)');\n",
"n_0=1350;    //at no load\n",
"Vt=230;\n",
"Ea=Vt;    //no voltage drop\n",
"If=1.08;    //from occ characteristic\n",
"disp(If,'If(A)');\n",
"n=1350;\n",
"Ia=56.5;\n",
"R=.15;\n",
"Ea=Vt-Ia*R;\n",
"Ifnet=1.8;    //from occ characteristic\n",
"Ifact=2.08;\n",
"Ifd=Ifact-Ifnet;\n",
"N_s=1200;    //shunt field turns\n",
"ATd=N_s*Ifd;    disp(ATd,'ATd');\n",
"\n",
"Rf=.033;\n",
"Ea=Vt-Ia*(R+Rf);\n",
"n=1230;\n",
"nn=1350;\n",
"Eaa=Ea*nn/n;\n",
"Ifnet=2.41;ATnet=Ifnet*N_s;\n",
"If=1.08;\n",
"ATsh=If*N_s;\n",
"ATse=ATnet-ATsh+ATd;\n",
"Nse=ATse/Ia;    disp(floor(Nse),'series field turns');\n",
"Nse=25;\n",
"ATse=Nse*Ia;\n",
"ATnet=ATsh-ATd+ATse;\n",
"Ifnet=ATnet/N_s;\n",
"Rs=.025;\n",
"Eaa=226;    //from occ\n",
"Eact=Vt-Ia*(R+Rs);\n",
"n=nn*Eact/Eaa;    disp(n,'speed(rpm)');"
   ]
   }
,
{
		   "cell_type": "markdown",
		   "metadata": {},
		   "source": [
			"## Example 7.43: to_find_the_no_of_starter_sections_reqd_and_resistance_of_each_section.sci"
		   ]
		  },
  {
"cell_type": "code",
	   "execution_count": null,
	   "metadata": {
	    "collapsed": true
	   },
	   "outputs": [],
"source": [
"//to find the no of starter sections reqd,and resistance of each section\n",
"\n",
"clc;\n",
"I1=55;\n",
"I2=35;\n",
"g=I1/I2;\n",
"V1=220;\n",
"R1=V1/I1;\n",
"Ra=.4;\n",
"n=log((R1/Ra)-g)+1;\n",
"disp((n),'no of starter sections reqd');\n",
"\n",
"function [R]=res (re)\n",
"    R=(1/g)*re;\n",
"endfunction\n",
"R_1=R1-res(R1);disp(R_1,'R1(ohm)');\n",
"R_2=res(R_1);disp(R_2,'R2(ohm)');"
   ]
   }
,
{
		   "cell_type": "markdown",
		   "metadata": {},
		   "source": [
			"## Example 7.44: to_find_the_lower_current_limit_motor_speed_at_each_stud.sci"
		   ]
		  },
  {
"cell_type": "code",
	   "execution_count": null,
	   "metadata": {
	    "collapsed": true
	   },
	   "outputs": [],
"source": [
"//to find the lower current limit, motor speed at each stud\n",
"\n",
"clc;\n",
"Pop=25*1000;\n",
"Vt=230;\n",
"Ra=.12;\n",
"rf=120;\n",
"Nfl=2000;\n",
"Iafl=Pop/Vt;\n",
"Iamax=1.5*Iafl;\n",
"k=5;\n",
"I1=Iamax;\n",
"R1=Vt/I1;\n",
"r=(R1/Ra)^(1/(k-1));\n",
"I2=I1/r;\n",
"function [R]=res (re)\n",
"    R=(1/r)*re;\n",
"endfunction\n",
"R_1=R1-res(R1);disp(R_1,'R1(ohm)');\n",
"R_2=res(R_1);disp(R_2,'R2(ohm)');\n",
"R_3=res(R_2);disp(R_3,'R3(ohm)');\n",
"R_4=res(R_3);disp(R_4,'R4(ohm)');\n",
"\n",
"Iaf1=103.7;\n",
"Ea=Vt-Iaf1*Ra;\n",
"Ka=Ea/Nfl;\n",
"function [n]=speed(r)\n",
"    Ea=Vt-I2*r;\n",
"    n=Ea/Ka;\n",
"endfunction\n",
"r1=R1;\n",
"n1=speed(r1);disp(n1,'n1(rpm)');\n",
"r2=r1-R_1;\n",
"n2=speed(r2);disp(n2,'n2(rpm)');\n",
"r3=r2-R_2;\n",
"n3=speed(r3);disp(n3,'n3(rpm)');\n",
"r4=r3-R_3;\n",
"n4=speed(r4);disp(n4,'n4(rpm)');"
   ]
   }
,
{
		   "cell_type": "markdown",
		   "metadata": {},
		   "source": [
			"## Example 7.45: to_calculate_the_ratio_of_full_load_speed_to_no_load_speed.sci"
		   ]
		  },
  {
"cell_type": "code",
	   "execution_count": null,
	   "metadata": {
	    "collapsed": true
	   },
	   "outputs": [],
"source": [
"//to calculate the ratio of full load speed to no load speed\n",
"\n",
"clc;\n",
"V=400;\n",
"Rf=200;\n",
"If=V/Rf;\n",
"Inl=5.6;\n",
"I_a0=Inl-If;\n",
"vd=2;    //voltage drop\n",
"Ra=.18;\n",
"E_a0=V-Ra*I_a0-vd;\n",
"Ifl=68.3;\n",
"Iafl=Ifl-If;\n",
"E_afl=V-Ra*Iafl-vd;\n",
"e=.03;    //armature rxn weakens the field by 3%\n",
"k=(E_afl/E_a0)*(1/(1-e));\n",
"disp(k,'n_fl/n_nl');"
   ]
   }
,
{
		   "cell_type": "markdown",
		   "metadata": {},
		   "source": [
			"## Example 7.46: to_calculate_load_torque_motor_speed_and_line_current.sci"
		   ]
		  },
  {
"cell_type": "code",
	   "execution_count": null,
	   "metadata": {
	    "collapsed": true
	   },
	   "outputs": [],
"source": [
"//to calculate load torque, motor speed and line current\n",
"\n",
"clc;\n",
"V=250;\n",
"Rf=41.67;\n",
"If1=V/Rf;\n",
"Ia=126;\n",
"Ia1=Ia-If1;\n",
"Ra=.03;\n",
"Ea1=V-Ra*Ia1;\n",
"n1=1105;    //rpm\n",
"w1=2*%pi*n1/60;\n",
"Ka=Ea1/(If1*w1);\n",
"T=Ka*If1*Ia1;\n",
"disp(T,'torque(Nm)');\n",
"\n",
"If2=5;\n",
"Ia2=Ia1*(If1/If2);\n",
"I_L2=Ia2+2;disp(I_L2,'motor current(A) initial');\n",
"Ea2=V-Ra*Ia2;\n",
"w2=Ea2/(Ka*If2);\n",
"\n",
"If1=6;\n",
"Voc1=267;\n",
"n=1200;\n",
"k1=Voc1/(2*%pi*n/60);    //k=Ka*phi\n",
"If1=5;\n",
"Voc2=250;\n",
"n=1200;\n",
"k2=Voc2/(2*%pi*n/60);    //k=Ka*phi\n",
"Ia2=Ia1*(k1/k2);\n",
"I_L2=Ia2+2;disp(I_L2,'motor current(A) final');\n",
"Ea2=V-Ra*Ia2;\n",
"w2=Ea2/k2;\n",
"disp(w2,'motor speed(rad/s)');"
   ]
   }
,
{
		   "cell_type": "markdown",
		   "metadata": {},
		   "source": [
			"## Example 7.47: EX7_47.sci"
		   ]
		  },
  {
"cell_type": "code",
	   "execution_count": null,
	   "metadata": {
	    "collapsed": true
	   },
	   "outputs": [],
"source": [
"//to calculate armature current,speed and value of external resistance in field ckt\n",
"\n",
"clc;\n",
"V=250;\n",
"Ia=5;\n",
"Ra=.6;\n",
"n=1000;\n",
"k=(V-Ia*Ra)/(2*%pi*n/60);\n",
"T=100;\n",
"Ia=T/k;disp(Ia,'armature current(A)');\n",
"w_m=(V-Ia*Ra)/k;\n",
"n=(60*w_m)/(2*%pi);disp(n,'speed(rpm)');\n",
"\n",
"Rf=150;\n",
"If=V/Rf;\n",
"kk=k/If;\n",
"Iaa=44.8;\n",
"nn=1200;\n",
"Iff=(V-Iaa*Ra)/(kk*2*%pi*nn/60);\n",
"Rftot=V/Iff;\n",
"Rfext=Rftot-Rf;\n",
"disp(Rfext,'external resistance(ohm)');"
   ]
   }
,
{
		   "cell_type": "markdown",
		   "metadata": {},
		   "source": [
			"## Example 7.48: to_determine_speed_and_torque_of_the_motor.sci"
		   ]
		  },
  {
"cell_type": "code",
	   "execution_count": null,
	   "metadata": {
	    "collapsed": true
	   },
	   "outputs": [],
"source": [
"//to determine speed and torque of the motor\n",
"\n",
"clc;\n",
"Ra=0.035;\n",
"Rf=0.015;\n",
"V=220;\n",
"I=200;\n",
"Ea=V-I*(Ra+Rf);\n",
"disp('full field winding');\n",
"n=900;\n",
"nn=n*Ea/V;disp(nn,'speed(rpm)');\n",
"T=(Ea*I/2)/(2*%pi*nn/60);disp(T,'torque(Nm)');\n",
"disp('field winding reduced to half');\n",
"Rse=Rf/2;\n",
"Rtot=Rse+Ra;\n",
"Ea=V-I*(Rtot);\n",
"Iff=I/2;\n",
"V=150;    //from magnetisation characteristic\n",
"nn=n*Ea/V;disp(nn,'speed(rpm)');\n",
"T=(Ea*I)/(2*%pi*nn/60);disp(T,'torque(Nm)');\n",
"\n",
"disp('divertor across series field');\n",
"Ra=0.03;\n",
"Rse=.015;\n",
"Kd=1/((Rse/Ra)+1);\n",
"Ise=Kd*I;\n",
"V1=192;\n",
"I1=150;\n",
"V2=150;\n",
"I2=100;\n",
"v=V2+((V1-V2)/(I1-I2))*(Ise-I2);\n",
"R=(2/3)*Rse;\n",
"Ea=V-I*(Ra+R);\n",
"nn=n*Ea/v;disp(nn,'speed(rpm)');\n",
"T=(Ea*I)/(2*%pi*nn/60);disp(T,'torque(Nm)');"
   ]
   }
,
{
		   "cell_type": "markdown",
		   "metadata": {},
		   "source": [
			"## Example 7.4: to_find_distance_bw_brushes.sci"
		   ]
		  },
  {
"cell_type": "code",
	   "execution_count": null,
	   "metadata": {
	    "collapsed": true
	   },
	   "outputs": [],
"source": [
"// to find distance b/w brushes\n",
"\n",
"clc;\n",
"S=28;\n",
"P=4;\n",
"U=8;\n",
"c=U*S/2;\n",
"y_c=2*(c-1)/P;\n",
"Y_c=55;\n",
"C=(P/2)*Y_c+1;\n",
"Y_cs=floor(S/P);\n",
"Y_b=Y_cs*U+1;\n",
"y_f=2*Y_c-Y_b;\n",
"d=C/P;\n",
"disp(d,'dis b/w brushes');"
   ]
   }
,
{
		   "cell_type": "markdown",
		   "metadata": {},
		   "source": [
			"## Example 7.50: EX7_50.sci"
		   ]
		  },
  {
"cell_type": "code",
	   "execution_count": null,
	   "metadata": {
	    "collapsed": true
	   },
	   "outputs": [],
"source": [
"//to determine speed regulation, load speed and power regulation and compare power wasted in both cases\n",
"\n",
"clc;\n",
"V=230;\n",
"Ra=2;\n",
"Ia=5;\n",
"Ea=V-Ia*Ra;\n",
"n=1250;\n",
"w=2*%pi*n/60;\n",
"k=Ea/w;    //k=Ka*phi\n",
"Re=15;\n",
"Ia0=1;\n",
"Ea=V-Ia0*(Ra+Re);\n",
"w0=Ea/k;\n",
"Ia=5;\n",
"Ea=V-Ia*(Ra+Re);\n",
"w=Ea/k;\n",
"wr=(w0-w)*100/w;\n",
"disp(wr,'(i)speed regulation(%)');\n",
"\n",
"R1=10;\n",
"R2=15;\n",
"B=R2/(R1+R2);\n",
"V_TH=V*B;\n",
"R_TH=R1*B;\n",
"Ea=V_TH-Ia0*(R_TH+Ra);\n",
"w0=Ea/k;\n",
"Ia=5;\n",
"Ea=V_TH-Ia*(R_TH+Ra);\n",
"w=Ea/k; \n",
"wr=(w0-w)*100/w;\n",
"disp(wr,'(ii)speed regulation(%)');\n",
"\n",
"Pe=Ia^2*Re;\n",
"disp(Pe,'power loss by rheostat control(W)');\n",
"Ra=2;\n",
"Ea=98;\n",
"Va=Ea+Ra*Ia;\n",
"P2=Va^2/R2;\n",
"I2=Va/R2;\n",
"I1=I2+Ia;\n",
"P1=I1^2*R1;\n",
"Pe=P1+P2;\n",
"disp(Pe,'power loss by shunted armature control(W)');"
   ]
   }
,
{
		   "cell_type": "markdown",
		   "metadata": {},
		   "source": [
			"## Example 7.52: to_determine_armature_current.sci"
		   ]
		  },
  {
"cell_type": "code",
	   "execution_count": null,
	   "metadata": {
	    "collapsed": true
	   },
	   "outputs": [],
"source": [
"//to determine armature current\n",
"\n",
"clc;\n",
"n1=1600;\n",
"Ia1=120;\n",
"n2=400;\n",
"Ia2=(n1*Ia1)/n2;    //P=K*Ia*n\n",
"disp(Ia2,'Ia(A)');"
   ]
   }
,
{
		   "cell_type": "markdown",
		   "metadata": {},
		   "source": [
			"## Example 7.54: to_find_speed_and_ratio_of_mech_op.sci"
		   ]
		  },
  {
"cell_type": "code",
	   "execution_count": null,
	   "metadata": {
	    "collapsed": true
	   },
	   "outputs": [],
"source": [
"//to find speed and ratio of mech o/p\n",
"\n",
"clc;\n",
"V=400;\n",
"Ra=.25;\n",
"Ia1=25;\n",
"Ea1=V-Ra*Ia1;\n",
"n1=1200;\n",
"Rr=2.75;\n",
"Ia2=15;\n",
"Ea2=V-(Ra+Rr)*Ia2;\n",
"phi=.7;    //phi=(phi(15)/phi(25))\n",
"n2=(Ea2/Ea1)*n1/phi;\n",
"disp(n2,'speed(rpm)');\n",
"\n",
"Po2=Ea2*I2;\n",
"Po1=Ea1*I1;\n",
"disp(Po2/Po1,'ratio of mech o/p');\n",
"Ia=120;    //Ia is constant indep of speed\n",
"disp(Ia,'Ia(A)');"
   ]
   }
,
{
		   "cell_type": "markdown",
		   "metadata": {},
		   "source": [
			"## Example 7.55: to_calculate_the_armature_voltage_reqd.sci"
		   ]
		  },
  {
"cell_type": "code",
	   "execution_count": null,
	   "metadata": {
	    "collapsed": true
	   },
	   "outputs": [],
"source": [
"//to calculate the armature voltage reqd\n",
"\n",
"clc;\n",
"V=500;\n",
"Ra=.28;\n",
"Ia1=128;\n",
"Ea1=V-Ia1*Ra;\n",
"//(Vt2-.28*Ia2)-->n1/sqrt(2)    (i)\n",
"//Ea1-->n1    (ii)\n",
"Vt2=(Ea1/sqrt(2))+(Ia1*Ra);\n",
"disp(Vt2,'armature voltage(V)');"
   ]
   }
,
{
		   "cell_type": "markdown",
		   "metadata": {},
		   "source": [
			"## Example 7.56: to_find_the_range_of_generator_field_current_motor_current_and_speed.sci"
		   ]
		  },
  {
"cell_type": "code",
	   "execution_count": null,
	   "metadata": {
	    "collapsed": true
	   },
	   "outputs": [],
"source": [
"//to find the range of generator field current,motor current and speed\n",
"\n",
"clc;\n",
"If=[0 0.2 0.3 0.4 0.5 0.6 0.7 0.8 1 1.2];\n",
"Voc=[45 110 148 175 195 212 223 230 241 251];\n",
"plot(If,Voc);\n",
"xlabel('If(A)');\n",
"ylabel('Voc(V)');\n",
"Ifm=0.8;\n",
"Eam2=230;    //at 1500rpm\n",
"n_m2=1500;\n",
"Ra=.5;\n",
"//n_m=300-1500rpm(range)\n",
"n_m1=300;\n",
"Eam1=Eam2*n_m1/n_m2;\n",
"P_mot=4500;\n",
"Ia1=P_mot/Eam1;\n",
"Eag1=Eam1+2*Ra*Ia1;\n",
"If1=.3-((.1/(148-110))*(148-Eag1));\n",
"disp(If1,'lower limit of current(A)');\n",
"\n",
"n_m2=1500;\n",
"Eam2=230;\n",
"P_mot=4500;\n",
"Ia2=P_mot/Eam2;\n",
"Eag2=Eam2+2*Ra*Ia2;\n",
"If2=1.2-(.2/(241-230)*(251-Eag2));\n",
"disp(If2,'upper limit of current(A)');\n",
"\n",
"Ifg=1;\n",
"Eag=241;\n",
"n=1500;\n",
"Pop=4500;\n",
"//((241-Eam)/(2*.5))*Eam=4500\n",
"//after solving\n",
"//Eam^2-241*Eam+4500=0\n",
"function [x]=quad(a,b,c)\n",
"    d=sqrt(b^2-4*a*c);\n",
"    x1=(-b+d)/(2*a);\n",
"    x2=(-b-d)/(2*a);\n",
"    if(x1<x2)\n",
"        x=x2;\n",
"    else\n",
"        x=x1;\n",
"    end\n",
"endfunction\n",
"Eam=quad(1,-241,4500);\n",
"Ifm=.2;\n",
"Eamm=110;\n",
"n_m=n*Eam/Eamm;disp(n_m,'speed(rpm)');\n",
"Ia=(Eag-Eam)/(2*.5);disp(Ia,'motor current(A)');"
   ]
   }
,
{
		   "cell_type": "markdown",
		   "metadata": {},
		   "source": [
			"## Example 7.57: to_calculate_mc_eff_as_a_generator_and_max_eff_when_generating_and_motoring.sci"
		   ]
		  },
  {
"cell_type": "code",
	   "execution_count": null,
	   "metadata": {
	    "collapsed": true
	   },
	   "outputs": [],
"source": [
"//to calculate m/c eff as a generator and max eff when generating and motoring.\n",
"\n",
"clc;\n",
"Pop=10*1000;\n",
"Vt=250;\n",
"Ra=.8;\n",
"Rf=275;\n",
"Ia=3.91;\n",
"Psh=Vt^2/Rf;\n",
"Prot=Vt*Ia-Ia^2*Ra;disp(Prot,'rotational loss(W)');\n",
"\n",
"I1=Pop/Vt;\n",
"If=Vt/Rf;\n",
"Ia=I1+If;\n",
"Ploss=Prot+Psh+Ia^2*Ra;\n",
"Eff_gen=(1-Ploss/(Ploss+Pop))*100;disp(Eff_gen,'generator eff(%)');\n",
"\n",
"Ia=I1-If;\n",
"Ploss=Prot+Psh+Ia^2*Ra;\n",
"Eff_motor=(1-Ploss/(Pop))*100;disp(Eff_motor,'motor eff(%)');\n",
"\n",
"Ia=sqrt((Prot+Psh)/Ra);\n",
"Ploss_tot=2*(Prot+Psh);disp(Ploss_tot,'total loss(W)');\n",
"\n",
"I1=Ia-If;\n",
"Pout=Vt*I1;\n",
"Eff_gen_max=((1-Ploss_tot/(Ploss_tot+Pout)))*100;\n",
"disp(Eff_gen_max,'max generator eff(%)');\n",
"\n",
"I1=Ia+If;\n",
"Pin=Vt*I1;\n",
"Eff_motor_max=((1-Ploss_tot/(Pin)))*100;disp(Eff_motor_max,'max motor eff(%)');"
   ]
   }
,
{
		   "cell_type": "markdown",
		   "metadata": {},
		   "source": [
			"## Example 7.59: EX7_59.sci"
		   ]
		  },
  {
"cell_type": "code",
	   "execution_count": null,
	   "metadata": {
	    "collapsed": true
	   },
	   "outputs": [],
"source": [
"//to determine rotational loss, no load armature current and speed and also find speed regulation and to calculate armature current for given em torque\n",
"\n",
"clc;\n",
"Pout=60*1000;\n",
"eff=.85;\n",
"P_L=((1/eff)-1)*Pout;\n",
"Pin=Pout+P_L;\n",
"V=600;\n",
"I_L=Pin/V;\n",
"Rf=100;\n",
"If=V/Rf;\n",
"Ia=I_L-If;\n",
"Ra=.16;\n",
"Ea=V-Ia*Ra;\n",
"n=900;\n",
"Prot=P_L-Ia^2*Ra-V*If;disp(Prot,'rotational loss(W)');\n",
"\n",
"Iao=Prot/V;disp(Iao,'no load armature current(A)');\n",
"Eao=V;\n",
"n0=n*Eao/Ea;disp(n0,'no load speed(rpm)');\n",
"reg=(n0-n)*100/n;disp(reg,'speed regulation(%)');\n",
"\n",
"K=Ea/(2*%pi*n/60);    //K=Ka*phi\n",
"T=600;\n",
"Ia=T/K;disp(Ia,'reqd armature current(A)');"
   ]
   }
,
{
		   "cell_type": "markdown",
		   "metadata": {},
		   "source": [
			"## Example 7.5: to_find_the_torque_and_gross_mech_power_developed.sci"
		   ]
		  },
  {
"cell_type": "code",
	   "execution_count": null,
	   "metadata": {
	    "collapsed": true
	   },
	   "outputs": [],
"source": [
"// to find the torque and gross mech power developed \n",
"\n",
"clc;\n",
"D=.3;\n",
"l=.2;\n",
"p=4;\n",
"fd=.4;        //flux density\n",
"phi=%pi*(D/p)*l*fd;        //flux/pole\n",
"n=1500;\n",
"Z=400;\n",
"A=4;\n",
"E_a=phi*n*Z*(p/A)/60;\n",
"I_a=25;\n",
"mp=E_a*I_a;\n",
"disp(mp,'gross mech power developed(W)');\n",
"T=mp/(2*%pi*n/60);\n",
"disp(T,'torque developed(Nm)');"
   ]
   }
,
{
		   "cell_type": "markdown",
		   "metadata": {},
		   "source": [
			"## Example 7.60: EX7_60.sci"
		   ]
		  },
  {
"cell_type": "code",
	   "execution_count": null,
	   "metadata": {
	    "collapsed": true
	   },
	   "outputs": [],
"source": [
"//to determine load torque and motor eff,armature current for max motor eff and ots value\n",
"\n",
"clc;\n",
"V=250;\n",
"Ia=35;\n",
"Ra=.5;\n",
"Ea=V-Ia*Ra;\n",
"Poutg=Ea*Ia;\n",
"Prot=500;\n",
"Pout_net=Poutg-Prot;\n",
"n=1250;\n",
"w=2*%pi*n/60;\n",
"T_L=Pout_net/w;disp(T_L,'load torque(Nm)');\n",
"\n",
"Rf=250;\n",
"If=V/Rf;\n",
"I_L=If+Ia;\n",
"Pin=I_L*V;\n",
"eff=Pout_net*100/Pin;disp(eff,'efficiency(%)');\n",
"\n",
"Pk=Prot+V*If;\n",
"Ia=sqrt(Pk/Ra);disp(Ia,'armature current(A)');\n",
"Tloss=2*Pk;\n",
"I_L=If+Ia;\n",
"Pin=I_L*V;\n",
"eff_max=1-(Tloss/Pin);disp(eff_max*100,'max efficiency(%)');\n",
"\n",
"Ea1=V-Ia*Ra;\n",
"n1=n*Ea1/Ea;disp(n1,'speed(rpm)');\n",
"w=2*%pi*n1/60;\n",
"Poutg=Ea1*Ia;\n",
"Pout_net=Poutg-Prot;\n",
"T_L=Pout_net/w;disp(T_L,'load torque(Nm)');"
   ]
   }
,
{
		   "cell_type": "markdown",
		   "metadata": {},
		   "source": [
			"## Example 7.61: to_calculate_rotational_loss_armature_resistance_eff_line_current_and_speed.sci"
		   ]
		  },
  {
"cell_type": "code",
	   "execution_count": null,
	   "metadata": {
	    "collapsed": true
	   },
	   "outputs": [],
"source": [
"//to calculate rotational loss ,armature resistance,eff,line current and speed\n",
"\n",
"clc;\n",
"Pshaft=20000;\n",
"eff=.89;\n",
"P_L=((1/eff)-1)*Pshaft;\n",
"Pin=Pshaft+P_L;\n",
"V=250;\n",
"I_L=Pin/V;disp(I_L,'line current(A)');\n",
"Rf=125;\n",
"If=V/Rf;\n",
"Ia=I_L-If;\n",
"\n",
"Ploss=P_L/2;\n",
"Ra=Ploss/Ia^2;disp(Ra,'armature resistance(ohm)');\n",
"Psh=V*If;\n",
"Prot=Ploss-Psh;disp(Prot,'rotational loss(W)');\n",
"Ea=V-I_L*Ra;\n",
"n=850;\n",
"Ia=100;\n",
"\n",
"Pc=Ia^2*Ra;\n",
"P_L=Pc+Ploss;\n",
"Pin=V*I_L;\n",
"eff=(1-P_L/Pin)*100;\n",
"Ea1=V-Ia*Ra;\n",
"n1=n*Ea1/Ea;disp(n1,'speed(rpm)');"
   ]
   }
,
{
		   "cell_type": "markdown",
		   "metadata": {},
		   "source": [
			"## Example 7.62: to_calculate_eff_of_motor_and_generator.sci"
		   ]
		  },
  {
"cell_type": "code",
	   "execution_count": null,
	   "metadata": {
	    "collapsed": true
	   },
	   "outputs": [],
"source": [
"//to calculate eff of motor and generator\n",
"\n",
"clc;\n",
"Iag=60;\n",
"Ia=15;\n",
"Iam=Iag+Ia;\n",
"Vt=250;\n",
"Ram=.2;\n",
"Rag=.2;\n",
"Pstray=.5*(Vt*Ia-Iam^2*Ram-Iag^2*Rag);\n",
"Ifm=2;\n",
"Pinm=Vt*(Iam+Ifm);\n",
"P_Lm=(Pstray+Vt*Ifm)+Iam^2*Ram;\n",
"eff_M=1-(P_Lm/Pinm);disp(eff_M*100,'efficiency of motor(%)');\n",
"\n",
"Iag=60;\n",
"Ifg=2.5;\n",
"P_Lg=(Pstray+Vt*Ifg)+Iag^2*Rag;\n",
"Poutg=Vt*Iag;\n",
"eff_G=1-(P_Lg/(Poutg+P_Lg));disp(eff_G*100,'efficiency of generator(%)');"
   ]
   }
,
{
		   "cell_type": "markdown",
		   "metadata": {},
		   "source": [
			"## Example 7.63: EX7_63.sci"
		   ]
		  },
  {
"cell_type": "code",
	   "execution_count": null,
	   "metadata": {
	    "collapsed": true
	   },
	   "outputs": [],
"source": [
"//to calculaate torque constt,value of rotational loss,stalled torque and stalled current of motor, armature current anad eff, motor o/p and eff\n",
"\n",
"clc;\n",
"Vt=6;\n",
"Iao=.0145;\n",
"n=12125;\n",
"w=2*%pi*n/60;\n",
"Ra=4.2;\n",
"Ea=Vt-Iao*Ra;\n",
"Km=Ea/w;disp(Km,'torque constt');\n",
"\n",
"Prot=Ea*Iao;disp(Prot,'rotational loss(W)');\n",
"\n",
"Ia_stall=Vt/Ra;disp(Ia_stall,'stalled current(A)');\n",
"Tstall=Km*Ia_stall;disp(Tstall,'stalled torque(Nm)');\n",
"\n",
"Poutg=1.6;\n",
"function [x]=quad(a,b,c)\n",
"    d=sqrt(b^2-4*a*c);\n",
"    x1=(-b+d)/(2*a);\n",
"    x2=(-b-d)/(2*a);\n",
"    if(x1>x2)\n",
"        x=x2;\n",
"    else\n",
"        x=x1;\n",
"    end\n",
"endfunction\n",
"//Ea*Ia=1.6;\n",
"//(Vt-Ra*Ia)*Ia=Poutg;\n",
"Ia=quad(Ra,-Vt,Poutg);\n",
"Ea=Vt-Ia*Ra;\n",
"wo=Ea/Km;\n",
"Proto=Prot*(w/wo)^2;\n",
"Pout_net=Poutg-Prot;\n",
"Pi=Vt*Ia;\n",
"eff=Pout_net/Pi;disp(eff*100,'efficiency(%)');\n",
"\n",
"n1=10250;\n",
"w1=2*%pi*n1/60;\n",
"Km=.004513;\n",
"Ea1=Km*w1;\n",
"Ia=(Vt-Ea1)/Ra;\n",
"Pout_gross=Ea1*Ia;\n",
"Prot1=Prot*(n1/n);\n",
"Pout_net=Pout_gross-Prot1;disp(Pout_net,'o/p power(W)');\n",
"Pin=Vt*Ia;\n",
"eff=Pout_net/Pin;disp(eff*100,'efficiency(%)');"
   ]
   }
,
{
		   "cell_type": "markdown",
		   "metadata": {},
		   "source": [
			"## Example 7.6: to_calculate_ratio_of_generator_speed_to_motor_speed.sci"
		   ]
		  },
  {
"cell_type": "code",
	   "execution_count": null,
	   "metadata": {
	    "collapsed": true
	   },
	   "outputs": [],
"source": [
"// to calculate ratio of generator speed to motor speed\n",
"\n",
"clc;\n",
"V=220;\n",
"P=4000;\n",
"I_a=P/V;\n",
"r_a=.4;        //armature resistance\n",
"E_ag=V+I_a*r_a;\n",
"E_am=V-I_a*r_a;\n",
"a=1.1;        //phi_m/phi_g\n",
"n=(E_ag/E_am)*a;\n",
"disp(n,'n_g/n_m');"
   ]
   }
,
{
		   "cell_type": "markdown",
		   "metadata": {},
		   "source": [
			"## Example 7.7: to_calculate_speed_of_motor.sci"
		   ]
		  },
  {
"cell_type": "code",
	   "execution_count": null,
	   "metadata": {
	    "collapsed": true
	   },
	   "outputs": [],
"source": [
"// to calculate speed of motor\n",
"\n",
"clc;\n",
"V=230;\n",
"R_f=115;        //field resistance\n",
"I_f=V/R_f;\n",
"P_g=100000;        //electric power (m/c running as generator)\n",
"I_L=P_g/V;\n",
"I_a=I_f+I_L;\n",
"R_a=.08;        //armature resitance\n",
"E_ag=V+I_a*R_a;\n",
"n_g=750;        //speed\n",
"\n",
"P_m=9000;        //m/c running as motor\n",
"I_l=P_m/V;\n",
"I_A=I_l-I_f;\n",
"E_am=V-I_A*R_a;\n",
"n_m=(E_am/E_ag)*n_g;\n",
"disp(n_m,'motor speed(rpm)');"
   ]
   }
,
{
		   "cell_type": "markdown",
		   "metadata": {},
		   "source": [
			"## Example 7.8: to_calculate_electomagnetic_power_and_torque.sci"
		   ]
		  },
  {
"cell_type": "code",
	   "execution_count": null,
	   "metadata": {
	    "collapsed": true
	   },
	   "outputs": [],
"source": [
"//to calculate electomagnetic power and torque\n",
"\n",
"clc;\n",
"E_a=250;\n",
"R_a=.05;\n",
"n=3000;\n",
"w_m=(n*2*%pi)/60;\n",
"disp('when terminal voltage is 255V');\n",
"V_t=255;\n",
"I_a=(V_t-E_a)/R_a;\n",
"P_in=E_a*I_a;\n",
"disp(P_in,'electromagnetic power(W)');\n",
"T=P_in/w_m;\n",
"disp(T,'torque(Nm)');\n",
"\n",
"disp('when terminal voltage is 248V');\n",
"V_t=248;\n",
"I_a=(E_a-V_t)/R_a;\n",
"P_in=E_a*I_a;\n",
"disp(P_in,'electromagnetic power(W)');\n",
"T=P_in/w_m;\n",
"disp(T,'torque(Nm)');"
   ]
   }
,
{
		   "cell_type": "markdown",
		   "metadata": {},
		   "source": [
			"## Example 7.9: to_calculate_electomagnetic_power.sci"
		   ]
		  },
  {
"cell_type": "code",
	   "execution_count": null,
	   "metadata": {
	    "collapsed": true
	   },
	   "outputs": [],
"source": [
"//to calculate electomagnetic power\n",
"\n",
"clc;\n",
"n_f=3000;        //field speed\n",
"n_a=2950;        //armature speed\n",
"E=250;\n",
"E_a=E*(n_a/n_f);\n",
"V_t=250;\n",
"R_a=0.05;\n",
"I_a=(V_t-E_a)/R_a;\n",
"P_in=V_t*I_a;\n",
"disp(P_in,'power(W)');\n",
"P=E_a*I_a;\n",
"disp(P,'electromagnetic power(W)');"
   ]
   }
],
"metadata": {
		  "kernelspec": {
		   "display_name": "Scilab",
		   "language": "scilab",
		   "name": "scilab"
		  },
		  "language_info": {
		   "file_extension": ".sce",
		   "help_links": [
			{
			 "text": "MetaKernel Magics",
			 "url": "https://github.com/calysto/metakernel/blob/master/metakernel/magics/README.md"
			}
		   ],
		   "mimetype": "text/x-octave",
		   "name": "scilab",
		   "version": "0.7.1"
		  }
		 },
		 "nbformat": 4,
		 "nbformat_minor": 0
}
