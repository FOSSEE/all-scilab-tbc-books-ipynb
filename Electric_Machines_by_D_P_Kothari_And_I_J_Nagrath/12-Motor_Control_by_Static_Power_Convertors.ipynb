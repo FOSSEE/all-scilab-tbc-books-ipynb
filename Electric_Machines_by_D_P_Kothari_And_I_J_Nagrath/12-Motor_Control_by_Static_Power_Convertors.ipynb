{
"cells": [
 {
		   "cell_type": "markdown",
	   "metadata": {},
	   "source": [
       "# Chapter 12: Motor Control by Static Power Convertors"
	   ]
	},
{
		   "cell_type": "markdown",
		   "metadata": {},
		   "source": [
			"## Example 12.1: calculate_power_fed_to_load.sci"
		   ]
		  },
  {
"cell_type": "code",
	   "execution_count": null,
	   "metadata": {
	    "collapsed": true
	   },
	   "outputs": [],
"source": [
"//calculate power fed to load\n",
"\n",
"clc;\n",
"V=100;\n",
"Va=(V/(sqrt(2)*%pi))*(2+1/sqrt(2));\n",
"Rd=10;\n",
"Pa=Va^2/Rd;\n",
"disp(Pa,'load power(W)');"
   ]
   }
,
{
		   "cell_type": "markdown",
		   "metadata": {},
		   "source": [
			"## Example 12.2: calculate_firing_angle_value.sci"
		   ]
		  },
  {
"cell_type": "code",
	   "execution_count": null,
	   "metadata": {
	    "collapsed": true
	   },
	   "outputs": [],
"source": [
"//calculate firing angle value\n",
"\n",
"clc;\n",
"Po=15000;\n",
"Ro=1.5;\n",
"Va=sqrt(Po*Ro);\n",
"a=acosd((Va*2*%pi/(3*sqrt(6)*V))-1);disp(a,'firing angle(deg)');\n",
"Ia=Va/Ro;\n",
"Ith=Ia/3;disp(Ith,'avg current through diodes(A)');"
   ]
   }
,
{
		   "cell_type": "markdown",
		   "metadata": {},
		   "source": [
			"## Example 12.3: calculate_value_of_commutating_capacitor.sci"
		   ]
		  },
  {
"cell_type": "code",
	   "execution_count": null,
	   "metadata": {
	    "collapsed": true
	   },
	   "outputs": [],
"source": [
"//calculate value of commutating capacitor\n",
"\n",
"clc;\n",
"Iamax=100;\n",
"V=100;\n",
"f_max=400;\n",
"c=Iamax/(2*V*f_max);\n",
"disp(c,'value of commutating capacitor(F)');"
   ]
   }
],
"metadata": {
		  "kernelspec": {
		   "display_name": "Scilab",
		   "language": "scilab",
		   "name": "scilab"
		  },
		  "language_info": {
		   "file_extension": ".sce",
		   "help_links": [
			{
			 "text": "MetaKernel Magics",
			 "url": "https://github.com/calysto/metakernel/blob/master/metakernel/magics/README.md"
			}
		   ],
		   "mimetype": "text/x-octave",
		   "name": "scilab",
		   "version": "0.7.1"
		  }
		 },
		 "nbformat": 4,
		 "nbformat_minor": 0
}
