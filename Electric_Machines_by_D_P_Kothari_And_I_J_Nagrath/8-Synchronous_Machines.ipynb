{
"cells": [
 {
		   "cell_type": "markdown",
	   "metadata": {},
	   "source": [
       "# Chapter 8: Synchronous Machines"
	   ]
	},
{
		   "cell_type": "markdown",
		   "metadata": {},
		   "source": [
			"## Example 8.10: EX8_10.sci"
		   ]
		  },
  {
"cell_type": "code",
	   "execution_count": null,
	   "metadata": {
	    "collapsed": true
	   },
	   "outputs": [],
"source": [
"//to calculate armature resistance, sync reactance, full load stray load loss, Rac/Rdc,various categories of losses at full load,full load eff\n",
"\n",
"clc;\n",
"r=60*10^3;\n",
"Psc=3950;\n",
"Isc=108;\n",
"Raeff=Psc/(3*Isc^2);disp(Raeff,'effective armature resistance(ohm)');\n",
"V=400;\n",
"Ifoc=2.85;\n",
"Ifsc=1.21;\n",
"I_SC=Isc*Ifoc/Ifsc;\n",
"Zs=(V/sqrt(3))/I_SC;\n",
"Xs=sqrt(Zs^2-Raeff^2);disp(Xs,'sync reactance(ohm)');\n",
"\n",
"t1=25;\n",
"t2=75;\n",
"Rdc=0.075;\n",
"Radc=Rdc*((273+t2)/(273+t1));\n",
"Iarated=r/(sqrt(3)*V);\n",
"Pscc=Psc*(Iarated/Isc)^2;\n",
"P=3*Iarated^2*Radc;disp(P,'armature loss(W)');\n",
"loss=Pscc-P;disp(loss,'loss(W)');\n",
"\n",
"a=Raeff/Radc;disp(a,'Rac/Rdc');\n",
"\n",
"Pwf=900;disp(Pwf,'windage and friction loss(W)');\n",
"tloss=2440;\n",
"closs=tloss-Pwf;disp(closs,'core loss(W)');\n",
"If=3.1;\n",
"Rf=110;\n",
"Pcu=If^2*Rf;disp(Pcu,'field cu loss(W)');\n",
"disp(loss,'stray load loss(W)');\n",
"b=loss+Pcu+closs+Pwf+P;\n",
"disp(b,'total loss(W)');\n",
"\n",
"pf=0.8;\n",
"op=r*pf;\n",
"ip=op+b;\n",
"eff=op/ip;\n",
"disp(eff,'efficiency');"
   ]
   }
,
{
		   "cell_type": "markdown",
		   "metadata": {},
		   "source": [
			"## Example 8.11: to_calculate_net_power_op_eff_line_current_and_pf.sci"
		   ]
		  },
  {
"cell_type": "code",
	   "execution_count": null,
	   "metadata": {
	    "collapsed": true
	   },
	   "outputs": [],
"source": [
"//to calculate net power op,eff,line current and pf\n",
"\n",
"clc;\n",
"j=sqrt(-1);\n",
"Zs=(1/3)*(.3+j*6);\n",
"phi=atand(imag(Zs)/real(Zs));\n",
"Vt=400/sqrt(3);\n",
"Ef=600/sqrt(3);\n",
"a=sqrt(Vt^2+Ef^2-2*Vt*Ef*cosd(phi));\n",
"Ia=a/abs(Zs);disp(Ia,'line current(A)');\n",
"B=acosd((Vt^2+a^2-Ef^2)/(2*Vt*a));\n",
"\n",
"phi=90-(90-atand(imag(Zs)/real(Zs)))-B;disp(cosd(phi),'pf');\n",
"Pein=Vt*Ia*cosd(phi);\n",
"Ra=.1;\n",
"b=Ia^2*Ra;\n",
"loss=2400;\n",
"Pmout=Pein-loss/3-b;disp(Pmout,'net power op(W)');\n",
"eff=Pmout/Pein;\n",
"disp(eff*100,'efficiency(%)');"
   ]
   }
,
{
		   "cell_type": "markdown",
		   "metadata": {},
		   "source": [
			"## Example 8.12: to_find_pf.sci"
		   ]
		  },
  {
"cell_type": "code",
	   "execution_count": null,
	   "metadata": {
	    "collapsed": true
	   },
	   "outputs": [],
"source": [
"//to find pf\n",
"\n",
"clc;\n",
"j=sqrt(-1);\n",
"Zs=.8+j*5;\n",
"Vt=3300/sqrt(3);\n",
"Pein=800*10^3/3;    //per ph\n",
"pf=.8;\n",
"Qe=-Pein*tand(acosd(pf));\n",
"//a=Ef*sind(dl-a);\n",
"//b=Ef=cosd(dl-a);\n",
"a=((abs(Zs)/Vt)*(Pein-real(Zs)*(Vt/abs(Zs))^2));\n",
"b=((abs(Zs)/Vt)*(-Qe+imag(Zs)*(Vt/abs(Zs))^2));\n",
"\n",
"Ef=sqrt(a^2+b^2);\n",
"\n",
"Pein=(1200/3)*1000;\n",
"a=asind((abs(Zs)/(Vt*Ef))*(Pein-pf*(Vt/abs(Zs))^2));\n",
"Qe=imag(Zs)*(Vt/abs(Zs))^2-Ef*Vt*cosd(a)/abs(Zs);\n",
"pf=cosd(atand(Qe/Pein));\n",
"disp(pf,'pf');"
   ]
   }
,
{
		   "cell_type": "markdown",
		   "metadata": {},
		   "source": [
			"## Example 8.13: EX8_13.sci"
		   ]
		  },
  {
"cell_type": "code",
	   "execution_count": null,
	   "metadata": {
	    "collapsed": true
	   },
	   "outputs": [],
"source": [
"//to determine excitation emf, torque angle,stator current, pf, max power, kVAR delivered\n",
"\n",
"clc;\n",
"j=sqrt(-1);\n",
"P=10000;\n",
"V=400;\n",
"Ia=P/(sqrt(3)*V);\n",
"pf=.8;\n",
"phi=acosd(pf);\n",
"Iaa=Ia*complex(cosd(-phi),sind(-phi));\n",
"Vt=V/sqrt(3);\n",
"X=16;\n",
"Ef=Vt+j*X*Iaa;\n",
"disp(abs(Ef),'excitation emf(V)');\n",
"dl=atand(imag(Ef)/real(Ef));\n",
"disp(dl,'torque angle');\n",
"\n",
"Pe=P*pf;\n",
"Eff=abs(Ef)*1.2;\n",
"dl=(Pe/3)*X/(Eff*Vt);\n",
"ta=asind(dl);\n",
"disp(ta,'torque angle');\n",
"Ia=(Eff*complex(cosd(ta),sind(ta))-Vt)/(j*X);\n",
"disp(abs(Ia),'stator current(A)');\n",
"disp(cosd(-atand(imag(Ia)/real(Ia))),'pf');\n",
"\n",
"Ef=413;\n",
"Pemax=Ef*Vt/X;\n",
"Ia=(Ef*complex(cosd(90),sind(90))-Vt)/(j*X);\n",
"disp(abs(Ia),'stator current(A)');\n",
"disp(cosd(-atand(imag(Ia)/real(Ia))),'pf');\n",
"\n",
"Qe=(imag(Ia)/real(Ia))*Pe;disp(Qe,'kVar delivered');"
   ]
   }
,
{
		   "cell_type": "markdown",
		   "metadata": {},
		   "source": [
			"## Example 8.14: to_calculate_armature_current_pf_power_angle_power_shaft_torques_kVar.sci"
		   ]
		  },
  {
"cell_type": "code",
	   "execution_count": null,
	   "metadata": {
	    "collapsed": true
	   },
	   "outputs": [],
"source": [
"//to calculate armature current, pf ,power angle, power , shaft torques,kVar\n",
"\n",
"clc;\n",
"j=sqrt(-1);\n",
"P=8000;\n",
"Prot=500;\n",
"Pmg=P+Prot;\n",
"Pein=Pmg;\n",
"Ef=750/sqrt(3);\n",
"Vt=231;\n",
"Xs=16;\n",
"dl=asind(Xs*(Pein/3)/(Ef*Vt));\n",
"Eff=Ef*complex(cosd(-dl),sind(-dl));\n",
"Ia=(Vt-Eff)/(j*Xs);\n",
"disp(abs(Ia),'armature current(A)');\n",
"disp(cosd(atand(imag(Ia)/real(Ia))),'pf');\n",
"f=50;\n",
"p=4;\n",
"n_s=120*f/p;\n",
"w_s=2*%pi*n_s/60;\n",
"T=Pein/w_s;disp(T,'torque developed(Nm)');\n",
"T_s=P/w_s;disp(T_s,'shaft torques(Nm)');\n",
"\n",
"Ef=600/sqrt(3);\n",
"Ia=(Vt-Ef)/(j*Xs);\n",
"rr=3*Vt*Ia/1000;\n",
"disp(rr,'kVar rating');\n",
"c=(abs(Ia)/Vt)/(2*%pi*f);\n",
"disp(-c,'capicator rating(F)');\n",
"\n",
"Ef=300/sqrt(3);\n",
"Ia=(Vt-Ef)/(j*Xs);\n",
"rr=3*Vt*Ia/1000;\n",
"disp(-rr,'kVar rating');\n",
"L=(Vt/abs(rr))/(2*%pi*f);\n",
"disp(L,'inductor rating(H)');\n",
"\n",
"Ia=j*2000/Vt;\n",
"Ef=Vt-j*Ia*Xs;\n",
"disp(abs(Ef)*sqrt(3),'excitation(V)');"
   ]
   }
,
{
		   "cell_type": "markdown",
		   "metadata": {},
		   "source": [
			"## Example 8.15: find_the_excitation_emf_mech_power_developed_pf.sci"
		   ]
		  },
  {
"cell_type": "code",
	   "execution_count": null,
	   "metadata": {
	    "collapsed": true
	   },
	   "outputs": [],
"source": [
"//find the excitation emf,mech power developed,pf\n",
"\n",
"clc;\n",
"j=sqrt(-1);\n",
"V=6600;\n",
"Vt=V/sqrt(3);\n",
"r=4*10^6;\n",
"Ia=r/(sqrt(3)*V);\n",
"Xs=4.8;\n",
"//Vt^2+Ef^2-2*Vt*Efcosd(dl)=(Ia*Xs)^2\n",
"//after solving\n",
"//Ef^2-7.16*Ef+11.69=0;\n",
"function [x1,x2]=quad(a,b,c)\n",
"    d=sqrt(b^2-4*a*c);\n",
"    x1=(-b+d)/(2*a);\n",
"    x2=(-b-d)/(2*a);\n",
"endfunction\n",
"[Ef1 Ef2]=quad(1,-7.16,11.69);\n",
"dl=20;\n",
"disp(Ef1,'excitation(kV)');\n",
"Pm=3*3.81*Ef1*sind(dl)/Xs;disp(Pm,'power developed(MW)');\n",
"pf1=Pm*10^6/(sqrt(3)*V*Ia);disp(pf1,'pf1');\n",
"\n",
"disp(Ef2,'excitation(kV)');\n",
"Pm=3*3.81*Ef2*sind(dl)/Xs;disp(Pm,'power developed(MW)');\n",
"pf2=Pm*10^6/(sqrt(3)*V*Ia);disp(pf2,'pf2');\n",
""
   ]
   }
,
{
		   "cell_type": "markdown",
		   "metadata": {},
		   "source": [
			"## Example 8.16: to_find_power_angle_field_current.sci"
		   ]
		  },
  {
"cell_type": "code",
	   "execution_count": null,
	   "metadata": {
	    "collapsed": true
	   },
	   "outputs": [],
"source": [
"//to find power angle,field current\n",
"\n",
"clc;\n",
"j=sqrt(-1);\n",
"V=400;\n",
"Vt=V/sqrt(3);\n",
"pf=1;\n",
"Ia=50;\n",
"Xs=1.3;\n",
"Ef=Vt-j*Ia*Xs;\n",
"disp(-atand(imag(Ef)/real(Ef)),'power angle');\n",
"\n",
"Pm=Vt*Ia*pf;\n",
"pff=.8;\n",
"Ia=Pm/(Vt*pff);\n",
"ang=acosd(pff);\n",
"Eff=sqrt((Vt*cosd(ang))^2+(Vt*sind(ang)+Ia*Xs)^2);\n",
"If=.9;\n",
"Iff=If*Eff/abs(Ef);\n",
"disp(Iff,'field current(A)');"
   ]
   }
,
{
		   "cell_type": "markdown",
		   "metadata": {},
		   "source": [
			"## Example 8.17: EX8_17.sci"
		   ]
		  },
  {
"cell_type": "code",
	   "execution_count": null,
	   "metadata": {
	    "collapsed": true
	   },
	   "outputs": [],
"source": [
"//to calculate motor eff,excitation emf and power angle, max power op,corresponding net op\n",
"\n",
"clc;\n",
"j=sqrt(-1);\n",
"Sop=40*1000;\n",
"Vt=600;\n",
"Ra=.8;\n",
"Xs=8;\n",
"\n",
"Pst=2000;\n",
"Pmnet=30*1000;\n",
"Pm_dev=Pst+Pmnet;\n",
"Ia=Sop/(sqrt(3)*Vt);\n",
"Poh=3*Ia^2*Ra;\n",
"Pin=Pm_dev+Poh;\n",
"eff=(1-(Poh+Pst)/Pin)*100;disp(eff,'motor eff(%)');\n",
"\n",
"cos_phi=Pin/(sqrt(3)*Vt*Ia);\n",
"phi=acosd(cos_phi);\n",
"Ia=Ia*(cosd(phi)+j*sind(phi));\n",
"Vt=Vt/sqrt(3);\n",
"Za=Ra+Xs*j;\n",
"Ef=Vt-Ia*Za;\n",
"Ef_line=Ef*sqrt(3);disp(Ef_line,'excitation emf(V)');\n",
"delta=atand(imag(Ef)/real(Ef));disp(delta,'power angle(deg)');\n",
"IaRa=abs(Ia)*Ra;\n",
"IaXs=abs(Ia)*Xs;\n",
"AD=Vt*cosd(phi)-IaRa;\n",
"CD=Vt*sind(phi)+abs(Ia)*Xs;\n",
"Ef_mag=sqrt((abs(AD))^2+(abs(CD))^2);\n",
"\n",
"Pm_out_gross=-((abs(Ef_mag))^2*Ra/(abs(Za))^2)+(Vt*abs(Ef_mag)/abs(Za));\n",
"disp(Pm_out_gross,'max power op(W)');\n",
"power_angle=atand(imag(Za)/real(Za));\n",
"disp(power_angle,'power angle(deg)');"
   ]
   }
,
{
		   "cell_type": "markdown",
		   "metadata": {},
		   "source": [
			"## Example 8.18: find_the_change_in_the_poweer_angle.sci"
		   ]
		  },
  {
"cell_type": "code",
	   "execution_count": null,
	   "metadata": {
	    "collapsed": true
	   },
	   "outputs": [],
"source": [
"//find the change in the poweer angle;\n",
"\n",
"clc;\n",
"Pe=4000;\n",
"V=400';\n",
"pf=.8;dl=acosd(pf);\n",
"Ia=Pe/(sqrt(3)*V*pf);\n",
"Vt=V/sqrt(3);\n",
"Xs=25;\n",
"Ef=Vt+j*Ia*complex(cosd(-dl),sind(-dl))*Xs;\n",
"a=atand(imag(Ef)/real(Ef));\n",
"\n",
"dl=asind((Pe/3)*Xs/(Vt*abs(Ef)));\n",
"ang=dl+a;\n",
"disp(ang,'change in power angle(deg)');"
   ]
   }
,
{
		   "cell_type": "markdown",
		   "metadata": {},
		   "source": [
			"## Example 8.19: to_find_no_of_poles_MVA_rating_prime_mover_rating_and_op_torque.sci"
		   ]
		  },
  {
"cell_type": "code",
	   "execution_count": null,
	   "metadata": {
	    "collapsed": true
	   },
	   "outputs": [],
"source": [
"//to find no of poles,MVA rating, prime mover rating and op torque\n",
"\n",
"clc;\n",
"f=50;\n",
"n_s=100;\n",
"P=120*f/n_s;disp(P,'no of poles');\n",
"r=110;    //MVA rating\n",
"pf=.8;\n",
"rr=r/pf;disp(rr,'MVA rating');\n",
"eff=.971;\n",
"rt=r/eff;disp(rt,'prime mover rating(MW)');\n",
"T_PM=rt*1000*60/(2*%pi*n_s);disp(T_PM,'op torque(Nm)');"
   ]
   }
,
{
		   "cell_type": "markdown",
		   "metadata": {},
		   "source": [
			"## Example 8.20: EX8_20.sci"
		   ]
		  },
  {
"cell_type": "code",
	   "execution_count": null,
	   "metadata": {
	    "collapsed": true
	   },
	   "outputs": [],
"source": [
"//to determine the magnitude of Eg,Em and min value of Em to remain m/c in synchronism\n",
"\n",
"clc;\n",
"j=sqrt(-1);\n",
"V_base=400;\n",
"kva_base=10;\n",
"MW_base=10;\n",
"Pm=8/10;\n",
"Vt=1;\n",
"pf=.8;\n",
"Ia=Pm/(Vt*pf);\n",
"Ia=Ia*complex(pf,sind(acosd(pf)));\n",
"Em=Vt-j*Ia*pf;\n",
"Emm=abs(Em)*V_base;\n",
"dl_m=atand(imag(Em)/real(Em));disp(dl_m,'dl_m(deg)');\n",
"Eg=Vt+j*Ia*(pf+.2);\n",
"Egg=abs(Eg)*V_base;\n",
"dl_g=atand(imag(Eg)/real(Eg));disp(dl_g,'dl_g(deg)');\n",
"dl_gm=dl_g-dl_m;disp(dl_gm,'relative angle(deg)');\n",
"\n",
"dl_m=90;\n",
"Emmin=.8*.8/1;\n",
"disp(Emmin*V_base,'min value of Em(V)');"
   ]
   }
,
{
		   "cell_type": "markdown",
		   "metadata": {},
		   "source": [
			"## Example 8.21: to_determine_armature_current_pf_power_angle_mech_power_developed_and_eff.sci"
		   ]
		  },
  {
"cell_type": "code",
	   "execution_count": null,
	   "metadata": {
	    "collapsed": true
	   },
	   "outputs": [],
"source": [
"//to determine armature current,pf,power angle,mech power developed and eff\n",
"\n",
"clc;\n",
"j=sqrt(-1);\n",
"Vt=3300/sqrt(3);\n",
"Ef=4270/sqrt(3);\n",
"Pein=750000/3;\n",
"Zs=.8+j*5.5;\n",
"a=90-atand(imag(Zs)/real(Zs));\n",
"dl=asind((Pein-real(Zs)*(Vt/abs(Zs))^2)/((Vt*Ef/abs(Zs))))+a;\n",
"disp(dl,'power angle(deg)');\n",
"b=Vt-Ef*complex(cosd(-dl),sind(-dl));\n",
"Ia=b/Zs;\n",
"disp(abs(Ia),'armature current(A)');\n",
"phi=atand(imag(Ia)/real(Ia));\n",
"disp(cosd(phi),'pf');\n",
"Ef=sqrt(3)*Ef*complex(cosd(-dl),sind(-dl));\n",
"Pm=sqrt(3)*abs(Ef)*abs(Ia)*cosd(dl+phi);\n",
"disp(Pm,'mech power developed(W)');\n",
"Pst=30000;\n",
"Pmnet=Pm-Pst;\n",
"eff=Pmnet/(Pein*3);disp(eff*100,'efficiency(%)');"
   ]
   }
,
{
		   "cell_type": "markdown",
		   "metadata": {},
		   "source": [
			"## Example 8.22: to_find_armature_current_power_factor_and_power_ip.sci"
		   ]
		  },
  {
"cell_type": "code",
	   "execution_count": null,
	   "metadata": {
	    "collapsed": true
	   },
	   "outputs": [],
"source": [
"//to find armature current,power factor and power ip\n",
"\n",
"clc;\n",
"j=sqrt(-1);\n",
"Vt=3300/sqrt(3);\n",
"Ef=4270/sqrt(3);\n",
"Pein=600000/3;\n",
"Zs=.8+j*5.5;\n",
"a=90-atand(imag(Zs)/real(Zs));\n",
"dl=asind((Pein+real(Zs)*(Ef/abs(Zs))^2)/((Vt*Ef/abs(Zs))))-a;\n",
"disp(dl,'power angle');\n",
"b=Vt-Ef*complex(cosd(-dl),sind(-dl));\n",
"Ia=b/Zs;\n",
"disp(abs(Ia),'armature current(A)');\n",
"phi=atand(imag(Ia)/real(Ia));\n",
"disp(cosd(phi),'pf');\n",
"\n",
"Peinn=sqrt(3)*3300*abs(Ia)*cosd(phi);\n",
"disp(Peinn,'power ip(W)');\n",
"loss=Peinn-Pein*3;\n",
"disp(loss,'ohmic loss(W)');"
   ]
   }
,
{
		   "cell_type": "markdown",
		   "metadata": {},
		   "source": [
			"## Example 8.23: EX8_23.sci"
		   ]
		  },
  {
"cell_type": "code",
	   "execution_count": null,
	   "metadata": {
	    "collapsed": true
	   },
	   "outputs": [],
"source": [
"//to calculate pu adjusted sync reactance, feild reactance, reactive power op, rotor power angle\n",
"\n",
"clc;\n",
"j=sqrt(-1);\n",
"r=10*10^6;\n",
"V_SC=13.8*10^3;\n",
"Ia=r/(sqrt(3)*V_SC);\n",
"If=226;\n",
"\n",
"Iff=842;\n",
"I_SC=Ia*Iff/If;\n",
"Xsadj=(V_SC/sqrt(3))/I_SC;\n",
"\n",
"va_b=10*10^6;\n",
"v_b=13800;\n",
"Xspu=Xsadj*va_b/v_b^2;disp(Xspu,'Xs(pu)');\n",
"Ra=.75;\n",
"Zs=Ra+j*Xsadj;\n",
"a=90-atand(imag(Zs)/real(Zs));\n",
"\n",
"pf=.9;\n",
"phi=acosd(pf);\n",
"Pe=8.75*10^6;\n",
"Qe=Pe*tand(phi);\n",
"Vt=V_SC/sqrt(3);\n",
"Ia=(Pe/3)/(Vt*pf);\n",
"Ef=Vt+abs(Ia)*abs(Zs)*complex(cosd(90-a-phi),sind(90-a-phi));\n",
"Ef=abs(Ef)*sqrt(3);\n",
"If=Iff*Ef/V_SC;disp(If,'field current(A)');\n",
"loss=3*abs(Ia)^2*Ra;\n",
"Pmin=Pe+loss;disp(Pmin,'reactive power op(W)');\n",
"\n",
"If=842;\n",
"Voc=7968;\n",
"Pmin=Pmin/3;\n",
"dl=asind((Pmin-real(Zs)*(Voc/abs(Zs))^2)/((Voc^2/abs(Zs))))+a;\n",
"disp(dl,'power angle');\n",
"Q=-(Voc/abs(Zs))^2*imag(Zs)+Voc^2*cosd(dl+a)/abs(Zs);\n",
"disp(Q,'reactive power op(VAR)');"
   ]
   }
,
{
		   "cell_type": "markdown",
		   "metadata": {},
		   "source": [
			"## Example 8.25: to_calculate_the_excitation_emf_power_angle.sci"
		   ]
		  },
  {
"cell_type": "code",
	   "execution_count": null,
	   "metadata": {
	    "collapsed": true
	   },
	   "outputs": [],
"source": [
"//to calculate the excitation emf,power angle\n",
"\n",
"clc;\n",
"Vt=1;\n",
"Ia=1;\n",
"pf=.8;phi=acosd(pf);\n",
"Iaa=Ia*complex(cosd(-phi),sind(-phi));\n",
"Xq=.5;\n",
"j=sqrt(-1);\n",
"Ef=Vt+j*Iaa*Xq;\n",
"\n",
"dl=17.1;\n",
"w=phi+dl;\n",
"Id=Ia*sind(w);\n",
"Xd=.8;\n",
"CD=Id*(Xd-Xq);\n",
"Eff=abs(Ef)+CD;\n",
"Ef=Vt+j*Iaa*Xd;\n",
"disp(abs(Ef),'excitation emf(V)');\n",
"disp(atand(imag(Ef)/real(Ef)),'power angle');"
   ]
   }
,
{
		   "cell_type": "markdown",
		   "metadata": {},
		   "source": [
			"## Example 8.26: calculate_excitation_emf.sci"
		   ]
		  },
  {
"cell_type": "code",
	   "execution_count": null,
	   "metadata": {
	    "collapsed": true
	   },
	   "outputs": [],
"source": [
"//calculate excitation emf\n",
"\n",
"clc;\n",
"V=3300;\n",
"Vt=V/sqrt(3);\n",
"pf=1;\n",
"phi=acosd(pf);\n",
"P=1500*1000;\n",
"Ia=P/(sqrt(3)*V*pf);\n",
"Xq=2.88;\n",
"Xd=4.01;\n",
"w=atand((Vt*0-Ia*Xq)/Vt);\n",
"dl=phi-w;\n",
"Id=Ia*sind(w);\n",
"Iq=Ia*cosd(w);\n",
"Ef=Vt*cosd(dl)-Id*Xd;\n",
"disp(Ef*sqrt(3),'excitation emf(line)(V)');"
   ]
   }
,
{
		   "cell_type": "markdown",
		   "metadata": {},
		   "source": [
			"## Example 8.27: to_calculate_generator_terminal_voltage_excitation_emf_power_angle.sci"
		   ]
		  },
  {
"cell_type": "code",
	   "execution_count": null,
	   "metadata": {
	    "collapsed": true
	   },
	   "outputs": [],
"source": [
"//to calculate generator terminal voltage,excitation emf,power angle\n",
"\n",
"clc;\n",
"Xd=1.48;\n",
"Xq=1.24;\n",
"Xe=.1;\n",
"Xdt=Xd+Xe;\n",
"Xqt=Xq+Xe;\n",
"\n",
"MVA=1;\n",
"Vb=1;\n",
"pf=.9;\n",
"phi=acosd(pf);\n",
"//(Vt*cosd(phi))^2+(Vt*sind(phi)+Ia*Xe)^2=Vb^2;\n",
"//after solving\n",
"//Vt^2-.0870*Vt-.99=0;\n",
"function [x]=quad(a,b,c)\n",
"    d=sqrt(b^2-4*a*c);\n",
"    x1=(-b+d)/(2*a);\n",
"    x2=(-b-d)/(2*a);\n",
"    if(x1<Vb)\n",
"        x=x2;\n",
"    else\n",
"        x=x1;\n",
"    end\n",
"endfunction\n",
"Vt=quad(1,-.0870,-.99);disp(Vt,'terminal voltage(V)');\n",
"//after solving\n",
"phi=20;\n",
"\n",
"j=sqrt(-1);\n",
"Ia=1;\n",
"Iaa=Ia*complex(cosd(-phi),sind(-phi));\n",
"Ef=Vb+j*Iaa*Xqt;\n",
"Eff=abs(Ef);\n",
"dl=atand(imag(Ef)/real(Ef));disp(dl,'power angle');\n",
"w=dl+phi;\n",
"Id=Ia*sind(w);\n",
"Ef=Ef+Id*(Xdt-Xqt);\n",
"disp(abs(Ef),'excitation emf(V)');"
   ]
   }
,
{
		   "cell_type": "markdown",
		   "metadata": {},
		   "source": [
			"## Example 8.28: to_find_max_pu_power_pu_armature_current_pu_reactive_power.sci"
		   ]
		  },
  {
"cell_type": "code",
	   "execution_count": null,
	   "metadata": {
	    "collapsed": true
	   },
	   "outputs": [],
"source": [
"//to find max pu power, pu armature current, pu reactive power\n",
"\n",
"clc;\n",
"Vt=1;\n",
"Xd=1.02;\n",
"Xq=.68;\n",
"Pmmax=Vt^2*(Xd-Xq)/(2*Xd*Xq);disp(Pmmax,'max pu power');\n",
"dl=.5*asind(Pmmax/(Vt^2*(Xd-Xq)/(2*Xd*Xq)));\n",
"\n",
"Id=Vt*cosd(dl)/Xd;\n",
"Iq=Vt*cosd(dl)/Xq;\n",
"Ia=sqrt(Id^2+Iq^2);disp(Ia,'armature current(pu)');\n",
"\n",
"Qe=Id*Vt*cosd(dl)+Iq*Vt*sind(dl);disp(Qe,'reactive power(pu)');\n",
"\n",
"pf=cosd(atand(Qe/Pmmax));disp(pf,'pf');"
   ]
   }
,
{
		   "cell_type": "markdown",
		   "metadata": {},
		   "source": [
			"## Example 8.29: to_calculate_power_angle_excitation_emf_field_current.sci"
		   ]
		  },
  {
"cell_type": "code",
	   "execution_count": null,
	   "metadata": {
	    "collapsed": true
	   },
	   "outputs": [],
"source": [
"//to calculate power angle,excitation emf,field current\n",
"\n",
"clc;\n",
"j=sqrt(-1);\n",
"MVA_b=300;\n",
"kV_b=22;\n",
"\n",
"Pe=250/MVA_b;\n",
"pf=.85;\n",
"Vt=1;\n",
"Ia=Pe/(pf*Vt);\n",
"phi=acosd(pf);\n",
"Iaa=Ia*complex(cosd(-phi),sind(-phi));\n",
"Xq=1.16;\n",
"Xd=1.93;\n",
"Ef=Vt+j*Iaa*Xq;\n",
"dl=atand(imag(Ef)/real(Ef));disp(dl,'power angle');\n",
"w=phi+dl;\n",
"Id=abs(Iaa)*sind(w);\n",
"Ef=abs(Ef)+Id*(Xd-Xq);\n",
"disp(Ef*kV_b,'excitation emf(V)');\n",
"\n",
"If=338;\n",
"If=If*Ef/1;disp(If,'field current(A)');"
   ]
   }
,
{
		   "cell_type": "markdown",
		   "metadata": {},
		   "source": [
			"## Example 8.2: to_determine_voltage_regulation_by_mmf_method.sci"
		   ]
		  },
  {
"cell_type": "code",
	   "execution_count": null,
	   "metadata": {
	    "collapsed": true
	   },
	   "outputs": [],
"source": [
"//to determine voltage regulation by mmf method\n",
"\n",
"clc;\n",
"pf=0.85;\n",
"P=150*10^6;\n",
"V=13*1000;\n",
"Iarated=P/(sqrt(3)*pf*V);\n",
"If=750;\n",
"Ifocc=810;\n",
"B=acosd(pf);\n",
"Ff=sqrt((Ifocc+If*sind(B))^2+(If*cosd(B))^2);\n",
"Ef=16.3*1000;\n",
"vr=Ef/V-1;\n",
"disp(vr*100,'voltage regulation(%)');"
   ]
   }
,
{
		   "cell_type": "markdown",
		   "metadata": {},
		   "source": [
			"## Example 8.30: to_find_max_andmin_pu_field_excitation.sci"
		   ]
		  },
  {
"cell_type": "code",
	   "execution_count": null,
	   "metadata": {
	    "collapsed": true
	   },
	   "outputs": [],
"source": [
"//to find max andmin pu field excitation\n",
"\n",
"clc;\n",
"Xd=.71;\n",
"Xq=.58;\n",
"Xe=.08;\n",
"Xdt=Xd+Xe;\n",
"Xqt=Xq+Xe;\n",
"\n",
"Pe=0;Vt=1;\n",
"dl=0;\n",
"phi=90;\n",
"Ia=1;\n",
"Iq=0;\n",
"Id=Ia;\n",
"\n",
"Ef=Vt+Id*Xdt;\n",
"Ifmax=Ef;disp(Ifmax,'max field excitation(A)');\n",
"\n",
"\n",
"Ef=Vt-Id*Xdt;\n",
"Ifmin=Ef;disp(Ifmin,'min field excitation(A)');"
   ]
   }
,
{
		   "cell_type": "markdown",
		   "metadata": {},
		   "source": [
			"## Example 8.31: to_calculate_synchronising_power_and_torque_coeff_per_deg_mech_shift.sci"
		   ]
		  },
  {
"cell_type": "code",
	   "execution_count": null,
	   "metadata": {
	    "collapsed": true
	   },
	   "outputs": [],
"source": [
"//to calculate synchronising power and torque coeff/deg mech shift\n",
"\n",
"clc;\n",
"V=11000;\n",
"Vt=V/sqrt(3);\n",
"P=6*10^6;\n",
"Ia=P/(sqrt(3)*V);\n",
"ohm_b=Vt/Ia;\n",
"Xs=.5;\n",
"Xss=Xs*ohm_b;\n",
"\n",
"f=50;\n",
"P=8;\n",
"n_s=(120*f/P)*(2*%pi/60);\n",
"\n",
"Ef=Vt;\n",
"dl=0;\n",
"Psyn=(%pi/15)*(Ef*Vt/Xss)*cosd(dl);disp(Psyn,'synchronising power(W)');\n",
"Tsyn=Psyn/n_s;disp(Tsyn,'torque coeff(Nm)');\n",
"\n",
"pf=.8;\n",
"phi=acosd(pf);\n",
"Ef=Vt+j*Ia*Xss*complex(cosd(-phi),sind(-phi));\n",
"dl=atand(imag(Ef)/real(Ef));\n",
"Psyn=(%pi/15)*(abs(Ef)*Vt/Xss)*cosd(dl);disp(Psyn,'synchronising power(W)');\n",
"Tsyn=Psyn/n_s;disp(Tsyn,'torque coeff(Nm)');\n",
""
   ]
   }
,
{
		   "cell_type": "markdown",
		   "metadata": {},
		   "source": [
			"## Example 8.32: to_calculate_syncronising_power_per_elec_deg_pu_sync_torque_per_mech_deg.sci"
		   ]
		  },
  {
"cell_type": "code",
	   "execution_count": null,
	   "metadata": {
	    "collapsed": true
	   },
	   "outputs": [],
"source": [
"//to calculate syncronising power/elec deg,pu sync torque/mech deg\n",
"\n",
"clc;\n",
"j=sqrt(-1);\n",
"Xd=.8;\n",
"Xq=.5;\n",
"Vt=1;\n",
"pf=.8;\n",
"phi=acosd(pf);\n",
"Ia=1*complex(cosd(phi),sind(phi));\n",
"\n",
"Ef=Vt-j*Ia*Xq;\n",
"Eff=abs(Ef);\n",
"dl=atand(imag(Ef)/real(Ef));\n",
"w=-dl+phi;\n",
"Id=abs(Ia)*sind(w);\n",
"Ef=Eff+Id*(Xd-Xq);\n",
"\n",
"Psyn=abs(Ef)*Vt*cosd(dl)/Xd+Vt^2*((Xd-Xq)/(Xd*Xq))*cosd(2*dl);\n",
"disp(Psyn*(%pi/180),'syncronising power(pu)/elec deg');\n",
"f=50;\n",
"P=12;\n",
"n_s=(120*f/P)*(2*%pi/60);\n",
"Tsyn=Psyn/n_s;disp(Tsyn,'pu sync torque/mech deg');\n",
""
   ]
   }
,
{
		   "cell_type": "markdown",
		   "metadata": {},
		   "source": [
			"## Example 8.33: to_calculate_sync_current_power_and_torque.sci"
		   ]
		  },
  {
"cell_type": "code",
	   "execution_count": null,
	   "metadata": {
	    "collapsed": true
	   },
	   "outputs": [],
"source": [
"//to calculate sync current, power and torque\n",
"\n",
"clc;\n",
"j=sqrt(-1);\n",
"P=12000;\n",
"V=400;\n",
"pf=.8;\n",
"Ia=P/(sqrt(3)*V*pf);\n",
"phi=acosd(pf);\n",
"Vt=V/sqrt(3);\n",
"Xs=2.5;\n",
"Ef=Vt-j*Ia*complex(cosd(phi),sind(phi))*Xs;\n",
"tandl=4;\n",
"Es=2*abs(Ef)*sind(tandl/2);\n",
"Is=Es/Xs;disp(Is,'sync current(A)');\n",
"dl=atand(imag(Ef)/real(Ef));\n",
"Ps=3*Vt*Is*cosd(dl+tandl/2);disp(Ps,'power(W)');\n",
"n_s=25*%pi;\n",
"T_s=Ps/n_s;\n",
"disp(T_s,'torque(Nm)');"
   ]
   }
,
{
		   "cell_type": "markdown",
		   "metadata": {},
		   "source": [
			"## Example 8.34: to_calculate_value_of_syncpower.sci"
		   ]
		  },
  {
"cell_type": "code",
	   "execution_count": null,
	   "metadata": {
	    "collapsed": true
	   },
	   "outputs": [],
"source": [
"//to calculate value of syncpower\n",
"\n",
"clc;\n",
"V=6600;\n",
"E=V/sqrt(3);\n",
"\n",
"P=12;\n",
"dl=1*P/2;\n",
"\n",
"r=20000*10^3;\n",
"I=r/(sqrt(3)*V);\n",
"Xs=1.65;\n",
"\n",
"Psy=dl*(%pi/180)*E^2/Xs;\n",
"disp(Psy,'sync power(W)');"
   ]
   }
,
{
		   "cell_type": "markdown",
		   "metadata": {},
		   "source": [
			"## Example 8.35: to_determine_op_current_and_pf.sci"
		   ]
		  },
  {
"cell_type": "code",
	   "execution_count": null,
	   "metadata": {
	    "collapsed": true
	   },
	   "outputs": [],
"source": [
"//to determine op current and pf\n",
"\n",
"clc;\n",
"P1=400*10^3;\n",
"P2=400*10^3;\n",
"P3=300*10^3;\n",
"P4=800*10^3;\n",
"pf1=1;\n",
"pf2=.85;\n",
"pf3=.8;\n",
"pf4=.7;\n",
"phi1=acosd(pf1);\n",
"phi2=acosd(pf2);\n",
"phi3=acosd(pf3);\n",
"phi4=acosd(pf4);\n",
"P=P1+P2+P3+P4;\n",
"Q1=P1*tand(phi1);\n",
"Q2=P2*tand(phi2);\n",
"Q3=P3*tand(phi3);\n",
"Q4=P4*tand(phi4);\n",
"Q=Q1+Q2+Q3+Q4;\n",
"\n",
"I=100;\n",
"pf=.9;\n",
"V=6600;\n",
"P_A=sqrt(3)*V*I*pf;\n",
"P_B=P-P_A;\n",
"Q_A=P_A*tand(acosd(pf));\n",
"Q_B=Q-Q_A;\n",
"phi=atand(Q_B/P_B);\n",
"pf=cosd(phi);disp(pf,'pf');\n",
"I_B=P_B/(sqrt(3)*pf*V);disp(I_B,'op current(A)');"
   ]
   }
,
{
		   "cell_type": "markdown",
		   "metadata": {},
		   "source": [
			"## Example 8.36: to_find_the_pf_and_current_supplied_by_the_mc.sci"
		   ]
		  },
  {
"cell_type": "code",
	   "execution_count": null,
	   "metadata": {
	    "collapsed": true
	   },
	   "outputs": [],
"source": [
"//to find the pf and current supplied by the m/c\n",
"\n",
"clc;\n",
"P=50000;\n",
"pf=.8;\n",
"phi=acosd(pf);\n",
"Q=P*tand(phi);\n",
"P1=P/2;\n",
"pf1=.9;\n",
"phi1=acosd(pf1);\n",
"Q1=P1*tand(phi1);\n",
"P2=P/2;\n",
"Q2=Q-Q1;\n",
"phi2=atand(Q2/P2);\n",
"pf=cosd(phi2);disp(pf,'pf');\n",
"V_L=400;\n",
"I2=P2/(sqrt(3)*V_L*pf);disp(I2,'current supplied by m/c(A)');"
   ]
   }
,
{
		   "cell_type": "markdown",
		   "metadata": {},
		   "source": [
			"## Example 8.37: to_find_initial_current_current_at_the_end_of_2_cycles_and_at_the_end_of_10s.sci"
		   ]
		  },
  {
"cell_type": "code",
	   "execution_count": null,
	   "metadata": {
	    "collapsed": true
	   },
	   "outputs": [],
"source": [
"//to find initial current,current at the end of 2 cycles and at the end of 10s\n",
"\n",
"clc;\n",
"Ef=1;\n",
"Xd2=.2;\n",
"I2=Ef/Xd2;\n",
"r=100*10^6;\n",
"V=22000;\n",
"I_b=r/(sqrt(3)*V);\n",
"I2=I2*I_b;disp(I2,'initial current(A)');\n",
"\n",
"Xd1=.3;\n",
"I1=Ef/Xd1;\n",
"Xd=1;\n",
"I=Ef/Xd;\n",
"\n",
"tau_dw=0.03;\n",
"tau_f=1;\n",
"\n",
"function[a]=I_sc(t)\n",
"    a=(I2-I1)*exp(-t/tau_dw)+(I1-I)*exp(-t/tau_f)+1;\n",
"endfunction\n",
"//2 cycles=0.04s\n",
"disp(I_sc(.2867)*I_b,'current at the end of 2 cycles(A)');\n",
"disp(I_sc(10)*I_b,'current at the end of 10s(A)');"
   ]
   }
,
{
		   "cell_type": "markdown",
		   "metadata": {},
		   "source": [
			"## Example 8.39: EX8_39.sci"
		   ]
		  },
  {
"cell_type": "code",
	   "execution_count": null,
	   "metadata": {
	    "collapsed": true
	   },
	   "outputs": [],
"source": [
"//to calculate sync reactance,voltage regulation,torque angle, ele power developed, voltage and kva rating\n",
"\n",
"clc;\n",
"r=1000*10^3;\n",
"V=6600;\n",
"Ia=r/(sqrt(3)*V);\n",
"pf=.75;\n",
"phi=-acosd(pf);\n",
"Vt=V/sqrt(3);\n",
"Ef=11400/sqrt(3);\n",
"//Ef*complex(cosd(dl),sind(dl))=Vt+j*Xs*Ia*complex(cosd(phi),sind(phi))\n",
"//after solving\n",
"//6.58*cosd(dl)=3.81+.058*Xs;\n",
"//6.58*sind(dl)=.0656*Xs;\n",
"//so after solving \n",
"//cosd(dl-phi)=.434;\n",
"dl=acosd(.434)+phi;\n",
"\n",
"Xs=Ef*sind(dl)/65.6;disp(Xs,'sync reactance(ohm)');\n",
"vr=Ef*sqrt(3)/V-1;disp(vr,'voltage regulation(%)');\n",
"disp(dl,'torque angle(deg)');\n",
"P=3*Ef*Ia*cosd(dl-phi);disp(P,'ele power developed(W)');\n",
"\n",
"volr=V/sqrt(3);disp(volr,'voltage rating(V)');\n",
"ir=Ia*sqrt(3);disp(ir,'current rating(A)');\n",
"r=sqrt(3)*volr*ir;disp(r,'VA rating');"
   ]
   }
,
{
		   "cell_type": "markdown",
		   "metadata": {},
		   "source": [
			"## Example 8.3: to_calculate_syn_chronous_reactance_leakage_reactance_voltage_regulation.sci"
		   ]
		  },
  {
"cell_type": "code",
	   "execution_count": null,
	   "metadata": {
	    "collapsed": true
	   },
	   "outputs": [],
"source": [
"//to calculate syn chronous reactance ,leakage reactance,voltage regulation\n",
"\n",
"clc;\n",
"If=[50 75 100 125 150 162.5 200 250 300];\n",
"Voc=[6.2 8.7 10.5 11.6 12.8 13.7 14.2 15.2 15.9];\n",
"plot(If,Voc);\n",
"xlabel('If(A)');\n",
"ylabel('Voc(V)');\n",
"\n",
"r=10*10^6;    //rating\n",
"V=13000;\n",
"Ia=r/(sqrt(3)*V);\n",
"I_SC=688;    //corresponding to V\n",
"Xs=V/(sqrt(3)*I_SC);disp(Xs,'sync reactance(ohm)');\n",
"V_a=1200;\n",
"Xl=V_a/(sqrt(3)*Ia);disp(Xl,'leakage reactance(ohm)');\n",
"Ifar=90;\n",
"Er=complex(V,sqrt(3)*Ia*Xl);\n",
"If=185;    //corresponding to Er\n",
"Iff=sqrt((If+Ifar*sind(40.5))^2+(Ifar*cosd(40.5))^2);\n",
"Eff=15200;    //corresponding to Iff\n",
"vr=(Eff/V-1)*100;disp(vr,'voltage regulation(%)');\n",
"\n",
"Xsadj=Xs*complex(.8,-.6);j=sqrt(-1);\n",
"Ef=(V+sqrt(3)*Ia*Xsadj);\n",
"If=(150/13)*abs(Ef);\n",
"Vtoc=14800;    //corresponding to If\n",
"vr=(Vtoc/V-1)*100;disp(vr,'voltage regulation(%)');"
   ]
   }
,
{
		   "cell_type": "markdown",
		   "metadata": {},
		   "source": [
			"## Example 8.40: to_determine_mc_and_pf.sci"
		   ]
		  },
  {
"cell_type": "code",
	   "execution_count": null,
	   "metadata": {
	    "collapsed": true
	   },
	   "outputs": [],
"source": [
"//to determine m/c and pf\n",
"\n",
"clc;\n",
"j=sqrt(-1);\n",
"P=230*10^6;\n",
"V=22000;\n",
"pf=1;\n",
"Ia=P/(sqrt(3)*V*pf);\n",
"Vt=V/sqrt(3);\n",
"Xs=1.2;\n",
"Ef=Vt+j*Xs*Ia;\n",
"//if Ef is inc by 30%\n",
"Ef=1.3*abs(Ef);\n",
"\n",
"dl=asind((P/3)*Xs/(Ef*Vt));\n",
"Ia=((Ef*complex(cosd(dl),sind(dl)))-Vt)/(j*Xs);\n",
"disp(abs(Ia),'m/c current(A)');\n",
"disp(cosd(atand(imag(Ia)/real(Ia))),'pf');\n",
"\n",
"P=275*10^6;\n",
"dl=asind((P/3)*Xs/(Ef*Vt));\n",
"Ia=((Ef*complex(cosd(dl),sind(dl)))-Vt)/(j*Xs);\n",
"disp(abs(Ia),'m/c current(A)');\n",
"disp(cosd(atand(imag(Ia)/real(Ia))),'pf');"
   ]
   }
,
{
		   "cell_type": "markdown",
		   "metadata": {},
		   "source": [
			"## Example 8.41: to_calculate_excitation_emf_torque_angle_eff_shaft_op.sci"
		   ]
		  },
  {
"cell_type": "code",
	   "execution_count": null,
	   "metadata": {
	    "collapsed": true
	   },
	   "outputs": [],
"source": [
"//to calculate excitation emf,torque angle, eff, shaft op\n",
"\n",
"clc;\n",
"j=sqrt(-1);\n",
"Va=.8;\n",
"Xa=5.5;\n",
"Xs=Va+j*Xa;\n",
"V=3300;\n",
"Ia=160;\n",
"pf=.8;\n",
"loss=30000;\n",
"phi=acosd(pf);\n",
"Ef=V/sqrt(3)-Xs*Ia*complex(cosd(-phi),sind(-phi));disp(abs(Ef),'excitation emf(V)');\n",
"dl=atand(imag(Ef)/real(Ef));disp(dl,'torque angle(deg)');\n",
"P_mech=3*abs(Ef)*Ia*cosd(-phi-dl);\n",
"op_sft=P_mech-loss;disp(op_sft,'shaft op(W)');\n",
"Pip=sqrt(3)*V*Ia*pf;\n",
"eff=op_sft/Pip;disp(eff*100,'efficiency(%)');"
   ]
   }
,
{
		   "cell_type": "markdown",
		   "metadata": {},
		   "source": [
			"## Example 8.42: to_caculate_generator_current_pf_real_power_excitation_emf.sci"
		   ]
		  },
  {
"cell_type": "code",
	   "execution_count": null,
	   "metadata": {
	    "collapsed": true
	   },
	   "outputs": [],
"source": [
"//to caculate generator current,pf, real power,ecitation emf\n",
"\n",
"clc;\n",
"r=500*10^6;\n",
"V=22000;\n",
"Ia=r/(sqrt(3)*V);disp(Ia,'generator current(A)');\n",
"Vt=V/sqrt(3);\n",
"Zb=Vt/Ia;\n",
"MVA_b=500;\n",
"MW_b=500;\n",
"Xsg=1.57;\n",
"Xb=.4;\n",
"Xb=Xb/Zb;\n",
"\n",
"rr=250;\n",
"rr=rr/MVA_b;\n",
"Vb=1;\n",
"Vt=1;\n",
"Ia=.5;\n",
"phi=asind(Xb*Ia/2);\n",
"pf=cosd(phi);disp(pf,'pf');\n",
"Pe=rr*pf;disp(Pe,'real power(pu)');\n",
"Eg=Vt+j*Xsg*rr**complex(cosd(-phi),sind(-phi));\n",
"Egg=abs(Eg)*V;disp(Egg,'excitation emf(V)');\n",
"\n",
"\n",
"rr=500;\n",
"rr=rr/MVA_b;\n",
"Vb=1;\n",
"Vt=1;\n",
"Ia=1;\n",
"phi=asind(Xb*Ia/2);\n",
"pf=cosd(phi);disp(pf,'pf');\n",
"Pe=rr*pf;disp(Pe,'real power(pu)');\n",
"Eg=Vt+j*Xsg*rr*complex(cosd(-phi),sind(-phi));\n",
"Egg=abs(Eg)*V;disp(Egg,'excitation emf(V)');"
   ]
   }
,
{
		   "cell_type": "markdown",
		   "metadata": {},
		   "source": [
			"## Example 8.43: to_clculate_pf_angle_torque_angle_equivalent_capicitor_and_inductor_value.sci"
		   ]
		  },
  {
"cell_type": "code",
	   "execution_count": null,
	   "metadata": {
	    "collapsed": true
	   },
	   "outputs": [],
"source": [
"//to clculate pf angle, torque angle,equivalent capicitor and inductor value\n",
"\n",
"clc;\n",
"of1=250;\n",
"scr=.52;    //short ckt ratio\n",
"of2=of1/scr;\n",
"r=25*10^6;\n",
"V=13000;\n",
"Ia=r/(sqrt(3)*V);\n",
"Isc=Ia*of1/of2;\n",
"Xs=V/(sqrt(3)*Isc);\n",
"Xb=V/(sqrt(3)*Ia);\n",
"Xsadj=Xs/Xb;\n",
"\n",
"f=50;\n",
"If=200;\n",
"Ef=V*If/of1;\n",
"Vt=V/sqrt(3);\n",
"Ia=(Vt-Ef/sqrt(3))/Xs;\n",
"dl=0;disp(dl,'torque angle(deg)');\n",
"pf=90;disp(pf,'pf angle(deg)');\n",
"L=(V/(sqrt(3)*Ia))/(2*%pi*f);\n",
"disp(L,'inductor value(H)');\n",
"\n",
"If=300;\n",
"Eff=V*If/of1;\n",
"Vt=Ef/sqrt(3);\n",
"Ia=(Eff/sqrt(3)-Vt)/Xs;\n",
"dl=0;disp(dl,'torque angle(deg)');\n",
"pf=90;disp(pf,'pf angle(deg)');\n",
"c=1/((V/(Ia))*(2*%pi*f));\n",
"disp(c,'capacitor value(F)');"
   ]
   }
,
{
		   "cell_type": "markdown",
		   "metadata": {},
		   "source": [
			"## Example 8.44: to_determine_Xs_saturated_scr_Xs_unsat_and_If_generator_current.sci"
		   ]
		  },
  {
"cell_type": "code",
	   "execution_count": null,
	   "metadata": {
	    "collapsed": true
	   },
	   "outputs": [],
"source": [
"//to determine Xs(saturated),scr,Xs(unsat)and If,generator current\n",
"\n",
"clc;\n",
"MVA_b=400;\n",
"kV_b=22;\n",
"Ib=MVA_b/(sqrt(3)*kV_b);\n",
"ohm_b=kV_b/(sqrt(3)*Ib);\n",
"\n",
"If=1120;\n",
"Voc=kV_b/sqrt(3);\n",
"Isc=13.2;\n",
"Xssat=Voc/Isc;disp(Xssat,'Xs(saturated)(ohm)');\n",
"Xss=Xssat/ohm_b;disp(Xss,'Xs(saturated)(pu)');\n",
"scr=1/Xss;disp(scr,'SCR');\n",
"Isc=Ib;\n",
"Voc=24.4/sqrt(3);\n",
"Xsunsat=Voc/Isc;disp(Xsunsat,'Xs(unsaturated)(ohm)');\n",
"Xsuns=Xsunsat/ohm_b;disp(Xsuns,'Xs(unsaturated)(pu)');\n",
"Iff=If*scr;disp(Iff,'generator current(A)');"
   ]
   }
,
{
		   "cell_type": "markdown",
		   "metadata": {},
		   "source": [
			"## Example 8.45: find_motor_pf.sci"
		   ]
		  },
  {
"cell_type": "code",
	   "execution_count": null,
	   "metadata": {
	    "collapsed": true
	   },
	   "outputs": [],
"source": [
"//find motor pf\n",
"\n",
"clc;\n",
"j=sqrt(-1);\n",
"V=6600;\n",
"Vt=V/sqrt(3);\n",
"pf=.8;\n",
"phi=acosd(pf);\n",
"P=800000;\n",
"Ia=P/(sqrt(3)*V*pf);\n",
"Zs=2+20*j;\n",
"Ef=Vt-Zs*Ia*complex(cosd(phi)+sind(phi));\n",
"Pip=1200*10^3;\n",
"theta=atand(imag(Zs)/real(Zs));\n",
"dl=acosd((real(Ef)^2*cosd(theta)/abs(Zs)-P/3)/(real(Ef)*abs(Ef)/abs(Zs)))-theta;\n",
"\n",
"Ia=(real(Ef)-abs(Ef)*complex(cosd(-dl),sind(-dl)))/Zs;\n",
"phi=atand(imag(Ia)/real(Ia));\n",
"disp(cosd(phi),'pf');"
   ]
   }
,
{
		   "cell_type": "markdown",
		   "metadata": {},
		   "source": [
			"## Example 8.46: to_find_exciting_emf_neglecting_saliency_and_accounting_saliency.sci"
		   ]
		  },
  {
"cell_type": "code",
	   "execution_count": null,
	   "metadata": {
	    "collapsed": true
	   },
	   "outputs": [],
"source": [
"//to find exciting emf neglecting saliency and accounting saliency\n",
"\n",
"clc;\n",
"j=sqrt(-1);\n",
"Xd=.12/3;\n",
"Xq=.075/3;\n",
"\n",
"disp('neglecting saliency');\n",
"Xs=Xd;\n",
"V=440;\n",
"pf=.8;\n",
"phi=acosd(pf);\n",
"Vt=V/sqrt(3);\n",
"Ia=1000;\n",
"Ef=Vt+j*Xs*Ia*complex(cosd(-phi),sind(-phi));\n",
"disp(abs(Ef)*sqrt(3),'excitation emf(line)(V)');\n",
"disp('accounting saliency');\n",
"w=atand((Vt*sind(phi)+Ia*Xq)/(Vt*cosd(phi)));\n",
"dl=w-phi;\n",
"Ef=Vt*cosd(dl)+Ia*sind(dl)*Xd;\n",
"disp(abs(Ef)*sqrt(3),'excitation emf(line)(V)');"
   ]
   }
,
{
		   "cell_type": "markdown",
		   "metadata": {},
		   "source": [
			"## Example 8.47: calculate_excitation_emf_max_load_motor_supplies_torque_angle.sci"
		   ]
		  },
  {
"cell_type": "code",
	   "execution_count": null,
	   "metadata": {
	    "collapsed": true
	   },
	   "outputs": [],
"source": [
"//calculate excitation emf,max load motor supplies, torque angle\n",
"\n",
"clc;\n",
"Xd=23.2;\n",
"Xq=14.5;\n",
"V=6600;\n",
"pf=.8;\n",
"phi=acosd(pf);\n",
"Vt=V/sqrt(3);\n",
"r=1500*1000;\n",
"Ia=r/(sqrt(3)*V)\n",
"w=atand((Vt*sind(-phi)-Ia*Xq)/(Vt*cosd(phi)));\n",
"dl=-phi-w;disp(dl,'torque angle');\n",
"Ef=Vt*cosd(dl)-Ia*sind(w)*Xd;\n",
"disp(Ef,'excitation emf(V)');\n",
"\n",
"Pe=V^2*((Xd-Xq)/(2*Xd*Xq));disp(Pe,'load supplied(W)');"
   ]
   }
,
{
		   "cell_type": "markdown",
		   "metadata": {},
		   "source": [
			"## Example 8.49: EX8_49.sci"
		   ]
		  },
  {
"cell_type": "code",
	   "execution_count": null,
	   "metadata": {
	    "collapsed": true
	   },
	   "outputs": [],
"source": [
"//find no load freq setting,sys freq,at no load freq of swing generator, system trip freq\n",
"\n",
"clc;\n",
"loadtot=260;\n",
"r=125;\n",
"pf=.84;\n",
"genfl=r*pf;\n",
"sld=75;    //supply load\n",
"n=3;    //no of generators\n",
"ls=loadtot-n*sld;\n",
"m=-5/genfl;\n",
"f=50;\n",
"ff=f-m*sld;disp(ff,'set freq(Hz)');\n",
"c=f-m*ls;disp(c,'set freq(Hz) supplied from swing generator');\n",
"nld=sld+50/4;\n",
"c=ff+m*nld;disp(c,'new system freq(Hz)');\n",
"rld=310-n*sld;\n",
"c=f-m*rld;disp(c,'set freq(Hz) of swing generator');\n",
"nld=310/n;\n",
"c=ff+m*nld;disp(c,'system trip freq(Hz)');"
   ]
   }
,
{
		   "cell_type": "markdown",
		   "metadata": {},
		   "source": [
			"## Example 8.6: to_calculate_the_excitation_emf.sci"
		   ]
		  },
  {
"cell_type": "code",
	   "execution_count": null,
	   "metadata": {
	    "collapsed": true
	   },
	   "outputs": [],
"source": [
"//to calculate the excitation emf\n",
"\n",
"clc;\n",
"Vt=3300;\n",
"Xs=18/3;\n",
"pf=.707;\n",
"P=800*1000;\n",
"Ia=P/(sqrt(3)*Vt*pf);\n",
"a=Ia*Xs/sqrt(2);\n",
"b=Vt/sqrt(3);\n",
"Ef=sqrt((a+b)^2+a^2)*sqrt(3);\n",
"disp(Ef,'excitation emf(V)(line)');"
   ]
   }
,
{
		   "cell_type": "markdown",
		   "metadata": {},
		   "source": [
			"## Example 8.7: to_compute_the_max_power_and_torque_terminal_voltage.sci"
		   ]
		  },
  {
"cell_type": "code",
	   "execution_count": null,
	   "metadata": {
	    "collapsed": true
	   },
	   "outputs": [],
"source": [
"//to compute the max power and torque,terminal voltage\n",
"\n",
"clc;\n",
"V=3300;\n",
"Vt=V/sqrt(3);\n",
"P=1000*10^3;\n",
"pf=1;\n",
"Ia=P/(V*sqrt(3)*pf);\n",
"Xsm=3.24;\n",
"j=sqrt(-1);\n",
"Efm=Vt-j*Ia*Xsm;\n",
"Efg=abs(Efm);\n",
"P_emax=3*Vt*Efg/Xsm;disp(P_emax,'max power(W)');\n",
"p=24;\n",
"f=50;\n",
"w_sm=(120*f*2*%pi)/(p*60);\n",
"Tmax=P_emax/w_sm;disp(Tmax,'torque(Nm)');\n",
"\n",
"Xsg=4.55;\n",
"Efm=Vt-j*Ia*Xsg;\n",
"Efmm=abs(Efm);\n",
"X=Xsm+Xsg;\n",
"P_emax=3*Efg*Efmm/X;disp(P_emax,'max power(W)');\n",
"Tmax=P_emax/w_sm;disp(Tmax,'torque(Nm)');\n",
"\n",
"d=90;\n",
"Efm=Efg*complex(cosd(0),sind(0));\n",
"Efg=Efmm*complex(cosd(d),sind(d));\n",
"Ia=(Efg-Efm)/(j*X);\n",
"v=j*Ia*Xsm;\n",
"Vt=Efm+j*Ia*Xsm;\n",
"disp(abs(Vt)*sqrt(3),'line voltage(V)');"
   ]
   }
,
{
		   "cell_type": "markdown",
		   "metadata": {},
		   "source": [
			"## Example 8.8: max_power_supplied_power_angle_d_corresponding_field_current.sci"
		   ]
		  },
  {
"cell_type": "code",
	   "execution_count": null,
	   "metadata": {
	    "collapsed": true
	   },
	   "outputs": [],
"source": [
"//max power supplied, power angle d, corresponding field current\n",
"\n",
"clc;\n",
"j=sqrt(-1);\n",
"r=100*10^6;    //va\n",
"V=11000;\n",
"P=100*10^6;\n",
"Ef=1;    //pu\n",
"Vth=1;    //pu\n",
"Xs=1.3;    //pu\n",
"Xth=.24;    //pu\n",
"P_emax=Ef*Vth/(Xs+Xth);disp(P_emax,'max power delivered(pu)');\n",
"\n",
"Pe=1;\n",
"Vt=1;\n",
"d=asind(Pe*Xth/(Vt*Vth));disp(d,'power angle');\n",
"Vt=exp(j*d);\n",
"Ia=(Vt-Vth)/(j*Xth);\n",
"Ef=Vth+j*(Xs+Xth)*Ia;\n",
"Voc=11000;\n",
"If=256;\n",
"Ff=19150;\n",
"Iff=If*Ff/Voc;\n",
"disp(Iff,'If(A)');\n",
"\n",
"Pe=0:0.01:0.8;\n",
"Vt=1+(0.24/1.54)*(1.54*Pe-1);\n",
"plot(Pe,Vt);\n",
"xlabel('load');\n",
"ylabel('Vt(V)');\n",
"\n",
"Pe=0:0.01:0.8;\n",
"dl=asind(0.24*Pe);\n",
"Ef=1+(1.54/.24)*(exp(j*dl)-1);\n",
"If=(256/11)*Ef;\n",
"plot(Pe,abs(If));\n",
"xlabel('load');\n",
"ylabel('excittion current');"
   ]
   }
,
{
		   "cell_type": "markdown",
		   "metadata": {},
		   "source": [
			"## Example 8.9: to_calculate_the_generator_current_and_its_pf.sci"
		   ]
		  },
  {
"cell_type": "code",
	   "execution_count": null,
	   "metadata": {
	    "collapsed": true
	   },
	   "outputs": [],
"source": [
"//to calculate the generator current and its pf\n",
"\n",
"clc;\n",
"j=sqrt(-1);\n",
"X=.24;\n",
"r=400;    //rating in MVA\n",
"rr=600;    //rating in MVA\n",
"Pe=r/rr;\n",
"Vt=1;\n",
"Vth=1;\n",
"dl=asind(Pe*X/(Vt*Vth));\n",
"Ia=2*sind(dl/2)/X;\n",
"V=24000;\n",
"IaB=(rr/3)*10^6/(V/sqrt(3));\n",
"Iaa=Ia*IaB;disp(Iaa,'generating current(A)');\n",
"phi=dl/2;\n",
"pf= cosd(phi);disp(pf,'power factor');\n",
"\n",
"Pe=1;\n",
"dl1=asind(Pe*X/(Vt*Vth));\n",
"Ia=2*sind(dl1/2)/X;\n",
"Iaa=Ia*IaB;disp(Iaa,'generating current(A)');\n",
"phi=dl1/2;\n",
"pf= cosd(phi);disp(pf,'power factor');\n",
"Ef=Vt+j*Ia*(complex(cosd(-phi),sind(-phi)))*X;\n",
"Eff=abs(Ef)*V;\n",
"dl2=atand(imag(Ef)/real(Ef));\n",
"\n",
"Xth=.24;\n",
"Pe=abs(Ef)*Vth*sind(dl1+dl2)/(X+Xth);disp(Pe,'Pe(pu)');"
   ]
   }
],
"metadata": {
		  "kernelspec": {
		   "display_name": "Scilab",
		   "language": "scilab",
		   "name": "scilab"
		  },
		  "language_info": {
		   "file_extension": ".sce",
		   "help_links": [
			{
			 "text": "MetaKernel Magics",
			 "url": "https://github.com/calysto/metakernel/blob/master/metakernel/magics/README.md"
			}
		   ],
		   "mimetype": "text/x-octave",
		   "name": "scilab",
		   "version": "0.7.1"
		  }
		 },
		 "nbformat": 4,
		 "nbformat_minor": 0
}
