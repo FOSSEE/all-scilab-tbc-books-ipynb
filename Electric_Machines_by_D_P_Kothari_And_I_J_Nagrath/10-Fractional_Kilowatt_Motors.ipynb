{
"cells": [
 {
		   "cell_type": "markdown",
	   "metadata": {},
	   "source": [
       "# Chapter 10: Fractional Kilowatt Motors"
	   ]
	},
{
		   "cell_type": "markdown",
		   "metadata": {},
		   "source": [
			"## Example 10.1: EX10_1.sci"
		   ]
		  },
  {
"cell_type": "code",
	   "execution_count": null,
	   "metadata": {
	    "collapsed": true
	   },
	   "outputs": [],
"source": [
"// to compute the ratio of E_mf/E_mb,V_f/V_b,T_f/T_b,gross total torque,T_f/total torque, T_b/total torque\n",
"\n",
"clc;\n",
"R_lm=3;\n",
"X_lm=5;\n",
"R_2=1.5;\n",
"X_2=2;\n",
"s=1-.97;        //slip\n",
"a=complex(R_2/s,X_2);\n",
"b=complex(R_2/(2-s),X_2);\n",
"c=abs(a)/abs(b);\n",
"disp(c,'E_mf/E_mb');\n",
"a=(1/2)*complex((R_lm+R_2/s),(X_lm+X_2));\n",
"b=(1/2)*complex((R_lm+R_2/(2-s)),(X_lm+X_2));\n",
"c=abs(a)/abs(b);\n",
"disp(c,'V_f/V_b');\n",
"d=(2-s)/s;\n",
"disp(d,'T_f/T_b');\n",
"Z_tot=a+b;\n",
"V=220;\n",
"I_m=V/abs(Z_tot);\n",
"P=6;\n",
"f=50;\n",
"n_s=120*f/P;\n",
"w_s=2*%pi*n_s/60;\n",
"T_f=(I_m^2*R_2/(2*w_s))*(1/s);\n",
"T_b=(I_m^2*R_2/(2*w_s))*(1/(2-s));\n",
"T_tot=T_f-T_b;\n",
"disp(T_tot,'gross total torque(Nm)');\n",
"a=T_f/T_tot;\n",
"b=T_b/T_tot;\n",
"disp(a,'T_f/T_total');\n",
"disp(b,'T_b/T_total');"
   ]
   }
,
{
		   "cell_type": "markdown",
		   "metadata": {},
		   "source": [
			"## Example 10.2: EX10_2.sci"
		   ]
		  },
  {
"cell_type": "code",
	   "execution_count": null,
	   "metadata": {
	    "collapsed": true
	   },
	   "outputs": [],
"source": [
"// to calculate parameters of the ckt model, line current, power factor, shaft torque and efficiency\n",
"\n",
"clc;\n",
"V_0=215;\n",
"I_0=3.9;\n",
"P_0=185;\n",
"R_1=1.6;\n",
"V_sc=85;\n",
"I_sc=9.8;\n",
"P_sc=390;\n",
"X=(V_0/I_0)*2;        //magnetisation reactance\n",
"phi_sc=acosd(P_sc/(V_sc*I_sc));\n",
"I_e=V_sc/complex(0,X);\n",
"I_SC=I_sc*complex(cosd(phi_sc*(-1)),sind(phi_sc*(-1)));\n",
"I_m=I_SC-I_e;\n",
"Z=V_sc/I_m;\n",
"R_2=real(Z)-R_1;    //real(Z)=R=R1+R2\n",
"disp(R_2,'R_2(ohm)');\n",
"disp(imag(Z),'X_1+X_2(ohm)');\n",
"\n",
"n=1500;    nn=1440;\n",
"s=(n-nn)/n;\n",
"a=1.55/s;\n",
"b=1.55/(2-s);\n",
"Z_ftot=(complex(0,X/2))*(complex(a+.8,imag(Z)/2))/((complex(0,X/2))+(complex(a+.8,imag(Z)/2)));\n",
"Z_btot=(complex(0,X/2))*(complex(b+.8,imag(Z)/2))/((complex(0,X/2))+(complex(b+.8,imag(Z)/2)));\n",
"Z_tot=Z_ftot+Z_btot;\n",
"I_m=V_0/Z_tot;\n",
"I_L=abs(I_m);disp(I_L,'line current(A)');\n",
"pf=cosd(atand(real(I_m)/imag(I_m)));    disp(pf,'pf');\n",
"P_in=V_0*I_L*pf;\n",
"I_mf=I_m*complex(0,X/2)/complex(39.55,59.12);\n",
"I_mb=I_m*complex(0,X/2)/complex(1.59,59.12);\n",
"T=(1/157.1)*(abs(I_mf)^2*38.75-abs(I_mb)^2*.79);\n",
"P_m=157.1*(1-s)*T;\n",
"P_L=185;\n",
"P_out=P_m-P_L;\n",
"eff=P_out/P_in;    disp(eff*100,'efficiency(%)');\n",
"T_shaft=P_out/157.1;    disp(T_shaft,'shaft torque(Nm)');"
   ]
   }
,
{
		   "cell_type": "markdown",
		   "metadata": {},
		   "source": [
			"## Example 10.3: EX10_3.sci"
		   ]
		  },
  {
"cell_type": "code",
	   "execution_count": null,
	   "metadata": {
	    "collapsed": true
	   },
	   "outputs": [],
"source": [
"//to compute ampitudes of forward and backward stator mmf waves,magnitude of auxillary currrent and its ph angle diff\n",
"\n",
"clc;\n",
"N_m=80;\n",
"N_a=100;\n",
"I_m=15*complex(cosd(0),sind(0));\n",
"I_aa=7.5*complex(cosd(45),sind(45));\n",
"I_a=7.5*complex(cosd(60),sind(60));\n",
"F_m=N_m*I_m;\n",
"F_a=N_a*I_a;\n",
"F_aa=N_a*I_aa;    //mmf at 45 angle\n",
"F_f=(1/2)*(F_m+imult(F_aa));a=abs(F_f);\n",
"disp(a,'forward field(AT)');\n",
"F_b=(1/2)*(F_m-imult(F_aa));b=abs(F_b);\n",
"disp(b,'backward field(AT)');\n",
"//1200+100*I_a*complex(sind(a),cosd(a))=0\n",
"//equating real and imaginery parts\n",
"//100*I_a*cosd(a)=0;\n",
"a=90;\n",
"    disp(a,'phase angle diff');\n",
"I_a=-1200/(100*sind(a));    disp(I_a,'auxillery current(A)');"
   ]
   }
,
{
		   "cell_type": "markdown",
		   "metadata": {},
		   "source": [
			"## Example 10.4: to_determine_value_of_capacitor.sci"
		   ]
		  },
  {
"cell_type": "code",
	   "execution_count": null,
	   "metadata": {
	    "collapsed": true
	   },
	   "outputs": [],
"source": [
"//to determine value of capacitor\n",
"\n",
"clc;\n",
"f=50;\n",
"w=2*%pi*f;\n",
"Z_lm=complex(3,2.7);\n",
"Z_la=complex(7,3);\n",
"I_m=(-1)*atand(imag(Z_lm)/imag(Z_la));\n",
"a=90;\n",
"I_a=a+I_m;\n",
"c=1/(w*(real(Z_lm)-real(Z_la)*tand((-1)*I_a)));\n",
"disp(c,'value of capacitor(F)');"
   ]
   }
,
{
		   "cell_type": "markdown",
		   "metadata": {},
		   "source": [
			"## Example 10.5: EX10_5.sci"
		   ]
		  },
  {
"cell_type": "code",
	   "execution_count": null,
	   "metadata": {
	    "collapsed": true
	   },
	   "outputs": [],
"source": [
"//to calculate starting torque and current,value of run capacitor,motor performance\n",
"\n",
"clc;\n",
"R_lm=4.2;\n",
"X_lm=11.3;\n",
"R_la=5.16;\n",
"X_la=12.1;\n",
"X=250;\n",
"a=1.05;\n",
"R_2=7.48;\n",
"X_2=7.2;\n",
"Z_f=(complex(0,X)*complex(R_2,X_2))/(complex(0,X)+complex(R_2,X_2));\n",
"c=314*70*10^-6;\n",
"Z_la=complex(R_la,X_la-1/c);\n",
"Z_lm=complex(R_lm,X_lm);\n",
"Z_12=(1/2)*(Z_la/(a^2)-(Z_lm));\n",
"V=220;\n",
"V_mf=(V/2)*complex(1,-1/a);\n",
"V_mb=(V/2)*complex(1,1/a);\n",
"Z=Z_lm+Z_f+Z_12;\n",
"I_mf=(V_mf*Z+V_mb*Z_12)/(Z^2-Z_12^2);\n",
"I_mb=(V_mb*Z+V_mf*Z_12)/(Z^2-Z_12^2);\n",
"n_s=1500;\n",
"w_s=2*%pi*n_s/60;\n",
"T_s=(2/w_s)*real(Z_f)*(abs(I_mf)^2+abs(I_mb)^2);disp(T_s,'starting torque(Nm)');\n",
"I_m=I_mf+I_mb;\n",
"I_a=imult(I_mf-I_mb)/a;\n",
"I_L=I_m+I_a;\n",
"disp(abs(I_L),'I_L(start)(A)');\n",
"\n",
"s=.04;\n",
"Z_f=(complex(0,X)*complex(R_2/s,X_2))/(complex(0,X)+complex(R_2/s,X_2));\n",
"Z_12=(-1/2)*complex(1,1/a)*(Z_lm+Z_f);\n",
"Z_1a=a^2*(2*Z_12+Z_lm);\n",
"Z=Z_1a-R_la-imult(X_la);\n",
"X_c=(-1)*imag(Z);\n",
"C=1/(314*X_c*10^-6);disp(C,'value of run capacitor(uF)');\n",
"\n",
"Z_f=(complex(0,X)*complex(R_2/s,X_2))/(complex(0,X)+complex(R_2/s,X_2));\n",
"Z_b=(complex(0,X)*complex(R_2/(2-s),X_2))/(complex(0,X)+complex(R_2/(2-s),X_2));\n",
"Z_la=complex(R_la,X_la)-imult(10^6/(314*C));\n",
"Z_12=(1/2)*((Z_la/(a^2))-complex(R_lm,X_lm));\n",
"Z1=Z_lm+Z_f+Z_12;\n",
"Z2=Z_lm+Z_b+Z_12;\n",
"I_mf=(V_mf*Z2+V_mb*Z_12)/(Z1*Z2-(Z_12)^2);\n",
"I_mb=(V_mb*Z1+V_mf*Z_12)/(Z1*Z2-(Z_12)^2);\n",
"T=(2/157.1)*((abs(I_mf)^2*real(Z_f))-(abs(I_mb)^2*real(Z_b)));\n",
"I_m=I_mf+I_mb;\n",
"I_a=imult(I_mf-I_mb)/a;\n",
"I_L=I_m+I_a;\n",
"I_l=abs(I_L);    pf=1;\n",
"P_m=2*((abs(I_mf)^2*real(Z_f))-(abs(I_mb)^2*real(Z_b)))*(1-s);\n",
"P_L=45;\n",
"P_out=P_m-P_L;\n",
"P_in=I_l*V;\n",
"n=P_out/P_in;\n",
"disp(n,'efficiency');\n",
""
   ]
   }
,
{
		   "cell_type": "markdown",
		   "metadata": {},
		   "source": [
			"## Example 10.6: to_calculate_starting_torque_and_atarting_current_motor_performance.sci"
		   ]
		  },
  {
"cell_type": "code",
	   "execution_count": null,
	   "metadata": {
	    "collapsed": true
	   },
	   "outputs": [],
"source": [
"//to calculate starting torque and atarting current,motor performance\n",
"\n",
"clc;\n",
"V_a=110*complex(cosd(90),sind(90));\n",
"V_m=220*complex(cosd(0),sind(0));\n",
"R_1=3;\n",
"R_2=2.6;\n",
"X_1=2.7;\n",
"X_2=2.7;\n",
"X=110;\n",
"V_f=(1/2)*(V_m-imult(V_a));\n",
"V_b=(1/2)*(V_m+imult(V_a));\n",
"Z_f=(complex(0,X)*complex(R_2,X_2))/(complex(0,X)+complex(R_2,X_2));\n",
"Z_b=Z_f;\n",
"Z_ftot=complex(R_1,X_1)+Z_f;\n",
"Z_btot=complex(R_1,X_1)+Z_b;\n",
"I_f=V_f/Z_ftot;\n",
"I_b=V_b/Z_btot;\n",
"T_s=(2/157)*real(Z_f)*(abs(I_f)^2-abs(I_b)^2);disp(T_s,'starting torque(Nm)');\n",
"I_m=I_f+I_b;\n",
"I_a=imult(I_f-I_b);disp(abs(I_a),'starting current(A)');\n",
"s=0.04;\n",
"\n",
"Z_f=(complex(0,X)*complex(R_2/s,X_2))/(complex(0,X)+complex(R_2/s,X_2));\n",
"Z_b=(complex(0,X)*complex(R_2/(2-s),X_2))/(complex(0,X)+complex(R_2/(2-s),X_2));\n",
"Z_ftot=complex(R_1,X_1)+Z_f;\n",
"Z_btot=complex(R_1,X_1)+Z_b;\n",
"I_f=V_f/Z_ftot;\n",
"I_b=V_b/Z_btot;\n",
"w_s=157.1;\n",
"T_s=(2/157.1)*(abs(I_f)^2*real(Z_f)-abs(I_b)^2*real(Z_b));disp(T_s,'starting torque(Nm)');\n",
"I_m=I_f+I_b;m=atand(imag(I_m)/real(I_m));\n",
"I_a=imult(I_f-I_b);a=atand(imag(I_a)/real(I_a));\n",
"P_m=w_s*(1-s)*T_s;\n",
"P_L=200;\n",
"P_out=P_m-P_L;\n",
"P_min=V*abs(I_m)*cosd(m);\n",
"P_ain=V*abs(I_a)*cosd(a); \n",
"P_in=P_min+P_ain;\n",
"n=P_out/P_in;\n",
"disp(n,'efficiency');\n",
"\n",
"r=Z_ftot/Z_btot;    //r=V_mf/V_bf\n",
"//V_mf+V_bf=220\n",
"V_mf=220/(1+r);\n",
"V_mb=220-V_mf;\n",
"V_a=imult(V_mf-V_mb);\n",
"disp(abs(V_a),'V_a(V)');\n",
""
   ]
   }
],
"metadata": {
		  "kernelspec": {
		   "display_name": "Scilab",
		   "language": "scilab",
		   "name": "scilab"
		  },
		  "language_info": {
		   "file_extension": ".sce",
		   "help_links": [
			{
			 "text": "MetaKernel Magics",
			 "url": "https://github.com/calysto/metakernel/blob/master/metakernel/magics/README.md"
			}
		   ],
		   "mimetype": "text/x-octave",
		   "name": "scilab",
		   "version": "0.7.1"
		  }
		 },
		 "nbformat": 4,
		 "nbformat_minor": 0
}
