{
"cells": [
 {
		   "cell_type": "markdown",
	   "metadata": {},
	   "source": [
       "# Chapter 2: Magnetic circuits and Induction"
	   ]
	},
{
		   "cell_type": "markdown",
		   "metadata": {},
		   "source": [
			"## Example 2.1: calculating_exciting_current_and_corresponding_flux_linkages.sci"
		   ]
		  },
  {
"cell_type": "code",
	   "execution_count": null,
	   "metadata": {
	    "collapsed": true
	   },
	   "outputs": [],
"source": [
"// calculating exciting current and corresponding flux linkages\n",
"\n",
"clc;\n",
"U_o=4*%pi*10^-7;\n",
"U_r=6000;\n",
"l_g=0.0006;\n",
"l_c=.40;\n",
"A_c=.04*.04;\n",
"B_c=1.2;\n",
"N=600;\n",
"function [i]=current(B_g)\n",
"    i=(1/(U_o*N))*(((B_c*l_c)/U_r)+(B_g*l_g));\n",
"endfunction\n",
"disp(current(B_c),'neglecting fringing,current(A)=');\n",
"\n",
"    phi=B_c*A_c;\n",
"disp(phi,'flux(Wb)=');\n",
"\n",
"function [lmda]=flux_linkage(phi)\n",
"    lmda=N*phi;\n",
"endfunction\n",
"disp(flux_linkage(phi),'flux linkages(Wb-turns)=');\n",
"\n",
"A_g=(.04+l_g)^2;\n",
"B_g=phi/A_g;\n",
"\n",
"disp(current(B_g),'fringing taken into account,current(A)=');"
   ]
   }
,
{
		   "cell_type": "markdown",
		   "metadata": {},
		   "source": [
			"## Example 2.2: Calculation_of_current_reqd_to_produce_flux_in_the_given_magnetic_circuit.sci"
		   ]
		  },
  {
"cell_type": "code",
	   "execution_count": null,
	   "metadata": {
	    "collapsed": true
	   },
	   "outputs": [],
"source": [
"//Calculation of current reqd to produce flux in the given magnetic circuit.\n",
"\n",
"clc;\n",
"U_o=4*%pi*10^-7;\n",
"U_r=4000;\n",
"N=600;\n",
"//l_c=.30;\n",
"//l_g=.001;\n",
"dia=.02;\n",
"phi=.5*10^-3;        //flux\n",
"A=(%pi/4)*dia^2;\n",
"function [i]=current(l_c,l_g)\n",
"    R=((l_c/U_r)+l_g)/(U_o*A);\n",
"    i=(phi*R)/N;\n",
"endfunction\n",
"disp(current(.30,0),'no air gap current(A)');\n",
"disp(current(.30,.001),'with air gap current(A)');\n",
"\n",
"//B-H data\n",
"//H in AT/m    2500    3000    3500    4000\n",
"//B in T       1.55    1.59    1.6    1.615\n",
"\n",
"B_g=phi/A;\n",
"disp(B_g,'B(T)');\n",
"\n",
"H_g=B_g/U_o;\n",
"\n",
"function [AT]=AT(H,l)\n",
"    AT=H*l;\n",
"endfunction\n",
"AT_g=AT(H_g,.001);\n",
"disp(ceil(AT_g),'AT_g');\n",
"\n",
"H_c=3000;\n",
"AT_c=AT(H_c,.30);\n",
"disp(AT_c,'AT_c');\n",
"\n",
"i=(AT_g+AT_c)/N;\n",
"disp(i,'from magnetisation data, current(A)');\n",
"\n",
"\n",
""
   ]
   }
,
{
		   "cell_type": "markdown",
		   "metadata": {},
		   "source": [
			"## Example 2.3: Determination_of_mmf_of_the_exciting_coil.sci"
		   ]
		  },
  {
"cell_type": "code",
	   "execution_count": null,
	   "metadata": {
	    "collapsed": true
	   },
	   "outputs": [],
"source": [
"// Determination of mmf of the exciting coil\n",
"\n",
"clc;\n",
"U_o=4*%pi*10^-7;\n",
"A1=.0001;\n",
"A2=.0002;\n",
"l1=.025*10^-2;\n",
"l2=.02*10^-2;\n",
"phi=.75*10^-3;\n",
"function [Re]=reluctance(l,U_r,A)\n",
"    Re=l/(U_o*U_r*A);\n",
"endfunction\n",
"\n",
"function [Ni]=mmf(R1,R2,R3)\n",
"    Ni=phi*(R3+((R1*R2)/(R1+R2)));\n",
"endfunction\n",
"R_g1=reluctance(l1,1,A1);\n",
"R_g2=reluctance(l2,1,A1);\n",
"R_g3=reluctance(l2,1,A2);\n",
"disp(mmf(R_g1,R_g2,R_g3),'when U_r=1,mmf(AT)');\n",
"L1=l1*2*10^3;\n",
"L2=l2*10^3;\n",
"R_c1=reluctance(L1,5000,A1);\n",
"R_c2=reluctance(L1,5000,A1);\n",
"R_c3=reluctance(L2,5000,A2);\n",
"disp(mmf(R_c1+R_g1,R_c2+R_g2,R_c3+R_g3),'when U_r=5000,mmf(AT)');"
   ]
   }
,
{
		   "cell_type": "markdown",
		   "metadata": {},
		   "source": [
			"## Example 2.4: Exciting_current_calculation_needed_to_setup_reqd_flux.sci"
		   ]
		  },
  {
"cell_type": "code",
	   "execution_count": null,
	   "metadata": {
	    "collapsed": true
	   },
	   "outputs": [],
"source": [
"// Exciting current calculation needed to setup reqd flux\n",
"\n",
"clc;\n",
"U_o=4*%pi*10^-7;\n",
"A1=800*10^-6;\n",
"A2=600*10^-6;\n",
"l1=1*10^-3;            //air gap length\n",
"l2=160*10^-3;          //length of central limb\n",
"l3=400*10^-3;          //length of side limb\n",
"phi=.8*10^-3;\n",
"N=500;\n",
"function [B]=fd(A)\n",
"   B=phi/A;\n",
"endfunction\n",
"\n",
"function [F]=mmf(l,B)\n",
"    F=l/B;\n",
"endfunction\n",
"//air gap\n",
"B_g=fd(A1);\n",
"F_g=mmf(l1,B_g)/U_o;disp(F_g,'F_g(AT)');\n",
"//central limb\n",
"B_c=B_g;\n",
"F_c=mmf(l2,B_c)/10^-3;disp(F_c,'F_c(AT)');\n",
"//outer limb                flux is divided into half\n",
"B_o=fd(A2)/2;\n",
"F_o=mmf(l3,B_o)/(4*10^-3);disp(F_o,'F_o(AT)');\n",
"i=(F_g+F_c+F_o)/N;            //    total mmf/no of turns\n",
"disp(i,'exciting current(A)');"
   ]
   }
,
{
		   "cell_type": "markdown",
		   "metadata": {},
		   "source": [
			"## Example 2.5: determination_of_excitation_coil_mmf.sci"
		   ]
		  },
  {
"cell_type": "code",
	   "execution_count": null,
	   "metadata": {
	    "collapsed": true
	   },
	   "outputs": [],
"source": [
"// determination of excitation coil mmf\n",
"clc;\n",
"U_o=4*%pi*10^-7;\n",
"A1=25*10^-4;\n",
"A2=12.5*10^-4;\n",
"A3=25*10^-4;\n",
"l1=.5;            //length of side limb(ab+cd)\n",
"l2=.2;          //length of central limb(ad)\n",
"l3=.5;            //length of side limb(dea)\n",
"l4=.25*10^-3;          //length of air gap\n",
"phi=.75*10^-3;\n",
"N=500;\n",
"function [B]=fd(A)\n",
"    B=phi/A;\n",
"    endfunction\n",
"function [F]=flux(B,l)\n",
"    F=B*l/(U_o);\n",
"    endfunction\n",
"function [f]=fl(H,l)\n",
"f=H*l;\n",
"endfunction\n",
"B_abcd=fd(A1);\n",
"F_bc=flux(B_abcd,l4);\n",
"disp(B_abcd,'B_abcd(T)');\n",
"H_ab=200;                        //for cast iron for B=0.3\n",
"F_abcd=fl(H_ab,l1);\n",
"F_ad=F_abcd+F_bc;\n",
"H_ad=F_ad/l2;\n",
"disp(H_ad,'H_ad(AT/m)');\n",
"B_ad=1.04                        //for cast iron for H=800\n",
"phi_ad=B_ad*A2;\n",
"phi_dea=phi+phi_ad;\n",
"B_dea=phi_dea/A3;\n",
"H_dea=500                         //for cast iron for B=.82\n",
"F_dea=H_dea*l3;\n",
"F=F_dea+F_ad;\n",
"disp(F,'reqd mmf(AT)');"
   ]
   }
,
{
		   "cell_type": "markdown",
		   "metadata": {},
		   "source": [
			"## Example 2.7: determination_of_self_and_mutual_inductance_bw_2_coils.sci"
		   ]
		  },
  {
"cell_type": "code",
	   "execution_count": null,
	   "metadata": {
	    "collapsed": true
	   },
	   "outputs": [],
"source": [
"//determination of self and mutual inductance b/w 2 coils\n",
"\n",
"clc;\n",
"U_o=4*%pi*10^-7;\n",
"U_r=1600;\n",
"A1=4*10^-4;\n",
"A2=4*10^-4;\n",
"A0=2*10^-4;\n",
"N1=500;\n",
"N2=1000;\n",
"\n",
"l1=.01*((6+0.5+1)*2+(4+2));\n",
"l2=.01*((3+0.5+1)*2+(4+2));\n",
"l0=.01*(4+2);\n",
"function [R]=reluc(l,A)\n",
"    R=l/(U_o*U_r*A);\n",
"endfunction\n",
"R1=reluc(l1,A1);\n",
"R2=reluc(l2,A2);\n",
"R0=reluc(l0,A0);\n",
"\n",
"function [re]=re(r0,r1,r2)\n",
"    re=r0+((r1*r2)/(r1+r2));\n",
"endfunction\n",
"\n",
"disp('coil 1 excited with 1A');\n",
"R_1=re(R1,R0,R2);\n",
"phi1=N1/R_1;\n",
"phi2=phi1*R0/(R0+R2);\n",
"L11=N1*phi1;disp(L11,'self inductance(H)');\n",
"M21=N2*phi2;disp(M21,'mutual inductance(H)');\n",
"disp('coil 2 excited with 1A');\n",
"R_2=re(R2,R0,R1);\n",
"phi2=N2/R_2;\n",
"L22=N2*phi2;disp(L22,'self inductance(H)');\n",
"M12=M21;disp(M12,'mutual inductance(H)');\n",
""
   ]
   }
,
{
		   "cell_type": "markdown",
		   "metadata": {},
		   "source": [
			"## Example 2.8: determination_of_Rc_Rg_L_Wf.sci"
		   ]
		  },
  {
"cell_type": "code",
	   "execution_count": null,
	   "metadata": {
	    "collapsed": true
	   },
	   "outputs": [],
"source": [
"//determination of R_c,R_g,L,W_f\n",
"\n",
"clc;\n",
"U_o=4*%pi*10^-7;\n",
"U_r=6000;\n",
"l_g=0.0006;\n",
"l_c=.40;\n",
"A_c=.04*.04;\n",
"B_c=1.2;\n",
"N=600;\n",
"function [i]=current(B_g)\n",
"    i=(1/(U_o*N))*(((B_c*l_c)/U_r)+(B_g*l_g));\n",
"endfunction\n",
"disp(current(B_c),'neglecting fringing,current(A)=');\n",
"\n",
"    phi=B_c*A_c;\n",
"disp(phi,'flux(Wb)=');\n",
"\n",
"function [lmda]=flux_linkage(phi)\n",
"    lmda=N*phi;\n",
"endfunction\n",
"disp(flux_linkage(phi),'flux linkages(Wb-turns)=');\n",
"\n",
"function [R]=reluc(l,U,A)\n",
"    R=l/(U_o*U*A);\n",
"endfunction\n",
"R_c=reluc(l_c,U_r,A_c);disp(R_c,'R_c=');\n",
"R_g=reluc(l_g,1,A_c);disp(R_g,'R_g=');\n",
"\n",
"L=N^2/(R_c+R_g);\n",
"disp(L,'coil inductance(H)');\n",
"\n",
"W_f=(N*phi)^2/(2*L);\n",
"disp(W_f,'energy stored in the magnetic field(J)');\n",
""
   ]
   }
,
{
		   "cell_type": "markdown",
		   "metadata": {},
		   "source": [
			"## Example 2.9: calculation_of_hysterisis_and_eddy_current_losses.sci"
		   ]
		  },
  {
"cell_type": "code",
	   "execution_count": null,
	   "metadata": {
	    "collapsed": true
	   },
	   "outputs": [],
"source": [
"// calculation of hysterisis and eddy current losses\n",
"\n",
"clc;\n",
"P1=1500;\n",
"f1=50;\n",
"P2=3000;\n",
"f2=75;\n",
"A=[1 50;1 75];            //P/f=A+B*f\n",
"B=[30;40];\n",
"v=A\B;\n",
"\n",
"disp('at 50Hz');\n",
"P_h=v(1)*f1;disp(P_h,'hysterisis loss(W)');\n",
"P_e=v(2)*f1^2;disp(P_e,'eddy current loss(W)');\n",
"\n",
"disp('at 75Hz');\n",
"P_h=v(1)*f2;disp(P_h,'hysterisis loss(W)');\n",
"P_e=v(2)*f2^2;disp(P_e,'eddy current loss(W)');"
   ]
   }
],
"metadata": {
		  "kernelspec": {
		   "display_name": "Scilab",
		   "language": "scilab",
		   "name": "scilab"
		  },
		  "language_info": {
		   "file_extension": ".sce",
		   "help_links": [
			{
			 "text": "MetaKernel Magics",
			 "url": "https://github.com/calysto/metakernel/blob/master/metakernel/magics/README.md"
			}
		   ],
		   "mimetype": "text/x-octave",
		   "name": "scilab",
		   "version": "0.7.1"
		  }
		 },
		 "nbformat": 4,
		 "nbformat_minor": 0
}
