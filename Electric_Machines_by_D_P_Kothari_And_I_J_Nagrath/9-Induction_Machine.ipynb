{
"cells": [
 {
		   "cell_type": "markdown",
	   "metadata": {},
	   "source": [
       "# Chapter 9: Induction Machine"
	   ]
	},
{
		   "cell_type": "markdown",
		   "metadata": {},
		   "source": [
			"## Example 9.10: to_calculate_max_torque_and_slip_starting_torque.sci"
		   ]
		  },
  {
"cell_type": "code",
	   "execution_count": null,
	   "metadata": {
	    "collapsed": true
	   },
	   "outputs": [],
"source": [
"//to calculate max torque and slip, starting torque\n",
"\n",
"clc;\n",
"k=5;    //k=I_s/I_fl\n",
"s_fl=0.04;\n",
"s_max_T=sqrt((s_fl^2*(1-k^2))/((k*s_fl)^2-1));disp(s_max_T,'slip');\n",
"T_max=.5*(s_max_T^2+s_fl^2)/(s_fl*s_max_T);disp(T_max,'max torque(pu)');\n",
"\n",
"T_s=k^2*s_fl;disp(T_s,'starting torque(pu)');"
   ]
   }
,
{
		   "cell_type": "markdown",
		   "metadata": {},
		   "source": [
			"## Example 9.11: EX9_11.sci"
		   ]
		  },
  {
"cell_type": "code",
	   "execution_count": null,
	   "metadata": {
	    "collapsed": true
	   },
	   "outputs": [],
"source": [
"//to find starting current and torque, necessary exteranl resistance and corresponding starting torque\n",
"\n",
"clc;\n",
"f=50;\n",
"R2=.1;\n",
"X2=2*%pi*f*3.61*10^-3;\n",
"a=3.6;\n",
"R22=a^2*R2;\n",
"X22=a^2*X2;\n",
"V=3000;\n",
"n_s=1000;\n",
"w_s=2*%pi*n_s/60;\n",
"I_s=(V/sqrt(3))/sqrt(R22^2+X22^2);disp(I_s,'starting current(A)');\n",
"T_s=(3/w_s)*(V/sqrt(3))^2*R22/(R22^2+X22^2);disp(T_s,'torque(Nm)');\n",
"\n",
"Iss=30;\n",
"Rext=sqrt(((V/sqrt(3)/Iss)^2-X22^2)-R22);\n",
"disp(Rext,'external resistance(ohm)');\n",
"T_s=(3/w_s)*(V/sqrt(3))^2*(R22+Rext)/((R22+Rext)^2+X22^2);disp(T_s,'torque(Nm)');"
   ]
   }
,
{
		   "cell_type": "markdown",
		   "metadata": {},
		   "source": [
			"## Example 9.12: EX9_12.sci"
		   ]
		  },
  {
"cell_type": "code",
	   "execution_count": null,
	   "metadata": {
	    "collapsed": true
	   },
	   "outputs": [],
"source": [
"//find line current and starting torque with direct switching, stator resistance starting, autotransformer starting, star delta starting, autotransformer ratio give 1 pu\n",
"\n",
"clc;\n",
"//I_s/I_fl=6;\n",
"s_fl=0.05;\n",
"disp('by direct switching');\n",
"Is=6;disp(Is,'line current(pu)');\n",
"T=Is^2*s_fl;disp(T,'torque(pu)');\n",
"\n",
"disp('by stator resistance starting');\n",
"Is=2;disp(Is,'line current(pu)');        //given\n",
"T=Is^2*s_fl;disp(T,'torque(pu)');\n",
"\n",
"disp('by autotransformer starting');\n",
"x=2/6;\n",
"Is_motor=2;\n",
"Is=Is_motor*x;disp(Is,'line current(pu)');\n",
"T=Is^2*s_fl;disp(T,'torque(pu)');\n",
"\n",
"disp('by star delta starting');\n",
"Is=(1/3)*6;disp(Is,'line current(pu)');\n",
"T=Is^2*s_fl*3;disp(T,'torque(pu)');\n",
"\n",
"disp('by autotransformer starting');\n",
"Ts=1;\n",
"x=sqrt(Ts/((6^2)*s_fl));disp(x,'x');"
   ]
   }
,
{
		   "cell_type": "markdown",
		   "metadata": {},
		   "source": [
			"## Example 9.13: to_find_resistance_added_to_ckt.sci"
		   ]
		  },
  {
"cell_type": "code",
	   "execution_count": null,
	   "metadata": {
	    "collapsed": true
	   },
	   "outputs": [],
"source": [
"//to find resistance added to ckt\n",
"\n",
"clc;\n",
"Rrot=.061;\n",
"R2=Rrot/2;\n",
"f=50;\n",
"P=12;\n",
"w_s=(120*f/P)*(2*%pi/60);\n",
"s=0.045;\n",
"w=(1-s)*w_s;\n",
"P=200*10^3;\n",
"T_fan=P/w;\n",
"I2=sqrt(T_fan*w_s*s/(3*R2));\n",
"E2=I2*R2/s;\n",
"n=450;\n",
"ww=2*%pi*n/60;\n",
"nn=500;\n",
"ss=(nn-n)/nn;\n",
"Tnew=T_fan*(ww/w)^2;\n",
"Rt=(3/w_s)*(E2*ss)^2/(ss*Tnew);\n",
"Rext=Rt-R2;disp(Rext,'external resistance(ohm)');"
   ]
   }
,
{
		   "cell_type": "markdown",
		   "metadata": {},
		   "source": [
			"## Example 9.14: to_find_resistance_added_to_ckt.sci"
		   ]
		  },
  {
"cell_type": "code",
	   "execution_count": null,
	   "metadata": {
	    "collapsed": true
	   },
	   "outputs": [],
"source": [
"//to find resistance added to ckt\n",
"\n",
"clc;\n",
"n_s=1500;\n",
"w_s=2*%pi*n_s/60;\n",
"n=1250;\n",
"s=1-n/n_s;\n",
"//Im=(1/3)*(0.3+.25/s+j*1.83)ohm/ph\n",
"T=150;\n",
"V=440;\n",
"//T=(3/w_s)*(V^2*(R_2t/s))/((.1+(R_2t/s))^2+(X1+X2)^2);\n",
"//after solving R_2t^2-1.34*R_2t+0.093=0\n",
"function [x]=quad(a,b,c)\n",
"    d=sqrt(b^2-4*a*c);\n",
"    x1=(-b+d)/(2*a);\n",
"    x2=(-b-d)/(2*a);\n",
"    if(x1>x2)\n",
"        x=x1;\n",
"    else\n",
"        x=x2;\n",
"    end\n",
"endfunction\n",
"[x]=quad(1,-1.34,0.093);\n",
"Rext=x-0.083;disp(Rext,'external resitance(ohm)');"
   ]
   }
,
{
		   "cell_type": "markdown",
		   "metadata": {},
		   "source": [
			"## Example 9.15: to_calculate_the_min_resistance_to_be_added_and_speed_of_the_motor.sci"
		   ]
		  },
  {
"cell_type": "code",
	   "execution_count": null,
	   "metadata": {
	    "collapsed": true
	   },
	   "outputs": [],
"source": [
"//to calculate the min resistance to be added and speed of the motor\n",
"\n",
"clc;\n",
"V=400;\n",
"a=2.5;\n",
"X2=.4;\n",
"R2=0.08;\n",
"n_s=750;\n",
"w_s=2*%pi*n_s/60;\n",
"T=250;\n",
"//T=(3/w_s)*((V/sqrt(3))/a)*R2t/(R2t^2+X2^2);\n",
"//after solving\n",
"//R2t^2-1.304*R2t+0.16=0\n",
"function [x1,x2]=quad(a,b,c)\n",
"    d=sqrt(b^2-4*a*c);\n",
"    x1=(-b+d)/(2*a);\n",
"    x2=(-b-d)/(2*a);\n",
"endfunction\n",
"[x1 x2]=quad(1,-1.304,0.16);\n",
"    if(x1>x2)\n",
"        R2t=x2;\n",
"    else\n",
"        R2t=x1\n",
"    end\n",
"Rext=R2t-R2;\n",
"disp(Rext,'external resistance(ohm)');\n",
"\n",
"//T=(3/w_s)*((V/sqrt(3))/a)*(R2t/s)/((R2t/s)^2+X2^2);\n",
"//after solving\n",
"//(R2t/s)^2-1.304*(R2t/s)+0.16=0\n",
"[x1 x2]=quad(1,-1.304,0.16);\n",
"s=x2/x1;\n",
"n=n_s*(1-s);\n",
"disp(n,'speed(rpm)');\n",
"\n",
"//T=(3/w_s)*((V/sqrt(3))/a)*(R2/s)/((R2/s)^2+X2^2);\n",
"//after solving\n",
"//(R2/s)^2-1.304*(R2/s)+0.16=0\n",
"[x1 x2]=quad(1,-1.304,0.16);\n",
"R2=0.08;\n",
"s1=R2/x1;\n",
"s2=R2/x2;\n",
"if(s1>s2)\n",
"        ss=s2;\n",
"    else\n",
"        ss=s1\n",
"    end\n",
"n=n_s*(1-ss);\n",
"disp(n,'speed(rpm)');"
   ]
   }
,
{
		   "cell_type": "markdown",
		   "metadata": {},
		   "source": [
			"## Example 9.17: to_find_the_ratio_of_currents_and_torques_at_the_starting_V2_by_V1.sci"
		   ]
		  },
  {
"cell_type": "code",
	   "execution_count": null,
	   "metadata": {
	    "collapsed": true
	   },
	   "outputs": [],
"source": [
"//to find the ratio of currents and torques at the starting,V2/V1\n",
"\n",
"clc;\n",
"f1=50;\n",
"f2=60;\n",
"f=f2/f1;\n",
"V=1;    //V=V2/V1\n",
"s_max_T=0.2;\n",
"//Is=I_s2/I_s1\n",
"Is=V*sqrt((s_max_T^2+1)/(s_max_T^2+f^2));\n",
"disp(Is,'ratio of currents at starting');\n",
"//Ts=T_s2/T_s1\n",
"Ts=V^2*((s_max_T^2+1)/(s_max_T^2+f^2));\n",
"disp(Ts,'ratio of torques at starting');\n",
"//Tmax=Tmax2/Tmax1\n",
"Tmax=V^2/f^2;\n",
"disp(Tmax,'ratio of max torques');\n",
"Vr=sqrt(1/sqrt((s_max_T^2+1)/(s_max_T^2+f^2)));\n",
"disp(Vr,'V2/V1');"
   ]
   }
,
{
		   "cell_type": "markdown",
		   "metadata": {},
		   "source": [
			"## Example 9.18: to_calculate_ratio_of_torques_at_starting_and_given_slip.sci"
		   ]
		  },
  {
"cell_type": "code",
	   "execution_count": null,
	   "metadata": {
	    "collapsed": true
	   },
	   "outputs": [],
"source": [
"//to calculate ratio of torques at starting and at slip=0.05\n",
"\n",
"clc;\n",
"R1=0.01;\n",
"X1=.5;\n",
"R2=0.05;\n",
"X2=.1;\n",
"Ts=((R1^2+X1^2)/(R2^2+X2^2))*(R2/R1);\n",
"disp(Ts,'Tso/Tsi');\n",
"\n",
"s=0.05;\n",
"T=(((R1/s)^2+X1^2)/((R2/s)^2+X2^2))*(R2/R1);\n",
"disp(T,'To/Ti');"
   ]
   }
,
{
		   "cell_type": "markdown",
		   "metadata": {},
		   "source": [
			"## Example 9.19: to_compute_acc_time_and_value_of_rotor_resistance.sci"
		   ]
		  },
  {
"cell_type": "code",
	   "execution_count": null,
	   "metadata": {
	    "collapsed": true
	   },
	   "outputs": [],
"source": [
"//to compute acc time and value of rotor resistance\n",
"\n",
"clc;\n",
"s=1-.96;    //load is brought to .96 of n_s\n",
"s_max_T=sqrt((1-s^2)/(2*log(1/s)));\n",
"R=1.5;\n",
"R2_opt=R*s_max_T;disp(R2_opt,'rotor resistance(ohm)');\n",
"n=1000;\n",
"w_s=2*%pi*n/60;\n",
"V=415;\n",
"Tmax=(3/w_s)*(.5*(V/sqrt(3))^2)/R;\n",
"J=11;\n",
"t_A=(J*w_s/(2*Tmax))*((1-s^2)/(2*s_max_T)+s_max_T*log(1/s));\n",
"disp(t_A,'acc time(min)');"
   ]
   }
,
{
		   "cell_type": "markdown",
		   "metadata": {},
		   "source": [
			"## Example 9.1: to_campute_cu_loss_in_rotoe_windings_input_to_the_motor_efficiency.sci"
		   ]
		  },
  {
"cell_type": "code",
	   "execution_count": null,
	   "metadata": {
	    "collapsed": true
	   },
	   "outputs": [],
"source": [
"// to campute cu loss in rotoe windings, input to the motor, efficiency\n",
"\n",
"clc;\n",
"f_s=120/60;        //cycles/min\n",
"f=50;\n",
"s=f_s/f;\n",
"n_s=1000;\n",
"n=(1-s)*n_s;\n",
"w=n*2*%pi/60;\n",
"T=160;\n",
"P=T*w;\n",
"T_L=10;\n",
"P_m=(T+T_L)*w;\n",
"cu=P_m*(s/(1-s));    disp(cu,'rotor cu loss(W)');\n",
"\n",
"P_sl=800;    //stator loss\n",
"P_in=P_m+cu+P_sl;    disp(P_in,'power i/p to motor(W)');\n",
"\n",
"eff=P/P_in;\n",
"disp(eff*100,'efficiency(%)');"
   ]
   }
,
{
		   "cell_type": "markdown",
		   "metadata": {},
		   "source": [
			"## Example 9.2: to_calculate_torque_resistance_to_be_added_to_rotor_ckt.sci"
		   ]
		  },
  {
"cell_type": "code",
	   "execution_count": null,
	   "metadata": {
	    "collapsed": true
	   },
	   "outputs": [],
"source": [
"//to calculate torque,resitance to be added to rotor ckt\n",
"\n",
"clc;\n",
"f=50;\n",
"P=6;\n",
"n_s=120*f/P;\n",
"w_s=2*%pi*n_s/60;\n",
"n=875;\n",
"s_maxT=(n_s-n)/n_s;\n",
"R_2=.25;\n",
"X_2=R_2/s_maxT;\n",
"T_max=10;\n",
"//v=V/a\n",
"v=sqrt((T_max*w_s*X_2)/(3*.5));\n",
"T=((3)*v^2*(R_2/s))/(w_s*((R_2/s)^2+(X_2)^2));\n",
"disp(T,'torque(Nm)');\n",
"\n",
"//from eqn(T_start/T_max)=(R2+Rext)*(X2/.5)/((R2+Rext)^2+X2^2)\n",
"//after solving\n",
"//Rt^2-6.67*Rt+4=0\n",
"function [x]=quad(a,b,c)\n",
"    d=sqrt(b^2-4*a*c);\n",
"    x1=(-b+d)/(2*a);\n",
"    x2=(-b-d)/(2*a);\n",
"    if(x1>x2)\n",
"        x=x2;\n",
"    else\n",
"        x=x1;\n",
"    end\n",
"endfunction\n",
"Rt=quad(1,-6.67,4);\n",
"r2=.25;\n",
"disp(Rt-r2,'external resistance(ohm)');"
   ]
   }
,
{
		   "cell_type": "markdown",
		   "metadata": {},
		   "source": [
			"## Example 9.3: to_find_slip_at_max_torque_full_load_slip_and_rotor_current_at_starting.sci"
		   ]
		  },
  {
"cell_type": "code",
	   "execution_count": null,
	   "metadata": {
	    "collapsed": true
	   },
	   "outputs": [],
"source": [
"//to find slip at max torque,full load slip and rotor current at starting\n",
"\n",
"clc;\n",
"//Tfl=(3/w_s)*(V^2*Rs/s_fl)/((R2/s_fl)^2+X2^2);    (i)\n",
"//Ts=(3/w_s)*(V^2*R2)/(R2^2+X2^2);    (ii)\n",
"//Tmax=(3/w_s)*(.5*V^2)/X2^2;    (iii)\n",
"//Tmax/Ts=2;    k=R2/X2;    (iii)/(ii)and solving\n",
"//k^2-4*k+1=0;\n",
"function [x]=quad(a,b,c)\n",
"    d=sqrt(b^2-4*a*c);\n",
"    x1=(-b+d)/(2*a);\n",
"    x2=(-b-d)/(2*a);\n",
"    if(x1>x2)\n",
"        x=x2;\n",
"    else\n",
"        x=x1;\n",
"    end\n",
"endfunction\n",
"k=quad(1,-4,1);\n",
"disp(k,'s_max_T');\n",
"\n",
"//(iii)/(i)and solving\n",
"//s_fl^2-1.072*s_fl+.072=0\n",
"s_fl=quad(1,-1.072,.072);\n",
"disp(s_fl,'s_fl');\n",
"\n",
"//a=I2_start/I2_fullload\n",
"a=sqrt((k/s_fl)^2+1)/(k^2+1);\n",
"disp(a,'I2_start/I2_fullload');"
   ]
   }
,
{
		   "cell_type": "markdown",
		   "metadata": {},
		   "source": [
			"## Example 9.4: to_calculate_stator_current_pf_net_mech_op_torque_motor_performance.sci"
		   ]
		  },
  {
"cell_type": "code",
	   "execution_count": null,
	   "metadata": {
	    "collapsed": true
	   },
	   "outputs": [],
"source": [
"//to calculate stator current,pf, net mech o/p, torque, motor performance\n",
"\n",
"clc;\n",
"j=sqrt(-1);\n",
"Vt=400;\n",
"P=6;\n",
"f=50;\n",
"Inl=7.5;\n",
"Pnl=700;\n",
"disp('block rotor test results');\n",
"Vbr=150;\n",
"Ibr=35;\n",
"Pinbr=4000;\n",
"R1=.55;disp(R1,'R1(ohm)');\n",
"k=1/.5;\n",
"s=0.04;\n",
"Zbr=Vbr/(sqrt(3)*Ibr);\n",
"Rbr=Pinbr/(3*Ibr^2);\n",
"Xbr=sqrt(Zbr^2-Rbr^2);\n",
"X1=Xbr/(1+.5);disp(X1,'X1(ohm)');\n",
"X2=Xbr-X1;disp(X2,'X2(ohm)');\n",
"disp('no load test results');\n",
"Zo=Vt/(sqrt(3)*Inl);\n",
"Ro=Pnl/(3*Inl^2);\n",
"Xo=sqrt(Zo^2-Ro^2);\n",
"Xm=Xo-X1;disp(Xm,'Xm(ohm)');\n",
"R2=(Rbr-R1)*((Xm+X2)/Xm)^2;disp(R2,'R2(ohm)');\n",
"Zf=1/((1/(j*Xm))+(1/((R2/s)+j*X2)));\n",
"Rf=real(Zf);\n",
"Xf=imag(Zf);\n",
"Zin=R1+j*X1+Zf;\n",
"I1=Vt/(sqrt(3)*Zin);\n",
"Pin=sqrt(3)*Vt*abs(I1)*cosd(atand(imag(I1)/real(I1)));disp(Pin,'Pin(W)');\n",
"Pg=3*abs(I1)^2*Rf;disp(Pg,'Pg(W)');\n",
"Pm=(1-s)*Pg;disp(Pm,'Pm(W)');\n",
"Prot=Pnl-3*Inl^2*R1;disp(Prot,'Prot(W)');\n",
"Pout=Pm-Prot;disp(Pout,'Pout(W)');\n",
"w_s=1000*2*%pi/60;\n",
"Tnet=Pout/((1-s)*w_s);disp(Tnet,'Tnet(Nm)');\n",
"eff=Pout*100/Pin;disp(eff,'eff(%)');"
   ]
   }
,
{
		   "cell_type": "markdown",
		   "metadata": {},
		   "source": [
			"## Example 9.5: EX9_5.sci"
		   ]
		  },
  {
"cell_type": "code",
	   "execution_count": null,
	   "metadata": {
	    "collapsed": true
	   },
	   "outputs": [],
"source": [
"//to determine ckt model parameters,parameters of thevenin equivalent, max torque and slip, stator current, pf and eff\n",
"\n",
"clc;\n",
"j=sqrt(-1);\n",
"//NL test\n",
"V=3300;\n",
"f=50;\n",
"Inl=5;\n",
"Po=2500;\n",
"Zo=V/(sqrt(3)*Inl);\n",
"Ro=Po/(3*Inl^2);disp(Ro,'Ro(ohm)');\n",
"Xo=sqrt(Zo^2-Ro^2);disp(Xo,'Xo(ohm)');\n",
"//BR test\n",
"V_BR=400;\n",
"I_BR=27;\n",
"ff=15;\n",
"P_BR=15000;\n",
"Z_BR=V_BR/(sqrt(3)*I_BR);\n",
"R_BR=P_BR/(3*I_BR^2);\n",
"X_BR=sqrt(Z_BR^2-R_BR^2);\n",
"x1=X_BR/2;    //at 15 Hz\n",
"X1=x1*f/ff;    //at 50Hz\n",
"disp(X1,'X1(ohm)');\n",
"Xm=Xo-X1;disp(Xm,'Xm(ohm)');\n",
"R1=3.75;\n",
"R2=(R_BR-R1)*((Xm+X1)/Xm)^2;disp(R2,'R2(ohm)');\n",
"\n",
"V_TH=(V/sqrt(3))*complex(cosd(0),sind(0))*complex(0,Xm)/complex(R1,X1+Xm);\n",
"disp(V_TH,'V_TH(V)');\n",
"Z_TH=complex(0,Xm)*complex(R1,X1)/complex(R1,X1+Xm);\n",
"disp(real(Z_TH),'R_TH(ohm)');\n",
"disp(imag(Z_TH),'X_TH(ohm)');\n",
"\n",
"a=(sqrt(real(Z_TH)^2+(X1+imag(Z_TH))^2));\n",
"s_max_T=R2/a;\n",
"n_s=1000;\n",
"Z_tot=complex(real(Z_TH)+a,X1+imag(Z_TH));\n",
"I2=abs(V_TH)/abs(Z_tot);\n",
"T_max=3*(I2^2)*R2/(s_max_T*(2*%pi*n_s/60));disp(T_max,'T_max(Nm)');\n",
"\n",
"Z_f=complex(0,Xm)*complex(81.25,X1)/complex(81.25,X1+Xm);\n",
"Z_in=Z_f+complex(R1,X1);\n",
"I1=V/(sqrt(3)*abs(Z_in));\n",
"pf=cosd(atand(imag(Z_in)/real(Z_in)));\n",
"s=.04;\n",
"Pmechg=(1-s)*3*I1^2*real(Z_f);\n",
"Prot=Po-Inl^2*R1;\n",
"Pip=sqrt(3)*V*I1*pf;\n",
"Pop=Pmechg-Prot;\n",
"eff=Pop/Pip;disp(eff,'efficiency');\n",
"Tint=Pmechg/((1-s)*2*%pi*n_s/60);disp(Tint,'internal torque developed(Nm)');"
   ]
   }
,
{
		   "cell_type": "markdown",
		   "metadata": {},
		   "source": [
			"## Example 9.6: EX9_6.sci"
		   ]
		  },
  {
"cell_type": "code",
	   "execution_count": null,
	   "metadata": {
	    "collapsed": true
	   },
	   "outputs": [],
"source": [
"//to calculate starting torque and current,full load current,pf, torque , internal and overall eff,slip and max torque\n",
"\n",
"clc;\n",
"R1=.3;\n",
"R2=.25;\n",
"X1=.6;\n",
"X2=.6;\n",
"Xm=35;\n",
"Prot=1500;\n",
"V=231;\n",
"Z_TH=complex(0,Xm)*complex(R1,X1)/complex(R1,X1+Xm);\n",
"V_TH=(V*complex(0,Xm))/complex(R1,X1+Xm);\n",
"n_s=1500;\n",
"w_s=2*%pi*n_s/60;\n",
"\n",
"s=1;\n",
"Z_f=complex(0,Xm)*complex(R2,X2)/complex(R2,X2+Xm);\n",
"R_f=real(Z_f);\n",
"Z_in=Z_f+complex(R1,X1);\n",
"I1=V/abs(Z_in);disp(I1,'starting current(A)');\n",
"Tstart=3*I1^2*R_f/w_s;disp(Tstart,'starting torque(Nm)');\n",
"\n",
"n=1450;\n",
"s=1-n/n_s;\n",
"a=R2/s;\n",
"Z_f=complex(0,Xm)*complex(a,X2)/complex(a,X2+Xm);\n",
"R_f=real(Z_f);\n",
"Z_in=Z_f+complex(R1,X1);\n",
"I1=V/abs(Z_in);disp(I1,'full load current(A)');\n",
"pf=cosd(atand(imag(Z_in)/real(Z_in)));disp(pf,'pf');\n",
"P_G=3*I1^2*R_f;\n",
"Popg=P_G*(1-s);\n",
"Pop=Popg-Prot;\n",
"Tnet=Pop/((1-s)*w_s);disp(Tnet,'net torque(Nm)');\n",
"Vt=400;\n",
"Pip=sqrt(3)*Vt*I1*pf;\n",
"eff=Pop/Pip;disp(eff*100,'efficiency(%)');\n",
"int_eff=Popg/Pip;disp(int_eff*100,'internal eff(%)');\n",
"\n",
"s_max_T=1/(sqrt(real(Z_TH)^2+(imag(Z_TH)+X1)^2)/R2);disp(s_max_T,'max slip');\n",
"Z_tot=Z_TH+complex(R2/s_max_T,X2);\n",
"I2=abs(V_TH)/abs(Z_tot);\n",
"T_max=3*I2^2*(R2/s_max_T)/w_s;\n",
"disp(T_max,'max torque(Nm)');\n",
""
   ]
   }
,
{
		   "cell_type": "markdown",
		   "metadata": {},
		   "source": [
			"## Example 9.9: to_determine_the_line_current_pf_power_ip_shaft_torque_mech_op_and_efficiency.sci"
		   ]
		  },
  {
"cell_type": "code",
	   "execution_count": null,
	   "metadata": {
	    "collapsed": true
	   },
	   "outputs": [],
"source": [
"//to determine the line current,pf, power ip, shaft torque, mech op and efficiency\n",
"\n",
"clc;\n",
"R1=1.4;\n",
"R2=.6;\n",
"X1=2;\n",
"X2=1;\n",
"Xm=50;\n",
"V=400;\n",
"Prot=275;\n",
"n_s=1000;\n",
"w_s=2*%pi*n_s/60;\n",
"\n",
"disp('slip=0.03');\n",
"s=0.03;\n",
"I2=(V/sqrt(3))/complex(R1+R2/s,X1+X2);\n",
"Im=(V/sqrt(3))/(Xm*complex(cosd(90),sind(90)));\n",
"I1=Im+I2;\n",
"I_L=abs(I1);disp(I_L,'line current(A)');\n",
"pf=cosd(atand(imag(I1)/real(I1)));disp(pf,'pf');\n",
"Pip=sqrt(3)*V*abs(I1)*cosd(atand(imag(I1)/real(I1)));disp(Pip,'power i/p(W)');\n",
"\n",
"P_G=3*abs(I2)^2*R2/s;\n",
"Pmechg=(1-s)*P_G;disp(Pmechg,'mech power op(W)');\n",
"Popnet=Pmechg-Prot;\n",
"Tnet=Popnet/(w_s*(1-s));disp(Tnet,'shaft torque(Nm)');\n",
"eff=Popnet/Pip;disp(eff,'efficiency');\n",
"\n",
"disp('slip= -0.03');\n",
"s=-0.03;\n",
"I2=(V/sqrt(3))/complex(R1+R2/s,X1+X2);\n",
"Im=(V/sqrt(3))/(Xm*complex(cosd(90),sind(90)));\n",
"I1=-(Im+I2);\n",
"I_L=abs(I1);disp(I_L,'line current(A)');\n",
"pf=cosd(atand(imag(I1)/real(I1)));disp(pf,'pf');\n",
"Pip=sqrt(3)*V*abs(I1)*cosd(atand(imag(I1)/real(I1)));disp(Pip,'power i/p(W)');\n",
"\n",
"P_G=3*abs(I2)^2*R2/s;\n",
"Pmechop=(1-s)*P_G;\n",
"Pmechipnet=-Pmechop;\n",
"Pmechipg=Pmechipnet+Prot;disp(Pmechipg,'mech power op(W)');\n",
"Tnet=Pmechipg/(w_s*(1-s));disp(Tnet,'shaft torque(Nm)');\n",
"eff=Pip/Pmechipg;disp(eff,'efficiency');\n",
"\n",
"disp('slip= 1.2');\n",
"s=1.2;\n",
"I2=(V/sqrt(3))/complex(R1+R2/s,X1+X2);\n",
"Im=(V/sqrt(3))/(Xm*complex(cosd(90),sind(90)));\n",
"I1=Im+I2;\n",
"I_L=abs(I1);disp(I_L,'line current(A)');\n",
"pf=cosd(atand(imag(I1)/real(I1)));disp(pf,'pf');\n",
"Pip=sqrt(3)*V*abs(I1)*pf;disp(Pip,'power i/p(W)');\n",
"\n",
"P_G=3*abs(I2)^2*.5/s;\n",
"Pmechg=(1-s)*P_G;disp(Pmechg,'mech power op(W)');\n",
"Pmechabs=-Pmechg;\n",
"n=n_s*(1-s);\n",
"w=2*%pi*n/60;\n",
"Tnet=Pmechg/w;disp(Tnet,'torque developed(Nm)');\n",
"P=Pmechabs+Pip;disp(P,'power disipated(W)');"
   ]
   }
],
"metadata": {
		  "kernelspec": {
		   "display_name": "Scilab",
		   "language": "scilab",
		   "name": "scilab"
		  },
		  "language_info": {
		   "file_extension": ".sce",
		   "help_links": [
			{
			 "text": "MetaKernel Magics",
			 "url": "https://github.com/calysto/metakernel/blob/master/metakernel/magics/README.md"
			}
		   ],
		   "mimetype": "text/x-octave",
		   "name": "scilab",
		   "version": "0.7.1"
		  }
		 },
		 "nbformat": 4,
		 "nbformat_minor": 0
}
