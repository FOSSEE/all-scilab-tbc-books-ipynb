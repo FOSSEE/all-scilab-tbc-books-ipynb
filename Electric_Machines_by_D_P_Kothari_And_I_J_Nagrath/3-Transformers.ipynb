{
"cells": [
 {
		   "cell_type": "markdown",
	   "metadata": {},
	   "source": [
       "# Chapter 3: Transformers"
	   ]
	},
{
		   "cell_type": "markdown",
		   "metadata": {},
		   "source": [
			"## Example 3.10: To_find_exciting_current_and_expess_impedence_in_pu_in_both_HV_and_LV_sides.sci"
		   ]
		  },
  {
"cell_type": "code",
	   "execution_count": null,
	   "metadata": {
	    "collapsed": true
	   },
	   "outputs": [],
"source": [
"//To find exciting current and expess impedence in pu in both HV and LV sides\n",
"\n",
"clc;\n",
"\n",
"V_BHV=2000;\n",
"I_BHV=10;\n",
"Z_BHV=V_BHV/I_BHV;\n",
"\n",
"V_BLV=200;\n",
"I_BLV=100;\n",
"Z_BLV=V_BLV/I_BLV;\n",
"\n",
"I_o=3;\n",
"a=V_BHV/V_BLV;\n",
"\n",
"I_oLV=I_o/100;    disp(I_oLV,'I_o(LV)pu=');\n",
"I_oHV=I_o/(a*10);    disp(I_oHV,'I_o(HV)pu=');\n",
"\n",
"Z=complex(8.2,10.2);\n",
"ZHV=Z/Z_BHV;    disp(ZHV,'Z(HV)pu=');\n",
"z=Z/a^2;    \n",
"ZLV=z/Z_BLV;    disp(ZLV,'Z(LV)pu=');"
   ]
   }
,
{
		   "cell_type": "markdown",
		   "metadata": {},
		   "source": [
			"## Example 3.11: o_calculate_efficiency_of_transformer.sci"
		   ]
		  },
  {
"cell_type": "code",
	   "execution_count": null,
	   "metadata": {
	    "collapsed": true
	   },
	   "outputs": [],
"source": [
"// To calculate efficiency of transformer\n",
"\n",
"clc;\n",
"\n",
"V_2=200;\n",
"I_2=100;\n",
"pf=.8;\n",
"P_o=V_2*I_2*pf;            //power output\n",
"\n",
"P_i=120;\n",
"P_c=300;\n",
"k=1;\n",
"P_L=P_i+k^2*P_c;            //total losses\n",
"\n",
"n=1-(P_L/(P_o+P_L));       disp(n*100,'n(%)');\n",
"\n",
"K=sqrt(P_i/P_c);            //max efficiency\n",
"\n",
"n_max=1-(2*P_i/(P_o*K+2*P_i));        //pf=.8\n",
"disp(n_max*100,'n_max(%)');"
   ]
   }
,
{
		   "cell_type": "markdown",
		   "metadata": {},
		   "source": [
			"## Example 3.13: comparing_all_day_efficiencies_for_diff_given_load_cycles.sci"
		   ]
		  },
  {
"cell_type": "code",
	   "execution_count": null,
	   "metadata": {
	    "collapsed": true
	   },
	   "outputs": [],
"source": [
"// Comparing all-day efficiencies for diff given load cycles\n",
"\n",
"clc;\n",
"\n",
"r=15;             // kva rating\n",
"n_max=.98;\n",
"pf=1;\n",
"P_o=20;\n",
"P_i=r*(1-n_max)/2; \n",
"k=r*pf/P_o;\n",
"P_c=P_i/(k^2);\n",
"function [W_o,W_in]=power(P_o,h)\n",
"    k=P_o/20;\n",
"    P_c=P_i*P_o/r;\n",
"    W_o=P_o*h;\n",
"    W_in=(P_o+P_i+(k^2)*P_c)*h;\n",
"endfunction\n",
"\n",
"//(a)full load of 20kva 12hrs/day and no load rest of the day\n",
"a=[20 12];\n",
"[W_oa(1),W_ina(1)]=power(a(1),a(2));\n",
"aa=[0 12];\n",
"[W_oa(2),W_ina(2)]=power(aa(1),aa(2));\n",
"disp(W_oa,'W_o(kWh) for a');\n",
"disp(W_ina,'W_in(kWh) for a');\n",
"n_ada=sum(W_oa)/sum(W_ina);    disp(n_ada*100,'n_allday(a) in %age');\n",
"\n",
"//(b)full load of 20kva 4hrs/day and .4 of full load rest of the day\n",
"b=[20 4];\n",
"[W_ob(1),W_inb(1)]=power(b(1),b(2));\n",
"bb=[8 20];\n",
"[W_ob(2),W_inb(2)]=power(bb(1),bb(2));\n",
"disp(W_ob,'W_o(kWh) for b');\n",
"disp(W_inb,'W_in(kWh) for b');\n",
"n_adb=sum(W_ob)/sum(W_inb);    disp(n_adb*100,'n_allday(b) in %age');\n",
"\n",
""
   ]
   }
,
{
		   "cell_type": "markdown",
		   "metadata": {},
		   "source": [
			"## Example 3.14: EX3_14.sci"
		   ]
		  },
  {
"cell_type": "code",
	   "execution_count": null,
	   "metadata": {
	    "collapsed": true
	   },
	   "outputs": [],
"source": [
"// To calculate volatage regulation, volatage at load terminals and operating efficiency\n",
"\n",
"clc;\n",
"S=20*1000;\n",
"V1=200;\n",
"V2=2000;\n",
"I1=S/V1;\n",
"I2=S/V2;\n",
"Rh=3;\n",
"Xh=5.2;\n",
"pf=0.8;            \n",
"phi=acosd(pf);\n",
"Vha=V2+I2*(Rh*cosd(phi)+Xh*sind(phi));        //lagging\n",
"Vrega=(Vha-V2)*100/V2;     disp(Vrega,'vol-reg lagging(%)');\n",
"Vhb=V2+I2*(Rh*cosd(phi)-Xh*sind(phi));        //leading\n",
"Vregb=(Vhb-V2)*100/V2;     disp(Vregb,'vol-reg leading(%)');\n",
"\n",
"V11=V2-I2*(Rh*cosd(phi)+Xh*sind(phi));\n",
"v1=V11/I2;        disp(v1,'V_L(V)');\n",
"ploss=120+10*10*3;\n",
"pop=v1*I1*cosd(phi);\n",
"eff=(1-(ploss/(ploss+pop)))*100;\n",
"disp(eff,'eff(%)');"
   ]
   }
,
{
		   "cell_type": "markdown",
		   "metadata": {},
		   "source": [
			"## Example 3.15: To_determine_voltage_regulation_and_efficiency.sci"
		   ]
		  },
  {
"cell_type": "code",
	   "execution_count": null,
	   "metadata": {
	    "collapsed": true
	   },
	   "outputs": [],
"source": [
"// To determine voltage regulation and efficiency\n",
"\n",
"clc;\n",
"\n",
"r=150*1000;                    //rating in va\n",
"v1=2400;\n",
"v2=240;\n",
"a=v2/v1;\n",
"R_hv=.2+.002/a^2;\n",
"X_hv=.45+.0045/a^2;\n",
"I_2fl=r/v2;\n",
"pf=0.8        //lagging\n",
"phi=acosd(pf);\n",
"I_2=I_2fl*a;\n",
"vd=I_2*(R_hv*cosd(phi)+X_hv*sind(phi));\n",
"V2=v1;\n",
"vr=(vd/V2)*100;        disp(vr,'vol reg(%)');\n",
"V1=v1+vd;\n",
"P_out=r*pf;\n",
"P_c=(I_2^2)*R_hv;        //copper loss\n",
"P_i=(V1^2)/10000;\n",
"P_L=P_c+P_i;\n",
"n=P_out/(P_out+P_L);        disp(n*100,'eff(%)');\n",
"\n",
"I_o(1)=V1/(10*1000);\n",
"I_o(2)=-V1/(1.6*1000);       //inductive effect\n",
"I2(1)=I_2*(cosd(phi));    \n",
"I2(2)=I_2*(-sind(phi));\n",
"I_1=I_o+I2;     \n",
"b=sqrt(I_1(1)^2+I_1(2)^2);\n",
"disp(b,'I_1(A)');\n",
"pff=cosd(atand(I_1(2)/I_1(1)));\n",
"disp(pff,'pf');"
   ]
   }
,
{
		   "cell_type": "markdown",
		   "metadata": {},
		   "source": [
			"## Example 3.16: to_calculate_voltage_ratings_kva_ratings_and_efficieny_of_autotransformer.sci"
		   ]
		  },
  {
"cell_type": "code",
	   "execution_count": null,
	   "metadata": {
	    "collapsed": true
	   },
	   "outputs": [],
"source": [
"// to calculate voltage ratings,kva ratings and efficieny of autotransformer\n",
"\n",
"clc;\n",
"\n",
"AB=200;\n",
"BC=2000;\n",
"V_1=BC;        disp(V_1,'V_1(V)');\n",
"V_2=AB+BC;     disp(V_2,'V_2(V)');\n",
"r=20000;            //rating of transformer\n",
"I_2=r/AB;\n",
"I_1=I_2+10;\n",
"rr=V_2*I_2/1000;        //kva rating of autotransformer\n",
"disp(rr,'kva rating');\n",
"ri=V_1*(I_1-I_2)/1000;    //kva inductive\n",
"rc=rr-ri;\n",
"disp(ri,'kva transferred inductively');\n",
"disp(rc,'kva transferred conductively');\n",
"W_c=120;            //core loss\n",
"W_cu=300;            //cu loss\n",
"W_t=W_c+W_cu;        //total loss\n",
"pf=0.8;\n",
"W=V_2*I_2*pf;        //full load output\n",
"n=1-(W_t/W);\n",
"disp(n*100,'eff(%)');"
   ]
   }
,
{
		   "cell_type": "markdown",
		   "metadata": {},
		   "source": [
			"## Example 3.17: To_determine_the_rating_and_full_load_efficiency_of_autotransformer.sci"
		   ]
		  },
  {
"cell_type": "code",
	   "execution_count": null,
	   "metadata": {
	    "collapsed": true
	   },
	   "outputs": [],
"source": [
"// To determine the rating and full load efficiency of autotransformer\n",
"\n",
"clc;\n",
"//when used as transformer\n",
"v1=240;\n",
"v2=120;\n",
"r=12000;\n",
"I1=r/v1;\n",
"I2=r/v2;\n",
"\n",
"//when connected as autotransformer\n",
"V1=240;\n",
"V2=v1+v2;\n",
"rr=I2*V2;            disp(rr,'rating of autotransformer(va)');\n",
"\n",
"pf=1;\n",
"P_o=r*pf;            //output power\n",
"n=.962            //efficiency at upf\n",
"P_L=P_o*(1-n)/n;\n",
"\n",
"pff=.85            //if pf=.85\n",
"Po=rr*pff;\n",
"nn=1/(1+P_L/Po);        disp(nn*100,'efficiency(%) at .85 pf is');"
   ]
   }
,
{
		   "cell_type": "markdown",
		   "metadata": {},
		   "source": [
			"## Example 3.18: To_calculate_sec_line_voltage_line_current_and_output_va.sci"
		   ]
		  },
  {
"cell_type": "code",
	   "execution_count": null,
	   "metadata": {
	    "collapsed": true
	   },
	   "outputs": [],
"source": [
"// To calculate sec. line voltage, line current and output va\n",
"\n",
"clc;\n",
"\n",
"disp('(a)Y/D conn');\n",
"V_LY=6600;\n",
"V_PY=V_LY/sqrt(3);\n",
"a=12;\n",
"V_PD=V_PY/a;\n",
"V_LD=V_PD;    disp(V_LD,'sec line voltage(V)');\n",
"\n",
"I_PY=10;\n",
"I_PD=I_PY*a;\n",
"I_LD=I_PD*sqrt(3);    disp(I_LD,'sec. line current(A)');\n",
"r=sqrt(3)*V_LD*I_LD;    disp(r,'output rating(va)');\n",
"\n",
"disp('(b)D/Y conn');\n",
"I_LD=10;\n",
"I_PD=I_LD/sqrt(3);\n",
"I_LY=I_PD*a;        disp(I_LY,'sec. line current(A)');\n",
"V_PD=6600;\n",
"V_PY=V_PD/a;\n",
"V_LY=V_PY*sqrt(3);    disp(V_LY,'sec line voltage(V)');\n",
"r=sqrt(3)*V_LY*I_LY;    disp(r,'output rating(va)');"
   ]
   }
,
{
		   "cell_type": "markdown",
		   "metadata": {},
		   "source": [
			"## Example 3.19: To_compute_all_the_currents_and_voltages_in_all_windings_of_Y_D_transformer.sci"
		   ]
		  },
  {
"cell_type": "code",
	   "execution_count": null,
	   "metadata": {
	    "collapsed": true
	   },
	   "outputs": [],
"source": [
"// To compute all the currents and voltages in all windings of Y/D transformer\n",
"\n",
"clc;\n",
"\n",
"S=complex(500,100);        //load is 500MW and 100MVar\n",
"s=abs(S);\n",
"r=s/3;        //MVA rating of each single ph transformer\n",
"\n",
"V1=22;        //D side\n",
"V2=345;        //Y side\n",
"a=V2/(sqrt(3)*V1);        //voltage rating of each single phase\n",
"disp('Y side');\n",
"V_A=(V2/sqrt(3))*complex(cosd(0),sind(0));\n",
"V_B=(V2/sqrt(3))*complex(cosd(-120),sind(-120));\n",
"V_C=(V2/sqrt(3))*complex(cosd(-240),sind(-240));\n",
"\n",
"V_AB=V_A-V_B;    disp(V_AB,'V_AB(V)');\n",
"V_BC=V_B-V_C;    disp(V_BC,'V_BC(V)');\n",
"V_CA=V_C-V_A;    disp(V_CA,'V_CA(V)');\n",
"\n",
"IA=S/(3*V_A);    disp(IA,'IA(A)');\n",
"IB=S/(3*V_B);    disp(IB,'IB(A)');\n",
"IC=S/(3*V_C);    disp(IC,'IC(A)');\n",
"disp('D side');\n",
"V_ab=V_A/a;    disp(V_ab,'V_ab(V)');\n",
"V_bc=V_B/a;    disp(V_bc,'V_bc(V)');\n",
"V_ca=V_C/a;    disp(V_ca,'V_ca(V)');\n",
"\n",
"I_ab=a*IA;\n",
"I_bc=a*IB;\n",
"I_ca=a*IC;\n",
"Ia=I_ab-I_bc;    disp(Ia,'Ia(A)');\n",
"Ib=I_bc-I_ca;    disp(Ib,'Ib(A)');\n",
"Ic=I_ca-I_ab;    disp(Ic,'Ic(A)');"
   ]
   }
,
{
		   "cell_type": "markdown",
		   "metadata": {},
		   "source": [
			"## Example 3.1: EX3_1.sci"
		   ]
		  },
  {
"cell_type": "code",
	   "execution_count": null,
	   "metadata": {
	    "collapsed": true
	   },
	   "outputs": [],
"source": [
"// To determine no load power factor,core loss current and magnetising current\n",
"//  and no load ckt parameters of transformer\n",
"\n",
"clc;\n",
"Pi=50;\n",
"V1=230;\n",
"Io=2;\n",
"pf=Pi/(V1*Io);disp(pf,'no load power factor');\n",
"Im=Io*sind(acosd(pf));disp(Im,'magnetising current(A)');\n",
"Ii=Io*pf;disp(Ii,'core loss current(A)');\n",
"Gi=Pi/V1^2;disp(Gi,'Gi(mho)');\n",
"Bm=Im/V1;disp(Bm,'Bm(mho)');"
   ]
   }
,
{
		   "cell_type": "markdown",
		   "metadata": {},
		   "source": [
			"## Example 3.20: to_find_the_load_voltage_when_it_draws_rated_current_from_transformer.sci"
		   ]
		  },
  {
"cell_type": "code",
	   "execution_count": null,
	   "metadata": {
	    "collapsed": true
	   },
	   "outputs": [],
"source": [
"// to find the load voltage when it draws rated current from transformer\n",
"\n",
"clc;\n",
"// here pu method is used\n",
"r=20;        //kva rating of three 1-ph transformer\n",
"MVA_B=r*3/1000;\n",
"v2=2*sqrt(3);        //in kv voltage base on hv side\n",
"v1=.2;        //in kv voltage base on lv side\n",
"\n",
"z1=complex(.0004,.0015);        //feeder impedence\n",
"Z1=z1*MVA_B/v1^2;        // lv line(pu)\n",
"z2=complex(.13,.95);        //load impedence\n",
"Z2=z2*MVA_B/v2^2;        // hv line(pu)\n",
"z_T=complex(.82,1.02);\n",
"ZTY=z_T*MVA_B/v2^2;        // star side(pu)\n",
"\n",
"Ztot=Z1+Z2+ZTY;\n",
"V1=1;        //sending end voltage [pu]\n",
"I1=1;        //rated current(pu)\n",
"pf=.8;\n",
"V2=V1-I1*(real(Ztot)*pf+imag(Ztot)*.6);        //load voltage(pu)\n",
"V2v=V2*v1;\n",
"disp(V2v,'load voltage(kv)');"
   ]
   }
,
{
		   "cell_type": "markdown",
		   "metadata": {},
		   "source": [
			"## Example 3.21: EX3_21.sci"
		   ]
		  },
  {
"cell_type": "code",
	   "execution_count": null,
	   "metadata": {
	    "collapsed": true
	   },
	   "outputs": [],
"source": [
"// to calculate fault currentin feeder lines,primary and secondary lines of receiving end transformers\n",
"\n",
"clc;\n",
"\n",
"r=60;        //kva rating of 3-ph common base\n",
"s=200;        //kva rating of 3ph transformer\n",
"//sending end\n",
"X_Tse=.06*r/s;    //.06= reactance of transformer based on its own rating\n",
"//in 2 kv feeder\n",
"V_B=2000/sqrt(3);    //line to neutral\n",
"I_B=r*1000/(sqrt(3)*2000);\n",
"Z_B=V_B/I_B;\n",
"X_feeder=0.7/Z_B;        //feeder reactance=0.7\n",
"//receiving end\n",
"X_Tre=0.0051;\n",
"X_tot=X_Tse+X_feeder+X_Tre;\n",
"V_se=20/20;\n",
"I_fc=V_se/X_tot;    //feeder current\n",
"\n",
"I_f=I_fc*I_B;    disp(I_f,'current in 2kv feeder(A)');\n",
"I_t1=I_f/sqrt(3);    disp(I_t1,'current in 2kv winding of transformer(A)');\n",
"I_t2=I_t1*10;    disp(I_t2,'current in 200kv winding of transformer(A)');\n",
"I_l=I_t2*sqrt(3);    disp(I_l,'current at load terminals(A)');"
   ]
   }
,
{
		   "cell_type": "markdown",
		   "metadata": {},
		   "source": [
			"## Example 3.22: To_calculate_voltage_and_kva_rating_of_1ph_transformer.sci"
		   ]
		  },
  {
"cell_type": "code",
	   "execution_count": null,
	   "metadata": {
	    "collapsed": true
	   },
	   "outputs": [],
"source": [
"// To calculate voltage and kva rating of 1-ph transformer\n",
"\n",
"clc;\n",
"\n",
"V_p=33;    //primary side voltage(V)\n",
"V_s=11;    //secondary side voltage(V)\n",
"V_p1=V_p/sqrt(3);    //per ph primary side voltage(V)\n",
"V_p2=V_s/sqrt(3);    //per ph secondary side voltage(V)\n",
"\n",
"r=6000;    //kva rating 3-ph\n",
"s=r/3;    //per phase\n",
"disp('Y/Y conn');\n",
"disp(V_p1,'primary side ph voltage(V)');\n",
"disp(V_p2,'secondary side ph voltage(V)');\n",
"disp(s,'kva rating of transformer');\n",
"\n",
"disp('Y/D conn');\n",
"disp(V_p1,'primary side ph voltage(V)');\n",
"disp(V_s,'secondary side ph voltage(V)');\n",
"disp(s,'kva rating of transformer');\n",
"\n",
"disp('D/Y conn');\n",
"disp(V_p,'primary side ph voltage(V)');\n",
"disp(V_p2,'secondary side ph voltage(V)');\n",
"disp(s,'kva rating of transformer');\n",
"\n",
"disp('D/D conn');\n",
"disp(V_p,'primary side ph voltage(V)');\n",
"disp(V_s,'secondary side ph voltage(V)');\n",
"disp(s,'kva rating of transformer');"
   ]
   }
,
{
		   "cell_type": "markdown",
		   "metadata": {},
		   "source": [
			"## Example 3.23: EX3_23.sci"
		   ]
		  },
  {
"cell_type": "code",
	   "execution_count": null,
	   "metadata": {
	    "collapsed": true
	   },
	   "outputs": [],
"source": [
"// to calculate (a)reactance in ohms(b)line voltage,kva rating,series reactance for Y/Y   and Y/D conn\n",
"\n",
"clc;\n",
"Xpu=0.12;    // of 1-ph transformer\n",
"\n",
"function [X]=Xohm(kv,MVA)\n",
"    X=(Xpu*kv^2)/MVA;\n",
"endfunction\n",
"\n",
"disp('(a)');\n",
"MVAa=75*10^-3;\n",
"Vhv=6.6;    \n",
"Vlv=.4;\n",
"Xhv=Xohm(Vhv,MVAa);     disp(Xhv,'X(ohm)of hv side');\n",
"Xlv=Xohm(Vlv,MVAa);     disp(Xlv,'X(ohm)of lv side');\n",
"\n",
"disp('(b)');\n",
"disp('Y/Y');\n",
"MVAb=MVAa*3;\n",
"Vhv=6.6*sqrt(3);    disp(Vhv,'V_hv(kV)');\n",
"Vlv=.4*sqrt(3);     disp(Vlv,'V_lv(kV)');\n",
"Xhv=Xohm(Vhv,MVAb);     disp(Xhv,'X(ohm)of hv side');\n",
"Xlv=Xohm(Vlv,MVAb);     disp(Xlv,'X(ohm)of lv side');\n",
"\n",
"disp('Y/D');\n",
"MVAb=MVAa*3;\n",
"Vhv=6.6*sqrt(3);    disp(Vhv,'V_hv(kV)');\n",
"Vlv=.4;             disp(Vlv,'V_lv(kV)');\n",
"Xhv=Xohm(Vhv,MVAb);     disp(Xhv,'X(ohm)of hv side');\n",
"Xlv=Xohm(Vlv,MVAb);     disp(Xlv,'X(ohm)of lv side');"
   ]
   }
,
{
		   "cell_type": "markdown",
		   "metadata": {},
		   "source": [
			"## Example 3.24: find_how_2_transformers_connected_in_parallel_share_the_load.sci"
		   ]
		  },
  {
"cell_type": "code",
	   "execution_count": null,
	   "metadata": {
	    "collapsed": true
	   },
	   "outputs": [],
"source": [
"//find how 2 transformers connected in parallel share the load\n",
"\n",
"clc;\n",
"Z1=complex(.012,.06);\n",
"Z2=2*complex(.014,.045);\n",
"Z=Z1+Z2;\n",
"r=800;        //kva rating\n",
"pf=.8;\n",
"S_L=r*(complex(pf,-1*sind(acosd(pf))));\n",
"S_1=S_L*Z2/Z;disp(S_1,'load by first transformer(kVA)');\n",
"S_2=S_L*Z1/Z;disp(S_2,'load by second transformer(kVA)');\n",
"\n",
"S_2rated=300;\n",
"S_Lmax=S_2rated*abs(Z)/abs(Z1);\n",
"disp(S_Lmax,'max load by both transformer(kVA)');\n",
"\n",
"r1=600;        //kva\n",
"V=440;\n",
"Z1actual=Z1*V/(r1*1000/V);\n",
"Z2actual=Z2*V/(r1*1000/V);\n",
"Zactual=Z1actual+Z2actual;\n",
"Z_Lact=V^2/(S_L*1000);\n",
"\n",
"V1=445;\n",
"I1=(V1*Z2actual-10*Z_Lact)/(Z1actual*Z2actual+Z_Lact*Zactual);\n",
"I2=(V1*-1*Z1actual-10*Z_Lact)/(Z1actual*Z2actual+Z_Lact*Zactual);\n",
"S1=V*I1/1000;    disp(S1,'kVA of first transformer');\n",
"S2=V*I2/1000;    disp(S2,'kVA of second transformer');\n",
"Pout=abs(S1)*cosd(atand(imag(S1)/real(S1)))+abs(S2)*cosd(atand(imag(S2)/real(S2)));\n",
"disp(Pout,'total output power(kW)');"
   ]
   }
,
{
		   "cell_type": "markdown",
		   "metadata": {},
		   "source": [
			"## Example 3.25: find_pu_value_of_the_equivalent_ckt_steady_state_short_ckt_current_and_voltages.sci"
		   ]
		  },
  {
"cell_type": "code",
	   "execution_count": null,
	   "metadata": {
	    "collapsed": true
	   },
	   "outputs": [],
"source": [
"//find pu value of the equivalent ckt,steady state short ckt current and voltages\n",
"\n",
"clc;\n",
"r=5;        //MVA rating\n",
"V_Bp=6.35;    //for primary\n",
"I_Bp=r*1000/V_Bp;\n",
"V_Bs=1.91;    //for secondary\n",
"I_Bs=r*1000/V_Bs;\n",
"//from resp tests\n",
"V1=.0787;\n",
"I1=.5;\n",
"V2=.1417;\n",
"I2=.5;\n",
"V3=.1212;\n",
"I3=.5;\n",
"X12=V1/I1;\n",
"X13=V2/I2;\n",
"X23=V3/I3;\n",
"X1=I1*(X12+X13-X23);\n",
"X2=I2*(X23+X12-X13);\n",
"X3=I3*(X13+X23-X12);\n",
"disp(X1,'X1(pu)');\n",
"disp(X2,'X2(pu)');\n",
"disp(X3,'X3(pu)');\n",
"\n",
"V1=1;\n",
"I_sc=V1/X13;\n",
"I_scp=I_sc*I_Bp;    disp(I_scp,'sc current primary side(A)');\n",
"I_sct=I_sc*r*1000*1000/(400/sqrt(3));    disp(I_sct,'sc current tertiary side(A)');\n",
"V_A=I_sc*X3;\n",
"V_Aact=V_A*1.91*sqrt(3);\n",
"disp(V_Aact,'V_A(actual) line to line(kV)');"
   ]
   }
,
{
		   "cell_type": "markdown",
		   "metadata": {},
		   "source": [
			"## Example 3.26: to_calculate_line_currents_of_3_ph_side.sci"
		   ]
		  },
  {
"cell_type": "code",
	   "execution_count": null,
	   "metadata": {
	    "collapsed": true
	   },
	   "outputs": [],
"source": [
"// to calculate line currents of 3 ph side\n",
"\n",
"clc;\n",
"N1=6600;\n",
"N2=100;\n",
"a=N1/N2;\n",
"b=(sqrt(3)/2)*a;\n",
"P=400;    //kW\n",
"pfa=.707;\n",
"pfb=1;\n",
"V=100;\n",
"Ia=P*1000/(V*pfa);\n",
"Ib=P*2*1000/(V*pfb);\n",
"I_A=Ia/b;disp(I_A,'I_A(A)');\n",
"I_BC=Ib/a;\n",
"I_B=I_BC-49.5*complex(pfa,pfa);    disp(abs(I_B),'I_B(A)');\n",
"I_C=I_BC+49.5*complex(pfa,-1*pfa);disp(abs(I_C),'I_C(A)');\n",
""
   ]
   }
,
{
		   "cell_type": "markdown",
		   "metadata": {},
		   "source": [
			"## Example 3.27: to_calculate_magnitude_and_phase_of_secondary_current.sci"
		   ]
		  },
  {
"cell_type": "code",
	   "execution_count": null,
	   "metadata": {
	    "collapsed": true
	   },
	   "outputs": [],
"source": [
"//to calculate magnitude and phase of secondary current\n",
"\n",
"clc;\n",
"X1=505;    //uohm\n",
"X2=551;    //uohm\n",
"R1=109;    //uohm\n",
"R2=102;    //uohm\n",
"Xm=256;    //mohm\n",
"I1=250;    //A\n",
"I22=complex(0,Xm*1000)*I1/(complex(R1,X2+Xm*1000));\n",
"N1=250;\n",
"N2=5;\n",
"I2=I22*(N2/N1);\n",
"disp(abs(I2),'current magnitude(A)');\n",
"disp(atand(imag(I2)/real(I2)),'phase(degree)');\n",
"disp('now Rb is introduced in series');\n",
"Rbb=200;    //uohm\n",
"Rb=(N2/N1)^2*Rbb;\n",
"I22=complex(0,Xm*1000)*I1/(complex((R1+Rb),X2+Xm*1000));\n",
"I2=I22*(N2/N1);\n",
"disp(abs(I2),'current magnitude(A)');\n",
"disp(atand(imag(I2)/real(I2)),'phase(degree)');\n",
"disp('no chnage as Rb is negligible');"
   ]
   }
,
{
		   "cell_type": "markdown",
		   "metadata": {},
		   "source": [
			"## Example 3.28: to_calculate_sec_voltage_magnitude_and_ph.sci"
		   ]
		  },
  {
"cell_type": "code",
	   "execution_count": null,
	   "metadata": {
	    "collapsed": true
	   },
	   "outputs": [],
"source": [
"//to calculate sec voltage magnitude and ph\n",
"\n",
"clc;\n",
"a=6000/100;    //turn ratio\n",
"R1=780;\n",
"R2=907;\n",
"X1=975;\n",
"X2=1075;\n",
"Xm=443*1000;\n",
"disp('sec open');\n",
"//Zb=inf;\n",
"V1=6500;\n",
"V22=complex(0,Xm)*V1/complex(R1,Xm);\n",
"V2=V22/a;\n",
"disp(abs(V2),'voltage magnitude(V)');\n",
"disp(atand(imag(V2)/real(V2)),'phase(deg)');\n",
"\n",
"disp('when Zb=Rb');\n",
"Rb=1;\n",
"Rbb=Rb*a^2;\n",
"Zm=complex(0,Xm/1000)*Rbb/complex(0,Xm/1000)+Rbb;\n",
"R=complex(R1/1000,X1/1000)+Zm;\n",
"Vm=Zm*V1/R;\n",
"V2=Vm/a;\n",
"disp(abs(V2),'voltage magnitude(V)');\n",
"disp(atand(imag(V2)/real(V2)),'phase(deg)');\n",
"\n",
"disp('when Zb=jXb');\n",
"Rb=complex(0,1);\n",
"Rbb=Rb*a^2;\n",
"Zm=complex(0,Xm/1000)*Rbb/complex(0,Xm/1000)+Rbb;\n",
"R=complex(R1/1000,X1/1000)+Zm;\n",
"Vm=Zm*V1/R;\n",
"V2=Vm/a;\n",
"disp(abs(V2),'voltage magnitude(V)');\n",
"disp(atand(imag(V2)/real(V2)),'phase(deg)');"
   ]
   }
,
{
		   "cell_type": "markdown",
		   "metadata": {},
		   "source": [
			"## Example 3.29: to_calculate_L1_and_L2_and_coupling_cofficient.sci"
		   ]
		  },
  {
"cell_type": "code",
	   "execution_count": null,
	   "metadata": {
	    "collapsed": true
	   },
	   "outputs": [],
"source": [
"//to calculate L1 and L2 and coupling cofficient\n",
"\n",
"clc;\n",
"a=10;\n",
"V_p=200;\n",
"I_p=4;\n",
"Xm=V_p/I_p;\n",
"f=50;\n",
"L1=Xm/(2*%pi*f);disp(L1,'L1(H)');\n",
"V_s=1950;\n",
"w_max=V_s/(sqrt(2)*%pi*f);\n",
"M=w_max/(sqrt(2)*I_p);\n",
"\n",
"v_s=2000;\n",
"i_s=.41;\n",
"w_max=sqrt(2)*i_s*M;\n",
"E1=sqrt(2)*%pi*f*w_max;\n",
"L2=v_s/(sqrt(2)*%pi*f*sqrt(2)*i_s);disp(L2,'L2(H)');\n",
"k=M/(sqrt(L1)*sqrt(L2));disp(k,'coupling coeff');"
   ]
   }
,
{
		   "cell_type": "markdown",
		   "metadata": {},
		   "source": [
			"## Example 3.2: To_calculate_no_load_current_and_its_pf_and_no_load_power_drawn_from_mains.sci"
		   ]
		  },
  {
"cell_type": "code",
	   "execution_count": null,
	   "metadata": {
	    "collapsed": true
	   },
	   "outputs": [],
"source": [
"// To calculate no load current and its pf and no load power drawn from mains\n",
"\n",
"clc;\n",
"E=200;\n",
"f=50;\n",
"N1=150;        // no of turns\n",
"b1=.1;\n",
"b2=.05;\n",
"phi_max=E/(4.44*f*N1);\n",
"disp(phi_max,'flux(Wb)');\n",
"B_max=phi_max/(b1*b2);\n",
"disp(B_max,'B_max(T)');\n",
"\n",
"H_max=250;        //According to B_max, H_max is 250AT/m\n",
"l_c=.2*(3.0+3.5);    //length of core\n",
"AT_max=H_max*l_c;\n",
"disp(AT_max,'AT_max');\n",
"T_max=N1;\n",
"I_mmax=AT_max/T_max;\n",
"I_mrms=I_mmax/2^.5;\n",
"disp(I_mrms,'I_mrms(A)');\n",
"\n",
"v=2*(20*10*5)+2*(45*10*5);\n",
"\n",
"d=.0079;            //density of core material\n",
"w=v*d;\n",
"\n",
"cl=3;                //core loss/kg\n",
"closs=w*cl;\n",
"disp(closs,'core loss(W)');\n",
"I_i=closs/E;\n",
"disp(I_i,'I_i(A)');\n",
"function [r,pff]=rect2polar(x,y)\n",
"    r=sqrt(x^2+y^2);\n",
"    pff=cosd(atand(y/x));\n",
"endfunction\n",
"[I_o,pf]=rect2polar(I_i,-I_mmax);\n",
"disp(I_o,'no load current(A)');\n",
"disp(pf,'no load power factor');"
   ]
   }
,
{
		   "cell_type": "markdown",
		   "metadata": {},
		   "source": [
			"## Example 3.30: EX3_30.sci"
		   ]
		  },
  {
"cell_type": "code",
	   "execution_count": null,
	   "metadata": {
	    "collapsed": true
	   },
	   "outputs": [],
"source": [
"// to calculate leakage inductance, magnetisisng inductance,mutual inductance and self-inductance\n",
"\n",
"clc;\n",
"V1=2400;\n",
"V2=240;\n",
"a=V1/V2;\n",
"R1=.2;\n",
"X1=.45;\n",
"Rl=10000;\n",
"R2=2*10^-3;\n",
"X2=4.5*10^-3;\n",
"Xm=1600;\n",
"f=50;\n",
"l1=X1/(2*%pi*f);disp(l1,'leakage inductance ie l1(H)');\n",
"l2=X2/(2*%pi*f);disp(l2,'l2(H)');\n",
"Lm1=Xm/(2*%pi*f);disp(Lm1,'magnetising inductance(H)');\n",
"L1=Lm1+l1;disp(L1,'self-inductance ie L1(H)');\n",
"M=Lm1/a;\n",
"L2=l2+M/a;disp(L2,'L2(H)');\n",
"k=M/sqrt(L1*L2);disp(k,'coupling factor');"
   ]
   }
,
{
		   "cell_type": "markdown",
		   "metadata": {},
		   "source": [
			"## Example 3.31: to_calculate_percentage_voltage_reg_and_efficiency.sci"
		   ]
		  },
  {
"cell_type": "code",
	   "execution_count": null,
	   "metadata": {
	    "collapsed": true
	   },
	   "outputs": [],
"source": [
"//to calculate %voltage reg and efficiency\n",
"\n",
"clc;\n",
"P=500000;\n",
"V1=2200;\n",
"V2=1100;\n",
"V0=110;\n",
"I0=10;\n",
"P0=400;\n",
"Y0=I0/V0;\n",
"Gi=P0/(V0^2);\n",
"Bm=sqrt(Y0^2-Gi^2);\n",
"Vsc=90;\n",
"Isc=20.5;\n",
"Psc=808;\n",
"Z=Vsc/Isc;\n",
"R=Psc/Isc^2;\n",
"X=sqrt(Z^2-R^2);\n",
"TR=V1/V2;\n",
"Gi_HV=Gi/TR^2;\n",
"Bm_HV=Bm/TR^2;\n",
"R_LV=R/TR^2;\n",
"X_LV=X/TR^2;\n",
"I2=P/V2;\n",
"pf=.8;\n",
"Th=acos(pf);\n",
"dV=I2*(R_LV*cos(Th)+X_LV*sin(Th));\n",
"VR=(dV/V2)*100;    disp(VR,'voltage regulation(%)');\n",
"Pi=P0;\n",
"Pc=Psc;\n",
"n=P*100/(P+Pi+Pc);disp(n,'eff(%)');"
   ]
   }
,
{
		   "cell_type": "markdown",
		   "metadata": {},
		   "source": [
			"## Example 3.3: EX3_3.sci"
		   ]
		  },
  {
"cell_type": "code",
	   "execution_count": null,
	   "metadata": {
	    "collapsed": true
	   },
	   "outputs": [],
"source": [
"// To calculate primary and scondary side impedences,current and their pf and real power\n",
"// and calculate terminal voltage\n",
"\n",
"clc;\n",
"N_1=150;\n",
"N_2=75;\n",
"\n",
"a=N_1/N_2;\n",
"\n",
"Z_2=[5,30];                //polar(magnitude,phase diff)\n",
"disp(Z_2,'secondary impedence(ohm)');\n",
"Z_1=[a^2*Z_2(1),Z_2(2)];\n",
"disp(Z_1,'primary impedence(ohm)');\n",
"\n",
"V_1=[200,0];                //polar(magnitde,phase diff)\n",
"V_2=[V_1(1)/a,V_1(2)];\n",
"disp(V_2,'secondary terminal voltage(V)');\n",
"\n",
"I_2(1)=V_2(1)/Z_2(1);\n",
"I_2(2)=V_2(2)-Z_2(2);\n",
"disp(I_2,'I_2=');\n",
"pf=cosd(I_2(2));\n",
"disp(pf,'pf lagging=');\n",
"\n",
"I_1(1)=I_2(1)/a;\n",
"I_1(2)=I_2(2);\n",
"disp(I_1,'I_1(A)');\n",
"pf=cosd(I_1(2));\n",
"disp(pf,'pf lagging=');\n",
"\n",
"P_2=V_2(1)*I_2(1)*cosd(I_2(2));   \n",
"disp(P_2,'secondary power output(W)=');\n",
"//P_1=primary power output\n",
"P_1=P_2                            //as the transormer is lossless\n",
"disp(P_1,'primary power output(W)=');"
   ]
   }
,
{
		   "cell_type": "markdown",
		   "metadata": {},
		   "source": [
			"## Example 3.4: To_calculate_primary_current_and_its_pf.sci"
		   ]
		  },
  {
"cell_type": "code",
	   "execution_count": null,
	   "metadata": {
	    "collapsed": true
	   },
	   "outputs": [],
"source": [
"// To calculate primary current and its pf\n",
"\n",
"clc;\n",
"\n",
"function [x,y]=polar2rect(r,theta)\n",
"    x=r*cosd(theta);\n",
"    y=r*sind(theta);\n",
"endfunction\n",
"\n",
"function [r,theta]=rect2polar(x,y)\n",
"    r=sqrt(x^2+y^2);\n",
"    theta=atand(y/x);\n",
"endfunction\n",
"\n",
"I_2=[10 -30];\n",
"[I_2r(1),I_2r(2)]=polar2rect(I_2(1),I_2(2));\n",
"\n",
"I_0=[1.62 -71.5];\n",
"[I_0r(1),I_0r(2)]=polar2rect(I_0(1),I_0(2));\n",
"\n",
"I_1r=I_0r+I_2r;\n",
"\n",
"[I_1(1),I_1(2)]=rect2polar(I_1r(1),I_1r(2));\n",
"disp(I_1(1),'primary current(A)=');\n",
"pf=cosd(I_1(2));\n",
"disp(pf,'power factor=');\n",
""
   ]
   }
,
{
		   "cell_type": "markdown",
		   "metadata": {},
		   "source": [
			"## Example 3.5: Equivalent_circuit_referred_to_HV_side_LV_side.sci"
		   ]
		  },
  {
"cell_type": "code",
	   "execution_count": null,
	   "metadata": {
	    "collapsed": true
	   },
	   "outputs": [],
"source": [
"// Equivalent circuit referred to(i)HV side (ii)LV side\n",
"\n",
"clc;\n",
"\n",
"N_1=2000;\n",
"N_2=200;\n",
"\n",
"a=N_1/N_2;\n",
"\n",
"Z_2=complex(.004,.005);            //low voltage impedence\n",
"Z_2hv=a^2*Z_2;\n",
"disp(Z_2hv,'Z_2 referred to hv side(ohm)');                        //when referred to hv side\n",
"\n",
"Y_0=complex(.002,-.015);            //shunt branch admittance\n",
"Y_0hv=Y_0/a^2;\n",
"disp(Y_0hv,'Y_0 referred to hv side(mho)');\n",
"\n",
"Z_1=complex(.42,.52);                //low voltage impedence\n",
"Z_1lv=Z_1/a^2;\n",
"disp(Z_1lv,'Z_1 referred to lv side(ohm)');"
   ]
   }
,
{
		   "cell_type": "markdown",
		   "metadata": {},
		   "source": [
			"## Example 3.6: EX3_6.sci"
		   ]
		  },
  {
"cell_type": "code",
	   "execution_count": null,
	   "metadata": {
	    "collapsed": true
	   },
	   "outputs": [],
"source": [
"// To find the voltage at the load end of the transformer when load is drawing transformer current\n",
"\n",
"clc;\n",
"\n",
"I=20/2;                    //rated load current(hv side)\n",
"\n",
"Z1=[.25,1.4];                    //impedence of feeder    (REAL,IMAGINERY)\n",
"Z2=[.82,1.02];                   //impedence of transformer    (REAL,IMAGINERY)\n",
"\n",
"Z=Z1+Z2;\n",
"disp(Z,'Z(ohm)');\n",
"\n",
"pf=.8;\n",
"phi=acosd(pf);\n",
"\n",
"//from phasor diagram\n",
"      \n",
"R=Z(1);\n",
"X=Z(2);\n",
"AF=I*X*cosd(phi);\n",
"FE=I*R*sind(phi);\n",
"AE=AF-FE;\n",
"OA=2000;\n",
"OE=sqrt(OA^2-AE^2);                                                        \n",
"\n",
"BD=I*R*cosd(phi);\n",
"DE=I*X*sind(phi);\n",
"BE=BD+DE;\n",
"V1=OE;   disp(V1,'V1(V)'); \n",
"V2=V1-BE;    disp(V2,'V2(V)');\n",
"\n",
"loadvol=V2/10;                        //referred to LV side\n",
"disp(loadvol,'load voltage(V)');"
   ]
   }
,
{
		   "cell_type": "markdown",
		   "metadata": {},
		   "source": [
			"## Example 3.7: Approx_equivalent_ckt_referred_to_hv_and_lv_sides_resp.sci"
		   ]
		  },
  {
"cell_type": "code",
	   "execution_count": null,
	   "metadata": {
	    "collapsed": true
	   },
	   "outputs": [],
"source": [
"// Approx equivalent ckt referred to hv and lv sides resp,\n",
"\n",
"clc;\n",
"//open ckt test data with HV side open\n",
"ocv=200;\n",
"oci=4;\n",
"ocp=120;\n",
"//short ckt test data with LV side open\n",
"scv=60;\n",
"sci=10;\n",
"scp=300;\n",
"//OC test(LV side)\n",
"Y_o=oci/ocv;    disp(Y_o,'Y_o(mho)');\n",
"G_i=ocp/ocv^2;  disp(G_i,'G_i(mho)');\n",
"B_m=sqrt(Y_o^2-G_i^2);   disp(B_m,'B_m(mho)');\n",
"//SC test(HV side)\n",
"Z=scv/sci;      disp(Z,'Z(ohm)');\n",
"R=scp/sci^2;    disp(R,'R(ohm)');\n",
"X=sqrt(Z^2-R^2);   disp(X,'X(ohm)');\n",
"\n",
"N_H=2000;\n",
"N_L=200;\n",
"a=N_H/N_L;                            //transformation ratio\n",
"\n",
"//Equivalent ckt referred to HV side\n",
"G_iHV=G_i/a^2;        disp(G_iHV,'G_i(HV)mho');\n",
"B_mHV=B_m/a^2;        disp(B_mHV,'B_m(HV)mho');\n",
"\n",
"//Equivalent ckt referred to LV side\n",
"RLV=R/a^2;        disp(RLV,'R(LV)ohm');\n",
"XLV=X/a^2;        disp(XLV,'X(LV)ohm');"
   ]
   }
,
{
		   "cell_type": "markdown",
		   "metadata": {},
		   "source": [
			"## Example 3.8: EX3_8.sci"
		   ]
		  },
  {
"cell_type": "code",
	   "execution_count": null,
	   "metadata": {
	    "collapsed": true
	   },
	   "outputs": [],
"source": [
"// to calculate (a)open ckt current,power and pf when LV excited at rated voltage\n",
"// (b) voltage at which HV side is excited, ip power and its pf\n",
"\n",
"clc;\n",
"r=150000;                                    //rating(VA)\n",
"V1=2400;\n",
"V2=240;\n",
"a=V1/V2;\n",
"\n",
"R_1=.2;\n",
"X_1=.45;\n",
"R_i=10000;\n",
"R_2=2*10^-3;\n",
"X_2=4.5*10^-3;\n",
"X_m=1600;\n",
"//Referring the shunt parameters to LV side\n",
"R_iLV=R_i/a^2;\n",
"X_mLV=X_m/a^2;\n",
"I_oLV=[V2/100 V2/16];\n",
"I_o=sqrt(I_oLV(1)^2+I_oLV(2)^2);    disp(I_o,'I_o(A)');\n",
"pf=cosd(atand(I_oLV(2)/I_oLV(1)));    disp(pf,'pf');\n",
"//equivalent series parameters referred to HVside\n",
"R=R_1+R_2*a^2;    \n",
"X=X_1+X_2*a^2;    \n",
"Z=complex(R,X);    disp(Z,'Z(ohm)');\n",
"z=[R X];\n",
"I_flHV=r/V1;\n",
"V_scHV=I_flHV*sqrt(R^2+X^2);\n",
"P_sc=I_flHV^2*R;    disp(P_sc,'P_sc(W)');\n",
"pf_sc=cosd(atand(X/R));    disp(pf_sc,'pf_sc');"
   ]
   }
],
"metadata": {
		  "kernelspec": {
		   "display_name": "Scilab",
		   "language": "scilab",
		   "name": "scilab"
		  },
		  "language_info": {
		   "file_extension": ".sce",
		   "help_links": [
			{
			 "text": "MetaKernel Magics",
			 "url": "https://github.com/calysto/metakernel/blob/master/metakernel/magics/README.md"
			}
		   ],
		   "mimetype": "text/x-octave",
		   "name": "scilab",
		   "version": "0.7.1"
		  }
		 },
		 "nbformat": 4,
		 "nbformat_minor": 0
}
