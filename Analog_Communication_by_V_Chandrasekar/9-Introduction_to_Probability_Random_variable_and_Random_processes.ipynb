{
"cells": [
 {
		   "cell_type": "markdown",
	   "metadata": {},
	   "source": [
       "# Chapter 9: Introduction to Probability Random variable and Random processes"
	   ]
	},
{
		   "cell_type": "markdown",
		   "metadata": {},
		   "source": [
			"## Example 9.1_A: Multiplication_Theoram.sce"
		   ]
		  },
  {
"cell_type": "code",
	   "execution_count": null,
	   "metadata": {
	    "collapsed": true
	   },
	   "outputs": [],
"source": [
"clc;\n",
"clear;\n",
"\n",
"P_white=5/8; //P(ball is white)\n",
"\n",
"//white ball is removed,the remaining balls are four white and three green\n",
"\n",
"P_green=3/7; //P(ball is green)\n",
"\n",
"P_tot=P_white*P_green;\n",
"\n",
"disp(P_tot,' Desired Probability using multiplication theoram=')"
   ]
   }
,
{
		   "cell_type": "markdown",
		   "metadata": {},
		   "source": [
			"## Example 9.1: Conditional_Probability.sce"
		   ]
		  },
  {
"cell_type": "code",
	   "execution_count": null,
	   "metadata": {
	    "collapsed": true
	   },
	   "outputs": [],
"source": [
"clear;\n",
"clc;\n",
"// f2 be the event that ' a two occurs'\n",
"\n",
"\n",
"tot=6; //total number of possible outcomes\n",
"f_2=1; // number of desired outcomes\n",
"M=3; // number of even outcomes\n",
"\n",
"///// a)\n",
"\n",
"P_A=f_2/tot; //P(A)\n",
"\n",
"///// b)\n",
"P_M=M/tot; //P(M)\n",
"\n",
"////// c)\n",
"P_AintersectionM=P_A/P_M; //P(A intersection M)\n",
"\n",
"disp(P_A,'a) P(A)= ');\n",
"disp(P_M,'b) P(M)=');\n",
"disp(P_AintersectionM=P_A/P_M,'c) P(A intersection M)=');\n",
""
   ]
   }
,
{
		   "cell_type": "markdown",
		   "metadata": {},
		   "source": [
			"## Example 9.2_A: Theoram_of_Total_Probability.sce"
		   ]
		  },
  {
"cell_type": "code",
	   "execution_count": null,
	   "metadata": {
	    "collapsed": true
	   },
	   "outputs": [],
"source": [
"clc;\n",
"clear;\n",
"P_box1=0.25; //P(box1)\n",
"P_box2=0.25; //P(box2)\n",
"P_box3=0.25; //P(box3)\n",
"P_box4=0.25; //P(box4)\n",
"\n",
"Pdef_1=0.05;  //P(defective/box1)\n",
"Pdef_2=0.3;  //P(defective/box2)\n",
"Pdef_3=0.10;  //P(defective/box3)\n",
"Pdef_4=0.20;  //P(defective/box4)\n",
"\n",
"\n",
"Pcomp_def=(P_box1*Pdef_1)+(P_box2*Pdef_2)+(P_box3*Pdef_3)+(P_box4*Pdef_4); //Theoram of total probability\n",
"\n",
"disp(Pcomp_def,'  P(component is defective)=');"
   ]
   }
,
{
		   "cell_type": "markdown",
		   "metadata": {},
		   "source": [
			"## Example 9.2: Conditional_Probability.sce"
		   ]
		  },
  {
"cell_type": "code",
	   "execution_count": null,
	   "metadata": {
	    "collapsed": true
	   },
	   "outputs": [],
"source": [
"clc;\n",
"clear;\n",
"\n",
"white_ball=3;\n",
"red_ball=2;\n",
"total=white_ball+red_ball;\n",
"P_W=white_ball/total;\n",
"\n",
"P_SRFW=1/2; //Prob. of second red given  first white\n",
"\n",
"P_FWSR=P_W *P_SRFW// prob. of first  white and second red\n",
"\n",
"disp(P_FWSR,' P(First Ball is White and second is red)=');"
   ]
   }
,
{
		   "cell_type": "markdown",
		   "metadata": {},
		   "source": [
			"## Example 9.3_A: Error_Probability.sce"
		   ]
		  },
  {
"cell_type": "code",
	   "execution_count": null,
	   "metadata": {
	    "collapsed": true
	   },
	   "outputs": [],
"source": [
"clc;\n",
"clear;\n",
"\n",
"P_1=0.3; //P( 1 is transmitted)\n",
"Pe_1=10^(-3); //P(detecting an error when 1 is transmitted)\n",
"P_0=0.7;//P( 0 is transmitted)\n",
"Pe_0=10^(-7); //P(detecting an error when 0 is transmitted)\n",
"\n",
"error_prob=P_1*Pe_1+P_0*Pe_0;\n",
"\n",
"disp(error_prob,'Error Probabillity of the channel');"
   ]
   }
,
{
		   "cell_type": "markdown",
		   "metadata": {},
		   "source": [
			"## Example 9.3: Bayes_Theoram.sce"
		   ]
		  },
  {
"cell_type": "code",
	   "execution_count": null,
	   "metadata": {
	    "collapsed": true
	   },
	   "outputs": [],
"source": [
"clc;\n",
"clear;\n",
"P_box1=0.25; //P(box1)\n",
"P_box2=0.25; //P(box2)\n",
"P_box3=0.25; //P(box3)\n",
"P_box4=0.25; //P(box4)\n",
"\n",
"Pdef_1=0.05;  //P(defective/box1)\n",
"Pdef_2=0.4;  //P(defective/box2)\n",
"Pdef_3=0.10;  //P(defective/box3)\n",
"Pdef_4=0.10;  //P(defective/box4)\n",
"\n",
"//a)\n",
"\n",
"Pcomp_def=(P_box1*Pdef_1)+(P_box2*Pdef_2)+(P_box3*Pdef_3)+(P_box4*Pdef_4); //Theoram of total probability\n",
"\n",
"//b)\n",
"Pbox2_def=(P_box2*Pdef_2)/((P_box1*Pdef_1)+(P_box2*Pdef_2)+(P_box3*Pdef_3)+(P_box4*Pdef_4)); //Bayes theoram\n",
"\n",
"disp(Pcomp_def,' a) P(component is defective)=');\n",
"\n",
"disp(Pbox2_def,' b) P(box2|defective)=');"
   ]
   }
,
{
		   "cell_type": "markdown",
		   "metadata": {},
		   "source": [
			"## Example 9.4_A: Density_Function.sce"
		   ]
		  },
  {
"cell_type": "code",
	   "execution_count": null,
	   "metadata": {
	    "collapsed": true
	   },
	   "outputs": [],
"source": [
"clc;\n",
"clear;\n",
"//Y is a Gaussian Random Variable\n",
"\n",
"syms y;\n",
"\n",
"x=5;\n",
"m=-3*(x)+5; //mean\n",
"disp(m,'mean');\n",
"\n",
"var=4*7; //variance\n",
"disp(var,'variance');\n",
"\n",
"Y=exp(-{(y+10)^2}/56)/sqrt(56*%pi);\n",
"\n",
"disp('Y is an N{-10,28} random variable');\n",
"disp(Y,'density function f(y)= ');"
   ]
   }
],
"metadata": {
		  "kernelspec": {
		   "display_name": "Scilab",
		   "language": "scilab",
		   "name": "scilab"
		  },
		  "language_info": {
		   "file_extension": ".sce",
		   "help_links": [
			{
			 "text": "MetaKernel Magics",
			 "url": "https://github.com/calysto/metakernel/blob/master/metakernel/magics/README.md"
			}
		   ],
		   "mimetype": "text/x-octave",
		   "name": "scilab",
		   "version": "0.7.1"
		  }
		 },
		 "nbformat": 4,
		 "nbformat_minor": 0
}
