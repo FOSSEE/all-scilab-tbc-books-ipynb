{
"cells": [
 {
		   "cell_type": "markdown",
	   "metadata": {},
	   "source": [
       "# Chapter 7: Introduction to Digital Communication "
	   ]
	},
{
		   "cell_type": "markdown",
		   "metadata": {},
		   "source": [
			"## Example 7.1_A: Baud_Rate_and_Bandwidth.sce"
		   ]
		  },
  {
"cell_type": "code",
	   "execution_count": null,
	   "metadata": {
	    "collapsed": true
	   },
	   "outputs": [],
"source": [
"clc;\n",
"clear;\n",
"bin_signal=20; //binary signal in kbps\n",
"N=1;//since ASK\n",
"\n",
"Bw=bin_signal*10^(3);\n",
"Baud=bin_signal*10^(3);\n",
"\n",
"disp(Bw,'Bandwidth(in Hz)=');\n",
"disp(Baud,'Baud rate=');"
   ]
   }
,
{
		   "cell_type": "markdown",
		   "metadata": {},
		   "source": [
			"## Example 7.1: Baud_Rate.sce"
		   ]
		  },
  {
"cell_type": "code",
	   "execution_count": null,
	   "metadata": {
	    "collapsed": true
	   },
	   "outputs": [],
"source": [
"clc;\n",
"clear;\n",
"N=1;// since ASK\n",
"Bin_Sig=15;//Binary signal in kbps\n",
"\n",
"BW=Bin_Sig*10^(3)/N;\n",
"Baud=Bin_Sig*10^(3)/N;\n",
"disp(BW,'Bw=');\n",
"disp(Baud,'Baud=');"
   ]
   }
,
{
		   "cell_type": "markdown",
		   "metadata": {},
		   "source": [
			"## Example 7.2_A: Bandwidth_and_Baud_Rate.sce"
		   ]
		  },
  {
"cell_type": "code",
	   "execution_count": null,
	   "metadata": {
	    "collapsed": true
	   },
	   "outputs": [],
"source": [
"clc;\n",
"clear;\n",
"mark_f=59;//MArk Frequency in Hz\n",
"space_f=61; //space frequency in Hz\n",
"input_rate=5;//input rate in kbps\n",
"\n",
"Peak_Frq_Dev=abs((mark_f-space_f)/2);\n",
"Bw=2*(Peak_Frq_Dev+input_rate)*10^(3);\n",
"baud=input_rate*10^(3);\n",
"\n",
"disp(Peak_Frq_Dev,'Peak Frequency Deviation (in KHz) =');\n",
"disp(Bw,'Minimum BW (in Hz)=');\n",
"disp(baud,'Baud=');"
   ]
   }
,
{
		   "cell_type": "markdown",
		   "metadata": {},
		   "source": [
			"## Example 7.2: Baud_Rate_and_Bandwidth.sce"
		   ]
		  },
  {
"cell_type": "code",
	   "execution_count": null,
	   "metadata": {
	    "collapsed": true
	   },
	   "outputs": [],
"source": [
"clc;\n",
"clear;\n",
"mark_f=60;//Mark Frequency in KHz\n",
"space_f=63;//Space Frequency in KHz\n",
"input_bit_rate=3;// input bit rate\n",
"\n",
"Peak_Frq_Dev=abs((mark_f-space_f)/2);\n",
"B=2*(Peak_Frq_Dev+input_bit_rate);\n",
"Baud=input_bit_rate*10^(3);\n",
"\n",
"disp(Peak_Frq_Dev,'Peak Frequency Deviation(in KHz)=');\n",
"disp(B,'Minimum Bandwidth(in KHz)=');\n",
"disp(Baud,'Baud rate=');"
   ]
   }
,
{
		   "cell_type": "markdown",
		   "metadata": {},
		   "source": [
			"## Example 7.3_A: Bandwidth_and_Baud_Rate.sce"
		   ]
		  },
  {
"cell_type": "code",
	   "execution_count": null,
	   "metadata": {
	    "collapsed": true
	   },
	   "outputs": [],
"source": [
"clc;\n",
"clear;\n",
"N=3;// since 8-PSK\n",
"bit_rate=36;// in kbps\n",
"\n",
"Bw=bit_rate*10^(3)/N;\n",
"baud=bit_rate*10^(3)/N;\n",
"n=bit_rate*10^(3)/Bw;\n",
"\n",
"disp(Bw,' Minimum Bandwidth(in Hz)=');\n",
"disp(baud,'Baud rate=');\n",
"disp(n,'Bandwidth efficiency(in bits per second per cycle of bandwidth)=');"
   ]
   }
,
{
		   "cell_type": "markdown",
		   "metadata": {},
		   "source": [
			"## Example 7.3: Baud_Rate_and_Bandwidth.sce"
		   ]
		  },
  {
"cell_type": "code",
	   "execution_count": null,
	   "metadata": {
	    "collapsed": true
	   },
	   "outputs": [],
"source": [
"clc;\n",
"clear;\n",
"bit_rate=36;// information bit rate in Kbps\n",
"m=3;// since 8-PSK\n",
"\n",
"Baud=bit_rate*10^(3)/m;\n",
"Bw=36*10^(3)/m;\n",
"n=36000/12000;\n",
"\n",
"disp(Baud,'Baud=');\n",
"disp(Bw,'BW=');\n",
"disp(n,'Bandwidth efficiency(in bits/cycle)=');"
   ]
   }
,
{
		   "cell_type": "markdown",
		   "metadata": {},
		   "source": [
			"## Example 7.4_A: Nyquist_Bandwidth.sce"
		   ]
		  },
  {
"cell_type": "code",
	   "execution_count": null,
	   "metadata": {
	    "collapsed": true
	   },
	   "outputs": [],
"source": [
"clc;\n",
"clear;\n",
"\n",
"Input_bit=5; //Input bit rate in Mbps\n",
"\n",
"//bit rate in I,Q,C channels is one-third of input bit rate\n",
"\n",
"fbI=Input_bit/3;//bit rate in I channel\n",
"fbC=Input_bit/3;//bit rate in C  channel\n",
"fbQ=Input_bit/3;////bit rate in I channel\n",
"\n",
"Baud=fbI;//Baud in Mbps\n",
"\n",
"fa=fbC/2;\n",
"\n",
"//Output from Modulator is \n",
"// 0.5cos(2*pi*49.17MHz)-0.5cos(2*pi*50.83MHz)\n",
"\n",
"Nyquist=50.83-49.17;\n",
"\n",
"disp(Nyquist,'Minimum Nyquist Bandwidth(in MHz)=');\n",
"\n",
""
   ]
   }
],
"metadata": {
		  "kernelspec": {
		   "display_name": "Scilab",
		   "language": "scilab",
		   "name": "scilab"
		  },
		  "language_info": {
		   "file_extension": ".sce",
		   "help_links": [
			{
			 "text": "MetaKernel Magics",
			 "url": "https://github.com/calysto/metakernel/blob/master/metakernel/magics/README.md"
			}
		   ],
		   "mimetype": "text/x-octave",
		   "name": "scilab",
		   "version": "0.7.1"
		  }
		 },
		 "nbformat": 4,
		 "nbformat_minor": 0
}
