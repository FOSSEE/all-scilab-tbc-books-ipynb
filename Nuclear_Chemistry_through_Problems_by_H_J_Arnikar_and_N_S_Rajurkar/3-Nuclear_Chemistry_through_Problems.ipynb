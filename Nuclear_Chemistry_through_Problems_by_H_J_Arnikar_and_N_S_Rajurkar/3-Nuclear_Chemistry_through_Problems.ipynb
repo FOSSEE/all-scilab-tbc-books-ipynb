{
"cells": [
 {
		   "cell_type": "markdown",
	   "metadata": {},
	   "source": [
       "# Chapter 3: Nuclear Chemistry through Problems"
	   ]
	},
{
		   "cell_type": "markdown",
		   "metadata": {},
		   "source": [
			"## Example 3.10: P3_10.sce"
		   ]
		  },
  {
"cell_type": "code",
	   "execution_count": null,
	   "metadata": {
	    "collapsed": true
	   },
	   "outputs": [],
"source": [
"// Ex3_10\n",
"\n",
"clc;\n",
"\n",
"// Given:\n",
"mH=1.007825;\n",
"mn=1.008665;\n",
"M1=207.97666;// mass of Pb 208\n",
"M2=206.97590;// mass of Pb 207\n",
"M3=206.97739;// mass of Tl 207\n",
"\n",
"// Solution:\n",
"\n",
"B1=((82*1.007825+126*1.008665)-207.97666)*931;// binding energy for Pb 208\n",
"B2=((82*1.007825+125*1.008665)-206.97590)*931;// binding energy for Pb 207\n",
"B3=((81*1.007825+126*1.008665)-206.97739)*931;// binding energy for Tl 207\n",
"Sn=B1-B2;// neutron seperation energy\n",
"Sp=B1-B3;// proton seperation energy\n",
"\n",
"printf('\n The neutron seperation energy is = %f MeV',Sn)\n",
"printf('\n The proton seperation energy is = %f MeV',Sp)"
   ]
   }
,
{
		   "cell_type": "markdown",
		   "metadata": {},
		   "source": [
			"## Example 3.11: P3_11.sce"
		   ]
		  },
  {
"cell_type": "code",
	   "execution_count": null,
	   "metadata": {
	    "collapsed": true
	   },
	   "outputs": [],
"source": [
"\n",
"// Ex3_11\n",
"\n",
"clc;\n",
"\n",
"// Given:\n",
"mH=1.007825;\n",
"mn=1.008665;\n",
"M1=22.98977;// mass of Na 23\n",
"M2=21.994435;// mass of Na 22\n",
"M3=21.991385;// mass of Ne 22\n",
"// Solution:\n",
"\n",
"m1=((11*1.007825+12*1.008665)-M1);\n",
"m2=((11*1.007825+11*1.008665)-M2);\n",
"m3=((10*1.007825+12*1.008665)-M3);\n",
"Sn=(m1-m2)*931;// neutron seperation energy\n",
"Sp=(m1-m3)*931;// proton seperation energy\n",
"\n",
"printf('\n The neutron seperation energy is = %f MeV',Sn)\n",
"printf('\n The proton seperation energy is = %f MeV',Sp)\n",
"\n",
"// Note: The answers are given in the form of atomic mass units where as in the question its asked for energies."
   ]
   }
,
{
		   "cell_type": "markdown",
		   "metadata": {},
		   "source": [
			"## Example 3.12: P3_12.sce"
		   ]
		  },
  {
"cell_type": "code",
	   "execution_count": null,
	   "metadata": {
	    "collapsed": true
	   },
	   "outputs": [],
"source": [
"\n",
"// Ex3_12\n",
"\n",
"clc;\n",
"\n",
"// Given:\n",
"C=0.3;// in MeV^-1\n",
"a=2.0;// in MeV\n",
"E=8; // in MeV\n",
"\n",
"// Solution:\n",
"d=C*(exp(2*((2*8)^(0.5))));// excited level density\n",
"s=(1/d)*1000;// level spacing\n",
"nT=(E/a)^(0.5);// nuclear temperature\n",
"printf('\n The excited level density is = %f MeV',d)\n",
"printf('\n The level spacing is = %f keV',s)\n",
"printf('\n The nuclear temperature is = %f MeV',nT)"
   ]
   }
,
{
		   "cell_type": "markdown",
		   "metadata": {},
		   "source": [
			"## Example 3.13: P3_13.sce"
		   ]
		  },
  {
"cell_type": "code",
	   "execution_count": null,
	   "metadata": {
	    "collapsed": true
	   },
	   "outputs": [],
"source": [
"\n",
"// Ex3_13\n",
"clc;\n",
"\n",
"// Given:\n",
"I0=3/2;// ground state of spin\n",
"\n",
"// Solution:\n",
"I1=I0+1;\n",
"I2=I0+2;\n",
"I3=I0+3;\n",
"K=1;// Assumed as some constant\n",
"// Formula: E=(h^2/(2*I))*((I*(I+1))-I0*(I0+1))\n",
"// Consider   K=(h^2/(2*I))=1\n",
"\n",
"E1=K*((I1*(I1+1))-(I0*(I0+1)));// For 1 excited state\n",
"\n",
"E2=K*((I2*(I2+1))-(I0*(I0+1)));// For 2 excited state\n",
"\n",
"E3=K*((I3*(I3+1))-(I0*(I0+1)));// For 3 excited state\n",
"\n",
"printf('The expression for 1st, 2nd, and 3rd excited states are K times %f, %f & %f respectively.',E1,E2,E3)"
   ]
   }
,
{
		   "cell_type": "markdown",
		   "metadata": {},
		   "source": [
			"## Example 3.14: P3_14.sce"
		   ]
		  },
  {
"cell_type": "code",
	   "execution_count": null,
	   "metadata": {
	    "collapsed": true
	   },
	   "outputs": [],
"source": [
"\n",
"// Ex3_14\n",
"clc;\n",
"// Given:\n",
"E2=44;// in keV\n",
"\n",
"// Solution:\n",
"E4=E2*((4*5)/(2*3));// for part (a)\n",
"E6=E2*((6*7)/(2*3));// for part (b)\n",
"E8=E2*((8*9)/(2*3));// for part (c)\n",
"E10=E2*((10*11)/(2*3));// for part (d)\n",
"\n",
"printf('\n The energy of state 4 (+) is = %f keV',E4)\n",
"printf('\n The energy of state 6 (+) is = %f keV',E6)\n",
"printf('\n The energy of state 8 (+) is = %f keV',E8)\n",
"printf('\n The energy of state 10 (+) is = %f keV',E10)"
   ]
   }
,
{
		   "cell_type": "markdown",
		   "metadata": {},
		   "source": [
			"## Example 3.15: P3_15.sce"
		   ]
		  },
  {
"cell_type": "code",
	   "execution_count": null,
	   "metadata": {
	    "collapsed": true
	   },
	   "outputs": [],
"source": [
"\n",
"// Ex3_15\n",
"clc;\n",
"\n",
"// Given:\n",
"E2=44;// in keV\n",
"En=525;// in keV\n",
"\n",
"// Solution:\n",
"n=(En)/E2;\n",
"// \n",
"printf('%f',n)\n",
"printf('\n For the required level of energy 525 keV nearest even integer is = %d & spin is (+)',n+1)"
   ]
   }
,
{
		   "cell_type": "markdown",
		   "metadata": {},
		   "source": [
			"## Example 3.16: P3_16.sce"
		   ]
		  },
  {
"cell_type": "code",
	   "execution_count": null,
	   "metadata": {
	    "collapsed": true
	   },
	   "outputs": [],
"source": [
"//Ex3_16\n",
"clc;\n",
"// Given:\n",
"E2=44;// in keV\n",
"En1=146;// in keV\n",
"En2=304;// in keV\n",
"En3=514;// in keV\n",
"// Solution:\n",
"n1=(En1)/E2;\n",
"n2=(En2)/E2;\n",
"n3=(En3)/E2;\n",
"printf('%f',n1)\n",
"printf('\n For the required level of energy 146 keV nearest even integer is = %d & spin is (+)',n1+1)\n",
"printf('\n \n %f',n2)\n",
"printf('\n For the required level of energy 304 keV nearest even integer is = %d & spin is (+)',n2)\n",
"printf('\n \n %f',n3)\n",
"printf('\n For the required level of energy 514 keV nearest even integer is = %d & spin is (+)',n3+1)\n",
"\n",
"//Note: In the last part (c) the answer given in the textbook is 8(+). But the correct answer is 12(+)"
   ]
   }
,
{
		   "cell_type": "markdown",
		   "metadata": {},
		   "source": [
			"## Example 3.1: P3_1.sce"
		   ]
		  },
  {
"cell_type": "code",
	   "execution_count": null,
	   "metadata": {
	    "collapsed": true
	   },
	   "outputs": [],
"source": [
"//Ex3_1\n",
"\n",
"clc;\n",
"\n",
"//Given in cgs units\n",
"m1=232;\n",
"m2=1;\n",
"m3=4;\n",
"z1=90;\n",
"z2=1;\n",
"z3=2;\n",
"e=4.8*10^-10;// in ergs\n",
"c=1.4;// nuclear radius constant\n",
"\n",
"//Formula: E=(z1*z2*e^2)/(r1+r2)\n",
"r1=(m1)^(1/3);\n",
"r2=(m2)^(1/3);\n",
"r3=(m3)^(1/3);\n",
"E1=(z1*z2*e*e)/(c*(r1+r2)*10^-13*(1.6*10^-6));\n",
"printf('\n The coulomb barrier for the penetration of Th by proton is = %f MeV',E1)\n",
"E2=(z1*z3*e*e)/(c*(r1+r3)*10^-13*(1.6*10^-6));\n",
"printf('\n \n The coulomb barrier for the penetration of Th by alpha particle is = %f MeV',E2)"
   ]
   }
,
{
		   "cell_type": "markdown",
		   "metadata": {},
		   "source": [
			"## Example 3.2: P3_2.sce"
		   ]
		  },
  {
"cell_type": "code",
	   "execution_count": null,
	   "metadata": {
	    "collapsed": true
	   },
	   "outputs": [],
"source": [
"//Ex3_2\n",
"\n",
"clc;\n",
"\n",
"//Given in cgs units\n",
"m1=112;\n",
"m2=1;\n",
"m3=4;\n",
"m4=66;\n",
"z1=50;\n",
"z2=1;\n",
"z3=2;\n",
"z4=30;\n",
"e=4.8*10^-10;// in ergs\n",
"c=1.4;// nuclear radius constant\n",
"\n",
"//Formula: E=(z1*z2*e^2)/(r1+r2)\n",
"r1=(m1)^(1/3);\n",
"r2=(m2)^(1/3);\n",
"r3=(m3)^(1/3);\n",
"r4=(m4)^(1/3);\n",
"E1=(z1*z2*e*e)/(c*(r1+r2)*10^-13*(1.6*10^-6));\n",
"printf('\n The coulomb barrier for the penetration of Th by proton is = %f MeV',E1)\n",
"E2=(z4*z3*e*e)/(c*(r4+r3)*10^-13*(1.6*10^-6));\n",
"printf('\n \n The coulomb barrier for the penetration of Th by alpha particle is = %f MeV',E2)\n",
""
   ]
   }
,
{
		   "cell_type": "markdown",
		   "metadata": {},
		   "source": [
			"## Example 3.3: P3_3.sce"
		   ]
		  },
  {
"cell_type": "code",
	   "execution_count": null,
	   "metadata": {
	    "collapsed": true
	   },
	   "outputs": [],
"source": [
"\n",
"// Ex3_3\n",
"clc;\n",
"// Given:\n",
"E=6;// in MeV\n",
"z1=79;\n",
"z2=2;\n",
"q=4.8*10^-10;\n",
"// Solution:\n",
"\n",
"// At the closest distance of approach, the kineic energy of the alpha particle balances the columb barrier energy.\n",
"\n",
"r1=(z1*z2*q*q)/(E*1.6*10^-6);// distance in cm\n",
"r=r1*10^13;// distance in fm\n",
"\n",
"printf('The closest distance of approach is = %f fm',r)"
   ]
   }
,
{
		   "cell_type": "markdown",
		   "metadata": {},
		   "source": [
			"## Example 3.4: P3_4.sce"
		   ]
		  },
  {
"cell_type": "code",
	   "execution_count": null,
	   "metadata": {
	    "collapsed": true
	   },
	   "outputs": [],
"source": [
"\n",
"// Ex3_4\n",
"clc;\n",
"// Given:\n",
"A=180;\n",
"\n",
"// Solution:\n",
"z=(40*A)/(0.6*(A^(2/3))+80);\n",
"printf('The stable nuclied of the isobaric series is Hf atomic no. = %d',z)"
   ]
   }
,
{
		   "cell_type": "markdown",
		   "metadata": {},
		   "source": [
			"## Example 3.5: P3_5.sce"
		   ]
		  },
  {
"cell_type": "code",
	   "execution_count": null,
	   "metadata": {
	    "collapsed": true
	   },
	   "outputs": [],
"source": [
"\n",
"// Ex3_5\n",
"clc;\n",
"\n",
"// Given:\n",
"A=87;\n",
"\n",
"// Solution:\n",
"z=(40*A)/(0.6*(A^(2/3))+80);\n",
"printf('The stable nuclied of the isobaric series is Sr atomic no. = %f',z)\n",
"// nereast integer is 38\n",
"\n",
"printf('\n Hence the nuclides of z<38 fall on the left of the limb of B vs Z parabola while the nuclides of z>38 fall on the right limb of the parabola.')"
   ]
   }
,
{
		   "cell_type": "markdown",
		   "metadata": {},
		   "source": [
			"## Example 3.7: P3_7.sce"
		   ]
		  },
  {
"cell_type": "code",
	   "execution_count": null,
	   "metadata": {
	    "collapsed": true
	   },
	   "outputs": [],
"source": [
"\n",
"// Ex3_7\n",
"\n",
"clc;\n",
"\n",
"// Given:\n",
"B=11.009305;\n",
"C1=12;\n",
"C2=11.001433;\n",
"p=1.0078;\n",
"n=1.0087;\n",
"Al=26.981535;\n",
"Si1=27.976927;\n",
"Si2=26.986705;\n",
"// Solution:\n",
"m1=(B+p-C1);//(a)\n",
"E1=m1*931;// of last proton in C in MeV\n",
"printf('\n The binding energy for the last proton in 12C is = %f MeV',E1)\n",
"\n",
"m2=(C2+n-C1);//(b)\n",
"E2=m2*931;// of last neutron in C in MeV\n",
"printf('\n The binding energy for the last neutron in 12C is = %f MeV',E2)\n",
"\n",
"m3=(Al+p-Si1);//(c)\n",
"E3=m3*931;// of last proton in Si in MeV\n",
"printf('\n The binding energy for the last proton in 28Si is = %f MeV',E3)\n",
"\n",
"m4=(Si2+n-Si1);//(d)\n",
"E4=m4*931;// of last neutron in Si in MeV\n",
"printf('\n The binding energy for the last neutron in 28Si is = %f MeV',E4)\n",
"\n",
"// Note: There is a calculation error in the textbook for the (b) part."
   ]
   }
,
{
		   "cell_type": "markdown",
		   "metadata": {},
		   "source": [
			"## Example 3.8: P3_8.sce"
		   ]
		  },
  {
"cell_type": "code",
	   "execution_count": null,
	   "metadata": {
	    "collapsed": true
	   },
	   "outputs": [],
"source": [
"// Ex3_8\n",
"\n",
"clc;\n",
"\n",
"// Given:\n",
"d=2.014102;\n",
"C=12;\n",
"a=4.002603;\n",
"N=14.003074;\n",
"O=15.994915;\n",
"\n",
"// Solution:\n",
"m1=(C+d-N);\n",
"E1=m1*931;// The binding energy for N(14)\n",
"printf('\n The binding energy for N(14) is = %f MeV',E1)\n",
"\n",
"m2=(C+a-O);\n",
"E2=m2*931;//The binding energy for O(16) \n",
"printf('\n The binding energy for O(16) is = %f MeV',E2)\n",
"\n",
""
   ]
   }
,
{
		   "cell_type": "markdown",
		   "metadata": {},
		   "source": [
			"## Example 3.9: P3_9.sce"
		   ]
		  },
  {
"cell_type": "code",
	   "execution_count": null,
	   "metadata": {
	    "collapsed": true
	   },
	   "outputs": [],
"source": [
"// Ex3_9\n",
"clc;\n",
"\n",
"\n",
"// Given:\n",
"D=-1.997042;\n",
"n=1.0087;\n",
"// Solution:\n",
"m=(D+2*n);\n",
"E=m*931;\n",
"printf('\n The binding energy is = %f MeV',E)\n",
"\n",
""
   ]
   }
],
"metadata": {
		  "kernelspec": {
		   "display_name": "Scilab",
		   "language": "scilab",
		   "name": "scilab"
		  },
		  "language_info": {
		   "file_extension": ".sce",
		   "help_links": [
			{
			 "text": "MetaKernel Magics",
			 "url": "https://github.com/calysto/metakernel/blob/master/metakernel/magics/README.md"
			}
		   ],
		   "mimetype": "text/x-octave",
		   "name": "scilab",
		   "version": "0.7.1"
		  }
		 },
		 "nbformat": 4,
		 "nbformat_minor": 0
}
