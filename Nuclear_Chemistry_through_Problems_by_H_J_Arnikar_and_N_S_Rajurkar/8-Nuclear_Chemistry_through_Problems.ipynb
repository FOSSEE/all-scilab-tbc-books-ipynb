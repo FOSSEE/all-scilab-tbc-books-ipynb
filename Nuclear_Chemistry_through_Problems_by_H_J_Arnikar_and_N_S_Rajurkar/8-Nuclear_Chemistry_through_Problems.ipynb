{
"cells": [
 {
		   "cell_type": "markdown",
	   "metadata": {},
	   "source": [
       "# Chapter 8: Nuclear Chemistry through Problems"
	   ]
	},
{
		   "cell_type": "markdown",
		   "metadata": {},
		   "source": [
			"## Example 8.1: P8_1.sce"
		   ]
		  },
  {
"cell_type": "code",
	   "execution_count": null,
	   "metadata": {
	    "collapsed": true
	   },
	   "outputs": [],
"source": [
"\n",
"//Ex8_1\n",
"clc;\n",
"\n",
"//Given:\n",
"e=1.6*10^-19;// electron charge\n",
"C=6*10^-12;// in F\n",
"N=10^5;// // electron multiplication\n",
"//Solution:\n",
"e1=N*e;\n",
"v=e1/(2*C);\n",
"v1=1000*v;\n",
"  printf('The potential signal recorded will be = %f mV',v1)"
   ]
   }
,
{
		   "cell_type": "markdown",
		   "metadata": {},
		   "source": [
			"## Example 8.2: P8_2.sce"
		   ]
		  },
  {
"cell_type": "code",
	   "execution_count": null,
	   "metadata": {
	    "collapsed": true
	   },
	   "outputs": [],
"source": [
"// Ex8_2\n",
"clc;\n",
"\n",
"// Given:\n",
"N=10^5;// electron multiplication\n",
"v=10^-6;// in V\n",
"e=1.6*10^-19;// electron charge\n",
"\n",
"// Solution:\n",
"e1=N*e;\n",
"C=e1/(2*v);\n",
"C1=C*10^9;\n",
"printf('The capacitance that would be required is = %f nF',C1)"
   ]
   }
,
{
		   "cell_type": "markdown",
		   "metadata": {},
		   "source": [
			"## Example 8.3: P8_3.sce"
		   ]
		  },
  {
"cell_type": "code",
	   "execution_count": null,
	   "metadata": {
	    "collapsed": true
	   },
	   "outputs": [],
"source": [
"\n",
"// Ex8_3\n",
"\n",
"clc;\n",
"\n",
"// Given:\n",
"n0=1;// initial primary electrons\n",
"n=1.6*10^4;\n",
"x=2.2; //distance in cm\n",
"\n",
"// Solution:\n",
"a=log(n/n0)/(x);\n",
"\n",
"printf('The alpha coefficient is = %f electrons electron^-1 cm^-1',a)"
   ]
   }
,
{
		   "cell_type": "markdown",
		   "metadata": {},
		   "source": [
			"## Example 8.4: P8_4.sce"
		   ]
		  },
  {
"cell_type": "code",
	   "execution_count": null,
	   "metadata": {
	    "collapsed": true
	   },
	   "outputs": [],
"source": [
"// Ex8_4\n",
"clc;\n",
"// Given:\n",
"V=1600;// potential across the electrodes\n",
"di=3;// inner diameter\n",
"do=40;// outer diameter\n",
"a=1.5;//in mm\n",
"A=20;//in mm\n",
"\n",
"// Solution:\n",
"// Part(a)At the inner surface\n",
"r1=1.5;// in mm\n",
"V1=V*(log(A/r1)/log(A/a));\n",
"X1=V/(r1*(log(A/a)));\n",
"printf('\n The potential at the inner surface is = %f V',V1)\n",
"printf('\n The field at the inner surface is = %f V/cm',X1)\n",
"// Part(b)At the outer surface\n",
"r2=20;// in mm\n",
"V2=V*(log(A/r2)/log(A/a));\n",
"X2=V/(r2*(log(A/a)));\n",
"printf('\n \n The potential at the outer surface is = %f V',V2)\n",
"printf('\n The field at the outer surface is = %f V/cm',X2)\n",
"// Part(c)In mid-way between the cylinder\n",
"r3=(A+a)/2;// in mm\n",
"V3=V*(log(A/r3)/log(A/a));\n",
"X3=V/(r3*(log(A/a)));\n",
"printf('\n \n The potential in mid-way between the cylinder is = %f V',V3)\n",
"printf('\n The field in mid-way between the cylinderis = %f V/cm',X3)"
   ]
   }
,
{
		   "cell_type": "markdown",
		   "metadata": {},
		   "source": [
			"## Example 8.5: P8_5.sce"
		   ]
		  },
  {
"cell_type": "code",
	   "execution_count": null,
	   "metadata": {
	    "collapsed": true
	   },
	   "outputs": [],
"source": [
"\n",
"// Ex8_5\n",
"clc;\n",
"// Given:\n",
"ma1=3600;// counts in 3 min\n",
"mb1=2400;// counts in 5 min\n",
"mab1=9900;// counts in 6 min\n",
"\n",
"// Solution:\n",
"ma=ma1/3;\n",
"mb=mb1/5;\n",
"mab=mab1/6;\n",
"\n",
"t1=(ma+mb-mab)/(mab^2-ma^2-mb^2);\n",
"t2=t1*60;// in seconds\n",
"t=t2*1000000;// in microseconds\n",
"printf('The resolving time of the given system in microseconds is = %f',t)"
   ]
   }
,
{
		   "cell_type": "markdown",
		   "metadata": {},
		   "source": [
			"## Example 8.6: P8_6.sce"
		   ]
		  },
  {
"cell_type": "code",
	   "execution_count": null,
	   "metadata": {
	    "collapsed": true
	   },
	   "outputs": [],
"source": [
"\n",
"// Ex8_6\n",
"clc;\n",
"// Given:\n",
"ma1=3321;// counts in 3 min\n",
"mb1=2862;// counts in 2 min\n",
"mab1=4798;// counts in 2 min\n",
"m=1080;// counts in 30 min\n",
"muk1=5126;// counts in 2 min\n",
"// Solution:\n",
"ma=ma1/3;\n",
"mb=mb1/2;\n",
"mab=mab1/2;\n",
"mbc=m/30;\n",
"muk=muk1/2;\n",
"t1=(ma+mb-mab-mbc)/(mab^2-ma^2-mb^2);// in min\n",
"t2=t1*60;// in seconds\n",
"t=t2*1000000;// in microseconds\n",
"printf('The resolving time of the given system in microseconds is = %f',t)\n",
"\n",
"n=muk/(1-muk*t1);// true count rate\n",
"\n",
"printf('\n The true count rate of unknown sample is = %f cpm',n)\n",
""
   ]
   }
,
{
		   "cell_type": "markdown",
		   "metadata": {},
		   "source": [
			"## Example 8.7: P8_7.sce"
		   ]
		  },
  {
"cell_type": "code",
	   "execution_count": null,
	   "metadata": {
	    "collapsed": true
	   },
	   "outputs": [],
"source": [
"\n",
"// Ex8_7\n",
"clc;\n",
"\n",
"// Given:\n",
"\n",
"ma=9728;// cpm\n",
"mb=11008;// cpm\n",
"mab=20032;// cpm\n",
"\n",
"// Solution:\n",
"\n",
"t1=(ma+mb-mab)/(mab^2-ma^2-mb^2);// in min\n",
"\n",
"t2=t1*60;// in seconds\n",
"t=t2*1000000;// in microseconds\n",
"printf('\n The resolving time of the given system in microseconds is = %f',t)\n",
"\n",
"//From true count rate equation we have, n=muk/(1-muk*t).\n",
"// This implies, n-m=m^2*t where n-m corresponds to counting loss\n",
"na=ma^2*t1;// For sample A\n",
"nb=mb^2*t1;// For sample B\n",
"nab=mab^2*t1;// For sample AB\n",
"\n",
"printf('\n \n The counting loss of sample A is = %f cpm',na)\n",
"\n",
"printf('\n \n The counting loss of sample B is = %f cpm',nb)\n",
"\n",
"printf('\n \n The counting loss of sample AB is = %f cpm',nab)\n",
"// NOTE: The resolving time of the given system in microseconds is give 222.7. This is a calculation error in the textbook."
   ]
   }
],
"metadata": {
		  "kernelspec": {
		   "display_name": "Scilab",
		   "language": "scilab",
		   "name": "scilab"
		  },
		  "language_info": {
		   "file_extension": ".sce",
		   "help_links": [
			{
			 "text": "MetaKernel Magics",
			 "url": "https://github.com/calysto/metakernel/blob/master/metakernel/magics/README.md"
			}
		   ],
		   "mimetype": "text/x-octave",
		   "name": "scilab",
		   "version": "0.7.1"
		  }
		 },
		 "nbformat": 4,
		 "nbformat_minor": 0
}
