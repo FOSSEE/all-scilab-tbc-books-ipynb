{
"cells": [
 {
		   "cell_type": "markdown",
	   "metadata": {},
	   "source": [
       "# Chapter 2: Nuclear Chemistry through Problems"
	   ]
	},
{
		   "cell_type": "markdown",
		   "metadata": {},
		   "source": [
			"## Example 2.10: P2_10.sce"
		   ]
		  },
  {
"cell_type": "code",
	   "execution_count": null,
	   "metadata": {
	    "collapsed": true
	   },
	   "outputs": [],
"source": [
"\n",
"// Ex2_10\n",
"clc;\n",
"// Given:\n",
"\n",
"h=6.6262*10^-34;// in J.s\n",
"f=9.302*10^9;// in Hz/T\n",
"m=9.274*10^-24;// in J/T\n",
"g1=2.0025;\n",
"\n",
"\n",
"// Solution:\n",
"\n",
"H1=(h*f)/(g1*m);\n",
"printf('\n Magnetic field required for a proton is = %f T',H1)\n",
""
   ]
   }
,
{
		   "cell_type": "markdown",
		   "metadata": {},
		   "source": [
			"## Example 2.11: P2_11.sce"
		   ]
		  },
  {
"cell_type": "code",
	   "execution_count": null,
	   "metadata": {
	    "collapsed": true
	   },
	   "outputs": [],
"source": [
"\n",
"// Ex2_11\n",
"clc;\n",
"\n",
"// Given:\n",
"mf=1.201;// In T\n",
"h=6.6262*10^-34;// in J.s\n",
"m=9.2741*10^-24;// in J/T\n",
"g=2.0025;\n",
"// Solution:\n",
"v=(g*m*mf)/(h*10^9);\n",
"printf('The frequency needed to bring in resonance is  = %f GHz',v)"
   ]
   }
,
{
		   "cell_type": "markdown",
		   "metadata": {},
		   "source": [
			"## Example 2.12: P2_12.sce"
		   ]
		  },
  {
"cell_type": "code",
	   "execution_count": null,
	   "metadata": {
	    "collapsed": true
	   },
	   "outputs": [],
"source": [
"\n",
"// Ex2_12\n",
"clc;\n",
"\n",
"// Given:\n",
"mf=1.5;// In T\n",
"h=6.6262*10^-34;// in J.s\n",
"mb=9.2741*10^-24;// in J/T\n",
"mn=5.0504*10^-27;//in J/T\n",
"ge=2.002;\n",
"gp=5.5854;\n",
"// Solution: Part(a)\n",
"v1=(gp*mn*mf)/(h*10^6);\n",
"printf('\n The frequency needed to bring proton spin resonance is  = %f MHz',v1)\n",
"// Solution: Part(b)\n",
"v2=(ge*mb*mf)/(h*10^9);\n",
"printf('\n The frequency needed to bring electron spin resonance is  = %f GHz',v2)"
   ]
   }
,
{
		   "cell_type": "markdown",
		   "metadata": {},
		   "source": [
			"## Example 2.13: P2_13.sce"
		   ]
		  },
  {
"cell_type": "code",
	   "execution_count": null,
	   "metadata": {
	    "collapsed": true
	   },
	   "outputs": [],
"source": [
"// Ex2_13\n",
"clc;\n",
"\n",
"// Given:\n",
"h=6.6262*10^-34;// in J.s\n",
"f=40.2*10^6;// in Hz/T\n",
"m=5.05*10^-27;// in J/T\n",
"g1=5.256;\n",
"\n",
"\n",
"// Solution:\n",
"H1=(h*f)/(g1*m);\n",
"printf('\n Magnetic field required for causing resonance is = %f T',H1)\n",
""
   ]
   }
,
{
		   "cell_type": "markdown",
		   "metadata": {},
		   "source": [
			"## Example 2.14: P2_14.sce"
		   ]
		  },
  {
"cell_type": "code",
	   "execution_count": null,
	   "metadata": {
	    "collapsed": true
	   },
	   "outputs": [],
"source": [
"//Ex2_14\n",
"clc;\n",
"\n",
"//Given:\n",
"mf=1.0;// In T\n",
"h=6.6262*10^-34;// in J.s\n",
"mn=5.0504*10^-27;//in J/T\n",
"gB=5.4;\n",
"gN=4.01;\n",
"// Solution:\n",
"v1=(gB*mn*mf)/(h*10^6);\n",
"\n",
"v2=(gN*mn*mf)/(h*10^6);\n",
"\n",
"printf('\n The ratio of NMR frequencies of B/N is = %f',v1/v2)"
   ]
   }
,
{
		   "cell_type": "markdown",
		   "metadata": {},
		   "source": [
			"## Example 2.15: P2_15.sce"
		   ]
		  },
  {
"cell_type": "code",
	   "execution_count": null,
	   "metadata": {
	    "collapsed": true
	   },
	   "outputs": [],
"source": [
"\n",
"// Ex2_15\n",
"clc;\n",
"\n",
"// Given:\n",
"E=14.4*10^-3;// in MeV\n",
"m=57;\n",
"// Solution:\n",
"Er=(536*(E)^2)/(m*10^-3);\n",
"printf('The recoil energy is = %f meV',Er)"
   ]
   }
,
{
		   "cell_type": "markdown",
		   "metadata": {},
		   "source": [
			"## Example 2.16: P2_16.sce"
		   ]
		  },
  {
"cell_type": "code",
	   "execution_count": null,
	   "metadata": {
	    "collapsed": true
	   },
	   "outputs": [],
"source": [
"\n",
"// Ex2_16\n",
"clc;\n",
"\n",
"// Given:\n",
"Er=2.551;// in meV\n",
"m=119;// atomic wt of Sn\n",
"\n",
"// Solution:\n",
"E=sqrt(2.551*10^-3*119/536);// energy emitted by nucleus\n",
"printf('The energy emtted by the nucleus is = %f MeV',E)\n",
""
   ]
   }
,
{
		   "cell_type": "markdown",
		   "metadata": {},
		   "source": [
			"## Example 2.17: P2_17.sce"
		   ]
		  },
  {
"cell_type": "code",
	   "execution_count": null,
	   "metadata": {
	    "collapsed": true
	   },
	   "outputs": [],
"source": [
"\n",
"// Ex2_17\n",
"clc;\n",
"// Given:\n",
"l=10^-10;// in m\n",
"m=100;// in u\n",
"h=6.6262*10^-34;// in J.s\n",
"\n",
"\n",
"// Solution:\n",
"v=h/(m*l*1.67*10^-27);// velocity\n",
"f=v/l;// frequency\n",
"\n",
"printf('The doppler shift frequency is = %f Hz',f)"
   ]
   }
,
{
		   "cell_type": "markdown",
		   "metadata": {},
		   "source": [
			"## Example 2.18: P2_18.sce"
		   ]
		  },
  {
"cell_type": "code",
	   "execution_count": null,
	   "metadata": {
	    "collapsed": true
	   },
	   "outputs": [],
"source": [
"\n",
"// Ex2_18\n",
"clc;\n",
"//Given:\n",
"// 1 ev=8065 cm^-1\n",
"E=14.4*10^3;// in eV\n",
"// Solution:\n",
"f1=E*8065;// frequency in cm^-1\n",
"printf('\n The frequency in cm^-1 is = %f',f1)\n",
"fr=f1*3*10^8*100;\n",
"printf('\n The frequency in Hz is = %f',fr)\n",
"\n",
"\n",
""
   ]
   }
,
{
		   "cell_type": "markdown",
		   "metadata": {},
		   "source": [
			"## Example 2.19: P2_19.sce"
		   ]
		  },
  {
"cell_type": "code",
	   "execution_count": null,
	   "metadata": {
	    "collapsed": true
	   },
	   "outputs": [],
"source": [
"\n",
"// Ex2_19\n",
"clc;\n",
"\n",
"// Given:\n",
"//Given:\n",
"// 1 ev=8065 cm^-1\n",
"E=14.4*10^3;// in eV\n",
"v1=2.2*10^-3;// in m/s\n",
"// Solution:\n",
"f1=E*8065;// frequency in cm^-1\n",
"fr=f1*3*10^8*100;\n",
"fr1=(fr*v1)/(3*10^8);\n",
"\n",
"printf('The shift in frequency between the source and the sample is = %f Hz',fr1)\n",
"\n",
"\n",
""
   ]
   }
,
{
		   "cell_type": "markdown",
		   "metadata": {},
		   "source": [
			"## Example 2.1: P2_1.sce"
		   ]
		  },
  {
"cell_type": "code",
	   "execution_count": null,
	   "metadata": {
	    "collapsed": true
	   },
	   "outputs": [],
"source": [
"\n",
"//Ex2_1\n",
"\n",
"clc;\n",
"\n",
"//Given:\n",
"f=19;// atomic mass no. of F\n",
"a=197;// atomic mass no.of Au\n",
"p=239;// atomic mass no. of Pu\n",
"//solution:(a)\n",
"\n",
"m1=f/(6.02*10^23);\n",
"Rf=1.4*(f^(1/3))*10^-13;// in cm\n",
"V1=1.3333*3.14*(Rf)^3;\n",
"df=m1/(V1*10^14);// density in 10^14 g cm^-3\n",
"printf('\n The density nucleus of F(19) in 10^14 g cm^-3 is = %f ',df)\n",
"\n",
"//(b)\n",
"m2=a/(6.02*10^23);\n",
"Ra=1.4*(a^(1/3))*10^-13;// in cm\n",
"V2=1.3333*3.14*(Ra)^3;\n",
"da=m2/(V2*10^14);// density in 10^14 g cm^-3\n",
"printf('\n The density nucleus of Au(197) in 10^14 g cm^-3 is = %f ',da)\n",
"\n",
"\n",
"//(c)\n",
"m3=p/(6.02*10^23);\n",
"Rp=1.4*(p^(1/3))*10^-13;// in cm\n",
"V3=1.3333*3.14*(Rp)^3;\n",
"dp=m3/(V3*10^14);// density in 10^14 g cm^-3\n",
"printf('\n The density nucleus of P(239) in 10^14 g cm^-3 is = %f ',dp)\n",
"\n",
"// Note: The density for Au(197) is not calculated correctly in the textbook.\n",
""
   ]
   }
,
{
		   "cell_type": "markdown",
		   "metadata": {},
		   "source": [
			"## Example 2.20: P2_20.sce"
		   ]
		  },
  {
"cell_type": "code",
	   "execution_count": null,
	   "metadata": {
	    "collapsed": true
	   },
	   "outputs": [],
"source": [
"\n",
"// Ex2_20\n",
"clc;\n",
"\n",
"// Given:\n",
"E=1.6*14.4*10^3*10^-19;// energy in J\n",
"c=3*10^8;// in m/s\n",
"m=57*1.6*10^-27;\n",
"M=10^-4;\n",
"h=6.6262*10^-34;// in J.s\n",
"// Solution:\n",
"p=E/c;\n",
"v=p/m;\n",
"v1=(v*m)/(M);\n",
"v2=(v*m)/(M*10^-20);\n",
"f1=(E*v)/(h*c);\n",
"f2=(E*v1)/(h*c*10^-10);\n",
"printf('\n The recoil velocity of free atom is = %f m/s',v)\n",
"printf('\n The recoil velocity of atom that is part of crystal in 10^-20 = %f m/s',v2)\n",
"printf('\n The doppler shift for free atom is = %f Hz',f1)\n",
"printf('\n The doppler shift of atom that is part of crystal in 10^-10 Hz is = %f',f2)"
   ]
   }
,
{
		   "cell_type": "markdown",
		   "metadata": {},
		   "source": [
			"## Example 2.21: P2_21.sce"
		   ]
		  },
  {
"cell_type": "code",
	   "execution_count": null,
	   "metadata": {
	    "collapsed": true
	   },
	   "outputs": [],
"source": [
"\n",
"// Ex2_21\n",
"clc;\n",
"\n",
"// Given:\n",
"A=175;\n",
"R=1.4*10^-15*((A)^(1/3));\n",
"// Soluiton:\n",
"//Part a\n",
"sqrBMinusSqrA = (5.9 * (10^ (-28))) * 5 /(2 * 71);\n",
"\n",
"BMinusA = sqrBMinusSqrA / (2 * R);\n",
"\n",
"ellipticity = 2 * (BMinusA) / (2 * R);\n",
"\n",
"printf('\n Ellipticity is = %f\n',ellipticity);\n",
"\n",
"//Part B\n",
"\n",
"b = (BMinusA + (2 * R)) /2;\n",
"a = (-BMinusA + (2 * R)) /2;\n",
"\n",
"printf('\n b/a is = %f',b/a);"
   ]
   }
,
{
		   "cell_type": "markdown",
		   "metadata": {},
		   "source": [
			"## Example 2.22: P2_22.sce"
		   ]
		  },
  {
"cell_type": "code",
	   "execution_count": null,
	   "metadata": {
	    "collapsed": true
	   },
	   "outputs": [],
"source": [
"\n",
"// Ex2_22\n",
"clc;\n",
"\n",
"// Given:\n",
"A1=176;\n",
"A2=233;\n",
"R1=1.4*10^-15*((A1)^(1/3));\n",
"R2=1.4*10^-15*((A2)^(1/3));\n",
"// Soluiton:\n",
"//Part a\n",
"\n",
"sqrBMinusSqrA = (5 * 7 * (10^ (-28))) /(2 * 71);\n",
"\n",
"BMinusA = sqrBMinusSqrA / (2 * R1);\n",
"\n",
"ellipticity = 2 * (BMinusA) / (2 * R1);\n",
"\n",
"printf('Ellipticity is = %f\n',ellipticity);\n",
"\n",
"b = (BMinusA + (2 * R1)) /2;\n",
"a = (-BMinusA + (2 * R1)) /2;\n",
"\n",
"printf('b/a is = %f\n',b/a);\n",
"\n",
"//Part B\n",
"\n",
"\n",
"sqrBMinusSqrA = -(5 * 3 * (10^ (-28))) /(2 * 91);\n",
"\n",
"BMinusA = sqrBMinusSqrA / (2 * R2);\n",
"\n",
"ellipticity = 2 * (BMinusA) / (2 * R2);\n",
"\n",
"printf('Ellipticity is = %f\n',ellipticity);\n",
"\n",
"b = (BMinusA + (2 * R2)) /2;\n",
"a = (-BMinusA + (2 * R2)) /2;\n",
"\n",
"printf('b/a is = %f',b/a);"
   ]
   }
,
{
		   "cell_type": "markdown",
		   "metadata": {},
		   "source": [
			"## Example 2.23: P2_23.sce"
		   ]
		  },
  {
"cell_type": "code",
	   "execution_count": null,
	   "metadata": {
	    "collapsed": true
	   },
	   "outputs": [],
"source": [
"\n",
"\n",
"// Ex2_23\n",
"clc;\n",
"\n",
"// Given:\n",
"e = 0.03;\n",
"A=75;\n",
"R=1.4*10^-15*((A)^(1/3));\n",
"// Soluiton:\n",
"\n",
"BPlusA = 2 * R;\n",
"\n",
"BMinusA = e * R;\n",
"sqrBMinusSqrA = BPlusA * BMinusA;\n",
"\n",
"BMinusA = sqrBMinusSqrA / (2 * R);\n",
"\n",
"Q = (2*33*sqrBMinusSqrA)/5;\n",
"q1=Q/10^-28;\n",
"printf('Quadrapole moment is = %f in barns',q1);\n",
""
   ]
   }
,
{
		   "cell_type": "markdown",
		   "metadata": {},
		   "source": [
			"## Example 2.2: P2_2.sce"
		   ]
		  },
  {
"cell_type": "code",
	   "execution_count": null,
	   "metadata": {
	    "collapsed": true
	   },
	   "outputs": [],
"source": [
"\n",
"//Ex2_2\n",
"\n",
"clc;\n",
"\n",
"// Given:\n",
"// (a) Be(8)= 2 He(4)\n",
"// (b) Kr(80)= 2 Ar(40)\n",
"// (c) Cd(108)= 2 Cr(54)\n",
"\n",
"\n",
"// Solution:\n",
"m1=8.0053-2*4.00260;\n",
"m2=79.81638-2*39.96238;\n",
"m3=107.90418-2*53.93888;\n",
"\n",
"\n",
"if m1>0 then\n",
"    printf('\n Case (a) Fission is possible since m1= %f',m1)\n",
"else\n",
"    printf('\n Case (a) Fission is not possiblesince m1= %f',m1)\n",
"end\n",
"\n",
"if m2>0 then\n",
"  printf('\n Case (b) Fission is possible since m2= %f',m2)\n",
" else\n",
"    printf('\n Case (b) Fission is not possible since m2= %f',m2)\n",
"end \n",
" \n",
"if m3>0 then\n",
"    printf('\n Case (c) Fission is possible since m3= %f',m3)\n",
"else\n",
"    printf('\n Case (c) Fission is not possible since m3= %f',m3)\n",
"end"
   ]
   }
,
{
		   "cell_type": "markdown",
		   "metadata": {},
		   "source": [
			"## Example 2.3: P2_3.sce"
		   ]
		  },
  {
"cell_type": "code",
	   "execution_count": null,
	   "metadata": {
	    "collapsed": true
	   },
	   "outputs": [],
"source": [
"\n",
"// Ex2_3\n",
"\n",
"clc;\n",
"\n",
"// Given:\n",
"l=3;\n",
"f=3;\n",
"s=1/2;\n",
"\n",
"// Solution:\n",
"I=l-s;// total angulr momentum\n",
"P=(-1)^(l);//nuclear parity\n",
"mm=(I-2.293*(I/(I+1)));// in nuclear magneton\n",
"\n",
"printf('\n Nuclear spin of the nucleus is %f',I)\n",
"if P>0 then\n",
"    printf(' (+) ')\n",
"else\n",
"    printf(' (-) ')\n",
"end\n",
"\n",
"printf('\n Magnetic moment is = %f in nuclear magneton',mm)\n",
""
   ]
   }
,
{
		   "cell_type": "markdown",
		   "metadata": {},
		   "source": [
			"## Example 2.4: P2_4.sce"
		   ]
		  },
  {
"cell_type": "code",
	   "execution_count": null,
	   "metadata": {
	    "collapsed": true
	   },
	   "outputs": [],
"source": [
"\n",
"// Ex2_4\n",
"\n",
"clc;\n",
"\n",
"// Given:\n",
"\n",
"l=4;\n",
"g=4;\n",
"s=1/2;\n",
"\n",
"// Solution:\n",
"I=l+s;// total angulr momentum\n",
"P=(-1)^(l);//nuclear parity\n",
"mm=(I+2.293);// for odd proton and I=l+s in nuclear magneton\n",
"\n",
"printf('\n Nuclear spin of the nucleus is %f',I)\n",
"if P>0 then\n",
"    printf(' (+) ')\n",
"else\n",
"    printf(' (-) ')\n",
"end\n",
"printf('\n Magnetic moment is = %f in nuclear magneton',mm)"
   ]
   }
,
{
		   "cell_type": "markdown",
		   "metadata": {},
		   "source": [
			"## Example 2.5: P2_5.sce"
		   ]
		  },
  {
"cell_type": "code",
	   "execution_count": null,
	   "metadata": {
	    "collapsed": true
	   },
	   "outputs": [],
"source": [
"\n",
"// Ex2_5\n",
"\n",
"clc;\n",
"\n",
"// Given:(a) Cs(55) (b) Kr(36)\n",
"\n",
"// Solution: Part(a)\n",
"disp(' The odd nucleon is 55 proton in level 2 d 5/2 (+). Hence spin is 5/2 and parity (+)')\n",
"mm=((5/2)+2.293);\n",
"printf('\n Magnetic moment is = %f in nuclear magneton',mm)\n",
"// Solution: Part(b)\n",
"printf('\n \n The odd nucleon is 47 neutron in level 1 g 9/2 (+). Hence spin is 9/2 and parity (+)')\n",
"disp('Magnetic moment for neutron is m=-1.913 in nuclear magneton')"
   ]
   }
,
{
		   "cell_type": "markdown",
		   "metadata": {},
		   "source": [
			"## Example 2.7: P2_7.sce"
		   ]
		  },
  {
"cell_type": "code",
	   "execution_count": null,
	   "metadata": {
	    "collapsed": true
	   },
	   "outputs": [],
"source": [
"\n",
"// Ex2_7\n",
"\n",
"clc;\n",
"\n",
"// Given:\n",
"h=6.6262*10^-34;// in J.s\n",
"f=17.24*10^6;// in Hz/T\n",
"m=5.05*10^-27;// in J/T\n",
"// Solution:\n",
"\n",
"E=h*f;\n",
"g=E/(m)\n",
"printf('The nuclear g factor for P is = %f',g)"
   ]
   }
,
{
		   "cell_type": "markdown",
		   "metadata": {},
		   "source": [
			"## Example 2.8: P2_8.sce"
		   ]
		  },
  {
"cell_type": "code",
	   "execution_count": null,
	   "metadata": {
	    "collapsed": true
	   },
	   "outputs": [],
"source": [
"\n",
"// Ex2_8\n",
"\n",
"clc;\n",
"// Given:\n",
"\n",
"h=6.6262*10^-34;// in J.s\n",
"f=17.24*10^6;// in Hz/T\n",
"m=5.05*10^-27;// in J/T\n",
"g=1.405;\n",
"\n",
"// Solution:\n",
"\n",
"E=g*m;\n",
"f=E/(h*10^6);// NMR frequency\n",
"\n",
"printf('The NMR frequency is = %f MHz',f)\n",
"\n",
"\n",
""
   ]
   }
,
{
		   "cell_type": "markdown",
		   "metadata": {},
		   "source": [
			"## Example 2.9: P2_9.sce"
		   ]
		  },
  {
"cell_type": "code",
	   "execution_count": null,
	   "metadata": {
	    "collapsed": true
	   },
	   "outputs": [],
"source": [
"\n",
"// Ex2_9\n",
"clc;\n",
"\n",
"// Given:\n",
"\n",
"h=6.6262*10^-34;// in J.s\n",
"f=30.256*10^6;// in Hz/T\n",
"m=5.05*10^-27;// in J/T\n",
"g1=5.585;\n",
"g2=1.405;\n",
"\n",
"// Solution:\n",
"H1=(h*f)/(g1*m);\n",
"H2=(h*f)/(g2*m);\n",
"printf('\n Magnetic field required for a proton is = %f T',H1)\n",
"printf('\n Magnetic field required for C 13 is = %f T',H2)"
   ]
   }
],
"metadata": {
		  "kernelspec": {
		   "display_name": "Scilab",
		   "language": "scilab",
		   "name": "scilab"
		  },
		  "language_info": {
		   "file_extension": ".sce",
		   "help_links": [
			{
			 "text": "MetaKernel Magics",
			 "url": "https://github.com/calysto/metakernel/blob/master/metakernel/magics/README.md"
			}
		   ],
		   "mimetype": "text/x-octave",
		   "name": "scilab",
		   "version": "0.7.1"
		  }
		 },
		 "nbformat": 4,
		 "nbformat_minor": 0
}
