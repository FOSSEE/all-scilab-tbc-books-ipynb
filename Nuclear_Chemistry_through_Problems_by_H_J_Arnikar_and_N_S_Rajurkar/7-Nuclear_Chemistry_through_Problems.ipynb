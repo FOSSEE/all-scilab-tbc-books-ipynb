{
"cells": [
 {
		   "cell_type": "markdown",
	   "metadata": {},
	   "source": [
       "# Chapter 7: Nuclear Chemistry through Problems"
	   ]
	},
{
		   "cell_type": "markdown",
		   "metadata": {},
		   "source": [
			"## Example 7.1: P7_1.sce"
		   ]
		  },
  {
"cell_type": "code",
	   "execution_count": null,
	   "metadata": {
	    "collapsed": true
	   },
	   "outputs": [],
"source": [
"// Ex7_1\n",
"\n",
"clc;\n",
"\n",
"// Given:\n",
"\n",
"f=1.03;// fast fission factor\n",
"n=1.32;// no. of fast neutrons generated per thermal radiations\n",
"ref=0.89;// resonance escape factor\n",
"tuf=0.87;// thermal utilization factor\n",
"\n",
"// Solution\n",
"\n",
"rf=f*n*ref*tuf;//reproduction factor\n",
"\n",
"printf('The reproduction factor for the reactor is = %f',rf)"
   ]
   }
,
{
		   "cell_type": "markdown",
		   "metadata": {},
		   "source": [
			"## Example 7.2: P7_2.sce"
		   ]
		  },
  {
"cell_type": "code",
	   "execution_count": null,
	   "metadata": {
	    "collapsed": true
	   },
	   "outputs": [],
"source": [
"\n",
"// Ex7_2\n",
"\n",
"clc;\n",
"\n",
"// Given:\n",
"k=1.04;\n",
"m=0.032;// in m^2 i.e., migration area M^2\n",
"\n",
"// Solution: (a) Cubical reactor\n",
"a=3.14*sqrt(3*m/(k-1));\n",
"\n",
"printf('\n The approximate critical dimensionsof a Pu 239 is = %f m',a)\n",
"\n",
"\n",
"// Solution: (a) Spherical reactor\n",
"r=a/sqrt(3);\n",
"\n",
"printf('\n \n The radius of the reactor is = %f m',r)"
   ]
   }
,
{
		   "cell_type": "markdown",
		   "metadata": {},
		   "source": [
			"## Example 7.3: P7_3.sce"
		   ]
		  },
  {
"cell_type": "code",
	   "execution_count": null,
	   "metadata": {
	    "collapsed": true
	   },
	   "outputs": [],
"source": [
"\n",
"// Ex7_3\n",
"\n",
"clc;\n",
"\n",
"// Given:\n",
"a1=687; // neutron absorption cross section for U 235 in barns\n",
"a2=0.66 // neutron absorption cross section for H2O in barns\n",
"a3=0.0093; // neutron absorption cross section for D2O in barns\n",
"a4=0.0045; // neutron absorption cross section for C in barns\n",
"\n",
"//Solution:\n",
"\n",
"F1=1.07*a1/a2;//design parameter for H2O part(a)\n",
"printf('\n The design parameter for H2O is = %f',F1)\n",
"\n",
"F2=1.07*a1/a3;//design parameter for D2O part(b)\n",
"printf('\n \n The design parameter for D2O is = %f',F2)\n",
"\n",
"F3=1.07*a1/a4;//design parameter for C part(c)\n",
"printf('\n \n The design parameter for C is = %f',F3)"
   ]
   }
,
{
		   "cell_type": "markdown",
		   "metadata": {},
		   "source": [
			"## Example 7.4: P7_4.sce"
		   ]
		  },
  {
"cell_type": "code",
	   "execution_count": null,
	   "metadata": {
	    "collapsed": true
	   },
	   "outputs": [],
"source": [
"// Ex7_4\n",
"\n",
"clc;\n",
"\n",
"// Given:\n",
"P=10*10^6; // power in watts\n",
"E=200*10^6; // in eV\n",
"\n",
"// Solution:\n",
"e=E*1.6*10^-19;// in joules\n",
"// Thus for 1 fission occurs per second, rate of power generation is e\n",
"n=(P)/e;// no. of fissions\n",
"printf('The no. of fissions per second are = %f',n)"
   ]
   }
,
{
		   "cell_type": "markdown",
		   "metadata": {},
		   "source": [
			"## Example 7.5: P7_5.sce"
		   ]
		  },
  {
"cell_type": "code",
	   "execution_count": null,
	   "metadata": {
	    "collapsed": true
	   },
	   "outputs": [],
"source": [
"\n",
"// Ex7_5\n",
"\n",
"clc;\n",
"\n",
"// Given:\n",
"density=19;// in g/cc\n",
"E1=200*10^6*(1.6*10^-19); // energy released per fission in J\n",
"flux1=10^12;// in cm^2/s\n",
"a1=590*10^-24;//fission cross-section in cm^2\n",
"Na1=6.02*10^23;\n",
"\n",
"// Solution:\n",
"\n",
"//Ntgt=volume of target*No.of atoms per cm^3\n",
"\n",
"Ni=(30*((0.5)^2)*3.14*density*Na1*(0.72*10^-2))/238;\n",
"\n",
"Np=Ni*a1*flux1;\n",
"\n",
"E2=E1*Np;// Thermal energy generated in J\n",
"\n",
"printf('\n The thermal energy generated is = %f J',E2)\n",
"// Note: There is discrepancy in answer given in the textbook. After calculations the answer comes out to be 153.850366 J"
   ]
   }
],
"metadata": {
		  "kernelspec": {
		   "display_name": "Scilab",
		   "language": "scilab",
		   "name": "scilab"
		  },
		  "language_info": {
		   "file_extension": ".sce",
		   "help_links": [
			{
			 "text": "MetaKernel Magics",
			 "url": "https://github.com/calysto/metakernel/blob/master/metakernel/magics/README.md"
			}
		   ],
		   "mimetype": "text/x-octave",
		   "name": "scilab",
		   "version": "0.7.1"
		  }
		 },
		 "nbformat": 4,
		 "nbformat_minor": 0
}
