{
"cells": [
 {
		   "cell_type": "markdown",
	   "metadata": {},
	   "source": [
       "# Chapter 11: Nuclear Chemistry through Problems"
	   ]
	},
{
		   "cell_type": "markdown",
		   "metadata": {},
		   "source": [
			"## Example 11.10: P11_10.sce"
		   ]
		  },
  {
"cell_type": "code",
	   "execution_count": null,
	   "metadata": {
	    "collapsed": true
	   },
	   "outputs": [],
"source": [
"//Ex11_10\n",
"\n",
"clc;\n",
"//Given:\n",
"dose=4.06// in Gy/min\n",
"z=0.553;//Z/A for fricke solution \n",
"\n",
"\n",
"// Formula : D(NaIo4)*(Z/A Fricke)=D(Fricke)*(Z/A NaIO4)\n",
"\n",
"// Solution:\n",
"\n",
"// Part(a) Chloroform\n",
"z1=58/119.5;// Z/A value for Chloroform\n",
"dose1=dose*z1/z;\n",
"Dose1=dose1*360;// for 6 hours // in Gy\n",
"printf('\n The dose absorbed by sodium periodate in 6 h is = %f Gy',Dose1)\n",
"// Part(b) Bromoform\n",
"z2=112/253;// Z/A value for Bromoform\n",
"dose2=dose*z2/z;\n",
"Dose2=dose2*360;// for 6 hours // in Gy\n",
"printf('\n \n The dose absorbed by sodium periodate in 6 h is = %f Gy',Dose2)\n",
"// Part(c) Iodoform\n",
"z3=166/394;// Z/A value for Iodoform\n",
"dose3=dose*z3/z;\n",
"Dose3=dose3*360;// for 6 hours // in Gy\n",
"printf('\n \n The dose absorbed by sodium periodate in 6 h is = %f Gy',Dose3)"
   ]
   }
,
{
		   "cell_type": "markdown",
		   "metadata": {},
		   "source": [
			"## Example 11.11: P11_11.sce"
		   ]
		  },
  {
"cell_type": "code",
	   "execution_count": null,
	   "metadata": {
	    "collapsed": true
	   },
	   "outputs": [],
"source": [
"\n",
"//Ex11_11\n",
"\n",
"clc;\n",
"\n",
"// To find:\n",
"//Fraction of the energy absorbed by ethanol\n",
"\n",
"//Formula:\n",
"//(Z/A) for  compound = (summation of Z of all the atoms)/ molecular weight of compound\n",
"\n",
"z1=26/46;// Z/A value for ethanl\n",
"z2=32/60;// Z/A value for acetic acid\n",
"Deth=z1/(z1+z2);\n",
"// Note that the dose absorbed by each component is proportional to its Z/A in the total\n",
"printf('The fraction of the energy absorbed by ethanol = %f',Deth)"
   ]
   }
,
{
		   "cell_type": "markdown",
		   "metadata": {},
		   "source": [
			"## Example 11.12: P11_12.sce"
		   ]
		  },
  {
"cell_type": "code",
	   "execution_count": null,
	   "metadata": {
	    "collapsed": true
	   },
	   "outputs": [],
"source": [
"// Ex11_12\n",
"\n",
"clc;\n",
"//Given:\n",
"density1=1.48;// for chloroform\n",
"density2=1.024;// for fricke solution\n",
"mole=30*10^-6;// moles of HCl\n",
"l=6.023*10^23;// avogadro constant\n",
"e=2174;//extension coefficient\n",
"OD=0.5633;\n",
"d=1;// cell path in cm\n",
"// G(Fe+3)=15.5 ions/100 eV\n",
"// Solution:\n",
"\n",
"//HCl produced\n",
"m1=mole*l;\n",
"conc=OD*d/e;// in moles/l\n",
"conc1=conc*l;// molecules in 100 min\n",
"\n",
"//This implies amount (conc1) of molecules/l in 10 min for CHCl3 solution will be\n",
"conc2=conc1/10;\n",
"// energy that would be absorbed by frickes solution to produce conc1 amount of molecules \n",
"\n",
"e1=conc2*100/15.5;// eV/l\n",
"e2=e1/100;// eV per 10 ml\n",
"\n",
"// we know that energy absorbed is proportional to its density\n",
"\n",
"e3=e2*density1/density2;// in eV\n",
"\n",
"//G(HCl)\n",
"g=m1*100/e3;\n",
"\n",
"printf('The value of G(HCL) in the radiolysis of CHCl3 is = %f',g)"
   ]
   }
,
{
		   "cell_type": "markdown",
		   "metadata": {},
		   "source": [
			"## Example 11.1: P11_1.sce"
		   ]
		  },
  {
"cell_type": "code",
	   "execution_count": null,
	   "metadata": {
	    "collapsed": true
	   },
	   "outputs": [],
"source": [
"\n",
"//Ex11_1\n",
"\n",
"clc;\n",
"\n",
"//Given:\n",
"density1=1.000;// for water in CGS units\n",
"density2=0.789;// for ethanol in CGS units\n",
"density3=0.793;// for methanol in CGS units\n",
"l=6.023*10^23;// avogadro constant\n",
"ue=0.211;// electron absorption coefficent in barn per electron\n",
"// 1 b=10^(-24) cm^2\n",
"\n",
"\n",
"//solution: (a) Water\n",
"\n",
"z1=10;// no. of electrons\n",
"a1=18;// atomic mass of water\n",
"uw=ue*z1;//molecule absorption coefficient\n",
"umw=(uw*l*10^-24)/a1;//mass absorption coefficient\n",
"ulw=umw*density1;// linear absorption coefficient\n",
"\n",
"printf('\n The molecule absorption coefficient of water in b/molecule is = %f ',uw)\n",
"printf('\n The mass absorption coefficient of water in cm^2/g is = %f ',umw)\n",
"printf('\n The linear absorption coefficient of water in cm^-1 is = %f ',ulw)\n",
"\n",
"//solution: (b) ethanol\n",
"\n",
"z2=26;// no. of electrons\n",
"a2=46;// atomic mass of water\n",
"ueth=ue*z2;//molecule absorption coefficient\n",
"umeth=(ueth*l*10^-24)/a2;//mass absorption coefficient\n",
"uleth=umeth*density2;// linear absorption coefficient\n",
"\n",
"printf('\n \n The molecule absorption coefficient of ethanol in b/molecule is = %f ',ueth)\n",
"printf('\n The mass absorption coefficient of ethanol in cm^2/g is = %f ',umeth)\n",
"printf('\n The linear absorption coefficient of ethanol in cm^-1 is = %f ',uleth)\n",
"\n",
"//solution: (c) methanol\n",
"\n",
"z3=18;// no. of electrons\n",
"a3=32;// atomic mass of water\n",
"umet=ue*z3;//molecule absorption coefficient\n",
"ummet=(umet*l*10^-24)/a3;//mass absorption coefficient\n",
"ulmet=ummet*density3;// linear absorption coefficient\n",
"\n",
"printf('\n \n The molecule absorption coefficient of methanol in b/molecule is = %f ',umet)\n",
"printf('\n The mass absorption coefficient of methanol in cm^2/g is = %f ',ummet)\n",
"printf('\n The linear absorption coefficient of methanol in cm^-1 is = %f ',ulmet)"
   ]
   }
,
{
		   "cell_type": "markdown",
		   "metadata": {},
		   "source": [
			"## Example 11.2: P11_2.sce"
		   ]
		  },
  {
"cell_type": "code",
	   "execution_count": null,
	   "metadata": {
	    "collapsed": true
	   },
	   "outputs": [],
"source": [
"\n",
"//Ex11_2\n",
"\n",
"clc;\n",
"\n",
"//Given:\n",
"\n",
"// for benzene in CGS units\n",
"density1=.879;\n",
"lac1=.06014; // linear absorption coefficient\n",
"\n",
"// for cyclohexane in CGS units \n",
"density2=0.779;\n",
"lac2=.05656; // linear absorption coefficient\n",
"l=6.023*10^23;// avogadro constant\n",
"ue=0.211;// electron absorption coefficent in barn per electron\n",
"// 1 b=10^(-24) cm^2\n",
"\n",
"\n",
"//solution: (a)Benzene\n",
"\n",
"a1=78;// atomic mass of benzene\n",
"mac1=lac1/density1; //mass absorption coefficient\n",
"mb=(mac1*a1)/(l*10^-24); //molecule absorption coefficient of benzene\n",
"\n",
"printf('\n The molecule absorption coefficient of benzene in b/molecule is = %f ',mb)\n",
"printf('\n The mass absorption coefficient of benzene in cm^2/g is = %f ',mac1)\n",
"\n",
"\n",
"//solution: (b)cyclohexane\n",
"\n",
"a2=84;// atomic mass of cyclohexane\n",
"mac2=lac2/density2; //mass absorption coefficient\n",
"mc=(mac2*a2)/(l*10^-24); //molecule absorption coefficient of cyclohexane\n",
"\n",
"printf('\n \n The molecule absorption coefficient of cyclohexane in b/molecule is = %f ',mc)\n",
"printf('\n The mass absorption coefficient of cyclohexane in cm^2/g is = %f ',mac2)"
   ]
   }
,
{
		   "cell_type": "markdown",
		   "metadata": {},
		   "source": [
			"## Example 11.3: P11_3.sce"
		   ]
		  },
  {
"cell_type": "code",
	   "execution_count": null,
	   "metadata": {
	    "collapsed": true
	   },
	   "outputs": [],
"source": [
"\n",
"//Ex11_3\n",
"\n",
"clc;\n",
"\n",
"//Given:\n",
"//Atomic absorption coefficients for diferent atoms in b/atom\n",
"O=1.69;\n",
"Na=2.32;\n",
"P=3.17;\n",
"Ca=4.22;\n",
"I=12.03\n",
"// 1 b=10^(-24) cm^2\n",
"\n",
"\n",
"//solution:\n",
"//mass absorption coefficient for the given atoms in cm^2/g\n",
"\n",
"uO=(O*10^-24*6.022*10^23)/16;\n",
"uNa=(Na*10^-24*6.022*10^23)/23;\n",
"uP=(P*10^-24*6.022*10^23)/31;\n",
"uCa=(Ca*10^-24*6.022*10^23)/40;\n",
"uI=(I*10^-24*6.022*10^23)/127;\n",
"\n",
"// The mass absorption coefficient for the given substance is the sum of the mass absorption coefficients of the atoms present, each atom being weighted in proportion to its mass in the molecule.\n",
"\n",
"//(a) NaI(A1=150)\n",
"u1=(uNa*23+uI*127)/150;\n",
"//(b) NaIO3 (A2=198)\n",
"u2=(uNa*23+uI*127+uO*48)/198;\n",
"//(c) Ca(PO3)2 (A3=198)\n",
"u3=(uCa*40+uP*62+uO*96)/198;\n",
"//(d) Ca3(PO4)2 (A4=310)\n",
"u4=(uCa*120+uP*62+uO*128)/310;\n",
"\n",
"\n",
"printf('The mass absorption coefficient of NaI in cm^2/g is = %f ',u1)\n",
"printf('\n \n The mass absorption coefficient of NaIO3 in cm^2/g is = %f ',u2)\n",
"printf('\n \n The mass absorption coefficient of Ca(PO3)2 in cm^2/g is = %f ',u3)\n",
"printf('\n \n The mass absorption coefficient of Ca3(PO4)2 in cm^2/g is = %f ',u4)\n",
""
   ]
   }
,
{
		   "cell_type": "markdown",
		   "metadata": {},
		   "source": [
			"## Example 11.4: P11_4.sce"
		   ]
		  },
  {
"cell_type": "code",
	   "execution_count": null,
	   "metadata": {
	    "collapsed": true
	   },
	   "outputs": [],
"source": [
"\n",
"//Ex11_1\n",
"\n",
"clc;\n",
"\n",
"//Given:\n",
"density1=3.123;// for KI in CGS units\n",
"density2=3.168;// for KIO3 in CGS units\n",
"l=6.023*10^23;// avogadro constant\n",
"ue=0.211;// electron absorption coefficent in barn per electron\n",
"// 1 b=10^(-24) cm^2\n",
"\n",
"//Atomic absorption coefficients for diferent atoms in b/atom\n",
"\n",
"K=ue*19;\n",
"I=ue*53;\n",
"O=ue*8;\n",
"\n",
"//mass absorption coefficient for the given atoms in cm^2/g\n",
"\n",
"uK=(6.022*10^23*K*10^-24)/39;\n",
"uI=(6.022*10^23*I*10^-24)/127;\n",
"uO=(6.022*10^23*O*10^-24)/16;\n",
"\n",
"//solution: (a)KI\n",
"\n",
"uKI=K+I;//molecular absorption coefficient\n",
"umKI=(39*uK+127*uI)/166;//mass absorption coefficient\n",
"ulKI=umKI*density1;// linear absorption coefficient\n",
"\n",
"printf('\n The molecular absorption coefficient of KI in b/molecule is = %f ',uKI)\n",
"printf('\n The mass absorption coefficient of KI in cm^2/g is = %f ',umKI)\n",
"printf('\n The linear absorption coefficient of KI in cm^-1 is = %f ',ulKI)\n",
"\n",
"//solution: (b)KIO3\n",
"\n",
"uKIO4=(K+I+O*4);//molecule absorption coefficient\n",
"umKIO4=(39*uK+127*uI+64*uO)/230;//mass absorption coefficient\n",
"ulKIO4=umKIO4*density2;// linear absorption coefficient\n",
"\n",
"printf('\n \n The molecular absorption coefficient of KIO4 in b/molecule is = %f ',uKIO4)\n",
"printf('\n The mass absorption coefficient of KIO4 in cm^2/g is = %f ',umKIO4)\n",
"printf('\n The linear absorption coefficient of KIO4 in cm^-1 is = %f ',ulKIO4)"
   ]
   }
,
{
		   "cell_type": "markdown",
		   "metadata": {},
		   "source": [
			"## Example 11.5: P11_5.sce"
		   ]
		  },
  {
"cell_type": "code",
	   "execution_count": null,
	   "metadata": {
	    "collapsed": true
	   },
	   "outputs": [],
"source": [
"\n",
"//Ex11_5\n",
"\n",
"clc;\n",
"\n",
"//Given:\n",
"i1=4000;// initial intensity of radiaton\n",
"i2=2000;// final intensity of radiation\n",
"density1=8.96;// density of copper\n",
"l=6.022*10^23;// avogadro constant\n",
"ue=0.211;// electron absorption coefficent in barn per electron\n",
"// 1 b=10^(-24) cm^2\n",
"\n",
"//solution:\n",
"\n",
"uCu=ue*29;//atomic absorbtion coefficient in b/atom\n",
"umCu=(6.022*10^23*uCu*10^-24)/63; // mass absorbtion coefficient in cm^2/g\n",
"ulCu=umCu*density1;// linear absorption coefficient in cm^-1\n",
"\n",
"// we know that, i2=i1*exp(ulCu*x)\n",
"\n",
"x=log(i1/i2)/(ulCu);// thickness of the copper plate\n",
"\n",
"printf('\n The thickness of copper nedded to reduce the intensity of the radiation in cm is =%f',x)"
   ]
   }
,
{
		   "cell_type": "markdown",
		   "metadata": {},
		   "source": [
			"## Example 11.6: P11_6.sce"
		   ]
		  },
  {
"cell_type": "code",
	   "execution_count": null,
	   "metadata": {
	    "collapsed": true
	   },
	   "outputs": [],
"source": [
"\n",
"//Ex11_6\n",
"\n",
"clc;\n",
"\n",
"//Given:\n",
"\n",
"// Relative biological effectiveness(RBE)\n",
"a7=10;// for alpha partical\n",
"a6=1;//for gamma radiations\n",
"tn=2.5;// for thermal neutrons\n",
"g=1;// for gamma radiation\n",
"rd=0.6;//radiation dose in gray\n",
"//Formulas\n",
"//1.The Rontgen equivalent mammal (REM)=RBE*rads\n",
"//2.The sievert is the SI unit for REM= RBE*grays\n",
"//3. 1 gray(Gy)=100 rads\n",
"\n",
"//Solution:\n",
"\n",
"// part (a) alpha particles\n",
"a1=a7*rd// biological efective dose in Sv\n",
"a2=a1*100;// biological efective dose in rem\n",
"printf('\n The biological efective dose for alpha particles in Sv is = %f',a1)\n",
"printf('\n The biological efective dose for alpha particles in rem is = %f',a2)\n",
"\n",
"// part (b) thermal neutrons\n",
"tn1=tn*rd// biological efective dose in Sv\n",
"tn2=tn1*100;// biological efective dose in rem\n",
"printf('\n \n The biological efective dose for thermal neutrons in Sv is = %f',tn1)\n",
"printf('\n The biological efective dose for thermal neutrons in rem is = %f',tn2)\n",
"\n",
"// part (c) gamma particles\n",
"g1=a6*rd// biological efective dose in Sv\n",
"g2=g1*100;// biological efective dose in rem\n",
"printf('\n \n The biological efective dose for gamma particles in Sv is = %f',g1)\n",
"printf('\n The biological efective dose for gamma particles in rem is = %f',g2)"
   ]
   }
,
{
		   "cell_type": "markdown",
		   "metadata": {},
		   "source": [
			"## Example 11.7: P11_7.sce"
		   ]
		  },
  {
"cell_type": "code",
	   "execution_count": null,
	   "metadata": {
	    "collapsed": true
	   },
	   "outputs": [],
"source": [
"\n",
"//Ex11_7\n",
"\n",
"clc;\n",
"\n",
"//Given:\n",
"density1=11.35;// density of copper\n",
"l=6.022*10^23;// avogadro constant\n",
"ue=0.211;// electron absorption coefficent in barn per electron\n",
"// 1 b=10^(-24) cm^2\n",
"\n",
"//solution:\n",
"\n",
"uPb=ue*82;//atomic absorbtion coefficient in b/atom\n",
"umPb=(6.022*10^23*uPb*10^-24)/207.2; // mass absorbtion coefficient in cm^2/g\n",
"ulPb=umPb*density1;// linear absorption coefficient in cm^-1\n",
"\n",
"// we know that, i2=i1*exp(ulCu*x)\n",
"// Case (i) from 0.1 Gy/min to 3.1 mGy/h\n",
"i1=6;// in Gy/h\n",
"i2=3.1*10^-3;//in Gy/h\n",
"x=log(i1/i2)/(ulPb);// thickness of the lead plate\n",
"printf('\n The thickness of lead nedded to reduce the intensity of the radiation in cm is =%f',x)\n",
"\n",
"// Case (ii) from 100 Gy/min to 0.1 mGy/h\n",
"j1=6000;// in Gy/h\n",
"j2=0.1*10^-3;// in Gy/h\n",
"y=log(j1/j2)/(ulPb);// thickness of the lead plate\n",
"printf('\n \n The thickness of lead nedded to reduce the intensity of the radiation in cm is =%f',y)\n",
"\n",
"// Case (iii) half thickness\n",
"z=(0.693)/ulPb;// thickness of the lead plate\n",
"printf('\n \n The thickness of lead nedded to reduce the intensity of the radiation in cm is =%f',z)"
   ]
   }
,
{
		   "cell_type": "markdown",
		   "metadata": {},
		   "source": [
			"## Example 11.8: P11_8.sce"
		   ]
		  },
  {
"cell_type": "code",
	   "execution_count": null,
	   "metadata": {
	    "collapsed": true
	   },
	   "outputs": [],
"source": [
"//Ex11_8\n",
"\n",
"clc;\n",
"\n",
"// To find:\n",
"\n",
"//(a)Z/A value for Carbontetrachloride\n",
"//(b)Z/A value for acetic acid\n",
"//(c)Z/A value for Cyclohexane\n",
"\n",
"//Formula:\n",
"//(Z/A) for  compound = (summation of Z of all the atoms)/ molecular weight of compound\n",
"\n",
"//solution:\n",
"\n",
"// Part (a) CCl4\n",
"\n",
"z1=(6+4*17)/154;// Z/A value for Carbontetrachloride\n",
"z2=(2*6+4*1+2*8)/60;// Z/A value for acetic acid\n",
"z3=(6*6+12*1)/84;// Z/A value for Cyclohexane\n",
"\n",
"printf('\n The Z/A value for Carbontetrachloride is = %f',z1)\n",
"printf('\n \n The Z/A value for acetic acid is = %f',z2)\n",
"printf('\n \n The Z/A value for Cyclohexane is = %f',z3)"
   ]
   }
,
{
		   "cell_type": "markdown",
		   "metadata": {},
		   "source": [
			"## Example 11.9: P11_9.sce"
		   ]
		  },
  {
"cell_type": "code",
	   "execution_count": null,
	   "metadata": {
	    "collapsed": true
	   },
	   "outputs": [],
"source": [
"//Ex11_9\n",
"\n",
"clc;\n",
"//Given:\n",
"dose1=2.15// in Gy/min\n",
"// Z values\n",
"Na=11;\n",
"I=53;\n",
"O=8;\n",
"// A values\n",
"mNa=23;\n",
"mI=127;\n",
"mO=16;\n",
"z2=0.553;//Z/A for fricke solution \n",
"\n",
"// Solution:\n",
"z1=(11+53+8*4)/(127+23+16*4);// Z/A value for sodium periodate(Z/A NaIO4)\n",
"\n",
"// Formula : D(NaIo4)*(Z/A Fricke)=D(Fricke)*(Z/A NaIO4)\n",
"\n",
"dose2=(dose1*z1)/z2;// in Gy/min\n",
"// for 3 hours\n",
"\n",
"Dose=dose2*180;// in Gy\n",
"printf('The dose absorbed by sodium periodate in 3 h is = %f Gy',Dose)\n",
"\n",
"\n",
"// Note: There is correction in the value of (Z/A NaIO4) calculated in the book. The actual value comes out to be 0.44859\n",
""
   ]
   }
],
"metadata": {
		  "kernelspec": {
		   "display_name": "Scilab",
		   "language": "scilab",
		   "name": "scilab"
		  },
		  "language_info": {
		   "file_extension": ".sce",
		   "help_links": [
			{
			 "text": "MetaKernel Magics",
			 "url": "https://github.com/calysto/metakernel/blob/master/metakernel/magics/README.md"
			}
		   ],
		   "mimetype": "text/x-octave",
		   "name": "scilab",
		   "version": "0.7.1"
		  }
		 },
		 "nbformat": 4,
		 "nbformat_minor": 0
}
