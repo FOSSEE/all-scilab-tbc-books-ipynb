{
"cells": [
 {
		   "cell_type": "markdown",
	   "metadata": {},
	   "source": [
       "# Chapter 10: Nuclear Chemistry through Problems"
	   ]
	},
{
		   "cell_type": "markdown",
		   "metadata": {},
		   "source": [
			"## Example 10.10: P10_10.sce"
		   ]
		  },
  {
"cell_type": "code",
	   "execution_count": null,
	   "metadata": {
	    "collapsed": true
	   },
	   "outputs": [],
"source": [
"\n",
"//Ex10_10\n",
"\n",
"clc;\n",
"\n",
"// Given:\n",
"M=55;// wt of Mn\n",
"m=0.1;// in g\n",
"t=90;// min irradated\n",
"flux=10^6;\n",
"t1=5; //in hours\n",
"cs=13.3*10^-24// in cm^2\n",
"hl=2.58;// in hours\n",
"Na=6.022*10^23;\n",
"r=100;// in %\n",
"// Solution:\n",
"s=1-(exp(-.693*t/(2.58*60)));\n",
"A=(m*Na*r*flux*cs*s)/(100*M);\n",
"x=exp(-0.693*5/2.58);\n",
"// activity after cooling period\n",
"\n",
"A1=A*x*60;// in  dpm\n",
"printf('The activity of sample in dpm is = %f', A1)"
   ]
   }
,
{
		   "cell_type": "markdown",
		   "metadata": {},
		   "source": [
			"## Example 10.11: P10_11.sce"
		   ]
		  },
  {
"cell_type": "code",
	   "execution_count": null,
	   "metadata": {
	    "collapsed": true
	   },
	   "outputs": [],
"source": [
"//Ex10_11\n",
"clc;\n",
"// Given:\n",
"t1=12.7;// in hours\n",
"a=4.5*10^-24;// in cm^2\n",
"r=69.1;//in %\n",
"cf=10;// in %\n",
"flux=10^6;\n",
"Na=6.022*10^23;\n",
"cpm=1500;// activity in counts per min\n",
"M=63;\n",
"//Solution:\n",
"dpm=cpm*100/10;\n",
"dps=dpm/60;\n",
"x=exp(-0.693*5/t1);\n",
"A=dps/x;\n",
"\n",
"s=1-(exp(-.693*10/(12.7)));\n",
"w=(A*M*100)/(Na*r*a*flux*s);// gms of Cu\n",
"\n",
"// given that 5g Cu in 100g alloy, for wg amount of alloy will be\n",
"\n",
"Y=100*w/5;// amount of alloy ing\n",
"\n",
"printf('\n The weight of the sample that should be taken is = %f g',Y)"
   ]
   }
,
{
		   "cell_type": "markdown",
		   "metadata": {},
		   "source": [
			"## Example 10.12: P10_12.sce"
		   ]
		  },
  {
"cell_type": "code",
	   "execution_count": null,
	   "metadata": {
	    "collapsed": true
	   },
	   "outputs": [],
"source": [
"\n",
"// Ex10_12\n",
"clc;\n",
"// Given:\n",
"vi=2.5;//titrant volume\n",
"V1=10; // vol of KBr in ml\n",
"N2=0.01;//normality of AgNO3\n",
"M1=119;// mol wt of KBr\n",
"// Solution:\n",
"ai=((12500/5)-10);\n",
"af=((6000/6)-10);\n",
"// deerease in activity due to addition of titrant 2.5ml\n",
"d=ai-af;\n",
"// volume corresponding to ai for AgNO3\n",
"V2=ai*vi/d;\n",
"N1=(N2*V2)/V1;// Normality of KBr solution\n",
"\n",
"m=N1*M1/100;// mass of KBr in 10 ml solution\n",
"\n",
"printf('\n The mass of potassium bromide in the original solution is = %f g',m)"
   ]
   }
,
{
		   "cell_type": "markdown",
		   "metadata": {},
		   "source": [
			"## Example 10.13: P10_13.sce"
		   ]
		  },
  {
"cell_type": "code",
	   "execution_count": null,
	   "metadata": {
	    "collapsed": true
	   },
	   "outputs": [],
"source": [
"\n",
"// Ex10_13\n",
"\n",
"clc;\n",
"\n",
"// Given:\n",
"w=5;// in g\n",
"ai=55;// counts per 10 min\n",
"A0=15.8;// in dpm/g\n",
"// Solution:\n",
"\n",
"cpm=55/10;\n",
"dpm=cpm*100/10; // 10% efficient counting\n",
"sa=dpm/w;// in dpm/g\n",
"t=5730*log(A0/sa)/(0.693); // Age determination\n",
"\n",
"printf('The age of the sample is = %f years',t)"
   ]
   }
,
{
		   "cell_type": "markdown",
		   "metadata": {},
		   "source": [
			"## Example 10.1: P10_1.sce"
		   ]
		  },
  {
"cell_type": "code",
	   "execution_count": null,
	   "metadata": {
	    "collapsed": true
	   },
	   "outputs": [],
"source": [
"//Ex10_1\n",
"\n",
"clc;\n",
"\n",
"// Given:\n",
"E=4.8;// in MeV\n",
"M=128;// molecular weight of I\n",
"\n",
"//Formula:\n",
"// Er=(536*E^2)/M\n",
"\n",
"// Solution:\n",
"\n",
"Er=(536*E^2)/M;\n",
"\n",
"printf('The energy of recoil of Iodine atom is = %f eV', Er)"
   ]
   }
,
{
		   "cell_type": "markdown",
		   "metadata": {},
		   "source": [
			"## Example 10.2: P10_2.sce"
		   ]
		  },
  {
"cell_type": "code",
	   "execution_count": null,
	   "metadata": {
	    "collapsed": true
	   },
	   "outputs": [],
"source": [
"\n",
"//Ex10_2\n",
"\n",
"clc;\n",
"\n",
"// Given:\n",
"E=1.1;// in MeV\n",
"M=65;// molecular weight of zinc\n",
"\n",
"//Formula:\n",
"// Er=(536*E^2)/M\n",
"\n",
"// Solution:\n",
"\n",
"Er=(536*E^2)/M;\n",
"\n",
"printf('The energy of recoil of Zinc atom is = %f eV', Er)"
   ]
   }
,
{
		   "cell_type": "markdown",
		   "metadata": {},
		   "source": [
			"## Example 10.3: P10_3.sce"
		   ]
		  },
  {
"cell_type": "code",
	   "execution_count": null,
	   "metadata": {
	    "collapsed": true
	   },
	   "outputs": [],
"source": [
"//Ex10_3\n",
"\n",
"clc;\n",
"\n",
"// Given:\n",
"M1=137.32;// moleular wt of barium\n",
"M2=32;// molecular weight of sulphur\n",
"M3=16;// molecular wt of oxygen\n",
"M4=233.32;// molecular wt of BaSO4\n",
"ai=40000;// specific initial activity in counts min^-1 mg^-1\n",
"af=187/20;// specific final activity in counts min^-1 0.1ml^-1\n",
"\n",
"// Formula:\n",
"// (1)S1=(af/ai)*(10/M) in moles/lit\n",
"// (2)S2=(af/ai)*(10^4) in mg/lit\n",
"\n",
"// Solution:\n",
"\n",
"S1=(af/ai)*(10/M4); // solubility of BaSO4 in moles/lit\n",
"S2=(af/ai)*10^4;// solubility of BaSO4 in mg/lit\n",
"printf('\n The solubility of BaSO4 in moles/lit is = %f',S1)\n",
"printf('\n \n The solubility of BaSO4 in mg/lit is = %f',S2)\n",
"\n",
""
   ]
   }
,
{
		   "cell_type": "markdown",
		   "metadata": {},
		   "source": [
			"## Example 10.4: P10_4.sce"
		   ]
		  },
  {
"cell_type": "code",
	   "execution_count": null,
	   "metadata": {
	    "collapsed": true
	   },
	   "outputs": [],
"source": [
"//Ex10_4\n",
"\n",
"clc;\n",
"\n",
"// Given:\n",
"conc=4;// 4 mg per 1 l\n",
"a1=1600;// labelled solution of PbSO4\n",
"a2=900;// activity of filtrate (in solution)\n",
"M=303.2;// molecular wt of PbSO4\n",
"l=6.022*10^23;\n",
"// Solution:\n",
"y=20*4/1000;// 20 ml will contain y mg\n",
"z=y*a2/a1;// final amount of PbSO4 in solution\n",
"a3=a1-a2;// activity on surface\n",
"// Let the total PbSO4 on surfaceof precipitate be x\n",
"// Asumming exchange equilibrium is established we have\n",
"\n",
"x=a3*z/a2;// in mg\n",
"molecules=x*10^-3*(l)/M;\n",
"// Give that surface area of 1 PbSO4 = 18.4*10^-16 cm^2\n",
"A=molecules*18.4*10^-16;\n",
"\n",
"printf('The surface area of 1 gm of precipitate sample is = %f cm^2/gm',A)\n",
"\n",
"\n",
"\n",
"\n",
"\n",
"\n",
"\n",
""
   ]
   }
,
{
		   "cell_type": "markdown",
		   "metadata": {},
		   "source": [
			"## Example 10.5: P10_5.sce"
		   ]
		  },
  {
"cell_type": "code",
	   "execution_count": null,
	   "metadata": {
	    "collapsed": true
	   },
	   "outputs": [],
"source": [
"//Ex10_5\n",
"\n",
"clc;\n",
"\n",
"// Given:\n",
"ai=14000;// counts per min per 0.1 cm^3, initial activity of blood\n",
"Si=1.4*10^5;// c min^-1 cm^-3, initial specific activity\n",
"a=250;// 250 net counts in 10 min, this implies 25 net counts in a min\n",
"\n",
"// Formula: Si/Sr = V\n",
"\n",
"// Solution:\n",
"V=Si/25;// total blood in the patient in cm^3\n",
"V1=V/1000;// volume in lit\n",
"printf('The volume of blood in the patient is = %f lit',V1)\n",
"\n",
"\n",
""
   ]
   }
,
{
		   "cell_type": "markdown",
		   "metadata": {},
		   "source": [
			"## Example 10.6: P10_6.sce"
		   ]
		  },
  {
"cell_type": "code",
	   "execution_count": null,
	   "metadata": {
	    "collapsed": true
	   },
	   "outputs": [],
"source": [
"//Ex10_6\n",
"\n",
"clc;\n",
"\n",
"// Given:\n",
"y=5;// in mg labelled sample\n",
"V=2000;// volume of mixture in ml\n",
"// Formula: x=y*(Si-Sf)/Sf\n",
"//Solution:\n",
"\n",
"Si=20000/(5*5);// initial specific activity in counts min^-1 mg^-1\n",
"Sf=3000/(.6*10);// final specific activity in counts min^-1 mg^-1\n",
"x=y*(Si-Sf)/Sf;// in mg for V amount of volume\n",
"//% of penicillin in mixture\n",
"p=x*100/V;\n",
"\n",
"printf('The percentage of penicillin in mixture is = %f ',p)"
   ]
   }
,
{
		   "cell_type": "markdown",
		   "metadata": {},
		   "source": [
			"## Example 10.7: P10_7.sce"
		   ]
		  },
  {
"cell_type": "code",
	   "execution_count": null,
	   "metadata": {
	    "collapsed": true
	   },
	   "outputs": [],
"source": [
"//Ex10_7\n",
"\n",
"clc;\n",
"\n",
"// Given:\n",
"y=2;// in ml labelled sample\n",
"V=1000;// volume of mixture in ml\n",
"BC=100/20;// 100 counts for 20 min\n",
"\n",
"\n",
"// Formula: x=y*(Si-Sf)/Sf\n",
"\n",
"//Solution:\n",
"\n",
"Si=(2500-BC)/(2);// initial specific activity in counts min^-1 mg^-1\n",
"Sf=(600-BC)/(3);// final specific activity in counts min^-1 mg^-1\n",
"x=y*(Si-Sf)/Sf;// in mg for V amount of volume\n",
"//% of iodine in mixture\n",
"i=x*100/V;\n",
"\n",
"printf('The percentage of iodine in mixture is = %f ',i)\n",
"\n",
"//NOte: Backward counts are taken to be 100 counts for 10 min in the solution given in textbook"
   ]
   }
,
{
		   "cell_type": "markdown",
		   "metadata": {},
		   "source": [
			"## Example 10.8: P10_8.sce"
		   ]
		  },
  {
"cell_type": "code",
	   "execution_count": null,
	   "metadata": {
	    "collapsed": true
	   },
	   "outputs": [],
"source": [
"//Ex10_8\n",
"\n",
"clc;\n",
"\n",
"// Given:\n",
"flux=10^12;\n",
"s=15.9*10^-24;\n",
"m1=0.5;// weight of ruby in mg\n",
"\n",
"//Soluton:\n",
"\n",
"a1=35000;// measured activity in c/s\n",
"\n",
"a2=350000;// corrected activity in )d/s\n",
"\n",
"N=a2/(flux*s*(1-0.5^(1/27.7)));\n",
"\n",
"m=50*N/(6.02*10^23);\n",
" \n",
"Cr=(100*m)/4.35;// total Cr in in the Ruby\n",
" \n",
"crp=(Cr*100)/0.5;// % cr in the ruby\n",
"  \n",
"printf('The percentage Cr content in the ruby is = %f ',crp)"
   ]
   }
,
{
		   "cell_type": "markdown",
		   "metadata": {},
		   "source": [
			"## Example 10.9: P10_9.sce"
		   ]
		  },
  {
"cell_type": "code",
	   "execution_count": null,
	   "metadata": {
	    "collapsed": true
	   },
	   "outputs": [],
"source": [
"\n",
"//Ex10_9\n",
"\n",
"clc;\n",
"\n",
"// Given:\n",
"\n",
"flux=10^12;\n",
"s=3.28*10^-27;\n",
"hf=1;// half life in min\n",
"//Soluton:\n",
"\n",
"a1=2500;// measured activity in d/s\n",
"\n",
"a2=5000;// corrected activity in d/s\n",
"\n",
"N=a2/(flux*s);\n",
"\n",
"m=76*N/(6.02*10^23);\n",
" \n",
"Cr=(100*m)/7.8;// total mass of Ge atoms (isotopic abandunce is 7.8%)\n",
"  \n",
"printf('The total mass of Ge atoms present in sample is = %f g',Cr)"
   ]
   }
],
"metadata": {
		  "kernelspec": {
		   "display_name": "Scilab",
		   "language": "scilab",
		   "name": "scilab"
		  },
		  "language_info": {
		   "file_extension": ".sce",
		   "help_links": [
			{
			 "text": "MetaKernel Magics",
			 "url": "https://github.com/calysto/metakernel/blob/master/metakernel/magics/README.md"
			}
		   ],
		   "mimetype": "text/x-octave",
		   "name": "scilab",
		   "version": "0.7.1"
		  }
		 },
		 "nbformat": 4,
		 "nbformat_minor": 0
}
