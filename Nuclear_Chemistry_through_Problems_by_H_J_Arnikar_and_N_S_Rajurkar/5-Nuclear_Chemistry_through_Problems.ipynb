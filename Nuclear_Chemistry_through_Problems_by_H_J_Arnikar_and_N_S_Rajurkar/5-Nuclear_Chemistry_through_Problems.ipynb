{
"cells": [
 {
		   "cell_type": "markdown",
	   "metadata": {},
	   "source": [
       "# Chapter 5: Nuclear Chemistry through Problems"
	   ]
	},
{
		   "cell_type": "markdown",
		   "metadata": {},
		   "source": [
			"## Example 5.10: P5_10.sce"
		   ]
		  },
  {
"cell_type": "code",
	   "execution_count": null,
	   "metadata": {
	    "collapsed": true
	   },
	   "outputs": [],
"source": [
"\n",
"// Ex5_10\n",
"clc;\n",
"\n",
"// Given:\n",
"A1=3836;//in barns\n",
"E1=1;// in eV\n",
"E2=10^6// in eV\n",
"\n",
"// Solution:\n",
"vr=sqrt(E2/E1);\n",
"A2=A1/vr;\n",
"printf('The cs area required will be = %f b', A2)"
   ]
   }
,
{
		   "cell_type": "markdown",
		   "metadata": {},
		   "source": [
			"## Example 5.11: P5_11.sce"
		   ]
		  },
  {
"cell_type": "code",
	   "execution_count": null,
	   "metadata": {
	    "collapsed": true
	   },
	   "outputs": [],
"source": [
"\n",
"// Ex5_11\n",
"clc;\n",
"\n",
"// Given:\n",
"a=0.56*10^-24; // area\n",
"flux=10^13;\n",
"// Solution:\n",
"A=6.022*10^23*10^-3*2.5/(58.5);\n",
"k=A*flux*0.56*10^-24;\n",
"y=(0.5)^(4/5);\n",
"activity=k*(1-y);\n",
"printf('The activity is = %f dis s^-1 g^-1 NaCl',activity)"
   ]
   }
,
{
		   "cell_type": "markdown",
		   "metadata": {},
		   "source": [
			"## Example 5.12: P5_12.sce"
		   ]
		  },
  {
"cell_type": "code",
	   "execution_count": null,
	   "metadata": {
	    "collapsed": true
	   },
	   "outputs": [],
"source": [
"\n",
"// Ex5_12\n",
"clc;\n",
"\n",
"// Given:\n",
"w=0.1189;\n",
"flux=10^16;\n",
"// Solution:\n",
"A=w/(flux*3.16*10^7);// in m^2\n",
"A1=A*10000/(10^-24);// in Barns\n",
"printf('The cros section area is = %d b', A1)\n",
"\n",
""
   ]
   }
,
{
		   "cell_type": "markdown",
		   "metadata": {},
		   "source": [
			"## Example 5.13: P5_13.sce"
		   ]
		  },
  {
"cell_type": "code",
	   "execution_count": null,
	   "metadata": {
	    "collapsed": true
	   },
	   "outputs": [],
"source": [
"\n",
"// Ex5_13\n",
"clc;\n",
"\n",
"// Given:\n",
"w=8.52*10^-4;\n",
"flux=10^18;\n",
"// Solution:\n",
"\n",
"A=w/(flux*24*3600);// in m^2\n",
"A1=A*10000/(10^-24);// in Barns\n",
"printf('The cros section area is = %f b', A1)\n",
"k=flux*A*6.022*10^23/197;\n",
"printf('\n \n The saturation activity possible is = %f dis s^-1 g^-1', k)\n",
"y=(0.5)^(0.3704);\n",
"activity=k*(1-y);\n",
"printf('\n \n The activity is = %f dis s^-1 g^-1 ',activity)"
   ]
   }
,
{
		   "cell_type": "markdown",
		   "metadata": {},
		   "source": [
			"## Example 5.14: P5_14.sce"
		   ]
		  },
  {
"cell_type": "code",
	   "execution_count": null,
	   "metadata": {
	    "collapsed": true
	   },
	   "outputs": [],
"source": [
"\n",
"// Ex5_14\n",
"clc;\n",
"\n",
"// Given:\n",
"a=98.7*10^-24; // area in cm ^2\n",
"flux=10^16;\n",
"d=19.3;// density\n",
"l=0.02;// thickness in cm\n",
"area=1;// in cm^2\n",
"// Solution:\n",
"V=area*l;\n",
"m=V*d;\n",
"A=(6.022*10^23*m)/(197);\n",
"k=A*flux*a;\n",
"y=exp((-0.693*5)/(2.7*24*60));\n",
"activity=k*(1-y);\n",
"printf('The activity is = %f dis s^-1 g^-1',activity)\n",
"// specific activity in Ci/cm^3\n",
"\n",
"a1=activity/(3.7*10^10);// in Ci/gold foil\n",
"a2=a1/V;// in Ci/cm^3 of foil\n",
"\n",
"printf('\n The activity in Ci/cm^3 of foil is = %f',a2)\n",
"\n",
"\n",
"\n",
"\n",
""
   ]
   }
,
{
		   "cell_type": "markdown",
		   "metadata": {},
		   "source": [
			"## Example 5.15: P5_15.sce"
		   ]
		  },
  {
"cell_type": "code",
	   "execution_count": null,
	   "metadata": {
	    "collapsed": true
	   },
	   "outputs": [],
"source": [
"\n",
"// Ex5_15\n",
"clc;\n",
"\n",
"// Given:\n",
"r0=1.4*10^-15;// in m\n",
"A1=88;\n",
"A2=87;\n",
"A3=136;\n",
"A4=135;\n",
"// Solution:\n",
"\n",
"rSr1=(3.14*(r0*(A1)^(0.33333))^2)/10^-28;// in barns\n",
"rSr2=(3.14*(r0*(A2)^(0.33333))^2)/10^-28;// in barns\n",
"rXe1=(3.14*(r0*(A3)^(0.33333))^2)/10^-28;// in barns\n",
"rXe2=(3.14*(r0*(A4)^(0.33333))^2)/10^-28;// in barns\n",
"\n",
"printf('The geometric cross-section area are %f, %f, %f & %f for Sr(88), Sr(87), Xe(136) & Xe(135) respectively',rSr1,rSr2,rXe1,rXe2)"
   ]
   }
,
{
		   "cell_type": "markdown",
		   "metadata": {},
		   "source": [
			"## Example 5.16: P5_16.sce"
		   ]
		  },
  {
"cell_type": "code",
	   "execution_count": null,
	   "metadata": {
	    "collapsed": true
	   },
	   "outputs": [],
"source": [
"\n",
"// Ex5_16\n",
"clc;\n",
"\n",
"// Given:\n",
"m=4*10^-3;// in gms\n",
"flux=1.3*10^14;\n",
"a=19.6*10^-24;// in cm^2\n",
"// Solution:\n",
"N=(m/59)*6.022*10^23;\n",
"A=N*flux*a*3600;// atoms\n",
"k=0.693/(5.25*3.16*10^7);// s^-1\n",
"\n",
"A1=k*A;// Activity in dps\n",
"\n",
"A2=(A1)/(3.7*10^10);// in Ci\n",
"A3=(A1*10^3)/(3.7*10^10);// in mCi\n",
"A4=A2*37*10^8;// in Bq\n",
"\n",
"printf('\n The activity in mCi is = %f',A3)\n",
"printf('\n The activity in Bq is = %f',A4)"
   ]
   }
,
{
		   "cell_type": "markdown",
		   "metadata": {},
		   "source": [
			"## Example 5.17: P5_17.sce"
		   ]
		  },
  {
"cell_type": "code",
	   "execution_count": null,
	   "metadata": {
	    "collapsed": true
	   },
	   "outputs": [],
"source": [
"\n",
"// Ex5_17\n",
"clc;\n",
"\n",
"// Given:\n",
"a=2.44*1000*10^-24;// in barns\n",
"\n",
"d=8.64;// g/cm^3\n",
"\n",
"// Solution:\n",
"n=(d*6.02*10^23)/112;// atoms/cm^2\n",
"\n",
"x=(log(100))/(n*a);// in cm\n",
"printf('The thickness of Cd foil is = %f cm',x)\n",
""
   ]
   }
,
{
		   "cell_type": "markdown",
		   "metadata": {},
		   "source": [
			"## Example 5.18: P5_18.sce"
		   ]
		  },
  {
"cell_type": "code",
	   "execution_count": null,
	   "metadata": {
	    "collapsed": true
	   },
	   "outputs": [],
"source": [
"\n",
"// Ex5_18\n",
"clc;\n",
"\n",
"// Given:\n",
"a=3.8*1000*10^-24;// in barns\n",
"Ir=0.004;// I0/Ix\n",
"d=2.55;// g/cm^3\n",
"\n",
"// Solution:\n",
"n=(d*6.02*10^23)/10;// atoms/cm^2\n",
"y=(Ir)^-1;\n",
"x=log(y)/(n*a);// in cm\n",
"printf('The thickness of B foil is = %f cm',x)"
   ]
   }
,
{
		   "cell_type": "markdown",
		   "metadata": {},
		   "source": [
			"## Example 5.19: P5_19.sce"
		   ]
		  },
  {
"cell_type": "code",
	   "execution_count": null,
	   "metadata": {
	    "collapsed": true
	   },
	   "outputs": [],
"source": [
"\n",
"// Ex5_19\n",
"clc;\n",
"\n",
"// Given:\n",
"E1=6;// MeV\n",
"mAl=26.981535;\n",
"malpha=4.002604;\n",
"mP=30.973763;\n",
"// Solution:\n",
"\n",
"KE=E1*(27/31);// in MeV\n",
"\n",
"BE=(mAl+malpha-mP)*931;// in MeV\n",
"\n",
"Ex=KE+BE;\n",
"\n",
"printf('\n The excitation energy of compound nucleus is = %f MeV',Ex)"
   ]
   }
,
{
		   "cell_type": "markdown",
		   "metadata": {},
		   "source": [
			"## Example 5.1: P5_1.sce"
		   ]
		  },
  {
"cell_type": "code",
	   "execution_count": null,
	   "metadata": {
	    "collapsed": true
	   },
	   "outputs": [],
"source": [
"\n",
"// Ex5_1\n",
"clc;\n",
"\n",
"// Given:\n",
"mMg=23.985045;\n",
"md=2.014102;\n",
"mAl=25.986900;\n",
"mNe=19.99244;\n",
"mNa=21.944;\n",
"// Solution:\n",
"// for compound nucleus Al*(26)\n",
"KE1=(24/26)*8;\n",
"BE1=(mMg+md-mAl)*931;// in MeV\n",
"EE1=BE1+KE1;\n",
"// for compound nucleus Na*(22)\n",
"KE2=(20/22)*8;\n",
"BE2=(mNe+md-mNa)*931;// in MeV\n",
"EE2=BE2+KE2;\n",
"\n",
"printf('The excitation energy for Al*(26) is = %f MeV and that of Na*(22) is = %f MeV',EE1,EE2)"
   ]
   }
,
{
		   "cell_type": "markdown",
		   "metadata": {},
		   "source": [
			"## Example 5.20: P5_20.sce"
		   ]
		  },
  {
"cell_type": "code",
	   "execution_count": null,
	   "metadata": {
	    "collapsed": true
	   },
	   "outputs": [],
"source": [
"\n",
"// Ex5_20\n",
"clc;\n",
"// Given:\n",
"E1=1.4;// MeV\n",
"mBi=208.980417;\n",
"mn=1.008665;\n",
"mBI=209.984110;\n",
"// Solution:part(a)\n",
"\n",
"KE1=0;// in MeV\n",
"BE1=(mBi+mn-mBI)*931;// in MeV\n",
"Ex1=KE1+BE1;\n",
"printf('\n The excitation energy of compound nucleus is = %f MeV',Ex1)\n",
"\n",
"// Solution:part(b)\n",
"\n",
"KE2=E1*(209/210);// in MeV\n",
"BE2=(mBi+mn-mBI)*931;// in MeV\n",
"Ex2=KE2+BE2;\n",
"printf('\n The excitation energy of compound nucleus is = %f MeV',Ex2)"
   ]
   }
,
{
		   "cell_type": "markdown",
		   "metadata": {},
		   "source": [
			"## Example 5.21: P5_21.sce"
		   ]
		  },
  {
"cell_type": "code",
	   "execution_count": null,
	   "metadata": {
	    "collapsed": true
	   },
	   "outputs": [],
"source": [
"\n",
"// Ex5_21\n",
"clc;\n",
"Ex=12.8;// MeV\n",
"mB=10.012939;\n",
"malpha=4.002604;\n",
"mN=14.003074;\n",
"mC=12.00;\n",
"md=2.014102;\n",
"// Solution:part(a)\n",
"\n",
"BE1=(mB+malpha-mN)*931;// in MeV\n",
"KE1=Ex-BE1;\n",
"E1=KE1*(14/10);\n",
"printf('\n The resonance in part(a) will occur at = %f MeV',E1)\n",
"\n",
"// Solution:part(b)\n",
"\n",
"\n",
"BE2=(mC+md-mN)*931;// in MeV\n",
"KE2=Ex-BE2;\n",
"E2=KE2*(14/12);\n",
"\n",
"printf('\n The resonance in part(b) will occur at = %f MeV',E2)"
   ]
   }
,
{
		   "cell_type": "markdown",
		   "metadata": {},
		   "source": [
			"## Example 5.22: P5_22.sce"
		   ]
		  },
  {
"cell_type": "code",
	   "execution_count": null,
	   "metadata": {
	    "collapsed": true
	   },
	   "outputs": [],
"source": [
"\n",
"// Ex5_22\n",
"clc;\n",
"\n",
"// Given:\n",
"B=2.5;// tesla\n",
"q=1.6*10^-19;\n",
"m=1.66*10^-27;\n",
"\n",
"// Solution:\n",
"\n",
"f=(B*q*10^-6)/(2*3.14*2*m);\n",
"\n",
"printf('The resonance frequency is = %f MHz',f)\n",
""
   ]
   }
,
{
		   "cell_type": "markdown",
		   "metadata": {},
		   "source": [
			"## Example 5.23: P5_23.sce"
		   ]
		  },
  {
"cell_type": "code",
	   "execution_count": null,
	   "metadata": {
	    "collapsed": true
	   },
	   "outputs": [],
"source": [
"\n",
"// Ex5_23\n",
"clc;\n",
"\n",
"// Given:\n",
"f=8.6*10^6;// in Hz\n",
"q1=1.6*10^-19;\n",
"q2=6*1.6*10^-19;\n",
"m1=1.66*10^-27;\n",
"m2=14*1.66*10^-27;\n",
"// Solution:\n",
"// for proton\n",
"B1=2*3.14*f*m1/q1;\n",
"\n",
"printf('\n The magnetic field needed to accelerate protons is = %f T',B1)\n",
"// for N(14) ions\n",
"B2=2*3.14*f*m2/q2;\n",
"\n",
"printf('\n The magnetic field needed to accelerate N(14) ions is = %f T',B2)\n",
""
   ]
   }
,
{
		   "cell_type": "markdown",
		   "metadata": {},
		   "source": [
			"## Example 5.24: P5_24.sce"
		   ]
		  },
  {
"cell_type": "code",
	   "execution_count": null,
	   "metadata": {
	    "collapsed": true
	   },
	   "outputs": [],
"source": [
"\n",
"// Ex5_24\n",
"\n",
"clc;\n",
"\n",
"E1=2.75;// MeV\n",
"E2=14;// in MeV\n",
"mMg=23.985045;\n",
"malpha=4.00260;\n",
"mSi=27.9763;\n",
"mNe=19.99244;\n",
"mCo=58.93320;\n",
"mRb=78.9239\n",
"// Solution:\n",
"\n",
"KE1=E1*(24/28);// in MeV\n",
"\n",
"BE1=(mMg+malpha-mSi)*931;// in MeV\n",
"\n",
"Ex1=KE1+BE1;\n",
"\n",
"printf('\n The excitation energy of compound nucleus Si* is = %f MeV',Ex1)\n",
"KE2=E2*(59/79);// in MeV\n",
"\n",
"BE2=(mNe+mCo-mRb)*931;// in MeV\n",
"\n",
"Ex2=KE2+BE2;\n",
"\n",
"printf('\n The excitation energy of compound nucleus Rb*  is = %f MeV',Ex2)"
   ]
   }
,
{
		   "cell_type": "markdown",
		   "metadata": {},
		   "source": [
			"## Example 5.2: P5_2.sce"
		   ]
		  },
  {
"cell_type": "code",
	   "execution_count": null,
	   "metadata": {
	    "collapsed": true
	   },
	   "outputs": [],
"source": [
"\n",
"// Ex5_2\n",
"\n",
"clc;\n",
"\n",
"// Given:\n",
"E0=5;// in MeV\n",
"m=1;\n",
"M=7\n",
"\n",
"// Solution:\n",
"\n",
"Erecoil=(4*5*m*M*((sin(45*3.14/180))^(2)))/((m+M)^2);\n",
"Escat=E0-Erecoil;\n",
"\n",
"printf('\n The energy of protons scattered through an angle of 90 deg. is = %f MeV',Escat)\n",
"Eresi=E0-0.48;\n",
"\n",
"Erecoil2=(14/64)*Eresi;\n",
"Escat2=Eresi-Erecoil2;\n",
"printf('\n \n The energy of proton observed at 90 deg. after they have excited the lithium to a level of 0.48 MeV is = %f MeV',Escat2)"
   ]
   }
,
{
		   "cell_type": "markdown",
		   "metadata": {},
		   "source": [
			"## Example 5.3: P5_3.sce"
		   ]
		  },
  {
"cell_type": "code",
	   "execution_count": null,
	   "metadata": {
	    "collapsed": true
	   },
	   "outputs": [],
"source": [
"\n",
"// Ex5_3\n",
"\n",
"clc;\n",
"// Given:\n",
"th=2.4;// in Mev\n",
"z=0.0009;// mp-mn in atomic mass unit\n",
"// Solution:\n",
"\n",
"x=-(2.4/931);//assuming no barrier operates\n",
"y=x+z;\n",
"\n",
"\n",
"printf('The mass difference between A & B is = %f u', -y)"
   ]
   }
,
{
		   "cell_type": "markdown",
		   "metadata": {},
		   "source": [
			"## Example 5.4: P5_4.sce"
		   ]
		  },
  {
"cell_type": "code",
	   "execution_count": null,
	   "metadata": {
	    "collapsed": true
	   },
	   "outputs": [],
"source": [
"\n",
"// Ex5_4\n",
"clc;\n",
"// Given:\n",
"mp=1.007277;\n",
"\n",
"// Solution:\n",
"\n",
"E1=2*mp*931;// in MeV / part(a)\n",
"\n",
"E2=E1/2;// in MeV / part (b)\n",
"\n",
"printf('The energy required for (a) & (b) are = %f & %f respectively in MeV',E1,E2) "
   ]
   }
,
{
		   "cell_type": "markdown",
		   "metadata": {},
		   "source": [
			"## Example 5.5: P5_5.sce"
		   ]
		  },
  {
"cell_type": "code",
	   "execution_count": null,
	   "metadata": {
	    "collapsed": true
	   },
	   "outputs": [],
"source": [
"// Ex5_5\n",
"clc;\n",
"//Given\n",
"E1=2.059;\n",
"E2=2.59;\n",
"M1=9;\n",
"M2=18;\n",
"m=1;\n",
"\n",
"// Solution\n",
"Q1=-E1*(M1/(m+M1)); // part(a)\n",
"Q2=-E2*(M2/(m+M2)); // part(b)\n",
"printf('The Q-values are %f & %f in MeV for B(9) & F(19) reactions respectively',Q1,Q2)\n",
"\n",
"\n",
""
   ]
   }
,
{
		   "cell_type": "markdown",
		   "metadata": {},
		   "source": [
			"## Example 5.6: P5_6.sce"
		   ]
		  },
  {
"cell_type": "code",
	   "execution_count": null,
	   "metadata": {
	    "collapsed": true
	   },
	   "outputs": [],
"source": [
"\n",
"// Ex5_6\n",
"clc;\n",
"// Given:\n",
"Q1=1.136;\n",
"Q2=3.236;\n",
"M1=11;\n",
"M2=13;\n",
"m1=2;\n",
"m2=1;\n",
"// Solution\n",
"E1=Q1*((m1+M1)/M1); // part(a)\n",
"E2=Q2*((m2+M2)/M2); // part(b)\n",
"printf('The thershold energies are %f & %f in MeV for B(12) & N(13) reactions respectively',E1,E2)\n",
""
   ]
   }
,
{
		   "cell_type": "markdown",
		   "metadata": {},
		   "source": [
			"## Example 5.7: P5_7.sce"
		   ]
		  },
  {
"cell_type": "code",
	   "execution_count": null,
	   "metadata": {
	    "collapsed": true
	   },
	   "outputs": [],
"source": [
"\n",
"// Ex5_7\n",
"clc;\n",
"\n",
"// Given:\n",
"\n",
"Q1=9.28;// in Mev\n",
"Q2=0.21;// in Mev\n",
"Q3=7.25;// in Mev\n",
"Q4=3.63;// in Mev\n",
"mn=1.008665;\n",
"md=1.995311;// mass difference between Fe(56) & Fe(54)\n",
"// Solution:\n",
"E1=Q1+Q2+Q3+Q4;// part (a)\n",
"E2=(2*mn-md)*931;// part (b)\n",
"\n",
"printf('The binding energy of last 2 neutron in part(a) and part(b) are = %f & %f in MeV respectively',E1,E2)\n",
"\n",
""
   ]
   }
,
{
		   "cell_type": "markdown",
		   "metadata": {},
		   "source": [
			"## Example 5.8: P5_8.sce"
		   ]
		  },
  {
"cell_type": "code",
	   "execution_count": null,
	   "metadata": {
	    "collapsed": true
	   },
	   "outputs": [],
"source": [
"\n",
"// Ex5_8\n",
"clc;\n",
"\n",
"// Given:\n",
"Q1=1.2;\n",
"M1=14;\n",
"m1=4;\n",
"\n",
"// Solution:\n",
"\n",
"E1=Q1*((m1+M1)/M1);\n",
"printf('The threshold energy is %f in MeV for O(17) reaction',E1)"
   ]
   }
,
{
		   "cell_type": "markdown",
		   "metadata": {},
		   "source": [
			"## Example 5.9: P5_9.sce"
		   ]
		  },
  {
"cell_type": "code",
	   "execution_count": null,
	   "metadata": {
	    "collapsed": true
	   },
	   "outputs": [],
"source": [
"\n",
"//Ex5_9\n",
"clc;\n",
"\n",
"// Given:\n",
"Q1=3.236;\n",
"M1=13;\n",
"m1=1;\n",
"// Solution:\n",
"\n",
"E1=Q1*((m1+M1)/M1);\n",
"printf('The threshold energy is %f in MeV for C(13) reaction',E1)"
   ]
   }
],
"metadata": {
		  "kernelspec": {
		   "display_name": "Scilab",
		   "language": "scilab",
		   "name": "scilab"
		  },
		  "language_info": {
		   "file_extension": ".sce",
		   "help_links": [
			{
			 "text": "MetaKernel Magics",
			 "url": "https://github.com/calysto/metakernel/blob/master/metakernel/magics/README.md"
			}
		   ],
		   "mimetype": "text/x-octave",
		   "name": "scilab",
		   "version": "0.7.1"
		  }
		 },
		 "nbformat": 4,
		 "nbformat_minor": 0
}
