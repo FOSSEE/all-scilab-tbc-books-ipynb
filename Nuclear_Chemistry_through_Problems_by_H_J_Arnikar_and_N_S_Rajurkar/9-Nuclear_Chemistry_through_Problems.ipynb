{
"cells": [
 {
		   "cell_type": "markdown",
	   "metadata": {},
	   "source": [
       "# Chapter 9: Nuclear Chemistry through Problems"
	   ]
	},
{
		   "cell_type": "markdown",
		   "metadata": {},
		   "source": [
			"## Example 9.1: P9_1.sce"
		   ]
		  },
  {
"cell_type": "code",
	   "execution_count": null,
	   "metadata": {
	    "collapsed": true
	   },
	   "outputs": [],
"source": [
"\n",
"//Ex9_1\n",
"\n",
"clc;\n",
"\n",
"//Give:\n",
"t=3600;// in seconds\n",
"F=96500;// in columbs\n",
"// Formula: m=0.0373fMit, Faraday's law: m=(itE)/F\n",
"\n",
"//Solution:\n",
"constant=t/F;\n",
"printf('The value of numerical constant is = %f',constant)"
   ]
   }
,
{
		   "cell_type": "markdown",
		   "metadata": {},
		   "source": [
			"## Example 9.2: P9_2.sce"
		   ]
		  },
  {
"cell_type": "code",
	   "execution_count": null,
	   "metadata": {
	    "collapsed": true
	   },
	   "outputs": [],
"source": [
"\n",
"//Ex9_2\n",
"clc;\n",
"// Given:\n",
"m1=24*10^-6;// g per day\n",
"m2=10^-2;// g per day\n",
"i1=10^-6;// in A\n",
"\n",
"//Formula: i1*m2=m1*i2\n",
"\n",
"//Solution:\n",
"\n",
"i2=(i1*m2)/m1;\n",
"i=i2/10^-3;// in mA\n",
"\n",
"printf('The ion current should be = %f mA',i)"
   ]
   }
,
{
		   "cell_type": "markdown",
		   "metadata": {},
		   "source": [
			"## Example 9.3: P9_3.sce"
		   ]
		  },
  {
"cell_type": "code",
	   "execution_count": null,
	   "metadata": {
	    "collapsed": true
	   },
	   "outputs": [],
"source": [
"//Ex9_3\n",
"clc;\n",
"//Given:\n",
"f=1.0014;// seperation factor\n",
"s=4;// series\n",
"p=6;// parallel\n",
"\n",
"// Note: The global yield for s stages in series is(f)^s and each parallel stages simply multiplies the yield of the stage, Hence overall yield with p parallel stages (each with s stages in series) will be Y=p*(f)^s\n",
"\n",
"//Solution:\n",
"Y=p*(f)^s;\n",
"\n",
"printf('The net yield is = %f',Y)"
   ]
   }
,
{
		   "cell_type": "markdown",
		   "metadata": {},
		   "source": [
			"## Example 9.4: P9_4.sce"
		   ]
		  },
  {
"cell_type": "code",
	   "execution_count": null,
	   "metadata": {
	    "collapsed": true
	   },
	   "outputs": [],
"source": [
"\n",
"// Ex9_4\n",
"\n",
"clc;\n",
"\n",
"// Given:\n",
"f=1.0014;// seperation factor\n",
"\n",
"//Solution: Part (a)\n",
"A1=3.5/0.72;// total enrichment\n",
"n1=log(A1)/log(f);\n",
"printf('\n The no. of stages will be = %d', n1)\n",
"\n",
"//Solution: Part (b)\n",
"A2=90/0.72;// total enrichment\n",
"n2=log(A2)/log(f);\n",
"printf('\n \n The no. of stages will be = %d', n2)"
   ]
   }
,
{
		   "cell_type": "markdown",
		   "metadata": {},
		   "source": [
			"## Example 9.5: P9_5.sce"
		   ]
		  },
  {
"cell_type": "code",
	   "execution_count": null,
	   "metadata": {
	    "collapsed": true
	   },
	   "outputs": [],
"source": [
"//Ex9_5\n",
"\n",
"clc;\n",
"\n",
"// Given:\n",
"f=1.01;// seperation factor\n",
"n=10;// plates\n",
"//Solution: \n",
"\n",
"A=f^n;\n",
"\n",
"printf('The overall seperation factor is = %f',A)"
   ]
   }
,
{
		   "cell_type": "markdown",
		   "metadata": {},
		   "source": [
			"## Example 9.6: P9_6.sce"
		   ]
		  },
  {
"cell_type": "code",
	   "execution_count": null,
	   "metadata": {
	    "collapsed": true
	   },
	   "outputs": [],
"source": [
"//Ex9_6\n",
"\n",
"clc;\n",
"\n",
"// Given:\n",
"f=1.01;// seperation factor\n",
"n=16;// plates\n",
"//Solution: \n",
"\n",
"A=f^n;\n",
"\n",
"printf('The overall seperation factor is = %f',A)"
   ]
   }
,
{
		   "cell_type": "markdown",
		   "metadata": {},
		   "source": [
			"## Example 9.7: P9_7.sce"
		   ]
		  },
  {
"cell_type": "code",
	   "execution_count": null,
	   "metadata": {
	    "collapsed": true
	   },
	   "outputs": [],
"source": [
"//Ex9_7\n",
"\n",
"clc;\n",
"\n",
"// Given:\n",
"\n",
"k1=3.78;\n",
"k2=2.79;\n",
"t1=298;// in K\n",
"t2=353;// in K\n",
"R=8.314// Gas constant\n",
"\n",
"// Formula: log(k1/k2)=(H/R)*((t2-t1)t1*t2)\n",
"\n",
"// Solution:\n",
"\n",
"H=R*log(k1/k2)/((t2-t1)/(t1*t2));\n",
"\n",
"printf('The enthalpy for the exchange reaction is = %f J',H)\n",
"\n",
"\n",
"\n",
"\n",
"\n",
"\n",
""
   ]
   }
,
{
		   "cell_type": "markdown",
		   "metadata": {},
		   "source": [
			"## Example 9.8: P9_8.sce"
		   ]
		  },
  {
"cell_type": "code",
	   "execution_count": null,
	   "metadata": {
	    "collapsed": true
	   },
	   "outputs": [],
"source": [
"\n",
"// Ex9_8\n",
"\n",
"clc;\n",
"\n",
"// Given:\n",
"a1=0.015;\n",
"a2=0.04;\n",
"\n",
"// Solution: Defining the seperation factor f as approximately equal to (a2/a1) where a1, a2 are the relative abundances of the isotope of interest in the initial and final fractions, we have\n",
"\n",
"f=(a2/a1);\n",
"\n",
"printf('The single stage seperation factor is = %f',f)\n",
" "
   ]
   }
],
"metadata": {
		  "kernelspec": {
		   "display_name": "Scilab",
		   "language": "scilab",
		   "name": "scilab"
		  },
		  "language_info": {
		   "file_extension": ".sce",
		   "help_links": [
			{
			 "text": "MetaKernel Magics",
			 "url": "https://github.com/calysto/metakernel/blob/master/metakernel/magics/README.md"
			}
		   ],
		   "mimetype": "text/x-octave",
		   "name": "scilab",
		   "version": "0.7.1"
		  }
		 },
		 "nbformat": 4,
		 "nbformat_minor": 0
}
