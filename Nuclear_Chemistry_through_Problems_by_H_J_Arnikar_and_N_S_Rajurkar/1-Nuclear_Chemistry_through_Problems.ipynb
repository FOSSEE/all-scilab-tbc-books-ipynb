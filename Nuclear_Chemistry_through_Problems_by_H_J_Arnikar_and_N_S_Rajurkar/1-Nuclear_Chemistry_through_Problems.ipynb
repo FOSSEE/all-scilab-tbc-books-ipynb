{
"cells": [
 {
		   "cell_type": "markdown",
	   "metadata": {},
	   "source": [
       "# Chapter 1: Nuclear Chemistry through Problems"
	   ]
	},
{
		   "cell_type": "markdown",
		   "metadata": {},
		   "source": [
			"## Example 1.10: P1_10.sce"
		   ]
		  },
  {
"cell_type": "code",
	   "execution_count": null,
	   "metadata": {
	    "collapsed": true
	   },
	   "outputs": [],
"source": [
"\n",
"//Ex1_10\n",
"\n",
"clc;\n",
"\n",
"//Given:\n",
"\n",
"enthalpy=1278; // enthalpy of combustion in kJ/mol\n",
"\n",
"//solution:\n",
"\n",
"energy=(enthalpy*1000)/(6.022*10^23*1.6*10^-19);\n",
"\n",
"printf('The energy in eV is = %f ',energy)"
   ]
   }
,
{
		   "cell_type": "markdown",
		   "metadata": {},
		   "source": [
			"## Example 1.11: P1_11.sce"
		   ]
		  },
  {
"cell_type": "code",
	   "execution_count": null,
	   "metadata": {
	    "collapsed": true
	   },
	   "outputs": [],
"source": [
"//Ex1_11\n",
"\n",
"clc;\n",
"\n",
"//Given:\n",
"mh=1.0078;\n",
"mn=1.0087;\n",
"ma=4.0026;\n",
"mo=15.9949;\n",
"Ah=4.0026; // atomic mass of helium\n",
"Ao=15.9949; // atomic mass of oxygen\n",
"\n",
"//solution:\n",
"\n",
"// part (a)\n",
"\n",
"B1=(2*mh+2*mn-ma)*931; // in MeV\n",
"Bh=B1/Ah;\n",
"printf('\n The mean binding energy of helium atom in MeV is = %f ',Bh)\n",
"\n",
"// part (b)\n",
"\n",
"B2=(8*mh+8*mn-mo)*931; // in MeV\n",
"Bo=B2/Ao;\n",
"printf('\n The mean binding energy of oxygen atom in MeV is = %f ',Bo)"
   ]
   }
,
{
		   "cell_type": "markdown",
		   "metadata": {},
		   "source": [
			"## Example 1.12: P1_12.sce"
		   ]
		  },
  {
"cell_type": "code",
	   "execution_count": null,
	   "metadata": {
	    "collapsed": true
	   },
	   "outputs": [],
"source": [
"\n",
"//Ex1_12\n",
"\n",
"clc;\n",
"\n",
"//Given:\n",
"mh=1.0078;\n",
"mn=1.0087;\n",
"ABe=8.0053; // atomic mass of beryllium\n",
"\n",
"//solution:\n",
"\n",
"B1=(4*mh+4*mn-ABe)*931; // in MeV\n",
"Bh=B1/ABe;\n",
"printf('\n The mean binding energy of Be atom in MeV is = %f ',Bh)\n",
"\n",
"disp('From previous problem we have the avg. binding energy of helium atom is        7.08 MeV, Hence Be is unstable to fission into 2 alphas')"
   ]
   }
,
{
		   "cell_type": "markdown",
		   "metadata": {},
		   "source": [
			"## Example 1.13: P1_13.sce"
		   ]
		  },
  {
"cell_type": "code",
	   "execution_count": null,
	   "metadata": {
	    "collapsed": true
	   },
	   "outputs": [],
"source": [
"\n",
"//Ex1_13\n",
"\n",
"clc;\n",
"\n",
"//Given:\n",
"\n",
"e=200; // in Mev\n",
"m=0.235; // weight of uranium atom in Kg\n",
"enthalpy=393.5; // in KJ/mol\n",
"Na=6.02*10^23;\n",
"\n",
"\n",
"//solution:\n",
"e1=e*1.6*10^-19*10^6;\n",
"atoms=Na/m;\n",
"e2=atoms*e1;//energy released in J\n",
"m1=(e2*12)/(393.5*1000*1000);// in Kg\n",
"m2=m1/1000;// in tons\n",
"printf('\n The amount of coal required in Kg is = %f', m2)"
   ]
   }
,
{
		   "cell_type": "markdown",
		   "metadata": {},
		   "source": [
			"## Example 1.14: P1_14.sce"
		   ]
		  },
  {
"cell_type": "code",
	   "execution_count": null,
	   "metadata": {
	    "collapsed": true
	   },
	   "outputs": [],
"source": [
"\n",
"//Ex1_14\n",
"\n",
"clc;\n",
"\n",
"//Given:\n",
"H1=241.8; // in KJ/mol\n",
"H2=887.2; // in KJ/mol\n",
"// 1 KJ/mol = 0.0104 eV/atom\n",
"\n",
"//solution: part (a)\n",
"e1=H1*0.0104;\n",
"printf('\n The energy release in part (a) in eV/molecule is = %f ',e1)\n",
"\n",
"//solution: part (b)\n",
"e2=H2*0.0104;\n",
"printf('\n The energy release in part (b) in eV/molecule is = %f ',e2)\n",
""
   ]
   }
,
{
		   "cell_type": "markdown",
		   "metadata": {},
		   "source": [
			"## Example 1.15: P1_15.sce"
		   ]
		  },
  {
"cell_type": "code",
	   "execution_count": null,
	   "metadata": {
	    "collapsed": true
	   },
	   "outputs": [],
"source": [
"\n",
"//Ex1_15\n",
"\n",
"clc;\n",
"\n",
"//Given:\n",
"H1=4.1; // in eV/molecule\n",
"H2=17.4; // in eV/molecule\n",
"H3=200;// in MeV/atom of U\n",
"\n",
"// 1 eV/atom  = 96.32 KJ/mol\n",
"\n",
"//solution: part (a)\n",
"e1=H1*96.32;\n",
"printf('\n The energy release in part (a) in KJ/mol of carbondioxide is = %f ',e1)\n",
"\n",
"//solution: part (b)\n",
"e2=H2*96.32;\n",
"printf('\n The energy release in part (b) in KJ/mol of alumina is = %f ',e2)\n",
"\n",
"//solution: part (c)\n",
"e3=H3*1000*96.32;// in MJ/atom of U(235)\n",
"printf('\n The energy release in part (c) in MJ/atom of U(235) is = %f ',e3)"
   ]
   }
,
{
		   "cell_type": "markdown",
		   "metadata": {},
		   "source": [
			"## Example 1.16: P1_16.sce"
		   ]
		  },
  {
"cell_type": "code",
	   "execution_count": null,
	   "metadata": {
	    "collapsed": true
	   },
	   "outputs": [],
"source": [
"\n",
"//Ex1_16\n",
"\n",
"clc;\n",
"\n",
"//Given:\n",
"e=200; //MeV/ atom of U\n",
"// 1 eV = 1.6*10^-19 J\n",
"Na=6.023*10^23;\n",
"M=0.235; // mass in Kg\n",
"\n",
"//solution:\n",
"\n",
"e1=e*1.6*10^-19*10^6;\n",
"A=Na/M;\n",
"e2=A*e1; // energy released in MJ/day\n",
"e3=e2/(24*3600);\n",
"printf('\n The rate of energy release in W is %f ',e3)\n",
"\n",
"\n",
"\n",
""
   ]
   }
,
{
		   "cell_type": "markdown",
		   "metadata": {},
		   "source": [
			"## Example 1.17: P1_17.sce"
		   ]
		  },
  {
"cell_type": "code",
	   "execution_count": null,
	   "metadata": {
	    "collapsed": true
	   },
	   "outputs": [],
"source": [
"//Ex1_17\n",
"\n",
"clc;\n",
"\n",
"//Given:\n",
"e=26.03; // in MeV\n",
"\n",
"//solution:\n",
"\n",
"loss=e/931; //in atomic mass units (u)\n",
"// 1 u = 1.66*10^-27 Kg\n",
"m=(loss*1.66*10^-27)/(1*10^-27);\n",
"printf('\n The mass loss in 10^-27 Kg/He formed is = %f ',m)\n",
"\n",
""
   ]
   }
,
{
		   "cell_type": "markdown",
		   "metadata": {},
		   "source": [
			"## Example 1.18: P1_18.sce"
		   ]
		  },
  {
"cell_type": "code",
	   "execution_count": null,
	   "metadata": {
	    "collapsed": true
	   },
	   "outputs": [],
"source": [
"\n",
"//Ex1_18\n",
"\n",
"clc;\n",
"\n",
"//Given:\n",
"mh=1.007825;\n",
"mt=3.016049;\n",
"md=2.014102;\n",
"\n",
"//solution:\n",
"\n",
"m1=(mh+mt-2*md);\n",
"e=(-m1)*931; // in MeV\n",
"printf('\n The energy loss in MeV is = %f ',e)"
   ]
   }
,
{
		   "cell_type": "markdown",
		   "metadata": {},
		   "source": [
			"## Example 1.19: P1_19.sce"
		   ]
		  },
  {
"cell_type": "code",
	   "execution_count": null,
	   "metadata": {
	    "collapsed": true
	   },
	   "outputs": [],
"source": [
"\n",
"//Ex1_19\n",
"\n",
"clc;\n",
"\n",
"//Given:\n",
"mh=1.007825;\n",
"mn=1.008665;\n",
"mt=3.016049; // atomic mass of Tritium\n",
"mNi=59.93528; // atomic mass of Nickel\n",
"\n",
"//solution:\n",
"\n",
"// part (a)\n",
"\n",
"B1=(1*mh+2*mn-mt)*931; // in MeV\n",
"Bh=B1/mt;\n",
"printf('\n The mean binding energy of tritium atom in MeV is = %f ',Bh)\n",
"\n",
"// part (b)\n",
"\n",
"B2=(28*mh+32*mn-mNi)*931; // in MeV\n",
"Bo=B2/mNi;\n",
"printf('\n The mean binding energy of nickel atom in MeV is = %f ',Bo)"
   ]
   }
,
{
		   "cell_type": "markdown",
		   "metadata": {},
		   "source": [
			"## Example 1.1: P1_1.sce"
		   ]
		  },
  {
"cell_type": "code",
	   "execution_count": null,
	   "metadata": {
	    "collapsed": true
	   },
	   "outputs": [],
"source": [
"//Ex1_1\n",
"\n",
"clc;\n",
"//Given:\n",
"v=1000;// potential\n",
"d=0.05;// distance\n",
"q=3.8*10^-9;// charge\n",
"\n",
"//solution:\n",
"e=v/d;//electric field\n",
"f=e;// force\n",
"f1=f*q;// force on metal sphere\n",
"printf('\n The electric field in V/m is = %f ',e)\n",
"printf('\n The force in N/C is = %f ',f)\n",
"printf('\n The force on metal sphere in N is = %f ',f1)"
   ]
   }
,
{
		   "cell_type": "markdown",
		   "metadata": {},
		   "source": [
			"## Example 1.20: P1_20.sce"
		   ]
		  },
  {
"cell_type": "code",
	   "execution_count": null,
	   "metadata": {
	    "collapsed": true
	   },
	   "outputs": [],
"source": [
"\n",
"\n",
"//Ex1_20\n",
"\n",
"clc;\n",
"\n",
"//Given:\n",
"mh=1.00783;\n",
"mn=1.00867;\n",
"m35=34.96885; // atomic mass of Cl (35)\n",
"m37=36.96590; // atomic mass of Cl (37)\n",
"\n",
"//solution:\n",
"\n",
"B1=(17*mh+18*mn-m35)*931; // in MeV\n",
"Bh=B1/m35;\n",
"printf('\n The mean binding energy of Cl (35) atom in MeV is = %f ',Bh)\n",
"\n",
"B2=(17*mh+20*mn-m37)*931; // in MeV\n",
"Bo=B2/m37;\n",
"printf('\n The mean binding energy of Cl (37) atom in MeV is = %f ',Bo)\n",
"\n",
"Bi=Bo-Bh;\n",
"printf('\n The increase in mean binding energy of Cl atom in MeV is = %f ',Bi)\n",
"\n",
"// NOTE: The answer depends upon how much precise value you take for atomic masses."
   ]
   }
,
{
		   "cell_type": "markdown",
		   "metadata": {},
		   "source": [
			"## Example 1.21: P1_21.sce"
		   ]
		  },
  {
"cell_type": "code",
	   "execution_count": null,
	   "metadata": {
	    "collapsed": true
	   },
	   "outputs": [],
"source": [
"\n",
"//EX1_21\n",
"\n",
"clc;\n",
"\n",
"//Given:\n",
"mh=1.0078;\n",
"mn=1.0087;\n",
"m22=21.99431;// atomic mass of Na 22\n",
"m23=22.9898;// atomic mass of Na 23\n",
"m24=23.9909;// atomic mass of Na 24\n",
"\n",
"//solution:\n",
"\n",
"// part (a)\n",
"\n",
"B1=((11*mh+11*mn)-m22)*931; // in MeV\n",
"Bh=B1/m22;\n",
"printf('\n The mean binding energy of Na(22) in MeV is = %f ',Bh)\n",
"\n",
"// part (b)\n",
"\n",
"B2=((11*mh+12*mn)-m23)*931; // in MeV\n",
"Bo=B2/m23;\n",
"printf('\n The mean binding energy of Na(23)in MeV is = %f ',Bo)\n",
"\n",
"// part (c)\n",
"\n",
"B3=((11*mh+13*mn)-m24)*931; // in MeV\n",
"Bs=B3/m24;\n",
"printf('\n The mean binding energy of Na(24) in MeV is = %f ',Bs)"
   ]
   }
,
{
		   "cell_type": "markdown",
		   "metadata": {},
		   "source": [
			"## Example 1.2: P1_2.sce"
		   ]
		  },
  {
"cell_type": "code",
	   "execution_count": null,
	   "metadata": {
	    "collapsed": true
	   },
	   "outputs": [],
"source": [
"//Ex1_2\n",
"\n",
"clc;\n",
"//Given:\n",
"energy=2*10^-6;\n",
"c=2.5*10^-8;// velocity of light\n",
"//solution:\n",
"v=energy/c;// potential\n",
"printf('The potential in V is = %f ',v)"
   ]
   }
,
{
		   "cell_type": "markdown",
		   "metadata": {},
		   "source": [
			"## Example 1.3: P1_3.sce"
		   ]
		  },
  {
"cell_type": "code",
	   "execution_count": null,
	   "metadata": {
	    "collapsed": true
	   },
	   "outputs": [],
"source": [
"//Ex1_3\n",
"\n",
"clc;\n",
"//Given:\n",
"\n",
"energy=10; //in electron volts\n",
"m=9.1*10^-31;// mass of electron in kg\n",
"h=6.626*10^-34;// planck's constant J.s\n",
"c=3*10^8;// speed of light in m/s\n",
"\n",
"//solution (a):\n",
"energy1=energy*1.6*10^-19;// energy in J\n",
"p=(2*m*energy1)^0.5;// momentum\n",
"wavelength=h/p*(10)^10;\n",
"\n",
"printf('The wavelength in Angstroms is = %f ',wavelength)\n",
"\n",
"\n",
"//solution (b):\n",
"wavelength1=h*c/energy1*(10)^10;//photon wavelength\n",
"\n",
"printf('\n The photon wavelength in Angstroms is = %f ',wavelength1)\n",
""
   ]
   }
,
{
		   "cell_type": "markdown",
		   "metadata": {},
		   "source": [
			"## Example 1.4: P1_4.sce"
		   ]
		  },
  {
"cell_type": "code",
	   "execution_count": null,
	   "metadata": {
	    "collapsed": true
	   },
	   "outputs": [],
"source": [
"//Ex1_4\n",
"\n",
"clc;\n",
"\n",
"//Given:\n",
"\n",
"wavelength=10^-10;\n",
"m=9.1*10^-31;\n",
"h=6.626*10^-34;\n",
"\n",
"//solution:\n",
"\n",
"p=h/wavelength;\n",
"e=p*p/(2*m); // energy in J\n",
"e1=e/(1.6*10^-19);// energy in eV\n",
"\n",
"printf('The energy in eV is = %f ',e1)\n",
"\n",
""
   ]
   }
,
{
		   "cell_type": "markdown",
		   "metadata": {},
		   "source": [
			"## Example 1.5: P1_5.sce"
		   ]
		  },
  {
"cell_type": "code",
	   "execution_count": null,
	   "metadata": {
	    "collapsed": true
	   },
	   "outputs": [],
"source": [
"//Ex1_5\n",
"\n",
"clc;\n",
"\n",
"//Given:\n",
"\n",
"m=1.66*10^-27;// 1u=1.66*10^-27 kg\n",
"h=6.6262*10^-34;//planck's constant in J.s\n",
"energy1=120;// in Mev for oxygen\n",
"energy2=140;// in MeV for nitrogen\n",
"\n",
"//solution(a):\n",
"\n",
"p=(2*m*16*energy1*(1.6022*10^-13))^0.5;\n",
"wavelength1=h/p*(10)^15;//wavelength in 10^-5 Angstroms\n",
"\n",
"printf('\n The wavelength in 10^-5 Angstroms is = %f ',wavelength1)\n",
"\n",
"//solution (b):\n",
"\n",
"p=(2*m*14*energy2*(1.6022*10^-13))^0.5;\n",
"wavelength2=h/p*(10)^15;//wavelength in 10^-5 Angstroms\n",
"\n",
"printf('\n The wavelength in 10^-5 Angstroms is = %f ',wavelength2)\n",
"\n",
"// 1 Angstrom = 10^-10 m"
   ]
   }
,
{
		   "cell_type": "markdown",
		   "metadata": {},
		   "source": [
			"## Example 1.6: P1_6.sce"
		   ]
		  },
  {
"cell_type": "code",
	   "execution_count": null,
	   "metadata": {
	    "collapsed": true
	   },
	   "outputs": [],
"source": [
"//Ex1_6\n",
"\n",
"clc;\n",
"\n",
"//Given:\n",
"\n",
"wavelength=1.5*10^-10;\n",
"h=6.62*10^-34;\n",
"c=3*10^8;\n",
"\n",
"//solution:\n",
"\n",
"e=(h*c)/wavelength;// energy in J\n",
"e1=e/(1.6*10^-19);// energy in eV\n",
"\n",
"printf('The energy in eV is = %f ',e1)"
   ]
   }
,
{
		   "cell_type": "markdown",
		   "metadata": {},
		   "source": [
			"## Example 1.7: P1_7.sce"
		   ]
		  },
  {
"cell_type": "code",
	   "execution_count": null,
	   "metadata": {
	    "collapsed": true
	   },
	   "outputs": [],
"source": [
"//Ex1_7\n",
"\n",
"clc;\n",
"\n",
"//Given:\n",
"\n",
"E=5.12*1.6*10^-19// energy in J\n",
"h=6.626*10^-34;\n",
"c=3*10^8;\n",
"wavelength=200*10^-9;\n",
"w=2.3;// in eV\n",
"\n",
"//solution:\n",
"\n",
"tf=E/h;// (part a)\n",
"printf('\n The threshold frequency in s^-1 is = %f ',tf)\n",
"\n",
"tl=c/tf*10^10;// (part b)\n",
"printf('\n The threshold wavelength in Angstroms is = %f ',tl)\n",
"\n",
"e=(h*c)/(wavelength*1.6*10^-19)// photon energy in eV (part c)\n",
"\n",
"pe=e-w;\n",
"\n",
"printf('\n The energy of photoelectrone in eV is = %f ',pe)"
   ]
   }
,
{
		   "cell_type": "markdown",
		   "metadata": {},
		   "source": [
			"## Example 1.8: P1_8.sce"
		   ]
		  },
  {
"cell_type": "code",
	   "execution_count": null,
	   "metadata": {
	    "collapsed": true
	   },
	   "outputs": [],
"source": [
"//Ex1_8\n",
"\n",
"clc;\n",
"\n",
"//Given:\n",
"e1=1; // in MeV\n",
"e2=2; // in MeV\n",
"ma=4; // in u(amu)\n",
"md=2; // in u(amu)\n",
"mp=1; // in u(amu)\n",
"\n",
"// 1u = 1.6*10^-27 Kg\n",
"\n",
"//solution: part a)For alpha particles\n",
"\n",
"v1a=((2*e1*10^6*1.6*10^-19)/(ma*1.6605*10^-27))^.5;\n",
"printf('\n The velocity of alpha particles for 1 MeV in m/s is = %f ',v1a)// For 1 MeV\n",
"\n",
"v2a=((2*e2*10^6*1.6*10^-19)/(ma*1.6605*10^-27))^.5;\n",
"printf('\n The velocity of alpha particles for 2 MeV in m/s is = %f ',v2a)// For 2 MeV\n",
"\n",
"//solution: part b)For deuteron particles\n",
"\n",
"v1b=((2*e1*10^6*1.6*10^-19)/(md*1.6605*10^-27))^.5;\n",
"printf('\n The velocity of deuteron particles for 1 MeV in m/s is = %f ',v1b) // For 1 MeV\n",
"\n",
"\n",
"v2b=((2*e2*10^6*1.6*10^-19)/(md*1.6605*10^-27))^.5;\n",
"printf('\n The velocity of deuteron particles for 2 MeV in m/s is = %f ',v2b) // For 2 MeV\n",
"\n",
"//solution: part c)For proton particles\n",
"\n",
"v1p=((2*e1*10^6*1.6*10^-19)/(mp*1.6605*10^-27))^.5;\n",
"printf('\n The velocity of proton particles for 1 MeV in m/s is = %f ',v1p) // For 1 MeV\n",
"\n",
"\n",
"v2p=((2*e2*10^6*1.6*10^-19)/(mp*1.6605*10^-27))^.5;\n",
"printf('\n The velocity of proton particles for 2 MeV in m/s is = %f ',v2p) // For 2 MeV\n",
"\n",
"\n",
""
   ]
   }
,
{
		   "cell_type": "markdown",
		   "metadata": {},
		   "source": [
			"## Example 1.9: P1_9.sce"
		   ]
		  },
  {
"cell_type": "code",
	   "execution_count": null,
	   "metadata": {
	    "collapsed": true
	   },
	   "outputs": [],
"source": [
"\n",
"//Ex1_9\n",
"\n",
"clc;\n",
"\n",
"//Given:\n",
"\n",
"m=1/(6.023*10^23);//mass of 1 atom in g\n",
"m1=m*10^-3;//mass of 1 atom in Kg\n",
"c=3*10^8;// velocity in m/s\n",
"//solution:\n",
"\n",
"e=m1*c*c; // energy in J\n",
"e1=e/(1.6*10^-13);// energy in MeV\n",
"\n",
"printf('The energy in MeV is = %f ',e1)"
   ]
   }
],
"metadata": {
		  "kernelspec": {
		   "display_name": "Scilab",
		   "language": "scilab",
		   "name": "scilab"
		  },
		  "language_info": {
		   "file_extension": ".sce",
		   "help_links": [
			{
			 "text": "MetaKernel Magics",
			 "url": "https://github.com/calysto/metakernel/blob/master/metakernel/magics/README.md"
			}
		   ],
		   "mimetype": "text/x-octave",
		   "name": "scilab",
		   "version": "0.7.1"
		  }
		 },
		 "nbformat": 4,
		 "nbformat_minor": 0
}
