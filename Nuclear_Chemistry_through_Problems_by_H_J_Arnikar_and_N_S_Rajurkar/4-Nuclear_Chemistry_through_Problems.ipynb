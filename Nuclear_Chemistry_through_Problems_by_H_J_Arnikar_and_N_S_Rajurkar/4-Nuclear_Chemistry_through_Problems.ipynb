{
"cells": [
 {
		   "cell_type": "markdown",
	   "metadata": {},
	   "source": [
       "# Chapter 4: Nuclear Chemistry through Problems"
	   ]
	},
{
		   "cell_type": "markdown",
		   "metadata": {},
		   "source": [
			"## Example 4.10: P4_10.sce"
		   ]
		  },
  {
"cell_type": "code",
	   "execution_count": null,
	   "metadata": {
	    "collapsed": true
	   },
	   "outputs": [],
"source": [
"\n",
"// Ex4_10\n",
"clc;\n",
"\n",
"// Given\n",
"E=2.5;// in MeV\n",
"// Solution:\n",
"k=0.693/(5.27*3.16*10^7);// decay constant\n",
"A=k*0.1*6.022*10^23;// atoms/s\n",
"A1=3.6*10^3*A;// atoms /hr\n",
"\n",
"E1=A1*E*1.6*10^-13*10^-3;//Energy in KJ/hr\n",
"\n",
"printf('The total energy dissipate per hour is = %f KJ',E1)\n",
""
   ]
   }
,
{
		   "cell_type": "markdown",
		   "metadata": {},
		   "source": [
			"## Example 4.11: P4_11.sce"
		   ]
		  },
  {
"cell_type": "code",
	   "execution_count": null,
	   "metadata": {
	    "collapsed": true
	   },
	   "outputs": [],
"source": [
"\n",
"// Ex4_11\n",
"clc;\n",
"\n",
"// Given:\n",
"Ma=4;//mass of alpha particle\n",
"Mr=228;// mass of Th\n",
"Ea=4; //in MeV\n",
"\n",
"\n",
"// Solution:\n",
"Er=(Ma/Mr)*Ea;// energy of recoil\n",
"Et=Ea+Er;// total energy of transition\n",
"\n",
"dM=Et/931;// net mass loss in u\n",
"\n",
"printf('The net mass loss is = %f u',dM)"
   ]
   }
,
{
		   "cell_type": "markdown",
		   "metadata": {},
		   "source": [
			"## Example 4.12: P4_12.sce"
		   ]
		  },
  {
"cell_type": "code",
	   "execution_count": null,
	   "metadata": {
	    "collapsed": true
	   },
	   "outputs": [],
"source": [
"\n",
"// Ex4_12\n",
"clc;\n",
"\n",
"// Given:\n",
"Ma=4;//mass of alpha particle\n",
"Mr1=222;// mass of \n",
"Mr2=208;\n",
"Ea1=4.863;\n",
"Ea2=6.082;\n",
"// Solution:\n",
"\n",
"Er1=(Ma/Mr1)*Ea1;\n",
"Et1=Ea1+Er1;\n",
"printf('For Ra emitting alpha')\n",
"printf('\n\tEnergy of recoil is %f MeV',Er1)\n",
"printf('\n\tTotal transition energy is %f MeV',Et1)\n",
"Er2=(Ma/Mr2)*Ea2;\n",
"Et2=Ea2+Er2;\n",
"printf('\nFor Bi emitting alpha')\n",
"printf('\n\tEnergy of recoil is %f MeV',Er2)\n",
"printf('\n\tTotal transition energy is %f MeV',Et2)\n",
""
   ]
   }
,
{
		   "cell_type": "markdown",
		   "metadata": {},
		   "source": [
			"## Example 4.13: P4_13.sce"
		   ]
		  },
  {
"cell_type": "code",
	   "execution_count": null,
	   "metadata": {
	    "collapsed": true
	   },
	   "outputs": [],
"source": [
"\n",
"// Ex4_13\n",
"clc;\n",
"\n",
"// Given:\n",
"dm=0.006332;// in u\n",
"ma=4;\n",
"mCm=244;\n",
"\n",
"// Solution:\n",
"\n",
"E=dm*931;// in MeV\n",
"KE=E*(ma/mCm); // in MeV\n",
"v=sqrt((2*KE*1.6*10^-13)/(240*1.6605*10^-27));\n",
"printf('The Kinetic Energy and velocity are %f MeV and %f m/s respectively',KE,v)\n",
""
   ]
   }
,
{
		   "cell_type": "markdown",
		   "metadata": {},
		   "source": [
			"## Example 4.14: P4_14.sce"
		   ]
		  },
  {
"cell_type": "code",
	   "execution_count": null,
	   "metadata": {
	    "collapsed": true
	   },
	   "outputs": [],
"source": [
"\n",
"// Ex4_14\n",
"clc;\n",
"\n",
"// Given:\n",
"E0=1.7;// in MeV\n",
"// Solution:\n",
"// For E0<2.5 MeV; using Katz and Penfold empirical equation we have\n",
"R1=412*((E0)^(1.265-0.0954*log(E0)));// mg/cm^2\n",
"// Using feather's relation we have\n",
"R2=530*E0-106;// mg/cm^2\n",
"\n",
"printf('The range in Al for beta radiation is %f mg/cm^2 using Katz and Penfold empirical equation and %f mg/cm^2 using feathers relation.',R1,R2)\n",
""
   ]
   }
,
{
		   "cell_type": "markdown",
		   "metadata": {},
		   "source": [
			"## Example 4.15: P4_15.sce"
		   ]
		  },
  {
"cell_type": "code",
	   "execution_count": null,
	   "metadata": {
	    "collapsed": true
	   },
	   "outputs": [],
"source": [
"\n",
"// Ex4_15\n",
"clc;\n",
"\n",
"\n",
"// Solution:\n",
"L1=(5.5-3.5);// Case 1\n",
"L2=2-0;// Case 2\n",
"L3=1.5-.5;// Case 3\n",
"ELML1=1+0+2;\n",
"ELML2=1+1+2;\n",
"ELML3=0+1+1;\n",
"printf('The order for Case 1 is %f and emission is type (%f) M2,Case 2 is %f and emission is type (%f) E2,Case 3 is %f and emission is type (%f) E1,Case 4 is not possible.',L1,ELML1,L2,ELML2,L3,ELML3)"
   ]
   }
,
{
		   "cell_type": "markdown",
		   "metadata": {},
		   "source": [
			"## Example 4.16: P4_16.sce"
		   ]
		  },
  {
"cell_type": "code",
	   "execution_count": null,
	   "metadata": {
	    "collapsed": true
	   },
	   "outputs": [],
"source": [
"\n",
"// Ex4_16\n",
"clc;\n",
"\n",
"// Given:\n",
"m=4*10^-3;// in gms\n",
"M=210;\n",
"E=0.34;// in MeV\n",
"// Solution:\n",
"\n",
"N=(m*6.022*10^23)/M;\n",
"k=0.693/(5*24*3600);// in s^-1\n",
"A=N*k;// in dis/s\n",
"// Energy released at 0.34 MeV per dis/s will be\n",
"E1=E*A;// in MeV/s\n",
"E2=E1*1.6*10^-13;// watts\n",
"\n",
"printf('The rate of energy emission is %f W',E2)\n",
""
   ]
   }
,
{
		   "cell_type": "markdown",
		   "metadata": {},
		   "source": [
			"## Example 4.17: P4_17.sce"
		   ]
		  },
  {
"cell_type": "code",
	   "execution_count": null,
	   "metadata": {
	    "collapsed": true
	   },
	   "outputs": [],
"source": [
"\n",
"// Ex4_17\n",
"clc;\n",
"// Given:\n",
"A=0.2506*10^15;// atoms/s re: Ex4_10\n",
"// Solution:\n",
"Strength=A/(3.7*10^10);// in kCi\n",
"S1=Strength*10^-3;// in KCi\n",
"printf('The strength in KCi is %f ',S1)\n",
""
   ]
   }
,
{
		   "cell_type": "markdown",
		   "metadata": {},
		   "source": [
			"## Example 4.18: P4_18.sce"
		   ]
		  },
  {
"cell_type": "code",
	   "execution_count": null,
	   "metadata": {
	    "collapsed": true
	   },
	   "outputs": [],
"source": [
"\n",
"// Ex4_18\n",
"clc;\n",
"\n",
"// Given:\n",
"N1=10^24;// atoms\n",
"N2=10^16;// atoms\n",
"N3=1000;// atoms\n",
"N4=80;// atoms\n",
"\n",
"// Solution:\n",
"N11=N1*0.5;// 1st half life\n",
"N12=N11/2;// 2nd half life\n",
"N13=N12/2;// 3rd half life\n",
"printf('\n The 1st half life, 2nd half life, 3rd half life are %f, %f, %f respectively.',N11,N12,N13)\n",
"N21=N2/2;// 1st half life\n",
"N22=N21/2;// 2nd half life\n",
"N23=N22/2;// 3rd half life\n",
"printf('\n The 1st half life, 2nd half life, 3rd half life are %f, %f, %f respectively.',N21,N22,N23)\n",
"N31=N3/2;// 1st half life\n",
"N32=N31/2;// 2nd half life\n",
"N33=N32/2;// 3rd half life\n",
"printf('\n The 1st half life, 2nd half life, 3rd half life are %f, %f, %f respectively.',N31,N32,N33)\n",
"//Radiactivity is a statistical property. Decay kinetics are reliable only when initial number is large"
   ]
   }
,
{
		   "cell_type": "markdown",
		   "metadata": {},
		   "source": [
			"## Example 4.1: P4_1.sce"
		   ]
		  },
  {
"cell_type": "code",
	   "execution_count": null,
	   "metadata": {
	    "collapsed": true
	   },
	   "outputs": [],
"source": [
"\n",
"// Ex4_1\n",
"\n",
"clc;\n",
"\n",
"//Given:\n",
"t1=1600;// in year\n",
"a=11.6*10^17;// atoms\n",
"// Solution:\n",
"k=0.693/t1;// year^-1\n",
"L=(a*226)/k;// atomic mass of Radon is 226\n",
"printf('The value of avagadro constant is = %f atoms per mole',L)"
   ]
   }
,
{
		   "cell_type": "markdown",
		   "metadata": {},
		   "source": [
			"## Example 4.20: P4_20.sce"
		   ]
		  },
  {
"cell_type": "code",
	   "execution_count": null,
	   "metadata": {
	    "collapsed": true
	   },
	   "outputs": [],
"source": [
"\n",
"// Ex4_20\n",
"clc;\n",
"\n",
"// Given:\n",
"t1=1.28*10^9;// in years\n",
"// Solution:\n",
"k=0.693/(1.28*10^9);\n",
"// beta deay is 88.8%\n",
"k1=0.888*k;\n",
"// EC decay is 11.2%\n",
"k2=0.112*k;\n",
"tbeta=(0.693*10^-9)/(k1);// partial half life for beta decay in Gy\n",
"tEC=(0.693*10^-9)/(k2);// partial half life for EC decay in Gy\n",
"\n",
"printf('The partial half life for beta decay is %f Gy and partial half life for EC decay is %f Gy.',tbeta,tEC)"
   ]
   }
,
{
		   "cell_type": "markdown",
		   "metadata": {},
		   "source": [
			"## Example 4.21: P4_21.sce"
		   ]
		  },
  {
"cell_type": "code",
	   "execution_count": null,
	   "metadata": {
	    "collapsed": true
	   },
	   "outputs": [],
"source": [
"\n",
"// Ex4_21\n",
"clc;\n",
"// Given:\n",
"t=15.02;// in hours\n",
"// Solution:\n",
"ar=1000;// activity ratio given that 0.1% of intial activity\n",
"k=0.693/t;\n",
"\n",
"t1=(log(ar))/k;\n",
"printf('The time required will be %f h',t1)\n",
""
   ]
   }
,
{
		   "cell_type": "markdown",
		   "metadata": {},
		   "source": [
			"## Example 4.22: P4_22.sce"
		   ]
		  },
  {
"cell_type": "code",
	   "execution_count": null,
	   "metadata": {
	    "collapsed": true
	   },
	   "outputs": [],
"source": [
"\n",
"// Ex4_22\n",
"clc;\n",
"// Given:\n",
"t=6.01;// in hours\n",
"// Solution:\n",
"ar=100/5;// activity ratio given that 5% of intial activity\n",
"k=0.693/t;\n",
"\n",
"t1=(log(ar))/k;\n",
"printf('The time required will be %f h',t1)\n",
"\n",
"\n",
""
   ]
   }
,
{
		   "cell_type": "markdown",
		   "metadata": {},
		   "source": [
			"## Example 4.23: P4_23.sce"
		   ]
		  },
  {
"cell_type": "code",
	   "execution_count": null,
	   "metadata": {
	    "collapsed": true
	   },
	   "outputs": [],
"source": [
"\n",
"//Ex4_23\n",
"clc;\n",
"\n",
"// Given:\n",
"\n",
"t=1.83*10^9;// in years\n",
"// Solution:\n",
"// Part (a)\n",
"k=(0.693)/(t*3.16*10^7);\n",
"k1=(0.693*10^17)/(t*3.16*10^7);// in 10^-17 s^-1\n",
"printf('\n The overall decay constant will be %f*10^-17 s^-1',k1)\n",
"// Part (b)\n",
"a=(6.022*10^23)/40; // atoms of K(40)\n",
"A=a*k;// activity\n",
"printf('\n The activity for k(40) is %f beta/s',A)\n",
"\n",
"// Part (c)\n",
"a1=(6.022*10^23*1.2*10^-4)/41; // atoms of K(41)\n",
"A1=a1*k;// activity\n",
"printf('\n The activity for k(41) is %f beta/s',A1)\n",
"\n",
""
   ]
   }
,
{
		   "cell_type": "markdown",
		   "metadata": {},
		   "source": [
			"## Example 4.24: P4_24.sce"
		   ]
		  },
  {
"cell_type": "code",
	   "execution_count": null,
	   "metadata": {
	    "collapsed": true
	   },
	   "outputs": [],
"source": [
"\n",
"// Ex4_24\n",
"clc;\n",
"\n",
"// Given:\n",
"a1=6520;// c/min\n",
"a2=4820;//c/min\n",
"t=2;//min\n",
"// Solution:\n",
"k=log(a1/a2)/t;\n",
"t1=0.693/k;// half life\n",
"printf('The decay constant is %f min^-1 and the half life is %f min',k,t1)"
   ]
   }
,
{
		   "cell_type": "markdown",
		   "metadata": {},
		   "source": [
			"## Example 4.25: P4_25.sce"
		   ]
		  },
  {
"cell_type": "code",
	   "execution_count": null,
	   "metadata": {
	    "collapsed": true
	   },
	   "outputs": [],
"source": [
"\n",
"// Ex4_25\n",
"clc;\n",
"// Given:\n",
"a=(1/32);// activity drop of its initial value\n",
"t1=7.5;//in h case(a)\n",
"t2=64.45;// in min case(b)\n",
"// Solution:\n",
"n=log(a)/log(0.5);\n",
"t11=t1/n;// half life\n",
"t12=t2/n;// half life\n",
"printf('The half life for case (a)is %f h and case(b) is %f min',t11,t12)"
   ]
   }
,
{
		   "cell_type": "markdown",
		   "metadata": {},
		   "source": [
			"## Example 4.26: P4_26.sce"
		   ]
		  },
  {
"cell_type": "code",
	   "execution_count": null,
	   "metadata": {
	    "collapsed": true
	   },
	   "outputs": [],
"source": [
"\n",
"// Ex4_26\n",
"clc;\n",
"\n",
"// Given:\n",
"t238=4.5*10^9;// in y\n",
"t235=7.04*10^8;// in y\n",
"a0=0.72;// atoms per cent\n",
"t=7.04*10^8;\n",
"// Solution:\n",
"\n",
"k1=0.693/(t238);//decay constant for U 238\n",
"N1=(100-a0)*exp(k1*t);\n",
"\n",
"k2=0.693/(t235);//decay constant for U 235\n",
"N2=(a0)*exp(k2*t);\n",
"\n",
"proportion=N2/N1;\n",
"printf('The proportion of U235 704 million years back is %f' ,proportion)\n",
"\n",
"\n",
"\n",
""
   ]
   }
,
{
		   "cell_type": "markdown",
		   "metadata": {},
		   "source": [
			"## Example 4.27: P4_27.sce"
		   ]
		  },
  {
"cell_type": "code",
	   "execution_count": null,
	   "metadata": {
	    "collapsed": true
	   },
	   "outputs": [],
"source": [
"\n",
"// Ex4_27\n",
"clc;\n",
"\n",
"// Given:\n",
"t=110;// in min\n",
"a=10;//dpmg^-1\n",
"// Solution:\n",
"k=0.693/t;\n",
"N=a/k;// atoms of F18\n",
"mass=(N*18)/6.022*10^23;\n",
"mass1=(N*18*10^20)/(6.022*10^23);// in 10^-20 grams\n",
"printf('The no. of atoms produced is %f and its mass is %f*10^-20 grams',N,mass1)"
   ]
   }
,
{
		   "cell_type": "markdown",
		   "metadata": {},
		   "source": [
			"## Example 4.28: P4_28.sce"
		   ]
		  },
  {
"cell_type": "code",
	   "execution_count": null,
	   "metadata": {
	    "collapsed": true
	   },
	   "outputs": [],
"source": [
"\n",
"// Ex4_28\n",
"clc;\n",
"\n",
"// Given:\n",
"t=14.3;// half life in days\n",
"// Solution:\n",
"k=0.693/(t*24*3600);\n",
"N=(3.7*10^10)/(k);// No. of atoms in 1 Ci\n",
"N1=N*(1-(exp(-0.693/14.3)));// atoms of S32 produced\n",
"mass=(N1*32)/(6.022*10^23);\n",
"\n",
"m1=mass*10^6;// in micro grams\n",
"printf('The mass in micro-grams is %f.',m1)\n",
""
   ]
   }
,
{
		   "cell_type": "markdown",
		   "metadata": {},
		   "source": [
			"## Example 4.29: P4_29.sce"
		   ]
		  },
  {
"cell_type": "code",
	   "execution_count": null,
	   "metadata": {
	    "collapsed": true
	   },
	   "outputs": [],
"source": [
"\n",
"// Ex4_29\n",
"clc;\n",
"\n",
"// Given:\n",
"t=3.82;// in days\n",
"// Solution:\n",
"// part(a)\n",
"days=1;\n",
"D1=(1-(exp(-0.693*days/t)))*100;\n",
"printf('\n The fraction decayed in 1 day will be %f.',D1)\n",
"// part(b)\n",
"days=5;\n",
"D1=(1-(exp(-0.693*days/t)))*100;\n",
"printf('\n The fraction decayed in 5 days  will be %f.',D1)\n",
"// part(c)\n",
"days=10;\n",
"D1=(1-(exp(-0.693*days/t)))*100;\n",
"printf('\n The fraction decayed in 10 days  will be %f.',D1)\n",
"// part(d)\n",
"days=6*t;\n",
"D1=(1-(exp(-0.693*days/t)))*100;\n",
"printf('\n The fraction decayed in 6 half lives will be %f.',D1)\n",
"// part(e)\n",
"n=log(0.001)/log(0.5);\n",
"printf('\n Time needed for the decay of 99.9 percent is %f half lives i.e.%f days.',n,t*n)"
   ]
   }
,
{
		   "cell_type": "markdown",
		   "metadata": {},
		   "source": [
			"## Example 4.2: P4_2.sce"
		   ]
		  },
  {
"cell_type": "code",
	   "execution_count": null,
	   "metadata": {
	    "collapsed": true
	   },
	   "outputs": [],
"source": [
"\n",
"// Ex4_2\n",
"clc;\n",
"\n",
"// Given:\n",
"t1=1.3*10^9;// in years\n",
"w=0.0119;// wt %\n",
"\n",
"// Solution:\n",
"N=(w*6.022*10^23)/(40*100);\n",
"k=(0.693*60)/(t1*3.16*10^7);\n",
"sa=N*k;// specific activity\n",
"printf('The specific activity is = %f dis min^-1 g^-1',sa)"
   ]
   }
,
{
		   "cell_type": "markdown",
		   "metadata": {},
		   "source": [
			"## Example 4.30: P4_30.sce"
		   ]
		  },
  {
"cell_type": "code",
	   "execution_count": null,
	   "metadata": {
	    "collapsed": true
	   },
	   "outputs": [],
"source": [
"\n",
"// Ex4_30\n",
"clc;\n",
"// Given:\n",
"t=2.6;// years\n",
"// Solution:\n",
"k=0.693/t;// decay constant\n",
"//part(a)\n",
"kbeta=0.89*k;\n",
"printf('\n The decay constant is %f y^-1',kbeta)\n",
"kEC=0.11*k;\n",
"printf('\n The decay constant is %f y^-1',kEC)\n",
"//part(b)\n",
"tbeta=0.693/kbeta;\n",
"printf('\n The half life is %f y',tbeta)\n",
"tEC=0.693/kEC;\n",
"printf('\n The half life is %f y',tEC)"
   ]
   }
,
{
		   "cell_type": "markdown",
		   "metadata": {},
		   "source": [
			"## Example 4.31: P4_31.sce"
		   ]
		  },
  {
"cell_type": "code",
	   "execution_count": null,
	   "metadata": {
	    "collapsed": true
	   },
	   "outputs": [],
"source": [
"\n",
"// Ex4_31\n",
"clc;\n",
"// Given:\n",
"t=12.8;// hours\n",
"// Solution:\n",
"k=0.693/t;// decay constant\n",
"//part(a)by EC\n",
"kEC=0.42*k;\n",
"printf('Decay by EC')\n",
"printf('\n\t The decay constant is %f h^-1',kEC)\n",
"tEC=0.693/kEC;\n",
"printf('\n\t The half life is %f h',tEC)\n",
"\n",
"//part(b)by beta+\n",
"kbeta1=0.19*k;\n",
"printf('\nDecay by beta+')\n",
"printf('\n\t The decay constant is %f h^-1',kbeta1)\n",
"tbeta1=0.693/kbeta1;\n",
"printf('\n\t The half life is %f h',tbeta1)\n",
"\n",
"//part(b)by beta+\n",
"kbeta2=0.39*k;\n",
"printf('\nDecay by beta-')\n",
"printf('\n\t The decay constant is %f h^-1',kbeta2)\n",
"tbeta2=0.693/kbeta2;\n",
"printf('\n\t The half life is %f h',tbeta2)"
   ]
   }
,
{
		   "cell_type": "markdown",
		   "metadata": {},
		   "source": [
			"## Example 4.32: P4_32.sce"
		   ]
		  },
  {
"cell_type": "code",
	   "execution_count": null,
	   "metadata": {
	    "collapsed": true
	   },
	   "outputs": [],
"source": [
"\n",
"//Ex4_32\n",
"clc;\n",
"\n",
"// Given:\n",
"tU=4.47*10^9;// y\n",
"tRa=1600;// y\n",
"tRn=3.82;// days\n",
"nU=1;\n",
"// Solution:\n",
"//under secular equilibrium we have\n",
"nRa=(tRa*365/tRn)*nU;\n",
"nRn=(tU*365/tRn)*nU;\n",
"printf('The proportion of U,Ra,Rn is 1: %f: %f .',nRa,nRn)"
   ]
   }
,
{
		   "cell_type": "markdown",
		   "metadata": {},
		   "source": [
			"## Example 4.33: P4_33.sce"
		   ]
		  },
  {
"cell_type": "code",
	   "execution_count": null,
	   "metadata": {
	    "collapsed": true
	   },
	   "outputs": [],
"source": [
"\n",
"//Ex4_33\n",
"clc;\n",
"\n",
"// Given:\n",
"ax0 =1; //assume\n",
"tx = 2; //hrs\n",
"ty = 1; //hrs\n",
"// Solution:\n",
"// general equation connecting Ax and Ay is\n",
"// Ax(n) = (ky * Ax(0) * (exp(-kx * t) - exp(-ky * t))/ (ky - kx)) + Ay(0) * exp(-ky * t)\n",
"ax0 = 1;\n",
"ay4 = (ax0 * (0.693/1) * ((1/4)-(1/16)))/((0.693/1)-(0.693/2)) + ax0 * (1/16);\n",
"\n",
"ax4 = (1* ax0)/4;\n",
"\n",
"proportion = (ay4 * 100)/(ay4 + ax4);\n",
"\n",
"printf('The proportion of ay4 at the end of 4 hrs is %f',proportion)"
   ]
   }
,
{
		   "cell_type": "markdown",
		   "metadata": {},
		   "source": [
			"## Example 4.34: P4_34.sce"
		   ]
		  },
  {
"cell_type": "code",
	   "execution_count": null,
	   "metadata": {
	    "collapsed": true
	   },
	   "outputs": [],
"source": [
"// Ex4_34\n",
"clc;\n",
"\n",
"//Given:\n",
"Ax0 = 2000; //dps\n",
"//Solution:\n",
"//part a\n",
"ky = 0.693/10;\n",
"kx = 0.693/288;\n",
"// general equation connecting Ax and Ay is\n",
" Ax12 = (ky * Ax0 * (0.5^(1/24) - 0.5^(1.2)))/ (ky - kx);\n",
"\n",
"printf('\n Activity due to La(140) at the end of 12 hrs will be %f dps',Ax12);\n",
"//part b\n",
"ky = 0.693/10;\n",
"kx = 0.693/288;\n",
"// general equation connecting Ax and Ay is\n",
" Ax24 = (ky * Ax0 * (0.5^(2) - 0.5^(57.6)))/ (ky - kx);\n",
"\n",
"printf('\n Activity due to La(140) at the end of 24 d will be %f dps',Ax24);"
   ]
   }
,
{
		   "cell_type": "markdown",
		   "metadata": {},
		   "source": [
			"## Example 4.35: P4_35.sce"
		   ]
		  },
  {
"cell_type": "code",
	   "execution_count": null,
	   "metadata": {
	    "collapsed": true
	   },
	   "outputs": [],
"source": [
"\n",
"// Ex4_35\n",
"clc;\n",
"\n",
"// Given:\n",
"\n",
"t1=2.7;// h\n",
"t2=3.6;// h\n",
"// Solution:\n",
"k1=0.693/t1;\n",
"k2=.693/t2;\n",
"\n",
"tmax=(log(k2/k1))/(k2-k1);\n",
"printf('The time when daughter activity reaches maximum is %f and this is same when activities of both are equal.',tmax)"
   ]
   }
,
{
		   "cell_type": "markdown",
		   "metadata": {},
		   "source": [
			"## Example 4.36: P4_36.sce"
		   ]
		  },
  {
"cell_type": "code",
	   "execution_count": null,
	   "metadata": {
	    "collapsed": true
	   },
	   "outputs": [],
"source": [
"\n",
"//Ex4_36\n",
"clc;\n",
"// Given:\n",
"tPo=138;// days\n",
"n=24.86;// days\n",
"// Solution:\n",
"kPo = 0.693/tPo;\n",
"// using simplification logx=2(x-1)/(x+1)\n",
"kBi=((2 * 2.303)-(n*kPo))/n;\n",
"tBi=0.693/kBi;\n",
"\n",
"printf('The half life of Bi is %f days',tBi)"
   ]
   }
,
{
		   "cell_type": "markdown",
		   "metadata": {},
		   "source": [
			"## Example 4.37: P4_37.sce"
		   ]
		  },
  {
"cell_type": "code",
	   "execution_count": null,
	   "metadata": {
	    "collapsed": true
	   },
	   "outputs": [],
"source": [
"\n",
"//Ex4_37\n",
"clc;\n",
"\n",
"// Given:\n",
"a=10*10^7;// rate\n",
"t=15;// h\n",
"// Soution:\n",
"A30=a*(1-(0.5)^(2));// dps\n",
"\n",
"A45=A30*((0.5)^(3));// dps\n",
"\n",
"printf('The residual activity in the sample is %f dps',A45)"
   ]
   }
,
{
		   "cell_type": "markdown",
		   "metadata": {},
		   "source": [
			"## Example 4.3: P4_3.sce"
		   ]
		  },
  {
"cell_type": "code",
	   "execution_count": null,
	   "metadata": {
	    "collapsed": true
	   },
	   "outputs": [],
"source": [
"\n",
"// Ex4_3\n",
"\n",
"clc;\n",
"\n",
"// Given:\n",
"L=6.022*10^23;\n",
"// Solution:\n",
"// 1 mCi= 3.7*10^7 dis/s\n",
"k1=0.693/(15*3600);\n",
"N1=3.7*10^7/k1;\n",
"m1=(24*N1*10^10)/L;\n",
"printf('\n The no. of atoms of Na(24) are = %f',N1)\n",
"printf('\n The mass of Na(24) is %f * 10^-10 g',m1)\n",
"k2=0.693/(14.3*24*3600);\n",
"N2=3.7*10^7/k2;\n",
"m2=(32*N2*10^9)/L;\n",
"printf('\n \n The no. of atoms of P(32) are = %f',N2)\n",
"printf('\n The mass of P(32) is %f * 10^-9 g',m2)\n",
"k3=0.693/(1600*3.16*10^7);\n",
"N3=3.7*10^7/k3;\n",
"m3=(226*N3*10^3)/L;\n",
"printf('\n \n The no. of atoms of Ra(226) are = %f',N3)\n",
"printf('\n The mass of Ra(226) is %f * 10^-3 g',m3)"
   ]
   }
,
{
		   "cell_type": "markdown",
		   "metadata": {},
		   "source": [
			"## Example 4.4: P4_4.sce"
		   ]
		  },
  {
"cell_type": "code",
	   "execution_count": null,
	   "metadata": {
	    "collapsed": true
	   },
	   "outputs": [],
"source": [
"\n",
"//Ex4_4\n",
"\n",
"clc;\n",
"\n",
"// Given:\n",
"t1=12.3;// in yrs\n",
"L=6.022*10^23;\n",
"// Solution:\n",
"k=.693/(t1*3.16*10^7);// in s^-1\n",
"A=(2*L)/(2.24*10^4);// no. of atoms\n",
"a1=A*k;// dis per s\n",
"a=a1/(3.7*10^10);// activity in Ci/cm^3\n",
"printf('The activity in Ci/cm^3 = %f',a)"
   ]
   }
,
{
		   "cell_type": "markdown",
		   "metadata": {},
		   "source": [
			"## Example 4.5: P4_5.sce"
		   ]
		  },
  {
"cell_type": "code",
	   "execution_count": null,
	   "metadata": {
	    "collapsed": true
	   },
	   "outputs": [],
"source": [
"\n",
"// Ex4_5\n",
"\n",
"clc;\n",
"\n",
"// Given:\n",
"t=5736;// in years\n",
"Nk=16.1;// dis/min\n",
"L=6.022*10^23;\n",
"// Solution:\n",
"k=(0.693*60)/(t*3.16*10^7);\n",
"N1=Nk/k;// atoms per g for C14\n",
"N2=L/12;//\n",
"\n",
"r=(N1*10^12)/N2;// ratio of C14/C12 in atmosphere\n",
"\n",
"printf('The ratio of C14/C12 in atmosphere in 10^-12 is = %f',r)"
   ]
   }
,
{
		   "cell_type": "markdown",
		   "metadata": {},
		   "source": [
			"## Example 4.7: P4_7.sce"
		   ]
		  },
  {
"cell_type": "code",
	   "execution_count": null,
	   "metadata": {
	    "collapsed": true
	   },
	   "outputs": [],
"source": [
"\n",
"//Ex4_7\n",
"clc;\n",
"\n",
"// Given:\n",
"dA = 206-238;\n",
"dA_Beta=0;\n",
"dA_Alpha = -4;\n",
"\n",
"dZ_Alpha = -2;\n",
"dZ_Beta = 1;\n",
"nBeta=0; //random initialisation\n",
"dZ = 82 -92;\n",
"// Solution:\n",
"nAlpha = (dA- (dA_Beta* nBeta))/dA_Alpha;\n",
"\n",
"nBeta = (dZ- (dZ_Alpha * nAlpha))/dZ_Beta;\n",
"\n",
"printf('Number of alpha decays =%f and number of beta decays = %f',nAlpha,nBeta);"
   ]
   }
,
{
		   "cell_type": "markdown",
		   "metadata": {},
		   "source": [
			"## Example 4.8: P4_8.sce"
		   ]
		  },
  {
"cell_type": "code",
	   "execution_count": null,
	   "metadata": {
	    "collapsed": true
	   },
	   "outputs": [],
"source": [
"// Ex4_8\n",
"\n",
"clc;\n",
"// Given:\n",
"E1=0.059;\n",
"E2=2.5;\n",
"E3=1.33;\n",
"Ei=0;\n",
"Ef=0;\n",
"\n",
"// Solution:\n",
"// delta E for 1,2 & 3 photon \n",
"dE1=E1-Ei;\n",
"dE2=E2-E3;\n",
"dE3=E3-Ef;\n",
"// delta I for 1,2 & 3 photon \n",
"dI1=2-5;\n",
"dI2=4-2;\n",
"dI3=2-0;\n",
"// EL/ML for 1,2 & 3 photon \n",
"ELML1=3+1+1\n",
"ELML2=2+1+1;\n",
"ELML3=2+1+1;\n",
"printf('\n For first photon, dE1=%f MeV, dI1=%f, since EL/ML1=%f & (L+PI+PF) is odd, M3',dE1,dI1,ELML1)\n",
"printf('\n For second photon, dE2=%f MeV, dI2=%f,since  EL/ML2=%f & (L+PI+PF) is even, E2',dE2,dI2,ELML2)\n",
"printf('\n For third photon, dE3=%f MeV, d3I=%f, since EL/ML3=%f & (L+PI+PF) is even, E2',dE3,dI3,ELML3)"
   ]
   }
,
{
		   "cell_type": "markdown",
		   "metadata": {},
		   "source": [
			"## Example 4.9: P4_9.sce"
		   ]
		  },
  {
"cell_type": "code",
	   "execution_count": null,
	   "metadata": {
	    "collapsed": true
	   },
	   "outputs": [],
"source": [
"\n",
"// Ex4_9\n",
"clc;\n",
"\n",
"// Given:\n",
"E=2.5; // in MeV\n",
"// Solution:\n",
"// 1 Mev/atom=96.32GJ/mole\n",
"E1=E*96.32// GJ/mole\n",
"E2=0.1*E1;// for 0.1 mole\n",
"printf('The energy that would be released for 0.1 mole of Co will be = %f GJ',E2)"
   ]
   }
],
"metadata": {
		  "kernelspec": {
		   "display_name": "Scilab",
		   "language": "scilab",
		   "name": "scilab"
		  },
		  "language_info": {
		   "file_extension": ".sce",
		   "help_links": [
			{
			 "text": "MetaKernel Magics",
			 "url": "https://github.com/calysto/metakernel/blob/master/metakernel/magics/README.md"
			}
		   ],
		   "mimetype": "text/x-octave",
		   "name": "scilab",
		   "version": "0.7.1"
		  }
		 },
		 "nbformat": 4,
		 "nbformat_minor": 0
}
