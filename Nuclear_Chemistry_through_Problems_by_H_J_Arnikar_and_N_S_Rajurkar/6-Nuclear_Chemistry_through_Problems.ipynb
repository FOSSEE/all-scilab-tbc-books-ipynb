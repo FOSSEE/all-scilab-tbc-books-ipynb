{
"cells": [
 {
		   "cell_type": "markdown",
	   "metadata": {},
	   "source": [
       "# Chapter 6: Nuclear Chemistry through Problems"
	   ]
	},
{
		   "cell_type": "markdown",
		   "metadata": {},
		   "source": [
			"## Example 6.10: P6_10.sce"
		   ]
		  },
  {
"cell_type": "code",
	   "execution_count": null,
	   "metadata": {
	    "collapsed": true
	   },
	   "outputs": [],
"source": [
"\n",
"//Ex6_10\n",
"\n",
"clc;\n",
"// Given:\n",
"mU=235.043091;\n",
"mn=1.0087;\n",
"mXe=138.9187;\n",
"mSn=94.919;\n",
"\n",
"// Solution:\n",
"dm=(235.04309+1.0087-138.917-94.919-2.0174);// delta m\n",
"E=dm*931;// energy of given fission in MeV\n",
"printf('The energy for the given fission is = %f MeV',E)"
   ]
   }
,
{
		   "cell_type": "markdown",
		   "metadata": {},
		   "source": [
			"## Example 6.11: P6_11.sce"
		   ]
		  },
  {
"cell_type": "code",
	   "execution_count": null,
	   "metadata": {
	    "collapsed": true
	   },
	   "outputs": [],
"source": [
"\n",
"//Ex6_11\n",
"clc;\n",
"// Given:\n",
"mPu=239.052161;\n",
"mPd=107.903920;\n",
"mXe=128.904784;\n",
"mn=1.0087;\n",
"mGd=154.922010;\n",
"mBr=80.916344;\n",
"\n",
"// Solution: Part (a)\n",
"\n",
"dm1=(mPu-(mPd+mXe+2*mn));// delta m\n",
"E1=dm1*931;// energy of given fission in MeV\n",
"printf('The energy for the Pd(108)+Xe(129)+3n fission is = %f MeV',E1)\n",
"\n",
"dm2=(mPu-(mGd+mBr+3*mn));// delta m\n",
"E2=dm2*931;// energy of given fission in MeV\n",
"printf('\n The energy for the Gd(155)+Br(81)+4n fission is = %f MeV',E2)"
   ]
   }
,
{
		   "cell_type": "markdown",
		   "metadata": {},
		   "source": [
			"## Example 6.12: P6_12.sce"
		   ]
		  },
  {
"cell_type": "code",
	   "execution_count": null,
	   "metadata": {
	    "collapsed": true
	   },
	   "outputs": [],
"source": [
"\n",
"// Ex6_12\n",
"clc;\n",
"// Given:\n",
"\n",
"mFm=250.079;\n",
"mSn=124.9077;\n",
"Na=6.02*10^23;\n",
"\n",
"// Solution:\n",
"E1=(mFm-2*mSn)*931; // Fission Energy in MeV\n",
"printf('The fission energy in MeV is = %f',E1)\n",
"\n",
"r=((mSn)^0.33333);\n",
"E2=(50*50*4.8*4.8*10^-20)/(2*1.5*10^-13*(r)*1.6*10^-6);// Barrier energy in MeV\n",
"printf('\n The barrier energy in MeV is = %f',E2)\n",
""
   ]
   }
,
{
		   "cell_type": "markdown",
		   "metadata": {},
		   "source": [
			"## Example 6.13: P6_13.sce"
		   ]
		  },
  {
"cell_type": "code",
	   "execution_count": null,
	   "metadata": {
	    "collapsed": true
	   },
	   "outputs": [],
"source": [
"\n",
"// Ex6_13\n",
"clc;\n",
"// Given:\n",
"mTh1=232;\n",
"mTh2=233;\n",
"ETh1=6.4;// in MeV\n",
"ETh2=4.93;// in MeV\n",
"E=6.5;// fission barrier energy in MeV\n",
"\n",
"// Solution: Part(a)\n",
"E1=0*mTh1/mTh2;\n",
"Ex1=E1+ETh2;\n",
"printf('\n (a) Excitation energy is = %f MeV',Ex1)\n",
"if (Ex1>E) then\n",
"    printf('\n Fission is possible')\n",
"else \n",
"    printf('\n Fission is not possible')\n",
"end\n",
"\n",
"// Solution: Part(b)\n",
"E2=2*mTh1/mTh2;\n",
"Ex2=E2+ETh2;\n",
"printf('\n (b) Excitation energy is = %f MeV',Ex2)\n",
"if (Ex2>E) then\n",
"    printf('\n Fission is possible')\n",
"else \n",
"    printf('\n Fission is not possible')\n",
"end\n",
"\n",
"// Solution: Part (c)\n",
"E3=10*mTh1/mTh2;\n",
"Ex3=E3+ETh2;\n",
"printf('\n (c) Excitation energy is = %f MeV',Ex3)\n",
"if (Ex3>E) then\n",
"    printf('\n Fission is possible')\n",
"else \n",
"    printf('\n Fission is not possible')\n",
"end"
   ]
   }
,
{
		   "cell_type": "markdown",
		   "metadata": {},
		   "source": [
			"## Example 6.14: P6_14.sce"
		   ]
		  },
  {
"cell_type": "code",
	   "execution_count": null,
	   "metadata": {
	    "collapsed": true
	   },
	   "outputs": [],
"source": [
"\n",
"// Ex6_14\n",
"\n",
"clc;\n",
"\n",
"// Given:\n",
"\n",
"mEs=249.0762;\n",
"mn=1.0087;\n",
"mGd=160.9286;\n",
"mBr=86.922;\n",
"\n",
"// Solution:\n",
"dm=(mEs-(mGd+mBr+mn));// delta m\n",
"E=dm*931;// energy of given fission in MeV\n",
"printf('The energy for the given fission is = %f MeV',E)"
   ]
   }
,
{
		   "cell_type": "markdown",
		   "metadata": {},
		   "source": [
			"## Example 6.15: P6_15.sce"
		   ]
		  },
  {
"cell_type": "code",
	   "execution_count": null,
	   "metadata": {
	    "collapsed": true
	   },
	   "outputs": [],
"source": [
"\n",
"// Ex6_15\n",
"\n",
"clc;\n",
"\n",
"// Given:\n",
"\n",
"m=1/6;// mass ratio of pair of fission product\n",
"\n",
"// Solution:\n",
"// Velocities as well as energies are in inverse ratio of their masses.\n",
"\n",
"v=(m)^(-1);// Velocity ratio\n",
"e=(m)^(-1);// Energy ratio\n",
"printf('The velocity will be related as %f and Energy will be related as %f',v,e)"
   ]
   }
,
{
		   "cell_type": "markdown",
		   "metadata": {},
		   "source": [
			"## Example 6.16: P6_16.sce"
		   ]
		  },
  {
"cell_type": "code",
	   "execution_count": null,
	   "metadata": {
	    "collapsed": true
	   },
	   "outputs": [],
"source": [
"\n",
"// Ex6_16\n",
"\n",
"clc;\n",
"\n",
"// Given:\n",
"P=100;// in watts\n",
"\n",
"// Solution:\n",
"P1=P*10^7;// in erg/s\n",
"P2=P1/(1.6*10^-6);// in MeV/s\n",
"// 1 ifssion generates 200 MeV of energy\n",
"f=P2/200;// no. of fissions\n",
"\n",
"printf('The no. of fissions produced per second will be = %f',f)"
   ]
   }
,
{
		   "cell_type": "markdown",
		   "metadata": {},
		   "source": [
			"## Example 6.17: P6_17.sce"
		   ]
		  },
  {
"cell_type": "code",
	   "execution_count": null,
	   "metadata": {
	    "collapsed": true
	   },
	   "outputs": [],
"source": [
"\n",
"// Ex6_17\n",
"clc;\n",
"// Given:\n",
"r0=1.4*10^-15;// nuclear radius constant in m\n",
"p=8.85*10^-12;// permittivity of free space in J^-1*C^2*m^-1\n",
"A=92;\n",
"e=1.6*10^-19;\n",
"mPd=118;\n",
"// Solution:\n",
"r=((mPd)^0.33333);\n",
"Eb=((A/2)^2)*(e^2)/(2*r0*r*4*3.14*p*1.6*10^-13);\n",
"printf('The fission barrier energy is = %f MeV',Eb)"
   ]
   }
,
{
		   "cell_type": "markdown",
		   "metadata": {},
		   "source": [
			"## Example 6.18: P6_18.sce"
		   ]
		  },
  {
"cell_type": "code",
	   "execution_count": null,
	   "metadata": {
	    "collapsed": true
	   },
	   "outputs": [],
"source": [
"\n",
"// Ex6_18\n",
"clc;\n",
"\n",
"// Given:\n",
"r0=1.37*10^-15;// nuclear radius constant in m\n",
"p=8.85*10^-12;// permittivity of free space in J^-1*C^2*m^-1\n",
"A=92;\n",
"e=1.6*10^-19;\n",
"mTe=140;\n",
"mZr=95;\n",
"// Solution:\n",
"r1=((mTe)^0.33333);\n",
"r2=((mZr)^0.33333);\n",
"Eb=(52*40)*(e^2)/(r0*(r1+r2)*4*3.14*p*1.6*10^-13);\n",
"printf('The fission barrier energy is = %f MeV',Eb)"
   ]
   }
,
{
		   "cell_type": "markdown",
		   "metadata": {},
		   "source": [
			"## Example 6.19: P6_19.sce"
		   ]
		  },
  {
"cell_type": "code",
	   "execution_count": null,
	   "metadata": {
	    "collapsed": true
	   },
	   "outputs": [],
"source": [
"\n",
"// Ex6_19\n",
"clc;\n",
"\n",
"// Given:\n",
"A=240;\n",
"Z=94;\n",
"//Solution:\n",
"Ecr=(0.89*(A^(2/3)))-(0.02*(Z*(Z-1)))/(A^(1/3));\n",
"printf('The critical deformation energy for the fission is = %f MeV',Ecr)"
   ]
   }
,
{
		   "cell_type": "markdown",
		   "metadata": {},
		   "source": [
			"## Example 6.1: P6_1.sce"
		   ]
		  },
  {
"cell_type": "code",
	   "execution_count": null,
	   "metadata": {
	    "collapsed": true
	   },
	   "outputs": [],
"source": [
"\n",
"//Ex6_1\n",
"clc;\n",
"// Given:\n",
"d1=7.9;// density of Gd\n",
"d2=2.31;// Density of In\n",
"a1=49;// in Kb\n",
"a2=155;// in b\n",
"m1=157.25;\n",
"m2=114.8;\n",
"Na=6.02*10^23;\n",
"// Solution:\n",
"x1=log(1/(1/2))/((d1*Na*a1*10^-24*10^3)/m1);// half-thickness for Gd\n",
"\n",
"\n",
"x2=log(1/(1/2))/((d2*Na*a2*10^-24)/m2);// half-thickness for In\n",
"\n",
"r=x2/x1;\n",
"printf('The half-thickness of In is %f times more than of Gd.',r)"
   ]
   }
,
{
		   "cell_type": "markdown",
		   "metadata": {},
		   "source": [
			"## Example 6.2: P6_2.sce"
		   ]
		  },
  {
"cell_type": "code",
	   "execution_count": null,
	   "metadata": {
	    "collapsed": true
	   },
	   "outputs": [],
"source": [
"\n",
"// Ex6_2\n",
"\n",
"clc;\n",
"\n",
"// Given:\n",
"d1=12;// density of Gd\n",
"a1=43.11;// in b\n",
"m1=106.4;\n",
"Na=6.02*10^23;\n",
"i1=1;\n",
"i2=1/1000;\n",
"// Solution\n",
"\n",
"x=log(i1/i2)/((d1*Na*a1*10^-24)/m1);// thickness for Pd foil\n",
"\n",
"printf('The thickness of Pd foil which would reduce the intensity of a beam to excatly 1/1000 of its initial value is = %f cm',x)"
   ]
   }
,
{
		   "cell_type": "markdown",
		   "metadata": {},
		   "source": [
			"## Example 6.3: P6_3.sce"
		   ]
		  },
  {
"cell_type": "code",
	   "execution_count": null,
	   "metadata": {
	    "collapsed": true
	   },
	   "outputs": [],
"source": [
"// Ex6_3\n",
"\n",
"clc;\n",
"\n",
"// Given:\n",
"mTe=129.9067; // mol wt. of Te(52)\n",
"mCu=64.9278;// mol wt of Cu(29)\n",
"mFe=65;// mol wt of Fe(26)\n",
"// Solution\n",
"E1=(mTe-2*mCu)*931; // Fission Energy in MeV\n",
"printf('The fission energy of Te(130)in MeV is = %f',E1)\n",
"r=((65)^0.33333);\n",
"E2=(26*26*4.8*4.8*10^-20)/(2*1.5*1.6*10^-13*10^-6*r);// Barrier energy in MeV\n",
"printf('\n The barrier energy of Te(130) in MeV is = %f',E2)\n",
"E3=E2-E1;// Activation Energy in MeV\n",
"printf('\n The activation energy of Te(130) in MeV is = %f',E3)\n",
"\n",
"// Since barrier energy is greater than fission energy, spontaneous fission is not possible unless the activation energy is provided.\n",
""
   ]
   }
,
{
		   "cell_type": "markdown",
		   "metadata": {},
		   "source": [
			"## Example 6.4: P6_4.sce"
		   ]
		  },
  {
"cell_type": "code",
	   "execution_count": null,
	   "metadata": {
	    "collapsed": true
	   },
	   "outputs": [],
"source": [
"\n",
"// Ex6_4\n",
"clc;\n",
"// Given:\n",
"mSn=113.903; // mol wt. of Sn(50)\n",
"mMn=56.9383;// mol wt of Mn(25)\n",
"mFe=57;//mol wt of Fe(26)\n",
"// Solution\n",
"E1=(mSn-2*mMn)*931; // Fission Energy in MeV\n",
"printf('\n The fission energy in MeV is = %f',E1)\n",
"r=((mFe)^0.33333);\n",
"E2=(25*25*4.8*4.8*10^-20)/(2*1.5*1.6*10^-13*10^-6*r);// Barrier energy in MeV\n",
"printf('\n The barrier energy in MeV is = %f',E2)\n",
"E3=E2-E1;// Activation Energy in MeV\n",
"printf('\n The activation energy in MeV is = %f',E3)"
   ]
   }
,
{
		   "cell_type": "markdown",
		   "metadata": {},
		   "source": [
			"## Example 6.5: P6_5.sce"
		   ]
		  },
  {
"cell_type": "code",
	   "execution_count": null,
	   "metadata": {
	    "collapsed": true
	   },
	   "outputs": [],
"source": [
"\n",
"// Ex6_5\n",
"clc;\n",
"// Given:\n",
"a1=94;// atomic no. of Pu\n",
"a2=42;//atomic no. of Mo\n",
"a3=56;// atomic no. of Ba\n",
"// Solution:\n",
"// By principle of equal charge displacement\n",
"z1=0.5*(a1+a2-a3);\n",
"printf('\n z1=%f',z1)\n",
"z2=0.5*(a1-a2+a3);\n",
"printf('\n z2=%f',z2)\n",
"\n",
"//From z1 and z2 we have the primary fragments as Zr(40), atomic mass(100) and Xe(54), atomic mass (138)."
   ]
   }
,
{
		   "cell_type": "markdown",
		   "metadata": {},
		   "source": [
			"## Example 6.6: P6_6.sce"
		   ]
		  },
  {
"cell_type": "code",
	   "execution_count": null,
	   "metadata": {
	    "collapsed": true
	   },
	   "outputs": [],
"source": [
"\n",
"// Ex6_6\n",
"clc;\n",
"// Given:\n",
"a1=92;// atomic no. of U\n",
"a2=40;//atomic no. of Zr\n",
"a3=58;// atomic no. of Ce\n",
"// Solution\n",
"// By principle of equal charge displacement\n",
"z1=0.5*(a1+a2-a3);\n",
"printf('\n z1=%f',z1)\n",
"z2=0.5*(a1-a2+a3);\n",
"printf('\n z2=%f',z2)\n",
"//From z1 and z2 we have the primary fragments are Rb(37), atomic mass(94) and Cs(55), atomic mass (140)."
   ]
   }
,
{
		   "cell_type": "markdown",
		   "metadata": {},
		   "source": [
			"## Example 6.7: P6_7.sce"
		   ]
		  },
  {
"cell_type": "code",
	   "execution_count": null,
	   "metadata": {
	    "collapsed": true
	   },
	   "outputs": [],
"source": [
"\n",
"\n",
"// Ex6_7\n",
"clc;\n",
"// Given:\n",
"a1=92;// atomic no. of U\n",
"a2=42;//atomic no. of Mo\n",
"a3=56;// atomic no. of Ba\n",
"// Solution\n",
"// By principle of equal charge displacement\n",
"z1=0.5*(a1+a2-a3);\n",
"printf('\n z1=%f',z1)\n",
"z2=0.5*(a1-a2+a3-4);\n",
"printf('\n z2=%f',z2)\n",
"\n",
"// From z1 and z2 we have the primary fragments are Y(39), atomic mass(95) and Sb(51), atomic mass (137)"
   ]
   }
,
{
		   "cell_type": "markdown",
		   "metadata": {},
		   "source": [
			"## Example 6.8: P6_8.sce"
		   ]
		  },
  {
"cell_type": "code",
	   "execution_count": null,
	   "metadata": {
	    "collapsed": true
	   },
	   "outputs": [],
"source": [
"\n",
"// Ex6_8\n",
"clc;\n",
"// Given:\n",
"mU=236.04533;\n",
"mU1=236.045733;\n",
"mU2=235.043933;\n",
"mY=94.912;\n",
"mSb=136.91782;\n",
"mn=1.0087;\n",
"Na=6.02*10^23;\n",
"\n",
"// Solution:\n",
"E1=(mU-mY-mSb-4*mn)*931; // Fission Energy in MeV\n",
"printf('The fission energy in MeV is = %f',E1)\n",
"r1=((mY)^0.33333);\n",
"r2=((mSb)^0.33333);\n",
"E2=(39*51*4.8*4.8*10^-20)/(1.5*10^-13*(r1+r2)*1.6*10^-6);// Barrier energy in MeV\n",
"printf('\n The barrier energy in MeV is = %f',E2)\n",
"E3=E2-E1;// Activation Energy in MeV\n",
"printf('\n The activation energy in MeV is = %f',E3)\n",
"// Note : There is discrepancy in the final answer.\n",
"E4=(mU2+mn-mU1)*931; // Fission Energy in MeV\n",
"printf('\n The fission by thermal neutrons is not possible since excitation energy %f  is less than activation energy.',E4)"
   ]
   }
,
{
		   "cell_type": "markdown",
		   "metadata": {},
		   "source": [
			"## Example 6.9: P6_9.sce"
		   ]
		  },
  {
"cell_type": "code",
	   "execution_count": null,
	   "metadata": {
	    "collapsed": true
	   },
	   "outputs": [],
"source": [
"\n",
"// Ex6_9\n",
"clc;\n",
"// Given:\n",
"nSr=38;\n",
"nY=39;\n",
"\n",
"\n",
"// Solution:\n",
"\n",
"PSr=0.565*exp(-((nSr-40)^2)); //independent fractional chain yield of Sr\n",
"PY=0.565*exp(((nY-40)^2)); //independent fractional chain yield of Y\n",
"\n",
"printf('The independent fractional chain yield of Sr is = %f',PSr)\n",
"printf('\n The independent fractional chain yield of Y is = %f',PY)"
   ]
   }
],
"metadata": {
		  "kernelspec": {
		   "display_name": "Scilab",
		   "language": "scilab",
		   "name": "scilab"
		  },
		  "language_info": {
		   "file_extension": ".sce",
		   "help_links": [
			{
			 "text": "MetaKernel Magics",
			 "url": "https://github.com/calysto/metakernel/blob/master/metakernel/magics/README.md"
			}
		   ],
		   "mimetype": "text/x-octave",
		   "name": "scilab",
		   "version": "0.7.1"
		  }
		 },
		 "nbformat": 4,
		 "nbformat_minor": 0
}
