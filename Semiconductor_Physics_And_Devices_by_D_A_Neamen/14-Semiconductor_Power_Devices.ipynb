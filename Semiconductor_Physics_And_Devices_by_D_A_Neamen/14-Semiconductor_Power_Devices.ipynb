{
"cells": [
 {
		   "cell_type": "markdown",
	   "metadata": {},
	   "source": [
       "# Chapter 14: Semiconductor Power Devices"
	   ]
	},
{
		   "cell_type": "markdown",
		   "metadata": {},
		   "source": [
			"## Example 14.1: Power_transistor_characteristics.sce"
		   ]
		  },
  {
"cell_type": "code",
	   "execution_count": null,
	   "metadata": {
	    "collapsed": true
	   },
	   "outputs": [],
"source": [
"// Chapter 14_Semiconductor Power Devices\n",
"//Caption_Power transistor characteristics\n",
"//Ex_1//page-651\n",
"RL=10\n",
"Vcc=35\n",
"Ic_max=Vcc/RL\n",
"Ic=Vcc/(2*RL)\n",
"VCE=Vcc-Ic*RL     //Collector emitter voltage at maximum power point\n",
"PT=VCE*Ic    //Maximum transistor power dissipation\n",
"printf('The maximum power dissipation in transistor occurs at centre of the load line. The maximum power dissipation is therefore %1.1f W',PT)"
   ]
   }
,
{
		   "cell_type": "markdown",
		   "metadata": {},
		   "source": [
			"## Example 14.2: Power_MOSFET_characteristics.sce"
		   ]
		  },
  {
"cell_type": "code",
	   "execution_count": null,
	   "metadata": {
	    "collapsed": true
	   },
	   "outputs": [],
"source": [
"// Chapter 14_Semiconductor Power Devices\n",
"//Caption_Power MOSFET characteristics\n",
"//Ex_2//page-658\n",
"VDD=24\n",
"PT=30   //Maximum rated power\n",
"ID1max=5    //Maximum rated current\n",
"ID2max=4\n",
"RD1=VDD/ID1max     //Drain resistance\n",
"RD2=VDD/ID2max\n",
"ID1=VDD/(2*RD1)    //Current at the maximum power point\n",
"ID2=VDD/(2*RD2)\n",
"VDS1=VDD-ID1*RD1     //Drain to source voltage\n",
"VDS2=VDD-ID2*RD2\n",
"P1=VDS1*ID1   //Maximum power that may be dissipated in transistor\n",
"P2=VDS2*ID2\n",
"printf('The maximum dissipated power in first case is %1.0f W which corresponds to the maximum rated power while in second case is %1.0f W which is less than the maximum rated power',P1,P2)"
   ]
   }
,
{
		   "cell_type": "markdown",
		   "metadata": {},
		   "source": [
			"## Example 14.3: Heat_sinks_and_junction_temperature.sce"
		   ]
		  },
  {
"cell_type": "code",
	   "execution_count": null,
	   "metadata": {
	    "collapsed": true
	   },
	   "outputs": [],
"source": [
"// Chapter 14_Semiconductor Power Devices\n",
"//Caption_Heat sinks and junction temperature\n",
"//Ex_3//page-662\n",
"Theta_dev_case=1.75\n",
"Theta_case_snk=1\n",
"Theta_snk_amb=5\n",
"Theta_case_amb=50\n",
"Tamb=30  //Ambient temperature\n",
"Tdev=150   //maximum junction or device temperature\n",
"PD_max=(Tdev-Tamb)/(Theta_dev_case+Theta_case_amb)   //when no heat sink is used\n",
"PD_MAX2=(Tdev-Tamb)/(Theta_dev_case+Theta_case_snk+Theta_snk_amb)\n",
"printf('Maximum power dissipated when no sink was used is %1.2f W while with the sink is %1.2f W which is more than the previous case.Thus use of heat sink allows more power to be dissipted in the device.',PD_max,PD_MAX2)"
   ]
   }
],
"metadata": {
		  "kernelspec": {
		   "display_name": "Scilab",
		   "language": "scilab",
		   "name": "scilab"
		  },
		  "language_info": {
		   "file_extension": ".sce",
		   "help_links": [
			{
			 "text": "MetaKernel Magics",
			 "url": "https://github.com/calysto/metakernel/blob/master/metakernel/magics/README.md"
			}
		   ],
		   "mimetype": "text/x-octave",
		   "name": "scilab",
		   "version": "0.7.1"
		  }
		 },
		 "nbformat": 4,
		 "nbformat_minor": 0
}
