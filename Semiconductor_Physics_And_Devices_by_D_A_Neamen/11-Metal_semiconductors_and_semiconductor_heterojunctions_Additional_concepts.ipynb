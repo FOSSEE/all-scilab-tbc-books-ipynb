{
"cells": [
 {
		   "cell_type": "markdown",
	   "metadata": {},
	   "source": [
       "# Chapter 11: Metal semiconductors and semiconductor heterojunctions Additional concepts"
	   ]
	},
{
		   "cell_type": "markdown",
		   "metadata": {},
		   "source": [
			"## Example 11.1: Mobility_variatio.sce"
		   ]
		  },
  {
"cell_type": "code",
	   "execution_count": null,
	   "metadata": {
	    "collapsed": true
	   },
	   "outputs": [],
"source": [
"// Chapter 11_ Metal-Oxide-Semiconductor Field Effect Transistor:Additional Concepts\n",
"//Caption_Mobility variation\n",
"//Ex_1//page 509\n",
"T=300\n",
"Na=3*10^16\n",
"ni=1.5*10^10     //intrinsic carrier concentration\n",
"phi_fp=0.0259*log(Na/ni)\n",
"xdt=(4*eps*phi_fp/(e*Na))^0.5\n",
"QSD_MAX=e*Na*xdt;\n",
"Eeff=1/eps*QSD_MAX\n",
"printf('Effective electric field at threshold is %1.2f V/cm',Eeff)"
   ]
   }
,
{
		   "cell_type": "markdown",
		   "metadata": {},
		   "source": [
			"## Example 11.2: Mobility_variatio.sce"
		   ]
		  },
  {
"cell_type": "code",
	   "execution_count": null,
	   "metadata": {
	    "collapsed": true
	   },
	   "outputs": [],
"source": [
"// Chapter 11_ Metal-Oxide-Semiconductor Field Effect Transistor:Additional Concepts\n",
"//Caption_Mobility variation\n",
"//Ex_2//page 517\n",
"Na=3*10^16\n",
"tox=450*10^-8\n",
"eps=11.7*8.85*10^-14\n",
"e=1.6*10^-19\n",
"eps_ox=3.9*8.85*10^-14\n",
"ni=1.5*10^10     //intrinsic carrier concentration\n",
"L=1.25*10^-4\n",
"rj=0.5*10^-4\n",
"Cox=eps_ox/tox    //oxide capacitance\n",
"phi_fp=0.0259*log(Na/ni)\n",
"xdt=(4*eps*phi_fp/(e*Na))^0.5\n",
"x=e*Na*xdt/Cox\n",
"y=(1+(2*xdt/rj))^0.5-1\n",
"delVt=-x*(rj*y/L)      //voltage shift\n",
"\n",
"printf('Threshold voltage shift due to short channel effects is %1.3f V',delVt)"
   ]
   }
,
{
		   "cell_type": "markdown",
		   "metadata": {},
		   "source": [
			"## Example 11.3: narrow_channel_effects.sce"
		   ]
		  },
  {
"cell_type": "code",
	   "execution_count": null,
	   "metadata": {
	    "collapsed": true
	   },
	   "outputs": [],
"source": [
"// Chapter 11_ Metal-Oxide-Semiconductor Field Effect Transistor:Additional Concepts\n",
"//Caption_Narrow channel effects\n",
"//Ex_3//page 520\n",
"Na=3*10^16\n",
"tox=450*10^-8    //oxide thickness\n",
"fi=%pi/2     //fitting parameter\n",
"delVt=0.2\n",
"Cox=7.67*10^-8    //oxide capacitance\n",
"xdt=0.18*10^-4    \n",
"W=10^4*e*Na*(fi*xdt^2)/(Cox*delVt)\n",
"printf('The channel width that will limit the threshold voltage is %1.2f micrometer',W)"
   ]
   }
,
{
		   "cell_type": "markdown",
		   "metadata": {},
		   "source": [
			"## Example 11.4: Breakdown_voltage.sce"
		   ]
		  },
  {
"cell_type": "code",
	   "execution_count": null,
	   "metadata": {
	    "collapsed": true
	   },
	   "outputs": [],
"source": [
"// Chapter 11_ Metal-Oxide-Semiconductor Field Effect Transistor:Additional Concepts\n",
"//Caption_Breakdown voltage\n",
"//Ex_4//page 527\n",
"Nd=10^19    //donor concentration\n",
"Na=10^16    //acceptor concentration\n",
"L=1.2*10^-4     //channel length\n",
"ni=1.5*10^10     //intrinsic carrier concentration\n",
"Vbi=0.0259*log(Na*Nd/ni^2)\n",
"xdo=(2*eps*Vbi/(e*Na))^0.5   //zero biased source-substrate pn junction width\n",
"//xd=(2*eps*(VbiVDS)/(e*Na))^0.5   //reverse biased drain substrate pn junction width\n",
"xd=L-xdo   //at punch through\n",
"VbiVDS=xd^2*e*Na/(2*eps)    //Vbi+VDS\n",
"VDS=VbiVDS-Vbi\n",
"printf('The punch through voltage is %1.1f V',VDS)"
   ]
   }
,
{
		   "cell_type": "markdown",
		   "metadata": {},
		   "source": [
			"## Example 11.5: Lightly_doped_drain_transistor.sce"
		   ]
		  },
  {
"cell_type": "code",
	   "execution_count": null,
	   "metadata": {
	    "collapsed": true
	   },
	   "outputs": [],
"source": [
"// Chapter 11_ Metal-Oxide-Semiconductor Field Effect Transistor:Additional Concepts\n",
"//Caption_Lightly doped drain transistor\n",
"//Ex_5//page 531\n",
"tox=500*10^-8\n",
"VFBO=-1.25     //initial flat band voltage\n",
"e=1.6*10^-19\n",
"eps_ox=3.9*8.85*10^-14\n",
"ni=1.5*10^10     //intrinsic carrier concentration\n",
"VT=0.70\n",
"Na=5*10^15\n",
"phi_fpo=0.0259*log(Na/ni)\n",
"xdto=(4*eps*phi_fpo/(e*Na))^0.5\n",
"Cox=eps_ox/tox\n",
"VTO=VFBO+2*phi_fpo+(e*Na*xdto)/Cox\n",
"x=VT-VTO\n",
"Dt=Cox*x/e    //implant dose\n",
"xt=0.15*10^-4    //depth to which uniform implant extends\n",
"Nsa=Dt/xt\n",
"Ns=Nsa+Na\n",
"printf('The required implant dose to achieve the desired threshold voltage is %1.2f per cm^2',Dt)"
   ]
   }
,
{
		   "cell_type": "markdown",
		   "metadata": {},
		   "source": [
			"## Example 11.6: Radiation_and_hot_electron_effect.sce"
		   ]
		  },
  {
"cell_type": "code",
	   "execution_count": null,
	   "metadata": {
	    "collapsed": true
	   },
	   "outputs": [],
"source": [
"// Chapter 11_ Metal-Oxide-Semiconductor Field Effect Transistor:Additional Concepts\n",
"//Caption_Radition and hot electron effect\n",
"//Ex_6//page 535\n",
"tox=500*10^-8   //oxide thickness\n",
"p=0.2    //20% are trapped at oxide semiconductor surface\n",
"N=10^18    //electron hole pair\n",
"e=1.6*10^-19\n",
"eps_ox=3.9*8.85*10^-14\n",
"ni=1.5*10^10     //intrinsic carrier concentration\n",
"Nh=N*tox    //areal density of holes\n",
"Qss=Nh*p    //trapped surface charge density\n",
"Cox=eps_ox/tox\n",
"delVt=-Qss*e/Cox\n",
"printf('The threshold voltage shift due to radiation induced oxide charge trapping is %1.2f V',delVt)"
   ]
   }
],
"metadata": {
		  "kernelspec": {
		   "display_name": "Scilab",
		   "language": "scilab",
		   "name": "scilab"
		  },
		  "language_info": {
		   "file_extension": ".sce",
		   "help_links": [
			{
			 "text": "MetaKernel Magics",
			 "url": "https://github.com/calysto/metakernel/blob/master/metakernel/magics/README.md"
			}
		   ],
		   "mimetype": "text/x-octave",
		   "name": "scilab",
		   "version": "0.7.1"
		  }
		 },
		 "nbformat": 4,
		 "nbformat_minor": 0
}
