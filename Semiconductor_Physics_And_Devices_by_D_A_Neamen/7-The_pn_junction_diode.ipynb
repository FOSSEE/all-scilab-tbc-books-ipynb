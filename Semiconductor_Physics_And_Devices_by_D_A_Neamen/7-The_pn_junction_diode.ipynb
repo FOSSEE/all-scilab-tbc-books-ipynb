{
"cells": [
 {
		   "cell_type": "markdown",
	   "metadata": {},
	   "source": [
       "# Chapter 7: The pn junction diode"
	   ]
	},
{
		   "cell_type": "markdown",
		   "metadata": {},
		   "source": [
			"## Example 7.1: pn_junction_current.sce"
		   ]
		  },
  {
"cell_type": "code",
	   "execution_count": null,
	   "metadata": {
	    "collapsed": true
	   },
	   "outputs": [],
"source": [
"// Chapter 7_The pn junction Diode\n",
"//Caption_pn Junction current\n",
"//Ex_1//page 252\n",
"T=300   //temperature in kelvin\n",
"ni=1.5*(10^10)    //intrinsic ion concentration\n",
"Nd=10^16\n",
"Vf=0.60       //forward bias voltage\n",
"pno=(ni^2)/Nd\n",
"e=1.6*10^-19\n",
"pn=pno*exp(Vf/0.0259)\n",
"printf('Minority carrier hole concentration is %f cm^-3',pn)"
   ]
   }
,
{
		   "cell_type": "markdown",
		   "metadata": {},
		   "source": [
			"## Example 7.2: pn_junction_current.sce"
		   ]
		  },
  {
"cell_type": "code",
	   "execution_count": null,
	   "metadata": {
	    "collapsed": true
	   },
	   "outputs": [],
"source": [
"// Chapter 7_The pn junction Diode\n",
"//Caption_pn Junction current\n",
"//Ex_2//page 258\n",
"Na=10^16    //acceptor impurity\n",
"Nd=10^16    // donor impurity\n",
"ni=1.5*10^10     //intrinsic concentration\n",
"Dn=25\n",
"Dp=10\n",
"tau_po=5*10^-7\n",
"tau_no=5*10^-7\n",
"epsr=11.7\n",
"Js=e*ni^2*((1/Na*(Dn/tau_no)^0.5)+(1/Nd)*(Dp/tau_po)^0.5)*10^9\n",
"printf('Ideal reverse satureation current density is %f nA/cm',Js)"
   ]
   }
,
{
		   "cell_type": "markdown",
		   "metadata": {},
		   "source": [
			"## Example 7.3: pn_junction_current.sce"
		   ]
		  },
  {
"cell_type": "code",
	   "execution_count": null,
	   "metadata": {
	    "collapsed": true
	   },
	   "outputs": [],
"source": [
"// Chapter 7_The pn junction Diode\n",
"//Caption_pn Junction current\n",
"//Ex_3//page 258\n",
"Jn=20     //electron current density\n",
"Jp=5     //hole current density\n",
"T=300\n",
"Va=0.65\n",
"ni=1.5*10^10     //intrinsic concentration\n",
"Dn=25\n",
"Dp=10\n",
"e=1.6*10^-19\n",
"tau_po=5*10^-7\n",
"tau_no=5*10^-7\n",
"epsr=11.7\n",
"Na=1/(Jn/((e*(Dn/tau_no)^0.5)*(ni^2*(exp(Va/0.0259)-1))))\n",
"Nd=1/(Jp/((e*(Dp/tau_po)^0.5)*(ni^2*(exp(Va/0.0259)-1))))\n",
"printf('The design parameters for this semiconductor are Na=%f cm^-3 and Nd=%f cm^-3',Na,Nd)"
   ]
   }
,
{
		   "cell_type": "markdown",
		   "metadata": {},
		   "source": [
			"## Example 7.4: pn_junction_current.sce"
		   ]
		  },
  {
"cell_type": "code",
	   "execution_count": null,
	   "metadata": {
	    "collapsed": true
	   },
	   "outputs": [],
"source": [
"// Chapter 7_The pn junction Diode\n",
"//Caption_pn Junction current\n",
"//Ex_4//page 261\n",
"T=300\n",
"Va=0.65\n",
"Js=4.15*10^-11\n",
"e=1.6*10^-19\n",
"J=Js*(exp(Va/0.0259)-1)\n",
"mun=1350\n",
"Nd=10^16\n",
"\n",
"E=J/(e*mun*Nd)\n",
"printf('The electric field required to produce a given majority carrier drift is %f V/cm',E)"
   ]
   }
,
{
		   "cell_type": "markdown",
		   "metadata": {},
		   "source": [
			"## Example 7.5: Temperature_effects_on_pn_junction.sce"
		   ]
		  },
  {
"cell_type": "code",
	   "execution_count": null,
	   "metadata": {
	    "collapsed": true
	   },
	   "outputs": [],
"source": [
"// Chapter 7_The pn junction Diode\n",
"//Caption_Temperature effects on pn Junction current\n",
"//Ex_5//page 262\n",
"T2=310\n",
"T1=300\n",
"Eg=1.12    //energy band gap\n",
"Va1=0.60    //forward bias voltage at 300k\n",
"Va2=Eg-((T2/T1)*(Eg-Va1))\n",
"delV=Va2-Va1\n",
"printf('Change in fprward bias voltage on a pn junction with the change in temperature is %f V',delV)"
   ]
   }
,
{
		   "cell_type": "markdown",
		   "metadata": {},
		   "source": [
			"## Example 7.6: small_signal_admittance.sce"
		   ]
		  },
  {
"cell_type": "code",
	   "execution_count": null,
	   "metadata": {
	    "collapsed": true
	   },
	   "outputs": [],
"source": [
"// Chapter 7_The pn junction Diode\n",
"//Caption_Small signal admittance\n",
"//Ex_6//page 272\n",
"T=300\n",
"tau_po=10^-7\n",
"Ipo=0.001\n",
"Idq=0.001\n",
"Cd=10^9*(1/(2*0.0259))*(Ipo*tau_po)\n",
"rd=0.0259/(Idq)      //diffusion resistance\n",
"printf('Diffusion capacitance is %1.2f nF and diffusion resistance is %1.2f ohm',Cd,rd)"
   ]
   }
,
{
		   "cell_type": "markdown",
		   "metadata": {},
		   "source": [
			"## Example 7.7: Generation_recombination_currents.sce"
		   ]
		  },
  {
"cell_type": "code",
	   "execution_count": null,
	   "metadata": {
	    "collapsed": true
	   },
	   "outputs": [],
"source": [
"// Chapter 7_The pn junction Diode\n",
"//Caption_Generation Recombination currents\n",
"//Ex_7//page 277\n",
"T=300\n",
"tau_o=5*10^-7\n",
"tau_po=5*10^-7\n",
"tau_no=5*10^-7\n",
"Na=10^16    //acceptor impurity\n",
"Nd=10^16    // donor impurity\n",
"ni=1.5*10^10     //intrinsic concentration\n",
"epsr=11.7\n",
"eps=epsr*8.85*10^-14\n",
"V=5     //V=Vbi+VR\n",
"e=1.6*10^-19\n",
"W=((2*eps/e)*((Na+Nd)/(Na*Nd))*(V))^0.5\n",
"Jgen=e*ni*10^9*W/(2*tau_o)\n",
"printf('The ideal reverse saturation current density was calculated in example 2 and it was 4.15810^-11 A/cm^2 and the generation current density calculated here is %f nA/cm^2',Jgen)"
   ]
   }
],
"metadata": {
		  "kernelspec": {
		   "display_name": "Scilab",
		   "language": "scilab",
		   "name": "scilab"
		  },
		  "language_info": {
		   "file_extension": ".sce",
		   "help_links": [
			{
			 "text": "MetaKernel Magics",
			 "url": "https://github.com/calysto/metakernel/blob/master/metakernel/magics/README.md"
			}
		   ],
		   "mimetype": "text/x-octave",
		   "name": "scilab",
		   "version": "0.7.1"
		  }
		 },
		 "nbformat": 4,
		 "nbformat_minor": 0
}
