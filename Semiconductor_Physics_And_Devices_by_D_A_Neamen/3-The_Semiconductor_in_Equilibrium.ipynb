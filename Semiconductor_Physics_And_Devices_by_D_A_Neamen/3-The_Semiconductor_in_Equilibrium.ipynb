{
"cells": [
 {
		   "cell_type": "markdown",
	   "metadata": {},
	   "source": [
       "# Chapter 3: The Semiconductor in Equilibrium"
	   ]
	},
{
		   "cell_type": "markdown",
		   "metadata": {},
		   "source": [
			"## Example 3.10: Charge_Neutrality.sce"
		   ]
		  },
  {
"cell_type": "code",
	   "execution_count": null,
	   "metadata": {
	    "collapsed": true
	   },
	   "outputs": [],
"source": [
"// Chapter 3_The Semiconductor in Equilibrium\n",
"//Caption_Charge Neutrality\n",
"//Ex_10//page 114\n",
"T=300    //temperature in kelvin\n",
"Nd=5*(10^13)\n",
"Na=0\n",
"ni=2.4*(10^13)\n",
"no=((Nd-Na)/2)+(((Nd-Na)/2)^2+ni^2)^0.5\n",
"po=ni^2/no;\n",
"printf('The majority carrier electron concentration is %fd per cm cube while the minority carrier hole concentration is %fd per cm cube',no,po)"
   ]
   }
,
{
		   "cell_type": "markdown",
		   "metadata": {},
		   "source": [
			"## Example 3.11: Charge_Neutrality.sce"
		   ]
		  },
  {
"cell_type": "code",
	   "execution_count": null,
	   "metadata": {
	    "collapsed": true
	   },
	   "outputs": [],
"source": [
"// Chapter 3_The Semiconductor in Equilibrium\n",
"//Caption_Charge Neutrality\n",
"//Ex_11//page 115\n",
"T=300    //temperature in kelvin\n",
"Na=10^16   //donor concentration per cm cube\n",
"Nd=3*(10^15)\n",
"ni=1.5*(10^10)  //intrinsic carrier concentration\n",
"po=((Na-Nd)/2)+(((Na-Nd)/2)^2+ni^2)^0.5\n",
"no=ni^2/po;\n",
"printf('The minority carrier electron concentration is %fd per cm cube while the majority carrier hole concentration is %fd per cm cube',no,po)"
   ]
   }
,
{
		   "cell_type": "markdown",
		   "metadata": {},
		   "source": [
			"## Example 3.12: Charge_Neutrality.sce"
		   ]
		  },
  {
"cell_type": "code",
	   "execution_count": null,
	   "metadata": {
	    "collapsed": true
	   },
	   "outputs": [],
"source": [
"// Chapter 3_The Semiconductor in Equilibrium\n",
"//Caption_Charge Neutrality\n",
"//Ex_12//page 116\n",
"T=550   //temperature in kelvin\n",
"Nc=2.8*(10^19)\n",
"Nv=1.04*(10^19)\n",
"Eg=1.12   // band gap energy in eV\n",
"ni=(Nc*Nv*(T/300)^3*exp(-Eg/0.0259 *(300/T)))^0.5\n",
"//no=1.05*Nd  since the intrinsic carrier concentration to contribute no more than 5 percent of the total electron concentration .\n",
"Nd=(ni^2/(1.05-1))^0.5\n",
"printf('The required impurity doping concentration is %fd per cm cube',Nd)"
   ]
   }
,
{
		   "cell_type": "markdown",
		   "metadata": {},
		   "source": [
			"## Example 3.13: Position_of_Fermi_Energy_level.sce"
		   ]
		  },
  {
"cell_type": "code",
	   "execution_count": null,
	   "metadata": {
	    "collapsed": true
	   },
	   "outputs": [],
"source": [
"// Chapter 3_The Semiconductor in Equilibrium\n",
"//Caption_Position of Fermi Energy level\n",
"//Ex_13//page 116\n",
"T=300    //temperature in kelvin\n",
"Na=10^16   // acceptor carrier impurity in per cm cube\n",
"Ef=0.20   //Fermi energy is Ef eV below the conduction band edge\n",
"Nc=2.8*(10^19)\n",
"Nd=Na+(Nc*exp(-Ef/0.0259))\n",
"printf('The require donor impurity concentration is %fd per cm cube',Nd)"
   ]
   }
,
{
		   "cell_type": "markdown",
		   "metadata": {},
		   "source": [
			"## Example 3.14: Position_of_Fermi_Energy_level.sce"
		   ]
		  },
  {
"cell_type": "code",
	   "execution_count": null,
	   "metadata": {
	    "collapsed": true
	   },
	   "outputs": [],
"source": [
"// Chapter 3_The Semiconductor in Equilibrium\n",
"//Caption_Position of Fermi Energy level\n",
"//Ex_14//page 121\n",
"T=300   //temperature in kelvin\n",
"kT=0.0259\n",
"ni=1.5*(10^10)  //intrinsic carrier concentration\n",
"Efa=3*kT    //Ef-Ea=3kT\n",
"Eav=0.045\n",
"Efif=Eg/2-(Eav)-(Efa)    //The position of fermi level at the maximum doping\n",
"Na=exp(Efif/kT)*ni\n",
"printf('Maximum doping is %fd per cm cube',Na)"
   ]
   }
,
{
		   "cell_type": "markdown",
		   "metadata": {},
		   "source": [
			"## Example 3.1: Equilibrium_Distribution_of_Electrons_and_holes.sce"
		   ]
		  },
  {
"cell_type": "code",
	   "execution_count": null,
	   "metadata": {
	    "collapsed": true
	   },
	   "outputs": [],
"source": [
"// Chapter 3_The Semiconductor in Equilibrium\n",
"//Caption_Equilibrium Distribution of Electrons and holes\n",
"//Ex_1//page 85\n",
"T=300      // Temperatire in kelvin\n",
"Nc=2.8*(10^19)     //Effective density of states function in the conduction band in per cm cube\n",
"delE=0.25     //Fermi energy is 0.25eV below the conduction band\n",
"k=1.389*(10^-23)     //Boltzmann constant\n",
"kT=0.0259\n",
"fF=%e^(-delE/(kT))\n",
"no=Nc*fF\n",
"printf('The thermal equilibrium electron concentration in siliconn is %1.2fd per cm^3',no)"
   ]
   }
,
{
		   "cell_type": "markdown",
		   "metadata": {},
		   "source": [
			"## Example 3.2: Equilibrium_Distribution_of_Electrons_and_holes.sce"
		   ]
		  },
  {
"cell_type": "code",
	   "execution_count": null,
	   "metadata": {
	    "collapsed": true
	   },
	   "outputs": [],
"source": [
"// Chapter 3_The Semiconductor in Equilibrium\n",
"//Caption_Equilibrium Distribution of Electrons and holes\n",
"//Ex_2//page 87\n",
"T=400;\n",
"N=1.04*(10^19)\n",
"kT=0.0259*(T/300);\n",
"Nv=N*(T/300)^(1.5)\n",
"po=Nv*(%e^(-0.27/kT))\n",
"printf('The thermal equilibrium hole concentration in silicon at T=400K ==%fd per cm^3 \n',po)"
   ]
   }
,
{
		   "cell_type": "markdown",
		   "metadata": {},
		   "source": [
			"## Example 3.3: Intrinsic_carrier_concentration.sce"
		   ]
		  },
  {
"cell_type": "code",
	   "execution_count": null,
	   "metadata": {
	    "collapsed": true
	   },
	   "outputs": [],
"source": [
"// Chapter 3_The Semiconductor in Equilibrium\n",
"//Caption_Intrinsic carrier concentration\n",
"//Ex_3//page 90\n",
"T1=300;    //Given temperature in kelvin\n",
"T2=450;\n",
"Nc1=4.7*(10^17)  //effective density of state function in cm^-3\n",
"Nv1=7*(10^18)\n",
"Eg=1.42      //bandgap energy in eV\n",
"kT=0.0259*(T2/T1);\n",
"ni1=(Nc1*Nv1*exp((-Eg)/0.0259))^0.5\n",
"ni2=(Nc1*Nv1*(T2/T1)^3*exp(-Eg/kT))^0.5\n",
"printf('The intrinsic carrier concentration in gallium arsenide at T=300k is %fd per cm cube and at 450k is %fd //cm^3 ', ni1, ni2)\n",
""
   ]
   }
,
{
		   "cell_type": "markdown",
		   "metadata": {},
		   "source": [
			"## Example 3.4: Intrinsic_fermi_level_position.sce"
		   ]
		  },
  {
"cell_type": "code",
	   "execution_count": null,
	   "metadata": {
	    "collapsed": true
	   },
	   "outputs": [],
"source": [
"// Chapter 3_The Semiconductor in Equilibrium\n",
"//Caption_Intrinsic fermi level position\n",
"//Ex_4//page 92\n",
"T=300;    //temperature in kelvin\n",
"mnr =1.08    //relative effective mass of negative charge carrier\n",
"mpr=0.56     //relative effective mass of positive charge carrier\n",
"kT=0.0259\n",
"Efm=(3/4)*kT*log(mpr/mnr)     //The intrinsic fermi level with respect to the center of bandgap\n",
"EfmF=-(Efm)*1000\n",
"printf('The intrinsic feremi level in silicon is %1.1fd meV below the midgap energy',EfmF)"
   ]
   }
,
{
		   "cell_type": "markdown",
		   "metadata": {},
		   "source": [
			"## Example 3.5: Extrinsic_Semiconductor.sce"
		   ]
		  },
  {
"cell_type": "code",
	   "execution_count": null,
	   "metadata": {
	    "collapsed": true
	   },
	   "outputs": [],
"source": [
"// Chapter 3_The Semiconductor in Equilibrium\n",
"//Caption_Extrinsic Semiconductor\n",
"//Ex_5//page 101\n",
"T=300    //temperature in kelvin\n",
"Nc=2.8*(10^19);\n",
"Nv=1.04*(10^19);    //\n",
"Fe=0.25    //Fermi energy is FeeV below the conduction band\n",
"Eg=1.12    // Bandgap energy of silicon is Eg in eV\n",
"no=Nc*exp(-Fe/0.0259);\n",
"po=Nv*exp(-(Eg-Fe)/0.0259);\n",
"printf('Thermal equilibrium concentration of electrons is %1.2fd cm ^-3 and of holes is %1.2fd cm^-3 ',no,po)"
   ]
   }
,
{
		   "cell_type": "markdown",
		   "metadata": {},
		   "source": [
			"## Example 3.6: Extrinsic_Semiconductor.sce"
		   ]
		  },
  {
"cell_type": "code",
	   "execution_count": null,
	   "metadata": {
	    "collapsed": true
	   },
	   "outputs": [],
"source": [
"// Chapter 3_The Semiconductor in Equilibrium\n",
"//Caption_Extrinsic Semiconductor\n",
"//Ex_6//page 104\n",
"nf=2    //nf=(Ef-Ec)/kT\n",
"Fe=52   //Fermi energy is above the conduction band by Fe meV\n",
"T=300;\n",
"Nc=2.8*(10^19);\n",
"F(nf)=2.3 // Value of fermi dirac integral from the graph\n",
"no=(2/((%pi)^0.5))*Nc*F(nf)\n",
"printf('Electron concentration using fermi dirac integral is %fd per cm cube ',no)"
   ]
   }
,
{
		   "cell_type": "markdown",
		   "metadata": {},
		   "source": [
			"## Example 3.7: Statistics_of_acceptors_and_donors.sce"
		   ]
		  },
  {
"cell_type": "code",
	   "execution_count": null,
	   "metadata": {
	    "collapsed": true
	   },
	   "outputs": [],
"source": [
"// Chapter 3_The Semiconductor in Equilibrium\n",
"//Caption_Statistics of acceptors and donors\n",
"//Ex_7//page 108\n",
"T=300;\n",
"Nd=10^16    // donor concentration per cm cube\n",
"kT=0.0259\n",
"Ecd=0.045   //Ec-Ed\n",
"Nc=2.8*(10^19);\n",
"x=1/(1+(Nc/(2*Nd))*exp(-(Ecd)/kT))\n",
"printf('Fraction of total electrons still in the donor state is %fd ',x)"
   ]
   }
,
{
		   "cell_type": "markdown",
		   "metadata": {},
		   "source": [
			"## Example 3.8: Statistics_of_acceptors_and_donors.sce"
		   ]
		  },
  {
"cell_type": "code",
	   "execution_count": null,
	   "metadata": {
	    "collapsed": true
	   },
	   "outputs": [],
"source": [
"// Chapter 3_The Semiconductor in Equilibrium\n",
"//Caption_Statistics of acceptors and donors\n",
"//Ex_8//page 110\n",
"Na=10^16   //Acceptor concentration\n",
"kT=0.0259\n",
"Nv=1.04*(10^19); \n",
"Eav=0.045\n",
"x=0.1   //90%of acceptor atoms are ionized\n",
"y=(((1/x)-1)*4*Na/Nv);\n",
"//(T/300)^1.5*exp(-Eav/kT*(T/300))=y\n",
"//By trial and error\n",
"printf('Required temperature is 193 K')"
   ]
   }
,
{
		   "cell_type": "markdown",
		   "metadata": {},
		   "source": [
			"## Example 3.9: Charge_Neutrality.sce"
		   ]
		  },
  {
"cell_type": "code",
	   "execution_count": null,
	   "metadata": {
	    "collapsed": true
	   },
	   "outputs": [],
"source": [
"// Chapter 3_The Semiconductor in Equilibrium\n",
"//Caption_Charge Neutrality\n",
"//Ex_9//page 112\n",
"T=300    //temperature in kelvin\n",
"Nd=10^16   //donor concentration per cm cube\n",
"Na=0\n",
"ni=1.5*(10^10)  //intrinsic carrier concentration\n",
"no=((Nd-Na)/2)+(((Nd-Na)/2)^2+ni^2)^0.5\n",
"po=ni^2/no;\n",
"printf('The majority carrier electron concentration is %fd per cm cube while the minority carrier hole concentration is %fd per cm cube',no,po)"
   ]
   }
],
"metadata": {
		  "kernelspec": {
		   "display_name": "Scilab",
		   "language": "scilab",
		   "name": "scilab"
		  },
		  "language_info": {
		   "file_extension": ".sce",
		   "help_links": [
			{
			 "text": "MetaKernel Magics",
			 "url": "https://github.com/calysto/metakernel/blob/master/metakernel/magics/README.md"
			}
		   ],
		   "mimetype": "text/x-octave",
		   "name": "scilab",
		   "version": "0.7.1"
		  }
		 },
		 "nbformat": 4,
		 "nbformat_minor": 0
}
