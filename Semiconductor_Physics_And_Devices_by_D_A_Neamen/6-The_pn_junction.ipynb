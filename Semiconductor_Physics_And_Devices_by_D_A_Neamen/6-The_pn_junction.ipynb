{
"cells": [
 {
		   "cell_type": "markdown",
	   "metadata": {},
	   "source": [
       "# Chapter 6: The pn junction"
	   ]
	},
{
		   "cell_type": "markdown",
		   "metadata": {},
		   "source": [
			"## Example 6.1: Zero_applied_bias.sce"
		   ]
		  },
  {
"cell_type": "code",
	   "execution_count": null,
	   "metadata": {
	    "collapsed": true
	   },
	   "outputs": [],
"source": [
"// Chapter 6_The pn junction\n",
"//Caption_Zero applied bias\n",
"//Ex_1//page 220\n",
"Na=10^18    //acceptor ion concentration\n",
"T=300   //temperature in kelvin\n",
"Nd=10^15\n",
"ni=1.5*(10^10)   //intrinsic ion concentration\n",
"Vbi=(0.0259)*log(Na*Nd/(ni^2))\n",
"printf('The built in potential barrier is %1.3f V',Vbi)"
   ]
   }
,
{
		   "cell_type": "markdown",
		   "metadata": {},
		   "source": [
			"## Example 6.2: Space_charge_width.sce"
		   ]
		  },
  {
"cell_type": "code",
	   "execution_count": null,
	   "metadata": {
	    "collapsed": true
	   },
	   "outputs": [],
"source": [
"// Chapter 6_The pn junction\n",
"//Caption_Space charge width\n",
"//Ex_2//page 224\n",
"T=300\n",
"Na=10^16     //acceptor ion concentration\n",
"Nd=10^15     //donor ion concentration\n",
"eps=11.7*8.85*(10^-14)\n",
"e=1.6*(10^-19)\n",
"Vbi=0.635     //built in potential barrier\n",
"W=(2*eps*Vbi/e*(Na+Nd)/(Na*Nd))^0.5\n",
"Emax=-e*Nd*W/eps\n",
"printf('The space charge width is %f cm and the electric field is %f V/cm',W,Emax)"
   ]
   }
,
{
		   "cell_type": "markdown",
		   "metadata": {},
		   "source": [
			"## Example 6.3: Space_charge_width.sce"
		   ]
		  },
  {
"cell_type": "code",
	   "execution_count": null,
	   "metadata": {
	    "collapsed": true
	   },
	   "outputs": [],
"source": [
"// Chapter 6_The pn junction\n",
"//Caption_Space charge width\n",
"//Ex_3//page 227\n",
"Na=10^16   //acceptor ion concentration\n",
"T=300   //temperature in kelvin\n",
"Nd=10^15\n",
"ni=1.5*(10^10)   //intrinsic ion concentration\n",
"Vr=5    //Reverse applied voltage\n",
"Vbi=0.635\n",
"V=Vr+Vbi\n",
"W=(2*eps*V/e*(Na+Nd)/(Na*Nd))^0.5\n",
"printf('The space charge width is %f cm ',W)"
   ]
   }
,
{
		   "cell_type": "markdown",
		   "metadata": {},
		   "source": [
			"## Example 6.4: Space_charge_width.sce"
		   ]
		  },
  {
"cell_type": "code",
	   "execution_count": null,
	   "metadata": {
	    "collapsed": true
	   },
	   "outputs": [],
"source": [
"// Chapter 6_The pn junction\n",
"//Caption_Space charge width\n",
"//Ex_4//page 228\n",
"T=300\n",
"Na=10^18    //acceptor ion concentration\n",
"Emax=3*10^5   //Max electric field\n",
"Vr=25   //Reverse bias voltage\n",
"eps=11.7*8.85*(10^-14)\n",
"e=1.6*(10^-19)\n",
"x=eps*(Emax^2)/(2*e*Vr);\n",
"Nd=Na*x/(Na-x)\n",
"printf('The ntype doping concentration such that the maximum electric field is obtained is %f /cm^3',Nd)"
   ]
   }
,
{
		   "cell_type": "markdown",
		   "metadata": {},
		   "source": [
			"## Example 6.5: Junction_capacitance.sce"
		   ]
		  },
  {
"cell_type": "code",
	   "execution_count": null,
	   "metadata": {
	    "collapsed": true
	   },
	   "outputs": [],
"source": [
"// Chapter 6_The pn junction\n",
"//Caption_Junction capacitance\n",
"//Ex_5//page 230\n",
"Na=10^16   //acceptor ion concentration\n",
"T=300   //temperature in kelvin\n",
"Nd=10^15\n",
"ni=1.5*(10^10)   //intrinsic ion concentration\n",
"Vr=5    //Reverse applied voltage\n",
"Vbi=0.635\n",
"V=Vr+Vbi\n",
"C=(e*eps*Na*Nd/(2*(V)*(Na+Nd)))^0.5\n",
"A=10^-4   //Area of the pn junction\n",
"Ca=A*C*10^12\n",
"printf('The junction capacitance for the given semiconductor is %1.3f pF',Ca)"
   ]
   }
,
{
		   "cell_type": "markdown",
		   "metadata": {},
		   "source": [
			"## Example 6.6: Junction_capacitance.sce"
		   ]
		  },
  {
"cell_type": "code",
	   "execution_count": null,
	   "metadata": {
	    "collapsed": true
	   },
	   "outputs": [],
"source": [
"// Chapter 6_The pn junction\n",
"//Caption_Junction capacitance\n",
"//Ex_6//page 232\n",
"T=300   //temperature in kelvin\n",
"S=1.32*10^15    //slope of the curve between Vr and (1/c)^2\n",
"ni=1.5*(10^10) \n",
"Vbi=0.855     //Built in potential barrier\n",
"eps=11.7*8.85*(10^-14)\n",
"e=1.6*(10^-19)\n",
"Nd=2/(e*eps*S)\n",
"Na=((ni^2)/Nd)*exp(Vbi/0.0259)\n",
"printf('The impurity doping concentration in p+n junction is -acceptor %f cm^-3 and donor %f cm^-3',Na,Nd)"
   ]
   }
],
"metadata": {
		  "kernelspec": {
		   "display_name": "Scilab",
		   "language": "scilab",
		   "name": "scilab"
		  },
		  "language_info": {
		   "file_extension": ".sce",
		   "help_links": [
			{
			 "text": "MetaKernel Magics",
			 "url": "https://github.com/calysto/metakernel/blob/master/metakernel/magics/README.md"
			}
		   ],
		   "mimetype": "text/x-octave",
		   "name": "scilab",
		   "version": "0.7.1"
		  }
		 },
		 "nbformat": 4,
		 "nbformat_minor": 0
}
