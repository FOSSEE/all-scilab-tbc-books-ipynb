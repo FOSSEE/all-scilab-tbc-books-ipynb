{
"cells": [
 {
		   "cell_type": "markdown",
	   "metadata": {},
	   "source": [
       "# Chapter 5: Non Equilibrium excess careers in semiconductors"
	   ]
	},
{
		   "cell_type": "markdown",
		   "metadata": {},
		   "source": [
			"## Example 5.10: Surface_effects.sce"
		   ]
		  },
  {
"cell_type": "code",
	   "execution_count": null,
	   "metadata": {
	    "collapsed": true
	   },
	   "outputs": [],
"source": [
"// Chapter 5_Non equilibrium excess carriers in semiconductors\n",
"//Caption_Surface effects\n",
"//Ex_10//page 206\n",
"gtaupo=10^14\n",
"Dp=10\n",
"Lp=31.6*(10^-4)\n",
"delpo=10^13\n",
"s=(Dp/Lp)*((gtaupo/delpo)-1)\n",
"printf('Surface recombination velocity is %1.2fd cm/s',s)"
   ]
   }
,
{
		   "cell_type": "markdown",
		   "metadata": {},
		   "source": [
			"## Example 5.5: Relaxation_time.sce"
		   ]
		  },
  {
"cell_type": "code",
	   "execution_count": null,
	   "metadata": {
	    "collapsed": true
	   },
	   "outputs": [],
"source": [
"// Chapter 5_Non equilibrium excess carriers in semiconductors\n",
"//Caption_Relaxation time\n",
"//Ex_5//page 190\n",
"Nd=10^16    //donor concentration\n",
"e=1.6*(10^-19)   //electronic charge\n",
"mun=1200   //mobility\n",
"sig=e*mun*Nd\n",
"epsR=11.7  //dielectric constant for silicon\n",
"epso=8.85*(10^-14)\n",
"eps=epso*epsR     //permitivity of silicon\n",
"taud=eps/sig     //dielectric relaxation time constant\n",
"tau=taud*10^12\n",
"printf('The dielectric relaxation time constant for this semiconductor is %1.2f ps',tau)"
   ]
   }
,
{
		   "cell_type": "markdown",
		   "metadata": {},
		   "source": [
			"## Example 5.6: Quasi_Energy_Fermi_levels.sce"
		   ]
		  },
  {
"cell_type": "code",
	   "execution_count": null,
	   "metadata": {
	    "collapsed": true
	   },
	   "outputs": [],
"source": [
"// Chapter 5_Non equilibrium excess carriers in semiconductors\n",
"//Caption_Quasi Energy Fermi Levels\n",
"//Ex_6//page 194\n",
"T=300    //temperature in kelvin\n",
"no=10^15   //carrier concentration\n",
"ni=10^10   //intrinsic concentration\n",
"po=10^5    \n",
"deln=10^13   //excess carrier concentration\n",
"delp=10^13 \n",
"EfFi=0.0259*log(no/ni)    //fermi level for thermal equilibrium\n",
"EfnEfi=0.0259*log((no+deln)/ni)\n",
"EfiEfp=0.0259*log((po+delp)/ni)\n",
"printf('Quasi fermi level for electrons in non equilibrium is %1.4f eV and for hholes is %1.3f eV ',EfnEfi,EfiEfp)"
   ]
   }
],
"metadata": {
		  "kernelspec": {
		   "display_name": "Scilab",
		   "language": "scilab",
		   "name": "scilab"
		  },
		  "language_info": {
		   "file_extension": ".sce",
		   "help_links": [
			{
			 "text": "MetaKernel Magics",
			 "url": "https://github.com/calysto/metakernel/blob/master/metakernel/magics/README.md"
			}
		   ],
		   "mimetype": "text/x-octave",
		   "name": "scilab",
		   "version": "0.7.1"
		  }
		 },
		 "nbformat": 4,
		 "nbformat_minor": 0
}
