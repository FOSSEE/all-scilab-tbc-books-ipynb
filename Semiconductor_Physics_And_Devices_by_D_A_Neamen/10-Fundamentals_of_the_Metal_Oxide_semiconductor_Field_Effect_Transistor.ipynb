{
"cells": [
 {
		   "cell_type": "markdown",
	   "metadata": {},
	   "source": [
       "# Chapter 10: Fundamentals of the Metal Oxide semiconductor Field Effect Transistor"
	   ]
	},
{
		   "cell_type": "markdown",
		   "metadata": {},
		   "source": [
			"## Example 10.10: Substrate_bias_effects.sce"
		   ]
		  },
  {
"cell_type": "code",
	   "execution_count": null,
	   "metadata": {
	    "collapsed": true
	   },
	   "outputs": [],
"source": [
"// Chapter 10_Fundamentals of the Metal Oxide Semiconductor Field Effect Transistor\n",
"//Caption_Substrate bias effects\n",
"//Ex_10//page 478\n",
"T=300\n",
"Na=3*10^16\n",
"tox=500*10^-8\n",
"VSB=1\n",
"ni=1.5*10^10     //intrinsic carrier concentration\n",
"phi_fp=0.0259*log(Na/ni)\n",
"eps_ox=3.9*8.85*10^-14\n",
"Cox=eps_ox/tox\n",
"delVT=(2*e*eps*Na)^0.5*((2*phi_fp+VSB)^0.5-(2*phi_fp)^0.5)/Cox\n",
"printf('The change in threshold voltage is %1.2fV',delVT)"
   ]
   }
,
{
		   "cell_type": "markdown",
		   "metadata": {},
		   "source": [
			"## Example 10.11: Cut_off_frequency.sce"
		   ]
		  },
  {
"cell_type": "code",
	   "execution_count": null,
	   "metadata": {
	    "collapsed": true
	   },
	   "outputs": [],
"source": [
"// Chapter 10_Fundamentals of the Metal Oxide Semiconductor Field Effect Transistor\n",
"//Caption_Cut off frequency\n",
"//Ex_11//page 484\n",
"mun=400     //mobility\n",
"L=4*10^-4\n",
"VT=1\n",
"VGS=3\n",
"fT=mun*(VGS-VT)/(2*%pi*L^2)*10^-6\n",
"printf('The cut off frequency of this MOSFET  with constant mobility is %1.0f MHz',fT)"
   ]
   }
,
{
		   "cell_type": "markdown",
		   "metadata": {},
		   "source": [
			"## Example 10.1: The_two_terminal_MOS_structure.sce"
		   ]
		  },
  {
"cell_type": "code",
	   "execution_count": null,
	   "metadata": {
	    "collapsed": true
	   },
	   "outputs": [],
"source": [
"// Chapter 10_Fundamentals of the Metal Oxide Semiconductor Field Effect Transistor\n",
"//Caption_The two terminal MOS structure\n",
"//Ex_1//page 434\n",
"Na=10^16\n",
"T=300\n",
"eps=11.7*8.85*10^-14\n",
"e=1.6*10^-19\n",
"ni=1.5*10^10     //intrinsic carrier concentration\n",
"phi_fp=0.0259*log(Na/ni)\n",
"xdT=10^4*(4*eps*phi_fp/(e*Na))^0.5\n",
"printf('The maximum space charge width is %1.2f micrometer',xdT)"
   ]
   }
,
{
		   "cell_type": "markdown",
		   "metadata": {},
		   "source": [
			"## Example 10.2: Work_function.sce"
		   ]
		  },
  {
"cell_type": "code",
	   "execution_count": null,
	   "metadata": {
	    "collapsed": true
	   },
	   "outputs": [],
"source": [
"// Chapter 10_Fundamentals of the Metal Oxide Semiconductor Field Effect Transistor\n",
"//Caption_Work function\n",
"//Ex_2//page 437\n",
"phi_m=3.2    //work function for Al-Si junction\n",
"xi=3.25    //oxide electron affinity\n",
"Eg=1.11\n",
"ni=1.5*10^10     //intrinsic carrier concentration\n",
"Na=10^14\n",
"phi_fp=0.0259*log(Na/ni)\n",
"phi_ms=phi_m-(xi+Eg/(2)+phi_fp)\n",
"printf('Metal semiconductor work function difference is %1.2f V',phi_ms)"
   ]
   }
,
{
		   "cell_type": "markdown",
		   "metadata": {},
		   "source": [
			"## Example 10.3: Flat_band_voltage.sce"
		   ]
		  },
  {
"cell_type": "code",
	   "execution_count": null,
	   "metadata": {
	    "collapsed": true
	   },
	   "outputs": [],
"source": [
"// Chapter 10_Fundamentals of the Metal Oxide Semiconductor Field Effect Transistor\n",
"//Caption_Flat band voltage\n",
"//Ex_3//page 442\n",
"Na=10^16\n",
"tox=500*10^-8     //oxide thickness\n",
"Qss=10^11      //trapped charge per unit area\n",
"e=1.6*10^-19\n",
"eps_ox=3.9*8.85*10^-14\n",
"Cox=eps_ox/tox\n",
"QSS=Qss*e\n",
"phi_ms=-1.1\n",
"Vfb=phi_ms-(QSS/Cox)\n",
"printf('Flat band voltage for this MOS capacitor is %1.2f V',Vfb)"
   ]
   }
,
{
		   "cell_type": "markdown",
		   "metadata": {},
		   "source": [
			"## Example 10.4: Flat_band_voltage.sce"
		   ]
		  },
  {
"cell_type": "code",
	   "execution_count": null,
	   "metadata": {
	    "collapsed": true
	   },
	   "outputs": [],
"source": [
"// Chapter 10_Fundamentals of the Metal Oxide Semiconductor Field Effect Transistor\n",
"//Caption_Flat band voltage\n",
"//Ex_4//page 445\n",
"Na=3*10^16\n",
"eps=11.7*8.85*10^-14\n",
"eps_ox=3.9*8.85*10^-14\n",
"e=1.6*10^-19\n",
"Qss=10^11\n",
"Vtn=0.65\n",
"ni=1.5*10^10     //intrinsic carrier concentration\n",
"phi_ms=-1.13\n",
"phi_fp=0.0259*log(Na/ni)\n",
"xdt=(4*eps*phi_fp/(e*Na))^0.5\n",
"QSD=e*Na*xdt\n",
"x=Vtn-phi_ms-2*phi_fp\n",
"y=(QSD-Qss*e)/eps_ox\n",
"z=x/y*10^8\n",
"printf('The oxide thickness of this MOS system is %1.0f angstorm',z)"
   ]
   }
,
{
		   "cell_type": "markdown",
		   "metadata": {},
		   "source": [
			"## Example 10.5: Threshold_voltage.sce"
		   ]
		  },
  {
"cell_type": "code",
	   "execution_count": null,
	   "metadata": {
	    "collapsed": true
	   },
	   "outputs": [],
"source": [
"// Chapter 10_Fundamentals of the Metal Oxide Semiconductor Field Effect Transistor\n",
"//Caption_Threshold voltage voltage\n",
"//Ex_5//page 446\n",
"T=300\n",
"eps=11.7*8.85*10^-14\n",
"eps_ox=3.9*8.85*10^-14\n",
"e=1.6*10^-19\n",
"ni=1.5*10^10     //intrinsic carrier concentration\n",
"Na=10^14   //acceptor impurity concentration\n",
"Qss=10^10\n",
"tox=500*10^-8     //oxide thickness\n",
"phi_ms=-0.83\n",
"phi_fp=0.0259*log(Na/ni)\n",
"xdt=(4*eps*phi_fp/(e*Na))^0.5\n",
"QSD_MAX=e*Na*xdt;\n",
"Vtn=(QSD_MAX-Qss*e)*(tox/eps_ox)+phi_ms+2*phi_fp\n",
"printf('The threshold voltage of this MOS system is %1.3f V',Vtn)"
   ]
   }
,
{
		   "cell_type": "markdown",
		   "metadata": {},
		   "source": [
			"## Example 10.6: Threshold_voltage.sce"
		   ]
		  },
  {
"cell_type": "code",
	   "execution_count": null,
	   "metadata": {
	    "collapsed": true
	   },
	   "outputs": [],
"source": [
"// Chapter 10_Fundamentals of the Metal Oxide Semiconductor Field Effect Transistor\n",
"//Caption_Threshold voltage voltage\n",
"//Ex_6//page 448\n",
"tox=650*10^-8\n",
"eps=11.7*8.85*10^-14\n",
"eps_ox=3.9*8.85*10^-14\n",
"Qss=10^10\n",
"Vtp=-1\n",
"Nd=2.5*10^14\n",
"ni=1.5*10^10     //intrinsic carrier concentration\n",
"phi_tn=0.0259*log(Nd/ni)\n",
"xdt=(4*eps*phi_tn/(e*Nd))^0.5\n",
"QSD_MAX=e*Nd*xdt;\n",
"phi_ms=-0.35\n",
"Vtp2=(-QSD_MAX-Qss*e)*(tox/eps_ox)+phi_ms-2*phi_tn\n",
"q=abs(Vtp2)==Vtp\n",
"printf('Since Vtp2=Vtp, it is essentially equal to the desired result')"
   ]
   }
,
{
		   "cell_type": "markdown",
		   "metadata": {},
		   "source": [
			"## Example 10.7: Capacitance_Voltage_characteristics.sce"
		   ]
		  },
  {
"cell_type": "code",
	   "execution_count": null,
	   "metadata": {
	    "collapsed": true
	   },
	   "outputs": [],
"source": [
"// Chapter 10_Fundamentals of the Metal Oxide Semiconductor Field Effect Transistor\n",
"//Caption_Capacitance Voltage characteristics\n",
"//Ex_7//page 455\n",
"Na=10^16\n",
"tox=550*10^-8     //oxide thickness\n",
"eps=11.7*8.85*10^-14\n",
"eps_ox=3.9*8.85*10^-14\n",
"Cox=eps_ox/tox*10^9\n",
"ni=1.5*10^10     //intrinsic carrier concentration\n",
"phi_fp=0.0259*log(Na/ni)\n",
"xdt=(4*eps*phi_fp/(e*Na))^0.5\n",
"Cmin=eps_ox/(tox+(eps_ox/eps)*xdt)*10^9\n",
"r=Cmin/Cox\n",
"CFB=eps_ox/(tox+(eps_ox/eps)*(0.0259*eps/(e*Na))^0.5) *10^9   //flat band capacitance\n",
"r2=CFB/Cox\n",
"printf('The value of oxide capacitance, minimum capacitance and flat band capacitance are %1.2f nF, %1.2f nF and %1.2f nF respectively',Cox,Cmin,CFB)\n",
" "
   ]
   }
,
{
		   "cell_type": "markdown",
		   "metadata": {},
		   "source": [
			"## Example 10.8: Current_voltage_relationship.sce"
		   ]
		  },
  {
"cell_type": "code",
	   "execution_count": null,
	   "metadata": {
	    "collapsed": true
	   },
	   "outputs": [],
"source": [
"// Chapter 10_Fundamentals of the Metal Oxide Semiconductor Field Effect Transistor\n",
"//Caption_Current voltage relationship\n",
"//Ex_8//page 473\n",
"L=1.25*10^-4     //channel length\n",
"mun=650   //mobility  of electrons\n",
"Cox=6.9*10^-8   //oxide capacitance\n",
"Vt=0.65   //thermal voltage\n",
"Idsat=4*10^-3 //saturated current\n",
"VGS=5\n",
"W=2*L*Idsat/(mun*Cox*(VGS-Vt)^2)*10^4\n",
"printf('The width of MOSFET such that the specified current is induced is %1.1f micrometer',W)"
   ]
   }
,
{
		   "cell_type": "markdown",
		   "metadata": {},
		   "source": [
			"## Example 10.9: Threshold_voltage.sce"
		   ]
		  },
  {
"cell_type": "code",
	   "execution_count": null,
	   "metadata": {
	    "collapsed": true
	   },
	   "outputs": [],
"source": [
"// Chapter 10_Fundamentals of the Metal Oxide Semiconductor Field Effect Transistor\n",
"//Caption_Current voltage relationship\n",
"//Ex_9//page 474\n",
"W=15*10^-4   //Width of MosFET\n",
"L=2*10^-4   //length of MOSFET\n",
"COX=6.9*10^-8    //oxide capacitance\n",
"VDS=0.10\n",
"ID1=35*10^-6   //DRAIN CURRENT\n",
"VGS1=1.5\n",
"ID2=75*10^-6\n",
"VGS2=2.5\n",
"mun=L*(ID2-ID1)/(W*COX*(VGS2-VGS1)*VDS)\n",
"printf('The inversion carrier mobility is %1.0f cm^2/V-s',mun)\n",
""
   ]
   }
],
"metadata": {
		  "kernelspec": {
		   "display_name": "Scilab",
		   "language": "scilab",
		   "name": "scilab"
		  },
		  "language_info": {
		   "file_extension": ".sce",
		   "help_links": [
			{
			 "text": "MetaKernel Magics",
			 "url": "https://github.com/calysto/metakernel/blob/master/metakernel/magics/README.md"
			}
		   ],
		   "mimetype": "text/x-octave",
		   "name": "scilab",
		   "version": "0.7.1"
		  }
		 },
		 "nbformat": 4,
		 "nbformat_minor": 0
}
