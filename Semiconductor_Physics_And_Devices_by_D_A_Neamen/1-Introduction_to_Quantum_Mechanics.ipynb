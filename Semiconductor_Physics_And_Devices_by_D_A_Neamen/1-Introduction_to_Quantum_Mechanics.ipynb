{
"cells": [
 {
		   "cell_type": "markdown",
	   "metadata": {},
	   "source": [
       "# Chapter 1: Introduction to Quantum Mechanics"
	   ]
	},
{
		   "cell_type": "markdown",
		   "metadata": {},
		   "source": [
			"## Example 1.1: Photon_energy.sce"
		   ]
		  },
  {
"cell_type": "code",
	   "execution_count": null,
	   "metadata": {
	    "collapsed": true
	   },
	   "outputs": [],
"source": [
"// Chapter 1_Principles of Quantum Mechanics\n",
"//Caption_Photon Energy\n",
"//Ex_1//page 3\n",
"disp('X-Rays wavelength lambda=0.708*10^-8 cm');\n",
"lambda=0.708*(10^-10);//Wavelength\n",
"h=6.625*(10^-34);// Plank's constant\n",
"c=3*10^8  //speed of light\n",
"\n",
"E=(h*c)/lambda;\n",
"printf('The photon energy corresponding to given wavelength is %fd J\n',E)\n",
"Evv=E/(1.6*(10^-19));\n",
"printf('Energy in the units of ev is %fd eV \n',Evv)"
   ]
   }
,
{
		   "cell_type": "markdown",
		   "metadata": {},
		   "source": [
			"## Example 1.2: Broglie_wavelength.sce"
		   ]
		  },
  {
"cell_type": "code",
	   "execution_count": null,
	   "metadata": {
	    "collapsed": true
	   },
	   "outputs": [],
"source": [
"// Chapter 1_Principles of Quantum Mechanics\n",
"//Caption_Broglie wavelength\n",
"//Ex_2//page 5\n",
"disp('Velocity of electron is 10^7 cm/s');\n",
"h=6.625*(10^-34);// Plank's constant\n",
"m=9.11*(10^-31); //Mass of electron\n",
"v=10^5;  //Velocity of electron\n",
"\n",
"p=m*v;   //Momentum\n",
"printf('Momentum is %fd \n',p)\n",
"lambda=(h/p)*10^10;  //De Broglie's wavelength in angstorm\n",
"printf('The De Broglie wavelength is %fd Angstorm\n',lambda);"
   ]
   }
,
{
		   "cell_type": "markdown",
		   "metadata": {},
		   "source": [
			"## Example 1.3: Electron_in_infinite_potential_well.sce"
		   ]
		  },
  {
"cell_type": "code",
	   "execution_count": null,
	   "metadata": {
	    "collapsed": true
	   },
	   "outputs": [],
"source": [
"// Chapter 1_Principles of Quantum Mechanics\n",
"//Caption_Electron in an infinite potential well\n",
"//Ex_3//page 14\n",
"disp('Width of electrons infinite potential well is 5 Angstorm');\n",
"h=1.054*(10^-34);// Plank's constant\n",
"m=9.11*(10^-31); //Mass of electron\n",
"v=10^5;  //Velocity of electron\n",
"a=5*(10^-10);\n",
"c=1.6*(10^-19);\n",
"n1=1;    // assume\n",
"En1=((h^2)*(n1^2)*(%pi^2)/(2*m*a^2))/c\n",
"printf('Energy in first energy level is %fd eV\n',En1)\n",
"n2=2;.....//assume\n",
"En2=((h^2)*(n2^2)*(%pi^2)/(2*m*a^2))/c\n",
"printf('Energy in first energy level is %fd eV\n',En2)\n",
"n3=3;     //assume\n",
"En3=((h^2)*(n3^2)*(%pi^2)/(2*m*a^2))/c\n",
"printf('Energy in first energy level is %fd eV\n',En3)"
   ]
   }
,
{
		   "cell_type": "markdown",
		   "metadata": {},
		   "source": [
			"## Example 1.4: Penetration_depth_of_a_particle_impinging_on_a_potential_barrier.sce"
		   ]
		  },
  {
"cell_type": "code",
	   "execution_count": null,
	   "metadata": {
	    "collapsed": true
	   },
	   "outputs": [],
"source": [
"// Chapter 1_Principles of Quantum Mechanics\n",
"//Caption_Penetration depth of a particle impinging on a potential barrier\n",
"//Ex_4//page 18\n",
"v=10^5;            // Given velocity of electron\n",
"m=9.11*(10^-31);   // mass of electron\n",
"c=1.6*(10^-19)\n",
"E=((1/2)*m*(v^2))/c;\n",
"VO=2*E;    //Assume that the potential barrier at x=0 is twice as large as total energy of the incident particle\n",
"printf('Energy of the particle is %fd eV\n' ,E)\n",
"h=1.054*(10^-34)\n",
"d=((h^2)/(2*m*E*c))^(1/2)*10^10;\n",
"printf('The distance at which the wave funciton magnitude has decayed to e^-1 of its value at x=0 is %2.1f Angstrom \n',d )"
   ]
   }
,
{
		   "cell_type": "markdown",
		   "metadata": {},
		   "source": [
			"## Example 1.5: Probability_of_an_electron_tunneling_through_a_potential_barrier.sce"
		   ]
		  },
  {
"cell_type": "code",
	   "execution_count": null,
	   "metadata": {
	    "collapsed": true
	   },
	   "outputs": [],
"source": [
"// Chapter 1_Principles of Quantum Mechanics\n",
"//Caption_Probability of an electron tunneling through a potential barrier\n",
"//Ex_5//page 21\n",
"E=2;     //energy of electron in eV\n",
"Vo=20;    //potential barrier in eV\n",
"w=3;   //width of potential barrier in angstrom\n",
"m=9*(10^-31)\n",
"h=1.054*(10^-34)\n",
"c=1.6*(10^-19)\n",
"K=((2*m)*(Vo-E)*c/(h^2))^(1/2)\n",
"printf('Factor K is %fd m^-1 \n',K)\n",
"l=(-2*K*w*(10^-10))\n",
"a=%e^l\n",
"x=E/Vo;\n",
"T=16*x*(1-x)*a;\n",
"printf('Transmission coefficient i.e. the probability of electron to tunnel through the potential barrier is %fd \n',T)"
   ]
   }
],
"metadata": {
		  "kernelspec": {
		   "display_name": "Scilab",
		   "language": "scilab",
		   "name": "scilab"
		  },
		  "language_info": {
		   "file_extension": ".sce",
		   "help_links": [
			{
			 "text": "MetaKernel Magics",
			 "url": "https://github.com/calysto/metakernel/blob/master/metakernel/magics/README.md"
			}
		   ],
		   "mimetype": "text/x-octave",
		   "name": "scilab",
		   "version": "0.7.1"
		  }
		 },
		 "nbformat": 4,
		 "nbformat_minor": 0
}
