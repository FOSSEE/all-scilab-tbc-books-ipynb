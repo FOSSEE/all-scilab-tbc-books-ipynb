{
"cells": [
 {
		   "cell_type": "markdown",
	   "metadata": {},
	   "source": [
       "# Chapter 2: Introduction to the quantum theory of solids"
	   ]
	},
{
		   "cell_type": "markdown",
		   "metadata": {},
		   "source": [
			"## Example 2.1: Change_in_kinetic_energy.sce"
		   ]
		  },
  {
"cell_type": "code",
	   "execution_count": null,
	   "metadata": {
	    "collapsed": true
	   },
	   "outputs": [],
"source": [
"// Chapter 2_Introduction to the quantum theory of solids\n",
"//Caption_Change in kinetic energy of electron\n",
"//Ex_1//page 37\n",
"v=10^5;\n",
"delV=0.01;\n",
"m=9.1*10^-31;\n",
"c=1.6 *(10^-19)\n",
"delE=m*v*delV/c;\n",
"printf('Change in kinetic energy for a very small change in velocity of electron is %1.10fd eV \n',delE)"
   ]
   }
,
{
		   "cell_type": "markdown",
		   "metadata": {},
		   "source": [
			"## Example 2.2: Lowest_allowed_energy_bandwidth.sce"
		   ]
		  },
  {
"cell_type": "code",
	   "execution_count": null,
	   "metadata": {
	    "collapsed": true
	   },
	   "outputs": [],
"source": [
"// Chapter 2_Introduction to the quantum theory of solids\n",
"//Caption_Lowest allowed energy bandwidth\n",
"//Ex_2//page 46\n",
"\n",
"m=9.11*(10^-31)      //mass of electron\n",
"h=1.054*(10^-34)\n",
"a=5*(10^-10)\n",
"c=1.6*(10^-19)     //electron charge\n",
"E=((%pi^2)*(h^2))/(2*m*(a)^2)\n",
"E2=E/c;\n",
"E1= 1.053     // For alpha a=2.628, energy is given in eV\n",
"delE=E2-E1\n",
"printf('The allowed energy bandwidth is %fd eV\n',delE)"
   ]
   }
,
{
		   "cell_type": "markdown",
		   "metadata": {},
		   "source": [
			"## Example 2.3: Density_of_States.sce"
		   ]
		  },
  {
"cell_type": "code",
	   "execution_count": null,
	   "metadata": {
	    "collapsed": true
	   },
	   "outputs": [],
"source": [
"// Chapter 2_Introduction to the quantum theory of solids\n",
"//Caption_Density of States\n",
"//Ex_3//page 63\n",
"m=9.11*(10^-31)      //mass of electron\n",
"h=6.625*(10^-34)\n",
"E=1.6*(10^-19)\n",
"N=((4*%pi*(2*m)^(1.5))/(h^3))*(E^(1.5))*(2/3)\n",
"printf('Density of states per unit volume with energies between 0 and 1 eV is %f states per unit vol \n',N)"
   ]
   }
,
{
		   "cell_type": "markdown",
		   "metadata": {},
		   "source": [
			"## Example 2.4: The_Fermi_Dirac_Probability_Function.sce"
		   ]
		  },
  {
"cell_type": "code",
	   "execution_count": null,
	   "metadata": {
	    "collapsed": true
	   },
	   "outputs": [],
"source": [
"// Chapter 2_Introduction to the quantum theory of solids\n",
"//Caption_The Fermi Dirac Probability Function\n",
"//Ex_4//page 68\n",
"Ni=10     //given no. of particles\n",
"gi=10     //given no. of quantum states\n",
"P=factorial(gi)/(factorial(Ni)*(factorial(gi-Ni)))     //Possible no of ways of relizing this distribution\n",
"printf('This distribution can be realized in %i ways \n',P)"
   ]
   }
,
{
		   "cell_type": "markdown",
		   "metadata": {},
		   "source": [
			"## Example 2.5: The_Fermi_Dirac_Probability_Function.sce"
		   ]
		  },
  {
"cell_type": "code",
	   "execution_count": null,
	   "metadata": {
	    "collapsed": true
	   },
	   "outputs": [],
"source": [
"// Chapter 2_Introduction to the quantum theory of solids\n",
"//Caption_The Fermi Dirac Probability Function\n",
"//Ex_5//page 68\n",
"Ni=9     //given no. of particles\n",
"gi=10     //given no. of quantum states\n",
"P=factorial(gi)/(factorial(Ni)*(factorial(gi-Ni)))     //Possible no of ways of relizing this distribution\n",
"printf('This distribution can be realized in %i ways \n',P)"
   ]
   }
,
{
		   "cell_type": "markdown",
		   "metadata": {},
		   "source": [
			"## Example 2.6: The_Distribution_function_and_the_Fermi_Energy.sce"
		   ]
		  },
  {
"cell_type": "code",
	   "execution_count": null,
	   "metadata": {
	    "collapsed": true
	   },
	   "outputs": [],
"source": [
"// Chapter 2_Introduction to the quantum theory of solids\n",
"//Caption_The Distribution function and the Fermi Energy\n",
"//Ex_6//page 71\n",
"T=300   // Temperature in kelvin\n",
"x=3     //x=    (E-Ef)/kT\n",
"fE=100/(1+%e^x);\n",
"printf('Probability that an energy level 3kT above the Fermi energy is occupied by an electron is %1.2fd%%\n',fE)"
   ]
   }
,
{
		   "cell_type": "markdown",
		   "metadata": {},
		   "source": [
			"## Example 2.7: The_Distribution_function_and_the_Fermi_Energy.sce"
		   ]
		  },
  {
"cell_type": "code",
	   "execution_count": null,
	   "metadata": {
	    "collapsed": true
	   },
	   "outputs": [],
"source": [
"// Chapter 2_Introduction to the quantum theory of solids\n",
"//Caption_The Distribution function and the Fermi Energy\n",
"//Ex_7//page 72\n",
"fE=0.01\n",
"Ef=6.25    //Fermi energy in eV\n",
"a=1/(1-fE)\n",
"x=log(a-1)\n",
"k=1.38*(10^-23)\n",
"T=(-0.30)*1.6*(10^-19)/(k*x)\n",
"printf('Temperature at which there is a 1 percent probability that an energy state is empty is %3.1fd K\n',T)"
   ]
   }
],
"metadata": {
		  "kernelspec": {
		   "display_name": "Scilab",
		   "language": "scilab",
		   "name": "scilab"
		  },
		  "language_info": {
		   "file_extension": ".sce",
		   "help_links": [
			{
			 "text": "MetaKernel Magics",
			 "url": "https://github.com/calysto/metakernel/blob/master/metakernel/magics/README.md"
			}
		   ],
		   "mimetype": "text/x-octave",
		   "name": "scilab",
		   "version": "0.7.1"
		  }
		 },
		 "nbformat": 4,
		 "nbformat_minor": 0
}
