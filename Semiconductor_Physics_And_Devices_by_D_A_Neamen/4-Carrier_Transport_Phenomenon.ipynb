{
"cells": [
 {
		   "cell_type": "markdown",
	   "metadata": {},
	   "source": [
       "# Chapter 4: Carrier Transport Phenomenon"
	   ]
	},
{
		   "cell_type": "markdown",
		   "metadata": {},
		   "source": [
			"## Example 4.1: Carrier_drift.sce"
		   ]
		  },
  {
"cell_type": "code",
	   "execution_count": null,
	   "metadata": {
	    "collapsed": true
	   },
	   "outputs": [],
"source": [
"// Chapter 4_Carrier Transport Phenomenon\n",
"//Caption_Carrier drift\n",
"//Ex_1//page 134\n",
"T=300    //temperature in kelvin\n",
"Na=0\n",
"e=1.6*(10^-19)\n",
"Nd=10^16    //donor concentration in per cm cube\n",
"E=10   //Applied electric field in V/cm\n",
"ni=1.8*(10^6)\n",
"n=(Nd-Na)/2+(((Nd-Na)/2)^2+ni^2)^0.5\n",
"p=ni^2/n\n",
"muN=8500   //mobility of electron in  gallium arsenide in cm^2/V-s\n",
"mup=400\n",
"J=e*(muN*n+mup*p)*E\n",
"printf('The drift current density for this electric field is %1.2fd A/cm^2',J )"
   ]
   }
,
{
		   "cell_type": "markdown",
		   "metadata": {},
		   "source": [
			"## Example 4.2: Carrier_drift.sce"
		   ]
		  },
  {
"cell_type": "code",
	   "execution_count": null,
	   "metadata": {
	    "collapsed": true
	   },
	   "outputs": [],
"source": [
"// Chapter 4_Carrier Transport Phenomenon\n",
"//Caption_Carrier drift\n",
"//Ex_2//page 143\n",
"T=300\n",
"sig=16   //CONDUCTIVITY IN (OHM-CM)^-1\n",
"Na=10^16   //acceptor doping concentration\n",
"e=1.6*(10^-19)\n",
"// sig=e*muN*(Nd-Na)\n",
"//By trial and error\n",
"printf('Doping concentration is 3.5*10^17 cm^-3 and mobilityis 400 cm^2/V-S')"
   ]
   }
,
{
		   "cell_type": "markdown",
		   "metadata": {},
		   "source": [
			"## Example 4.3: Conductivity.sce"
		   ]
		  },
  {
"cell_type": "code",
	   "execution_count": null,
	   "metadata": {
	    "collapsed": true
	   },
	   "outputs": [],
"source": [
"// Chapter 4_Carrier Transport Phenomenon\n",
"//Caption_Conductivity\n",
"//Ex_2//page 144\n",
"T=300\n",
"Nd=5*(10^15)    //donor concentration\n",
"R=10   //resistance in kohm\n",
"J=50    //current density in A/cm^2\n",
"V=5   //voltage  in volts\n",
"i=V/R    //current\n",
"A=i/J    //cross sectional area\n",
"E=100\n",
"L=V/E   //length of the resistor\n",
"pho=L/(V*A)\n",
"// The conductivity of a compensated p-type semiconductor is\n",
"//pho=e*muP*(Na-Nd)\n",
"//where the mobilty is a function of the total ionized impurity concentration Na+Nd\n",
"//Using trial and error , if\n",
" Na=1.25*(10^16)\n",
" muP=410\n",
" e=1.6*(10^-19)\n",
"sig=e*muP*(Na-Nd)\n",
"printf('Conductivity obtained is %1.2fd which is very close to the value we need',sig)"
   ]
   }
,
{
		   "cell_type": "markdown",
		   "metadata": {},
		   "source": [
			"## Example 4.4: Carrier_diffusio.sce"
		   ]
		  },
  {
"cell_type": "code",
	   "execution_count": null,
	   "metadata": {
	    "collapsed": true
	   },
	   "outputs": [],
"source": [
"// Chapter 4_Carrier Transport Phenomenon\n",
"//Caption_Carrier diffusion\n",
"//Ex_4//page 150\n",
"T=300\n",
"d=0.10   //distance in cm over which concentration varies\n",
"Dn=225    //diffusion coefficient\n",
"e=1.6*(10^-19)\n",
"delN=1*(10^18)-7*(10^17)\n",
"J=e*Dn*(delN/d)\n",
"printf('The diffusion current density is %1.2fd A/cm^3',J)\n",
""
   ]
   }
,
{
		   "cell_type": "markdown",
		   "metadata": {},
		   "source": [
			"## Example 4.5: Graded_impurity_distributio.sce"
		   ]
		  },
  {
"cell_type": "code",
	   "execution_count": null,
	   "metadata": {
	    "collapsed": true
	   },
	   "outputs": [],
"source": [
"// Chapter 4_Carrier Transport Phenomenon\n",
"//Caption_Graded impurity distribution\n",
"//Ex_5//page 153\n",
"T=300\n",
"x=0   //given 0<x<1 micrometer\n",
"Nd=10^16-10^19*x\n",
"//Taking the derivative of donor concentration , we have d(ND)/dx=-10^19\n",
"e=1.6*(10^-19)\n",
"Ex=-(0.0259)*(-10^19)/Nd\n",
"printf('The induced electric field is %1.1fd V/cm',Ex)"
   ]
   }
,
{
		   "cell_type": "markdown",
		   "metadata": {},
		   "source": [
			"## Example 4.6: The_Einstein_relation.sce"
		   ]
		  },
  {
"cell_type": "code",
	   "execution_count": null,
	   "metadata": {
	    "collapsed": true
	   },
	   "outputs": [],
"source": [
"// Chapter 4_Carrier Transport Phenomenon\n",
"//Caption_The Einstein relation\n",
"//Ex_6//page 155\n",
"T=300\n",
"mu=1000    //mobility of a particular carrier\n",
"kT=0.0259\n",
"e=1.6*(10^-19)\n",
"D=(kT)*mu\n",
"printf('Diffusion coefficient is %1.2fd cm^2/s ',D)"
   ]
   }
,
{
		   "cell_type": "markdown",
		   "metadata": {},
		   "source": [
			"## Example 4.7: The_hall_effect.sce"
		   ]
		  },
  {
"cell_type": "code",
	   "execution_count": null,
	   "metadata": {
	    "collapsed": true
	   },
	   "outputs": [],
"source": [
"// Chapter 4_Carrier Transport Phenomenon\n",
"//Caption_The Hall Effect\n",
"//Ex_7//page 158\n",
"L=10^-3    //LENGTH IN M\n",
"W=10^-2    //WIDTH IN CM\n",
"d=10^-5\n",
"Ix=10^-3   //current in Amp\n",
"Vx=12.5\n",
"e=1.6*(10^-19)\n",
"Bz=500    //magnetic field in gauss\n",
"Vh=-6.25*10^-3    //hall voltage\n",
"\n",
"//A negative hall voltage for this geometry implies that we have an n-type semiconductor\n",
"BzT=Bz*10^-4   //magnetic field in tesla\n",
"n=-(Ix*BzT)/(e*d*Vh*10^6)\n",
"mun=(Ix*L)/(e*n*Vx*W*d)\n",
"printf('Majority carrier concentration is %1.1fd cm^-3 and mobility is %1.1fd cm^2/V-s ',n,mun)"
   ]
   }
],
"metadata": {
		  "kernelspec": {
		   "display_name": "Scilab",
		   "language": "scilab",
		   "name": "scilab"
		  },
		  "language_info": {
		   "file_extension": ".sce",
		   "help_links": [
			{
			 "text": "MetaKernel Magics",
			 "url": "https://github.com/calysto/metakernel/blob/master/metakernel/magics/README.md"
			}
		   ],
		   "mimetype": "text/x-octave",
		   "name": "scilab",
		   "version": "0.7.1"
		  }
		 },
		 "nbformat": 4,
		 "nbformat_minor": 0
}
