{
"cells": [
 {
		   "cell_type": "markdown",
	   "metadata": {},
	   "source": [
       "# Chapter 13: Optical devices"
	   ]
	},
{
		   "cell_type": "markdown",
		   "metadata": {},
		   "source": [
			"## Example 13.10: Quantum_efficiency.sce"
		   ]
		  },
  {
"cell_type": "code",
	   "execution_count": null,
	   "metadata": {
	    "collapsed": true
	   },
	   "outputs": [],
"source": [
"// Chapter 13_Optical Devices\n",
"//Caption_Quantum efficiency\n",
"//Ex_10//page 629\n",
"n2=3.66   //index of refraction in GaAs\n",
"n1=1    //index of refraction in air\n",
"theta=asind(n1/n2)\n",
"printf('The critical angle at semiconductor-air interface is %1.1f degree',theta)"
   ]
   }
,
{
		   "cell_type": "markdown",
		   "metadata": {},
		   "source": [
			"## Example 13.1: Optical_absorptio.sce"
		   ]
		  },
  {
"cell_type": "code",
	   "execution_count": null,
	   "metadata": {
	    "collapsed": true
	   },
	   "outputs": [],
"source": [
"// Chapter 13_Optical Devices\n",
"//Caption_Optical absorption\n",
"//Ex_1//page 598\n",
"lambdai1=1*10^-4     //incident wavelength\n",
"lambdai2=0.5*10^-4\n",
"alpha1=100   //absorption coefficient\n",
"d1=1*log(1/0.1)/alpha1     //If 90percent of the incident flux is to be absorbed in a distance d , then the flux emerging at x=d will be 10% of the incident flux\n",
"alpha2=10000\n",
"d2=1*log(1/0.1)/alpha2*10^4\n",
"printf('As the incident photon energy increases, the absorption coefficient increases rapidly since d1=%1.4f cm and d2=%1.2f micrometer',d1,d2)"
   ]
   }
,
{
		   "cell_type": "markdown",
		   "metadata": {},
		   "source": [
			"## Example 13.2: Electron_hole_pair_generation_rate.sce"
		   ]
		  },
  {
"cell_type": "code",
	   "execution_count": null,
	   "metadata": {
	    "collapsed": true
	   },
	   "outputs": [],
"source": [
"// Chapter 13_Optical Devices\n",
"//Caption_Electron hole pair generation rate\n",
"//Ex_2//page 600\n",
"T=300\n",
"Ivx=0.05    //photon intensity\n",
"lambda=0.75  //wavelength\n",
"alpha=0.7*10^4       //absorption coefficient\n",
"h=1.24\n",
"v=1/lambda // v is the frequency\n",
"E=h*v   //energy in eV,\n",
"g=alpha*Ivx/(1.6*10^-19*h*v)    //generation rate of electron hole pair\n",
"tau=10^-7     //lifetime of minority carrier\n",
"deln=g*tau    //excess carrier concentration\n",
"printf('The generation rate of electron hole pair is %1.2f cm^-3 s^-1',g)"
   ]
   }
,
{
		   "cell_type": "markdown",
		   "metadata": {},
		   "source": [
			"## Example 13.3: Solar_cells.sce"
		   ]
		  },
  {
"cell_type": "code",
	   "execution_count": null,
	   "metadata": {
	    "collapsed": true
	   },
	   "outputs": [],
"source": [
"// Chapter 13_Optical Devices\n",
"//Caption_Solar cells\n",
"//Ex_3//page 602\n",
"Na=5*10^18\n",
"Nd=10^16\n",
"Dn=25\n",
"e=1.6*10^-19\n",
"ni=1.5*10^10\n",
"Dp=10\n",
"tau_no=5*10^-7\n",
"tau_po=10^-7\n",
"JL=15*10^-3    //photocurrent density\n",
"Ln=(Dn*tau_no)^0.5\n",
"Lp=(Dp*tau_po)^0.5\n",
"Js=e*(ni^2)*((Dn/(Ln*Na))+(Dp/(Lp*Nd)))\n",
"Voc=0.0259*log(1+JL/Js)\n",
"printf('Open circuit voltage of SI pn juncton solar cell is %1.3f V',Voc)"
   ]
   }
,
{
		   "cell_type": "markdown",
		   "metadata": {},
		   "source": [
			"## Example 13.4: Solar_concentration.sce"
		   ]
		  },
  {
"cell_type": "code",
	   "execution_count": null,
	   "metadata": {
	    "collapsed": true
	   },
	   "outputs": [],
"source": [
"// Chapter 13_Optical Devices\n",
"//Caption_Solar concentration\n",
"//Ex_4//page 605\n",
"JL==150*10^-3    //PHOTOCURRENT DENSITY\n",
"Js=3.6*10^-11   //reverse saturation current density\n",
"Voc=0.0259*log(1+JL/Js)\n",
"printf('Open circuit voltage when solar concentration is used is %1.3f V',Voc)"
   ]
   }
,
{
		   "cell_type": "markdown",
		   "metadata": {},
		   "source": [
			"## Example 13.5: Photo_conductor.sce"
		   ]
		  },
  {
"cell_type": "code",
	   "execution_count": null,
	   "metadata": {
	    "collapsed": true
	   },
	   "outputs": [],
"source": [
"// Chapter 13_Optical Devices\n",
"//Caption_Photo conductor\n",
"//Ex_5//page 611\n",
"mup=480\n",
"mun=1350\n",
"L=100*10^-4  //length of photoconductor\n",
"A=10^-7    //cross sectional area\n",
"tau_p=10^-6    //minority carrier lifetime\n",
"V=10    //applied voltage\n",
"tn=L^2/(mun*V)\n",
"//photoconductor gain is\n",
"G=(tau_p/tn)*(1+(mup/mun))\n",
"printf('The photoconductor gain is %1.2f',G)"
   ]
   }
,
{
		   "cell_type": "markdown",
		   "metadata": {},
		   "source": [
			"## Example 13.6: Photo_diode.sce"
		   ]
		  },
  {
"cell_type": "code",
	   "execution_count": null,
	   "metadata": {
	    "collapsed": true
	   },
	   "outputs": [],
"source": [
"// Chapter 13_Optical Devices\n",
"//Caption_Photodiode\n",
"//Ex_6//page 616\n",
"Na=10^16\n",
"eps=8.85*10^-14;\n",
"Nd=10^16\n",
"Dn=25\n",
"Dp=10\n",
"tau_no=5*10^-7\n",
"e=1.6*10^-19\n",
"ni=1.5*10^10\n",
"tau_po=10^-7\n",
"VR=5     //reverse bias voltage\n",
"GL=10^21   //generation rate of excess carriers\n",
"Ln=(Dn*tau_no)^0.5\n",
"Lp=(Dp*tau_po)^0.5\n",
"Vbi=0.0259*log(Na*Nd/ni^2)\n",
"W=((2*eps/e)*((Na+Nd)/(Na*Nd))*(Vbi+VR))^0.5\n",
"JL=e*(W+Ln+Lp)*GL\n",
"printf('The steady state photocurrent density is %1.2f A/cm^2',JL)"
   ]
   }
,
{
		   "cell_type": "markdown",
		   "metadata": {},
		   "source": [
			"## Example 13.7: PIN_Photodiode.sce"
		   ]
		  },
  {
"cell_type": "code",
	   "execution_count": null,
	   "metadata": {
	    "collapsed": true
	   },
	   "outputs": [],
"source": [
"// Chapter 13_Optical Devices\n",
"//Caption_PIN Photodiode\n",
"//Ex_7//page 618\n",
"W=20*10^-4   //intrinsic region width\n",
"phio=10^17    //photon flux\n",
"alpha=10^3    //absorption coefficient\n",
"GL1=alpha*phio   //generation rate of electron hole pair at the front region\n",
"GL2=GL1*exp(-alpha*W)\n",
"JL=1000*e*phio*(1-exp(-alpha*W))     //photocurrent density\n",
"printf('The photocurrent density in PIN photodiode is %1.1f mA/cm^2  ',JL)"
   ]
   }
,
{
		   "cell_type": "markdown",
		   "metadata": {},
		   "source": [
			"## Example 13.8: Materials.sce"
		   ]
		  },
  {
"cell_type": "code",
	   "execution_count": null,
	   "metadata": {
	    "collapsed": true
	   },
	   "outputs": [],
"source": [
"// Chapter 13_Optical Devices\n",
"//Caption_Materials\n",
"//Ex_8//page 625\n",
"Eg=1.42\n",
"lambda=1.24/Eg    //output wavelength of photon\n",
"lam=0.653    //desired wavelength\n",
"E=1.24/lam     //bandgap energy\n",
"printf('The band gap energy corresponding to visible given wavelength is %1.2f eV and it would correspond to a mole fraction of x=4',E)"
   ]
   }
,
{
		   "cell_type": "markdown",
		   "metadata": {},
		   "source": [
			"## Example 13.9: Quantum_efficiency.sce"
		   ]
		  },
  {
"cell_type": "code",
	   "execution_count": null,
	   "metadata": {
	    "collapsed": true
	   },
	   "outputs": [],
"source": [
"// Chapter 13_Optical Devices\n",
"//Caption_Quantum efficiency\n",
"//Ex_9//page 628\n",
"n2=3.666    //index of refraction in GaAs\n",
"n1=1    //index of refraction in air\n",
"T=((n2-n1)/(n2+n1))^2    //reflection coeffucient\n",
"printf('The reflection coefficient at semiconductor- air interface ius %1.2f',T)"
   ]
   }
,
{
		   "cell_type": "markdown",
		   "metadata": {},
		   "source": [
			"## Example 14.4: Heat_sinks_and_junction_temperature.sce"
		   ]
		  },
  {
"cell_type": "code",
	   "execution_count": null,
	   "metadata": {
	    "collapsed": true
	   },
	   "outputs": [],
"source": [
"// Chapter 14_Semiconductor Power Devices\n",
"//Caption_Heat sinks and junction temperature\n",
"//Ex_4//page-663\n",
"P=20   //Rated power\n",
"Tj_max=175    //Junction temperature\n",
"TOC=25\n",
"Tamb=25   //ambient temperature\n",
"Theta_case_snk=1\n",
"Theta_snk_amb=5\n",
"Theta_dev_case=(Tj_max-TOC)/P\n",
"PD_MAX=(Tj_max-Tamb)/(Theta_dev_case+Theta_case_snk+Theta_snk_amb)\n",
"printf('Maximum power dissipated is %1.1f W',PD_MAX)"
   ]
   }
],
"metadata": {
		  "kernelspec": {
		   "display_name": "Scilab",
		   "language": "scilab",
		   "name": "scilab"
		  },
		  "language_info": {
		   "file_extension": ".sce",
		   "help_links": [
			{
			 "text": "MetaKernel Magics",
			 "url": "https://github.com/calysto/metakernel/blob/master/metakernel/magics/README.md"
			}
		   ],
		   "mimetype": "text/x-octave",
		   "name": "scilab",
		   "version": "0.7.1"
		  }
		 },
		 "nbformat": 4,
		 "nbformat_minor": 0
}
