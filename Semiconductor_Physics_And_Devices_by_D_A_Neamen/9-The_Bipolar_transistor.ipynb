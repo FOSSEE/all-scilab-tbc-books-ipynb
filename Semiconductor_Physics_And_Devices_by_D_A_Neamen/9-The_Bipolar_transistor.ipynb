{
"cells": [
 {
		   "cell_type": "markdown",
	   "metadata": {},
	   "source": [
       "# Chapter 9: The Bipolar transistor"
	   ]
	},
{
		   "cell_type": "markdown",
		   "metadata": {},
		   "source": [
			"## Example 9.10: Ebers_moll_model.sce"
		   ]
		  },
  {
"cell_type": "code",
	   "execution_count": null,
	   "metadata": {
	    "collapsed": true
	   },
	   "outputs": [],
"source": [
"// Chapter 9_The bipolar transistor\n",
"//Caption_Ebers Moll model\n",
"//Ex_10//page 394\n",
"T=300\n",
"alpha_f=0.99\n",
"alpha_r=0.20\n",
"Ic=.001\n",
"Ib=50*10^-6\n",
"Vt=0.0259\n",
"x=Ic*(1-alpha_r)+Ib\n",
"y=alpha_f*Ib-((1-alpha_f)*Ic)\n",
"z=alpha_f/alpha_r\n",
"VCEsat=Vt*log(x*z/y)\n",
"printf('The collector emitter saturation voltage is %1.3f V',VCEsat)"
   ]
   }
,
{
		   "cell_type": "markdown",
		   "metadata": {},
		   "source": [
			"## Example 9.12: Transistor_cut_off_frequency.sce"
		   ]
		  },
  {
"cell_type": "code",
	   "execution_count": null,
	   "metadata": {
	    "collapsed": true
	   },
	   "outputs": [],
"source": [
"// Chapter 9_The bipolar transistor\n",
"//Caption_Transistor cut off frequency\n",
"//Ex_12//page 403\n",
"Ie=0.001     //emitter current\n",
"Cje=10^-12\n",
"xb=0.5*10^-4\n",
"vs=10^7\n",
"Dn=25\n",
"xdc=2.4*10^-4\n",
"rc=20\n",
"Cu=0.1*10^-12     //B-C junction capacitance\n",
"Cs=0.1*10^-12    //collector to substrate capacitance\n",
"re=0.0259/Ie\n",
"tau_e=re*Cje*10^12   //emitter base junction charging time\n",
"tau_b=(xb^2)/(2*Dn) *10^12    //base transit time\n",
"tau=xdc/vs*10^12\n",
"tau_c=rc*(Cu+Cs)*10^12\n",
"tau_ec=(tau_e+tau_b+tau+tau_c)   //total emitter to collector time delay\n",
"fT=(10^3)/(2*%pi*tau_ec)\n",
"bet=100\n",
"fB=fT/bet      //beta cutoff frrequency\n",
"printf('Emitter to collector transit time is %1.1f psec and cut off frequency is %1.2f GHz',tau_ec,fT)\n",
"\n",
""
   ]
   }
,
{
		   "cell_type": "markdown",
		   "metadata": {},
		   "source": [
			"## Example 9.1: Gain_factors.sce"
		   ]
		  },
  {
"cell_type": "code",
	   "execution_count": null,
	   "metadata": {
	    "collapsed": true
	   },
	   "outputs": [],
"source": [
"// Chapter 9_The bipolar transistor\n",
"//Caption_Gain factors\n",
"//Ex_1//page 371\n",
"gamma=0.9967     //emitter injection efficiency factor\n",
"Nbe=(1/gamma)-1    //base to emitter doping concentration ratio\n",
"NEB=1/Nbe\n",
"printf('The emitter doping concentration must be much larger i.e.%1.0ftimes that of base',NEB)"
   ]
   }
,
{
		   "cell_type": "markdown",
		   "metadata": {},
		   "source": [
			"## Example 9.2: Gain_factors.sce"
		   ]
		  },
  {
"cell_type": "code",
	   "execution_count": null,
	   "metadata": {
	    "collapsed": true
	   },
	   "outputs": [],
"source": [
"// Chapter 9_The bipolar transistor\n",
"//Caption_Gain factors\n",
"//Ex_2//page 372\n",
"alpha_T=0.9967\n",
"Db=10\n",
"tau_bo=10^-7\n",
"xbLb=abs(acosh(alpha_T))   //xB/Lb where LB is the length\n",
"Lb=(Db*tau_bo)^0.5\n",
"xb=xbLb*Lb*10^4\n",
"printf('Base width required to achieve the given base transport factor is %1.3f micrometer',xb)"
   ]
   }
,
{
		   "cell_type": "markdown",
		   "metadata": {},
		   "source": [
			"## Example 9.3: Gain_factors.sce"
		   ]
		  },
  {
"cell_type": "code",
	   "execution_count": null,
	   "metadata": {
	    "collapsed": true
	   },
	   "outputs": [],
"source": [
"// Chapter 9_The bipolar transistor\n",
"//Caption_Gain factors\n",
"//Ex_3//page 373\n",
"delta=0.9967     //recombination favtor\n",
"T=300\n",
"Jro=10^-8\n",
"Jso=10^-11\n",
"del=1/delta-1\n",
"x=del*Jso/Jro\n",
"Vbe=-2*0.0259*log(x)\n",
"printf('Forward biased BE voltage required to achieve the given delta is %1.3f V',Vbe)"
   ]
   }
,
{
		   "cell_type": "markdown",
		   "metadata": {},
		   "source": [
			"## Example 9.4: Gain_factors.sce"
		   ]
		  },
  {
"cell_type": "code",
	   "execution_count": null,
	   "metadata": {
	    "collapsed": true
	   },
	   "outputs": [],
"source": [
"// Chapter 9_The bipolar transistor\n",
"//Caption_Gain factors\n",
"//Ex_4//page 373\n",
"DE=10\n",
"DB=25\n",
"XB=0.70*10^-4   //width of base\n",
"XE=0.50*10^-4    //width of emitter\n",
"NE=10^18   //doping concentration in emitter\n",
"NB=10^16   //doping concentration in base\n",
"VBE=0.65\n",
"e=1.6*10^-19\n",
"tau_eo=10^-7   //minority carrier lifetime in emitter\n",
"tau_bo=5*10^-7   //minority carrier lifetime in base\n",
"Jro=5*10^-8\n",
"T=300\n",
"peo=(1.5*10^10)^2/NE\n",
"nbo=(1.5*10^10)^2/NB\n",
"Le=(DE*tau_eo)^0.5\n",
"Lb=(DB*tau_bo)^0.5\n",
"gamma_i=1/(1+((peo*DE*Lb*tanh(0.0198))/(nbo*DB*Le*tanh(0.050))))\n",
"alpha_T=1/(cosh(XB/Lb))\n",
"Jso=e*DB*nbo/(Lb*tanh(XB/Lb))\n",
"delta=1/1+(Jro*exp(-VBE/(2*0.0259)/Jso))\n",
"delta=0.99986\n",
"alpha=gamma_i*alpha_T*delta\n",
"beta_i=alpha/(1-alpha)\n",
"printf('Common emitter current gain is %1.0f',beta_i)"
   ]
   }
,
{
		   "cell_type": "markdown",
		   "metadata": {},
		   "source": [
			"## Example 9.5: Non_ideal_effects.sce"
		   ]
		  },
  {
"cell_type": "code",
	   "execution_count": null,
	   "metadata": {
	    "collapsed": true
	   },
	   "outputs": [],
"source": [
"// Chapter 9_The bipolar transistor\n",
"//Caption_Non ideal effects\n",
"//Ex_5//page 376\n",
"T=300\n",
"e=1.6*10^-19\n",
"NB=5*10^16     //doping concentration in base\n",
"NC=2*10^15     //doping concentration in collecor\n",
"XB=0.70*10^-4   //mettulurgical base width\n",
"ni=1.5*10^10     //intrinsic ion concentration\n",
"Vbi=0.718    //built-in potential\n",
"Vcb1=2\n",
"eps=11.7*8.85*10^-14\n",
"xdb1=(2*eps*(Vbi+Vcb1)*NC/(e*NB*(NC+NB)))^0.5\n",
"Vcb2=10\n",
"xdb2=(2*eps*(Vbi+Vcb2)*NC/(e*NB*(NC+NB)))^0.5\n",
"xb1=XB-xdb1    //neutral base width\n",
"xb2=XB-xdb2\n",
"del_xb=((xb1-xb2)/xb1)*100\n",
"printf('The neutral base width changes by %1.0f percent as the C-B voltage changes from 2 to 10 V',del_xb)\n",
""
   ]
   }
,
{
		   "cell_type": "markdown",
		   "metadata": {},
		   "source": [
			"## Example 9.6: Non_ideal_effects.sce"
		   ]
		  },
  {
"cell_type": "code",
	   "execution_count": null,
	   "metadata": {
	    "collapsed": true
	   },
	   "outputs": [],
"source": [
"// Chapter 9_The bipolar transistor\n",
"//Caption_Non ideal effects\n",
"//Ex_6//page 377\n",
"DB=25\n",
"VBE=0.60\n",
"T=300\n",
"e=1.6*10^-19\n",
"NB=5*10^16     //doping concentration in base\n",
"NC=2*10^15     //doping concentration in collecor\n",
"XB=0.70*10^-4   //mettulurgical base width\n",
"ni=1.5*10^10     //intrinsic ion concentration\n",
"nBO=ni^2/NB\n",
"xb1=0.648*10^-4\n",
"Jc1=e*DB*nBO*exp(VBE/0.0259)/xb1\n",
"xb2=0.597*10^-4\n",
"Jc2=e*DB*nBO*exp(VBE/0.0259)/xb2\n",
"VCE1=2.6\n",
"VCE2=10.6\n",
"del_JC_VCE=(Jc2-Jc1)/(VCE2-VCE1)\n",
"Va=3.20/del_JC_VCE-2.6\n",
"printf('The early voltage is %1.0f V',Va)"
   ]
   }
,
{
		   "cell_type": "markdown",
		   "metadata": {},
		   "source": [
			"## Example 9.7: Non_ideal_effects.sce"
		   ]
		  },
  {
"cell_type": "code",
	   "execution_count": null,
	   "metadata": {
	    "collapsed": true
	   },
	   "outputs": [],
"source": [
"// Chapter 9_The bipolar transistor\n",
"//Caption_Non ideal effects\n",
"//Ex_7//page 382\n",
"T=300\n",
"NE1=10^18   //emitter doping\n",
"NE2=10^19\n",
"ni=1.5*10^10     //intrinsic ion concentration\n",
"pEO1=ni^2/NE1\n",
"pEO2=ni^2/NE2\n",
"//This we did by neglecting bandgap narrowing , if we consider it, we get\n",
"pEO11=pEO1*exp(0.030/0.0259)\n",
"pEO21=pEO2*exp(0.1/0.0259)\n",
"printf('The thermal equilibrium minority carrier concentration increases by a factor of 1.5 instead of decreasing by a factor of 9.This effect is due to bandgap narrowing')"
   ]
   }
,
{
		   "cell_type": "markdown",
		   "metadata": {},
		   "source": [
			"## Example 9.8: Breakdown_voltage.sce"
		   ]
		  },
  {
"cell_type": "code",
	   "execution_count": null,
	   "metadata": {
	    "collapsed": true
	   },
	   "outputs": [],
"source": [
"// Chapter 9_The bipolar transistor\n",
"//Caption_Breakdown voltage\n",
"//Ex_8//page 387\n",
"Wb=0.5*10^-4    //metallurgical base width\n",
"NB=10^16\n",
"eps=11.7*8.85*10^-14\n",
"e=1.6*10^-19\n",
"Vpt=25    //punch through voltage\n",
"x=Vpt*2*eps/(e*Wb^2*NB) \n",
"y=x-1\n",
"NC=NB/y\n",
"xn=(2*eps*(Vpt)*NB/(e*NC*(NB+NC)))^0.5*10000\n",
"printf('The collector doping is %1.2f per cm^3 and collector widt is %1.2f micrometer',NC,xn)"
   ]
   }
,
{
		   "cell_type": "markdown",
		   "metadata": {},
		   "source": [
			"## Example 9.9: Breakdown_voltage.sce"
		   ]
		  },
  {
"cell_type": "code",
	   "execution_count": null,
	   "metadata": {
	    "collapsed": true
	   },
	   "outputs": [],
"source": [
"// Chapter 9_The bipolar transistor\n",
"//Caption_Breakdown voltage\n",
"//Ex_9//page 390\n",
"bet=100   //common emitter current gain\n",
"NB=10^17    //base doping concentration\n",
"vmin=15    //minimum open base breakdown voltage\n",
"BVcbo=(bet)^(1/3)*vmin\n",
"printf('To achieve this breakdown voltage, the maximum collector doping concentration should be 7*10^15 cm^-3 from the figure')"
   ]
   }
],
"metadata": {
		  "kernelspec": {
		   "display_name": "Scilab",
		   "language": "scilab",
		   "name": "scilab"
		  },
		  "language_info": {
		   "file_extension": ".sce",
		   "help_links": [
			{
			 "text": "MetaKernel Magics",
			 "url": "https://github.com/calysto/metakernel/blob/master/metakernel/magics/README.md"
			}
		   ],
		   "mimetype": "text/x-octave",
		   "name": "scilab",
		   "version": "0.7.1"
		  }
		 },
		 "nbformat": 4,
		 "nbformat_minor": 0
}
