{
"cells": [
 {
		   "cell_type": "markdown",
	   "metadata": {},
	   "source": [
       "# Chapter 12: The junction field effect transistor"
	   ]
	},
{
		   "cell_type": "markdown",
		   "metadata": {},
		   "source": [
			"## Example 12.10: High_electron_mobility_transistor.sce"
		   ]
		  },
  {
"cell_type": "code",
	   "execution_count": null,
	   "metadata": {
	    "collapsed": true
	   },
	   "outputs": [],
"source": [
"// Chapter 12_The junction field effect transistor\n",
"//Caption_High electron mobility transistor\n",
"//Ex_10//page 585\n",
"Nd=10^18\n",
"d=20*10^-8\n",
"dd=500*10^-8   //thickness\n",
"phi_B=0.85\n",
"q=1.6*10^-19\n",
"VG=0\n",
"epsn=12.2  //relative dielectric constant\n",
"Vp2=q*Nd*dd^2/(2*epsn*8.85*10^-14)   //a parameter\n",
"x=0.22    //x=del Ec/q\n",
"Voff=phi_B-x-Vp2     //threshold voltage\n",
"ns=(VG-Voff)*epsn*8.85*10^-14/(q*(dd+d+80*10^-8))\n",
"printf('The two dimensional electron concentration is %1.2f cm^-2',ns)"
   ]
   }
,
{
		   "cell_type": "markdown",
		   "metadata": {},
		   "source": [
			"## Example 12.1: Device_characteristics.sce"
		   ]
		  },
  {
"cell_type": "code",
	   "execution_count": null,
	   "metadata": {
	    "collapsed": true
	   },
	   "outputs": [],
"source": [
"// Chapter 12_The junction field effect transistor\n",
"//Caption_Device characteristics\n",
"//Ex_1//page 557\n",
"T=300\n",
"Na=10^18\n",
"e=1.6*10^-19\n",
"eps=8.85*10^-14*11.7\n",
"ni=1.5*10^10\n",
"Nd=10^16      //donor concentration\n",
"a=0.75*10^-4     //metallurgical channel thichness\n",
"Vpo=e*a^2*Nd/(2*eps)     //internal pinch off voltage\n",
"Vbi=0.0259*log(Na*Nd/ni^2)     //built in potential barrier\n",
"Vp=Vbi-Vpo    //pinch off voltage\n",
"printf('The pinch off voltage of this n-channel JFET is %1.2fV',Vp)"
   ]
   }
,
{
		   "cell_type": "markdown",
		   "metadata": {},
		   "source": [
			"## Example 12.2: Device_characteristics.sce"
		   ]
		  },
  {
"cell_type": "code",
	   "execution_count": null,
	   "metadata": {
	    "collapsed": true
	   },
	   "outputs": [],
"source": [
"// Chapter 12_The junction field effect transistor\n",
"//Caption_Device characteristics\n",
"//Ex_2//page 558\n",
"T=300\n",
"Nd=10^18\n",
"Na=2*10^16\n",
"e=1.6*10^-19\n",
"eps=8.85*10^-14*11.7\n",
"ni=1.5*10^10\n",
"Vp=2.25     //pinchoff voltage\n",
"Vbi=0.0259*log(Na*Nd/ni^2)\n",
"Vpo=Vp+Vbi\n",
"a=(2*eps*Vpo/(e*Na))^0.5*10^4\n",
"printf('Metallurgical channel thickness is %1.3f micrometer',a)"
   ]
   }
,
{
		   "cell_type": "markdown",
		   "metadata": {},
		   "source": [
			"## Example 12.3: Depletion_mode_JFET.sce"
		   ]
		  },
  {
"cell_type": "code",
	   "execution_count": null,
	   "metadata": {
	    "collapsed": true
	   },
	   "outputs": [],
"source": [
"// Chapter 12_The junction field effect transistor\n",
"//Caption_Depletion mode JFET\n",
"//Ex_3//page 558\n",
"T=300\n",
"Na=10^18\n",
"e=1.6*10^-19\n",
"eps=8.85*10^-14*11.7\n",
"Vbi=0.814\n",
"Vpo=4.35\n",
"ni=1.5*10^10\n",
"Nd=10^16\n",
"a=0.75*10^-4    //metallurgical channel thickness\n",
"L=10*10^-4   //channel length\n",
"W=30*10^-4    //channel width\n",
"mun=1000\n",
"Ipi=10^3*mun*(e*Nd)^2*W*a^3/(6*eps*L)\n",
"IDmax=Ipi*(1-3*(Vbi/Vpo)*(1-(2/3)*(Vbi/Vpo)^0.5))\n",
"printf('The maximum current is %1.3f mA while pinch off current is %1.3fmA',IDmax,Ipi)"
   ]
   }
,
{
		   "cell_type": "markdown",
		   "metadata": {},
		   "source": [
			"## Example 12.4: Transconductance.sce"
		   ]
		  },
  {
"cell_type": "code",
	   "execution_count": null,
	   "metadata": {
	    "collapsed": true
	   },
	   "outputs": [],
"source": [
"// Chapter 12_The junction field effect transistor\n",
"//Caption_Transconductance\n",
"//Ex_4//page 566\n",
"Ipi=0.522*10^-3\n",
"Vbi=0.814   //built in potential barrier\n",
"Vpo=4.35    //pinch off\n",
"VGS=0\n",
"gms_max=10^3*3*Ipi*(1-(Vbi/Vpo)^0.5)/Vpo\n",
"printf('The maximum transconductance is %1.3f mA/V',gms_max)"
   ]
   }
,
{
		   "cell_type": "markdown",
		   "metadata": {},
		   "source": [
			"## Example 12.5: The_MESFET.sce"
		   ]
		  },
  {
"cell_type": "code",
	   "execution_count": null,
	   "metadata": {
	    "collapsed": true
	   },
	   "outputs": [],
"source": [
"// Chapter 12_The junction field effect transistor\n",
"//Caption_The MESFET\n",
"//Ex_5//page 567\n",
"Nc=4.7*10^17\n",
"e=1.6*10^-19\n",
"eps=8.85*10^-14*13.1\n",
"T=300\n",
"phi_bn=0.89    //barrier height\n",
"Nd=2*10^15\n",
"Vt=0.25\n",
"phi_n=0.0259*log(Nc/Nd)\n",
"Vbi=phi_bn-phi_n   //built in potential barrier\n",
"Vpo=Vbi-Vt\n",
"a=10^4*(Vpo*2*eps/(e*Nd))^0.5\n",
"printf('The channel thickness of GaAs is %1.3f micrometer',a)"
   ]
   }
,
{
		   "cell_type": "markdown",
		   "metadata": {},
		   "source": [
			"## Example 12.6: The_MESFET.sce"
		   ]
		  },
  {
"cell_type": "code",
	   "execution_count": null,
	   "metadata": {
	    "collapsed": true
	   },
	   "outputs": [],
"source": [
"// Chapter 12_The junction field effect transistor\n",
"//Caption_The MESFET\n",
"//Ex_6//page 568\n",
"e=1.6*10^-19\n",
"eps=8.85*10^-14*13.1\n",
"T=300\n",
"ni=1.8*10^6\n",
"Na=10^18\n",
"Nd=3*10^15\n",
"a=0.70*10^-4\n",
"Vbi=0.0259*log(Na*Nd/ni^2)\n",
"Vpo=e*a^2*Nd/(2*eps)      //internal pinch off voltage\n",
"Vt=Vbi-Vpo   //threshold voltage\n",
"h=0.6*10^-4\n",
"VGS=Vbi-(e*h^2*Nd/(2*eps))\n",
"printf('The forward bias voltage required in an n channel GaAs enhancement mode pn jfet to open up a channel is %1.2f V',VGS)\n",
"\n",
""
   ]
   }
,
{
		   "cell_type": "markdown",
		   "metadata": {},
		   "source": [
			"## Example 12.7: The_MESFET.sce"
		   ]
		  },
  {
"cell_type": "code",
	   "execution_count": null,
	   "metadata": {
	    "collapsed": true
	   },
	   "outputs": [],
"source": [
"// Chapter 12_The junction field effect transistor\n",
"//Caption_The MESFET\n",
"//Ex_7//page 570\n",
"e=1.6*10^-19\n",
"eps=8.85*10^-14*13.1\n",
"T=300\n",
"ni=1.8*10^6\n",
"L=1.2*10^-4\n",
"mun=8000\n",
"a=0.70*10^-4\n",
"Idi=75*10^-6\n",
"VGS=0.5\n",
"Vt=0.24\n",
"kn=Idi/(VGS-Vt)^2    //conduction parameter\n",
"W=10^4*kn*2*a*L/(mun*eps)\n",
"printf('The required channel width is %1.2f micrometer',W)"
   ]
   }
,
{
		   "cell_type": "markdown",
		   "metadata": {},
		   "source": [
			"## Example 12.8: The_MESFET_channel_length_modulation.sce"
		   ]
		  },
  {
"cell_type": "code",
	   "execution_count": null,
	   "metadata": {
	    "collapsed": true
	   },
	   "outputs": [],
"source": [
"// Chapter 12_The junction field effect transistor\n",
"//Caption_The MESFET-Channel length modulation\n",
"//Ex_8//page 573\n",
"Nd=3*10^15\n",
"eps=8.85*10^-14*11.7\n",
"L=10\n",
"ID1=4\n",
"VDSsat=0  //assume\n",
"VDS1=VDSsat+2\n",
"VDS2=VDSsat+2.5\n",
"\n",
"delL2=10^4*(2*eps*(VDS2-VDSsat)/(e*Nd))^0.5   //change in length\n",
"delL1=10^4*(2*eps*(VDS1-VDSsat)/(e*Nd))^0.5   //change in length\n",
"//drain currents are\n",
"ID22=ID1*(L/(L-0.5*delL2))\n",
"ID11=ID1*(L/(L-0.5*delL1))\n",
"rds=(VDS2-VDS1)/(ID22-ID11)\n",
"printf('The small signal output resistance at the drain terminal due to channel length modulation effects is %1.1f kohm',rds)\n",
""
   ]
   }
,
{
		   "cell_type": "markdown",
		   "metadata": {},
		   "source": [
			"## Example 12.9: cut_off_frequency.sce"
		   ]
		  },
  {
"cell_type": "code",
	   "execution_count": null,
	   "metadata": {
	    "collapsed": true
	   },
	   "outputs": [],
"source": [
"// Chapter 12_The junction field effect transistor\n",
"//Caption_Cutoff frequency\n",
"//Ex_9//page 579\n",
"e=1.6*10^-19\n",
"mun=1000\n",
"L=5*10^-4\n",
"eps=8.85*10^-14*11.7\n",
"a=0.60*10^-4\n",
"Nd=10^16\n",
"fT=(e*mun*Nd*a^2)/(2*%pi*eps*L^2)*10^-9\n",
"printf('The cutoff frequency of silicon JFET with given parameters is %1.2f GHz',fT)"
   ]
   }
],
"metadata": {
		  "kernelspec": {
		   "display_name": "Scilab",
		   "language": "scilab",
		   "name": "scilab"
		  },
		  "language_info": {
		   "file_extension": ".sce",
		   "help_links": [
			{
			 "text": "MetaKernel Magics",
			 "url": "https://github.com/calysto/metakernel/blob/master/metakernel/magics/README.md"
			}
		   ],
		   "mimetype": "text/x-octave",
		   "name": "scilab",
		   "version": "0.7.1"
		  }
		 },
		 "nbformat": 4,
		 "nbformat_minor": 0
}
