{
"cells": [
 {
		   "cell_type": "markdown",
	   "metadata": {},
	   "source": [
       "# Chapter 8: Metal semiconductors and semiconductor heterojunctions"
	   ]
	},
{
		   "cell_type": "markdown",
		   "metadata": {},
		   "source": [
			"## Example 8.1: Shottky_barrier_diode.sce"
		   ]
		  },
  {
"cell_type": "code",
	   "execution_count": null,
	   "metadata": {
	    "collapsed": true
	   },
	   "outputs": [],
"source": [
"// Chapter 8_Metal Semiconductor and Semiconductor heterojunctions\n",
"//Caption_Shottky barrier diode\n",
"//Ex_1//page 308\n",
"T=300    //temperature in kelvin\n",
"Nd=10^16    //donor impurity\n",
"phi_m=4.55    //metal work function for tungsten\n",
"xi=4.01      //electron affinity for silicon\n",
"phi_bo=phi_m-xi\n",
"phi_n=0.0259*log(2.8*10^19/Nd)\n",
"Vbi=phi_bo-phi_n\n",
"xn=(2*eps*Vbi/(e*Nd))^0.5     //space charge width at zero bias\n",
"Emax=e*Nd*xn/eps    //maximum electric field\n",
"printf('Theoritical barrier height is %f V, built-in potential barrier is %f V and maximium electric field is %f V/cm', phi_bo,phi_n,Emax)"
   ]
   }
,
{
		   "cell_type": "markdown",
		   "metadata": {},
		   "source": [
			"## Example 8.2: Non_ideal_effects_on_barrier_height.sce"
		   ]
		  },
  {
"cell_type": "code",
	   "execution_count": null,
	   "metadata": {
	    "collapsed": true
	   },
	   "outputs": [],
"source": [
"// Chapter 8_Metal Semiconductor and Semiconductor heterojunctions\n",
"//Caption_Non ideal effects on the barrier height\n",
"//Ex_3//page 312\n",
"E=6.8*10^4\n",
"T=300\n",
"e=1.6*10^-19\n",
"eps=13.1*8.85*10^-14\n",
"delphi=(e*E/(4*%pi*eps))^0.5\n",
"xm=(e/(16*%pi*eps*E))^0.5*10^8\n",
"printf('Position of the maximum barrier height is %1.0f Angstorm',xm)"
   ]
   }
,
{
		   "cell_type": "markdown",
		   "metadata": {},
		   "source": [
			"## Example 8.3: Non_ideal_effects_on_barrier_height.sce"
		   ]
		  },
  {
"cell_type": "code",
	   "execution_count": null,
	   "metadata": {
	    "collapsed": true
	   },
	   "outputs": [],
"source": [
"// Chapter 8_Metal Semiconductor and Semiconductor heterojunctions\n",
"//Caption_Non ideal effects on the barrier height\n",
"//Ex_3//page 312\n",
"E=6.8*10^4\n",
"T=300\n",
"e=1.6*10^-19\n",
"eps=13.1*8.85*10^-14\n",
"delphi=(e*E/(4*%pi*eps))^0.5\n",
"xm=(e/(16*%pi*eps*E))^0.5*(10^8)\n",
"printf('Position of maximum barrier height is %fA',xm)"
   ]
   }
,
{
		   "cell_type": "markdown",
		   "metadata": {},
		   "source": [
			"## Example 8.4: Current_voltage_relationship.sce"
		   ]
		  },
  {
"cell_type": "code",
	   "execution_count": null,
	   "metadata": {
	    "collapsed": true
	   },
	   "outputs": [],
"source": [
"// Chapter 8_Metal Semiconductor and Semiconductor heterojunctions\n",
"//Caption_Current voltage relationship\n",
"//Ex_4/page 318\n",
"phi_bn=0.67    //barrier height\n",
"Jst=6*10^-5    //reverse saturation current density\n",
"T=300\n",
"e=1.6*10^-19\n",
"A=Jst/(T^2)*exp(phi_bn/0.0259)\n",
"printf('The effective Richardson constant is %1.0f A/K^2-cm^2',A)"
   ]
   }
,
{
		   "cell_type": "markdown",
		   "metadata": {},
		   "source": [
			"## Example 8.5: Comparison_of_the_schottky_barrier_diode_and_the_pn_junction_diode.sce"
		   ]
		  },
  {
"cell_type": "code",
	   "execution_count": null,
	   "metadata": {
	    "collapsed": true
	   },
	   "outputs": [],
"source": [
"// Chapter 8_Metal Semiconductor and Semiconductor heterojunctions\n",
"//Caption_Comparison of the schottky barrier diode and the pn junction diode\n",
"//Ex_5/page 319\n",
"e_phi_bn=0.67\n",
"A=114     //effective richardson constant\n",
"T=300\n",
"Jst=A*T^2*exp(-e_phi_bn/0.0259)\n",
"//if we neglect the barrier lowering effect, we have for the schottky barrier diode\n",
"//for a pn junction\n",
"Na=10^18\n",
"Nd=10^16\n",
"Dp=10\n",
"Dn=25\n",
"tau_po=10^-7\n",
"tau_no=10^-7\n",
"Lp=(Dp*tau_po)^0.5\n",
"Ln=(Dn*tau_no)^0.5\n",
"pno=2.25*10^4\n",
"npo=2.25*10^2\n",
"//the ideal reverse saturation current density of the pn junction diode can be determined as\n",
"Js=e*Dn*npo/Ln+(e*Dp*pno/Lp)\n",
"J=10^9*(Js+5.7*10^-13)\n",
"printf('Reverse saturation current density for schottky baarier diode is %f A/cm^2 and for pn junction is %f nA/cm^2',Jst,J)"
   ]
   }
,
{
		   "cell_type": "markdown",
		   "metadata": {},
		   "source": [
			"## Example 8.6: Shottky_barrier_diode_and_pn_junction.sce"
		   ]
		  },
  {
"cell_type": "code",
	   "execution_count": null,
	   "metadata": {
	    "collapsed": true
	   },
	   "outputs": [],
"source": [
"// Chapter 8_Metal Semiconductor and Semiconductor heterojunctions\n",
"//Caption_Shottky barrier diode and pn junction\n",
"//Ex_6//page 308\n",
"Jf=10   //forward biased current density\n",
"Jst=5.98*10^-5\n",
"Va=(0.0259*log(Jf/Jst))\n",
"//for pn junction diode\n",
"Js=3.66*10^-11    //reverse saturation current density\n",
"Va_pn=0.0259*log(Jf/Js)\n",
"printf('Forward bised voltage required for schottky is %1.3f V  and for pn junction is %1.3fV',Va,Va_pn)"
   ]
   }
,
{
		   "cell_type": "markdown",
		   "metadata": {},
		   "source": [
			"## Example 8.7: Tunnelling_barrier.sce"
		   ]
		  },
  {
"cell_type": "code",
	   "execution_count": null,
	   "metadata": {
	    "collapsed": true
	   },
	   "outputs": [],
"source": [
"// Chapter 8_Metal Semiconductor and Semiconductor heterojunctions\n",
"//Caption_Tunnelling barrier\n",
"//Ex_7//page 325\n",
"T=300   //temperature in kelvin\n",
"Nd=7*10^18    //donor impurity\n",
"e=1.6*10^-19\n",
"phi_bn=0.67     //schottky barrier\n",
"Vbi=phi_bn    //assumption with neglection of barrier lowering effect\n",
"eps=11.7*8.85*10^-14\n",
"xn=(2*eps*Vbi/(e*Nd))^0.5\n",
"x=10^8*xn\n",
"printf('The space charge width is %1.0f Angstorm',x)"
   ]
   }
,
{
		   "cell_type": "markdown",
		   "metadata": {},
		   "source": [
			"## Example 8.8: Equilibrium_electrostatics.sce"
		   ]
		  },
  {
"cell_type": "code",
	   "execution_count": null,
	   "metadata": {
	    "collapsed": true
	   },
	   "outputs": [],
"source": [
"// Chapter 8_Metal Semiconductor and Semiconductor heterojunctions\n",
"//Caption_Equilibrium electrostatics\n",
"//Ex_8//page 333\n",
"Nd=10^16    //donor impurity\n",
"Na=10^16    //acceptor impurity\n",
"ni=2.4*10^13     //intrinsic ion concentration\n",
"T=300\n",
"e=1.6*10^-19\n",
"xi_n=4.13     //electron affinity\n",
"xi_p=4.07\n",
"del_Ec=(xi_n-xi_p)    //difference between two conduction band energies\n",
"del_Eg=1.43-0.67\n",
"\n",
"del_Ev=del_Eg-del_Ec    //difference between two valence band energies\n",
"pno=ni^2/Nd\n",
"Ncp=6*10^18\n",
"Ncn=7*10^18\n",
"Vbi=del_Ev+(0.0259*log(Na*Ncp/(pno*Ncn)))\n",
"printf('Difference between two conduction band energies is %1.2f eV ,difference between two valence band energies is %f eV and Vbi=%fV',del_Ec,del_Ev,Vbi)"
   ]
   }
],
"metadata": {
		  "kernelspec": {
		   "display_name": "Scilab",
		   "language": "scilab",
		   "name": "scilab"
		  },
		  "language_info": {
		   "file_extension": ".sce",
		   "help_links": [
			{
			 "text": "MetaKernel Magics",
			 "url": "https://github.com/calysto/metakernel/blob/master/metakernel/magics/README.md"
			}
		   ],
		   "mimetype": "text/x-octave",
		   "name": "scilab",
		   "version": "0.7.1"
		  }
		 },
		 "nbformat": 4,
		 "nbformat_minor": 0
}
