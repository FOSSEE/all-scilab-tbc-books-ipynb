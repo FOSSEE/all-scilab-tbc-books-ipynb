{
"cells": [
 {
		   "cell_type": "markdown",
	   "metadata": {},
	   "source": [
       "# Chapter 5: Analysis Methods"
	   ]
	},
{
		   "cell_type": "markdown",
		   "metadata": {},
		   "source": [
			"## Example 5.8: Thevenin_and_Norton_theorem.sce"
		   ]
		  },
  {
"cell_type": "code",
	   "execution_count": null,
	   "metadata": {
	    "collapsed": true
	   },
	   "outputs": [],
"source": [
"clc\n",
"//From figure 5.13(a)\n",
"//Applying KVL equation to the loop \n",
"I=(20+10)/(3+6)\n",
"//As current will not flow in upper 3 ohm resistor so Thevenin voltage is equal to either of the two parallel branches\n",
"V1=20-I*3\n",
"printf('Thevenin voltage = %dV\n',V1)\n",
"\n",
"// Left 3 ohm and 6 ohm resistor are in parallel and their equivalent is in series with 3 ohm\n",
"R1=3+(3*6)/(3+6)\n",
"printf('Thevenin resistance =%dohm\n',R1)\n",
"\n",
"//Now to find Norton's equivalent\n",
"I1=V1/R1\n",
"printf('\n Norton current =%dA\n',I1)\n",
"disp('The value of resistance in Norton equivalent will not change but will come in parallel with current source')\n",
"\n",
"\n",
""
   ]
   }
],
"metadata": {
		  "kernelspec": {
		   "display_name": "Scilab",
		   "language": "scilab",
		   "name": "scilab"
		  },
		  "language_info": {
		   "file_extension": ".sce",
		   "help_links": [
			{
			 "text": "MetaKernel Magics",
			 "url": "https://github.com/calysto/metakernel/blob/master/metakernel/magics/README.md"
			}
		   ],
		   "mimetype": "text/x-octave",
		   "name": "scilab",
		   "version": "0.7.1"
		  }
		 },
		 "nbformat": 4,
		 "nbformat_minor": 0
}
