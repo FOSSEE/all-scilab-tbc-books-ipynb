{
"cells": [
 {
		   "cell_type": "markdown",
	   "metadata": {},
	   "source": [
       "# Chapter 15: Mutual Inductance and Transformers"
	   ]
	},
{
		   "cell_type": "markdown",
		   "metadata": {},
		   "source": [
			"## Example 15.4: Energy_in_a_pair_of_coupled_coils.sce"
		   ]
		  },
  {
"cell_type": "code",
	   "execution_count": null,
	   "metadata": {
	    "collapsed": true
	   },
	   "outputs": [],
"source": [
"clc\n",
"disp('Example 15.4')\n",
"printf('\n')\n",
"\n",
"printf('Given')\n",
"disp('L1=0.1H L2=0.2H')\n",
"disp('i1=4A i2=10A')\n",
"L1=0.1;L2=0.2\n",
"i1=4;i2=10;\n",
"//The energy stored in coupled coils is\n",
"disp('W=(L1*i1^2)/2+(L2*i2^2)/2+M*i1*i2')\n",
"\n",
"disp('a)')\n",
"M=0.1;\n",
"W=(L1*i1^2)/2+(L2*i2^2)/2+M*i1*i2;\n",
"printf('Total Energy in the coils=%3.2fJ\n',W);\n",
"\n",
"disp('b)')\n",
"M=sqrt(2)/10;\n",
"W=(L1*i1^2)/2+(L2*i2^2)/2+M*i1*i2;\n",
"printf('Total Energy in the coils=%3.2fJ\n',W);\n",
"\n",
"disp('c)')\n",
"M=-0.1;\n",
"W=(L1*i1^2)/2+(L2*i2^2)/2+M*i1*i2;\n",
"printf('Total Energy in the coils=%3.2fJ\n',W);\n",
"\n",
"disp('a)')\n",
"M=-sqrt(2)/10;\n",
"W=(L1*i1^2)/2+(L2*i2^2)/2+M*i1*i2;\n",
"printf('Total Energy in the coils=%3.2fJ\n',W);\n",
"\n",
"\n",
""
   ]
   }
,
{
		   "cell_type": "markdown",
		   "metadata": {},
		   "source": [
			"## Example 15.7: Ampere_Turn_Dot_rule.sce"
		   ]
		  },
  {
"cell_type": "code",
	   "execution_count": null,
	   "metadata": {
	    "collapsed": true
	   },
	   "outputs": [],
"source": [
"clc\n",
"disp('Example 15.7')\n",
"printf('\n')\n",
"\n",
"printf('Given')\n",
"disp('N1=20 N2=N3=10')\n",
"disp('I2=10(-53.13 deg) I3=10(-45 deg)')\n",
"N1=20;N2=10;N3=10;\n",
"I2mag=10;I2ph=-53.13;\n",
"I3mag=10;I3ph=-45;\n",
"//From figure 15.14\n",
"disp('N1*I1-N2*I2-N3*I3=0')\n",
"//Solving for I1\n",
"Xmag=N2*I2mag \n",
"Xph=I2ph\n",
"x=Xmag*cos((Xph*%pi)/180);\n",
"y=Xmag*sin((Xph*%pi)/180);\n",
"z=complex(x,y)\n",
"\n",
"Ymag=N3*I3mag \n",
"Yph=I3ph\n",
"x1=Ymag*cos((Yph*%pi)/180);\n",
"y1=Ymag*sin((Yph*%pi)/180);\n",
"z1=complex(x1,y1)\n",
"\n",
"I1=(z+z1)/N1\n",
"[R,Theta]=polar(I1);\n",
"printf('I1=%3.2f(%3.2f deg) A\n',R,(Theta*180)/%pi);\n",
""
   ]
   }
,
{
		   "cell_type": "markdown",
		   "metadata": {},
		   "source": [
			"## Example 15.8: Reflected_Impedance.sce"
		   ]
		  },
  {
"cell_type": "code",
	   "execution_count": null,
	   "metadata": {
	    "collapsed": true
	   },
	   "outputs": [],
"source": [
"clc\n",
"disp('Example 15.8')\n",
"printf('\n')\n",
"\n",
"printf('Given')\n",
"disp('L1=0.2H L2=0.1H')\n",
"disp('M=0.1H R=10ohm')\n",
"disp('v1=142.3*sin(100*t)')\n",
"L1=0.2;L2=0.1\n",
"M=0.1;R=10;\n",
"v1mag=142.3;\n",
"w=100;\n",
"//Let Input impedance be Z1 and can be calculated as\n",
"//From the equations in 15.10\n",
"disp('Z1=%i*w*L1+((M*w)^2)/(Z2+%i*w*L2)')\n",
"Z1=%i*w*L1+((M*w)^2)/(R+%i*w*L2)\n",
"[R,Theta]=polar(Z1)\n",
"//If I1 is the input current\n",
"I1mag=v1mag/R\n",
"I1ph=-(Theta*180)/%pi\n",
"//In time domain form\n",
"printf('i1=%3.1f*sin(%d*t%3.1f deg) (A)',I1mag,w,I1ph);"
   ]
   }
,
{
		   "cell_type": "markdown",
		   "metadata": {},
		   "source": [
			"## Example 15.9: Reflected_Impedance.sce"
		   ]
		  },
  {
"cell_type": "code",
	   "execution_count": null,
	   "metadata": {
	    "collapsed": true
	   },
	   "outputs": [],
"source": [
"clc\n",
"disp('Example 15.9')\n",
"printf('\n')\n",
"\n",
"s=%s;\n",
"printf('Given')\n",
"disp('L1=0.2H L2=0.1H')\n",
"disp('M=0.1H R=10ohm')\n",
"disp('v1=u(t) a unit step function')\n",
"L1=0.2;L2=0.1\n",
"M=0.1;R=10;\n",
"v1=1;\n",
"w=100;\n",
"//Let Input impedance be Z1 and can be calculated as\n",
"//From the equations in 15.10\n",
"disp('Z1(s)=L1*s-((M*s)^2)/(R+L2*s)')\n",
"Z1=L1*s-(((M*s)^2)/(R+L2*s))\n",
"//Proper rearranging of co-efficients\n",
"Num=Z1('num')/0.01\n",
"Den=Z1('den')*100\n",
"\n",
"disp(Num/Den,'Z1(s)')\n",
"Y1=1/Z1\n",
"disp(Den/Num,'Y1(s)')\n",
"\n",
"//As the input is unit step function the value is 1V for t>0\n",
"//In exponential form the value is represented as exp(s*t) with s=0 as the pole of Y1(s)\n",
"\n",
"//Therefore forced response\n",
"k=1/L1;\n",
"printf('Forced response i1,f=(%d*t) (A)\n',k);\n",
"\n",
""
   ]
   }
],
"metadata": {
		  "kernelspec": {
		   "display_name": "Scilab",
		   "language": "scilab",
		   "name": "scilab"
		  },
		  "language_info": {
		   "file_extension": ".sce",
		   "help_links": [
			{
			 "text": "MetaKernel Magics",
			 "url": "https://github.com/calysto/metakernel/blob/master/metakernel/magics/README.md"
			}
		   ],
		   "mimetype": "text/x-octave",
		   "name": "scilab",
		   "version": "0.7.1"
		  }
		 },
		 "nbformat": 4,
		 "nbformat_minor": 0
}
