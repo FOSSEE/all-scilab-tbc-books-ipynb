{
"cells": [
 {
		   "cell_type": "markdown",
	   "metadata": {},
	   "source": [
       "# Chapter 13: Frequency Response Filters and Resonance"
	   ]
	},
{
		   "cell_type": "markdown",
		   "metadata": {},
		   "source": [
			"## Example 13.2: High_pass_and_Low_pass_networks.sce"
		   ]
		  },
  {
"cell_type": "code",
	   "execution_count": null,
	   "metadata": {
	    "collapsed": true
	   },
	   "outputs": [],
"source": [
"clc\n",
"disp('Problem 13.2')\n",
"printf('\n')\n",
"\n",
"printf('Given')\n",
"disp('|Hv|=1/sqrt(2)             (1)')\n",
"disp('Resistance R1=5kohm')\n",
"R1=5000;\n",
"disp('Hv(w)=1/1+%i*(w/wx)        (2)')\n",
"//wx=1/(R1*C2)\n",
"//On solving we get\n",
"disp('wx=2*10^-4/C2              (3)')\n",
"\n",
"disp('a)')\n",
"C2=10*10^-9;\n",
"//Taking modulus of (2)\n",
"disp('|Hv(w)|=1/sqrt(1+(w/wx)^2)')\n",
"//Equating (1) and (2)\n",
"wx=2*10^-4/C2;\n",
"fx=(wx/(2*%pi))*10^-3\n",
"printf('Frequency(a) is %3.2fkHz\n',fx)\n",
"\n",
"disp('b)')\n",
"C2b=1*10^-9;\n",
"//As frequency is inversely proportional to C2 (from (3))\n",
"fx1=(C2/C2b)*fx\n",
"printf('Frequency(b) is %3.2fkHz\n',fx1)\n",
"\n",
"\n",
"\n",
""
   ]
   }
,
{
		   "cell_type": "markdown",
		   "metadata": {},
		   "source": [
			"## Example 13.7: Bandpass_filters_and_Resonance.sce"
		   ]
		  },
  {
"cell_type": "code",
	   "execution_count": null,
	   "metadata": {
	    "collapsed": true
	   },
	   "outputs": [],
"source": [
"clc\n",
"disp('Problem 13.7')\n",
"printf('\n')\n",
"\n",
"s=%s;\n",
"printf('Given')\n",
"H=(10*s)/(s^2+300*s+10^6)\n",
"disp(H,'H(s)=')\n",
"//From the above transfer function\n",
"//Comparing the denominator with s^2+a*s+b with w=sqrt(b)\n",
"a=300;b=10^6;\n",
"//Therefore center frequency is\n",
"w0=sqrt(10^6)\n",
"//The lower and upper frequencies are\n",
"wl=sqrt(a^2/4+b)-a/2\n",
"wh=sqrt(a^2/4+b)+a/2\n",
"B=wh-wl        //It can be inferred that B=a\n",
"Q=sqrt(b)/a\n",
"printf('\nCenter frequency= %drad/s\n',w0);\n",
"printf('Low power frequency = %3.2frad/s\nHigh power frequency = %3.2frad/s\n',wl,wh);\n",
"printf('Bandwidth= %drad/s\nQuality factor =%3.2f\n',B,Q)"
   ]
   }
,
{
		   "cell_type": "markdown",
		   "metadata": {},
		   "source": [
			"## Example 13.8: Bandpass_filters_and_Resonance.sce"
		   ]
		  },
  {
"cell_type": "code",
	   "execution_count": null,
	   "metadata": {
	    "collapsed": true
	   },
	   "outputs": [],
"source": [
"clc\n",
"disp('Problem 13.8')\n",
"printf('\n')\n",
"\n",
"s=%s;\n",
"printf('Given')\n",
"H=(10*s)/(s^2+30*s+10^6)\n",
"disp(H,'H(s)=')\n",
"//From the above transfer function\n",
"//Comparing the denominator with s^2+a*s+b with w=sqrt(b)\n",
"a=30;b=10^6;\n",
"//Therefore center frequency is\n",
"w0=sqrt(10^6)\n",
"//The lower and upper frequencies are\n",
"wl=sqrt(a^2/4+b)-a/2\n",
"wh=sqrt(a^2/4+b)+a/2\n",
"B=wh-wl\n",
"Q=sqrt(b)/a\n",
"printf('\nCenter frequency= %drad/s\n',w0);\n",
"printf('Low power frequency = %3.2frad/s\nHigh power frequency = %3.2frad/s\n',wl,wh);\n",
"printf('Bandwidth= %drad/s\nQuality factor =%3.2f\n',B,Q)"
   ]
   }
],
"metadata": {
		  "kernelspec": {
		   "display_name": "Scilab",
		   "language": "scilab",
		   "name": "scilab"
		  },
		  "language_info": {
		   "file_extension": ".sce",
		   "help_links": [
			{
			 "text": "MetaKernel Magics",
			 "url": "https://github.com/calysto/metakernel/blob/master/metakernel/magics/README.md"
			}
		   ],
		   "mimetype": "text/x-octave",
		   "name": "scilab",
		   "version": "0.7.1"
		  }
		 },
		 "nbformat": 4,
		 "nbformat_minor": 0
}
