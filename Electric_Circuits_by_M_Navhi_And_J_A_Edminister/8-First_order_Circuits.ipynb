{
"cells": [
 {
		   "cell_type": "markdown",
	   "metadata": {},
	   "source": [
       "# Chapter 8: First order Circuits"
	   ]
	},
{
		   "cell_type": "markdown",
		   "metadata": {},
		   "source": [
			"## Example 8.10: Transitions_at_Switching_Time.sce"
		   ]
		  },
  {
"cell_type": "code",
	   "execution_count": null,
	   "metadata": {
	    "collapsed": true
	   },
	   "outputs": [],
"source": [
"clc\n",
"disp('Example 8.10')\n",
"printf('\n')\n",
"\n",
"printf('Given')\n",
"disp('vs= 5V         t<0')\n",
"disp('vs=5*sin(w*t)  t>0')\n",
"vs=5;\n",
"R=5;L=10*10^-3;\n",
"//At t<0\n",
"//Inductor behaves as a short circuit\n",
"//Let i(0-)=i\n",
"i=vs/R;\n",
"printf('i(0-)=%dA\n',i)\n",
"//During the transition from t=0- to t=0+\n",
"//Let i(0+)=i1\n",
"i1=i\n",
"printf('i(0+)=%dA\n',i1)\n",
"//Applying KVL equation to the loop\n",
"disp('vs=i*R+v')\n",
"//Let v(0+)=v1 ; vs(0+)=vs1\n",
"//From given vs(0+)=0\n",
"vs1=0;\n",
"v1=vs1-i*R\n",
"printf('\nv(0+)=%dV\n',v1)"
   ]
   }
,
{
		   "cell_type": "markdown",
		   "metadata": {},
		   "source": [
			"## Example 8.1: Capacitor_Discharge_in_a_Resistor.sce"
		   ]
		  },
  {
"cell_type": "code",
	   "execution_count": null,
	   "metadata": {
	    "collapsed": true
	   },
	   "outputs": [],
"source": [
"clc\n",
"disp('Example 8.1')\n",
"printf('\n')\n",
"\n",
"printf('Given')\n",
"disp('Capacitance is 1uF')\n",
"disp('Resistance is 1Mohm')\n",
"disp('Voltage across capacitor is 10V')\n",
"R=1*10^6;C=1*10^-6;V=10\n",
"//Let T be time constant\n",
"T=R*C\n",
"//v(t)=V*exp(-t/T)\n",
"disp('v(t)=10*exp(-t)      (1)')\n",
"//Substituting value of t=5 in (1)\n",
"v5=10*exp(-5)\n",
"printf('Time constant is %ds\n',T)\n",
"printf('v(5)=%0.3fV\n',v5)"
   ]
   }
],
"metadata": {
		  "kernelspec": {
		   "display_name": "Scilab",
		   "language": "scilab",
		   "name": "scilab"
		  },
		  "language_info": {
		   "file_extension": ".sce",
		   "help_links": [
			{
			 "text": "MetaKernel Magics",
			 "url": "https://github.com/calysto/metakernel/blob/master/metakernel/magics/README.md"
			}
		   ],
		   "mimetype": "text/x-octave",
		   "name": "scilab",
		   "version": "0.7.1"
		  }
		 },
		 "nbformat": 4,
		 "nbformat_minor": 0
}
