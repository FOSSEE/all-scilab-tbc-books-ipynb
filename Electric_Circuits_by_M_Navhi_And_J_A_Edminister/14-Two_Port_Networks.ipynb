{
"cells": [
 {
		   "cell_type": "markdown",
	   "metadata": {},
	   "source": [
       "# Chapter 14: Two Port Networks"
	   ]
	},
{
		   "cell_type": "markdown",
		   "metadata": {},
		   "source": [
			"## Example 14.10: Choice_of_parameter_type.sce"
		   ]
		  },
  {
"cell_type": "code",
	   "execution_count": null,
	   "metadata": {
	    "collapsed": true
	   },
	   "outputs": [],
"source": [
"clc\n",
"disp('Example 14.10')\n",
"printf('\n')\n",
"\n",
"s=%s;\n",
"//Applying KVL equation to the two loops we get\n",
"//V1=3*I1+3*(I1+I2)\n",
"//V2=7*I1+3*(I1+I2)+2*I2\n",
"\n",
"//On solving we get\n",
"disp('6*I1+3*I2=V1         (1)');\n",
"disp('10*I1+5*I2=V2        (2)');\n",
"\n",
"//The equations which contain Z parameters are\n",
"//V1=Z11*I1+Z12*I2\n",
"//V2=Z21*I1+Z22*I2\n",
"\n",
"//On comparing (1) and (2) with above equations\n",
"Z11=6;\n",
"Z12=3;\n",
"Z21=10;\n",
"Z22=5;\n",
"\n",
"disp(Z11,'Z11=')\n",
"disp(Z12,'Z12=')\n",
"disp(Z21,'Z21=')\n",
"disp(Z22,'Z22=')\n",
"\n",
"disp('As DZZ results in zero(0) therefore Y parameters are not defined ')"
   ]
   }
,
{
		   "cell_type": "markdown",
		   "metadata": {},
		   "source": [
			"## Example 14.1: Z_parameters.sce"
		   ]
		  },
  {
"cell_type": "code",
	   "execution_count": null,
	   "metadata": {
	    "collapsed": true
	   },
	   "outputs": [],
"source": [
"clc\n",
"disp('Example 14.1')\n",
"printf('\n')\n",
"\n",
"s=%s;\n",
"//Applying KVL equation to the two loops we get\n",
"//V1=2*I1+s*(I1+I2)\n",
"//V2=3*I2+s*(I1+I2)\n",
"\n",
"//On solving we get\n",
"disp('(s+2)*I1+s*I2=V1        (1)');\n",
"disp('s*I1+(s+3)*I2=V2        (2)');\n",
"\n",
"//The equations which contain Z parameters are\n",
"//V1=Z11*I1+Z12*I2\n",
"//V2=Z21*I1+Z22*I2\n",
"\n",
"//On comparing (1) and (2) with above equations\n",
"Z11=s+2;\n",
"Z12=s;\n",
"Z21=s;\n",
"Z22=s+3;\n",
"\n",
"disp(Z11,'Z11=')\n",
"disp(Z12,'Z12=')\n",
"disp(Z21,'Z21=')\n",
"disp(Z22,'Z22=')\n",
"\n",
""
   ]
   }
,
{
		   "cell_type": "markdown",
		   "metadata": {},
		   "source": [
			"## Example 14.2: Reciprocal_and_non_reciprocal_networks.sce"
		   ]
		  },
  {
"cell_type": "code",
	   "execution_count": null,
	   "metadata": {
	    "collapsed": true
	   },
	   "outputs": [],
"source": [
"clc\n",
"disp('Example 14.2')\n",
"printf('\n')\n",
"\n",
"s=%s;\n",
"//Applying KVL equation to the two loops we get\n",
"//V1=2*I1+s*(I1+I2)-I2\n",
"//V2=3*I2+s*(I1+I2)\n",
"\n",
"//On solving we get\n",
"disp('(s+2)*I1+(s-1)*I2=V1    (1)');\n",
"disp('s*I1+(s+3)*I2=V2        (2)');\n",
"\n",
"//The equations which contain Z parameters are\n",
"//V1=Z11*I1+Z12*I2\n",
"//V2=Z21*I1+Z22*I2\n",
"\n",
"//On comparing (1) and (2) with above equations\n",
"Z11=s+2;\n",
"Z12=s-1;\n",
"Z21=s;\n",
"Z22=s+3;\n",
"\n",
"disp(Z11,'Z11=')\n",
"disp(Z12,'Z12=')\n",
"disp(Z21,'Z21=')\n",
"disp(Z22,'Z22=')"
   ]
   }
,
{
		   "cell_type": "markdown",
		   "metadata": {},
		   "source": [
			"## Example 14.4: Y_parameters.sce"
		   ]
		  },
  {
"cell_type": "code",
	   "execution_count": null,
	   "metadata": {
	    "collapsed": true
	   },
	   "outputs": [],
"source": [
"clc\n",
"disp('Example 14.4')\n",
"printf('\n')\n",
"\n",
"s=%s;\n",
"Ya=3/(5*s+6);\n",
"Yb=2/(5*s+6);\n",
"Yc=s/(5*s+6);\n",
"\n",
"//Writing KCL equations \n",
"disp('I1=(Ya+Yc)*V1-Yc*V2        (1)')\n",
"disp('I2=-Yc*V1+(Yb+Yc)*V2       (2)')\n",
"\n",
"//The equations which contain Y parameters are\n",
"//I1=Y11*V1+Y12*V2\n",
"//I2=Y21*V1+Y22*V2\n",
"\n",
"//On comparing (1) and (2) with above equations\n",
"disp('Y11=Ya+Yc')\n",
"disp('Y12=-Yc=Y21')\n",
"disp('Y22=Yb+Yc')\n",
"\n",
"//Substituting Ya , Yb and Yc\n",
"Y11=Ya+Yc\n",
"Y12=-Yc\n",
"Y21=-Yc\n",
"Y22=Yb+Yc\n",
"\n",
"disp(Y11,'Y11=')\n",
"disp(Y12,'Y12=')\n",
"disp(Y21,'Y21=')\n",
"disp(Y22,'Y22=')\n",
""
   ]
   }
,
{
		   "cell_type": "markdown",
		   "metadata": {},
		   "source": [
			"## Example 14.6: Conversion_between_Z_and_Y_parameters.sce"
		   ]
		  },
  {
"cell_type": "code",
	   "execution_count": null,
	   "metadata": {
	    "collapsed": true
	   },
	   "outputs": [],
"source": [
"clc\n",
"disp('Example 14.6')\n",
"printf('\n')\n",
"\n",
"s=%s;\n",
"//From example 14.4\n",
"\n",
"Y11=(3 + s)/(5*s+6)\n",
"Y12=- s/(6 + 5*s)\n",
"Y21=- s/(6 + 5*s)\n",
"Y22=(2+s)/(6+5*s)   \n",
"\n",
"DYY=Y11*Y22-Y12*Y21\n",
"\n",
"Z11=Y22/DYY;\n",
"Z12=-Y12/DYY;\n",
"Z21=-Y21/DYY;\n",
"Z22=Y11/DYY;\n",
"\n",
"disp(Z11,'Z11=')\n",
"disp(Z12,'Z12=')\n",
"disp(Z21,'Z21=')\n",
"disp(Z22,'Z22=')"
   ]
   }
,
{
		   "cell_type": "markdown",
		   "metadata": {},
		   "source": [
			"## Example 14.7: H_parameters.sce"
		   ]
		  },
  {
"cell_type": "code",
	   "execution_count": null,
	   "metadata": {
	    "collapsed": true
	   },
	   "outputs": [],
"source": [
"clc\n",
"disp('Example 14.7')\n",
"printf('\n')\n",
"\n",
"//From figure 14.9\n",
"disp('V1=50*I1        (1)');\n",
"disp('I2=300*I1       (2)');\n",
"\n",
"//The equations which contain h parameters are\n",
"//V1=h11*I1+h12*V2\n",
"//I2=h21*I1+h22*V2\n",
"\n",
"//On comparing (1) and (2) with above equations\n",
"\n",
"printf('\nh11=%d\n',50);\n",
"printf('h12=%d\n',0);\n",
"printf('h21=%d\n',300);\n",
"printf('h22=%d\n',0);"
   ]
   }
,
{
		   "cell_type": "markdown",
		   "metadata": {},
		   "source": [
			"## Example 14.8: g_parameters.sce"
		   ]
		  },
  {
"cell_type": "code",
	   "execution_count": null,
	   "metadata": {
	    "collapsed": true
	   },
	   "outputs": [],
"source": [
"clc\n",
"disp('Example 14.8')\n",
"printf('\n')\n",
"\n",
"//From figure 14.10\n",
"//By inspection\n",
"//V1=10^9*I1\n",
"//V2=10(I2-10^-3*V1)\n",
"\n",
"\n",
"//On solving we get\n",
"disp('I1=10^-9*V1              (1)');\n",
"disp('V2=10*I2-10^-2*V1        (2)');\n",
"\n",
"\n",
"//The equations which contain g parameters are\n",
"//I1=g11*V1+g12*I2\n",
"//V2=g21*V1+g22*I2\n",
"\n",
"//On comparing (1) and (2) with above equations\n",
"\n",
"printf('\ng11=%2.1e\n',10^-9);\n",
"printf('g12=%d\n',0);\n",
"printf('g21=%2.1e\n',-10^-2);\n",
"printf('g22=%d\n',10);"
   ]
   }
],
"metadata": {
		  "kernelspec": {
		   "display_name": "Scilab",
		   "language": "scilab",
		   "name": "scilab"
		  },
		  "language_info": {
		   "file_extension": ".sce",
		   "help_links": [
			{
			 "text": "MetaKernel Magics",
			 "url": "https://github.com/calysto/metakernel/blob/master/metakernel/magics/README.md"
			}
		   ],
		   "mimetype": "text/x-octave",
		   "name": "scilab",
		   "version": "0.7.1"
		  }
		 },
		 "nbformat": 4,
		 "nbformat_minor": 0
}
