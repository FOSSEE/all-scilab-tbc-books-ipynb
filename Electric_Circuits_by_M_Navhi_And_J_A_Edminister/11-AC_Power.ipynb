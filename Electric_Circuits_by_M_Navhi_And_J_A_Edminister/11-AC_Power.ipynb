{
"cells": [
 {
		   "cell_type": "markdown",
	   "metadata": {},
	   "source": [
       "# Chapter 11: AC Power"
	   ]
	},
{
		   "cell_type": "markdown",
		   "metadata": {},
		   "source": [
			"## Example 11.10: Complex_power_Apparent_power_and_Power_triangle.sce"
		   ]
		  },
  {
"cell_type": "code",
	   "execution_count": null,
	   "metadata": {
	    "collapsed": true
	   },
	   "outputs": [],
"source": [
"clc\n",
"disp('Problem 11.10')\n",
"printf('\n')\n",
"\n",
"printf('Given')\n",
"disp('Veff=10V v=10*sqrt(2)*cos(w*t)');\n",
"Veff=10;vmag=10*1.414\n",
"\n",
"disp('a)')\n",
"Z1=1+%i\n",
"[R,Theta]=polar(Z1)\n",
"printf('i1=%d*cos(w*t-%d)\n',(vmag/R),Theta)\n",
"I1eff=(vmag/R)/1.414\n",
"//p1(t)=100*sqrt(2)*cos(wt)*cos(wt-45)\n",
"//On solving\n",
"disp('p1(t)=50+50*sqrt(2)*cos(2*w*t-45) W')\n",
"P1=Veff*I1eff*cos(Theta)\n",
"Q1=Veff*I1eff*sin(Theta)\n",
"S1=P1+%i*Q1\n",
"S1mag=sqrt(P1^2+Q1^2)\n",
"pf1=P1/S1mag\n",
"printf('P1=%dW\nQ1=%dvar\npf1=%0.4f(lag)\n',P1,Q1,pf1)\n",
"\n",
"\n",
"disp('b)')\n",
"Z2=1-%i\n",
"[R,Theta]=polar(Z2)\n",
"printf('i2=%d*cos(w*t%d)\n',(vmag/R),Theta)\n",
"I2eff=(vmag/R)/1.414\n",
"//p2(t)=100*sqrt(2)*cos(wt)*cos(wt+45)\n",
"//On solving\n",
"disp('p2(t)=50+50*sqrt(2)*cos(2*w*t+45) W')\n",
"P2=Veff*I2eff*cos(Theta)\n",
"Q2=Veff*I2eff*sin(Theta)\n",
"S2=P2+%i*Q2\n",
"S2mag=sqrt(P2^2+Q2^2)\n",
"pf2=P2/S2mag\n",
"printf('P2=%dW\nQ2=%dvar\npf2=%0.4f(lag)\n',P2,Q2,pf2)\n",
"\n",
"disp('c)')\n",
"Zmag=(Z1*Z2)/(Z1+Z2)\n",
"printf('i=%d*cos(w*t)\n',(vmag/Zmag))\n",
"Ieff=(vmag/Zmag)/1.414\n",
"//p(t)=100*sqrt(2)*sqrt(2)*cos(wt)*cos(wt)\n",
"//On solving\n",
"disp('p2(t)=200*cos(w*t)^2 W')\n",
"P=Veff*Ieff\n",
"Q=0\n",
"S=P+%i*Q\n",
"Smag=sqrt(P^2+Q^2)\n",
"pf=P/Smag\n",
"printf('P=%dW\nQ=%dvar\npf=%0.4f\n',P,Q,pf)\n",
"\n",
"\n",
"\n",
""
   ]
   }
,
{
		   "cell_type": "markdown",
		   "metadata": {},
		   "source": [
			"## Example 11.11: Complex_power_Apparent_power_and_Power_triangle.sce"
		   ]
		  },
  {
"cell_type": "code",
	   "execution_count": null,
	   "metadata": {
	    "collapsed": true
	   },
	   "outputs": [],
"source": [
"clc\n",
"disp('Problem 11.11')\n",
"printf('\n')\n",
"\n",
"printf('Given')\n",
"disp('v=42.5*cos(1000*t+30 deg)V Z=3+i4 ohm')\n",
"Vmag=42.5;\n",
"Z=3+%i*4;\n",
"R=sqrt(3^2+4^2)\n",
"Theta=atan(4/3)*(180/%pi)\n",
"Veffm=Vmag/sqrt(2)\n",
"Veffph=30\n",
"Ieffm=Veffm/R\n",
"Ieffph=30-Theta\n",
"\n",
"Smag=Veffm*Ieffm\n",
"Sph=Veffph-Ieffph\n",
"x=Smag*cos((Sph*%pi)/180)\n",
"y=Smag*sin((Sph*%pi)/180)\n",
"z=complex(x,y)\n",
"pf=cos((Theta*%pi)/180);\n",
"\n",
"printf('Real Power is %fW\n',x)\n",
"printf('Reactive Power is %fvar(inductive)\n',y)\n",
"printf('Complex Power is %fVA\n',Smag)\n",
"printf('Power factor is %3.1f(lag)\n',pf)\n",
""
   ]
   }
,
{
		   "cell_type": "markdown",
		   "metadata": {},
		   "source": [
			"## Example 11.12: Parallel_connected_Networks.sce"
		   ]
		  },
  {
"cell_type": "code",
	   "execution_count": null,
	   "metadata": {
	    "collapsed": true
	   },
	   "outputs": [],
"source": [
"clc\n",
"disp('Problem 11.12')\n",
"printf('\n')\n",
"\n",
"printf('Given')\n",
"disp('pf1=1 ; pf2=0.5 ; pf3=0.5')\n",
"disp('P1=10kW;P2=20kW;P3=15kW')\n",
"disp('Power supply is 6kV')\n",
"P1=10000;P2=20000;P3=15000;\n",
"Veff=6000;\n",
"pf1=1   //implifies that theta1=0\n",
"t1=0\n",
"Q1=P1*t1\n",
"\n",
"pf2=0.5   //implifies that theta1=60\n",
"t2=1.73;\n",
"Q2=P2*t2\n",
"\n",
"pf3=1   //implifies that theta1=53.13\n",
"t3=1.33;\n",
"Q3=P3*t3\n",
"\n",
"PT=P1+P2+P3\n",
"QT=Q1+Q2+Q3\n",
"ST=sqrt(PT^2+QT^2)\n",
"pfT=PT/ST\n",
"Ieff=ST/Veff\n",
"Ieffph=acos(pfT)*(180/%pi)\n",
"printf('PT=%dW\nQT=%dvar\nST=%dVA\npf=%0.2f(lag)\nIeff=%3.1f(%3.2f deg)\n',PT,QT,ST,pfT,Ieff,Ieffph)"
   ]
   }
,
{
		   "cell_type": "markdown",
		   "metadata": {},
		   "source": [
			"## Example 11.13: Power_factor_improvement.sce"
		   ]
		  },
  {
"cell_type": "code",
	   "execution_count": null,
	   "metadata": {
	    "collapsed": true
	   },
	   "outputs": [],
"source": [
"clc\n",
"disp('Problem 11.13')\n",
"printf('\n')\n",
"\n",
"printf('Given')\n",
"disp('Power factor is 0.95(lag)')\n",
"vmag=240;Zmag=3.5;Zph=25;\n",
"I1mag=vmag/Zmag;iph=0-Zph;\n",
"//Smag=Veff*Ieff\n",
"Smag=(vmag/sqrt(2))*(I1mag/sqrt(2))\n",
"Sph=0+abs(iph)\n",
"x=Smag*cos((Sph*%pi)/180)\n",
"y=Smag*sin((Sph*%pi)/180)\n",
"z=complex(x,y)\n",
"pf=0.95\n",
"theta=acos(0.95)*(180/%pi)\n",
"//From fig 11.11\n",
"//Solving for Qc\n",
"Qc=y-(tan((theta*%pi)/180)*x)\n",
"printf('\n Qc=%dvar(Capacitive )\n',Qc)"
   ]
   }
,
{
		   "cell_type": "markdown",
		   "metadata": {},
		   "source": [
			"## Example 11.14: Power_factor_improvement.sce"
		   ]
		  },
  {
"cell_type": "code",
	   "execution_count": null,
	   "metadata": {
	    "collapsed": true
	   },
	   "outputs": [],
"source": [
"clc\n",
"disp('Problem 11.14')\n",
"printf('\n')\n",
"\n",
"printf('Given')\n",
"disp('Power =1000kW ; pf=0.5(lag)')\n",
"disp('Voltage source is 5kV')\n",
"disp('Improved power factor is 0.8')\n",
"\n",
"//Before improvement\n",
"P=1000*10^3;\n",
"pf=0.5;V=5*10^3;\n",
"S=(P/pf)*10^-3\n",
"I=S/V\n",
"\n",
"//After improvement\n",
"P=1000*10^3;\n",
"pf=0.8;V=5*10^3;\n",
"S=(P/pf)*10^-3\n",
"I1=S/V\n",
"\n",
"disp('Current is reduced by ')\n",
"red=((I-I1)/I)*100\n",
"printf('Percentage reduction in current is %3.1fpercent\n',red)\n",
""
   ]
   }
,
{
		   "cell_type": "markdown",
		   "metadata": {},
		   "source": [
			"## Example 11.16: Maximum_power_transfer.sce"
		   ]
		  },
  {
"cell_type": "code",
	   "execution_count": null,
	   "metadata": {
	    "collapsed": true
	   },
	   "outputs": [],
"source": [
"clc\n",
"disp('Problem 11.16')\n",
"printf('\n')\n",
"\n",
"printf('Given')\n",
"disp('Vg=100V(rms)')\n",
"disp('Zg=1+i Z1=2')\n",
"Vg=100;\n",
"\n",
"disp('a)')\n",
"Zg=1+%i;\n",
"Z1=2\n",
"Z=Z1+Zg\n",
"Zmag=sqrt(real(Z)^2+imag(Z)^2)\n",
"I=Vg/Zmag\n",
"PZ1=real(Z1)*(I^2)\n",
"Pg=real(Zg)*(I^2)\n",
"PT=PZ1+Pg\n",
"printf('PZ=%dW\n Pg=%dW\n PT=%dW\n',PZ1,Pg,PT);\n",
"\n",
"disp('b)')\n",
"//If Z2=a+i*b\n",
"//Zg*=1-i\n",
"//Given that\n",
"//(Z1*Z2)/(Z1+Z2)=1-i\n",
"//As Z1=2 and solving for Z2\n",
"  disp(-%i,'Z2=') \n",
"  \n",
"disp('c)')\n",
"//If Z2 is taken the value as calculated in b) then Z=1-i\n",
"Zg=1+%i;\n",
"Z1=2;\n",
"Z=1-%i;\n",
"Zt=Z+Zg\n",
"Zmag=sqrt(real(Zt)^2+imag(Zt)^2)\n",
"I=Vg/Zmag\n",
"PZ=real(Z)*(I^2)\n",
"Pg=real(Zg)*(I^2)\n",
"//To calculate PZ1 and PZ2 we need to first calculate IZ1 nad IZ2\n",
"VZ=I*(1-%i)\n",
"IZ1=VZ/Z1\n",
"IZ1mag=sqrt(real(IZ1)^2+imag(IZ1)^2)\n",
"PZ1=real(Z1)*(IZ1mag^2)\n",
"PZ2=PZ-PZ1\n",
"PT=PZ1+PZ2+Pg\n",
"printf('PZ=%dW\n Pg=%dW\n PT=%dW\n',PZ,Pg,PT);"
   ]
   }
,
{
		   "cell_type": "markdown",
		   "metadata": {},
		   "source": [
			"## Example 11.17: Superposition_of_average_powers.sce"
		   ]
		  },
  {
"cell_type": "code",
	   "execution_count": null,
	   "metadata": {
	    "collapsed": true
	   },
	   "outputs": [],
"source": [
"clc\n",
"disp('Problem 11.17')\n",
"printf('\n')\n",
"\n",
"printf('Given')\n",
"disp('v1=5*cos(w1*t)  v2=10*cos(w2*t+60)')\n",
"//The circuit is modeled as\n",
"disp('Resistance is 10ohm and inductance is 5mH')\n",
"R=10;L=5*10^-3;\n",
"//Let V be phasor voltage between the terminals\n",
"Vmag=10;\n",
"Vph=60; \n",
"x=Vmag*cos((Vph*%pi)/180);\n",
"y=Vmag*sin((Vph*%pi)/180);\n",
"z=complex(x,y)\n",
"\n",
"disp('a)')\n",
"w1=2000;w2=4000;\n",
"//Let Z be the impedance of the coil\n",
"Z1=R+%i*L*w1\n",
"Z2=R+%i*L*w2\n",
"V1=5;\n",
"//By applying superposition i=i1-i2\n",
"I1=V1/Z1\n",
"[R1,Theta]=polar(I1)\n",
"printf('i1=%0.2f*cos(%dt%d deg)\n',R1,w1,(Theta*180)/%pi);\n",
"P1=(R*R1^2)/2\n",
"\n",
"V2mag=10;V2ph=60;\n",
"I2=z/Z2\n",
"[R2,Theta1]=polar(I2)\n",
"printf('i2=%0.2f*cos(%dt%3.2f deg)\n',R2,w2,(Theta1*180)/%pi);\n",
"P2=(R*R2^2)/2\n",
"\n",
"//i=i1-i2\n",
"printf('i=%0.2f*cos(%dt%d deg)-%0.2f*cos(%dt%3.2f deg)\n',R1,w1,(Theta*180)/%pi,R2,w2,(Theta1*180)/%pi)\n",
"\n",
"printf('P1=%0.3fW\nP2=%3.1fW\nTotal power(P)=%3.3fW\n',P1,P2,(P1+P2))\n",
"\n",
"disp('b)')\n",
"//From problem 10.7\n",
"imagn=0.61\n",
"P=(R*imagn^2)/2\n",
"printf('Power dissipated in the coil=%3.3fW\n',P)\n",
"\n",
"disp('c)')\n",
"w1=2000;w2=1414;\n",
"//Let Z be the impedance of the coil\n",
"Z1=R+%i*L*w1\n",
"Z2=R+%i*L*w2\n",
"V1=5;\n",
"//By applying superposition i=i1-i2\n",
"I1=V1/Z1\n",
"[R1,Theta]=polar(I1)\n",
"printf('i1=%0.2f*cos(%dt%d deg)\n',R1,w1,(Theta*180)/%pi);\n",
"P1=(R*R1^2)/2\n",
"\n",
"V2mag=10;V2ph=60;\n",
"x1=V2mag*cos((V2ph*%pi)/180);\n",
"y1=V2mag*sin((V2ph*%pi)/180);\n",
"z1=complex(x1,y1)\n",
"I3=z1/Z2\n",
"[R3,Theta3]=polar(I3)\n",
"printf('i2=%0.2f*cos(%dt+%3.2f deg)\n',R3,w2,(Theta3*180)/%pi);\n",
"P3=(R*R3^2)/2\n",
"\n",
"//i=i1-i2\n",
"printf('i=%0.2f*cos(%dt%d deg)-%0.2f*cos(%dt+%3.2f deg)\n',R1,w1,(Theta*180)/%pi,R3,w2,(Theta3*180)/%pi)\n",
"\n",
"printf('P1=%0.3fW\nP2=%3.1fW\nTotal power(P)=%3.3fW\n',P1,P3,(P1+P3))\n",
"\n",
"\n",
"\n",
"\n",
"\n",
"\n",
"\n",
"\n",
"\n",
""
   ]
   }
,
{
		   "cell_type": "markdown",
		   "metadata": {},
		   "source": [
			"## Example 11.1: Power_in_time_domain.sce"
		   ]
		  },
  {
"cell_type": "code",
	   "execution_count": null,
	   "metadata": {
	    "collapsed": true
	   },
	   "outputs": [],
"source": [
"clc\n",
"disp('Problem 11.1')\n",
"printf('\n')\n",
"\n",
"printf('Given')\n",
"disp('Resistance =1000ohm')\n",
"t=0:0.5:1;\n",
"i=1;i1=-1;\n",
"figure\n",
"a=gca()\n",
"plot(t,i,t+1,i1,t+2,i,t+3,i1)\n",
"xtitle('i vs t','t in ms','i in mA')\n",
"i=1*10^-3;R=1000;\n",
"//p=i^2*R\n",
"p=i^2*R;\n",
"figure\n",
"a=gca()\n",
"plot(t,p)\n",
"xtitle('p vs t','t in ms','p in mW')\n",
""
   ]
   }
,
{
		   "cell_type": "markdown",
		   "metadata": {},
		   "source": [
			"## Example 11.2: Power_in_time_domain.sce"
		   ]
		  },
  {
"cell_type": "code",
	   "execution_count": null,
	   "metadata": {
	    "collapsed": true
	   },
	   "outputs": [],
"source": [
"clc\n",
"disp('Problem 11.2')\n",
"printf('\n')\n",
"\n",
"t=0:0.5:1;\n",
"i=1;i1=-1;\n",
"figure\n",
"a=gca()\n",
"plot(t,i,t+1,i1)\n",
"xtitle('i vs t','t in ms','i in mA')\n",
"//Voltage across capacitor vC=(1/C)*integrate(i*dt)\n",
"//On integration\n",
"t=0:0.0005:0.001\n",
"v=2000*t\n",
"v1=2-v;\n",
"figure\n",
"a=gca()\n",
"plot(t,v,t+0.001,v1,t+0.002,v,t+0.003,v1)\n",
"xtitle('v vs t','t in ms','v in V')\n",
"\n",
"//Power is p=v*i\n",
"t=0:.0005:.001\n",
"p=2000*t\n",
"p1=p-2;\n",
"figure\n",
"a=gca()\n",
"plot(t,p,t+0.001,p1,t+0.002,p,t+0.003,p1)\n",
"xtitle('p vs t','t in ms','p in W')\n",
"\n",
"//Work is (C*v^2)/2\n",
"t=0:.0005:.001\n",
"w=t^2\n",
"w1=t^2+1*10^-6-(2*10^-3*t);\n",
"figure\n",
"a=gca()\n",
"plot(t,w,t+0.001,w1,t+0.002,w,t+0.003,w1)\n",
"xtitle('w vs t','t in ms','w in J')"
   ]
   }
,
{
		   "cell_type": "markdown",
		   "metadata": {},
		   "source": [
			"## Example 11.4: Average_or_Real_Power.sce"
		   ]
		  },
  {
"cell_type": "code",
	   "execution_count": null,
	   "metadata": {
	    "collapsed": true
	   },
	   "outputs": [],
"source": [
"clc\n",
"disp('Problem 11.4')\n",
"printf('\n')\n",
"\n",
"printf('Given')\n",
"disp('Veff=110V Z=10+i8 ohm')\n",
"Veff=110;\n",
"Z=10+%i*8\n",
"Zmag=sqrt(10^2+8^2)\n",
"Zph=(atan(8/10)*180)/%pi\n",
"P=(Veff^2*R)/(Zmag^2)\n",
"pf=cos((Zph*%pi)/180)\n",
"\n",
"disp(pf,'Power factor is')"
   ]
   }
,
{
		   "cell_type": "markdown",
		   "metadata": {},
		   "source": [
			"## Example 11.5: Reactive_Power.sce"
		   ]
		  },
  {
"cell_type": "code",
	   "execution_count": null,
	   "metadata": {
	    "collapsed": true
	   },
	   "outputs": [],
"source": [
"clc\n",
"disp('Problem 11.5')\n",
"printf('\n')\n",
"\n",
"printf('Given')\n",
"disp('Veff=110V Ieff=20(-50 deg)')\n",
"Imagn=20;Iph =-50;\n",
"Veff=110;\n",
"\n",
"P=Veff*Imagn*cos((abs(Iph)*%pi)/180)\n",
"Q=Veff*Imagn*sin((abs(Iph)*%pi)/180)\n",
"printf('Average power is %3.1fW\n',P)\n",
"printf('Reactive power is %3.1fvar\n',Q)\n",
""
   ]
   }
],
"metadata": {
		  "kernelspec": {
		   "display_name": "Scilab",
		   "language": "scilab",
		   "name": "scilab"
		  },
		  "language_info": {
		   "file_extension": ".sce",
		   "help_links": [
			{
			 "text": "MetaKernel Magics",
			 "url": "https://github.com/calysto/metakernel/blob/master/metakernel/magics/README.md"
			}
		   ],
		   "mimetype": "text/x-octave",
		   "name": "scilab",
		   "version": "0.7.1"
		  }
		 },
		 "nbformat": 4,
		 "nbformat_minor": 0
}
