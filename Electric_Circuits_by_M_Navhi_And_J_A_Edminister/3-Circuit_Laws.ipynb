{
"cells": [
 {
		   "cell_type": "markdown",
	   "metadata": {},
	   "source": [
       "# Chapter 3: Circuit Laws"
	   ]
	},
{
		   "cell_type": "markdown",
		   "metadata": {},
		   "source": [
			"## Example 3.3: Circuit_elements_in_series.sce"
		   ]
		  },
  {
"cell_type": "code",
	   "execution_count": null,
	   "metadata": {
	    "collapsed": true
	   },
	   "outputs": [],
"source": [
"clc\n",
"disp('Example 3.3')\n",
"printf('\n')\n",
"printf('Given')\n",
"disp('Equivalent resistance of three resistors is 750 ohm')\n",
"disp('values of two resistors are 40 ohm and 410 ohm')\n",
"Req=750;R1=40;R2=410;\n",
"\n",
"//For series resistance \n",
"disp('Req=R1+R2+R3')\n",
"//On solving for R3\n",
"R3=Req-R1-R2\n",
"printf('Value of third ohmic resistor is %dohm\n',R3)"
   ]
   }
,
{
		   "cell_type": "markdown",
		   "metadata": {},
		   "source": [
			"## Example 3.4: Circuit_elements_in_series.sce"
		   ]
		  },
  {
"cell_type": "code",
	   "execution_count": null,
	   "metadata": {
	    "collapsed": true
	   },
	   "outputs": [],
"source": [
"clc\n",
"disp('Example 3.4')\n",
"printf('\n')\n",
"printf('Given')\n",
"disp('values of two capacitors are 2uF and 10uF')\n",
"C1=2*10^-6;C2=10*10^-6;\n",
"//For two capacitors in series\n",
"disp('Ceq=(C1*C2)/(C1+C2)')\n",
"//On solving for Ceq\n",
"Ceq=((C1*C2)/(C1+C2))*10^6\n",
"printf('Value of equivalent capacitance is %3.2fuF\n',Ceq)\n",
"\n",
"disp('If C2=10pF')\n",
"C2=10*10^-12;\n",
"\n",
"Ceq=((C1*C2)/(C1+C2))*10^12\n",
"printf('Value of equivalent capacitance is %3.2fpF\n',Ceq)"
   ]
   }
,
{
		   "cell_type": "markdown",
		   "metadata": {},
		   "source": [
			"## Example 3.5: Circuit_elements_in_parallel.sce"
		   ]
		  },
  {
"cell_type": "code",
	   "execution_count": null,
	   "metadata": {
	    "collapsed": true
	   },
	   "outputs": [],
"source": [
"clc\n",
"disp('Example 3.5')\n",
"printf('\n')\n",
"printf('Given')\n",
"disp('a)')\n",
"disp('values of two resistors are 60 ohm and 60 ohm')\n",
"R1=60;R2=60;\n",
"disp('If resistors are parallel')\n",
"Req=(R1*R2)/(R1+R2)\n",
"printf('Value of equivalent resistance is %dohm\n',Req)\n",
"\n",
"disp('b)')\n",
"disp('values of three equal resistors are 60 ohm')\n",
"R1=60;R2=60;R3=60;\n",
"disp('If resistors are parallel')\n",
"x=1/R1+1/R2+1/R3\n",
"Req=1/x;\n",
"printf('Value of equivalent resistance is %dohm\n',Req)"
   ]
   }
,
{
		   "cell_type": "markdown",
		   "metadata": {},
		   "source": [
			"## Example 3.6: Circuit_elements_in_parallel.sce"
		   ]
		  },
  {
"cell_type": "code",
	   "execution_count": null,
	   "metadata": {
	    "collapsed": true
	   },
	   "outputs": [],
"source": [
"clc\n",
"disp('Example 3.6')\n",
"printf('\n')\n",
"printf('Given')\n",
"\n",
"disp('values of two inductors are 3mH and 6 mH')\n",
"L1=3*10^-3;L2=6*10^-3;\n",
"disp('If inductors are parallel')\n",
"Leq=((L1*L2)/(L1+L2))*10^3\n",
"printf('Value of equivalent inductance is %3.1fmH\n',Leq)\n",
""
   ]
   }
,
{
		   "cell_type": "markdown",
		   "metadata": {},
		   "source": [
			"## Example 3.7: Voltage_divisio.sce"
		   ]
		  },
  {
"cell_type": "code",
	   "execution_count": null,
	   "metadata": {
	    "collapsed": true
	   },
	   "outputs": [],
"source": [
"clc\n",
"disp('Example 3.7')\n",
"printf('\n')\n",
"printf('Given')\n",
"disp('Total resistance of three resistors is 50 ohm')\n",
"R=50;\n",
"disp('Output voltage is 10 percent of the input voltage')\n",
"//Let v be input voltage and v1 be output voltage\n",
"//Let v1/v=V\n",
"V=0.1;\n",
"//As V=R1/(Total resistance)\n",
"//Solving for R1\n",
"R1=V*R;\n",
"//As R=R1+R2\n",
"//Solving for R2\n",
"R2=R-R1;\n",
"printf('R1=%dohm\n R2=%dohm\n',R1,R2)\n",
"\n",
""
   ]
   }
,
{
		   "cell_type": "markdown",
		   "metadata": {},
		   "source": [
			"## Example 3.8: Current_division.sce"
		   ]
		  },
  {
"cell_type": "code",
	   "execution_count": null,
	   "metadata": {
	    "collapsed": true
	   },
	   "outputs": [],
"source": [
"clc\n",
"disp('Example 3.8')\n",
"printf('\n')\n",
"printf('Given')\n",
"disp('Total current is 30mA')\n",
"disp('Branch currents are 20mA and 10mA')\n",
"disp('Equivalent resistance is equal to or greater than 10 ohm')\n",
"\n",
"//From Fig 3.6\n",
"//Current flowing through R1 be i1 and let it be equal to 10mA\n",
"//Current flowing through R2 be i2 and let it be equal to 20mA\n",
"i1=10*10^-3;i2=20*10^-3;\n",
"i=30*10^-3;\n",
"\n",
"//Let R1/(R1+R2)=X1        (1)\n",
"//Let R2/(R1+R2)=X2        (2)\n",
"X1=i1/i;\n",
"X2=i2/i;\n",
"//Let R1*R2(R1+R2)=Y        (3)\n",
"//Given that \n",
"printf('\n Given')\n",
"disp('R1*R2(R1+R2)>=10')\n",
"//Solving (1),(2) and (3) we get\n",
"printf('R1>=%dohm\nR2>=%dohm\n',15,30)"
   ]
   }
],
"metadata": {
		  "kernelspec": {
		   "display_name": "Scilab",
		   "language": "scilab",
		   "name": "scilab"
		  },
		  "language_info": {
		   "file_extension": ".sce",
		   "help_links": [
			{
			 "text": "MetaKernel Magics",
			 "url": "https://github.com/calysto/metakernel/blob/master/metakernel/magics/README.md"
			}
		   ],
		   "mimetype": "text/x-octave",
		   "name": "scilab",
		   "version": "0.7.1"
		  }
		 },
		 "nbformat": 4,
		 "nbformat_minor": 0
}
