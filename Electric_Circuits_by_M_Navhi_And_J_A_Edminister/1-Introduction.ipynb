{
"cells": [
 {
		   "cell_type": "markdown",
	   "metadata": {},
	   "source": [
       "# Chapter 1: Introduction"
	   ]
	},
{
		   "cell_type": "markdown",
		   "metadata": {},
		   "source": [
			"## Example 1.1: Force_Work_and_Power.sce"
		   ]
		  },
  {
"cell_type": "code",
	   "execution_count": null,
	   "metadata": {
	    "collapsed": true
	   },
	   "outputs": [],
"source": [
"clc\n",
"disp('Example 1.1')\n",
"printf('\n')\n",
"printf('Given')\n",
"disp('Acceleration is 2.0m/s^2')\n",
"disp('Mass is 10kg')\n",
"m=10;a=2;\n",
"disp('a)')\n",
"disp('F=m*a')\n",
"F=m*a\n",
"printf('Force is %dN\n',F)\n",
"disp('b)')\n",
"printf('time=4s\n')\n",
"t=4;\n",
"x=(a*t*t)/2\n",
"KE=(F*x)\n",
"P=KE/t\n",
"printf('Position is %dm\n',x)\n",
"printf('Kinetic energy =%3.1fJ\n',KE)\n",
"printf('Power =%3.1fW\n',P)"
   ]
   }
,
{
		   "cell_type": "markdown",
		   "metadata": {},
		   "source": [
			"## Example 1.2: Electric_Charge_and_Current.sce"
		   ]
		  },
  {
"cell_type": "code",
	   "execution_count": null,
	   "metadata": {
	    "collapsed": true
	   },
	   "outputs": [],
"source": [
"clc\n",
"disp('Example 1.2')\n",
"printf('\n')\n",
"printf('Given')\n",
"disp('Current flow is 5A')\n",
"disp('Time is 1 minute')\n",
"i=5;\n",
"//As electroms/min is asked so we need to convert A(C/s) to C/min\n",
"i1=5*60;\n",
"//Let e be electronic charge\n",
"e=1.602*10^-19\n",
"n=(i1/e)\n",
"printf('Number of electrons =%3.2f electrons/min\n',n)"
   ]
   }
,
{
		   "cell_type": "markdown",
		   "metadata": {},
		   "source": [
			"## Example 1.3: Electric_Potential.sce"
		   ]
		  },
  {
"cell_type": "code",
	   "execution_count": null,
	   "metadata": {
	    "collapsed": true
	   },
	   "outputs": [],
"source": [
"clc\n",
"disp('Example 1.3')\n",
"printf('\n')\n",
"printf('Given')\n",
"disp('Energy is 9.25uJ')\n",
"disp('Charge to be transferred is 0.5uC')\n",
"E=9.25*10^-6;q=0.5*10^-6;\n",
"//1 volt is 1 joule per coulomb\n",
"V=E/q;\n",
"printf('Potential difference between two points a and b is %3.1fV\n',V)"
   ]
   }
,
{
		   "cell_type": "markdown",
		   "metadata": {},
		   "source": [
			"## Example 1.4: Energy_and_Electrical_Power.sce"
		   ]
		  },
  {
"cell_type": "code",
	   "execution_count": null,
	   "metadata": {
	    "collapsed": true
	   },
	   "outputs": [],
"source": [
"clc\n",
"disp('Example 1.4')\n",
"printf('\n')\n",
"printf('Given')\n",
"disp('Potential difference is 50V')\n",
"disp('Charge per minute is 120C/min')\n",
"V=50;x=120;\n",
"//As Electrical energy is to be calculated charge per minute is to be converted in charge per second\n",
"//Charge per second is nothing but the current\n",
"i=x/60;\n",
"P=i*V;\n",
"//Since is 1W=1J/s\n",
"printf('Rate of energy conversion is %dJ/s\n',P)\n",
""
   ]
   }
],
"metadata": {
		  "kernelspec": {
		   "display_name": "Scilab",
		   "language": "scilab",
		   "name": "scilab"
		  },
		  "language_info": {
		   "file_extension": ".sce",
		   "help_links": [
			{
			 "text": "MetaKernel Magics",
			 "url": "https://github.com/calysto/metakernel/blob/master/metakernel/magics/README.md"
			}
		   ],
		   "mimetype": "text/x-octave",
		   "name": "scilab",
		   "version": "0.7.1"
		  }
		 },
		 "nbformat": 4,
		 "nbformat_minor": 0
}
