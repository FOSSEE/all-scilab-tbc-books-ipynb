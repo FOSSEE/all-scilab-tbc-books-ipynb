{
"cells": [
 {
		   "cell_type": "markdown",
	   "metadata": {},
	   "source": [
       "# Chapter 9: Higher order circuits and Complex frequency"
	   ]
	},
{
		   "cell_type": "markdown",
		   "metadata": {},
		   "source": [
			"## Example 9.11: The_Natural_Response.sce"
		   ]
		  },
  {
"cell_type": "code",
	   "execution_count": null,
	   "metadata": {
	    "collapsed": true
	   },
	   "outputs": [],
"source": [
"clc\n",
"disp('Example 9.11')\n",
"printf('\n')\n",
"\n",
"//From figure 9.16\n",
"//H(s)=V(s)/I(s)=Z(s)\n",
"//Let V(s)=1 the H(s)=Z(s)\n",
"s=%s\n",
"z1=(1/2.5)+(3/(5*s))+(s/20)\n",
"Z=1/z1\n",
"Dem=Z('den')\n",
"//The roots are\n",
"q=roots(Dem)\n",
"disp(q,'Poles are')\n",
"\n",
""
   ]
   }
,
{
		   "cell_type": "markdown",
		   "metadata": {},
		   "source": [
			"## Example 9.6: Generalized_Impedance_RLC_in_s_domain.sce"
		   ]
		  },
  {
"cell_type": "code",
	   "execution_count": null,
	   "metadata": {
	    "collapsed": true
	   },
	   "outputs": [],
"source": [
"clc\n",
"disp('Example 9.6')\n",
"printf('\n')\n",
"\n",
"printf('Given')\n",
"disp('Resistance is 10ohm and inductance is 2H')\n",
"disp('Applied voltage is 10*exp(-2*t)*cos(10*t+30)')\n",
"s=%s;\n",
"//For a RL circuit\n",
"//Applying KVL equation \n",
"//v=i*R+L*d/dt(i)    (1)\n",
"//As v=10(30 deg)    (2)\n",
"//Equating (1) and (2) \n",
"// Let i=I*exp(s*t)    (3)\n",
"// 10(30 deg)*exp(s*t)=10*I*exp(s*t)+2*s*I*exp(s*t)')\n",
"//Solving for I\n",
"disp('I=10(30 deg)/10+2*s')\n",
"s=-2+%i*10\n",
"a=10+2*s\n",
"x=10*cos((30*%pi)/180);\n",
"y=10*sin((30*%pi)/180);\n",
"z=complex(x,y)\n",
"I=z/a\n",
"b=real(I);\n",
"c=imag(I);\n",
"magn=sqrt(b^2+c^2)\n",
"ph=(atan(c/b)*180)/%pi\n",
"//From (3)\n",
"printf('\ni=%0.2f*exp(-2*t)*cos(10t%3.1f deg) (A)\n',magn,ph);\n",
"\n",
"\n",
""
   ]
   }
,
{
		   "cell_type": "markdown",
		   "metadata": {},
		   "source": [
			"## Example 9.7: Generalized_Impedance_RLC_in_s_domain.sce"
		   ]
		  },
  {
"cell_type": "code",
	   "execution_count": null,
	   "metadata": {
	    "collapsed": true
	   },
	   "outputs": [],
"source": [
"clc\n",
"disp('Example 9.7')\n",
"printf('\n')\n",
"\n",
"printf('Given')\n",
"disp('Resistance is 10ohm and Capacitance is 0.2F')\n",
"disp('Applied voltage is 10*exp(-2*t)*cos(10*t+30)')\n",
"s=%s;\n",
"//For a RC circuit\n",
"//Applying KVL equation \n",
"//v=i*R+(1/C)*integrate(i*dt)    (1)\n",
"//As v=10(30 deg)    (2)\n",
"//Equating (1) and (2) \n",
"// Let i=I*exp(s*t)    (3)\n",
"// 10(30 deg)*exp(s*t)=10*I*exp(s*t)+(5/s)*I*exp(s*t)')\n",
"//Solving for I\n",
"disp('I=10(30 deg)/10+(5/s)')\n",
"s=-2+%i*10\n",
"a=10+(5/s)\n",
"x=10*cos((30*%pi)/180);\n",
"y=10*sin((30*%pi)/180);\n",
"z=complex(x,y)\n",
"I=z/a\n",
"b=real(I);\n",
"c=imag(I);\n",
"magn=sqrt(b^2+c^2)\n",
"ph=(atan(c/b)*180)/%pi\n",
"//From (3)\n",
"printf('\ni=%0.2f*exp(-2*t)*cos(10t+%3.1f deg) (A)\n',magn,ph);\n",
"\n",
""
   ]
   }
,
{
		   "cell_type": "markdown",
		   "metadata": {},
		   "source": [
			"## Example 9.8: Network_function_and_Pole_zero_plots.sce"
		   ]
		  },
  {
"cell_type": "code",
	   "execution_count": null,
	   "metadata": {
	    "collapsed": true
	   },
	   "outputs": [],
"source": [
"clc\n",
"disp('Example 9.8')\n",
"printf('\n')\n",
"\n",
"s=%s ;\n",
"\n",
"//From figure 9.13\n",
"disp('Z(s)=(2.5+((5*s/3)*(20/s))/(5*s/3+20/s))')\n",
"//On solving\n",
"z1=poly([12 8 1],'s','coeff')\n",
"z2=poly([12 0 1],'s','coeff')\n",
"Z=2.5*(z1/z2)\n",
"disp(Z,'Z(s)')\n",
"//H(s)=I(s)/Z(s)\n",
"//Let I(s)=1 the H(s)=1/Z(s)\n",
"H=(1/2.5)*(z2/z1)\n",
"disp(H,'H(s)')\n",
""
   ]
   }
,
{
		   "cell_type": "markdown",
		   "metadata": {},
		   "source": [
			"## Example 9.9: The_Forced_Response.sce"
		   ]
		  },
  {
"cell_type": "code",
	   "execution_count": null,
	   "metadata": {
	    "collapsed": true
	   },
	   "outputs": [],
"source": [
"clc\n",
"disp('Example 9.9')\n",
"printf('\n')\n",
"\n",
"s=%s ;\n",
"H=syslin ( 'c',(0.4*(s^2+12))/((s+2)*(s+6) ) ) ;\n",
"evans (H,1)\n",
"//If s=1Np/s\n",
"H1=0.4*(1+12)/((1+2)*(1+6))\n",
"printf('H(1)=%0.3f\n',H1)\n",
" "
   ]
   }
],
"metadata": {
		  "kernelspec": {
		   "display_name": "Scilab",
		   "language": "scilab",
		   "name": "scilab"
		  },
		  "language_info": {
		   "file_extension": ".sce",
		   "help_links": [
			{
			 "text": "MetaKernel Magics",
			 "url": "https://github.com/calysto/metakernel/blob/master/metakernel/magics/README.md"
			}
		   ],
		   "mimetype": "text/x-octave",
		   "name": "scilab",
		   "version": "0.7.1"
		  }
		 },
		 "nbformat": 4,
		 "nbformat_minor": 0
}
