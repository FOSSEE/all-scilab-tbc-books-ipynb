{
"cells": [
 {
		   "cell_type": "markdown",
	   "metadata": {},
	   "source": [
       "# Chapter 2: Circuit Concepts"
	   ]
	},
{
		   "cell_type": "markdown",
		   "metadata": {},
		   "source": [
			"## Example 2.1: Resistance.sce"
		   ]
		  },
  {
"cell_type": "code",
	   "execution_count": null,
	   "metadata": {
	    "collapsed": true
	   },
	   "outputs": [],
"source": [
"disp('Example 2.1')\n",
"printf('\n')\n",
"printf('Given')\n",
"disp('Resistance used is 4 ohm')\n",
"disp('Current flow is i=2.5*sin(w*t)')\n",
"disp('Angular frequency(w)=500 rad/s')\n",
"R=4;\n",
"iamp=2.5;w=500;\n",
"t=0:0.001:0.012566\n",
"i=2.5*sin(w*t)\n",
"Vamp=iamp*R;\n",
"printf('v=%d*sin(%d*t)(V)\n',Vamp,w)\n",
"pamp=iamp*iamp*R;\n",
"printf('p=%d(sin(%d*t))^2(W)\n',pamp,w)\n",
"p=pamp*sin(w*t)^2;\n",
"//On integrating p with respect to t\n",
"W=25*(t/2-sin(2*w*t)/(4*w))\n",
"function p=f(t),p=pamp*sin(w*t)^2,endfunction\n",
"w1=intg(0,2*%pi/w,f);\n",
"subplot(221)\n",
"plot(t,i)\n",
"xtitle ('i vs wt','wt','i ');\n",
"subplot(222)\n",
"plot(t,p)\n",
"xtitle ('p vs wt','wt','p ');\n",
"subplot(223)\n",
"plot(t,W)\n",
"xtitle ('w vs wt','wt','w ');"
   ]
   }
,
{
		   "cell_type": "markdown",
		   "metadata": {},
		   "source": [
			"## Example 2.2: Inductance.sce"
		   ]
		  },
  {
"cell_type": "code",
	   "execution_count": null,
	   "metadata": {
	    "collapsed": true
	   },
	   "outputs": [],
"source": [
"clc\n",
"disp('Example 2.2')\n",
"printf('\n')\n",
"printf('Given')\n",
"disp('Inductance used is 30mH')\n",
"disp('Current flow is i=10*sin(50*t)')\n",
"L=30*10^-3;iamp=10;\n",
"t=0:0.01:0.06283;\n",
"i=10*sin(50*t)\n",
"//v=L*d/dt(i)\n",
"//d/dt(sin 50t)=50*cos t\n",
"vamp=L*iamp*50;\n",
"v=vamp*cos(50*t)\n",
"//sinA*cosB=(sin(A+B)+sin(A-B))/2\n",
"pamp=vamp*iamp/2;\n",
"p=pamp*sin(100*t)\n",
"//On integrating 'p' w.r.t  t\n",
"wL=0.75*(1-cos(100*t));\n",
"subplot(221)\n",
"plot(t,i)\n",
"xtitle ('i vs wt','wt','i');\n",
"subplot(222)\n",
"plot(t,v)\n",
"xtitle ('v vs wt','wt','v ');\n",
"subplot(223)\n",
"plot(t,p)\n",
"xtitle ('p vs wt','wt','p ');\n",
"subplot(224)\n",
"plot(t,wL)\n",
"xtitle ('wL vs wt','wt','wL ');"
   ]
   }
,
{
		   "cell_type": "markdown",
		   "metadata": {},
		   "source": [
			"## Example 2.3: Capacitance.sce"
		   ]
		  },
  {
"cell_type": "code",
	   "execution_count": null,
	   "metadata": {
	    "collapsed": true
	   },
	   "outputs": [],
"source": [
"clc\n",
"disp('Example 2.3')\n",
"printf('\n')\n",
"printf('Given')\n",
"disp('Capacitance used is 20uF')\n",
"disp('Voltage is v=50*sin(200*t)')\n",
"C=20*10^-6;\n",
"// Given that v=50*sin(200*t);\n",
"vamp=50;\n",
"t=0:0.001:0.015;\n",
"//q=C*v\n",
"qamp=vamp*C\n",
"q=qamp*sin(200*t)\n",
"//i=C*d/dt(v)\n",
"//d/dt(sin 200t)=200*cos t\n",
"iamp=C*vamp*200;\n",
"i=iamp*cos(200*t)\n",
"\n",
"//sinA*cosB=(sin(A+B)+sin(A-B))/2\n",
"\n",
"pamp=vamp*iamp/2;\n",
"p=pamp*sin(400*t)\n",
"\n",
"//On integrating 'p' w.r.t  t\n",
"\n",
"wC=12.5*(1-cos(400*t));\n",
"\n",
"figure\n",
"a= gca ();\n",
"plot(t,wC)\n",
"xtitle ('wC vs wt','wt','wC (mJ)');\n",
"a. thickness = 2;\n",
"\n",
"\n",
""
   ]
   }
,
{
		   "cell_type": "markdown",
		   "metadata": {},
		   "source": [
			"## Example 2.4: Nonlinear_Resistors.sce"
		   ]
		  },
  {
"cell_type": "code",
	   "execution_count": null,
	   "metadata": {
	    "collapsed": true
	   },
	   "outputs": [],
"source": [
"clc\n",
"disp('Example 2.4')\n",
"printf('\n')\n",
"printf('Given')\n",
"disp('Current through diode is 30mA')\n",
"//From the table the nearest value is at v=0.74V\n",
"V=0.74;I=28.7*10^-3;\n",
"R=V/I;\n",
"delV=0.75-0.73\n",
"delI=42.7*10^-3-19.2*10^-3\n",
"r=delV/delI\n",
"p=(V*I)*10^3\n",
"printf('\n \n Static resistance is %3.2fohm\n',R)\n",
"printf('Dynamic resistance is %3.2fohm\n',r)\n",
"printf('Power consumption is %3.2fmW\n',p)\n",
"\n",
""
   ]
   }
,
{
		   "cell_type": "markdown",
		   "metadata": {},
		   "source": [
			"## Example 2.5: Nonlinear_Resistors.sce"
		   ]
		  },
  {
"cell_type": "code",
	   "execution_count": null,
	   "metadata": {
	    "collapsed": true
	   },
	   "outputs": [],
"source": [
"clc\n",
"disp('Example 2.5')\n",
"printf('\n')\n",
"printf('Given')\n",
"disp('a)')\n",
"disp('Current through diode is 10mA')\n",
"//From the table the  value is at v=2.5V\n",
"V=2.5;I=10*10^-3;\n",
"R=V/I;\n",
"delV=3-2\n",
"delI=11*10^-3-9*10^-3\n",
"r=delV/delI\n",
"p=(V*I)*10^3\n",
"printf('\n \n Static resistance is %3.2fohm\n',R)\n",
"printf('Dynamic resistance is %3.2fohm\n',r)\n",
"printf('Power consumption is %3.2fmW\n',p)\n",
"\n",
"disp('b)')\n",
"disp('Current through diode is 15mA')\n",
"//From the table the  value is at v=5V\n",
"V=5;I=15*10^-3;\n",
"R=V/I;\n",
"delV=5.5-4.5\n",
"delI=16*10^-3-14*10^-3\n",
"r=delV/delI\n",
"p=(V*I)*10^3\n",
"printf('\n \n Static resistance is %3.2fohm\n',R)\n",
"printf('Dynamic resistance is %3.2fohm\n',r)\n",
"printf('Power consumption is %3.2fmW\n',p)"
   ]
   }
],
"metadata": {
		  "kernelspec": {
		   "display_name": "Scilab",
		   "language": "scilab",
		   "name": "scilab"
		  },
		  "language_info": {
		   "file_extension": ".sce",
		   "help_links": [
			{
			 "text": "MetaKernel Magics",
			 "url": "https://github.com/calysto/metakernel/blob/master/metakernel/magics/README.md"
			}
		   ],
		   "mimetype": "text/x-octave",
		   "name": "scilab",
		   "version": "0.7.1"
		  }
		 },
		 "nbformat": 4,
		 "nbformat_minor": 0
}
