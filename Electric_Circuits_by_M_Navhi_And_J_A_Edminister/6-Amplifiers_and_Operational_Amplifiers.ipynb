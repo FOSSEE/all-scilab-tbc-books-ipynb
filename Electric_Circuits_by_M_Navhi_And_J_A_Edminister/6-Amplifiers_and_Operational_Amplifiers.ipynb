{
"cells": [
 {
		   "cell_type": "markdown",
	   "metadata": {},
	   "source": [
       "# Chapter 6: Amplifiers and Operational Amplifiers"
	   ]
	},
{
		   "cell_type": "markdown",
		   "metadata": {},
		   "source": [
			"## Example 6.10: Summing_circuit.sce"
		   ]
		  },
  {
"cell_type": "code",
	   "execution_count": null,
	   "metadata": {
	    "collapsed": true
	   },
	   "outputs": [],
"source": [
"clc\n",
"printf('Given')\n",
"disp('R1=1 ohm;R2=1/2 ohm;R3=1/4 ohm;R4=1/8 ohm')\n",
"disp('Rf=1 ohm')\n",
"//From figure 6.14\n",
"//THe output of summing circuit can be written as\n",
"disp('v0=-((Rf/R1)*v1+(Rf/R2)*v2+(Rf/R3)*v3+......')\n",
"//From above equation\n",
"disp('v0=-(8v4+4v3+2v2+v1)-----------(1)')\n",
"disp('a)')\n",
"v1=1;v2=0;v3=0;v4=1;\n",
"//Substituting in equation (1)\n",
"v0=-(8*v4+4*v3+2*v2+v1)\n",
"printf('v0=%dV\n',v0);\n",
"disp('b)')\n",
"v1=0;v2=1;v3=1;v4=1;\n",
"//Substituting in equation (1)\n",
"v0=-(8*v4+4*v3+2*v2+v1)\n",
"printf('v0=%dV\n',v0);"
   ]
   }
,
{
		   "cell_type": "markdown",
		   "metadata": {},
		   "source": [
			"## Example 6.8: Operational_amplifiers.sce"
		   ]
		  },
  {
"cell_type": "code",
	   "execution_count": null,
	   "metadata": {
	    "collapsed": true
	   },
	   "outputs": [],
"source": [
"clc\n",
"disp('Example 6.8')\n",
"printf('Given')\n",
"disp('R1= 10kohm R2=50kohm Ri=500kohm R0=0')\n",
"disp('Open loop gain (A)=10^5')\n",
"A=10^5;R1=10*10^3;R2=50*10^3;Ri=500*10^3;\n",
"//From figure 6.11\n",
"//Applying KCL equation at node B\n",
"disp('(v1+vd)/10+ (v2+vd)/50+ vd/500=0          (1)')\n",
"//Since R0=0\n",
"disp('v2=A*vd')\n",
"//Solving for vd\n",
"disp('vd=10^-5*v2      (2)')\n",
"//Substituting (2) in (1) we get\n",
"printf('v2/v1=%d\n',-5)"
   ]
   }
],
"metadata": {
		  "kernelspec": {
		   "display_name": "Scilab",
		   "language": "scilab",
		   "name": "scilab"
		  },
		  "language_info": {
		   "file_extension": ".sce",
		   "help_links": [
			{
			 "text": "MetaKernel Magics",
			 "url": "https://github.com/calysto/metakernel/blob/master/metakernel/magics/README.md"
			}
		   ],
		   "mimetype": "text/x-octave",
		   "name": "scilab",
		   "version": "0.7.1"
		  }
		 },
		 "nbformat": 4,
		 "nbformat_minor": 0
}
