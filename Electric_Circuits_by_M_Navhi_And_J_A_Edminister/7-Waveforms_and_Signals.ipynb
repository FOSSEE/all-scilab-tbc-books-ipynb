{
"cells": [
 {
		   "cell_type": "markdown",
	   "metadata": {},
	   "source": [
       "# Chapter 7: Waveforms and Signals"
	   ]
	},
{
		   "cell_type": "markdown",
		   "metadata": {},
		   "source": [
			"## Example 7.13: The_Average_and_Effective_RMS_values.sce"
		   ]
		  },
  {
"cell_type": "code",
	   "execution_count": null,
	   "metadata": {
	    "collapsed": true
	   },
	   "outputs": [],
"source": [
"clc\n",
"disp('Example 7.13')\n",
"printf('\n')\n",
"\n",
"printf('Given')\n",
"disp('Capacitance is 1uF')\n",
"C=1*10^-6;\n",
"disp('a)')\n",
"//Let k=1 which results in t=5ms\n",
"t=5*10^-3;\n",
"vac=(integrate('.004','t',0,0.003)-integrate('.002','t',0.003,0.005))/C;\n",
"printf('vac=%dV\n',vac);\n",
"\n",
"//In general\n",
"disp('At t=5k voltage follows as v=8k ms')\n",
"\n",
"disp('b)')\n",
"//As vdc=1/C*integrate(Idc*dt)\n",
"//On solving for Idc\n",
"vdc=vac\n",
"Idc=(1/((integrate('1/vac','t',0,0.005))/C))*10^3\n",
"printf('Idc=%3.2fmA\n',Idc);\n",
"disp('Idc is equal to <i(t)> in the period of 5ms')\n",
""
   ]
   }
,
{
		   "cell_type": "markdown",
		   "metadata": {},
		   "source": [
			"## Example 7.17: The_Unit_Impulse_Function.sce"
		   ]
		  },
  {
"cell_type": "code",
	   "execution_count": null,
	   "metadata": {
	    "collapsed": true
	   },
	   "outputs": [],
"source": [
"clc\n",
"disp('Example 7.17')\n",
"printf('\n')\n",
"\n",
"printf('Given')\n",
"disp('Capacitance is 100nF')\n",
"disp('The voltage across capacitor increases linearly from 0 to 10V')\n",
"C=100*10^-9;\n",
"//From figure 7.10(a)\n",
"disp('a)')\n",
"//At t=T voltage across capacitor =10V\n",
"vc=10;\n",
"Q=C*vc;\n",
"printf('Charge across capacitor is %fC\n',Q)\n",
"disp('b)')\n",
"//The waveform shown in fig 7.10(a) can be written as\n",
"disp('0                 t<0')\n",
"disp('I0=10^-6/T        0<t<T')\n",
"disp('0                 t>T')\n",
"\n",
"\n",
"//For T=1s;\n",
"T=1;\n",
"I0=10^-6/T;\n",
"printf('I0(1s)=%fA\n',I0);\n",
"\n",
"//For T=1ms;\n",
"T=1*10^-3;\n",
"I0=10^-6/T;\n",
"printf('I0(1ms)=%0.3fA\n',I0);\n",
"\n",
"//For T=1us;\n",
"T=1*10^-6;\n",
"I0=10^-6/T;\n",
"printf('I0(1us)=%dA',I0);\n",
"\n",
"\n",
"\n",
""
   ]
   }
,
{
		   "cell_type": "markdown",
		   "metadata": {},
		   "source": [
			"## Example 7.1: Sinusoidal_Functions.sce"
		   ]
		  },
  {
"cell_type": "code",
	   "execution_count": null,
	   "metadata": {
	    "collapsed": true
	   },
	   "outputs": [],
"source": [
"clc\n",
"disp('Example 7.1')\n",
"printf('\n')\n",
"\n",
"t1=-5:0.5:8\n",
"v1=cos (t1)\n",
"figure\n",
"a= gca ();\n",
"plot(t1,v1)\n",
"xtitle ('v1 vs t1','t1','v1 ');\n",
"a. thickness = 2;\n",
"//From the graph\n",
"printf('Time period1= %3.3fs\n Frequency 1=%0.3fHz\n',6.2832,0.159)\n",
"\n",
"t2=-4:0.5:10\n",
"v2=sin (t2)\n",
"figure\n",
"a= gca ();\n",
"plot(t2,v2)\n",
"xtitle ('v2 vs t2','t2','v2 ');\n",
"a. thickness = 2;\n",
"//From the graph\n",
"printf('Time period 2= %3.3fs\n Frequency 2=%0.3fHz\n',6.2832,0.159)\n",
"\n",
"t3=-1:0.05:1.5\n",
"v3=2*cos (2*%pi*t3)\n",
"figure\n",
"a= gca ();\n",
"plot(t3,v3)\n",
"xtitle ('v3 vs t3','t3','v3 ');\n",
"a. thickness = 2;\n",
"//From the graph\n",
"printf('Time period 3= %ds\n Frequency 3=%dHz\n',1,1)\n",
"\n",
"t4=-5:0.5:12\n",
"v4=2*cos (%pi*t4/4-%pi/4)\n",
"figure\n",
"a= gca ();\n",
"plot(t4,v4)\n",
"xtitle ('v4 vs t4','t4','v4 ');\n",
"a. thickness = 2;\n",
"//From the graph\n",
"printf('Time period 4= %ds\n Frequency 4=%0.3fHz\n',8,0.125)\n",
"\n",
"t5=-1:0.005:1\n",
"v5=5*cos (10*t5+%pi/3)\n",
"figure\n",
"a= gca ();\n",
"plot(t5,v5)\n",
"xtitle ('v5 vs t5','t5','v5 ');\n",
"a. thickness = 2;\n",
"//From the graph\n",
"printf('Time period 5= %0.3fs\n Frequency 5=%3.2fHz\n',.62832,1.59)"
   ]
   }
,
{
		   "cell_type": "markdown",
		   "metadata": {},
		   "source": [
			"## Example 7.22: The_Exponential_Function.sce"
		   ]
		  },
  {
"cell_type": "code",
	   "execution_count": null,
	   "metadata": {
	    "collapsed": true
	   },
	   "outputs": [],
"source": [
"clc\n",
"disp('Example 7.22')\n",
"printf('\n')\n",
"\n",
"//The general equation of exponential decay function is given by\n",
"disp('v(t)=A*e(-t/T)+B')\n",
"//We need to solve A and B\n",
"//At t=0 we get v(0)=A+B    (1)\n",
"//at t=inf we get B=1       (2)\n",
"//Solving (1) and (2)\n",
"A=4;B=1;\n",
"T=3;\n",
"t=0:0.05:10\n",
"v=4*exp(-t/T)+1;\n",
"figure\n",
"a= gca ();\n",
"plot(t,v)\n",
"xtitle ('v vs t','t','v');\n",
"a. thickness = 2;\n",
""
   ]
   }
,
{
		   "cell_type": "markdown",
		   "metadata": {},
		   "source": [
			"## Example 7.23: The_Exponential_Function.sce"
		   ]
		  },
  {
"cell_type": "code",
	   "execution_count": null,
	   "metadata": {
	    "collapsed": true
	   },
	   "outputs": [],
"source": [
"clc\n",
"disp('Example 7.23')\n",
"printf('\n')\n",
"\n",
"//Sketch voltage 'v'\n",
"t=-.001:0.00005:0\n",
"t1=0:0.00005:.001\n",
"T=1*10^-3;\n",
"V0=10;\n",
"v=V0*exp(t/T)\n",
"v1=V0*exp(-t1/T)\n",
"figure\n",
"a= gca ();\n",
"plot(t,v)\n",
"plot(t1,v1)\n",
"xtitle ('v vs t','t (ms)','v ');\n",
"a. thickness = 2;\n",
"\n",
"//Sketch current 'i'\n",
"t=-.001:0.00005:0\n",
"t1=0:0.00005:.001\n",
"T=1*10^-3;\n",
"I0=10*10^-3;\n",
"i=I0*exp(t/T)\n",
"i1=-I0*exp(-t1/T)\n",
"figure\n",
"a= gca ();\n",
"plot(t,i)\n",
"plot(t1,i1)\n",
"xtitle ('i vs wt','t (ms)','i (mA)');\n",
"a. thickness = 2;\n",
"\n",
""
   ]
   }
,
{
		   "cell_type": "markdown",
		   "metadata": {},
		   "source": [
			"## Example 7.25: Random_Signals.sce"
		   ]
		  },
  {
"cell_type": "code",
	   "execution_count": null,
	   "metadata": {
	    "collapsed": true
	   },
	   "outputs": [],
"source": [
"clc\n",
"disp('Example 7.25')\n",
"printf('\n')\n",
"\n",
"Xavg=(2+4+11+5+7+6+9+10+3+6+8+4+1+3+5+12)/16;\n",
"//Let X=X^2eff\n",
"X=(2^2+4^2+11^2+5^2+7^2+6^2+9^2+10^2+3^2+6^2+8^2+4^2+1^2+3^2+5^2+12^2)/16\n",
"Xeff=sqrt(X);\n",
"printf('Xavg=%d\n Xeff=%3.2f\n',Xavg,Xeff)"
   ]
   }
,
{
		   "cell_type": "markdown",
		   "metadata": {},
		   "source": [
			"## Example 7.26: Random_Signals.sce"
		   ]
		  },
  {
"cell_type": "code",
	   "execution_count": null,
	   "metadata": {
	    "collapsed": true
	   },
	   "outputs": [],
"source": [
"clc\n",
"disp('Example 7.26')\n",
"printf('\n')\n",
"\n",
"printf('Given')\n",
"disp('Period =10s')\n",
"disp('Interval is 1ms')\n",
"disp('Voltage of binary signal is either 0.5 or -0.5')\n",
"T=10;\n",
"//During 10s period there are 10000 intervals of 1ms each\n",
"//For calculating average equal number of intervals are considered at 0.5V and -0.5V\n",
"vavg=(0.5*5000-0.5*5000)/10000\n",
"//The effective value of v(t) is\n",
"//Let V=V^2eff\n",
"V=(0.5^2*5000+(-0.5)^2*5000)/10000\n",
"Veff=sqrt(V)\n",
"printf('vavg=%dV\nVeff=%3.2fV\n',vavg,Veff)"
   ]
   }
,
{
		   "cell_type": "markdown",
		   "metadata": {},
		   "source": [
			"## Example 7.2: Sinusoidal_Functions.sce"
		   ]
		  },
  {
"cell_type": "code",
	   "execution_count": null,
	   "metadata": {
	    "collapsed": true
	   },
	   "outputs": [],
"source": [
"clc\n",
"disp('Example 7.2')\n",
"printf('\n')\n",
"\n",
"//Let wt=q\n",
"q=-8:0.5:8\n",
"v=5*cos (q)\n",
"figure\n",
"a= gca ();\n",
"plot(q,v)\n",
"xtitle ('v vs wt','wt','v ');\n",
"a. thickness = 2;"
   ]
   }
,
{
		   "cell_type": "markdown",
		   "metadata": {},
		   "source": [
			"## Example 7.3: Time_Shift_and_Phase_Shift.sce"
		   ]
		  },
  {
"cell_type": "code",
	   "execution_count": null,
	   "metadata": {
	    "collapsed": true
	   },
	   "outputs": [],
"source": [
"clc\n",
"disp('Example 7.3')\n",
"printf('\n')\n",
"\n",
"t1=-10:0.05:10\n",
"v=5*cos (%pi*t1/6+%pi/6)\n",
"figure\n",
"a= gca ();\n",
"plot(t1,v)\n",
"xtitle ('v vs %pi*t/6','%pi*t/6','v ');\n",
"a. thickness = 2;\n",
""
   ]
   }
,
{
		   "cell_type": "markdown",
		   "metadata": {},
		   "source": [
			"## Example 7.5: Combinations_of_Periodic_Functions.sce"
		   ]
		  },
  {
"cell_type": "code",
	   "execution_count": null,
	   "metadata": {
	    "collapsed": true
	   },
	   "outputs": [],
"source": [
"clc\n",
"disp('Example 7.5')\n",
"printf('\n')\n",
"\n",
"printf('Given')\n",
"disp('v(t)=cos5t+3sin(3t+45)')\n",
"//Finding the periods of individual terms\n",
"disp('Period of cos5t=2*%pi/5')\n",
"disp('Period of 3*sin(3t+45)=2*%pi/3')\n",
"//If T=2*%pi\n",
"T=2*%pi;\n",
"disp('Now T=5*T1=3*T2')\n",
"//Now the relation for T is the smallest common integral multiple of T1 and T2\n",
"printf('Period = %3.2fs\n',T)"
   ]
   }
],
"metadata": {
		  "kernelspec": {
		   "display_name": "Scilab",
		   "language": "scilab",
		   "name": "scilab"
		  },
		  "language_info": {
		   "file_extension": ".sce",
		   "help_links": [
			{
			 "text": "MetaKernel Magics",
			 "url": "https://github.com/calysto/metakernel/blob/master/metakernel/magics/README.md"
			}
		   ],
		   "mimetype": "text/x-octave",
		   "name": "scilab",
		   "version": "0.7.1"
		  }
		 },
		 "nbformat": 4,
		 "nbformat_minor": 0
}
