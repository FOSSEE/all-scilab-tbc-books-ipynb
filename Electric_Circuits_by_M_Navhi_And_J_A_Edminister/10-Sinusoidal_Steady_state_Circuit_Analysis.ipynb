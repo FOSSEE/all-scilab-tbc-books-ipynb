{
"cells": [
 {
		   "cell_type": "markdown",
	   "metadata": {},
	   "source": [
       "# Chapter 10: Sinusoidal Steady state Circuit Analysis"
	   ]
	},
{
		   "cell_type": "markdown",
		   "metadata": {},
		   "source": [
			"## Example 10.4: Phasors.sce"
		   ]
		  },
  {
"cell_type": "code",
	   "execution_count": null,
	   "metadata": {
	    "collapsed": true
	   },
	   "outputs": [],
"source": [
"clc\n",
"disp('Problem 10.4')\n",
"printf('\n')\n",
"\n",
"//For V1\n",
"Ro1=25\n",
"Theta1=143.13\n",
"//For V1\n",
"Ro2=11.2\n",
"Theta2=26.57\n",
"//We need to find V1/V2\n",
"//Let V=V1/V2\n",
"Vmag=(Ro1/Ro2) \n",
"Vph=Theta1-Theta2\n",
"x=Vmag*cos((Vph*%pi)/180);\n",
"y=Vmag*sin((Vph*%pi)/180);\n",
"z=complex(x,y)\n",
"//Let V1+V2=V12\n",
"x1=Ro1*cos((Theta1*%pi)/180);\n",
"y1=Ro1*sin((Theta1*%pi)/180);\n",
"z1=complex(x1,y1)\n",
"x2=Ro2*cos((Theta2*%pi)/180);\n",
"y2=Ro2*sin((Theta2*%pi)/180);\n",
"z2=complex(x2,y2)\n",
"V12=z1+z2\n",
"[R,Theta]=polar(V12)\n",
"printf('V1/V2=%0.2f+i*%3.2f \nV1+V2=%3.2f(%3.2f deg)',x,y,R,(Theta*180)/%pi)"
   ]
   }
,
{
		   "cell_type": "markdown",
		   "metadata": {},
		   "source": [
			"## Example 10.5: Impedance_and_Admittance.sce"
		   ]
		  },
  {
"cell_type": "code",
	   "execution_count": null,
	   "metadata": {
	    "collapsed": true
	   },
	   "outputs": [],
"source": [
"clc\n",
"disp('Problem 10.5')\n",
"printf('\n')\n",
"\n",
"printf('Given')\n",
"disp('Voltage is 100(45 deg)')\n",
"disp('Current is 5(15 deg)')\n",
"//For V\n",
"Ro1=100\n",
"Theta1=45\n",
"//For I\n",
"Ro2=5\n",
"Theta2=15\n",
"//We need to find V/I=Z\n",
"\n",
"Zmag=(Ro1/Ro2) \n",
"Zph=Theta1-Theta2\n",
"x=Zmag*cos((Zph*%pi)/180);\n",
"y=Zmag*sin((Zph*%pi)/180);\n",
"z=complex(x,y)\n",
"//Let Y=1/Z\n",
"Ymag=(Ro2/Ro1) \n",
"Yph=Theta2-Theta1\n",
"x1=Ymag*cos((Yph*%pi)/180);\n",
"y1=Ymag*sin((Yph*%pi)/180);\n",
"z1=complex(x1,y1)\n",
"\n",
"printf('R=%3.2fohm XL=%3.2fH \nG=%0.3fS BL=%0.3fS',x,y,x1,abs(y1));"
   ]
   }
,
{
		   "cell_type": "markdown",
		   "metadata": {},
		   "source": [
			"## Example 10.7: Superposition_of_AC_sources.sce"
		   ]
		  },
  {
"cell_type": "code",
	   "execution_count": null,
	   "metadata": {
	    "collapsed": true
	   },
	   "outputs": [],
"source": [
"clc\n",
"disp('Problem 10.7')\n",
"printf('\n')\n",
"\n",
"printf('Voltage v1=5*cos(w1*t)')\n",
"printf('Voltage v2=10*cos(w2*t+60)')\n",
"//The circuit is modeled as\n",
"disp('Resistance is 10ohm and inductance is 5mH')\n",
"R=10;L=5*10^-3;\n",
"disp('a)')\n",
"w1=2000;w2=2000;\n",
"//Let Z be the impedance of the coil\n",
"Z1=R+%i*L*w1\n",
"Z2=R+%i*L*w2\n",
"//Let V be phasor voltage between the terminals\n",
"Vmag=10;\n",
"Vph=60; \n",
"x=Vmag*cos((Vph*%pi)/180);\n",
"y=Vmag*sin((Vph*%pi)/180);\n",
"z=complex(x,y)\n",
"v=5-z;\n",
"//Let I be the current\n",
"I=v/Z1\n",
"[R,Theta]=polar(I)\n",
"printf('i=%0.2f*cos(%dt%d deg)',R,w1,(Theta*180)/%pi);\n",
"\n",
"disp('b)')\n",
"R=10;L=5*10^-3;\n",
"w1=2000;w2=4000;\n",
"//Let Z be the impedance of the coil\n",
"Z1=R+%i*L*w1\n",
"Z2=R+%i*L*w2\n",
"V1=5;\n",
"//By applying superposition i=i1-i2\n",
"I1=V1/Z1\n",
"[R,Theta]=polar(I1)\n",
"printf('i1=%0.2f*cos(%dt%d deg)\n',R,w1,(Theta*180)/%pi);\n",
"V2mag=10;V2ph=60;\n",
"I2=z/Z2\n",
"[R1,Theta1]=polar(I2)\n",
"printf('i2=%0.2f*cos(%dt%3.2f deg)\n',R1,w2,(Theta1*180)/%pi);\n",
"//i=i1-i2\n",
"printf('i=%0.2f*cos(%dt%d deg)-%0.2f*cos(%dt%3.2f deg)\n',R,w1,(Theta*180)/%pi,R1,w2,(Theta1*180)/%pi)\n",
"\n",
""
   ]
   }
],
"metadata": {
		  "kernelspec": {
		   "display_name": "Scilab",
		   "language": "scilab",
		   "name": "scilab"
		  },
		  "language_info": {
		   "file_extension": ".sce",
		   "help_links": [
			{
			 "text": "MetaKernel Magics",
			 "url": "https://github.com/calysto/metakernel/blob/master/metakernel/magics/README.md"
			}
		   ],
		   "mimetype": "text/x-octave",
		   "name": "scilab",
		   "version": "0.7.1"
		  }
		 },
		 "nbformat": 4,
		 "nbformat_minor": 0
}
