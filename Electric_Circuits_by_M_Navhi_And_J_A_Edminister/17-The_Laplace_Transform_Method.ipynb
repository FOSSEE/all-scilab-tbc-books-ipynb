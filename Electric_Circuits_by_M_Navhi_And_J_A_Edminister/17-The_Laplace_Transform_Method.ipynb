{
"cells": [
 {
		   "cell_type": "markdown",
	   "metadata": {},
	   "source": [
       "# Chapter 17: The Laplace Transform Method"
	   ]
	},
{
		   "cell_type": "markdown",
		   "metadata": {},
		   "source": [
			"## Example 17.2: Convergence_of_the_integral.sce"
		   ]
		  },
  {
"cell_type": "code",
	   "execution_count": null,
	   "metadata": {
	    "collapsed": true
	   },
	   "outputs": [],
"source": [
"syms t s ;\n",
" x=laplace ('3*%e^(2*t)' , t , s ) ;\n",
" disp (x , ' X(s)=' )"
   ]
   }
,
{
		   "cell_type": "markdown",
		   "metadata": {},
		   "source": [
			"## Example 17.4: Partial_Fractions_Expansions.sce"
		   ]
		  },
  {
"cell_type": "code",
	   "execution_count": null,
	   "metadata": {
	    "collapsed": true
	   },
	   "outputs": [],
"source": [
"clc\n",
"syms t\n",
"s=%s;\n",
"//Factorizing the denominator\n",
"I=(s-10)/((s^2)*(s-%i)*(s+%i));\n",
"disp(I,'I(s)=')\n",
"//The principal part at s=0 is\n",
"//B1/s+B2/s^2\n",
"//Taking the limit s->0 to (s-10)/((s-%i)*(s+%i))\n",
"\n",
"B2=-10\n",
"\n",
"//Taking the limit s->0 to (s*(s-10))/(s^2)*(s^2+1)+(10/s)\n",
"\n",
"B1=1\n",
"\n",
"//The principal part at s=%i is\n",
"//A/(s-%i)\n",
"//Taking the limit s->%i to (s-10)/((s^2)*(s+%i))\n",
"\n",
"A=(-0.5-%i*5)\n",
"\n",
"//As the other co-efficient is conjugate of the above we can write the partial fraction expansion  of I(s)\n",
"I=(1/s)-(10/s^2)-(0.5+%i*5)/(s-%i)-(0.5-%i*5)/(s+%i);\n",
"//Taking inverse of each term\n",
"I1=ilaplace('1/s',s,t)\n",
"I2=ilaplace('10/s^2',s,t)\n",
"I3=ilaplace('(0.5+%i*5)/(s-%i)',s,t)\n",
"I4=ilaplace('(0.5-%i*5)/(s+%i)',s,t)\n",
"I=I1-I2-I3-I4\n",
"disp(I,'i(t)=')"
   ]
   }
],
"metadata": {
		  "kernelspec": {
		   "display_name": "Scilab",
		   "language": "scilab",
		   "name": "scilab"
		  },
		  "language_info": {
		   "file_extension": ".sce",
		   "help_links": [
			{
			 "text": "MetaKernel Magics",
			 "url": "https://github.com/calysto/metakernel/blob/master/metakernel/magics/README.md"
			}
		   ],
		   "mimetype": "text/x-octave",
		   "name": "scilab",
		   "version": "0.7.1"
		  }
		 },
		 "nbformat": 4,
		 "nbformat_minor": 0
}
