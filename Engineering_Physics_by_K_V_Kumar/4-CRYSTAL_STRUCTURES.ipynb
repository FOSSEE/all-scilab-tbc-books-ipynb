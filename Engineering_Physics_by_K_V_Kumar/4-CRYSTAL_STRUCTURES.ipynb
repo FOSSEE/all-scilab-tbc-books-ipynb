{
"cells": [
 {
		   "cell_type": "markdown",
	   "metadata": {},
	   "source": [
       "# Chapter 4: CRYSTAL STRUCTURES"
	   ]
	},
{
		   "cell_type": "markdown",
		   "metadata": {},
		   "source": [
			"## Example 4.10: To_calculate_the_percentage_of_volume_change.sce"
		   ]
		  },
  {
"cell_type": "code",
	   "execution_count": null,
	   "metadata": {
	    "collapsed": true
	   },
	   "outputs": [],
"source": [
"//Example 4_10\n",
"clc();\n",
"clear;\n",
"//To calculate the percentage of volume \n",
"r1=1.258                            //units in meters\n",
"r2=1.292                           //units in meters\n",
"v1=((4*r1)/sqrt(3))^3/2\n",
"v2=(2*sqrt(2)*1.292)^3/4\n",
"v=(v1-v2)/v2*100\n",
"printf('The percentage of volume changed during this structural change is %.3f',v)"
   ]
   }
,
{
		   "cell_type": "markdown",
		   "metadata": {},
		   "source": [
			"## Example 4.11: To_find_the_position_of_radius_of_an_atom.sce"
		   ]
		  },
  {
"cell_type": "code",
	   "execution_count": null,
	   "metadata": {
	    "collapsed": true
	   },
	   "outputs": [],
"source": [
"//Example 4_11\n",
"clc();\n",
"clear;\n",
"//To calculate where the radius of the atom is present\n",
"a=4/sqrt(2)\n",
"R=a/2-1\n",
"printf('The radius of the atom is at R=%.3fr',R)"
   ]
   }
,
{
		   "cell_type": "markdown",
		   "metadata": {},
		   "source": [
			"## Example 4.12: To_calculate_the_distance_between_two_adjacent_atoms.sce"
		   ]
		  },
  {
"cell_type": "code",
	   "execution_count": null,
	   "metadata": {
	    "collapsed": true
	   },
	   "outputs": [],
"source": [
"//Example 4_12\n",
"clc();\n",
"clear;\n",
"//To calculate distance betweenadjacent atoms\n",
"molwt=23+35.5  //units in grams/mol\n",
"avagadro=6.023*10^23  //units in gm/mol\n",
"mass=molwt/avagadro  //units in gm\n",
"unitvol=2.18   //units in gm/cm^3\n",
"noofmol=unitvol/mass   //units in gm/cm^3\n",
"total=2*noofmol  //units in gm/cm^3\n",
"printf('number of atoms in NaCl is')\n",
"disp(total)\n",
"printf('atom/cm^3')\n",
"a=(1/total)^(1/3)\n",
"a=a*10^8   //units in A\n",
"printf('\nradius a=%.2f A',a)"
   ]
   }
,
{
		   "cell_type": "markdown",
		   "metadata": {},
		   "source": [
			"## Example 4.13: To_find_the_glancing_angle.sce"
		   ]
		  },
  {
"cell_type": "code",
	   "execution_count": null,
	   "metadata": {
	    "collapsed": true
	   },
	   "outputs": [],
"source": [
"//Example 4_13\n",
"clc();\n",
"clear;\n",
"//To calculate the glancing angle for the second order diffraction\n",
"lemda=0.071*10^-9                           //units in meters\n",
"a=0.28*10^-9                               //units in meters\n",
"h=1\n",
"k=1\n",
"l=0\n",
"n=2\n",
"theta=(asin((n*lemda)/(2*(a/(sqrt(h^2+k^2+l^2))))))*180/%pi\n",
"printf('The glancing angle for the second order diffraction is %.2f degrees',theta)"
   ]
   }
,
{
		   "cell_type": "markdown",
		   "metadata": {},
		   "source": [
			"## Example 4.14: To_determine_the_space_of_the_reflecting_plane_and_the_volume_of_the_unit_cell.sce"
		   ]
		  },
  {
"cell_type": "code",
	   "execution_count": null,
	   "metadata": {
	    "collapsed": true
	   },
	   "outputs": [],
"source": [
"//Example 4_14\n",
"clc();\n",
"clear;\n",
"//To determine the space of the reflecting plane and the volume of the unit cell\n",
"lemda=3*10^-10                        //units in meters\n",
"theta=40                             //units in degrees\n",
"h=1\n",
"k=0\n",
"l=0\n",
"n=1\n",
"d=(n*lemda)/(2*sin(theta*%pi/180))*10^10\n",
"printf('The space of the reflecting plane is %.3f angstrom',d)\n",
"v=(d*sqrt(h^2+k^2+l^2)*10^-10)^3\n",
"printf('\n\nThe volume of the unit cell is %.33f m^3',v)"
   ]
   }
,
{
		   "cell_type": "markdown",
		   "metadata": {},
		   "source": [
			"## Example 4.15: To_find_the_miller_indices.sce"
		   ]
		  },
  {
"cell_type": "code",
	   "execution_count": null,
	   "metadata": {
	    "collapsed": true
	   },
	   "outputs": [],
"source": [
"//Example 4_15\n",
"clc();\n",
"clear;\n",
"//To find miller indices\n",
"n=1\n",
"lamda=0.82*10^-10   //units in meters\n",
"theta=75.86 //units in degrees\n",
"d=(n*lamda)/(2*sin(theta*%pi/180))\n",
"d=d*10^11\n",
"printf('obtained d value is d=%dA',d)\n",
"printf('\n As rounding of d equal to 3 A that is d=a miller indices that are possible are (0,0,1),(0,1,0),(1,0,0)')"
   ]
   }
,
{
		   "cell_type": "markdown",
		   "metadata": {},
		   "source": [
			"## Example 4.16: To_find_the_wavelength_and_energy_of_xray_beam.sce"
		   ]
		  },
  {
"cell_type": "code",
	   "execution_count": null,
	   "metadata": {
	    "collapsed": true
	   },
	   "outputs": [],
"source": [
"//Example 4_16\n",
"clc();\n",
"clear;\n",
"//To find the wavelength and energy of X-ray beam\n",
"theta=27.5                         //units in degrees\n",
"n=1\n",
"h=1\n",
"k=1\n",
"l=1\n",
"H=6.625*10^-34                   //planks constant\n",
"c=3*10^10                //velocity of light units in meters\n",
"a=5.63*10^-10                     //units in meters\n",
"lemda=(2*(a/sqrt(h^2+k^2+l^2))*sin(theta*%pi/180))/n*10^10\n",
"printf('The wavelength of X-Ray beam is %.0f angstrom',lemda)\n",
"lemda=lemda*10^-10   //units in cm\n",
"E=(H*c)/lemda\n",
"E=E*10^20  //units in Joules\n",
"E=E/(1.6*10^-19)\n",
"printf('\n\nThe energy of X-ray beam is ')\n",
"disp(E)\n",
"printf('eV')"
   ]
   }
,
{
		   "cell_type": "markdown",
		   "metadata": {},
		   "source": [
			"## Example 4.17: To_calculate_the_lattice_parameter_of_lead.sce"
		   ]
		  },
  {
"cell_type": "code",
	   "execution_count": null,
	   "metadata": {
	    "collapsed": true
	   },
	   "outputs": [],
"source": [
"//Example 4_17\n",
"clc();\n",
"clear;\n",
"//To find the lattice parameter of Lead\n",
"lemda=1.5*10^-10                       //units in meters\n",
"theta=34                              //units in degrees\n",
"n=1\n",
"h=2\n",
"k=0\n",
"l=2\n",
"a=(n*lemda)/(2*sin(theta))*sqrt(h^2+k^2+l^2)*10^10\n",
"printf('the lattice parameter of the Lead is %.3f angstrom',a)"
   ]
   }
,
{
		   "cell_type": "markdown",
		   "metadata": {},
		   "source": [
			"## Example 4.1: To_calculate_the_density.sce"
		   ]
		  },
  {
"cell_type": "code",
	   "execution_count": null,
	   "metadata": {
	    "collapsed": true
	   },
	   "outputs": [],
"source": [
"//Example 4_1\n",
"clc();\n",
"clear;\n",
"//To calculate the density of the germanium\n",
"n=8\n",
"a=5.62*10^-10                            //units in meters\n",
"M=710.59                     //atomic weight of Ge units in a.m.u\n",
"N=6.02*10^26                //units in kg/mol\n",
"Density=(n*M)/(a^3*N)\n",
"printf('Density of the germanium is %.0f kg/m^3',Density)"
   ]
   }
,
{
		   "cell_type": "markdown",
		   "metadata": {},
		   "source": [
			"## Example 4.2: To_calculate_the_lattice_constant.sce"
		   ]
		  },
  {
"cell_type": "code",
	   "execution_count": null,
	   "metadata": {
	    "collapsed": true
	   },
	   "outputs": [],
"source": [
"//Example 4_2\n",
"clc();\n",
"clear;\n",
"//To calculate the lattice constant\n",
"M=55.85               //units in a.m.u\n",
"density=7860          //units in kg/m^3\n",
"n=2\n",
"N=6.02*10^26          //units in kg/mol\n",
"a=((n*M)/(density*N))^(1/3)*10^9\n",
"printf('Lattice constant is %.2f angstrom',a)"
   ]
   }
,
{
		   "cell_type": "markdown",
		   "metadata": {},
		   "source": [
			"## Example 4.3: To_calculate_the_lattice_constant.sce"
		   ]
		  },
  {
"cell_type": "code",
	   "execution_count": null,
	   "metadata": {
	    "collapsed": true
	   },
	   "outputs": [],
"source": [
"//Example 4_3\n",
"clc();\n",
"clear;\n",
"//To calculate the lattice constant\n",
"M=6.94                        //units in a.m.u\n",
"density=530                  //units in kg/m^3\n",
"n=2\n",
"N=6.02*10^26                //units in kg/mol\n",
"a=((n*M)/(density*N))^(1/3)*10^10\n",
"printf('Lattice constant is %.2f angstrom',a)"
   ]
   }
,
{
		   "cell_type": "markdown",
		   "metadata": {},
		   "source": [
			"## Example 4.4: To_calculate_the_number_of_atoms.sce"
		   ]
		  },
  {
"cell_type": "code",
	   "execution_count": null,
	   "metadata": {
	    "collapsed": true
	   },
	   "outputs": [],
"source": [
"//Example 4_4\n",
"clc();\n",
"clear;\n",
"//To calculate the number of atoms per unit cell\n",
"a=2.9*10^-10                     //units in meters\n",
"density=7870                    //units in kg/m^3\n",
"M=55.85                         //units in kg/m^3\n",
"N=6.02*10^26                   //units in kg/mol\n",
"n=(a^3*density*N)/M\n",
"printf('number of atoms %.0f',n)"
   ]
   }
,
{
		   "cell_type": "markdown",
		   "metadata": {},
		   "source": [
			"## Example 4.5: To_calculate_the_density.sce"
		   ]
		  },
  {
"cell_type": "code",
	   "execution_count": null,
	   "metadata": {
	    "collapsed": true
	   },
	   "outputs": [],
"source": [
"//Example 4_5\n",
"clc();\n",
"clear;\n",
"//To calculate the density\n",
"n=8\n",
"a=5.6*10^-10                        //units in meters\n",
"M=710.59                           //units in a.m.u\n",
"N=6.02*10^26                      //units in kg/mol\n",
"Density=(n*M)/(a^3*N)\n",
"printf('Density is %.0f kg/m^3',Density)"
   ]
   }
,
{
		   "cell_type": "markdown",
		   "metadata": {},
		   "source": [
			"## Example 4.6: To_calculate_the_lattice_constant.sce"
		   ]
		  },
  {
"cell_type": "code",
	   "execution_count": null,
	   "metadata": {
	    "collapsed": true
	   },
	   "outputs": [],
"source": [
"//Example 4_6\n",
"clc();\n",
"clear;\n",
"//To calculate the lattice constant\n",
"M=55.85                           //units in a.m.u\n",
"density=7860                     //units in kg/m^3\n",
"n=2\n",
"N=6.02*10^26                   //units in kg/mol\n",
"a=(((n*M)/(density*N))^(1/3))*10^9\n",
"printf('lattice constant is %.3f angstrom',a)"
   ]
   }
,
{
		   "cell_type": "markdown",
		   "metadata": {},
		   "source": [
			"## Example 4.7: To_calculate_the_lattice_constant.sce"
		   ]
		  },
  {
"cell_type": "code",
	   "execution_count": null,
	   "metadata": {
	    "collapsed": true
	   },
	   "outputs": [],
"source": [
"//Example 4_7\n",
"clc();\n",
"clear;\n",
"//To calculate the lattice constant\n",
"M=6.94                       //units in a.m.u\n",
"density=530                 //units in kg/m^3\n",
"n=2\n",
"N=6.02*10^26               //units in kg/mol\n",
"a=((n*M)/(density*N))^(1/3)*10^10\n",
"printf('lattice constant is %.3f angstrom',a)"
   ]
   }
,
{
		   "cell_type": "markdown",
		   "metadata": {},
		   "source": [
			"## Example 4.8: To_calculate_the_number_of_atoms.sce"
		   ]
		  },
  {
"cell_type": "code",
	   "execution_count": null,
	   "metadata": {
	    "collapsed": true
	   },
	   "outputs": [],
"source": [
"//Example 4_8\n",
"clc();\n",
"clear;\n",
"//To calculate the number of atoms per unit cell\n",
"a=2.9*10^-10                      //units in meters\n",
"M=55.85                         //units in kg/m^3\n",
"density=7870                   //units in kg/m^3\n",
"N=6.02*10^26                  //units in kg/mol\n",
"n=(a^3*density*N)/M\n",
"printf('number of atoms %.0f',n)"
   ]
   }
,
{
		   "cell_type": "markdown",
		   "metadata": {},
		   "source": [
			"## Example 4.9: To_calculate_the_density.sce"
		   ]
		  },
  {
"cell_type": "code",
	   "execution_count": null,
	   "metadata": {
	    "collapsed": true
	   },
	   "outputs": [],
"source": [
"//Example 4_9\n",
"clc();\n",
"clear;\n",
"//To calculate the density of copper\n",
"r=0.1278*10^-9                    //units in meters\n",
"M=63.5                           //units in a.m.u\n",
"N=6.02*10^26                    //units in kg/mol\n",
"n=4\n",
"a=sqrt(8)*r\n",
"density=(n*M)/(N*a^3)\n",
"printf('density of copper is %.3f kg/m^3',density)\n",
"//in text book anser printed wrong as 893.66 correct answer is 8933.25"
   ]
   }
],
"metadata": {
		  "kernelspec": {
		   "display_name": "Scilab",
		   "language": "scilab",
		   "name": "scilab"
		  },
		  "language_info": {
		   "file_extension": ".sce",
		   "help_links": [
			{
			 "text": "MetaKernel Magics",
			 "url": "https://github.com/calysto/metakernel/blob/master/metakernel/magics/README.md"
			}
		   ],
		   "mimetype": "text/x-octave",
		   "name": "scilab",
		   "version": "0.7.1"
		  }
		 },
		 "nbformat": 4,
		 "nbformat_minor": 0
}
