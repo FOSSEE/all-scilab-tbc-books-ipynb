{
"cells": [
 {
		   "cell_type": "markdown",
	   "metadata": {},
	   "source": [
       "# Chapter 5: CRYSTAL PLANES AND X RAY DIFFRACTION"
	   ]
	},
{
		   "cell_type": "markdown",
		   "metadata": {},
		   "source": [
			"## Example 5.10: To_determine_the_interplaner_spacing_and_miller_indices.sce"
		   ]
		  },
  {
"cell_type": "code",
	   "execution_count": null,
	   "metadata": {
	    "collapsed": true
	   },
	   "outputs": [],
"source": [
"//Example 5_10\n",
"clc();\n",
"clear;\n",
"//To determine interplanar spacing andmiller indices\n",
"n=1\n",
"lamda=1.54   //Units in A\n",
"theta=20.3   //units in degrees\n",
"d=(n*lamda)/(2*sin(theta*%pi/180)) //units in A\n",
"printf('Interplanar spacing d=%d A\n',d)\n",
"a=3.16\n",
"hkl=a/d\n",
"hkl2=hkl^2\n",
"printf('In order to get h^2+k^2+l^2=%d as l=0 then h=1 and k=1',hkl2)"
   ]
   }
,
{
		   "cell_type": "markdown",
		   "metadata": {},
		   "source": [
			"## Example 5.11: To_find_the_wavenength_and_energy.sce"
		   ]
		  },
  {
"cell_type": "code",
	   "execution_count": null,
	   "metadata": {
	    "collapsed": true
	   },
	   "outputs": [],
"source": [
"//Example 5_11\n",
"clc();\n",
"clear;\n",
"//To find the wavenength and energy\n",
"n=4\n",
"a=107.87    //units in amu\n",
"N=10500\n",
"row=6.052*10^26\n",
"a=((n*a)/(N*row))^(1/3)*10^10  //units in A\n",
"h=1\n",
"k=1\n",
"l=1\n",
"d=a/sqrt(h^2+k^2+l^2)   //units in A\n",
"theta=19.      //units in degrees\n",
"lamda=2*d*sin(theta*%pi/180)     //units in A\n",
"printf('Wavelength is lamda=%.2fA',lamda)\n",
"lamda=lamda*10^-10   //units in meters\n",
"\n",
"h=6.625*10^-34  //Plancks constant\n",
"c=3*10^8      //units in meter/sec\n",
"energy=(h*c)/(lamda*1.6*10^-19)   //units in eV\n",
"printf('\n energy is =%d eV',energy)"
   ]
   }
,
{
		   "cell_type": "markdown",
		   "metadata": {},
		   "source": [
			"## Example 5.12: To_calculate_the_wavelength_ansd_maximum_order_of_diffraction.sce"
		   ]
		  },
  {
"cell_type": "code",
	   "execution_count": null,
	   "metadata": {
	    "collapsed": true
	   },
	   "outputs": [],
"source": [
"//Example 5_12\n",
"clc();\n",
"clear;\n",
"//To calculate the wavelength ansd maximum order of diffraction\n",
"n=1\n",
"d=0.282*10^-9     //units in meters\n",
"theta=8.583   //units in degrees\n",
"lamda=((2*d*sin(theta*%pi/180))/n)*10^9  //units in nm\n",
"printf('wavelength is lamda=%.3f nm',lamda)\n",
"//When theta=90 degrees\n",
"lama=lamda*10^9   //units in meters\n",
"n=(2*d)/lamda*10^9\n",
"printf('\nMaximum order of diffraction is n=%d',n)"
   ]
   }
,
{
		   "cell_type": "markdown",
		   "metadata": {},
		   "source": [
			"## Example 5.13: To_find_maximum_possible_order_difraction.sce"
		   ]
		  },
  {
"cell_type": "code",
	   "execution_count": null,
	   "metadata": {
	    "collapsed": true
	   },
	   "outputs": [],
"source": [
"//Example 5_13\n",
"clc();\n",
"clear;\n",
"//To find the Maximum possible diffraction order\n",
"lamda=1.5               //units in A.U\n",
"d=1.6                 //units in A.U\n",
"n=(2*d)/lamda\n",
"printf('Maximum possible diffraction order = %.0f',n)"
   ]
   }
,
{
		   "cell_type": "markdown",
		   "metadata": {},
		   "source": [
			"## Example 5.14: To_calculate_the_inter_atomic_spacing.sce"
		   ]
		  },
  {
"cell_type": "code",
	   "execution_count": null,
	   "metadata": {
	    "collapsed": true
	   },
	   "outputs": [],
"source": [
"//Example 5_14\n",
"clc();\n",
"clear;\n",
"//To clculate the inter frame spacing\n",
"lamda=1.5418*10^-10  //units in mts\n",
"theta=30   //units in degrees\n",
"d=lamda/(2*sin(theta*%pi/180))\n",
"d=d*10^10   //units in A\n",
"h=1\n",
"k=1\n",
"l=1\n",
"a=d*sqrt(h^2+k^2+l^2)\n",
"printf('The inter frame spacing is a=%.2f A',a)"
   ]
   }
,
{
		   "cell_type": "markdown",
		   "metadata": {},
		   "source": [
			"## Example 5.15: To_find_the_glancing_angle.sce"
		   ]
		  },
  {
"cell_type": "code",
	   "execution_count": null,
	   "metadata": {
	    "collapsed": true
	   },
	   "outputs": [],
"source": [
"//Example 5_15\n",
"clc();\n",
"clear;\n",
"//To find the glancing angle for the second order diffraction\n",
"d100=0.28              //units in nm\n",
"n=2\n",
"lamda=0.071           //units in nm\n",
"d110=d100/sqrt(2)\n",
"theta=asin(( n*lamda)/(2*d110))*180/%pi\n",
"printf('The glancing angle is %d degrees',theta)"
   ]
   }
,
{
		   "cell_type": "markdown",
		   "metadata": {},
		   "source": [
			"## Example 5.16: To_calculate_the_distance.sce"
		   ]
		  },
  {
"cell_type": "code",
	   "execution_count": null,
	   "metadata": {
	    "collapsed": true
	   },
	   "outputs": [],
"source": [
"//Example 5_16\n",
"clc();\n",
"clear;\n",
"//To calculate the distane between (110) planes\n",
"a=0.38              //units in nm\n",
"h=1\n",
"k=1\n",
"l=0\n",
"d=a/sqrt(h^2+k^2+l^2)\n",
"printf('Distance between (110) planes d = %.2f nm',d)"
   ]
   }
,
{
		   "cell_type": "markdown",
		   "metadata": {},
		   "source": [
			"## Example 5.17: To_compare_the_density_of_lattice_point.sce"
		   ]
		  },
  {
"cell_type": "code",
	   "execution_count": null,
	   "metadata": {
	    "collapsed": true
	   },
	   "outputs": [],
"source": [
"//Example 5_17\n",
"clc();\n",
"clear;\n",
"//To compare  the density of lattice points\n",
"//For (110) plane\n",
"area=sqrt(2)   //units in a\n",
"areacontains=(1/4)*4\n",
"density=1/area       //units in a\n",
"//(111) plane\n",
"areaa=1/sqrt(2)     //interms of a\n",
"eo=sqrt(3)/sqrt(2)\n",
"area1=eo/sqrt(2)\n",
"density=(3*(1/6))/(area1)\n",
"printf('The ratio of density of planes is %.3f:%.3f',sqrt(2),sqrt(3))"
   ]
   }
,
{
		   "cell_type": "markdown",
		   "metadata": {},
		   "source": [
			"## Example 5.18: To_calculate_the_glancing_angle.sce"
		   ]
		  },
  {
"cell_type": "code",
	   "execution_count": null,
	   "metadata": {
	    "collapsed": true
	   },
	   "outputs": [],
"source": [
"//Example 5_18\n",
"clc();\n",
"clear;\n",
"//To calculate the glancing angle\n",
"h=1\n",
"k=1\n",
"l=0\n",
"lamda=0.065*10^-9   //units in m\n",
"n=2\n",
"a=0.26*10^-9   //units in nm\n",
"sintheta=(n*lamda*sqrt(h^2+k^2+k^2))/(2*a)\n",
"theta=asin(sintheta)*180/%pi   //units in degrees\n",
"printf('Theta=%.2f degrees',theta)\n",
"//the answer in the textbook is given wrong as theta=20.7 degrees but the right answer is 25.66 degrees"
   ]
   }
,
{
		   "cell_type": "markdown",
		   "metadata": {},
		   "source": [
			"## Example 5.19: To_calculate_the_cube_edge_of_the_unit_cell.sce"
		   ]
		  },
  {
"cell_type": "code",
	   "execution_count": null,
	   "metadata": {
	    "collapsed": true
	   },
	   "outputs": [],
"source": [
"//Example 5_19\n",
"clc();\n",
"clear;\n",
"//To compute the cube edge of unit cell\n",
"n=1\n",
"lamda=1.54*10^-10   //units in meters\n",
"theta=19.2   //units in degrees\n",
"d=(n*lamda)/(2*sin(theta*%pi/180))\n",
"h=1\n",
"k=1\n",
"l=1\n",
"a=d*sqrt(h^2+k^2+k^2)*10^10   //units in A\n",
"printf('Cube edge of unit cell a=%.2f A',a)"
   ]
   }
,
{
		   "cell_type": "markdown",
		   "metadata": {},
		   "source": [
			"## Example 5.1: To_calculate_the_number_of_atoms_per_meter_square_of_plane.sce"
		   ]
		  },
  {
"cell_type": "code",
	   "execution_count": null,
	   "metadata": {
	    "collapsed": true
	   },
	   "outputs": [],
"source": [
"//Example 5_1\n",
"clc();\n",
"clear;\n",
"//To calculate the number of atoms per meter square of plane\n",
"//For (100) Plane\n",
"a=2\n",
"noofatomspercell=1/4*2*a\n",
"noofatomsperunitarea=noofatomspercell/a^2   //units in Terms of R\n",
"printf('Number of atoms per unit area of 100 plane %.2f*R^-2',noofatomsperunitarea)\n",
"//For (110) Plane\n",
"a=2\n",
"noofatomspercell=1/4*2*a\n",
"noofatomsperunitarea=noofatomspercell/(sqrt(2)*a^2)   //units in Terms of R\n",
"printf('\nNumber of atoms per unit area of 110 plane %.2f*R^-2',noofatomsperunitarea)\n",
"//For (111) Plane\n",
"a=2\n",
"noofatomspercell=1/4*2*a\n",
"bc=sqrt(2)*a\n",
"ad=(sqrt(3)/2)*sqrt(2)*a\n",
"area=0.5*bc*ad\n",
"noofatomsperunitarea=noofatomspercell/area   //units in Terms of R\n",
"printf('\nNumber of atoms per unit area of 110 plane %.2f*R^-2',noofatomsperunitarea)"
   ]
   }
,
{
		   "cell_type": "markdown",
		   "metadata": {},
		   "source": [
			"## Example 5.20: To_calculate_the_cube_edge_of_the_unit_cell.sce"
		   ]
		  },
  {
"cell_type": "code",
	   "execution_count": null,
	   "metadata": {
	    "collapsed": true
	   },
	   "outputs": [],
"source": [
"//Example 5_20\n",
"clc();\n",
"clear;\n",
"//To compute the cube edge of unit cell\n",
"n=1\n",
"lamda=1.54*10^-10  //units in m\n",
"theta=19.2   //units in degrees\n",
"d=(n*lamda)/(2*sin(theta*%pi/180))\n",
"h=1\n",
"k=1\n",
"l=1\n",
"a=d*sqrt(h^2+k^2+k^2)\n",
"printf('Cube edge of unit cell a=')\n",
"disp(a)\n",
"printf('meters')"
   ]
   }
,
{
		   "cell_type": "markdown",
		   "metadata": {},
		   "source": [
			"## Example 5.21: To_find_the_intercepts_along_the_y_and_z_axis.sce"
		   ]
		  },
  {
"cell_type": "code",
	   "execution_count": null,
	   "metadata": {
	    "collapsed": true
	   },
	   "outputs": [],
"source": [
"//Example 5_21\n",
"clc();\n",
"clear;\n",
"//To find intercepts along x and y axis\n",
"oa_ob=3/2\n",
"oa_oc=1/2\n",
"b=0.184   //units in nm\n",
"ob=(1/oa_ob)*b\n",
"c=0.197   //units in nm\n",
"oc=(1/oa_oc)*c\n",
"printf('OB=%.3f nm',ob)\n",
"printf('\nOC=%.3f nm',oc)"
   ]
   }
,
{
		   "cell_type": "markdown",
		   "metadata": {},
		   "source": [
			"## Example 5.22: To_calculate_the_inter_planner_distance.sce"
		   ]
		  },
  {
"cell_type": "code",
	   "execution_count": null,
	   "metadata": {
	    "collapsed": true
	   },
	   "outputs": [],
"source": [
"//Example 5_22\n",
"clc();\n",
"clear;\n",
"//To calculate the interplanar spacing distance\n",
"h=1\n",
"k=2\n",
"l=3\n",
"a=0.82   //units in nm\n",
"b=0.94    //units in nm\n",
"c=0.75    //units in nm\n",
"d=((h/a)^2+(k/b)^2+(l/c)^2)^-0.5   //units in nm\n",
"printf('Interplanar spacing d=%.3f nm',d)"
   ]
   }
,
{
		   "cell_type": "markdown",
		   "metadata": {},
		   "source": [
			"## Example 5.23: To_find_the_interplanner_spacing.sce"
		   ]
		  },
  {
"cell_type": "code",
	   "execution_count": null,
	   "metadata": {
	    "collapsed": true
	   },
	   "outputs": [],
"source": [
"//Example 5_23\n",
"clc();\n",
"clear;\n",
"//To find the interplanar spacing\n",
"n=2\n",
"lamda=0.12   //units in nm\n",
"theta=28  //units in degrees\n",
"d=(n*lamda)/(2*sin(theta*%pi/180))\n",
"printf('Interplanar spacong d=%.2f nm',d)"
   ]
   }
,
{
		   "cell_type": "markdown",
		   "metadata": {},
		   "source": [
			"## Example 5.24: To_find_the_interplanner_spacing_and_lemda.sce"
		   ]
		  },
  {
"cell_type": "code",
	   "execution_count": null,
	   "metadata": {
	    "collapsed": true
	   },
	   "outputs": [],
"source": [
"//Example 5_24\n",
"clc();\n",
"clear;\n",
"//To find the interplanar spacing and lamda\n",
"n1=3\n",
"lamda=97   //units in pm\n",
"theta1=23   //units in degrees\n",
"theta2=60  //units in degrees\n",
"lamda1=(n1*lamda*sin(theta1*%pi/180))/(sin(theta2*%pi/180))  //units in pm\n",
"d=(n1*lamda)/(2*sin(theta2*%pi/180))\n",
"printf('lamda=%d pm',lamda1)\n",
"printf('\n d=%d pm',d)"
   ]
   }
,
{
		   "cell_type": "markdown",
		   "metadata": {},
		   "source": [
			"## Example 5.25: To_find_the_wavelength.sce"
		   ]
		  },
  {
"cell_type": "code",
	   "execution_count": null,
	   "metadata": {
	    "collapsed": true
	   },
	   "outputs": [],
"source": [
"//Example 5_25\n",
"clc();\n",
"clear;\n",
"//To find the wavelength at which planes give rise to maximum intensity\n",
"d=275  //units in pm\n",
"theta=45   //units in degrees\n",
"lamda=(2*d*sin(theta*%pi/180))   //units in pm\n",
"n=3\n",
"printf('\nFor n=3 lamda=%.2f',lamda/n)     \n",
"n=4\n",
"printf('\nFor n=4 lamda=%.2f',lamda/n)     \n",
"printf('\nLamda lies beyond the range of wavelengths of polychromatic source')"
   ]
   }
,
{
		   "cell_type": "markdown",
		   "metadata": {},
		   "source": [
			"## Example 5.26: To_calculate_the_bragg_angle_and_the_wavelength.sce"
		   ]
		  },
  {
"cell_type": "code",
	   "execution_count": null,
	   "metadata": {
	    "collapsed": true
	   },
	   "outputs": [],
"source": [
"//Example 5_26\n",
"clc();\n",
"clear;\n",
"//To calculate the braggs angle and Wavelength\n",
"theta2=87   //units in degrees\n",
"theta=theta2/2      //units in degrees\n",
"h=1\n",
"k=1\n",
"l=1\n",
"a=0.2    //units in nm\n",
"d=a/sqrt(h^2+k^2+l^2)   //units in nm\n",
"lamda=2*d*sin(theta*%pi/180)  //units in nm\n",
"printf('lamda=%.3f nm',lamda)"
   ]
   }
,
{
		   "cell_type": "markdown",
		   "metadata": {},
		   "source": [
			"## Example 5.27: To_identify_the_unite_cell_and_to_determine_its_dimensions.sce"
		   ]
		  },
  {
"cell_type": "code",
	   "execution_count": null,
	   "metadata": {
	    "collapsed": true
	   },
	   "outputs": [],
"source": [
"//Example 5_27\n",
"clc();\n",
"clear;\n",
"//To identify unit cell and determine its dimensions\n",
"printf('We have the relation sin^(theta)=((lamda/(2*a))^2*(h^2+k^2+l^2))=(j*((lamda/(2*a))^2)')\n",
"printf('\n This can be used to Estimate the cell parameters and Indexing')"
   ]
   }
,
{
		   "cell_type": "markdown",
		   "metadata": {},
		   "source": [
			"## Example 5.28: To_calculate_the_effective_temprature.sce"
		   ]
		  },
  {
"cell_type": "code",
	   "execution_count": null,
	   "metadata": {
	    "collapsed": true
	   },
	   "outputs": [],
"source": [
"//Example 5_28\n",
"clc();\n",
"clear;\n",
"//To calculate the effective temprature\n",
"theta=28.5    //units in degrees\n",
"d=0.203    //units in nm\n",
"lamda=(2*d*sin(theta*%pi/180))*10^-9  //units in  nano meters\n",
"h=6.626*10^-34\n",
"m=1.67*10^-27\n",
"k=1.38*10^-23\n",
"t=h^2/(3*m*k*lamda^2)\n",
"printf('The effective tempratures is T=%d K',t)"
   ]
   }
,
{
		   "cell_type": "markdown",
		   "metadata": {},
		   "source": [
			"## Example 5.29: To_calculate_the_braggs_angle.sce"
		   ]
		  },
  {
"cell_type": "code",
	   "execution_count": null,
	   "metadata": {
	    "collapsed": true
	   },
	   "outputs": [],
"source": [
"//Example 5_29\n",
"clc();\n",
"clear;\n",
"//To calculate the Braggs angle\n",
"h=6.624*10^-34          \n",
"m=9.1*10^-31       //units in Kgs\n",
"e=1.6*10^-19   //units in eV\n",
"vo=80   //units in nm\n",
"lamda=(h/sqrt(2*m*e*vo))*10^9    //units in m\n",
"h=1\n",
"k=1\n",
"l=1\n",
"lp=0.35   //units in nm\n",
"d111=lp/sqrt(h^2+k^2+l^2)      //units in nm\n",
"theta=asin(lamda/(2*d111))*(180/%pi)\n",
"printf('Braggs angle is %.2f Degrees',theta)"
   ]
   }
,
{
		   "cell_type": "markdown",
		   "metadata": {},
		   "source": [
			"## Example 5.2: To_show_for_a_simple_cubic_lattice.sce"
		   ]
		  },
  {
"cell_type": "code",
	   "execution_count": null,
	   "metadata": {
	    "collapsed": true
	   },
	   "outputs": [],
"source": [
"//Example 5_2\n",
"clc();\n",
"clear;\n",
"//To show d100:d110:d111=sqrt(6):sqrt(3):sqrt(2)\n",
"//For d100\n",
"h=1\n",
"k=0\n",
"l=0\n",
"d100=1/sqrt(h^2+k^2+l^2)   //Units in terms of a\n",
"//For d110\n",
"h=1\n",
"k=1\n",
"l=0\n",
"d110=1/sqrt(h^2+k^2+l^2)   //Units in terms of a\n",
"//For d111\n",
"h=1\n",
"k=1\n",
"l=1\n",
"d111=1/sqrt(h^2+k^2+l^2)   //Units in terms of a\n",
"printf('d100:d110:d111=%.3f:%.3f:%.3f',d100,d110,d111)"
   ]
   }
,
{
		   "cell_type": "markdown",
		   "metadata": {},
		   "source": [
			"## Example 5.30: To_explain_the_difference_between_the_samples.sce"
		   ]
		  },
  {
"cell_type": "code",
	   "execution_count": null,
	   "metadata": {
	    "collapsed": true
	   },
	   "outputs": [],
"source": [
"//Example 5_30\n",
"clc();\n",
"clear;\n",
"//To give an explanation for the differences between samples\n",
"lamda=0.152  //units in nm\n",
"h=1\n",
"k=1\n",
"l=1\n",
"theta1=21   //units in degrees\n",
"theta2=383   //units in degrees\n",
"d111a=lamda/(2*sin(theta1*%pi/180))    //units in nm\n",
"d111b=lamda/(2*sin(theta2*%pi/180))  //units in nm\n",
"alpha1=d111a*sqrt(h^2+k^2+l^2)  //units in nm\n",
"alpha2=d111b*sqrt(h^2+k^2+l^2)  //units in nm\n",
"printf('For sample A Alpha=%.3f nm',alpha1)\n",
"printf('\nFor sample B Alpha=%.3f nm',alpha2)\n",
"//In text book answers are printed wrong as 0.363nm and 0.361nm correct answers are 0.3 nm and 0.275nm"
   ]
   }
,
{
		   "cell_type": "markdown",
		   "metadata": {},
		   "source": [
			"## Example 5.31: To_find_the_lattice_parameter_and_the_atomic_diameter.sce"
		   ]
		  },
  {
"cell_type": "code",
	   "execution_count": null,
	   "metadata": {
	    "collapsed": true
	   },
	   "outputs": [],
"source": [
"//Example 5_31\n",
"clc();\n",
"clear;\n",
"//To find the lattice parameter and atomic diameter\n",
"lamda=0.171  //units in nm\n",
"theta1=30   //units in degrees\n",
"theta2=35.283   //units in degrees\n",
"d100=lamda/(2*sin(theta1*%pi/180))\n",
"d200=lamda/(2*sin(theta2*%pi/180))\n",
"h=1\n",
"k=1\n",
"l=0\n",
"alpha1=d100*sqrt(h^2+k^2+l^2)\n",
"alpha2=d200*sqrt(h^2+k^2+l^2)\n",
"printf('As alpha1 != alpha2 that is %.3f!=%.3f \tMetal is not bee',alpha1,alpha2)\n",
"a=0.296  //units in nm\n",
"diam=a/(sqrt(h^2+k^2+l^2))\n",
"printf('\nAtomic diameter is a=%.2f nm',diam)"
   ]
   }
,
{
		   "cell_type": "markdown",
		   "metadata": {},
		   "source": [
			"## Example 5.32: To_find_the_braggs_reflection.sce"
		   ]
		  },
  {
"cell_type": "code",
	   "execution_count": null,
	   "metadata": {
	    "collapsed": true
	   },
	   "outputs": [],
"source": [
"//Example 5_32\n",
"clc();\n",
"clear;\n",
"//To find the plane which gives reflection\n",
"D=0.228  //units in nm\n",
"lamda=0.154  //units in nm\n",
"hkl=((2*D)/((lamda/2)*sqrt(3)))^2\n",
"printf('Tha maximum value that is possible for h^2+k^2+l^2=%.2f so (h,k,l) values are (2,2,2)',hkl)\n",
"//In text book answer printed wrong as 13.98 correct answer is 11.69"
   ]
   }
,
{
		   "cell_type": "markdown",
		   "metadata": {},
		   "source": [
			"## Example 5.33: To_calculate_the_wavelength_and_maximum_order_of_diffraction.sce"
		   ]
		  },
  {
"cell_type": "code",
	   "execution_count": null,
	   "metadata": {
	    "collapsed": true
	   },
	   "outputs": [],
"source": [
"//Example 5_33\n",
"clc();\n",
"clear;\n",
"//To calculate the wavelength and maximum order of diffraction\n",
"d=0.282*10^-9                   //units in meters\n",
"theta=8.583                   //units in degrees\n",
"lamda=2*d*(sin(theta*%pi/180))\n",
"lamda1=lamda*10^10    //units in A\n",
"theta=90  //units in degrees\n",
"n=(2*(d)*sin(theta*%pi/180))/lamda\n",
"printf('wave length lamda=%.3fA',lamda1)\n",
"printf('\nMaximum order of diffraction n=%d',round(n))"
   ]
   }
,
{
		   "cell_type": "markdown",
		   "metadata": {},
		   "source": [
			"## Example 5.34: To_find_the_angle_at_which_it_occurs.sce"
		   ]
		  },
  {
"cell_type": "code",
	   "execution_count": null,
	   "metadata": {
	    "collapsed": true
	   },
	   "outputs": [],
"source": [
"//Example 5_34\n",
"clc();\n",
"clear;\n",
"//To find the angle at which it occurs \n",
"n=3\n",
"lemda=0.79*10^-10                       //units in meters\n",
"d=3.04*10^-10                          //units in meters\n",
"theta=asin((n*lemda)/(2*d))*180/%pi\n",
"printf('The angle at which it occurs is %.3f degrees',theta)"
   ]
   }
,
{
		   "cell_type": "markdown",
		   "metadata": {},
		   "source": [
			"## Example 5.3: To_determine_the_interplaner_spacing.sce"
		   ]
		  },
  {
"cell_type": "code",
	   "execution_count": null,
	   "metadata": {
	    "collapsed": true
	   },
	   "outputs": [],
"source": [
"//Example 5_3\n",
"clc();\n",
"clear;\n",
"//To determine the interplanar spacing \n",
"a=450   //units in nm\n",
"h=2\n",
"k=2\n",
"l=0\n",
"d220=a/sqrt(h^2+k^2+l^2)     //units in nm\n",
"printf('Inter planar spacing d220=%.1f nm',d220)\n",
"//in text book the answer is printed wrong as 15.1 nm The answer is  159 nm"
   ]
   }
,
{
		   "cell_type": "markdown",
		   "metadata": {},
		   "source": [
			"## Example 5.4: To_calculate_the_interplanar_spacing.sce"
		   ]
		  },
  {
"cell_type": "code",
	   "execution_count": null,
	   "metadata": {
	    "collapsed": true
	   },
	   "outputs": [],
"source": [
"//Example 5_4\n",
"clc();\n",
"clear;\n",
"//To determine the interplanar spacing \n",
"r=1.278*10^-10   //units in meters\n",
"a=(4*r)/sqrt(2)      //units in meters\n",
"h=1\n",
"k=1\n",
"l=1\n",
"d111=a/sqrt(h^2+k^2+l^2)     //units in meters\n",
"printf('Inter planar spacing d111=')\n",
"disp(d111)\n",
"printf('meters')"
   ]
   }
,
{
		   "cell_type": "markdown",
		   "metadata": {},
		   "source": [
			"## Example 5.5: To_find_the_lattice_parameter_of_lead.sce"
		   ]
		  },
  {
"cell_type": "code",
	   "execution_count": null,
	   "metadata": {
	    "collapsed": true
	   },
	   "outputs": [],
"source": [
"//Example 5_5\n",
"clc();\n",
"clear;\n",
"//To find the lattice parameter of lead\n",
"theta=30  //units in degrees\n",
"n=1\n",
"l=1.54*10^-10    //units in meters\n",
"d=(n*l)/(2*sin(theta*%pi/180))\n",
"h=2\n",
"k=2\n",
"l=0\n",
"a=d*(sqrt(h^2+k^2+l^2)) //units in meters\n",
"a=a*10^10      //units in Armstrongs\n",
"printf('Lattice parameter is a=%.1f A',a)\n",
"//in text book the answer is printed wrong as 4.1A The answer is  4.4A nm"
   ]
   }
,
{
		   "cell_type": "markdown",
		   "metadata": {},
		   "source": [
			"## Example 5.6: To_calculate_the_interplanar_spacing_of_the_crystal.sce"
		   ]
		  },
  {
"cell_type": "code",
	   "execution_count": null,
	   "metadata": {
	    "collapsed": true
	   },
	   "outputs": [],
"source": [
"//Example 5_6\n",
"clc();\n",
"clear;\n",
"//To calculate the inter planar spacing\n",
"//For theta=6.45\n",
"theta=6.45  //units in degrees\n",
"lamda=0.58    //units in Armstrongs\n",
"d_n=lamda/sin(6.45*%pi/180)    //units in Armstrongs\n",
"printf('Inter planara spacing at %.2fDegrees is d/n=%.3f Armstrongs',theta,d_n)\n",
"//For theta=9.15\n",
"theta=9.15  //units in degrees\n",
"lamda=0.58    //units in Armstrongs\n",
"d_n=lamda/sin(9.15*%pi/180)    //units in Armstrongs\n",
"printf('\nInter planara spacing at %.2fDegrees is d/n=%.3f Armstrongs',theta,d_n)\n",
"//For theta=13\n",
"theta=13  //units in degrees\n",
"lamda=0.58    //units in Armstrongs\n",
"d_n=lamda/sin(13*%pi/180)    //units in Armstrongs\n",
"printf('\nInter planara spacing at %.2fDegrees is d/n=%.3f Armstrongs',theta,d_n)\n",
"//In text book the answers are printed wrong as 2.568A, 1.817A,1.288A the correct answers are 5.163A,3.647A,2.578A"
   ]
   }
,
{
		   "cell_type": "markdown",
		   "metadata": {},
		   "source": [
			"## Example 5.7: To_find_the_number_of_orders_of_braggs_reflections.sce"
		   ]
		  },
  {
"cell_type": "code",
	   "execution_count": null,
	   "metadata": {
	    "collapsed": true
	   },
	   "outputs": [],
"source": [
"//Example 5_7\n",
"clc();\n",
"clear;\n",
"//To find the order of braggs equation \n",
"d=1.181   //units in A\n",
"theta=90     //units in degrees\n",
"lamda=1.540\n",
"n=(2*d*sin(theta*%pi/180))/lamda\n",
"\n",
"printf('The order of Braggs equation is %d',n)"
   ]
   }
,
{
		   "cell_type": "markdown",
		   "metadata": {},
		   "source": [
			"## Example 5.8: To_find_the_lattice_parameter.sce"
		   ]
		  },
  {
"cell_type": "code",
	   "execution_count": null,
	   "metadata": {
	    "collapsed": true
	   },
	   "outputs": [],
"source": [
"//Example 5_8\n",
"clc();\n",
"clear;\n",
"//To find lattice parameter\n",
"n=1\n",
"lamda=0.58 //units in A\n",
"theta=9.5  //units in degrees\n",
"a=(n*lamda)/(2*sin(theta*%pi/180))\n",
"printf('lattice parametera=%.3fA',a)\n",
"//In text book answer printed wrong as 3.52A correct answer is 1.75A"
   ]
   }
,
{
		   "cell_type": "markdown",
		   "metadata": {},
		   "source": [
			"## Example 5.9: To_calculate_the_glancing_angle.sce"
		   ]
		  },
  {
"cell_type": "code",
	   "execution_count": null,
	   "metadata": {
	    "collapsed": true
	   },
	   "outputs": [],
"source": [
"//Example 5_9\n",
"clc();\n",
"clear;\n",
"//To calculate the glancing angle\n",
"theta1=8.58  //units in degrees\n",
"n1=3\n",
"lamda1=0.842  //units in A\n",
"n2=3\n",
"lamda2=0.842  //units in A\n",
"sintheta3=(sin(theta1*%pi/180)*n1*lamda1)/(n2*lamda2)\n",
"theta3=asin(sintheta3)*180/%pi*3\n",
"printf('The Glancing angle is Theta3=%.2f degrees',theta3)\n",
"\n",
""
   ]
   }
],
"metadata": {
		  "kernelspec": {
		   "display_name": "Scilab",
		   "language": "scilab",
		   "name": "scilab"
		  },
		  "language_info": {
		   "file_extension": ".sce",
		   "help_links": [
			{
			 "text": "MetaKernel Magics",
			 "url": "https://github.com/calysto/metakernel/blob/master/metakernel/magics/README.md"
			}
		   ],
		   "mimetype": "text/x-octave",
		   "name": "scilab",
		   "version": "0.7.1"
		  }
		 },
		 "nbformat": 4,
		 "nbformat_minor": 0
}
