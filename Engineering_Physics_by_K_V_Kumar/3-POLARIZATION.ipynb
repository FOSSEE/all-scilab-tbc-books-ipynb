{
"cells": [
 {
		   "cell_type": "markdown",
	   "metadata": {},
	   "source": [
       "# Chapter 3: POLARIZATION"
	   ]
	},
{
		   "cell_type": "markdown",
		   "metadata": {},
		   "source": [
			"## Example 3.1: To_calculate_the_thickness_of_a_half_wave_plate.sce"
		   ]
		  },
  {
"cell_type": "code",
	   "execution_count": null,
	   "metadata": {
	    "collapsed": true
	   },
	   "outputs": [],
"source": [
"//Example 3_1\n",
"clc();\n",
"clear;\n",
"//To calculate the thickness of a half wave plate\n",
"lemda=500*10^-9                      //units in meters\n",
"ue=1.553\n",
"u0=1.544\n",
"t=(lemda/(2*(ue-u0)))*10^3\n",
"printf('Thickness of quartz half wave plate is %.4f mm',t)"
   ]
   }
,
{
		   "cell_type": "markdown",
		   "metadata": {},
		   "source": [
			"## Example 3.2: To_calculate_the_thickness_of_the_quarter_wave_plate.sce"
		   ]
		  },
  {
"cell_type": "code",
	   "execution_count": null,
	   "metadata": {
	    "collapsed": true
	   },
	   "outputs": [],
"source": [
"//Example 3_2\n",
"clc();\n",
"clear;\n",
"//To calculate the thickness of the quarter wave plate for sodium light\n",
"lemda=589*10^-9                      //units in meters\n",
"ue=1.553\n",
"u0=1.544\n",
"t=lemda/(4*(ue-u0))\n",
"printf('Thickness of quartz half wave plate is %f mm',t)"
   ]
   }
,
{
		   "cell_type": "markdown",
		   "metadata": {},
		   "source": [
			"## Example 3.3: To_calculate_the_thickness_of_a_quarter_wave_plate.sce"
		   ]
		  },
  {
"cell_type": "code",
	   "execution_count": null,
	   "metadata": {
	    "collapsed": true
	   },
	   "outputs": [],
"source": [
"//Example 3_3\n",
"clc();\n",
"clear;\n",
"//To calculate the thickness of a quarter wave plate for monochromotic light\n",
"lemda=600*10^-9                     //units in meters\n",
"u0=1.5533\n",
"ue=1.5442\n",
"t=lemda/(4*(u0-ue))*10^3\n",
"printf('The thickness of a quarter wave plate for monochromotic light is %.4f mm ',t)"
   ]
   }
,
{
		   "cell_type": "markdown",
		   "metadata": {},
		   "source": [
			"## Example 3.4: To_find_the_minimum_thickness_of_half_wave_and_quarter_wave.sce"
		   ]
		  },
  {
"cell_type": "code",
	   "execution_count": null,
	   "metadata": {
	    "collapsed": true
	   },
	   "outputs": [],
"source": [
"//Example 3_4\n",
"clc();\n",
"clear;\n",
"//To find the minimum thickness of half wave and quarter wave plates \n",
"lemda=589.3*10^-9                    //units in meters\n",
"u0=1.65833\n",
"ue=1.48640\n",
"t1=lemda/(2*(u0-ue))\n",
"printf('thickness of half wave plate is %.7f mm',t1)\n",
"t2=lemda/(4*(u0-ue))\n",
"printf('\n thickness of quarter wave plate is %.8f mm',t2)\n",
"printf('\n \n the minimum thickness of wave plate is %.7f mm',t1)"
   ]
   }
,
{
		   "cell_type": "markdown",
		   "metadata": {},
		   "source": [
			"## Example 3.5: To_calculate_the_wavelength_for_half_wave_plate.sce"
		   ]
		  },
  {
"cell_type": "code",
	   "execution_count": null,
	   "metadata": {
	    "collapsed": true
	   },
	   "outputs": [],
"source": [
"//Example 3_5\n",
"clc();\n",
"clear;\n",
"//To calculate the wavelength for half wave plate\n",
"t=0.9*10^-6                 //units in meters\n",
"u0=1.658\n",
"ue=1.486\n",
"lemda=(4*t*(u0-ue))\n",
"printf('Thickness of half wave plate is %.10f meters',lemda)\n",
"//To calculate the wavelength for half wave plate\n",
"lemda=(2*t*(u0-ue))*10^9\n",
"printf('\nThickness of half wave plate is %.1f mm',lemda)"
   ]
   }
],
"metadata": {
		  "kernelspec": {
		   "display_name": "Scilab",
		   "language": "scilab",
		   "name": "scilab"
		  },
		  "language_info": {
		   "file_extension": ".sce",
		   "help_links": [
			{
			 "text": "MetaKernel Magics",
			 "url": "https://github.com/calysto/metakernel/blob/master/metakernel/magics/README.md"
			}
		   ],
		   "mimetype": "text/x-octave",
		   "name": "scilab",
		   "version": "0.7.1"
		  }
		 },
		 "nbformat": 4,
		 "nbformat_minor": 0
}
