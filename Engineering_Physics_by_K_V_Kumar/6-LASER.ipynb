{
"cells": [
 {
		   "cell_type": "markdown",
	   "metadata": {},
	   "source": [
       "# Chapter 6: LASER"
	   ]
	},
{
		   "cell_type": "markdown",
		   "metadata": {},
		   "source": [
			"## Example 6.1: To_calculate_the_relative_populatio.sce"
		   ]
		  },
  {
"cell_type": "code",
	   "execution_count": null,
	   "metadata": {
	    "collapsed": true
	   },
	   "outputs": [],
"source": [
"//Example 6_1\n",
"clc();\n",
"clear;\n",
"//To calculate the relative population\n",
"h=6.626*10^-34\n",
"v=4.32*10^14\n",
"kb=1.38*10^-23\n",
"t=300\n",
"k=(h*v)/(kb*t)\n",
"n1_n2=%e^k\n",
"printf('Relative population N1/N2=')\n",
"disp(n1_n2)"
   ]
   }
,
{
		   "cell_type": "markdown",
		   "metadata": {},
		   "source": [
			"## Example 6.2: To_find_how_many_photons_emitted_and_power_density.sce"
		   ]
		  },
  {
"cell_type": "code",
	   "execution_count": null,
	   "metadata": {
	    "collapsed": true
	   },
	   "outputs": [],
"source": [
"//Example 6_2\n",
"clc();\n",
"clear;\n",
"//To find how many photons emitted and power density\n",
"v=3*10^8\n",
"lamda=632.8*10^-9\n",
"fre=v/lamda\n",
"outpow=2.3*10^-3\n",
"n=1\n",
"h=6.626*10^-34\n",
"N=(outpow*n)/(h*fre)\n",
"printf('Number of photons emitted is')\n",
"disp(N)\n",
"printf('photons/second\n')\n",
"spotarea=1*10^-6\n",
"density=outpow/spotarea\n",
"printf('Power density is %d kW/met^2',density)"
   ]
   }
,
{
		   "cell_type": "markdown",
		   "metadata": {},
		   "source": [
			"## Example 6.3: To_calculate_the_wavelength_of_emission_from_GaAs.sce"
		   ]
		  },
  {
"cell_type": "code",
	   "execution_count": null,
	   "metadata": {
	    "collapsed": true
	   },
	   "outputs": [],
"source": [
"//Example 6_3\n",
"clc();\n",
"clear;\n",
"//To calculate the wavelength of emission from GaAs\n",
"Eg=1.44*1.6*10^-19\n",
"h=6.626*10^-34\n",
"c=3*10^8\n",
"lamda=(h*c)/Eg\n",
"printf('Wavelength = %.10f',lamda)"
   ]
   }
,
{
		   "cell_type": "markdown",
		   "metadata": {},
		   "source": [
			"## Example 6.4: To_find_the_band_gap.sce"
		   ]
		  },
  {
"cell_type": "code",
	   "execution_count": null,
	   "metadata": {
	    "collapsed": true
	   },
	   "outputs": [],
"source": [
"//Example 6_4\n",
"clc();\n",
"clear;\n",
"//To find the band gap\n",
"lamda=1.55  //units in eV\n",
"eg=1.24/lamda   //units in eV\n",
"printf('Band gap is Eg=%.1feV',eg)"
   ]
   }
,
{
		   "cell_type": "markdown",
		   "metadata": {},
		   "source": [
			"## Example 6.5: To_find_the_relative_population_of_the_states_in_Ruby_laser.sce"
		   ]
		  },
  {
"cell_type": "code",
	   "execution_count": null,
	   "metadata": {
	    "collapsed": true
	   },
	   "outputs": [],
"source": [
"//Example 6_5\n",
"clc();\n",
"clear;\n",
"//To find the relative population of the states in Ruby laser\n",
"h=6.626*10^-34\n",
"v=3*10^8  //units in met/sec\n",
"kb=1.381*10^-23  //units in J/L\n",
"t=300   //units in K\n",
"n_no=exp((h*v)/(kb*t))\n",
"printf('The relative population of two states is N/N0=')\n",
"disp(n_no)\n",
"//In textb book answer is printed wrong as 8*10^31 correct answer is 1.000048 "
   ]
   }
,
{
		   "cell_type": "markdown",
		   "metadata": {},
		   "source": [
			"## Example 6.6: To_calculate_the_ratio_of_stimulated_emission_rate_to_spontaneous_emission.sce"
		   ]
		  },
  {
"cell_type": "code",
	   "execution_count": null,
	   "metadata": {
	    "collapsed": true
	   },
	   "outputs": [],
"source": [
"//Example 6_6\n",
"clc();\n",
"clear;\n",
"//To calculate the ratio of stimulated emission rate to spontaneous emission\n",
"c=3*10^8  //units in met/sec\n",
"lamda=0.5*10^-9\n",
"v=(c/lamda)*10^-3   //units in hz\n",
"h=6.626*10^-34  //units in J S\n",
"kb=1.381*10^-23  //units in J/K\n",
"t=1000\n",
"b21_a21=1/(exp((h*v)/(kb*t))-1)\n",
"printf('The ratio of Simulated emission to spontaneous emission B21/A21=')\n",
"disp(b21_a21)"
   ]
   }
],
"metadata": {
		  "kernelspec": {
		   "display_name": "Scilab",
		   "language": "scilab",
		   "name": "scilab"
		  },
		  "language_info": {
		   "file_extension": ".sce",
		   "help_links": [
			{
			 "text": "MetaKernel Magics",
			 "url": "https://github.com/calysto/metakernel/blob/master/metakernel/magics/README.md"
			}
		   ],
		   "mimetype": "text/x-octave",
		   "name": "scilab",
		   "version": "0.7.1"
		  }
		 },
		 "nbformat": 4,
		 "nbformat_minor": 0
}
