{
"cells": [
 {
		   "cell_type": "markdown",
	   "metadata": {},
	   "source": [
       "# Chapter 1: INTERFERENCE"
	   ]
	},
{
		   "cell_type": "markdown",
		   "metadata": {},
		   "source": [
			"## Example 1.10: To_Find_the_thickness_of_the_glass_plate.sce"
		   ]
		  },
  {
"cell_type": "code",
	   "execution_count": null,
	   "metadata": {
	    "collapsed": true
	   },
	   "outputs": [],
"source": [
"//Example 1_10\n",
"clc();\n",
"clear;\n",
"//To Find the thickness of the glass plate\n",
"lamda=4800                   //units in Angstrom\n",
"lamda=4800*10^-10            //units in mts\n",
"n=5\n",
"u1=1.4                      //first refractive index\n",
"u2=1.7                      //second refractive index\n",
"t=(n*lamda)/(u2-u1)               //units in mts\n",
"printf('thickness of glass plate is %f mts',t)"
   ]
   }
,
{
		   "cell_type": "markdown",
		   "metadata": {},
		   "source": [
			"## Example 1.11: To_find_the_refractive_index_of_oil.sce"
		   ]
		  },
  {
"cell_type": "code",
	   "execution_count": null,
	   "metadata": {
	    "collapsed": true
	   },
	   "outputs": [],
"source": [
"//Example 1_11\n",
"clc();\n",
"clear;\n",
"//To find the refractive index of oil\n",
"v=0.2      //units in cm\n",
"area=1  //units in m^2\n",
"area=area*10^4   //units in cm^2\n",
"t=v/area    //units in cm\n",
"n=1\n",
"lamda=5.5*10^-5      //units in cm\n",
"r=0      //units in degrees\n",
"u=(n*lamda)/(2*t*cos(r))\n",
"printf('Refractive index of oil is u=%.2f',u)"
   ]
   }
,
{
		   "cell_type": "markdown",
		   "metadata": {},
		   "source": [
			"## Example 1.12: To_calculate_the_fringe_width.sce"
		   ]
		  },
  {
"cell_type": "code",
	   "execution_count": null,
	   "metadata": {
	    "collapsed": true
	   },
	   "outputs": [],
"source": [
"//Example 1_13\n",
"clc();\n",
"clear;\n",
"//To calculate the fringe width\n",
"dist1=0.005      //units in mm\n",
"dist2=15   //units in cm\n",
"alpha=dist1/dist2 //units in radians\n",
"lamda=6000*10^-9   //units in cm\n",
"betaa=(lamda)/(2*alpha)    //units in \n",
"\n",
"printf('Fringe width beta=%.3fcm',betaa)\n",
"\n",
"//In text book answer is printed wrong as 0.09 cm answer is 0.009 cm"
   ]
   }
,
{
		   "cell_type": "markdown",
		   "metadata": {},
		   "source": [
			"## Example 1.13: To_calculate_the_fringe_width.sce"
		   ]
		  },
  {
"cell_type": "code",
	   "execution_count": null,
	   "metadata": {
	    "collapsed": true
	   },
	   "outputs": [],
"source": [
"//Example 1_13\n",
"clc();\n",
"clear;\n",
"//To calculate the fringe width\n",
"D=0.005                        //units in mm\n",
"d=15                          //units in cm\n",
"lemda=6000                    //units in angstroam\n",
"lemda=6000*10^-8              //units in cm\n",
"alpha=D/d                     //units in radians\n",
"beta=lemda/(2*alpha)\n",
"printf('fringe width is %.2f cm',beta)"
   ]
   }
,
{
		   "cell_type": "markdown",
		   "metadata": {},
		   "source": [
			"## Example 1.14: To_calculate_the_distance_from_the_fringe.sce"
		   ]
		  },
  {
"cell_type": "code",
	   "execution_count": null,
	   "metadata": {
	    "collapsed": true
	   },
	   "outputs": [],
"source": [
"//Example 1_14\n",
"clc();\n",
"clear;\n",
"//To calculate the distance from the fringe\n",
"n=10\n",
"lamda=6000*10^-10 //units in mts\n",
"alpha=0.01\n",
"x=(((2*n)-1)*lamda)/(4*alpha)  //units in mts\n",
"printf('Distance from 10th fringe is %.6f mts',x)"
   ]
   }
,
{
		   "cell_type": "markdown",
		   "metadata": {},
		   "source": [
			"## Example 1.15: To_find_the_diameter_of_the_5th_bright_ring.sce"
		   ]
		  },
  {
"cell_type": "code",
	   "execution_count": null,
	   "metadata": {
	    "collapsed": true
	   },
	   "outputs": [],
"source": [
"//Example 1_15\n",
"clc();\n",
"clear;\n",
"//To find the diameter of the 5th bright ring\n",
"n=5\n",
"lemda=5460                    //units in angstroam\n",
"lemda=5460*10^-8              //units in cm\n",
"u=1.50\n",
"f=400                        //units in cm\n",
"R=(u-1)*2*f\n",
"D=sqrt(2*(2*n-1)*lemda*R)\n",
"printf('The diameter of the 5th fringe %.2f mts',D)"
   ]
   }
,
{
		   "cell_type": "markdown",
		   "metadata": {},
		   "source": [
			"## Example 1.16: To_find_the_wavelength_in_the_visible_region.sce"
		   ]
		  },
  {
"cell_type": "code",
	   "execution_count": null,
	   "metadata": {
	    "collapsed": true
	   },
	   "outputs": [],
"source": [
"//Example 1_16\n",
"clc();\n",
"clear;\n",
"//To find the wavelength in the visible region\n",
"u=1.33\n",
"t=500                    //units in angstroam\n",
"t=500*10^-10             //units in mts\n",
"n=0                     //when n=0\n",
"lemda1=(4*u*t)/((2*n)+1)\n",
"printf('when n=0 then lemda1 is %.11f mts',lemda1)\n",
"n=1                    //when n=1\n",
"lemda2=(4*u*t)/((2*n)+1)\n",
"printf('\nwhen n=1 then lemda2 is %.11f mts',lemda2)\n",
"n=2                    //when n=1\n",
"lemda3=(4*u*t)/((2*n)+1)\n",
"printf('\n when n=2 then lemda3 is %.11f mts',lemda3)\n",
"n=3                   //when n=1\n",
"lemda4=(4*u*t)/((2*n)+1)\n",
"printf('\n when n=3 then lemda4 is %.11f mts',lemda4)\n",
"printf('\n Of all the wavelengths reflected in the visible region is %.11f mts',lemda3)"
   ]
   }
,
{
		   "cell_type": "markdown",
		   "metadata": {},
		   "source": [
			"## Example 1.17: To_calculate_the_order_of_interference_of_the_dark_band.sce"
		   ]
		  },
  {
"cell_type": "code",
	   "execution_count": null,
	   "metadata": {
	    "collapsed": true
	   },
	   "outputs": [],
"source": [
"//Example 1_17\n",
"clc();\n",
"clear;\n",
"//To calculate the order of interference of the dark band\n",
"t=1.5*10^-6                        //units in cm\n",
"lemda=5*10^-7                   //units in cm\n",
"i=60                            //units in degree\n",
"u=1.33\n",
"r=asin((sin(i*%pi/180))/u)*(180/%pi)    //units in degree\n",
"n=(2*u*t*cos(r*%pi/180))/lemda\n",
"printf('The order of interference of the dark band is %.0f',n)\n",
"//In this question,the thickness and lemda values are given wrong\n",
"//To get the answer i have followed the values that are taken in the answer"
   ]
   }
,
{
		   "cell_type": "markdown",
		   "metadata": {},
		   "source": [
			"## Example 1.18: To_calculate_the_smallest_thickness_of_the_plate.sce"
		   ]
		  },
  {
"cell_type": "code",
	   "execution_count": null,
	   "metadata": {
	    "collapsed": true
	   },
	   "outputs": [],
"source": [
"//Example 1_18\n",
"clc();\n",
"clear;\n",
"//To calculate the smallest thickness of the plate\n",
"lemda=5890                         //units in angstroam\n",
"lemda=5890*10^-10                 //units in mts\n",
"u=1.5\n",
"n=1\n",
"r=60                             //units in degree\n",
"t=(n*lemda)/(2*u*cos(r*%pi/180))*10^10\n",
"printf('Thickness of the glass plate is %.0f angstroam',t)"
   ]
   }
,
{
		   "cell_type": "markdown",
		   "metadata": {},
		   "source": [
			"## Example 1.19: To_find_the_diameter_of_20th_ring.sce"
		   ]
		  },
  {
"cell_type": "code",
	   "execution_count": null,
	   "metadata": {
	    "collapsed": true
	   },
	   "outputs": [],
"source": [
"//Example 1_19\n",
"clc();\n",
"clear;\n",
"//To find the diameter of 20th ring\n",
"D4=0.4                       //units in cm\n",
"D12=0.7                     //units in cm\n",
"D20=sqrt(2*(D12^2-D4^2)+D4^2)\n",
"printf('The diameter of the 20th dark ring is %.4f cm',D20)"
   ]
   }
,
{
		   "cell_type": "markdown",
		   "metadata": {},
		   "source": [
			"## Example 1.1: To_calculate_the_location_of_screen_from_slits.sce"
		   ]
		  },
  {
"cell_type": "code",
	   "execution_count": null,
	   "metadata": {
	    "collapsed": true
	   },
	   "outputs": [],
"source": [
"//Example 1_1\n",
"clc();\n",
"clear;\n",
"//To calculate the location of screen from slits\n",
"d=0.08            //units in cm\n",
"d=d*10^-2         //units in mts\n",
"betaa=6*10^-4       //units in mts\n",
"v=8*10^11           //units in kHz\n",
"c=3*10^8            //units in mts\n",
"lamda=c/(v*10^3)           //units in mts\n",
"d=(betaa*d)/lamda            //units in mts\n",
"printf('The distance of the screen from the slits is %.2fmts',d) "
   ]
   }
,
{
		   "cell_type": "markdown",
		   "metadata": {},
		   "source": [
			"## Example 1.20: To_calculate_the_refractive_index_of_the_liquid.sce"
		   ]
		  },
  {
"cell_type": "code",
	   "execution_count": null,
	   "metadata": {
	    "collapsed": true
	   },
	   "outputs": [],
"source": [
"//Example 1_20\n",
"clc();\n",
"clear;\n",
"//To calculate the refractive index of the liquid\n",
"D10=1.40                       //units in cm\n",
"d10=1.27                      //units in cm\n",
"u=D10^2/d10^2\n",
"printf('Refractive index of the liquid is %.3f',u)"
   ]
   }
,
{
		   "cell_type": "markdown",
		   "metadata": {},
		   "source": [
			"## Example 1.21: To_find_the_wavelength_of_light_used.sce"
		   ]
		  },
  {
"cell_type": "code",
	   "execution_count": null,
	   "metadata": {
	    "collapsed": true
	   },
	   "outputs": [],
"source": [
"//Example 1_21\n",
"clc();\n",
"clear;\n",
"//To find the wavelength of light used\n",
"D5=0.3                         //units in cm\n",
"D25=0.8                       //units in cm\n",
"R=100                        //units in cm\n",
"P=20\n",
"lemda=(D25^2-D5^2)/(4*P*R)\n",
"printf('The wavelength of the light used is %f cm',lemda)"
   ]
   }
,
{
		   "cell_type": "markdown",
		   "metadata": {},
		   "source": [
			"## Example 1.22: To_find_the_total_number_of_lines.sce"
		   ]
		  },
  {
"cell_type": "code",
	   "execution_count": null,
	   "metadata": {
	    "collapsed": true
	   },
	   "outputs": [],
"source": [
"//Example 1_22\n",
"clc();\n",
"clear;\n",
"//To calculate the number of lines\n",
"theta=18.233   //units in degrees\n",
"n=1\n",
"lamda=6.56*10^-7   //units in meters\n",
"m=(0.02*sin(theta*%pi/180))/(n*lamda)\n",
"printf('Number of lines M=%d',m)"
   ]
   }
,
{
		   "cell_type": "markdown",
		   "metadata": {},
		   "source": [
			"## Example 1.23: To_calculate_the_smallest_thickness_of_the_plate.sce"
		   ]
		  },
  {
"cell_type": "code",
	   "execution_count": null,
	   "metadata": {
	    "collapsed": true
	   },
	   "outputs": [],
"source": [
"//Example 1_23\n",
"clc();\n",
"clear;\n",
"//To calculate the smallest thickness of the plate\n",
"lemda=5890                          //units in angstroam\n",
"lemda=5890*10^-10                  //units in mts\n",
"u=1.5\n",
"r=60                         //units in degrees\n",
"t=lemda/(2*u*cos(r*%pi/180))*10^10\n",
"printf('The smallest thickness of the plate %.0f angstroam',t)"
   ]
   }
,
{
		   "cell_type": "markdown",
		   "metadata": {},
		   "source": [
			"## Example 1.24: To_calculate_the_refractive_index_of_the_liquid.sce"
		   ]
		  },
  {
"cell_type": "code",
	   "execution_count": null,
	   "metadata": {
	    "collapsed": true
	   },
	   "outputs": [],
"source": [
"//Example 1_24\n",
"clc();\n",
"clear;\n",
"//To calculate the refractive index of the liquid\n",
"lemda=5.895*10^-7                         //units in mts\n",
"D=0.3*10^-2                             //units in mts\n",
"R=1                                     //units in mts\n",
"n=5\n",
"u=(4*R*n*lemda)/D^2\n",
"printf('The reractive index of the liquid is %.2f',u)"
   ]
   }
,
{
		   "cell_type": "markdown",
		   "metadata": {},
		   "source": [
			"## Example 1.25: To_find_the_value_of_slit_width.sce"
		   ]
		  },
  {
"cell_type": "code",
	   "execution_count": null,
	   "metadata": {
	    "collapsed": true
	   },
	   "outputs": [],
"source": [
"//Example 1_25\n",
"clc();\n",
"clear;\n",
"//To find the value of the slit width\n",
"lemda=6500                           //units in angstroam\n",
"theta=30                            //units in degrees\n",
"a=lemda/sin(theta*%pi/180)\n",
"printf('The value of the slit is %.0f angstroam',a)"
   ]
   }
,
{
		   "cell_type": "markdown",
		   "metadata": {},
		   "source": [
			"## Example 1.26: To_find_the_amplitude_of_the_resultant_wave.sce"
		   ]
		  },
  {
"cell_type": "code",
	   "execution_count": null,
	   "metadata": {
	    "collapsed": true
	   },
	   "outputs": [],
"source": [
"//Example 1_26\n",
"clc();\n",
"clear;\n",
"//tofind the amplitude of the resultant wave\n",
"pathdifference=1/4         //in terns of lamda\n",
"phasedifference=(2*%pi)*pathdifference    //In terms of lamda\n",
"amplitude=2*cos(phasedifference/2)   //in terms of a\n",
"printf('Amplitude A=%.3f*a',amplitude)"
   ]
   }
,
{
		   "cell_type": "markdown",
		   "metadata": {},
		   "source": [
			"## Example 1.27: To_find_at_what_wavelength_in_the_visible_region_are_reflected.sce"
		   ]
		  },
  {
"cell_type": "code",
	   "execution_count": null,
	   "metadata": {
	    "collapsed": true
	   },
	   "outputs": [],
"source": [
"//Example 1_27\n",
"clc();\n",
"clear;\n",
"//To find the wavelength in the visible region\n",
"t=5000                         //units in angstroam\n",
"t=5000*10^-10                 //units in mts\n",
"u=1.33\n",
"n=0                       //let us take n=0\n",
"lemda=(4*u*t)/(2*n+1)\n",
"printf('The wavelength in the infrared region is %.10f',lemda)\n",
"n=1                      //let us take n=1\n",
"lemda1=(4*u*t)/(2*n+1)\n",
"printf('\n The wavelength in the IR region is %.10f',lemda1)\n",
"n=2                     //let us take n=2\n",
"lemda3=(4*u*t)/(2*n+1)\n",
"printf('\n The wavelength in the visible region is %.10f',lemda3)\n",
"n=3                   //let us take n=3\n",
"lemda4=(4*u*t)/(2*n+1)\n",
"printf('\n The wavelength in the UV region is %.10f',lemda4)\n",
"printf('\n\n In all wavelengths reflacted The wavelength in the visible region %.10f',lemda3)"
   ]
   }
,
{
		   "cell_type": "markdown",
		   "metadata": {},
		   "source": [
			"## Example 1.28: To_calculate_the_order_of_interference.sce"
		   ]
		  },
  {
"cell_type": "code",
	   "execution_count": null,
	   "metadata": {
	    "collapsed": true
	   },
	   "outputs": [],
"source": [
"//Example 1_28\n",
"clc();\n",
"clear;\n",
"//To calculate the order of interference of the dark fringe\n",
"u=1.33\n",
"t=1.5*10^-4                       //units in cm\n",
"i=60                             //units in degrees\n",
"lemda=5*10^-5                    //units in cm\n",
"r=asin(sin(60*%pi/180)/u)*180/%pi\n",
"n=(2*u*t*cos(r*%pi/180))/lemda\n",
"printf('The order of interface of the dark fringe is %.0f',n)"
   ]
   }
,
{
		   "cell_type": "markdown",
		   "metadata": {},
		   "source": [
			"## Example 1.29: To_calculate_the_smallest_thickness.sce"
		   ]
		  },
  {
"cell_type": "code",
	   "execution_count": null,
	   "metadata": {
	    "collapsed": true
	   },
	   "outputs": [],
"source": [
"//Example 1_29\n",
"clc();\n",
"clear;\n",
"//To calculate the smallest thickness of the plate\n",
"lemda=5890                          //units in angstroam\n",
"//lemda=5890*10^-10                  //units in mts\n",
"u=1.5\n",
"r=60                              //units in degrees\n",
"t=lemda/(2*u*cos(r*%pi/180))\n",
"printf('The smallest thickness of the plate is %.0f angstroam',t)"
   ]
   }
,
{
		   "cell_type": "markdown",
		   "metadata": {},
		   "source": [
			"## Example 1.2: To_calculate_the_wavelength.sce"
		   ]
		  },
  {
"cell_type": "code",
	   "execution_count": null,
	   "metadata": {
	    "collapsed": true
	   },
	   "outputs": [],
"source": [
"//Example 1_2\n",
"clc();\n",
"clear;\n",
"//To calculate the wavelength\n",
"//First case to calculte the wavelengths of the light source to obtain fringes 0.46*10^-2 mts\n",
"lamda1=4200    //units in armstrongs\n",
"lamda1=lamda1*10^-10   //units in mts\n",
"betaa=0.64*10^-2     //units in mts\n",
"D_d=betaa/lamda1      //units in mts\n",
"//Second caseDistance between slits and screen is reduced to half\n",
"beeta1=0.46*10^-2     //units in mts\n",
"lamdaD_d=beeta1*2             //units in mts\n",
"lamda=(lamda1*lamdaD_d)/betaa           //units in mts\n",
"lamda=lamda*10^10      //units in armstrongs\n",
"printf('The wavelength of the Light source is %.1fArmstrongs',lamda)"
   ]
   }
,
{
		   "cell_type": "markdown",
		   "metadata": {},
		   "source": [
			"## Example 1.30: To_calculate_the_thickness_of_air_film.sce"
		   ]
		  },
  {
"cell_type": "code",
	   "execution_count": null,
	   "metadata": {
	    "collapsed": true
	   },
	   "outputs": [],
"source": [
"//Example 1_30\n",
"clc();\n",
"clear;\n",
"//To calculate the thickness of air film\n",
"lemda=500                        //units in nanometers\n",
"lemda=500*10^-9                  //units in meters\n",
"n=10\n",
"D=2                             //units in millimeters\n",
"D=2*10-3                      //units in meters\n",
"R=D^2/(4*n*lemda)             //units in meters\n",
"t=(D^2/(8*R))*10^6\n",
"printf('Thickness of air film is %.1f micrometers',t)"
   ]
   }
,
{
		   "cell_type": "markdown",
		   "metadata": {},
		   "source": [
			"## Example 1.31: To_find_the_wavelength_of_the_light.sce"
		   ]
		  },
  {
"cell_type": "code",
	   "execution_count": null,
	   "metadata": {
	    "collapsed": true
	   },
	   "outputs": [],
"source": [
"//Example 1_30\n",
"clc();\n",
"clear;\n",
"//To find the wavelength of the light\n",
"D5=0.336                            //units in centimeters\n",
"D5=0.336*10^-2                     //units in meters\n",
"D15=0.59                          //units in centimeters\n",
"D15=0.59*10^-2                    //units in meters\n",
"m=10\n",
"R=100                            //units in centimeters\n",
"R=100*10^-2                      //units in meters\n",
"lemda=((D15^2-D5^2)/(4*m*R))*10^9\n",
"printf('Wavelength of the light is %.0f nanometers',lemda)"
   ]
   }
,
{
		   "cell_type": "markdown",
		   "metadata": {},
		   "source": [
			"## Example 1.32: To_find_the_radius_of_curvature.sce"
		   ]
		  },
  {
"cell_type": "code",
	   "execution_count": null,
	   "metadata": {
	    "collapsed": true
	   },
	   "outputs": [],
"source": [
"//Example 1_32\n",
"clc();\n",
"clear;\n",
"//To find the radius of curvature of the lens\n",
"lemda=5900                          //units in angstroam\n",
"lemda=5900*10^-10                  //units in meters\n",
"D=0.5                             //units in centimeters\n",
"D=0.5*10^-2                      //units in meters\n",
"n=10\n",
"R=D^2/(4*n*lemda)\n",
"printf('The radius of the curvature of lens is %.3f meters',R)"
   ]
   }
,
{
		   "cell_type": "markdown",
		   "metadata": {},
		   "source": [
			"## Example 1.33: To_calculate_the_refractive_index_of_the_liquid.sce"
		   ]
		  },
  {
"cell_type": "code",
	   "execution_count": null,
	   "metadata": {
	    "collapsed": true
	   },
	   "outputs": [],
"source": [
"//Example 1_33\n",
"clc();\n",
"clear;\n",
"//To calculate the refractive index of the liquid\n",
"lemda=5.895*10^-7                    //units in meters\n",
"D=0.3                               //units in centimeters\n",
"D=0.3*10^-2                         //units in meters\n",
"R=100                               //units in centimeters\n",
"R=100*10^-2                        //units in meters\n",
"n=5\n",
"u=(4*R*n*lemda)/D^2\n",
"printf('The refractive index of the liquid is %.3f',u)"
   ]
   }
,
{
		   "cell_type": "markdown",
		   "metadata": {},
		   "source": [
			"## Example 1.34: To_calculate_index_of_the_liquid.sce"
		   ]
		  },
  {
"cell_type": "code",
	   "execution_count": null,
	   "metadata": {
	    "collapsed": true
	   },
	   "outputs": [],
"source": [
"//Example 1_34\n",
"clc();\n",
"clear;\n",
"//To calculate the refractive index of the liquid\n",
"D1=1.40                          //units in centimeters\n",
"D1=1.40*10^-2                    //units in meters\n",
"D2=1.27                          //units in centimeters\n",
"D2=1.27*10^-2                    //units in meters\n",
"u=(D1/D2)^2\n",
"printf('Refractive index of the liquid is %.3f',u)"
   ]
   }
,
{
		   "cell_type": "markdown",
		   "metadata": {},
		   "source": [
			"## Example 1.35: To_calculate_the_intensity_ratio.sce"
		   ]
		  },
  {
"cell_type": "code",
	   "execution_count": null,
	   "metadata": {
	    "collapsed": true
	   },
	   "outputs": [],
"source": [
"//Example 1_35\n",
"clc();\n",
"clear;\n",
"//To calculate the intensity ratio of the bright and dark fringes\n",
"I1=1\n",
"I2=25\n",
"A1=sqrt(I1)\n",
"A2=sqrt(I2)\n",
"Imax=(A1+A2)^2\n",
"Imin=(A2-A1)^2\n",
"printf('The intensity ratio is \n\t Imax:Imin %d:%d',Imax,Imin)"
   ]
   }
,
{
		   "cell_type": "markdown",
		   "metadata": {},
		   "source": [
			"## Example 1.36: To_find_the_order_which_will_be_visible_at_this_point.sce"
		   ]
		  },
  {
"cell_type": "code",
	   "execution_count": null,
	   "metadata": {
	    "collapsed": true
	   },
	   "outputs": [],
"source": [
"//Example 1_36\n",
"clc();\n",
"clear;\n",
"//To find the order which will be visible at this point\n",
"lemda1=6000                         //units in angstroam\n",
"lemda1=6000*10^-8                  //units in cm\n",
"lemda2=4500                       //units in angstroam\n",
"lemda2=4500*10^-8                 //units in cm\n",
"n1=21\n",
"n2=(n1*lemda1)/lemda2\n",
"printf('The order is %.0f',n2)"
   ]
   }
,
{
		   "cell_type": "markdown",
		   "metadata": {},
		   "source": [
			"## Example 1.37: To_find_the_separation_between_the_slits.sce"
		   ]
		  },
  {
"cell_type": "code",
	   "execution_count": null,
	   "metadata": {
	    "collapsed": true
	   },
	   "outputs": [],
"source": [
"//Example 1_37\n",
"clc();\n",
"clear;\n",
"//To find the separation between the slits\n",
"lemda=5100                   //units in angstroam\n",
"lemda=5100*10^-8           //units in cm\n",
"D=200                      //units in cm\n",
"betaa=0.01                //units in mts\n",
"betaa=0.01*10^-3                //units in cm\n",
"d=(lemda*D)/betaa*10^-3\n",
"printf('The separation between the slits is %.2f mts',d)"
   ]
   }
,
{
		   "cell_type": "markdown",
		   "metadata": {},
		   "source": [
			"## Example 1.38: To_calculate_the_thickness_of_the_mica_sheet.sce"
		   ]
		  },
  {
"cell_type": "code",
	   "execution_count": null,
	   "metadata": {
	    "collapsed": true
	   },
	   "outputs": [],
"source": [
"//Example 1_38\n",
"clc();\n",
"clear;\n",
"//To calculate the thickness of the mica sheet\n",
"d=0.1                           //units in cm\n",
"D=50                           //units in cm\n",
"u=1.58\n",
"x=0.2                         //units in cm\n",
"t=(x*d)/(D*(u-1))\n",
"printf('The thickness of the mica sheet is %.6f cm',t)"
   ]
   }
,
{
		   "cell_type": "markdown",
		   "metadata": {},
		   "source": [
			"## Example 1.39: To_calculate_the_fringe_width.sce"
		   ]
		  },
  {
"cell_type": "code",
	   "execution_count": null,
	   "metadata": {
	    "collapsed": true
	   },
	   "outputs": [],
"source": [
"//Example 1_39\n",
"clc();\n",
"clear;\n",
"//To calculate the fringe width\n",
"lemda=5000                     //units in angstroam\n",
"lemda=5000*10^-8               //units in cm\n",
"d=0.05                         //units in cm\n",
"D=50                           //units in cm\n",
"betaa=(lemda*D)/d\n",
"printf('Fringe width is %.2f cm',betaa)"
   ]
   }
,
{
		   "cell_type": "markdown",
		   "metadata": {},
		   "source": [
			"## Example 1.3: EX1_3.sce"
		   ]
		  },
  {
"cell_type": "code",
	   "execution_count": null,
	   "metadata": {
	    "collapsed": true
	   },
	   "outputs": [],
"source": [
"//Example 1_3\n",
"clc(); \n",
"clear;\n",
"//To compare the intensity at a point distance 1mm from the center to that at its center and to find minimum dist from center of point \n",
"//Path difference=(Y*d)/D\n",
"y=1     //units in mm\n",
"y=y*10^-3     //units in mts\n",
"D=1      //units in mts\n",
"d=1     //units in mm\n",
"d=d*10^-3      //units in mts\n",
"pathdifference=(y*d)/D         //units in mts\n",
"lamda=5893     //units in armstrongs\n",
"lamda=lamda*10^-10    //units in mts\n",
"phasedifference=(2*pathdifference)/lamda           //units in pi radians\n",
"ratioofintensity=(cos((phasedifference/2)*%pi))^2   \n",
"printf('The ratio of intensity with central maximum is %.4f\n',ratioofintensity)\n",
"pathdifference=lamda/4\n",
"distance=(pathdifference*D)/d        //units in mts\n",
"printf('The Distance of the point on the screen from center is %fmts',distance)"
   ]
   }
,
{
		   "cell_type": "markdown",
		   "metadata": {},
		   "source": [
			"## Example 1.40: To_calculate_the_wavelength_of_source_of_light.sce"
		   ]
		  },
  {
"cell_type": "code",
	   "execution_count": null,
	   "metadata": {
	    "collapsed": true
	   },
	   "outputs": [],
"source": [
"//Example 1_40\n",
"clc();\n",
"clear;\n",
"//To calculate the wavelength of source of light\n",
"betaa=0.30                //units in cm\n",
"d=0.04                   //units in cm\n",
"D=180                   //units in cm\n",
"lemda=((betaa*d)/D)*10^8\n",
"printf('The wavelength of source of light is %.0f angstroam',lemda)\n",
"//In text book answer is printed wrong as 6700A But the correct answer is  6667 A"
   ]
   }
,
{
		   "cell_type": "markdown",
		   "metadata": {},
		   "source": [
			"## Example 1.41: To_calculate_the_wavelength_of_monochromatic_light.sce"
		   ]
		  },
  {
"cell_type": "code",
	   "execution_count": null,
	   "metadata": {
	    "collapsed": true
	   },
	   "outputs": [],
"source": [
"//Example 1_41\n",
"clc();\n",
"clear;\n",
"//To calculate the wavelength of monochromatic light\n",
"betaa=0.4                   //units in mm\n",
"betaa=0.4*10^-1            //units in cm\n",
"d=0.1                     //units in cm\n",
"D=80                     //units in cm\n",
"lemda=(d*betaa)/D*10^8\n",
"printf('The wavelength of monochromatic light is %.0f angstroam',lemda)"
   ]
   }
,
{
		   "cell_type": "markdown",
		   "metadata": {},
		   "source": [
			"## Example 1.42: To_find_the_fringe_width.sce"
		   ]
		  },
  {
"cell_type": "code",
	   "execution_count": null,
	   "metadata": {
	    "collapsed": true
	   },
	   "outputs": [],
"source": [
"//Example 1_42\n",
"clc();\n",
"clear;\n",
"//To find the fringe width\n",
"lemda=5000                     //units in angstroam\n",
"lemda=5000*10^-8              //units in cm\n",
"d=0.05                       //units in cm\n",
"D=50                         //units in cm\n",
"betaa=(lemda*D)/d\n",
"printf('Fringe width is %.2f cm',betaa)"
   ]
   }
,
{
		   "cell_type": "markdown",
		   "metadata": {},
		   "source": [
			"## Example 1.43: To_find_the_thickness_of_the_soap_film.sce"
		   ]
		  },
  {
"cell_type": "code",
	   "execution_count": null,
	   "metadata": {
	    "collapsed": true
	   },
	   "outputs": [],
"source": [
"//Example 1_43\n",
"clc();\n",
"clear;\n",
"//To find the thickness of the soap film\n",
"lemda=7000                    //units in angstroam\n",
"lemda=7000*10^-8             //units in cm\n",
"u=1.33\n",
"n=2\n",
"t=(((2*n)+1)*(lemda/2))/(2*u)\n",
"printf('Thickness of the soap film is %.8f cm',t)"
   ]
   }
,
{
		   "cell_type": "markdown",
		   "metadata": {},
		   "source": [
			"## Example 1.44: To_find_the_refractive_index_of_the_transparent_sheet.sce"
		   ]
		  },
  {
"cell_type": "code",
	   "execution_count": null,
	   "metadata": {
	    "collapsed": true
	   },
	   "outputs": [],
"source": [
"//Example 1_44\n",
"clc();\n",
"clear;\n",
"//To find the refractive index of the transparent sheet\n",
"lemda=5460*10^-8                  //units in cm\n",
"t=6.3*10^-4                      //units in cm\n",
"n=6\n",
"u=(n*lemda)/t+1\n",
"printf('The refractive index of the transparent sheet is %.2f',u)"
   ]
   }
,
{
		   "cell_type": "markdown",
		   "metadata": {},
		   "source": [
			"## Example 1.45: To_calculate_the_thickness_of_the_glass_plate.sce"
		   ]
		  },
  {
"cell_type": "code",
	   "execution_count": null,
	   "metadata": {
	    "collapsed": true
	   },
	   "outputs": [],
"source": [
"//Example 1_45\n",
"clc();\n",
"clear;\n",
"//To calculate the thickness of the glass plate\n",
"lemda=5000                      //units in angstroam\n",
"lemda=5000*10^-8               //units in cm\n",
"u=1.56\n",
"n=16\n",
"t=(n*lemda)/(u-1)\n",
"printf('Thickness of the glass plate is %.6f cm',t)"
   ]
   }
,
{
		   "cell_type": "markdown",
		   "metadata": {},
		   "source": [
			"## Example 1.46: To_find_the_least_thickness_of_the_glass_plate.sce"
		   ]
		  },
  {
"cell_type": "code",
	   "execution_count": null,
	   "metadata": {
	    "collapsed": true
	   },
	   "outputs": [],
"source": [
"//Example 1_46\n",
"clc();\n",
"clear;\n",
"//To find the least thickness of the glass plate\n",
"lemda=6000                      //units in angstroam\n",
"lemda=6000*10^-8                //units in cm\n",
"u=1.5\n",
"r=50                            //units in degree\n",
"n=1                             //n=1 for least thickness\n",
"t=(n*lemda)/(2*u*cos(r*%pi/180))\n",
"printf('Least Thickness of the glass plate is %.7f cm',t)"
   ]
   }
,
{
		   "cell_type": "markdown",
		   "metadata": {},
		   "source": [
			"## Example 1.47: To_find_the_thickness_of_the_glass_plate.sce"
		   ]
		  },
  {
"cell_type": "code",
	   "execution_count": null,
	   "metadata": {
	    "collapsed": true
	   },
	   "outputs": [],
"source": [
"//Example 1_47\n",
"clc();\n",
"clear;\n",
"//To find the thickness of the glass plate\n",
"lemda=5000                    //units in angstroam\n",
"lemda=5000*10^-8              //units in cm\n",
"s_beta=6\n",
"u=1.5\n",
"t=((s_beta)*lemda)/(u-1)\n",
"printf('The thickness of the glass plate is %.4f cm',t)"
   ]
   }
,
{
		   "cell_type": "markdown",
		   "metadata": {},
		   "source": [
			"## Example 1.48: To_calculate_the_refractive_index_of_the_liquid.sce"
		   ]
		  },
  {
"cell_type": "code",
	   "execution_count": null,
	   "metadata": {
	    "collapsed": true
	   },
	   "outputs": [],
"source": [
"//Example 1_48\n",
"clc();\n",
"clear;\n",
"//To calculate the refractive index of the liquid\n",
"D8=1.42                     //units in cm\n",
"d8=1.25                    //units in cm\n",
"u=(D8)^2/(d8)^2\n",
"printf('The refractive index of the liquid is %.2f',u)"
   ]
   }
,
{
		   "cell_type": "markdown",
		   "metadata": {},
		   "source": [
			"## Example 1.49: To_find_the_thickness_of_the_thinnest_film.sce"
		   ]
		  },
  {
"cell_type": "code",
	   "execution_count": null,
	   "metadata": {
	    "collapsed": true
	   },
	   "outputs": [],
"source": [
"//Example 1_49\n",
"clc();\n",
"clear;\n",
"//To find the thickness of the thinnest film\n",
"u=1.33\n",
"lemda=6000                    //units in angstroam\n",
"lemda=6000*10^-8              //units in cm\n",
"i=0                          //units in degrees\n",
"r=0                          //units in degrees\n",
"n=1\n",
"t=(n*lemda)/(2*u*cos(r))\n",
"printf('Thickness of the thinnest film is %.7f cm',t)"
   ]
   }
,
{
		   "cell_type": "markdown",
		   "metadata": {},
		   "source": [
			"## Example 1.4: To_find_the_ratio_of_maximum_intensity_to_minimum_intensity.sce"
		   ]
		  },
  {
"cell_type": "code",
	   "execution_count": null,
	   "metadata": {
	    "collapsed": true
	   },
	   "outputs": [],
"source": [
"//Example 1_4\n",
"clc(); \n",
"clear;\n",
"//To find the ratio of maximum intensity to minimum intensity \n",
"I1=10              //units in watts per square mts\n",
"I2=25              //units in watts per square mts\n",
"I1_I2=I1/I2\n",
"a1_a2=sqrt(I1_I2)\n",
"Imax_Imin=(a1_a2+1)^2/(a1_a2-1)^2\n",
"printf('The ratio of maximum intensity to minimum intensity is %f',Imax_Imin)"
   ]
   }
,
{
		   "cell_type": "markdown",
		   "metadata": {},
		   "source": [
			"## Example 1.50: To_find_the_radius_of_curvature_of_the_plano_convex_lens.sce"
		   ]
		  },
  {
"cell_type": "code",
	   "execution_count": null,
	   "metadata": {
	    "collapsed": true
	   },
	   "outputs": [],
"source": [
"//Example 1_50\n",
"clc();\n",
"clear;\n",
"//To find the radius of curvature of the plano convex lens\n",
"lamda=6000                 //units in angstroam\n",
"lamda=6000*10^-8           //units in cm\n",
"m=18\n",
"Dm=0.65                   //units in cm\n",
"n=8\n",
"Dn=0.35                    //units in cm\n",
"R=(Dm^2-Dn^2)/(4*lamda*(m-n))\n",
"printf('Radius of curvature of the plano convex lens is %.0f cm',R)"
   ]
   }
,
{
		   "cell_type": "markdown",
		   "metadata": {},
		   "source": [
			"## Example 1.51: To_find_the_refraactive_index_of_the_liquid.sce"
		   ]
		  },
  {
"cell_type": "code",
	   "execution_count": null,
	   "metadata": {
	    "collapsed": true
	   },
	   "outputs": [],
"source": [
"//Example 1_51\n",
"clc();\n",
"clear;\n",
"//To find the refraactive index of the liquid\n",
"D12air=1.45           //units in cm\n",
"D12liq=1.25          //units in cm\n",
"u=(D12air)^2/(D12liq)^2\n",
"printf('Refractive index of the liquid is %.4f',u)"
   ]
   }
,
{
		   "cell_type": "markdown",
		   "metadata": {},
		   "source": [
			"## Example 1.52: To_find_diameter_of_25th_ring.sce"
		   ]
		  },
  {
"cell_type": "code",
	   "execution_count": null,
	   "metadata": {
	    "collapsed": true
	   },
	   "outputs": [],
"source": [
"//Example 1_52\n",
"clc();\n",
"clear;\n",
"//To find diameter of 25th ring\n",
"dm=0.62      //units in cm\n",
"ds=0.3     //units in cm\n",
"d25=2*(dm^2-ds^2)+ds^2      //units in cm^2\n",
"d25=sqrt(d25)              //units in cm\n",
"printf('Diameter of 25th ring is %.3f cm',d25)"
   ]
   }
,
{
		   "cell_type": "markdown",
		   "metadata": {},
		   "source": [
			"## Example 1.53: To_find_the_radius_of_the_curvature.sce"
		   ]
		  },
  {
"cell_type": "code",
	   "execution_count": null,
	   "metadata": {
	    "collapsed": true
	   },
	   "outputs": [],
"source": [
"//Example 1_53\n",
"clc();\n",
"clear;\n",
"//To find the radius of the curvature\n",
"lamda=5890              //units in angstroam\n",
"lamda=5890*10^-8        //units in cm\n",
"//diameter of the 15th ring\n",
"m=15\n",
"Dm=0.590                  //units in cm\n",
"//diameter of the 5th ring\n",
"n=5\n",
"Dn=0.336                  //units in cm\n",
"R=(Dm-Dn)/(4*lamda*(m-n))\n",
"printf('the radius of the curvature of the convex lens is %.2f cm',R)"
   ]
   }
,
{
		   "cell_type": "markdown",
		   "metadata": {},
		   "source": [
			"## Example 1.54: To_find_the_wavelength_of_the_light.sce"
		   ]
		  },
  {
"cell_type": "code",
	   "execution_count": null,
	   "metadata": {
	    "collapsed": true
	   },
	   "outputs": [],
"source": [
"//Example 1_54\n",
"clc();\n",
"clear;\n",
"//To find the wavelength of the light\n",
"R=70                 //units in cm\n",
"//Diameter of the 10th dark ring\n",
"D=0.433              //units in cm\n",
"n=10\n",
"lamda=D^2/(4*R*n)           //units in cm\n",
"printf('The wavelength of the light is %f cm',lamda)"
   ]
   }
,
{
		   "cell_type": "markdown",
		   "metadata": {},
		   "source": [
			"## Example 1.5: To_Calculate_the_amplitude_ratio_of_the_sources.sce"
		   ]
		  },
  {
"cell_type": "code",
	   "execution_count": null,
	   "metadata": {
	    "collapsed": true
	   },
	   "outputs": [],
"source": [
"//Example 1_5\n",
"clc(); \n",
"clear;\n",
"//To Calculate the amplitude ratio of the sources\n",
"Imax=9\n",
"Imin=1\n",
"Imax_Imin=Imax/Imin\n",
"amax_amin=sqrt(Imax_Imin)\n",
" a1_a2=amax_amin-1\n",
" printf('the ratio of amplitudes %d/%d',a1_a2,1)"
   ]
   }
,
{
		   "cell_type": "markdown",
		   "metadata": {},
		   "source": [
			"## Example 1.6: To_find_the_distance_between_the_slits.sce"
		   ]
		  },
  {
"cell_type": "code",
	   "execution_count": null,
	   "metadata": {
	    "collapsed": true
	   },
	   "outputs": [],
"source": [
"//Example 1_6\n",
"clc(); \n",
"clear;\n",
"//find the distance between the slits\n",
"lamda=500          //units in nm\n",
"lamda=500*10^-9\n",
"D=2               //units in mts\n",
"f=100\n",
"d1=5             //units in cm\n",
"d1=5*10^-2         //units in mts\n",
"betaa=d1/f        //unitd in mts\n",
"//the distance between the slits \n",
"d=(lamda*D)/betaa    //units in mts\n",
"d=d*10^3            //units in mm\n",
"printf('distance between slits is %dmm',d)"
   ]
   }
,
{
		   "cell_type": "markdown",
		   "metadata": {},
		   "source": [
			"## Example 1.7: To_Calculate_the_fringe_width.sce"
		   ]
		  },
  {
"cell_type": "code",
	   "execution_count": null,
	   "metadata": {
	    "collapsed": true
	   },
	   "outputs": [],
"source": [
"//Example 1_7\n",
"clc(); \n",
"clear;\n",
"//Calculate the fringe width\n",
"d=0.2                  //units in mm\n",
"d=0.2*10^-3            //units in mts\n",
"lamda=550              //units in nm\n",
"lamda=550*10^-9        //units in mts\n",
"D=1                    //units in mts\n",
"betaa=(lamda*D)/d      //units in mts\n",
"betaa=betaa*10^3       //units in mm\n",
"printf('Fringe width on a screen at a distance of 1m from the slits is %.2fmm',betaa)"
   ]
   }
,
{
		   "cell_type": "markdown",
		   "metadata": {},
		   "source": [
			"## Example 1.8: To_Calculate_the_Angular_position_of_the_10th_maximum_and_first_minimum.sce"
		   ]
		  },
  {
"cell_type": "code",
	   "execution_count": null,
	   "metadata": {
	    "collapsed": true
	   },
	   "outputs": [],
"source": [
"//Example 1_8\n",
"clc(); \n",
"clear;\n",
"//To Calculate the Angular position of the 10th maximum and first minimum\n",
"//The distance from centre where 10th maximum is obtained by\n",
"lamda=5460                 //units in angstrom\n",
"lamda=5460*10^-10          //units in mts\n",
"n=10\n",
"d=0.1                     //units in mm\n",
"d=0.1*10^-3               //units in mts\n",
"D=2                      //units in mts\n",
"x10=(n*lamda*D)/d        //units in mts\n",
"//angular position with respect to center is\n",
"tantheta=(x10/D)           //units in radians\n",
"z=atan(tantheta)*(180/%pi)     //units in degrees\n",
"printf('Angular position of 10th maximum is theta=%.3f degrees',z)\n",
"x1=(lamda*D)/(2*d)             //units n mts\n",
"printf('\n The distance from centre where 1st minimum is obtained is %f metres',x1)\n",
"tantheta1=(x1/D)           //units in radians\n",
"z1=atan(tantheta1)*(180/%pi)     //units in degrees\n",
"printf('\n Angular  position with respect to center is theta=%.3f degrees',z1)"
   ]
   }
,
{
		   "cell_type": "markdown",
		   "metadata": {},
		   "source": [
			"## Example 1.9: To_Find_the_least_distance_of_that_point_from_central_maximum.sce"
		   ]
		  },
  {
"cell_type": "code",
	   "execution_count": null,
	   "metadata": {
	    "collapsed": true
	   },
	   "outputs": [],
"source": [
"//Example 1_9\n",
"clc();\n",
"clear;\n",
"//To Find the least distance of that point from central maximum \n",
"lamda1=650                     //units in nm\n",
"lamda1=650*10^-9               //units in mts\n",
"lamda2=500                     //units in nm\n",
"lamda2=500*10^-9               //units in mts\n",
"D=1                            //units in mts\n",
"d=0.5                         //units in mm\n",
"d=0.5*10^-3                   //units in mts\n",
"n_m=lamda2/lamda1\n",
"printf('This means that 10th bright fringe of 650 nm coincides with 13th fringe of wavelength 500 nm')\n",
"n=10                           //least distance of that point from central maximum\n",
"x=((n*lamda1*D)*10^3)/d\n",
"printf('\n least distance of that point from central maximum is %d mm',x)"
   ]
   }
],
"metadata": {
		  "kernelspec": {
		   "display_name": "Scilab",
		   "language": "scilab",
		   "name": "scilab"
		  },
		  "language_info": {
		   "file_extension": ".sce",
		   "help_links": [
			{
			 "text": "MetaKernel Magics",
			 "url": "https://github.com/calysto/metakernel/blob/master/metakernel/magics/README.md"
			}
		   ],
		   "mimetype": "text/x-octave",
		   "name": "scilab",
		   "version": "0.7.1"
		  }
		 },
		 "nbformat": 4,
		 "nbformat_minor": 0
}
