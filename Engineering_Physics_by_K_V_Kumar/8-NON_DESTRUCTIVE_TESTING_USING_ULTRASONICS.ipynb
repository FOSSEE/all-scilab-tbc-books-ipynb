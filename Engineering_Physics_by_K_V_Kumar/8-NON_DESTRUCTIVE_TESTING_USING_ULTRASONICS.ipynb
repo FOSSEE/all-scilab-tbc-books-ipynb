{
"cells": [
 {
		   "cell_type": "markdown",
	   "metadata": {},
	   "source": [
       "# Chapter 8: NON DESTRUCTIVE TESTING USING ULTRASONICS"
	   ]
	},
{
		   "cell_type": "markdown",
		   "metadata": {},
		   "source": [
			"## Example 8.10: To_calculate_the_natural_frequency.sce"
		   ]
		  },
  {
"cell_type": "code",
	   "execution_count": null,
	   "metadata": {
	    "collapsed": true
	   },
	   "outputs": [],
"source": [
"//Example 8_10\n",
"clc();\n",
"clear;\n",
"//To calculate the frequency of pure iron rod\n",
"l=40*10^-3                          //units in meter\n",
"d=7.25*10^3                         //units in kg/m^3\n",
"Y=115*10^9                         //units in N/m^3\n",
"v=(1/(2*l))*sqrt(Y/d)\n",
"printf('Natural frequency v=%.3f Hz',v)"
   ]
   }
,
{
		   "cell_type": "markdown",
		   "metadata": {},
		   "source": [
			"## Example 8.11: To_calculate_the_capacitance.sce"
		   ]
		  },
  {
"cell_type": "code",
	   "execution_count": null,
	   "metadata": {
	    "collapsed": true
	   },
	   "outputs": [],
"source": [
"//Example 8_11\n",
"clc();\n",
"clear;\n",
"//To calculate the capacitance\n",
"v=10^6                             //units in Hz\n",
"L=1                               //units in henry\n",
"C=1/(4*%pi^2*v^2*L)\n",
"C=C*10^12   //units in PF\n",
"printf('Capacitance C=%.3f PF',C)"
   ]
   }
,
{
		   "cell_type": "markdown",
		   "metadata": {},
		   "source": [
			"## Example 8.12: To_find_the_fundamental_frequency.sce"
		   ]
		  },
  {
"cell_type": "code",
	   "execution_count": null,
	   "metadata": {
	    "collapsed": true
	   },
	   "outputs": [],
"source": [
"//Example 8_12\n",
"clc();\n",
"clear;\n",
"//To find the fundamental frequency\n",
"l=3*10^-3                             //units in meters\n",
"d=3.5*10^3                           //units in kg/m^3\n",
"Y=8*10^10                           //units in N/m^2\n",
"v=1/(2*l)*sqrt(Y/d)\n",
"v=v*10^-6   //units in Hz\n",
"printf('Fundamental Frequency v=%.3f Hz',v)\n",
"  "
   ]
   }
,
{
		   "cell_type": "markdown",
		   "metadata": {},
		   "source": [
			"## Example 8.13: To_calculate_the_fundamental_frequency.sce"
		   ]
		  },
  {
"cell_type": "code",
	   "execution_count": null,
	   "metadata": {
	    "collapsed": true
	   },
	   "outputs": [],
"source": [
"//Example 8_13\n",
"clc();\n",
"clear;\n",
"//To calculate the fundamental frequency\n",
"l=0.001       //units in mts\n",
"y=7.9*10^10     //units in N/mts^2\n",
"d=2650         //units in N/mts^2\n",
"v=sqrt(y/d)  //units in m/sec\n",
"toe=0.001  //units in m\n",
"V=v/(2*toe)   //units in Hz\n",
"printf('Fundamental frequency=%.2fHz',V)"
   ]
   }
,
{
		   "cell_type": "markdown",
		   "metadata": {},
		   "source": [
			"## Example 8.1: To_calculate_the_depth_of_the_ocea.sce"
		   ]
		  },
  {
"cell_type": "code",
	   "execution_count": null,
	   "metadata": {
	    "collapsed": true
	   },
	   "outputs": [],
"source": [
"//Example 8_1\n",
"clc();\n",
"clear;\n",
"//To calculate the depth of the ocean\n",
"v=1500                        //units in meter per second\n",
"t=1.33                       //units in seconds\n",
"D=(v*t)/2\n",
"printf('The depth of the ocean is %.2f meters',D)"
   ]
   }
,
{
		   "cell_type": "markdown",
		   "metadata": {},
		   "source": [
			"## Example 8.2: To_calculate_the_fundamental_frequency_of_crystal.sce"
		   ]
		  },
  {
"cell_type": "code",
	   "execution_count": null,
	   "metadata": {
	    "collapsed": true
	   },
	   "outputs": [],
"source": [
"//Example 8_2\n",
"clc();\n",
"clear;\n",
"//To calculate the fundamental frequency of crystal\n",
"t=0.002                          //units in meters\n",
"v=5750                          //units in meter per second\n",
"f=v/(2*t)\n",
"printf('The fundamental frequency of crystal is %.0f Hz',f)\n",
"//the answer in the textbook is given wrong as 1.44*10^-6 but the correct answer is 1437500 Hz "
   ]
   }
,
{
		   "cell_type": "markdown",
		   "metadata": {},
		   "source": [
			"## Example 8.3: To_calculate_the_depth_of_sea_and_the_wavelength_of_pulse.sce"
		   ]
		  },
  {
"cell_type": "code",
	   "execution_count": null,
	   "metadata": {
	    "collapsed": true
	   },
	   "outputs": [],
"source": [
"//Example 8_3\n",
"clc();\n",
"clear;\n",
"//To calculate the depth of the sea and the wavelength of pulse\n",
"v=1700                             //units in meter per second\n",
"f=0.07*10^6                       //units in Hz\n",
"t=0.65                           //units in seconds\n",
"l=(v*t)/2\n",
"printf('The depth of the sea is %.2f meters',l)\n",
"lemda=v/f\n",
"printf('\n\nThe wavelength of pulse is %.3f meters',lemda)"
   ]
   }
,
{
		   "cell_type": "markdown",
		   "metadata": {},
		   "source": [
			"## Example 8.4: To_find_the_sound_level.sce"
		   ]
		  },
  {
"cell_type": "code",
	   "execution_count": null,
	   "metadata": {
	    "collapsed": true
	   },
	   "outputs": [],
"source": [
"//Example 8_4\n",
"clc();\n",
"clear;\n",
"//To find the sound level in decibles\n",
"I0=10^-12                              //units in w/m^2\n",
"I=5*10^-8                             //units in w/m^2\n",
"Id=10*log10(I/I0)\n",
"printf('The intensity in decibles is %.2f dB',Id)"
   ]
   }
,
{
		   "cell_type": "markdown",
		   "metadata": {},
		   "source": [
			"## Example 8.5: To_find_the_noise_level.sce"
		   ]
		  },
  {
"cell_type": "code",
	   "execution_count": null,
	   "metadata": {
	    "collapsed": true
	   },
	   "outputs": [],
"source": [
"//Example 8_5\n",
"clc();\n",
"clear;\n",
"//To find the noise level when four drills are working\n",
"I=90                        //units in decibel\n",
"In=10*log10(4)+I\n",
"printf('new intensity level=%.2f dB',In)"
   ]
   }
,
{
		   "cell_type": "markdown",
		   "metadata": {},
		   "source": [
			"## Example 8.6: To_calculate_the_intensity_level.sce"
		   ]
		  },
  {
"cell_type": "code",
	   "execution_count": null,
	   "metadata": {
	    "collapsed": true
	   },
	   "outputs": [],
"source": [
"//Example 8_6\n",
"clc();\n",
"clear;\n",
"//To calculate the intensity level\n",
"I=8*10^-5                   //units in walt per meter square\n",
"I0=10^-12                  //units in decibels\n",
"In=10*log10(I/I0)\n",
"printf('Intensity level=%.3f dB',In)"
   ]
   }
,
{
		   "cell_type": "markdown",
		   "metadata": {},
		   "source": [
			"## Example 8.7: To_calculate_the_fundamental_frequency_of_crystal.sce"
		   ]
		  },
  {
"cell_type": "code",
	   "execution_count": null,
	   "metadata": {
	    "collapsed": true
	   },
	   "outputs": [],
"source": [
"//Example 8_7\n",
"clc();\n",
"clear;\n",
"//To calculate the fundamental frequency of crystal\n",
"t=0.002                        //units in meters\n",
"V=5750                        //units in meter per second\n",
"v=V/(2*t)*10^-6\n",
"printf('The fundamental frequency of crystal %.4f MHz',v)"
   ]
   }
,
{
		   "cell_type": "markdown",
		   "metadata": {},
		   "source": [
			"## Example 8.8: To_calculate_the_fundamental_frequency.sce"
		   ]
		  },
  {
"cell_type": "code",
	   "execution_count": null,
	   "metadata": {
	    "collapsed": true
	   },
	   "outputs": [],
"source": [
"//Example 8_8\n",
"clc();\n",
"clear;\n",
"//To calculate fundamental frequency of piezo electric crystal\n",
"l=3*10^-3                        //units in meters\n",
"Y=8*10^10                       //units in N/m^2\n",
"d=2.5*10^3                     //units in kg/m^3\n",
"v=(1/(2*l))*sqrt(Y/d)\n",
"printf('Frequency=%d Hz',v)"
   ]
   }
,
{
		   "cell_type": "markdown",
		   "metadata": {},
		   "source": [
			"## Example 8.9: To_calculate_the_natural_frequency.sce"
		   ]
		  },
  {
"cell_type": "code",
	   "execution_count": null,
	   "metadata": {
	    "collapsed": true
	   },
	   "outputs": [],
"source": [
"//Example 8_9\n",
"clc();\n",
"clear;\n",
"//To calculate the natural frequency of ultrasonic waves\n",
"l=5.5*10^-3                        //units in meters\n",
"Y=8*10^10                        //units in N/m^2\n",
"d=2.65*10^3                      //units in kg/m^3\n",
"v=(1/(2*l))*sqrt(Y/d)\n",
"printf('The natural frequency of ultrasonic waves is %.0f',v)\n",
"//In textbook answer printed wrong as 499 correct answer is 499493"
   ]
   }
],
"metadata": {
		  "kernelspec": {
		   "display_name": "Scilab",
		   "language": "scilab",
		   "name": "scilab"
		  },
		  "language_info": {
		   "file_extension": ".sce",
		   "help_links": [
			{
			 "text": "MetaKernel Magics",
			 "url": "https://github.com/calysto/metakernel/blob/master/metakernel/magics/README.md"
			}
		   ],
		   "mimetype": "text/x-octave",
		   "name": "scilab",
		   "version": "0.7.1"
		  }
		 },
		 "nbformat": 4,
		 "nbformat_minor": 0
}
