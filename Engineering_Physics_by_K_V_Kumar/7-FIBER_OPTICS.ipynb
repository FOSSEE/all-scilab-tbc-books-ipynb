{
"cells": [
 {
		   "cell_type": "markdown",
	   "metadata": {},
	   "source": [
       "# Chapter 7: FIBER OPTICS"
	   ]
	},
{
		   "cell_type": "markdown",
		   "metadata": {},
		   "source": [
			"## Example 7.10: To_calculate_the_refractive_index_of_material.sce"
		   ]
		  },
  {
"cell_type": "code",
	   "execution_count": null,
	   "metadata": {
	    "collapsed": true
	   },
	   "outputs": [],
"source": [
"//Example 7_10\n",
"clc();\n",
"clear;\n",
"//To calculate the refractive index of the material of the core\n",
"NA=0.39\n",
"delta=0.05\n",
"n1=NA/sqrt(2*delta)\n",
"printf('The refractive index of the material of the core is %.4f',n1)"
   ]
   }
,
{
		   "cell_type": "markdown",
		   "metadata": {},
		   "source": [
			"## Example 7.11: To_calculate_the_fractional_index_change.sce"
		   ]
		  },
  {
"cell_type": "code",
	   "execution_count": null,
	   "metadata": {
	    "collapsed": true
	   },
	   "outputs": [],
"source": [
"//Example 7_11\n",
"clc();\n",
"clear;\n",
"//To calculate the fractional index for an optical fiber\n",
"n1=1.563\n",
"n2=1.498\n",
"delta=(n1-n2)/n1\n",
"printf('The fractioal index of an optical fiber is %.4f',delta)"
   ]
   }
,
{
		   "cell_type": "markdown",
		   "metadata": {},
		   "source": [
			"## Example 7.12: To_calculate_the_numerical_aperture_and_acceptance_angle.sce"
		   ]
		  },
  {
"cell_type": "code",
	   "execution_count": null,
	   "metadata": {
	    "collapsed": true
	   },
	   "outputs": [],
"source": [
"//Example 7_12\n",
"clc();\n",
"clear;\n",
"//To calculate the numerical aperature and acceptance angle\n",
"n1=1.48\n",
"n2=1.45\n",
"NA=sqrt(n1^2-n2^2)\n",
"printf('The numerical aperature is %.4f',NA)\n",
"theta=asin(NA)*180/%pi\n",
"printf('\nThe acceptance angle is %.2f degrees',theta)"
   ]
   }
,
{
		   "cell_type": "markdown",
		   "metadata": {},
		   "source": [
			"## Example 7.13: To_calculate_the_refractive_index_of_material.sce"
		   ]
		  },
  {
"cell_type": "code",
	   "execution_count": null,
	   "metadata": {
	    "collapsed": true
	   },
	   "outputs": [],
"source": [
"//Example 7_13\n",
"clc();\n",
"clear;\n",
"//To calculate the refractive index of the core\n",
"NA=0.39\n",
"delta=0.05\n",
"n1=NA/sqrt(2*delta)\n",
"printf('The refractive index of the core is %.3f',n1)"
   ]
   }
,
{
		   "cell_type": "markdown",
		   "metadata": {},
		   "source": [
			"## Example 7.14: To_calculate_the_fractional_index_change.sce"
		   ]
		  },
  {
"cell_type": "code",
	   "execution_count": null,
	   "metadata": {
	    "collapsed": true
	   },
	   "outputs": [],
"source": [
"//Example 7_14\n",
"clc();\n",
"clear;\n",
"//To calculate the fractional index\n",
"n1=1.563\n",
"n2=1.498\n",
"delta=(n1-n2)/n1\n",
"printf('The fractional index is %.4f',delta)"
   ]
   }
,
{
		   "cell_type": "markdown",
		   "metadata": {},
		   "source": [
			"## Example 7.15: To_calculate_the_numerical_aperture.sce"
		   ]
		  },
  {
"cell_type": "code",
	   "execution_count": null,
	   "metadata": {
	    "collapsed": true
	   },
	   "outputs": [],
"source": [
"//Example 7_15\n",
"clc();\n",
"clear;\n",
"//To calculate the numerical aperture\n",
"n1=1.55\n",
"n2=1.50\n",
"n0=1\n",
"NA=sqrt(n1^2-n2^2)/n0\n",
"printf('The numerical aperture is %.2f',NA)"
   ]
   }
,
{
		   "cell_type": "markdown",
		   "metadata": {},
		   "source": [
			"## Example 7.16: To_calculate_the_angle_of_acceptance.sce"
		   ]
		  },
  {
"cell_type": "code",
	   "execution_count": null,
	   "metadata": {
	    "collapsed": true
	   },
	   "outputs": [],
"source": [
"//Example 7_16\n",
"clc();\n",
"clear;\n",
"//To calculate the angle of acceptance\n",
"n1=1.563\n",
"n2=1.498\n",
"theta=asin(sqrt(n1^2-n2^2))*180/%pi\n",
"printf('The acceptance angle is %.2f degrees',theta )"
   ]
   }
,
{
		   "cell_type": "markdown",
		   "metadata": {},
		   "source": [
			"## Example 7.17: To_calculate_the_critical_angle.sce"
		   ]
		  },
  {
"cell_type": "code",
	   "execution_count": null,
	   "metadata": {
	    "collapsed": true
	   },
	   "outputs": [],
"source": [
"//Example 7_17\n",
"clc();\n",
"clear;\n",
"//To calculate the critical angle\n",
"n1=1.53\n",
"n2=1.42\n",
"theta=asin(n2/n1)*180/%pi\n",
"printf('The critical angle is %.2f degrees',theta)"
   ]
   }
,
{
		   "cell_type": "markdown",
		   "metadata": {},
		   "source": [
			"## Example 7.18: To_determine_the_numerical_aperture_and_acceptance_angle.sce"
		   ]
		  },
  {
"cell_type": "code",
	   "execution_count": null,
	   "metadata": {
	    "collapsed": true
	   },
	   "outputs": [],
"source": [
"//Example 7_18\n",
"clc();\n",
"clear;\n",
"//To find the numerical aperature and acceptance angle\n",
"n1=1.6\n",
"n2=1.4\n",
"n0=1.33\n",
"NA=sqrt(n1^2-n2^2)/n0\n",
"printf('The numerical aperature is %.3f',NA)\n",
"theta=asin(NA)*180/%pi\n",
"printf('\nThe acceptance angle is %.2f degrees',theta)"
   ]
   }
,
{
		   "cell_type": "markdown",
		   "metadata": {},
		   "source": [
			"## Example 7.19: To_calculate_the_fractional_index_change.sce"
		   ]
		  },
  {
"cell_type": "code",
	   "execution_count": null,
	   "metadata": {
	    "collapsed": true
	   },
	   "outputs": [],
"source": [
"//Example 7_19\n",
"clc();\n",
"clear;\n",
"//To calculate the fractional index\n",
"n1=1.5\n",
"n2=1.3\n",
"delta=(n1-n2)/n1\n",
"printf('The fractional index is %.3f',delta)"
   ]
   }
,
{
		   "cell_type": "markdown",
		   "metadata": {},
		   "source": [
			"## Example 7.1: To_calculate_Critical_angle_numerical_apperture_and_acceptance_angle.sce"
		   ]
		  },
  {
"cell_type": "code",
	   "execution_count": null,
	   "metadata": {
	    "collapsed": true
	   },
	   "outputs": [],
"source": [
"//Example 7_1\n",
"clc();\n",
"clear;\n",
"//To calculate Critical angle numerical apperture and acceptance angle\n",
"n1=1.5\n",
"n2=1.47\n",
"phi=asin(n2/n1)*180/%pi   //units in degrees\n",
"NA=sqrt(n1^2-n2^2)\n",
"accetangle=asin(NA)*180/%pi   //units in degrees\n",
"printf('Critical angle=%.1f degrees',phi)\n",
"printf('\n Numerical apperture=%.2f',NA)\n",
"printf('\nAcceptance angle=%.1f Degrees',accetangle)"
   ]
   }
,
{
		   "cell_type": "markdown",
		   "metadata": {},
		   "source": [
			"## Example 7.20: To_calculate_the_angle_of_refraction_at_the_interface.sce"
		   ]
		  },
  {
"cell_type": "code",
	   "execution_count": null,
	   "metadata": {
	    "collapsed": true
	   },
	   "outputs": [],
"source": [
"//Example 7_20\n",
"clc();\n",
"clear;\n",
"//To calculate the angle of refraction theta1 at the interface\n",
"n1=1.55\n",
"n2=1.6\n",
"theta2=60                       //units in degrees\n",
"theta1=asin((n1*sin(theta2*%pi/180))/n2)*180/%pi\n",
"printf('The angle of refraction is %.2f degrees',theta1)"
   ]
   }
,
{
		   "cell_type": "markdown",
		   "metadata": {},
		   "source": [
			"## Example 7.21: To_calculate_refractive_index_of_core.sce"
		   ]
		  },
  {
"cell_type": "code",
	   "execution_count": null,
	   "metadata": {
	    "collapsed": true
	   },
	   "outputs": [],
"source": [
"//Example 7_21\n",
"clc();\n",
"clear;\n",
"//To calculate the refractive index of core\n",
"delta=0.14\n",
"n2=1.3\n",
"n1=n2/(1-delta)\n",
"printf('The refractive index of core is %.2f',n1)"
   ]
   }
,
{
		   "cell_type": "markdown",
		   "metadata": {},
		   "source": [
			"## Example 7.22: To_calculate_the_numerical_aperture.sce"
		   ]
		  },
  {
"cell_type": "code",
	   "execution_count": null,
	   "metadata": {
	    "collapsed": true
	   },
	   "outputs": [],
"source": [
"//Example 7_22\n",
"clc();\n",
"clear;\n",
"//To calculate the numerical aperature\n",
"theta=26.80                     //units in degrees\n",
"NA=sin(theta*%pi/180)\n",
"printf('The numerical aperature is %.4f',NA)"
   ]
   }
,
{
		   "cell_type": "markdown",
		   "metadata": {},
		   "source": [
			"## Example 7.2: To_estimate_the_numerical_aperture.sce"
		   ]
		  },
  {
"cell_type": "code",
	   "execution_count": null,
	   "metadata": {
	    "collapsed": true
	   },
	   "outputs": [],
"source": [
"//Example 7_2\n",
"clc();\n",
"clear;\n",
"//To estimate the numerical aperture\n",
"n1=1.46\n",
"delta=0.05\n",
"NA=n1*sqrt(2*delta)\n",
"printf('The numerical aperture is %.2f',NA)"
   ]
   }
,
{
		   "cell_type": "markdown",
		   "metadata": {},
		   "source": [
			"## Example 7.3: To_compare_the_acceptance_angle.sce"
		   ]
		  },
  {
"cell_type": "code",
	   "execution_count": null,
	   "metadata": {
	    "collapsed": true
	   },
	   "outputs": [],
"source": [
"//Example 7_3\n",
"clc();\n",
"clear;\n",
"//To compare the acceptance angle\n",
"NA=0.3\n",
"thetaa=asin(NA)*180/%pi  //units in degrees\n",
"theta1=asin(NA/sin(45*%pi/180))*180/%pi  //units in degrees\n",
"printf('for meridional rays theta=%.2f degrees',thetaa)\n",
"printf('\n for skew rays theta=%.2f degrees',theta1)"
   ]
   }
,
{
		   "cell_type": "markdown",
		   "metadata": {},
		   "source": [
			"## Example 7.4: To_calculate_the_numerical_aperture_and_acceptance_angle.sce"
		   ]
		  },
  {
"cell_type": "code",
	   "execution_count": null,
	   "metadata": {
	    "collapsed": true
	   },
	   "outputs": [],
"source": [
"//Example 7_4\n",
"clc();\n",
"clear;\n",
"//To calculate the numerical aperture and acceptance angle\n",
"n1=1.53\n",
"delta=0.0196\n",
"NA=n1*sqrt(2*delta)\n",
"printf('The numerical aperture is %.3f',NA)\n",
"theta=asin(NA)*180/%pi\n",
"printf('\nThe acceptance angle is %.2f degrees',theta)"
   ]
   }
,
{
		   "cell_type": "markdown",
		   "metadata": {},
		   "source": [
			"## Example 7.5: To_calculate_the_number_of_reflections_and_total_distance.sce"
		   ]
		  },
  {
"cell_type": "code",
	   "execution_count": null,
	   "metadata": {
	    "collapsed": true
	   },
	   "outputs": [],
"source": [
"//Example 7_5\n",
"clc();\n",
"clear;\n",
"//To calculate number of reflections per meter  and total distance covered\n",
"n1=1.5\n",
"n2=1.49\n",
"phi=asin(n2/n1)*180/%pi   //units in degrees\n",
"a=25   //units in micro meters\n",
"leng=2*a*tan(phi*%pi/180)   //units inmicro meters\n",
"totalnum=10^6/leng\n",
"printf('Total number of reflections is %d\n',totalnum)\n",
"l=1  //units in meters\n",
"distance=l*(sin(phi*%pi/180))\n",
"printf('Total distance covered is %.4f Meters',distance)\n",
"//in text book answer printed wrong as 1.006mcorrect answer is 0.9933meters"
   ]
   }
,
{
		   "cell_type": "markdown",
		   "metadata": {},
		   "source": [
			"## Example 7.6: To_calculate_the_signal_attenuation_and_overall_signal_attenuation.sce"
		   ]
		  },
  {
"cell_type": "code",
	   "execution_count": null,
	   "metadata": {
	    "collapsed": true
	   },
	   "outputs": [],
"source": [
"//Example 7_6\n",
"clc();\n",
"clear;\n",
"//To calculate the signal attenuation and overall signal attenuation\n",
"l=10\n",
"pi=100\n",
"p0=2\n",
"signalatten=(10/l)*log10(pi/p0)     // units in dB Km^-1\n",
"printf('Signal attenuation per unit length=%.1f dB Km^-1',signalatten)\n",
"overall=signalatten*10    //units in dB \n",
"printf('\nover all Signal attenuation=%d dB',round(overall))"
   ]
   }
,
{
		   "cell_type": "markdown",
		   "metadata": {},
		   "source": [
			"## Example 7.7: To_calculate_the_dispersio.sce"
		   ]
		  },
  {
"cell_type": "code",
	   "execution_count": null,
	   "metadata": {
	    "collapsed": true
	   },
	   "outputs": [],
"source": [
"//Example 7_7\n",
"clc();\n",
"clear;\n",
"//To calculate the dispersion and bandwidth length product\n",
"L=10                        //units in Km\n",
"n=1.55\n",
"delta=0.026\n",
"C=3*10^5                   //units in meter per second\n",
"T=(L*n*delta)/C*10^9\n",
"printf('The total dispersion is %.1f ns',T)\n",
"l=1/(2*T*10^-9)*10\n",
"printf('\nThe bandwidth length product is %.2f HZ-Km',l)\n",
"//in text book answer is wrong as 7044*10^5 correct answer is 3722084.37"
   ]
   }
,
{
		   "cell_type": "markdown",
		   "metadata": {},
		   "source": [
			"## Example 7.8: To_calculate_the_numerical_aperture.sce"
		   ]
		  },
  {
"cell_type": "code",
	   "execution_count": null,
	   "metadata": {
	    "collapsed": true
	   },
	   "outputs": [],
"source": [
"//Example 7_8\n",
"clc();\n",
"clear;\n",
"//To calculate the numerical aperture\n",
"n1=1.55\n",
"n2=1.50\n",
"NA=sqrt(n1^2-n2^2)\n",
"printf('The numerical aperture is %.3f',NA)"
   ]
   }
,
{
		   "cell_type": "markdown",
		   "metadata": {},
		   "source": [
			"## Example 7.9: To_calculate_the_angle_of_acceptance.sce"
		   ]
		  },
  {
"cell_type": "code",
	   "execution_count": null,
	   "metadata": {
	    "collapsed": true
	   },
	   "outputs": [],
"source": [
"//Example 7_9\n",
"clc();\n",
"clear;\n",
"//To calculate the angle of acceptance of a optical fiber\n",
"n1=1.563\n",
"n2=1.498\n",
"theta=asin(sqrt(n1^2-n2^2))*180/%pi\n",
"printf('The angle of acceptance is %.2f degrees',theta)"
   ]
   }
],
"metadata": {
		  "kernelspec": {
		   "display_name": "Scilab",
		   "language": "scilab",
		   "name": "scilab"
		  },
		  "language_info": {
		   "file_extension": ".sce",
		   "help_links": [
			{
			 "text": "MetaKernel Magics",
			 "url": "https://github.com/calysto/metakernel/blob/master/metakernel/magics/README.md"
			}
		   ],
		   "mimetype": "text/x-octave",
		   "name": "scilab",
		   "version": "0.7.1"
		  }
		 },
		 "nbformat": 4,
		 "nbformat_minor": 0
}
