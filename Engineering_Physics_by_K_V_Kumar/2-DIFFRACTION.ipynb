{
"cells": [
 {
		   "cell_type": "markdown",
	   "metadata": {},
	   "source": [
       "# Chapter 2: DIFFRACTION"
	   ]
	},
{
		   "cell_type": "markdown",
		   "metadata": {},
		   "source": [
			"## Example 2.10: To_calculate_the_width_of_the_central_maxima.sce"
		   ]
		  },
  {
"cell_type": "code",
	   "execution_count": null,
	   "metadata": {
	    "collapsed": true
	   },
	   "outputs": [],
"source": [
"//Example 2_10\n",
"clc();\n",
"clear;\n",
"//To calculate the width of the central maxima\n",
"d=2                          //units in meters\n",
"lemda=500*10^-9            //units in meters\n",
"a=1.5*10^-3               //units in meters\n",
"x=((2*d*lemda)/a)*10^3\n",
"printf('width of central maximum is %.2f mm',x)"
   ]
   }
,
{
		   "cell_type": "markdown",
		   "metadata": {},
		   "source": [
			"## Example 2.11: To_find_the_slit_width.sce"
		   ]
		  },
  {
"cell_type": "code",
	   "execution_count": null,
	   "metadata": {
	    "collapsed": true
	   },
	   "outputs": [],
"source": [
"//Example 2_11\n",
"clc();\n",
"clear;\n",
"//To find the slit width\n",
"d=2                          //units in meters\n",
"lemda=500*10^-9              //units in meters\n",
"x=5*10^-3                    //units in meters\n",
"a=(d*lemda)/x*10^3\n",
"printf('The slit width is %.1f mm',a)"
   ]
   }
,
{
		   "cell_type": "markdown",
		   "metadata": {},
		   "source": [
			"## Example 2.12: To_find_the_half_angular_width.sce"
		   ]
		  },
  {
"cell_type": "code",
	   "execution_count": null,
	   "metadata": {
	    "collapsed": true
	   },
	   "outputs": [],
"source": [
"//Example 2_12\n",
"clc();\n",
"clear;\n",
"//To find the half angular width of the central bright\n",
"lemda=6000*10^-10                   //units in meters\n",
"a=12*10^-7                        //units in meters\n",
"theta=asin(lemda/a)*180/%pi\n",
"printf('The half angular width of the central bright is %.0f degrees',theta)"
   ]
   }
,
{
		   "cell_type": "markdown",
		   "metadata": {},
		   "source": [
			"## Example 2.13: To_deduce_the_missing_order_of_a_double_slit.sce"
		   ]
		  },
  {
"cell_type": "code",
	   "execution_count": null,
	   "metadata": {
	    "collapsed": true
	   },
	   "outputs": [],
"source": [
"//Example 2_13\n",
"clc();\n",
"clear;\n",
"//deduce the missing order of a double slit\n",
"a=0.16*10^-3  //units in m\n",
"b=0.8*10^-3 //units in m\n",
"n_p=(a+b)/a\n",
"for j=1:3\n",
"printf('For p=%d n=%d\n',j,j*n_p);\n",
"end"
   ]
   }
,
{
		   "cell_type": "markdown",
		   "metadata": {},
		   "source": [
			"## Example 2.14: To_find_the_angular_separation_between_two_wavelengths.sce"
		   ]
		  },
  {
"cell_type": "code",
	   "execution_count": null,
	   "metadata": {
	    "collapsed": true
	   },
	   "outputs": [],
"source": [
"//Example 2_14\n",
"clc();\n",
"clear;\n",
"//To find the angular separation between two wave lengths\n",
"N=6*10^5                        //units in lines per meter\n",
"m=3\n",
"lemda1=500*10^-9               //units in meters\n",
"lemda2=510*10^-9              //units in meters\n",
"theta1=asin(m*N*lemda1)*180/%pi\n",
"theta2=asin(m*N*lemda2)*180/%pi\n",
"theta=(theta2-theta1)\n",
"printf('The angular separation between two wave lengths is %.2f degrees',theta)"
   ]
   }
,
{
		   "cell_type": "markdown",
		   "metadata": {},
		   "source": [
			"## Example 2.15: To_find_the_highest_order.sce"
		   ]
		  },
  {
"cell_type": "code",
	   "execution_count": null,
	   "metadata": {
	    "collapsed": true
	   },
	   "outputs": [],
"source": [
"//Example 2_15\n",
"clc();\n",
"clear;\n",
"//To find the highest order that ca be seen\n",
"n=5906*10^2  //units in  line/cm\n",
"lamda=600*10^-9  //units in cm\n",
"m=1/(n*lamda)\n",
"printf('Maximum order that can be seen is %d',m)"
   ]
   }
,
{
		   "cell_type": "markdown",
		   "metadata": {},
		   "source": [
			"## Example 2.16: To_find_the_angular_separation_of_the_two_lines.sce"
		   ]
		  },
  {
"cell_type": "code",
	   "execution_count": null,
	   "metadata": {
	    "collapsed": true
	   },
	   "outputs": [],
"source": [
"//Example 2_16\n",
"clc();\n",
"clear;\n",
"//To find the angular separation of two lines of sodium in the first order spectrum\n",
"N=5*10^5                             //units in lines per meter\n",
"m=1\n",
"lemda1=5890*10^-10                  //units in meters\n",
"lemda2=5896*10^-10                  //units in meters\n",
"theta1=asin(m*N*lemda1)*180/%pi\n",
"theta2=asin(m*N*lemda2)*180/%pi\n",
"theta=(theta2-theta1)\n",
"printf('The angular separation is %.3f degrees',theta)"
   ]
   }
,
{
		   "cell_type": "markdown",
		   "metadata": {},
		   "source": [
			"## Example 2.17: To_find_the_slit_width.sce"
		   ]
		  },
  {
"cell_type": "code",
	   "execution_count": null,
	   "metadata": {
	    "collapsed": true
	   },
	   "outputs": [],
"source": [
"//Example 2_17\n",
"clc();\n",
"clear;\n",
"//To find the slit width\n",
"theta=15                       //units in degrees\n",
"lemda=6500                    //units in angstrom\n",
"lemda=6500*10^-8\n",
"n=1\n",
"a=(n*lemda)/sin(theta*%pi/180)\n",
"printf('slit width of white light is %f',a)"
   ]
   }
,
{
		   "cell_type": "markdown",
		   "metadata": {},
		   "source": [
			"## Example 2.18: To_find_the_wavelength_of_the_light.sce"
		   ]
		  },
  {
"cell_type": "code",
	   "execution_count": null,
	   "metadata": {
	    "collapsed": true
	   },
	   "outputs": [],
"source": [
"//Example 2_18\n",
"clc();\n",
"clear;\n",
"//To find the wavelength of the light\n",
"theta=15                            //units in degrees\n",
"a=2.5*10^-6                         //units in meters\n",
"lemda=((a*%pi*sin(theta*%pi/180))/(1.43*%pi))*10^10\n",
"printf('The wavelength of light is %.0f angstrom',lemda)"
   ]
   }
,
{
		   "cell_type": "markdown",
		   "metadata": {},
		   "source": [
			"## Example 2.19: To_find_the_wavelength_of_the_spectral_line.sce"
		   ]
		  },
  {
"cell_type": "code",
	   "execution_count": null,
	   "metadata": {
	    "collapsed": true
	   },
	   "outputs": [],
"source": [
"//Example 2_19\n",
"clc();\n",
"clear;\n",
"//To calculate the wavelength of the spectral line\n",
"n=2\n",
"N=4250                             //units in centimeters\n",
"theta=30                          //units in degrees\n",
"lemda=(((1/N)*sin(theta*%pi/180))/n)*10^8\n",
"printf('The wavelength of the spectral line is %.0f angstrom',lemda)"
   ]
   }
,
{
		   "cell_type": "markdown",
		   "metadata": {},
		   "source": [
			"## Example 2.1: To_calculate_the_number_of_lines.sce"
		   ]
		  },
  {
"cell_type": "code",
	   "execution_count": null,
	   "metadata": {
	    "collapsed": true
	   },
	   "outputs": [],
"source": [
"//Example 2_1\n",
"clc();\n",
"clear;\n",
"//To calculate the number of lines in one centimeter of granting surface\n",
"lemda=5*10^-5                           //units in centimeters\n",
"theta=30                               //units in degrees\n",
"k=2\n",
"e=(k*lemda)/sin(theta*%pi/180)\n",
"n=e^-1\n",
"printf('no of lines per centimeter is %.0f',n)\n",
"//in text book the answer is printed wrong as 1000 correct answer is 5000 "
   ]
   }
,
{
		   "cell_type": "markdown",
		   "metadata": {},
		   "source": [
			"## Example 2.20: To_find_the_angular_separation.sce"
		   ]
		  },
  {
"cell_type": "code",
	   "execution_count": null,
	   "metadata": {
	    "collapsed": true
	   },
	   "outputs": [],
"source": [
"//Example 2_23\n",
"clc();\n",
"clear;\n",
"//To find the angular separation \n",
"lemda=600*10^-9                          //units in meters\n",
"n=1\n",
"a=1*10^-6                               //units in meters\n",
"theta=asin((n*lemda)/a)*180/%pi\n",
"printf('The angular separation is %.2f degrees',theta)"
   ]
   }
,
{
		   "cell_type": "markdown",
		   "metadata": {},
		   "source": [
			"## Example 2.21: To_find_how_many_orders_are_visible.sce"
		   ]
		  },
  {
"cell_type": "code",
	   "execution_count": null,
	   "metadata": {
	    "collapsed": true
	   },
	   "outputs": [],
"source": [
"//Example 2_21\n",
"clc();\n",
"clear;\n",
"//To find the no. of orders are visible\n",
"N=10520                        //units in centimeters\n",
"lemda=5*10^-5                   //units in centimeters\n",
"theta=90                      //units in degrees\n",
"n=((1/N)*sin(theta*%pi/180))/lemda\n",
"printf('number of orders that are visible in granting spectra is %.0f',n)"
   ]
   }
,
{
		   "cell_type": "markdown",
		   "metadata": {},
		   "source": [
			"## Example 2.22: To_calculate_the_slit_width.sce"
		   ]
		  },
  {
"cell_type": "code",
	   "execution_count": null,
	   "metadata": {
	    "collapsed": true
	   },
	   "outputs": [],
"source": [
"//Example 2_22\n",
"clc();\n",
"clear;\n",
"//To calculate slit width\n",
"lemda=6000                             //units in angstrom\n",
"x=4.2                                 //units in millimeters\n",
"x=4.2*10^-3                           //units in meters\n",
"D=60                                 //units in centimeters\n",
"D=60*10^-3                           //units in meters\n",
"d=((D*lemda)/x)*10^-9\n",
"printf('The Slit width of the screen is %f',d)"
   ]
   }
,
{
		   "cell_type": "markdown",
		   "metadata": {},
		   "source": [
			"## Example 2.23: To_calculate_the_possible_order_of_spectra.sce"
		   ]
		  },
  {
"cell_type": "code",
	   "execution_count": null,
	   "metadata": {
	    "collapsed": true
	   },
	   "outputs": [],
"source": [
"//Example 2_23\n",
"clc();\n",
"clear;\n",
"//To calculate the possible order of spectra\n",
"N=5.095*10^3                     //units in lines per inch\n",
"lemda=6000*10^-8                 //units in cm\n",
"m=(1/N)/lemda\n",
"printf('The possible order of the spectra is %.0f',m)"
   ]
   }
,
{
		   "cell_type": "markdown",
		   "metadata": {},
		   "source": [
			"## Example 2.24: To_find_the_wavelength_of_the_light.sce"
		   ]
		  },
  {
"cell_type": "code",
	   "execution_count": null,
	   "metadata": {
	    "collapsed": true
	   },
	   "outputs": [],
"source": [
"//Example 2_4_1\n",
"clc();\n",
"clear;\n",
"//To calculate the wavelength of light\n",
"D=150                     //units in centimeters\n",
"d=0.03                    //units in centimeters\n",
"betaa=0.3                 //units in centimeters\n",
"lemda=((betaa*d)/D)*10^8\n",
"printf('Wavelength of the light is %.0f angstrom',lemda)"
   ]
   }
,
{
		   "cell_type": "markdown",
		   "metadata": {},
		   "source": [
			"## Example 2.2: To_find_the_difference_in_the_angles.sce"
		   ]
		  },
  {
"cell_type": "code",
	   "execution_count": null,
	   "metadata": {
	    "collapsed": true
	   },
	   "outputs": [],
"source": [
"//Example 2_2\n",
"clc();\n",
"clear;\n",
"//To find the difference in the angles of deviation in the first and third spectra\n",
"lemda=5000*10^-8             //units in meters\n",
"e=1/6000\n",
"theta1=asin(lemda/e)*180/%pi       //for first order\n",
"theta2=asin((3*lemda)/e)*180/%pi   //for third order\n",
"theta=(theta2-theta1)\n",
"printf('The difference in the angles of deviation is %.1f degrees',theta)"
   ]
   }
,
{
		   "cell_type": "markdown",
		   "metadata": {},
		   "source": [
			"## Example 2.3: To_calculate_the_minimum_number_of_lines.sce"
		   ]
		  },
  {
"cell_type": "code",
	   "execution_count": null,
	   "metadata": {
	    "collapsed": true
	   },
	   "outputs": [],
"source": [
"//Example 2_3\n",
"clc();\n",
"clear;\n",
"//To calculate the minimum number of lines\n",
"lemda=5890                    //units in angstrom\n",
"lemda=5890*10^-8              //units in centimeters\n",
"dlemda=6*10^-8               //units in centimeters\n",
"k=2\n",
"width=2.5                   //units in centimeters\n",
"n=(lemda/(k*dlemda))/width\n",
"printf('no of lines per cm is %.1f',n)"
   ]
   }
,
{
		   "cell_type": "markdown",
		   "metadata": {},
		   "source": [
			"## Example 2.4: To_calculate_the_total_number_of_lines.sce"
		   ]
		  },
  {
"cell_type": "code",
	   "execution_count": null,
	   "metadata": {
	    "collapsed": true
	   },
	   "outputs": [],
"source": [
"//Example 2_4\n",
"clc();\n",
"clear;\n",
"//To calculate the total number of lines for the first order\n",
"lemda=5890                            //units in angstrom\n",
"lemda=5890*10^-8                     //units in centimeters\n",
"dlemda=6*10^-8                      //units in centimeters\n",
"k=1\n",
"N=lemda/(k*dlemda)\n",
"printf('Total no. of lines for the first order is %.0f',N)\n",
"//To calculate the total number of lines for the second order\n",
"k=2\n",
"N=lemda/(k*dlemda)\n",
"printf('\nTotal no. of lines for the second order is %.0f',N)"
   ]
   }
,
{
		   "cell_type": "markdown",
		   "metadata": {},
		   "source": [
			"## Example 2.5: To_find_the_angle_of_separation.sce"
		   ]
		  },
  {
"cell_type": "code",
	   "execution_count": null,
	   "metadata": {
	    "collapsed": true
	   },
	   "outputs": [],
"source": [
"//Example 2_5\n",
"clc();\n",
"clear;\n",
"//To find the angle of separation\n",
"lemda1=5016*10^-8                          //units in cm\n",
"lemda2=5048*10^-8                          //units in cm\n",
"k=2\n",
"e=2.54/15000                              //units in cm\n",
"theta1=asin((2*lemda1)/e)*180/%pi\n",
"theta2=asin((2*lemda2)/e)*180/%pi\n",
"theta=(theta2-theta1)\n",
"theta=theta*100\n",
"theta=(theta*101)/60\n",
"printf('The angle of separation is %f degrees',theta)\n",
"//In text book the answer is printed wrong as 16 Minutes correct answer is 45 minutes"
   ]
   }
,
{
		   "cell_type": "markdown",
		   "metadata": {},
		   "source": [
			"## Example 2.6: To_calculate_the_dispersive_power.sce"
		   ]
		  },
  {
"cell_type": "code",
	   "execution_count": null,
	   "metadata": {
	    "collapsed": true
	   },
	   "outputs": [],
"source": [
"//Example 2_6\n",
"clc();\n",
"clear;\n",
"//To calculate the dispersive power of the granting in the third order spectrum\n",
"k=3\n",
"e=1/4000                       //units in cm\n",
"lemda=5000*10^-8               //units in cm\n",
"theta=asin((k*lemda)/e)\n",
"dt_dl=k/(e*cos(theta))\n",
"printf('Disperssive power of the granting in the third order spectrum is %.0f',dt_dl)"
   ]
   }
,
{
		   "cell_type": "markdown",
		   "metadata": {},
		   "source": [
			"## Example 2.7: To_find_the_highest_order_of_the_spectrum.sce"
		   ]
		  },
  {
"cell_type": "code",
	   "execution_count": null,
	   "metadata": {
	    "collapsed": true
	   },
	   "outputs": [],
"source": [
"//Example 2_7\n",
"clc();\n",
"clear;\n",
"//TO find the highest order of the spectrum\n",
"N=5000                           //units in lines/cm\n",
"lemda=6000*10^-8                 //units in cm\n",
"theta=90                        //units in degrees\n",
"k=((1/N)*sin(theta))/lemda\n",
"printf('The highest order of the spectrum that can be seen is %.0f',k)"
   ]
   }
,
{
		   "cell_type": "markdown",
		   "metadata": {},
		   "source": [
			"## Example 2.8: To_find_the_wavelength_and_maximum_granting_width.sce"
		   ]
		  },
  {
"cell_type": "code",
	   "execution_count": null,
	   "metadata": {
	    "collapsed": true
	   },
	   "outputs": [],
"source": [
"//Example 2_8\n",
"clc();\n",
"clear;\n",
"//To find wave length and maximum grating\n",
"theta1=10 //units in degrees\n",
"d=5*10^-9    //units in cm\n",
"dtheta=3   //units in degrees\n",
"lamda=(sin(theta1*%pi/180)*d)/(cos(theta1*%pi/180)*(dtheta/3600)*(%pi/180))\n",
"lamda1=lamda+d\n",
"lamda1=lamda1*10^8\n",
"d=d*10^8\n",
"n=lamda1/(d*2)\n",
"k=2\n",
"Ne=(n*k*lamda)/(sin(theta1*%pi/180))\n",
"printf('wave length is lamda=%.7f meters',lamda)\n",
"printf('\nMaximum grating require Ne=%.2f cm',Ne)"
   ]
   }
,
{
		   "cell_type": "markdown",
		   "metadata": {},
		   "source": [
			"## Example 2.9: To_calculate_the_resolving_power_in_the_second_order.sce"
		   ]
		  },
  {
"cell_type": "code",
	   "execution_count": null,
	   "metadata": {
	    "collapsed": true
	   },
	   "outputs": [],
"source": [
"//Example 2_9\n",
"clc();\n",
"clear;\n",
"//To calculate the resolving power and grating element\n",
"sintheta1=0.3\n",
"sintheta2=0.2\n",
"lamda=5000 //units in A\n",
"e=(lamda/(sintheta1-sintheta2))*10^-8  //units in cm\n",
"width=2.5  //units in cm\n",
"n=width/e    //units in cm\n",
"resolvingpower=2*n\n",
"printf('Grating element is e=%.5f cm\n',e)\n",
"printf('Resolving power=%d',resolvingpower)"
   ]
   }
,
{
		   "cell_type": "markdown",
		   "metadata": {},
		   "source": [
			"## Example 3.5: To_calculate_the_wavelength_for_half_wave_plate.sce"
		   ]
		  },
  {
"cell_type": "code",
	   "execution_count": null,
	   "metadata": {
	    "collapsed": true
	   },
	   "outputs": [],
"source": [
"//Example 3_5\n",
"clc();\n",
"clear;\n",
"//To calculate the wavelength for half wave plate\n",
"t=0.9*10^-6                 //units in meters\n",
"u0=1.658\n",
"ue=1.486\n",
"lemda=(4*t*(u0-ue))\n",
"printf('Thickness of half wave plate is %.10f meters',lemda)\n",
"//To calculate the wavelength for half wave plate\n",
"lemda=(2*t*(u0-ue))*10^9\n",
"printf('\nThickness of half wave plate is %.1f mm',lemda)"
   ]
   }
],
"metadata": {
		  "kernelspec": {
		   "display_name": "Scilab",
		   "language": "scilab",
		   "name": "scilab"
		  },
		  "language_info": {
		   "file_extension": ".sce",
		   "help_links": [
			{
			 "text": "MetaKernel Magics",
			 "url": "https://github.com/calysto/metakernel/blob/master/metakernel/magics/README.md"
			}
		   ],
		   "mimetype": "text/x-octave",
		   "name": "scilab",
		   "version": "0.7.1"
		  }
		 },
		 "nbformat": 4,
		 "nbformat_minor": 0
}
