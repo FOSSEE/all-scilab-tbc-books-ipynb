{
"cells": [
 {
		   "cell_type": "markdown",
	   "metadata": {},
	   "source": [
       "# Chapter 7: Availability And General Thermodynamic Relations"
	   ]
	},
{
		   "cell_type": "markdown",
		   "metadata": {},
		   "source": [
			"## Example 7.10: Engineering_Thermodynamics_by_Onkar_Singh_Chapter_7_Example_10.sce"
		   ]
		  },
  {
"cell_type": "code",
	   "execution_count": null,
	   "metadata": {
	    "collapsed": true
	   },
	   "outputs": [],
"source": [
"// Display mode\n",
"mode(0);\n",
"// Display warning for floating point exception\n",
"ieee(1);\n",
"clear;\n",
"clc;\n",
"disp('Engineering Thermodynamics by Onkar Singh Chapter 7 Example 10')\n",
"disp('In question no. 10 expression for change in internal energy of gas is derive which cannot be solve using scilab software.')"
   ]
   }
,
{
		   "cell_type": "markdown",
		   "metadata": {},
		   "source": [
			"## Example 7.11: Engineering_Thermodynamics_by_Onkar_Singh_Chapter_7_Example_11.sce"
		   ]
		  },
  {
"cell_type": "code",
	   "execution_count": null,
	   "metadata": {
	    "collapsed": true
	   },
	   "outputs": [],
"source": [
"// Display modeK\n",
"mode(0);\n",
"// Display warning for floating point exception\n",
"ieee(1);\n",
"clear;\n",
"clc;\n",
"disp('Engineering Thermodynamics by Onkar Singh Chapter 7 Example 11')\n",
"To=280;//surrounding temperature in K\n",
"Q=500;//heat removed in KJ\n",
"T1=835;//temperature of reservoir in K\n",
"T2=720;//temperature of system in K\n",
"disp('availability for heat reservoir(A_HR)=To*deltaS_reservoir in KJ/kg K')\n",
"A_HR=To*Q/T1\n",
"disp('now availability for system(A_system)=To*deltaS_syatem in KJ/kg K')\n",
"A_system=To*Q/T2\n",
"disp('net loss of available energy(A)=A_HR-A_system in KJ/kg K')\n",
"A=A_HR-A_system \n",
"disp('so loss of available energy=26.77 KJ/kg K')"
   ]
   }
,
{
		   "cell_type": "markdown",
		   "metadata": {},
		   "source": [
			"## Example 7.12: Engineering_Thermodynamics_by_Onkar_Singh_Chapter_7_Example_12.sce"
		   ]
		  },
  {
"cell_type": "code",
	   "execution_count": null,
	   "metadata": {
	    "collapsed": true
	   },
	   "outputs": [],
"source": [
"// Display modeK\n",
"mode(0);\n",
"// Display warning for floating point exception\n",
"ieee(1);\n",
"clear;\n",
"clc;\n",
"disp('Engineering Thermodynamics by Onkar Singh Chapter 7 Example 12')\n",
"h1=4142;//enthalpy at entrance in KJ/kg\n",
"h2=2585;//enthalpy at exit in KJ/kg\n",
"W1=1787;//availability of steam at entrance in KJ/kg\n",
"W2=140;//availability of steam at exit in KJ/kg\n",
"disp('here dead state is given as 300 K and maximum possible work for given change of state of steam can be estimated by the difference of flow availability as given under:')\n",
"disp('W_max=W1-W2 in KJ/kg')\n",
"W_max=W1-W2\n",
"disp('actual work from turbine,W_actual=h1-h2 in KJ/kg')\n",
"W_actual=h1-h2\n",
"disp('so actual work=1557 KJ/kg')\n",
"disp('maximum possible work=1647 KJ/kg')"
   ]
   }
,
{
		   "cell_type": "markdown",
		   "metadata": {},
		   "source": [
			"## Example 7.13: Engineering_Thermodynamics_by_Onkar_Singh_Chapter_7_Example_13.sce"
		   ]
		  },
  {
"cell_type": "code",
	   "execution_count": null,
	   "metadata": {
	    "collapsed": true
	   },
	   "outputs": [],
"source": [
"// Display modeK\n",
"mode(0);\n",
"// Display warning for floating point exception\n",
"ieee(1);\n",
"clear;\n",
"clc;\n",
"disp('Engineering Thermodynamics by Onkar Singh Chapter 7 Example 13')\n",
"T_min=(20+273);//minimum temperature reservoir temperature in K\n",
"T_max=(500+273);//maximum temperature reservoir temperature in K\n",
"n=0.25;//efficiency of heat engine\n",
"disp('reversible engine efficiency,n_rev=1-(T_min/T_max)')\n",
"n_rev=1-(T_min/T_max)\n",
"disp('second law efficiency=n/n_rev')\n",
"n/n_rev\n",
"disp('in %')\n",
"n*100/n_rev"
   ]
   }
,
{
		   "cell_type": "markdown",
		   "metadata": {},
		   "source": [
			"## Example 7.14: Engineering_Thermodynamics_by_Onkar_Singh_Chapter_7_Example_14.sce"
		   ]
		  },
  {
"cell_type": "code",
	   "execution_count": null,
	   "metadata": {
	    "collapsed": true
	   },
	   "outputs": [],
"source": [
"// Display mode\n",
"mode(0);\n",
"// Display warning for floating point exception\n",
"ieee(1);\n",
"clear;\n",
"clc;\n",
"disp('Engineering Thermodynamics by Onkar Singh Chapter 7 Example 14')\n",
"V_A=6;//volume of compartment A in m^3\n",
"V_B=4;//volume of compartment B in m^3\n",
"To=300;//temperature of atmosphere in K\n",
"Po=1*10^5;//atmospheric pressure in pa\n",
"P1=6*10^5;//initial pressure in pa\n",
"T1=600;//initial temperature in K\n",
"V1=V_A;//initial volume in m^3\n",
"V2=(V_A+V_B);//final volume in m^3\n",
"y=1.4;//expansion constant \n",
"R=287;//gas constant in J/kg K\n",
"Cv=0.718;//specific heat at constant volume in KJ/kg K\n",
"disp('expansion occurs in adiabatic conditions.')\n",
"disp('temperature after expansion can be obtained by considering adiabatic expansion')\n",
"disp('T2/T1=(V1/V2)^(y-1)')\n",
"disp('so T2=T1*(V1/V2)^(y-1) in K')\n",
"T2=T1*(V1/V2)^(y-1)\n",
"T2=489.12;//approx.\n",
"disp('mass of air,m=(P1*V1)/(R*T1)in kg')\n",
"m=(P1*V1)/(R*T1)\n",
"m=20.91;//approx.\n",
"disp('change in entropy of control system,deltaSs=(S2-S1)=m*Cv*log(T2/T1)+m*R*10^-3*log(V2/V1)in KJ/K')\n",
"deltaSs=m*Cv*log(T2/T1)+m*R*10^-3*log(V2/V1)\n",
"disp('here,there is no change in entropy of environment,deltaSe=0')\n",
"deltaSe=0;\n",
"disp('total entropy change of combined system=deltaSc=deltaSs+deltaSe in KJ/K')\n",
"deltaSc=deltaSs+deltaSe\n",
"disp('loss of available energy(E)=irreversibility=To*deltaSc in KJ')\n",
"E=To*deltaSc\n",
"disp('so loss of available energy,E=0.603 KJ')\n",
""
   ]
   }
,
{
		   "cell_type": "markdown",
		   "metadata": {},
		   "source": [
			"## Example 7.15: Engineering_Thermodynamics_by_Onkar_Singh_Chapter_7_Example_15.sce"
		   ]
		  },
  {
"cell_type": "code",
	   "execution_count": null,
	   "metadata": {
	    "collapsed": true
	   },
	   "outputs": [],
"source": [
"// Display mode\n",
"mode(0);\n",
"// Display warning for floating point exception\n",
"ieee(1);\n",
"clear;\n",
"clc;\n",
"disp('Engineering Thermodynamics by Onkar Singh Chapter 7 Example 15')\n",
"disp('In question no. 15 prove for ideal gas satisfies the cyclic relation is done which cannot be solve using scilab software.')"
   ]
   }
,
{
		   "cell_type": "markdown",
		   "metadata": {},
		   "source": [
			"## Example 7.16: Engineering_Thermodynamics_by_Onkar_Singh_Chapter_7_Example_16.sce"
		   ]
		  },
  {
"cell_type": "code",
	   "execution_count": null,
	   "metadata": {
	    "collapsed": true
	   },
	   "outputs": [],
"source": [
"// Display mode\n",
"mode(0);\n",
"// Display warning for floating point exception\n",
"ieee(1);\n",
"clear;\n",
"clc;\n",
"disp('Engineering Thermodynamics by Onkar Singh Chapter 7 Example 16')\n",
"To=(17+273);//temperature of surrounding in K\n",
"T1=(700+273);//temperature of high temperature reservoir in K\n",
"T2=(30+273);//temperature of low temperature reservoir in K\n",
"Q1=2*10^4;//rate of heat receive in KJ/min\n",
"W_useful=0.13*10^3;//output of engine in KW\n",
"disp('availability or reversible work,W_rev=n_rev*Q1 in KJ/min')\n",
"n_rev=(1-T2/T1);\n",
"W_rev=n_rev*Q1\n",
"W_rev=W_rev/60;//W_rev in KJ/s\n",
"disp('rate of irreversibility,I=W_rev-W_useful in KJ/sec')\n",
"I=W_rev-W_useful\n",
"disp('second law efficiency=W_useful/W_rev')\n",
"W_useful/W_rev\n",
"disp('in percentage')\n",
"W_useful*100/W_rev\n",
"disp('so availability=1.38*10^4 KJ/min')\n",
"disp('and rate of irreversibility=100 KW,second law efficiency=56.63 %')\n",
"disp('NOTE=>In this question,wrong values are put in expression for W_rev in book,however answer is calculated correctly.')"
   ]
   }
,
{
		   "cell_type": "markdown",
		   "metadata": {},
		   "source": [
			"## Example 7.17: Engineering_Thermodynamics_by_Onkar_Singh_Chapter_7_Example_17.sce"
		   ]
		  },
  {
"cell_type": "code",
	   "execution_count": null,
	   "metadata": {
	    "collapsed": true
	   },
	   "outputs": [],
"source": [
"// Display mode\n",
"mode(0);\n",
"// Display warning for floating point exception\n",
"ieee(1);\n",
"clear;\n",
"clc;\n",
"disp('Engineering Thermodynamics by Onkar Singh Chapter 7 Example 17')\n",
"To=(27+273);//temperature of surrounding in K\n",
"T1=(60+273);//initial temperature of air in K\n",
"P1=1.5*10^5;//initial pressure of air in pa\n",
"P2=2.5*10^5;//final pressure of air in pa\n",
"T_reservoir=(400+273);//temperature of reservoir in K\n",
"Cp=1.005;//specific heat at constant pressure in KJ/kg K\n",
"disp('loss of available energy=irreversibility=To*deltaSc')\n",
"disp('deltaSc=deltaSs+deltaSe')\n",
"disp('change in entropy of system=deltaSs')\n",
"disp('change in entropy of environment/surroundings=deltaSe')\n",
"disp('here heat addition process causing rise in pressure from 1.5 bar to 2.5 bar occurs isochorically.let initial and final states be given by subscript 1 and 2')\n",
"disp('P1/T1=P2/T2')\n",
"disp('so T2=P2*T1/P1 in K')\n",
"T2=P2*T1/P1\n",
"disp('heat addition to air in tank')\n",
"disp('Q=m*Cp*deltaT in KJ/kg')\n",
"deltaT=T2-T1;\n",
"Q=Cp*deltaT\n",
"disp('deltaSs=Q/T1 in KJ/kg K')\n",
"deltaSs=Q/T1\n",
"disp('deltaSe=-Q/T_reservoir in KJ/kg K')\n",
"deltaSe=-Q/T_reservoir\n",
"disp('and deltaSc=deltaSs+deltaSe in KJ/kg K')\n",
"deltaSc=deltaSs+deltaSe\n",
"disp('so loss of available energy(E)in KJ/kg')\n",
"E=To*deltaSc"
   ]
   }
,
{
		   "cell_type": "markdown",
		   "metadata": {},
		   "source": [
			"## Example 7.18: Engineering_Thermodynamics_by_Onkar_Singh_Chapter_7_Example_18.sce"
		   ]
		  },
  {
"cell_type": "code",
	   "execution_count": null,
	   "metadata": {
	    "collapsed": true
	   },
	   "outputs": [],
"source": [
"// Display mode\n",
"mode(0);\n",
"// Display warning for floating point exception\n",
"ieee(1);\n",
"clear;\n",
"clc;\n",
"disp('Engineering Thermodynamics by Onkar Singh Chapter 7 Example 18')\n",
"disp('In question no. 18,relation for T*ds using maxwell relation is derived which cannot be solve using scilab software.')"
   ]
   }
,
{
		   "cell_type": "markdown",
		   "metadata": {},
		   "source": [
			"## Example 7.19: Engineering_Thermodynamics_by_Onkar_Singh_Chapter_7_Example_19.sce"
		   ]
		  },
  {
"cell_type": "code",
	   "execution_count": null,
	   "metadata": {
	    "collapsed": true
	   },
	   "outputs": [],
"source": [
"// Display mode\n",
"mode(0);\n",
"// Display warning for floating point exception\n",
"ieee(1);\n",
"clear;\n",
"clc;\n",
"disp('Engineering Thermodynamics by Onkar Singh Chapter 7 Example 19')\n",
"T=(200+273);//temperature of water in K\n",
"disp('clapeyron equation says,h_fg=T*v_fg*(dp/dT)_sat')\n",
"disp('from steam tables,vg=0.12736 m^3/kg,vf=0.001157 m^3/kg')\n",
"vg=0.12736;\n",
"vf=0.001157;\n",
"disp('v_fg=(vg-vf)_200oc in m^3/kg')\n",
"v_fg=(vg-vf)\n",
"disp('let us approximate,')\n",
"disp('(dp/dT)_sat_200oc=(deltaP/deltaT)_200oc=(P_205oc-P_195oc)/(205-195) in Mpa/oc')\n",
"disp('here from steam tables,P_205oc=1.7230 Mpa,P_195oc=1.3978 Mpa')\n",
"P_205oc=1.7230;//pressure at 205 degree celcius in Mpa\n",
"P_195oc=1.3978;//pressure at 195 degree celcius in Mpa\n",
"(P_205oc-P_195oc)/(205-195)\n",
"disp('substituting in clapeyron equation,')\n",
"disp('h_fg in KJ/kg')\n",
"h_fg=T*v_fg*(P_205oc-P_195oc)*1000/(205-195)\n",
"disp('so calculated enthalpy of vaporisation=1941.25 KJ/kg')\n",
"disp('and enthalpy of vaporisation from steam table=1940.7 KJ/kg')"
   ]
   }
,
{
		   "cell_type": "markdown",
		   "metadata": {},
		   "source": [
			"## Example 7.1: Engineering_Thermodynamics_by_Onkar_Singh_Chapter_7_Example_1.sce"
		   ]
		  },
  {
"cell_type": "code",
	   "execution_count": null,
	   "metadata": {
	    "collapsed": true
	   },
	   "outputs": [],
"source": [
"// Display mode\n",
"mode(0);\n",
"// Display warning for floating point exception\n",
"ieee(1);\n",
"clear;\n",
"clc;\n",
"disp('Engineering Thermodynamics by Onkar Singh Chapter 7 Example 1')\n",
"C2=150;//leave velocity of steam in m/s\n",
"m=2.5;//steam mass flow rate in kg/s\n",
"disp('let us neglect the potential energy change during the flow.')\n",
"disp('applying S.F.E.E,neglecting inlet velocity and change in potential energy,')\n",
"disp('W_max=(h1-To*s1)-(h2+C2^2/2-To*s2)')\n",
"disp('W_max=(h1-h2)-To*(s1-s2)-C2^2/2')\n",
"disp('from steam tables,')\n",
"disp('h1=h_1.6Mpa_300=3034.8 KJ/kg,s1=s_1.6Mpa_300=6.8844 KJ/kg,h2=h_0.1Mpa_150=2776.4 KJ/kg,s2=s_150Mpa_150=7.6134 KJ/kg')\n",
"h1=3034.8;\n",
"s1=6.8844;\n",
"h2=2776.4;\n",
"s2=7.6134;\n",
"disp('given To=288 K')\n",
"To=288;\n",
"disp('so W_max in KJ/kg')\n",
"W_max=(h1-h2)-To*(s1-s2)-(C2^2/2*10^-3)\n",
"disp('maximum possible work(W_max)=m*W_max in KW')\n",
"W_max=m*W_max"
   ]
   }
,
{
		   "cell_type": "markdown",
		   "metadata": {},
		   "source": [
			"## Example 7.20: Engineering_Thermodynamics_by_Onkar_Singh_Chapter_7_Example_20.sce"
		   ]
		  },
  {
"cell_type": "code",
	   "execution_count": null,
	   "metadata": {
	    "collapsed": true
	   },
	   "outputs": [],
"source": [
"// Display mode\n",
"mode(0);\n",
"// Display warning for floating point exception\n",
"ieee(1);\n",
"clear;\n",
"clc;\n",
"disp('Engineering Thermodynamics by Onkar Singh Chapter 7 Example 20')\n",
"P2=260.96;//saturation pressure at -5 degree celcius\n",
"P1=182.60;//saturation pressure at -15 degree celcius\n",
"vg=0.07665;//specific volume of gas at -10 degree celcius in m^3/kg\n",
"vf=0.00070//specific volume at -10 degree celcius in m^3/kg\n",
"R=0.06876;//gas constant in KJ/kg K\n",
"h_fg=156.3;//enthalpy in KJ/kg K\n",
"T2=(-5+273);//temperature in K\n",
"T1=(-15+273);//temperature in K\n",
"disp('by clapeyron equation')\n",
"disp('h_fg=T2*v_fg*(do/dT)_sat ')\n",
"disp('h_fg=T2*(vg-vf)*(deltaP/deltaT)in KJ/kg')\n",
"h_fg=T2*(vg-vf)*(P1-P2)/(T1-T2)\n",
"disp('by clapeyron-clausius equation,')\n",
"disp('log(P2/P1)_sat=(h_fg/R)*((1/T1)-(1/T2))_sat')\n",
"disp('log(P2/P1)=(h_fg/R)*((1/T1)-(1/T2))')\n",
"disp('so h_fg=log(P2/P1)*R/((1/T1)-(1/T2))in KJ/kg')\n",
"h_fg=log(P2/P1)*R/((1/T1)-(1/T2))\n",
"disp('% deviation from clapeyron equation in %')\n",
"(169.76-159.49)*100/159.49\n",
"disp('h_fg by clapeyron equation=159.49 KJ/kg')\n",
"disp('h_fg by clapeyron-clausius equation=169.76 KJ/kg')\n",
"disp('% deviation in h_fg value by clapeyron-clausius equation from the value from clapeyron equation=6.44%')"
   ]
   }
,
{
		   "cell_type": "markdown",
		   "metadata": {},
		   "source": [
			"## Example 7.21: Engineering_Thermodynamics_by_Onkar_Singh_Chapter_7_Example_21.sce"
		   ]
		  },
  {
"cell_type": "code",
	   "execution_count": null,
	   "metadata": {
	    "collapsed": true
	   },
	   "outputs": [],
"source": [
"// Display mode\n",
"mode(0);\n",
"// Display warning for floating point exception\n",
"ieee(1);\n",
"clear;\n",
"clc;\n",
"disp('Engineering Thermodynamics by Onkar Singh Chapter 7 Example 21')\n",
"disp('volume expansion=(1/v)*(dv/dT)_P')\n",
"disp('isothermal compressibility=-(1/v)*(dv/dp)_T')\n",
"disp('let us write dv/dT=deltav/deltaT and dv/dP=deltav/deltaP.The difference may be taken for small pressure and temperature changes.')\n",
"disp('volume expansivity in K^-1,')\n",
"disp('=(1/v)*(dv/dT)_300Kpa')\n",
"disp('=(1/v_300Kpa_300oc)*((v_350oc-v_250oc)/(350-250))_300Kpa')\n",
"disp('from steam tables,v_300Kpa_300oc=0.8753 in m^3/kg,v_350oc=0.9534 in m^3/kg,v_250oc=0.7964 in m^3/kg')\n",
"v_300Kpa_300oc=0.8753;//specific volume at 300Kpa and 300 degree celcius\n",
"v_350oc=0.9534;//specific volume 350 degree celcius\n",
"v_250oc=0.7964;//specific volume 250 degree celcius\n",
"(1/v_300Kpa_300oc)*(v_350oc-v_250oc)/(350-250)\n",
"disp('volume expansivity=1.7937*10^-3 K^-1')\n",
"disp('isothermal compressibility in Kpa^-1')\n",
"disp('=(-1/v_300Kpa_300oc)*((v_350Kpa-v_250Kpa)/(350-250))_300oc')\n",
"disp('from steam tables,v_300Kpa_300oc=0.8753 in m^3/kg,v_350Kpa=0.76505 in m^3/kg,v_250Kpa=1.09575 in m^3/kg')\n",
"v_350Kpa=0.76505;//specific volume 350 Kpa\n",
"v_250Kpa=1.09575;//specific volume 250 Kpa\n",
"(-1/v_300Kpa_300oc)*(v_350Kpa-v_250Kpa)/(350-250)\n",
"disp('so isothermal compressibility=3.778*10^-3 Kpa^-1')"
   ]
   }
,
{
		   "cell_type": "markdown",
		   "metadata": {},
		   "source": [
			"## Example 7.22: Engineering_Thermodynamics_by_Onkar_Singh_Chapter_7_Example_22.sce"
		   ]
		  },
  {
"cell_type": "code",
	   "execution_count": null,
	   "metadata": {
	    "collapsed": true
	   },
	   "outputs": [],
"source": [
"// Display mode\n",
"mode(0);\n",
"// Display warning for floating point exception\n",
"ieee(1);\n",
"clear;\n",
"clc;\n",
"disp('Engineering Thermodynamics by Onkar Singh Chapter 7 Example 22')\n",
"Cp=1.005;//specific heat at constant pressure in KJ/kg K\n",
"Cv=0.718;//specific heat at constant volume in KJ/kg K\n",
"Ti=(25+273.15);//atmospheric temperature in K\n",
"disp('filling of the tank is a transient flow(unsteady)process.for the transient filling process,considering subscripts i and f for initial and final states,')\n",
"disp('hi=uf')\n",
"disp('Cp*Ti=Cv*Tf')\n",
"disp('so Tf=Cp*Ti/Cv in K')\n",
"Tf=Cp*Ti/Cv\n",
"disp('inside final temperature,Tf=417.33 K')\n",
"disp('change in entropy,deltaS_gen=(Sf-Si)+deltaS_surr in KJ/kg K')\n",
"disp('Cp*log(Tf/Ti)+0')\n",
"deltaS_gen=Cp*log(Tf/Ti)\n",
"disp('change in entropy,deltaS_gen=0.3379 KJ/kg K')\n",
"disp('irreversibility,I=To*deltaS_gen in KJ/kg')\n",
"To=Ti;\n",
"I=To*deltaS_gen\n",
"disp('irreversibility,I=100.74 KJ/kg')"
   ]
   }
,
{
		   "cell_type": "markdown",
		   "metadata": {},
		   "source": [
			"## Example 7.23: Engineering_Thermodynamics_by_Onkar_Singh_Chapter_7_Example_23.sce"
		   ]
		  },
  {
"cell_type": "code",
	   "execution_count": null,
	   "metadata": {
	    "collapsed": true
	   },
	   "outputs": [],
"source": [
"// Display mode\n",
"mode(0);\n",
"// Display warning for floating point exception\n",
"ieee(1);\n",
"clear;\n",
"clc;\n",
"disp('Engineering Thermodynamics by Onkar Singh Chapter 7 Example 23')\n",
"m=75;//mass of hot water in kg\n",
"T1=(400+273);//temperature of hot water in K\n",
"T2=(27+273);//temperature of environment in K\n",
"Cp=4.18;//specific heat of water in KJ/kg K\n",
"disp('here the combined closed system consists of hot water and heat engine.here there is no thermal reservoir in the system under consideration.for the maximum work output,irreversibility=0')\n",
"disp('therefore,d(E-To-S)/dt=W_max')\n",
"disp('or W_max=(E-To-S)1-(E-To-S)2')\n",
"disp('here E1=U1=m*Cp*T1,E2=U2=m*Cp*T2')\n",
"disp('therefore,W_max=m*Cp*(T1-T2)-To*m*Cp*log(T1/T2)in KJ')\n",
"To=T2;\n",
"W_max=m*Cp*(T1-T2)-To*m*Cp*log(T1/T2)\n",
"disp('so maximum work in KJ=')\n",
"W_max"
   ]
   }
,
{
		   "cell_type": "markdown",
		   "metadata": {},
		   "source": [
			"## Example 7.24: Engineering_Thermodynamics_by_Onkar_Singh_Chapter_7_Example_24.sce"
		   ]
		  },
  {
"cell_type": "code",
	   "execution_count": null,
	   "metadata": {
	    "collapsed": true
	   },
	   "outputs": [],
"source": [
"// Display mode\n",
"mode(0);\n",
"// Display warning for floating point exception\n",
"ieee(1);\n",
"clear;\n",
"clc;\n",
"disp('Engineering Thermodynamics by Onkar Singh Chapter 7 Example 24')\n",
"C1=150;//steam entering velocity in m/s\n",
"C2=50;//steam leaving velocity in m/s\n",
"To=(15+273);//dead state temperature in K\n",
"W=1000;//expansion work in KJ/kg\n",
"disp('from steam tables,h1=h_50bar_600oc=3666.5 KJ/kg,s1=s_50bar_600oc=7.2589 KJ/kg K,h2=hg=2584.7 KJ/kg,s2=sg=8.1502 KJ/kg K')\n",
"h1=3666.5;\n",
"s1=7.2589;\n",
"h2=2584.7;\n",
"s2=8.1502;\n",
"disp('inlet stream availability=(h1+C1^2*10^-3/2)-To*s1 in KJ/kg')\n",
"(h1+C1^2*10^-3/2)-To*s1\n",
"disp('input stream availability is equal to the input absolute availability.')\n",
"disp('exit stream availaability=(h2+C2^2*10^-3/2)-To*s2 in KJ/kg')\n",
"(h2+C2^2*10^-3/2)-To*s2\n",
"disp('exit stream availability is equal to the exit absolute availability.')\n",
"disp('W_rev in KJ/kg')\n",
"W_rev=1587.18-238.69\n",
"disp('irreversibility=W_rev-W in KJ/kg')\n",
"W_rev-W\n",
"disp('this irreversibility is in fact the availability loss.')\n",
"disp('inlet stream availability=1587.18 KJ/kg')\n",
"disp('exit stream availability=238.69 KJ/kg')\n",
"disp('irreversibility=348.49 KJ/kg')\n",
"disp('NOTE=>In book this question is solve using dead state temperature 25 degree celcius which is wrong as we have to take dead state temperature 15 degree celcius,now this question is correctly solve above taking dead state temperature 15 degree celcius as mentioned in question. ')"
   ]
   }
,
{
		   "cell_type": "markdown",
		   "metadata": {},
		   "source": [
			"## Example 7.2: Engineering_Thermodynamics_by_Onkar_Singh_Chapter_7_Example_2.sce"
		   ]
		  },
  {
"cell_type": "code",
	   "execution_count": null,
	   "metadata": {
	    "collapsed": true
	   },
	   "outputs": [],
"source": [
"// Display mode\n",
"mode(0);\n",
"// Display warning for floating point exception\n",
"ieee(1);\n",
"clear;\n",
"clc;\n",
"disp('Engineering Thermodynamics by Onkar Singh Chapter 7 Example 2')\n",
"m=1;//mass of air in kg\n",
"Po=1*10^5;//atmospheric pressure in pa\n",
"To=(15+273);//temperature of atmosphere in K\n",
"Cv=0.717;//specific heat at constant volume in KJ/kg K\n",
"R=0.287;//gas constant in KJ/kg K\n",
"Cp=1.004;//specific heat at constant pressure in KJ/kg K\n",
"T=(50+273);//temperature of tanks A and B in K\n",
"disp('In these tanks the air stored is at same temperature of 50 degree celcius.Therefore,for air behaving as perfect gas the internal energy of air in tanks shall be same as it depends upon temperature alone.But the availability shall be different.')\n",
"disp('BOTH THE TANKS HAVE SAME INTERNAL ENERGY')\n",
"disp('availability of air in tank,A')\n",
"disp('A=(E-Uo)+Po*(V-Vo)-To*(S-So)')\n",
"disp('=m*{(e-uo)+Po(v-vo)-To(s-so)}')\n",
"disp('m*{Cv*(T-To)+Po*(R*T/P-R*To/Po)-To(Cp*log(T/To)-R*log(P/Po))}')\n",
"disp('so A=m*{Cv*(T-To)+R*(Po*T/P-To)-To*Cp*log(T/To)+To*R*log(P/Po)}')\n",
"disp('for tank A,P=1*10^5 pa,so availability_A in KJ')\n",
"P=1*10^5;//pressure in tank A in pa\n",
"availability_A=m*{Cv*(T-To)+R*(Po*T/P-To)-To*Cp*log(T/To)+To*R*log(P/Po)}\n",
"disp('for tank B,P=3*10^5 pa,so availability_B in KJ')\n",
"P=3*10^5;//pressure in tank B in pa\n",
"availability_B=m*{Cv*(T-To)+R*(Po*T/P-To)-To*Cp*log(T/To)+To*R*log(P/Po)}\n",
"disp('so availability of air in tank B is more than that of tank A')\n",
"disp('availability of air in tank A=1.98 KJ')\n",
"disp('availability of air in tank B=30.98 KJ')"
   ]
   }
,
{
		   "cell_type": "markdown",
		   "metadata": {},
		   "source": [
			"## Example 7.3: Engineering_Thermodynamics_by_Onkar_Singh_Chapter_7_Example_3.sce"
		   ]
		  },
  {
"cell_type": "code",
	   "execution_count": null,
	   "metadata": {
	    "collapsed": true
	   },
	   "outputs": [],
"source": [
"// Display mode\n",
"mode(0);\n",
"// Display warning for floating point exception\n",
"ieee(1);\n",
"clear;\n",
"clc;\n",
"disp('Engineering Thermodynamics by Onkar Singh Chapter 7 Example 3')\n",
"m=15;//steam flow rate in kg/s\n",
"V2=160;//exit velocity of steam in m/s\n",
"To=(15+273);//pond water temperature in K\n",
"disp('inlet conditions,')\n",
"disp('from steam tables,,h1=3051.2 KJ/kg,s1=7.1229 KJ/kg K')\n",
"h1=3051.2;\n",
"s1=7.1229;\n",
"disp('outlet conditions,at 0.05 bar and 0.95 dryness fraction')\n",
"disp('from steam tables,sf=0.4764 KJ/kg K,s_fg=7.9187 KJ/kg K,x=0.95,hf=137.82 KJ/kg,h_fg=2423.7 KJ/kg')\n",
"sf=0.4764;\n",
"s_fg=7.9187;\n",
"x=0.95;\n",
"hf=137.82;\n",
"h_fg=2423.7;\n",
"disp('so s2=sf+x*s_fg in KJ/kg K')\n",
"s2=sf+x*s_fg\n",
"disp('and h2=hf+x*h_fg in KJ/kg')\n",
"h2=hf+x*h_fg\n",
"disp('neglecting the change in potential energy and velocity at inlet to turbine,the steady flow energy equation may be written as to give work output.')\n",
"disp('w=(h1-h2)-V2^2*10^-3/2 in KJ/kg')\n",
"w=(h1-h2)-V2^2*10^-3/2\n",
"disp('power output=m*w in KW')\n",
"m*w\n",
"disp('maximum work for given end states,')\n",
"disp('w_max=(h1-To*s1)-(h2+V2^2*10^-3/2-To*s2) in KJ/kg')\n",
"w_max=(h1-To*s1)-(h2+V2^2*10^-3/2-To*s2)\n",
"w_max=850.38;//approx.\n",
"disp('w_max in KW')\n",
"w_max=m*w_max\n",
"disp('so maximum power output=12755.7 KW')\n",
"disp('maximum power that could be obtained from exhaust steam shall depend upon availability with exhaust steam and the dead state.stream availability of exhaust steam,')\n",
"disp('A_exhaust=(h2+V^2/2-To*s2)-(ho-To*so)')\n",
"disp('=(h2-ho)+V2^2/2-To(s2-so)')\n",
"disp('approximately the enthalpy of water at dead state of 1 bar,15 degree celcius can be approximated to saturated liquid at 15 degree celcius')\n",
"disp('from steam tables,at 15 degree celcius,ho=62.99 KJ/kg,so=0.2245 KJ/kg K')\n",
"ho=62.99;\n",
"so=0.2245;\n",
"disp('maximum work available from exhaust steam,A_exhaust in KJ/kg')\n",
"disp('A_exhaust=(h2-ho)+V2^2*10^-3/2-To*(s2-so)')\n",
"A_exhaust=(h2-ho)+V2^2*10^-3/2-To*(s2-so)\n",
"A_exhaust=151.1;//approx.\n",
"disp('maximum power that could be obtained from exhaust steam=m*A_exhaust in KW')\n",
"m*A_exhaust\n",
"disp('so maximum power from exhaust steam=2266.5 KW')\n",
"\n",
"\n",
"\n",
"\n",
"\n",
"\n",
""
   ]
   }
,
{
		   "cell_type": "markdown",
		   "metadata": {},
		   "source": [
			"## Example 7.4: Engineering_Thermodynamics_by_Onkar_Singh_Chapter_7_Example_4.sce"
		   ]
		  },
  {
"cell_type": "code",
	   "execution_count": null,
	   "metadata": {
	    "collapsed": true
	   },
	   "outputs": [],
"source": [
"// Display mode\n",
"mode(0);\n",
"// Display warning for floating point exception\n",
"ieee(1);\n",
"clear;\n",
"clc;\n",
"disp('Engineering Thermodynamics by Onkar Singh Chapter 7 Example 4')\n",
"m=5;//mass of steam in kg\n",
"z1=10;//initial elevation in m\n",
"V1=25;//initial velocity of steam in m/s\n",
"z2=2;//final elevation in m\n",
"V2=10;//final velocity of steam in m/s\n",
"Po=100;//environmental pressure in Kpa\n",
"To=(25+273);//environmental temperature in K\n",
"g=9.81;//acceleration due to gravity in m/s^2\n",
"disp('for dead state of water,')\n",
"disp('from steam tables,uo=104.86 KJ/kg,vo=1.0029*10^-3 m^3/kg,so=0.3673 KJ/kg K')\n",
"uo=104.86;\n",
"vo=1.0029*10^-3;\n",
"so=0.3673;\n",
"disp('for initial state of water,')\n",
"disp('from steam tables,u1=2550 KJ/kg,v1=0.5089 m^3/kg,s1=6.93 KJ/kg K')\n",
"u1=2550;\n",
"v1=0.5089;\n",
"s1=6.93;\n",
"disp('for final state of water,')\n",
"disp('from steam tables,u2=83.94 KJ/kg,v2=1.0018*10^-3 m^3/kg,s2=0.2966 KJ/kg K')\n",
"u2=83.94;\n",
"v2=1.0018*10^-3;\n",
"s2=0.2966;\n",
"disp('availability at any state can be given by')\n",
"disp('A=m*((u-uo)+Po*(v-vo)-To*(s-so)+V^2/2+g*z)')\n",
"disp('so availability at initial state,A1 in KJ')\n",
"disp('A1=m*((u1-uo)+Po*(v1-vo)-To*(s1-so)+V1^2*10^-3/2+g*z1*10^-3)')\n",
"A1=m*((u1-uo)+Po*(v1-vo)-To*(s1-so)+V1^2*10^-3/2+g*z1*10^-3)\n",
"disp('and availability at final state,A2 in KJ')\n",
"disp('A2=m*((u2-uo)+Po*(v2-vo)-To*(s2-so)+V2^2*10^-3/2+g*z2*10^-3)')\n",
"A2=m*((u2-uo)+Po*(v2-vo)-To*(s2-so)+V2^2*10^-3/2+g*z2*10^-3)\n",
"disp('change in availability,A2-A1 in KJ')\n",
"A2-A1\n",
"disp('hence availability decreases by 2702.188 KJ')\n",
"disp('NOTE=>In this question,due to large calculations,answers are approximately correct.')"
   ]
   }
,
{
		   "cell_type": "markdown",
		   "metadata": {},
		   "source": [
			"## Example 7.5: Engineering_Thermodynamics_by_Onkar_Singh_Chapter_7_Example_5.sce"
		   ]
		  },
  {
"cell_type": "code",
	   "execution_count": null,
	   "metadata": {
	    "collapsed": true
	   },
	   "outputs": [],
"source": [
"// Display mode\n",
"mode(0);\n",
"// Display warning for floating point exception\n",
"ieee(1);\n",
"clear;\n",
"clc;\n",
"disp('Engineering Thermodynamics by Onkar Singh Chapter 7 Example 5')\n",
"disp('In question no. 5 expression I=To*S_gen is derived which cannot be solve using scilab software.')"
   ]
   }
,
{
		   "cell_type": "markdown",
		   "metadata": {},
		   "source": [
			"## Example 7.6: Engineering_Thermodynamics_by_Onkar_Singh_Chapter_7_Example_6.sce"
		   ]
		  },
  {
"cell_type": "code",
	   "execution_count": null,
	   "metadata": {
	    "collapsed": true
	   },
	   "outputs": [],
"source": [
"// Display mode\n",
"mode(0);\n",
"// Display warning for floating point exception\n",
"ieee(1);\n",
"clear;\n",
"clc;\n",
"disp('Engineering Thermodynamics by Onkar Singh Chapter 7 Example 6')\n",
"To=(30+273);//temperature of surrounding in K\n",
"W=1050;//work done in engine in KJ/kg\n",
"Cp=1.1;//specific heat at constant pressure in KJ/kg K\n",
"T=(800+273);//temperature of exhaust gas in K\n",
"disp('loss of available energy=irreversibility=To*deltaSc')\n",
"disp('deltaSc=deltaSs+deltaSe')\n",
"disp('change in enropy of system(deltaSs)=W/T in KJ/kg K')\n",
"deltaSs=W/T\n",
"disp('change in entropy of surrounding(deltaSe)=-Cp*(T-To)/To in KJ/kg K')\n",
"deltaSe=-Cp*(T-To)/To\n",
"disp('loss of available energy(E)=To*(deltaSs+deltaSe)in KJ/kg')\n",
"E=To*(deltaSs+deltaSe)\n",
"disp('loss of available energy(E)=')\n",
"E=-E\n",
"disp('ratio of lost available exhaust gas energy to engine work=E/W')\n",
"E/W"
   ]
   }
,
{
		   "cell_type": "markdown",
		   "metadata": {},
		   "source": [
			"## Example 7.7: Engineering_Thermodynamics_by_Onkar_Singh_Chapter_7_Example_7.sce"
		   ]
		  },
  {
"cell_type": "code",
	   "execution_count": null,
	   "metadata": {
	    "collapsed": true
	   },
	   "outputs": [],
"source": [
"// Display mode\n",
"mode(0);\n",
"// Display warning for floating point exception\n",
"ieee(1);\n",
"clear;\n",
"clc;\n",
"disp('Engineering Thermodynamics by Onkar Singh Chapter 7 Example 7')\n",
"m=10;//mass of water in kg\n",
"C1=25;//initial velocity in m/s\n",
"C2=10;//final velocity in m/s\n",
"Po=0.1*1000;//environmental pressure in Kpa\n",
"To=(25+273.15);//environmental temperature in K\n",
"g=9.8;//acceleration due to gravity in m/s^2\n",
"z1=10;//initial elevation in m\n",
"z2=3;//final elevation in m\n",
"disp('let us consider velocities and elevations to be given in reference to environment.Availability is given by')\n",
"disp('A=m*((u-uo)+Po*(v-vo)-To(s-so)+C^2/2+g*z)')\n",
"disp('dead state of water,from steam tables,uo=104.88 KJ/kg,vo=1.003*10^-3 m^3/kg,so=0.3674 KJ/kg K')\n",
"uo=104.88;\n",
"vo=1.003*10^-3;\n",
"so=0.3674;\n",
"disp('for initial state of saturated vapour at 150 degree celcius')\n",
"disp('from steam tables,u1=2559.5 KJ/kg,v1=0.3928 m^3/kg,s1=6.8379 KJ/kg K')\n",
"u1=2559.5;\n",
"v1=0.3928;\n",
"s1=6.8379;\n",
"disp('for final state of saturated liquid at 20 degree celcius')\n",
"disp('from steam tables,u2=83.95 KJ/kg,v2=0.001002 m^3/kg,s2=0.2966 KJ/kg K')\n",
"u2=83.95;\n",
"v2=0.001002;\n",
"s2=0.2966;\n",
"disp('substituting in the expression for availability')\n",
"disp('initial state availability,A1 in KJ')\n",
"disp('A1=m*((u1-uo)+Po*(v1-vo)-To*(s1-so)+C1^2*10^-3/2+g*z1*10^-3)')\n",
"A1=m*((u1-uo)+Po*(v1-vo)-To*(s1-so)+C1^2*10^-3/2+g*z1*10^-3)\n",
"disp('final state availability,A2 in KJ')\n",
"disp('A2=m*((u2-uo)+Po*(v2-vo)-To*(s2-so)+C2^2*10^-3/2+g*z2*10^-3)')\n",
"A2=m*((u2-uo)+Po*(v2-vo)-To*(s2-so)+C2^2*10^-3/2+g*z2*10^-3)\n",
"disp('change in availability,deltaA=A2-A1 in KJ')\n",
"deltaA=A2-A1\n",
"disp('so initial availability =5650.28 KJ')\n",
"disp('final availability=2.58 KJ ')\n",
"disp('change in availability=decrease by 5647.70 KJ ')\n",
""
   ]
   }
,
{
		   "cell_type": "markdown",
		   "metadata": {},
		   "source": [
			"## Example 7.8: Engineering_Thermodynamics_by_Onkar_Singh_Chapter_7_Example_8.sce"
		   ]
		  },
  {
"cell_type": "code",
	   "execution_count": null,
	   "metadata": {
	    "collapsed": true
	   },
	   "outputs": [],
"source": [
"// Display mode\n",
"mode(0);\n",
"// Display warning for floating point exception\n",
"ieee(1);\n",
"clear;\n",
"clc;\n",
"disp('Engineering Thermodynamics by Onkar Singh Chapter 7 Example 8')\n",
"m=5;//steam flow rate in kg/s\n",
"p1=5*1000;//initial pressure of steam in Kpa\n",
"T1=(500+273.15);//initial temperature of steam in K \n",
"p2=0.2*1000;//final pressure of steam in Kpa\n",
"T1=(140+273.15);//final temperature of steam in K\n",
"po=101.3;//pressure of steam at dead state in Kpa\n",
"To=(25+273.15);//temperature of steam at dead state in K  \n",
"Q=600;//heat loss through turbine in KJ/s\n",
"disp('let inlet and exit states of turbine be denoted as 1 and 2')\n",
"disp('at inlet to turbine,')\n",
"disp('from steam tables,h1=3433.8 KJ/kg,s1=6.9759 KJ/kg K')\n",
"h1=3433.8;\n",
"s1=6.9759;\n",
"disp('at exit from turbine,')\n",
"disp('from steam tables,h2=2748 KJ/kg,s2=7.228 KJ/kg K')\n",
"h2=2748;\n",
"s2=7.228;\n",
"disp('at dead state,')\n",
"disp('from steam tables,ho=104.96 KJ/kg,so=0.3673 KJ/kg K')\n",
"ho=104.96;\n",
"so=0.3673;\n",
"disp('availability of steam at inlet,A1=m*((h1-ho)-To*(s1-so))in KJ')\n",
"A1=m*((h1-ho)-To*(s1-so))\n",
"disp('so availability of steam at inlet=6793.43 KJ')\n",
"disp('applying first law of thermodynamics,')\n",
"disp('Q+m*h1=m*h2+W')\n",
"disp('so W=m*(h1-h2)-Q in KJ/s')\n",
"W=m*(h1-h2)-Q\n",
"disp('so turbine output=2829 KW')\n",
"disp('maximum possible turbine output will be available when irreversibility is zero.')\n",
"disp('W_rev=W_max=A1-A2')\n",
"disp('W_max=m*((h1-h2)-To*(s1-s2))in KJ/s')\n",
"W_max=m*((h1-h2)-To*(s1-s2))\n",
"disp('so maximum output=3804.81 KW')\n",
"disp('irreversibility can be estimated by the difference between the maximum output and turbine output.')\n",
"disp('I=W_max-W in KW')\n",
"I=W_max-W\n",
"disp('so irreversibility=975.81807 KW')\n",
"disp('NOTE=>In book,W_max is calculated wrong,so irreversibility also comes wrong,which are corrected above.')"
   ]
   }
,
{
		   "cell_type": "markdown",
		   "metadata": {},
		   "source": [
			"## Example 7.9: Engineering_Thermodynamics_by_Onkar_Singh_Chapter_7_Example_9.sce"
		   ]
		  },
  {
"cell_type": "code",
	   "execution_count": null,
	   "metadata": {
	    "collapsed": true
	   },
	   "outputs": [],
"source": [
"// Display mode\n",
"mode(0);\n",
"// Display warning for floating point exception\n",
"ieee(1);\n",
"clear;\n",
"clc;\n",
"disp('Engineering Thermodynamics by Onkar Singh Chapter 7 Example 9')\n",
"disp('In question no.9 comparision between sublimation and vaporisation line is made which cannot be solve using scilab software.')"
   ]
   }
],
"metadata": {
		  "kernelspec": {
		   "display_name": "Scilab",
		   "language": "scilab",
		   "name": "scilab"
		  },
		  "language_info": {
		   "file_extension": ".sce",
		   "help_links": [
			{
			 "text": "MetaKernel Magics",
			 "url": "https://github.com/calysto/metakernel/blob/master/metakernel/magics/README.md"
			}
		   ],
		   "mimetype": "text/x-octave",
		   "name": "scilab",
		   "version": "0.7.1"
		  }
		 },
		 "nbformat": 4,
		 "nbformat_minor": 0
}
