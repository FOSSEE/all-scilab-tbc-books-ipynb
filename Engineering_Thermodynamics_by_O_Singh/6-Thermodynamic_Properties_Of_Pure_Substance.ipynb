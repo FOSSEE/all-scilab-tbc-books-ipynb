{
"cells": [
 {
		   "cell_type": "markdown",
	   "metadata": {},
	   "source": [
       "# Chapter 6: Thermodynamic Properties Of Pure Substance"
	   ]
	},
{
		   "cell_type": "markdown",
		   "metadata": {},
		   "source": [
			"## Example 6.10: Engineering_Thermodynamics_by_Onkar_Singh_Chapter_6_Example_10.sce"
		   ]
		  },
  {
"cell_type": "code",
	   "execution_count": null,
	   "metadata": {
	    "collapsed": true
	   },
	   "outputs": [],
"source": [
"// Display mode\n",
"mode(0);\n",
"// Display warning for floating point exception\n",
"ieee(1);\n",
"clear;\n",
"clc;\n",
"disp('Engineering Thermodynamics by Onkar Singh Chapter 6 Example 10')\n",
"p1=800;//initial pressure of steam in Kpa\n",
"T1=200;//initial temperature of steam in degree celcius\n",
"disp('here steam is kept in rigid vessel,therefore its specific volume shall remain constant')\n",
"disp('it is superheated steam as Tsat=170.43 degree celcius at 800 Kpa')\n",
"disp('from superheated steam table;v1=0.2404 m^3/kg')\n",
"disp('at begining of condensation specific volume = 0.2404 m^3/kg')\n",
"disp('v2=0.2404 m^3/kg')\n",
"v2=0.2404;\n",
"disp('this v2 shall be specific volume corresponding to saturated vapour state for condensation.')\n",
"disp('thus v2=vg=0.2404 m^3/kg')\n",
"vg=v2;\n",
"disp('looking into steam table vg=0.2404 m^3/kg shall lie between temperature 175 degree celcius(vg=0.2168 m^3/kg)and 170 degree celcius(vg=0.2428 m^3/kg)and pressure 892 Kpa(175 degree celcius)and 791.7 Kpa(170 degree celcius).')\n",
"disp('by interpolation,temperature at begining of condensation(T2)in K')\n",
"T2=175-((175-170)*(0.2404-0.2167))/(0.2428-.2168)\n",
"disp('similarily,pressure(p2)in Kpa')\n",
"p=892-(((892-791.7)*(0.2404-0.2168))/(0.2428-0.2168))"
   ]
   }
,
{
		   "cell_type": "markdown",
		   "metadata": {},
		   "source": [
			"## Example 6.11: Engineering_Thermodynamics_by_Onkar_Singh_Chapter_6_Example_11.sce"
		   ]
		  },
  {
"cell_type": "code",
	   "execution_count": null,
	   "metadata": {
	    "collapsed": true
	   },
	   "outputs": [],
"source": [
"// Display mode\n",
"mode(0);\n",
"// Display warning for floating point exception\n",
"ieee(1);\n",
"clear;\n",
"clc;\n",
"disp('Engineering Thermodynamics by Onkar Singh Chapter 6 Example 11')\n",
"p2=200;//feed water pump pressure in Kpa\n",
"disp('from 1st and 2nd law;')\n",
"disp('T*ds=dh-v*dp')\n",
"disp('for isentropic process,ds=0')\n",
"disp('hence dh=v*dp')\n",
"disp('i.e (h2-h1)=v1*(p2-p1)')\n",
"disp('corresponding to initial state of saturated liquid at 30 degree celcius;from steam table;')\n",
"disp('p1=4.25 Kpa,vf=v1=0.001004 m^3/kg')\n",
"p1=4.25;\n",
"v1=0.001004;\n",
"disp('therefore enthalpy change(deltah)=(h2-h1)=v1*(p2-p1)in KJ/kg')\n",
"deltah=v1*(p2-p1)"
   ]
   }
,
{
		   "cell_type": "markdown",
		   "metadata": {},
		   "source": [
			"## Example 6.12: Engineering_Thermodynamics_by_Onkar_Singh_Chapter_6_Example_12.sce"
		   ]
		  },
  {
"cell_type": "code",
	   "execution_count": null,
	   "metadata": {
	    "collapsed": true
	   },
	   "outputs": [],
"source": [
"// Display mode\n",
"mode(0);\n",
"// Display warning for floating point exception\n",
"ieee(1);\n",
"clear;\n",
"clc;\n",
"disp('Engineering Thermodynamics by Onkar Singh Chapter 6 Example 12')\n",
"V=2;//volume of vessel in m^3\n",
"disp('from steam table at 150 degree celcius')\n",
"disp('vf=0.001091 m^3/kg,vg=0.3928 m^3/kg')\n",
"Vf=0.001091;\n",
"Vg=0.3928;\n",
"disp('so volume occupied by water(Vw)=3*V/(3+2) in m^3')\n",
"Vw=3*V/(3+2)\n",
"disp('and volume of steam(Vs)=2*V/(3+2) in m^3')\n",
"Vs=2*V/(3+2)\n",
"disp('mass of water(mf)=Vw/Vf in kg')\n",
"mf=Vw/Vf\n",
"disp('mass of steam(mg)=Vs/Vg in kg')\n",
"mg=Vs/Vg\n",
"disp('total mass in tank(m)=mf+mg in kg')\n",
"m=mf+mg\n",
"disp('quality or dryness fraction(x)')\n",
"disp('x=mg/m')\n",
"x=mg/m\n",
"disp('NOTE=>answer given in book for mass=1103.99 kg is incorrect and correct answer is 1101.945 which is calculated above.')"
   ]
   }
,
{
		   "cell_type": "markdown",
		   "metadata": {},
		   "source": [
			"## Example 6.13: Engineering_Thermodynamics_by_Onkar_Singh_Chapter_6_Example_13.sce"
		   ]
		  },
  {
"cell_type": "code",
	   "execution_count": null,
	   "metadata": {
	    "collapsed": true
	   },
	   "outputs": [],
"source": [
"// Display mode\n",
"mode(0);\n",
"// Display warning for floating point exception\n",
"ieee(1);\n",
"clear;\n",
"clc;\n",
"disp('Engineering Thermodynamics by Onkar Singh Chapter 6 Example 13')\n",
"disp('fron S.F.S.E on steam turbine;')\n",
"disp('W=h1-h2')\n",
"disp('initially at 4Mpa,300 degree celcius the steam is super heated so enthalpy from superheated steam or mollier diagram')\n",
"disp('h1=2886.2 KJ/kg,s1=6.2285 KJ/kg K')\n",
"h1=2886.2;\n",
"s1=6.2285;\n",
"disp('reversible adiabatic expansion process has entropy remaining constant.on mollier diagram the state 2 can be simply located at intersection of constant temperature line for 50 degree celcius and isentropic expansion line.')\n",
"disp('else from steam tables at 50 degree celcius saturation temperature;')\n",
"disp('hf=209.33 KJ/kg,sf=0.7038 KJ/kg K')\n",
"hf=209.33;\n",
"sf=0.7038;\n",
"disp('hfg=2382.7 KJ/kg,sfg=7.3725 KJ/kg K')\n",
"hfg=2382.7;\n",
"sfg=7.3725;\n",
"disp('here s1=s2,let dryness fraction at 2 be x2')\n",
"disp('x2=(s1-sf)/sfg')\n",
"x2=(s1-sf)/sfg\n",
"disp('hence enthalpy at state 2')\n",
"disp('h2=hf+x2*hfg in KJ/kg')\n",
"h2=hf+x2*hfg\n",
"disp('steam turbine work(W)in KJ/kg')\n",
"disp('W=h1-h2')\n",
"W=h1-h2\n",
"disp('so turbine output=W')\n",
"W"
   ]
   }
,
{
		   "cell_type": "markdown",
		   "metadata": {},
		   "source": [
			"## Example 6.14: Engineering_Thermodynamics_by_Onkar_Singh_Chapter_6_Example_14.sce"
		   ]
		  },
  {
"cell_type": "code",
	   "execution_count": null,
	   "metadata": {
	    "collapsed": true
	   },
	   "outputs": [],
"source": [
"// Display mode\n",
"mode(0);\n",
"// Display warning for floating point exception\n",
"ieee(1);\n",
"clear;\n",
"clc;\n",
"disp('Engineering Thermodynamics by Onkar Singh Chapter 6 Example 14')\n",
"x1=0.5;//dryness fraction \n",
"m1=100;//mass of steam in kg\n",
"v1=0.8475;//\n",
"disp('it is constant volume process')\n",
"disp('volume of vessel(V)=mass of vapour * specific volume of vapour')\n",
"disp('initial specific volume,v1')\n",
"disp('v1=vf_100Kpa+x1*vfg_100 in m^3/kg')\n",
"disp('at 100 Kpa from steam table;')\n",
"disp('hf_100Kpa=417.46 KJ/kg,uf_100Kpa=417.36 KJ/kg,vf_100Kpa=0.001043 m^3/kg,hfg_100Kpa=2258 KJ/kg,ufg_100Kpa=2088.7 KJ/kg,vg_100Kpa=1.6940 m^3/kg')\n",
"hf_100Kpa=417.46;\n",
"uf_100Kpa=417.36;\n",
"vf_100Kpa=0.001043;\n",
"hfg_100Kpa=2258;\n",
"ufg_100Kpa=2088.7;\n",
"vg_100Kpa=1.6940;\n",
"disp(' here vfg_100Kpa=vg_100Kpa-vf_100Kpa in m^3/kg')\n",
"vfg_100Kpa=vg_100Kpa-vf_100Kpa\n",
"disp('so v1=vf_100Kpa+x1*vfg_100Kpa in m^3/kg')\n",
"v1=vf_100Kpa+x1*vfg_100Kpa\n",
"disp('and volume of vessel(V)=m1*x1*v1 in m^3')\n",
"V=m1*x1*v1\n",
"disp('enthalpy at 1,h1=hf_100Kpa+x1*hfg_100Kpa in KJ/kg')\n",
"h1=hf_100Kpa+x1*hfg_100Kpa\n",
"disp('internal energy in the beginning=U1=m1*u1 in KJ')\n",
"U1=m1*(uf_100Kpa+x1*ufg_100Kpa)\n",
"disp('let the mass of dry steam added be m,final specific volume inside vessel,v2')\n",
"disp('v2=vf_1000Kpa+x2*vfg_1000Kpa')\n",
"disp('at 2000 Kpa,from steam table,')\n",
"disp('vg_2000Kpa=0.09963 m^3/kg,ug_2000Kpa=2600.3 KJ/kg,hg_2000Kpa=2799.5 KJ/kg')\n",
"vg_2000Kpa=0.09963;\n",
"ug_2000Kpa=2600.3;\n",
"hg_2000Kpa=2799.5;\n",
"disp('total mass inside vessel=mass of steam at2000 Kpa+mass of mixture at 100 Kpa')\n",
"disp('V/v2=V/vg_2000Kpa+V/v1')\n",
"disp('so v2=1/((1/vg_2000Kpa)+(1/v1))in m^3/kg')\n",
"v2=1/((1/vg_2000Kpa)+(1/v1))\n",
"disp('here v2=vf_1000Kpa+x2*vfg_1000Kpa in m^3/kg')\n",
"disp('at 1000 Kpa from steam table,')\n",
"disp('hf_1000Kpa=762.81 KJ/kg,hfg_1000Kpa=2015.3 KJ/kg,vf_1000Kpa=0.001127 m^3/kg,vg_1000Kpa=0.19444 m^3/kg')\n",
"hf_1000Kpa=762.81;\n",
"hfg_1000Kpa=2015.3;\n",
"vf_1000Kpa=0.001127;\n",
"vg_1000Kpa=0.19444;\n",
"disp('here vfg_1000Kpa=vg_1000Kpa-vf_1000Kpa in m^3/kg')\n",
"vfg_1000Kpa=vg_1000Kpa-vf_1000Kpa\n",
"disp('so x2=(v2-vf_1000Kpa)/vfg_1000Kpa')\n",
"x2=(v2-vf_1000Kpa)/vfg_1000Kpa\n",
"disp('for adiabatic mixing,(100+m)*h2=100*h1+m*hg_2000Kpa')\n",
"disp('so mass of dry steam at 2000 Kpa to be added(m)in kg')\n",
"disp('m=(100*(h1-h2))/(h2-hg_2000Kpa)')\n",
"m=(100*(h1-(hf_1000Kpa+x2*hfg_1000Kpa)))/((hf_1000Kpa+x2*hfg_1000Kpa)-hg_2000Kpa)\n",
"disp('quality of final mixture=x2')\n",
"x2\n",
"\n",
"\n",
"\n",
"\n",
"\n",
"\n",
"\n",
""
   ]
   }
,
{
		   "cell_type": "markdown",
		   "metadata": {},
		   "source": [
			"## Example 6.15: Engineering_Thermodynamics_by_Onkar_Singh_Chapter_6_Example_15.sce"
		   ]
		  },
  {
"cell_type": "code",
	   "execution_count": null,
	   "metadata": {
	    "collapsed": true
	   },
	   "outputs": [],
"source": [
"// Display mode\n",
"mode(0);\n",
"// Display warning for floating point exception\n",
"ieee(1);\n",
"clear;\n",
"clc;\n",
"disp('Engineering Thermodynamics by Onkar Singh Chapter 6 Example 15')\n",
"p_vaccum=71.5;//recorded condenser vaccum in cm of mercury\n",
"p_barometer=76.8;//barometer reading in cm of mercury\n",
"T_cond=35;//temperature of condensation in degree celcius\n",
"T_hotwell=27.6;//temperature of hot well in degree celcius\n",
"m_cond=1930;//mass of condensate per hour\n",
"m_w=62000;//mass of cooling water per hour\n",
"Ti=8.51;//initial temperature in degree celcius\n",
"To=26.24;//outlet temperature in degree celcius\n",
"disp('from dalton law of partial pressure the total pressure inside condenser will be sum of partial pressures of vapour and liquid inside.')\n",
"disp('condenser pressure(p_condenser)=(p_barometer-p_vaccum)*101.325/73.55 in Kpa')\n",
"p_condenser=(p_barometer-p_vaccum)*101.325/73.55\n",
"disp('partial pressure of steam corresponding to35 degree celcius from steam table;')\n",
"disp('p_steam=5.628 Kpa')\n",
"p_steam=5.628;//partial pressure of steam\n",
"disp('enthalpy corresponding to 35 degree celcius from steam table,')\n",
"disp('hf=146.68 KJ/kg,hfg=2418.6 KJ/kg')\n",
"hf=146.68;\n",
"hfg=2418.6;\n",
"disp('let quality of steam entering be x')\n",
"disp('from energy balance;')\n",
"disp('mw*(To-Ti)*4.18=m_cond*(hf+x*hfg-4.18*T_hotwell)')\n",
"disp('so dryness fraction of steam entering(x)is given as')\n",
"disp('x=(((m_w*(To-Ti)*4.18)/m_cond)-hf+4.18*T_hotwell)/hfg')\n",
"x=(((m_w*(To-Ti)*4.18)/m_cond)-hf+4.18*T_hotwell)/hfg"
   ]
   }
,
{
		   "cell_type": "markdown",
		   "metadata": {},
		   "source": [
			"## Example 6.16: Engineering_Thermodynamics_by_Onkar_Singh_Chapter_6_Example_16.sce"
		   ]
		  },
  {
"cell_type": "code",
	   "execution_count": null,
	   "metadata": {
	    "collapsed": true
	   },
	   "outputs": [],
"source": [
"// Display mode\n",
"mode(0);\n",
"// Display warning for floating point exception\n",
"ieee(1);\n",
"clear;\n",
"clc;\n",
"disp('Engineering Thermodynamics by Onkar Singh Chapter 6 Example 16')\n",
"F=10;//force applied externally upon piston in KN\n",
"d=.2;//diameter in m\n",
"h=0.02;//depth to which water filled in m \n",
"P_atm=101.3;//atmospheric pressure in Kpa\n",
"rho=1000;//density of water in kg/m^3\n",
"Q=600;//heat supplied to water in KJ\n",
"T=150;//temperature of water in degree celcius\n",
"disp('heating of water in vessel as described above is a constant pressure heating. pressure at which process occurs(p)=F/A+P_atm in Kpa')\n",
"disp('area(A)=%pi*d^2/4 in m^2')\n",
"A=%pi*d^2/4\n",
"disp('so p1=F/A+P_atm in Kpa')\n",
"p1=F/A+P_atm\n",
"disp('now at 419.61 Kpa,hf=612.1 KJ/kg,hfg=2128.7 KJ/kg,vg=0.4435 m^3/kg')\n",
"hf=612.1;\n",
"hfg=2128.7;\n",
"vg=0.4435;\n",
"disp('volume of water contained(V1)=%pi*d^2*h/4 in m^3')\n",
"V1=%pi*d^2*h/4\n",
"disp('mass of water(m)=V1*rho in kg')\n",
"m=V1*rho\n",
"disp('heat supplied shall cause sensible heating and latent heating')\n",
"disp('hence,enthalpy change=heat supplied')\n",
"disp('Q=((hf+x*hfg)-(4.18*T)*m)')\n",
"disp('so dryness fraction of steam produced(x)can be calculated as')\n",
"disp('so x=((Q/m)+4.18*T-hf)/hfg')\n",
"x=((Q/m)+4.18*T-hf)/hfg\n",
"disp('internal energy of water(U1)in KJ,initially')\n",
"h1=4.18*T;//enthalpy of water in KJ/kg\n",
"disp('U1=m*h1-p1*V1')\n",
"U1=m*h1-p1*V1\n",
"U1=393.5;//approx.\n",
"disp('finally,internal energy of wet steam(U2)in KJ')\n",
"disp('U2=m*h2-p2*V2')\n",
"disp('here V2=m*x*vg in m^3')\n",
"V2=m*x*vg\n",
"disp('hence U2=(m*h2)-p2*V2')\n",
"p2=p1;//constant pressure process\n",
"U2=(m*(hf+x*hfg))-p2*V2\n",
"U2=940.71;//approx.\n",
"disp('hence change in internal energy(U)=U2-U1 in KJ')\n",
"U=U2-U1\n",
"disp('work done(W)=p*(V2-V1)in KJ')\n",
"p=p1;\n",
"W=p*(V2-V1)\n",
"\n",
"\n",
"\n",
"\n",
"\n",
"\n",
"\n",
"\n",
"\n",
"\n",
"\n",
"\n",
"\n",
"\n",
"\n",
"\n",
"\n",
"\n",
"\n",
"\n",
"\n",
"\n",
"\n",
"\n",
""
   ]
   }
,
{
		   "cell_type": "markdown",
		   "metadata": {},
		   "source": [
			"## Example 6.17: Engineering_Thermodynamics_by_Onkar_Singh_Chapter_6_Example_17.sce"
		   ]
		  },
  {
"cell_type": "code",
	   "execution_count": null,
	   "metadata": {
	    "collapsed": true
	   },
	   "outputs": [],
"source": [
"// Display mode\n",
"mode(0);\n",
"// Display warning for floating point exception\n",
"ieee(1);\n",
"clear;\n",
"clc;\n",
"disp('Engineering Thermodynamics by Onkar Singh Chapter 6 Example 17')\n",
"ms=40;//mass of steam in kg\n",
"mw=2.2;//mass of water in kg\n",
"p1=1.47;//pressure before throttling in Mpa\n",
"T2=120;//temperature after throttling in degree celcius\n",
"p2=107.88;//pressure after throttling in Kpa\n",
"Cp_sup=2.09;//specific heat of superheated steam in KJ/kg K\n",
"disp('consider throttling calorimeter alone,')\n",
"disp('degree of superheat(T_sup)in degree celcius')\n",
"disp('T_sup=T2-101.8')\n",
"T_sup=T2-101.8\n",
"disp('enthalpy of superheated steam(h_sup)in KJ/kg')\n",
"disp('h_sup=h+T_sup*Cp_sup')\n",
"disp('at 120 degree celcius,h=2673.95 KJ/kg from steam table')\n",
"h=2673.95;\n",
"h_sup=h+T_sup*Cp_sup\n",
"disp('now enthalpy before throttling = enthalpy after throttling')\n",
"disp('hf+x2*hfg=h_sup')\n",
"disp('here at 1.47 Mpa,hf=840.513 KJ/kg,hfg=1951.02 KJ/kg from steam table')\n",
"hf=840.513;\n",
"hfg=1951.02;\n",
"disp('so x2=(h_sup-hf)/hfg')\n",
"x2=(h_sup-hf)/hfg\n",
"disp('for seperating calorimeter alone,dryness fraction,x1=(ms-mw)/ms')\n",
"x1=(ms-mw)/ms\n",
"disp('overall dryness fraction(x)=(x1*x2)')\n",
"x=x1*x2"
   ]
   }
,
{
		   "cell_type": "markdown",
		   "metadata": {},
		   "source": [
			"## Example 6.18: Engineering_Thermodynamics_by_Onkar_Singh_Chapter_6_Example_18.sce"
		   ]
		  },
  {
"cell_type": "code",
	   "execution_count": null,
	   "metadata": {
	    "collapsed": true
	   },
	   "outputs": [],
"source": [
"// Display mode\n",
"mode(0);\n",
"// Display warning for floating point exception\n",
"ieee(1);\n",
"clear;\n",
"clc;\n",
"disp('Engineering Thermodynamics by Onkar Singh Chapter 6 Example 18')\n",
"v=0.4;//volume of air in part A and part B in m^3\n",
"p1=10*10^5;//initial pressure of steam in pa\n",
"p2=15*10^5;//final pressure of steam in pa\n",
"disp('here heat addition to part B shall cause evaporation of water and subsequently the rise in pressure.')\n",
"disp('final,part B has dry steam at 15 bar.In order to have equilibrium the part A shall also have pressure of 15 bar.thus heat added')\n",
"disp('Q=v*(p2-p1)/1000in KJ')\n",
"Q=v*(p2-p1)/1000\n",
"disp('final enthalpy of dry steam at 15 bar,h2=hg_15bar')\n",
"disp('h2=2792.2 KJ/kg from steam table')\n",
"h2=2792.2;\n",
"disp('let initial dryness fraction be x1,initial enthalpy,')\n",
"disp('h1=hf_10bar+x1*hfg_10bar.........eq1')\n",
"disp('here at 10 bar,hf_10bar=762.83 KJ/kg,hfg_10bar=2015.3 KJ/kg from steam table')\n",
"hf_10bar=762.83;\n",
"hfg_10bar=2015.3;\n",
"disp('also heat balance yields,')\n",
"disp('h1+Q=h2')\n",
"disp('so h1=h2-Q in KJ/kg')\n",
"h1=h2-Q\n",
"disp('so by eq 1=>x1=(h1-hf_10bar)/hfg_10bar')\n",
"x1=(h1-hf_10bar)/hfg_10bar\n",
"disp('heat added(Q)in KJ')\n",
"Q\n",
"disp('and initial quality(x1)')\n",
"x1"
   ]
   }
,
{
		   "cell_type": "markdown",
		   "metadata": {},
		   "source": [
			"## Example 6.19: Engineering_Thermodynamics_by_Onkar_Singh_Chapter_6_Example_19.sce"
		   ]
		  },
  {
"cell_type": "code",
	   "execution_count": null,
	   "metadata": {
	    "collapsed": true
	   },
	   "outputs": [],
"source": [
"// Display mode\n",
"mode(0);\n",
"// Display warning for floating point exception\n",
"ieee(1);\n",
"clear;\n",
"clc;\n",
"disp('Engineering Thermodynamics by Onkar Singh Chapter 6 Example 19')\n",
"m=3;//mass of wet steam in kg\n",
"p=1.4;//pressure of wet steam in bar\n",
"V1=2.25;//initial volume in m^3\n",
"V2=4.65;//final volume in m^3\n",
"T=400;//temperature of steam in degreee celcius\n",
"disp('from steam table,vg=1.2455 m^3/kg,hf=457.99 KJ/kg,hfg=2232.3 KJ/kg')\n",
"vg=1.2455;\n",
"hf=457.99;\n",
"hfg=2232.3;\n",
"disp('specific volume of wet steam in cylinder,v1=V1/m in m^3/kg')\n",
"v1=V1/m\n",
"disp('dryness fraction of initial steam(x1)=v1/vg')\n",
"x1=v1/vg\n",
"x1=0.602;//approx.\n",
"disp('initial enthalpy of wet steam,h1=hf+x1*hfg in KJ/kg')\n",
"h1=hf+x1*hfg\n",
"disp('at 400 degree celcius specific volume of steam,v2=V2/m in m^3/kg')\n",
"v2=V2/m\n",
"disp('for specific volume of 1.55 m^3/kg at 400 degree celcius the pressure can be seen from the steam table.From superheated steam tables the specific volume of 1.55 m^3/kg lies between the pressure of 0.10 Mpa (specific volume 3.103 m^3/kg at400 degree celcius)and 0.20 Mpa(specific volume 1.5493 m^3/kg at 400 degree celcius)')\n",
"disp('actual pressure can be obtained by interpolation')\n",
"p2=.1+((0.20-0.10)/(1.5493-3.103))*(1.55-3.103)\n",
"disp('p2=0.20 MPa(approx.)')\n",
"p2=0.20;\n",
"disp('saturation temperature at 0.20 Mpa(t)=120.23 degree celcius from steam table')\n",
"t=120.23;\n",
"disp('finally the degree of superheat(T_sup)in K')\n",
"disp('T_sup=T-t')\n",
"T_sup=T-t\n",
"disp('final enthalpy of steam at 0.20 Mpa and 400 degree celcius,h2=3276.6 KJ/kg from steam table')\n",
"h2=3276.6;\n",
"disp('heat added during process(deltaQ)in KJ')\n",
"disp('deltaQ=m*(h2-h1)')\n",
"deltaQ=m*(h2-h1)\n",
"disp('internal energy of initial wet steam,u1=uf+x1*ufg in KJ/kg')\n",
"disp('here at 1.4 bar,from steam table,uf=457.84 KJ/kg,ufg=2059.34 KJ/kg')\n",
"uf=457.84;\n",
"ufg=2059.34;\n",
"u1=uf+x1*ufg\n",
"disp('internal energy of final state,u2=u at 0.2 Mpa,400 degree celcius')\n",
"disp('u2=2966.7 KJ/kg')\n",
"u2=2966.7;\n",
"disp('change in internal energy(deltaU)in KJ')\n",
"disp('deltaU=m*(u2-u1)')\n",
"deltaU=m*(u2-u1)\n",
"disp('form first law of thermodynamics,work done(deltaW)in KJ')\n",
"disp('deltaW=deltaQ-deltaU')\n",
"deltaW=deltaQ-deltaU\n",
"disp('so heat transfer(deltaQ)in KJ')\n",
"deltaQ\n",
"disp('and work transfer(deltaW)in KJ')\n",
"deltaW\n",
"disp('NOTE=>In book value of u1=1707.86 KJ/kg is calculated wrong taking x1=0.607,hence correct value of u1 using x1=0.602 is 1697.5627 KJ/kg')\n",
"disp('and corresponding values of heat transfer= 4424.2962 KJ and work transfer=616.88424 KJ.')\n",
"\n",
"\n",
"\n",
"\n",
"\n",
"\n",
"\n",
"\n",
"\n",
"\n",
"\n",
"\n",
"\n",
"\n",
"\n",
"\n",
"\n",
"\n",
"\n",
"\n",
"\n",
""
   ]
   }
,
{
		   "cell_type": "markdown",
		   "metadata": {},
		   "source": [
			"## Example 6.1: Engineering_Thermodynamics_by_Onkar_Singh_Chapter_6_Example_1.sce"
		   ]
		  },
  {
"cell_type": "code",
	   "execution_count": null,
	   "metadata": {
	    "collapsed": true
	   },
	   "outputs": [],
"source": [
"// Display mode\n",
"mode(0);\n",
"// Display warning for floating point exception\n",
"ieee(1);\n",
"clear;\n",
"clc;\n",
"disp('Engineering Thermodynamics by Onkar Singh Chapter 6 Example 1')\n",
"disp('NOTE=>In question no. 1 expression for various quantities is derived which cannot be solve using scilab software.')"
   ]
   }
,
{
		   "cell_type": "markdown",
		   "metadata": {},
		   "source": [
			"## Example 6.20: Engineering_Thermodynamics_by_Onkar_Singh_Chapter_6_Example_20.sce"
		   ]
		  },
  {
"cell_type": "code",
	   "execution_count": null,
	   "metadata": {
	    "collapsed": true
	   },
	   "outputs": [],
"source": [
"// Display mode\n",
"mode(0);\n",
"// Display warning for floating point exception\n",
"ieee(1);\n",
"clear;\n",
"clc;\n",
"disp('Engineering Thermodynamics by Onkar Singh Chapter 6 Example 20')\n",
"disp('here throttling process is occuring therefore enthalpy before and after expansion remains same.Let initial and final states be given by 1 and 2.Initial enthalpy,from steam table.')\n",
"disp('at 500 degree celcius,h1_10bar_500oc=3478.5 KJ/kg,s1_10bar_500oc=7.7622 KJ/kg K,v1_10bar_500oc=0.3541 m^3/kg')\n",
"h1_10bar_500oc=3478.5;\n",
"s1_10bar_500oc=7.7622;\n",
"v1_10bar_500oc=0.3541;\n",
"disp('finally pressure becomes 1 bar so finally enthalpy(h2) at this pressure(of 1 bar)is also 3478.5 KJ/kg which lies between superheat temperature of 400 degree celcius and 500 degree celcius at 1 bar.Let temperature be T2,')\n",
"h2=h1_10bar_500oc;\n",
"disp('h_1bar_400oc=3278.2 KJ/kg,h_1bar_500oc=3488.1 KJ/kg from steam table')\n",
"h_1bar_400oc=3278.2;\n",
"h_1bar_500oc=3488.1;\n",
"disp('h2=h_1bar_400oc+(h_1bar_500oc-h_1bar_400oc)*(T2-400)/(500-400)')\n",
"disp('so final temperature(T2)in K')\n",
"disp('T2=400+((h2-h_1bar_400oc)*(500-400)/(h_1bar_500oc-h_1bar_400oc))')\n",
"T2=400+((h2-h_1bar_400oc)*(500-400)/(h_1bar_500oc-h_1bar_400oc))\n",
"disp('entropy for final state(s2)in KJ/kg K')\n",
"disp('s2=(s_1bar_400oc+((s_1bar_500oc-s_1bar_400oc)*(495.43-400)/(500-400)))')\n",
"disp('here from steam table,s_1bar_400oc=8.5435 KJ/kg K,s_1bar_500oc=8.8342 KJ/kg K')\n",
"s_1bar_400oc=8.5435;\n",
"s_1bar_500oc=8.8342;\n",
"s2=s_1bar_400oc+((s_1bar_500oc-s_1bar_400oc)*(495.43-400)/(500-400))\n",
"disp('so change in entropy(deltaS)in KJ/kg K')\n",
"disp('deltaS=s2-s1_10bar_500oc')\n",
"deltaS=s2-s1_10bar_500oc\n",
"disp('final specific volume,v2=v_1bar_400oc+((v_1bar_500oc-v_1bar_400oc)*(95.43)/(500-400)) in m^3/kg')\n",
"disp('here from steam table,v_1bar_500oc=3.565 m^3/kg,v_1bar_400oc=3.103 m^3/kg')\n",
"v_1bar_500oc=3.565;\n",
"v_1bar_400oc=3.103;\n",
"v2=v_1bar_400oc+((v_1bar_500oc-v_1bar_400oc)*(95.43)/(500-400))\n",
"disp('percentage of vessel volume initially occupied by steam=v1_1bar_500oc*100/v2')\n",
"v1_10bar_500oc*100/v2"
   ]
   }
,
{
		   "cell_type": "markdown",
		   "metadata": {},
		   "source": [
			"## Example 6.2: Engineering_Thermodynamics_by_Onkar_Singh_Chapter_6_Example_2.sce"
		   ]
		  },
  {
"cell_type": "code",
	   "execution_count": null,
	   "metadata": {
	    "collapsed": true
	   },
	   "outputs": [],
"source": [
"// Display mode\n",
"mode(0);\n",
"// Display warning for floating point exception\n",
"ieee(1);\n",
"clear;\n",
"clc;\n",
"\n",
"disp('Engineering Thermodynamics by Onkar Singh Chapter 6 Example 2')\n",
"disp('during throttling,h1=h2')\n",
"disp('at state 2,enthalpy can be seen for superheated steam using Table 4 at 0.05 Mpa and 100 degree celcius')\n",
"disp('thus h2=2682.5 KJ/kg')\n",
"h2=2682.5;\n",
"disp('at state 1,before throttling')\n",
"disp('hf_10Mpa=1407.56 KJ/kg')\n",
"hf_10Mpa=1407.56;\n",
"disp('hfg_10Mpa=1317.1 KJ/kg')\n",
"hfg_10Mpa=1317.1;\n",
"disp('h1=hf_10Mpa+x1*hfg_10Mpa')\n",
"h1=h2;//during throttling\n",
"disp('dryness fraction(x1)may be given as')\n",
"disp('x1=(h1-hf_10Mpa)/hfg_10Mpa')\n",
"x1=(h1-hf_10Mpa)/hfg_10Mpa\n",
"\n",
""
   ]
   }
,
{
		   "cell_type": "markdown",
		   "metadata": {},
		   "source": [
			"## Example 6.3: Engineering_Thermodynamics_by_Onkar_Singh_Chapter_6_Example_3.sce"
		   ]
		  },
  {
"cell_type": "code",
	   "execution_count": null,
	   "metadata": {
	    "collapsed": true
	   },
	   "outputs": [],
"source": [
"// Display mode\n",
"mode(0);\n",
"// Display warning for floating point exception\n",
"ieee(1);\n",
"clear;\n",
"clc;\n",
"\n",
"disp('Engineering Thermodynamics by Onkar Singh Chapter 6 Example 3')\n",
"h=2848;//enthalpy in KJ/kg\n",
"p=12*1000;//pressure in Kpa\n",
"v=0.017;//specific volume in m^3/kg\n",
"disp('internal energy(u)=h-p*v in KJ/kg')\n",
"u=h-p*v"
   ]
   }
,
{
		   "cell_type": "markdown",
		   "metadata": {},
		   "source": [
			"## Example 6.4: Engineering_Thermodynamics_by_Onkar_Singh_Chapter_6_Example_4.sce"
		   ]
		  },
  {
"cell_type": "code",
	   "execution_count": null,
	   "metadata": {
	    "collapsed": true
	   },
	   "outputs": [],
"source": [
"// Display mode\n",
"mode(0);\n",
"// Display warning for floating point exception\n",
"ieee(1);\n",
"clear;\n",
"clc;\n",
"\n",
"disp('Engineering Thermodynamics by Onkar Singh Chapter 6 Example 4')\n",
"m=5;//mass of steam in kg\n",
"p=2;//pressure of steam in Mpa\n",
"T_superheat=(300+273.15);//temperature of superheat steam in K\n",
"Cp_water=4.18;//specific heat of water at constant pressure in KJ/kg K\n",
"Cp_superheat=2.1;//specific heat of superheat steam at constant pressure in KJ/kg K\n",
"disp('steam state 2 Mpa and 300 degree celcius lies in superheated region as saturation temperature at 2 Mpa is 212.42 degree celcius and hfg=1890.7 KJ/kg')\n",
"T_sat=(212.42+273.15);//saturation temperature at 2 Mpa in K\n",
"hfg_2Mpa=1890.7;\n",
"disp('entropy of unit mass of superheated steam with reference to absolute zero(S)in KJ/kg K')\n",
"disp('S=Cp_water*log(T_sat/273.15)+(hfg_2Mpa/T_sat)+(Cp_superheat*log(T_superheat/T_sat))')\n",
"S=Cp_water*log(T_sat/273.15)+(hfg_2Mpa/T_sat)+(Cp_superheat*log(T_superheat/T_sat))\n",
"disp('entropy of 5 kg of steam(S)in KJ/K')\n",
"disp('S=m*S')\n",
"S=m*S"
   ]
   }
,
{
		   "cell_type": "markdown",
		   "metadata": {},
		   "source": [
			"## Example 6.5: Engineering_Thermodynamics_by_Onkar_Singh_Chapter_6_Example_5.sce"
		   ]
		  },
  {
"cell_type": "code",
	   "execution_count": null,
	   "metadata": {
	    "collapsed": true
	   },
	   "outputs": [],
"source": [
"// Display mode\n",
"mode(0);\n",
"// Display warning for floating point exception\n",
"ieee(1);\n",
"clear;\n",
"clc;\n",
"disp('Engineering Thermodynamics by Onkar Singh Chapter 6 Example 5')\n",
"rho=1000;//density of water in kg/m^3\n",
"g=9.81;//acceleration due to gravity in m/s^2\n",
"h=0.50;//depth from above mentioned level in m\n",
"disp('boiling point =110 degree celcius,pressure at which it boils=143.27 Kpa(from steam table,sat. pressure for 110 degree celcius)')\n",
"p_boil=143.27;//pressure at which pond water boils in Kpa\n",
"disp('at further depth of 50 cm the pressure(p)in Kpa')\n",
"disp('p=p_boil-((rho*g*h)*10^-3)')\n",
"p=p_boil-((rho*g*h)*10^-3)\n",
"disp('boiling point at this depth=Tsat_138.365')\n",
"disp('from steam table this temperature=108.866=108.87 degree celcius')\n",
"disp('so boiling point = 108.87 degree celcius')"
   ]
   }
,
{
		   "cell_type": "markdown",
		   "metadata": {},
		   "source": [
			"## Example 6.6: Engineering_Thermodynamics_by_Onkar_Singh_Chapter_6_Example_6.sce"
		   ]
		  },
  {
"cell_type": "code",
	   "execution_count": null,
	   "metadata": {
	    "collapsed": true
	   },
	   "outputs": [],
"source": [
"// Display mode\n",
"mode(0);\n",
"// Display warning for floating point exception\n",
"ieee(1);\n",
"clear;\n",
"clc;\n",
"disp('Engineering Thermodynamics by Onkar Singh Chapter 6 Example 6')\n",
"V=0.5;//capacity of rigid vessel in m^3\n",
"disp('in a rigid vessel it can be treated as constant volume process.')\n",
"disp('so v1=v2')\n",
"disp('since final state is given to be critical state,then specific volume at critical point,')\n",
"disp('v2=0.003155 m^3/kg')\n",
"v2=0.003155;//specific volume at critical point in m^3/kg\n",
"disp('at 100 degree celcius saturation temperature,from steam table')\n",
"disp('vf_100=0.001044 m^3/kg,vg_100=1.6729 m^3/kg')\n",
"vf_100=0.001044;\n",
"vg_100=1.6729;\n",
"disp('and vfg_100=vg_100-vf_100 in m^3/kg')\n",
" vfg_100=vg_100-vf_100\n",
"disp('thus for initial quality being x1')\n",
"disp('v1=vf_100+x1*vfg_100')\n",
"disp('so x1=(v1-vf_100)/vfg_100')\n",
"v1=v2;//rigid vessel\n",
"x1=(v1-vf_100)/vfg_100\n",
"disp('mass of water initially=total mass*(1-x1)')\n",
"disp('total mass of fluid/water(m)=V/v2 in kg')\n",
"m=V/v2\n",
"disp('volume of water(v)=m*vf_100 in m^3')\n",
"v=m*vf_100"
   ]
   }
,
{
		   "cell_type": "markdown",
		   "metadata": {},
		   "source": [
			"## Example 6.7: Engineering_Thermodynamics_by_Onkar_Singh_Chapter_6_Example_7.sce"
		   ]
		  },
  {
"cell_type": "code",
	   "execution_count": null,
	   "metadata": {
	    "collapsed": true
	   },
	   "outputs": [],
"source": [
"// Display mode\n",
"mode(0);\n",
"// Display warning for floating point exception\n",
"ieee(1);\n",
"clear;\n",
"clc;\n",
"disp('Engineering Thermodynamics by Onkar Singh Chapter 6 Example 7')\n",
"disp('on mollier diadram(h-s diagram)the slope of isobaric line may be given as')\n",
"disp('(dh/ds)_p=cons =slope of isobar')\n",
"disp('from 1st and 2nd law combined;')\n",
"disp('T*ds=dh-v*dp')\n",
"disp('(dh/ds)_p=cons = T')\n",
"disp('here temperature,T=773.15 K')\n",
"disp('here slope=(dh/ds))p=cons = 773.15')"
   ]
   }
,
{
		   "cell_type": "markdown",
		   "metadata": {},
		   "source": [
			"## Example 6.8: Engineering_Thermodynamics_by_Onkar_Singh_Chapter_6_Example_8.sce"
		   ]
		  },
  {
"cell_type": "code",
	   "execution_count": null,
	   "metadata": {
	    "collapsed": true
	   },
	   "outputs": [],
"source": [
"// Display mode\n",
"mode(0);\n",
"// Display warning for floating point exception\n",
"ieee(1);\n",
"clear;\n",
"clc;\n",
"disp('Engineering Thermodynamics by Onkar Singh Chapter 6 Example 8')\n",
"x=.10;//quality is 10%\n",
"disp('at 0.15Mpa,from steam table;')\n",
"disp('hf=467.11 KJ/kg,hg=2693.6 KJ/kg')\n",
"hf=467.11;\n",
"hg=2693.6;\n",
"disp('and hfg=hg-hf in KJ/kg')\n",
"hfg=hg-hf\n",
"disp('vf=0.001053 m^3/kg,vg=1.1593 m^3/kg')\n",
"vf=0.001053;\n",
"vg=1.1593;\n",
"disp('and vfg=vg-vf in m^3/kg')\n",
"vfg=vg-vf\n",
"disp('sf=1.4336 KJ/kg,sg=7.2233 KJ/kg')\n",
"sf=1.4336;\n",
"sg=7.2233;\n",
"disp('and sfg=sg-sf in KJ/kg K')\n",
"sfg=sg-sf\n",
"disp('enthalpy at x=.10(h)in KJ/kg')\n",
"disp('h=hf+x*hfg')\n",
"h=hf+x*hfg\n",
"disp('specific volume,(v)in m^3/kg')\n",
"disp('v=vf+x*vfg')\n",
"v=vf+x*vfg\n",
"disp('entropy (s)in KJ/kg K')\n",
"disp('s=sf+x*sfg')\n",
"s=sf+x*sfg"
   ]
   }
,
{
		   "cell_type": "markdown",
		   "metadata": {},
		   "source": [
			"## Example 6.9: Engineering_Thermodynamics_by_Onkar_Singh_Chapter_6_Example_9.sce"
		   ]
		  },
  {
"cell_type": "code",
	   "execution_count": null,
	   "metadata": {
	    "collapsed": true
	   },
	   "outputs": [],
"source": [
"// Display mode\n",
"mode(0);\n",
"// Display warning for floating point exception\n",
"ieee(1);\n",
"clear;\n",
"clc;\n",
"disp('Engineering Thermodynamics by Onkar Singh Chapter 6 Example 9')\n",
"p1=1*1000;//initial pressure of steam in Kpa\n",
"V1=0.05;//initial volume of steam in m^3\n",
"x1=.8;//dryness fraction is 80%\n",
"V2=0.2;//final volume of steam in m^3\n",
"p2=p1;//constant pressure process\n",
"disp('work done during constant pressure process(W)=p1*(V2-V1)in KJ')\n",
"W=p1*(V2-V1)\n",
"disp('now from steam table at p1,vf=0.001127 m^3/kg,vg=0.19444 m^3/kg,uf=761.68 KJ/kg,ufg=1822 KJ/kg')\n",
"vf=0.001127;\n",
"vg=0.19444;\n",
"uf=761.68;\n",
"ufg=1822;\n",
"disp('so v1=vf+x1*vg in m^3/kg')\n",
"v1=vf+x1*vg\n",
"disp('now mass of steam(m)=V1/v1 in kg')\n",
"m=V1/v1\n",
"m=0.32097;//take m=0.32097 approx.\n",
"disp('specific volume at final state(v2)in m^3/kg')\n",
"disp('v2=V2/m')\n",
"v2=V2/m\n",
"disp('corresponding to this specific volume the final state is to be located for getting the internal energy at final state at 1 Mpa')\n",
"disp('v2>vg_1Mpa')\n",
"disp('hence state lies in superheated region,from the steam table by interpolation we get temperature as;')\n",
"disp('state lies between temperature of 1000 degree celcius and 1100 degree celcius')\n",
"disp('so exact temperature at final state(T)in K')\n",
"T=1000+((100*(.62311-.5871))/(.6335-.5871))\n",
"disp('thus internal energy at final state,1 Mpa,1077.61 degree celcius;')\n",
"disp('u2=4209.6 KJ/kg')\n",
"u2=4209.6;\n",
"disp('internal energy at initial state(u1)in KJ/kg')\n",
"disp('u1=uf+x1*ufg')\n",
"u1=uf+x1*ufg\n",
"disp('from first law of thermodynamics,Q-W=deltaU')\n",
"disp('so heat added(Q)=(U2-U1)+W=m*(u2-u1)+W in KJ')\n",
"Q=m*(u2-u1)+W\n",
"\n",
"\n",
"\n",
"\n",
"\n",
"\n",
"\n",
"\n",
"\n",
"\n",
""
   ]
   }
],
"metadata": {
		  "kernelspec": {
		   "display_name": "Scilab",
		   "language": "scilab",
		   "name": "scilab"
		  },
		  "language_info": {
		   "file_extension": ".sce",
		   "help_links": [
			{
			 "text": "MetaKernel Magics",
			 "url": "https://github.com/calysto/metakernel/blob/master/metakernel/magics/README.md"
			}
		   ],
		   "mimetype": "text/x-octave",
		   "name": "scilab",
		   "version": "0.7.1"
		  }
		 },
		 "nbformat": 4,
		 "nbformat_minor": 0
}
