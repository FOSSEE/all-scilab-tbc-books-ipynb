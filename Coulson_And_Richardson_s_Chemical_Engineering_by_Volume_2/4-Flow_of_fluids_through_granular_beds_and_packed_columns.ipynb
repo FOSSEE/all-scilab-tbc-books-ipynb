{
"cells": [
 {
		   "cell_type": "markdown",
	   "metadata": {},
	   "source": [
       "# Chapter 4: Flow of fluids through granular beds and packed columns"
	   ]
	},
{
		   "cell_type": "markdown",
		   "metadata": {},
		   "source": [
			"## Example 4.1: pressure_calculatio.sci"
		   ]
		  },
  {
"cell_type": "code",
	   "execution_count": null,
	   "metadata": {
	    "collapsed": true
	   },
	   "outputs": [],
"source": [
"clear;\n",
"clc;\n",
"printf('\n Example 4.1');\n",
"//Calculating modified reynold's no.\n",
"a = 800;                //it is in m^2/m^3\n",
"Product_rate = 0.5;     //it is in g/sec\n",
"Reflux_ratio = 8;       \n",
"Vapour_rate  = 4.5;     //it is in g/sec\n",
"G = (4.5*10^(-3))/((%pi/4)*(0.1^2));// units are in kg/m^2.sec\n",
"meu = 0.02*10^(-3);               //units are in Ns/m^2\n",
"e = 0.72; \n",
"\n",
"Re1 = G/(800*0.28*0.02*10^(-3));\n",
"printf('\n The modified reynolds no. is %d',Re1);\n",
"\n",
"x = 4.17/Re1 + 0.29; //x = R1/(pu1^2)\n",
"printf('\n The value of R1/(pu1^2) is %f',x);\n",
"\n",
"l = 16*0.15;         //in meters\n",
"//Solving the integral integral of(pdP)from Pc toPs =(R1/pu^2)*S*(1-e)*G^2*l/e^3\n",
"\n",
"Pc = poly([0],'Pc');\n",
"y = roots(151.3-(4.73*10^(-5)*(8000^2-Pc^2)));\n",
"printf('\n The value of Pc is %dN/m^2',y(1));\n",
"\n",
"\n",
"\n",
"\n",
"\n",
"\n",
"\n",
"\n",
""
   ]
   }
],
"metadata": {
		  "kernelspec": {
		   "display_name": "Scilab",
		   "language": "scilab",
		   "name": "scilab"
		  },
		  "language_info": {
		   "file_extension": ".sce",
		   "help_links": [
			{
			 "text": "MetaKernel Magics",
			 "url": "https://github.com/calysto/metakernel/blob/master/metakernel/magics/README.md"
			}
		   ],
		   "mimetype": "text/x-octave",
		   "name": "scilab",
		   "version": "0.7.1"
		  }
		 },
		 "nbformat": 4,
		 "nbformat_minor": 0
}
