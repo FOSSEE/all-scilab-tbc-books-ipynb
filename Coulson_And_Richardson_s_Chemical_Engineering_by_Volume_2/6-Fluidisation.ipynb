{
"cells": [
 {
		   "cell_type": "markdown",
	   "metadata": {},
	   "source": [
       "# Chapter 6: Fluidisation"
	   ]
	},
{
		   "cell_type": "markdown",
		   "metadata": {},
		   "source": [
			"## Example 6.1: minimum_fluidising_velocity.sci"
		   ]
		  },
  {
"cell_type": "code",
	   "execution_count": null,
	   "metadata": {
	    "collapsed": true
	   },
	   "outputs": [],
"source": [
"clear;\n",
"clc;\n",
"printf('\n Example 6.1');\n",
"//Calculating minimum fluidisation velocity\n",
"\n",
"//Calculating Galileo number\n",
"function[Ga]=Galileo_number()\n",
"    d = 3*10^(-3);  //particle size is in meters\n",
"    p = 1100;       //density of liquid is in kg/m^3\n",
"    ps = 4200;      //density of spherical particles is in kg/m^3\n",
"    g = 9.81;       //acceleration due to gravity is in m/sec^2\n",
"    u = 3*10^(-3);  //viscosity is in Ns/m^2\n",
"    Ga = d^3*p*(ps-p)*g/u^2;\n",
"    funcprot(0);\n",
"endfunction\n",
"Ga = Galileo_number();\n",
"printf('\nGalileo number = %f*10^5',Ga*10^(-5));\n",
"\n",
"//Calculating Re mf\n",
"Remf = 25.7*(sqrt(1+5.53*10^(-5)*(1.003*10^5))-1);\n",
"printf('\nValue of Remf is %d',Remf);\n",
"\n",
"umf = Remf*(3*10^(-3))/(3*10^(-3)*1100);\n",
"printf('\nminimum fluidisation velocity is %.1f mm/sec',umf*1000);\n",
"\n",
"\n",
" "
   ]
   }
,
{
		   "cell_type": "markdown",
		   "metadata": {},
		   "source": [
			"## Example 6.2: fluidisation_and_transport_of_particles.sci"
		   ]
		  },
  {
"cell_type": "code",
	   "execution_count": null,
	   "metadata": {
	    "collapsed": true
	   },
	   "outputs": [],
"source": [
"clear;\n",
"clc;\n",
"printf('\n Example 6.2');\n",
"//Calculating voidage by considering eight closely packed spheres of diameter d in a cube of size 2d\n",
"printf('\n (a)');\n",
"function[e]=voidage()\n",
"    d = 1*10^(-4);    //diameter is in meters\n",
"    meu = 3*10^(-3);  //viscosity is in Ns/m^2\n",
"    ps = 2600;        //density is in kg/m^3\n",
"    p = 900;         //density is in kg/m^3\n",
"    e = [8*d^(3)-8*(%pi/6)*d^(3)]/(8*d^(3));\n",
"    funcprot(0);\n",
"endfunction\n",
"e = voidage();\n",
"printf('\nvoidage = %.2f',e);\n",
"\n",
"//Calculating minimum fluidisation mass flow rate\n",
"\n",
"function[Gmf]=min_fluidis_vel()\n",
"    e = voidage();\n",
"    d = 1*10^(-4);    //diameter is in meters\n",
"    meu = 3*10^(-3);  //viscosity is in Ns/m^2\n",
"    ps = 2600;        //density is in kg/m^3\n",
"    p = 900;         //density is in kg/m^3  \n",
"    g = 9.81;         //acceleration due to gravity is in m/sec^2\n",
"    Gmf = 0.0055*(e)^(3)/(1-e)*(d^2)*p*(ps-p)*g/meu;\n",
"    funcprot(0);\n",
"endfunction\n",
"Gmf = min_fluidis_vel();\n",
"printf('\nminimum fluidisation velocity is %.3f kg/m^2sec',Gmf);\n",
"\n",
"\n",
"printf('\n (b)');\n",
"function[u]=terminal_velocity()\n",
"    e = voidage();\n",
"    d = 1*10^(-4);    //diameter is in meters\n",
"    meu = 3*10^(-3);  //viscosity is in Ns/m^2\n",
"    ps = 2600;        //density is in kg/m^3\n",
"    p = 900;         //density is in kg/m^3  \n",
"    g = 9.81;         //acceleration due to gravity is in m/sec^2\n",
"    u = d^(2)*g*(ps-p)/(18*meu);\n",
"    funcprot(0);\n",
"endfunction\n",
"printf('\nterminal velocity is %.4fm/sec',terminal_velocity());\n",
"\n",
"//Reynolds no for this Terminal velocity is\n",
"Re = (10^(-4)*0.0031*900)/(3*10^(-3));\n",
"printf('\nReynlds no =%.3f',Re);\n",
"printf('\nThe required mass flow rate is %.2f kg/m^2sec',terminal_velocity()*900);\n",
"\n",
"    \n",
"\n",
"    \n",
"    \n",
"    \n",
"    \n",
"    \n",
"    \n",
"    \n",
"    \n",
"    \n",
"    \n",
"    \n",
"    \n",
"     \n",
" "
   ]
   }
,
{
		   "cell_type": "markdown",
		   "metadata": {},
		   "source": [
			"## Example 6.3: Voidage_of_the_bed.sci"
		   ]
		  },
  {
"cell_type": "code",
	   "execution_count": null,
	   "metadata": {
	    "collapsed": true
	   },
	   "outputs": [],
"source": [
"// to calculate voidage of the bed\n",
"clear;\n",
"clc;\n",
"printf('\n Example 6.3');\n",
"function[Ga]=Galileo_number()\n",
"    d = 4*10^(-3);  //particle size is in meters\n",
"    p = 1000;       //density of water is in kg/m^3\n",
"    ps = 2500;      //density of glass is in kg/m^3\n",
"    g = 9.81;       //acceleration due to gravity is in m/sec^2\n",
"    u = 1*10^(-3);  //viscosity is in Ns/m^2\n",
"    Ga = d^3*p*(ps-p)*g/u^2;\n",
"    funcprot(0);\n",
"endfunction\n",
"printf('\nGalileo number = %.2f*10^5',Galileo_number()*10^(-5));\n",
"\n",
"function[Re]=Reynolds_no()\n",
"    Ga = Galileo_number();\n",
"    Re = (2.33*Ga^(0.018)-1.53*Ga^(-0.016))^(13.3);\n",
"    funcprot(0);\n",
"endfunction\n",
"printf('\n The Reynolds no is %d',Reynolds_no());\n",
"v = Reynolds_no()*(1*10^(-3))/(0.004*1000);\n",
"printf('\nvelocity = %.2f m/sec',v);\n",
"\n",
"n = poly([0],'n');\n",
"z = roots((4.8-n)-0.043*(Galileo_number())^(0.57)*(n-2.4));\n",
"printf('\nvalue of n is %.2f',z);\n",
"\n",
"//voidage at a velocity is 0.25m/sec\n",
"e=0.1;\n",
"while 1\n",
"    enew = e -((0.25/0.45)-e^(2.42))/(-2.42*e^1.42);\n",
"    if (enew == e) then\n",
"        printf('\nVoidage is %.3f',e);\n",
"        break;\n",
"    end\n",
"    e=enew;\n",
"end"
   ]
   }
,
{
		   "cell_type": "markdown",
		   "metadata": {},
		   "source": [
			"## Example 6.4: slope_of_adsorption_isotherm.sci"
		   ]
		  },
  {
"cell_type": "code",
	   "execution_count": null,
	   "metadata": {
	    "collapsed": true
	   },
	   "outputs": [],
"source": [
"clear;\n",
"clc;\n",
"printf('\n Example 6.4');\n",
"t = 250:250:2000; //time is in secs\n",
"y = [0.00223;0.00601;0.00857;0.0106;0.0121;0.0129;0.0134;0.0137];\n",
"\n",
"i =1;\n",
"yo = 0.01442;\n",
"while i<9\n",
"    z(i) = y(i)/yo;\n",
"    y(i)=1-z(i);\n",
"    x(i)=log(y(i));\n",
"    i=i+1;\n",
"end\n",
"xtitle('slope of adsorption isotherm','Time(sec)','log(1-(y/yo))')\n",
"plot(t,x,'o-')\n",
"printf('\nFrom the graph the value of slope is %f',-0.00167);\n",
"Gm = 0.679*10^(-6);  //units are in kmol/sec\n",
"W = 4.66;            //units are in gram\n",
"b = poly([0],'b');\n",
"s = roots(-0.00167*4.66*b+0.679*10^(-6));\n",
"printf('\n b = %.4f kmol/kg',s*10^3);\n",
"\n",
""
   ]
   }
,
{
		   "cell_type": "markdown",
		   "metadata": {},
		   "source": [
			"## Example 6.5: Coefficient_of_heat_transfer_between_gas_and_the_particles.sci"
		   ]
		  },
  {
"cell_type": "code",
	   "execution_count": null,
	   "metadata": {
	    "collapsed": true
	   },
	   "outputs": [],
"source": [
"clear;\n",
"clc;\n",
"printf('\n Example 6.5');\n",
"gas_flow_rate =0.2;       //units are in kg/m^2\n",
"c = 0.88;                 //specific heat capacity of air is kj/kg K\n",
"viscosity = 0.015*10^(-3);//viscosity is in Ns/m^2\n",
"d = 0.25*10^(-3);         //particle size is in meters\n",
"k = 0.03;                 //thermal conductivity is in W/m K\n",
"e = 0.57;                 //e is voidage\n",
"\n",
"T = [339.5;337.7;335.0;333.6;333.3;333.2]; //temperature is in kelvins\n",
"deltaT = T - 333.2;\n",
"h = [0;0.64;1.27;1.91;2.54;3.81];\n",
"xtitle('temperature rise as a function of bed height','height above bed support(mm)','deltaT(K)');\n",
"plot(h,deltaT,'o-');\n",
"\n",
"//Area under the curve gives the value of  the heat teansfer integral =8.82mm K\n",
"\n",
"q = 0.2*0.88*(339.5-332.2);\n",
"printf('\n heat transferred = %.2f kw/m^2 of bed cross sectional area',q);\n",
"\n",
"//Assuming 1m^3 volume\n",
"Vp = (1-0.57);       //Volume of particles is in m^3\n",
"printf('\n Volume of particles is %.2f m^3',Vp)\n",
"v1 = (%pi/6)*d^3;    //Volume of 1 particle in m^3\n",
"printf('\n Volume of 1 particle is %.2f*10^(-12) m^3',v1*10^(12));\n",
"printf('\n number of particles is %.2f*10^(10)',Vp/v1*10^(-10));\n",
"\n",
"x =poly([0],'x');\n",
"h = roots(1100 - x*(1.03*10^4)*(8.82*10^(-3)));\n",
"printf('\n heat transfer coefficient = %.1f W/m^2',h);\n",
"\n",
"//Nu = 0.11Re^(1.28)\n",
"Re = (0.2*0.25*10^(-3))/(0.015*10^(-3));\n",
"h1 = 0.11*(Re)^(1.28)*k/d;\n",
"printf('\n h = %.1f W/m^2 K',h1);\n",
"\n",
""
   ]
   }
,
{
		   "cell_type": "markdown",
		   "metadata": {},
		   "source": [
			"## Example 6.6: Volumetric_fraction_of_the_bed_carrying_out_evaporation.sci"
		   ]
		  },
  {
"cell_type": "code",
	   "execution_count": null,
	   "metadata": {
	    "collapsed": true
	   },
	   "outputs": [],
"source": [
"clear;\n",
"clc;\n",
"printf('\n Example 6.6');\n",
"cp = 0.85;                              //specific heat capacity of the air\n",
"h = [0 0.625 1.25 1.875 2.5 3.75];                       //height in mm  \n",
"T=[339.5 337.7 335.0 333.6 333.3 333.2];//temperature in K\n",
"deltaT = T - 333.2;                     //temperature difference in kelvins\n",
"plot(h,deltaT,'o-');\n",
"xtitle('deltaT as a function of bed height','Height above bed support z(mm)','Temperature difference deltaT (K)');\n",
"//From the plot area under the curve is 6.31 K mm \n",
"sp = (6/(0.25*10^(-3)))*(0.5);  //sp is surface area per unit volume in m^2/m^3\n",
"G = 0.2;                        //in kg/m^2sec\n",
"Cp = 850;                       //Cp is in J/kg K\n",
"h1 = poly([0],'h1');\n",
"s = roots(0.2*850*6.3-h1*1.2*10^(4)*6.31*10^(-3));\n",
"printf(' \n Coefficient for heat transfer between the gas and the particles= %.1fW/m^2 K',s);\n",
"\n",
"printf('\n Let the evaporation rate be 0.1 kg/sec at a temp difference = 50 degK');\n",
"mdot = 0.1;         //evaporation rate is 0.1 kg/sec\n",
"Latent_heat = 2.6*10^(6);\n",
"printf('\n The heat flow = %.1f*10^5 W',mdot*Latent_heat*10^(-5));\n",
"A=(2.6*10^5)/(14.1*50);\n",
"printf('\n the effective area of the bed A = %d m^2',A);\n",
"printf('\n The surface area of the bed = %d m^2',0.1*1.2*10^4);\n",
"printf('\n hence the fraction of the bed = %.2f',369/1200);\n",
"\n",
"\n",
"\n",
" "
   ]
   }
],
"metadata": {
		  "kernelspec": {
		   "display_name": "Scilab",
		   "language": "scilab",
		   "name": "scilab"
		  },
		  "language_info": {
		   "file_extension": ".sce",
		   "help_links": [
			{
			 "text": "MetaKernel Magics",
			 "url": "https://github.com/calysto/metakernel/blob/master/metakernel/magics/README.md"
			}
		   ],
		   "mimetype": "text/x-octave",
		   "name": "scilab",
		   "version": "0.7.1"
		  }
		 },
		 "nbformat": 4,
		 "nbformat_minor": 0
}
