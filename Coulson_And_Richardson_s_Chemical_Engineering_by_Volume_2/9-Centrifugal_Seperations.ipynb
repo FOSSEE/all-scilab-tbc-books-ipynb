{
"cells": [
 {
		   "cell_type": "markdown",
	   "metadata": {},
	   "source": [
       "# Chapter 9: Centrifugal Seperations"
	   ]
	},
{
		   "cell_type": "markdown",
		   "metadata": {},
		   "source": [
			"## Example 9.1: Value_of_capacity_factor.sci"
		   ]
		  },
  {
"cell_type": "code",
	   "execution_count": null,
	   "metadata": {
	    "collapsed": true
	   },
	   "outputs": [],
"source": [
"clear;\n",
"clc;\n",
"printf('\n Example 9.1');\n",
"d_particle = 5;          //particle size is in um\n",
"p = 1000;               //density of water in kg/m^3\n",
"ps = 2800;              //density of solids in kg/m^3\n",
"viscosity = 10^(-3);    //viscosity is in Ns/m^2\n",
"uo = ((d_particle*10^(-6))^2)*(ps-p)*9.81/(18*viscosity);\n",
"printf('\n Terminal falling velocity of particles of diameter = %.2f m/sec',uo*10^5);\n",
"Q = 0.25;              //volumetric flow rate is in m^3/sec\n",
"printf('\n E = %.2f*10^(4) m^2',(Q/uo)*10^(-4));\n",
"\n",
"printf('\n For coal-in-oil mixture');\n",
"uo1 = 0.04/(Q/uo);\n",
"printf('\n uo = %.2f*10^-6 m/sec',uo1*10^6);\n",
"\n",
"d = sqrt((18*0.01*uo1)/((1300-850)*9.81));\n",
"printf('\n d = %d um',(d/3)*10^6);\n",
""
   ]
   }
,
{
		   "cell_type": "markdown",
		   "metadata": {},
		   "source": [
			"## Example 9.3: TIme_taken_to_produce_filtrate.sci"
		   ]
		  },
  {
"cell_type": "code",
	   "execution_count": null,
	   "metadata": {
	    "collapsed": true
	   },
	   "outputs": [],
"source": [
"clear;\n",
"clc;\n",
"printf('\n Example 9.3');\n",
"//In the filter press\n",
"// V^2 + 2(AL/v)V = 2(-deltaP)A^2*t/(ruv)\n",
"\n",
"l = 0.025;         //l is in meters\n",
"L = 0.003;         //L is in meters\n",
"deltaP = 350;      //it is in N/m^2\n",
"t = 3600;          //t is in secs\n",
"\n",
"// x = v/ru\n",
"x = poly([0],'x');\n",
"x1 = roots(0.025^2 + 2*0.003*0.025 - 2*3.5*10^(5)*3600*x);\n",
"printf('\n the value of ru/v = %.2f*10^12',(1/x1)*10^(-12));\n",
"\n",
"//In the centrifuge\n",
"R = 0.15;             //R is in meters\n",
"H = 0.20;             //H is in meters\n",
"V = 0.00225;          //V is in m^3\n",
"r = poly([0],'r');\n",
"r1 = roots(%pi*(R^2 - r^2)*H-V);\n",
"printf('\n Value of ro = %f mm',r1(1)/2);\n",
"printf('\n angular frequency = %.1frad/s',(r1(1)/2*10^3)*2*(%pi));\n",
"\n",
"//(R^2 -r^2)(1+2L/R)+2r^2ln(r/R) = 2vtpw^2/ru(R^2-ro^2)\n",
"t = poly([0],'t');\n",
"t1 = roots((R^2 - r1(1)^2)*(1+2*(L/R))+2*(r1(1)^2)*log(r1(1)/R)-2*t*1000*408.4^(2)/(3.25*10^12)*(R^2-(r1(1)/2)^2));\n",
"printf(' \n time required = %f secs',t1);\n",
"\n",
"\n",
"\n",
"\n",
"\n",
"\n",
"\n",
""
   ]
   }
],
"metadata": {
		  "kernelspec": {
		   "display_name": "Scilab",
		   "language": "scilab",
		   "name": "scilab"
		  },
		  "language_info": {
		   "file_extension": ".sce",
		   "help_links": [
			{
			 "text": "MetaKernel Magics",
			 "url": "https://github.com/calysto/metakernel/blob/master/metakernel/magics/README.md"
			}
		   ],
		   "mimetype": "text/x-octave",
		   "name": "scilab",
		   "version": "0.7.1"
		  }
		 },
		 "nbformat": 4,
		 "nbformat_minor": 0
}
