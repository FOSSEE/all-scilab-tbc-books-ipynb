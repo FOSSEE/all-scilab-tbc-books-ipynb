{
"cells": [
 {
		   "cell_type": "markdown",
	   "metadata": {},
	   "source": [
       "# Chapter 2: Particle size reduction and enlargement"
	   ]
	},
{
		   "cell_type": "markdown",
		   "metadata": {},
		   "source": [
			"## Example 2.1: Consumption_of_energy.sci"
		   ]
		  },
  {
"cell_type": "code",
	   "execution_count": null,
	   "metadata": {
	    "collapsed": true
	   },
	   "outputs": [],
"source": [
"clear;\n",
"clc;\n",
"printf('\n Example 2.1');\n",
"//Computing energy required in particle size reduction by Rittinger's law\n",
"//energy required in crusing is given by E =Kr.fc((1/L2)-(1/L1))\n",
"//Given : Energy required in crushing particles from 50mm to 10mm is       13.0kw/(kg/sec).\n",
"\n",
"Cr=13.0*(50/4);//Cr = Kr*fc\n",
"\n",
"//Energy required to crush the particles from 75mm to 25mm\n",
"E = Cr*((1/25)-(1/75));\n",
"printf('\n The energy required in crushing the materials from average particle size of 75mm to 25mm by Rettingers law is %fkj/kg',E)\n",
"\n",
"//Computing the energy required for crushing by Kick's law\n",
"//E = (Kk*fc)*ln(L1/L2) by Kick's law\n",
"\n",
"Ck = (13.0)/log(50/10);//Ck = Kk*fc \n",
"\n",
"//Energy required to crush the material from 75mm to 25mm\n",
"Ek = Ck*log(75/25);\n",
"printf('\nThe energy required for crushing the material from average particle size of by Kicks law 75mm to 25mm is %fkj/kg \n',Ek);\n",
"printf('\n The size range required is that for coarse crushing and Kicks law more closely relates the energy required for plastic deformation before fracture occurs so the energy calculated as that by Kicks law will be taken as the more reliable result\n');"
   ]
   }
,
{
		   "cell_type": "markdown",
		   "metadata": {},
		   "source": [
			"## Example 2.2: Maximum_size_of_the_particle.sci"
		   ]
		  },
  {
"cell_type": "code",
	   "execution_count": null,
	   "metadata": {
	    "collapsed": true
	   },
	   "outputs": [],
"source": [
"clear;\n",
"clc;\n",
"printf('\n Example 2.2');\n",
"//Calculating the maximum size of the particle that can be fed to the rollers.\n",
"//Given angle of nip = 31degree\n",
"//Given diameter of the crushimg rolls = 1m\n",
"//Distance between the crushing rolls is 12.5mm\n",
"r1 = 0.5;//size of crushing rolls is in meters\n",
"b = 0.00625;//Distance between the crushing rolls is 0.0125mm\n",
"r2 = (r1 + b)/(cos((%pi/180)*15.5))-0.5;\n",
"printf('\nThe maximum size of the particles which should be fed to the rollers : %d mm',r2*10^3);\n",
"\n",
"//Calculating the throughput at 2.0 Hz when the actual capacity of the machine is 12%.\n",
"//Working face of the rolls are 0.4m long\n",
"//bulk density of the feed is 2500kg/m^3\n",
"printf('\nThe cross sectional area for flow is %.3f  m^2',0.0125*0.4);\n",
"printf('\nThe volumetric flow rate is %.2f m^3/sec',2.0*0.005);\n",
"printf('\nThe actual throughput is %d kg/sec',0.010*12*2500/100);"
   ]
   }
,
{
		   "cell_type": "markdown",
		   "metadata": {},
		   "source": [
			"## Example 2.3: Proposed_modifications_in_ball_mill.sci"
		   ]
		  },
  {
"cell_type": "code",
	   "execution_count": null,
	   "metadata": {
	    "collapsed": true
	   },
	   "outputs": [],
"source": [
"clear;\n",
"clc;\n",
"printf('\n Example 2.3');\n",
"//Given diameter of the ball mill is 1.2meters\n",
"//Speed of rotation is 0.80Hz\n",
"\n",
"//for small particles effective radius is 0.6meters\n",
"//critical speed of the rotation\n",
"g=9.80;      //acceleration due to gravity is in m^2/sec.\n",
"r=0.6;       //effective radius of rotation is in meters.\n",
"w = sqrt(g/r);\n",
"printf('\nThe critical speed of the rotation is %.2f rad/sec',w);\n",
"f=w/(2*%pi); //f is the frequency of the rotation and is in Hz\n",
"printf('\nThe critical frequency of the rotation is %fHz\n',f);\n",
"optimum_frequency = 0.6*f;\n",
"printf('The optimum frequency of the rotation is %.2f Hz',optimum_frequency);\n",
"printf('\nGiven frequecy of the rotation is 0.80Hz\n');\n",
"printf('The frequency of the rotation should be halved\n');\n",
"printf('Therefore the optimal frequency is half the critical frequency');\n",
"\n",
"\n",
"\n",
""
   ]
   }
],
"metadata": {
		  "kernelspec": {
		   "display_name": "Scilab",
		   "language": "scilab",
		   "name": "scilab"
		  },
		  "language_info": {
		   "file_extension": ".sce",
		   "help_links": [
			{
			 "text": "MetaKernel Magics",
			 "url": "https://github.com/calysto/metakernel/blob/master/metakernel/magics/README.md"
			}
		   ],
		   "mimetype": "text/x-octave",
		   "name": "scilab",
		   "version": "0.7.1"
		  }
		 },
		 "nbformat": 4,
		 "nbformat_minor": 0
}
