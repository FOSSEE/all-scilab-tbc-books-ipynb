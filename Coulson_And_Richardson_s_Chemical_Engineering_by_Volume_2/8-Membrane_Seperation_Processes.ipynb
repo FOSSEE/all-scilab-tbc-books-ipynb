{
"cells": [
 {
		   "cell_type": "markdown",
	   "metadata": {},
	   "source": [
       "# Chapter 8: Membrane Seperation Processes"
	   ]
	},
{
		   "cell_type": "markdown",
		   "metadata": {},
		   "source": [
			"## Example 8.2: Area_of_membrane_and_average_flux.sci"
		   ]
		  },
  {
"cell_type": "code",
	   "execution_count": null,
	   "metadata": {
	    "collapsed": true
	   },
	   "outputs": [],
"source": [
"clear; \n",
"clc;\n",
"printf('\n Example 8.2');\n",
"\n",
"//From the gel polarisation model:\n",
"         //J = (1/A)(dV/dt) = hD ln(Cg/Cf)\n",
"         //Cf = Co(Vo/V)\n",
"  //where Co and Vo are the initial concentration and volume,respectively and Cf and V are the values at subsequent times\n",
"  //Combining these eq gives\n",
"        //dV/dt = A(hDln(Cg/Co)-hDln(Vo/V))\n",
"V = [10 5 3 2 1];\n",
"y = [9.90 13.64 18.92 27.30 112.40];\n",
"plot(V,y)\n",
"xtitle('Area under the curve is 184.4','Volume(m^3)','(J - hDln(Vo/V))^(-1)')\n",
"\n",
"\n",
"//(b)\n",
"Jo = 0.04*log(250/20);\n",
"printf('\n Jo = %.3f m/h',Jo);\n",
"Jf = 0.04*log(250/200);\n",
"printf('\n Jf = %f m/h',Jf);\n",
"Jav = Jf + 0.27*(0.101-0.008);\n",
"printf('\n Jav = %f m/h',Jav);\n",
"//For the removal of 9m^3 filtrate in 4 hours\n",
"Area = (9/4)/Jav;\n",
"printf('\n Area = %fm^2',Area);\n",
""
   ]
   }
,
{
		   "cell_type": "markdown",
		   "metadata": {},
		   "source": [
			"## Example 8.3: Minimum_number_of_membrane_modules_required.sci"
		   ]
		  },
  {
"cell_type": "code",
	   "execution_count": null,
	   "metadata": {
	    "collapsed": true
	   },
	   "outputs": [],
"source": [
"clear;\n",
"clc;\n",
"printf('\n Example 8.3');\n",
"//It is assumed that Q0 is the volumetric flowrate of feed\n",
"// Q2 the volumetric flowrate of concentrate\n",
"//C0 the solute concentration in the feed\n",
"// C2 the solute concentration in the concentrate\n",
"// F the volumetric flowrate of membrane permeate\n",
"// A the required membrane area.\n",
"// It is also assumed that there is no loss of solute through the membrane.\n",
"Cl = 3;\n",
"while 1\n",
"    Clnew = Cl -(0.04-0.02*log(30/Cl))/(Cl^(-1)/50);\n",
"    if Clnew == Cl then\n",
"        break;\n",
"    end\n",
"    Cl = Clnew;\n",
"end\n",
"    printf('\n Cl = %d kg/m^3',Cl);\n",
"printf('\n below this concentration the membrane flux is 0.04 m/h');\n",
"\n",
"//This does not pose a constraint for the single stage as the concentration of solute C2 will be that of the final concentrate, 20 kg/m3.\n",
"//Conservation of solute gives:QoCo = Q2C2\n",
"//A fluid balance gives : Qo = F + Q2\n",
"//Combining these eq and substituting Known values:\n",
"A = (2.438/0.02)/log(30/20);\n",
"printf('\n A = %d m^2',A);\n",
"//The tubular membranes to be used are available as 30 m^2modules.\n",
"printf('\n the no of required modules are %d ',A/30);\n",
"\n",
"//Part(b)\n",
"\n",
"//Conservation of solute gives = QoCo = Q1C1 = Q2C2\n",
"//A fluid balance on stage 2 gives Q1 = Q2 + F2\n",
"//A fluid balance on stage 2 gives Q1 = Q2 +F2\n",
"//Substituting given values in above eqns\n",
"//2.5 = 1.25/C1 + 0.02A1ln(30/C1)\n",
"function[A1]=a(C1)\n",
"    A1 = (2.5-1.25/C1)/(0.02*log(30/C1));\n",
"    funcprot(0);\n",
"endfunction\n",
"function[A2]=b(C1)\n",
"    A2 = (1.25/C1 - 0.0625)/0.00811\n",
"    funcprot(0);\n",
"endfunction\n",
"\n",
"printf('\n The procedure is to use trial and error to estimate the value of C1 that gives the optimum values of A1 and A2');\n",
"printf('\n If C1 = 5kg/m^3 then A1 = %d m^2 and A2 = %d m^2',a(5),b(5));\n",
"printf('\n an arrangement of 3 modules −1 module is required.');\n",
"printf('\n\n\n  If C1 = 4 kg/m^3 then A1 = %dm^2 and A2 = %dm^2',a(4),b(4));\n",
"printf('\n an arrangement of 2 modules −1 module is almost sufficient.');\n",
"printf('\n\n\n   If C1 = 4.5 kg/m^3 then A1 = %dm^2 and A2 = %d m^2',a(4.5),b(4.5));\n",
"printf('\n an arrangement of 2 modules −1 module which meets the requirement');\n",
"printf('\n\n This arrangement requires the minimum number of modules.');\n",
"\n",
"\n",
"\n",
"\n",
"\n",
"\n",
"\n",
"\n",
"\n",
""
   ]
   }
],
"metadata": {
		  "kernelspec": {
		   "display_name": "Scilab",
		   "language": "scilab",
		   "name": "scilab"
		  },
		  "language_info": {
		   "file_extension": ".sce",
		   "help_links": [
			{
			 "text": "MetaKernel Magics",
			 "url": "https://github.com/calysto/metakernel/blob/master/metakernel/magics/README.md"
			}
		   ],
		   "mimetype": "text/x-octave",
		   "name": "scilab",
		   "version": "0.7.1"
		  }
		 },
		 "nbformat": 4,
		 "nbformat_minor": 0
}
