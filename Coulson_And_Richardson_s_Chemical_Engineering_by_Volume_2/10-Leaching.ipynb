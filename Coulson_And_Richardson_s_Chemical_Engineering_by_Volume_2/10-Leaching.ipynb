{
"cells": [
 {
		   "cell_type": "markdown",
	   "metadata": {},
	   "source": [
       "# Chapter 10: Leaching"
	   ]
	},
{
		   "cell_type": "markdown",
		   "metadata": {},
		   "source": [
			"## Example 10.1: Time_required_for_solute_to_dissolve.sci"
		   ]
		  },
  {
"cell_type": "code",
	   "execution_count": null,
	   "metadata": {
	    "collapsed": true
	   },
	   "outputs": [],
"source": [
"clear\n",
"clc;\n",
"printf('\n Example 10.1');\n",
"//For the pilot scale vessel\n",
" c = (2.5*75)/100;       //in kg/m^3\n",
" cs = 2.5;               //in kg/m^3\n",
" V = 1.0;                //V is in m^3\n",
" t = 10;                 //t is in secs\n",
" \n",
" //1.875 = 2.5(1-e^(-kA/b*100))\n",
" // x =kA/b\n",
" x = -log(1-1.875/2.5)/10;\n",
" \n",
" //For the full scale vessel\n",
" c = (500*28/100)/100;\n",
" printf('\n C = %fkg/m^3',c);\n",
" cs = 2.5;                //cs is in kg/m^3\n",
" V = 100;                 //V is in m^3\n",
" t = -log(1-1.4/2.5)*(100/0.139);  //t is in secs\n",
" printf('\n t = %d secs',t);\n",
" \n",
" \n",
" \n",
" \n",
" \n",
" \n",
" \n",
" \n",
" \n",
" \n",
" \n",
" \n",
" \n",
" \n",
" \n",
" \n",
" \n",
" \n",
" \n",
" \n",
" "
   ]
   }
,
{
		   "cell_type": "markdown",
		   "metadata": {},
		   "source": [
			"## Example 10.2: Rate_of_feed_of_neutral_water_to_the_thickeners.sci"
		   ]
		  },
  {
"cell_type": "code",
	   "execution_count": null,
	   "metadata": {
	    "collapsed": true
	   },
	   "outputs": [],
"source": [
"clear;\n",
"clc;\n",
"printf('\n Example 10.2');\n",
"//If x1, x2, x3 are the solute: solvent ratios in thickeners 1, 2, and 3, respectively, the quantities of CaCO3. NaOH, and water in each of the streams can be calculated for every 100 kg of calcium carbonate\n",
"//Since the final underflow must contain only 1 per cent of NaOH\n",
"function[f]=F(x)\n",
"    f(1)=(300*x(3))/100 - 0.01;\n",
"    f(2)=300*(x(2)-x(3))/x(4) - x(3);        //Wf = x(4)\n",
"    f(3)=300*(x(1)-x(3))/x(4) - x(2);\n",
"    f(4)=(80-300*x(3))/(600+x(4))-x(1);\n",
"    funcprot(0);\n",
"endfunction\n",
"//An initial guess\n",
"x = [0.1 0.1 0.1 0.1];\n",
"y = fsolve(x,F);\n",
"printf('\n x1 = %f  x2 = %f  x3 = %f Wf = %f',y(1),y(2),y(3),y(4));\n",
"printf('\n Thus the amount of water required for washing 100 kg CaCO3 is %f kg',y(4));\n",
"printf('\n The solution fed to reactor contains 0.25 kg/s Na2CO3.This isequivalent to 0.236 kg/s CaCO3,and hence the actual water required is %.2f kg/sec',y(4)*0.236/100);"
   ]
   }
,
{
		   "cell_type": "markdown",
		   "metadata": {},
		   "source": [
			"## Example 10.3: Required_number_of_thickners.sci"
		   ]
		  },
  {
"cell_type": "code",
	   "execution_count": null,
	   "metadata": {
	    "collapsed": true
	   },
	   "outputs": [],
"source": [
"clear;\n",
"clc;\n",
"printf('\n Example 10.3');\n",
"\n",
"//part 1\n",
"//Solvent in underflow from final washing thickener = 50 kg/s.\n",
"//The solvent in the overflow will be the same as that supplied for washing (200 kg/s).\n",
"//Solvent discharged in overflow/Solvent discharged in underflow=  forthe washing thickeners.\n",
"//Liquid product from plant contains 54.9 kg of salt in 195 kg of solvent.\n",
"//This ratio will be the same in the underflow from the first thickener.\n",
"printf('\n the material fed to the washing thickeners consists of 100 kg TiO2, 50 kg solvent and %d kg salt',50*(54.9/195));\n",
"\n",
"//m =n+1\n",
"m = log(421)/log(4);\n",
"printf('\n The required number of thickeners for washing are %f',m);\n",
"\n",
"//Part 2\n",
"//From an inspection of the data, it is seen that Wh = 0.30 + 0.2Xh.\n",
"//Thus: Sh = WhXh = 0.30Xh + 0.2X2h= 5Wh^2− 1.5Wh\n",
"//Considering the passage of unit quantity of TiO2 through the plant, then:\n",
"Ln = 0; wn = 2; Xn = 0;\n",
"//since 200 kg/s of pure solvent is used.\n",
"Sn = 0.001;\n",
"Wn = 0.3007;\n",
"So = 0.55;\n",
"Wo = 1.00;\n",
"//X1 = (Ln+1 + S0 − Sn)/(wn+1 + W0 − Wn)\n",
"X1 = (0+0.55-0.001)/(2+1-0.3007);\n",
"printf('\n concentration in the first thickener is %f',X1);\n",
"\n",
"W1 = 0.30+0.2*0.203;\n",
"printf('\n W1 = %f',W1);\n",
"S1 = (0.3406*0.203);\n",
"printf('\n S1 = %f',S1);\n",
"X2 = (0.0691 - 0.001)/(1.7 + 0.3406);\n",
"printf('\n X2 = %f',X2);\n",
"W2 = (0.30+0.2*0.0334);\n",
"printf('\n W2 = %f',W2);\n",
"X3 = (0.01025-0.001)/(1.7+0.3067);\n",
"printf('\n X3 = %f',X3);\n",
"printf('\n W3 = 0.30089');\n",
"printf('\n S3 = %f',0.0013);\n",
"printf('\n W4 = %f and S4 = %f',0.30003,0.000045);\n",
"printf('\n Thus S4 is less than Sn and therefore 4 thickeners are required.');\n",
"\n",
"\n",
"\n",
"\n",
"\n",
"\n",
"\n",
"\n",
"\n",
"\n",
"\n",
"\n",
"\n",
""
   ]
   }
,
{
		   "cell_type": "markdown",
		   "metadata": {},
		   "source": [
			"## Example 10.4: Number_of_ideal_stages_required.sci"
		   ]
		  },
  {
"cell_type": "code",
	   "execution_count": null,
	   "metadata": {
	    "collapsed": true
	   },
	   "outputs": [],
"source": [
"clear;\n",
"clc;\n",
"printf('\n Example 10.4');\n",
"//Since the seeds contain 20 per cent of oil\n",
"xAo=0.2;\n",
"xBo=0.8;\n",
"printf('\n xAo = %.1f and xBo = %.1f',xAo,xBo);\n",
"//The final solution contains 50 per cent oil\n",
"yA1=0.5;\n",
"yS1=0.5;\n",
"printf('\n yA1 = %.1f and yS1 = %.1f',yA1,yS1);\n",
"//The solvent which is used for extraction is pure and hence \n",
"ySn1=1;\n",
"//1 kg of insoluble solid in the washed product is associated with 0.5 kg of solution and 0.025 kg oil.\n",
"xAn = 0.0167;\n",
"xBn = 0.6667;\n",
"xSn = 0.3166;\n",
"\n",
"//The mass fraction of insoluble material in the underflow is constant and equal to 0.667. The composition of the underflow is therefore represented, on the diagram Figure 10.22, by a straight line parallel to the hypotenuse of the triangle with an intercept of 0.333 on the two main axes.\n",
"\n",
"//The difference point is now found by drawing in the two lines connecting x0 and y1 and xn and yn+1.\n",
"\n",
"//The graphical construction described in the text is then used and it is seen from Figure 10.22 that xn lies in between x4 and x5.\n",
"printf('\n Thus 5 thickeners are adequate and for the required degree of extraction');\n",
"\n",
""
   ]
   }
,
{
		   "cell_type": "markdown",
		   "metadata": {},
		   "source": [
			"## Example 10.5: Number_of_theoretical_stages_required.sci"
		   ]
		  },
  {
"cell_type": "code",
	   "execution_count": null,
	   "metadata": {
	    "collapsed": true
	   },
	   "outputs": [],
"source": [
"clear;\n",
"clc;\n",
"printf('\n Example 10.5');\n",
"\n",
"//On the basis of 100 kg untreated solids\n",
"//In the underflow feed:\n",
"//0.35 kg oil is associated with each kg of exhausted livers.\n",
"printf('\n mass of livers fed=%d kg contaning %d kg oil',100/(1+0.35),100-74);\n",
"xA = 0.26;\n",
"printf('\n xA = %.2f',xA);\n",
"xs = 0;\n",
"//In the overflow feed, pure ether is used\n",
"ys =1.0;\n",
"xs = 0;\n",
"//Recovery = 90 per cent\n",
"printf('\n                     Exhausted livers      Oil         Ether');\n",
"printf('\n Underflow feed            %d               %d           -',74,26);\n",
"printf('\n Overflow feed             -                 -           %d',50);\n",
"printf('\n Underflow product         %d               %d          e(say)',74,2.6);\n",
"printf('\n Overflow product          -                %d          50-e',23.4);\n",
"printf('\n In the underflow product:');\n",
"printf('\n the ratio(oil/exhausted livers) = %.3f kg/kg',2.6/74);\n",
"printf('\n Ratio(ether/exhausted livers) = %.3f kg/kg',0.306);\n",
"printf('\n e = %.1f kg',0.306*74);\n",
"//In the overflow product:\n",
"printf('\n The mass of ether = %.1f kg',50-22.6);\n",
"printf('\n yA = %.2f',23.4/(23.4+27.4));\n",
"printf('\n ys = %.2f',1-23.4/(23.4+27.4));\n",
"printf('\n ');\n",
"\n",
"\n",
"\n",
"\n",
"\n",
"\n",
"\n",
"\n",
"\n",
"\n",
"\n",
"\n",
"\n",
"\n",
"\n",
"\n",
"\n",
"\n",
"\n",
"\n",
"\n",
"\n",
"\n",
"\n",
"\n",
"\n",
""
   ]
   }
],
"metadata": {
		  "kernelspec": {
		   "display_name": "Scilab",
		   "language": "scilab",
		   "name": "scilab"
		  },
		  "language_info": {
		   "file_extension": ".sce",
		   "help_links": [
			{
			 "text": "MetaKernel Magics",
			 "url": "https://github.com/calysto/metakernel/blob/master/metakernel/magics/README.md"
			}
		   ],
		   "mimetype": "text/x-octave",
		   "name": "scilab",
		   "version": "0.7.1"
		  }
		 },
		 "nbformat": 4,
		 "nbformat_minor": 0
}
