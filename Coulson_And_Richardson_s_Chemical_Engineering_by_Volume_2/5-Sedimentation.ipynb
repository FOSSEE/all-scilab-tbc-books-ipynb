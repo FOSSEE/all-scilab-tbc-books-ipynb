{
"cells": [
 {
		   "cell_type": "markdown",
	   "metadata": {},
	   "source": [
       "# Chapter 5: Sedimentation"
	   ]
	},
{
		   "cell_type": "markdown",
		   "metadata": {},
		   "source": [
			"## Example 5.1: Minimum_area_of_thickener.sci"
		   ]
		  },
  {
"cell_type": "code",
	   "execution_count": null,
	   "metadata": {
	    "collapsed": true
	   },
	   "outputs": [],
"source": [
"clear;\n",
"clc;\n",
"printf('\n Example 5.1');\n",
"//Basis 1 kg of solids\n",
"feed_rate_solid = 1.33;  //Mass rate of feed of solids in kg/sec\n",
"U = 1.5;                 //Mass rate of solids in the underflow in kg/sec\n",
"Y = [5.0 ; 4.2; 3.7 ; 3.1; 2.5];\n",
"printf('\n concentration(Y) (kg water/kg solids):\n');\n",
"printf('%.1f\n',Y);\n",
"printf('\n water to overflow (Y-U) (kg water/kg solids):\n');\n",
"O = Y - 1.5;//Amount of water to overflow in kg water/kg solids\n",
"printf('\n %.1f\n',O);\n",
"Uc = [2.00*10^(-4);1.20*10^(-4);0.94*10^(-4);0.70*10^(-4);0.50*10^(-4)];\n",
"printf('\n sedimentation rate uc (m/sec):\n');\n",
"printf('%f  \n',Uc);\n",
"X =[1.75*10^4;2.25*10^4;2.34*10^4;2.29*10^4;2.00*10^4];//X = (Y-U)/Uc\n",
"printf(' \n\n(Y-U)/Uc (s/m):\n');\n",
"printf('\n %d\n',X);\n",
"z = max(X); //prints the maximum value of X\n",
"printf('\nMaximum value of (Y-U)/Uc = %ds/m',z);\n",
"\n",
"//Calculating the require darea of the thickener\n",
"A = z*1.33/1000; //1.33 is the mass feed rate of solids in kg/sec\n",
"//1000 is the density of water in kg/m^3\n",
"printf('\n The required area of the thickener is :%.2fm^2\n',A);"
   ]
   }
,
{
		   "cell_type": "markdown",
		   "metadata": {},
		   "source": [
			"## Example 5.2: Sedimentation_velocity_and_solids_flux.sci"
		   ]
		  },
  {
"cell_type": "code",
	   "execution_count": null,
	   "metadata": {
	    "collapsed": true
	   },
	   "outputs": [],
"source": [
"clear;\n",
"clc;\n",
"printf('\n Example 5.2');\n",
"//Area of the tank required to give an underflow concentration of 1200kg/m^3 for a feed rate of 2 m^3/min\n",
"\n",
"//Initial height of slurry in the tank\n",
"H = [900;800;700;600;500;400;300;260;250;220;200;180];\n",
"uc = [13.4;10.76;8.6;6.6;4.9;3.2;1.8;1.21;1.11;0.80;0.60;0.40];\n",
"i=1;\n",
"while i<13\n",
"    c(i)=200*900/H(i);\n",
"    x(i)=1000*(1/c(i)-1/1200);\n",
"    sed(i) = c(i)*uc(i)/(1000*60);\n",
"    y(i)= uc(i)*10^(-3)/((1/c(i)-1/1200)*60);\n",
"    z(i) = 1/y(i);\n",
"    i=i+1;\n",
"end\n",
"printf('\nH(mm)');\n",
"printf('\n%d',H);\n",
"printf('\n c(kg/m^3):\n');\n",
"printf('%d\n',c);\n",
"printf('Sedimentation flux(kg.s/m^2):\n');\n",
"printf('%.4f\n',x);\n",
"printf('uc/(1/c-1/1200)\nkg.sec/m^2:\n');\n",
"printf('%.4f\n',y);\n",
"printf('1000*(1/c-1/cu)\nm^3/kg*10^3\n');\n",
"printf('%.3f \n',x);\n",
"printf('\n\n(1/c-1/1200)/uc\n m^2.kg/sec\n');\n",
"printf('%.1f\n',z);\n",
"m1=max([18.7;20.1;21.3;22.7;23.8;26.0;27.8;30.3;30.0;29.2;27.8;25.0]);\n",
"printf('\n\nthe maximum value of (1/c-1/1200)/uc is %.1f m^2*kg/s',m1);\n",
"A = 2*200*30.3/60;\n",
"printf('\n The area required is A = Qc[(1/c-1/cu)/uc]max = %dm^2',A)"
   ]
   }
,
{
		   "cell_type": "markdown",
		   "metadata": {},
		   "source": [
			"## Example 5.3: Rate_of_deposition_and_maximum_flux.sci"
		   ]
		  },
  {
"cell_type": "code",
	   "execution_count": null,
	   "metadata": {
	    "collapsed": true
	   },
	   "outputs": [],
"source": [
"clear;\n",
"clc;\n",
"printf('\t Example 5.3 ');\n",
"//Assumption: Resistance force F on an isolated sphere is given by Stoke's law:F = 3*%pi(meu)d*u\n",
"\n",
"C = poly([0],'C');\n",
"x=roots(-4.8*C+(1-C));\n",
"printf('\n concentration is:%.3f',x);\n",
"\n",
"//terminal falling velocity u can be calculated by force balance\n",
"//u = d^2*g/(18*meu)*(ps-p)\n",
"function[u]=terminal_velocity()\n",
"    d = 10^(-4);   //diameter is in meters\n",
"    g = 9.81;      //acceleration due to gravity is in m/sec^2\n",
"    meu = 10^(-3); //viscosity is in N.s/m^2\n",
"    ps = 2600;     //density is in kg/m^3\n",
"    p = 1000;      //density is in kg/m^3\n",
"    \n",
"    u = (d^2)*g*(ps-p)/(18*meu);\n",
"    funcprot(0);\n",
"endfunction\n",
"\n",
"\n",
"function[si]=si_max()\n",
"    u=terminal_velocity()\n",
"    printf('\n The terminal falling velocity is %.5f m/sec',u);\n",
"    si=u*x*(1-x)^(4.8);\n",
"    funcprot(0);\n",
"endfunction\n",
"si = si_max();\n",
"printf('\nThe maximum value is %f*10^(-4) m^3/m^2sec',si*10^4)\n",
"\n",
"\n",
"\n",
"\n",
" "
   ]
   }
],
"metadata": {
		  "kernelspec": {
		   "display_name": "Scilab",
		   "language": "scilab",
		   "name": "scilab"
		  },
		  "language_info": {
		   "file_extension": ".sce",
		   "help_links": [
			{
			 "text": "MetaKernel Magics",
			 "url": "https://github.com/calysto/metakernel/blob/master/metakernel/magics/README.md"
			}
		   ],
		   "mimetype": "text/x-octave",
		   "name": "scilab",
		   "version": "0.7.1"
		  }
		 },
		 "nbformat": 4,
		 "nbformat_minor": 0
}
