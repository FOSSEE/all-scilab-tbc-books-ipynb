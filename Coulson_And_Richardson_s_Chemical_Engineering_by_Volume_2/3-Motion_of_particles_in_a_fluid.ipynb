{
"cells": [
 {
		   "cell_type": "markdown",
	   "metadata": {},
	   "source": [
       "# Chapter 3: Motion of particles in a fluid"
	   ]
	},
{
		   "cell_type": "markdown",
		   "metadata": {},
		   "source": [
			"## Example 3.1: terminal_velocity.sci"
		   ]
		  },
  {
"cell_type": "code",
	   "execution_count": null,
	   "metadata": {
	    "collapsed": true
	   },
	   "outputs": [],
"source": [
"clear all;\n",
"clc;\n",
"printf('\n Example 3.1');\n",
"    d = 0.00040;   //Diameter of the particle in m\n",
"    p1 = 820;      //Density of the fluid in kg/m^3\n",
"    meu = 0.01;    //Viscosity of the fluid in N s/m^2\n",
"    p2 = 7870;    //Density of steel in kg/m^3\n",
"    g = 9.81;     //Acceleartion due to gravity in m/sec^2\n",
"//Computation of terminal velocity of a spherical particle \n",
"function[x]=galileo_number()\n",
"\n",
"    x = (2*d^3*(p2-p1)*p1*g)/(3*(meu)^2); //x = (Ro/pu^2)*Re^2\n",
"    funcprot(0);\n",
"endfunction\n",
"x = galileo_number();\n",
"printf('\n The value of (Ro/pu^2)/Re^2 is  %f\n',x);\n",
"\n",
"\n",
"//From table 3.4 log(x) corresponds to log(Re)=0.222\n",
"Re = 1.667;\n",
"function[u]=teminal_velocity()\n",
"    u=(Re*meu)/(p1*d);\n",
"    funcprot(0);\n",
"endfunction\n",
" u = teminal_velocity();\n",
" printf('\n The terminal velocity of the steel ball is %.3f m/sec or %.0f mm/sec',u,u*1000);\n",
"\n",
"\n",
"    "
   ]
   }
,
{
		   "cell_type": "markdown",
		   "metadata": {},
		   "source": [
			"## Example 3.2: Estimation_of_galena.sci"
		   ]
		  },
  {
"cell_type": "code",
	   "execution_count": null,
	   "metadata": {
	    "collapsed": true
	   },
	   "outputs": [],
"source": [
"clear;\n",
"clc;\n",
"printf('\n Example 3.2');\n",
"u_water = 5*10^(-3);  //The flow velocity of the water in m/sec\n",
"p_galena = 7500;      //The density of galena is in kg/m^3\n",
"p_limestone = 2700;   //The density of limestone is in kg/m^3\n",
"viscosity = 0.001;    //The viscosity of water in N s/m^2\n",
"\n",
"//calculating maximum value of reynold's number considering 5mm particle size\n",
"Re_max = (u_water*1000*0.0001)/(viscosity);\n",
"printf('\n The maximum permissible value of Re is %f',Re_max);\n",
"\n",
"//maximum particle size of galena which will be carried away by water\n",
"d = sqrt((u_water*(18*viscosity))/((7500-1000)*9.81));\n",
"printf('\nmaximum particle size of galena which will be carried away by water is %.1f um',d*10^(6));\n",
"\n",
"//maximum particle size of limestone which will be carried away by water\n",
"d1 = sqrt((u_water*(18*viscosity))/((2700-1000)*9.81));\n",
"printf('\nmaximum particle size of limestone which will be carried away by water is %.1f um',d1*10^(6));\n",
"\n",
"\n",
"//From the given data 43% galena and 74% limestone will be removed .\n",
"//Given that in the feed there is 20% galena and 80% limestone\n",
"//Assuming 100g feed\n",
"printf('\n\nIn the overflow:');\n",
"printf('\nAmount of galena is %fg',(20*0.43)); \n",
"printf('\nAmount of limestone is %fg',(80*0.74));\n",
"printf('\nconcentration of galena is %.1f per cent',(20*0.43*100)/(20*0.43+80*0.74));\n",
"printf('\n\concentration of galena is %fper cent',(80*0.74*100)/(20*0.43+80*0.74));\n",
"printf('\n\nIn the underflow:')\n",
"printf('\nconcentration of galena is %.1f percent',(20*(1-0.43)*100)/(20*(1-0.43)+80*0.26))\n",
"printf('\nconcentration of limestone is %.1f per cent',(80*0.26*100)/(20*0.57+80*0.26))\n",
"\n",
"\n",
"\n",
"\n",
"\n",
""
   ]
   }
,
{
		   "cell_type": "markdown",
		   "metadata": {},
		   "source": [
			"## Example 3.3: terminal_velocity.sci"
		   ]
		  },
  {
"cell_type": "code",
	   "execution_count": null,
	   "metadata": {
	    "collapsed": true
	   },
	   "outputs": [],
"source": [
"clear;\n",
"clc;\n",
"printf('\n Example 3.3');\n",
"min_area =6*10^(-6);    //minimum area of mica plates in m^2\n",
"max_area =6*10^(-4);    //maximum area of mica plates in m^2\n",
"p_oil = 820;            //density of the oil in kg/m^3\n",
"Viscosity = 0.01;      //Viscosity is in N s/m^2\n",
"p_mica = 3000;         //Density of mica in kg/m^3\n",
"\n",
"printf('\n    smallest particles                           largest particles');\n",
"printf('\nA:   %fm^2                                             %fm^2 ',min_area,max_area);\n",
"printf('\ndp:  %fm                                               %fm',sqrt(4*min_area/(%pi)),sqrt(4*max_area/(%pi)));\n",
"printf('\ndp^3:%f*10^(-8)m^3                                     %f*10^(-5)m^3',sqrt(4*min_area/(%pi))^(3)*10^(8),sqrt(4*max_area/(%pi))^(3)*10^5);\n",
"printf('\nv:   %f*10^9m^3                                        %f*10^7m^3',0.285*sqrt(4*min_area/(%pi))^(3)*10^(9),sqrt(4*max_area/(%pi))^(3)*(10^7)*0.0285);\n",
"printf('\nk:   %f                                                %f',0.285,0.0285);\n",
"\n",
"x1 = (4*0.285/(%pi*0.01^2))*(3000-820)*(820*2.103*10^(-8)*9.81);\n",
"x2 = (4*0.0285/(%pi*0.01^2))*(3000-820)*(820*2.103*10^(-5)*9.81);\n",
"printf('\n(Ro/pu^2)Reo^2 is %d for the smallest particles and %d for the largest particles',x1,x2);\n",
"//From table 3.4 Re for smallest particle is 34.9 and that for the largest particle is 361\n",
"u1 = 34.9*0.01/(820*2.76*10^(-3));\n",
"printf('\nTerminal velocity for the smallest particle is %.3f m/sec',u1);\n",
"u2 = 361*0.01/(820*2.76*10^(-2));\n",
"printf('\nTerminal velocity for the largest particle is %.3f m/sec',u2);\n",
"printf('\n\n Thus it is seen that all the particles settle at approximately the same velocity');\n",
""
   ]
   }
,
{
		   "cell_type": "markdown",
		   "metadata": {},
		   "source": [
			"## Example 3.4: Approximate_distance_travelled.sci"
		   ]
		  },
  {
"cell_type": "code",
	   "execution_count": null,
	   "metadata": {
	    "collapsed": true
	   },
	   "outputs": [],
"source": [
"clear;\n",
"clc;\n",
"printf('\n Example 3.4');\n",
"v_particle = 6;  //velocity of the particle in m/sec\n",
"v_water = 1.2;   //veloicity of the water in m/sec\n",
"v_rel = v_particle - v_water;//relative velocity of particles relative to the fluid in m/sec\n",
"Re1 = 6*10^(-3)*v_rel*1000/(1*10^(-3));//Re1 is the reynold's no.\n",
"printf('\nReynold no. is %d',Re1);\n",
"\n",
"//When the particle has been retarded to a velocity such that Re=500\n",
"ydot = (v_rel*500)/Re1;\n",
"printf('\nParticle velocity is %.3f m/sec\n',ydot);\n",
"c = 0.33/(6*10^(-3))*(1000/2500);\n",
"f = sqrt((3*6*10^(-3)*(2500-1000)*9.81)/1000);\n",
"function[y]=Fa(t)\n",
"   y = (-1/22)*(log(cos(0.517*22*t) + 4.8/0.517*sin(0.517*22*t)));\n",
"   funcprot(0);\n",
"endfunction\n",
" \n",
"function[yd]=deriv(t) \n",
"    yd= -0.083+(0.517*(9.28*cos(11.37*t) - sin(11.37*t))/(cos(11.37*t) + 9.28*sin(11.37*t)));\n",
"    funcprot(0);\n",
"endfunction\n",
"\n",
"function[ydd]=double_deriv(t)\n",
"    ydd = -0.517*(11.37)^2*(9.28*cos(11.37*t) - sin(11.37*t))/(cos(11.37*t) + 9.28*sin(11.37*t));\n",
"    funcprot(0);\n",
"endfunction\n",
"\n",
"\n",
"told = 0;\n",
"while 1\n",
"    tnew = told - deriv(told)/double_deriv(told);\n",
"    if (tnew == told) then\n",
"        y = Fa(told);\n",
"        d = y;\n",
"        printf('\nThe distance moved with speed less than 0.083m/sec is %.3fm',d);\n",
"        t=told;\n",
"        printf('\n The time taken by particle to move this distance is %.3fsec',t);\n",
"        break;\n",
"    end\n",
"    told = tnew;\n",
"end\n",
"\n",
"\n",
"printf('\nThe distance moved by the particle relative to the walls of the plant %.3fm',1.2*t - d);\n",
" \n",
"\n",
"\n",
"\n",
""
   ]
   }
,
{
		   "cell_type": "markdown",
		   "metadata": {},
		   "source": [
			"## Example 3.5: maximum_size_of_crystals.sci"
		   ]
		  },
  {
"cell_type": "code",
	   "execution_count": null,
	   "metadata": {
	    "collapsed": true
	   },
	   "outputs": [],
"source": [
"clear;\n",
"clc;\n",
"printf('\n Example 3.5');\n",
"//rate of dissolution of salt\n",
"function[x]=dissolution(d)\n",
"   x = (3*10^(-6))-(2*10^(-4)*3.406*10^(5)*d^2);\n",
"   funcprot(0)\n",
"endfunction\n",
"\n",
"//rate of falling of the particle in stokes law region\n",
"function[y]=rate_h(d)\n",
"    y = 3.406*d^(2)/(-3*10^(-6)-68.1*d^2);//y is in m/sec\n",
"    funcprot(0);\n",
"endfunction\n",
"\n",
"printf('\n By trial and error the solution for d is 0.88 mm');\n",
"printf('\n The rate of dissolution is %f ',dissolution(8.8*10*(-4)));\n",
"printf('\n The rate of falling of the particle is %f m/sec',rate_h(8.8*10^(-4)));\n",
"\n",
""
   ]
   }
],
"metadata": {
		  "kernelspec": {
		   "display_name": "Scilab",
		   "language": "scilab",
		   "name": "scilab"
		  },
		  "language_info": {
		   "file_extension": ".sce",
		   "help_links": [
			{
			 "text": "MetaKernel Magics",
			 "url": "https://github.com/calysto/metakernel/blob/master/metakernel/magics/README.md"
			}
		   ],
		   "mimetype": "text/x-octave",
		   "name": "scilab",
		   "version": "0.7.1"
		  }
		 },
		 "nbformat": 4,
		 "nbformat_minor": 0
}
