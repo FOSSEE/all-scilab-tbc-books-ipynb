{
"cells": [
 {
		   "cell_type": "markdown",
	   "metadata": {},
	   "source": [
       "# Chapter 15: Crystallisation"
	   ]
	},
{
		   "cell_type": "markdown",
		   "metadata": {},
		   "source": [
			"## Example 15.1: Supersaturation_ratio.sci"
		   ]
		  },
  {
"cell_type": "code",
	   "execution_count": null,
	   "metadata": {
	    "collapsed": true
	   },
	   "outputs": [],
"source": [
"clear;\n",
"clc;\n",
"printf('\n Example 15.1');\n",
"printf('\n For concentrations in kg sucrose/kg water:');\n",
"c = 2.45;                //concentration is in kg/kg\n",
"printf('\n c = %.2f kg/kg',c);\n",
"c1= 2.04;                //concentration is in kg/kg\n",
"printf('\n c1 = %.2f kg/kg',c1);\n",
"S = c/c1;\n",
"printf('\n S = %.2f',S);\n",
"\n",
"printf('\n\n For concentrations in kg sucrose/kg water:')\n",
"co = c/(c+1);            //concentration is in kg/kg solution\n",
"printf('\n co = %.3f kg/kg solution',co);\n",
"co1 = c1/(c1 + 1);       //concentration is in kg/kg solution\n",
"printf('\n co1 = %.3f kg/kg solution',co1);\n",
"S = co/co1;\n",
"printf('\n S = %.2f ',S);\n",
"\n",
"\n",
"\n",
"\n",
"\n",
"\n",
"\n",
"\n",
"\n",
"\n",
""
   ]
   }
,
{
		   "cell_type": "markdown",
		   "metadata": {},
		   "source": [
			"## Example 15.2: Increase_in_solubility.sci"
		   ]
		  },
  {
"cell_type": "code",
	   "execution_count": null,
	   "metadata": {
	    "collapsed": true
	   },
	   "outputs": [],
"source": [
"clear;\n",
"clc;\n",
"printf('\n Example 15.2');\n",
"printf('\n For barium sulphate');\n",
"\n",
"function[x] = increase_barium(d)\n",
"    y = exp((2*233*0.13)/(2*8314*298*4500*d));\n",
"    x = y-1;\n",
"    funcprot(0);\n",
"endfunction\n",
"i=1;\n",
"d = [0.5 0.05 0.005];\n",
"while(i<=3)\n",
"    printf('\n Increase in solubility for barium sulphate fpr particle size %f um = %f per cent',d(i)*2,(increase_barium(d(i)*10^(-6))*100));\n",
"    i = i+1;\n",
"end\n",
"\n",
"printf('\n For Sucrose');\n",
"function[a] = increase_sucrose(d1)\n",
"    b = exp((2*342*0.01)/(1*8314*298*1590*d1));\n",
"    a = b-1;\n",
"    funcprot(0);\n",
"endfunction\n",
"j=1;\n",
"while(j<=3)\n",
"    printf('\n Increase in solubility for barium sulphate fpr particle size %f um = %f per cent',d(j)*2,(increase_sucrose(d(j)*10^(-6))*100));\n",
"    j = j+1;\n",
"end\n",
"\n",
"\n",
"    \n",
"    "
   ]
   }
,
{
		   "cell_type": "markdown",
		   "metadata": {},
		   "source": [
			"## Example 15.3: Theoretical_yield.sci"
		   ]
		  },
  {
"cell_type": "code",
	   "execution_count": null,
	   "metadata": {
	    "collapsed": true
	   },
	   "outputs": [],
"source": [
"clear;\n",
"clc;\n",
"printf('\n Example 15.3');\n",
"R = 322/142;\n",
"//The initial concentration \n",
"c1 = 1000/5000;               //Concentration is in kg Na2SO4/kg water\n",
"printf('\n The initial concentration c1 = %.1f kg Na2SO4/kg water',c1);\n",
"//The solubility\n",
"c2 = 9/100;                   //solubility is in Kg Na2SO4/kg water\n",
"printf('\n The solubility c2 = %.2f Kg Na2SO4/kg water',c2);\n",
"printf('\n Initial mass of water,w1 = 5000 kg and the water lost by evaporation E = %f kg/kg',2/100);\n",
"printf('\n yield y = %d kg Na2SO4.10H2O',(5000*2.27)*[0.2-0.09*(1-0.02)]/[1-0.09*(2.27-1)]);\n",
""
   ]
   }
,
{
		   "cell_type": "markdown",
		   "metadata": {},
		   "source": [
			"## Example 15.4: Yield_of_Sodium_acetate.sci"
		   ]
		  },
  {
"cell_type": "code",
	   "execution_count": null,
	   "metadata": {
	    "collapsed": true
	   },
	   "outputs": [],
"source": [
"clear;\n",
"clc;\n",
"printf('\n Example 15.4');\n",
"//Given data:\n",
"//Heat of crystallisation, q = 144 kJ/kg trihydrate\n",
"//Heat capacity of the solution, Cp = 3.5 kJ/kg deg K\n",
"//Latent heat of water at 1.33 kN/m2, λ = 2.46 MJ/kg\n",
"//Boiling point of water at 1.33 kN/m2 = 290.7 K\n",
"//Solubility of sodium acetate at 290.7 K, c2 = 0.539 kg/kg water\n",
"\n",
"//Equilibrium liquor temperature\n",
"T = 290.7+11.5;\n",
"printf('\n Equilibrium liquor temperature is%.1f K',T);\n",
"\n",
"//Initial concentration\n",
"c1 = 40/(100-40);\n",
"printf('\n Initial concentration c1 = % .3f kg/kg water',c1);\n",
"\n",
"//Final concentration\n",
"c2 = 0.539;\n",
"printf('\n Final concentration,c2 = %.3f kg/kg water',c2);\n",
"\n",
"//Ratio of molecular masses\n",
"printf('\n Ratio of molecular masses,R = %.2f',136/82);\n",
"\n",
"E = {144*1.66*(0.667-0.539)+3.5*(353-302.2)*(1+0.667)*[1-0.539*(1.66-1)]}/{2460*[1-0.539*(1.66-1)]-(144*1.66*0.539)};\n",
"printf('\n\n\n E = %.3f kg/kg water originally present',E);\n",
"printf('\n yeild y = %.3f kg/sec',(0.56*(100-40)/100)*1.66*[0.667-0.539*(1-0.153)]/[1-0.539*(1.66-1)]);\n",
"\n",
"\n",
""
   ]
   }
,
{
		   "cell_type": "markdown",
		   "metadata": {},
		   "source": [
			"## Example 15.5: Length_of_crystalliser.sci"
		   ]
		  },
  {
"cell_type": "code",
	   "execution_count": null,
	   "metadata": {
	    "collapsed": true
	   },
	   "outputs": [],
"source": [
"clear;\n",
"clc;\n",
"//The molecular mass of hydrate/molecular mass of anhydrate\n",
" R = 380/164;\n",
"printf('\n The molecular mass of hydrate/molecular mass of anhydrate,R = %.2f',R);\n",
"//It will be assumed that the evaporation is negligible and that E = 0.\n",
"c1 = 0.23;\n",
"printf('\n The initial concentration, c1 = %.2f kg/kg solution or %.2f kg/kg water',c1,c1/(1-c1));\n",
"c2 = 15.5;\n",
"printf('\n The final concentration, c2 = %.1f kg/kg water or 0.155 kg/kg water',c2);\n",
"w1 = 0.77;\n",
"printf('\n In 1 kg of the initial feed solution, there is 0.23 kg salt and 0.77 kg water and hence w1 = %.2f kg',w1);\n",
"y = 2.32*0.77*[0.30-0.155*(1-0)]/[1-0.155*(2.32-1)];\n",
"printf('\n yeild y = %.2f kg',y);\n",
"printf('\n In order to produce 0.063 kg/s of crystals, the required feed is: %.3f kg/sec',1*0.063/0.33);\n",
"q = 0.193*3.2*(313-298);\n",
"printf('\n The heat required to cool the solution %.1f kW',q);\n",
"q1 = 0.063*146.5;\n",
"printf('\n Heat of crystallisation = %.1f kW',q1);\n",
"printf('\n total heat loss = %.1f kW',q+q1);\n",
"printf('\n Assuming counter current flow');\n",
"deltaT1 = (313-293);\n",
"printf('\n deltaT1 = %d deg K',deltaT1);\n",
"deltaT2 = 298 - 288;\n",
"printf('\n deltaT2 = %d deg K',deltaT2);\n",
"deltaTlm = (deltaT1-deltaT2)/log(deltaT1/deltaT2);\n",
"printf('\n The logarithmic mean temperature is %.1f deg K',deltaTlm)\n",
"\n",
"A = (q+q1)/(0.14*14.4);\n",
"printf('\n The heat transfer area required, A= Q/UdeltaTm = %.1f m^2',A);\n",
"printf('\n Length of heat exchanger required = %.1f',A)\n",
"\n",
"printf('\n\n\n\n In practice 3 lengths, each of 3 m length would be specified.');\n",
"\n",
"\n",
"\n",
"\n",
"\n",
"\n",
"\n",
"\n",
"\n",
"\n",
"\n",
"\n",
"\n",
"\n",
"\n",
"\n",
"\n",
"\n",
"\n",
"\n",
"\n",
"\n",
"\n",
"\n",
"\n",
"\n",
"\n",
"\n",
"\n",
"\n",
"\n",
"\n",
"\n",
""
   ]
   }
,
{
		   "cell_type": "markdown",
		   "metadata": {},
		   "source": [
			"## Example 15.6: Crystal_production_rate.sci"
		   ]
		  },
  {
"cell_type": "code",
	   "execution_count": null,
	   "metadata": {
	    "collapsed": true
	   },
	   "outputs": [],
"source": [
"clear;\n",
"clc;\n",
"printf('\n Example 15.6');\n",
"down_time  = (4/0.00017);\n",
"printf('\n Draw down time = %d secs',down_time);\n",
"printf('\n\n\n              (a)');\n",
"printf('\n from a mass balance the total mass of solids is :')\n",
"cs = (6*0.6*2660*10^13)*(10^(-8)*23530)^4;\n",
"printf('\n cs = %d kg/m^3',cs);\n",
"printf('\n\n\n               (b)');\n",
"printf('\n The production rate = %.3f kg/sec',cs*0.00017);\n",
"\n",
"printf('\n The crystal population decreases exponentially with size ')\n",
"x = exp((-100*10^(-6))/(10^(-8)*23530));\n",
"printf('%d percent',x*100);\n",
"printf('\n Thus 34 percent have been discharged by the time they reach 100 um');\n",
"printf('\n\n\n               (c)');\n",
"//If (100 − 90) = 10 per cent of the nuclei remain and grow to >100 μm, then\n",
"t = poly([0],'t');\n",
"t1 = roots(t - 10^(4)/log(1/0.10));\n",
"printf('\n tr = %d secs',t1);\n",
"Q = poly([0],'Q');\n",
"Q1 = roots(Q + (4/4343-0.00017));\n",
"printf('\n Qf = %f m^3/sec',-Q1);\n",
"\n",
"\n",
"\n",
"\n",
"\n",
"\n",
"\n",
"\n",
"\n",
"\n",
"\n",
"\n",
""
   ]
   }
,
{
		   "cell_type": "markdown",
		   "metadata": {},
		   "source": [
			"## Example 15.7: Vapour_pressure.sci"
		   ]
		  },
  {
"cell_type": "code",
	   "execution_count": null,
	   "metadata": {
	    "collapsed": true
	   },
	   "outputs": [],
"source": [
"clear;\n",
"clc;\n",
"printf('\n Example 15.7');\n",
"l = poly([0],'l');\n",
"l1 = roots(log(780/220)-[l*(463-433)]/[8314*463*433]);\n",
"printf('\n λv = %d kj/kmol',l1);\n",
"P = poly([0],'P');\n",
"P1 = roots(P-220/exp(70340*(433-393)/(8.314*433*393)));\n",
"printf('\n   P = %d kN/m^2',P1);"
   ]
   }
,
{
		   "cell_type": "markdown",
		   "metadata": {},
		   "source": [
			"## Example 15.8: Mass_sublimation_rates.sci"
		   ]
		  },
  {
"cell_type": "code",
	   "execution_count": null,
	   "metadata": {
	    "collapsed": true
	   },
	   "outputs": [],
"source": [
"clear;\n",
"clc;\n",
"printf('\n Example 15.8');\n",
"printf('\n Vaporisation stage :');\n",
"Pt = 101.5;\n",
"Ps = 1.44;\n",
"Sv = 0.56*(138/29)*(1.44/(101.5-1.44));\n",
"printf('\n Sv = %.3f kg/sec',Sv);\n",
"\n",
"printf('\n\n COndensation stage: ')\n",
"Ptc = 100;\n",
"Psc = 0.0023;\n",
"S = 0.56*(138/29)*(0.0023/(100-0.0023));\n",
"printf('\n S = %f kg/sec',S);"
   ]
   }
],
"metadata": {
		  "kernelspec": {
		   "display_name": "Scilab",
		   "language": "scilab",
		   "name": "scilab"
		  },
		  "language_info": {
		   "file_extension": ".sce",
		   "help_links": [
			{
			 "text": "MetaKernel Magics",
			 "url": "https://github.com/calysto/metakernel/blob/master/metakernel/magics/README.md"
			}
		   ],
		   "mimetype": "text/x-octave",
		   "name": "scilab",
		   "version": "0.7.1"
		  }
		 },
		 "nbformat": 4,
		 "nbformat_minor": 0
}
