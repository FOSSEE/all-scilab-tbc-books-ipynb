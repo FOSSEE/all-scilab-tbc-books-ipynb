{
"cells": [
 {
		   "cell_type": "markdown",
	   "metadata": {},
	   "source": [
       "# Chapter 18: Ion Exchange"
	   ]
	},
{
		   "cell_type": "markdown",
		   "metadata": {},
		   "source": [
			"## Example 18.1: Prediction_of_time_t_against_xs_values.sci"
		   ]
		  },
  {
"cell_type": "code",
	   "execution_count": null,
	   "metadata": {
	    "collapsed": true
	   },
	   "outputs": [],
"source": [
"clear;\n",
"clc;\n",
"printf('\n Example 18.1');\n",
"Cse=0.132;        //in kg/kg\n",
"Cs = [0.091 0.097 0.105 0.113 0.125 0.128 0.132];\n",
"C = Cs/Cse;\n",
"C1 = 1-C;\n",
"C2 = 1-C^2;\n",
"t = [2 4 10 20 40 60 120];\n",
"//xset('window',1);\n",
"//\n",
"plot(t,C1,t,C2);\n",
"xtitle('1-(Cs/Cs* vs t(min)','1-(Cs/Cs*)','t(min)');\n",
"legend('1-(Cs/Cs*)','1-(Cs/Cs*)^2');\n",
"\n",
"//From the plot π^2Dr/ri^2 = 0.043\n",
"//For a pellet of twice the radius, that is r = 2ri\n",
"Slope = -0.043/4;\n",
"printf('\n Slope = %.3f',Slope);\n",
"\n",
"//Thus, when the radius = 2ri\n",
"function[x]=equation1(t)\n",
"    x = 1-(6/(%pi)^2)*exp(-Slope*t);\n",
"    funcprot(0);\n",
"endfunction\n",
"\n",
"//CS/CS*=[1 − exp(−κDR/tri^2)]^0.5\n",
"//κDR/ri^2 = 0.04\n",
"//For a pellet twice the size\n",
"\n",
"function[x1]=equation2(t)\n",
"    x1 = [1-exp(-0.01*t)]^0.5;\n",
"    funcprot(0);\n",
"endfunction\n",
"\n",
"printf('\n t(min)               Cs(kg/kg)       ');\n",
"printf('\n               equation(i)         equation(ii)  ');\n",
"t = [4 20 60];               //t is in min\n",
"i=1;\n",
"while i<=3\n",
"printf('\n %f                %f                    %f      ',t(i),Cse*equation1(t(i)),Cse*equation2(t(i)));\n",
"i=i+1;\n",
"end\n",
"    \n",
"    \n",
"    \n",
"    \n",
"    \n",
"    \n",
"    \n",
"    \n",
"    \n",
"    \n",
"    \n",
"    \n",
"\n",
"\n",
""
   ]
   }
,
{
		   "cell_type": "markdown",
		   "metadata": {},
		   "source": [
			"## Example 18.2: Concentration_of_HNO3_in_solution.sci"
		   ]
		  },
  {
"cell_type": "code",
	   "execution_count": null,
	   "metadata": {
	    "collapsed": true
	   },
	   "outputs": [],
"source": [
"clear;\n",
"clc;\n",
"printf('\n Example 18.2');\n",
"c_NaNO3 = 2;               //per cent by mass\n",
"printf('\n Concentration of NaNO3 is %.3f kg/m^3',(c_NaNO3/85)*(103/100));\n",
" \n",
" //HNO3 (Molecular weight = 63 kg/kmol)\n",
"//Concentration = p per cent\n",
"//Concentration = (10p/63)(1030/1000)= 0.163p kg/m3\n",
"//In the solution: xNa+ = 0.242/(0.242 + 0.163p)\n",
"//For univalent ion exchange\n",
"//yNa+/(1 − yNa+ ) = KNa+H + [xNa+ /(1 − xNa+)]\n",
"\n",
"yNa = 0.1;\n",
"K_NaH = 2/1.3;\n",
"p = poly([0],'p');\n",
"p1 = roots((0.1/0.9)*[0.163*p*(0.242+0.163*p)]-1.5*[0.242*(0.242+0.163*p)]);\n",
"printf('\n p = %d percent',p1(1));\n",
"\n",
"\n",
""
   ]
   }
],
"metadata": {
		  "kernelspec": {
		   "display_name": "Scilab",
		   "language": "scilab",
		   "name": "scilab"
		  },
		  "language_info": {
		   "file_extension": ".sce",
		   "help_links": [
			{
			 "text": "MetaKernel Magics",
			 "url": "https://github.com/calysto/metakernel/blob/master/metakernel/magics/README.md"
			}
		   ],
		   "mimetype": "text/x-octave",
		   "name": "scilab",
		   "version": "0.7.1"
		  }
		 },
		 "nbformat": 4,
		 "nbformat_minor": 0
}
