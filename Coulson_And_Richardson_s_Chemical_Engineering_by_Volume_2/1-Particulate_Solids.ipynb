{
"cells": [
 {
		   "cell_type": "markdown",
	   "metadata": {},
	   "source": [
       "# Chapter 1: Particulate Solids"
	   ]
	},
{
		   "cell_type": "markdown",
		   "metadata": {},
		   "source": [
			"## Example 1.1: Surface_mean_diameter.sce"
		   ]
		  },
  {
"cell_type": "code",
	   "execution_count": null,
	   "metadata": {
	    "collapsed": true
	   },
	   "outputs": [],
"source": [
"clear; \n",
"clc;\n",
"printf('\n Example 1.1');\n",
"//Given size analysis of a powdered material\n",
"d=[1,101];//diameter of the powdered particles\n",
"x=[0,1];//mass fractions of the particles\n",
"plot2d(d,x,style=2,rect=[0,0,120,1])\n",
"xtitle('size analysis of powder','particle size(um)','mass fraction(x)')\n",
"d=100*x+1; // from the given plot\n",
"//calculation of surface mean diameter\n",
"function[ds]=surface_mean_diameter(x0,x1)\n",
"    ds=1/(integrate('1/(100*x+1)','x',x0,x1))\n",
"    funcprot(0)\n",
"endfunction\n",
"ds=surface_mean_diameter(0,1);//deduced surface mean diameter according to def.\n",
"printf('\n The surface mean diameter is %fum',ds);\n",
"\n",
" "
   ]
   }
,
{
		   "cell_type": "markdown",
		   "metadata": {},
		   "source": [
			"## Example 1.2: Surface_and_mass_distribution_curve_and_surface_mean_diameter.sce"
		   ]
		  },
  {
"cell_type": "code",
	   "execution_count": null,
	   "metadata": {
	    "collapsed": true
	   },
	   "outputs": [],
"source": [
"clear;\n",
"clc;\n",
"printf('\n Example 1.2');\n",
"//from given differential eq we get these functions\n",
"//particle number distribution for the size range 0-10um\n",
"\n",
"\n",
"//n=0.5*d^2;\n",
"//const of integration is0 since at n=0,d=0\n",
"\n",
"//particle number distribution for the size range 10-100um\n",
"//n=83-(0.33*(10^(5))*d^(-3))\n",
"//c2=83,since at d=10um,n=50\n",
"\n",
"//number distribution plot for the powdered material of size range 0-100um\n",
"function[n]= number_distribution(d)\n",
"    if(d<=10) then\n",
"        n=0.5*d^2;\n",
"    else\n",
"        n=83-(0.33*(10^(5))*d^(-3));\n",
"        end\n",
"        funcprot(0)\n",
"endfunction\n",
"d=0;\n",
"while(d<=100)\n",
"  n=number_distribution(d);\n",
"    plot(d,n,'+-');\n",
"    d=d+1; \n",
"end \n",
"xtitle('number_distribution_plot','diameter(um)','number distribution');\n",
"ps=[0 6.2 9.0 10.0 11.4 12.1 13.6 14.7 16.0 17.5 19.7 22.7 25.5 31.5 100];\n",
"function[n1]=difference(i)\n",
"//ps=[0 6.2 9.0 10.0 11.4 12.1 13.6 14.7 16.0 17.5 19.7 22.7 25.5 31.5 10];\n",
"//according to the given particle sizes particle sizes are in um\n",
"    n1=number_distribution(ps(i+1))-number_distribution(ps(i));\n",
"    funcprot(0);\n",
"endfunction\n",
"function[da]=average(i)\n",
"    da= (ps(i+1)+ps(i))/2;\n",
"    funcprot(0);\n",
"endfunction \n",
"tot_n1d12=0;\n",
"tot_n1d13=0;\n",
"i=1;\n",
"for i=1:14 \n",
"        tot_n1d12=tot_n1d12+difference(i)*(average(i))^2;\n",
"        tot_n1d13=tot_n1d13+difference(i)*(average(i))^3;\n",
"end\n",
"printf('\n tot_n1d12 =%d \n tot_n1d13=%d',tot_n1d12,tot_n1d13);\n",
"function[s]=surface_area(j)\n",
"    s=(difference(j)*(average(j))^2)/tot_n1d12;\n",
"    funcprot(0);\n",
"endfunction\n",
"su=0;\n",
"j=0;\n",
"xset('window',1);\n",
"\n",
"plot(0,0,'o-');\n",
"for j=1:14\n",
"    su=su+surface_area(j);\n",
"    plot(ps(j+1),su,'o-');\n",
"end\n",
"xtitle('surface area and mass distribution plot','diameter(um)','surface area or mass distribution');\n",
"//mass distribution plot\n",
"function[x]=mass_distribution(k)\n",
"    x=(difference(k)*(average(k))^3)/tot_n1d13;\n",
"    funcprot(0);\n",
"endfunction\n",
"ma=0;\n",
"k=0;\n",
"plot(0,0,'+-');\n",
"for k=1:14\n",
"    ma=ma+mass_distribution(k);\n",
"    plot(ps(k+1),ma,'+-');\n",
"end\n",
"//evaluating surface mean diameter\n",
"function[d]=surface_mean_diameter(l)\n",
"    e=0;\n",
"    for l=1:14\n",
"       n=(mass_distribution(l)/average(l));\n",
"       e=e+n;\n",
"    end\n",
"d=1/e;\n",
"    funcprot(0);\n",
"endfunction\n",
"printf('\nthe surface mean diameter is: %fum',surface_mean_diameter());\n",
"    "
   ]
   }
,
{
		   "cell_type": "markdown",
		   "metadata": {},
		   "source": [
			"## Example 1.3: variation_of_mixing_index_with_time.sci"
		   ]
		  },
  {
"cell_type": "code",
	   "execution_count": null,
	   "metadata": {
	    "collapsed": true
	   },
	   "outputs": [],
"source": [
"clear all;\n",
"clc;\n",
"printf('\n Example 1.3');\n",
"p=0.20;//components analysed represents 20 percent of the mixture by mass\n",
"//for a completely unmixed system\n",
"so=p*(1-p);\n",
"//for a completely random mixture :\n",
"n=100;//Each of the sample removed contains 100 particles\n",
"sr=p*(1-p)/n;\n",
"s=[0.025 0.006 0.015 0.018 0.019];\n",
"time_secs=[30 60 90 120 150];\n",
"printf('\n degree of mixing is :\n')\n",
"function[b]=degree_of_mixing()\n",
"for i=1:5\n",
"    b(i)=(so-s(i))/(so-sr);\n",
"    disp(b(i));//b is the degree of mixing\n",
"end\n",
"    return b;\n",
"funcprot(0)\n",
"endfunction\n",
"plot2d(time_secs,degree_of_mixing(),style=3)\n",
"xtitle('degree of mixing curve','time_secs','degree_of_mixing')\n",
"//plot of sample variance vs time(secs)\n",
"xset('window',1)\n",
"plot2d(time_secs,s,style=2)\n",
"xtitle('sample variance curve','time_secs','sample variance')\n",
"//from the graph the maxima is at 60 secs\n",
"\n",
"\n",
""
   ]
   }
,
{
		   "cell_type": "markdown",
		   "metadata": {},
		   "source": [
			"## Example 1.4: minimum_apparent_density_for_seperation.sci"
		   ]
		  },
  {
"cell_type": "code",
	   "execution_count": null,
	   "metadata": {
	    "collapsed": true
	   },
	   "outputs": [],
"source": [
"//minimum size of the particle in the mixture of quartz and galena(mm)\n",
"clear all;\n",
"clc;\n",
"printf('\n Example 1.4');\n",
"\n",
"//maximum size of the particle(mm)\n",
"d_max=0.065;\n",
"//minimum size of the particle(mm)\n",
"d_min=0.015;\n",
"//density of quartz(kg/m^3)\n",
"p_quartz=2650;\n",
"//density of galena (kg/m^3)\n",
"p_galena=7500;\n",
"//minimum density of the particle which will give this seperation\n",
"//When stoke's law is applied the required density is as given below\n",
"function[d]=stoke_required_density()\n",
"    p=poly([0],'p');\n",
"    d=roots((p-7500)-(p-2650)*(d_max/d_min)^2);\n",
"    funcprot(0);\n",
"endfunction\n",
"d=stoke_required_density();\n",
"printf('\n required density is = %d kg/m^3',d);\n",
"//When Newton's law is applied then the required density is as given below\n",
"function[e]=newton_required_density()\n",
"    r=poly([0],'r');\n",
"    e=roots((r-7500)-(r-2650)*(d_max/d_min));\n",
"    funcprot(0);\n",
"endfunction\n",
"e=newton_required_density();\n",
"printf('\nrequired density is by newton law =%d kg/m^3',e);"
   ]
   }
,
{
		   "cell_type": "markdown",
		   "metadata": {},
		   "source": [
			"## Example 1.5: efficiency_of_collection_for_dust.sce"
		   ]
		  },
  {
"cell_type": "code",
	   "execution_count": null,
	   "metadata": {
	    "collapsed": true
	   },
	   "outputs": [],
"source": [
"clear;\n",
"clc;\n",
"printf('\n Example 1.5');\n",
"//efficiency of the collector for different size ranges\n",
"efficiency_1=45;//in percentage for the size range of 0-5um\n",
"efficiency_2=80;//in percentage for the size range of 5-10um\n",
"efficiency_3=96;//in percentage for the size range greater than 10um\n",
"\n",
"//mass percent of the ndust for various size range\n",
"mass_1=50; //in percentage for the size range of 0-5um\n",
"mass_2=30; //in percetage for the size range of 5-10um\n",
"mass_3=20; //in percentage for the size range greater than 10um\n",
"// on the basis of 100kg dust\n",
"mass_retained_1=0.45*50;//mass retained(kg) in the size range of 0-5um\n",
"mass_retained_2=0.80*30;//mass retained(kg) in the size range of 5-10um\n",
"mass_retained_3=0.96*20;//mass retained(kg) in the size range greater than10um\n",
"overall_efficiency=0.45*50+0.80*30+0.96*20;\n",
"printf('\n the overall efficiency is =%f',overall_efficiency);"
   ]
   }
,
{
		   "cell_type": "markdown",
		   "metadata": {},
		   "source": [
			"## Example 1.6: Overall_efficiency_of_collector.sce"
		   ]
		  },
  {
"cell_type": "code",
	   "execution_count": null,
	   "metadata": {
	    "collapsed": true
	   },
	   "outputs": [],
"source": [
"clear;\n",
"clc;\n",
"printf('\n Example 1.6');\n",
"//To calculate mass flow of the dust emitted\n",
"mass_1=10;//in percentage in the size range of 0-5um\n",
"mass_2=15;//in percentage in the size range of 5-10um\n",
"mass_3=35;//in percentage in the size range of 10-20um\n",
"mass_4=20;//in percentage in the size range of 20-40um\n",
"mass_5=10;//in percentage in the size range of 40-80um\n",
"mass_6=10;//in percentage in the size range of 80-160um\n",
"efficiecny_1=20;//in percentage in the size range of 0-5um\n",
"efficiency_2=40;//in percentage in the size range of 5-10um\n",
"efficiency_3=80;//in percentage in the size range of 10-20um\n",
"efficiency_4=90;//in percentage in the size range of 20-40um\n",
"efficiency_5=95;//in percentage in the size range of 40-80um\n",
"efficiency_6=100;//in percentage in the size range of 80-160um\n",
"dust_burden=18;//in g/m^3 at the entrance\n",
"//taking 1m^3 as the basis of calculation\n",
"total_mass_retained=18*(0.1*0.20+0.15*0.40+0.35*0.80+0.2*0.9+0.1*0.95+0.1*1);\n",
"printf('\ntotal mass retained =%fg',total_mass_retained);\n",
"total_efficiency=(total_mass_retained/18)*100;\n",
"printf('\ntotal efficiency is =%f',total_efficiency);\n",
"total_mass_emitted=18-total_mass_retained;\n",
"printf('total mass emitted is:%fg',total_mass_emitted);\n",
"t=18*(0.1*0.80+0.15*0.60+0.35*0.20);\n",
"printf('\ntotal mass emitted less than 20um is %fg',t);\n",
"e=t*100/total_mass_emitted;\n",
"printf('\nThe efficiency of particles emitted is %f',e);\n",
"//gas flow is 0.3m^3/sec\n",
"f=0.3*total_mass_emitted;\n",
"printf('\nmass flow rate is:%fkg/sec',f);\n",
" \n",
"\n",
"\n",
""
   ]
   }
,
{
		   "cell_type": "markdown",
		   "metadata": {},
		   "source": [
			"## Example 1.7: Estimation_of_particle_size.sce"
		   ]
		  },
  {
"cell_type": "code",
	   "execution_count": null,
	   "metadata": {
	    "collapsed": true
	   },
	   "outputs": [],
"source": [
"clear;\n",
"clc;\n",
"printf('\n Example 1.7');\n",
"Ai=(%pi/4)*(0.075)^2;//cross sectional area at the gas inlet in m^2\n",
"do=0.075;//gas outlet diameter in m\n",
"p=1.3;//gas density in kg/m^3\n",
"Z=1.2;//height of the seperator in m\n",
"dt=0.3;//seperator diameter in m\n",
"v=1.5;//gas entry velocity in m/sec\n",
"G=(Ai*v*p);//mass flow rate of the gas in kg/sec\n",
"printf('\n cross sectional area at the gas inlet is %fm^2',Ai);\n",
"printf('\ngas outlet diameter is %fm',do);\n",
"printf('\ngas density is %fkg/m^3',p);\n",
"printf('\nheight of the seperator is %fm',Z);\n",
"printf('\nseperator diameter is%fm',dt);\n",
"printf('\nmass flow rate of the gas is %fkg/sec',G);\n",
"function[u]=terminal_vel()\n",
"    u=0.2*(Ai)^2*(do)*p*9.8/(%pi*Z*(dt)*G);//velocity is in m/sec\n",
"    funcprot(0);\n",
"endfunction\n",
"u=terminal_vel();\n",
"printf('\nthe terminal velocity of the smallest particle retained by the seperator =%fm/sec',u);\n",
"function[d]=particle_diameter(u)\n",
"    u=terminal_vel();\n",
"    n=0.018*10^(-3);//viscosity in mNs/m^2\n",
"    ps=2700;//density of the particle in kg/m^3\n",
"    d=((u*18*n)/(9.8*(ps-p)))^(0.5);//particle size in um\n",
"    funcprot(0);\n",
"endfunction\n",
"u=terminal_vel();\n",
"d=particle_diameter(u);\n",
"do=d*10^6;\n",
"printf('\n particle diameter by the stoke law is %fum',do);\n",
""
   ]
   }
],
"metadata": {
		  "kernelspec": {
		   "display_name": "Scilab",
		   "language": "scilab",
		   "name": "scilab"
		  },
		  "language_info": {
		   "file_extension": ".sce",
		   "help_links": [
			{
			 "text": "MetaKernel Magics",
			 "url": "https://github.com/calysto/metakernel/blob/master/metakernel/magics/README.md"
			}
		   ],
		   "mimetype": "text/x-octave",
		   "name": "scilab",
		   "version": "0.7.1"
		  }
		 },
		 "nbformat": 4,
		 "nbformat_minor": 0
}
