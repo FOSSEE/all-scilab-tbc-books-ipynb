{
"cells": [
 {
		   "cell_type": "markdown",
	   "metadata": {},
	   "source": [
       "# Chapter 13: Liquid liquid extraction"
	   ]
	},
{
		   "cell_type": "markdown",
		   "metadata": {},
		   "source": [
			"## Example 13.1: Composition_of_final_raffinate.sci"
		   ]
		  },
  {
"cell_type": "code",
	   "execution_count": null,
	   "metadata": {
	    "collapsed": true
	   },
	   "outputs": [],
"source": [
"clear all;\n",
"clc;\n",
"printf('\n Example 13.1');\n",
"printf('\n    (a) Countercurrent operation');\n",
"//(a) Countercurrent operation\n",
"S = 1.6*10^(-4);               //Solvent flow rate in m^3/sec\n",
"mass_flowrate = (S*800);       //mass flow rate is in kg/sec\n",
"\n",
"//Considering the solution, 400cm3/s = 4 × 10−4 m^3/sec containing, say, a m^3/sec A and (5 × 10−4 − a) m3/sec B.\n",
"//Thus mass flow rate of A = 1200a kg/sec\n",
"//and mass flow rate of B = (4*10^(-4)-a)*1000 = (0.4-1000a)kg/sec\n",
"//a total of:                    (0.4+200a) kg/sec\n",
"C = poly([0],'C');\n",
"C1 = roots(0.1*(0.4+200*C)-1200*C);\n",
"printf('\n Concentration of the solution is %.2f*10^(-5) m^3/sec',C1*10^5);\n",
"printf('\n mass flow rate of A = %.3f kg/sec',1200*C1);\n",
"printf('\n mass flow rate of B =%.3f kg/sec',0.4+200*C1);\n",
"printf('\n Ratio of A/B in the feed, Xf = %.3f kg/kg',0.041/0.366);\n",
"\n",
"X = [0.05 0.10 0.15];\n",
"Y = [0.069 0.159 0.258];\n",
"plot(X,Y);\n",
"xtitle('Equilibrium curve','kg A/kg B','kg A/kg S');\n",
"//From The curve:\n",
"slope = 0.366/0.128;\n",
"printf('\n Slope of the equilibrium line is %.2f',slope);\n",
"\n",
"//Since pure solvent is added, Yn+1 = Y4 = 0 and a line of slope 2.86 is drawn in such that stepping off from Xf = 0.112 kg/kg to Y4 = 0 gives exactly three stages. When Y4 = 0, Xn = X3 = 0.057 kg/kg\n",
"printf('\n The composition of final raffinate is 0.057kg A/kg B');\n",
"\n",
"printf('\n\n\n      (b)Multiple contact');\n",
"printf('\n Stage 1');\n",
"printf('\n In this case %.4f kg/sec',0.128/3);\n",
"//and from the equilibrium curve, the extract contains 0.18 A/kg S and (0.18 × 0.0427) = 0.0077 kg/s A.\n",
"printf('\n Thus raffinate from stage 1 contains %.4f kg/sec Aand %.3f kg/sec B',(0.041-0.0077),0.366);\n",
"X1 = 0.0333/0.366;\n",
"printf('\n X1 = %.3f kg/kg',0.0333/0.366);\n",
"\n",
"printf('\n Stage 2');\n",
"//the extract contains 0.14 kg A/kg S\n",
"printf('\n The extract contains %.4f kg/sec A',0.14*0.0427);\n",
"//Thus: the raffinate from stage 2 contains (0.0333 − 0.0060) = 0.0273 kg/s A and 0.366 kg/s B\n",
"X2 = (0.0273/0.366);\n",
"printf('\n X2 = %.3f kg/kg',X2);\n",
"\n",
"printf('\n Stage 3');\n",
"//the extract contains 0.114 kg A/kg S\n",
"printf('\n The extract contains %.4f kg/sec A/kg S',0.114*0.0427);\n",
"printf('\n Thus the raffinate contains %.4f kg/sec A and %.3f kg/sec B',(0.0273-0.0049),0.366);\n",
"printf('\n The composition of final raffinate = %3f kg A/kg B',0.0224/0.366);\n",
"\n",
"\n",
"\n",
"\n",
"\n",
"\n",
"\n",
"\n",
"\n",
"\n",
"\n",
"\n",
""
   ]
   }
,
{
		   "cell_type": "markdown",
		   "metadata": {},
		   "source": [
			"## Example 13.3: Overall_transfer_coefficient.sci"
		   ]
		  },
  {
"cell_type": "code",
	   "execution_count": null,
	   "metadata": {
	    "collapsed": true
	   },
	   "outputs": [],
"source": [
"clear all;\n",
"clc;\n",
"printf('\n Example 13.3');\n",
"//From the equilibrium relationship\n",
"CB1 = (0.0247*0.685);\n",
"printf('\n CB1* = %.4f kmol/m^3',CB1);\n",
"CB2 = (0.0247*0.690);\n",
"printf('\n CB2* = %.4f kmol/m^3',CB2);\n",
"\n",
"//Thus the driving force at the bottom:\n",
"deltaC1 = (0.0169-0.0040);\n",
"printf('\n deltaC1 =%.4f kmol/m^3',deltaC1);\n",
"//Driving force at the top \n",
"deltaC2 = (0.0170-0.0115);\n",
"printf('\n deltaC2 = %.4f kmol/m^3',deltaC2);\n",
"function[x]= log_mean_driving_force()\n",
"    x = (deltaC1 - deltaC2)/log((deltaC1)/deltaC2);\n",
"    funcprot(0);\n",
"endfunction\n",
"printf('\n log mean driving force is given by deltaClm = %.4f kmol/m^3',log_mean_driving_force());\n",
"KBa = (4.125*10^(-8))/(log_mean_driving_force()*0.0063);\n",
"printf('\n KBa = %.1f*10^(-4) kmol/sec m^3(kmol/m^3)',KBa*10^4);\n",
"HoB = (1.27*10^(-3))/KBa;\n",
"printf('\n HoB = %.2f meters',HoB);\n",
"\n",
""
   ]
   }
,
{
		   "cell_type": "markdown",
		   "metadata": {},
		   "source": [
			"## Example 13.4: Surface_mean_droplet_size.sci"
		   ]
		  },
  {
"cell_type": "code",
	   "execution_count": null,
	   "metadata": {
	    "collapsed": true
	   },
	   "outputs": [],
"source": [
"clear all;\n",
"clc;\n",
"printf('\n Example 13.4');\n",
"diameter = [2 3 4 5 6];\n",
"number = [30 120 200 80 20];\n",
"\n",
"function[x] = Sum_d1cube()\n",
"    sum = 0;\n",
"    i = 1;\n",
"    while (i <= 5)\n",
"        sum = sum + number(i)*(diameter(i))^3;\n",
"        i = i+1;\n",
"    end\n",
"    x = sum;\n",
"    funcprot(0);\n",
"endfunction\n",
"\n",
"function[y]=sum_d1square()\n",
"    sum1 = 0;\n",
"    j=1;\n",
"    while(j<=5)\n",
"        sum1 = sum1 + number(j)*(diameter(j))^2;\n",
"        j= j+1;\n",
"    end\n",
"    y = sum1;\n",
"    funcprot(0);\n",
"endfunction\n",
"\n",
"function[z]= ds()\n",
"    z = Sum_d1cube()/sum_d1square();\n",
"    funcprot(0);\n",
"endfunction\n",
"printf('\n Mean droplet size = %.2f mm',ds());\n",
"\n",
"        \n",
"         "
   ]
   }
,
{
		   "cell_type": "markdown",
		   "metadata": {},
		   "source": [
			"## Example 13.5: Number_of_overall_transfer_units_in_raffinate_phase.sci"
		   ]
		  },
  {
"cell_type": "code",
	   "execution_count": null,
	   "metadata": {
	    "collapsed": true
	   },
	   "outputs": [],
"source": [
"clear all;\n",
"clc;\n",
"printf('\n Example 13.5');\n",
"CSA = (%pi/4)*(0.075)^2;             //cross sectional area is in m^2\n",
"V = (0.0044*3);                      //volume of packing is in m^3\n",
"C = 0.01;                            //concentration is in kg/kg\n",
"printf('\n mass of acid transferred to the ether %.4f kg/m^2.sec or %f kg/sec',0.05*(0.01-0),0.005*0.0044);\n",
"printf('\n Acid in the aqueous feed = %.2f kg/m^3.sec',0.25*0.04);\n",
"printf('\n Acid in the raffinate = %.3f kg/m^2.sec',0.01-0.005);\n",
"printf('\n Concentration of acid in the raffinate = %.2f kg/kg',0.005/0.25);\n",
"printf('\n At the top of the column');\n",
"CR2 = 0.040;               //Concentration is in kg/kg\n",
"CR22 = 0.040*0.3;          //Concentration is in kg/kg\n",
"deltaC2 = (0.012-0.010);\n",
"printf('\n deltaC2 = %.3f kg/kg',deltaC2);\n",
"printf('\n\n At the bottom of the column');\n",
"CR1 = 0.20;               //Concentration is in kg/kg\n",
"CR11 = 0.020*0.3          //Concentration is in kg/kg\n",
"deltaC1 = 0.006 -0;       //Concentration is in kg/kg\n",
"printf('\n deltaC1 = %.3f kg/kg',deltaC1);\n",
"deltaCRlm = (0.006-0.002)/log(0.006/0.002);\n",
"printf('\n Logarithmic driving force is : %.4f kg/kg',deltaCRlm);\n",
"KRa = 0.000022/(0.01333*deltaCRlm);\n",
"printf('\n KRa = %.3f kg/m^3.sec(kg/kg)',KRa);\n",
"printf('\n Height of an overall transfer unit = %.2f m',0.25/KRa);\n",
"printf('\n The number of overall transfer units = %.2f ',3/0.54);\n",
""
   ]
   }
],
"metadata": {
		  "kernelspec": {
		   "display_name": "Scilab",
		   "language": "scilab",
		   "name": "scilab"
		  },
		  "language_info": {
		   "file_extension": ".sce",
		   "help_links": [
			{
			 "text": "MetaKernel Magics",
			 "url": "https://github.com/calysto/metakernel/blob/master/metakernel/magics/README.md"
			}
		   ],
		   "mimetype": "text/x-octave",
		   "name": "scilab",
		   "version": "0.7.1"
		  }
		 },
		 "nbformat": 4,
		 "nbformat_minor": 0
}
