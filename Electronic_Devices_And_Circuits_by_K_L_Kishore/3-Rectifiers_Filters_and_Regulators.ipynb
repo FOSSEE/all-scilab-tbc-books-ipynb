{
"cells": [
 {
		   "cell_type": "markdown",
	   "metadata": {},
	   "source": [
       "# Chapter 3: Rectifiers Filters and Regulators"
	   ]
	},
{
		   "cell_type": "markdown",
		   "metadata": {},
		   "source": [
			"## Example 3.10: Half_Wave_Rectifier.sce"
		   ]
		  },
  {
"cell_type": "code",
	   "execution_count": null,
	   "metadata": {
	    "collapsed": true
	   },
	   "outputs": [],
"source": [
"// Example 3.10 page no-170\n",
"clear\n",
"clc\n",
"\n",
"Vdc=(100/(2*%pi))*(-cos(5*%pi/6)+cos(%pi/6))\n",
"printf('\nVdc=%.1f V',Vdc)\n",
"Vrms=sqrt(3.1)*Vdc\n",
"printf('\nVrms=%.1fV',Vrms)"
   ]
   }
,
{
		   "cell_type": "markdown",
		   "metadata": {},
		   "source": [
			"## Example 3.11: FWR_with_C_type_capacitor_filter.sce"
		   ]
		  },
  {
"cell_type": "code",
	   "execution_count": null,
	   "metadata": {
	    "collapsed": true
	   },
	   "outputs": [],
"source": [
"// Example 3.11 page no-172\n",
"clear\n",
"clc\n",
"\n",
"\n",
"//(a)\n",
"vdc=30  //V\n",
"idc=0.05  //A\n",
"rl=vdc/idc\n",
"f=50     ///Hz\n",
"c=80*10^-6  //F\n",
"vm=vdc+(idc/(4*f*c))\n",
"printf('\n(a)\nRL=%.0f Ohm\nVm=%.3fV\nVrms=%.1fV',rl,vm,vm/sqrt(2))\n",
"//(b)\n",
"is=vm*2*%pi*f*c\n",
"printf('\n\n(b)\nI_diode swing/I_diode mean = %.2f',is/idc)\n",
"//(c)\n",
"gam=4*sqrt(3)*f*c*rl\n",
"gam=1/gam\n",
"printf('\n\n(c)\ngamma=%.2f',gam)"
   ]
   }
,
{
		   "cell_type": "markdown",
		   "metadata": {},
		   "source": [
			"## Example 3.12: Full_wave_rectifier_circuit.sce"
		   ]
		  },
  {
"cell_type": "code",
	   "execution_count": null,
	   "metadata": {
	    "collapsed": true
	   },
	   "outputs": [],
"source": [
"// Example 3.12 page no-173\n",
"clear\n",
"clc\n",
"\n",
"vm=25\n",
"vp=35.4       //V\n",
"vdc=2*vp/%pi  //V\n",
"vrms=sqrt(vm^2-vdc^2)\n",
"\n",
"rl=25\n",
"im= vp/rl\n",
"idc=2*im/%pi\n",
"irms=sqrt(1-idc^2)\n",
"printf('\nVdc=%.1f V\nVrms=%.2f V\nIm=%.2f A\nIdc=%.2f A\nIrms=%.3f A',vdc,vrms,im,idc,irms)"
   ]
   }
,
{
		   "cell_type": "markdown",
		   "metadata": {},
		   "source": [
			"## Example 3.13: Shunt_regulator.sce"
		   ]
		  },
  {
"cell_type": "code",
	   "execution_count": null,
	   "metadata": {
	    "collapsed": true
	   },
	   "outputs": [],
"source": [
"// Example 3.13 page no-176\n",
"clear\n",
"clc\n",
"veb=0.2 //V\n",
"hfe=49 \n",
"vz=6.3  //V\n",
"i=5*10^-3\n",
"vi=8\n",
"//(1)\n",
"y=veb+vz\n",
"printf('\n1. The nominal output voltage is the sum of the transistor V_EB and zener voltage.\nV0=%.1f V\n',y)\n",
"//(2)\n",
"r1=(vi-vz)/i\n",
"printf('\n2. R1 must supply 5mA to the zener diode\nR1=%.0f Ohm',r1)\n",
"//(3)\n",
"k=veb/vz\n",
"printf('\n\n3. The maximum allowable zener current is\nIz=%f A',k)\n",
"ibmax=k-i\n",
"it=ibmax*(1+hfe)\n",
"printf('\nTotal current range = %.2f A',it)\n",
"//(4)\n",
"pd=y*it\n",
"printf('\n\n(4)\nThe maximum power dissipation,\nPd=%.1f W',pd)\n",
"//(5)\n",
"rs=(vi-y)/it\n",
"pdr=it^2*rs\n",
"printf('\n\n(5)\nRs=%.2f Ohm\nPower dissipated by Rs is P = %dW',rs,pdr)"
   ]
   }
,
{
		   "cell_type": "markdown",
		   "metadata": {},
		   "source": [
			"## Example 3.1: Ripple_Factor.sce"
		   ]
		  },
  {
"cell_type": "code",
	   "execution_count": null,
	   "metadata": {
	    "collapsed": true
	   },
	   "outputs": [],
"source": [
"// Example 3.1 page no-155\n",
"clear\n",
"clc\n",
"\n",
"//(1)\n",
"Rl=2000\n",
"f=50\n",
"l=20\n",
"V1=0.074\n",
"w=2*%pi*f\n",
"V=Rl/(3*2*sqrt(w*2))\n",
"printf('\n1.One Inductor Filter,\nV = %.3f\n',V1)\n",
"//(2)\n",
"Idc=1\n",
"c=16*10^-6\n",
"gam=Idc/(4*sqrt(3)*f*c*Rl)\n",
"printf('\n2.Capacitor filter, \nGamma = %.2f\n',gam)\n",
"\n",
"//(3)\n",
"gam2=(sqrt(2)/3)*(1/4*l*c*(w^2))\n",
"printf('\n3. L Type filter,\nGamma = %.4f',gam2/1000)"
   ]
   }
,
{
		   "cell_type": "markdown",
		   "metadata": {},
		   "source": [
			"## Example 3.2: diode_as_a_rectifier.sce"
		   ]
		  },
  {
"cell_type": "code",
	   "execution_count": null,
	   "metadata": {
	    "collapsed": true
	   },
	   "outputs": [],
"source": [
"// Example 3.2 page no-156\n",
"clear\n",
"clc\n",
"\n",
"vm=110  //rms\n",
"x=1020  //Rf+Rl\n",
"rl=1000\n",
"//(a)\n",
"Im=vm*sqrt(2)/x\n",
"printf('\n(a)\nIm = %.1f mA',Im*1000)\n",
"//(b)\n",
"Idc=Im*1000/%pi\n",
"printf('\n(b)\nIdc = %.1f mA',Idc)\n",
"\n",
"//(c)\n",
"Ir=Im*1000/2\n",
"printf('\n(c)\nIrms = %.1f mA',Ir)\n",
"//(d)\n",
"v=-(Im*rl/%pi)\n",
"printf('\n(d)\n Vdc = %.1f V',v)\n",
"\n",
"//(e)\n",
"p=Ir*x/1000\n",
"printf('\n(e)\nPi = %.2f W',p)\n",
"//(f)\n",
"rl=1\n",
"lr=((vm*sqrt(2)/%pi)-(Idc*rl))/(Idc*rl)\n",
"printf('\n(f)\n%% regulation = %.2f %%',lr*100)"
   ]
   }
,
{
		   "cell_type": "markdown",
		   "metadata": {},
		   "source": [
			"## Example 3.4: Full_scale_reading_of_voltmeter.sce"
		   ]
		  },
  {
"cell_type": "code",
	   "execution_count": null,
	   "metadata": {
	    "collapsed": true
	   },
	   "outputs": [],
"source": [
"// Example 3.4 page no-157\n",
"clear\n",
"clc\n",
"\n",
"Rl=5010 //ohm\n",
"idc=0.001\n",
"Vrms=idc*%pi*Rl/(2*sqrt(2))\n",
"printf('\nVrms = %.2f V',Vrms)"
   ]
   }
,
{
		   "cell_type": "markdown",
		   "metadata": {},
		   "source": [
			"## Example 3.5: FWR_with_LC_filter.sce"
		   ]
		  },
  {
"cell_type": "code",
	   "execution_count": null,
	   "metadata": {
	    "collapsed": true
	   },
	   "outputs": [],
"source": [
"// Example 3.5 page no-164\n",
"clear\n",
"clc\n",
"rf=0.02\n",
"f=60\n",
"w=2*%pi*f\n",
"lc=sqrt(2)/(rf*12*w^2)\n",
"printf('\nLC=%.1f micro',lc*10^6)\n",
"vdc=9\n",
"idc=0.1\n",
"Rl=vdc/idc\n",
"printf('\nRL = %d Ohm\n\n LC>  Rl/3w  >  Rl/1130\n But LC should be 25%% larger\ntherefore, for f= 60 Hz,the value ofLC should be > Rl/900',Rl)\n",
"lc1=Rl/900\n",
"printf('\nIf L=0.1H, then C=%.1f micro F, This is high value\nIf L=1H, then C=41.5 micro F',ceil(lc*10^6/lc1))\n",
"printf('\n\nTransformer Rating:')\n",
"vdc=vdc+5\n",
"vm=vdc*%pi/2\n",
"vrms=vm/sqrt(2)\n",
"printf('\nVdc=%.0fV\nVm=%.0fV\nVrms=%.1fV\nTherefore, a 15.5 - 0 -15.5 V, 1OOmA transformer is required\n PIV=%d V',vdc,ceil(vm),vrms,2*ceil(vm))"
   ]
   }
,
{
		   "cell_type": "markdown",
		   "metadata": {},
		   "source": [
			"## Example 3.6: Ripple_Factor.sce"
		   ]
		  },
  {
"cell_type": "code",
	   "execution_count": null,
	   "metadata": {
	    "collapsed": true
	   },
	   "outputs": [],
"source": [
"// Example 3.6 page no-165\n",
"clear\n",
"clc\n",
"vrpp=0.8 //V\n",
"vrms=vrpp/(2*sqrt(3))\n",
"vrms=floor(vrms*10)\n",
"vrms=vrms/10\n",
"vm=8.8\n",
"vdc=vm-vrpp/2\n",
"gam=vrms/vdc\n",
"printf('\n%% regulation, gamma = %.2f%%',gam*100)\n",
"r=100\n",
"f=60\n",
"c=1050*10^-6\n",
"tgam=1/(4*(sqrt(3*c*r*f)))\n",
"printf('\nTheoretical values, gamma = %.2f%%',tgam*100)\n",
"Vdc=(4*f*r*c*vm)/(1+4*f*r*c)\n",
"printf('\nVdc = %.2f V',Vdc)"
   ]
   }
,
{
		   "cell_type": "markdown",
		   "metadata": {},
		   "source": [
			"## Example 3.7: power_supply_using_pi_filter.sce"
		   ]
		  },
  {
"cell_type": "code",
	   "execution_count": null,
	   "metadata": {
	    "collapsed": true
	   },
	   "outputs": [],
"source": [
"// Example 3.7 page no-167\n",
"clear\n",
"clc\n",
"Vdc=25\n",
"Idc=0.1\n",
"R=Vdc/Idc\n",
"\n",
"Vc=Vdc+37.5\n",
"\n",
"vm=Vc+(Idc/(4*50))\n",
"vrms=vm/sqrt(2)\n",
"vrms=60 ///approximated to\n",
"printf('\nVrms=%.0f V\n\nTherefore, a transformer with 60 - 0 -60V is chosen. \nThe ratings of the diode should be,\ncurrent of 125mA.and voltage = PIV = 2Vm = %.1f',vrms,169.2)"
   ]
   }
,
{
		   "cell_type": "markdown",
		   "metadata": {},
		   "source": [
			"## Example 3.8: Diode_rating_for_FWR.sce"
		   ]
		  },
  {
"cell_type": "code",
	   "execution_count": null,
	   "metadata": {
	    "collapsed": true
	   },
	   "outputs": [],
"source": [
"// Example 3.8 page no-169\n",
"clear\n",
"clc\n",
"\n",
"Vdc=250 //V\n",
"Idc=0.1\n",
"rc=400\n",
"rl=Vdc/Idc\n",
"Vm=(Vdc*%pi/2)*(1+(rc/rl))\n",
"Vrms=Vm/sqrt(2)\n",
"printf('Vrms=%dV\n\nTherefore, the transformer should supply \n%dV rms on each side of the centre tap.',Vrms,Vrms)\n",
"L=10 //Ohm\n",
"c=20*10^-6\n",
"w=377\n",
"Ib=2*Vm/(3*%pi*w*L)\n",
"rf=0.47/(4*w^2*c)\n",
"printf('\n\nIb=%.4f A\nRipple factor=%f',Ib,rf)"
   ]
   }
,
{
		   "cell_type": "markdown",
		   "metadata": {},
		   "source": [
			"## Example 3.9: FWR_with_C_type_capacitor_filter.sce"
		   ]
		  },
  {
"cell_type": "code",
	   "execution_count": null,
	   "metadata": {
	    "collapsed": true
	   },
	   "outputs": [],
"source": [
"// Example 3.9 page no-170\n",
"clear\n",
"clc\n",
"\n",
"Idc=0.02 //A\n",
"Vdc=16 //V\n",
"rl=Vdc/Idc\n",
"f=50\n",
"x=4*sqrt(3)*f*0.05*rl\n",
"C=1/x\n",
"printf('\nC=%d microF',C*10^6)\n",
"vm=Vdc*((1+(4*f*C*rl)))/(4*f*C*rl)\n",
"printf('\nVm=%.2f V',vm)"
   ]
   }
],
"metadata": {
		  "kernelspec": {
		   "display_name": "Scilab",
		   "language": "scilab",
		   "name": "scilab"
		  },
		  "language_info": {
		   "file_extension": ".sce",
		   "help_links": [
			{
			 "text": "MetaKernel Magics",
			 "url": "https://github.com/calysto/metakernel/blob/master/metakernel/magics/README.md"
			}
		   ],
		   "mimetype": "text/x-octave",
		   "name": "scilab",
		   "version": "0.7.1"
		  }
		 },
		 "nbformat": 4,
		 "nbformat_minor": 0
}
