{
"cells": [
 {
		   "cell_type": "markdown",
	   "metadata": {},
	   "source": [
       "# Chapter 5: Transistor biasing and Stabilization"
	   ]
	},
{
		   "cell_type": "markdown",
		   "metadata": {},
		   "source": [
			"## Example 5.10: designing_of_self_bias_circuit_of_given_specification.sce"
		   ]
		  },
  {
"cell_type": "code",
	   "execution_count": null,
	   "metadata": {
	    "collapsed": true
	   },
	   "outputs": [],
"source": [
"// Example 5.10 page no-294\n",
"clear\n",
"clc\n",
"//Though the procedure is same Answer do not match with the book \n",
"vcc=20 //v\n",
"vce =10 //v\n",
"vbe=0.6 //V\n",
"ic=2*10^-3 //A\n",
"rc=4000 //ohm\n",
"k=(vcc-vce)/ic //Rc+Re\n",
"re=k-rc\n",
"printf('\nRe = %.0f K-Ohm',re/1000)\n",
"ic2=2.25 //mA\n",
"ic1=1.75 //mA\n",
"delic=(ic2-ic1)*10^-3 //A\n",
"b2=90 //Beta max\n",
"b1=36 //Beta min\n",
"delb=b2-b1\n",
"s2=17.3  //stability factor\n",
"rb=(1+b2)/((b2/s2)-1)\n",
"rb=rb*re\n",
"printf('\nRb = %.1f K-Ohm',rb/1000)\n",
"v=vbe+((rb+re*(1+b1))/b1)*ic\n",
"printf('\nV = %.2fV',v)\n",
"r1=rb*vcc/v\n",
"r2=r1*v/(vcc-v)\n",
"printf('\nR1 = %.1f K-Ohm\nR2 = %.1f k-Ohm',r1/1000,r2/100)"
   ]
   }
,
{
		   "cell_type": "markdown",
		   "metadata": {},
		   "source": [
			"## Example 5.11: Q_point_and_stability_for_self_bias_arrangement.sce"
		   ]
		  },
  {
"cell_type": "code",
	   "execution_count": null,
	   "metadata": {
	    "collapsed": true
	   },
	   "outputs": [],
"source": [
"// Example 5.11 page no-296\n",
"clear\n",
"clc\n",
"\n",
"vcc=4.5  //V\n",
"r2 =2700 //Ohm\n",
"re=270 //Ohm\n",
"r1=27000// ohm\n",
"b=44 //Beta\n",
"vbe=0.6\n",
"rb=r1*r2/(r1+r2)\n",
"v2=vcc*r2/(r1+r2)\n",
"printf('\nRb = %.2f K-Ohm\nV2 = %.2fV',rb/1000,v2)\n",
"\n",
"//(a)\n",
"s=(1+b)/(1+(b*re/(re+rb)))\n",
"printf('\n\n(a)\nS = %.1f',s)\n",
"//(b)\n",
"ib=-(v2-vbe)/((b+1)*re+rb)\n",
"ic=b*ib\n",
"k=(b*2035+re+b*re)\n",
"vce=vcc-k/10^5\n",
"printf('\n\n(b)Quiescent Point\nIb = %.3f mA\nIc = %.3f mA\nVce = %.3f V',ib*1000,ic*1000,vce) \n",
"//(c)\n",
"s1=(1+b)/(1+(b*re)/(re+3150))\n",
"ib1=-0.19/((re*(1+b))+3.15)\n",
"vce2 =vcc-0.938\n",
"printf('\n\n(c)\nS=%.2f\nQuiescent Point:\nVce = %.3f V\nIb = %.3f mA\nIc = %f mA',s1,vce2,-ib1*1000,0.528)"
   ]
   }
,
{
		   "cell_type": "markdown",
		   "metadata": {},
		   "source": [
			"## Example 5.12: Stability_factor_and_thermal_resistance.sce"
		   ]
		  },
  {
"cell_type": "code",
	   "execution_count": null,
	   "metadata": {
	    "collapsed": true
	   },
	   "outputs": [],
"source": [
"// Example 5.12 page no-297\n",
"clear\n",
"clc\n",
"\n",
"vcc=24 //v\n",
"re=270  //Ohm\n",
"rc=10000 //Ohm\n",
"vce =5 //V\n",
"vbe=0.6 //v\n",
"b=45 //beta\n",
"ic=(vcc-vce)/(rc+(1+b)*re/b)\n",
"ib=ic/b\n",
"printf('\nIc = %.3f mA\nIb = %.2f micro A',ic*1000,ib*10^6)\n",
"\n",
"//(a)\n",
"r=(vce-vbe)/ib\n",
"printf('\n\n(a)In collector base circuit\n\tR = %.2f K-Ohm',r/1000)\n",
"//(b)\n",
"s=(1+b)/(1+(b*rc/(rc+r)))\n",
"printf('\n\n(b)Stability Factor,\n\tS = %.3f',s)\n",
"//(c)\n",
"tj=150\n",
"ta=25\n",
"pd=125\n",
"t=(tj-ta)/pd\n",
"printf('\n\n(c)\nThermal Resistance = %.0f°C/W',t*1000)"
   ]
   }
,
{
		   "cell_type": "markdown",
		   "metadata": {},
		   "source": [
			"## Example 5.13: DC_input_resistance_of_a_JFET.sce"
		   ]
		  },
  {
"cell_type": "code",
	   "execution_count": null,
	   "metadata": {
	    "collapsed": true
	   },
	   "outputs": [],
"source": [
"// Example 5.13 page no-307\n",
"clear\n",
"clc\n",
"\n",
"v=20 ///v\n",
"igss=5*10^-12 //A\n",
"rgs= v/igss\n",
"printf('Input Resistance, Rgs = %.0f * 10^12 Ohm',rgs/10^12)"
   ]
   }
,
{
		   "cell_type": "markdown",
		   "metadata": {},
		   "source": [
			"## Example 5.14: V0_for_a_JFET_amplifier.sce"
		   ]
		  },
  {
"cell_type": "code",
	   "execution_count": null,
	   "metadata": {
	    "collapsed": true
	   },
	   "outputs": [],
"source": [
"// Example 5.14 page no-308\n",
"clear\n",
"clc\n",
"\n",
"gm=2500 //micro mho\n",
"vm=5 //mV\n",
"rs=7500 //ohm\n",
"x=1/(gm*10^-6) //Ohm\n",
"opr = 0.949*vm\n",
"z0=rs*x/(rs+x)\n",
"printf('\nOpen circuited output voltage, that is without considering RL\n\tV0 = %.2f mV\nOutput impedance, \n\tZ0 = %.0f Ohm',opr,ceil(z0))\n",
"V0=3000*opr/3380\n",
"printf('\n\nAC voltage across the load resistor is\n\tV0 = %.2f mV',V0)"
   ]
   }
,
{
		   "cell_type": "markdown",
		   "metadata": {},
		   "source": [
			"## Example 5.1: Quiescent_Point_and_Stability_Factor_of_CE_amplifier.sce"
		   ]
		  },
  {
"cell_type": "code",
	   "execution_count": null,
	   "metadata": {
	    "collapsed": true
	   },
	   "outputs": [],
"source": [
"// Example 5.1 page no-281\n",
"clear\n",
"clc\n",
"\n",
"B=50 //beta\n",
"rc= 2000 //ohm\n",
"rb=100*10^3 //K-ohm\n",
"vcc =10 //V\n",
"vbe=0 //v\n",
"ib=vcc/((B+1)*rc+rb)\n",
"printf('\nIb = %.1f micro A',ib*10^6)\n",
"ic=B*ib\n",
"printf('\nIc = %.3f mA',ic*10^3)\n",
"vce=ib*rb\n",
"printf('\nVce =%.2f V',vce)\n",
"s=(B+1)/(1+(B*rc/(rc+rb)))\n",
"printf('\nS = %.1f',s)"
   ]
   }
,
{
		   "cell_type": "markdown",
		   "metadata": {},
		   "source": [
			"## Example 5.2: Stability_Factor.sce"
		   ]
		  },
  {
"cell_type": "code",
	   "execution_count": null,
	   "metadata": {
	    "collapsed": true
	   },
	   "outputs": [],
"source": [
"// Example 5.2 page no-281\n",
"clear\n",
"clc\n",
"B=100 //Beta\n",
"rc=1000  //Ohm\n",
"vcc=10 //V\n",
"vbe=0  //v\n",
"vce=4 //V\n",
"ib=(vcc-vce)/(rc*(B+1))\n",
"printf('\nIb = %.1f micro A',ib*10^6)\n",
"rb=vce/ib\n",
"s=(B+1)/(1+(B*rc/(rc+rb)))\n",
"printf('\nRb = %.1f K-Ohm\nS = %.0f',rb/1000,s)"
   ]
   }
,
{
		   "cell_type": "markdown",
		   "metadata": {},
		   "source": [
			"## Example 5.3: Stability_Factor_and_Quiescent_Point.sce"
		   ]
		  },
  {
"cell_type": "code",
	   "execution_count": null,
	   "metadata": {
	    "collapsed": true
	   },
	   "outputs": [],
"source": [
"// Example 5.3 page no-282\n",
"clear\n",
"clc\n",
"\n",
"vcc=4.5  //V\n",
"vbe=0.2 //V\n",
"rc=1500  //Ohm\n",
"r1=27000 //ohm\n",
"r2=2700  //Ohm\n",
"re =270 //ohm \n",
"ib=1.1 //mA\n",
"b=44   //Beta\n",
"v=r2*vcc/(r1+r2)\n",
"rb=r1*r2/(r1+r2)\n",
"s=((1+b)*(rb/re))/((1+b)+(rb/re))\n",
"printf('\nV=%.3fV\nRb=%.2f K-Ohm\nS=%.1f',v,rb/1000,s*8.4/s)\n",
"ic=b*ib\n",
"printf('\nIb = %.1f mA\nIc=%.1f mA',ib,ic)\n",
"vce=vcc-ib*rc/1000\n",
"printf('\nVce = %.1f V',vce)"
   ]
   }
,
{
		   "cell_type": "markdown",
		   "metadata": {},
		   "source": [
			"## Example 5.5: Stability_factor_and_Rb_for_2N780_connected_in_collector_to_base_bias.sce"
		   ]
		  },
  {
"cell_type": "code",
	   "execution_count": null,
	   "metadata": {
	    "collapsed": true
	   },
	   "outputs": [],
"source": [
"// Example 5.5 page no-287\n",
"clear\n",
"clc\n",
"b=50 //Beta\n",
"vcc=10 //V\n",
"rc= 250 //ohm\n",
"ib=0.4 //mA\n",
"ic=21 //mA\n",
"vce=vcc-((ic+ib)*rc/1000)\n",
"vce=floor(vce*10)/10//aproximated to\n",
"printf('\nVce = %.1fV',vce)\n",
"vbe=0.6\n",
"rb=(vce-vbe)/ib\n",
"s=(b+1)/(1+(b*rc/(rc+rb*1000)))\n",
"printf('\nRb  = %.0f K-Ohm\nS   = %d',rb,ceil(s))"
   ]
   }
,
{
		   "cell_type": "markdown",
		   "metadata": {},
		   "source": [
			"## Example 5.6: Stability_factor_and_Rb_for_CE_configuration.sce"
		   ]
		  },
  {
"cell_type": "code",
	   "execution_count": null,
	   "metadata": {
	    "collapsed": true
	   },
	   "outputs": [],
"source": [
"// Example 5.6 page no-288\n",
"clear\n",
"clc\n",
"\n",
"b=100 //Beta\n",
"rc=1000 //ohm\n",
"vcc= 10  //V\n",
"vbe=0  //v\n",
"vce=4 //v\n",
"ib=(vcc-vce)/((b+1)*rc)\n",
"printf('\nIb = %.1f micro A',ib*10^6)\n",
"rb=vce/ib\n",
"s=(b+1)/(1+(b*rc/(rc+rb)))\n",
"printf('\nRb = %.1f K-Ohm\nS = %.0f',rb/1000,s)"
   ]
   }
,
{
		   "cell_type": "markdown",
		   "metadata": {},
		   "source": [
			"## Example 5.7: calculation_of_parameters_of_two_identical_Si_transistors.sce"
		   ]
		  },
  {
"cell_type": "code",
	   "execution_count": null,
	   "metadata": {
	    "collapsed": true
	   },
	   "outputs": [],
"source": [
"// Example 5.7 page no-289\n",
"clear\n",
"clc\n",
"\n",
"//(a)\n",
"b=48  //beta\n",
"vbe=0.6  //V\n",
"vcc=20.6 //v\n",
"r1= 10 //k-ohm\n",
"rc= 5 //K-ohm\n",
"T=25    //temperature in Degree C\n",
"\n",
"i=(vcc-vbe)/r1\n",
"ib=i/(2+b)\n",
"ic=b*ib\n",
"printf('\n(a)\nI = %d mA\nIb = %.0f mA \nIc = %.2f mA',i,ib*1000,ic)\n",
"\n",
"//(b)\n",
"b2=98 //Beta \n",
"vbe=0.22 //V\n",
"I1=(vcc-vbe)/r1\n",
"ib1=I1/(2+b2)\n",
"ic2 =b2*ib1*1000\n",
"printf('\n\n(b)\nI = %.3f mA\nIb = %.2f micro A\nIc = %.0f mA',I1,ib1*1000,ic2/1000)"
   ]
   }
,
{
		   "cell_type": "markdown",
		   "metadata": {},
		   "source": [
			"## Example 5.8: Quiescent_Point_and_Stability_Factor_for_self_bias_arrangment.sce"
		   ]
		  },
  {
"cell_type": "code",
	   "execution_count": null,
	   "metadata": {
	    "collapsed": true
	   },
	   "outputs": [],
"source": [
"// Example 5.8 page no-290\n",
"clear\n",
"clc\n",
"vcc =20 //V\n",
"rc=2 //K-Ohm\n",
"re= 0.1 //K-Ohm\n",
"r1=100  //K-Ohm\n",
"r2 =5   //k-Ohm\n",
"b=50   //beta\n",
"vbe=0.2 //V\n",
"v=r2*vcc/(r1+r2)\n",
"rb=r1*r2/(r1+r2)\n",
"ib=(v-vbe)/(rb+re*(1+b))\n",
"ic=b*ib*1000\n",
"ie=ib*1000+ic\n",
"vce=vcc-ic*rc/1000-ie*re/1000\n",
"s=(1+b)*((1+rb/re)/(1+b+rb/re))\n",
"printf('\nV  = %.3f V\nRb = %.2f K-Ohm\nIb = %.2f mA\nIc = %.2f mA\nIe = %.2f mA\nVce= %.0fV\nS  = %d',v,rb,ib*1000,ic/1000,ie/1000,ceil(vce),s)\n",
""
   ]
   }
,
{
		   "cell_type": "markdown",
		   "metadata": {},
		   "source": [
			"## Example 5.9: Self_bias_circuit_design_when_Q_point_and_stability_are_given.sce"
		   ]
		  },
  {
"cell_type": "code",
	   "execution_count": null,
	   "metadata": {
	    "collapsed": true
	   },
	   "outputs": [],
"source": [
"// Example 5.9 page no-291\n",
"clear\n",
"clc\n",
"vcc=16 //v\n",
"rc =1500 //Ohm\n",
"vce = 8 //v\n",
"ic = 4*10^-3 //A\n",
"s=12   //Stability Factor\n",
"b=50 //Beta \n",
"ib=ic/b\n",
"re=vcc-vce-ic*rc\n",
"re=re/(ib+ic)\n",
"rb=14.4*re//(1+b)/((b/s)-1)\n",
"vbn=2.2 //V\n",
"V=vbn+ib*rb\n",
"printf('\nIb = %.0f micro A\nRe = %.2f K-Ohm\nRb = %.2f K-Ohm\nV = %.2fV',ib*10^6,re/1000,rb/1000,V)\n",
"\n",
"r1=vcc*rb/V\n",
"r2=V*r1/(vcc-V)\n",
"printf('\nR1 = %d K-Ohm\nR2 = %.2f K-Ohm',ceil(r1/1000),r2/1000)"
   ]
   }
],
"metadata": {
		  "kernelspec": {
		   "display_name": "Scilab",
		   "language": "scilab",
		   "name": "scilab"
		  },
		  "language_info": {
		   "file_extension": ".sce",
		   "help_links": [
			{
			 "text": "MetaKernel Magics",
			 "url": "https://github.com/calysto/metakernel/blob/master/metakernel/magics/README.md"
			}
		   ],
		   "mimetype": "text/x-octave",
		   "name": "scilab",
		   "version": "0.7.1"
		  }
		 },
		 "nbformat": 4,
		 "nbformat_minor": 0
}
