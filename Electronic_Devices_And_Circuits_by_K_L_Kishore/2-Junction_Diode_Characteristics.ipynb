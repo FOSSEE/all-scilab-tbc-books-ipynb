{
"cells": [
 {
		   "cell_type": "markdown",
	   "metadata": {},
	   "source": [
       "# Chapter 2: Junction Diode Characteristics"
	   ]
	},
{
		   "cell_type": "markdown",
		   "metadata": {},
		   "source": [
			"## Example 2.10: Work_function_and_wavelength.sce"
		   ]
		  },
  {
"cell_type": "code",
	   "execution_count": null,
	   "metadata": {
	    "collapsed": true
	   },
	   "outputs": [],
"source": [
"// Example 2.10 page no-58\n",
"clear\n",
"clc\n",
"\n",
"//(a)\n",
"h=6.63*10^-34 //Plank's Constant,  J sec.\n",
"e=1.6*10^-19 //Charge of Electron, C\n",
"c=3*10^8 //Velocity of Light, m/sec\n",
"v=0.55     //volts\n",
"l=5500*10^-10 //m\n",
"fi=(h*c)/(l*e)\n",
"fi=fi-v\n",
"printf('\n(a)\nWork Function(WF), fi=%.2f Volts',fi)\n",
"//(b)\n",
"l0=12400/fi\n",
"printf('\n\n(b)\nThreshold Wavelength = %d A°',l0)"
   ]
   }
,
{
		   "cell_type": "markdown",
		   "metadata": {},
		   "source": [
			"## Example 2.11: effect_of_temperature_on_emission.sce"
		   ]
		  },
  {
"cell_type": "code",
	   "execution_count": null,
	   "metadata": {
	    "collapsed": true
	   },
	   "outputs": [],
"source": [
"// Example 2.11 page no-59\n",
"clear\n",
"clc\n",
"dT=20\n",
"T=2310 //°K\n",
"Ew=4.52\n",
"k=8.62*10^-5\n",
"x=(Ew/(k*T))\n",
"x=(2+x)*dT/T\n",
"printf('\n(a)\ndIth/Ith=%.1f%%\n\n(b)\nThis is solved by Trial and Error Method to get T = 2370°K',x*100)"
   ]
   }
,
{
		   "cell_type": "markdown",
		   "metadata": {},
		   "source": [
			"## Example 2.12: RF_voltage_frequency_in_cyclotron.sce"
		   ]
		  },
  {
"cell_type": "code",
	   "execution_count": null,
	   "metadata": {
	    "collapsed": true
	   },
	   "outputs": [],
"source": [
"// Example 2.12 page no-60\n",
"clear\n",
"clc\n",
"\n",
"B=1    //Tesla\n",
"T=35.5*10^-6 //sec\n",
"f=1/T\n",
"printf('\n(a)\nThe frequency of the R.F voltage, f=%.2f*10^4 Hz',f/10^4)\n",
"k=2*10^6\n",
"g=40000\n",
"printf('\n\n(b)Number of passages required to gain 2*10^6 eV are ,N=%d',k/g)\n",
"v=49*g\n",
"R=(3.37*10^-6)*sqrt(v)\n",
"printf('\n\n(c)\nDiameter of last semicircle, D = 2R =%.2f *10^-4 m',2*R*10000)"
   ]
   }
,
{
		   "cell_type": "markdown",
		   "metadata": {},
		   "source": [
			"## Example 2.13: Emission_current_and_cathode_efficiency.sce"
		   ]
		  },
  {
"cell_type": "code",
	   "execution_count": null,
	   "metadata": {
	    "collapsed": true
	   },
	   "outputs": [],
"source": [
"// Example 2.13 page no-60\n",
"clear\n",
"clc\n",
"Ew=1  //eV\n",
"A0=100 // A/m2 I °K2\n",
"S=1.8*10^-4 //cm2\n",
"K =8.62 * 10^-5  //eV/oK\n",
"T=1100\n",
"pd=5.8*10^4 //W/m^2\n",
"ipd=1.1*pd\n",
"tip=S*ipd\n",
"Ith=S*A0*T^2*%e^(-Ew/(K*T))\n",
"printf('\nIth=%.3f A\nCathode Efficiency, eta=%.0f mA/°K',Ith,ceil(Ith*1000/11.5))"
   ]
   }
,
{
		   "cell_type": "markdown",
		   "metadata": {},
		   "source": [
			"## Example 2.14: resistivity_of_doped_material.sce"
		   ]
		  },
  {
"cell_type": "code",
	   "execution_count": null,
	   "metadata": {
	    "collapsed": true
	   },
	   "outputs": [],
"source": [
"// Example 2.14 page no-71\n",
"clear\n",
"clc\n",
"\n",
"n=4.4*10^22 ///cm^3\n",
"mu=3600//cm62/volt-sec\n",
"e=1.6*10^-19//C\n",
"sigma=n*mu*e*10^-6\n",
"printf('\nResistivity, rho=%.3f Ohm-cm',1/sigma)"
   ]
   }
,
{
		   "cell_type": "markdown",
		   "metadata": {},
		   "source": [
			"## Example 2.15: conductivity_and_resistivity_of_pure_silicon.sce"
		   ]
		  },
  {
"cell_type": "code",
	   "execution_count": null,
	   "metadata": {
	    "collapsed": true
	   },
	   "outputs": [],
"source": [
"// Example 2.15 page no-71\n",
"clear\n",
"clc\n",
"mup=500\n",
"mun=1500\n",
"n=1.6*10^10\n",
"e=1.6*10^-19 //c\n",
"sigma=(mun+mup)*e*n\n",
"printf('\nconductivity, sigma=%.2f *10^-6\nResistivity, rho= %d Ohm-cm',sigma*10^6,1/sigma)"
   ]
   }
,
{
		   "cell_type": "markdown",
		   "metadata": {},
		   "source": [
			"## Example 2.16: concentration_of_free_electrons_and_holes.sce"
		   ]
		  },
  {
"cell_type": "code",
	   "execution_count": null,
	   "metadata": {
	    "collapsed": true
	   },
	   "outputs": [],
"source": [
"// Example 2.16 page no-71\n",
"clear\n",
"clc\n",
"\n",
"A = 9.64 * 10^14\n",
"EG = 0.25 //eV\n",
"n1 = 6.25*10^26///cm^3\n",
"na=3*10^14\n",
"nd=2*10^14\n",
"n=-(10^14)+(sqrt(10^28+4*6.25*10^26))\n",
"n=n/2\n",
"printf('\nn=%.1f*10^12 electrons/cm^3\np=%.2f*10^14 holes/cm^3\nAs p> n, this is p-type semiconductor.',n/10^12,(n+10^14)/10^14)"
   ]
   }
,
{
		   "cell_type": "markdown",
		   "metadata": {},
		   "source": [
			"## Example 2.17: concentration_of_free_electrons_and_holes.sce"
		   ]
		  },
  {
"cell_type": "code",
	   "execution_count": null,
	   "metadata": {
	    "collapsed": true
	   },
	   "outputs": [],
"source": [
"// Example 2.17 page no-72\n",
"clear\n",
"clc\n",
"sigma=100     //Ohm-cm\n",
"e=1.6*10^-19 //c\n",
"mup=1800     //cm^2/V-sec\n",
"ni=2.5*10^13 // /cm^3\n",
"printf('\nIn p-type semiconductor, p>>n.')\n",
"pp=sigma/(e*mup)\n",
"n=ni^2/pp\n",
"printf('\nPp=%.2f*10^17 holes/cm^3\nn=%.1f*10^9 electrons/cm^3',pp/10^17,n/10^9)"
   ]
   }
,
{
		   "cell_type": "markdown",
		   "metadata": {},
		   "source": [
			"## Example 2.18: concentration_of_free_electrons_and_holes_in_p_type_Ge_and_n_type_Si.sce"
		   ]
		  },
  {
"cell_type": "code",
	   "execution_count": null,
	   "metadata": {
	    "collapsed": true
	   },
	   "outputs": [],
"source": [
"// Example 2.18 page no-72\n",
"clear\n",
"clc\n",
"\n",
"//(a)\n",
"sigma=100     //Ohm-cm\n",
"e=1.6*10^-19 //c\n",
"mup=1800     //cm^2/V-sec\n",
"ni=2.5*10^13 // /cm^3\n",
"printf('\n(a)\nAs it is p-type semiconductor, p>>n.')\n",
"pp=sigma/(e*mup)\n",
"n=ni^2/pp\n",
"printf('\nPp=%.2f*10^17 holes/cm^3\nn=%.1f*10^9 electrons/cm^3',pp/10^17,n/10^9)\n",
"\n",
"//(b)\n",
"mun=1300\n",
"sig=0.1\n",
"n1=1.5*10^10\n",
"n2=sig/(mun*e)\n",
"p1=(n1^2)/n2\n",
"printf('\n\n(b)\nn=%.2f*10^14 elecrons/cm^3\np=%.2f*10^5 holes/cm^3',n2/10^14,p1/10^5)"
   ]
   }
,
{
		   "cell_type": "markdown",
		   "metadata": {},
		   "source": [
			"## Example 2.19: conduction_current_density.sce"
		   ]
		  },
  {
"cell_type": "code",
	   "execution_count": null,
	   "metadata": {
	    "collapsed": true
	   },
	   "outputs": [],
"source": [
"// Example 2.19 page no-73\n",
"clear\n",
"clc\n",
"sig=1/60 // v/cm\n",
"mup=1800 //cm^2/V-sec\n",
"mun=3800 //cm^2/V-sec\n",
"e=1.6*10^-19 //C\n",
"\n",
"ni=sig/(e*(mun+mup))\n",
"na=7*10^13 //cm^3\n",
"nd=10^14  // /cm^3\n",
"k=na-nd //p-n\n",
"p=0.88*10^13\n",
"n=3.88*10^13\n",
"eps=2\n",
"J=(n*mun+p*mup)*(e*eps)\n",
"printf('J=%.1f mA/cm^3',J*1000)"
   ]
   }
,
{
		   "cell_type": "markdown",
		   "metadata": {},
		   "source": [
			"## Example 2.1: radius_of_the_lowest_state_of_Ground_State.sce"
		   ]
		  },
  {
"cell_type": "code",
	   "execution_count": null,
	   "metadata": {
	    "collapsed": true
	   },
	   "outputs": [],
"source": [
"// Example 2.1 page no-45\n",
"clear\n",
"clc\n",
"\n",
"n=1\n",
"h=6.626*10^-34 //J-sec\n",
"eps=10^-9/(36*%pi)\n",
"m=9.1*10^-31 //kg\n",
"e=1.6*10^-19\n",
"r=n^2*h^2*eps/(%pi*m*e^2)\n",
"printf('\nradius of the lowest state of Ground State, r=%.2f A°',r*10^10)"
   ]
   }
,
{
		   "cell_type": "markdown",
		   "metadata": {},
		   "source": [
			"## Example 2.20: concentration_of_free_electrons_and_holes_in_Ge.sce"
		   ]
		  },
  {
"cell_type": "code",
	   "execution_count": null,
	   "metadata": {
	    "collapsed": true
	   },
	   "outputs": [],
"source": [
"// Example 2.20 page no-74\n",
"clear\n",
"clc\n",
"na=3* 10^14 // /cm^3\n",
"nd= 2*10^14 // /cm^3\n",
"ni= 2.5*10^13  // /cm^3\n",
"\n",
"k=na-nd\n",
"n=(-k+sqrt(k^2+4*ni^2))/2\n",
"printf('\nn=%.1f*10^18 electrons/m^3\np=%.2f*10^19 holes/m^3\n\nas p > n, it is p-type semiconductor',n/10^12,ni^2/n*10^-13)"
   ]
   }
,
{
		   "cell_type": "markdown",
		   "metadata": {},
		   "source": [
			"## Example 2.21: intrinic_concentration_and_conductivity_of_Germanium.sce"
		   ]
		  },
  {
"cell_type": "code",
	   "execution_count": null,
	   "metadata": {
	    "collapsed": true
	   },
	   "outputs": [],
"source": [
"// Example 2.21 page no-75\n",
"clear\n",
"clc\n",
"\n",
"A=9.64*10^21\n",
"T=320\n",
"e=1.6*10^-19\n",
"Eg=0.75\n",
"k=1.37*10^-23\n",
"ni=A*T^(3/2)*%e^(-(e*Eg)/(2*k*T))\n",
"printf('\nni=%.2f *10^19 electrons(holes)/m^3',ni/10^19)\n",
"mup=0.36\n",
"mun=0.17\n",
"sig=e*ni*(mup+mun)\n",
"printf('\nConductivity, Sigma=%.3f Mho/m',sig)"
   ]
   }
,
{
		   "cell_type": "markdown",
		   "metadata": {},
		   "source": [
			"## Example 2.22: resistivity_of_intrinsic_Germanium_at_room_temperature.sce"
		   ]
		  },
  {
"cell_type": "code",
	   "execution_count": null,
	   "metadata": {
	    "collapsed": true
	   },
	   "outputs": [],
"source": [
"// Example 2.22 page no-75\n",
"clear\n",
"clc\n",
"\n",
"e=1.6*10^-19//C\n",
"ni=2.5*10^19\n",
"mun=0.36 //m^2/V-sec\n",
"mup=0.17 //m^2/V-sec\n",
"sig=e*ni*(mup+mun)\n",
"\n",
"rho=1/sig\n",
"printf('Resistivity, rho=%.2f Ohm-m',rho)"
   ]
   }
,
{
		   "cell_type": "markdown",
		   "metadata": {},
		   "source": [
			"## Example 2.23: Fermi_level_of_p_type_Ge.sce"
		   ]
		  },
  {
"cell_type": "code",
	   "execution_count": null,
	   "metadata": {
	    "collapsed": true
	   },
	   "outputs": [],
"source": [
"// Example 2.23 page no-80\n",
"clear\n",
"clc\n",
"mup=0.4\n",
"T=300\n",
"Nv=4.82*10^15\n",
"Na=Nv*mup^(3/2)*T^(3/2)\n",
"printf('\nDoping concentration, NA=%.2f*10^18 atoms/cm^3',Na/10^18)"
   ]
   }
,
{
		   "cell_type": "markdown",
		   "metadata": {},
		   "source": [
			"## Example 2.24: Distance_of_Fermi_level_from_centre_of_forbidden_bond.sce"
		   ]
		  },
  {
"cell_type": "code",
	   "execution_count": null,
	   "metadata": {
	    "collapsed": true
	   },
	   "outputs": [],
"source": [
"// Example 2.24 page no-80\n",
"clear\n",
"clc\n",
"Vt=0.026\n",
"Nv=(3/4)*Vt*log(2)\n",
"printf('\nFor Intrinsic Semiconductor,\nEF will be at the centre of the forbidden band. \nBut if mp and mn are unequal, EF will be away\nfrom the centre of the forbidden band by\n\nNv=%.1f*10^-3 eV',Nv*10^3)"
   ]
   }
,
{
		   "cell_type": "markdown",
		   "metadata": {},
		   "source": [
			"## Example 2.25: Temperature_for_which_conduction_band_and_fermi_level_coincides.sce"
		   ]
		  },
  {
"cell_type": "code",
	   "execution_count": null,
	   "metadata": {
	    "collapsed": true
	   },
	   "outputs": [],
"source": [
"// Example 2.25 page no-83\n",
"clear\n",
"clc\n",
"\n",
"si=5*10^22 //atom/cm^3\n",
"d=2*10^8 \n",
"Nd=si/d\n",
"m=9.1*10^-31//kg\n",
"k=1.38*10^-23\n",
"h=6.626*10^-34\n",
"Nc=2*(2*%pi*m*k/h^2)^(3/2)\n",
"T=(Nd/Nc)^(2/3)\n",
"printf('T=%.2f°K',T*10^4)//Nd/10^14)"
   ]
   }
,
{
		   "cell_type": "markdown",
		   "metadata": {},
		   "source": [
			"## Example 2.26: distance_between_valence_band_and_Fermi_level.sce"
		   ]
		  },
  {
"cell_type": "code",
	   "execution_count": null,
	   "metadata": {
	    "collapsed": true
	   },
	   "outputs": [],
"source": [
"// Example 2.25 page no-83\n",
"clear\n",
"clc\n",
"\n",
"m=9.1*10^-31//kg\n",
"k=1.38*10^-23\n",
"h=6.626*10^-34\n",
"T=300\n",
"mp=0.6\n",
"si=5*10^22\n",
"at=10^8\n",
"Nc=si/at\n",
"Nv=2*(2*%pi*m*k*T*mp/h^2)^(3/2)\n",
"printf('\nNv=%.2f * 10^19 /cm^3',Nv/10^25)\n",
"Kt=0.026\n",
"Ediff=Kt*log(1.17*10^19/(5*10^14))\n",
"printf('\nEf-Ev =%.2f eV\nTherefore, EF is above Ev',Ediff)"
   ]
   }
,
{
		   "cell_type": "markdown",
		   "metadata": {},
		   "source": [
			"## Example 2.27: doping_concentration_for_given_fermi_level.sce"
		   ]
		  },
  {
"cell_type": "code",
	   "execution_count": null,
	   "metadata": {
	    "collapsed": true
	   },
	   "outputs": [],
"source": [
"// Example 2.27 page no-86\n",
"clear\n",
"clc\n",
"mp=0.4\n",
"T=300\n",
"k=4.82*10^15\n",
"Nv=k*(mp*T)^(3/2)\n",
"printf('Doping concentration, NA = ND = %.2f*10^18 atoms/cm^3',Nv/10^18)"
   ]
   }
,
{
		   "cell_type": "markdown",
		   "metadata": {},
		   "source": [
			"## Example 2.28: Distance_of_Fermi_level_from_centre_of_forbidden_bond.sce"
		   ]
		  },
  {
"cell_type": "code",
	   "execution_count": null,
	   "metadata": {
	    "collapsed": true
	   },
	   "outputs": [],
"source": [
"// Example 2.28 page no-86\n",
"clear\n",
"clc\n",
"Vt=0.026\n",
"Nv=(3/4)*Vt*log(3)\n",
"printf('\nFor Intrinsic Semiconductor,\nEF will be at the centre of the forbidden band. \nBut if mp and mn are unequal, EF will be away\nfrom the centre of the forbidden band by\n\nNv=%.1f*10^-3 eV',Nv*10^3)"
   ]
   }
,
{
		   "cell_type": "markdown",
		   "metadata": {},
		   "source": [
			"## Example 2.29: Einstein_relationship.sce"
		   ]
		  },
  {
"cell_type": "code",
	   "execution_count": null,
	   "metadata": {
	    "collapsed": true
	   },
	   "outputs": [],
"source": [
"// Example 2.29 page no-90\n",
"clear\n",
"clc\n",
"mung=3800\n",
"mupg=1800\n",
"muns=1300\n",
"mups=500\n",
"Vt=0.026\n",
"printf('\nFor Germanium at room temperature,\nDp=%d cm^2/sec\nDn=%d cm^2/sec\n\nFor Silicon,\nDp=%d cm^2/sec\nDn=%d cm^2/sec',ceil(mupg*Vt),ceil(mung*Vt),ceil(mups*Vt),ceil(muns*Vt))"
   ]
   }
,
{
		   "cell_type": "markdown",
		   "metadata": {},
		   "source": [
			"## Example 2.2: no_of_photons_emitted_per_second_by_lamp.sce"
		   ]
		  },
  {
"cell_type": "code",
	   "execution_count": null,
	   "metadata": {
	    "collapsed": true
	   },
	   "outputs": [],
"source": [
"// Example 2.2 page no-46\n",
"clear\n",
"clc\n",
"\n",
"lambda=2537 //A°\n",
"E_diff=12400/lambda\n",
"e=1.6*10^-19\n",
"energy=50/1000  //J/sec\n",
"e_j=energy/e  //eV/sec\n",
"n=e_j/E_diff\n",
"printf('The lamp emits %.1f *10^16 photons/sec of wavelength, lambda=%dA°',n/10^16,lambda)"
   ]
   }
,
{
		   "cell_type": "markdown",
		   "metadata": {},
		   "source": [
			"## Example 2.30: Hall_Effect.sce"
		   ]
		  },
  {
"cell_type": "code",
	   "execution_count": null,
	   "metadata": {
	    "collapsed": true
	   },
	   "outputs": [],
"source": [
"// Example 2.30 page no-95\n",
"clear\n",
"clc\n",
"\n",
"B=0.1 //Wb/m^2\n",
"Vh=50 //mV\n",
"I=10 //mA\n",
"rho=2*10^5 //Ohm-cm\n",
"w=3*10^-3 //m\n",
"x=B*I*10^-3/(Vh*10^-2*w)\n",
"printf('\n1/RH=%.3f',x)\n",
"y=1/(rho*10^-2)\n",
"printf('\nConductivity = %f mhos/meter\nmu=%.0f cm^2/V-sec',y,(y/x)*10^6)"
   ]
   }
,
{
		   "cell_type": "markdown",
		   "metadata": {},
		   "source": [
			"## Example 2.31: Reverse_saturation_current_in_diode.sce"
		   ]
		  },
  {
"cell_type": "code",
	   "execution_count": null,
	   "metadata": {
	    "collapsed": true
	   },
	   "outputs": [],
"source": [
"// Example 2.31 page no-116\n",
"clear\n",
"clc\n",
"\n",
"//(a)\n",
"Vt=300/11600\n",
"v=Vt*log(1.9)\n",
"printf('\n(a)\nV=%.3fV',v)\n",
"\n",
"//(b)\n",
"v1=0.2\n",
"i1=10*(%e^(v1/Vt)-1)\n",
"printf('\n(b)\nFor V=0.2, I=%.2f mA',i1/1000)\n",
"v2=0.3\n",
"i2=10*(%e^(v2/Vt)-1)\n",
"printf('\n\nFor V=0.3, I=%.2f A',i2/1000000)"
   ]
   }
,
{
		   "cell_type": "markdown",
		   "metadata": {},
		   "source": [
			"## Example 2.32: AC_and_DC_resistance_of_Ge_diode.sce"
		   ]
		  },
  {
"cell_type": "code",
	   "execution_count": null,
	   "metadata": {
	    "collapsed": true
	   },
	   "outputs": [],
"source": [
"// Example 2.32 page no-116\n",
"clear\n",
"clc\n",
"\n",
"Vt=301.6/11600\n",
"i0=20*10^-6\n",
"v=0.1\n",
"I=i0*(%e^(v/Vt)-1)\n",
"printf('\nI=%.3f mA',I*1000)\n",
"r_DC=v/I\n",
"printf('\nr_DC=%.1f Ohm',r_DC)\n",
"r_AC=i0*(%e^(v/Vt))/Vt\n",
"printf('\nr_AC = %.1f Ohm',1/r_AC)"
   ]
   }
,
{
		   "cell_type": "markdown",
		   "metadata": {},
		   "source": [
			"## Example 2.33: width_of_the_depletion_layer.sce"
		   ]
		  },
  {
"cell_type": "code",
	   "execution_count": null,
	   "metadata": {
	    "collapsed": true
	   },
	   "outputs": [],
"source": [
"// Example 2.33 page no-117\n",
"clear\n",
"clc\n",
"\n",
"A = 0.001// cm2\n",
"sig1n= 1 //mhos/cm,\n",
"sig1p=100 //mhos/cm\n",
"mun=3800 //cm2/sec\n",
"mup = 1800 //cm2/sec.\n",
"e=1.6*10^-19 //C\n",
"eps=16*8.85*10^-14//F/cm\n",
"ni=6.25*10^26\n",
"T=300\n",
"Vt=T/11600\n",
"Nd=sig1n/(e*mun)\n",
"Na=sig1p/(e*mup)\n",
"V0=Vt*log(Na*Nd/ni)\n",
"w=sqrt(2*eps*(V0+1)/(e*Na))\n",
"printf('\nND=%.2f * 10^15 /cm^3\nNA=%.1f * 10^17 /cm^3\nV0=%.3f V\nw=%.3f * 10^-4 cm',Nd*10^-15,Na*10^-17,V0,w*10^4)"
   ]
   }
,
{
		   "cell_type": "markdown",
		   "metadata": {},
		   "source": [
			"## Example 2.34: dynamic_forward_and_reverse_resistance_of_a_p_n_junction_diode.sce"
		   ]
		  },
  {
"cell_type": "code",
	   "execution_count": null,
	   "metadata": {
	    "collapsed": true
	   },
	   "outputs": [],
"source": [
"// Example 2.34 page no-118\n",
"clear\n",
"clc\n",
"\n",
"I0=10^-6 //A\n",
"T = 301.6  //K\n",
"Vf =0.25 //V\n",
"Vr= 0.25 //V\n",
"//Dynamic Forward Resistance\n",
"Vt=T/11600\n",
"x=(I0*%e^(Vf/Vt))/Vt\n",
"rf=1/x\n",
"printf('\nDynamic Forward Resistance, rf = %.3f Ohm',rf)\n",
"//Dynamic Reverse Resistance\n",
"\n",
"x1=(I0*%e^(-Vf/Vt))/Vt\n",
"rr=1/x1\n",
"printf('\nDynamic Reverse Resistance, rr = %.1f * 10^6 Ohm',rr/10^6)"
   ]
   }
,
{
		   "cell_type": "markdown",
		   "metadata": {},
		   "source": [
			"## Example 2.35: zener_breakdown_voltage.sce"
		   ]
		  },
  {
"cell_type": "code",
	   "execution_count": null,
	   "metadata": {
	    "collapsed": true
	   },
	   "outputs": [],
"source": [
"// Example 2.35 page no-125\n",
"clear\n",
"clc\n",
"\n",
"eps=16/(36*%pi*10^9) //F/m\n",
"mup=1800\n",
"E=4*10^14\n",
"V=(eps*mup*E*10^-6)/2\n",
"sige=1/45\n",
"Vz=ceil(V)/sige\n",
"printf('V=%d V',Vz)"
   ]
   }
,
{
		   "cell_type": "markdown",
		   "metadata": {},
		   "source": [
			"## Example 2.36: Effect_of_bias_on_capacitance_of_a_diode.sce"
		   ]
		  },
  {
"cell_type": "code",
	   "execution_count": null,
	   "metadata": {
	    "collapsed": true
	   },
	   "outputs": [],
"source": [
"// Example 2.36 page no-125\n",
"clear\n",
"clc\n",
"\n",
"Ct=20 //pF\n",
"v1=5 //v\n",
"v2=6 //v\n",
"Ct2=Ct*sqrt(v1/v2)\n",
"printf('Therefore, decrease in the value of capacitance is\nCt1-Ct2=%.2f pF',Ct-Ct2)"
   ]
   }
,
{
		   "cell_type": "markdown",
		   "metadata": {},
		   "source": [
			"## Example 2.37: Zener_As_voltage_regulator.sce"
		   ]
		  },
  {
"cell_type": "code",
	   "execution_count": null,
	   "metadata": {
	    "collapsed": true
	   },
	   "outputs": [],
"source": [
"// Example 2.37 page no-126\n",
"clear\n",
"clc\n",
"V1=200 //V\n",
"Vd=50  //V\n",
"I=40*10^-3 //A\n",
"\n",
"//If Il=0,\n",
"R=(V1-Vd)/I\n",
"I0=5   //mA\n",
"printf('\n(a)\nR=%d Ohm\nImax occurs when I0 = %d mA\nTherefore, Imax = %d mA',R,I0,I*1----I0)\n",
"//for Vmin\n",
"Il=25\n",
"Vmin=Vd+(Il+I0)*0.001*R\n",
"//for Vmax\n",
"Vmax=Vd+(Il+I*1000)*0.001*R\n",
"printf('\n(b)\nFor Vmin\nVmin=%.1fV\n\nFor Vmax\nVmax=%.1fV',Vmin,Vmax)"
   ]
   }
,
{
		   "cell_type": "markdown",
		   "metadata": {},
		   "source": [
			"## Example 2.39: Zener_As_voltage_regulator.sce"
		   ]
		  },
  {
"cell_type": "code",
	   "execution_count": null,
	   "metadata": {
	    "collapsed": true
	   },
	   "outputs": [],
"source": [
"// Example 2.39 page no-127\n",
"clear\n",
"clc\n",
"x=99.5 *10^3  //Ohm (R1+R2)\n",
"rm=0.56 *10^3 //Ohm\n",
"v1=20     //V\n",
"i=v1/x\n",
"i=0.0002 //aproxximated to\n",
"k=16/i\n",
"R1=k-rm\n",
"R2=x-R1\n",
"\n",
"printf('\nR1=%.1f K-ohm\nR2=%.1f K-ohm',R1/1000,R2/1000)"
   ]
   }
,
{
		   "cell_type": "markdown",
		   "metadata": {},
		   "source": [
			"## Example 2.3: Speed_of_ejected_electro.sce"
		   ]
		  },
  {
"cell_type": "code",
	   "execution_count": null,
	   "metadata": {
	    "collapsed": true
	   },
	   "outputs": [],
"source": [
"// Example 2.3 page no-47\n",
"clear\n",
"clc\n",
"e_ar=11.6 //eV\n",
"e_Na=5.12 //eV\n",
"V=e_ar-e_Na\n",
"e=1.6*10^-19 //C\n",
"m=9.1*10^-31 //kg\n",
"v=sqrt(2*e*V/m)\n",
"printf('Velocity, v=%.2f*10^6 m/sec',v/10^6)"
   ]
   }
,
{
		   "cell_type": "markdown",
		   "metadata": {},
		   "source": [
			"## Example 2.40: forward_snd_reverse_current_ratios.sce"
		   ]
		  },
  {
"cell_type": "code",
	   "execution_count": null,
	   "metadata": {
	    "collapsed": true
	   },
	   "outputs": [],
"source": [
"// Example 2.40 page no-127\n",
"clear\n",
"clc\n",
"\n",
"T=301.6\n",
"vt=T*1000/11600\n",
"vf=50 //mV\n",
"vr=-50 //mV\n",
"k=(%e^(vf/vt)-1)/(%e^(vr/vt)-1)\n",
"printf('\nratio=%.2f\nNegative sign is oecause, the direction of \ncurrent is opposite when the diode is reverse biased',k)"
   ]
   }
,
{
		   "cell_type": "markdown",
		   "metadata": {},
		   "source": [
			"## Example 2.41: PN_junction_diode_as_Resistance.sce"
		   ]
		  },
  {
"cell_type": "code",
	   "execution_count": null,
	   "metadata": {
	    "collapsed": true
	   },
	   "outputs": [],
"source": [
"// Example 2.41 page no-128\n",
"clear\n",
"clc\n",
"V=10 //v\n",
"I0=0.07/0.11//(0.07/0.11)xI\n",
"i1=5 //mA\n",
"Ir=1-I0\n",
"i=Ir/I0\n",
"Ir=i*i1\n",
"R=V/Ir\n",
"printf('R=%.1f K-Ohm',R)"
   ]
   }
,
{
		   "cell_type": "markdown",
		   "metadata": {},
		   "source": [
			"## Example 2.42: Zener_As_voltage_regulator.sce"
		   ]
		  },
  {
"cell_type": "code",
	   "execution_count": null,
	   "metadata": {
	    "collapsed": true
	   },
	   "outputs": [],
"source": [
"// Example 2.42 page no-128\n",
"clear\n",
"clc\n",
"\n",
"V=30 //V\n",
"R=2000 //Ohm\n",
"I=V/R\n",
"Iz=0.025 //A\n",
"It=Iz+I\n",
"Rs=200\n",
"Vmax=V+Rs*It\n",
"printf('Vrmax = %d V',Vmax)"
   ]
   }
,
{
		   "cell_type": "markdown",
		   "metadata": {},
		   "source": [
			"## Example 2.4: speed_of_electron_in_sodium_vapour_lamp.sce"
		   ]
		  },
  {
"cell_type": "code",
	   "execution_count": null,
	   "metadata": {
	    "collapsed": true
	   },
	   "outputs": [],
"source": [
"// Example 2.4 page no-48\n",
"clear\n",
"clc\n",
"\n",
"l=5893 //A°\n",
"V=2.11 //Volts\n",
"e=1.6*10^-19 //C\n",
"m=9.1*10^-31 //kg\n",
"v=sqrt(2*e*V/m)\n",
"printf('Velocity, v=%.2f*10^5 m/sec',v/10^5)"
   ]
   }
,
{
		   "cell_type": "markdown",
		   "metadata": {},
		   "source": [
			"## Example 2.5: radio_transmitter.sce"
		   ]
		  },
  {
"cell_type": "code",
	   "execution_count": null,
	   "metadata": {
	    "collapsed": true
	   },
	   "outputs": [],
"source": [
"// Example 2.5 page no-48\n",
"clear\n",
"clc\n",
"\n",
"f=10*10^6 //Hz\n",
"h=6.626*10^-34 //Joules/sec\n",
"e=1.6*10^-19 //C\n",
"//(a)\n",
"E=h*f/e\n",
"printf('\n(a)Energy of each radiated quantum,\n\tE=%.3f*10^-27 Joules/Quantum\n\tE=%.2f*10^-8 eV/Quantum',h*f*10^27,E*10^8)\n",
"\n",
"//(b)\n",
"E=1000  //Joule/sec\n",
"N=E/(h*f)\n",
"printf('\n\n(b)\nTotal number of quanta per sec, N=%.2f*10^29',N/10^29)\n",
"\n",
"//(c)\n",
"o=10^-7\n",
"printf('\n\n(c)\nNumber of quanta emitted per cycle = %.2f*10^22 per cycle',o*N/10^22)"
   ]
   }
,
{
		   "cell_type": "markdown",
		   "metadata": {},
		   "source": [
			"## Example 2.6: Neon_Ionization.sce"
		   ]
		  },
  {
"cell_type": "code",
	   "execution_count": null,
	   "metadata": {
	    "collapsed": true
	   },
	   "outputs": [],
"source": [
"// Example 2.6 page no-48\n",
"clear\n",
"clc\n",
"\n",
"//(a)\n",
"V=21.5 //Volts\n",
"e=1.6*10^-19 //C\n",
"m=9.1*10^-31 //kg\n",
"v=sqrt(2*e*V/m)\n",
"lambda=12400/V //A°\n",
"printf('\n(a)\nVelocity, v=%.2f*10^6 m/sec\nWavelength of Radiation, Lambda=%.1f',v/10^6,ceil(lambda))\n",
"//(b)\n",
"c=3*10^8 //m/sec\n",
"f=c/(lambda*10^-10)\n",
"printf('\n(b)\nFrequency of Radiation, f=%.1f*10^15 Hz',f/10^15)"
   ]
   }
,
{
		   "cell_type": "markdown",
		   "metadata": {},
		   "source": [
			"## Example 2.8: wavelength_of_photon.sce"
		   ]
		  },
  {
"cell_type": "code",
	   "execution_count": null,
	   "metadata": {
	    "collapsed": true
	   },
	   "outputs": [],
"source": [
"// Example 2.8 page no-49\n",
"clear\n",
"clc\n",
"L=1400\n",
"E_diff=12400/L //eV\n",
"del_E=2.15\n",
"L2=12400/del_E\n",
"printf('\nE2-E1=%.2f eV\n1850 A° line is from 6.71 eV to 0 eV\nTherefore, second photon must be from %.2f to 6.71 eV.\nLambda=%d A°.',E_diff,E_diff,L2)"
   ]
   }
,
{
		   "cell_type": "markdown",
		   "metadata": {},
		   "source": [
			"## Example 2.9: High_field_emissio.sce"
		   ]
		  },
  {
"cell_type": "code",
	   "execution_count": null,
	   "metadata": {
	    "collapsed": true
	   },
	   "outputs": [],
"source": [
"// Example 2.9 page no-58\n",
"clear\n",
"clc\n",
"A=60.2*10^4 //A/m^2/°K^2\n",
"B=52400    //°K\n",
"T1=2400    //°K\n",
"T2=2410    //°K\n",
"js1=A*T1^2*(%e^(-B/T1))\n",
"js2=A*T2^2*(%e^(-B/T2))\n",
"js1=floor(js1)\n",
"js2=floor(js2)\n",
"printf('\nJS1=%d A/m^2\nJS2=%d A/m^2',js1,js2)\n",
"p=(js2-js1)*100/js1\n",
"printf('\nPercentage Increase=%.2f%%',p)"
   ]
   }
],
"metadata": {
		  "kernelspec": {
		   "display_name": "Scilab",
		   "language": "scilab",
		   "name": "scilab"
		  },
		  "language_info": {
		   "file_extension": ".sce",
		   "help_links": [
			{
			 "text": "MetaKernel Magics",
			 "url": "https://github.com/calysto/metakernel/blob/master/metakernel/magics/README.md"
			}
		   ],
		   "mimetype": "text/x-octave",
		   "name": "scilab",
		   "version": "0.7.1"
		  }
		 },
		 "nbformat": 4,
		 "nbformat_minor": 0
}
