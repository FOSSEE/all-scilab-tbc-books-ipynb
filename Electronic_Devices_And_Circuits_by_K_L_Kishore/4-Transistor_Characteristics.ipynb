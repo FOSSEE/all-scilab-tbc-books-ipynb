{
"cells": [
 {
		   "cell_type": "markdown",
	   "metadata": {},
	   "source": [
       "# Chapter 4: Transistor Characteristics"
	   ]
	},
{
		   "cell_type": "markdown",
		   "metadata": {},
		   "source": [
			"## Example 4.10: Av_Ai_and_Ap_of_transistor_in_CB_configuration.sce"
		   ]
		  },
  {
"cell_type": "code",
	   "execution_count": null,
	   "metadata": {
	    "collapsed": true
	   },
	   "outputs": [],
"source": [
"// Example 4.10 page no-210\n",
"clear\n",
"clc\n",
"\n",
"alfa=0.96\n",
"Rl=5000\n",
"x=80\n",
"Av=alfa*Rl/x\n",
"\n",
"pg=Av*alfa\n",
"printf('Power Gain = %.1f',pg)"
   ]
   }
,
{
		   "cell_type": "markdown",
		   "metadata": {},
		   "source": [
			"## Example 4.11: Av_Ai_and_Ap_of_Transistor_in_CE_configuration.sce"
		   ]
		  },
  {
"cell_type": "code",
	   "execution_count": null,
	   "metadata": {
	    "collapsed": true
	   },
	   "outputs": [],
"source": [
"// Example 4.11 page no-211\n",
"clear\n",
"clc\n",
"\n",
"alfa = 0.96\n",
"B=alfa/(1-alfa)\n",
"x=80\n",
"Rl=75000  //ohm\n",
"Av=B*Rl/x\n",
"Ap=Av*B\n",
"printf('power gain = %.0f',Ap)"
   ]
   }
,
{
		   "cell_type": "markdown",
		   "metadata": {},
		   "source": [
			"## Example 4.12: Junction_voltages_for_open_collector_transistor.sce"
		   ]
		  },
  {
"cell_type": "code",
	   "execution_count": null,
	   "metadata": {
	    "collapsed": true
	   },
	   "outputs": [],
"source": [
"// Example 4.12 page no-211\n",
"clear\n",
"clc\n",
"ico=2 //micro A\n",
"ieo=1.6 //micro A\n",
"alfa = 0.98\n",
"ie=2 //micro A\n",
"T=301.6\n",
"vt=T/11600\n",
"ve=vt*log(1+(ie/ieo))\n",
"printf('\nVe = %f V',ve)\n",
"vc=vt*log(1+(alfa*ie/ico))\n",
"printf('\nVc = %f V\nV_CE = %f V',vc,vc-ve)\n",
""
   ]
   }
,
{
		   "cell_type": "markdown",
		   "metadata": {},
		   "source": [
			"## Example 4.13: variation_in_Vi_corresponding_to_variation_in_Vo.sce"
		   ]
		  },
  {
"cell_type": "code",
	   "execution_count": null,
	   "metadata": {
	    "collapsed": true
	   },
	   "outputs": [],
"source": [
"// Example 4.13 page no-212\n",
"clear\n",
"clc\n",
"\n",
"rs=200 //Ohm\n",
"vz=100 //V\n",
"rz=20  // Ohm\n",
"il=50 // mA\n",
"iz=0.01//mA\n",
"ilmax=100 //mA\n",
"izmin=0.1*ilmax\n",
"\n",
"vl=vz+iz*rz\n",
"printf('\nV_L = %.1f V',vl)\n",
"v1=vl+((il/1000)+iz)*rs\n",
"printf('\nV1 = %.1fV',v1)\n",
"vldash=vl+1\n",
"izdash=(vldash-100)/rz\n",
"printf('\nIncrease in Iz = %.2f mA',izdash)\n",
"it=(il/1000)+izdash\n",
"vt=vldash+(rs*it)\n",
"printf('\nTotal Current = %.1f A\nTotal Voltage = %.1f V\nchange in V1 =%.0fV\nA change of 11 V in V, on the input side produces a change of\n1V on the output side due to zener diode action',it,vt,vt-v1)"
   ]
   }
,
{
		   "cell_type": "markdown",
		   "metadata": {},
		   "source": [
			"## Example 4.14: Design_of_bias_circuit_for_zero_drain_current_drift.sce"
		   ]
		  },
  {
"cell_type": "code",
	   "execution_count": null,
	   "metadata": {
	    "collapsed": true
	   },
	   "outputs": [],
"source": [
"// Example 4.14 page no-226\n",
"clear\n",
"clc\n",
"vp=-3 ///V\n",
"vgs=vp-0.63  //V\n",
"idss=1.75 //mA\n",
"rd=5  //K-Ohm\n",
"gmo=1.8  //mA/V\n",
"//(a)\n",
"id=idss*(1-(vgs/vp))^2\n",
"rs=-vgs/0.08\n",
"gm=gmo*(vgs-vp)/vp\n",
"Av=gm*rd\n",
"printf('\n(a)Id for zero drift current\nId = %.2f mA\n\n(b)\nVgs = %.2f V\n\n(c)\nRs = %d K-Ohm\n\n(d)\ngm = %.3f mA/V\nAv = %.2f',id,vgs,rs,gm,Av)"
   ]
   }
,
{
		   "cell_type": "markdown",
		   "metadata": {},
		   "source": [
			"## Example 4.15: pinch_off_voltage.sce"
		   ]
		  },
  {
"cell_type": "code",
	   "execution_count": null,
	   "metadata": {
	    "collapsed": true
	   },
	   "outputs": [],
"source": [
"// Example 4.15 page no-228\n",
"clear\n",
"clc\n",
"\n",
"a=2*10^-4  //cm\n",
"rho = 10 //Ohm-cm\n",
"eps=12/(36*%pi*10^11) \n",
"mup = 500  //cm^2/V-sec\n",
"ena=1/(rho*mup)\n",
"\n",
"vp= (ena*a^2)/(2*eps)\n",
"printf('Vp = %.2f V',vp)"
   ]
   }
,
{
		   "cell_type": "markdown",
		   "metadata": {},
		   "source": [
			"## Example 4.16: pinch_off_voltage.sce"
		   ]
		  },
  {
"cell_type": "code",
	   "execution_count": null,
	   "metadata": {
	    "collapsed": true
	   },
	   "outputs": [],
"source": [
"// Example 4.16 page no-231\n",
"clear\n",
"clc\n",
"\n",
"printf('Same as problem 4.15 in the same chapter')"
   ]
   }
,
{
		   "cell_type": "markdown",
		   "metadata": {},
		   "source": [
			"## Example 4.17: pinch_off_voltage_and_channel_half_width.sce"
		   ]
		  },
  {
"cell_type": "code",
	   "execution_count": null,
	   "metadata": {
	    "collapsed": true
	   },
	   "outputs": [],
"source": [
"// Example 4.17 page no-231\n",
"clear\n",
"clc\n",
"\n",
"a=3*10^-4 //cm\n",
"nd=10^15 //electrons/cm^3\n",
"e=1.6*10^-19  //C\n",
"eps=12/(36*%pi*10^11)\n",
"vp=e*nd*a^2/(2*eps)\n",
"printf('\n(a)\nVp = %.1f V',vp)\n",
"b=a*(1-(1/2)^(1/2))\n",
"printf('\n\n(b)Vgs=Vp/2\nb = %.2f * 10^-4 cm',b*10^4)"
   ]
   }
,
{
		   "cell_type": "markdown",
		   "metadata": {},
		   "source": [
			"## Example 4.1: minimum_base_current_to_work_transistor_in_saturation_region.sce"
		   ]
		  },
  {
"cell_type": "code",
	   "execution_count": null,
	   "metadata": {
	    "collapsed": true
	   },
	   "outputs": [],
"source": [
"// Example 4.1 page no-203\n",
"clear\n",
"clc\n",
"\n",
"vcc=12 //V\n",
"rl=4  // Ohm\n",
"ic=vcc/rl\n",
"alfa=0.98\n",
"B=alfa/(1-alfa)\n",
"ibmin=ic/B\n",
"printf('\nIc(saturation)= %d mA\nBeta = %.0f \nIb(min) = %.1f micro A',ic,B,ibmin*1000)"
   ]
   }
,
{
		   "cell_type": "markdown",
		   "metadata": {},
		   "source": [
			"## Example 4.20: design_of_self_bias_circuit.sce"
		   ]
		  },
  {
"cell_type": "code",
	   "execution_count": null,
	   "metadata": {
	    "collapsed": true
	   },
	   "outputs": [],
"source": [
"// Example 4.20 page no-241\n",
"clear\n",
"clc\n",
"\n",
"vdd=30 //v\n",
"rl=4.7 //k-ohm\n",
"vd=20  //v\n",
"id=(vdd-vd)/rl\n",
"printf('\nId = %.1f mA',id)\n",
"printf('\nfor vd to be constant, it should be within ±1V')\n",
"del_id=1/rl\n",
"printf('\nDelta_Id = ± %.1f mA\nId(min) = %f mA\nId(max) = %f mA' ,del_id,id-del_id,id+del_id)\n",
"\n",
"delv=vdd-vd\n",
"deli=2.5 //mA\n",
"rs=delv/(deli)\n",
"printf('\nRs = %d K-Ohm',rs)\n",
"\n",
" "
   ]
   }
,
{
		   "cell_type": "markdown",
		   "metadata": {},
		   "source": [
			"## Example 4.21: Voltage_gain_and_output_impedance_of_common_source_amplifier.sce"
		   ]
		  },
  {
"cell_type": "code",
	   "execution_count": null,
	   "metadata": {
	    "collapsed": true
	   },
	   "outputs": [],
"source": [
"// Example 4.21 page no-243\n",
"clear\n",
"clc\n",
"rd=100*10^3 //Ohm\n",
"gm=3000*10^-6\n",
"rl=10000 //Ohm\n",
"Av=(-gm*rd*rl)/(rd+rl)\n",
"printf('\n(a)\nAv = %.1f',Av)\n",
"f=10^6 //Hz\n",
"c=3*10^-12  //F\n",
"xc=1/(2*%pi*f*c)\n",
"r0= 9.09  //K-Ohm\n",
"printf('\n\n(b)\nXc = %d K-Ohm',xc/1000)\n",
"z0 = (r0*xc)/sqrt(r0^2 + (xc/1000)^2)\n",
"printf('\nZ0 = %.2f K-Ohm',z0/1000)"
   ]
   }
,
{
		   "cell_type": "markdown",
		   "metadata": {},
		   "source": [
			"## Example 4.22: calculation_of_Vgs_Id_and_Vds.sce"
		   ]
		  },
  {
"cell_type": "code",
	   "execution_count": null,
	   "metadata": {
	    "collapsed": true
	   },
	   "outputs": [],
"source": [
"// Example 4.22 page no-245\n",
"clear\n",
"clc\n",
"\n",
"idss=5*10^-3//mA\n",
"vp = -5  //V\n",
"rs =5000 //Ohm\n",
"rl=2 //k-ohm\n",
"vdd=10\n",
"//Vgs^2+11Vgs+25=0 fro equation of Id and Vgs\n",
"vgs=(-11+sqrt(121-100))/2\n",
"id=idss*(1-(vgs/vp))^2\n",
"x=id*rl*1000\n",
"y=id*rs\n",
"vds =vdd-x-y\n",
"printf('\nVgs = %.2fV\nId = %.2f mA\nVds = %.1f V\nThe FET must be conducting.\nIf VGS = -7.8V the FET in cut off. Therefore Vp = -5V. \nTherefore VGS is chosen as -3.2V',vgs,id*1000,vds)"
   ]
   }
,
{
		   "cell_type": "markdown",
		   "metadata": {},
		   "source": [
			"## Example 4.5: maximum_allowable_value_of_RB_for_transistor_in_cut_off.sce"
		   ]
		  },
  {
"cell_type": "code",
	   "execution_count": null,
	   "metadata": {
	    "collapsed": true
	   },
	   "outputs": [],
"source": [
"// Example 4.5 page no-206\n",
"clear\n",
"clc\n",
"t1=75\n",
"t2=25\n",
"icbo=2         // at T1=25\n",
"icbo2=icbo*2^((t1-t2)/10)\n",
"vbe=0.1\n",
"vbb=5\n",
"Rb=(vbb-vbe)/icbo2\n",
"printf('\nIcbo at 75°C = %.0f micro A\nRb = %.1f K-Ohm',icbo2,Rb*1000)"
   ]
   }
,
{
		   "cell_type": "markdown",
		   "metadata": {},
		   "source": [
			"## Example 4.6: temperature_increase_before_transistor_comes_of_cut_off.sce"
		   ]
		  },
  {
"cell_type": "code",
	   "execution_count": null,
	   "metadata": {
	    "collapsed": true
	   },
	   "outputs": [],
"source": [
"// Example 4.6 page no-207\n",
"clear\n",
"clc\n",
"vbb=-1 //V\n",
"Rb=50 //K-Ohm\n",
"vbe=-0.1\n",
"Icbo=(vbe-vbb)/Rb\n",
"printf('\nIcbo =%.0f micro A',Icbo*1000)\n",
"t=log(Icbo*1000/2)*10/(log(2))\n",
"printf('\nDelta_T = %d°C \nHence, T=%d°C',ceil(t),ceil(t)+25)"
   ]
   }
,
{
		   "cell_type": "markdown",
		   "metadata": {},
		   "source": [
			"## Example 4.7: calculation_of_ib_ic_and_vbc_for_transistor_AF_114.sce"
		   ]
		  },
  {
"cell_type": "code",
	   "execution_count": null,
	   "metadata": {
	    "collapsed": true
	   },
	   "outputs": [],
"source": [
"// Example 4.7 page no-207\n",
"clear\n",
"clc\n",
"\n",
"vce = - 0.07 //V \n",
"vbe = - 0.21 //V.\n",
"vcc=-9\n",
"rc=1   //K-Ohm\n",
"rb=30 //K-Ohm\n",
"ic=(vcc-vce)/rc\n",
"ib=(vcc-vbe)/rb\n",
"vbc=vbe-vce\n",
"printf('\nIc = %.2f mA\nIB = %.3f mA\nVbc = %.2f V',ic,ib,vbc)"
   ]
   }
,
{
		   "cell_type": "markdown",
		   "metadata": {},
		   "source": [
			"## Example 4.8: calculation_of_resistance_in_CE_configuration.sce"
		   ]
		  },
  {
"cell_type": "code",
	   "execution_count": null,
	   "metadata": {
	    "collapsed": true
	   },
	   "outputs": [],
"source": [
"// Example 4.8 page no-208\n",
"clear\n",
"clc\n",
"\n",
"alfa=0.98\n",
"Ie=-2   //in mA IE is negative because it is NPN transistor\n",
"Ic=-alfa*Ie\n",
"Ib=(1-alfa)*(-Ie)\n",
"vbe=0.6 //V\n",
"vcc=12 //V\n",
"re=100 //ohm\n",
"r2= 20000 //ohm\n",
"r1=3.3 //k-Ohm\n",
"vbn=vbe-(Ie*re*10^-3)\n",
"printf('\nIc = %.2f mA\nIb = %.0f micro A\nV_BN =%.1f V',Ic,Ib*1000,vbn)\n",
"Ir2=vbn*10^3/r2\n",
"Ir1=Ir2+Ib\n",
"printf('\nIR1 = %.0f micro A\nIR2 = %.0f micro A\nIrc = %.2f mA',Ir1*1000,Ir2*1000,Ir1+Ic)\n",
"vr1=vcc-((Ir1+Ic)*r1)-vbn\n",
"R1=vr1/Ir1\n",
"printf('\nR1=%d K-Ohm',ceil(R1))"
   ]
   }
,
{
		   "cell_type": "markdown",
		   "metadata": {},
		   "source": [
			"## Example 4.9: Barrier_Potential.sce"
		   ]
		  },
  {
"cell_type": "code",
	   "execution_count": null,
	   "metadata": {
	    "collapsed": true
	   },
	   "outputs": [],
"source": [
"// Example 4.9 page no-208\n",
"clear\n",
"clc\n",
"\n",
"eps=12/(36*%pi*10^11) //F/cm\n",
"mup=500 // cm^2/V-Sec\n",
"Vb=(2.54/1000)^2/(2*eps*mup)\n",
"printf('VB = %.1f*10^3*W^2/rho_B',Vb/1000)"
   ]
   }
],
"metadata": {
		  "kernelspec": {
		   "display_name": "Scilab",
		   "language": "scilab",
		   "name": "scilab"
		  },
		  "language_info": {
		   "file_extension": ".sce",
		   "help_links": [
			{
			 "text": "MetaKernel Magics",
			 "url": "https://github.com/calysto/metakernel/blob/master/metakernel/magics/README.md"
			}
		   ],
		   "mimetype": "text/x-octave",
		   "name": "scilab",
		   "version": "0.7.1"
		  }
		 },
		 "nbformat": 4,
		 "nbformat_minor": 0
}
