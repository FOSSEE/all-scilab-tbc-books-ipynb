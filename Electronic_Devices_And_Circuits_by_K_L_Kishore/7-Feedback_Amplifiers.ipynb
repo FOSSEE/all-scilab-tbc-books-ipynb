{
"cells": [
 {
		   "cell_type": "markdown",
	   "metadata": {},
	   "source": [
       "# Chapter 7: Feedback Amplifiers"
	   ]
	},
{
		   "cell_type": "markdown",
		   "metadata": {},
		   "source": [
			"## Example 7.1: determination_of_various_parameters_of_feedback_amplifiers.sce"
		   ]
		  },
  {
"cell_type": "code",
	   "execution_count": null,
	   "metadata": {
	    "collapsed": true
	   },
	   "outputs": [],
"source": [
"// Example 7.1 page no-402\n",
"clear\n",
"clc\n",
"\n",
"Av=-100\n",
"B=0.01\n",
"Avd=Av/(1-B*Av)\n",
"v1d=10^-3 //1mV\n",
"V0=Avd*v1d*1000\n",
"Vx=B*V0\n",
"V1=v1d+Vx\n",
"printf('V1=%.3f\nV1d=%.3f\n This is negative feedback because, v1<v1_dash\n', V1,v1d)"
   ]
   }
,
{
		   "cell_type": "markdown",
		   "metadata": {},
		   "source": [
			"## Example 7.2: percentage_variation_in_Avdash.sce"
		   ]
		  },
  {
"cell_type": "code",
	   "execution_count": null,
	   "metadata": {
	    "collapsed": true
	   },
	   "outputs": [],
"source": [
"// Example 7.2 page no-403\n",
"clear\n",
"clc\n",
"\n",
"Av=-100\n",
"Avd=-50\n",
"Avnew=-200\n",
"B=0.01\n",
"Avdnew=Avnew/(1-B*Avnew)\n",
"avchange=(-Avdnew)-(-Avd)\n",
"var=avchange*100/(-Avd)\n",
"printf('Variation = %.1f%%',var)"
   ]
   }
,
{
		   "cell_type": "markdown",
		   "metadata": {},
		   "source": [
			"## Example 7.3: reverse_transmission_factor_and_gain_with_feedback.sce"
		   ]
		  },
  {
"cell_type": "code",
	   "execution_count": null,
	   "metadata": {
	    "collapsed": true
	   },
	   "outputs": [],
"source": [
"// Example 7.3 page no-403\n",
"clear\n",
"clc\n",
"\n",
"//(a)\n",
"dA=100\n",
"A=1000\n",
"dAf=0.1\n",
"Af=100\n",
"B=(((dA/A)*(Af/dAf))-1)/A\n",
"printf('(a)\nBeta=%.3f',B)\n",
"//(b)\n",
"Aff=A/(1+B*A)\n",
"printf('\n\n(b)\nAf=%d',Aff)"
   ]
   }
,
{
		   "cell_type": "markdown",
		   "metadata": {},
		   "source": [
			"## Example 7.4: Improvement_in_stability.sce"
		   ]
		  },
  {
"cell_type": "code",
	   "execution_count": null,
	   "metadata": {
	    "collapsed": true
	   },
	   "outputs": [],
"source": [
"// Example 7.4 page no-404\n",
"clear\n",
"clc\n",
"S=0.1\n",
"Sdash=0.01\n",
"k=S/Sdash   //k=1+BAv\n",
"\n",
"Avdash=100\n",
"Av=Avdash*k\n",
"\n",
"B=(k-1)/Av\n",
"printf('By providing negative feedback,with\nBeta = %.3f\nwe can improve the stability to 1%%.',B)"
   ]
   }
,
{
		   "cell_type": "markdown",
		   "metadata": {},
		   "source": [
			"## Example 7.5: Overall_gain_and_reverse_transmission_factor.sce"
		   ]
		  },
  {
"cell_type": "code",
	   "execution_count": null,
	   "metadata": {
	    "collapsed": true
	   },
	   "outputs": [],
"source": [
"// Example 7.5 page no-404\n",
"clear\n",
"clc\n",
"\n",
"Av=500\n",
"D=5\n",
"Ddash=0.1\n",
"B=((D/Ddash)-1)/(Av)\n",
"Avdash=-Av/(1+B*Av)\n",
"printf('Av_dash = %.0f',Avdash)"
   ]
   }
,
{
		   "cell_type": "markdown",
		   "metadata": {},
		   "source": [
			"## Example 7.6: different_parameeters_with_and_without_negative_feedback.sce"
		   ]
		  },
  {
"cell_type": "code",
	   "execution_count": null,
	   "metadata": {
	    "collapsed": true
	   },
	   "outputs": [],
"source": [
"// Example 7.6 page no-405\n",
"clear\n",
"clc\n",
"\n",
"Vs=150\n",
"A=10000\n",
"V0=A*Vs\n",
"\n",
"Afb=10000/80\n",
"\n",
"B=((A/Afb)-1)/A\n",
"printf('Beta =%.4f\n',B)\n",
"\n",
"Vs2=130\n",
"A2=8000\n",
"V02=A2*Vs\n",
"Afb2=A2/(1+(B*A2))\n",
"sg=(A-A2)*100/A\n",
"sgf=(Afb-Afb2)*100/Afb\n",
"printf('%% stability of gain without feedback=%.0f%%\n%% stability of gain with feedback=%f%%\n Therefore, with neative feedbaclk stability is improved.',sg,sgf)"
   ]
   }
,
{
		   "cell_type": "markdown",
		   "metadata": {},
		   "source": [
			"## Example 7.7: Avf_Rof_and_Rif_for_the_voltage_series_feedback.sce"
		   ]
		  },
  {
"cell_type": "code",
	   "execution_count": null,
	   "metadata": {
	    "collapsed": true
	   },
	   "outputs": [],
"source": [
"// Example 7.7 page no-409\n",
"clear\n",
"clc\n",
"//Though the calculations are same as given in book answers do not match with the answers given in the Book.\n",
"Rs=0\n",
"hfe=50\n",
"hie =1.100\n",
"hre=0\n",
"hoe=0\n",
"r5=2.2000\n",
"r7=3.3000\n",
"r3=33\n",
"r1=0.1\n",
"r2=10\n",
"r9=2.2\n",
"R1=0.98\n",
"r6=2.2\n",
"R0=2\n",
"//Rl =R5 is in parallel with R7,R8 and h1e2\n",
"Rl1=(r5*r3*r7*hie)/((r5*r3*r7)+(hie*r3*r7)+(r5*hie*r7)+(r5*r3*hie))\n",
"printf('Rl1_dash=%f',Rl1)\n",
"Rl2=(r9*(r1+r2))/(r9+(r1+r2))\n",
"printf('\nRl2=%f = 2 KOhm(approx)',Rl2)\n",
"Re=(r1*r6)/(r1+r6)\n",
"printf('\nRe=%f kohm=%.0f ohm',Re,ceil(Re*1000))\n",
"\n",
"Av1=-(hfe*Rl1)/(hie+(1+hfe)*0.098)//The voltage gain AV1 of Q] for a common emitter transistor with emitter resistance\n",
"Av2=(-hfe*Rl2)/hie//Voltage gain AY2 of transistor Q2\n",
"printf('\nAv1=%.2f\nAv2=%.2f',Av1,Av2)\n",
"Av=Av1*Av2//Voltage gain Ay of the two stages is cascade without feedback\n",
"B=r1/(r1+r2)\n",
"K=Av*B\n",
"D=1+K\n",
"Avf=Av/D\n",
"printf('\nAvf=%d',Avf)\n",
"Ri=hie+(1+hfe)*Re//Input resistance without external feedback\n",
"Ridash=Ri*D\n",
"printf('\nRi_dash = %f K Ohm',Ridash)\n",
"Rof=R0/D//Output resistance without feedback\n",
"printf('\nRof_dash=%f K Ohm',Rof)"
   ]
   }
,
{
		   "cell_type": "markdown",
		   "metadata": {},
		   "source": [
			"## Example 7.8: current_series_feedack.sce"
		   ]
		  },
  {
"cell_type": "code",
	   "execution_count": null,
	   "metadata": {
	    "collapsed": true
	   },
	   "outputs": [],
"source": [
"// Example 7.8 page no-414\n",
"clear\n",
"clc\n",
"\n",
"Rc1 =3\n",
"Rc2 =0.500\n",
"Re2 = 0.05\n",
"Rdash=1.2\n",
"Rs = 1.2\n",
"hfe = 50.\n",
"hie = 1.1 \n",
"hre=0\n",
"hre =0\n",
"\n",
"Ai=-hfe             //EmItter follower\n",
"\n",
"Ri2=hie+(1+hfe)*(Re2*Rdash/(Re2+Rdash))\n",
"k1=-Rc1/(Rc1+Ri2)\n",
"k1=ceil(k1*1000)\n",
"k1=k1/1000\n",
"R=Rs*(Rdash+Re2)/(Rs+(Rdash+Re2))\n",
"k2=R/(R+hie)\n",
"k2=floor(k2*1000)\n",
"k2=k2/1000\n",
"AI=Ai*k1*k2*hfe\n",
"B=Re2/(Re2+Rdash)\n",
"D=(1+B*AI)\n",
"Adash=AI/(1+B*AI)\n",
"Avdash=Adash*Rc2/Rs\n",
"printf('\nAI=%d\nBeta=%.2f\nAi_dash=%.1f\nAv_dash=%.2f',AI,B,Adash,Avdash)\n",
"Ri=R*hie/(R+hie)   //Ri = Input resistance without feedback\n",
"Ridash=Ri/D\n",
"Rol=Rc2  //RoL =Ro in parallel with RC2 = RC2 and Ro is large\n",
"Rldash= Rol*D/D   //with feedback considering RL\n",
"printf('\nRi=%f K Ohm\nRl_dash=%f K Ohm',Ri,Rldash)"
   ]
   }
,
{
		   "cell_type": "markdown",
		   "metadata": {},
		   "source": [
			"## Example 7.9: calculation_of_Avf_and_Rif_for_given_circuit.sce"
		   ]
		  },
  {
"cell_type": "code",
	   "execution_count": null,
	   "metadata": {
	    "collapsed": true
	   },
	   "outputs": [],
"source": [
"// Example 7.9 page no-424\n",
"clear\n",
"clc\n",
"\n",
"Rc=4\n",
"Rb=40\n",
"Rs=10\n",
"hie=1.1\n",
"hfe=50\n",
"hre=0\n",
"hoe=0\n",
"\n",
"Rcdash=Rc*Rb/(Rc+Rb)\n",
"R=Rs*Rb/(Rs+Rb)\n",
"Rm=-hfe*Rcdash*R/(R+hie)\n",
"Rm=floor(Rm)\n",
"printf('\nTransresistance Rm=%d k',Rm)\n",
"B=-1/(Rb)\n",
"D=1+B*Rm\n",
"Rmdash=Rm/D\n",
"Avdash=Rmdash/Rs\n",
"Ri=R*hie/(R+hie)\n",
"Ridash=Ri/D\n",
"printf('\nBeta=%.3f mA/V\nRm_dash=%dk Ohm\nAv_dash=%f\nRi=%f k Ohm\nRi_dash=%fk Ohm',B,Rmdash,Avdash,Ri,Ridash)"
   ]
   }
],
"metadata": {
		  "kernelspec": {
		   "display_name": "Scilab",
		   "language": "scilab",
		   "name": "scilab"
		  },
		  "language_info": {
		   "file_extension": ".sce",
		   "help_links": [
			{
			 "text": "MetaKernel Magics",
			 "url": "https://github.com/calysto/metakernel/blob/master/metakernel/magics/README.md"
			}
		   ],
		   "mimetype": "text/x-octave",
		   "name": "scilab",
		   "version": "0.7.1"
		  }
		 },
		 "nbformat": 4,
		 "nbformat_minor": 0
}
