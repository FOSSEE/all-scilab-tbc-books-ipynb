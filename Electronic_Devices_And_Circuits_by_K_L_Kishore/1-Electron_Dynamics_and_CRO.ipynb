{
"cells": [
 {
		   "cell_type": "markdown",
	   "metadata": {},
	   "source": [
       "# Chapter 1: Electron Dynamics and CRO"
	   ]
	},
{
		   "cell_type": "markdown",
		   "metadata": {},
		   "source": [
			"## Example 1.10: distance_travelled_in_helical_path.sce"
		   ]
		  },
  {
"cell_type": "code",
	   "execution_count": null,
	   "metadata": {
	    "collapsed": true
	   },
	   "outputs": [],
"source": [
"// Example 1.10 page no-25\n",
"clear\n",
"clc\n",
"\n",
"Energy=50 //eV\n",
"V0=Energy   //Volts\n",
"e=1.6*10^-19 //c\n",
"m=9.1*10^-31 //kg\n",
"v0=sqrt(2*e*V0/m)\n",
"v0=ceil(v0/10^5)\n",
"v0=(v0/10)*10^6\n",
"printf('\nVelocity, v0=%.0f',v0)\n",
"\n",
"t=(35.5*10^-12)/(2*10^-3)\n",
"//Components of velocities are\n",
"v1=v0*cos(10*%pi/180)\n",
"v2=v0*cos(20*%pi/180)\n",
"x=v1-v2\n",
"d=x*t\n",
"printf('\nDistance, d =%.4f cm',d*100)"
   ]
   }
,
{
		   "cell_type": "markdown",
		   "metadata": {},
		   "source": [
			"## Example 1.11: Deflection_sensitivity.sce"
		   ]
		  },
  {
"cell_type": "code",
	   "execution_count": null,
	   "metadata": {
	    "collapsed": true
	   },
	   "outputs": [],
"source": [
"// Example 1.11 page no-33\n",
"clear\n",
"clc\n",
"\n",
"l=2 //cm\n",
"D=18 //cm\n",
"s=0.5 //cm\n",
"\n",
"//(a)\n",
"va1=500 //volts\n",
"ds1=l*D/(2*s*va1)//Deflection Sensitivity\n",
"//(b)\n",
"va2=1000 //Volts\n",
"ds2=l*D/(2*s*va2)\n",
"//(c)\n",
"va3=1500 //Volts\n",
"ds3=l*D/(2*s*va3)\n",
"printf('\n(a)Va=%dV\nDeflection Sensitivity S_E=%.3f cm/V \n\n(b)Va=%dV\nDeflection Sensitivity S_E=%.3f cm/V\n\n(c)Va=%dV\nDeflection Sensitivity S_E=%.3f cm/V',va1,ds1,va2,ds2,va3,ds3)"
   ]
   }
,
{
		   "cell_type": "markdown",
		   "metadata": {},
		   "source": [
			"## Example 1.12: displacement_angle_and_velocity_of_electron_in_CRT.sce"
		   ]
		  },
  {
"cell_type": "code",
	   "execution_count": null,
	   "metadata": {
	    "collapsed": true
	   },
	   "outputs": [],
"source": [
"// Example 1.12 page no-34\n",
"clear\n",
"clc\n",
"\n",
"l=2 //cm\n",
"D=24 //cm\n",
"s=0.5 //cm\n",
"Vd=30 //Volts\n",
"Va=1000 //Volts\n",
"\n",
"//(a)\n",
"d=Vd*l*D/(2*s*Va)\n",
"printf('\n(a)\nDeflection Produce, d=%.2f cm\n',d)\n",
"\n",
"//(b)\n",
"theta=(atan(d/D))*(180/%pi)\n",
"printf('\n(b)\nTheta=%.2f°',theta)\n",
"//(c)\n",
"e=1.6*10^-19//C\n",
"m=9.1*10^-31//kg\n",
"v=sqrt(2*e*Va/m)\n",
"vr=v/cos(theta*%pi/180)\n",
"printf('\n\n(c)\nResultant Velocity, Vr=%.2f *10^6 m/sec',vr/10^6)"
   ]
   }
,
{
		   "cell_type": "markdown",
		   "metadata": {},
		   "source": [
			"## Example 1.13: Calculation_of_transverse_magnetic_field.sce"
		   ]
		  },
  {
"cell_type": "code",
	   "execution_count": null,
	   "metadata": {
	    "collapsed": true
	   },
	   "outputs": [],
"source": [
"// Example 1.13 page no-34\n",
"clear\n",
"clc \n",
"\n",
"l=1.27 //cm\n",
"D=19.4 //cm\n",
"s=0.475 //cm\n",
"Va=400 //volts\n",
"Se=l*D*10^-2/(2*s*Va)\n",
"Se=ceil(Se*10^5)\n",
"printf('\nS_E=%.2f mm/v',Se/100)\n",
"\n",
"v=30   //volt\n",
"e=1.6*10^-19 //C\n",
"m=9.1*10^-31 //kg\n",
"x=sqrt(m/e)\n",
"B=(x*0.65*30*sqrt(2*Va))/(l*D)\n",
"printf('\nB=%.2f*10^-5 wb/m^2',B*10^5)//answer not matches with given answer"
   ]
   }
,
{
		   "cell_type": "markdown",
		   "metadata": {},
		   "source": [
			"## Example 1.14: effect_of_earths_magnetic_filed_on_deflection_in_CRT.sce"
		   ]
		  },
  {
"cell_type": "code",
	   "execution_count": null,
	   "metadata": {
	    "collapsed": true
	   },
	   "outputs": [],
"source": [
"// Example 1.14 page no-35\n",
"clear\n",
"clc\n",
"\n",
"v0=1.19*10^7//m/sec\n",
"B=0.6*10^-4 //wb/m^2\n",
"v=400\n",
"//Radius of the circle described by the electron due to earth magnetic field\n",
"R=3.37*10^-6*sqrt(v)/B\n",
"printf('\nRadius of Circle, R=%.2fm',R)\n",
"y=sqrt((112)^2-20^2)\n",
"y=112-y\n",
"printf('\ndeflection of the electron on the screen, y=%.1f cm',y)"
   ]
   }
,
{
		   "cell_type": "markdown",
		   "metadata": {},
		   "source": [
			"## Example 1.1: speed_of_electon_in_electric_field.sce"
		   ]
		  },
  {
"cell_type": "code",
	   "execution_count": null,
	   "metadata": {
	    "collapsed": true
	   },
	   "outputs": [],
"source": [
"// Example 1.1 page no-4\n",
"clear\n",
"clc\n",
"\n",
"//(1)\n",
"V=10\n",
"d=5*10^-2\n",
"t=50*10^-9\n",
"T=10^-7\n",
"x=1.76*10^11\n",
"eps=V/(d*T)\n",
"a=x*eps\n",
"v=a*t^2/2\n",
"printf('\n(1)\nVelocity, v = %.1f*10^5 m/s\n',v/100000)\n",
"\n",
"//(2)\n",
"x1=(a/6)*(t^3)\n",
"printf('\n(2)\ndistance, x=%f cm\n',x1*100)\n",
"\n",
"//(3)\n",
"x2=0.05\n",
"t1=(x2/(a/6))^(1/3)\n",
"v1=(a/2)*t1^2\n",
"printf('\n(3)\nspeed with which the electron strikes the positive plate,\nv = %.2f*10^6 m/sec',v1/10^6)"
   ]
   }
,
{
		   "cell_type": "markdown",
		   "metadata": {},
		   "source": [
			"## Example 1.2: speed_of_electron_and_position_of_applied_AC_voltage_point.sce"
		   ]
		  },
  {
"cell_type": "code",
	   "execution_count": null,
	   "metadata": {
	    "collapsed": true
	   },
	   "outputs": [],
"source": [
"// Example 1.2 page no-9\n",
"clear\n",
"clc\n",
"\n",
"e=1.6*10^-19//C\n",
"m=9.1*10^-31//kg\n",
"Vmax=1.5 //v\n",
"w=2*%pi*60*10^6//rad/sec\n",
"d=8*10^-3 //m\n",
"Max_Vel=2*e*Vmax/(m*d*w)\n",
"Max_Vel=ceil(Max_Vel*10^-3)\n",
"printf('The Maximum value of Velocity is, \n dx/dt=%.2f*10^5 m/sec',Max_Vel/100)"
   ]
   }
,
{
		   "cell_type": "markdown",
		   "metadata": {},
		   "source": [
			"## Example 1.3: effect_of_electric_filed_on_electron.sce"
		   ]
		  },
  {
"cell_type": "code",
	   "execution_count": null,
	   "metadata": {
	    "collapsed": true
	   },
	   "outputs": [],
"source": [
"// Example 1.3 page no-10\n",
"clear\n",
"clc\n",
"\n",
"\n",
"///(1)\n",
"eps=(2000)/3 //V/cm\n",
"e=1.6*10^-19  //C\n",
"m=9.1*10^-31  //kg\n",
"v= 10^7  // dy/dt=v m/sec\n",
"t=v*m/(e*eps*100)\n",
"t=floor(t*10^11)\n",
"t=t/10\n",
"printf('\n(1)\nTime ,t=%.1f*10^-10 sec\n',t)\n",
"t=t*10^-10\n",
"//(2)\n",
"y=(e*eps*100*t^2)/(2*m)\n",
"printf('\n(2)\nDistance travelled by electron , y=%f m\n',y)\n",
"//(3)\n",
"pd=eps*100*y\n",
"printf('\n(3)\nPotential Drop=%.1f Volts',pd)"
   ]
   }
,
{
		   "cell_type": "markdown",
		   "metadata": {},
		   "source": [
			"## Example 1.4: calculation_of_potential.sce"
		   ]
		  },
  {
"cell_type": "code",
	   "execution_count": null,
	   "metadata": {
	    "collapsed": true
	   },
	   "outputs": [],
"source": [
"// Example 1.4 page no-13\n",
"clear\n",
"clc\n",
"V0=10 //volts siince energy is 10ev\n",
"xm=2 \n",
"theta=%pi/4\n",
"V=(2*V0*sin(2*theta))/xm\n",
"printf('V=%.0fd Volts',V)"
   ]
   }
,
{
		   "cell_type": "markdown",
		   "metadata": {},
		   "source": [
			"## Example 1.5: Application_of_magnetic_field_on_electron.sce"
		   ]
		  },
  {
"cell_type": "code",
	   "execution_count": null,
	   "metadata": {
	    "collapsed": true
	   },
	   "outputs": [],
"source": [
"// Example 1.5 page no-19\n",
"clear\n",
"clc\n",
"\n",
"B=0.03        //wb/m^2\n",
"m=9.1*10^-31  //kg\n",
"V=2*10^5\n",
"e=1.6*10^-19 //C\n",
"\n",
"R=(2*m*V/e)^(1/2)\n",
"R=floor(R*100/B)\n",
"printf('Radius of the circle, R=%.0f cm',R)\n",
"//OAC is a right angled triangle\n",
"oa=R\n",
"oc=3\n",
"ac=sqrt((oa)^2-(oc)^2)\n",
"printf('\n  AD=%d cm',oa-ac)"
   ]
   }
,
{
		   "cell_type": "markdown",
		   "metadata": {},
		   "source": [
			"## Example 1.6: calculation_of_transit_time.sce"
		   ]
		  },
  {
"cell_type": "code",
	   "execution_count": null,
	   "metadata": {
	    "collapsed": true
	   },
	   "outputs": [],
"source": [
"// Example 1.6 page no-20\n",
"clear\n",
"clc\n",
"\n",
"m=9.1*10^-31  //kg\n",
"V=100\n",
"e=1.6*10^-19 //C\n",
"d=5*10^-2  //m\n",
"t=10^-8   //sec\n",
"d1=(e*V*t^2)/(m*d*2)\n",
"d2=(5-d1*100)\n",
"printf('\nd1=%.3f*10^-2m\nd2=%.2f*10^-2m',d1*100,d2)\n",
"t1=0.01*10^-6///sec\n",
"v1=e*V*t1/(m*d)\n",
"v1=ceil(v1/10^4)\n",
"printf('\nVelocity of Electron,v=%.2f*10^6m/s',v1/100)\n",
"t2=(d2*10^-2)/(v1*10^4)\n",
"printf('\nt2=%.1f*10^-8 sec',t2*10^8)\n",
"printf('\nTotal transit time =t1+t2=%.1f*10^-8 sec',(t1/10^-8)+t2*10^8)"
   ]
   }
,
{
		   "cell_type": "markdown",
		   "metadata": {},
		   "source": [
			"## Example 1.7: time_of_flight_under_electric_field.sce"
		   ]
		  },
  {
"cell_type": "code",
	   "execution_count": null,
	   "metadata": {
	    "collapsed": true
	   },
	   "outputs": [],
"source": [
"// Example 1.7 page no-20\n",
"clear\n",
"clc\n",
"\n",
"V=1000   //volt\n",
"d=0.01  //m\n",
"e=1.6*10^-19 //C\n",
"m=9.1*10^-31//kg\n",
"eps=V/d\n",
"t=sqrt((2*m*d)/(e*eps))\n",
"printf('t=%.2f*10^-9',t*10^10)"
   ]
   }
,
{
		   "cell_type": "markdown",
		   "metadata": {},
		   "source": [
			"## Example 1.8: velocity_of_electro.sce"
		   ]
		  },
  {
"cell_type": "code",
	   "execution_count": null,
	   "metadata": {
	    "collapsed": true
	   },
	   "outputs": [],
"source": [
"// Example 1.8 page no-21\n",
"clear\n",
"clc\n",
"\n",
"V=1000   //volt\n",
"e=1.6*10^-19 //C\n",
"m=9.1*10^-31//kg\n",
"Vf=sqrt((2*e*V)/m)\n",
"printf('V_final=%.2f*10^6 m/sec',Vf/10^6)"
   ]
   }
,
{
		   "cell_type": "markdown",
		   "metadata": {},
		   "source": [
			"## Example 1.9: application_of_electric_and_magnetic_filed.sce"
		   ]
		  },
  {
"cell_type": "code",
	   "execution_count": null,
	   "metadata": {
	    "collapsed": true
	   },
	   "outputs": [],
"source": [
"// Example 1.9 page no-24\n",
"clear\n",
"clc\n",
"\n",
"k=1.76*10^11 ///e/m in C/kg\n",
"eps=10^4\n",
"B=0.01\n",
"\n",
"Xmax=2*eps*%pi/((B^2)*k)\n",
"printf('Xmax=%.3f cm',Xmax*100)"
   ]
   }
],
"metadata": {
		  "kernelspec": {
		   "display_name": "Scilab",
		   "language": "scilab",
		   "name": "scilab"
		  },
		  "language_info": {
		   "file_extension": ".sce",
		   "help_links": [
			{
			 "text": "MetaKernel Magics",
			 "url": "https://github.com/calysto/metakernel/blob/master/metakernel/magics/README.md"
			}
		   ],
		   "mimetype": "text/x-octave",
		   "name": "scilab",
		   "version": "0.7.1"
		  }
		 },
		 "nbformat": 4,
		 "nbformat_minor": 0
}
