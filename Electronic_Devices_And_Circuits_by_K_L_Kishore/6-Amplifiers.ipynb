{
"cells": [
 {
		   "cell_type": "markdown",
	   "metadata": {},
	   "source": [
       "# Chapter 6: Amplifiers"
	   ]
	},
{
		   "cell_type": "markdown",
		   "metadata": {},
		   "source": [
			"## Example 6.1: conversion_efficiency.sce"
		   ]
		  },
  {
"cell_type": "code",
	   "execution_count": null,
	   "metadata": {
	    "collapsed": true
	   },
	   "outputs": [],
"source": [
"// Example 6.1 page no-329\n",
"clear\n",
"clc\n",
"\n",
"Vdc=9\n",
"Idc= 20*10^-3\n",
"V0=3\n",
"I0=12*10^-3\n",
"\n",
"P0=V0*I0\n",
"Pdc=Vdc*Idc\n",
"eta=P0/Pdc\n",
"printf('\nEfficiency(Eta) = %.0f%%',eta*100)"
   ]
   }
,
{
		   "cell_type": "markdown",
		   "metadata": {},
		   "source": [
			"## Example 6.2: calculation_of_different_parameters_of_CC_circuit.sce"
		   ]
		  },
  {
"cell_type": "code",
	   "execution_count": null,
	   "metadata": {
	    "collapsed": true
	   },
	   "outputs": [],
"source": [
"// Example 6.2 page no-348\n",
"clear\n",
"clc\n",
"\n",
"Ib= 100* 10^-6\n",
"hie=2000\n",
"R=50*10^3\n",
"Vbe=Ib*hie\n",
"Ii=Vbe/R\n",
"I1=Ii+Ib\n",
"printf('Total Current Input, I=%.0f micro A',I1*10^6)\n",
"hfe=100\n",
"R4=2.1*10^3\n",
"Rl=1000\n",
"I0=hfe*Ib*R4/(R4+Rl)\n",
"printf('\nCurrent through Rl, I0=%.2fmA',I0*1000)\n",
"Ai=I0/I1\n",
"printf('\nCurrent amplification, Ai= %d',Ai)\n",
"V0=-I0*Rl\n",
"Av=V0/Vbe\n",
"printf('\nV0=%.2f\n Av=%.1f\nNegative sign indicates that there is phase shift of 1800\n between input and output voltages,i.e. as base voltage goes more positive,\n (it is NPN transistor),the collector voltage goes more negative',V0,Av)"
   ]
   }
,
{
		   "cell_type": "markdown",
		   "metadata": {},
		   "source": [
			"## Example 6.4: calculation_of_different_parameters_of_CE_circuit.sce"
		   ]
		  },
  {
"cell_type": "code",
	   "execution_count": null,
	   "metadata": {
	    "collapsed": true
	   },
	   "outputs": [],
"source": [
"// Example 6.12 page no-349\n",
"clear\n",
"clc\n",
"\n",
"hie=1000\n",
"hfe=99\n",
"//hre negligible\n",
"r2=60\n",
"r3=30\n",
"r4=5\n",
"r7=20\n",
"r6=30\n",
"Rl1=20000\n",
"R23=r2*r3/(r2+r3)\n",
"R47=r4*r7/(r4+r7)\n",
"Rl=R47\n",
"Av=-hfe*Rl*10/hie\n",
"Av=floor(Av)\n",
"Ri=Rl1*1000/(Rl1+1000)\n",
"printf('Rl=%d kohm\nAv = %d\nRi=%.0f Ohm',Rl,Av*100,Ri)"
   ]
   }
,
{
		   "cell_type": "markdown",
		   "metadata": {},
		   "source": [
			"## Example 6.5: calculation_of_different_parameters_of_CC_circuit.sce"
		   ]
		  },
  {
"cell_type": "code",
	   "execution_count": null,
	   "metadata": {
	    "collapsed": true
	   },
	   "outputs": [],
"source": [
"// Example 6.5 page no-352\n",
"clear\n",
"clc\n",
"\n",
"hic = 1100 \n",
"hrc = 1\n",
"hfc = -51,\n",
"hoc = 25*10^-6\n",
"Rl=10000\n",
"Rs=Rl\n",
"Ai=-hfc/(1+(hoc*Rl))\n",
"Ri=(hic+hrc*Ai*Rl)/1000\n",
"Av=Ai*Rl/Ri\n",
"Avs=Av*Ri/(Ri+Rs)\n",
"R0=1/(hoc-(hfc*hrc/(hic+Rs)))\n",
"printf('Ai=%.1f\nRi=%.1f kOhm\nAv=%.3f\nAvs=%.3f\nR0=%.0f om',Ai,Ri,Av,Avs,ceil(R0))"
   ]
   }
,
{
		   "cell_type": "markdown",
		   "metadata": {},
		   "source": [
			"## Example 6.7: maximum_value_of_RL_in_CE_configuration.sce"
		   ]
		  },
  {
"cell_type": "code",
	   "execution_count": null,
	   "metadata": {
	    "collapsed": true
	   },
	   "outputs": [],
"source": [
"// Example 6.7 page no-353\n",
"clear\n",
"clc\n",
"hie = 1100\n",
"hfe = 50\n",
"hre = 2.50*10^-4\n",
"hoe = 25*10^-6\n",
"\n",
"Rl=0.1*hie/((hfe*hre)-(0.1*hoe*hie))\n",
"Rl=Rl/1000\n",
"printf('Rl= %.1f K Ohm',Rl)"
   ]
   }
,
{
		   "cell_type": "markdown",
		   "metadata": {},
		   "source": [
			"## Example 6.8: voltage_gains_Avs_Av1_and_Av2_for_given_circuit.sce"
		   ]
		  },
  {
"cell_type": "code",
	   "execution_count": null,
	   "metadata": {
	    "collapsed": true
	   },
	   "outputs": [],
"source": [
"// Example 6.8 page no-364\n",
"clear\n",
"clc\n",
"\n",
"hie =1000\n",
"hre = 10^-4\n",
"hfe = 50\n",
"hoe = 10^-8\n",
"Rl2=5000\n",
"Rs=1000\n",
"Ri2=hie+(1+hfe)*Rl2\n",
"Ri2=Ri2/1000\n",
"printf('Ri2= %d KOhm',Ri2)\n",
"Av2=1-(hie/(Ri2*1000))\n",
"printf('\nAv2 = %.3f',Av2)\n",
"Rl1=(10*256)/(10+256)\n",
"Ai1=-50*hfe\n",
"Av1=-hfe*Rl1/hie\n",
"o_g=Av1*Av2\n",
"Avs=o_g*Rs/(Rs+hie)\n",
"printf('\nRl1=%.2f KOhm\nAv1=%.1f\nOverall Gain=%.0f\nAvs=%.0f',Rl1,Av1*1000,floor(o_g*1000),floor(Avs*1000))"
   ]
   }
],
"metadata": {
		  "kernelspec": {
		   "display_name": "Scilab",
		   "language": "scilab",
		   "name": "scilab"
		  },
		  "language_info": {
		   "file_extension": ".sce",
		   "help_links": [
			{
			 "text": "MetaKernel Magics",
			 "url": "https://github.com/calysto/metakernel/blob/master/metakernel/magics/README.md"
			}
		   ],
		   "mimetype": "text/x-octave",
		   "name": "scilab",
		   "version": "0.7.1"
		  }
		 },
		 "nbformat": 4,
		 "nbformat_minor": 0
}
