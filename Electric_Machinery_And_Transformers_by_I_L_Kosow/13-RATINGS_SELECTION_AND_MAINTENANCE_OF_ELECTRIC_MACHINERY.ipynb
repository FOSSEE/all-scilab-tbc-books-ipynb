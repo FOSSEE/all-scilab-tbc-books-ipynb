{
"cells": [
 {
		   "cell_type": "markdown",
	   "metadata": {},
	   "source": [
       "# Chapter 13: RATINGS SELECTION AND MAINTENANCE OF ELECTRIC MACHINERY"
	   ]
	},
{
		   "cell_type": "markdown",
		   "metadata": {},
		   "source": [
			"## Example 13.10: new_Zpu.sce"
		   ]
		  },
  {
"cell_type": "code",
	   "execution_count": null,
	   "metadata": {
	    "collapsed": true
	   },
	   "outputs": [],
"source": [
"// Electric Machinery and Transformers\n",
"// Irving L kosow \n",
"// Prentice Hall of India\n",
"// 2nd editiom\n",
"\n",
"// Chapter 13: RATINGS,SELECTION,AND MAINTENANCE OF ELECTRIC MACHINERY\n",
"// Example 13-10\n",
"\n",
"clear; clc; close; // Clear the work space and console.\n",
"\n",
"// Given data\n",
"// single phase alternator\n",
"V_orig = 500 ; // Rated voltage of the alternator in volt\n",
"kVA_orig = 20 ; // Rated power of the alternator in kVA\n",
"I = 40 ; // Rated current of the alternator in A\n",
"R = 2 ; // Armature resistance in ohm\n",
"X = 15 ; // Armature reactance in ohm\n",
"\n",
"V_new = 5000 ; // New voltage of the alternator in volt\n",
"kVA_new = 100 ; // New power of the alternator in kVA\n",
"\n",
"// Calculated armature impedance from Ex.13-9c\n",
"Z_pu_orig = 1.211 ; // original per-unit value of armature impedance in p.u\n",
"\n",
"// Calculation\n",
"Z_pu_new = Z_pu_orig * (kVA_new/kVA_orig) * (V_orig/V_new)^2 ;\n",
"// new per-unit value of armature impedance in p.u\n",
"\n",
"// Display the results\n",
"disp('Example 13-10 Solution : ');\n",
"printf(' \n New per-unit value of armature impedance\n Z_pu(new) = %.5f p.u',Z_pu_new);"
   ]
   }
,
{
		   "cell_type": "markdown",
		   "metadata": {},
		   "source": [
			"## Example 13.11: line_and_phase_Vpu.sce"
		   ]
		  },
  {
"cell_type": "code",
	   "execution_count": null,
	   "metadata": {
	    "collapsed": true
	   },
	   "outputs": [],
"source": [
"// Electric Machinery and Transformers\n",
"// Irving L kosow \n",
"// Prentice Hall of India\n",
"// 2nd editiom\n",
"\n",
"// Chapter 13: RATINGS,SELECTION,AND MAINTENANCE OF ELECTRIC MACHINERY\n",
"// Example 13-11\n",
"\n",
"clear; clc; close; // Clear the work space and console.\n",
"\n",
"// Given data\n",
"// 3-phase distribution system\n",
"V = 2300 ; // Line voltage of 3-phase distribution system in volt\n",
"V_p = 1328 ; // Phase voltage of 3-phase distribution system in volt\n",
"\n",
"V_b = 69000 ; // Common base line voltage in volt\n",
"V_pb = 39840 ; // Common base phase voltage in volt\n",
"\n",
"// Calculations\n",
"// case a\n",
"V_pu_line = V / V_b ; // Distribution system p.u line voltage\n",
"\n",
"// case a\n",
"V_pu_phase = V_p / V_pb ; // Distribution system p.u phase voltage\n",
"\n",
"// Display the results\n",
"disp('Example 13-11 Solution : ');\n",
"printf(' \n a: Distribution system p.u line voltage :\n    V_pu = %.2f p.u\n',V_pu_line);\n",
"\n",
"printf(' \n b: Distribution system p.u phase voltage :\n    V_pu = %.2f p.u\n',V_pu_phase);"
   ]
   }
,
{
		   "cell_type": "markdown",
		   "metadata": {},
		   "source": [
			"## Example 13.12: Zb_Xs_Ra_Zs_P.sce"
		   ]
		  },
  {
"cell_type": "code",
	   "execution_count": null,
	   "metadata": {
	    "collapsed": true
	   },
	   "outputs": [],
"source": [
"// Electric Machinery and Transformers\n",
"// Irving L kosow \n",
"// Prentice Hall of India\n",
"// 2nd editiom\n",
"\n",
"// Chapter 13: RATINGS,SELECTION,AND MAINTENANCE OF ELECTRIC MACHINERY\n",
"// Example 13-12\n",
"\n",
"clear; clc; close; // Clear the work space and console.\n",
"\n",
"// Given data\n",
"VA_b = 50 ; // Base power rating of the 3-phase Y-connected alternator in MVA\n",
"V_b = 25 ; // Base voltage of the 3-phase Y-connected alternator in kV\n",
"X_pu = 1.3  ; // per unit value of synchronous reactance\n",
"R_pu = 0.05  ; // per unit value of resistance\n",
"\n",
"// Calculations\n",
"// case a\n",
"// subscript 1 for Z_b indicates method 1 for finding Z_b\n",
"Z_b1 = (V_b)^2 / VA_b ; // Base impedance in ohm\n",
"\n",
"// subscript 2 for Z_b indicates method 2 for finding Z_b\n",
"S_b = VA_b ; // Base power rating of the 3-phase Y-connected alternator in MVA\n",
"I_b = (S_b)/V_b ; // Base current in kA\n",
"Z_b2 = V_b / I_b ; // Base impedance in ohm\n",
"\n",
"// case b\n",
"Z_b = Z_b1; // Base impedance in ohm\n",
"X_s = X_pu * Z_b ; // Actual value of synchronous reactance per phase in ohm\n",
"\n",
"// case c\n",
"R_a = R_pu * Z_b ; // Actual value of armature stator resistance per phase in ohm\n",
"\n",
"// case d\n",
"// subscript 1 for Z_s indicates method 1 for finding Z_s\n",
"Z_s1 = R_a + %i*X_s ; // Synchronous impedance per phase in ohm\n",
"Z_s1_m = abs(Z_s1);//Z_s1_m = magnitude of Z_s1 in ohm\n",
"Z_s1_a = atan(imag(Z_s1) /real(Z_s1))*180/%pi;//Z_s1_a=phase angle of Z_s1 in degrees\n",
"\n",
"// subscript 2 for Z_s indicates method 2 for finding Z_s\n",
"Z_pu = R_pu + %i*X_pu ; // per unit value of impedance\n",
"Z_s2 = Z_pu * Z_b ; // Synchronous impedance per phase in ohm\n",
"Z_s2_m = abs(Z_s2);//Z_s2_m = magnitude of Z_s2 in ohm\n",
"Z_s2_a = atan(imag(Z_s2) /real(Z_s2))*180/%pi;//Z_s2_a=phase angle of Z_s2 in degrees\n",
"\n",
"// case e\n",
"S = S_b ; // Base power rating of the 3-phase Y-connected alternator in MVA\n",
"P = S * R_pu ; // Full-load copper losses for all three phases in MW\n",
"\n",
"// Display the results\n",
"disp('Example 13-12 Solution : ');\n",
"\n",
"printf(' \n a: Base impedance(method 1): \n    Z_b = %.1f ohm\n',Z_b1);\n",
"printf(' \n    Base impedance(method 2) : ');\n",
"printf(' \n    I_b = %d kA \n    Z_b = %.1f ohm\n',I_b,Z_b2);\n",
"\n",
"printf(' \n b: Actual value of synchronous reactance per phase : ');\n",
"printf(' \n    X_s in ohm = ');disp(%i*X_s);\n",
"\n",
"printf(' \n c: Actual value of armature stator resistance per phase : ');\n",
"printf(' \n    R_a = %.3f ohm \n ',R_a );\n",
"\n",
"printf(' \n d: Synchronous impedance per phase (method 1): ');\n",
"printf(' \n    Z_s in ohm = ');disp(Z_s1);\n",
"printf(' \n    Z_s = %.2f <%.1f ohm\n',Z_s1_m,Z_s1_a);\n",
"printf(' \n    Synchronous impedance per phase (method 2) : ');\n",
"printf(' \n    Z_s in ohm = ');disp(Z_s2);\n",
"printf(' \n    Z_s = %.2f <%.1f ohm\n',Z_s2_m,Z_s2_a);\n",
"\n",
"printf(' \n e: Full-load copper losses for all 3 phases : \n    P = %.1f MW',P);"
   ]
   }
,
{
		   "cell_type": "markdown",
		   "metadata": {},
		   "source": [
			"## Example 13.1: R_and_reduced_life_expectancy.sce"
		   ]
		  },
  {
"cell_type": "code",
	   "execution_count": null,
	   "metadata": {
	    "collapsed": true
	   },
	   "outputs": [],
"source": [
"// Electric Machinery and Transformers\n",
"// Irving L kosow \n",
"// Prentice Hall of India\n",
"// 2nd editiom\n",
"\n",
"// Chapter 13: RATINGS,SELECTION,AND MAINTENANCE OF ELECTRIC MACHINERY\n",
"// Example 13-1\n",
"\n",
"clear; clc; close; // Clear the work space and console.\n",
"\n",
"// Given data\n",
"// MOTOR(class A insulation ) is operated for 6 hrs\n",
"T = 125 ; // Temperature in degree celsius recorded by the embedded detectors\n",
"life_orig = 10 ; // Life in years of the motor (standard)\n",
"\n",
"// Calculations\n",
"delta_T = T - 105 ; // Positive temperature difference between the given\n",
"// max hottest spot temperature of its insulation and the ambient temperature recorded.\n",
"// 105 is chosen from table 13-1(class A insulation)\n",
"R = 2 ^ (delta_T/10); // Life reduction factor\n",
"  \n",
"Life_calc = life_orig / R ; // Reduced life expectancy of the motor in years\n",
"\n",
"// Display the results\n",
"disp('Example 13-1 Solution : ');\n",
"printf(' \n Life reduction factor : R = %d \n  ',R );\n",
"printf(' \n Reduced life expectancy of the motor : Life_calc = %.1f years',Life_calc);"
   ]
   }
,
{
		   "cell_type": "markdown",
		   "metadata": {},
		   "source": [
			"## Example 13.2: E_and_increased_life_expectancy.sce"
		   ]
		  },
  {
"cell_type": "code",
	   "execution_count": null,
	   "metadata": {
	    "collapsed": true
	   },
	   "outputs": [],
"source": [
"// Electric Machinery and Transformers\n",
"// Irving L kosow \n",
"// Prentice Hall of India\n",
"// 2nd editiom\n",
"\n",
"// Chapter 13: RATINGS,SELECTION,AND MAINTENANCE OF ELECTRIC MACHINERY\n",
"// Example 13-2\n",
"\n",
"clear; clc; close; // Clear the work space and console.\n",
"\n",
"// Given data\n",
"// MOTOR(class A insulation ) is operated for 6 hrs\n",
"T = 75 ; // Temperature in degree celsius recorded by the embedded detectors\n",
"life_orig = 10 ; // Life in years of the motor (standard)\n",
"\n",
"// Calculations\n",
"delta_T = 105 - T ; // Positive temperature difference between the given\n",
"// max hottest spot temperature of its insulation and the ambient temperature recorded.\n",
"// 105 is chosen from table 13-1 (class A insulation)\n",
"E = 2 ^ (delta_T/10); // Life extension factor\n",
"  \n",
"Life_calc = life_orig * E ; // Increased life expectancy of the motor in years\n",
"\n",
"// Display the results\n",
"disp('Example 13-2 Solution : ');\n",
"printf(' \n Life extension factor : E = %d \n ',E );\n",
"printf(' \n Increased life expectancy of the motor : Life_calc = %d years ',Life_calc);"
   ]
   }
,
{
		   "cell_type": "markdown",
		   "metadata": {},
		   "source": [
			"## Example 13.3: E_and_increased_life_expectancy_classB.sce"
		   ]
		  },
  {
"cell_type": "code",
	   "execution_count": null,
	   "metadata": {
	    "collapsed": true
	   },
	   "outputs": [],
"source": [
"// Electric Machinery and Transformers\n",
"// Irving L kosow \n",
"// Prentice Hall of India\n",
"// 2nd editiom\n",
"\n",
"// Chapter 13: RATINGS,SELECTION,AND MAINTENANCE OF ELECTRIC MACHINERY\n",
"// Example 13-3\n",
"\n",
"clear; clc; close; // Clear the work space and console.\n",
"\n",
"// Given data\n",
"// Class A insulation\n",
"T_A = 105 ; // Temperature in degree celsius recorded by the embedded detectors\n",
"life_orig = 5 ; // Life in years of the motor (standard)\n",
"// Class B insulation\n",
"T_B = 130 ; // Temperature in degree celsius recorded by the embedded detectors\n",
"\n",
"// Calculations\n",
"delta_T = T_B - T_A ; // Positive temperature difference betw the given\n",
"// max hottest spot temperature of its insulation and the ambient temperature recorded.\n",
"// T_A and T_B are chosen from table 13-1\n",
"E = 2 ^ (delta_T/10); // Life extension factor\n",
"  \n",
"Life_calc = life_orig * E ; // Increased life expectancy of the motor in years\n",
"\n",
"// Display the results\n",
"disp('Example 13-3 Solution : ');\n",
"printf(' \n Life extension factor : E = %.2f \n ',E );\n",
"printf(' \n Increased life expectancy of the motor : Life_calc = %.1f years ',Life_calc);"
   ]
   }
,
{
		   "cell_type": "markdown",
		   "metadata": {},
		   "source": [
			"## Example 13.4: ClassB_insulation_SCIM_details.sce"
		   ]
		  },
  {
"cell_type": "code",
	   "execution_count": null,
	   "metadata": {
	    "collapsed": true
	   },
	   "outputs": [],
"source": [
"// Electric Machinery and Transformers\n",
"// Irving L kosow \n",
"// Prentice Hall of India\n",
"// 2nd editiom\n",
"\n",
"// Chapter 13: RATINGS,SELECTION,AND MAINTENANCE OF ELECTRIC MACHINERY\n",
"// Example 13-4\n",
"\n",
"clear; clc; close; // Clear the work space and console.\n",
"\n",
"// Given data\n",
"P_o = 25 ; // Rated power of SCIM in hp\n",
"// class B insulation\n",
"T_ambient = 40 ; // Standard ambient temperature recorded by the embedded hot-spot detectors in degree celsius\n",
"T_hottest = 115 ; // Hottest-spot winding temperature recorded by the embedded hot-spot detectors in degree celsius\n",
"\n",
"// Calculations\n",
"// case a\n",
"// from table 13-1 allowable temperature rise in 90 degree celsius\n",
"\n",
"// case b\n",
"T_rise = T_hottest - T_ambient ; // Actual temperature rise for the insulation type used in degree celsius\n",
"\n",
"// case c\n",
"P_f = P_o * (90/T_rise); // Approximate power to the motor that can be delivered at T_rise\n",
"\n",
"// case d\n",
"// same as P_f\n",
"\n",
"// case e\n",
"// answer from case a\n",
"\n",
"// Display the results\n",
"disp('Example 13-4 Solution : ');\n",
"printf(' \n a: The allowable temperature rise for the ');\n",
"printf(' \n    insulation type used = 90 degree celsius(from table 13-1)\n');\n",
"\n",
"printf(' \n b: The actual temperature rise for the insulation type used = %d degree celsius\n',T_rise);\n",
"\n",
"printf(' \n c: The approximate power to the motor that can be delivered at T_rise');\n",
"printf(' \n    P_f = %d hp\n',P_f);\n",
"\n",
"printf(' \n d: Power rating that may be stamped on the nameplate = %d hp(subject to test at this load) \n ',P_f);\n",
"\n",
"printf(' \n e: The temperature rise that must be stamped on the nameplate = 90 degree celsius');"
   ]
   }
,
{
		   "cell_type": "markdown",
		   "metadata": {},
		   "source": [
			"## Example 13.5: final_temperature.sce"
		   ]
		  },
  {
"cell_type": "code",
	   "execution_count": null,
	   "metadata": {
	    "collapsed": true
	   },
	   "outputs": [],
"source": [
"// Electric Machinery and Transformers\n",
"// Irving L kosow \n",
"// Prentice Hall of India\n",
"// 2nd editiom\n",
"\n",
"// Chapter 13: RATINGS,SELECTION,AND MAINTENANCE OF ELECTRIC MACHINERY\n",
"// Example 13-5\n",
"\n",
"clear; clc; close; // Clear the work space and console.\n",
"\n",
"// Given data\n",
"P_o = 50 ; // Power rating of the WRIM in hp\n",
"// Class F insulation\n",
"T_hottest = 160 ; // Hottest-spot winding temperature recorded by the embedded \n",
"// hot-spot detectors in degree celsius\n",
"T_ambient = 40 ; // Standard ambient temperature recorded by the embedded \n",
"// hot-spot detectors in degree celsius\n",
"P_f_a = 40 ; // Power rating of load a in hp\n",
"P_f_b = 55 ; // Power rating of load a in hp\n",
"\n",
"// Calculations\n",
"// case a\n",
"delta_T_o = T_hottest - T_ambient ; // Temperature rise for the insulation type \n",
"// used in degree celsius\n",
"\n",
"// subscript a in delta_T_f ,P_f_a and T_f indicates case a\n",
"delta_T_f_a = (P_f_a/P_o)*delta_T_o ; // final temperature rise in degree celsius\n",
"T_f_a = delta_T_f_a + T_ambient ; // Approximate final hot-spot temperature in degree celsius\n",
"\n",
"// case b\n",
"// subscript b in delta_T_f ,P_f and T_f indicates case b\n",
"delta_T_f_b = (P_f_b/P_o)*delta_T_o ; // final temperature rise in degree celsius\n",
"T_f_b = delta_T_f_b + T_ambient ; // Approximate final hot-spot temperature in degree celsius\n",
"\n",
"// Display the results\n",
"disp('Example 13-5 Solution : ');\n",
"printf(' \n a: ΔT_o = %d degree celsius ',delta_T_o);\n",
"printf(' \n    ΔT_f = %d degree celsius ',delta_T_f_a);\n",
"printf(' \n    T_f = %d degree celsius \n',T_f_a);\n",
"\n",
"printf(' \n b: ΔT_f = %d degree celsius ',delta_T_f_b);\n",
"printf(' \n    T_f = %d degree celsius \n',T_f_b);\n",
"printf(' \n    Yes,motor life is reduced at the 110 percent motor load because');\n",
"printf(' \n    the allowable maximum hot-spot motor temperature for Class F');\n",
"printf(' \n    insulation is 155 degree celsius.');"
   ]
   }
,
{
		   "cell_type": "markdown",
		   "metadata": {},
		   "source": [
			"## Example 13.6: Tf_R_decreased_life_expectancy.sce"
		   ]
		  },
  {
"cell_type": "code",
	   "execution_count": null,
	   "metadata": {
	    "collapsed": true
	   },
	   "outputs": [],
"source": [
"// Electric Machinery and Transformers\n",
"// Irving L kosow \n",
"// Prentice Hall of India\n",
"// 2nd editiom\n",
"\n",
"// Chapter 13: RATINGS,SELECTION,AND MAINTENANCE OF ELECTRIC MACHINERY\n",
"// Example 13-6\n",
"\n",
"clear; clc; close; // Clear the work space and console.\n",
"\n",
"// Given data\n",
"P_o = 55 ; // Power rating of the WRIM in hp\n",
"T_ambient = 40 ; // Standard ambient temperature recorded by the embedded \n",
"// hot-spot detectors in degree celsius\n",
"life_orig = 10 ; // Life in years of the motor (standard)\n",
"\n",
"// Calculated data from Ex.13-5b\n",
"T_f = 172 ; // Approximate final hot-spot temperature in degree celsius\n",
"\n",
"// Calculations\n",
"delta_T = T_f - 155 ; // Positive temperature difference betw the given\n",
"// max hottest spot temperature of its insulation and the ambient temperature recorded.\n",
"// 155 is chosen from table 13-1(class F insulation)\n",
"\n",
"R = 2 ^ (delta_T/10); // Life reduction factor\n",
"  \n",
"Life_calc = life_orig / R ; // Reduced life expectancy of the motor in years\n",
"\n",
"// Display the results\n",
"disp('Example 13-6 Solution : ');\n",
"printf(' \n From Ex.13-5b,T_f = %d degree celsius\n',T_f);\n",
"printf(' \n Life reduction factor : R = %.2f \n  ',R );\n",
"printf(' \n Reduced life expectancy of the motor : Life_calc = %.2f years',Life_calc);"
   ]
   }
,
{
		   "cell_type": "markdown",
		   "metadata": {},
		   "source": [
			"## Example 13.7: rms_hp.sce"
		   ]
		  },
  {
"cell_type": "code",
	   "execution_count": null,
	   "metadata": {
	    "collapsed": true
	   },
	   "outputs": [],
"source": [
"// Electric Machinery and Transformers\n",
"// Irving L kosow \n",
"// Prentice Hall of India\n",
"// 2nd editiom\n",
"\n",
"// Chapter 13: RATINGS,SELECTION,AND MAINTENANCE OF ELECTRIC MACHINERY\n",
"// Example 13-7\n",
"\n",
"clear; clc; close; // Clear the work space and console.\n",
"\n",
"// Given data\n",
"P_o = 200 ; // Power rating of the test motor in hp\n",
"t1 = 5 ; // time duration in minutes for which test motor is operated at 200 hp \n",
"t2 = 5 ; // time duration in minutes for which test motor is operated at 20 hp \n",
"t3 = 10 ; // time duration in minutes for which test motor is operated at 100 hp \n",
"\n",
"// Calculation\n",
"rms_hp = sqrt( ( (200^2)*t1 + (20^2)*t2 + (100^2)*t3 )/(t1 + t2 + t3 + 10/3) );\n",
"// Horsepower required for intermittent varying load\n",
"\n",
"// Display the results\n",
"disp('Example 13-7 Solution : ');\n",
"printf(' \n Horsepower required for intermittent varying load is : ');\n",
"printf(' \n rms hp = %.f hp \n ',rms_hp);\n",
"\n",
"printf(' \n A 125 hp motor would be selected because that is the nearest larger');\n",
"printf(' \n commercial standard rating.This means that the motor would operate ');\n",
"printf(' \n with a 160 percent overload (at 200 hp) for 5 minutes,or 1/6th of ')\n",
"printf(' \n its total duty cycle.');"
   ]
   }
,
{
		   "cell_type": "markdown",
		   "metadata": {},
		   "source": [
			"## Example 13.8: Vb_Ib_Rb_Rpu.sce"
		   ]
		  },
  {
"cell_type": "code",
	   "execution_count": null,
	   "metadata": {
	    "collapsed": true
	   },
	   "outputs": [],
"source": [
"// Electric Machinery and Transformers\n",
"// Irving L kosow \n",
"// Prentice Hall of India\n",
"// 2nd editiom\n",
"\n",
"// Chapter 13: RATINGS,SELECTION,AND MAINTENANCE OF ELECTRIC MACHINERY\n",
"// Example 13-8\n",
"\n",
"clear; clc; close; // Clear the work space and console.\n",
"\n",
"// Given data\n",
"V = 120 ; // Rated output voltage in volt of separately excited dc generator\n",
"I = 100 ; // Rated output current in A of separately excited dc generator\n",
"R = 0.1 ; // Armature resistance in ohm\n",
"\n",
"// Calculations\n",
"// case a\n",
"V_b = V ; // base voltage in volt\n",
"\n",
"// case b\n",
"I_b = I ; // base current in A\n",
"\n",
"// case c\n",
"R_b = V_b / I_b ; // base resistance in ohm\n",
"\n",
"// case d\n",
"R_pu = R / R_b ; // per-unit value of armature resistance in p.u\n",
"\n",
"// Display the results\n",
"disp('Example 13-8 Solution : ');\n",
"\n",
"printf(' \n a: Base voltage \n    V_b = %d V \n ', V_b );\n",
"\n",
"printf(' \n b: Base current \n    I_b = %d A \n ', I_b );\n",
"\n",
"printf(' \n c: Base resistance \n    R_b = %.1f ohm \n ', R_b );\n",
"\n",
"printf(' \n d: Per-unit value of armature resistance\n    R_p.u = %.3f p.u \n ', R_pu );"
   ]
   }
,
{
		   "cell_type": "markdown",
		   "metadata": {},
		   "source": [
			"## Example 13.9: Rpu_jXpu_Zpu.sce"
		   ]
		  },
  {
"cell_type": "code",
	   "execution_count": null,
	   "metadata": {
	    "collapsed": true
	   },
	   "outputs": [],
"source": [
"// Electric Machinery and Transformers\n",
"// Irving L kosow \n",
"// Prentice Hall of India\n",
"// 2nd editiom\n",
"\n",
"// Chapter 13: RATINGS,SELECTION,AND MAINTENANCE OF ELECTRIC MACHINERY\n",
"// Example 13-9\n",
"\n",
"clear; clc; close; // Clear the work space and console.\n",
"\n",
"// Given data\n",
"// single phase alternator\n",
"V = 500 ; // Rated voltage of the alternator in volt\n",
"P = 20 ; // Rated power of the alternator in kVA\n",
"I = 40 ; // Rated current of the alternator in A\n",
"R = 2 ; // Armature resistance in ohm\n",
"X = 15 ; // Armature reactance in ohm\n",
"\n",
"// Calculations\n",
"// case a\n",
"V_b = V ; // base voltage in volt\n",
"I_b = I ; // base current in A\n",
"R_pu = (R*I_b)/V_b ; // per-unit value of armature resistance in p.u\n",
"\n",
"// case b\n",
"jX_pu = (X*I_b)/V_b ; // per-unit value of armature reactance in p.u\n",
"\n",
"// case c\n",
"// subscript 1 indicates method 1 for finding Z_p.u\n",
"Z_pu1 = R_pu + %i*(jX_pu); // per-unit value of armature impedance in p.u\n",
"Z_pu1_m = abs(Z_pu1);//Z_pu1_m = magnitude of Z_pu1 in p.u\n",
"Z_pu1_a = atan(imag(Z_pu1) /real(Z_pu1))*180/%pi;//Z_pu1_a=phase angle of Z_pu1 in degrees\n",
"\n",
"// subscript 2 indicates method 2 for finding Z_p.u\n",
"Z_pu2 = (R + %i*X)*(I/V); // per-unit value of armature impedance in p.u\n",
"Z_pu2_m = abs(Z_pu2);//Z_pu2_m = magnitude of Z_pu2 in p.u\n",
"Z_pu2_a = atan(imag(Z_pu2) /real(Z_pu2))*180/%pi;//Z_pu2_a=phase angle of Z_pu2 in degrees\n",
"\n",
"// Display the results\n",
"disp('Example 13-9 Solution : ');\n",
"\n",
"printf(' \n a: Armature resistance per unit value\n    R_p.u = %.2f p.u \n',R_pu);\n",
"\n",
"printf(' \n b: Armature reactance per unit value\n    jX_p.u in p.u = ');disp(%i*jX_pu);\n",
"\n",
"printf(' \n c: Armature impedance per unit value\n');\n",
"printf(' \n    (method 1)\n    Z_p.u in p.u = ');disp(Z_pu1);\n",
"printf(' \n    Z_p.u = %.3f <%.1f p.u \n',Z_pu1_m,Z_pu1_a );\n",
"\n",
"printf(' \n    (method 2)\n    Z_p.u in p.u = ');disp(Z_pu2);\n",
"printf(' \n    Z_p.u = %.3f <%.1f p.u \n',Z_pu2_m,Z_pu2_a );"
   ]
   }
],
"metadata": {
		  "kernelspec": {
		   "display_name": "Scilab",
		   "language": "scilab",
		   "name": "scilab"
		  },
		  "language_info": {
		   "file_extension": ".sce",
		   "help_links": [
			{
			 "text": "MetaKernel Magics",
			 "url": "https://github.com/calysto/metakernel/blob/master/metakernel/magics/README.md"
			}
		   ],
		   "mimetype": "text/x-octave",
		   "name": "scilab",
		   "version": "0.7.1"
		  }
		 },
		 "nbformat": 4,
		 "nbformat_minor": 0
}
