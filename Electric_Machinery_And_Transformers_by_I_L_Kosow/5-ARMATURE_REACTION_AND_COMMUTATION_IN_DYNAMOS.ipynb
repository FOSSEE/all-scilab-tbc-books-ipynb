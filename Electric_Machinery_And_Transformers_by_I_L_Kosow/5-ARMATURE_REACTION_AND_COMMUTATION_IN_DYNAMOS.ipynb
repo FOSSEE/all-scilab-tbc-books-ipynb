{
"cells": [
 {
		   "cell_type": "markdown",
	   "metadata": {},
	   "source": [
       "# Chapter 5: ARMATURE REACTION AND COMMUTATION IN DYNAMOS"
	   ]
	},
{
		   "cell_type": "markdown",
		   "metadata": {},
		   "source": [
			"## Example 5.1: calculate_Zp.sce"
		   ]
		  },
  {
"cell_type": "code",
	   "execution_count": null,
	   "metadata": {
	    "collapsed": true
	   },
	   "outputs": [],
"source": [
"// Electric Machinery and Transformers\n",
"// Irving L kosow \n",
"// Prentice Hall of India\n",
"// 2nd editiom\n",
"\n",
"// Chapter 5: ARMATURE REACTION AND COMMUTATION IN DYNAMOS\n",
"// Example 5-1\n",
"\n",
"clear; clc; close; // Clear the work space and console.\n",
"\n",
"// Given data\n",
"conductors = 800 ; // No. of conductors \n",
"I_a = 1000 ; // Rated armature current in A\n",
"P = 10 ; // No. of poles\n",
"pitch = 0.7 ; // Pole-face covers 70% of the pitch \n",
"a = P ; // No. of parallel paths ( Simplex lap-wound )\n",
"\n",
"// Calculations\n",
"// Using Eq.(5-1)\n",
"Z = conductors / P ; // No. of armature conductors/path under each pole\n",
"Z_a = Z * pitch ; // Active armature conductors/pole\n",
"\n",
"// Solving for Z_p using Z_p = Z_a / a\n",
"Z_p = Z_a / a ; // No. of pole face conductors/pole \n",
"\n",
"// Display the results\n",
"disp('Example 5-1 Solution : ');\n",
"printf(' \n No. of pole face conductors/pole to give full armature reaction ');\n",
"printf(' \n compensation, if the pole covers 70 percent of the pitch is : \n ');\n",
"printf(' \n Z_p = %.1f conductors/pole ', Z_p );"
   ]
   }
,
{
		   "cell_type": "markdown",
		   "metadata": {},
		   "source": [
			"## Example 5.2: EX5_2.sce"
		   ]
		  },
  {
"cell_type": "code",
	   "execution_count": null,
	   "metadata": {
	    "collapsed": true
	   },
	   "outputs": [],
"source": [
"// Electric Machinery and Transformers\n",
"// Irving L kosow \n",
"// Prentice Hall of India\n",
"// 2nd editiom\n",
"\n",
"// Chapter 5: ARMATURE REACTION AND COMMUTATION IN DYNAMOS\n",
"// Example 5-2\n",
"\n",
"clear; clc; close; // Clear the work space and console.\n",
"\n",
"// Given data\n",
"conductors = 800 ; // No. of conductors \n",
"I_a = 1000 ; // Rated armature current in A\n",
"I_l = I_a ; // load or total current entering the armature in A\n",
"P = 10 ; // No. of poles\n",
"pitch = 0.7 ; // Pole-face covers 70% of the pitch \n",
"a = P ; // No. of parallel paths ( Simplex lap-wound )\n",
"alpha = 5 ; // No. of electrical degress that the brushes are shifted \n",
"\n",
"// Calculations\n",
"Z = conductors / P ; // No. of armature conductors/path under each pole\n",
"A_Z_per_pole = ( Z * I_l ) / ( P * a ); // Cross magnetizing\n",
"// ampere-conductors/pole\n",
"\n",
"At_per_pole = ( 1 / 2 ) * ( 8000 / 1 ); // Ampere-turns/pole\n",
"\n",
"frac_demag_At_per_pole  = (2*alpha) / 180 * (At_per_pole); \n",
"// Fraction of demagnetizing ampere-turns/pole\n",
"\n",
"funcprot(0); // to avoid redefining function: beta warning message\n",
"\n",
"beta = 180 - 2*alpha ; // cross-magnetizing electrical degrees\n",
"\n",
"cross_mag_At_per_pole = (beta/180)*(At_per_pole);\n",
"// cross-magnetizing ampere-turns/pole\n",
"\n",
"// Display the results\n",
"disp('Example 5-2 Solution : ');\n",
"printf(' \n a: With the brushes on the GNA,the entire armature reaction effect');\n",
"printf(' \n    is completely cross-magnetizing. The cross-magnetizing  ');\n",
"printf(' \n    ampere-conductors/pole are ');\n",
"printf(' \n    = %d ampere-conductots/pole \n', A_Z_per_pole);\n",
"\n",
"printf(' \n    and since there are 2 conductors/turn, the cross-magnetizing ');\n",
"printf(' \n    ampere-turns/pole are \n    = %d At/pole \n\n', At_per_pole );\n",
"\n",
"\n",
"printf(' \n b: Let alpha = the no. of electrical degrees that the brushes are ');\n",
"printf(' \n    shifted. Then the total no. of demagnetizing electrical degrees ');\n",
"printf(' \n    are 2*alpha, while the (remaining) cross-magnetizing electrical');\n",
"printf(' \n    degrees,beta, are 180 - 2*alpha. The ratio of demagnetizing to ');\n",
"printf(' \n    cross-magnetizing ampere-turns is always 2*alpha/beta. The ');\n",
"printf(' \n    fraction of demagnetizing ampere-turns/pole is ');\n",
"printf(' \n    = %.1f At/pole \n\n',frac_demag_At_per_pole );\n",
"printf(' \n    Note: Slight calculation mistake in the textbook for case b\n')\n",
"\n",
"\n",
"printf(' \n c: Since beta = 180-2*alpha = 170, the cross-magnetizing ampere-turns/pole ');\n",
"printf(' \n    are \n    = %.1f At/pole ', cross_mag_At_per_pole );\n",
"\n",
"\n",
"\n",
"\n",
"\n",
"\n",
""
   ]
   }
],
"metadata": {
		  "kernelspec": {
		   "display_name": "Scilab",
		   "language": "scilab",
		   "name": "scilab"
		  },
		  "language_info": {
		   "file_extension": ".sce",
		   "help_links": [
			{
			 "text": "MetaKernel Magics",
			 "url": "https://github.com/calysto/metakernel/blob/master/metakernel/magics/README.md"
			}
		   ],
		   "mimetype": "text/x-octave",
		   "name": "scilab",
		   "version": "0.7.1"
		  }
		 },
		 "nbformat": 4,
		 "nbformat_minor": 0
}
