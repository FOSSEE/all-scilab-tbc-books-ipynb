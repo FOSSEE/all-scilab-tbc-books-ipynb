{
"cells": [
 {
		   "cell_type": "markdown",
	   "metadata": {},
	   "source": [
       "# Chapter 4: DC DYNAMO TORQUE RELATIONS DC MOTORS"
	   ]
	},
{
		   "cell_type": "markdown",
		   "metadata": {},
		   "source": [
			"## Example 4.10: calculate_power_developed.sce"
		   ]
		  },
  {
"cell_type": "code",
	   "execution_count": null,
	   "metadata": {
	    "collapsed": true
	   },
	   "outputs": [],
"source": [
"// Electric Machinery and Transformers\n",
"// Irving L kosow \n",
"// Prentice Hall of India\n",
"// 2nd editiom\n",
"\n",
"// Chapter 4: DC Dynamo Torque Relations-DC Motors\n",
"// Example 4-10\n",
"\n",
"clear; clc; close; // Clear the work space and console.\n",
"\n",
"// Given data\n",
"I_a_1 = 38 ; // Armature current in A @ full-load as per example 4-8a\n",
"E_c_1 = 109.4 ; // Back EMF in volt @ full-load as per example 4-8a\n",
"S_1 = 1800 ; // Speed in rpm @ full-load as per example 4-8a\n",
"\n",
"I_a_2 = 19 ; // Armature current in A @ half-loadas per example 4-8a\n",
"E_c_2 = 113.2 ; // Back EMF in volt @ half-load as per example 4-8a\n",
"S_2 = 1863 ; // Speed in rpm @ half-load as per example 4-8a\n",
"\n",
"I_a_3 = 47.5 ; // Armature current in A @ 125% overload as per example 4-8b\n",
"E_c_3 = 107.5 ; // Back EMF in volt @ 125% overload as per example 4-8b\n",
"S_3 = 1769 ; // Speed in rpm @ 125% overload as per example 4-8b\n",
"\n",
"I_a_4 = 63.6 ; // Armature current in A @ overload as per example 4-9\n",
"E_c_4 = 104.3 ; // Back EMF in volt @ overload as per example 4-9\n",
"S_4 = 1532 ; // Speed in rpm @ overload as per example 4-9\n",
"\n",
"// Calculations\n",
"P_d_1 = E_c_1 * I_a_1 ; // Armature power developed @ full-load\n",
"\n",
"P_d_2 = E_c_2 * I_a_2 ; // Armature power developed @ half-load\n",
"\n",
"P_d_3 = E_c_3 * I_a_3 ; // Armature power developed @ 125% overload\n",
"\n",
"P_d_4 = E_c_4 * I_a_4 ; // Armature power developed @ overload\n",
"\n",
"// Display the results\n",
"disp(' Example 4-10 Solution : ');\n",
"printf('\n Example \t Ia \t Ec \t Speed \t Pd or (Ec*Ia)');\n",
"printf('\n _______________________________________________________________________');\n",
"printf('\n 4-8a \t\t %d \t %.1f \t %d \t %d W at full-load ', I_a_1,E_c_1,S_1,P_d_1);\n",
"printf('\n 4-8a \t\t %d \t %.1f \t %d \t %.1f W at half-load ',I_a_2 , E_c_2 , S_2 , P_d_2);\n",
"printf('\n 4-8b \t\t %.1f \t %.1f \t %d \t %d W at 125 percent overload ',I_a_3,E_c_3,S_3,P_d_3);\n",
"printf('\n 4-9 \t\t %.1f \t %.1f \t %d \t %d W at overload ',I_a_4,E_c_4,S_4,P_d_4);\n",
"printf('\n _______________________________________________________________________');"
   ]
   }
,
{
		   "cell_type": "markdown",
		   "metadata": {},
		   "source": [
			"## Example 4.11: convert_torque_readings_into_Nm_and_lbft.sce"
		   ]
		  },
  {
"cell_type": "code",
	   "execution_count": null,
	   "metadata": {
	    "collapsed": true
	   },
	   "outputs": [],
"source": [
"// Electric Machinery and Transformers\n",
"// Irving L kosow \n",
"// Prentice Hall of India\n",
"// 2nd editiom\n",
"\n",
"// Chapter 4: DC Dynamo Torque Relations-DC Motors\n",
"// Example 4-11\n",
"\n",
"clear; clc; close; // Clear the work space and console.\n",
"\n",
"// Given data\n",
"T_a = 6.5; // Torque in dyne-centimeters\n",
"T_b = 10.6; // Torque in gram-centimeters\n",
"T_c = 12.2; // Torque in ounce-inches\n",
"\n",
"// Calculations\n",
"T_a_Nm = T_a * 1.416e-5 * 7.0612e-3 ; // Torque T_a in N-m \n",
"T_b_Nm = T_b * ( 1 / 72.01 ) * 7.0612e-3 ; // Torque T_b in N-m \n",
"T_c_Nm = T_c * 7.0612e-3 ; // Torque T_c in N-m \n",
"\n",
"T_a_lbft = T_a * 1.416e-5 * 5.208e-3; // Torque T_a in lb-ft\n",
"T_b_lbft = T_b * ( 1 / 72.01 ) * 5.208e-3; // Torque T_b in lb-ft\n",
"T_c_lbft = T_c * 5.208e-3; // Torque T_c in lb-ft\n",
"\n",
"// Display the results\n",
"disp('Example 4-11 Solution : ');\n",
"printf(' \n a : T = %.1e N-m ', T_a_Nm );\n",
"printf(' \n     T = %.1e lb-ft \n ', T_a_lbft );\n",
"\n",
"printf(' \n b : T = %.2e N-m ', T_b_Nm );\n",
"printf(' \n     T = %.1e lb-ft \n ', T_b_lbft );\n",
"\n",
"printf(' \n c : T = %.3e N-m ', T_c_Nm );\n",
"printf(' \n     T = %.2e lb-ft \n ', T_c_lbft );"
   ]
   }
,
{
		   "cell_type": "markdown",
		   "metadata": {},
		   "source": [
			"## Example 4.12: calculate_Ist_and_percentage_of_load_current.sce"
		   ]
		  },
  {
"cell_type": "code",
	   "execution_count": null,
	   "metadata": {
	    "collapsed": true
	   },
	   "outputs": [],
"source": [
"// Electric Machinery and Transformers\n",
"// Irving L kosow \n",
"// Prentice Hall of India\n",
"// 2nd editiom\n",
"\n",
"// Chapter 4: DC Dynamo Torque Relations-DC Motors\n",
"// Example 4-12\n",
"\n",
"clear; clc; close; // Clear the work space and console.\n",
"\n",
"// Given data\n",
"V_a = 120 ; // Rated terminal voltage of dc shunt notor in volt\n",
"R_a = 0.2 ; // Armature resistance in ohm\n",
"BD = 2 ; // Brush drop in volt\n",
"I_a = 75 ; // Full load armature current in A\n",
"\n",
"// Calculations\n",
"I_st = ( V_a - BD ) / R_a ; // Current @ the instant of starting in A\n",
"percentage = I_st / I_a * 100 ; // Percentage at full load\n",
"\n",
"// Display the results \n",
"disp(' Example 4-12 Solution : ');\n",
"printf(' \n Ist = %d A ( Back EMF is zero )',I_st );\n",
"printf(' \n Percentage at full load = %d percent ', percentage );"
   ]
   }
,
{
		   "cell_type": "markdown",
		   "metadata": {},
		   "source": [
			"## Example 4.13: calculate_Rs_at_various_back_Emfs_and_Ec_at_zero_Rs.sce"
		   ]
		  },
  {
"cell_type": "code",
	   "execution_count": null,
	   "metadata": {
	    "collapsed": true
	   },
	   "outputs": [],
"source": [
"// Electric Machinery and Transformers\n",
"// Irving L kosow \n",
"// Prentice Hall of India\n",
"// 2nd editiom\n",
"\n",
"// Chapter 4: DC Dynamo Torque Relations-DC Motors\n",
"// Example 4-13\n",
"\n",
"clear; clc; close; // Clear the work space and console.\n",
"\n",
"// Given data\n",
"V_a = 120 ; // Rated terminal voltage of dc shunt notor in volt\n",
"R_a = 0.2 ; // Armature resistance in ohm\n",
"BD = 2 ; // Brush drop in volt\n",
"I_a = 75 ; // Full load armature current in A\n",
"I_a_new = 1.5 * I_a ; // armature current in A at 150% rated load \n",
"\n",
"E_c_a = 0 ; // Back EMF at starting\n",
"E_c_b = ( 25 / 100 ) * V_a ; // Back EMF in volt is 25% of Va @ 150% rated load\n",
"E_c_c = ( 50 / 100 ) * V_a ; // Back EMF in volt is 50% of Va @ 150% rated load\n",
"\n",
"// Calculations\n",
"R_s_a = ( V_a - E_c_a - BD ) / I_a_new - R_a ; // Ra tapping value at starting \n",
"// in ohm\n",
"R_s_b = ( V_a - E_c_b - BD ) / I_a_new - R_a ; // Ra tapping value @ 25% of Va \n",
"//  in ohm\n",
"R_s_c = ( V_a - E_c_c - BD ) / I_a_new - R_a ; // Ra tapping value @ 50% of Va \n",
"// in ohm\n",
"E_c_d = V_a - ( I_a * R_a + BD ) ; // Back EMF @ full-load without starting resistance\n",
"\n",
"// Display the results\n",
"disp(' Example 4-13 Solution : ');\n",
"printf(' \n a: At starting, Ec is zero ');\n",
"printf(' \n    Rs = %.2f ohm \n ', R_s_a );\n",
"\n",
"printf(' \n b: When back EMF in volt is 25 percent of Va @ 150 percent rated load ');\n",
"printf(' \n    Rs = %.3f ohm \n ', R_s_b );\n",
"\n",
"printf(' \n c: When back EMF in volt is 50 percent of Va @ 150 percent rated load ');\n",
"printf(' \n    Rs = %.3f ohm \n ', R_s_c );\n",
"\n",
"printf(' \n d: Back EMF at full-load without starting resistance ');\n",
"printf(' \n    Ec = %d V ', E_c_d );"
   ]
   }
,
{
		   "cell_type": "markdown",
		   "metadata": {},
		   "source": [
			"## Example 4.14: calculate_field_flux_in_percent_and_final_torque_developed.sce"
		   ]
		  },
  {
"cell_type": "code",
	   "execution_count": null,
	   "metadata": {
	    "collapsed": true
	   },
	   "outputs": [],
"source": [
"// Electric Machinery and Transformers\n",
"// Irving L kosow \n",
"// Prentice Hall of India\n",
"// 2nd editiom\n",
"\n",
"// Chapter 4: DC Dynamo Torque Relations-DC Motors\n",
"// Example 4-14\n",
"\n",
"clear; clc; close; // Clear the work space and console.\n",
"\n",
"// Given data\n",
"// Cumulative DC compound motor acting as shunt motor\n",
"T_orig = 160 ; // Original torque developed in lb.ft\n",
"I_a_orig = 140 ; // Original armature current in A\n",
"phi_f_orig = 1.6e+6 ; // Original field flux in lines\n",
"\n",
"// Reconnected as a cumulative DC compound motor\n",
"T_final_a = 190 ; // Final torque developed in lb.ft (case a)\n",
"\n",
"// Calculations\n",
"phi_f = phi_f_orig * ( T_final_a / T_orig ) ; // Field flux in lines\n",
"percentage = ( phi_f / phi_f_orig ) * 100 - 100 ; // percentage increase in flux\n",
"\n",
"phi_f_final = 1.1 * phi_f ; // 10% increase in load causes 10% increase in flux\n",
"I_a_b = 154 ; // Final armature current in A (case b)\n",
"T_f = T_final_a * ( I_a_b / I_a_orig ) * ( phi_f_final / phi_f ) ; \n",
"// Final torque developed\n",
"\n",
"// Display the results\n",
"disp(' Example 4-14 Solution : ');\n",
"printf(' \n a: phi_f = %.1e lines \n ', phi_f );\n",
"printf(' \n    Percentage of flux increase = %.1f percent \n ', percentage );\n",
"\n",
"printf(' \n b: The final field flux is 1.1 * 1.9 * 10 ^ 6 lines ' );\n",
"printf(' \n    (due to the 10 percent increase in load).The final torque is\n');\n",
"printf(' \n    T_f = %.1f lb-ft ', T_f );"
   ]
   }
,
{
		   "cell_type": "markdown",
		   "metadata": {},
		   "source": [
			"## Example 4.15: calculate_torque_developed_for_varying_flux_and_Ia.sce"
		   ]
		  },
  {
"cell_type": "code",
	   "execution_count": null,
	   "metadata": {
	    "collapsed": true
	   },
	   "outputs": [],
"source": [
"// Electric Machinery and Transformers\n",
"// Irving L kosow \n",
"// Prentice Hall of India\n",
"// 2nd editiom\n",
"\n",
"// Chapter 4: DC Dynamo Torque Relations-DC Motors\n",
"// Example 4-15\n",
"\n",
"clear; clc; close; // Clear the work space and console.\n",
"\n",
"// Given data\n",
"I_a_orig = 25 ; // Original armature current in A\n",
"I_a_final = 30 ; // Final armature current in A\n",
"T_orig = 90 ; // Original torque developed in lb.ft\n",
"phi_orig = 1.0 ; // Original flux\n",
"phi_final = 1.1 ; // Final flux\n",
"\n",
"// Calculations\n",
"T_a = T_orig * ( I_a_final / I_a_orig ) ^ 2 ; // Final torque developed if field\n",
"// is unsaturated\n",
"T_b = T_orig * ( I_a_final / I_a_orig ) * ( phi_final / phi_orig ) ; \n",
"// Final torque developed when Ia rises to 30 A and flux by 10%\n",
"\n",
"// Display the results\n",
"disp(' Example 4-15 Solution : ' );\n",
"printf(' \n a: T = %.1f lb-ft \n ', T_a );\n",
"printf(' \n b: T = %.1f lb-ft ', T_b );"
   ]
   }
,
{
		   "cell_type": "markdown",
		   "metadata": {},
		   "source": [
			"## Example 4.16: calculate_speed_at_rated_load_and_P_and_hp.sce"
		   ]
		  },
  {
"cell_type": "code",
	   "execution_count": null,
	   "metadata": {
	    "collapsed": true
	   },
	   "outputs": [],
"source": [
"// Electric Machinery and Transformers\n",
"// Irving L kosow \n",
"// Prentice Hall of India\n",
"// 2nd editiom\n",
"\n",
"// Chapter 4: DC Dynamo Torque Relations-DC Motors\n",
"// Example 4-16\n",
"\n",
"clear; clc; close; // Clear the work space and console.\n",
"\n",
"// Given data\n",
"V_a = 230 ; // Rated armature voltage in volt\n",
"P = 10 ; // Rated power in hp\n",
"S = 1250 ; // Rated speed in rpm\n",
"R_A = 0.25 ; // Armature resistance in ohm\n",
"R_p = 0.25 ; // Interpolar resistance\n",
"BD = 5 ; // Brush voltage drop in volt\n",
"R_s = 0.15 ; // Series field resistance in ohm\n",
"R_sh = 230 ; // Shunt field resistance in ohm\n",
"\n",
"// shunt connection\n",
"I_l = 54 ; // Line current in A at rated load \n",
"I_ol = 4 ; // No-load line current in A\n",
"S_o = 1810 ; // No-load speed in rpm\n",
"\n",
"// Calculations\n",
"R_a = R_A + R_p ; // Effective armature resistance in ohm\n",
"I_f = V_a / R_sh ; // Field current in A ( Shunt connection )\n",
"I_a = I_ol - I_f ; // Armature current in A\n",
"\n",
"E_c_o = V_a - ( I_a * R_a + BD ); // No-load BACK EMF in volt\n",
"E_c_full_load = V_a - ( I_l * R_a + BD ); // No-load BACK EMF in volt at full-load\n",
"\n",
"S_r = S_o * ( E_c_full_load / E_c_o ); // Speed at rated load\n",
"\n",
"P_d = E_c_full_load * I_l ; // Internal power in watts\n",
"hp = P_d / 746 ; // Internal horse power\n",
"\n",
"// Display the results\n",
"disp('Example 4-16 Solution : ');\n",
"printf(' \n a: S_r = %d rpm\n ', S_r );\n",
"printf(' \n b: P_d = %d W ', P_d );\n",
"printf(' \n    hp = %.1f hp ', hp );"
   ]
   }
,
{
		   "cell_type": "markdown",
		   "metadata": {},
		   "source": [
			"## Example 4.17: calculate_speed_torque_and_horsepower.sce"
		   ]
		  },
  {
"cell_type": "code",
	   "execution_count": null,
	   "metadata": {
	    "collapsed": true
	   },
	   "outputs": [],
"source": [
"// Electric Machinery and Transformers\n",
"// Irving L kosow \n",
"// Prentice Hall of India\n",
"// 2nd editiom\n",
"\n",
"// Chapter 4: DC Dynamo Torque Relations-DC Motors\n",
"// Example 4-17\n",
"\n",
"clear; clc; close; // Clear the work space and console.\n",
"\n",
"// Given data\n",
"V_a = 230 ; // Rated armature voltage in volt\n",
"P = 10 ; // Rated power in hp\n",
"S = 1250 ; // Rated speed in rpm\n",
"R_A = 0.25 ; // Armature resistance in ohm\n",
"R_p = 0.25 ; // Interpolar resistance\n",
"BD = 5 ; // Brush voltage drop in volt\n",
"R_s = 0.15 ; // Series field resistance in ohm\n",
"R_sh = 230 ; // Shunt field resistance in ohm\n",
"phi_1 = 1 ;// Original flux per pole\n",
"\n",
"// Long-shunt cumulative connection\n",
"I_l = 55 ; // Line current in A at rated load \n",
"phi_2 = 1.25 ; // Flux increased by 25% due to long-shunt cumulative connection\n",
"I_ol = 4 ; // No-load line current in A\n",
"S_o = 1810 ; // No-load speed in rpm\n",
"\n",
"// Calculations\n",
"R_a = R_A + R_p ; // Effective armature resistance in ohm\n",
"I_f = V_a / R_sh ; // Field current in A in shunt winding\n",
"I_a = I_ol - I_f ; // Armature current in A for shunt connection\n",
"E_c_o = V_a - ( I_a * R_a + BD ); // No-load BACK EMF in volt for shunt connection\n",
"E_c_o1 = V_a - ( I_a * R_a + I_a * R_s + BD ); // No-load BACK EMF in volt for\n",
"// long shunt cumulative connection\n",
"S_n1 = S_o * ( E_c_o1 / E_c_o ); // Speed at no load\n",
"\n",
"I_f = V_a / R_sh ; // Field current in A in shunt winding\n",
"I_a_lsh = I_l - I_f ; // Armature current in A\n",
"E_c_full_load = V_a - ( I_a_lsh * R_a + BD ); // No-load BACK EMF in volt at\n",
"// full-load for long-shunt cumulative connection \n",
"\n",
"E_c_full_load_lsh = V_a - ( I_a_lsh * R_a + I_a_lsh * R_s + BD ); // BACK EMF in volt \n",
"// at full-load for long-shunt cumulative motor \n",
"\n",
"S_r = S_o * ( E_c_full_load / E_c_o ); // Speed at rated load for shunt connection\n",
"S_r_lsh = S_n1 * ( E_c_full_load_lsh / E_c_o1 ) * ( phi_1 / phi_2 ); \n",
"// Speed at rated load for shunt connection\n",
"\n",
"P_d = E_c_full_load * I_a_lsh ; // Internal power in watts\n",
"hp = P_d / 746 ; // Internal horse power\n",
"\n",
"T_shunt = ( hp * 5252 ) / S_r ; // Internal torque @ full-load for shunt motor\n",
"\n",
"I_a1 = I_a_lsh; // Armature current for shunt motor in A\n",
"I_a2 = I_a_lsh; // Armature current for long-shunt cumulative motor in A\n",
"T_comp = T_shunt * ( phi_2 / phi_1 ) * ( I_a2 / I_a1); // Internal torque \n",
"// at full-load for long-shunt cumulative motor in A\n",
"\n",
"Horsepower = ( E_c_full_load_lsh * I_a_lsh ) / 746 ; // Internal horsepower of\n",
"// compound motor based on flux increase\n",
"\n",
"// Display the results\n",
"disp(' Example 4-17 Solution : ');\n",
"printf(' \n a: S_n1 = %d rpm \n', S_n1 );\n",
"printf(' \n b: S_r = %d rpm \n', S_r_lsh );\n",
"printf(' \n c: Internal torque of shunt motor at full-load : ');\n",
"printf(' \n    T_shunt = %.2f lb-ft ', T_shunt );\n",
"printf(' \n    T_comp = %.2f lb-ft \n', T_comp );\n",
"printf(' \n d: Horsepower = %.1f hp \n', Horsepower );\n",
"printf(' \n e: The internal horsepower exceeds the rated horsepower because ');\n",
"printf(' \n    the power developed in the motor must also overcome the internal');\n",
"printf(' \n    mechanical rotational losses. ');"
   ]
   }
,
{
		   "cell_type": "markdown",
		   "metadata": {},
		   "source": [
			"## Example 4.18: calculate_speed_with_and_without_diverter.sce"
		   ]
		  },
  {
"cell_type": "code",
	   "execution_count": null,
	   "metadata": {
	    "collapsed": true
	   },
	   "outputs": [],
"source": [
"// Electric Machinery and Transformers\n",
"// Irving L kosow \n",
"// Prentice Hall of India\n",
"// 2nd editiom\n",
"\n",
"// Chapter 4: DC Dynamo Torque Relations-DC Motors\n",
"// Example 4-18\n",
"\n",
"clear; clc; close; // Clear the work space and console.\n",
"\n",
"// Given data\n",
"P = 25 ; // Power rating of a series motor in hp\n",
"V_a = 250 ; // Rated voltage in volt\n",
"R_a = 0.1 ; // Armature ckt resistance in ohm\n",
"BD = 3 ; // Brush voltage drop in volt\n",
"R_s = 0.05 ; // Series field resistance in ohm\n",
"I_a1 = 85 ; // Armature current in A (case a)\n",
"I_a2 = 100 ; // Armature current in A (case b)\n",
"I_a3 = 40 ; // Armature current in A (case c)\n",
"S_1 = 600 ; // Speed in rpm at current I_a1\n",
"R_d = 0.05 ; // Divertor resistance in ohm\n",
"\n",
"// Calculations\n",
"E_c2 = V_a - I_a2 * ( R_a + R_s ) - BD ; // BACK EMF in volt for I_a2\n",
"E_c1 = V_a - I_a1 * ( R_a + R_s ) - BD ; // BACK EMF in volt for I_a1\n",
"\n",
"S_2 = S_1 * ( E_c2 / E_c1 ) * ( I_a1 / I_a2 ); // Speed in rpm at current I_a2\n",
"\n",
"E_c3 = V_a - I_a3 * ( R_a + R_s ) - BD ; // BACK EMF in volt for I_a3\n",
"\n",
"S_3 = S_1 * ( E_c3 / E_c1 ) * ( I_a1 / I_a3 ); // Speed in rpm at current I_a3\n",
"\n",
"// When divertor is connected in parallel to R_s\n",
"R_sd = ( R_s * R_d ) / ( R_s + R_d ); // Effective series field resistance in ohm\n",
"\n",
"E_c2_new = V_a - I_a2 * ( R_a + R_sd ) - BD ; // BACK EMF in volt for I_a2\n",
"S_2_new = S_1 * ( E_c2_new / E_c1 ) * ( I_a1 / ( I_a2 / 2 ) ); // Speed in rpm \n",
"// at current I_a2\n",
"\n",
"E_c3_new = V_a - I_a3 * ( R_a + R_sd ) - BD ; // BACK EMF in volt for I_a3\n",
"S_3_new = S_1 * ( E_c3_new / E_c1 ) * ( I_a1 / ( I_a3 / 2 ) ); // Speed in rpm \n",
"// at current I_a3\n",
"\n",
"// Display the results\n",
"disp(' Example 4-18 Solution : ');\n",
"printf(' \n a: S_2 = %d rpm \n', S_2 );\n",
"printf(' \n b: S_3 = %d rpm \n', S_3 );\n",
"printf(' \n c: The effect of the divertor is to reduce the series field current');\n",
"printf(' \n    (and flux) to half their previous values. ');\n",
"printf(' \n    S_2 = %d rpm ', S_2_new );\n",
"printf(' \n    S_3 = %d rpm \n', S_3_new );\n",
"\n",
"printf(' \n    The results may be tabulated as follows : \n ');\n",
"printf(' \n     Case \t I_a in A \t S_o in rpm \t S_d in rpm ');\n",
"printf(' \n    ________________________________________________________');\n",
"printf(' \n      1    \t   %d       \t   %d         \t   ___ ', I_a1 , S_1  );\n",
"printf(' \n      2.   \t   %d       \t   %d         \t   %d ', I_a2 , S_2 , S_2_new );\n",
"printf(' \n      3.   \t   %d       \t   %d       \t   %d ', I_a3 , S_3 , S_3_new );\n",
" "
   ]
   }
,
{
		   "cell_type": "markdown",
		   "metadata": {},
		   "source": [
			"## Example 4.19: calculate_percentage_speed_regulation.sce"
		   ]
		  },
  {
"cell_type": "code",
	   "execution_count": null,
	   "metadata": {
	    "collapsed": true
	   },
	   "outputs": [],
"source": [
"// Electric Machinery and Transformers\n",
"// Irving L kosow \n",
"// Prentice Hall of India\n",
"// 2nd editiom\n",
"\n",
"// Chapter 4: DC Dynamo Torque Relations-DC Motors\n",
"// Example 4-19\n",
"\n",
"clear; clc; close; // Clear the work space and console.\n",
"\n",
"// Given data\n",
"// From the calculations of Ex.4-16 , Ex.4-17 , Ex.4-18 we get no-load and\n",
"// full-load speeds as follows\n",
"S_n1 = 1810 ; // No-load speed in rpm (Ex.4-16)\n",
"S_f1 = 1603 ; // Full-load speed in rpm (Ex.4-16)\n",
"\n",
"S_n2 = 1806 ; // No-load speed in rpm (Ex.4-17)\n",
"S_f2 = 1231 ; // Full-load speed in rpm (Ex.4-17)\n",
"\n",
"S_n3 = 1311 ; // No-load speed in rpm (Ex.4-18)\n",
"S_f3 = 505 ; // Full-load speed in rpm (Ex.4-18)\n",
"\n",
"// Calculations\n",
"SR_1 = ( S_n1 - S_f1 ) / S_f1 * 100 ; // Speed regulation for shunt motor\n",
"\n",
"SR_2 = ( S_n2 - S_f2 ) / S_f2 * 100 ; // Speed regulation for compound motor\n",
"\n",
"SR_3 = ( S_n3 - S_f3 ) / S_f3 * 100 ; // Speed regulation for series motor\n",
"\n",
"// Display the results\n",
"disp('Example 4-19 Solution : ');\n",
"printf(' \n a: SR(shunt) = %.1f percent \n ', SR_1 );\n",
"printf(' \n b: SR(compound) = %.1f percent \n ', SR_2 );\n",
"printf(' \n c: SR(series) = %.1f percent \n ', SR_3 );"
   ]
   }
,
{
		   "cell_type": "markdown",
		   "metadata": {},
		   "source": [
			"## Example 4.1: calculate_force_and_torque.sce"
		   ]
		  },
  {
"cell_type": "code",
	   "execution_count": null,
	   "metadata": {
	    "collapsed": true
	   },
	   "outputs": [],
"source": [
"// Electric Machinery and Transformers\n",
"// Irving L kosow \n",
"// Prentice Hall of India\n",
"// 2nd editiom\n",
"\n",
"// Chapter 4: DC Dynamo Torque Relations-DC Motors\n",
"// Example 4-1\n",
"\n",
"clear; clc; close; // Clear the work space and console.\n",
"\n",
"// Given data\n",
"d = 0.5; // diameter of the coil in m\n",
"l = 0.6; // axial length of the coil in m\n",
"B = 0.4; // flux density in T\n",
"I = 25; // current carried by the coil in A\n",
"theta = 60; // angle between the useful force & the interpolar ref axis in deg\n",
"\n",
"// Calculations\n",
"F = B * I * l; // force developed on each coil side in  N\n",
"f = F * sind(theta); // force developed at the instant the coil lies at an angle\n",
"// of 60 w.r.t the interpolar  ref axis\n",
"r = d / 2; // radius of the coil in m\n",
"T_c = f * r; // torque developed in N-m\n",
"T_c1 = T_c * 0.2248 * 3.281 ; // torque developed in lb-ft by first method\n",
"T_c2 = T_c * 0.737562 ; // torque developed in lb-ft by second method\n",
"\n",
"// Display the results\n",
"disp('Example 4-1 Solution : ')\n",
"printf('\n a : F = %d N ', F );\n",
"printf('\n b : f = %.2f N ', f );\n",
"printf('\n c : Tc = %.2f N-m ', T_c );\n",
"printf('\n d : 1.3 N-m * 0.2248 lb/N * 3.281 ft/m = %.2f lb-ft ', T_c1 );\n",
"printf('\n     1.3 N-m * 0.737562 lb.ft/N.m = %.2f lb-ft ', T_c2 );"
   ]
   }
,
{
		   "cell_type": "markdown",
		   "metadata": {},
		   "source": [
			"## Example 4.20: calculate_no_load_speed.sce"
		   ]
		  },
  {
"cell_type": "code",
	   "execution_count": null,
	   "metadata": {
	    "collapsed": true
	   },
	   "outputs": [],
"source": [
"// Electric Machinery and Transformers\n",
"// Irving L kosow \n",
"// Prentice Hall of India\n",
"// 2nd editiom\n",
"\n",
"// Chapter 4: DC Dynamo Torque Relations-DC Motors\n",
"// Example 4-20\n",
"\n",
"clear; clc; close; // Clear the work space and console.\n",
"\n",
"// Given data\n",
"SR = 0.1 ; // Given percent speed regulation 10% of a shunt motor \n",
"omega_f1 = 60 * %pi ; // Full-load speed in rad/s\n",
"\n",
"// Calculations\n",
"omega_n1 = omega_f1 * ( 1 + SR ); // No-load speed in rad/s\n",
"\n",
"S = omega_n1 * ( 1 / ( 2 * %pi )) * ( 60 / 1 ); // No-load speed in rpm \n",
"\n",
"// Display the results\n",
"disp('Example 4-20 Solution : ');\n",
"printf(' \n a: omega_n1 = %.2f \n ', omega_n1);\n",
"printf(' \n b: S = %d rpm ', S );"
   ]
   }
,
{
		   "cell_type": "markdown",
		   "metadata": {},
		   "source": [
			"## Example 4.21: calculate_internal_and_external_torque.sce"
		   ]
		  },
  {
"cell_type": "code",
	   "execution_count": null,
	   "metadata": {
	    "collapsed": true
	   },
	   "outputs": [],
"source": [
"// Electric Machinery and Transformers\n",
"// Irving L kosow \n",
"// Prentice Hall of India\n",
"// 2nd editiom\n",
"\n",
"// Chapter 4: DC Dynamo Torque Relations-DC Motors\n",
"// Example 4-21\n",
"\n",
"clear; clc; close; // Clear the work space and console.\n",
"\n",
"// Given data\n",
"S_int = 1603 ; // Internal rated speed in rpm (Ex.4-16)\n",
"S_ext = 1250 ; // External rated speed in rpm (Ex.4-16)\n",
"hp_int = 14.3 ; // Internal horsepower\n",
"hp_ext = 10 ; // External horsepower\n",
"\n",
"// Calculations\n",
"T_int = ( hp_int * 5252 ) / S_int ; // Internal torque in lb-ft\n",
"\n",
"T_ext = ( hp_ext * 5252 ) / S_ext ; // External torque in lb-ft\n",
"\n",
"// Display the results\n",
"disp('Example 4-21 Solution : ');\n",
"printf(' \n a: T_int = %.2f lb-ft \n ', T_int );\n",
"printf(' \n b: T_ext = %.2f lb-ft \n ', T_ext );\n",
"printf(' \n c: Internal horsepower is developed as a result of electromagnetic');\n",
"printf(' \n    torque produced by energy conversion. Some of the mechanical energy');\n",
"printf(' \n    is used internally to overcome mechanical losses of the motor,');\n",
"printf(' \n    reducing the torque available at its shaft to perform work.');"
   ]
   }
,
{
		   "cell_type": "markdown",
		   "metadata": {},
		   "source": [
			"## Example 4.22: calculate_output_torque_in_ounceinches.sce"
		   ]
		  },
  {
"cell_type": "code",
	   "execution_count": null,
	   "metadata": {
	    "collapsed": true
	   },
	   "outputs": [],
"source": [
"// Electric Machinery and Transformers\n",
"// Irving L kosow \n",
"// Prentice Hall of India\n",
"// 2nd editiom\n",
"\n",
"// Chapter 4: DC Dynamo Torque Relations-DC Motors\n",
"// Example 4-22\n",
"\n",
"clear; clc; close; // Clear the work space and console.\n",
"\n",
"// Given data\n",
"P = 50 ; // Power rating of the servo-motor in W\n",
"S = 3000 ; // Full-load speed of the servo-motor in rpm\n",
"\n",
"// Calculation\n",
"T_lbft = ( 7.04 * P ) / S ; // Output torque in lb-ft\n",
"T_ounceinch = T_lbft * 192 ; // Output torque in ounce-inches\n",
"\n",
"// Display the result\n",
"disp(' Example 4-22 Solution : ');\n",
"printf(' \n  T = %.1f oz.in ', T_ounceinch );"
   ]
   }
,
{
		   "cell_type": "markdown",
		   "metadata": {},
		   "source": [
			"## Example 4.23: calculate_speed_and_torque.sce"
		   ]
		  },
  {
"cell_type": "code",
	   "execution_count": null,
	   "metadata": {
	    "collapsed": true
	   },
	   "outputs": [],
"source": [
"// Electric Machinery and Transformers\n",
"// Irving L kosow \n",
"// Prentice Hall of India\n",
"// 2nd editiom\n",
"\n",
"// Chapter 4: DC Dynamo Torque Relations-DC Motors\n",
"// Example 4-23\n",
"\n",
"clear; clc; close; // Clear the work space and console.\n",
"\n",
"// Given data\n",
"P = 50 ; // Power rating of the servo-motor in W\n",
"S_rpm = 3000 ; // Full-load speed of the servo-motor in rpm\n",
"\n",
"// Calculations\n",
"S_rad_per_sec = S_rpm * 2 * %pi / 60 ; // Full-load speed of the servo-motor \n",
"// in rad/s\n",
"omega = 314.2 ; // Angular frequency in rad/s\n",
"T_Nm = P / omega ; // Output torque in Nm\n",
"T_ounceinch = T_Nm * ( 1 / 7.0612e-3 ) ; // Output torque in oz.in\n",
"\n",
"// Display the results\n",
"disp('Example 4-23 Solution : ');\n",
"printf(' \n a: Speed in rad/s = %.1f rad/s \n ', S_rad_per_sec );\n",
"printf(' \n b: T = %.4f N-m \n ', T_Nm );\n",
"printf(' \n c: T = %.1f oz.in \n ', T_ounceinch );\n",
"printf(' \n d: Both answers are the same.'); \n",
"\n",
""
   ]
   }
,
{
		   "cell_type": "markdown",
		   "metadata": {},
		   "source": [
			"## Example 4.2: calculate_force_and_torque.sce"
		   ]
		  },
  {
"cell_type": "code",
	   "execution_count": null,
	   "metadata": {
	    "collapsed": true
	   },
	   "outputs": [],
"source": [
"// Electric Machinery and Transformers\n",
"// Irving L kosow \n",
"// Prentice Hall of India\n",
"// 2nd editiom\n",
"\n",
"// Chapter 4: DC Dynamo Torque Relations-DC Motors\n",
"// Example 4-2\n",
"\n",
"clear; clc; close; // Clear the work space and console.\n",
"\n",
"// Given data\n",
"d = 18 ; // diameter of hte coil in inches\n",
"l = 24 ; // axial length of the coil in inches\n",
"B = 24000 ; // Flux density in lines/sq.inches\n",
"I = 26 ; // Current carried by the coil in A\n",
"theta = 60 ; // angle between the useful force & the interpolar ref axis in deg\n",
"\n",
"\n",
"// Calculations\n",
"F = ( B * I * l * 10 ^ -7 ) / 1.13 ; // force developed on each coil side in  lb\n",
"f = F * sind(theta); // force developed at the instant the coil lies at an angle\n",
"// of 60 w.r.t the interpolar  ref axis\n",
"r = d / 2; // radius of the coil in inches\n",
"T_c = f * ( r * 1 / 12); // torque developed in lb.ft/conductor\n",
"\n",
"// Display the results\n",
"disp('Example 4-2 Solution : ')\n",
"printf('\n a : F = %.3f lb ', F );\n",
"printf('\n b : f = %.2f lb ', f );\n",
"printf('\n c : Tc = %.3f lb-ft/conductor ', T_c );"
   ]
   }
,
{
		   "cell_type": "markdown",
		   "metadata": {},
		   "source": [
			"## Example 4.3: calculate_average_force_and_torque.sce"
		   ]
		  },
  {
"cell_type": "code",
	   "execution_count": null,
	   "metadata": {
	    "collapsed": true
	   },
	   "outputs": [],
"source": [
"// Electric Machinery and Transformers\n",
"// Irving L kosow \n",
"// Prentice Hall of India\n",
"// 2nd editiom\n",
"\n",
"// Chapter 4: DC Dynamo Torque Relations-DC Motors\n",
"// Example 4-3\n",
"\n",
"clear; clc; close; // Clear the work space and console.\n",
"\n",
"// Given data\n",
"Z = 700 ; // no. of conductors\n",
"d = 24 ; // diameter of the armature of the dc motor in inches\n",
"l = 34 ; // axial length of the coil in inches\n",
"B = 50000 ; // Flux density in lines/sq.inches\n",
"I = 25 ; // Current carried by the coil in A\n",
"\n",
"// Calculations\n",
"F_av = ( B * I * l * 10 ^ -7 ) / 1.13 * ( 700 * 0.7 ) ; // average force \n",
"// developed on each coil side in  lb\n",
"r = d / 2; // radius of the coil in inches\n",
"T_av = F_av * ( r /12 ) ; // armature average torque in lb-ft\n",
"\n",
"// Display the results\n",
"disp('Example 4-3 Solution : ')\n",
"printf('\n a : Fav = %.2f lb ', F_av );\n",
"printf('\n b : Tav = %.2f lb-ft ', T_av );"
   ]
   }
,
{
		   "cell_type": "markdown",
		   "metadata": {},
		   "source": [
			"## Example 4.4: calculate_torque_developed.sce"
		   ]
		  },
  {
"cell_type": "code",
	   "execution_count": null,
	   "metadata": {
	    "collapsed": true
	   },
	   "outputs": [],
"source": [
"// Electric Machinery and Transformers\n",
"// Irving L kosow \n",
"// Prentice Hall of India\n",
"// 2nd editiom\n",
"\n",
"// Chapter 4: DC Dynamo Torque Relations-DC Motors\n",
"// Example 4-4\n",
"\n",
"clear; clc; close; // Clear the work space and console.\n",
"\n",
"// Given data\n",
"slots = 120 ; // No. of armature slots\n",
"conductors_per_slot = 6 ; \n",
"B = 60000 ; // Flux density in lines/sq.inches\n",
"d = 28 ; // diameter of the armature\n",
"l = 14 ; // axial length of the coil in inches\n",
"A = 4 ; // No. of parallel paths\n",
"span = 0.72 ; // Pole arcs span 72% of the armature surface\n",
"I = 133.5 ; // Armature current in A\n",
"\n",
"// Calculations\n",
"Z_Ta = slots * conductors_per_slot * span ; // No. of armature conductors\n",
"F_t = ( B * I * l )/ ( 1.13 * 10 ^ 7  * A ) * Z_Ta ; // Force developed in lb\n",
"r = ( d / 2 ) / 12 ; // radius of the armature in feet\n",
"T = F_t * r ; // Tital torque developed\n",
"\n",
"// Display the result\n",
"disp('Example 4-4 Solution : ')\n",
"printf(' \n T = %d lb-ft', T );\n",
""
   ]
   }
,
{
		   "cell_type": "markdown",
		   "metadata": {},
		   "source": [
			"## Example 4.5: calculate_armature_current.sce"
		   ]
		  },
  {
"cell_type": "code",
	   "execution_count": null,
	   "metadata": {
	    "collapsed": true
	   },
	   "outputs": [],
"source": [
"// Electric Machinery and Transformers\n",
"// Irving L kosow \n",
"// Prentice Hall of India\n",
"// 2nd editiom\n",
"\n",
"// Chapter 4: DC Dynamo Torque Relations-DC Motors\n",
"// Example 4-5\n",
"\n",
"clear; clc; close; // Clear the work space and console.\n",
"\n",
"// Given data\n",
"slots = 120 ; // No. of armature slots\n",
"conductors_per_slot = 6 ; \n",
"B = 60000 ; // Flux density in lines/sq.inches\n",
"d = 28 ; // diameter of the armature\n",
"l = 14 ; // axial length of the coil in inches\n",
"A = 4 ; // No. of parallel paths\n",
"span = 0.72 ; // Pole arcs span 72% of the armature surface\n",
"T_a = 1500 ; // total armature torque in lb-ft\n",
"\n",
"// Calculation\n",
"Z = slots * conductors_per_slot ; // No. of armature conductors\n",
"r = ( d / 2 ) / 12 ; // radius of the armature in feet\n",
"I_a = ( T_a * A * 1.13e7 ) / ( B * l * Z * r * span ) ; //Armature current in A\n",
"\n",
"// Display the result\n",
"disp('Example 4-5 Solution : ')\n",
"printf(' \n Ia = %.1f A ', I_a );"
   ]
   }
,
{
		   "cell_type": "markdown",
		   "metadata": {},
		   "source": [
			"## Example 4.6: calculate_torque_due_to_change_in_field_flux.sce"
		   ]
		  },
  {
"cell_type": "code",
	   "execution_count": null,
	   "metadata": {
	    "collapsed": true
	   },
	   "outputs": [],
"source": [
"// Electric Machinery and Transformers\n",
"// Irving L kosow \n",
"// Prentice Hall of India\n",
"// 2nd editiom\n",
"\n",
"// Chapter 4: DC Dynamo Torque Relations-DC Motors\n",
"// Example 4-6\n",
"\n",
"clear; clc; close; // Clear the work space and console.\n",
"\n",
"// Given data\n",
"T_old = 150 ; // Torque developed by a motor in N-m.\n",
"disp('Example 4-6')\n",
"disp('Given data : ')\n",
"printf('\n \t\t\t phi \t I_a \t T ');\n",
"printf('\n \t\t\t ________________________');\n",
"printf('\n Original condition \t 1 \t 1 \t 150 N-m ');\n",
"printf('\n New condition \t\t 0.9 \t 1.5 \t ? ');\n",
"\n",
"// Calculation\n",
"T_new = T_old * ( 0.9 / 1 ) * ( 1.5 / 1 ) ; // New torque produced in N-m\n",
"\n",
"// Display the result\n",
"printf('\n\n Solution : ')\n",
"printf('\n Using the ratio method, the new torque is the product ');\n",
"printf('\n of two new ratio changes : ');\n",
"printf('\n T = %.1f N-m ', T_new );"
   ]
   }
,
{
		   "cell_type": "markdown",
		   "metadata": {},
		   "source": [
			"## Example 4.7: calculate_Ia_and_percentage_change_in_Ia_and_E.sce"
		   ]
		  },
  {
"cell_type": "code",
	   "execution_count": null,
	   "metadata": {
	    "collapsed": true
	   },
	   "outputs": [],
"source": [
"// Electric Machinery and Transformers\n",
"// Irving L kosow \n",
"// Prentice Hall of India\n",
"// 2nd editiom\n",
"\n",
"// Chapter 4: DC Dynamo Torque Relations-DC Motors\n",
"// Example 4-7\n",
"\n",
"clear; clc; close; // Clear the work space and console.\n",
"\n",
"// Given data\n",
"R_a = 0.25 ; // Armature resistance in ohm\n",
"BD = 3 ; // Brush contact drop in volt\n",
"V = 120 ; // Applied voltage in volt\n",
"E_a = 110 ; // EMF in volt at a given load \n",
"E_b = 105 ; // EMF in volt due to application of extra load \n",
"\n",
"// Calculations\n",
"I_a_a = ( V - ( E_a + BD ) ) / R_a ; // Armature current for E_a\n",
"I_a_b = ( V - ( E_b + BD ) ) / R_a ; // Armature current for E_b\n",
"del_E = ( ( E_a - E_b ) / E_a ) * 100 ; // % change in counter EMF\n",
"del_I = ( ( I_a_a - I_a_b ) / I_a_a ) * 100 ; // % change in armature current\n",
"\n",
"// Display the result\n",
"disp('Example 4-7 Solution : ')\n",
"printf('\n a : Ia = %d A ' , I_a_a );\n",
"printf('\n b : At increased load \n     Ia = %d A ' , I_a_b );\n",
"printf('\n c : del_Ec = %.2f percent \n     del_Ia = %.2f percent ' , del_E , del_I);"
   ]
   }
,
{
		   "cell_type": "markdown",
		   "metadata": {},
		   "source": [
			"## Example 4.8: calculate_speed_at_different_loads.sce"
		   ]
		  },
  {
"cell_type": "code",
	   "execution_count": null,
	   "metadata": {
	    "collapsed": true
	   },
	   "outputs": [],
"source": [
"// Electric Machinery and Transformers\n",
"// Irving L kosow \n",
"// Prentice Hall of India\n",
"// 2nd editiom\n",
"\n",
"// Chapter 4: DC Dynamo Torque Relations-DC Motors\n",
"// Example 4-8\n",
"\n",
"clear; clc; close; // Clear the work space and console.\n",
"\n",
"// Given data\n",
"V_a = 120 ; // Rated terminal voltage of the DC motor in volt\n",
"R_a = 0.2 ; // Armature circuit resistance in ohm\n",
"R_sh = 60 ; // Shunt field resistance in ohm\n",
"I_l = 40 ; // Line current in A @ full load\n",
"BD = 3 ; //  Brush voltage drop in volt\n",
"S_orig = 1800 ; // Rated full-load speed in rpm\n",
"\n",
"// Calculations\n",
"I_f = V_a / R_sh ; // Field current in A\n",
"I_a = I_l - I_f ; // Armature current @ full load\n",
"E_c_orig = V_a - ( I_a * R_a + BD ) ; // Back EMF @ full load\n",
"\n",
"I_a_a = I_a / 2 ; // Armature current @ half load\n",
"E_c_a = V_a - ( I_a_a * R_a + BD ) ; // Back EMF @ half load\n",
"S_a = S_orig * ( E_c_a / E_c_orig ) ; // Speed @ full load\n",
"\n",
"I_a_b = I_a * ( 5 / 4 ) ; // Armature current @ 125% overload\n",
"E_c_b = V_a - ( I_a_b * R_a + BD ) ; // Back EMF @ 125% overload\n",
"S_b = S_orig * ( E_c_b / E_c_orig ) ; // Speed @ 125% overload\n",
"\n",
"// Display the result\n",
"disp('Example 4-8 Solution : ');\n",
"\n",
"printf(' \n a : At full load ');\n",
"printf(' \n     S = %.1f rpm ' , S_a );\n",
"\n",
"printf(' \n b : At 125 percenytoverload ');\n",
"printf(' \n     S = %.1f rpm ' , S_b );"
   ]
   }
,
{
		   "cell_type": "markdown",
		   "metadata": {},
		   "source": [
			"## Example 4.9: calculate_speed_with_increased_line_current.sce"
		   ]
		  },
  {
"cell_type": "code",
	   "execution_count": null,
	   "metadata": {
	    "collapsed": true
	   },
	   "outputs": [],
"source": [
"// Electric Machinery and Transformers\n",
"// Irving L kosow \n",
"// Prentice Hall of India\n",
"// 2nd editiom\n",
"\n",
"// Chapter 4: DC Dynamo Torque Relations-DC Motors\n",
"// Example 4-9\n",
"\n",
"clear; clc; close; // Clear the work space and console.\n",
"\n",
"// Given data\n",
"I_l_orig = 40; // original Line current in A\n",
"I_l_final = 66; // Final Line current in A\n",
"\n",
"phi_orig = 1; \n",
"// field flux is increased by 12% so EMF produced and terminal \n",
"// voltage will also increase by 12%\n",
"phi_final = 1.12;\n",
"\n",
"V_a = 120;\n",
"R_sh_orig = 60; // Original Field ckt resistance in ohm\n",
"R_sh_final = 50 ; // Decreased final field ckt resistance in ohm\n",
"\n",
"R_a = 0.2; // Armature resistance in ohm\n",
"BD = 3; // Brush voltage drop in volt\n",
"S_orig = 1800; // Rated full-load speed\n",
"\n",
"// Calculations\n",
"I_f_orig = V_a / R_sh_orig ; // Original Field current in A\n",
"I_a_orig = I_l_orig - I_f_orig ; // Original Armature current @ full load\n",
"E_c_orig = V_a - ( I_a_orig * R_a + BD ) ; // Back EMF @ full load\n",
"\n",
"I_f_final = V_a / R_sh_final ; // Final field current in A\n",
"I_a_final = I_l_final - I_f_final ; // Final Armature current in A\n",
"E_c_final = V_a - ( I_a_final * R_a + BD ) ; // Final EMF induced\n",
"S = S_orig * ( E_c_final / E_c_orig ) * ( phi_orig / phi_final ) ; \n",
"// Final speed of the motor\n",
"\n",
"// Display the result\n",
"disp('Example 4-9 Solution : ');\n",
"printf(' \n S = %.1f rpm ', S ); "
   ]
   }
],
"metadata": {
		  "kernelspec": {
		   "display_name": "Scilab",
		   "language": "scilab",
		   "name": "scilab"
		  },
		  "language_info": {
		   "file_extension": ".sce",
		   "help_links": [
			{
			 "text": "MetaKernel Magics",
			 "url": "https://github.com/calysto/metakernel/blob/master/metakernel/magics/README.md"
			}
		   ],
		   "mimetype": "text/x-octave",
		   "name": "scilab",
		   "version": "0.7.1"
		  }
		 },
		 "nbformat": 4,
		 "nbformat_minor": 0
}
