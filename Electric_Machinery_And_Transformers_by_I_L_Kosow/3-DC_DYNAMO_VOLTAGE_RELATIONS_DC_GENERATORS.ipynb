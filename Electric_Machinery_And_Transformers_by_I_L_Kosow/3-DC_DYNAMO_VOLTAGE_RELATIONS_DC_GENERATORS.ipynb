{
"cells": [
 {
		   "cell_type": "markdown",
	   "metadata": {},
	   "source": [
       "# Chapter 3: DC DYNAMO VOLTAGE RELATIONS DC GENERATORS"
	   ]
	},
{
		   "cell_type": "markdown",
		   "metadata": {},
		   "source": [
			"## Example 3.10: determine_approx_size_of_dynamo.sce"
		   ]
		  },
  {
"cell_type": "code",
	   "execution_count": null,
	   "metadata": {
	    "collapsed": true
	   },
	   "outputs": [],
"source": [
"// Electric Machinery and Transformers\n",
"// Irving L kosow \n",
"// Prentice Hall of India\n",
"// 2nd editiom\n",
"\n",
"// Chapter 3: DC Dynamo Voltage Relations - DC Generators\n",
"// Example 3-10\n",
"\n",
"clear; clc; close; // Clear the work space and console.\n",
"\n",
"// Given data\n",
"kW= 50; // Power rating of the dynamo\n",
"V = 125; // Rated voltage in V\n",
"S = 1800; // Speed of the dynamo in rpm\n",
"I_f =20; // Exciting field current\n",
"Max_temp_rise = 25; // Maximum Temperature rise in degree celsius\n",
"I_l = 400; // Load Current in A\n",
"// INSULATION CLASS A\n",
"// COMPOUND WINDING \n",
"\n",
"// Display the result\n",
"disp('Example 3-10 Solution : ')\n",
"printf('\n a: Since the speed is reduced in half, we must reduce the kW rating in half. Consequently, the 25kW, 900 rpm dynamo has the same size. ');\n",
"printf('\n\n b: Since we have cut the speed in half but maintained the same kW rating, the dynamo has twice the size as the original.');\n",
"printf('\n\n c: Half the size. ');\n",
"printf('\n\n d: Same size. ');"
   ]
   }
,
{
		   "cell_type": "markdown",
		   "metadata": {},
		   "source": [
			"## Example 3.1: calculate_I1_If_Ia_Eg.sce"
		   ]
		  },
  {
"cell_type": "code",
	   "execution_count": null,
	   "metadata": {
	    "collapsed": true
	   },
	   "outputs": [],
"source": [
"// Electric Machinery and Transformers\n",
"// Irving L kosow \n",
"// Prentice Hall of India\n",
"// 2nd editiom\n",
"\n",
"// Chapter 3: DC Dynamo Voltage Relations - DC Generators\n",
"// Example 3-1\n",
"\n",
"clear; clc; close; // Clear the work space and console.\n",
"\n",
"// Given data\n",
"kW = 150; // Power rating of Shunt generator in kW\n",
"V_1 = 250; // Voltage rating of Shunt generator in V\n",
"V_a = V_1; // Voltage rating of Shunt generator in V\n",
"R_f = 50; // Field resistance in ohm\n",
"R_a = 0.05; // Armature resistance in ohm\n",
"\n",
"// Calculations\n",
"I_1 = ( kW * 1000 ) / V_1; // Full-load line current flowing to the load in A\n",
"I_f = V_1 / R_f; // Field current in A\n",
"I_a = I_f + I_1; // Armature current in A\n",
"E_g = V_a + I_a * R_a; // Full load generated voltage in V\n",
"\n",
"// Display the results\n",
"disp('Example 3-1 Solution : ')\n",
"printf('\n a: I1 = %d A ', I_1 );\n",
"printf('\n b: If = %d A ', I_f );\n",
"printf('\n c: Ia = %d A ', I_a );\n",
"printf('\n d: Eg = %.2f A ', E_g );"
   ]
   }
,
{
		   "cell_type": "markdown",
		   "metadata": {},
		   "source": [
			"## Example 3.2: calculate_Rd_Eg.sce"
		   ]
		  },
  {
"cell_type": "code",
	   "execution_count": null,
	   "metadata": {
	    "collapsed": true
	   },
	   "outputs": [],
"source": [
"// Electric Machinery and Transformers\n",
"// Irving L kosow \n",
"// Prentice Hall of India\n",
"// 2nd editiom\n",
"\n",
"// Chapter 3: DC Dynamo Voltage Relations - DC Generators\n",
"// Example 3-2\n",
"\n",
"clear; clc; close; // Clear the work space and console.\n",
"\n",
"// Given data\n",
"kW =100; // Power rating of the generator in kW\n",
"V_1 = 500; // Voltage rating of hte generator in V\n",
"R_a = 0.03; // Armature resistance in ohm\n",
"R_f = 125; // Shunt field resistance in ohm\n",
"R_s = 0.01; // Series field resistance in ohm\n",
"I_d = 54; // Diverter current in A\n",
"\n",
"// Calculations\n",
"I_1 = ( kW * 1000 ) / V_1; // Full-load line current flowing to the load in A\n",
"I_f = V_1 / R_f; // Shunt Field current in A\n",
"I_a = I_f + I_1; // Armature current in A\n",
"I_s = I_a - I_d; // Series Field current in A\n",
"R_d = ( I_s * R_s ) / I_d; // Diverter resistance in ohm\n",
"E_g = V_1 + I_a * R_a + I_s * R_s; // Generated voltage at full load in V\n",
"\n",
"// Display the results\n",
"disp('Example 3-2 Solution : ')\n",
"printf('\n a: Rd = %.4f ohm ', R_d );\n",
"printf('\n b: Eg = %.2f V ', E_g );\n",
"\n",
"\n",
"\n",
"\n",
"\n",
"\n",
""
   ]
   }
,
{
		   "cell_type": "markdown",
		   "metadata": {},
		   "source": [
			"## Example 3.3: calculate_Vnoload.sce"
		   ]
		  },
  {
"cell_type": "code",
	   "execution_count": null,
	   "metadata": {
	    "collapsed": true
	   },
	   "outputs": [],
"source": [
"// Electric Machinery and Transformers\n",
"// Irving L kosow \n",
"// Prentice Hall of India\n",
"// 2nd editiom\n",
"\n",
"// Chapter 3: DC Dynamo Voltage Relations - DC Generators\n",
"// Example 3-3\n",
"\n",
"clear; clc; close; // Clear the work space and console.\n",
"\n",
"// Given data\n",
"E_orig = 150; // Armature voltage of the generator  in V\n",
"S_orig = 1800; // Speed of the generator in rpm \n",
"S_final_a =2000; // Increased Speed of the generator in rpm for case a\n",
"S_final_b =1600; // Increased Speed of the generator in rpm for case b\n",
"\n",
"// Calculations\n",
"E_final_a = E_orig * ( S_final_a / S_orig ); // No- load voltage of the generator \n",
"// generator  in V for case a\n",
"E_final_b = E_orig * ( S_final_b / S_orig ); // No- load voltage of the generator \n",
"// generator  in V for case b\n",
"\n",
"// Display the results\n",
"disp('Example 3-3 Solution : ')\n",
"printf('\n a: Efinal = %.1f V ', E_final_a );\n",
"printf('\n b: Efinal = %.1f V ', E_final_b );"
   ]
   }
,
{
		   "cell_type": "markdown",
		   "metadata": {},
		   "source": [
			"## Example 3.4: calculate_E.sce"
		   ]
		  },
  {
"cell_type": "code",
	   "execution_count": null,
	   "metadata": {
	    "collapsed": true
	   },
	   "outputs": [],
"source": [
"// Electric Machinery and Transformers\n",
"// Irving L kosow \n",
"// Prentice Hall of India\n",
"// 2nd editiom\n",
"\n",
"// Chapter 3: DC Dynamo Voltage Relations - DC Generators\n",
"// Example 3-4\n",
"\n",
"clear; clc; close; // Clear the work space and console.\n",
"\n",
"// Given data\n",
"S_final = 1200; // Speed of th generator in rpm\n",
"E_orig_a = 64.3; // Armature voltage of the generator  in V for case a\n",
"E_orig_b = 82.9; // Armature voltage of the generator  in V for case b\n",
"E_orig_c = 162.3; // Armature voltage of the generator  in V for case c\n",
"\n",
"S_orig_a = 1205; // Varied Speed of the generator in rpm for case a\n",
"S_orig_b = 1194; // Varied Speed of the generator in rpm for case b\n",
"S_orig_c = 1202; // Varied Speed of the generator in rpm for case c\n",
"\n",
"// Calculations\n",
"E_1 = E_orig_a * ( S_final / S_orig_a ); // No- load voltage of the generator \n",
"// generator  in V for case a\n",
"E_2 = E_orig_b * ( S_final / S_orig_b ); // No- load voltage of the generator \n",
"// generator  in V for case b\n",
"E_3 = E_orig_c * ( S_final / S_orig_c ); // No- load voltage of the generator \n",
"// generator  in V for case c\n",
"\n",
"// Display the results\n",
"disp('Example 3-4 Solution : ')\n",
"printf('\n a: E1 = %.1f V at %d rpm ', E_1, S_final );\n",
"printf('\n b: E2 = %.1f V at %d rpm ', E_2, S_final );\n",
"printf('\n c: E3 = %.1f V at %d rpm ', E_3, S_final );"
   ]
   }
,
{
		   "cell_type": "markdown",
		   "metadata": {},
		   "source": [
			"## Example 3.5: calculate_Ia_Eg.sce"
		   ]
		  },
  {
"cell_type": "code",
	   "execution_count": null,
	   "metadata": {
	    "collapsed": true
	   },
	   "outputs": [],
"source": [
"// Electric Machinery and Transformers\n",
"// Irving L kosow \n",
"// Prentice Hall of India\n",
"// 2nd editiom\n",
"\n",
"// Chapter 3: DC Dynamo Voltage Relations - DC Generators\n",
"// Example 3-5\n",
"\n",
"clear; clc; close; // Clear the work space and console.\n",
"\n",
"// Given data\n",
"V = 125; // Rated voltage of the shunt generator in V\n",
"R_a = 0.15; // Armature resistance in ohm\n",
"V_a = 0; // Shunt generator is loaded progressively until the terminal voltage\n",
"// across the load is zero volt\n",
"I_1 = 96; // Load current in A\n",
"I_f = 4; // Field current in A\n",
"\n",
"// Calculations\n",
"I_a = I_f + I_1; // Armature current in A\n",
"E_g = V_a + I_a * R_a ; // Voltage generated in the armature in V\n",
"\n",
"// Display the results\n",
"disp('Example 3-5 Solution : ')\n",
"printf('\n Ia = %d A ', I_a );\n",
"printf('\n Eg = %d V ', E_g );\n",
""
   ]
   }
,
{
		   "cell_type": "markdown",
		   "metadata": {},
		   "source": [
			"## Example 3.6: calculate_VR.sce"
		   ]
		  },
  {
"cell_type": "code",
	   "execution_count": null,
	   "metadata": {
	    "collapsed": true
	   },
	   "outputs": [],
"source": [
"// Electric Machinery and Transformers\n",
"// Irving L kosow \n",
"// Prentice Hall of India\n",
"// 2nd editiom\n",
"\n",
"// Chapter 3: DC Dynamo Voltage Relations - DC Generators\n",
"// Example 3-6\n",
"\n",
"clear; clc; close; // Clear the work space and console.\n",
"\n",
"// Given data\n",
"V_n1 = 135; // No load voltage of the shunt generator in V\n",
"V_f1 = 125; // Full load voltage of the shunt generator in V\n",
"\n",
"// Calculation\n",
"VR = ( V_n1 - V_f1 ) / V_f1 * 100; // Percentage voltage regulation\n",
"\n",
"// Display the result\n",
"disp('Example 3-6 Solution : ')\n",
"printf(' \n VR = %d percent ', VR );\n",
"\n",
""
   ]
   }
,
{
		   "cell_type": "markdown",
		   "metadata": {},
		   "source": [
			"## Example 3.7: calculate_Vnoload.sce"
		   ]
		  },
  {
"cell_type": "code",
	   "execution_count": null,
	   "metadata": {
	    "collapsed": true
	   },
	   "outputs": [],
"source": [
"// Electric Machinery and Transformers\n",
"// Irving L kosow \n",
"// Prentice Hall of India\n",
"// 2nd editiom\n",
"\n",
"// Chapter 3: DC Dynamo Voltage Relations - DC Generators\n",
"// Example 3-7\n",
"\n",
"clear; clc; close; // Clear the work space and console.\n",
"\n",
"// Given data\n",
"VR = 0.105; // voltage regulation\n",
"V_f1 = 250; // Full load voltage of the shunt generator in V\n",
"\n",
"// Calculation\n",
"V_n1 = V_f1 + ( V_f1 * VR ); // No-load voltage of the generator in V\n",
"\n",
"// Display the result\n",
"disp('Example 3-7 Solution : ')\n",
"printf('\n Vn1 = %.1f V ', V_n1 );\n",
"\n",
"\n",
""
   ]
   }
,
{
		   "cell_type": "markdown",
		   "metadata": {},
		   "source": [
			"## Example 3.8: calculate_IsNs_Rd.sce"
		   ]
		  },
  {
"cell_type": "code",
	   "execution_count": null,
	   "metadata": {
	    "collapsed": true
	   },
	   "outputs": [],
"source": [
"// Electric Machinery and Transformers\n",
"// Irving L kosow \n",
"// Prentice Hall of India\n",
"// 2nd editiom\n",
"\n",
"// Chapter 3: DC Dynamo Voltage Relations - DC Generators\n",
"// Example 3-8\n",
"\n",
"clear; clc; close; // Clear the work space and console.\n",
"\n",
"// Given data\n",
"N_f = 1000; // Shunt field winding turns\n",
"N_s = 4; // Series field winding turns\n",
"I_f = 0.2; // Field current in A\n",
"I_a = 80; // Full load armature current in A\n",
"R_s =0.05; // Series field resistance in ohm\n",
"\n",
"// Calculations\n",
"deba_I_f_N_f = I_f * N_f; \n",
"I_s_N_s = deba_I_f_N_f; // Series field ampere-turns\n",
"I_s =( I_s_N_s ) / N_s; // Desired current in A in the series field required to\n",
"// produce voltage rise\n",
"I_d = I_a - I_s; // Diverter current in A\n",
"R_d = ( I_s * R_s ) / I_d; // Diverter resistance in ohm\n",
"\n",
"// Display the result\n",
"disp('Example 3-8 Solution : ')\n",
"printf('\n a: IsNs = %d At ', I_s_N_s );\n",
"printf('\n b: Rd = %.4f ohm ', R_d );\n",
""
   ]
   }
,
{
		   "cell_type": "markdown",
		   "metadata": {},
		   "source": [
			"## Example 3.9: calculate_Rd_Vnl_Vfl.sce"
		   ]
		  },
  {
"cell_type": "code",
	   "execution_count": null,
	   "metadata": {
	    "collapsed": true
	   },
	   "outputs": [],
"source": [
"// Electric Machinery and Transformers\n",
"// Irving L kosow \n",
"// Prentice Hall of India\n",
"// 2nd editiom\n",
"\n",
"// Chapter 3: DC Dynamo Voltage Relations - DC Generators\n",
"// Example 3-9\n",
"\n",
"clear; clc; close; // Clear the work space and console.\n",
"\n",
"// Given data\n",
"kW = 60; // Power rating of the generator in kW\n",
"V = 240; //Voltage rating of the generator in V\n",
"I_f = 3; // Increase in the field current in A\n",
"OC_V = 275; // Over Compounded Voltage in V\n",
"I_l = 250; // Rated load current in A\n",
"N_f = 200; // No. of turns per pole in the shunt field winding \n",
"N_s = 5; // No. of turns per pole in the series field winding \n",
"R_f = 240; //  Shunt field resistance in ohm\n",
"R_s = 0.005; //  Series field resistance in ohm\n",
"\n",
"// Calculations\n",
"deba_I_f_N_f = I_f * N_f; \n",
"I_s_N_s = deba_I_f_N_f; // Series field ampere-turns\n",
"I_s =( I_s_N_s ) / N_s; // Desired current in A in the series field required to\n",
"// produce voltage rise\n",
"I_d = I_l - I_s; // Diverter current in A\n",
"R_d = ( I_s * R_s ) / I_d; // Diverter resistance in ohm\n",
"NL_MMF = ( V / R_f )* N_f; // No-load MMF\n",
"I_f_N_f = NL_MMF;\n",
"FL_MMF = I_f_N_f + I_s_N_s; // Full-load MMF\n",
"\n",
"// Display the result\n",
"disp('Example 3-9 Solution : ')\n",
"printf('\n a: Rd = %.5f ohm ', R_d );\n",
"printf('\n b: No-load MMF = %d At/pole ', NL_MMF );\n",
"printf('\n    Full-load MMF = %d At/pole ', FL_MMF );"
   ]
   }
],
"metadata": {
		  "kernelspec": {
		   "display_name": "Scilab",
		   "language": "scilab",
		   "name": "scilab"
		  },
		  "language_info": {
		   "file_extension": ".sce",
		   "help_links": [
			{
			 "text": "MetaKernel Magics",
			 "url": "https://github.com/calysto/metakernel/blob/master/metakernel/magics/README.md"
			}
		   ],
		   "mimetype": "text/x-octave",
		   "name": "scilab",
		   "version": "0.7.1"
		  }
		 },
		 "nbformat": 4,
		 "nbformat_minor": 0
}
