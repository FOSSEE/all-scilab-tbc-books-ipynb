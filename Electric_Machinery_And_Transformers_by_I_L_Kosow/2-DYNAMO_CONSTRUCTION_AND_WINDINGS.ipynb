{
"cells": [
 {
		   "cell_type": "markdown",
	   "metadata": {},
	   "source": [
       "# Chapter 2: DYNAMO CONSTRUCTION AND WINDINGS"
	   ]
	},
{
		   "cell_type": "markdown",
		   "metadata": {},
		   "source": [
			"## Example 2.1: calculate_a_for_lap_and_wave_windings.sce"
		   ]
		  },
  {
"cell_type": "code",
	   "execution_count": null,
	   "metadata": {
	    "collapsed": true
	   },
	   "outputs": [],
"source": [
"// Electric Machinery and Transformers\n",
"// Irving L kosow \n",
"// Prentice Hall of India\n",
"// 2nd editiom\n",
"\n",
"// Chapter 2: Dynamo Construction and Windings\n",
"// Example 2-1\n",
"\n",
"clear; clc; close; // Clear the work space and console.\n",
"\n",
"// Given data\n",
"m = 3; // Multipicity of the armature\n",
"P = 14; // No. of poles\n",
"\n",
"// Calculations\n",
"a_lap = m * P; // No. of parallel paths in the armature for a lap winding\n",
"a_wave = 2 * m; // No. of parallel paths in the armature for a wave winding\n",
"\n",
"// Display the result\n",
"disp('Example 2-1 Solution : ');\n",
"\n",
"printf('\n a: a = %d paths ', a_lap);\n",
"printf('\n b: a = %d paths ', a_wave);"
   ]
   }
,
{
		   "cell_type": "markdown",
		   "metadata": {},
		   "source": [
			"## Example 2.2: calculate_generated_emf.sce"
		   ]
		  },
  {
"cell_type": "code",
	   "execution_count": null,
	   "metadata": {
	    "collapsed": true
	   },
	   "outputs": [],
"source": [
"// Electric Machinery and Transformers\n",
"// Irving L kosow \n",
"// Prentice Hall of India\n",
"// 2nd editiom\n",
"\n",
"// Chapter 2: Dynamo Construction and Windings\n",
"// Example 2-2\n",
"\n",
"clear; clc; close; // Clear the work space and console.\n",
"\n",
"// Given data\n",
"P = 14; // No. of poles\n",
"phi = 4.2e6; // Flux per pole\n",
"S = 60; // Generator speed\n",
"coils = 420; // No. of coils\n",
"turns_per_coil = 20;\n",
"conductors_per_turn = 2;\n",
"a_lap = 42; // No. of parallel paths in the armature for a lap winding\n",
"a_wave = 6; // No. of parallel paths in the armature for a wave winding\n",
"\n",
"// Calculations\n",
"Z = coils * turns_per_coil * conductors_per_turn; // No. of conductors\n",
"E_g_lap = (( phi * Z * S * P ) / ( 60 * a_lap )) * 10 ^ -8; // Generated EMF for\n",
"// lap winding ( Eq 1-5a)\n",
"E_g_wave = ( phi * Z * S * P ) / ( 60 * a_wave ) * 10 ^ -8; // Generated EMF for\n",
"// wave winding ( Eq 1-5a)\n",
"\n",
"// Display the result\n",
"disp('Example 2-2 Solution : ');\n",
"\n",
"printf('\n a: Eg = %0.1f V ', E_g_lap);\n",
"printf('\n b: Eg = %0.1f V ', E_g_wave);"
   ]
   }
,
{
		   "cell_type": "markdown",
		   "metadata": {},
		   "source": [
			"## Example 2.3: calculate_polespan_p_kp.sce"
		   ]
		  },
  {
"cell_type": "code",
	   "execution_count": null,
	   "metadata": {
	    "collapsed": true
	   },
	   "outputs": [],
"source": [
"// Electric Machinery and Transformers\n",
"// Irving L kosow \n",
"// Prentice Hall of India\n",
"// 2nd editiom\n",
"\n",
"// Chapter 2: Dynamo Construction and Windings\n",
"// Example 2-3\n",
"\n",
"clear; clc; close; // Clear the work space and console.\n",
"\n",
"// Given data\n",
"slots = 72; // No. of slots\n",
"P = 4; // No. of poles\n",
"coils_spanned = 14; // 14 slots are spanned while winding the coils\n",
"\n",
"// Calculations\n",
"Pole_span = slots / P; // Pole span\n",
"p_not = coils_spanned / Pole_span * 180; // Span of the coil in\n",
"// electrical degrees\n",
"funcprot(0) ; // Use  to avoid this message 'Warning : redefining function: beta '\n",
"beta = (180 - p_not);\n",
"k_p1 = cosd( beta / 2 ); // Pitch factor using eq(2-7)\n",
"k_p2 = sind( p_not / 2 ); // Pitch factor using eq(2-8)\n",
"\n",
"// Display the results\n",
"disp('Example 2-3 Solution : ')\n",
"printf(' \n a: Full-pitch coil span = %d slots/pole ', Pole_span );\n",
"printf(' \n b: p = %d degrees ', p_not );\n",
"printf(' \n c: kp = %.2f \t\t eq(2-7)', k_p1 );\n",
"printf(' \n d: kp = %.2f \t\t eq(2-8)', k_p2 );\n",
""
   ]
   }
,
{
		   "cell_type": "markdown",
		   "metadata": {},
		   "source": [
			"## Example 2.4: calculate_kp.sce"
		   ]
		  },
  {
"cell_type": "code",
	   "execution_count": null,
	   "metadata": {
	    "collapsed": true
	   },
	   "outputs": [],
"source": [
"// Electric Machinery and Transformers\n",
"// Irving L kosow \n",
"// Prentice Hall of India\n",
"// 2nd editiom\n",
"\n",
"// Chapter 2: Dynamo Construction and Windings\n",
"// Example 2-4\n",
"\n",
"clear; clc; close; // Clear the work space and console.\n",
"\n",
"// Given data\n",
"fractional_pitch = 13 / 16;\n",
"slot =96; // No. of slots\n",
"P = 6; // No. of poles\n",
"\n",
"// Calculation\n",
"k_p = sind( ( fractional_pitch * 180 ) / 2 ); // Pitch factor\n",
"\n",
"// Display the result\n",
"disp('Example 2-4 Solution : ')\n",
"printf('\n kp = %.4f ', k_p );"
   ]
   }
,
{
		   "cell_type": "markdown",
		   "metadata": {},
		   "source": [
			"## Example 2.5: find_alpha_n_theta.sce"
		   ]
		  },
  {
"cell_type": "code",
	   "execution_count": null,
	   "metadata": {
	    "collapsed": true
	   },
	   "outputs": [],
"source": [
"// Electric Machinery and Transformers\n",
"// Irving L kosow \n",
"// Prentice Hall of India\n",
"// 2nd editiom\n",
"\n",
"// Chapter 2: Dynamo Construction and Windings\n",
"// Example 2-5\n",
"\n",
"clear; clc; close; // Clear the work space and console.\n",
"\n",
"// Given data\n",
"P = 12; // No. of poles\n",
"theta = 360; // No. of mechanical degrees of rotation\n",
"alpha_b = 180; // No. of electrical degrees for finding case b in the question\n",
"\n",
"// Calculations\n",
"alpha = ( P * theta ) / 2; // No. of electrical degrees in one revolution\n",
"n = alpha / 360; // No. of ac cycles\n",
"theta_b = ( 2 * alpha_b ) / P; // No. of mechanical degrees of rotation\n",
"// for finding case b in the question\n",
"\n",
"// Display the results\n",
"disp('Example 2-5 Solution : ')\n",
"printf('\n a: alpha = %d degrees', alpha);\n",
"printf('\n    n = %d cycles ', n);\n",
"printf('\n b: theta = %d mechanical degrees ', theta_b );"
   ]
   }
,
{
		   "cell_type": "markdown",
		   "metadata": {},
		   "source": [
			"## Example 2.6: find_n_alpha_kd_for_different_number_of_slots.sce"
		   ]
		  },
  {
"cell_type": "code",
	   "execution_count": null,
	   "metadata": {
	    "collapsed": true
	   },
	   "outputs": [],
"source": [
"// Electric Machinery and Transformers\n",
"// Irving L kosow \n",
"// Prentice Hall of India\n",
"// 2nd editiom\n",
"\n",
"// Chapter 2: Dynamo Construction and Windings\n",
"// Example 2-6\n",
"\n",
"clear; clc; close; // Clear the work space and console.\n",
"\n",
"// Given data\n",
"P = 4;// No. of poles\n",
"phi = 3; // No. of phases\n",
"slots_(1) = 12; // No. of slots for case 1\n",
"slots_(2) = 24; // No. of slots for case 2\n",
"slots_(3) = 48; // No. of slots for case 3\n",
"slots_(4) = 84; // No. of slots for case 4\n",
"\n",
"// Calculations\n",
"electrical_degrees = 180 * 4;\n",
"i=1; // where i is case subscript .eg case1, case2, etc\n",
"\n",
"  while i<=4  \n",
"    alpha_(i) = electrical_degrees / slots_(i); // electrical degrees  \n",
"    // per slots for case i\n",
"    n_(i) = slots_(i) / ( P * phi ); // No. of ac cycles for case 1\n",
"    k_d(i) = sind( n_(i)*( alpha_(i) / 2 ) ) / ( n_(i) * sind( alpha_(i) / 2));\n",
"    i=i+1;\n",
"  end;\n",
"     \n",
"// Display the results\n",
"disp('Example 2-6 Solution : ')\n",
"printf('\n a:');\n",
" i=1; // where i is case subscript .eg case1, case2, etc\n",
"   \n",
"   while i<=4\n",
"        printf('\n \t %d: alpha = %.2f degrees/slot', i , alpha_(i) );\n",
"        printf('\n\t    n = %d slots/pole-phase ', n_(i) );\n",
"        printf('\n\t    kd = %.3f ', k_d(i));\n",
"        printf('\n');\n",
"        i=i+1; \n",
"   end;\n",
"   \n",
"printf('\n\n\n b: ');\n",
"printf('\n \t \t n \t alpha in degrees  \t\t kd ');\n",
"printf('\n \t __________________________________________________________' );\n",
"i=1;\n",
"\n",
" while i<=4\n",
"    printf('\n \t \t %d \t %.2f \t\t\t\t%.3f ', n_(i) , alpha_(i) , k_d(i) );\n",
"    i = i +1;\n",
"  end;\n",
"    printf('\n \t __________________________________________________________' );\n",
""
   ]
   }
,
{
		   "cell_type": "markdown",
		   "metadata": {},
		   "source": [
			"## Example 2.7: calculate_Eg_Np_kd_kp_Egp.sce"
		   ]
		  },
  {
"cell_type": "code",
	   "execution_count": null,
	   "metadata": {
	    "collapsed": true
	   },
	   "outputs": [],
"source": [
"// Electric Machinery and Transformers\n",
"// Irving L kosow \n",
"// Prentice Hall of India\n",
"// 2nd editiom\n",
"\n",
"// Chapter 2: Dynamo Construction and Windings\n",
"// Example 2-7\n",
"\n",
"clear; clc; close; // Clear the work space and console.\n",
"\n",
"// Given data\n",
"slots = 72; // No. of slots\n",
"P = 6; // No. of poles\n",
"phase =3; // three phase stator armature\n",
"N_c = 20; // Number of turns per coil\n",
"pitch = 5 / 6;\n",
"phi = 4.8e+6; // flux per pole in lines\n",
"S = 1200; // Rotor speed\n",
"\n",
"// Calculations\n",
"f = ( P * S )/ 120; // Frequency of rotor\n",
"\n",
"E_g_percoil = 4.44 * phi * N_c * f *10 ^ -8; // Generated effective voltage\n",
"// per coil of a full pitch coil\n",
"\n",
"N_p = ( slots / phase ) * N_c; // Total number of turns per phase\n",
"\n",
"n = slots / ( phase * P ); // No. os slots per pole per phase\n",
"\n",
"alpha = ( P * 180 ) / slots; // No. of electrical degrees between adjacent slots\n",
"\n",
"k_d = sind( n * alpha / 2 ) / ( n * sind( alpha / 2 ) ); // Distribution factor\n",
"\n",
"span = pitch * 180; // Span of the coil in electrical degrees\n",
"\n",
"k_p = sind( span / 2 ); // Pitch factor\n",
"\n",
"E_gp = 4.44 * phi * N_p * f * k_p * k_d * 10 ^ -8; // Total generated voltage\n",
"// per phase considering kp and kd\n",
"\n",
"// Display the result\n",
"disp('Example 2-7 Solution : ')\n",
"printf('\n a: Eg/coil = %.2f V/coil', E_g_percoil );\n",
"printf('\n b: Np = %d turns/phase ', N_p );\n",
"printf('\n c: kd = %.3f ', k_d );\n",
"printf('\n d: kp = %.3f ', k_p );\n",
"printf('\n e: Egp = %.2f V/phase ', E_gp );"
   ]
   }
,
{
		   "cell_type": "markdown",
		   "metadata": {},
		   "source": [
			"## Example 2.8: calculate_f_S_omega.sce"
		   ]
		  },
  {
"cell_type": "code",
	   "execution_count": null,
	   "metadata": {
	    "collapsed": true
	   },
	   "outputs": [],
"source": [
"// Electric Machinery and Transformers\n",
"// Irving L kosow \n",
"// Prentice Hall of India\n",
"// 2nd editiom\n",
"\n",
"// Chapter 2: Dynamo Construction and Windings\n",
"// Example 2-8\n",
"\n",
"clear; clc; close; // Clear the work space and console.\n",
"\n",
"// Given data\n",
"P = 8; // No. of poles\n",
"S = 900; // Speed in revolutions / minute\n",
"f_1 = 50; // Frequency of generated voltage from generator 1\n",
"f_2 = 25; // Frequency of generated voltage from generator 2\n",
"\n",
"// Calculations\n",
"f = ( P * S ) / 120; // Frequency of the generated voltage\n",
"S_1 = ( 120 * f_1 ) / P; // Speed of generator(rpm) 1 to generate 50 Hz voltage\n",
"S_2 = ( 120 * f_2 ) / P; // Speed of generator(rpm) 2 to generate 25 Hz voltage\n",
"omega_1 = ( 4 * %pi * f_1 ) / P; // Speed of generator 1 in rad/s\n",
"omega_2 = ( 4 * %pi * f_2 ) / P; // Speed of generator 2 in rad/s\n",
"\n",
"// Display the result\n",
"disp('Example 2-8 Solution : ')\n",
"printf('\n a: f = %d Hz ', f );\n",
"printf('\n b: S1 = %d rpm \n    S2 = %d rpm ', S_1, S_2 );\n",
"printf('\n c: omega1 = %f rad/s \n    omega2 = %f rad/s', omega_1, omega_2 );"
   ]
   }
],
"metadata": {
		  "kernelspec": {
		   "display_name": "Scilab",
		   "language": "scilab",
		   "name": "scilab"
		  },
		  "language_info": {
		   "file_extension": ".sce",
		   "help_links": [
			{
			 "text": "MetaKernel Magics",
			 "url": "https://github.com/calysto/metakernel/blob/master/metakernel/magics/README.md"
			}
		   ],
		   "mimetype": "text/x-octave",
		   "name": "scilab",
		   "version": "0.7.1"
		  }
		 },
		 "nbformat": 4,
		 "nbformat_minor": 0
}
