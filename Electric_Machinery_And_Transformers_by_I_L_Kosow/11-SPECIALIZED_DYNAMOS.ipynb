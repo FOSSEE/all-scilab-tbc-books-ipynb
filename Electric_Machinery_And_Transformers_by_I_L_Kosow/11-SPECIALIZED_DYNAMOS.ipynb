{
"cells": [
 {
		   "cell_type": "markdown",
	   "metadata": {},
	   "source": [
       "# Chapter 11: SPECIALIZED DYNAMOS"
	   ]
	},
{
		   "cell_type": "markdown",
		   "metadata": {},
		   "source": [
			"## Example 11.1: calculate_S_V_P_T_A_and_B_from_torque_speed_relations_fig.sce"
		   ]
		  },
  {
"cell_type": "code",
	   "execution_count": null,
	   "metadata": {
	    "collapsed": true
	   },
	   "outputs": [],
"source": [
"// Electric Machinery and Transformers\n",
"// Irving L kosow \n",
"// Prentice Hall of India\n",
"// 2nd editiom\n",
"\n",
"// Chapter 11: SPECIALIZED DYNAMOS\n",
"// Example 11-1\n",
"\n",
"clear; clc; close; // Clear the work space and console.\n",
"\n",
"// Given data\n",
"// Torque - speed relations shown in Fig.11-3b for a dc servomotor.\n",
"\n",
"// Calculations\n",
"// case a\n",
"// Extrapolating to load line point x,\n",
"S = 800 ; // Motor speed at point x\n",
"V = 60 ; // Armature voltage in volt at point x\n",
"\n",
"// case b\n",
"// At standstill, 60 V yields 4.5 lb-ft of starting torque\n",
"T = 4.5 ;\n",
"\n",
"// case c\n",
"P_c = (T*S)/5252 ; // Power delivered to the load in hp (from case a conditions)\n",
"P_c_watt = P_c * 746 ; // P_c in W\n",
"// case d\n",
"// At point o:\n",
"T_d = 1.1 ; // Starting torque in lb-ft (subscript d indicates case d) and\n",
"S_d = 410 ; // Motor speed at point at point o\n",
"\n",
"// case e\n",
"// At point w:\n",
"T_e = 2.4 ; // Starting torque in lb-ft (subscript e indicates case e) and\n",
"S_e = 900 ; // Motor speed at point at point w\n",
"\n",
"// case f\n",
"P_d = (T_d*S_d)/5252 ; // Power delivered to the load in hp (from case d conditions)\n",
"P_d_watt = P_d * 746 ; // P_d in W\n",
"\n",
"// case g\n",
"P_f = (T_e*S_e)/5252 ; // Power delivered to the load in hp (from case f conditions)\n",
"P_f_watt = P_f * 746 ; // P_f in W\n",
"\n",
"// case h\n",
"// Upper limit of power ranges A and B are:\n",
"A = 65 ; // Upper limit of power range A in W\n",
"B = 305 ; // Upper limit of power range B in W\n",
"\n",
"// Display the results\n",
"disp('Example 11-1 Solution : ');\n",
"\n",
"printf(' \n a: Extrapolating to load line point x,\n    S = %d rpm ',S);\n",
"printf(' \n    Load line voltage is %d V \n',V);\n",
"\n",
"printf(' \n b: At standstill, %d V yields T = %.1f lb-ft of starting torque\n',V,T);\n",
"\n",
"printf(' \n c: Power delivered to the load in hp (from case a conditions)');\n",
"printf(' \n    P = %.4f hp = %d W \n',P_c,P_c_watt);\n",
"\n",
"printf(' \n d: At point o:\n    T = %.1f lb-ft and S = %d rpm \n',T_d,S_d);\n",
"\n",
"printf(' \n e: At point w:\n    T = %.1f lb-ft and S = %d rpm \n',T_e,S_e);\n",
"\n",
"printf(' \n f: P = %.4f hp = %.1f W \n ',P_d,P_d_watt);\n",
"\n",
"printf(' \n g: P = %.4f hp = %.f W \n',P_f,P_f_watt );\n",
"\n",
"printf(' \n h: A = %d W  and  B = %d W ', A , B );"
   ]
   }
,
{
		   "cell_type": "markdown",
		   "metadata": {},
		   "source": [
			"## Example 11.2: calculate_stepping_angle.sce"
		   ]
		  },
  {
"cell_type": "code",
	   "execution_count": null,
	   "metadata": {
	    "collapsed": true
	   },
	   "outputs": [],
"source": [
"// Electric Machinery and Transformers\n",
"// Irving L kosow \n",
"// Prentice Hall of India\n",
"// 2nd editiom\n",
"\n",
"// Chapter 11: SPECIALIZED DYNAMOS\n",
"// Example 11-2\n",
"\n",
"clear; clc; close; // Clear the work space and console.\n",
"\n",
"// Given data\n",
"// VR stepper motor\n",
"n = 3 ; // Number of stacks or phases\n",
"P_a = 16 ; // Number of rotor teeth (subscript a indicates case a)\n",
"// PM stepper\n",
"P_b = 24 ; // Number of poles (subscript b indicates case b)\n",
"\n",
"// Calculations\n",
"// case a\n",
"alpha_a = 360 / (n*P_a); // Stepping angle in degrees per step \n",
"\n",
"alpha_b = 360 / (n*P_b); // Stepping angle in degrees per step \n",
"\n",
"// Display the results\n",
"disp('Example 11-2 Solution : ');\n",
"printf(' \n a: alpha α = %.1f degrees/step \n ', alpha_a );\n",
"\n",
"printf(' \n b: alpha α = %.1f degrees/step \n ', alpha_b );"
   ]
   }
,
{
		   "cell_type": "markdown",
		   "metadata": {},
		   "source": [
			"## Example 11.3: calculate_stepping_length.sce"
		   ]
		  },
  {
"cell_type": "code",
	   "execution_count": null,
	   "metadata": {
	    "collapsed": true
	   },
	   "outputs": [],
"source": [
"// Electric Machinery and Transformers\n",
"// Irving L kosow \n",
"// Prentice Hall of India\n",
"// 2nd editiom\n",
"\n",
"// Chapter 11: SPECIALIZED DYNAMOS\n",
"// Example 11-3\n",
"\n",
"clear; clc; close; // Clear the work space and console.\n",
"\n",
"// Given data\n",
"// Hybrid stepping motor\n",
"P = 50 ; // Number of rotor teeth\n",
"\n",
"// Calculation\n",
"\n",
"alpha = 90 / P ; // Stepping angle in degrees\n",
"\n",
"// Display the result\n",
"disp('Example 11-3 Solution : ');\n",
"printf(' \n alpha α = %.1f degrees ', alpha );"
   ]
   }
,
{
		   "cell_type": "markdown",
		   "metadata": {},
		   "source": [
			"## Example 11.4: calculate_synchronous_velocity.sce"
		   ]
		  },
  {
"cell_type": "code",
	   "execution_count": null,
	   "metadata": {
	    "collapsed": true
	   },
	   "outputs": [],
"source": [
"// Electric Machinery and Transformers\n",
"// Irving L kosow \n",
"// Prentice Hall of India\n",
"// 2nd editiom\n",
"\n",
"// Chapter 11: SPECIALIZED DYNAMOS\n",
"// Example 11-4\n",
"\n",
"clear; clc; close; // Clear the work space and console.\n",
"\n",
"// Given data\n",
"tou = 0.1 ; // Pole pitch of a double-sided primary LIM in meter\n",
"f = 60 ; // Frequency applied to the primary LIM in Hz\n",
"\n",
"// Calculation\n",
"v_s = 2 * f * tou ; // Synchronous velocity in meter/second\n",
"\n",
"// Display the result\n",
"disp('Example 11-4 Solution : ');\n",
"printf(' \n Synchronous velocity : \n v_s = %d m/s ', v_s );"
   ]
   }
,
{
		   "cell_type": "markdown",
		   "metadata": {},
		   "source": [
			"## Example 11.5: calculate_slip_of_DSLIM.sce"
		   ]
		  },
  {
"cell_type": "code",
	   "execution_count": null,
	   "metadata": {
	    "collapsed": true
	   },
	   "outputs": [],
"source": [
"// Electric Machinery and Transformers\n",
"// Irving L kosow \n",
"// Prentice Hall of India\n",
"// 2nd editiom\n",
"\n",
"// Chapter 11: SPECIALIZED DYNAMOS\n",
"// Example 11-5\n",
"\n",
"clear; clc; close; // Clear the work space and console.\n",
"\n",
"// Given data\n",
"v_s = 12 ; // Synchronous velocity in meter/second\n",
"v = 10 ; // Secondary sheet in Ex.11-4 moves at a linear velocity in m/s\n",
"\n",
"// Calculation\n",
"s = (v_s - v)/v_s ; // Slip of the DSLIM\n",
"\n",
"// Display the result\n",
"disp('Example 11-5 Solution : ');disp('From Eq.(11-5)')\n",
"printf(' \n Slip of the DSLIM : \n s = %.3f  ',s );"
   ]
   }
],
"metadata": {
		  "kernelspec": {
		   "display_name": "Scilab",
		   "language": "scilab",
		   "name": "scilab"
		  },
		  "language_info": {
		   "file_extension": ".sce",
		   "help_links": [
			{
			 "text": "MetaKernel Magics",
			 "url": "https://github.com/calysto/metakernel/blob/master/metakernel/magics/README.md"
			}
		   ],
		   "mimetype": "text/x-octave",
		   "name": "scilab",
		   "version": "0.7.1"
		  }
		 },
		 "nbformat": 4,
		 "nbformat_minor": 0
}
