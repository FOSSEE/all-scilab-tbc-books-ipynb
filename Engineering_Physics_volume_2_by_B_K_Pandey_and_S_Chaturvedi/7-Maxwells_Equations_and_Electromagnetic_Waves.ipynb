{
"cells": [
 {
		   "cell_type": "markdown",
	   "metadata": {},
	   "source": [
       "# Chapter 7: Maxwells Equations and Electromagnetic Waves"
	   ]
	},
{
		   "cell_type": "markdown",
		   "metadata": {},
		   "source": [
			"## Example 7.10: Calculation_of_intensities_of_electrical_and_magnetic_field.sce"
		   ]
		  },
  {
"cell_type": "code",
	   "execution_count": null,
	   "metadata": {
	    "collapsed": true
	   },
	   "outputs": [],
"source": [
" \n",
"clc \n",
"//Given that\n",
"p = 500 // power in watt\n",
"d = 1 // Distance from lamp in m\n",
"epsilon_0 = 8.854e-12 // Permittivity of free space\n",
"mu_0 = 4*%pi*1e-7 // Permeability of free space\n",
"printf('Example 7.10')\n",
"s = p/(4*%pi*d^2)// Calculation of pointing vector\n",
"E_H_ratio = sqrt(mu_0/epsilon_0) // Calculation of ratio of Electric field and magnetic field\n",
"H = s/E_H_ratio // Calculation of Electric field \n",
"h = ceil(H*100)/100 // rounding off for 2 decimal places\n",
"E= p/(4*%pi*h) // Calculation of Electric field \n",
"printf('\n Average value of electric field at distance %d m is %f Volt/m ',d,E)\n",
"printf('\n Average value of magnetic field at distance %d m is %f Amp-turn/m \n\n\n',d,h)"
   ]
   }
,
{
		   "cell_type": "markdown",
		   "metadata": {},
		   "source": [
			"## Example 7.11: EX7_11.sce"
		   ]
		  },
  {
"cell_type": "code",
	   "execution_count": null,
	   "metadata": {
	    "collapsed": true
	   },
	   "outputs": [],
"source": [
" \n",
"clc \n",
"//Given that\n",
"mu_0 = 4*%pi*1e-7 // Permeability of free space\n",
"mu = mu_0 //Permeability of silver\n",
"sigma = 3.5e7 // conductivity in simens /m\n",
"delta = 0.03 // Skin depth penetration in mm\n",
"\n",
"printf('Example 7.11')\n",
"\n",
"f = 2/((delta*1e-3)^2*sigma*mu*2*%pi) // Calculation of skin depth penetration\n",
"printf('\n Required frequency is %d MHz.',f/1e6)\n",
"printf('\n The incident electromagnetic wave is the radio part of spectrum')"
   ]
   }
,
{
		   "cell_type": "markdown",
		   "metadata": {},
		   "source": [
			"## Example 7.12: Calculation_of_solar_energy_received_by_moon_during_solar_eclipse.sce"
		   ]
		  },
  {
"cell_type": "code",
	   "execution_count": null,
	   "metadata": {
	    "collapsed": true
	   },
	   "outputs": [],
"source": [
" \n",
"clc \n",
"//Given that\n",
"p = 3.8e26 // power radiated by moon in watt\n",
"d_sun = 1.44e11 // Distance between sun and earth in meter\n",
"d_moon = 3e8 //Distance between moon and earth in meter\n",
"epsilon_0 = 8.854e-12 // Permittivity of free space\n",
"mu_0 = 4*%pi*1e-7 // Permeability of free space\n",
"printf('Example 7.12')\n",
"s = p/(4*%pi*d_sun^2)// Calculation of solar energy received during solar eclipse in watt /m^2\n",
"S = s*60/(4.2*1e4) // Unit conversion\n",
"\n",
"printf('\n Solar energy received during solar eclipse is %f Cal per min per m^2 \n\n\n',S)\n",
"// Ansewr in book is 2.1 cal per min per m^2"
   ]
   }
,
{
		   "cell_type": "markdown",
		   "metadata": {},
		   "source": [
			"## Example 7.13: Calculation_of_skin_depth.sce"
		   ]
		  },
  {
"cell_type": "code",
	   "execution_count": null,
	   "metadata": {
	    "collapsed": true
	   },
	   "outputs": [],
"source": [
"\n",
" \n",
"clc \n",
"//Given that\n",
"mu_0 = 4*%pi*1e-7 // Permeability of free space\n",
"mu = mu_0 //Permeability of silver\n",
"sigma = 3.5e7 // conductivity in simens /m\n",
"lambda = 6328 // Wavelength in angstrom\n",
"c = 3e8// Speed of light in m/sec\n",
"\n",
"printf('Example 7.13')\n",
"f = c/(lambda*1e-10)\n",
"omega = 2*%pi/f // Calculation of time period\n",
"f = c/(lambda*1e-10) // Calculation of frequency in Hz\n",
"delta = sqrt(1/(%pi*f*sigma*mu)) // Calculation of skin depth penetration\n",
"printf('\n Skin depth penetration is %f nm. \n\n\n',delta*1e9)\n",
"// Answer in book is 3.9 mm, unit used in book is wrong"
   ]
   }
,
{
		   "cell_type": "markdown",
		   "metadata": {},
		   "source": [
			"## Example 7.1: Calculation_of_average_values_of_electrical_and_magnetic_field_vector.sce"
		   ]
		  },
  {
"cell_type": "code",
	   "execution_count": null,
	   "metadata": {
	    "collapsed": true
	   },
	   "outputs": [],
"source": [
"\n",
"clc \n",
"//Given that\n",
"p = 1000 // power in watt\n",
"d = 2 // Distance from lamp in m\n",
"epsilon_0 = 8.854e-12 // Permittivity of free space\n",
"mu_0 = 4*%pi*1e-7 // Permeability of free space\n",
"printf('Example 7.1')\n",
"s = p/(4*%pi*d^2)// Calculation of pointing vector\n",
"E_H_ratio = sqrt(mu_0/epsilon_0) // Calculation of ratio of Electric field and magnetic field\n",
"E= sqrt(E_H_ratio*s) // Calculation of  Electric field \n",
"printf('\n Average value of electric field at distance %d m is %f Volt/m \n\n\n',d,E)\n",
"// Answer in book is 48.87 volt/m which is due to wrong calculation at intermediate steps"
   ]
   }
,
{
		   "cell_type": "markdown",
		   "metadata": {},
		   "source": [
			"## Example 7.2: Calculation_of_amplitudes_of_electrical_and_magnetic_field_vector.sce"
		   ]
		  },
  {
"cell_type": "code",
	   "execution_count": null,
	   "metadata": {
	    "collapsed": true
	   },
	   "outputs": [],
"source": [
" \n",
"clc \n",
"//Given that\n",
"p = 2 // power in cal/min/cm^2\n",
"\n",
"epsilon_0 = 8.854e-12 // Permittivity of free space\n",
"mu_0 = 4*%pi*1e-7 // permeability of free space\n",
"printf('Example 7.2')\n",
"s = p*4.2e4/60 // Calculation of pointing vector\n",
"E_H_ratio = sqrt(mu_0/epsilon_0) // Calculation of ratio of Electric field and magnetic field\n",
"E= sqrt(E_H_ratio*s) // Calculation of Electric field \n",
"H = s/E // Calculation of Electric field \n",
"\n",
"printf('\n Average value of electric field  is %f Volt/m ',E*sqrt(2))\n",
"printf(' \nAverage value of magnetic field is %f Amp turn/m \n\n\n',H*sqrt(2))"
   ]
   }
,
{
		   "cell_type": "markdown",
		   "metadata": {},
		   "source": [
			"## Example 7.3: Calculation_of_skin_depth_for_a_given_frequency.sce"
		   ]
		  },
  {
"cell_type": "code",
	   "execution_count": null,
	   "metadata": {
	    "collapsed": true
	   },
	   "outputs": [],
"source": [
"\n",
"clc \n",
"//Given that\n",
"mu_0 = 4*%pi*1e-7 // permeability of free space\n",
"mu = mu_0 //permeability of silver\n",
"sigma = 3e7 // conductivity in mhos/m\n",
"f = 1e8 // frequency in Hz\n",
"printf('Example 7.3')\n",
"omega = 2*%pi/f // Calculation of time period\n",
"delta = sqrt(2/(omega*sigma*mu)) // Calculation of skin depth penetration\n",
"Delta = floor (delta/100)*100 // Rounding off\n",
"printf('\n Skin depth penetration is %e cm. \n\n\n',Delta*1e-6)\n",
""
   ]
   }
,
{
		   "cell_type": "markdown",
		   "metadata": {},
		   "source": [
			"## Example 7.5: EX7_5.sce"
		   ]
		  },
  {
"cell_type": "code",
	   "execution_count": null,
	   "metadata": {
	    "collapsed": true
	   },
	   "outputs": [],
"source": [
" \n",
"clc \n",
"//Given that\n",
"k = 80 // relative Dielectric constant of sea water\n",
"epsilon_0 = 1/9e9 // Permittivity of free space\n",
"epsilon = 80*epsilon_0 // Permittivity of free space\n",
"sigma = 4.3 // conductivity in mho/m\n",
"delta = 10 // penetration depth in cm\n",
"mu_0 = 4*%pi*1e-7 // permeability f free space\n",
"F = 1e8 // Given frequency in Hz\n",
"printf('Example 7.5')\n",
"f = (1/(%pi*mu_0*sigma))/(delta*1e-2)^2 // Calculation of frequency\n",
"f1= ceil(f/1e8)*1e8 // Rounding off\n",
"printf('\nFrequency required for penetration of depth %d cm is %e Hz',delta,f1)\n",
"omega = 2*%pi*F\n",
"x = 2*sigma/(epsilon*omega)\n",
"if x>1 then\n",
"    printf('\n Sea water is good conductor at frequency lesser than 1e8 Hz\n\n ')\n",
"end"
   ]
   }
,
{
		   "cell_type": "markdown",
		   "metadata": {},
		   "source": [
			"## Example 7.7: EX7_7.sce"
		   ]
		  },
  {
"cell_type": "code",
	   "execution_count": null,
	   "metadata": {
	    "collapsed": true
	   },
	   "outputs": [],
"source": [
" \n",
"clc \n",
"//Given that\n",
"k = 12 // relative Dielectric constant of sea water\n",
"epsilon_0 = 1/9e9 // Permittivity of free space\n",
"sigma = 2 // conductivity in mho/cm\n",
"mu_0 = 4*%pi*1e-7 // permeability f free space\n",
"f= 1e9 // Given frequency in Hz\n",
"F = 1e6 // Given frequency in Hz\n",
"printf('\nExample 7.7')\n",
"delta = sqrt(2/(2*%pi*F*mu_0*sigma*100)) // Calculation of frequency\n",
"printf('\n For %eHz frequency, Penetration depth is %f cm',F,delta*100)\n",
"omega = 2*%pi*f\n",
"x = 2*sigma*100/(k*epsilon_0*omega)\n",
"if x>1 then\n",
"    printf('\n Silicon is good conductor at frequency lesser than 1e9 Hz \n\n\n')\n",
"end\n",
"// Answer in book is 3.6 cm"
   ]
   }
,
{
		   "cell_type": "markdown",
		   "metadata": {},
		   "source": [
			"## Example 7.8: Calculation_of_frequency_for_a_given_skin_depth_and_predict_name_of_radiation.sce"
		   ]
		  },
  {
"cell_type": "code",
	   "execution_count": null,
	   "metadata": {
	    "collapsed": true
	   },
	   "outputs": [],
"source": [
"clc \n",
"//Given that\n",
"mu_0 = 4*%pi*1e-7 // permeability of free space\n",
"mu = mu_0 //permeability of silver\n",
"sigma = 5.8e7 // conductivity in simens /m\n",
"delta = 0.1 // Skin depth penetration in mm\n",
"\n",
"printf('Example 7.8')\n",
"f = 2/((delta*1e-3)^2*sigma*mu*2*%pi) // Calculation of skin depth penetration\n",
"printf('\n Required frequency is %.2e Hz',f)\n",
"printf('\n The incident electromagnetic wave is the radio part of spectrum.')\n",
"// Answer in book is 3.36e5 Hz. Difference is due to approximation at intermediate stages\n",
""
   ]
   }
,
{
		   "cell_type": "markdown",
		   "metadata": {},
		   "source": [
			"## Example 7.9: Calculation_of_skin_depth_for_a_given_frequency.sce"
		   ]
		  },
  {
"cell_type": "code",
	   "execution_count": null,
	   "metadata": {
	    "collapsed": true
	   },
	   "outputs": [],
"source": [
" \n",
" \n",
"clc \n",
"//Given that\n",
"mu_0 = 4*%pi*1e-7 // Permeability of free space\n",
"mu = mu_0 //Permeability of silver\n",
"sigma = 3e7 // conductivity in mhos/m\n",
"f = 1e10 // frequency in Hz\n",
"printf('Example 7.9')\n",
"delta = sqrt(1/(%pi*sigma*f*mu)) // Calculation of skin depth penetration\n",
"printf('\n Skin depth penetration is %f micrometre. \n\n\n',delta*1e6)\n",
"// Answer in book is 0.93 micrometer"
   ]
   }
],
"metadata": {
		  "kernelspec": {
		   "display_name": "Scilab",
		   "language": "scilab",
		   "name": "scilab"
		  },
		  "language_info": {
		   "file_extension": ".sce",
		   "help_links": [
			{
			 "text": "MetaKernel Magics",
			 "url": "https://github.com/calysto/metakernel/blob/master/metakernel/magics/README.md"
			}
		   ],
		   "mimetype": "text/x-octave",
		   "name": "scilab",
		   "version": "0.7.1"
		  }
		 },
		 "nbformat": 4,
		 "nbformat_minor": 0
}
