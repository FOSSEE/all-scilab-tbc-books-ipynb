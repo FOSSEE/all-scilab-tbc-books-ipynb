{
"cells": [
 {
		   "cell_type": "markdown",
	   "metadata": {},
	   "source": [
       "# Chapter 8: Superconductivity "
	   ]
	},
{
		   "cell_type": "markdown",
		   "metadata": {},
		   "source": [
			"## Example 8.10: Calculation_of_penetration_depth.sce"
		   ]
		  },
  {
"cell_type": "code",
	   "execution_count": null,
	   "metadata": {
	    "collapsed": true
	   },
	   "outputs": [],
"source": [
"\n",
"  clc\n",
"// Given that\n",
"T_1 = 3.5 // Temperature in kelvin\n",
"T_c = 4.153 // Critical temp in kelvin\n",
"lambda_t = 750 // Penetration depth at T_1 in angstrom\n",
"printf('Example 8.10\n')\n",
"printf('Standard formula used \nlambda_0 = lambda_t*sqrt(1-(T_1/T_c)^4) \n')\n",
"\n",
"lambda_0 = lambda_t*sqrt(1-(T_1/T_c)^4) // Calculation of penetration depth at 3.5K\n",
"printf('\n Penetration depth at 0 K is %f angstrom.\n\n\n',lambda_0)\n",
"\n",
""
   ]
   }
,
{
		   "cell_type": "markdown",
		   "metadata": {},
		   "source": [
			"## Example 8.1: Calculation_of_critical_field_at_2K.sce"
		   ]
		  },
  {
"cell_type": "code",
	   "execution_count": null,
	   "metadata": {
	    "collapsed": true
	   },
	   "outputs": [],
"source": [
" clc\n",
"// Given that\n",
"H_c_0=  0.0306// Critical Field in tesla\n",
"T_c = 3.7 // Critical temperature in kelvin\n",
"T = 2 // Temperature in kelvin\n",
"printf('Example 8.1\n')\n",
"printf('Standard formula used \tH_c = H_c_0*(1-(T/T_c)^2)  \n')\n",
"H_c = H_c_0*(1-(T/T_c)^2) // Calculation of critical field\n",
"\n",
"printf('Magnetic Field at %d K is %f tesla.\n\n\n',T,H_c)"
   ]
   }
,
{
		   "cell_type": "markdown",
		   "metadata": {},
		   "source": [
			"## Example 8.2: Calculation_of_magnitude_of_magnetic_field.sce"
		   ]
		  },
  {
"cell_type": "code",
	   "execution_count": null,
	   "metadata": {
	    "collapsed": true
	   },
	   "outputs": [],
"source": [
"\n",
" clc \n",
"// Given that\n",
"H_c=  3.3e4 // // Magnetic field in A/m\n",
"T_c = 7.2 // Critical temperature in kelvin\n",
"T = 5 // Temperature in kelvin\n",
"printf('Example 8.2\n')\n",
"printf('Standard formula used \tH_c = H_c_0*(1-(T/T_c)^2)  \n')\n",
"H_c_0 = H_c*(1-(T/T_c)^2)^(-1) // Calculation of critical field\n",
"printf('Magnetic Field at %d K is %e A/m\n\n\n',T,H_c_0)"
   ]
   }
,
{
		   "cell_type": "markdown",
		   "metadata": {},
		   "source": [
			"## Example 8.3: Calculation_of_temperature.sce"
		   ]
		  },
  {
"cell_type": "code",
	   "execution_count": null,
	   "metadata": {
	    "collapsed": true
	   },
	   "outputs": [],
"source": [
"\n",
" clc \n",
"// Given that\n",
"H_c_0= 1 // Let \n",
"H_c= 0.1 * H_c_0 // Magnetic field in A/m\n",
"T_c = 7.2 // Critical temperature in kelvin\n",
"\n",
"printf('Example 8.3\n')\n",
"printf('Standard formula used \tH_c = H_c_0*(1-(T/T_c)^2)  \n')\n",
"T = T_c*sqrt(1- (H_c/H_c_0)) // Calculation of Temperature\n",
"\n",
"printf('Required temperature is %f K.\n\n\n',T)"
   ]
   }
,
{
		   "cell_type": "markdown",
		   "metadata": {},
		   "source": [
			"## Example 8.4: Calculation_of_critical_field.sce"
		   ]
		  },
  {
"cell_type": "code",
	   "execution_count": null,
	   "metadata": {
	    "collapsed": true
	   },
	   "outputs": [],
"source": [
"\n",
"\n",
"  clc\n",
"// Given that\n",
"H_c_0=  0.0803// Critical Field in tesla\n",
"T_c = 7.2 // Critical temperature in kelvin\n",
"T = 4.2 // Temperature in kelvin\n",
"printf('Example 8.4\n')\n",
"printf('Standard formula used \tH_c = H_c_0*(1-(T/T_c)^2)  \n')\n",
"H_c = H_c_0*(1-(T/T_c)^2) // Calculation of critical field\n",
"\n",
"printf('Magnetic Field at %d K is %f tesla.\n\n\n',T,H_c)\n",
"// Answer in book is 0.0548 tesla"
   ]
   }
,
{
		   "cell_type": "markdown",
		   "metadata": {},
		   "source": [
			"## Example 8.5: Calculation_of_temperature.sce"
		   ]
		  },
  {
"cell_type": "code",
	   "execution_count": null,
	   "metadata": {
	    "collapsed": true
	   },
	   "outputs": [],
"source": [
"\n",
"\n",
"  clc\n",
"// Given that\n",
"H_c_0= 1.5e5// Critical field in A/m \n",
"H_c= 1.05e5 // Magnetic field in A/m\n",
"T_c = 9.2 // Critical temperature in kelvin\n",
"\n",
"printf ('Example 8.5\n')\n",
"printf('Standard formula used \tH_c = H_c_0*(1-(T/T_c)^2)  \n')\n",
"T = T_c*sqrt(1- (H_c/H_c_0)) // Calculation of Temperature\n",
"\n",
"printf('Required temperature is %f K.\n\n\n',T)"
   ]
   }
,
{
		   "cell_type": "markdown",
		   "metadata": {},
		   "source": [
			"## Example 8.6: Calculation_of_transition_temperature.sce"
		   ]
		  },
  {
"cell_type": "code",
	   "execution_count": null,
	   "metadata": {
	    "collapsed": true
	   },
	   "outputs": [],
"source": [
"\n",
"\n",
"  clc\n",
"// Given that\n",
"H_c_0= 2e5// Critical field in A/m \n",
"H_c= 1e5 // Magnetic field in A/m\n",
"T_c = 8 // Critical temperature  in kelvin\n",
"\n",
"printf('Example 8.6\n')\n",
"printf('Standard formula used \tH_c = H_c_0*(1-(T/T_c)^2)  \n')\n",
"T = T_c/sqrt(1- (H_c/H_c_0)) // Calculation of Temperature\n",
"\n",
"printf('Required temperature is %f K.\n\n\n',T)"
   ]
   }
,
{
		   "cell_type": "markdown",
		   "metadata": {},
		   "source": [
			"## Example 8.7: Making_observation_for_given_data.sce"
		   ]
		  },
  {
"cell_type": "code",
	   "execution_count": null,
	   "metadata": {
	    "collapsed": true
	   },
	   "outputs": [],
"source": [
"\n",
"  clc\n",
"// Given that\n",
"H_c_0= 8e5// Critical field in A/m \n",
"H_c= 4e4 // Magnetic field in A/m\n",
"T_c = 7.26 // Critical temperature in kelvin\n",
"\n",
"printf('Example 8.7\n')\n",
"printf('Standard formula used \tH_c = H_c_0*(1-(T/T_c)^2)  \n')\n",
"T = T_c*sqrt(1- (H_c/H_c_0)) // Calculation of Temperature\n",
"\n",
"printf('Required temperature is %f K.\n\n\n',T)"
   ]
   }
,
{
		   "cell_type": "markdown",
		   "metadata": {},
		   "source": [
			"## Example 8.8: Calculation_of_transition_temperature_and_critical_field.sce"
		   ]
		  },
  {
"cell_type": "code",
	   "execution_count": null,
	   "metadata": {
	    "collapsed": true
	   },
	   "outputs": [],
"source": [
"\n",
"  clc\n",
"// Given that\n",
"T1 = 14 // Temp in K\n",
"T2 = 13 // Temp in K\n",
"T = 4.2 // Temp in K\n",
"Hc_T1 = 0.176 // Critical field at Temp T1\n",
"Hc_T2 = 0.528 // Critical field at Temp T2\n",
"\n",
"printf('Example 8.8\n')\n",
"printf('Standard formula used \tH_c = H_c_0*(1-(T/T_c)^2)  \n')\n",
"T_c = sqrt((T1^2*(Hc_T2/Hc_T1)- T2^2) /(Hc_T2/Hc_T1 - 1)) // Calculation of transition temperature\n",
"t_c = ceil(T_c*10)/10 // Rounding off two two decimal places\n",
"Hc_0 = Hc_T1/(1-(T1/t_c)^2) // Calculation of critical field\n",
"Hc_T = Hc_0*(1-(T/t_c)^2) // Calculation of critical field \n",
"\n",
"printf('\n Transition temperature is %f K.\n',t_c)\n",
"printf('Critical field at %f K is %fT.\n',T,Hc_0)\n",
"printf('Critical field at 0 K is %fT.\n\n\n',Hc_T)\n",
"// Answer in book is 2.588 T for 0 K and 2.37 for 4.2 K"
   ]
   }
,
{
		   "cell_type": "markdown",
		   "metadata": {},
		   "source": [
			"## Example 8.9: Calculation_of_depth_of_penetration.sce"
		   ]
		  },
  {
"cell_type": "code",
	   "execution_count": null,
	   "metadata": {
	    "collapsed": true
	   },
	   "outputs": [],
"source": [
"\n",
"  clc\n",
"// Given that\n",
"m_0 = 9.1e-31 // Mass of electron in kg\n",
"mu_0 = 1.256e-6// SI\n",
"e = 1.6e-19 // Charge on electron in coulomb\n",
"eta_s = 1e28 // superelectron density in  no. per cube\n",
"T_1 = 0 // First temp in kelvin\n",
"T_2 = 1 // Second temp in kelvin\n",
"T_c = 3 // Critical temp in kelvin\n",
"\n",
"printf('Example 8.9\n')\n",
"printf('Standard formula used \tlambda_0 = sqrt(m_0/(mu_0*eta_s*e^2))\n')\n",
"lambda_0 = sqrt(m_0/(mu_0*eta_s*e^2))// Calculation of penetration depth at 0K\n",
"lambda_t = lambda_0/sqrt(1-(T_2/T_c)^4) // Calculation of penetration depth at 2K\n",
"\n",
"printf('Penetration depth at %d K is %d angestrom.',T_1,lambda_0*1e10)\n",
"printf('\nPenetration depth at %d K is %f angestrom.\n\n\n',T_2,lambda_t*1e10)"
   ]
   }
],
"metadata": {
		  "kernelspec": {
		   "display_name": "Scilab",
		   "language": "scilab",
		   "name": "scilab"
		  },
		  "language_info": {
		   "file_extension": ".sce",
		   "help_links": [
			{
			 "text": "MetaKernel Magics",
			 "url": "https://github.com/calysto/metakernel/blob/master/metakernel/magics/README.md"
			}
		   ],
		   "mimetype": "text/x-octave",
		   "name": "scilab",
		   "version": "0.7.1"
		  }
		 },
		 "nbformat": 4,
		 "nbformat_minor": 0
}
