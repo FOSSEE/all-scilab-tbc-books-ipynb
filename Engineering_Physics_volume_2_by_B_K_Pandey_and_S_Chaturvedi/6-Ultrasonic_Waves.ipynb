{
"cells": [
 {
		   "cell_type": "markdown",
	   "metadata": {},
	   "source": [
       "# Chapter 6: Ultrasonic Waves"
	   ]
	},
{
		   "cell_type": "markdown",
		   "metadata": {},
		   "source": [
			"## Example 6.1: Calculation_of_fundamental_frequency_of_quartz.sce"
		   ]
		  },
  {
"cell_type": "code",
	   "execution_count": null,
	   "metadata": {
	    "collapsed": true
	   },
	   "outputs": [],
"source": [
"\n",
"clc \n",
"//Given that\n",
"E = 7.9e10 // Young’s modulus in N/m^2\n",
"rho = 2650 // Density in Kg/m^3\n",
"t = 0.003 // Thickness of quartz crystal in m\n",
"printf('Example 6.1\n')\n",
"v = sqrt(E/rho)// Calculation of velocity \n",
"lambda = 2*t // Calculation of fundamental wavelength\n",
"nu = v/lambda // Calculation of fundamental frequency\n",
"printf('Fundamental frequency is %e Hz.\n\n\n',nu)"
   ]
   }
,
{
		   "cell_type": "markdown",
		   "metadata": {},
		   "source": [
			"## Example 6.2: Calculation_of_fundamental_frequency_of_crystal.sce"
		   ]
		  },
  {
"cell_type": "code",
	   "execution_count": null,
	   "metadata": {
	    "collapsed": true
	   },
	   "outputs": [],
"source": [
"\n",
"clc \n",
"//Given that\n",
"v = 5760 // Velocity in m/s\n",
"T = 1.6 // Thickness of quartz crystal in mm\n",
"printf('Example 6.2\n')\n",
"nu = v/(2*T*1e-3)// Calculation of fundamental frequency\n",
"printf('Fundamental frequency of crystal is %f MHz.\n\n\n',nu/1e6)\n",
""
   ]
   }
,
{
		   "cell_type": "markdown",
		   "metadata": {},
		   "source": [
			"## Example 6.3: Calculation_of_depth_of_defect.sce"
		   ]
		  },
  {
"cell_type": "code",
	   "execution_count": null,
	   "metadata": {
	    "collapsed": true
	   },
	   "outputs": [],
"source": [
" \n",
"clc \n",
"//Given that\n",
"T =40 // Thickness of steel bar in cm\n",
"t1 = 40 // Time in ms\n",
"t2 = 80 // Time in ms\n",
"printf('Example 6.3\n')\n",
"X = T*t1/t2 // Calculation of depth of defect\n",
"printf('Depth of defect is %d cm.\n\n\n',X)"
   ]
   }
,
{
		   "cell_type": "markdown",
		   "metadata": {},
		   "source": [
			"## Example 6.4: Calculation_of_fundamental_frequency_of_quartz.sce"
		   ]
		  },
  {
"cell_type": "code",
	   "execution_count": null,
	   "metadata": {
	    "collapsed": true
	   },
	   "outputs": [],
"source": [
"clc \n",
"//Given that\n",
"E = 7.9e10 // Young’s modulus in N/m^2\n",
"rho = 2650 // Density in Kg/m^3\n",
"t = 0.006 // Thickness of quartz crystal in m\n",
"printf('Example 6.4\n')\n",
"v = sqrt(E/rho)// Calculation of velocity \n",
"lambda = 2*t // Calculation of fundamental wavelength\n",
"nu = v/lambda // Calculation of fundamental frequency\n",
"printf('Fundamental frequency is %e Hz.\n\n\n',nu)\n",
""
   ]
   }
,
{
		   "cell_type": "markdown",
		   "metadata": {},
		   "source": [
			"## Example 6.5: Calculation_of_capacitance.sce"
		   ]
		  },
  {
"cell_type": "code",
	   "execution_count": null,
	   "metadata": {
	    "collapsed": true
	   },
	   "outputs": [],
"source": [
"\n",
"clc \n",
"//Given that\n",
"L = 1 // Inductance in Hanery\n",
"nu = 2e6 // Frequency in Hz\n",
"printf('Example 6.5\n')\n",
"C= 1/(4*((%pi)^2)*nu^2*L) // Calculation of capacitance\n",
"printf('Capacitance is %e microfarad.\n\n\n',C*1e6)\n",
"// Answer in book is 0.00634 micro Farad"
   ]
   }
],
"metadata": {
		  "kernelspec": {
		   "display_name": "Scilab",
		   "language": "scilab",
		   "name": "scilab"
		  },
		  "language_info": {
		   "file_extension": ".sce",
		   "help_links": [
			{
			 "text": "MetaKernel Magics",
			 "url": "https://github.com/calysto/metakernel/blob/master/metakernel/magics/README.md"
			}
		   ],
		   "mimetype": "text/x-octave",
		   "name": "scilab",
		   "version": "0.7.1"
		  }
		 },
		 "nbformat": 4,
		 "nbformat_minor": 0
}
