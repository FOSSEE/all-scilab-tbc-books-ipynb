{
"cells": [
 {
		   "cell_type": "markdown",
	   "metadata": {},
	   "source": [
       "# Chapter 2: Uncertainty Principle and Schrodinger wave Equation"
	   ]
	},
{
		   "cell_type": "markdown",
		   "metadata": {},
		   "source": [
			"## Example 2.10: Calculation_of_minimum_energy_with_which_an_electron_can_exist_in_atom.sce"
		   ]
		  },
  {
"cell_type": "code",
	   "execution_count": null,
	   "metadata": {
	    "collapsed": true
	   },
	   "outputs": [],
"source": [
"clc \n",
" \n",
"//given that\n",
"r = 0.53 // radius of hydrogen atom in angstrom\n",
"m_e = 9.1e-31 // mass of electron in kg\n",
"h = 6.63e-34 // Plank constant\n",
"printf('Example 2.10')\n",
"h_bar = h / (2*%pi) // constant\n",
"del_x = 2*r // calculation of uncertainty in position\n",
"del_p = h_bar/(2*del_x*1e-10) // calculation of uncertainty in momentum\n",
"p = del_p\n",
"E = p^2/(2*m_e*1.6e-19)// Calculation of energy in eV\n",
"printf('\n Kinetic energy needed by an electron to be \n confined in electron is %f eV.\n\n\n',E)\n",
"// When problem is solved by del_x*del_p = h_bar, then minimum value of kinetic energy will become 13.6eV\n",
""
   ]
   }
,
{
		   "cell_type": "markdown",
		   "metadata": {},
		   "source": [
			"## Example 2.11: Calculation_of_minimum_uncertainty_in_energy_of_sate_in_Hydrogen_atom.sce"
		   ]
		  },
  {
"cell_type": "code",
	   "execution_count": null,
	   "metadata": {
	    "collapsed": true
	   },
	   "outputs": [],
"source": [
"clc \n",
" \n",
"//given that\n",
"del_t = 2.5e-14 // lifetime in exited state in micro sec\n",
"h = 6.63e-34 // Plank constant\n",
"printf('Example 2.11')\n",
"h_bar = h / (2*%pi) // constant\n",
"del_E = h_bar/(1.6e-19*del_t*1e-6) // calculation of uncertainty in momentum\n",
"printf('\n Minimum error in measurement of energy of this state is %e eV.\n\n\n',del_E)\n",
""
   ]
   }
,
{
		   "cell_type": "markdown",
		   "metadata": {},
		   "source": [
			"## Example 2.12: Calculation_of_percentage_uncertainty_in_momentum_of_electron.sce"
		   ]
		  },
  {
"cell_type": "code",
	   "execution_count": null,
	   "metadata": {
	    "collapsed": true
	   },
	   "outputs": [],
"source": [
"clc \n",
" \n",
"//given that\n",
"E_eV = 0.5// kinetic energy of electron in KeV\n",
"del_x = 0.4 // Uncertainty in position in nm\n",
"h = 6.63e-34 // Plank constant\n",
"m = 9.1e-31 // mass of electron in kg\n",
"printf('Example 2.12')\n",
"h_bar = h / (2*%pi) // constant\n",
"E_J = E_eV*1e3*1.6e-19\n",
"p = sqrt(2*m*E_J) // Calculation of momentum in kgm/s\n",
"del_p = h_bar/(2*del_x*1e-9) // Calculation of uncertainty in momentum\n",
"per_error = del_p*100 / p // calculation of percentage error in momentum\n",
"printf('\n Percentage error in momentum is %f percent.\n\n\n',per_error)\n",
"// Answer in book is 1.08 percentage"
   ]
   }
,
{
		   "cell_type": "markdown",
		   "metadata": {},
		   "source": [
			"## Example 2.13: Calculation_of_minimum_uncertainty_in_measurement_of_velocity_of_electron.sce"
		   ]
		  },
  {
"cell_type": "code",
	   "execution_count": null,
	   "metadata": {
	    "collapsed": true
	   },
	   "outputs": [],
"source": [
"clc \n",
" \n",
"//given that\n",
"del_x = 2e-9 // Uncertainty in position in m\n",
"h = 6.63e-34 // Plank constant\n",
"m = 9.1e-31 // mass of electron in Kg\n",
"printf('Example 2.13')\n",
"h_bar = h / (2*%pi) // constant\n",
"del_p = h_bar/(2*del_x) // Calculation of uncertainty in momentum\n",
"del_v = del_p/m\n",
"printf('\n Uncertainty in velocity of particle is %e m/s.\n\n\n',del_v)"
   ]
   }
,
{
		   "cell_type": "markdown",
		   "metadata": {},
		   "source": [
			"## Example 2.15: Calculation_of_uncertainty_in_momentum_of_ball_and_comparison_with_momentum.sce"
		   ]
		  },
  {
"cell_type": "code",
	   "execution_count": null,
	   "metadata": {
	    "collapsed": true
	   },
	   "outputs": [],
"source": [
"clc \n",
" \n",
"//given that\n",
"del_x = 5000 // Uncertainty in position in angstrom\n",
"h = 6.63e-34 // Plank constant\n",
"m = 200 // mass of ball in gram\n",
"v = 6 // velocity of moving ball in m/s\n",
"printf('Example 2.15')\n",
"h_bar = h / (2*%pi) // constant\n",
"del_p = h_bar/(2*del_x*1e-10) // Calculation of uncertainty in momentum\n",
"p = m*v/1000 // Calculation of momentum\n",
"per_error = del_p*100/p // Calculation of percentage error in calculation of momentum\n",
"printf('\n Uncertainty in momentum of ball is %e kgm/s.',del_p)\n",
"printf('\n Percentage error in calculation of momentum is %e.\n\n\n',per_error)\n",
""
   ]
   }
,
{
		   "cell_type": "markdown",
		   "metadata": {},
		   "source": [
			"## Example 2.16: Calculation_of_uncertainty_in_position_of_proton.sce"
		   ]
		  },
  {
"cell_type": "code",
	   "execution_count": null,
	   "metadata": {
	    "collapsed": true
	   },
	   "outputs": [],
"source": [
"clc \n",
" \n",
"//given that\n",
"c = 3e8 // speed of light in m/s\n",
"v = c/10 // Velocity of moving proton in m/s\n",
"v_error = 1 // Percentage error in measurement of velocity \n",
"m = 1.67e-27 // mass of electron in kg\n",
"h = 6.63e-34 // Plank constant\n",
"\n",
"printf('Example 2.16')\n",
"h_bar = h / (2*%pi) // constant\n",
"del_v = v*v_error/100// calculation of uncertainty in position\n",
"del_x = h_bar/(2*m*del_v) // calculation of uncertainty in momentum\n",
"printf('\n Uncertainty in position of particle is %e m.\n\n\n',del_x)\n",
"// Answer in book is 1.04e-13 m"
   ]
   }
,
{
		   "cell_type": "markdown",
		   "metadata": {},
		   "source": [
			"## Example 2.17: Calculation_of_uncertainty_in_velocity_of_ball.sce"
		   ]
		  },
  {
"cell_type": "code",
	   "execution_count": null,
	   "metadata": {
	    "collapsed": true
	   },
	   "outputs": [],
"source": [
"clc \n",
" \n",
"//given that\n",
"del_x = 1e-9 // Uncertainty in position in m\n",
"h = 6.63e-34 // Plank constant\n",
"m = 200 // mass of ball in gram\n",
"printf('Example 2.17')\n",
"h_bar = h / (2*%pi) // constant\n",
"del_v = h_bar/(2*del_x*m/1000) // Calculation of uncertainty in momentum\n",
"printf('\n Uncertainty in velocity of ball is %e m/s.\n\n\n',del_v)\n",
"// Answer in book is 2.64e-25 m/s"
   ]
   }
,
{
		   "cell_type": "markdown",
		   "metadata": {},
		   "source": [
			"## Example 2.18: Calculation_of_uncertainty_in_energy_of_gamma_ray_radiation.sce"
		   ]
		  },
  {
"cell_type": "code",
	   "execution_count": null,
	   "metadata": {
	    "collapsed": true
	   },
	   "outputs": [],
"source": [
"clc \n",
"//given that\n",
"del_t = 2e-12 // lifetime of exited state in  sec\n",
"h = 6.63e-34 // Plank constant\n",
"printf('Example 2.18')\n",
"h_bar = h / (2*%pi) // constant\n",
"del_E = h_bar/(1.6e-19*2*del_t) // calculation of uncertainty in momentum\n",
"printf('\n Minimum error in measurement of energy of this state is %e eV.\n\n\n',del_E)\n",
"// Answer in book is 1.65e-4 eV\n",
"\n",
"\n",
" "
   ]
   }
,
{
		   "cell_type": "markdown",
		   "metadata": {},
		   "source": [
			"## Example 2.19: Calculation_of_uncertainty_in_frequency_of_photon.sce"
		   ]
		  },
  {
"cell_type": "code",
	   "execution_count": null,
	   "metadata": {
	    "collapsed": true
	   },
	   "outputs": [],
"source": [
"clc \n",
"//given that\n",
"del_t = 1e-8 // lifetime of exited state in  sec\n",
"h = 6.63e-34 // Plank constant\n",
"printf('Example 2.19')\n",
"h_bar = h / (2*%pi) // constant\n",
"del_nu = h_bar/(2*del_t*h) // calculation of uncertainty in frequency\n",
"printf('\n Minimum error in measurement of \n frequency of photon is %e per second.\n\n\n',del_nu)\n",
"// Answer in book is 8e6 per second"
   ]
   }
,
{
		   "cell_type": "markdown",
		   "metadata": {},
		   "source": [
			"## Example 2.1: Calculation_of_uncertainty_in_momentum_of_electron.sce"
		   ]
		  },
  {
"cell_type": "code",
	   "execution_count": null,
	   "metadata": {
	    "collapsed": true
	   },
	   "outputs": [],
"source": [
" clc\n",
"//given that\n",
"del_x = 0.2 // Uncertainty in position in angstrom\n",
"h = 6.63e-34 // Plank constant\n",
"\n",
"printf('Example 2.1')\n",
"h_bar = h / (2*%pi) // constant\n",
"del_p = h_bar/(2*del_x*1e-10) // Calculation of uncertainty in momentum\n",
"printf('\n Uncertainty in momentum of particle is %e kgm/sec \n\n\n',del_p)"
   ]
   }
,
{
		   "cell_type": "markdown",
		   "metadata": {},
		   "source": [
			"## Example 2.20: Calculation_of_uncertainty_in_position_of_dust_particle.sce"
		   ]
		  },
  {
"cell_type": "code",
	   "execution_count": null,
	   "metadata": {
	    "collapsed": true
	   },
	   "outputs": [],
"source": [
"clc \n",
"//given that\n",
"del_v = 5.5e-20 // Uncertainty in velocity in m/s\n",
"h = 6.63e-34 // Plank constant\n",
"m = 1 // mass of dust particle in mg\n",
"printf('Example 2.20')\n",
"h_bar = h / (2*%pi) // constant\n",
"del_x = h_bar/(2*del_v*m*1e-6) // Calculation of uncertainty in momentum\n",
"printf('\n Uncertainty in position of ball is %f angstrom.\n\n\n',del_x*1e10)\n",
"// Answer in book is 9.6 angstrom\n",
""
   ]
   }
,
{
		   "cell_type": "markdown",
		   "metadata": {},
		   "source": [
			"## Example 2.21: Calculation_of_energy_of_moving_electron.sce"
		   ]
		  },
  {
"cell_type": "code",
	   "execution_count": null,
	   "metadata": {
	    "collapsed": true
	   },
	   "outputs": [],
"source": [
"clc  \n",
"\n",
" \n",
"//given that\n",
"l = 1 // width of potential well in angstrom\n",
"n = 1 // order corresponding to ground state\n",
"h = 6.63e-34 // Plank constant\n",
"m = 9.1e-31 // mass of electron in Kg\n",
"printf('Example 2.21')\n",
"E = n^2*h^2/(8*m*(l*1e-10)^2) // Calculation of energy in Joule\n",
"E_eV = E/1.6e-19 // Calculation of energy in eV\n",
"\n",
"printf('\n Energy of electron is %f eV.\n\n\n',E_eV)\n",
"// Answer in book is 37.74 eV angstrom"
   ]
   }
,
{
		   "cell_type": "markdown",
		   "metadata": {},
		   "source": [
			"## Example 2.24: Calculation_of_lowest_permitted_energy_value_of_electrons.sce"
		   ]
		  },
  {
"cell_type": "code",
	   "execution_count": null,
	   "metadata": {
	    "collapsed": true
	   },
	   "outputs": [],
"source": [
"clc \n",
" \n",
"//given that\n",
"l = 2.5e-10 // width of potential well in m\n",
"h = 6.63e-34 // Plank constant\n",
"m = 9.1e-31 // mass of electron in Kg\n",
"printf('Example 2.24')\n",
"for n = 1:2\n",
"    E = n^2*h^2/(8*m*l^2) // Calculation of energy in Joule\n",
"E_eV = E/1.6e-19 // Calculation of energy in eV\n",
"\n",
"printf('\n Energy of electron for state %d is %f eV.',n,E_eV);\n",
"end"
   ]
   }
,
{
		   "cell_type": "markdown",
		   "metadata": {},
		   "source": [
			"## Example 2.26: Calculate_probability_of_particle.sce"
		   ]
		  },
  {
"cell_type": "code",
	   "execution_count": null,
	   "metadata": {
	    "collapsed": true
	   },
	   "outputs": [],
"source": [
"clc\n",
"// given that\n",
"L = 1// let unit length\n",
"l1 = 0.45*L // initial point\n",
"l2 = 0.55*L // Final point\n",
"\n",
"\n",
"printf('Example 2.26 \n')\n",
"p = (1/L)*((l2-(L/(2*%pi) *sin(2*l2*%pi/L)))- (l1-(L/(2*%pi) *sin(2*l1*%pi/L)))) // Calculation of probability of finding particle\n",
"p_per = p*100 // probability of finding particle in percentage\n",
"printf('\n Probability of finding electron between \n %fL and %fL is %f percent.',l2,l1,p_per)"
   ]
   }
,
{
		   "cell_type": "markdown",
		   "metadata": {},
		   "source": [
			"## Example 2.27: Calculation_of_energy_difference_between_two_states.sce"
		   ]
		  },
  {
"cell_type": "code",
	   "execution_count": null,
	   "metadata": {
	    "collapsed": true
	   },
	   "outputs": [],
"source": [
"clc \n",
"\n",
" \n",
"//given that\n",
"l = 1e-8 // width of potential well in cm\n",
"h = 6.63e-34 // Plank constant\n",
"m = 9.1e-31 // mass of electron in Kg\n",
"printf('\nExample 2.27')\n",
"E_1 = (h)^2/(8*m*(l*1e-2)^2) // Calculation of energy of ground state in Joule\n",
"E_1_eV = E_1/1.6e-19 // Calculation of energy in eV\n",
"E_2 = (2)^2*h^2/(8*m*(l*1e-2)^2) // Calculation of energy of first state in Joule\n",
"E_2_eV = E_2/1.6e-19 // Calculation of energy in eV\n",
"del_E = E_2_eV - E_1_eV // calculation of difference between first state and ground state\n",
"printf('\n Difference between first state \n and ground state energies is %f eV.\n\n\n',del_E);\n",
"// Answer in book is 113.04 eV\n",
""
   ]
   }
,
{
		   "cell_type": "markdown",
		   "metadata": {},
		   "source": [
			"## Example 2.28: EX2_28.sce"
		   ]
		  },
  {
"cell_type": "code",
	   "execution_count": null,
	   "metadata": {
	    "collapsed": true
	   },
	   "outputs": [],
"source": [
"clc \n",
" \n",
"//given that\n",
"l = 1 // width of potential well in angstrom\n",
"h = 6.63e-34 // Plank constant\n",
"m = 9.1e-31 // mass of electron in Kg\n",
"printf('Example 2.28')\n",
"for n = 1:3\n",
"    lambda = 2*l/n // Calculation of wavelength\n",
"    E = n^2*h^2/(8*m*(l*1e-10)^2) // Calculation of energy in Joule\n",
"E_eV = E/1.6e-19 // Calculation of energy in eV\n",
"printf('\n For state:%d  Energy is %f eV & wavelength is %f angstrom ',n,E_eV,lambda);\n",
"end"
   ]
   }
,
{
		   "cell_type": "markdown",
		   "metadata": {},
		   "source": [
			"## Example 2.29: Can_we_observe_energy_states_of_a_ball.sce"
		   ]
		  },
  {
"cell_type": "code",
	   "execution_count": null,
	   "metadata": {
	    "collapsed": true
	   },
	   "outputs": [],
"source": [
"clc \n",
" \n",
"//given that\n",
"m = 100 //mass of ball in gram\n",
"l = 1 // length of box in m\n",
"h = 6.63e-34 // Plank constant\n",
"printf('\nExample 2.29')\n",
"for n = 1:3\n",
"    E = (n^2*h^2)/(8*m*1e-3*l^2*1.6e-19)\n",
"     printf('\n  Energy state  E%d of ball is %e eV',n,E)\n",
"end\n",
"printf('\n As energy difference is very small so we cannot see energy states.\n')"
   ]
   }
,
{
		   "cell_type": "markdown",
		   "metadata": {},
		   "source": [
			"## Example 2.2: Calculation_of_minimum_uncertainty_in_momentum_of_electron.sce"
		   ]
		  },
  {
"cell_type": "code",
	   "execution_count": null,
	   "metadata": {
	    "collapsed": true
	   },
	   "outputs": [],
"source": [
"\n",
"clc \n",
"//given that\n",
"del_x = 4e-10 // Uncertainty in position in m\n",
"h = 6.63e-34 // Plank constant\n",
"\n",
"printf('Example 2.2')\n",
"h_bar = h / (2*%pi) // constant\n",
"del_p = h_bar/(2*del_x) // Calculation of uncertainty in momentum\n",
"printf('\n Uncertainty in momentum of particle is %e kgm/sec.\n\n\n',del_p)\n",
"// Answer in book is given as 1.32e-23 kgm/sec"
   ]
   }
,
{
		   "cell_type": "markdown",
		   "metadata": {},
		   "source": [
			"## Example 2.30: Calculation_of_probability_of_finding_particle_in_given_length.sce"
		   ]
		  },
  {
"cell_type": "code",
	   "execution_count": null,
	   "metadata": {
	    "collapsed": true
	   },
	   "outputs": [],
"source": [
"clc \n",
" \n",
"//given that\n",
"l = 30 // width of potential well in angstrom\n",
"x = l/2\n",
"del_x = 2 // interval of length at centre in angstrom\n",
"h = 6.63e-34 // Plank constant\n",
"n = 1 // ground state\n",
"printf('\nExample 2.30')\n",
"phi_x = ((sqrt(2/l))*sin(n*%pi*x/l))^2 \n",
"p = phi_x*del_x // Calculation of probability at centre\n",
"printf('\n Probability of finding particle at centre is %d percent.\n\n\n',p*100)\n",
"// Answer given in book is 16 percent. It is due to wrong calculation "
   ]
   }
,
{
		   "cell_type": "markdown",
		   "metadata": {},
		   "source": [
			"## Example 2.3: Calculation_of_minimum_uncertainty_in_position_of_electron.sce"
		   ]
		  },
  {
"cell_type": "code",
	   "execution_count": null,
	   "metadata": {
	    "collapsed": true
	   },
	   "outputs": [],
"source": [
"clc \n",
" \n",
"//given that\n",
"v = 3e7 // Velocity of moving electron in m/s\n",
"m = 9.1e-31 // mass of electron in kg\n",
"h = 6.63e-34 // Plank constant\n",
"c = 3e8 // speed of light in m/s\n",
"printf('Example 2.3')\n",
"h_bar = h / (2*%pi) // constant\n",
"del_p = m*v/(sqrt(1-(v/c)^2)) // calculation of uncertainty in momentum\n",
"del_x = h_bar/(2*del_p) // Calculation of uncertainty in position\n",
"printf('\n Uncertainty in position of particle is %f angstrom.\n\n\n',del_x*1e10)\n",
"//Answer in book is 0.0194 angstrom which is due to using approximate values at intermediate steps\n",
" "
   ]
   }
,
{
		   "cell_type": "markdown",
		   "metadata": {},
		   "source": [
			"## Example 2.5: Calculation_of_minimum_uncertainty_in_position_of_electron.sce"
		   ]
		  },
  {
"cell_type": "code",
	   "execution_count": null,
	   "metadata": {
	    "collapsed": true
	   },
	   "outputs": [],
"source": [
"clc\n",
"//given that\n",
"v = 1.05e4 // Velocity of moving electron in m/s\n",
"v_error = 0.02 //Percentage error in measurement of velocity\n",
"\n",
"m = 9e-31 // mass of electron in kg\n",
"h = 6.63e-34 // Plank constant\n",
"printf('Example 2.5')\n",
"h_bar = h / (2*%pi) // constant\n",
"p = m*v\n",
"del_p = v_error*p/100 // calculation of uncertainty in momentum\n",
"del_x = h_bar/del_p\n",
"printf('\n Uncertainty in position of particle is %e m.\n\n\n',del_x)\n",
"// Answer in book is given as 5.58e-3 m"
   ]
   }
,
{
		   "cell_type": "markdown",
		   "metadata": {},
		   "source": [
			"## Example 2.6: Calculation_of_minimum_uncertainty_in_position_of_electron.sce"
		   ]
		  },
  {
"cell_type": "code",
	   "execution_count": null,
	   "metadata": {
	    "collapsed": true
	   },
	   "outputs": [],
"source": [
"clc \n",
"//given that\n",
"v = 600 // Velocity of moving electron in m/s\n",
"v_error = 0.005 //Percentage error in measurement of velocity\n",
"m = 9.1e-31 // mass of electron in kg\n",
"h = 6.63e-34 // Plank constant\n",
"printf('Example 2.6')\n",
"h_bar = h / (2*%pi) // constant\n",
"p = m*v\n",
"del_p = v_error*p/100 // calculation of uncertainty in momentum\n",
"del_x = h_bar/(del_p) // Calculation of uncertainty in position\n",
"printf('\n Uncertainty in position of particle is %e m.\n\n\n',del_x)\n",
"// Answer in book is 0.39e-2 m "
   ]
   }
,
{
		   "cell_type": "markdown",
		   "metadata": {},
		   "source": [
			"## Example 2.7: Comparison_of_uncertainty_in_velocities_of_electron_and_proton_for_common_length.sce"
		   ]
		  },
  {
"cell_type": "code",
	   "execution_count": null,
	   "metadata": {
	    "collapsed": true
	   },
	   "outputs": [],
"source": [
"clc\n",
"//given that\n",
"del_x = 1 // let uncertainty in position is unity\n",
"m_e = 9.1e-31 // mass of electron in kg\n",
"m_p = 1.67e-27 // mass of proton in kg\n",
"h = 6.63e-34 // Plank constant\n",
"printf('Example 2.7')\n",
"h_bar = h / (2*%pi) // constant\n",
"del_v_ratio = m_p/m_e // calculation in uncertainties in the velocity of electron and proton\n",
"printf('\n Ratio of uncertainties in the velocity of electron to proton is %d.\n\n\n',del_v_ratio)"
   ]
   }
,
{
		   "cell_type": "markdown",
		   "metadata": {},
		   "source": [
			"## Example 2.8: Calculation_of_kinetic_energy_of_H_atom_needed_for_confinement.sce"
		   ]
		  },
  {
"cell_type": "code",
	   "execution_count": null,
	   "metadata": {
	    "collapsed": true
	   },
	   "outputs": [],
"source": [
"clc \n",
"//given that\n",
"r = 0.5 // radius of hydrogen atom in angstrom\n",
"m_e = 9.1e-31 // mass of electron in kg\n",
"h = 6.63e-34 // Plank constant\n",
"printf('Example 2.8')\n",
"h_bar = h / (2*%pi) // constant\n",
"del_x = 2*r // calculation of uncertainty in position\n",
"del_p = h_bar/(2*del_x*1e-10) // calculation of uncertainty in momentum\n",
"p = del_p\n",
"E = p^2/(2*m_e*1.6e-19)// Calculation of energy in eV\n",
"printf('\n Kinetic energy needed by an electron to be \n confined in electron is %f eV.\n\n\n',ceil(E*100)/100)\n",
""
   ]
   }
,
{
		   "cell_type": "markdown",
		   "metadata": {},
		   "source": [
			"## Example 2.9: Calculation_of_uncertainty_in_position_of_electron.sce"
		   ]
		  },
  {
"cell_type": "code",
	   "execution_count": null,
	   "metadata": {
	    "collapsed": true
	   },
	   "outputs": [],
"source": [
"clc \n",
"//given that\n",
"v = 5e3 // Velocity of moving electron in m/s\n",
"v_error = 0.003 //Percentage error in measurement of velocity\n",
"\n",
"m = 9.1e-31 // mass of electron in kg\n",
"h = 6.63e-34 // Plank constant\n",
"printf('Example 2.9')\n",
"h_bar = h / (2*%pi) // constant\n",
"p = m*v\n",
"del_p = v_error*p/100 // calculation of uncertainty in momentum\n",
"del_x = h_bar/(2*del_p) // Calculation of uncertainty in position\n",
"printf('\n Uncertainty in position of particle is %e m.\n\n\n',del_x)"
   ]
   }
],
"metadata": {
		  "kernelspec": {
		   "display_name": "Scilab",
		   "language": "scilab",
		   "name": "scilab"
		  },
		  "language_info": {
		   "file_extension": ".sce",
		   "help_links": [
			{
			 "text": "MetaKernel Magics",
			 "url": "https://github.com/calysto/metakernel/blob/master/metakernel/magics/README.md"
			}
		   ],
		   "mimetype": "text/x-octave",
		   "name": "scilab",
		   "version": "0.7.1"
		  }
		 },
		 "nbformat": 4,
		 "nbformat_minor": 0
}
