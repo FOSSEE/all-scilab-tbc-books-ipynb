{
"cells": [
 {
		   "cell_type": "markdown",
	   "metadata": {},
	   "source": [
       "# Chapter 4: Dielectrics"
	   ]
	},
{
		   "cell_type": "markdown",
		   "metadata": {},
		   "source": [
			"## Example 4.10: Calculation_of_dielectric_constant_and_electrical_susceptibility.sce"
		   ]
		  },
  {
"cell_type": "code",
	   "execution_count": null,
	   "metadata": {
	    "collapsed": true
	   },
	   "outputs": [],
"source": [
"clc \n",
"//Given that\n",
"epsilon = 2.4e-10 // permitivity of a  dielectric material in C^2/N?m^2\n",
"epsilon_0 = 8.854e-12 // Permittivity of free space\n",
"\n",
"printf('Example 4.10')\n",
"K = epsilon/epsilon_0  // Calculation of dielectric constant \n",
"zai_e = epsilon_0*(K-1) // Calculation of electrical susceptibility \n",
"\n",
"printf('\n Relative permittivity is %f',K)\n",
"printf('\n Electrical susceptibility is %e C^2/Nm^2\n\n\n',zai_e)\n",
""
   ]
   }
,
{
		   "cell_type": "markdown",
		   "metadata": {},
		   "source": [
			"## Example 4.11: Calculation_of_value_of_vectors_E_D_and_P.sce"
		   ]
		  },
  {
"cell_type": "code",
	   "execution_count": null,
	   "metadata": {
	    "collapsed": true
	   },
	   "outputs": [],
"source": [
"\n",
"clc \n",
"//Given that\n",
"V = 100 // Applied potential in Volt\n",
"d = 1 // Separation between plates in cm\n",
"k1 = 8 // Dielectric constant\n",
"k2 = 9 //dielectric constant\n",
"epsilon_0 = 8.854e-12 // Permittivity of free space\n",
"\n",
"printf('Example 4.11')\n",
"E_0 = V/(d*1e-2) // Calculation of electric field\n",
"E = E_0/k1*k2 // Calculation of electric field\n",
"D = k1*epsilon_0*E // Calculation of electrical displacement vector\n",
"P = (k1-1)*epsilon_0*E  // Calculation of electrical polarization \n",
"\n",
"printf('\n Magnitude of Electrical vector is %e Volt/meter',E) // Answer in book is 1.125e3 Volt/meter\n",
"\n",
"printf('\n Magnitude of Electrical Displacement vector is %e C/m^2',D)// Answer in book is 8.85e-8C/m^2\n",
"\n",
"printf('\n Magnitude of Electric polarization vector is %e C/m^2\n\n\n',P)// Answer in book is 7.774e-8C/m^2"
   ]
   }
,
{
		   "cell_type": "markdown",
		   "metadata": {},
		   "source": [
			"## Example 4.12: Calculation_of_deformational_polarizability_and_orientational_polarizability.sce"
		   ]
		  },
  {
"cell_type": "code",
	   "execution_count": null,
	   "metadata": {
	    "collapsed": true
	   },
	   "outputs": [],
"source": [
"\n",
"clc \n",
"//Given that\n",
"alpha_300 = 2.5e-39 // total polarisability in C^2m/N at 300 K\n",
"alpha_600 = 1.75e-39 // total polarisability in C^2m/N at 600 K\n",
"T1 = 300 // Initial temperature in Kelvin\n",
"T2 = 600 // Final Temperature in Kelvin\n",
"printf('Example 4.12\n')\n",
"b = (alpha_300-alpha_600)*T2\n",
"al_def_300 = alpha_300 - b/300\n",
"al_oriant_300 = b/300\n",
"al_oriant_600 = b/600\n",
"printf('\n Deformational Polarizability is %e C^2mN^-1',al_def_300)\n",
"printf('\n Orientational Polarizability at %d degree Celcius is %e C^2mN^-1',T1,al_oriant_300)\n",
"printf('\n Orientational Polarizability at %d degree Celcius is %e C^2mN^-1',T2,al_oriant_600)"
   ]
   }
,
{
		   "cell_type": "markdown",
		   "metadata": {},
		   "source": [
			"## Example 4.13: Calculation_of_dielectric_constant_of_material.sce"
		   ]
		  },
  {
"cell_type": "code",
	   "execution_count": null,
	   "metadata": {
	    "collapsed": true
	   },
	   "outputs": [],
"source": [
" \n",
"clc \n",
"//Given that\n",
"alpha_e = 1.5e-40 // Electronic polarizability in Fm^2\n",
"N = 4e28 // density in atoms/m^3\n",
"epsilon_0 = 8.85e-12 // Permittivity of free space\n",
"\n",
"printf('Example 4.13')\n",
"k = N*alpha_e/(3*epsilon_0)\n",
"epsilon_r = (1+ k*2)/(1-k)// Calculation of relative permittivity\n",
"printf('\n Relative permittivity is %f\n\n\n',epsilon_r)\n",
""
   ]
   }
,
{
		   "cell_type": "markdown",
		   "metadata": {},
		   "source": [
			"## Example 4.14: Calculation_of_relative_dielectric_constant_of_material.sce"
		   ]
		  },
  {
"cell_type": "code",
	   "execution_count": null,
	   "metadata": {
	    "collapsed": true
	   },
	   "outputs": [],
"source": [
" \n",
"clc \n",
"//Given that\n",
"m = 32 // Atomic weight of sulphur\n",
"d = 2.08 // Density in g/cm^3\n",
"alpha_e = 3.5e-40 // Electronic polarizability in Fm^2\n",
"N_a = 6.022e23 // Avogadro Number\n",
"epsilon_0 = 8.85e-12 // Permittivity of free space\n",
"\n",
"printf('Example 4.14')\n",
"N = N_a*d*1e6/m // Calculation of Atoms per unit \n",
"k = N*alpha_e/(3*epsilon_0)\n",
"\n",
"epsilon_r = (1+ k*2)/(1-k)// Calculation of relative permittivity\n",
"printf('\n Relative permittivity is %f\n\n\n',epsilon_r)\n",
"// Answer in book is 4.17"
   ]
   }
,
{
		   "cell_type": "markdown",
		   "metadata": {},
		   "source": [
			"## Example 4.15: Calculation_of_percentage_of_ionic_polarizability.sce"
		   ]
		  },
  {
"cell_type": "code",
	   "execution_count": null,
	   "metadata": {
	    "collapsed": true
	   },
	   "outputs": [],
"source": [
" \n",
"clc \n",
"//Given that\n",
"n = 1.5 // Refractive index\n",
"epsilon = 5.6 // Static dielectric constant\n",
"printf('Example 4.15')\n",
"per = (1-((n^2-1)/(n^2+2))*(epsilon+2)/(epsilon-1))*100 // Pecentage ionic polarisability\n",
"printf('\n Percentage ionic polarizability is %f pecent\n\n\n',per)\n",
"// Answer in book is 5.14 %"
   ]
   }
,
{
		   "cell_type": "markdown",
		   "metadata": {},
		   "source": [
			"## Example 4.16: Calculation_of_electronic_polarizability_of_sulphur.sce"
		   ]
		  },
  {
"cell_type": "code",
	   "execution_count": null,
	   "metadata": {
	    "collapsed": true
	   },
	   "outputs": [],
"source": [
"\n",
" \n",
"clc \n",
"//Given that\n",
"m = 32 // Atomic weight of sulphur\n",
"d = 2050 // Density in Kg/m^3\n",
"N_a = 6.022e23 // Avogadro Number\n",
"epsilon_0 = 8.85e-12 // Permittivity of free space\n",
"epsilon_r = 3.75 // Dielectric constant of sulphur\n",
"\n",
"printf('Example 4.16')\n",
"N = N_a*d*1e3/m // Calculation of Atoms per unit \n",
"alpha_e = 3*epsilon_0*((epsilon_r-1)/(epsilon_r+2)) / N \n",
"\n",
"\n",
"printf('\n Electronic polarizability  is %e Fm^2\n\n\n',alpha_e)"
   ]
   }
,
{
		   "cell_type": "markdown",
		   "metadata": {},
		   "source": [
			"## Example 4.17: Calculation_of_electronic_polarizability_and_ionic_polarizability.sce"
		   ]
		  },
  {
"cell_type": "code",
	   "execution_count": null,
	   "metadata": {
	    "collapsed": true
	   },
	   "outputs": [],
"source": [
"\n",
"clc \n",
"//Given that\n",
"n = 1.5 // Refractive index\n",
"epsilon = 4 // Static dielectric constant\n",
"epsilon_0 = 8.85e-12 // permittivity of free space\n",
"printf('Example 4.17')\n",
"k1 = (epsilon-1)/(epsilon+2)\n",
"k2 = (n^2-1)/(n^2+2)\n",
"ratio = 1/((k1/k2)-1) \n",
"printf('\n Ratio of electronic to ionic polarizability is %f .\n\n\n',ratio)\n",
"// Answer in book is 1.43"
   ]
   }
,
{
		   "cell_type": "markdown",
		   "metadata": {},
		   "source": [
			"## Example 4.18: Calculation_of_frequency_and_phase_difference.sce"
		   ]
		  },
  {
"cell_type": "code",
	   "execution_count": null,
	   "metadata": {
	    "collapsed": true
	   },
	   "outputs": [],
"source": [
"\n",
"clc \n",
"//Given that\n",
"t = 1.8e-5 // Relaxation time in second\n",
"epsilon_r = 1 // let\n",
"printf('Example 4.18')\n",
"f = 1/(2*%pi*t) // Calculation of frequency\n",
"delta = atan(epsilon_r/epsilon_r)\n",
"phi = 90 - delta*180/%pi // Calculation of phase difference\n",
"printf('\n Frequency is %f KHz\n',f/1e3)\n",
"printf(' Phase difference between current and voltage is %d degree.',phi)\n",
"\n",
""
   ]
   }
,
{
		   "cell_type": "markdown",
		   "metadata": {},
		   "source": [
			"## Example 4.4: Calculation_of_induced_dipole_moment.sce"
		   ]
		  },
  {
"cell_type": "code",
	   "execution_count": null,
	   "metadata": {
	    "collapsed": true
	   },
	   "outputs": [],
"source": [
"\n",
"clc \n",
"//Given that\n",
"epsilon_r = 1.000074 // Dielectric constant of He at 0C and 1atm\n",
"epsilon_0 = 8.854e-12 // Permittivity of free space\n",
"E = 100 // Electric field in V/m\n",
"n = 2.68e27 // Electron density in no,/m^\n",
"N_a = 6e23 // Avogadro number\n",
"V = 22.4 // Volume at STP in litter\n",
"printf('Example 4.4')\n",
"P = epsilon_0*(epsilon_r-1)*E // Calculation of polarization\n",
"\n",
"N = N_a/(V*1e-3)// Calculation of total number of atoms\n",
"p = P/N // dipole moment per atom\n",
"printf('\n Dipole moment per atom is %e Coulomb-meter \n\n\n',p)\n",
"// Answer in book is in different form and as 24.45e-40 coulomb-meter"
   ]
   }
,
{
		   "cell_type": "markdown",
		   "metadata": {},
		   "source": [
			"## Example 4.6: Calculation_of_electronic_polarizability_and_relative_permeability.sce"
		   ]
		  },
  {
"cell_type": "code",
	   "execution_count": null,
	   "metadata": {
	    "collapsed": true
	   },
	   "outputs": [],
"source": [
"\n",
"clc \n",
"//Given that\n",
"r = 0.055 // Radius of hydrogen atom in nm\n",
"n = 9.8e26 // Number of atoms/cc\n",
"\n",
"epsilon_0 = 8.854e-12 // Permittivity of free space\n",
"\n",
"printf('Example 4.6')\n",
"alpha_e = 4*%pi*epsilon_0*(r*1e-9)^3 // Calculation of electronic polarisability\n",
"epsilon_r = 1+n*alpha_e/epsilon_0 // Calculation of relative permeability\n",
"\n",
"printf('\n Electronic polarisability is %eFm^2 \n Relative permeability is %f \n\n\n',alpha_e,epsilon_r)\n",
"\n",
"\n",
" "
   ]
   }
,
{
		   "cell_type": "markdown",
		   "metadata": {},
		   "source": [
			"## Example 4.8: Calculation_of_relative_permeability.sce"
		   ]
		  },
  {
"cell_type": "code",
	   "execution_count": null,
	   "metadata": {
	    "collapsed": true
	   },
	   "outputs": [],
"source": [
" \n",
"clc \n",
"//Given that\n",
"epsilon_0 = 8.854e-12 // Permittivity of free space\n",
"E = 2000 // Electric field in V/m\n",
"P = 6.4e-8 // Polarization in C/m^2\n",
"printf('Example 4.8')\n",
"epsilon_r = 1+ P/(epsilon_0*E) // Calculation of relative permittivity\n",
"\n",
"printf('\n Relative permittivity is %f\n\n\n',epsilon_r)\n",
"\n",
" "
   ]
   }
,
{
		   "cell_type": "markdown",
		   "metadata": {},
		   "source": [
			"## Example 4.9: Calculation_of_dielectric_constant_of_material.sce"
		   ]
		  },
  {
"cell_type": "code",
	   "execution_count": null,
	   "metadata": {
	    "collapsed": true
	   },
	   "outputs": [],
"source": [
"\n",
"clc \n",
"//Given that\n",
"alpha_e = 2e-40 // Electronic polarisability in Fm^2\n",
"N = 4e28 // density in atoms/m^3\n",
"epsilon_0 = 8.85e-12 // Permittivity of free space\n",
"\n",
"printf('Example 4.9')\n",
"epsilon_r = 1+ N*alpha_e/(epsilon_0) // Calculation of relative permittivity\n",
"printf('\n Relative permittivity is %f\n\n\n',epsilon_r)\n",
"\n",
"\n",
" "
   ]
   }
],
"metadata": {
		  "kernelspec": {
		   "display_name": "Scilab",
		   "language": "scilab",
		   "name": "scilab"
		  },
		  "language_info": {
		   "file_extension": ".sce",
		   "help_links": [
			{
			 "text": "MetaKernel Magics",
			 "url": "https://github.com/calysto/metakernel/blob/master/metakernel/magics/README.md"
			}
		   ],
		   "mimetype": "text/x-octave",
		   "name": "scilab",
		   "version": "0.7.1"
		  }
		 },
		 "nbformat": 4,
		 "nbformat_minor": 0
}
