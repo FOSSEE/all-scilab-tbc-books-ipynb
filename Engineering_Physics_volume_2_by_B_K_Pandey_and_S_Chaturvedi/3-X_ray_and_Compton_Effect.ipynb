{
"cells": [
 {
		   "cell_type": "markdown",
	   "metadata": {},
	   "source": [
       "# Chapter 3: X ray and Compton Effect"
	   ]
	},
{
		   "cell_type": "markdown",
		   "metadata": {},
		   "source": [
			"## Example 3.10: Calculate_the_energy_of_recoiled_electron.sce"
		   ]
		  },
  {
"cell_type": "code",
	   "execution_count": null,
	   "metadata": {
	    "collapsed": true
	   },
	   "outputs": [],
"source": [
" clc\n",
"//given that\n",
"E = 100 // Energy of X ray beam in KeV\n",
"theta = 30 // Scattering angle in degree\n",
"m = 9.1e-31 // mass of electron in kg\n",
"c = 3e8 // Speed of light in m/s\n",
"printf('Example 3.10')\n",
"E_rest = m*c^2/(1.6e-19*1e3) // Rest mass energy in KeV\n",
"k = 1/E + (1-cos(theta*%pi/180))/(E_rest)\n",
"del_e = E - 1/k // Energy of recoiled electron\n",
"    printf('\n  Energy of recoiled electron is %f KeV\n\n\n',del_e)"
   ]
   }
,
{
		   "cell_type": "markdown",
		   "metadata": {},
		   "source": [
			"## Example 3.11: Calculation_of_Compton_shift.sce"
		   ]
		  },
  {
"cell_type": "code",
	   "execution_count": null,
	   "metadata": {
	    "collapsed": true
	   },
	   "outputs": [],
"source": [
" clc\n",
"//given that\n",
"lambda = 1 //wavelength in angstrom\n",
"h = 6.62e-34 // Planks constant\n",
"m_e = 9.1e-31 // mass of electron in kg\n",
"c = 3e8 // speed of light in m/sec\n",
"theta = 90 // angle for longest passing wavelength\n",
"printf('Example 3.11')\n",
"d_lambda= h*(1-cos(theta*%pi/180))/(m_e*c) // calculation of wavelength shift \n",
"\n",
"printf('\nWavelength shift is %f angstrom. \n\n\n',d_lambda*1e10)\n",
""
   ]
   }
,
{
		   "cell_type": "markdown",
		   "metadata": {},
		   "source": [
			"## Example 3.12: Calculation_of_wavelength_of_scattered_radiation.sce"
		   ]
		  },
  {
"cell_type": "code",
	   "execution_count": null,
	   "metadata": {
	    "collapsed": true
	   },
	   "outputs": [],
"source": [
" clc\n",
"//given that\n",
"lambda = 0.015 //wavelength in angstrom\n",
"h = 6.63e-34 // Planks constant\n",
"m_e = 9.1e-31 // mass of electron in kg\n",
"c = 3e8 // speed of light in m/sec\n",
"theta = 60 // angle for longest passing wavelength\n",
"printf('Example 3.12')\n",
"d_lambda= h*(1-cos(theta*%pi/180))*1e10/(m_e*c) // calculation of wavelength shift in angstrom\n",
"lambda_n = lambda+d_lambda\n",
"\n",
"printf('\n Wavelength shift is %f angstrom. \n\n\n',lambda_n)"
   ]
   }
,
{
		   "cell_type": "markdown",
		   "metadata": {},
		   "source": [
			"## Example 3.13: Calculation_of_Compton_shift_kinetic_energy_imported_to_the_recoiled_electron.sce"
		   ]
		  },
  {
"cell_type": "code",
	   "execution_count": null,
	   "metadata": {
	    "collapsed": true
	   },
	   "outputs": [],
"source": [
" clc\n",
"//given that\n",
"lambda = 1 //wavelength in angstrom\n",
"h = 6.63e-34 // Planks constant\n",
"m_e = 9.1e-31 // mass of electron in kg\n",
"c = 3e8 // speed of light in m/sec\n",
"theta = 90 // angle for longest passing wavelength\n",
"printf('Example 3.13')\n",
"d_lambda= h*(1-cos(theta*%pi/180))*1e10/(m_e*c) // calculation of wavelength shift in angstrom\n",
"lambda_n = lambda+d_lambda // Calculation of recoiled electron wavelength\n",
"d_E = h*c*(lambda_n-lambda)*1e10/(1.6e-19*lambda_n*lambda)// Calculation of recoiled electron energy in eV\n",
"printf('\nWavelength shift is %f angstrom.',lambda_n)\n",
"printf('\nEnergy of recoiled electron is %deV. \n\n\n',ceil (d_E))\n",
""
   ]
   }
,
{
		   "cell_type": "markdown",
		   "metadata": {},
		   "source": [
			"## Example 3.14: Calculation_of_wavelength_and_energy_of_incident_photon.sce"
		   ]
		  },
  {
"cell_type": "code",
	   "execution_count": null,
	   "metadata": {
	    "collapsed": true
	   },
	   "outputs": [],
"source": [
" clc\n",
"//given that\n",
"lambda = 1 //let wavelength in angstrom\n",
"lambda_n = 2*lambda // recoiled electron wavelength\n",
"h = 6.63e-34 // Planks constant\n",
"m_e = 9.1e-31 // mass of electron in kg\n",
"c = 3e8 // speed of light in m/sec\n",
"theta = 90 // angle for longest passing wavelength\n",
"printf('Example 3.14')\n",
"lambda = h*1e10/(m_e*c) // calculation of wavelength in angstrom\n",
"E = h*c*1e10/(lambda*1.6e-19) // calculation of energy of electron\n",
"\n",
"printf('\nWavelength shift is %f angstrom. ',lambda)\n",
"printf('\nEnergy of recoiled electron is %f KeV. \n\n\n',E/1e3)"
   ]
   }
,
{
		   "cell_type": "markdown",
		   "metadata": {},
		   "source": [
			"## Example 3.15: Calculation_fraction_of_energy_lost_by_photon_in_collision.sce"
		   ]
		  },
  {
"cell_type": "code",
	   "execution_count": null,
	   "metadata": {
	    "collapsed": true
	   },
	   "outputs": [],
"source": [
" clc\n",
"//given that\n",
"lambda = 2 //wavelength in angstrom\n",
"h = 6.63e-34 // Planks constant\n",
"m_e = 9.1e-31 // mass of electron in kg\n",
"c = 3e8 // speed of light in m/sec\n",
"theta = 45 // scattering angle \n",
"printf('Example 3.15')\n",
"d_lambda= h*(1-cos(theta*%pi/180))*1e10/(m_e*c) // calculation of wavelength shift in angstrom\n",
"lambda_n = lambda+d_lambda // Calculation of recoiled electron wavelength\n",
"\n",
"f = d_lambda/lambda // Calculation of fraction of energy lost by photon \n",
"\n",
"printf('\nFraction of energy lost by photon is %f\n\n\n',f)"
   ]
   }
,
{
		   "cell_type": "markdown",
		   "metadata": {},
		   "source": [
			"## Example 3.16: Calculation_of_wavelength_of_scattered_radiation_at_90_degree.sce"
		   ]
		  },
  {
"cell_type": "code",
	   "execution_count": null,
	   "metadata": {
	    "collapsed": true
	   },
	   "outputs": [],
"source": [
"\n",
" clc\n",
"//given that\n",
"E_eV = 510 // Energy of gamma ray in keV\n",
"lambda = 2 //wavelength in angstrom\n",
"h = 6.63e-34 // Planks constant\n",
"m_e = 9.1e-31 // mass of electron in kg\n",
"c = 3e8 // speed of light in m/sec\n",
"theta = 90 // scattering angle in degree\n",
"printf('Example 3.16')\n",
"E_j = E_eV*1e3*1.6e-19 // Energy of gamma ray in Joule\n",
"lambda = h*c*1e10/E_j // Calculation of wavelength in angstrom\n",
"\n",
"d_lambda= h*(1-cos(theta*%pi/180))*1e10/(m_e*c) // calculation of wavelength shift in angstrom\n",
"lambda_n = lambda+d_lambda // Calculation of recoiled electron wavelength\n",
"printf('\nWavelength of scattered radiation is %f Angstrom \n\n\n',lambda_n)\n",
""
   ]
   }
,
{
		   "cell_type": "markdown",
		   "metadata": {},
		   "source": [
			"## Example 3.17: EX3_17.sce"
		   ]
		  },
  {
"cell_type": "code",
	   "execution_count": null,
	   "metadata": {
	    "collapsed": true
	   },
	   "outputs": [],
"source": [
"\n",
" clc\n",
"//given that\n",
"lambda = 2 //wavelength in angstrom\n",
"h = 6.63e-34 // Planks constant\n",
"m_e = 9.1e-31 // mass of electron in kg\n",
"c = 3e8 // speed of light in m/sec\n",
"theta = 90 // angle for longest passing wavelength\n",
"printf('Example 3.17')\n",
"d_lambda= h*(1-cos(theta*%pi/180))*1e10/(m_e*c) // calculation of wavelength shift in angstrom\n",
"lambda_n = lambda+d_lambda // Calculation of recoiled electron wavelength\n",
"d_E = h*c*(lambda_n-lambda)*1e10/(1.6e-19*lambda_n*lambda)// Calculation of recoiled electron energy in eV\n",
"printf('\n Scattered wavelength is %f angstrom.',lambda_n)\n",
"printf('\n Energy of recoiled electron is %feV. \n\n\n',d_E)"
   ]
   }
,
{
		   "cell_type": "markdown",
		   "metadata": {},
		   "source": [
			"## Example 3.18: EX3_18.sce"
		   ]
		  },
  {
"cell_type": "code",
	   "execution_count": null,
	   "metadata": {
	    "collapsed": true
	   },
	   "outputs": [],
"source": [
" \n",
" clc\n",
"//given that\n",
"E_eV = 510 // Energy of gamma ray in keV\n",
"h = 6.63e-34 // Planks constant\n",
"m_e = 9.1e-31 // mass of electron in kg\n",
"c = 3e8 // speed of light in m/sec\n",
"theta = 90 // scattering angle in degree\n",
"printf('Example 3.18')\n",
"E_j = E_eV*1e3*1.6e-19 // Energy of gamma ray in Joule\n",
"lambda = h*c/E_j // Calculation of wavelength in meter\n",
"\n",
"d_lambda= h*(1-cos(theta*%pi/180))*1e10/(m_e*c) // calculation of wavelength shift in angstrom\n",
"lambda_n = lambda+d_lambda/1e10 // Calculation of recoiled electron wavelength\n",
"d_E = h*c*(d_lambda/1e10)/(1.6e-19*lambda_n*lambda)// Calculation of recoiled electron energy in eV\n",
"psi= atan(1/(tan((theta*%pi/180)/2)/(1+(h/(lambda*m_e*c))))) \n",
"phi_deg = 90 - psi*180/%pi // Calculation of degree part of angle of recoiled electron \n",
"phi_min = 60*(phi_deg - floor(phi_deg))// Calculation of minute part of angle of recoiled electron \n",
"printf('\nWavelength of scattered radiation is %e m ',lambda_n)\n",
"printf('\nEnergy of recoiled electron is %f MeV.',d_E/1e6)\n",
"printf('\nRecoiled electron angle is %d degree%d minute \n\n\n',phi_deg,phi_min)"
   ]
   }
,
{
		   "cell_type": "markdown",
		   "metadata": {},
		   "source": [
			"## Example 3.19: Calculation_of_after_collision_frequency.sce"
		   ]
		  },
  {
"cell_type": "code",
	   "execution_count": null,
	   "metadata": {
	    "collapsed": true
	   },
	   "outputs": [],
"source": [
" clc\n",
"//given that\n",
"nu = 2e19 // initial frequency of X ray photon\n",
"h = 6.63e-34 // Planks constant\n",
"m_e = 9.1e-31 // mass of electron in kg\n",
"c = 3e8 // speed of light in m/sec\n",
"theta = 90 // scattering angle in degree\n",
"printf('Example 3.19')\n",
"d_lambda = h/(m_e*c) // calculation of wavelength shift\n",
"k = 1/nu + d_lambda/c\n",
"nu_1 = 1/k // Frequency after collision\n",
"nu_1 = floor(nu_1/1e18)*1e18 // rounding off\n",
"printf('\nFrequency after collision is %e Hz \n\n\n',nu_1)"
   ]
   }
,
{
		   "cell_type": "markdown",
		   "metadata": {},
		   "source": [
			"## Example 3.1: Calculation_of_longest_wavelength_which_can_be_analyzed_by_rock_salt.sce"
		   ]
		  },
  {
"cell_type": "code",
	   "execution_count": null,
	   "metadata": {
	    "collapsed": true
	   },
	   "outputs": [],
"source": [
"clc\n",
"//given that\n",
"d = 2.82 // crystal spacing in angstrom\n",
"n = 2 // order for longest passing wavelength\n",
"theta = 90 // angle for longest passing wavelength\n",
"printf('Example 3.1')\n",
"lambda = 2*d*sin(theta*%pi/180)/n // Calculation of longest wavelength\n",
"\n",
"printf('\n Longest wavelength is %f angstrom. \n\n\n',lambda)"
   ]
   }
,
{
		   "cell_type": "markdown",
		   "metadata": {},
		   "source": [
			"## Example 3.2: EX3_2.sce"
		   ]
		  },
  {
"cell_type": "code",
	   "execution_count": null,
	   "metadata": {
	    "collapsed": true
	   },
	   "outputs": [],
"source": [
" clc\n",
"//given that\n",
"lambda = 0.3 // Wavelength in angstrom\n",
"d = 0.5 // crystal spacing in angstrom\n",
"n = 2 // order \n",
"m = 3 // order\n",
"printf('Example 3.2')\n",
"theta_n = asin(n*lambda/(2*d))*180/%pi // Calculation of angle for order n\n",
"theta_m = asin(m*lambda/(2*d))*180/%pi  // Calculation of angle for order m\n",
"\n",
"printf('\nAngle for %dnd order maxima is %f degree. ',n,theta_n)\n",
"printf('\nAngle for %drd order maxima is %f degree. \n\n\n',m,theta_m)\n",
"// Answers in book are 40.97 degree and 72.29 degree which are due to wrong calculation"
   ]
   }
,
{
		   "cell_type": "markdown",
		   "metadata": {},
		   "source": [
			"## Example 3.3: Calculation_of_wavelength.sce"
		   ]
		  },
  {
"cell_type": "code",
	   "execution_count": null,
	   "metadata": {
	    "collapsed": true
	   },
	   "outputs": [],
"source": [
"\n",
" \n",
" clc\n",
"//given that\n",
"d = 1.87 // crystal spacing in angstrom\n",
"n = 2 // order for longest passing wavelength\n",
"theta = 30 // angle for longest passing wavelength\n",
"printf('Example 3.3')\n",
"lambda = 2*d*sin(theta*%pi/180)/n // Calculation of longest wavelength\n",
"\n",
"printf('\n Longest wavelength is %f angstrom. \n\n\n',lambda)\n",
""
   ]
   }
,
{
		   "cell_type": "markdown",
		   "metadata": {},
		   "source": [
			"## Example 3.4: Calculation_for_inter_plane_separation_of_atomic_planes.sce"
		   ]
		  },
  {
"cell_type": "code",
	   "execution_count": null,
	   "metadata": {
	    "collapsed": true
	   },
	   "outputs": [],
"source": [
" clc\n",
"//given that\n",
"lambda = 3.6e-9 // Wavelength in cm\n",
"theta = 4.8 // glancing angle in degree\n",
"n = 1 // order \n",
"\n",
"printf('Example 3.4')\n",
"d = n*lambda/(2*sin(theta*%pi/180)) // calculation of crystal spacing in angstrom\n",
"\n",
"printf('\n Crystal spacing in angstrom is %e cm. \n\n\n',d)\n",
""
   ]
   }
,
{
		   "cell_type": "markdown",
		   "metadata": {},
		   "source": [
			"## Example 3.5: Calculation_of_wavelength_of_X_ray_used.sce"
		   ]
		  },
  {
"cell_type": "code",
	   "execution_count": null,
	   "metadata": {
	    "collapsed": true
	   },
	   "outputs": [],
"source": [
" clc\n",
"//given that\n",
"d = 2.5 // crystal spacing in angstrom\n",
"n = 1 // order for longest passing wavelength\n",
"theta = 20 // angle for longest passing wavelength\n",
"printf('Example 3.5')\n",
"lambda = 2*d*sin(theta*%pi/180)/n // Calculation of longest wavelength\n",
"\n",
"printf('\nLongest wavelength is %f angstrom. \n\n\n',lambda)\n",
"\n",
" "
   ]
   }
,
{
		   "cell_type": "markdown",
		   "metadata": {},
		   "source": [
			"## Example 3.6: Calculation_of_longest_wavelength_which_can_be_analyzed_by_rock_salt.sce"
		   ]
		  },
  {
"cell_type": "code",
	   "execution_count": null,
	   "metadata": {
	    "collapsed": true
	   },
	   "outputs": [],
"source": [
" clc\n",
"//given that\n",
"d = 2.5 // crystal spacing in angstrom\n",
"n = 1 // order for longest passing wavelength\n",
"theta = 90 // angle for longest passing wavelength\n",
"printf('Example 3.6')\n",
"lambda = 2*d*sin(theta*%pi/180)/n // Calculation of longest wavelength\n",
"\n",
"printf('\nLongest wavelength is  of %d angstrom. \n\n\n',lambda)"
   ]
   }
,
{
		   "cell_type": "markdown",
		   "metadata": {},
		   "source": [
			"## Example 3.7: Show_that_given_crystal_is_simple_cubic_crystal.sce"
		   ]
		  },
  {
"cell_type": "code",
	   "execution_count": null,
	   "metadata": {
	    "collapsed": true
	   },
	   "outputs": [],
"source": [
"clc\n",
"// given that\n",
"theta1_deg = 5 // Absolut degree part of angle for first angle\n",
"theta1_min = 23//remainder minute part of angle for first angle\n",
"theta2_deg = 7 // Absolut degree part of angle for second angle\n",
"theta2_min = 37//remainder minute part of angle for second angle\n",
"theta3_deg = 9 // Absolut degree part of angle for third angle\n",
"theta3_min = 25//remainder minute part of angle for third angle\n",
"\n",
"printf('Example 3.7 \n')\n",
"val1 = sin((theta1_deg+ theta1_min/60)*%pi/180)// Sin value for first angle\n",
"val2 = sin((theta2_deg+ theta2_min/60)*%pi/180) //Sin value for second angle\n",
"val3 = sin((theta3_deg+ theta3_min/60)*%pi/180)//Sin value for third angle\n",
"ratio_21 = val2/val1\n",
"ratio_31 = val3/val1\n",
"printf('\n Interatomic layer separation ratios in crystal are as\n 1 : %f : %f',ratio_21,ratio_31)\n",
"printf('\n Above relation shows that crystal is simple cubic crystal structure.')\n",
""
   ]
   }
,
{
		   "cell_type": "markdown",
		   "metadata": {},
		   "source": [
			"## Example 3.8: Calculation_of_possible_spacing.sce"
		   ]
		  },
  {
"cell_type": "code",
	   "execution_count": null,
	   "metadata": {
	    "collapsed": true
	   },
	   "outputs": [],
"source": [
" clc\n",
"//given that\n",
"lambda = 1.2 // wavelength in angstrom\n",
"theta_deg = 9 // angle fraction in degree\n",
"theta_min = 30 // Angle fraction in minute\n",
"printf('Example 3.8\n')\n",
"theta = theta_deg+theta_min/60 // Total angel\n",
"for n = 1:4\n",
"    d = lambda/(n*2*sin(theta*%pi/180)) // Inter layer spacing\n",
"    printf(' If order is %d then spacing is %f angstrom.\n',n,d)\n",
"end\n",
"\n",
" "
   ]
   }
,
{
		   "cell_type": "markdown",
		   "metadata": {},
		   "source": [
			"## Example 3.9: Determining_the_spacing_of_crystal.sce"
		   ]
		  },
  {
"cell_type": "code",
	   "execution_count": null,
	   "metadata": {
	    "collapsed": true
	   },
	   "outputs": [],
"source": [
" clc\n",
"//given that\n",
"h = 6.62e-34 // Planks constant\n",
"m_e = 9.1e-31 // mass of electron in kg\n",
"e = 1.6e-19 // charge on electron in coulomb\n",
"v = 340 // Applied voltage in volt\n",
"n = 1 // order for longest passing wavelength\n",
"theta = 60 // angle for longest passing wavelength\n",
"printf('Example 3.9')\n",
"lambda= h/sqrt(2*m_e*e*v) // calculation of wavelength\n",
"d = n*lambda/(2*sin(theta*%pi/180))// calculation of spacing of crystal\n",
"\n",
"printf('\nSpacing of crystal is %f angstrom. \n\n\n',d*1e10)"
   ]
   }
],
"metadata": {
		  "kernelspec": {
		   "display_name": "Scilab",
		   "language": "scilab",
		   "name": "scilab"
		  },
		  "language_info": {
		   "file_extension": ".sce",
		   "help_links": [
			{
			 "text": "MetaKernel Magics",
			 "url": "https://github.com/calysto/metakernel/blob/master/metakernel/magics/README.md"
			}
		   ],
		   "mimetype": "text/x-octave",
		   "name": "scilab",
		   "version": "0.7.1"
		  }
		 },
		 "nbformat": 4,
		 "nbformat_minor": 0
}
