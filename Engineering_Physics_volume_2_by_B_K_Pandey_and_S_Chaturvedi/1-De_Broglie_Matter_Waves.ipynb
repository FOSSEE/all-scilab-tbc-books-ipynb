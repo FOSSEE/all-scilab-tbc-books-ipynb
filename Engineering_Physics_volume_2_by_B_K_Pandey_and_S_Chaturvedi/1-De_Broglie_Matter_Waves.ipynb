{
"cells": [
 {
		   "cell_type": "markdown",
	   "metadata": {},
	   "source": [
       "# Chapter 1: De Broglie Matter Waves"
	   ]
	},
{
		   "cell_type": "markdown",
		   "metadata": {},
		   "source": [
			"## Example 1.10: Calculation_of_de_Broglie_wavelength_of_electron.sce"
		   ]
		  },
  {
"cell_type": "code",
	   "execution_count": null,
	   "metadata": {
	    "collapsed": true
	   },
	   "outputs": [],
"source": [
"clc \n",
"//Given that\n",
"E = 10 // Energy of electron in KeV\n",
"m_e = 9.1e-31 // Mass of electron in Kg\n",
"h = 6.63e-34 // Plank constant\n",
"printf('Example 1.10')\n",
"v = sqrt(2*E*1.6e-16/m_e) // Calculation of velocity of moving electron\n",
"p = m_e*v //Calculation of momentum of moving electron\n",
"lambda = h/p // calculation of de Broglie wavelength\n",
"printf('\n velocity of electron is %0.2e m/s.',v)\n",
"printf('\n momentum of electron is %.3e Kgm/s.',p)\n",
"printf('\n de Broglie wavelength of electron is %.2f angstrom.\n\n\n', lambda*1e10)\n",
" // Answers in book are v = 5.93e6 m/s, p = 5.397e-24 kgm/s, lambda = 1.23 angstrom\n",
"// Which is due to wrong calculation"
   ]
   }
,
{
		   "cell_type": "markdown",
		   "metadata": {},
		   "source": [
			"## Example 1.11: Calculation_of_velocity_and_kinetic_energy_of_neutron.sce"
		   ]
		  },
  {
"cell_type": "code",
	   "execution_count": null,
	   "metadata": {
	    "collapsed": true
	   },
	   "outputs": [],
"source": [
"\n",
"clc \n",
"//Given that\n",
"lambda = 1 // de Broglie wavelength of neutron in angstrom\n",
"m = 1.67e-27 // Mass of electron in Kg\n",
"h = 6.62e-34 // Plank constant\n",
"printf('Example 1.11')\n",
"\n",
"v = h/(m*lambda*1e-10) // Calculation of velocity of moving neutron\n",
"E = 1/2*m*v^2 // Calculation of kinetic energy of moving neutron\n",
"printf('\n velocity of neutron is %e m/s.',v)\n",
"printf('\n Kinetic energy of neutron is %f eV.\n\n\n',E/1.6e-19)"
   ]
   }
,
{
		   "cell_type": "markdown",
		   "metadata": {},
		   "source": [
			"## Example 1.12: Calculation_of_de_Broglie_wavelength_of_electron.sce"
		   ]
		  },
  {
"cell_type": "code",
	   "execution_count": null,
	   "metadata": {
	    "collapsed": true
	   },
	   "outputs": [],
"source": [
"\n",
"\n",
"clc \n",
"//Given that\n",
"E = 2 // Energy of accelerated electron in KeV\n",
"m = 9.1e-31 // Mass of electron in Kg\n",
"h = 6.62e-34 // Plank constant\n",
"printf('Example 1.12')\n",
"lambda = h/sqrt(2*m*E*1e3*1.6e-19) // Calculation of velocity of moving electron\n",
"printf('\n Wavelength of electron is %e m.\n\n\n',lambda)\n",
"// Answer in book is 2.74e-12m"
   ]
   }
,
{
		   "cell_type": "markdown",
		   "metadata": {},
		   "source": [
			"## Example 1.13: Calculation_of_de_Broglie_wavelength_of_proton.sce"
		   ]
		  },
  {
"cell_type": "code",
	   "execution_count": null,
	   "metadata": {
	    "collapsed": true
	   },
	   "outputs": [],
"source": [
"\n",
"\n",
"clc \n",
"//Given that\n",
"v = 2e8 // speed of moving proton in m/s\n",
"c = 3e8 // speed of light in m/s\n",
"m = 1.67e-27 // Mass of proton in Kg\n",
"h = 6.62e-34 // Plank constant\n",
"printf('Example 1.13')\n",
"lambda = h/(m*v/sqrt(1-(v/c)^2)) // Calculation of velocity of moving electron\n",
"printf('\n Wavelength of electron is %e angstrom.\n\n\n', lambda*1e10)"
   ]
   }
,
{
		   "cell_type": "markdown",
		   "metadata": {},
		   "source": [
			"## Example 1.14: EX1_14.sce"
		   ]
		  },
  {
"cell_type": "code",
	   "execution_count": null,
	   "metadata": {
	    "collapsed": true
	   },
	   "outputs": [],
"source": [
"clc\n",
"//given that\n",
"lambda = 1// wavelength in m/s\n",
"m_e = 9.1e-31 // Mass of electron in Kg\n",
"m_p = 1.67e-27 // Mass of proton in kg\n",
"c = 3e8 // speed of light in m/s\n",
"h = 6.63e-34 // Plank constant\n",
"printf('Example 1.14')\n",
"p_p = h/(lambda*1e-10) // Momentum of photon\n",
"p_e = h/(lambda*1e-10) // Momentum of electron\n",
"E_e = p_e^2/(2*m_e) +m_e*c^2 // Total energy of electron\n",
"E_p = h*c/(lambda*1e-10) // Total energy of photon\n",
"K_e = p_e^2/(2*m_e) // Kinetic energy of electron \n",
"K_p = h*c/(lambda*1e-10)// Kinetic energy of photon\n",
"r_K = K_e/K_p // Ratio of kinetic energies\n",
"printf('\n Momentum of photon is %e Kgm/s while Momentum of electron is %e Kgm/s \n which are equal.',p_p,p_e)\n",
"printf('\n Total Energy of photon is %f KeV while Total Energy of electron is %f MeV ',E_p/(1.6e-19*1e3),E_e/(1.6e-19*1e6))\n",
"printf('\n Ratio of kinetic energies is %e \n\n\n',r_K)"
   ]
   }
,
{
		   "cell_type": "markdown",
		   "metadata": {},
		   "source": [
			"## Example 1.15: Calculation_of_de_Broglie_wavelength_of_neutron.sce"
		   ]
		  },
  {
"cell_type": "code",
	   "execution_count": null,
	   "metadata": {
	    "collapsed": true
	   },
	   "outputs": [],
"source": [
"\n",
"clc \n",
"//Given that\n",
"e = 25 // Energy of neutron in eV\n",
"c = 3e8 // speed of light in m/s\n",
"m = 1.67e-27 // Mass of neutron in Kg\n",
"h = 6.62e-34 // Plank constant\n",
"printf('Example 1.15')\n",
"rest_e = m*c^2/(1e6*1.6e-19)// rest mass energy of neutron in MeV\n",
"if e/rest_e < 0.015 then\n",
"    E = e;\n",
"    else E = rest_e +e;\n",
"end\n",
"lambda = h/(sqrt(2*m*e*1.6e-19)) // calculation of de Broglie wavelength\n",
"printf('\n de Broglie wavelength of neutron is %f angstrom.\n\n\n', lambda*1e10)\n",
"// Answer in book is 8.04e-5 angstrom "
   ]
   }
,
{
		   "cell_type": "markdown",
		   "metadata": {},
		   "source": [
			"## Example 1.16: Calculation_of_de_Broglie_wavelength_of_alpha_particle.sce"
		   ]
		  },
  {
"cell_type": "code",
	   "execution_count": null,
	   "metadata": {
	    "collapsed": true
	   },
	   "outputs": [],
"source": [
"clc \n",
"//Given that\n",
"e = 2*1.6e-19 // charge on alpha particle in coulomb\n",
"V = 200 // Applied voltage in volts\n",
"m = 4*1.67e-27 // Mass of alpha particle in Kg\n",
"h = 6.63e-34 // Plank constant\n",
"printf('Example 1.16')\n",
"\n",
"lambda = h/(sqrt(2*e*V*m)) // calculation of de Broglie wavelength\n",
"printf('\n de Broglie wavelength of neutron is %f angstrom.\n\n\n', lambda*1e10)\n",
"// while answer in book is 0.00715 angstrom"
   ]
   }
,
{
		   "cell_type": "markdown",
		   "metadata": {},
		   "source": [
			"## Example 1.17: Calculation_of_de_Broglie_wavelength_of_a_body_and_electron.sce"
		   ]
		  },
  {
"cell_type": "code",
	   "execution_count": null,
	   "metadata": {
	    "collapsed": true
	   },
	   "outputs": [],
"source": [
"clc \n",
"//Given that\n",
"M = 20 // Mass of ball in Kg\n",
"V = 5 // velocity of of ball in m/s\n",
"m = 9.1e-31 //Mass of electron in Kg\n",
"v = 1e6 // velocity of of electron in m/s\n",
"h = 6.62e-34 // Plank constant\n",
"\n",
"printf('Example 1.17')\n",
"lambda_b = h/(M*V) // calculation of de Broglie wavelength for ball\n",
"lambda_e = h/(m*v) // calculation of de Broglie wavelength electron\n",
"printf('\n de Broglie wavelength of ball is %e angstrom.',lambda_b*1e10)\n",
"printf('\n de Broglie wavelength of electron is %f angstrom.\n\n\n',lambda_e*1e10)\n",
"// answer in book is 6.62e-22 angstrom for ball\n",
""
   ]
   }
,
{
		   "cell_type": "markdown",
		   "metadata": {},
		   "source": [
			"## Example 1.18: Calculation_of_de_Broglie_wavelength_of_neutron.sce"
		   ]
		  },
  {
"cell_type": "code",
	   "execution_count": null,
	   "metadata": {
	    "collapsed": true
	   },
	   "outputs": [],
"source": [
"\n",
"clc \n",
"//Given that\n",
"E = 1 // Energy of neutron in eV\n",
"m = 1.67e-27 // Mass of neutron in Kg\n",
"h = 6.62e-34 // Plank constant\n",
"printf('Example 1.18')\n",
"lambda = h/sqrt(2*m*E*1.6e-19) // Calculation of velocity of moving electron\n",
"printf('\n Wavelength of electron is %f angstrom.\n\n\n',lambda*1e10)\n",
"// Answer in book is 6.62e-22 angstrom"
   ]
   }
,
{
		   "cell_type": "markdown",
		   "metadata": {},
		   "source": [
			"## Example 1.19: Calculation_of_applied_voltage.sce"
		   ]
		  },
  {
"cell_type": "code",
	   "execution_count": null,
	   "metadata": {
	    "collapsed": true
	   },
	   "outputs": [],
"source": [
"\n",
"clc \n",
"//Given that\n",
"lambda = 0.5// wavelength of electron in angstrom\n",
"m = 9.1e-31 // Mass of electron in Kg\n",
"h = 6.62e-34 // Plank constant\n",
"q = 1.6e-19 // charge on electron in coulomb\n",
"printf('Example 1.19')\n",
"V = h^2/(2*m*q*(lambda*1e-10)^2) // Calculation of velocity of moving electron\n",
"printf('\n Applied voltage on electron is %f V.\n\n\n',V)\n",
"// Answer in book is 601.6 Volt"
   ]
   }
,
{
		   "cell_type": "markdown",
		   "metadata": {},
		   "source": [
			"## Example 1.1: Calculation_of_de_Broglie_wavelength_of_Earth.sce"
		   ]
		  },
  {
"cell_type": "code",
	   "execution_count": null,
	   "metadata": {
	    "collapsed": true
	   },
	   "outputs": [],
"source": [
" clc\n",
"//given that\n",
"M = 6e24 // Mass of earth in Kg\n",
"v = 3e4 // Orbital velocity of earth in m/s\n",
"h = 6.625e-34 // Plank constant\n",
"\n",
"printf('Example 1.1')\n",
"lambda = h/(M*v) // calculation of de Broglie wavelength\n",
"\n",
"printf('\n de Broglie wavelength of earth is %e m.\n\n\n',lambda)"
   ]
   }
,
{
		   "cell_type": "markdown",
		   "metadata": {},
		   "source": [
			"## Example 1.21: Calculation_of_de_Broglie_wavelength_of_neutron_at_37_degree_Celsius.sce"
		   ]
		  },
  {
"cell_type": "code",
	   "execution_count": null,
	   "metadata": {
	    "collapsed": true
	   },
	   "outputs": [],
"source": [
"clc \n",
"//Given that\n",
"k = 8.6e-5 // Boltzmann constant\n",
"t = 37 // Temperature in degree Celsius\n",
"h = 6.62e-34 // Plank constant\n",
"m = 1.67e-27 // Mass of neutron\n",
"printf('Example 1.21')\n",
"lambda = h/sqrt(3*m*(k*1.6e-19)*(t+273))// Calculation of wavelength\n",
"printf('\n Wavelength of neutron at %d degree Celsius is %f angstrom.\n\n\n',t,lambda*1e10)\n",
""
   ]
   }
,
{
		   "cell_type": "markdown",
		   "metadata": {},
		   "source": [
			"## Example 1.22: Calculation_of_de_Broglie_wavelength_of_Helium_at_27_degree_Celsius.sce"
		   ]
		  },
  {
"cell_type": "code",
	   "execution_count": null,
	   "metadata": {
	    "collapsed": true
	   },
	   "outputs": [],
"source": [
"clc \n",
"//Given that\n",
"k = 8.6e-5 // Boltzmann constant\n",
"t = 27 // Temperature in degree Celsius\n",
"h = 6.62e-34 // Plank constant\n",
"m = 6.7e-27 // Mass of helium atom\n",
"printf('Example 1.22')\n",
"lambda = h/sqrt(3*m*(k*1.6e-19)*(t+273))// Calculation of wavelength\n",
"printf('\n Wavelength of helium at %d degree Celsius is %f angstrom.\n\n\n',t,lambda*1e10)"
   ]
   }
,
{
		   "cell_type": "markdown",
		   "metadata": {},
		   "source": [
			"## Example 1.23: Calculation_of_inter_atomic_spacing_for_crystal.sce"
		   ]
		  },
  {
"cell_type": "code",
	   "execution_count": null,
	   "metadata": {
	    "collapsed": true
	   },
	   "outputs": [],
"source": [
"clc \n",
"//Given that\n",
"E = 200 // energy of electrons in eV\n",
"x = 20 // distance of screen in cm\n",
"D = 2 // diameter of ring in cm\n",
"h = 6.62e-34 // Plank constant\n",
"m = 9.1e-31 // Mass of electron in kg\n",
"printf('Example 1.23')\n",
"lambda = h/sqrt(2*m*E*1.6e-19) // Calculation of wavelength\n",
"theta = atan(D/(2*x))\n",
"d = lambda/(2*sin(theta))// calculation of interatomic spacing of crystal\n",
"printf('\n Interatomic spacing of crystal is %f angstrom.\n\n\n',d*1e10)"
   ]
   }
,
{
		   "cell_type": "markdown",
		   "metadata": {},
		   "source": [
			"## Example 1.24: Calculation_of_velocity_of_electron_in_Bohr_orbit.sce"
		   ]
		  },
  {
"cell_type": "code",
	   "execution_count": null,
	   "metadata": {
	    "collapsed": true
	   },
	   "outputs": [],
"source": [
"\n",
"clc \n",
"//Given that\n",
"r = 0.5 // Bohr radius of hydrogen in angstrom\n",
"m = 9.1e-31 // Mass of neutron in Kg\n",
"h = 6.6e-34 // Plank constant\n",
"printf('Example 1.24')\n",
"v = h/(2*%pi*r*1e-10*m) // velocity of electron in ground state\n",
"printf('\n Velocity of electron in ground state is %e m/s.\n\n\n',v)\n",
"// Answer in book is 2.31e6 m/s"
   ]
   }
,
{
		   "cell_type": "markdown",
		   "metadata": {},
		   "source": [
			"## Example 1.25: EX1_25.sce"
		   ]
		  },
  {
"cell_type": "code",
	   "execution_count": null,
	   "metadata": {
	    "collapsed": true
	   },
	   "outputs": [],
"source": [
"\n",
"clc \n",
"//Given that\n",
"lambda = 5890 // wavelength of yellow radiation in angstrom\n",
"m = 9.1e-31 // Mass of neutron in Kg\n",
"h = 6.63e-34 // Plank constant\n",
"printf('Example 1.25')\n",
"v = h/(lambda*1e-10*m) // velocity of electron in ground state\n",
"printf('\n Velocity of electron in ground state is %e m/s.\n\n\n',v)\n",
"// Answer in book is 1.24e3 m/s"
   ]
   }
,
{
		   "cell_type": "markdown",
		   "metadata": {},
		   "source": [
			"## Example 1.26: Calculation_of_velocity_and_kinetic_energy_of_neutron.sce"
		   ]
		  },
  {
"cell_type": "code",
	   "execution_count": null,
	   "metadata": {
	    "collapsed": true
	   },
	   "outputs": [],
"source": [
"\n",
"clc \n",
"//Given that\n",
"lambda = 2 // wavelength of neutron in angstrom\n",
"m = 1.67e-27 // Mass of neutron in Kg\n",
"h = 6.63e-34 // Plank constant\n",
"printf('Example 1.26')\n",
"v = h/(lambda*1e-10*m) // velocity of neutron\n",
"k = 0.5*m*v^2 // Kinetic energy of neutron\n",
"printf('\n Velocity of neutron is %e m/s.',v)\n",
"printf('\n Kinetic energy of neutron is %f eV.\n\n\n',k/1.6e-19)\n",
"// Answer in book is 0.021eV"
   ]
   }
,
{
		   "cell_type": "markdown",
		   "metadata": {},
		   "source": [
			"## Example 1.29: Calculation_of_angle_for_first_order_diffraction.sce"
		   ]
		  },
  {
"cell_type": "code",
	   "execution_count": null,
	   "metadata": {
	    "collapsed": true
	   },
	   "outputs": [],
"source": [
"clc\n",
"//given that\n",
"v1 = 50 // Previous applied voltage\n",
"v2 = 65 // final applied voltage\n",
"k = 12.28 \n",
"d = 0.91 // Spacing in a crystal in angstrom\n",
"printf('Example 1.29')\n",
"\n",
"lambda = k/sqrt(v1)\n",
"theta= asin(lambda/(2*d))// Angel for initial applied voltage\n",
"lambda1 = k/sqrt(v2)// wavelength for final applied voltage\n",
"theta1 = asin(lambda1/(2*d))// Angel for final applied voltage\n",
"printf('\n For first order, sin(theta) is %f \n For second order sin(theta) must be %f \n which is not possible for any value of angle. \n So no maxima occur for higher orders \n\n\n',sin(theta),2*sin(theta))\n",
"printf('\n Angle of diffraction for first order of beam \n is %f degree at %d Volts\n\n\n',theta1*180/%pi,v2)\n",
"// Answer in book is 57.14 degree\n",
""
   ]
   }
,
{
		   "cell_type": "markdown",
		   "metadata": {},
		   "source": [
			"## Example 1.2: Calculation_of_de_Broglie_wavelength_of_a_body.sce"
		   ]
		  },
  {
"cell_type": "code",
	   "execution_count": null,
	   "metadata": {
	    "collapsed": true
	   },
	   "outputs": [],
"source": [
"clc\n",
"//given that\n",
"M = 1 // Mass of object in Kg\n",
"v = 10 // velocity of object in m/s\n",
"h = 6.625e-34 // Plank constant\n",
"\n",
"printf('Example 1.2')\n",
"lambda = h/(M*v) // calculation of de Broglie wavelength\n",
"\n",
"printf('\n de Broglie wavelength of body is %e m.\n\n\n',lambda)"
   ]
   }
,
{
		   "cell_type": "markdown",
		   "metadata": {},
		   "source": [
			"## Example 1.30: Calculation_of_group_velocity_and_phase_velocity_of_wave.sce"
		   ]
		  },
  {
"cell_type": "code",
	   "execution_count": null,
	   "metadata": {
	    "collapsed": true
	   },
	   "outputs": [],
"source": [
"clc \n",
"//Given that\n",
"lambda = 680 // Wavelength in m\n",
"g = 9.8 //Acceleration due to gravity\n",
"printf('Example 1.30')\n",
"v_g = 1/2*sqrt(g*lambda/(2*%pi)) // Calculation of group velocity\n",
"printf('\n Group velocity of seawater waves is %f m/s.\n\n\n',v_g)\n",
"// Answer in book is 16.29 m/s"
   ]
   }
,
{
		   "cell_type": "markdown",
		   "metadata": {},
		   "source": [
			"## Example 1.32: Calculation_of_group_velocity_and_phase_velocity_of_wave.sce"
		   ]
		  },
  {
"cell_type": "code",
	   "execution_count": null,
	   "metadata": {
	    "collapsed": true
	   },
	   "outputs": [],
"source": [
"clc \n",
"//Given that\n",
"lambda = 2e-13 // de Broglie wavelength of an electron in m\n",
"c = 3e8 // Speed of light in m/s\n",
"m = 9.1e-31 // Mass of electron in Kg\n",
"h = 6.63e-34 // Plank constant\n",
"printf('Example 1.32')\n",
"E = h*c/(lambda*1.6e-19) \n",
"E_rest = m*c^2/(1.6e-19) // Calculation of rest mass energy\n",
"E_total = sqrt(E^2+E_rest^2) // Total energy in eV\n",
"v_g = c*sqrt(1-(E_rest/E_total)^2) // Group velocity\n",
"v_p  = c^2/v_g // Phase velocity\n",
"printf('\n Group velocity of de Broglie waves is %fc  and\n phase velocity is %fc .\n\n\n',v_g/c,v_p/c)"
   ]
   }
,
{
		   "cell_type": "markdown",
		   "metadata": {},
		   "source": [
			"## Example 1.33: Calculation_of_kinetic_energy_group_velocity_and_phase_velocity_of_wave.sce"
		   ]
		  },
  {
"cell_type": "code",
	   "execution_count": null,
	   "metadata": {
	    "collapsed": true
	   },
	   "outputs": [],
"source": [
"\n",
"clc \n",
"//Given that\n",
"lambda = 2e-12 // de Broglie wavelength of an electron in m\n",
"c = 3e8 // Speed of light in m/s\n",
"m = 9.1e-31 // Mass of electron in Kg\n",
"h = 6.63e-34 // Plank constant\n",
"printf('Example 1.33')\n",
"E = h*c/(lambda*1.6e-19) // Energy due to momentum\n",
"E_rest = m*c^2/(1.6e-19) // Calculation of rest mass energy\n",
"E_total = sqrt(E^2+E_rest^2) // Total energy in eV\n",
"KE = E_total - E_rest // Kinetic energy\n",
"v_g = c*sqrt(1-(E_rest/E_total)^2) // Group velocity\n",
"v_p  = c^2/v_g // Phase velocity\n",
"\n",
"printf('\n Kinetic energy of electron is %f KeV.',KE/1000)\n",
"printf('\n Group velocity of de Broglie waves is %fc m/s and\n phase velocity is %fc m/s.\n\n\n',v_g/c,v_p/c)\n",
"// Answer in book is v_g = 0.6035c & v_p = 1.657c"
   ]
   }
,
{
		   "cell_type": "markdown",
		   "metadata": {},
		   "source": [
			"## Example 1.3: Calculation_of_de_Broglie_wavelength_of_electron.sce"
		   ]
		  },
  {
"cell_type": "code",
	   "execution_count": null,
	   "metadata": {
	    "collapsed": true
	   },
	   "outputs": [],
"source": [
"clc \n",
"// Given that\n",
"m = 1e-30 // Mass of any object in Kg\n",
"v = 1e5 // velocity of object in m/s\n",
"h = 6.625e-34 // Plank constant\n",
"\n",
"printf('Example 1.3')\n",
"lambda = h/(m*v) // calculation of de Broglie wavelength\n",
"\n",
"printf('\n de Broglie wavelength of body is %e m.\n\n\n',lambda)"
   ]
   }
,
{
		   "cell_type": "markdown",
		   "metadata": {},
		   "source": [
			"## Example 1.4: Calculation_of_velocity_momentum_and_wavelength_of_electron.sce"
		   ]
		  },
  {
"cell_type": "code",
	   "execution_count": null,
	   "metadata": {
	    "collapsed": true
	   },
	   "outputs": [],
"source": [
"clc \n",
"// Given that\n",
"KE = 4.55e-25 // Kinetic energy of an electron in Joule\n",
"m = 9.1e-31 // Mass of any object in Kg\n",
"h = 6.62e-34 // Plank constant\n",
"printf('Example 1.4')\n",
"v = sqrt(2*KE/m) // Calculation of velocity of moving electron\n",
"p = m*v //Calculation of momentum of moving electron\n",
"lambda = h/p // calculation of de Broglie wavelength\n",
"printf('\n velocity of electron is %e m/s.',v)\n",
"printf('\n momentum of electron is %e Kgm/s.',p)\n",
"printf('\n de Broglie wavelength of electron is %e m.\n\n\n',lambda)\n",
""
   ]
   }
,
{
		   "cell_type": "markdown",
		   "metadata": {},
		   "source": [
			"## Example 1.5: Calculation_of_de_Broglie_wavelength_of_proton.sce"
		   ]
		  },
  {
"cell_type": "code",
	   "execution_count": null,
	   "metadata": {
	    "collapsed": true
	   },
	   "outputs": [],
"source": [
"\n",
"clc\n",
"//Given that\n",
"c = 3e8 // speed of light in m/s\n",
"v = c/20 // Speed of proton in m/s\n",
"m = 1.67e-27 // Mass of proton in Kg\n",
"h = 6.625e-34 // Plank constant\n",
"printf('Example 1.5')\n",
"lambda = h/(m*v) // calculation of de Broglie wavelength\n",
"printf('\n de Broglie wavelength of proton is %e m.\n\n\n',lambda)\n",
"// Answer in book is 6.645e-14m which is a calculation mistake"
   ]
   }
,
{
		   "cell_type": "markdown",
		   "metadata": {},
		   "source": [
			"## Example 1.6: Calculation_of_de_Broglie_wavelength_of_neutron.sce"
		   ]
		  },
  {
"cell_type": "code",
	   "execution_count": null,
	   "metadata": {
	    "collapsed": true
	   },
	   "outputs": [],
"source": [
"clc \n",
"//Given that\n",
"e = 12.8 // Energy of neutron in MeV\n",
"c = 3e8 // speed of light in m/s\n",
"m = 1.675e-27 // Mass of neutron in Kg\n",
"h = 6.62e-34 // Plank constant\n",
"printf('Example 1.6')\n",
"rest_e = m*c^2/(1e6*1.6e-19)// rest mass energy of neutron in MeV\n",
"if e/rest_e < 0.015 then\n",
"    E = e;\n",
"    else E = rest_e +e;\n",
"end\n",
"lambda = h/(sqrt(2*m*e*1e6*1.6e-19)) // calculation of de Broglie wavelength\n",
"\n",
"printf('\n de Broglie wavelength of neutron is %e angstrom.\n\n\n', lambda*1e10)\n",
"// Answer in book is 8.04e-5 angstrom which is misprinted"
   ]
   }
,
{
		   "cell_type": "markdown",
		   "metadata": {},
		   "source": [
			"## Example 1.7: Calculation_of_de_Broglie_wavelength_of_electron.sce"
		   ]
		  },
  {
"cell_type": "code",
	   "execution_count": null,
	   "metadata": {
	    "collapsed": true
	   },
	   "outputs": [],
"source": [
"clc \n",
"//Given that\n",
"e = 1.632e-19 // charge on electron in coulomb\n",
"V = 50 // Applied voltage in volts\n",
"m = 9.1e-31 // Mass of electron in Kg\n",
"h = 6.62e-34 // Plank constant\n",
"printf('Example 1.7')\n",
"\n",
"lambda = h/(sqrt(2*e*V*m)) // calculation of de Broglie wavelength\n",
"printf('\n de Broglie wavelength of neutron is %f angstrom.\n\n\n', lambda*1e10)\n",
"// Answer in book is 1.735 angstrom which is misprinted"
   ]
   }
,
{
		   "cell_type": "markdown",
		   "metadata": {},
		   "source": [
			"## Example 1.9: Calculation_of_de_Broglie_wavelength_of_electron.sce"
		   ]
		  },
  {
"cell_type": "code",
	   "execution_count": null,
	   "metadata": {
	    "collapsed": true
	   },
	   "outputs": [],
"source": [
"clc \n",
"//Given that\n",
"e = 1.6e-19 // charge on electron in coulomb\n",
"V = 54 // Applied voltage in volts\n",
"m = 9.1e-31 // Mass of electron in Kg\n",
"h = 6.63e-34 // Plank constant\n",
"printf('Example 1.9')\n",
"\n",
"lambda = h/(sqrt(2*e*V*m)) // calculation of de Broglie wavelength\n",
"printf('\n de Broglie wavelength of neutron is %f angstrom.\n\n\n', lambda*1e10)"
   ]
   }
],
"metadata": {
		  "kernelspec": {
		   "display_name": "Scilab",
		   "language": "scilab",
		   "name": "scilab"
		  },
		  "language_info": {
		   "file_extension": ".sce",
		   "help_links": [
			{
			 "text": "MetaKernel Magics",
			 "url": "https://github.com/calysto/metakernel/blob/master/metakernel/magics/README.md"
			}
		   ],
		   "mimetype": "text/x-octave",
		   "name": "scilab",
		   "version": "0.7.1"
		  }
		 },
		 "nbformat": 4,
		 "nbformat_minor": 0
}
