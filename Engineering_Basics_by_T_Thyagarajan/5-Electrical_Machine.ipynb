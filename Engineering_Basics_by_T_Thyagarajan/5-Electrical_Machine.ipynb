{
"cells": [
 {
		   "cell_type": "markdown",
	   "metadata": {},
	   "source": [
       "# Chapter 5: Electrical Machine"
	   ]
	},
{
		   "cell_type": "markdown",
		   "metadata": {},
		   "source": [
			"## Example 5.10: speed_of_rotor.sce"
		   ]
		  },
  {
"cell_type": "code",
	   "execution_count": null,
	   "metadata": {
	    "collapsed": true
	   },
	   "outputs": [],
"source": [
"\n",
"//dtermine its speed when its take crnt 25 amps\n",
"Vl=250\n",
"Ra=0.05\n",
"R=0.02\n",
"Ia=30\n",
"I1=30 //Il=Ia\n",
"N1=400\n",
"E1=Vl-(Ia*Ra)-(Ia*R) \n",
"//E1=E2\n",
"I2=25\n",
"N2=(N1*E1*I1)/(E1*I2)\n",
"disp('speed of motor='+string(N2)+'rpm')"
   ]
   }
,
{
		   "cell_type": "markdown",
		   "metadata": {},
		   "source": [
			"## Example 5.11: torque.sce"
		   ]
		  },
  {
"cell_type": "code",
	   "execution_count": null,
	   "metadata": {
	    "collapsed": true
	   },
	   "outputs": [],
"source": [
"\n",
"//find the torque whn its take scurnt 60amprs\n",
"Vl=200\n",
"Il=60 //amprs\n",
"R=50\n",
"I=Vl/R  // amprs\n",
"Ia=Il-I  //amprs\n",
"f=0.03  // flux \n",
"Z=700\n",
"P=4\n",
"A=2\n",
"T=(0.159*f*Z*Ia*P)/A\n",
"disp('Torque='+string(T)+'N-m')"
   ]
   }
,
{
		   "cell_type": "markdown",
		   "metadata": {},
		   "source": [
			"## Example 5.12: number_of_turns_and_current.sce"
		   ]
		  },
  {
"cell_type": "code",
	   "execution_count": null,
	   "metadata": {
	    "collapsed": true
	   },
	   "outputs": [],
"source": [
"\n",
"//calcute the num of prim turns and prim $sec current\n",
"KVA=50\n",
"E1=6000\n",
"E2=250\n",
"N2=52\n",
"N1=N2*E1/E2\n",
"I2=KVA*1000/E2\n",
"I1=KVA*1000/E1\n",
"disp('prim current  I1 =  '+string(I1)+'    amps'  , 'sec current  I2 =  '+string(I2)+'    amps'  , 'prim num of turns  N1 =  '+string(N1)+'    turns'   )"
   ]
   }
,
{
		   "cell_type": "markdown",
		   "metadata": {},
		   "source": [
			"## Example 5.13: flux_density.sce"
		   ]
		  },
  {
"cell_type": "code",
	   "execution_count": null,
	   "metadata": {
	    "collapsed": true
	   },
	   "outputs": [],
"source": [
"\n",
"//determine the emf induced in the secondry max value of flux density\n",
"f=50\n",
"N1=350\n",
"N2=800\n",
"E1=400\n",
"E2=(N2*E1)/N1\n",
"A=75e-4\n",
"Bm=E1/(4.44*f*A*N1)\n",
"disp('flux density='+string(Bm)+'wb/m^2')"
   ]
   }
,
{
		   "cell_type": "markdown",
		   "metadata": {},
		   "source": [
			"## Example 5.14: current.sce"
		   ]
		  },
  {
"cell_type": "code",
	   "execution_count": null,
	   "metadata": {
	    "collapsed": true
	   },
	   "outputs": [],
"source": [
"\n",
"//find the magnetic nd iron loss component of current\n",
"E1=440\n",
"E2=200\n",
"I=0.2\n",
"coso=0.18\n",
"sino=sqrt(1-coso^2)\n",
"Iw=I*coso\n",
"Iu=I*sino\n",
"disp('Iw='+string(Iw)+'amps'  ,  'Iu='+string(Iu)+'amprs')"
   ]
   }
,
{
		   "cell_type": "markdown",
		   "metadata": {},
		   "source": [
			"## Example 5.15: efficiency.sce"
		   ]
		  },
  {
"cell_type": "code",
	   "execution_count": null,
	   "metadata": {
	    "collapsed": true
	   },
	   "outputs": [],
"source": [
"\n",
"//calculate teh efficiency at loads\n",
"KVA=20\n",
"Il=350\n",
"Cl=400\n",
"x=1\n",
"pf=0.8//at full load\n",
"pf1=0.4  //at half load\n",
"x1=0.5\n",
"op=KVA*1000*x\n",
"op1=KVA*1000*x1*pf1\n",
"Tl=Il+(Cl*x*x)\n",
"Tl1=Il+(Cl*x1*x1)\n",
"ip=op+Tl\n",
"ip1=op1+Tl1\n",
"%n=op/ip*100\n",
"%n1=op1/ip1*100\n",
"disp('efficiency at half load  n =  '+string(%n1)+'  '   , 'efficiency at full load  n1 =  '+string(%n)+'  '  )"
   ]
   }
,
{
		   "cell_type": "markdown",
		   "metadata": {},
		   "source": [
			"## Example 5.16: speed_and_emf.sce"
		   ]
		  },
  {
"cell_type": "code",
	   "execution_count": null,
	   "metadata": {
	    "collapsed": true
	   },
	   "outputs": [],
"source": [
"\n",
"//calculate the synchronous speed ,slip,frequncy induced emf\n",
"f=50\n",
"p=4\n",
"Ns=120*f/p\n",
"N=1460\n",
"s=(Ns-N)/Ns\n",
"f1=(s*f)\n",
"disp( 'f1='+string(f1)+'hz'  ,   's='+string(s)+' ' , 'Ns='+string(Ns)+'rpm'  )"
   ]
   }
,
{
		   "cell_type": "markdown",
		   "metadata": {},
		   "source": [
			"## Example 5.17: speed.sce"
		   ]
		  },
  {
"cell_type": "code",
	   "execution_count": null,
	   "metadata": {
	    "collapsed": true
	   },
	   "outputs": [],
"source": [
"\n",
"//determine the value of slip nd speed of motor\n",
"P=6\n",
"f=50\n",
"Ns=120*f/P\n",
"f1=1.5\n",
"s=f1/f\n",
"N=Ns*(1-s)\n",
"disp('speed of motor='+string(N)+'RPM')"
   ]
   }
,
{
		   "cell_type": "markdown",
		   "metadata": {},
		   "source": [
			"## Example 5.18: poles_speed_frequency.sce"
		   ]
		  },
  {
"cell_type": "code",
	   "execution_count": null,
	   "metadata": {
	    "collapsed": true
	   },
	   "outputs": [],
"source": [
"\n",
"//calculate the numbers of poles ,slip at full load,frequncy rotor,speed of motor\n",
"Ns=1000\n",
"N=960\n",
"f=50\n",
"P=120*f/Ns// synchronous speed\n",
"s=(Ns-N)/Ns\n",
"f1=s*f\n",
"N=Ns*(1-0.08)//speed of motor at 8% slip\n",
"disp('speed of rotor='+string(N)+'RPM')"
   ]
   }
,
{
		   "cell_type": "markdown",
		   "metadata": {},
		   "source": [
			"## Example 5.19: induced_emf.sce"
		   ]
		  },
  {
"cell_type": "code",
	   "execution_count": null,
	   "metadata": {
	    "collapsed": true
	   },
	   "outputs": [],
"source": [
"\n",
"//calculate the induced emf per phase\n",
"f=50\n",
"P=16\n",
"N=160\n",
"S=6\n",
"n=N*S\n",
"Z=n/3\n",
"F=0.025\n",
"e=2.22*F*f*Z\n",
"disp('e='+string(e)+'volts')"
   ]
   }
,
{
		   "cell_type": "markdown",
		   "metadata": {},
		   "source": [
			"## Example 5.1: determine_the_emf_induced_in_the_coil.sce"
		   ]
		  },
  {
"cell_type": "code",
	   "execution_count": null,
	   "metadata": {
	    "collapsed": true
	   },
	   "outputs": [],
"source": [
"\n",
"//P5.1   determine the induced emf in the armature\n",
"P=4;//poles\n",
"A=2;//wave wound\n",
"N=50;//number of slots\n",
"SperCondctr=24;//slots/conductor\n",
"Z=SperCondctr*N;//total conductor\n",
"N=600;//rpm....speed of armature\n",
"F=10e-3;//webers....flux/poles\n",
"E=F*Z*N*P/(60*A);//emf induced\n",
"disp('e.m.f induced is = '+string(E)+' volts');"
   ]
   }
,
{
		   "cell_type": "markdown",
		   "metadata": {},
		   "source": [
			"## Example 5.2: emf_induced_in_coil.sce"
		   ]
		  },
  {
"cell_type": "code",
	   "execution_count": null,
	   "metadata": {
	    "collapsed": true
	   },
	   "outputs": [],
"source": [
"\n",
"//P5.2   determine the induced emf in the armature\n",
"P=4;//poles\n",
"A=4;//wave wound\n",
"N=50;//number of slots\n",
"SperCondctr=24;//slots/conductor\n",
"Z=SperCondctr*N;//total conductor\n",
"N=600;//rpm....speed of armature\n",
"F=10e-3;//webers....flux/poles\n",
"E=F*Z*N*P/(60*A);//emf induced\n",
"disp('e.m.f induced is = '+string(E)+' volts');"
   ]
   }
,
{
		   "cell_type": "markdown",
		   "metadata": {},
		   "source": [
			"## Example 5.3: speed.sce"
		   ]
		  },
  {
"cell_type": "code",
	   "execution_count": null,
	   "metadata": {
	    "collapsed": true
	   },
	   "outputs": [],
"source": [
"\n",
"//determine the speed\n",
"P=6;//poles\n",
"A=2;//wave wound\n",
"Z=780;//armature conductors\n",
"F=12*10^-3;//webers..flux/poles\n",
"E=400;//volt\n",
"N=(E*60*2)/(F*Z*P);\n",
"N2=(E*60*6)/(F*Z*P);\n",
"disp('determine the speed='+string(N)+'rpm',    'determine the speed (A=P=6)='+string(N2)+'rpm');"
   ]
   }
,
{
		   "cell_type": "markdown",
		   "metadata": {},
		   "source": [
			"## Example 5.4: induced_emf.sce"
		   ]
		  },
  {
"cell_type": "code",
	   "execution_count": null,
	   "metadata": {
	    "collapsed": true
	   },
	   "outputs": [],
"source": [
"\n",
"//determine the emf induced\n",
"R=0.05;\n",
"Rs=100;\n",
"V=250;\n",
"P=10000;\n",
"I=P/V;\n",
"Is=V/Rs;\n",
"Ia=I+Is;\n",
"Eg=V+(R*Ia);\n",
"disp('emf induced='+string(Eg)+'volts');"
   ]
   }
,
{
		   "cell_type": "markdown",
		   "metadata": {},
		   "source": [
			"## Example 5.5: emf_induced.sce"
		   ]
		  },
  {
"cell_type": "code",
	   "execution_count": null,
	   "metadata": {
	    "collapsed": true
	   },
	   "outputs": [],
"source": [
"\n",
"//calculate the emf induced in the armature\n",
"Il=200\n",
"Vl=500\n",
"Ra=0.03\n",
"Rs=0.015\n",
"R=150\n",
"BCD=2  //one volt per brush\n",
"I=Vl/R\n",
"Ia=Il+I\n",
"Eg=Vl+(Ia*Ra)+(Ia*Rs)+BCD\n",
"disp('emf induced=     '+string(Eg)+'     volts');"
   ]
   }
,
{
		   "cell_type": "markdown",
		   "metadata": {},
		   "source": [
			"## Example 5.6: emf_induced.sce"
		   ]
		  },
  {
"cell_type": "code",
	   "execution_count": null,
	   "metadata": {
	    "collapsed": true
	   },
	   "outputs": [],
"source": [
"\n",
"//calculate the emf induced in the armature\n",
"Il=200\n",
"Vl=500\n",
"Ra=0.03\n",
"Rs=0.015\n",
"Is=200  //for a short shunt generator   Il=Ise\n",
"R=150\n",
"BCD=2  //one volt per brush\n",
"I=(Vl+(Is*Rs))/R\n",
"Ia=Il+I\n",
"Eg=Vl+(Ia*Ra)+(Ia*Rs)+BCD\n",
"disp('emf induced=     '+string(Eg)+'    volts'  );"
   ]
   }
,
{
		   "cell_type": "markdown",
		   "metadata": {},
		   "source": [
			"## Example 5.7: back_emf.sce"
		   ]
		  },
  {
"cell_type": "code",
	   "execution_count": null,
	   "metadata": {
	    "collapsed": true
	   },
	   "outputs": [],
"source": [
"\n",
"//calculate the back emf induced on full load\n",
"Ra=0.5  //armature resistance\n",
"Rs=250 //shunt resistance\n",
"Vl=250  //line volt\n",
"Il=40\n",
"Is=Vl/Rs \n",
"Ia=Il-Is\n",
"Eb=Vl-(Ia*Ra)\n",
"disp('emf induced=     '+string(Eb)+'    volts'  );"
   ]
   }
,
{
		   "cell_type": "markdown",
		   "metadata": {},
		   "source": [
			"## Example 5.8: power.sce"
		   ]
		  },
  {
"cell_type": "code",
	   "execution_count": null,
	   "metadata": {
	    "collapsed": true
	   },
	   "outputs": [],
"source": [
"\n",
"//find the power developed in circiut\n",
"Pl=20e3\n",
"Vl=200\n",
"Ra=0.05\n",
"R=150\n",
"I=Vl/R\n",
"Il=Pl/Vl\n",
"Ia=Il+I\n",
"Eg=Vl+(Ia*Ra)\n",
"P=Eg*Ia\n",
"disp('power developed='+string(P)+'watt')"
   ]
   }
,
{
		   "cell_type": "markdown",
		   "metadata": {},
		   "source": [
			"## Example 5.9: speed.sce"
		   ]
		  },
  {
"cell_type": "code",
	   "execution_count": null,
	   "metadata": {
	    "collapsed": true
	   },
	   "outputs": [],
"source": [
"\n",
"//calculate the speed of the machine when running\n",
"N1=1000  //speed of generator\n",
"E1=205.06  //emf generator\n",
"E2=195.06  //emf of motor\n",
"N2=(E2*N1)/E1  //speed of generator\n",
"disp('speed of motor='+string(N2)+'rpm')"
   ]
   }
],
"metadata": {
		  "kernelspec": {
		   "display_name": "Scilab",
		   "language": "scilab",
		   "name": "scilab"
		  },
		  "language_info": {
		   "file_extension": ".sce",
		   "help_links": [
			{
			 "text": "MetaKernel Magics",
			 "url": "https://github.com/calysto/metakernel/blob/master/metakernel/magics/README.md"
			}
		   ],
		   "mimetype": "text/x-octave",
		   "name": "scilab",
		   "version": "0.7.1"
		  }
		 },
		 "nbformat": 4,
		 "nbformat_minor": 0
}
