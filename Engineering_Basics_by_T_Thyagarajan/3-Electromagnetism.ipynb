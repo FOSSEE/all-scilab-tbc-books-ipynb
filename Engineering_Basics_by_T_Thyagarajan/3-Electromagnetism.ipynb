{
"cells": [
 {
		   "cell_type": "markdown",
	   "metadata": {},
	   "source": [
       "# Chapter 3: Electromagnetism"
	   ]
	},
{
		   "cell_type": "markdown",
		   "metadata": {},
		   "source": [
			"## Example 3.10: force.sce"
		   ]
		  },
  {
"cell_type": "code",
	   "execution_count": null,
	   "metadata": {
	    "collapsed": true
	   },
	   "outputs": [],
"source": [
"\n",
"//determine the pull between poles and keeper\n",
"A=15e-4\n",
"B=1.2\n",
"U=1\n",
"F=2*B*B*A/(2*4*3.14*10^-7)\n",
"disp('Total force='+string(F)+'  N')"
   ]
   }
,
{
		   "cell_type": "markdown",
		   "metadata": {},
		   "source": [
			"## Example 3.1: emf_induced.sce"
		   ]
		  },
  {
"cell_type": "code",
	   "execution_count": null,
	   "metadata": {
	    "collapsed": true
	   },
	   "outputs": [],
"source": [
"\n",
"//calculate the emf induced in the coil\n",
"N=200\n",
"F1=1e-3\n",
"F2=3e-3\n",
"F3=F2-F1\n",
"t=0.1\n",
"e=N*F3/t  //neglecting negative sign\n",
"disp('induced emf=   ' +string(e)+'  volts')"
   ]
   }
,
{
		   "cell_type": "markdown",
		   "metadata": {},
		   "source": [
			"## Example 3.2: emf_induced.sce"
		   ]
		  },
  {
"cell_type": "code",
	   "execution_count": null,
	   "metadata": {
	    "collapsed": true
	   },
	   "outputs": [],
"source": [
"\n",
"//calculate the emf inducedin a long wire\n",
"B=1.2;//weber/meter^2...flux density\n",
"V=4;//meter/second..velocity of conductor\n",
"l=2;//meter...lenght of \n",
"e=(B*V*l*1)//sin90=1\n",
"disp('emf induced in the conductor='+string(e)+'volt');"
   ]
   }
,
{
		   "cell_type": "markdown",
		   "metadata": {},
		   "source": [
			"## Example 3.3: inductance_of_the_coil.sce"
		   ]
		  },
  {
"cell_type": "code",
	   "execution_count": null,
	   "metadata": {
	    "collapsed": true
	   },
	   "outputs": [],
"source": [
"\n",
"//find the inductance of the  coil\n",
"N=1500;// number of turns\n",
"I=10;//amp...current in coil\n",
"F=.5*10^-3;//weber...flux \n",
"L=N*F/I;\n",
"disp('inductance of coil='+string(L)+'henry');"
   ]
   }
,
{
		   "cell_type": "markdown",
		   "metadata": {},
		   "source": [
			"## Example 3.4: self_inductance.sce"
		   ]
		  },
  {
"cell_type": "code",
	   "execution_count": null,
	   "metadata": {
	    "collapsed": true
	   },
	   "outputs": [],
"source": [
"\n",
"//P3.4   calculate its self induction \n",
"\n",
"Ur=1;\n",
"N=400;\n",
"l=30e-2;\n",
"A=5e-4;\n",
"U0=4e-7*%pi;\n",
"S=l/(U0*Ur*A);\n",
"L=N^2/S;\n",
"disp('Self inductance is = '+string(L)+' henry','S = '+string(S));\n",
""
   ]
   }
,
{
		   "cell_type": "markdown",
		   "metadata": {},
		   "source": [
			"## Example 3.5: inductance_and_emf_induced.sce"
		   ]
		  },
  {
"cell_type": "code",
	   "execution_count": null,
	   "metadata": {
	    "collapsed": true
	   },
	   "outputs": [],
"source": [
"\n",
"//calculat the inductance and emf induced in the coil\n",
"u=1  //air core torroidal ring\n",
"D=25e-2\n",
"l=3.14*D\n",
"N=500\n",
"d=4e-2  //cross sectional diameter\n",
"A=(3.14*d*d)/4 //cross sectional area\n",
"s=l/(4*3.14*10^-7*u*A)\n",
"L=N^2/s  // self inductance\n",
"dI=10\n",
"dt=50e-3\n",
"e=(L*dI)/dt\n",
"disp('Induced emf='  +string(e)+'   volts'  ,  'Inductance =   '+string(L)+'    henry' )"
   ]
   }
,
{
		   "cell_type": "markdown",
		   "metadata": {},
		   "source": [
			"## Example 3.6: inductance_and_emf_induced.sce"
		   ]
		  },
  {
"cell_type": "code",
	   "execution_count": null,
	   "metadata": {
	    "collapsed": true
	   },
	   "outputs": [],
"source": [
"\n",
"//calculate the induced emf in the coil\n",
"A=4e-4 //cross sectional is a squar side\n",
"u=1  //air core torroidal ring\n",
"D=25e-2\n",
"l=3.14*D\n",
"N=500\n",
"d=4e-2  //cross sectional diameter\n",
"s=l/(4*3.14*10^-7*u*A)\n",
"L=N^2/s  // self inductance\n",
"dI=10\n",
"dt=50e-3\n",
"e=(L*dI)/dt\n",
"disp('Induced emf='  +string(e)+'   volts'  ,  'Inductance =   '+string(L)+'    henry' )"
   ]
   }
,
{
		   "cell_type": "markdown",
		   "metadata": {},
		   "source": [
			"## Example 3.7: inductance_and_emf_induced.sce"
		   ]
		  },
  {
"cell_type": "code",
	   "execution_count": null,
	   "metadata": {
	    "collapsed": true
	   },
	   "outputs": [],
"source": [
"\n",
"//calculate the induced emf in coil\n",
"di=5\n",
"dt=0.05\n",
"L=5.029e-4\n",
"di1=400\n",
"dt1=1\n",
"e=L*di/dt\n",
"e1=L*di1/dt1\n",
"disp('Induced emf=   '  +string(e1)+'   volts'  ,  'Induced emf=   '  +string(e)+'   volts')"
   ]
   }
,
{
		   "cell_type": "markdown",
		   "metadata": {},
		   "source": [
			"## Example 3.8: mutual_inductance_and_emf_induced.sce"
		   ]
		  },
  {
"cell_type": "code",
	   "execution_count": null,
	   "metadata": {
	    "collapsed": true
	   },
	   "outputs": [],
"source": [
"\n",
"////calculate the mutual inductance between the two coil\n",
"N1=50\n",
"N2=400\n",
"A=150e-4\n",
"l=200e-2\n",
"u=2500\n",
"s=l/(4*3.14*10^-7*A*u)\n",
"M=(N1*N2)/s\n",
"dI1=24\n",
"dt=0.03\n",
"eM2=M*dI1/dt\n",
"disp('induced emf=   '+string(eM2)+'  volts'  , 'Mutual inductance=  '+string(M)+'  henry'  ,  's='+string(s)+'  AT/Wb')"
   ]
   }
,
{
		   "cell_type": "markdown",
		   "metadata": {},
		   "source": [
			"## Example 3.9: energy_stored.sce"
		   ]
		  },
  {
"cell_type": "code",
	   "execution_count": null,
	   "metadata": {
	    "collapsed": true
	   },
	   "outputs": [],
"source": [
"\n",
"//find the energy stored in it\n",
"L=0.5\n",
"I=2\n",
"E=0.5*L*I*I\n",
"disp('Energy stored=  '+string(E)+'  joule')"
   ]
   }
],
"metadata": {
		  "kernelspec": {
		   "display_name": "Scilab",
		   "language": "scilab",
		   "name": "scilab"
		  },
		  "language_info": {
		   "file_extension": ".sce",
		   "help_links": [
			{
			 "text": "MetaKernel Magics",
			 "url": "https://github.com/calysto/metakernel/blob/master/metakernel/magics/README.md"
			}
		   ],
		   "mimetype": "text/x-octave",
		   "name": "scilab",
		   "version": "0.7.1"
		  }
		 },
		 "nbformat": 4,
		 "nbformat_minor": 0
}
