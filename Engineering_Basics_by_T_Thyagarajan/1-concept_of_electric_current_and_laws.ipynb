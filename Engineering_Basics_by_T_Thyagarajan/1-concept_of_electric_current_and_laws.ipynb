{
"cells": [
 {
		   "cell_type": "markdown",
	   "metadata": {},
	   "source": [
       "# Chapter 1: concept of electric current and laws"
	   ]
	},
{
		   "cell_type": "markdown",
		   "metadata": {},
		   "source": [
			"## Example 1.10: resistance_of_coil.sce"
		   ]
		  },
  {
"cell_type": "code",
	   "execution_count": null,
	   "metadata": {
	    "collapsed": true
	   },
	   "outputs": [],
"source": [
"\n",
"//what is the resistance of each coil\n",
"V=200\n",
"I=25\n",
"P1=1500\n",
"R1=(V*V)/P1\n",
"R=V/I         //total resistance\n",
"R2=R*R1/(R1-R)\n",
"disp('R2='+string(R2)+'  ohms'  )"
   ]
   }
,
{
		   "cell_type": "markdown",
		   "metadata": {},
		   "source": [
			"## Example 1.11: power.sce"
		   ]
		  },
  {
"cell_type": "code",
	   "execution_count": null,
	   "metadata": {
	    "collapsed": true
	   },
	   "outputs": [],
"source": [
"\n",
"//what is the resistance of each coil\n",
"V=100\n",
"P=1500\n",
"R=(V^2/P)/2\n",
"Ra=R\n",
"Rb=R\n",
"Rc=R\n",
"R1=((Ra*Rc)/(Ra+Rc))+Rb\n",
"I=V/R1\n",
"I1=(I*Ra)/(Ra+Rc)\n",
"I2=(I*Ra)/(Ra+Rc)\n",
"Pa=I*I*Ra\n",
"Pb=I1*I1*Rb\n",
"Pc=I2*I2*Rc\n",
"disp( 'Pc='+string(Pc)+'  watts' ,  'Pb='+string(Pb)+'  watts'  ,  'Pa='+string(Pa)+'  watts')"
   ]
   }
,
{
		   "cell_type": "markdown",
		   "metadata": {},
		   "source": [
			"## Example 1.12: Bill_amount.sce"
		   ]
		  },
  {
"cell_type": "code",
	   "execution_count": null,
	   "metadata": {
	    "collapsed": true
	   },
	   "outputs": [],
"source": [
"\n",
"//determine the energy consume in a house in the month \n",
"L=3600//six lamp 1000 watt each for six days\n",
"H=3000//one haeter\n",
"M=735.5//single phase motor\n",
"F=2400//four fans 75W\n",
"T=L+H+M+F//total energy consumed in watt \n",
"TE=T*30/1000\n",
"C=0.9//cost of energy\n",
"B=TE*0.9//Bil amount\n",
"disp('B=  '+string(B)+'  ')"
   ]
   }
,
{
		   "cell_type": "markdown",
		   "metadata": {},
		   "source": [
			"## Example 1.18: resistance.sce"
		   ]
		  },
  {
"cell_type": "code",
	   "execution_count": null,
	   "metadata": {
	    "collapsed": true
	   },
	   "outputs": [],
"source": [
"\n",
"//convert the delta circuit\n",
"Rry=4\n",
"Ryb=1\n",
"Rbr=5\n",
"Rr=(Rbr*Rry)/(Rry+Rbr+Ryb)\n",
"Ry=(Rry*Ryb)/(Rry+Rbr+Ryb)\n",
"Rb=(Rbr*Ryb)/(Rry+Rbr+Ryb)\n",
"disp('Rb='+string(Rb)+  'ohms'  ,  'Ry='+string(Ry)+ '  ohms'   ,  'Rr='+string(Rr)+'  ohms')"
   ]
   }
,
{
		   "cell_type": "markdown",
		   "metadata": {},
		   "source": [
			"## Example 1.19: resistance.sce"
		   ]
		  },
  {
"cell_type": "code",
	   "execution_count": null,
	   "metadata": {
	    "collapsed": true
	   },
	   "outputs": [],
"source": [
"\n",
"//convert star circuit\n",
"Rr=2\n",
"Ry=0.67\n",
"Rb=1\n",
"Rry=(Rr*Ry)+(Ry*Rb)+(Rb*Rr)/Rb\n",
"Ryb=(Rr*Ry)+(Ry*Rb)+(Rb*Rr)/Rr\n",
"Rbr=(Rr*Ry)+(Ry*Rb)+(Rb*Rr)/Ry\n",
"disp('Rbr='+string(Rbr)+'ohms'  ,  'Ryb='+string(Ryb)+'ohms'  ,  'Rry='+string(Rry)+  'ohms')"
   ]
   }
,
{
		   "cell_type": "markdown",
		   "metadata": {},
		   "source": [
			"## Example 1.1: specific_resistance.sce"
		   ]
		  },
  {
"cell_type": "code",
	   "execution_count": null,
	   "metadata": {
	    "collapsed": true
	   },
	   "outputs": [],
"source": [
"    //find the specific resistance of the material\n",
"L =12  //meter\n",
"A=0.01*10^-4   //m^2\n",
"R=0.2  //ohm\n",
"p=R*A/L   //specific resistance\n",
"disp('value of specific resistance='+string(p)+'   ohm -meter')"
   ]
   }
,
{
		   "cell_type": "markdown",
		   "metadata": {},
		   "source": [
			"## Example 1.2: resistance.sce"
		   ]
		  },
  {
"cell_type": "code",
	   "execution_count": null,
	   "metadata": {
	    "collapsed": true
	   },
	   "outputs": [],
"source": [
"\n",
"//resistance at 40 degree\n",
"a0=0.0043\n",
"t1=27\n",
"t2=40\n",
"R1=1.5\n",
"R2=R1*(1+a0*t2)/(1+a0*t1)\n",
"disp('value of resistance='+string(R2)+ '   ohm')"
   ]
   }
,
{
		   "cell_type": "markdown",
		   "metadata": {},
		   "source": [
			"## Example 1.3: resistance_and_current.sce"
		   ]
		  },
  {
"cell_type": "code",
	   "execution_count": null,
	   "metadata": {
	    "collapsed": true
	   },
	   "outputs": [],
"source": [
"\n",
"//find the total R.I.V  \n",
"R1=5\n",
"R2=10\n",
"R3=15\n",
"V=120\n",
"R=R1+R2+R3\n",
"I=V/R\n",
"V1=I*R1\n",
"V2=I*R2\n",
"V3=I*R3\n",
"disp('Voltage V3='+string(V3)+'volts'  ,  'Voltage  V2='+string(V2)+'volt' , 'Voltage V1='+string(V1)+'volts')"
   ]
   }
,
{
		   "cell_type": "markdown",
		   "metadata": {},
		   "source": [
			"## Example 1.4: resistance.sce"
		   ]
		  },
  {
"cell_type": "code",
	   "execution_count": null,
	   "metadata": {
	    "collapsed": true
	   },
	   "outputs": [],
"source": [
"\n",
"//find the eqvivalent rasistance of series parallel combination\n",
"Rab=(2*4)/(2+4)\n",
"Rbc=(6*8)/(6+8)\n",
"Rac=Rab+Rbc\n",
"disp('rasistance across AC='+string(Rac)+'ohms')"
   ]
   }
,
{
		   "cell_type": "markdown",
		   "metadata": {},
		   "source": [
			"## Example 1.5: resistance.sce"
		   ]
		  },
  {
"cell_type": "code",
	   "execution_count": null,
	   "metadata": {
	    "collapsed": true
	   },
	   "outputs": [],
"source": [
"\n",
"//find the eqvivalent resistance of series parallel combination\n",
"Rab=4\n",
"Rbc=(12*8)/(12+8)\n",
"Rcd=(3*6)/(3+6)\n",
"Rad=Rab+Rbc+Rcd\n",
"disp('resistance across AC='+string(Rad)+'     ohms')"
   ]
   }
,
{
		   "cell_type": "markdown",
		   "metadata": {},
		   "source": [
			"## Example 1.6: resistance.sce"
		   ]
		  },
  {
"cell_type": "code",
	   "execution_count": null,
	   "metadata": {
	    "collapsed": true
	   },
	   "outputs": [],
"source": [
"\n",
"//what resistance must be connected in parallel\n",
"R1=8\n",
"R2=48/2//R1*R2/R1+R2\n",
"disp('R2='+string(R2)+'ohms')"
   ]
   }
,
{
		   "cell_type": "markdown",
		   "metadata": {},
		   "source": [
			"## Example 1.7: current.sce"
		   ]
		  },
  {
"cell_type": "code",
	   "execution_count": null,
	   "metadata": {
	    "collapsed": true
	   },
	   "outputs": [],
"source": [
"\n",
"//calculate the current I1.I2\n",
"I=12\n",
"R1=6\n",
"R2=8\n",
"I1=I*R2/(R1+R2)\n",
"I2=I*R1/(R1+R2)\n",
"disp('I1='+string(I1)+'amps'  ,   'I2 ='+string(I2)+'amps')"
   ]
   }
,
{
		   "cell_type": "markdown",
		   "metadata": {},
		   "source": [
			"## Example 1.9: current.sce"
		   ]
		  },
  {
"cell_type": "code",
	   "execution_count": null,
	   "metadata": {
	    "collapsed": true
	   },
	   "outputs": [],
"source": [
"\n",
"//find how current divide in circuit\n",
"R1=0.02\n",
"R2=0.03\n",
"I1=(10*R2)/(R1+R2)\n",
"I2=(10*R1)/(R1+R2)\n",
"disp('I2='+string(I2)+  'amps'  ,  'I1= '+string(I1)+ 'amps')"
   ]
   }
],
"metadata": {
		  "kernelspec": {
		   "display_name": "Scilab",
		   "language": "scilab",
		   "name": "scilab"
		  },
		  "language_info": {
		   "file_extension": ".sce",
		   "help_links": [
			{
			 "text": "MetaKernel Magics",
			 "url": "https://github.com/calysto/metakernel/blob/master/metakernel/magics/README.md"
			}
		   ],
		   "mimetype": "text/x-octave",
		   "name": "scilab",
		   "version": "0.7.1"
		  }
		 },
		 "nbformat": 4,
		 "nbformat_minor": 0
}
