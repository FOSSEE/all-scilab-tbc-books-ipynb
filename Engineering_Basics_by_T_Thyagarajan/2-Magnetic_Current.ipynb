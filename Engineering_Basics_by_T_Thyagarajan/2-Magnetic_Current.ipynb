{
"cells": [
 {
		   "cell_type": "markdown",
	   "metadata": {},
	   "source": [
       "# Chapter 2: Magnetic Current"
	   ]
	},
{
		   "cell_type": "markdown",
		   "metadata": {},
		   "source": [
			"## Example 2.10: exciting_current.sce"
		   ]
		  },
  {
"cell_type": "code",
	   "execution_count": null,
	   "metadata": {
	    "collapsed": true
	   },
	   "outputs": [],
"source": [
"\n",
"//calculate the total amprers turns\n",
"u=1//for air gap\n",
"F=1.2e-3//flux\n",
"A=10e-4 //area \n",
"B=F/A\n",
"H=B/(4*3.14*10^-7*u)\n",
"l=0.2e-3//air gap\n",
"S=H*l//amps turns in air gap\n",
"l1=15e-2//air gap\n",
"A1=8e-4\n",
"H1=450\n",
"S1=H1*l1\n",
"F1=0.6e-3\n",
"B1=F1/A1\n",
"H2=140\n",
"S2=H2*30e-2\n",
"TN=500\n",
"TAN=S+S1+S2\n",
"EI=TAN/TN\n",
"disp('exciting current =' +string(EI)+'amps'  )"
   ]
   }
,
{
		   "cell_type": "markdown",
		   "metadata": {},
		   "source": [
			"## Example 2.11: hysteris_loop.sce"
		   ]
		  },
  {
"cell_type": "code",
	   "execution_count": null,
	   "metadata": {
	    "collapsed": true
	   },
	   "outputs": [],
"source": [
"\n",
"//calculate the hysteris loss\n",
"A=50//area of hysterisis\n",
"H=200\n",
"B=0.2\n",
"f=50\n",
"D=10// density\n",
"M=1000// mass\n",
"V=M/D// velocity is mass /density\n",
"HL=A*H*B//.....j/m^2/cycle\n",
"HL1=A*H*B*10^-4//....j/cycle\n",
"HL2=A*H*B*50*1e-4//....j/s\n",
"\n",
"disp('Hysteresis loop = '+string(HL2)+'   j/s')"
   ]
   }
,
{
		   "cell_type": "markdown",
		   "metadata": {},
		   "source": [
			"## Example 2.1: flux_density.sce"
		   ]
		  },
  {
"cell_type": "code",
	   "execution_count": null,
	   "metadata": {
	    "collapsed": true
	   },
	   "outputs": [],
"source": [
"\n",
"//determine the fukux density\n",
"F=0.5e-3;//webers\n",
"A=4*10^-4;//meter^2\n",
"B=F/A;\n",
"disp('flux density is = '+string(B)+' Wb/m^2');"
   ]
   }
,
{
		   "cell_type": "markdown",
		   "metadata": {},
		   "source": [
			"## Example 2.2: Magnetic_field_strength.sce"
		   ]
		  },
  {
"cell_type": "code",
	   "execution_count": null,
	   "metadata": {
	    "collapsed": true
	   },
	   "outputs": [],
"source": [
"\n",
"//determine the magnetic field strenght at the centre of solinoid\n",
"I=2;//amp\n",
"L=50e-2;//meter\n",
"N=100;//turns\n",
"H=(N*I)/L;\n",
"disp('magnetic field strenght='+string(H)+'AT/m');"
   ]
   }
,
{
		   "cell_type": "markdown",
		   "metadata": {},
		   "source": [
			"## Example 2.3: reluctance_current_and.sce"
		   ]
		  },
  {
"cell_type": "code",
	   "execution_count": null,
	   "metadata": {
	    "collapsed": true
	   },
	   "outputs": [],
"source": [
"\n",
"//calculate the reluctance and current\n",
"A=5e-4\n",
"N=250\n",
"l=50e-2\n",
"F=700e-6\n",
"u=380\n",
"S=l/(4*%pi*10^-7*A*u)\n",
"I=F*S/N\n",
"disp('current='+string(I)+'amps'  , 'reluctance ='+string(S)+'AT/Wb')"
   ]
   }
,
{
		   "cell_type": "markdown",
		   "metadata": {},
		   "source": [
			"## Example 2.4: relative_permeability.sce"
		   ]
		  },
  {
"cell_type": "code",
	   "execution_count": null,
	   "metadata": {
	    "collapsed": true
	   },
	   "outputs": [],
"source": [
"\n",
"//determine the value of relative permeability of iron\n",
"D=15e-2\n",
"l=%pi*15e-2\n",
"N=450\n",
"I=2\n",
"B=1.2\n",
"u=B/(4*%pi*10^-7*N*I*l)\n",
"disp('value of relative permeability='+string(u)+'  ')"
   ]
   }
,
{
		   "cell_type": "markdown",
		   "metadata": {},
		   "source": [
			"## Example 2.5: mmf.sce"
		   ]
		  },
  {
"cell_type": "code",
	   "execution_count": null,
	   "metadata": {
	    "collapsed": true
	   },
	   "outputs": [],
"source": [
"\n",
"//calculate the mmf\n",
"l=1.5\n",
"u=1600\n",
"B=1.2\n",
"H1=B*l/(4*%pi*10^-7*u)\n",
"la=1e-3\n",
"ua=1\n",
"H2=B*la/(4*%pi*10^-7*ua)\n",
"H=H1+H2\n",
"disp('total amprs turns ='+string(H)+' AT' ,  'amprs turns='+string(H2)+' AT', 'amprs turns='+string(H1)+' AT')"
   ]
   }
,
{
		   "cell_type": "markdown",
		   "metadata": {},
		   "source": [
			"## Example 2.6: magnetising_force_relative_permeability_magnetic_flux_density.sce"
		   ]
		  },
  {
"cell_type": "code",
	   "execution_count": null,
	   "metadata": {
	    "collapsed": true
	   },
	   "outputs": [],
"source": [
"\n",
"//calculate the magnetising force relative permeability\n",
"A=5e-4\n",
"l=25e-2\n",
"N=100\n",
"I=2\n",
"F=0.3e-3\n",
"H=(N*I)/l\n",
"u=(F*l)/(N*I*A*4*3.14*10^-7)\n",
"B=(u*H*4*3.14*10^-7)\n",
"I1=5\n",
"F1=0.58e-3\n",
"H1=(N*I1)/l\n",
"u1=(F1*l)/(N*I*A*4*3.14*10^-7)\n",
"B1=(u1*H*4*3.14*10^-7)\n",
"disp('flux density B1='  +string(B1)+  'Wb/m^2'  ,'flux density  B ='  +string(B)+  'Wb/m^2' )"
   ]
   }
,
{
		   "cell_type": "markdown",
		   "metadata": {},
		   "source": [
			"## Example 2.7: Magnetising_Current.sce"
		   ]
		  },
  {
"cell_type": "code",
	   "execution_count": null,
	   "metadata": {
	    "collapsed": true
	   },
	   "outputs": [],
"source": [
"\n",
"//calculate the magnitising current\n",
"A=0.01\n",
"l=2e-3\n",
"u=1\n",
"F=800e-6\n",
"B=F/A//flux\n",
"H=B/(4*3.14*10^-7*u)\n",
"N=(H*l)\n",
"L=150e-2\n",
"v=600\n",
"f=9.6e-4\n",
"N1=(f*L)/(v*A*4*%pi*10^-7)\n",
"N2=N1+N\n",
"n=200\n",
"M=N2/n\n",
"disp( 'Magnetising current =  '+string(M)+' A'  ,  'Total amps turns=  '+string(N2)+'  AT'  , 'amps turn iron=  '+string(N1)+'  AT' , 'amps turn for air=  '+string(N)+'  AT' )"
   ]
   }
,
{
		   "cell_type": "markdown",
		   "metadata": {},
		   "source": [
			"## Example 2.8: number_of_amperes_turns.sce"
		   ]
		  },
  {
"cell_type": "code",
	   "execution_count": null,
	   "metadata": {
	    "collapsed": true
	   },
	   "outputs": [],
"source": [
"\n",
"//find the number of amprs turns required\n",
"A=25e-4\n",
"F=1.2e-3\n",
"u=1  //air path\n",
"l=0.25e-2\n",
"N=(F*l/(4*%pi*10^-7*A*u))*2  // for two air gaps\n",
"v=2000  // iron path\n",
"L=50e-2\n",
"N1=(F*L)/(v*A*4*%pi*10^-7)\n",
"N2=N+N1\n",
"disp( 'total amps turns  =    '+string(N2)+'    AT'  ,  'amps turn for air=    '+string(N1)+'    AT'  , 'amps turn for air=   '+string(N)+'   AT'  )"
   ]
   }
,
{
		   "cell_type": "markdown",
		   "metadata": {},
		   "source": [
			"## Example 2.9: ampere_turns.sce"
		   ]
		  },
  {
"cell_type": "code",
	   "execution_count": null,
	   "metadata": {
	    "collapsed": true
	   },
	   "outputs": [],
"source": [
"\n",
"//calculate the circuit current\n",
"u=1//for air gap\n",
"F=1.5e-3//flux\n",
"A=9e-4 //area \n",
"B=F/A\n",
"H=B/(4*3.14*10^-7*u)\n",
"l=4e-3//air gap\n",
"S=H*l//amps turns in air gap\n",
"l=4e-3//air gap\n",
"u1=800// for iron gap\n",
"A1=750e-6\n",
"B1=F/A1\n",
"H1=B1/(4*3.14*10^-7*u1)\n",
"l1=270e-3\n",
"S1=H1*l1\n",
"u2=1000//for P,Q,R\n",
"H2=B/(4*3.14*10^-7*u2)\n",
"Ip=135e-3\n",
"Iq=270e-3\n",
"Ir=135e-3\n",
"S2=H2*(Ip+Iq+Ir)//amps turns\n",
"TNn=S+S1+S2\n",
"TN=4000\n",
"EI=TNn/TN\n",
"disp('exciting current=   '+string(EI)+'  amps' )"
   ]
   }
],
"metadata": {
		  "kernelspec": {
		   "display_name": "Scilab",
		   "language": "scilab",
		   "name": "scilab"
		  },
		  "language_info": {
		   "file_extension": ".sce",
		   "help_links": [
			{
			 "text": "MetaKernel Magics",
			 "url": "https://github.com/calysto/metakernel/blob/master/metakernel/magics/README.md"
			}
		   ],
		   "mimetype": "text/x-octave",
		   "name": "scilab",
		   "version": "0.7.1"
		  }
		 },
		 "nbformat": 4,
		 "nbformat_minor": 0
}
