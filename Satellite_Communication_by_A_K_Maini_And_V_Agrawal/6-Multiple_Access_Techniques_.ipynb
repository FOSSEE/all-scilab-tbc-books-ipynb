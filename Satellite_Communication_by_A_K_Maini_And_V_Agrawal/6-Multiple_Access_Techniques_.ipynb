{
"cells": [
 {
		   "cell_type": "markdown",
	   "metadata": {},
	   "source": [
       "# Chapter 6: Multiple Access Techniques "
	   ]
	},
{
		   "cell_type": "markdown",
		   "metadata": {},
		   "source": [
			"## Example 6.1: TDMA_frame.sce"
		   ]
		  },
  {
"cell_type": "code",
	   "execution_count": null,
	   "metadata": {
	    "collapsed": true
	   },
	   "outputs": [],
"source": [
"// Example 6.1, page no-230\n",
"clear\n",
"clc\n",
"t=20       //TDMA frame length in ms\n",
"lc=352     //length of carrier and clock recovery frequency in bits\n",
"lu1=48     //length of unique word in bits\n",
"lo=510     //length of order wire channel in bits\n",
"lm= 256    //length of management channel in bits\n",
"lt=320     // length of transmit timming channel in bits\n",
"ls1=24     // length of service channel in bits\n",
"gt=64      // Guard time in bits\n",
"rb=2       // reference burst\n",
"\n",
"lr=lc+lu1+lo+lm+lt\n",
"tb=lc+lu1+lo+ls1\n",
"tob=(lr*rb)+(tb*t)+((t+rb)*gt)\n",
"printf('(a)\nThe length of reference burst(from given data) is %d bits\n\n(b)\nThe length of traffic burst premable(from given data)is %d bits\n\n(c)\nTotal number of overhead bits is %d bits',lr,tb,tob)"
   ]
   }
,
{
		   "cell_type": "markdown",
		   "metadata": {},
		   "source": [
			"## Example 6.2: Frame_efficiency.sce"
		   ]
		  },
  {
"cell_type": "code",
	   "execution_count": null,
	   "metadata": {
	    "collapsed": true
	   },
	   "outputs": [],
"source": [
"// Example 6.2, page no-230\n",
"clear\n",
"clc\n",
"t=20       //TDMA frame length in ms\n",
"lc=352     //length of carrier and clock recovery frequency in bits\n",
"lu1=48     //length of unique word in bits\n",
"lo=510     //length of order wire channel in bits\n",
"lm= 256    //length of management channel in bits\n",
"lt=320     // length of transmit timming channel in bits\n",
"ls1=24     // length of service channel in bits\n",
"gt=64      // Guard time in bits\n",
"rb=2       // reference burst\n",
"br=90*10^6 //burst bit rate 90Mbps\n",
"\n",
"bfr=br*t*10^-3\n",
"lr=lc+lu1+lo+lm+lt\n",
"tb=lc+lu1+lo+ls1\n",
"tob=(lr*rb)+(tb*t)+((t+rb)*gt)\n",
"feff=(bfr-tob)*100/bfr\n",
"feff=ceil(feff*100)/100\n",
"printf('Frame efficiency = %.2f%%',feff)"
   ]
   }
,
{
		   "cell_type": "markdown",
		   "metadata": {},
		   "source": [
			"## Example 6.3: TDMA_Frame.sce"
		   ]
		  },
  {
"cell_type": "code",
	   "execution_count": null,
	   "metadata": {
	    "collapsed": true
	   },
	   "outputs": [],
"source": [
"// Example 6.2, page no-230\n",
"clear\n",
"clc\n",
"t=20       //TDMA frame length in ms\n",
"lc=352     //length of carrier and clock recovery frequency in bits\n",
"lu1=48     //length of unique word in bits\n",
"lo=510     //length of order wire channel in bits\n",
"lm= 256    //length of management channel in bits\n",
"lt=320     // length of transmit timming channel in bits\n",
"ls1=24     // length of service channel in bits\n",
"gt=64      // Guard time in bits\n",
"rb=2       // reference burst\n",
"br=90*10^6 //burst bit rate 90Mbps\n",
"dr= 64*10^3  //data rate 64 kbps\n",
"bfr=br*t*10^-3\n",
"lr=lc+lu1+lo+lm+lt\n",
"tb=lc+lu1+lo+ls1\n",
"tob=(lr*rb)+(tb*t)+((t+rb)*gt)\n",
"feff=(bfr-tob)*100/bfr\n",
"feff=ceil(feff*100)/100\n",
"vsb=dr*t*10^-3\n",
"x=bfr*feff/100\n",
"printf('The number of bits in a frame for a voice sub-burst is %d\n\n The total no of bits available in a frame for carrying traffic is %d\n\n Maximum no of PCM voice channels in a frame is %d channels',vsb,x,x/vsb)"
   ]
   }
,
{
		   "cell_type": "markdown",
		   "metadata": {},
		   "source": [
			"## Example 6.4: Doppler_Shift.sce"
		   ]
		  },
  {
"cell_type": "code",
	   "execution_count": null,
	   "metadata": {
	    "collapsed": true
	   },
	   "outputs": [],
"source": [
"// Example 6.4, page no-231\n",
"clear\n",
"clc\n",
"\n",
"R=42150      //orbital radius of satellite\n",
"oi=0.25/100  // orbit inclination\n",
"acc=0.3      //error of 0.3 degree\n",
"c=3*10^8     // speed of light\n",
"x=oi*R\n",
"x=ceil(x*10)/10\n",
"y=R*2*%pi*acc/360\n",
"y=ceil(y*10)/10\n",
"z=sqrt(x^2+y^2)\n",
"z=ceil(z*10)/10\n",
"delay=z*10^6/c\n",
"delay=floor(delay*1000)/1000\n",
"pd=2*delay\n",
"printf('variation in alitude caused byorbit inclination = %.1fkm\n variation due to station-keeping error of 0.3° = %.1fkm',x,y)\n",
"printf('\n Both these errors will introduce a maximum range variation of %.1fkm\n This cause a one-way propagation delay of %.3fms\n Round trip propagation delay =%.2fms\n Dopler Shift = %.2f ms in 8h=56.25 ns/s',z,delay,delay*2,pd)\n",
""
   ]
   }
,
{
		   "cell_type": "markdown",
		   "metadata": {},
		   "source": [
			"## Example 6.5: Chip_Duration_and_chip_rate.sce"
		   ]
		  },
  {
"cell_type": "code",
	   "execution_count": null,
	   "metadata": {
	    "collapsed": true
	   },
	   "outputs": [],
"source": [
"// Example 6.5, page no-238\n",
"clear\n",
"clc\n",
"\n",
"de=40        //Doppler effect variation due to station-keeping errors in ns/s\n",
"d=280        //Sttelite round trip delay in ms\n",
"c=20/100     // DS-CDMA signals should not exceed 20% of the chip duration\n",
"\n",
"te=de*10^-9*d*10^-3\n",
"tc=te/c\n",
"printf('Chip Duration, Tc = %.0f ns \n This gives maximum chip rate as (1/56)Gbps = 1000/56 Mbps = %.3f Mbps',tc*10^9,1000/56)"
   ]
   }
,
{
		   "cell_type": "markdown",
		   "metadata": {},
		   "source": [
			"## Example 6.6: Maximum_Permissible_Doppler_Effect.sce"
		   ]
		  },
  {
"cell_type": "code",
	   "execution_count": null,
	   "metadata": {
	    "collapsed": true
	   },
	   "outputs": [],
"source": [
"// Example 6.6, page no-238\n",
"clear\n",
"clc\n",
"\n",
"cr=25           //Chip rate is 25 Mbps\n",
"c=20/100        // DS-CDMA signals should not exceed 20% of the chip duration\n",
"d=1000/cr       //chip duration in ns\n",
"tr=c*d\n",
"x=tr/(280*10^-3)\n",
"printf('The maximum allowable timing error per satellite round trip is %.0f ns\n This %.0f ns error is to occur in 280 ms.\n Therefore, maximum permissible Dopler effect variation is %.2f ns/s',tr,tr,x)"
   ]
   }
,
{
		   "cell_type": "markdown",
		   "metadata": {},
		   "source": [
			"## Example 6.7: Noise_reductio.sce"
		   ]
		  },
  {
"cell_type": "code",
	   "execution_count": null,
	   "metadata": {
	    "collapsed": true
	   },
	   "outputs": [],
"source": [
"// Example 6.7, page no-238\n",
"clear\n",
"clc\n",
"cr=20*10^6           //chip rate in Mbps\n",
"ir= 20*10^3          //information bit rate \n",
"g=10*log10((cr)/(ir))\n",
"printf('Noise reduction achhievable = Processing gain = %.0f dB',g)"
   ]
   }
],
"metadata": {
		  "kernelspec": {
		   "display_name": "Scilab",
		   "language": "scilab",
		   "name": "scilab"
		  },
		  "language_info": {
		   "file_extension": ".sce",
		   "help_links": [
			{
			 "text": "MetaKernel Magics",
			 "url": "https://github.com/calysto/metakernel/blob/master/metakernel/magics/README.md"
			}
		   ],
		   "mimetype": "text/x-octave",
		   "name": "scilab",
		   "version": "0.7.1"
		  }
		 },
		 "nbformat": 4,
		 "nbformat_minor": 0
}
