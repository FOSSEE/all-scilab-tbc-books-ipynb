{
"cells": [
 {
		   "cell_type": "markdown",
	   "metadata": {},
	   "source": [
       "# Chapter 4: Satellite Hardware"
	   ]
	},
{
		   "cell_type": "markdown",
		   "metadata": {},
		   "source": [
			"## Example 4.10: null_to_null_beam_width.sce"
		   ]
		  },
  {
"cell_type": "code",
	   "execution_count": null,
	   "metadata": {
	    "collapsed": true
	   },
	   "outputs": [],
"source": [
"// Example 4.10, page no-154\n",
"clear\n",
"clc\n",
"\n",
"beam_w=0.4   //antenna's 3dB beam width\n",
"Ae=5         //Effective Aperture of Antenna\n",
"\n",
"printf('The null-to-null beam width of a paraboloid reflector is twice its 3dB beam width. \n Therefore, Null-to-null beam width = %.1f°',2*beam_w)"
   ]
   }
,
{
		   "cell_type": "markdown",
		   "metadata": {},
		   "source": [
			"## Example 4.11: received_signal_strength.sce"
		   ]
		  },
  {
"cell_type": "code",
	   "execution_count": null,
	   "metadata": {
	    "collapsed": true
	   },
	   "outputs": [],
"source": [
"// Example 4.11, page no-154\n",
"clear\n",
"clc\n",
"d=20         //received signal strenth in dB\n",
"loss=3       //incident polarization is circular and antenna is circularly polarized\n",
"theta=60    //received wave making angle with horizontal\n",
"total=d+loss\n",
"los=d*log10(1/cosd(theta))\n",
"\n",
"printf('(a)\n When received polarization is same as antenna \n polarization,thepolarization loss is zero.\n Therefore, received sinal strenth = %ddB',total)\n",
"printf('\n\n(b)\n When the incident wave is vertically polarized,\n the angle between incident polarization and antenna polarization is 90°\n Hence, Polarization loss = infinity\n received signal strength = 0')\n",
"printf('\n\n(c)\n When incident wave is left-hand circularly polarized\n and antenna polarization is linear,\n then there is polarization loss of %ddB and\n received signal strength is %ddB',loss,d)\n",
"printf('\n\n(d)\n Polarization loss = %ddB \n Received signal strength = %ddB',los,ceil(total-los))"
   ]
   }
,
{
		   "cell_type": "markdown",
		   "metadata": {},
		   "source": [
			"## Example 4.12: gain_and_beam_width.sce"
		   ]
		  },
  {
"cell_type": "code",
	   "execution_count": null,
	   "metadata": {
	    "collapsed": true
	   },
	   "outputs": [],
"source": [
"// Example 4.12, page no-155\n",
"clear\n",
"clc\n",
"Ea=1        //effective aperture\n",
"f=11.95*10^9    //downlink operating frequency\n",
"c=3*10^8  //speed of light\n",
"\n",
"Ae=floor((%pi*1000*Ea^2)/4)/1000\n",
"lamda=floor(c*1000/f)/1000\n",
"ag=floor(100*4*%pi*Ae/lamda^2)/100\n",
"adb=floor(100*10*log10(ag))/100\n",
"width=70*lamda/Ea\n",
"printf('Operating wavelength = %.3fm\n Antenna Gain = %.2f\n Antenna Gain in dB = %.2fdB\n 3dB beam width = %.2f°',lamda,ag,adb,width)"
   ]
   }
,
{
		   "cell_type": "markdown",
		   "metadata": {},
		   "source": [
			"## Example 4.13: beam_width.sce"
		   ]
		  },
  {
"cell_type": "code",
	   "execution_count": null,
	   "metadata": {
	    "collapsed": true
	   },
	   "outputs": [],
"source": [
"// Example 4.13, page no-155\n",
"clear\n",
"clc\n",
"f=2.0          //reflector focal length\n",
"d=2.0          // reflector diameter\n",
"l=90/100       //90% of the angle \n",
"theta=4*(atand(1/(4*f/d)))\n",
"theta=4*atand(0.25007)    // this value gives exact answer as in book\n",
"dbw=l*theta\n",
"printf('The angle subtended by the focal point feed\n at the edges of the reflector is, theeta = %.2f°\n\n 3dB beam width = %.2f°\n null-to-null beam width = % .2f°',theta,dbw,floor(200*dbw)/100)"
   ]
   }
,
{
		   "cell_type": "markdown",
		   "metadata": {},
		   "source": [
			"## Example 4.14: phase_angle.sce"
		   ]
		  },
  {
"cell_type": "code",
	   "execution_count": null,
	   "metadata": {
	    "collapsed": true
	   },
	   "outputs": [],
"source": [
"// Example 4.14, page no-155\n",
"clear\n",
"clc\n",
"c=3*10^8   //speed of light \n",
"f=2.5*10^9 //operating frequency\n",
"s=0.1      //inter element spacing\n",
"theta =10  //10° right towards array axis\n",
"l=c/f\n",
"fi=(360*s/l)*ceil(10000*sind(theta))/10000\n",
"fi=ceil(10*fi)/10\n",
"printf('The phase angle for elements 1,2,3,4 and 5 \n are respecively 0°,%.1f°,%.1f°,%.1f° and %.1f°',fi,2*fi,3*fi,4*fi)"
   ]
   }
,
{
		   "cell_type": "markdown",
		   "metadata": {},
		   "source": [
			"## Example 4.15: Earth_station_EIRP.sce"
		   ]
		  },
  {
"cell_type": "code",
	   "execution_count": null,
	   "metadata": {
	    "collapsed": true
	   },
	   "outputs": [],
"source": [
"// Example 4.15, page no-156\n",
"clear\n",
"clc\n",
"\n",
"p=10000       //power fed to the antenna in W\n",
"ag=60          //Antenna gain\n",
"loss=2         //Power lossin feed system\n",
"adb=10*log10(p)\n",
"EIRP=adb+ag-loss\n",
"printf('Earth station EIRP = %ddB',EIRP)"
   ]
   }
,
{
		   "cell_type": "markdown",
		   "metadata": {},
		   "source": [
			"## Example 4.1: Ejection_velocity.sce"
		   ]
		  },
  {
"cell_type": "code",
	   "execution_count": null,
	   "metadata": {
	    "collapsed": true
	   },
	   "outputs": [],
"source": [
"// Example 4.1, page no-122\n",
"clear\n",
"clc\n",
"\n",
"\n",
"I=250     //specific impulse of a propellant\n",
"g=9.807   // acceleration due to gravity\n",
"\n",
"v=I*g\n",
"printf('Ejection velocity of the propellant mass is, v= %.2f m/s',v)"
   ]
   }
,
{
		   "cell_type": "markdown",
		   "metadata": {},
		   "source": [
			"## Example 4.2: Mass_of_propellant_to_be_burnt.sce"
		   ]
		  },
  {
"cell_type": "code",
	   "execution_count": null,
	   "metadata": {
	    "collapsed": true
	   },
	   "outputs": [],
"source": [
"// Example 4.2, page no-122\n",
"clear\n",
"clc\n",
"\n",
"m=4330      //initial mass of the satellite\n",
"i=290       //specific impulse of a propellant\n",
"del_v=-100   //velocity increment\n",
"g=9.807     // acceleration due to gravity\n",
"\n",
"m1=m*(1-exp(del_v/(g*i)))\n",
"printf('Mass of propellant necessary to be burnt is, m= %.0fkg',ceil(m1))"
   ]
   }
,
{
		   "cell_type": "markdown",
		   "metadata": {},
		   "source": [
			"## Example 4.3: Mass_of_propellant_to_be_burnt.sce"
		   ]
		  },
  {
"cell_type": "code",
	   "execution_count": null,
	   "metadata": {
	    "collapsed": true
	   },
	   "outputs": [],
"source": [
"// Example 4.3, page no-123\n",
"clear\n",
"clc\n",
"\n",
"m=2950      //initial mass of the satellite\n",
"F=450       //required thrust\n",
"T=10        // thrust for time period\n",
"i=300       //specific impulse of a propellant\n",
"g=9.807     // acceleration due to gravity\n",
"\n",
"mi=F*T/(i*g)\n",
"printf('Mass of propellant that would be consumed is, m=%.2fkg',mi)"
   ]
   }
,
{
		   "cell_type": "markdown",
		   "metadata": {},
		   "source": [
			"## Example 4.5: Required_no_of_solar_cells.sce"
		   ]
		  },
  {
"cell_type": "code",
	   "execution_count": null,
	   "metadata": {
	    "collapsed": true
	   },
	   "outputs": [],
"source": [
"// Example 4.5, page no-134\n",
"clear\n",
"clc\n",
"\n",
"p=2000      //electrical energy to be generated from solar panel in Watt\n",
"fi=1250     // solar flux falling normally to the solar cell in worst case\n",
"s=4*10^-4    // Area of each solar cell\n",
"e=0.15       //conversion efficiency of solar cell includingthe losses\n",
"theta=10     // angle made by rays of sun with normal \n",
"\n",
"n=p/(fi*s*e)\n",
"n1=ceil(n)*%pi\n",
"n2=ceil(n1)/cosd(theta)\n",
"printf('Required no of solar cells, n = %.0f cells',ceil(n1))\n",
"printf('\n No of cells when sunrays are making an angle of 10° are %.0f',ceil(n2))"
   ]
   }
,
{
		   "cell_type": "markdown",
		   "metadata": {},
		   "source": [
			"## Example 4.6: Mass_of_battery_system.sce"
		   ]
		  },
  {
"cell_type": "code",
	   "execution_count": null,
	   "metadata": {
	    "collapsed": true
	   },
	   "outputs": [],
"source": [
"// Example 4.6, page no-134\n",
"clear\n",
"clc\n",
"\n",
"p=3600       //Power required\n",
"t=1.2        //worst case eclipse period\n",
"c=90         //capacity of each cell in Ah\n",
"v=1.3        //voltage of each cell in V\n",
"d=0.8        // Depth of discharge\n",
"e=0.95       //Discharge efficiency\n",
"E_sp=60      //specific energy specification of the battery\n",
"\n",
"energy=p*t\n",
"n=energy/(c*v*d*e)\n",
"E_b=energy/(d*e)\n",
"m=E_b/E_sp\n",
"printf('No of cells, n= %.0f cells\n Energy required to be stored in the battery system is %.1f Wh\n Mass of battery system = %.2f kg',n,E_b,m)"
   ]
   }
,
{
		   "cell_type": "markdown",
		   "metadata": {},
		   "source": [
			"## Example 4.7: Antenna_Gain.sce"
		   ]
		  },
  {
"cell_type": "code",
	   "execution_count": null,
	   "metadata": {
	    "collapsed": true
	   },
	   "outputs": [],
"source": [
"// Example 4.7, page no-153\n",
"clear\n",
"clc\n",
"\n",
"theta=0.5       //azimuth beam width=Elevation beam width\n",
"f=6*10^9       // operating frequency 6 Ghz\n",
"c=3*10^8      //speed of light in cm/s\n",
"theta_r=theta*%pi/180\n",
"theta_r=ceil(theta_r*10^5)/10^5\n",
"A=4*%pi/(theta_r^2)\n",
"A=ceil(A*100)/100\n",
"A_dB=10*log10(A)\n",
"lambda=c/f\n",
"Ag=(A*lambda^2)/(4*%pi)\n",
"\n",
"printf('\nGain in dB = %.2f dB \nAntenna gain expressed in terms of\nantenna aperture(A) is given by G = %.2f m^2',A_dB,Ag)"
   ]
   }
,
{
		   "cell_type": "markdown",
		   "metadata": {},
		   "source": [
			"## Example 4.8: Aperture_efficiency_and_effective_aperture.sce"
		   ]
		  },
  {
"cell_type": "code",
	   "execution_count": null,
	   "metadata": {
	    "collapsed": true
	   },
	   "outputs": [],
"source": [
"// Example 4.8, page no-153\n",
"clear\n",
"clc\n",
"\n",
"la=0.5      //length efficiency in azimuth direction\n",
"le=0.7      //length efficiency in elevation direction \n",
"A=10        // Actual projected area of an antenna\n",
"\n",
"Ae=la*le\n",
"Aee=Ae*A\n",
"printf('Aperture efficiency = %.2f \n Effective Aperture = %.1f m^2',Ae,Aee)"
   ]
   }
,
{
		   "cell_type": "markdown",
		   "metadata": {},
		   "source": [
			"## Example 4.9: Directivity.sce"
		   ]
		  },
  {
"cell_type": "code",
	   "execution_count": null,
	   "metadata": {
	    "collapsed": true
	   },
	   "outputs": [],
"source": [
"// Example 4.9, page no-154\n",
"clear\n",
"clc\n",
"\n",
"p=100        //Antenna power in W\n",
"pd=10        //Power Density in mW/m^2\n",
"d=1000       //distance in m\n",
"p2=10000     // New antenna power\n",
"directivity=10*log10(p2/p)\n",
"printf('Directivity (in dB)= %d dB',directivity)"
   ]
   }
],
"metadata": {
		  "kernelspec": {
		   "display_name": "Scilab",
		   "language": "scilab",
		   "name": "scilab"
		  },
		  "language_info": {
		   "file_extension": ".sce",
		   "help_links": [
			{
			 "text": "MetaKernel Magics",
			 "url": "https://github.com/calysto/metakernel/blob/master/metakernel/magics/README.md"
			}
		   ],
		   "mimetype": "text/x-octave",
		   "name": "scilab",
		   "version": "0.7.1"
		  }
		 },
		 "nbformat": 4,
		 "nbformat_minor": 0
}
