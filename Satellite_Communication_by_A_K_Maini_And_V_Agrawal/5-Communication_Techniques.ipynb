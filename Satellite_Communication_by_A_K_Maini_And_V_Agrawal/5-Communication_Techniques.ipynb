{
"cells": [
 {
		   "cell_type": "markdown",
	   "metadata": {},
	   "source": [
       "# Chapter 5: Communication Techniques"
	   ]
	},
{
		   "cell_type": "markdown",
		   "metadata": {},
		   "source": [
			"## Example 5.10: Daviation_ratio_and_Bandwidth.sce"
		   ]
		  },
  {
"cell_type": "code",
	   "execution_count": null,
	   "metadata": {
	    "collapsed": true
	   },
	   "outputs": [],
"source": [
"// Example 5.10, page no-192 \n",
"clear\n",
"clc\n",
"\n",
"fd=75     //Maximum allowed frequency deviation in kHz\n",
"fm=15     //Highest modulating frequency in kHz\n",
"\n",
"D=fd/fm\n",
"bw=2*(D+1)*fm\n",
"printf('Deviation Ratio, D = %.0f\n Bandwidth = %.0f kHz',D,bw)"
   ]
   }
,
{
		   "cell_type": "markdown",
		   "metadata": {},
		   "source": [
			"## Example 5.11: Sampling_level_quantizing_levels_and_no_of_bits.sce"
		   ]
		  },
  {
"cell_type": "code",
	   "execution_count": null,
	   "metadata": {
	    "collapsed": true
	   },
	   "outputs": [],
"source": [
"// Example 5.11, page no-199\n",
"clear\n",
"clc\n",
"\n",
"fm=3200        //highest frequency component in message signal\n",
"k=48000        //channel capacity in b/s\n",
"fs=2*fm\n",
"n=k/fs\n",
"n=floor(n)\n",
"printf('n = %.0f\n L = 2^7 = %.0f\n fs = %.3f kHz',n,2^7,(k/7)/1000)"
   ]
   }
,
{
		   "cell_type": "markdown",
		   "metadata": {},
		   "source": [
			"## Example 5.12: Nyquist_rate.sce"
		   ]
		  },
  {
"cell_type": "code",
	   "execution_count": null,
	   "metadata": {
	    "collapsed": true
	   },
	   "outputs": [],
"source": [
"// Example 5.12, page no-199\n",
"clear\n",
"clc\n",
"\n",
"//rearrangin equation and comparing it with standard equation we have,\n",
"f=2500           //Highest frequency component in the signal in Hz\n",
"printf('Nyquist rate = 2 x f\n\t      = %.0f Hz = %.0f kHz',2*f,2*f/1000)"
   ]
   }
,
{
		   "cell_type": "markdown",
		   "metadata": {},
		   "source": [
			"## Example 5.13: bits_per_sample_and_time_duration_for_one_bit.sce"
		   ]
		  },
  {
"cell_type": "code",
	   "execution_count": null,
	   "metadata": {
	    "collapsed": true
	   },
	   "outputs": [],
"source": [
"// Example 5.13, page no-199\n",
"clear\n",
"clc\n",
"\n",
"l=128       //no of Quantizing levels\n",
"fs=10000     //sampling frequency in Hz\n",
"n= log2(l)\n",
"t=1/(n*fs)\n",
"printf('Number of bits per sample (n) = %.0f\n Time duration of one bit of binary encoded signal is  %.3f micro second',n,t*10^6)"
   ]
   }
,
{
		   "cell_type": "markdown",
		   "metadata": {},
		   "source": [
			"## Example 5.15: Sampling_rate_and_sampling_interval.sce"
		   ]
		  },
  {
"cell_type": "code",
	   "execution_count": null,
	   "metadata": {
	    "collapsed": true
	   },
	   "outputs": [],
"source": [
"//Example 5.15, page no-208\n",
"clear\n",
"clc\n",
"\n",
"f1=2.4        //first signal frequency\n",
"f2=3.2        //2nd signal frequency\n",
"f3=3.4        //3rd signal frequency\n",
"\n",
"//minimum sampling rate for each of the signals would be twice the highest frequency component\n",
"\n",
"\n",
"sr=3*(f3*2)\n",
"st=10^6/(sr*10^3)\n",
"printf('Sampling rate of the composite signal = %.1f kHz \n Sampling interval of the composite signal = %.0f micro second',sr,st)"
   ]
   }
,
{
		   "cell_type": "markdown",
		   "metadata": {},
		   "source": [
			"## Example 5.16: Bit_duration_and_Transmission_Rate.sce"
		   ]
		  },
  {
"cell_type": "code",
	   "execution_count": null,
	   "metadata": {
	    "collapsed": true
	   },
	   "outputs": [],
"source": [
"//Example 5.16, page no-209\n",
"clear\n",
"clc\n",
"\n",
"bw=3.2          // voice channel band limited frequency in kHz\n",
"r=1.2           //1.2 times the Nyquist rate\n",
"n=24            //no of  voice channel\n",
"b=8             // 8-bit PCM\n",
"sr=2*bw*r\n",
"p=10^6/(sr*10^3)\n",
"N=(n*b)+1\n",
"bit_d=p/N\n",
"bit_d=ceil(bit_d*1000)/1000\n",
"tr=1/bit_d\n",
"\n",
"printf('Number of bits in each frame = %.0f \n Bit duration = %.3f micro second \n Transmission rate = %.3f Mbps',N,bit_d,ceil(tr*1000)/1000)"
   ]
   }
,
{
		   "cell_type": "markdown",
		   "metadata": {},
		   "source": [
			"## Example 5.1: Power_Saving.sce"
		   ]
		  },
  {
"cell_type": "code",
	   "execution_count": null,
	   "metadata": {
	    "collapsed": true
	   },
	   "outputs": [],
"source": [
"// Example 5.1, page no-174 \n",
"clear\n",
"clc\n",
"//for case (a)\n",
"m=0.5           //modulation index\n",
"//for AM\n",
"pt1=(1+(m^2)/2)\n",
"\n",
"//for SSBSC\n",
"pt2=(m^2)/4\n",
"\n",
"//% power saving\n",
"p=(pt1-pt2)*100/pt1\n",
"p=floor(p*10)/10\n",
"printf('Percentage power saving is %.1f%%',p)\n",
"\n",
"//for case (b)\n",
"m=1           //modulation index\n",
"//for AM\n",
"pt1=(1+(m^2)/2)\n",
"\n",
"//for SSBSC\n",
"pt2=(m^2)/4\n",
"\n",
"//% power saving\n",
"p=(pt1-pt2)*100/pt1\n",
"p=floor(p*10)/10\n",
"printf('\n Percentage power saving is %.1f%%',p)"
   ]
   }
,
{
		   "cell_type": "markdown",
		   "metadata": {},
		   "source": [
			"## Example 5.2: Total_Power_in_the_modulated_signal.sce"
		   ]
		  },
  {
"cell_type": "code",
	   "execution_count": null,
	   "metadata": {
	    "collapsed": true
	   },
	   "outputs": [],
"source": [
"// Example 5.2, page no-174 \n",
"clear\n",
"clc\n",
"\n",
"pc=500       //energy of carrier signal\n",
"m=0.6       //AM modulation index\n",
"//for (a)\n",
"pt=pc*(1+(m^2)/2)\n",
"\n",
"//for (b)\n",
"pt2=pc*(m^2)/4\n",
"\n",
"printf('(a)\n A3E is the double side band AM with full carrier.\n Therefore, Pt= %.0f W\n\n (b)\n J3E is an SSBSC system.\n Therefore, Pt= %.0f W',pt,pt2)"
   ]
   }
,
{
		   "cell_type": "markdown",
		   "metadata": {},
		   "source": [
			"## Example 5.3: Percentage_power_saving.sce"
		   ]
		  },
  {
"cell_type": "code",
	   "execution_count": null,
	   "metadata": {
	    "collapsed": true
	   },
	   "outputs": [],
"source": [
"// Example 5.3, page no-175 \n",
"clear\n",
"clc\n",
"\n",
"m=0.6           //60% modulation\n",
"//for A3E\n",
"pt1=(1+(m^2)/2)\n",
"\n",
"//for J3E\n",
"pt2=(m^2)/4\n",
"\n",
"//% power saving\n",
"p=(pt1-pt2)*100/pt1\n",
"p=ceil(p*10)/10\n",
"printf('Percentage power saving is %.2f%%',p)"
   ]
   }
,
{
		   "cell_type": "markdown",
		   "metadata": {},
		   "source": [
			"## Example 5.4: Carrier_Frequency.sce"
		   ]
		  },
  {
"cell_type": "code",
	   "execution_count": null,
	   "metadata": {
	    "collapsed": true
	   },
	   "outputs": [],
"source": [
"// Example 5.4, page no-175 \n",
"clear\n",
"clc\n",
"\n",
"//multiplication of two signals gives AM with frequency component(wc-wm) and (wc+wm) and its BW is 2wm\n",
"bw=0.5/100      //bw is 0.5% of carrier freq. \n",
"wc=2/bw\n",
"printf('Wc = %.0fWm',wc)"
   ]
   }
,
{
		   "cell_type": "markdown",
		   "metadata": {},
		   "source": [
			"## Example 5.5: modulation_parameters.sce"
		   ]
		  },
  {
"cell_type": "code",
	   "execution_count": null,
	   "metadata": {
	    "collapsed": true
	   },
	   "outputs": [],
"source": [
"// Example 5.5, page no-190 \n",
"clear\n",
"clc\n",
"\n",
"//comparing given equation with stanard equation\n",
"m=6               //Modulation Index\n",
"wc=7.8*10^8       //unmodulated carrier frequency\n",
"wm=1450           //Modulating frequency\n",
"\n",
"fc=wc/(2*%pi)\n",
"fm=wm/(2*%pi)\n",
"printf('Unmodulated carrier frequency, fc = %.2f MHz \n The modulation index m = %d \n Modulating frequency, fm = %.2f Hz',fc/10^6,m,fm)"
   ]
   }
,
{
		   "cell_type": "markdown",
		   "metadata": {},
		   "source": [
			"## Example 5.6: maximum_phase_and_frequency_deviation.sce"
		   ]
		  },
  {
"cell_type": "code",
	   "execution_count": null,
	   "metadata": {
	    "collapsed": true
	   },
	   "outputs": [],
"source": [
"// Example 5.6, page no-190 \n",
"clear\n",
"clc\n",
"\n",
"printf('comparing given equation with stanard equation, we have,\n Maximum phase deviation  = 6 radian\n Maximum frequency deviation = 12*3.14*10^3 radian/s = 6 KHz')"
   ]
   }
,
{
		   "cell_type": "markdown",
		   "metadata": {},
		   "source": [
			"## Example 5.7: frequency_deviation_and_Bandwidth.sce"
		   ]
		  },
  {
"cell_type": "code",
	   "execution_count": null,
	   "metadata": {
	    "collapsed": true
	   },
	   "outputs": [],
"source": [
"// Example 5.7, page no-191 \n",
"clear\n",
"clc\n",
"\n",
"//comparing given equation with stanard equation\n",
"mf=150            //modulation index\n",
"fm=1              // modulating frequency in KHz\n",
"fd=mf*fm\n",
"bw=2*(mf+1)*fm\n",
"printf('frequency deviation = %.0f kHz\n Bandwidth = %.0f kHz \n\n Expression for instantaneous frequency is given by, \n f = 10^8-150*(10^3)*sin(2*3.14*10^3*t)',fd,bw)"
   ]
   }
,
{
		   "cell_type": "markdown",
		   "metadata": {},
		   "source": [
			"## Example 5.8: modulation_index_and_Bandwidth.sce"
		   ]
		  },
  {
"cell_type": "code",
	   "execution_count": null,
	   "metadata": {
	    "collapsed": true
	   },
	   "outputs": [],
"source": [
"// Example 5.8, page no-191 \n",
"clear\n",
"clc\n",
"\n",
"\n",
"fd=50          //frequency deviation in kHz\n",
"fm=1           //modulating frequency in kHz for case 1\n",
"fm2=100        //modulating frequency in kHz for case 2\n",
"\n",
"//for casse 1\n",
"m=fd/fm\n",
"bw=2*(m+1)*fm\n",
"//for case 2\n",
"m2=fd/fm2\n",
"bw2=2*(m2+1)*fm2\n",
"\n",
"printf('For first case\n Modulation index = %.0f \n Bandwidth = %.0f kHz \n\n For second case\n Modulation index = %.1f \n Bandwidth = %.0f kHz',m,bw,m2,bw2)"
   ]
   }
,
{
		   "cell_type": "markdown",
		   "metadata": {},
		   "source": [
			"## Example 5.9: modulation_index_and_Bandwidth.sce"
		   ]
		  },
  {
"cell_type": "code",
	   "execution_count": null,
	   "metadata": {
	    "collapsed": true
	   },
	   "outputs": [],
"source": [
"// Example 5.9, page no-192 \n",
"clear\n",
"clc\n",
"\n",
"bw=20*10^3    //bandwidth in Hz\n",
"fm=1* 10^3    //modulating frequency in Hz\n",
"mf=(bw/(2*fm))-1\n",
"new_mf=mf*6\n",
"new_fm=0.5  //kHz\n",
"new_bw=2*(new_mf+1)*new_fm\n",
"printf('mf=%.0f\n New modulation index = %.0f\n New bandwidth = %.0f kHz',mf,new_mf,new_bw)"
   ]
   }
],
"metadata": {
		  "kernelspec": {
		   "display_name": "Scilab",
		   "language": "scilab",
		   "name": "scilab"
		  },
		  "language_info": {
		   "file_extension": ".sce",
		   "help_links": [
			{
			 "text": "MetaKernel Magics",
			 "url": "https://github.com/calysto/metakernel/blob/master/metakernel/magics/README.md"
			}
		   ],
		   "mimetype": "text/x-octave",
		   "name": "scilab",
		   "version": "0.7.1"
		  }
		 },
		 "nbformat": 4,
		 "nbformat_minor": 0
}
