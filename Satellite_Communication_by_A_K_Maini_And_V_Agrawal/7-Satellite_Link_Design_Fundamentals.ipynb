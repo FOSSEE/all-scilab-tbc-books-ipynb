{
"cells": [
 {
		   "cell_type": "markdown",
	   "metadata": {},
	   "source": [
       "# Chapter 7: Satellite Link Design Fundamentals"
	   ]
	},
{
		   "cell_type": "markdown",
		   "metadata": {},
		   "source": [
			"## Example 7.10: carrier_to_interface_ratio.sce"
		   ]
		  },
  {
"cell_type": "code",
	   "execution_count": null,
	   "metadata": {
	    "collapsed": true
	   },
	   "outputs": [],
"source": [
"// Example 7.10, page no-279\n",
"clear\n",
"clc\n",
"\n",
"ea=80     //EIRP value of earth station A in dBW\n",
"eb=75     //EIRP value of earth station B in dBW\n",
"g=50     //transmit antenna gain in dB\n",
"gra=20     //receiver antenna gain for earth station A in dB\n",
"grb=15     //receiver antenna gain for earth station B in dB\n",
"theeta=4 //viewing angle of the sattelite from two earth station\n",
"eirp_d=eb-g+32-25*log10(theeta)\n",
"c_by_i=ea-eirp_d+(gra-grb)\n",
"printf('carrier-to-interference ratio at the satellite due to\n inteference caused by Eart station B is, (C/I) = %.0f dB ',c_by_i)"
   ]
   }
,
{
		   "cell_type": "markdown",
		   "metadata": {},
		   "source": [
			"## Example 7.11: carrier_to_interface_ratio.sce"
		   ]
		  },
  {
"cell_type": "code",
	   "execution_count": null,
	   "metadata": {
	    "collapsed": true
	   },
	   "outputs": [],
"source": [
"// Example 7.11, page no-279\n",
"clear\n",
"clc\n",
"\n",
"//carrier sinal strength at sattelite by uplink\n",
"u=10000    // equivalent to 40dB\n",
"\n",
"//carrier sinal strength at eart station by downlink \n",
"d=3162.28 //equivalent to 35dB\n",
"\n",
"x=1/((1/u)+(1/d)) \n",
"printf('Total carrier-to-interference ratio is %.2f = %.1f dB',x,10*log10(x))"
   ]
   }
,
{
		   "cell_type": "markdown",
		   "metadata": {},
		   "source": [
			"## Example 7.12: Longitudinal_separation_between_two_satellites.sce"
		   ]
		  },
  {
"cell_type": "code",
	   "execution_count": null,
	   "metadata": {
	    "collapsed": true
	   },
	   "outputs": [],
"source": [
"//Example 7.12, Page no.280\n",
"clear \n",
"clc\n",
"\n",
"theeta=5  //Angle form by slant ranges of two satellites\n",
"dA=42100*10^3  //Slant range of satellite A\n",
"dB=42000*10^3  //Slant range of satellite B\n",
"r=42164*10^3   //radius of geostationary orbit\n",
"beeta=((dA^2+dB^2-cosd(theeta)*2*dA*dB)/(2*r^2))\n",
"beeta=ceil(beeta*10^3)/10^3\n",
"beeta=(180/%pi)*acos(1-beeta)\n",
"printf('Longitudinal separation between two satellites is %.3f°',beeta)"
   ]
   }
,
{
		   "cell_type": "markdown",
		   "metadata": {},
		   "source": [
			"## Example 7.13: Gain_per_degree_Kelvin.sce"
		   ]
		  },
  {
"cell_type": "code",
	   "execution_count": null,
	   "metadata": {
	    "collapsed": true
	   },
	   "outputs": [],
"source": [
"//Example 7.13, Page no.281\n",
"clear \n",
"clc\n",
"Ga=60     //Antenna Gain in dB\n",
"Ta= 60    //Noise teperature of Antenna\n",
"L1=1.12   //Feeder Loss equivalent to dB\n",
"T1=290    //Noise teperature of stage 1\n",
"G2=10^6     //Gain of stage 2 in dB\n",
"T2=140    //Noise teperature of stage 2\n",
"T3=10000  //Noise teperature of stage 3\n",
"G=Ga-0.5  // input of low noise amplifier\n",
"Ts=(Ta/L1)+(T1*(L1-1)/L1)+T2+(T3/G2)\n",
"Ts=floor(Ts*100)/100\n",
"x=G-10*log10(Ts)\n",
"printf('Tsi = %.2fK\n\n G/T(in dB/K)= %.0f dB/K',Ts,x)"
   ]
   }
,
{
		   "cell_type": "markdown",
		   "metadata": {},
		   "source": [
			"## Example 7.14: Gain_per_degree_Kelvin.sce"
		   ]
		  },
  {
"cell_type": "code",
	   "execution_count": null,
	   "metadata": {
	    "collapsed": true
	   },
	   "outputs": [],
"source": [
"//Example 7.14, Page no.282\n",
"clear \n",
"clc\n",
"\n",
"Ga=60     //Amplifier Gain in dB\n",
"Ta= 60    //Noise teperature of Antenna\n",
"L1=1.12   //Feeder Loss equivalent to dB\n",
"T1=290    //Noise teperature of stage 1\n",
"G2=10^6     //Gain of stage 2 in dB\n",
"T2=140    //Noise teperature of stage 2\n",
"T3=10000  //Noise teperature of stage 3\n",
"G=Ga-0.5  // input of low noise amplifier\n",
"\n",
"T=Ta+T1*(L1-1)+L1*(T2+(T3/G2))\n",
"x=G-10*log10(T)\n",
"printf('T = %.1fK\n\n G/T = %.0f dB/k',T,ceil(x))\n",
"printf('\n\n It is evident from the solutions of the problems 13 and 14\n that G/T ratio is invarient regardless of the reference point in agreement \n with a statement made earlier in the text.')"
   ]
   }
,
{
		   "cell_type": "markdown",
		   "metadata": {},
		   "source": [
			"## Example 7.15: Link_Margin.sce"
		   ]
		  },
  {
"cell_type": "code",
	   "execution_count": null,
	   "metadata": {
	    "collapsed": true
	   },
	   "outputs": [],
"source": [
"//Example 7.15, Page no.286\n",
"clear \n",
"clc\n",
"\n",
"f=6*10^9     //uplink frequency\n",
"eirp= 80     //Earth station EIRP in dBW\n",
"r=35780      //Earth station satellite distance\n",
"l=2          //attenuation due to atomospheric factors in dB\n",
"e=0.8        // satellite antenna's aperture efficiency\n",
"a=0.5        // satellite antenna's aperture area\n",
"T=190       // Satellite receiver's effective noise temperature \n",
"bw=20 *10^6 //Satellite receiver's bandwidth\n",
"cn=25       // received carrier-to-noise ratioin dB\n",
"c=3*10^8    //speed of light\n",
"\n",
"k=1.38*10^-23\n",
"lamda=c/f\n",
"G=e*4*%pi*a/lamda^2\n",
"G=ceil(G*100)/100\n",
"Gd=10*log10(G)\n",
"p=10*log10(k*T*bw)\n",
"pl=20*log10(4*%pi*r*10^3/lamda)\n",
"rp=eirp-l-pl+Gd\n",
"rp=floor(rp*100)/100\n",
"rc=floor((rp-p)*100)/100\n",
"lm=rc-cn\n",
"printf('Satellite Antenna gain, G = %.2f = %.2f dB \n Receivers Noise Power = %.1f dB\n free-space path loss = %.2f dB \n received power at satellite = %.2f dB \n receiver carrier = %f is stronger than noise.\n It is %.2f dB more than the required threshold value.\n Hence,  link margin = %.2f dB',G,Gd,p,pl,rp,rc,lm,lm)"
   ]
   }
,
{
		   "cell_type": "markdown",
		   "metadata": {},
		   "source": [
			"## Example 7.1: Power_received_by_the_receiving_antenna.sce"
		   ]
		  },
  {
"cell_type": "code",
	   "execution_count": null,
	   "metadata": {
	    "collapsed": true
	   },
	   "outputs": [],
"source": [
"// Example 7.1, page no-249\n",
"clear\n",
"clc\n",
"\n",
"d=36000 *10^3 //distance of geostationary satellite from earth's surface\n",
"Gt=100  // Antenna gain of 20dB\n",
"Pt=10   // Power radiated by earth station\n",
"\n",
"Prd=Pt*Gt/(4*%pi*d^2)\n",
"printf('Prd = %.4f * 10 ^-12 W/m^2\n Power received by the receiving antenna is given by  Pr = %.3f pW',Prd*10^12,Prd*10^13)"
   ]
   }
,
{
		   "cell_type": "markdown",
		   "metadata": {},
		   "source": [
			"## Example 7.2: free_space_path_loss.sce"
		   ]
		  },
  {
"cell_type": "code",
	   "execution_count": null,
	   "metadata": {
	    "collapsed": true
	   },
	   "outputs": [],
"source": [
"// Example 7.2, page no-262\n",
"clear\n",
"clc\n",
"\n",
"c=3*10^8         //speed of light \n",
"R=10000          //path length\n",
"f=4              // operating frequencyin GHz\n",
"EIRP=50          //in dB\n",
"gr=20            //antenna gain in dB\n",
"rp=-120          // received power in dB\n",
"//(a)\n",
"lamda=c/(f*10^9)\n",
"pl=20*log10(4*%pi*R/lamda)\n",
"\n",
"//(b)\n",
"Lp=EIRP+gr-rp\n",
"printf('(a)\n Operating wavelength = %.3f m\n Path loss(in dB) = %.2f dB',lamda,pl)\n",
"printf('\n\n (b)\n Path loss = %.0fdB',Lp)"
   ]
   }
,
{
		   "cell_type": "markdown",
		   "metadata": {},
		   "source": [
			"## Example 7.3: Attenuation.sce"
		   ]
		  },
  {
"cell_type": "code",
	   "execution_count": null,
	   "metadata": {
	    "collapsed": true
	   },
	   "outputs": [],
"source": [
"// Example 7.3, page no-262\n",
"clear\n",
"clc\n",
"\n",
"p=75        // rotation of plane of polarization\n",
"\n",
"//Polarization rotation is inversaly propotional to square of the operating frequency\n",
"f= 5        //frequency increased by factor \n",
"x=f^2       //rotation angle will decrease by aa factor of 25\n",
"p_ex=p/x\n",
"Apr=-20*log10(cosd(p))\n",
"Apr2=-20*log10(cosd(p_ex))\n",
"printf('For polarization  mismatch angle = 75°\n Attenuation = %.2f dB',Apr)\n",
"printf('\n\n For polarization  mismatch angle = 3° \n Attenuation = %.3f dB',Apr2)"
   ]
   }
,
{
		   "cell_type": "markdown",
		   "metadata": {},
		   "source": [
			"## Example 7.4: Noise_temperature_and_noise_figure.sce"
		   ]
		  },
  {
"cell_type": "code",
	   "execution_count": null,
	   "metadata": {
	    "collapsed": true
	   },
	   "outputs": [],
"source": [
"// Example 7.4, page no-270\n",
"clear\n",
"clc\n",
"\n",
"g1=30         //gain of RF stage in dB\n",
"t1=20         //Noise temperature in K\n",
"g2=10         //down converter gain in dB\n",
"t2=360        //noise temperature in K\n",
"g3=15         //gain of IF stage in dB\n",
"t3=1000       //noise temperature in K\n",
"t=290         //reference temperature in K\n",
"\n",
"G1=1000       //30 dB equivalent gain\n",
"Te=t1+(t2/G1)+t3/(G1*g2)\n",
"F=1+Te/t\n",
"printf('Effective noise temperature, Te = %.2fK',Te)\n",
"printf('\n\n System Noise Figure, F = %.2f',F)"
   ]
   }
,
{
		   "cell_type": "markdown",
		   "metadata": {},
		   "source": [
			"## Example 7.5: overall_noise_figure.sce"
		   ]
		  },
  {
"cell_type": "code",
	   "execution_count": null,
	   "metadata": {
	    "collapsed": true
	   },
	   "outputs": [],
"source": [
"// Example 7.5, page no-271\n",
"clear\n",
"clc\n",
"\n",
"g1=30         //gain of RF stage in dB\n",
"t1=20         //Noise temperature in K\n",
"g2=10         //down converter gain in dB\n",
"t2=360        //noise temperature in K\n",
"g3=15         //gain of IF stage in dB\n",
"t3=1000       //noise temperature in K\n",
"t=290         //reference temperature in K\n",
"\n",
"G1=1000       //30 dB equivalent gain\n",
"//Te=t1+(t2/G1)+t3/(G1*g2)\n",
"F1=1+t1/t\n",
"F2=1+t2/t\n",
"F3=1+t3/t\n",
"\n",
"F=F1+((F2-1)/G1)+(F3-1)/(G1*g2)\n",
"printf('Noise Figure specificatios of the three stages are as follow,\n\n F1 = %.3f\n F2 = %.2f\n F3 = %.2f',F1,F2,F3)\n",
"printf('\n\n The overall noise figure is, F = %.2f',F)"
   ]
   }
,
{
		   "cell_type": "markdown",
		   "metadata": {},
		   "source": [
			"## Example 7.6: noise_figure.sce"
		   ]
		  },
  {
"cell_type": "code",
	   "execution_count": null,
	   "metadata": {
	    "collapsed": true
	   },
	   "outputs": [],
"source": [
"// Example 7.6, page no-272\n",
"clear\n",
"clc\n",
"\n",
"L=1.778           //Loss factor of the feeder 2.5dB equivalent\n",
"ts=30             //Noise temperature of sattelite receiver in K\n",
"t=50              //Noise temperature in K\n",
"ti=290            // reference temperature in K\n",
"x=t/L\n",
"y=ti*(L-1)/L\n",
"Te=x+y+ts\n",
"F1=1+(ts/ti)\n",
"F2=1+(Te/ti)\n",
"printf('contribution of antenna noise temperature when\n referred to the input of the receiver is %.1f K',x)\n",
"printf('\n\n Contribution of feeder noise when referred to the\n input of the receiver is %.1f',y)\n",
"printf('\n\n1. Noise figure in first case = %.3f = %.3f dB',F1,10*log10(F1))//answer in book is different 0.426dB\n",
"printf('\n\n2. Noise figure in second case = %.3f = %.2f dB',F2,10*log10(F2))"
   ]
   }
,
{
		   "cell_type": "markdown",
		   "metadata": {},
		   "source": [
			"## Example 7.7: Loss_factor.sce"
		   ]
		  },
  {
"cell_type": "code",
	   "execution_count": null,
	   "metadata": {
	    "collapsed": true
	   },
	   "outputs": [],
"source": [
"// Example 7.7, page no-272\n",
"clear\n",
"clc\n",
"\n",
"Ta=  40        //Antenna Noise temperature\n",
"Ti=290         //Reference temperature in K\n",
"T=50          // Effecitve input noise temperatuire\n",
"Tf=Ti\n",
"L=(Ta-Tf)/(T-Tf)\n",
"L=ceil(L*10^4)/10^4\n",
"printf('Loss factor = %.4f = %.3f dB',L,10*log10(L))"
   ]
   }
,
{
		   "cell_type": "markdown",
		   "metadata": {},
		   "source": [
			"## Example 7.8: System_noise_temperature.sce"
		   ]
		  },
  {
"cell_type": "code",
	   "execution_count": null,
	   "metadata": {
	    "collapsed": true
	   },
	   "outputs": [],
"source": [
"// Example 7.8, page no-273\n",
"clear\n",
"clc\n",
"\n",
"Ta=50          //Antenna Noise temperature\n",
"Tf=300         //Thermodynamic temperature of the feeder\n",
"Te=50          // Effecitve input noise temperatuire\n",
"\n",
"//(a)\n",
"Lf=1\n",
"T=(Ta/Lf)+(Tf*(Lf-1)/Lf)+Te\n",
"printf('(a)\n System noise temperature = %.0fK',T)\n",
"\n",
"//(b)\n",
"Lf=1.413\n",
"T=(Ta/Lf)+(Tf*(Lf-1)/Lf)+Te\n",
"printf('\n\n (b)\n System noise temperature = %.3fK',ceil(T*10^3)/10^3)"
   ]
   }
,
{
		   "cell_type": "markdown",
		   "metadata": {},
		   "source": [
			"## Example 7.9: carrier_to_interface_ratio.sce"
		   ]
		  },
  {
"cell_type": "code",
	   "execution_count": null,
	   "metadata": {
	    "collapsed": true
	   },
	   "outputs": [],
"source": [
"// Example 7.9, page no-278\n",
"clear\n",
"clc\n",
"e=35     //EIRP radiated by satellite in dBW\n",
"g=50     //receiver antenna gain in dB\n",
"e1=30    //EIRP of interfacing satellite in dBW\n",
"theeta=4 //line-of-sight between earth station and interfacing sattelite\n",
"\n",
"x=(e-e1)+(g-32+25*log10(theeta))\n",
"printf('carrier-to-interface (C/I) = %.2f dB',x)\n",
"\n",
""
   ]
   }
],
"metadata": {
		  "kernelspec": {
		   "display_name": "Scilab",
		   "language": "scilab",
		   "name": "scilab"
		  },
		  "language_info": {
		   "file_extension": ".sce",
		   "help_links": [
			{
			 "text": "MetaKernel Magics",
			 "url": "https://github.com/calysto/metakernel/blob/master/metakernel/magics/README.md"
			}
		   ],
		   "mimetype": "text/x-octave",
		   "name": "scilab",
		   "version": "0.7.1"
		  }
		 },
		 "nbformat": 4,
		 "nbformat_minor": 0
}
