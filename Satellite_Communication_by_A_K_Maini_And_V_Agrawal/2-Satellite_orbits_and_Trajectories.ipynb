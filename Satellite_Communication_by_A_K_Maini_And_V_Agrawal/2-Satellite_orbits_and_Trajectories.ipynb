{
"cells": [
 {
		   "cell_type": "markdown",
	   "metadata": {},
	   "source": [
       "# Chapter 2: Satellite orbits and Trajectories"
	   ]
	},
{
		   "cell_type": "markdown",
		   "metadata": {},
		   "source": [
			"## Example 2.10: Ratio_of_orbital_time_period.sce"
		   ]
		  },
  {
"cell_type": "code",
	   "execution_count": null,
	   "metadata": {
	    "collapsed": true
	   },
	   "outputs": [],
"source": [
"// Example 2.10, page no-42\n",
"clear\n",
"clc\n",
"\n",
"a1=18000*10^3           //Semi-major axis for first satellite in m\n",
"a2=24000*10^3           //Semi-major axis f0r 2nd satellite in m\n",
"\n",
"T2_by_T1=(a2/a1)^(3/2)\n",
"printf('Orbital time period of sattelite 2 is %.2f times that of sattelite 1',T2_by_T1)//value in book is different for seconds."
   ]
   }
,
{
		   "cell_type": "markdown",
		   "metadata": {},
		   "source": [
			"## Example 2.11: Orbit_parameters.sce"
		   ]
		  },
  {
"cell_type": "code",
	   "execution_count": null,
	   "metadata": {
	    "collapsed": true
	   },
	   "outputs": [],
"source": [
"// Example 2.11, page no-42\n",
"clear\n",
"clc\n",
"\n",
"a=25000*10^3       //appogee distance in m\n",
"b=18330*10^3       //perigee distance in m\n",
"e=(sqrt(a^2-b^2)/a)\n",
"printf('Apogee distance  = a(1+e)= %dkm\n Perigee distance = a(1-e)= %dkm\n',a*(1+e)/1000,ceil(a*(1-e)/1000))\n",
" "
   ]
   }
,
{
		   "cell_type": "markdown",
		   "metadata": {},
		   "source": [
			"## Example 2.12: Time_required_to_move_between_two_points.sce"
		   ]
		  },
  {
"cell_type": "code",
	   "execution_count": null,
	   "metadata": {
	    "collapsed": true
	   },
	   "outputs": [],
"source": [
"// Example 2.12, page no-43\n",
"clear\n",
"clc\n",
"\n",
"e=0.6                  // eccentricity of elliptical orbit\n",
"a=0.97                 // area of shaded region\n",
"b=2.17                 //Area of non-shaded region\n",
"t=3                   // time taken by satellite to move from pt B to A\n",
"\n",
"x=b/a\n",
"y=x*t             \n",
"printf('Time taken by satellite to move from A to B is %.3f hours ',y)"
   ]
   }
,
{
		   "cell_type": "markdown",
		   "metadata": {},
		   "source": [
			"## Example 2.13: velocity_at_apogee.sce"
		   ]
		  },
  {
"cell_type": "code",
	   "execution_count": null,
	   "metadata": {
	    "collapsed": true
	   },
	   "outputs": [],
"source": [
"// Example 2.13, page no-44\n",
"clear\n",
"clc\n",
"\n",
"A=42000            //Apogee in km\n",
"P=8000             //Perigee in km\n",
"v_p=9.142          // velocity at perigee point\n",
"v_a=v_p*P/A\n",
"printf('Velocity at apogee = %.3f km/s',v_a)"
   ]
   }
,
{
		   "cell_type": "markdown",
		   "metadata": {},
		   "source": [
			"## Example 2.14: velocity_of_satellite_at_particular_point.sce"
		   ]
		  },
  {
"cell_type": "code",
	   "execution_count": null,
	   "metadata": {
	    "collapsed": true
	   },
	   "outputs": [],
"source": [
"// Example 2.14, page no-44\n",
"clear\n",
"clc\n",
"theta=56.245    //angle made by direction of satellite with local horizontal\n",
"d=16000         //distance of particular point\n",
"P=8000          //Perigee in m\n",
"v_p=9.142       // velocity at perigee point\n",
"\n",
"v=(P*v_p)/(d*floor(cos(theta*%pi/180)*1000)/1000)\n",
"printf('The velocity of satellite at that particular point is %.3f km/s',v)"
   ]
   }
,
{
		   "cell_type": "markdown",
		   "metadata": {},
		   "source": [
			"## Example 2.16: Apogee_distance.sce"
		   ]
		  },
  {
"cell_type": "code",
	   "execution_count": null,
	   "metadata": {
	    "collapsed": true
	   },
	   "outputs": [],
"source": [
"// Example 2.16, page no-49\n",
"clear\n",
"clc\n",
"\n",
"A1=12000                 //first Apogee distance\n",
"P=8000                   // Perigee distance\n",
"v1=1                     // assume v1 as 1\n",
"v2=1.2*v1                //20% higher than v1 \n",
"\n",
"x=(v2/v1)^2\n",
"k=(((1+(P/A1))/x)-1)\n",
"k=floor(k*10^4)/10^4\n",
"A2=P/k\n",
"\n",
"printf('A2 = %.0fkm',ceil(A2))"
   ]
   }
,
{
		   "cell_type": "markdown",
		   "metadata": {},
		   "source": [
			"## Example 2.17: velocity_of_satellite.sce"
		   ]
		  },
  {
"cell_type": "code",
	   "execution_count": null,
	   "metadata": {
	    "collapsed": true
	   },
	   "outputs": [],
"source": [
"// Example 2.17, page no-50\n",
"clear\n",
"clc\n",
"vp=8         //horizontal velocity of satellite in km/s\n",
"r=1620       // distance from earth's surface in km\n",
"R=6380       // Earth's radius in km\n",
"d=10000      // distance of point at which velocity to be calculated\n",
"theta=30     // angle made by satellite with local horzon at that point\n",
"\n",
"P=r+R\n",
"v=(vp*P)/(d*cos(theta*%pi/180))\n",
"printf('v = %.2f km/s',v)"
   ]
   }
,
{
		   "cell_type": "markdown",
		   "metadata": {},
		   "source": [
			"## Example 2.18: Apogee_Distance.sce"
		   ]
		  },
  {
"cell_type": "code",
	   "execution_count": null,
	   "metadata": {
	    "collapsed": true
	   },
	   "outputs": [],
"source": [
"// Example 2.18, page no-50\n",
"clear\n",
"clc\n",
"\n",
"r=620       // distance from earth's surface in km\n",
"vp=8         //horizontal velocity of satelliteat 9000km height in km/s\n",
"R=6380       // Earth's radius in km\n",
"d=9000      // distance of point at which velocity to be calculated\n",
"theta=30     // angle made by satellite with local horzon at that point\n",
"mu=39.8*10^13  // Nm^2/kg\n",
"\n",
"P=r+R\n",
"m=vp*d*cos(theta*%pi/180)/P    //m=sqrt((2mu/P)-[2mu/(A+P)])\n",
"m=(m*10^3)^2\n",
"x=(2*mu/(P*10^3))-m          //x=[2mu/(A+P)]\n",
"x=floor(x/10^4)*10^4\n",
"k=(2*mu)/x               //k=A+P\n",
"k=ceil(k/10^4)*10^4\n",
"A=k-(P*10^3)\n",
"printf('A = %.0f km',A/1000)"
   ]
   }
,
{
		   "cell_type": "markdown",
		   "metadata": {},
		   "source": [
			"## Example 2.1: velocity_of_satellite.sce"
		   ]
		  },
  {
"cell_type": "code",
	   "execution_count": null,
	   "metadata": {
	    "collapsed": true
	   },
	   "outputs": [],
"source": [
"// Example 2.1, page no-36\n",
"clear\n",
"clc\n",
"\n",
"r1=6370      //Earth's Orbit in km\n",
"r2=630       //Height of satellite from surface in km\n",
"G=6.67*10^-11// Gravitational constant inNm^2/kg^2\n",
"M=5.98*10^24 //Mass of earth in kg\n",
"\n",
"R=r1+r2\n",
"\n",
"v=sqrt(G*M/(R*10^3))\n",
"printf('The velocity of sattelite %.2fkm/s',floor(v/10)*10^-2)"
   ]
   }
,
{
		   "cell_type": "markdown",
		   "metadata": {},
		   "source": [
			"## Example 2.2: Orbit_parameters.sce"
		   ]
		  },
  {
"cell_type": "code",
	   "execution_count": null,
	   "metadata": {
	    "collapsed": true
	   },
	   "outputs": [],
"source": [
"// Example 2.2, page no-37\n",
"clear\n",
"clc\n",
"\n",
"A=45000    //Apogee in km\n",
"P=7000     //Perigee in km\n",
"//(a)\n",
"a=(A+P)/2\n",
"//(b)\n",
"e=(A-P)/(2*a)\n",
"//(c)\n",
"e=(floor(e*100))/100\n",
"d=a*e\n",
"\n",
"printf('(a)\nSemi-major axis of elliptical orbit is %d km',a)\n",
"printf('\n(b)\nEccentricity = %.2f',e)\n",
"printf('\n(c)\nThe distance between centre of earth and centre of ellipse is %d km ',d)"
   ]
   }
,
{
		   "cell_type": "markdown",
		   "metadata": {},
		   "source": [
			"## Example 2.3: Orbit_parameters.sce"
		   ]
		  },
  {
"cell_type": "code",
	   "execution_count": null,
	   "metadata": {
	    "collapsed": true
	   },
	   "outputs": [],
"source": [
"// Example 2.3, page no-37\n",
"clear\n",
"clc\n",
"\n",
"ma=42000  //Major axis distance in Km\n",
"P=8000    //Perigee distance in Km\n",
"\n",
"A=ma-P\n",
"e=(A-P)/ma\n",
"\n",
"printf('Apogee=%dkm\n Eccentricity=%.2f',A,e)"
   ]
   }
,
{
		   "cell_type": "markdown",
		   "metadata": {},
		   "source": [
			"## Example 2.4: Orbit_parameters.sce"
		   ]
		  },
  {
"cell_type": "code",
	   "execution_count": null,
	   "metadata": {
	    "collapsed": true
	   },
	   "outputs": [],
"source": [
"// Example 2.4, page no-37\n",
"clear\n",
"clc\n",
"\n",
"e=0.6   //Eccentricity\n",
"d=18000 //distance between earth's centre and centre of ellipse\n",
"\n",
"a=d/e\n",
"A=a*(1+e)\n",
"P=a*(1-e)\n",
"\n",
"printf('Semi-major axis of elliptical orbit is %d km\n Apogee distance=%dkm\n Perigee distance=%dkm',a,A,P)"
   ]
   }
,
{
		   "cell_type": "markdown",
		   "metadata": {},
		   "source": [
			"## Example 2.5: Orbit_eccentricity.sce"
		   ]
		  },
  {
"cell_type": "code",
	   "execution_count": null,
	   "metadata": {
	    "collapsed": true
	   },
	   "outputs": [],
"source": [
"// Example 2.5, page no-38\n",
"clear\n",
"clc\n",
"AP_diff=30000   //difference between apogee and perigee in km\n",
"AP_sum=62800    //Apogee+perigee\n",
"\n",
"E=AP_diff/AP_sum\n",
"printf('Orbit Eccentricity= %.3f',E)"
   ]
   }
,
{
		   "cell_type": "markdown",
		   "metadata": {},
		   "source": [
			"## Example 2.6: Satellite_velocity_at_particular_point.sce"
		   ]
		  },
  {
"cell_type": "code",
	   "execution_count": null,
	   "metadata": {
	    "collapsed": true
	   },
	   "outputs": [],
"source": [
"// Example 2.6, page no-38\n",
"clear\n",
"clc\n",
"\n",
"R=7000*10^3 //sattelite orbit in m\n",
"mu=39.8*10^13//constant G*M in Nm^2/kg\n",
"A=47000*10^3     //appogee distance in m\n",
"P=7000*10^3  //perigee distance in m\n",
"v=sqrt(mu/R)\n",
"a=(A+P)/2\n",
"v1=sqrt(mu*((2/R)-(1/a)))\n",
"printf('Velocity of satellite A at point X is v=%.2fkm/s\n Velocity of satellite B at point X is V=%.3fkm/s',v/1000,v1/1000)//value in book is different at 3rd decimal place."
   ]
   }
,
{
		   "cell_type": "markdown",
		   "metadata": {},
		   "source": [
			"## Example 2.7: Satellite_velocity_at_particular_point.sce"
		   ]
		  },
  {
"cell_type": "code",
	   "execution_count": null,
	   "metadata": {
	    "collapsed": true
	   },
	   "outputs": [],
"source": [
"// Example 2.7, page no-39\n",
"clear\n",
"clc\n",
"\n",
"R=42000*10^3       //sattelite orbit in m\n",
"mu=39.8*10^13      //constant G*M in Nm^2/kg\n",
"A=42000*10^3       //appogee distance in m\n",
"P=7000*10^3        //perigee distance in m\n",
"v=sqrt(mu/R)\n",
"a=(A+P)/2\n",
"v1=sqrt(mu*((2/R)-(1/a)))\n",
"printf('Velocity of satellite A at point X is v=%.3fkm/s\n Velocity of satellite B at point X is V=%.3fkm/s',v/1000,v1/1000)"
   ]
   }
,
{
		   "cell_type": "markdown",
		   "metadata": {},
		   "source": [
			"## Example 2.8: Satellite_velocity_at_particular_point.sce"
		   ]
		  },
  {
"cell_type": "code",
	   "execution_count": null,
	   "metadata": {
	    "collapsed": true
	   },
	   "outputs": [],
"source": [
"// Example 2.8, page no-40\n",
"clear\n",
"clc\n",
"\n",
"R=25000*10^3       //sattelite orbit in m\n",
"mu=39.8*10^13      //constant G*M in Nm^2/kg\n",
"A=43000*10^3       //appogee distance in m\n",
"P=7000*10^3        //perigee distance in m\n",
"v=sqrt(mu/R)\n",
"a=(A+P)/2\n",
"v1=sqrt(mu*((2/R)-(1/a)))\n",
"printf('Velocity of satellite A at point X is v=%.3fkm/s\n Velocity of satellite B at point X is V=%.3fkm/s',v/1000,v1/1000)//value in book is different at 3rd decimal place."
   ]
   }
,
{
		   "cell_type": "markdown",
		   "metadata": {},
		   "source": [
			"## Example 2.9: Orbital_time_period.sce"
		   ]
		  },
  {
"cell_type": "code",
	   "execution_count": null,
	   "metadata": {
	    "collapsed": true
	   },
	   "outputs": [],
"source": [
"// Example 2.9, page no-40\n",
"clear\n",
"clc\n",
"\n",
"a=(50000/2)*10^3           //Semi-major axis in m\n",
"mu=39.8*10^13      //constant G*M in Nm^2/kg\n",
"\n",
"T=2*3.14*sqrt((a^3)/mu)\n",
"h=T/(60*60)\n",
"x=modulo(T,3600)\n",
"m=x/60\n",
"s=modulo(x,60)\n",
"printf('Orbital time period is given by, T = %dsec\n\t\t\t\t    = %dh %dm %ds',T,floor(h),floor(m),floor(s))//value in book is different for seconds."
   ]
   }
],
"metadata": {
		  "kernelspec": {
		   "display_name": "Scilab",
		   "language": "scilab",
		   "name": "scilab"
		  },
		  "language_info": {
		   "file_extension": ".sce",
		   "help_links": [
			{
			 "text": "MetaKernel Magics",
			 "url": "https://github.com/calysto/metakernel/blob/master/metakernel/magics/README.md"
			}
		   ],
		   "mimetype": "text/x-octave",
		   "name": "scilab",
		   "version": "0.7.1"
		  }
		 },
		 "nbformat": 4,
		 "nbformat_minor": 0
}
