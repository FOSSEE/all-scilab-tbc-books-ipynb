{
"cells": [
 {
		   "cell_type": "markdown",
	   "metadata": {},
	   "source": [
       "# Chapter 3: Satellite Launch and In orbit Operations"
	   ]
	},
{
		   "cell_type": "markdown",
		   "metadata": {},
		   "source": [
			"## Example 3.10: Inter_satellite_distance.sce"
		   ]
		  },
  {
"cell_type": "code",
	   "execution_count": null,
	   "metadata": {
	    "collapsed": true
	   },
	   "outputs": [],
"source": [
"// Example 3.9, page no-98\n",
"clear\n",
"clc\n",
"\n",
"//IntelSat-VI location= 37 W\n",
"// IntelSat-VII location=74 E\n",
"theta=37+74      // angular separation between two satellites\n",
"D=42164          //circular equilateral geostationary orbit in km\n",
"k=cosd(theta)\n",
"//printf('%f\n',k)\n",
"k=-0.357952\n",
"d=sqrt(2*D^2*(1-k))\n",
"\n",
"printf('Inter-satellite distance is %.2f km',d)"
   ]
   }
,
{
		   "cell_type": "markdown",
		   "metadata": {},
		   "source": [
			"## Example 3.11: Azimuth_and_elevation_angle.sce"
		   ]
		  },
  {
"cell_type": "code",
	   "execution_count": null,
	   "metadata": {
	    "collapsed": true
	   },
	   "outputs": [],
"source": [
"// Example 3.11, page no-99\n",
"clear\n",
"clc\n",
"\n",
"theta_l=30          //earth station's location 30°W longitude\n",
"theta_s=50          //satellite's location 50°W longitude\n",
"theta_L=60          //earth station's location 60°N latitude\n",
"r=42164             // orbital radius of the satellite in km\n",
"R=6378              //Earth's radius in km\n",
"\n",
"A_dash=atan((tand(theta_s-theta_l))/sind(60))\n",
"A_dash=A_dash*180/%pi\n",
"A=180+A_dash         //Azimuth angle\n",
"\n",
"x=(180/%pi)*acos(cosd(theta_s-theta_l)*cosd(theta_L))\n",
"y=r-ceil(R*(cosd(theta_s-theta_l)*cosd(theta_L)))\n",
"z=R*sind(x)\n",
"E=(atan(y/z)*180/%pi)-x\n",
"printf('Azimuth  angle =%.1f°\n Elevation angle =%.1f°',A,E)"
   ]
   }
,
{
		   "cell_type": "markdown",
		   "metadata": {},
		   "source": [
			"## Example 3.12: Delay_calculatio.sce"
		   ]
		  },
  {
"cell_type": "code",
	   "execution_count": null,
	   "metadata": {
	    "collapsed": true
	   },
	   "outputs": [],
"source": [
"// Example 3.12, page no-100\n",
"clear\n",
"clc\n",
"\n",
"theta_l=60          //earth station's location 60°W longitude\n",
"theta_s=105          //satellite's location 105°W longitude\n",
"theta_L=30          //earth station's location 30°N latitude\n",
"\n",
"theta_l1=90          //earth station's location 90°W longitude\n",
"theta_s1=105          //satellite's location 105°W longitude\n",
"theta_L1=45          //earth station's location 45°N latitude\n",
"\n",
"c=3*10^8             //speed of light\n",
"r=42164             // orbital radius of the satellite in km\n",
"R=6378              //Earth's radius in km\n",
"\n",
"x=(180/%pi)*acos(cosd(theta_s-theta_l)*cosd(theta_L))\n",
"y=r-ceil(R*(cosd(theta_s-theta_l)*cosd(theta_L)))\n",
"z=R*sind(x)\n",
"E=(atan(y/z)*180/%pi)-x\n",
"\n",
"x1=(180/%pi)*acos(cosd(theta_s1-theta_l1)*cosd(theta_L1))\n",
"y1=r-ceil(R*(cosd(theta_s1-theta_l1)*cosd(theta_L1)))\n",
"z1=R*sind(x1)\n",
"E1=(atan(y1/z1)*180/%pi)-x1\n",
"E1=floor(E1)\n",
"\n",
"//calculation of slant range dx\n",
"k=(R/r)*cosd(E)\n",
"k=(180/%pi)*asin(k)\n",
"k=k+E\n",
"k=sind(k)\n",
"k=ceil(k*1000)/1000\n",
"//k=k+E\n",
"//k=sin(k)\n",
"dx=(R)^2+(r)^2-(2*r*R*k)\n",
"dx=sqrt(dx)\n",
"\n",
"\n",
"//calculation of slant range dy\n",
"k1=(R/r)*cosd(E1)\n",
"k1=(180/%pi)*asin(k1)\n",
"k1=k1+E1\n",
"k1=floor(k1)\n",
"k1=sind(k1)\n",
"k1=ceil(k1*1000)/1000\n",
"dy=(R)^2+(r)^2-(2*r*R*k1)\n",
"dy=sqrt(dy)\n",
"\n",
"tr=dy+dx\n",
"delay=tr*10^6/c\n",
"x=50\n",
"td=delay+x\n",
"\n",
"printf('Elevation angle, Ex =%.1f°',E)\n",
"printf('\n Elevation angle, Ey =%.1f°',floor(E1))\n",
"printf('\n Slant range dx of the earth station X is dx=%.2fkm',dx)\n",
"printf('\n Slant range dy of the earth station Y is dy=%.1fkm',dy)\n",
"printf('\n Therefore, total range to be covered is %.2fkm',tr)\n",
"printf('\n propagation delay=%.2fms',delay)\n",
"printf('\n\n Time required too transmit 500 kbs of information at \n a transmisssion speed of 10Mbps is given by 500000/10^7=%.0fms',500000000/10^7)\n",
"printf('\n\n Total Delay= %.2fms',td)"
   ]
   }
,
{
		   "cell_type": "markdown",
		   "metadata": {},
		   "source": [
			"## Example 3.13: Angular_spacing_and_intersatellite_distance.sce"
		   ]
		  },
  {
"cell_type": "code",
	   "execution_count": null,
	   "metadata": {
	    "collapsed": true
	   },
	   "outputs": [],
"source": [
"// Example 3.13, page no-102\n",
"clear\n",
"clc\n",
"\n",
"\n",
"da=38000                // slant range of satellite A\n",
"db=36000                // slant range of satellite B\n",
"beeta=60                // difference between longitudes of two satellites\n",
"R=42164                 // radius of the orbit of satellites\n",
"\n",
"\n",
"theta=(da^2+db^2-2*(R^2)*(1-cosd(beeta)))/(2*da*db)\n",
"theta=(180/%pi)*acos(theta)\n",
"\n",
"d=sqrt(2*(R^2)*(1-cosd(beeta)))\n",
"printf('Angular spacing between two satellites viewed by earth station is,\n theta= %.1f°',theta)\n",
"printf('\nInter-satellite distance , d=%.0fkm',d)"
   ]
   }
,
{
		   "cell_type": "markdown",
		   "metadata": {},
		   "source": [
			"## Example 3.14: covered_surface_area.sce"
		   ]
		  },
  {
"cell_type": "code",
	   "execution_count": null,
	   "metadata": {
	    "collapsed": true
	   },
	   "outputs": [],
"source": [
"// Example 3.14, page no-107\n",
"clear\n",
"clc\n",
"\n",
"r=42164             // orbital radius of the satellite in km\n",
"R=6378              //Earth's radius in km\n",
"\n",
"//refer to Figure 3.53\n",
"//for E=0°\n",
"alfa=asin(R/r)*(180/%pi)\n",
"alfa=floor(alfa*10)/10\n",
"theta=90-alfa\n",
"//in the right angle triangle OAC,\n",
"k=sind(alfa)\n",
"k=floor(k*1000)/1000\n",
"oc=R*k\n",
"oc=ceil(oc*10)/10\n",
"A=2*%pi*R*(R-oc)\n",
"\n",
"\n",
"//for E=10°\n",
"E=10\n",
"alfa1=asin((R/r)*cosd(E))*(180/%pi)\n",
"//alfa1=ceil(alfa1*100)/100\n",
"theta1=90-alfa1-E\n",
"//in the right angle triangle OAC,\n",
"k1=sind(alfa1+E)\n",
"k1=floor(k1*1000)/1000\n",
"oc1=R*k1\n",
"oc1=floor(oc1*10)/10\n",
"A1=2*%pi*R*(R-oc1)\n",
"\n",
"printf('for E=0°,\n covered surface area is %.1f km^2',A)\n",
"printf('\n\n for E=10°,\n covered surface area is %.1f km^2',A1)"
   ]
   }
,
{
		   "cell_type": "markdown",
		   "metadata": {},
		   "source": [
			"## Example 3.15: Area_swept_by_ground_track_of_satellite.sce"
		   ]
		  },
  {
"cell_type": "code",
	   "execution_count": null,
	   "metadata": {
	    "collapsed": true
	   },
	   "outputs": [],
"source": [
"// Example 3.15, page no-108\n",
"clear\n",
"clc\n",
"\n",
"\n",
"theta=30               //satellite inclination to the equitorial plan\n",
"//the extreme latitudes covered in northern and southern hemisphere are the same as orbit inclination\n",
"\n",
"printf('Extreme Northern latitude covered = %.0f° N',theta)\n",
"printf('\n Extreme Southern latitude covered = %.0f° S',theta)\n",
"printf('\n\n In fact, the ground track would sweep\n all latitudes between %d°N and %d°S',theta,theta)"
   ]
   }
,
{
		   "cell_type": "markdown",
		   "metadata": {},
		   "source": [
			"## Example 3.1: Inclination_Angle.sce"
		   ]
		  },
  {
"cell_type": "code",
	   "execution_count": null,
	   "metadata": {
	    "collapsed": true
	   },
	   "outputs": [],
"source": [
"// Example 3.1, page no-72\n",
"clear\n",
"clc\n",
"\n",
"Az=85      // Azimuth angle of injection point\n",
"l=5.2      // latitude of launch site\n",
"cosi=sin(Az*%pi/180)*cos(l*%pi/180)\n",
"i=acos(cosi)\n",
"i=i*180/%pi\n",
"printf('Inclination angle attained, i=%.1f°',i)"
   ]
   }
,
{
		   "cell_type": "markdown",
		   "metadata": {},
		   "source": [
			"## Example 3.2: Velocity_thrust.sce"
		   ]
		  },
  {
"cell_type": "code",
	   "execution_count": null,
	   "metadata": {
	    "collapsed": true
	   },
	   "outputs": [],
"source": [
"// Example 3.2, page no-73\n",
"clear\n",
"clc\n",
"\n",
"delta_i=7     //orbital plane inclination\n",
"V=3000        //velocity of satellite in circularized orbit\n",
"vp=2*V*sin(delta_i*%pi/(2*180))\n",
"printf('Velocity thrust to make the inclination 0° = %.0f m/s',vp)\n",
""
   ]
   }
,
{
		   "cell_type": "markdown",
		   "metadata": {},
		   "source": [
			"## Example 3.3: Velocity_thrust.sce"
		   ]
		  },
  {
"cell_type": "code",
	   "execution_count": null,
	   "metadata": {
	    "collapsed": true
	   },
	   "outputs": [],
"source": [
"// Example 3.3, page no-73\n",
"clear\n",
"clc\n",
"\n",
"mu=39.8*10^13        // Nm^2/kg\n",
"P=7000*10^3          // Perigee distance in m\n",
"e=0.69               // eccentricity of eliptical orbit\n",
"w=60/2               // angle made by line joing centre of earth and perige                      e with the line of nodes\n",
"k=(e/sqrt(1+e))\n",
"k=floor(k*100)/100\n",
"v=2*(sqrt(mu/P))*k*sin(w*%pi/180)\n",
"printf('The velocity thrust required to rotate the perigee point\n by desired amount is given by, v=%.1f m/s = %.3fkm/s',v,v/1000)"
   ]
   }
,
{
		   "cell_type": "markdown",
		   "metadata": {},
		   "source": [
			"## Example 3.4: Velocity_thrust.sce"
		   ]
		  },
  {
"cell_type": "code",
	   "execution_count": null,
	   "metadata": {
	    "collapsed": true
	   },
	   "outputs": [],
"source": [
"// Example 3.4, page no-74\n",
"clear\n",
"clc\n",
"\n",
"A=15000*10^3            //Original apogee distance\n",
"A1=25000*10^3           // Raised opogee distance\n",
"P=7000*10^3             // Perigee Distance\n",
"mu=39.8*10^13           //Nm^2/kg\n",
"\n",
"A_d=A1-A\n",
"v=sqrt((2*mu/P)-(2*mu/(A+P)))\n",
"del_v=A_d*mu/(v*(A+P)^2)\n",
"printf('required Thrust velocity Delta_v = %.1f m/s',del_v)"
   ]
   }
,
{
		   "cell_type": "markdown",
		   "metadata": {},
		   "source": [
			"## Example 3.5: Velocity_thrust.sce"
		   ]
		  },
  {
"cell_type": "code",
	   "execution_count": null,
	   "metadata": {
	    "collapsed": true
	   },
	   "outputs": [],
"source": [
"// Example 3.5, page no-75\n",
"clear\n",
"clc\n",
"\n",
"A=15000*10^3            //Original apogee distance\n",
"A1=7000*10^3           // Raised opogee distance\n",
"P=7000*10^3             // Perigee Distance\n",
"mu=39.8*10^13           //Nm^2/kg\n",
"\n",
"A_d=A-A1\n",
"v=sqrt((2*mu/P)-(2*mu/(A+P)))\n",
"del_v=A_d*mu/(v*(A+P)^2)\n",
"printf('required Thrust velocity Delta_v = %.1f m/s',del_v)"
   ]
   }
,
{
		   "cell_type": "markdown",
		   "metadata": {},
		   "source": [
			"## Example 3.6: Velocity_thrust.sce"
		   ]
		  },
  {
"cell_type": "code",
	   "execution_count": null,
	   "metadata": {
	    "collapsed": true
	   },
	   "outputs": [],
"source": [
"// Example 3.6, page no-76\n",
"clear\n",
"clc\n",
"\n",
"A=15000*10^3            //Original apogee distance\n",
"A1=16000*10^3           // Raised opogee distance\n",
"P=7000*10^3             // Perigee Distance\n",
"mu=39.8*10^13           //Nm^2/kg\n",
"\n",
"A_d=A1-A\n",
"v=sqrt((2*mu/P)-(2*mu/(A+P)))\n",
"v=v*P/A\n",
"del_v=A_d*mu/(v*(A+P)^2)\n",
"printf('required Thrust velocity Delta_v = %.1f m/s',del_v)"
   ]
   }
,
{
		   "cell_type": "markdown",
		   "metadata": {},
		   "source": [
			"## Example 3.7: Velocity_thrust.sce"
		   ]
		  },
  {
"cell_type": "code",
	   "execution_count": null,
	   "metadata": {
	    "collapsed": true
	   },
	   "outputs": [],
"source": [
"// Example 3.7, page no-77\n",
"clear\n",
"clc\n",
"\n",
"R=6378*10^3             //Radius of earth\n",
"mu=39.8*10^13           //Nm^2/kg\n",
"r1=500*10^3              // original orbit from earths surface\n",
"r2=800*10^3              // orbit to be raised to thisdistance\n",
"R1=R+r1\n",
"R2=R+r2\n",
"delta_v=sqrt(2*mu*R2/(R1*(R1+R2)))-sqrt(mu/R1)\n",
"delta_v_dash=sqrt(mu/R2)-sqrt(2*mu*R1/(R2*(R1+R2)))\n",
"\n",
"printf('Two thrusts to be applied are,\n Delta_v = %.2f m/s \n Delta_v_dash = %.2f m/s',delta_v,delta_v_dash)"
   ]
   }
,
{
		   "cell_type": "markdown",
		   "metadata": {},
		   "source": [
			"## Example 3.8: Maximum_line_of_sight_distance.sce"
		   ]
		  },
  {
"cell_type": "code",
	   "execution_count": null,
	   "metadata": {
	    "collapsed": true
	   },
	   "outputs": [],
"source": [
"// Example 3.8, page no-97\n",
"clear\n",
"clc\n",
"\n",
"H=36000       //Height of geostationary satellite from the surface of earth\n",
"R=6370        // Radius of earth in km\n",
"k=acos(R/(R+H))\n",
"//k=k*180/%pi\n",
"k=sin(k)\n",
"k=ceil(k*1000)/1000\n",
"d=2*(H+R)*k\n",
"printf('Maximum line-of-sight distance is %.2f km',d)"
   ]
   }
,
{
		   "cell_type": "markdown",
		   "metadata": {},
		   "source": [
			"## Example 3.9: line_of_sight_distance.sce"
		   ]
		  },
  {
"cell_type": "code",
	   "execution_count": null,
	   "metadata": {
	    "collapsed": true
	   },
	   "outputs": [],
"source": [
"// Example 3.9, page no-98\n",
"clear\n",
"clc\n",
"\n",
"H=36000       //Height of geostationary satellite from the surface of earth\n",
"R=6370        // Radius of earth in km\n",
"theta=20      // angular separation between two satellites\n",
"\n",
"D=(H+R)\n",
"k=ceil(cos(theta*%pi/180)*100)/100\n",
"d=sqrt(2*D^2*(1-k))\n",
"\n",
"printf('The line-of-sight distance is %.4f km',d)"
   ]
   }
],
"metadata": {
		  "kernelspec": {
		   "display_name": "Scilab",
		   "language": "scilab",
		   "name": "scilab"
		  },
		  "language_info": {
		   "file_extension": ".sce",
		   "help_links": [
			{
			 "text": "MetaKernel Magics",
			 "url": "https://github.com/calysto/metakernel/blob/master/metakernel/magics/README.md"
			}
		   ],
		   "mimetype": "text/x-octave",
		   "name": "scilab",
		   "version": "0.7.1"
		  }
		 },
		 "nbformat": 4,
		 "nbformat_minor": 0
}
