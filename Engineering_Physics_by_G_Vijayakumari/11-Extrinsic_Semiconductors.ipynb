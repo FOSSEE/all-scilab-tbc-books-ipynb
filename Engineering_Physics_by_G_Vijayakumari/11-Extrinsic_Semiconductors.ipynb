{
"cells": [
 {
		   "cell_type": "markdown",
	   "metadata": {},
	   "source": [
       "# Chapter 11: Extrinsic Semiconductors"
	   ]
	},
{
		   "cell_type": "markdown",
		   "metadata": {},
		   "source": [
			"## Example 11.10: Charge_carrier_density_and_electron_mobility.sce"
		   ]
		  },
  {
"cell_type": "code",
	   "execution_count": null,
	   "metadata": {
	    "collapsed": true
	   },
	   "outputs": [],
"source": [
"clc\n",
"clear\n",
"//INPUT DATA\n",
"RH=4.16*10^-4//Hall coefficient of n-type semiconductor in m^3 C^-1\n",
"c=180//conductivity in ohm^-1 m^-1\n",
"e=1.6*10^-19//charge of electron in coulombs\n",
"x=1.18//correction factor for RH\n",
"\n",
"//CALCULATION\n",
"ne=(x/(RH*e))/10^22//The density of the charge carrier in electrons/m^3*10^22\n",
"me=(c/(ne*10^22*e))//The mobility of the charge carrier in m^2 V^-1 s^-1\n",
"\n",
"//OUTPUT\n",
"printf('The density of the charge carrier is %3.3f*10^22 electrons/m^3 \n The mobility of the charge carrier is %3.5f m^2 V^-1 s^-1',ne,me)"
   ]
   }
,
{
		   "cell_type": "markdown",
		   "metadata": {},
		   "source": [
			"## Example 11.11: Hall_coefficient.sce"
		   ]
		  },
  {
"cell_type": "code",
	   "execution_count": null,
	   "metadata": {
	    "collapsed": true
	   },
	   "outputs": [],
"source": [
"clc\n",
"clear\n",
"//INPUT DATA\n",
"l=1*10^-3//length of rectangular plane sheet of doped silicon in m\n",
"b=1*10^-3//breadth of semi rectangular plane sheet of doped silicon in m\n",
"t=0.5*10^-3//thickness of rectangular plane sheet of doped silicon in m\n",
"RH=1.25*10^-3//Hall coefficient of the materialin m^3 C^-1\n",
"I=1*10^-3//current in A\n",
"B=0.7//magnetic flux density in Wb/m^2\n",
"e=1.6*10^-19//charge of electron in coulombs\n",
"\n",
"//CALCULATION\n",
"Vh=((RH*I*B)/t)/10^-3//The hall coefficient measured by the probes in mV\n",
"\n",
"//OUTPUT\n",
"printf('The hall coefficient measured by the probes is %3.2f mV',Vh)"
   ]
   }
,
{
		   "cell_type": "markdown",
		   "metadata": {},
		   "source": [
			"## Example 11.12: Mobility_and_density_of_the_charge_carrier.sce"
		   ]
		  },
  {
"cell_type": "code",
	   "execution_count": null,
	   "metadata": {
	    "collapsed": true
	   },
	   "outputs": [],
"source": [
"clc\n",
"clear\n",
"//INPUT DATA\n",
"RH=3.66*10^-4//Hall coefficient of a doped silicon in m^3 C^-1\n",
"r=8.93*10^-3//The resistivity in ohm m\n",
"e=1.6*10^-19//charge of electron in coulombs\n",
"\n",
"//CALCULATION\n",
"n=(1/(RH*e))/10^22//The density of the charge carrier in m^-3 *10^22\n",
"me=(RH/r)//The mobility is %3.4f m^2 V^-1 s^-1\n",
"\n",
"//OUTPUT\n",
"printf('The density of the charge carrier is %3.4f*10^22 m^-3 \n The mobility is %3.4f m^2 V^-1 s^-1',n,me)"
   ]
   }
,
{
		   "cell_type": "markdown",
		   "metadata": {},
		   "source": [
			"## Example 11.13: Current_density.sce"
		   ]
		  },
  {
"cell_type": "code",
	   "execution_count": null,
	   "metadata": {
	    "collapsed": true
	   },
	   "outputs": [],
"source": [
"clc\n",
"clear\n",
"//INPUT DATA\n",
"RH=0.0125//Hall coefficient of a sample n-type semiconductor in m^3 C^-1\n",
"rh=-0.0125//Hall coefficient of a sample n-type semiconductor in m^3 C^-1\n",
"me=0.36//electron mobility in m^2 V^-1 s^-1\n",
"EH=100//electric field in V/m\n",
"e=1.6*10^-19//charge of electron in coulombs\n",
"\n",
"//CALCULATION\n",
"n=(1/(RH*e))//The density of the charge carrier in m^-3\n",
"c=(n*e*me)//conductivity of n-type semiconductor in ohm^-1 m^-1\n",
"J=(c*EH)//The current density in A/m^2\n",
"\n",
"//OUTPUT\n",
"printf('The current density is %i A/m^2',J)"
   ]
   }
,
{
		   "cell_type": "markdown",
		   "metadata": {},
		   "source": [
			"## Example 11.1: Conductivity.sce"
		   ]
		  },
  {
"cell_type": "code",
	   "execution_count": null,
	   "metadata": {
	    "collapsed": true
	   },
	   "outputs": [],
"source": [
"clc\n",
"clear\n",
"//INPUT DATA\n",
"ni=2.1*10^19//intrinsic charge carriers in m^-3\n",
"me=0.4//electron mobility in m^2 V^-1 s^-1\n",
"mh=0.2//hole mobility in m^2 V^-1 s^-1\n",
"d=4.5*10^23//density of boron in m^-3\n",
"e=1.6*10^-19//charge of electron in coulombs\n",
"\n",
"//CALCULATION\n",
"C=(ni*e)*(me+mh)//conductivity before adding boron atoms in ohm^-1 m^-1\n",
"c=(d*e*mh)/10^4//conductivity after adding boron atoms in ohm^-1 m^-1 *10^4\n",
"\n",
"//OUTPUT\n",
"printf('Before adding boron atoms,the semiconductor is an intrinsic semiconductor \n conductivity before adding boron atoms is %3.3f ohm^-1 m^-1 \n Aefore adding boron atoms,the semiconductor becomes a P-type semiconductor \n conductivity after adding boron atoms is %3.2f*10^4 ohm^-1 m^-1',C,c)"
   ]
   }
,
{
		   "cell_type": "markdown",
		   "metadata": {},
		   "source": [
			"## Example 11.2: Concentration_of_holes_and_electrons.sce"
		   ]
		  },
  {
"cell_type": "code",
	   "execution_count": null,
	   "metadata": {
	    "collapsed": true
	   },
	   "outputs": [],
"source": [
"clc\n",
"clear\n",
"//INPUT DATA\n",
"ni=1.5*10^16//intrinsic charge carriers in m^-3\n",
"me=1300*10^-4//electron mobility in m^2 V^-1 s^-1\n",
"mh=500*10^-4//hole mobility in m^2 V^-1 s^-1\n",
"c=3*10^4//conductivity of n-tpye silicon in ohm^-1 m^-1\n",
"e=1.6*10^-19//charge of electron in coulombs\n",
"\n",
"//CALCULATION\n",
"ne=(c/(e*me))/10^24//DensiTy of electrons in n-type silicon in electrons/m^3 *10^24\n",
"nh=(ni^2/(ne*10^24))/10^8//Density of holes in n-type silicon in holes/m^3 *10^8\n",
"Ne=(c/(e*mh))/10^24//Density of holes in p-type silicon in holes/m^3 *10^24\n",
"Nh=(ni^2/(Ne*10^24))/10^7//Density of electrons in p-type silicon in holes/m^3 *10^7\n",
"\n",
"//OUTPUT\n",
"printf('DensiTy of electrons in n-type silicon is %3.4f *10^24 electrons/m^3 \n DensiTy of holes in n-type silicon is %3.2f*10^8 holes/m^3 \n DensiTy of holes in p-type silicon is %3.2f*10^24 holes/m^3 \n DensiTy of electrons in p-type silicon is %i*10^7 electrons/m^3',ne,nh,Ne,Nh)"
   ]
   }
,
{
		   "cell_type": "markdown",
		   "metadata": {},
		   "source": [
			"## Example 11.3: Electron_concentration.sce"
		   ]
		  },
  {
"cell_type": "code",
	   "execution_count": null,
	   "metadata": {
	    "collapsed": true
	   },
	   "outputs": [],
"source": [
"clc\n",
"clear\n",
"//INPUT DATA\n",
"ni=2*10^16//intrinsic charge carriers in m^-3\n",
"Na=5*10^23//density of acceptor concentration of silicon with arsenic in atoms\n",
"Nd=3*10^23//density of donor concentration of silicon with arsenic in atoms\n",
"\n",
"//CALCULATION\n",
"nh=(Na-Nd)//density of hole in m^-3\n",
"ne=(ni^2/(nh))/10^9//The electron concentration that is density of electrons in electrons /m^3*10^9\n",
"\n",
"//OUTPUT\n",
"printf('The electron concentration that is density of electrons is %i*10^9 electrons /m^3',ne)"
   ]
   }
,
{
		   "cell_type": "markdown",
		   "metadata": {},
		   "source": [
			"## Example 11.4: Position_of_fermi_level.sce"
		   ]
		  },
  {
"cell_type": "code",
	   "execution_count": null,
	   "metadata": {
	    "collapsed": true
	   },
	   "outputs": [],
"source": [
"clc\n",
"clear\n",
"//INPUT DATA\n",
"d=5*10^28//density of silicon atom in atoms/m^3\n",
"nd=2.5*10^7//donor concentration in 1 atom per si atom\n",
"T=300//Temperature in K\n",
"Eg=1.1*1.6*10^-19//Eg for silicon in eV\n",
"kb=1.38*10^-23//Boltzmann's Constant in m^2 Kg s^-2 k^-1\n",
"m=9.11*10^-31//mass of electon in Kg\n",
"h=6.625*10^-34//plank's constant in m^2 Kg/sec\n",
"\n",
"//CALCULATION\n",
"Nd=(d/nd)//The donor concentration in atoms/m^3\n",
"Ef=((Eg/2)+(kb*T*(log(Nd/(2*((2*3.14*m*kb*T)/h^2)^(3/2))))))/10^-20//The position of fermi level at 300K in Joule*10^-20\n",
"\n",
"//OUTPUT\n",
"printf('The position of fermi level is %3.4f*10^-20 Joule',Ef)\n",
""
   ]
   }
,
{
		   "cell_type": "markdown",
		   "metadata": {},
		   "source": [
			"## Example 11.5: Density_of_impurity_atoms.sce"
		   ]
		  },
  {
"cell_type": "code",
	   "execution_count": null,
	   "metadata": {
	    "collapsed": true
	   },
	   "outputs": [],
"source": [
"clc\n",
"clear\n",
"//INPUT DATA\n",
"ni=1.5*10^16//intrinsic charge carriers in m^-3\n",
"r1=10*10^-2//resistivity of p-type silicon in ohm m\n",
"r2=10*10^-2//resistivity of n-type silicon in ohm m\n",
"me=1350*10^-4//The mobility of the charge carrier in m^2 V^-1 s^-1\n",
"mh=480*10^-4//The hole charge carrier in m^2 V^-1 s^-1\n",
"e=1.6*10^-19//charge of electron in coulombs\n",
"\n",
"//CALCULATION\n",
"Na=(1/(r1*e*mh))/10^21//The density of the intrinsic crystal for p-type in m^-3*10^21\n",
"ne=((ni^2)/(Na*10^21))/10^11//The minor carrier concentration for p-type in electrons/m^3*10^11\n",
"Nd=(1/(r2*e*me))/10^20//The density of the intrinsic crystal for n-type in m^-3*10^20\n",
"nh=((ni^2)/(Nd*10^20))/10^11//The minor carrier concentration for n-type in electrons/m^3*10^11\n",
"\n",
"//OUTPUT\n",
"printf('The density of the intrinsic crystal for p-type is %3.4f*10^21 m^-3 \n The minor carrier concentration for p-type is %3.3f*10^11 electrons/m^3 \n The density of the intrinsic crystal for n-type is %3.3f*10^20 m^-3 \n The minor carrier concentration for n-type is %3.4f*10^11 holes/m^3',Na,ne,Nd,nh)"
   ]
   }
,
{
		   "cell_type": "markdown",
		   "metadata": {},
		   "source": [
			"## Example 11.6: Charge_carrier_density_and_electron_mobility.sce"
		   ]
		  },
  {
"cell_type": "code",
	   "execution_count": null,
	   "metadata": {
	    "collapsed": true
	   },
	   "outputs": [],
"source": [
"clc\n",
"clear\n",
"//INPUT DATA\n",
"c=112//conductivity of a n-type silicon specimen in ohm^-1 m^-1\n",
"RH=1.25*10^-3//Hall coefficient of a n-type silicon specimen in m^3 C^-1\n",
"e=1.6*10^-19//charge of electron in coulombs\n",
"\n",
"//CALCULATION\n",
"me=(c*RH)//electron mobility in m^2 V^-1 s^-1\n",
"ne=(c/(me*e))/10^21//The charge carrier density in electrons/m^3*10^21\n",
"\n",
"//OUTPUT\n",
"printf('The electron mobility is %3.2f m^2 V^-1 s^-1 \n The charge carrier density is%3.0f*10^21 electrons/m^3',me,ne)"
   ]
   }
,
{
		   "cell_type": "markdown",
		   "metadata": {},
		   "source": [
			"## Example 11.7: Hall_coefficient_of_semiconductor.sce"
		   ]
		  },
  {
"cell_type": "code",
	   "execution_count": null,
	   "metadata": {
	    "collapsed": true
	   },
	   "outputs": [],
"source": [
"clc\n",
"clear\n",
"//INPUT DATA\n",
"l=12*10^-3//length of semi conductor crystal in m\n",
"b=1*10^-3//breadth of semi conductor crystal in m\n",
"t=1*10^-3//thickness of semi conductor crystal in m\n",
"I=20*10^-3//current in A\n",
"Vh=37*10^-6//voltage measured across the width in V\n",
"B=0.5//magnetic flux density in Wb/m^2\n",
"e=1.6*10^-19//charge of electron in coulombs\n",
"\n",
"//CALCULATION\n",
"RH=((Vh*t)/(I*B))/10^-6//Hall coefficient of semiconductor in C^-1 m^3 *10^-6\n",
"ne=(1/(RH*10^-6*e))/10^23//The density of the charge carrier in electrons/m^3*10^23\n",
"\n",
"//OUTPUT\n",
"printf('Hall coefficient of semiconductor is %3.1f*10^-6 C^-1 m^3\n The density of the charge carrier is %3.2f*10^23 electrons/m^3',RH,ne)"
   ]
   }
,
{
		   "cell_type": "markdown",
		   "metadata": {},
		   "source": [
			"## Example 11.8: Hall_coefficient.sce"
		   ]
		  },
  {
"cell_type": "code",
	   "execution_count": null,
	   "metadata": {
	    "collapsed": true
	   },
	   "outputs": [],
"source": [
"clc\n",
"clear\n",
"//INPUT DATA\n",
"l=100*10^-3//length of silicon plate in m\n",
"b=10*10^-3//breadth of silicon plate in m\n",
"t=1*10^-3//thickness of silicon plate in m\n",
"I=10^-2//current in A\n",
"Vh=1.83*10^-3//voltage measured across the width in V\n",
"B=0.5//magnetic flux density in Wb/m^2\n",
"\n",
"//CALCULATION\n",
"RH=((Vh*t)/(I*B))/10^-4//Hall coefficient of silicon plate in m^3 C^-1*10^-4\n",
"\n",
"//OUTPUT\n",
"printf('Hall coefficient of silicon plate is %3.2f*10^-4 m^3 C^-1',RH)"
   ]
   }
,
{
		   "cell_type": "markdown",
		   "metadata": {},
		   "source": [
			"## Example 11.9: Density_and_mobility_of_the_charge_carrier.sce"
		   ]
		  },
  {
"cell_type": "code",
	   "execution_count": null,
	   "metadata": {
	    "collapsed": true
	   },
	   "outputs": [],
"source": [
"clc\n",
"clear\n",
"//INPUT DATA\n",
"RH=7.35*10^-5//Hall coefficient of silicon specimen in m^3 C^-1\n",
"rh=-7.35*10^-5//Hall coefficient of silicon specimen in m^3 C^-1\n",
"c=200//conductivity in ohm^-1 m^-1\n",
"e=1.6*10^-19//charge of electron in coulombs\n",
"\n",
"//CALCULATION\n",
"ne=(1/(RH*e))/10^22//The density of the charge carrier in electrons/m^3*10^22\n",
"me=(c*RH)/10^-3//The mobility of the charge carrier in m^2 V^-1 s^-1*10^-3\n",
"\n",
"//OUTPUT\n",
"printf('The negative sign of the Hall coefficient indicates that the nature of the semiconductor is n-type \n The density of the charge carrier is %3.3f*10^22 electrons/m^3 \n The mobility of the charge carrier is %3.1f*10^-3 m^2 V^-1 s^-1',ne,me)"
   ]
   }
],
"metadata": {
		  "kernelspec": {
		   "display_name": "Scilab",
		   "language": "scilab",
		   "name": "scilab"
		  },
		  "language_info": {
		   "file_extension": ".sce",
		   "help_links": [
			{
			 "text": "MetaKernel Magics",
			 "url": "https://github.com/calysto/metakernel/blob/master/metakernel/magics/README.md"
			}
		   ],
		   "mimetype": "text/x-octave",
		   "name": "scilab",
		   "version": "0.7.1"
		  }
		 },
		 "nbformat": 4,
		 "nbformat_minor": 0
}
