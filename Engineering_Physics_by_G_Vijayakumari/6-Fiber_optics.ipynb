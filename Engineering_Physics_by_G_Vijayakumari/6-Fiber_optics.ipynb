{
"cells": [
 {
		   "cell_type": "markdown",
	   "metadata": {},
	   "source": [
       "# Chapter 6: Fiber optics"
	   ]
	},
{
		   "cell_type": "markdown",
		   "metadata": {},
		   "source": [
			"## Example 6.1: Critical_and_acceptance_angle_and_numerical_aperture.sce"
		   ]
		  },
  {
"cell_type": "code",
	   "execution_count": null,
	   "metadata": {
	    "collapsed": true
	   },
	   "outputs": [],
"source": [
"clc\n",
"clear\n",
"//INPUT DATA\n",
"n1=1.545//refractive index of optical fibre core\n",
"n2=1.495//refractive index of cladding\n",
"\n",
"//CALCULATION\n",
"CA=asind(n2/n1)//critical angle in degree\n",
"AA=asind(sqrt((n1)^2-(n2)^2))//acceptance angle in degree\n",
"NA=sind(AA)//numerical aperture\n",
"\n",
"//OUTPUT\n",
"printf('The critical angle is %3.2f degrees \n The acceptance angle is %3.2f degrees \n The numerical aperture is %3.4f',CA,AA,NA)"
   ]
   }
,
{
		   "cell_type": "markdown",
		   "metadata": {},
		   "source": [
			"## Example 6.2: Numerical_aperture.sce"
		   ]
		  },
  {
"cell_type": "code",
	   "execution_count": null,
	   "metadata": {
	    "collapsed": true
	   },
	   "outputs": [],
"source": [
"clc\n",
"clear\n",
"//INPUT DATA\n",
"n1=1.54//refractive index of optical fibre core\n",
"n2=1.5//refractive index of cladding\n",
"\n",
"//CALCULATION\n",
"NA=sqrt((n1)^2-(n2)^2)//numerical aperture\n",
"\n",
"//OUTPUT\n",
"printf('The numerical aperture is %3.4f',NA)"
   ]
   }
,
{
		   "cell_type": "markdown",
		   "metadata": {},
		   "source": [
			"## Example 6.3: Critical_and_acceptance_and_numerical_aperture.sce"
		   ]
		  },
  {
"cell_type": "code",
	   "execution_count": null,
	   "metadata": {
	    "collapsed": true
	   },
	   "outputs": [],
"source": [
"clc\n",
"clear\n",
"//INPUT DATA\n",
"n1=1.55//refractive index of optical fibre core\n",
"n2=1.47//refractive index of cladding\n",
"\n",
"//CALCULATION\n",
"CA=asind(n2/n1)//critical angle in degree\n",
"NA=(sqrt((n1)^2-(n2)^2))//acceptance angle in degree\n",
"AA=asind(NA)//numerical aperture\n",
"\n",
"\n",
"//OUTPUT\n",
"printf('The critical angle is %3.2f degrees \n The numerical aperture is %3.4f \n The acceptance angle is %3.2f degrees',CA,NA,AA)"
   ]
   }
,
{
		   "cell_type": "markdown",
		   "metadata": {},
		   "source": [
			"## Example 6.4: Acceptance_angle.sce"
		   ]
		  },
  {
"cell_type": "code",
	   "execution_count": null,
	   "metadata": {
	    "collapsed": true
	   },
	   "outputs": [],
"source": [
"clc\n",
"clear\n",
"//INPUT DATA\n",
"n2=1.55//refractive index of cladding\n",
"no=1.33//refractive index of water\n",
"NA=0.20//numerical aperture of optical fibre\n",
"\n",
"//CALCULATION\n",
"n1=sqrt((n2)^2+(NA)^2)//refractive index of optical fibre\n",
"NAW=(sqrt((n1)^2-(n2)^2)/no)//numerical aperture when fibre is in water\n",
"AA=asind(NAW)//Acceptance angle for the fibre in water in degrees\n",
"\n",
"//OUTPUT\n",
"printf('The refractive index of optical fibre is %3.4f\n The numerical aperture when fibre is in water is %3.4f\n The Acceptance angle for the fibre in water is %3.2f degrees',n1,NAW,AA)"
   ]
   }
,
{
		   "cell_type": "markdown",
		   "metadata": {},
		   "source": [
			"## Example 6.5: Refractive_index.sce"
		   ]
		  },
  {
"cell_type": "code",
	   "execution_count": null,
	   "metadata": {
	    "collapsed": true
	   },
	   "outputs": [],
"source": [
"clc\n",
"clear\n",
"//INPUT DATA\n",
"NA=0.22//numerical aperture of optical fibre\n",
"no=0.012//refractive index difference\n",
"\n",
"//CALCULATION\n",
"n1=(NA/(sqrt(2*no)))//The refractive index of the core of a fibre\n",
"n2=n1*(1-no)//The refractive index of the cladding\n",
"\n",
"//OUTPUT\n",
"printf('The refractive index of the core of a fibre is %3.3f \n The refractive index of the cladding is %3.3f',n1,n2)"
   ]
   }
],
"metadata": {
		  "kernelspec": {
		   "display_name": "Scilab",
		   "language": "scilab",
		   "name": "scilab"
		  },
		  "language_info": {
		   "file_extension": ".sce",
		   "help_links": [
			{
			 "text": "MetaKernel Magics",
			 "url": "https://github.com/calysto/metakernel/blob/master/metakernel/magics/README.md"
			}
		   ],
		   "mimetype": "text/x-octave",
		   "name": "scilab",
		   "version": "0.7.1"
		  }
		 },
		 "nbformat": 4,
		 "nbformat_minor": 0
}
