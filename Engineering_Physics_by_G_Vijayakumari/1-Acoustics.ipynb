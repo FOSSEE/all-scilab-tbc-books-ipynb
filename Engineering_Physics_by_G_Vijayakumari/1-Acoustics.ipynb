{
"cells": [
 {
		   "cell_type": "markdown",
	   "metadata": {},
	   "source": [
       "# Chapter 1: Acoustics"
	   ]
	},
{
		   "cell_type": "markdown",
		   "metadata": {},
		   "source": [
			"## Example 1.10: Average_absorption_coefficient_and_reverberation_time.sce"
		   ]
		  },
  {
"cell_type": "code",
	   "execution_count": null,
	   "metadata": {
	    "collapsed": true
	   },
	   "outputs": [],
"source": [
"clc\n",
"clear\n",
"//INPUT DATA\n",
"V=1500//volume of room in m^3\n",
"a1=0.03//average sound coefficient for wall in sabine\n",
"a2=0.06//average sound coefficient for the ceiling in sabine\n",
"a3=0.8//average sound coefficient for the floor in sabine\n",
"S1=260//The wall area of the room in m^2\n",
"S2=140//The floor area of the room in m^2\n",
"S3=140//The ceiling area of the room in m^2\n",
"\n",
"//CALCULATION\n",
"a=((a1*S1)+(a2*S2)+(a3*S3))/(S1+S2+S3)//The average absorbtion coefficient in O.W.U\n",
"TS=S1+S2+S3//total area of the room in m^2\n",
"x=(a*TS)//Total sound absorbtion of the room in O.W.U-m^2\n",
"T=((0.167*V)/x)//The reverberation time in sec\n",
"\n",
"//OUTPUT\n",
"printf('The average absorbtion coefficient is %3.4f O.W.U \n The reverberation time is %3.4f sec',a,T)"
   ]
   }
,
{
		   "cell_type": "markdown",
		   "metadata": {},
		   "source": [
			"## Example 1.11: Area_of_interior_surfaces.sce"
		   ]
		  },
  {
"cell_type": "code",
	   "execution_count": null,
	   "metadata": {
	    "collapsed": true
	   },
	   "outputs": [],
"source": [
"clc\n",
"clear\n",
"//INPUT DATA\n",
"V=12000//volume of auditorium in m^3\n",
"T=1.5//The reverberation time of the auditorium in sec\n",
"a=0.4//average absorption coefficient in sabine\n",
"\n",
"//CALCULTION\n",
"S=(0.167*V)/(a*T)//area of interior surfaces in m^2\n",
"\n",
"//OUTPUT\n",
"printf('The area of interior surfaces is %i m^2',S)"
   ]
   }
,
{
		   "cell_type": "markdown",
		   "metadata": {},
		   "source": [
			"## Example 1.12: Total_absorptio.sce"
		   ]
		  },
  {
"cell_type": "code",
	   "execution_count": null,
	   "metadata": {
	    "collapsed": true
	   },
	   "outputs": [],
"source": [
"clc\n",
"clear\n",
"//INPUT DATA\n",
"V=7500//volume of cinema hall in m^3\n",
"T=1.5//The reverberation time of the cinema hall in sec\n",
"\n",
"//CALCULATION\n",
"TaS=(0.167*V)/(T)//The total absorbtion in the hall in sabine m^2\n",
"\n",
"//OUTPUT\n",
"printf('The total absorbtion in the hall is %i sabine m^2',TaS)"
   ]
   }
,
{
		   "cell_type": "markdown",
		   "metadata": {},
		   "source": [
			"## Example 1.13: New_reverberation_time.sce"
		   ]
		  },
  {
"cell_type": "code",
	   "execution_count": null,
	   "metadata": {
	    "collapsed": true
	   },
	   "outputs": [],
"source": [
"clc\n",
"clear\n",
"//INPUT DATA\n",
"V=12500//volume of hall in m^3\n",
"T1=1.5//The reverberation time of the hall in sec\n",
"a2S2=200//The number of cushioned chairs are additionally placed in the hall in sabine-m^2\n",
"\n",
"//CALCULATION\n",
"Ta1S1=(0.167*V)/T1//The reverberation time before placed cushioned chairs in sabine -m^2\n",
"T2=(0.167*V)/(Ta1S1+a2S2)//The new reverberation time after placing the cushioned chairs in sec\n",
"\n",
"//OUTPUT\n",
"printf('The new reverberation time after placing the cushioned chairs is %3.4f sec',T2)\n",
""
   ]
   }
,
{
		   "cell_type": "markdown",
		   "metadata": {},
		   "source": [
			"## Example 1.14: Reverberation_time_in_sec.sce"
		   ]
		  },
  {
"cell_type": "code",
	   "execution_count": null,
	   "metadata": {
	    "collapsed": true
	   },
	   "outputs": [],
"source": [
"clc\n",
"clear\n",
"//INPUT DATA\n",
"V=475//volume of hall in m^3\n",
"a1=0.025//absorbtion coefficient for wall in O.W.U\n",
"a2=0.02//absorbtion coefficient for the ceiling in O.W.U\n",
"a3=0.55//absorbtion coefficient for the floor in O.W.U\n",
"S1=200//The wall area of the room in m^2\n",
"S2=100//The floor area of the room in m^2\n",
"S3=100//The ceiling area of the room in m^2\n",
"\n",
"//CALCULATION\n",
"TaS=((a1*S1)+(a2*S2)+(a3*S3))//The average absorbtion coefficient in O.W.U-m^2\n",
"T=((0.167*V)/TaS)//The reverberation time in sec\n",
"\n",
"//OUTPUT\n",
"printf('The reverberation time for the hall is %3.4f sec',T)"
   ]
   }
,
{
		   "cell_type": "markdown",
		   "metadata": {},
		   "source": [
			"## Example 1.15: Effect_of_reverberation_time.sce"
		   ]
		  },
  {
"cell_type": "code",
	   "execution_count": null,
	   "metadata": {
	    "collapsed": true
	   },
	   "outputs": [],
"source": [
"clc\n",
"clear\n",
"//INPUT DATA\n",
"V=2265//volume of hall in m^3\n",
"Ta1S1=94.85//The total absorbtion coefficient in m^2\n",
"\n",
"//CALCULATION\n",
"T1=((0.167*V)/Ta1S1)//The reverberation time in the hall without audience in sec\n",
"Ta2S2=2*Ta1S1//The new absorbtion coefficient in m^2\n",
"T2=((0.167*V)/Ta2S2)//The reverberation time in the hall with audience in sec\n",
"\n",
"//OUTPUT\n",
"printf('The reverberation time in the hall without audience is %3.3f sec \n The reverberation time in the hall with audience is %3.3f sec \n Thus,the reverberation reduces to half of its initial value when the audience fill the hall.',T1,T2)"
   ]
   }
,
{
		   "cell_type": "markdown",
		   "metadata": {},
		   "source": [
			"## Example 1.16: Average_absorbing_power_of_the_surface.sce"
		   ]
		  },
  {
"cell_type": "code",
	   "execution_count": null,
	   "metadata": {
	    "collapsed": true
	   },
	   "outputs": [],
"source": [
"clc\n",
"clear\n",
"//INPUT DATA\n",
"V=120000//Volume of the hall in m^3\n",
"T=1.55//The reverberation time in sec\n",
"S=26500//The total absorbing surface in m^2\n",
"\n",
"//CALCULATION\n",
"TaS=(0.167*V)/T//The average absorbtion coefficient in sabine-m^2\n",
"a=(TaS/S)//The average absorbing power of the surface in sabine\n",
"\n",
"//OUTPUT\n",
"printf('The average absorbing power of the surface is %3.4f sabine',a)"
   ]
   }
,
{
		   "cell_type": "markdown",
		   "metadata": {},
		   "source": [
			"## Example 1.1: sound_intensity_level.sce"
		   ]
		  },
  {
"cell_type": "code",
	   "execution_count": null,
	   "metadata": {
	    "collapsed": true
	   },
	   "outputs": [],
"source": [
"clc\n",
"clear\n",
"//INPUT DATA\n",
"i=20//the intensity of a source is increased 20 times\n",
"\n",
"//CALCULATION\n",
"I=(10*(log10(i)))//intensity of sound in dB\n",
"\n",
"//OUTPUT\n",
"printf('The sound intensity level is imcreased by %i dB when the intensity is doubled',I)"
   ]
   }
,
{
		   "cell_type": "markdown",
		   "metadata": {},
		   "source": [
			"## Example 1.2: Intensity_level.sce"
		   ]
		  },
  {
"cell_type": "code",
	   "execution_count": null,
	   "metadata": {
	    "collapsed": true
	   },
	   "outputs": [],
"source": [
"clc\n",
"clear\n",
"//INPUT DATA\n",
"i=4//the intensity of a source is increased 4 times\n",
"\n",
"//CALCULATION\n",
"I=(10*(log10(i)))//intensity of sound in dB\n",
"\n",
"//OUTPUT\n",
"printf('The sound intensity level is increased by %i dB',I)"
   ]
   }
,
{
		   "cell_type": "markdown",
		   "metadata": {},
		   "source": [
			"## Example 1.3: Intensity_level_of_plane.sce"
		   ]
		  },
  {
"cell_type": "code",
	   "execution_count": null,
	   "metadata": {
	    "collapsed": true
	   },
	   "outputs": [],
"source": [
"clc\n",
"clear\n",
"//INPUT DATA\n",
"I=1000//sound intensity of plane leaving the runway in Wm^-2\n",
"Io=10^-12//threshold intensity of sound in Wm^-2\n",
"\n",
"//CALCULATION\n",
"IL=(10*log10(I/Io))//The intensity level of a plane just leaving the runway in dB\n",
"\n",
"//OUTPUT\n",
"printf('The intensity level of a plane just leaving the runway is %i dB',IL)"
   ]
   }
,
{
		   "cell_type": "markdown",
		   "metadata": {},
		   "source": [
			"## Example 1.4: Intensity_of_sound_in_dB.sce"
		   ]
		  },
  {
"cell_type": "code",
	   "execution_count": null,
	   "metadata": {
	    "collapsed": true
	   },
	   "outputs": [],
"source": [
"clc\n",
"clear\n",
"//INPUT DATA\n",
"I=10^-6//intensity of sound during heavy traffic in Wm^-2\n",
"Io=10^-12//threshold intensity of sound in Wm^-2\n",
"\n",
"//CALCULATION\n",
"IL=(10*log10(I/Io))//The intensity level in dB\n",
"\n",
"//OUTPUT\n",
"printf('The intensity level is %i dB',IL)"
   ]
   }
,
{
		   "cell_type": "markdown",
		   "metadata": {},
		   "source": [
			"## Example 1.5: Intensity_level_in_dB.sce"
		   ]
		  },
  {
"cell_type": "code",
	   "execution_count": null,
	   "metadata": {
	    "collapsed": true
	   },
	   "outputs": [],
"source": [
"clc\n",
"clear\n",
"//INPUT DATA\n",
"Q=3.56//rate of energy radiates in W\n",
"r=15//distance of intensity level in m\n",
"Io=100//reference intensity in Wm^-2\n",
"\n",
"//CALCULATION\n",
"A=4*3.14*r*r//Area in m^2\n",
"I=(Q/A)//sound intensity in Wm^-2\n",
"IL=(10*log10(I/Io))//The intensity level in dB\n",
"\n",
"//OUTPUT\n",
"printf('The intensity level is %3.3f dB',IL)"
   ]
   }
,
{
		   "cell_type": "markdown",
		   "metadata": {},
		   "source": [
			"## Example 1.6: Resultant_sound_level.sce"
		   ]
		  },
  {
"cell_type": "code",
	   "execution_count": null,
	   "metadata": {
	    "collapsed": true
	   },
	   "outputs": [],
"source": [
"clc\n",
"clear\n",
"//INPUT DATA\n",
"Il1=70//sound in dB\n",
"Il2=80//sound in dB\n",
"\n",
"//CALCULATION\n",
"I1=10^(Il1/10)//ratio of intensity\n",
"I2=10^(Il2/10)//ratio of intensity\n",
"I=I1+I2//intensity of sound in dB\n",
"Il=10*log10(I)//resultant intensity in dB\n",
"\n",
"//OUTPUT\n",
"printf('The resultant sound level is %3.2f dB',Il)"
   ]
   }
,
{
		   "cell_type": "markdown",
		   "metadata": {},
		   "source": [
			"## Example 1.7: Noise_level.sce"
		   ]
		  },
  {
"cell_type": "code",
	   "execution_count": null,
	   "metadata": {
	    "collapsed": true
	   },
	   "outputs": [],
"source": [
"clc\n",
"clear\n",
"//INPUT DATA\n",
"i=4//the intensity of a source when 4 such drills are working at the same distance away\n",
"I1=95//The noise level of sound from a drill in dB\n",
"\n",
"//CALCULATION\n",
"I2=(10*(log10(i)))//intensity of source in dB\n",
"IL=I1+I2//The noise level at this point when 4 such drills are working at the same distance away in dB\n",
"\n",
"//OUTPUT\n",
"printf('The noise level at this point when 4 such drills are working at the same distance away is %3.2f dB',IL)"
   ]
   }
,
{
		   "cell_type": "markdown",
		   "metadata": {},
		   "source": [
			"## Example 1.8: Flow_of_energy.sce"
		   ]
		  },
  {
"cell_type": "code",
	   "execution_count": null,
	   "metadata": {
	    "collapsed": true
	   },
	   "outputs": [],
"source": [
"clc\n",
"clear\n",
"//INPUT DATA\n",
"f=426//frequency of sound in Hz\n",
"a=0.65*10^-2//amplitude of sound wave in m\n",
"A=1//area in m^2\n",
"v=340//velocity of sound in air in ms^-1\n",
"d=1.29//density of air in Kg m^-3\n",
"\n",
"//CALCULATION\n",
"I=(2*3.14*3.14*f^2*a^2*d*v)/10^4//The flow of energy across 1m^2 per second in Wm^-2*10^4\n",
"\n",
"//OUTPUT\n",
"printf('The flow of energy across 1m^2 per second is %3.3f*10^4 Wm^-2',I)"
   ]
   }
,
{
		   "cell_type": "markdown",
		   "metadata": {},
		   "source": [
			"## Example 1.9: Reverberation_time.sce"
		   ]
		  },
  {
"cell_type": "code",
	   "execution_count": null,
	   "metadata": {
	    "collapsed": true
	   },
	   "outputs": [],
"source": [
"clc\n",
"clear\n",
"//INPUT DATA\n",
"V=1000//volume of hall in m^3\n",
"S=400//sound absorbing surface of area in m^2\n",
"a=0.2//average absorption coefficient in sabine\n",
"\n",
"//CALCULTION\n",
"T=(0.167*V)/(a*S)//The reverberation time of the hall in sec\n",
"\n",
"//OUTPUT\n",
"printf('The reverberation time of the hall is %3.2f sec',T)"
   ]
   }
],
"metadata": {
		  "kernelspec": {
		   "display_name": "Scilab",
		   "language": "scilab",
		   "name": "scilab"
		  },
		  "language_info": {
		   "file_extension": ".sce",
		   "help_links": [
			{
			 "text": "MetaKernel Magics",
			 "url": "https://github.com/calysto/metakernel/blob/master/metakernel/magics/README.md"
			}
		   ],
		   "mimetype": "text/x-octave",
		   "name": "scilab",
		   "version": "0.7.1"
		  }
		 },
		 "nbformat": 4,
		 "nbformat_minor": 0
}
