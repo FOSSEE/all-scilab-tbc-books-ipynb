{
"cells": [
 {
		   "cell_type": "markdown",
	   "metadata": {},
	   "source": [
       "# Chapter 9: Energy Bands in Solids"
	   ]
	},
{
		   "cell_type": "markdown",
		   "metadata": {},
		   "source": [
			"## Example 9.10: Fermi_energy.sce"
		   ]
		  },
  {
"cell_type": "code",
	   "execution_count": null,
	   "metadata": {
	    "collapsed": true
	   },
	   "outputs": [],
"source": [
"clc\n",
"clear\n",
"//INPUT DATA\n",
"n=2//number of atoms/unit cell in cesium which is Bcc\n",
"a=6.14*10^-10//lattice constant of cesium which is BCC crystal in m\n",
"nf=1//number of free electrons per atom in cesium\n",
"m=9.11*10^-31//mass of electon in Kg\n",
"h=6.625*10^-34//plank's constant in m^2 Kg/sec\n",
"KB=1.38*10^-23//Boltzmann's Constant in m^2 Kg s^-2 k^-1\n",
"e=1.6*10^-19//charge of electro in C\n",
"\n",
"//CALCULATION\n",
"nc=(n*nf)/(a*a*a)//number of electrons per unit volume\n",
"Ef=(((h*h)/(8*m)*((3*nc)/3.14)^(2/3))/e)//The fermi energy for the metal in eV\n",
"\n",
"//OUTPUT\n",
"printf('The fermi energy for cesium is %3.3f eV',Ef)"
   ]
   }
,
{
		   "cell_type": "markdown",
		   "metadata": {},
		   "source": [
			"## Example 9.11: Number_of_free_electrons.sce"
		   ]
		  },
  {
"cell_type": "code",
	   "execution_count": null,
	   "metadata": {
	    "collapsed": true
	   },
	   "outputs": [],
"source": [
"clc\n",
"clear\n",
"//INPUT DATA\n",
"Ef=2.1*1.6*10^-19//The fermi energy level in potassium at a particular temperature in J\n",
"m=9.11*10^-31//mass of electon in Kg\n",
"h=6.625*10^-34//plank's constant in m^2 Kg/sec\n",
"\n",
"//CALCULATION\n",
"nc=(((8*m)/(h*h)*Ef)^(3/2)*(3.14/3))/10^28//ThE Number of free electrons per unit volume in potassium at the same temperature in electrons/m^3*10^28\n",
"\n",
"//OUTPUT\n",
"printf('ThE Number of free electrons per unit volume in potassium at the same temperature is %3.3f*10^28 electrons/m^3',nc)"
   ]
   }
,
{
		   "cell_type": "markdown",
		   "metadata": {},
		   "source": [
			"## Example 9.12: Fermi_energy.sce"
		   ]
		  },
  {
"cell_type": "code",
	   "execution_count": null,
	   "metadata": {
	    "collapsed": true
	   },
	   "outputs": [],
"source": [
"clc\n",
"clear\n",
"//INPUT DATA\n",
"AW=23//atomic weight of sodium in gm/mole\n",
"d=0.971*10^6//density of sodium in gm/m^3\n",
"m=9.11*10^-31//mass of electon in Kg\n",
"h=6.625*10^-34//plank's constant in m^2 Kg/sec\n",
"AV=6.02*10^23//Avagadro number in mole^-1\n",
"e=1.6*10^-19//charge of electro in C\n",
"\n",
"//CALCULATION\n",
"nc=(AV*d)/AW//number of electrons per unit volume\n",
"Ef=(((h*h)/(8*m)*((3*nc)/3.14)^(2/3))/e)//The fermi energy for the sodium in eV\n",
"\n",
"//OUTPUT\n",
"printf('The fermi energy for the sodium is %3.3f eV',Ef)"
   ]
   }
,
{
		   "cell_type": "markdown",
		   "metadata": {},
		   "source": [
			"## Example 9.13: Fermi_energy_in_copper.sce"
		   ]
		  },
  {
"cell_type": "code",
	   "execution_count": null,
	   "metadata": {
	    "collapsed": true
	   },
	   "outputs": [],
"source": [
"clc\n",
"clear\n",
"//INPUT DATA\n",
"AW=63.5//atomic weight of copper in u\n",
"M=63.5*1.66*10^-27//mass of one copper atom in Kg\n",
"d=8.94*10^3//density of sodium in Kg/m^3\n",
"m=9.11*10^-31//mass of electon in Kg\n",
"h=6.625*10^-34//plank's constant in m^2 Kg/sec\n",
"e=1.6*10^-19//charge of electro in C\n",
"\n",
"//CALCULATION\n",
"nc=(d)/M//number of electrons per unit volume in electrons/m^3\n",
"Ef=(((h*h)/(8*m)*((3*nc)/3.14)^(2/3))/e)//The fermi energy for the sodium in eV\n",
"\n",
"//OUTPUT\n",
"printf('The fermi energy for the sodium is %3.3f eV',Ef)"
   ]
   }
,
{
		   "cell_type": "markdown",
		   "metadata": {},
		   "source": [
			"## Example 9.1: Fermi_function.sce"
		   ]
		  },
  {
"cell_type": "code",
	   "execution_count": null,
	   "metadata": {
	    "collapsed": true
	   },
	   "outputs": [],
"source": [
"clc\n",
"clear\n",
"//INPUT DATA\n",
"//E-EF=KT\n",
"//K=KB is the boltzmann constant in m^2 Kg s^-2 k^-1\n",
"\n",
"//CALCULATION\n",
"f=1/(1+exp(1))//The fermi function for an energy kt above fermi energy\n",
"\n",
"//OUPUT\n",
"printf('The fermi function for an energy kt above fermi energy is %3.3f',f)"
   ]
   }
,
{
		   "cell_type": "markdown",
		   "metadata": {},
		   "source": [
			"## Example 9.2: Fermi_function.sce"
		   ]
		  },
  {
"cell_type": "code",
	   "execution_count": null,
	   "metadata": {
	    "collapsed": true
	   },
	   "outputs": [],
"source": [
"clc\n",
"clear\n",
"//INPUT DATA\n",
"X=0.01*1.6*10^-19//difference between energy and fermi energy in J\n",
"T=200//temperature in k\n",
"KB=1.38*10^-23//Boltzmann's Constant in J/K\n",
"\n",
"//CALCULATION\n",
"f=1/(1+exp(X/(KB*T)))//The fermi function\n",
"\n",
"//OUTPUT\n",
"printf('The fermi function is %3.5f',f)"
   ]
   }
,
{
		   "cell_type": "markdown",
		   "metadata": {},
		   "source": [
			"## Example 9.3: Fermi_velocity.sce"
		   ]
		  },
  {
"cell_type": "code",
	   "execution_count": null,
	   "metadata": {
	    "collapsed": true
	   },
	   "outputs": [],
"source": [
"clc\n",
"clear\n",
"//INPUT DATA\n",
"EF=11.63*1.6*10^-19//fermi energy of conducting electron in aluminium in J\n",
"t=7.3*10^-15//relaxation time for electron in sec\n",
"m=9.11*10^-31//mass of electon in Kg\n",
"\n",
"//CALCULATION\n",
"Vf=(sqrt((2*EF)/m))/10^6//The fermi velocity fo conducting electron in aluminium in ms^-1*10^6\n",
"x=(t*Vf*10^6)/10^-9//mean free path for conducting electron of aluminium in nm\n",
"\n",
"//OUTPUT\n",
"printf('The fermi velocity fo conducting electron in aluminium is %3.4f*10^6 ms^-1 \n The mean free path for conducting electron of aluminium is %3.4f nm',Vf,x)"
   ]
   }
,
{
		   "cell_type": "markdown",
		   "metadata": {},
		   "source": [
			"## Example 9.4: Fermi_energy_and_temperature.sce"
		   ]
		  },
  {
"cell_type": "code",
	   "execution_count": null,
	   "metadata": {
	    "collapsed": true
	   },
	   "outputs": [],
"source": [
"clc\n",
"clear\n",
"//INPUT DATA\n",
"Vf=0.86*10^6//The femi energy of electons in the metal in m/sec\n",
"m=9.11*10^-31//mass of electon in Kg\n",
"KB=1.38*10^-23//Boltzmann's Constant in m^2 Kg s^-2 k^-1\n",
"\n",
"//CALCULATION\n",
"Ef=((1/2)*m*Vf^2)/10^-19//The fermi energy in a metal in J*10^-19\n",
"Tf=(Ef*10^-19/KB)/10^3//The fermi temperature in a metal in K*10^3\n",
"\n",
"//OUTPUT\n",
"printf('The fermi energy in a metal is %3.4f*10^-19 J \n The fermi temperature in a metal is %3.2f*10^3 K',Ef,Tf)"
   ]
   }
,
{
		   "cell_type": "markdown",
		   "metadata": {},
		   "source": [
			"## Example 9.5: Fermi_temperature_and_velocity.sce"
		   ]
		  },
  {
"cell_type": "code",
	   "execution_count": null,
	   "metadata": {
	    "collapsed": true
	   },
	   "outputs": [],
"source": [
"clc\n",
"clear\n",
"//INPUT DATA\n",
"Ef=3.2*1.6*10^-19//The fermi energy in a metal in J\n",
"m=9.11*10^-31//mass of electon in Kg\n",
"KB=1.38*10^-23//Boltzmann's Constant in m^2 Kg s^-2 k^-1\n",
"\n",
"//CALCULATION\n",
"Tf=(Ef/KB)/10^3//The fermi temparature for sodium in K*10^6\n",
"Vf=(sqrt((2*Ef)/m))/10^6//The fermi velocity fo conducting electron in aluminium in ms^-1*10^6\n",
"\n",
"//OUTPUT\n",
"printf('The fermi temparature for sodium is %3.2f*10^3 K \n The fermi velocity fo conducting electron in aluminium is %3.4f*10^6 ms^-1',Tf,Vf)"
   ]
   }
,
{
		   "cell_type": "markdown",
		   "metadata": {},
		   "source": [
			"## Example 9.6: Temperature.sce"
		   ]
		  },
  {
"cell_type": "code",
	   "execution_count": null,
	   "metadata": {
	    "collapsed": true
	   },
	   "outputs": [],
"source": [
"clc\n",
"clear\n",
"//INPUT DATA\n",
"E=5.5*1.6*10^-19//energy level in J\n",
"Ef=5*1.6*10^-19//fermi energy level in J\n",
"x=0.5*1.6*10^-19//Difference between energy and fermi energy in J\n",
"f=0.01//fermi function at which there is 1% probability that an electron in a solid\n",
"KB=1.38*10^-23//Boltzmann's Constant in m^2 Kg s^-2 k^-1\n",
"\n",
"//CALCULATION\n",
"T=(x/(KB*(log(1-f)-log(f))))/10^3//The temperature at which there is 1% probability that an electron in a solid in K*10^3\n",
"\n",
"//output\n",
"printf('The temperature at which there is one percentage  probability that an electron in a solid is %3.4f*10^3 K',T)"
   ]
   }
,
{
		   "cell_type": "markdown",
		   "metadata": {},
		   "source": [
			"## Example 9.7: Energies.sce"
		   ]
		  },
  {
"cell_type": "code",
	   "execution_count": null,
	   "metadata": {
	    "collapsed": true
	   },
	   "outputs": [],
"source": [
"clc\n",
"clear\n",
"//INPUT DATA\n",
"Ef=2.1*1.6*10^-19//fermi energy level in potassium in J\n",
"f1=0.99//fermi factor for 1st\n",
"f2=0.01//fermi factor for 2nd\n",
"f3=0.5//fermi factor for 3rd\n",
"T=300//temperature in K\n",
"e=1.6*10^-19//charge of electro in C\n",
"KB=1.38*10^-23//Boltzmann's Constant in m^2 Kg s^-2 k^-1\n",
"\n",
"//CALCULATION\n",
"E1=(Ef+((KB*T)*(log(1-f1)-log(f1))))/e//The energy for probability of occupancy at 1st at which the 300k in eV\n",
"E2=(Ef+((KB*T)*(log(1-f2)-log(f2))))/e//The energy for 1st at which the probability of occupancy at 300k in eV\n",
"E3=(Ef+((KB*T)*(log(1-f3)-log(f3))))/e//The energy for 1st at which the probability of occupancy at 300k in eV\n",
"\n",
"//OUTPUT\n",
"printf('The energy for probability of occupancy at 1st at which the T is %3.2f eV\n The energy for probability of occupancy at 2nd at which the T is %3.2f eV\n The energy for probability of occupancy at 1st at which the T is %3.1f eV',E1,E2,E3)"
   ]
   }
,
{
		   "cell_type": "markdown",
		   "metadata": {},
		   "source": [
			"## Example 9.8: Probability_of_the_level.sce"
		   ]
		  },
  {
"cell_type": "code",
	   "execution_count": null,
	   "metadata": {
	    "collapsed": true
	   },
	   "outputs": [],
"source": [
"clc\n",
"clear\n",
"//INPUT DATA\n",
"X=0.1*1.6*10^-19//difference between energy and fermi energy in J\n",
"T=300//temperature in k\n",
"KB=1.38*10^-23//Boltzmann's Constant in m^2 Kg s^-2 k^-1\n",
"\n",
"//CALCULATION\n",
"f=1-1/(1+exp(X/(KB*T)))//The probability of unoccupancy by an electron at room temperature \n",
"\n",
"//OUTPUT\n",
"printf('The probability of unoccupancy by an electron at room temperature is %3.5f',f)"
   ]
   }
,
{
		   "cell_type": "markdown",
		   "metadata": {},
		   "source": [
			"## Example 9.9: Fermi_factor.sce"
		   ]
		  },
  {
"cell_type": "code",
	   "execution_count": null,
	   "metadata": {
	    "collapsed": true
	   },
	   "outputs": [],
"source": [
"clc\n",
"clear\n",
"//INPUT DATA\n",
"n=4//number of atoms/unit cell in Aliminium\n",
"a=4.05*10^-10//lattice constant of Aluminium which is FCC crystal in m\n",
"nf=3//number of free electrons per atom in Aluminium\n",
"T=300//ambient temperature in K\n",
"x=0.1*1.6*10^-19//The same difference energy and fermi energy but in J\n",
"m=9.11*10^-31//mass of electon in Kg\n",
"h=6.625*10^-34//plank's constant in m^2 Kg/sec\n",
"KB=1.38*10^-23//Boltzmann's Constant in m^2 Kg s^-2 k^-1\n",
"\n",
"//CALCULATION\n",
"nc=(n*nf)/(a*a*a)//number of electrons per unit volume\n",
"Ef=((h*h)/(8*m)*((3*nc)/3.14)^(2/3))/10^-18//The fermi energy for the metal in eV*10^-18\n",
"f=1/(1+exp(x/(KB*T)))//The fermi factor\n",
"\n",
"//OUTPUT\n",
"printf('The fermi energy for the metal is %3.2f*10^-18 eV \n The fermi factor is %3.4f',Ef,f)"
   ]
   }
],
"metadata": {
		  "kernelspec": {
		   "display_name": "Scilab",
		   "language": "scilab",
		   "name": "scilab"
		  },
		  "language_info": {
		   "file_extension": ".sce",
		   "help_links": [
			{
			 "text": "MetaKernel Magics",
			 "url": "https://github.com/calysto/metakernel/blob/master/metakernel/magics/README.md"
			}
		   ],
		   "mimetype": "text/x-octave",
		   "name": "scilab",
		   "version": "0.7.1"
		  }
		 },
		 "nbformat": 4,
		 "nbformat_minor": 0
}
