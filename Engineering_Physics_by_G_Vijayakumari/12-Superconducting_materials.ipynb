{
"cells": [
 {
		   "cell_type": "markdown",
	   "metadata": {},
	   "source": [
       "# Chapter 12: Superconducting materials"
	   ]
	},
{
		   "cell_type": "markdown",
		   "metadata": {},
		   "source": [
			"## Example 12.1: Transition_temperature.sce"
		   ]
		  },
  {
"cell_type": "code",
	   "execution_count": null,
	   "metadata": {
	    "collapsed": true
	   },
	   "outputs": [],
"source": [
"clc\n",
"clear\n",
"//INPUT DATA\n",
"M1=202//mass number of mercury\n",
"a=0.50//coefficient of mass number\n",
"T1=4.2//temperature in k for mass number 200\n",
"M2=200//mass number of mercury\n",
"\n",
"//CALCULATION\n",
"T2=((M1/M2)^a)*T1//The transition temperature for the isotope of mercury of mass number 200 in k\n",
"\n",
"//OUTPUT\n",
"printf('The transition temperature for the isotope of mercury of mass number200 is %3.4f k',T2)"
   ]
   }
,
{
		   "cell_type": "markdown",
		   "metadata": {},
		   "source": [
			"## Example 12.2: Critical_field.sce"
		   ]
		  },
  {
"cell_type": "code",
	   "execution_count": null,
	   "metadata": {
	    "collapsed": true
	   },
	   "outputs": [],
"source": [
"clc\n",
"clear\n",
"//INPUT DATA\n",
"Tc=9.15//critical temperature of Nb in K\n",
"t=6//temperature of critical field in K\n",
"Ho=0.196//The critical field AT 0K in T\n",
"\n",
"//CALCULATION\n",
"Hc=(Ho*(1-(t/Tc)^2))//The critical field at 6K in T\n",
"\n",
"//OUTPUT\n",
"printf('The critical field at %iK is %3.4f T',t,Hc)"
   ]
   }
,
{
		   "cell_type": "markdown",
		   "metadata": {},
		   "source": [
			"## Example 12.3: Isotopic_mass.sce"
		   ]
		  },
  {
"cell_type": "code",
	   "execution_count": null,
	   "metadata": {
	    "collapsed": true
	   },
	   "outputs": [],
"source": [
"clc\n",
"clear\n",
"//INPUT DATA\n",
"M1=199.5//Isotopic mass of metal\n",
"T1=4.185//Critical temperature for a metal with isotopic mass in k\n",
"T2=4.133//fall of critical temperature for a metal with isotopic mass in k\n",
"a=0.50//coefficient of mass\n",
"\n",
"//CALCULATION\n",
"M2=(((M1)^a)*(T1/T2))^2//The Isotopic mass if the critical temperature falls to 4.133\n",
"\n",
"//OUTPUT\n",
"printf('The Isotopic mass if the critical temperature falls to %3.3fK is %3.2f',T2,M2)"
   ]
   }
,
{
		   "cell_type": "markdown",
		   "metadata": {},
		   "source": [
			"## Example 12.4: Critical_current.sce"
		   ]
		  },
  {
"cell_type": "code",
	   "execution_count": null,
	   "metadata": {
	    "collapsed": true
	   },
	   "outputs": [],
"source": [
"clc\n",
"clear\n",
"//INPUT DATA\n",
"Hc=7.2*10^3//The critical magnetic field in A/m\n",
"r=0.5*10^-3//radius of long thin superconducting wire in m\n",
"\n",
"//CALCULATION\n",
"Ic=(2*3.14*Hc*r)//The critical current through a long thin superconductor in A\n",
"\n",
"//OUTPUT\n",
"printf('The critical current through a long thin superconductor is %3.3f A',Ic)"
   ]
   }
,
{
		   "cell_type": "markdown",
		   "metadata": {},
		   "source": [
			"## Example 12.5: Critical_field.sce"
		   ]
		  },
  {
"cell_type": "code",
	   "execution_count": null,
	   "metadata": {
	    "collapsed": true
	   },
	   "outputs": [],
"source": [
"clc\n",
"clear\n",
"//INPUT DATA\n",
"Tc=3.7//critical temperature of superconducting Sn in K\n",
"t=2//temperature of critical field in K\n",
"Ho=0.0306//The critical field at 0K in T\n",
"\n",
"//CALCULATION\n",
"Hc=(Ho*(1-(t/Tc)^2))//The critical field at 6K in T\n",
"\n",
"//OUTPUT\n",
"printf('The critical field at %iK is %3.6f tesla',t,Hc)"
   ]
   }
,
{
		   "cell_type": "markdown",
		   "metadata": {},
		   "source": [
			"## Example 12.6: Critical_current.sce"
		   ]
		  },
  {
"cell_type": "code",
	   "execution_count": null,
	   "metadata": {
	    "collapsed": true
	   },
	   "outputs": [],
"source": [
"clc\n",
"clear\n",
"//INPUT DATA\n",
"Ho=6.5*10^4//The critical field at 0K in A/m\n",
"Tc=7.18//The temperature for lead in K\n",
"r=0.5*10^-3//radius of superconducting wire of lead in m\n",
"T=4.2//temperature of superconducting wire in K\n",
"\n",
"//CALCULATION\n",
"Hc=(Ho*(1-(T/Tc)^2))//The critical field in KA/m\n",
"Ic=2*3.14*Hc*r//The critical density for a superconducting wire of lead is in A\n",
"\n",
"//OUTPUT\n",
"printf('The critical density for a superconducting wire of lead is %3.2f in A',Ic)"
   ]
   }
,
{
		   "cell_type": "markdown",
		   "metadata": {},
		   "source": [
			"## Example 12.7: Critical_temperature.sce"
		   ]
		  },
  {
"cell_type": "code",
	   "execution_count": null,
	   "metadata": {
	    "collapsed": true
	   },
	   "outputs": [],
"source": [
"clc\n",
"clear\n",
"//INPUT DATA\n",
"Hc=10^5//The critical field for vanadium at 8.58K in A/m\n",
"Ho=2*10^5//The critical field for vanadium at 0K in A/m\n",
"T=8.58//temperature for vanadium in K\n",
"\n",
"//CALCULATION\n",
"Tc=(T/(sqrt(1-(Hc/Ho))))//The critical temperature in K\n",
"\n",
"//OUTPUT\n",
"printf('The critical temperature is %3.3f K',Tc)"
   ]
   }
,
{
		   "cell_type": "markdown",
		   "metadata": {},
		   "source": [
			"## Example 12.8: Frequency_of_the_radiation.sce"
		   ]
		  },
  {
"cell_type": "code",
	   "execution_count": null,
	   "metadata": {
	    "collapsed": true
	   },
	   "outputs": [],
"source": [
"clc\n",
"clear\n",
"//INPUT DATA\n",
"V=5.9*10^-6//voltage applied across a Josephson junction in V\n",
"e=1.6*10^-19//charge of electron in coulombs\n",
"h=6.62*10^-34//Planck's constant in J-sec\n",
"\n",
"//CALCULATION\n",
"v=((2*e*V)/h)/10^9//The frequency of the radiation emitted by the junction in Hz\n",
"\n",
"//OUTPUT\n",
"printf('The frequency of the radiation emitted by the junction is %3.3f*10^9 Hz',v)"
   ]
   }
],
"metadata": {
		  "kernelspec": {
		   "display_name": "Scilab",
		   "language": "scilab",
		   "name": "scilab"
		  },
		  "language_info": {
		   "file_extension": ".sce",
		   "help_links": [
			{
			 "text": "MetaKernel Magics",
			 "url": "https://github.com/calysto/metakernel/blob/master/metakernel/magics/README.md"
			}
		   ],
		   "mimetype": "text/x-octave",
		   "name": "scilab",
		   "version": "0.7.1"
		  }
		 },
		 "nbformat": 4,
		 "nbformat_minor": 0
}
