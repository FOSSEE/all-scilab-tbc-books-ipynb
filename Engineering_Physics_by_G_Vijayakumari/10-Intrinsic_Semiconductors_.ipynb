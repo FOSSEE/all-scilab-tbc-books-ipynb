{
"cells": [
 {
		   "cell_type": "markdown",
	   "metadata": {},
	   "source": [
       "# Chapter 10: Intrinsic Semiconductors "
	   ]
	},
{
		   "cell_type": "markdown",
		   "metadata": {},
		   "source": [
			"## Example 10.10: Conductivity_of_Ge.sce"
		   ]
		  },
  {
"cell_type": "code",
	   "execution_count": null,
	   "metadata": {
	    "collapsed": true
	   },
	   "outputs": [],
"source": [
"clc\n",
"clear\n",
"//INPUT DATA\n",
"Eg=0.72*1.6*10^-19//The band gap of Ge in J\n",
"T1=293//Temperature in K\n",
"T2=313//Temperature in K\n",
"x1=2//The conductivity of Ge at T1 in ohm^-1 m^-1\n",
"e=1.6*10^-19//charge of electron in coulombs\n",
"kb=1.38*10^-23//Boltzmann's constant m^2 Kg s^-2 k^-1\n",
"\n",
"//CALCULATION\n",
"x2=x1*(exp((Eg/(2*kb))*((1/T1)-(1/T2))))//The ratio of conductiveness\n",
"\n",
"//OUTPUT\n",
"printf('The conductivity of Ge at T2 is %3.4f ohm^-1 m^-1',x2)"
   ]
   }
,
{
		   "cell_type": "markdown",
		   "metadata": {},
		   "source": [
			"## Example 10.11: Intrinsic_career_density.sce"
		   ]
		  },
  {
"cell_type": "code",
	   "execution_count": null,
	   "metadata": {
	    "collapsed": true
	   },
	   "outputs": [],
"source": [
"clc\n",
"clear\n",
"//INPUT DATA\n",
"Eg1=0.36//The energy gap of intrinsic semiconductor A in eV\n",
"Eg2=0.72//The energy gap of intrinsic semiconductor B in eV\n",
"T1=300//Temperature of semiconductor A in K\n",
"T2=300//Temperature of semiconductor B in K\n",
"m=9.11*10^-31//mass of an electron in Kg\n",
"KT=0.026//kt in eV\n",
"\n",
"//CALCULATION\n",
"x=(exp((Eg2-Eg1)/(2*KT)))//The intrinsic carrier density of A to B\n",
"\n",
"//OUTPUT\n",
"printf('The intrinsic carrier density of A to B is %i',x)"
   ]
   }
,
{
		   "cell_type": "markdown",
		   "metadata": {},
		   "source": [
			"## Example 10.12: Band_gap.sce"
		   ]
		  },
  {
"cell_type": "code",
	   "execution_count": null,
	   "metadata": {
	    "collapsed": true
	   },
	   "outputs": [],
"source": [
"clc\n",
"clear\n",
"//INPUT DATA\n",
"T1=293//Temperature in K\n",
"T2=373//Temperature in K\n",
"x1=250//The conductivity of semiconductor at T1 in ohm^-1 m^-1\n",
"x2=1100//The conductivity of semiconductor at T2 in ohm^-1 m^-1\n",
"e=1.6*10^-19//charge of electron in coulombs\n",
"kb=1.38*10^-23//Boltzmann's constant m^2 Kg s^-2 k^-1\n",
"\n",
"//CALCULATION\n",
"Eg=(2*kb*log(x2/x1)*((T1*T2)/(T2-T1)))/10^-20//The band gap of semiconductor in J*10^-20\n",
"\n",
"//OUTPUT\n",
"printf('The band gap of semiconductor is %3.4f*10^-20 J',Eg)"
   ]
   }
,
{
		   "cell_type": "markdown",
		   "metadata": {},
		   "source": [
			"## Example 10.13: Mobility.sce"
		   ]
		  },
  {
"cell_type": "code",
	   "execution_count": null,
	   "metadata": {
	    "collapsed": true
	   },
	   "outputs": [],
"source": [
"clc\n",
"clear\n",
"//INPUT DATA\n",
"me=50//The electron mobility of pure semi conductor in m^2 V^-1 s^-1\n",
"t1=4.2//temp of pure semi conductor in k\n",
"t2=300//temp in k\n",
"\n",
"//CALCULATION\n",
"m=me*((t2^(-3/2))/(t1^(-3/2)))//mobility of pure semi conductor in m^2 V^-1 s^-1\n",
"\n",
"//OUTPUT\n",
"printf('mobility of pure semi conductor is %3.6f m^2 V^-1 s^-1',m)"
   ]
   }
,
{
		   "cell_type": "markdown",
		   "metadata": {},
		   "source": [
			"## Example 10.14: Band_gap_energy_of_the_semiconductor.sce"
		   ]
		  },
  {
"cell_type": "code",
	   "execution_count": null,
	   "metadata": {
	    "collapsed": true
	   },
	   "outputs": [],
"source": [
"clc\n",
"clear\n",
"//INPUT DATA\n",
"ec1=19.96//The electrical conductivity of an intrinsic semi conductor in ohm^-1 m^-1\n",
"ec2=79.44//The increasing electrical conductivity of an intrinsic semi conductor in ohm^-1 m^-1\n",
"t1=333//temperature of an intrinsic semi conductor in k\n",
"t2=373//increasing temperature of an intrinsic semi conductor in k\n",
"kb=1.38*10^-23//Boltzmann's constant in m^2 Kg s^-2 k^-1\n",
"\n",
"//CALCULATION\n",
"Eg=(2*kb*(log(ec2/ec1))*((t1*t2)/(t2-t1)))/10^-19//The band gap of an intrinsic semi conductor in J*10^-19\n",
"\n",
"//OUTPUT\n",
"printf('The band gap of an intrinsic semi conductor is %3.6f*10^-19 J',Eg)"
   ]
   }
,
{
		   "cell_type": "markdown",
		   "metadata": {},
		   "source": [
			"## Example 10.1: Electron_and_hole_concentrations.sce"
		   ]
		  },
  {
"cell_type": "code",
	   "execution_count": null,
	   "metadata": {
	    "collapsed": true
	   },
	   "outputs": [],
"source": [
"clc\n",
"clear\n",
"//INPUT DATA\n",
"ec=4*10^-4//electrical conductivity of intrinsic silicon at room temperature in ohm^-1 m^-1\n",
"me=0.14//The electron mobility in m^2 V^-1 s^-1\n",
"mh=0.04//The hole mobility in m^2 V^-1 s^-1\n",
"e=1.6*10^-19//charge of electron in coulombs\n",
"\n",
"//CALCULATION\n",
"ni=(ec/(e*(me+mh)))/10^16//The intrinsic carrier concentration at room temperature in m^-3 *10^16\n",
"\n",
"//OUTPUT\n",
"printf('The intrinsic carrier concentration at room temperature is %3.3f *10^16.m^-3 \n Since ne=nh=ni from law of mass action the electron and hole concentrations are 1.33*10^16.m^-3',ni)"
   ]
   }
,
{
		   "cell_type": "markdown",
		   "metadata": {},
		   "source": [
			"## Example 10.2: Resistivity.sce"
		   ]
		  },
  {
"cell_type": "code",
	   "execution_count": null,
	   "metadata": {
	    "collapsed": true
	   },
	   "outputs": [],
"source": [
"clc\n",
"clear\n",
"//INPUT DATA\n",
"d=2.37*10^19//The intrinsic carrier density at room temperature in m^-3\n",
"me=0.38//The electron mobility in m^2 V^-1 s^-1\n",
"mh=0.18//The hole mobility in m^2 V^-1 s^-1\n",
"e=1.6*10^-19//charge of electron in coulombs\n",
"\n",
"//CALCULATION\n",
"r=(1/(d*e*(me+mh)))//The resistivity of intrinsic carrier in ohm m\n",
"\n",
"//OUTPUT\n",
"printf('The resistivity of intrinsic carrier is %3.4f ohm m',r)"
   ]
   }
,
{
		   "cell_type": "markdown",
		   "metadata": {},
		   "source": [
			"## Example 10.3: Intrinsic_carrier_density.sce"
		   ]
		  },
  {
"cell_type": "code",
	   "execution_count": null,
	   "metadata": {
	    "collapsed": true
	   },
	   "outputs": [],
"source": [
"clc\n",
"clear\n",
"//INPUT DATA\n",
"r=2*10^-4//the resistivity of In-Sb in ohm m\n",
"me=6//The electron mobility in m^2 V^-1 s^-1\n",
"mh=0.2//The hole mobility in m^2 V^-1 s^-1\n",
"e=1.6*10^-19//charge of electron in coulombs\n",
"\n",
"//CALCULATION\n",
"d=(1/(r*e*(me+mh)))/10^21//The intrinsic carrier density at room tepmerature in m^-3 *10^21\n",
"\n",
"//OUTPUT\n",
"printf('The intrinsic carrier density at room tepmerature is %3.3f *10^21 m^-3',d)"
   ]
   }
,
{
		   "cell_type": "markdown",
		   "metadata": {},
		   "source": [
			"## Example 10.4: Conductivity.sce"
		   ]
		  },
  {
"cell_type": "code",
	   "execution_count": null,
	   "metadata": {
	    "collapsed": true
	   },
	   "outputs": [],
"source": [
"clc\n",
"clear\n",
"//INPUT DATA\n",
"Eg=1.1*1.6*10^-19//The energy gap of silicon in J\n",
"me=0.48//The electron mobility in m^2 V^-1 s^-1\n",
"mh=0.13//The hole mobility in m^2 V^-1 s^-1\n",
"h=6.625*10^-34//Planck's constant in m^2 Kg /sec\n",
"e=1.6*10^-19//charge of electron in coulombs\n",
"m=9.11*10^-31//mass of an electron\n",
"kb=1.38*10^-23//Boltzmann's constant m^2 Kg s^-2 k^-1\n",
"t=300//temperature in k\n",
"\n",
"//CALCULATION\n",
"ni=2*((2*3.14*m*kb*t)/h^2)^(3/2)*exp(-Eg/(2*kb*t))//intrinsic carrier concentration in m^-3\n",
"ec=(ni*e*(me+mh))/10^-3//The electrical conductivity at room temperature in ohm^-1 m^-1 *10^-3\n",
"\n",
"//OUTPUT\n",
"printf('The electrical conductivity at room temperature is %3.4f *10^-3 ohm^-1 m^-1',ec)"
   ]
   }
,
{
		   "cell_type": "markdown",
		   "metadata": {},
		   "source": [
			"## Example 10.5: Intrinsic_carrier_concentration_and_conductivity.sce"
		   ]
		  },
  {
"cell_type": "code",
	   "execution_count": null,
	   "metadata": {
	    "collapsed": true
	   },
	   "outputs": [],
"source": [
"clc\n",
"clear\n",
"//INPUT DATA\n",
"Eg=1.43*1.6*10^-19//The energy gap of intrinsic GaAs in J\n",
"xe=0.85//The electron mobility in m^2 V^-1 s^-1\n",
"xh=0.04//The hole mobility in m^2 V^-1 s^-1\n",
"me=0.068*9.11*10^-31//effective mass of electron in m\n",
"mh=0.5*9.11*10^-31//effective mass of hole in m\n",
"h=6.625*10^-34//Planck's constant in m^2 Kg /sec\n",
"e=1.6*10^-19//charge of electron in coulombs\n",
"m=9.11*10^-31//mass of an electron in Kg\n",
"kb=1.38*10^-23//Boltzmann's constant m^2 Kg s^-2 k^-1\n",
"t=300//temperature in k\n",
"\n",
"//CALCULATION\n",
"ni=(2*((2*3.14*kb*t)/h^2)^(3/2)*(me*mh)^(3/4)*exp(-Eg/(2*kb*t)))/10^12//intrinsic carrier concentration in m^-3*10^12\n",
"ec=(ni*10^12*e*(xe+xh))/10^-7//The electrical conductivity at room temperature in ohm^-1 m^-1 *10^-7\n",
"\n",
"//OUTPUT\n",
"printf('The intrinsic carrier concentration is %3.4f*10^12 m^-3 \n The electrical conductivity at room temperature is %3.4f *10^-7 ohm^-1 m^-1',ni,ec)"
   ]
   }
,
{
		   "cell_type": "markdown",
		   "metadata": {},
		   "source": [
			"## Example 10.6: Position_of_the_fermi_level.sce"
		   ]
		  },
  {
"cell_type": "code",
	   "execution_count": null,
	   "metadata": {
	    "collapsed": true
	   },
	   "outputs": [],
"source": [
"clc\n",
"clear\n",
"//INPUT DATA\n",
"Eg=1.12*1.6*10^-19//Energy gap of Si semi conductor in J\n",
"me=0.12*9.11*10^-31//The electron mobility in m^2 V^-1 s^-1\n",
"mh=0.28*9.11*10^-31//The hole mobility in m^2 V^-1 s^-1\n",
"t=300//temperature of fermi level in k\n",
"kb=1.38*10^-23//Boltzmann's constant m^2 Kg s^-2 k^-1\n",
"m=9.11*10^-31//mass of an electron in Kg\n",
"\n",
"//CALCULATION\n",
"Ef=((Eg/2)+(((3*kb*t)/4)*log(mh/me)))/10^-20//position of the fermi level in J *10^-20\n",
"\n",
"//OUTPUT\n",
"printf('The position of the fermi level is %3.5f*10^-20 J',Ef)\n",
""
   ]
   }
,
{
		   "cell_type": "markdown",
		   "metadata": {},
		   "source": [
			"## Example 10.7: Temperature.sce"
		   ]
		  },
  {
"cell_type": "code",
	   "execution_count": null,
	   "metadata": {
	    "collapsed": true
	   },
	   "outputs": [],
"source": [
"clc\n",
"clear\n",
"//INPUT DATA\n",
"Eg=1*1.6*10^-19//Energy gap in J\n",
"E=0.1*1.6*10^-19//Fermi level is shifted by 10% in J\n",
"me=1*9.11*10^-31//The electron mobility in m^2 V^-1 s^-1\n",
"mh=4*9.11*10^-31//Effective mass of holes is 4 times that of electrons that is the hole mobility in m^2 V^-1 s^-1\n",
"m=9.11*10^-31//mass of an electron in Kg\n",
"kb=1.38*10^-23//Boltzmann's constant m^2 Kg s^-2 k^-1\n",
"\n",
"//CALCULATION\n",
"T=(4*E)/(3*kb*log(4))//The Temperature of the fermi level shifted by 10% from the middle of the forbidden energy gap in K\n",
"\n",
"//OUTPUT\n",
"printf('The Temperature of the fermi level shifted by 10percentage from the middle of the forbidden energy gap is %3.2f K',T)"
   ]
   }
,
{
		   "cell_type": "markdown",
		   "metadata": {},
		   "source": [
			"## Example 10.8: Resistance_of_an_intrinsic_Ge_rod.sce"
		   ]
		  },
  {
"cell_type": "code",
	   "execution_count": null,
	   "metadata": {
	    "collapsed": true
	   },
	   "outputs": [],
"source": [
"clc\n",
"clear\n",
"//INPUT DATA\n",
"l=1*10^-2//length of the intrinsic Ge rod in m\n",
"b=1*10^-3//breadth of the intrinsic Ge rod in m\n",
"t=1*10^-3//thickness of the intrinsic Ge rod in m\n",
"T=300//temperature of the intrinsic Ge rod in K\n",
"me=0.39//The electron mobility in m^2 V^-1 s^-1\n",
"mh=0.19//The hole mobility in m^2 V^-1 s^-1\n",
"ni=2.5*10^19//intrinsic carrier conduction in m^3\n",
"e=1.6*10^-19//charge of electron in coulombs\n",
"\n",
"//CALCULATION\n",
"ec=(ni*e*(me+mh))//The electrical conductivity at room temperature in ohm^-1 m^-1\n",
"A=(b*t)//area in m^2\n",
"R=(l/(ec*A))//The resistance of an intrinsic Ge rod in ohm\n",
"\n",
"//OUTPUT\n",
"printf('The resistance of an intrinsic Ge rod is %i ohm',R)"
   ]
   }
,
{
		   "cell_type": "markdown",
		   "metadata": {},
		   "source": [
			"## Example 10.9: Ratio_between_its_conductivity.sce"
		   ]
		  },
  {
"cell_type": "code",
	   "execution_count": null,
	   "metadata": {
	    "collapsed": true
	   },
	   "outputs": [],
"source": [
"clc\n",
"clear\n",
"//INPUT DATA\n",
"Eg=1.2*1.6*10^-19//The energy gap of intrinsic semiconductor in J\n",
"T1=600//Temperature in K\n",
"T2=300//Temperature in K\n",
"e=1.6*10^-19//charge of electron in coulombs\n",
"kb=1.38*10^-23//Boltzmann's constant m^2 Kg s^-2 k^-1\n",
"\n",
"//CALCULATION\n",
"x=exp((-Eg/(2*kb))*((1/T1)-(1/T2)))/10^5//The ratio of conductiveness*10^5\n",
"\n",
"//OUTPUT\n",
"printf('The ratio of conductiveness is %3.2f*10^5',x)"
   ]
   }
],
"metadata": {
		  "kernelspec": {
		   "display_name": "Scilab",
		   "language": "scilab",
		   "name": "scilab"
		  },
		  "language_info": {
		   "file_extension": ".sce",
		   "help_links": [
			{
			 "text": "MetaKernel Magics",
			 "url": "https://github.com/calysto/metakernel/blob/master/metakernel/magics/README.md"
			}
		   ],
		   "mimetype": "text/x-octave",
		   "name": "scilab",
		   "version": "0.7.1"
		  }
		 },
		 "nbformat": 4,
		 "nbformat_minor": 0
}
