{
"cells": [
 {
		   "cell_type": "markdown",
	   "metadata": {},
	   "source": [
       "# Chapter 13: Dielectrics"
	   ]
	},
{
		   "cell_type": "markdown",
		   "metadata": {},
		   "source": [
			"## Example 13.1: Electronic_polarisation.sce"
		   ]
		  },
  {
"cell_type": "code",
	   "execution_count": null,
	   "metadata": {
	    "collapsed": true
	   },
	   "outputs": [],
"source": [
"clc\n",
"clear\n",
"//INPUT DATA\n",
"a=3.61*10^-10//lattice constant of copper which is Fcc crystal in m\n",
"x=1*10^-18//average displacement of the electrons relative to the nucleus in m\n",
"z=29//atomic number of copper\n",
"n=4//number of atoms per unit cell in FCC crystal\n",
"e=1.6*10^-19//charge of electron in coulombs\n",
"\n",
"//CALCULATION\n",
"ne=((n*z)/(a*a*a))//number of electrons in electrons/m^3 \n",
"P=(ne*e*x)/(10^-7)//The electron polarisation in C/m^2 *10^-7\n",
"\n",
"//OUTPUT\n",
"printf('The electron polarisation is %3.3f*10^-7 in C/m^2',P)"
   ]
   }
,
{
		   "cell_type": "markdown",
		   "metadata": {},
		   "source": [
			"## Example 13.2: Effective_distance.sce"
		   ]
		  },
  {
"cell_type": "code",
	   "execution_count": null,
	   "metadata": {
	    "collapsed": true
	   },
	   "outputs": [],
"source": [
"clc\n",
"clear\n",
"//INPUT DATA\n",
"rp=11.7//relative permittivity of silicon\n",
"N=4.82*10^28//number of atoms per unit volume in atoms/m^3\n",
"ro=8.85*10^-12//permittivity of free space\n",
"E=10^4//E in Vm^-1\n",
"e=1.6*10^-19//charge of electron in coulombs\n",
"Z=14//atomic number of silicon \n",
"\n",
"//CALCULATION\n",
"z=((ro*(rp-1))/N)//electronic polarisability in Fm^2\n",
"y=(z*E)/10^-35//The dipole moment of each atom in a field of 10^4 Vm^-1 in Cm^-3 *10^-35\n",
"x=((y*10^-35)/(Z*e))/10^-18//The effective distance at this field strength between the centre of the electron cloud in each atom and the nucleus in m*10^-18\n",
"\n",
"//OUTPUT\n",
"printf('The dipole moment of each atom in a field is %3.4f*10^-35 Cm^-3 \n The effective distance at this field strength between the centre of the electron cloud in each atom and the nucleus is %3.2f*10^-18 m',y,x)\n",
""
   ]
   }
,
{
		   "cell_type": "markdown",
		   "metadata": {},
		   "source": [
			"## Example 13.3: Polarisability_and_relative_permittivity.sce"
		   ]
		  },
  {
"cell_type": "code",
	   "execution_count": null,
	   "metadata": {
	    "collapsed": true
	   },
	   "outputs": [],
"source": [
"clc\n",
"clear\n",
"//INPUT DATA\n",
"d=9.8*10^26//density of hydrogen gas in atoms/m^3\n",
"r=0.50*10^-10//radius of the hydrogen atom in m\n",
"ro=8.85*10^-12//permittivity of free space\n",
"\n",
"//CALCULATION\n",
"z=(4*3.14*ro*r*r*r)/10^-41//electronic polarisability in Fm^2\n",
"rp=(((d*z*10^-41)/ro)+1)//The relative permittivity in hydrogen gas\n",
"\n",
"//OUTPUT\n",
"printf('The electronic polarisability is %3.3f*10^-41 Fm^2 \n The relative permittivity in hydrogen gas is %3.4f',z,rp)"
   ]
   }
,
{
		   "cell_type": "markdown",
		   "metadata": {},
		   "source": [
			"## Example 13.4: Static_dielectric_constant.sce"
		   ]
		  },
  {
"cell_type": "code",
	   "execution_count": null,
	   "metadata": {
	    "collapsed": true
	   },
	   "outputs": [],
"source": [
"clc\n",
"clear\n",
"//INPUT DATA\n",
"z=1.75*10^-40//electronic polarisability in Fm^2\n",
"d=1.8*10^3//density of argon atom in Kg/m^3\n",
"Z=39.95//atomic weight of argon\n",
"NA=6.025*10^26//Avagadro number in mole^-1\n",
"ro=8.85*10^-12//permittivity of free space\n",
"\n",
"//CALCULATION\n",
"N=((NA*d)/Z)//The number of atoms/unit volume in atoms/m^3 \n",
"rp=(((N*z)/ro)+1)//The static dielectric constant of solid argon\n",
"\n",
"//OUTPUT\n",
"printf('The static dielectric constant of solid argon is %3.5f',rp)"
   ]
   }
,
{
		   "cell_type": "markdown",
		   "metadata": {},
		   "source": [
			"## Example 13.5: Ratio_between_electronic_and_ionic_polarisability.sce"
		   ]
		  },
  {
"cell_type": "code",
	   "execution_count": null,
	   "metadata": {
	    "collapsed": true
	   },
	   "outputs": [],
"source": [
"clc\n",
"clear\n",
"//INPUT DATA\n",
"er=4.94//static dielecric constant of a material\n",
"n=2.69//n is the index of friction\n",
"\n",
"//CALCULATION\n",
"x=((er-1)*(n+2))/((er+2)*(n-1))-1//Ratio between ionic and electronic polarisability of this material\n",
"y=1/x//Ratio between electronic and ionic polarisability of this material\n",
"\n",
"//OUTPUT\n",
"printf('Ratio between electronic and ionic polarisability of this material is %3.4f ',y)"
   ]
   }
],
"metadata": {
		  "kernelspec": {
		   "display_name": "Scilab",
		   "language": "scilab",
		   "name": "scilab"
		  },
		  "language_info": {
		   "file_extension": ".sce",
		   "help_links": [
			{
			 "text": "MetaKernel Magics",
			 "url": "https://github.com/calysto/metakernel/blob/master/metakernel/magics/README.md"
			}
		   ],
		   "mimetype": "text/x-octave",
		   "name": "scilab",
		   "version": "0.7.1"
		  }
		 },
		 "nbformat": 4,
		 "nbformat_minor": 0
}
