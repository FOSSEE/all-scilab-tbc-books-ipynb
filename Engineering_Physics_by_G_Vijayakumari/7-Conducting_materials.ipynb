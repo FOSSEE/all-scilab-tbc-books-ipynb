{
"cells": [
 {
		   "cell_type": "markdown",
	   "metadata": {},
	   "source": [
       "# Chapter 7: Conducting materials"
	   ]
	},
{
		   "cell_type": "markdown",
		   "metadata": {},
		   "source": [
			"## Example 7.10: Mobility_and_average_time_collision.sce"
		   ]
		  },
  {
"cell_type": "code",
	   "execution_count": null,
	   "metadata": {
	    "collapsed": true
	   },
	   "outputs": [],
"source": [
"clc\n",
"clear\n",
"//INPUT DATA\n",
"D=8.92*10^3//density of copper in Kg m^-3\n",
"AW=63.5//atomic weight of copper\n",
"r=1.73*10^-8//resistivity of copper  in ohm metre\n",
"AV=6.023*10^26//avagadro no in mole^-1\n",
"e=1.6*10^-19//charge of electron in coulombs\n",
"m=9.11*10^-31//mass of a electron in kg\n",
"\n",
"//CALCULATION\n",
"n=(AV*D)/AW//density of electrons per unit volume in m^-3\n",
"t=(m/(r*n*(e^2)))/10^-14//average time collision of electrons in copper in s *10^-14\n",
"mo=(1/(r*n*e))/10^-2//mobility of charge in m^2 V^-1 s^-1 *10^-2\n",
"\n",
"//OUTPUT\n",
"printf('The relaxation time collision of electrons in copper obeying classical laws is %3.2f *10^-14 in s \n The mobility charge of copper obeying classical laws is %3.3f *10^-2 in m^2 V^-1 s^-1',t,mo)"
   ]
   }
,
{
		   "cell_type": "markdown",
		   "metadata": {},
		   "source": [
			"## Example 7.11: Electrical_resistivity.sce"
		   ]
		  },
  {
"cell_type": "code",
	   "execution_count": null,
	   "metadata": {
	    "collapsed": true
	   },
	   "outputs": [],
"source": [
"clc\n",
"clear\n",
"//INPUT DATA\n",
"r=1.85*10^-10//the radius of sodium atom in m\n",
"t=3*10^-14//the classic value of mean free time in sec\n",
"temp=0//temperature in centigrade\n",
"na=2//number of atoms in a unit cell\n",
"ne=1//number of electrons per unit cell\n",
"e=1.6*10^-19//charge of electron in coulombs\n",
"m=9.11*10^-31//mass of a electron in kg\n",
"\n",
"//CALCULATION \n",
"a=(4*r)/sqrt(3)//a is one side in bcc structure unit cell in m\n",
"v=a*a*a//volume of bcc structure unit cell in m^3\n",
"n=(na*ne)/v//density of electrons per unit volume in m^-3\n",
"r=(m/(n*e^2*t))/10^-8//The electrical resistivity in ohm metre *10^-8\n",
"\n",
"//OUTPUT\n",
"printf('The electrical resistivity is %3.2f *10^-8 in ohm metre',r)"
   ]
   }
,
{
		   "cell_type": "markdown",
		   "metadata": {},
		   "source": [
			"## Example 7.12: Free_electron_concentration_and_mobility_and_drift_velocity.sce"
		   ]
		  },
  {
"cell_type": "code",
	   "execution_count": null,
	   "metadata": {
	    "collapsed": true
	   },
	   "outputs": [],
"source": [
"clc\n",
"clear\n",
"//INPUT DATA\n",
"r=2.7*10^-8//electrical resistivity of aluminium in ohm metre\n",
"AW=26.98//atomic weight of aluminium\n",
"d=2.7*10^3//density of volume in Kg/m^3\n",
"R=60*10^-3//resistance in W\n",
"l=5//length of aluminium wire in m\n",
"i=15//aluminuim wire carries a current in A\n",
"fe=3//number of free electrons \n",
"AV=6.023*10^26//avagadro no in mole^-1\n",
"e=1.6*10^-19//charge of electron in coulombs\n",
"\n",
"//CALCULATION\n",
"n=(AV*d*fe)/AW//density of electrons per unit volume in electrons/m^-3\n",
"z=(1/(n*e*r))/10^-3//mobility of the charge in m^2V^-1S^-1 * 10^-3\n",
"E=((i*R)/l)//free electron concentration in V/m\n",
"vd=(z*E)/(10^-4*10^3)//drift velocity in m s^-1 * 10^-4\n",
"\n",
"//OUTPUT\n",
"printf('Free electron concentration in aluminium is %3.2f in V/m \n Mobility of the charge is %3.3f*10^-3 in m^2 V^-1 S^-1 \n The drift velocity of electrons is %3.3f*10^-4 in m s^-1',E,z,vd)"
   ]
   }
,
{
		   "cell_type": "markdown",
		   "metadata": {},
		   "source": [
			"## Example 7.13: Resistance.sce"
		   ]
		  },
  {
"cell_type": "code",
	   "execution_count": null,
	   "metadata": {
	    "collapsed": true
	   },
	   "outputs": [],
"source": [
"clc\n",
"clear\n",
"//INPUT DATA\n",
"l=1*10^-2//length of intrinsic Ge rod in m\n",
"b=1*10^-3//breadth of intrinsic Ge rod in m\n",
"t=1*10^-3//thickness of intrinsic Ge rod in m\n",
"temp=300//temperature in k\n",
"d=2.5*10^19//intrinsic carrier density in Kg /m^3\n",
"z=0.39//mobility of electron in m^2V^-1S^-1\n",
"zh=0.19//mobility of hole in m^2V^-1S^-1 \n",
"e=1.6*10^-19//charge of electron in coulombs\n",
"\n",
"//CALCULATION\n",
"x=(d*e)*(z+zh)//electrical conductivity in ohm^-1 m^-1\n",
"r=1/x//electrical resistivity in ohm metre\n",
"A=b*t//area in m^2\n",
"R=((r*l)/A)//resistance of an intrinsic Ge rod in ohm\n",
"\n",
"//OUTPUT\n",
"printf('The resistance of an intrinsic Ge rod is %i ohm',R)"
   ]
   }
,
{
		   "cell_type": "markdown",
		   "metadata": {},
		   "source": [
			"## Example 7.14: Thermal_conductivity_of_copper.sce"
		   ]
		  },
  {
"cell_type": "code",
	   "execution_count": null,
	   "metadata": {
	    "collapsed": true
	   },
	   "outputs": [],
"source": [
"clc\n",
"clear\n",
"//INPUT DATA\n",
"d=8.48*10^28//free electron density of copper in m^-3\n",
"y=2.8138*10^-9//mean free path in m\n",
"v=1.1536*10^5//velocity of copper in m s^-1\n",
"t=20 //temperature of copper in c\n",
"Kb=1.38*10^-23//Boltzmann's constant in m^2 Kg s^-2 k^-1\n",
"\n",
"//CALCULATION\n",
"K=1/2*(d*v*y*Kb)//thermal conductivity of copper in W m^-1 K^-1\n",
"\n",
"//OUTPUT\n",
"printf('The thermal conductivity of copper is %3.2f W m^-1 K^-1',K)"
   ]
   }
,
{
		   "cell_type": "markdown",
		   "metadata": {},
		   "source": [
			"## Example 7.15: Thermal_conductivity_and_thermal_resistance.sce"
		   ]
		  },
  {
"cell_type": "code",
	   "execution_count": null,
	   "metadata": {
	    "collapsed": true
	   },
	   "outputs": [],
"source": [
"clc\n",
"clear\n",
"//INPUT DATA\n",
"er=50*10^-8//electrical resistivity in ohm metre\n",
"t=300//temperature in k\n",
"r=13*10^-3//radius of brass in m\n",
"th=35*10^-3//thickness of brass in m\n",
"L=2.44*10^-8//Lorentz number in W ohm K^-2\n",
"\n",
"//CALCULATION\n",
"K=(L*t)/er//thermal conductivity of brass in W m^-1 K^-1\n",
"A=3.14*r*r //area of brass disk in m^2\n",
"Rt=th/(K*A)//thermal resistance of brass in K W^-1\n",
"\n",
"//OUTPUT \n",
"printf('The thermal conductivity of brass is %3.2f W m^-1 K^-1 \n The thermal resistance of brass is %3.3f K W^-1',K,Rt)"
   ]
   }
,
{
		   "cell_type": "markdown",
		   "metadata": {},
		   "source": [
			"## Example 7.16: Lorentz_number.sce"
		   ]
		  },
  {
"cell_type": "code",
	   "execution_count": null,
	   "metadata": {
	    "collapsed": true
	   },
	   "outputs": [],
"source": [
"clc\n",
"clear\n",
"//INPUT DATA\n",
"x=5.87*10^7//electrical conductivity in ohm^-1 m^-1\n",
"k=380//thermal conductivity of copper in W m-1 K^-1\n",
"t=293//temperature of copper in k\n",
"\n",
"//CALCULATION\n",
"L=(k/(x*t))/10^-8//Lorentz number in W ohm K^-2 *10^-8\n",
"\n",
"//OUTPUT    \n",
"printf('Lorentz number is %3.4f *10^-8 W.ohm.K^-2',L)"
   ]
   }
,
{
		   "cell_type": "markdown",
		   "metadata": {},
		   "source": [
			"## Example 7.17: Thermal_conductivity_of_copper.sce"
		   ]
		  },
  {
"cell_type": "code",
	   "execution_count": null,
	   "metadata": {
	    "collapsed": true
	   },
	   "outputs": [],
"source": [
"clc\n",
"clear\n",
"//INPUT DATA\n",
"x=6.40*10^7//electrical conductivity in mho m^-1\n",
"t=300//temperature of copper in k\n",
"L=2.44*10^-8//Lorentz number in W ohm K^-2\n",
"\n",
"//CALCULATION\n",
"K=x*t*L//thermal conductivity of copper in W m^-1 K^-1\n",
"\n",
"//OUTPUT\n",
"printf('The thermal conductivity of copper is %3.2f W.m^-1.K^-1',K)"
   ]
   }
,
{
		   "cell_type": "markdown",
		   "metadata": {},
		   "source": [
			"## Example 7.1: Mobility_of_the_charge_carriers.sce"
		   ]
		  },
  {
"cell_type": "code",
	   "execution_count": null,
	   "metadata": {
	    "collapsed": true
	   },
	   "outputs": [],
"source": [
"clc\n",
"clear\n",
"//INPUT DATA\n",
"n=5.9*10^28 //electron concentration of conductor in m^-3\n",
"v=0.625//drift velocity of a conductor in ms^-1\n",
"x=6.22*10^7// electrical conductivity in ohm^-1 m^-1\n",
"e=1.6*10^-19//charge of electron in coulombs\n",
"\n",
"//calculation\n",
"J=n*e*v/10^9//current density in the conductor corresponds to drift velocity in Am^-1 * 10^9\n",
"z=(x/(n*e))/10^-3//mobility of the charge in m^2V^-1s^-1 * 10^-3\n",
" \n",
"//OUTPUT\n",
"printf('The current density in the conductor corresponds to a drift velocity is %3.1f * 10^9 A m^-1 \n Mobility of the charge carrires is %3.3f*10^-3 m^2 V^-1 s^-1',J,z)"
   ]
   }
,
{
		   "cell_type": "markdown",
		   "metadata": {},
		   "source": [
			"## Example 7.2: Drift_velocity_of_the_free_electrons.sce"
		   ]
		  },
  {
"cell_type": "code",
	   "execution_count": null,
	   "metadata": {
	    "collapsed": true
	   },
	   "outputs": [],
"source": [
"clc\n",
"clear\n",
"//INPUT DATA\n",
"n=8.5*10^28 //density of free electrons in copper in m^-3\n",
"A=1.05*10^-6 //sectional area of copper in m^2\n",
"e=1.6*10^-19//charge of electron in coloumbs\n",
"I=1 //copper wire carries a current in A\n",
"\n",
"//CALCULATION\n",
"V=(1/(A*n*e))/10^-5//drift velocity of free electrons in copper wire in ms^-1 *10^-5\n",
"\n",
"//OUTPUT\n",
"printf('The drift velocity of free electron in a copper wire is %3.3f *10^-5 in ms^-1',V)"
   ]
   }
,
{
		   "cell_type": "markdown",
		   "metadata": {},
		   "source": [
			"## Example 7.3: Drift_velocity_of_the_free_electrons.sce"
		   ]
		  },
  {
"cell_type": "code",
	   "execution_count": null,
	   "metadata": {
	    "collapsed": true
	   },
	   "outputs": [],
"source": [
"clc\n",
"clear\n",
"//INPUT DATA\n",
"X=3.5*10^-3 // mobility of free electrons in copper in m^2 V^-1 s^-1\n",
"E=0.5 //elactric field strength of copper in V m^-1\n",
"\n",
"//CALCULATION\n",
"V=X*E/10^-3//drift velocity of free electrons in copper in m s^-1 *10^-3\n",
"\n",
"//OUTPUT\n",
"printf('The drift velocity of free electrons in copper is %3.2f*10^-3 in ms^-1',V)"
   ]
   }
,
{
		   "cell_type": "markdown",
		   "metadata": {},
		   "source": [
			"## Example 7.4: Relaxation_time.sce"
		   ]
		  },
  {
"cell_type": "code",
	   "execution_count": null,
	   "metadata": {
	    "collapsed": true
	   },
	   "outputs": [],
"source": [
"clc \n",
"clear\n",
"//INPUT DATA\n",
"n=6.5*10^28 //conduction electron in m^-3\n",
"r=1.435*10^-8 //metal resistivity in ohm-metre\n",
"e=1.6*10^-19//charge of electron in coulombs\n",
"m=9.11*10^-31//mass of a electron in kg\n",
"\n",
"//CALCULATION\n",
"T=(m/(r*n*e^2))/10^-14//relaxation time of conduction electrons in s*10^-14\n",
"\n",
"//OUTPUT\n",
"printf('The relaxation time of conduction electrons is %3.3f*10^-14 s',T)"
   ]
   }
,
{
		   "cell_type": "markdown",
		   "metadata": {},
		   "source": [
			"## Example 7.5: Mean_free_path_between_collisions_of_the_free_electrons.sce"
		   ]
		  },
  {
"cell_type": "code",
	   "execution_count": null,
	   "metadata": {
	    "collapsed": true
	   },
	   "outputs": [],
"source": [
"clc\n",
"clear\n",
"//INPUT DATA\n",
"r=1.72*10^-8//resistivity of copper  in ohm metre\n",
"T=293//temperature of copper in k\n",
"n=8.48*10^28 //density of free electron in m^-3\n",
"e=1.6*10^-19//charge of electron in coulombs\n",
"m=9.11*10^-31//mass of a electron in kg\n",
"k=1.38*10^-23//boltzmann constant in m^2 Kg s^-2 k^-1\n",
"\n",
"//CALCULATION\n",
"t=(m/(r*n*(e^2)))//relaxation time in s\n",
"v=sqrt((3*k*T)/m) //thermal velocity in ms^-1\n",
"L=t*v/10^-9//mean free path between collision of free electrons in copper in m*10^-9\n",
"\n",
"//OUTPUT\n",
"printf('The mean free path between collision of free electrons in copper is %3.4f *10^-9 m',L)"
   ]
   }
,
{
		   "cell_type": "markdown",
		   "metadata": {},
		   "source": [
			"## Example 7.6: Drift_velocity_of_electrons.sce"
		   ]
		  },
  {
"cell_type": "code",
	   "execution_count": null,
	   "metadata": {
	    "collapsed": true
	   },
	   "outputs": [],
"source": [
"clc\n",
"clear\n",
"//INPUT DATA\n",
"t=1*10^-3//thickness of metal in m\n",
"V=1//potential difference applied in volts in V\n",
"T=300//temperature in k\n",
"m=0.04//mobility in m^2 V^-1 s^-1\n",
"k=1.38*10^-23//boltzmann constant in m^2 Kg s^-2 k^-1\n",
"m1=9.11*10^-31//mass of a electron in kg\n",
"\n",
"//CALCULATION\n",
"v=(sqrt((3*k*T)/m1)/10^3) //thermal velocity in ms^-1 *10^3\n",
"E=V/t//unit potenyial voltage gradient in V m^-1\n",
"vd=E*m//drift velocity of electrons in m s^-1\n",
"\n",
"//OUTPUT\n",
"printf('The thermal velocity is %3.2f *10^3 m s^-1 \n Drift velocity of electrons is %i m s^-1 \n Thus the terminal velocity is high compared to the drift velocity',v,vd)"
   ]
   }
,
{
		   "cell_type": "markdown",
		   "metadata": {},
		   "source": [
			"## Example 7.7: Electrical_conductivity_of_copper.sce"
		   ]
		  },
  {
"cell_type": "code",
	   "execution_count": null,
	   "metadata": {
	    "collapsed": true
	   },
	   "outputs": [],
"source": [
"clc\n",
"clear\n",
"//INPUT DATA\n",
"AW=63.5//atomic weight of copper\n",
"D=8.93*10^3//density of copper in kg m^-3\n",
"t=2.48*10^-14//relaxation time of copper in s\n",
"AV=6.023*10^26//avagadro no in mole^-1\n",
"e=1.6*10^-19//charge of electron in coulombs\n",
"m=9.11*10^-31//mass of a electron in kg\n",
"\n",
"//CALCULATION\n",
"n=(AV*D)/AW//density of electrons per unit volume in m^-3\n",
"EC=((n*e^2*t)/m)/10^7//electrical conductivity of copper in Sm^-1 *10^7\n",
"\n",
"//OUTPUT\n",
"printf('The electrical conductivity of copper is %3.2f *10^7 in S m^-1',EC)\n",
"//mho=siemens"
   ]
   }
,
{
		   "cell_type": "markdown",
		   "metadata": {},
		   "source": [
			"## Example 7.8: Drift_velocity_of_electrons_in_copper.sce"
		   ]
		  },
  {
"cell_type": "code",
	   "execution_count": null,
	   "metadata": {
	    "collapsed": true
	   },
	   "outputs": [],
"source": [
"clc\n",
"clear\n",
"//INPUT DATA\n",
"I=10//current in A\n",
"r=0.8*10^-2//radius of wire in m\n",
"n=8.48*10^28 //density of free electron in m^-3\n",
"e=1.6*10^-19//charge of electron in coulombs\n",
"\n",
"//CALCULATION\n",
"J=(I/(3.14*r^2))/10^4 //current density of copper in Am^-2 *10^4\n",
"v=(J/(n*e))/(10^-6*10^-4)//drift velocity of copper in ms^-1 *10^-6\n",
"\n",
"//OUTPUT\n",
"printf('The drift velocity in copper is %3.4f *10^-6 in ms^-1 \n The current density in copper is %3.4f *10^4 in Am^-2',v,J)"
   ]
   }
,
{
		   "cell_type": "markdown",
		   "metadata": {},
		   "source": [
			"## Example 7.9: Drift_velocity_and_mobility.sce"
		   ]
		  },
  {
"cell_type": "code",
	   "execution_count": null,
	   "metadata": {
	    "collapsed": true
	   },
	   "outputs": [],
"source": [
"clc\n",
"clear\n",
"//INPUT DATA\n",
"r=1.54*10^-8//resistivity of silver wire at room temperature in ohm metre\n",
"E=100//Electric field along the wire in V/m\n",
"n=5.8*10^28//nis assuming of conduction electrons in m^-3\n",
"e=1.6*10^-19//charge of electron in coulombs\n",
"\n",
"//CALCULATION\n",
"m=(1/(r*n*e))/10^-3//mobility of charge in m^2 V^-1 s^-1 *10^-3\n",
"v=m*E/1000//drift velocity of electrons in m s^-1\n",
"\n",
"//OUTPUT\n",
"printf('The mobility of charge is %3.2f * 10^-3 in m^2 V^-1 s^-1 \n The drift velocity of electrons is %3.4f in m.s^-1',m,v)"
   ]
   }
],
"metadata": {
		  "kernelspec": {
		   "display_name": "Scilab",
		   "language": "scilab",
		   "name": "scilab"
		  },
		  "language_info": {
		   "file_extension": ".sce",
		   "help_links": [
			{
			 "text": "MetaKernel Magics",
			 "url": "https://github.com/calysto/metakernel/blob/master/metakernel/magics/README.md"
			}
		   ],
		   "mimetype": "text/x-octave",
		   "name": "scilab",
		   "version": "0.7.1"
		  }
		 },
		 "nbformat": 4,
		 "nbformat_minor": 0
}
