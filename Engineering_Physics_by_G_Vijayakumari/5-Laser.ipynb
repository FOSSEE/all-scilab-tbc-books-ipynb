{
"cells": [
 {
		   "cell_type": "markdown",
	   "metadata": {},
	   "source": [
       "# Chapter 5: Laser"
	   ]
	},
{
		   "cell_type": "markdown",
		   "metadata": {},
		   "source": [
			"## Example 5.1: Ratio_of_populatio.sce"
		   ]
		  },
  {
"cell_type": "code",
	   "execution_count": null,
	   "metadata": {
	    "collapsed": true
	   },
	   "outputs": [],
"source": [
"clc\n",
"clear\n",
"//INPUT DATA\n",
"t=300//temperature in k\n",
"w=698.3*10^-9//wavelength of photon in m\n",
"h=6.625*10^-34// Planck's constant in m^2 Kg/sec\n",
"c=3*10^8//velocity of light in m/s\n",
"Kb=1.38*10^-23//Boltzmann's constant in m^2 Kg.s^-2 k^-1\n",
"\n",
"//CALCULATION\n",
"Ratio=(exp((-h*c)/(w*Kb*t)))/10^-30//ratio of propulsion of the two states in a laser *10^-30\n",
"\n",
"//OUTPUT\n",
"printf('The ratio of propulsion of the two states in a laser is %3.4f *10^-30',Ratio)"
   ]
   }
,
{
		   "cell_type": "markdown",
		   "metadata": {},
		   "source": [
			"## Example 5.2: Band_gap.sce"
		   ]
		  },
  {
"cell_type": "code",
	   "execution_count": null,
	   "metadata": {
	    "collapsed": true
	   },
	   "outputs": [],
"source": [
"clc\n",
"clear\n",
"//INPUT DATA\n",
"w=1.55*10^-6//wavelength of light emission in m\n",
"h=6.625*10^-34// Planck's constant in m^2 Kg/sec\n",
"c=3*10^8//velocity of light in m/s\n",
"e=1.6*10^-19//charge of electron in coulombs\n",
"\n",
"//CALCULATION\n",
"Eg=(h*c)/(w*e)//band gap in eV\n",
"\n",
"//OUTPUT\n",
"printf('The band gap for lnp laser diode is %3.4f eV',Eg)"
   ]
   }
,
{
		   "cell_type": "markdown",
		   "metadata": {},
		   "source": [
			"## Example 5.3: wavelength_limit.sce"
		   ]
		  },
  {
"cell_type": "code",
	   "execution_count": null,
	   "metadata": {
	    "collapsed": true
	   },
	   "outputs": [],
"source": [
"clc\n",
"clear\n",
"//INPUT DATA\n",
"E=0.02*1.6*10^-19//Ionisation energy in J\n",
"h=6.625*10^-34// Planck's constant in m^2 Kg/sec\n",
"c=3*10^8//velocity of light in m/s\n",
"\n",
"//CALCULATION\n",
"w=((h*c)/E)/10^-5// long wavelength limit of an extrinsic semiconductor in m *10^-5\n",
"\n",
"//OUTPUT\n",
"printf('The long wavelength limit of an extrinsic semiconductor is %3.4f *10^-5.m',w)"
   ]
   }
,
{
		   "cell_type": "markdown",
		   "metadata": {},
		   "source": [
			"## Example 5.4: Number_of_photons_emitted.sce"
		   ]
		  },
  {
"cell_type": "code",
	   "execution_count": null,
	   "metadata": {
	    "collapsed": true
	   },
	   "outputs": [],
"source": [
"clc\n",
"clear\n",
"//INPUT DATA\n",
"E=3.5*10^-3*60//power output in J/min\n",
"w=0.621*10^-6//wavelength of light in m\n",
"h=6.625*10^-34// Planck's constant in m^2 Kg/sec\n",
"c=3*10^8//velocity of light in m/s\n",
"\n",
"//CALCULATION\n",
"e=(h*c)/w//energy emitted by one photon in J\n",
"n=(E/e)/10^17//The number of photons emitted per minute in photons /minute *10^17\n",
"\n",
"//OUTPUT\n",
"printf('The number of photons emitted per minute is %3.3f *10^17 photons /minute',n)"
   ]
   }
],
"metadata": {
		  "kernelspec": {
		   "display_name": "Scilab",
		   "language": "scilab",
		   "name": "scilab"
		  },
		  "language_info": {
		   "file_extension": ".sce",
		   "help_links": [
			{
			 "text": "MetaKernel Magics",
			 "url": "https://github.com/calysto/metakernel/blob/master/metakernel/magics/README.md"
			}
		   ],
		   "mimetype": "text/x-octave",
		   "name": "scilab",
		   "version": "0.7.1"
		  }
		 },
		 "nbformat": 4,
		 "nbformat_minor": 0
}
