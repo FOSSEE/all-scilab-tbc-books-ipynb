{
"cells": [
 {
		   "cell_type": "markdown",
	   "metadata": {},
	   "source": [
       "# Chapter 8: Quantum Physics"
	   ]
	},
{
		   "cell_type": "markdown",
		   "metadata": {},
		   "source": [
			"## Example 8.10: Lowest_energy_of_a_neutron.sce"
		   ]
		  },
  {
"cell_type": "code",
	   "execution_count": null,
	   "metadata": {
	    "collapsed": true
	   },
	   "outputs": [],
"source": [
"clc\n",
"clear\n",
"//INPUT DATA\n",
"a=10^-14//length of impenerable box in m\n",
"m=1.67*10^-27//mass of neutron in Kg\n",
"n=1//for lowest energy\n",
"h=6.625*10^-34//Planck's constant in m^2 Kg /sec\n",
"\n",
"//CALCULATION\n",
"E=((n^2*h^2)/(8*m*a^2))/10^-13//The least energy of the neutron can be obtained in eV*10^-13\n",
"\n",
"//OUTPUT\n",
"printf('The least energy of the neutron can be obtained is %3.3f*10^-13 eV',E)\n",
"\n",
""
   ]
   }
,
{
		   "cell_type": "markdown",
		   "metadata": {},
		   "source": [
			"## Example 8.11: Three_permitted_energy_levels.sce"
		   ]
		  },
  {
"cell_type": "code",
	   "execution_count": null,
	   "metadata": {
	    "collapsed": true
	   },
	   "outputs": [],
"source": [
"clc\n",
"clear\n",
"//INPUT DATA\n",
"a=4*10^-10//width of electron box in m\n",
"h=6.625*10^-34//Planck's constant in m^2 Kg /sec\n",
"m=9.11*10^-31//mass of electron in Kg\n",
"e=1.6*10^-19//charge of electron in coulombs\n",
"n=1//first permitted level\n",
"\n",
"//CALCULATION\n",
"E1=((n^2*h^2)/(8*m*a^2*e))//The first permitted energy level by taking n=1 in eV\n",
"E2=4*E1//The second permitted energy level by taking n=2 in eV\n",
"E3=9*E1//The third permitted energy level by taking n=3 in eV\n",
"\n",
"//OUTPUT\n",
"printf('The first permitted energy level by taking n=1 is %3.3f eV \n The second permitted energy level by taking n=2 is %3.3f eV \n The third permitted energy level by taking n=3 is %3.3f eV',E1,E2,E3)"
   ]
   }
,
{
		   "cell_type": "markdown",
		   "metadata": {},
		   "source": [
			"## Example 8.12: Lowest_energy.sce"
		   ]
		  },
  {
"cell_type": "code",
	   "execution_count": null,
	   "metadata": {
	    "collapsed": true
	   },
	   "outputs": [],
"source": [
"clc\n",
"clear\n",
"//INPUT DATA\n",
"a=1.5*10^-10//each side of cubicalbox in m\n",
"n1=1//for lowest energy\n",
"n2=1//for lowest energy\n",
"n3=1//for lowest energy\n",
"h=6.625*10^-34//Planck's constant in m^2 Kg /sec\n",
"m=9.11*10^-31//mass of electron in Kg\n",
"e=1.6*10^-19//charge of electron in coulombs\n",
"\n",
"//CALCULATION\n",
"n=(n1^2+n2^2+n3^2)//total value of n\n",
"E=((n*h^2)/(8*m*a^2*e))//The lowest energy of electron ina cubical box in eV\n",
"\n",
"//OUTPUT\n",
"printf('The lowest energy of electron ina cubical box is %3.2f in eV',E)"
   ]
   }
,
{
		   "cell_type": "markdown",
		   "metadata": {},
		   "source": [
			"## Example 8.13: Minimum_energy_of_an_electron.sce"
		   ]
		  },
  {
"cell_type": "code",
	   "execution_count": null,
	   "metadata": {
	    "collapsed": true
	   },
	   "outputs": [],
"source": [
"clc\n",
"clear\n",
"//INPUT DATA\n",
"a=4*10^-9//width of potential well in m\n",
"n=1//For minimum energy n value\n",
"h=6.625*10^-34//Planck's constant in m^2 Kg /sec\n",
"m=9.11*10^-31//mass of electron in Kg\n",
"e=1.6*10^-19//charge of electron in coulombs\n",
"\n",
"//CALCULATION\n",
"E=((n^2*h^2)/(8*m*a^2*e))//The lowest energy of electron in deep potential well in eV\n",
"\n",
"//OUTPUT\n",
"printf('The lowest energy of electron in deep potential well is %3.5f eV',E)\n",
""
   ]
   }
,
{
		   "cell_type": "markdown",
		   "metadata": {},
		   "source": [
			"## Example 8.14: Energy_required.sce"
		   ]
		  },
  {
"cell_type": "code",
	   "execution_count": null,
	   "metadata": {
	    "collapsed": true
	   },
	   "outputs": [],
"source": [
"clc\n",
"clear\n",
"//INPUT DATA\n",
"a=0.1*10^-9//length of one dimensional box in m\n",
"n=1//first permitted level\n",
"h=6.625*10^-34//Planck's constant in m^2 Kg /sec\n",
"m=9.11*10^-31//mass of electron in Kg\n",
"e=1.6*10^-19//charge of electron in coulombs\n",
"\n",
"//CALCULATION\n",
"E1=((n^2*h^2)/(8*m*a^2*e))//The ground state of electron in an one dimensional box in eV\n",
"E6=36*E1//The fifth exited state of electron in eV\n",
"E=E6-E1//The energy required the electron from its ground state to the fifth exited state in eV\n",
"\n",
"//OUTPUT\n",
"printf('The energy required the electron from its ground state to the fifth exited state is %i eV',E)"
   ]
   }
,
{
		   "cell_type": "markdown",
		   "metadata": {},
		   "source": [
			"## Example 8.15: Lowest_energy.sce"
		   ]
		  },
  {
"cell_type": "code",
	   "execution_count": null,
	   "metadata": {
	    "collapsed": true
	   },
	   "outputs": [],
"source": [
"clc\n",
"clear\n",
"//INPUT DATA\n",
"a=0.1*10^-9//length of one dimensional box in m\n",
"n=1//first permitted level\n",
"h=6.625*10^-34//Planck's constant in m^2 Kg /sec\n",
"m=9.11*10^-31//mass of electron in Kg\n",
"e=1.6*10^-19//charge of electron in coulombs\n",
"ne=3//the number of electrons\n",
"\n",
"//CALCULATION\n",
"E=((n^2*h^2)/(8*m*a^2*e))*ne//The lowest energy of the system consisting of three electron ia a one dimensional box in eV\n",
"\n",
"//OUTPUT\n",
"printf('The lowest energy of the system consisting of three electron ia a one dimensional box is %3.4f eV',E)"
   ]
   }
,
{
		   "cell_type": "markdown",
		   "metadata": {},
		   "source": [
			"## Example 8.1: Momentum.sce"
		   ]
		  },
  {
"cell_type": "code",
	   "execution_count": null,
	   "metadata": {
	    "collapsed": true
	   },
	   "outputs": [],
"source": [
"clc\n",
"clear\n",
"//INPUT DATA\n",
"W=0.1*10^-9//wavelength of photon in m\n",
"h=6.625*10^-34// Planck's constant in m^2 Kg /sec\n",
"c=3*10^8//velocity of light in m/s\n",
"e=1.6*10^-19//charge of electron in coulombs\n",
"\n",
"//CALCULATION\n",
"E=((h*c)/(W*e))//energy of photon in eV\n",
"P=(h/W)/10^-24//momentum of the photon in Kgms^-1\n",
"\n",
"//OUTPUT\n",
"printf('The energy of photon is %3.1f eV \n The momentum of the photon is %3.2f *10^-24.Kgms^-1',E,P)"
   ]
   }
,
{
		   "cell_type": "markdown",
		   "metadata": {},
		   "source": [
			"## Example 8.2: Number_of_photons.sce"
		   ]
		  },
  {
"cell_type": "code",
	   "execution_count": null,
	   "metadata": {
	    "collapsed": true
	   },
	   "outputs": [],
"source": [
"clc\n",
"clear\n",
"//INPUT DATA\n",
"w=5893*10^-10//wavelength of emitted light in m\n",
"e=100//total energy emitted per sec\n",
"h=6.625*10^-34// Planck's constant in m^2 Kg /sec\n",
"c=3*10^8//velocity of light m/s\n",
"\n",
"//CALCULATION\n",
"E=((h*c)/w)//energy of one photon in J\n",
"N=(e/E)/10^20//The total numberof photons emitted in sec\n",
"\n",
"//OUTPUT\n",
"printf('The total number of photons emitted per second is %3.3f *10^20 per sec',N)"
   ]
   }
,
{
		   "cell_type": "markdown",
		   "metadata": {},
		   "source": [
			"## Example 8.3: Energy_density.sce"
		   ]
		  },
  {
"cell_type": "code",
	   "execution_count": null,
	   "metadata": {
	    "collapsed": true
	   },
	   "outputs": [],
"source": [
"clc\n",
"clear\n",
"//INPUT DATA\n",
"w=4000*10^-10//wavelength in black body in m\n",
"t=1500//temperature of black body in k\n",
"h=6.625*10^-34// Planck's constant m^2 Kg /sec\n",
"c=3*10^8//velocity of light in m/s\n",
"Kb=1.38*10^-23//Boltzmann's constant in m^2 Kg s^-2 k^-1\n",
"\n",
"//CALCULATION\n",
"Edw=((8*3.14*h*c)/w^5)*(1/(exp((h*c)/(w*Kb*t))-1))//The energy density per unit wavelength in a black body cavity in J/m^4\n",
"\n",
"//OUTPUT\n",
"printf('The energy density per unit wavelength in a black body cavity is %3.5f J/m^4',Edw)"
   ]
   }
,
{
		   "cell_type": "markdown",
		   "metadata": {},
		   "source": [
			"## Example 8.4: Compton_wavelength.sce"
		   ]
		  },
  {
"cell_type": "code",
	   "execution_count": null,
	   "metadata": {
	    "collapsed": true
	   },
	   "outputs": [],
"source": [
"clc\n",
"clear\n",
"//INPUT DATA\n",
"h=6.625*10^-34//Planck's constant in m^2 Kg /sec\n",
"c=3*10^8//velocity of light in m/s\n",
"m=9.11*10^-31//mass of electron in Kg\n",
"\n",
"//CALCULATION\n",
"w=(h/(c*m))/10^-10//The compton wavelength for an electronin Armstrong\n",
"\n",
"//OUTPUT\n",
"printf('The compton wavelength for an electron is %3.4f Armstrong',w)"
   ]
   }
,
{
		   "cell_type": "markdown",
		   "metadata": {},
		   "source": [
			"## Example 8.5: change_in_wavelength.sce"
		   ]
		  },
  {
"cell_type": "code",
	   "execution_count": null,
	   "metadata": {
	    "collapsed": true
	   },
	   "outputs": [],
"source": [
"clc\n",
"clear\n",
"//INPUT DATA\n",
"x=90//x ray photon scattered at a angle in degrees\n",
"h=6.625*10^-34//Planck's constant in J-sec\n",
"c=3*10^8//velocity of light m/s\n",
"m=9.11*10^-31//mass of electron in Kg\n",
"\n",
"//CALCULATION\n",
"w=((h/(c*m))*(1-cosd(x)))/10^-10//The change in wavelength for Xray photon in A*10^-10\n",
"\n",
"//OUTPUT\n",
"printf('The change in wavelength for X ray photon is %3.4f A',w)"
   ]
   }
,
{
		   "cell_type": "markdown",
		   "metadata": {},
		   "source": [
			"## Example 8.6: Wavelength_of_x_rays.sce"
		   ]
		  },
  {
"cell_type": "code",
	   "execution_count": null,
	   "metadata": {
	    "collapsed": true
	   },
	   "outputs": [],
"source": [
"clc\n",
"clear\n",
"//INPUT DATA\n",
"angle=180//x ray carbon scattered at a angle in degrees\n",
"h=6.625*10^-34//Planck's constant in m^2 Kg /sec\n",
"c=3*10^8//velocity of light in m/s\n",
"m=9.11*10^-31//mass of electron in Kg\n",
"v=1.8*10^18//frequency of incident rays in s^-1\n",
"\n",
"//CALCULATION\n",
"w=(c/v)//wavelength in m\n",
"tw=(h/(c*m))*(1-cosd(angle))//The change wavelength for Xray carbon in m\n",
"NW=(w+tw)/10^-10//The wavelength of X-rays carbon in Armstrong\n",
"\n",
"//OUTPUT\n",
"printf('The wavelength of X-rays carbon is %3.2f Armstrong',NW)"
   ]
   }
,
{
		   "cell_type": "markdown",
		   "metadata": {},
		   "source": [
			"## Example 8.7: Wavelength_of_scattered_photons.sce"
		   ]
		  },
  {
"cell_type": "code",
	   "execution_count": null,
	   "metadata": {
	    "collapsed": true
	   },
	   "outputs": [],
"source": [
"clc\n",
"clear\n",
"//INPUT DATA\n",
"w=3*10^-10//wavelength of incident photons in m\n",
"angle=60//angle of view in degrees\n",
"h=6.625*10^-34//Planck's constant in m^2 Kg /sec\n",
"c=3*10^8//velocity of light in m/sec\n",
"m=9.11*10^-31//mass of electron in Kg\n",
"\n",
"//CALCULATION\n",
"tw=(w+((h/(c*m))*(1-cosd(angle))))/10^-10//The wavelength of scattered photons in Armstrong\n",
"\n",
"//OUTPUT\n",
"printf('The wavelength of scattered photons is %3.3f Armstrong',tw)"
   ]
   }
,
{
		   "cell_type": "markdown",
		   "metadata": {},
		   "source": [
			"## Example 8.8: velocity_of_a_moving_electron.sce"
		   ]
		  },
  {
"cell_type": "code",
	   "execution_count": null,
	   "metadata": {
	    "collapsed": true
	   },
	   "outputs": [],
"source": [
"clc\n",
"clear\n",
"//INPUT DATA\n",
"x=4//Total energy increase to 4 times of its initial rest energy\n",
"c=3*10^8//velocity of light in m/sec\n",
"//CALCULATION\n",
"v=sqrt(c^2*(1-(1/x^2)))/10^8//The Velocity of moving electron in m/sec*10^8\n",
"\n",
"//OUTPUT\n",
"printf('The Velocity of moving electron is %3.4f*10^8 m/sec',v)"
   ]
   }
,
{
		   "cell_type": "markdown",
		   "metadata": {},
		   "source": [
			"## Example 8.9: Energy_of_an_electron.sce"
		   ]
		  },
  {
"cell_type": "code",
	   "execution_count": null,
	   "metadata": {
	    "collapsed": true
	   },
	   "outputs": [],
"source": [
"clc\n",
"clear\n",
"//INPUT DATA\n",
"a=0.1*10^-9//width of high potential box in m\n",
"h=6.625*10^-34//Planck's constant in m^2 Kg /sec\n",
"m=9.11*10^-31//mass of electron in Kg\n",
"e=1.6*10^-19//charge of electron in coulombs\n",
"n=1//take n equal to one\n",
"\n",
"//CALCULATION\n",
"E=((n^2*h^2)/(8*m*a^2*e))//The least energy of the particle can be obtained in eV\n",
"\n",
"//OUTPUT\n",
"printf('The least energy of the particle can be obtained is %3.2f eV',E)"
   ]
   }
],
"metadata": {
		  "kernelspec": {
		   "display_name": "Scilab",
		   "language": "scilab",
		   "name": "scilab"
		  },
		  "language_info": {
		   "file_extension": ".sce",
		   "help_links": [
			{
			 "text": "MetaKernel Magics",
			 "url": "https://github.com/calysto/metakernel/blob/master/metakernel/magics/README.md"
			}
		   ],
		   "mimetype": "text/x-octave",
		   "name": "scilab",
		   "version": "0.7.1"
		  }
		 },
		 "nbformat": 4,
		 "nbformat_minor": 0
}
