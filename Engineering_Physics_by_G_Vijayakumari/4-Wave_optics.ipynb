{
"cells": [
 {
		   "cell_type": "markdown",
	   "metadata": {},
	   "source": [
       "# Chapter 4: Wave optics"
	   ]
	},
{
		   "cell_type": "markdown",
		   "metadata": {},
		   "source": [
			"## Example 4.10: Thickness_of_the_Calcite_plate.sce"
		   ]
		  },
  {
"cell_type": "code",
	   "execution_count": null,
	   "metadata": {
	    "collapsed": true
	   },
	   "outputs": [],
"source": [
"clc\n",
"clear\n",
"//INPUT DATA\n",
"w=5893*10^-10//wavelength of sodium light in m\n",
"Ro=1.658//Refractive index of calcite for o ray\n",
"Re=1.486//Refractive index of calcite for e ray\n",
"\n",
"//CALCULATION\n",
"t=((w/(2*(Ro-Re))))/10^-7//thickness of the quarter wave plate for calcite in m *10^-7\n",
"\n",
"//OUTPUT\n",
"printf('The thickness of the quarter wave plate for calcite is %3.3f *10^-7.m',t)\n",
"//Answer given in the book is wrong"
   ]
   }
,
{
		   "cell_type": "markdown",
		   "metadata": {},
		   "source": [
			"## Example 4.11: Wavelength_of_half_wave_plate.sce"
		   ]
		  },
  {
"cell_type": "code",
	   "execution_count": null,
	   "metadata": {
	    "collapsed": true
	   },
	   "outputs": [],
"source": [
"clc\n",
"clear\n",
"//INPUT DATA\n",
"t=30*10^-6//thickness of wave plate in m\n",
"Ro=1.55//Refractive index of wave plate for o ray\n",
"Re=1.54//Refractive index of wave plate for e ray\n",
"\n",
"//CALCULATION\n",
"w=(2*t*(Ro-Re))/10^-9//wavelength for which it can act as a half wave plate in m *10^-9\n",
"\n",
"//OUTPUT\n",
"printf('The wavelength for which it can act as a half wave plate is %i *10^-9.m',w)"
   ]
   }
,
{
		   "cell_type": "markdown",
		   "metadata": {},
		   "source": [
			"## Example 4.12: Thickness_of_a_sheet.sce"
		   ]
		  },
  {
"cell_type": "code",
	   "execution_count": null,
	   "metadata": {
	    "collapsed": true
	   },
	   "outputs": [],
"source": [
"clc\n",
"clear\n",
"//INPUT DATA\n",
"w=546.1*10^-9//wavelength of light in m\n",
"Re=1.592//Refractive index of mica for e ray\n",
"Ro=1.586//Refractive index of mica for o ray\n",
"\n",
"//CALCULATION\n",
"t=((w/(2*(Re-Ro))))/10^-5//thickness of a mica sheet in m *10^-5\n",
"\n",
"//OUTPUT\n",
"printf('The thickness of a mica sheet required for making a half wave plate for a light of wavelength w is %3.4f *10^-5.m',t)"
   ]
   }
,
{
		   "cell_type": "markdown",
		   "metadata": {},
		   "source": [
			"## Example 4.1: wavelength_of_ligth_used.sce"
		   ]
		  },
  {
"cell_type": "code",
	   "execution_count": null,
	   "metadata": {
	    "collapsed": true
	   },
	   "outputs": [],
"source": [
"clc\n",
"clear\n",
"//INPUT DATA\n",
"n=125//number of fingers cross the field of view\n",
"d=0.04*10^-3//distance of one of mirror moved in m\n",
"\n",
"//CALCULATION\n",
"w=((2*d)/n)/10^-9//wavelength of light used in m\n",
"\n",
"//OUTPUT\n",
"printf('The wavelength of light used is %i *10^-9.m',w)"
   ]
   }
,
{
		   "cell_type": "markdown",
		   "metadata": {},
		   "source": [
			"## Example 4.2: wavelength_of_light.sce"
		   ]
		  },
  {
"cell_type": "code",
	   "execution_count": null,
	   "metadata": {
	    "collapsed": true
	   },
	   "outputs": [],
"source": [
"clc\n",
"clear\n",
"//INPUT DATA\n",
"Ri=1.5//refractive index of thin film of glass\n",
"n=30//number of fringes of sodium light is observed across the field of view\n",
"t=0.018*10^-3//thickness of glass film in m\n",
"\n",
"//CALCULATION\n",
"w=((2*(Ri-1)*t)/n)/10^-7//wavelength of the light used in m *10^-7\n",
"\n",
"//OUTPUT\n",
"printf('The wavelength of light used is %i *10^-7.m',w)"
   ]
   }
,
{
		   "cell_type": "markdown",
		   "metadata": {},
		   "source": [
			"## Example 4.3: wavelength_of_monochromatic_source.sce"
		   ]
		  },
  {
"cell_type": "code",
	   "execution_count": null,
	   "metadata": {
	    "collapsed": true
	   },
	   "outputs": [],
"source": [
"clc\n",
"clear\n",
"//INPUT DATA\n",
"n=200//number of fringes cross the field of view\n",
"d=0.0589*10^-3//distance of mirror displaced in m\n",
"\n",
"//CALCULATION\n",
"w=((2*d)/n)/10^-7//wavelength of the monochromatic source used in m *10^-7\n",
"\n",
"//OUTPUT\n",
"printf('The wavelength of the monochromatic source used is %3.2f *10^-7.in m',w)"
   ]
   }
,
{
		   "cell_type": "markdown",
		   "metadata": {},
		   "source": [
			"## Example 4.4: Thickness_of_the_film.sce"
		   ]
		  },
  {
"cell_type": "code",
	   "execution_count": null,
	   "metadata": {
	    "collapsed": true
	   },
	   "outputs": [],
"source": [
"clc\n",
"clear\n",
"//INPUT DATA\n",
"x=1.55//refractive index of transparent film of glass \n",
"w=480*10^-9//wavelength of light in m\n",
"n=450//number of fringes to sweep across the field\n",
"\n",
"//CALCULATION\n",
"t=((n*w)/(2*(x-1)))/10^-4//thickness of the film in m *10^-4\n",
"\n",
"//OUTPUT\n",
"printf('The thickness of the film is %3.4f *10^-4.m',t)"
   ]
   }
,
{
		   "cell_type": "markdown",
		   "metadata": {},
		   "source": [
			"## Example 4.5: Refractive_index_of_the_material.sce"
		   ]
		  },
  {
"cell_type": "code",
	   "execution_count": null,
	   "metadata": {
	    "collapsed": true
	   },
	   "outputs": [],
"source": [
"clc\n",
"clear\n",
"//INPUT DATA\n",
"t=0.004*10^-2//thickness of transparent sheet in m\n",
"d=0.0027*10^-2//distance of mirror displaced in m\n",
"\n",
"//CALCULATION\n",
"X=((d/t)+1)//refractive index of the material\n",
"\n",
"//OUTPUT\n",
"printf('The refractive index of material is %3.3f',X)"
   ]
   }
,
{
		   "cell_type": "markdown",
		   "metadata": {},
		   "source": [
			"## Example 4.6: Number_of_fringes.sce"
		   ]
		  },
  {
"cell_type": "code",
	   "execution_count": null,
	   "metadata": {
	    "collapsed": true
	   },
	   "outputs": [],
"source": [
"clc\n",
"clear\n",
"//INPUT DATA\n",
"d=0.03205*10^-3//distance of movable mirror displaced in m\n",
"w=580.9*10^-9//wavelength of light in m\n",
"\n",
"//CALCULATION\n",
"n=(2*d)/w//number of fringes shifted across the cross wire of eye piece of the telescope\n",
"\n",
"//OUTPUT\n",
"printf('The number of fringes shifted across the cross wire of eye piece of the telescope is %i',n)"
   ]
   }
,
{
		   "cell_type": "markdown",
		   "metadata": {},
		   "source": [
			"## Example 4.7: Thickness_of_a_quarter_wave_plate.sce"
		   ]
		  },
  {
"cell_type": "code",
	   "execution_count": null,
	   "metadata": {
	    "collapsed": true
	   },
	   "outputs": [],
"source": [
"clc\n",
"clear\n",
"//INPUT DATA\n",
"w=5893*10^-10//wavelength of sodium light in m\n",
"Re=1.5532//Refractive index of quartz for e ray\n",
"Ro=1.5332//Refractive index of quartz for o ray\n",
"\n",
"//CALCULATION\n",
"t=((w/(4*(Re-Ro))))/10^-6//thickness of a quarter wave plate of quartz for sodium light in m *10^-6\n",
"\n",
"//OUTPUT\n",
"printf('The thickness of a quarter wave plate of quartz for sodium light is %3.4f *10^-6.m',t)"
   ]
   }
,
{
		   "cell_type": "markdown",
		   "metadata": {},
		   "source": [
			"## Example 4.8: Thickness_of_a_double_refracting_crystal.sce"
		   ]
		  },
  {
"cell_type": "code",
	   "execution_count": null,
	   "metadata": {
	    "collapsed": true
	   },
	   "outputs": [],
"source": [
"clc\n",
"clear\n",
"//INPUT DATA\n",
"w=6000*10^-10//wavelength in m\n",
"Re=1.54//Refractive index of double refracting crystal for e ray\n",
"Ro=1.65//Refractive index of double refracting crystal for o ray\n",
"\n",
"//CALCULATION\n",
"t=((w/(2*(Ro-Re))))/10^-6//thickness of a double refracting crystal required  at w/2 in m *10^-6\n",
"\n",
"//OUTPUT\n",
"printf('The thickness of a double refracting crystal required at w/2 is %3.3f *10^-6.m',t)"
   ]
   }
,
{
		   "cell_type": "markdown",
		   "metadata": {},
		   "source": [
			"## Example 4.9: Least_thickness_of_a_plate.sce"
		   ]
		  },
  {
"cell_type": "code",
	   "execution_count": null,
	   "metadata": {
	    "collapsed": true
	   },
	   "outputs": [],
"source": [
"clc\n",
"clear\n",
"//INPUT DATA\n",
"w=5*10^-7//wavelength in m\n",
"Re=1.5573//Refractive index for e ray when the emergent beam will be plane polarised\n",
"Ro=1.5442//Refractive index for o ray when the emergent beam will be plane polarised\n",
"\n",
"//CALCULATION\n",
"t=((w/(4*(Re-Ro))))/10^-6//least thickness of a plate in m *10^-6\n",
"\n",
"//OUTPUT\n",
"printf('The least thickness of a plate when the emergent beam will be plane polarised is %3.2f *10^-6.m',t)"
   ]
   }
],
"metadata": {
		  "kernelspec": {
		   "display_name": "Scilab",
		   "language": "scilab",
		   "name": "scilab"
		  },
		  "language_info": {
		   "file_extension": ".sce",
		   "help_links": [
			{
			 "text": "MetaKernel Magics",
			 "url": "https://github.com/calysto/metakernel/blob/master/metakernel/magics/README.md"
			}
		   ],
		   "mimetype": "text/x-octave",
		   "name": "scilab",
		   "version": "0.7.1"
		  }
		 },
		 "nbformat": 4,
		 "nbformat_minor": 0
}
