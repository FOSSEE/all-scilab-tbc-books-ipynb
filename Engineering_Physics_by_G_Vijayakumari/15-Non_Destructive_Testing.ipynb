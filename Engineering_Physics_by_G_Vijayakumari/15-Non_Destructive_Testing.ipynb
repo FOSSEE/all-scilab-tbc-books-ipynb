{
"cells": [
 {
		   "cell_type": "markdown",
	   "metadata": {},
	   "source": [
       "# Chapter 15: Non Destructive Testing"
	   ]
	},
{
		   "cell_type": "markdown",
		   "metadata": {},
		   "source": [
			"## Example 15.1: Frequency.sce"
		   ]
		  },
  {
"cell_type": "code",
	   "execution_count": null,
	   "metadata": {
	    "collapsed": true
	   },
	   "outputs": [],
"source": [
"clc\n",
"clear\n",
"//INPUT DATA\n",
"t=0.1*10^-2//thickness of piezo electric crystal in m\n",
"E=80*10^9//Young's modulus of crystal in pa\n",
"d=2654//density of material of crystal in Kgm^-3\n",
"\n",
"//CALCULATION\n",
"f=(1/(2*t)*sqrt(E/d))/10^6//The frequency to which a piezo electric oscillator circuit should be turned in Hz\n",
"\n",
"//OUTPUT\n",
"printf('The frequency to which a piezo electric oscillator circuit should be turned is %3.4f*10^6 Hz',f)"
   ]
   }
],
"metadata": {
		  "kernelspec": {
		   "display_name": "Scilab",
		   "language": "scilab",
		   "name": "scilab"
		  },
		  "language_info": {
		   "file_extension": ".sce",
		   "help_links": [
			{
			 "text": "MetaKernel Magics",
			 "url": "https://github.com/calysto/metakernel/blob/master/metakernel/magics/README.md"
			}
		   ],
		   "mimetype": "text/x-octave",
		   "name": "scilab",
		   "version": "0.7.1"
		  }
		 },
		 "nbformat": 4,
		 "nbformat_minor": 0
}
