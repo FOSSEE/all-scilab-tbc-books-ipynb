{
"cells": [
 {
		   "cell_type": "markdown",
	   "metadata": {},
	   "source": [
       "# Chapter 2: Ultrasonics"
	   ]
	},
{
		   "cell_type": "markdown",
		   "metadata": {},
		   "source": [
			"## Example 2.1: Frequency_of_vibration.sce"
		   ]
		  },
  {
"cell_type": "code",
	   "execution_count": null,
	   "metadata": {
	    "collapsed": true
	   },
	   "outputs": [],
"source": [
"clc\n",
"clear\n",
"//INPUT DATA\n",
"E=80*10^9//Young's modulus of material of piezo electric crystal in Pa\n",
"d=2654 //Density of material of piezo electric crystal in Kg/m^3\n",
"t=0.1*10^-2//Thickness of  piezo electric crystal in m\n",
"p=1//for fundamental first overtone\n",
"\n",
"//CALCULATION\n",
"f=((p/(2*t))*(sqrt(E/d)))/10^6//Frequency of vibration of first overtone in Hz *10^6\n",
"\n",
"//OUTPUT\n",
"printf('The frequency of vibration is %3.4f *10^6.Hz',f)"
   ]
   }
,
{
		   "cell_type": "markdown",
		   "metadata": {},
		   "source": [
			"## Example 2.2: Frequency_of_first_and_second_node_of_vibration.sce"
		   ]
		  },
  {
"cell_type": "code",
	   "execution_count": null,
	   "metadata": {
	    "collapsed": true
	   },
	   "outputs": [],
"source": [
"clc\n",
"clear\n",
"//INPUT DATA\n",
"v=5.5*10^3//Velocity of longitudanal waves in Quartz Crystal in m/s\n",
"t=0.05//Thickness of Quartz Crystal in m\n",
"\n",
"//CALCULATION\n",
"w=2*t//wavelength in m\n",
"v1=(v/w)/10^4//Frequency in the first mode of vibration in Hz *10^4\n",
"v2=(2*v1)/(10^-4*10^3)//Frequency in the second mode of vibration in Hz *10^3\n",
"\n",
"//OUTPUT\n",
"printf('Frequency in the first mode of vibration is %3.1f *10^4.Hz \n Frequency in the second mode of vibration is %i *10^3.Hz',v1,v2)"
   ]
   }
,
{
		   "cell_type": "markdown",
		   "metadata": {},
		   "source": [
			"## Example 2.3: Depth_and_wavelength.sce"
		   ]
		  },
  {
"cell_type": "code",
	   "execution_count": null,
	   "metadata": {
	    "collapsed": true
	   },
	   "outputs": [],
"source": [
"clc\n",
"clear\n",
"//INPUT DATA\n",
"f=0.09*10^6//Frequency of Ultrasonic source in Hz\n",
"t=0.55//time in sec\n",
"v=1800//velocity of sound in water in m/s\n",
"\n",
"//CALCULATION\n",
"D=(v*t)/2//Depth of sea in m\n",
"W=(v/f)//Wavelength of ultrasonic pulse in m\n",
"\n",
"//OUTPUT\n",
"printf('The depth of sea is %im \n The wavelength of ultrasonic pulse is %3.2fm',D,W)"
   ]
   }
],
"metadata": {
		  "kernelspec": {
		   "display_name": "Scilab",
		   "language": "scilab",
		   "name": "scilab"
		  },
		  "language_info": {
		   "file_extension": ".sce",
		   "help_links": [
			{
			 "text": "MetaKernel Magics",
			 "url": "https://github.com/calysto/metakernel/blob/master/metakernel/magics/README.md"
			}
		   ],
		   "mimetype": "text/x-octave",
		   "name": "scilab",
		   "version": "0.7.1"
		  }
		 },
		 "nbformat": 4,
		 "nbformat_minor": 0
}
