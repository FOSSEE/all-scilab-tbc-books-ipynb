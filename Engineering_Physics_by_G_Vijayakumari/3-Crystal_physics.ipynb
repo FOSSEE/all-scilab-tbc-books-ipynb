{
"cells": [
 {
		   "cell_type": "markdown",
	   "metadata": {},
	   "source": [
       "# Chapter 3: Crystal physics"
	   ]
	},
{
		   "cell_type": "markdown",
		   "metadata": {},
		   "source": [
			"## Example 3.10: Distance.sce"
		   ]
		  },
  {
"cell_type": "code",
	   "execution_count": null,
	   "metadata": {
	    "collapsed": true
	   },
	   "outputs": [],
"source": [
"clc\n",
"clear\n",
"//INPUT DATA\n",
"a=2.814//the lattice constant of a simple cubic system in armstrong\n",
"h1=1//miller indices with respect to x axis\n",
"k1=0//miller indices with respect to y axis\n",
"l1=0//miller indices with respect to z axis\n",
"\n",
"//CALCULATION\n",
"d=(a/(sqrt(h1^2+k1^2+l1^2)))//inter planar d spacing distance in armstrong\n",
"\n",
"//OUTPUT\n",
"printf('The inter planar d-spacing distance is %3.3f armstrong',d)\n",
""
   ]
   }
,
{
		   "cell_type": "markdown",
		   "metadata": {},
		   "source": [
			"## Example 3.11: Miller_indices.sce"
		   ]
		  },
  {
"cell_type": "code",
	   "execution_count": null,
	   "metadata": {
	    "collapsed": true
	   },
	   "outputs": [],
"source": [
"clc\n",
"clear\n",
"//INPUT DATA\n",
"OA=0.025//The unit cell makes intercepts on a in nm\n",
"OB=0.02//The unit cell makes intercepts on b in nm\n",
"OC=0.01//The unit cell makes intercepts on c in nm\n",
"a=0.05//The unit cell edge of an orthorhombic crystal in nm\n",
"b=0.04//The unit cell edge of an orthorhombic crystal in nm\n",
"c=0.03//The unit cell edge of an orthorhombic crystal in nm\n",
"\n",
"//CALCULATION\n",
"p=a/OA//miller indices with respect to x axis\n",
"q=b/OB//miller indices with respect to y axis\n",
"r=c/OC//miller indices with respect to z axis\n",
"\n",
"//OUTPUT\n",
"printf('The miller indices of the set of parallel lines is (%i %i %i)',p,q,r)\n",
""
   ]
   }
,
{
		   "cell_type": "markdown",
		   "metadata": {},
		   "source": [
			"## Example 3.12: Miller_indices.sce"
		   ]
		  },
  {
"cell_type": "code",
	   "execution_count": null,
	   "metadata": {
	    "collapsed": true
	   },
	   "outputs": [],
"source": [
"clc\n",
"clear\n",
"\n",
"//INPUT\n",
"a=0.424;//value of one axial unit\n",
"b=1;//value of second axial unit\n",
"c=0.367;//value of third axial unit\n",
"i1=0.212;//value at x-intercept\n",
"j1=1;//value at y-intercept\n",
"k1=0.183;//value at z-intercept\n",
"i2=0.848;//value at x-intercept\n",
"j2=1;//value at y-intercept\n",
"k2=0.732;//value at z-intercept\n",
"i3=0.424;//value at x-intercept\n",
"j3=%inf;//value at y-intercept\n",
"k3=0.123;//value at z-intercept\n",
"\n",
"//CALCULATIONS\n",
"p1=1/(i1/a);//miller indices at x-intercept\n",
"q1=1/(j1/b);//miller indices at y-intercept\n",
"r1=1/(k1/c);//miller indices at z-intercept\n",
"p2=1/(i2/a)*2;//miller indices at x-intercept\n",
"q2=1/(j2/b)*2;//miller indices at y-intercept\n",
"r2=1/(k2/c)*2;//miller indices at z-intercept\n",
"p3=1/(i3/a);//miller indices at x-intercept\n",
"q3=1/(j3/b);//miller indices at y-intercept\n",
"r3=1/(k3/c);//miller indices at z-intercept\n",
"\n",
"//OUTPUT\n",
"mprintf('The miller indices are (%i %i %i) \n The miller indices are (%i %i %i) \n The miller indices are (%i %i%3.0f)',p1,q1,r1,p2,q2,r2,p3,q3,r3)"
   ]
   }
,
{
		   "cell_type": "markdown",
		   "metadata": {},
		   "source": [
			"## Example 3.13: Miller_indices.sce"
		   ]
		  },
  {
"cell_type": "code",
	   "execution_count": null,
	   "metadata": {
	    "collapsed": true
	   },
	   "outputs": [],
"source": [
"clc\n",
"clear\n",
"//INPUT DATA\n",
"OB=2//The intercept made by the parrell line ,OB=2b\n",
"OC=7//The intercept made by the parrell line ,OC=2c\n",
"OA=%inf//The intercept made by the parrell line ,OB=2b\n",
"\n",
"//CALCULATION\n",
"A=1/OA//miller indice along x-axis\n",
"B=1/OB//miller indice along y-axis\n",
"C=1/OC//miller indice along z-axis\n",
"X=(B*(OC*OB))//taking L.C.M\n",
"Y=(C*(OC*OB))//taking L.C.M\n",
"\n",
"\n",
"//Output\n",
"printf('Miller indices are (1/%f 1/%i 1/%i)=(%i %i %i)',OA,OB,OC,A,X,Y)"
   ]
   }
,
{
		   "cell_type": "markdown",
		   "metadata": {},
		   "source": [
			"## Example 3.14: Atomic_radius.sce"
		   ]
		  },
  {
"cell_type": "code",
	   "execution_count": null,
	   "metadata": {
	    "collapsed": true
	   },
	   "outputs": [],
"source": [
"clc\n",
"clear\n",
"//INPUT DATA\n",
"a=3.6//lattice parameter of copper in armstrong\n",
"\n",
"//CALCULATION\n",
"r=(a*sqrt(2))/4//The atomic radius of copper in armstrong\n",
"\n",
"//OUTPUT\n",
"printf('The atomic radius of copper is %3.3f armstrong',r)"
   ]
   }
,
{
		   "cell_type": "markdown",
		   "metadata": {},
		   "source": [
			"## Example 3.15: Interplanar_distance.sce"
		   ]
		  },
  {
"cell_type": "code",
	   "execution_count": null,
	   "metadata": {
	    "collapsed": true
	   },
	   "outputs": [],
"source": [
"clc\n",
"clear\n",
"//INPUT DATA\n",
"a=4.12//the lattice constant of a simple cubic system in armstrong\n",
"h1=3//miller indices with respect to x axis\n",
"k1=2//miller indices with respect to y axis\n",
"l1=1//miller indices with respect to z axis\n",
"\n",
"//CALCULATION\n",
"d=(a/(sqrt(h1^2+k1^2+l1^2)))//inter planar d spacing distance in armstrong\n",
"\n",
"//OUTPUT\n",
"printf('The inter planar d-spacing distance is %3.4f armstrong',d)"
   ]
   }
,
{
		   "cell_type": "markdown",
		   "metadata": {},
		   "source": [
			"## Example 3.16: Density.sce"
		   ]
		  },
  {
"cell_type": "code",
	   "execution_count": null,
	   "metadata": {
	    "collapsed": true
	   },
	   "outputs": [],
"source": [
"clc\n",
"clear\n",
"//INPUT DATA\n",
"n=4//no.of atoms in FCC structure\n",
"A=63.54//Atomic weight of copper\n",
"r=1.278*10^-10//atomic radius in m\n",
"N=6.023*10^26//Avogadro's Number per Kg mol\n",
"\n",
"//CALCULATION\n",
"a=((4*r)/sqrt(2))//The lattice constant in m\n",
"d=((A*n)/(N*a*a*a))//The density of copper in Kg/m^3\n",
"\n",
"//OUTPUT\n",
"printf('The density of copper is %i Kg/m^3',d)"
   ]
   }
,
{
		   "cell_type": "markdown",
		   "metadata": {},
		   "source": [
			"## Example 3.17: Distance.sce"
		   ]
		  },
  {
"cell_type": "code",
	   "execution_count": null,
	   "metadata": {
	    "collapsed": true
	   },
	   "outputs": [],
"source": [
"clc\n",
"clear\n",
"//INPUT DATA\n",
"h1=1//miller indices with respect to x axis in 1st plane\n",
"k1=0//miller indices with respect to y axis in 1st plane\n",
"l1=0//miller indices with respect to z axis in 1st plane\n",
"h2=1//miller indices with respect to x axis in 2nd plane\n",
"k2=1//miller indices with respect to y axis in 2nd plane\n",
"l2=0//miller indices with respect to z axis in 2nd plane\n",
"h3=1//miller indices with respect to x axis in 3rd plane\n",
"k3=1//miller indices with respect to y axis in 3rd plane\n",
"l3=1//miller indices with respect to z axis in 3rd plane\n",
"a=1//The lattice constant in a in a simple cubic lattice in m\n",
"\n",
"//CALCULATION\n",
"d100=(a/(sqrt(h1^2+k1^2+l1^2)))//inter planar spacing distance in 1st plane in m\n",
"d110=(a/(sqrt(h2^2+k2^2+l2^2)))//inter planar spacing distance in 2nd plane in m\n",
"d111=(a/(sqrt(h3^2+k3^2+l3^2)))//inter planar spacing distance in 3rd plane in m\n",
"\n",
"//OUTPUT\n",
"printf('The ratio of interplanar distance between successive lattice planes in a simple cubic lattice is d100:d110:d111=%i:%3.3f:%3.3f',d100,d110,d111)"
   ]
   }
,
{
		   "cell_type": "markdown",
		   "metadata": {},
		   "source": [
			"## Example 3.18: Distance.sce"
		   ]
		  },
  {
"cell_type": "code",
	   "execution_count": null,
	   "metadata": {
	    "collapsed": true
	   },
	   "outputs": [],
"source": [
"clc\n",
"clear\n",
"//INPUT DATA\n",
"x=23//atomic weight of sodium\n",
"y=35.45//atomic weight of chloide\n",
"AW=58.45//atomic weight of sodium chloride(NaCl)\n",
"n=4//no.of atoms in FCC structure\n",
"d=2.18*10^6//density of NaCl crystal of FCC structure in kg/m^3\n",
"N=6.023*10^23//Avogadro's Number per Kg mol\n",
"\n",
"//CALCULATION\n",
"a=(((n*AW)/(d*N))^(1/3))/10^-10//The lattice constant in m\n",
"r=(a/2)//The distance between two adjacent atoms in m *10^-10\n",
"\n",
"//OUTPUT\n",
"printf('The distance between two adjacent atoms is %3.2f*10^-10 m',r)"
   ]
   }
,
{
		   "cell_type": "markdown",
		   "metadata": {},
		   "source": [
			"## Example 3.19: Atomic_radius.sce"
		   ]
		  },
  {
"cell_type": "code",
	   "execution_count": null,
	   "metadata": {
	    "collapsed": true
	   },
	   "outputs": [],
"source": [
"clc\n",
"clear\n",
"//INPUT DATA\n",
"n=2//no.of atoms in BCC structure\n",
"d=7.86*10^6//density of iron of FCC structure in kg/m^3\n",
"AW=55.85//atomic weight of Fe\n",
"N=6.023*10^23//Avogadro's Number per Kg mol\n",
"\n",
"//CALCULATION\n",
"a=(((n*AW)/(d*N))^(1/3))/10^-10//The lattice constant in m\n",
"r=((a*sqrt(3))/4)//The atomic radius of Fe which has BCC structure in armstrong*10^-10\n",
"\n",
"//OUTPUT\n",
"printf('The atomic radius of Fe which has BCC structure is %3.3f armstrong',r)"
   ]
   }
,
{
		   "cell_type": "markdown",
		   "metadata": {},
		   "source": [
			"## Example 3.1: Miller_indices.sce"
		   ]
		  },
  {
"cell_type": "code",
	   "execution_count": null,
	   "metadata": {
	    "collapsed": true
	   },
	   "outputs": [],
"source": [
"clc\n",
"clear\n",
"//INPUT DATA\n",
"x1=%inf//intercept of x-axis from figure 3.15(a) on page no:57\n",
"y1=1/2//intercept of y-axis from figure 3.15(b) on page no:57\n",
"z1=%inf//intercept of z-axis from figure 3.15(c) on page no:57\n",
"x2=1//intercept of x-axis from figure 3.15(a) on page no:57\n",
"y2=1/2//intercept of y-axis from figure 3.15(b) on page no:57\n",
"z2=%inf//intercept of z-axis from figure 3.15(c) on page no:57\n",
"x3=1/2//intercept of x-axis from figure 3.15(a) on page no:57\n",
"y3=1/2//intercept of y-axis from figure 3.15(b) on page no:57\n",
"z3=%inf//intercept of z-axis from figure 3.15(c) on page no:57\n",
"\n",
"//CALCULATION\n",
"p1=1/x1//The miller indices of x-axis\n",
"q1=1/y1//The miller indices of y-axis\n",
"r1=1/z1//The miller indices of z-axis\n",
"p2=1/x2//The miller indices of x-axis\n",
"q2=1/y2//The miller indices of y-axis\n",
"r2=1/z2//The miller indices of z-axis\n",
"p3=1/x3//The miller indices of x-axis\n",
"q3=1/y3//The miller indices of y-axis\n",
"r3=1/z3//The miller indices of z-axis\n",
"\n",
"//OUTPUT\n",
"printf('The miller indices of plane shown in figure 3.15(a) is (%i %i %i) \n The miller indices of plane shown in figure 3.15(b) is (%i %i %i) \n The miller indices of plane shown in figure 3.15(c) is (%i %i %i) ',p1,q1,r1,p2,q2,r2,p3,q3,r3)\n",
""
   ]
   }
,
{
		   "cell_type": "markdown",
		   "metadata": {},
		   "source": [
			"## Example 3.20: Lattice_constant.sce"
		   ]
		  },
  {
"cell_type": "code",
	   "execution_count": null,
	   "metadata": {
	    "collapsed": true
	   },
	   "outputs": [],
"source": [
"clc\n",
"clear\n",
"//INPUT DATA\n",
"n=4//no.of atoms in FCC structure\n",
"d=2.7*10^3//density of potassium bromide in Kg/m^3\n",
"AW=119//molecular weight of KBr\n",
"N=6.023*10^26//Avagadro's number per Kg mol\n",
"\n",
"//CALCULATION\n",
"a=(((n*AW)/(d*N))^(1/3))/10^-10//The lattice constant in armstrong *10^-10\n",
"\n",
"//OUTPUT\n",
"printf('The lattice constant is %3.1f Armstrong',a)\n",
""
   ]
   }
,
{
		   "cell_type": "markdown",
		   "metadata": {},
		   "source": [
			"## Example 3.21: Number_of_atoms.sce"
		   ]
		  },
  {
"cell_type": "code",
	   "execution_count": null,
	   "metadata": {
	    "collapsed": true
	   },
	   "outputs": [],
"source": [
"clc\n",
"clear\n",
"//INPUT DATA\n",
"d=9.6*10^2//density of crystal in Kg/m^3\n",
"AW=23//molecular weight of the crystal\n",
"N=6.023*10^26//Avagadro's number per Kg mol\n",
"a=4.3*10^-10//lattice constant in m\n",
"\n",
"//CALCULATION\n",
"n=((d*N*a*a*a)/AW)//Number of atoms per unit cell of a crystal\n",
"\n",
"//OUTPUT\n",
"printf('Number of atoms per unit cell of a crystal is %3.2f \n If n=2,the crystal system is body centered cubic.',n)\n",
""
   ]
   }
,
{
		   "cell_type": "markdown",
		   "metadata": {},
		   "source": [
			"## Example 3.22: Volume_of_its_unit_cell.sce"
		   ]
		  },
  {
"cell_type": "code",
	   "execution_count": null,
	   "metadata": {
	    "collapsed": true
	   },
	   "outputs": [],
"source": [
"clc\n",
"clear\n",
"//INPUT DATA\n",
"r=1.2*10^-10//atomic radius of crystal of BCC structure in m\n",
"\n",
"//CALCULATION\n",
"a=((4*r)/sqrt(3))//lattice constant of BCC structure in m\n",
"V=((a*a*a)/10^-29)//The volume of cell in m^3*10^-29\n",
"\n",
"//OUTPUT\n",
"printf('The volume of cell is %3.3f*10^-29 m^3',V)"
   ]
   }
,
{
		   "cell_type": "markdown",
		   "metadata": {},
		   "source": [
			"## Example 3.23: Planar_distance.sce"
		   ]
		  },
  {
"cell_type": "code",
	   "execution_count": null,
	   "metadata": {
	    "collapsed": true
	   },
	   "outputs": [],
"source": [
"clc\n",
"clear\n",
"//INPUT DATA\n",
"a=4*10^-7//lattice constant of the crystal in mm\n",
"h1=1//miller indices with respect to x axis in 1st plane\n",
"k1=0//miller indices with respect to y axis in 1st plane\n",
"l1=0//miller indices with respect to z axis in 1st plane\n",
"\n",
"//CALCULATION\n",
"n=4*(1/4)//Number of atoms contained in a plane per unit cell\n",
"A=a*a//Area of the plane in mm^2\n",
"d=(n/A)/10^12//The planar atomic density in atoms/mm^2\n",
"\n",
"//OUTPUT\n",
"printf('The planar atomic density is %3.2f*10^12 atoms/mm^2',d)"
   ]
   }
,
{
		   "cell_type": "markdown",
		   "metadata": {},
		   "source": [
			"## Example 3.24: Lattice_constant.sce"
		   ]
		  },
  {
"cell_type": "code",
	   "execution_count": null,
	   "metadata": {
	    "collapsed": true
	   },
	   "outputs": [],
"source": [
"clc\n",
"clear\n",
"//INPUT DATA\n",
"n=4//no.of atoms in Face centered cubic lattice\n",
"d=6250//density of potassium bromide in Kg/m^3\n",
"AW=60.2//molecular weight of crysal with face centered cubic lattice\n",
"N=6.023*10^26//Avagadro's number per Kg mol\n",
"\n",
"//CALCULATION\n",
"a=(((n*AW)/(d*N))^(1/3))/10^-10//The lattice constant in armstrong *10^-10\n",
"\n",
"//OUTPUT\n",
"printf('The lattice constant is %3.3f*10^-10 Armstrong',a)"
   ]
   }
,
{
		   "cell_type": "markdown",
		   "metadata": {},
		   "source": [
			"## Example 3.25: Volume_change_in_percentage.sce"
		   ]
		  },
  {
"cell_type": "code",
	   "execution_count": null,
	   "metadata": {
	    "collapsed": true
	   },
	   "outputs": [],
"source": [
"clc\n",
"clear\n",
"//INPUT DATA\n",
"r1=0.1258*10^-9//atomic radii of the iron atom in BCC structure in m\n",
"r2=0.1292*10^-9//atomic radii of the iron atom in FCC structure in m\n",
"T=910//metallic iron changes from BCC to FCC in centigrade\n",
"\n",
"//CALCULATION\n",
"a1=((4*r1)/sqrt(3))//lattice constant of BCC structure in m\n",
"v1=((a1*a1*a1)/2)//The volume occupied by one BCC atom in m^3\n",
"a2=((4*r2)/sqrt(2))//lattice constant of FCC structure in m\n",
"v2=((a2*a2*a2)/4)//The volume occupied by one FCC atom in m^3\n",
"V=((v1-v2)/v1)*100//The change in volume percentage\n",
"\n",
"//OUTPUT\n",
"printf('The change in volume percentage is %3.5f',V)"
   ]
   }
,
{
		   "cell_type": "markdown",
		   "metadata": {},
		   "source": [
			"## Example 3.26: Number_of_unit_cells.sce"
		   ]
		  },
  {
"cell_type": "code",
	   "execution_count": null,
	   "metadata": {
	    "collapsed": true
	   },
	   "outputs": [],
"source": [
"clc\n",
"clear\n",
"//INPUT DATA\n",
"a=0.405*10^-9//lattice constant of unit cell of aluminium which is face centered cubic in m\n",
"s=25*10^-2//Side of aluminium foil in m\n",
"t=0.005*10^-2//Thickness of aluminium foil in m\n",
"\n",
"//CALCULATION\n",
"ar=(s*s)//area of aluminium foil in m^2\n",
"V=(ar*t)//volume of the aluminium foil in m^3\n",
"v=(a*a*a)//volume of the unit cell in m^3\n",
"n=(V/v)/10^22//Number of unit cells *10^22\n",
"\n",
"//OUTPUT\n",
"printf('The Number of unit cells is %3.4f*10^22',n)"
   ]
   }
,
{
		   "cell_type": "markdown",
		   "metadata": {},
		   "source": [
			"## Example 3.27: Volume_of_the_unit_cell.sce"
		   ]
		  },
  {
"cell_type": "code",
	   "execution_count": null,
	   "metadata": {
	    "collapsed": true
	   },
	   "outputs": [],
"source": [
"clc\n",
"clear\n",
"//INPUT DATA\n",
"r=0.1605*10^-9//radius of magnesium atom which has HCP structure in m\n",
"\n",
"//CALCULATION\n",
"a=2*r//lattice constant of magnesium which has HCP structure in m\n",
"c=(a*sqrt(8/3))//height of the HCP structure in m\n",
"V=((3*sqrt(3)*a*a*c)/3)/10^-28//Volume of the unit cell of Magnesium which has HCP structure in m^3*10^-28\n",
"\n",
"//OUTPUT\n",
"printf('The Volume of the unit cell of Magnesium which has HCP structure is %3.4f*10^-28 m^3',V)"
   ]
   }
,
{
		   "cell_type": "markdown",
		   "metadata": {},
		   "source": [
			"## Example 3.3: Interplanar_distance.sce"
		   ]
		  },
  {
"cell_type": "code",
	   "execution_count": null,
	   "metadata": {
	    "collapsed": true
	   },
	   "outputs": [],
"source": [
"clc\n",
"clear\n",
"//INPUT DATA\n",
"h=3//miller indices with respect to x axis\n",
"k=1//miller indices with respect to y axis\n",
"l=1//miller indices with respect to z axis\n",
"a=2.109*10^-10//lattice constant of plane in a simple cubic lattice in m\n",
"\n",
"//CALCULATION\n",
"d=(a/(sqrt(h^2+k^2+l^2)))/10^-11//The interplanar distance in m *10^-11\n",
"\n",
"//OUTPUT\n",
"printf('The interplanar distance is %3.3f*10^-11 m',d)"
   ]
   }
,
{
		   "cell_type": "markdown",
		   "metadata": {},
		   "source": [
			"## Example 3.4: Lattice_constant.sce"
		   ]
		  },
  {
"cell_type": "code",
	   "execution_count": null,
	   "metadata": {
	    "collapsed": true
	   },
	   "outputs": [],
"source": [
"clc\n",
"clear\n",
"//INPUT DATA\n",
"h=1//miller indices with respect to x axis\n",
"k=1//miller indices with respect to y axis\n",
"l=0//miller indices with respect to z axis\n",
"d=2.86*10^-10//the distance between miller indices in m\n",
"\n",
"//CALCULATION\n",
"a=(d*(sqrt(h^2+k^2+l^2)))/10^-10//The lattice constant in m *10^-10\n",
"\n",
"//OUTPUT\n",
"printf('The lattice constant is %3.3f*10^-10 m',a)"
   ]
   }
,
{
		   "cell_type": "markdown",
		   "metadata": {},
		   "source": [
			"## Example 3.6: Ratio_of_intercepts.sce"
		   ]
		  },
  {
"cell_type": "code",
	   "execution_count": null,
	   "metadata": {
	    "collapsed": true
	   },
	   "outputs": [],
"source": [
"clc\n",
"clear\n",
"//INPUT DATA\n",
"h=1//miller indices of x-axis\n",
"k=1//miller indices of y-axis\n",
"l=1//miller indices of z-axis\n",
"\n",
"//CALCULATION\n",
"p=1/h//intercept on x-axis\n",
"q=1/k//intercept on y-axis\n",
"r=1/l//intercept on z-axis\n",
"//OUTPUT\n",
"printf('The ratio of intercepts on the three axis by (%i %i %i) plane is %i:%i:%i',h,k,l,p,q,r)"
   ]
   }
,
{
		   "cell_type": "markdown",
		   "metadata": {},
		   "source": [
			"## Example 3.7: Interplanar_distance.sce"
		   ]
		  },
  {
"cell_type": "code",
	   "execution_count": null,
	   "metadata": {
	    "collapsed": true
	   },
	   "outputs": [],
"source": [
"clc\n",
"clear\n",
"//INPUT DATA\n",
"r=1.246*10^-10//atomic radius of Fcc crystal in m\n",
"h1=1//miller indices with respect to x axis in 1st plane\n",
"k1=1//miller indices with respect to y axis in 1st plane\n",
"l1=1//miller indices with respect to z axis in 1st plane\n",
"h2=2//miller indices with respect to x axis in 2nd plane\n",
"k2=0//miller indices with respect to y axis in 2nd plane\n",
"l2=0//miller indices with respect to z axis in 2nd plane\n",
"h3=2//miller indices with respect to x axis in 3rd plane\n",
"k3=2//miller indices with respect to y axis in 3rd plane\n",
"l3=0//miller indices with respect to z axis in 3rd plane\n",
"\n",
"//CALCULATION\n",
"a=(4*r)/sqrt(2)//The lattice constant in a FCC crystal in m\n",
"d1=(a/(sqrt(h1^2+k1^2+l1^2)))/10^-10//inter planar spacing distance in 1st plane in m*10^-10\n",
"d2=(a/(sqrt(h2^2+k2^2+l2^2)))/10^-10//inter planar spacing distance in 2nd plane in m*10^-10\n",
"d3=(a/(sqrt(h3^2+k3^2+l3^2)))/10^-10//inter planar spacing distance in 3rd plane in m*10^-10\n",
"\n",
"//OUTPUT\n",
"printf('The inter planar spacing distance in 1st plane is %3.3f*10^-10 m \n The inter planar spacing distance in 2nd plane is %3.4f*10^-10 m \nThe inter planar spacing distance in 3rd plane is %3.3f*10^-10 m',d1,d2,d3)"
   ]
   }
,
{
		   "cell_type": "markdown",
		   "metadata": {},
		   "source": [
			"## Example 3.8: Interplanar_distance.sce"
		   ]
		  },
  {
"cell_type": "code",
	   "execution_count": null,
	   "metadata": {
	    "collapsed": true
	   },
	   "outputs": [],
"source": [
"clc\n",
"clear\n",
"//INPUT DATA\n",
"a=1//the lattice constant of a simple cubic system in m\n",
"h1=1//miller indices with respect to x axis in 1st plane\n",
"k1=0//miller indices with respect to y axis in 1st plane\n",
"l1=0//miller indices with respect to z axis in 1st plane\n",
"h2=1//miller indices with respect to x axis in 2nd plane\n",
"k2=1//miller indices with respect to y axis in 2nd plane\n",
"l2=0//miller indices with respect to z axis in 2nd plane\n",
"h3=1//miller indices with respect to x axis in 3rd plane\n",
"k3=1//miller indices with respect to y axis in 3rd plane\n",
"l3=1//miller indices with respect to z axis in 3rd plane\n",
"\n",
"//CALCULATION\n",
"x1=(sqrt(h1^2+k1^2+l1^2))\n",
"d100=(a/x1)//inter planar spacing distance in 1st plane in m\n",
"x2=sqrt(h2^2+k2^2+l2^2)\n",
"d110=(a/(x2))//inter planar spacing distance in 2nd plane in m\n",
"x3=(sqrt(h3^2+k3^2+l3^2))\n",
"d111=(a/x3)//inter planar spacing distance in 3rd plane in m\n",
"\n",
"//OUTPUT\n",
"printf('The inter planar spacing distance in 1st plane is %i m \n The inter planar spacing distance in 2nd plane is %3.4f m \nThe inter planar spacing distance in 3rd plane is %3.3fm \n Ratio of interplanar distance of three planes is d100:d110:d111=%i:%3.3f:%3.3f',(1/x1),(1/x2),(1/x3),d100,d110,d111)"
   ]
   }
,
{
		   "cell_type": "markdown",
		   "metadata": {},
		   "source": [
			"## Example 3.9: Miller_indices_of_a_plane.sce"
		   ]
		  },
  {
"cell_type": "code",
	   "execution_count": null,
	   "metadata": {
	    "collapsed": true
	   },
	   "outputs": [],
"source": [
"clc\n",
"clear\n",
"//INPUT DATA\n",
"p=1//x-intercept of the plane\n",
"q=1/2//y-intercept of the plane\n",
"r=3//z-intercept of the plane\n",
"\n",
"//CALCULATION\n",
"h=(1/p)*3//miller indices with respect to x axis\n",
"k=(1/q)*3//miller indices with respect to y axis\n",
"l=(1/r)*3//miller indices with respect to z axis\n",
"\n",
"//OUTPUT\n",
"printf('The miller indices of the plane is (h k l)=(%i %i %i)',h,k,l)"
   ]
   }
],
"metadata": {
		  "kernelspec": {
		   "display_name": "Scilab",
		   "language": "scilab",
		   "name": "scilab"
		  },
		  "language_info": {
		   "file_extension": ".sce",
		   "help_links": [
			{
			 "text": "MetaKernel Magics",
			 "url": "https://github.com/calysto/metakernel/blob/master/metakernel/magics/README.md"
			}
		   ],
		   "mimetype": "text/x-octave",
		   "name": "scilab",
		   "version": "0.7.1"
		  }
		 },
		 "nbformat": 4,
		 "nbformat_minor": 0
}
