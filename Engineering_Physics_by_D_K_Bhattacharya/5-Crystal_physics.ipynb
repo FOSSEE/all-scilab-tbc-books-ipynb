{
"cells": [
 {
		   "cell_type": "markdown",
	   "metadata": {},
	   "source": [
       "# Chapter 5: Crystal physics"
	   ]
	},
{
		   "cell_type": "markdown",
		   "metadata": {},
		   "source": [
			"## Example 5.1: determine_miller_indices.sce"
		   ]
		  },
  {
"cell_type": "code",
	   "execution_count": null,
	   "metadata": {
	    "collapsed": true
	   },
	   "outputs": [],
"source": [
"// chapter 5 , Example5 1 , pg 149\n",
"//plane has intercepts  a,2b,3c along the 3  crystal axes\n",
"//lattice points in 3-d lattice are given by r=p*a+q*b+s*c\n",
"//as p,q,r  are the basic vectors the proportion of intercepts  1:2:3\n",
"p=1\n",
"q=2\n",
"s=3 \n",
"//therefore reciprocal\n",
"r1=1/1\n",
"r2=1/2\n",
"r3=1/3\n",
"//taking LCM\n",
"v=int32([1,2,3])\n",
"l=double(lcm(v))\n",
"m1=(l*r1)\n",
"m2=(l*r2)\n",
"m3=(l*r3)\n",
"printf('miler indices=')\n",
"disp(m3,m2,m1)"
   ]
   }
,
{
		   "cell_type": "markdown",
		   "metadata": {},
		   "source": [
			"## Example 5.2: calculate_density_of_Si.sce"
		   ]
		  },
  {
"cell_type": "code",
	   "execution_count": null,
	   "metadata": {
	    "collapsed": true
	   },
	   "outputs": [],
"source": [
"// chapter 5 , Example5 2 , pg 150\n",
"a=5.43*10^-8//lattice constant(in cm)\n",
"M=28.1  //atomic weight (in g)\n",
"n=8//  number of atoms/cell   (for Si)\n",
"N=6.02*10^23  //Avogadro number\n",
"C=n/a^3 //atomic concentration =(number of atoms/cell)/cell volume      (in atoms/cm^3)\n",
"D=(C*M)/N    //Density\n",
"printf('Density of Si=')\n",
"printf('D=%.2f  g/cm^3',D)"
   ]
   }
,
{
		   "cell_type": "markdown",
		   "metadata": {},
		   "source": [
			"## Example 5.3: calculate_surface_density_of_atoms.sce"
		   ]
		  },
  {
"cell_type": "code",
	   "execution_count": null,
	   "metadata": {
	    "collapsed": true
	   },
	   "outputs": [],
"source": [
"// chapter 5 , Example5 3 , pg 151\n",
"//(1 1 1) plane for a BCC crystal\n",
"a=5*10^-10//lattice constant   (in m)\n",
"//height of equilaterl triangle (shaded area) =a*sqrt(3/2)\n",
"//hence area of shaded triangular portion is  a*sqrt(2)*a*sqrt(3/2)/2 = a^2*sqrt(3)/2\n",
"//every corner atom contributes 1/6to the area\n",
"n111=(3/6)/(a^2*sqrt(3)/2)  //planar concentration\n",
"printf('surface density of atoms in (1 1 1)plane of BCC structure (in atoms/m^2)')\n",
"disp(n111)"
   ]
   }
,
{
		   "cell_type": "markdown",
		   "metadata": {},
		   "source": [
			"## Example 5.4: calculate_spacing_of_planes.sce"
		   ]
		  },
  {
"cell_type": "code",
	   "execution_count": null,
	   "metadata": {
	    "collapsed": true
	   },
	   "outputs": [],
"source": [
"// chapter 5 , Example5 2 , pg 150\n",
"a=4.049 //lattice constant(in Angstrom)\n",
"h=2\n",
"k=2\n",
"l=0  //since (h k l)=(2 2 0)   miller  indices\n",
"d=a/sqrt(h^2+k^2+l^2)  //spacing\n",
"printf('spacing of (2 2 0) planes=')\n",
"printf('d=%.3f  Angstrom',d)"
   ]
   }
,
{
		   "cell_type": "markdown",
		   "metadata": {},
		   "source": [
			"## Example 5.5: determine_size_of_unit_cell.sce"
		   ]
		  },
  {
"cell_type": "code",
	   "execution_count": null,
	   "metadata": {
	    "collapsed": true
	   },
	   "outputs": [],
"source": [
"// chapter 5 , Example5 5 , pg 152\n",
"d110=2.03//spacing of(1 1 0) planes   (in Angstrom)\n",
"h=1\n",
"k=1\n",
"l=0 //(h k l)=(1 1 0)\n",
"a=d110*sqrt(h^2+k^2+l^2)//size of unit cell\n",
"printf('size of unit cell=')\n",
"printf('a=%.2f angstrom',a)"
   ]
   }
,
{
		   "cell_type": "markdown",
		   "metadata": {},
		   "source": [
			"## Example 5.6: determine_spacing_between_planes.sce"
		   ]
		  },
  {
"cell_type": "code",
	   "execution_count": null,
	   "metadata": {
	    "collapsed": true
	   },
	   "outputs": [],
"source": [
"// chapter 5 , Example5 6 , pg 152\n",
"a=5.64//lattice constant (in Angstrom)\n",
"h1=1\n",
"k1=0\n",
"l1=0 //(h1 k1 l1)=(1 0 0)\n",
"h2=1\n",
"k2=1\n",
"l2=0 //(h2 k2 l2)=(1 1 0)\n",
"h3=1\n",
"k3=1\n",
"l3=1//(h3 k3 l3)=(1 1 1)\n",
"d100=a/sqrt(h1^2+k1^2+l1^2)  //spacing of (1 0 0)planes\n",
"d110=a/sqrt(h2^2+k2^2+l2^2)  //spacing of (1 1 0)planes\n",
"d111=a/sqrt(h3^2+k3^2+l3^2)  //spacing of (1 1 1)planes\n",
"printf('spacing of (1 0 0) planes=')\n",
"printf('d100=%.2f  Angstrom\n',d100)\n",
"printf('spacing of (1 1 0) planes=')\n",
"printf('d110=%.2f  Angstrom\n',d110)\n",
"printf('spacing of (1 1 1) planes=')\n",
"printf('d111=%.2f  Angstrom',d111)"
   ]
   }
,
{
		   "cell_type": "markdown",
		   "metadata": {},
		   "source": [
			"## Example 5.7: find_volume_of_unit_cell.sce"
		   ]
		  },
  {
"cell_type": "code",
	   "execution_count": null,
	   "metadata": {
	    "collapsed": true
	   },
	   "outputs": [],
"source": [
"// chapter 5 , Example5 7 , pg 153\n",
"r=1.605 *10^-10 //radius of atom  (in m)\n",
"a=2*r//lattice constant  (for HCP structure)  (in m)\n",
"c=a*sqrt(8/3) //(in m)\n",
"V=(3*sqrt(3)*a^2*c)/2  //volume of unit cell\n",
"printf('volume of unit cell(in m^3)\n')\n",
"disp(V)"
   ]
   }
],
"metadata": {
		  "kernelspec": {
		   "display_name": "Scilab",
		   "language": "scilab",
		   "name": "scilab"
		  },
		  "language_info": {
		   "file_extension": ".sce",
		   "help_links": [
			{
			 "text": "MetaKernel Magics",
			 "url": "https://github.com/calysto/metakernel/blob/master/metakernel/magics/README.md"
			}
		   ],
		   "mimetype": "text/x-octave",
		   "name": "scilab",
		   "version": "0.7.1"
		  }
		 },
		 "nbformat": 4,
		 "nbformat_minor": 0
}
