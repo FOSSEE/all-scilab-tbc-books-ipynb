{
"cells": [
 {
		   "cell_type": "markdown",
	   "metadata": {},
	   "source": [
       "# Chapter 10: Dielectric materials"
	   ]
	},
{
		   "cell_type": "markdown",
		   "metadata": {},
		   "source": [
			"## Example 10.1: calculate_electronic_polarizability.sce"
		   ]
		  },
  {
"cell_type": "code",
	   "execution_count": null,
	   "metadata": {
	    "collapsed": true
	   },
	   "outputs": [],
"source": [
"// chapter 10 , Example10 1 , pg 289\n",
"Er=1.0000684     //Dielectric constant\n",
"N=2.7*10^25     //(in atoms/m^3)\n",
"E0=8.85*10^-12   //permittivity of free space (in F/m)\n",
"Alpha_e=(E0*(Er-1))/N    //electronic polarization\n",
"printf('Electronic polarization (in F*m^2)\n')\n",
"disp(Alpha_e)"
   ]
   }
,
{
		   "cell_type": "markdown",
		   "metadata": {},
		   "source": [
			"## Example 10.2: calculate_electronic_polarizability.sce"
		   ]
		  },
  {
"cell_type": "code",
	   "execution_count": null,
	   "metadata": {
	    "collapsed": true
	   },
	   "outputs": [],
"source": [
"// chapter 10 , Example10 2 , pg 290\n",
"Er=1.0024     //Dielectric constant\n",
"N=2.7*10^25     //(in atoms/m^3)\n",
"E0=8.85*10^-12   //permittivity of free space    (in F/m)\n",
"Alpha_e=(E0*(Er-1))/N    //electronic polarization\n",
"printf('Electronic polarization (in F*m^2)\n')\n",
"disp(Alpha_e)"
   ]
   }
],
"metadata": {
		  "kernelspec": {
		   "display_name": "Scilab",
		   "language": "scilab",
		   "name": "scilab"
		  },
		  "language_info": {
		   "file_extension": ".sce",
		   "help_links": [
			{
			 "text": "MetaKernel Magics",
			 "url": "https://github.com/calysto/metakernel/blob/master/metakernel/magics/README.md"
			}
		   ],
		   "mimetype": "text/x-octave",
		   "name": "scilab",
		   "version": "0.7.1"
		  }
		 },
		 "nbformat": 4,
		 "nbformat_minor": 0
}
