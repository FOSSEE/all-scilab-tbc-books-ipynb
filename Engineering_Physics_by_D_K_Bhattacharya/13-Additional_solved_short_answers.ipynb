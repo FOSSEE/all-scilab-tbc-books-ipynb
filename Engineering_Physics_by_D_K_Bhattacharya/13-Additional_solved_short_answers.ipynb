{
"cells": [
 {
		   "cell_type": "markdown",
	   "metadata": {},
	   "source": [
       "# Chapter 13: Additional solved short answers"
	   ]
	},
{
		   "cell_type": "markdown",
		   "metadata": {},
		   "source": [
			"## Example 13.1_10: calculate_interplanar_spacing.sce"
		   ]
		  },
  {
"cell_type": "code",
	   "execution_count": null,
	   "metadata": {
	    "collapsed": true
	   },
	   "outputs": [],
"source": [
"// Additional solved numerical questions  , Example(set 1) 10 , pg 349\n",
"a=4.938 //lattice constant(in Angstrom)\n",
"h=2\n",
"k=2\n",
"l=0  //since (h k l)=(2 2 0)   miller  indices\n",
"d=a/sqrt(h^2+k^2+l^2)  //spacing\n",
"printf('spacing of (2 2 0) planes=')\n",
"printf('d=%.3f  Angstrom',d)"
   ]
   }
,
{
		   "cell_type": "markdown",
		   "metadata": {},
		   "source": [
			"## Example 13.1_12: find_the_wavelength.sce"
		   ]
		  },
  {
"cell_type": "code",
	   "execution_count": null,
	   "metadata": {
	    "collapsed": true
	   },
	   "outputs": [],
"source": [
"// Additional solved numerical questions  , Example(set 1)  12_b_3 , pg 349\n",
"Eg=0.8*1.6*10^-19   //bandgap  (in J)     (converting  eV  into  J)\n",
"h=6.625*10^-34     //plancks constant   (in  J s)\n",
"c=3*10^8       //speed of light   (in m/s)\n",
"lam=(h*c)/Eg     //wavelength\n",
"printf('wavelength of light emitted (in m)is=')\n",
"disp(lam)"
   ]
   }
,
{
		   "cell_type": "markdown",
		   "metadata": {},
		   "source": [
			"## Example 13.1_14: calculate_energy_of_scattered_photon.sce"
		   ]
		  },
  {
"cell_type": "code",
	   "execution_count": null,
	   "metadata": {
	    "collapsed": true
	   },
	   "outputs": [],
"source": [
"// Additional solved numerical questions  , Example(set 1)  14_a_3 , pg 350\n",
"lam=1.24*10^-13    //wavelength   (in m)\n",
"h=6.625*10^-34//plancksconstant(in J s)\n",
"c=3*10^8//velocity of x-ray photon(in m/sec)\n",
"m0=9.11*10^-31//rest mass of electron(in Kg)\n",
"phi=(90*%pi)/180//angle of scattering (in radian)   (converting degree into radian)\n",
"delta_H=(h*(1-cos(phi)))/(m0*c)//change in wavelength due to compton scattering      (in m)\n",
"LAM=lam+delta_H    //wavelength     (in m)\n",
"E=(h*c)/LAM       //energy of  scattered  photon   (in J)\n",
"printf('Energy of  scattered  photon   (in J)=')\n",
"disp(E)"
   ]
   }
,
{
		   "cell_type": "markdown",
		   "metadata": {},
		   "source": [
			"## Example 13.1_15: calculate_number_of_unit_cells.sce"
		   ]
		  },
  {
"cell_type": "code",
	   "execution_count": null,
	   "metadata": {
	    "collapsed": true
	   },
	   "outputs": [],
"source": [
"// Additional solved numerical questions  , Example(set 1)  15_b_3 , pg 352\n",
"a=2.88*10^-8   //lattice constant   (in cm)\n",
"d=7200   //density (in  Kg/m^3)\n",
"C=8/a^3   // atomic  concentration\n",
"n=8      //number of atoms/cell\n",
"n1=C/n    //unit cell concentration\n",
"\n",
"//since  density =7200 Kg/m^3\n",
"//7200 Kg  =  10^6 cc\n",
"//hence 1Kg = (10^6)/7200  cc\n",
"N=(n1*10^6)/7200     //number of unit  cells  present in 1 Kg of metal\n",
"printf('Number of unit cells present in 1 Kg of metal=')\n",
"disp(N)\n",
"printf('unit cells')"
   ]
   }
,
{
		   "cell_type": "markdown",
		   "metadata": {},
		   "source": [
			"## Example 13.1_2: find_fundamental_frequency.sce"
		   ]
		  },
  {
"cell_type": "code",
	   "execution_count": null,
	   "metadata": {
	    "collapsed": true
	   },
	   "outputs": [],
"source": [
"// Additional solved numerical questions  , Example(set 1) 2 , pg 348\n",
"l=0.7*10^-3//length(in m)\n",
"E=8.8*10^10//youngs modulus(in N/m^2)\n",
"d=2800//density(in kg/m^3)\n",
"p=1//fundamental mode\n",
"n= p*sqrt(E/d)/(2*l)  //natural frequency\n",
"printf('Fundamental  frequency of quartz crystal)\n')\n",
"printf('n=%.2f   Hz',n)"
   ]
   }
,
{
		   "cell_type": "markdown",
		   "metadata": {},
		   "source": [
			"## Example 13.1_6: calculate_critical_angle.sce"
		   ]
		  },
  {
"cell_type": "code",
	   "execution_count": null,
	   "metadata": {
	    "collapsed": true
	   },
	   "outputs": [],
"source": [
"// Additional solved numerical questions  , Example(set 1) 6 , pg 348\n",
"n1=1.5    //refractive index  of  core\n",
"n2= 1.47    // cladding refractive index\n",
"theta_c=asin(n2/n1)   //critical angle (in radian)\n",
"printf('critical angle=\n')\n",
"printf('theta_c=%.2f  degree',(theta_c*180)/%pi)"
   ]
   }
,
{
		   "cell_type": "markdown",
		   "metadata": {},
		   "source": [
			"## Example 13.2_13: calculate_Na_and_acceptance_angle.sce"
		   ]
		  },
  {
"cell_type": "code",
	   "execution_count": null,
	   "metadata": {
	    "collapsed": true
	   },
	   "outputs": [],
"source": [
"// Additional solved numerical questions  , Example(set 2)  13_b , pg 354\n",
"n1=1.5//core refractive index\n",
"n2=1.447//cladding refractive index\n",
"n0=1//refractive index of air\n",
"NA=sqrt(n1^2-n2^2)//numerical aperture\n",
"alpha_m =asin(NA/n0)//angle of acceptance   (in radian)\n",
"printf('NA=%.1f \n',NA)\n",
"printf('alpha_m=%.2f  degree\n',(alpha_m*180)/%pi)"
   ]
   }
,
{
		   "cell_type": "markdown",
		   "metadata": {},
		   "source": [
			"## Example 13.2_1: calculate_the_frequency.sce"
		   ]
		  },
  {
"cell_type": "code",
	   "execution_count": null,
	   "metadata": {
	    "collapsed": true
	   },
	   "outputs": [],
"source": [
"// Additional solved numerical questions  , Example(set 2)  1 , pg 352\n",
"l=4*10^-2    //length(in m)\n",
"E=207 *10^6   //youngs modulus(in N/m^2)\n",
"d=8900   //density(in kg/m^3)\n",
"p=1//fundamental mode\n",
"n= p*sqrt(E/d)/(2*l)  //natural frequency\n",
"printf('Fundamental  frequency of quartz crystal)\n')\n",
"printf('n=%.2f   Hz',n)"
   ]
   }
,
{
		   "cell_type": "markdown",
		   "metadata": {},
		   "source": [
			"## Example 13.2_7: calculate_wavelength_of_scattered_radiation.sce"
		   ]
		  },
  {
"cell_type": "code",
	   "execution_count": null,
	   "metadata": {
	    "collapsed": true
	   },
	   "outputs": [],
"source": [
"// Additional solved numerical questions  , Example(set 2)  7 , pg 353\n",
"lam=0.5*10^-9    //wavelength   (in m)\n",
"h=6.625*10^-34//plancksconstant(in J s)\n",
"c=3*10^8//velocity of x-ray photon(in m/sec)\n",
"m0=9.11*10^-31//rest mass of electron(in Kg)\n",
"phi=(45*%pi)/180//angle of scattering (in radian)   (converting degree into radian)\n",
"delta_H=(h*(1-cos(phi)))/(m0*c)//change in wavelength due to compton scattering      (in m)\n",
"LAM=lam+delta_H    //wavelength     (in m)\n",
"printf('wavelength of scattered radiation (im m)=')\n",
"disp(LAM)"
   ]
   }
,
{
		   "cell_type": "markdown",
		   "metadata": {},
		   "source": [
			"## Example 13.3_11: calculate_mean_free_time.sce"
		   ]
		  },
  {
"cell_type": "code",
	   "execution_count": null,
	   "metadata": {
	    "collapsed": true
	   },
	   "outputs": [],
"source": [
"// Additional solved numerical questions  , Example(set 3) 11_a , pg 355\n",
"Un=3*10^-3    //electron mobility   (in m^2/(V*s))\n",
"e=1.6*10^-19    //charge in electron   (in C)\n",
"Me=9.11*10^-31     //mass of electron   (in Kg)\n",
"T=(Me*Un)/e    //mean free time\n",
"printf('Mean free time(in S)')\n",
"disp(T)"
   ]
   }
,
{
		   "cell_type": "markdown",
		   "metadata": {},
		   "source": [
			"## Example 13.3_12: calculate_the_resistivity.sce"
		   ]
		  },
  {
"cell_type": "code",
	   "execution_count": null,
	   "metadata": {
	    "collapsed": true
	   },
	   "outputs": [],
"source": [
"// Additional solved numerical questions  , Example(set 3) 12_b , pg 356\n",
"ni=1.5*10^16     //intrinsic  carrier  density(in m^-3)\n",
"Un=1.35     //electron mobility   (in m^2/(V*s))\n",
"up=0.48     //hole mobility   (in m^2/(V*s))\n",
"e=1.6*10^-19    //charge in electron (in C)\n",
"\n",
"Ix=10^-3    //current (in A)\n",
"d=100*10^-6     //thickness   (in m)\n",
"Bz=0.1    //magnetic induction   (in T)\n",
"Un1=0.07    //electron mobility   (in m^2/(V*s))\n",
"n=10^23     //doping concentration    (in atoms/m^3)\n",
"\n",
"sigma=ni*e*(Un+up)    // electrical conductivity\n",
"rho=1/sigma    //resistivity\n",
"Vh=-(Ix*Bz)/(d*e*n)    //Hall  voltage\n",
"printf('Resistivity(in ohm*m)')\n",
"disp(rho)\n",
"printf('Hall voltage (in V)')\n",
"disp(Vh)"
   ]
   }
,
{
		   "cell_type": "markdown",
		   "metadata": {},
		   "source": [
			"## Example 13.3_13: calculate_energy_loss_per_hour_and_intensity_of_magnetization_and_flux_density.sce"
		   ]
		  },
  {
"cell_type": "code",
	   "execution_count": null,
	   "metadata": {
	    "collapsed": true
	   },
	   "outputs": [],
"source": [
"// Additional solved numerical questions  , Example(set 3) 13_b , pg 357\n",
"A=250    //area of B-H loop\n",
"f=50     //frequency   (in Hz)\n",
"d=7.5*10^3     //density    (in Kg/m^3)\n",
"M=10    //mass of core   (in Kg)\n",
"\n",
"H=2000    //magnetic field intensity  (in A/m)\n",
"Xm=1000    //susceptibility\n",
"U0=4*%pi*10^-7      // relative permeability\n",
"\n",
"V=M/d    //volume of sample   (in m^3)\n",
"N=60*60*f    //number of cycles per hour\n",
"EL=A*V*N    //energy loss per hour \n",
"I=H*Xm     //intensity of magnetization\n",
"Ur=1+Xm\n",
"B=Ur*U0*H      //magnetic  flux density\n",
"printf('Energy loss per hour (in J)')\n",
"disp(EL)\n",
"printf('Intensity of magnetization (in Wb/m^3)')\n",
"disp(I)\n",
"printf('Magnetic flux density(in T)')\n",
"disp(B)"
   ]
   }
,
{
		   "cell_type": "markdown",
		   "metadata": {},
		   "source": [
			"## Example 13.3_14: find_capacitance_and_electric_flux_density.sce"
		   ]
		  },
  {
"cell_type": "code",
	   "execution_count": null,
	   "metadata": {
	    "collapsed": true
	   },
	   "outputs": [],
"source": [
"// Additional solved numerical questions  , Example(set 3) 14 , pg 358\n",
"Er1=1.0000684     //Dielectric constant   (for sum 14_a_2)\n",
"N=2.7*10^25     //(in atoms/m^3)\n",
"E0=8.85*10^-12   //permittivity of free space   (in F/m)\n",
"Er2=6      //dielectric constant  (for sum 14_a_3)\n",
"E=100    //electric field intensity  (in V/m)    (for sum  14_a_3)\n",
"A=200*10^-4    //area   (in m^2)\n",
"Er3=3.7    //dielectric constant     (for sum 14_b_2)\n",
"d=10^-3    //thickness   (in m)\n",
"V=300   //electric potential   (in V)\n",
"Alpha_e=(E0*(Er1-1))/N    //electronic polarization\n",
"R=(Alpha_e/(4*%pi*E0))^(1/3)   //radius of atom\n",
"P=E0*(Er2-1)*E    //polarization\n",
"C=(E0*Er3*A)/d    //capacitance\n",
"E1=V/d       //electric flux density\n",
"printf('Electronic polarization (in F*m^2)')\n",
"disp(Alpha_e)\n",
"printf('Radius of He atom(in m)')\n",
"disp(R)\n",
"printf('polarization(in C/m^2)')\n",
"disp(P)\n",
"printf('capacitance(in F)')\n",
"disp(C)\n",
"printf('Electric flux density (in V/m)')\n",
"disp(E1)"
   ]
   }
],
"metadata": {
		  "kernelspec": {
		   "display_name": "Scilab",
		   "language": "scilab",
		   "name": "scilab"
		  },
		  "language_info": {
		   "file_extension": ".sce",
		   "help_links": [
			{
			 "text": "MetaKernel Magics",
			 "url": "https://github.com/calysto/metakernel/blob/master/metakernel/magics/README.md"
			}
		   ],
		   "mimetype": "text/x-octave",
		   "name": "scilab",
		   "version": "0.7.1"
		  }
		 },
		 "nbformat": 4,
		 "nbformat_minor": 0
}
