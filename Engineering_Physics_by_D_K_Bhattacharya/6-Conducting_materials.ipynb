{
"cells": [
 {
		   "cell_type": "markdown",
	   "metadata": {},
	   "source": [
       "# Chapter 6: Conducting materials"
	   ]
	},
{
		   "cell_type": "markdown",
		   "metadata": {},
		   "source": [
			"## Example 6.10: calculate_electrical_conductivity.sce"
		   ]
		  },
  {
"cell_type": "code",
	   "execution_count": null,
	   "metadata": {
	    "collapsed": true
	   },
	   "outputs": [],
"source": [
"// chapter 6 , Example6.10 , pg 175\n",
"lam=4*10^-8    //maen free path of electrons   (in m)\n",
"n=8.4*10^28    //electron density    (in m^-3)\n",
"Vth=1.6*10^6    //average thermal velocity of electrons   (in m/s)\n",
"e=1.6*10^-19     //charge of electron   (in C)\n",
"Me=9.11*10^-31  //mass of electron    (in Kg)\n",
"sigma=(n*e^2*lam)/(Vth*Me)     //conductivity\n",
"printf('Electrical conductivity (in /(ohm*m))')\n",
"disp(sigma)"
   ]
   }
,
{
		   "cell_type": "markdown",
		   "metadata": {},
		   "source": [
			"## Example 6.11: calculate_electrical_and_thermal_conductivities.sce"
		   ]
		  },
  {
"cell_type": "code",
	   "execution_count": null,
	   "metadata": {
	    "collapsed": true
	   },
	   "outputs": [],
"source": [
"// chapter 6 , Example6.11 , pg 176\n",
"Tr=10^-14     //relaxation time  (in s)\n",
"T=300     //temperature     (in K)\n",
"n=6*10^28    //electron concentration    (in /m^3)\n",
"Me=9.11*10^-31    //mass of electron    (in Kg)\n",
"e=1.6*10^-19   //charge of electron   (in C)\n",
"k=1.38*10^-23     //Boltzmann constant    (in J/K)\n",
"sigma=(n*e^2*Tr)/(Me)     //Electrical conductivity \n",
"K=(3*n*k^2*Tr*T)/(2*Me)     //Thermal conductivity   \n",
"L=K/(sigma*T)     //Lorentz number\n",
"printf('Electrical conductivity   (in /(ohm*m))')\n",
"disp(sigma)\n",
"printf('Thermal conductivity    (in W/(m*K))')\n",
"disp(K)\n",
"printf('Lorentz  number   (in(W*ohm)/K^2)')\n",
"disp(L)"
   ]
   }
,
{
		   "cell_type": "markdown",
		   "metadata": {},
		   "source": [
			"## Example 6.12: find_relaxation_time.sce"
		   ]
		  },
  {
"cell_type": "code",
	   "execution_count": null,
	   "metadata": {
	    "collapsed": true
	   },
	   "outputs": [],
"source": [
"// chapter 6 , Example6.12 , pg 177\n",
"n=5.8*10^28    //  electron concentration  (in /m^3)\n",
"e=1.6*10^-19     // charge of electron     (in C)\n",
"rho=1.54*10^-8     //resistivity of metal    (in ohm*m)\n",
"M=9.11*10^-31      //mass of electron    (in Kg)\n",
"T=M/(n*e^2*rho)   //relaxation time\n",
"printf('Relaxation time(in s)')\n",
"disp(T)"
   ]
   }
,
{
		   "cell_type": "markdown",
		   "metadata": {},
		   "source": [
			"## Example 6.13: calculate_drift_velocity_and_mobility_and_relaxation_time.sce"
		   ]
		  },
  {
"cell_type": "code",
	   "execution_count": null,
	   "metadata": {
	    "collapsed": true
	   },
	   "outputs": [],
"source": [
"// chapter 6 , Example6.13 , pg 177\n",
"rho=1.54*10^-8    //resistivity    (in ohm*m)\n",
"E=100    //electric field intensity     (in V/m)\n",
"n=5.8*10^28     //electron concentration    (in /m^3)\n",
"e=1.6*10^-19     //charge of electron     (in C)\n",
"Me=9.11*10^-31    //mass of electron    (in Kg)\n",
"T=Me/(rho*n*e^2)      //relaxation time\n",
"Vd=(e*E*T)/Me      //drift velocity\n",
"U=Vd/E     //mobility\n",
"printf('Relaxation time  (in s)')\n",
"disp(T)\n",
"printf('Drift veloity  (in m/s)')\n",
"disp(Vd)\n",
"printf('Mobility(in m^2/(V*s))')\n",
"disp(U)"
   ]
   }
,
{
		   "cell_type": "markdown",
		   "metadata": {},
		   "source": [
			"## Example 6.14: calculate_drift_velocity.sce"
		   ]
		  },
  {
"cell_type": "code",
	   "execution_count": null,
	   "metadata": {
	    "collapsed": true
	   },
	   "outputs": [],
"source": [
"// chapter 6 , Example6 14 , pg 178\n",
"T=300    //temperature   (in K)\n",
"l=2    //length   (in m)\n",
"R=0.02    //Resistance     (in ohm)\n",
"u=4.3*10^-3    //   (in m^2/(V*s))\n",
"I=15  //current   (in A)\n",
"V=I*R    //voltage drop across wire   (in V )\n",
"E=V/l     //electric field across wire  (in V/m)\n",
"Vd=u*E    //drift velocity   (in m/s)\n",
"printf('Drift velocity (in m/s)')\n",
"disp(Vd)"
   ]
   }
,
{
		   "cell_type": "markdown",
		   "metadata": {},
		   "source": [
			"## Example 6.15: calculate_Fermi_energy_and_Fermi_temperature.sce"
		   ]
		  },
  {
"cell_type": "code",
	   "execution_count": null,
	   "metadata": {
	    "collapsed": true
	   },
	   "outputs": [],
"source": [
"// chapter 6 , Example6 15 , pg 179\n",
"m=9.11*10^-31    //mass of electron (in Kg)\n",
"k=1.38*10^-23   //boltzmann constant   (in J/K)\n",
"e=1.6*10^-19    //electronic charge(in C )\n",
"Vf=0.86*10^6   //Fermi velocity of electron  (in m/s)\n",
"Ef=(m*Vf^2)/(2*e)    //Fermi energy   (in eV)\n",
"Tf=(Ef*e)/k   //Fermi temperature\n",
"printf('Fermi energy=')\n",
"printf('Ef=%.1f  eV \n',Ef)\n",
"printf('Fermi temperature =')\n",
"printf('Tf=%.0f  K',Tf)"
   ]
   }
,
{
		   "cell_type": "markdown",
		   "metadata": {},
		   "source": [
			"## Example 6.16: calculate_Fermi_velocity.sce"
		   ]
		  },
  {
"cell_type": "code",
	   "execution_count": null,
	   "metadata": {
	    "collapsed": true
	   },
	   "outputs": [],
"source": [
"// chapter 6 , Example6 16 , pg 179\n",
"Tf=2460    //Fermi temperature   (in K)\n",
"m=9.11*10^-31    //mass of electron (in Kg)\n",
"k=1.38*10^-23   //boltzmann constant   (in J/K)\n",
"Vf=sqrt((2*k*Tf)/m)   //Fermi velocity\n",
"printf('Fermi velocity  (in m/s)=')\n",
"disp(Vf)"
   ]
   }
,
{
		   "cell_type": "markdown",
		   "metadata": {},
		   "source": [
			"## Example 6.1: calculate_Fermi_energy.sce"
		   ]
		  },
  {
"cell_type": "code",
	   "execution_count": null,
	   "metadata": {
	    "collapsed": true
	   },
	   "outputs": [],
"source": [
"// chapter 6 , Example6 1 , pg 170\n",
"Vf=10^6    //Fermi velocity (in m/s)\n",
"m=9.11*10^-31    // mass of electron(in Kg)\n",
"Ef=(m*Vf^2)/2    //Fermi energy   (in J)\n",
"printf('Fermi energy for the electrons  in the metal=')\n",
"printf('Ef=%.1f  eV',(Ef/(1.6*10^-19)))       //converting J into  eV"
   ]
   }
,
{
		   "cell_type": "markdown",
		   "metadata": {},
		   "source": [
			"## Example 6.2: calculate_Fermi_energy.sce"
		   ]
		  },
  {
"cell_type": "code",
	   "execution_count": null,
	   "metadata": {
	    "collapsed": true
	   },
	   "outputs": [],
"source": [
"// chapter 6 , Example6 2 , pg 170\n",
"Ef0=7.04*1.6*10^-19   // Fermi energy at 0 K  (converting eV into J)\n",
"T=300     //temperature    (in K)\n",
"k=1.38*10^-23    //boltzmann  constant  (in (m^2*Kg)/(s^2*K^-1))\n",
"Ef=Ef0*(1-(%pi^2*(k*T)^2)/(12*Ef0^2))    //Fermi energy at 300 K  (in J)\n",
"printf('Fermi energy at 300 K =')\n",
"printf('Ef=%.4f  eV',(Ef/(1.6*10^-19)))   //converting J into eV"
   ]
   }
,
{
		   "cell_type": "markdown",
		   "metadata": {},
		   "source": [
			"## Example 6.3: calculate_conductivity_and_relaxation_time.sce"
		   ]
		  },
  {
"cell_type": "code",
	   "execution_count": null,
	   "metadata": {
	    "collapsed": true
	   },
	   "outputs": [],
"source": [
"// chapter 6 , Example6.3 , pg 171\n",
"d=2.7*10^3     //density    (in Kg/m^3)\n",
"Ma=27     //atomic weight\n",
"Me=9.11*10^-31     //mass of electron   (in Kg)\n",
"e=1.6*10^-19     //charge in electron   (in C)\n",
"T=10^-14     //relaxation time    (in s)\n",
"Na=6.022*10^23      //Avogadro  constant\n",
"N=3*10^3       //number of free electrons per atom\n",
"n=(d*Na*N)/Ma     //(in /m^3)\n",
"sigma=(n*e^2*T)/Me     //conductivity\n",
"printf('Conductivity of Al  (in /(ohm*m))')\n",
"disp(sigma)"
   ]
   }
,
{
		   "cell_type": "markdown",
		   "metadata": {},
		   "source": [
			"## Example 6.4: calculate_Lorentz_number.sce"
		   ]
		  },
  {
"cell_type": "code",
	   "execution_count": null,
	   "metadata": {
	    "collapsed": true
	   },
	   "outputs": [],
"source": [
"// chapter 6 , Example6 4 , pg 171\n",
"sigma=5.87*10^7    // electrical  conductivity  (in  /(ohm m))\n",
"K=390      //thermal conductivity    (in W/(m K))\n",
"T=293     //temperature    (in K)\n",
"L=K/(sigma*T)    //Lorentz number       by wiedemann-Franz law\n",
"printf('Lorentz number   (in  W*ohm /K^2)')\n",
"disp(L)"
   ]
   }
,
{
		   "cell_type": "markdown",
		   "metadata": {},
		   "source": [
			"## Example 6.5: calculate_electrical_conductivity.sce"
		   ]
		  },
  {
"cell_type": "code",
	   "execution_count": null,
	   "metadata": {
	    "collapsed": true
	   },
	   "outputs": [],
"source": [
"// chapter 6 , Example6 5 , pg 172\n",
"d=8900    //density   (in Kg/m^3)\n",
"M=63.5     //atomic weight \n",
"T=10^-14   //relaxation time(in s)\n",
"N=6.022*10^23    //Avogadros  constant\n",
"N1=10^3        //number of free electrons per atom\n",
"e=1.6*10^-19    //electronic charge   (in  C)\n",
"me=9.11*10^-31    //mass of electron  (in Kg)\n",
"\n",
"n=(N*d*N1)/M   \n",
"sigma =(n*e^2*T)/me    //electrical  conductivity\n",
"printf('Electrical conductivity(in ohm m)=')\n",
"disp(sigma)"
   ]
   }
,
{
		   "cell_type": "markdown",
		   "metadata": {},
		   "source": [
			"## Example 6.6: EX6_6.sce"
		   ]
		  },
  {
"cell_type": "code",
	   "execution_count": null,
	   "metadata": {
	    "collapsed": true
	   },
	   "outputs": [],
"source": [
"// chapter 6 , Example6 6 , pg 172\n",
"rho=1.54*10^-8    //resistivity   (in ohm*m)\n",
"Ef=5.5      //Fermi energy    (in eV)\n",
"E=100  //electric field intensity   (in V/m)\n",
"n=5.8*10^28     //concentration of electrons    (in atoms/m^3)\n",
"e=1.6*10^-19    //charge in electron    (in C)\n",
"Me=9.11*10^-31    //mass of electron  (in Kg)\n",
"T=Me/(rho*n*e^2)     //relaxation time\n",
"Un=(e*T)/Me     //mobility of electron\n",
"Vd=(e*T*E)/Me      //drift velocity\n",
"Vf=sqrt((2*Ef*e)/Me)     //Fermi velocity\n",
"lam_m=Vf*T    //mean free path\n",
"\n",
"printf('Relaxation time of electron (in s)')\n",
"disp(T)\n",
"printf('Mobility of electron  (in m^2/(V*s))')\n",
"disp(Un)\n",
"printf('Drift velocity of electron (in m/s)')\n",
"disp(Vd)\n",
"printf('Fermi velocity of electrons (in m/s)')\n",
"disp(Vf)\n",
"printf('Mean free path(in m)')\n",
"disp(lam_m)"
   ]
   }
,
{
		   "cell_type": "markdown",
		   "metadata": {},
		   "source": [
			"## Example 6.7: calculate_thermal_conductivity.sce"
		   ]
		  },
  {
"cell_type": "code",
	   "execution_count": null,
	   "metadata": {
	    "collapsed": true
	   },
	   "outputs": [],
"source": [
"// chapter 6 , Example6 6 , pg 174\n",
"L= 2.26*10^-8    //Lorentz number   (in W*m /K^2)\n",
"T=27+273      //temperature  (in K)   (converting celsius into kelvin)\n",
"rho=1.72*10^-8     //electrical resistivity  (in ohm *m)\n",
"\n",
"//according to Wiedemann-Franz law\n",
"K=(L*T)/rho     //thermal  conductivity\n",
"printf('Thermal conductivity =')\n",
"printf('K=%.0f  W/(m*K)',K)"
   ]
   }
,
{
		   "cell_type": "markdown",
		   "metadata": {},
		   "source": [
			"## Example 6.8: calculate_Lorentz_number.sce"
		   ]
		  },
  {
"cell_type": "code",
	   "execution_count": null,
	   "metadata": {
	    "collapsed": true
	   },
	   "outputs": [],
"source": [
"// chapter 6 , Example6 8 , pg 174\n",
"sigma=5.87*10^7    // electrical  conductivity  (in  /(ohm m))\n",
"K=390      //thermal conductivity    (in W/(m K))\n",
"T=293     //temperature    (in K)\n",
"L=K/(sigma*T)    //Lorentz number       by wiedemann-Franz law\n",
"printf('Lorentz number   (in  W*ohm /K^2)')\n",
"disp(L)"
   ]
   }
,
{
		   "cell_type": "markdown",
		   "metadata": {},
		   "source": [
			"## Example 6.9: find_F_E.sce"
		   ]
		  },
  {
"cell_type": "code",
	   "execution_count": null,
	   "metadata": {
	    "collapsed": true
	   },
	   "outputs": [],
"source": [
"// chapter 6 , Example6 9 , pg 174\n",
"del_E=0.01*1.6*10^-19   //  del_E = E-Ef (in J)    (converting eV into J)\n",
"T=200    //temperature   (in K)\n",
"k=1.38*10^-23   //boltzmanns constant  (in J/K)\n",
"F_E=1/(1+exp(del_E/(k*T)))    //Fermi Dirac distribution function\n",
"printf('F_E=%.2f',F_E)"
   ]
   }
],
"metadata": {
		  "kernelspec": {
		   "display_name": "Scilab",
		   "language": "scilab",
		   "name": "scilab"
		  },
		  "language_info": {
		   "file_extension": ".sce",
		   "help_links": [
			{
			 "text": "MetaKernel Magics",
			 "url": "https://github.com/calysto/metakernel/blob/master/metakernel/magics/README.md"
			}
		   ],
		   "mimetype": "text/x-octave",
		   "name": "scilab",
		   "version": "0.7.1"
		  }
		 },
		 "nbformat": 4,
		 "nbformat_minor": 0
}
