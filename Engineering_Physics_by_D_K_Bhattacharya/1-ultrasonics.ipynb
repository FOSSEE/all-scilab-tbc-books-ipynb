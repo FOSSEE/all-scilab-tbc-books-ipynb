{
"cells": [
 {
		   "cell_type": "markdown",
	   "metadata": {},
	   "source": [
       "# Chapter 1: ultrasonics"
	   ]
	},
{
		   "cell_type": "markdown",
		   "metadata": {},
		   "source": [
			"## Example 1.10: To_find_depth_of_sea.sce"
		   ]
		  },
  {
"cell_type": "code",
	   "execution_count": null,
	   "metadata": {
	    "collapsed": true
	   },
	   "outputs": [],
"source": [
"// chapter 1 , Example1 10 , pg 24\n",
"v=1440      //velocity of ultrasonic waves(in m/s)\n",
"t=0.83      //time lapsed(in sec)\n",
"d=(v*t)     //distance travelled by sound\n",
"d1=d/2      //depth of submarine\n",
"disp (d, ' the velocity of ultrasonic waves ( in m) is ' )\n",
"disp (d1, ' the depth of submarine ( in m) is ' )\n",
""
   ]
   }
,
{
		   "cell_type": "markdown",
		   "metadata": {},
		   "source": [
			"## Example 1.11: To_calculate_reverberation_time.sce"
		   ]
		  },
  {
"cell_type": "code",
	   "execution_count": null,
	   "metadata": {
	    "collapsed": true
	   },
	   "outputs": [],
"source": [
"// chapter 1 , Example1 11 , pg 24\n",
"aS=1050//total absorption inside hall(in Sabine)\n",
"//a=average absorption coefficient   ,    S=area of interior surface\n",
"V=9000//volume of hall(in m^3)\n",
"T=(0.165*V)/aS//reverberation time\n",
"printf('Reverberation time of hall\n')\n",
"printf('T=%.4f sec',T)"
   ]
   }
,
{
		   "cell_type": "markdown",
		   "metadata": {},
		   "source": [
			"## Example 1.12: To_find_area_of_interior_surface.sce"
		   ]
		  },
  {
"cell_type": "code",
	   "execution_count": null,
	   "metadata": {
	    "collapsed": true
	   },
	   "outputs": [],
"source": [
"// chapter 1 , Example1 12 , pg 25\n",
"V=13500//volume(in m^3)\n",
"T=1.2//reverberation time(in sec)\n",
"a=0.65//average absorption coefficient(in Sabine/m^2)\n",
"S=(0.165*V)/(a*T)//area of interior surface\n",
"printf('Area of interior surface\n')\n",
"printf('S=%.1f m^2',S)"
   ]
   }
,
{
		   "cell_type": "markdown",
		   "metadata": {},
		   "source": [
			"## Example 1.13: To_find_reverberation_time.sce"
		   ]
		  },
  {
"cell_type": "code",
	   "execution_count": null,
	   "metadata": {
	    "collapsed": true
	   },
	   "outputs": [],
"source": [
"// chapter 1 , Example1 13 , pg 25\n",
"V=15000//volume(in m^3)\n",
"T1=1.3//initial reverberation time(in sec)\n",
"aS=(0.165*V)/T1  //total absorption of hall (in Sabine)\n",
"T2=(0.165*V)/(aS+300)//revrberation time of hall after adding 300 chairs each having absorption of 1 Sabine\n",
"printf('Reverberation time of hall after adding 300 chairs\n')\n",
"printf('T2=%.3f sec',T2)"
   ]
   }
,
{
		   "cell_type": "markdown",
		   "metadata": {},
		   "source": [
			"## Example 1.14: To_find_depth_of_submarine.sce"
		   ]
		  },
  {
"cell_type": "code",
	   "execution_count": null,
	   "metadata": {
	    "collapsed": true
	   },
	   "outputs": [],
"source": [
"// chapter 1 , Example1 14 , pg 26\n",
"v=1440      //velocity of ultrasonic waves(in m/s)\n",
"t=0.5      //time lapsed(in sec)\n",
"d=(v*t)     //distance travelled by ultrasonic waves\n",
"d1=d/2      //depth of submarine\n",
"disp (d, ' the velocity of ultrasonic waves ( in m) is ' )\n",
"disp (d1, ' the depth of submarine ( in m) is ' )\n",
""
   ]
   }
,
{
		   "cell_type": "markdown",
		   "metadata": {},
		   "source": [
			"## Example 1.15: To_find_frequency_of_waves.sce"
		   ]
		  },
  {
"cell_type": "code",
	   "execution_count": null,
	   "metadata": {
	    "collapsed": true
	   },
	   "outputs": [],
"source": [
"// chapter 1 , Example1 15 , pg 26\n",
"lam=2*0.4*10^-3 //distance between 2 antinodes is  lam/2 (in m)\n",
"n=1.5*10^6 //frequency of crystal(in Hz)\n",
"v=n*lam //velocity\n",
"printf('velocity of waves in sea water\n')\n",
"printf('v=%.1f m/s',v)"
   ]
   }
,
{
		   "cell_type": "markdown",
		   "metadata": {},
		   "source": [
			"## Example 1.16: To_evaluate_natural_frequency.sce"
		   ]
		  },
  {
"cell_type": "code",
	   "execution_count": null,
	   "metadata": {
	    "collapsed": true
	   },
	   "outputs": [],
"source": [
"// chapter 1 , Example1 16 , pg 26\n",
"l=40*10^-3//length(in m)\n",
"E=11.5*10^10//youngs modulus(in N/m^2)\n",
"d=7250//density(in kg/m^3)\n",
"p=1//fundamental mode\n",
"n= p*sqrt(E/d)/(2*l)  //natural frequency\n",
"printf('Fundamental  frequency of quartz crystal\n')\n",
"printf('n=%.2f  KHz',n*10^-3)"
   ]
   }
,
{
		   "cell_type": "markdown",
		   "metadata": {},
		   "source": [
			"## Example 1.1: To_find_depth_of_submerged_submarine.sce"
		   ]
		  },
  {
"cell_type": "code",
	   "execution_count": null,
	   "metadata": {
	    "collapsed": true
	   },
	   "outputs": [],
"source": [
"// chapter 1 , Example1 1 , pg 20\n",
"v=1440      //velocity of ultrasonic waves(in m/s)\n",
"t=0.33      //time lapsed(in sec)\n",
"d=(v*t)     //distance travelled by ultrasonic waves\n",
"d1=d/2      //depth of submarine\n",
"disp (d, ' the velocity of ultrasonic waves ( in m) is ' )\n",
"disp (d1, ' the depth of submarine ( in m) is ' )\n",
""
   ]
   }
,
{
		   "cell_type": "markdown",
		   "metadata": {},
		   "source": [
			"## Example 1.2: To_calculate_the_natural_frequency.sce"
		   ]
		  },
  {
"cell_type": "code",
	   "execution_count": null,
	   "metadata": {
	    "collapsed": true
	   },
	   "outputs": [],
"source": [
"// chapter 1 , Example1 2 , pg 21\n",
"d=7.25*10^3     //density(in kg/m^3)\n",
"E=115*10^9     //youngs modulus(in N/m^2)\n",
"l=40*10^-3     //length of rod(in m)\n",
"n=sqrt(E/d)/(2*l)       //natural frequency of rod\n",
"disp (n*10^-3, 'the natural frequency of rod (in kHz) is ')\n",
"printf('yes,the rod can be used for producing  ultrasonic waves because its frequency lies in the ultrasonic  range')\n",
""
   ]
   }
,
{
		   "cell_type": "markdown",
		   "metadata": {},
		   "source": [
			"## Example 1.3: To_calculate_the_natural_frequency.sce"
		   ]
		  },
  {
"cell_type": "code",
	   "execution_count": null,
	   "metadata": {
	    "collapsed": true
	   },
	   "outputs": [],
"source": [
"// chapter 1 , Example1 3 , pg 21\n",
"l=10^-3//length(in m)\n",
"E=7.9*10^10//youngs modulus(in N/m^2)\n",
"d=2650//density(in kg/m^3)\n",
"p=1//fundamental mode\n",
"n= p*sqrt(E/d)/(2*l)  //natural frequency\n",
"printf('Fundamental  frequency of quartz crystal\n')\n",
"printf('n=%.2f Hz',n)"
   ]
   }
,
{
		   "cell_type": "markdown",
		   "metadata": {},
		   "source": [
			"## Example 1.4: compute_the_velocity_of_waves.sce"
		   ]
		  },
  {
"cell_type": "code",
	   "execution_count": null,
	   "metadata": {
	    "collapsed": true
	   },
	   "outputs": [],
"source": [
"// chapter 1 , Example1 4 , pg 22\n",
"lam=2*0.55*10^-3 //distance between 2 antinodes is  lam/2 (in m)\n",
"n=1.45*10^6 //frequency of crystal(in Hz) (given)            they have taken n=1.5 Hz in calculation\n",
"v=n*lam //velocity\n",
"printf('velocity of waves in sea water\n')\n",
"printf('v=%.1f m/s',v)\n",
"\n",
"\n",
"//sum is solved using n=1.5 Hz while the frequency given is n=1.45 Hz "
   ]
   }
,
{
		   "cell_type": "markdown",
		   "metadata": {},
		   "source": [
			"## Example 1.5: To_calculate_the_natural_frequency.sce"
		   ]
		  },
  {
"cell_type": "code",
	   "execution_count": null,
	   "metadata": {
	    "collapsed": true
	   },
	   "outputs": [],
"source": [
"// chapter 1 , Example1 5 , pg 22\n",
"l=50*10^-3//length of rod(in m)\n",
"d=7250//density(in  kg/m^3)\n",
"E=11.5*10^10//youngs modulus(in N/m^2)\n",
"n=sqrt(E/d)/(2*l)//natural frequency\n",
"printf('Natural frequency of rod\n')\n",
"printf('n=%.2f KHz',n*10^-3)"
   ]
   }
,
{
		   "cell_type": "markdown",
		   "metadata": {},
		   "source": [
			"## Example 1.6: To_calculate_the_natural_frequency.sce"
		   ]
		  },
  {
"cell_type": "code",
	   "execution_count": null,
	   "metadata": {
	    "collapsed": true
	   },
	   "outputs": [],
"source": [
"// chapter 1 , Example1 6 , pg 23\n",
"l=2*10^-3//length(in m)\n",
"d=2650//density(in kg/m^3)\n",
"E=7.9*10^10//youngs modulus(in N/m^2)\n",
"p=1\n",
"n=(p*sqrt(E/d))/(2*l)//natural frequency\n",
"printf('frequency of crystal\n')\n",
"printf('n=%.3f MHz',n*10^-6)"
   ]
   }
,
{
		   "cell_type": "markdown",
		   "metadata": {},
		   "source": [
			"## Example 1.7: To_calculate_the_natural_frequency.sce"
		   ]
		  },
  {
"cell_type": "code",
	   "execution_count": null,
	   "metadata": {
	    "collapsed": true
	   },
	   "outputs": [],
"source": [
"// chapter 1 , Example1 7 , pg 23\n",
"l=3*10^-3//length(in m)\n",
"d=2500//density(in kg/m^3)\n",
"E=8*10^10//youngs modulus(in N/m^2)\n",
"p=1\n",
"n=(p*sqrt(E/d))/(2*l)//natural frequency\n",
"printf('frequency of ultrasound\n')\n",
"printf('n=%.3f KHz',n*10^-3)"
   ]
   }
,
{
		   "cell_type": "markdown",
		   "metadata": {},
		   "source": [
			"## Example 1.8: To_calculate_the_frequency.sce"
		   ]
		  },
  {
"cell_type": "code",
	   "execution_count": null,
	   "metadata": {
	    "collapsed": true
	   },
	   "outputs": [],
"source": [
"// chapter 1 , Example1 8 , pg 23\n",
"l=1.5*10^-3//length(in m)\n",
"d=2650//density(in kg/m^3)\n",
"E=7.9*10^10//youngs modulus(in N/m^2)\n",
"p=1\n",
"n=(p*sqrt(E/d))/(2*l)//natural frequency\n",
"printf('frequency of crystal\n')\n",
"printf('n=%.3f MHz',n*10^-6)"
   ]
   }
,
{
		   "cell_type": "markdown",
		   "metadata": {},
		   "source": [
			"## Example 1.9: To_find_depth_of_sea.sce"
		   ]
		  },
  {
"cell_type": "code",
	   "execution_count": null,
	   "metadata": {
	    "collapsed": true
	   },
	   "outputs": [],
"source": [
"// chapter 1 , Example1 9 , pg 24\n",
"v=1440      //velocity of ultrasonic waves(in m/s)\n",
"t=0.95      //time lapsed(in sec)\n",
"d=(v*t)     //distance travelled by ultrasonic waves\n",
"d1=d/2      //depth of sea\n",
"disp (d1, ' the depth of sea ( in m) is ' )\n",
""
   ]
   }
],
"metadata": {
		  "kernelspec": {
		   "display_name": "Scilab",
		   "language": "scilab",
		   "name": "scilab"
		  },
		  "language_info": {
		   "file_extension": ".sce",
		   "help_links": [
			{
			 "text": "MetaKernel Magics",
			 "url": "https://github.com/calysto/metakernel/blob/master/metakernel/magics/README.md"
			}
		   ],
		   "mimetype": "text/x-octave",
		   "name": "scilab",
		   "version": "0.7.1"
		  }
		 },
		 "nbformat": 4,
		 "nbformat_minor": 0
}
