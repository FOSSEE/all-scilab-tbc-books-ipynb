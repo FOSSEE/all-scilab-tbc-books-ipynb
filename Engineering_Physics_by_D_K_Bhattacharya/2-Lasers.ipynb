{
"cells": [
 {
		   "cell_type": "markdown",
	   "metadata": {},
	   "source": [
       "# Chapter 2: Lasers"
	   ]
	},
{
		   "cell_type": "markdown",
		   "metadata": {},
		   "source": [
			"## Example 2.1: To_calculate_relative_populatio.sce"
		   ]
		  },
  {
"cell_type": "code",
	   "execution_count": null,
	   "metadata": {
	    "collapsed": true
	   },
	   "outputs": [],
"source": [
"// chapter 2 , Example2 1 , pg 52\n",
"lam=590*10^-9//wavelength(in m)\n",
"T=250+273  //temperature(in kelvin)   (converting celsius into kelvin)\n",
"k=1.38*10^-23//boltzman constant (in (m^2*Kg)/(s^2*k))\n",
"h=6.625*10^-34//plancks constant(in Js)\n",
"c=3*10^8//speed of light\n",
"N=exp(-(h*c)/(lam*k*T)) //N=(n2/n1)=relative population of atoms in the 1st excited state  and in ground state\n",
"//n1=number of atoms in ground state\n",
"//n2=number of atoms in excited state\n",
"printf('Relative population of Na atoms in the 1st excited state and in ground state\n')\n",
"disp(N)"
   ]
   }
,
{
		   "cell_type": "markdown",
		   "metadata": {},
		   "source": [
			"## Example 2.2: To_calculate_ratio_of_stimulated_emission_to_spontaneous_emission.sce"
		   ]
		  },
  {
"cell_type": "code",
	   "execution_count": null,
	   "metadata": {
	    "collapsed": true
	   },
	   "outputs": [],
"source": [
"// chapter 2 , Example2 2 , pg 53\n",
"T=250+273 //temperature(in kelvin)   (converting celsius into kelvin)\n",
"h=6.625*10^-34//plancks constant(in Js)\n",
"c=3*10^8//speed of light(in m/s)\n",
"lam=590*10^-9//wavelength(in m)\n",
"k=1.38*10^-23//boltzman constant (in (m^2*Kg)/(s^2*k))\n",
"N=1/(exp((h*c)/(lam*k*T))-1)  //N=((n21)'/(n21))   ratio of stimulated  emission to spontaneous  emission\n",
"printf('Ratio of stimulated  emission to spontaneous  emission is')\n",
"disp(N)\n",
"\n",
"\n",
"//answer given is wrong"
   ]
   }
,
{
		   "cell_type": "markdown",
		   "metadata": {},
		   "source": [
			"## Example 2.3: calculate_number_of_photons_emitted_per_minute.sce"
		   ]
		  },
  {
"cell_type": "code",
	   "execution_count": null,
	   "metadata": {
	    "collapsed": true
	   },
	   "outputs": [],
"source": [
"// chapter 2 , Example2 3 , pg 53\n",
"lam=632.8*10^-9//wavelength(in m)\n",
"Em=3.147*10^-3*60//energy emitted per minute(in J/min)\n",
"c=3*10^8//speed of light(in m/s)\n",
"h=6.625*10^-34//plancks constant(in Js)\n",
"n=c/lam  //frequency of emitted photons(in Hz)\n",
"E=h*n  //energy of each photon(in J)\n",
"N=Em/E  //number of photons emitted per minute\n",
"printf('Number of photons emitted per minute')\n",
"disp(N)"
   ]
   }
],
"metadata": {
		  "kernelspec": {
		   "display_name": "Scilab",
		   "language": "scilab",
		   "name": "scilab"
		  },
		  "language_info": {
		   "file_extension": ".sce",
		   "help_links": [
			{
			 "text": "MetaKernel Magics",
			 "url": "https://github.com/calysto/metakernel/blob/master/metakernel/magics/README.md"
			}
		   ],
		   "mimetype": "text/x-octave",
		   "name": "scilab",
		   "version": "0.7.1"
		  }
		 },
		 "nbformat": 4,
		 "nbformat_minor": 0
}
