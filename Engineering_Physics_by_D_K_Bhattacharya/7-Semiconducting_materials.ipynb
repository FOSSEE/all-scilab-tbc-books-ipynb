{
"cells": [
 {
		   "cell_type": "markdown",
	   "metadata": {},
	   "source": [
       "# Chapter 7: Semiconducting materials"
	   ]
	},
{
		   "cell_type": "markdown",
		   "metadata": {},
		   "source": [
			"## Example 7.10: find_the_new_position_of_Fermi_level.sce"
		   ]
		  },
  {
"cell_type": "code",
	   "execution_count": null,
	   "metadata": {
	    "collapsed": true
	   },
	   "outputs": [],
"source": [
"// chapter 7 , Example 7.10 , pg 214\n",
"T1=300     //temperature    (in K)\n",
"e=1.6*10^-19    //charge of electron    (in C)\n",
"k=1.38*10^-23     //Boltzmann constant    (in J/K)\n",
"T2=330     //temperature   (in K)\n",
"E1=0.3     // E1=(Ec-Ef_300)    (in eV)\n",
"E2=(E1*T2)/T1    //E2=(Ec-Ef_330)    (in eV)\n",
"printf('At 330 K the Fermi energy kevel lies ')\n",
"disp(E2)\n",
"printf('(in eV) below conduction band')"
   ]
   }
,
{
		   "cell_type": "markdown",
		   "metadata": {},
		   "source": [
			"## Example 7.11: calculate_concentration_in_conduction_band.sce"
		   ]
		  },
  {
"cell_type": "code",
	   "execution_count": null,
	   "metadata": {
	    "collapsed": true
	   },
	   "outputs": [],
"source": [
"// chapter 7 , Example 7.11 , pg 214\n",
"T=300    //temperature    (in K)\n",
"e=1.6*10^-19     //charge of electron (in C)\n",
"h=6.625*10^-34    //plancks constant    (in m^2*Kg*S^-1)\n",
"Eg=1.1     //bandgap   (in eV)\n",
"k=1.38*10^-23     //Boltzmann constant    (in J/K)\n",
"Me=9.11*10^-31   //mass of electron    (in Kg)\n",
"Mn=0.31*Me     //electron effective mass\n",
"ni=2*((2*%pi*k*T*Mn)/h^2)^(3/2)*exp(-(Eg*e)/(2*k*T))     //intrinsic concentration\n",
"printf('Intrinsic concentration (in m^-3)')\n",
"disp(ni)"
   ]
   }
,
{
		   "cell_type": "markdown",
		   "metadata": {},
		   "source": [
			"## Example 7.12: calculate_drift_mobility_of_electro.sce"
		   ]
		  },
  {
"cell_type": "code",
	   "execution_count": null,
	   "metadata": {
	    "collapsed": true
	   },
	   "outputs": [],
"source": [
"// chapter 7 , Example7.12 , pg 214\n",
"T=300    //temperature   (in K)\n",
"Rh=0.55*10^-10      //Hall coefficient    (in  m^3/(A*s))\n",
"sigma=5.9*10^7    //conductivity       (in ohm^-1 * m^-1)\n",
"DM= Rh*sigma      //drift mobility\n",
"printf('Drift mobility  (in m^2/(V *s))=')\n",
"disp(DM)"
   ]
   }
,
{
		   "cell_type": "markdown",
		   "metadata": {},
		   "source": [
			"## Example 7.13: calculate_concentration_of_conduction_electrons_in_Cu.sce"
		   ]
		  },
  {
"cell_type": "code",
	   "execution_count": null,
	   "metadata": {
	    "collapsed": true
	   },
	   "outputs": [],
"source": [
"// chapter 7 , Example 7.13 , pg 215\n",
"Ud=3.2*10^-3    //electron drift mobility  (in m^2/(V*s))\n",
"sigma=5.9*10^7    //conductivity  (in /(ohm*m))\n",
"e=1.6*10^-19     //charge of electron (in C)\n",
"Na=6.022*10^23    //Avogadro constant (in mol^-1)\n",
"ni=sigma/(Ud*e)     //intrinsic concentration   (in m^-3)\n",
"Aw=63.5     //atomic weight\n",
"d=8960   //density   (in Kg/m^3)\n",
"n=10^3  //number of free electrons per atom\n",
"N=(Na*d*n)/Aw     //concentration of free electrons in pure Cu\n",
"Avg_N=ni/N      //Average number of electrons contributed per Cu atom\n",
"printf('concentration of free electrons in pure Cu   (in m^-3)')\n",
"disp(N)\n",
"printf('Average number of electrons contributed per Cu atom\n')\n",
"printf('Avg_N=%.2f ',Avg_N)"
   ]
   }
,
{
		   "cell_type": "markdown",
		   "metadata": {},
		   "source": [
			"## Example 7.14: calculate_charge_carrier_density_and_electron_mobility.sce"
		   ]
		  },
  {
"cell_type": "code",
	   "execution_count": null,
	   "metadata": {
	    "collapsed": true
	   },
	   "outputs": [],
"source": [
"// chapter 7 , Example7.14 , pg 215\n",
"RH=3.66*10^-11     //Hall coefficient   (in m^3/(A*s))\n",
"e=1.6*10^-19      //charge in electron   (in C)\n",
"sigma=112*10^7    //conductivity     (in (oh*m)^-1)\n",
"n=1/(RH*e)    //charge carrier density\n",
"Un=sigma/(n*e)     //electron mobility\n",
"printf('charge carrier density(in m^-3)=')\n",
"disp(n)\n",
"printf('Electron mobility=')\n",
"printf('Un=%.3f   m^2/(A*s)',Un)"
   ]
   }
,
{
		   "cell_type": "markdown",
		   "metadata": {},
		   "source": [
			"## Example 7.15: calculate_magnitude_of_Hall_voltage.sce"
		   ]
		  },
  {
"cell_type": "code",
	   "execution_count": null,
	   "metadata": {
	    "collapsed": true
	   },
	   "outputs": [],
"source": [
"// chapter 7 , Example7.15 , pg 216\n",
"I=50   //current  (in A)\n",
"B=1.5   //magnetic field   (in T)\n",
"d=0.2*10^-2   //width of slab   (in m)\n",
"n=8.4*10^28    //concentration of electrons (in m^-3)\n",
"e=1.6*10^-19    // charge   (in C)\n",
"VH=(B*I)/(n*e*d)    //Hall  voltage\n",
"printf('Hall voltage(in V)=')\n",
"disp(VH)\n",
"\n",
"\n",
"\n",
"\n",
"//Answer given is wrong"
   ]
   }
,
{
		   "cell_type": "markdown",
		   "metadata": {},
		   "source": [
			"## Example 7.16: find_resistance_of_intrinsic_Ge.sce"
		   ]
		  },
  {
"cell_type": "code",
	   "execution_count": null,
	   "metadata": {
	    "collapsed": true
	   },
	   "outputs": [],
"source": [
"// chapter 7 , Example7.16 , pg 216\n",
"ni=2.5*10^19     //intrinsic  carrier  density(in m^-3)\n",
"Un=0.39     //electron mobility   (in m^2/(V*s))\n",
"up=0.19     //hole mobility   (in m^2/(V*s))\n",
"e=1.6*10^-19    //charge in electron (in C)\n",
"l=10^-2       //length   (in m)\n",
"A=10^-3*10^-3     //area (in m^2)\n",
"sigma=ni*e*(Un+up)    // electrical conductivity   (in  (ohm*m)^-1)\n",
"R=l/(sigma*A)      //Resistance\n",
"printf('Resistance of intrinsic Ge rod\n')\n",
"printf('R=%.0f   ohm',R)"
   ]
   }
,
{
		   "cell_type": "markdown",
		   "metadata": {},
		   "source": [
			"## Example 7.17: determine_the_position_of_Fermi_level.sce"
		   ]
		  },
  {
"cell_type": "code",
	   "execution_count": null,
	   "metadata": {
	    "collapsed": true
	   },
	   "outputs": [],
"source": [
"// chapter 7 , Example7.17 , pg 216\n",
"Eg=1.12    //bandgap   (in eV)\n",
"T=300   //temperature    (in K)\n",
"Me=9.11*10^-31    //mass of electron   (in Kg)\n",
"Mn=0.12*Me\n",
"Mp=0.28*Me\n",
"k=1.38*10^-23    //Boltzmann constant   (in (m^2*Kg)/(s^2*K))\n",
"Ef=(Eg/2)+((log(Mp/Mn)*3*k*T)/(4*1.6*10^-19))\n",
"printf('position of Fermi level')\n",
"printf('Ef=%.3f   eV',Ef)"
   ]
   }
,
{
		   "cell_type": "markdown",
		   "metadata": {},
		   "source": [
			"## Example 7.18: calculate_electrical_conductivity.sce"
		   ]
		  },
  {
"cell_type": "code",
	   "execution_count": null,
	   "metadata": {
	    "collapsed": true
	   },
	   "outputs": [],
"source": [
"// chapter 7 , Example7.18 , pg 217\n",
"ni=1.5*10^16     //intrinsic  carrier  density(in m^-3)\n",
"Un=0.13     //electron mobility   (in m^2/(V*s))\n",
"up=0.05     //hole mobility   (in m^2/(V*s))\n",
"e=1.6*10^-19    //charge in electron (in C)\n",
"sigma=ni*e*(Un+up)    // electrical conductivity\n",
"printf('Electrical conductivity\n')\n",
"printf('sigma=%.6f   (ohm*m)^-1',sigma)"
   ]
   }
,
{
		   "cell_type": "markdown",
		   "metadata": {},
		   "source": [
			"## Example 7.19: find_intrinsic_resistivity.sce"
		   ]
		  },
  {
"cell_type": "code",
	   "execution_count": null,
	   "metadata": {
	    "collapsed": true
	   },
	   "outputs": [],
"source": [
"// chapter 7 , Example7.19 , pg 217\n",
"ni=2.15*10^13     //intrinsic  carrier  density(in cm^-3)\n",
"Un=3900    //electron mobility   (in cm^2/(V*s))\n",
"up=1900     //hole mobility   (in cm^2/(V*s))\n",
"e=1.6*10^-19    //charge in electron (in C)\n",
"sigma_I=ni*e*(Un+up)    // electrical conductivity   (in  (ohm*cm)^-1)\n",
"rho_I=1/sigma_I    //intrinsic resistivity\n",
"printf('Intrinsic resistivity\n')\n",
"printf('rho_I=%.0f   ohm*cm',rho_I)\n",
"\n",
"\n",
"\n",
"\n",
"//Intrisic carrier density is given as 2.15*10^-13  instead of 2.15*10^13"
   ]
   }
,
{
		   "cell_type": "markdown",
		   "metadata": {},
		   "source": [
			"## Example 7.1: Evaluate_approximate_donor_binding_energy.sce"
		   ]
		  },
  {
"cell_type": "code",
	   "execution_count": null,
	   "metadata": {
	    "collapsed": true
	   },
	   "outputs": [],
"source": [
"// chapter 7 , Example7.1 , pg 208\n",
"Er=13.2       // relative permittivity\n",
"Me=9.11*10^-31      //mass of electron    (in Kg)\n",
"Mnc=0.067*Me\n",
"h=6.625*10^-34    //plancks constant  (in Js)\n",
"Eo=8.85*10^-12\n",
"e=1.6*10^-19      //electronic charge of electron (in C)\n",
"E=(Mnc*e^4)/(8*(Er*Eo)^2*h^2)      //Donor binding energy   (in J)\n",
"printf('Donor binding energy (in J)=')\n",
"disp(E)\n",
"printf('E=%.4f   eV',(E/e))"
   ]
   }
,
{
		   "cell_type": "markdown",
		   "metadata": {},
		   "source": [
			"## Example 7.20: find_electrical_conductivity_before_and_after_addition_of_B_atoms.sce"
		   ]
		  },
  {
"cell_type": "code",
	   "execution_count": null,
	   "metadata": {
	    "collapsed": true
	   },
	   "outputs": [],
"source": [
"// chapter 7 , Example7.20 , pg 217\n",
"ni=2.1*10^19     //intrinsic  carrier  density(in m^-3)\n",
"Un=0.4     //electron mobility   (in m^2/(V*s))\n",
"up=0.2     //hole mobility   (in m^2/(V*s))\n",
"e=1.6*10^-19    //charge in electron (in C)\n",
"sigma=ni*e*(Un+up)    // electrical conductivity\n",
"printf('Electrical conductivity\n')\n",
"printf('sigma=%.3f   (ohm*m)^-1',sigma)"
   ]
   }
,
{
		   "cell_type": "markdown",
		   "metadata": {},
		   "source": [
			"## Example 7.21: find_Hall_coefficient_and_electron_mobility.sce"
		   ]
		  },
  {
"cell_type": "code",
	   "execution_count": null,
	   "metadata": {
	    "collapsed": true
	   },
	   "outputs": [],
"source": [
"// chapter 7 , Example 7.21 , pg 218\n",
"e=1.6*10^-19    // charge of electron   (in C)\n",
"I=5*10^-3     // current  (in mA)\n",
"V=1.35   // voltage   (in V)\n",
"Vh=20*10^-3    //Hall voltage   (in V)\n",
"B=0.45    //magnetic induction   (in T)\n",
"l=10^-2   //length   (in m)\n",
"b=5*10^-3    //breadth   (in m)\n",
"d=10^-3     //thickness    (in m)\n",
"R=V/I     //resistance    (in ohm)\n",
"A=b*d    //area   (in m^2)\n",
"rho= (R*A)/l    //resistivity    (in ohm*m)\n",
"E=Vh/d      //Hall electric field  (in V/m)\n",
"J=I/A     //current density   (in A/m^2)\n",
"Rh=E/(B*J)    //Hall coefficient \n",
"Un=Rh/rho    //electron mobility   (in m^2/(V*S))\n",
"printf('Hall coefficient =')\n",
"printf('Rh=%.3f  m^3/C \n',Rh)\n",
"printf('Electron mobility=')\n",
"printf('Un=%.2f m^2/(V*S)',Un)"
   ]
   }
,
{
		   "cell_type": "markdown",
		   "metadata": {},
		   "source": [
			"## Example 7.22: find_Hall_potential_difference.sce"
		   ]
		  },
  {
"cell_type": "code",
	   "execution_count": null,
	   "metadata": {
	    "collapsed": true
	   },
	   "outputs": [],
"source": [
"// chapter 7 , Example7.22 , pg 218\n",
"Ix=200   //current  (in A)\n",
"Bz=1.5   //magnetic field   (in T)\n",
"d=10^-3   //width of slab   (in m)\n",
"p=8.4*10^28    //concentration of electrons (in m^-3)\n",
"e=1.6*10^-19    // charge   (in C)\n",
"VH=(Bz*Ix)/(p*e*d)    //Hall  voltage\n",
"printf('Hall voltage(in V)=')\n",
"disp(VH)"
   ]
   }
,
{
		   "cell_type": "markdown",
		   "metadata": {},
		   "source": [
			"## Example 7.2: calculate_equilibrium_hole_concentration_and_how_is_Ef_located_relative_to_Ei.sce"
		   ]
		  },
  {
"cell_type": "code",
	   "execution_count": null,
	   "metadata": {
	    "collapsed": true
	   },
	   "outputs": [],
"source": [
"// chapter 7 , Example 7.2 , pg 208\n",
"ni=1.5*10^10      //intrinsic concentration   (in cm^-3)\n",
"Nd=10^16    //donor concentration   (in atoms/cm^3)\n",
"T=300     //temperature    (in K)\n",
"e=1.6*10^-19    //charge of electron    (in C)\n",
"k=1.38*10^-23     //Boltzmann constant    (in J/K)\n",
"n0=Nd     //Assuming  n0=Nd      ( since    Nd >> ni)\n",
"p0=ni^2/n0     //hole concentration\n",
"E=k*T*log(n0/ni)     // E=(Ef-Ei)    location of Ef relative to Ei\n",
"printf('Hole concentration (in cm^-3)')\n",
"disp(p0)\n",
"printf('Location of Ef relative to Ei   (in eV)')\n",
"disp(E/e)\n",
"x = linspace(-5.5,5.5,51);\n",
"y = 1 ;\n",
"\n",
"scf(2);\n",
"clf(2);\n",
"plot(x,y+0.1);\n",
"\n",
"plot(x,y,'ro-');\n",
"plot(x,y-0.347,'--');\n",
"plot(x,y*0,'bs:');\n",
"xlabel(['x axis';'(independent variable)']);\n",
"ylabel('Energy level (eV)');\n",
"title('Band diagram');\n",
"legend(['Ec';'Ef';'Ei';'Ev']);\n",
"set(gca(),'data_bounds',matrix([-6,6,-0.1,1.1],2,-1));"
   ]
   }
,
{
		   "cell_type": "markdown",
		   "metadata": {},
		   "source": [
			"## Example 7.3: calculate_resistivity_of_sample.sce"
		   ]
		  },
  {
"cell_type": "code",
	   "execution_count": null,
	   "metadata": {
	    "collapsed": true
	   },
	   "outputs": [],
"source": [
"// chapter 7 , Example7.3 , pg 208\n",
"Nd=10^14     //Donor density   (in atoms/cm^3)\n",
"e=1.6*10^-19     //electronic charge of electron   (in C)\n",
"Un=3900      // electron mobility (in cm^2/(V*s))     for Ge at 300 K\n",
"sigma=Nd*e*Un     //conductivity\n",
"rho=1/sigma       //resistivity\n",
"printf('Resistivity=\n')\n",
"printf('rho=%.2f    ohm*cm',rho)"
   ]
   }
,
{
		   "cell_type": "markdown",
		   "metadata": {},
		   "source": [
			"## Example 7.4: calculate_resistivity_and_Hall_coefficient_and_Hall_voltage.sce"
		   ]
		  },
  {
"cell_type": "code",
	   "execution_count": null,
	   "metadata": {
	    "collapsed": true
	   },
	   "outputs": [],
"source": [
"// chapter 7 , Example7 4 , pg 209\n",
"e=1.6*10^-19    //charge in electron (in C)\n",
"Ix=2*10^-3    //current (in A)\n",
"d=200*10^-4     //thickness   (in cm)\n",
"Bz=5*10^-5    //magnetic induction   (in Wb/cm^2)\n",
"Un=800    //electron mobility   (in cm^2/(V*s))\n",
"n=5*10^16     //doping concentration    (in atoms/cm^3)\n",
"\n",
"sigma=n*e*(Un)    // electrical conductivity\n",
"rho=1/sigma    //resistivity\n",
"Rh=-1/(e*n)    //Hall coefficient\n",
"Vh=-(Ix*Bz)/(d*e*n)    //Hall  voltage\n",
"printf('Resistivity(in ohm*cm)')\n",
"disp(rho)\n",
"printf('Hall coefficient(in cm^3/C)')\n",
"disp(Rh)\n",
"printf('Hall voltage (in V)')\n",
"disp(Vh)"
   ]
   }
,
{
		   "cell_type": "markdown",
		   "metadata": {},
		   "source": [
			"## Example 7.5: EX7_5.sce"
		   ]
		  },
  {
"cell_type": "code",
	   "execution_count": null,
	   "metadata": {
	    "collapsed": true
	   },
	   "outputs": [],
"source": [
"// chapter 7 , Example 7.5 , pg 210\n",
"T=300    //temperature    (in K)\n",
"Un=0.4   //electron mobility    (in m^2/(V*s))\n",
"Up=0.2   //hole mobility    (in m^2/(V*s))\n",
"e=1.6*10^-19     //charge of electron (in C)\n",
"h=6.625*10^-34    //plancks constant    (in m^2*Kg*S^-1)\n",
"Eg=0.7     //bandgap   (in eV)\n",
"k=1.38*10^-23     //Boltzmann constant    (in J/K)\n",
"Me=9.11*10^-31   //mass of electron    (in Kg)\n",
"Mn=0.55*Me     //electron effective mass\n",
"Mp=0.37*Me     //hole effective mass\n",
"ni=2*((2*%pi*k*T)/h^2)^(3/2)*(Mn*Mp)^(3/4)*exp(-(Eg*e)/(2*k*T))     //intrinsic concentration\n",
"sigma=ni*e*(Un+Up)     //intrinsic conductivity\n",
"rho=1/sigma      //intrinsic resistivity\n",
"printf('Intrinsic concentration (in m^-3)')\n",
"disp(ni)\n",
"printf('Intrinsic conductivity (in /(ohm*m)')\n",
"disp(sigma)\n",
"printf('Intrinsic resistivity  (in ohm*m)')\n",
"disp(rho)\n",
"\n",
"\n",
"//answer given is wrong"
   ]
   }
,
{
		   "cell_type": "markdown",
		   "metadata": {},
		   "source": [
			"## Example 7.6: calculate_Fermi_energy_with_respect_to_Fermi_energy.sce"
		   ]
		  },
  {
"cell_type": "code",
	   "execution_count": null,
	   "metadata": {
	    "collapsed": true
	   },
	   "outputs": [],
"source": [
"// chapter 7 , Example 7.6 , pg 211\n",
"Nd=10^16     //donor concentration (in cm^-3)\n",
"ni=1.45*10^10     //intrinsic concentration  (in cm^-3)\n",
"T=300     //temperature    (in K)\n",
"e=1.6*10^-19    //charge of electron    (in C)\n",
"k=1.38*10^-23     //Boltzmann constant    (in J/K)\n",
"E=k*T*log(Nd/ni)      //E=(Efd-Ei)   Fermi energy  with respect to  Fermi energy in intrinsic Si\n",
"printf('Fermi energy  with respect to  Fermi energy in intrinsic Si(in eV)')\n",
"disp(E/e)"
   ]
   }
,
{
		   "cell_type": "markdown",
		   "metadata": {},
		   "source": [
			"## Example 7.7: find_resistance_of_pure_and_doped_Si_crystal.sce"
		   ]
		  },
  {
"cell_type": "code",
	   "execution_count": null,
	   "metadata": {
	    "collapsed": true
	   },
	   "outputs": [],
"source": [
"// chapter 7 , Example 7.7 , pg 211\n",
"rho=2300   //resistivity  (in ohm*m)   for Si            (value given in book is wrong)\n",
"ni=1.6*10^16     //intrinsic concentration   (in m^-3)\n",
"Ue=0.15      //electron mobility   (in m^2/(V*s))\n",
"e=1.6*10^-19    //charge of electron   (in C)\n",
"//   assuming  1*1*1 (in cm)  dimension of Si crystal\n",
"l=10^-2    //length   (in m)\n",
"b=10^-2     //breadth   (in m)\n",
"w=10^-2      //width   (in m)\n",
"Nsi=5*10^28    //   (in atoms/m^3)\n",
"x=1/10^9      //doping concentration\n",
"A=l*b     //area   (in m^2)\n",
"R1=(rho*l)/A      //resistance of pure Si crystal   (in ohm)\n",
"Nd=Nsi*x      //donor concentration    (in m^-3)\n",
"p=ni^2/Nd   //concentration of hole   (in m^-3)\n",
"sigma=Nd*Ue*e   //coductivity of doped Si   (in ohm^-1*m^-1)\n",
"R=l/(sigma*A)    //resistance of doped Si crystal   (in ohm)\n",
"printf('Resistance of pure Si crystal  (in ohm)')\n",
"disp(R1)\n",
"printf('Resistance of doped Si crystal (in ohm)')\n",
"disp(R)\n",
"\n",
"\n",
"//answer given is wrong"
   ]
   }
,
{
		   "cell_type": "markdown",
		   "metadata": {},
		   "source": [
			"## Example 7.8: compute_forbidden_energy_gap.sce"
		   ]
		  },
  {
"cell_type": "code",
	   "execution_count": null,
	   "metadata": {
	    "collapsed": true
	   },
	   "outputs": [],
"source": [
"// chapter 7 , Example 7.8 , pg 212\n",
"rho=2.12    //resistivity   (in ohm*m)\n",
"T=300   //temperature   (in K)\n",
"Un=0.36    //electron mobility   (in m^2/(V*s))\n",
"Up=0.17     //hole mobility     (in m^2/(V*s))\n",
"h=6.625*10^-34    //plancks constant    (in m^2*Kg*S^-1)\n",
"k=1.38*10^-23     //Boltzmann constant    (in J/K)\n",
"e=1.6*10^-19     //charge in electron  (in C)\n",
"Me=9.11*10^-31   //mass of electron    (in Kg)\n",
"Mn=0.5*Me     //electron effective mass\n",
"Mp=0.37*Me     //hole effective mass\n",
"ni=1/(rho*e*(Un+Up))     //intrinsic concentration   (in m^-3)\n",
"Nc=2*((2*%pi*k*T)/h^2)^(3/2)*(Mn)^(3/2)      //effective density of states in conduction band (in m^-3)\n",
"Nv=2*((2*%pi*k*T)/h^2)^(3/2)*(Mp)^(3/2)      //effective density of states in valence band (in m^-3)\n",
"Eg=2*k*T*log(sqrt(Nc*Nv)/ni)        //Forbidden energy gap\n",
"printf('Forbidden energy gap=')\n",
"printf('Eg=%.3f  eV',Eg/e)"
   ]
   }
,
{
		   "cell_type": "markdown",
		   "metadata": {},
		   "source": [
			"## Example 7.9: calculate_conductivity_of_sample.sce"
		   ]
		  },
  {
"cell_type": "code",
	   "execution_count": null,
	   "metadata": {
	    "collapsed": true
	   },
	   "outputs": [],
"source": [
"// chapter 7 , Example7.9 , pg 213\n",
"ni=2.4*10^19     //intrinsic  carrier  density(in m^-3)\n",
"Un=0.39     //electron mobility   (in m^2/(V*s))\n",
"up=0.19     //hole mobility   (in m^2/(V*s))\n",
"e=1.6*10^-19    //charge in electron (in C)\n",
"sigma=ni*e*(Un+up)    // electrical conductivity\n",
"printf('Electrical conductivity\n')\n",
"printf('sigma=%.3f   (ohm*m)^-1',sigma)"
   ]
   }
],
"metadata": {
		  "kernelspec": {
		   "display_name": "Scilab",
		   "language": "scilab",
		   "name": "scilab"
		  },
		  "language_info": {
		   "file_extension": ".sce",
		   "help_links": [
			{
			 "text": "MetaKernel Magics",
			 "url": "https://github.com/calysto/metakernel/blob/master/metakernel/magics/README.md"
			}
		   ],
		   "mimetype": "text/x-octave",
		   "name": "scilab",
		   "version": "0.7.1"
		  }
		 },
		 "nbformat": 4,
		 "nbformat_minor": 0
}
