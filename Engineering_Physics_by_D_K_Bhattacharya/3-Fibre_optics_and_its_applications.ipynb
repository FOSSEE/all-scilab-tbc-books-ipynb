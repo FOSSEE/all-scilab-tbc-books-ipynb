{
"cells": [
 {
		   "cell_type": "markdown",
	   "metadata": {},
	   "source": [
       "# Chapter 3: Fibre optics and its applications"
	   ]
	},
{
		   "cell_type": "markdown",
		   "metadata": {},
		   "source": [
			"## Example 3.1: To_find_NAand_phi_m_and_critical_angle.sce"
		   ]
		  },
  {
"cell_type": "code",
	   "execution_count": null,
	   "metadata": {
	    "collapsed": true
	   },
	   "outputs": [],
"source": [
"// chapter 3 , Example 3.1 , pg 84\n",
"n1=1.5//core refractive index\n",
"n2=1.47//cladding refractive index\n",
"n0=1//refractive index of air\n",
"NA=sqrt(n1^2-n2^2)//numerical aperture\n",
"alpha_m =asin(NA/n0)//angle of acceptance   (in radian)\n",
"phi_m=asin((n0*sin(alpha_m))/n1)//   no*sin(alpha_m)=n1*sin(phi_m) (in radian)\n",
"phi_c=asin(n2/n1)  //critical angle   (in radian)\n",
"printf('NA=%.1f \n',NA)\n",
"printf('alpha_m=%.2f  degree\n',(alpha_m*180)/%pi)\n",
"printf('phi_m=%.2f degree\n',(phi_m*180)/%pi)\n",
"printf('phi_c=%.2f  degree',(phi_c*180)/%pi)\n",
"\n",
"\n",
"//data given is n2=1.97  which is not possible since refractive index of cladding should always be less than refractive index of core\n",
"//in calculation n2=1.47"
   ]
   }
,
{
		   "cell_type": "markdown",
		   "metadata": {},
		   "source": [
			"## Example 3.2: calculate_pulse_broadening_per_unit_length.sce"
		   ]
		  },
  {
"cell_type": "code",
	   "execution_count": null,
	   "metadata": {
	    "collapsed": true
	   },
	   "outputs": [],
"source": [
"// chapter 3 , Example 3.2 , pg 85\n",
"n1=1.5//core refractive index\n",
"n2=1.47//cladding refractive index\n",
"c=3*10^8//speed of light(in m/s)\n",
"P=(n1*(n1-n2))/(n2*c)  //pulse broadening per unit length due to multiple dispersion\n",
"//P=(del_t/L)    where del_t=time interval  , L=distance  transversed by ray inside core\n",
"printf('pulse broadening per unit length due to multiple dispersion(in s/m)')\n",
"disp(P)"
   ]
   }
,
{
		   "cell_type": "markdown",
		   "metadata": {},
		   "source": [
			"## Example 3.3: To_calculate_minimum_and_maximum_number_of_total_internal_reflections_per_metre.sce"
		   ]
		  },
  {
"cell_type": "code",
	   "execution_count": null,
	   "metadata": {
	    "collapsed": true
	   },
	   "outputs": [],
"source": [
"// chapter 3 , Example 3.3 , pg 85\n",
"n1=1.5//core refractive index\n",
"n2=1.47//cladding refractive index\n",
"n0=1//refractive index of air\n",
"a=100*10^-6/2  //radius of core\n",
"NA=sqrt(n1^2-n2^2)//numerical aperture\n",
"alpha_m =asin(NA/n0)//angle of acceptance   (in radian)\n",
"phi_m=asin((n0*sin(alpha_m))/n1)//   no*sin(alpha_m)=n1*sin(phi_m)  (in radian)\n",
"L=a/tan(phi_m)  //(in m)\n",
"printf('Minimum number of reflections per metre=zero\n')   //since rays travelling with alpha=0 suffer no internal reflection\n",
"//for rays travelling with alpha=alpha_m ,1 internal reflection takes place for a transversed distance of 2*L\n",
"N=1/(2*L)  //Maximum number of reflections per metre\n",
"disp('Maximum number of reflections per metre(in m^-1)=')\n",
"printf('N=%.0f',N)\n",
"\n",
"//Answer varies as L is restricted to 2.45*10^-4 (m)  instead of 2.462*10^-4 (m)"
   ]
   }
],
"metadata": {
		  "kernelspec": {
		   "display_name": "Scilab",
		   "language": "scilab",
		   "name": "scilab"
		  },
		  "language_info": {
		   "file_extension": ".sce",
		   "help_links": [
			{
			 "text": "MetaKernel Magics",
			 "url": "https://github.com/calysto/metakernel/blob/master/metakernel/magics/README.md"
			}
		   ],
		   "mimetype": "text/x-octave",
		   "name": "scilab",
		   "version": "0.7.1"
		  }
		 },
		 "nbformat": 4,
		 "nbformat_minor": 0
}
