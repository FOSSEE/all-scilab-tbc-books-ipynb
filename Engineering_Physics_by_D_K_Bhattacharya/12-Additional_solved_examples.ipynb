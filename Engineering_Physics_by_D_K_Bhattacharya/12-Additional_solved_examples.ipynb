{
"cells": [
 {
		   "cell_type": "markdown",
	   "metadata": {},
	   "source": [
       "# Chapter 12: Additional solved examples"
	   ]
	},
{
		   "cell_type": "markdown",
		   "metadata": {},
		   "source": [
			"## Example 12.10: calculate_minimum_and_maximum_number_of_total_internal_reflections_per_metre.sce"
		   ]
		  },
  {
"cell_type": "code",
	   "execution_count": null,
	   "metadata": {
	    "collapsed": true
	   },
	   "outputs": [],
"source": [
"// Additional solved examples , Example 10 , pg 335\n",
"n1=1.5//core refractive index\n",
"n2=1.45//cladding refractive index\n",
"n0=1//refractive index of air\n",
"NA=sqrt(n1^2-n2^2)//numerical aperture\n",
"alpha_m =asin(NA/n0)//angle of acceptance   (in radian)\n",
"a=100*10^-6/2  //radius of core\n",
"phi_m=asin((n0*sin(alpha_m))/n1)//   no*sin(alpha_m)=n1*sin(phi_m)  (in radian)\n",
"L=a/tan(phi_m)  //(in m)\n",
"printf('Minimum number of reflections per metre=zero\n')   //since rays travelling with alpha=0 suffer no internal reflection\n",
"//for rays travelling with alpha=alpha_m ,1 internal reflection takes place for a transversed distance of 2*L\n",
"N=1/(2*L)  //Maximum number of reflections per metre\n",
"disp('Maximum number of reflections per metre(in m^-1)=')\n",
"printf('N=%.0f',N)\n",
"\n",
"//Answer varies as L is restricted to 1.86*10^-4 (m)  instead of 1.888*10^-4 (m)"
   ]
   }
,
{
		   "cell_type": "markdown",
		   "metadata": {},
		   "source": [
			"## Example 12.11: calculate_energy_and_momentum_of_photon.sce"
		   ]
		  },
  {
"cell_type": "code",
	   "execution_count": null,
	   "metadata": {
	    "collapsed": true
	   },
	   "outputs": [],
"source": [
"// Additional solved examples , Example 11 , pg 335\n",
"c=3*10^8 //speed of light(in m/sec)\n",
"h=6.625*10^-34//planck's constant(in  J s)\n",
"lam=1.4*10^-10//wavelength(in m)\n",
"E=(h*c)/(lam*1.6*10^-19)  //energy of photon(in eV)\n",
"p=h/lam  //momentum of photon\n",
"printf('Energy of photo\n')\n",
"printf('E=%.1f eV\n',E)\n",
"printf('momentum of photon(in Kg m/sec)\n')\n",
"disp(p)"
   ]
   }
,
{
		   "cell_type": "markdown",
		   "metadata": {},
		   "source": [
			"## Example 12.12: calculate_number_of_photons_emitted_per_second.sce"
		   ]
		  },
  {
"cell_type": "code",
	   "execution_count": null,
	   "metadata": {
	    "collapsed": true
	   },
	   "outputs": [],
"source": [
"// Additional solved examples , Example 12 , pg 336\n",
"E1=2*10^4 //energy emitted per second(in J)\n",
"n=1000*10^3  //frequency(in Hz)\n",
"h=6.625*10^-34 //plancks constant(in J s)\n",
"E=h*n//energy carried by 1 photon(in J)\n",
"N=E1/E//number of photons emitted per second\n",
"printf('number of photons emitted per second\n')\n",
"disp(N)"
   ]
   }
,
{
		   "cell_type": "markdown",
		   "metadata": {},
		   "source": [
			"## Example 12.13: calculate_de_Broglie_wavelength.sce"
		   ]
		  },
  {
"cell_type": "code",
	   "execution_count": null,
	   "metadata": {
	    "collapsed": true
	   },
	   "outputs": [],
"source": [
"// Additional solved examples , Example 13 , pg 336\n",
"m=0.05//mass(in Kg)\n",
"v=2000//speed(in m/sec)\n",
"h=6.625*10^-34//plancks constant(in J s)\n",
"p=m*v//momentum(in kg m/sec)\n",
"lam=h/p //wavelength\n",
"printf('de Broglie wavelength(in m)\n')\n",
"disp(lam)\n",
"printf('de Broglie wavelength(in A)\n')\n",
"disp(lam*10^10)"
   ]
   }
,
{
		   "cell_type": "markdown",
		   "metadata": {},
		   "source": [
			"## Example 12.14: find_change_in_wavelength.sce"
		   ]
		  },
  {
"cell_type": "code",
	   "execution_count": null,
	   "metadata": {
	    "collapsed": true
	   },
	   "outputs": [],
"source": [
"// Additional solved examples , Example 14 , pg 336\n",
"h=6.625*10^-34//plancksconstant(in J s)\n",
"c=3*10^8//velocity of x-ray photon(in m/sec)\n",
"m0=9.11*10^-31//rest mass of electron(in Kg)\n",
"phi=(85*%pi)/180//angle of scattering (in radian)   (converting degree into radian)\n",
"delta_H=(h*(1-cos(phi)))/(m0*c)//change in wavelength due to compton scattering\n",
"printf('change in wavelength of x-ray photon(in m)\n')\n",
"disp(delta_H)"
   ]
   }
,
{
		   "cell_type": "markdown",
		   "metadata": {},
		   "source": [
			"## Example 12.15: find_miller_indices.sce"
		   ]
		  },
  {
"cell_type": "code",
	   "execution_count": null,
	   "metadata": {
	    "collapsed": true
	   },
	   "outputs": [],
"source": [
"// Additional solved examples , Example 15 , pg 337\n",
"//plane has intercepts  2a,2b,3c along the 3  crystal axes\n",
"//lattice points in 3-d lattice are given by r=p*a+q*b+s*c\n",
"//as p,q,r  are the basic vectors the proportion of intercepts  2:2:3\n",
"p=2\n",
"q=2\n",
"s=3 \n",
"//therefore reciprocal\n",
"r1=1/2\n",
"r2=1/2\n",
"r3=1/3\n",
"//taking LCM\n",
"v=int32([2,2,3])\n",
"l=double(lcm(v))\n",
"m1=(l*r1)\n",
"m2=(l*r2)\n",
"m3=(l*r3)\n",
"printf('miler indices=')\n",
"disp(m3,m2,m1)"
   ]
   }
,
{
		   "cell_type": "markdown",
		   "metadata": {},
		   "source": [
			"## Example 12.16: find_miller_indices.sce"
		   ]
		  },
  {
"cell_type": "code",
	   "execution_count": null,
	   "metadata": {
	    "collapsed": true
	   },
	   "outputs": [],
"source": [
"// Additional solved examples , Example 16 , pg 337\n",
"//plane has intercepts  4a,2b,4c along the 3  crystal axes\n",
"//lattice points in 3-d lattice are given by r=p*a+q*b+s*c\n",
"//as p,q,r  are the basic vectors the proportion of intercepts  2:2:3\n",
"p=4\n",
"q=2\n",
"s=4 \n",
"//therefore reciprocal\n",
"r1=1/4\n",
"r2=1/2\n",
"r3=1/4\n",
"//taking LCM\n",
"v=int32([4,2,4])\n",
"l=double(lcm(v))\n",
"m1=(l*r1)\n",
"m2=(l*r2)\n",
"m3=(l*r3)\n",
"printf('miler indices=')\n",
"disp(m3,m2,m1)"
   ]
   }
,
{
		   "cell_type": "markdown",
		   "metadata": {},
		   "source": [
			"## Example 12.17: find_size_of_unit_cell.sce"
		   ]
		  },
  {
"cell_type": "code",
	   "execution_count": null,
	   "metadata": {
	    "collapsed": true
	   },
	   "outputs": [],
"source": [
"// Additional solved examples , Example 17 , pg 338\n",
"d110=1.96//spacing of(1 1 0) planes   (in Angstrom)\n",
"h=1\n",
"k=1\n",
"l=0 //(h k l)=(1 1 0)\n",
"a=d110*sqrt(h^2+k^2+l^2)//size of unit cell\n",
"printf('size of unit cell=')\n",
"printf('a=%.2f angstrom',a)"
   ]
   }
,
{
		   "cell_type": "markdown",
		   "metadata": {},
		   "source": [
			"## Example 12.18: find_volume_of_unit_cell.sce"
		   ]
		  },
  {
"cell_type": "code",
	   "execution_count": null,
	   "metadata": {
	    "collapsed": true
	   },
	   "outputs": [],
"source": [
"// Additional solved examples , Example 18 , pg 339\n",
"r=1.575 *10^-10 //radius of atom  (in m)\n",
"a=2*r//lattice constant  (for HCP structure)  (in m)\n",
"c=a*sqrt(8/3) //(in m)\n",
"V=(3*sqrt(3)*a^2*c)/2  //volume of unit cell\n",
"printf('volume of unit cell(in m^3)\n')\n",
"disp(V)"
   ]
   }
,
{
		   "cell_type": "markdown",
		   "metadata": {},
		   "source": [
			"## Example 12.19: calculate_Fermi_energy.sce"
		   ]
		  },
  {
"cell_type": "code",
	   "execution_count": null,
	   "metadata": {
	    "collapsed": true
	   },
	   "outputs": [],
"source": [
"// Additional solved examples , Example 19 , pg 339\n",
"Vf=7*10^5    //Fermi velocity (in m/s)\n",
"m=9.11*10^-31    // mass of electron(in Kg)\n",
"Ef=(m*Vf^2)/2    //Fermi energy   (in J)\n",
"printf('Fermi energy for the electrons  in the metal=')\n",
"printf('Ef=%.1f  eV',(Ef/(1.6*10^-19)))       //converting J into  eV\n",
"\n",
"\n",
"\n",
"\n",
"//Answer is given wrong"
   ]
   }
,
{
		   "cell_type": "markdown",
		   "metadata": {},
		   "source": [
			"## Example 12.1: calculate_relative_population.sce"
		   ]
		  },
  {
"cell_type": "code",
	   "execution_count": null,
	   "metadata": {
	    "collapsed": true
	   },
	   "outputs": [],
"source": [
"// Additional solved examples , Example 1 , pg 330\n",
"lam=590*10^-9//wavelength(in m)\n",
"T=270+273  //temperature(in kelvin)   (converting celsius into kelvin)\n",
"k=1.38*10^-23//boltzman constant (in (m^2*Kg)/(s^2*k))\n",
"h=6.625*10^-34//plancks constant(in Js)\n",
"c=3*10^8//speed of light\n",
"N=exp(-(h*c)/(lam*k*T)) //N=(n2/n1)=relative population of atoms in the 1st excited state  and in ground state\n",
"//n1=number of atoms in ground state\n",
"//n2=number of atoms in excited state\n",
"printf('Relative population of Na atoms in the 1st excited state and in ground state\n')\n",
"disp(N)"
   ]
   }
,
{
		   "cell_type": "markdown",
		   "metadata": {},
		   "source": [
			"## Example 12.20: EX12_20.sce"
		   ]
		  },
  {
"cell_type": "code",
	   "execution_count": null,
	   "metadata": {
	    "collapsed": true
	   },
	   "outputs": [],
"source": [
"// Additional solved examples , Example 20 , pg 339\n",
"rho=1.8*10^-8    //resistivity   (in ohm*m)\n",
"Ef=4.8      //Fermi energy    (in eV)\n",
"E=100  //electric field intensity   (in V/m)\n",
"n=6.2*10^28     //concentration of electrons    (in atoms/m^3)\n",
"e=1.6*10^-19    //charge in electron    (in C)\n",
"Me=9.11*10^-31    //mass of electron  (in Kg)\n",
"T=Me/(rho*n*e^2)     //relaxation time\n",
"Un=(e*T)/Me     //mobility of electron\n",
"Vd=(e*T*E)/Me      //drift velocity\n",
"Vf=sqrt((2*Ef*e)/Me)     //Fermi velocity\n",
"lam_m=Vf*T    //mean free path\n",
"\n",
"printf('Relaxation time of electron (in s)')\n",
"disp(T)\n",
"printf('Mobility of electron  (in m^2/(V*s))')\n",
"disp(Un)\n",
"printf('Drift velocity of electron (in m/s)')\n",
"disp(Vd)\n",
"printf('Fermi velocity of electrons (in m/s)')\n",
"disp(Vf)\n",
"printf('Mean free path(in m)')\n",
"disp(lam_m)"
   ]
   }
,
{
		   "cell_type": "markdown",
		   "metadata": {},
		   "source": [
			"## Example 12.21: evaluate_value_of_F_E.sce"
		   ]
		  },
  {
"cell_type": "code",
	   "execution_count": null,
	   "metadata": {
	    "collapsed": true
	   },
	   "outputs": [],
"source": [
"// Additional solved examples , Example 21 , pg 341\n",
"del_E=0.02*1.6*10^-19   //  del_E = E-Ef (in J)    (converting eV into J)\n",
"T=220    //temperature   (in K)\n",
"k=1.38*10^-23   //boltzmanns constant  (in J/K)\n",
"F_E=1/(1+exp(del_E/(k*T)))    //Fermi Dirac distribution function\n",
"printf('F_E=%.3f',F_E)"
   ]
   }
,
{
		   "cell_type": "markdown",
		   "metadata": {},
		   "source": [
			"## Example 12.22: calculate_how_is_Ef_located_relative_to_Ei.sce"
		   ]
		  },
  {
"cell_type": "code",
	   "execution_count": null,
	   "metadata": {
	    "collapsed": true
	   },
	   "outputs": [],
"source": [
"// Additional solved examples , Example 22 , pg 341\n",
"ni=1.5*10^10      //intrinsic concentration   (in cm^-3)\n",
"Nd=5*10^15    //donor concentration   (in atoms/cm^3)\n",
"T=300     //temperature    (in K)\n",
"e=1.6*10^-19    //charge of electron    (in C)\n",
"k=1.38*10^-23     //Boltzmann constant    (in J/K)\n",
"n0=Nd     //Assuming  n0=Nd      ( since    Nd >> ni)\n",
"p0=ni^2/n0     //hole concentration\n",
"E=k*T*log(n0/ni)     // E=(Ef-Ei)    location of Ef relative to Ei\n",
"printf('Hole concentration (in cm^-3)')\n",
"disp(p0)\n",
"printf('Location of Ef relative to Ei   (in eV)')\n",
"disp(E/e)\n",
"x = linspace(-5.5,5.5,51);\n",
"y = 1 ;\n",
"\n",
"scf(2);\n",
"clf(2);\n",
"plot(x,y+0.1);\n",
"\n",
"plot(x,y,'ro-');\n",
"plot(x,y-0.329,'--');\n",
"plot(x,y*0,'bs:');\n",
"xlabel(['x axis';'(independent variable)']);\n",
"ylabel('Energy level  (eV)');\n",
"title('Band diagram');\n",
"legend(['Ec';'Ef';'Ei';'Ev']);\n",
"set(gca(),'data_bounds',matrix([-6,6,-0.1,1.1],2,-1));"
   ]
   }
,
{
		   "cell_type": "markdown",
		   "metadata": {},
		   "source": [
			"## Example 12.23: find_magnitude_of_Hall_voltage.sce"
		   ]
		  },
  {
"cell_type": "code",
	   "execution_count": null,
	   "metadata": {
	    "collapsed": true
	   },
	   "outputs": [],
"source": [
"// Additional solved examples , Example 23 , pg 342\n",
"I=40   //current  (in A)\n",
"B=1.4   //magnetic field   (in T)\n",
"d=2*10^-2   //width of slab   (in m)\n",
"n=8.4*10^28    //concentration of electrons (in m^-3)\n",
"e=1.6*10^-19    // charge   (in C)\n",
"VH=(B*I)/(n*e*d)    //Hall  voltage\n",
"printf('Hall voltage(in V)=')\n",
"disp(VH)"
   ]
   }
,
{
		   "cell_type": "markdown",
		   "metadata": {},
		   "source": [
			"## Example 12.24: calculate_Hall_voltage_and_Hall_coefficient.sce"
		   ]
		  },
  {
"cell_type": "code",
	   "execution_count": null,
	   "metadata": {
	    "collapsed": true
	   },
	   "outputs": [],
"source": [
"// Additional solved examples , Example 24 , pg 342\n",
"e=1.6*10^-19    //charge in electron (in C)\n",
"Ix=2*10^-3    //current (in A)\n",
"d=220*10^-4     //thickness   (in cm)\n",
"Bz=5*10^-5    //magnetic induction   (in Wb/cm^2)\n",
"Un=800    //electron mobility   (in cm^2/(V*s))\n",
"n=9*10^16     //doping concentration    (in atoms/cm^3)\n",
"\n",
"sigma=n*e*(Un)    // electrical conductivity\n",
"rho=1/sigma    //resistivity\n",
"Rh=-1/(e*n)    //Hall coefficient\n",
"Vh=-(Ix*Bz)/(d*e*n)    //Hall  voltage\n",
"printf('Resistivity(in ohm*cm)')\n",
"disp(rho)\n",
"printf('Hall coefficient(in cm^3/C)')\n",
"disp(Rh)\n",
"printf('Hall voltage (in V)')\n",
"disp(Vh)"
   ]
   }
,
{
		   "cell_type": "markdown",
		   "metadata": {},
		   "source": [
			"## Example 12.25: determine_magnitude_and_direction_of_magnetic_moment.sce"
		   ]
		  },
  {
"cell_type": "code",
	   "execution_count": null,
	   "metadata": {
	    "collapsed": true
	   },
	   "outputs": [],
"source": [
"// Additional solved examples , Example 25 , pg 343\n",
"I=10 // current(in A)\n",
"A=8*10^-4 //area(in m^2)\n",
"M=I*A    //magnetic moment associated  with  the loop\n",
"printf('Magnetic moment associated with  the loop(in   A m^2)=')\n",
"disp(M)\n",
"printf('M is directed away from  the observer  and is perpendicular  to the plane  of the loop')"
   ]
   }
,
{
		   "cell_type": "markdown",
		   "metadata": {},
		   "source": [
			"## Example 12.26: determine_magnitude_and_direction_of_magnetic_moment.sce"
		   ]
		  },
  {
"cell_type": "code",
	   "execution_count": null,
	   "metadata": {
	    "collapsed": true
	   },
	   "outputs": [],
"source": [
"// Additional solved examples , Example 26 , pg 343\n",
"I=22 // current(in A)\n",
"A=9*10^-3 //area(in m^2)\n",
"M=I*A    //magnetic moment associated  with  the loop\n",
"printf('Magnetic moment associated with  the loop(in   A m^2)=')\n",
"disp(M)\n",
"printf('M is directed towards the observer  and is perpendicular  to the plane  of the loop')"
   ]
   }
,
{
		   "cell_type": "markdown",
		   "metadata": {},
		   "source": [
			"## Example 12.27: determine_magnetic_moment.sce"
		   ]
		  },
  {
"cell_type": "code",
	   "execution_count": null,
	   "metadata": {
	    "collapsed": true
	   },
	   "outputs": [],
"source": [
"// Additional solved examples , Example 27 , pg 344\n",
"r=0.62*10^-10   //radius of orbit   (in m)\n",
"e= 1.6*10^-19   //charge on electron  (in C)\n",
"n=10^15    //frequency of revolution of electron  (in  rps)\n",
"I=e*n      //current   (in A)\n",
"A=%pi *r^2   //area   (in  m^2)\n",
"M=I*A  //magnetic moment associated with  motion of electron \n",
"printf('Magnetic moment associated with  motion of electron (in  A m^2)')\n",
"disp(M)"
   ]
   }
,
{
		   "cell_type": "markdown",
		   "metadata": {},
		   "source": [
			"## Example 12.28: calculate_permeability.sce"
		   ]
		  },
  {
"cell_type": "code",
	   "execution_count": null,
	   "metadata": {
	    "collapsed": true
	   },
	   "outputs": [],
"source": [
"// Additional solved examples , Example 28 , pg 344\n",
"H=2000  //magnetizing field  (in  A/m)\n",
"phi=5*10^-5   //magnetic  flux   (in Wb)\n",
"A=0.2 *10^-4  //area  (in m^2)\n",
"B=phi/A    //magnetic flux density   (in Wb/m^2)\n",
"u=B/H    //permeability    (in H/m)\n",
"printf('permeability (in  H/m )=')\n",
"disp(u)"
   ]
   }
,
{
		   "cell_type": "markdown",
		   "metadata": {},
		   "source": [
			"## Example 12.29: calculate_susceptibility.sce"
		   ]
		  },
  {
"cell_type": "code",
	   "execution_count": null,
	   "metadata": {
	    "collapsed": true
	   },
	   "outputs": [],
"source": [
"// Additional solved examples , Example 29 , pg 345\n",
"ur=4000   //relative permeability\n",
"xm=ur-1   //magnetic susceptibility\n",
"printf('Magnetic susceptibility=')\n",
"disp(xm)"
   ]
   }
,
{
		   "cell_type": "markdown",
		   "metadata": {},
		   "source": [
			"## Example 12.2: determine_relative_population.sce"
		   ]
		  },
  {
"cell_type": "code",
	   "execution_count": null,
	   "metadata": {
	    "collapsed": true
	   },
	   "outputs": [],
"source": [
"// Additional solved examples , Example 2 , pg 330\n",
"lam=500*10^-9//wavelength(in m)\n",
"T=250+273  //temperature(in kelvin)   (converting celsius into kelvin)\n",
"k=1.38*10^-23//boltzman constant (in (m^2*Kg)/(s^2*k))\n",
"h=6.625*10^-34//plancks constant(in Js)\n",
"c=3*10^8//speed of light\n",
"N=exp(-(h*c)/(lam*k*T)) //N=(n2/n1)=relative population of atoms in the 1st excited state  and in ground state\n",
"//n1=number of atoms in ground state\n",
"//n2=number of atoms in excited state\n",
"printf('Relative population of Na atoms in the 1st excited state and in ground state\n')\n",
"disp(N)"
   ]
   }
,
{
		   "cell_type": "markdown",
		   "metadata": {},
		   "source": [
			"## Example 12.30: determine_critical_current.sce"
		   ]
		  },
  {
"cell_type": "code",
	   "execution_count": null,
	   "metadata": {
	    "collapsed": true
	   },
	   "outputs": [],
"source": [
"// Additional solved examples , Example 30 , pg 345\n",
"H0=6*10^4     //magnetic field intensity at 0K   (in  A/m)\n",
"T=4.2      //temperature   (in K)\n",
"Tc=8     //critical temperature  (in K)\n",
"Hc=H0*(1-(T^2/Tc^2))    // critical magnetic field intensity\n",
"printf('critical magnetic field intensity\n')\n",
"printf('Hc=%.0f   A/m',Hc)"
   ]
   }
,
{
		   "cell_type": "markdown",
		   "metadata": {},
		   "source": [
			"## Example 12.31: calculate_critical_current.sce"
		   ]
		  },
  {
"cell_type": "code",
	   "execution_count": null,
	   "metadata": {
	    "collapsed": true
	   },
	   "outputs": [],
"source": [
"// Additional solved examples , Example 31 , pg 346\n",
"H0=7*10^4     //magnetic field intensity at 0K   (in  A/m)\n",
"T=4.2      //temperature   (in K)\n",
"Tc=8.2     //critical temperature  (in K)\n",
"Hc=H0*(1-(T^2/Tc^2))    // critical magnetic field intensity\n",
"printf('critical magnetic field intensity\n')\n",
"printf('Hc=%.0f   A/m',Hc)"
   ]
   }
,
{
		   "cell_type": "markdown",
		   "metadata": {},
		   "source": [
			"## Example 12.32: calculate_isotopic_mass.sce"
		   ]
		  },
  {
"cell_type": "code",
	   "execution_count": null,
	   "metadata": {
	    "collapsed": true
	   },
	   "outputs": [],
"source": [
"// Additional solved examples , Example 32 , pg 346\n",
"M1=198.5    //isotopic mass\n",
"Tc1=4.175    //critical temperature for M1   (in K)\n",
"Tc2=4.213    //critical temperature for M2   (in K)\n",
"alpha=0.5\n",
"\n",
"//M^alpha * Tc=constant\n",
"M2=((M1^alpha*Tc1)/Tc2)^(1/alpha)\n",
"printf('Isotopic mass at critical temperature 4.133K\n')\n",
"printf('M2=%.3f ',M2)\n",
""
   ]
   }
,
{
		   "cell_type": "markdown",
		   "metadata": {},
		   "source": [
			"## Example 12.33: calculate_isotopic_mass.sce"
		   ]
		  },
  {
"cell_type": "code",
	   "execution_count": null,
	   "metadata": {
	    "collapsed": true
	   },
	   "outputs": [],
"source": [
"// Additional solved examples , Example 33 , pg 346\n",
"M1=199    //isotopic mass\n",
"Tc1=4.18    //critical temperature for M1   (in K)\n",
"Tc2=4.14    //critical temperature for M2   (in K)\n",
"alpha=0.5\n",
"\n",
"//M^alpha * Tc=constant\n",
"M2=((M1^alpha*Tc1)/Tc2)^(1/alpha)\n",
"printf('Isotopic mass at critical temperature 4.133K\n')\n",
"printf('M2=%.4f ',M2)\n",
""
   ]
   }
,
{
		   "cell_type": "markdown",
		   "metadata": {},
		   "source": [
			"## Example 12.3: calculate_ratio_of_stimulated_emission_to_spontaneous_emission.sce"
		   ]
		  },
  {
"cell_type": "code",
	   "execution_count": null,
	   "metadata": {
	    "collapsed": true
	   },
	   "outputs": [],
"source": [
"// Additional solved examples , Example 3 , pg 331\n",
"T=260+273 //temperature(in kelvin)   (converting celsius into kelvin)\n",
"h=6.625*10^-34//plancks constant(in Js)\n",
"c=3*10^8//speed of light(in m/s)\n",
"lam=590*10^-9//wavelength(in m)\n",
"k=1.38*10^-23//boltzman constant (in (m^2*Kg)/(s^2*k))\n",
"N=1/(exp((h*c)/(lam*k*T))-1)  //N=((n21)'/(n21))   ratio of stimulated  emission to spontaneous  emission\n",
"printf('Ratio of stimulated  emission to spontaneous  emission is')\n",
"disp(N)"
   ]
   }
,
{
		   "cell_type": "markdown",
		   "metadata": {},
		   "source": [
			"## Example 12.4: calculate_number_of_photons_emitted_per_minute.sce"
		   ]
		  },
  {
"cell_type": "code",
	   "execution_count": null,
	   "metadata": {
	    "collapsed": true
	   },
	   "outputs": [],
"source": [
"// Additional solved examples , Example 4 , pg 331\n",
"lam=632.8*10^-9//wavelength(in m)\n",
"Em=3.16*10^-3*60//energy emitted per minute(in J/min)\n",
"c=3*10^8//speed of light(in m/s)\n",
"h=6.625*10^-34//plancks constant(in Js)\n",
"n=c/lam  //frequency of emitted photons(in Hz)\n",
"E=h*n  //energy of each photon(in J)\n",
"N=Em/E  //number of photons emitted per minute\n",
"printf('Number of photons emitted per minute')\n",
"disp(N)"
   ]
   }
,
{
		   "cell_type": "markdown",
		   "metadata": {},
		   "source": [
			"## Example 12.5: calculate_number_of_photons_emitted_per_minute.sce"
		   ]
		  },
  {
"cell_type": "code",
	   "execution_count": null,
	   "metadata": {
	    "collapsed": true
	   },
	   "outputs": [],
"source": [
"// Additional solved examples , Example 5 , pg 332\n",
"lam=540*10^-9//wavelength(in m)\n",
"Em=5*10^-3*60//energy emitted per minute(in J/min)\n",
"c=3*10^8//speed of light(in m/s)\n",
"h=6.625*10^-34//plancks constant(in Js)\n",
"n=c/lam  //frequency of emitted photons(in Hz)\n",
"E=h*n  //energy of each photon(in J)\n",
"N=Em/E  //number of photons emitted per minute\n",
"printf('Number of photons emitted per minute')\n",
"disp(N)"
   ]
   }
,
{
		   "cell_type": "markdown",
		   "metadata": {},
		   "source": [
			"## Example 12.6: find_NA_and_critical_angle_and_alpha_m.sce"
		   ]
		  },
  {
"cell_type": "code",
	   "execution_count": null,
	   "metadata": {
	    "collapsed": true
	   },
	   "outputs": [],
"source": [
"// Additional solved examples , Example 6 , pg 332\n",
"n1=1.5//core refractive index\n",
"n2=1.45//cladding refractive index\n",
"n0=1//refractive index of air\n",
"NA=sqrt(n1^2-n2^2)//numerical aperture\n",
"alpha_m =asin(NA/n0)//angle of acceptance   (in radian)\n",
"phi_m=asin((n0*sin(alpha_m))/n1)//   no*sin(alpha_m)=n1*sin(phi_m) (in radian)\n",
"phi_c=asin(n2/n1)  //critical angle   (in radian)\n",
"printf('NA=%.2f \n',NA)\n",
"printf('alpha_m=%.2f  degree\n',(alpha_m*180)/%pi)\n",
"printf('phi_m=%.2f degree\n',(phi_m*180)/%pi)\n",
"printf('phi_c=%.2f  degree',(phi_c*180)/%pi)"
   ]
   }
,
{
		   "cell_type": "markdown",
		   "metadata": {},
		   "source": [
			"## Example 12.7: find_NA_and_critical_angle_and_alpha_m.sce"
		   ]
		  },
  {
"cell_type": "code",
	   "execution_count": null,
	   "metadata": {
	    "collapsed": true
	   },
	   "outputs": [],
"source": [
"// Additional solved examples , Example 7 , pg 333\n",
"n1=1.5//core refractive index\n",
"n2=1.45//cladding refractive index\n",
"n0=1.1//refractive index of medium\n",
"NA=sqrt(n1^2-n2^2)//numerical aperture\n",
"alpha_m =asin(NA/n0)//angle of acceptance   (in radian)\n",
"phi_m=asin((n0*sin(alpha_m))/n1)//   no*sin(alpha_m)=n1*sin(phi_m) (in radian)\n",
"phi_c=asin(n2/n1)  //critical angle   (in radian)\n",
"printf('NA=%.2f \n',NA)\n",
"printf('alpha_m=%.2f  degree\n',(alpha_m*180)/%pi)\n",
"printf('phi_m=%.2f degree\n',(phi_m*180)/%pi)\n",
"printf('phi_c=%.2f  degree',(phi_c*180)/%pi)"
   ]
   }
,
{
		   "cell_type": "markdown",
		   "metadata": {},
		   "source": [
			"## Example 12.8: calculate_pulse_broadening_per_unit_length.sce"
		   ]
		  },
  {
"cell_type": "code",
	   "execution_count": null,
	   "metadata": {
	    "collapsed": true
	   },
	   "outputs": [],
"source": [
"// Additional solved examples , Example 8 , pg 334\n",
"n1=1.5//core refractive index\n",
"n2=1.45//cladding refractive index\n",
"c=3*10^8//speed of light(in m/s)\n",
"P=(n1*(n1-n2))/(n2*c)  //pulse broadening per unit length due to multiple dispersion\n",
"//P=(del_t/L)    where del_t=time interval  , L=distance  transversed by ray inside core\n",
"printf('pulse broadening per unit length due to multiple dispersion(in s/m)')\n",
"disp(P)"
   ]
   }
,
{
		   "cell_type": "markdown",
		   "metadata": {},
		   "source": [
			"## Example 12.9: calculate_pulse_broadening_per_unit_length.sce"
		   ]
		  },
  {
"cell_type": "code",
	   "execution_count": null,
	   "metadata": {
	    "collapsed": true
	   },
	   "outputs": [],
"source": [
"// Additional solved examples , Example 9 , pg 334\n",
"n1=1.55//core refractive index\n",
"n2=1.48//cladding refractive index\n",
"c=3*10^8//speed of light(in m/s)\n",
"P=(n1*(n1-n2))/(n2*c)  //pulse broadening per unit length due to multiple dispersion\n",
"//P=(del_t/L)    where del_t=time interval  , L=distance  transversed by ray inside core\n",
"printf('pulse broadening per unit length due to multiple dispersion(in s/m)')\n",
"disp(P)"
   ]
   }
],
"metadata": {
		  "kernelspec": {
		   "display_name": "Scilab",
		   "language": "scilab",
		   "name": "scilab"
		  },
		  "language_info": {
		   "file_extension": ".sce",
		   "help_links": [
			{
			 "text": "MetaKernel Magics",
			 "url": "https://github.com/calysto/metakernel/blob/master/metakernel/magics/README.md"
			}
		   ],
		   "mimetype": "text/x-octave",
		   "name": "scilab",
		   "version": "0.7.1"
		  }
		 },
		 "nbformat": 4,
		 "nbformat_minor": 0
}
