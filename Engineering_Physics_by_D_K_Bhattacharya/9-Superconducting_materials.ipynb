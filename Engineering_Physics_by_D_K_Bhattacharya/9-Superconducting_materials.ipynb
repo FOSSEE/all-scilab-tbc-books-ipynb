{
"cells": [
 {
		   "cell_type": "markdown",
	   "metadata": {},
	   "source": [
       "# Chapter 9: Superconducting materials"
	   ]
	},
{
		   "cell_type": "markdown",
		   "metadata": {},
		   "source": [
			"## Example 9.1: calculate_critical_magnetic_field_intensity.sce"
		   ]
		  },
  {
"cell_type": "code",
	   "execution_count": null,
	   "metadata": {
	    "collapsed": true
	   },
	   "outputs": [],
"source": [
"// chapter 9 , Example9.1 , pg 255\n",
"H0=6.5*10^4     //magnetic field intensity at 0K   (in  A/m)\n",
"T=4.2      //temperature   (in K)\n",
"Tc=7.18     //critical temperature  (in K)\n",
"Hc=H0*(1-(T^2/Tc^2))    // critical magnetic field intensity\n",
"printf('critical magnetic field intensity\n')\n",
"printf('Hc=%.0f   A/m',Hc)"
   ]
   }
,
{
		   "cell_type": "markdown",
		   "metadata": {},
		   "source": [
			"## Example 9.2: calculate_isotopic_mass.sce"
		   ]
		  },
  {
"cell_type": "code",
	   "execution_count": null,
	   "metadata": {
	    "collapsed": true
	   },
	   "outputs": [],
"source": [
"// chapter 9 , Example9.2 , pg 255\n",
"M1=199.5    //isotopic mass\n",
"Tc1=4.185    //critical temperature for M1   (in K)\n",
"Tc2=4.133    //critical temperature for M2   (in K)\n",
"alpha=0.5\n",
"\n",
"//M^alpha * Tc=constant\n",
"M2=((M1^alpha*Tc1)/Tc2)^(1/alpha)\n",
"printf('Isotopic mass at critical temperature 4.133K\n')\n",
"printf('M2=%.3f ',M2)"
   ]
   }
],
"metadata": {
		  "kernelspec": {
		   "display_name": "Scilab",
		   "language": "scilab",
		   "name": "scilab"
		  },
		  "language_info": {
		   "file_extension": ".sce",
		   "help_links": [
			{
			 "text": "MetaKernel Magics",
			 "url": "https://github.com/calysto/metakernel/blob/master/metakernel/magics/README.md"
			}
		   ],
		   "mimetype": "text/x-octave",
		   "name": "scilab",
		   "version": "0.7.1"
		  }
		 },
		 "nbformat": 4,
		 "nbformat_minor": 0
}
