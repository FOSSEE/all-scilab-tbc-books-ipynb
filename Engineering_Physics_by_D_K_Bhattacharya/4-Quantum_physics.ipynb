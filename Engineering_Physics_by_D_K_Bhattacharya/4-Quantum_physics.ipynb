{
"cells": [
 {
		   "cell_type": "markdown",
	   "metadata": {},
	   "source": [
       "# Chapter 4: Quantum physics"
	   ]
	},
{
		   "cell_type": "markdown",
		   "metadata": {},
		   "source": [
			"## Example 4.1: calculate_energy_and_momentum_of_photon.sce"
		   ]
		  },
  {
"cell_type": "code",
	   "execution_count": null,
	   "metadata": {
	    "collapsed": true
	   },
	   "outputs": [],
"source": [
"// chapter 4 , Example4 1 , pg 117\n",
"c=3*10^8 //speed of light(in m/sec)\n",
"h=6.625*10^-34//planck's constant(in  J s)\n",
"lam=1.2*10^-10//wavelength(in m)\n",
"E=(h*c)/(lam*1.6*10^-19)  //energy of photon(in eV)\n",
"p=h/lam  //momentum of photon\n",
"printf('Energy of photo\n')\n",
"printf('E=%.1f eV\n',E)\n",
"printf('momentum of photon(in Kg m/sec)\n')\n",
"disp(p)"
   ]
   }
,
{
		   "cell_type": "markdown",
		   "metadata": {},
		   "source": [
			"## Example 4.2: calculate_number_of_photons_emitted_per_second.sce"
		   ]
		  },
  {
"cell_type": "code",
	   "execution_count": null,
	   "metadata": {
	    "collapsed": true
	   },
	   "outputs": [],
"source": [
"// chapter 4 , Example 4.2 , pg 117\n",
"E1=10^4 //energy emitted per second(in J)\n",
"n=900*10^3  //frequency(in Hz)\n",
"h=6.625*10^-34 //plancks constant(in J s)\n",
"E=h*n//energy carried by 1 photon(in J)\n",
"N=E1/E//number of photons emitted per second\n",
"printf('number of photons emitted per second\n')\n",
"disp(N)"
   ]
   }
,
{
		   "cell_type": "markdown",
		   "metadata": {},
		   "source": [
			"## Example 4.3: determine_number_of_photons_emitted_per_second.sce"
		   ]
		  },
  {
"cell_type": "code",
	   "execution_count": null,
	   "metadata": {
	    "collapsed": true
	   },
	   "outputs": [],
"source": [
"// chapter 4 , Example 4.3 , pg 118\n",
"c=3*10^8//speed of light(in m/sec)\n",
"h=6.625*10^-34//plancks constant(in J s)\n",
"E1=100//energy emitted per second(in J)\n",
"lam=5893*10^-10//wavelength(in m)\n",
"E=(h*c)/lam  //energy carried by 1 photon\n",
"N=E1/E//number of photons emitted per second\n",
"printf('number of photons emitted per second\n')\n",
"disp(N)\n",
"\n",
"\n",
"//answer mentioned is wrong"
   ]
   }
,
{
		   "cell_type": "markdown",
		   "metadata": {},
		   "source": [
			"## Example 4.4: find_the_wavelength.sce"
		   ]
		  },
  {
"cell_type": "code",
	   "execution_count": null,
	   "metadata": {
	    "collapsed": true
	   },
	   "outputs": [],
"source": [
"// chapter 4 , Example 4.4 , pg 118\n",
"lam=2.8*10^-10//wavelength (in m)\n",
"theta=(30*%pi)/180//viewing angle(in radian)   (converting degree into radian)\n",
"c=3*10^8//speed of light(in m/sec)\n",
"h=6.625*10^-34//plancks constant(in J s)\n",
"m0=9.11*10^-31//rest mass of electron(in Kg)\n",
"lam1=lam+((2*h)*sin(theta/2)^2)/(m0*c) //wavelength of scattered radiation\n",
"printf('wavelength of scattered radiation(in m)\n')\n",
"disp(lam1)\n",
"printf('wavelength of scattered radiation(in Angstrom)\n')\n",
"disp(lam1*10^10)\n",
"\n",
"\n",
"//calculation is done assuming h=6.6*10^-34 Js in book"
   ]
   }
,
{
		   "cell_type": "markdown",
		   "metadata": {},
		   "source": [
			"## Example 4.5: calculate_de_Broglie_wavelength.sce"
		   ]
		  },
  {
"cell_type": "code",
	   "execution_count": null,
	   "metadata": {
	    "collapsed": true
	   },
	   "outputs": [],
"source": [
"// chapter 4 , Example 4.5 , pg 119\n",
"m=0.04//mass(in Kg)\n",
"v=1000//speed(in m/sec)\n",
"h=6.625*10^-34//plancks constant(in J s)\n",
"p=m*v//momentum(in kg m/sec)\n",
"lam=h/p //wavelength\n",
"printf('de Broglie wavelength(in m)\n')\n",
"disp(lam)\n",
"printf('de Broglie wavelength(in A)\n')\n",
"disp(lam*10^10)\n",
"\n",
"\n",
"\n",
"//calculation is done assuming h=6.6*10^-34 Js"
   ]
   }
,
{
		   "cell_type": "markdown",
		   "metadata": {},
		   "source": [
			"## Example 4.6: find_energy_of_particle.sce"
		   ]
		  },
  {
"cell_type": "code",
	   "execution_count": null,
	   "metadata": {
	    "collapsed": true
	   },
	   "outputs": [],
"source": [
"// chapter 4 , Example 4.6 , pg 119\n",
"a=0.1 *10^-9  //width  (in m)\n",
"n=1// lowest  energy state of particle is obtained at n=1\n",
"h=6.625*10^-34 //plancks constant(in Js)\n",
"m=9.11*10^-31//mass of electron (in Kg)\n",
"E=(h^2)/(8*m*a^2)//energy of an electron\n",
"printf('Energy of electron in ground state(in J)\n')\n",
"disp(E)\n",
"printf('E=%.3f eV',E/(1.6025*10^-19))\n",
""
   ]
   }
,
{
		   "cell_type": "markdown",
		   "metadata": {},
		   "source": [
			"## Example 4.7: calculate_minimum_energy.sce"
		   ]
		  },
  {
"cell_type": "code",
	   "execution_count": null,
	   "metadata": {
	    "collapsed": true
	   },
	   "outputs": [],
"source": [
"// chapter 4 , Example 4.7 , pg 120\n",
"a=4*10^-9  //width  (in m)\n",
"n=1// lowest  energy state of particle is obtained at n=1\n",
"h=6.625*10^-34 //plancks constant(in Js)\n",
"m=9.11*10^-31//mass of electron (in Kg)\n",
"E=(h^2)/(8*m*a^2)//energy of an electron\n",
"printf('Energy of electron in ground state(in J)\n')\n",
"disp(E)\n",
"printf('E=%.5f eV',E/(1.6025*10^-19))\n",
""
   ]
   }
,
{
		   "cell_type": "markdown",
		   "metadata": {},
		   "source": [
			"## Example 4.8: EX4_8.sce"
		   ]
		  },
  {
"cell_type": "code",
	   "execution_count": null,
	   "metadata": {
	    "collapsed": true
	   },
	   "outputs": [],
"source": [
"// chapter 4 , Example 4.8 , pg 120\n",
"a=0.1 *10^-9  //width  (in m)\n",
"n1=1// lowest  energy state of particle is obtained at n=1\n",
"n=6  //6th excited state hance n=6\n",
"h=6.625*10^-34 //plancks constant(in Js)\n",
"m=9.11*10^-31//mass of electron (in Kg)\n",
"//E=(n^2*h^2)/(8*m*a^2)    n=excited state of electron \n",
"E1=(n1^2*h^2)/(8*m*a^2)//energy of an electron in ground state (in J)\n",
"E6=(n^2*h^2)/(8*m*a^2)//energy at 6th excuted state(in J)\n",
"E=E6-E1//energy required to excite the electron from ground state  to the 6th excited state\n",
"printf('energy required to excite the electron from ground state  to the 6th excited state(in J)\n')\n",
"disp(E)\n",
"printf('E=%.2f eV',(E/(1.6025*10^-19)))"
   ]
   }
,
{
		   "cell_type": "markdown",
		   "metadata": {},
		   "source": [
			"## Example 4.9: find_change_in_wavelength.sce"
		   ]
		  },
  {
"cell_type": "code",
	   "execution_count": null,
	   "metadata": {
	    "collapsed": true
	   },
	   "outputs": [],
"source": [
"// chapter 4 , Example 4.9 , pg 121\n",
"h=6.625*10^-34//plancksconstant(in J s)\n",
"c=3*10^8//velocity of x-ray photon(in m/sec)\n",
"m0=9.11*10^-31//rest mass of electron(in Kg)\n",
"phi=(90*%pi)/180//angle of scattering (in radian)   (converting degree into radian)\n",
"delta_H=(h*(1-cos(phi)))/(m0*c)//change in wavelength due to compton scattering\n",
"printf('change in wavelength of x-ray photon(in m)\n')\n",
"disp(delta_H)"
   ]
   }
],
"metadata": {
		  "kernelspec": {
		   "display_name": "Scilab",
		   "language": "scilab",
		   "name": "scilab"
		  },
		  "language_info": {
		   "file_extension": ".sce",
		   "help_links": [
			{
			 "text": "MetaKernel Magics",
			 "url": "https://github.com/calysto/metakernel/blob/master/metakernel/magics/README.md"
			}
		   ],
		   "mimetype": "text/x-octave",
		   "name": "scilab",
		   "version": "0.7.1"
		  }
		 },
		 "nbformat": 4,
		 "nbformat_minor": 0
}
