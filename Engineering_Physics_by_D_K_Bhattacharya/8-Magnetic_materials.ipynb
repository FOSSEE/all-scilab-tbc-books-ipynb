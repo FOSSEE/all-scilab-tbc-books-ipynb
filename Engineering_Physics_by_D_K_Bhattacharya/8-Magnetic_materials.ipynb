{
"cells": [
 {
		   "cell_type": "markdown",
	   "metadata": {},
	   "source": [
       "# Chapter 8: Magnetic materials"
	   ]
	},
{
		   "cell_type": "markdown",
		   "metadata": {},
		   "source": [
			"## Example 8.1: Determine_magnitude_and_direction_of_magnetic_moment.sce"
		   ]
		  },
  {
"cell_type": "code",
	   "execution_count": null,
	   "metadata": {
	    "collapsed": true
	   },
	   "outputs": [],
"source": [
"// chapter 8 , Example 8.1 , pg 238\n",
"I=12 // current(in A)\n",
"A=7.5*10^-4 //area(in m^2)\n",
"M=I*A    //magnetic moment associated  with  the loop\n",
"printf('Magnetic moment associated with  the loop(in   A m^2)=')\n",
"disp(M)\n",
"printf('M is directed away from  the observer  and is perpendicular  to the plane  of the loop')"
   ]
   }
,
{
		   "cell_type": "markdown",
		   "metadata": {},
		   "source": [
			"## Example 8.2: Determine_magnetic_moment.sce"
		   ]
		  },
  {
"cell_type": "code",
	   "execution_count": null,
	   "metadata": {
	    "collapsed": true
	   },
	   "outputs": [],
"source": [
"// chapter 8 , Example 8.2 , pg 238\n",
"r=0.5*10^-10   //radius of orbit   (in m)\n",
"e= 1.6*10^-19   //charge on electron  (in C)\n",
"n=10^16    //frequency of revolution of electron  (in  rps)\n",
"I=e*n      //current   (in A)\n",
"A=%pi *r^2   //area   (in  m^2)\n",
"M=I*A  //magnetic moment associated with  motion of electron \n",
"printf('Magnetic moment associated with  motion of electron (in  A m^2)')\n",
"disp(M)"
   ]
   }
,
{
		   "cell_type": "markdown",
		   "metadata": {},
		   "source": [
			"## Example 8.3: calculate_magnetic_susceptibility.sce"
		   ]
		  },
  {
"cell_type": "code",
	   "execution_count": null,
	   "metadata": {
	    "collapsed": true
	   },
	   "outputs": [],
"source": [
"// chapter 8 , Example 8.3 , pg 239\n",
"ur=5000   //relative permeability\n",
"xm=ur-1   //magnetic susceptibility\n",
"printf('Magnetic susceptibility=')\n",
"disp(xm)"
   ]
   }
,
{
		   "cell_type": "markdown",
		   "metadata": {},
		   "source": [
			"## Example 8.4: calculate_permeability.sce"
		   ]
		  },
  {
"cell_type": "code",
	   "execution_count": null,
	   "metadata": {
	    "collapsed": true
	   },
	   "outputs": [],
"source": [
"// chapter 8 , Example 8.4 , pg 239\n",
"H=1800  //magnetizing field  (in  A/m)\n",
"phi=3*10^-5   //magnetic  flux   (in Wb)\n",
"A=0.2 *10^-4  //area  (in m^2)\n",
"B=phi/A    //magnetic flux density   (in Wb/m^2)\n",
"u=B/H    //permeability    (in H/m)\n",
"printf('permeability (in  H/m )=')\n",
"disp(u)"
   ]
   }
,
{
		   "cell_type": "markdown",
		   "metadata": {},
		   "source": [
			"## Example 8.5: calculate_magnetic_moment.sce"
		   ]
		  },
  {
"cell_type": "code",
	   "execution_count": null,
	   "metadata": {
	    "collapsed": true
	   },
	   "outputs": [],
"source": [
"// chapter 8 , Example 8.5 , pg 239\n",
"B=0.65     //magnetic induction   (in T)\n",
"d=8906     //density    (in Kg/m^3)\n",
"M=58.7    //atomic weight\n",
"e=1.6*10^-19     //charge of electron    (in C)\n",
"h=6.625*10^-34    //plancks constant    (in m^2*Kg*S^-1)\n",
"m=9.11*10^-31     //mass of electron   (in Kg)\n",
"Uo=4*%pi*10^-7     //vacuum permeability\n",
"Na=6.023*10^26    //Avogadro constant\n",
"Ub=(e*h)/(4*%pi*m)      //Bhor magneton   (in A*m^2)\n",
"N=(d*Na)/M     //number of atoms per unit volume\n",
"Ur=B/(N*Uo)     //relative permeability    (in A/m^2)\n",
"M=Ur/(Ub)      //magnetic moment\n",
"printf('Magnetic moment')\n",
"printf('M=%.2f   A*m^2',M)"
   ]
   }
],
"metadata": {
		  "kernelspec": {
		   "display_name": "Scilab",
		   "language": "scilab",
		   "name": "scilab"
		  },
		  "language_info": {
		   "file_extension": ".sce",
		   "help_links": [
			{
			 "text": "MetaKernel Magics",
			 "url": "https://github.com/calysto/metakernel/blob/master/metakernel/magics/README.md"
			}
		   ],
		   "mimetype": "text/x-octave",
		   "name": "scilab",
		   "version": "0.7.1"
		  }
		 },
		 "nbformat": 4,
		 "nbformat_minor": 0
}
