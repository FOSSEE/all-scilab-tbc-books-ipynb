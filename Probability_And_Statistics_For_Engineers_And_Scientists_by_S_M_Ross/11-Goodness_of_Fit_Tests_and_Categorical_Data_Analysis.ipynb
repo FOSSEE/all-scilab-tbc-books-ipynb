{
"cells": [
 {
		   "cell_type": "markdown",
	   "metadata": {},
	   "source": [
       "# Chapter 11: Goodness of Fit Tests and Categorical Data Analysis"
	   ]
	},
{
		   "cell_type": "markdown",
		   "metadata": {},
		   "source": [
			"## Example 11.2a: Relation_between_death_date_and_birth_date.sce"
		   ]
		  },
  {
"cell_type": "code",
	   "execution_count": null,
	   "metadata": {
	    "collapsed": true
	   },
	   "outputs": [],
"source": [
"X = [90 100 87 96 101 86 119 118 121 114 113 106];\n",
"pi= ones(12,1);\n",
"pi= pi/12;\n",
"new = X.^2;\n",
"npi= sum(X)*pi;\n",
"T = sum(new);\n",
"T = T/npi;\n",
"T = T - sum(X);\n",
"disp('When there are 12 regions')\n",
"disp(T(1), 'The test statistic is')\n",
"pvalue = 1- cdfchi('PQ',T(1), 11);\n",
"disp(pvalue, 'The pvalue is ')\n",
"\n",
"X = [277 283 358 333];\n",
"pi= ones(4,1);\n",
"pi= pi/4;\n",
"new = X.^2;\n",
"npi= sum(X)*pi;\n",
"T = sum(new);\n",
"T = T/npi;\n",
"T = T - sum(X);\n",
"disp('When there are 4 regions')\n",
"disp(T(1), 'The test statistic is')\n",
"pvalue = 1- cdfchi('PQ',T(1), 3);\n",
"disp(pvalue, 'The pvalue is ')"
   ]
   }
,
{
		   "cell_type": "markdown",
		   "metadata": {},
		   "source": [
			"## Example 11.2b: Quality_of_bulbs.sce"
		   ]
		  },
  {
"cell_type": "code",
	   "execution_count": null,
	   "metadata": {
	    "collapsed": true
	   },
	   "outputs": [],
"source": [
"X = [3 6 9 7 5];\n",
"p= [0.15 0.25 0.35 0.20 0.05];\n",
"T= 0;\n",
"n3=sum(X);\n",
"np = p*n3;\n",
"Xsqu = (X-np).^2;\n",
"disp(Xsqu);\n",
"XT = Xsqu./np;\n",
"T = sum(XT);\n",
"\n",
"//T = T - sum(X);\n",
"//disp('When there are 12 regions')\n",
"disp(T, 'The test statistic is')\n",
"pvalue = 1- cdfchi('PQ',T(1), 4);\n",
"//a= cdfchi('PQ',T(1), 4);\n",
"\n",
"disp(pvalue, 'The pvalue is ')\n",
"disp('Thus, the hypothesis would not be rejected at 5% level of significance')"
   ]
   }
,
{
		   "cell_type": "markdown",
		   "metadata": {},
		   "source": [
			"## Example 11.2d: Six_outcomes.sce"
		   ]
		  },
  {
"cell_type": "code",
	   "execution_count": null,
	   "metadata": {
	    "collapsed": true
	   },
	   "outputs": [],
"source": [
"X = [3 3 5 18 4 7];\n",
"p= [0.1 0.1 0.05 0.4 0.2 0.15];\n",
"psimu = 0.1843; //p-value obtained by simulation\n",
"num= 10000;\n",
"T= 0;\n",
"n=sum(X);\n",
"np = n*p;\n",
"Xsqu = X.^2;\n",
"for i= 1:6\n",
"    T = T + (Xsqu(i)/np(i));\n",
"end\n",
"T = T - sum(X);\n",
"\n",
"disp(T(1), 'The test statistic is')\n",
"pvalue = 1- cdfchi('PQ',T(1), 5);\n",
"//disp(pvalue, 'The pvalue is ')\n",
"int1 = psimu - (1.645*sqrt(psimu*(1-psimu)/num));\n",
"int2 = psimu + (1.645*sqrt(psimu*(1-psimu)/num));\n",
"disp('With 90% confidence p-value lies between ')\n",
"disp(int1)\n",
"disp('and')\n",
"disp(int2);"
   ]
   }
,
{
		   "cell_type": "markdown",
		   "metadata": {},
		   "source": [
			"## Example 11.3a: Weekly_accidents.sce"
		   ]
		  },
  {
"cell_type": "code",
	   "execution_count": null,
	   "metadata": {
	    "collapsed": true
	   },
	   "outputs": [],
"source": [
"Y = [8 0 0 1 3 4 0 2 12 5 1 8 0 2 0 1 9 3 4 5 3 3 4 7 4 0 1 2 1 2];\n",
"weeks = 30;\n",
"lamda = sum(Y)/weeks;\n",
"p = zeros(5,1);\n",
"p(1) = cdfpoi('PQ', 0, lamda); \n",
"p(2) = cdfpoi('PQ', 1, lamda) - p(1);\n",
"p(3) = cdfpoi('PQ', 3, lamda) - cdfpoi('PQ', 1, lamda);\n",
"p(4) = cdfpoi('PQ', 5, lamda) - cdfpoi('PQ', 3, lamda);\n",
"p(5) = 1 - cdfpoi('PQ', 5, lamda);\n",
"//disp(p);\n",
"X = zeros(5,1);\n",
"for i=1:30\n",
"    if(Y(i)==0)\n",
"        X(1) = X(1) +1;\n",
"    end\n",
"    if(Y(i)==1)\n",
"        X(2) = X(2) +1;\n",
"    end    \n",
"    if(Y(i)==2)\n",
"        X(3) = X(3) +1;\n",
"    end\n",
"    if(Y(i)==3)\n",
"        X(3) = X(3) +1;\n",
"    end\n",
"    if(Y(i)==4)\n",
"        X(4) = X(4) +1;\n",
"    end\n",
"    if(Y(i)==5)\n",
"        X(4) = X(4) +1;\n",
"    end\n",
"    if(Y(i)>5)\n",
"         X(5) = X(5) +1;\n",
"     end    \n",
"end\n",
"//disp(X);\n",
"T= 0;\n",
"npi = weeks * p;\n",
"for i=1:5\n",
"    T = T + ((X(i)-npi(i))^2)/npi(i);\n",
"end\n",
"disp(T, 'T is');\n",
"pvalue = 1- cdfchi('PQ', T, 3);\n",
"disp(pvalue, 'The p-value is')\n",
"disp('Hypothesis of an underlying poisson distribution is rejected')"
   ]
   }
,
{
		   "cell_type": "markdown",
		   "metadata": {},
		   "source": [
			"## Example 11.4a: Ploitical_affiliation_and_Gender.sce"
		   ]
		  },
  {
"cell_type": "code",
	   "execution_count": null,
	   "metadata": {
	    "collapsed": true
	   },
	   "outputs": [],
"source": [
"Nij = [68 56 32; 52 72 20];\n",
"n= sum(Nij);\n",
"Ni = zeros(2,1);\n",
"Mj = zeros(3,1);\n",
"for i= 1:2\n",
"    for j= 1:3\n",
"        Ni(i) = Ni(i) + Nij(i,j);\n",
"    end\n",
"end\n",
"for j= 1:3\n",
"    for i= 1:2\n",
"        Mj(j) = Mj(j) + Nij(i,j);\n",
"    end\n",
"end\n",
"NM = ones(2,3);\n",
"for i=1:2\n",
"    for j=1:3\n",
"        NM(i,j)= Ni(i)*Mj(j);\n",
"    end\n",
"end\n",
"NM= NM/n;\n",
"//disp(NM);\n",
"TS = 0\n",
"for i=1:2\n",
"    for j= 1:3\n",
"        TS = TS + ((Nij(i,j)-NM(i,j))^2)/NM(i,j);\n",
"    end\n",
"end\n",
"disp(TS, 'The test statistic is')\n",
"compare = cdfchi('X', 2, 0.95, 0.05);\n",
"//disp(compare)\n",
"if(TS>compare)\n",
"    disp('The null hypothesis is rejected at the 5% level of significance');\n",
"else\n",
"    disp('The null hypothesis is accepted at the 5% level of significance');\n",
"end    "
   ]
   }
,
{
		   "cell_type": "markdown",
		   "metadata": {},
		   "source": [
			"## Example 11.4b: Machine_Breakdown_and_shift.sce"
		   ]
		  },
  {
"cell_type": "code",
	   "execution_count": null,
	   "metadata": {
	    "collapsed": true
	   },
	   "outputs": [],
"source": [
"Nij = [68 56 32; 52 72 20];\n",
"n3= sum(Nij);\n",
"Ni = zeros(2,1);\n",
"Mj = zeros(3,1);\n",
"for i= 1:2\n",
"    for j= 1:3\n",
"        Ni(i) = Ni(i) + Nij(i,j);\n",
"    end\n",
"end\n",
"for j= 1:3\n",
"    for i= 1:2\n",
"        Mj(j) = Mj(j) + Nij(i,j);\n",
"    end\n",
"end\n",
"NM = ones(2,3);\n",
"for i=1:2\n",
"    for j=1:3\n",
"        NM(i,j)= Ni(i)*Mj(j);\n",
"    end\n",
"end\n",
"NM= NM/n3;\n",
"//disp(NM);\n",
"TS = 0\n",
"for i=1:2\n",
"    for j= 1:3\n",
"        TS = TS + ((Nij(i,j)-NM(i,j))^2)/NM(i,j);\n",
"    end\n",
"end\n",
"disp(TS, 'The test statistic is')\n",
"compare = cdfchi('X', 2, 0.95, 0.05);\n",
"//disp(compare)\n",
"if(TS>compare)\n",
"    disp('The null hypothesis is rejected at the 5% level of significance');\n",
"else\n",
"    disp('The null hypothesis is accepted at the 5% level of significance');\n",
"end    "
   ]
   }
,
{
		   "cell_type": "markdown",
		   "metadata": {},
		   "source": [
			"## Example 11.5a: Lung_cancer_and_smoking.sce"
		   ]
		  },
  {
"cell_type": "code",
	   "execution_count": null,
	   "metadata": {
	    "collapsed": true
	   },
	   "outputs": [],
"source": [
"Nij = [62 14; 9938 19986];\n",
"n= sum(Nij);\n",
"Ni = zeros(2,1);\n",
"Mj = zeros(2,1);\n",
"for i= 1:2\n",
"    for j= 1:2\n",
"        Ni(i) = Ni(i) + Nij(i,j);\n",
"    end\n",
"end\n",
"for j= 1:2\n",
"    for i= 1:2\n",
"        Mj(j) = Mj(j) + Nij(i,j);\n",
"    end\n",
"end\n",
"NM = ones(2,2);\n",
"for i=1:2\n",
"    for j=1:2\n",
"        NM(i,j)= Ni(i)*Mj(j);\n",
"    end\n",
"end\n",
"NM= NM/n;\n",
"disp(NM);\n",
"TS = 0\n",
"for i=1:2\n",
"    for j= 1:2\n",
"        TS = TS + ((Nij(i,j)-NM(i,j))^2)/NM(i,j);\n",
"    end\n",
"end\n",
"disp(TS, 'The test statistic is')\n",
"compare = cdfchi('X', 1, 0.99, 0.01);\n",
"//disp(compare)\n",
"if(TS>compare)\n",
"    disp('The null hypothesis is rejected at the 5% level of significance');\n",
"else\n",
"    disp('The null hypothesis is accepted at the 5% level of significance');\n",
"end    "
   ]
   }
,
{
		   "cell_type": "markdown",
		   "metadata": {},
		   "source": [
			"## Example 11.5b: Females_reporting_abuse.sce"
		   ]
		  },
  {
"cell_type": "code",
	   "execution_count": null,
	   "metadata": {
	    "collapsed": true
	   },
	   "outputs": [],
"source": [
"Nij = [28 30 58 55; 472 470 442 445];\n",
"n= sum(Nij);\n",
"Ni = zeros(2,1);\n",
"Mj = zeros(4,1);\n",
"for i= 1:2\n",
"    for j= 1:4\n",
"        Ni(i) = Ni(i) + Nij(i,j);\n",
"    end\n",
"end\n",
"for j= 1:4\n",
"    for i= 1:2\n",
"        Mj(j) = Mj(j) + Nij(i,j);\n",
"    end\n",
"end\n",
"NM = ones(2,4);\n",
"for i=1:2\n",
"    for j=1:4\n",
"        NM(i,j)= Ni(i)*Mj(j);\n",
"    end\n",
"end\n",
"NM= NM/n;\n",
"//disp(NM);\n",
"TS = 0\n",
"for i=1:2\n",
"    for j= 1:4\n",
"        TS = TS + ((Nij(i,j)-NM(i,j))^2)/NM(i,j);\n",
"    end\n",
"end\n",
"disp(TS, 'The test statistic is')\n",
"compare = cdfchi('X', 3, 0.99, 0.01);\n",
"pvalue = 1- cdfchi('PQ', TS, 3);\n",
"disp(pvalue, 'The p-value is')\n",
"//disp(compare)\n",
"if(TS>compare)\n",
"    disp('The null hypothesis is rejected at the 1% level of significance');\n",
"else\n",
"    disp('The null hypothesis is accepted at the 5% level of significance');\n",
"end    "
   ]
   }
,
{
		   "cell_type": "markdown",
		   "metadata": {},
		   "source": [
			"## Example 11.6a: Testing_distribution_of_a_population.sce"
		   ]
		  },
  {
"cell_type": "code",
	   "execution_count": null,
	   "metadata": {
	    "collapsed": true
	   },
	   "outputs": [],
"source": [
"X= [66 72 81 94 112 116 124 140 145 155];\n",
"D= 0.4831487;\n",
"n= 10;\n",
"Dgiven = 1.480;\n",
"Dstar = (sqrt(n) + 0.12 + (0.11/sqrt(n)))*D;\n",
"disp(Dstar, 'Dstar is ');\n",
"if(Dstar>Dgiven)\n",
"    disp('Null hypothesis is rejected at 2.5% level of significance')\n",
"else\n",
"    disp('Null hypothesis is accepted at 2.5% level of significance')\n",
"end   "
   ]
   }
],
"metadata": {
		  "kernelspec": {
		   "display_name": "Scilab",
		   "language": "scilab",
		   "name": "scilab"
		  },
		  "language_info": {
		   "file_extension": ".sce",
		   "help_links": [
			{
			 "text": "MetaKernel Magics",
			 "url": "https://github.com/calysto/metakernel/blob/master/metakernel/magics/README.md"
			}
		   ],
		   "mimetype": "text/x-octave",
		   "name": "scilab",
		   "version": "0.7.1"
		  }
		 },
		 "nbformat": 4,
		 "nbformat_minor": 0
}
