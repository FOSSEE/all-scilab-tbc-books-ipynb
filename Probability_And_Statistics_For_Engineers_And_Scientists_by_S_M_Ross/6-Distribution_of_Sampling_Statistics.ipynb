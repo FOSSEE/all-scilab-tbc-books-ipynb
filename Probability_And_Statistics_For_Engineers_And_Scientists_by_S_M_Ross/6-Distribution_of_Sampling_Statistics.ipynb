{
"cells": [
 {
		   "cell_type": "markdown",
	   "metadata": {},
	   "source": [
       "# Chapter 6: Distribution of Sampling Statistics"
	   ]
	},
{
		   "cell_type": "markdown",
		   "metadata": {},
		   "source": [
			"## Example 6.3a: Claims_handled_by_an_insurance_company.sce"
		   ]
		  },
  {
"cell_type": "code",
	   "execution_count": null,
	   "metadata": {
	    "collapsed": true
	   },
	   "outputs": [],
"source": [
"number = 25000;\n",
"meaneach = 320;\n",
"sdeach = 540;\n",
"claim = 8300000;\n",
"meantotal= meaneach*number;\n",
"sdtotal = sdeach*sqrt(number);\n",
"disp(1- cdfnor('PQ',claim, meantotal, sdtotal ))"
   ]
   }
,
{
		   "cell_type": "markdown",
		   "metadata": {},
		   "source": [
			"## Example 6.3c: Class_strength.sce"
		   ]
		  },
  {
"cell_type": "code",
	   "execution_count": null,
	   "metadata": {
	    "collapsed": true
	   },
	   "outputs": [],
"source": [
"ideal_num = 150;\n",
"actual_num = 450;\n",
"attend = 0.3;\n",
"tolerance = 0.5\n",
"disp(1-cdfnor('PQ',ideal_num+tolerance, actual_num*attend, sqrt(actual_num*attend*(1-attend)) ))"
   ]
   }
,
{
		   "cell_type": "markdown",
		   "metadata": {},
		   "source": [
			"## Example 6.3d: Weights_of_workers.sce"
		   ]
		  },
  {
"cell_type": "code",
	   "execution_count": null,
	   "metadata": {
	    "collapsed": true
	   },
	   "outputs": [],
"source": [
"meaneach  = 167;\n",
"sdeach = 27;\n",
"num = 36;\n",
"sdtotal = sdeach/sqrt(num);\n",
"//sdtotal = sdtotal*sdtotal;\n",
"//disp(sdtotal)\n",
"disp(cdfnor('PQ', 170, meaneach, sdtotal)-cdfnor('PQ', 163, meaneach,sdtotal ), 'Probability that the sample mean of their weights lies between 163 and 170(when sample size is 36)')\n",
"\n",
"num=144;\n",
"sdtotal = sdeach/sqrt(num);\n",
"//disp(sdtotal)\n",
"disp(cdfnor('PQ', 170, meaneach, sdtotal)-cdfnor('PQ', 163, meaneach,sdtotal ), 'Probability that the sample mean of their weights lies between 163 and 170(when sample size is 144)')\n",
"\n",
"//The answer given in the textbook is incorrect as (170-167)/4.5 is not equal to 0.6259 . "
   ]
   }
,
{
		   "cell_type": "markdown",
		   "metadata": {},
		   "source": [
			"## Example 6.3e: Distance_of_a_start.sce"
		   ]
		  },
  {
"cell_type": "code",
	   "execution_count": null,
	   "metadata": {
	    "collapsed": true
	   },
	   "outputs": [],
"source": [
"prob = 0.95;\n",
"lim = 0.5;\n",
"X = cdfnor('X', 0,1, 0.975, 0.025 )\n",
"disp(ceil((4*X)^2), 'Observations are necessary (atleast)')"
   ]
   }
,
{
		   "cell_type": "markdown",
		   "metadata": {},
		   "source": [
			"## Example 6.5a: Processing_time.sce"
		   ]
		  },
  {
"cell_type": "code",
	   "execution_count": null,
	   "metadata": {
	    "collapsed": true
	   },
	   "outputs": [],
"source": [
"n= 15;\n",
"sigmasquare= 9;\n",
"lim =12;\n",
"actual_lim = (n-1)*lim/sigmasquare;\n",
"prob =  1- cdfchi('PQ', actual_lim, (n-1))\n",
"disp(prob)"
   ]
   }
,
{
		   "cell_type": "markdown",
		   "metadata": {},
		   "source": [
			"## Example 6.6a: Candidate_winning_an_election.sce"
		   ]
		  },
  {
"cell_type": "code",
	   "execution_count": null,
	   "metadata": {
	    "collapsed": true
	   },
	   "outputs": [],
"source": [
"favour = 0.45;\n",
"samplesize = 200;\n",
"expec= favour*samplesize;\n",
"sd = sqrt(samplesize*favour*(1-favour));\n",
"disp(expec, 'The expected value is ')\n",
"disp(sd, 'The standard deviation is ')\n",
"\n",
"function result= bino(n, k, p)\n",
"    result = factorial(n)*(p^k)*((1-p)^(n-k))/(factorial(k)*factorial(n-k))\n",
"endfunction\n",
"\n",
"//newsum = 0;\n",
"//for i=1:10\n",
" //   newsum = newsum + bino(200,i, favour)\n",
"//end\n",
"//prob = 1-newsum;*/\n",
"\n",
"lim = 101;\n",
"tolerance = 0.5;\n",
"lim= lim - tolerance;\n",
"prob = 1- cdfnor('PQ', lim, expec, sd)\n",
"\n",
"disp(prob, 'Probability that more than half the members of the sample favour the candidate')"
   ]
   }
,
{
		   "cell_type": "markdown",
		   "metadata": {},
		   "source": [
			"## Example 6.6b: Pork_consumption.sce"
		   ]
		  },
  {
"cell_type": "code",
	   "execution_count": null,
	   "metadata": {
	    "collapsed": true
	   },
	   "outputs": [],
"source": [
"meaneach = 147;\n",
"sdeach  = 62;\n",
"samplesize = 25;\n",
"lim =150;\n",
"samplemean = meaneach;\n",
"samplesd= sdeach/sqrt(samplesize)\n",
"prob = 1- cdfnor('PQ', lim, samplemean, samplesd)\n",
"disp(prob)"
   ]
   }
],
"metadata": {
		  "kernelspec": {
		   "display_name": "Scilab",
		   "language": "scilab",
		   "name": "scilab"
		  },
		  "language_info": {
		   "file_extension": ".sce",
		   "help_links": [
			{
			 "text": "MetaKernel Magics",
			 "url": "https://github.com/calysto/metakernel/blob/master/metakernel/magics/README.md"
			}
		   ],
		   "mimetype": "text/x-octave",
		   "name": "scilab",
		   "version": "0.7.1"
		  }
		 },
		 "nbformat": 4,
		 "nbformat_minor": 0
}
