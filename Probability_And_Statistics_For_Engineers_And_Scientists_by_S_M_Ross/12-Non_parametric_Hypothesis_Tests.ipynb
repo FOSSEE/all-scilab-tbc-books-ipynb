{
"cells": [
 {
		   "cell_type": "markdown",
	   "metadata": {},
	   "source": [
       "# Chapter 12: Non parametric Hypothesis Tests"
	   ]
	},
{
		   "cell_type": "markdown",
		   "metadata": {},
		   "source": [
			"## Example 12.2a: testing_the_median.sce"
		   ]
		  },
  {
"cell_type": "code",
	   "execution_count": null,
	   "metadata": {
	    "collapsed": true
	   },
	   "outputs": [],
"source": [
"n= 200;\n",
"v = 120;\n",
"p =0.5;\n",
"if(v < (n/2))\n",
"    pvalue = 2*cdfbin('PQ', v, n, p,1-p);\n",
"else\n",
"    pvalue = 2*cdfbin('PQ', n-v, n, p,1-p);\n",
"   \n",
"end\n",
"disp(pvalue, 'Pvalue is ');        "
   ]
   }
,
{
		   "cell_type": "markdown",
		   "metadata": {},
		   "source": [
			"## Example 12.2b: testing_the_median.sce"
		   ]
		  },
  {
"cell_type": "code",
	   "execution_count": null,
	   "metadata": {
	    "collapsed": true
	   },
	   "outputs": [],
"source": [
"n= 80;\n",
"v = 28;\n",
"p =0.5;\n",
"\n",
"    pvalue = cdfbin('PQ', v, n, p,1-p);\n",
"disp(pvalue, 'Pvalue is ');   \n",
"disp('Thus, the null hypothesis that the median income is less than or equal to $90,000 is rejected')"
   ]
   }
,
{
		   "cell_type": "markdown",
		   "metadata": {},
		   "source": [
			"## Example 12.3b: Signed_Rank_Test.sce"
		   ]
		  },
  {
"cell_type": "code",
	   "execution_count": null,
	   "metadata": {
	    "collapsed": true
	   },
	   "outputs": [],
"source": [
"n =4;\n",
"mo = 2;\n",
"X = [4.2 1.8 5.3 1.7];\n",
"t =3;\n",
"tstar= min(t, (n*(n+1)/2) - t);\n",
"P = zeros(4,4);\n",
"P(1,1)= 0.5;\n",
"P(1,2) = 1;\n",
"P(1,3) = 1;\n",
"P(1,4) = 1;\n",
"for i=2:4\n",
"    for j = 1:4\n",
"        if (j-i <1) \n",
"           P(i,j) = 0.5*P(i-1, j);\n",
"           //disp(j,i);\n",
"           //disp(P(i,j))\n",
"           \n",
"        else\n",
"            P(i,j) = 0.5*(P(i-1,j-i)+P(i-1,j));   \n",
"        end\n",
"    end\n",
"end\n",
"disp(P)"
   ]
   }
,
{
		   "cell_type": "markdown",
		   "metadata": {},
		   "source": [
			"## Example 12.3c: Determining_Population_Distribution.sce"
		   ]
		  },
  {
"cell_type": "code",
	   "execution_count": null,
	   "metadata": {
	    "collapsed": true
	   },
	   "outputs": [],
"source": [
"n =20;\n",
"t =142;\n",
"tstar= min(t, (n*(n+1)/2) - t);\n",
"P = ones(20,tstar+1);\n",
"P(1,1)= 0.5;\n",
"P(1,2) = 1;\n",
"for i=2:20\n",
"    for j = 1:tstar+1        if (j-i <1) \n",
"           P(i,j) = 0.5*P(i-1, j);\n",
"           //disp(j,i);\n",
"           //disp(P(i,j))\n",
"           \n",
"        else\n",
"            P(i,j) = 0.5*(P(i-1,j-i)+P(i-1,j));   \n",
"        end\n",
"    end\n",
"end\n",
"//disp(P)\n",
"pvalue= 2*P(20,tstar+1);\n",
"disp(pvalue, 'Pvalue is')"
   ]
   }
,
{
		   "cell_type": "markdown",
		   "metadata": {},
		   "source": [
			"## Example 12.4a: Treatments_against_corrosion.sce"
		   ]
		  },
  {
"cell_type": "code",
	   "execution_count": null,
	   "metadata": {
	    "collapsed": true
	   },
	   "outputs": [],
"source": [
"X= [65.2 67.1 69.4 78.2 74 80.3];\n",
"Y = [59.4 72.1 68 66.2 58.5];\n",
"Z = [X Y];\n",
"Z = gsort(Z,'g','i');\n",
"[m n]=  size(X);\n",
"[p q] = size(Z)\n",
"T = 0;\n",
"for i=1:n\n",
"    test = X(i);\n",
"    for j =1 : q\n",
"        if(test== Z(j))\n",
"            T = T+ j;\n",
"        end   \n",
"    end\n",
"end\n",
"disp(T, 'The test statistic is ')"
   ]
   }
,
{
		   "cell_type": "markdown",
		   "metadata": {},
		   "source": [
			"## Example 12.4b: Determining_P.sce"
		   ]
		  },
  {
"cell_type": "code",
	   "execution_count": null,
	   "metadata": {
	    "collapsed": true
	   },
	   "outputs": [],
"source": [
"function result= prob(N, M, K)        \n",
"      if(N==1 & M==0)\n",
"             if(K >0)\n",
"                result = 1;\n",
"             else\n",
"                 result =0;\n",
"             end\n",
"     \n",
"      elseif (N==0 & M==1)\n",
"             if(K <0)\n",
"                result = 0;\n",
"             else\n",
"                 result =1;\n",
"             end\n",
"      elseif (N==0 & M==0 &K==0)\n",
"            result =1;\n",
"      else             \n",
"        result = (prob(N-1, M, K-N-M)*N/(N+M)) + (prob(N, M-1, K)*M/(N+M));\n",
"        //result = prob(N-1, M, K-N-M)*N/(N+M) + prob(N, M-1, K);\n",
"        //result = result +  prob(N, M-1, K);\n",
"       end\n",
"endfunction\n",
"\n",
"function result =pval(n,m,t)\n",
"    result = 2*min(prob(n,m,t), 1-prob(n,m,t-1));\n",
"endfunction"
   ]
   }
,
{
		   "cell_type": "markdown",
		   "metadata": {},
		   "source": [
			"## Example 12.4c: Finding_p_value.sce"
		   ]
		  },
  {
"cell_type": "code",
	   "execution_count": null,
	   "metadata": {
	    "collapsed": true
	   },
	   "outputs": [],
"source": [
"ans = pval(5,6,21);\n",
"disp(ans)"
   ]
   }
,
{
		   "cell_type": "markdown",
		   "metadata": {},
		   "source": [
			"## Example 12.4d: Comparing_production_methods.sce"
		   ]
		  },
  {
"cell_type": "code",
	   "execution_count": null,
	   "metadata": {
	    "collapsed": true
	   },
	   "outputs": [],
"source": [
"ans = pval(9,13,72);\n",
"disp(ans)"
   ]
   }
,
{
		   "cell_type": "markdown",
		   "metadata": {},
		   "source": [
			"## Example 12.4e: Determining_p_value.sce"
		   ]
		  },
  {
"cell_type": "code",
	   "execution_count": null,
	   "metadata": {
	    "collapsed": true
	   },
	   "outputs": [],
"source": [
"n1 =5;\n",
"m1= 6;\n",
"\n",
"t1 =21;\n",
"num1 = n1*(n1+m1+1)/2;\n",
"d1=abs(t1 - num1);\n",
"val = d1/sqrt(n1*m1*(n1+m1+1)/12);\n",
"//disp(d1, 'd is')\n",
"//disp(val, 'val is')\n",
"pval = 2*(1-cdfnor('PQ', val, 0,1));\n",
"disp(pval, 'The p-value for eg 12.4a is')\n",
"n2 =9;\n",
"m2= 13;\n",
"t2 =72;\n",
"d2=abs(t2 - n2*(n2+m2+1)/2);\n",
"\n",
"val = d2/sqrt(n2*m2*(n2+m2+1)/12);\n",
"pval = 2*(1-cdfnor('PQ', val, 0,1));\n",
"disp(pval, 'The p-value for eg 12.4d is')"
   ]
   }
,
{
		   "cell_type": "markdown",
		   "metadata": {},
		   "source": [
			"## Example 12.5a: Testing_randomness.sce"
		   ]
		  },
  {
"cell_type": "code",
	   "execution_count": null,
	   "metadata": {
	    "collapsed": true
	   },
	   "outputs": [],
"source": [
"function result= fact(num)\n",
"    if(num<=0)\n",
"        result= 1\n",
"    else\n",
"        result = factorial(num)\n",
"    end        \n",
"endfunction\n",
"function result = proba(n,m,k)\n",
"    if(pmodulo(k,2)==0)\n",
"        k=k/2;\n",
"        result = 2*fact(m-1)*fact(n-1)*fact(n)*fact(m)/(fact(k-1)^2*fact(m-k)*fact(n-k)*fact(n+m));\n",
"     else   \n",
"         k = (k-1)/2;\n",
"         result = fact(m-1)*fact(n-1)*fact(n)*fact(m)/(fact(k-1)*fact(k)*fact(m-k)*fact(n-k-1)*fact(n+m)) + fact(m-1)*fact(n-1)*fact(n)*fact(m)/(fact(k-1)*fact(k)*fact(m-k-1)*fact(n-k)*fact(n+m));\n",
"   end      \n",
"endfunction\n",
"\n",
"r1 = 20;\n",
"n1 = 20;\n",
"m1=10;\n",
"ans1 =0;\n",
"for i=1:19\n",
"    ans1 =ans1 + proba(n1,m1,i);\n",
"    //disp(proba(n,m,i));\n",
"    //disp(ans1)\n",
"end\n",
"if(ans1<0.5)\n",
"    pvalue1 = 2*ans1;\n",
"else \n",
"    pvalue1 = 2*(1-ans1);\n",
"end\n",
"disp(pvalue1, 'P-value is')        "
   ]
   }
,
{
		   "cell_type": "markdown",
		   "metadata": {},
		   "source": [
			"## Example 12.5c: Determining_p_value.sce"
		   ]
		  },
  {
"cell_type": "code",
	   "execution_count": null,
	   "metadata": {
	    "collapsed": true
	   },
	   "outputs": [],
"source": [
"u = 61;\n",
"sigma = 5.454;\n",
"r =75;\n",
"val = cdfnor('PQ', (r-u)/sigma, 0,1);\n",
"if(val>0.5)\n",
"    pvalue = 2*(1-val);\n",
"else\n",
"    pvalue = 2*val;\n",
"end        \n",
"disp(pvalue, 'P-value is');"
   ]
   }
],
"metadata": {
		  "kernelspec": {
		   "display_name": "Scilab",
		   "language": "scilab",
		   "name": "scilab"
		  },
		  "language_info": {
		   "file_extension": ".sce",
		   "help_links": [
			{
			 "text": "MetaKernel Magics",
			 "url": "https://github.com/calysto/metakernel/blob/master/metakernel/magics/README.md"
			}
		   ],
		   "mimetype": "text/x-octave",
		   "name": "scilab",
		   "version": "0.7.1"
		  }
		 },
		 "nbformat": 4,
		 "nbformat_minor": 0
}
