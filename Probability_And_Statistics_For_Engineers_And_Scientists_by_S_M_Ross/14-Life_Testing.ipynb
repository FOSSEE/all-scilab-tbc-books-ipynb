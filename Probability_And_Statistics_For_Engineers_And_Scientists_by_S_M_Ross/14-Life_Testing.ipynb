{
"cells": [
 {
		   "cell_type": "markdown",
	   "metadata": {},
	   "source": [
       "# Chapter 14: Life Testing"
	   ]
	},
{
		   "cell_type": "markdown",
		   "metadata": {},
		   "source": [
			"## Example 14.3a: Lifetime_of_a_transistor.sce"
		   ]
		  },
  {
"cell_type": "code",
	   "execution_count": null,
	   "metadata": {
	    "collapsed": true
	   },
	   "outputs": [],
"source": [
"total =50;\n",
"failure = 15;\n",
"alpha = 0.05;\n",
"t =525;\n",
"val1 = cdfchi('X', 2*failure, alpha/2 , 1-(alpha/2));\n",
"val2 = cdfchi('X', 2*failure, 1-alpha/2 , (alpha/2));\n",
"\n",
"int1 = 2*t/val1;\n",
"int2 = 2*t/val2;\n",
"disp('The 95% confidence interval is');\n",
"disp(int2);\n",
"disp(int1, 'to');\n",
"\n",
"//The confidence interval is from 22.35 to 62.17 whereas my solution in Scilab is 22.35 to 62.53 because of the difference in the value of chi-square(0.975, 30). The textbook says the value is 16.89 whereas scilab calculates its value as 16.79"
   ]
   }
,
{
		   "cell_type": "markdown",
		   "metadata": {},
		   "source": [
			"## Example 14.3b: Lifetime_of_Battery.sce"
		   ]
		  },
  {
"cell_type": "code",
	   "execution_count": null,
	   "metadata": {
	    "collapsed": true
	   },
	   "outputs": [],
"source": [
"t = 1800;\n",
"theta = 150;\n",
"r =20;\n",
"pvalue =  cdfchi('PQ',2*t/theta, 2*r );\n",
"disp(pvalue, 'P-value is ')"
   ]
   }
,
{
		   "cell_type": "markdown",
		   "metadata": {},
		   "source": [
			"## Example 14.3c: One_at_a_time_sequential_test.sce"
		   ]
		  },
  {
"cell_type": "code",
	   "execution_count": null,
	   "metadata": {
	    "collapsed": true
	   },
	   "outputs": [],
"source": [
"T = 500;\n",
"alpha = 0.05;\n",
"r = 10;\n",
"val1 = cdfchi('X', 2*r, 1-alpha/2, alpha/2);\n",
"val2 = cdfchi('X', 2*r, alpha/2, 1- alpha/2);\n",
"int1= 2*T/val1;\n",
"int2= 2*T/val2;\n",
"disp('The 95% confidence interval is');\n",
"disp(int1);\n",
"disp(int2, 'to');\n",
" \n",
" //The confidence interval is from 29.27 to 103.52 whereas my solution in Scilab is 29.265774 to 104.26683 because of the difference in the value of chi-square(0.975, 30). The textbook says the value is 9.66 whereas scilab calculates its value as 9.5907774 . "
   ]
   }
,
{
		   "cell_type": "markdown",
		   "metadata": {},
		   "source": [
			"## Example 14.3d: Lifetime_of_semiconductors.sce"
		   ]
		  },
  {
"cell_type": "code",
	   "execution_count": null,
	   "metadata": {
	    "collapsed": true
	   },
	   "outputs": [],
"source": [
"r = 30;\n",
"T = 600;\n",
"theta = 25;\n",
"val1 = cdfchi('PQ', 2*T/theta, 2*r);\n",
"val2 = 1- cdfchi('PQ', 2*T/theta, 2*(r+1));\n",
"pvalue = min(val1, val2);\n",
"disp(pvalue, 'The pvalue is');\n",
"disp('H0 would be accepted when the significance level is 0.10');"
   ]
   }
,
{
		   "cell_type": "markdown",
		   "metadata": {},
		   "source": [
			"## Example 14.3e: Bayes_estimator.sce"
		   ]
		  },
  {
"cell_type": "code",
	   "execution_count": null,
	   "metadata": {
	    "collapsed": true
	   },
	   "outputs": [],
"source": [
"X = [5 7 6.2 8.1 7.9 15 18 3.9 4.6 5.8];\n",
"Y= [3 3.2 4.1 1.8 1.6 2.7 1.2 5.4 10.3 1.5];\n",
"t = sum(X)+sum(Y);\n",
"R =10;\n",
"a = 20;\n",
"b = 2;\n",
"estimate = (R+b)/(a+t);\n",
"disp(estimate, 'Bayes estimate of lambda is');"
   ]
   }
,
{
		   "cell_type": "markdown",
		   "metadata": {},
		   "source": [
			"## Example 14.4a: Lifetime_of_items_produced_by_two_plants.sce"
		   ]
		  },
  {
"cell_type": "code",
	   "execution_count": null,
	   "metadata": {
	    "collapsed": true
	   },
	   "outputs": [],
"source": [
"Xlife = 420;\n",
"Ylife = 510;\n",
"Xnum=  10;\n",
"Ynum =15;\n",
"ts = Xlife*Ynum/(Ylife*Xnum);\n",
"disp(ts, 'The value of the test statistic is');\n",
"val = cdff('PQ', ts, Xnum, Ynum);\n",
"pvalue = 2*(1-val);\n",
"disp(pvalue, 'The p-value is');\n",
"disp('We cannot reject H0');"
   ]
   }
],
"metadata": {
		  "kernelspec": {
		   "display_name": "Scilab",
		   "language": "scilab",
		   "name": "scilab"
		  },
		  "language_info": {
		   "file_extension": ".sce",
		   "help_links": [
			{
			 "text": "MetaKernel Magics",
			 "url": "https://github.com/calysto/metakernel/blob/master/metakernel/magics/README.md"
			}
		   ],
		   "mimetype": "text/x-octave",
		   "name": "scilab",
		   "version": "0.7.1"
		  }
		 },
		 "nbformat": 4,
		 "nbformat_minor": 0
}
