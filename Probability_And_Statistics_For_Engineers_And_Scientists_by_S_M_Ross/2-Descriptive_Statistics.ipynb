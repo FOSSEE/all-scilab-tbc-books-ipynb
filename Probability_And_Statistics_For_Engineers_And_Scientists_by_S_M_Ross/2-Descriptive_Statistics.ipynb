{
"cells": [
 {
		   "cell_type": "markdown",
	   "metadata": {},
	   "source": [
       "# Chapter 2: Descriptive Statistics"
	   ]
	},
{
		   "cell_type": "markdown",
		   "metadata": {},
		   "source": [
			"## Example 2.2a: Relative_Frequency.sce"
		   ]
		  },
  {
"cell_type": "code",
	   "execution_count": null,
	   "metadata": {
	    "collapsed": true
	   },
	   "outputs": [],
"source": [
"starting_salary = [47 48 49 50 51 52 53 54 56 57 60];\n",
"frequency = [4 1 3 5 8 10 0 5 2 3 1];\n",
"total = sum(frequency);\n",
"relative_frequency = frequency/total;\n",
"disp('The relative frequencies are ')\n",
"disp(relative_frequency)"
   ]
   }
,
{
		   "cell_type": "markdown",
		   "metadata": {},
		   "source": [
			"## Example 2.2b: pie_chart.sce"
		   ]
		  },
  {
"cell_type": "code",
	   "execution_count": null,
	   "metadata": {
	    "collapsed": true
	   },
	   "outputs": [],
"source": [
"values = [42 50 32 55 9 12];\n",
"percentages = values*100 / sum(values);\n",
"new_text = string(percentages);\n",
"text = ['Lung ', 'Breast ', 'Colon ', 'Prostate ', 'Melanoma ', 'Bladder '];\n",
"percentage_sign = ['%', '%', '%', '%', '%', '%'];\n",
"final_text = text + new_text + percentage_sign;\n",
"//pie([42 50 32 55 9 12], ['Lung', 'Breast', 'Colon', 'Prostate', 'Melanoma', 'Bladder']);\n",
"pie(values , final_text);"
   ]
   }
,
{
		   "cell_type": "markdown",
		   "metadata": {},
		   "source": [
			"## Example 2.3a: Sample_mea.sce"
		   ]
		  },
  {
"cell_type": "code",
	   "execution_count": null,
	   "metadata": {
	    "collapsed": true
	   },
	   "outputs": [],
"source": [
"scores=[284, 280, 277, 282, 279, 285, 281, 283, 278, 277];\n",
"new_scores = scores - 280;\n",
"final_mean = mean(new_scores)+ 280;\n",
"disp(final_mean)"
   ]
   }
,
{
		   "cell_type": "markdown",
		   "metadata": {},
		   "source": [
			"## Example 2.3b: Sample_mean_of_age.sce"
		   ]
		  },
  {
"cell_type": "code",
	   "execution_count": null,
	   "metadata": {
	    "collapsed": true
	   },
	   "outputs": [],
"source": [
"age= [15 16 17 18 19 20];\n",
"frequencies = [2 5 11 9 14 13];\n",
"product  = age.*frequencies;\n",
"total_people = sum(frequencies);\n",
"mean_age = sum(product)/total_people ; \n",
"disp('The sample mean of the ages is')\n",
"disp(mean_age)"
   ]
   }
,
{
		   "cell_type": "markdown",
		   "metadata": {},
		   "source": [
			"## Example 2.3c: Sample_Media.sce"
		   ]
		  },
  {
"cell_type": "code",
	   "execution_count": null,
	   "metadata": {
	    "collapsed": true
	   },
	   "outputs": [],
"source": [
"age= [15 16 17 18 19 20];\n",
"frequencies = [2 5 11 9 14 13];\n",
"i=1;\n",
"for j=1:6\n",
"    for k = 1:frequencies(j)\n",
"        final_age(i) = age(j); \n",
"        i = i +1 ;\n",
"    end;\n",
"end\n",
"\n",
"\n",
"final_median = median(final_age);\n",
"disp(final_median);"
   ]
   }
,
{
		   "cell_type": "markdown",
		   "metadata": {},
		   "source": [
			"## Example 2.3d: Mean_and_Median.sce"
		   ]
		  },
  {
"cell_type": "code",
	   "execution_count": null,
	   "metadata": {
	    "collapsed": true
	   },
	   "outputs": [],
"source": [
"germ_free_mice = [158 192 193 194 195 202 212 215 229 230 237 240 244 247 259 301 301 321 337 415 434 444 485 496 529 537 624 707 800];\n",
"conventional_mice = [159 189 191 198 235 245 250 256 261 265 266 280 343 356 383 403 414 428 432];\n",
"disp (mean(germ_free_mice), 'Sample mean for germ-free mice is ');\n",
"disp (median(germ_free_mice), 'Sample median for germ-free mice is ');\n",
"disp (mean(conventional_mice), 'Sample mean for conventional mice is ');\n",
"disp (median(conventional_mice), 'Sample mean for conventional mice is ');\n",
""
   ]
   }
,
{
		   "cell_type": "markdown",
		   "metadata": {},
		   "source": [
			"## Example 2.3e: Mean_Median_and_Mode.sce"
		   ]
		  },
  {
"cell_type": "code",
	   "execution_count": null,
	   "metadata": {
	    "collapsed": true
	   },
	   "outputs": [],
"source": [
"value = [1 2 3 4 5 6];\n",
"frequencies= [9 8 5 5 6 7];\n",
"i=1;\n",
"for j=1:6\n",
"    for k = 1:frequencies(j)\n",
"        final_value(i) = value(j); \n",
"        i = i +1 ;\n",
"    end;\n",
"end\n",
"product  = value.*frequencies;\n",
"disp(product , sum(product))\n",
"\n",
"total_value = sum(frequencies);\n",
"mean_value = sum(product)/total_value ; //the answer in the textbook is incorrect\n",
"[m1 m2]= max(frequencies);\n",
"n= m2;\n",
"\n",
"disp('The sample mean is')\n",
"disp(mean_value)\n",
"disp(median(final_value), 'The median is')\n",
"disp(value(n) , 'The mode is')"
   ]
   }
,
{
		   "cell_type": "markdown",
		   "metadata": {},
		   "source": [
			"## Example 2.3f: sample_variance.sce"
		   ]
		  },
  {
"cell_type": "code",
	   "execution_count": null,
	   "metadata": {
	    "collapsed": true
	   },
	   "outputs": [],
"source": [
"A = [ 3 4 6 7 10];\n",
"B= [-20 5 15 24];\n",
"disp(variance(A), 'The sample variance of A is')\n",
"disp(variance(B), 'The sample variance of B is')"
   ]
   }
,
{
		   "cell_type": "markdown",
		   "metadata": {},
		   "source": [
			"## Example 2.3g: sample_variance_of_accidents.sce"
		   ]
		  },
  {
"cell_type": "code",
	   "execution_count": null,
	   "metadata": {
	    "collapsed": true
	   },
	   "outputs": [],
"source": [
"accidents = [22 22 26 28 27 25 30 29 24];\n",
"new_accidents = accidents - 22;\n",
"disp(variance(new_accidents), 'The variance of the number of accidents is')"
   ]
   }
,
{
		   "cell_type": "markdown",
		   "metadata": {},
		   "source": [
			"## Example 2.3h: Percentile.sce"
		   ]
		  },
  {
"cell_type": "code",
	   "execution_count": null,
	   "metadata": {
	    "collapsed": true
	   },
	   "outputs": [],
"source": [
"population = [7333253 3448613 2731743 1702086 1524249 1151977 1048949 1022830 998905 992038 816884 752279 734676 702979 665070 635913 617044 614289 579307 567094 547727 520947 514013 504505 493559];\n",
"disp(perctl(population, 10), 'The sample 10 percentile is')\n",
"disp(perctl(population, 80), 'The sample 80 percentile is')\n",
"disp(perctl(population, 50), 'The sample 80 percentile is')\n",
"disp(median(population), 'The median is')"
   ]
   }
,
{
		   "cell_type": "markdown",
		   "metadata": {},
		   "source": [
			"## Example 2.3i: Quartiles.sce"
		   ]
		  },
  {
"cell_type": "code",
	   "execution_count": null,
	   "metadata": {
	    "collapsed": true
	   },
	   "outputs": [],
"source": [
"noise = [ 82 89 94 110 74  122 112 95 100 78 65 60 90 83 87 75 114 85 69 94 124 115 107 88  97 74 72 68 83 91 90 102 77 125 108 65];\n",
"disp(quart(noise), 'The quartiles are')"
   ]
   }
,
{
		   "cell_type": "markdown",
		   "metadata": {},
		   "source": [
			"## Example 2.4a: Chebyshev_Inequality.sce"
		   ]
		  },
  {
"cell_type": "code",
	   "execution_count": null,
	   "metadata": {
	    "collapsed": true
	   },
	   "outputs": [],
"source": [
"cars = [448162 404192 368327 318308 272122 260486 249128 234936 218540 207977];\n",
"interval1 = mean(cars) - (1.5*st_deviation(cars));\n",
"interval2 = mean(cars) + (1.5*st_deviation(cars));\n",
"data = 100*5/9;\n",
"disp(interval2, , 'to' , interval1, 'Atleast 55.55% of the data lies in the interval' );"
   ]
   }
,
{
		   "cell_type": "markdown",
		   "metadata": {},
		   "source": [
			"## Example 2.5a: Empirical_Rule.sce"
		   ]
		  },
  {
"cell_type": "code",
	   "execution_count": null,
	   "metadata": {
	    "collapsed": true
	   },
	   "outputs": [],
"source": [
"data = [90 91 94 83 85 85 87 88 72 74 74 75 77 77 78 60 62 63 64 66 66 52 55 55 56 58 43 46];\n",
"disp('According to the empirical rule')\n",
"disp('68% of the data lies between')\n",
"disp(mean(data)+st_deviation(data), 'and', mean(data)-st_deviation(data))\n",
"disp('95% of the data lies between')\n",
"disp(mean(data)+(2*st_deviation(data)), 'and', mean(data)-(2*st_deviation(data)) )\n",
"disp('99.7% of the data lies between')\n",
"disp(mean(data)+(3*st_deviation(data)), 'and', mean(data)-(3*st_deviation(data)))"
   ]
   }
,
{
		   "cell_type": "markdown",
		   "metadata": {},
		   "source": [
			"## Example 2.6a: Sample_Correlation_Coefficient.sce"
		   ]
		  },
  {
"cell_type": "code",
	   "execution_count": null,
	   "metadata": {
	    "collapsed": true
	   },
	   "outputs": [],
"source": [
"temp = [24.2 22.7 30.5 28.6 25.5 32.0 28.6 26.5 25.3 26.0 24.4 24.8 20.6 25.1 21.4 23.7 23.9 25.2 27.4 28.3 28.8 26.6];\n",
"defects = [25 31 36 33 19 24 27 25 16 14 22 23 20 25 25 23 27 30 33 32 35 24];\n",
"temp_new = temp- mean(temp);\n",
"defects_new = defects - mean(defects);\n",
"num=0\n",
"s1 =0;\n",
"s2=0;\n",
"for i=1:22\n",
"    num = num + (temp_new(i)*defects_new(i));\n",
"    s1 = s1 + (temp_new(i)*temp_new(i));\n",
"    s2 = s2 + (defects_new(i)*defects_new(i));\n",
"end\n",
"coefficient = num/sqrt(s1*s2);\n",
"disp(coefficient)"
   ]
   }
,
{
		   "cell_type": "markdown",
		   "metadata": {},
		   "source": [
			"## Example 2.6b: Sample_Correlation_Coefficient.sce"
		   ]
		  },
  {
"cell_type": "code",
	   "execution_count": null,
	   "metadata": {
	    "collapsed": true
	   },
	   "outputs": [],
"source": [
"year = [12 16 13 18 19 12 18 19 12 14];\n",
"pulserate = [73 67 74 63 73 84 60 62 76 71];\n",
"year_new = year- mean(year);\n",
"pulserate_new = pulserate - mean(pulserate);\n",
"num=0\n",
"s1 =0;\n",
"s2=0;\n",
"for i=1:10\n",
"    num = num + (year_new(i)*pulserate_new(i));\n",
"    s1 = s1 + (year_new(i)*year_new(i));\n",
"    s2 = s2 + (pulserate_new(i)*pulserate_new(i));\n",
"end\n",
"coefficient = num/sqrt(s1*s2);\n",
"disp(coefficient)"
   ]
   }
],
"metadata": {
		  "kernelspec": {
		   "display_name": "Scilab",
		   "language": "scilab",
		   "name": "scilab"
		  },
		  "language_info": {
		   "file_extension": ".sce",
		   "help_links": [
			{
			 "text": "MetaKernel Magics",
			 "url": "https://github.com/calysto/metakernel/blob/master/metakernel/magics/README.md"
			}
		   ],
		   "mimetype": "text/x-octave",
		   "name": "scilab",
		   "version": "0.7.1"
		  }
		 },
		 "nbformat": 4,
		 "nbformat_minor": 0
}
