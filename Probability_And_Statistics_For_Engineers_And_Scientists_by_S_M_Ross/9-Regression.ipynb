{
"cells": [
 {
		   "cell_type": "markdown",
	   "metadata": {},
	   "source": [
       "# Chapter 9: Regression"
	   ]
	},
{
		   "cell_type": "markdown",
		   "metadata": {},
		   "source": [
			"## Example 9.10a: Multiple_Linear_Regression.sce"
		   ]
		  },
  {
"cell_type": "code",
	   "execution_count": null,
	   "metadata": {
	    "collapsed": true
	   },
	   "outputs": [],
"source": [
"x1= [679 1420 1349 296 6975 323 4200 633];\n",
"x2 = [30.4 34.1 17.2 26.8 29.1 18.7 32.6 32.5];\n",
"y = ones(8,1);\n",
"y= [11.6 ;16.1; 9.3; 9.1; 8.4; 7.7; 11.3; 8.4];\n",
"x = ones(8,3);\n",
"for i=1:8\n",
"    x(i,2)= x1(i);\n",
"    x(i,3)= x2(i);\n",
"end\n",
"\n",
"pro1 = x';\n",
"//disp(pro1);\n",
"\n",
"pro2= pro1*x;\n",
"//disp(pro2);\n",
"pro3 = inv(pro2);\n",
"//disp(pro3);\n",
"pro4 = pro3*pro1;\n",
"pro5 = pro4*y;\n",
"//disp(pro4);\n",
"//disp(y);\n",
"B= ones(3,1);\n",
"for i=1:3\n",
"    B(i,1)= 0;\n",
"    for k=1:8\n",
"        B(i,1)=B(i,1)+(pro4(i, k)*y(k, 1));\n",
"    end\n",
"end\n",
"disp(B);\n",
"//SSR = y'*y - B'*x'y;\n",
"SSR = y';\n",
"SSR= SSR*y;\n",
"sub = B';\n",
"sub = sub*x';\n",
"sub= sub*y; \n",
"SSR =SSR - sub;\n",
"disp(SSR, 'SSr is');"
   ]
   }
,
{
		   "cell_type": "markdown",
		   "metadata": {},
		   "source": [
			"## Example 9.10b: Estimate_of_variance.sce"
		   ]
		  },
  {
"cell_type": "code",
	   "execution_count": null,
	   "metadata": {
	    "collapsed": true
	   },
	   "outputs": [],
"source": [
"x1= [679 1420 1349 296 6975 323 4200 633];\n",
"x2 = [30.4 34.1 17.2 26.8 29.1 18.7 32.6 32.5];\n",
"y = ones(8,1);\n",
"n= 8;\n",
"k =2;\n",
"y= [11.6 ;16.1; 9.3; 9.1; 8.4; 7.7; 11.3; 8.4];\n",
"x = ones(8,3);\n",
"for i=1:8\n",
"    x(i,2)= x1(i);\n",
"    x(i,3)= x2(i);\n",
"end\n",
"\n",
"pro1 = x';\n",
"//disp(pro1);\n",
"\n",
"pro2= pro1*x;\n",
"//disp(pro2);\n",
"pro3 = inv(pro2);\n",
"//disp(pro3);\n",
"pro4 = pro3*pro1;\n",
"pro5 = pro4*y;\n",
"//disp(pro4);\n",
"//disp(y);\n",
"B= ones(3,1);\n",
"for i=1:3\n",
"    B(i,1)= 0;\n",
"    for k=1:8\n",
"        B(i,1)=B(i,1)+(pro4(i, k)*y(k, 1));\n",
"    end\n",
"end\n",
"//disp(B);\n",
"//SSR = y'*y - B'*x'y;\n",
"SSR = y';\n",
"SSR= SSR*y;\n",
"sub = B';\n",
"sub = sub*x';\n",
"sub= sub*y; \n",
"SSR =SSR - sub;\n",
"//disp(SSR, 'SSr is');\n",
"k=2;\n",
"den = n-k-1;\n",
"disp(den)\n",
"sigma = SSR/den;\n",
"disp(sigma, 'The variance is')"
   ]
   }
,
{
		   "cell_type": "markdown",
		   "metadata": {},
		   "source": [
			"## Example 9.10c: Diameter_of_a_tree.sce"
		   ]
		  },
  {
"cell_type": "code",
	   "execution_count": null,
	   "metadata": {
	    "collapsed": true
	   },
	   "outputs": [],
"source": [
"x1 = [44 33 33 32 34 31 33 30 34 34 33 36 33 34 37];\n",
"x2= [1.3 2.2 2.2 2.6 2.0 1.8 2.2 3.6 1.6 1.5 2.2 1.7 2.2 1.3 2.6];\n",
"x3 = [250 115 75 85 100 75 85 75 225 250 255 175 75 85 90];\n",
"x4= [0.63 0.59 0.56 0.55 0.54 0.59 0.56 0.46 0.63 0.60 0.63 0.58 0.55 0.57 0.62 ];\n",
"y = [18.1; 19.6; 16.6; 16.4; 16.9 ;17.0; 20.0; 16.6; 16.2; 18.5 ; 18.7; 19.4; 17.6; 18.3; 18.8];\n",
"n =length(x1);\n",
"x= ones(15, 5);\n",
"for i=1:15\n",
"    x(i,2)= x1(i);\n",
"    x(i,3)= x2(i);\n",
"    x(i,4)= x3(i);\n",
"    x(i,5)= x4(i);\n",
"end\n",
"pro1 = x';\n",
"//disp(pro1);\n",
"pro2= pro1*x;\n",
"//disp(pro2);\n",
"pro3 = inv(pro2);\n",
"//disp(pro3);\n",
"pro4 = pro3*pro1;\n",
"pro5 = pro4*y;\n",
"\n",
"for i=1:5\n",
"    B(i,1)= 0;\n",
"    for k=1:15\n",
"        B(i,1)=B(i,1)+(pro4(i, k)*y(k, 1));\n",
"    end\n",
"end\n",
"SSR = y';\n",
"SSR= SSR*y;\n",
"sub = B';\n",
"sub = sub*x';\n",
"sub= sub*y; \n",
"SSR =SSR - sub;\n",
"//disp(SSR);\n",
"//disp(B(2))\n",
"xxinv = 0.379;\n",
"k= 4;\n",
"ts = sqrt((n-k-2)/SSR)*B(2)/0.616;\n",
"pvalue = 2*(1- cdft('PQ',ts, n-k-2 ));\n",
"disp(pvalue, 'The p-value is')\n",
"\n",
"The SSR calculated by scilab is 19.34 whereas the textbook gives the value as 19.26 , thus the \n",
"difference in the final answer."
   ]
   }
,
{
		   "cell_type": "markdown",
		   "metadata": {},
		   "source": [
			"## Example 9.10d: Estimating_hardness.sce"
		   ]
		  },
  {
"cell_type": "code",
	   "execution_count": null,
	   "metadata": {
	    "collapsed": true
	   },
	   "outputs": [],
"source": [
"y=[79.2 ;64.0; 55.7; 56.3; 58.6; 84.3; 70.4; 61.3; 51.3; 49.8];\n",
"x1 = [0.02 0.03 0.03 0.04 0.10 0.15 0.15 0.09 0.13 0.09];\n",
"x2 = [1.05 1.20 1.25 1.30 1.30 1.00 1.10 1.20 1.40 1.40];\n",
"tvalue= 2.365;\n",
"x = ones(10,3);\n",
"for i=1:10\n",
"    x(i,2)= x1(i);\n",
"    x(i,3)= x2(i);\n",
"end\n",
"\n",
"pro1 = x';\n",
"//disp(pro1);\n",
"\n",
"pro2= pro1*x;\n",
"//disp(pro2);\n",
"pro3 = inv(pro2);\n",
"//disp(pro3);\n",
"pro4 = pro3*pro1;\n",
"pro5 = pro4*y;\n",
"//disp(pro4);\n",
"//disp(y);\n",
"B= ones(3,1);\n",
"for i=1:3\n",
"    B(i,1)= 0;\n",
"    for k=1:10\n",
"        B(i,1)=B(i,1)+(pro4(i, k)*y(k, 1));\n",
"    end\n",
"end\n",
"//disp(B);\n",
"//SSR = y'*y - B'*x'y;\n",
"SSR = y';\n",
"SSR= SSR*y;\n",
"sub = B';\n",
"sub = sub*x';\n",
"sub= sub*y; \n",
"SSR =SSR - sub;\n",
"disp(SSR, 'SSr is');\n",
"smallx = [1, 0.15, 1.15];\n",
"product = smallx * B;\n",
"//disp(product); \n",
"n = 10;\n",
"k=2;\n",
"val= sqrt(SSR/(n-k-1));\n",
"//disp(val);\n",
"\n",
"pro5 = smallx * pro3;\n",
"pro6 = pro5* smallx';\n",
"pro7 = val*sqrt(pro6)*tvalue;\n",
"//disp(pro7)\n",
"up = product + pro7;\n",
"low = product - pro7; \n",
"disp(' 95% confidence interval is from ');\n",
"disp(up, 'to', low);"
   ]
   }
,
{
		   "cell_type": "markdown",
		   "metadata": {},
		   "source": [
			"## Example 9.11a: Animal_fsickalling.sce"
		   ]
		  },
  {
"cell_type": "code",
	   "execution_count": null,
	   "metadata": {
	    "collapsed": true
	   },
	   "outputs": [],
"source": [
"cancer = 84;\n",
"total = 111;\n",
"level = 250;\n",
"alpha= -1*log((total-cancer)/total)/level;\n",
"disp(alpha , 'Alpha is ')"
   ]
   }
,
{
		   "cell_type": "markdown",
		   "metadata": {},
		   "source": [
			"## Example 9.1a: Scatter_Diagram.sce"
		   ]
		  },
  {
"cell_type": "code",
	   "execution_count": null,
	   "metadata": {
	    "collapsed": true
	   },
	   "outputs": [],
"source": [
"X= [100 110 120 130 140 150 160 170 180 190];\n",
"Y= [45 52 54 63 62 68 75 76 92 88];\n",
"plot2d(X, Y, -1);\n",
"disp('A linear regression model seems appropriate')"
   ]
   }
,
{
		   "cell_type": "markdown",
		   "metadata": {},
		   "source": [
			"## Example 9.2a: Relative_humidity_and_moisture_content.sce"
		   ]
		  },
  {
"cell_type": "code",
	   "execution_count": null,
	   "metadata": {
	    "collapsed": true
	   },
	   "outputs": [],
"source": [
"A = [46 53 29 61 36 39 47 49 52 38 55 32 57 54 44];\n",
"B = [12 15 7 17 10 11 11 12 14 9 16 8 18 14 12];\n",
"plot2d(A, B, -1);\n",
"[X, Y] = reglin(A, B);\n",
"//disp(X);\n",
"//disp(Y);\n",
"p = 0 : 0.1: 65;\n",
"q = p.*X + Y\n",
"plot2d(p, q, 2);"
   ]
   }
,
{
		   "cell_type": "markdown",
		   "metadata": {},
		   "source": [
			"## Example 9.3a: Moisture_against_Density.sce"
		   ]
		  },
  {
"cell_type": "code",
	   "execution_count": null,
	   "metadata": {
	    "collapsed": true
	   },
	   "outputs": [],
"source": [
"x= [5 6 7 10 12 15 18 20];\n",
"y= [7.4 9.3 10.6 15.4 18.1 22.2 24.1 24.8];\n",
"plot2d(x,y,-1);\n",
"\n",
"xbar = mean(x);\n",
"ybar= mean(y);\n",
"n= 8;\n",
"SxY = 0;\n",
"for i= 1:n\n",
"    SxY = SxY + (x(i)*y(i)) - (xbar*ybar);\n",
"end\n",
"\n",
"Sxx = 0;\n",
"for i=1:n\n",
"    Sxx= Sxx + (x(i)*x(i)) - (xbar*xbar);\n",
"end\n",
"SYY = 0;\n",
"for i=1:n\n",
"    SYY = SYY + (y(i)*y(i)) - (ybar*ybar);\n",
"end\n",
"B = SxY/Sxx;\n",
"A = ybar - (B*xbar);\n",
"disp(A, 'A is');\n",
"disp(B, 'B is');\n",
"p= 0:0.1: 20;\n",
"q= A + B*p;\n",
"plot2d(p,q,2);\n",
"\n",
"SSR = ((Sxx*SYY)- (SxY*SxY))/Sxx ;\n",
"disp(SSR, 'The SSR is')"
   ]
   }
,
{
		   "cell_type": "markdown",
		   "metadata": {},
		   "source": [
			"## Example 9.4a: Effect_of_speed_on_mileage.sce"
		   ]
		  },
  {
"cell_type": "code",
	   "execution_count": null,
	   "metadata": {
	    "collapsed": true
	   },
	   "outputs": [],
"source": [
"x= [45 50 55 60 65 70 75];\n",
"y= [24.2 25.0 23.3 22.0 21.5 20.6 19.8];\n",
"xbar = mean(x);\n",
"ybar= mean(y);\n",
"n= 7;\n",
"SxY = 0;\n",
"for i= 1:n\n",
"    SxY = SxY + (x(i)*y(i)) - (xbar*ybar);\n",
"end\n",
"\n",
"Sxx = 0;\n",
"for i=1:n\n",
"    Sxx= Sxx + (x(i)*x(i)) - (xbar*xbar);\n",
"end\n",
"SYY = 0;\n",
"for i=1:n\n",
"    SYY = SYY + (y(i)*y(i)) - (ybar*ybar);\n",
"end\n",
"B = SxY/Sxx;\n",
"A = ybar - (B*xbar);\n",
"//disp(A, 'A is');\n",
"//disp(B, 'B is');\n",
"\n",
"SSR = ((Sxx*SYY)- (SxY*SxY))/Sxx ;\n",
"//disp(SSR, 'The SSR is')\n",
"ts = sqrt(((n-2)*Sxx)/SSR)*abs(B);\n",
"disp(ts, 'the test statistic is');\n",
"tvalue= cdft('T',5, 0.995, 0.005 );\n",
"//disp(tvalue, 'tvalue is');\n",
"if(tvalue < ts)\n",
"    disp('Hypothesis beta= 0 is rejected at 1% level of significance')\n",
"else\n",
"    disp('Hypothesis beta= 0 is accepted at 1% level of significance')\n",
" end   "
   ]
   }
,
{
		   "cell_type": "markdown",
		   "metadata": {},
		   "source": [
			"## Example 9.4b: Confidence_interval_estimate.sce"
		   ]
		  },
  {
"cell_type": "code",
	   "execution_count": null,
	   "metadata": {
	    "collapsed": true
	   },
	   "outputs": [],
"source": [
"x= [45 50 55 60 65 70 75];\n",
"y= [24.2 25.0 23.3 22.0 21.5 20.6 19.8];\n",
"xbar = mean(x);\n",
"ybar= mean(y);\n",
"n= 7;\n",
"SxY = 0;\n",
"for i= 1:n\n",
"    SxY = SxY + (x(i)*y(i)) - (xbar*ybar);\n",
"end\n",
"\n",
"Sxx = 0;\n",
"for i=1:n\n",
"    Sxx= Sxx + (x(i)*x(i)) - (xbar*xbar);\n",
"end\n",
"SYY = 0;\n",
"for i=1:n\n",
"    SYY = SYY + (y(i)*y(i)) - (ybar*ybar);\n",
"end\n",
"B = SxY/Sxx;\n",
"A = ybar - (B*xbar);\n",
"//disp(A, 'A is');\n",
"//disp(B, 'B is');\n",
"\n",
"SSR = ((Sxx*SYY)- (SxY*SxY))/Sxx ;\n",
"//disp(SSR, 'The SSR is')\n",
"\n",
"tvalue= cdft('T',5, 0.975, 0.025 );\n",
"k = sqrt(SSR/((n-2)*Sxx))*tvalue;\n",
"int1 = B + k;\n",
"int2= B-k;\n",
"disp(int2, 'to ', int1 ,'The 95% confidence interval is '  );"
   ]
   }
,
{
		   "cell_type": "markdown",
		   "metadata": {},
		   "source": [
			"## Example 9.4c: Regression_to_the_mean.sce"
		   ]
		  },
  {
"cell_type": "code",
	   "execution_count": null,
	   "metadata": {
	    "collapsed": true
	   },
	   "outputs": [],
"source": [
"x= [60 62 64 65 66 67 68 70 72 74];\n",
"y= [63.6 65.2 66 65.5 66.9 67.1 67.4 68.3 70.1 70];\n",
"plot2d(x,y,-1);\n",
"xbar = mean(x);\n",
"ybar= mean(y);\n",
"n= 10;\n",
"SxY = 0;\n",
"for i= 1:n\n",
"    SxY = SxY + (x(i)*y(i)) - (xbar*ybar);\n",
"end\n",
"\n",
"Sxx = 0;\n",
"for i=1:n\n",
"    Sxx= Sxx + (x(i)*x(i)) - (xbar*xbar);\n",
"end\n",
"SYY = 0;\n",
"for i=1:n\n",
"    SYY = SYY + (y(i)*y(i)) - (ybar*ybar);\n",
"end\n",
"B = SxY/Sxx;\n",
"A = ybar - (B*xbar);\n",
"//disp(A, 'A is');\n",
"//disp(B, 'B is');\n",
"p= 60:0.1: 72;\n",
"q= A + B*p;\n",
"plot2d(p,q,2);\n",
"SSR = ((Sxx*SYY)- (SxY*SxY))/Sxx ;\n",
"ts = sqrt(((n-2)*Sxx)/SSR)*(B-1)\n",
"//disp(ts);\n",
"tvalue= cdft('T',n-2, 0.99, 0.01 );\n",
"//disp(tvalue);\n",
"if(ts<(-1*tvalue))\n",
"    disp('Null hypotheis is rejected at 1% level of significance')\n",
"else\n",
"    disp('Null hypotheis is accepted at 1% level of significance')\n",
"end    "
   ]
   }
,
{
		   "cell_type": "markdown",
		   "metadata": {},
		   "source": [
			"## Example 9.4d: Motor_vehicle_deaths.sce"
		   ]
		  },
  {
"cell_type": "code",
	   "execution_count": null,
	   "metadata": {
	    "collapsed": true
	   },
	   "outputs": [],
"source": [
"x= [121 96 85 113 102 118 90 84 107 112 95 101];\n",
"y= [104 91 101 110 117 108 96 102 114 96 88 106];\n",
"\n",
"plot2d(x,y,-1);\n",
"xlabel('Deaths in 1988');\n",
"ylabel('Deaths in 1989');\n",
"\n",
"xbar = mean(x);\n",
"ybar= mean(y);\n",
"n= 12;\n",
"SxY = 0;\n",
"for i= 1:n\n",
"    SxY = SxY + (x(i)*y(i)) - (xbar*ybar);\n",
"end\n",
"\n",
"Sxx = 0;\n",
"for i=1:n\n",
"    Sxx= Sxx + (x(i)*x(i)) - (xbar*xbar);\n",
"end\n",
"SYY = 0;\n",
"for i=1:n\n",
"    SYY = SYY + (y(i)*y(i)) - (ybar*ybar);\n",
"end\n",
"B = SxY/Sxx;\n",
"A = ybar - (B*xbar);\n",
"disp(A, 'A is');\n",
"disp(B, 'B is');"
   ]
   }
,
{
		   "cell_type": "markdown",
		   "metadata": {},
		   "source": [
			"## Example 9.4e: Confidence_interval_for_height.sce"
		   ]
		  },
  {
"cell_type": "code",
	   "execution_count": null,
	   "metadata": {
	    "collapsed": true
	   },
	   "outputs": [],
"source": [
"x= [60 62 64 65 66 67 68 70 72 74];\n",
"y= [63.6 65.2 66 65.5 66.9 67.1 67.4 68.3 70.1 70];\n",
"x0 = 68;\n",
"xbar = mean(x);\n",
"ybar= mean(y);\n",
"n= 10;\n",
"SxY = 0;\n",
"for i= 1:n\n",
"    SxY = SxY + (x(i)*y(i)) - (xbar*ybar);\n",
"end\n",
"//disp(SxY, 'SxY is');\n",
"Sxx = 0;\n",
"for i=1:n\n",
"    Sxx= Sxx + (x(i)*x(i)) - (xbar*xbar);\n",
"end\n",
"//disp(Sxx, 'Sxx is');\n",
"SYY = 0;\n",
"for i=1:n\n",
"    SYY = SYY + (y(i)*y(i)) - (ybar*ybar);\n",
"end\n",
"//disp(SYY, 'SYY is');\n",
"B = SxY/Sxx;\n",
"A = ybar - (B*xbar);\n",
"tvalue= cdft('T',n-2, 0.975, 0.025 );\n",
"SSR = ((Sxx*SYY)- (SxY*SxY))/Sxx ;\n",
"//disp(tvalue, 'tvalue is');\n",
"intvl = A + (B*x0);\n",
"//disp(intvl);\n",
"change = sqrt((1/n)+(((x0-xbar)^2)/Sxx))* sqrt(SSR/(n-2))*tvalue;\n",
"intvl1 = intvl - change;\n",
"intvl2= intvl + change;\n",
"disp(intvl2, 'to ', intvl1 ,'The 95% confidence interval is '  );"
   ]
   }
,
{
		   "cell_type": "markdown",
		   "metadata": {},
		   "source": [
			"## Example 9.4f: Confidence_interval_for_height.sce"
		   ]
		  },
  {
"cell_type": "code",
	   "execution_count": null,
	   "metadata": {
	    "collapsed": true
	   },
	   "outputs": [],
"source": [
"x= [60 62 64 65 66 67 68 70 72 74];\n",
"y= [63.6 65.2 66 65.5 66.9 67.1 67.4 68.3 70.1 70];\n",
"x0 = 68;\n",
"xbar = mean(x);\n",
"ybar= mean(y);\n",
"n= 10;\n",
"SxY = 0;\n",
"for i= 1:n\n",
"    SxY = SxY + (x(i)*y(i)) - (xbar*ybar);\n",
"end\n",
"//disp(SxY, 'SxY is');\n",
"Sxx = 0;\n",
"for i=1:n\n",
"    Sxx= Sxx + (x(i)*x(i)) - (xbar*xbar);\n",
"end\n",
"//disp(Sxx, 'Sxx is');\n",
"SYY = 0;\n",
"for i=1:n\n",
"    SYY = SYY + (y(i)*y(i)) - (ybar*ybar);\n",
"end\n",
"//disp(SYY, 'SYY is');\n",
"B = SxY/Sxx;\n",
"A = ybar - (B*xbar);\n",
"tvalue= cdft('T',n-2, 0.975, 0.025 );\n",
"SSR = ((Sxx*SYY)- (SxY*SxY))/Sxx ;\n",
"//disp(tvalue, 'tvalue is');\n",
"intvl = A + (B*x0);\n",
"//disp(intvl);\n",
"change = sqrt(((n+1)/n)+(((x0-xbar)^2)/Sxx))* sqrt(SSR/(n-2))*tvalue;\n",
"intvl1 = intvl - change;\n",
"intvl2= intvl + change;\n",
"disp(intvl2, 'to ', intvl1 ,'The 95% confidence interval is '  );"
   ]
   }
,
{
		   "cell_type": "markdown",
		   "metadata": {},
		   "source": [
			"## Example 9.5a: Height_of_son_and_father.sce"
		   ]
		  },
  {
"cell_type": "code",
	   "execution_count": null,
	   "metadata": {
	    "collapsed": true
	   },
	   "outputs": [],
"source": [
"x= [60 62 64 65 66 67 68 70 72 74];\n",
"y= [63.6 65.2 66 65.5 66.9 67.1 67.4 68.3 70.1 70];\n",
"\n",
"xbar = mean(x);\n",
"ybar= mean(y);\n",
"n= 10;\n",
"SxY = 0;\n",
"for i= 1:n\n",
"    SxY = SxY + (x(i)*y(i)) - (xbar*ybar);\n",
"end\n",
"\n",
"Sxx = 0;\n",
"for i=1:n\n",
"    Sxx= Sxx + (x(i)*x(i)) - (xbar*xbar);\n",
"end\n",
"SYY = 0;\n",
"for i=1:n\n",
"    SYY = SYY + (y(i)*y(i)) - (ybar*ybar);\n",
"end\n",
"B = SxY/Sxx;\n",
"A = ybar - (B*xbar);\n",
"\n",
"SSR = ((Sxx*SYY)- (SxY*SxY))/Sxx ;\n",
"R2 = 1 - (SSR/SYY);\n",
"disp(R2, 'The coefficient of determination is')"
   ]
   }
,
{
		   "cell_type": "markdown",
		   "metadata": {},
		   "source": [
			"## Example 9.7a: Percentage_of_chemical_used.sce"
		   ]
		  },
  {
"cell_type": "code",
	   "execution_count": null,
	   "metadata": {
	    "collapsed": true
	   },
	   "outputs": [],
"source": [
"x= [5 10 20 30 40 50 60 80];\n",
"yold= [0.061 0.113 0.192 0.259 0.339 0.401 0.461 0.551];\n",
"plot2d(x, yold, -1);\n",
"y = -1*log(1-yold);\n",
"scf(2);\n",
"plot2d(x, y, -1);\n",
"\n",
"\n",
"xbar = mean(x);\n",
"ybar= mean(y);\n",
"n= 8;\n",
"SxY = 0;\n",
"for i= 1:n\n",
"    SxY = SxY + (x(i)*y(i)) - (xbar*ybar);\n",
"end\n",
"\n",
"Sxx = 0;\n",
"for i=1:n\n",
"    Sxx= Sxx + (x(i)*x(i)) - (xbar*xbar);\n",
"end\n",
"SYY = 0;\n",
"for i=1:n\n",
"    SYY = SYY + (y(i)*y(i)) - (ybar*ybar);\n",
"end\n",
"B = SxY/Sxx;\n",
"A = ybar - (B*xbar);\n",
"//disp(A, 'A is');\n",
"//disp(B, 'B is');\n",
"SSR = ((Sxx*SYY)- (SxY*SxY))/Sxx ;\n",
"chat = exp(-1*A);\n",
"dhat = 1 - exp(-1*B);\n",
"disp(chat, 'chat is');\n",
"disp(dhat, 'dhat is');"
   ]
   }
,
{
		   "cell_type": "markdown",
		   "metadata": {},
		   "source": [
			"## Example 9.8b: Distance_vs_Travel_Time.sce"
		   ]
		  },
  {
"cell_type": "code",
	   "execution_count": null,
	   "metadata": {
	    "collapsed": true
	   },
	   "outputs": [],
"source": [
"x = [0.5 1 1.5 2 3 4 5 6 8 10];\n",
"y= [15 15.1 16.5 19.9 27.7 29.7 26.7 35.9 42 49.4];\n",
"for i=1:10\n",
"    w(i) = 1/x(i);\n",
"end\n",
"//disp(w)\n",
"n = 10;\n",
"p = zeros(2,2);\n",
"q = zeros(2, 1);\n",
"p(1, 1) = sum(w);\n",
"p(1,2) = n;\n",
"p(2,1) = n;\n",
"p(2,2) = sum(x);\n",
"for i=1:10\n",
"    new(i) = w(i)*y(i)\n",
"end\n",
"\n",
"q(1,1)= -1*sum(new);\n",
"q(2,1) = -1*sum(y);\n",
"//disp(p);\n",
"//disp(q);\n",
"sol = linsolve(p,q);\n",
"A = sol(1,1 );\n",
"B = sol(2,1);\n",
"disp(A, 'A is');\n",
"disp(B, 'B is'); "
   ]
   }
,
{
		   "cell_type": "markdown",
		   "metadata": {},
		   "source": [
			"## Example 9.9a: Polynomial_Fitting.sce"
		   ]
		  },
  {
"cell_type": "code",
	   "execution_count": null,
	   "metadata": {
	    "collapsed": true
	   },
	   "outputs": [],
"source": [
"x = 1:1:10;\n",
"y= [20.6 30.8 55 71.4 97.3 131.8 156.3 197.3 238.7 291.7];\n",
"plot2d(x, y, -1);\n",
"xlabel('X');\n",
"ylabel('Y');\n",
"n = length(x)\n",
"xsquared = x.^2;\n",
"xcube = x.^3;\n",
"xfour = x.^4;\n",
"xy = x.*y;\n",
"x2y = xy.*x;\n",
"p= zeros(3,3);\n",
"q = zeros(3,1);\n",
"p(1,1) = n;\n",
"p(1,2) = sum(x);\n",
"p(1,3)=sum(xsquared);\n",
"p(2,1) = sum(x);\n",
"p(2,2) = sum(xsquared);\n",
"p(2,3)=sum(xcube);\n",
"p(3,1) = sum(xsquared);\n",
"p(3,2) = sum(xcube);\n",
"p(3,3)=sum(xfour);\n",
"q(1,1)= -1*sum(y);\n",
"q(2,1) = -1*sum(xy);\n",
"q(3,1) = -1*sum(x2y);\n",
"B= linsolve(p, q);\n",
"disp(B(1,1), 'B0 is');\n",
"disp(B(2,1), 'B1 is');\n",
"disp(B(3,1), 'B2 is');"
   ]
   }
],
"metadata": {
		  "kernelspec": {
		   "display_name": "Scilab",
		   "language": "scilab",
		   "name": "scilab"
		  },
		  "language_info": {
		   "file_extension": ".sce",
		   "help_links": [
			{
			 "text": "MetaKernel Magics",
			 "url": "https://github.com/calysto/metakernel/blob/master/metakernel/magics/README.md"
			}
		   ],
		   "mimetype": "text/x-octave",
		   "name": "scilab",
		   "version": "0.7.1"
		  }
		 },
		 "nbformat": 4,
		 "nbformat_minor": 0
}
