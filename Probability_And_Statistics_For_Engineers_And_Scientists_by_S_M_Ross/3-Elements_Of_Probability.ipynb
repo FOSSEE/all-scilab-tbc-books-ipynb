{
"cells": [
 {
		   "cell_type": "markdown",
	   "metadata": {},
	   "source": [
       "# Chapter 3: Elements Of Probability"
	   ]
	},
{
		   "cell_type": "markdown",
		   "metadata": {},
		   "source": [
			"## Example 3.4a: Union.sce"
		   ]
		  },
  {
"cell_type": "code",
	   "execution_count": null,
	   "metadata": {
	    "collapsed": true
	   },
	   "outputs": [],
"source": [
"cigarette = 0.28;\n",
"cigar = 0.07;\n",
"cigar_and_cigarette = 0.05 ; \n",
"cigar_or_cigarette = cigarette + cigar - cigar_and_cigarette;\n",
"disp( '% of the males smoke neither cigar nor cigarette', (1-cigar_or_cigarette)*100 )"
   ]
   }
,
{
		   "cell_type": "markdown",
		   "metadata": {},
		   "source": [
			"## Example 3.5a: Basic_Principle_of_Counting.sce"
		   ]
		  },
  {
"cell_type": "code",
	   "execution_count": null,
	   "metadata": {
	    "collapsed": true
	   },
	   "outputs": [],
"source": [
"white_balls= 6;\n",
"black_balls = 5;\n",
"total = white_balls + black_balls;\n",
"probability_whiteandblack = white_balls*black_balls/(total*(total-1));\n",
"probability_blackandwhite = white_balls*black_balls/(total*(total-1));\n",
"reqd_probability = probability_whiteandblack + probability_blackandwhite;\n",
"disp(reqd_probability, 'Thus, the required probability is')"
   ]
   }
,
{
		   "cell_type": "markdown",
		   "metadata": {},
		   "source": [
			"## Example 3.5b: Basic_Principle_of_Counting.sce"
		   ]
		  },
  {
"cell_type": "code",
	   "execution_count": null,
	   "metadata": {
	    "collapsed": true
	   },
	   "outputs": [],
"source": [
"maths = 4;\n",
"chemistry = 3;\n",
"history = 2;\n",
"language = 1;\n",
"total_arrangements = factorial(4)*factorial(maths)*factorial(chemistry)*factorial(history)*factorial(language);\n",
"disp(total_arrangements, 'The total number of possible arrangements is ')"
   ]
   }
,
{
		   "cell_type": "markdown",
		   "metadata": {},
		   "source": [
			"## Example 3.5c: Basic_Principle_of_Counting.sce"
		   ]
		  },
  {
"cell_type": "code",
	   "execution_count": null,
	   "metadata": {
	    "collapsed": true
	   },
	   "outputs": [],
"source": [
"men = 6;\n",
"women = 4;\n",
"disp(factorial(men+women), 'No of different rankings possible is')\n",
"women_top4 = factorial(women)*factorial(men);\n",
"prob = women_top4/factorial(men+women);\n",
"disp(prob, 'Probability that women receive the top 4 scores is')"
   ]
   }
,
{
		   "cell_type": "markdown",
		   "metadata": {},
		   "source": [
			"## Example 3.5d: Committee_Probability.sce"
		   ]
		  },
  {
"cell_type": "code",
	   "execution_count": null,
	   "metadata": {
	    "collapsed": true
	   },
	   "outputs": [],
"source": [
"men = 6;\n",
"women = 9;\n",
"reqd_size =5;\n",
"total =factorial(men+women)/(factorial(reqd_size)*factorial(men+women-reqd_size));\n",
"given_committee = factorial(men)*factorial(women)/(factorial(3)*factorial(2)*factorial(men-3)*factorial(women-2));\n",
"prob = given_committee/total;\n",
"disp(prob, 'Probability that the committee consists of 3 men and 2 women is')"
   ]
   }
,
{
		   "cell_type": "markdown",
		   "metadata": {},
		   "source": [
			"## Example 3.5f: Pairing_Probability.sce"
		   ]
		  },
  {
"cell_type": "code",
	   "execution_count": null,
	   "metadata": {
	    "collapsed": true
	   },
	   "outputs": [],
"source": [
"black_p = 6;\n",
"white_p = 6;\n",
"pair = 2;\n",
"total_p = black_p + white_p;\n",
"\n",
"\n",
"\n",
"\n",
"total_pairs  = 1;\n",
"while(total_p >0)\n",
"    total_pairs = total_pairs*factorial(total_p)/(factorial(pair) * factorial(total_p - pair) );\n",
"    total_p = total_p -2;\n",
"    //disp(total_pairs)\n",
"end\n",
"//disp(total_pairs)\n",
"total_pairs= total_pairs/factorial(6);\n",
"black_pairs  = 1;\n",
"while(black_p >0)\n",
"    black_pairs = black_pairs*factorial(black_p)/((factorial(pair) * factorial(black_p - pair) ));\n",
"    black_p = black_p -2;\n",
"    //disp(black_pairs)\n",
"end\n",
"black_pairs= black_pairs/factorial(3);\n",
"//disp(black_pairs)\n",
"\n",
"\n",
"white_pairs = black_pairs;\n",
"allowed_pairs = black_pairs * white_pairs;\n",
"probb = allowed_pairs/ total_pairs;\n",
"disp(probb, ' Probability that a random pairing will not result in any of the white and black players rooming together is ') "
   ]
   }
,
{
		   "cell_type": "markdown",
		   "metadata": {},
		   "source": [
			"## Example 3.6a: Acceptable_Transistor.sce"
		   ]
		  },
  {
"cell_type": "code",
	   "execution_count": null,
	   "metadata": {
	    "collapsed": true
	   },
	   "outputs": [],
"source": [
"defective =5;\n",
"partially_defective = 10;\n",
"acceptable = 25;\n",
"disp(acceptable/(acceptable+partially_defective), 'The required probability is')"
   ]
   }
,
{
		   "cell_type": "markdown",
		   "metadata": {},
		   "source": [
			"## Example 3.6b: Both_Boys.sce"
		   ]
		  },
  {
"cell_type": "code",
	   "execution_count": null,
	   "metadata": {
	    "collapsed": true
	   },
	   "outputs": [],
"source": [
"prob_bb = 0.25;\n",
"prob_bg = 0.25;\n",
"prob_gb = 0.25;\n",
"prob_gg = 0.25;\n",
"disp(prob_bb/(prob_bg+prob_gb+prob_bb), 'Probability that both are boys is')"
   ]
   }
,
{
		   "cell_type": "markdown",
		   "metadata": {},
		   "source": [
			"## Example 3.6c: Branch_Manager.sce"
		   ]
		  },
  {
"cell_type": "code",
	   "execution_count": null,
	   "metadata": {
	    "collapsed": true
	   },
	   "outputs": [],
"source": [
"prob_phoenix = 0.3;\n",
"prob_manager = 0.6;\n",
"disp(prob_phoenix*prob_manager , 'Probability that Perez will be a Phoenix branch office manager is')"
   ]
   }
,
{
		   "cell_type": "markdown",
		   "metadata": {},
		   "source": [
			"## Example 3.7a: Accident_Probability.sce"
		   ]
		  },
  {
"cell_type": "code",
	   "execution_count": null,
	   "metadata": {
	    "collapsed": true
	   },
	   "outputs": [],
"source": [
"accident_prone= 0.4;\n",
"nonaccident_prone= 0.2;\n",
"pop_accident = 0.3;\n",
"prob = pop_accident*accident_prone + (1-pop_accident)*nonaccident_prone;\n",
"disp(prob, 'The required probability is ');"
   ]
   }
,
{
		   "cell_type": "markdown",
		   "metadata": {},
		   "source": [
			"## Example 3.7b: Accident_within_a_year.sce"
		   ]
		  },
  {
"cell_type": "code",
	   "execution_count": null,
	   "metadata": {
	    "collapsed": true
	   },
	   "outputs": [],
"source": [
"accident_prone= 0.4;\n",
"nonaccident_prone= 0.2;\n",
"pop_accident = 0.3;\n",
"prob_of_accident = pop_accident*accident_prone + (1-pop_accident)*nonaccident_prone;\n",
"prob = pop_accident * accident_prone /prob_of_accident;\n",
"disp(prob, 'The required probability is')"
   ]
   }
,
{
		   "cell_type": "markdown",
		   "metadata": {},
		   "source": [
			"## Example 3.7c: Multiple_Choice_Test.sce"
		   ]
		  },
  {
"cell_type": "code",
	   "execution_count": null,
	   "metadata": {
	    "collapsed": true
	   },
	   "outputs": [],
"source": [
"m = 5;\n",
"p =1/2;\n",
"disp( (m*p)/(1+((m-1)*p)), 'The required probability is')"
   ]
   }
,
{
		   "cell_type": "markdown",
		   "metadata": {},
		   "source": [
			"## Example 3.7d: blood_test.sce"
		   ]
		  },
  {
"cell_type": "code",
	   "execution_count": null,
	   "metadata": {
	    "collapsed": true
	   },
	   "outputs": [],
"source": [
"detect_present = 0.99;\n",
"detect_notpresent = 0.01;\n",
"pop_disease = 0.005;\n",
"prob = detect_present*pop_disease/((detect_present*pop_disease) +(detect_notpresent*(1-pop_disease)) ) ;\n",
"disp(prob, 'The required probability is')"
   ]
   }
,
{
		   "cell_type": "markdown",
		   "metadata": {},
		   "source": [
			"## Example 3.7e: Criminal_Investigation.sce"
		   ]
		  },
  {
"cell_type": "code",
	   "execution_count": null,
	   "metadata": {
	    "collapsed": true
	   },
	   "outputs": [],
"source": [
"criminal_char = 0.9\n",
"convinced= 0.6;\n",
"pop_char = 0.2;\n",
"prob = (convinced*criminal_char) /((convinced*criminal_char) + (pop_char*(1-convinced)));\n",
"disp(prob, 'The required probability is')"
   ]
   }
,
{
		   "cell_type": "markdown",
		   "metadata": {},
		   "source": [
			"## Example 3.7f: Missing_Plane.sce"
		   ]
		  },
  {
"cell_type": "code",
	   "execution_count": null,
	   "metadata": {
	    "collapsed": true
	   },
	   "outputs": [],
"source": [
"alpha1 = 0.4; \n",
"plane_in_region1 = 1/3;\n",
"plane_in_region2 = 1/3;\n",
"plane_in_region3 = 1/3;\n",
"prob1 = (alpha1*plane_in_region1)/((alpha1*plane_in_region1)+ 1*plane_in_region2 + 1*plane_in_region3);\n",
"prob2 = (1*plane_in_region2)/((alpha1*plane_in_region1)+ 1*plane_in_region2 + 1*plane_in_region3);\n",
"disp(prob1 , 'The probability that the planes is in region 1 given that the search of region 1 did not uncover it ');\n",
"disp(prob2 , 'The probability that the planes is in region 2/3 given that the search of region 1 did not uncover it ');"
   ]
   }
,
{
		   "cell_type": "markdown",
		   "metadata": {},
		   "source": [
			"## Example 3.8a: Independent_Events.sce"
		   ]
		  },
  {
"cell_type": "code",
	   "execution_count": null,
	   "metadata": {
	    "collapsed": true
	   },
	   "outputs": [],
"source": [
"prob_A = 4/52;\n",
"prob_H = 13/52;\n",
"disp(prob_A*prob_H , 'P(AH) is')"
   ]
   }
],
"metadata": {
		  "kernelspec": {
		   "display_name": "Scilab",
		   "language": "scilab",
		   "name": "scilab"
		  },
		  "language_info": {
		   "file_extension": ".sce",
		   "help_links": [
			{
			 "text": "MetaKernel Magics",
			 "url": "https://github.com/calysto/metakernel/blob/master/metakernel/magics/README.md"
			}
		   ],
		   "mimetype": "text/x-octave",
		   "name": "scilab",
		   "version": "0.7.1"
		  }
		 },
		 "nbformat": 4,
		 "nbformat_minor": 0
}
