{
"cells": [
 {
		   "cell_type": "markdown",
	   "metadata": {},
	   "source": [
       "# Chapter 4: Random Variables And Expectation"
	   ]
	},
{
		   "cell_type": "markdown",
		   "metadata": {},
		   "source": [
			"## Example 4.1a: sum_of_two_fair_dice.sce"
		   ]
		  },
  {
"cell_type": "code",
	   "execution_count": null,
	   "metadata": {
	    "collapsed": true
	   },
	   "outputs": [],
"source": [
"p11 = 1/36;\n",
"p12 = 1/36;\n",
"p13 = 1/36;\n",
"p14 = 1/36;\n",
"p15 = 1/36;\n",
"p16 = 1/36;\n",
"p21 = 1/36;\n",
"p22 = 1/36;\n",
"p23 = 1/36;\n",
"p24 = 1/36;\n",
"p25 = 1/36;\n",
"p26 = 1/36;\n",
"p31 = 1/36;\n",
"p32 = 1/36;\n",
"p33 = 1/36;\n",
"p34 = 1/36;\n",
"p35 = 1/36;\n",
"p36 = 1/36;\n",
"p41 = 1/36;\n",
"p42 = 1/36;\n",
"p43 = 1/36;\n",
"p44 = 1/36;\n",
"p45 = 1/36;\n",
"p46 = 1/36;\n",
"p51 = 1/36;\n",
"p52 = 1/36;\n",
"p53 = 1/36;\n",
"p54 = 1/36;\n",
"p55 = 1/36;\n",
"p56 = 1/36;\n",
"p61 = 1/36;\n",
"p62 = 1/36;\n",
"p63 = 1/36;\n",
"p64 = 1/36;\n",
"p65 = 1/36;\n",
"p66 = 1/36;\n",
"disp(p11, 'Probability that the sum is 2')\n",
"disp(p12+p21, 'Probability that the sum is 3')\n",
"disp(p13+p31+p22, 'Probability that the sum is 4')\n",
"disp(p14+p41+p32+p23, 'Probability that the sum is 5')\n",
"disp(p15+p51+p24+p42+p33, 'Probability that the sum is 6')\n",
"disp(p16+p61+p25+p52+p34+p43, 'Probability that the sum is 7')\n",
"disp(p26+p62+p35+p53+p44, 'Probability that the sum is 8')\n",
"disp(p36+p63+p45+p54, 'Probability that the sum is 9')\n",
"disp(p46+p64+p55, 'Probability that the sum is 10')\n",
"disp(p65+p56, 'Probability that the sum is 11')\n",
"disp(p66, 'Probability that the sum is 12')"
   ]
   }
,
{
		   "cell_type": "markdown",
		   "metadata": {},
		   "source": [
			"## Example 4.1b: Defective_or_Acceptable.sce"
		   ]
		  },
  {
"cell_type": "code",
	   "execution_count": null,
	   "metadata": {
	    "collapsed": true
	   },
	   "outputs": [],
"source": [
"pdd= 0.09;\n",
"pda = 0.21;\n",
"pad = 0.21;\n",
"paa = 0.49;\n",
"\n",
"disp(pdd, 'Probability that the number of acceptable components is 0 is')\n",
"disp(pda+pad, 'Probability that the number of acceptable components is 1 is')\n",
"disp(paa, 'Probability that the number of acceptable components is 2 is')\n",
"disp(pdd, 'Probability that I is 0  is')\n",
"\n",
"disp(paa+pad+pda, 'Probability that I is 1 is')"
   ]
   }
,
{
		   "cell_type": "markdown",
		   "metadata": {},
		   "source": [
			"## Example 4.1c: X_exceeds_1.sce"
		   ]
		  },
  {
"cell_type": "code",
	   "execution_count": null,
	   "metadata": {
	    "collapsed": true
	   },
	   "outputs": [],
"source": [
"prob = 1-(1-(1/%e));\n",
"disp( prob, 'Probability that X exceeds 1 is')"
   ]
   }
,
{
		   "cell_type": "markdown",
		   "metadata": {},
		   "source": [
			"## Example 4.2a: sum_of_pmf.sce"
		   ]
		  },
  {
"cell_type": "code",
	   "execution_count": null,
	   "metadata": {
	    "collapsed": true
	   },
	   "outputs": [],
"source": [
"p1 = 1/2;\n",
"p2 = 1/3;\n",
"disp (1-(p1+p2), 'Probability that X is 3 is ')"
   ]
   }
,
{
		   "cell_type": "markdown",
		   "metadata": {},
		   "source": [
			"## Example 4.2b: pdf.sce"
		   ]
		  },
  {
"cell_type": "code",
	   "execution_count": null,
	   "metadata": {
	    "collapsed": true
	   },
	   "outputs": [],
"source": [
"\n",
"integral = integrate('(4*x)-(2*x*x)' , 'x', 0, 2);\n",
"C = 1/integral;\n",
"disp(C, 'The value of C is')\n",
"integral_new = integrate('C*((4*x)-(2*x*x))' , 'x', 0, 1);\n",
"disp(1-integral_new , 'Probability that X is greater than 1 is')"
   ]
   }
,
{
		   "cell_type": "markdown",
		   "metadata": {},
		   "source": [
			"## Example 4.3a: Joint_distribution_of_batteries.sce"
		   ]
		  },
  {
"cell_type": "code",
	   "execution_count": null,
	   "metadata": {
	    "collapsed": true
	   },
	   "outputs": [],
"source": [
"new = 3;\n",
"working = 4;\n",
"defective =5;\n",
"total = factorial(12)/(factorial(3)*factorial(9));\n",
"disp(factorial(5)/(factorial(3)*factorial(2)*total), 'Probability that X=0 and Y=0');\n",
"disp(factorial(5)*factorial(4)/(factorial(3)*factorial(2)*factorial(3)*total), 'Probability that X=0 and Y=1');\n",
"disp(factorial(5)*factorial(4)/(factorial(2)*factorial(2)*factorial(4)*total), 'Probability that X=0 and Y=2');\n",
"disp(factorial(4)/(factorial(3)*factorial(1)*total), 'Probability that X=0 and Y=3');\n",
"disp(factorial(3)*factorial(5)/(factorial(2)*factorial(2)*factorial(3)*total), 'Probability that X=1 and Y=0');\n",
"disp(factorial(5)*factorial(4)*factorial(3)/(factorial(2)*factorial(3)*factorial(4)*total), 'Probability that X=1 and Y=1');\n",
"disp(factorial(3)*factorial(4)/(factorial(2)*factorial(2)*factorial(2)*total), 'Probability that X=1 and Y=2');\n",
"disp(factorial(3)*factorial(5)/(factorial(2)*factorial(4)*factorial(1)*total), 'Probability that X=2 and Y=0');\n",
"disp(factorial(3)*factorial(4)/(factorial(2)*factorial(1)*factorial(3)*total), 'Probability that X=2 and Y=1');\n",
"disp(factorial(3)/(factorial(3)*total), 'Probability that X=3 and Y=3');"
   ]
   }
,
{
		   "cell_type": "markdown",
		   "metadata": {},
		   "source": [
			"## Example 4.3b: Joint_distribution_of_boys_and_girls.sce"
		   ]
		  },
  {
"cell_type": "code",
	   "execution_count": null,
	   "metadata": {
	    "collapsed": true
	   },
	   "outputs": [],
"source": [
"child0 = 0.15;\n",
"child1 = 0.2;\n",
"child2 = 0.35;\n",
"child3 = 0.30;\n",
"pboy = 0.5;\n",
"pgirl = 0.5;\n",
"\n",
"disp(child0 , 'Probability that B=0 and G=0')\n",
"disp(child1*pgirl , 'Probability that B=0 and G=1')\n",
"disp(child2*pgirl*pgirl , 'Probability that B=0 and G=2')\n",
"disp(child3*pgirl*pgirl*pgirl , 'Probability that B=0 and G=3')\n",
"disp(child1*pboy , 'Probability that B=1 and G=0')\n",
"disp(child2*pgirl*pboy , 'Probability that B=1 and G=1')\n",
"disp(child3*pgirl*pgirl*pboy , 'Probability that B=1 and G=2')\n",
"disp(child2*pboy*pboy , 'Probability that B=2 and G=0')\n",
"disp(child3*pgirl*pboy*pboy , 'Probability that B=2 and G=1')\n",
"disp(child3*pboy*pboy*pboy , 'Probability that B=3 and G=0')"
   ]
   }
,
{
		   "cell_type": "markdown",
		   "metadata": {},
		   "source": [
			"## Example 4.3c: Joint_Density_Function.sce"
		   ]
		  },
  {
"cell_type": "code",
	   "execution_count": null,
	   "metadata": {
	    "collapsed": true
	   },
	   "outputs": [],
"source": [
"intx= integrate('%e^(-x)', 'x',0, 1 );\n",
"inty=integrate('2*%e^(-2*y)', 'y', 0, 1);\n",
"answer = (1-intx)*inty;\n",
"disp(answer , 'Probability that X>1 and Y<1 is')\n",
"\n",
"//For other two parts, symbolic manipulations are required"
   ]
   }
,
{
		   "cell_type": "markdown",
		   "metadata": {},
		   "source": [
			"## Example 4.3e: Density_of_Independent_Random_Variables.sce"
		   ]
		  },
  {
"cell_type": "code",
	   "execution_count": null,
	   "metadata": {
	    "collapsed": true
	   },
	   "outputs": [],
"source": [
"pdec3 = 0.05;\n",
"pdec2= 0.1;\n",
"pdec1 = 0.2;\n",
"p0= 0.3\n",
"pinc1= 0.2;\n",
"pinc2= 0.1;\n",
"pinc3 = 0.05;\n",
"disp(pinc1*pinc2*p0, 'Probability that the stock price will increase successively by 1, 2 and 0 points in the next 3 days is')"
   ]
   }
,
{
		   "cell_type": "markdown",
		   "metadata": {},
		   "source": [
			"## Example 4.3f: Conditional_Probability_Mass_Function.sce"
		   ]
		  },
  {
"cell_type": "code",
	   "execution_count": null,
	   "metadata": {
	    "collapsed": true
	   },
	   "outputs": [],
"source": [
"disp(0.1/0.3875, 'probability that B =0 given G=1 ');\n",
"disp(0.175/0.3875, 'probability that B =1 given G=1 ');\n",
"disp(0.1125/0.3875, 'probability that B =2 given G=1 ');\n",
"disp(0/0.3875, 'probability that B =3 given G=1 ');\n",
"//The values are taken from Table 4.2"
   ]
   }
,
{
		   "cell_type": "markdown",
		   "metadata": {},
		   "source": [
			"## Example 4.3g: Conditional_Probability_Mass_Function.sce"
		   ]
		  },
  {
"cell_type": "code",
	   "execution_count": null,
	   "metadata": {
	    "collapsed": true
	   },
	   "outputs": [],
"source": [
"p00=0.4;\n",
"p01 = 0.2;\n",
"p10 = 0.1;\n",
"p11= 0.3;\n",
"\n",
"pY1= p01+p11;\n",
"disp(p01/pY1, 'Probability that X=0 and Y=1')\n",
"disp(p11/pY1, 'Probability that X=1 and Y=1')"
   ]
   }
,
{
		   "cell_type": "markdown",
		   "metadata": {},
		   "source": [
			"## Example 4.4a: Expectation_of_a_fair_die.sce"
		   ]
		  },
  {
"cell_type": "code",
	   "execution_count": null,
	   "metadata": {
	    "collapsed": true
	   },
	   "outputs": [],
"source": [
"p1=1/6;\n",
"p2=1/6;\n",
"p3=1/6;\n",
"p4=1/6;\n",
"p5=1/6;\n",
"p6=1/6;\n",
"expec= p1 + (2*p2)+(3*p3)+(4*p4)+(5*p5)+ (6*p6);\n",
"disp(expec)"
   ]
   }
,
{
		   "cell_type": "markdown",
		   "metadata": {},
		   "source": [
			"## Example 4.4d: Expectation_of_the_message_time.sce"
		   ]
		  },
  {
"cell_type": "code",
	   "execution_count": null,
	   "metadata": {
	    "collapsed": true
	   },
	   "outputs": [],
"source": [
"expec= integrate('(x)/1.5', 'x', 0,1.5);\n",
"disp('hours', expec, 'On an average, you have to wait for ')"
   ]
   }
,
{
		   "cell_type": "markdown",
		   "metadata": {},
		   "source": [
			"## Example 4.5a: Expectatio.sce"
		   ]
		  },
  {
"cell_type": "code",
	   "execution_count": null,
	   "metadata": {
	    "collapsed": true
	   },
	   "outputs": [],
"source": [
"p0= 0.2;\n",
"p1= 0.5;\n",
"p2=0.3;\n",
"expec = 0*0*p0 + 1*1*p1 + 2*2*p2;\n",
"disp(expec, 'Expectation of X^2 is')"
   ]
   }
,
{
		   "cell_type": "markdown",
		   "metadata": {},
		   "source": [
			"## Example 4.5b: Expected_cost_of_breakdow.sce"
		   ]
		  },
  {
"cell_type": "code",
	   "execution_count": null,
	   "metadata": {
	    "collapsed": true
	   },
	   "outputs": [],
"source": [
"expec = integrate('x^3', 'x', 0, 1);\n",
"disp(expec, 'The expectation is')"
   ]
   }
,
{
		   "cell_type": "markdown",
		   "metadata": {},
		   "source": [
			"## Example 4.5c: Expectatio.sce"
		   ]
		  },
  {
"cell_type": "code",
	   "execution_count": null,
	   "metadata": {
	    "collapsed": true
	   },
	   "outputs": [],
"source": [
"p0= 0.2;\n",
"p1= 0.5;\n",
"p2=0.3;\n",
"expec = 0*0*p0 + 1*1*p1 + 2*2*p2;\n",
"disp(expec, 'Expectation of X^2 is')"
   ]
   }
,
{
		   "cell_type": "markdown",
		   "metadata": {},
		   "source": [
			"## Example 4.5d: Expectatio.sce"
		   ]
		  },
  {
"cell_type": "code",
	   "execution_count": null,
	   "metadata": {
	    "collapsed": true
	   },
	   "outputs": [],
"source": [
"expec = integrate('x^3', 'x', 0, 1);\n",
"disp(expec, 'The expectation is')"
   ]
   }
,
{
		   "cell_type": "markdown",
		   "metadata": {},
		   "source": [
			"## Example 4.5e: Expected_profit.sce"
		   ]
		  },
  {
"cell_type": "code",
	   "execution_count": null,
	   "metadata": {
	    "collapsed": true
	   },
	   "outputs": [],
"source": [
"profit1 = 10;\n",
"profit2= 20;\n",
"profit3 = 40;\n",
"prob1= 0.2;\n",
"prob2 = 0.8;\n",
"prob3 = 0.3;\n",
"expec = profit1*prob1 + profit2*prob2 + profit3*prob3;\n",
"disp(' thousand dollars', expec, 'The expectd profit is')"
   ]
   }
,
{
		   "cell_type": "markdown",
		   "metadata": {},
		   "source": [
			"## Example 4.5f: Letters_in_Correct_Envelopes.sce"
		   ]
		  },
  {
"cell_type": "code",
	   "execution_count": null,
	   "metadata": {
	    "collapsed": true
	   },
	   "outputs": [],
"source": [
"//As scilab does not symbolic computations, this example is solved taking N=5\n",
"prob = 1/5 //probability that a letter is put into the right envelope\n",
"EX1 = 1*prob+0*(1-prob);\n",
"EX2 = 1*prob+0*(1-prob);\n",
"EX3 = 1*prob+0*(1-prob);\n",
"EX4 = 1*prob+0*(1-prob);\n",
"EX5 = 1*prob+0*(1-prob);\n",
"EX= EX1 + EX2+ EX3 +EX4 + EX5;\n",
"disp(EX, 'Thus, the expectation is')"
   ]
   }
,
{
		   "cell_type": "markdown",
		   "metadata": {},
		   "source": [
			"## Example 4.5g: Different_types_of_coupons.sce"
		   ]
		  },
  {
"cell_type": "code",
	   "execution_count": null,
	   "metadata": {
	    "collapsed": true
	   },
	   "outputs": [],
"source": [
"ProbXiequals1 = 1 - ((19/20)^10);\n",
"EXi = ProbXiequals1 ;\n",
"EX = 20*EXi;\n",
"disp(EX, 'The expectation is')"
   ]
   }
,
{
		   "cell_type": "markdown",
		   "metadata": {},
		   "source": [
			"## Example 4.6a: Variance_of_a_fair_die.sce"
		   ]
		  },
  {
"cell_type": "code",
	   "execution_count": null,
	   "metadata": {
	    "collapsed": true
	   },
	   "outputs": [],
"source": [
"probXequalsi = 1/6;\n",
"expecXsquared = 0;\n",
"for n=1:6\n",
"    expecXsquared = expecXsquared + (n*n*probXequalsi)\n",
"end\n",
"\n",
"expecX= 3.5 // from eg 4.4a\n",
"var = expecXsquared - (expecX^2);\n",
"disp(var, 'The variance is')"
   ]
   }
,
{
		   "cell_type": "markdown",
		   "metadata": {},
		   "source": [
			"## Example 4.7a: Variance_of_10_rolls_of_a_fair_die.sce"
		   ]
		  },
  {
"cell_type": "code",
	   "execution_count": null,
	   "metadata": {
	    "collapsed": true
	   },
	   "outputs": [],
"source": [
"probXequalsi = 1/6;\n",
"expecXsquared = 0;\n",
"for n=1:6\n",
"    expecXsquared = expecXsquared + (n*n*probXequalsi)\n",
"end\n",
"\n",
"expecX= 3.5 // from eg 4.4a\n",
"var = expecXsquared - (expecX^2);\n",
"var10 = var*10;\n",
"disp(var10, 'The variance is')"
   ]
   }
,
{
		   "cell_type": "markdown",
		   "metadata": {},
		   "source": [
			"## Example 4.7b: Variance_of_10_tosses_of_a_coin.sce"
		   ]
		  },
  {
"cell_type": "code",
	   "execution_count": null,
	   "metadata": {
	    "collapsed": true
	   },
	   "outputs": [],
"source": [
"probIj = 0.5;\n",
"varIj = probIj*(1-probIj);\n",
"var = 10*varIj;\n",
"disp(var, 'Thus, the required variance is')"
   ]
   }
,
{
		   "cell_type": "markdown",
		   "metadata": {},
		   "source": [
			"## Example 4.9a: Inequalities.sce"
		   ]
		  },
  {
"cell_type": "code",
	   "execution_count": null,
	   "metadata": {
	    "collapsed": true
	   },
	   "outputs": [],
"source": [
"avg  = 50;\n",
"probX75 = avg/75;\n",
"disp(probX75, 'Probability that X>75 is')\n",
"var = 25;\n",
"upperlimit = var/100;\n",
"disp(1-upperlimit, 'Probability that X lies between 40 and 60 is')"
   ]
   }
],
"metadata": {
		  "kernelspec": {
		   "display_name": "Scilab",
		   "language": "scilab",
		   "name": "scilab"
		  },
		  "language_info": {
		   "file_extension": ".sce",
		   "help_links": [
			{
			 "text": "MetaKernel Magics",
			 "url": "https://github.com/calysto/metakernel/blob/master/metakernel/magics/README.md"
			}
		   ],
		   "mimetype": "text/x-octave",
		   "name": "scilab",
		   "version": "0.7.1"
		  }
		 },
		 "nbformat": 4,
		 "nbformat_minor": 0
}
