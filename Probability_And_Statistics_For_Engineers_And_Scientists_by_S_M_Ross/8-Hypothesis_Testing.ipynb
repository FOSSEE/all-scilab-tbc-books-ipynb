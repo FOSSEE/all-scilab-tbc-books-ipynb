{
"cells": [
 {
		   "cell_type": "markdown",
	   "metadata": {},
	   "source": [
       "# Chapter 8: Hypothesis Testing"
	   ]
	},
{
		   "cell_type": "markdown",
		   "metadata": {},
		   "source": [
			"## Example 8.3a: Noise_in_a_Signal.sce"
		   ]
		  },
  {
"cell_type": "code",
	   "execution_count": null,
	   "metadata": {
	    "collapsed": true
	   },
	   "outputs": [],
"source": [
"noise_var = 4;\n",
"noise_mean= 0;\n",
"num = 5;\n",
"Xbar = 9.5;\n",
"u = 8;\n",
"statistic = sqrt(num/noise_var)*(Xbar - u);\n",
"compare = cdfnor('X', 0, 1, 0.975, 0.025);\n",
"if(statistic<compare)\n",
"    disp('Hypothesis is accepted');\n",
"else\n",
"    disp('Hypothesis is not accepted')\n",
"end        "
   ]
   }
,
{
		   "cell_type": "markdown",
		   "metadata": {},
		   "source": [
			"## Example 8.3b: Error_in_a_signal.sce"
		   ]
		  },
  {
"cell_type": "code",
	   "execution_count": null,
	   "metadata": {
	    "collapsed": true
	   },
	   "outputs": [],
"source": [
"noise_var = 4;\n",
"noise_mean= 0;\n",
"num = 5;\n",
"Xbar = 8.5;\n",
"u = 8;\n",
"statistic = sqrt(num/noise_var)*(Xbar - u);\n",
"\n",
"prob = 2*cdfnor('PQ', -1*statistic , 0,1 );\n",
"disp(prob, 'P-value is')"
   ]
   }
,
{
		   "cell_type": "markdown",
		   "metadata": {},
		   "source": [
			"## Example 8.3c: Error_in_a_signal.sce"
		   ]
		  },
  {
"cell_type": "code",
	   "execution_count": null,
	   "metadata": {
	    "collapsed": true
	   },
	   "outputs": [],
"source": [
"noise_var = 4;\n",
"num = 5;\n",
"Xbar = 10;\n",
"u = 8;\n",
"statistic = sqrt(num/noise_var)*(Xbar - u);\n",
"compare = cdfnor('X', 0, 1, 0.975, 0.025);\n",
"lim1 = statistic + compare;\n",
"lim2 = statistic - compare;\n",
"prob = cdfnor('PQ', lim1 , 0,1 ) - cdfnor('PQ', lim2 , 0,1 );\n",
"disp(prob)"
   ]
   }
,
{
		   "cell_type": "markdown",
		   "metadata": {},
		   "source": [
			"## Example 8.3d: Number_of_signals_to_be_sent.sce"
		   ]
		  },
  {
"cell_type": "code",
	   "execution_count": null,
	   "metadata": {
	    "collapsed": true
	   },
	   "outputs": [],
"source": [
"alpha = 0.025;\n",
"betaa = 0.25;\n",
"\n",
"u1 = 9.2;\n",
"uo = 8;\n",
"var =4;\n",
"zalpha = cdfnor('X', 0, 1, 1-alpha, alpha);\n",
"zbeta = cdfnor('X', 0, 1, 1-betaa, betaa);\n",
"//disp(zalpha);\n",
"n = ((zalpha + zbeta)/(u1-uo))^2 *var;\n",
"disp(ceil(n), 'Required number of samples is')\n",
"statistic = sqrt(ceil(n)/var)*(u1 - uo);\n",
"//disp(statistic);\n",
"lim1 = -1*statistic + zalpha;\n",
"lim2 = -1*statistic - zalpha;\n",
"//disp(lim1)\n",
"//disp(lim2)\n",
"prob = cdfnor('PQ', lim1 , 0,1 ) - cdfnor('PQ', lim2 , 0,1 );\n",
"disp(1-prob, 'Thus, if the message is sent the reqd number of times is , then the probability that the null hypothesis will be rejected is')"
   ]
   }
,
{
		   "cell_type": "markdown",
		   "metadata": {},
		   "source": [
			"## Example 8.3e: Number_of_signals_to_be_sent.sce"
		   ]
		  },
  {
"cell_type": "code",
	   "execution_count": null,
	   "metadata": {
	    "collapsed": true
	   },
	   "outputs": [],
"source": [
"n =5;\n",
"Xbar = 9.5;\n",
"uo = 8;\n",
"var = 4;\n",
"statistic = sqrt(n/var)*(Xbar - u);\n",
"p = 1 - cdfnor('PQ', statistic, 0, 1);\n",
"disp('The test would call for rejection at all significance levels greater than or equal to ')\n",
"disp(p);"
   ]
   }
,
{
		   "cell_type": "markdown",
		   "metadata": {},
		   "source": [
			"## Example 8.3f: Nicotine_content_in_a_cigarette.sce"
		   ]
		  },
  {
"cell_type": "code",
	   "execution_count": null,
	   "metadata": {
	    "collapsed": true
	   },
	   "outputs": [],
"source": [
"n =20;\n",
"Xbar = 1.54;\n",
"uo = 1.6;\n",
"sd = 0.8;\n",
"statistic = sqrt(n)*(Xbar - uo)/sd;\n",
"disp(statistic, 'Test statistic is')\n",
"p =  cdfnor('PQ', statistic, 0, 1);\n",
"disp(p, 'P-value is')"
   ]
   }
,
{
		   "cell_type": "markdown",
		   "metadata": {},
		   "source": [
			"## Example 8.3g: Blood_cholestrol_level.sce"
		   ]
		  },
  {
"cell_type": "code",
	   "execution_count": null,
	   "metadata": {
	    "collapsed": true
	   },
	   "outputs": [],
"source": [
"n = 50;\n",
"Xbar = 14.8;\n",
"S = 6.4;\n",
"T = sqrt(n)*Xbar/S;\n",
"disp(T,'The T value is')"
   ]
   }
,
{
		   "cell_type": "markdown",
		   "metadata": {},
		   "source": [
			"## Example 8.3h: Water_usage.sce"
		   ]
		  },
  {
"cell_type": "code",
	   "execution_count": null,
	   "metadata": {
	    "collapsed": true
	   },
	   "outputs": [],
"source": [
"X= [340 356 332 362 318 344 386 402 322 360 362 354 340 372 338 375 364 355 324 370];\n",
"uo = 350;\n",
"Xbar = mean(X);\n",
"var =  variance(X);\n",
"S = sqrt(var)\n",
"//disp(Xbar, sqrt(var));\n",
"n = length(X)\n",
"T = sqrt(n)*(Xbar - uo)/S;\n",
"Tvalue = cdft('T', n-1, 0.95, 0.05 );\n",
"//disp(Tvalue)\n",
"disp(T, 'The T value is ')\n",
"if(T<Tvalue)\n",
"    disp('Null hypothesis is accepted at 10% level of significance')\n",
" else\n",
"      disp('Null hypothesis is not accepted at 10% level of significance')  \n",
"end      "
   ]
   }
,
{
		   "cell_type": "markdown",
		   "metadata": {},
		   "source": [
			"## Example 8.3i: Life_of_a_tire.sce"
		   ]
		  },
  {
"cell_type": "code",
	   "execution_count": null,
	   "metadata": {
	    "collapsed": true
	   },
	   "outputs": [],
"source": [
"X= [36.1 40.2 33.8 38.5 42 35.8 37 41 36.8 37.2 33 36];\n",
"n = length(X);\n",
"uo = 40;\n",
"Xbar=mean(X);\n",
"sd = sqrt(variance(X));\n",
"T = sqrt(n)*(Xbar - uo)/sd;\n",
"Tvalue = cdft('T', n-1, 0.05, 0.95 );\n",
"//disp(Tvalue)\n",
"disp(T, 'The T value is ')\n",
"if(T<Tvalue)\n",
"    disp('Null hypothesis is rejected at 5% level of significance')\n",
" else\n",
"      disp('Null hypothesis is  accepted at 5% level of significance')  \n",
"end   "
   ]
   }
,
{
		   "cell_type": "markdown",
		   "metadata": {},
		   "source": [
			"## Example 8.3j: Service_Time.sce"
		   ]
		  },
  {
"cell_type": "code",
	   "execution_count": null,
	   "metadata": {
	    "collapsed": true
	   },
	   "outputs": [],
"source": [
"X = [8.6 9.4 5.0 4.4 3.7 11.4 10.0 7.6 14.4 12.2 11.0 14.4 9.3 10.5 10.3 7.7 8.3 6.4 9.2 5.7 7.9 9.4 9.0 13.3 11.6 10.0 9.5 6.6];\n",
"n = length(X);\n",
"uo = 8;\n",
"Xbar=mean(X);\n",
"sd = sqrt(variance(X));\n",
"T = sqrt(n)*(Xbar - uo)/sd;\n",
"disp(T, 'The test statistic is ')\n",
"p = 1- cdft('PQ', T, n-1);\n",
"disp(p, 'P-value is')\n",
"disp('A small p value indicates that the mean service time exceeds 8 minutes')"
   ]
   }
,
{
		   "cell_type": "markdown",
		   "metadata": {},
		   "source": [
			"## Example 8.4a: Tire_lives.sce"
		   ]
		  },
  {
"cell_type": "code",
	   "execution_count": null,
	   "metadata": {
	    "collapsed": true
	   },
	   "outputs": [],
"source": [
"A = [61.1 58.2 62.3 64 59.7 66.2 57.8 61.4 62.2 63.6];\n",
"B= [62.2 56.6 66.4 56.2 57.4 58.4 57.6 65.4];\n",
"uA = mean(A);\n",
"uB = mean(B);\n",
"varA = 40^2;\n",
"varB =60^2;\n",
"n= length(A);\n",
"m =length(B);\n",
"den = sqrt((varA/n)+ (varB/m));\n",
"statistic = (uA -uB)/den;\n",
"disp(statistic, 'The test statistic is');\n",
"disp('A small value of the test statistic indicates that the null hypothesis is accepted')"
   ]
   }
,
{
		   "cell_type": "markdown",
		   "metadata": {},
		   "source": [
			"## Example 8.4b: Medicine_for_cold.sce"
		   ]
		  },
  {
"cell_type": "code",
	   "execution_count": null,
	   "metadata": {
	    "collapsed": true
	   },
	   "outputs": [],
"source": [
"X = [5.5 6.0 7.0 6.0 7.5 6.0 7.5 5.5 7.0 6.5];\n",
"Y = [6.5 6.0 8.5 7.0 6.5 8.0 7.5 6.5 7.5 6.0 8.5 7.0  ];\n",
"n = length(X);\n",
"m= length(Y);\n",
"Xbar= mean(X);\n",
"Ybar = mean(Y);\n",
"Sx = variance(X);\n",
"Sy = variance(Y);\n",
"Sp = ((n-1)*Sx/(n+m-2)) + ((m-1)*Sy/(n+m-2));\n",
"den = sqrt(Sp*((1/n)+(1/m)));\n",
"TS = (Xbar -Ybar)/den;\n",
"disp(TS, 'The test statistic is');\n",
"tvalue = cdft('T', m+n-2, 0.95, 0.05)\n",
"//disp(tvalue)\n",
"if(TS<tvalue)\n",
"    disp('Null hypothesis is rejected at 5% level of significance')\n",
" else\n",
"      disp('Null hypothesis is  accepted at 5% level of significance')  \n",
"end   "
   ]
   }
,
{
		   "cell_type": "markdown",
		   "metadata": {},
		   "source": [
			"## Example 8.4c: Unknown_population_variance.sce"
		   ]
		  },
  {
"cell_type": "code",
	   "execution_count": null,
	   "metadata": {
	    "collapsed": true
	   },
	   "outputs": [],
"source": [
"A = [61.1 58.2 62.3 64 59.7 66.2 57.8 61.4 62.2 63.6];\n",
"B= [62.2 56.6 66.4 56.2 57.4 58.4 57.6 65.4];\n",
"uA = mean(A);\n",
"uB = mean(B);\n",
"n= length(A);\n",
"m =length(B);\n",
"Sx = variance(A);\n",
"Sy = variance(B);\n",
"Sp = ((n-1)*Sx/(n+m-2)) + ((m-1)*Sy/(n+m-2));\n",
"den = sqrt(Sp*((1/n)+(1/m)));\n",
"TS = (uA-uB)/den;\n",
"disp(TS, 'The test statistic is');\n",
"pvalue = 2*(1- cdft('PQ', TS, m+n-2));\n",
"//disp(tvalue)\n",
"disp(pvalue, 'Null hypothesis is accepted at any significance level less than')"
   ]
   }
,
{
		   "cell_type": "markdown",
		   "metadata": {},
		   "source": [
			"## Example 8.4d: effectiveness_of_safety_program.sce"
		   ]
		  },
  {
"cell_type": "code",
	   "execution_count": null,
	   "metadata": {
	    "collapsed": true
	   },
	   "outputs": [],
"source": [
"A = [30.5 18.5 24.5 32 16 15 23.5 25.5 28 18];\n",
"B = [23 21 22 28.5 14.5 15.5 24.5 21 23.5 16.5];\n",
"n= length(A);\n",
"W = B-A;\n",
"Wbar = mean(W);\n",
"S = sqrt(variance(W));\n",
"T = sqrt(n)*Wbar/S;\n",
"\n",
"disp(T, 'The test statistic is');\n",
"pvalue =  cdft('PQ', T, n-1);\n",
"//disp(tvalue)\n",
"disp(pvalue, 'The p value is')"
   ]
   }
,
{
		   "cell_type": "markdown",
		   "metadata": {},
		   "source": [
			"## Example 8.5a: effectiveness_of_machine.sce"
		   ]
		  },
  {
"cell_type": "code",
	   "execution_count": null,
	   "metadata": {
	    "collapsed": true
	   },
	   "outputs": [],
"source": [
"n =20;\n",
"S2= 0.025;\n",
"chk = 0.15;\n",
"compare = (n-1)*S2/(chk^2);\n",
"pvalue = 1- cdfchi('PQ', compare, n-1);\n",
"disp(pvalue, 'The p-value is')\n",
"disp('Thus , the null hypothesis is accepted')"
   ]
   }
,
{
		   "cell_type": "markdown",
		   "metadata": {},
		   "source": [
			"## Example 8.5b: Catalyst.sce"
		   ]
		  },
  {
"cell_type": "code",
	   "execution_count": null,
	   "metadata": {
	    "collapsed": true
	   },
	   "outputs": [],
"source": [
"S1 = 0.14;\n",
"S2 = 0.28;\n",
"n= 10;\n",
"m= 12;\n",
"ratio  = S1/S2;\n",
"prob1 = cdff('PQ', ratio, n-1, m-1);\n",
"prob2 = 1-prob1;\n",
"prob = min([prob1 prob2]);\n",
"pvalue = 2*prob;\n",
"disp(pvalue, 'The p value is')\n",
"disp('So the hypothesis of equal variance cannot be rejected')\n",
"\n",
" "
   ]
   }
,
{
		   "cell_type": "markdown",
		   "metadata": {},
		   "source": [
			"## Example 8.6a: Computer_chip_manufacturing.sce"
		   ]
		  },
  {
"cell_type": "code",
	   "execution_count": null,
	   "metadata": {
	    "collapsed": true
	   },
	   "outputs": [],
"source": [
"samplesize = 300;\n",
"p =0.02;\n",
"defective=9;\n",
"val = 1- cdfbin('PQ', defective, samplesize, p, 1-p);\n",
"disp(val, 'P0.02{X>10} = ');\n",
"disp('Manufacturers claim cannot be rejected at the 5% level of significance')"
   ]
   }
,
{
		   "cell_type": "markdown",
		   "metadata": {},
		   "source": [
			"## Example 8.6b: Finding_p_value.sce"
		   ]
		  },
  {
"cell_type": "code",
	   "execution_count": null,
	   "metadata": {
	    "collapsed": true
	   },
	   "outputs": [],
"source": [
"samplesize = 300;\n",
"p =0.02;\n",
"defective=9;\n",
"compare = 10;\n",
"npo = samplesize*p;\n",
"sd = sqrt(npo*(1-p));\n",
"tol = 0.5;\n",
"pvalue = 1- cdfnor('PQ', compare-tol, npo,sd );\n",
"disp(pvalue, 'The pvalue is')"
   ]
   }
,
{
		   "cell_type": "markdown",
		   "metadata": {},
		   "source": [
			"## Example 8.6c: Change_in_manufacturing_pattern.sce"
		   ]
		  },
  {
"cell_type": "code",
	   "execution_count": null,
	   "metadata": {
	    "collapsed": true
	   },
	   "outputs": [],
"source": [
"samplesize = 500;\n",
"p =0.04;\n",
"defective=16;\n",
"prob1 =  cdfbin('PQ', defective, samplesize, p, 1-p)\n",
"prob2 = 1- cdfbin('PQ', defective-1, samplesize, p, 1-p);\n",
"pvalue = 2*min([prob1 prob2]);\n",
"disp(pvalue, 'The pvalue is')"
   ]
   }
,
{
		   "cell_type": "markdown",
		   "metadata": {},
		   "source": [
			"## Example 8.7a: Mean_number_of_defective_chips.sce"
		   ]
		  },
  {
"cell_type": "code",
	   "execution_count": null,
	   "metadata": {
	    "collapsed": true
	   },
	   "outputs": [],
"source": [
"x = [28 34 32 38 22];\n",
"claim = 25;\n",
"total = sum(x);\n",
"pval = 1 - cdfpoi('PQ', total-1, (claim*length(x)));\n",
"disp(pval, 'The pvalue is')"
   ]
   }
,
{
		   "cell_type": "markdown",
		   "metadata": {},
		   "source": [
			"## Example 8.7b: Safety_Conditions_in_a_plant.sce"
		   ]
		  },
  {
"cell_type": "code",
	   "execution_count": null,
	   "metadata": {
	    "collapsed": true
	   },
	   "outputs": [],
"source": [
"plant1 = [16 18 9 22 17 19 24 8];\n",
"plant2 = [22 18 26 30 25 28];\n",
"X1= sum(plant1);\n",
"X2 = sum(plant2);\n",
"n =length(X1);\n",
"m= length(X2);\n",
"//disp(X1, X2, X1+X2)\n",
"prob1 = 1 - cdfbin('PQ',X1 -1,X1+X2, (4/7), (3/7) );\n",
"prob2 = cdfbin('PQ',X1 ,X1+X2, 4/7, 3/7 );\n",
"disp(prob1, prob2)\n",
"pvalue = 2*min([prob1 prob2]);\n",
"disp(pvalue, 'The pvalue is')"
   ]
   }
,
{
		   "cell_type": "markdown",
		   "metadata": {},
		   "source": [
			"## Example 8.7c: Better_proof_reader.sce"
		   ]
		  },
  {
"cell_type": "code",
	   "execution_count": null,
	   "metadata": {
	    "collapsed": true
	   },
	   "outputs": [],
"source": [
"Aerror =28;\n",
"Berror = 18;\n",
"common =10;\n",
"N2 = Aerror - common;\n",
"N3 =Berror- common;\n",
"pval = 1- cdfbin('PQ', N2-1, N2 + N3, 0.5, 0.5);\n",
"disp(pval, 'P-value is')"
   ]
   }
],
"metadata": {
		  "kernelspec": {
		   "display_name": "Scilab",
		   "language": "scilab",
		   "name": "scilab"
		  },
		  "language_info": {
		   "file_extension": ".sce",
		   "help_links": [
			{
			 "text": "MetaKernel Magics",
			 "url": "https://github.com/calysto/metakernel/blob/master/metakernel/magics/README.md"
			}
		   ],
		   "mimetype": "text/x-octave",
		   "name": "scilab",
		   "version": "0.7.1"
		  }
		 },
		 "nbformat": 4,
		 "nbformat_minor": 0
}
