{
"cells": [
 {
		   "cell_type": "markdown",
	   "metadata": {},
	   "source": [
       "# Chapter 5: Special Random Variables"
	   ]
	},
{
		   "cell_type": "markdown",
		   "metadata": {},
		   "source": [
			"## Example 5.1a: Returning_of_disks.sce"
		   ]
		  },
  {
"cell_type": "code",
	   "execution_count": null,
	   "metadata": {
	    "collapsed": true
	   },
	   "outputs": [],
"source": [
"defects= 0.01;\n",
"disks = 10;\n",
"package = 3;\n",
"probdefect0 = ((1-defects)^10);\n",
"probdefect1 = factorial(disks)*defects*((1-defects)^9)/factorial(disks-1);\n",
"prob = 1 - probdefect0 -probdefect1;\n",
"disp(prob, 'Probability that a package will be returned is')\n",
"newprob = factorial(package)*prob*((1-prob)^2)/factorial(package-1);\n",
"disp(newprob, 'Probability that exactly one of the packages will be returned among 3 is' )\n",
"\n",
"//the solution in the textbook is approximate"
   ]
   }
,
{
		   "cell_type": "markdown",
		   "metadata": {},
		   "source": [
			"## Example 5.1b: Colour_of_Eyes.sce"
		   ]
		  },
  {
"cell_type": "code",
	   "execution_count": null,
	   "metadata": {
	    "collapsed": true
	   },
	   "outputs": [],
"source": [
"function result= binomial(n, k, p)\n",
"    result = factorial(n)*(p^k)*((1-p)^(n-k))/(factorial(k)*factorial(n-k))\n",
"endfunction\n",
"\n",
"children = 4;\n",
"reqdblueyes = 2;\n",
"probblueeyes = 0.5*0.5;\n",
"prob = binomial(children, reqdblueyes, probblueeyes);\n",
"disp(prob, 'The reqd probability is')"
   ]
   }
,
{
		   "cell_type": "markdown",
		   "metadata": {},
		   "source": [
			"## Example 5.1e: Binomial_Random_Variable.sce"
		   ]
		  },
  {
"cell_type": "code",
	   "execution_count": null,
	   "metadata": {
	    "collapsed": true
	   },
	   "outputs": [],
"source": [
"function result=bin(n,k, p)\n",
"    if(k==0)\n",
"        result = (1-p)^n;\n",
"     else\n",
"         result  = p*(n-k+1)*bin(n, k-1, p)/((1-p)*k);  \n",
"     end    \n",
"endfunction\n",
"\n",
"disp(bin(6, 0, 0.4), 'Probability that X=0 is')\n",
"disp(bin(6, 1, 0.4), 'Probability that X=1 is')\n",
"disp(bin(6, 2, 0.4), 'Probability that X=2 is')\n",
"disp(bin(6, 3, 0.4), 'Probability that X=3 is')\n",
"disp(bin(6, 4, 0.4), 'Probability that X=4 is')\n",
"disp(bin(6, 5, 0.4), 'Probability that X=5 is')\n",
"disp(bin(6, 6, 0.4), 'Probability that X=6 is')"
   ]
   }
,
{
		   "cell_type": "markdown",
		   "metadata": {},
		   "source": [
			"## Example 5.2a: Probability_of_accident.sce"
		   ]
		  },
  {
"cell_type": "code",
	   "execution_count": null,
	   "metadata": {
	    "collapsed": true
	   },
	   "outputs": [],
"source": [
"[probX0, Q]= cdfpoi('PQ', 0, 3);\n",
"probX1 = 1- probX0;\n",
"disp(probX1, 'Probability that there is at least one accident this week is ')"
   ]
   }
,
{
		   "cell_type": "markdown",
		   "metadata": {},
		   "source": [
			"## Example 5.2b: Defective_Items.sce"
		   ]
		  },
  {
"cell_type": "code",
	   "execution_count": null,
	   "metadata": {
	    "collapsed": true
	   },
	   "outputs": [],
"source": [
"function result= bino(n, k, p)\n",
"    result = factorial(n)*(p^k)*((1-p)^(n-k))/(factorial(k)*factorial(n-k))\n",
"endfunction\n",
"\n",
"prob = bino(10,0, 0.1) + bino(10, 1,0.1 );\n",
"disp(prob, 'The exact probability is ');\n",
"\n",
"probp =  cdfpoi('PQ', 1, 1)\n",
"disp(probp, 'The poisson approximation is ')"
   ]
   }
,
{
		   "cell_type": "markdown",
		   "metadata": {},
		   "source": [
			"## Example 5.2c: Number_of_Alpha_particles.sce"
		   ]
		  },
  {
"cell_type": "code",
	   "execution_count": null,
	   "metadata": {
	    "collapsed": true
	   },
	   "outputs": [],
"source": [
"Xlam  = 3.2;\n",
"i =2;\n",
"prob = cdfpoi('PQ', i, Xlam);\n",
"disp(prob)"
   ]
   }
,
{
		   "cell_type": "markdown",
		   "metadata": {},
		   "source": [
			"## Example 5.2d: Claims_handled_by_an_insurance_company.sce"
		   ]
		  },
  {
"cell_type": "code",
	   "execution_count": null,
	   "metadata": {
	    "collapsed": true
	   },
	   "outputs": [],
"source": [
"function result= bino(n, k, p)\n",
"    result = factorial(n)*(p^k)*((1-p)^(n-k))/(factorial(k)*factorial(n-k))\n",
"endfunction\n",
"avg = 5;\n",
"i=3;\n",
"prob = cdfpoi('PQ', 2, avg);\n",
"disp(prob, 'Proportion of days that have less than 3 claims is')\n",
"probX4 = cdfpoi('PQ',i+1, avg) - cdfpoi('PQ', i, avg);\n",
"\n",
"reqdprob = bino(5,3 , probX4);\n",
"disp(reqdprob, 'Probability that 3 of the next 5 days will have exactly 4 claims is ')"
   ]
   }
,
{
		   "cell_type": "markdown",
		   "metadata": {},
		   "source": [
			"## Example 5.2f: Defective_stereos.sce"
		   ]
		  },
  {
"cell_type": "code",
	   "execution_count": null,
	   "metadata": {
	    "collapsed": true
	   },
	   "outputs": [],
"source": [
"avg = 4;\n",
"prob = cdfpoi('PQ', 3, 2*avg)\n",
"disp(prob)"
   ]
   }
,
{
		   "cell_type": "markdown",
		   "metadata": {},
		   "source": [
			"## Example 5.3a: Functional_system.sce"
		   ]
		  },
  {
"cell_type": "code",
	   "execution_count": null,
	   "metadata": {
	    "collapsed": true
	   },
	   "outputs": [],
"source": [
"function result= hyper(N, M, n, i)\n",
"    result = factorial(N)*factorial(M)*factorial(n)*factorial(N+M-n)/(factorial(i)*factorial(N-i)*factorial(n-i)*factorial(M-n+i)*factorial(N+M));\n",
"endfunction\n",
"\n",
"prob = hyper(15, 5,6, 4)+hyper(15, 5,6,5)+hyper(15,5,6,6);\n",
"disp(prob, 'Probability that the system will be functional is')"
   ]
   }
,
{
		   "cell_type": "markdown",
		   "metadata": {},
		   "source": [
			"## Example 5.3b: Determining_Population_Size.sce"
		   ]
		  },
  {
"cell_type": "code",
	   "execution_count": null,
	   "metadata": {
	    "collapsed": true
	   },
	   "outputs": [],
"source": [
"function result= hyper(N, M, n, i)\n",
"    result = factorial(N)*factorial(M)*factorial(n)*factorial(N+M-n)/(factorial(i)*factorial(N-i)*factorial(n-i)*factorial(M-n+i)*factorial(N+M));\n",
"endfunction\n",
"\n",
"r= 50;\n",
"n=100;\n",
"X=25;\n",
"disp(r*n/X , 'Estimate of the number of animals in the region is')"
   ]
   }
,
{
		   "cell_type": "markdown",
		   "metadata": {},
		   "source": [
			"## Example 5.3c: Conditional_Probability.sce"
		   ]
		  },
  {
"cell_type": "code",
	   "execution_count": null,
	   "metadata": {
	    "collapsed": true
	   },
	   "outputs": [],
"source": [
"function result= bino(n, k, p)\n",
"    result = factorial(n)*(p^k)*((1-p)^(n-k))/(factorial(k)*factorial(n-k))\n",
"endfunction\n",
"\n",
"function answer= condprob(n,k,p,i)\n",
"    answer = bino(n,i,p)*bino(m,k-i,p)/bino(n+m,k, p);\n",
"endfunction\n",
"\n",
"//The function condprob will give P{X=i|X+Y=k}"
   ]
   }
,
{
		   "cell_type": "markdown",
		   "metadata": {},
		   "source": [
			"## Example 5.4b: Bus_Timings.sce"
		   ]
		  },
  {
"cell_type": "code",
	   "execution_count": null,
	   "metadata": {
	    "collapsed": true
	   },
	   "outputs": [],
"source": [
"pass_f = 1/30;\n",
"prob1 = (15-10)*pass_f + (30-25)*pass_f;\n",
"prob2 = (3-0)*pass_f + (18-15)*pass_f;\n",
"disp(prob1, 'Probability that he waits less than 5 minutes for a bus')\n",
"disp(prob2, 'Probability that he waits at least 12 minutes for a bus')"
   ]
   }
,
{
		   "cell_type": "markdown",
		   "metadata": {},
		   "source": [
			"## Example 5.4c: Current_in_a_diode.sce"
		   ]
		  },
  {
"cell_type": "code",
	   "execution_count": null,
	   "metadata": {
	    "collapsed": true
	   },
	   "outputs": [],
"source": [
"a=5;\n",
"I0=10^-6;\n",
"v_f = 1/(3-1);\n",
"vupperlim = 3;\n",
"vlowerlim = 1;\n",
"expecV = (vupperlim + vlowerlim)/2;\n",
"expec = integrate('(%e^(a*x))/2', 'x', 1,3);\n",
"expecI=I0*(expec -1);\n",
"disp(expecI)"
   ]
   }
,
{
		   "cell_type": "markdown",
		   "metadata": {},
		   "source": [
			"## Example 5.5a: Normal_Random_Variable.sce"
		   ]
		  },
  {
"cell_type": "code",
	   "execution_count": null,
	   "metadata": {
	    "collapsed": true
	   },
	   "outputs": [],
"source": [
"u= 3;\n",
"var = 16;\n",
"\n",
"prob1 = cdfnor('PQ', 11, u, sqrt(var));\n",
"disp(prob1, ' P{X<11}');\n",
"prob2 = 1- cdfnor( 'PQ', -1, u, sqrt(var));\n",
"disp(prob2, 'P{X>-1}');\n",
"prob3= cdfnor('PQ', 7, u, sqrt(var)) - cdfnor('PQ', 2, u, sqrt(var));\n",
"disp(prob3, 'P{2<X<7}');"
   ]
   }
,
{
		   "cell_type": "markdown",
		   "metadata": {},
		   "source": [
			"## Example 5.5b: Noise_in_Binary_Message.sce"
		   ]
		  },
  {
"cell_type": "code",
	   "execution_count": null,
	   "metadata": {
	    "collapsed": true
	   },
	   "outputs": [],
"source": [
"disp(cdfnor('PQ', -1.5, 0, 1), 'P{error|message is 1}')\n",
"disp(1-cdfnor('PQ', 2.5, 0, 1), 'P{error|message is 0 }')"
   ]
   }
,
{
		   "cell_type": "markdown",
		   "metadata": {},
		   "source": [
			"## Example 5.5c: Power_dissipatio.sce"
		   ]
		  },
  {
"cell_type": "code",
	   "execution_count": null,
	   "metadata": {
	    "collapsed": true
	   },
	   "outputs": [],
"source": [
"r =3;\n",
"avg = 6;\n",
"std= 1;\n",
"var = std^2;\n",
"expecV2 = var + (avg^2);\n",
"expecW = 3*expecV2;\n",
"disp(expecW, 'Expectation of W is ')\n",
"limw=120;\n",
"limV = sqrt(limw/r);\n",
"disp(1-cdfnor('PQ', limV, avg, std), 'P{W>120} is')"
   ]
   }
,
{
		   "cell_type": "markdown",
		   "metadata": {},
		   "source": [
			"## Example 5.5d: Yearly_precipitatio.sce"
		   ]
		  },
  {
"cell_type": "code",
	   "execution_count": null,
	   "metadata": {
	    "collapsed": true
	   },
	   "outputs": [],
"source": [
"meanX1  = 12.08;\n",
"meanX2= 12.08;\n",
"stX1= 3.1;\n",
"meanX = meanX1 + meanX2;\n",
"varX = 2*(3.1^2);\n",
"lim= 25;\n",
"disp(1-cdfnor('PQ', lim, meanX, sqrt(varX)), 'Probability that the total precipitation during the next 2 years will exceed 25 inches')\n",
"\n",
"meanXnew= meanX1 - meanX2;\n",
"new_lim= 3;\n",
"disp(1- cdfnor('PQ', new_lim, meanXnew, sqrt(varX)), 'Probability that precipitation in the next year will exceed that in the following year by more than 3 inches')"
   ]
   }
,
{
		   "cell_type": "markdown",
		   "metadata": {},
		   "source": [
			"## Example 5.6a: Wearing_of_Battery.sce"
		   ]
		  },
  {
"cell_type": "code",
	   "execution_count": null,
	   "metadata": {
	    "collapsed": true
	   },
	   "outputs": [],
"source": [
"lamda = 1/10000;\n",
"x  = 5000;\n",
"prob = %e^(-1*lamda*x);\n",
"disp(prob, ' Probability that she will be able to complete her trip without having to replace her car battery is');"
   ]
   }
,
{
		   "cell_type": "markdown",
		   "metadata": {},
		   "source": [
			"## Example 5.6b: Working_Machines.sce"
		   ]
		  },
  {
"cell_type": "code",
	   "execution_count": null,
	   "metadata": {
	    "collapsed": true
	   },
	   "outputs": [],
"source": [
"//When C is put to use, one other machine(either A or B ) will still be working . The probability of this machine or C failing is equal due to the memoryless propoerty of exponential random variables.\n",
"\n",
"disp(1/2, 'The probability that machine which is still operable is machine C is ')"
   ]
   }
,
{
		   "cell_type": "markdown",
		   "metadata": {},
		   "source": [
			"## Example 5.6c: Series_System.sce"
		   ]
		  },
  {
"cell_type": "code",
	   "execution_count": null,
	   "metadata": {
	    "collapsed": true
	   },
	   "outputs": [],
"source": [
"function result= new(lamda,n, t )\n",
"    newsum = 0;\n",
"    for i=1:n\n",
"        newsum= newsum + lamda(i)\n",
"        result=%e^(-1*newsum*t)\n",
"    end\n",
"endfunction"
   ]
   }
,
{
		   "cell_type": "markdown",
		   "metadata": {},
		   "source": [
			"## Example 5.8a: Chi_square_random_variable.sce"
		   ]
		  },
  {
"cell_type": "code",
	   "execution_count": null,
	   "metadata": {
	    "collapsed": true
	   },
	   "outputs": [],
"source": [
"disp(cdfchn('PQ', 30, 26, 0));"
   ]
   }
,
{
		   "cell_type": "markdown",
		   "metadata": {},
		   "source": [
			"## Example 5.8b: Chi_square_random_variable.sce"
		   ]
		  },
  {
"cell_type": "code",
	   "execution_count": null,
	   "metadata": {
	    "collapsed": true
	   },
	   "outputs": [],
"source": [
"disp(cdfchn('X', 15, 0,0.95, 0.05 ))"
   ]
   }
,
{
		   "cell_type": "markdown",
		   "metadata": {},
		   "source": [
			"## Example 5.8c: Locating_a_Target.sce"
		   ]
		  },
  {
"cell_type": "code",
	   "execution_count": null,
	   "metadata": {
	    "collapsed": true
	   },
	   "outputs": [],
"source": [
"disp(1- cdfchn('PQ', 9/4, 3, 0))"
   ]
   }
,
{
		   "cell_type": "markdown",
		   "metadata": {},
		   "source": [
			"## Example 5.8d: Locating_a_Target_in_2D_space.sce"
		   ]
		  },
  {
"cell_type": "code",
	   "execution_count": null,
	   "metadata": {
	    "collapsed": true
	   },
	   "outputs": [],
"source": [
"disp(1- cdfchn('PQ', 2.25,2,0))"
   ]
   }
,
{
		   "cell_type": "markdown",
		   "metadata": {},
		   "source": [
			"## Example 5.8e: T_distributio.sce"
		   ]
		  },
  {
"cell_type": "code",
	   "execution_count": null,
	   "metadata": {
	    "collapsed": true
	   },
	   "outputs": [],
"source": [
"disp(cdft('PQ', 1.4, 12), 'P{T12 <=1.4}');\n",
"disp(cdft('T', 9,  0.975, 0.025), 't0.025, 9')"
   ]
   }
,
{
		   "cell_type": "markdown",
		   "metadata": {},
		   "source": [
			"## Example 5.8f: F_Distributio.sce"
		   ]
		  },
  {
"cell_type": "code",
	   "execution_count": null,
	   "metadata": {
	    "collapsed": true
	   },
	   "outputs": [],
"source": [
"disp(cdff('PQ', 1.5, 6, 14))"
   ]
   }
],
"metadata": {
		  "kernelspec": {
		   "display_name": "Scilab",
		   "language": "scilab",
		   "name": "scilab"
		  },
		  "language_info": {
		   "file_extension": ".sce",
		   "help_links": [
			{
			 "text": "MetaKernel Magics",
			 "url": "https://github.com/calysto/metakernel/blob/master/metakernel/magics/README.md"
			}
		   ],
		   "mimetype": "text/x-octave",
		   "name": "scilab",
		   "version": "0.7.1"
		  }
		 },
		 "nbformat": 4,
		 "nbformat_minor": 0
}
