{
"cells": [
 {
		   "cell_type": "markdown",
	   "metadata": {},
	   "source": [
       "# Chapter 7: Parameter Estimation"
	   ]
	},
{
		   "cell_type": "markdown",
		   "metadata": {},
		   "source": [
			"## Example 7.2a: Maximum_likelihood_estimator_of_a_bernoulli_parameter.sce"
		   ]
		  },
  {
"cell_type": "code",
	   "execution_count": null,
	   "metadata": {
	    "collapsed": true
	   },
	   "outputs": [],
"source": [
"samplesize = 1000;\n",
"acceptable =921;\n",
"disp(acceptable/samplesize, 'The maximum likelihood estimate of p is')"
   ]
   }
,
{
		   "cell_type": "markdown",
		   "metadata": {},
		   "source": [
			"## Example 7.2b: Errors_in_a_manuscript.sce"
		   ]
		  },
  {
"cell_type": "code",
	   "execution_count": null,
	   "metadata": {
	    "collapsed": true
	   },
	   "outputs": [],
"source": [
"function result= totalerror(n1, n2, n12)\n",
"    result = n1*n2/n12;\n",
"endfunction"
   ]
   }
,
{
		   "cell_type": "markdown",
		   "metadata": {},
		   "source": [
			"## Example 7.2c: Maximum_likelihood_estimator_of_a_poisson_parameter.sce"
		   ]
		  },
  {
"cell_type": "code",
	   "execution_count": null,
	   "metadata": {
	    "collapsed": true
	   },
	   "outputs": [],
"source": [
"total_people = 857;\n",
"days= 20;\n",
"disp(total_people/days, 'The maximum likelihood estimate of lambda')"
   ]
   }
,
{
		   "cell_type": "markdown",
		   "metadata": {},
		   "source": [
			"## Example 7.2d: Number_of_traffic_accidents.sce"
		   ]
		  },
  {
"cell_type": "code",
	   "execution_count": null,
	   "metadata": {
	    "collapsed": true
	   },
	   "outputs": [],
"source": [
"accidents= [4 0 6 5 2 1 2 0 4 3 ];\n",
"lambda= mean(accidents)\n",
"disp(cdfpoi('PQ', 2, lambda))"
   ]
   }
,
{
		   "cell_type": "markdown",
		   "metadata": {},
		   "source": [
			"## Example 7.2e: Maximum_likelihood_estimator_in_a_normal_population.sce"
		   ]
		  },
  {
"cell_type": "code",
	   "execution_count": null,
	   "metadata": {
	    "collapsed": true
	   },
	   "outputs": [],
"source": [
"function[u, sigmasquared]=normal(X, Xmean, n)\n",
"    u= Xmean;\n",
"    newsum = 0;\n",
"    for i= 1:n\n",
"        newsum= newsum + (X(i)-Xmean)^2\n",
"    end\n",
"    sigmasquared = sqrt((newsum/n));\n",
"endfunction"
   ]
   }
,
{
		   "cell_type": "markdown",
		   "metadata": {},
		   "source": [
			"## Example 7.2f: Kolmogorovs_law_of_fragmentation.sce"
		   ]
		  },
  {
"cell_type": "code",
	   "execution_count": null,
	   "metadata": {
	    "collapsed": true
	   },
	   "outputs": [],
"source": [
"X= [2.2 3.4 1.6 0.8 2.7 3.3 1.6 2.8 2.5 1.9]\n",
"upperlimX = 3\n",
"lowerlimX = 2;\n",
"upperlimlogX= log(upperlimX);\n",
"lowerlimlogX = log(lowerlimX);\n",
"\n",
"logX = log(X)\n",
"samplemean= mean(logX)\n",
"samplesd= sqrt(variance(logX))\n",
"//disp(samplemean)\n",
"//disp(samplesd)\n",
"prob = cdfnor('PQ', upperlimlogX, samplemean, samplesd) - cdfnor('PQ', lowerlimlogX, samplemean, samplesd)\n",
"disp(prob)"
   ]
   }
,
{
		   "cell_type": "markdown",
		   "metadata": {},
		   "source": [
			"## Example 7.2g: Estimating_Mean_of_a_Uniform_Distribution.sce"
		   ]
		  },
  {
"cell_type": "code",
	   "execution_count": null,
	   "metadata": {
	    "collapsed": true
	   },
	   "outputs": [],
"source": [
"function result= unif(X, n)\n",
"    result = max(X)/2;\n",
"endfunction"
   ]
   }
,
{
		   "cell_type": "markdown",
		   "metadata": {},
		   "source": [
			"## Example 7.3a: Error_in_a_signal.sce"
		   ]
		  },
  {
"cell_type": "code",
	   "execution_count": null,
	   "metadata": {
	    "collapsed": true
	   },
	   "outputs": [],
"source": [
"avg = 0;\n",
"var = 4;\n",
"num = 9;\n",
"X =[5 8.5 12 15 7 9 7.5 6.5 10.5];\n",
"samplemean= mean(X);\n",
"lowerlim = samplemean - (1.96*sqrt(var/num))\n",
"upperlim = samplemean + (1.96*sqrt(var/num))\n",
"\n",
"disp(upperlim, 'to ',lowerlim,'The 95% confidence interval is ',   )"
   ]
   }
,
{
		   "cell_type": "markdown",
		   "metadata": {},
		   "source": [
			"## Example 7.3b: Confidence_interval.sce"
		   ]
		  },
  {
"cell_type": "code",
	   "execution_count": null,
	   "metadata": {
	    "collapsed": true
	   },
	   "outputs": [],
"source": [
"avg = 0;\n",
"var = 4;\n",
"num = 9;\n",
"X =[5 8.5 12 15 7 9 7.5 6.5 10.5];\n",
"samplemean= mean(X);\n",
"lowerlim = samplemean - (1.645*sqrt(var/num))\n",
"upperlim = samplemean + (1.645*sqrt(var/num))\n",
"\n",
"disp(' to infinity', lowerlim,'The 95% upper confidence interval is ' )\n",
"disp(upperlim,'The 95% upper confidence interval is minus infinity to ' )"
   ]
   }
,
{
		   "cell_type": "markdown",
		   "metadata": {},
		   "source": [
			"## Example 7.3c: Confidence_interval.sce"
		   ]
		  },
  {
"cell_type": "code",
	   "execution_count": null,
	   "metadata": {
	    "collapsed": true
	   },
	   "outputs": [],
"source": [
"var = 4;\n",
"num = 9;\n",
"X =[5 8.5 12 15 7 9 7.5 6.5 10.5];\n",
"samplemean= mean(X);\n",
"alpha= 0.005;\n",
"zalpha = cdfnor('X', 0, 1,1-alpha ,alpha);\n",
"//disp(zalpha)\n",
"lowerlim = samplemean - (zalpha*sqrt(var/num))\n",
"upperlim = samplemean + (zalpha*sqrt(var/num))\n",
"disp(upperlim, 'to ',lowerlim,'The 95% confidence interval is ',   )\n",
"\n",
"alpha= 0.01;\n",
"zalpha = cdfnor('X', 0, 1,1-alpha ,alpha);\n",
"lowerlim = samplemean - (zalpha*sqrt(var/num))\n",
"upperlim = samplemean + (zalpha*sqrt(var/num))\n",
"disp(' to infinity', lowerlim,'The 95% upper confidence interval is ' )\n",
"disp(upperlim,'The 95% upper confidence interval is minus infinity to ' )"
   ]
   }
,
{
		   "cell_type": "markdown",
		   "metadata": {},
		   "source": [
			"## Example 7.3d: Weight_of_a_salmo.sce"
		   ]
		  },
  {
"cell_type": "code",
	   "execution_count": null,
	   "metadata": {
	    "collapsed": true
	   },
	   "outputs": [],
"source": [
"sd= 0.3;\n",
"lim = 0.1;\n",
"num = (1.96*sd/lim)^2;\n",
"disp(num, 'Sample size should be greater than');"
   ]
   }
,
{
		   "cell_type": "markdown",
		   "metadata": {},
		   "source": [
			"## Example 7.3e: Error_in_a_signal.sce"
		   ]
		  },
  {
"cell_type": "code",
	   "execution_count": null,
	   "metadata": {
	    "collapsed": true
	   },
	   "outputs": [],
"source": [
"X = [5 8.5 12 15 7 9 7.5 6.5 10.5];\n",
"num = 9;\n",
"meanX= mean(X);\n",
"X2 = X^2;\n",
"s2= (sum(X2)- (num*(meanX^2)))/(num-1);\n",
"s= sqrt(s2);\n",
"tval =  cdft('T', num-1,  0.975, 0.025);\n",
"//disp(tval)\n",
"upperlim = meanX + (tval*s)/sqrt(num);\n",
"lowerlim = meanX - (tval*s)/sqrt(num);\n",
"disp(upperlim, 'to ',lowerlim,'The 95% confidence interval is ',   )"
   ]
   }
,
{
		   "cell_type": "markdown",
		   "metadata": {},
		   "source": [
			"## Example 7.3f: Average_resting_pulse.sce"
		   ]
		  },
  {
"cell_type": "code",
	   "execution_count": null,
	   "metadata": {
	    "collapsed": true
	   },
	   "outputs": [],
"source": [
"X = [54 63 58 72 49 92 70 73 69 104 48 66 80 64 77];\n",
"num = 15;\n",
"meanX= mean(X);\n",
"X2 = X^2;\n",
"s2= (sum(X2)- (num*(meanX^2)))/(num-1);\n",
"s= sqrt(s2);\n",
"tval =  cdft('T', num-1,  0.975, 0.025);\n",
"//disp(tval)\n",
"upperlim = meanX + (tval*s)/sqrt(num);\n",
"lowerlim = meanX - (tval*s)/sqrt(num);\n",
"disp(upperlim, 'to ',lowerlim,'The 95% confidence interval is ',   )\n",
"alpha = 0.05;\n",
"tval = cdft('T', num-1, 1-alpha, alpha);\n",
"lim = meanX + (tval*s)/sqrt(num);\n",
"disp(lim, 'The 95% lower confidence interval is from minus infinity to ')"
   ]
   }
,
{
		   "cell_type": "markdown",
		   "metadata": {},
		   "source": [
			"## Example 7.3g: Evaluating_integrals.sce"
		   ]
		  },
  {
"cell_type": "code",
	   "execution_count": null,
	   "metadata": {
	    "collapsed": true
	   },
	   "outputs": [],
"source": [
"meanX = 0.786;\n",
"s= 0.03;\n",
"num = 100;\n",
"alpha = 0.05;\n",
"tval = cdft('T', num-1, 1-alpha, alpha);\n",
"upperlim = meanX + (tval*s)/sqrt(num);\n",
"lowerlim = meanX - (tval*s)/sqrt(num);\n",
"disp(upperlim, 'to ',lowerlim,'The 95% confidence interval is ',   )"
   ]
   }
,
{
		   "cell_type": "markdown",
		   "metadata": {},
		   "source": [
			"## Example 7.3h: Thickness_of_washers.sce"
		   ]
		  },
  {
"cell_type": "code",
	   "execution_count": null,
	   "metadata": {
	    "collapsed": true
	   },
	   "outputs": [],
"source": [
"num=10;\n",
"X= [0.123 0.133 0.124 0.126 0.120 0.130 0.125 0.128 0.124 0.126];\n",
"//disp(variance(X))\n",
"s2 = variance(X);\n",
"chi1 = cdfchi('X',num-1,0.95, 0.05  );\n",
"chi2 = cdfchi('X',num-1,0.05, 0.95  );\n",
"//disp(chi1, chi2)\n",
"lowerlim = (num-1)*s2/chi2;\n",
"upperlim = (num-1)*s2/chi1;\n",
"disp(sqrt(upperlim), 'to ',sqrt(lowerlim),'The 90% confidence interval is '  )"
   ]
   }
,
{
		   "cell_type": "markdown",
		   "metadata": {},
		   "source": [
			"## Example 7.4a: Cable_insulation.sce"
		   ]
		  },
  {
"cell_type": "code",
	   "execution_count": null,
	   "metadata": {
	    "collapsed": true
	   },
	   "outputs": [],
"source": [
"A=[36 44 41 53 38 36 34 54 52 37 51 44 35 44];\n",
"B=[52 64 38 68 66 52 60 44 48 46 70 62];\n",
"sigmaA= 40;\n",
"sigmaB= 100;\n",
"alpha = 1-0.95;\n",
"beta= alpha/2;\n",
"meanA = mean(A);\n",
"meanB= mean(B);\n",
"zbeta = cdfnor('X',0, 1, 1-beta, beta );\n",
"\n",
"lowerlim= mean(A) - mean(B) - (zbeta*sqrt((sigmaA/length(A)) + (sigmaB/length(B)))) ;\n",
"upperlim= mean(A) - mean(B) + (zbeta*sqrt((sigmaA/length(A)) + (sigmaB/length(B)))) ;\n",
"disp(upperlim, 'to ',lowerlim,'The 95% confidence interval is '   )\n",
"\n",
"beta=alpha;\n",
"zbeta = cdfnor('X',0, 1, 1-beta, beta );\n",
"\n",
"upperlim= mean(A) - mean(B) + (zbeta*sqrt((sigmaA/length(A)) + (sigmaB/length(B)))) ;\n",
"disp(upperlim, 'A value that exceed the difference of the means with 95% confidence is'   )"
   ]
   }
,
{
		   "cell_type": "markdown",
		   "metadata": {},
		   "source": [
			"## Example 7.4b: Battery_productio.sce"
		   ]
		  },
  {
"cell_type": "code",
	   "execution_count": null,
	   "metadata": {
	    "collapsed": true
	   },
	   "outputs": [],
"source": [
"tech1 = [140 136 138 150 152 144 132 142 150 154 136 142];\n",
"tech2 = [144 132 136 140 128 150 130 134 130 146 128 131 137 135];\n",
"num1= 12;\n",
"num2= 14;\n",
"mean1= mean(tech1);\n",
"mean2= mean(tech2);\n",
"//disp(mean1)\n",
"//disp(Sp)\n",
"alpha = 0.9;\n",
"S1 = variance(tech1) //*num1/(num1-1);\n",
"S2 = variance(tech2) // *num2/(num2-1);\n",
"Sp = (((num1-1)*S1) + ((num2-1)*S2))/(num1+ num2 -2);\n",
"Sp= sqrt(Sp);\n",
"num= (1/num1)+(1/num2);\n",
"betaa = (1-alpha)/2;\n",
"tval = cdft('T', num1+num2-2, 1-betaa, betaa);\n",
"upperlim = mean1-mean2 + (tval*Sp)*sqrt(num);\n",
"lowerlim = mean1-mean2 - (tval*Sp)*sqrt(num);\n",
"disp(upperlim, 'to ',lowerlim,'The 90% confidence interval is '   )\n",
"alpha = 0.95\n",
"betaaa = 1-alpha;\n",
"tval = cdft('T', num1+num2-2, 1-betaaa, betaaa);\n",
"lowerlim = mean1-mean2 - (tval*Sp)*sqrt(num);\n",
"disp('the upper confidence interval is')\n",
"disp(' to infinity', lowerlim)"
   ]
   }
,
{
		   "cell_type": "markdown",
		   "metadata": {},
		   "source": [
			"## Example 7.5a: Transistors.sce"
		   ]
		  },
  {
"cell_type": "code",
	   "execution_count": null,
	   "metadata": {
	    "collapsed": true
	   },
	   "outputs": [],
"source": [
"phat = 0.8;\n",
"zalpha = 1.96;\n",
"\n",
"samplesize = 100;\n",
"lowerlim = phat - (zalpha*sqrt(phat*(1-phat)/samplesize));\n",
"upperlim = phat + (zalpha*sqrt(phat*(1-phat)/samplesize));\n",
"disp(upperlim, 'to ',lowerlim,'The 95% confidence interval is '   )"
   ]
   }
,
{
		   "cell_type": "markdown",
		   "metadata": {},
		   "source": [
			"## Example 7.5b: Survey.sce"
		   ]
		  },
  {
"cell_type": "code",
	   "execution_count": null,
	   "metadata": {
	    "collapsed": true
	   },
	   "outputs": [],
"source": [
"phat = 0.52;\n",
"error = 0.04;\n",
"zalpha = 1.96;\n",
"//lowerlim = phat - (zalpha*sqrt(phat*(1-phat)/samplesize));\n",
"//upperlim = phat + (zalpha*sqrt(phat*(1-phat)/samplesize));\n",
"samplesize = (error/zalpha)^2/(phat*(1-phat));\n",
"disp(1/samplesize)"
   ]
   }
,
{
		   "cell_type": "markdown",
		   "metadata": {},
		   "source": [
			"## Example 7.5c: Acceptable_chips.sce"
		   ]
		  },
  {
"cell_type": "code",
	   "execution_count": null,
	   "metadata": {
	    "collapsed": true
	   },
	   "outputs": [],
"source": [
"initialsample = 30;\n",
"acceptable= 26;\n",
"phat = acceptable/initialsample;\n",
"error = 0.05/2;\n",
"zalpha = 2.58;\n",
"\n",
"samplesize = (error/zalpha)^2/(phat*(1-phat));\n",
"finalsize = ceil(1/samplesize);\n",
"acceptablenew= 1040 + acceptable;\n",
"phat = acceptablenew/finalsize;\n",
"lowerlim = phat - (zalpha*sqrt(phat*(1-phat)/finalsize));\n",
"upperlim = phat + (zalpha*sqrt(phat*(1-phat)/finalsize));\n",
"disp(upperlim, 'to ',lowerlim,'The 99% confidence interval is '   )\n",
""
   ]
   }
,
{
		   "cell_type": "markdown",
		   "metadata": {},
		   "source": [
			"## Example 7.6a: Life_of_a_product.sce"
		   ]
		  },
  {
"cell_type": "code",
	   "execution_count": null,
	   "metadata": {
	    "collapsed": true
	   },
	   "outputs": [],
"source": [
"sum_lives = 1740;\n",
"num = 10;\n",
"alpha = (1-0.95)/2;\n",
"chi1= cdfchi('X', (2*num), alpha, 1-alpha);\n",
"chi2 = cdfchi('X', (2*num), 1-alpha, alpha);\n",
"//disp(chi2)\n",
"lowerlim = 2*sum_lives/chi2;\n",
"upperlim = 2*sum_lives/chi1;\n",
"disp(upperlim, 'to ',lowerlim,'The 95% confidence interval is '   )\n",
"\n",
"//The confidence interval is from 101.847 to 360.211 whereas my solution in Scilab is 101.84489 to 362.8485 because of the difference in the value of chi-square(0.975, 20). The textbook says the value is 9.661 whereas scilab calculates its value as 9.59"
   ]
   }
,
{
		   "cell_type": "markdown",
		   "metadata": {},
		   "source": [
			"## Example 7.7a: Point_estimator.sce"
		   ]
		  },
  {
"cell_type": "code",
	   "execution_count": null,
	   "metadata": {
	    "collapsed": true
	   },
	   "outputs": [],
"source": [
"function result1= estimator1(X)\n",
"    result1= X(1);\n",
"    //result2= mean(X);\n",
"    \n",
"endfunction\n",
"function result2= estimator2(X)\n",
"    //result1= X(1);\n",
"    result2= mean(X);\n",
"    \n",
"endfunction"
   ]
   }
,
{
		   "cell_type": "markdown",
		   "metadata": {},
		   "source": [
			"## Example 7.7b: Point_estimator.sce"
		   ]
		  },
  {
"cell_type": "code",
	   "execution_count": null,
	   "metadata": {
	    "collapsed": true
	   },
	   "outputs": [],
"source": [
"function result1 = estimate(d, sigma)\n",
"    sigmainv = 1/sigma;\n",
"    new = d./sigma;\n",
"    result1 = sum(new)/sum(sigmainv);\n",
"endfunction\n",
"\n",
"function result2 = mserror( sigma)\n",
"    sigmainv = 1/sigma;\n",
"    \n",
"    result1 = 1/sum(sigmainv);\n",
"endfunction"
   ]
   }
,
{
		   "cell_type": "markdown",
		   "metadata": {},
		   "source": [
			"## Example 7.7c: Point_estimator_of_a_uniform_distribution.sce"
		   ]
		  },
  {
"cell_type": "code",
	   "execution_count": null,
	   "metadata": {
	    "collapsed": true
	   },
	   "outputs": [],
"source": [
"function result = unbiasedestimator(X, n)\n",
"    c=(n+2)/(n+1);\n",
"    result = c*max(X);\n",
"endfunction"
   ]
   }
,
{
		   "cell_type": "markdown",
		   "metadata": {},
		   "source": [
			"## Example 7.8a: Bayes_estimator.sce"
		   ]
		  },
  {
"cell_type": "code",
	   "execution_count": null,
	   "metadata": {
	    "collapsed": true
	   },
	   "outputs": [],
"source": [
"function result= estimator(X, n)\n",
"    result= (sum(X) +1)/(n+2);\n",
"endfunction"
   ]
   }
,
{
		   "cell_type": "markdown",
		   "metadata": {},
		   "source": [
			"## Example 7.8b: Bayes_estimator_of_a_normal_population.sce"
		   ]
		  },
  {
"cell_type": "code",
	   "execution_count": null,
	   "metadata": {
	    "collapsed": true
	   },
	   "outputs": [],
"source": [
"function result= meanestimator(sigma0 , u, sigma, n, X)\n",
"    meanX= mean(X);\n",
"    result = (n*meanX/sigma0)/((n/sigma0)+(1/sigma)) + (u/sigma)/((n/sigma0)+(1/sigma));\n",
"endfunction\n",
"\n",
"function result= varestimator(sigma0 , sigma, n)\n",
"    result = (sigma0*sigma)/((n*sigma)+sigma0);\n",
"endfunction"
   ]
   }
,
{
		   "cell_type": "markdown",
		   "metadata": {},
		   "source": [
			"## Example 7.8d: estimator_of_the_signal_value.sce"
		   ]
		  },
  {
"cell_type": "code",
	   "execution_count": null,
	   "metadata": {
	    "collapsed": true
	   },
	   "outputs": [],
"source": [
"function result= meanestimator(sigma0 , u, sigma, n, X)\n",
"    meanX= mean(X);\n",
"    result = (n*meanX/sigma0)/((n/sigma0)+(1/sigma)) + (u/sigma)/((n/sigma0)+(1/sigma));\n",
"endfunction\n",
"\n",
"function result= varestimator(sigma0 , sigma, n)\n",
"    result = (sigma0*sigma)/((n*sigma)+sigma0);\n",
"endfunction\n",
"\n",
"u = 50;\n",
"sigma= 100;\n",
"sigma0 = 60;\n",
"n =1;\n",
"X =40;\n",
"expec = meanestimator(sigma0 , u, sigma, n, X);\n",
"var  = varestimator (sigma0, sigma,n);\n",
"//disp(expec);\n",
"//disp(var);\n",
"\n",
"zalpha = 1.645\n",
"lowerlim = -1*sqrt(var)*zalpha+expec;\n",
"upperlim = sqrt(var)*zalpha+expec;\n",
"disp(upperlim, 'to ',lowerlim,'With probability 0.9, the sent signal lies between ',   )"
   ]
   }
],
"metadata": {
		  "kernelspec": {
		   "display_name": "Scilab",
		   "language": "scilab",
		   "name": "scilab"
		  },
		  "language_info": {
		   "file_extension": ".sce",
		   "help_links": [
			{
			 "text": "MetaKernel Magics",
			 "url": "https://github.com/calysto/metakernel/blob/master/metakernel/magics/README.md"
			}
		   ],
		   "mimetype": "text/x-octave",
		   "name": "scilab",
		   "version": "0.7.1"
		  }
		 },
		 "nbformat": 4,
		 "nbformat_minor": 0
}
