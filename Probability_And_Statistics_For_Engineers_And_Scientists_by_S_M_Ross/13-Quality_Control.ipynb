{
"cells": [
 {
		   "cell_type": "markdown",
	   "metadata": {},
	   "source": [
       "# Chapter 13: Quality Control"
	   ]
	},
{
		   "cell_type": "markdown",
		   "metadata": {},
		   "source": [
			"## Example 13.2a: Steel_shaft_diameter.sce"
		   ]
		  },
  {
"cell_type": "code",
	   "execution_count": null,
	   "metadata": {
	    "collapsed": true
	   },
	   "outputs": [],
"source": [
"X = [3.01 2.97 3.12 2.99 3.03 3.02 3.10 3.14 3.09 3.20];\n",
"Y = 1:1:10;\n",
"u = 3;\n",
"sigma = 0.1;\n",
"n=4;\n",
"ucl = u + (3*sigma/sqrt(n));\n",
"lcl = u - (3*sigma/sqrt(n));\n",
"Z= 0.1:0.1:10;\n",
"P= ones(1,100);\n",
"Q= ones(1,100);\n",
"P =P*ucl;\n",
"Q =Q*lcl;\n",
"plot2d(Y, X, -2);\n",
"plot2d(Z, P, 1);\n",
"plot2d(Z, Q, 1);\n",
"//disp(size(Z));\n",
"//disp(size(P));\n",
"disp(ucl, 'ucl is');\n",
"disp(lcl, 'lcl is')"
   ]
   }
,
{
		   "cell_type": "markdown",
		   "metadata": {},
		   "source": [
			"## Example 13.2b: unknown_mean_and_variance.sce"
		   ]
		  },
  {
"cell_type": "code",
	   "execution_count": null,
	   "metadata": {
	    "collapsed": true
	   },
	   "outputs": [],
"source": [
"Xbar = [3.01 2.97 3.12 2.99 3.03 3.02 3.10 3.14 3.09 3.20];\n",
"S = [0.12 0.14 0.08 0.11 0.09 0.08 0.15 0.16 0.13 0.16];\n",
"c = [0.7978849 0.8862266 0.9213181 0.9399851 0.9515332 0.9593684 0.9650309 0.9693103 0.9726596];\n",
"n=4;\n",
"Xbarbar= mean(Xbar);\n",
"Sbar =mean(S);\n",
"lcl = Xbarbar - (3*Sbar/(sqrt(n)*c(n-1)));\n",
"ucl = Xbarbar + (3*Sbar/(sqrt(n)*c(n-1)));\n",
"//disp(lcl, 'LCL is')\n",
"//disp(ucl, 'UCL is')\n",
"u = Xbarbar;\n",
"sigma= Sbar/c(n-1);\n",
"//disp(u);\n",
"//disp(sigma);\n",
"//disp(Sbar, c(4));\n",
"prob = cdfnor('PQ', 3.1, u, sigma) - cdfnor('PQ', 2.9, u, sigma);\n",
"disp(prob*100, 'Percentage of the items that will meet the specifications is')"
   ]
   }
,
{
		   "cell_type": "markdown",
		   "metadata": {},
		   "source": [
			"## Example 13.3a: determining_control_limits.sce"
		   ]
		  },
  {
"cell_type": "code",
	   "execution_count": null,
	   "metadata": {
	    "collapsed": true
	   },
	   "outputs": [],
"source": [
"Xbar = [35.1 33.2 31.7 35.4  34.5 36.4 35.9 38.4 35.7 27.2 38.1 37.6 38.8 34.3 43.2 41.3 35.7 36.3 35.4 34.6];\n",
"S = [4.2 4.4 2.5 3.2 2.6 4.5 3.4 5.1 3.8 6.2 4.2 3.9 3.2 4 3.5 8.2 8.1 4.2 4.1 3.7];\n",
"c = [0.7978849 0.8862266 0.9213181 0.9399851 0.9515332 0.9593684 0.9650309 0.9693103 0.9726596];\n",
"Y = 1:1:20;\n",
"n =5;\n",
"Z= 0.1:0.1:20;\n",
"Xbarbar = mean(Xbar);\n",
"Sbar = mean(S);\n",
"lclX = Xbarbar - (3*Sbar/(sqrt(n)*c(n-1)));\n",
"uclX = Xbarbar + (3*Sbar/(sqrt(n)*c(n-1)));\n",
"val1 = 1/c(n-1);\n",
"val1 = val1^2;\n",
"val1 = val1 - 1;\n",
"val = sqrt(val1);\n",
"//val = sqrt((1/c(n-1)^2)) - 1;\n",
"ucls = Sbar*(1+(3*val));\n",
"lcls = Sbar*(1-(3*val));\n",
"//disp(ucls, lcls)\n",
"plot2d(Y, Xbar, -2);\n",
"P= ones(1, 200);\n",
"Q = ones(1, 200);\n",
"P= P*lclX;\n",
"Q=Q*uclX;\n",
"disp(uclX, 'UCL(X)=');\n",
"disp(lclX, 'LCL(X)=');\n",
"plot2d(Z, P, 1);\n",
"plot2d(Z, Q, 1);\n",
"title('Control Chart for X')\n",
"scf(2);\n",
"disp(uclX, 'UCL(S)=');\n",
"disp(lclX, 'LCL(S)=');\n",
"//disp(ucls, lcls)\n",
"plot2d(Y, S, -2);\n",
"P= P*lcls/lclX;\n",
"Q=Q*ucls/uclX;\n",
"plot2d(Z, P, 1);\n",
"plot2d(Z, Q, 1);\n",
"title('Control Chart for S')"
   ]
   }
,
{
		   "cell_type": "markdown",
		   "metadata": {},
		   "source": [
			"## Example 13.4a: Defectives_Screws.sce"
		   ]
		  },
  {
"cell_type": "code",
	   "execution_count": null,
	   "metadata": {
	    "collapsed": true
	   },
	   "outputs": [],
"source": [
"defect = [6 5 3 0 1 2 1 0 2 1 1 3 2 0 1 1 0 2 1 2];\n",
"F = [0.12 0.10 0.06 0.00 0.02 0.04 0.02 0.00 0.04 0.02 0.02 0.06 0.04 0.00 .02 0.02 0.00 0.04 0.02 0.04];\n",
"total = 1000;\n",
"Fbar = sum(defect)/total;\n",
"n=50;\n",
"val = sqrt(Fbar*(1-Fbar)/n);\n",
"lcl = Fbar - (3*val);\n",
"ucl = Fbar + (3*val);\n",
"disp(lcl,'LCL is' );\n",
"disp(ucl, 'UCL is');\n",
"for i= 1:20\n",
"    if( F(i)>ucl | F(i)<lcl)\n",
"        totald=sum(defect)-defect(i);\n",
"        //total = total -50;\n",
"     end   \n",
"end\n",
"//disp(totald);\n",
"total =  total - 50;\n",
"Fbar = totald/total;\n",
"val = sqrt(Fbar*(1-Fbar)/n);\n",
"//disp(Fbar);\n",
"disp('After recomputation');\n",
"lcl = Fbar - (3*val);\n",
"ucl = Fbar + (3*val);\n",
"disp(lcl,'LCL is' );\n",
"disp(ucl, 'UCL is');"
   ]
   }
,
{
		   "cell_type": "markdown",
		   "metadata": {},
		   "source": [
			"## Example 13.5a: Control_during_production_of_cars.sce"
		   ]
		  },
  {
"cell_type": "code",
	   "execution_count": null,
	   "metadata": {
	    "collapsed": true
	   },
	   "outputs": [],
"source": [
"X = [141 162 150 111 92 74 85 95 76 68 63 74 103 81 94 68 95 81 102 73];\n",
"total = sum(X);\n",
"num = 20;\n",
"Xbar = mean(X);\n",
"lcl = Xbar - 3*sqrt(Xbar);\n",
"ucl = Xbar + 3*sqrt(Xbar);\n",
"disp(ucl, 'UCL is');\n",
"disp(lcl, 'LCL is');\n",
"for i =1:20\n",
"    if(X(i)> ucl )\n",
"        total = total - X(i);\n",
"        num= num -1;\n",
"    end   \n",
"end\n",
"Xbar = total/num;\n",
"\n",
"lcl = Xbar - 3*sqrt(Xbar);\n",
"ucl = Xbar + 3*sqrt(Xbar);\n",
"disp('After recomputation')\n",
"disp(ucl, 'UCL is');\n",
"disp(lcl, 'LCL is');\n",
"total = total - X(4);\n",
"num = num-1;\n",
"disp(Xbar, 'Xbar is');\n",
"disp(X(4), ' is');\n",
"Xbar = total/num;\n",
"lcl = Xbar - 3*sqrt(Xbar);\n",
"ucl = Xbar + 3*sqrt(Xbar);\n",
"disp('After second recomputation')\n",
"disp(ucl, 'UCL is');\n",
"disp(lcl, 'LCL is');\n",
"disp(Xbar, 'It appears that the process is in control with mean');\n",
"\n",
"//The mean after the second recomputation is incoreectly calculated in the textbook. It should be ((17*84.41)-111 )/16 = 82.748 whereas the value given in the book is 82.56. The values of UCL and LCL change accordingly."
   ]
   }
,
{
		   "cell_type": "markdown",
		   "metadata": {},
		   "source": [
			"## Example 13.6b: Service_Time.sce"
		   ]
		  },
  {
"cell_type": "code",
	   "execution_count": null,
	   "metadata": {
	    "collapsed": true
	   },
	   "outputs": [],
"source": [
"X = [48 52 70 62 57 81 56 59 77 82 78 80 74 82 68 84];\n",
"u = 62;\n",
"n = 4;\n",
"sigma = 24;\n",
"alpha = 0.25;\n",
"W = zeros(17);\n",
"W(1) = 60;\n",
"for i =2:17\n",
"    W(i) = (0.25*X(i-1)) + (0.75*W(i-1));\n",
"end\n",
"disp(W , 'The values of W are')\n",
"val = 3*sigma*sqrt(alpha/(n*(2-alpha)));\n",
"lcl = u- val;\n",
"ucl = u+ val;\n",
"disp(lcl, 'LCL is');\n",
"disp(ucl, 'UCL is');"
   ]
   }
,
{
		   "cell_type": "markdown",
		   "metadata": {},
		   "source": [
			"## Example 13.6c: Exponentially_weighted_moving_average_control.sce"
		   ]
		  },
  {
"cell_type": "code",
	   "execution_count": null,
	   "metadata": {
	    "collapsed": true
	   },
	   "outputs": [],
"source": [
"X = [9.617728 10.25437 9.867195 10.79338 10.60699 10.48396 13.33961 9.462969 10.14556 11.66342  11.55484 11.26203 12.31473 9.220009 11.25206 10.48662 9.025091 9.693386 11.45989 12.44213 11.18981 11.56674 9.869849 12.11311 11.48656];\n",
"t = 1:1:26;\n",
"alpha = 2/9;\n",
"val = 9.915051 - (alpha*9.617728);\n",
"val = val/(1-alpha);\n",
"disp(val, 'val is');\n",
"u = 10;\n",
"n = 5;\n",
"sigma = 2;\n",
"\n",
"W = zeros(26);\n",
"W(1) = 10.;\n",
"for i =2:26\n",
"    W(i) = (alpha*X(i-1)) + ((1-alpha)*W(i-1));\n",
"end\n",
"disp(W , 'The values of W are');\n",
"val = 3*sigma*sqrt(alpha/(n*(2-alpha)));\n",
"lcl = u- val;\n",
"ucl = u+ val;\n",
"disp(lcl, 'LCL is');\n",
"disp(ucl, 'UCL is');\n",
"plot2d(t,W, -2);\n",
"xlabel('t');\n",
"ylabel('W');\n",
"nlcl = ones(1, 26);\n",
"nlcl= nlcl.* lcl;\n",
"plot2d(t,nlcl);\n",
"nucl = ones(1, 26);\n",
"nucl= nucl.* ucl;\n",
"plot2d(t,nucl);\n",
"\n",
"//The asymptpotic lines for UCL and LCL have been plotted "
   ]
   }
,
{
		   "cell_type": "markdown",
		   "metadata": {},
		   "source": [
			"## Example 13.6d: Finding_control_limit.sce"
		   ]
		  },
  {
"cell_type": "code",
	   "execution_count": null,
	   "metadata": {
	    "collapsed": true
	   },
	   "outputs": [],
"source": [
"X = [29 33 35 42 36 44 43 45];\n",
"u =30;\n",
"sig = 8;\n",
"d =0.5;\n",
"B =5;\n",
"Y = X - u - (d*sig);\n",
"S = zeros(9);\n",
"S(1) =0;\n",
"for i=2:9\n",
"    S(i)= max(S(i-1) + Y(i-1), 0);\n",
"end\n",
"disp(S, 'S is')\n",
"cl = B*sig;\n",
"disp(cl)\n",
"answer =100;\n",
"for i=1:9\n",
"    if(S(i)>cl)\n",
"        answer = i;\n",
"    end   \n",
"end\n",
"disp('The mean has increased after observing the ')\n",
"disp(answer-1);\n",
"disp(' subgroup average');"
   ]
   }
],
"metadata": {
		  "kernelspec": {
		   "display_name": "Scilab",
		   "language": "scilab",
		   "name": "scilab"
		  },
		  "language_info": {
		   "file_extension": ".sce",
		   "help_links": [
			{
			 "text": "MetaKernel Magics",
			 "url": "https://github.com/calysto/metakernel/blob/master/metakernel/magics/README.md"
			}
		   ],
		   "mimetype": "text/x-octave",
		   "name": "scilab",
		   "version": "0.7.1"
		  }
		 },
		 "nbformat": 4,
		 "nbformat_minor": 0
}
