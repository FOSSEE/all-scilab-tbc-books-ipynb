{
"cells": [
 {
		   "cell_type": "markdown",
	   "metadata": {},
	   "source": [
       "# Chapter 10: Analysis of Variance"
	   ]
	},
{
		   "cell_type": "markdown",
		   "metadata": {},
		   "source": [
			"## Example 10.3a: Dependence_of_mileage_on_gas_used.sce"
		   ]
		  },
  {
"cell_type": "code",
	   "execution_count": null,
	   "metadata": {
	    "collapsed": true
	   },
	   "outputs": [],
"source": [
"Xij = [220 251 226 246 260; 244 235 232 242 225; 252 272 250 238 256];\n",
"Xi = zeros(3,1);\n",
"n= 5;\n",
"m=3;\n",
"for i=1:3\n",
"    for j=1:5\n",
"        Xi(i)= Xi(i) + Xij(i,j);\n",
"    end\n",
"end\n",
"Xi = Xi/n;\n",
"SSW= 0;\n",
"for i=1:3\n",
"    for j= 1:5\n",
"        SSW = SSW + ((Xij(i,j)-Xi(i))^2)\n",
"    end\n",
"end\n",
"sigma1 = SSW/((n*m)-m);\n",
"Xdotdot = sum(Xi)/m;\n",
"new = (Xi - Xdotdot)^2;\n",
"SSb= n*sum(new);\n",
"sigma2 = SSb/(m-1);\n",
"TS = sigma2/sigma1;\n",
"//disp(sigma1);\n",
"//disp(sigma2);\n",
"disp(TS, 'Value of the test statistic is');\n",
"pvalue = 1 - cdff('PQ', TS,m-1, ((n*m)-m) );\n",
"disp(pvalue, 'The p-value is')\n",
"if(pvalue>0.05)\n",
"disp( 'Since the p-value is greater than .05, the null hypothesis that the mean mileage is the same for all 3 brands of gasoline cannot be rejected. ')\n",
"end"
   ]
   }
,
{
		   "cell_type": "markdown",
		   "metadata": {},
		   "source": [
			"## Example 10.3b: Dependence_of_mileage_on_gas_used.sce"
		   ]
		  },
  {
"cell_type": "code",
	   "execution_count": null,
	   "metadata": {
	    "collapsed": true
	   },
	   "outputs": [],
"source": [
"Xijold = [220 251 226 246 260; 244 235 232 242 225; 252 272 250 238 256];\n",
"Xij = Xijold - 220;\n",
"m=3;\n",
"n=5;\n",
"Xidot = zeros(3,1);\n",
"for i=1:m\n",
"    for j=1:n\n",
"        Xidot(i)=Xidot(i) + Xij(i,j);\n",
"    end\n",
"end\n",
"Xidot = Xidot/n;\n",
"Xdotdot = sum(Xidot)/m;\n",
"SSb=0;\n",
"for i=1:m\n",
"    SSb = SSb + (Xidot(i)-Xdotdot)^2;\n",
"end\n",
"SSb = SSb*n;\n",
"Xijsquared = Xij.^2;\n",
"SSW = sum(Xijsquared) - (m*n*(Xdotdot^2)) - SSb;\n",
"sigma1 = SSW/((n*m)-m);\n",
"sigma2 = SSb/(m-1);\n",
"TS = sigma2/sigma1;\n",
"disp(TS, 'Value of the test statistic is'); "
   ]
   }
,
{
		   "cell_type": "markdown",
		   "metadata": {},
		   "source": [
			"## Example 10.3c: Difference_in_GPA.sce"
		   ]
		  },
  {
"cell_type": "code",
	   "execution_count": null,
	   "metadata": {
	    "collapsed": true
	   },
	   "outputs": [],
"source": [
"Xij = [3.2 3.4 3.3 3.5; 3.4 3.0 3.7 3.3; 2.8 2.6 3.0 2.7];\n",
"Xi = zeros(3,1);\n",
"n= 4;\n",
"m=3;\n",
"for i=1:3\n",
"    for j=1:4\n",
"        Xi(i)= Xi(i) + Xij(i,j);\n",
"    end\n",
"end\n",
"Xi = Xi/n;\n",
"SSW= 0;\n",
"for i=1:3\n",
"    for j= 1:4\n",
"        SSW = SSW + ((Xij(i,j)-Xi(i))^2)\n",
"    end\n",
"end\n",
"sigma1 = SSW/((n*m)-m);\n",
"Xdotdot = sum(Xi)/m;\n",
"new = (Xi - Xdotdot)^2;\n",
"SSb= n*sum(new);\n",
"sigma2 = SSb/(m-1);\n",
"TS = sigma2/sigma1;\n",
"//disp(sigma1);\n",
"//disp(sigma2);\n",
"disp(TS, 'Value of the test statistic is');\n",
"pvalue = 1 - cdff('PQ', TS,m-1, ((n*m)-m) );\n",
"disp(pvalue, 'The p-value is')\n",
"C = 3.95; //from table A5\n",
"W = C*sqrt(SSW/(9*4));\n",
"disp(W);\n",
"disp(Xi(1)-Xi(2)+W ,'and ', Xi(1)-Xi(2)-W, 'Mean1 - Mean2 lies between '  );\n",
"disp(Xi(1)-Xi(3)+W ,'and ', Xi(1)-Xi(3)-W, 'Mean1 - Mean3 lies between '  );\n",
"disp(Xi(2)-Xi(3)+W ,'and ', Xi(2)-Xi(3)-W, 'Mean2 - Mean3 lies between '  );"
   ]
   }
,
{
		   "cell_type": "markdown",
		   "metadata": {},
		   "source": [
			"## Example 10.4b: Estimating_Parameters.sce"
		   ]
		  },
  {
"cell_type": "code",
	   "execution_count": null,
	   "metadata": {
	    "collapsed": true
	   },
	   "outputs": [],
"source": [
"X=[75 73 60 70 86; 78 71 64 72 90; 80 69 62 70 85; 73 67 63 80 92 ];\n",
"Xidot = zeros(4,1);\n",
"for i=1:4\n",
"    for j=1:5\n",
"        Xidot(i)=Xidot(i) + X(i,j);\n",
"    end\n",
"end\n",
"Xidot = Xidot/5;\n",
"Xjdot = zeros(5,1);\n",
"for j=1:5\n",
"    for i=1:4\n",
"        Xjdot(j)=Xjdot(j) + X(i,j);\n",
"    end\n",
"end\n",
"Xjdot = Xjdot/4;\n",
"Xdotdot = sum(Xidot)/4;\n",
"//disp(Xdotdot)\n",
"meanhat = Xdotdot;\n",
"alphahat = Xidot - meanhat;\n",
"betahat = Xjdot - meanhat; \n",
"disp(meanhat, 'The estimator of the mean is');\n",
"disp('The alphas are-')\n",
"disp(alphahat)\n",
"disp('The betas are-')\n",
"disp(betahat)"
   ]
   }
,
{
		   "cell_type": "markdown",
		   "metadata": {},
		   "source": [
			"## Example 10.5a: Species_collected.sce"
		   ]
		  },
  {
"cell_type": "code",
	   "execution_count": null,
	   "metadata": {
	    "collapsed": true
	   },
	   "outputs": [],
"source": [
"X = [53 35 31 37 40 43; 36 34 17 21 30 18; 47 37 17 31 45 26; 55 31 17 23 43 37; 40 32 19 26 45 37; 52 42 20 27 26 32; 39 28 21 21 36 28; 40 32 21 21 36 35];\n",
"m= 8;\n",
"n = 6;\n",
"Xidot = zeros(8,1);\n",
"for i=1:8\n",
"    for j=1:6\n",
"        Xidot(i)=Xidot(i) + X(i,j);\n",
"    end\n",
"end\n",
"Xidot = Xidot/6;\n",
"Xjdot = zeros(6,1);\n",
"for j=1:6\n",
"    for i=1:8\n",
"        Xjdot(j)=Xjdot(j) + X(i,j);\n",
"    end\n",
"end\n",
"Xjdot = Xjdot/8;\n",
"Xdotdot = sum(Xidot)/8;\n",
"new = (Xidot - Xdotdot)^2;\n",
"SSr = n*sum(new);\n",
"new1 = (Xjdot - Xdotdot)^2;\n",
"SSc = m*sum(new1);\n",
"SSe = 0;\n",
"for i=1:m\n",
"    for j=1:n\n",
"        SSe = SSe + (X(i,j)-Xidot(i)-Xjdot(j)+ Xdotdot)^2;\n",
"    end\n",
"end\n",
"N =(m-1)*(n-1);\n",
"TS1 = SSr*N/((m-1)*SSe); \n",
"TS2 = SSc*N/((n-1)*SSe);\n",
"pvaluec = 1- cdff('PQ', TS1, m-1, N);\n",
"pvaluer = 1- cdff('PQ', TS2, n-1, N);\n",
"//disp(pvaluer, pvaluec);\n",
"//disp(TS1, TS2);\n",
"disp(TS1, 'The value of the F-statistic for testing that there is no row effect is');\n",
"disp(pvaluec, 'The p-value for testing that there is no row effect is');\n",
"\n",
"disp(TS2, 'The value of the F-statistic for testing that there is no column effect is');\n",
"disp(pvaluer, 'The p-value for testing that there is no column effect is');"
   ]
   }
],
"metadata": {
		  "kernelspec": {
		   "display_name": "Scilab",
		   "language": "scilab",
		   "name": "scilab"
		  },
		  "language_info": {
		   "file_extension": ".sce",
		   "help_links": [
			{
			 "text": "MetaKernel Magics",
			 "url": "https://github.com/calysto/metakernel/blob/master/metakernel/magics/README.md"
			}
		   ],
		   "mimetype": "text/x-octave",
		   "name": "scilab",
		   "version": "0.7.1"
		  }
		 },
		 "nbformat": 4,
		 "nbformat_minor": 0
}
