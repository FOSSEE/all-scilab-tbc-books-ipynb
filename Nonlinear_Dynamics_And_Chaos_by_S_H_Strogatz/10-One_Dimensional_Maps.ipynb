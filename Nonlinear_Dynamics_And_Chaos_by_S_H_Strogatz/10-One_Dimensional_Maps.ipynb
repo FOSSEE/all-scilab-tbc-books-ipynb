{
"cells": [
 {
		   "cell_type": "markdown",
	   "metadata": {},
	   "source": [
       "# Chapter 10: One Dimensional Maps"
	   ]
	},
{
		   "cell_type": "markdown",
		   "metadata": {},
		   "source": [
			"## Example 10.1_1: Fixed_Points_and_Cobwebs.sce"
		   ]
		  },
  {
"cell_type": "code",
	   "execution_count": null,
	   "metadata": {
	    "collapsed": true
	   },
	   "outputs": [],
"source": [
"//Example 10.1.1 Page 350\n",
"//Non-Linear Dynamics and Chaos, First Indian Edition Print 2007\n",
"//Steven H. Strogatz\n",
"clear;\n",
"clear;\n",
"clc;\n",
"close;\n",
"\n",
"x=poly(0,'x');\n",
"f = (x^2)-x;                    //Defining Polynomial--> x(dot)=x^2 -1. Let this be f(x)\n",
"disp('Fixed Points are :')\n",
"y = roots(f)\n",
"\n",
"lambda1=evstr(2*y(1))\n",
"lambda2=evstr(2*y(2))\n",
"\n",
"//if lambda1<1 then\n",
"  //  disp(y(1))\n",
"    //disp('Stable.')\n",
"//elseif lambda1>1\n",
"  //  disp(y(1))\n",
"    //disp('Unstable.')\n",
"//else\n",
"//    disp('Unconclusive since lambda=1.')\n",
"//end\n",
"\n",
"//if lambda2<1 then\n",
"//    disp(y(2))\n",
"//    disp('Stable.')\n",
"//elseif lambda2>1\n",
"//    disp(y(2))\n",
"//    disp('Unstable.')\n",
"//else\n",
"//    disp('Unconclusive since lambda=1.')\n",
"//end\n",
"\n",
"disp('Since lambda1=0<1, Thus it is stable.')\n",
"disp('Since lambda2=2>1 Thus it is unstable.')\n",
"\n",
"//End of Example."
   ]
   }
,
{
		   "cell_type": "markdown",
		   "metadata": {},
		   "source": [
			"## Example 10.1_2: Fixed_Points_and_Cobwebs.sce"
		   ]
		  },
  {
"cell_type": "code",
	   "execution_count": null,
	   "metadata": {
	    "collapsed": true
	   },
	   "outputs": [],
"source": [
"//Example 10.1.2 Page 351\n",
"//Non-Linear Dynamics and Chaos, First Indian Edition Print 2007\n",
"//Steven H. Strogatz\n",
"clear;\n",
"clear;\n",
"clc;\n",
"close;\n",
"set(gca(),'auto_clear','off')        //hold on\n",
"\n",
"for x=-4:0.2:4\n",
"    y1=sin(x);\n",
"    y2=x;\n",
"    plot2d(x,y1,style=-2)\n",
"    plot2d(x,y2,style=-2)\n",
"end\n",
"\n",
"disp('By zooming the above graph we observe that only fixed point is x=0.')\n",
"\n",
"lambda=cos(0)            //f'(x*)=cos(0)\n",
"\n",
"disp('Since, lambda=1; therefore we can not say about stability of x*=0.')\n",
"disp('So, see stability by cobwebs diagram, as shown in book.')\n",
"\n",
"//Cobweb Diagram :-\n",
"\n",
"figure\n",
"for x=0:0.1:(%pi/2)\n",
"    y1=sin(x);\n",
"    y2=x;\n",
"    plot2d(x,y1,style=-4)\n",
"    plot2d(x,y2,style=-4)\n",
"end\n",
"\n",
"x0=%pi/2;\n",
"for y=0:0.2:sin(x0)\n",
"    x=x0;\n",
"    plot2d(x,y,style=-3)\n",
"end\n",
"dx1=(sin(x0)-x0)/5;\n",
"for x=x0:dx1:sin(x0)\n",
"    y=sin(x0);\n",
"    plot2d(x,y,style=-3)\n",
"end\n",
"dy1=(sin(sin(x0))-sin(x0))/5;\n",
"for y=sin(x0):dy1:sin(sin(x0))\n",
"    x=sin(x0);\n",
"    plot2d(x,y,style=-3)\n",
"end\n",
"dx2=(sin(sin(x0))-sin(x0))/5;\n",
"for x=sin(x0):dx2:sin(sin(x0))\n",
"    y=sin(sin(x0));\n",
"    plot2d(x,y,style=-3)\n",
"end\n",
"x=sin(sin(x0));\n",
"dy2=(sin(x)-x)/5;\n",
"for y=x:dy2:sin(x)\n",
"    x=sin(sin(x0));\n",
"    plot2d(x,y,style=-3)\n",
"end\n",
"y=sin(sin(sin(x0)));\n",
"dx3=-(sin(sin(x0))-y)/5;\n",
"for x=sin(sin(x0)):dx3:y\n",
"    //y=sin(x);\n",
"    \n",
"    plot2d(x,y,style=-3)\n",
"end\n",
"xtitle('Cobweb Diagram','x-Axis ( xn)','y-Axis ( xn+1 )')\n",
"//End of Example.  "
   ]
   }
,
{
		   "cell_type": "markdown",
		   "metadata": {},
		   "source": [
			"## Example 10.3_1: Logistic_Map.sce"
		   ]
		  },
  {
"cell_type": "code",
	   "execution_count": null,
	   "metadata": {
	    "collapsed": true
	   },
	   "outputs": [],
"source": [
"//Example 10.3.1 Page 357\n",
"//Non-Linear Dynamics and Chaos, First Indian Edition Print 2007\n",
"//Steven H. Strogatz\n",
"clear;\n",
"clear;\n",
"clc;\n",
"close;\n",
"set(gca(),'auto_clear','off')        //hold on\n",
"\n",
"//Taking r=2;\n",
"r=2;\n",
"x=poly(0,'x');\n",
"f = x-2*(x^2);                    //Defining Polynomial--> f(x*)-x* = 2*x(1-x)-x. Let this be f(x)\n",
"disp('Fixed Points are :')\n",
"y = roots(f)\n",
"\n",
"disp('The fixed point x*=1-(1/r) does not exists for r<1, Since x(n+1)<0 and population cannot be negative.')\n",
"\n",
"lambda1=r-2*r*y(1)        //f'(x*) = r-2rx*\n",
"lambda2=r-2*r*y(2)\n",
"\n",
"disp('Since, lambda1=2>1, thus orign is Unstable.')\n",
"disp('Since, lambda2=0<1, thus x*=1-(1/r) is Stable.')\n",
"\n",
"//Number of points graphically :\n",
"\n",
"r1=3;            //r>1\n",
"r2=1;            //r=1, tangential case\n",
"r3=0.5;          //r<1\n",
"\n",
"for xn=0:0.05:1\n",
"    xn_one=r1*xn*(1-xn);\n",
"    plot2d(xn,xn_one,style=-3)\n",
"    xn_one=r2*xn*(1-xn);\n",
"    plot2d(xn,xn_one,style=-3)\n",
"    xn_one=r3*xn*(1-xn);\n",
"    plot2d(xn,xn_one,style=-3)\n",
"    y=xn;        // to draw y=x line\n",
"    plot2d(xn,y,style=-4)\n",
"end\n",
"xtitle('Graph Showing Number of Fixed Points for differnent values of r','x-Axis ( xn )','y-Axis ( xn+1 )')\n",
"\n",
"//Similarly, check for Stability by changing r.\n",
"\n",
"//End of Example."
   ]
   }
,
{
		   "cell_type": "markdown",
		   "metadata": {},
		   "source": [
			"## Example 10.3_2: Logistic_Map.sce"
		   ]
		  },
  {
"cell_type": "code",
	   "execution_count": null,
	   "metadata": {
	    "collapsed": true
	   },
	   "outputs": [],
"source": [
"//Example 10.3.2 Page 358\n",
"//Non-Linear Dynamics and Chaos, First Indian Edition Print 2007\n",
"//Steven H. Strogatz\n",
"clear;\n",
"clear;\n",
"clc;\n",
"close;\n",
"set(gca(),'auto_clear','off')        //hold on\n",
"\n",
"//Taking r=3.5 such that r>3 as given in book.;\n",
"r=3.5;\n",
"for x=0:0.01:1\n",
"    f2x=(((r^2)*x)-(r*x)^2)*(1-r*x+r*(x^2));        //f2x=second-iterate map.\n",
"    plot2d(x,f2x,style=-2)\n",
"    y=x;            //to plot y=x line.\n",
"    plot2d(x,y,style=-4)\n",
"end\n",
"xtitle('Second Iterate Map','x-Axis ( x )','y-Axis ( f ^ 2 (x) )')"
   ]
   }
,
{
		   "cell_type": "markdown",
		   "metadata": {},
		   "source": [
			"## Example 10.3_3: Logistic_Map.sce"
		   ]
		  },
  {
"cell_type": "code",
	   "execution_count": null,
	   "metadata": {
	    "collapsed": true
	   },
	   "outputs": [],
"source": [
"//Example 10.3.2 Page 358\n",
"//Non-Linear Dynamics and Chaos, First Indian Edition Print 2007\n",
"//Steven H. Strogatz\n",
"clear;\n",
"clear;\n",
"clc;\n",
"close;\n",
"set(gca(),'auto_clear','off')        //hold on\n",
"\n",
"r=0:0.1:5;\n",
"size1=length(r);\n",
"x=zeros(601,size1);\n",
"x(1,1:size1)=0.1;\n",
"for r1=1:size1\n",
"    for n=1:600\n",
"        x(n+1,r1)=r(r1)*x(n,r1)*(1-x(n,r1));\n",
"    end\n",
"end\n",
"\n",
"//z=zeros(301,size1);\n",
"for r1=1:size1\n",
"    for n=300:600\n",
"        //z(n-299,r1)=x(n+1,r1);\n",
"        plot2d(r(r1),x(n+1),style=-2)\n",
"    end\n",
"end\n",
"\n",
"// End of Example"
   ]
   }
,
{
		   "cell_type": "markdown",
		   "metadata": {},
		   "source": [
			"## Example 10.6_1: Universality_and_Experiments.sce"
		   ]
		  },
  {
"cell_type": "code",
	   "execution_count": null,
	   "metadata": {
	    "collapsed": true
	   },
	   "outputs": [],
"source": [
"//Example 10.6.1 Page 369\n",
"//Non-Linear Dynamics and Chaos, First Indian Edition Print 2007\n",
"//Steven H. Strogatz\n",
"clear;\n",
"clear;\n",
"clc;\n",
"close;\n",
"set(gca(),'auto_clear','off')        //hold on\n",
"\n",
"//Sine Map\n",
"r=0.5;\n",
"for xn=0:0.01:1\n",
"    xn_one=r*sin(%pi*xn);\n",
"    plot2d(xn,xn_one,style=-3)\n",
"end"
   ]
   }
,
{
		   "cell_type": "markdown",
		   "metadata": {},
		   "source": [
			"## Example 10.7_2: Renormalization.sce"
		   ]
		  },
  {
"cell_type": "code",
	   "execution_count": null,
	   "metadata": {
	    "collapsed": true
	   },
	   "outputs": [],
"source": [
"//Example 10.7.2 Page 386\n",
"//Non-Linear Dynamics and Chaos, First Indian Edition Print 2007\n",
"//Steven H. Strogatz\n",
"clear;\n",
"clear;\n",
"clc;\n",
"close;\n",
"\n",
"x=poly(0,'x');\n",
"f = (x^2)+4*x-2;                    //Defining Polynomial--> x(dot)=x^2 -1. Let this be f(x)\n",
"disp('Fixed Points are :')\n",
"y = roots(f);\n",
"\n",
"// -2+sqrt(6)=0.4494897\n",
"\n",
"// As seen earlier period 2 cycle occours at r=3.\n",
"\n",
"//Hence,\n",
"\n",
"r2=y(1)+3\n",
"\n",
"\n",
"//End of Example."
   ]
   }
,
{
		   "cell_type": "markdown",
		   "metadata": {},
		   "source": [
			"## Example 10.7_3: Renormalization.sce"
		   ]
		  },
  {
"cell_type": "code",
	   "execution_count": null,
	   "metadata": {
	    "collapsed": true
	   },
	   "outputs": [],
"source": [
"//Example 10.7.2 Page 386\n",
"//Non-Linear Dynamics and Chaos, First Indian Edition Print 2007\n",
"//Steven H. Strogatz\n",
"clear;\n",
"clear;\n",
"clc;\n",
"close;\n",
"\n",
"x=poly(0,'x');\n",
"f = (x^2)+3*x-2;                    //Defining Polynomial--> x(dot)=x^2 -1. Let this be f(x)\n",
"disp('Fixed Points are :')\n",
"y = roots(f)\n",
"\n",
"// As seen earlier period 2 cycle occours at r=3.\n",
"\n",
"//Hence,\n",
"\n",
"r2=y(1)+3\n",
"\n",
"\n",
"//End of Example."
   ]
   }
],
"metadata": {
		  "kernelspec": {
		   "display_name": "Scilab",
		   "language": "scilab",
		   "name": "scilab"
		  },
		  "language_info": {
		   "file_extension": ".sce",
		   "help_links": [
			{
			 "text": "MetaKernel Magics",
			 "url": "https://github.com/calysto/metakernel/blob/master/metakernel/magics/README.md"
			}
		   ],
		   "mimetype": "text/x-octave",
		   "name": "scilab",
		   "version": "0.7.1"
		  }
		 },
		 "nbformat": 4,
		 "nbformat_minor": 0
}
