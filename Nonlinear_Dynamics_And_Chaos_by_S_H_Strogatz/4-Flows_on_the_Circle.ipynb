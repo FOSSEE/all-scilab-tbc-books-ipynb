{
"cells": [
 {
		   "cell_type": "markdown",
	   "metadata": {},
	   "source": [
       "# Chapter 4: Flows on the Circle"
	   ]
	},
{
		   "cell_type": "markdown",
		   "metadata": {},
		   "source": [
			"## Example 4.1_1: Examples_and_Definitions.sce"
		   ]
		  },
  {
"cell_type": "code",
	   "execution_count": null,
	   "metadata": {
	    "collapsed": true
	   },
	   "outputs": [],
"source": [
"//Example 4.1.1 Page 94\n",
"//Non-Linear Dynamics and Chaos, First Indian Edition Print 2007\n",
"//Steven H. Strogatz\n",
"\n",
"clear;\n",
"clc;\n",
"close;\n",
"set(gca(),'auto_clear','off')        //hold on\n",
"\n",
"//Representing theta by O --> not zero it is alphabet 'O'\n",
"//Given :- O(dot) = f(O) = sinO.\n",
"\n",
"O1 = 0;    //first Fix Point.\n",
"O2 = %pi    //Second Fix Point.\n",
"\n",
"//f(double dot) = O(double dot) = cosO.\n",
"\n",
"\n",
"//////////////////// Computations Started /////////////////////////////\n",
"\n",
"f1 = cos(O1)\n",
"f2 = cos(O2)\n",
"\n",
"if f1 > 0 then\n",
"    disp('Zero is the Unstable Fixed Point.')\n",
"else\n",
"    disp('Zero is the Stable Fixed Point.')\n",
"end\n",
"\n",
"if f2>0 then\n",
"    disp('Pi is the Unstable Fixed Point.')\n",
"else\n",
"    disp('Pi is the Stable Fixed Point.')\n",
"end\n",
"\n",
"/////////////////////////////////////////////////////////////////////\n",
"\n",
"figure(0)\n",
"for O = 0:0.1:2*%pi\n",
"    f = sin(O);\n",
"    plot2d(O,f,style=-2)\n",
"end\n",
"\n",
"//////////////// Figure(0) Properties //////////////////////\n",
"a=get('current_axes');//get the handle of the newly created axes\n",
"a.data_bounds=[-1,-2;7,2];\n",
"set(gca(),'grid',[2,5])\n",
"plot2d(0,0,style=-3)            //Showing Unstable-Fixed Point with plus inside a circle\n",
"plot2d(2*%pi,0,style=-4)        //Showing Stable Fixed Point with diamond\n",
"xtitle('Sine Wave on line','X - Axis','Y - Axis')\n",
"//////////////////////////////////////////////////////////\n",
"\n",
"\n",
"exec circle.sci        //function to draw circle is executed\n",
"figure(1)              //Graphic Window(1)\n",
"circle([0 0],4,50)     //Circle is drawn with (0,0)as center, radius=4.\n",
"\n",
"///////////////// figure Properties /////////////////////////\n",
"a=get('current_axes');//get the handle of the newly created axes\n",
"a.data_bounds=[-5,-5;5,5];\n",
"set(gca(),'grid',[2,5])\n",
"plot2d(0,4,style=-13)            //Showing Counter-Clockwise Direction\n",
"plot2d(0,-4,style=-13)            //Showing Counter-Clockwise Direction\n",
"plot2d(4,0,style=-3)            //Showing Unstable-Fixed Point with plus inside a circle\n",
"plot2d(-4,0,style=-4)            //Showing Stable Fixed Point with diamond\n",
"xtitle('Vector Field on Circle','X - Axis','Y - Axis')\n",
"/////////////////////////////////////////////////////////////\n",
"\n",
"//End of Example_4_1_1."
   ]
   }
,
{
		   "cell_type": "markdown",
		   "metadata": {},
		   "source": [
			"## Example 4.1_2: Examples_and_Definitions.sce"
		   ]
		  },
  {
"cell_type": "code",
	   "execution_count": null,
	   "metadata": {
	    "collapsed": true
	   },
	   "outputs": [],
"source": [
"//Example 4.1.2 Page 94\n",
"//Non-Linear Dynamics and Chaos, First Indian Edition Print 2007\n",
"//Steven H. Strogatz\n",
"\n",
"clear;\n",
"clc;\n",
"close;\n",
"\n",
"disp('A Vector Field on the Circle is a Rule :-')\n",
"disp('That assigns a unique velocity vector to each point on the circle.')\n",
"\n",
"disp('For this particular example Theta=0 and Theta=2*pi are same points...')\n",
"disp('on the circle, but with different velocities.')\n",
"disp('Thus it cannot be regarded as the vector field on the circle.')\n",
"\n",
"\n",
"//End of Example_4.1.2"
   ]
   }
,
{
		   "cell_type": "markdown",
		   "metadata": {},
		   "source": [
			"## Example 4.3_1: Nonuniform_Oscillator.sce"
		   ]
		  },
  {
"cell_type": "code",
	   "execution_count": null,
	   "metadata": {
	    "collapsed": true
	   },
	   "outputs": [],
"source": [
"//Example 4.3.1 Page 97\n",
"//Non-Linear Dynamics and Chaos, First Indian Edition Print 2007\n",
"//Steven H. Strogatz\n",
"\n",
"clear;\n",
"clc;\n",
"close;\n",
"set(gca(),'auto_clear','off')        //hold on\n",
"\n",
"// Theta(dot) = f = w - a*sin(Theta)\n",
"//a>w\n",
"\n",
"//Lets take w=2, a=5;\n",
"\n",
"for Theta=-%pi:0.1:%pi \n",
"    f=2 - (5*sin(Theta));        //f = w-a*sin(Theta)\n",
"    plot2d(Theta,f,style=-2)\n",
"end\n",
"\n",
"///////////////// Figure Characteristics //////////////////////////\n",
"    set(gca(),'grid',[2,5])        //Grid on\n",
"\n",
"for Theta=-2*%pi:0.4:2*%pi\n",
"    plot2d(Theta,0,style=-1)        //Just to plot X-Axis.\n",
"    plot2d(0,Theta,style=-1)        //Just to plot Y-Axis.\n",
"end\n",
"plot2d(0.41,0,style=-4)            //Just to Show that the Fixed point is Stable.\n",
"plot2d(2.75,0,style=-3)            //Just to Show that the Fixed point is UnStable.\n",
"plot2d(1.5,0,style=-13)            //Just to Show the Flow.\n",
"plot2d(-2,0,style=-12)            //Just to Show the Flow.\n",
"plot2d(3.2,0,style=-12)            //Just to Show the Flow.\n",
"    xtitle('Theta(dot) = w - a*sin(Theta), for a > w','X-Axis','Y-Axis')\n",
"//////////////////////////////////////////////////////////////////\n",
"\n",
"exec circle.sci        //function to draw circle is executed\n",
"figure(1)              //Graphic Window(1)\n",
"circle([0 0],4,50)     //Circle is drawn with (0,0)as center, radius=4.\n",
"\n",
"///////////////// figure Properties /////////////////////////\n",
"a=get('current_axes');//get the handle of the newly created axes\n",
"a.data_bounds=[-5,-5;5,5];\n",
"set(gca(),'grid',[2,5])\n",
"plot2d(0,4,style=-12)            //Showing Vector Fields on Circle\n",
"plot2d(4,0,style=-6)            //Showing Vector Fields on Circle\n",
"plot2d(-3,2.6,style=-3)            //Showing Unstable-Fixed Point with plus inside a circle\n",
"plot2d(3,2.6,style=-4)            //Showing Stable Fixed Point with diamond\n",
"xtitle('Vector Field on Circle for a > w','X - Axis','Y - Axis')\n",
"/////////////////////////////////////////////////////////////\n",
"\n",
"//End of Example_4_3_1."
   ]
   }
,
{
		   "cell_type": "markdown",
		   "metadata": {},
		   "source": [
			"## Example 4.6_1: Superconducting_Josephson_Junctions.sce"
		   ]
		  },
  {
"cell_type": "code",
	   "execution_count": null,
	   "metadata": {
	    "collapsed": true
	   },
	   "outputs": [],
"source": [
"//Example 4.6.1 Page 110\n",
"//Non-Linear Dynamics and Chaos, First Indian Edition Print 2007\n",
"//Steven H. Strogatz\n",
"\n",
"clear;\n",
"clc;\n",
"close;\n",
"set(gca(),'auto_clear','off')        //hold on\n",
"\n",
"//After mathematical calculations they found:\n",
"\n",
"//<V> = 0 for I<=Ic\n",
"//<V> = Ic*R*sqrt((I/Ic)^2 - 1) for I>Ic\n",
"\n",
"//Let V/RIc = Y\n",
"//Let I/Ic = X\n",
"\n",
"//so, we have\n",
"//Y = 0 for X<=1.\n",
"//Y = sqrt((X^2)-1) for X>1.\n",
"\n",
"for X=0:0.05:3\n",
"    if X<=1 then\n",
"        Y=0;\n",
"        plot2d(X,Y,style=-4)\n",
"    else\n",
"        Y=sqrt((X^2)-1);\n",
"        plot2d(X,Y,style=-4)\n",
"    end\n",
"end\n",
"\n",
"for X=0:0.2:3\n",
"    Y=X;\n",
"    plot2d(X,Y,style=-2)\n",
"end\n",
"\n",
"a=get('current_axes');//get the handle of the newly created axes\n",
"a.data_bounds=[0,0;4,4];\n",
"xtitle('I-V Curve','X - Axis ( I / Ic )','Y - Axis ( V / RIc )')\n",
"\n",
"//End of Example 4.6.1"
   ]
   }
],
"metadata": {
		  "kernelspec": {
		   "display_name": "Scilab",
		   "language": "scilab",
		   "name": "scilab"
		  },
		  "language_info": {
		   "file_extension": ".sce",
		   "help_links": [
			{
			 "text": "MetaKernel Magics",
			 "url": "https://github.com/calysto/metakernel/blob/master/metakernel/magics/README.md"
			}
		   ],
		   "mimetype": "text/x-octave",
		   "name": "scilab",
		   "version": "0.7.1"
		  }
		 },
		 "nbformat": 4,
		 "nbformat_minor": 0
}
