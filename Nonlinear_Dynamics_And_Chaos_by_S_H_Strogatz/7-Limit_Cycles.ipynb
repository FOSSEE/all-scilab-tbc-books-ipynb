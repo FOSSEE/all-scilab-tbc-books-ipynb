{
"cells": [
 {
		   "cell_type": "markdown",
	   "metadata": {},
	   "source": [
       "# Chapter 7: Limit Cycles"
	   ]
	},
{
		   "cell_type": "markdown",
		   "metadata": {},
		   "source": [
			"## Example 7.1_1: A_Simple_Limit_Cycle.sce"
		   ]
		  },
  {
"cell_type": "code",
	   "execution_count": null,
	   "metadata": {
	    "collapsed": true
	   },
	   "outputs": [],
"source": [
"clear;\n",
"clear;\n",
"clc;\n",
"close;\n",
"set(gca(),'auto_clear','off')        //hold on\n",
"\n",
"// Note r=-1 is not the fixed point as radius can't be negative.\n",
"\n",
"r1=0;        //First Fixed Point\n",
"r2=1;        //Second Fixed Point\n",
"\n",
"for r=0:0.05:1.1\n",
"    f=r*(1-(r^2));\n",
"    plot2d(r,f,style=-2)\n",
"end\n",
"\n",
"set(gca(),'grid',[2,5])        //Grid on\n",
"plot2d(0,0,style=-3)\n",
"plot2d(1,0,style=-4)\n",
"plot2d(0.5,0,style=-12)\n",
"plot2d(1.1,0,style=-13)\n",
"xtitle('r(dot) = r * (1 - r^2)','x-Axis (r)','y-Axis (r dot)')\n",
"figure\n",
"function xd=linear711(t,x)\n",
"    xd(1)=(cos(t)*sqrt(x(1)^2+x(2)^2)*(1-x(1)^2-x(2)^2))-(sqrt(x(1)^2+x(2)^2)*sin(t));\n",
"    xd(2)=(sin(t)*sqrt(x(1)^2+x(2)^2)*(1-x(1)^2-x(2)^2))+(sqrt(x(1)^2+x(2)^2)*cos(t));\n",
"             //x(dot);   x(2) means y.\n",
"             //y(dot);   x(1) means x.; \n",
"  endfunction\n",
"  bound=[-4,-4,4,4];        //Bounds of x-axis and y-axis as [xmin ymin xmax ymax], change them according to your needs.\n",
"  nrect=16;     //increase it to get more number of curves, i.e. more information will be available.\n",
"  set(gca(),'auto_clear','off')        //hold on\n",
"  x=linspace(bound(1),bound(3),nrect);\n",
"  y=linspace(bound(2),bound(4),nrect);\n",
"  x0=[];\n",
" \n",
" for i=1:16\n",
"     x0=[x(i);y(i)];\n",
"     t0=0;\n",
"     t=0:0.01:6000;\n",
"     xout=ode(x0,t0,t,linear711);\n",
"     plot2d(xout(1,:),xout(2,:));\n",
" end\n",
"   xtitle('Phase Portrait','x-axis ( x )','y-axis ( y )')"
   ]
   }
,
{
		   "cell_type": "markdown",
		   "metadata": {},
		   "source": [
			"## Example 7.1_2: Van_der_Pol_Oscillator.sce"
		   ]
		  },
  {
"cell_type": "code",
	   "execution_count": null,
	   "metadata": {
	    "collapsed": true
	   },
	   "outputs": [],
"source": [
"function xd=linear712(t,x)\n",
"    xd(1)=x(2);\n",
"    xd(2)=1.5*x(2)*(1-x(1)^2)-x(1);\n",
"             //x(dot);   x(2) means y.\n",
"             //y(dot);   x(1) means x.; \n",
"  endfunction\n",
"  bound=[-4,-4,4,4];        //Bounds of x-axis and y-axis as [xmin ymin xmax ymax], change them according to your needs.\n",
"  nrect=6;     //increase it to get more number of curves, i.e. more information will be available.\n",
"  set(gca(),'auto_clear','off')        //hold on\n",
"  x=linspace(bound(1),bound(3),nrect);\n",
"  y=linspace(bound(2),bound(4),nrect);\n",
"  x0=[];\n",
" \n",
" for i=1:6\n",
"     x0=[x(i);y(i)];\n",
"     t0=0;\n",
"     t=0:0.01:6000;\n",
"     xout=ode(x0,t0,t,linear712);\n",
"     plot2d(xout(1,:),xout(2,:));\n",
" end\n",
"   xtitle('Phase Portrait','x-axis ( x )','y-axis ( y )')"
   ]
   }
,
{
		   "cell_type": "markdown",
		   "metadata": {},
		   "source": [
			"## Example 7.2_3: Ruling_Out_Closed_Orbits.sce"
		   ]
		  },
  {
"cell_type": "code",
	   "execution_count": null,
	   "metadata": {
	    "collapsed": true
	   },
	   "outputs": [],
"source": [
"function xd=linear723(t,x)\n",
"    xd(1)=-x(1)+4*(x(2));         //x(dot);   x(2) means y.\n",
"    xd(2)=-x(1)-(x(2)^3);     //y(dot);   x(1) means x.; \n",
"  endfunction\n",
"  bound=[-8,-8,8,8];        //Bounds of x-axis and y-axis as [xmin ymin xmax ymax], change them according to your needs.\n",
"  nrect=10;     //increase it to get more number of curves, i.e. more information will be available.\n",
"  set(gca(),'auto_clear','off')        //hold on\n",
"  x=linspace(bound(1),bound(3),nrect);\n",
"  y=linspace(bound(2),bound(4),nrect);\n",
"  x0=[];\n",
" \n",
" for i=1:10\n",
"     x0=[x(i);y(i)];\n",
"     t0=0;\n",
"     t=0:0.01:6000;\n",
"     xout=ode(x0,t0,t,linear723);\n",
"     plot2d(xout(1,:),xout(2,:));\n",
" end\n",
" xtitle('Phase Portrait','x-axis ( x )','y-axis ( y )')\n",
"disp('Change x and y bounds and also observe by changing nrect-->')\n",
"  disp('We observe no close orbits for this system.')"
   ]
   }
,
{
		   "cell_type": "markdown",
		   "metadata": {},
		   "source": [
			"## Example 7.2_5: Ruling_Out_Closed_Orbits.sce"
		   ]
		  },
  {
"cell_type": "code",
	   "execution_count": null,
	   "metadata": {
	    "collapsed": true
	   },
	   "outputs": [],
"source": [
"function xd=linear725(t,x)\n",
"    xd(1)=(x(2));         //x(dot);   x(2) means y.\n",
"    xd(2)=-x(1)-x(2)+x(1)^2+x(2)^2;     //y(dot);   x(1) means x.; \n",
"  endfunction\n",
"  bound=[-15,-15,15,15];        //Bounds of x-axis and y-axis as [xmin ymin xmax ymax], change them according to your needs.\n",
"  nrect=22;     //increase it to get more number of curves, i.e. more information will be available.\n",
"  set(gca(),'auto_clear','off')        //hold on\n",
"  x=linspace(bound(1),bound(3),nrect);\n",
"  y=linspace(bound(2),bound(4),nrect);\n",
"  x0=[];\n",
" \n",
" for i=1:22\n",
"     x0=[x(i);y(i)];\n",
"     t0=0;\n",
"     t=0:0.01:6000;\n",
"     xout=ode(x0,t0,t,linear725);\n",
"     plot2d(xout(1,:),xout(2,:));\n",
" end\n",
" xtitle('Phase Portrait','x-axis ( x )','y-axis ( y )')"
   ]
   }
,
{
		   "cell_type": "markdown",
		   "metadata": {},
		   "source": [
			"## Example 7.3_1: Poincare_Bendixson_Theorem.sce"
		   ]
		  },
  {
"cell_type": "code",
	   "execution_count": null,
	   "metadata": {
	    "collapsed": true
	   },
	   "outputs": [],
"source": [
"function xd=linear731(t,x)\n",
" xd(1)=(cos(t)*sqrt(x(1)^2+x(2)^2)*(1-x(1)^2-x(2)^2))+(cos(t)*1*sqrt(x(1)^2+x(2)^2)*cos(t))-(sqrt(x(1)^2+x(2)^2)*sin(t));\n",
"    xd(2)=(sin(t)*sqrt(x(1)^2+x(2)^2)*(1-x(1)^2-x(2)^2))+(sin(t)*1*sqrt(x(1)^2+x(2)^2)*cos(t))-(sqrt(x(1)^2+x(2)^2)*cos(t));\n",
"        //x(dot);   x(2) means y.\n",
"        //y(dot);   x(1) means x.; \n",
"  endfunction\n",
"  bound=[-4,-4,4,4];        //Bounds of x-axis and y-axis as [xmin ymin xmax ymax], change them according to your needs.\n",
"  nrect=12;     //increase it to get more number of curves, i.e. more information will be available.\n",
"  set(gca(),'auto_clear','off')        //hold on\n",
"  x=linspace(bound(1),bound(3),nrect);\n",
"  y=linspace(bound(2),bound(4),nrect);\n",
"  x0=[];\n",
" \n",
" for i=1:12\n",
"     x0=[x(i);y(i)];\n",
"     t0=0;\n",
"     t=0:0.01:3000;\n",
"     xout=ode(x0,t0,t,linear731);\n",
"     plot2d(xout(1,:),xout(2,:));\n",
" end\n",
" xtitle('Phase Portrait','x-axis ( x )','y-axis ( y )')"
   ]
   }
,
{
		   "cell_type": "markdown",
		   "metadata": {},
		   "source": [
			"## Example 7.3_2: Poincare_Bendixson_Theorem.sce"
		   ]
		  },
  {
"cell_type": "code",
	   "execution_count": null,
	   "metadata": {
	    "collapsed": true
	   },
	   "outputs": [],
"source": [
"function xd=linear732(t,x)\n",
"    xd(1)=-x(1)+2*x(2)+(x(1)^2)*x(2);\n",
"    xd(2)=(4)-2*x(2)-(x(1)^2)*x(2);\n",
"  endfunction\n",
"  bound=[-4,-4,4,4];        //Bounds of x-axis and y-axis as [xmin ymin xmax ymax], change them according to your needs.\n",
"  nrect=22;     //increase it to get more number of curves, i.e. more information will be available.\n",
"  set(gca(),'auto_clear','off')        //hold on\n",
"  x=linspace(bound(1),bound(3),nrect);\n",
"  y=linspace(bound(2),bound(4),nrect);\n",
"  x0=[];\n",
" \n",
" for i=1:22\n",
"     x0=[x(i);y(i)];\n",
"     t0=0;\n",
"     t=0:0.01:3000;\n",
"     xout=ode(x0,t0,t,linear732);\n",
"     plot2d(xout(1,:),xout(2,:));\n",
" end\n",
"   xtitle('Phase Portrait','x-axis ( x )','y-axis ( y )')\n",
"disp('From the figure we can clearly observe that the trajectories are giving it a limit cycle shape.')"
   ]
   }
,
{
		   "cell_type": "markdown",
		   "metadata": {},
		   "source": [
			"## Example 7.3_3: Poincare_Bendixson_Theorem.sce"
		   ]
		  },
  {
"cell_type": "code",
	   "execution_count": null,
	   "metadata": {
	    "collapsed": true
	   },
	   "outputs": [],
"source": [
"clear;\n",
"clear;\n",
"clc;\n",
"close;\n",
"set(gca(),'auto_clear','off')        //hold on\n",
"\n",
"//Fixed Point is Stable for determinant(D) > 0 and trace(T) < 0.\n",
"//To get limit cycle oscillations there should not be any fixed point \n",
"//near to the limit cycle.\n",
"\n",
"//Thus, only possibilty left as D > 0, to have T > 0.\n",
"\n",
"//Curve between a and b :\n",
"\n",
"for a=0:0.01:0.14\n",
"    b1=+sqrt(0.5*(1-2*a+sqrt(1-8*a)));\n",
"    b2=+sqrt(0.5*(1-2*a-sqrt(1-8*a)));\n",
"    b3=-sqrt(0.5*(1-2*a+sqrt(1-8*a)));\n",
"    b4=-sqrt(0.5*(1-2*a-sqrt(1-8*a)));\n",
"    plot2d(a,b1,style=-2)\n",
"    plot2d(a,b2,style=-3)\n",
"    plot2d(a,b2,style=-4)\n",
"    plot2d(a,b2,style=-5)\n",
"    \n",
"    \n",
"end\n",
"xtitle('The Dividing Line Trace = 0','x-Axis ( a )','y-Axis ( b )')\n",
"\n",
"figure\n",
"a=0.08;\n",
"b=0.6;\n",
"function xd=linear733(t,x)\n",
"    xd(1)=-x(1)+a*x(2)+(x(1)^2)*x(2);\n",
"    xd(2)=b-a*x(2)-((x(1)^2)*x(2));\n",
"  endfunction\n",
"  bound=[-1,-1,4,4];        //Bounds of x-axis and y-axis as [xmin ymin xmax ymax], change them according to your needs.\n",
"  nrect=12;     //increase it to get more number of curves, i.e. more information will be available.\n",
"  set(gca(),'auto_clear','off')        //hold on\n",
"  x=linspace(bound(1),bound(3),nrect);\n",
"  y=linspace(bound(2),bound(4),nrect);\n",
"  x0=[];\n",
" \n",
" for i=1:12\n",
"     x0=[x(i);y(i)];\n",
"     t0=0;\n",
"     t=0:0.01:3000;\n",
"     xout=ode(x0,t0,t,linear733);\n",
"     plot2d(xout(1,:),xout(2,:));\n",
" end\n",
"   xtitle('Phase Portrait','x-axis ( x )','y-axis ( y )')"
   ]
   }
,
{
		   "cell_type": "markdown",
		   "metadata": {},
		   "source": [
			"## Example 7.4_1: Lienard_Systems.sce"
		   ]
		  },
  {
"cell_type": "code",
	   "execution_count": null,
	   "metadata": {
	    "collapsed": true
	   },
	   "outputs": [],
"source": [
"function xd=linear741(t,x)\n",
"    xd(1)=x(2);\n",
"    xd(2)=1.5*x(2)*(1-x(1)^2)-x(1);\n",
"             //x(dot);   x(2) means y.\n",
"             //y(dot);   x(1) means x.; \n",
"  endfunction\n",
"  bound=[-4,-4,4,4];        //Bounds of x-axis and y-axis as [xmin ymin xmax ymax], change them according to your needs.\n",
"  nrect=12;     //increase it to get more number of curves, i.e. more information will be available.\n",
"  set(gca(),'auto_clear','off')        //hold on\n",
"  x=linspace(bound(1),bound(3),nrect);\n",
"  y=linspace(bound(2),bound(4),nrect);\n",
"  x0=[];\n",
" \n",
" for i=1:12\n",
"     x0=[x(i);y(i)];\n",
"     t0=0;\n",
"     t=0:0.01:3000;\n",
"     xout=ode(x0,t0,t,linear741);\n",
"     plot2d(xout(1,:),xout(2,:));\n",
" end\n",
"   xtitle('Phase Portrait','x-axis ( x )','y-axis ( y )')"
   ]
   }
,
{
		   "cell_type": "markdown",
		   "metadata": {},
		   "source": [
			"## Example 7.5_1: Relaxation_Oscillations.sce"
		   ]
		  },
  {
"cell_type": "code",
	   "execution_count": null,
	   "metadata": {
	    "collapsed": true
	   },
	   "outputs": [],
"source": [
"mew=10;\n",
"function xd=linear751(t,x)\n",
"  F=(1/3)*(x(1)^3)-x(1);\n",
"    xd(1)=mew*(x(2)-F);\n",
"    xd(2)=-(1/mew)*x(1);\n",
"             //x(dot);   x(2) means y.\n",
"             //y(dot);   x(1) means x.; \n",
"  endfunction\n",
"  bound=[-4,-4,4,4];        //Bounds of x-axis and y-axis as [xmin ymin xmax ymax], change them according to your needs.\n",
"  nrect=12;     //increase it to get more number of curves, i.e. more information will be available.\n",
"  set(gca(),'auto_clear','off')        //hold on\n",
"  x=linspace(bound(1),bound(3),nrect);\n",
"  y=linspace(bound(2),bound(4),nrect);\n",
"  x0=[];\n",
" \n",
" for i=1:12\n",
"     x0=[x(i);y(i)];\n",
"     t0=0;\n",
"     t=0:0.01:3000;\n",
"     xout=ode(x0,t0,t,linear751);\n",
"     plot2d(xout(1,:),xout(2,:));\n",
" end\n",
"  xtitle('Phase Portrait','x-axis ( x )','y-axis ( y )')"
   ]
   }
],
"metadata": {
		  "kernelspec": {
		   "display_name": "Scilab",
		   "language": "scilab",
		   "name": "scilab"
		  },
		  "language_info": {
		   "file_extension": ".sce",
		   "help_links": [
			{
			 "text": "MetaKernel Magics",
			 "url": "https://github.com/calysto/metakernel/blob/master/metakernel/magics/README.md"
			}
		   ],
		   "mimetype": "text/x-octave",
		   "name": "scilab",
		   "version": "0.7.1"
		  }
		 },
		 "nbformat": 4,
		 "nbformat_minor": 0
}
