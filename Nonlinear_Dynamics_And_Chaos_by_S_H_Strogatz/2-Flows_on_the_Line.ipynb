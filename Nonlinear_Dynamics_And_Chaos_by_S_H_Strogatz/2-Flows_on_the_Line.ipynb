{
"cells": [
 {
		   "cell_type": "markdown",
	   "metadata": {},
	   "source": [
       "# Chapter 2: Flows on the Line"
	   ]
	},
{
		   "cell_type": "markdown",
		   "metadata": {},
		   "source": [
			"## Example 2.2_1: Fixed_Points_and_Stability.sce"
		   ]
		  },
  {
"cell_type": "code",
	   "execution_count": null,
	   "metadata": {
	    "collapsed": true
	   },
	   "outputs": [],
"source": [
"//Example 2.2.1 Page 19\n",
"//Non-Linear Dynamics and Chaos, First Indian Edition Print 2007\n",
"//Steven H. Strogatz\n",
"\n",
"clear;\n",
"clc;\n",
"close;\n",
"set(gca(),'auto_clear','on')    //hold off\n",
"\n",
"x=poly(0,'x');\n",
"f = (x^2)-1;                    //Defining Polynomial--> x(dot)=x^2 -1. Let this be f(x)\n",
"disp('Fixed Points are :')\n",
"y = roots(f)\n",
"\n",
"set(gca(),'auto_clear','off')    //hold on\n",
"set(gca(),'grid',[2,5])\n",
"for (x=-5:0.1:5)\n",
"    plot2d(x,(x^2)-1,style=-2)\n",
"\n",
"end\n",
"    plot2d(-1,0,style=-4)        //To show 'Diamond Sign' --> Representing a Fixed Stable Point.\n",
"    plot2d(1,0,style=-3)        //To Show 'a Cross within Circle' --> Representing a Fixed Unstable Point.\n",
"    \n",
"    xtitle('Stability Diagram','x-axis','x*-fix points')\n",
"    \n",
"disp('From the diagram it is clear that x=-1 is the Fixed Stable Point.')\n",
"disp('And x=+1 is the Unstable Fixed Point.')\n",
"\n",
"\n",
"//End of Example 2.2.1"
   ]
   }
,
{
		   "cell_type": "markdown",
		   "metadata": {},
		   "source": [
			"## Example 2.2_2: Fixed_Points_and_Stability.sce"
		   ]
		  },
  {
"cell_type": "code",
	   "execution_count": null,
	   "metadata": {
	    "collapsed": true
	   },
	   "outputs": [],
"source": [
"//Example 2.2.2 Page 20\n",
"//Non-Linear Dynamics and Chaos, First Indian Edition Print 2007\n",
"//Steven H. Strogatz\n",
"\n",
"clear;\n",
"clc;\n",
"close;\n",
"set(gca(),'auto_clear','on')    //hold off\n",
"\n",
"//As Resistance(R), Capacitance(C) and Voltage(V(0)) are constants so \n",
"//Let R=4 , V(0)=10 , RC = 0.5 (Thus, C = 0.125)to plot Q(dot) v/s Q.\n",
"// Thus, V(0)/R = 2.5\n",
"//Q(dot) = f(Q) = 2.5 - Q/0.5 => Q(dot) = f(Q) = 2.5 - 2*Q.\n",
"\n",
"set(gca(),'auto_clear','off')    //hold on\n",
"for Q = -2:0.25:2\n",
"    y = 2.5 - 2*Q ;       //y=Q(dot)=f(Q)\n",
"    plot2d(Q,y,style=-2)\n",
"end\n",
"plot2d(1.25,0,style=-4)        //Just to depict Stable Fixed Point \n",
"\n",
"xtitle('Stability Diagram','Q','Q(dot)')\n",
"set(gca(),'grid',[2,5])        //Grid on\n",
"\n",
"disp('From the Figure of Q(dot) v/s Q => we can find the Fixed Point (where Q(dot) crosses X-Axis)')\n",
"\n",
"disp('Put Q(dot)=0 => Q* = CV(0),  Q* = CV(0) = 1.25 in our case.')\n",
"disp('From the figure itself it is clear that the Fixed Point is Stable.')\n",
"\n",
"\n",
"// Now Second Part of the question.\n",
"//From our knowledge of Electronics and Twelth Class we know that :-\n",
"//Charging of Capacitor is described as Exponentially increasing with time. (-exp(-t))\n",
"figure            //To get a new Graphic Window\n",
"\n",
"for t=0:0.2:3\n",
"    Q = 1-exp(-t);        //To show exponential increasing nature of graph starting from Q=0.\n",
"    plot2d(t,Q,style=-2)\n",
"end\n",
"set(gca(),'grid',[2,5])\n",
"xtitle('Charging of Capacitor','x-axis (Time)','Q(t)-charge')\n",
"//End of Example 2.2.2\n",
"\n",
"    \n",
"\n",
""
   ]
   }
,
{
		   "cell_type": "markdown",
		   "metadata": {},
		   "source": [
			"## Example 2.2_3: Fixed_Points_and_Stability.sce"
		   ]
		  },
  {
"cell_type": "code",
	   "execution_count": null,
	   "metadata": {
	    "collapsed": true
	   },
	   "outputs": [],
"source": [
"//Example 2.2.3 Page 21\n",
"//Non-Linear Dynamics and Chaos, First Indian Edition Print 2007\n",
"//Steven H. Strogatz\n",
"\n",
"clear;\n",
"clc;\n",
"close;\n",
"set(gca(),'auto_clear','off')    //hold on\n",
"\n",
"for x=-5:0.25:5\n",
"    y1 = x;\n",
"    y2 = cos(x);\n",
"    plot2d(x,y1,style=-2)\n",
"    plot2d(x,y2,style=-2)\n",
"end\n",
"//plot2d(0.75,0.75, style=-3)        //To show that the fixed point is Unstable.\n",
"set(gca(),'grid',[2,5])\n",
"xtitle('Phase Potrait','x-axis','Y-axis, y=x, y=cos(x)')\n",
"\n",
"disp ('OBSERVATIONS from the Graph :-')\n",
"disp('1. y=x and y=cos(x) intersects at exactly one point.')\n",
"disp('2. The fixed point is Unstable ')\n",
"\n",
"\n",
"//End of Example 2.2.3 Page 21."
   ]
   }
,
{
		   "cell_type": "markdown",
		   "metadata": {},
		   "source": [
			"## Example 2.4_1: Linear_Stability_Analysis.sce"
		   ]
		  },
  {
"cell_type": "code",
	   "execution_count": null,
	   "metadata": {
	    "collapsed": true
	   },
	   "outputs": [],
"source": [
"//Example 2.4.1 Page 25\n",
"//Non-Linear Dynamics and Chaos, First Indian Edition Print 2007\n",
"//Steven H. Strogatz\n",
"\n",
"clear;\n",
"clc;\n",
"close;\n",
"set(gca(),'auto_clear','off')    //hold on\n",
"\n",
"\n",
"disp('When x(double dot) < 0 then =>  Fixed Point is Stable.')\n",
"disp('When x(double dot) > 0 then =>  Fixed Point is Unstable.')\n",
"\n",
"//x(dot) = f(x) = sin(x) =0  =>  x* = k*pi\n",
"\n",
"for k= -5*(%pi):%pi:5*(%pi)\n",
"    f1 = cos(k)\n",
"    plot2d(k,f1,style=-4)\n",
"end\n",
"\n",
"for x= -5*(%pi):0.2:5*(%pi)\n",
"    f = sin(x);\n",
"    plot2d(x,f,style=-2)\n",
"end\n",
"set(gca(),'grid',[2,5])\n",
"xtitle('f(dot) (x*) and sin (x)','x-Axis','y-Axis (Sin(x))')"
   ]
   }
,
{
		   "cell_type": "markdown",
		   "metadata": {},
		   "source": [
			"## Example 2.4_2: Linear_Stability_Analysis.sce"
		   ]
		  },
  {
"cell_type": "code",
	   "execution_count": null,
	   "metadata": {
	    "collapsed": true
	   },
	   "outputs": [],
"source": [
"//Example 2.4.2 Page 25\n",
"//Non-Linear Dynamics and Chaos, First Indian Edition Print 2007\n",
"//Steven H. Strogatz\n",
"\n",
"clear;\n",
"clc;\n",
"close;\n",
"set(gca(),'auto_clear','off')        //hold on\n",
"\n",
"//f(N) = N(dot) = r*N(1-N/K)\n",
"// Let r = 5 and K = 1600; to plot N(dot) v/s N\n",
"\n",
"for N = 0:8:1600\n",
"    f = 5*N*(1-(N/1500));\n",
"    plot2d(N,f,style=-2)\n",
"end\n",
"set(gca(),'grid',[2,5])\n",
"xtitle('Logistic Map','x-Axis(N)','y-Axis (N(dot))')\n",
"\n",
"disp('From graph of N(dot) v/s N it is obvious that :-')\n",
"disp('N = 0 and N=K (1500 in our case) are fixed points.')\n",
"disp('And N=0 is Unstable Fixed Point and N=K is Stable Fixed Point.')\n",
"\n",
"disp('When N(double dot) < 0 then =>  Fixed Point is Stable.')\n",
"disp('When N(double dot) > 0 then =>  Fixed Point is Unstable.')\n",
"\n",
"//End of Example 2.4.2"
   ]
   }
,
{
		   "cell_type": "markdown",
		   "metadata": {},
		   "source": [
			"## Example 2.4_3: Linear_Stability_Analysis.sce"
		   ]
		  },
  {
"cell_type": "code",
	   "execution_count": null,
	   "metadata": {
	    "collapsed": true
	   },
	   "outputs": [],
"source": [
"//Example 2.4.3 Page 25\n",
"//Non-Linear Dynamics and Chaos, First Indian Edition Print 2007\n",
"//Steven H. Strogatz\n",
"\n",
"clear;\n",
"clc;\n",
"close;\n",
"set(gca(),'auto_clear','off')        //hold on\n",
"\n",
"\n",
"for x = -5:0.5:5\n",
"    f1 = -(x^3);\n",
"    subplot(221)\n",
"    plot2d(x,f1,style=-2)\n",
"    plot2d(0,0,style=-4)\n",
"    set(gca(),'grid',[2,5])\n",
"    xtitle('Bifurcation-Diagram','x-Axis(x)','y-Axis (x(dot))')\n",
"    \n",
"    f2 = x^3;\n",
"    subplot(222)\n",
"    plot2d(x,f2,style=-2)\n",
"    plot2d(0,0,style=-3)\n",
"    set(gca(),'grid',[2,5])\n",
"    xtitle('Bifurcation-Diagram','x-Axis(x)','y-Axis (x(dot))')\n",
"    \n",
"    f3 = x^2;\n",
"    subplot(223)\n",
"    plot2d(x,f3,style=-2)\n",
"    plot2d(0,0,style=-5)\n",
"    set(gca(),'grid',[2,5])\n",
"    xtitle('Bifurcation-Diagram','x-Axis(x)','y-Axis (x(dot))')\n",
"    \n",
"    f4 = 0;\n",
"    subplot(224)\n",
"    plot2d(x,f4,style=-2)\n",
"    set(gca(),'grid',[2,5])\n",
"    xtitle('Bifurcation-Diagram','x-Axis(x)','y-Axis (x(dot))')\n",
"    \n",
"end\n",
"//set(gca(),'grid',[2,5])\n",
"//xtitle('Logistic Map','x-Axis(N)','y-Axis (N(dot))')"
   ]
   }
,
{
		   "cell_type": "markdown",
		   "metadata": {},
		   "source": [
			"## Example 2.7_1: Potentials.sce"
		   ]
		  },
  {
"cell_type": "code",
	   "execution_count": null,
	   "metadata": {
	    "collapsed": true
	   },
	   "outputs": [],
"source": [
"//Example 2.7.1 Page 31\n",
"//Non-Linear Dynamics and Chaos, First Indian Edition Print 2007\n",
"//Steven H. Strogatz\n",
"\n",
"clear;\n",
"clc;\n",
"close;\n",
"set(gca(),'auto_clear','off')        //hold on\n",
"\n",
"//x(dot) = f(x) = -x\n",
"// On Integrating we get V(x) = (1/2)x^2 + C ; C = 0.\n",
"\n",
"//Now, Plotting the potential i.e. V(x)\n",
"\n",
"for x = -5:0.5:5\n",
"    V = (1/2)*x^2;\n",
"    plot2d(x,V,style=-2)\n",
"end\n",
"plot2d(0,0,style=-4)    //Just to show that the fixed point is Stable.\n",
"set(gca(),'grid',[2,5])\n",
"xtitle('Potential Diagram','x-Axis(x)','y-Axis (V(x))')\n",
"\n",
"disp('From graph of V(x) v/s x itself, it is clear that :-')\n",
"disp('The only equilibrium point is at x=0')\n",
"disp(' And from the flow we can conclude that the x*=0 point is Stable.')\n",
"\n",
"disp('OR')\n",
"disp('f(dot)(x) = -1 for all x; Thus every equilibrium point which exists is Stable.')\n",
"\n",
"//End of Example."
   ]
   }
,
{
		   "cell_type": "markdown",
		   "metadata": {},
		   "source": [
			"## Example 2.7_2: Potentials.sce"
		   ]
		  },
  {
"cell_type": "code",
	   "execution_count": null,
	   "metadata": {
	    "collapsed": true
	   },
	   "outputs": [],
"source": [
"//Example 2.7.2 Page 31\n",
"//Non-Linear Dynamics and Chaos, First Indian Edition Print 2007\n",
"//Steven H. Strogatz\n",
"\n",
"clear;\n",
"clc;\n",
"close;\n",
"set(gca(),'auto_clear','off')        //hold on\n",
"\n",
"//Given : x(dot) = f(x) = x - x^3.\n",
"//On integrating we get -->  V(x) = -(1/2)x^2  +  (1/4)x^4  +  C ; C=0.\n",
"\n",
"//Now plotting V(x) v/s x ; and observe fix points and their Stabilities\n",
"\n",
"for x = -2:0.05:2\n",
"    V = -(1/2)*(x^2) + (1/4)*(x^4);\n",
"    plot2d(x,V,style=-2)\n",
"end\n",
"plot2d(0,0,style=-3)    //Just to show that the fixed point is UnStable.\n",
"plot2d(-1,-1/4,style=-4)    //Just to show that the fixed point is Stable.\n",
"plot2d(1,-1/4,style=-4)    //Just to show that the fixed point is Stable.\n",
"set(gca(),'grid',[2,5])\n",
"xtitle('Double-Well Potential Diagram (Bistable)','x-Axis(x)','y-Axis (V(x))')"
   ]
   }
],
"metadata": {
		  "kernelspec": {
		   "display_name": "Scilab",
		   "language": "scilab",
		   "name": "scilab"
		  },
		  "language_info": {
		   "file_extension": ".sce",
		   "help_links": [
			{
			 "text": "MetaKernel Magics",
			 "url": "https://github.com/calysto/metakernel/blob/master/metakernel/magics/README.md"
			}
		   ],
		   "mimetype": "text/x-octave",
		   "name": "scilab",
		   "version": "0.7.1"
		  }
		 },
		 "nbformat": 4,
		 "nbformat_minor": 0
}
