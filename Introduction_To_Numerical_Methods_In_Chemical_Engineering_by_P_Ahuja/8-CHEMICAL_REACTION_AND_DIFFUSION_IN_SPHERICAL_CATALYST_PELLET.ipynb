{
"cells": [
 {
		   "cell_type": "markdown",
	   "metadata": {},
	   "source": [
       "# Chapter 8: CHEMICAL REACTION AND DIFFUSION IN SPHERICAL CATALYST PELLET"
	   ]
	},
{
		   "cell_type": "markdown",
		   "metadata": {},
		   "source": [
			"## Example 8.1: first_order_reactio.sce"
		   ]
		  },
  {
"cell_type": "code",
	   "execution_count": null,
	   "metadata": {
	    "collapsed": true
	   },
	   "outputs": [],
"source": [
"clc\n",
"disp('the soln of eg 8.1-->');\n",
"for i=1:100, x(i)=0\n",
"end\n",
"iter=0, e1=1, f=1\n",
"while e1>1e-6 & f>1e-6 do iter=iter+1,for i=1:100, x1(i)=x(i),\n",
"    end, for i=2:100, a(i)=1-(1/(i-1))\n",
"    end, b(1)=-6.01, for i=2:100, b(i)=-2.01\n",
"    end, c(1)=6, for i=2:99,c(i)=1+(1/(i-1))\n",
"    end, for i=1:99,d(i)=0, end, d(100)=-100/99,\n",
"    i=1, n=100, Beta(i)=b(i),\n",
"    Gamma(i)=d(i)/Beta(i)\n",
"    i1=i+1,\n",
"    for j=i1:n, Beta(j)=b(j)-a(j)*c(j-1)/Beta(j-1),\n",
"        Gamma(j)=(d(j)-a(j)*Gamma(j-1))/Beta(j),\n",
"    end \n",
"    x(n)=Gamma(n)\n",
"    n1=n-i,\n",
"    for k=1:n1, j=n-k,x(j)=Gamma(j)-c(j)*x(j+1)/Beta(j)\n",
"    end\n",
"    e1=abs(x(1)-x1(1)),\n",
"    f=abs(x(100)-x1(100)),\n",
"end\n",
"disp(iter,'the solution by TDMA of node 77 to 99 by 1st order rxn. is');\n",
"for i=78:100,\n",
"    disp(x(i));\n",
"end"
   ]
   }
,
{
		   "cell_type": "markdown",
		   "metadata": {},
		   "source": [
			"## Example 8.2: second_order_reaction.sce"
		   ]
		  },
  {
"cell_type": "code",
	   "execution_count": null,
	   "metadata": {
	    "collapsed": true
	   },
	   "outputs": [],
"source": [
"clc\n",
"disp('the soln of eg 8.2-->');\n",
"for i=1:100, x(i)=0\n",
"end\n",
"iter=0, e1=1, f=1\n",
"k=.1,D=10^-9,r=.01,delta_r=r/10,t1=k*delta_r^2/D\n",
"while e1>1e-6 & f>1e-6 do iter=iter+1,for i=1:100, x1(i)=x(i),\n",
"    end, for i=2:100, a(i)=1-(1/(i-1))\n",
"    end, b(1)=-6-.t1*x1(1), for i=2:100, b(i)=-2-t1*x1(i)\n",
"    end, c(1)=6, for i=2:99,c(i)=1+(1/(i-1))\n",
"    end, for i=1:99,d(i)=0, end, d(100)=-100/99,\n",
"    i=1, n=100, Beta(i)=b(i),\n",
"    Gamma(i)=d(i)/Beta(i)\n",
"    i1=i+1,\n",
"    for j=i1:n, Beta(j)=b(j)-a(j)*c(j-1)/Beta(j-1),\n",
"        Gamma(j)=(d(j)-a(j)*Gamma(j-1))/Beta(j),\n",
"    end \n",
"    x(n)=Gamma(n)\n",
"    n1=n-i,\n",
"    for k=1:n1, j=n-k,x(j)=Gamma(j)-c(j)*x(j+1)/Beta(j)\n",
"    end\n",
"    e1=abs(x(1)-x1(1)),\n",
"    f=abs(x(100)-x1(100)),\n",
"end\n",
"disp('the solution by TDMA of node 77 to 99 by 2nd order rxn. is');\n",
"for i=77:100,\n",
"    disp(x(i));\n",
"end"
   ]
   }
,
{
		   "cell_type": "markdown",
		   "metadata": {},
		   "source": [
			"## Example 8.3: non_isothermal_condition.sce"
		   ]
		  },
  {
"cell_type": "code",
	   "execution_count": null,
	   "metadata": {
	    "collapsed": true
	   },
	   "outputs": [],
"source": [
"clc\n",
"disp('the soln of eg 8.3-->');\n",
"for i=1:100, x(i)=0                        //initial values\n",
"end\n",
"e2=1, f1=1,iter=0                          //assumed values\n",
"k=.1*10^-2, D=10^-9,r=.01,delta_r=r/100,t1=k*delta_r^2/D        //given data\n",
"//now solving the eqns for all the nodes and then simplifying we get the following relations\n",
"while e2>1e-6 & f1>1e-6 do iter=iter+1,for i=1:100, x1(i)=x(i),\n",
"    end, for i=2:100, a(i)=1-(1/(i-1))\n",
"    end, b(1)=-6-t1*exp((1-x1(1))/(2-x1(1))), for i=2:100, b(i)=-2-t1*exp((1-x(i))/(2-x(i)))\n",
"    end, c(1)=6, for i=2:99,c(i)=1+(1/(i-1))\n",
"    end, for i=1:99,d(i)=0, end, d(100)=-100/99,\n",
"    i=1, n=100, Beta(i)=b(i),\n",
"    Gamma(i)=d(i)/Beta(i)\n",
"    i1=i+1,\n",
"    for j=i1:n, Beta(j)=b(j)-a(j)*c(j-1)/Beta(j-1),\n",
"        Gamma(j)=(d(j)-a(j)*Gamma(j-1))/Beta(j),\n",
"    end \n",
"    x(n)=Gamma(n)\n",
"    n1=n-i,\n",
"    for k=1:n1, j=n-k,x(j)=Gamma(j)-c(j)*x(j+1)/Beta(j)\n",
"    end\n",
"    e2=abs(x(1)-x1(1)),\n",
"    f1=abs(x(100)-x1(100)),\n",
"end\n",
"disp('the solution by TDMA of node 77 to 100 by 1st order rxn. is');\n",
"for i=76:100,\n",
"    disp(x(i));\n",
"end"
   ]
   }
,
{
		   "cell_type": "markdown",
		   "metadata": {},
		   "source": [
			"## Example 8.4: non_isothermal_condition.sce"
		   ]
		  },
  {
"cell_type": "code",
	   "execution_count": null,
	   "metadata": {
	    "collapsed": true
	   },
	   "outputs": [],
"source": [
"clc\n",
"disp('the soln of eg 8.4-->');\n",
"for i=1:100, x(i)=0\n",
"end\n",
"iter=0, e1=1, f1=1\n",
"while e1>1e-6 & f1>1e-6 do iter=iter+1,for i=1:100, x1(i)=x(i),\n",
"    end, for i=2:100, a(i)=1-(1/(i-1))\n",
"    end, b(1)=-6-.01*exp((10-10*x1(1))/(11-10*x1(1))), for i=2:100, b(i)=-2-.01*exp((10-10*x1(i))/(11-10*x1(i)))\n",
"    end, c(1)=6, for i=2:99,c(i)=1+(1/(i-1))\n",
"    end, for i=1:99,d(i)=0, end, d(100)=-100/99,\n",
"    i=1, n=100, Beta(i)=b(i),\n",
"    Gamma(i)=d(i)/Beta(i)\n",
"    i1=i+1,\n",
"    for j=i1:n, Beta(j)=b(j)-a(j)*c(j-1)/Beta(j-1),\n",
"        Gamma(j)=(d(j)-a(j)*Gamma(j-1))/Beta(j),\n",
"    end \n",
"    x(n)=Gamma(n)\n",
"    n1=n-i,\n",
"    for k=1:n1, j=n-k,x(j)=Gamma(j)-c(j)*x(j+1)/Beta(j)\n",
"    end\n",
"    e1=abs(x(1)-x1(1)),\n",
"    f1=abs(x(100)-x1(100)),\n",
"end\n",
"disp('the solution by TDMA of node 77 to 99 by 1st order rxn. is');\n",
"for i=76:100,\n",
"    disp(x(i));\n",
"end"
   ]
   }
],
"metadata": {
		  "kernelspec": {
		   "display_name": "Scilab",
		   "language": "scilab",
		   "name": "scilab"
		  },
		  "language_info": {
		   "file_extension": ".sce",
		   "help_links": [
			{
			 "text": "MetaKernel Magics",
			 "url": "https://github.com/calysto/metakernel/blob/master/metakernel/magics/README.md"
			}
		   ],
		   "mimetype": "text/x-octave",
		   "name": "scilab",
		   "version": "0.7.1"
		  }
		 },
		 "nbformat": 4,
		 "nbformat_minor": 0
}
