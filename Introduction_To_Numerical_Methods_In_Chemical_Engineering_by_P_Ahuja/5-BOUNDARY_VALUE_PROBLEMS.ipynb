{
"cells": [
 {
		   "cell_type": "markdown",
	   "metadata": {},
	   "source": [
       "# Chapter 5: BOUNDARY VALUE PROBLEMS"
	   ]
	},
{
		   "cell_type": "markdown",
		   "metadata": {},
		   "source": [
			"## Example 5.1: discretization_in_1_D_space.sce"
		   ]
		  },
  {
"cell_type": "code",
	   "execution_count": null,
	   "metadata": {
	    "collapsed": true
	   },
	   "outputs": [],
"source": [
"clc\n",
"//finite difference method\n",
"disp('the solution of eg 5.1-->Discretization in 1-D space');\n",
"//given d2y_by_dx2-2=0 hence it is dirichlet's problem\n",
"\n",
"x_1=0, y_1=0               //initial boundary conditions\n",
"x_3=1, y_3=0\n",
"\n",
"delta_x=.5                //since we have to find y_2 at x=.5 so x_2=.5 \n",
"//in the central difference method substituting i=2 we have\n",
"//(y_3-2*y_2+y_1)/(delta_x)^2=2\n",
"//since y_1 & y_3=0 as per B.C.\n",
"y_2=(y_3+y_1-2*delta_x^2)/2\n",
"disp(y_2,'the value of y at x=.5 from finite difference method is');\n",
"x=.5\n",
"y_exact=x^2-x\n",
"disp(y_exact,'the value of y from exact soln at x=.5 is');"
   ]
   }
,
{
		   "cell_type": "markdown",
		   "metadata": {},
		   "source": [
			"## Example 5.2: discretization_in_1_D_space.sce"
		   ]
		  },
  {
"cell_type": "code",
	   "execution_count": null,
	   "metadata": {
	    "collapsed": true
	   },
	   "outputs": [],
"source": [
"clc\n",
"disp('the solution of eg 5.2 -->Discretization in 1-D space');\n",
"//boundary conditions are: x=0 at y=0; dy/dx=1 at x=1\n",
"disp('to solve this problem we will take delta x=.5 since we have to find the value at x=.5');\n",
"delta_x=.5\n",
"y_1=0\n",
"//using central difference eqn\n",
"dy_by_dx=1                 //at x=1, i=3\n",
"//y_4=dy/dx*2*delta_x+y_2             sincefrom B.C. at node 3\n",
"\n",
"//y_2=delta_x^2+y_3-delta_x           on substituting the value of y_4\n",
"y_3=-(2*delta_x^2+2*(delta_x^2-delta_x)-y_1) //on substituting the value of y_2\n",
"y_2=delta_x^2+y_3-delta_x\n",
"disp(y_2,'the value of y at x=.5 is');"
   ]
   }
,
{
		   "cell_type": "markdown",
		   "metadata": {},
		   "source": [
			"## Example 5.3: discretization_in_1_D_space.sce"
		   ]
		  },
  {
"cell_type": "code",
	   "execution_count": null,
	   "metadata": {
	    "collapsed": true
	   },
	   "outputs": [],
"source": [
"clc\n",
"disp('the solution of eg 5.3 -->Discretization in 1-D space');\n",
"//given the source term f(x)=4x^2-2x-4\n",
"//given eqn d2y/dx2-2y=f(x)\n",
"y_1=0\n",
"y_4=-1\n",
"delta_x=1/3           //since given 3 parts and length=1\n",
"for i=0:3,j=0:delta_x:1;\n",
"end\n",
"//given to divide the line in 3 parts\n",
"//at node 2\n",
"//y_3-2*y_2\n",
"function d=fx3(x),\n",
"d=(4*x^2-2*x-4)\n",
"endfunction\n",
"f2=fx3(j(2))\n",
"f3=fx3(j(3))\n",
"y_3=((f2)*delta_x^2+(2+2*delta_x^2)*((f3)*delta_x^2-y_4)-y_1)/(1-(2+2*delta_x^2)^2)\n",
"y_2=(f3+2*y_3)*delta_x^2+2*y_3-y_4\n",
"disp(y_3,y_2,'is respectively',j(3),j(2),'the value of y at x=');"
   ]
   }
,
{
		   "cell_type": "markdown",
		   "metadata": {},
		   "source": [
			"## Example 5.4: discretization_in_1_D_space.sce"
		   ]
		  },
  {
"cell_type": "code",
	   "execution_count": null,
	   "metadata": {
	    "collapsed": true
	   },
	   "outputs": [],
"source": [
"//f(x)=4x2-2x-4\n",
"clc\n",
"disp('the solution of ex 5.4 by TDMA method is');\n",
"y_1=0\n",
"dy_by_dx=-3            //at x=1\n",
"delta_x=1/3           //since given 3 parts and length=1\n",
"for i=0:3,j=0:delta_x:1;\n",
"end\n",
"//given to divide the line in 3 parts\n",
"function d=fx3(x),\n",
"d=(4*x^2-2*x-4)\n",
"endfunction\n",
"f2=fx3(j(2))\n",
"f3=fx3(j(3))\n",
"f4=fx3(j(4))\n",
"disp('the exact analytical soln are');\n",
"for i=1:3,y(i)=-2*j(i+1)^2+j(i+1),disp(y(i)); \n",
"end\n",
"//using B.C.-2 at node 4 we get\n",
"//(y_5-y_3)/(2*delta_x)=-3\n",
"//eqn at node 2\n",
"//-20*y_2+9*y_3=f2\n",
"//at node 3\n",
"//9*y_2-20*y_3+9*y_4=f3\n",
"//at node 4\n",
"//18*y_3-20*y_4=16\n",
"disp(f4,f3,f2,'the value of f(x) at node 2 3 and 4 are');\n",
"//now solving the equations using TDMA method \n",
"\n",
"a(2)=9,a(3)=18            //sub diagonal assignment\n",
"\n",
"for j=1:3, b(j)=-20;           //main diagonal assignment\n",
"end\n",
"for k=1:2, c(k)=9;            //super diagonal assignment\n",
"end\n",
"d(1)=f2                     //given values assignment\n",
"d(2)=f3\n",
"d(3)=16\n",
"\n",
"i=1;\n",
"n=3;\n",
"beta1(i)=b(i);                //initial b is equal to beta since a1=0\n",
"gamma1(i)=d(i)/beta1(i);      //since c7=0\n",
"m=i+1;\n",
"for j=m:n, beta1(j)=b(j)-a(j)*c(j-1)/beta1(j-1);\n",
"gamma1(j)=(d(j)-a(j)*gamma1(j-1))/beta1(j);\n",
"end\n",
"x(n)=gamma1(n);               //since c7=0\n",
"n1=n-i;\n",
"for k=1:n1, j=n-k; x(j)=gamma1(j)-c(j)*x(j+1)/beta1(j);\n",
"end\n",
"disp('the values of y2, y3, y4 by TDMA method are');\n",
"for i=1:3, disp(x(i));\n",
"end"
   ]
   }
,
{
		   "cell_type": "markdown",
		   "metadata": {},
		   "source": [
			"## Example 5.5: discretization_in_1_D_space.sce"
		   ]
		  },
  {
"cell_type": "code",
	   "execution_count": null,
	   "metadata": {
	    "collapsed": true
	   },
	   "outputs": [],
"source": [
"clc\n",
"disp('the soln of eqn 5.5-->');\n",
"delta_x=.1\n",
"y_11=1\n",
"dy_by_dx_1=0            //dy/dx at x=0\n",
"// given eqn d2y/dx2=y\n",
"disp('the analytical soln are');\n",
"for i=1:10, y_an(i)=cosh((i-1)/10)/cosh(1), disp(y_an(i));\n",
"end\n",
"//using central difference method we have \n",
"//y(i-1) - (2+delat_x^2)y(i) + y(i+1)=0\n",
"//therefore the eqns can be solved using TDMA method\n",
"for i=2:10, a(i)=1            //sub diagonal assignment\n",
"end\n",
"for j=1:10, b(j)=-2.01;           //main diagonal assignment\n",
"end\n",
"c(1)=2\n",
"for k=2:9, c(k)=1;            //super diagonal assignment\n",
"end\n",
"for l=1:9, d(l)=0;\n",
"    end                     //given values assignment\n",
"d(10)=-1\n",
"i=1;\n",
"n=10;\n",
"beta1(i)=b(i);                //initial b is equal to beta since a1=0\n",
"gamma1(i)=d(i)/beta1(i);      //since c7=0\n",
"m=i+1;\n",
"for j=m:n, beta1(j)=b(j)-a(j)*c(j-1)/beta1(j-1);\n",
"gamma1(j)=(d(j)-a(j)*gamma1(j-1))/beta1(j);\n",
"end\n",
"x(n)=gamma1(n);               //since c7=0\n",
"n1=n-i;\n",
"for k=1:n1, j=n-k; x(j)=gamma1(j)-c(j)*x(j+1)/beta1(j);\n",
"end\n",
"disp('the values of y from y1 to y10 by TDMA method are');\n",
"for i=1:10, disp(x(i));\n",
"end "
   ]
   }
,
{
		   "cell_type": "markdown",
		   "metadata": {},
		   "source": [
			"## Example 5.6: 1_D_steady_state_heat_conduction.sce"
		   ]
		  },
  {
"cell_type": "code",
	   "execution_count": null,
	   "metadata": {
	    "collapsed": true
	   },
	   "outputs": [],
"source": [
"clc\n",
"disp('the soln of eqn 5.6-->1-D Steady Heat Conduction');\n",
"//in the given problem \n",
"T_1=100, T_10=200\n",
"delta_x=(T_10-T_1)/9               //since 9 divisions are to be made\n",
"//using central difference method we get\n",
"//for node 2--> 2*T_2-T_3=100\n",
"for i=2:8, a(i)=-1            //sub diagonal assignment\n",
"end\n",
"for j=1:8, b(j)=2;           //main diagonal assignment\n",
"end\n",
"for k=1:7, c(k)=-1;            //super diagonal assignment\n",
"end\n",
"d(1)=100, d(8)=200\n",
"for l=2:7, d(l)=0;\n",
"end                     //given values assignment\n",
"i=1;\n",
"n=8;\n",
"beta1(i)=b(i);                //initial b is equal to beta since a1=0\n",
"gamma1(i)=d(i)/beta1(i);      //since c7=0\n",
"m=i+1;\n",
"for j=m:n, beta1(j)=b(j)-a(j)*c(j-1)/beta1(j-1);\n",
"gamma1(j)=(d(j)-a(j)*gamma1(j-1))/beta1(j);\n",
"end\n",
"x(n)=gamma1(n);               //since c7=0\n",
"n1=n-i;\n",
"for k=1:n1, j=n-k; x(j)=gamma1(j)-c(j)*x(j+1)/beta1(j);\n",
"end\n",
"disp('the values of T from T2 to T9 by TDMA method are');\n",
"for i=1:8, disp(x(i));\n",
"end "
   ]
   }
,
{
		   "cell_type": "markdown",
		   "metadata": {},
		   "source": [
			"## Example 5.7: 1_D_steady_state_heat_conduction.sce"
		   ]
		  },
  {
"cell_type": "code",
	   "execution_count": null,
	   "metadata": {
	    "collapsed": true
	   },
	   "outputs": [],
"source": [
"clc\n",
"disp('the soln of eqn 5.7-->1-D Steady Heat Conduction');\n",
"dia=.02\n",
"l=.05\n",
"T_0=320\n",
"delta_x=l/4\n",
"k=50\n",
"h=100\n",
"T_surr=20\n",
"//B.C--> d(theta)/dx+h(theta)/k=0 at x=0.05\n",
"//let m=sqrt(hP/kA)\n",
"P=%pi*dia\n",
"A=%pi*dia^2/4\n",
"m=sqrt(h*P/(k*A));\n",
"//using central difference method we get \n",
"//-theta(i-1)+(2+(m*delta_x^2)*theta(i)+theta(i+1))=0\n",
"theta_0=T_0-T_surr\n",
"//using B.C. at node 4 we get--> theta(5)=theta(3)-2h*theta(4)*delta_x/k\n",
"//now the eqns can be solved using TDMA method\n",
"for i=2:3, a(i)=-1            //sub diagonal assignment\n",
"end\n",
"a(4)=-2\n",
"for j=1:3, b(j)=2.0625;           //main diagonal assignment\n",
"end\n",
"b(4)=2.1125\n",
"for k=1:3, c(k)=-1;            //super diagonal assignment\n",
"end\n",
"for l=2:4, d(l)=0;\n",
"    end                     //given values assignment\n",
"d(1)=300\n",
"i=1;\n",
"n=4;\n",
"beta1(i)=b(i);                //initial b is equal to beta since a1=0\n",
"gamma1(i)=d(i)/beta1(i);      //since c7=0\n",
"m=i+1;\n",
"for j=m:n, beta1(j)=b(j)-a(j)*c(j-1)/beta1(j-1);\n",
"gamma1(j)=(d(j)-a(j)*gamma1(j-1))/beta1(j);\n",
"end\n",
"x(n)=gamma1(n);               //since c7=0\n",
"n1=n-i;\n",
"for k=1:n1, j=n-k; x(j)=gamma1(j)-c(j)*x(j+1)/beta1(j);\n",
"end\n",
"disp('the values of T from T1 to T4 in Celsius by TDMA method are');\n",
"for i=1:4, disp(x(i)-T_surr);\n",
"end "
   ]
   }
,
{
		   "cell_type": "markdown",
		   "metadata": {},
		   "source": [
			"## Example 5.8: chemical_reaction_and_diffusion_in_pore.sce"
		   ]
		  },
  {
"cell_type": "code",
	   "execution_count": null,
	   "metadata": {
	    "collapsed": true
	   },
	   "outputs": [],
"source": [
"clc\n",
"disp('the soln of eg 5.8-->Chemical Reaction and Diffusion in Pore');\n",
"lnght=.001\n",
"k_const=.001\n",
"D=10^-9\n",
"delta_x=l/100\n",
"C=1                 //in mol/m3\n",
"//B.C. are C=1 at x=0\n",
"//         dC/dx=0 at x=10^-3    since at the end point conc. is const.\n",
"//using central difference method we get the following eqns which can be solved using TDMA method\n",
"for i=2:99, a(i)=1            //sub diagonal assignment\n",
"end\n",
"a(100)=2                  //since C99=C100 using B.C. \n",
"for j=1:100, b(j)=-2.0001,           //main diagonal assignment\n",
"end\n",
"for k=1:99, c(k)=1;            //super diagonal assignment\n",
"end\n",
"d(1)=-1\n",
"for l=2:100, d(l)=0;\n",
"end                     //given values assignment\n",
"i=1;\n",
"n=100;\n",
"beta1(i)=b(i);                //initial b is equal to beta since a1=0\n",
"gamma1(i)=d(i)/beta1(i);      //since c7=0\n",
"m=i+1;\n",
"for j=m:n, beta1(j)=b(j)-a(j)*c(j-1)/beta1(j-1);\n",
"gamma1(j)=(d(j)-a(j)*gamma1(j-1))/beta1(j);\n",
"end\n",
"x(n)=gamma1(n);               //since c7=0\n",
"n1=n-i;\n",
"for k=1:n1, j=n-k; x(j)=gamma1(j)-c(j)*x(j+1)/beta1(j);\n",
"end\n",
"disp(x(50),'the values of conc. at x=.5mm or at the 50th node is');"
   ]
   }
],
"metadata": {
		  "kernelspec": {
		   "display_name": "Scilab",
		   "language": "scilab",
		   "name": "scilab"
		  },
		  "language_info": {
		   "file_extension": ".sce",
		   "help_links": [
			{
			 "text": "MetaKernel Magics",
			 "url": "https://github.com/calysto/metakernel/blob/master/metakernel/magics/README.md"
			}
		   ],
		   "mimetype": "text/x-octave",
		   "name": "scilab",
		   "version": "0.7.1"
		  }
		 },
		 "nbformat": 4,
		 "nbformat_minor": 0
}
