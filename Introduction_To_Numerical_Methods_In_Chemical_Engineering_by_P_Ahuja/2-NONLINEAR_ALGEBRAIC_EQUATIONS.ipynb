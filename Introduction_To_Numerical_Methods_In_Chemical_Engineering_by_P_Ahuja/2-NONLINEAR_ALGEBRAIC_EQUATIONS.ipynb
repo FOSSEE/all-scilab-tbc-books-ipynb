{
"cells": [
 {
		   "cell_type": "markdown",
	   "metadata": {},
	   "source": [
       "# Chapter 2: NONLINEAR ALGEBRAIC EQUATIONS"
	   ]
	},
{
		   "cell_type": "markdown",
		   "metadata": {},
		   "source": [
			"## Example 2.1: algebraic_equations.sce"
		   ]
		  },
  {
"cell_type": "code",
	   "execution_count": null,
	   "metadata": {
	    "collapsed": true
	   },
	   "outputs": [],
"source": [
"//ch 2 ex 2.1 solving using newton's method.\n",
"clc\n",
"disp('the soln of eqn 2.1--> Newton Method');\n",
"x=.5                      //initial value\n",
"xnew=0\n",
"e=1\n",
"while e>10^-4 do x=xnew,function y=Fa(x),\n",
"         y=x^3-5*x+1;                   //defining fn \n",
"endfunction \n",
"der=derivative(Fa,x),                //differentiating the fn\n",
"xnew=x-Fa(x)/der,\n",
"e=abs(xnew-x),\n",
"end\n",
"disp(xnew,'the root of the eqn is');"
   ]
   }
,
{
		   "cell_type": "markdown",
		   "metadata": {},
		   "source": [
			"## Example 2.2: algebraic_equations.sce"
		   ]
		  },
  {
"cell_type": "code",
	   "execution_count": null,
	   "metadata": {
	    "collapsed": true
	   },
	   "outputs": [],
"source": [
"clc\n",
"disp('the solution of ex 2.2 --> Pressure Drop in Pipe');\n",
"meu=1.79*10^-5\n",
"rough=.0000015     //roughness\n",
"dia=.004\n",
"e_by_D=rough/dia\n",
"rho=1.23\n",
"v=50              //velocity of air\n",
"l=1\n",
"Re=(rho*v*dia)/meu         //Reynold's number\n",
"ffnew=0.01\n",
"e=1\n",
"t1=e_by_D/3.7              //term 1 of eqn.\n",
"t2=2.51/Re                 //term 2 of eqn.\n",
"disp(Re,'the Reynolds no. is');\n",
"funcprot(0)\n",
"while e>1e-6 do ff=ffnew,function y=Fh(ff),\n",
"        t3=sqrt(ff),\n",
"    y=1/t3+2*log(t1+t2/t3)/2.3,                    //divide by 2.3 since log is base 'e' instead of 10\n",
"endfunction;\n",
"fdash=derivative(Fh,ff);             //f'(ff)\n",
"ffnew=ff-Fh(ff)/fdash;\n",
"e=abs(ff-ffnew)\n",
"end\n",
"disp(ff,'the fanning friction factor is')\n",
"delta_p=(ff*l*v^2*rho)/(2*dia)                  //pressure drop\n",
"disp(delta_p,'the pressure drop in pascals is');"
   ]
   }
,
{
		   "cell_type": "markdown",
		   "metadata": {},
		   "source": [
			"## Example 2.3: algebraic_equations.sce"
		   ]
		  },
  {
"cell_type": "code",
	   "execution_count": null,
	   "metadata": {
	    "collapsed": true
	   },
	   "outputs": [],
"source": [
"clc\n",
"disp('the solution of eg 2.3 --> minimum fluidization velocity');\n",
"P=2*101325      //given data\n",
"T=298.15\n",
"M=28.97*10^-3\n",
"R=8.314\n",
"rho=(P*M)/(R*T)\n",
"rho_p=1000\n",
"dia=1.2*10^-4\n",
"ep=.42                //void fraction\n",
"sph=.88\n",
"meu=1.845*10^-5\n",
"t1=1.75*rho*(1-ep)/(sph*dia*ep^3)                      //these are the terms of the function.\n",
"t2=150*meu*(1-ep)^2/(sph^2*dia^2*ep^3)\n",
"t3=(1-ep)*(rho_p-rho)*9.8\n",
"vnew=0.1\n",
"e1=1\n",
"while e1>1e-6 do v=vnew,function y=Fb(v);\n",
"    y=t1*v^2+t2*v-t3,                   //defining fn \n",
"    endfunction,\n",
"vdash=derivative(Fb,v),                //differentiating the fn\n",
"vnew=v-Fb(v)/vdash,\n",
"e1=abs(vnew-v),\n",
"end\n",
"disp(v,'the minimum fluidisation velocity in m/s is');"
   ]
   }
,
{
		   "cell_type": "markdown",
		   "metadata": {},
		   "source": [
			"## Example 2.4: algebraic_equations.sce"
		   ]
		  },
  {
"cell_type": "code",
	   "execution_count": null,
	   "metadata": {
	    "collapsed": true
	   },
	   "outputs": [],
"source": [
"clc\n",
"disp('the soln of eg 2.4--> Terminal Velocity');\n",
"dia=2*10^-3\n",
"P=101325      //given data\n",
"T=298.15\n",
"M=28.89*10^-3\n",
"R=8.314\n",
"rho=(P*M)/(R*T)\n",
"rho_oil=900\n",
"meu=1.85*10^-5\n",
"Re_oil_by_v=rho*dia/meu\n",
"vnew=0.1, e=1\n",
"while e>1e-6 do v=vnew, Re_oil=Re_oil_by_v*v, \n",
"    Cd=24*(1+.15*Re_oil^.687)/Re_oil,\n",
"    vnew=sqrt(4*(rho_oil-rho)*9.81*dia/(3*Cd*rho)),\n",
"e=abs(vnew-v),\n",
"end\n",
"disp(v,'the terminal velocity in m/s is');    \n",
""
   ]
   }
,
{
		   "cell_type": "markdown",
		   "metadata": {},
		   "source": [
			"## Example 2.5: algebraic_equations.sce"
		   ]
		  },
  {
"cell_type": "code",
	   "execution_count": null,
	   "metadata": {
	    "collapsed": true
	   },
	   "outputs": [],
"source": [
"clc\n",
"disp('the soln of eg 2.5--> non linear equations');\n",
"xnew=0.1,ynew=0.5, e1=1, e2=1\n",
"while e1>1e-6 & e2>1e-6 do x=xnew,y=ynew,\n",
"y1=exp(x)+x*y-1,\n",
"d_fx=exp(x)+y\n",
"d_fy=x\n",
"y2=sin(x*y)+x+y-1,\n",
"d_gx=y*cos(x*y)+1\n",
"d_gy=x*cos(x*y)+1\n",
"t1=(y2*d_fy), t2=(y1*d_gy),\n",
"D1=d_fx*d_gy-d_fy*d_gx\n",
"delta_x=(t1-t2)/D1\n",
"t3=(y1*d_gx),t4=(y2*d_fx)\n",
"delta_y=(t3-t4)/D1\n",
"xnew=x+delta_x\n",
"ynew=y+delta_y\n",
"e1=abs(x-xnew)\n",
"e2=abs(y-ynew)\n",
"end\n",
"disp(y,x,'the values of x and y respectively are');\n",
"disp('such small value of x can be considered as zero.')"
   ]
   }
,
{
		   "cell_type": "markdown",
		   "metadata": {},
		   "source": [
			"## Example 2.6: algebraic_equations.sce"
		   ]
		  },
  {
"cell_type": "code",
	   "execution_count": null,
	   "metadata": {
	    "collapsed": true
	   },
	   "outputs": [],
"source": [
"clc\n",
"disp('the soln of eg 2.6-->');\n",
"xnew=0.1,ynew=0.5, e1=1, e2=1\n",
"while e1>10^-6 & e2>10^-6 do x=xnew, y=ynew,\n",
"y1=3*x^3+4*y^2-145,\n",
"d_fx=9*x^2\n",
"d_fy=8*y\n",
"y2=4*x^2-y^3+28,\n",
"d_gx=8*x\n",
"d_gy=-3*y^2\n",
"D2=d_fx*d_gy-d_gx*d_fy\n",
"delta_x=(y2*d_fy-y1*d_gy)/D2\n",
"delta_y=(y1*d_gx-y2*d_fx)/D2\n",
"xnew=x+delta_x\n",
"ynew=y+delta_y\n",
"e1=abs(xnew-x)\n",
"e2=abs(ynew-y)\n",
"end\n",
"disp(y,x,'the values of x and y are respectively');"
   ]
   }
],
"metadata": {
		  "kernelspec": {
		   "display_name": "Scilab",
		   "language": "scilab",
		   "name": "scilab"
		  },
		  "language_info": {
		   "file_extension": ".sce",
		   "help_links": [
			{
			 "text": "MetaKernel Magics",
			 "url": "https://github.com/calysto/metakernel/blob/master/metakernel/magics/README.md"
			}
		   ],
		   "mimetype": "text/x-octave",
		   "name": "scilab",
		   "version": "0.7.1"
		  }
		 },
		 "nbformat": 4,
		 "nbformat_minor": 0
}
