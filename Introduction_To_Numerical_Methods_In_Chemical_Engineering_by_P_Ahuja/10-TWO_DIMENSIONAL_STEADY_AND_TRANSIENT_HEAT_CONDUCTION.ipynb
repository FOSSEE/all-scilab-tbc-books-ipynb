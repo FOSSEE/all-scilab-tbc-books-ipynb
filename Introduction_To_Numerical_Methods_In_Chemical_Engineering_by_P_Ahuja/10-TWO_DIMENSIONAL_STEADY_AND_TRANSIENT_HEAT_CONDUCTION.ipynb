{
"cells": [
 {
		   "cell_type": "markdown",
	   "metadata": {},
	   "source": [
       "# Chapter 10: TWO DIMENSIONAL STEADY AND TRANSIENT HEAT CONDUCTION"
	   ]
	},
{
		   "cell_type": "markdown",
		   "metadata": {},
		   "source": [
			"## Example 10.10: ADI_method.sce"
		   ]
		  },
  {
"cell_type": "code",
	   "execution_count": null,
	   "metadata": {
	    "collapsed": true
	   },
	   "outputs": [],
"source": [
"clc\n",
"disp('the soln of eg 10.10-->Alternating Direction Implicit Method');\n",
"nmax=25\n",
"a(2)=1, a(3)=1,                               //defining variables\n",
"b(1)=-4,b(2)=-4,b(3)=-4\n",
"c(1)=1,c(2)=1\n",
"t(1,2)=20,t(1,3)=20,t(1,4)=20,t(2,1)=20,t(3,1)=20,t(4,1)=20,t(5,2)=20,t(5,3)=20,t(5,4)=20,t(2,5)=400,t(3,5)=400,t(4,5)=400\n",
"tstar(1,2)=20,tstar(1,3)=20,tstar(1,4)=20,tstar(2,1)=20,tstar(3,1)=20,tstar(4,1)=20,tstar(5,2)=20,tstar(5,3)=20,tstar(5,4)=20,tstar(2,5)=400,tstar(3,5)=400,tstar(4,5)=400\n",
"for i=2:4, for j=2:4 t(i,j)=20\n",
"    end\n",
"end\n",
"//solving by TDMA Method\n",
"for nn=1:nmax, for jj=2:4,d(1)=-t(1,jj)-t(2,jj+1)-tstar(2,jj-1),\n",
"        d(2)=-t(3,jj+1)-tstar(3,jj-1),\n",
"        d(3)=-t(5,jj)-t(4,jj+1)-tstar(4,jj-1)\n",
"        i=1,n=3\n",
"    Beta(i)=b(i),\n",
"    Gamma(i)=d(i)/Beta(i)\n",
"    i1=i+1,\n",
"    for j=i1:n, Beta(j)=b(j)-a(j)*c(j-1)/Beta(j-1),\n",
"        Gamma(j)=(d(j)-a(j)*Gamma(j-1))/Beta(j),\n",
"    end \n",
"    x(n)=Gamma(n)\n",
"    n1=n-i,\n",
"    for k=1:n1, j=n-k,x(j)=Gamma(j)-c(j)*x(j+1)/Beta(j)\n",
"    end\n",
"    tstar(2,jj)=x(1)\n",
"    tstar(3,jj)=x(2)\n",
"    tstar(4,jj)=x(3)\n",
"end\n",
"for ii=2:4,d(1)=-t(ii,1)-tstar(ii+1,2)-tstar(ii-1,2),\n",
"    d(2)=-tstar(ii+1,3)-tstar(ii-1,3)\n",
"    d(3)=-t(ii,5)-tstar(ii+1,4)-tstar(ii-1,4)\n",
"    i=1,n=3\n",
"    Beta(i)=b(i),\n",
"    Gamma(i)=d(i)/Beta(i)\n",
"    i1=i+1,\n",
"    for j=i1:n, Beta(j)=b(j)-a(j)*c(j-1)/Beta(j-1),\n",
"        Gamma(j)=(d(j)-a(j)*Gamma(j-1))/Beta(j),\n",
"    end \n",
"    x(n)=Gamma(n)\n",
"    n1=n-i,\n",
"    for k=1:n1, j=n-k,x(j)=Gamma(j)-c(j)*x(j+1)/Beta(j)\n",
"    end\n",
"    t(ii,2)=x(1)\n",
"t(ii,3)=x(2)\n",
"t(ii,4)=x(3)\n",
"end\n",
"end\n",
"disp('the soln by ADI method is');\n",
"disp(t(2,4),t(2,3),t(2,2));\n",
"disp('--------------');\n",
"disp(t(3,4),t(3,3),t(3,2));\n",
"disp('--------------');\n",
"disp(t(4,4),t(4,3),t(4,2));"
   ]
   }
,
{
		   "cell_type": "markdown",
		   "metadata": {},
		   "source": [
			"## Example 10.11: ADI_method_for_transient_heat_conduction.sce"
		   ]
		  },
  {
"cell_type": "code",
	   "execution_count": null,
	   "metadata": {
	    "collapsed": true
	   },
	   "outputs": [],
"source": [
"clc\n",
"disp('the soln of eg 10.11-->');\n",
"for k=2:10, a(k)=-1, b(k)=2.4, c(k)=-1\n",
"end\n",
"alpha=1,delta_t=.05,delta_x=.1\n",
"m=alpha*delta_t/delta_x^2\n",
"b(1)=2.4\n",
"c(1)=-2\n",
"for k=1:11, t(11,k)=400, tstar(11,k)=400, t(k,11)=400,tstar(k,11)=400\n",
"end\n",
"for i=1:10, for j=1:10, t(i,j)=0, tstar(i,j)=0\n",
"    end\n",
"end\n",
"for tm=.05:.05:.5, for jj=1:10,if jj==1 then for ii=1:10,d(ii)=2*t(ii,2)-1.6*t(ii,1),end,d(10)=d(10)+400,else for ii=1:10, d(ii)=t(ii,jj+1)+t(ii,jj-1)-1.6*t(ii,jj),end,d(10)=d(10)+400,end, \n",
"    i=1, n=10\n",
"    Beta(i)=b(i),\n",
"    Gamma(i)=d(i)/Beta(i)\n",
"    i1=i+1,\n",
"    for j=i1:n, Beta(j)=b(j)-a(j)*c(j-1)/Beta(j-1),\n",
"        Gamma(j)=(d(j)-a(j)*Gamma(j-1))/Beta(j),\n",
"    end \n",
"    x(n)=Gamma(n)\n",
"    n1=n-i,\n",
"    for k=1:n1, j=n-k,x(j)=Gamma(j)-c(j)*x(j+1)/Beta(j)\n",
"    end, for count=1:10, tstar(count,jj)=x(count),end \n",
"    end\n",
"    for ii=1:10,\n",
"        if ii==1 then for jj=1:10,d(jj)=2*tstar(ii+1,1)-1.6*tstar(ii,1),end, d(10)=d(10)+400,else for jj=1:10,d(jj)=tstar(ii-1,jj)+tstar(ii+1,jj)-1.6*tstar(ii,jj), end, d(10)=d(10)+400, end\n",
"    i=1, n=10\n",
"    Beta(i)=b(i),\n",
"    Gamma(i)=d(i)/Beta(i)\n",
"    i1=i+1,\n",
"    for j=i1:n, Beta(j)=b(j)-a(j)*c(j-1)/Beta(j-1),\n",
"        Gamma(j)=(d(j)-a(j)*Gamma(j-1))/Beta(j),\n",
"    end \n",
"    x(n)=Gamma(n)\n",
"    n1=n-i,\n",
"    for k=1:n1, j=n-k,x(j)=Gamma(j)-c(j)*x(j+1)/Beta(j)\n",
"    end, \n",
"    for count=1:10, t(ii,count)=x(count), end \n",
"  end\n",
"end\n",
"disp('the soln by ADI is');\n",
"for i=1:10,j=1:10,disp(t(i,j));\n",
"end\n",
"disp('the table is actually interchanged row & column.. horizontally are the elements of the column');"
   ]
   }
,
{
		   "cell_type": "markdown",
		   "metadata": {},
		   "source": [
			"## Example 10.1: discretization_in_2_D_space_gauss_seidel_method.sce"
		   ]
		  },
  {
"cell_type": "code",
	   "execution_count": null,
	   "metadata": {
	    "collapsed": true
	   },
	   "outputs": [],
"source": [
"clc\n",
"disp('the soln of eg 10.1-->2-D steady heat conduction-Gauss Seidel method ');\n",
"for i=1:9,tnew(i)=101,e(i)=1                       //assumed values\n",
"end\n",
"t=1e-6\n",
"//since all the nodes are interior nodes so discretized eqn used is eqn 10.10\n",
"while e(1)>t&e(2)>t&e(3)>t&e(4)>t&e(5)>t &e(6)>t& e(7)>t& e(8)>t & e(9)>t do \n",
"    for i=1:9, told(i)=tnew(i),end\n",
"    tnew(1)=(told(2)+40+told(4))/4                       //on solving eqns for various nodes we get,\n",
"    tnew(2)=(tnew(1)+told(3)+told(5)+20)/4\n",
"    tnew(3)=(tnew(2)+told(6)+420)/4\n",
"    tnew(4)=(told(5)+tnew(1)+told(7)+20)/4\n",
"    tnew(5)=(tnew(2)+told(8)+told(6)+tnew(4))/4\n",
"    tnew(6)=(tnew(3)+tnew(5)+told(9)+400)/4\n",
"    tnew(7)=(tnew(4)+told(8)+40)/4\n",
"    tnew(8)=(tnew(5)+tnew(7)+told(9)+20)/4\n",
"    tnew(9)=(tnew(6)+420+tnew(8))/4\n",
"    for i=1:9,e(i)=abs(tnew(i)-told(i))\n",
"    end\n",
"end\n",
"disp('the values of T from 1st element to last is');\n",
"for i=1:9,disp(tnew(i));\n",
"end"
   ]
   }
,
{
		   "cell_type": "markdown",
		   "metadata": {},
		   "source": [
			"## Example 10.2: discretization_in_2_D_space_gauss_seidel_method.sce"
		   ]
		  },
  {
"cell_type": "code",
	   "execution_count": null,
	   "metadata": {
	    "collapsed": true
	   },
	   "outputs": [],
"source": [
"clc\n",
"disp('the soln of eg 10.2-->');\n",
"for i=1:5,tnew(i)=101,e(i)=1\n",
"end\n",
"t=1e-6\n",
"//since there is no source term so we get the following eqns.\n",
"while e(1)>t&e(2)>t&e(3)>t&e(4)>t&e(5)>t do \n",
"    for i=1:5, told(i)=tnew(i),end\n",
"    tnew(1)=(told(2)*2+300)/4\n",
"    tnew(2)=(tnew(1)+told(3)+300)/4\n",
"    tnew(3)=(tnew(2)+told(4)+200)/4\n",
"    tnew(4)=(told(5)+tnew(3)+300)/4\n",
"    tnew(5)=(2*tnew(4)+300)/4\n",
"    for i=1:5,e(i)=abs(tnew(1)-told(i))\n",
"    end\n",
"end\n",
"disp('the values of T from 1st element to last is');\n",
"for i=1:5,disp(tnew(i));\n",
"end"
   ]
   }
,
{
		   "cell_type": "markdown",
		   "metadata": {},
		   "source": [
			"## Example 10.3: discretization_in_2_D_space.sce"
		   ]
		  },
  {
"cell_type": "code",
	   "execution_count": null,
	   "metadata": {
	    "collapsed": true
	   },
	   "outputs": [],
"source": [
"clc\n",
"disp('the soln of eg 10.3-->Red-Black Gauss-Seidel Method');\n",
"for j=1:5,tn(j,1)=400,end                       //defining conditions\n",
"for j=2:4,tn(1,j)=20,tn(5,j)=20,tn(j,5)=20, end\n",
"for i=1:9,e(i)=1\n",
"end\n",
"for i=2:4,j=2:4,tn(i,j)=60\n",
"end\n",
"t1=1e-6\n",
"while e(1)>t1&e(2)>t1&e(3)>t1&e(4)>t1&e(5)>t1 &e(6)>t1& e(7)>t1& e(8)>t1 & e(9)>t1 do for i=2:4,j=2:4,t(i,j)=tn(i,j),end\n",
"//using red-black gauss-seidel method\n",
"for i=2:4,j=2:4,tn(i,j)=(tn(i+1,j)+tn(i-1,j)+tn(i,j+1)+tn(i,j-1))/4, end\n",
"//now getting the absolute difference of the 9 variables\n",
"e(1)=abs(t(2,2)-tn(2,2)),e(2)=abs(t(2,3)-tn(2,3)),e(3)=abs(t(2,4)-tn(2,4)),e(4)=abs(t(3,2)-tn(3,2)),e(5)=abs(t(3,3)-tn(3,3)),e(6)=abs(t(3,4)-tn(3,4)),e(7)=abs(t(4,2)-tn(4,2)),e(8)=abs(t(4,3)-tn(4,3)),e(9)=abs(t(4,4)-tn(4,4)),\n",
"end\n",
"//now defining positions of the various nodes according to red black combination\n",
"R1=t(2,4),R2=t(4,4),R3=t(3,3),R4=t(2,2),R5=t(2,4),B1=t(4,3),B2=t(3,2),B3=t(3,4),B4=t(2,3)\n",
"disp(R5,R4,R3,R2,R1,'the value of RED points respectively is');\n",
"disp(B4,B3,B2,B1,'the value of BLUE points respectively is');"
   ]
   }
,
{
		   "cell_type": "markdown",
		   "metadata": {},
		   "source": [
			"## Example 10.8: discretization_in_2_D_space.sce"
		   ]
		  },
  {
"cell_type": "code",
	   "execution_count": null,
	   "metadata": {
	    "collapsed": true
	   },
	   "outputs": [],
"source": [
"clc\n",
"disp('the soln of eg 10.8-->Gauss Seidel Method');\n",
"for i=1:9,tnew(i)=101,e(i)=1                    //assumed values\n",
"end\n",
"t=1e-6\n",
"while e(1)>t&e(2)>t&e(3)>t&e(4)>t&e(5)>t &e(6)>t& e(7)>t& e(8)>t & e(9)>t do \n",
"    for i=1:9, told(i)=tnew(i),end\n",
"    //using eqn 10.10 for the interior nodes and convective boundary conditions for corner nodes\n",
"    tnew(1)=(told(2)+50+.5*told(4)+100/3)*3/7\n",
"    tnew(2)=(tnew(1)+told(3)+told(5)+100)/4\n",
"    tnew(3)=(tnew(2)+told(6)+600)/4\n",
"    tnew(4)=(told(5)+.5*tnew(1)+.5*told(7)+100/3)*3/7\n",
"    tnew(5)=(tnew(2)+told(8)+told(6)+tnew(4))/4\n",
"    tnew(6)=(tnew(3)+tnew(5)+told(9)+500)/4\n",
"    tnew(7)=(.5*tnew(4)+.5*told(8)+100/3)*3/4\n",
"    tnew(8)=(tnew(5)+.5*tnew(7)+.5*told(9)+100/3)*3/7\n",
"    tnew(9)=(tnew(6)+100/3+.5*tnew(8)+250)*3/7\n",
"    for i=1:9,e(i)=abs(tnew(i)-told(i))\n",
"    end\n",
"end\n",
"disp('the values of T from 1st element to last is');\n",
"for i=1:9,disp(tnew(i));\n",
"end"
   ]
   }
,
{
		   "cell_type": "markdown",
		   "metadata": {},
		   "source": [
			"## Example 10.9: discretization_in_2_D_space.sce"
		   ]
		  },
  {
"cell_type": "code",
	   "execution_count": null,
	   "metadata": {
	    "collapsed": true
	   },
	   "outputs": [],
"source": [
"clc\n",
"disp('the soln of eg 10.9-->Steady state heat conduction in L-shaped body');\n",
"for i=1:9,tnew(i)=101,e(i)=1             //assumed values\n",
"end\n",
"t=1e-6\n",
"while e(1)>t&e(2)>t&e(3)>t&e(4)>t&e(5)>t &e(6)>t& e(7)>t& e(8)>t & e(9)>t do \n",
"    for i=1:9, told(i)=tnew(i),end\n",
"    //using the basic discretization eqn. for all the nodes since the boundary conditions vary for each point\n",
"    tnew(1)=(told(2)+1.25+told(4))/2.05\n",
"    tnew(2)=(.5*tnew(1)+.5*told(3)+told(5)+1.25)/2.05\n",
"    tnew(3)=(.5*tnew(2)+.5*told(6)+1.25)/1.05\n",
"    tnew(4)=(told(5)+.5*tnew(1)+45)/2\n",
"    tnew(5)=(tnew(2)+told(8)+90+tnew(4))/4\n",
"    tnew(6)=(.5*tnew(3)+tnew(5)+.5*told(7)+91.25)/3.05\n",
"    tnew(7)=(.5*tnew(6)+.5*told(8)+91.25)/2.05\n",
"    tnew(8)=(91.25+.5*tnew(7)+.5*told(9))/2.05\n",
"    tnew(9)=(47.125+.5*tnew(8))/1.025\n",
"    for i=1:9,e(i)=abs(tnew(i)-told(i))\n",
"    end\n",
"end\n",
"disp('the values of T from 1st element to last is');\n",
"for i=1:9,disp(told(i));\n",
"end"
   ]
   }
],
"metadata": {
		  "kernelspec": {
		   "display_name": "Scilab",
		   "language": "scilab",
		   "name": "scilab"
		  },
		  "language_info": {
		   "file_extension": ".sce",
		   "help_links": [
			{
			 "text": "MetaKernel Magics",
			 "url": "https://github.com/calysto/metakernel/blob/master/metakernel/magics/README.md"
			}
		   ],
		   "mimetype": "text/x-octave",
		   "name": "scilab",
		   "version": "0.7.1"
		  }
		 },
		 "nbformat": 4,
		 "nbformat_minor": 0
}
