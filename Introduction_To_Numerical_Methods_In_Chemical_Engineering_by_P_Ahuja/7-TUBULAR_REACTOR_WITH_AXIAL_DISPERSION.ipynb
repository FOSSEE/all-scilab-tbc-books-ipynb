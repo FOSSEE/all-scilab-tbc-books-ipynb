{
"cells": [
 {
		   "cell_type": "markdown",
	   "metadata": {},
	   "source": [
       "# Chapter 7: TUBULAR REACTOR WITH AXIAL DISPERSION"
	   ]
	},
{
		   "cell_type": "markdown",
		   "metadata": {},
		   "source": [
			"## Example 7.1: boundary_value_problem_in_chemical_reaction_engineering.sce"
		   ]
		  },
  {
"cell_type": "code",
	   "execution_count": null,
	   "metadata": {
	    "collapsed": true
	   },
	   "outputs": [],
"source": [
"clc\n",
"disp('soln of eg 7.1-->First Order Reaction-50 parts')\n",
"e1=1,e2=1                                                      //assumed values\n",
"u=1,D=10^-4,k=1,C_a_in=1,delta_x=10/50                         //given data\n",
"cf_ca1_n1=-2*D/delta_x^2-3*u/delta_x-k-2*u^2/D                 //co-efficient of C-A1 at node 1\n",
"cf_ca2_n1=2*D/delta_x^2+u/delta_x\n",
"cf_da1_n1=-(2*u^2/D+2*u/delta_x)*C_a_in                         //right hand side co-efficient\n",
"cf_ca1_n2=D/delta_x^2+u/delta_x\n",
"cf_ca2_n2=-2*D/delta_x^2-u/delta_x-k\n",
"cf_ca3_n2=D/delta_x^2\n",
"cf_da1_n2=0\n",
"cf_ca2_n3=cf_ca1_n2\n",
"cf_ca3_n3=cf_ca2_n2\n",
"cf_ca4_n3=cf_ca3_n2\n",
"cf_da1_n3=0\n",
"cf_ca50_n51=2*D/delta_x^2+u/delta_x                           //co-efficient of C-A50 at node 51\n",
"cf_ca51_n51=-2*D/delta_x^2-u/delta_x-k\n",
"cf_da51_n51=0\n",
"for i=2:50, a(i)=cf_ca1_n2,\n",
"end\n",
"a(51)=cf_ca2_n1,c(1)=cf_ca2_n1\n",
"for i=2:50,c(i)=cf_ca3_n2,\n",
"end\n",
"d(1)=cf_da1_n1\n",
"for i=2:51,d(i)=cf_da1_n2\n",
"end\n",
"for i=1:51,x(i)=0,\n",
"end\n",
"b(1)=cf_ca1_n1,\n",
"for i=2:51,b(i)=cf_ca2_n2,end\n",
"while e1>1e-6 & e2>1e-6 do for i=1:51,x1(i)=x(i),end,\n",
"i=1, n=51, Beta(i)=b(i),\n",
"    Gamma(i)=d(i)/Beta(i)\n",
"    i1=i+1,\n",
"    for j=i1:n, Beta(j)=b(j)-a(j)*c(j-1)/Beta(j-1),\n",
"        Gamma(j)=(d(j)-a(j)*Gamma(j-1))/Beta(j),\n",
"    end \n",
"    x(n)=Gamma(n)\n",
"    n1=n-i,\n",
"    for k=1:n1, j=n-k,x(j)=Gamma(j)-c(j)*x(j+1)/Beta(j)\n",
"    end\n",
"e1=abs(x(42)-x1(42)), e2=abs(x(18)-x1(18))\n",
"end\n",
"for i=1:51,disp(x(i))\n",
"end"
   ]
   }
,
{
		   "cell_type": "markdown",
		   "metadata": {},
		   "source": [
			"## Example 7.2: boundary_value_problem_in_chemical_reaction_engineering_second_order.sce"
		   ]
		  },
  {
"cell_type": "code",
	   "execution_count": null,
	   "metadata": {
	    "collapsed": true
	   },
	   "outputs": [],
"source": [
"clc\n",
"disp('soln of eg 7.2-->Second Order Reaction-20 parts')\n",
"e1=1,e2=1\n",
"u=1,D=10^-4,k=1,C_a_in=1,delta_x=10/20\n",
"cff_ca2_n1=2*D/delta_x^2+u/delta_x                       //co-efficient of C-A2 at node 1\n",
"cff_da1_n1=-(2*u^2/D+2*u/delta_x)*C_a_in                 //right hand side co-efficient\n",
"cff_ca1_n2=D/delta_x^2+u/delta_x\n",
"cff_ca3_n2=D/delta_x^2                                    //co-efficient of C-A3 at node 2\n",
"cff_da1_n2=0\n",
"cff_ca2_n3=cf_ca1_n2\n",
"cff_ca4_n3=cf_ca3_n2\n",
"cff_da1_n3=0\n",
"cff_ca20_n21=2*D/delta_x^2+u/delta_x                        //co-efficient of C-A20 at node 21\n",
"cff_da21_n21=0\n",
"for i=2:20, a(i)=cff_ca1_n2,\n",
"end\n",
"a(21)=cff_ca2_n1,c(1)=cff_ca2_n1\n",
"for i=2:20,c(i)=cff_ca3_n2,\n",
"end\n",
"d(1)=cff_da1_n1\n",
"for i=2:21,d(i)=cff_da1_n2\n",
"end\n",
"for i=1:21,x(i)=0,\n",
"end\n",
"while e1>1e-6 & e2>1e-6 do for i=1:21,x1(i)=x(i),end, \n",
"   cff_ca1_n1=-2*D/delta_x^2-3*u/delta_x-x1(1)-2*u^2/D                 //main diagonal elements dependence on conc.\n",
"   b(1)=cff_ca1_n1,\n",
"   for i=2:21,b(i)=-2*D/delta_x^2-u/delta_x-x(i),end\n",
"\n",
"//solving by TDMA method\n",
"   i=1, n=21, Beta(i)=b(i),\n",
"    Gamma(i)=d(i)/Beta(i)\n",
"    i1=i+1,\n",
"    for j=i1:n, Beta(j)=b(j)-a(j)*c(j-1)/Beta(j-1),\n",
"        Gamma(j)=(d(j)-a(j)*Gamma(j-1))/Beta(j),\n",
"    end \n",
"    x(n)=Gamma(n)\n",
"    n1=n-i,\n",
"    for k=1:n1, j=n-k,x(j)=Gamma(j)-c(j)*x(j+1)/Beta(j)\n",
"    end\n",
"e1=abs(x(1)-x1(1)), e2=abs(x(21)-x1(21))\n",
"end\n",
"for i=1:21,disp(x(i))\n",
"end"
   ]
   }
],
"metadata": {
		  "kernelspec": {
		   "display_name": "Scilab",
		   "language": "scilab",
		   "name": "scilab"
		  },
		  "language_info": {
		   "file_extension": ".sce",
		   "help_links": [
			{
			 "text": "MetaKernel Magics",
			 "url": "https://github.com/calysto/metakernel/blob/master/metakernel/magics/README.md"
			}
		   ],
		   "mimetype": "text/x-octave",
		   "name": "scilab",
		   "version": "0.7.1"
		  }
		 },
		 "nbformat": 4,
		 "nbformat_minor": 0
}
