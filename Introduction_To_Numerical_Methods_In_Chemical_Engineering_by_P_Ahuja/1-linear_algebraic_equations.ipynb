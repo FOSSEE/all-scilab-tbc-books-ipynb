{
"cells": [
 {
		   "cell_type": "markdown",
	   "metadata": {},
	   "source": [
       "# Chapter 1: linear algebraic equations"
	   ]
	},
{
		   "cell_type": "markdown",
		   "metadata": {},
		   "source": [
			"## Example 1.1: TDMA_method.sce"
		   ]
		  },
  {
"cell_type": "code",
	   "execution_count": null,
	   "metadata": {
	    "collapsed": true
	   },
	   "outputs": [],
"source": [
"//ch 1 ex 1.1- solving set of algebraic equations by Tri diagonal Matrix Algorithm Method.\n",
"clc\n",
"disp('the soln of eg 1.1-->');\n",
"for i=2:7, a(i)=1;            //sub diagonal assignment\n",
"end\n",
"for j=1:7, b(j)=-2;           //main diagonal assignment\n",
"end\n",
"for k=1:6, c(k)=1;            //super diagonal assignment\n",
"end\n",
"d(1)=-240                     //given values assignment\n",
"for l=2:6, d(l)=-40;\n",
"end\n",
"d(7)=-60\n",
"\n",
"i=1;\n",
"n=7;\n",
"beta1(i)=b(i);                //initial b is equal to beta since a1=0\n",
"gamma1(i)=d(i)/beta1(i);      //since c7=0\n",
"m=i+1;\n",
"for j=m:n, beta1(j)=b(j)-a(j)*c(j-1)/beta1(j-1);\n",
"gamma1(j)=(d(j)-a(j)*gamma1(j-1))/beta1(j);\n",
"end\n",
"x(n)=gamma1(n);               //since c7=0\n",
"n1=n-i;\n",
"for k=1:n1, j=n-k; x(j)=gamma1(j)-c(j)*x(j+1)/beta1(j);\n",
"end\n",
"\n",
"disp('the solution of ex 1.1 by TDMA method is');\n",
"for i=1:7, disp(x(i));\n",
"end"
   ]
   }
,
{
		   "cell_type": "markdown",
		   "metadata": {},
		   "source": [
			"## Example 1.2: gauss_elimination_method.sce"
		   ]
		  },
  {
"cell_type": "code",
	   "execution_count": null,
	   "metadata": {
	    "collapsed": true
	   },
	   "outputs": [],
"source": [
"//ch 1 ex 1.2\n",
"clc\n",
"disp('the soln of eg 1.2-->');\n",
"a1=10, a2=1, a3=2,              //1st row\n",
"b1=2, b2=10, b3=1,              //2nd row\n",
"c1=1, c2=2, c3=10,              //3rd row   \n",
"d1=44, d2=51, d3=61,            //given values\n",
"\n",
"b3=b3-(b1/a1)*a3                // for making b1=0\n",
"b2=b2-(b1/a1)*a2\n",
"d2=d2-(b1/a1)*d1\n",
"b1=b1-(b1/a1)*a1\n",
"\n",
"c3=c3-(c1/a1)*a3               // for making c1=0\n",
"c2=c2-(c1/a1)*a2\n",
"d3=d3-(c1/a1)*d1\n",
"c1=c1-(c1/a1)*a1\n",
"\n",
"c3=c3-(c2/b2)*b3              // for making c2=0\n",
"d3=d3-(c2/b2)*d2\n",
"c2=c2-(c2/b2)*b2\n",
"\n",
"x3=d3/c3;                      // final values of x\n",
"x2=(d2-(b3*x3))/b2;\n",
"x1=(d1-(x3*a3)-(x2*a2))/a1;\n",
"disp(x3,x2,x1,'the solution using gauss elimination method is');"
   ]
   }
,
{
		   "cell_type": "markdown",
		   "metadata": {},
		   "source": [
			"## Example 1.3: gauss_elimination_method.sce"
		   ]
		  },
  {
"cell_type": "code",
	   "execution_count": null,
	   "metadata": {
	    "collapsed": true
	   },
	   "outputs": [],
"source": [
"//ch 1 ex 1.3\n",
"clc\n",
"disp('the soln of eg 1.3-->');\n",
"a1=3, a2=1, a3=-2,              //1st row\n",
"b1=-1, b2=4, b3=-3,              //2nd row\n",
"c1=1, c2=-1, c3=4,              //3rd row   \n",
"d1=9, d2=-8, d3=1,            //given values\n",
"\n",
"b3=b3-(b1/a1)*a3                // for making b1=0\n",
"b2=b2-(b1/a1)*a2\n",
"d2=d2-(b1/a1)*d1\n",
"b1=b1-(b1/a1)*a1\n",
"\n",
"c3=c3-(c1/a1)*a3               // for making c1=0\n",
"c2=c2-(c1/a1)*a2\n",
"d3=d3-(c1/a1)*d1\n",
"c1=c1-(c1/a1)*a1\n",
"\n",
"c3=c3-(c2/b2)*b3              // for making c2=0\n",
"d3=d3-(c2/b2)*d2\n",
"c2=c2-(c2/b2)*b2\n",
"\n",
"x3=d3/c3;                      // final values of x\n",
"x2=(d2-(b3*x3))/b2;\n",
"x1=(d1-(x3*a3)-(x2*a2))/a1;\n",
"disp(x3,x2,x1,'the solution using gauss elimination method is');"
   ]
   }
,
{
		   "cell_type": "markdown",
		   "metadata": {},
		   "source": [
			"## Example 1.4: gauss_elimination_method.sce"
		   ]
		  },
  {
"cell_type": "code",
	   "execution_count": null,
	   "metadata": {
	    "collapsed": true
	   },
	   "outputs": [],
"source": [
"// ch 1 ex 1.4\n",
"clc\n",
"disp('the solution of eg 1.4-->');\n",
"a1=.35, a2=.16, a3=.21, a4=.01              //1st row \n",
"b1=.54, b2=.42, b3=.54, b4=.1              //2nd row\n",
"c1=.04, c2=.24, c3=.1, c4=.65              //3rd row\n",
"d1=.07, d2=.18, d3=.15, d4=.24             //4th row   \n",
"r1=14, r2=28, r3=17.5, r4=10.5            //given values\n",
"\n",
"b4=b4-(b1/a1)*a4                          // for making b1=0\n",
"b3=b3-(b1/a1)*a3\n",
"b2=b2-(b1/a1)*a2\n",
"r2=r2-(b1/a1)*r1\n",
"b1=b1-(b1/a1)*a1\n",
"\n",
"c4=c4-(c1/a1)*a4                         // for making c1=0\n",
"c3=c3-(c1/a1)*a3\n",
"c2=c2-(c1/a1)*a2\n",
"r3=r3-(c1/a1)*r1\n",
"c1=c1-(c1/a1)*a1\n",
"\n",
"d4=d4-(d1/a1)*a4                         // for making d1=0\n",
"d3=d3-(d1/a1)*a3\n",
"d2=d2-(d1/a1)*a2\n",
"r4=r4-(d1/a1)*r1\n",
"d1=d1-(d1/a1)*a1\n",
"\n",
"c4=c4-(c2/b2)*b4                        // for making c2=0\n",
"c3=c3-(c2/b2)*b3\n",
"r3=r3-(c2/b2)*r2\n",
"c2=c2-(c2/b2)*b2\n",
"\n",
"d4=d4-(d2/b2)*b4                       // for making d2=0\n",
"d3=d3-(d2/b2)*b3\n",
"r4=r4-(d2/b2)*r2\n",
"d2=d2-(d2/b2)*b2\n",
"\n",
"d4=d4-(d3/c3)*c4                      //for making d3=0\n",
"r4=r4-(d3/c3)*r3\n",
"d3=d3-(d3/c3)*c3\n",
"\n",
"B2=r4/d4;\n",
"D2=(r3-(c4*B2))/c3;\n",
"B1=(r2-(D2*b3)-(B2*b4))/b2;\n",
"D1=(r1-(B2*a4)-(D2*a3)-(B1*a2))/a1;\n",
"disp(B2,D2,B1,D1,'the values of MOLAR FLOW RATES of D1, B1, D2, B2 respectively are');\n",
"\n",
"B=D2+B2;\n",
"x1B=(.21*D2 + .01*B2)/B;\n",
"x2B=(.54*D2 + .1*B2)/B;\n",
"x3B=(.1*D2 + .65*B2)/B;\n",
"x4B=(.15*D2 + .24*B2)/B;\n",
"disp(x4B, x3B, x2B, x1B,'the composition of stream B is');\n",
"\n",
"D=D1+B1;\n",
"x1D=(.35*D1 + .16*B1)/D;\n",
"x2D=(.54*D1 + .42*B1)/D;\n",
"x3D=(.04*D1 + .24*B1)/D;\n",
"x4D=(.07*D1 + .18*B1)/D;\n",
"disp(x4D, x2D, x2D, x1D,'the composition of stream D is');"
   ]
   }
,
{
		   "cell_type": "markdown",
		   "metadata": {},
		   "source": [
			"## Example 1.5: gauss_seidel_method.sce"
		   ]
		  },
  {
"cell_type": "code",
	   "execution_count": null,
	   "metadata": {
	    "collapsed": true
	   },
	   "outputs": [],
"source": [
"clc\n",
"disp('the soln of eg 1.5--> Gauss Seidel Method');\n",
"for i=1:3,xnew(i)=2,e(i)=1\n",
"end\n",
"x=1e-6\n",
"while e(1)>x&e(2)>x&e(3)>x do \n",
"    for i=1:3, xold(i)=xnew(i),end\n",
"    xnew(1)=(44-xold(2)-2*xold(3))/10\n",
"    xnew(2)=(-2*xnew(1)+51-xold(3))/10\n",
"    xnew(3)=(-2*xnew(2)-xnew(1)+61)/10\n",
"    for i=1:3,e(i)=abs(xnew(i)-xold(i))\n",
"    end\n",
"end\n",
"disp('the values of x1,x2,x3 respectively is');\n",
"for i=1:3,disp(xnew(i));\n",
"end"
   ]
   }
,
{
		   "cell_type": "markdown",
		   "metadata": {},
		   "source": [
			"## Example 1.6: gauss_seidel_method.sce"
		   ]
		  },
  {
"cell_type": "code",
	   "execution_count": null,
	   "metadata": {
	    "collapsed": true
	   },
	   "outputs": [],
"source": [
"clc\n",
"disp('the soln of eg 1.6--> Gauss Seidel Method');\n",
"for i=1:3,xnew(i)=2,e(i)=1\n",
"end\n",
"x=1e-6\n",
"while e(1)>x&e(2)>x&e(3)>x do \n",
"    for i=1:3, xold(i)=xnew(i),end\n",
"    xnew(1)=(9-xold(2)+2*xold(3))/3\n",
"    xnew(2)=(xnew(1)-8+3*xold(3))/4\n",
"    xnew(3)=(xnew(2)-xnew(1)+1)/4\n",
"    for i=1:3,e(i)=abs(xnew(i)-xold(i))\n",
"    end\n",
"end\n",
"disp('the values of x1,x2,x3 respectively is');\n",
"for i=1:3,disp(xnew(i));\n",
"end"
   ]
   }
],
"metadata": {
		  "kernelspec": {
		   "display_name": "Scilab",
		   "language": "scilab",
		   "name": "scilab"
		  },
		  "language_info": {
		   "file_extension": ".sce",
		   "help_links": [
			{
			 "text": "MetaKernel Magics",
			 "url": "https://github.com/calysto/metakernel/blob/master/metakernel/magics/README.md"
			}
		   ],
		   "mimetype": "text/x-octave",
		   "name": "scilab",
		   "version": "0.7.1"
		  }
		 },
		 "nbformat": 4,
		 "nbformat_minor": 0
}
