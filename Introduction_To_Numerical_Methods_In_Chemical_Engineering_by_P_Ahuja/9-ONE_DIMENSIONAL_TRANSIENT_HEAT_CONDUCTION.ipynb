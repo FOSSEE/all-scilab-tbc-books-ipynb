{
"cells": [
 {
		   "cell_type": "markdown",
	   "metadata": {},
	   "source": [
       "# Chapter 9: ONE DIMENSIONAL TRANSIENT HEAT CONDUCTION"
	   ]
	},
{
		   "cell_type": "markdown",
		   "metadata": {},
		   "source": [
			"## Example 9.1: transient_conduction_in_rectangular_slab.sce"
		   ]
		  },
  {
"cell_type": "code",
	   "execution_count": null,
	   "metadata": {
	    "collapsed": true
	   },
	   "outputs": [],
"source": [
"clc\n",
"disp('the soln of eg 9.1-->Transient heat conduction in a Rectangular slab')\n",
"disp('the values of Temp measured from centre at the gap of .2 cm are')\n",
"alpha=10^-5, delta_t=.1, delta_x=10^-3           //given data\n",
"m=alpha*delta_t/(delta_x^2)\n",
"for i=2:4, a(i)=m                               //sub-diagonal\n",
"end\n",
"b(1)=(-2*m-1)/2\n",
"for i=2:4,b(i)=-2*m-1                               //diagonal\n",
"end\n",
"for i=1:3, c(i)=m                               //super-diagonal\n",
"end\n",
"for i=1:4, x(i)=20                              //initial temperature\n",
"end\n",
"for t=0.1:.1:3.1,for i=1:4, y(i)=x(i), end           //TDMA method\n",
"    d(1)=-.5*y(1),\n",
"    d(2)=-y(2)\n",
"    d(3)=-y(3)\n",
"    d(4)=-y(4)-300\n",
"    i=1, n=4\n",
"    Beta(i)=b(i),\n",
"    Gamma(i)=d(i)/Beta(i)\n",
"    i1=i+1,\n",
"    for j=i1:n, Beta(j)=b(j)-a(j)*c(j-1)/Beta(j-1),\n",
"        Gamma(j)=(d(j)-a(j)*Gamma(j-1))/Beta(j),\n",
"    end \n",
"    x(n)=Gamma(n)\n",
"    n1=n-i,\n",
"    for k=1:n1, j=n-k,x(j)=Gamma(j)-c(j)*x(j+1)/Beta(j)\n",
"    end\n",
"for i=1:4,disp(x(i));                                 //solution of temperature\n",
"end\n",
"disp('-----------------') \n",
"end\n",
"disp('----------END---------');"
   ]
   }
,
{
		   "cell_type": "markdown",
		   "metadata": {},
		   "source": [
			"## Example 9.2: transient_conduction_in_rectangular_slab.sce"
		   ]
		  },
  {
"cell_type": "code",
	   "execution_count": null,
	   "metadata": {
	    "collapsed": true
	   },
	   "outputs": [],
"source": [
"clc\n",
"disp('the soln of eg 9.2-->Transient Conduction in Rectangular Slab');\n",
"delta_t=1, delta_x=.05, alpha=10^-5\n",
"t1=alpha*delta_t/delta_x^2\n",
"for i=2:9, a(i)=-t1\n",
"end\n",
"for i=1:9,b(i)=1+2*t1\n",
"end\n",
"for i=1:8, c(i)=-t1\n",
"end\n",
"t=1,tf=3000\n",
"for i=1:9, x(i)=300\n",
"end\n",
"e1=425,\n",
"disp('time when centre temp is 425 K in secs. is')\n",
"for t=1:1:tf,for i=1:9, y(i)=x(i),end\n",
"    d(1)=y(1)+1.7,\n",
"    d(9)=y(9)+2.4,\n",
"    for i=2:8,d(i)=y(i)\n",
"    end\n",
"    i=1, n=9\n",
"    Beta(i)=b(i),\n",
"    Gamma(i)=d(i)/Beta(i)\n",
"    i1=i+1,\n",
"    for j=i1:n, Beta(j)=b(j)-a(j)*c(j-1)/Beta(j-1),\n",
"        Gamma(j)=(d(j)-a(j)*Gamma(j-1))/Beta(j),\n",
"    end \n",
"    x(n)=Gamma(n)\n",
"    n1=n-i,\n",
"    for k=1:n1, j=n-k,x(j)=Gamma(j)-c(j)*x(j+1)/Beta(j)\n",
"    end\n",
"    if abs(x(5)-e1)>0 & abs(x(5)-e1)<.1 then disp(t); break;\n",
"    end\n",
"end\n",
"disp('the values of temp. at req. time is');\n",
"for i=1:9,disp(x(i)); end"
   ]
   }
,
{
		   "cell_type": "markdown",
		   "metadata": {},
		   "source": [
			"## Example 9.3: transient_conduction_in_cylinder.sce"
		   ]
		  },
  {
"cell_type": "code",
	   "execution_count": null,
	   "metadata": {
	    "collapsed": true
	   },
	   "outputs": [],
"source": [
"clc\n",
"disp('the soln of eg 9.3-->Transient Conduction in cylinder');\n",
"delta_t=.1, delta_r=.001, alpha=10^-5              //given data\n",
"t1=alpha*delta_t/delta_r^2\n",
"a(2)=.5*t1,a(3)=.75*t1,a(4)=.833*t1                //sub-diagonal\n",
"b(1)=-4*t1-1\n",
"for i=2:4,b(i)=-2*t1-1                             //main diagonal\n",
"end\n",
"c(1)=4*t1,c(2)=1.5*t1,c(3)=1.25*t1                 //super-diagonal\n",
"for i=1:4, x(i)=20\n",
"end\n",
"disp('T1,T2,T2 & T4 at time interval of .1 sec is')\n",
"for t=.1:.1:2.1,for i=1:4, y(i)=x(i),end                      //TDMA Method\n",
"    d(4)=-y(4)-7*t1*300/6,\n",
"    for i=1:3,d(i)=-y(i)\n",
"    end\n",
"    i=1, n=4\n",
"    Beta(i)=b(i),\n",
"    Gamma(i)=d(i)/Beta(i)\n",
"    i1=i+1,\n",
"    for j=i1:n, Beta(j)=b(j)-a(j)*c(j-1)/Beta(j-1),\n",
"        Gamma(j)=(d(j)-a(j)*Gamma(j-1))/Beta(j),\n",
"    end \n",
"    x(n)=Gamma(n)\n",
"    n1=n-i,\n",
"    for k=1:n1, j=n-k,x(j)=Gamma(j)-c(j)*x(j+1)/Beta(j)\n",
"    end\n",
"disp(x(4),x(3),x(2),x(1));\n",
"disp('--------------------');\n",
"end"
   ]
   }
,
{
		   "cell_type": "markdown",
		   "metadata": {},
		   "source": [
			"## Example 9.4: transient_conduction_in_sphere.sce"
		   ]
		  },
  {
"cell_type": "code",
	   "execution_count": null,
	   "metadata": {
	    "collapsed": true
	   },
	   "outputs": [],
"source": [
"clc\n",
"disp('the soln of eg 9.4-->Transient conduction in Sphere');\n",
"delta_t=.1, delta_r=.001, alpha=10^-5\n",
"t1=alpha*delta_t/delta_r^2\n",
"a(2)=0,a(3)=.5,a(4)=.667\n",
"b(1)=-7*t1\n",
"for i=2:4,b(i)=-3\n",
"end\n",
"c(1)=6,c(2)=2,c(3)=1.5\n",
"for i=1:4, x(i)=20\n",
"end\n",
"disp('T1,T2,T2 & T4 at time interval of .1 sec is')\n",
"for t=.1:.1:1.4,for i=1:4, y(i)=x(i),end\n",
"    d(4)=-y(4)-400,\n",
"    for i=1:3,d(i)=-y(i)\n",
"    end\n",
"    i=1, n=4\n",
"    Beta(i)=b(i),\n",
"    Gamma(i)=d(i)/Beta(i)\n",
"    i1=i+1,\n",
"    for j=i1:n, Beta(j)=b(j)-a(j)*c(j-1)/Beta(j-1),\n",
"        Gamma(j)=(d(j)-a(j)*Gamma(j-1))/Beta(j),\n",
"    end \n",
"    x(n)=Gamma(n)\n",
"    n1=n-i,\n",
"    for k=1:n1, j=n-k,x(j)=Gamma(j)-c(j)*x(j+1)/Beta(j)\n",
"    end\n",
"disp(x(4),x(3),x(2),x(1));\n",
"disp('-------------------');\n",
"end"
   ]
   }
,
{
		   "cell_type": "markdown",
		   "metadata": {},
		   "source": [
			"## Example 9.5: transient_diffusion_in_sphere.sce"
		   ]
		  },
  {
"cell_type": "code",
	   "execution_count": null,
	   "metadata": {
	    "collapsed": true
	   },
	   "outputs": [],
"source": [
"clc\n",
"disp('the soln of eg 9.5-->');\n",
"R=.326, D=3*10^-7\n",
"delta_t=1, delta_r=.0326, conc_ini=10/(1.33*%pi*R^3)\n",
"t1=D*delta_t/delta_r^2\n",
"disp(conc_ini,'the initial conc. of drug is');\n",
"for i=2:10, a(i)=-(1-1/(i-1))\n",
"end\n",
"b(1)=591.4\n",
"for i=2:10,b(i)=3544.5\n",
"end\n",
"c(1)=-1,for i=2:9, c(i)=-(1+1/(i-1))\n",
"end\n",
"for i=1:10, x(i)=conc_ini\n",
"end\n",
"disp('Conc. at centre at t=3hr, 12 hr, 24 hr,48 hr is');\n",
"for t=1:delta_t:172800,for i=1:10, y(i)=x(i),end\n",
"    d(1)=y(1)*590.4,\n",
"    for i=2:10,d(i)=3542.5*y(i)\n",
"    end\n",
"    i=1, n=10\n",
"    Beta(i)=b(i),\n",
"    Gamma(i)=d(i)/Beta(i)\n",
"    i1=i+1,\n",
"    for j=i1:n, Beta(j)=b(j)-a(j)*c(j-1)/Beta(j-1),\n",
"        Gamma(j)=(d(j)-a(j)*Gamma(j-1))/Beta(j),\n",
"    end \n",
"    x(n)=Gamma(n)\n",
"    n1=n-i,\n",
"    for k=1:n1, j=n-k,x(j)=Gamma(j)-c(j)*x(j+1)/Beta(j)\n",
"    end\n",
"    if t==10800| t==43200| t==86400|t==172800 then disp(x(6));\n",
"    end\n",
"end"
   ]
   }
],
"metadata": {
		  "kernelspec": {
		   "display_name": "Scilab",
		   "language": "scilab",
		   "name": "scilab"
		  },
		  "language_info": {
		   "file_extension": ".sce",
		   "help_links": [
			{
			 "text": "MetaKernel Magics",
			 "url": "https://github.com/calysto/metakernel/blob/master/metakernel/magics/README.md"
			}
		   ],
		   "mimetype": "text/x-octave",
		   "name": "scilab",
		   "version": "0.7.1"
		  }
		 },
		 "nbformat": 4,
		 "nbformat_minor": 0
}
