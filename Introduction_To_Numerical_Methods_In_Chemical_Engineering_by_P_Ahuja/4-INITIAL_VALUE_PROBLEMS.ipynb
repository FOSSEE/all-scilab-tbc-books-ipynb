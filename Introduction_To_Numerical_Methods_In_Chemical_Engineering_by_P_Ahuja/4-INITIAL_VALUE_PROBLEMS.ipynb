{
"cells": [
 {
		   "cell_type": "markdown",
	   "metadata": {},
	   "source": [
       "# Chapter 4: INITIAL VALUE PROBLEMS"
	   ]
	},
{
		   "cell_type": "markdown",
		   "metadata": {},
		   "source": [
			"## Example 4.10: series_of_stirred_tank_with_coil_heater.sce"
		   ]
		  },
  {
"cell_type": "code",
	   "execution_count": null,
	   "metadata": {
	    "collapsed": true
	   },
	   "outputs": [],
"source": [
"clc\n",
"disp('the solution of eg 4.10 -->Series of Stirred Tanks with Coil Heaters')\n",
"\n",
"Cp=2000,A=1,U=200,m=1000,mdot=2,Ts=250                 //given data\n",
"T0=20, T1=0, T2=0, T3=0\n",
"\n",
"//from energy balances for the tanks we have accumulation=inlet-outlet\n",
"T1_steady=(mdot*Cp*(T0)+U*A*(Ts))/(mdot*Cp+U*A)\n",
"disp(T1_steady,'the steady state temperature of tank 1 is');\n",
"T2_steady=(mdot*Cp*(T1_steady)+U*A*(Ts))/(mdot*Cp+U*A)\n",
"disp(T2_steady,'the steady state temperature of tank 2 is');\n",
"T3_steady=(mdot*Cp*(T2_steady)+U*A*(Ts))/(mdot*Cp+U*A)\n",
"disp(T3_steady,'the steady state temperature of tank 3 is');\n",
"final_T3=.99*T3_steady\n",
"function dT1_by_dt=f1(t,T1,T2,T3),\n",
"    dT1_by_dt=(mdot*Cp*(T0-T1)+U*A*(Ts-T1))/(m*Cp),\n",
"endfunction\n",
"function dT2_by_dt=f2(t,T1,T2,T3),\n",
"    dT2_by_dt=(mdot*Cp*(T1-T2)+U*A*(Ts-T2))/(m*Cp),\n",
"endfunction\n",
"function dT3_by_dt=f3(t,T1,T2,T3),\n",
"    dT3_by_dt=(mdot*Cp*(T2-T3)+U*A*(Ts-T3))/(m*Cp),\n",
"endfunction\n",
"T1=20,T2=20,T3=20\n",
"//solving by Newton's Method\n",
"for t=0:1:10000,\n",
"    h=1                                    //step increment of 1\n",
"    k1=h*f1(t,T1,T2,T3)\n",
"    l1=h*f2(t,T1,T2,T3)\n",
"    m1=h*f3(t,T1,T2,T3)\n",
"    k2=h*f1(t+h/2,T1+k1/2,T2+l1/2,T3+m1/2)\n",
"    l2=h*f2(t+h/2,T1+k1/2,T2+l1/2,T3+m1/2)\n",
"    m2=h*f3(t+h/2,T1+k1/2,T2+l1/2,T3+m1/2)\n",
"    k3=h*f1(t+h/2,T1+k2/2,T2+l2/2,T3+m2/2)\n",
"    l3=h*f2(t+h/2,T1+k2/2,T2+l2/2,T3+m2/2)\n",
"    m3=h*f3(t+h/2,T1+k2/2,T2+l2/2,T3+m2/2)\n",
"    k4=h*f1(t+h,T1+k3,T2+l3,T3+m3)\n",
"    l4=h*f2(t+h,T1+k3,T2+l3,T3+m3)\n",
"    m4=h*f3(t+h,T1+k3,T2+l3,T3+m3)\n",
"    T1=T1+(k1+2*k2+2*k3+k4)/6\n",
"    T2=T2+(l1+2*l2+2*l3+l4)/6\n",
"    e1=abs(T3-final_T3)\n",
"    if e1<1e-3 then disp(t,'the approx. time when Temperature in 3rd tank is 99% of steady value is'); break\n",
"    end\n",
"    T3=T3+(m1+2*m2+2*m3+m4)/6\n",
"end"
   ]
   }
,
{
		   "cell_type": "markdown",
		   "metadata": {},
		   "source": [
			"## Example 4.11: batch_and_stirred_tank_reactor.sce"
		   ]
		  },
  {
"cell_type": "code",
	   "execution_count": null,
	   "metadata": {
	    "collapsed": true
	   },
	   "outputs": [],
"source": [
"clc\n",
"//batch reactors\n",
"disp('the solution of e.g. 4.11 -->Batch and Stirred Tank Reactors')\n",
"//rxn given A--> B\n",
"rate_const_k=1\n",
"function dCa_by_dt=fs1(t,Ca),\n",
"    dCa_by_dt=-rate_const_k*Ca,\n",
"endfunction\n",
"Ca=1\n",
"for t=0.1:0.1:3,\n",
"    h=0.1                                    //step increment of 0.1\n",
"    k1=h*fs1(t,Ca)\n",
"    k2=h*fs1(t+h/2,Ca+k1/2)\n",
"    k3=h*fs1(t+h/2,Ca+k2/2)\n",
"    k4=h*fs1(t+h,Ca+k3)\n",
"    Ca=Ca+(k1+2*k2+2*k3+k4)/6\n",
"end\n",
"disp(Ca,'the value of conc. at t=3 using Runge Kutta method is');\n",
"Ca_anl=exp(-t)                   //analytical solution\n",
"disp(Ca_anl,'the analytical soln. is')"
   ]
   }
,
{
		   "cell_type": "markdown",
		   "metadata": {},
		   "source": [
			"## Example 4.12: batch_and_stirred_tank_reactor.sce"
		   ]
		  },
  {
"cell_type": "code",
	   "execution_count": null,
	   "metadata": {
	    "collapsed": true
	   },
	   "outputs": [],
"source": [
"clc\n",
"//rxn A-->B\n",
"//input=FCa0, output=FCa\n",
"//applying mass balance of component A we get d(V*Ca)/dt=F*Ca0-F*Ca-k*Ca*V\n",
"disp('the solution of e.g. 4.12 -->Batch and Stirred Tank Reactors')\n",
"rate_const_k=1\n",
"Ca0=1,F=1, V=10\n",
"\n",
"function  dVCa_by_dt=fr(t,Ca1),\n",
"    dVCa_by_dt=F*Ca0-F*Ca1-rate_const_k*Ca1*V,\n",
"endfunction\n",
"Ca1=1\n",
"for t=0.1:0.1:10,\n",
"    h=0.1                                    //step increment of 0.1\n",
"    k1=h*fr(t,Ca1)\n",
"    k2=h*fr(t+h/2,Ca1+k1/2)\n",
"    k3=h*fr(t+h/2,Ca1+k2/2)\n",
"    k4=h*fr(t+h,Ca1+k3)\n",
"    Ca1=Ca1+(k1+2*k2+2*k3+k4)/6\n",
"end                    //final value\n",
"disp(Ca1,'the value of Ca at t=10 s using Runge Kutta method is');\n",
"Ca_steady=F*Ca0/(F+rate_const_k*V)\n",
"disp(Ca_steady,'the steady state value of conc. is');"
   ]
   }
,
{
		   "cell_type": "markdown",
		   "metadata": {},
		   "source": [
			"## Example 4.13: batch_and_stirred_tank_reactor.sce"
		   ]
		  },
  {
"cell_type": "code",
	   "execution_count": null,
	   "metadata": {
	    "collapsed": true
	   },
	   "outputs": [],
"source": [
"clc\n",
"//given rxn A-->B-->C\n",
"k1=1, k2=1                 //given data\n",
"disp('the solution of eg 4.13 -->Batch Reactors')\n",
"function dA_by_dt=f1a(t,A,B,C),                   //functions defined\n",
"    dA_by_dt=-A,\n",
"endfunction\n",
"function dB_by_dt=f2a(t,A,B,C),\n",
"    dB_by_dt=A-B,\n",
"endfunction\n",
"function dC_by_dt=f3a(t,A,B,C),\n",
"    dC_by_dt=B,\n",
"endfunction\n",
"A=1,B=0,C=0                       //initial values\n",
"for t=0.1:.1:10,\n",
"    h=.1                                    //step increment of 0.1\n",
"    k1=h*f1a(t,A,B,C)\n",
"    l1=h*f2a(t,A,B,C)\n",
"    m1=h*f3a(t,A,B,C)\n",
"    k2=h*f1a(t+h/2,A+k1/2,B+l1/2,C+m1/2)\n",
"    l2=h*f2a(t+h/2,A+k1/2,B+l1/2,C+m1/2)\n",
"    m2=h*f3a(t+h/2,A+k1/2,B+l1/2,C+m1/2)\n",
"    k3=h*f1a(t+h/2,A+k2/2,B+l2/2,C+m2/2)\n",
"    l3=h*f2a(t+h/2,A+k2/2,B+l2/2,C+m2/2)\n",
"    m3=h*f3a(t+h/2,A+k2/2,B+l2/2,C+m2/2)\n",
"    k4=h*f1a(t+h,A+k3,B+l3,C+m3)\n",
"    l4=h*f2a(t+h,A+k3,B+l3,C+m3)\n",
"    m4=h*f3a(t+h,A+k3,B+l3,C+m3)\n",
"    A=A+(k1+2*k2+2*k3+k4)/6\n",
"    B=B+(l1+2*l2+2*l3+l4)/6\n",
"    C=C+(m1+2*m2+2*m3+m4)/6\n",
"    if t==.5 |t==1|t==2|t==5 then disp(C,B,A,'secs is',t,'the conc. of A,B,C after');\n",
"    end\n",
"end\n",
"disp(C,B,A,'the conc. of A,B,C after 10 secs respectively is');"
   ]
   }
,
{
		   "cell_type": "markdown",
		   "metadata": {},
		   "source": [
			"## Example 4.14: batch_and_stirred_tank_reactor.sce"
		   ]
		  },
  {
"cell_type": "code",
	   "execution_count": null,
	   "metadata": {
	    "collapsed": true
	   },
	   "outputs": [],
"source": [
"clc\n",
"//given rxn A+B--k1-->C\n",
"//          B+C--k2-->D\n",
"k1=1, k2=1                         //given rate constants\n",
"disp('the solution of eg 4.14 -->Batch Reactors')\n",
"function dA_by_dt=f1a(t,A,B,C,D),\n",
"    dA_by_dt=-A*B,\n",
"endfunction\n",
"function dB_by_dt=f2a(t,A,B,C,D),\n",
"    dB_by_dt=-A*B-B*C,\n",
"endfunction\n",
"function dC_by_dt=f3a(t,A,B,C,D),\n",
"    dC_by_dt=A*B-B*C,\n",
"endfunction\n",
"function dD_by_dt=f4a(t,A,B,C,D),\n",
"    dD_by_dt=B*C,\n",
"endfunction\n",
"A=1,B=1,C=0,D=0                            //initial values\n",
"for t=.1:.1:10,\n",
"    h=.1                                    //step increment of 0.1\n",
"    k1=h*f1a(t,A,B,C,D)\n",
"    l1=h*f2a(t,A,B,C,D)\n",
"    m1=h*f3a(t,A,B,C,D)\n",
"    n1=h*f4a(t,A,B,C,D)\n",
"    k2=h*f1a(t+h/2,A+k1/2,B+l1/2,C+m1/2,D+n1/2)\n",
"    l2=h*f2a(t+h/2,A+k1/2,B+l1/2,C+m1/2,D+n1/2)\n",
"    m2=h*f3a(t+h/2,A+k1/2,B+l1/2,C+m1/2,D+n1/2)\n",
"    n2=h*f4a(t+h/2,A+k1/2,B+l1/2,C+m1/2,D+n1/2)\n",
"    k3=h*f1a(t+h/2,A+k2/2,B+l2/2,C+m2/2,D+n2/2)\n",
"    l3=h*f2a(t+h/2,A+k2/2,B+l2/2,C+m2/2,D+n2/2)\n",
"    m3=h*f3a(t+h/2,A+k2/2,B+l2/2,C+m2/2,D+n2/2)\n",
"    n3=h*f4a(t+h/2,A+k2/2,B+l2/2,C+m2/2,D+n2/2)\n",
"    k4=h*f1a(t+h,A+k3,B+l3,C+m3,D+n3)\n",
"    l4=h*f2a(t+h,A+k3,B+l3,C+m3,D+n3)\n",
"    m4=h*f3a(t+h,A+k3,B+l3,C+m3,D+n3)\n",
"    n4=h*f4a(t+h,A+k3,B+l3,C+m3,D+n3)\n",
"    A=A+(k1+2*k2+2*k3+k4)/6\n",
"    B=B+(l1+2*l2+2*l3+l4)/6\n",
"    C=C+(m1+2*m2+2*m3+m4)/6\n",
"    D=D+(n1+2*n2+2*n3+n4)/6\n",
"    if t==.5 |t==1|t==2|t==5 then disp(D,C,B,A,'secs is',t,'the conc. of A,B,C,D after');\n",
"    end \n",
"end\n",
"    disp(D,C,B,A,'the conc. of A,B,C,D after 10 secs respectively is');"
   ]
   }
,
{
		   "cell_type": "markdown",
		   "metadata": {},
		   "source": [
			"## Example 4.15: plug_flow_reactor.sce"
		   ]
		  },
  {
"cell_type": "code",
	   "execution_count": null,
	   "metadata": {
	    "collapsed": true
	   },
	   "outputs": [],
"source": [
"clc\n",
"disp('the solution of eg 4.15 -->Plug Flow Reactor')\n",
"rc_k1=1                      //given rate constant\n",
"u=1                 //mean axial velocity\n",
"function dCa_by_dx=fm(x,Ca),\n",
"    dCa_by_dx=-Ca,\n",
"endfunction\n",
"Ca=1\n",
"for x=.1:.1:10,\n",
"    h=0.1                                    //step increment of 0.1\n",
"    k1=h*fm(x,Ca)\n",
"    k2=h*fm(x+h/2,Ca+k1/2)\n",
"    k3=h*fm(x+h/2,Ca+k2/2)\n",
"    k4=h*fm(x+h,Ca+k3)\n",
"    Ca=Ca+(k1+2*k2+2*k3+k4)/6\n",
"    if x==.5|x==1|x==2|x==5 then disp(Ca,'length is',x,'the value of conc. at');\n",
"    end\n",
"end\n",
"disp(Ca,'the value of Ca at x=10 using Runge Kutta method in plug flow reactor is');"
   ]
   }
,
{
		   "cell_type": "markdown",
		   "metadata": {},
		   "source": [
			"## Example 4.16: plug_flow_reactor.sce"
		   ]
		  },
  {
"cell_type": "code",
	   "execution_count": null,
	   "metadata": {
	    "collapsed": true
	   },
	   "outputs": [],
"source": [
"clc\n",
"//given rxn A-->B-->C\n",
"rc_k1=1, rc_k2=1                           //given rate constants\n",
"u=1                                  //mean axial velocity\n",
"disp('the solution of eg 4.16 -->Plug Flow Reactor')\n",
"function dA_by_dx=f1e(x,A,B,C),\n",
"    dA_by_dx=-A,\n",
"endfunction\n",
"function dB_by_dx=f2e(x,A,B,C),\n",
"    dB_by_dx=A-B,\n",
"endfunction\n",
"function dC_by_dx=f3e(x,A,B,C),\n",
"    dC_by_dx=B,\n",
"endfunction\n",
"A=1,B=0,C=0\n",
"for x=.1:.1:10,\n",
"    h=.1                                    //step increment of 0.1\n",
"    k1=h*f1e(x,A,B,C)\n",
"    l1=h*f2e(x,A,B,C)\n",
"    m1=h*f3e(x,A,B,C)\n",
"    k2=h*f1e(x+h/2,A+k1/2,B+l1/2,C+m1/2)\n",
"    l2=h*f2e(x+h/2,A+k1/2,B+l1/2,C+m1/2)\n",
"    m2=h*f3e(x+h/2,A+k1/2,B+l1/2,C+m1/2)\n",
"    k3=h*f1e(x+h/2,A+k2/2,B+l2/2,C+m2/2)\n",
"    l3=h*f2e(x+h/2,A+k2/2,B+l2/2,C+m2/2)\n",
"    m3=h*f3e(x+h/2,A+k2/2,B+l2/2,C+m2/2)\n",
"    k4=h*f1e(x+h,A+k3,B+l3,C+m3)\n",
"    l4=h*f2e(x+h,A+k3,B+l3,C+m3)\n",
"    m4=h*f3e(x+h,A+k3,B+l3,C+m3)\n",
"    A=A+(k1+2*k2+2*k3+k4)/6\n",
"    B=B+(l1+2*l2+2*l3+l4)/6\n",
"    C=C+(m1+2*m2+2*m3+m4)/6\n",
"    if x==.5 |x==1|x==2|x==5 then disp(C,B,A,'mtr is',x,'the conc. of A,B,C at a distance of');\n",
"    end\n",
"end\n",
"    disp(C,B,A,'the conc. of A,B,C at a distance of 10 mtr is');"
   ]
   }
,
{
		   "cell_type": "markdown",
		   "metadata": {},
		   "source": [
			"## Example 4.17: plug_flow_reactor.sce"
		   ]
		  },
  {
"cell_type": "code",
	   "execution_count": null,
	   "metadata": {
	    "collapsed": true
	   },
	   "outputs": [],
"source": [
"clc\n",
"//given rxn A+B--k1-->C\n",
"//          B+C--k2-->D\n",
"rc_k1=1,rc_k2=1                             //rate constants\n",
"disp('the solution of eg 4.17 -->Plug Flow Reactor')\n",
"function dA_by_dx=f1a(x,A,B,C,D),\n",
"    dA_by_dx=-A*B,\n",
"endfunction\n",
"function dB_by_dx=f2a(x,A,B,C,D),\n",
"    dB_by_dx=-A*B-B*C,\n",
"endfunction\n",
"function dC_by_dx=f3a(x,A,B,C,D),\n",
"    dC_by_dx=A*B-B*C,\n",
"endfunction\n",
"function dD_by_dx=f4a(x,A,B,C,D),\n",
"    dD_by_dx=B*C,\n",
"endfunction\n",
"A=1,B=1,C=0,D=0\n",
"for x=.1:.1:10,\n",
"    h=.1                                    //step increment of 0.1\n",
"    k1=h*f1a(x,A,B,C,D)\n",
"    l1=h*f2a(x,A,B,C,D)\n",
"    m1=h*f3a(x,A,B,C,D)\n",
"    n1=h*f4a(x,A,B,C,D)\n",
"    k2=h*f1a(x+h/2,A+k1/2,B+l1/2,C+m1/2,D+n1/2)\n",
"    l2=h*f2a(x+h/2,A+k1/2,B+l1/2,C+m1/2,D+n1/2)\n",
"    m2=h*f3a(x+h/2,A+k1/2,B+l1/2,C+m1/2,D+n1/2)\n",
"    n2=h*f4a(x+h/2,A+k1/2,B+l1/2,C+m1/2,D+n1/2)\n",
"    k3=h*f1a(x+h/2,A+k2/2,B+l2/2,C+m2/2,D+n2/2)\n",
"    l3=h*f2a(x+h/2,A+k2/2,B+l2/2,C+m2/2,D+n2/2)\n",
"    m3=h*f3a(x+h/2,A+k2/2,B+l2/2,C+m2/2,D+n2/2)\n",
"    n3=h*f4a(x+h/2,A+k2/2,B+l2/2,C+m2/2,D+n2/2)\n",
"    k4=h*f1a(x+h,A+k3,B+l3,C+m3,D+n3)\n",
"    l4=h*f2a(x+h,A+k3,B+l3,C+m3,D+n3)\n",
"    m4=h*f3a(x+h,A+k3,B+l3,C+m3,D+n3)\n",
"    n4=h*f4a(x+h,A+k3,B+l3,C+m3,D+n3)\n",
"    A=A+(k1+2*k2+2*k3+k4)/6\n",
"    B=B+(l1+2*l2+2*l3+l4)/6\n",
"    C=C+(m1+2*m2+2*m3+m4)/6\n",
"    D=D+(n1+2*n2+2*n3+n4)/6\n",
"    if x==.5 |x==1|x==2|x==5 then disp(D,C,B,A,'secs is',x,'the conc. of A,B,C,D after');\n",
"    end\n",
"end\n",
"    disp(D,C,B,A,'the conc. of A,B,C,D after 10 secs respectively is');"
   ]
   }
,
{
		   "cell_type": "markdown",
		   "metadata": {},
		   "source": [
			"## Example 4.18: non_isothermal_plug_flow_reactor.sce"
		   ]
		  },
  {
"cell_type": "code",
	   "execution_count": null,
	   "metadata": {
	    "collapsed": true
	   },
	   "outputs": [],
"source": [
"clc\n",
"disp('the solution of eg 4.18-->Non- Isothermal Plug Flow Reactor')\n",
"T=294.15\n",
"//rxn A-->B\n",
"R=8.314, rho=980.9, MW=200, U=1900, Cp=15.7, H_rxn=92900, T1=388.71, mdot=1.26, dia=2.54*10^-2, E=108847                 //given data\n",
"b=E/(R*T1),k1=5.64*10^13*exp(-b),  A=%pi*dia^2/4, na0=mdot*1000/MW, Ts=388.71\n",
"k=k1*exp(b*(1-T1/T))\n",
"\n",
"//dX_by_dV=ra/na0\n",
"//dX_by_dV=k*(1-X)/F\n",
"//from energX balance\n",
"//mdot*Cp*dT_by_dz+ra*A*H_RXN-q=0\n",
"//q=U*%pi*dia*(Ts-T)\n",
"//-mdot*Cp*dT_by_dV+4*U/dia*(Ts-T)-ra*H_rxn=0\n",
"F=mdot/rho\n",
"t1=A*k1/F\n",
"\n",
"s1=mdot*Cp/A\n",
"s2=4*U/dia\n",
"s3=H_rxn*t1\n",
"\n",
"function dX_by_dz=fg1(z,X,T),\n",
"         dX_by_dz=t1*(1-X)*exp(b*(1-T1/T))\n",
"endfunction\n",
"function dT_by_dz=fd1(z,X,T),\n",
"         ra=na0/A*(t1*(1-X)*exp(b*(1-T1/T)))\n",
"         dT_by_dz=(ra*H_rxn-s2*(Ts-T))/-s1\n",
"         \n",
"endfunction\n",
"\n",
"X=0,T=294.15\n",
"for z=0:.1:350,\n",
"    h=.1                                    //szep incremenz of 0.1\n",
"    k1=h*fg1(z,X,T)\n",
"    l1=h*fd1(z,X,T)\n",
"    k2=h*fg1(z+h/2,X+k1/2,T+l1/2)\n",
"    l2=h*fd1(z+h/2,X+k1/2,T+l1/2)\n",
"    k3=h*fg1(z+h/2,X+k2/2,T+l2/2)\n",
"    l3=h*fd1(z+h/2,X+k2/2,T+l2/2)\n",
"    k4=h*fg1(z+h,X+k3,T+l3)\n",
"    l4=h*fd1(z+h,X+k3,T+l3)\n",
"    X=X+(k1+2*k2+2*k3+k4)/6\n",
"    T=T+(l1+2*l2+2*l3+l4)/6\n",
"    //condition for height calc. for 90% conversion\n",
"    if X>.9 &X<.9005 then disp(z,'the height of the tower required for 90% conversion in mtrs is'); break\n",
"    end\n",
"    end"
   ]
   }
,
{
		   "cell_type": "markdown",
		   "metadata": {},
		   "source": [
			"## Example 4.1: solution_of_ordinary_differential_equation.sce"
		   ]
		  },
  {
"cell_type": "code",
	   "execution_count": null,
	   "metadata": {
	    "collapsed": true
	   },
	   "outputs": [],
"source": [
"clc\n",
"disp('the solution of e.g. 4.1 -->Integration of Ordinary Differential Equation')\n",
"// in this problem dy/dx=x+y\n",
"x_0=0                 //initial values given\n",
"y_0=0\n",
"\n",
"function ydash=fs(x,y),\n",
"    ydash=x+y,\n",
"endfunction\n",
"\n",
"for x_0=0:0.1:0.2,\n",
"    h=0.1                                    //step increment of 0.1\n",
"    f_0=fs(x_0,y_0)\n",
"    k1=h*f_0\n",
"    k2=h*fs(x_0+h/2,y_0+k1/2)\n",
"    k3=h*fs(x_0+h/2,y_0+k2/2)\n",
"    k4=h*fs(x_0+h,y_0+k3)\n",
"    y_0=y_0+(k1+2*k2+2*k3+k4)/6\n",
"end\n",
"y_0=y_0-(k1+2*k2+2*k3+k4)/6                    //to get value at x=0.2\n",
"disp(y_0,'the value of y at x=.2 using Runge Kutta method is');\n",
"ae=exp(x_0)-x_0-1                                  //analytical eqn given\n",
"disp(ae,'the value of y at x=0.2 from analytical eqn is');"
   ]
   }
,
{
		   "cell_type": "markdown",
		   "metadata": {},
		   "source": [
			"## Example 4.2: solution_of_ordinary_differential_equation.sce"
		   ]
		  },
  {
"cell_type": "code",
	   "execution_count": null,
	   "metadata": {
	    "collapsed": true
	   },
	   "outputs": [],
"source": [
"clc\n",
"disp('the solution of e.g. 4.2 -->Ordinary Differential Eqn.-Runge Kutta method')\n",
"// in this problem dy/dx=-y/(1+x)\n",
"x_0=0                 //initial values given\n",
"y_0=2\n",
"function ydash=fr(x,y),\n",
"    ydash=-y/(1+x),\n",
"endfunction\n",
"for x_0=0:0.01:2.5,\n",
"    h=0.01                                    //step increment of 0.01\n",
"    f_0=fr(x_0,y_0)\n",
"    k1=h*f_0\n",
"    k2=h*fr(x_0+h/2,y_0+k1/2)\n",
"    k3=h*fr(x_0+h/2,y_0+k2/2)\n",
"    k4=h*fr(x_0+h,y_0+k3)\n",
"    y_0=y_0+(k1+2*k2+2*k3+k4)/6\n",
"end\n",
"y_0=y_0-(k1+2*k2+2*k3+k4)/6                    //final value at x=2.5\n",
"disp(y_0,'the value of y at x=2.5 using Runge Kutta method is');"
   ]
   }
,
{
		   "cell_type": "markdown",
		   "metadata": {},
		   "source": [
			"## Example 4.3: double_pipe_heat_exchanger.sce"
		   ]
		  },
  {
"cell_type": "code",
	   "execution_count": null,
	   "metadata": {
	    "collapsed": true
	   },
	   "outputs": [],
"source": [
"clc\n",
"disp('the solution of e.g. 4.3 -->Double Pipe Heat Exchanger');\n",
"rho=1000, v=1, dia=2.4*10^-2, Cp=4184             //given data \n",
"mdot=rho*v*%pi*dia^2/4\n",
"t1=mdot*Cp\n",
"U=200\n",
"Ts=250\n",
"z=0                 //initial values given\n",
"// dT/dz=U*pi*dia*(Ts-T)/(mdot*Cp)\n",
"function Tgrad=fr(z,T),\n",
"    Tgrad=U*%pi*dia*(Ts-T)/(mdot*Cp),\n",
"endfunction\n",
"T=20\n",
"for z=0:0.01:10,\n",
"    h=0.01                                    //step increment of 0.01\n",
"    k1=h*fr(z,T)\n",
"    k2=h*fr(z+h/2,T+k1/2)\n",
"    k3=h*fr(z+h/2,T+k2/2)\n",
"    k4=h*fr(z+h,T+k3)\n",
"    T=T+(k1+2*k2+2*k3+k4)/6\n",
"    if z==5 then T=T-(k1+2*k2+2*k3+k4)/6, \n",
"        disp(T,'the value of T in deg Celsius at z=5 m using Runge Kutta method is');\n",
"    end\n",
"end\n",
"T=T-(k1+2*k2+2*k3+k4)/6                    //final value at z=10 m\n",
"disp(T,'the value of T in deg Celsius at z=10 m using Runge Kutta method is');"
   ]
   }
,
{
		   "cell_type": "markdown",
		   "metadata": {},
		   "source": [
			"## Example 4.4: stirred_tank_with_coil_heater.sce"
		   ]
		  },
  {
"cell_type": "code",
	   "execution_count": null,
	   "metadata": {
	    "collapsed": true
	   },
	   "outputs": [],
"source": [
"clc\n",
"disp('the solution of e.g. 4.4 -->Stirred Tank with Coil Heater')\n",
"vol=.5*.5*2                        //given data\n",
"rho=1000\n",
"m=vol*rho\n",
"vol_rate=.001\n",
"mdot=vol_rate*rho\n",
"out_A=1\n",
"U=200\n",
"Cp=4184\n",
"T1=20, Ts=250, T_exit=28                           //temp in Celsius\n",
"t1=(mdot*Cp*T1+U*out_A*Ts)/(m*Cp)                  //terms of the function\n",
"t2=(mdot*Cp+U*out_A)/(m*Cp)\n",
"//dt/dt=(mdot*Cp(T1-T)+Q_dot)/m*Cp\n",
"function tgrad=fv(tm,T),\n",
"    tgrad=t1-t2*T\n",
"endfunction\n",
"T=20                                             //initial value\n",
"funcprot(0)\n",
"for tm=0:1:5000,\n",
"    h=1                                    //step increment of 1 sec\n",
"    k1=h*fv(tm,T)\n",
"    k2=h*fv(tm+h/2,T+k1/2)\n",
"    k3=h*fv(tm+h/2,T+k2/2)\n",
"    k4=h*fv(tm+h,T+k3)\n",
"    e1=abs(T-T_exit)\n",
"    if e1<1e-3 then disp(tm,'the time at which exit temp. in sec. is 28 C is')\n",
"    end\n",
"    T=T+(k1+2*k2+2*k3+k4)/6\n",
"    end\n",
"T=T-(k1+2*k2+2*k3+k4)/6                   //final  steady state temp.\n",
"disp(T,'the value of steady Temp in Celsius is');"
   ]
   }
,
{
		   "cell_type": "markdown",
		   "metadata": {},
		   "source": [
			"## Example 4.5: stirred_tank_with_coil_heater.sce"
		   ]
		  },
  {
"cell_type": "code",
	   "execution_count": null,
	   "metadata": {
	    "collapsed": true
	   },
	   "outputs": [],
"source": [
"clc\n",
"disp('the solution of e.g. 4.5 -->Stirred Vessel with Coil Heater');\n",
"m=760                                         //given data\n",
"mdot=12/60\n",
"U_into_A=11.5/60\n",
"Cp=2.3\n",
"T1=25, Ts=150\n",
"t1=(mdot*Cp*T1+U_into_A*Ts)/(m*Cp)\n",
"t2=(mdot*Cp+U_into_A)/(m*Cp)\n",
"//using energy balance we know accumulation=input-output\n",
"//T is the temp. of fluid in stirred tank\n",
"function tgrade=fg(t,T);\n",
"     tgrade=(t1-t2*T),\n",
"endfunction\n",
"T=25\n",
"for t=0:1:3000,\n",
"    h=1                                    //step increment of 1 sec\n",
"    k1=h*fg(t,T)\n",
"    k2=h*fg(t+h/2,T+k1/2)\n",
"    k3=h*fg(t+h/2,T+k2/2)\n",
"    k4=h*fg(t+h,T+k3)\n",
"    T=T+(k1+2*k2+2*k3+k4)/6\n",
"    end\n",
"T=T-(k1+2*k2+2*k3+k4)/6                    //to get value at x=0.2\n",
"disp(T,'the value of T in deg C after 50 mins is');\n",
"T_steady=(mdot*Cp*T1+U_into_A*Ts)/(mdot*Cp+U_into_A)\n",
"disp(T_steady,'the steady state temp in deg C is');"
   ]
   }
,
{
		   "cell_type": "markdown",
		   "metadata": {},
		   "source": [
			"## Example 4.6: pneumatic_conveying.sce"
		   ]
		  },
  {
"cell_type": "code",
	   "execution_count": null,
	   "metadata": {
	    "collapsed": true
	   },
	   "outputs": [],
"source": [
"clc\n",
"disp('the soln of eg 4.6-->Pneumatic Conveying')\n",
"dia=3*10^-4                             //given data\n",
"v_sprfcl=12\n",
"rho_p=900\n",
"meu=1.8*10^-5\n",
"P=101325\n",
"T=298.15\n",
"R=8.314\n",
"M=28.84*10^-3\n",
"rho_air=P*M/(R*T)\n",
"proj_A=%pi*(dia^2)/4\n",
"volm=%pi*(dia^3)/6\n",
"t1=rho_air*proj_A/(volm*rho_p)                        //terms of the function\n",
"t2=((rho_air/rho_p)-1)*9.81*2\n",
"y=0\n",
"for z=.01:.01:10,\n",
"    h=.01\n",
"    vn1=sqrt(y)\n",
"    Re=rho_air*(12-vn1)*dia/meu\n",
"    Cd=24*(1+.15*Re^.687)/Re\n",
"    function dy_by_dz=fy(z,y),\n",
"    dy_by_dz=t1*Cd*(12-sqrt(y))^2+t2,\n",
"endfunction\n",
"    kk1=h*fy(z,y)\n",
"    kk2=h*fy(z+h/2,y+kk1/2)\n",
"    kk3=h*fy(z+h/2,y+kk2/2)\n",
"    kk4=h*fy(z+h,y+kk3)\n",
"    y=y+(kk1+2*kk2+2*kk3+kk4)/6\n",
"    end\n",
"v=sqrt(y)                    //final value of velocity\n",
"disp(v,'the value of v at the end of the pneumatic conveyor is');"
   ]
   }
,
{
		   "cell_type": "markdown",
		   "metadata": {},
		   "source": [
			"## Example 4.7: simultaneous_ordinary_differential_equations.sce"
		   ]
		  },
  {
"cell_type": "code",
	   "execution_count": null,
	   "metadata": {
	    "collapsed": true
	   },
	   "outputs": [],
"source": [
"clc\n",
"disp('the soln of eg 4.7-->Simultaneous O.D.E.')\n",
"function dx_dt=fw(t,x,y);\n",
"         dx_dt=x+2*y,\n",
"endfunction\n",
"function dy_dt=fq(t,x,y);\n",
"         dy_dt=3*x+2*y\n",
"endfunction\n",
"y=4,x=6                         //initial values\n",
"//solving by Runge-Kutta method\n",
"for t=0:.1:.2,\n",
"    h=.1                                    //step increment of 0.1\n",
"    k1=h*fw(t,x,y)\n",
"    l1=h*fq(t,x,y)\n",
"    k2=h*fw(t+h/2,x+k1/2,y+l1/2)\n",
"    l2=h*fq(t+h/2,x+k1/2,y+l1/2)\n",
"    k3=h*fw(t+h/2,x+k2/2,y+l2/2)\n",
"    l3=h*fq(t+h/2,x+k2/2,y+l2/2)\n",
"    k4=h*fw(t+h,x+k3,y+l3)\n",
"    l4=h*fq(t+h,x+k3,y+l3)\n",
"    x=x+(k1+2*k2+2*k3+k4)/6\n",
"    y=y+(l1+2*l2+2*l3+l4)/6\n",
"    end\n",
"x=x-(k1+2*k2+2*k3+k4)/6\n",
"y=y-(l1+2*l2+2*l3+l4)/6\n",
"disp(y,x,'the values of x and y repectively are');\n",
"t_an=.2\n",
"x_an=4*exp(4*t)+2*exp(-t)\n",
"y_an=6*exp(4*t)-2*exp(-t)\n",
"disp(y_an,x_an,'the analytical values of x and y are respectively');"
   ]
   }
,
{
		   "cell_type": "markdown",
		   "metadata": {},
		   "source": [
			"## Example 4.8: simultaneous_ordinary_differential_equations.sce"
		   ]
		  },
  {
"cell_type": "code",
	   "execution_count": null,
	   "metadata": {
	    "collapsed": true
	   },
	   "outputs": [],
"source": [
"clc\n",
"disp('the soln of eg 4.8-->Simultaneous O.D.E.')\n",
"function dy_dx=fw(x,y,z);\n",
"         dy_dx=z,\n",
"endfunction\n",
"function dz_dx=fq(x,y,z);\n",
"         dz_dx=-y\n",
"endfunction\n",
"y=2,z=1                          //initial values\n",
"for x=0:.1:3,\n",
"    h=.1                                    //step increment of 0.1\n",
"    k1=h*fw(x,y,z)\n",
"    l1=h*fq(x,y,z)\n",
"    k2=h*fw(x+h/2,y+k1/2,z+l1/2)\n",
"    l2=h*fq(x+h/2,y+k1/2,z+l1/2)\n",
"    k3=h*fw(x+h/2,y+k2/2,z+l2/2)\n",
"    l3=h*fq(x+h/2,y+k2/2,z+l2/2)\n",
"    k4=h*fw(x+h,y+k3,z+l3)\n",
"    l4=h*fq(x+h,y+k3,z+l3)\n",
"    y=y+(k1+2*k2+2*k3+k4)/6\n",
"    z=z+(l1+2*l2+2*l3+l4)/6\n",
"    end\n",
"y=y-(k1+2*k2+2*k3+k4)/6\n",
"z=z-(l1+2*l2+2*l3+l4)/6\n",
"disp(z,y,'the values of y and z respectively are');\n",
"// for the given analytical eqns the values of A and alpha can be determined using initial values of y and z\n",
"alpha=atan(2)\n",
"A=2/sin(alpha)\n",
"y_an=A*sin(alpha+x)\n",
"z_an=A*cos(alpha+x)\n",
"disp(z_an,y_an,'the analytical values of y and z are');"
   ]
   }
,
{
		   "cell_type": "markdown",
		   "metadata": {},
		   "source": [
			"## Example 4.9: simultaneous_ordinary_differential_equations.sce"
		   ]
		  },
  {
"cell_type": "code",
	   "execution_count": null,
	   "metadata": {
	    "collapsed": true
	   },
	   "outputs": [],
"source": [
"clc\n",
"disp('the soln of eg 4.9-->Simultaneous O.D.E.')\n",
"function dy_dx=fw(x,y,z);                  //let us have dy/dx=z, therefore d2y/dx2=dz/dx\n",
"         dy_dx=z,\n",
"endfunction\n",
"function dz_dx=fq(x,y,z);\n",
"         dz_dx=-y*x,\n",
"endfunction\n",
"y=2,z=1\n",
"for x=0:.1:3,\n",
"    h=.1                                    //step increment of 0.1\n",
"    k1=h*fw(x,y,z)\n",
"    l1=h*fq(x,y,z)\n",
"    k2=h*fw(x+h/2,y+k1/2,z+l1/2)\n",
"    l2=h*fq(x+h/2,y+k1/2,z+l1/2)\n",
"    k3=h*fw(x+h/2,y+k2/2,z+l2/2)\n",
"    l3=h*fq(x+h/2,y+k2/2,z+l2/2)\n",
"    k4=h*fw(x+h,y+k3,z+l3)\n",
"    l4=h*fq(x+h,y+k3,z+l3)\n",
"    y=y+(k1+2*k2+2*k3+k4)/6\n",
"    z=z+(l1+2*l2+2*l3+l4)/6\n",
"    end\n",
"y=y-(k1+2*k2+2*k3+k4)/6\n",
"z=z-(l1+2*l2+2*l3+l4)/6\n",
"disp(z,y,'the values of y and z repectively are');"
   ]
   }
],
"metadata": {
		  "kernelspec": {
		   "display_name": "Scilab",
		   "language": "scilab",
		   "name": "scilab"
		  },
		  "language_info": {
		   "file_extension": ".sce",
		   "help_links": [
			{
			 "text": "MetaKernel Magics",
			 "url": "https://github.com/calysto/metakernel/blob/master/metakernel/magics/README.md"
			}
		   ],
		   "mimetype": "text/x-octave",
		   "name": "scilab",
		   "version": "0.7.1"
		  }
		 },
		 "nbformat": 4,
		 "nbformat_minor": 0
}
