{
"cells": [
 {
		   "cell_type": "markdown",
	   "metadata": {},
	   "source": [
       "# Chapter 8: Microwave diodes Quantum effect and hot electron devices"
	   ]
	},
{
		   "cell_type": "markdown",
		   "metadata": {},
		   "source": [
			"## Example 8.1: dc_breakdown_volt.sce"
		   ]
		  },
  {
"cell_type": "code",
	   "execution_count": null,
	   "metadata": {
	    "collapsed": true
	   },
	   "outputs": [],
"source": [
"clc\n",
"\n",
"T=300 //K\n",
"k=8.617*10^-5 //eV/K\n",
"q=1.6*10**-19 //C\n",
"epsilonx=8.85*10^-14 //F/cm\n",
"epsilonm=3.3*10^5 //V/cm\n",
"ni=9.65*10^9//cm^-3\n",
"ND=2*10^18//cm^-3\n",
"b=1*10^-4//cm\n",
"W=6*10^-4//cm\n",
"Q=2*10^12//charges/cm^2\n",
"xA=1*10^-4//cm\n",
"vx=10^7//Hz\n",
"Vb=(epsilonm*b)+[epsilonm-((q*Q)/(epsilonx*11.9))]*(W-b)\n",
"disp(Vb,'Vb in V is= ')\n",
"d=([epsilonm-((q*Q)/(epsilonx*11.9))]*(W-b))/(W-b)\n",
"disp(d,'drift region in V/cm is= ')\n",
"f=vx/[2*(W-xA)]\n",
"disp(f,'f in Hz is= ')\n",
"\n",
""
   ]
   }
,
{
		   "cell_type": "markdown",
		   "metadata": {},
		   "source": [
			"## Example 8.2: mini_electron_density.sce"
		   ]
		  },
  {
"cell_type": "code",
	   "execution_count": null,
	   "metadata": {
	    "collapsed": true
	   },
	   "outputs": [],
"source": [
"clc\n",
"\n",
"T=300 //K\n",
"k=8.617*10^-5 //eV/K\n",
"q=1.6*10**-19 //C\n",
"epsilonx=8.854*10^-14 //F/cm\n",
"L=10*10^-4//cm^-2\n",
"v=10^7//sec\n",
"n0=10^12/L\n",
"disp(n0,'n0 in cm^-3 is=')\n",
"t=L/v\n",
"disp(t,'t in sec is=')"
   ]
   }
],
"metadata": {
		  "kernelspec": {
		   "display_name": "Scilab",
		   "language": "scilab",
		   "name": "scilab"
		  },
		  "language_info": {
		   "file_extension": ".sce",
		   "help_links": [
			{
			 "text": "MetaKernel Magics",
			 "url": "https://github.com/calysto/metakernel/blob/master/metakernel/magics/README.md"
			}
		   ],
		   "mimetype": "text/x-octave",
		   "name": "scilab",
		   "version": "0.7.1"
		  }
		 },
		 "nbformat": 4,
		 "nbformat_minor": 0
}
