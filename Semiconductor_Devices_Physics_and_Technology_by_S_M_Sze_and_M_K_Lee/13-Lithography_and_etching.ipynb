{
"cells": [
 {
		   "cell_type": "markdown",
	   "metadata": {},
	   "source": [
       "# Chapter 13: Lithography and etching"
	   ]
	},
{
		   "cell_type": "markdown",
		   "metadata": {},
		   "source": [
			"## Example 13.1: how_many_dust_particles.sce"
		   ]
		  },
  {
"cell_type": "code",
	   "execution_count": null,
	   "metadata": {
	    "collapsed": true
	   },
	   "outputs": [],
"source": [
"clc\n",
"\n",
"c=30//m/min\n",
"t=1//minute\n",
"w=300*10^-3//m\n",
"V=c*%pi*(w/2)^2*t\n",
"disp(V,'V in m^3 is= ')"
   ]
   }
,
{
		   "cell_type": "markdown",
		   "metadata": {},
		   "source": [
			"## Example 13.2: parameter_gamma.sce"
		   ]
		  },
  {
"cell_type": "code",
	   "execution_count": null,
	   "metadata": {
	    "collapsed": true
	   },
	   "outputs": [],
"source": [
"clc\n",
"\n",
"ET=90//mJ/cm^2\n",
"EI=45//mJ/cm^2\n",
"gammma=1/[log(ET/EI)]\n",
"disp(gammma,'gamma is= ')\n",
"ET=7//mJ/cm^2\n",
"EI=12//mJ/cm^2\n",
"gammma=1/[log(EI/ET)]\n",
"disp(gammma,'gamma is= ')"
   ]
   }
,
{
		   "cell_type": "markdown",
		   "metadata": {},
		   "source": [
			"## Example 13.3: Al_average_etch_rate.sce"
		   ]
		  },
  {
"cell_type": "code",
	   "execution_count": null,
	   "metadata": {
	    "collapsed": true
	   },
	   "outputs": [],
"source": [
"clc\n",
"\n",
"c=750//nm/min\n",
"l=812//nm/min\n",
"r=765//nm/min\n",
"t=743//nm/min\n",
"b=798//nm/min\n",
"Al=(c+l+r+t+b)/5\n",
"disp(Al,'Al average etch rate in nm/min is= ')\n",
"Er=[(l-t)/(l+t)]*100\n",
"disp(Er,'Etch rate uniformly in % is= ')"
   ]
   }
],
"metadata": {
		  "kernelspec": {
		   "display_name": "Scilab",
		   "language": "scilab",
		   "name": "scilab"
		  },
		  "language_info": {
		   "file_extension": ".sce",
		   "help_links": [
			{
			 "text": "MetaKernel Magics",
			 "url": "https://github.com/calysto/metakernel/blob/master/metakernel/magics/README.md"
			}
		   ],
		   "mimetype": "text/x-octave",
		   "name": "scilab",
		   "version": "0.7.1"
		  }
		 },
		 "nbformat": 4,
		 "nbformat_minor": 0
}
