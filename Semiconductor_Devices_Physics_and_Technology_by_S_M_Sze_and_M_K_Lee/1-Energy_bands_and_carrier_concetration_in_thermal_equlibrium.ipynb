{
"cells": [
 {
		   "cell_type": "markdown",
	   "metadata": {},
	   "source": [
       "# Chapter 1: Energy bands and carrier concetration in thermal equlibrium"
	   ]
	},
{
		   "cell_type": "markdown",
		   "metadata": {},
		   "source": [
			"## Example 1.2: calculate_no_of_silicon_atoms_per_cubic_centimeter.sce"
		   ]
		  },
  {
"cell_type": "code",
	   "execution_count": null,
	   "metadata": {
	    "collapsed": true
	   },
	   "outputs": [],
"source": [
"clc\n",
"\n",
"T=300//K\n",
"a=5.43*10**-8//meter\n",
"w=28.09//g/mol..atomic weight\n",
"A=6.02*10^23 //atoms/mol....Avogadro's no.\n",
"s=8/a^3\n",
"disp(s,'atoms per unit cell in atoms/cm^3 is')\n",
"d=s*w/A\n",
"disp(d,'density in g/cm^3 is')\n",
""
   ]
   }
,
{
		   "cell_type": "markdown",
		   "metadata": {},
		   "source": [
			"## Example 1.4: carrier_concentration.sce"
		   ]
		  },
  {
"cell_type": "code",
	   "execution_count": null,
	   "metadata": {
	    "collapsed": true
	   },
	   "outputs": [],
"source": [
"clc\n",
"\n",
"T=300 //K\n",
"Nd=10**16//atoms/cm^3\n",
"Nc=2.86*10**19//cm^-3\n",
"ni=9.65*10**9//cm^-3\n",
"k=8.617*10^-5 //eV/K\n",
"e=1.6*10**-19 //C\n",
"n=Nd\n",
"disp(n,'in cm^-3 is')\n",
"p=ni^2/Nd\n",
"disp(p,'in cm^-3 is')\n",
"//Ec-Ef=z\n",
"z=k*T*log(Nc/Nd)\n",
"disp(z,'fermi level measured from bottom of conduction band in eV is')\n",
"//Ef-Ei=y\n",
"y=k*T*log(Nd/ni)\n",
"disp(y,'Fermi level measured from the intrinsic fermi level in eV is')"
   ]
   }
],
"metadata": {
		  "kernelspec": {
		   "display_name": "Scilab",
		   "language": "scilab",
		   "name": "scilab"
		  },
		  "language_info": {
		   "file_extension": ".sce",
		   "help_links": [
			{
			 "text": "MetaKernel Magics",
			 "url": "https://github.com/calysto/metakernel/blob/master/metakernel/magics/README.md"
			}
		   ],
		   "mimetype": "text/x-octave",
		   "name": "scilab",
		   "version": "0.7.1"
		  }
		 },
		 "nbformat": 4,
		 "nbformat_minor": 0
}
