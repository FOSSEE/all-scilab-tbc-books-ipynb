{
"cells": [
 {
		   "cell_type": "markdown",
	   "metadata": {},
	   "source": [
       "# Chapter 14: Impurity Doping"
	   ]
	},
{
		   "cell_type": "markdown",
		   "metadata": {},
		   "source": [
			"## Example 14.1: Qt_and_gradient.sce"
		   ]
		  },
  {
"cell_type": "code",
	   "execution_count": null,
	   "metadata": {
	    "collapsed": true
	   },
	   "outputs": [],
"source": [
"clc\n",
"\n",
"D=2*10^-14//cm^2/sec\n",
"t=3600//K\n",
"Cx=10^19\n",
"A=sqrt(D*t)\n",
"disp(A,'A in cm is= ')\n",
"Qt=1.13*Cx*A\n",
"disp(Qt,'Q(t) in atoms/cm^3')\n",
"//dC/dx=b\n",
"b=-(Cx/sqrt(%pi*D*t))\n",
"disp(b,'dC/dx in cm^-4 is= ')\n",
"xj=2*sqrt(D*t)*2.75\n",
"disp(xj,'xj in meter is= ')\n",
"b=-(Cx/sqrt(%pi*D*t))*exp(-xj^2/(4*D*t))\n",
"disp(b,'dC/dx in cm^-4 is= ')\n",
""
   ]
   }
,
{
		   "cell_type": "markdown",
		   "metadata": {},
		   "source": [
			"## Example 14.2: junction_depth.sce"
		   ]
		  },
  {
"cell_type": "code",
	   "execution_count": null,
	   "metadata": {
	    "collapsed": true
	   },
	   "outputs": [],
"source": [
"clc\n",
"\n",
"T=1473//K\n",
"k=8.614*10^-5\n",
"D0=24//cm^2/sec\n",
"Ea=4.08//eV\n",
"D=D0*exp(-Ea/(k*T))\n",
"disp(D,'D in cm^2/sec')\n",
"//a=t*log(t)-10.09*t+8350           t=1190 solving this equation"
   ]
   }
,
{
		   "cell_type": "markdown",
		   "metadata": {},
		   "source": [
			"## Example 14.3: ion_beam_current.sce"
		   ]
		  },
  {
"cell_type": "code",
	   "execution_count": null,
	   "metadata": {
	    "collapsed": true
	   },
	   "outputs": [],
"source": [
"clc\n",
"\n",
"w=20//m\n",
"q=1.6*10^-19\n",
"t=60//sec\n",
"nx=2.85*10^19\n",
"disp(nx,'nx in ions/cm^3')    //havent solved in textbook \n",
"d=5*10^14//ions/cm^2\n",
"Q=d*%pi*(20/2)^2\n",
"disp(Q,'Q in ions is= ')\n",
"I=(q*Q)/t\n",
"disp(I,'I in A is= ')\n",
"\n",
""
   ]
   }
,
{
		   "cell_type": "markdown",
		   "metadata": {},
		   "source": [
			"## Example 14.4: thickness.sce"
		   ]
		  },
  {
"cell_type": "code",
	   "execution_count": null,
	   "metadata": {
	    "collapsed": true
	   },
	   "outputs": [],
"source": [
"clc\n",
"\n",
"Rp=0.53//um\n",
"sigmap=0.093//um\n",
"d=Rp+3.96*sigmap\n",
"disp(d,'d in um is= ')"
   ]
   }
],
"metadata": {
		  "kernelspec": {
		   "display_name": "Scilab",
		   "language": "scilab",
		   "name": "scilab"
		  },
		  "language_info": {
		   "file_extension": ".sce",
		   "help_links": [
			{
			 "text": "MetaKernel Magics",
			 "url": "https://github.com/calysto/metakernel/blob/master/metakernel/magics/README.md"
			}
		   ],
		   "mimetype": "text/x-octave",
		   "name": "scilab",
		   "version": "0.7.1"
		  }
		 },
		 "nbformat": 4,
		 "nbformat_minor": 0
}
