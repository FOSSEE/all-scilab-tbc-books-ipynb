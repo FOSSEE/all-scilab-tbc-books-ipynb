{
"cells": [
 {
		   "cell_type": "markdown",
	   "metadata": {},
	   "source": [
       "# Chapter 2: Carrier Transport Phenomena"
	   ]
	},
{
		   "cell_type": "markdown",
		   "metadata": {},
		   "source": [
			"## Example 2.1: mean_free_time.sce"
		   ]
		  },
  {
"cell_type": "code",
	   "execution_count": null,
	   "metadata": {
	    "collapsed": true
	   },
	   "outputs": [],
"source": [
"clc\n",
"\n",
"T=300 //K\n",
"k=8.617*10^-5 //eV/K\n",
"q=1.6*10**-19 //C\n",
"m0=0.91*10^-30//kg\n",
"un=1000*10^-4//m^2/Vs\n",
"vth=2.28*10**7//cm/sec\n",
"mn=0.26*m0\n",
"disp(mn)\n",
"tauc=(mn*un)/q\n",
"disp(tauc,'mean free time in sec is')\n",
"l=vth*tauc\n",
"disp(l,'mean free path in cm is')"
   ]
   }
,
{
		   "cell_type": "markdown",
		   "metadata": {},
		   "source": [
			"## Example 2.2: room_temperature.sce"
		   ]
		  },
  {
"cell_type": "code",
	   "execution_count": null,
	   "metadata": {
	    "collapsed": true
	   },
	   "outputs": [],
"source": [
"clc\n",
"\n",
"T=300 //K\n",
"k=8.617*10^-5 //eV/K\n",
"q=1.6*10**-19 //C\n",
"m0=0.91*10^-30//kg\n",
"un=1300//m^2/Vs\n",
"Nd=10^16//cm^3\n",
"n=Nd\n",
"disp(n,'donors are ionized in cm^3 is')\n",
"row=1/(q*n*un)\n",
"disp(row,'resistivity in ohm cm is')"
   ]
   }
,
{
		   "cell_type": "markdown",
		   "metadata": {},
		   "source": [
			"## Example 2.3: hall_voltage.sce"
		   ]
		  },
  {
"cell_type": "code",
	   "execution_count": null,
	   "metadata": {
	    "collapsed": true
	   },
	   "outputs": [],
"source": [
"clc\n",
"\n",
"T=300 //K\n",
"k=8.617*10^-5 //eV/K\n",
"q=1.6*10**-19 //C\n",
"m0=0.91*10^-30//kg\n",
"n=10^16//cm^3\n",
"W=500*10**-4//cm\n",
"A=2.5*10**-3//cm62\n",
"I=10**-3//A\n",
"Bz=10^-4//Wb/cm^2\n",
"\n",
"RH=1/(q*n)\n",
"disp(RH,'Hall coefficient in cm^3/C is')\n",
"VH=W*RH*I*Bz/A\n",
"disp(VH,'Hall voltage in V is')\n",
""
   ]
   }
,
{
		   "cell_type": "markdown",
		   "metadata": {},
		   "source": [
			"## Example 2.4: diffusion_current_density.sce"
		   ]
		  },
  {
"cell_type": "code",
	   "execution_count": null,
	   "metadata": {
	    "collapsed": true
	   },
	   "outputs": [],
"source": [
"clc\n",
"\n",
"T=300 //K\n",
"k=8.617*10^-5 //eV/K\n",
"q=1.6*10**-19 //C\n",
"m0=0.91*10^-30//kg\n",
"Dn=22.5//cm^2/sec\n",
"deltan=1*10^18-7*10^17//cm^-3\n",
"deltax=0.1//cm\n",
"Jn=q*Dn*(deltan/deltax)\n",
"disp(Jn,'diffusion current density in A/cm^2 is ')"
   ]
   }
,
{
		   "cell_type": "markdown",
		   "metadata": {},
		   "source": [
			"## Example 2.5: drift_velocity.sce"
		   ]
		  },
  {
"cell_type": "code",
	   "execution_count": null,
	   "metadata": {
	    "collapsed": true
	   },
	   "outputs": [],
"source": [
"clc\n",
"\n",
"T=300 //K\n",
"k=8.617*10^-5 //eV/K\n",
"q=1.6*10**-19 //C\n",
"m0=0.91*10^-30//kg\n",
"x=1//cm\n",
"t=100*10^-6//sec\n",
"epsilon=50//V/cm\n",
"vp=x/t\n",
"disp(vp,'drift velocity in cm/s is')\n",
"up=vp/epsilon\n",
"disp(up,'mobility in cm^2/Vs is')\n",
"Dp=(k*T*up)\n",
"disp(Dp,'diffusivity of minority carriers in cm^2/sec is')"
   ]
   }
,
{
		   "cell_type": "markdown",
		   "metadata": {},
		   "source": [
			"## Example 2.6: minority_carrier_concentration.sce"
		   ]
		  },
  {
"cell_type": "code",
	   "execution_count": null,
	   "metadata": {
	    "collapsed": true
	   },
	   "outputs": [],
"source": [
"clc\n",
"\n",
"T=300 //K\n",
"k=8.617*10^-5 //eV/K\n",
"q=1.6*10**-19 //C\n",
"m0=0.91*10^-30//kg\n",
"ni=9.65*10^9//cm^-3\n",
"nno=10^14//cm^-3\n",
"taun=2*10^-6//sec\n",
"taup=2*10^-6//sec\n",
"\n",
"pno=ni^2/nno\n",
"disp(pno,'before illumination pno in cm^-3 is')\n",
"GL=(10^13)/(1*10^-6)\n",
"pn=pno+taup*GL\n",
"disp(pn,'after illumination deltapn in cm^-3 is')"
   ]
   }
,
{
		   "cell_type": "markdown",
		   "metadata": {},
		   "source": [
			"## Example 2.7: quasi_fermi_level.sce"
		   ]
		  },
  {
"cell_type": "code",
	   "execution_count": null,
	   "metadata": {
	    "collapsed": true
	   },
	   "outputs": [],
"source": [
"clc\n",
"\n",
"T=300 //K\n",
"k=8.617*10^-5 //eV/K\n",
"q=1.6*10**-19 //C\n",
"m0=0.91*10^-30//kg\n",
"ni=2.25*10^6//cm^-3\n",
"nn0=10^16//cm^-3\n",
"taun=2*10^-9//sec\n",
"taup=2*10^-9//sec\n",
"\n",
"pn0=ni^2/nn0\n",
"disp(pn0,'before illumination pn0 in cm^-3 is')\n",
"GL=(10^13)/(1*10^-6)\n",
"nn=nn0+taun*GL\n",
"disp(nn,'after illumination nn in cm^-3 is')       //textbook ans is wrong\n",
"pn=pn0+taup*GL\n",
"disp(pn,'after illumination pn in cm^-3 is')\n",
"\n",
""
   ]
   }
,
{
		   "cell_type": "markdown",
		   "metadata": {},
		   "source": [
			"## Example 2.8: minority_carrier_lifetime.sce"
		   ]
		  },
  {
"cell_type": "code",
	   "execution_count": null,
	   "metadata": {
	    "collapsed": true
	   },
	   "outputs": [],
"source": [
"clc\n",
"\n",
"t1=100*10^-6//sec\n",
"t2=200*10^-6//sec\n",
"N=5\n",
"//deltap=(N/sqrt(4*%pi*Dp*t))*exp(t/taup)\n",
"taup=(t2-t1)/log(N/sqrt(2))\n",
"disp(taup,'minority carrier lifetime taup in sec is=')"
   ]
   }
,
{
		   "cell_type": "markdown",
		   "metadata": {},
		   "source": [
			"## Example 2.9: thermionically_emitted_electron_density.sce"
		   ]
		  },
  {
"cell_type": "code",
	   "execution_count": null,
	   "metadata": {
	    "collapsed": true
	   },
	   "outputs": [],
"source": [
"clc\n",
"\n",
"T=300 //K\n",
"k=8.617*10^-5 //eV/K\n",
"q=1.6*10**-19 //C\n",
"qx=4.05 //eV\n",
"qVn=0.2 //eV\n",
"Nc=2.86*10^19 \n",
"a=(qx+qVn)/(k*T)\n",
"nth=exp(a)*Nc\n",
"disp(nth,'the thermionically emitted electron density for nth at 4.05 in cm^3=')     //textbook ans is wrong\n",
"\n",
"qx=0.6 //eV\n",
"nth=exp(qx/(k*T))*Nc\n",
"disp(nth,'the thermionically emitted electron density for nth at 0.6  in cm^3=')     //textbook ans is wrong"
   ]
   }
],
"metadata": {
		  "kernelspec": {
		   "display_name": "Scilab",
		   "language": "scilab",
		   "name": "scilab"
		  },
		  "language_info": {
		   "file_extension": ".sce",
		   "help_links": [
			{
			 "text": "MetaKernel Magics",
			 "url": "https://github.com/calysto/metakernel/blob/master/metakernel/magics/README.md"
			}
		   ],
		   "mimetype": "text/x-octave",
		   "name": "scilab",
		   "version": "0.7.1"
		  }
		 },
		 "nbformat": 4,
		 "nbformat_minor": 0
}
