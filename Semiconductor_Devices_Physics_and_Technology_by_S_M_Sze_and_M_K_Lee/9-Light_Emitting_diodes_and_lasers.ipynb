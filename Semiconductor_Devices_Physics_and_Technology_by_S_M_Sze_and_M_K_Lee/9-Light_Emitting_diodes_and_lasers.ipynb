{
"cells": [
 {
		   "cell_type": "markdown",
	   "metadata": {},
	   "source": [
       "# Chapter 9: Light Emitting diodes and lasers"
	   ]
	},
{
		   "cell_type": "markdown",
		   "metadata": {},
		   "source": [
			"## Example 9.1: total_energy_absorbed.sce"
		   ]
		  },
  {
"cell_type": "code",
	   "execution_count": null,
	   "metadata": {
	    "collapsed": true
	   },
	   "outputs": [],
"source": [
"clc\n",
"\n",
"T=300 //K\n",
"k=8.617*10^-5 //eV/K\n",
"q=1.6*10**-19 //C\n",
"epsilonx=8.854*10^-14 //F/cm\n",
"hv=3//eV\n",
"phi=10^-2\n",
"ra=2.4*10^-3//W\n",
"Eg=1.12//eV\n",
"alpha=-4*10^4//cm\n",
"W=0.25*10^-4//cm\n",
"a=phi*(1-exp(alpha*W))\n",
"disp(a,'a in J/sec is= ')\n",
"z=(hv-Eg)/hv\n",
"disp(z,'z in % is= ')\n",
"l=a*z\n",
"disp(l,'l in Watt is= ')\n",
"r=ra/(q*Eg)\n",
"disp(r,'r in photons/sec is= ')"
   ]
   }
,
{
		   "cell_type": "markdown",
		   "metadata": {},
		   "source": [
			"## Example 9.2: modulation_bandwidth.sce"
		   ]
		  },
  {
"cell_type": "code",
	   "execution_count": null,
	   "metadata": {
	    "collapsed": true
	   },
	   "outputs": [],
"source": [
"clc\n",
"\n",
"tau=500*10^-12//sec\n",
"deltaf=1/(2*%pi*tau)\n",
"disp(deltaf,'deltaf in Hz is= ')    //texbook printing mistake"
   ]
   }
,
{
		   "cell_type": "markdown",
		   "metadata": {},
		   "source": [
			"## Example 9.3: calculate_R.sce"
		   ]
		  },
  {
"cell_type": "code",
	   "execution_count": null,
	   "metadata": {
	    "collapsed": true
	   },
	   "outputs": [],
"source": [
"clc\n",
"\n",
"n=3.6\n",
"R=[(n-1)/(n+1)]^2\n",
"disp(R,'R is= ')\n",
""
   ]
   }
,
{
		   "cell_type": "markdown",
		   "metadata": {},
		   "source": [
			"## Example 9.4: mode_spacing.sce"
		   ]
		  },
  {
"cell_type": "code",
	   "execution_count": null,
	   "metadata": {
	    "collapsed": true
	   },
	   "outputs": [],
"source": [
"clc\n",
"\n",
"lambda=0.94*10^-6//m\n",
"n=3.6\n",
"L=300*10^-6//m\n",
"deltalambda=(lambda^2)/(2*n*L)\n",
"disp(deltalambda,'deltalambda in meter is= ')"
   ]
   }
,
{
		   "cell_type": "markdown",
		   "metadata": {},
		   "source": [
			"## Example 9.5: calculate_the_threshold_current.sce"
		   ]
		  },
  {
"cell_type": "code",
	   "execution_count": null,
	   "metadata": {
	    "collapsed": true
	   },
	   "outputs": [],
"source": [
"clc\n",
"\n",
"alpha=100//per cm\n",
"betaa=0.1//per cm A\n",
"Tau=0.9\n",
"g0=100//per cm\n",
"L=300*10^-4//cm\n",
"w=5*10^-4//cm\n",
"R1=0.44\n",
"R2=0.99\n",
"Jth=((g0*Tau)/betaa)+(1/betaa)*(alpha+(1/(2*L))*log(1/R1*R2))\n",
"disp(Jth,'Jth in A/cm^2 is=')\n",
"Ith=Jth*L*w\n",
"disp(Ith,'Ith in A is=')"
   ]
   }
,
{
		   "cell_type": "markdown",
		   "metadata": {},
		   "source": [
			"## Example 9.6: Determine_temp.sce"
		   ]
		  },
  {
"cell_type": "code",
	   "execution_count": null,
	   "metadata": {
	    "collapsed": true
	   },
	   "outputs": [],
"source": [
"clc\n",
"\n",
"T0=110//degree C\n",
"T=27+T0*log(2)\n",
"disp(T,'T in degree C is= ')"
   ]
   }
],
"metadata": {
		  "kernelspec": {
		   "display_name": "Scilab",
		   "language": "scilab",
		   "name": "scilab"
		  },
		  "language_info": {
		   "file_extension": ".sce",
		   "help_links": [
			{
			 "text": "MetaKernel Magics",
			 "url": "https://github.com/calysto/metakernel/blob/master/metakernel/magics/README.md"
			}
		   ],
		   "mimetype": "text/x-octave",
		   "name": "scilab",
		   "version": "0.7.1"
		  }
		 },
		 "nbformat": 4,
		 "nbformat_minor": 0
}
