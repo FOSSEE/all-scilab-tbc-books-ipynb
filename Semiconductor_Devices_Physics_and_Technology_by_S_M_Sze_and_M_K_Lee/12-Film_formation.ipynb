{
"cells": [
 {
		   "cell_type": "markdown",
	   "metadata": {},
	   "source": [
       "# Chapter 12: Film formation"
	   ]
	},
{
		   "cell_type": "markdown",
		   "metadata": {},
		   "source": [
			"## Example 12.1: thickness.sce"
		   ]
		  },
  {
"cell_type": "code",
	   "execution_count": null,
	   "metadata": {
	    "collapsed": true
	   },
	   "outputs": [],
"source": [
"clc\n",
"\n",
"Msi=28.9//g/mole\n",
"Dsi=2.33//g/cm^3\n",
"Msidi=60.08//g/mole\n",
"Dsidi=2.21//g/cm^3\n",
"\n",
"vsi=Msi/Dsi\n",
"disp(vsi,'vsi in cm^3/mole is= ')\n",
"vsidi=Msidi/Dsidi\n",
"disp(vsidi,'vsidi in cm^3/mole is= ')\n",
"T=vsi/vsidi\n",
"disp(T,'T is ratio of Thickness of Si to SiO2 is= ')"
   ]
   }
,
{
		   "cell_type": "markdown",
		   "metadata": {},
		   "source": [
			"## Example 12.3: intrinsic_value.sce"
		   ]
		  },
  {
"cell_type": "code",
	   "execution_count": null,
	   "metadata": {
	    "collapsed": true
	   },
	   "outputs": [],
"source": [
"clc\n",
"\n",
"row=2.7*10^-6//ohm cm\n",
"l=10^-1//cm\n",
"tm=0.5*10^-4//cm\n",
"sw=0.5*10^-4//cm\n",
"epsiloni=8.85*10^-14\n",
"RC=(row*l/tm^2)*epsiloni*2.7*(tm*l/sw)\n",
"disp(RC,'RC in sec is= ')"
   ]
   }
,
{
		   "cell_type": "markdown",
		   "metadata": {},
		   "source": [
			"## Example 12.4: equivalent_cell_area.sce"
		   ]
		  },
  {
"cell_type": "code",
	   "execution_count": null,
	   "metadata": {
	    "collapsed": true
	   },
	   "outputs": [],
"source": [
"clc\n",
"\n",
"k=3.9\n",
"k1=25\n",
"A=1.28//um^2\n",
"E=(k*A)/k1\n",
"disp(E,' equivalent cell size in um^2 is= ')"
   ]
   }
,
{
		   "cell_type": "markdown",
		   "metadata": {},
		   "source": [
			"## Example 12.5: find_depth.sce"
		   ]
		  },
  {
"cell_type": "code",
	   "execution_count": null,
	   "metadata": {
	    "collapsed": true
	   },
	   "outputs": [],
"source": [
"clc\n",
"T=500//dC\n",
"t=30//min\n",
"ZL=16//um^2\n",
"Z=5//um\n",
"H=1//um\n",
"S=0.8//%\n",
"A=16\n",
"a=60//um\n",
"rowAl=2.7\n",
"rowSi=2.33\n",
"b=(2*a*H*Z*S*rowAl)/(A*rowSi*100)\n",
"disp(b,'b in um is= ')"
   ]
   }
,
{
		   "cell_type": "markdown",
		   "metadata": {},
		   "source": [
			"## Example 12.6: percentage_od_reduction.sce"
		   ]
		  },
  {
"cell_type": "code",
	   "execution_count": null,
	   "metadata": {
	    "collapsed": true
	   },
	   "outputs": [],
"source": [
"clc\n",
"\n",
"kAl=2.6\n",
"kCu=3.9\n",
"rAl=2.7//u ohm cm\n",
"rCu=1.7//u ohm cm\n",
"reduction=(rCu*kAl*100)/(rAl*kCu)\n",
"disp(reduction,'reduction in% is= ')"
   ]
   }
,
{
		   "cell_type": "markdown",
		   "metadata": {},
		   "source": [
			"## Example 12.7: oxide_removal_rate.sce"
		   ]
		  },
  {
"cell_type": "code",
	   "execution_count": null,
	   "metadata": {
	    "collapsed": true
	   },
	   "outputs": [],
"source": [
"clc\n",
"\n",
"//(1/r)+(0.01/0.1r)=5.5\n",
"r=1.1/5.5\n",
"disp(r,'r in um/min is = ')"
   ]
   }
],
"metadata": {
		  "kernelspec": {
		   "display_name": "Scilab",
		   "language": "scilab",
		   "name": "scilab"
		  },
		  "language_info": {
		   "file_extension": ".sce",
		   "help_links": [
			{
			 "text": "MetaKernel Magics",
			 "url": "https://github.com/calysto/metakernel/blob/master/metakernel/magics/README.md"
			}
		   ],
		   "mimetype": "text/x-octave",
		   "name": "scilab",
		   "version": "0.7.1"
		  }
		 },
		 "nbformat": 4,
		 "nbformat_minor": 0
}
