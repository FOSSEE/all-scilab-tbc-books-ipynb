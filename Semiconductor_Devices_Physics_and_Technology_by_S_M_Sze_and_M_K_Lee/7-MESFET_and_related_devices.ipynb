{
"cells": [
 {
		   "cell_type": "markdown",
	   "metadata": {},
	   "source": [
       "# Chapter 7: MESFET and related devices"
	   ]
	},
{
		   "cell_type": "markdown",
		   "metadata": {},
		   "source": [
			"## Example 7.1: donor_concentration.sce"
		   ]
		  },
  {
"cell_type": "code",
	   "execution_count": null,
	   "metadata": {
	    "collapsed": true
	   },
	   "outputs": [],
"source": [
"clc\n",
"\n",
"T=300 //K\n",
"k=8.617*10^-5 //eV/K\n",
"q=1.6*10**-19 //C\n",
"epsilonx=8.854*10^-14 //F/cm\n",
"ni=9.65*10^9//cm^-3\n",
"NA=10^17 //cm^-3\n",
"d=8*10^-7//cm\n",
"Nc=2.86*10^19\n",
"Co=6.9*10^-7//F/cm^2\n",
"C1=1.8*10^15//(cm^2/F)^2\n",
"C2=6.2*10^15//(cm^2/F)^2\n",
"V1=0//V\n",
"V2=-1//V\n",
"Vbi=0.42\n",
"//d(1/C^2)/dv=a\n",
"a=(C2-C1)/(V2-V1)\n",
"disp(a,'a in (cm^2/F)^2')\n",
"ND=(2/(q*epsilonx*11.9))*(-1/(a))\n",
"disp(ND,'ND in ')\n",
"Vn=k*T*log(Nc/ND)\n",
"disp(Vn,'Vn in V is=')\n",
"phibn=Vbi+Vn\n",
"disp(phibn,'phibn in V is= ')\n",
""
   ]
   }
,
{
		   "cell_type": "markdown",
		   "metadata": {},
		   "source": [
			"## Example 7.2: barrier_height_and_depletion_layer.sce"
		   ]
		  },
  {
"cell_type": "code",
	   "execution_count": null,
	   "metadata": {
	    "collapsed": true
	   },
	   "outputs": [],
"source": [
"clc\n",
"\n",
"T=300 //K\n",
"k=8.617*10^-5 //eV/K\n",
"q=1.6*10**-19 //C\n",
"epsilonx=8.854*10^-14 //F/cm\n",
"ni=9.65*10^9//cm^-3\n",
"ND=10^16 //cm^-3\n",
"Nc=2.86*10^19\n",
"Dp=10//cm^2/s\n",
"Lp=3.1*10^-3\n",
"d=8*10^-7//cm\n",
"Js=6.5*10^-5//A/cm^2\n",
"V=0.67//V\n",
"phibn=k*T*log((110*300^2)/Js)\n",
"disp(Js,'Js in V is=')         //textbook ans is wrong\n",
"Vn=k*T*log(Nc/ND)\n",
"disp(Vn,'Vn in V is=')         //textbook ans is wrong\n",
"Vbi=phibn-Vn\n",
"disp(Vbi,'Vbi in V is=')         //textbook ans is wrong\n",
"W=sqrt((2*epsilonx*11.9*Vbi)/(q*ND))\n",
"disp(W,'W in cm is =')         //textbook ans is wrong\n",
"Jpo=(q*Dp*ni^2)/(Lp*ND)\n",
"disp(Jpo,'Jpo in A/cm^2 is=')\n",
"z=Js/Jpo\n",
"disp(z,'Js/Jpo ratio of current densities is=')"
   ]
   }
,
{
		   "cell_type": "markdown",
		   "metadata": {},
		   "source": [
			"## Example 7.3: voltage_drop.sce"
		   ]
		  },
  {
"cell_type": "code",
	   "execution_count": null,
	   "metadata": {
	    "collapsed": true
	   },
	   "outputs": [],
"source": [
"clc\n",
"\n",
"T=300 //K\n",
"k=8.617*10^-5 //eV/K\n",
"q=1.6*10**-19 //C\n",
"epsilons=8.854*10^-31 //F/cm\n",
"ni=9.65*10^9//cm^-3\n",
"ND=5*10^19//cm^-3\n",
"phibn=0.8//V\n",
"I=1//A\n",
"mn=0.26\n",
"Rc=10^-6//ohm cm^2\n",
"A=10^-5//cm^2\n",
"h=1.05*10^-34\n",
"a=Rc/A\n",
"disp(a,'Rc/A in ohm is=')\n",
"C2=(4*sqrt(mn*epsilons*(1.05*10^-10)))/h\n",
"disp(C2,'C2 in m^(3/2)/V is= ')                 //texbook ans is wrong\n",
"I0=(A/Rc)*(sqrt(ND*10^6)/C2)*exp((C2*phibn)/sqrt(ND*10^6))\n",
"disp(I0,'I0 in A is= ')         //textbook ans is wrong\n",
"V=phibn-(sqrt(ND)/C2)*log(I0/I)\n",
"disp(V,'V in V is= ')\n",
""
   ]
   }
,
{
		   "cell_type": "markdown",
		   "metadata": {},
		   "source": [
			"## Example 7.4: pinch_off_volt.sce"
		   ]
		  },
  {
"cell_type": "code",
	   "execution_count": null,
	   "metadata": {
	    "collapsed": true
	   },
	   "outputs": [],
"source": [
"clc\n",
"\n",
"T=300 //K\n",
"k=8.617*10^-5 //eV/K\n",
"q=1.6*10**-19 //C\n",
"epsilonx=8.854*10^-14 //F/cm\n",
"ni=9.65*10^9//cm^-3\n",
"ND=2*10^15//cm^-3\n",
"Nc=4.7*10^17//cm^-3\n",
"a=0.6*10^-4\n",
"fbn=0.89//V\n",
"Vp=(q*ND*a^2)/(2*epsilonx*12.4)\n",
"disp(Vp,'Vp in V is=')\n",
"Vn=(k*T)*log(Nc/ND)\n",
"disp(Vn,'Vn in V is=')\n",
"Vbi=fbn-Vn\n",
"disp(Vbi,'Vbi in V is=')"
   ]
   }
,
{
		   "cell_type": "markdown",
		   "metadata": {},
		   "source": [
			"## Example 7.5: two_dimensional_electron.sce"
		   ]
		  },
  {
"cell_type": "code",
	   "execution_count": null,
	   "metadata": {
	    "collapsed": true
	   },
	   "outputs": [],
"source": [
"clc\n",
"\n",
"T=300 //K\n",
"k=8.617*10^-5 //eV/K\n",
"q=1.6*10**-19 //C\n",
"epsilonx=8.854*10^-14 //F/cm\n",
"ni=9.65*10^9//cm^-3\n",
"ND=2*10^18//cm^-3\n",
"d1=40*10^-7//cm\n",
"d2=8*10^-7//cm\n",
"u=3*10^-7//cm\n",
"Va=0//V\n",
"//deltaEc/q=a\n",
"a=0.23//V\n",
"phibn=0.85//V\n",
"Vp=(q*ND*d1^2)/(2*epsilonx*12.3)\n",
"disp(Vp,'Vp in V is=')\n",
"VT=phibn-a-Vp\n",
"disp(VT,'VT in V is= ')\n",
"ns=((12.3*epsilonx)/(q*(d1+u+d2)))*(Va-VT)\n",
"disp(ns,'ns in cm^-2 is= ')"
   ]
   }
],
"metadata": {
		  "kernelspec": {
		   "display_name": "Scilab",
		   "language": "scilab",
		   "name": "scilab"
		  },
		  "language_info": {
		   "file_extension": ".sce",
		   "help_links": [
			{
			 "text": "MetaKernel Magics",
			 "url": "https://github.com/calysto/metakernel/blob/master/metakernel/magics/README.md"
			}
		   ],
		   "mimetype": "text/x-octave",
		   "name": "scilab",
		   "version": "0.7.1"
		  }
		 },
		 "nbformat": 4,
		 "nbformat_minor": 0
}
