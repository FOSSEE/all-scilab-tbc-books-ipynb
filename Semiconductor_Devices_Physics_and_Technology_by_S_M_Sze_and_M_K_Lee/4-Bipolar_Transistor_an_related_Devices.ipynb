{
"cells": [
 {
		   "cell_type": "markdown",
	   "metadata": {},
	   "source": [
       "# Chapter 4: Bipolar Transistor an related Devices"
	   ]
	},
{
		   "cell_type": "markdown",
		   "metadata": {},
		   "source": [
			"## Example 4.1: emitter_efficiency.sce"
		   ]
		  },
  {
"cell_type": "code",
	   "execution_count": null,
	   "metadata": {
	    "collapsed": true
	   },
	   "outputs": [],
"source": [
"clc\n",
"\n",
"Iep=3//mA\n",
"Ieh=0.01//mA\n",
"Ich=0.001//mA\n",
"Icp=2.99//mA\n",
"gamma=Iep/(Iep+Ieh)\n",
"disp(gamma,'gamma =')\n",
"alphaT=Icp/Iep\n",
"disp(alphaT,'alphaT =')\n",
"alpha0=gamma*alphaT\n",
"disp(alpha0,'alpha0 =')\n",
"IE=Iep+Ieh\n",
"disp(IE,'IE in mA=')\n",
"IC=Icp+Ich\n",
"disp(IC,'IC in mA=')\n",
"ICBO=IC-alpha0*IE\n",
"disp(ICBO,'ICBO in mA')"
   ]
   }
,
{
		   "cell_type": "markdown",
		   "metadata": {},
		   "source": [
			"## Example 4.2: common_base_current_gain.sce"
		   ]
		  },
  {
"cell_type": "code",
	   "execution_count": null,
	   "metadata": {
	    "collapsed": true
	   },
	   "outputs": [],
"source": [
"clc\n",
"\n",
"T=300//K\n",
"k=8.617*10^-5 //eV/K\n",
"q=1.6*10**-19 //C\n",
"A=5*10^-4//m^2\n",
"V=0.6//V\n",
"Dp=10//cm^2/sec\n",
"De=1//cm^2/sec\n",
"Dc=2//cm^2/sec\n",
"taup=10^-7//sec\n",
"taue=10^-8//sec\n",
"ND=10^17\n",
"NE=10^19\n",
"W=0.5*10^-4//cm\n",
"ni=9.65*10^9\n",
"Lp=sqrt(Dp*taup)\n",
"disp(Lp,'Lp in cm=')\n",
"pn0=ni^2/ND\n",
"disp(pn0,'pn0 in cm^-3=')\n",
"Le=sqrt(De*taue)\n",
"disp(Le,'Le in cm=')\n",
"nE0=ni^2/NE\n",
"disp(nE0,'nE0 in cm^-3=')\n",
"IEp=exp(V/(k*T))*(q*pn0*Dp*A/W)\n",
"disp(IEp,'IEp in A')\n",
"Icp=IEp\n",
"disp(Icp,'Icp in A =')\n",
"IEn=(q*nE0*De*A/10^-4)*(exp(V/(k*T))-1)\n",
"disp(IEn,'IEn in A =')\n",
"alpha0=Icp/(IEp+IEn)\n",
"disp(alpha0,'alpha0 is= ')\n",
"\n",
"\n",
"\n",
"\n",
"\n",
"\n",
"\n",
"\n",
"\n",
"\n",
"\n",
"\n",
"\n",
"\n",
"\n",
""
   ]
   }
,
{
		   "cell_type": "markdown",
		   "metadata": {},
		   "source": [
			"## Example 4.3: value_of_Iceo.sce"
		   ]
		  },
  {
"cell_type": "code",
	   "execution_count": null,
	   "metadata": {
	    "collapsed": true
	   },
	   "outputs": [],
"source": [
"clc\n",
"\n",
"T=300 //K\n",
"k=8.617*10^-5 //eV/K\n",
"q=1.6*10**-19 //C\n",
"alpha0=0.9933\n",
"Icbo=1*10^-6//A\n",
"beta0=alpha0/(1-alpha0)\n",
"disp(beta0,'beta0 =')\n",
"Iceo=(beta0+1)*Icbo\n",
"disp(Iceo,'Iceo in A =')\n",
""
   ]
   }
,
{
		   "cell_type": "markdown",
		   "metadata": {},
		   "source": [
			"## Example 4.4: base_doping.sce"
		   ]
		  },
  {
"cell_type": "code",
	   "execution_count": null,
	   "metadata": {
	    "collapsed": true
	   },
	   "outputs": [],
"source": [
"clc\n",
"\n",
"T=300 //K\n",
"k=8.617*10^-5 //eV/K\n",
"q=1.6*10**-19 //C\n",
"Ege=1.62\n",
"Egb=1.42\n",
"Nb=10^15\n",
"//beta0HBT/beta0BJT=a\n",
"a=exp((Ege-Egb)/(k*T))\n",
"disp(a,'beta0HBT/beta0BJT =')    //since the k*T value has taken as 0.025851 so the ans changes in last two digits\n",
"Nb1=Nb*a\n",
"disp(Nb1,'Nb1 in cm^-3=')     //since the ans differs in'a' so Nb1 changes"
   ]
   }
,
{
		   "cell_type": "markdown",
		   "metadata": {},
		   "source": [
			"## Example 4.5: find_current.sce"
		   ]
		  },
  {
"cell_type": "code",
	   "execution_count": null,
	   "metadata": {
	    "collapsed": true
	   },
	   "outputs": [],
"source": [
"clc\n",
"\n",
"T=300 //K\n",
"k=8.617*10^-5 //eV/K\n",
"q=1.6*10**-19 //C\n",
"I1=0.4*10^-3//A\n",
"I2=0.6*10^-3//A\n",
"alpha1=0.01\n",
"alpha2=0.9999\n",
"I=(I1+I2)/(1-alpha1)\n",
"disp(I,'I in mA')\n",
"I=(I1+I2)/(1-alpha2)\n",
"disp(I,'I in A')\n",
""
   ]
   }
],
"metadata": {
		  "kernelspec": {
		   "display_name": "Scilab",
		   "language": "scilab",
		   "name": "scilab"
		  },
		  "language_info": {
		   "file_extension": ".sce",
		   "help_links": [
			{
			 "text": "MetaKernel Magics",
			 "url": "https://github.com/calysto/metakernel/blob/master/metakernel/magics/README.md"
			}
		   ],
		   "mimetype": "text/x-octave",
		   "name": "scilab",
		   "version": "0.7.1"
		  }
		 },
		 "nbformat": 4,
		 "nbformat_minor": 0
}
