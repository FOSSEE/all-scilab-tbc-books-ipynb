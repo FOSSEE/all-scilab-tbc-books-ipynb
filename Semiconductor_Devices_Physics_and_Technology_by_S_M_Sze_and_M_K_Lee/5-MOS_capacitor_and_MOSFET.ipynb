{
"cells": [
 {
		   "cell_type": "markdown",
	   "metadata": {},
	   "source": [
       "# Chapter 5: MOS capacitor and MOSFET"
	   ]
	},
{
		   "cell_type": "markdown",
		   "metadata": {},
		   "source": [
			"## Example 5.1: maxi_width.sce"
		   ]
		  },
  {
"cell_type": "code",
	   "execution_count": null,
	   "metadata": {
	    "collapsed": true
	   },
	   "outputs": [],
"source": [
"clc\n",
"\n",
"T=300 //K\n",
"k=8.617*10^-5 //eV/K\n",
"q=1.6*10**-19 //C\n",
"NA=10^17//cm^-3\n",
"epsilonx=8.854*10^-14 //F/cm\n",
"ni=9.65*10^9//cm^-3\n",
"W=2*sqrt(11.9*epsilonx*k*T*log(NA/ni)/(q*NA))\n",
"disp(W,'W in meter =')          //textbook ans is wrong\n",
""
   ]
   }
,
{
		   "cell_type": "markdown",
		   "metadata": {},
		   "source": [
			"## Example 5.2: mini_capacitance_of_CV.sce"
		   ]
		  },
  {
"cell_type": "code",
	   "execution_count": null,
	   "metadata": {
	    "collapsed": true
	   },
	   "outputs": [],
"source": [
"clc\n",
"\n",
"T=300 //K\n",
"k=8.617*10^-5 //eV/K\n",
"q=1.6*10**-19 //C\n",
"NA=10^17//cm^-3\n",
"Wm=1*10^-5\n",
"d=5*10^-7//cm\n",
"epsilonx=8.854*10^-14 //F/cm\n",
"epsilonox=3.9 \n",
"ni=9.65*10^9//cm^-3\n",
"Co=epsilonox*epsilonx/d\n",
"disp(Co,'Co in F/cm^2 =')\n",
"Qsc=q*NA*Wm\n",
"disp(Qsc,'Qsc')    //textbook ans is wrong\n",
"psis=2*k*T*log(NA/ni)\n",
"disp(psis,'psis in V =')\n",
"Cmin=epsilonox*epsilonx/(d+(epsilonox/11.9)*Wm)\n",
"disp(Cmin,'Cmin in F/cm^2 =')"
   ]
   }
,
{
		   "cell_type": "markdown",
		   "metadata": {},
		   "source": [
			"## Example 5.3: calculate_the_flat_band_voltage.sce"
		   ]
		  },
  {
"cell_type": "code",
	   "execution_count": null,
	   "metadata": {
	    "collapsed": true
	   },
	   "outputs": [],
"source": [
"clc\n",
"\n",
"T=300 //K\n",
"k=8.617*10^-5 //eV/K\n",
"q=1.6*10**-19 //C\n",
"NA=10^17//cm^-3\n",
"d=5*10^-7//cm\n",
"Co=6.9*10^-7\n",
"Qf=5*10^11//cm^-2\n",
"Qm=0\n",
"Qot=0\n",
"epsilonx=8.854*10^-14 //F/cm\n",
"phims=-0.98 //V\n",
"Vfb=phims-(Qf*q+Qm+Qot)/Co\n",
"disp(Vfb,'Vfb in V is= ')"
   ]
   }
,
{
		   "cell_type": "markdown",
		   "metadata": {},
		   "source": [
			"## Example 5.4: change_in_flat_band.sce"
		   ]
		  },
  {
"cell_type": "code",
	   "execution_count": null,
	   "metadata": {
	    "collapsed": true
	   },
	   "outputs": [],
"source": [
"clc\n",
"\n",
"T=300 //K\n",
"k=8.617*10^-5 //eV/K\n",
"q=1.6*10**-19 //C\n",
"NA=10^17//cm^-3\n",
"d=5*10^-7//cm\n",
"Co=6.9*10^-7\n",
"Qf=5*10^11//cm^-2\n",
"Qm=0\n",
"Qot=0\n",
"epsilonox=3.9//F/cm\n",
"epsilonx=8.854*10^-14 //F/cm\n",
"deltaVfb=(q/(epsilonox*epsilonx))*[(0.5*10^18*(2*10^-6)^2)-(0.333*5*10^23*(2*10^-6)^3)]\n",
"disp(deltaVfb,'deltaVfb in V is= ')\n",
""
   ]
   }
,
{
		   "cell_type": "markdown",
		   "metadata": {},
		   "source": [
			"## Example 5.5: calculate_Vdsat.sce"
		   ]
		  },
  {
"cell_type": "code",
	   "execution_count": null,
	   "metadata": {
	    "collapsed": true
	   },
	   "outputs": [],
"source": [
"clc\n",
"\n",
"T=300 //K\n",
"k=8.617*10^-5 //eV/K\n",
"q=1.6*10**-19 //C\n",
"epsilonx=8.854*10^-14 //F/cm\n",
"ni=9.65*10^9//cm^-3\n",
"NA=10^17 //cm^-3\n",
"d=8*10^-7//cm\n",
"VG=3//V\n",
"//2*phis=p\n",
"p=0.84//V\n",
"Co=epsilonx*3.9/d\n",
"disp(Co,'Co in F/cm^2 is=')\n",
"K=sqrt((epsilonx*11.9*NA*q))/Co\n",
"disp(K,'K is=')\n",
"Vdsat=VG-p+K^2*(1-sqrt(1+(2*VG/K^2)))\n",
"disp(Vdsat,'Vdsat in V is=')\n",
""
   ]
   }
,
{
		   "cell_type": "markdown",
		   "metadata": {},
		   "source": [
			"## Example 5.6: VT_for_gate_oxide.sce"
		   ]
		  },
  {
"cell_type": "code",
	   "execution_count": null,
	   "metadata": {
	    "collapsed": true
	   },
	   "outputs": [],
"source": [
"clc\n",
"\n",
"T=300 //K\n",
"k=8.617*10^-5 //eV/K\n",
"q=1.6*10**-19 //C\n",
"epsilonx=8.854*10^-14 //F/cm\n",
"ni=9.65*10^9//cm^-3\n",
"NA=10^17 //cm^-3\n",
"d=8*10^-7//cm\n",
"VFB=-1.1//V\n",
"Co=6.9*10^-7//F/cm^2\n",
"//2*phis=p\n",
"//Qf/q=m\n",
"p=0.84//V\n",
"m=5*10^11//cm^2\n",
"VT=VFB+p+(sqrt(2*epsilonx*11.9*q*NA*p)/Co)\n",
"disp(VT,'VT in V is=')\n",
"FB=(0.62*Co)/q\n",
"disp(FB,'FB in cm^-2 is=')\n",
""
   ]
   }
,
{
		   "cell_type": "markdown",
		   "metadata": {},
		   "source": [
			"## Example 5.7: VT_for_gate_oxide.sce"
		   ]
		  },
  {
"cell_type": "code",
	   "execution_count": null,
	   "metadata": {
	    "collapsed": true
	   },
	   "outputs": [],
"source": [
"clc\n",
"\n",
"T=300 //K\n",
"k=8.617*10^-5 //eV/K\n",
"q=1.6*10**-19 //C\n",
"epsilonx=8.854*10^-14 //F/cm\n",
"ni=9.65*10^9//cm^-3\n",
"NA=10^17 //cm^-3\n",
"d=8*10^-7//cm\n",
"Co=6.9*10^-9//F/cm^2\n",
"phims=-0.98\n",
"//2*phis=p\n",
"p=0.84//V\n",
"Qf=5*10^11//cm^2\n",
"VFB=phims-(q*Qf/Co)         //texbook ans is wrong\n",
"disp(VFB,'VFB in V is=')\n",
"VT=VFB+p+(sqrt(2*epsilonx*11.9*q*NA*p)/Co)\n",
"disp(VT,'VT in V is=')         //texbook ans is wrong"
   ]
   }
,
{
		   "cell_type": "markdown",
		   "metadata": {},
		   "source": [
			"## Example 5.8: calculate_the_change_in_the_threshold_voltage.sce"
		   ]
		  },
  {
"cell_type": "code",
	   "execution_count": null,
	   "metadata": {
	    "collapsed": true
	   },
	   "outputs": [],
"source": [
"clc\n",
"\n",
"T=300 //K\n",
"k=8.617*10^-5 //eV/K\n",
"q=1.6*10**-19 //C\n",
"epsilonx=8.854*10^-14 //F/cm\n",
"ni=9.65*10^9//cm^-3\n",
"NA=10^17 //cm^-3\n",
"d=8*10^-7//cm\n",
"Co=6.9*10^-7//F/cm^2\n",
"VBS=2//V\n",
"phims=-0.98\n",
"//2*phis=p\n",
"p=0.84//V\n",
"Qf=5*10^11//cm^2\n",
"deltaVT=sqrt(2*epsilonx*11.9*q*NA)/Co*(sqrt(p+VBS)-sqrt(p))\n",
"disp(deltaVT,'deltaVT in V is= ')\n",
""
   ]
   }
],
"metadata": {
		  "kernelspec": {
		   "display_name": "Scilab",
		   "language": "scilab",
		   "name": "scilab"
		  },
		  "language_info": {
		   "file_extension": ".sce",
		   "help_links": [
			{
			 "text": "MetaKernel Magics",
			 "url": "https://github.com/calysto/metakernel/blob/master/metakernel/magics/README.md"
			}
		   ],
		   "mimetype": "text/x-octave",
		   "name": "scilab",
		   "version": "0.7.1"
		  }
		 },
		 "nbformat": 4,
		 "nbformat_minor": 0
}
