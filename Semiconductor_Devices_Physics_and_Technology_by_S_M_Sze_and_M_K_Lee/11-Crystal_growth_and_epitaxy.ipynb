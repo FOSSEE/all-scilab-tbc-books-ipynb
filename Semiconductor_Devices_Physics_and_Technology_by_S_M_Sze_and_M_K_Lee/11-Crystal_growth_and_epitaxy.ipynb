{
"cells": [
 {
		   "cell_type": "markdown",
	   "metadata": {},
	   "source": [
       "# Chapter 11: Crystal growth and epitaxy"
	   ]
	},
{
		   "cell_type": "markdown",
		   "metadata": {},
		   "source": [
			"## Example 11.1: concentration_in_boron.sce"
		   ]
		  },
  {
"cell_type": "code",
	   "execution_count": null,
	   "metadata": {
	    "collapsed": true
	   },
	   "outputs": [],
"source": [
"clc\n",
"\n",
"Cs=10^16//boron atoms/cm^3\n",
"k0=0.8\n",
"d=2.53//g/cm^3\n",
"aw=10.8//g/mol\n",
"s=60*10^3//kg\n",
"Ct=Cs/k0\n",
"disp(Ct,'Ct in boron atoms/cm^3 is= ')\n",
"v=s/d\n",
"disp(v,'v in cm^3 is= ')\n",
"tb=Ct*v\n",
"disp(tb,'tb in boron atoms is= ')\n",
"tb1=(tb*aw)/(6.02*10^23)\n",
"disp(tb1,'tb1 in g of boron is= ')"
   ]
   }
,
{
		   "cell_type": "markdown",
		   "metadata": {},
		   "source": [
			"## Example 11.3: time_required.sce"
		   ]
		  },
  {
"cell_type": "code",
	   "execution_count": null,
	   "metadata": {
	    "collapsed": true
	   },
	   "outputs": [],
"source": [
"clc\n",
"\n",
"T=300//K\n",
"M=3.64//Armstrong\n",
"Nx=(7.54*10^14)//cm^-2\n",
"P1=1//Pa\n",
"t1=(Nx*sqrt(M*T))/(2.64*10^20*P1)\n",
"disp(t1,'t1 at 1Pa in ms is= ')    //textbook ans is wrong\n",
"P2=10^-4//Pa\n",
"t2=(Nx*sqrt(M*T))/(2.64*10^20*P2)\n",
"disp(t2,'t2 at 10^-4Pa in s is= ')    //textbook ans is wrong\n",
"P3=10^-8//Pa\n",
"t3=(Nx*sqrt(M*T))/(2.64*10^20*P3)\n",
"disp(t3,'t3 at 10^-8Pa in hr is= ')    //textbook ans is wrong"
   ]
   }
,
{
		   "cell_type": "markdown",
		   "metadata": {},
		   "source": [
			"## Example 11.4: growth_rate.sce"
		   ]
		  },
  {
"cell_type": "code",
	   "execution_count": null,
	   "metadata": {
	    "collapsed": true
	   },
	   "outputs": [],
"source": [
"clc\n",
"\n",
"A=5//cm^2\n",
"L=10//cm\n",
"T=1173//K\n",
"d=6*10^14//cm^-2\n",
"P=5.5*10^-2//Pa\n",
"M=69.72       //for Ga\n",
"Ar=(2.64*10^20*P*A)/(sqrt(M*T)*%pi*L^2)\n",
"disp(Ar,'Ar in molecules /cm^2 is= ')\n",
"M1=74.92*2       //for As2\n",
"Ar1=(2.64*10^20*P*A)/(sqrt(M1*T)*%pi*L^2)\n",
"disp(Ar1,'Ar1 in molecules /cm^2 is= ')    // textbook ans is wrong\n",
"Gr=(Ar*2.8)/d\n",
"disp(Gr,'Gr in sec/min is= ')        //for Ga     textbook ans is wrong\n",
""
   ]
   }
],
"metadata": {
		  "kernelspec": {
		   "display_name": "Scilab",
		   "language": "scilab",
		   "name": "scilab"
		  },
		  "language_info": {
		   "file_extension": ".sce",
		   "help_links": [
			{
			 "text": "MetaKernel Magics",
			 "url": "https://github.com/calysto/metakernel/blob/master/metakernel/magics/README.md"
			}
		   ],
		   "mimetype": "text/x-octave",
		   "name": "scilab",
		   "version": "0.7.1"
		  }
		 },
		 "nbformat": 4,
		 "nbformat_minor": 0
}
