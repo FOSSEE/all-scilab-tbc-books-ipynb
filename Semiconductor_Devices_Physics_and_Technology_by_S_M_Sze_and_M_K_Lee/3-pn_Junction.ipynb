{
"cells": [
 {
		   "cell_type": "markdown",
	   "metadata": {},
	   "source": [
       "# Chapter 3: pn Junction"
	   ]
	},
{
		   "cell_type": "markdown",
		   "metadata": {},
		   "source": [
			"## Example 3.10: electrostatic_potential.sce"
		   ]
		  },
  {
"cell_type": "code",
	   "execution_count": null,
	   "metadata": {
	    "collapsed": true
	   },
	   "outputs": [],
"source": [
"clc\n",
"\n",
"T=300 //K\n",
"k=8.617*10^-5 //eV/K\n",
"q=1.6*10**-19 //C\n",
"N1=1*10^16//cm^-3\n",
"N2=3*10^19//cm^-3\n",
"Vbi=1.6//V\n",
"epsilon1=12\n",
"epsilon2=13\n",
"epsilonx=8.854*10^-14 //F/cm\n",
"Vb1=(epsilon2*N2*Vbi)/(epsilon1*N1+epsilon2*N2)\n",
"disp(Vb1,'Vb1 in V=')\n",
"Vb2=(epsilon1*N1*Vbi)/(epsilon1*N1+epsilon2*N2)\n",
"disp(Vb2,'Vb2 in V=')\n",
"x1=sqrt((2*epsilon1*epsilon2*N2*Vbi)/(q*N1*(epsilon1*N1+epsilon2*N2)))              //textbook ans is wrong\n",
"disp(x1,'x1 in cm=')\n",
"x2=sqrt([2*epsilon1*epsilon2*N1*Vbi]/[q*N2*(epsilon1*N1+epsilon2*N2)])\n",
"disp(x2,'x2 in cm=')    //texbook ans is wrong"
   ]
   }
,
{
		   "cell_type": "markdown",
		   "metadata": {},
		   "source": [
			"## Example 3.1: calculate_the_built_in_potential.sce"
		   ]
		  },
  {
"cell_type": "code",
	   "execution_count": null,
	   "metadata": {
	    "collapsed": true
	   },
	   "outputs": [],
"source": [
"clc\n",
"\n",
"T=300 //K\n",
"k=8.617*10^-5 //eV/K\n",
"q=1.6*10**-19 //C\n",
"NA=10^18 //cm^-3\n",
"ND=10^15//cm^-3\n",
"ni=9.65*10^9\n",
"Vbi=(k*T)*log(NA*ND/ni^2)\n",
"disp(Vbi,'the built in potential in V=')"
   ]
   }
,
{
		   "cell_type": "markdown",
		   "metadata": {},
		   "source": [
			"## Example 3.2: depletion_layer_width.sce"
		   ]
		  },
  {
"cell_type": "code",
	   "execution_count": null,
	   "metadata": {
	    "collapsed": true
	   },
	   "outputs": [],
"source": [
"clc\n",
"\n",
"T=300 //K\n",
"k=8.617*10^-5 //eV/K\n",
"q=1.6*10**-19 //C\n",
"NA=10^19 //cm^-3\n",
"ND=10^16//cm^-3\n",
"ni=9.65*10^9\n",
"epsilonx=8.854*10^-12 //F/m\n",
"Vbi=(k*T)*log(NA*ND/ni^2)\n",
"disp(Vbi,'the built in potential in V=')\n",
"W=sqrt(2*Vbi/q*ND)\n",
"disp(W,'W in cm =')          // ans in textbook is wrong \n",
"epsilonm=((q*ND*W))\n",
"disp(epsilonm,'epsilonm in V/cm') // ans in textbook is wrong"
   ]
   }
,
{
		   "cell_type": "markdown",
		   "metadata": {},
		   "source": [
			"## Example 3.3: depletion_layer_width.sce"
		   ]
		  },
  {
"cell_type": "code",
	   "execution_count": null,
	   "metadata": {
	    "collapsed": true
	   },
	   "outputs": [],
"source": [
"clc\n",
"\n",
"T=300 //K\n",
"k=8.617*10^-5 //eV/K\n",
"q=1.6*10**-19 //C\n",
"a=10^20// cm^-4\n",
"W=0.809*10^-4\n",
"epsilonx=8.85*10^-14\n",
"epsilonm=((q*a*W^2)/(8*epsilonx*11.9))\n",
"disp(epsilonm,'epsilonm in V/cm =')"
   ]
   }
,
{
		   "cell_type": "markdown",
		   "metadata": {},
		   "source": [
			"## Example 3.4: calculate_the_junction_capacitance.sce"
		   ]
		  },
  {
"cell_type": "code",
	   "execution_count": null,
	   "metadata": {
	    "collapsed": true
	   },
	   "outputs": [],
"source": [
"clc\n",
"\n",
"T=300 //K\n",
"k=8.617*10^-5 //eV/K\n",
"q=1.6*10**-19 //C\n",
"NA=2*10^19 //cm^-3\n",
"ND=8*10^15 //cm^-3\n",
"V=4//V\n",
"ni=9.65*10^9\n",
"epsilonx=8.854*10^-14 //F/cm\n",
"Vbi=(k*T)*log(NA*ND/ni^2)\n",
"disp(Vbi,'the built in potential in V=')\n",
"W=sqrt((2*Vbi*11.9*epsilonx)/(q*ND))\n",
"disp(W,'W in cm =')          // ans in textbook is wrong \n",
"Cj=sqrt((q*epsilonx*11.9*ND)/(2*Vbi))\n",
"disp(Cj,'Cj in F/cm^2 =')\n",
"W1=sqrt((2*(Vbi+V)*11.9*epsilonx)/(q*ND))\n",
"disp(W1,'W1 in cm=')\n",
"Cj1=sqrt((q*epsilonx*11.9*ND)/(2*(Vbi+V)))\n",
"disp(Cj1,'Cj1 in F/cm^2')"
   ]
   }
,
{
		   "cell_type": "markdown",
		   "metadata": {},
		   "source": [
			"## Example 3.5: ideal_reverse_saturation_current.sce"
		   ]
		  },
  {
"cell_type": "code",
	   "execution_count": null,
	   "metadata": {
	    "collapsed": true
	   },
	   "outputs": [],
"source": [
"clc\n",
"\n",
"T=300 //K\n",
"k=8.617*10^-5 //eV/K\n",
"q=1.6*10**-19 //C\n",
"NA=5*10^16 //cm^-3\n",
"ND=10^16 //cm^-3\n",
"A=2*10^-4//cm^2\n",
"V=4//V\n",
"ni=9.65*10^9//cm^-3\n",
"epsilonx=8.854*10^-14 //F/cm\n",
"Dn=21//cm^2/sec\n",
"Dp=10//cm^2/sec\n",
"taup=5*10^-7//sec\n",
"taun=5*10^-7//sec\n",
"Lp=sqrt(Dp*taup)\n",
"Js=q*ni^2*[(1/ND)*sqrt(Dp/taup)+(1/NA)*sqrt(Dn/taun)]\n",
"disp(Js,'Js in A/cm=')\n",
"Is=A*Js\n",
"disp(Is,'Is in A =')\n",
""
   ]
   }
,
{
		   "cell_type": "markdown",
		   "metadata": {},
		   "source": [
			"## Example 3.6: generation_current_density.sce"
		   ]
		  },
  {
"cell_type": "code",
	   "execution_count": null,
	   "metadata": {
	    "collapsed": true
	   },
	   "outputs": [],
"source": [
"clc\n",
"\n",
"T=300 //K\n",
"k=8.617*10^-5 //eV/K\n",
"q=1.6*10**-19 //C\n",
"NA=5*10^16 //cm^-3\n",
"ND=10^16 //cm^-3\n",
"A=2*10^-4//cm^2\n",
"V=4//V\n",
"taug=5*10^-7\n",
"ni=9.65*10^9//cm^-3\n",
"epsilonx=8.854*10^-14 //F/cm\n",
"W=sqrt((2*epsilonx*11.9/q)*[(NA+ND)/(NA*ND)]*[(k*T/q)*log(NA*ND/ni^2)+V])          //value of V is not substituted in textbook\n",
"disp(W,'W in cm=')\n",
"Jgen=(q*ni*W/taug)\n",
"disp(Jgen,'Jgen in A/cm^2')          //value of V is not substituted in textbook"
   ]
   }
,
{
		   "cell_type": "markdown",
		   "metadata": {},
		   "source": [
			"## Example 3.7: stored_minority_carriers.sce"
		   ]
		  },
  {
"cell_type": "code",
	   "execution_count": null,
	   "metadata": {
	    "collapsed": true
	   },
	   "outputs": [],
"source": [
"clc\n",
"\n",
"T=300 //K\n",
"k=8.617*10^-5 //eV/K\n",
"q=1.6*10**-19 //C\n",
"Lp=5*10^-4\n",
"V=1//V\n",
"ND=8*10^15 //cm^-3\n",
"ni=9.65*10^9//cm^-3\n",
"epsilonx=8.854*10^-14 //F/cm\n",
"Qp=q*Lp*(ni^2/ND)*(exp(V/(k*T))-1)\n",
"disp(Qp,'Qp in C/cm^2')   //textbook ans is wrong"
   ]
   }
,
{
		   "cell_type": "markdown",
		   "metadata": {},
		   "source": [
			"## Example 3.8: breakdown_voltage.sce"
		   ]
		  },
  {
"cell_type": "code",
	   "execution_count": null,
	   "metadata": {
	    "collapsed": true
	   },
	   "outputs": [],
"source": [
"clc\n",
"\n",
"T=300 //K\n",
"k=8.617*10^-5 //eV/K\n",
"q=1.6*10**-19 //C\n",
"ND=5*10^16//cm^-3\n",
"epsilonx=8.854*10^-14 //F/cm\n",
"epsilonc=5.7*10^5//F/cm\n",
"Vb=(epsilonx*11.9*epsilonc^2)/(ND*2*q)\n",
"disp(Vb,'Vb breakdown in V=')"
   ]
   }
,
{
		   "cell_type": "markdown",
		   "metadata": {},
		   "source": [
			"## Example 3.9: breakdown_voltage.sce"
		   ]
		  },
  {
"cell_type": "code",
	   "execution_count": null,
	   "metadata": {
	    "collapsed": true
	   },
	   "outputs": [],
"source": [
"clc\n",
"\n",
"T=300 //K\n",
"k=8.617*10^-5 //eV/K\n",
"q=1.6*10**-19 //C\n",
"ND=8*10^14//cm^-3\n",
"Vb=500 //V\n",
"W=20*10^-6//m\n",
"epsilonx=8.854*10^-14 //F/cm\n",
"Wm=sqrt((2*epsilonx*12.4*Vb)/(q*ND))\n",
"Wm1=Wm*10^-2          //to convert into micrometer\n",
"disp(Wm1,'W in meter=')\n",
"Vb1=Vb*(W/Wm1)*(2-W/Wm1)\n",
"disp(Vb1,'Vb1 in V=')"
   ]
   }
],
"metadata": {
		  "kernelspec": {
		   "display_name": "Scilab",
		   "language": "scilab",
		   "name": "scilab"
		  },
		  "language_info": {
		   "file_extension": ".sce",
		   "help_links": [
			{
			 "text": "MetaKernel Magics",
			 "url": "https://github.com/calysto/metakernel/blob/master/metakernel/magics/README.md"
			}
		   ],
		   "mimetype": "text/x-octave",
		   "name": "scilab",
		   "version": "0.7.1"
		  }
		 },
		 "nbformat": 4,
		 "nbformat_minor": 0
}
