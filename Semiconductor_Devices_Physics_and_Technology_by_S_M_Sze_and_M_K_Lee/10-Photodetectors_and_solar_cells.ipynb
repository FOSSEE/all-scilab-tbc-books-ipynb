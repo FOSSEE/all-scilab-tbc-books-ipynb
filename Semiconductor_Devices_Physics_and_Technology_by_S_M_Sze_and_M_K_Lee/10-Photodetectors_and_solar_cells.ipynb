{
"cells": [
 {
		   "cell_type": "markdown",
	   "metadata": {},
	   "source": [
       "# Chapter 10: Photodetectors and solar cells"
	   ]
	},
{
		   "cell_type": "markdown",
		   "metadata": {},
		   "source": [
			"## Example 10.1: photocurrent.sce"
		   ]
		  },
  {
"cell_type": "code",
	   "execution_count": null,
	   "metadata": {
	    "collapsed": true
	   },
	   "outputs": [],
"source": [
"clc\n",
"\n",
"Popt=5*10^12//phtons/sec\n",
"n=0.8\n",
"un=2500//cm^2/Vs\n",
"epsilon=5000//V/cm\n",
"L=10*10^-4//cm\n",
"q=1.6*10**-19 //C\n",
"tau=5*10^-10//sec\n",
"Ip=q*n*Popt*(un*tau*epsilon)/L\n",
"disp(Ip,'Ip in A is= ')\n",
"gain=(un*tau*epsilon)/L\n",
"disp(gain,'gain is= ')\n",
""
   ]
   }
,
{
		   "cell_type": "markdown",
		   "metadata": {},
		   "source": [
			"## Example 10.2: depth.sce"
		   ]
		  },
  {
"cell_type": "code",
	   "execution_count": null,
	   "metadata": {
	    "collapsed": true
	   },
	   "outputs": [],
"source": [
"clc\n",
"\n",
"alpha=10^4//cm^-1\n",
"R=0.1\n",
"Px=1\n",
"P0=2\n",
"x=(-1/alpha)*log(Px/(P0*(1-R)))\n",
"disp(x,'x in meter is =')"
   ]
   }
,
{
		   "cell_type": "markdown",
		   "metadata": {},
		   "source": [
			"## Example 10.3: responsivity.sce"
		   ]
		  },
  {
"cell_type": "code",
	   "execution_count": null,
	   "metadata": {
	    "collapsed": true
	   },
	   "outputs": [],
"source": [
"clc\n",
"\n",
"Ip=3*10^-4//mA\n",
"I0=0.2//*\n",
"h=6.62*10^-34//Jsec\n",
"q=1.6*10^-19//C\n",
"c=3*10^8//m/sec\n",
"lambda=80*10^-9//m\n",
"Popt=%pi*(0.03)^2*I0\n",
"disp(Popt,'Popt in Watt is= ')\n",
"R=Ip/Popt\n",
"disp(R,'R in A/W is= ')\n",
"n=R*(h*c/(q*lambda))\n",
"disp(n,'n in % is= ')  //textbook ans is wrong"
   ]
   }
,
{
		   "cell_type": "markdown",
		   "metadata": {},
		   "source": [
			"## Example 10.4: air_mass.sce"
		   ]
		  },
  {
"cell_type": "code",
	   "execution_count": null,
	   "metadata": {
	    "collapsed": true
	   },
	   "outputs": [],
"source": [
"clc\n",
"\n",
"s=1.118//m\n",
"h=1.00//m\n",
"a=sqrt(1+(s/h)^2)\n",
"disp(a,'a is= ')"
   ]
   }
,
{
		   "cell_type": "markdown",
		   "metadata": {},
		   "source": [
			"## Example 10.5: open_circuit_voltage.sce"
		   ]
		  },
  {
"cell_type": "code",
	   "execution_count": null,
	   "metadata": {
	    "collapsed": true
	   },
	   "outputs": [],
"source": [
"clc\n",
"\n",
"T=300 //K\n",
"k=8.617*10^-5 //eV/K\n",
"q=1.6*10**-19 //C\n",
"I=10^9//A\n",
"Is=1*10^-9//A\n",
"V=0.35//V\n",
"IL=100*10^-3//A\n",
"Voc=k*T*log(IL/Is)\n",
"disp(Voc,'Voc in V is= ')\n",
"P=I*V*exp((V/(k*T))-1)*IL*V\n",
"disp(P,'P in watt is= ')        //textbook ans is not printed proper"
   ]
   }
],
"metadata": {
		  "kernelspec": {
		   "display_name": "Scilab",
		   "language": "scilab",
		   "name": "scilab"
		  },
		  "language_info": {
		   "file_extension": ".sce",
		   "help_links": [
			{
			 "text": "MetaKernel Magics",
			 "url": "https://github.com/calysto/metakernel/blob/master/metakernel/magics/README.md"
			}
		   ],
		   "mimetype": "text/x-octave",
		   "name": "scilab",
		   "version": "0.7.1"
		  }
		 },
		 "nbformat": 4,
		 "nbformat_minor": 0
}
