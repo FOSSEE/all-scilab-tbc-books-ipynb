{
"cells": [
 {
		   "cell_type": "markdown",
	   "metadata": {},
	   "source": [
       "# Chapter 29: Solved Problems"
	   ]
	},
{
		   "cell_type": "markdown",
		   "metadata": {},
		   "source": [
			"## Example 29.100: determine_CNu_and_CNd_and_CN.sce"
		   ]
		  },
  {
"cell_type": "code",
	   "execution_count": null,
	   "metadata": {
	    "collapsed": true
	   },
	   "outputs": [],
"source": [
"//Ex:100\n",
"clc;\n",
"clear;\n",
"close;\n",
"p_c=10*log(200)/log(10);// carrier power in db\n",
"g_t=57.6;// transmit gain in db\n",
"B_oi=0;// in db\n",
"e_s=p_c+g_t+B_oi;//satellite saturation EIRP in dbW\n",
"k=10*(log(1.38)/log(10)-23*log(10)/log(10));// Boltzmann's const in db\n",
"B=10*log(36000000)/log(10);// in db\n",
"L=1.5;// in db\n",
"s=20*log((4*3.14*14*(10^9)*37000*(10^3))/(3*(10^8)))/log(10);\n",
"g_t=1.6;// in db\n",
"c_nu=e_s-s+g_t-k-B-B_oi-L;\n",
"G=56.3;// in db\n",
"g_td=G-10*log(160)/log(10);\n",
"L1=1;// in db\n",
"e_s1=44;// in db\n",
"s1=20*log((4*3.14*12*(10^9)*37000*(10^3))/(3*(10^8)))/log(10);\n",
"c_nd=e_s1-s1+g_td-k-B-B_oi-L1;\n",
"c_u=10^(27/10);\n",
"c_d=10^(24.9/10);\n",
"c_n=(c_u*c_d)/(c_u+c_d);\n",
"printf('The uplink carrier to noise ratio=%f db', c_nu);\n",
"printf('\n The downlink carrier to noise ratio=%f db', c_nd);\n",
"printf('\n The carrier to noise ratio=%f db', 10*log(c_n)/log(10));"
   ]
   }
,
{
		   "cell_type": "markdown",
		   "metadata": {},
		   "source": [
			"## Example 29.101: Determine_the_carrier_EIRP_required_to_saturate_the_satellite_TWTA.sce"
		   ]
		  },
  {
"cell_type": "code",
	   "execution_count": null,
	   "metadata": {
	    "collapsed": true
	   },
	   "outputs": [],
"source": [
"//Ex:101\n",
"clc;\n",
"clear;\n",
"close;\n",
"p_t=10*log(500)/log(10);// in dbW\n",
"g_t=60;// in dbW\n",
"e_irp=p_t+g_t;\n",
"e_p=ceil(e_irp);\n",
"B_oi=1;//  input back_off in db\n",
"e_s=e_p+B_oi;//saturation EIRP in dbW\n",
"printf('The saturation EIRP=%d dbW', e_s);"
   ]
   }
,
{
		   "cell_type": "markdown",
		   "metadata": {},
		   "source": [
			"## Example 29.102: Determine_the_satellite_EIRP_for_the_retransmitted_carrier.sce"
		   ]
		  },
  {
"cell_type": "code",
	   "execution_count": null,
	   "metadata": {
	    "collapsed": true
	   },
	   "outputs": [],
"source": [
" //Ex:102\n",
"clc;\n",
"clear;\n",
"close;\n",
"B_o=10*log(2)/log(10);// in db\n",
"b_o=floor(B_o);\n",
"e_ps=50;// in db\n",
"e_irps=e_ps-b_o;// satellite EIRP in db\n",
"printf('The satellite EIRP for the retransmitted carrier=%d dbW', e_irps);"
   ]
   }
,
{
		   "cell_type": "markdown",
		   "metadata": {},
		   "source": [
			"## Example 29.103: EX29_103.sce"
		   ]
		  },
  {
"cell_type": "code",
	   "execution_count": null,
	   "metadata": {
	    "collapsed": true
	   },
	   "outputs": [],
"source": [
"//Ex:103\n",
"clc;\n",
"clear;\n",
"close;\n",
"b=85-25;// in degree\n",
"r=42164;//orbit radius in km\n",
"d_a=38000;// in km\n",
"d_b=36000;// in km\n",
"x=1-cos(b*3.14/180);\n",
"y=acos((d_a^2+d_b^2-2*r*r*x)/(2*d_a*d_b))// in radian\n",
"z=y*180/3.14;// in degree\n",
"d=1.4149*r*sqrt(x);\n",
"printf('The angular separation of the two satellites=%f degree', z);\n",
"printf('\n The separation distance of the two satellites=%f km', d);"
   ]
   }
,
{
		   "cell_type": "markdown",
		   "metadata": {},
		   "source": [
			"## Example 29.104: Determine_the_angular_separation_and_separation_distance.sce"
		   ]
		  },
  {
"cell_type": "code",
	   "execution_count": null,
	   "metadata": {
	    "collapsed": true
	   },
	   "outputs": [],
"source": [
"//Ex:104\n",
"clc;\n",
"clear;\n",
"close;\n",
"b=30-25;// in degree\n",
"r=42164;//orbit radius in km\n",
"d_a=38000;// in km\n",
"d_b=36000;// in km\n",
"x=1-cos(b*3.14/180);\n",
"y=acos((d_a^2+d_b^2-2*r*r*x)/(2*d_a*d_b))// in radian\n",
"z=y*180/3.14;// in degree\n",
"d=1.414*r*sqrt(1-0.996);\n",
"D=1.414*r*0.063;\n",
"printf('The angular separation of the two satellites=%f degree', z);\n",
"printf('\n The separation distance of the two satellites=%f km', D);"
   ]
   }
,
{
		   "cell_type": "markdown",
		   "metadata": {},
		   "source": [
			"## Example 29.105: EX29_105.sce"
		   ]
		  },
  {
"cell_type": "code",
	   "execution_count": null,
	   "metadata": {
	    "collapsed": true
	   },
	   "outputs": [],
"source": [
"//Ex:105\n",
"clc;\n",
"clear;\n",
"close;\n",
"u=0.55;//efficiency\n",
"f=14*10^9;// in hz\n",
"D=5;// in m\n",
"c=3*10^8;// speed of light in m/s\n",
"g=(u*(%pi*f*D)^2)/(c*c);//antenna gain\n",
"G=10*log(g)/log(10);//antenna gain in db\n",
"p_amp=26.98;// in db\n",
"b_o=3;// in db\n",
"p_op=p_amp-b_o;// in db\n",
"l_w=0.5;// in db\n",
"p_f=p_op-l_w;// in db\n",
"e_irp=p_op+G;// in db\n",
"e=23.48+54.7;// in db\n",
"e_p=10^(e/10);\n",
"R=42164;// in km\n",
"r=6378;// in km\n",
"E=41;// in degree\n",
"q=E+asin((r*(cos(E*3.14/180))/R)*180/3.14);\n",
"q1=47.55;\n",
"d=(R*R)+(r*r)-2*R*r*sin(q1*3.14/180);\n",
"d1=sqrt(d);\n",
"d_f=(e_p)/(4*%pi*d);\n",
"printf('Power flux density=%e W/sq.m', d_f/1000000);"
   ]
   }
,
{
		   "cell_type": "markdown",
		   "metadata": {},
		   "source": [
			"## Example 29.106: Determine_the_theoritical_max_area_of_the_earth_surface.sce"
		   ]
		  },
  {
"cell_type": "code",
	   "execution_count": null,
	   "metadata": {
	    "collapsed": true
	   },
	   "outputs": [],
"source": [
"//Ex:106\n",
"clc;\n",
"clear;\n",
"close;\n",
"R_e=6378;//in km\n",
"H=35786;// in km\n",
"l=R_e/(R_e+H);\n",
"m=asin(l);// in rad\n",
"a=m*180/3.14;// in degree\n",
"x=90-8.7;// in degree\n",
"o_c=R_e*sin(a*3.14/180);// dis OC in the given triangle AOC IN KM\n",
"h=R_e-o_c;//in km\n",
"E=10;// in degree\n",
"y=90-a-E;// in degree\n",
"O_C=R_e*sin(18.56*3.14/180);\n",
"O_C1=ceil(O_C);// the newvalue of OC in km\n",
"h1=R_e-O_C1;// The new value of H in km\n",
"a_r=2*3.14*R_e*h1;//in sq.km\n",
"printf('The covered area=%d sq.km', a_r);"
   ]
   }
,
{
		   "cell_type": "markdown",
		   "metadata": {},
		   "source": [
			"## Example 29.107: EX29_107.sce"
		   ]
		  },
  {
"cell_type": "code",
	   "execution_count": null,
	   "metadata": {
	    "collapsed": true
	   },
	   "outputs": [],
"source": [
"//Ex:107\n",
"clc;\n",
"clear;\n",
"close;\n",
"R_e=6378;//in km\n",
"h1=5413.26;// in km when E=0 degree\n",
"h2=4348;// in km when E=10 degree\n",
"a_r1=h1*100/(2*R_e);// percentage of area covered\n",
"a_r2=h2*100/(2*R_e);//percentage of area covered\n",
"printf('The percentage of area covered when E=0 degree=%f %%', a_r1);\n",
"printf('\n The percentage of area covered when E=0 degree=%f %%', a_r2);"
   ]
   }
,
{
		   "cell_type": "markdown",
		   "metadata": {},
		   "source": [
			"## Example 29.108: EX29_108.sce"
		   ]
		  },
  {
"cell_type": "code",
	   "execution_count": null,
	   "metadata": {
	    "collapsed": true
	   },
	   "outputs": [],
"source": [
"//Ex:108\n",
"clc;\n",
"clear;\n",
"close;\n",
"g_gc=10^(50/10);\n",
"a_c=4.5;// coverage angle in degree\n",
"a_b=17.34;// beam angle in degree\n",
"g_sb=g_gc*(a_b/a_c)^2;\n",
"printf('The gain of spot beam antenna=%f db', 10*log(g_sb)/log(10));"
   ]
   }
,
{
		   "cell_type": "markdown",
		   "metadata": {},
		   "source": [
			"## Example 29.10: calculate_the_dimension_of_a_reflector_antenna.sce"
		   ]
		  },
  {
"cell_type": "code",
	   "execution_count": null,
	   "metadata": {
	    "collapsed": true
	   },
	   "outputs": [],
"source": [
"//Ex:10\n",
"clc;\n",
"clear;\n",
"close;\n",
"y=0.0272;//Wavelength in meter\n",
"db_x=6-2;//Bandwidth of an aperture antenna in degree\n",
"d=75*y/db_x;//dimension in m\n",
"printf('Dimension of an antenna=%f meter',d);"
   ]
   }
,
{
		   "cell_type": "markdown",
		   "metadata": {},
		   "source": [
			"## Example 29.11: Determine_the_receive_power.sce"
		   ]
		  },
  {
"cell_type": "code",
	   "execution_count": null,
	   "metadata": {
	    "collapsed": true
	   },
	   "outputs": [],
"source": [
"//Ex:11\n",
"clc;\n",
"clear;\n",
"close;\n",
"eirp=21;//Eirp in db\n",
"g_r=50.5;//Receiving antenna gain in db\n",
"y=2.727*10^(-2);//Wavelength in m\n",
"h=4*10^7;//Height in m\n",
"p_l=20*log(4*%pi*h/y)/log(10);//Path loss in db\n",
"p_r=eirp+g_r-p_l;//received power in db\n",
"printf('Received power =%f db',p_r);"
   ]
   }
,
{
		   "cell_type": "markdown",
		   "metadata": {},
		   "source": [
			"## Example 29.12: Calculate_the_received_power_at_earth_statio.sce"
		   ]
		  },
  {
"cell_type": "code",
	   "execution_count": null,
	   "metadata": {
	    "collapsed": true
	   },
	   "outputs": [],
"source": [
"//Ex:12\n",
"clc;\n",
"clear;\n",
"close;\n",
"p_t=13;//Tranponder output power in db w\n",
"b_t=1;//Transponder output backoff in db\n",
"g_t=30;//satellite antenna gain in db\n",
"g_r=59.2;//Earth station antenna gain in db\n",
"l_fs=195;//Free space loss in db\n",
"l_a=-2;//Edge of beam loss in db\n",
"l_air=0.2;//Air atmospheric loss in db\n",
"l_o=0.4;//Other losses in db\n",
"p_r=p_t+g_t+g_r-b_t-l_fs-l_a-l_air-l_o;//Received power in db w\n",
"printf('received power=%f db watt',p_r);"
   ]
   }
,
{
		   "cell_type": "markdown",
		   "metadata": {},
		   "source": [
			"## Example 29.13: Find_the_downlink_noise_power_budget.sce"
		   ]
		  },
  {
"cell_type": "code",
	   "execution_count": null,
	   "metadata": {
	    "collapsed": true
	   },
	   "outputs": [],
"source": [
"//Ex:13\n",
"clc;\n",
"clear;\n",
"close;\n",
"k=-228.6;//Boltzman;s const in dbW/k/Hz\n",
"t_s=18.8;//System temp noise in db\n",
"b_n=74.3;//Noise bandwidth in db\n",
"n_r=k+b_n+t_s;//Receiver noise power in db watt\n",
"printf('Receiver noise power=%f db watt',n_r);"
   ]
   }
,
{
		   "cell_type": "markdown",
		   "metadata": {},
		   "source": [
			"## Example 29.14: Find_CN_ratio_in_the_receiver_in_clear_air.sce"
		   ]
		  },
  {
"cell_type": "code",
	   "execution_count": null,
	   "metadata": {
	    "collapsed": true
	   },
	   "outputs": [],
"source": [
"//Ex:14\n",
"clc;\n",
"clear;\n",
"close;\n",
"p_r=-96.4;//Received power in db watt\n",
"n_r=-135.5;//Receiver noise power in db watt\n",
"cn_r=p_r-n_r;//C/N ratio in db watt\n",
"printf('C/N ratio=%f db watt',cn_r);"
   ]
   }
,
{
		   "cell_type": "markdown",
		   "metadata": {},
		   "source": [
			"## Example 29.15: Find_the_earth_station_GT_ratio.sce"
		   ]
		  },
  {
"cell_type": "code",
	   "execution_count": null,
	   "metadata": {
	    "collapsed": true
	   },
	   "outputs": [],
"source": [
"//Ex:15\n",
"clc;\n",
"clear;\n",
"close;\n",
"n_a=0.68;//Overall eficiency\n",
"d=30;//Diameter in m\n",
"f=4150*10^6;//Frequency in Hz\n",
"c=3*10^8;//Speed of light in m\n",
"y=c/f;//Wavelength in m\n",
"G_a=n_a*%pi^2*d^2/y^2;\n",
"G=10*log(G_a)/log(10);\n",
"t=19;// in db\n",
"printf('G/T ratio =%f db/k',G-t);"
   ]
   }
,
{
		   "cell_type": "markdown",
		   "metadata": {},
		   "source": [
			"## Example 29.16: Calculate_the_new_GT_ratio.sce"
		   ]
		  },
  {
"cell_type": "code",
	   "execution_count": null,
	   "metadata": {
	    "collapsed": true
	   },
	   "outputs": [],
"source": [
"//Ex:16\n",
"clc;\n",
"clear;\n",
"close;\n",
"t_s=10*log(88)/log(10);// in dbk\n",
"G=60.6;// in db\n",
"printf('G/T ratio =%f dbk',G-t_s);"
   ]
   }
,
{
		   "cell_type": "markdown",
		   "metadata": {},
		   "source": [
			"## Example 29.17: EX29_17.sce"
		   ]
		  },
  {
"cell_type": "code",
	   "execution_count": null,
	   "metadata": {
	    "collapsed": true
	   },
	   "outputs": [],
"source": [
"//Ex:17\n",
"clc;\n",
"clear;\n",
"close;\n",
"a=0.4;// roll_off factor\n",
"m=1;// for BPSK\n",
"B=36*m;\n",
"r_s=B/(1+a);// max bit rate in Mbps\n",
"printf('The max bit rate=%f Mbit/sec',r_s);"
   ]
   }
,
{
		   "cell_type": "markdown",
		   "metadata": {},
		   "source": [
			"## Example 29.18: calculate_the_max_bit_rate_that_can_be_sent_through_this_transponder_with_QPSK.sce"
		   ]
		  },
  {
"cell_type": "code",
	   "execution_count": null,
	   "metadata": {
	    "collapsed": true
	   },
	   "outputs": [],
"source": [
"//Ex:18\n",
"clc;\n",
"clear;\n",
"close;\n",
"a=0.4;// roll_off factor\n",
"m=2;// for QPSK\n",
"B=36*m;\n",
"r_s=B/(1+a);// max bit rate in Mbps\n",
"printf('The max bit rate=%f Mbit/sec',r_s);"
   ]
   }
,
{
		   "cell_type": "markdown",
		   "metadata": {},
		   "source": [
			"## Example 29.19: Find_the_value_of_overall_CN_at_the_earth_station.sce"
		   ]
		  },
  {
"cell_type": "code",
	   "execution_count": null,
	   "metadata": {
	    "collapsed": true
	   },
	   "outputs": [],
"source": [
"//Ex:19\n",
"clc;\n",
"clear;\n",
"close;\n",
"c_nu=316.22;//25;//c/n ratio for earth station\n",
"c_nd=100;//20;//c/n ratio from a transponder\n",
"c_n=1/((c_nu)^(-1)+(c_nd^(-1)));//overall c/n ratio\n",
"printf('The overall c/n ratio=%f db ',c_n);\n",
"c_ndb=10*log(c_n)/log(10);//overall c/n ratio in db\n",
"printf('\n The overall c/n ratio=%f db', c_ndb);"
   ]
   }
,
{
		   "cell_type": "markdown",
		   "metadata": {},
		   "source": [
			"## Example 29.1: Calculate_the_radius_of_geostationary_satellite.sce"
		   ]
		  },
  {
"cell_type": "code",
	   "execution_count": null,
	   "metadata": {
	    "collapsed": true
	   },
	   "outputs": [],
"source": [
"//Ex:1\n",
"clc;\n",
"clear;\n",
"close;\n",
"u=3.986*10^5;//kepler's const in km^3sec^(-2)\n",
"T_P=86164.09;// time period of earth in sec\n",
"a=(T_P^2*(u/(4*%pi*%pi)))^(1/3);\n",
"printf('Radius of geostationary satellite = %d kilometer',a);"
   ]
   }
,
{
		   "cell_type": "markdown",
		   "metadata": {},
		   "source": [
			"## Example 29.20: Calculate_the_power_output_of_an_uplink_transmitter.sce"
		   ]
		  },
  {
"cell_type": "code",
	   "execution_count": null,
	   "metadata": {
	    "collapsed": true
	   },
	   "outputs": [],
"source": [
"//Ex:20\n",
"clc;\n",
"clear;\n",
"close;\n",
"g_t=26;//gain of satellite in db\n",
"l_s=207;//Path losses in db\n",
"l_ss=l_s+1.5+0.5+1.2;// all losses\n",
"g_r=50;// in db\n",
"p_o=10*log(1)/log(10);// output of the transponder in dbW\n",
"g_n=127;// linear gain in dbW\n",
"p_r=p_o-g_n;//received power in dbW\n",
"p_t=p_r-g_r-g_t+l_ss;//in dbW\n",
"printf(' Power output of an uplink tarnsmitter=%f dbW ', p_t);\n",
"p_tW=10^(p_t/10);\n",
"printf('\n Power output of an uplink tarnsmitter=%f W',p_tW);"
   ]
   }
,
{
		   "cell_type": "markdown",
		   "metadata": {},
		   "source": [
			"## Example 29.21: find_output_power_rating_required_for_the_transmitter.sce"
		   ]
		  },
  {
"cell_type": "code",
	   "execution_count": null,
	   "metadata": {
	    "collapsed": true
	   },
	   "outputs": [],
"source": [
"//Ex:21\n",
"clc;\n",
"clear;\n",
"close;\n",
"p_tr=7.2+7;//transmitted power when rain attenuation of 7db\n",
"printf('Transmitted power=%f dbW', p_tr);"
   ]
   }
,
{
		   "cell_type": "markdown",
		   "metadata": {},
		   "source": [
			"## Example 29.22: Calculate_the_uplink_transmitter_power_required.sce"
		   ]
		  },
  {
"cell_type": "code",
	   "execution_count": null,
	   "metadata": {
	    "collapsed": true
	   },
	   "outputs": [],
"source": [
"//Ex:22\n",
"clc;\n",
"clear;\n",
"close;\n",
"k=-228.6;//Boltzmann's const in dbW/K/Hz\n",
"t_s=10*log(500)/log(10);//in db\n",
"B=10*log(43.2*10^6)/log(10);//in dbHz\n",
"n_tr=k+t_s+B;//Transponder noise power in dbW\n",
"p_r=n_tr+30;//received power at the transponder input must be 30 db greater than noise power in db\n",
"g_st=16.2;//Satellite antenna gain in db\n",
"g_est=25;//Earth statiion antenna gain in db\n",
"p_rs=95.2;// in db\n",
"l_ss=207+3;//Losses in db\n",
"p_t=p_rs+g_st+g_est-l_ss;\n",
"printf('Required transmitted power=%f dbW', p_t);"
   ]
   }
,
{
		   "cell_type": "markdown",
		   "metadata": {},
		   "source": [
			"## Example 29.23: Calculate_the_symbol_rate.sce"
		   ]
		  },
  {
"cell_type": "code",
	   "execution_count": null,
	   "metadata": {
	    "collapsed": true
	   },
	   "outputs": [],
"source": [
"//Ex:23\n",
"clc;\n",
"clear;\n",
"close;\n",
"B_s=10^6;//B.W. in Hz\n",
"a=0.5;//Roll_off of a filter\n",
"r_sym=B_s/(1+a);//Symbol rate in bps\n",
"printf('Symbol rate =%f bit/sec', r_sym);\n",
"printf('\n Symbol rate =%f Kbit/sec', r_sym/1000);"
   ]
   }
,
{
		   "cell_type": "markdown",
		   "metadata": {},
		   "source": [
			"## Example 29.24: EX29_24.sce"
		   ]
		  },
  {
"cell_type": "code",
	   "execution_count": null,
	   "metadata": {
	    "collapsed": true
	   },
	   "outputs": [],
"source": [
"//Ex:24\n",
"clc;\n",
"clear;\n",
"close;\n",
"a=0.25;//Roll_off\n",
"r_s=16*10^3;//Symbol rate in Hz\n",
"B_s=r_s*(1+a);//signal BW in Hz\n",
"f_c=14.125*10^6;// in Hz\n",
"f_min=f_c-(B_s)/2;//min frequency in Hz\n",
"f_max=f_c+(B_s)/2;//max frequency in Hz\n",
"//printf('min frequency=%f MHz',B_s);\n",
"printf('min frequency=%f MHz', f_min/10^6);\n",
"printf('\n max frequency=%f MHz',f_max/10^6);\n",
"//Hence frequency range of transmitted signal is from 14.115 MHz to 14.135 MHz"
   ]
   }
,
{
		   "cell_type": "markdown",
		   "metadata": {},
		   "source": [
			"## Example 29.25: Calculate_the_required_carrier_to_noise_ratio.sce"
		   ]
		  },
  {
"cell_type": "code",
	   "execution_count": null,
	   "metadata": {
	    "collapsed": true
	   },
	   "outputs": [],
"source": [
"//Ex:25\n",
"clc;\n",
"clear;\n",
"close;\n",
"r_b=10*log(60*10^6)/log(10);//in db Hz\n",
"Eb_n=8;//Energy per bit to noise power density in db\n",
"c_n=Eb_n+r_b;//in db\n",
"printf('The C/N ratio=%f db',c_n);"
   ]
   }
,
{
		   "cell_type": "markdown",
		   "metadata": {},
		   "source": [
			"## Example 29.26: EX29_26.sce"
		   ]
		  },
  {
"cell_type": "code",
	   "execution_count": null,
	   "metadata": {
	    "collapsed": true
	   },
	   "outputs": [],
"source": [
"//Ex:26\n",
"clc;\n",
"clear;\n",
"close;\n",
"r_b=10*log(1.544*10^6)/log(10);//bit rate in db bit/s\n",
"Eb_n=9;//Eb/No in db\n",
"c_n=Eb_n+r_b;//C/N ratio in db\n",
"c_ns=71;//in db\n",
"g_t=-8;//G/T ratio in db\n",
"l_s=210;//Losses in db\n",
"k=228.6;//in db\n",
"e_rp=c_ns+g_t+l_s-k\n",
"G_upa=42;//uplink antenna gain in db\n",
"p_t=e_rp-G_upa;// in dbW\n",
"p_t1=10^(p_t);// in Watt\n",
"printf('required power =%f dbW',p_t);\n",
"printf('\n required power =%f Watt',p_t1);"
   ]
   }
,
{
		   "cell_type": "markdown",
		   "metadata": {},
		   "source": [
			"## Example 29.27: Calculate_the_uplink_power_increase_required_for_TDMA_operation.sce"
		   ]
		  },
  {
"cell_type": "code",
	   "execution_count": null,
	   "metadata": {
	    "collapsed": true
	   },
	   "outputs": [],
"source": [
"//Ex:27\n",
"clc;\n",
"clear;\n",
"close;\n",
"r_b=62;//bit rate in db bits/s\n",
"r_bu=71-62;//uplink bit rate increase\n",
"p_up=2.4+r_bu;//Earth station transmitted power in dbW\n",
"printf('The earth station transmitted power =%f dbw',p_up);"
   ]
   }
,
{
		   "cell_type": "markdown",
		   "metadata": {},
		   "source": [
			"## Example 29.28: Calculate_the_EIRP_of_a_satellite_downlink.sce"
		   ]
		  },
  {
"cell_type": "code",
	   "execution_count": null,
	   "metadata": {
	    "collapsed": true
	   },
	   "outputs": [],
"source": [
"//Ex:28\n",
"clc;\n",
"clear;\n",
"close;\n",
"p_s=10*log(6)/log(10);//transmit power in db\n",
"g_a=50.2;// Antenna gain in db\n",
"e_rp=p_s+g_a;//EIRP in dbW\n",
"printf('The EIRP=%f dbW', e_rp);"
   ]
   }
,
{
		   "cell_type": "markdown",
		   "metadata": {},
		   "source": [
			"## Example 29.29: Calculate_the_gain_of_3_m_paraboidal_antenna.sce"
		   ]
		  },
  {
"cell_type": "code",
	   "execution_count": null,
	   "metadata": {
	    "collapsed": true
	   },
	   "outputs": [],
"source": [
"//Ex:29\n",
"clc;\n",
"clear;\n",
"close;\n",
"u=0.55;//aperture efficiency\n",
"f=12;// in GHz\n",
"d=3;// diameter in m\n",
"G_i=u*(10.472*f*d)^2;\n",
"g=ceil(G_i);\n",
"g_i=10*log(g)/log(10);//in db\n",
"printf('Gain=%f ',g_i);"
   ]
   }
,
{
		   "cell_type": "markdown",
		   "metadata": {},
		   "source": [
			"## Example 29.2: EX29_2.sce"
		   ]
		  },
  {
"cell_type": "code",
	   "execution_count": null,
	   "metadata": {
	    "collapsed": true
	   },
	   "outputs": [],
"source": [
"//Ex:2\n",
"clc;\n",
"clear;\n",
"close;\n",
"r_e=6378.14;//in km\n",
"h=250;//in km\n",
"a=r_e+h;//Radius of space shuttle orbit at 250km altitude in km\n",
"u=3.986*10^5;//kepler's const inkm^3/sec^2\n",
"t_p=(4*%pi^2*a^3/u)^(1/2);//in sec\n",
"printf('Time period ofthe orbit=%f sec',t_p);\n",
"printf('\nThe shuttle will slow down due to friction with earth atmosphere. Thus , the spacecraft will be in stable if its orbit period is more than 5370.30 sec');"
   ]
   }
,
{
		   "cell_type": "markdown",
		   "metadata": {},
		   "source": [
			"## Example 29.30: Calculate_the_overall_noise_temperature_of_the_system.sce"
		   ]
		  },
  {
"cell_type": "code",
	   "execution_count": null,
	   "metadata": {
	    "collapsed": true
	   },
	   "outputs": [],
"source": [
"//Ex:30\n",
"clc;\n",
"clear;\n",
"close;\n",
"t_a=35;//antenna noise temp in K\n",
"f=12;//receiver noise figure in db\n",
"F=10^(12/10);//receiver noise figure\n",
"l_c=10^(5/10);//cable loss\n",
"g_lna=10^5;//LNA gain\n",
"t_lna=150;//noise temp in K\n",
"t_o=290;// in K\n",
"t_s=t_a+t_lna+(l_c-1)*t_o/g_lna+l_c*(F-1)*t_o/g_lna;\n",
"printf('Gain=%d K',t_s);"
   ]
   }
,
{
		   "cell_type": "markdown",
		   "metadata": {},
		   "source": [
			"## Example 29.31: Calculate_the_carrier_to_noise_spectral_density_ratio.sce"
		   ]
		  },
  {
"cell_type": "code",
	   "execution_count": null,
	   "metadata": {
	    "collapsed": true
	   },
	   "outputs": [],
"source": [
"//Ex:31\n",
"clc;\n",
"clear;\n",
"close;\n",
"k=-228.6;// in db\n",
"e_irp=50;// EIRP in dbW\n",
"g_t=19.5;//G/T ratio in db/k\n",
"l_fs=210;//free space loss in db\n",
"l_ab=2;//atmospheric absorption loss in db\n",
"l_ap=2;//antenna pointing loss in db\n",
"l_rf=1;//receiver feedback loss in db\n",
"l_s=l_fs+l_ab+l_ap+l_rf;//losses in db\n",
"c_n=e_irp+g_t-l_s-k;// C/N spectral density ratio in db\n",
"printf('carrier to noise spectral density ratio=%d dbW',c_n);"
   ]
   }
,
{
		   "cell_type": "markdown",
		   "metadata": {},
		   "source": [
			"## Example 29.32: EX29_32.sce"
		   ]
		  },
  {
"cell_type": "code",
	   "execution_count": null,
	   "metadata": {
	    "collapsed": true
	   },
	   "outputs": [],
"source": [
"//Ex:32\n",
"clc;\n",
"clear;\n",
"close;\n",
"f=14;//frequency\n",
"A_o=-(21.45+20*log(f)/log(10));//effective area in db\n",
"y_str=-100;//flux density required to saturate the transponder in db\n",
"l_s=200;//free space losses in db\n",
"e_irp=y_str+A_o+l_s;//the earth station EIRP required for saturation in dbw\n",
"printf('the earth station EIRP required for saturation=%f dbW',e_irp);"
   ]
   }
,
{
		   "cell_type": "markdown",
		   "metadata": {},
		   "source": [
			"## Example 29.33: Calculate_the_effective_isotropic_radiated_power_in_watts_as_seen_by_the_antenna.sce"
		   ]
		  },
  {
"cell_type": "code",
	   "execution_count": null,
	   "metadata": {
	    "collapsed": true
	   },
	   "outputs": [],
"source": [
"//Ex:33\n",
"clc;\n",
"clear;\n",
"close;\n",
"e_irp=52;//EIRP  in dbW\n",
"p_s=10^(e_irp/10);//effective isotropic radiated power in W\n",
"printf('effective isotropic radiated power=%f KW',p_s/1000);"
   ]
   }
,
{
		   "cell_type": "markdown",
		   "metadata": {},
		   "source": [
			"## Example 29.34: Calculate_the_noise_power_for_a_BW_of_36_MHz.sce"
		   ]
		  },
  {
"cell_type": "code",
	   "execution_count": null,
	   "metadata": {
	    "collapsed": true
	   },
	   "outputs": [],
"source": [
"//Ex:34\n",
"clc;\n",
"clear;\n",
"close;\n",
"t_a=40;// noise temp in K\n",
"t_r=100;//receiver noise temp in K\n",
"t_n=t_a+t_r;//total noise temp in K\n",
"B_n=36*10^6;//BW in Hz\n",
"k=1.38*10^(-23);// Boltzmann's const in J/K\n",
"p_n=k*t_n*B_n;//noise power in W\n",
"printf('noise power=%f pW',p_n/(10^(-12)));"
   ]
   }
,
{
		   "cell_type": "markdown",
		   "metadata": {},
		   "source": [
			"## Example 29.35: Calculate_the_total_link_loss.sce"
		   ]
		  },
  {
"cell_type": "code",
	   "execution_count": null,
	   "metadata": {
	    "collapsed": true
	   },
	   "outputs": [],
"source": [
"//Ex:35\n",
"clc;\n",
"clear;\n",
"close;\n",
"l_fs=202;//free space loss in db\n",
"l_ab=0.5;//atmospheric absorption loss in db\n",
"l_ap=1;//antenna pointing loss in db\n",
"l_rf=2;//receiver feedback loss in db\n",
"l_s=l_fs+l_ab+l_ap+l_rf;//losses in db\n",
"printf('the total link loss=%f db',l_s);"
   ]
   }
,
{
		   "cell_type": "markdown",
		   "metadata": {},
		   "source": [
			"## Example 29.36: EX29_36.sce"
		   ]
		  },
  {
"cell_type": "code",
	   "execution_count": null,
	   "metadata": {
	    "collapsed": true
	   },
	   "outputs": [],
"source": [
"//Ex:36\n",
"clc;\n",
"clear;\n",
"close;\n",
"e_irp=51;// EIRP in dbW\n",
"g_t=13.12;//G/T ratio in db/k\n",
"l_fs=205.34;//free space loss in db\n",
"l_ab=0.17;//atmospheric absorption loss in db\n",
"df=16;// in MHz\n",
"f_v=5;// in MHz\n",
"B=df+2*f_v;// in MHz\n",
"k=1.38*10^(-23);// Boltzmann's const in J/K\n",
"k_b=k*B*10^6;\n",
"kB=10*log(k_b)/log(10);\n",
"c_n=e_irp-l_fs+g_t-l_ab-kB;\n",
"printf('carrier to noise ratio=%f dbw',c_n);"
   ]
   }
,
{
		   "cell_type": "markdown",
		   "metadata": {},
		   "source": [
			"## Example 29.37: Calculate_the_transmission_bit_rate_for_stop_and_wait_system.sce"
		   ]
		  },
  {
"cell_type": "code",
	   "execution_count": null,
	   "metadata": {
	    "collapsed": true
	   },
	   "outputs": [],
"source": [
"//Ex:37\n",
"clc;\n",
"clear;\n",
"close;\n",
"d_r=24;//Data rate in Kbits/s\n",
"t_b=1/(d_r*10^3);//bit time in sec\n",
"t_bi=.0005;// in sec\n",
"p_d=2*0.240;//path delay in sec\n",
"printf('Waiting of ack takes place %f sec', t_bi+p_d);\n",
"t_ack=p_d+t_bi;//Acknowledgement time in sec\n",
"n_b=79;// number of blocks\n",
"t_tr=n_b/2;//Time taken for transmission in sec\n",
"r_b=(n_b*127)/t_tr;//bit transmission rate in bits/s\n",
"printf('\n bit transmission rate =%f bits/s',r_b);"
   ]
   }
,
{
		   "cell_type": "markdown",
		   "metadata": {},
		   "source": [
			"## Example 29.38: what_should_be_the_capacity_of_the_transmit_buffer.sce"
		   ]
		  },
  {
"cell_type": "code",
	   "execution_count": null,
	   "metadata": {
	    "collapsed": true
	   },
	   "outputs": [],
"source": [
"//Ex:38\n",
"clc;\n",
"clear;\n",
"close;\n",
"t_r=(79*127)/(24*10^3);//Time required to transmit 79 blocks in sec\n",
"t_pb=t_r/79;//Transmission time per block\n",
"n_b=0.48/t_pb;//no. of blocks which arrive at the receiver\n",
"n_B=ceil(n_b);\n",
"c_r=n_B*127;//the required capacity in bits\n",
"printf('The required capacity=%d bits',c_r);"
   ]
   }
,
{
		   "cell_type": "markdown",
		   "metadata": {},
		   "source": [
			"## Example 29.39: Calculate_the_transmission_bit_rate_for_Selective_Repeat_ARQ_system.sce"
		   ]
		  },
  {
"cell_type": "code",
	   "execution_count": null,
	   "metadata": {
	    "collapsed": true
	   },
	   "outputs": [],
"source": [
"//Ex:39\n",
"clc;\n",
"clear;\n",
"close;\n",
"n_b=79-1;//no. of blocks in this system\n",
"r_eff=n_b/79;//rate efficiency\n",
"r_b=24*r_eff;//bit tkbits/sransmission rate in \n",
"printf('Bit transmission rate =%f Kbits/s',r_b);"
   ]
   }
,
{
		   "cell_type": "markdown",
		   "metadata": {},
		   "source": [
			"## Example 29.3: Determine_the_linear_velocity_of_the_shuttle_along_its_orbit.sce"
		   ]
		  },
  {
"cell_type": "code",
	   "execution_count": null,
	   "metadata": {
	    "collapsed": true
	   },
	   "outputs": [],
"source": [
"//Ex:3\n",
"clc;\n",
"clear;\n",
"close;\n",
"a=6628.14;//Radius of space shuttle in km\n",
"T=5370.30//Time period in sec\n",
"v_s=2*%pi*a/T;//Velocity in km per sec\n",
"printf('Velocity of the shuttle =%f km per sec', v_s);"
   ]
   }
,
{
		   "cell_type": "markdown",
		   "metadata": {},
		   "source": [
			"## Example 29.40: Calculate_the_noise_power_in_transponder1_or_in_the_inbound_SCPC_FDMA_channels.sce"
		   ]
		  },
  {
"cell_type": "code",
	   "execution_count": null,
	   "metadata": {
	    "collapsed": true
	   },
	   "outputs": [],
"source": [
"//Ex:40\n",
"clc;\n",
"clear;\n",
"close;\n",
"k=-228.6;//dbW/K/Hz\n",
"b_n=10*log(128*(10^3))/log(10);// in dbHz\n",
"t_s=10*log(500)/log(10);//in dbk\n",
"t_S=ceil(t_s);\n",
"n_tr=k+t_S+b_n;// in dbW\n",
"printf('noise power=%f dbW',n_tr);"
   ]
   }
,
{
		   "cell_type": "markdown",
		   "metadata": {},
		   "source": [
			"## Example 29.41: EX29_41.sce"
		   ]
		  },
  {
"cell_type": "code",
	   "execution_count": null,
	   "metadata": {
	    "collapsed": true
	   },
	   "outputs": [],
"source": [
"//Ex:41\n",
"clc;\n",
"clear;\n",
"close;\n",
"k=-228.6;// in db\n",
"t_s=10*log(150)/log(10);// in dbK\n",
"b_n=51.1;// in dbHz\n",
"n_h=k+t_s+b_n;//the noise power in the hub station receiver in dbw\n",
"printf('noise power=%f dbW',n_h);"
   ]
   }
,
{
		   "cell_type": "markdown",
		   "metadata": {},
		   "source": [
			"## Example 29.42: Calculate_the_noise_power_in_transponder2.sce"
		   ]
		  },
  {
"cell_type": "code",
	   "execution_count": null,
	   "metadata": {
	    "collapsed": true
	   },
	   "outputs": [],
"source": [
"//Ex:42\n",
"clc;\n",
"clear;\n",
"close;\n",
"b_n=10*log(10^6)/log(10);// in dbHz\n",
"t_s=10*log(500)/log(10);//temp in dbK\n",
"T_s=ceil(t_s);\n",
"k=-228.6;// in db\n",
"n_rt=k+b_n+T_s;//the noise power in transponder-2 in dbW\n",
"printf('the noise power in transponder-2=%f dbW',n_rt);"
   ]
   }
,
{
		   "cell_type": "markdown",
		   "metadata": {},
		   "source": [
			"## Example 29.43: Calculate_the_noise_power_in_the_VSAT_receivers.sce"
		   ]
		  },
  {
"cell_type": "code",
	   "execution_count": null,
	   "metadata": {
	    "collapsed": true
	   },
	   "outputs": [],
"source": [
"//Ex:43\n",
"clc;\n",
"clear;\n",
"close;\n",
"k=-228.6;// in db\n",
"t_s=10*log(150)/log(10);// temp in dbK\n",
"b_n=10*log(10^6)/log(10);// in dbHz\n",
"n_h=k+t_s+b_n;//the noise power in the VSAT in dbW\n",
"printf('the noise power in the VSAT=%f dbW',n_h);"
   ]
   }
,
{
		   "cell_type": "markdown",
		   "metadata": {},
		   "source": [
			"## Example 29.44: Calculate_the_power_received_at_the_satellite_transmitted_from_the_VSAT_uplink.sce"
		   ]
		  },
  {
"cell_type": "code",
	   "execution_count": null,
	   "metadata": {
	    "collapsed": true
	   },
	   "outputs": [],
"source": [
"//Ex:44\n",
"clc;\n",
"clear;\n",
"close;\n",
"p_t=10*log(2)/log(10);// transmit power in dbW\n",
"g_t=42;// Gain of the VSAT transmit antenna in db\n",
"g_r=30;//Gain of the satellite receive antenna in db\n",
"l_p=207;//Free space path loss at 14HGz\n",
"l_b=2;//Beam loss in db\n",
"l_a=0.5;//atmospheric loss in db\n",
"l_l=0.5;//miscellaneous loss in db\n",
"l_o=l_b+l_a+l_l;// other losses in db\n",
"p_r=p_t+g_t+g_r-l_p-l_o;//the power received in dbW\n",
"P_r=floor(p_r);\n",
"printf('The power received=%f dbW',P_r);"
   ]
   }
,
{
		   "cell_type": "markdown",
		   "metadata": {},
		   "source": [
			"## Example 29.45: Calculate_the_uplink_inbound_CN_ratio_in_transponder1.sce"
		   ]
		  },
  {
"cell_type": "code",
	   "execution_count": null,
	   "metadata": {
	    "collapsed": true
	   },
	   "outputs": [],
"source": [
"//Ex:45\n",
"clc;\n",
"clear;\n",
"close;\n",
"p_tr1=-135;//power received in transponder-1 in dbW\n",
"n_tr1=-150.5;//noise power in transponder-1 in dbw\n",
"c_n=p_tr1-n_tr1;//C/N ratio in db\n",
"printf('The C/N ratio=%f db',c_n);"
   ]
   }
,
{
		   "cell_type": "markdown",
		   "metadata": {},
		   "source": [
			"## Example 29.46: Calculate_the_max_number_of_VSAT_channels_that_can_be_handled_by_the_system.sce"
		   ]
		  },
  {
"cell_type": "code",
	   "execution_count": null,
	   "metadata": {
	    "collapsed": true
	   },
	   "outputs": [],
"source": [
"//Ex:46\n",
"clc;\n",
"clear;\n",
"close;\n",
"p_ts=10*log(20)/log(10);//saturated transponder power in dbw\n",
"b=2;//back_off in db\n",
"p_b=p_ts-b;//power becomes with back_off in db\n",
"p_B=floor(p_b);\n",
"P_b=10^(p_B/10);//Power becomes with back_off\n",
"n_c=P_b/1;//no. of channels\n",
"n_cs=floor(n_c);\n",
"printf('The max no. of VSAT channels=%f',n_cs);"
   ]
   }
,
{
		   "cell_type": "markdown",
		   "metadata": {},
		   "source": [
			"## Example 29.47: EX29_47.sce"
		   ]
		  },
  {
"cell_type": "code",
	   "execution_count": null,
	   "metadata": {
	    "collapsed": true
	   },
	   "outputs": [],
"source": [
"//Ex:47\n",
"clc;\n",
"clear;\n",
"close;\n",
"m=100;//mass in kg\n",
"v=8000;//velocity in m/s\n",
"r=6370*10^3;//radius of earth in m\n",
"h=200*10^3;//height above the earth surface in m\n",
"c_f=(m*v^2)/(r+h);//centrifugal force in newtons\n",
"printf('The centrifugal force=%d newtons',c_f);"
   ]
   }
,
{
		   "cell_type": "markdown",
		   "metadata": {},
		   "source": [
			"## Example 29.48: EX29_48.sce"
		   ]
		  },
  {
"cell_type": "code",
	   "execution_count": null,
	   "metadata": {
	    "collapsed": true
	   },
	   "outputs": [],
"source": [
"//Ex:48\n",
"clc;\n",
"clear;\n",
"close;\n",
"G=6.67*10^(-11);//Gravitation const in N-m^2/kg^2\n",
"r_e=6370*10^3;//radius of earth in m\n",
"h=150*10^3;// height in m\n",
"m=5.98*10^24;//mass of earth in kg\n",
"u=G*m;\n",
"v=sqrt(u/(r_e+h))/1000;// velocity in km/s\n",
"printf('The orbital velocity of a satellite=%f km/s',v);"
   ]
   }
,
{
		   "cell_type": "markdown",
		   "metadata": {},
		   "source": [
			"## Example 29.49: Determine_the_semi_major_axis_of_elliptical_orbit.sce"
		   ]
		  },
  {
"cell_type": "code",
	   "execution_count": null,
	   "metadata": {
	    "collapsed": true
	   },
	   "outputs": [],
"source": [
"//Ex:49\n",
"clc;\n",
"clear;\n",
"close;\n",
"r_a=30000;//apogee in km\n",
"r_p=1000;//perigee in km\n",
"a=(r_a+r_p)/2;//Semi_major axis in km\n",
"printf('The semi_major axis=%f km',a);"
   ]
   }
,
{
		   "cell_type": "markdown",
		   "metadata": {},
		   "source": [
			"## Example 29.4: A_satellite_is_rotating_in_an_elliptical_orbit_Calculate_its_orbital_period.sce"
		   ]
		  },
  {
"cell_type": "code",
	   "execution_count": null,
	   "metadata": {
	    "collapsed": true
	   },
	   "outputs": [],
"source": [
"//Ex:4\n",
"clc;\n",
"clear;\n",
"close;\n",
"h_p=1000;//perigee height in km\n",
"h_a=4000;//apogee height in km\n",
"R_E=6378.14;// radius of earth in km\n",
"a=(2*R_E+h_p+h_a)/2;//Semi major axis in km\n",
"u=3.986*10^5//km^3 per sec^2\n",
"T_P=(4*%pi^2*a^3/u)^(1/2);//Orbit period in sec\n",
"printf('Orbital period =%f sec',T_P);"
   ]
   }
,
{
		   "cell_type": "markdown",
		   "metadata": {},
		   "source": [
			"## Example 29.50: Determine_the_orbital_eccentricity.sce"
		   ]
		  },
  {
"cell_type": "code",
	   "execution_count": null,
	   "metadata": {
	    "collapsed": true
	   },
	   "outputs": [],
"source": [
"//Ex:50\n",
"clc;\n",
"clear;\n",
"close;\n",
"a_p=30000;// the difference b/w apogee and perigee in km\n",
"a=16000;//Semi_major axis in km\n",
"e=a_p/(2*a);//orbital eccentricity\n",
"printf('The orbital eccentricity=%f',e);"
   ]
   }
,
{
		   "cell_type": "markdown",
		   "metadata": {},
		   "source": [
			"## Example 29.51: Determine_the_apogee_the_perigee_and_eccentricity.sce"
		   ]
		  },
  {
"cell_type": "code",
	   "execution_count": null,
	   "metadata": {
	    "collapsed": true
	   },
	   "outputs": [],
"source": [
"//Ex:51\n",
"clc;\n",
"clear;\n",
"close;\n",
"r_a=30000+6370;//apogee in km\n",
"r_p=200+6370;//perigee in km\n",
"e=(r_a-r_p)/(r_a+r_p);// eccentricity\n",
"printf('The apogee=%f km',r_a);\n",
"printf('\n The perigee=%f km',r_p);\n",
"printf('\n The orbital eccentricity=%f',e);"
   ]
   }
,
{
		   "cell_type": "markdown",
		   "metadata": {},
		   "source": [
			"## Example 29.52: Determine_the_apogee_and_perigee_distance.sce"
		   ]
		  },
  {
"cell_type": "code",
	   "execution_count": null,
	   "metadata": {
	    "collapsed": true
	   },
	   "outputs": [],
"source": [
"//Ex:52\n",
"clc;\n",
"clear;\n",
"close;\n",
"e=0.5;//orbital eccentricity\n",
"a_e=14000;//dis b/w center of ellipse to the center of earth in km\n",
"a=a_e/e;//semi major axis in km\n",
"r_a=a*(1+e);//apogee in km\n",
"r_p=a*(1-e);//perigee in km\n",
"printf('The apogee=%d km',r_a);\n",
"printf('\n The perigee=%d km',r_p);"
   ]
   }
,
{
		   "cell_type": "markdown",
		   "metadata": {},
		   "source": [
			"## Example 29.53: Determine_the_relationship_between_their_orbital_periods.sce"
		   ]
		  },
  {
"cell_type": "code",
	   "execution_count": null,
	   "metadata": {
	    "collapsed": true
	   },
	   "outputs": [],
"source": [
"//Ex:53\n",
"clc;\n",
"clear;\n",
"close;\n",
"G=6.67*10^(-11);//Gravitation const in N-m^2/kg^2\n",
"a_1=18000;//semi major axis for satellite-1\n",
"a_2=24000;//semi major axis for satellite-2\n",
"t2_t1=(a_2/a_1)^(3/2);//The ratio of orbital periods of given two satellite\n",
"printf('Orbital periods ratio of two satellite =%f',t2_t1);\n",
"printf('\n thus orbital period of satellite_2 is 1.54 times that of satellite_1');"
   ]
   }
,
{
		   "cell_type": "markdown",
		   "metadata": {},
		   "source": [
			"## Example 29.54: Determine_the_escape_velocity_for_an_object_to_be_launched_from_surface_of_earth.sce"
		   ]
		  },
  {
"cell_type": "code",
	   "execution_count": null,
	   "metadata": {
	    "collapsed": true
	   },
	   "outputs": [],
"source": [
"//Ex:54\n",
"clc;\n",
"clear;\n",
"close;\n",
"G=6.67*10^(-11);//Gravitation const in N-m^2/kg^2\n",
"r_e=6370*10^3;//radius of earth in m\n",
"m=5.98*10^24;//mass of earth in kg\n",
"u=G*m;\n",
"v_e=sqrt((2*u)/r_e);//escape velocity in km/s\n",
"printf('The escape velocity=%f km/s',v_e/1000);"
   ]
   }
,
{
		   "cell_type": "markdown",
		   "metadata": {},
		   "source": [
			"## Example 29.55: Calculate_the_period_of_a_satellite_in_an_eccentric_elliptical_orbit.sce"
		   ]
		  },
  {
"cell_type": "code",
	   "execution_count": null,
	   "metadata": {
	    "collapsed": true
	   },
	   "outputs": [],
"source": [
"//Ex:55\n",
"clc;\n",
"clear;\n",
"close;\n",
"a=50000*1000/2;//semi major axis in km\n",
"G=6.67*10^(-11);//Gravitation const in N-m^2/kg^2\n",
"m=5.98*10^24;//mass of earth in kg\n",
"u=G*m;\n",
"st=sqrt((a^3)/u);\n",
"s_t=6.25*10^3;\n",
"t=2*(3.14)*s_t;\n",
"printf('The period of a satellite=%f s',t);\n",
"printf('\n The period of a satellite is 10 hours 54 minutes');"
   ]
   }
,
{
		   "cell_type": "markdown",
		   "metadata": {},
		   "source": [
			"## Example 29.56: EX29_56.sce"
		   ]
		  },
  {
"cell_type": "code",
	   "execution_count": null,
	   "metadata": {
	    "collapsed": true
	   },
	   "outputs": [],
"source": [
"//Ex:56\n",
"clc;\n",
"clear;\n",
"close;\n",
"r_a=35000+6360;//apogee in km\n",
"r_p=500+6360;//perigee in km\n",
"A=(r_a+r_p)/2;//Semi_major axis in km\n",
"a=A*1000;//Semi_major axis in m\n",
"G=6.67*10^(-11);//Gravitation const in N-m^2/kg^2\n",
"m=5.98*10^24;//mass of earth in kg\n",
"u=G*m;\n",
"t=2*(3.14)*sqrt((a^3)/u);\n",
"printf('The orbital time period=%d s',t);\n",
"printf('\n The orbital time period is 10 hours 20 minutes');\n",
"x=2/(r_a*1000);\n",
"y=1/a;\n",
"v_a=sqrt(u*(x-y));// velocity at apogee in m/s\n",
"c=2/(r_p*1000);\n",
"v_p=sqrt(u*(c-y));// velocity at perigee in m/s\n",
"printf('\n The velocity at apogee=%d m/s',v_a);\n",
"printf('\n The velocity at perigee=%f km/s',v_p/1000);"
   ]
   }
,
{
		   "cell_type": "markdown",
		   "metadata": {},
		   "source": [
			"## Example 29.57: Determine_the_target_eccentricity.sce"
		   ]
		  },
  {
"cell_type": "code",
	   "execution_count": null,
	   "metadata": {
	    "collapsed": true
	   },
	   "outputs": [],
"source": [
"//Ex:57\n",
"clc;\n",
"clear;\n",
"close;\n",
"d_ap=30000;//Difference of apogee and perigee dis in km\n",
"s_ap=50000;//sum of apogee and perigee dis in km\n",
"e=d_ap/s_ap;\n",
"printf('The orbital eccentricity=%f',e);"
   ]
   }
,
{
		   "cell_type": "markdown",
		   "metadata": {},
		   "source": [
			"## Example 29.58: Determine_the_apogee_the_perigee_and_eccentricity.sce"
		   ]
		  },
  {
"cell_type": "code",
	   "execution_count": null,
	   "metadata": {
	    "collapsed": true
	   },
	   "outputs": [],
"source": [
"//Ex:58\n",
"clc;\n",
"clear;\n",
"close;\n",
"a=20000;//apogee in km\n",
"b=16000;//perigee in km\n",
"x=2*a;//sum of apogee and perigee\n",
"B=-40000;\n",
"A=1\n",
"C=256000000;\n",
"r_a1=(-B+sqrt(B^2-(4*A*C)))/2;\n",
"printf('The apogee distance=%d km',r_a1);\n",
"r_p1=x-r_a1;\n",
"printf('\n The perigee distance=%d km',r_p1);"
   ]
   }
,
{
		   "cell_type": "markdown",
		   "metadata": {},
		   "source": [
			"## Example 29.59: Determine_the_orbital_period.sce"
		   ]
		  },
  {
"cell_type": "code",
	   "execution_count": null,
	   "metadata": {
	    "collapsed": true
	   },
	   "outputs": [],
"source": [
"//Ex:59\n",
"clc;\n",
"clear;\n",
"close;\n",
"G=6.67*10^(-11);//Gravitation const in N-m^2/kg^2\n",
"r_e=6360*10^3;//radius of earth in m\n",
"h=640*10^3;// height in m\n",
"m=5.98*10^24;//mass of earth in kg\n",
"u=G*m;\n",
"v=sqrt(u/(r_e+h));// velocity in km/s\n",
"V=7.54;// km/s\n",
"t=(2*3.14*(r_e+h)/1000)/V;\n",
"printf('The orbital period=%d s',t);\n",
"printf('\n The orbital period is 1 hour 37 minutes');"
   ]
   }
,
{
		   "cell_type": "markdown",
		   "metadata": {},
		   "source": [
			"## Example 29.5: Calculate_the_radius_of_the_orbit.sce"
		   ]
		  },
  {
"cell_type": "code",
	   "execution_count": null,
	   "metadata": {
	    "collapsed": true
	   },
	   "outputs": [],
"source": [
"//Ex:5\n",
"clc;\n",
"clear;\n",
"close;\n",
"T=86400;//Orbital period in sec\n",
"u=3.986*10^5;//Kepler's const in km^3 per sec^2\n",
"a=(T^2*u/(4*%pi^2))^(1/3);//Radius of orbital in km\n",
"printf('Radius of orbital =%d km',a);"
   ]
   }
,
{
		   "cell_type": "markdown",
		   "metadata": {},
		   "source": [
			"## Example 29.60: EX29_60.sce"
		   ]
		  },
  {
"cell_type": "code",
	   "execution_count": null,
	   "metadata": {
	    "collapsed": true
	   },
	   "outputs": [],
"source": [
"//Ex:60\n",
"clc;\n",
"clear;\n",
"close;\n",
"t_s=3+(10/60);// in hours\n",
"//Area B to A=Area of half of ellipse-Area of triangle(AOB);\n",
"// =(pi*a*b)/2-(b*OC)              from given figure;\n",
"// =(pi*a*b)/2-(b*a*e);\n",
"// =0.97*a*b;\n",
"//Area A to B=(pi*a*b)/2+0.6*a*b=2.2*a*b;\n",
"//The ratio of two areas is=2.2;\n",
"t=2.2*t_s;// time taken in hours\n",
"T=ceil(t);\n",
"printf('The time taken=%d hours', T);"
   ]
   }
,
{
		   "cell_type": "markdown",
		   "metadata": {},
		   "source": [
			"## Example 29.61: Determine_the_semi_major_axis_and_semi_minor_axis_and_the_orbit_eccentricity.sce"
		   ]
		  },
  {
"cell_type": "code",
	   "execution_count": null,
	   "metadata": {
	    "collapsed": true
	   },
	   "outputs": [],
"source": [
"//Ex:61\n",
"clc;\n",
"clear;\n",
"close;\n",
"r_a=50000;//apogee in km\n",
"r_p=8000;//perigee in km\n",
"a=(r_a+r_p)/2;//Semi_major axis in km\n",
"b=sqrt(r_a*r_p);//semi minor axis in km\n",
"e=(r_a-r_p)/(r_a+r_p);//eccentricity\n",
"printf('The semi_major axis=%f km',a);\n",
"printf('\n The semi_minor axis=%f km',b);\n",
"printf('\n The eccentricity=%f km',e);"
   ]
   }
,
{
		   "cell_type": "markdown",
		   "metadata": {},
		   "source": [
			"## Example 29.62: Determine_the_orbital_period_of_satellite2.sce"
		   ]
		  },
  {
"cell_type": "code",
	   "execution_count": null,
	   "metadata": {
	    "collapsed": true
	   },
	   "outputs": [],
"source": [
"//Ex:62\n",
"clc;\n",
"clear;\n",
"close;\n",
"G=6.67*10^(-11);//Gravitation const in N-m^2/kg^2\n",
"a_1=16000;//semi major axis for satellite-1\n",
"a_2=24000;//semi major axis for satellite-2\n",
"t1=10;//the orbital period of satellite-1 in hours\n",
"t2=t1*(a_2/a_1)^(3/2);//The ratio of orbital periods of given two satellite\n",
"printf('Orbital periods of satellite-2=%f hours',t2);"
   ]
   }
,
{
		   "cell_type": "markdown",
		   "metadata": {},
		   "source": [
			"## Example 29.63: EX29_63.sce"
		   ]
		  },
  {
"cell_type": "code",
	   "execution_count": null,
	   "metadata": {
	    "collapsed": true
	   },
	   "outputs": [],
"source": [
"//Ex:63\n",
"clc;\n",
"clear;\n",
"close;\n",
"h=35800;//height in km\n",
"r=6364;//earth's radius in km\n",
"r_o=r+h;//orbital radius in km\n",
"i=2;//angle of inclination in degree\n",
"w_m=0.0175;\n",
"y_m=i;//max latitude deviation\n",
"d_m=r_o*i*(3.14/180);//max displacement due to latitude deviation in km\n",
"D_m=d_m*(w_m/y_m);//max displacement due to longitude deviation in km\n",
"printf('max displacement due to latitude deviation=%d km',d_m);\n",
"printf('\n max displacement due to longitude deviation=%f km',D_m);"
   ]
   }
,
{
		   "cell_type": "markdown",
		   "metadata": {},
		   "source": [
			"## Example 29.64: EX29_64.sce"
		   ]
		  },
  {
"cell_type": "code",
	   "execution_count": null,
	   "metadata": {
	    "collapsed": true
	   },
	   "outputs": [],
"source": [
"//Ex:64\n",
"clc;\n",
"clear;\n",
"close;\n",
"u=39.8*10^13;\n",
"r=42164*10^3;\n",
"i=2*(3.14/180);//angle of inclination in degree\n",
"a=(sqrt(u/r))*tan(i);//the magnitude of velocity impulse in m/s\n",
"printf('The magnitude of velocity impulse=%d m/s',a);"
   ]
   }
,
{
		   "cell_type": "markdown",
		   "metadata": {},
		   "source": [
			"## Example 29.65: EX29_65.sce"
		   ]
		  },
  {
"cell_type": "code",
	   "execution_count": null,
	   "metadata": {
	    "collapsed": true
	   },
	   "outputs": [],
"source": [
"//Ex:65\n",
"clc;\n",
"clear;\n",
"close;\n",
"r=42164;// in km\n",
"d_m=500;// in km\n",
"i=d_m/r;// the angle of inclination in rad\n",
"printf('The angle of inclination=%f rad',i);\n",
"printf('\n The angle of inclination=%f degree',i*(180/3.14));"
   ]
   }
,
{
		   "cell_type": "markdown",
		   "metadata": {},
		   "source": [
			"## Example 29.66: Determine_the_theoretical_max_coverage_angle_also_determine_the_max_slant_range.sce"
		   ]
		  },
  {
"cell_type": "code",
	   "execution_count": null,
	   "metadata": {
	    "collapsed": true
	   },
	   "outputs": [],
"source": [
"//Ex:66\n",
"clc;\n",
"clear;\n",
"close;\n",
"r=6378;//radius of earth in km\n",
"h=35786;// in km\n",
"r_h=r+h;//height in km\n",
"E_min=0;// in degree\n",
"P=cos(E_min*3.14/180);\n",
"Q=(r/(r_h)*P);\n",
"a_mx=(asin(Q))*(180/3.14);//the theoretical max coverage angle in degree\n",
"D=(r^2)+(r_h^2)-2*r*r_h*sin(a_mx*3.14/180);\n",
"d=sqrt(D);// in km\n",
"d1=ceil(d);//max slant range in km\n",
"printf('The theoretical max coverage angle=%f degree',a_mx);\n",
"printf('\n The max slant range=%d km',d1);"
   ]
   }
,
{
		   "cell_type": "markdown",
		   "metadata": {},
		   "source": [
			"## Example 29.67: What_would_be_the_new_max_coverage_angle_and_the_slant_range.sce"
		   ]
		  },
  {
"cell_type": "code",
	   "execution_count": null,
	   "metadata": {
	    "collapsed": true
	   },
	   "outputs": [],
"source": [
"//Ex:67\n",
"clc;\n",
"clear;\n",
"close;\n",
"R_e=6378;// in km\n",
"H=35786;// in km\n",
"E_min=5;// min elevation angle in degree\n",
"x=cos(E_min*3.14/180);\n",
"R=R_e/(R_e+H);\n",
"P=2*asin(R*x);// in radian\n",
"a_max=(P)*180/3.14;// in degree\n",
"printf('The max coverage angle=%f degree', a_max);"
   ]
   }
,
{
		   "cell_type": "markdown",
		   "metadata": {},
		   "source": [
			"## Example 29.68: EX29_68.sce"
		   ]
		  },
  {
"cell_type": "code",
	   "execution_count": null,
	   "metadata": {
	    "collapsed": true
	   },
	   "outputs": [],
"source": [
"//Ex:68\n",
"clc;\n",
"clear;\n",
"close;\n",
"R_e=6378;// in km\n",
"H=35786;// in km\n",
"E1=5;// min elevation angle in degree\n",
"E2=0;// min elevation angle in degree\n",
"x1=cos(E1*3.14/180);\n",
"x2=cos(E2*3.14/180);\n",
"R=R_e/(R_e+H);\n",
"P1=asin(R*x1);// in radian\n",
"P2=asin(R*x2);// in radian\n",
"a1=(P1)*180/3.14;// in degree\n",
"a2=(P2)*180/3.14;// in degree\n",
"y=175-(a1+a2);\n",
"printf('The angle subtended=%f degree', y);"
   ]
   }
,
{
		   "cell_type": "markdown",
		   "metadata": {},
		   "source": [
			"## Example 29.69: Determine_the_round_trip_delay_for_an_earth_station.sce"
		   ]
		  },
  {
"cell_type": "code",
	   "execution_count": null,
	   "metadata": {
	    "collapsed": true
	   },
	   "outputs": [],
"source": [
" //Ex:69\n",
"clc;\n",
"clear;\n",
"close;\n",
"r=6378;//radius of earth in km\n",
"h=35786;// in km\n",
"r_h=r+h;//height in km\n",
"E_min=5;// in degree\n",
"P=cos(E_min*3.14/180);\n",
"Q=(r/(r_h)*P);\n",
"a_mx=(asin(Q))*(180/3.14);//the theoretical max coverage angle in degree\n",
"a_mx1=E_min+a_mx;\n",
"D=(r^2)+(r_h^2)-2*r*r_h*sin(a_mx1*3.14/180);\n",
"d=sqrt(D);// in km\n",
"d1=ceil(d);//max slant range in km\n",
"c=3*10^5;// in m/s\n",
"t=2*d1/c;\n",
"printf('The round trip delay=%f millisec',t*1000);"
   ]
   }
,
{
		   "cell_type": "markdown",
		   "metadata": {},
		   "source": [
			"## Example 29.6: EX29_6.sce"
		   ]
		  },
  {
"cell_type": "code",
	   "execution_count": null,
	   "metadata": {
	    "collapsed": true
	   },
	   "outputs": [],
"source": [
"//Ex:6\n",
"clc;\n",
"clear;\n",
"close;\n",
"t_p=235.9;//Orbital period which is longer than a sidereal day in sec\n",
"d_r=360*t_p/86400;//Drift rate per day\n",
"printf('Drift rate =%f degree per day',d_r);\n",
"printf('\n Since the earth moves towards east ');"
   ]
   }
,
{
		   "cell_type": "markdown",
		   "metadata": {},
		   "source": [
			"## Example 29.70: EX29_70.sce"
		   ]
		  },
  {
"cell_type": "code",
	   "execution_count": null,
	   "metadata": {
	    "collapsed": true
	   },
	   "outputs": [],
"source": [
"//Ex:70\n",
"clc;\n",
"clear;\n",
"close;\n",
"r=6378;//radius of earth in km\n",
"r_o=r+13622;// radius of orbit in km\n",
"s_mx=180-2*(acos(r/r_o))*(180/%pi);//the max shadow angle in degree\n",
"t_e=(s_mx/360)*24;// max daily eclipse duration in hours\n",
"printf('The max shadow angle=%f degree',s_mx);\n",
"printf('\n The max daily eclipse duration=%f hours',t_e);"
   ]
   }
,
{
		   "cell_type": "markdown",
		   "metadata": {},
		   "source": [
			"## Example 29.71: EX29_71.sce"
		   ]
		  },
  {
"cell_type": "code",
	   "execution_count": null,
	   "metadata": {
	    "collapsed": true
	   },
	   "outputs": [],
"source": [
"//Ex:71\n",
"clc;\n",
"clear;\n",
"close;\n",
"r=6378;//radius of earth in km\n",
"h=35786;// height in km\n",
"r_o=2000;// in km\n",
"x=37.4;// in degree\n",
"i_e=x/2;// in degree\n",
"y=asin(i_e/23.4);\n",
"y1=y*180/%pi;// in degree\n",
"y2=floor(y1);\n",
"t=(365*y2*%pi)/(2*%pi*180);// in days\n",
"A=acos(r/(r+h));\n",
"B=A*180/%pi;// in degree\n",
"y_mx=180-2*B;\n",
"C=(asin((y_mx/2)/23.4))*(180/%pi);// in degree\n",
"t2=(365*C*%pi)/(2*%pi*180);// in days\n",
"printf('The total time of eclipse=%f days',t);\n",
"printf('\n The total time for geostationary orbit=%f hours',t2);"
   ]
   }
,
{
		   "cell_type": "markdown",
		   "metadata": {},
		   "source": [
			"## Example 29.72: EX29_72.sce"
		   ]
		  },
  {
"cell_type": "code",
	   "execution_count": null,
	   "metadata": {
	    "collapsed": true
	   },
	   "outputs": [],
"source": [
"//Ex:72\n",
"clc;\n",
"clear;\n",
"close;\n",
"R=6378;//radius of earth in km\n",
"h=35786;// height in km\n",
"r=R+h;//in km\n",
"a=(2*R+35786+300)/2;//semi major axis in km\n",
"u=39.8*10^13;//N-sq.m/kg\n",
"v_a=sqrt(u*((2/r*1000)-(1/a*1000)));//m/s\n",
"V_a=v_a/1000000;//km/s\n",
"v_c=sqrt(u/r*1000);\n",
"dv=v_c/1000000-V_a;//icremental velocity\n",
"printf('The incremental velocity=%f km/s',dv);"
   ]
   }
,
{
		   "cell_type": "markdown",
		   "metadata": {},
		   "source": [
			"## Example 29.73: Determine_the_velocity_change_required_to_circularize_the_orbit.sce"
		   ]
		  },
  {
"cell_type": "code",
	   "execution_count": null,
	   "metadata": {
	    "collapsed": true
	   },
	   "outputs": [],
"source": [
"//Ex:73\n",
"clc;\n",
"clear;\n",
"close;\n",
"i=28;// in degree\n",
"v_a=1.61;// in km/s\n",
"v_c=3.07;// in km/s\n",
"x=cos(i*3.14/180);\n",
"dv=sqrt(v_a^2+v_c^2-2*v_a*v_c*x);\n",
"printf('The velocity change=%f km/s',dv);"
   ]
   }
,
{
		   "cell_type": "markdown",
		   "metadata": {},
		   "source": [
			"## Example 29.74: Determine_the_max_line_of_sight_distance_between_two_communication_satellites.sce"
		   ]
		  },
  {
"cell_type": "code",
	   "execution_count": null,
	   "metadata": {
	    "collapsed": true
	   },
	   "outputs": [],
"source": [
"//Ex:74\n",
"clc;\n",
"clear;\n",
"close;\n",
"printf('OA=AC.sinx=(R+H)sinx');\n",
"printf('\n x=acos(R/(R+H))');\n",
"printf('\n Therefore');\n",
"printf('\n OA=(R+H)sin(acos(R/(R+H)))');\n",
"printf('\n Max line of sight=2.OA');\n",
"printf('\n Max line of sight=2(R+H)sin(acos(R/(R+H)))');"
   ]
   }
,
{
		   "cell_type": "markdown",
		   "metadata": {},
		   "source": [
			"## Example 29.75: Determine_the_max_line_of_sight_distance_and_also_for_geostationary_satellites.sce"
		   ]
		  },
  {
"cell_type": "code",
	   "execution_count": null,
	   "metadata": {
	    "collapsed": true
	   },
	   "outputs": [],
"source": [
"//Ex:75\n",
"clc;\n",
"clear;\n",
"close;\n",
"R=6370;// Radius of earth in km\n",
"x=(R/(R+R));\n",
"y=(acos(x))*(180/%pi);\n",
"d_mx=2*2*R*sin(y*%pi/180);\n",
"R_H=42164;// in km\n",
"x1=(R/(R_H));\n",
"y1=(acos(x1))*(180/%pi);\n",
"d_mx1=2*R_H*sin(y1*%pi/180);\n",
"printf('The max line of sight distance=%d km', d_mx);\n",
"printf('\n The max line of sight distance for geostationary satellites=%f km', d_mx1);"
   ]
   }
,
{
		   "cell_type": "markdown",
		   "metadata": {},
		   "source": [
			"## Example 29.76: Find_the_round_trip_propagation_delay.sce"
		   ]
		  },
  {
"cell_type": "code",
	   "execution_count": null,
	   "metadata": {
	    "collapsed": true
	   },
	   "outputs": [],
"source": [
"//Ex:76\n",
"clc;\n",
"clear;\n",
"close;\n",
"a_d=130-70;//angular difference in degree\n",
"printf('The line of sight distance(AB) b/w the two satellites in given figure');\n",
"printf('\n sq(AB)=sq(AC)+sq(BC)-2AC*BC*cos(60)');\n",
"printf('\n AC=BC=R...........(orbital radius)');\n",
"printf('\n sq(AB)=sq(R)+sq(R)-2*sq(R)*(0.5)');\n",
"printf('\n AB=R');\n",
"printf('\n Round trip time=(2R/(3*10^8))');"
   ]
   }
,
{
		   "cell_type": "markdown",
		   "metadata": {},
		   "source": [
			"## Example 29.77: Determine_the_round_trip_propagation_delay.sce"
		   ]
		  },
  {
"cell_type": "code",
	   "execution_count": null,
	   "metadata": {
	    "collapsed": true
	   },
	   "outputs": [],
"source": [
"//Ex:77\n",
"clc;\n",
"clear;\n",
"close;\n",
"a_d=30+15;//angular difference in degree\n",
"R=10000;//orbital radius in km\n",
"l_s=sqrt((R^2)+(R^2)-2*(R^2)*cos(45*3.14/180));\n",
"R_tp=(2*l_s)/(3*10^5);\n",
"printf('The round trip propagation delay=%f sec', R_tp);\n",
"printf('\n The round trip propagation delay=%f millisec', ceil(R_tp*1000));"
   ]
   }
,
{
		   "cell_type": "markdown",
		   "metadata": {},
		   "source": [
			"## Example 29.78: Determine_the_earth_station_azimuth_and_elevation_angles.sce"
		   ]
		  },
  {
"cell_type": "code",
	   "execution_count": null,
	   "metadata": {
	    "collapsed": true
	   },
	   "outputs": [],
"source": [
"//Ex:78\n",
"clc;\n",
"clear;\n",
"close;\n",
"R=6378;// Radius of earth in km\n",
"R_o=42164;//orbital radius in km\n",
"A1=(atan(tan(20*%pi/180)/(sin(60*%pi/180))))*(180/%pi);// in degree\n",
"A=180-A1;//Azimuth angle in degree\n",
"x_sl=20*%pi/180;//Diff b/t satellite longitude & earth station longitude in radians\n",
"x_l=60*%pi/180;;//earth station latitude in radian\n",
"B=cos(x_sl)*cos(x_l);\n",
"s=(acos(B))*(180/%pi);\n",
"s1=R*sin(s*%pi/180);\n",
"s2=R_o-R*B;\n",
"E=(atan(s2/s1))*(180/%pi)-s;\n",
"printf('The Azimuth angle=%f degree', A);\n",
"printf('\n The elevation angle=%f degree', E);"
   ]
   }
,
{
		   "cell_type": "markdown",
		   "metadata": {},
		   "source": [
			"## Example 29.79: Determine_the_max_eclipse_time_in_a_day_during_the_full_eclipse_period.sce"
		   ]
		  },
  {
"cell_type": "code",
	   "execution_count": null,
	   "metadata": {
	    "collapsed": true
	   },
	   "outputs": [],
"source": [
"//Ex:79\n",
"clc;\n",
"clear;\n",
"close;\n",
"R=6378;// Radius of earth in km\n",
"H=10000;// in km\n",
"A=(R/(R+H));\n",
"A1=(acos(A))*(180/%pi);\n",
"y_m=180-2*A1;\n",
"y_m1=ceil(y_m);\n",
"u=39.8*10^13;// in N sq.m/kg\n",
"a=(R+H)*1000;// in m\n",
"p_o=2*%pi*sqrt((a)^3/(u));// orbital period in sec\n",
"p_o1=p_o/3600;//  orbital period in hours\n",
"t_e=(y_m1/360)*p_o1;// eclipse duration in hours\n",
"t_e1=t_e*60;// eclipse duration in min\n",
"printf('The eclipse duration=%f hours', t_e);\n",
"printf('\n The eclipse duration=%f minutes', t_e1);"
   ]
   }
,
{
		   "cell_type": "markdown",
		   "metadata": {},
		   "source": [
			"## Example 29.7: Calculate_the_velocity_of_the_satellite_in_orbit.sce"
		   ]
		  },
  {
"cell_type": "code",
	   "execution_count": null,
	   "metadata": {
	    "collapsed": true
	   },
	   "outputs": [],
"source": [
"//Ex:7\n",
"clc;\n",
"clear;\n",
"close;\n",
"h=1000;//Altitude in km\n",
"R_e=6378;//Radius of the earth in km\n",
"a=R_e+h;//Height of satellite from centre of the earth in km\n",
"u=3.986*10^5;//Kepler's const in km^3 per sec^2\n",
"T=(4*%pi*%pi*a^3/u)^(1/2);//Time period in km\n",
"v_s=((2*%pi*a)/T);\n",
"printf('Velovity of satellite = %f km/s',v_s);"
   ]
   }
,
{
		   "cell_type": "markdown",
		   "metadata": {},
		   "source": [
			"## Example 29.80: Determine_the_incremental_velocity_required_to_correct_the_orbit_inclination.sce"
		   ]
		  },
  {
"cell_type": "code",
	   "execution_count": null,
	   "metadata": {
	    "collapsed": true
	   },
	   "outputs": [],
"source": [
"//Ex:80\n",
"clc;\n",
"clear;\n",
"close;\n",
"i=5.3;// in degree\n",
"v_a=1.61;// in km/s\n",
"v_c=3.07;// in km/s\n",
"x=cos(i*3.14/180);\n",
"dv=sqrt(v_a^2+v_c^2-2*v_a*v_c*x);\n",
"printf('The incremental velocity=%f km/s',dv);"
   ]
   }
,
{
		   "cell_type": "markdown",
		   "metadata": {},
		   "source": [
			"## Example 29.81: Determine_the_earth_station_azimuth_and_elevation_angles.sce"
		   ]
		  },
  {
"cell_type": "code",
	   "execution_count": null,
	   "metadata": {
	    "collapsed": true
	   },
	   "outputs": [],
"source": [
"//Ex:81\n",
"clc;\n",
"clear;\n",
"close;\n",
"R=6378;// Radius of earth in km\n",
"R_o=42164;//orbital radius in km\n",
"x_sl=(105-60)*%pi/180;//Diff b/t satellite longitude & earth station longitude in radians\n",
"x_l=30*%pi/180;//earth station latitude in radian\n",
"B=cos(x_sl)*cos(x_l);\n",
"s=(acos(B))*(180/%pi);\n",
"s1=R*sin(s*%pi/180);\n",
"s2=R_o-R*B;\n",
"E_a=(atan(s2/s1))*(180/%pi)-s;\n",
"x_sl1=(105-90)*%pi/180;//Diff b/t satellite longitude & earth station longitude in radians\n",
"x_l1=45*%pi/180;//earth station latitude in radian\n",
"B1=cos(x_sl1)*cos(x_l1);\n",
"so=(acos(B1))*(180/%pi);\n",
"s3=R*sin(so*%pi/180);\n",
"s4=R_o-R*B1;\n",
"E_B=(atan(s4/s3))*(180/%pi)-so;\n",
"E_b=floor(E_B);\n",
"E_a1=E_a*%pi/180;// Ea in rad\n",
"E_b2=E_b*%pi/180;// Eb in rad\n",
"L1=(R/R_o)*cos(E_a1);// in rad\n",
"M1=(asin(L1))*(180/3.14);// in rad\n",
"N1=(E_a+M1)*(%pi/180);\n",
"nm1=sin(N1);\n",
"d1=(R_o^2)+(R^2)-2*R*R_o*nm1;\n",
"d_a=sqrt(d1);\n",
"L2=(R/R_o)*cos(E_b2);// in rad\n",
"M2=(asin(L2))*(180/%pi);// in rad\n",
"N2=(E_b+M2)*(3.14/180);\n",
"nm2=sin(N2);\n",
"d2=(R_o^2)+(R^2)-2*R*R_o*nm2;\n",
"d_a2=sqrt(d2);\n",
"r_c=d_a+d_a2;\n",
"p_d=r_c/(3*10^5);\n",
"p_d1=p_d*1000;\n",
"s_tr=500000/10000;// in millisec\n",
"T_pd=p_d1+s_tr;// Total propagation delay in millisec\n",
"printf('The Total propagation delay=%f millisec', T_pd);"
   ]
   }
,
{
		   "cell_type": "markdown",
		   "metadata": {},
		   "source": [
			"## Example 29.82: EX29_82.sce"
		   ]
		  },
  {
"cell_type": "code",
	   "execution_count": null,
	   "metadata": {
	    "collapsed": true
	   },
	   "outputs": [],
"source": [
"//Ex:82\n",
"clc;\n",
"clear;\n",
"close;\n",
"d=10;//in m\n",
"f=6*10^9;//in Hz\n",
"u=0.8;//Aperture efficiency\n",
"A=(%pi*d^2)/4;\n",
"c=3*10^8;//velocity of light in m/s\n",
"y=c/f;//wavelength in m\n",
"G=(u*4*3.14*A)/(y^2);\n",
"printf('Gain=%f db',10*log(G)/log(10));"
   ]
   }
,
{
		   "cell_type": "markdown",
		   "metadata": {},
		   "source": [
			"## Example 29.83: Determine_the_width_in_degree_in_the_elevation_direction.sce"
		   ]
		  },
  {
"cell_type": "code",
	   "execution_count": null,
	   "metadata": {
	    "collapsed": true
	   },
	   "outputs": [],
"source": [
"//Ex:83\n",
"clc;\n",
"clear;\n",
"close;\n",
"dx=1*(%pi/180);//azimuth beamwidth in rad\n",
"G=315507;\n",
"dy=(4*%pi*180)/(G*dx*%pi);//the width in degree\n",
"printf('The width=%f degree',dy);"
   ]
   }
,
{
		   "cell_type": "markdown",
		   "metadata": {},
		   "source": [
			"## Example 29.84: Determine_the_antenna_power_gain_in_db_and_also_the_operational_frequency.sce"
		   ]
		  },
  {
"cell_type": "code",
	   "execution_count": null,
	   "metadata": {
	    "collapsed": true
	   },
	   "outputs": [],
"source": [
"//Ex:84\n",
"clc;\n",
"clear;\n",
"close;\n",
"x=3*10^(-4);//solid angle of antenna beam in sterad\n",
"G=(4*%pi)/x;//Power gain\n",
"g=10*log(G)/log(10);// power gain in db\n",
"u=0.90;//aperture efficiency\n",
"A=20;//crasection area\n",
"y=sqrt((u*4*%pi*%pi*A*A)/(4*G));//operational wavelength in m\n",
"c=3*10^8;//velocity of light in m/s\n",
"f=c/y;//operational frequency in Hz\n",
"printf('The antenna power gain=%f db',g);\n",
"printf('\n The operational frequency=%f MHz',f/1000000);"
   ]
   }
,
{
		   "cell_type": "markdown",
		   "metadata": {},
		   "source": [
			"## Example 29.85: Determine_the_antenna_power_gain.sce"
		   ]
		  },
  {
"cell_type": "code",
	   "execution_count": null,
	   "metadata": {
	    "collapsed": true
	   },
	   "outputs": [],
"source": [
"//Ex:85\n",
"clc;\n",
"clear;\n",
"close;\n",
"d=20;//dia in m\n",
"A=(%pi*d*d)/4;// Aperture raea\n",
"c=3*10^8;//velocity of light in m/s\n",
"f1=11.95*10^9;//in Hz\n",
"f2=14.25*10^9;// in Hz\n",
"y1=c/f1;//wavelength in m for f1\n",
"y2=c/f2;//wavelength in m for f2\n",
"u1=0.98*0.99*0.97*0.85*0.90*0.92;//aperture eff for 11.95 GHz\n",
"u2=0.96*0.99*0.97*0.85*0.90*0.92;//aperture eff for 14.25 GHz\n",
"G1=(u1*4*%pi*A)/(y1*y1);\n",
"G2=(u2*4*%pi*A)/(y2*y2);\n",
"g2=10*log(G2)/log(10);// in db\n",
"g1=10*log(G1)/log(10);// in db\n",
"printf('The antenna power gain=%f db',g1);\n",
"printf('\n The antenna power gain=%f db',g2);"
   ]
   }
,
{
		   "cell_type": "markdown",
		   "metadata": {},
		   "source": [
			"## Example 29.86: Determine_the_earth_station_EIRP.sce"
		   ]
		  },
  {
"cell_type": "code",
	   "execution_count": null,
	   "metadata": {
	    "collapsed": true
	   },
	   "outputs": [],
"source": [
"//Ex:86\n",
"clc;\n",
"clear;\n",
"close;\n",
"p_o=10*log(10000)/log(10);// power at output in dbW\n",
"g_a=60;//antenna gain in dbW\n",
"l_s=2;// losses in dbw\n",
"e_irp=p_o+g_a-l_s;// EIRP in dbw\n",
"printf('The earth station EIRP=%d dbW',e_irp);"
   ]
   }
,
{
		   "cell_type": "markdown",
		   "metadata": {},
		   "source": [
			"## Example 29.87: Determine_the_equivalent_noise_temp_of_the_cascaded_arrangement.sce"
		   ]
		  },
  {
"cell_type": "code",
	   "execution_count": null,
	   "metadata": {
	    "collapsed": true
	   },
	   "outputs": [],
"source": [
"//Ex:87\n",
"clc;\n",
"clear;\n",
"close;\n",
"t_e1=100;// in K\n",
"t_e2=60;// in K\n",
"t_e3=20;// in K\n",
"G1=10^6;\n",
"G2=10^4;\n",
"t_e=t_e1+(t_e2/G1)+(t_e3/G1*G2);\n",
"printf('The equivalent noise temperature=%d K',t_e);"
   ]
   }
,
{
		   "cell_type": "markdown",
		   "metadata": {},
		   "source": [
			"## Example 29.88: Determine_the_noise_figure_of_the_cascaded_arrangement.sce"
		   ]
		  },
  {
"cell_type": "code",
	   "execution_count": null,
	   "metadata": {
	    "collapsed": true
	   },
	   "outputs": [],
"source": [
"//Ex:88\n",
"clc;\n",
"clear;\n",
"close;\n",
"F1=2;\n",
"F2=10;\n",
"F3=15;\n",
"F4=20;\n",
"G1=100;\n",
"G2=10;\n",
"G3=10;\n",
"F=F1+(F2-1)/G1+(F3-1)/(G1*G2)+(F4-1)/(G1*G2*G3);\n",
"f=10*log(F)/log(10);//noise figure in db\n",
"printf('The noise figure=%f db',f);"
   ]
   }
,
{
		   "cell_type": "markdown",
		   "metadata": {},
		   "source": [
			"## Example 29.89: EX29_89.sce"
		   ]
		  },
  {
"cell_type": "code",
	   "execution_count": null,
	   "metadata": {
	    "collapsed": true
	   },
	   "outputs": [],
"source": [
"//Ex:89\n",
"clc;\n",
"clear;\n",
"close;\n",
"t_a=60;// antenna noise temp in k\n",
"l1=1.075;//loss in waveguide in K\n",
"t_o=290;// in K\n",
"t_e2=160;// in K;\n",
"t_e3=10000;// in k\n",
"G2=10^6;// low noise ampr gain\n",
"t_s=(t_a/l1)+(l1-1)*(t_o)/l1;// noise temp in k\n",
"t_e=t_e2+(t_e3/G2);// Equivalent noise temp in K\n",
"t=t_s+t_e;// system noise temp in k\n",
"T=10*log(t)/log(10);//system noise temp in db\n",
"G=66-0.3;// in db\n",
"g_t=G-T;//G/T ratio in db/K\n",
"printf('The system noise temperature=%f K', t);\n",
"printf('\n The G/T ratio=%f db/K', g_t);"
   ]
   }
,
{
		   "cell_type": "markdown",
		   "metadata": {},
		   "source": [
			"## Example 29.8: calculate_the_component_of_velocity_towards_an_observer_at_an_earth_station.sce"
		   ]
		  },
  {
"cell_type": "code",
	   "execution_count": null,
	   "metadata": {
	    "collapsed": true
	   },
	   "outputs": [],
"source": [
"//Ex:8\n",
"clc;\n",
"clear;\n",
"close;\n",
"r_e=6378;//radius of earth in km\n",
"h=1000;//altitude in km\n",
"cosx=r_e/(r_e+h);\n",
"v_s=7.35;//Velocity of satellite in km\n",
"v_tr=v_s*cosx;//component of satellite velocity towardsthe observer\n",
"printf('Component of the satellite velocity=%f km/sec',v_tr);"
   ]
   }
,
{
		   "cell_type": "markdown",
		   "metadata": {},
		   "source": [
			"## Example 29.90: EX29_90.sce"
		   ]
		  },
  {
"cell_type": "code",
	   "execution_count": null,
	   "metadata": {
	    "collapsed": true
	   },
	   "outputs": [],
"source": [
"//Ex:90\n",
"clc;\n",
"clear;\n",
"close;\n",
"t_a=60;// antenna noise temp in k\n",
"l1=1.075;//loss in waveguide in K\n",
"t_o=290;// in K\n",
"t_e2=160;// in K;\n",
"t_e3=10000;// in k\n",
"G2=10^6;// low noise ampr gain\n",
"t_eq=(l1-1)*t_o+(t_e2*l1)+(t_e3*l1)/G2;// in K\n",
"t_s1=t_a+t_eq;// in k\n",
"T_s1=10*log(t_s1)/log(10);// in db\n",
"G=66;// in db\n",
"g_t1=G-T_s1;//G/T ratio in db/K\n",
"t_s2=(t_a*G2)/l1+(l1-1)*(t_o*G2)/l1+(t_e2*G2)+t_e3;\n",
"T_s2=10*log(t_s2)/log(10);// in db\n",
"G_2=66-0.3+60;// in db\n",
"g_t2=G_2-T_s2;//G/T ratio in db/K\n",
"printf('The G/T ratio=%f db/K', g_t1);\n",
"printf('\n The G/T ratio=%f db/K', g_t2);\n",
"printf('\n Both the G/T ratio are same');"
   ]
   }
,
{
		   "cell_type": "markdown",
		   "metadata": {},
		   "source": [
			"## Example 29.91: EX29_91.sce"
		   ]
		  },
  {
"cell_type": "code",
	   "execution_count": null,
	   "metadata": {
	    "collapsed": true
	   },
	   "outputs": [],
"source": [
"//Ex:91\n",
"clc;\n",
"clear;\n",
"close;\n",
"b_c=36;//carrier BW in MHz\n",
"f_c=1000;//Center freq in MHz\n",
"f_i=70;// first intermediate freq in MHz\n",
"f_smx=6400;//max uplink freq spectrum in MHz\n",
"f_smn=5900;//min uplink freq spectrum in MHz\n",
"f_l1=f_c-f_i;// in MHz\n",
"f_l2mx=f_smx-f_c;// in MHz\n",
"f_l2mn=f_smn-f_c;// in MHz\n",
"f_s1=f_smx-2*(f_l1+f_i);\n",
"f_s2=f_smn-2*(f_l1+f_i);\n",
"printf('The first local oscillator frequency=%f MHz', f_l1);\n",
"printf('\n The max second oscillator frequency =%f GHz', f_l2mx/1000);\n",
"printf('\n The min second oscillator frequency =%f GHz', f_l2mn/1000);\n",
"printf('\n The max frequency spectrum =%f GHz', f_s1/1000);\n",
"printf('\n The min frequency spectrum =%f GHz', f_s2/1000);"
   ]
   }
,
{
		   "cell_type": "markdown",
		   "metadata": {},
		   "source": [
			"## Example 29.92: EX29_92.sce"
		   ]
		  },
  {
"cell_type": "code",
	   "execution_count": null,
	   "metadata": {
	    "collapsed": true
	   },
	   "outputs": [],
"source": [
"//Ex:92\n",
"clc;\n",
"clear;\n",
"close;\n",
"b_c=72;//carrier BW in MHz\n",
"f_c=1190;//Center freq in MHz\n",
"f_i=140;// first intermediate freq in MHz\n",
"f_smx=14500;//max uplink freq spectrum in MHz\n",
"f_smn=14000;//min uplink freq spectrum in MHz\n",
"f_l1=f_c-f_i;// in MHz;\n",
"f_l1=f_c-f_i;// in MHz\n",
"f_l2mx=f_smx-f_c;// in MHz\n",
"f_l2mn=f_smn-f_c;// in MHz\n",
"f_s1=f_smx-2*(f_l1+f_i);\n",
"f_s2=f_smn-2*(f_l1+f_i);\n",
"b_pf1=140;// in MHz\n",
"b_pf2=500;// in MHz\n",
"printf('The first local oscillator frequency=%f MHz', f_l1);\n",
"printf('\n The max second oscillator frequency =%f GHz', f_l2mx/1000);\n",
"printf('\n The min second oscillator frequency =%f GHz', f_l2mn/1000);\n",
"printf('\n The max frequency spectrum =%f GHz', f_s1/1000);\n",
"printf('\n The min frequency spectrum =%f GHz', f_s2/1000);\n",
"printf('\n The BW of BPF-1=%f MHz', b_pf1);\n",
"printf('\n The BW of BPF-1=%f MHz', b_pf2);"
   ]
   }
,
{
		   "cell_type": "markdown",
		   "metadata": {},
		   "source": [
			"## Example 29.93: EX29_93.sce"
		   ]
		  },
  {
"cell_type": "code",
	   "execution_count": null,
	   "metadata": {
	    "collapsed": true
	   },
	   "outputs": [],
"source": [
"//Ex:93\n",
"clc;\n",
"clear;\n",
"close;\n",
"b_c=36;//carrier BW in MHz\n",
"f_d=4000;//Dowm link freq in MHz\n",
"f_i=70;// first intermediate freq in MHz\n",
"f_smx=4200;//max uplink freq spectrum in MHz\n",
"f_smn=3700;//min uplink freq spectrum in MHz\n",
"f_dl2=1000;// in MHz\n",
"f_l2=f_d-f_dl2;// in MHz\n",
"f_l1=f_d-f_i-f_l2;// in MHz\n",
"printf('The max second oscillator frequency =%f GHz', f_l2/1000);\n",
"printf('\n The min second oscillator frequency =%f MHz', f_l1);\n",
"printf('\n The center frequency of BPF-1 =%f GHz', f_dl2/1000);\n",
"printf('\n The BW=%f MHz', b_c);"
   ]
   }
,
{
		   "cell_type": "markdown",
		   "metadata": {},
		   "source": [
			"## Example 29.94: EX29_94.sce"
		   ]
		  },
  {
"cell_type": "code",
	   "execution_count": null,
	   "metadata": {
	    "collapsed": true
	   },
	   "outputs": [],
"source": [
"//Ex:94\n",
"clc;\n",
"clear;\n",
"close;\n",
"b_c=72;//carrier BW in MHz\n",
"f_l1=2100;//first local oscillator frequency in MHz\n",
"f_i=140;// first intermediate freq in MHz\n",
"f_smx=11700;//max downlink freq spectrum in MHz\n",
"f_smn=10700;//min downlink freq spectrum in MHz\n",
"f_c=f_l1+f_i;//in MHZ\n",
"f_l2mx=f_smx-f_c;// in MHz\n",
"f_l2mn=f_smn-f_c;// in MHz\n",
"printf('The center frequency of BPF_1=%f GHz', f_c/1000);\n",
"printf('\n The BW=%f MHz', f_i);\n",
"printf('\n The max second oscillator frequency =%f GHz', f_l2mx/1000);\n",
"printf('\n The min second oscillator frequency =%f GHz', f_l2mn/1000);"
   ]
   }
,
{
		   "cell_type": "markdown",
		   "metadata": {},
		   "source": [
			"## Example 29.95: EX29_95.sce"
		   ]
		  },
  {
"cell_type": "code",
	   "execution_count": null,
	   "metadata": {
	    "collapsed": true
	   },
	   "outputs": [],
"source": [
"//Ex:95\n",
"clc;\n",
"clear;\n",
"close;\n",
"g_a=55;// antenna gain in db\n",
"l_w=0.1;//waveguide loss in db\n",
"L=10^(0.01);//waveguide loss\n",
"t_o=300;// in k\n",
"t_a=25+3.3+1+10+15;//antenna noise temperature in k\n",
"t_e=(L-1)*t_o;//equivalent noise temp in k\n",
"t_s=t_a+(L-1)*t_o/L;// in k\n",
"g_ln=10^(55/10);\n",
"t_eq=45+(315000/g_ln);// in K\n",
"t=t_s+t_eq;// in K\n",
"G=g_a-l_w;// in db\n",
"g_t=G-10*log(t)/log(10);// in db/K\n",
"printf('The system noise temperature =%d k', t);\n",
"printf('\n The G/T ratio=%f db/K', g_t);"
   ]
   }
,
{
		   "cell_type": "markdown",
		   "metadata": {},
		   "source": [
			"## Example 29.96: Determine_the_equivalent_noise_temperature_of_the_low_noise_amplifier.sce"
		   ]
		  },
  {
"cell_type": "code",
	   "execution_count": null,
	   "metadata": {
	    "collapsed": true
	   },
	   "outputs": [],
"source": [
"//Ex:96\n",
"clc;\n",
"clear;\n",
"close;\n",
"t_o=300;// in K\n",
"g_a=65;// antenna gain in db\n",
"n_c=60;//in K\n",
"l_w=0.5;//waveguide loss in db\n",
"g_s=g_a-l_w;//system gain in db\n",
"L=10^(.5/10);\n",
"t_s=(n_c/L)+(L-1)*t_o/L;\n",
"g_t=40;// in db/K\n",
"t=10^((g_s-g_t)/10);//in k\n",
"t_e=t-t_s;//in k\n",
"printf('The equivalent noise temperature=%f K', t_e);"
   ]
   }
,
{
		   "cell_type": "markdown",
		   "metadata": {},
		   "source": [
			"## Example 29.97: Determine_the_output_powers_of_the_three_carriers.sce"
		   ]
		  },
  {
"cell_type": "code",
	   "execution_count": null,
	   "metadata": {
	    "collapsed": true
	   },
	   "outputs": [],
"source": [
"//Ex:97\n",
"clc;\n",
"clear;\n",
"close;\n",
"p_i1=50;// i/p power at f1 in db\n",
"p_i2=40;// i/p power at f2 in db\n",
"p_i3=25;// i/p power at f2 in db\n",
"p_c1=47;// carrier power at (f1) at i/p of second 3 db coupler\n",
"p_c2=37;// carrier power at (f2) at i/p of second 3 db coupler\n",
"p_c3=25;// carrier power at (f3) at i/p of second 3 db coupler\n",
"pc1=p_c1-3;//carrier power at (f1) at output in db\n",
"pc2=p_c2-3;//carrier power at (f2) at output in db\n",
"pc3=p_c3-3;//carrier power at (f3) at output in db\n",
"printf('The carrier power at (f1) at output=%f db', pc1);\n",
"printf('\n The carrier power at (f2) at output=%f db', pc2);\n",
"printf('\n The carrier power at (f3) at output=%f db', pc3);"
   ]
   }
,
{
		   "cell_type": "markdown",
		   "metadata": {},
		   "source": [
			"## Example 29.98: EX29_98.sce"
		   ]
		  },
  {
"cell_type": "code",
	   "execution_count": null,
	   "metadata": {
	    "collapsed": true
	   },
	   "outputs": [],
"source": [
"//Ex:98\n",
"clc;\n",
"clear;\n",
"close;\n",
"f_d1=3;// in db\n",
"A=10^(-f_d1/10);\n",
"B=1-A;\n",
"l_s=-10*log(B)/log(10);\n",
"f_d2=4.76;// in db\n",
"A2=10^(-f_d2/10);\n",
"B2=1-A2;\n",
"l_s2=-10*log(B2)/log(10);\n",
"f_d3=6;// in db\n",
"A3=10^(-f_d3/10);\n",
"B3=1-A3;\n",
"l_s3=-10*log(B3)/log(10);\n",
"f_d4=6.97;// in db\n",
"A4=10^(-f_d4/10);\n",
"B4=1-A4;\n",
"l_s4=-10*log(B4)/log(10);\n",
"l_o=f_d3+l_s4;//in db\n",
"printf('The power loss suffered of the five carriers after all have combined=%f db',l_o);"
   ]
   }
,
{
		   "cell_type": "markdown",
		   "metadata": {},
		   "source": [
			"## Example 29.99: Find_the_link_carrier_to_noise_ratio.sce"
		   ]
		  },
  {
"cell_type": "code",
	   "execution_count": null,
	   "metadata": {
	    "collapsed": true
	   },
	   "outputs": [],
"source": [
"//Ex:99\n",
"clc;\n",
"clear;\n",
"close;\n",
"c_nu=10^(25/10);// The uplink carrier to noise ratio\n",
"c_nd=10^(20/10);// The uplink carrier to noise ratio\n",
"c_n1=(1/c_nu)+(1/c_nd);\n",
"c_n=1/c_n1;// carrier to noise ratio\n",
"printf('The carrier to noise ratio=%f db', 10*log(c_n)/log(10));"
   ]
   }
,
{
		   "cell_type": "markdown",
		   "metadata": {},
		   "source": [
			"## Example 29.9: EX29_9.sce"
		   ]
		  },
  {
"cell_type": "code",
	   "execution_count": null,
	   "metadata": {
	    "collapsed": true
	   },
	   "outputs": [],
"source": [
"//Ex:9\n",
"clc;\n",
"clear;\n",
"close;\n",
"v_tr=6.354;//Velocity component of satellite\n",
"y=0.015// wavelength for Ka band tx with frequency 20 gega hertz in meter\n",
"d_s=v_tr/y;//Doppler shift in khz\n",
"printf('Doppler shift =%f kHz',d_s);"
   ]
   }
],
"metadata": {
		  "kernelspec": {
		   "display_name": "Scilab",
		   "language": "scilab",
		   "name": "scilab"
		  },
		  "language_info": {
		   "file_extension": ".sce",
		   "help_links": [
			{
			 "text": "MetaKernel Magics",
			 "url": "https://github.com/calysto/metakernel/blob/master/metakernel/magics/README.md"
			}
		   ],
		   "mimetype": "text/x-octave",
		   "name": "scilab",
		   "version": "0.7.1"
		  }
		 },
		 "nbformat": 4,
		 "nbformat_minor": 0
}
