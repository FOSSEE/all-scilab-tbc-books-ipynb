{
"cells": [
 {
		   "cell_type": "markdown",
	   "metadata": {},
	   "source": [
       "# Chapter 5: Laminar Boundary Layers"
	   ]
	},
{
		   "cell_type": "markdown",
		   "metadata": {},
		   "source": [
			"## Example 5.10: Mass_flow_within_boundary_layer.sce"
		   ]
		  },
  {
"cell_type": "code",
	   "execution_count": null,
	   "metadata": {
	    "collapsed": true
	   },
	   "outputs": [],
"source": [
"//Example 5.10\n",
"//Mass flow within boundary layer\n",
"//Page No. 300\n",
"clc;clear;close;\n",
"\n",
"U=2;           //in m/s\n",
"x1=0.1;        //in m\n",
"x2=0.3;       //in m\n",
"rho=1.17;         //in kg/m^3\n",
"nu=1.85*10^-5;           //in kg/ms\n",
"Re_x1=(rho*U*x1)/nu;\n",
"Re_x2=(rho*U*x2)/nu;\n",
"d1=4.64*x1/sqrt(Re_x1);\n",
"d2=4.64*x2/sqrt(Re_x2);\n",
"m=5*rho*U*(d2-d1)/8;\n",
"printf('\nMass flow rate = %f kg/s\n\n\n',m);"
   ]
   }
,
{
		   "cell_type": "markdown",
		   "metadata": {},
		   "source": [
			"## Example 5.1: Skin_Friction_Drag.sce"
		   ]
		  },
  {
"cell_type": "code",
	   "execution_count": null,
	   "metadata": {
	    "collapsed": true
	   },
	   "outputs": [],
"source": [
"//Example 5.1\n",
"//Skin Friction Drag\n",
"//Page No. 288 \n",
"clc;clear;close;\n",
"\n",
"u=3;            //in m/s\n",
"L=1;            //in m\n",
"b=2;            //in m\n",
"rho=1.23;        //in kg/m^3\n",
"mu=1.46*10^-5;       //in m^2/s\n",
"Re=(u*L)/mu;\n",
"Cf=1.328/Re^(1/2);\n",
"F=Cf*rho*u*u*L*b/2;\n",
"d1=L*5/(Re)^(1/2);\n",
"d2=L*1.7208/(Re)^(1/2);\n",
"d3=L*0.664/(Re)^(1/2);\n",
"d1=d1*1000;       //conversion to mm\n",
"d2=d2*1000;       //conversion to mm\n",
"d3=d3*1000;       //conversion to mm\n",
"printf('\nDrag on the plate = %f N\nBoundary Layer Thickness = %f mm\nDisplacement Thickness = %f mm\nMomentum Thickness = %f mm\n\n\n\n',F,d1,d2,d3);"
   ]
   }
,
{
		   "cell_type": "markdown",
		   "metadata": {},
		   "source": [
			"## Example 5.2: Maximum_Bending_Moment.sce"
		   ]
		  },
  {
"cell_type": "code",
	   "execution_count": null,
	   "metadata": {
	    "collapsed": true
	   },
	   "outputs": [],
"source": [
"//Example 5.2\n",
"//Maximum Bending Moment\n",
"//Page No. 290\n",
"clc;clear;close;\n",
"\n",
"u=1.5;         //in m/s\n",
"L=6;            //in m\n",
"A=.15;           //in m\n",
"rho=1000;        //in kg/m^3\n",
"mu=1.02*10^-6;       //in m^2/s\n",
"Cd=2.1;\n",
"Re=(u*A)/mu;\n",
"F=Cd*rho*u*u*L*A/2;\n",
"Mo=F*L/2;\n",
"I=(A^4)/12;\n",
"sigma=Mo*(A/2)/I;\n",
"sigma=sigma/1000;      //conversion to kN/m^2 from N/m^2\n",
"printf('\nDrag = %f N\nBending Moment at the Base = %f Nm\nBending Stress at the Bottom = %f kN/m^2\n\n',F,Mo,sigma);"
   ]
   }
,
{
		   "cell_type": "markdown",
		   "metadata": {},
		   "source": [
			"## Example 5.5: Velocity_Boundary_Layer.sce"
		   ]
		  },
  {
"cell_type": "code",
	   "execution_count": null,
	   "metadata": {
	    "collapsed": true
	   },
	   "outputs": [],
"source": [
"//Example 5.5\n",
"//Velocity Boundary Layer\n",
"//Page No. 294\n",
"clc;clear;close;\n",
"\n",
"U=2;         //in m/s\n",
"L=0.1;           //in m\n",
"x=0.05;         //in m\n",
"y=0.000225;            //in m\n",
"rho=983.1;          //in kg/m^3\n",
"f=0.629;       //refer book table 5.1;\n",
"mu=0.4748*10^-6;    //m^2/s\n",
"Re=(U*x)/mu;\n",
"d1=x*5/(Re)^(1/2);\n",
"n=y*(U/(mu*x))^(1/2);\n",
"u=U*f;\n",
"Re_L=U*L/mu;\n",
"Cf=1.328/Re_L^(1/2);\n",
"F=Cf*rho*U*U*L/2;\n",
"printf('\nThickness of velocity boundary layer at x = 5cm = %f m\nFluid Velocity at y = 0.0225cm = %f m/s\nDrag = %f N\n\n',d1,u,F);"
   ]
   }
,
{
		   "cell_type": "markdown",
		   "metadata": {},
		   "source": [
			"## Example 5.6: Velocity_Boundary_Layer.sce"
		   ]
		  },
  {
"cell_type": "code",
	   "execution_count": null,
	   "metadata": {
	    "collapsed": true
	   },
	   "outputs": [],
"source": [
"//Example 5.6\n",
"//Velocity Boundary Layer\n",
"//Page No. 295\n",
"clc;clear;close;\n",
"\n",
"U=2;               //in m/s\n",
"L=0.1;               //in m\n",
"x=0.05;             //in m\n",
"y=0.000225;            //in m\n",
"rho=983.1;             //kg/m^3\n",
"mu=0.4748*10^-6;         //m^2/s\n",
"Re=(U*x)/mu;\n",
"d1=x*4.64/(Re)^(1/2);\n",
"n=y/d1;\n",
"u=U*(3*n-n^3)/2;\n",
"Tw=(0.323275*rho*U^2)/sqrt(Re);\n",
"Re_L=U*L/mu;\n",
"Cf=1.292/Re_L^(1/2);\n",
"F=Cf*rho*U*U*L/2;\n",
"printf('\nThickness of velocity boundary layer at x = 5cm = %f m\nFluid Velocity at y = 0.0225cm = %f m/s\nDrag = %f N\n\n',d1,u,F);"
   ]
   }
,
{
		   "cell_type": "markdown",
		   "metadata": {},
		   "source": [
			"## Example 5.7: Pressure_Change.sce"
		   ]
		  },
  {
"cell_type": "code",
	   "execution_count": null,
	   "metadata": {
	    "collapsed": true
	   },
	   "outputs": [],
"source": [
"//Example 5.7\n",
"//Pressure Change\n",
"//Page No. 296\n",
"clc;clear;close;\n",
"\n",
"U0=30;         //in m/s\n",
"h=80;           //in mm\n",
"d1=1;           //in mm\n",
"rho=1.23;        //in kg/m^3\n",
"dp=(rho*U0*U0/2)*(((h^2)/(h-2*d1)^2)^2-1);\n",
"printf('\nPressure Change = %f N/m^2\n\n',dp);"
   ]
   }
,
{
		   "cell_type": "markdown",
		   "metadata": {},
		   "source": [
			"## Example 5.9: Mass_Flow_Rate.sce"
		   ]
		  },
  {
"cell_type": "code",
	   "execution_count": null,
	   "metadata": {
	    "collapsed": true
	   },
	   "outputs": [],
"source": [
"//Example 5.9\n",
"//Mass Flow Rate\n",
"//Page No. 298\n",
"clc;clear;close;\n",
"\n",
"L=1;         //in m\n",
"b=0.3;          //in m\n",
"U=30;             //in m/s\n",
"d1=0.0024;         //in m\n",
"rho=1.23;          //in kg/m^3\n",
"m_ab=rho*U*b*d1/2;\n",
"Rx=-1*rho*U*U*b*d1/6;\n",
"Rx=-1*Rx;\n",
"printf('\nMass flow rate across surface ab = %f kg/s\nThe force required to hold the plate in position is = %f N\n\n',m_ab,Rx);\n",
"printf('\n\n\nNote: Computational errors in book');"
   ]
   }
],
"metadata": {
		  "kernelspec": {
		   "display_name": "Scilab",
		   "language": "scilab",
		   "name": "scilab"
		  },
		  "language_info": {
		   "file_extension": ".sce",
		   "help_links": [
			{
			 "text": "MetaKernel Magics",
			 "url": "https://github.com/calysto/metakernel/blob/master/metakernel/magics/README.md"
			}
		   ],
		   "mimetype": "text/x-octave",
		   "name": "scilab",
		   "version": "0.7.1"
		  }
		 },
		 "nbformat": 4,
		 "nbformat_minor": 0
}
