{
"cells": [
 {
		   "cell_type": "markdown",
	   "metadata": {},
	   "source": [
       "# Chapter 9: Experimental Techniques"
	   ]
	},
{
		   "cell_type": "markdown",
		   "metadata": {},
		   "source": [
			"## Example 9.8: Students_t_distribution.sce"
		   ]
		  },
  {
"cell_type": "code",
	   "execution_count": null,
	   "metadata": {
	    "collapsed": true
	   },
	   "outputs": [],
"source": [
"//Example 9.8\n",
"//Student's t-distribution\n",
"//Page No. 553\n",
"clc;clear;close;\n",
"\n",
"n=9;\n",
"x_avg=17;\n",
"sigma=4;\n",
"t=2.31;        //from table A2 in book\n",
"printf('\nx = %i +- %.2f\nx_avg = %i +- %.2f',x_avg,t*sigma,x_avg,t*sigma/sqrt(n));\n",
""
   ]
   }
,
{
		   "cell_type": "markdown",
		   "metadata": {},
		   "source": [
			"## Example 9.9: Students_t_distribution.sce"
		   ]
		  },
  {
"cell_type": "code",
	   "execution_count": null,
	   "metadata": {
	    "collapsed": true
	   },
	   "outputs": [],
"source": [
"//Example 9.9\n",
"//Student's t-distribution\n",
"//Page No. 553\n",
"clc;clear;close;\n",
"\n",
"n=4;\n",
"t=3.18;        //from table A2 in book\n",
"x=[65.3,68.2,67.7,66.4];\n",
"x_avg=(x(1)+x(2)+x(3)+x(4))/4;\n",
"sigma=1.308;\n",
"printf('\nx = %.1f +- %.2f\nx_avg = %.1f +- %.3f',x_avg,t*sigma,x_avg,t*sigma/sqrt(n));\n",
""
   ]
   }
],
"metadata": {
		  "kernelspec": {
		   "display_name": "Scilab",
		   "language": "scilab",
		   "name": "scilab"
		  },
		  "language_info": {
		   "file_extension": ".sce",
		   "help_links": [
			{
			 "text": "MetaKernel Magics",
			 "url": "https://github.com/calysto/metakernel/blob/master/metakernel/magics/README.md"
			}
		   ],
		   "mimetype": "text/x-octave",
		   "name": "scilab",
		   "version": "0.7.1"
		  }
		 },
		 "nbformat": 4,
		 "nbformat_minor": 0
}
