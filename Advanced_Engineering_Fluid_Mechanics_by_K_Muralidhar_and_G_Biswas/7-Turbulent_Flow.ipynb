{
"cells": [
 {
		   "cell_type": "markdown",
	   "metadata": {},
	   "source": [
       "# Chapter 7: Turbulent Flow"
	   ]
	},
{
		   "cell_type": "markdown",
		   "metadata": {},
		   "source": [
			"## Example 7.2: Power_required.sce"
		   ]
		  },
  {
"cell_type": "code",
	   "execution_count": null,
	   "metadata": {
	    "collapsed": true
	   },
	   "outputs": [],
"source": [
"//Example 7.2\n",
"//Power required\n",
"//Page No. 429\n",
"clc;clear;close;\n",
"\n",
"Q=1;        //in m^3/s\n",
"D_i=0.5;         //in m\n",
"rho=1000;        //kg/m^3\n",
"nu=1.02*10^-6;        //in m^2/s\n",
"g=9.81;          //in m/s^2\n",
"U_av=Q/(%pi*D_i^2/4);\n",
"Re=U_av*D_i/nu;\n",
"f=0.01;\n",
"Fric_loss=f*U_av^2/(D_i*2*g);\n",
"P=Fric_loss*rho*g*Q;\n",
"printf('Power required = %f kW/km',P)"
   ]
   }
,
{
		   "cell_type": "markdown",
		   "metadata": {},
		   "source": [
			"## Example 7.3: Friction_Factor.sce"
		   ]
		  },
  {
"cell_type": "code",
	   "execution_count": null,
	   "metadata": {
	    "collapsed": true
	   },
	   "outputs": [],
"source": [
"//Example 7.3\n",
"//Friction Factor\n",
"//Page No. 430\n",
"clc;clear;close;\n",
"\n",
"D=60;     // in mm\n",
"Ep=1.2;       //in mm\n",
"Re=10^8;\n",
"Factor=Ep/(D/2);\n",
"\n",
"f=1/(1.74-2*log10(Factor))^2;\n",
"Er=1/sqrt(f)-(1.74-2*log10(Factor+18.7/(Re*sqrt(f))));\n",
"printf('f = %f \nEr = %f',f,Er);\n",
"f1=[0.0485,0.049,0.0475];\n",
"for i=1:3\n",
"    Er=1/sqrt(f1(i))-(1.74-2*log10(Factor+18.7/(Re*sqrt(f1(i)))));\n",
"    printf('\n\nf = %f \nEr = %f',f1(i),Er);\n",
"end\n",
"printf('\n\nSince minimum error value is shown by f=0.048605, that is taken to be final answer\nNote: Computational error in book')"
   ]
   }
,
{
		   "cell_type": "markdown",
		   "metadata": {},
		   "source": [
			"## Example 7.4: Developed_flow_of_water.sce"
		   ]
		  },
  {
"cell_type": "code",
	   "execution_count": null,
	   "metadata": {
	    "collapsed": true
	   },
	   "outputs": [],
"source": [
"//Example 7.4\n",
"//Developed flow of water\n",
"//Page No. 431\n",
"clc;clear;close;\n",
"\n",
"D=6;          //in mm\n",
"D=D/100;      //conversion to m\n",
"R=D/2;          \n",
"Q=5*10^-3;    //conversion to m^3/s\n",
"L=10;            //in m\n",
"n=7;            //no unit\n",
"rho=1000;        //in kg/m^3\n",
"nu=1.02*10^-6;   //in m^2/s\n",
"U_av=Q/(%pi*D^2/4);\n",
"Re=U_av*D/nu;\n",
"f=0.3164/Re^(1/4);\n",
"Pg=(f*rho*U_av^2)/(2*D);           //Pressure Gradient\n",
"Pd=Pg*L;                          //Pressure Drop over 10m\n",
"Tw=Pg*R/2;\n",
"u_s=U_av*(n+1)*(2*n+1)/(2*n^2);\n",
"ds=(Tw*R^(1/7)/(nu*u_s*1000))^(-7/6);      //Thickness of laminar sublayer\n",
"printf('\nFriction Factor = %f \nPressure Drop over 10m = %f N/m^2\nThickness of laminar sublayer = %f m',f,Pd,ds);\n",
"printf('\n\n\nNote: Slight computational errors in book')"
   ]
   }
,
{
		   "cell_type": "markdown",
		   "metadata": {},
		   "source": [
			"## Example 7.5: Drag_force.sce"
		   ]
		  },
  {
"cell_type": "code",
	   "execution_count": null,
	   "metadata": {
	    "collapsed": true
	   },
	   "outputs": [],
"source": [
"//Example 7.5\n",
"//Drag force\n",
"//Page No. 433\n",
"clc;clear;close;\n",
"\n",
"U=3;          //in m/s\n",
"b=1;           //in m\n",
"L=1;           //in m\n",
"Re_x=5*10^5;      //no unit\n",
"rho=1025;        //in kg/m^3\n",
"nu=1.044*10^-6;        //in m^2/s\n",
"Re_l=U*L/nu;        //reynolds number on the basis of keel length\n",
"\n",
"//assuming turbulent boundary-layer\n",
"Cf=0.074/Re_l^(1/5);\n",
"Tw=rho*U^2*Cf/2;\n",
"D1=Tw*b*L;\n",
"Df=2*D1;\n",
"printf('\nTotal Drag Force on the keel (assuming turbulent boundary-layer)= %f N',Df);\n",
"\n",
"//taking into account the growth of laminar growtn boundary\n",
"x_tr=Re_x*nu/U;\n",
"d_tr=x_tr*5/sqrt(Re_x);\n",
"Cf_lam=1.328/sqrt(Re_x);\n",
"D1=rho*U^2*b*(Cf*L-Cf*x_tr+Cf_lam*x_tr)/2;\n",
"Df=2*D1;\n",
"printf('\nTotal Drag Force on the keel (taking into account the growth of laminar growtn boundary)= %f N\n\n\nNote: Computational Error in the book',Df);"
   ]
   }
,
{
		   "cell_type": "markdown",
		   "metadata": {},
		   "source": [
			"## Example 7.6: Moody_desig.sce"
		   ]
		  },
  {
"cell_type": "code",
	   "execution_count": null,
	   "metadata": {
	    "collapsed": true
	   },
	   "outputs": [],
"source": [
"//Example 7.6\n",
"//Moody design\n",
"//Page No. 435\n",
"clc;clear;close;\n",
"\n",
"U=3;         //in m/s\n",
"b=1;          //in m\n",
"L=800;       //in m\n",
"Re_x=10^6;        //no unit\n",
"rho=1000;           //in kg/m^3\n",
"nu=1.02*10^-6;      //in m^2/s\n",
"ut_ep_v=100;          //no unit\n",
"\n",
"//calculation via trial and error cannot be shown here\n",
"x=268;      // = R/e_p\n",
"u_t=U/(2.5*log(x)+8.5);\n",
"e_p=ut_ep_v*nu/u_t;\n",
"R=x*e_p;\n",
"D=2*R;\n",
"f=0.023;        //no unit\n",
"yl=5*nu/u_t;\n",
"yb=13*yl;\n",
"yl=yl*10^3;    //conversion to mm\n",
"yb=yb*10^3;    //conversion to mm\n",
"P=%pi*rho*nu*L*u_t^2*Re_x;\n",
"printf('\nDiameter = %g m\nLaminar Sub-Layer Thickness = %g mm\nBuffer Layer Thickness = %g mm\nPower required = %g W',D,yl,yb,P);"
   ]
   }
],
"metadata": {
		  "kernelspec": {
		   "display_name": "Scilab",
		   "language": "scilab",
		   "name": "scilab"
		  },
		  "language_info": {
		   "file_extension": ".sce",
		   "help_links": [
			{
			 "text": "MetaKernel Magics",
			 "url": "https://github.com/calysto/metakernel/blob/master/metakernel/magics/README.md"
			}
		   ],
		   "mimetype": "text/x-octave",
		   "name": "scilab",
		   "version": "0.7.1"
		  }
		 },
		 "nbformat": 4,
		 "nbformat_minor": 0
}
