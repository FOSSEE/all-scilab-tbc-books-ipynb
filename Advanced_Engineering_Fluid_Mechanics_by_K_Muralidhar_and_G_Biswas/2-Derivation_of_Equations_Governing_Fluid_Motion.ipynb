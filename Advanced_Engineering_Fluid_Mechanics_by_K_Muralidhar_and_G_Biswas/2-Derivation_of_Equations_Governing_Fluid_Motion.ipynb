{
"cells": [
 {
		   "cell_type": "markdown",
	   "metadata": {},
	   "source": [
       "# Chapter 2: Derivation of Equations Governing Fluid Motion"
	   ]
	},
{
		   "cell_type": "markdown",
		   "metadata": {},
		   "source": [
			"## Example 2.5: Pressure_Drop.sce"
		   ]
		  },
  {
"cell_type": "code",
	   "execution_count": null,
	   "metadata": {
	    "collapsed": true
	   },
	   "outputs": [],
"source": [
"//Example 2.5\n",
"//Pressure Drop\n",
"//Page No. 56\n",
"clc;clear;close;\n",
"\n",
"D=50;    //in mm\n",
"D=D/1000; //converted mm to m\n",
"u=5;       //in m/s^-1\n",
"L=6;    //in m\n",
"rho=995.6;     //in kg/m^-3\n",
"mu=79.77*10^-5;     //Pa-s\n",
"Re=(rho*u*D)/mu;\n",
"f=0.316/Re^(1/4);\n",
"dp=(f*L*u^2*rho)/(2*D);\n",
"m=rho*u*%pi*(D/2)^2;\n",
"P=m*dp/rho;\n",
"printf('\nPressure Drop = %f N/m^2\nPower Required = %f\n\n\n\nNote : Calculation mistakes in book.\nDifference in answer due to approximation in book',dp,P);"
   ]
   }
,
{
		   "cell_type": "markdown",
		   "metadata": {},
		   "source": [
			"## Example 2.6: Pressure_Drop.sce"
		   ]
		  },
  {
"cell_type": "code",
	   "execution_count": null,
	   "metadata": {
	    "collapsed": true
	   },
	   "outputs": [],
"source": [
"//Example 2.6\n",
"//Pressure Drop\n",
"//Page No. 56\n",
"clc;clear;close;\n",
"\n",
"D=50;       //in mm\n",
"D=D/1000; //converted mm to m\n",
"L=6;   //in m\n",
"rho=995.6;      //in kg/m^3\n",
"g=9.81;        //in m/s^-2\n",
"mu=79.77*10^-5;     //in Pa-s\n",
"\n",
"//case 1\n",
"u=10;       //in m/s^-1\n",
"Re=(rho*u*D)/mu;\n",
"f=0.316/Re^(1/4);\n",
"dp(1)=(f*L*u^2*rho)/(2*D);\n",
"\n",
"\n",
"//case 2\n",
"u=20;            //in m/s^-1\n",
"Re=(rho*u*D)/mu;\n",
"f=0.316/Re^(1/4);\n",
"dp(2)=(f*L*u^2*rho)/(2*D);\n",
"\n",
"u1=[10 20];     //in m\n",
"h_l=[dp(1)/(rho*g) dp(2)/(rho*g)];\n",
"f=interpln([h_l;u1],20)*%pi*D^2/4;\n",
"f=f*1000;           //conversion to lit/s\n",
"printf('\nFlow Rate = %g lit/s\n\nNote: Slight calculation errors in the book',f);"
   ]
   }
],
"metadata": {
		  "kernelspec": {
		   "display_name": "Scilab",
		   "language": "scilab",
		   "name": "scilab"
		  },
		  "language_info": {
		   "file_extension": ".sce",
		   "help_links": [
			{
			 "text": "MetaKernel Magics",
			 "url": "https://github.com/calysto/metakernel/blob/master/metakernel/magics/README.md"
			}
		   ],
		   "mimetype": "text/x-octave",
		   "name": "scilab",
		   "version": "0.7.1"
		  }
		 },
		 "nbformat": 4,
		 "nbformat_minor": 0
}
