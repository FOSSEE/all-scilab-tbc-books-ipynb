{
"cells": [
 {
		   "cell_type": "markdown",
	   "metadata": {},
	   "source": [
       "# Chapter 2: Constants Variables and Data Types"
	   ]
	},
{
		   "cell_type": "markdown",
		   "metadata": {},
		   "source": [
			"## Example 2.1cs: Case_study_1_avg_of_numbers.sce"
		   ]
		  },
  {
"cell_type": "code",
	   "execution_count": null,
	   "metadata": {
	    "collapsed": true
	   },
	   "outputs": [],
"source": [
"//    Case Study:-Chapter 2 Page No.-47\n",
"//   1.Calculation of Average of numbers\n",
"\n",
"N=10;sum1=0;count=0;     //Initialization of variables\n",
"printf(' Enter ten numbers');\n",
"while(count<N)\n",
"     number=scanf('%f');  //Reading number(using scanf() function)\n",
"     sum1=sum1+number;\n",
"     count=count+1;\n",
" end\n",
" average=sum1/N;         //Avarage is calculated\n",
"printf(' N = %d Sum1 = %f',N,sum1 );\n",
"printf(' Average = %f',average );"
   ]
   }
,
{
		   "cell_type": "markdown",
		   "metadata": {},
		   "source": [
			"## Example 2.1: Representation_of_integer_constants_on_a_16_bit_computer.sce"
		   ]
		  },
  {
"cell_type": "code",
	   "execution_count": null,
	   "metadata": {
	    "collapsed": true
	   },
	   "outputs": [],
"source": [
"//          Example 2.1\n",
"// Representation of integer constants on a 16-bit computer.\n",
"\n",
"disp('Integer values');\n",
"//Integer values larger than 32767 are not stored properly on 16-bit machine\n",
"printf('%d %d %d \n',int16(32767),int16(32767+1),int16(32767+10));\n",
"\n",
"disp('Long integer values');\n",
"//To store long integers properly, use int32 integer type\n",
"printf('%ld %ld %ld \n',int32(32767),int32(32767+1),int32(32767+10));\n",
"//The same result as from above statement can be achieved directly from below commented statement\n",
"//printf('%ld %ld %ld\n',32767,32767+1,32767+10);"
   ]
   }
,
{
		   "cell_type": "markdown",
		   "metadata": {},
		   "source": [
			"## Example 2.2cs: Case_study_temprature_in_Farenheit_and_Celsius.sce"
		   ]
		  },
  {
"cell_type": "code",
	   "execution_count": null,
	   "metadata": {
	    "collapsed": true
	   },
	   "outputs": [],
"source": [
"//        Case Study:-Chapter 2   Page no.-48\n",
"//  2.Solution of temprature in Farenheit and Celsius\n",
"F_LOW=0;\n",
"F_MAX=250;\n",
"STEP=25;\n",
"fahrenheit=F_LOW;      //Initialization\n",
"printf('Fahrenheit      Celsius\n\n');\n",
"while(fahrenheit < = F_MAX)\n",
"    celsius=(fahrenheit-32.0)/1.8;     //conversion from Farenheit to Celsius\n",
"    printf('%6.2f          %7.2f\n',fahrenheit,celsius);\n",
"    fahrenheit=fahrenheit+STEP;\n",
" end"
   ]
   }
,
{
		   "cell_type": "markdown",
		   "metadata": {},
		   "source": [
			"## Example 2.2: typical_declarations_assignments_and_values_stored_in_various_types_of_variables.sce"
		   ]
		  },
  {
"cell_type": "code",
	   "execution_count": null,
	   "metadata": {
	    "collapsed": true
	   },
	   "outputs": [],
"source": [
"//      Example 2.2\n",
"// Program shows typical declarations,assignments and values stored in various types of variables.\n",
"\n",
"//Declarations and Assignments\n",
"m=int16(54321);\n",
"n=int32(1234567890);\n",
"k=uint16(54321);\n",
"//Assignments\n",
"x=1.234567890000;       //Bydefault type is double in scilab\n",
"y=9.87654321;           //----------------------------------\n",
"p=1.0;q=1.0;\n",
"//Printing\n",
"printf(' m=%d\n',m)\n",
"printf(' n=%ld\n',n)\n",
"printf(' x=%.12f\n',x)\n",
"printf(' x=%f\n',x)\n",
"printf(' y=%.12f\n',y)\n",
"printf(' y=%f\n',y)\n",
"printf(' k=%u p=%f q=%.12f\n',k,p,q)"
   ]
   }
,
{
		   "cell_type": "markdown",
		   "metadata": {},
		   "source": [
			"## Example 2.3: use_of_scanf_function.sce"
		   ]
		  },
  {
"cell_type": "code",
	   "execution_count": null,
	   "metadata": {
	    "collapsed": true
	   },
	   "outputs": [],
"source": [
"//               Example 2.3\n",
"// The program illustrate the use of scanf() function\n",
"disp('Enter an interger number:');\n",
"number=scanf('%d');          //Read from keyboard\n",
"if(number<100) then\n",
"    disp('Your number is smaller than 100');\n",
"else\n",
"    disp('Your number contain more than two digits');\n",
"end"
   ]
   }
,
{
		   "cell_type": "markdown",
		   "metadata": {},
		   "source": [
			"## Example 2.4: Interest_calculation_using_scanf.sce"
		   ]
		  },
  {
"cell_type": "code",
	   "execution_count": null,
	   "metadata": {
	    "collapsed": true
	   },
	   "outputs": [],
"source": [
"//               Example 2.4\n",
"// Sample program 3(exm1.5) discussed in chapter 1 can be convered in to a more flexible intractive program using scanf() function\n",
"disp('Enter in single line separted by space');\n",
"disp('Input amount,interest rate, and period');\n",
"[amount,inrate,period]=scanf('%f %f %d');      //use of scanf()\n",
"year=1;\n",
"//Computation using while loop\n",
"while(year<=period)\n",
"         value=amount+inrate*amount;\n",
"         printf('%2d Rs %8.2f\n',year,value)\n",
"        year=year+1;\n",
"        amount=value;\n",
"end"
   ]
   }
],
"metadata": {
		  "kernelspec": {
		   "display_name": "Scilab",
		   "language": "scilab",
		   "name": "scilab"
		  },
		  "language_info": {
		   "file_extension": ".sce",
		   "help_links": [
			{
			 "text": "MetaKernel Magics",
			 "url": "https://github.com/calysto/metakernel/blob/master/metakernel/magics/README.md"
			}
		   ],
		   "mimetype": "text/x-octave",
		   "name": "scilab",
		   "version": "0.7.1"
		  }
		 },
		 "nbformat": 4,
		 "nbformat_minor": 0
}
