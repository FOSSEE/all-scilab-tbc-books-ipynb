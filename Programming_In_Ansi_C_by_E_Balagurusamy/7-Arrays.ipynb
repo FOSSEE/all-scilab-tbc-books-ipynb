{
"cells": [
 {
		   "cell_type": "markdown",
	   "metadata": {},
	   "source": [
       "# Chapter 7: Arrays"
	   ]
	},
{
		   "cell_type": "markdown",
		   "metadata": {},
		   "source": [
			"## Example 1.cs: Case_study_1_Median_of_list_of_numbers.sce"
		   ]
		  },
  {
"cell_type": "code",
	   "execution_count": null,
	   "metadata": {
	    "collapsed": true
	   },
	   "outputs": [],
"source": [
"//            Case Study: Chapter 7, Page No:210\n",
"//             1. Median of list of numbers \n",
"\n",
"N=10;\n",
"disp('Enter the number of items');\n",
"n=scanf('%d');\n",
"//Reading items into array a\n",
"printf('Input %d values[One at a time]\n',n);\n",
"for i=1:n\n",
"    a(i)=scanf('%f');\n",
"end\n",
"//Sorting begins\n",
"for i=1:n-1\n",
"   for j=1:n-i\n",
"     if(a(j)<=a(j+1))\n",
"         t=a(j);\n",
"         a(j)=a(j+1);\n",
"         a(j+1)=t;\n",
"     else\n",
"         continue;\n",
"     end\n",
" end\n",
"end  //sorting ends\n",
"//Calculation of median\n",
"if(n/2==0) then\n",
"    median1=(a(n/2)+a(n/2+1))/2.0;\n",
"else\n",
"    median1=a(n/2+1);\n",
"end\n",
"//Printing\n",
"for i=1:n\n",
"    printf('%f  ',a(i));\n",
"end\n",
"printf('\nMedian is %f\n',median1);\n",
""
   ]
   }
,
{
		   "cell_type": "markdown",
		   "metadata": {},
		   "source": [
			"## Example 2.cs: Case_study_2_Calculation_of_standard_deviation.sce"
		   ]
		  },
  {
"cell_type": "code",
	   "execution_count": null,
	   "metadata": {
	    "collapsed": true
	   },
	   "outputs": [],
"source": [
"//             Case Study: Chapter-7\n",
"//       2.Calculation of standard deviation\n",
"\n",
"MAXSIZE=100;\n",
"sum1=0;n=0;sumsqr=0;\n",
"disp('Input values:input -1 to end');\n",
"for i=1:MAXSIZE\n",
"    value(i)=scanf('%f');  //Entering values in the array named value\n",
"    if(value(i)==-1)\n",
"        break;\n",
"    end\n",
"    sum1=sum1+value(i);\n",
"    n=n+1;\n",
"end\n",
"mean1=sum1/n;             //Computes mean\n",
"for i=1:n\n",
"    deviation=value(i)-mean1;\n",
"    sumsqr=sumsqr+deviation^2;\n",
"end\n",
"variance1=sumsqr/n;\n",
"stddeviation=sqrt(variance1);      //Computes standard deviation\n",
"//Printing items,Mean and Standard deviation\n",
"printf('Number of items: %d\n',n);\n",
"printf('Mean: %f\n',mean1);\n",
"printf('Standard deviation: %f\n',stddeviation);"
   ]
   }
,
{
		   "cell_type": "markdown",
		   "metadata": {},
		   "source": [
			"## Example 3.cs: Case_study_3_Evaluating_a_Test.sce"
		   ]
		  },
  {
"cell_type": "code",
	   "execution_count": null,
	   "metadata": {
	    "collapsed": true
	   },
	   "outputs": [],
"source": [
"//             Case Study: Chapter-7\n",
"//              3.Evaluating a Test\n",
"\n",
"STUDENTS=3;\n",
"ITEMS=5;\n",
"//Reading of correct answers\n",
"printf('Input key to the items\n');\n",
"for i=1:ITEMS\n",
"    key(i)=read(%io(1),1,1,'(a)'); //Read data using read function\n",
"    // key(i)=scanf('%c'); It can be used to read data\n",
"end\n",
"//Evaluation begins\n",
"\n",
"for student=1:STUDENTS\n",
"    //Reading students responses and counting correct ones\n",
"    count=0;\n",
"    printf('\nInput responses of student-%d',student);\n",
"    for i=1:ITEMS\n",
"        response(i)=scanf('%c');\n",
"    end\n",
"    correct=zeros(1,ITEMS)\n",
"//Commented code can be used to replace above line i.e. correct=zeros(1,ITEMS)\n",
"    //for i=1:ITEMS\n",
"    //    correct(i)=0;\n",
"    //end\n",
"    for i=1:ITEMS\n",
"        if(response(i)==key(i)) then\n",
"            count=count+1;\n",
"            correct(i)=1;\n",
"        end\n",
"    end\n",
"    //Printing of results\n",
"    printf('Student-%d\n',student);\n",
"    printf('Score is %d out of %d\n',count,ITEMS);\n",
"    printf('Response to the items below are wrong\n');\n",
"    n=0;\n",
"    for i=1:ITEMS\n",
"        if(correct(i)==0)\n",
"            printf('  %d',i);\n",
"            n=n+1;\n",
"        end\n",
"    end\n",
"    if(n==0) then\n",
"        printf('NIL\n');\n",
"    end\n",
"end"
   ]
   }
,
{
		   "cell_type": "markdown",
		   "metadata": {},
		   "source": [
			"## Example 4.cs: Case_study_4_Production_and_sales_analysis.sce"
		   ]
		  },
  {
"cell_type": "code",
	   "execution_count": null,
	   "metadata": {
	    "collapsed": true
	   },
	   "outputs": [],
"source": [
"//               Case Study: Chapter-7\n",
"//           4.Production and sales analysis\n",
"\n",
"//Input Data\n",
"disp('Enter products manufactured week_wise');\n",
"disp('M11,M12,--,M21,M22,--etc');\n",
"for i=1:2\n",
"    for j=1:5\n",
"        M(i,j)=scanf('%d');\n",
"    end\n",
"end\n",
"disp('Enter products sold week_wise');\n",
"disp('S11,S12,--,S21,S22,--etc');\n",
"for i=1:2\n",
"    for j=1:5\n",
"        S(i,j)=scanf('%d');\n",
"    end\n",
"end\n",
"disp('Enter cost of each product');\n",
"for j=1:5\n",
"    C(j)=scanf('%d');\n",
"end\n",
"//Values matrices of production and sales\n",
"for i=1:2\n",
"    for j=1:5\n",
"        Mvalue(i,j)=M(i,j)*C(j);\n",
"        Svalue(i,j)=S(i,j)*C(j);\n",
"    end\n",
"end\n",
"//Total value of weekly production and sales\n",
"for i=1:2\n",
"    Mweek(i)=0;\n",
"    Sweek(i)=0;\n",
"    for j=1:5\n",
"        Mweek(i)=Mweek(i)+Mvalue(i,j);\n",
"        Sweek(i)=Sweek(i)+Svalue(i,j);\n",
"    end\n",
"end\n",
"//Monthly value of product_wise production and sales\n",
"for j=1:5\n",
"    Mproduct(j)=0;\n",
"    Sproduct(j)=0;\n",
"    for i=1:2\n",
"        Mproduct(j)=Mproduct(j)+Mvalue(i,j);\n",
"        Sproduct(j)=Sproduct(j)+Svalue(i,j);\n",
"    end\n",
"end\n",
"//Grand total of production and sales values\n",
"Mtotal=0;Stotal=0;\n",
"for i=1:2\n",
"    Mtotal=Mtotal+Mweek(i);\n",
"    Stotal=Stotal+Sweek(i);\n",
"end\n",
"\n",
"//***********************************************\n",
"//Selection and printing of information required\n",
"//***********************************************\n",
"disp('Following is the list of things you request for');\n",
"disp('Enter appropriate number and press return key');\n",
"\n",
"disp('1.Value matrices of production and sales');\n",
"disp('2.Total value of weekly production and sales');\n",
"disp('3.Production_wise monthly value of production and sales');\n",
"disp('4.Grand total value of production and sales');\n",
"disp('5.Exit')\n",
"\n",
"number=0;\n",
"while(1)\n",
"    //Begining of while loop\n",
"    number=input('ENTER YOUR CHOICE:');\n",
"    if(number==5) then\n",
"        disp('Good Bye');\n",
"        break;\n",
"    end\n",
"    select number\n",
"        //Value Matices\n",
"    case 1 then\n",
"        disp('VALUE MATRIX OF PRODUCTION');\n",
"        for i=1:2\n",
"            printf('Week(%d)\t',i);\n",
"            for j=1:5\n",
"               printf('%7d',Mvalue(i,j));\n",
"            end\n",
"            printf('\n');\n",
"        end\n",
"       disp('VALUE MATRIX OF SALES');\n",
"        for i=1:2\n",
"           printf('Week(%d)\t',i);\n",
"            for j=1:5\n",
"               printf('%7d',Svalue(i,j));\n",
"            end\n",
"            printf('\n');\n",
"        end\n",
"       //Weekly Analysis\n",
"    case 2 then \n",
"        disp('TOTAL WEEKLY PRODUCTION AND SALES');\n",
"        disp('          PRODUCTION     SALES');\n",
"        disp('          ----------    ------');\n",
"        for i=1:2\n",
"            printf('Week(%d)\t',i);\n",
"            printf('%7d\t%9d\n',Mweek(i),Sweek(i));\n",
"        end\n",
"      //Product wise Analysis\n",
"    case 3 then\n",
"        disp('PRODUCTWISE TOTAL PRODUCTION AND SALES');\n",
"        disp('             PRODUCTION     SALES');\n",
"        disp('              ----------    ------');\n",
"        for i=1:5\n",
"            printf('Product(%d)\t',i);\n",
"            printf('%7d\t%7d\n',Mproduct(i),Sproduct(i));\n",
"        end  \n",
"     //Grand Totals\n",
"    case 4 then\n",
"       disp('GRAND TOTAL OF PRODUCTION AND SALES');\n",
"       printf(' Total production = %d\n',Mtotal);\n",
"       printf(' Total sales = %d\n',Stotal);\n",
"      //Default\n",
"    else\n",
"       printf('Wrong choicce,select again\n');\n",
" end //End of select\n",
"end  //End of while\n",
"disp('Exit from the program');"
   ]
   }
,
{
		   "cell_type": "markdown",
		   "metadata": {},
		   "source": [
			"## Example 7.1: Sum_of_squares_of_10_numbers.sce"
		   ]
		  },
  {
"cell_type": "code",
	   "execution_count": null,
	   "metadata": {
	    "collapsed": true
	   },
	   "outputs": [],
"source": [
"//                 Example:7.1\n",
"//Write a program using single-subscripted variable to evaluate:\n",
"// sum of squares of 10 numbers.The values x1,x2,...are read from the terminal.\n",
"\n",
"//Reading values into array\n",
"disp('ENTER 10 REAL NUMBERS[Each in newline]');\n",
"total=0;\n",
"for i=1:10\n",
"    x(i)=input(' ');\n",
"    total=total+x(i)^2; //Computation of total\n",
"end\n",
"//Printing of x(i) values and total\n",
"for i=1:10\n",
"    printf('x(%2d) =%5.2f\n',i,x(i));\n",
"end\n",
"printf('Total =%.2f',total);"
   ]
   }
,
{
		   "cell_type": "markdown",
		   "metadata": {},
		   "source": [
			"## Example 7.2: Count_the_number_of_students.sce"
		   ]
		  },
  {
"cell_type": "code",
	   "execution_count": null,
	   "metadata": {
	    "collapsed": true
	   },
	   "outputs": [],
"source": [
"//                    Example:7.2\n",
"//Given below is the list of marks obtained by a class of 50 students in an \n",
"//annual examination. 43 65 51 27 79 11 56 61 82 09 25 36 07 49 55 63 74 81 49 \n",
"//37 40 49 16 75 87 91 33 24 58 78 65 56 76 67 45 54 36 63 12 21 73 49 51 19 39 \n",
"//49 68 93 85 59\n",
"//Write a program to count the number of students belonging to each of\n",
"// following groups of marks:0-9,10-19,20-29,.......100.\n",
"\n",
"//This program computes for 10 students. We could compute for 50 students by\n",
"//changing MAXVAL=50.\n",
"\n",
"MAXVAL=10;COUNTER=11;\n",
"disp('Input Data[Marks of 10 students]');\n",
"group1=zeros(1,11);\n",
"//Reading and counting\n",
"for i=1:MAXVAL\n",
"    //Reading of values\n",
"    value(i)=input(' ');\n",
"    //Counting frequency of groups\n",
"    a=int16((value(i)/10));\n",
"    if(a==0) then\n",
"      group1(a+1)=group1(a+1)+1;\n",
"     else\n",
"      group1(a+1)=group1(a+1)+1;\n",
"    end\n",
"  \n",
"end\n",
"//Printing of frequency table\n",
"printf('Group       Range     Frequency\n');\n",
"for i=0:COUNTER-1\n",
"    if(i==0) ,\n",
"        low=0;\n",
"    else\n",
"        low=i*10;\n",
"    end\n",
"    if(i==10),\n",
"        high=100;\n",
"     else\n",
"          high=low+9;\n",
"    end\n",
"    printf('%2d %8d to %3d %5d\n',i+1,low,high,group1(i+1));\n",
"end"
   ]
   }
,
{
		   "cell_type": "markdown",
		   "metadata": {},
		   "source": [
			"## Example 7.3: Compute_and_print.sce"
		   ]
		  },
  {
"cell_type": "code",
	   "execution_count": null,
	   "metadata": {
	    "collapsed": true
	   },
	   "outputs": [],
"source": [
"//                 Example:7.3\n",
"//Write a program using two dimensional array to compute print following \n",
"//information from the table of data discussed:\n",
"//(a)Total value of sales by each girl.\n",
"//(b)Total value of each item sold \n",
"//(c)Grand total of all sales of all items by all girls.\n",
"\n",
"MAXGIRLS=4;MAXITEMS=3;\n",
"frequency=zeros(1,5);\n",
"disp('Input data');\n",
"//Reading values and computing girl_total\n",
"disp('Enter values,one at a time');\n",
"\n",
"for i=1:MAXGIRLS\n",
"    girl_total(i)=0;\n",
"    for j=1:MAXITEMS\n",
"    value(i,j)=scanf('%d');\n",
"    girl_total(i)=girl_total(i)+value(i,j);\n",
"    end\n",
"end\n",
"//Computing item total\n",
"for j=1:MAXITEMS\n",
"    item_total(j)=0;\n",
"    for i=1:MAXGIRLS\n",
"    item_total(j)=item_total(j)+value(i,j);\n",
"    end\n",
"end\n",
"//Computing grand total\n",
"grand_total=0;\n",
"for i=1:MAXGIRLS\n",
"    grand_total=grand_total+girl_total(i);\n",
"end\n",
"//Printing of result\n",
"disp('GIRLS TOTALS');\n",
"for i=1:MAXGIRLS\n",
"    printf('Salesgirl(%d)=%d\n',i,girl_total(i));\n",
"end\n",
"\n",
"disp('ITEM TOTALS');\n",
"for j=1:MAXITEMS\n",
"    printf('Item(%d)=%d\n',j,item_total(j));\n",
"end\n",
"printf('Grand Total=%d\n',grand_total);"
   ]
   }
,
{
		   "cell_type": "markdown",
		   "metadata": {},
		   "source": [
			"## Example 7.4: Multiplication_table.sce"
		   ]
		  },
  {
"cell_type": "code",
	   "execution_count": null,
	   "metadata": {
	    "collapsed": true
	   },
	   "outputs": [],
"source": [
"//                    Example:7.4\n",
"//Write a program to compute and print a multiplication table for numbers 1 to 5\n",
"\n",
"ROWS=5;COLUMNS=5;\n",
"disp('MULTIPLICATION TABLE');\n",
"printf('*|')\n",
"for j=1:COLUMNS\n",
"    printf('%4d',j);\n",
"end\n",
"disp('________________________');\n",
"for i=1:ROWS\n",
"    printf('%1d|',i);\n",
"    for j=1:COLUMNS\n",
"        product(i,j)=i*j;        //Calculate the product\n",
"    printf('%4d',product(i,j));  //Print the product\n",
"    end\n",
"    printf('\n');\n",
"end"
   ]
   }
,
{
		   "cell_type": "markdown",
		   "metadata": {},
		   "source": [
			"## Example 7.5: Popularity_of_various_cars.sce"
		   ]
		  },
  {
"cell_type": "code",
	   "execution_count": null,
	   "metadata": {
	    "collapsed": true
	   },
	   "outputs": [],
"source": [
"//                      Example:7.5\n",
"//A survey to know the popularity of four cars(Ambassador,fait,Dolphin and \n",
"//Maruti) was conducted in four cities(Bombay,Calcutta,Delhi and Madras).\n",
"//Each person surveyed was asked to give his city and type of car he was using.\n",
"//Write a program to prouce a table showing the popularity of various cars in \n",
"//four cities.\n",
"\n",
"frequency=zeros(5,5);\n",
"printf('For each person,enter the city code[B,C,D,M]\n');\n",
"printf('followed by the car code[1,2,3,4].\n');\n",
"printf('Enter the letter X 0(zero)to indicate end.\n');\n",
"\n",
"//Tabulation begins\n",
"for i=1:99\n",
"    [n,city,car]=mscanf('%c %d');\n",
"    if(city=='X') then\n",
"        break;\n",
"    end\n",
"    select city\n",
"     case 'B' then frequency(1,car)=frequency(1,car)+1;\n",
"     case 'C' then frequency(2,car)=frequency(2,car)+1;\n",
"     case 'D' then frequency(3,car)=frequency(3,car)+1;\n",
"     case 'M' then frequency(4,car)=frequency(4,car)+1;\n",
"    end\n",
"\n",
"end\n",
"\n",
"//Tabulation completed and Printing begins\n",
"disp('            POPULATORY TABLE');\n",
"printf('______________________________________________\n');\n",
"printf('City      Ambasseador  fait  Dolphin  Maruti\n');\n",
"printf('______________________________________________\n');\n",
"\n",
"for i=1:4\n",
"    select i\n",
"    case 1 then printf(' Bombay  ');\n",
"    case 2 then printf(' Calcutta');\n",
"    case 3 then printf(' Delhi   ');\n",
"    case 4 then printf(' Madras  ');\n",
"    end\n",
"    for j=1:4\n",
"    printf('%8d',frequency(i,j));\n",
"    end\n",
"    printf('\n');\n",
"end\n",
"printf('______________________________________________');\n",
"//              Printing ends"
   ]
   }
],
"metadata": {
		  "kernelspec": {
		   "display_name": "Scilab",
		   "language": "scilab",
		   "name": "scilab"
		  },
		  "language_info": {
		   "file_extension": ".sce",
		   "help_links": [
			{
			 "text": "MetaKernel Magics",
			 "url": "https://github.com/calysto/metakernel/blob/master/metakernel/magics/README.md"
			}
		   ],
		   "mimetype": "text/x-octave",
		   "name": "scilab",
		   "version": "0.7.1"
		  }
		 },
		 "nbformat": 4,
		 "nbformat_minor": 0
}
