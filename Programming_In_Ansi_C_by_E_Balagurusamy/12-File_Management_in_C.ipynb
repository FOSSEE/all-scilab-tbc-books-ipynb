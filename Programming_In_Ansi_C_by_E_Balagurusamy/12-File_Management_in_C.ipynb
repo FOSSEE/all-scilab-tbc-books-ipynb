{
"cells": [
 {
		   "cell_type": "markdown",
	   "metadata": {},
	   "source": [
       "# Chapter 12: File Management in C"
	   ]
	},
{
		   "cell_type": "markdown",
		   "metadata": {},
		   "source": [
			"## Example 12.1: Read_data_from_keyboard_and_write_it_to_a_file.sce"
		   ]
		  },
  {
"cell_type": "code",
	   "execution_count": null,
	   "metadata": {
	    "collapsed": true
	   },
	   "outputs": [],
"source": [
"//                    Example 12.1\n",
"// Write a program to read data from keyboard,write it to a file called INPUT,\n",
"// again read the same data from the INPUT file and display it on the screen.\n",
"\n",
"warning('off');\n",
"disp('Data Input');\n",
"\n",
"//Open the file INPUT\n",
"f1=mopen('INPUT.txt','w');\n",
"// Get character from keyboard\n",
"c=read(%io(1),1,1,'(a)');\n",
"mfprintf(f1,'%s',c);\n",
"\n",
"//close the file input\n",
"mclose(f1);\n",
"\n",
"\n",
"disp('Data Output');\n",
"//Reopen the file INPUT\n",
"f1=mopen('INPUT.txt','r');\n",
"     txt=mgetl(f1);\n",
"     printf('%s',text);\n",
"//close the file input\n",
"mclose(f1);"
   ]
   }
,
{
		   "cell_type": "markdown",
		   "metadata": {},
		   "source": [
			"## Example 12.2: Read_and_write_odd_and_even_numbers.sce"
		   ]
		  },
  {
"cell_type": "code",
	   "execution_count": null,
	   "metadata": {
	    "collapsed": true
	   },
	   "outputs": [],
"source": [
"//                     Example12.2\n",
"//A  file named DATA contains a series of integer numbers. Code a program\n",
"//to read these numbers and then write all 'odd' numbers to a file to be \n",
"//called ODD and all 'even' numbers to a file to be called EVEN.\n",
"\n",
"warning('off');\n",
"//Input numbers in the DATA.txt file\n",
"printf('Contents of DATA file\n');\n",
"f1=mopen('DATA.txt','wt');\n",
"for i=1:30\n",
"    number(i)=scanf('%d');\n",
"    if(number(i) == -1)\n",
"        break;\n",
"    end\n",
"     mfprintf(f1,'%d\n',number(i));\n",
"end\n",
"mclose(f1);\n",
"\n",
"f2=mopen('ODD.txt','wt');\n",
"f3=mopen('EVEN.txt','wt');\n",
"f1=mopen('DATA.txt','rt');\n",
"//Read numbers from DATA file\n",
"EOF=length(number);\n",
"i=1;\n",
"even=0;\n",
"odd=0;\n",
"while (i<EOF)\n",
"    [n,number]=mfscanf(f1,' %d')\n",
"     if(pmodulo(number,2)==0)\n",
"        mfprintf(f3,'%d\n',number);\n",
"        even=even+1;\n",
"    else\n",
"        mfprintf(f2,'%d\n',number);\n",
"        odd=odd+1;\n",
"    end\n",
"    i=i+1;\n",
"end\n",
"mclose(f1);\n",
"mclose(f2);\n",
"mclose(f3);\n",
"//Write odd numbers in the ODD.txt file\n",
"f2=mopen('ODD.txt','rt');\n",
"printf('\nContents of ODD file\n');\n",
"i=1;\n",
"while (i<=odd)\n",
"    [n,number]=mfscanf(f2,'%d')\n",
"    printf('%4d',number); \n",
"    i=i+1;   \n",
"end\n",
"//Write even numbers in the EVEN.txt file\n",
"f3=mopen('EVEN.txt','rt');\n",
"printf('\nContents of EVEN file\n');\n",
"i=1;\n",
"while (i<=even)\n",
"    [n,number]=mfscanf(f3,'%d')\n",
"    printf('%4d',number); \n",
"    i=i+1;   \n",
"end\n",
"//close the files\n",
"mclose(f2);\n",
"mclose(f3);"
   ]
   }
,
{
		   "cell_type": "markdown",
		   "metadata": {},
		   "source": [
			"## Example 12.3: Read_and_write_data_to_and_from_the_file_INVENTORY.sce"
		   ]
		  },
  {
"cell_type": "code",
	   "execution_count": null,
	   "metadata": {
	    "collapsed": true
	   },
	   "outputs": [],
"source": [
"//                     Example12.3\n",
"//A  program to open a file named INVENTORY and store in it the following\n",
"// data: Item name   Number     Price    Quantity\n",
"//        AAA-1      111       17.50     115\n",
"//        BBB-2      125       36.00     75\n",
"//        C-3        247       31.75     104\n",
"//Extend the program to read this data from the file INVENTORY and display \n",
"//inventory table with the value of each item.\n",
"\n",
"disp('Input file name');\n",
"filename=scanf('%s');    //Read file name that is 'INVENTORY'\n",
"fp=mopen(filename,'w');  //Open file in write mode,fp is file descriptor\n",
"disp('Input inventory data');\n",
"disp('Item name     Number     Price     Quantity');\n",
"for i=1:3\n",
"    //read data from terminal\n",
"  [n,item(i),number(i),price(i),quantity(i)]=mscanf('%s %d %f %d');\n",
"  //write data to the file\n",
"   mfprintf(fp,'%s\t%d\t%.2f\t%d\n',item(i),number(i),price(i),quantity(i));\n",
"end\n",
"mclose(fp);              //close the file\n",
"fp=mopen(filename,'r');  //open file in read mode\n",
"disp('Item name   Number   Price   Quantity   Value');\n",
"for i=1:3\n",
"    //Read data from the file 'INVENTORY'\n",
"    [n,item,number,price,quantity]=mfscanf(fp,'%s %d %f %d');\n",
"     value=price*quantity;  //Computes value\n",
"     //Printing of the data \n",
"     printf('   %s   %7d %8.2f %8d %11.2f\n',item,number,price,quantity,value);\n",
"end\n",
"mclose(fp);"
   ]
   }
,
{
		   "cell_type": "markdown",
		   "metadata": {},
		   "source": [
			"## Example 12.4: Error_handling_in_file_operations.sce"
		   ]
		  },
  {
"cell_type": "code",
	   "execution_count": null,
	   "metadata": {
	    "collapsed": true
	   },
	   "outputs": [],
"source": [
"//                     Example12.4\n",
"//Write a program to illustatre error handling in file operations.\n",
"warning('off');\n",
"fp1=mopen('TEST','w');  //Open file in write mode,fp1 is file descriptor\n",
"for i=10:10:100\n",
"   //write data to the file\n",
"   mfprintf(fp1,'%d\n',i);\n",
"end\n",
"mclose(fp1);\n",
"disp('Input file name');\n",
"filename='a';\n",
"while(filename~=' ')\n",
"    filename=scanf('%s');\n",
"    //Error handling\n",
"    try \n",
"        fp2=mopen(filename,'r');\n",
"        if(fp2>0) ,\n",
"            break;         //Terminates the loop if file exist or opened\n",
"        end\n",
"        \n",
"    catch\n",
"        //Messages to be displayed when error occured\n",
"        printf('Can not open file.\n');\n",
"        printf('Type file name again.\n');\n",
"    end\n",
"end\n",
"//Code below runs while there is no error\n",
"for i=1:20\n",
"    number = mfscanf(fp2,'%d');  //Read data from file 'TEST'\n",
"    if meof(fp2) then            //Test for end of file\n",
"       printf('Ran out of data');\n",
"       break;\n",
"     else\n",
"        printf('%d\n',number);   //prints the data\n",
"      end\n",
"end\n",
"mclose(fp2);"
   ]
   }
,
{
		   "cell_type": "markdown",
		   "metadata": {},
		   "source": [
			"## Example 12.5: use_of_function_ftell_or_mtell_and_fseek_or_mseek.sce"
		   ]
		  },
  {
"cell_type": "code",
	   "execution_count": null,
	   "metadata": {
	    "collapsed": true
	   },
	   "outputs": [],
"source": [
"//                    Example12.5\n",
"//Write a program that uses function ftell(mtell) and fseek(mseek).\n",
"warning('off');\n",
"//Open file 'RANDOM' in write mode,fp is file descriptor\n",
"fp=mopen('RANDOM','w'); \n",
"c=read(%io(1),1,1,'(a)');\n",
"mfprintf(fp,'%s',c);    //write data to the file\n",
"printf('Number of characters entered = %d\n',mtell(fp));\n",
"mclose(fp);\n",
"//Open file 'RANDOM' in read mode\n",
"fp=mopen('RANDOM','r');\n",
"n=0;\n",
"while(meof(fp)==0)\n",
"//n is the offset from origin in number of bytes.\n",
"//The new position is at the signed distance given by n bytes from the beginning\n",
"    mseek(n,fp,'set');\n",
"    //Print the chracter  and its postion\n",
"    printf('Position of %c is %d\n',ascii(mget(1,'c',fp)),mtell(fp));\n",
"    n=n+5;\n",
"end\n",
"n=0;     //Initial offset\n",
"while(mtell(fp)>1)\n",
" //New position is at the signed distance given by n bytes from the end\n",
"      mseek(n,fp,'end');\n",
"      //Print the characters from the end\n",
"      printf('%c',(ascii(mget(1,'c',fp))));\n",
"      n=n-1;\n",
"end\n",
"mclose(fp);"
   ]
   }
,
{
		   "cell_type": "markdown",
		   "metadata": {},
		   "source": [
			"## Example 12.6: Append_additional_items_to_the_file_INVENTORY.sce"
		   ]
		  },
  {
"cell_type": "code",
	   "execution_count": null,
	   "metadata": {
	    "collapsed": true
	   },
	   "outputs": [],
"source": [
"//                     Example 12.6\n",
"//Write a program to append additional items to the file INVENTORY \n",
"//created in Example 12.3 and print the total contents of the file.\n",
"funcprot(0);\n",
"warning('off');\n",
"function[item] =append(product,fp)\n",
"    printf('Item name:\n');\n",
"    product.name=scanf('%s');\n",
"    printf('Item number:.\n');\n",
"    product.number=scanf('%d');\n",
"    printf('Item price\n');\n",
"    product.price=scanf('%f');\n",
"    printf('Quantity:\n');\n",
"    product.quantity=scanf('%d');\n",
"    //Write data in the file\n",
"     mfprintf(fp,'%s %d %.2f %d\n',product.name,product.number,product.price,product.quantity);\n",
"     item=product;\n",
"endfunction\n",
"//Creating structure\n",
"item=struct('name','0','number','0','price','0','quantity','0');\n",
"//Read file name that is 'INVENTORY'\n",
"disp('Type file name');\n",
"filename=scanf('%s');\n",
"//Open file in append mode,fp is file descriptor\n",
"fp=mopen(filename,'a+');  \n",
"b=0;response=-1;\n",
"//Read data \n",
"while(response==1|b==0)\n",
"    item=append(item,fp);  //calling append() function\n",
"    printf('Item %s appended.\n',item.name);\n",
"    printf('Do you want to add another item\(1 for YES/0 for NO)?');\n",
"    response=scanf('%d');\n",
"    b=1;\n",
"end\n",
"n=mtell(fp);     //position of last character\n",
"mclose(fp);\n",
"\n",
"//Opening file in the read mode\n",
"fp=mopen(filename,'r');\n",
"while (mtell(fp) < n-2)\n",
"  //read data from terminal\n",
"  [g,item.name,item.number,item.price,item.quantity]=mfscanf(fp,'%s %d %f %d');\n",
"  //Print Data to screen\n",
"   printf('%s %7d %8.2f %8d\n',item.name,item.number,item.price,item.quantity);\n",
"end\n",
"mclose(fp);"
   ]
   }
],
"metadata": {
		  "kernelspec": {
		   "display_name": "Scilab",
		   "language": "scilab",
		   "name": "scilab"
		  },
		  "language_info": {
		   "file_extension": ".sce",
		   "help_links": [
			{
			 "text": "MetaKernel Magics",
			 "url": "https://github.com/calysto/metakernel/blob/master/metakernel/magics/README.md"
			}
		   ],
		   "mimetype": "text/x-octave",
		   "name": "scilab",
		   "version": "0.7.1"
		  }
		 },
		 "nbformat": 4,
		 "nbformat_minor": 0
}
