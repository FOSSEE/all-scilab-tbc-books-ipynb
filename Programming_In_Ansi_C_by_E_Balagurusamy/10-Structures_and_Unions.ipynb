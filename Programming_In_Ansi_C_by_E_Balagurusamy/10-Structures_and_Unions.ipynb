{
"cells": [
 {
		   "cell_type": "markdown",
	   "metadata": {},
	   "source": [
       "# Chapter 10: Structures and Unions"
	   ]
	},
{
		   "cell_type": "markdown",
		   "metadata": {},
		   "source": [
			"## Example 10.1: Define_a_structure_type.sce"
		   ]
		  },
  {
"cell_type": "code",
	   "execution_count": null,
	   "metadata": {
	    "collapsed": true
	   },
	   "outputs": [],
"source": [
"//                Example 10.1\n",
"//Define a structure type,struct personal that would contain person name,-\n",
"// date of joining and salary. Write a program to read this information from\n",
"// keyboard and print same on the screen.\n",
"\n",
"funcprot(0);\n",
"function [ ]=struc(n,d,m,y,s)\n",
"    //Defining structure members\n",
"    personal=struct('name',n,'day',d,'month',m,'year',y,'salary',s);\n",
"    person=personal;\n",
"   //Accessing structure members\n",
"printf('   %s %d %s %d %.2f',person.name,person.day,person.month,person.year,person.salary);\n",
"endfunction\n",
"disp('Input values[Name day month year and salary]');\n",
"//Reading data\n",
"[name,day,month,year,salary]=scanf('%s %d %s %d %f');\n",
"//Calling function struc()\n",
"struc(name,day,month,year,salary);"
   ]
   }
,
{
		   "cell_type": "markdown",
		   "metadata": {},
		   "source": [
			"## Example 10.2: Comparison_of_structure_variables.sci"
		   ]
		  },
  {
"cell_type": "code",
	   "execution_count": null,
	   "metadata": {
	    "collapsed": true
	   },
	   "outputs": [],
"source": [
"//                Example 10.2\n",
"// Write a program to illustrate the comparison of structure variables.\n",
"\n",
"function []=class()\n",
"    //Defining structures\n",
"    student1=struct('number',111,'name','Rao','marks',72.50);\n",
"    student2=struct('number',222,'name','Raddy','marks',67.00);\n",
"    student3=struct('number',[],'name',[],'marks',[]);\n",
"    student3=student2;\n",
"    if(student3==student2) ,   //Logical operation on structures\n",
"        disp('Student2 and student 3 are same');\n",
"        printf(' %d %s %f',student3.number,student3.name,student3.marks);\n",
"    else\n",
"        disp('Student2 and student 3 are not same');\n",
"    end\n",
"endfunction\n",
"//calling function class\n",
"class()"
   ]
   }
,
{
		   "cell_type": "markdown",
		   "metadata": {},
		   "source": [
			"## Example 10.3: Calculate_the_subject_wise_and_student_wise_totals.sce"
		   ]
		  },
  {
"cell_type": "code",
	   "execution_count": null,
	   "metadata": {
	    "collapsed": true
	   },
	   "outputs": [],
"source": [
"//                    Example 10.3\n",
"// Write a program to calculate the subject-wise and student-wise totals\n",
"//and store them as a part of the structue.\n",
"\n",
"//Defining array of structures\n",
"student=[struct('sub1',45,'sub2',67,'sub3',81,'total',0)\n",
"         struct('sub1',75,'sub2',53,'sub3',69,'total',0)\n",
"         struct('sub1',57,'sub2',36,'sub3',71,'total',0)\n",
"         ];\n",
"total=struct('sub1',0,'sub2',0,'sub3',0,'total',0);\n",
"\n",
"//Calculate the student-wise and subject-wise totals\n",
"for i=1:3\n",
"    student(i).total=student(i).sub1+student(i).sub2+student(i).sub3;\n",
"    total.sub1=total.sub1+student(i).sub1;\n",
"    total.sub2=total.sub2+student(i).sub2;\n",
"    total.sub3=total.sub3+student(i).sub3;\n",
"    total.total=total.total+student(i).total;\n",
"end\n",
"//Printing student-wise totals\n",
"printf('STUDENT         TOTAL\n');\n",
"for i=1:3\n",
"    printf('student(%d)        %d\n',i,student(i).total);\n",
"end\n",
"//Printing subject-wise totals\n",
"printf('SUBJECT         TOTAL\n');\n",
"printf(' %s        %d\n','Subject 1',total.sub1);\n",
"printf(' %s        %d\n','Subject 2',total.sub2);\n",
"printf(' %s        %d\n','Subject 3',total.sub3);\n",
"//Printing grand total\n",
"printf('Grand Total = %d',total.total);"
   ]
   }
,
{
		   "cell_type": "markdown",
		   "metadata": {},
		   "source": [
			"## Example 10.4: Array_member_to_represent_the_three_subjects.sce"
		   ]
		  },
  {
"cell_type": "code",
	   "execution_count": null,
	   "metadata": {
	    "collapsed": true
	   },
	   "outputs": [],
"source": [
"//                    Example 10.4\n",
"//Rewrite the  program of Example 10.3 to using an array member to represent\n",
"//the three subjects.\n",
"\n",
"//Defining array of structures and array with in structure\n",
"student(1)=[struct('sub',[45 67 81],'total',0)];\n",
"student(2)=[struct('sub',[75 53 69],'total',0)];\n",
"student(3)=[struct('sub',[57 36 71],'total',0)];\n",
"total=student;\n",
"for i=1:3\n",
"    total.sub(i)=0;\n",
"end\n",
"total.total=0;\n",
"//Calculate the student-wise and subject-wise totals\n",
"for i=1:3\n",
"    for j=1:3\n",
"        student(i).total=student(i).total+student(i).sub(j);\n",
"        total.sub(j)=total.sub(j)+student(i).sub(j);\n",
"    end\n",
"    total.total=total.total+student(i).total;  //Grand  total\n",
"end\n",
"//Printing student-wise totals\n",
"printf('STUDENT         TOTAL\n');\n",
"for i=1:3\n",
"    printf('student(%d)        %d\n',i,student(i).total);\n",
"end\n",
"//Printing subject-wise totals\n",
"printf('SUBJECT         TOTAL\n');\n",
"for j=1:3\n",
"    printf('subject-(%d)        %d\n',j,total.sub(j));\n",
"end\n",
"//Printing grand total\n",
"printf('Grand Total = %d',total.total);"
   ]
   }
,
{
		   "cell_type": "markdown",
		   "metadata": {},
		   "source": [
			"## Example 10.5: structure_as_a_parameter_to_a_function.sce"
		   ]
		  },
  {
"cell_type": "code",
	   "execution_count": null,
	   "metadata": {
	    "collapsed": true
	   },
	   "outputs": [],
"source": [
"//                    Example 10.5\n",
"//Write a simple program to illustrate the method of sending an entire\n",
"//structure as a parameter to a function.\n",
"\n",
"funcprot(0);\n",
"//Defining functions\n",
"function [item]=update(product,p,q)\n",
"    product.price=product.price+p;\n",
"    product.quantity=product.quantity+q;\n",
"    item=product;\n",
"endfunction\n",
"function [value] =mul(stock)\n",
"     value=stock.price*stock.quantity;\n",
"endfunction\n",
"\n",
"//Creates structure item\n",
"item=struct('name','XYZ','price',25.75,'quantity',12);\n",
"//Read data\n",
"printf('Input increment values:');\n",
"printf('  price increment and quantity increment\n');\n",
"[p_increment,q_increment]=scanf('%f %d');\n",
"\n",
"//Calling update() and mul() functions\n",
"//Passing structure item to functions update() and mul()\n",
"//--------------------------------------------------\n",
"item=update(item,p_increment,q_increment); \n",
"value=mul(item);\n",
"//--------------------------------------------------\n",
"//Printing Results\n",
"printf('Updated values of items\n');\n",
"printf('Name        :%s\n',item.name);\n",
"printf('Price       :%f\n',item.price);\n",
"printf('Quantity    :%d\n',item.quantity);\n",
"printf('Value of item = %f\n',value);"
   ]
   }
,
{
		   "cell_type": "markdown",
		   "metadata": {},
		   "source": [
			"## Example 1.cs: Case_study_1_Book_Shop_Inventory.sci"
		   ]
		  },
  {
"cell_type": "code",
	   "execution_count": null,
	   "metadata": {
	    "collapsed": true
	   },
	   "outputs": [],
"source": [
"//                  Case study: Chapter-10, Page No:341\n",
"//                       Book Shop Inventory\n",
"\n",
"funcprot(0);\n",
"//Defining functions\n",
"function [string1]=get1()\n",
"    string1=read(%io(1),1,1,'(a)');\n",
"endfunction\n",
"function [i] =look_up(table,s1,s2,m)\n",
"    for i=1:m\n",
"        x=strcmp(s1,table(i).title);\n",
"        y=strcmp(s2,table(i).author);\n",
"        if x==0 & y==0 then\n",
"            return i;   //Book found\n",
"        end\n",
"     end\n",
"      i=-1;  //Book not found\n",
"endfunction\n",
"\n",
"//Creates array of structures \n",
"book=[struct('author','Ritche','title','C Language','price',45.00,'month','May','year',1977,'publisher','PHI','quantity',10)\n",
"      struct('author','Kochan','title','Programming in C','price',75.50,'month','July','year',1983,'publisher','Hayden','quantity',5)\n",
"      struct('author','Balagurusamy','title','BASIC','price',30.00,'month','January','year',1984,'publisher','TMH','quantity',0)\n",
"      struct('author','Balagurusamy','title','COBOL','price',60.00,'month','December','year',1988,'publisher','Macmillan','quantity',25)\n",
"         ];\n",
"n=size(book); \n",
"no_of_records=n(1);\n",
"response=' ', a=1;\n",
"while ((response=='Y' | response=='y')|a==1)\n",
"    //Read data\n",
"    printf('Enter title and author name as per the list:\n');\n",
"    printf('Title: \n');\n",
"    title1=get1();\n",
"    printf('Author:\n');\n",
"    author1=get1();\n",
"    //Calling index() function and\n",
"    //Passing structure book to function look_up()\n",
"    index=look_up(book,title1,author1,no_of_records);\n",
"    //If book found then print the book detail otherwise not in list\n",
"    if index~=-1 & index then   //Book found\n",
"      printf('% s  %s',book(index).author, book(index).title);\n",
"      printf('%  .2f  %s',book(index).price, book(index).month);\n",
"      printf('%  d  %s\n',book(index).year, book(index).publisher);\n",
"      quantity=input('Enter number of copies :');\n",
"      if quantity<book(index).quantity then\n",
"       printf('Cost of %d copies = %.2f\n',quantity,book(index).price*quantity);\n",
"      else\n",
"         printf('Required copies not in stock\n');\n",
"      end\n",
"    else\n",
"         printf('Book not in list\n');\n",
"    end\n",
"    printf('\nDo you want any other book?(YES/NO):');\n",
"    response=get1();a=2;\n",
"end\n",
"printf('  Thank you.     Good Bye');"
   ]
   }
],
"metadata": {
		  "kernelspec": {
		   "display_name": "Scilab",
		   "language": "scilab",
		   "name": "scilab"
		  },
		  "language_info": {
		   "file_extension": ".sce",
		   "help_links": [
			{
			 "text": "MetaKernel Magics",
			 "url": "https://github.com/calysto/metakernel/blob/master/metakernel/magics/README.md"
			}
		   ],
		   "mimetype": "text/x-octave",
		   "name": "scilab",
		   "version": "0.7.1"
		  }
		 },
		 "nbformat": 4,
		 "nbformat_minor": 0
}
