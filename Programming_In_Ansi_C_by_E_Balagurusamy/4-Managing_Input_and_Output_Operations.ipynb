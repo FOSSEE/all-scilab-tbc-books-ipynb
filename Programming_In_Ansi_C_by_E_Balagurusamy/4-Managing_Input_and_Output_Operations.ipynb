{
"cells": [
 {
		   "cell_type": "markdown",
	   "metadata": {},
	   "source": [
       "# Chapter 4: Managing Input and Output Operations"
	   ]
	},
{
		   "cell_type": "markdown",
		   "metadata": {},
		   "source": [
			"## Example 4.10: Printing_a_real_number.sce"
		   ]
		  },
  {
"cell_type": "code",
	   "execution_count": null,
	   "metadata": {
	    "collapsed": true
	   },
	   "outputs": [],
"source": [
"//             Example 4.10       \n",
"// The program illustrates all the options of printing a real number. \n",
"\n",
"y=98.7654;       //real number\n",
"//Various options of printing a real number \n",
"printf('%7.4f\n',y);\n",
"printf('%f\n',y);\n",
"printf('%7.2f\n',y);\n",
"printf('%-7.2f\n',y);\n",
"printf('%07.2f\n',y);\n",
"printf('%7.2f\n',y);\n",
"printf('\n');\n",
"printf('%10.2e\n',y);\n",
"printf('%12.4e\n',-y);\n",
"printf('%-10.2e\n',y);\n",
"printf('%e\n',y);"
   ]
   }
,
{
		   "cell_type": "markdown",
		   "metadata": {},
		   "source": [
			"## Example 4.11: Printing_of_character_and_strings.sce"
		   ]
		  },
  {
"cell_type": "code",
	   "execution_count": null,
	   "metadata": {
	    "collapsed": true
	   },
	   "outputs": [],
"source": [
"//             Example 4.11       \n",
"// The program illustrates the printing of character and strings. \n",
"\n",
"x='A';                    //x variable has character\n",
"name='ANIL KUMAR GUPTA';  //name variable has string\n",
"disp('OUTPUT OF CHARACTERS');\n",
"printf('%c\n%3c\n%5c\n',x,x,x);\n",
"printf('%3c\n%c\n',x,x);\n",
"printf('\n');\n",
"disp('OUTPUT OF STRINGS'); //disp can also be used for display\n",
"printf('%s\n',name);\n",
"printf('%20s\n',name);\n",
"printf('%20.10s\n',name);\n",
"printf('%.5s\n',name);\n",
"printf('%-20.10s\n',name);\n",
"printf('%5s\n',name);"
   ]
   }
,
{
		   "cell_type": "markdown",
		   "metadata": {},
		   "source": [
			"## Example 4.1cs: Case_study_1_Inventory_report.sce"
		   ]
		  },
  {
"cell_type": "code",
	   "execution_count": null,
	   "metadata": {
	    "collapsed": true
	   },
	   "outputs": [],
"source": [
"//               Case Study:-Chapter 4 ,Page No:106\n",
"//               1.Inventory Report\n",
"\n",
"ITEMS=4;\n",
"i=1;\n",
"printf('[Enter in single line seperated be spaces]\n');\n",
"while(i <= 4)\n",
"    printf('Enter code,quantity, and rate:');\n",
"     [code(i),quantity(i),rate(i)]=scanf('%s %d %f');\n",
"     i=i+1;\n",
"end\n",
"printf('INVENTORY REPORT\n');\n",
"printf('----------------------------------------------\n');\n",
"printf('Code        Quantity     Rate      Value\n');\n",
"printf('----------------------------------------------\n');\n",
"total_value=0;\n",
"i=1;\n",
"while(i<=ITEMS)\n",
"    value=quantity(i)*rate(i);\n",
"    printf('%6s %10d %10.2f    %e\n',code(i),quantity(i),rate(i),value);\n",
"    total_value= total_value+value;\n",
"    i=i+1;\n",
"end    \n",
"    printf('----------------------------------------------\n');\n",
"    printf('              Total Value = %e\n',total_value);\n",
"    printf('----------------------------------------------\n');"
   ]
   }
,
{
		   "cell_type": "markdown",
		   "metadata": {},
		   "source": [
			"## Example 4.1: Use_of_getchar_function.sce"
		   ]
		  },
  {
"cell_type": "code",
	   "execution_count": null,
	   "metadata": {
	    "collapsed": true
	   },
	   "outputs": [],
"source": [
"//                 Exaymple 4.1\n",
"// The program shows the use of getchar function in an intractive environment.\n",
"//In Scilab in place of getchar function scanf function can be used to get \n",
"//character as there is no getchar function in Scilab.\n",
"\n",
"disp('Would you like to know my name?');\n",
"disp('Type Y for YES and N for NO:');\n",
"answer=scanf('%c');                      //Reading character\n",
"if (answer=='Y')|(answer=='y') then      //Test for answer\n",
"    disp('My name is BUSY BEE');\n",
"else\n",
"    disp('You are good for nothing')\n",
"end"
   ]
   }
,
{
		   "cell_type": "markdown",
		   "metadata": {},
		   "source": [
			"## Example 4.2cs: Case_study_2_Reliability_graph.sce"
		   ]
		  },
  {
"cell_type": "code",
	   "execution_count": null,
	   "metadata": {
	    "collapsed": true
	   },
	   "outputs": [],
"source": [
"//          Case study:chapter 4\n",
"//         2.Reliability Graph\n",
"\n",
"LAMBDA=0.001;\n",
"for i=1:27\n",
"    printf('--');\n",
"end\n",
"printf('\n');\n",
"for t=0:150:3000\n",
"    r=exp(-LAMBDA*t);\n",
"    R=int32(50*r+0.5);\n",
"    printf('|');\n",
"    for i=1:R\n",
"          printf('*');\n",
"    end\n",
"    printf('#\n');\n",
"end\n",
"for i=1:2\n",
"    printf('|\n');\n",
"end"
   ]
   }
,
{
		   "cell_type": "markdown",
		   "metadata": {},
		   "source": [
			"## Example 4.2: Whether_character_is_alphabet_or_digit_or_special_character.sce"
		   ]
		  },
  {
"cell_type": "code",
	   "execution_count": null,
	   "metadata": {
	    "collapsed": true
	   },
	   "outputs": [],
"source": [
"//                Example 4.2       \n",
"// The program requests the user to enter a character and display a message on\n",
"// the screen telling the user whether the character is an alphabet or digit,\n",
"// or any other special character.\n",
"\n",
"disp('Press any key');\n",
"character=scanf('%c');                      //Reading character\n",
"if (isletter(character)) then               //Test for letter\n",
"    disp('The character is a letter');\n",
"    elseif (isdigit(character)) then        //Test for digit\n",
"            disp('The character is a digit');\n",
"        else\n",
"            disp('The character is not alphanumeric');\n",
" end"
   ]
   }
,
{
		   "cell_type": "markdown",
		   "metadata": {},
		   "source": [
			"## Example 4.3: Print_character_in_reverse_case.sce"
		   ]
		  },
  {
"cell_type": "code",
	   "execution_count": null,
	   "metadata": {
	    "collapsed": true
	   },
	   "outputs": [],
"source": [
"//                 Example 4.3       \n",
"// A program that reads a character from the keyboard and then print in reverse\n",
"//case ,that is,if input is in upper case,the output will be lower case and vice-versa \n",
"disp('Enter an alphabet');\n",
"alphabet=scanf('%c');                  //Reading character\n",
"if((ascii(alphabet))>=97) then\n",
"    disp(convstr(alphabet,'u'));      //Reverse and display\n",
"else\n",
"    disp(convstr(alphabet,'l'));      //Reverse and display\n",
"end"
   ]
   }
,
{
		   "cell_type": "markdown",
		   "metadata": {},
		   "source": [
			"## Example 4.4: Input_formatting_options.sce"
		   ]
		  },
  {
"cell_type": "code",
	   "execution_count": null,
	   "metadata": {
	    "collapsed": true
	   },
	   "outputs": [],
"source": [
"//                 Example 4.4\n",
"// The program illustrates the various options for reading \n",
"//integers are experimented in this program\n",
"\n",
"\n",
"printf('Enter three integer numbers\n');\n",
"[n,a,b,c]=mscanf('%d %*d %d');\n",
"disp(c,b,a);\n",
"printf('Enter two 4-digit numbers\n');\n",
"[n,x,y]=mscanf('%2d %4d');\n",
"printf('%d %d\n',x,y);\n",
"\n",
"printf('Enter two integers\n');\n",
"[n,a,x]=mscanf('%d %d');\n",
"printf('%d %d\n',a,x);\n",
"\n",
"printf('Enter a nine digit number\n');\n",
"[n,p,q,r]=mscanf('%3d %4d %3d');\n",
"printf('%d %d %d\n',p,q,r);\n",
"\n",
"printf('Enter two three digit numbers\n');\n",
"[n,x,y]=mscanf('%d %d');\n",
"printf('%d %d \n',x,y);\n",
""
   ]
   }
,
{
		   "cell_type": "markdown",
		   "metadata": {},
		   "source": [
			"## Example 4.5: Reading_of_real_numbers.sce"
		   ]
		  },
  {
"cell_type": "code",
	   "execution_count": null,
	   "metadata": {
	    "collapsed": true
	   },
	   "outputs": [],
"source": [
"//             Example 4.5       \n",
"//Reading of real numbers(in both decimal point and exponential notation \n",
"\n",
"printf('Values of x and y:');\n",
"[x,y]=scanf('%f %e'); //reading x [decimal point] and y[exponential] from standard input \n",
"printf('\n');\n",
"printf('x = %f\ny = %f\n',x,y);\n",
"printf('Values of p and q:');\n",
"[p,q]=scanf('%lg %lg');\n",
"printf('\np = %.12f\nq = %.12e\n',p,q);"
   ]
   }
,
{
		   "cell_type": "markdown",
		   "metadata": {},
		   "source": [
			"## Example 4.6: Reading_of_strings.sce"
		   ]
		  },
  {
"cell_type": "code",
	   "execution_count": null,
	   "metadata": {
	    "collapsed": true
	   },
	   "outputs": [],
"source": [
"//               Example 4.6\n",
"//  Reading of strings using %wc and %ws.\n",
"\n",
"//scanf() can only read one character at a time and return it to name1, therefore\n",
"//mscanf() is used that can read more than one character \n",
"printf('Enter serial number and name one:');\n",
"[n,no,name1]=mscanf('%d %15c');\n",
"printf('%d %15s\n',no,name1);\n",
"\n",
"//Read and display a string \n",
"printf('Enter serial number and name two:');\n",
"[no,name2]=scanf('%d %s');\n",
"printf('%d %15s\n',no,name2);\n",
"\n",
"//Read and display a string of width 15\n",
"printf('Enter serial number and name three:');\n",
"[no,name3]=scanf('%d %15s');\n",
"printf('%d %15s',no,name3);"
   ]
   }
,
{
		   "cell_type": "markdown",
		   "metadata": {},
		   "source": [
			"## Example 4.8: Testing_for_correctness.sce"
		   ]
		  },
  {
"cell_type": "code",
	   "execution_count": null,
	   "metadata": {
	    "collapsed": true
	   },
	   "outputs": [],
"source": [
"//             Example 4.8       \n",
"// The program illustrates the testing for correctness of reading data by scanf function \n",
"\n",
"//In Scilab mscanf function is similar to scanf function of c \n",
"printf('Enter values of a,b and c');\n",
"[n,a,b,c]=mscanf('%d %f %c');\n",
"if(n==3) then          //Test condition\n",
"    printf('a = %d b = %f c = %c',a,b,c);\n",
"else\n",
"    printf('Error in input.');\n",
"end"
   ]
   }
,
{
		   "cell_type": "markdown",
		   "metadata": {},
		   "source": [
			"## Example 4.9: Output_of_integer_numbers.sce"
		   ]
		  },
  {
"cell_type": "code",
	   "execution_count": null,
	   "metadata": {
	    "collapsed": true
	   },
	   "outputs": [],
"source": [
"//             Example 4.9       \n",
"// The program illustrates the output of integer numbers under various formats \n",
"\n",
"m=int16(12345);       //integer variable m\n",
"n=int32(987654);      //integer variable n\n",
"printf('%d\n',m);\n",
"printf('%10d\n',m);\n",
"printf('%010d\n',m);\n",
"printf('%-10d\n',m);\n",
"printf('%10d\n',n);\n",
"printf('%10d\n',-n);"
   ]
   }
],
"metadata": {
		  "kernelspec": {
		   "display_name": "Scilab",
		   "language": "scilab",
		   "name": "scilab"
		  },
		  "language_info": {
		   "file_extension": ".sce",
		   "help_links": [
			{
			 "text": "MetaKernel Magics",
			 "url": "https://github.com/calysto/metakernel/blob/master/metakernel/magics/README.md"
			}
		   ],
		   "mimetype": "text/x-octave",
		   "name": "scilab",
		   "version": "0.7.1"
		  }
		 },
		 "nbformat": 4,
		 "nbformat_minor": 0
}
