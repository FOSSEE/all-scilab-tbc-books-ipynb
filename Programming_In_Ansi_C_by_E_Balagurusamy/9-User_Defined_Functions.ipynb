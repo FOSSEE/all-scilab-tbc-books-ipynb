{
"cells": [
 {
		   "cell_type": "markdown",
	   "metadata": {},
	   "source": [
       "# Chapter 9: User Defined Functions"
	   ]
	},
{
		   "cell_type": "markdown",
		   "metadata": {},
		   "source": [
			"## Example 1.cs: Case_study_1_Calculation_of_Area_under_a_Curve.sci"
		   ]
		  },
  {
"cell_type": "code",
	   "execution_count": null,
	   "metadata": {
	    "collapsed": true
	   },
	   "outputs": [],
"source": [
"//           Case Study:Chapter-9[page no:310]\n",
"//        1.Calculation of Area under a Curve\n",
"funcprot(0);\n",
" //global variables\n",
" global start_point\n",
" global end_point; \n",
" global total_area;\n",
" global numtraps;\n",
"function[]=input1()\n",
"    global start_point;\n",
"     global end_point; \n",
"     global total_area;\n",
"     global numtraps;\n",
"    total_area=0;\n",
"    start_point=input('Enter lower limit:');\n",
"    end_point=input('Enter upper limit:');\n",
"    numtraps=input('Enter number of trapezoids:');\n",
"endfunction\n",
"function[total_area]=find_area(a,b,n)\n",
"    global total_area;\n",
"    base=(b-1)/n;                  //base is local variable \n",
"    lower=a;                       //lower is local variable\n",
"    for lower=a:(lower+base):(b-base)\n",
"        h1=function_x(lower);\n",
"        h2=function_x(lower+base);\n",
"        total_area=total_area+trap_area(h1,h2,base); //total area is calculated\n",
"    end\n",
"endfunction\n",
"function[area]=trap_area(height_1,height_2,base)\n",
"    area =0.5*(height_1+height_2)*base;     //area is local variable\n",
"endfunction\n",
"function[x] =function_x(x)\n",
"    x=(x^2)+1;\n",
"endfunction\n",
"\n",
"//calling functions\n",
"disp('AREA UNDER CURVE');\n",
"input1();                           //calling input1() function\n",
"total_area=find_area(start_point,end_point,numtraps);//calling find_area() function\n",
"printf('TOTAL AREA = %f',total_area);"
   ]
   }
,
{
		   "cell_type": "markdown",
		   "metadata": {},
		   "source": [
			"## Example 9.16: Factorial_of_a_number_using_recursion.sci"
		   ]
		  },
  {
"cell_type": "code",
	   "execution_count": null,
	   "metadata": {
	    "collapsed": true
	   },
	   "outputs": [],
"source": [
"//            Topic 9.16 RECURSION \n",
"//            Page no. 288\n",
"//Write a program to calculate factorial of a number using recursion\n",
"function[fact1]=factorial1(n)\n",
"    fact1=-1\n",
"    if(n<0) then\n",
"        disp('Please enter positive value[i.e. 0 or greater than 0]  ');\n",
"        return;                   //Quits the current function\n",
"    end\n",
"    if((n==0)|(n==1)) then\n",
"        fact1=1;\n",
"    else\n",
"        fact1=n*factorial1(n-1);   //recursive call to factorial1()\n",
"    end\n",
"endfunction\n",
"n=input('Enter number:');\n",
"//calling factorial1() function inside printf()\n",
"printf('Factorial of %d  = %d',n,factorial1(n));"
   ]
   }
,
{
		   "cell_type": "markdown",
		   "metadata": {},
		   "source": [
			"## Example 9.1: Multiple_functions.sci"
		   ]
		  },
  {
"cell_type": "code",
	   "execution_count": null,
	   "metadata": {
	    "collapsed": true
	   },
	   "outputs": [],
"source": [
"//                  Example 9.1 \n",
"//Write a program with multiple functions that do not communicate- \n",
"//data between them.\n",
"\n",
"//Function1:printline()\n",
"funcprot(0);\n",
"function []=printline()    //contains no argument\n",
"    for i=1:35\n",
"        printf('%c','-');\n",
"    end\n",
"    printf('\n');\n",
"endfunction\n",
"//Function2: value()\n",
"function []=value()        //contains no argument\n",
"    principal=input('Principal amount?');\n",
"    inrate=input('Interest rate?');\n",
"    period=input('Period?');\n",
"    sum1=principal;\n",
"    year=1;\n",
"    //Computation using while loop\n",
"    while(year<=period)\n",
"        sum1=sum1*(1+inrate);  //calculates principal amount after certain years\n",
"        year=year+1;\n",
"     end\n",
"     printf('%8.2f  %5.2f %5d %12.2f\n',principal,inrate,period,sum1);\n",
"endfunction\n",
"//Calling  functions\n",
"printline();\n",
"value();\n",
"printline();"
   ]
   }
,
{
		   "cell_type": "markdown",
		   "metadata": {},
		   "source": [
			"## Example 9.2: Include_arguments_in_function_calls.sci"
		   ]
		  },
  {
"cell_type": "code",
	   "execution_count": null,
	   "metadata": {
	    "collapsed": true
	   },
	   "outputs": [],
"source": [
"//             Example 9.2 \n",
"//Modify Example 9.1 to include arguments in function calls.\n",
"\n",
"funcprot(0);\n",
"function []=printline(ch)         //function with argument ch\n",
"    for i=1:52\n",
"        printf('%c',ch);\n",
"    end\n",
"    printf('\n');\n",
"endfunction\n",
"function []=value(p,r,n)         //function with argument p,r,n\n",
"    sum1=p;\n",
"    year=1;\n",
"    while(year<=n)\n",
"        sum1=sum1*(1+r);\n",
"        year=year+1;\n",
"     end\n",
"     printf('%f\t%f\t%d\t%f\n',p,r,n,sum1);\n",
"endfunction\n",
"printf('Enter principal amount,interest rate,and period \n[Enter in single line seperated by space]');\n",
"[principal,inrate,period]=scanf('%f %f %d');  //read from standard input \n",
"//Calling  functions\n",
"printline('z');\n",
"value(principal,inrate,period);\n",
"printline('c');"
   ]
   }
,
{
		   "cell_type": "markdown",
		   "metadata": {},
		   "source": [
			"## Example 9.3: Return_result.sci"
		   ]
		  },
  {
"cell_type": "code",
	   "execution_count": null,
	   "metadata": {
	    "collapsed": true
	   },
	   "outputs": [],
"source": [
"//                  Example 9.3 \n",
"//Modify Example 9.2's function value() to return result and extend versatility of the function  \n",
"//printline by taking the lenth of line as an argument\n",
"function []=printline(ch,len)\n",
"    for i=1:len\n",
"        printf('%c',ch);\n",
"    end\n",
"    printf('\n');\n",
"endfunction\n",
"function [amount]=value(p,r,n)   //returns amount\n",
"    sum1=p;\n",
"    year=1;\n",
"    while(year<=n)\n",
"        sum1=sum1*(1+r);\n",
"        year=year+1;\n",
"     end\n",
"     amount=sum1;\n",
"endfunction\n",
"printf('Enter principal amount,interest rate,and period\n[Enter in single line seperated by space]');\n",
"[principal,inrate,period]=scanf('%f %f %d');\n",
"//Calling  functions\n",
"printline('*',52);\n",
"amount=value(principal,inrate,period);\n",
"printf('%f\t%f\t%d\t%f\n',principal,inrate,period,amount);\n",
"printline('=',52);"
   ]
   }
,
{
		   "cell_type": "markdown",
		   "metadata": {},
		   "source": [
			"## Example 9.4: Computes_x_raised_to_the_power_y.sci"
		   ]
		  },
  {
"cell_type": "code",
	   "execution_count": null,
	   "metadata": {
	    "collapsed": true
	   },
	   "outputs": [],
"source": [
"//             Example 9.4 \n",
"//Write a program with function power that computes x raised to the power y.\n",
"funcprot(0);\n",
"function p = power(x,y)\n",
"     p=1.0;               // x to power 0\n",
"    if((y>=0)) then\n",
"        while(y)         //computes positive powers\n",
"            p=p*x;\n",
"            y=y-1;\n",
"        end\n",
"    else\n",
"        while(y)       //computes negative powers\n",
"            p=p/x;\n",
"            y=y+1;\n",
"        end\n",
"    end\n",
"endfunction\n",
"disp('Enter x,y:');\n",
"disp('[Enter in single line seperated by space] ');\n",
"[x,y]=scanf('%d %d');    //input using scanf function\n",
"\n",
"//calling power() function and printing its output\n",
"printf('%d to the power %d is %f',x,y,power(x,y));"
   ]
   }
,
{
		   "cell_type": "markdown",
		   "metadata": {},
		   "source": [
			"## Example 9.5: Calculate_standard_deviation_of_an_array_values.sci"
		   ]
		  },
  {
"cell_type": "code",
	   "execution_count": null,
	   "metadata": {
	    "collapsed": true
	   },
	   "outputs": [],
"source": [
"//             Example 9.5 \n",
"//Write a program to calculate standard deviation of an array values.\n",
"//Array elements are read from terminal.Use functions to calulate- \n",
"//standard deviation and mean \n",
"funcprot(0);\n",
"//passing array named 'value' to function std_dev at 'a'\n",
"function[std]=std_dev(a,n)\n",
"    sum1=0;\n",
"    x=mean1(a,n);                      //calling mean1() function\n",
"    for i=1:n\n",
"      sum1=sum1+(x-a(i))^2;\n",
"      std=sqrt(sum1/double(n));        //computes standard deviation\n",
"    end\n",
"endfunction\n",
"function[x]=mean1(a,n)\n",
"    sum1=0;\n",
"    for i=1:n\n",
"      sum1=sum1+a(i);\n",
"      x=sum1/double(n);                 //x contain mean value\n",
"    end\n",
"endfunction\n",
"SIZE=int8(5);                           //size of array\n",
"printf('Enter %d float values',SIZE); \n",
"for i=1:SIZE\n",
"    value(i)=input(' ');                 //entering values in the array\n",
"end\n",
"printf('Std.deviation is %f',std_dev(value,SIZE)); //calling std_dev() function"
   ]
   }
,
{
		   "cell_type": "markdown",
		   "metadata": {},
		   "source": [
			"## Example 9.6: Sort_an_array.sci"
		   ]
		  },
  {
"cell_type": "code",
	   "execution_count": null,
	   "metadata": {
	    "collapsed": true
	   },
	   "outputs": [],
"source": [
"//             Example 9.6 \n",
"//Write a program that uses a function to sort an array of integers.\n",
"funcprot(0);\n",
"function[x]=sort(m,x)          //Passing an array i.e. marks to function sort()\n",
"    for i=1:m                  // i repesents number of passes\n",
"        for j=2:m-i+1          // j represents number of comperision in each pass\n",
"            if(x(j-1)>=x(j)) then\n",
"                t=x(j-1);\n",
"                x(j-1)=x(j);\n",
"                x(j)=t;\n",
"            end\n",
"        end\n",
"    end\n",
"endfunction\n",
"marks=int16([40,90,73,81,35]);  //creating an array named marks of 5 integers\n",
"disp('Marks before sorting');\n",
"disp(marks);\n",
"x=sort(5,marks);                //calling sort() function\n",
"disp('Marks after sorting');\n",
"disp(x);"
   ]
   }
,
{
		   "cell_type": "markdown",
		   "metadata": {},
		   "source": [
			"## Example 9.7: Autometic_variables.sci"
		   ]
		  },
  {
"cell_type": "code",
	   "execution_count": null,
	   "metadata": {
	    "collapsed": true
	   },
	   "outputs": [],
"source": [
"//             Example 9.7 \n",
"//Write a multifunction how autometic variables work.\n",
"funcprot(0);\n",
"function[]=function1()\n",
"    m=int32(10);         //Local Variable\n",
"    disp(m);             //First Output\n",
"endfunction\n",
"function[]=function2()\n",
"    m= int32(100);       //Local Variable\n",
"    function1();         //Calling function1()\n",
"    disp(m);             //Second Output\n",
"endfunction\n",
"function[]=funcmain()\n",
"m=int32(1000);\n",
"function2();     //calling function2()\n",
"disp(m);         //Third output\n",
"endfunction\n",
"funcmain()       //calling funcmain() function"
   ]
   }
,
{
		   "cell_type": "markdown",
		   "metadata": {},
		   "source": [
			"## Example 9.8: Global_variables.sci"
		   ]
		  },
  {
"cell_type": "code",
	   "execution_count": null,
	   "metadata": {
	    "collapsed": true
	   },
	   "outputs": [],
"source": [
"//             Example 9.8 \n",
"//Write a multifunction to illustrate the properties of global variables.\n",
"funcprot(0);\n",
"function[x]=fun1()\n",
"    global x;\n",
"    x=x+10;            //global x\n",
"endfunction\n",
"function[x]=fun2()\n",
"    x=1               //Local x\n",
"endfunction\n",
"function[x]=fun3()\n",
"    global x;\n",
"    x=x+10;            //global x\n",
"endfunction\n",
"    global x;\n",
"    x=10;\n",
"    printf('x=%d\n',x)\n",
"    //calling fun1(),fun2(),fun3() functions\n",
"    printf('x=%d\n',fun1());\n",
"    printf('x=%d\n',fun2());\n",
"    printf('x=%d\n',fun3());"
   ]
   }
],
"metadata": {
		  "kernelspec": {
		   "display_name": "Scilab",
		   "language": "scilab",
		   "name": "scilab"
		  },
		  "language_info": {
		   "file_extension": ".sce",
		   "help_links": [
			{
			 "text": "MetaKernel Magics",
			 "url": "https://github.com/calysto/metakernel/blob/master/metakernel/magics/README.md"
			}
		   ],
		   "mimetype": "text/x-octave",
		   "name": "scilab",
		   "version": "0.7.1"
		  }
		 },
		 "nbformat": 4,
		 "nbformat_minor": 0
}
