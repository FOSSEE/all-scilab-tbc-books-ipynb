{
"cells": [
 {
		   "cell_type": "markdown",
	   "metadata": {},
	   "source": [
       "# Chapter 6: Decision Making and Looping"
	   ]
	},
{
		   "cell_type": "markdown",
		   "metadata": {},
		   "source": [
			"## Example 6.1cs: Case_study_1_Table_of_Binomial_Coefficients.sce"
		   ]
		  },
  {
"cell_type": "code",
	   "execution_count": null,
	   "metadata": {
	    "collapsed": true
	   },
	   "outputs": [],
"source": [
"//                  Case Study:-Chapter 6, Page No:176\n",
"//             1.Table of Binomial Coefficients\n",
"\n",
"MAX=10;\n",
"printf('mx');\n",
"for m=0:10\n",
"    printf('%4d',m);\n",
"end\n",
"printf('\n-----------------------------------------------\n');\n",
"m=0;\n",
"//print the table of binomial coefficients for m=10\n",
"//Computation using while loop\n",
"while(m<=MAX)\n",
"    printf('%2d',m);\n",
"    x=0;\n",
"    binom=1;\n",
"    while(x<=m)\n",
"        if(m==0|x==0)\n",
"            printf('%4d',binom);    //Print the result i.e. binom\n",
"        else\n",
"            binom=binom*(m-x+1)/x;  //compute the binomial coefficient\n",
"            printf('%4d',binom);    //Print the result i.e. binom\n",
"        end\n",
"        x=x+1;\n",
"    end\n",
"    printf('\n');\n",
"    m=m+1;\n",
"end\n",
"printf('-----------------------------------------------\n');"
   ]
   }
,
{
		   "cell_type": "markdown",
		   "metadata": {},
		   "source": [
			"## Example 6.1: evaluate_the_equatio.sce"
		   ]
		  },
  {
"cell_type": "code",
	   "execution_count": null,
	   "metadata": {
	    "collapsed": true
	   },
	   "outputs": [],
"source": [
"//             Example 6.1\n",
"//A program to evaluate the equation y=x^n when n is a non-negative integer.\n",
"\n",
"x=input('Enter the value of x:');\n",
"n=input('Enter the value of n:');\n",
"y=1.0;count=1;    //intialization\n",
"//Loop begins\n",
"while(count<=n)   //Testing\n",
"    y=y*x;\n",
"    count=count+1;  //Increamenting\n",
"end\n",
"//End of loop\n",
"printf('x = %f; n = %d; x to power n = %f\n',x,n,y);"
   ]
   }
,
{
		   "cell_type": "markdown",
		   "metadata": {},
		   "source": [
			"## Example 6.2cs: Case_study_2_Histogram.sce"
		   ]
		  },
  {
"cell_type": "code",
	   "execution_count": null,
	   "metadata": {
	    "collapsed": true
	   },
	   "outputs": [],
"source": [
"//                  Case Study:-Chapter 6\n",
"//                      2.Histogram\n",
"\n",
"N=5;\n",
"for n=1:N\n",
"    printf('Enter employees in Group-%d:',n);\n",
"    value(n)=scanf('%d');          //Read data in the array named value\n",
"    printf('%d\n',value(n));       //Print number which is at position n\n",
"end\n",
"printf('\n');\n",
"printf('        |\n');\n",
"//Computation using for loop and draw a histogram\n",
"for n=1:N\n",
"    for i=1:3\n",
"         if(i==2) then\n",
"                printf('Group-%1d |',n);\n",
"          else\n",
"                printf('        |');\n",
"          end\n",
"          for j=1:value(n)\n",
"                printf('*');\n",
"          end\n",
"          if(i==2)\n",
"                printf('(%d)\n',value(n));\n",
"           else\n",
"                printf('\n');\n",
"           end\n",
"     end\n",
"                printf('        |\n');\n",
"end"
   ]
   }
,
{
		   "cell_type": "markdown",
		   "metadata": {},
		   "source": [
			"## Example 6.2: Multiplication_table.sce"
		   ]
		  },
  {
"cell_type": "code",
	   "execution_count": null,
	   "metadata": {
	    "collapsed": true
	   },
	   "outputs": [],
"source": [
"//             Example 6.2\n",
"//A program to print multiplication table from 1*1 to 12*10.\n",
"\n",
"\n",
"disp('           MULTIPLICATION TABLE            ');\n",
"disp('-------------------------------------------');\n",
"row=1;\n",
"while(row<=12)           //Outer loop begins\n",
"    column=1;\n",
"    while(column<=10)    //Inner loop begins\n",
"        y=row*column;\n",
"        printf('%4d',y);\n",
"        column=column+1;\n",
"     end\n",
"     row=row+1;\n",
"     printf('\n');\n",
"end"
   ]
   }
,
{
		   "cell_type": "markdown",
		   "metadata": {},
		   "source": [
			"## Example 6.3cs: Case_study_3_Minimum_Cost.sce"
		   ]
		  },
  {
"cell_type": "code",
	   "execution_count": null,
	   "metadata": {
	    "collapsed": true
	   },
	   "outputs": [],
"source": [
"//              Case Study:-Chapter 6\n",
"//               3.Minimum Cost\n",
"\n",
"for p=0:0.1:10\n",
"    cost=48-8*p+p^2;\n",
"    if(p==0) ,\n",
"        cost1=cost;\n",
"        continue;        //Use of continue statement\n",
"    end\n",
"    \n",
"    if(cost>=cost1) ,\n",
"        break;          //Use of break statement\n",
"    end\n",
"    cost1=cost;\n",
"    p1=p;\n",
"end\n",
"p =(p+p1)/2.0;\n",
"cost=40-8*p+p^2;       //Computes the cost\n",
"//print the result\n",
"printf('MINIMUM COST=%.2f AT p=%.1f\n',cost,p);"
   ]
   }
,
{
		   "cell_type": "markdown",
		   "metadata": {},
		   "source": [
			"## Example 6.3: Uses_a_for_loop.sce"
		   ]
		  },
  {
"cell_type": "code",
	   "execution_count": null,
	   "metadata": {
	    "collapsed": true
	   },
	   "outputs": [],
"source": [
"//             Example 6.3\n",
"//The program uses a for loop to print the 'Power of 2' table for the \n",
"//power 0 to 20, both positive and negative.\n",
"\n",
"disp('-----------------------------------------');\n",
"printf(' 2 to power n       n      2 to power -n\n');\n",
"disp('-----------------------------------------');\n",
"for n=0:20           //Loop begins\n",
"    p=2^n;\n",
"    q=2^-n;\n",
"    printf('%7d     %9d      %10.12f\n',p,n,q);\n",
"end                 //Loop ends"
   ]
   }
,
{
		   "cell_type": "markdown",
		   "metadata": {},
		   "source": [
			"## Example 6.4cs: Case_study_4_Plotting_of_two_Functions.sce"
		   ]
		  },
  {
"cell_type": "code",
	   "execution_count": null,
	   "metadata": {
	    "collapsed": true
	   },
	   "outputs": [],
"source": [
"//                Case Study:-Chapter 6\n",
"//   4.Plotting of two Functions i.e. y1=exp(-ax) and y2=exp(-ax^2/2)\n",
"\n",
"a=0.4;\n",
"printf('                      y------->                         \n');\n",
"printf('0 ---------------------------------------------------------------\n');\n",
"for x=0:0.25:4\n",
"    //Evaluation of functions\n",
"    y1=int32(50*exp(-a*x)+0.5);\n",
"    y2=int32(50*exp(-a*(x^2)/2)+0.5);\n",
"    //plotting when y1=y2\n",
"    if(y1==y2) ,\n",
"        if(x==2.5) ,\n",
"            printf('x |');\n",
"        else\n",
"            printf('  |');\n",
"        end\n",
"        for i=1:(y1-1)\n",
"            printf(' ');\n",
"        end\n",
"        printf('#\n');\n",
"        continue;\n",
"    end\n",
"   \n",
"    //Plotting when y1>y2\n",
"    if(y1>y2) ,\n",
"        if(x==2.5) ,\n",
"            printf('x |');\n",
"        else\n",
"            printf('  |');\n",
"        end\n",
"        for i=1:y2-1\n",
"            printf(' ');\n",
"        end\n",
"        printf('*');\n",
"        for i=1:(y1-y2-1)\n",
"            printf('-');\n",
"        end\n",
"        printf('0\n');\n",
"        continue;\n",
"     end \n",
"     \n",
"     //Plotting when y2>y1\n",
"    if(y2>y1) ,\n",
"        if(x==2.5)\n",
"            printf('x |');\n",
"        else\n",
"            printf('  |');\n",
"        end\n",
"        for i=1:(y1-1)\n",
"            printf(' ');\n",
"        end\n",
"        printf('0');\n",
"        for i=1:(y2-y1-1)\n",
"            printf('-');\n",
"        end\n",
"        printf('*\n');\n",
"     end\n",
"end\n",
"     printf('  |\n');"
   ]
   }
,
{
		   "cell_type": "markdown",
		   "metadata": {},
		   "source": [
			"## Example 6.4: Read_the_marks_and_print_total_marks.sce"
		   ]
		  },
  {
"cell_type": "code",
	   "execution_count": null,
	   "metadata": {
	    "collapsed": true
	   },
	   "outputs": [],
"source": [
"//                      Example 6.4\n",
"//A class of n students take an annual examination in m subjects.\n",
"// A program to read the marks obtained by each student in various subjects\n",
"// and to compare and print the total marks obtained by each of them.\n",
"\n",
"FIRST=360;SECOND=240;\n",
"disp('Enter number of students and subjects');\n",
"[n,m]=scanf('%d %d');\n",
"for i=1:n\n",
"    roll_number=input('Enter roll_number:');\n",
"    total=0;\n",
"    printf('Enter marks of %d subjects for ROLL NO %d',m,roll_number);\n",
"    printf('[Enter each in newline]');\n",
"    for j=1:m\n",
"        marks=scanf('%d');\n",
"        total=total+marks;    //Compute the total\n",
"    end\n",
"    //print the total marks\n",
"    printf('TOTAL MARKS =%d',total);\n",
"    //Test  for division and display it\n",
"    if(total>=FIRST) ,\n",
"        disp('First Division');\n",
"    elseif(total>=SECOND)\n",
"        disp('Second Division');\n",
"    else\n",
"        disp('***F A I L ***')\n",
"    end\n",
"end"
   ]
   }
,
{
		   "cell_type": "markdown",
		   "metadata": {},
		   "source": [
			"## Example 6.5: Use_of_the_break_statement.sce"
		   ]
		  },
  {
"cell_type": "code",
	   "execution_count": null,
	   "metadata": {
	    "collapsed": true
	   },
	   "outputs": [],
"source": [
"//               Example 6.5\n",
"//Program illustrate use of the break statement\n",
"\n",
"disp('This program computes the avarage of set of numbers');\n",
"disp('Enter values and enter a NEGATIVE value at the end');\n",
"sum1=0;\n",
"for m=1:1000\n",
"    x=scanf('%f');    //Read data\n",
"    if(x<0) then\n",
"        break;       //EXIT FROM LOOP\n",
"    end\n",
"    sum1=sum1+x;     //Computes sum\n",
"end\n",
"average=sum1/(m-1);  //Computes Average\n",
"//Print the results\n",
"printf('Number of values =%d\n',m-1);\n",
"printf('sum1=%f\n',sum1);\n",
"printf('Avarage =%f\n',average);"
   ]
   }
,
{
		   "cell_type": "markdown",
		   "metadata": {},
		   "source": [
			"## Example 6.6: Evaluate_the_series.sce"
		   ]
		  },
  {
"cell_type": "code",
	   "execution_count": null,
	   "metadata": {
	    "collapsed": true
	   },
	   "outputs": [],
"source": [
"//               Example 6.6\n",
"//Program to evaluate the series i.e.\n",
"// 1/1-x = 1+x+x^2+x^3+.....+x^n\n",
"\n",
"x=input('Input value of x:');   //Read value of x\n",
"LOOP=100; ACCURACY=0.0001;      //Initialization\n",
"sum1=0;term=1;flag=0;\n",
"//Computation using for loop\n",
"for n=1:LOOP\n",
"    sum1=sum1+term;\n",
"    if(term<=ACCURACY) then     //Test for accuracy\n",
"        flag=1;\n",
"        break;\n",
"    end\n",
"    term=term*x;\n",
"\n",
"end\n",
"//Print the results\n",
"if(flag==1) then\n",
"    printf('  EXIT FROM LOOP\n');\n",
"    printf('  Sum =%f ; No. of terms =%d',sum1,n);\n",
"else\n",
"    disp('FINAL VALUE OF N IS NOT SUFFICIENT TO ACHIEVE DESIRED ACCURCY');\n",
"end"
   ]
   }
,
{
		   "cell_type": "markdown",
		   "metadata": {},
		   "source": [
			"## Example 6.7: Use_of_continue_statement.sce"
		   ]
		  },
  {
"cell_type": "code",
	   "execution_count": null,
	   "metadata": {
	    "collapsed": true
	   },
	   "outputs": [],
"source": [
"//              Example 6.7\n",
"//The program illustrate the use of continue statement\n",
"\n",
"disp('Enter 9999 to STOP');\n",
"count=0;\n",
"negative=0;\n",
"while(count<=100)\n",
"    number=input('Enter a number:');\n",
"    if(number==9999) then\n",
"        break;         //EXIT FROM THE LOOP\n",
"    end\n",
"    if(number<0),\n",
"        disp('Number is negative');\n",
"        negative =negative+1;\n",
"        continue;     //SKIP REST OF LOOP\n",
"     end\n",
"     sqrot=sqrt(number);  //COMPUTE SQUARE ROOT\n",
"     printf('Number = %f\n',number);\n",
"     printf('Square root = %f',sqrot);\n",
"     count=count+1;\n",
"end\n",
"//PRINT RESULTS\n",
"printf('Number of items done = %d\n',count);\n",
"printf('Negative items = %d\n',negative);\n",
"disp('END OF DATA');"
   ]
   }
],
"metadata": {
		  "kernelspec": {
		   "display_name": "Scilab",
		   "language": "scilab",
		   "name": "scilab"
		  },
		  "language_info": {
		   "file_extension": ".sce",
		   "help_links": [
			{
			 "text": "MetaKernel Magics",
			 "url": "https://github.com/calysto/metakernel/blob/master/metakernel/magics/README.md"
			}
		   ],
		   "mimetype": "text/x-octave",
		   "name": "scilab",
		   "version": "0.7.1"
		  }
		 },
		 "nbformat": 4,
		 "nbformat_minor": 0
}
