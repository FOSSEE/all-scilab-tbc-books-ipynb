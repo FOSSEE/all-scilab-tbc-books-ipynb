{
"cells": [
 {
		   "cell_type": "markdown",
	   "metadata": {},
	   "source": [
       "# Chapter 1: Overview of C"
	   ]
	},
{
		   "cell_type": "markdown",
		   "metadata": {},
		   "source": [
			"## Example 1.3: Printing_a_mesage.sce"
		   ]
		  },
  {
"cell_type": "code",
	   "execution_count": null,
	   "metadata": {
	    "collapsed": true
	   },
	   "outputs": [],
"source": [
"//            Example 1.3\n",
"// SAMPLE PROGRAM 1: PRINTING A MESSAGE\n",
"\n",
"//Printing Begins\n",
"printf('I see,I remember') //Printing using printf() function \n",
"//Printing ends\n",
"\n",
"\n",
"//We can also print a message using disp() function in scilab\n",
"disp('I see,I remember') //Printing using disp() function"
   ]
   }
,
{
		   "cell_type": "markdown",
		   "metadata": {},
		   "source": [
			"## Example 1.4: Adding_two_numbers.sce"
		   ]
		  },
  {
"cell_type": "code",
	   "execution_count": null,
	   "metadata": {
	    "collapsed": true
	   },
	   "outputs": [],
"source": [
"//            Example 1.4\n",
"// SAMPLE PROGRAM 2: ADDING TWO NUMBERS\n",
"\n",
"number=100;\n",
"amount=30.75+75.35 ;     //Addition of two numbers\n",
"disp(number) ;           //Display  value of number variable\n",
"//Display value of amount in floating point with five places in all and two places to the right of decimalpoint\n",
"printf('%5.2f',amount);\n",
""
   ]
   }
,
{
		   "cell_type": "markdown",
		   "metadata": {},
		   "source": [
			"## Example 1.5: Interest_Calculation.sce"
		   ]
		  },
  {
"cell_type": "code",
	   "execution_count": null,
	   "metadata": {
	    "collapsed": true
	   },
	   "outputs": [],
"source": [
"//            Example 1.5\n",
"// SAMPLE PROGRAM 3: INTEREST CALCULATION\n",
"\n",
"PRINCIPAL=5000.00;\n",
"PERIOD=10;\n",
"//Assignment Statements\n",
"amount=PRINCIPAL;\n",
"inrate=0.11;\n",
"year=0;\n",
"//Computation using while loop\n",
"while(year<=PERIOD)\n",
"    printf('%2d %8.2f\n',year,amount);\n",
"    value=amount+inrate*amount;\n",
"    year=year+1;\n",
"    amount=value;\n",
"end //End of while loop\n",
"\n",
""
   ]
   }
,
{
		   "cell_type": "markdown",
		   "metadata": {},
		   "source": [
			"## Example 1.6: Use_of_subroutines.sci"
		   ]
		  },
  {
"cell_type": "code",
	   "execution_count": null,
	   "metadata": {
	    "collapsed": true
	   },
	   "outputs": [],
"source": [
"//            Example 1.6\n",
"// SAMPLE PROGRAM 4: USE OF SUBROUTINES\n",
"\n",
"//Program using function\n",
" \n",
"function []=mul(a,b)   // mul()function starts (i.e.definition starts)\n",
"   y=a*b;\n",
"   printf('Multiplication of %d and %d is %d',a,b,y);\n",
"endfunction       // mul()function ends \n",
"a=5;b=10;\n",
"//Calling mul() function\n",
"mul(a,b) "
   ]
   }
,
{
		   "cell_type": "markdown",
		   "metadata": {},
		   "source": [
			"## Example 1.7: Use_of_math_functions.sce"
		   ]
		  },
  {
"cell_type": "code",
	   "execution_count": null,
	   "metadata": {
	    "collapsed": true
	   },
	   "outputs": [],
"source": [
"//            Example 1.7\n",
"// SAMPLE PROGRAM 5: USE OF MATH FUNCTIONS\n",
"\n",
"//Program using cosine function\n",
"angle=0;MAX=180;\n",
"printf('           Angle      Cos(angle)\n');\n",
"  while(angle<=MAX)\n",
"    x=(%pi/MAX)*angle;\n",
"    y=cos(x);            //Use of cosine function\n",
"    printf('%15d %13.4f\n',angle,y);\n",
"    angle=angle+10;\n",
"  end"
   ]
   }
],
"metadata": {
		  "kernelspec": {
		   "display_name": "Scilab",
		   "language": "scilab",
		   "name": "scilab"
		  },
		  "language_info": {
		   "file_extension": ".sce",
		   "help_links": [
			{
			 "text": "MetaKernel Magics",
			 "url": "https://github.com/calysto/metakernel/blob/master/metakernel/magics/README.md"
			}
		   ],
		   "mimetype": "text/x-octave",
		   "name": "scilab",
		   "version": "0.7.1"
		  }
		 },
		 "nbformat": 4,
		 "nbformat_minor": 0
}
