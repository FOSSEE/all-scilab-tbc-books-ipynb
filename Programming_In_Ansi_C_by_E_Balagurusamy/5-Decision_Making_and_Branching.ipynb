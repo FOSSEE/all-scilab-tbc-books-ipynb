{
"cells": [
 {
		   "cell_type": "markdown",
	   "metadata": {},
	   "source": [
       "# Chapter 5: Decision Making and Branching"
	   ]
	},
{
		   "cell_type": "markdown",
		   "metadata": {},
		   "source": [
			"## Example 5.1cs: Case_study_1_range_of_numbers.sce"
		   ]
		  },
  {
"cell_type": "code",
	   "execution_count": null,
	   "metadata": {
	    "collapsed": true
	   },
	   "outputs": [],
"source": [
"//                Case Study:-Chapter 5, Page No:139\n",
"//                 1.Range of numbers\n",
"\n",
"sum1=0;\n",
"count=0;\n",
"f=0;value=1;\n",
"printf('Enter numbers[press enter after each number]:\n input a NEGATIVE number to end\n');\n",
"while(value)\n",
"    [value]=scanf('%f');  //Read data\n",
"    if(value<0) then\n",
"        break;\n",
"    end\n",
"    count=count+1;\n",
"    //Calculating height and lowest value\n",
"    if(count==1) then\n",
"        high=value;\n",
"        low=value;\n",
"     elseif(value>high) then\n",
"         high=value;\n",
"     elseif(value<low) then\n",
"         low=value;\n",
"     end\n",
"     //Calculate sum\n",
"     sum1=sum1+value; \n",
"end\n",
"average=sum1/count;     //Average cost\n",
"range1=high-low;        //Range of values\n",
"//Print the results\n",
"printf('Total values: %d\n',count);\n",
"printf('Highest-values: %f\nLowest-value: %f\n',high,low);\n",
"printf('Range: %f\n Avarage: %f\n',range1,average);"
   ]
   }
,
{
		   "cell_type": "markdown",
		   "metadata": {},
		   "source": [
			"## Example 5.1: Ratio.sce"
		   ]
		  },
  {
"cell_type": "code",
	   "execution_count": null,
	   "metadata": {
	    "collapsed": true
	   },
	   "outputs": [],
"source": [
"//                     Example 5.1\n",
"// The program reads four values a,b,c and d from the terminal and \n",
"//evaluates the ratio of (a+b) to (c+d) and prints the result,if c-d \n",
"//is not equal to zero\n",
"\n",
"disp('Enter four integer values');\n",
"a=int8(input('a='));\n",
"b=int8(input('b='));\n",
"c=int8(input('c='));\n",
"d=int8(input('d='));\n",
"\n",
"if(c-d ~= 0) then      //Execute statement block\n",
"    ratio=double(a+b)/double(c-d);\n",
"    printf('Ratio=%f\n',ratio);\n",
"end"
   ]
   }
,
{
		   "cell_type": "markdown",
		   "metadata": {},
		   "source": [
			"## Example 5.2: counts_the_number_of_boys.sce"
		   ]
		  },
  {
"cell_type": "code",
	   "execution_count": null,
	   "metadata": {
	    "collapsed": true
	   },
	   "outputs": [],
"source": [
"//                     Example 5.2\n",
"// The program counts the number of boys whose weight is less than 50Kg\n",
"//and height is greater than 170cm.\n",
"\n",
"count=int(0);\n",
"disp('Enter weight and height for 10 boys');\n",
"for i=1:10\n",
"    [weight,height]=scanf('%f %f');\n",
"    if(weight<50&height>170) then     // Test for weight and height\n",
"        count=count+1;\n",
"    end\n",
"end\n",
"disp('Number of boys with weight <50 kg and height>170 cm =');\n",
"disp(count)"
   ]
   }
,
{
		   "cell_type": "markdown",
		   "metadata": {},
		   "source": [
			"## Example 5.2cs: Case_study_2_Pay_Bill_Calculations.sce"
		   ]
		  },
  {
"cell_type": "code",
	   "execution_count": null,
	   "metadata": {
	    "collapsed": true
	   },
	   "outputs": [],
"source": [
"//                Case Study:-Chapter 5\n",
"//               2.Pay-Bill Calculations\n",
"CA1=1000;\n",
"CA2=750;\n",
"CA3=500;\n",
"CA4=250;\n",
"EA1=500;\n",
"EA2=200;\n",
"EA3=100;\n",
"EA4=0;\n",
"level=1;\n",
"while(level)\n",
"    printf('Enter 0[zero] for level to end');\n",
"    //Read data\n",
"    level=input('Enter level:');\n",
"    if(level==0)\n",
"        break;\n",
"    end\n",
"    printf('Enter job number, and basic pay\n');\n",
"    //Read data\n",
"    [jobnumber,basic]=scanf('%d %f');\n",
"    //Decide level number and calculate perks\n",
"    select level\n",
"    case 1 then perks=CA1+EA1;\n",
"    case 2 then perks=CA2+EA2;\n",
"    case 3 then perks=CA3+EA3;\n",
"    case 4 then perks=CA4+EA4;\n",
"    else\n",
"        printf('Error in level code');\n",
"        return;\n",
"    end\n",
"\n",
"    house_rent=0.25*basic;\n",
"    //Calculate gross salary\n",
"    gross=basic+house_rent+perks;\n",
"    //Calculate income tax\n",
"    if (gross<=2000) then\n",
"        incometax=0;\n",
"    elseif(gross<=4000)\n",
"        incometax=0.03*gross;\n",
"    elseif(gross<=5000)\n",
"        incometax=0.05*gross;\n",
"    else\n",
"        incometax=0.08*gross;\n",
"    end\n",
"    //Compute the net salary\n",
"    net=gross-incometax;\n",
"    //Print the results\n",
"    printf('%d %d %.2f\n',level,jobnumber,net);\n",
"end\n",
"printf('END OF THE PROGRAM');\n",
"\n",
"\n",
"\n",
""
   ]
   }
,
{
		   "cell_type": "markdown",
		   "metadata": {},
		   "source": [
			"## Example 5.3: Evaluate_the_power_series.sce"
		   ]
		  },
  {
"cell_type": "code",
	   "execution_count": null,
	   "metadata": {
	    "collapsed": true
	   },
	   "outputs": [],
"source": [
"//                     Example 5.3\n",
"// A program to evaluate the power series. It uses if...else to test accuracy.\n",
"// e^x=1+x+x^2/2! + x^3/3! +    +x^n/n!,0<x<1\n",
"\n",
"ACCURACY=0.0001;\n",
"x=input('Enter value of x:');\n",
"n=1;term=1;sum1=1;count=int8(1);\n",
"while(n<=100)\n",
"    term=term* x/n;\n",
"    sum1=sum1+term;\n",
"    count=count+1;\n",
"    if(term<ACCURACY) then      //Test for accuracy\n",
"        n=999;\n",
"    else\n",
"        n=n+1;\n",
"     end\n",
"end\n",
"//Print results\n",
"printf('Term=%d Sum=%f',count,sum1);"
   ]
   }
,
{
		   "cell_type": "markdown",
		   "metadata": {},
		   "source": [
			"## Example 5.4: Largest_of_the_three_numbers.sce"
		   ]
		  },
  {
"cell_type": "code",
	   "execution_count": null,
	   "metadata": {
	    "collapsed": true
	   },
	   "outputs": [],
"source": [
"//                     Example 5.4\n",
"// The program selects and prints the largest of the three numbers \n",
"//using nested if...else statement\n",
"\n",
"disp('Enter three values');\n",
"A=input('A=');\n",
"B=input('B=');\n",
"C=input('C=');\n",
"disp('Largest value is:');\n",
"if(A>B) ,               //Test for largest between A&B\n",
"    if(A>C) ,           //Test for largest between A&C\n",
"        disp(A);\n",
"     else\n",
"         disp(C);\n",
"     end\n",
"else\n",
"    if(C>B) ,          //Test for largest between C&B\n",
"        disp(C);\n",
"    else\n",
"        disp(B);\n",
"     end\n",
"end"
   ]
   }
,
{
		   "cell_type": "markdown",
		   "metadata": {},
		   "source": [
			"## Example 5.5: Reads_the_customer_number_and_power_consumed.sce"
		   ]
		  },
  {
"cell_type": "code",
	   "execution_count": null,
	   "metadata": {
	    "collapsed": true
	   },
	   "outputs": [],
"source": [
"//                     Example 5.5\n",
"// The program reads the customer number and power consumed and prints\n",
"//the amount to be paid by the customer\n",
"\n",
"disp('Enter CUSTOMER NO. and UNITS consumed');\n",
"//Read data\n",
"custnum=input('CUSTOMER NO.:');\n",
"units=input('UNITS:');\n",
"//Use of else...if ladder\n",
"//Calculates charges\n",
"if(units<=200) ,\n",
"    charges=0.5*units;\n",
"elseif(units<=400) ,\n",
"    charges=100+0.65*(units-200);\n",
"elseif(uints<=600) ,\n",
"    charges=230+0.8*(units-400);\n",
"else\n",
"    charges=390+(units-600);\n",
"end\n",
"//Print results\n",
"printf('Customer No:%d  Charges=%.2f',custnum,charges);"
   ]
   }
,
{
		   "cell_type": "markdown",
		   "metadata": {},
		   "source": [
			"## Example 5.6: Loan_applications_and_to_sanction_loans.sce"
		   ]
		  },
  {
"cell_type": "code",
	   "execution_count": null,
	   "metadata": {
	    "collapsed": true
	   },
	   "outputs": [],
"source": [
"//                     Example 5.6\n",
"// A program to  process loan applications and to sanction loans.\n",
"\n",
"MAXLOAN=50000;\n",
"disp('Enter the values of previous two loans');\n",
"loan1=int32(input('Enter first loan:'));\n",
"loan2=int32(input('Enter second loan:'));\n",
"loan3=int32(input('Enter the values of new loan:'));\n",
"sum23=loan2+loan3;\n",
"//Calculate the sanction loan\n",
"if(loan1>0),\n",
"    sancloan=0;\n",
" elseif(sum23>MAXLOAN),\n",
"     sancloan=MAXLOAN-loan2;\n",
" else\n",
"     sancloan=loan3;\n",
"end\n",
"//Print the results\n",
"printf('Previous loans pending:%d %d\n',loan1,loan2);\n",
"printf('Loan requested =%d\n',loan3);\n",
"printf('Loan sanctioned =%d\n',sancloan);"
   ]
   }
,
{
		   "cell_type": "markdown",
		   "metadata": {},
		   "source": [
			"## Example 5.7: square_root_for_five_numbers.sce"
		   ]
		  },
  {
"cell_type": "code",
	   "execution_count": null,
	   "metadata": {
	    "collapsed": true
	   },
	   "outputs": [],
"source": [
"//                     Example 5.7\n",
"// The  program evaluates the square root for five numbers.\n",
"\n",
"count=1;\n",
"printf('Enter FIVE real values\n');\n",
"while(count<=5)\n",
"    x=scanf('%f');\n",
"    if(x<0) then\n",
"        printf('Value - %d is negative\n',count);\n",
"    else\n",
"        y=sqrt(x);            //Calculate square root\n",
"        printf('%f\t%f\n',x,y); //Print result\n",
"    end\n",
"    count=count+1;\n",
"end\n",
"printf('End of computation');"
   ]
   }
],
"metadata": {
		  "kernelspec": {
		   "display_name": "Scilab",
		   "language": "scilab",
		   "name": "scilab"
		  },
		  "language_info": {
		   "file_extension": ".sce",
		   "help_links": [
			{
			 "text": "MetaKernel Magics",
			 "url": "https://github.com/calysto/metakernel/blob/master/metakernel/magics/README.md"
			}
		   ],
		   "mimetype": "text/x-octave",
		   "name": "scilab",
		   "version": "0.7.1"
		  }
		 },
		 "nbformat": 4,
		 "nbformat_minor": 0
}
