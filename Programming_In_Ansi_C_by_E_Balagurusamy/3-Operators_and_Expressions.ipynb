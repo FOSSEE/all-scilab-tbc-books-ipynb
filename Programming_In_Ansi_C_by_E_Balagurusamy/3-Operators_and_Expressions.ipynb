{
"cells": [
 {
		   "cell_type": "markdown",
	   "metadata": {},
	   "source": [
       "# Chapter 3: Operators and Expressions"
	   ]
	},
{
		   "cell_type": "markdown",
		   "metadata": {},
		   "source": [
			"## Example 3.1cs: case_study_1_salesmans_salary.sce"
		   ]
		  },
  {
"cell_type": "code",
	   "execution_count": null,
	   "metadata": {
	    "collapsed": true
	   },
	   "outputs": [],
"source": [
"//      Case Study:-Chapter 3,Page No:76\n",
"//       1.Salesman's Salary\n",
"\n",
"\n",
"BASE_SALARY=1500.00;   //Minimum base salary\n",
"BONUS_RATE=200.00;     //Bonus for every computer sold\n",
"COMMISSION=0.02;       //Commission on total monthly sales\n",
"printf('Input number sold and price\n[Enter in single line separated by space]');\n",
"[quantity,price] = scanf('%d %f');   //Input quantity and price\n",
"//Computation for bonus,commission and gross_salary of a salesman \n",
"bonus = BONUS_RATE*quantity;\n",
"commission = COMMISSION*quantity*price;\n",
"gross_salary =BASE_SALARY + bonus + commission; \n",
"printf('Bonus              = %6.2f\n',   bonus); \n",
"printf('Commission         = %6.2f\n',   commission); \n",
"printf('Gross  salary      = %6.2f\n',   gross_salary); "
   ]
   }
,
{
		   "cell_type": "markdown",
		   "metadata": {},
		   "source": [
			"## Example 3.1: Use_of_integer_arithmetic.sce"
		   ]
		  },
  {
"cell_type": "code",
	   "execution_count": null,
	   "metadata": {
	    "collapsed": true
	   },
	   "outputs": [],
"source": [
"//                 Example 3.1\n",
"//The program shows the use of integer arithmetic to convert a given number- \n",
"//of days into months and days\n",
"\n",
"days=input('Enter days:');\n",
"months=int16(days/30);          //Compute for months\n",
"days =int16(pmodulo(days,30));  //compute for days\n",
"disp(days,'Days =',months,'Months =');"
   ]
   }
,
{
		   "cell_type": "markdown",
		   "metadata": {},
		   "source": [
			"## Example 3.2cs: case_study_2_solution_of_the_quadratic_equation.sce"
		   ]
		  },
  {
"cell_type": "code",
	   "execution_count": null,
	   "metadata": {
	    "collapsed": true
	   },
	   "outputs": [],
"source": [
"//          Case Study:-Chapter 3,Page No:77\n",
"//        2.Solution of the Quadratic equation\n",
"\n",
"\n",
"printf('Input values of a, b, and c \n');\n",
"a=input('a =');\n",
"b=input('b =');\n",
"c=input('c =');\n",
"discriminant = b^2-4*a*c;\n",
"if(discriminant<0)\n",
"    printf('\n\nROOTS ARE IMAGINARY\n');\n",
"else\n",
"    //Computes root1 and root2\n",
"    root1 = (-b + sqrt(discriminant))/(2.0*a);\n",
"    root2 = (-b - sqrt(discriminant))/(2.0*a);\n",
"    printf('\n\nRoot1 = %5.2f\n\nRoot2 = %5.2f\n',root1,root2 );\n",
"end\n",
"\n",
""
   ]
   }
,
{
		   "cell_type": "markdown",
		   "metadata": {},
		   "source": [
			"## Example 3.2: Sequence_of_squares_of_numbers.sce"
		   ]
		  },
  {
"cell_type": "code",
	   "execution_count": null,
	   "metadata": {
	    "collapsed": true
	   },
	   "outputs": [],
"source": [
"//                 Example 3.2\n",
"//Program to print a sequence of squares of numbers. \n",
"\n",
"N=100;A=2;\n",
"a=A;\n",
"while(a<N)\n",
"    disp(a);    //Prints square of number\n",
"    a=a^2;      //compute square of number\n",
"end"
   ]
   }
,
{
		   "cell_type": "markdown",
		   "metadata": {},
		   "source": [
			"## Example 3.3: Different_kind_of_operators.sce"
		   ]
		  },
  {
"cell_type": "code",
	   "execution_count": null,
	   "metadata": {
	    "collapsed": true
	   },
	   "outputs": [],
"source": [
"//                       Example 3.3\n",
"//The program employs diffrent kind of operators. The results of their evaluation are also shown for comparison\n",
"\n",
"//Increment(i.e. ++)/Decrement(--) operators are unavailable in Scilab\n",
"a=int16(15);\n",
"b=int16(10);\n",
"a=a+1;  // Replacement for ++a\n",
"c=a-b;\n",
"printf('a = %d b = %d c = %d\n',a,b,c);\n",
"b=b+1;  // Replacement for b++\n",
"d=b+a;\n",
"printf('a = %d b = %d d = %d\n',a,b,d);\n",
"printf('a/b = %d\n',a/b);                    //Division operator\n",
"printf('pmodulo(a,b) = %d\n',pmodulo(a,b));  //Modulus operatior\n",
"printf('a*b = %d\n',a*b);                    //Multiplication\n",
"//In scilab ther is no conditional operator(?:),hence 'if' can be used in place of ?:\n",
"if(c>d) then\n",
"    disp(1);\n",
"end\n",
"if(c<d) then\n",
"    disp(0);\n",
"end"
   ]
   }
,
{
		   "cell_type": "markdown",
		   "metadata": {},
		   "source": [
			"## Example 3.4: Use_of_variables_in_expressions.sce"
		   ]
		  },
  {
"cell_type": "code",
	   "execution_count": null,
	   "metadata": {
	    "collapsed": true
	   },
	   "outputs": [],
"source": [
"//                 Example 3.4\n",
"//The program illustrates the use of variables in expressions and their evaluation.\n",
"\n",
"a=9;b=12;c=3;\n",
"//Expressions and their evaluations\n",
"x=a-b/3+c*2-1;\n",
"y=a-b/(3+c*(2-1));\n",
"z=a-(b/(3+c)*2)-1;\n",
"\n",
"printf('x=%f\n',x)\n",
"printf('y=%f\n',y)\n",
"printf('z=%f\n',z)\n",
"// disp can be used..\n",
"//disp(x,'x=')\n",
"//disp(y,'y=')\n",
"//disp(z,'z=')"
   ]
   }
,
{
		   "cell_type": "markdown",
		   "metadata": {},
		   "source": [
			"## Example 3.5: Round_off_errors.sce"
		   ]
		  },
  {
"cell_type": "code",
	   "execution_count": null,
	   "metadata": {
	    "collapsed": true
	   },
	   "outputs": [],
"source": [
"//                 Example 3.5\n",
"//Output of program shows round-off errors that can occur in computation of floating point numbers\n",
"\n",
"//Sum of n terms of 1/n\n",
"count=1;\n",
"sum1=0;\n",
"n=input('Enter value of n:');\n",
"term=1.0/n;\n",
"while(count<=n)\n",
"    sum1=sum1+term;\n",
"    count=count+1;\n",
"end\n",
"printf('Sum= %f',sum1);"
   ]
   }
,
{
		   "cell_type": "markdown",
		   "metadata": {},
		   "source": [
			"## Example 3.6: Cast_to_evaluate_the_equatio.sce"
		   ]
		  },
  {
"cell_type": "code",
	   "execution_count": null,
	   "metadata": {
	    "collapsed": true
	   },
	   "outputs": [],
"source": [
"//                 Example 3.6\n",
"//Program using a cast to evaluate the equation. \n",
"\n",
"sum1=0;\n",
"for n=int8(1:10)\n",
"    sum1=sum1+1/double(n);   //conversion from 'int' to 'double' or 'float'\n",
"     printf('%2d %6.4f\n',n,sum1);\n",
"end"
   ]
   }
],
"metadata": {
		  "kernelspec": {
		   "display_name": "Scilab",
		   "language": "scilab",
		   "name": "scilab"
		  },
		  "language_info": {
		   "file_extension": ".sce",
		   "help_links": [
			{
			 "text": "MetaKernel Magics",
			 "url": "https://github.com/calysto/metakernel/blob/master/metakernel/magics/README.md"
			}
		   ],
		   "mimetype": "text/x-octave",
		   "name": "scilab",
		   "version": "0.7.1"
		  }
		 },
		 "nbformat": 4,
		 "nbformat_minor": 0
}
