{
"cells": [
 {
		   "cell_type": "markdown",
	   "metadata": {},
	   "source": [
       "# Chapter 8: Character Arrays and Strings"
	   ]
	},
{
		   "cell_type": "markdown",
		   "metadata": {},
		   "source": [
			"## Example 1.cs: Case_study_1_Counting_words_in_a_text.sce"
		   ]
		  },
  {
"cell_type": "code",
	   "execution_count": null,
	   "metadata": {
	    "collapsed": true
	   },
	   "outputs": [],
"source": [
"//                 Csae study: Chapter-8, Page No:253\n",
"//                     1.Counting words in a text\n",
"\n",
"characters=0;words=0;lines1=0;\n",
"printf('     KEY IN THE TEXT.\n');\n",
"printf('GIVE ONE SPACE AFTER EACH WORD.\n');\n",
"printf('WHEN COMPLETED,ENTER end\n');\n",
"\n",
"l=' ';\n",
"while(l~='end')\n",
"     l=read(%io(1),1,1,'(a)'); //Reading a line of text\n",
"     if(l=='end') then\n",
"         break;\n",
"     end\n",
"     line=[ascii(l)];         //Array of ascii values of line l\n",
"     len=length(line);        //compute length of line\n",
"     for i=1:len\n",
"        //ascii value of ' '(i.e.space) is 32\n",
"        if(line(i)==32) then\n",
"            words=words+1;      //Count the number of words\n",
"        end\n",
"     end\n",
"     lines1=lines1+1;           //Count the number of lines \n",
"     characters=characters+len; //Count the number of characters\n",
"end\n",
"//Printing results\n",
"printf('Number of lines = %d\n',lines1);\n",
"//Number of lines are added to words because last word of each line remains-\n",
"//uncounted as words are incremented at the occurence of space.\n",
"printf('Number of words = %d\n',words+lines1);\n",
"printf('Number of characters = %d\n',characters);"
   ]
   }
,
{
		   "cell_type": "markdown",
		   "metadata": {},
		   "source": [
			"## Example 2.cs: Case_study_2_Processing_of_a_customer_list.sce"
		   ]
		  },
  {
"cell_type": "code",
	   "execution_count": null,
	   "metadata": {
	    "collapsed": true
	   },
	   "outputs": [],
"source": [
"//                 Csae study: Chapter-8, Page No:253\n",
"//                  2.Processing of a customer list\n",
"\n",
"\n",
"CUSTOMERS=10;\n",
"printf('    Input names and telephone numbers\n');\n",
"printf(' [Names must have First,Second and Last_name]\n');\n",
"for i=1:CUSTOMERS\n",
"    //Read data\n",
"    [first_name(i),second_name(i),surname(i),telephone(i)]=scanf('%s %s %s %s');\n",
"    //Converting full name to surname with initials\n",
"    l1=length(surname(i));           //Compute length of surname at i\n",
"    name(i)=strncpy(surname(i),l1) ;\n",
"    name(i)=strcat([name(i),',']);\n",
"    dummy(1)=part(first_name(i,1),1);\n",
"    name(i)=strcat([name(i),dummy]);\n",
"    name(i)=strcat([name(i),'.']);\n",
"    dummy(1)=part(second_name(i,1),1);\n",
"    name(i)=strcat([name(i),dummy]);\n",
"end\n",
"//Alphabetical odering of surnames\n",
"for i=1:CUSTOMERS                 //Outer loop begins\n",
"    for j=2:CUSTOMERS-i+1         //Inner loop begins\n",
"        k=strcmp(name(j-1),name(j));\n",
"        if(k>0) then \n",
"            \n",
"            //Swaping names\n",
"            l1=length(name(j-1));\n",
"            l2=length(name(j));\n",
"            dummy=strncpy(name(j-1),l1);\n",
"            name(j-1)=strncpy(name(j),l2);\n",
"            l3=length(dummy);\n",
"            name(j)=strncpy(dummy,l3);\n",
"            \n",
"            //Swapping telephone numbers\n",
"            l3=length(telephone(j-1));\n",
"            l4=length(telephone(j));\n",
"            dummy=strncpy(telephone(j-1),l3);\n",
"            telephone(j-1)=strncpy(telephone(j),l4);\n",
"            telephone(j)=strncpy(dummy,l3);\n",
"        end\n",
"    end  //Inner loop ends\n",
"end  //Outer loop ends\n",
"//Printing alphabetical list\n",
"disp('CUSTOMER LIST IN ALPHABETICAL ORDER');\n",
"for i=1:CUSTOMERS\n",
"    printf('%-20s\t %-10s\n',name(i),telephone(i));\n",
"end"
   ]
   }
,
{
		   "cell_type": "markdown",
		   "metadata": {},
		   "source": [
			"## Example 8.1: Read_a_series_of_words.sce"
		   ]
		  },
  {
"cell_type": "code",
	   "execution_count": null,
	   "metadata": {
	    "collapsed": true
	   },
	   "outputs": [],
"source": [
"//                  Exampple 8.1\n",
"//Write a program to read a series of words from terminal using scanf function.\n",
"\n",
"//Read data using scanf function\n",
"disp('Enter text:')\n",
"[word1,word2,word3,word4]=scanf('%s %s %s %s');\n",
"//Printing the results\n",
"printf('word1 = %s\nword2 = %s\n',word1,word2);\n",
"printf('word3 = %s\nword4 = %s\n',word3,word4);"
   ]
   }
,
{
		   "cell_type": "markdown",
		   "metadata": {},
		   "source": [
			"## Example 8.2: Read_a_line_of_text.sce"
		   ]
		  },
  {
"cell_type": "code",
	   "execution_count": null,
	   "metadata": {
	    "collapsed": true
	   },
	   "outputs": [],
"source": [
"//                  Example 8.2\n",
"//Write a program to read a line of text containing a series of-\n",
"//words from the terminal.\n",
"\n",
"disp('Enter text. Press <Return> at end');\n",
"line=read(%io(1),1,1,'(a)');     //Read a line\n",
"disp(line);                      //Display line"
   ]
   }
,
{
		   "cell_type": "markdown",
		   "metadata": {},
		   "source": [
			"## Example 8.3: Copy_one_string_into_another.sce"
		   ]
		  },
  {
"cell_type": "code",
	   "execution_count": null,
	   "metadata": {
	    "collapsed": true
	   },
	   "outputs": [],
"source": [
"//                  Example 8.3\n",
"//Write a program to copy one string into another and count the number\n",
"//of characters copied.\n",
"\n",
"//Read data using scanf function\n",
"disp('Enter a string:')\n",
"[string2]=scanf('%s');     //Read string\n",
"l=length(string2);         //Compute the length\n",
"string1=' ';               //string1 is empty\n",
"for i=1:l\n",
"    string1=string1+ part(string2,i);\n",
"end\n",
"//Printing the results\n",
"printf(' %s\n',string1);\n",
"printf(' Number of characters = %d\n',l);\n",
""
   ]
   }
,
{
		   "cell_type": "markdown",
		   "metadata": {},
		   "source": [
			"## Example 8.4: Display_the_string_under_various_format_specifications.sce"
		   ]
		  },
  {
"cell_type": "code",
	   "execution_count": null,
	   "metadata": {
	    "collapsed": true
	   },
	   "outputs": [],
"source": [
"//                  Exampple 8.4\n",
"//Write a program to store the string 'United Kingdom' in the array country-\n",
"//and display the string under various format specifications.\n",
"\n",
"\n",
"country='United Kingdom';\n",
"printf('\n');\n",
"printf('*123456789012345*\n');\n",
"printf('--------\n');\n",
"printf('%15s\n',country);\n",
"printf('%5s\n',country);\n",
"printf('%15.6s\n',country);\n",
"printf('%-15.6s\n',country);\n",
"printf('%15.0s\n',country);\n",
"printf('%.3s\n',country);\n",
"printf('%s\n',country);\n",
"printf('--------\n');"
   ]
   }
,
{
		   "cell_type": "markdown",
		   "metadata": {},
		   "source": [
			"## Example 8.5: Program_using_for_loop.sce"
		   ]
		  },
  {
"cell_type": "code",
	   "execution_count": null,
	   "metadata": {
	    "collapsed": true
	   },
	   "outputs": [],
"source": [
"//                    Example 8.5\n",
"//Write a program using for loop to print the following output:\n",
"//   C\n",
"//   CP\n",
"//   ....\n",
"//   ....\n",
"//   CProgrammimg\n",
"//   CProgrammimg\n",
"//   ....\n",
"//   ....\n",
"//   CPr\n",
"//   CP\n",
"//   C\n",
"string1='CProgramming';\n",
"printf(' -------------\n');\n",
"f=' ';\n",
"for i=1:12\n",
"    f=f+part(string1,i);\n",
"    \n",
"    printf('|%-13s|\n',f);\n",
"end\n",
"printf('|-------------|\n');\n",
"for j=0:11\n",
"    s=' ';\n",
"    for i=1:12-j\n",
"        s=s+part(string1,i);\n",
"     end\n",
"     printf('|%-13s|\n',s);\n",
"end\n",
"printf(' -------------');\n",
"//for c=0:11\n",
"//    d=c+1;\n",
"//    mprintf('|%-12.*s|\n',d,string1);\n",
"//end\n",
"//disp('---------------------');\n",
"//for c=11:c-1:0\n",
"//    d=c+1;\n",
"//    printf('|%-12.*s|\n',d,string1);\n",
"//end\n",
"//disp('----------------------');"
   ]
   }
,
{
		   "cell_type": "markdown",
		   "metadata": {},
		   "source": [
			"## Example 8.6: Print_the_alphabet_set_a_to_z_and_A_to_Z.sce"
		   ]
		  },
  {
"cell_type": "code",
	   "execution_count": null,
	   "metadata": {
	    "collapsed": true
	   },
	   "outputs": [],
"source": [
"//                  Example 8.6\n",
"//Write a program which would print the alphabet set a to z A to Z in decimal-\n",
"//character form.\n",
"\n",
"for c=65:122\n",
"    if(c>90&c<97) then\n",
"        continue;           //Terminate current iteration\n",
"    end\n",
"    c1=ascii(c);            //Convert ascii value to character\n",
"    printf('|%4d  -  %c\',c,c1); \n",
"end\n",
"printf('|\n')"
   ]
   }
,
{
		   "cell_type": "markdown",
		   "metadata": {},
		   "source": [
			"## Example 8.7: Concatinate_the_three_parts_into_one_string.sce"
		   ]
		  },
  {
"cell_type": "code",
	   "execution_count": null,
	   "metadata": {
	    "collapsed": true
	   },
	   "outputs": [],
"source": [
"//                    Example 8.7\n",
"//The name of employees of an organization are stored in three arrays namely-\n",
"//first_name,second_name and last_name.\n",
"//Write a program to concatinate the three parts into one string called name.\n",
"\n",
"\n",
"//Store the name in the three arrays\n",
"first_name=['VISWANATH'];\n",
"second_name=['PRATAP'];\n",
"last_name=['SINGH'];\n",
"\n",
"//Concatinate three parts into one\n",
"name=[first_name second_name last_name];\n",
"// Print the result\n",
"for i=1:3\n",
"    printf('%s ',name(i));\n",
"end\n",
"//Statement below can also be used to print the result\n",
"//disp(name);"
   ]
   }
,
{
		   "cell_type": "markdown",
		   "metadata": {},
		   "source": [
			"## Example 8.8: Compare_whether_strings_are_equal.sce"
		   ]
		  },
  {
"cell_type": "code",
	   "execution_count": null,
	   "metadata": {
	    "collapsed": true
	   },
	   "outputs": [],
"source": [
"//                           Example 8.8\n",
"//s1,s2 and s3 are three string variables. Write a program to read two string-\n",
"//constants in to s1 and s2 and compare whether they are equal or not,join-\n",
"//them together. Then copy contents of s1 to variable s3. At the end program-\n",
"// should print all three variables and their lengths \n",
"\n",
"\n",
"//Read data\n",
"printf('Enter two string constants\n');\n",
"[s1 s2]=scanf('%s %s');\n",
"\n",
"//Comparing two strings\n",
"x=strcmp(s1,s2);\n",
"if x~=0 then\n",
"    printf('String are not equal\n');\n",
"    //Concatinate two strings s1 and s2\n",
"    s1=strcat([s1,s2]);\n",
"else\n",
"     printf('String are equal\n');\n",
"end\n",
"\n",
"l1=length(s1);\n",
"//Coping s1 to s3\n",
"s3=strncpy(s1,l1);\n",
"//finding length of strings\n",
"l2=length(s2);\n",
"l3=length(s3);\n",
"//Output\n",
"printf('s1 =  %s\t length = %d characters\n',s1,l1);\n",
"printf('s2=  %s\t length = %d characters\n',s2,l2);\n",
"printf('s3=  %s\t length = %d characters\n',s3,l3);\n",
""
   ]
   }
,
{
		   "cell_type": "markdown",
		   "metadata": {},
		   "source": [
			"## Example 8.9: Sort_a_list_of_names_in_alphabetical_order.sce"
		   ]
		  },
  {
"cell_type": "code",
	   "execution_count": null,
	   "metadata": {
	    "collapsed": true
	   },
	   "outputs": [],
"source": [
"//                           Example 8.9\n",
"//Write a program that would sort a list of names in alphabetical order.\n",
"\n",
"ITEMS=5;\n",
"//Reading the list\n",
"printf('Enter names of %d items\n',ITEMS);\n",
"i=1;\n",
"while(i<=ITEMS)\n",
"    string1(i)=scanf('%s');\n",
"    i=i+1;\n",
"end\n",
"//Sorting begins\n",
"for i=1:ITEMS                 //Outer loop begins\n",
"    for j=2:ITEMS-i+1         //Inner loop begins\n",
"        k=strcmp(string1(j-1),string1(j))\n",
"        if(k>0) then \n",
"            //Compute length and Exchange of contents\n",
"            l1=length(string1(j-1));\n",
"            l2=length(string1(j));\n",
"            dummy=strncpy(string1(j-1),l1);\n",
"            string1(j-1)=strncpy(string1(j),l2);\n",
"            l3=length(dummy);\n",
"            string1(j)=strncpy(dummy,l3);\n",
"        end\n",
"    end  //Inner loop ends\n",
"end  //Outer loop ends\n",
"//Sorting completed\n",
"disp('Alphabetical list');\n",
"for i=1:ITEMS\n",
"    printf('%s\n',string1(i));\n",
"end"
   ]
   }
],
"metadata": {
		  "kernelspec": {
		   "display_name": "Scilab",
		   "language": "scilab",
		   "name": "scilab"
		  },
		  "language_info": {
		   "file_extension": ".sce",
		   "help_links": [
			{
			 "text": "MetaKernel Magics",
			 "url": "https://github.com/calysto/metakernel/blob/master/metakernel/magics/README.md"
			}
		   ],
		   "mimetype": "text/x-octave",
		   "name": "scilab",
		   "version": "0.7.1"
		  }
		 },
		 "nbformat": 4,
		 "nbformat_minor": 0
}
