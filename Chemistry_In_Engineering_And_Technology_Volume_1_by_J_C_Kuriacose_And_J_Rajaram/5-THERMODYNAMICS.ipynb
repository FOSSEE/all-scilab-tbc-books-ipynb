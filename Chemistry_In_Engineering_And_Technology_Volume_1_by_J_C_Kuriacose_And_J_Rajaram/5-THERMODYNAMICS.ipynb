{
"cells": [
 {
		   "cell_type": "markdown",
	   "metadata": {},
	   "source": [
       "# Chapter 5: THERMODYNAMICS"
	   ]
	},
{
		   "cell_type": "markdown",
		   "metadata": {},
		   "source": [
			"## Example 5.10: Standard_Enthalpy_of_formation.sce"
		   ]
		  },
  {
"cell_type": "code",
	   "execution_count": null,
	   "metadata": {
	    "collapsed": true
	   },
	   "outputs": [],
"source": [
"dHfH2O=-68.32;//dHf value of H2O in kcal per mol//\n",
"dHfCO2=-94.05;//dHf value of CO2 in kcal per mol//\n",
"dH298=-208.34;//enthalphy change at 298K in Kcal//\n",
"dHfCH3COOH=(2*dHfH2O+2*dHfCO2-dH298);//dHf value of CH3COOH in Kcal per mol//\n",
"printf('Standard enthalpy of formation of CH3COOH=%fKcal per mol',dHfCH3COOH);"
   ]
   }
,
{
		   "cell_type": "markdown",
		   "metadata": {},
		   "source": [
			"## Example 5.11: Standard_Enthalpy_of_formation.sce"
		   ]
		  },
  {
"cell_type": "code",
	   "execution_count": null,
	   "metadata": {
	    "collapsed": true
	   },
	   "outputs": [],
"source": [
"dHfZnSO4l=-36.43;//Standard heat of formation of ZnSO4 in kcal//\n",
"dHfH2SO4l=-193.91;//Standard heat of formation of H2SO4 in kcal//\n",
"dHfZnSO4aq=-19.45;//Heats of Dilution of ZnSO4 in kcal//\n",
"dHfH2SO4aq=-22.99;//Heats of Dilution of H2SO4 in kcal//\n",
"dH=dHfZnSO4l+dHfH2SO4l+dHfH2SO4aq;\n",
"dHf298=dH-dHfZnSO4aq;//Standarad enthalphy of formation of ZnSO4 at 298K in Kcal//\n",
"printf('Standard enthalpy of formation of ZnSO4 at 298K=%fKcal',dHf298);"
   ]
   }
,
{
		   "cell_type": "markdown",
		   "metadata": {},
		   "source": [
			"## Example 5.12: Heat_of_formation_of_water_vapour.sce"
		   ]
		  },
  {
"cell_type": "code",
	   "execution_count": null,
	   "metadata": {
	    "collapsed": true
	   },
	   "outputs": [],
"source": [
"CvH2=6.95*10^-3;//Mean molar capacity of H2 in Kcal per deg//\n",
"CvO2=6.97*10^-3;//Mean molar capacity of O2 in Kcal per deg//\n",
"CvH2O=8.7*10^-3;//Mean molar capacity of H2O in Kcal per deg//\n",
"dCv=CvH2O-CvH2-0.5*CvO2;//Net mean molar capapcity in Kcal per deg//\n",
"printf('Net mean molar capacity=dCv=%fKcal per deg',dCv);\n",
"dHf=-57.8;//Standard heat of formation of water vapour in Kcal//\n",
"dHf373=dHf+(dCv*(373-298));//Heat of formation of water vapour at 373K in Kcal//\n",
"printf('\nHeat of formation of water vapour at 373K=%fKcal',dHf373);//here the answer is written wrong in textbook the correct answer is given here//"
   ]
   }
,
{
		   "cell_type": "markdown",
		   "metadata": {},
		   "source": [
			"## Example 5.13: Enthalpy_formation_of_CO2.sce"
		   ]
		  },
  {
"cell_type": "code",
	   "execution_count": null,
	   "metadata": {
	    "collapsed": true
	   },
	   "outputs": [],
"source": [
"CvCO2=1.331;//Mean molar capacity of CO2 in Kcal per deg//\n",
"CvC=6.714*10^-3;//Mean molar capacity of C in Kcal per deg//\n",
"CvO2=-77.09*10^-7;//Mean molar capacity of O2 in Kcal per deg//\n",
"T1=300;//Initial Temperature in kelvin//\n",
"T2=400;//final temperature in Kelvin//\n",
"dHf400=-94.06;//Enthalpy change in the formation of CO2 at 400k in Kcal//\n",
"dHf300=dHf400-((CvCO2*(T2-T1))-(0.5*CvC*(T2^2-T1^2))-(0.33*CvO2*(37*10^6)))*10^-3;//Enthropy of formation of CO2 at 300K in Kcal//\n",
"printf('\nEnthropy of formation of CO2 at 300K=%fKcal',dHf300);//in textbook the answer is not having negative answer//"
   ]
   }
,
{
		   "cell_type": "markdown",
		   "metadata": {},
		   "source": [
			"## Example 5.14: Enthalpy_change.sce"
		   ]
		  },
  {
"cell_type": "code",
	   "execution_count": null,
	   "metadata": {
	    "collapsed": true
	   },
	   "outputs": [],
"source": [
"dHfNH3=-11.04;//Standard heat of formation of NH3 in kcal//\n",
"dHfH2O=-57.80;//Standard heat of formation of H2O in kcal//\n",
"dHfNO=21.60;//Standard heat of formation of NO in kcal//\n",
"dHfO2=0;//Standard heat of formation of O2 in Kcal//\n",
"dH=4*dHfNO+6*dHfH2O-4*dHfNH3-5*dHfO2;//Enthalpy change for the oxidation of NH3//\n",
"printf('Enthalpy change for the oxidation of NH3 at 298K=%fKcal',dH);"
   ]
   }
,
{
		   "cell_type": "markdown",
		   "metadata": {},
		   "source": [
			"## Example 5.15: Enthalpy_change.sce"
		   ]
		  },
  {
"cell_type": "code",
	   "execution_count": null,
	   "metadata": {
	    "collapsed": true
	   },
	   "outputs": [],
"source": [
"T=773;//temperature in kelvin//\n",
"dH298=-216240;//Enthalpy change for the oxidation of NH3 in cal//\n",
"CvO2=6.148+T*3.102*10^-3-(T^2)*9.23*10^-7;//heat capacity of O2 in cal deg^-1 mol^-1//\n",
"CvH2O=7.219+T*2.374*10^-3+(T^2)*2.67*10^-7;//Heat capacity of H2O in cal deg^-1 mol^-1//\n",
"CvNO=6.50+T*1*10^-3;//Heat capacity of NO in cal per deg per mol//\n",
"CvNH3=6.189+T*7.887*10^-3-(T^2)*7.28*10^-7;//Heat capacity of H2O in cal deg^-1 mol^-1//\n",
"dCv=4*CvNO+6*CvH2O-4*CvNH3-5*CvO2;//Heat capacity change for oxidation//\n",
"da=13.818;\n",
"db=-28.814*10^-3;\n",
"dc=91.29*10^-7;\n",
"T1=298;//temperature in kelvin//\n",
"dH773=dH298+(T-T1)*da+(T^2-T1^2)*0.5*db+(T^3-T1^3)*0.33*dc;//Enthalpy change for the oxidation of NH3 at 773k in cal//\n",
"printf('\nEnthalpy change for the oxidation of NH3 at 773K=%fcal=-215.69Kcal',dH773);//here the answer is slightly different//"
   ]
   }
,
{
		   "cell_type": "markdown",
		   "metadata": {},
		   "source": [
			"## Example 5.16: Enthalpy_change.sce"
		   ]
		  },
  {
"cell_type": "code",
	   "execution_count": null,
	   "metadata": {
	    "collapsed": true
	   },
	   "outputs": [],
"source": [
"ECH=99;//bond energy of CH bond in Kcal//\n",
"EClCl=58;//bond energy of ClCl bond in Kcal//\n",
"ECCl=78;//bond energy of CCl bond in Kcal//\n",
"EHCl=103;//bond energy of HCl bond in Kcal//\n",
"dE=4*ECH+4*EClCl-4*ECCl-4*EHCl;//Net change in bond energy in kcal//\n",
"printf('Enthalpy change of the reaction=dE=%fKcal',dE);"
   ]
   }
,
{
		   "cell_type": "markdown",
		   "metadata": {},
		   "source": [
			"## Example 5.17: Maximum_temperature.sce"
		   ]
		  },
  {
"cell_type": "code",
	   "execution_count": null,
	   "metadata": {
	    "collapsed": true
	   },
	   "outputs": [],
"source": [
"T1=298;//initial temperature in kelvin//\n",
"pO2=0.2;//percentage of oxygen in air//\n",
"pN2=0.8;//percentage of nitrogen in air//\n",
"dH298=-310;//Heat of combustion of acetylene in Kcal//\n",
"printf('The combustion of acetelyne proceeds according to the equation C2H2+2.5 O2 = 2CO2+H2O,\nHeat of combustion of acetylene=dH298=-310KCal.');\n",
"printf('\nThe scheme of calculation can be represented as Reactants at 298 = Products at T2K.\nThe gases present in the flame zone after combustion are CO2,H2O and unreacted N2 of the air.');\n",
"printf('\nSince 2.5mol of O2 have been utilized for combustion,4*2.5mol i.e 10mol of N2 are present in the flame zone.\nThe heat generated at 298K,dH298 is utilized in raising the products at 298K to a temeprature of T2K.');\n",
"printf('\nThe Heat capacity equations given in the question can be solved and after solving we will get a quadratic equation that is T2^2+4511*T2-2.273*10^7=0 \nMaximum temperature reached by an oxy-acetylene flame at constant pressure=T2=3015.0000K.');"
   ]
   }
,
{
		   "cell_type": "markdown",
		   "metadata": {},
		   "source": [
			"## Example 5.18: Maximum_temperature_and_pressure.sce"
		   ]
		  },
  {
"cell_type": "code",
	   "execution_count": null,
	   "metadata": {
	    "collapsed": true
	   },
	   "outputs": [],
"source": [
"dH=-57800;//Enthalpy change in cal//\n",
"R=1.99;//universal gas constant//\n",
"T=298;//temperture in kelvin//\n",
"dn=-0.5;//change in no. of moles//\n",
"dU=dH-(R*T*dn);//heat of combustion in cal//\n",
"printf('The air used contains 2 mol of N2.\ndU=-57500cal.');\n",
"CpN2=8.3;//Cp value of N2//\n",
"CpH2O=11.3;//Cp value of H2O//\n",
"CvN2=CpN2-R;//Cv value of N2//\n",
"CvH2O=CpH2O-R;//Cv value of H2O//\n",
"printf('\nCv value of N2=CvN2=%fKcal deg^-1 mol^-1',CvN2);\n",
"printf('\nCv value of H2O=CvH2O=%fKcal deg^-1 mol^-1',CvH2O);\n",
"printf('\nSolving integration we get T2=2940K.The maximum pressure can be calculated from PV=nRT equation.');\n",
"P1=1;//initial pressure in atm//\n",
"n1=3.5;\n",
"n2=3;\n",
"T2=2940;//final temperature in Kelvin//\n",
"P2=(P1*n2*T2)/(n1*T);//maximum pressure in atm//\n",
"printf('\nMaximum pressure of the reaction=P2=%fatm',P2);"
   ]
   }
,
{
		   "cell_type": "markdown",
		   "metadata": {},
		   "source": [
			"## Example 5.1: Maximum_work.sce"
		   ]
		  },
  {
"cell_type": "code",
	   "execution_count": null,
	   "metadata": {
	    "collapsed": true
	   },
	   "outputs": [],
"source": [
"P1=10;//initial pressure in atm//\n",
"P2=1;//final pressure in atm//\n",
"Wrev=0.0821*273*log(P1/P2);//maximum work required for the expansion of gas in litre-atm//\n",
"printf('Maximum work required for the expansion of 1mol of ideal gas from 10atm to 1atm=Wrev=%flitre atm',Wrev);\n",
"printf('\nIf the gas is now compressed back from 1atm to 10atm under isothermal conditions,Wrev=-51.608530litre atm');"
   ]
   }
,
{
		   "cell_type": "markdown",
		   "metadata": {},
		   "source": [
			"## Example 5.20: Maximum_possible_efficiency.sce"
		   ]
		  },
  {
"cell_type": "code",
	   "execution_count": null,
	   "metadata": {
	    "collapsed": true
	   },
	   "outputs": [],
"source": [
"printf('The maximum possible efficiency is obtained only in a reversible carnots cycle according to which ME=dT/T.');\n",
"T=300;//initial temperature of steam engine in kelvin//\n",
"T1=373;//operating temperature in kelvin//\n",
"ME1=(T1-T)/T1;//maximum possible efficiency for temperature range of 300k to 373k//\n",
"printf('\nMaximum possible efficiency for operating temperature between 300K and 373K=ME1=%f',ME1);\n",
"T2=630;//operating temperature in kelvin//\n",
"ME2=(T2-T)/T2;//maximum possible efficiency for temperature range of 300k to 630k//\n",
"printf('\nMaximum possible efficiency for operating temperature between 300K and 630K=ME1=%f',ME2);\n",
"T3=510;//operating temperature in kelvin//\n",
"ME3=(T3-T)/T3;//maximum possible efficiency for temperature range of 300k to 510k//\n",
"printf('\nMaximum possible efficiency for operating temperature between 300K and 510K=ME3=%f',ME3);"
   ]
   }
,
{
		   "cell_type": "markdown",
		   "metadata": {},
		   "source": [
			"## Example 5.22: entropy_change.sce"
		   ]
		  },
  {
"cell_type": "code",
	   "execution_count": null,
	   "metadata": {
	    "collapsed": true
	   },
	   "outputs": [],
"source": [
"T1=300;//initial temperature in kelvin//\n",
"T2=400;//final temperature in kelvin//\n",
"P1=2;//initial pressure in atm//\n",
"P2=10;//final pressure in atm//\n",
"R=1.99;\n",
"n=5;//no.of moles//\n",
"Cv=6.95;\n",
"dS=n*Cv*2.303*log10(T2/T1)-n*2.303*R*log10(P2/P1);\n",
"printf('Change in entropy=dS=%feu',dS);"
   ]
   }
,
{
		   "cell_type": "markdown",
		   "metadata": {},
		   "source": [
			"## Example 5.23: Entropy_change.sce"
		   ]
		  },
  {
"cell_type": "code",
	   "execution_count": null,
	   "metadata": {
	    "collapsed": true
	   },
	   "outputs": [],
"source": [
"Lv=6896;//Latent heat of vapourization in cal per mol//\n",
"Tb=341.7;//Boiling temperature in kelvin//\n",
"dS=Lv/Tb;//entropy change accompanying the vapourization in eu//\n",
"printf('Entropy change accompanying the vapourization=dS=%feu or cal per deg',dS);"
   ]
   }
,
{
		   "cell_type": "markdown",
		   "metadata": {},
		   "source": [
			"## Example 5.24: Entropy_change.sce"
		   ]
		  },
  {
"cell_type": "code",
	   "execution_count": null,
	   "metadata": {
	    "collapsed": true
	   },
	   "outputs": [],
"source": [
"T1=300;//initial temperature in kelvin//\n",
"T2=600;//final temperature in kelvin//\n",
"T3=373;//initial temperature in kelvin//\n",
"T4=746;//final temperature in kelvin//\n",
"Cv=6.09;//molar heat capacity in cal per deg//\n",
"dS2=Cv*2.303*log10(T2/T1);//change in entropy for temperature change between 300k to 600k//\n",
"printf('Change in entropy for temperature change between 300k to 600k=dS2=%fcal per deg',dS2);\n",
"dS4=Cv*2.303*log10(T4/T3);//change in entropy for temperature change between 373k to 746k//\n",
"printf('\nChange in entropy for temperature change between 373k to 746k=dS4=%fcal per deg',dS4);"
   ]
   }
,
{
		   "cell_type": "markdown",
		   "metadata": {},
		   "source": [
			"## Example 5.25: Total_Entropy_change.sce"
		   ]
		  },
  {
"cell_type": "code",
	   "execution_count": null,
	   "metadata": {
	    "collapsed": true
	   },
	   "outputs": [],
"source": [
"T=300;//initial temperature in kelvin//\n",
"T1=692;//temperature in kelvin//\n",
"T2=1180;//temperature in kelvin//\n",
"T3=1500;//final temperature in kelvin//\n",
"Lf=1800;//Latent heat of fusion in cal per mol//\n",
"Tf=692;//temperature of fusion in kelvin//\n",
"Lv=27700;//Latent heat of vapourization in cal per mol//\n",
"Tv=1180;//temperature of vapourization in kelvin//\n",
"SH=0.092;//specific heat of Zn in cal per deg per gram//\n",
"w=65.38;//atomic weight of Zn//\n",
"Cv=w*SH;//molar heat capacity in cal per deg//\n",
"dS1=Cv*2.303*log10(T1/T);//change in entropy for temperature change between 300k to 692k//\n",
"printf('Change in entropy for temperature change between 300k to 692k=dS1=%feu',dS1);\n",
"dS2=Lf/Tf;//change in entropy in the process of fusion in eu//\n",
"printf('\nChange in entropy in the process of fusion=dS2=%feu',dS2);\n",
"dS3=Cv*2.303*log10(T2/T1);//change in entropy for temperature change between 692k to 1180k//\n",
"printf('\nChange in entropy for temperature change between 692k to 1180k=dS3=%feu',dS3);\n",
"dS4=Lv/Tv;//change in entropy in the process of vapourization in eu//\n",
"printf('\nChange in entropy in the process of vapourization=dS4=%feu',dS4);\n",
"dS5=Cv*2.303*log10(T3/T2);//change in entropy for temperature change between 1180k to 1500k//\n",
"printf('\nChange in entropy for temperature change between 1180k to 1500k=dS5=%feu',dS5);\n",
"dStotal=dS1+dS2+dS3+dS4+dS5;//total entropy change accompanying the process in eu//\n",
"printf('\nTotal entropy change accompanying the process=dStotal=%feu',dStotal);"
   ]
   }
,
{
		   "cell_type": "markdown",
		   "metadata": {},
		   "source": [
			"## Example 5.26: Entropy_change.sce"
		   ]
		  },
  {
"cell_type": "code",
	   "execution_count": null,
	   "metadata": {
	    "collapsed": true
	   },
	   "outputs": [],
"source": [
"printf('This is a spontaneous process.Since dS is independent of the manner in which the processes are conducted,\nthe above irreversible process can be considered to take place reversibly.')\n",
"T1=300;//initial temperature in kelvin//\n",
"T2=370;//final temperature in kelvin//\n",
"Cv=18;//molar heat capacity in cal per deg//\n",
"dSH2O=-Cv*2.303*log10(T2/T1);//change in entropy of H2O for temperature change between 300k to 370k//\n",
"printf('\nChange in entropy of H2O for temperature change between 300k to 370k=dSH2O=%feu',dSH2O);\n",
"dT=T2-T1;//change in temperature in kelvin//\n",
"dSthermostat=Cv*dT/T1;//change in entropy of thermostat in eu//\n",
"printf('\nChange in entropy of thermostat=dSthermostat=%feu',dSthermostat);\n",
"dS=dSH2O+dSthermostat;//net entropy chane in eu//\n",
"printf('\nNet entropy change=dS=%feu',dS);"
   ]
   }
,
{
		   "cell_type": "markdown",
		   "metadata": {},
		   "source": [
			"## Example 5.27: Standard_free_energy_change.sce"
		   ]
		  },
  {
"cell_type": "code",
	   "execution_count": null,
	   "metadata": {
	    "collapsed": true
	   },
	   "outputs": [],
"source": [
"dGC2H6O=-41.77;//Standard free energy change of C2H6O in Kcal per mol//\n",
"dGCO2=-94.26;//Standard free energy change of CO2 in Kcal per mol//\n",
"dGH2O=-56.69;//Standard free energy change of C2H6O in Kcal per mol//\n",
"dGO2=0;//Standard free energy change of O2 in Kcal per mol//\n",
"dG=2*dGCO2+3*dGH2O-dGC2H6O-3*dGO2;//Standard free energy change in Kcal//\n",
"printf('Standard free energy change accompanying the combustion of ethanol at 298K=%fKcal',dG);"
   ]
   }
,
{
		   "cell_type": "markdown",
		   "metadata": {},
		   "source": [
			"## Example 5.28: Standard_free_energy_change.sce"
		   ]
		  },
  {
"cell_type": "code",
	   "execution_count": null,
	   "metadata": {
	    "collapsed": true
	   },
	   "outputs": [],
"source": [
"dGCH3COOH=-93.8;//Standard free energy change of CH3COOH in Kcal per mol//\n",
"dGCH3CH2OH=-41.77;//Standard free energy change of CH3CH2OH in Kcal per mol//\n",
"dGH2O=-56.69;//Standard free energy change of C2H6O in Kcal per mol//\n",
"dGO2=0;//Standard free energy change of O2 in Kcal per mol//\n",
"dG=dGCH3COOH+dGH2O-dGCH3CH2OH-dGO2;//Standard free energy change in Kcal//\n",
"printf('Standard free energy change accompanying the Oxidation of ethanol to acetic acid=%fKcal',dG);\n",
"printf('\nSince dG is negative the reaction is feasible under these conditions.');"
   ]
   }
,
{
		   "cell_type": "markdown",
		   "metadata": {},
		   "source": [
			"## Example 5.29: Standard_free_energy_change.sce"
		   ]
		  },
  {
"cell_type": "code",
	   "execution_count": null,
	   "metadata": {
	    "collapsed": true
	   },
	   "outputs": [],
"source": [
"dGAgCl=-26.22;//Standard free energy change of AgCl in Kcal per mol//\n",
"dGAgI=-15.85;//Standard free energy change of AgI in Kcal per mol//\n",
"dGKCl=-97.59;//Standard free energy change of KCl in Kcal per mol//\n",
"dGKI=-77.03;//Standard free energy change of KI in Kcal per mol//\n",
"dG=dGAgCl+dGKI-dGAgI-dGKCl;//Standard free energy change in Kcal//\n",
"printf('Standard free energy change accompanying the given reaction=%fKcal',dG);\n",
"printf('\nSince dG is positive the reaction is not feasible under these conditions but the reverse reation is possible.');"
   ]
   }
,
{
		   "cell_type": "markdown",
		   "metadata": {},
		   "source": [
			"## Example 5.2: Maximum_work.sce"
		   ]
		  },
  {
"cell_type": "code",
	   "execution_count": null,
	   "metadata": {
	    "collapsed": true
	   },
	   "outputs": [],
"source": [
"n=5;//no. of moles of Benzene//\n",
"R=8.314*10^7;//Universal gas constant//\n",
"K=80;//Evaporated temperature of benzene in centigrades//\n",
"T=270+K;//evaporated temperature of benzene in kelvins//\n",
"Wrev=n*R*T;//Maximum work done in ergs//\n",
"printf('Maximum work done=Wrev=%fergs=1.454*10^11ergs',Wrev);\n",
""
   ]
   }
,
{
		   "cell_type": "markdown",
		   "metadata": {},
		   "source": [
			"## Example 5.30: Standard_Entropy_change.sce"
		   ]
		  },
  {
"cell_type": "code",
	   "execution_count": null,
	   "metadata": {
	    "collapsed": true
	   },
	   "outputs": [],
"source": [
"SFe2O3=21.5;//Standard Entropy of Fe2O3 in cal per deg per mol//\n",
"SCO=47.3;//Standard Entropy of CO in cal per deg per mol//\n",
"SFe=6.5;//Standard Entropy of Fe in cal per deg per mol//\n",
"SCO2=51.1;//Standard Entropy of CO2 in cal per deg per mol//\n",
"dS=2*SFe+3*SCO2-SFe2O3-3*SCO;//Standard entropy change in cal per deg per mol//\n",
"printf('Standard entropy change accompanying the reduction of Fe2O3 by CO=%fcal per deg per mol',dS);\n",
"printf('\nHere it will be noticed that dS is very small but definitely positive.');\n",
"printf('\nThe small value due to the fact that there is no change in number of moles of gases\nwhich are major contributors to the entropy change.');"
   ]
   }
,
{
		   "cell_type": "markdown",
		   "metadata": {},
		   "source": [
			"## Example 5.31: Standard_Entropy_change.sce"
		   ]
		  },
  {
"cell_type": "code",
	   "execution_count": null,
	   "metadata": {
	    "collapsed": true
	   },
	   "outputs": [],
"source": [
"SCaCO3=22.2;//Standard Entropy of CaCO3 in cal per deg per mol//\n",
"SCaO=9.5;//Standard Entropy of CaO in cal per deg per mol//\n",
"SCO2=51.1;//Standard Entropy of CO2 in cal per deg per mol//\n",
"dS=SCaO+SCO2-SCaCO3;//Standard entropy change in cal per deg per mol//\n",
"printf('Standard entropy change in the given reaction=%fcal per deg per mol',dS);"
   ]
   }
,
{
		   "cell_type": "markdown",
		   "metadata": {},
		   "source": [
			"## Example 5.32: Standard_Entropy_change.sce"
		   ]
		  },
  {
"cell_type": "code",
	   "execution_count": null,
	   "metadata": {
	    "collapsed": true
	   },
	   "outputs": [],
"source": [
"SFe2O3=21.5;//Standard Entropy of Fe2O3 in cal per deg per mol//\n",
"SH2=31.21;//Standard Entropy of H2 in cal per deg per mol//\n",
"SFe=6.5;//Standard Entropy of Fe in cal per deg per mol//\n",
"SH2O=16.75;//Standard Entropy of H2O in cal per deg per mol//\n",
"dS=2*SFe+3*SH2O-SFe2O3-3*SH2;//Standard entropy change in cal per deg per mol//\n",
"printf('Standard entropy change in the given reaction=%fcal per deg per mol',dS);"
   ]
   }
,
{
		   "cell_type": "markdown",
		   "metadata": {},
		   "source": [
			"## Example 5.33: Fugacity.sce"
		   ]
		  },
  {
"cell_type": "code",
	   "execution_count": null,
	   "metadata": {
	    "collapsed": true
	   },
	   "outputs": [],
"source": [
"T=273;//temperature in kelvin//\n",
"P1=1;//pressure in atm//\n",
"M=28;//molecular weight of N2 in grams//\n",
"printf('For an ideal gas density=M*P/R*T.\nWhere M is molecular weight=28.\nTemperature being constant,if p1 and p2 are the densities at 1atm and 50atm respectively');\n",
"P2=1.25;//pressure in atm//\n",
"p1=50;//density at 1atm pressure//\n",
"p2=p1*P2;\n",
"printf('\nIf N2 gas behaved ideally at 273k,the ideal pressure Pideal is given by p2*R*T/M');\n",
"Pideal=p2*0.0821*T/M;\n",
"printf('\nIdeal pressure=Pideal=%fatm',Pideal);\n",
"f=p1^2/Pideal;\n",
"printf('\nFugacity of the N2gas=f=%fatm',f);"
   ]
   }
,
{
		   "cell_type": "markdown",
		   "metadata": {},
		   "source": [
			"## Example 5.34: Standard_Entropy_change.sce"
		   ]
		  },
  {
"cell_type": "code",
	   "execution_count": null,
	   "metadata": {
	    "collapsed": true
	   },
	   "outputs": [],
"source": [
"M=18;//molecular weight of water in grams//\n",
"Dl=0.958;//density of water in liquid form in gram per cm^3//\n",
"Dv=5.98*10^-4;//density of water in vapour form in gram per cm^3//\n",
"MVl=M/Dl;//molar volume of water in liquid form in cm^3//\n",
"MVv=M/Dv;//molar volume of water in vapour form in cm^3//\n",
"L=540;//Latent heat of vapourization in cal per gram//\n",
"T=373;//temperature in kelvin//\n",
"dV=30.11;\n",
"dP=(L*M)/(T*dV);\n",
"printf('dP/dT=0.357atm per deg=28.55mm of Hg per deg');\n",
"dS=dP*dV;//change in entropy in cal per deg per mol//\n",
"printf('\nChange in entropy=dS=%fcal per deg per mol',dS);"
   ]
   }
,
{
		   "cell_type": "markdown",
		   "metadata": {},
		   "source": [
			"## Example 5.35: Vapour_pressure.sce"
		   ]
		  },
  {
"cell_type": "code",
	   "execution_count": null,
	   "metadata": {
	    "collapsed": true
	   },
	   "outputs": [],
"source": [
"dS=21.0;//standard entropy change of benzene in cal per deg per mol//\n",
"Tb=353;//boiling point of benzene in kelvin//\n",
"Lv=dS*Tb;//latent heat of vapourization of benzene in cal per mol//\n",
"printf('Latent heat of vapourization of benzene=Lv=%fcal per mol',Lv);\n",
"T=300;//temperature in kelvin//\n",
"R=1.99;//universal gas constant//\n",
"P=10^(Lv*((1/Tb)-(1/T))/(2.303*R));//vapour pressure of benzene in atm//\n",
"PHg=P*760;//vapour pressure in mm of Hg//\n",
"printf('\nvapour pressure of benzene=P=%fatm',P);\n",
"printf('\nVapour pressure of benzene in mm of Hg=PHg=%fmm of Hg',PHg);"
   ]
   }
,
{
		   "cell_type": "markdown",
		   "metadata": {},
		   "source": [
			"## Example 5.36: Operating_temperature.sce"
		   ]
		  },
  {
"cell_type": "code",
	   "execution_count": null,
	   "metadata": {
	    "collapsed": true
	   },
	   "outputs": [],
"source": [
"T2=373;//final temperature in kelvin//\n",
"Lv=540*18;//latent heat of vapourization of water in cal per mol//\n",
"P1=1/20;//initial pressure in atm//\n",
"P2=1;//final pressure in atm//\n",
"R=1.99;//universal gas constant//\n",
"T1=1/((1/T2)+(2.303*R*log10(P2/P1)/Lv));\n",
"printf('\noperating temperature of the reactor=T1=%fK',T1);\n",
"printf('\nHence the plant can be operated at a temperature of 303.500Kelvin or 30.500degrees \nsince at a temperature higher than this the liquid phase no longer exists.');"
   ]
   }
,
{
		   "cell_type": "markdown",
		   "metadata": {},
		   "source": [
			"## Example 5.37: Vapour_pressure.sce"
		   ]
		  },
  {
"cell_type": "code",
	   "execution_count": null,
	   "metadata": {
	    "collapsed": true
	   },
	   "outputs": [],
"source": [
"T1=373;//initial temperature in kelvin//\n",
"Lv=540*18;//latent heat of vapourization of water in cal per mol//\n",
"T2=423;//final temperature in kelvin//\n",
"R=1.99;//universal gas constant//\n",
"P=10^(-Lv*((1/T2)-(1/T1))/(2.303*R));//vapour pressure of water in atm//\n",
"printf('\npressure of water at which we can produce superheated steam=P=%fatm',P);"
   ]
   }
,
{
		   "cell_type": "markdown",
		   "metadata": {},
		   "source": [
			"## Example 5.38: Standard_free_energy_change.sce"
		   ]
		  },
  {
"cell_type": "code",
	   "execution_count": null,
	   "metadata": {
	    "collapsed": true
	   },
	   "outputs": [],
"source": [
"PPSO3=1;//partial pressure of SO3 in atm//\n",
"PPSO2=0.2;//partial pressure of SO2 in atm//\n",
"PPO2=0.05;//partial pressure of O2 in atm//\n",
"Kp=3.5;\n",
"R=0.0821;//universal gas constant//\n",
"T=1000;//temperture in kelvin//\n",
"n1=3;\n",
"n2=2;\n",
"dn=n2-n1;//change in no. of moles//\n",
"Kc=Kp/((R*T)^dn);\n",
"printf('Kc for the reaction=Kc=%flitre per mol',Kc);\n",
"P=2;//pressure in atm//\n",
"Kinfinite=Kp/(P^dn);\n",
"printf('\nKinfinite of the reaction=Kinfinite=%fper atm',Kinfinite);\n",
"Qp=(PPSO3^2)/(PPSO2^2*PPO2);//reation quotient involving pressures//\n",
"printf('\nReaction quotient invloving pressures=Qp=%f',Qp);\n",
"dGO=-2.303*1.99*10^-3*T*log10(Kp);\n",
"printf('\ndGO=%f',dGO);\n",
"dG=dGO+(2.303*1.99*10^-3*T*log10(Qp));\n",
"printf('\nstandard free energy change in the reaction at 1000k=dG=%fKcal',dG);\n",
"printf('\nIt must be noted that under these conditions dG is positive.\nso it is the dissociation of SO3 that is spontaneous.');//here the answer given in the textbook is wrong the right one is that we got here through execution//"
   ]
   }
,
{
		   "cell_type": "markdown",
		   "metadata": {},
		   "source": [
			"## Example 5.39: Composition_of_water_gas.sce"
		   ]
		  },
  {
"cell_type": "code",
	   "execution_count": null,
	   "metadata": {
	    "collapsed": true
	   },
	   "outputs": [],
"source": [
"Kp=1.60;//Kp for water at equilibrium//\n",
"Kc=1.60;//at equilibrium Kp=Kc//\n",
"x=0.56;\n",
"printf('Kp=Kc=x^2/(1-x)^2=1.60\nUpon solving above equation we get x=0.56\nTotal no. of moles=1-x+1-x+x+x=2\nmole percent of CO=mole percent of H2O=0.56*50=28');\n",
"printf('\nmole percent of CO2=mole percent of H2=0.44*50=22\nSo 100 volumes of the mixture will contain 28volumes of CO,28volumes of H2O\n22volumes of CO2 and 22volumes of H2.');"
   ]
   }
,
{
		   "cell_type": "markdown",
		   "metadata": {},
		   "source": [
			"## Example 5.3: Enthalpy_change.sce"
		   ]
		  },
  {
"cell_type": "code",
	   "execution_count": null,
	   "metadata": {
	    "collapsed": true
	   },
	   "outputs": [],
"source": [
"w=0.454;//weight of TNT in grams//\n",
"T=298;//temperature in kelvin//\n",
"R=2*10^-3;\n",
"dn=5;\n",
"m=w/227;//mol of TNT exploded//\n",
"printf('mol of TNT exploded=%fmol',m);\n",
"H=1.64;//Heat liberated in kcal//\n",
"dU=-H/m;\n",
"printf('\ndU=%fKcal per mol',dU);\n",
"dH=dU+(R*T*dn);\n",
"printf('\ndH=%fKcal per mol',dH);"
   ]
   }
,
{
		   "cell_type": "markdown",
		   "metadata": {},
		   "source": [
			"## Example 5.40: Enthalpy_change.sce"
		   ]
		  },
  {
"cell_type": "code",
	   "execution_count": null,
	   "metadata": {
	    "collapsed": true
	   },
	   "outputs": [],
"source": [
"T1=1000;//initial temperature in kelvin//\n",
"Kp1=0.72;//Kp value at T1 temperature//\n",
"T2=1260;//final temperature in kelvin//\n",
"Kp2=1.60;//Kp value at T2 temperature//\n",
"R=1.99;//universal gas constant//\n",
"printf('Since Kp2>Kp1 one would expect dH to be positive i.e Endothermic reaction.');\n",
"dH=(2.303*R*T1*T2*log10(Kp2/Kp1))/(T2-T1);\n",
"printf('\ndH for the reaction=dH=%fcal=7.702Kcal',dH);"
   ]
   }
,
{
		   "cell_type": "markdown",
		   "metadata": {},
		   "source": [
			"## Example 5.41: value_of_Kp.sce"
		   ]
		  },
  {
"cell_type": "code",
	   "execution_count": null,
	   "metadata": {
	    "collapsed": true
	   },
	   "outputs": [],
"source": [
"P=10;//pressure in atm//\n",
"printf('The total pressure P=PH2+PN2+PNH3.At all times PH2=3PN2\nSo PNH3=P-4*PN2 or PN2=0.25*(P-PNH3).');\n",
"printf('\nLet x represent the mole fraction of NH3 at equilibrium.\nThen 1-x represents the sum of the mole fraction of N2 and H2.');\n",
"x=0.0122;//yield of NH3 in moles//\n",
"PNH3=x*P;//pressure of NH3 in atm//\n",
"xNH3=x;\n",
"PN2=0.25*(1-x)*P;//pressure of N2 in atm//\n",
"PH2=0.75*(1-x)*P;//pressure of H2 in atm//\n",
"Kp=(PNH3^2)/(PN2*PH2^3);\n",
"printf('\nKp value for the reaction=Kp=%f=1.5*10^-5atm^-2',Kp);"
   ]
   }
,
{
		   "cell_type": "markdown",
		   "metadata": {},
		   "source": [
			"## Example 5.42: Vapour_pressure.sce"
		   ]
		  },
  {
"cell_type": "code",
	   "execution_count": null,
	   "metadata": {
	    "collapsed": true
	   },
	   "outputs": [],
"source": [
"printf('If the yield of NH3 is 12.2mol percent,x=0.122');\n",
"x=0.122;//yield of NH3 in moles//\n",
"Kp=1.48*10^-5;//Kp value of the equation in atm^-2//\n",
"P=sqrt((256*x^2)/(27*Kp*(1-x)^4));//pressure of the system in atm//\n",
"printf('\nPressure of the system=P=%fatm',P);"
   ]
   }
,
{
		   "cell_type": "markdown",
		   "metadata": {},
		   "source": [
			"## Example 5.44: Dissociation_constant.sce"
		   ]
		  },
  {
"cell_type": "code",
	   "execution_count": null,
	   "metadata": {
	    "collapsed": true
	   },
	   "outputs": [],
"source": [
"printf('PCl5=PCl3+Cl2');\n",
"M0=208.5;\n",
"P=1;//pressure in atm//\n",
"w=4.59;//weight of PCl5 in grams//\n",
"V=1.7;//volume of PCl5 in gm^3//\n",
"T=523;//temperature in kelvin//\n",
"R=0.0821;//universal gas constant//\n",
"M=(w*R*T)/(P*V);\n",
"printf('\nMolecular weight of PCl5=M=%f',M);\n",
"a=(M0-M)/(M*(2-1));\n",
"printf('\na=%f',a);\n",
"Kp=(a^2*P)/(1-a^2);\n",
"printf('\nKp for the reaction=Kp=%f',Kp);\n",
"printf('\nIf total pressure is increased at the same temperature,Kp being constant,a should decrease.\nLet the degree of dissociation when P=2atm be a1 at the same temperature.');\n",
"P1=2;\n",
"a1=sqrt(Kp/(P1+Kp));\n",
"printf('\na1=%f',a1);//the answers in textbook are slightly different from what we got here but it's nothing wrong//"
   ]
   }
,
{
		   "cell_type": "markdown",
		   "metadata": {},
		   "source": [
			"## Example 5.45: Total_pressure.sce"
		   ]
		  },
  {
"cell_type": "code",
	   "execution_count": null,
	   "metadata": {
	    "collapsed": true
	   },
	   "outputs": [],
"source": [
"a=0.5;//dissociation constant//\n",
"Kp=(a^2*P)/(1-a^2);\n",
"printf('Total pressure required to bring 50percent dissociation=P=3*Kp');"
   ]
   }
,
{
		   "cell_type": "markdown",
		   "metadata": {},
		   "source": [
			"## Example 5.46: Dissociation_constant.sce"
		   ]
		  },
  {
"cell_type": "code",
	   "execution_count": null,
	   "metadata": {
	    "collapsed": true
	   },
	   "outputs": [],
"source": [
"a=0.21;//dissociation constant//\n",
"P=1;//pressure in atm//\n",
"Kp=(a^2*P)/(1-a^2);\n",
"printf('\nKp for the reaction=Kp=%f',Kp);\n",
"printf('\nP=1atm=0.4+PCOCl2+PCO+PCl2\nsum of pressure reactants=0.6atm\nCOCl2=CO+Cl2\nHere P is the total pressure due to all the participants of the reaction and is equal to 0.6atm.');\n",
"P1=0.6;\n",
"a1=sqrt(Kp/(P1+Kp));\n",
"printf('\na1=%f',a1);\n",
"printf('\nfor Pressure of 0.6atm a has increased,thereby indicating that the forward reaction is favoured.');//here the value of a1 is slightly different from textbook//"
   ]
   }
,
{
		   "cell_type": "markdown",
		   "metadata": {},
		   "source": [
			"## Example 5.47: Formation_of_ester.sce"
		   ]
		  },
  {
"cell_type": "code",
	   "execution_count": null,
	   "metadata": {
	    "collapsed": true
	   },
	   "outputs": [],
"source": [
"acid=1/3;\n",
"ester=2/3;\n",
"alcohol=1/3;\n",
"water=2/3;\n",
"K=(ester*water)/(acid*alcohol);\n",
"printf('K value of the reaction=K=%f',K);\n",
"printf('\nIn finding no. of moles we end up with quadratic equation 3*x^2-24*x+20=0.\nupon solving the equation we get x=7.05 and 0.945.');\n",
"printf('\nThe first solution is not admissible since the maximum yield of the ester cannot exceed one mol of acetic acid.\nHence x=0.945 i.e yield of the ester is 94.5percent.');\n",
"printf('\nThis problem illustrates the influence of an increased concentration of the reactant\nSince using one mole of each reactant the yield of ester is only 66.66percent');\n",
"acid=1-x;\n",
"ester=x;\n",
"alcohol=1-x;\n",
"water=1+x;\n",
"printf('\nIn finding no. of moles we end up with quadratic equation 3*x^2-9*x+4=0.\nupon solving the equation we get x=2.457 and 0.5425.');\n",
"printf('\nThe first solution is not admissible,x=0.5425.\nyield of the ester in the presence of the product water has decreased from 66.67percent to 54.25percent.');\n",
"printf('\nother homogeneous equilibria in the liquid phase such as ionization of weak acids\nionization of weak bases,hydrolysis of salts,etc.,can be treated likewise.');\n",
"\n",
""
   ]
   }
,
{
		   "cell_type": "markdown",
		   "metadata": {},
		   "source": [
			"## Example 5.48: Equilibrium_constant.sce"
		   ]
		  },
  {
"cell_type": "code",
	   "execution_count": null,
	   "metadata": {
	    "collapsed": true
	   },
	   "outputs": [],
"source": [
"Kp=29.64;//dissociation pressure of CaCO3 in mm of Hg//\n",
"printf('CaCO3+C=CaO+2CO for the dissociation of CaCO3=CaO+CO2');\n",
"printf('\nKp1=PCO2=29.64/760=0.039atm\nFor the reduction of CO2 by C,CO2+C=2CO.Kp2=PCO^2/PCO2\nVolume percent=mol percent=mole fraction*100\nPCO=xCO*total pressure=xCO since total pressure=1atm\nxCO=PCO=0.724atm and xCO2=PCO2=0.276atm');\n",
"printf('\nKp2=PCO^2/PCO2=(0.724)^2/0.276=1.9atm');\n",
"Kp1=0.039;//dissociation pressure of CaCO3 in atm//\n",
"Kp2=1.9;\n",
"Kp3=Kp1*Kp2;//equilibrium constant for overall reaction in atm^2//\n",
"printf('\nEquilibrium constant for overall reaction=Kp3=%f=7.41*10^-2atm^2',Kp3);"
   ]
   }
,
{
		   "cell_type": "markdown",
		   "metadata": {},
		   "source": [
			"## Example 5.49: Molecular_weight.sce"
		   ]
		  },
  {
"cell_type": "code",
	   "execution_count": null,
	   "metadata": {
	    "collapsed": true
	   },
	   "outputs": [],
"source": [
"MH2O=18;//Molecular weight of H2O in grams//\n",
"WH2O=100;//weight of H2O in grams//\n",
"W=3.6;//weight of oraganic substance in grams//\n",
"dP=0.0855;//Lowering in vapour pressure in mm of Hg//\n",
"P=23.76;//Vapour pressure of Organic substance in mm of Hg//\n",
"M=(W*MH2O*P)/(WH2O*dP);//Molecular weight of Organic substance in grams//\n",
"printf('Molecular weight of Organic substance=M=%fgrams',M);"
   ]
   }
,
{
		   "cell_type": "markdown",
		   "metadata": {},
		   "source": [
			"## Example 5.4: Final_pressure_of_the_system.sce"
		   ]
		  },
  {
"cell_type": "code",
	   "execution_count": null,
	   "metadata": {
	    "collapsed": true
	   },
	   "outputs": [],
"source": [
"dH=-817;\n",
"dU=-820;\n",
"P1=1;//initial pressure in atm//\n",
"V=1;//volume in litre//\n",
"K=(1.99*10^-3)/0.082;//multiplying factor to convert litre atm to calories//\n",
"P2=P1+((dH-dU)/(V*K));//final pressure in atm//\n",
"printf('Final pressure of the system=P2=%fatm',P2);\n",
"printf('\nIn this problem P1 and P2 are in atm and V being in litres,The VdP term in litre atm.\ndH and dU are in Kcal and so the VdP term is converted into Kcal.\nIt is seen that the pressure developed is enormous.\nThis takes place in a confined space,an explosion occurs.\nThe final pressure P2 can also be calculated from the ideal gas equation PV=nRT which gives the same result.');//in textbook the answer given is bit wrong and it should be one we get through execution//"
   ]
   }
,
{
		   "cell_type": "markdown",
		   "metadata": {},
		   "source": [
			"## Example 5.50: Molecular_weight.sce"
		   ]
		  },
  {
"cell_type": "code",
	   "execution_count": null,
	   "metadata": {
	    "collapsed": true
	   },
	   "outputs": [],
"source": [
"T0=373;//temperature in kelvin//\n",
"R=1.99;//value of R in cal per deg per mol//\n",
"lv=540;//Latent heat of vaporization in cal per grams//\n",
"Kb=(R*T0^2)/(1000*lv);//value of Kb in deg per mol//\n",
"printf('Value of Kb=%fKbdeg per mol',Kb);\n",
"T1=373.57;//temperature in kelvin//\n",
"W2=5;//weight of urea in grams//\n",
"W1=75;//weight of water boils in grams//\n",
"dT=T1-T0;//change in temperature//\n",
"M2=(Kb*1000*W2)/(dT*W1);//Molecular weight of urea in grams//\n",
"printf('\nMolecular weight of urea=M2=%fgrams',M2);"
   ]
   }
,
{
		   "cell_type": "markdown",
		   "metadata": {},
		   "source": [
			"## Example 5.51: Freezing_point.sce"
		   ]
		  },
  {
"cell_type": "code",
	   "execution_count": null,
	   "metadata": {
	    "collapsed": true
	   },
	   "outputs": [],
"source": [
"lf=80;//Latent heat of fusion of Ice in cal per gram//\n",
"lv=540;//Latent heat of evaporation of water in cal per gram//\n",
"Tf=273;//fusion temperature in kelvin//\n",
"Tb=373;//Boiling temperature in kelvin//\n",
"dTb=Tb-Tf;//change in temperature//\n",
"dTf=(dTb*Tf^2*lv)/(Tb^2*lf*1000);\n",
"FP=0-dTf;//Freezing point of the solution//\n",
"printf('The Freezing point of the solution=FP=%f',FP);"
   ]
   }
,
{
		   "cell_type": "markdown",
		   "metadata": {},
		   "source": [
			"## Example 5.52: Quantity_of_methanol_and_ethylene.sce"
		   ]
		  },
  {
"cell_type": "code",
	   "execution_count": null,
	   "metadata": {
	    "collapsed": true
	   },
	   "outputs": [],
"source": [
"Kf=1.86;//Kf for water//\n",
"M2=32;//Molecular weight of Methanol in grams//\n",
"W1=10000;//weight of H2O in grams//\n",
"dTf=10;//lowering freezing point of water//\n",
"W2=(dTf*W1*M2)/(1000*Kf);//weight of methanol in grams//\n",
"printf('weight of Methanol=W2=%fgrams=1.72Kg',W2);\n",
"M3=62;//Molecular weight of Ethylene in grams//\n",
"W3=(dTf*W1*M3)/(1000*Kf);//weight of methanol in grams//\n",
"printf('\nweight of Ethylene=W3=%fgrams=3.334Kg',W3);\n",
""
   ]
   }
,
{
		   "cell_type": "markdown",
		   "metadata": {},
		   "source": [
			"## Example 5.53: Quantity_of_ice.sce"
		   ]
		  },
  {
"cell_type": "code",
	   "execution_count": null,
	   "metadata": {
	    "collapsed": true
	   },
	   "outputs": [],
"source": [
"Kf=1.86;//Kf for water//\n",
"printf('At -18.6degrees temperature only Ice seperates from the Aqueous solution\nThe weight of Glycol remains constant through its concentration Actually increases since ice seperates out on cooling.');\n",
"printf('\nInitial Concentration=3334grams per 10Kg of Water.');\n",
"dT=18.6;\n",
"m=dT/Kf;\n",
"w=10;//initial content of water in litres//\n",
"w1=5.376;\n",
"W=w-w1;//weight of ice seperating in kilograms\n",
"printf('\nIf dT=18.6 then m=10');\n",
"printf('\nAt -18.6Degrees 10 mol of glycol are present in 1000grams of water,i.e 620grams in 1000grams of water,or 6200grams in 10Kg of water.');\n",
"printf('\n3334grams of glycol would be present in 10*3334/6200,i.e 5.376Kg of Water.');\n",
"printf('\nWt. of Ice seperating=W=%fKg',W);"
   ]
   }
,
{
		   "cell_type": "markdown",
		   "metadata": {},
		   "source": [
			"## Example 5.54: Osmotic_pressure.sce"
		   ]
		  },
  {
"cell_type": "code",
	   "execution_count": null,
	   "metadata": {
	    "collapsed": true
	   },
	   "outputs": [],
"source": [
"T=300;//temperature in kelvin//\n",
"R=0.0821;//universal gas constant//\n",
"Ws=0.171;//Weight of Sucrose  in the solution in grams//\n",
"Ms=342;//Molecular weight of Sucrose in grams//\n",
"l=0.05;//volume of solution in litres//\n",
"ns=(Ws)/(Ms*l);//no. of moles of sucrose in the solution//\n",
"printf('Osmatic pressure being a colligative property depends only on the no. of mol of solute present and not on their nature.');\n",
"printf('\nNo. of moles of Sucrose in a litre solution=ns=%fmol per litre',ns);\n",
"Wg=0.18;//Weight of glucose  in the solution in grams//\n",
"Mg=180;//Molecular weight of glucose in grams//\n",
"ng=(Wg)/(Mg*l);//no. of moles of glucose in the solution//\n",
"printf('\nNo. of moles of Glucose in a litre solution=ns=%fmol per litre',ng);\n",
"Wu=0.06;//Weight of Urea in the solution in grams//\n",
"Mu=60;//Molecular weight of Urea in grams//\n",
"nu=(Wu)/(Mu*l);//no. of moles of Urea in the solution//\n",
"printf('\nNo. of moles of Urea in a litre solution=ns=%fmol per litre',nu);\n",
"c=ns+ng+nu;//total no of moles in a litre solution//\n",
"printf('\nTotal no. of moles in a litre solution=c=%fmol per litre',c);\n",
"OP=c*R*T;//Osmatic pressure in atms//\n",
"printf('\nOsmatic pressure of the solution at 300k=OP=%fatm',OP);"
   ]
   }
,
{
		   "cell_type": "markdown",
		   "metadata": {},
		   "source": [
			"## Example 5.55: Molecular_weight.sce"
		   ]
		  },
  {
"cell_type": "code",
	   "execution_count": null,
	   "metadata": {
	    "collapsed": true
	   },
	   "outputs": [],
"source": [
"Hb=2.4;//rise of the benzene solution in mm//\n",
"Db=0.88;//Density of Benzene solution in g per cm^3//\n",
"Dm=13.6;//Density of mercury solution in g per cm^3//\n",
"Hm=(Hb*Db)/Dm;//Rise of mercury solution in mm//\n",
"printf('The Osmatic pressure given in terms of the height of a liquid column must be converted into an equivalent height of a mercury column.');\n",
"printf('\nEquivalent Height of the mercury column=Hm=%fmm',Hm);\n",
"printf('\nThe density of solution is equal to density of solvent since the solution is dilute.\nLet M2 be the molecular weight of polymer.');\n",
"R=0.0821;//Universal gas constant//\n",
"T=310;//temperature in kelvin//\n",
"M2=(2.5*R*T*760)/Hm;//Molecular weight of polymer in grams//\n",
"printf('\nMolecular weight of polymer=M2=%f=3.11*10^5grams',M2);"
   ]
   }
,
{
		   "cell_type": "markdown",
		   "metadata": {},
		   "source": [
			"## Example 5.56: Concentration_of_glucose.sce"
		   ]
		  },
  {
"cell_type": "code",
	   "execution_count": null,
	   "metadata": {
	    "collapsed": true
	   },
	   "outputs": [],
"source": [
"T=310;//temperature in kelvin//\n",
"R=0.0821;//universal gas constant//\n",
"OP=7.65;//Osmatic pressure in atm//\n",
"c=OP/(R*T);\n",
"printf('Concentration of glucose=c=%fM',c);\n",
"W=c*180;//weight in one litre in grams//\n",
"printf('\nWeight in one litre=W=%fgrams',W);"
   ]
   }
,
{
		   "cell_type": "markdown",
		   "metadata": {},
		   "source": [
			"## Example 5.57: degree_of_dissociatio.sce"
		   ]
		  },
  {
"cell_type": "code",
	   "execution_count": null,
	   "metadata": {
	    "collapsed": true
	   },
	   "outputs": [],
"source": [
"T0=373;//temperature in kelvin//\n",
"Kb=0.52;//value of Kb in deg per mol//\n",
"T1=373.208;//temperature in kelvin//\n",
"W2=3.40;//weight of BaCl2 in grams//\n",
"W1=100;//weight of water boils in grams//\n",
"dTb=T1-T0;//change in temperature//\n",
"Mobs=(Kb*1000*W2)/(dTb*W1);//Molecular weight of BaCl2 observed in grams//\n",
"printf('Molecular weight of BaCl2 observed=Mobs=%fgrams',Mobs);\n",
"Mthr=208.4;//Theoritical Molecular weight of BaCl2 in grams//\n",
"i=Mthr/Mobs;\n",
"a=0.5*(i-1);//apparent degree of dissociation of BaCl2//\n",
"printf('\nApparent degree of dissociation of BaCl2=a=%f',a);\n",
"\n",
""
   ]
   }
,
{
		   "cell_type": "markdown",
		   "metadata": {},
		   "source": [
			"## Example 5.58: Nature_of_the_species.sce"
		   ]
		  },
  {
"cell_type": "code",
	   "execution_count": null,
	   "metadata": {
	    "collapsed": true
	   },
	   "outputs": [],
"source": [
"Kf=1.86;//Kf for water//\n",
"m=0.1;//no. of moles of organic mono carboxilic acid//\n",
"dTf=Kf*m;//Theoritical change in temperature//\n",
"printf('Theoritical change in temperature=dTf=%f',dTf);\n",
"dTobs=0.220;//Observed change in temperature//\n",
"i=dTobs/dTf;\n",
"printf('\nSince dTobs is greater than dTf ionization must have occurred in aqueous solution.\nAn organic monobasic acid RCOOH ionizes as RCOOH = RCOO- + H+.');\n",
"a=i-1;//degree of ionization//\n",
"printf('\nDegree of ionization=a=%f',a);\n",
"printf('\nIf the acid dissolved as such in its molecular form as species dTthr=5.12*0.1=0.512,dTobs=0.265.');\n",
"printf('\nThis value is nearly half the expected value,suggesting that the molecule exists as associated molecules in solution.');\n",
"i1=0.265/0.512;\n",
"a1=2*(1-i1);\n",
"printf('\nThe acid is demerized to the extent of a1=96.500000percent.')"
   ]
   }
,
{
		   "cell_type": "markdown",
		   "metadata": {},
		   "source": [
			"## Example 5.5: Enthalpy_change.sce"
		   ]
		  },
  {
"cell_type": "code",
	   "execution_count": null,
	   "metadata": {
	    "collapsed": true
	   },
	   "outputs": [],
"source": [
"dHfFe2O3=-196.5;//dHf value of Fe2O3 in kcal per mol//\n",
"dHfCO2=-94.05;//dHf value of CO2 in kcal per mol//\n",
"dHfCO=-26.41;//dHf value of CO in kcal per mol//\n",
"dH298=(3*dHfCO2-dHfFe2O3-3*dHfCO);//enthalphy change at 298K in Kcal//\n",
"printf('Enthalpy change for the reduction of Fe2O3 by Co at 298K=%fKcal',dH298);"
   ]
   }
,
{
		   "cell_type": "markdown",
		   "metadata": {},
		   "source": [
			"## Example 5.6: Standard_Enthalpy_of_formation.sce"
		   ]
		  },
  {
"cell_type": "code",
	   "execution_count": null,
	   "metadata": {
	    "collapsed": true
	   },
	   "outputs": [],
"source": [
"dHfH2O=-68.32;//dHf value of H2O in kcal per mol//\n",
"dHfCO2=-94.05;//dHf value of CO2 in kcal per mol//\n",
"dH298=-208.34;//enthalphy change at 298K in Kcal//\n",
"dHfCH3COOH=(2*dHfH2O+2*dHfCO2-dH298);//dHf value of CH3COOH in Kcal per mol//\n",
"printf('Standard enthalpy of formation of CH3COOH=%fKcal per mol',dHfCH3COOH);"
   ]
   }
,
{
		   "cell_type": "markdown",
		   "metadata": {},
		   "source": [
			"## Example 5.7: Enthalpy_change.sce"
		   ]
		  },
  {
"cell_type": "code",
	   "execution_count": null,
	   "metadata": {
	    "collapsed": true
	   },
	   "outputs": [],
"source": [
"T=298;//temperature in kelvin//\n",
"R=1.987*10^-3;\n",
"dn=-4;\n",
"dU=-1148.93;//Internal energy change of n-Heptane in kcal per mol//\n",
"dHf=dU+(R*T*dn);//dHf value of C7H16 in Kcal per mol//\n",
"printf('dHf value of C7H16=dHf=%fKcal per mol',dHf);\n",
"dHfH2O=-68.32;//dHf value of Fe2O3 in kcal per mol//\n",
"dHfCO2=-94.05;//dHf value of CO2 in kcal per mol//\n",
"dHfC7H16=(8*dHfH2O+7*dHfCO2-dHf);//dHf value of CH3COOH in Kcal per mol//\n",
"printf('\nStandard enthalpy of formation of C7H16=%fKcal per mol',dHfC7H16);"
   ]
   }
,
{
		   "cell_type": "markdown",
		   "metadata": {},
		   "source": [
			"## Example 5.8: Heat_of_formatio.sce"
		   ]
		  },
  {
"cell_type": "code",
	   "execution_count": null,
	   "metadata": {
	    "collapsed": true
	   },
	   "outputs": [],
"source": [
"dHf=-67.63;//enthalpy change value in kcal//\n",
"dHfCO2=-94.05;//Heat of formation value of CO2 in kcal//\n",
"dHfCO=dHfCO2-dHf;//Heat of formation value of CO in Kcal//\n",
"printf('Heat of formation of CO=%fKcal',dHfCO);"
   ]
   }
,
{
		   "cell_type": "markdown",
		   "metadata": {},
		   "source": [
			"## Example 5.9: Enthalpy_change.sce"
		   ]
		  },
  {
"cell_type": "code",
	   "execution_count": null,
	   "metadata": {
	    "collapsed": true
	   },
	   "outputs": [],
"source": [
"dHfDiam=-94.50;//heat of formation value of Diamond in kcal//\n",
"dHfGrap=-94.05;//Heat of formation value of Graphite in kcal//\n",
"dHf=dHfGrap-dHfDiam;//Enthalpy change when graphite converted to diamond in Kcal//\n",
"printf('Enthalpy change when graphite converted to diamond=%fKcal',dHf);"
   ]
   }
],
"metadata": {
		  "kernelspec": {
		   "display_name": "Scilab",
		   "language": "scilab",
		   "name": "scilab"
		  },
		  "language_info": {
		   "file_extension": ".sce",
		   "help_links": [
			{
			 "text": "MetaKernel Magics",
			 "url": "https://github.com/calysto/metakernel/blob/master/metakernel/magics/README.md"
			}
		   ],
		   "mimetype": "text/x-octave",
		   "name": "scilab",
		   "version": "0.7.1"
		  }
		 },
		 "nbformat": 4,
		 "nbformat_minor": 0
}
