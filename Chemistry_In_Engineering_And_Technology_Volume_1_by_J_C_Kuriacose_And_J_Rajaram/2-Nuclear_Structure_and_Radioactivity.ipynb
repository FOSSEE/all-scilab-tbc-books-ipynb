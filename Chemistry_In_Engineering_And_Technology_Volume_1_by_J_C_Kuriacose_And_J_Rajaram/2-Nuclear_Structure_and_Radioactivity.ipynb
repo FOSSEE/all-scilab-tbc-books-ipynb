{
"cells": [
 {
		   "cell_type": "markdown",
	   "metadata": {},
	   "source": [
       "# Chapter 2: Nuclear Structure and Radioactivity"
	   ]
	},
{
		   "cell_type": "markdown",
		   "metadata": {},
		   "source": [
			"## Example 2.1: Half_life_of_a_radioactive_nuclide.sce"
		   ]
		  },
  {
"cell_type": "code",
	   "execution_count": null,
	   "metadata": {
	    "collapsed": true
	   },
	   "outputs": [],
"source": [
"N0=3396;//no. of counts per minute given by radioactive nuclide at a given time//\n",
"N=1000;//no. of counts per minute given by radioactive nuclide one hour later//\n",
"thalf=0.693*60/(2.303*log(N0/N));//half life of nuclide in minutes//\n",
"printf('Half life of radioactive nuclide=t1/2=%fminutes',thalf);\n",
"t1=2.303*log(100/25)*thalf/0.693;//time required for the activity to decrease to 25% of the initial activity in minutes//\n",
"printf('\nTime required for the activity to decrease to 25percent of the initial activity=t1=%fminutes',t1);\n",
"t2=2.303*log(100/10)*thalf/0.693;//time required for the activity to decrease to 10% of the initial activity in minutes//\n",
"printf('\nTime required for the activity to decrease to 10percent of the initial activity=t2=%fminutes',t2);"
   ]
   }
,
{
		   "cell_type": "markdown",
		   "metadata": {},
		   "source": [
			"## Example 2.2: Half_life_of_a_radioactive_nuclide.sce"
		   ]
		  },
  {
"cell_type": "code",
	   "execution_count": null,
	   "metadata": {
	    "collapsed": true
	   },
	   "outputs": [],
"source": [
"R=3.7*10^10;//no. of alpha particles per second emitted by 1g of 226Ra//\n",
"N=(6.023*10^23)/226;//no. of atoms of 226Ra//\n",
"yr=3.15*10^7;//no of seconds in a year//\n",
"thalf=0.693*N/(R*yr);//half life of 226Ra in years//\n",
"printf('Half life of 226Ra molecule=t1/2=%fyears',thalf);//here the answer written in textbook is wrongly printed actual answer will be the one we are getting here//"
   ]
   }
,
{
		   "cell_type": "markdown",
		   "metadata": {},
		   "source": [
			"## Example 2.3: Weight_of_1Ci.sce"
		   ]
		  },
  {
"cell_type": "code",
	   "execution_count": null,
	   "metadata": {
	    "collapsed": true
	   },
	   "outputs": [],
"source": [
"thalf=14.8*60*60;//half life of 24Na atom in seconds//\n",
"L=6.023*10^23;//Avagadro number//\n",
"v=3.7*10^10;//1 Ci of radioactivity in disintegrations per second//\n",
"w=(24*10^6*v*thalf)/(0.693*L);//weight of 1 Ci of 24Na in grams//\n",
"printf('Weight of 1 Ci of 24Na=w=%fmicrograms=1.13*10^-7grams',w);\n",
""
   ]
   }
,
{
		   "cell_type": "markdown",
		   "metadata": {},
		   "source": [
			"## Example 2.4: Binding_Energy.sce"
		   ]
		  },
  {
"cell_type": "code",
	   "execution_count": null,
	   "metadata": {
	    "collapsed": true
	   },
	   "outputs": [],
"source": [
"Mp=1.00728;//mass of proton in amu//\n",
"Mn=1.00866;//mass of neutronin amu//\n",
"MH=2.01355;//isotopic mass of H atom in amu//\n",
"dM=((1*Mp)+(1*Mn)-MH);//dM value of H atom in amu//\n",
"printf('dM value of H atom=dM=%famu',dM);\n",
"BE=dM*931;//binding energy of H atom in MeV//\n",
"printf('\nBinding energy of H atom=BE=%fMeV',BE);"
   ]
   }
,
{
		   "cell_type": "markdown",
		   "metadata": {},
		   "source": [
			"## Example 2.5: Age_of_a_Specime.sce"
		   ]
		  },
  {
"cell_type": "code",
	   "execution_count": null,
	   "metadata": {
	    "collapsed": true
	   },
	   "outputs": [],
"source": [
"N0=15.3;//decay rate of Contemporary Carbon in disintegrations/min/gram//\n",
"N=2.25;//decay rate of 14C specimen in disintegrtions/min/gram//\n",
"thalf=5670;//half life of nuclide in years//\n",
"t=2.303*log(N0/N)*thalf/0.693;//Age of the specimen in years//\n",
"printf('Age of the specimen=t=%fyears',t);//here the answer given in textbook is actually wrong we get twice that of the answer which is shown through execution//"
   ]
   }
,
{
		   "cell_type": "markdown",
		   "metadata": {},
		   "source": [
			"## Example 2.6: Age_of_a_Specime.sce"
		   ]
		  },
  {
"cell_type": "code",
	   "execution_count": null,
	   "metadata": {
	    "collapsed": true
	   },
	   "outputs": [],
"source": [
"thalf=4.5*10^9;//half life of Uranium in years//\n",
"printf('Here N0 and N must be in terms of Uranium.N is proportional to 1gram og Uranium');\n",
"printf('\nN0 can be calculated from the given data.0.0453grams of 206Pb corresponds to 238*0.0453/206=0.0523grams of 238U,i.e 0.0453 grams of 206Pb must have been formed by the decaying of 0.523grams of 238U.\nSince N is proportional to 1,N0 is proportional to 1.0523.');\n",
"N0=1.0523;\n",
"N=1;\n",
"t=2.303*log(N0/N)*thalf/0.693;//Age of the mineral in years//\n",
"printf('\nAge of the mineral=t=%fyears=7.62*10^8years',t);//here also the answer given in textbook is wrong the one resulted through execution is the right one//"
   ]
   }
],
"metadata": {
		  "kernelspec": {
		   "display_name": "Scilab",
		   "language": "scilab",
		   "name": "scilab"
		  },
		  "language_info": {
		   "file_extension": ".sce",
		   "help_links": [
			{
			 "text": "MetaKernel Magics",
			 "url": "https://github.com/calysto/metakernel/blob/master/metakernel/magics/README.md"
			}
		   ],
		   "mimetype": "text/x-octave",
		   "name": "scilab",
		   "version": "0.7.1"
		  }
		 },
		 "nbformat": 4,
		 "nbformat_minor": 0
}
