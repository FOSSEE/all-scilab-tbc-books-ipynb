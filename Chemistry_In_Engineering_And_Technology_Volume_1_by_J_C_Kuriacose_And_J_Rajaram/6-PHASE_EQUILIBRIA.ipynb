{
"cells": [
 {
		   "cell_type": "markdown",
	   "metadata": {},
	   "source": [
       "# Chapter 6: PHASE EQUILIBRIA"
	   ]
	},
{
		   "cell_type": "markdown",
		   "metadata": {},
		   "source": [
			"## Example 6.1: Normality_of_solutio.sce"
		   ]
		  },
  {
"cell_type": "code",
	   "execution_count": null,
	   "metadata": {
	    "collapsed": true
	   },
	   "outputs": [],
"source": [
"MW=249.6;//molecular weight of CuSO4.5H2O in grams//\n",
"w=0.3120;//weight of CuSO4.5H2O in grams//\n",
"V=0.25;//volume of the solution in litres//\n",
"printf('From Equation (a) 2 mol of CuSO4.5H2O liberates 1 mol of I2,i.e. 2 equivalents.\nHence the equlivalent weight of CuSO4.5H2O=mol.wt/1.');\n",
"printf('\nFrom equation (b) the equivalent weight of CuSO4.5H2O is mol.wt/2 since 1mol of CuSO4.5H2O reacts with 2 mol of OH-,i.e 2 equivalents.');\n",
"W=w/V;//weight of CuSO4.5H2O in one litre solution in grams//\n",
"printf('\nWeight of CuSO4.5H2O in a litre of the solution=W=%fgrams.',W);\n",
"Na=W/MW;//Normality of the solution for (a)//\n",
"printf('\nNormality of the solution for (a)=Na=%f',Na);\n",
"Nb=W*2/MW;//Normality of the solution for (b)//\n",
"printf('\nNormality of the solution for (b)=Nb=%f',Nb);\n",
"printf('\nIn the first case 1ml of the solution contains 5*10^-3equivalents or 5 equivalents of CuSO4.5H2O,\nand in the second case 1ml of the solution will contain 10m eq of CuSO4.5H2O.');"
   ]
   }
,
{
		   "cell_type": "markdown",
		   "metadata": {},
		   "source": [
			"## Example 6.2: Molality_and_mole_fraction.sce"
		   ]
		  },
  {
"cell_type": "code",
	   "execution_count": null,
	   "metadata": {
	    "collapsed": true
	   },
	   "outputs": [],
"source": [
"v=180;//volume of conc. H2SO4 in ml//\n",
"n=6.61;//Normality of the solution//\n",
"N=1000*n/v;\n",
"printf('The Noramality or Strength of the Conc. acid=N=%fN',N);\n",
"printf('\n1 eq.per litre=0.5mol per litre in the case of H2SO4 since the eq.wt=0.5 the mol.wt.');\n",
"printf('\n 6.6N soln=6.61 eq per litre=3.305mol per litre.\n Strength of the diluted solution=3.305M');\n",
"SG=1.84;//super gravity of Conc. H2SO4//\n",
"w=SG*v;//weight of 180ml of conc. H2SO4 in grams//\n",
"printf('\nWt of 180ml of conc.H2SO4=w=%fgrams.',w);\n",
"printf('\nThis actually contains 6.61*49grams of H2SO4.\n percentage of H2SO4 by weight=97.8');\n",
"sg=1.198;//specific gravity of the diluted solution//\n",
"V=1000;//volume of the diluted solution in ml//\n",
"W=sg*V;//weight of one litre of the diluted solution in grams//\n",
"printf('\nWt of 1 litre of the diluted solution=W=%fgrams ',W);\n",
"WH2O=w+W;//weight of water in grams//\n",
"printf('\ntherefore Weight of water=WH2O=%fgrams.',WH2O);\n",
"printf('\nIf the percent of H2SO4 by wt in the diluted solution is y.\nWt of H2SO4 in 1litre of the diluted solution=49*6.61grams.so y value comes as 27.04percent');\n",
"M=3.305*1000/WH2O;//molality of the solution//\n",
"printf('\nMolality of the solution=M=%f',M);\n",
"mf=0.064;//mole fraction of H2SO4//\n",
"mfH2O=1-mf;//mole fraction of water//\n",
"printf('\nMol of sulphuric acid is 329.9/98=3.305.\nMol of water=874.1/18=48.561.\nMol fraction of H2SO4=0.064.');\n",
"printf('\nMole fraction of water=mfH2O=%f',mfH2O);"
   ]
   }
,
{
		   "cell_type": "markdown",
		   "metadata": {},
		   "source": [
			"## Example 6.3: Percentage_by_weight.sce"
		   ]
		  },
  {
"cell_type": "code",
	   "execution_count": null,
	   "metadata": {
	    "collapsed": true
	   },
	   "outputs": [],
"source": [
"N2=79.2;//percentage of Nitrogen in air//\n",
"O2=20.8;//percentage of Oxygen in air//\n",
"b=76.93;//Weight percent of N2 in air//\n",
"printf('Weight percent of N2 in air=b=%f',b);\n",
"a=100-b;//weight percent of O2 in air//\n",
"printf('\nWeight percent of O2 in air=a=%f',a);"
   ]
   }
,
{
		   "cell_type": "markdown",
		   "metadata": {},
		   "source": [
			"## Example 6.4: Percentage_of_volume.sce"
		   ]
		  },
  {
"cell_type": "code",
	   "execution_count": null,
	   "metadata": {
	    "collapsed": true
	   },
	   "outputs": [],
"source": [
"N2=0.79;//partial pressure of Nitrogen in air//\n",
"O2=0.21;//partial pressure of Oxygen in air//\n",
"AN2=0.015;//Absorption coefficient of N2//\n",
"AO2=0.028;//Absorption coefficient of O2//\n",
"l=22.4;\n",
"printf('Absorption coefficient being the solubility of the gas at partial pressure of 1atm of the gas,\nThe solubilities in mol per litre of the two gases are');\n",
"SN2=N2*AN2/l;//solubility of N2//\n",
"SO2=O2*AO2/l;//solubility of O2//\n",
"printf('\nSolubility of N2=SN2=%f=5.29*10^-4mol per litre.',SN2);\n",
"printf('\nSolubility of O2=SO2=%f=2.625*10^-4mol per litre',SO2);\n",
"VO2=(SO2*100)/(SN2+SO2);\n",
"printf('\nThe mole or Volume percent of O2=%f',VO2);\n",
"VN2=100-VO2;\n",
"printf('\nThe mole or volume percent of N2=%f',VN2);"
   ]
   }
,
{
		   "cell_type": "markdown",
		   "metadata": {},
		   "source": [
			"## Example 6.5: Vapour_pressure.sce"
		   ]
		  },
  {
"cell_type": "code",
	   "execution_count": null,
	   "metadata": {
	    "collapsed": true
	   },
	   "outputs": [],
"source": [
"printf('Upon solving the equations PA=0.9atm,PB=0.3atm');\n",
"PA=0.9;//vapour pressure of A//\n",
"PB=0.3;//Vapour pressure of B//\n",
"xA=0.33;\n",
"xB=0.66;\n",
"yA=(xA*PA)/(xA*PA+xB*PB);\n",
"printf('\nComposition of Vapour A in the mixture=yA=%f',yA);\n",
"yB=1-yA;\n",
"printf('\nComposition of Vapour B in the mixture=yB=%f',yB);\n",
"VP=yA*PA+yB*PB;//total vapour pressure of the mixture//\n",
"printf('\nTotal vapour pressure of the mixture=VP=%f',VP);"
   ]
   }
,
{
		   "cell_type": "markdown",
		   "metadata": {},
		   "source": [
			"## Example 6.6: Vapour_pressure.sce"
		   ]
		  },
  {
"cell_type": "code",
	   "execution_count": null,
	   "metadata": {
	    "collapsed": true
	   },
	   "outputs": [],
"source": [
"yA=0.60;\n",
"xA1=0.40;\n",
"xA=0.5*yA+0.5*xA1;\n",
"printf('Let PA and PB represent the vapour pressures of pure A and pure B respectively.');\n",
"printf('\nFrom 1 mol of solution after distillation,we get 0.5mol of distillate and 0.5mol of residue.');\n",
"printf('\nVapour pressure of substance A=PA=900.00000mm of Hg');\n",
"printf('\nVapour pressure of substance B=PB=400.00000mm of Hg');"
   ]
   }
,
{
		   "cell_type": "markdown",
		   "metadata": {},
		   "source": [
			"## Example 6.7: Molecular_weight.sce"
		   ]
		  },
  {
"cell_type": "code",
	   "execution_count": null,
	   "metadata": {
	    "collapsed": true
	   },
	   "outputs": [],
"source": [
"wA=162;\n",
"wB=100;\n",
"VPB=641;//vapour pressure of water//\n",
"VPA=119;//vapour pressure of oraganic substance//\n",
"MB=18;//Molecular weight of H2O//\n",
"printf('Even though the boiling part of A might be higher,it distills out at a low temperature 95.3degrees.');\n",
"printf('\nIf A were to distill at 95.3degrees,the distillation will have to be carried out at a reduced pressure of about 119mm of mercury');\n",
"MA=(wA*MB*VPB)/(wB*VPA);\n",
"printf('\nMolecular weight of A=MA=%fgrams',MA);"
   ]
   }
,
{
		   "cell_type": "markdown",
		   "metadata": {},
		   "source": [
			"## Example 6.8: Efficiency_comparison.sce"
		   ]
		  },
  {
"cell_type": "code",
	   "execution_count": null,
	   "metadata": {
	    "collapsed": true
	   },
	   "outputs": [],
"source": [
"w=50;//weight of acid A in grams//\n",
"x=1;\n",
"y=0.2;\n",
"K=5;\n",
"n=5;\n",
"wn=w*(x/(x+K*y))^n;\n",
"printf('wn=%fgrams',wn);\n",
"y1=1;\n",
"w0=w*(x/(x+K*y1));\n",
"printf('\nw0=%fgrams',w0);\n",
"printf('\nIt is seen that the first process leaves only 1.563grams of A with the aq. layer,\nwhereas the secondone using all available solvent in a single lot leaves 8.333grams in aqueous layer.\nIn the process (a)96.88percent of A is extracted,whereas in (b) only 83.67percent A is extracted.');"
   ]
   }
,
{
		   "cell_type": "markdown",
		   "metadata": {},
		   "source": [
			"## Example 6.9: Neutralisatio.sce"
		   ]
		  },
  {
"cell_type": "code",
	   "execution_count": null,
	   "metadata": {
	    "collapsed": true
	   },
	   "outputs": [],
"source": [
"AN=0.096;//normality of H2SO4 in aqua layer//\n",
"ON=0.014;//normality of H2SO4 in org. layer//\n",
"AV=13.3;//amount of H2SO4 required in aq. layer for neutralization//\n",
"OV=7.15;//amount of H2SO4 requred in org. layer for neutralization//\n",
"AS=AN*AV/10;//strength of NH3 in aq. layer//\n",
"printf('Strength of NH3 in aq. layer=AS=%fN.',AS);\n",
"OS=ON*OV/20;//strength of NH3 in org. layer//\n",
"printf('\nStrength of NH3 in org. layer=OS=%fN.',OS);\n",
"K=AS/OS;//equilibrium constant//\n",
"printf('\nEquilibrium constant=K=%f',K);\n",
"AV1=20.0;//amount of H2SO4 required in aq. layer at equilibrium//\n",
"OV1=8.0;//amount of H2SO4 required in org. layer at equilibrium//\n",
"AN1=AV1*AN/5;//Normality of NH3 in aq. layer//\n",
"printf('\nNormality of NH3 in aq. layer=AN1=%fN.',AN1);\n",
"ON1=OV1*ON/10;//Normality of NH3 in org. layer//\n",
"printf('\nNormality of NH3 in org. layer=ON1=%fN.',ON1);\n",
"printf('\nIn the aq.layer NH3 includes the free ammonia(uncombined).\nNH3t and that which has combined with Cu2+ to form the complex ion NH3.');\n",
"printf('\nNH3aq=NH3t+NH3combined.\nThe value of NH3t can be obtained from the value of K.\nK=25.49=NH3t/NH3combined.');\n",
"NH3t=K*ON1;\n",
"printf('\nSince nernsts law holds good for the same species present in both phases.\nNH3t=%f=0.2855N.',NH3t);\n",
"NH3c=AN1-NH3t\n",
"printf('\nNH3c=%f=0.0985N',NH3c);\n",
"printf('\n0.025mol per litre of Cu2+ combines with 0.0985mol per litre of NH3.\n1 mol per litre of Cu2+ combines with 0.0985/0.025=3.936mol per litre of NH3.');\n",
"printf('\nor 1mol of Cu2+ combines with 4mol of NH3,i.e the value of x is 4.\nThe formula of the complex ion is thus (Cu(NH3)4)2+');"
   ]
   }
],
"metadata": {
		  "kernelspec": {
		   "display_name": "Scilab",
		   "language": "scilab",
		   "name": "scilab"
		  },
		  "language_info": {
		   "file_extension": ".sce",
		   "help_links": [
			{
			 "text": "MetaKernel Magics",
			 "url": "https://github.com/calysto/metakernel/blob/master/metakernel/magics/README.md"
			}
		   ],
		   "mimetype": "text/x-octave",
		   "name": "scilab",
		   "version": "0.7.1"
		  }
		 },
		 "nbformat": 4,
		 "nbformat_minor": 0
}
