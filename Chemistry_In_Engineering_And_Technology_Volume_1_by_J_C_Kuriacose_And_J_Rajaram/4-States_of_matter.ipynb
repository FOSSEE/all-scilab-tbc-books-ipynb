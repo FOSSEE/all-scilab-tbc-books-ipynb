{
"cells": [
 {
		   "cell_type": "markdown",
	   "metadata": {},
	   "source": [
       "# Chapter 4: States of matter"
	   ]
	},
{
		   "cell_type": "markdown",
		   "metadata": {},
		   "source": [
			"## Example 4.10: Relative_density.sce"
		   ]
		  },
  {
"cell_type": "code",
	   "execution_count": null,
	   "metadata": {
	    "collapsed": true
	   },
	   "outputs": [],
"source": [
"printf('Density is proportional to molecular weight');\n",
"printf('\nRelative density of O2 with respect to H2 is 32/2=16.');\n",
"t1=12;//time for certain volume of gas to stream through hole in mins//\n",
"p2=16;//Relative density of O2 w.r.t H2//\n",
"t2=15;//time for same volume(as gas) of oxygen to stream through hole in mins//\n",
"p1=((t1/t2)^2)*p2;//according to graham's law//\n",
"printf('\nRealtive density of gas to oxygen=p1=%f',p1);//here the answer given in textbook is wrongly printed the actual answer is the one we got here through execution// "
   ]
   }
,
{
		   "cell_type": "markdown",
		   "metadata": {},
		   "source": [
			"## Example 4.11: Velocities_of_Oxyge.sce"
		   ]
		  },
  {
"cell_type": "code",
	   "execution_count": null,
	   "metadata": {
	    "collapsed": true
	   },
	   "outputs": [],
"source": [
"T=320;//47C in kelvin//\n",
"R=8.31*10^7;//Universal gas constant in erg per degree per mole//\n",
"M=32;//molecular weight of O2 in gram per mole//\n",
"C2=(3*R*T)/M;//mean square velocity of Oxygen in (cm/sec)^2//\n",
"Crms=sqrt(C2);//Root mean square velocity of Oxygen in cm/sec//\n",
"printf('Root mean square velocity of Oxygen=Crms=%fcm/sec',Crms);\n",
"Cm=sqrt(8*R*T/(%pi*M));//mean velocity of Oxygen in cm/sec//\n",
"printf('\nMean velocity of Oxygen=Cm=%fcm/sec',Cm);\n",
"Cmpv=sqrt(2*R*T/M);//mean probable velocity in cm/sec//\n",
"printf('\nMean probable velocity of Oxygen=Cmpv=%fcm/sec',Cmpv);//in textbook in Cmpv value it is misprinted as 10^9 but it is actually 10^4//"
   ]
   }
,
{
		   "cell_type": "markdown",
		   "metadata": {},
		   "source": [
			"## Example 4.12: Velocities_of_Gas.sce"
		   ]
		  },
  {
"cell_type": "code",
	   "execution_count": null,
	   "metadata": {
	    "collapsed": true
	   },
	   "outputs": [],
"source": [
"P=10^6;//pressure of gas in dyn per cm^2//\n",
"p=0.00333;//density of gas in gram per cm^3//\n",
"C2=3*P/p;//mean square velocity of gas in (cm/sec)^2//\n",
"Crms=sqrt(C2);//Root mean square velocity of Oxygen in cm/sec//\n",
"printf('Root mean square velocity of Gas=Crms=%fcm/sec',Crms);\n",
"Cm=Crms/1.085;//mean velocity of Gas in cm/sec//\n",
"printf('\nMean velocity of Oxygen=Cm=%fcm/sec',Cm);\n",
"Cmpv=Cm/1.128;//mean probable velocity in cm/sec//\n",
"printf('\nMean probable velocity of Oxygen=Cmpv=%fcm/sec',Cmpv);"
   ]
   }
,
{
		   "cell_type": "markdown",
		   "metadata": {},
		   "source": [
			"## Example 4.13: mean_free_path.sce"
		   ]
		  },
  {
"cell_type": "code",
	   "execution_count": null,
	   "metadata": {
	    "collapsed": true
	   },
	   "outputs": [],
"source": [
"printf('Mean free path is inversely proportional to N which is proportional to pressure');\n",
"L1=5.8*10^-6;//mean free path of N2 at NTP in cm//\n",
"K=58;//preesure is raised 58 times so factor is 58//\n",
"L2=L1/K;//mean free path of N2 at 58atm pressure in cm//\n",
"printf('\nMean free path of N2 at 58atm pressure=1*10^-7cm');"
   ]
   }
,
{
		   "cell_type": "markdown",
		   "metadata": {},
		   "source": [
			"## Example 4.14: Number_of_collissions.sce"
		   ]
		  },
  {
"cell_type": "code",
	   "execution_count": null,
	   "metadata": {
	    "collapsed": true
	   },
	   "outputs": [],
"source": [
"T=273;//temperature 0C in kelvin//\n",
"R=8.31*10^7;//Universal gas constant in erg per degree per mole//\n",
"M=28;//molecular weight of N2 in gram per mole//\n",
"printf('Since 22.4Litres of Nitrogen gas at 0C and 1atm pressure will contain 6.023*10^23Molecules.');\n",
"N=2.69*10^19;//no. of molecules in molecules per cm^3//\n",
"G=3.78*10^-8;//collision diameter in cm//\n",
"K=sqrt(%pi*R*T/M);\n",
"Z11=2*N^2*G^2*K;//number of collisions per second of Nitrogen at 0C and 1atm//\n",
"printf('\nNumber of molecular collisions per second of Nitrogen at 0C and 1atm=%f=10.43*10^28molecular collisions per sec per cm^3',Z11);"
   ]
   }
,
{
		   "cell_type": "markdown",
		   "metadata": {},
		   "source": [
			"## Example 4.15: Collision_diameter.sce"
		   ]
		  },
  {
"cell_type": "code",
	   "execution_count": null,
	   "metadata": {
	    "collapsed": true
	   },
	   "outputs": [],
"source": [
"T=273;//temperature 0C in kelvin//\n",
"R=8.31*10^7;//Universal gas constant in erg per degree per mole//\n",
"M=28;//molecular weight of N2 in gram per mole//\n",
"printf('Since 22.4Litres of Nitrogen gas at 0C and 1atm pressure will contain 6.023*10^23Molecules.');\n",
"N=2.69*10^19;//no. of molecules in molecules per cm^3//\n",
"Cm=sqrt(8*R*T/(%pi*M));//mean velocity of Nitrogen in cm/sec//\n",
"printf('\nMean velocity of Nitrogen=Cm=%fcm/sec',Cm);\n",
"V=22400;//volume of nitrogen in cm^3//\n",
"p=M/V;//Density of nitrogen in gram per cm^3//\n",
"printf('\nDensity of Nitrogen=p=%f=1.25*10^-3gram per cm^3',p);\n",
"n=10.99*10^-5;//Viscosity of N2 in poise//\n",
"L=(3*n)/(Crms*p);//mean free path of nitrogen in cm//\n",
"printf('\nMean free path of Nitrogen=L=5.81*10^-6cm');\n",
"G=sqrt(1/(1.414*%pi*L*N));//Collision diameter of Nitrogen in cm//\n",
"printf('\nCollission diameter of Nitrogen=G=3.80*10^-8cm');\n",
"K=sqrt(%pi*R*T/M);\n",
"Z11=2*N^2*G^2*K;//number of collisions per second of Nitrogen at 0C and 1atm//\n",
"printf('\nNumber of molecular collisions per second of Nitrogen at NTP=%f=10.52*10^28molecular collisions per sec per cm^3',Z11);"
   ]
   }
,
{
		   "cell_type": "markdown",
		   "metadata": {},
		   "source": [
			"## Example 4.16: Change_in_internal_energy.sce"
		   ]
		  },
  {
"cell_type": "code",
	   "execution_count": null,
	   "metadata": {
	    "collapsed": true
	   },
	   "outputs": [],
"source": [
"T1=27;//initial temperature in C//\n",
"T2=177;//final temperature in C//\n",
"printf('NH3 being a nonlinear molecule has 3 translational,3 rotational and 6 vibrational degrees of freedom.');\n",
"printf('\nCv=3*0.5*R+3*0.5*R+6*R=9*R');\n",
"Cv=18;//Molar heat capacity in cal per deg per mol//\n",
"dU=Cv*(T2-T1);//Change in internal energy of a mole in cal per mole//\n",
"printf('\nChange in internal energy of a mole of NH3=dU=%fcal per mole',dU);\n",
"printf('\nThe actual increase in energy may not be 2700cal per mol\nbecause at the given temperature,none or only some of the vibrational degrees of freedom may be contributing to the total energy.');//answer should come as 2700 not 2400,it was just misprinted//"
   ]
   }
,
{
		   "cell_type": "markdown",
		   "metadata": {},
		   "source": [
			"## Example 4.17: Degree_of_vibrational_freedom.sce"
		   ]
		  },
  {
"cell_type": "code",
	   "execution_count": null,
	   "metadata": {
	    "collapsed": true
	   },
	   "outputs": [],
"source": [
"printf('CH4 being a nonlinear molecule has 3 translational,3 rotational and 9 vibrational degrees of freedom.');\n",
"printf('\nCv=3*0.5*R+3*0.5*R+9*R=12*R');\n",
"Cv=24;//Molar heat capacity in cal per degree per mol//\n",
"printf('\nActual Cv is 16cal per degree per mol');\n",
"R=2;\n",
"Cvr=16-R;//Real molar heat capapcity in cal per degree per mole//\n",
"printf('\nReal molar heat capapcity of a mole of CH4=Cvr=%fcal per degree per mole',Cvr);\n",
"printf('\nThe Real molar heat capacity at constant volume is 10cal less than the theoretical value.\nSince each vibrational degree of freedom can contribute 2cal,this means that 5 vibrational degrees\nare not contributing at the given temperature.');"
   ]
   }
,
{
		   "cell_type": "markdown",
		   "metadata": {},
		   "source": [
			"## Example 4.18: Lowest_temperature.sce"
		   ]
		  },
  {
"cell_type": "code",
	   "execution_count": null,
	   "metadata": {
	    "collapsed": true
	   },
	   "outputs": [],
"source": [
"a=3.60;//Van der Waals constant for CO2 in L^2 atm per mol^2//\n",
"b=4.30*10^-2;//Van der Waals constant for CO2 in litre per mol//\n",
"N=300;//No. of moles of CO2 the cylinder contains//\n",
"V=100;//volume of cylinder in litres//\n",
"P=150;//Maximum pressure the cylinder can withstand in atm//\n",
"R=0.082;\n",
"K1=P+(N^2*a/V^2);\n",
"K2=V-(N*b);\n",
"T=(K1*K2)/(N*R);//The lowest temperature at which cylinder can explode in Kelvin//\n",
"printf('The lowest temperature at which cylinder can explode=T=%fK',T);"
   ]
   }
,
{
		   "cell_type": "markdown",
		   "metadata": {},
		   "source": [
			"## Example 4.19: Viscosity_of_liquids.sce"
		   ]
		  },
  {
"cell_type": "code",
	   "execution_count": null,
	   "metadata": {
	    "collapsed": true
	   },
	   "outputs": [],
"source": [
"tA=280;//time of flow for liquid A in seconds//\n",
"tB=200;//time of flow for liquid B in seconds//\n",
"pA=1;//density of liquid A in gram per cm^3//\n",
"pB=1.1;//density of liquid B in gram per cm^3//\n",
"h=10;//height of liquid responsible for the flow in cm//\n",
"g=980;//gravity constant in dyns//\n",
"V=1;//volume of liquid in ml//\n",
"L=10;//length of the capillary in cm//\n",
"r=0.1;//radius of the capillary in cm//\n",
"PA=h*pA*g;//Pressure of liquid A//\n",
"PB=h*pB*g;//Pressure of liquid B//\n",
"nA=(%pi*PA*tA*r^4)/(8*L*V);//Viscosity of Liquid A in centipoise//\n",
"printf('\nViscosity of Liquid A=nA=%fcentipoise',nA);\n",
"nB=(%pi*PB*tB*r^4)/(8*L*V);//Viscosity of Liquid B in centipoise//\n",
"printf('\nViscosity of Liquid B=nB=%fcentipoise',nB);"
   ]
   }
,
{
		   "cell_type": "markdown",
		   "metadata": {},
		   "source": [
			"## Example 4.1: Pressure_and_Volume_of_gas.sce"
		   ]
		  },
  {
"cell_type": "code",
	   "execution_count": null,
	   "metadata": {
	    "collapsed": true
	   },
	   "outputs": [],
"source": [
"P=760;//pressure of 14g of nitrogen in mm of Hg//\n",
"V=22.4;//Volume occupied by 14g of Nitrogen in litres//\n",
"P1=380;//changed pressure of 14g of nitrogen in mm of Hg//\n",
"V1=(P*V)/P1;//changed volume of 14g of nitrogen at 380mm pressure in litres//\n",
"printf('Volume of 14g of Nitrogen at 380 mm Hg pressure=V1=%flitres',V1);\n",
"V2=5.6;//changed volume of 14g of nitrogen in litres//\n",
"P2=(P*V)/V2;//Pressure of 14g of nitrogen of volume 5.6litres//\n",
"printf('\nPressure of 14g of Nitrogen of volume 5.6litres=P2=%fmm Hg',P2);"
   ]
   }
,
{
		   "cell_type": "markdown",
		   "metadata": {},
		   "source": [
			"## Example 4.20: Depression_in_capillary.sce"
		   ]
		  },
  {
"cell_type": "code",
	   "execution_count": null,
	   "metadata": {
	    "collapsed": true
	   },
	   "outputs": [],
"source": [
"ST=520;//surface tension of mercury in dyn per cm//\n",
"d=13.6;//density of mercury in gram per cm^3//\n",
"g=980;//gravity constant in dyns//\n",
"r=0.1;//radius of the capillary tube in cm//\n",
"h=(ST*2)/(g*r*d);//Depression observed in capillary tube in cm//\n",
"printf('Depression observed in capillary tube=h=%fcm',h);//the answer is given wrong in textbook,it should actually be double the one given//"
   ]
   }
,
{
		   "cell_type": "markdown",
		   "metadata": {},
		   "source": [
			"## Example 4.21: Surface_excess_concentration.sce"
		   ]
		  },
  {
"cell_type": "code",
	   "execution_count": null,
	   "metadata": {
	    "collapsed": true
	   },
	   "outputs": [],
"source": [
"T=293;//temperature 20C in kelvin//\n",
"R=8.31*10^7;//Universal gas constant in erg per degree per mole//\n",
"dr=165;//Change of surface tension in erg per cm^2 per mol litre//\n",
"C=0.06;//concentration we are considering in M//\n",
"t=(C*dr)/(R*T);//surface excess concentration of phenol in mol per cm^2//\n",
"printf('surface excess concentration of phenol=t=4.08*10^-10mol per cm^2');"
   ]
   }
,
{
		   "cell_type": "markdown",
		   "metadata": {},
		   "source": [
			"## Example 4.22: length_of_a_molecule.sce"
		   ]
		  },
  {
"cell_type": "code",
	   "execution_count": null,
	   "metadata": {
	    "collapsed": true
	   },
	   "outputs": [],
"source": [
"M=256;//Molecular weight of acid in grams//\n",
"w=2.56*10^-5;//weight of palmitic acid in grams//\n",
"N=w/M;//No. of molecules of acid//\n",
"A=123;//Total area occupied in cm^2//\n",
"AM=A/N;//Area per molecule in cm^2//\n",
"printf('Area per molecule=20.4*10^-16cm^2.\nThis is the area of crosssection A for a vertical position.');\n",
"V=w/0.81;//Volume of acid in cm^3//\n",
"VM=V/N;//Volume of one molecule of acid in cm^3//\n",
"L=VM/AM;//Length of molecule in cm//\n",
"printf('\nLength of a molecule=25.7*10^-8cm');"
   ]
   }
,
{
		   "cell_type": "markdown",
		   "metadata": {},
		   "source": [
			"## Example 4.23: Molecular_weight.sce"
		   ]
		  },
  {
"cell_type": "code",
	   "execution_count": null,
	   "metadata": {
	    "collapsed": true
	   },
	   "outputs": [],
"source": [
"T=298;//Temperature in kelvin//\n",
"ST=0.2;//Lowered surface tension in dyn per cm//\n",
"K=1.37*10^-16;//Boltzman's constant//\n",
"AM=(K*T)/ST;//Area per molecule on the surface in cm^2//\n",
"A=300;//Total area occupied in cm^2//\n",
"N=A/AM;//no. of molecules//\n",
"W=3*10^-7;//weight of insoluble substance in grams//\n",
"w=W/N;//weight of one molecule in grams//\n",
"N1=6.023*10^23;\n",
"MW=w*N1;//Molecular weight of substance in grams//\n",
"printf('Molecular weight of substance=MW=%f=123',MW);\n",
""
   ]
   }
,
{
		   "cell_type": "markdown",
		   "metadata": {},
		   "source": [
			"## Example 4.24: Surface_area.sce"
		   ]
		  },
  {
"cell_type": "code",
	   "execution_count": null,
	   "metadata": {
	    "collapsed": true
	   },
	   "outputs": [],
"source": [
"MW=461;//molecular weight of lead iodide in  grams//\n",
"CR1=3000;//initial count rate in count per minute//\n",
"CR2=900;//final count rate in count per minute//\n",
"CR=CR1-CR2;\n",
"printf('The count for lead iodide as absorbed=CR=%fcount per minute',CR);\n",
"printf('\nThe ratio of weights of lead iodide and radio lead iodide in solution is equal to that of the same ratio on surface');\n",
"printf('\nWeight of lead iodide in solution=0.0014grams');\n",
"printf('\nWeight of radio lead iodide is proportional to the count.\nWeight of lead iodide on the surface=0.0014*21/9.\nMolecular weight of lead iodide=461.\nArea of the surface per gram=4266cm^2 g^-1');"
   ]
   }
,
{
		   "cell_type": "markdown",
		   "metadata": {},
		   "source": [
			"## Example 4.25: Area_per_gram.sce"
		   ]
		  },
  {
"cell_type": "code",
	   "execution_count": null,
	   "metadata": {
	    "collapsed": true
	   },
	   "outputs": [],
"source": [
"printf('From the linear plot of the langmuir isotherm the intercept Xm=1/0.19=5.26milligrams');\n",
"Xm=5.26*10^-3;\n",
"printf('\nThis is the weight of N2 that forms a unimolecular layer of 2g charcoal.');\n",
"MW=28;//molecular weight of N2//\n",
"N=Xm*6.023*10^23/MW;//No. of molecules of N2//\n",
"TA=N*16*10^-16;//Total area in cm^2//\n",
"A=TA/2;//Area per gram in cm^2//\n",
"printf('\nArea of N2 per gram=%fcm^2',A);"
   ]
   }
,
{
		   "cell_type": "markdown",
		   "metadata": {},
		   "source": [
			"## Example 4.26: Area_per_gram.sce"
		   ]
		  },
  {
"cell_type": "code",
	   "execution_count": null,
	   "metadata": {
	    "collapsed": true
	   },
	   "outputs": [],
"source": [
"printf('From the linear plot of the langmuir isotherm the intercept=0.35*10^-3 and slope=9.47*10^-2');\n",
"printf('\nVolume is the inverse of summation of intercept and slope and that is 10.52cc');\n",
"Vm=10.52;//volume in cc//\n",
"m=Vm/22400;//No. of moles of N2//\n",
"N=m*6.023*10^23;//No. of molecules of N2//\n",
"TA=N*16*10^-16;//Total area in cm^2//\n",
"A=TA/17.5;//Area per gram in cm^2//\n",
"printf('\nArea of N2 per gram=%fcm^2',A);"
   ]
   }
,
{
		   "cell_type": "markdown",
		   "metadata": {},
		   "source": [
			"## Example 4.28: Surface_area.sce"
		   ]
		  },
  {
"cell_type": "code",
	   "execution_count": null,
	   "metadata": {
	    "collapsed": true
	   },
	   "outputs": [],
"source": [
"d=13.56;//density of mercury in gr per cm^3//\n",
"V=1/d;//Volume of mercury in cm^3//\n",
"D=0.07*10^-4;//Diameter of the globule in cm//\n",
"r=D/2;//radius of globule in cm//\n",
"printf('One globule of mercury occpies a volume of 1.33*3.14*r^3cm^3\nSurface area of one globule=4*3.14*r^2');\n",
"Vg=1.33*3.14*r^3;//volume of one globule in cm^3//\n",
"y=0.0738/Vg;//No of globules in 0.0738 volume//\n",
"printf('\nNo. of globules in 0.0738cm^3=y=%f',y);\n",
"SA=y*4*3.14*r^2;//Surface area of y globules in cm^2//\n",
"printf('\nSurface area of y globules=SA=%fcm^2',SA);"
   ]
   }
,
{
		   "cell_type": "markdown",
		   "metadata": {},
		   "source": [
			"## Example 4.29: Avagadro_Number.sce"
		   ]
		  },
  {
"cell_type": "code",
	   "execution_count": null,
	   "metadata": {
	    "collapsed": true
	   },
	   "outputs": [],
"source": [
"T=300;//temperature in kelvin//\n",
"R=8.31*10^7;//Universal gas constant in ergs//\n",
"r=2*10^-5;//average radius of particles in cm//\n",
"h=4.15*10^-3;//Vertical seperation in cm//\n",
"p=1.21;//density of latex in gram per cm^3//\n",
"g=980;//gravity constant in dynes//\n",
"printf('Since the dispersion medium is water its density is p1=1.\nwhen the system equilibrated average number of colloidal particles seen in the field is halved so N0/N=2.\nthe required expression is derived based on kinetic energy of particles');\n",
"p1=1;//density of water//\n",
"L=log(2)*0.75*(R*T)/(%pi*g*h*(p-p1)*r^3);\n",
"printf('\nValue of Avagadro number is L=%f=6.037*10^23molecules per mol.',L);"
   ]
   }
,
{
		   "cell_type": "markdown",
		   "metadata": {},
		   "source": [
			"## Example 4.2: Volume_and_temperature_of_gas.sce"
		   ]
		  },
  {
"cell_type": "code",
	   "execution_count": null,
	   "metadata": {
	    "collapsed": true
	   },
	   "outputs": [],
"source": [
"V=5.6;//Volume occupied by 8g of Oxygen at 0 C in litres//\n",
"T=273;//Temperature at which 8g of Oxygen occupies 5.6litres in Kelvin//\n",
"V1=11.2;//Changed volume of 8g of Oxygen in litres//\n",
"T1=(V1*T)/V;//Temperature at which 8g of Oxygen occupies 11.6litres in kelvin// \n",
"printf('Temperature of 8g of Oxygen Occupying 11.6litres=T1=%fKelvin=273degrees',T1);"
   ]
   }
,
{
		   "cell_type": "markdown",
		   "metadata": {},
		   "source": [
			"## Example 4.30: Diameter_of_particle.sce"
		   ]
		  },
  {
"cell_type": "code",
	   "execution_count": null,
	   "metadata": {
	    "collapsed": true
	   },
	   "outputs": [],
"source": [
"Vf=117.857*10^-9;//Volume falling within field of view in ml//\n",
"AN=9.66;//Average no. of particles per count//\n",
"N=AN/Vf;//No. of particles per count//\n",
"printf('No .of particles per ml=N=%f',N);\n",
"W=1.5*10^-7;//Weight of iron oxide per ml//\n",
"w=W/N;//weight of one particle in grams//\n",
"printf('\nWeight of one particle=w=1.83*10^-15grams');\n",
"d=5.2;//density of iron oxide in g per cm^3//\n",
"V=w/d;//Volume of one particle in cm^3//\n",
"printf('\nVolume of one particle=V=3.52*10^-16cm^3');\n",
"R=2.032*10^-5;//radius of particle in cm//\n",
"printf('Radius of particle=R=2.032*10^-5cm\nDiameter of particle=4.064*10^-5cm');"
   ]
   }
,
{
		   "cell_type": "markdown",
		   "metadata": {},
		   "source": [
			"## Example 4.31: Electrokinetic_potential.sce"
		   ]
		  },
  {
"cell_type": "code",
	   "execution_count": null,
	   "metadata": {
	    "collapsed": true
	   },
	   "outputs": [],
"source": [
"D=78;//dielectric constant//\n",
"V=0.009;//viscosity of suspension in dyn sec per cm^2//\n",
"P=3.2;//potential gradient in volt per cm//\n",
"t=38.2;\n",
"d=0.033;//standard distance between electrodes in cm//\n",
"u=90000;\n",
"EP=(4*%pi*V*u*d)/(D*t*P);//Electrokinetic potential of the catalyst in volts//\n",
"printf('Electrokinetic potential of the catalyst=EP=%fvolts',EP);"
   ]
   }
,
{
		   "cell_type": "markdown",
		   "metadata": {},
		   "source": [
			"## Example 4.32: Zeta_potential.sce"
		   ]
		  },
  {
"cell_type": "code",
	   "execution_count": null,
	   "metadata": {
	    "collapsed": true
	   },
	   "outputs": [],
"source": [
"D=80.36;//dielectric constant//\n",
"V=0.01;//viscosity of suspension in dyn sec per cm^2//\n",
"P=10;//potential gradient in volt per cm//\n",
"v=3*10^-3;//observed velocity in cm per sec//\n",
"u=90000;\n",
"EP=(4*%pi*V*u*v)/(D*P);//Zeta potential of the catalyst in volts//\n",
"printf('Zeta potential of the catalyst=EP=%fvolts',EP);\n",
"printf('\nThe effective thickness of the double layer can be taken to be 1cm');\n",
"e=9*10^-4;\n",
"r=0.5*10^-4;\n",
"N=4*%pi*e*r^2;//total no. of charges carried by a particle//\n",
"printf('\nTotal no. of charges carried by a particle=N=2.83*10^-11');"
   ]
   }
,
{
		   "cell_type": "markdown",
		   "metadata": {},
		   "source": [
			"## Example 4.33: Flow_of_water.sce"
		   ]
		  },
  {
"cell_type": "code",
	   "execution_count": null,
	   "metadata": {
	    "collapsed": true
	   },
	   "outputs": [],
"source": [
"D=80.36;//dielectric constant//\n",
"V=0.01;//viscosity of suspension in dyn sec per cm^2//\n",
"P=100;//potential gradient in volt per cm//\n",
"u=90000;\n",
"EP=0.03;//Electrokinetic potential of the catalyst in volts//\n",
"FW=(P*EP*D*3600)/(4*%pi*V*u);//amount of flow of water in cm per hour//\n",
"printf('Amount of flow of water through diaphragm=FW=%fcm per hour',FW);"
   ]
   }
,
{
		   "cell_type": "markdown",
		   "metadata": {},
		   "source": [
			"## Example 4.34: Flow_of_water.sce"
		   ]
		  },
  {
"cell_type": "code",
	   "execution_count": null,
	   "metadata": {
	    "collapsed": true
	   },
	   "outputs": [],
"source": [
"D=80.36;//dielectric constant//\n",
"V=0.01;//viscosity of suspension in dyn sec per cm^2//\n",
"P=40;//potential gradient in volt per cm//\n",
"r=0.05;//radius of capillary in cm//\n",
"u=90000;\n",
"ZP=0.05;//Zeta potential of the catalyst in volts//\n",
"FW=(P*ZP*D*3600*r^2)/(4*V*u);//amount of flow of water in cc per hour//\n",
"printf('Amount of flow of water through diaphragm=FW=%fcc per hour',FW);"
   ]
   }
,
{
		   "cell_type": "markdown",
		   "metadata": {},
		   "source": [
			"## Example 4.35: Concentrations_and_EMF.sce"
		   ]
		  },
  {
"cell_type": "code",
	   "execution_count": null,
	   "metadata": {
	    "collapsed": true
	   },
	   "outputs": [],
"source": [
"C1=5*10^-4;\n",
"C2=2.5*10^-4;\n",
"x=(C1^2)/(C2+(2*C1));//The amount of Na+ transported at equilibrium in M//\n",
"printf('The amount of Na+ transported at equilibrium=x=2*10^-4M');\n",
"NaR=C2+x;//Na+ on RHS//\n",
"printf('\nNa+ on RHS=4.5*10^-4M.\nCl- on RHS=x=2*10^-4M.\nNa+ on LHS=Cl- on LHS=C1-x=3*10^-4M');\n",
"printf('\nE is in volts and F in coulombs.for homogeneity of units either R should be expressed in coulombs or F in calories.F is 96500C or 23060cal.');\n",
"F=23060;\n",
"n=1;\n",
"T=300;//temperature in kelvin//\n",
"R=2;\n",
"K=1.5;\n",
"E=(R*T*log(K))/(n*F);//Emf across membrane in volts//\n",
"printf('\nEmf across membrane=E=%fvolts',E);"
   ]
   }
,
{
		   "cell_type": "markdown",
		   "metadata": {},
		   "source": [
			"## Example 4.36: Concentrations.sce"
		   ]
		  },
  {
"cell_type": "code",
	   "execution_count": null,
	   "metadata": {
	    "collapsed": true
	   },
	   "outputs": [],
"source": [
"C1=0.04;\n",
"C2=0.02;\n",
"x=(C1^2)/(C2+(2*C1));//The amount of Na+ transported at equilibrium in M//\n",
"printf('The amount of Na+ transported at equilibrium=x=%fM',x);\n",
"NaR=C2+x;//Na+ on RHS//\n",
"printf('\nNa+ on RHS=NaR=%fM',NaR);\n",
"NaL=C1-x;//Na+ on LHS//\n",
"printf('\nNa+ on LHS=NaL=%fM',NaL);"
   ]
   }
,
{
		   "cell_type": "markdown",
		   "metadata": {},
		   "source": [
			"## Example 4.37: unit_cell_length_and_wavelength.sce"
		   ]
		  },
  {
"cell_type": "code",
	   "execution_count": null,
	   "metadata": {
	    "collapsed": true
	   },
	   "outputs": [],
"source": [
"MW=58.45;//Molar weight of NaCl in grams//\n",
"d=2.17;//density of NaCl in g/cc//\n",
"MV=MW/d;//Molar volume in cc//\n",
"printf('Molar Volume of NaCl=MV=%fcc',MV);\n",
"printf('\nThis must contain 6.023*10^23 NaCl units.\nIn one unit cell of NaCl there are 8 corner Na+ ions and 6 on the face centres.\nThe number of Na+ ions in one unit cell is 8*1/8+6*1/2=4.\nThere are 12Cl- ions on the edges,and one in the centre.\nThe number of Cl- ions are 12*1/4+1=4 ');\n",
"printf('\nThe volume of the unit cell containing 4 NaCl units=179*10^-24cc');\n",
"a=5.63*10^-8;//unit cell length in cm//\n",
"printf('\nUnit cell length of NaCl crystal=a=5.63*10^-8cm');\n",
"Id=a/2;//Interionic distance in cm//\n",
"printf('\nInterionic distance in the crystal=Id=2.815*10^-8cm');\n",
"Q=5.9;//glancing angle in degrees//\n",
"L=2*Id*sin(Q*%pi/180)*10^8;//wavelenth in angstrums//\n",
"printf('\nWavelength of the Xrays used=L=%fAngstrums',L);"
   ]
   }
,
{
		   "cell_type": "markdown",
		   "metadata": {},
		   "source": [
			"## Example 4.39: type_of_cubic_unit_cell.sce"
		   ]
		  },
  {
"cell_type": "code",
	   "execution_count": null,
	   "metadata": {
	    "collapsed": true
	   },
	   "outputs": [],
"source": [
"N=2;//No. of atoms or unit cells in BCC structure//\n",
"L=6.023*10^23;//Avagadro number//\n",
"a=4.291*10^-8;//Unit cell edge length in cm//\n",
"Na=23;//weight of Na//\n",
"p=(N*Na)/(L*a^3);//density of Na at room temperature in g/cm^3//\n",
"printf('Density of Na at room temperature=p=%fg/cm^3',p);\n",
"P=p*1.0398;//density of Na at -195degrees temperature in g/cm^3//\n",
"printf('\nDensity of Na at -195degrees temperature=P=%fg/cm^3',P);\n",
"a1=5.35*10^-8;//unit cell edge length in cm//\n",
"N1=(P*L*a1^3)/(Na);//No. of unitcells at -195degrees//\n",
"printf('\nNumber of unitcells at -195degrees=N1=%f',N1);\n",
"printf('\nAt -195degrees temperature Na have 4 unitcells which means it assumes an FCC structure.');"
   ]
   }
,
{
		   "cell_type": "markdown",
		   "metadata": {},
		   "source": [
			"## Example 4.3: Volume_and_temperature_of_gas.sce"
		   ]
		  },
  {
"cell_type": "code",
	   "execution_count": null,
	   "metadata": {
	    "collapsed": true
	   },
	   "outputs": [],
"source": [
"P=380;//pressure of 11g of CO2 at 273K in mm of Hg//\n",
"T=273;//Initial temperature of 11g of CO2 in kelvin//\n",
"V=11.2;//Volume occupied by 11g of CO2 in litres at 273K//\n",
"P1=760;//changed pressure of 11g of CO2 at 546K in mm of Hg//\n",
"T1=546;//Final temperature of 11g of CO2 in kelvin//\n",
"V1=(P*V*T1)/(T*P1);//changed volume of 11g of CO2 at 760mm pressure in litres//\n",
"printf('Volume of 11g of CO2 at 760 mm Hg pressure at 546K=V1=%flitres',V1);"
   ]
   }
,
{
		   "cell_type": "markdown",
		   "metadata": {},
		   "source": [
			"## Example 4.4: Number_of_moles.sce"
		   ]
		  },
  {
"cell_type": "code",
	   "execution_count": null,
	   "metadata": {
	    "collapsed": true
	   },
	   "outputs": [],
"source": [
"P=570/760;//pressure of 10L of H2 at 300K in Atmospheres//\n",
"T=300;//Temperature of 10L of H2 in kelvin//\n",
"V=10;//Volume occupied by H2 at 300K in litres//\n",
"R=0.082;//Value of R in litre-atmospheres//\n",
"n=(P*V)/(R*T);//Number of moles of hydrogen present//\n",
"printf('Number of moles of Hydrogen present=n=%fmol',n);"
   ]
   }
,
{
		   "cell_type": "markdown",
		   "metadata": {},
		   "source": [
			"## Example 4.5: Volume_of_dry_gas.sce"
		   ]
		  },
  {
"cell_type": "code",
	   "execution_count": null,
	   "metadata": {
	    "collapsed": true
	   },
	   "outputs": [],
"source": [
"TP=746;//Total pressure of gas at 298K in mm of Hg//\n",
"PP=24;//Partial pressure of Water vapour at 298K in mm of Hg//\n",
"PPG=TP-PP;//partial pressure of gas at 298K in mm of Hg//\n",
"printf('partial pressure of dry gas at 298k=%fmm of Hg',PPG);\n",
"V=200;//Volume occupied by gas at 298K in millilitres//\n",
"P1=760;\n",
"V1=(PPG*V)/P1;//Volume of dry gas at a pressure of 760mm Hg//\n",
"printf('\nVolume of dry gas at pressure 760mm of Hg=V1=%fml',V1);"
   ]
   }
,
{
		   "cell_type": "markdown",
		   "metadata": {},
		   "source": [
			"## Example 4.6: Partial_Pressures_of_gas.sce"
		   ]
		  },
  {
"cell_type": "code",
	   "execution_count": null,
	   "metadata": {
	    "collapsed": true
	   },
	   "outputs": [],
"source": [
"mA=0.11;//amount of gas A in grams//\n",
"MWA=44;//Molecular weight of gas A in grams//\n",
"nA=mA/MWA;//No. of moles of gas A//\n",
"printf('No. of moles of gas A=nA=%fmol',nA);\n",
"mB=0.17;//amount of gas B in grams//\n",
"MWB=34;//Molecular weight of gas B in grams//\n",
"nB=mB/MWB;//No. of moles of gas B//\n",
"printf('\nNo. of moles of gas B=nB=%fmol',nB);\n",
"MFA=nA/(nA+nB);//mole fraction of gas A//\n",
"printf('\nmole fraction of gas A=MFA=%f',MFA);\n",
"MFB=nB/(nA+nB);//mole fraction of gas B//\n",
"printf('\nmole fraction of gas B=MFB=%f',MFB);\n",
"PPA=MFA*759;//Partial pressure of gas A//\n",
"printf('\nPartial pressure of gas A=PPA=%fmm of Hg',PPA);\n",
"PPB=MFB*759;//Partial pressure of gas B//\n",
"printf('\nPartial pressure of gas B=PPB=%fmm of Hg',PPB);"
   ]
   }
,
{
		   "cell_type": "markdown",
		   "metadata": {},
		   "source": [
			"## Example 4.7: Total_pressure_of_mixture.sce"
		   ]
		  },
  {
"cell_type": "code",
	   "execution_count": null,
	   "metadata": {
	    "collapsed": true
	   },
	   "outputs": [],
"source": [
"P1=0.3;//pressure of gas A in atm//\n",
"VA=50;//volume of gas A in ml//\n",
"V=500;//Volume of vessel in ml//\n",
"PA=P1*VA/V;//Pressure of gas A in vessel//\n",
"printf('Pressure of gas A in vessel=PA=%fatm',PA);\n",
"P2=0.4;//pressure of gas B in atm//\n",
"VB=250;//volume of gas B in ml//\n",
"PB=P2*VB/V;//Pressure of gas A in vessel//\n",
"printf('\nPressure of gas B in vessel=PB=%fatm',PB);\n",
"P=PA+PB;//Total pressure in vessel in atm//\n",
"printf('\nTotal pressure in vessel=P=%fatm',P);"
   ]
   }
,
{
		   "cell_type": "markdown",
		   "metadata": {},
		   "source": [
			"## Example 4.8: Density_of_hydrogen.sce"
		   ]
		  },
  {
"cell_type": "code",
	   "execution_count": null,
	   "metadata": {
	    "collapsed": true
	   },
	   "outputs": [],
"source": [
"printf('The volume of 1 mole of H2 at 1 atm and 273.15K=22.415Litres');\n",
"printf('\nThe volume at 0.5atm is obtained by considering the constancy of PV');\n",
"P1=1;\n",
"V1=22.415;\n",
"P2=0.5;\n",
"V2=(P1*V1)/P2;//Volume at 0.5atm in litres//\n",
"printf('\nVolume at 0.5atm of H2 at 273.15K=V2=%fLitres',V2);\n",
"MH2=2;//molecular weight of H2//\n",
"DH2=MH2/V2;//density of H2 in gram per litre//\n",
"printf('\nDensity of H2=DH2=%fgram per litre',DH2);"
   ]
   }
,
{
		   "cell_type": "markdown",
		   "metadata": {},
		   "source": [
			"## Example 4.9: Density_of_hydrogen.sce"
		   ]
		  },
  {
"cell_type": "code",
	   "execution_count": null,
	   "metadata": {
	    "collapsed": true
	   },
	   "outputs": [],
"source": [
"printf('One mole of H2 Occupies 22.415Litres at 273.15K');\n",
"printf('\nThe volume at 300K is obtained by considering the constancy of V/T');\n",
"T1=273.15;\n",
"V1=22.415;\n",
"T2=300.15;\n",
"V2=(V1/T1)*T2;//Volume at 300K in litres//\n",
"printf('\nVolume of 1mole of H2 at 300.15K=V2=%fLitres',V2);\n",
"MH2=2;//molecular weight of H2//\n",
"DH2=MH2/V2;//density of H2 in gram per litre//\n",
"printf('\nDensity of H2=DH2=%fgram per litre',DH2);"
   ]
   }
],
"metadata": {
		  "kernelspec": {
		   "display_name": "Scilab",
		   "language": "scilab",
		   "name": "scilab"
		  },
		  "language_info": {
		   "file_extension": ".sce",
		   "help_links": [
			{
			 "text": "MetaKernel Magics",
			 "url": "https://github.com/calysto/metakernel/blob/master/metakernel/magics/README.md"
			}
		   ],
		   "mimetype": "text/x-octave",
		   "name": "scilab",
		   "version": "0.7.1"
		  }
		 },
		 "nbformat": 4,
		 "nbformat_minor": 0
}
