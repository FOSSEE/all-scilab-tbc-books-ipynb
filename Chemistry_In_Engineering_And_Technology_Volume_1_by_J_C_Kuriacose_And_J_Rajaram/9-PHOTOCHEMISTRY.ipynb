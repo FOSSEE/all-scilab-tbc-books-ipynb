{
"cells": [
 {
		   "cell_type": "markdown",
	   "metadata": {},
	   "source": [
       "# Chapter 9: PHOTOCHEMISTRY"
	   ]
	},
{
		   "cell_type": "markdown",
		   "metadata": {},
		   "source": [
			"## Example 9.1: Optical_path_of_the_cell.sce"
		   ]
		  },
  {
"cell_type": "code",
	   "execution_count": null,
	   "metadata": {
	    "collapsed": true
	   },
	   "outputs": [],
"source": [
"printf('Let M be the Molecular weight of the dye.Original concentration is 30.1/M mol litre^-1');\n",
"I0=100;\n",
"I=50;\n",
"b=1;\n",
"A=log10(I0/I);\n",
"printf('\nFrom Beers law=A=%f',A);\n",
"x=A/30.1;\n",
"printf('\na/M=%f',x);\n",
"c=15.05;\n",
"I=70.7;\n",
"printf('\nPercentage of light transmitted=I=%f',I);\n",
"AI=100-I;\n",
"printf('\nPercentage of light absorbed=AI=%f',AI);\n",
"c=60.2;\n",
"I=25;\n",
"printf('\nPercentage of light transmitted=I=%f',I);\n",
"AI=100-I;\n",
"printf('\nPercentage of light absorbed=AI=%f',AI);\n",
"printf('\nIt must be noted that it is absorbance A that is linearly related to concentration and not percentage light transmitted or absorbed');\n",
"b=2;\n",
"c=30.1;\n",
"I=25;\n",
"printf('\nPercentage of light transmitted=I=%f',I);\n",
"b=4.32;\n",
"printf('\nb=%fcm',b);\n",
""
   ]
   }
,
{
		   "cell_type": "markdown",
		   "metadata": {},
		   "source": [
			"## Example 9.2: Rate_of_formatio.sce"
		   ]
		  },
  {
"cell_type": "code",
	   "execution_count": null,
	   "metadata": {
	    "collapsed": true
	   },
	   "outputs": [],
"source": [
"c=3*10^10;//velocity of light in cm//\n",
"h=6.625*10^-27;//plank's constant//\n",
"L=6.02*10^23;//Avagadro number//\n",
"l=3020*10^-8;//wavelength of light radiation in cm//\n",
"E=(L*h*c)/l;//value of one einstein in ergs//\n",
"printf('Value of one einstein=E=%f=3.96*10^12ergs',E);\n",
"LA=15000;//light absorbed in ergs per second//\n",
"NE=LA/E;//number of einsteins absorbed per second//\n",
"printf('\nNumber of Einsteins absorbed per second=NE=3.788*10^-9');\n",
"QY=0.54;//Quantum yield for CO formation//\n",
"N=QY*NE;//number of moles of CO formed per sec//\n",
"printf('\nNumber of moles of Co formed per sec=N=2.046*10^-9');\n",
"R=2.046*10^-9;//Rate of formation of CO in moles per sec//\n",
"printf('\nRate of formation of CO=R=2.046*10^-9 moles per sec');"
   ]
   }
],
"metadata": {
		  "kernelspec": {
		   "display_name": "Scilab",
		   "language": "scilab",
		   "name": "scilab"
		  },
		  "language_info": {
		   "file_extension": ".sce",
		   "help_links": [
			{
			 "text": "MetaKernel Magics",
			 "url": "https://github.com/calysto/metakernel/blob/master/metakernel/magics/README.md"
			}
		   ],
		   "mimetype": "text/x-octave",
		   "name": "scilab",
		   "version": "0.7.1"
		  }
		 },
		 "nbformat": 4,
		 "nbformat_minor": 0
}
