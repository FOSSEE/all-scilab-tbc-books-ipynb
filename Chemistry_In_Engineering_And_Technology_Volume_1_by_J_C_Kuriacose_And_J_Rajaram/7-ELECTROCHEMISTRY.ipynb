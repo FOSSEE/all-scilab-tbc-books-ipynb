{
"cells": [
 {
		   "cell_type": "markdown",
	   "metadata": {},
	   "source": [
       "# Chapter 7: ELECTROCHEMISTRY"
	   ]
	},
{
		   "cell_type": "markdown",
		   "metadata": {},
		   "source": [
			"## Example 7.10: Solubility_of_BaSO4.sce"
		   ]
		  },
  {
"cell_type": "code",
	   "execution_count": null,
	   "metadata": {
	    "collapsed": true
	   },
	   "outputs": [],
"source": [
"SCsat=4.63*10^-6;//Specific conductance of saturated solution in ohm^-1cm^-1//\n",
"SCused=1.12*10^-6;//specific conductance of the water used in the experiment//\n",
"SC0Na2SO4=130.1;//specific conductance of Na2SO4 in ohm^-1cm^-1//\n",
"SC0BaCl2=139.9;//specific conductance of 1/2BaCl2 in ohm^-1cm^-1//\n",
"SC0NaCl=126.5;//specific conductance of NaCl in ohm^-1cm^-1//\n",
"SC0=SC0Na2SO4-SC0NaCl+SC0BaCl2;//effective specific conductance in ohm^-1cm^2//\n",
"printf('SC0=%fohm^-1cm^-1',SC0);\n",
"SC=SCsat-SCused;\n",
"printf('\nSpecific conductance of the experiment=SC=%f=3.51*10^-6ohm^-1cm^-1',SC);\n",
"S=(SC*1000)/SC0;//Solubility of the solution//\n",
"printf('\nSolubility of the solution=S=%f=2.437*10^-5gram equivalent per litre',S);\n",
"printf('\n1mol of BaSO4=2equivalents')\n",
"SBaSO4=S/2;//Solubility of the BaSO4 solution//\n",
"printf('\nSolubility of the BaSO4 solution=SBaSO4=%f=1.218*10^-5mol litre^-1',SBaSO4);"
   ]
   }
,
{
		   "cell_type": "markdown",
		   "metadata": {},
		   "source": [
			"## Example 7.11: Iconic_strength.sce"
		   ]
		  },
  {
"cell_type": "code",
	   "execution_count": null,
	   "metadata": {
	    "collapsed": true
	   },
	   "outputs": [],
"source": [
"M1=0.1;//molarity of KCl//\n",
"IKCl=0.5*(M1*1^2+M1*1^2);//Iconic strength of KCl//\n",
"printf('Iconic strength of KCl=IKCl=%f',IKCl);\n",
"M2=0.2;//molarity of K2SO4//\n",
"IK2SO4=0.5*(2*M2*1^2+M2*2^2);//Iconic strength of K2SO4//\n",
"printf('\nIconic strength of K2SO4=IK2SO4=%f',IK2SO4);\n",
"M3=0.2;//molarity of MgCl2//\n",
"IMgCl2=0.5*(M3*2^2+2*M3*1^2);//Iconic strength of MgCl2//\n",
"printf('\nIconic strength of MgCl2=IMgCl2=%f',IMgCl2);\n",
"I=IKCl+IK2SO4+IMgCl2;//total iconic strength of the mixture//\n",
"printf('\nTotal Iconic strength of the mixture=I=%f',I);"
   ]
   }
,
{
		   "cell_type": "markdown",
		   "metadata": {},
		   "source": [
			"## Example 7.12: Maximum_concentration.sce"
		   ]
		  },
  {
"cell_type": "code",
	   "execution_count": null,
	   "metadata": {
	    "collapsed": true
	   },
	   "outputs": [],
"source": [
"r=0.96;\n",
"I=(log10(r)/-0.51)^2;//Iconic strength of the HCl solution//\n",
"printf('Iconic strength of the HCl solution=I=%f',I);\n",
"printf('\nHCl being a 1,1 electrolyte I=c');\n",
"printf('\nSo the maximum concentration of HCl to be used=I=c=1.20*10^-3');"
   ]
   }
,
{
		   "cell_type": "markdown",
		   "metadata": {},
		   "source": [
			"## Example 7.13: Concentrations_of_ions.sce"
		   ]
		  },
  {
"cell_type": "code",
	   "execution_count": null,
	   "metadata": {
	    "collapsed": true
	   },
	   "outputs": [],
"source": [
"w=3.55;//weight of the salt in grams//\n",
"MW=258.2;//Molecular weight of the salt//\n",
"printf('KAl(SO4)2 = K+ + Al3+ + 2SO42-');\n",
"c=w*4/MW;//Concentration of the salt//\n",
"printf('\nConcentration of the salt=c=%fM',c);\n",
"SO4=2*c;//Concentration of SO42- in the solution//\n",
"printf('\nconcentration of K+ = Al3+ =%fM',c);\n",
"printf('\nConcentration of SO42- =%fM',SO4);"
   ]
   }
,
{
		   "cell_type": "markdown",
		   "metadata": {},
		   "source": [
			"## Example 7.14: Ionization_strength.sce"
		   ]
		  },
  {
"cell_type": "code",
	   "execution_count": null,
	   "metadata": {
	    "collapsed": true
	   },
	   "outputs": [],
"source": [
"c=0.1;//concentration of the solution//\n",
"a=1.332*10^-2;//Ionization constant//\n",
"Ka=(c*a^2)/(1-a);\n",
"printf('CH3COOH = CH3COO- + H+');\n",
"printf('\nKa value for the reaction=Ka=%f=1.799*10^-5',Ka);"
   ]
   }
,
{
		   "cell_type": "markdown",
		   "metadata": {},
		   "source": [
			"## Example 7.15: Ionization_strength.sce"
		   ]
		  },
  {
"cell_type": "code",
	   "execution_count": null,
	   "metadata": {
	    "collapsed": true
	   },
	   "outputs": [],
"source": [
"c=0.1;//concentration of the solution//\n",
"Kb=1.8*10^-5;\n",
"printf('The value of a should be calculated first using Kb=(c*a^2)/(1-a)\nThis gives rise to a quadratic equation which can be solved to obtain the value of a.');\n",
"printf('\nUsually it is permissible to use approximation methods if K<10^-5\nOne can neglect a in comparison to 1 and solve for a.\nA better way is to use the method of succesive approximations.\nThis will be illustrated using the above equation');\n",
"printf('\nFirst find the approximate value of a by neglecting the value of a in comparison with 1.\nLet the approximate value be a1');\n",
"a1=1.342*10^-2;\n",
"a2=1.332*10^-2;\n",
"printf('\nWe repeat this procedure till 2 consecutive values of a do not differ significantly.');\n",
"a3=1.332*10^-2;\n",
"OH=a3*c;//concentration of OH- in the solution//\n",
"printf('\nSince the values of a2 and a3 are the same the correct value of a=1.332*10^-2\nThe approximate value is greater than the correct value by about 1percent.');\n",
"printf('\nThe concentration of OH- =%f=1.332*10^-3M',OH); "
   ]
   }
,
{
		   "cell_type": "markdown",
		   "metadata": {},
		   "source": [
			"## Example 7.18: Relative_strengths.sce"
		   ]
		  },
  {
"cell_type": "code",
	   "execution_count": null,
	   "metadata": {
	    "collapsed": true
	   },
	   "outputs": [],
"source": [
"Kw=1.0^10^-14;\n",
"KH1=1.0*10^-5;//KH value of H+ ion in RCOOH//\n",
"KH2=1.0^10^-10;//KH value of H+ ion in HCN//\n",
"Kb1=Kw/KH1;//Kb value for RCOO- ion//\n",
"printf('Kb value for RCOO- ion=10^-9 ');\n",
"Kb2=Kw/KH2;//Kb value for CN- ion//\n",
"printf('\nKb value for CN- ion=10^-4');\n",
"printf('\nCN- is about 10^5 times stronger than RCOO- as a base.');"
   ]
   }
,
{
		   "cell_type": "markdown",
		   "metadata": {},
		   "source": [
			"## Example 7.19: PH_of_the_solutions.sce"
		   ]
		  },
  {
"cell_type": "code",
	   "execution_count": null,
	   "metadata": {
	    "collapsed": true
	   },
	   "outputs": [],
"source": [
"c1=1;//concentration of HCl//\n",
"PH1=-log10(c1);\n",
"printf('PH for the 1M HCl solution=PH1=%f',PH1);\n",
"c2=5.2*10^-4;//concentration of H+ in the solution//\n",
"PH2=-log10(c2);\n",
"printf('\nPH for the solution=PH2=%f',PH2);\n",
"c3=0.025;//concentration of 0.025M HClO4//\n",
"PH3=-log10(c3);\n",
"printf('\nPH for the 0.025M HClO4 solution=PH3=%f',PH3);\n",
"PH4=4.45;\n",
"c4=10^(-PH4);//concentration of the solution//\n",
"printf('\nConcentration of the solution=c4=%f=3.548*10^-5',c4);\n",
"POH5=1.30;\n",
"PH5=14-POH5;\n",
"c5=10^(-PH5);//concentration of the solution//\n",
"printf('\nConcentration of the solution=c5=1.995*10^-13');"
   ]
   }
,
{
		   "cell_type": "markdown",
		   "metadata": {},
		   "source": [
			"## Example 7.1: Number_of_electrons_per_second.sce"
		   ]
		  },
  {
"cell_type": "code",
	   "execution_count": null,
	   "metadata": {
	    "collapsed": true
	   },
	   "outputs": [],
"source": [
"q=4.0*10^-3;//quantity of electricity in coulombs//\n",
"e=1.6*10^-19;//charge of an electron in coulombs//\n",
"N=q/e;//no. of electrons per second//\n",
"printf('No. of electrons per second=N=%f=2.5*10^16',N);"
   ]
   }
,
{
		   "cell_type": "markdown",
		   "metadata": {},
		   "source": [
			"## Example 7.20: PH_and_POH_of_the_solutions.sce"
		   ]
		  },
  {
"cell_type": "code",
	   "execution_count": null,
	   "metadata": {
	    "collapsed": true
	   },
	   "outputs": [],
"source": [
"a=1.33*10^-2;//Ionization constant//\n",
"c=0.1;//concentration of the solution//\n",
"OH=a*c;\n",
"printf('OH- =a*c=1.33*10^-3');\n",
"POH=-log10(OH);//POH of the solution//\n",
"printf('\nPOH of the solution=POH=%f',POH);\n",
"PH=14-POH;//PH of the solution//\n",
"printf('\nPH of the solution=PH=%f',PH);"
   ]
   }
,
{
		   "cell_type": "markdown",
		   "metadata": {},
		   "source": [
			"## Example 7.21: PH_of_the_solutio.sce"
		   ]
		  },
  {
"cell_type": "code",
	   "execution_count": null,
	   "metadata": {
	    "collapsed": true
	   },
	   "outputs": [],
"source": [
"c=0.01;//concentration of the solution//\n",
"r=10^(-0.51*sqrt(c));\n",
"printf('r=%f',r);\n",
"a=r*c;//ionization constant//\n",
"printf('\nIonization constant=a=%f',a);\n",
"PH=-log10(a);//PH of the solution//\n",
"printf('\nPH of the solution=PH=%f',PH);\n",
"printf('\nBy assuming ideal behaviour PH=-log10(10^-2)=2.00');"
   ]
   }
,
{
		   "cell_type": "markdown",
		   "metadata": {},
		   "source": [
			"## Example 7.22: PH_of_a_buffer_solutio.sce"
		   ]
		  },
  {
"cell_type": "code",
	   "execution_count": null,
	   "metadata": {
	    "collapsed": true
	   },
	   "outputs": [],
"source": [
"CNH3=0.1;//concentration of NH3 solution//\n",
"CNH4Cl=0.1;//concentration of NH4Cl solution//\n",
"POH=4.74;\n",
"PH=14-POH+log10(CNH3/CNH4Cl);\n",
"printf('PH of the solution=PH=%f',PH);\n",
"printf('\nOn adding 0.01mol of HCl,assuming that no volume change occurs,0.01mol of NH4Cl is produced.\nTherefore,the concentration of NH3 decreases by 0.01 and that of NH4Cl increases by 0.01 ');\n",
"C1NH3=0.09;\n",
"C1NH4Cl=0.11;\n",
"PH1=14-POH+log10(C1NH3/C1NH4Cl);\n",
"printf('\nPH of the solution=PH1=%f',PH1);\n",
"printf('\nOn adding 0.01mol of NaOH,assuming that no volume change occurs,0.01mol of NH3 is produced.\nTherefore,the concentration of NH3 increases by 0.01 and that of NH4Cl decreases by 0.01 ');\n",
"C2NH3=0.11;\n",
"C2NH4Cl=0.09;\n",
"PH2=14-POH+log10(C2NH3/C2NH4Cl);\n",
"printf('\nPH of the solution=PH2=%f',PH2);"
   ]
   }
,
{
		   "cell_type": "markdown",
		   "metadata": {},
		   "source": [
			"## Example 7.23: Hydrolysis_constant_and_degree_of_hydrolysis.sce"
		   ]
		  },
  {
"cell_type": "code",
	   "execution_count": null,
	   "metadata": {
	    "collapsed": true
	   },
	   "outputs": [],
"source": [
"c=0.1;//concentration of the solution//\n",
"Kw=1.0*10^-14;\n",
"Ka=7.24*10^-10;//dissociation constant of HCN//\n",
"printf('For a salt of this type the hydrolysis reaction is\nCN- +H2O = HCN + OH-');\n",
"Kh=Kw/Ka;//hydrolysis constant//\n",
"printf('\nHydrolysis constant of the solution=Kh=%f=1.381*10^-5',Kh);\n",
"printf('\nIonization constant is generally calculated using  Kh=(c*a^2)/(1-a)');\n",
"printf('\nIonization constant=a=0.011680=1.168*10^-2');\n",
"printf('\nThe degree of hydrolysis is 1.168percent');\n",
"PKw=23.14;\n",
"PH=0.5*(PKw+log10(c));//PH of the 0.1M NaCN solution//\n",
"printf('\nPH of the 0.1M NaCN solution=PH=%f',PH);"
   ]
   }
,
{
		   "cell_type": "markdown",
		   "metadata": {},
		   "source": [
			"## Example 7.25: Solubility.sce"
		   ]
		  },
  {
"cell_type": "code",
	   "execution_count": null,
	   "metadata": {
	    "collapsed": true
	   },
	   "outputs": [],
"source": [
"MW=332;//molecular weight of Ag2CrO4 in grams//\n",
"s=2.5*10^-2;//solubility of Ag2CrO4 in g per litre//\n",
"S=s/MW;//Solubility of Ag2CrO4 in mol per litre//\n",
"printf('Solubility of Ag2CrO4=S=%f=7.5*10^-5mol per litre',S);\n",
"Ag=2*7.5*10^-5;//Solubility of Ag component in mol per litre//\n",
"CrO4=7.5*10^-5;//Solubility of CrO4 component in mol per litre//\n",
"Ksp=Ag*CrO4;//value of Ksp//\n",
"printf('\nValue of Ksp for the reaction=Ksp=%f=1.7*10^-12',Ksp);\n",
"MWAgCl=143.5;//Molecular weight of AgCl//\n",
"Ksp1=1.1*10^-10;//Ksp value of AgCl//\n",
"S1=sqrt(Ksp1);//Solubility of AgCl in mol per litre//\n",
"printf('\nSolubility of AgCl=S1=%f=1.05*10^-5mol per litre',S1);\n",
"s1=S1*MWAgCl;//solubility of AgCl in g per litre//\n",
"printf('\nSolubility of AgCl=s1=%f=1.50*10^-3gram per litre',s1);"
   ]
   }
,
{
		   "cell_type": "markdown",
		   "metadata": {},
		   "source": [
			"## Example 7.26: Solubility_product.sce"
		   ]
		  },
  {
"cell_type": "code",
	   "execution_count": null,
	   "metadata": {
	    "collapsed": true
	   },
	   "outputs": [],
"source": [
"MW=372;//molecular weight of Li3Na3(AlF6)2 in grams//\n",
"s=0.74;//solubility of Li3Na3(AlF6)2 in g per litre//\n",
"S=s/MW;//Solubility of Li3Na3(AlF6)2 in mol per litre//\n",
"printf('Solubility of Li3Na3(AlF6)2=S=%fmol per litre',S);\n",
"Li=3*S;//Solubility of Li component in mol per litre//\n",
"Na=3*S;//Solubility of Na component in mol per litre//\n",
"AlF6=2*s;//Solubility of AlF6 component in mol per litre//\n",
"Ksp=(Li^3)*(Na^3)*(AlF6^2);//value of Solubility product//\n",
"printf('\nValue of Ksp for the reaction=Ksp=%f=7.47*10^-19',Ksp);"
   ]
   }
,
{
		   "cell_type": "markdown",
		   "metadata": {},
		   "source": [
			"## Example 7.27: Concentrations_of_ions.sce"
		   ]
		  },
  {
"cell_type": "code",
	   "execution_count": null,
	   "metadata": {
	    "collapsed": true
	   },
	   "outputs": [],
"source": [
"Ksp=2.2*10^-8;//Solubility product of PbSO4//\n",
"Pb=0.01;//concentration of Pb in Pb(NO3)2//\n",
"SO4=Ksp/Pb;//Concentration of SO4 in PbSO4 solution//\n",
"printf('Let us first calculate the maximum concentration of SO4 that can remain in equilibrium with PbSO4 if the concentration of Pb is 0.01M');\n",
"printf('\nConcentration of SO4 in PbSO4 solution=Ksp=2.2*10^-6M\nThe concentration of SO4 should be greater than 2.2*10^-4M in order to precipitate Pb from a 0.01M solution as PbSO4');\n",
"Pb2=Ksp/0.001;\n",
"printf('\nConcentration of Pb in PbSO4 solution=Pb2=2.2*10^-5mol per litre');\n",
"printf('\nHence out of 0.01moles of Pb in a litre only 2.2*10^-5mol per litre remain in solution.the precipitation is almost 99.78percent complete.');\n",
"printf('\nTherefore it can be said that Pb is quantitatively precipitated in these conditions.');"
   ]
   }
,
{
		   "cell_type": "markdown",
		   "metadata": {},
		   "source": [
			"## Example 7.28: Concentrations_of_ions.sce"
		   ]
		  },
  {
"cell_type": "code",
	   "execution_count": null,
	   "metadata": {
	    "collapsed": true
	   },
	   "outputs": [],
"source": [
"Cu=0.1;//concentration of Cu2+ ions in the solution//\n",
"Mn=0.1;//concentration of Mn2+ ions in the solution//\n",
"H=0.3;//concentration of H+ ions in the solution//\n",
"KspCuS=1.0*10^-44;//Solubility product of CuS//\n",
"KspMnS=1.4*10^-15;//Solubility product of MnS//\n",
"K1=9.1*10^-8;//K1 value of the H2S solution//\n",
"K2=1.2*10^-15;//K2 value of the H2S solution//\n",
"K=K1*K2;//K value of H2S//\n",
"printf('K value of H2S solution=K=1.1*10^-22');\n",
"S2=K/H^2;//Concentration of S2- in the solution//\n",
"printf('Concentration of S2 in the solution=1.22*10^-22\nThe Iconic product of CuS=1.22*10^-22*10^-1 is >> Ksp for CuS and so it precipitates.');\n",
"printf('\nIf MnS were to precipitate the S2 should be greater than the equilibrium concentration of S2\ni.e Mn*S2 = 1.4*10^-15 so S2eq=1.4*10^-14');\n",
"printf('\nThe S2 should be greater than 1.4*10^-14 so that MnS will precipitate.\nLet the S2 desired be 1.1*10^-11\nIn order to get this concentration of S2 the required H is 10^-6M');\n",
"printf('\nThe solution should have a PH of greater than 6 i.e PH >> 6');"
   ]
   }
,
{
		   "cell_type": "markdown",
		   "metadata": {},
		   "source": [
			"## Example 7.29: precipitation_of_cation.sce"
		   ]
		  },
  {
"cell_type": "code",
	   "execution_count": null,
	   "metadata": {
	    "collapsed": true
	   },
	   "outputs": [],
"source": [
"Al=0.01;//concentration of Al3+ ions in the solution//\n",
"Mg=0.01;//concentration of Mg2+ ions in the solution//\n",
"NH4Cl=2;//concentration of NH4Cl in the solution//\n",
"printf('NH3 + H2O = NH4+ + OH-');\n",
"KspMgOH2=3.4*10^-11;//Solubility product of Mg(OH)2//\n",
"KspAlOH3=5.0*10^-33;//Solubility product of Al(OH)3//\n",
"Kb=1.8*10^-5;//Kb value of the NH3//\n",
"printf('\nNH4+ in solution = NH4+ from added NH4Cl that derived from the reaction between NH3 and H2O = NH4+ from NH4Cl(since the other quantity is too small)');\n",
"printf('\nNH3 = Original concentration since amount dissociated is very low\nwe get OH- = 1.8*10^-5\nThe iconic product for Mg(OH)2 is (Mg2+)(OH-)^2 or (10^-2)(1.8*10^-5)^2 i.e 3.24*10^-12\nIt is less than 3.4*10^-11,Ksp,So it is not precipitated.');\n",
"printf('\nHowever,in the case of Al(OH)3 the Iconic product=(10^-2)(1.8*10^-5)^3=5.832*10^-17>>The Ksp for Al(OH)3 i.e 5.0*10^-33.');\n",
"printf('\nso Al(OH)3 gets precipitated.');"
   ]
   }
,
{
		   "cell_type": "markdown",
		   "metadata": {},
		   "source": [
			"## Example 7.2: Thickness_of_the_deposit.sce"
		   ]
		  },
  {
"cell_type": "code",
	   "execution_count": null,
	   "metadata": {
	    "collapsed": true
	   },
	   "outputs": [],
"source": [
"i=3;//current passed through the solution in amps//\n",
"t=5;//amount of time current passed through in hours//\n",
"q=(i*t)/26.8;//quantity of electricity passed in farads//\n",
"printf('Quantity of electricity passed=q=%fFarads',q);\n",
"printf('\nIf all the current is used in the deposition of Ni,i.e 100percent efficiency 0.56 equivalents of Ni should be deposited at the cathode.');\n",
"N=0.56*0.60;//No. of equivalents of Ni deposited//\n",
"printf('\nNo. of equivalents of Ni deposited=N=%f',N);\n",
"w=58.71;//weight of Ni in grams//\n",
"wd=N*w/2;//weight of Ni actually deposited in grams//\n",
"printf('\nWeight of Ni actually deposited=wd=%fgrams',wd);\n",
"TA=32;//total area of the cathode in cm^2 for 2faces//\n",
"d=8.9;//density of Ni in gram per cm^3//\n",
"V=wd/d;//volume of the Ni deposited in cm^3//\n",
"printf('\nVolume of the Ni deposited=V=%fcm^3',V);\n",
"T=V/TA;//thickness of the deposit in cm//\n",
"printf('\nThickness of the deposit=T=%fcm',T);\n",
"printf('\nOut of 0.56Farad, 0.336Farad is used for Ni deposition\nhence 0.224Farad is used for liberation of hydrogen.');\n",
"printf('\n0.224 equivalent of hydrogen is=11.2*0.224=2.51litres.');"
   ]
   }
,
{
		   "cell_type": "markdown",
		   "metadata": {},
		   "source": [
			"## Example 7.30: PH_of_the_solution_for_precipitation.sce"
		   ]
		  },
  {
"cell_type": "code",
	   "execution_count": null,
	   "metadata": {
	    "collapsed": true
	   },
	   "outputs": [],
"source": [
"Fe=0.01;//concentration of Fe3+ ions in the solution//\n",
"Ksp=3.8*10^-38;//Solubility product of Fe(OH)3//\n",
"OH=(Ksp/Fe)^0.333;//Concentration of OH- ions in the solution//\n",
"printf('Concentration of OH- ions in the solution=OH=%f=1.561*10^-12',OH);\n",
"printf('\nAt this PH,Fe(OH)3 starts precipitating and precipitation is complete (Fe3+)=10^-6M\n(10^-6)(OH-)^3 = 3.8*10^-38 ');\n",
"printf('\nupon solving this we get (OH-)=3.362*10^-11\nPOH=10.48 or PH=3.52');\n",
"printf('\nAt this PH the precipitation of Fe(OH)3 is almost complete.');"
   ]
   }
,
{
		   "cell_type": "markdown",
		   "metadata": {},
		   "source": [
			"## Example 7.31: Solubility_of_CaF2.sce"
		   ]
		  },
  {
"cell_type": "code",
	   "execution_count": null,
	   "metadata": {
	    "collapsed": true
	   },
	   "outputs": [],
"source": [
"C=0.01;//concentration of Ca(NO3)2 solution//\n",
"Ksp=3.2*10^-11;//Solubility product of Fe(OH)3//\n",
"printf('CaF2 = Ca2+ + 2F-\n(Ca2+)(F-)^2 = 4*S^3 = 3.2*10^-11.');\n",
"printf('\nLet S1 be the solubility in 0.01M Ca(NO3)2\nCa(NO3)2 can be assumed to dissociate completely so that (Ca2+) from Ca(NO3)2 is 0.01M');\n",
"S=(Ksp/4)^0.33;//solubility in mol per litre//\n",
"printf('\nSolubility of CaF2 solution=S=%f=2.18*10^-4mol per litre',S);\n",
"printf('\nThe solubility product relationship should be true,irrespective of the source Ca2+\nCompared to the concentration of Ca2+ ions obtained from Ca(NO3)2,that of Ca2+ ions from CaF2 is negligible');\n",
"S1=sqrt(Ksp/0.04);//solubility in 0.01M ca(NO3)2//\n",
"printf('\nBut the F- ions are obtained only from CaF2 and so (F-)=2*S1\nKsp = 3.2*10^-11=(S1+0.01)*(2*S1)^2=(0.01)*(2*S1)^2 since S1 is negligible compared to 0.01');\n",
"printf('\nSolubility in 0.01M Ca(NO3)2 solution=S1=%f=2.83*10^-5',S1);\n",
"printf('\nThus the value of S1 can be seen to be less than that of S');"
   ]
   }
,
{
		   "cell_type": "markdown",
		   "metadata": {},
		   "source": [
			"## Example 7.32: dG_dH_dS_of_the_reactio.sce"
		   ]
		  },
  {
"cell_type": "code",
	   "execution_count": null,
	   "metadata": {
	    "collapsed": true
	   },
	   "outputs": [],
"source": [
"T=298;//temperature in kelvin//\n",
"E=0.22;//emf of the cell in volts//\n",
"dE=-0.00065;//Temperature coefficient of the emf in volt per degree//\n",
"c=4.184;//1 cal =4.184 joules//\n",
"n=1;\n",
"F=96500;//1Farad value//\n",
"printf('The positive electrode is the cathode and the negative electrode is the anode in a galvanic cell\nAnode reaction 1/2H2 = H+ + e-\nCathode reaction AgCl + e- = Ag+ + Cl-\nCell reaction 1/2H2 + AgCl = Ag+ + H+ + Cl-');\n",
"dG=-n*F*E/c;//free energy change in the cell in cal per mol//\n",
"printf('\nFree energy change in the cell=dG=%fcal per mol',dG);\n",
"dH=dG+(n*F*T*dE/c);//Enthalpy change in the cell//\n",
"printf('\nEnthalpy change in the cell=dH=%fcal per mol',dH);\n",
"dS=(dH-dG)/T;//Entropy change in the cell in cal per deg//\n",
"printf('\nEntropy change in the cell=dS=%fcal per deg',dS);"
   ]
   }
,
{
		   "cell_type": "markdown",
		   "metadata": {},
		   "source": [
			"## Example 7.3: time_of_current_supply.sce"
		   ]
		  },
  {
"cell_type": "code",
	   "execution_count": null,
	   "metadata": {
	    "collapsed": true
	   },
	   "outputs": [],
"source": [
"i=5*10^-3;//steady current given by the cell in amps//\n",
"w=1.7399;//amount of MnO2 used in grams//\n",
"MW=86.95;//molecular weight of MnO2 in grams//\n",
"F=96500;//farad value in coulombs//\n",
"C=0.02*F;//charge value in coulombs//\n",
"printf('From the cathode reaction 2mol of MnO2=2Farad.');\n",
"printf('\n0.02Farad means  the charge=C=%fCoulombs.',C);\n",
"q=1930;//charge in coloumbs corresponding to 0.02Farad//\n",
"t=q/i;//amount of time cell suplies the current in seconds//\n",
"printf('\nAmount of time cell supplies the current=t=%f=3.86*10^5seconds',t); "
   ]
   }
,
{
		   "cell_type": "markdown",
		   "metadata": {},
		   "source": [
			"## Example 7.4: Cell_constant_and_equivalent_conductance.sce"
		   ]
		  },
  {
"cell_type": "code",
	   "execution_count": null,
	   "metadata": {
	    "collapsed": true
	   },
	   "outputs": [],
"source": [
"C=2.768*10^-3;//conductivity of the cell in ohm^-1 cm^-1//\n",
"R=82.4;//resistance with KCl solution filled in ohms//\n",
"K=C*R;//cell constant in cm^-1//\n",
"printf('Cell constant=K=%fcm^-1',K);\n",
"R1=326;//resistance with K2SO4 solution filled in ohms//\n",
"c=K/R1;//Equivalent conductance of the KCl solution in ohm^-1 cm^-1//\n",
"printf('\nEquivalent conductance of the KCl solution=c=%f=7*10^-4ohm^-1 cm^-1',c);\n",
"printf('\n0.0025M K2SO4 solution=0.005N of K2SO4.');\n",
"EC=1000*c/0.005;//equivalent conductance of K2SO4 solution in ohm^-1 cm^2//\n",
"printf('\nEquivalent conductance of K2SO4 solution=EC=%fohm^-1cm^2',EC);"
   ]
   }
,
{
		   "cell_type": "markdown",
		   "metadata": {},
		   "source": [
			"## Example 7.5: Transport_number.sce"
		   ]
		  },
  {
"cell_type": "code",
	   "execution_count": null,
	   "metadata": {
	    "collapsed": true
	   },
	   "outputs": [],
"source": [
"wAg=1.424;//weight of Ag deposited in the coulometer in grams//\n",
"MW=108;//molecular weight of AgNO3 in grams//\n",
"w1=90.25;//weight of silver nitrate in grams//\n",
"w2=5.039;//weight of AgNO3 in grams//\n",
"w=w1-w2;\n",
"n=wAg/MW;\n",
"printf('No. of equivalents of Ag deposited in the silver coulometer=n=%f.',n);\n",
"printf('\nThis amount of Ag+ and NO3- ions would have discharged at the cathode and at the anode respectively.');\n",
"printf('\n Anolyte solution\nBefore electrolysis 85.21(90.25-5.039)grams of water contained 0.02965 equivalents of AgNO3 or Ag+.');\n",
"BEAg=0.007202;//no. of equivalents of Ag+ before electrolysis//\n",
"printf('\nAfter electrolysis 20.893-0.193 i.e 20.7grams of water contains 0.001136equivalents of AgNO3 or Ag+.');\n",
"AEAg=0.01136;//no. of equivalents of Ag+ after electrolysis//\n",
"printf('\n20.7grams of water,before electrolysis would have contained 0.007202 equivalents of Ag+.');\n",
"DC=BEAg-AEAg;//decrease in the conc. of anolyte//\n",
"printf('\nDecrease in the conc. of anolyte=DC=0.006066equivalents.');\n",
"tAg=n/DC;//transport number//\n",
"printf('\ntAg=ratio of Decrease in anolyte conc. and No. of gram equivalents deposited at either electrode=tAg=0.460100');\n",
""
   ]
   }
,
{
		   "cell_type": "markdown",
		   "metadata": {},
		   "source": [
			"## Example 7.6: Transport_number.sce"
		   ]
		  },
  {
"cell_type": "code",
	   "execution_count": null,
	   "metadata": {
	    "collapsed": true
	   },
	   "outputs": [],
"source": [
"wCu=0.0230;//weight of Cu deposited in the coulometer in grams//\n",
"MW=63.54;//molecular weight of Cu in grams//\n",
"n=wCu*2/MW;//no. of equivalents of Cu deposited//\n",
"printf('In the coulometer,wt of Cu deposited=0.0230grams');\n",
"printf('\nNumber of equivalents of Cu deposited=n=%fequivalents or Farads.',n);\n",
"printf('\nThis would have resulted in deposition of 7.24*10^-4equivalents of Ag+ at the cathode \nand dissolution of the same amount at the anode.');\n",
"wAgNO3=7.39;\n",
"w1AgNO3=0.2360;//after electrolysis weight of AgNO3//\n",
"MWAgNO3=170;//molecular weight of AgNO3//\n",
"BEAgNO3=wAgNO3/MWAgNO3;\n",
"printf('\n Anolyte solution \nBefore electrolysis 1000grams of water contains %fequivalents of AgNO3',BEAgNO3);\n",
"AEAgNO3=w1AgNO3/MWAgNO3;\n",
"printf('\nAfter electrolysis 23.14grams of water contains %fequivalents of AgNO3.',AEAgNO3);\n",
"w=23.14;\n",
"BE=w*BEAgNO3/1000;\n",
"printf('\n23.14grams of water before electrolysis would have contained %fequivalents of AgNO3',BE);\n",
"IC=AEAgNO3-BE;\n",
"printf('\nIncrease in the concentration of anolyte=IC=%fequivalents.',IC);\n",
"printf('\n0.000382gram equivalents of NO3- ions must have migrated into the anode compartment.\nAs a result of passin 7.24*10^-4Farads into the solution.\n0.000724equivalents of Ag should have dissolved to give the same amount of Ag+ ion.\nOut of this 0.000382gram equivalents are present in the anolyte.');\n",
"ME=n-IC;//no of equivalents of migrated anodes//\n",
"printf('\n%fgram equivalents of Ag+ ions must have migrated from the anode.',ME);\n",
"tAg=ME/n;//transport number//\n",
"printf('\nTransport number of Ag=tAg=%f',tAg);\n",
"tSO3=1-tAg;\n",
"printf('\nTransport number of SO3=tSO3=%f',tSO3);"
   ]
   }
,
{
		   "cell_type": "markdown",
		   "metadata": {},
		   "source": [
			"## Example 7.7: Ionic_conductances_and_ionic_mobilities.sce"
		   ]
		  },
  {
"cell_type": "code",
	   "execution_count": null,
	   "metadata": {
	    "collapsed": true
	   },
	   "outputs": [],
"source": [
"EC=426;//equivalent conductance of HCl in ohm^-1cm^2//\n",
"tH=0.82;//transport number of H+//\n",
"tCl=0.18;//transport number of Cl-//\n",
"ICH=EC*tH;//ionic conductance of H+ in ohm^-1cm^2//\n",
"printf('Ionic conductance of H+=ICH=%fohm^-1cm^2',ICH);\n",
"ICCl=EC*tCl;//ionic conductance of Cl- in ohm^-1cm^2//\n",
"printf('\nIonic conductance of Cl-=ICCl=%fohm^-1cm^2',ICCl);\n",
"F=96500;\n",
"IMH=ICH/F;//ionic mobility of H+ in cm^2v^-1s^-1\n",
"printf('\nIonic mobility of H+=IMH=%f=36.20*10^-4cm^2v^-1s^-1',IMH);\n",
"IMCl=ICCl/F;//ionic mobility of H+ in cm^2v^-1s^-1\n",
"printf('\nIonic mobility of H+=IMCl=%f=7.95*10^-4cm^2v^-1s^-1',IMCl);"
   ]
   }
,
{
		   "cell_type": "markdown",
		   "metadata": {},
		   "source": [
			"## Example 7.9: degree_of_dissociation_and_Ionization_constant.sce"
		   ]
		  },
  {
"cell_type": "code",
	   "execution_count": null,
	   "metadata": {
	    "collapsed": true
	   },
	   "outputs": [],
"source": [
"printf('A solution of NH3 is alkaline due to the following hydrolysis\nNH3+H2O = NH4+ + OH-');\n",
"printf('\nKb=(NH4+)*(OH-)/(NH3)=(c*a^2)/(1-a). ');\n",
"EC=3.7;//equivalent conductance of NH3 in water in ohm^-1cm^2//\n",
"EC0NH4Cl=149.9;//equivalent conductance of NH4Cl in ohm^-1cm^2//\n",
"EC0BaCl2=139.9;//equivalent conductance of 1/2BaCl2 in ohm^-1cm^2//\n",
"EC0BaOH2=262.2;//equivalent conductance of 1/2Ba(OH)2 in ohm^-1cm^2//\n",
"EC0=EC0NH4Cl-EC0BaCl2+EC0BaOH2;//effective Equivalent conductance in ohm^-1cm^2//\n",
"printf('\nEC0=%fohm^-1cm^2',EC0);\n",
"a=EC/EC0;//dissociation constant of the solution//\n",
"printf('\nDissociation constant of the solution=a=%f',a);\n",
"C=0.1;//normality of the solution//\n",
"Kb=(C*a^2)/(1-a);\n",
"printf('\nIonization constant=Kb=%f',Kb);//here the values of a and Kb are slightly different from textbook but that is ok//"
   ]
   }
],
"metadata": {
		  "kernelspec": {
		   "display_name": "Scilab",
		   "language": "scilab",
		   "name": "scilab"
		  },
		  "language_info": {
		   "file_extension": ".sce",
		   "help_links": [
			{
			 "text": "MetaKernel Magics",
			 "url": "https://github.com/calysto/metakernel/blob/master/metakernel/magics/README.md"
			}
		   ],
		   "mimetype": "text/x-octave",
		   "name": "scilab",
		   "version": "0.7.1"
		  }
		 },
		 "nbformat": 4,
		 "nbformat_minor": 0
}
