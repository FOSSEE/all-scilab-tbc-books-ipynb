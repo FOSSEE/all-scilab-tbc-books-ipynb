{
"cells": [
 {
		   "cell_type": "markdown",
	   "metadata": {},
	   "source": [
       "# Chapter 1: Atomic Structure"
	   ]
	},
{
		   "cell_type": "markdown",
		   "metadata": {},
		   "source": [
			"## Example 1.10: Energy_difference_between_energy_levels.sce"
		   ]
		  },
  {
"cell_type": "code",
	   "execution_count": null,
	   "metadata": {
	    "collapsed": true
	   },
	   "outputs": [],
"source": [
"h=6.625*10^-27;//plank's constant//\n",
"g=10^3;//particle mass in grams//\n",
"l1=1;//length of one dimensional box in cm//\n",
"n1=1;\n",
"n2=2;\n",
"dE1=((n2^2-n1^2)*h^2)/(8*g*l1^2);//Energy difference between two energy levels of particle in eV//\n",
"printf('Energy difference between two energy levels of particle=dE1=1*10^-44eV');\n",
"l2=2*10^-8;//length of one dimensional box in cm//\n",
"m=9.11*10^-28;//electron mass in grams//\n",
"dE2=((n2^2-n1^2)*h^2)/(8*m*l2^2*1.6*10^-11);//Energy difference between two energy levels of electron in eV//\n",
"printf('\nEnergy difference between two energy levels of electron=dE2=%feV',dE2);\n",
" "
   ]
   }
,
{
		   "cell_type": "markdown",
		   "metadata": {},
		   "source": [
			"## Example 1.1: Relative_Abundance.sce"
		   ]
		  },
  {
"cell_type": "code",
	   "execution_count": null,
	   "metadata": {
	    "collapsed": true
	   },
	   "outputs": [],
"source": [
"printf('The Atomic weight of 12.0111 for Natural Carbon shows that the 12C nuclide must be present to a larger extent.');\n",
"printf('\nLet 100 atoms of natural carbon contain x atoms of 12C nuclide.\n');\n",
"X=(13.0034-12.0111)*100/(13.0034-12.0000);//percentage of 12C in natural carbon//\n",
"printf('Percentage of 12C in Natural carbon=X=%f',X);\n",
"Y=100-X;//percentage of 13C in natural carbon//\n",
"printf('\nPercentage of 13C in Natural carbon=%f',Y);\n",
""
   ]
   }
,
{
		   "cell_type": "markdown",
		   "metadata": {},
		   "source": [
			"## Example 1.2: Frequency_and_Wavenumber.sce"
		   ]
		  },
  {
"cell_type": "code",
	   "execution_count": null,
	   "metadata": {
	    "collapsed": true
	   },
	   "outputs": [],
"source": [
"C=3*10^2;//velocity of light in megametre/sec//\n",
"L=300*10^-9;//wavelength of radiation in metres//\n",
"v=C*10^-6/L;//frequency of radiation in Teracycles per sec//\n",
"printf('Frequency of radiation=v=%fTeracycles per sec=1.0*10^15Hz',v);\n",
"v1=1/L;//wave number of radiation in per meter//\n",
"printf('\nWavenumber of radiation=v1=3.3*10^4 per centimeter');\n",
""
   ]
   }
,
{
		   "cell_type": "markdown",
		   "metadata": {},
		   "source": [
			"## Example 1.3: Velocity_of_photoelectrons.sce"
		   ]
		  },
  {
"cell_type": "code",
	   "execution_count": null,
	   "metadata": {
	    "collapsed": true
	   },
	   "outputs": [],
"source": [
"V=0.85;//external voltage in volts//\n",
"e=1.6*10^-19;//electron charge in coloumbs//\n",
"m=9.1*10^-28;//electron mass in grams//\n",
"v=sqrt(2*V*e*10/m);//velocity of electron in motion in Kilocm per sec//\n",
"printf('velocity of electron in motion=v=%f Kilocm per sec=5.47*10^7cm per sec',v);\n",
"W=(3.198*10^-12)/(1.6*10^-12);//Threshold energy in eV//\n",
"printf('\nThreshold energy of electron=W=%feV',W);\n",
"v0=(3.198*10^-12)/(6.625*10^-15);//Threshold frequency in tera per sec//\n",
"printf('\nThreshold frequency=v0=%fTera per sec=4.83*10^14per sec',v0);"
   ]
   }
,
{
		   "cell_type": "markdown",
		   "metadata": {},
		   "source": [
			"## Example 1.4: Wavelength.sce"
		   ]
		  },
  {
"cell_type": "code",
	   "execution_count": null,
	   "metadata": {
	    "collapsed": true
	   },
	   "outputs": [],
"source": [
"E=118.5*10^3*4.2*10^7;//energy of ions in ergs//\n",
"C=3*10^10;//velocity of light in cm/sec//\n",
"L=6.023*10^23;//Avagadro number//\n",
"h=6.625*10^-27;//plank's constant//\n",
"l=(L*h*C*10^8)/E;\n",
"printf('wavelength required to cause ionization=l=%fAngstrums',l);\n",
"\n",
""
   ]
   }
,
{
		   "cell_type": "markdown",
		   "metadata": {},
		   "source": [
			"## Example 1.5: Wavelength_of_the_second_line.sce"
		   ]
		  },
  {
"cell_type": "code",
	   "execution_count": null,
	   "metadata": {
	    "collapsed": true
	   },
	   "outputs": [],
"source": [
"n1=2;\n",
"n2=4;\n",
"dE=21.7*(10^-12)*((1/n1^2)-(1/n2^2));\n",
"h=6.625*10^-27;//plank's constant//\n",
"C=3*10^10;//velocity of light in cm/sec//\n",
"l=h*C*10^8/dE;//Wavelength of second line in balmer series in Angstrums//\n",
"printf('wavelength of the second line in balmer series=l=%fAngstrums',l);//here the answer given in textbook is slightly wrong the original answer should be the one comes through execution//"
   ]
   }
,
{
		   "cell_type": "markdown",
		   "metadata": {},
		   "source": [
			"## Example 1.6: Ionization_potential.sce"
		   ]
		  },
  {
"cell_type": "code",
	   "execution_count": null,
	   "metadata": {
	    "collapsed": true
	   },
	   "outputs": [],
"source": [
"n1=1;\n",
"dE=21.7*(10^-12)/(1.6*10^-12*n1^2);//energy required to promote an electron from ground to infinity in eV//\n",
"printf('Ionisation potential for an electron=dE=%feV',dE);"
   ]
   }
,
{
		   "cell_type": "markdown",
		   "metadata": {},
		   "source": [
			"## Example 1.7: De_Broglie_Wavelength.sce"
		   ]
		  },
  {
"cell_type": "code",
	   "execution_count": null,
	   "metadata": {
	    "collapsed": true
	   },
	   "outputs": [],
"source": [
"h=6.625*10^-27;//plank's constant//\n",
"V=2*10^3;//velocity of Cricket Ball in cm/sec//\n",
"m=170;//weight of Cricket Ball in grams//\n",
"l=h/(m*V);//DeBroglie Wavelength of CricketBall in Angstrums//\n",
"printf('DeBroglie Wavelength of CricketBall=l=%f=1.95*10^-24Angstrums',l);"
   ]
   }
,
{
		   "cell_type": "markdown",
		   "metadata": {},
		   "source": [
			"## Example 1.8: De_Broglie_Wavelength.sce"
		   ]
		  },
  {
"cell_type": "code",
	   "execution_count": null,
	   "metadata": {
	    "collapsed": true
	   },
	   "outputs": [],
"source": [
"r1=0.53*10^-8;//Bohr radius in cm//\n",
"r2=4*r1;//Bohr radius in second state in cm//\n",
"printf('Bohr radius in second state=r2=2.12*10^-8cm');\n",
"h=6.625*10^-27;//plank's constant//\n",
"m=9.11*10^-28;//electron mass in grams//\n",
"v2=h/(%pi*m*r2);//electron velocity in second state in cm per sec//\n",
"printf('\nElectron velocity in second state=v2=%fcm per sec',v2);\n",
"l=(h*10^8)/(m*v2);//De Broglie wavelength of electron in second state in Angstrums//\n",
"printf('\nDe Broglie wavelength of electron in second state=l=%fAngstrums',l);\n",
"e=1.6*10^-12;//electron charge in ergs//\n",
"v=sqrt((2*(10^4)*e)/m);//velocity of the moving electron in second state in cm/sec//\n",
"printf('\nVelocity of moving electron in second state=v=%fcm per sec',v);\n",
"l1=(h*10^8)/(v*m);//De Broglie wavelength of moving elctron in Angstrums//\n",
"printf('\nDe Broglie wavelength of moving electron in secondstate=l1=%fAngstrums',l1);"
   ]
   }
,
{
		   "cell_type": "markdown",
		   "metadata": {},
		   "source": [
			"## Example 1.9: Uncertainity_in_position.sce"
		   ]
		  },
  {
"cell_type": "code",
	   "execution_count": null,
	   "metadata": {
	    "collapsed": true
	   },
	   "outputs": [],
"source": [
"m=9.11*10^-28;//electron mass in grams//\n",
"v=1.1*10^8;//velocity of electron in cm per sec//\n",
"p=m*v;//momentum of electron in gram cm per sec//\n",
"printf('momentum of electron=p=10.01*10^-20gram cm per sec');\n",
"dp=p*10^-2;//Uncertainity in momentum in gram cm per sec//\n",
"printf('\nUncertainity in momentum=10.01*10^-22gram cm per sec');\n",
"h=6.625*10^-27;//plank's constant//\n",
"dx=(h*10^8)/(4*%pi*dp);//Uncertainity in position in Angstrum//\n",
"printf('\nUncertainity in position=dx=%fAngstrum',dx);\n",
"\n",
""
   ]
   }
],
"metadata": {
		  "kernelspec": {
		   "display_name": "Scilab",
		   "language": "scilab",
		   "name": "scilab"
		  },
		  "language_info": {
		   "file_extension": ".sce",
		   "help_links": [
			{
			 "text": "MetaKernel Magics",
			 "url": "https://github.com/calysto/metakernel/blob/master/metakernel/magics/README.md"
			}
		   ],
		   "mimetype": "text/x-octave",
		   "name": "scilab",
		   "version": "0.7.1"
		  }
		 },
		 "nbformat": 4,
		 "nbformat_minor": 0
}
