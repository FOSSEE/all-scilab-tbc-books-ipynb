{
"cells": [
 {
		   "cell_type": "markdown",
	   "metadata": {},
	   "source": [
       "# Chapter 8: Chemical Kinetics and Catalysis"
	   ]
	},
{
		   "cell_type": "markdown",
		   "metadata": {},
		   "source": [
			"## Example 8.10: Pseudo_first_order_Rate_constant.sce"
		   ]
		  },
  {
"cell_type": "code",
	   "execution_count": null,
	   "metadata": {
	    "collapsed": true
	   },
	   "outputs": [],
"source": [
"k=8.676*10^-3;//average value of k in per min//\n",
"printf('Average value of k=8.676*10^-3per min');\n",
"r0=22.4;\n",
"rt=0;\n",
"rinfinite=-11.1;\n",
"t=(2.303/k)*log10((r0-rinfinite)/(rt-rinfinite));\n",
"printf('\nThe time at which the mixture is optically inactive=t=%fmin',t);//here in textbook the answer is given wrong,but by solving we get the same result as executed//"
   ]
   }
,
{
		   "cell_type": "markdown",
		   "metadata": {},
		   "source": [
			"## Example 8.13: Order_of_the_reactio.sce"
		   ]
		  },
  {
"cell_type": "code",
	   "execution_count": null,
	   "metadata": {
	    "collapsed": true
	   },
	   "outputs": [],
"source": [
"k=1;\n",
"a=10;\n",
"thalf=10^-1.88;//half time of the reaction//\n",
"n=1-(log10(thalf/k)/log10(a));//order of the reaction//\n",
"printf('order of the reaction after solving is n=%f',n);\n",
"printf('\nHence the order of the reaction=n=3');"
   ]
   }
,
{
		   "cell_type": "markdown",
		   "metadata": {},
		   "source": [
			"## Example 8.14: Half_life_of_the_reactio.sce"
		   ]
		  },
  {
"cell_type": "code",
	   "execution_count": null,
	   "metadata": {
	    "collapsed": true
	   },
	   "outputs": [],
"source": [
"thalf1=49;//half life for 0.02M compound//\n",
"thalf2=100;//half life for 0.04M compound//\n",
"M1=0.02;//initial concentration of the compound//\n",
"M2=0.01;//Final concentration of the compound//\n",
"printf('Since thalf is directly proportional to concentration(doubling the concentration increases thalf by a factor 2),\nthe reaction is Zero order.\nThe half time corresponding to a concentration of 0.01M will be 24.5mins');"
   ]
   }
,
{
		   "cell_type": "markdown",
		   "metadata": {},
		   "source": [
			"## Example 8.18: Energy_of_activation.sce"
		   ]
		  },
  {
"cell_type": "code",
	   "execution_count": null,
	   "metadata": {
	    "collapsed": true
	   },
	   "outputs": [],
"source": [
"R=1.987;//universal gas constant//\n",
"T1=293;//initial temperature in kelvin//\n",
"T2=303;//Final temperature in kelvin//\n",
"K1=6.68*10^-3;//rate constant corresponding to T1 in per min//\n",
"K2=1.31*10^-2;//rate constant corresponding to T2 in per min//\n",
"E=(2.303*R*T1*T2*log10(K2/K1))/(T2-T1);//energy of activation in Kcal per mol//\n",
"printf('Energy of activation=E=%fcal per mol=11.88Kcal per mol',E);"
   ]
   }
,
{
		   "cell_type": "markdown",
		   "metadata": {},
		   "source": [
			"## Example 8.19: Ratio_of_reaction_rates.sce"
		   ]
		  },
  {
"cell_type": "code",
	   "execution_count": null,
	   "metadata": {
	    "collapsed": true
	   },
	   "outputs": [],
"source": [
"R=1.987;//universal gas constant//\n",
"T1=350;//initial temperature in kelvin//\n",
"T2=360;//Final temperature in kelvin//\n",
"E=40000;//energy of activation in cal per mol//\n",
"K=10^(E*((T2-T1)/(T1*T2))/(2.303*R));//ratio of v2/v1//\n",
"printf('The ratio of V2 and V1 is K=V2/V1=%f',K);"
   ]
   }
,
{
		   "cell_type": "markdown",
		   "metadata": {},
		   "source": [
			"## Example 8.20: Activation_energy.sce"
		   ]
		  },
  {
"cell_type": "code",
	   "execution_count": null,
	   "metadata": {
	    "collapsed": true
	   },
	   "outputs": [],
"source": [
"R=1.987;//universal gas constant//\n",
"T1=313;//initial temperature in kelvin//\n",
"T2=333;//Final temperature in kelvin//\n",
"t1=15;//time for 20% reaction at 313K in mins//\n",
"t2=3;//time for 20%reaction at 333K in mins//\n",
"K=t1/t2;//ratio of K2/K1//\n",
"E=(2.303*R*T1*T2*log10(K))/(1000*(T2-T1));//energy of activation in Kcal per mol//\n",
"printf('Energy of activation=E=%fKcal per mol',E);"
   ]
   }
,
{
		   "cell_type": "markdown",
		   "metadata": {},
		   "source": [
			"## Example 8.21: Arrhenius_constant.sce"
		   ]
		  },
  {
"cell_type": "code",
	   "execution_count": null,
	   "metadata": {
	    "collapsed": true
	   },
	   "outputs": [],
"source": [
"R=1.987;//universal gas constant//\n",
"printf('From the graph slope=(-0.92/0.30)=(-E/(2.303*R))\nGraphical evaluation of A requires the determination of the intercept on the y axis corresponding to 1/T=0\nOne can also calculate A from k=A*exp(-E/(R*T))');\n",
"E=(0.92*R*2.303)/(0.30*10^3);\n",
"printf('\nEnergy of activation=E=%f=14.04Kcal per mol',E);\n",
"k=2.31*10^-2;\n",
"T=273;//temperature in kelvin//\n",
"printf('\nwe can find the value of A using log10(k)=log10(A)-(E/(2.303*R*T))\nUpon solving we get A=4.015*10^9litre per mol per second');"
   ]
   }
,
{
		   "cell_type": "markdown",
		   "metadata": {},
		   "source": [
			"## Example 8.22: Rate_constant.sce"
		   ]
		  },
  {
"cell_type": "code",
	   "execution_count": null,
	   "metadata": {
	    "collapsed": true
	   },
	   "outputs": [],
"source": [
"R=1.987;//universal gas constant//\n",
"T=556;//temperature in kelvin//\n",
"E=44;//Energy in Kcal//\n",
"dS=-10;//entropy change in cal per deg//\n",
"k=(exp(2)*exp(dS/R)*exp(-E/(R*T))*10^13.07);//rate constant for the reaction//\n",
"printf('Rate constant for the reaction=k=3.47*10^-7litre per mol per sec');"
   ]
   }
,
{
		   "cell_type": "markdown",
		   "metadata": {},
		   "source": [
			"## Example 8.23: Standard_Entropy_change.sce"
		   ]
		  },
  {
"cell_type": "code",
	   "execution_count": null,
	   "metadata": {
	    "collapsed": true
	   },
	   "outputs": [],
"source": [
"R=1.987;//universal gas constant//\n",
"T=473;//temperature in kelvin//\n",
"A=2.75*10^15;//frequency factor in per sec//\n",
"K=1.38*10^-16;//boltzmans constant//\n",
"h=6.625*10^-27;//planks constant//\n",
"dn=0;\n",
"dS=4.57*(log10(A)-log10(exp(1))-log10(9.85*10^12));//entropy change in cal per deg//\n",
"printf('The entropy of activation=dS=%f=9.19eu',dS);\n",
"printf('\nSince A is independent of concentration units dS does not sepend on the concentration units used\nand hence the standard state.\nHowever if the time were expressed in different units A will assume a different value\nand consequently the value of dS will be different\nIf time were expressed in minutes A=2.75*10^15*60 per min\ndS=9.19+4.57*log10(60)=17.32eu\nfor bimolecular reaction e^2=7.4*10^10 \nso dS will result in dS=-10.1eu or mol per litre.');\n",
"printf('\nIf the concentration were expressed in mol per millilitre A would be 7.4*10^13 \nso dS will result in dS=-10.1+13.6=3.5eu or mol per millilitre\nIf the concentration were expressed in molecules per millilitre the value of A will be multiplied by 6.023*10^23 \nso dS would result in as dS=-10.1-94.9=-105eu or -105molecules per millilitre');"
   ]
   }
,
{
		   "cell_type": "markdown",
		   "metadata": {},
		   "source": [
			"## Example 8.3: First_order_rate_constant_and_half_life.sce"
		   ]
		  },
  {
"cell_type": "code",
	   "execution_count": null,
	   "metadata": {
	    "collapsed": true
	   },
	   "outputs": [],
"source": [
"k=1.37*10^-4;//rate constant in per sec//\n",
"thalf=5057;//half time of the reaction in sec//\n",
"printf('If out of each mole of N2O5,x mole of it decomposes at any instant\nThe total pressure in the system is equal to that due to (1-x)moles of undecomposed N2O5,\nx moles of N2O4 and x/2moles of O2 i.e due to 1+(x/2)moles.');\n",
"printf('\nThe increase in pressure is thus due to x/2moles\nSo the amount of N2O5 that has decomposed at any instant i.e x is proportional to twice the observed increase in pressure');\n",
"printf('\nThese can be fitted into the kinetic equation for a first order reaction\nk=(2.303/t)*log10(a/(a-x))\nand the value of k can be obtained.The average value of k is 1.37*10^-4per sec');\n",
"printf('\nk=0.693/t0.5 that will result in t0.5=5057seconds\nThis can also be obtained as the value corresponding to (a-x)=154.1mm,from a graph of t vs (a-x).');"
   ]
   }
,
{
		   "cell_type": "markdown",
		   "metadata": {},
		   "source": [
			"## Example 8.4: First_order_rate_constant.sce"
		   ]
		  },
  {
"cell_type": "code",
	   "execution_count": null,
	   "metadata": {
	    "collapsed": true
	   },
	   "outputs": [],
"source": [
"Vinfinite=58.3;//volume of nitrogen evolved at infinite time//\n",
"V0=19.3;//volume of nitrogen evolved at initial time//\n",
"printf('Let V0,Vt,Vinfinite be the volumes of N2 evolved at the beginning,at time t and at infinite time(no more collection of N2 is observed)respectively,');\n",
"printf('\n(Vinfinite-V0)is a measure of the total amount of material that can decompose,\ni.e the initial concentration a.\n(Vinfinite-Vt) is a measure of the amount of material that remains unreacted at time t,i.e (a-x),\nbecause this volume corresponds to the amount of material that can still decompose between time t and infinite time.');\n",
"printf('\nk=(2.303/t)*(log10((Vinfinte-V0)/(Vinfinite-Vt))).');\n",
"printf('\nThe average value of k can be found to be 6.54*10^-2per min or 1.09*10^-3per sec');"
   ]
   }
,
{
		   "cell_type": "markdown",
		   "metadata": {},
		   "source": [
			"## Example 8.5: Minimum_initial_activity.sce"
		   ]
		  },
  {
"cell_type": "code",
	   "execution_count": null,
	   "metadata": {
	    "collapsed": true
	   },
	   "outputs": [],
"source": [
"t=12.8;//half life of the particle in hours//\n",
"k=0.693/(t*60);//value of k for the experiment in per min//\n",
"printf('Value of k for the experiment=k=%fper min',k);\n",
"printf('\n-dN/dt=rate=100*k*N=(0.693/12.8*60)*N\nN,the number of copper atoms required to produce 100Beta particles per minute\n we get N=(100*12.8*60)/0.693=1.108*10^5');\n",
"w=63.5;//atomic weight of Cu in grams//\n",
"AN=6.023*10^23;\n",
"N=1.108*10^5;\n",
"W=(N*w)/AN;//weight of Cu in grams//\n",
"printf('\nWeight of Cu=W=%f=1.17*10^-17grams',W);\n",
"printf('\nSince the maximum activity is 100Beta particles per minute,N=(a-x) at the end of six hours,i.e t=6 and N=1.108*19^5atoms');\n",
"printf('\nAt zero time N0=a\n a-x=a*exp(-k*t)\nUpon solving the above equation we get N0=a=1.533*10^5atoms\nWeight of Cu to start with=1.66*10^-17grams.');\n",
"printf('\nInitial activity=138.30000 disintegrations per minute');"
   ]
   }
,
{
		   "cell_type": "markdown",
		   "metadata": {},
		   "source": [
			"## Example 8.7: Specific_reaction_rate.sce"
		   ]
		  },
  {
"cell_type": "code",
	   "execution_count": null,
	   "metadata": {
	    "collapsed": true
	   },
	   "outputs": [],
"source": [
"printf('The kinetic equation for a second order reaction involving unequal concentrations of the reactants is\nk2=(2.303/(t*(a-b)))*log10((b*(a-x))/(a*(b-x)))');\n",
"k=2.312*10^-4;\n",
"p=4.94*10^-3;//value of (a-b)//\n",
"k2=(k*2.303)/p;//second order reaction rate//\n",
"printf('\nSecond order reaction rate=k2=%flitre per mol per second',k2);"
   ]
   }
,
{
		   "cell_type": "markdown",
		   "metadata": {},
		   "source": [
			"## Example 8.8: Order_of_the_reactio.sce"
		   ]
		  },
  {
"cell_type": "code",
	   "execution_count": null,
	   "metadata": {
	    "collapsed": true
	   },
	   "outputs": [],
"source": [
"t1half=37.00;//half time for the first order reaction//\n",
"t2half=19.2;//half time for the second order reaction//\n",
"t3half=9.45;//half time for the third order reaction//\n",
"printf('to know the order of the equation we can use 2^(n-1)=t1half/t2half');\n",
"printf('\nby solving for first and second order n=1.95\nby solving for second and third order n=2.02');\n",
"printf('\nby solving for first and third order n=1.98\nSo the order of the reaction=n=2');"
   ]
   }
],
"metadata": {
		  "kernelspec": {
		   "display_name": "Scilab",
		   "language": "scilab",
		   "name": "scilab"
		  },
		  "language_info": {
		   "file_extension": ".sce",
		   "help_links": [
			{
			 "text": "MetaKernel Magics",
			 "url": "https://github.com/calysto/metakernel/blob/master/metakernel/magics/README.md"
			}
		   ],
		   "mimetype": "text/x-octave",
		   "name": "scilab",
		   "version": "0.7.1"
		  }
		 },
		 "nbformat": 4,
		 "nbformat_minor": 0
}
