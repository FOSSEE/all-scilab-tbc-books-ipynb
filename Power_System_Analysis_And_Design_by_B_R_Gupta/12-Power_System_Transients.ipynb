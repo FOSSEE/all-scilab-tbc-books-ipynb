{
"cells": [
 {
		   "cell_type": "markdown",
	   "metadata": {},
	   "source": [
       "# Chapter 12: Power System Transients"
	   ]
	},
{
		   "cell_type": "markdown",
		   "metadata": {},
		   "source": [
			"## Example 12.10: reflection_and_transmission_of_voltage_and_current_wave.sce"
		   ]
		  },
  {
"cell_type": "code",
	   "execution_count": null,
	   "metadata": {
	    "collapsed": true
	   },
	   "outputs": [],
"source": [
"clear;\n",
"clc;\n",
"\n",
"ef=10000;\n",
"Zc=400;\n",
"iF=ef/Zc\n",
"mprintf('\n(a)\nIncident Wave magnitude= %d A',iF)\n",
"\n",
"R=1000\n",
"et=ef*(R*2)/(R+Zc);\n",
"it=et/R;\n",
"er=et-ef;\n",
"mprintf('\n(b)\nSurge Voltage Reflected= %.3f KV',er/1000)\n",
"ir=-1*er/Zc\n",
"mprintf('\nSurge Current Reflected= %.3f A',ir)\n",
"edr=et*it;\n",
"mprintf('\nRate of dissipation of energy= %.2f KW',edr/1000)\n",
"err=er*-ir;\n",
"mprintf('\nRate of reflection of energy= %.3f KW',err/1000)\n",
"\n",
"mprintf('\n(c)\nfor complete dissipation, R=Zc= %.0f ohm',Zc);\n",
"\n",
"R=50\n",
"et=ef*(R*2)/(R+Zc);\n",
"mprintf('\n(d)\nSurge Voltage Transmitted= %.3f KV',et/1000)\n",
"it=et/R;\n",
"mprintf('\nSurge Current Transmitted= %.2f A',it)\n",
"er=et-ef;\n",
"mprintf('\nSurge Voltage Reflected= %.3f kV',er/1000)\n",
"ir=-1*er/Zc\n",
"mprintf('\nSurge Current Reflected= %.3f A',ir)\n",
"edr=et*it;\n",
"mprintf('\nRate of dissipation of energy= %.2f KW',edr/1000)\n",
"err=er*-ir;\n",
"mprintf('\nRate of reflection of energy= %.2f KW',err/1000)"
   ]
   }
,
{
		   "cell_type": "markdown",
		   "metadata": {},
		   "source": [
			"## Example 12.11: find_V_and_I_transmitted.sce"
		   ]
		  },
  {
"cell_type": "code",
	   "execution_count": null,
	   "metadata": {
	    "collapsed": true
	   },
	   "outputs": [],
"source": [
"clear;\n",
"clc;\n",
"\n",
"Zc=400\n",
"ef=20\n",
"z1=150;\n",
"z2=200\n",
"z=round((z1*z2/(z1+z2))*100)/100\n",
"\n",
"et=2*ef*z/(Zc+z)\n",
"mprintf('\nSurge Voltage Transmitted= %.4f kV',et)\n",
"\n",
"it1=et*1000/z1;\n",
"mprintf('\nSurge Current Transmitted in line 1= %.3f A',it1)\n",
"\n",
"it2=et*1000/z2;\n",
"mprintf('\nSurge Current Transmitted in line 2= %.2f A',it2)\n",
"\n",
"er=et-ef\n",
"mprintf('\nSurge Voltage Reflected= %.4f kV',er)\n",
"ir=-1*er*1000/Zc\n",
"mprintf('\nSurge Current Reflected= %.2f A',ir)\n",
"\n",
"\n",
""
   ]
   }
,
{
		   "cell_type": "markdown",
		   "metadata": {},
		   "source": [
			"## Example 12.12: reflection_transmission_and_absorption_of_wave.sce"
		   ]
		  },
  {
"cell_type": "code",
	   "execution_count": null,
	   "metadata": {
	    "collapsed": true
	   },
	   "outputs": [],
"source": [
"clear;\n",
"clc;\n",
"\n",
"ef=100\n",
"Zc=400\n",
"z=50\n",
"\n",
"R=z+Zc;\n",
"E=(2*ef/(Zc+z+R))^2 *R\n",
"E=round(E*100)/100\n",
"mprintf('\n(a)Energy transfer max when R= %.0f ohm, energy= %.2f KW', R,E);\n",
"\n",
"etB=2*ef*z/(z+Zc+R);\n",
"etB=round(etB*100)/100\n",
"mprintf('\n(b)Surge Voltage Transmitted= %.3f kV',etB)\n",
"\n",
"it=etB*1000/z;\n",
"it=round(it*100)/100\n",
"mprintf('\nSurge Current Transmitted = %.2f A',it)\n",
"\n",
"etA=2*ef*(z+R)/(z+Zc+R);\n",
"etA=round(etA*100)/100\n",
"\n",
"erA=etA-ef\n",
"mprintf('\n(c)Surge Voltage Reflected= %.2f kV',erA)\n",
"irA=-1*erA*1000/Zc\n",
"mprintf('\nSurge Current Reflected= %.3f A',irA)\n",
"\n",
"\n",
"iF=ef*1000/Zc\n",
"Pi=ef*iF\n",
"mprintf('\n(d)Power Incident= %.0f kW',Pi)\n",
"Pr=erA*-irA\n",
"mprintf('\nPower Reflected= %.2f kW',Pr)\n",
"Pt=erA*it\n",
"mprintf('\nPower Transmitted= %.0f kW',Pt)\n",
"\n",
""
   ]
   }
,
{
		   "cell_type": "markdown",
		   "metadata": {},
		   "source": [
			"## Example 12.14: find_voltage_and_current_surges.sce"
		   ]
		  },
  {
"cell_type": "code",
	   "execution_count": null,
	   "metadata": {
	    "collapsed": true
	   },
	   "outputs": [],
"source": [
"clear;\n",
"clc\n",
"\n",
"I=5;\n",
"z1=400\n",
"z2=50\n",
"V=I * z1* z2/(z2+z1)\n",
"mprintf('\nSurge Voltage Transmitted= %f kV',V)\n",
"ic=V/z2\n",
"mprintf('\nSurge Current Transmitted in cable= %f kA',ic)\n",
"\n",
"io=-V/z1;\n",
"mprintf('\nSurge Current Transmitted in OH line= %f kA',io)"
   ]
   }
,
{
		   "cell_type": "markdown",
		   "metadata": {},
		   "source": [
			"## Example 12.16: find_restriking_voltage_due_to_current_chopping.sce"
		   ]
		  },
  {
"cell_type": "code",
	   "execution_count": null,
	   "metadata": {
	    "collapsed": true
	   },
	   "outputs": [],
"source": [
"clear;\n",
"clc\n",
"\n",
"i=100\n",
"L=4e-3\n",
"C=300e-12\n",
"E=i* sqrt(L/C)\n",
"T=1/ sqrt(L*C)\n",
"mprintf('e= %.0f *1e3 sin( %.3f *1e6 t) kV',E/1e3,T/1e6)"
   ]
   }
,
{
		   "cell_type": "markdown",
		   "metadata": {},
		   "source": [
			"## Example 12.1: find_L_C_surge_impedance_and_velocity_of_propagation.sce"
		   ]
		  },
  {
"cell_type": "code",
	   "execution_count": null,
	   "metadata": {
	    "collapsed": true
	   },
	   "outputs": [],
"source": [
"clear;\n",
"clc;\n",
"\n",
"rc=.5e-2;\n",
"rs=1.5e-2;\n",
"u=4\n",
"\n",
"L=2e-7 * log(rs/rc);\n",
"mprintf('\nL= %.1f e-7H/m', L*1e7)\n",
"C=u*1e-9/(18 * log(rs/rc))\n",
"mprintf('\nC= %.3f e-9F/m', C*1e9)\n",
"v=1/sqrt(L*C);\n",
"mprintf('\nv= %.1f e8m/s', v*1e-8)\n",
"Zc=sqrt(L/C)\n",
"mprintf('\nZc= %.0f ohm', Zc)"
   ]
   }
,
{
		   "cell_type": "markdown",
		   "metadata": {},
		   "source": [
			"## Example 12.2: find_surge_transmitted.sce"
		   ]
		  },
  {
"cell_type": "code",
	   "execution_count": null,
	   "metadata": {
	    "collapsed": true
	   },
	   "outputs": [],
"source": [
"clear;\n",
"clc;\n",
"\n",
"ef=100;\n",
"Zc=400;\n",
"Z=50;\n",
"et=2*ef*Z/(Z+Zc)\n",
"mprintf('Surge transmitted= %.2f kV',et)"
   ]
   }
,
{
		   "cell_type": "markdown",
		   "metadata": {},
		   "source": [
			"## Example 12.3: find_surge_Vand_I_transmitted.sce"
		   ]
		  },
  {
"cell_type": "code",
	   "execution_count": null,
	   "metadata": {
	    "collapsed": true
	   },
	   "outputs": [],
"source": [
"clear;\n",
"clc;\n",
"\n",
"ef=200;\n",
"Zc=400;\n",
"Z1=500;\n",
"Z2=300;\n",
"et=2*ef*(Z1*Z2/(Z1+Z2))/((Z1*Z2/(Z1+Z2))+Zc)\n",
"mprintf('\nSurge Voltage transmitted= %.2f kV',et)\n",
"it1=et/Z1;\n",
"mprintf('\nSurge Current transmitted= %.3f kA',it1)\n",
"it2=et/Z2;\n",
"mprintf('\nSurge Current transmitted= %.3f kA',fix(it2*100)/100)\n",
"er=et-ef;\n",
"mprintf('\nSurge Voltage Reflected= %.2f kV',er)\n",
"ir=it1+it2-(ef/Zc)\n",
"mprintf('\nSurge Current Reflected= %.2f kA',ir)"
   ]
   }
,
{
		   "cell_type": "markdown",
		   "metadata": {},
		   "source": [
			"## Example 12.4: find_voltage_across_the_inductance_and_the_reflected_voltage_wave.sce"
		   ]
		  },
  {
"cell_type": "code",
	   "execution_count": null,
	   "metadata": {
	    "collapsed": true
	   },
	   "outputs": [],
"source": [
"clear\n",
"clc\n",
"\n",
"E=100\n",
"Zc=400\n",
"L=4000\n",
"\n",
"mprintf('et= %d exp( - %.1f t) KV\n', 2*E, Zc/L)\n",
"mprintf('er= %d (2*exp( - %.1f t) -1) KV\n', E, Zc/L)"
   ]
   }
,
{
		   "cell_type": "markdown",
		   "metadata": {},
		   "source": [
			"## Example 12.7: find_surge_arrester_voltage_and_current.sce"
		   ]
		  },
  {
"cell_type": "code",
	   "execution_count": null,
	   "metadata": {
	    "collapsed": true
	   },
	   "outputs": [],
"source": [
"clear\n",
"clc\n",
"\n",
"V=300e3\n",
"R=400\n",
"k=1.5e-27\n",
"\n",
"E=10\n",
"x=1\n",
"e=1e-5\n",
"while (E>e)\n",
"    f=(k*R*x^6) +x -(2*V)\n",
"    df=(6* k*R*x^5) +1\n",
"    x1=x-(f/df)\n",
"    E=abs(x1-x)\n",
"    x=x1\n",
"end\n",
"eA=round(x)\n",
"IA=k*eA^6\n",
"\n",
"mprintf('eA=%d, Ia=%d ',eA, IA)"
   ]
   }
,
{
		   "cell_type": "markdown",
		   "metadata": {},
		   "source": [
			"## Example 12.8: find_surge_arrester_voltage_and_current.sce"
		   ]
		  },
  {
"cell_type": "code",
	   "execution_count": null,
	   "metadata": {
	    "collapsed": true
	   },
	   "outputs": [],
"source": [
"clear\n",
"clc\n",
"\n",
"V=300e3\n",
"R1=400\n",
"R2=50\n",
"R=1+(400/50)\n",
"k=1.5e-27\n",
"\n",
"E=10\n",
"x=1\n",
"e=1e-5\n",
"while (E>e)\n",
"    f=(k*R1*x^6) +(R*x) -(2*V)\n",
"    df=(6* k*R1*x^5) +R\n",
"    x1=x-(f/df)\n",
"    E=abs(x1-x)\n",
"    x=x1\n",
"end\n",
"eA=round(x)\n",
"IA=k*eA^6\n",
"\n",
"mprintf('eA=%d, Ia=%.1f ',eA, IA)"
   ]
   }
,
{
		   "cell_type": "markdown",
		   "metadata": {},
		   "source": [
			"## Example 12.9: find_reflection_and_refraction_coefficients.sce"
		   ]
		  },
  {
"cell_type": "code",
	   "execution_count": null,
	   "metadata": {
	    "collapsed": true
	   },
	   "outputs": [],
"source": [
"clear;\n",
"clc;\n",
"\n",
"ef=3000;\n",
"Zc=300;\n",
"ea=1700;\n",
"iF=ef/Zc\n",
"mprintf('\nCurrent in line= %d kA',iF)\n",
"Ia=((2*ef)-ea)/Zc\n",
"mprintf('\nCurrent through Arrester= %.3f kA',Ia)\n",
"Ia=round(Ia *1000)/1000\n",
"R=ea/Ia\n",
"mprintf('\nresistance of arrester= %.2f ohm',R)\n",
"er=ea-ef;\n",
"mprintf('\nSurge Voltage Reflected= %.0f kV',er)\n",
"Cr=er/ef;\n",
"CR=ea/ef;\n",
"mprintf('\nCoeff of Reflection = %.3f, Coeff of Refraction=%.3f',Cr,CR)\n",
"Cr=(R-Zc)/(R+Zc);\n",
"CR=(R*2)/(R+Zc);\n",
"mprintf('\nVerification: Coeff of Reflection = %.3f, Coeff of Refraction=%.3f',Cr,CR)"
   ]
   }
],
"metadata": {
		  "kernelspec": {
		   "display_name": "Scilab",
		   "language": "scilab",
		   "name": "scilab"
		  },
		  "language_info": {
		   "file_extension": ".sce",
		   "help_links": [
			{
			 "text": "MetaKernel Magics",
			 "url": "https://github.com/calysto/metakernel/blob/master/metakernel/magics/README.md"
			}
		   ],
		   "mimetype": "text/x-octave",
		   "name": "scilab",
		   "version": "0.7.1"
		  }
		 },
		 "nbformat": 4,
		 "nbformat_minor": 0
}
