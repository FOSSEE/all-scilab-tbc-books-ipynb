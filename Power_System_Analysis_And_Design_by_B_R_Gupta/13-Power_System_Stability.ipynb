{
"cells": [
 {
		   "cell_type": "markdown",
	   "metadata": {},
	   "source": [
       "# Chapter 13: Power System Stability"
	   ]
	},
{
		   "cell_type": "markdown",
		   "metadata": {},
		   "source": [
			"## Example 13.10: system_stability_and_finding_critical_load_angle_due_to_sudden_loading.sce"
		   ]
		  },
  {
"cell_type": "code",
	   "execution_count": null,
	   "metadata": {
	    "collapsed": true
	   },
	   "outputs": [],
"source": [
"clear\n",
"clc\n",
"\n",
"Pm=1\n",
"Pe1=.25\n",
"d1=round(asin(Pe1)*1000)/1000\n",
"\n",
"Pe2=.5\n",
"d2=round(asin(Pe2)*1000)/1000\n",
"\n",
"d3=0;\n",
"\n",
"A1=((Pe2 * d2)+ ( 1 * cos(d2)))- ((Pe2 * d1)+ ( 1 * cos(d1)))\n",
"\n",
"E=10\n",
"x=.811\n",
"e=1e-3\n",
"a=Pe2\n",
"b=1\n",
"c=A1 -((Pe2 * d2)+ ( 1 * cos(d2)))\n",
"\n",
"while (E>e)\n",
"//for (i=1:4)\n",
"    f=(a*x) +  (b * cos(x)) + c\n",
"    df=a - (b*sin(x))\n",
"    x1=x-(f/df)\n",
"    disp(x1,f,df)\n",
"    E=abs(x1-x)\n",
"    x=x1\n",
"end\n",
"d3=x1 * 180/%pi\n",
"\n",
"mprintf('\ndelta 3 = %.1f deg',d3)"
   ]
   }
,
{
		   "cell_type": "markdown",
		   "metadata": {},
		   "source": [
			"## Example 13.11: inertia_constant_of_2_generators_in_parallel.sce"
		   ]
		  },
  {
"cell_type": "code",
	   "execution_count": null,
	   "metadata": {
	    "collapsed": true
	   },
	   "outputs": [],
"source": [
"clear\n",
"clc\n",
"\n",
"G1=50\n",
"H1=8\n",
"\n",
"G2=100\n",
"H2=4\n",
"Gb=100\n",
"\n",
"Ha=(H1*G1/Gb) + (H2*G2/Gb) \n",
"mprintf('\n(a)Ha= %d MJ/MVA', Ha)\n",
"\n",
"Hb=Ha*2\n",
"mprintf('\n(b)Hb= %d MJ/MVA', Hb)\n",
"\n",
"He= (Ha*Hb)/(Ha+Hb)\n",
"mprintf('\n(c)He= %.3f MJ/MVA', He)\n",
""
   ]
   }
,
{
		   "cell_type": "markdown",
		   "metadata": {},
		   "source": [
			"## Example 13.12: find_frequency_deviation_in_case_of_delay_in_opening_steam_valve.sce"
		   ]
		  },
  {
"cell_type": "code",
	   "execution_count": null,
	   "metadata": {
	    "collapsed": true
	   },
	   "outputs": [],
"source": [
"clear\n",
"clc\n",
"\n",
"G=100\n",
"f=50\n",
"H=5\n",
"dL=50\n",
"t=.6\n",
"\n",
"\n",
"J = G*H*1e3;\n",
"dJ=dL*1e3*t\n",
"f2=sqrt((J-dJ)/J)*f\n",
"fd=(f-f2)/f;\n",
"mprintf('Freq deviation = %.3f percent', fd*1e2)"
   ]
   }
,
{
		   "cell_type": "markdown",
		   "metadata": {},
		   "source": [
			"## Example 13.13: find_critical_clearing_angle_during_prefault_fault_and_post_fault_conditions.sce"
		   ]
		  },
  {
"cell_type": "code",
	   "execution_count": null,
	   "metadata": {
	    "collapsed": true
	   },
	   "outputs": [],
"source": [
"clear\n",
"clc\n",
"\n",
"Pi=1\n",
"Pma=1.75\n",
"Pmb=.4\n",
"Pmc=1.25\n",
"\n",
"d0=asin(Pi/Pma)\n",
"dm=%pi - asin(Pi/Pmc)\n",
"\n",
"dcc=acosd(((Pi*(dm-d0))- (Pmb*cos(d0))+ (Pmc*cos(dm)))/(Pmc-Pmb))\n",
"mprintf('Critical Clearing angle = %.1f deg', dcc)"
   ]
   }
,
{
		   "cell_type": "markdown",
		   "metadata": {},
		   "source": [
			"## Example 13.14: point_by_point_solution_of_swing_equation.sce"
		   ]
		  },
  {
"cell_type": "code",
	   "execution_count": null,
	   "metadata": {
	    "collapsed": true
	   },
	   "outputs": [],
"source": [
"clear\n",
"clc\n",
"clf\n",
"\n",
"Sb = 50;\n",
"S=50;\n",
"V =1;\n",
"Xd = 0.2; \n",
"X1 =0.4; \n",
"X2 = 0.4;\n",
"H = 2.7;\n",
"E=1.05 ;\n",
"G=1;\n",
"\n",
"M = G*H/(180*50);\n",
"\n",
"pe0 = (E*V/X1);\n",
"d0=asind(S/(Sb*pe0 ));\n",
"Pe0=pe0 * sind(d0);\n",
"\n",
"pe1 = (E*V/(X1+X2+Xd));\n",
"\n",
"pe2 = (E*V/(X1+Xd));\n",
"\n",
"dt=.05\n",
"c_1=dt*dt/M\n",
"\n",
"for i=1:14\n",
"    if i==1 then \n",
"        m_t(i)=0;\n",
"        m_Pm(i)=Pe0\n",
"        m_sind(i)=sind(d0)\n",
"        m_Pe(i)=S/Sb\n",
"        m_Pa(i)=0\n",
"        m_cPe(i)=c_1 * m_Pa(i)\n",
"        m_dd(i)=0\n",
"        m_d(i)=d0\n",
"    else if i==2 then \n",
"        m_t(i)=0;\n",
"        m_Pm(i)=pe1\n",
"        m_d(i)=d0\n",
"        m_sind(i)=sind(m_d(i))\n",
"        m_Pe(i)=m_sind(i)*m_Pm(i)\n",
"        m_Pa(i)=(1 - m_Pe(i) + m_Pa(i-1))/2\n",
"        m_cPe(i)=c_1 * m_Pa(i)\n",
"        m_dd(i)=0\n",
"    else\n",
"        m_t(i)=m_t(i-1) +dt;\n",
"        m_Pm(i)=pe1\n",
"        m_dd(i)=m_dd(i-1) + m_cPe(i-1)\n",
"        m_d(i)=m_d(i-1)+m_dd(i)\n",
"        m_sind(i)=sind(m_d(i))\n",
"        m_Pe(i)=m_Pm(i) * m_sind(i)\n",
"        m_Pa(i)=(1 - m_Pe(i))\n",
"        m_cPe(i)=c_1 * m_Pa(i)\n",
"    end\n",
"    end\n",
"    \n",
"end\n",
"res1(:,1)=m_t(:)\n",
"res1(:,2)=m_Pm(:)\n",
"res1(:,3)=m_sind(:)\n",
"res1(:,4)=m_Pe(:)\n",
"res1(:,5)=m_Pa(:)\n",
"res1(:,6)=m_cPe(:)\n",
"res1(:,7)=m_dd(:)\n",
"res1(:,8)=m_d(:)\n",
"res1=round(res1*1000)/1000\n",
"i=1\n",
"head=['' '' 't'  '' '' 'Pm'  '' '' 'sin d'  '' '' 'Pe'  '' '''Pa'  '' '''8.33Pa'  '' '''d delta' 'delta']\n",
"disp(res1, head, '(a)')\n",
"plot(m_t, m_d)\n",
"title('Swing Curve(Blue: Sustained fault; Red: Fault cleared in .1 sec)');\n",
"xlabel('seconds');\n",
"ylabel('degrees');\n",
"\n",
"\n",
"//(b)\n",
"while i<15\n",
"    if i==1 then \n",
"        m_t2(i)=0;\n",
"        m_Pm2(i)=Pe0\n",
"        m_sind2(i)=sind(d0)\n",
"        m_Pe2(i)=S/Sb\n",
"        m_Pa2(i)=0\n",
"        m_cPe2(i)=c_1 * m_Pa2(i)\n",
"        m_dd2(i)=0\n",
"        m_d2(i)=d0\n",
"    else if i==2 then \n",
"            m_t2(i)=0;\n",
"            m_Pm2(i)=pe1\n",
"            m_d2(i)=d0\n",
"            m_sind2(i)=sind(m_d2(i))\n",
"            m_Pe2(i)=m_sind2(i)*m_Pm2(i)\n",
"            m_Pa2(i)=(1 - m_Pe2(i) + m_Pa2(i-1))/2\n",
"            m_cPe2(i)=c_1 * m_Pa2(i)\n",
"            m_dd2(i)=0\n",
"        else \n",
"            m_t2(i)=m_t2(i-1) +dt;\n",
"            if m_t2(i) == .1 then\n",
"                m_Pm2(i)=pe1\n",
"                m_dd2(i)=m_dd2(i-1) + m_cPe2(i-1)\n",
"                m_d2(i)=m_d2(i-1)+m_dd2(i)\n",
"                m_sind2(i)=sind(m_d2(i))\n",
"                m_Pe2(i)=m_Pm2(i) * m_sind2(i)\n",
"                m_Pa2(i)=(1 - m_Pe2(i))\n",
"                m_cPe2(i)=c_1 * m_Pa2(i)\n",
"                \n",
"                i=i+1\n",
"                m_t2(i)=m_t2(i-1)\n",
"                m_Pm2(i)=pe2\n",
"                m_dd2(i)=m_dd2(i-1)\n",
"                m_d2(i)=m_d2(i-1)\n",
"                m_sind2(i)=sind(m_d2(i))\n",
"                m_Pe2(i)=m_Pm2(i) * m_sind2(i)\n",
"                m_Pa2(i)=(1 - m_Pe2(i) + m_Pa2(i-1))/2\n",
"                m_cPe2(i)=c_1 * m_Pa2(i)\n",
"            else \n",
"                m_Pm2(i)=m_Pm2(i-1)\n",
"                m_dd2(i)=m_dd2(i-1) + m_cPe2(i-1)\n",
"                m_d2(i)=m_d2(i-1)+m_dd2(i)\n",
"                m_sind2(i)=sind(m_d2(i))\n",
"                m_Pe2(i)=m_Pm2(i) * m_sind2(i)\n",
"                m_Pa2(i)=(1 - m_Pe2(i))\n",
"                m_cPe2(i)=c_1 * m_Pa2(i)\n",
"            end\n",
"        end\n",
"    end\n",
"    i=i+1\n",
"end\n",
"res2(:,1)=m_t2(:)\n",
"res2(:,2)=m_Pm2(:)\n",
"res2(:,3)=m_sind2(:)\n",
"res2(:,4)=m_Pe2(:)\n",
"res2(:,5)=m_Pa2(:)\n",
"res2(:,6)=m_cPe2(:)\n",
"res2(:,7)=m_dd2(:)\n",
"res2(:,8)=m_d2(:)\n",
"res2=round(res2*1000)/1000\n",
"disp(res2,head, '(b)')\n",
"\n",
"plot(m_t2, m_d2,'r')\n",
"//(c)\n",
"D0=d0 * %pi/180\n",
"Pi=1\n",
"Dm=%pi -  asin(Pi/pe2)\n",
"\n",
"dcc=acosd(((Pi * (Dm-D0))-(pe1*cos(D0))+(pe2*cos(Dm)))/(pe2 -pe1))\n",
"tcc=.395\n",
"mprintf('\n\n(c) dcc= %.1f deg; clearing time=%.3f sec', dcc,tcc)"
   ]
   }
,
{
		   "cell_type": "markdown",
		   "metadata": {},
		   "source": [
			"## Example 13.15: find_maximum_load_that_can_be_supplied_by_generator.sce"
		   ]
		  },
  {
"cell_type": "code",
	   "execution_count": null,
	   "metadata": {
	    "collapsed": true
	   },
	   "outputs": [],
"source": [
"clear\n",
"clc\n",
"\n",
"P=50\n",
"pe=100\n",
"\n",
"\n",
"E=10\n",
"x=1\n",
"e=1e-3\n",
"\n",
"d0=30/180 * %pi\n",
"while (E>e)\n",
"    f=cos(d0)+cos(x) - ((%pi - d0-x)*sin(x))\n",
"    df= (-%pi+d0+x)*cos(x)\n",
"    x1=x-(f/df)\n",
"\n",
"    E=abs(x1-x)\n",
"    x=x1\n",
"end\n",
"d1=x1 * 180/%pi\n",
"\n",
"P1=sind(d1) *pe\n",
"Pr=P1-P\n",
"mprintf('\nPower Required = %.2f MW',Pr)"
   ]
   }
,
{
		   "cell_type": "markdown",
		   "metadata": {},
		   "source": [
			"## Example 13.16: finding_steady_state_reactance_and_transfer_limit_for_different_shunt_branches.sce"
		   ]
		  },
  {
"cell_type": "code",
	   "execution_count": null,
	   "metadata": {
	    "collapsed": true
	   },
	   "outputs": [],
"source": [
"clear;\n",
"clc\n",
"\n",
"E=1.5\n",
"V=1\n",
"xg=1\n",
"xm=1\n",
"\n",
"xt1=.1\n",
"xt2=.1\n",
"x1=.4\n",
"x2=.4\n",
"xl=(x1*x2)/(x1+x2)\n",
"X1=xl+xg+xt1\n",
"X2=xt2+xm\n",
"xL=.8\n",
"xC=-.8\n",
"\n",
"\n",
"X3=xC\n",
"X=((X1*X2) + (X2*X3) + (X1*X3))/X3\n",
"P1=E*V/X\n",
"mprintf('\n(a) Steady State limit = %.3f', P1)\n",
"\n",
"X3=xL\n",
"X=((X1*X2) + (X2*X3) + (X1*X3))/X3\n",
"P2=E*V/X\n",
"mprintf('\n(b) Steady State limit = %.3f', P2)"
   ]
   }
,
{
		   "cell_type": "markdown",
		   "metadata": {},
		   "source": [
			"## Example 13.17: find_inertia_constant_and_momentum_of_generator.sce"
		   ]
		  },
  {
"cell_type": "code",
	   "execution_count": null,
	   "metadata": {
	    "collapsed": true
	   },
	   "outputs": [],
"source": [
"clear\n",
"clc\n",
"\n",
"f=50\n",
"w=2*%pi*f\n",
"I=8800\n",
"pf=.85\n",
"J=.5*I*w*w*1e-6\n",
"P=60\n",
"MVA=P/pf\n",
"H=J/MVA\n",
"M=J/(180*f)\n",
"\n",
"mprintf('Inertia const= %.3f MJ/MVA, Momentum= %.5f MJ-s/elec deg',H,M)"
   ]
   }
,
{
		   "cell_type": "markdown",
		   "metadata": {},
		   "source": [
			"## Example 13.18: find_inertia_constant_of_each_machine_and_parallel_ombination.sce"
		   ]
		  },
  {
"cell_type": "code",
	   "execution_count": null,
	   "metadata": {
	    "collapsed": true
	   },
	   "outputs": [],
"source": [
"clear\n",
"clc\n",
"\n",
"f=50\n",
"w=2*%pi*f\n",
"I1=25000\n",
"pf1=.8\n",
"J1=.5*I1*w*w*1e-6\n",
"P1=45\n",
"G1=P1/pf1\n",
"H1=J1/G1\n",
"M1=J1/(180*f)\n",
"\n",
"mprintf('machine 1 \nInertia const= %.2f MJ/MVA, Momentum= %.3f MJ-s/elec deg',H1,M1)\n",
"\n",
"I2=9000\n",
"pf2=.75\n",
"J2=.5*I2*w*w*1e-6\n",
"P2=60\n",
"G2=P2/pf2\n",
"H2=J2/G2\n",
"M2=J2/(180*f)\n",
"\n",
"mprintf('\n\nmachine 2 \nInertia const= %.2f MJ/MVA, Momentum= %.5f MJ-s/elec deg',H2,M2)\n",
"\n",
"M=(M1*M2)/(M1+M2)\n",
"Gb=100\n",
"H=M*180 * f /Gb\n",
"mprintf('\n\n Equivalent constant at 100MVA base \nInertia const= %.4f MJ/MVA, Momentum= %.5f MJ-s/elec deg',H,fix(M*100000)/100000)\n",
""
   ]
   }
,
{
		   "cell_type": "markdown",
		   "metadata": {},
		   "source": [
			"## Example 13.19: EX13_19.sce"
		   ]
		  },
  {
"cell_type": "code",
	   "execution_count": null,
	   "metadata": {
	    "collapsed": true
	   },
	   "outputs": [],
"source": [
"clear\n",
"clc\n",
"\n",
"Pm=2\n",
"Pi=1\n",
"H=6\n",
"G=1\n",
"f=50\n",
"p=Pi/Pm\n",
"M=G*H/(%pi*f)\n",
"d0=asin(p)\n",
"\n",
"dcc=acos(((p*(%pi - (2*d0)))- (Pi*cos(d0)))/(Pm-Pi))\n",
"mprintf('Critical Clearing angle = %.4f rad\n\n', dcc)\n",
"\n",
"tcc=sqrt(2*M*(dcc-d0)/Pi)\n",
"mprintf('Critical Clearing time = %.3f sec = %.2f cycles', tcc , tcc*50)"
   ]
   }
,
{
		   "cell_type": "markdown",
		   "metadata": {},
		   "source": [
			"## Example 13.1: find_P_Q_E_and_load_angle_for_changes_to_P_and_E.sce"
		   ]
		  },
  {
"cell_type": "code",
	   "execution_count": null,
	   "metadata": {
	    "collapsed": true
	   },
	   "outputs": [],
"source": [
"clear;\n",
"clc\n",
"\n",
"Xd=.7\n",
"pf=.8\n",
"pfa=acos(pf)\n",
"V=1\n",
"I0=1* exp( %i * pfa *-1)\n",
"E0=V+ (%i * Xd * I0)\n",
"E=round(abs(E0)*100)/100\n",
"d0=atand(imag(E0)/real(E0))\n",
"E0=E * exp(%i * d0 * %pi/180)\n",
"Pe0=E*V*sind(d0)/Xd\n",
"Qe0=(E*V*cosd(d0)/Xd)-(V*V/Xd)\n",
"\n",
"mprintf('\n(a)\nPe= %.1f Qe=%.1f E= %.2f load angle=%.1f',Pe0, Qe0, E, d0);\n",
"\n",
"e1=E0\n",
"E1=abs(e1)\n",
"Pe1=1.2* Pe0;\n",
"d1=asind(Pe1* Xd/ (V*E1))\n",
"Qe1=(E1*V*cosd(d1)/Xd)-(V*V/Xd)\n",
"\n",
"mprintf('\n(b)\nPe= %.2f Qe=%.2f E= %.2f load angle=%.1f',Pe1, Qe1, E1, d1);\n",
"\n",
"e2=1.2 * E0\n",
"E2=abs(e2)\n",
"Pe2=Pe0;\n",
"d2=asind(Pe2* Xd/ (V*E2))\n",
"Qe2=(E2*V*cosd(d2)/Xd)-(V*V/Xd)\n",
"\n",
"mprintf('\n(c)\nPe= %.1f Qe=%.2f E= %.2f load angle=%.1f',Pe2, Qe2, E2, d2);"
   ]
   }
,
{
		   "cell_type": "markdown",
		   "metadata": {},
		   "source": [
			"## Example 13.2: find_inertia_constants_retardation.sce"
		   ]
		  },
  {
"cell_type": "code",
	   "execution_count": null,
	   "metadata": {
	    "collapsed": true
	   },
	   "outputs": [],
"source": [
"clear;\n",
"clc\n",
"\n",
"P=4\n",
"f=50\n",
"G=200\n",
"H=6\n",
"J=G*H\n",
"mprintf('\n(a)stored energy = %.0f MJ',J)\n",
"\n",
"Pl=120\n",
"Pl1=160\n",
"Pa=Pl-Pl1\n",
"M=J/(180*f)\n",
"a=Pa/M\n",
"mprintf('\n(b)acceleration = %.0f elec deg/ sec sq',a)\n",
"\n",
"c=5\n",
"t=c/f\n",
"dd=.5*a*t*t\n",
"N=120*f/P\n",
"a=a*60/(180*P)\n",
"Nn=N+(a*t)\n",
"mprintf('\n(c)change in power angle = %.1f elec deg, change in speed = %.1f rpm',dd,Nn)\n",
"\n",
"G2=150\n",
"H2=4\n",
"Gb=100\n",
"Heq=((G*H)+(H2*G2))/Gb\n",
"mprintf('\n(d)Equivalent inertia constant = %.0f MJ/MVA',Heq)"
   ]
   }
,
{
		   "cell_type": "markdown",
		   "metadata": {},
		   "source": [
			"## Example 13.3: find_steady_state_stability_parameters.sce"
		   ]
		  },
  {
"cell_type": "code",
	   "execution_count": null,
	   "metadata": {
	    "collapsed": true
	   },
	   "outputs": [],
"source": [
"clear;\n",
"clc\n",
"\n",
"f=50;\n",
"H=9;\n",
"x=.6\n",
"P=.7\n",
"pf=.8\n",
"pfa=acos(pf)\n",
"V=1\n",
"D=.14\n",
"dd=10 * %pi/180\n",
"\n",
"S=P/pf * exp(%i * pfa)\n",
"I=conj(S/V)\n",
"E=V+ (%i * x *I)\n",
"d0=atand(imag(E)/real(E))\n",
"Pr=abs(E) * V * cosd(d0)/x\n",
"mprintf('\nSynchronising Power Coefficient = %.3f pu',Pr)\n",
"\n",
"w1=sqrt(Pr *f *%pi/H)\n",
"mprintf('\nUndamped Speed Of oscillations = %.2f rad/sec',w1)\n",
"w1=round(w1*100)/100\n",
"\n",
"z=(D/2) * sqrt(%pi * f/(H*Pr))\n",
"mprintf('\nDamping Ratio = %.4f ',z)\n",
"\n",
"wd=w1 *sqrt(1-(z*z))\n",
"Wd=wd / (2*%pi)\n",
"mprintf('\ndamped angular frequency Of oscillations = %.3f rad/sec = %.3f Hz',wd, Wd)\n",
"\n",
"z=round(z*1e4)/1e4\n",
"c_1=10/sqrt(1-z^2)\n",
"c_2=z*w1\n",
"\n",
"mprintf('\n\nd = %.2f + %.3f exp(-%.3f t) sin(%.3f t + %.1f deg)', d0, c_1, c_2,wd, acosd(z))\n",
"\n",
"c_3=w1 * 10 /(360 * sqrt(1-z^2))\n",
"mprintf('\n\nf = %.0f - %.4f exp(-%.3f t) sin(%.3f t)', f, c_3, c_2,wd)\n",
"\n",
"\n",
"\n",
"\n",
"\n",
""
   ]
   }
,
{
		   "cell_type": "markdown",
		   "metadata": {},
		   "source": [
			"## Example 13.4: derive_expressions_for_oscillations_of_delta_and_freq_as_functions_of_time.sce"
		   ]
		  },
  {
"cell_type": "code",
	   "execution_count": null,
	   "metadata": {
	    "collapsed": true
	   },
	   "outputs": [],
"source": [
"clear;\n",
"clc\n",
"dP=.1\n",
"f=50;\n",
"H=9;\n",
"x=.6\n",
"P=.7\n",
"pf=.8\n",
"pfa=acos(pf)\n",
"V=1\n",
"D=.14\n",
"dd=10 * %pi/180\n",
"\n",
"S=P/pf * exp(%i * pfa)\n",
"I=conj(S/V)\n",
"E=V+ (%i * x *I)\n",
"d0=atand(imag(E)/real(E))\n",
"Pr=abs(E) * V * cosd(d0)/x\n",
"\n",
"w1=sqrt(Pr *f *%pi/H)\n",
"w1=round(w1*100)/100\n",
"\n",
"z=(D/2) * sqrt(%pi * f/(H*Pr))\n",
"\n",
"wd=w1 *sqrt(1-(z*z))\n",
"Wd=wd / (2*%pi)\n",
"\n",
"z=round(z*1e4)/1e4\n",
"c_1=1/sqrt(1-z^2)\n",
"c_2=z*w1\n",
"c_3=180 * f * dP/(9 * w1^2)\n",
"\n",
"mprintf('\n\nd = %.2f + %.3f(1- (%.3f exp(-%.3f t) sin(%.3f t + %.1f deg)))', d0, c_3,c_1, c_2,wd, acosd(z))\n",
"\n",
"c_4= dP * f /(w1* 9 * sqrt(1-z^2))\n",
"mprintf('\n\nf = %.0f + %.4f exp(-%.3f t) sin(%.3f t)', f, c_4, c_2,wd)"
   ]
   }
,
{
		   "cell_type": "markdown",
		   "metadata": {},
		   "source": [
			"## Example 13.5: finding_steady_state_reactance_and_transfer_limit_for_different_shunt_branches.sce"
		   ]
		  },
  {
"cell_type": "code",
	   "execution_count": null,
	   "metadata": {
	    "collapsed": true
	   },
	   "outputs": [],
"source": [
"clear;\n",
"clc\n",
"\n",
"E=1.1\n",
"V=1\n",
"xg=.7\n",
"xt=.1\n",
"x1=.2\n",
"X1=x1+xg+xt\n",
"X2=.2\n",
"xL=.5\n",
"xC=-.5\n",
"\n",
"\n",
"X=X1+X2\n",
"P1=E*V/X\n",
"mprintf('\n(a) Steady State limit = %.4f', P1)\n",
"\n",
"X3=xL\n",
"X=((X1*X2) + (X2*X3) + (X1*X3))/X3\n",
"P2=E*V/X\n",
"mprintf('\n(b) Steady State limit = %.4f', P2)\n",
"\n",
"X3=xC\n",
"X=((X1*X2) + (X2*X3) + (X1*X3))/X3\n",
"P3=E*V/X\n",
"mprintf('\n(c) Steady State limit = %.3f', P3)\n",
"\n",
"X=X1+xC+X2\n",
"P4=E*V/X\n",
"mprintf('\n(d) Steady State limit = %.2f', P4)\n",
""
   ]
   }
,
{
		   "cell_type": "markdown",
		   "metadata": {},
		   "source": [
			"## Example 13.6: frequency_of_oscillation_of_generator_due_to_loading.sce"
		   ]
		  },
  {
"cell_type": "code",
	   "execution_count": null,
	   "metadata": {
	    "collapsed": true
	   },
	   "outputs": [],
"source": [
"clear;\n",
"clc\n",
"\n",
"f=50\n",
"xg=1\n",
"xl=.5\n",
"E=1.1\n",
"V=1\n",
"H=5\n",
"p=.5\n",
"\n",
"X=xl+xg\n",
"d0=asin(p)\n",
"Pr=E*V*cos(d0)/X\n",
"M=H/(%pi*f)\n",
"wn=sqrt(Pr/M)/(2*%pi)\n",
"\n",
"mprintf('Freg of oscillation = %.2f Hz', wn)"
   ]
   }
,
{
		   "cell_type": "markdown",
		   "metadata": {},
		   "source": [
			"## Example 13.7: system_stability_and_finding_critical_load_angle.sce"
		   ]
		  },
  {
"cell_type": "code",
	   "execution_count": null,
	   "metadata": {
	    "collapsed": true
	   },
	   "outputs": [],
"source": [
"clear\n",
"clc\n",
"\n",
"xd=.2\n",
"x1=.4\n",
"x2=.4\n",
"Pi=1.5\n",
"E=1.2\n",
"V=1\n",
"\n",
"\n",
"X=xd  +((x1*x2)/(x1+x2))\n",
"pe=E*V/X\n",
"d0 = asin(Pi/pe)\n",
"\n",
"X2=xd+x1\n",
"pe2=E*V/X2\n",
"d1 = asin(Pi/pe2)\n",
"dm=%pi- d1\n",
"\n",
"A1=((Pi * d1)+ ( pe2 * cos(d1)))- ((Pi * d0)+ ( pe2 * cos(d0)))\n",
"A2=((Pi * dm)+ ( pe2 * cos(dm)))- ((Pi * d1)+ ( pe2 * cos(d1)))\n",
"\n",
"if abs(A1)<abs(A2) then\n",
"    mprintf('STABLE\n\n')\n",
"else\n",
"    mprintf('UNSTABLE\n\n')\n",
"end\n",
"\n",
"E=10\n",
"x=2\n",
"e=1e-3\n",
"a=Pi\n",
"b=pe2\n",
"c=-A1 +(Pi * d1 ) + (cos (d1) * pe2)\n",
"\n",
"while (E>e)\n",
"    f=(a*x) +  (b * cos(x)) - c\n",
"    df=1.5 - (2*sin(x))\n",
"    x1=x-(f/df)\n",
"    E=abs(x1-x)\n",
"    x=x1\n",
"end\n",
"d2=x1 * 180/%pi\n",
"mprintf('\ndelta 2 = %.2f deg',d2)"
   ]
   }
,
{
		   "cell_type": "markdown",
		   "metadata": {},
		   "source": [
			"## Example 13.8: system_stability_and_finding_critical_load_angle_in_3_phase_fault_in_line.sce"
		   ]
		  },
  {
"cell_type": "code",
	   "execution_count": null,
	   "metadata": {
	    "collapsed": true
	   },
	   "outputs": [],
"source": [
"clear\n",
"clc\n",
"\n",
"xd=.2\n",
"x1=.4\n",
"x2=.4\n",
"Pi=1.5\n",
"E=1.2\n",
"V=1\n",
"\n",
"Xs1=xd  +((x1*x2)/(x1+x2))\n",
"pe=E*V/Xs1\n",
"d0 = asin(Pi/pe)\n",
"dc= (%pi/2)-d0\n",
"dc=round(dc*1e3)/1e3\n",
"\n",
"X1=x1;\n",
"X2=x2/2\n",
"X3=x2/2\n",
"Xs2=((X1*X2) + (X2*X3) + (X1*X3))/X3\n",
"pe2=E*V/Xs2\n",
"\n",
"\n",
"\n",
"Xs3=xd+ x1\n",
"pe3=E*V/Xs3\n",
"d2 = asin(Pi/pe3)\n",
"dm=%pi- d2\n",
"\n",
"\n",
"if pe2<Pi then\n",
"    mprintf('UNSTABLE for sustained fault\n\n')\n",
"else\n",
"    mprintf('STABLE for sustained fault\n\n')\n",
"end\n",
"\n",
"\n",
"A1=((Pi * dc)+ ( pe2 * cos(dc)))- ((Pi * d0)+ ( pe2 * cos(d0)))\n",
"A2=((Pi * dm)+ ( pe3 * cos(dm)))- ((Pi * dc)+ ( pe3 * cos(dc)))\n",
"\n",
"if abs(A1)<abs(A2) then\n",
"    mprintf('STABLE system\n\n')\n",
"else\n",
"    mprintf('UNSTABLE  system\n\n')\n",
"end\n",
"\n",
"\n",
"E=10\n",
"x=2\n",
"e=1e-3\n",
"a=Pi\n",
"b=pe3\n",
"c=-A1 +(Pi * dc ) + (cos (dc) * pe3)\n",
"\n",
"while (E>e)\n",
"    f=(a*x) +  (b * cos(x)) - c\n",
"    df=1.5 - (2*sin(x))\n",
"    x1=x-(f/df)\n",
"    E=abs(x1-x)\n",
"    x=x1\n",
"end\n",
"d2=x1 * 180/%pi\n",
"mprintf('\ndelta 2 = %.2f deg',d2)\n",
"\n",
"Pmb=pe2\n",
"Pmc=pe3\n",
"d0=round(d0*1000)/1000\n",
"dcc=acosd(((Pi*(dm-d0))- (Pmb*cos(d0))+ (Pmc*cos(dm)))/(Pmc-Pmb))\n",
"mprintf('\nCritical Clearing angle = %.1f deg', dcc)\n",
"\n",
"\n",
"\n",
"\n",
"\n",
"\n",
"\n",
"\n",
"\n",
""
   ]
   }
,
{
		   "cell_type": "markdown",
		   "metadata": {},
		   "source": [
			"## Example 13.9: system_stability_and_finding_critical_load_angle_in_3_phase_fault_at_bus.sce"
		   ]
		  },
  {
"cell_type": "code",
	   "execution_count": null,
	   "metadata": {
	    "collapsed": true
	   },
	   "outputs": [],
"source": [
"clear\n",
"clc\n",
"\n",
"xd=.2\n",
"x1=.4\n",
"x2=.4\n",
"Pi=1.5\n",
"E=1.2\n",
"V=1\n",
"\n",
"Xs1=xd  +((x1*x2)/(x1+x2))\n",
"pe=E*V/Xs1\n",
"d0 = asin(Pi/pe)\n",
"\n",
"Xs3=xd+ x1\n",
"pe3=E*V/Xs3\n",
"d2 = asin(Pi/pe3)\n",
"dm=%pi- d2\n",
"\n",
"Pmb=0\n",
"Pmc=pe3\n",
"dcc=acosd(((Pi*(dm-d0))- (Pmb*cos(d0))+ (Pmc*cos(dm)))/(Pmc-Pmb))\n",
"mprintf('Critical Clearing angle = %.2f deg', dcc)"
   ]
   }
,
{
		   "cell_type": "markdown",
		   "metadata": {},
		   "source": [
			"## Example 19.20: finding_acceleration_torque_and_change_in_torque_angle_due_to_losses.sce"
		   ]
		  },
  {
"cell_type": "code",
	   "execution_count": null,
	   "metadata": {
	    "collapsed": true
	   },
	   "outputs": [],
"source": [
"clear\n",
"clc\n",
"\n",
"f=50\n",
"G=20\n",
"V=13.2\n",
"H=9\n",
"nP=4\n",
"\n",
"J=G*H\n",
"mprintf('\n(a)Stored Energy = %.0f MJ', J)\n",
"disp('The unit is incorrectly mentioned as ''mJ'' in the textbook.');\n",
"\n",
"Pi= 25*.735\n",
"P=15\n",
"Pa=Pi-P\n",
"M=G*H/(180*f)\n",
"a=Pa/M\n",
"mprintf('\n(b)Acceleration = %.2f elec deg/sec sq',a )\n",
"\n",
"\n",
"c=15\n",
"t=c/f\n",
"dd=.5*a*t*t\n",
"mprintf('\n(c)change in angle = %.2f deg',dd )\n",
"\n",
"A=a * 60 / (180*nP)\n",
"Ns=120*f/nP\n",
"N=Ns+(A*t)\n",
"mprintf('\n(d)New speed = %.3f rpm',fix(N*1000)/1000 )"
   ]
   }
],
"metadata": {
		  "kernelspec": {
		   "display_name": "Scilab",
		   "language": "scilab",
		   "name": "scilab"
		  },
		  "language_info": {
		   "file_extension": ".sce",
		   "help_links": [
			{
			 "text": "MetaKernel Magics",
			 "url": "https://github.com/calysto/metakernel/blob/master/metakernel/magics/README.md"
			}
		   ],
		   "mimetype": "text/x-octave",
		   "name": "scilab",
		   "version": "0.7.1"
		  }
		 },
		 "nbformat": 4,
		 "nbformat_minor": 0
}
