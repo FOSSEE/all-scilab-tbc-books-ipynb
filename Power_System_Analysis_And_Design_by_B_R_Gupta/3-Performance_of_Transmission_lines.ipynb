{
"cells": [
 {
		   "cell_type": "markdown",
	   "metadata": {},
	   "source": [
       "# Chapter 3: Performance of Transmission lines"
	   ]
	},
{
		   "cell_type": "markdown",
		   "metadata": {},
		   "source": [
			"## Example 3.10: EX3_10.sce"
		   ]
		  },
  {
"cell_type": "code",
	   "execution_count": null,
	   "metadata": {
	    "collapsed": true
	   },
	   "outputs": [],
"source": [
"clear;\n",
"clc;\n",
"\n",
"d=100;\n",
"f=50;\n",
"r=.153;\n",
"l=1.21e-3;\n",
"c=.00958e-6;\n",
"xl=2*%pi*f*l;\n",
"xc=1/(2*%pi*f*c);\n",
"Vr=110e3/sqrt(3);\n",
"Pr=20e6;\n",
"pf=.9;\n",
"pfa=-1*acos(pf);\n",
"Irm=Pr/(3*Vr*pf);\n",
"Ir=complex(Irm *pf, Irm * sin(pfa));\n",
"\n",
"Z=complex(r,xl) * d;\n",
"Y=complex(0,1/xc) *d;\n",
"\n",
"//disp(abs(Z),Y,abs(Ir));\n",
"\n",
"Vs=(Vr*(1+((Z*Y)/2)))+ (Ir*Z);\n",
"V=abs(Vs);\n",
"vs=sqrt(3)*V*1e-3;\n",
"mprintf('\nSending End Voltage = %.2f kV',vs);\n",
"\n",
"Is=(Vr*Y*(1+(Z*Y/4)))+(Ir*(1+(Y*Z/2)));\n",
"I=abs(Is);\n",
"mprintf('\nSending End Current = %.2f A',I);\n",
"\n",
"phi1=atan(imag(Vs)/real(Vs))*(180/%pi);\n",
"phi2=atan(imag(Is)/real(Is))*(180/%pi);\n",
"phi=phi1-phi2;\n",
"pfs=cosd(phi);\n",
"mprintf('\nSending End Power factor = %.3f  ',pfs);\n",
"\n",
"\n",
"Vr0=V/(1+(Y*Z/2));\n",
"V0=abs(Vr0);\n",
"VR=(V0-Vr)/Vr;\n",
"mprintf('\nVoltage Regulation = %.2f ',VR*100);\n",
"\n",
"eff=Pr*100/(3*pfs*V*I)\n",
"mprintf('\nEfficiency = %.0f percent ',eff);"
   ]
   }
,
{
		   "cell_type": "markdown",
		   "metadata": {},
		   "source": [
			"## Example 3.11: find_receiving_end_parameters.sce"
		   ]
		  },
  {
"cell_type": "code",
	   "execution_count": null,
	   "metadata": {
	    "collapsed": true
	   },
	   "outputs": [],
"source": [
"clear;\n",
"clc;\n",
"\n",
"d=500;\n",
"z=complex(.105, .3768);\n",
"y=complex(0, 2.822e-6);\n",
"Z=z*d;\n",
"Y=y*d;\n",
"YZ=Y*Z;\n",
"\n",
"A=1+(YZ/2)+((YZ)^2/24);\n",
"B=Z * (1+(YZ/6)+((YZ)^2/120));\n",
"C=Y * (1+(YZ/6)+((YZ)^2/120));\n",
"D=A;\n",
"\n",
"A=round(abs(A)*10000)/10000 * exp(%i * round(atan(imag(A)/real(A))*100)/100)\n",
"B=round(abs(B)*1000)/1000   * exp(%i * round(atan(imag(B)/real(B))*100)/100)\n",
"\n",
"//see(B)\n",
"\n",
"\n",
"Vr=220e3/sqrt(3); //incorrectly taken as 127021 in textbook.\n",
"Vr=round(Vr)\n",
"Pr=40e6;\n",
"pf=.9;\n",
"pfa=-1*acos(pf);\n",
"Irm=Pr/(3*Vr);\n",
"Ir=complex(Irm *pf, Irm * round(sin(pfa)*100)/100);\n",
"\n",
"Vs=(A*Vr)+(B*Ir);\n",
"V=abs(Vs);\n",
"vs=sqrt(3)*V*1e-3;\n",
"phi1=atand(imag(Vs)/real(Vs));\n",
"mprintf('\nSending End Voltage = %.2f kV',vs);\n",
"\n",
"Is=(C*Vr)+(D*Ir);\n",
"I=abs(Is);\n",
"phi2=atand(imag(Is)/real(Is))\n",
"mprintf('\nSending End Current = %.2f A',I);\n",
"\n",
"phi=phi2-phi1;\n",
"pfs=cosd(phi);\n",
"mprintf('\nSending End Power factor = %.3f  ',pfs);\n",
"mprintf('\nSending End Power Angle = %.3f  ',phi1);\n",
"\n",
"MVA=sqrt(3) * vs* I /1000;\n",
"mprintf('\nSending End Power = %.3f  ',MVA);\n",
"\n",
"disp('difference in results is due to taking Vr= 127021V instead of 127017V')"
   ]
   }
,
{
		   "cell_type": "markdown",
		   "metadata": {},
		   "source": [
			"## Example 3.12: find_OC_receiving_end_parameters.sce"
		   ]
		  },
  {
"cell_type": "code",
	   "execution_count": null,
	   "metadata": {
	    "collapsed": true
	   },
	   "outputs": [],
"source": [
"clear;\n",
"clc;\n",
"\n",
"d=500;\n",
"z=complex(.105, .3768);\n",
"y=complex(0, 2.822e-6);\n",
"Z=z*d;\n",
"Y=y*d;\n",
"YZ=Y*Z;\n",
"\n",
"A=1+(YZ/2)+((YZ)^2/24);\n",
"B=Z * (1+(YZ/6)+((YZ)^2/120));\n",
"C=Y * (1+(YZ/6)+((YZ)^2/120));\n",
"D=A;\n",
"\n",
"Vr=220e3/sqrt(3);\n",
"Pr=40e6;\n",
"pf=.9;\n",
"pfa=-1*acos(pf);\n",
"Ir=0;\n",
"\n",
"Vs=(A*Vr)+(B*Ir);\n",
"V=abs(Vs);\n",
"vs=sqrt(3)*V*1e-3;\n",
"phi1=atan(imag(Vs)/real(Vs))*(180/%pi);\n",
"mprintf('\nSending End Voltage = %.2f kV',vs);\n",
"\n",
"Is=(C*Vr)+(D*Ir);\n",
"I=abs(Is);\n",
"phi2=atan(imag(Is)/real(Is))*(180/%pi);\n",
"mprintf('\nSending End Current = %.1f A',I);\n",
"\n",
"phi2=phi2+180;\n",
"phi=phi1-phi2;\n",
"pfs=cosd(phi);\n",
"mprintf('\nSending End Power factor = %.4f  ',pfs);"
   ]
   }
,
{
		   "cell_type": "markdown",
		   "metadata": {},
		   "source": [
			"## Example 3.13: find_characteristic_impedance_propagation_constant_and_ABCD_for_line.sce"
		   ]
		  },
  {
"cell_type": "code",
	   "execution_count": null,
	   "metadata": {
	    "collapsed": true
	   },
	   "outputs": [],
"source": [
"clear;\n",
"clc;\n",
"\n",
"Z=complex(14.1, 51.48);\n",
"Y=complex(0, 1.194e-3);\n",
"Zc=sqrt(Z/Y);\n",
"g=sqrt(Z*Y);\n",
"A=cosh(g);\n",
"B=Zc* sinh(g);\n",
"C=sinh(g)/Zc;\n",
"D=A;\n",
"\n",
"mprintf('\nZc= %s', string(round(abs(Zc)*1000)/1000) +'/_'+ string(round(atand(imag(Zc)/real(Zc))*100)/100) )\n",
"mprintf('\npropgation const= %s', string(round(abs(g)*1000)/1000) +'/_'+ string(round(atand(imag(g)/real(g))*100)/100) )\n",
"mprintf('\nA= %s', string(round(abs(A)*1000)/1000) +'/_'+ string(round(atand(imag(A)/real(A))*100)/100) )\n",
"mprintf('\nB= %s', string(round(abs(B)*1000)/1000) +'/_'+ string(round(atand(imag(B)/real(B))*100)/100) )\n",
"mprintf('\nC= %s', string(round(abs(C)*1000)/1000) +'/_'+ string(round(atand(imag(C)/real(C))*100)/100 +180) )\n",
"mprintf('\nD= %s', string(round(abs(D)*1000)/1000) +'/_'+ string(round(atand(imag(D)/real(D))*100)/100) )"
   ]
   }
,
{
		   "cell_type": "markdown",
		   "metadata": {},
		   "source": [
			"## Example 3.14: find_receiving_end_voltage_and_current.sce"
		   ]
		  },
  {
"cell_type": "code",
	   "execution_count": null,
	   "metadata": {
	    "collapsed": true
	   },
	   "outputs": [],
"source": [
"clear;\n",
"clc;\n",
"\n",
"Z=complex(200*cosd(80), 200*sind(80));\n",
"Y=complex(.0013*cosd(90),.0013*sind(90));\n",
"YZ=Y*Z;\n",
"\n",
"A=1+(YZ/2)+((YZ)^2/24);\n",
"B=Z * (1+(YZ/6)+((YZ)^2/120));\n",
"phiA=atan(imag(A)/real(A))*(180/%pi);\n",
"phiB=atan(imag(B)/real(B))*(180/%pi);\n",
"\n",
"P=60e6\n",
"pf=.8;\n",
"Vs=round(220/sqrt(3))*1e3;\n",
"VIrm=P/(3*pf)\n",
"pfa=acos(pf);\n",
"VIr=complex(VIrm *pf, VIrm * sin(pfa));\n",
"\n",
"pfa=pfa*(180/%pi);\n",
"a=(round(abs(A)*1000)/1000)^2;\n",
"b=round(((2*(abs(A)* (VIrm)*cosd(phiA)*abs(B)*cosd(phiB-pfa)) )+ (2*(abs(A)* (VIrm)*sind(phiA)*abs(B)*sind(phiB-pfa))) - (Vs^2))/1e7)*1e7;\n",
"c=abs(B)^2 * (VIrm)^2;\n",
"Vr=sqrt((-b+sqrt((b*b)-(4*a*c)))/(2*a));\n",
"\n",
"vr=sqrt(3) * Vr / 1000;\n",
"Ir=VIr/(Vr*pf);\n",
"mprintf('Receiveing End Line voltage= %.0f kV', fix(vr));\n",
"mprintf('\n Receiveing End Line Current= %.0f A', Ir);"
   ]
   }
,
{
		   "cell_type": "markdown",
		   "metadata": {},
		   "source": [
			"## Example 3.15: finding_and_comparing_pi_and_T_network_parameters.sce"
		   ]
		  },
  {
"cell_type": "code",
	   "execution_count": null,
	   "metadata": {
	    "collapsed": true
	   },
	   "outputs": [],
"source": [
"clear;\n",
"clc;\n",
"\n",
"Z=complex(180*cosd(75) , 180*sind(75));\n",
"Y=complex(1e-3*cosd(90) , 1e-3*sind(90));\n",
"\n",
"g=sqrt(Y*Z);\n",
"Zc=sqrt(Z/Y);\n",
"\n",
"Z1=Zc * sinh(g);\n",
"Y1=(1/Zc) *1e3*( (cosh(g)-1)/sinh(g));\n",
"\n",
"\n",
"mprintf('\nZpi= %s', string(round(abs(Z1)*100)/100) +'/_'+ string(round(atand(imag(Z1)/real(Z1))*100)/100) )\n",
"mprintf('\nYpi/2= %s *1E-3', string(round(abs(Y1)*10000)/10000) +'/_'+ string(round(atand(imag(Y1)/real(Y1))*10)/10) )\n",
""
   ]
   }
,
{
		   "cell_type": "markdown",
		   "metadata": {},
		   "source": [
			"## Example 3.16: sending_end_parameters_using_nominal_pi_circuit_and_long_line_equations.sce"
		   ]
		  },
  {
"cell_type": "code",
	   "execution_count": null,
	   "metadata": {
	    "collapsed": true
	   },
	   "outputs": [],
"source": [
"clear;\n",
"clc;\n",
"\n",
"Vr=132e3/sqrt(3);\n",
"P=40e6;\n",
"pf=.8;\n",
"Irm=P/(3*Vr)\n",
"pfa=-1* acos(pf);\n",
"Ir=complex(Irm *pf, Irm * sin(pfa));\n",
"\n",
"Z=complex(52, 200)\n",
"Y=complex(0, 1.5e-3)\n",
"YZ=Y*Z;\n",
"\n",
"A=1+ (YZ/2);\n",
"D=A;\n",
"B=Z;\n",
"C=Y*(1+(YZ/4));\n",
"\n",
"Vs=(A*Vr)+(B*Ir);\n",
"V=abs(Vs)\n",
"vs=V*sqrt(3)*1e-3;\n",
"mprintf('(a)\nSending End Voltage= %.0f kV', vs)\n",
"\n",
"Is=(C*Vr)+(D*Ir);\n",
"I=abs(Is)\n",
"mprintf('\nSending End Current= %.1f A', I)\n",
"\n",
"phi1=atan(imag(Vs)/real(Vs))*(180/%pi);\n",
"phi2=atan(imag(Is)/real(Is))*(180/%pi);\n",
"phi=phi1-phi2;\n",
"pfs=cosd(phi);\n",
"mprintf('\nSending End pf= %.3f ',pfs)\n",
"\n",
"Ps=sqrt(3)* vs * I * pfs /1000;\n",
"mprintf('\nSending End Power= %.1f ',Ps)\n",
"\n",
"\n",
"//(b)\n",
"Zc=sqrt(Z/Y);\n",
"g=sqrt(Z*Y);\n",
"A=cosh(g);\n",
"B=Zc* sinh(g);\n",
"C=sinh(g)/Zc;\n",
"D=A;\n",
"\n",
"Vs=(A*Vr)+(B*Ir);\n",
"V=abs(Vs)\n",
"vs=V*sqrt(3)*1e-3;\n",
"mprintf('\n\n\n(b)\nSending End Voltage= %.1f kV', vs)\n",
"\n",
"Is=(C*Vr)+(D*Ir);\n",
"I=abs(Is)\n",
"mprintf('\nSending End Current= %.1f A', fix(I*10)/10)\n",
"\n",
"phi1=atan(imag(Vs)/real(Vs))*(180/%pi);\n",
"phi2=atan(imag(Is)/real(Is))*(180/%pi);\n",
"phi=phi1-phi2;\n",
"pfs=cosd(phi);\n",
"mprintf('\nSending End pf= %.3f ',pfs)\n",
"\n",
"Ps=sqrt(3)* vs * I * pfs /1000;\n",
"mprintf('\nSending End Power= %.1f ',Ps)"
   ]
   }
,
{
		   "cell_type": "markdown",
		   "metadata": {},
		   "source": [
			"## Example 3.17: ABCD_parameters_of_pi_network.sce"
		   ]
		  },
  {
"cell_type": "code",
	   "execution_count": null,
	   "metadata": {
	    "collapsed": true
	   },
	   "outputs": [],
"source": [
"clear;\n",
"clc;\n",
"\n",
"Y1=500^-1;\n",
"Y2=1000^-1;\n",
"Z=100;\n",
"\n",
"A= 1+Y2 * Z;\n",
"B=Z;\n",
"C=Y1+Y2+(Y1*Y2*Z);\n",
"D=1+Y1 * Z\n",
"\n",
"mprintf('A= %.1f ; B= %.1f ohm ; C=%.1f *1e-3seimens; D= %.1f', A, B, C*1e3, D);"
   ]
   }
,
{
		   "cell_type": "markdown",
		   "metadata": {},
		   "source": [
			"## Example 3.18: ABCD_parameters_of_composite_system.sce"
		   ]
		  },
  {
"cell_type": "code",
	   "execution_count": null,
	   "metadata": {
	    "collapsed": true
	   },
	   "outputs": [],
"source": [
"clear;\n",
"clc;\n",
"\n",
"A1=complex(.98 * cosd(2), .98* sind(2));\n",
"B1=complex(28 * cosd(69), 28* sind(69));\n",
"C1=complex(.0002 * cosd(80), .0002* sind(80));\n",
"D1=A1;\n",
"\n",
"A2=complex(.95 * cosd(3), .95* sind(3));\n",
"B2=complex(40 * cosd(85), 40* sind(85));\n",
"C2=complex(.0004 * cosd(90), .0004* sind(90));\n",
"D2=A2;\n",
"\n",
"//(a)\n",
"\n",
"A= (A1* A2) + (B1* C2);\n",
"B= (A1* B2) + (B1* D2);\n",
"C= (C1* A2) + (D1* C2);\n",
"D= (C1* B2) + (D1* D2);\n",
"\n",
"\n",
"mprintf('(a)');\n",
"mprintf('\nA= %s', string(round(abs(A)*1000)/1000) +'/_'+ string(round(atand(imag(A)/real(A))*10)/10) )\n",
"mprintf('\nB= %s', string(round(abs(B)*100)/100) +'/_'+ string(round(atand(imag(B)/real(B))*100)/100) )\n",
"mprintf('\nC= %s *1e-4', string(round(abs(C)*100000)/10) +'/_'+ string(round(atand(imag(C)/real(C))*10)/10 ) )\n",
"mprintf('\nD= %s', string(round(abs(D)*1000)/1000) +'/_'+ string(round(atand(imag(D)/real(D))*10)/10) )\n",
"\n",
"\n",
"//(b)\n",
"\n",
"Vr=110e3/sqrt(3);\n",
"pf=.95;\n",
"Irm=200\n",
"pfa=-1* acos(pf);\n",
"Ir=complex(Irm *pf, Irm * sin(pfa));\n",
"\n",
"Vs=(A*Vr)+(B*Ir);\n",
"V=abs(Vs)\n",
"vs=V*sqrt(3)*1e-3;\n",
"mprintf('\n\n\n(b)\nSending End Voltage= %.2f kV', vs)\n",
"\n",
"Is=(C*Vr)+(D*Ir);\n",
"I=abs(Is)\n",
"mprintf('\nSending End Current= %.1f A', I)\n",
"\n",
"phi1=atan(imag(Vs)/real(Vs))*(180/%pi);\n",
"phi2=atan(imag(Is)/real(Is))*(180/%pi);\n",
"phi=phi1-phi2;\n",
"pfs=cosd(phi);\n",
"mprintf('\nSending End pf= %.2f ',pfs)"
   ]
   }
,
{
		   "cell_type": "markdown",
		   "metadata": {},
		   "source": [
			"## Example 3.19: ferrenti_effect.sce"
		   ]
		  },
  {
"cell_type": "code",
	   "execution_count": null,
	   "metadata": {
	    "collapsed": true
	   },
	   "outputs": [],
"source": [
"clear;\n",
"clc;\n",
"\n",
"Vr=220e3/sqrt(3);\n",
"d=300;\n",
"f=50;\n",
"\n",
"V=-1*((Vr*(2*%pi*f)^2 * d*d *1e-10)/18);\n",
"Vs=Vr+V;\n",
"vs=sqrt(3) * Vs /1000;\n",
"mprintf('Sending end voltage=%.2f kV, and voltage rise =%.0f V/phase', vs, -1*V)"
   ]
   }
,
{
		   "cell_type": "markdown",
		   "metadata": {},
		   "source": [
			"## Example 3.1: convert_to_per_unit_system_at_common_base.sce"
		   ]
		  },
  {
"cell_type": "code",
	   "execution_count": null,
	   "metadata": {
	    "collapsed": true
	   },
	   "outputs": [],
"source": [
"clear;\n",
"clc;\n",
"\n",
"\n",
"sg1=10e6;\n",
"vg1=13.2e3;\n",
"sg2=15e6;\n",
"vg2=13.2e3;\n",
"sm1=8e6;\n",
"vm1=12.5e3;\n",
"sm2=12e6;\n",
"vm2=12.5e3;\n",
"Xg=15;\n",
"Xm=20;\n",
"\n",
"sb=50e6;\n",
"vb=13.8e3;\n",
"\n",
"xg1=Xg * (vg1/vb)^2 * (sb/sg1);\n",
"xg2=Xg * (vg2/vb)^2 * (sb/sg2);\n",
"xm1=Xm * (vm1/vb)^2 * (sb/sm1);\n",
"xm2=Xm * (vm2/vb)^2 * (sb/sm2);\n",
" mprintf ('\nReactance of Generator 1= %.2f percent',xg1);\n",
" mprintf ('\nReactance of Generator 2= %.2f percent',xg2);\n",
" mprintf ('\nReactance of Motor 1= %.2f percent',xm1);\n",
" mprintf ('\nReactance of Motor 2= %.2f percent',xm2);\n",
" "
   ]
   }
,
{
		   "cell_type": "markdown",
		   "metadata": {},
		   "source": [
			"## Example 3.20: P_and_Q_consumed_by_generator_and_motor_in_circuit_and_line_losses.sce"
		   ]
		  },
  {
"cell_type": "code",
	   "execution_count": null,
	   "metadata": {
	    "collapsed": true
	   },
	   "outputs": [],
"source": [
"clear;\n",
"clc;\n",
"\n",
"E=11e3/sqrt(3);\n",
"E1=complex(E*cosd(0), E*sind(0));\n",
"E2=complex(E*cosd(40), E*sind(40));\n",
"Z=complex(0,15);\n",
"I=(E1-E2)/Z;\n",
"\n",
"if (real(I)<0)     then\n",
"      mprintf('E1=generator, E2=motor');\n",
"    else \n",
"        mprintf('E2=generator, E1=motor');\n",
"end\n",
"\n",
"S1=3 * E1 *1e-6* conj(I);\n",
"S2=3 * E2 *1e-6* conj(I);\n",
"\n",
"mprintf('\n\n(a)Real Power consumed by E2= %.3f MW,\nPower delivered by E1= %.3f MW', -1*real(S2), -1*real(S1) );\n",
"mprintf('\n\n(b) Reactive Power supplied by E1= %.3f MVAr,\nPower supplied by E2= %.3f MVAr', imag(S1),imag(S2)*-1 );\n",
"mprintf('\n\n(C) Reactive Power absorbed by line= %.3f MVAr', 2* imag(S1) );"
   ]
   }
,
{
		   "cell_type": "markdown",
		   "metadata": {},
		   "source": [
			"## Example 3.21: compensation_paramenters.sce"
		   ]
		  },
  {
"cell_type": "code",
	   "execution_count": null,
	   "metadata": {
	    "collapsed": true
	   },
	   "outputs": [],
"source": [
"clear;\n",
"clc;\n",
"\n",
"Vr=132e3/sqrt(3);\n",
"P=50e6;\n",
"pf=.8;\n",
"Irm=P/(3*Vr)\n",
"pfa=-1* acos(pf);\n",
"Ir=complex(Irm *pf, Irm * sin(pfa));\n",
"\n",
"A=complex(.98*cosd(3), .98*sind(3));\n",
"B=complex(110*cosd(75), 110*sind(75));\n",
"\n",
"Vs=(A*Vr)+(B*Ir);\n",
"V=abs(Vs)\n",
"vs=V*sqrt(3)*1e-3;\n",
"mprintf('\n\n\n(a)\nSending End Voltage= %.1f kV', vs)\n",
"\n",
"phi1=atan(imag(Vs)/real(Vs))*(180/%pi);\n",
"mprintf('\nPower Angle= %.2f ',phi1)\n",
"\n",
"\n",
"Ss=(((vs)^2 * conj(A/B))-((sqrt(3)*Vr/1000)*(sqrt(3)*Vs/1000)/conj(B)));\n",
"Ps=real(Ss);\n",
"Qs=imag(Ss);\n",
"\n",
"mprintf('\n\n\n(b)\nSending End Active Power= %.1f MW', Ps)\n",
"mprintf('\nSending End Reactive Power= %.1f MVar lagging', Qs)\n",
"\n",
"Pl=Ps-(P * cos(pfa)*1e-6);\n",
"Ql=Qs-(P* -1*sin(pfa)*1e-6);\n",
"mprintf('\n\n\n(c)\nLine Loss= %.1f MW', Pl)\n",
"mprintf('\nMVar absorbed by line= %.1f MVar', Ql)\n",
"\n",
"Pr=(P * cos(pfa)*1e-6);\n",
"Qr=(P * sin(pfa)*1e-6);\n",
"Vs1=140;\n",
"Vr1=132;\n",
"\n",
"bd=acos(( Pr+real(((Vr1)^2 * conj(A/B))) ) * (abs(B)/(Vs1 *Vr1)));\n",
"Qr1= (((Vs1 *Vr1)/abs(B))*sin(bd))- imag(((Vr1)^2 * conj(A/B)));\n",
"Q=-Qr-Qr1;\n",
"mprintf('\n\n\n(d)\nCapacity of static capacitor= %.1f MVar', Q)\n",
"\n",
"Vs2=132;\n",
"Vr2=132;\n",
"bd2=asin(( imag(((Vr2)^2 * conj(A/B))) ) * (abs(B)/(Vs2 *Vr2)));\n",
"P2= (((Vs2 *Vr2)/abs(B))*cos(bd2))- real(((Vr2)^2 * conj(A/B)));\n",
"mprintf('\n\n\n(e)\nPower supplied= %.2f MW',P2)"
   ]
   }
,
{
		   "cell_type": "markdown",
		   "metadata": {},
		   "source": [
			"## Example 3.22: find_tapsetting_of_transformer.sce"
		   ]
		  },
  {
"cell_type": "code",
	   "execution_count": null,
	   "metadata": {
	    "collapsed": true
	   },
	   "outputs": [],
"source": [
"clear;\n",
"clc;\n",
"\n",
"Pr=90e6\n",
"pf=.9;\n",
"S=Pr/(3*pf);\n",
"\n",
"P=Pr/3\n",
"Q=sqrt(S^2 - P^2);\n",
"\n",
"V1=220e3/sqrt(3);\n",
"V2=220e3/sqrt(3);\n",
"\n",
"R=15\n",
"X=50;\n",
"\n",
"tr=sqrt(1-(((R*P)+(X*Q))/(V1^2)));\n",
"mprintf('tap setting  tr= %.4f, ts=%.3f',fix(1e4/tr)/1e4,tr)"
   ]
   }
,
{
		   "cell_type": "markdown",
		   "metadata": {},
		   "source": [
			"## Example 3.23: find_tap_setting_under_given_conditions.sce"
		   ]
		  },
  {
"cell_type": "code",
	   "execution_count": null,
	   "metadata": {
	    "collapsed": true
	   },
	   "outputs": [],
"source": [
"clear;\n",
"clc;\n",
"\n",
"Vb=132\n",
"Sb=100\n",
"X=.15\n",
"\n",
"v1=125\n",
"V1=v1/Vb;\n",
"Q1=50;\n",
"Qpu1=Q1/Sb;\n",
"\n",
"Vn1=(V1 + sqrt(V1^2 - (4*Qpu1*X)))/(2*1);\n",
"vn1=Vn1 * Vb;\n",
"Vo1=33;\n",
"t1=vn1/Vo1;\n",
"\n",
"v2=140\n",
"V2=v2/Vb;\n",
"Q2=20;\n",
"Qpu2=Q2/Sb;\n",
"\n",
"Vn2=(V2 + sqrt(V2^2 - (4*Qpu2*X)))/(2*1);\n",
"vn2=Vn2 * Vb;\n",
"Vo2=33;\n",
"t2=vn2/Vo2;\n",
"\n",
"tm=(t1+t2)/2;\n",
"dt=tm-t1;\n",
"ts=dt*100/tm\n",
"\n",
"mprintf('tap setting = +- %.0f percent', ts);"
   ]
   }
,
{
		   "cell_type": "markdown",
		   "metadata": {},
		   "source": [
			"## Example 3.26: find_capacity_of_phase_modifier_at_different_loads.sce"
		   ]
		  },
  {
"cell_type": "code",
	   "execution_count": null,
	   "metadata": {
	    "collapsed": true
	   },
	   "outputs": [],
"source": [
"clear;\n",
"clc;\n",
"\n",
"Vr1=132\n",
"Vs1=140\n",
"VA=40;\n",
"pf=.8;\n",
"Pr=VA*pf;\n",
"pfa=-1* acos(pf);\n",
"Qr=(VA * sin(pfa));\n",
"\n",
"A=complex(.98*cosd(3), .98*sind(3));\n",
"B=complex(110*cosd(75), 110*sind(75));\n",
"\n",
"bd1=acos(( Pr+real(((Vr1)^2 * conj(A/B))) ) * (abs(B)/(Vs1 *Vr1)));\n",
"Qr1= (((Vs1 *Vr1)/abs(B))*sin(bd1))-imag(((Vr1)^2 * conj(A/B)));\n",
"\n",
"Q1=-Qr-Qr1;\n",
"mprintf('\n\n\n(a)\nCapacity of static capacitor= %.2f MVar leading', fix(Q1*100)/100)\n",
"\n",
"Prn=0;\n",
"Qrn=0;\n",
"\n",
"bd2=acos((Prn+real(((Vr1)^2 * conj(A/B))) ) * (abs(B)/(Vs1 *Vr1)));\n",
"Qr2= (((Vs1 *Vr1)/abs(B))*sin(bd2))-imag(((Vr1)^2 * conj(A/B)));\n",
"\n",
"Q2=-Qrn-Qr2;\n",
"mprintf('\n\n\n(b)\nCapacity of static capacitor= %.1f MVar lagging', -Q2)"
   ]
   }
,
{
		   "cell_type": "markdown",
		   "metadata": {},
		   "source": [
			"## Example 3.28: power_transfer_and_SPM_rating_to_improve_pf.sce"
		   ]
		  },
  {
"cell_type": "code",
	   "execution_count": null,
	   "metadata": {
	    "collapsed": true
	   },
	   "outputs": [],
"source": [
"clear;\n",
"clc;\n",
"\n",
"Vr=220\n",
"Vs=240\n",
"\n",
"A=complex(.9*cosd(1), .9*sind(1));\n",
"B=complex(140*cosd(84), 140*sind(84));\n",
"\n",
"b=atan(imag(B)/real(B));\n",
"d=b\n",
"vs=complex (Vs *cos(d), Vs *sin(d));\n",
"P= (((Vs *Vr)/abs(B))*cos(b-d))- real(((Vr)^2 * conj(A/B)));\n",
"mprintf('(a) Max Power Transmitted =  %.2f MW', P);\n",
"\n",
"Pr=80;\n",
"Sr=100;\n",
"Qr=sqrt(Sr^2 - Pr^2);\n",
"bd1=round(acos(( Pr+real(((Vr)^2 * conj(A/B))) ) * (abs(B)/(Vs *Vr)))*1000)/1000;\n",
"Qr1= (((Vs *Vr)/abs(B))*sin(bd1))-imag(((Vr)^2 * conj(A/B)));\n",
"\n",
"Q=+Qr-Qr1;\n",
"mprintf('\n\n\n(b)\nCapacity of static capacitor= %.2f MVar leading', Q)\n",
"disp('There is a calculation error in the textbook. 40-49.37=10.63')\n",
"\n",
"d1=b-bd1;\n",
"d1=d1*180/%pi\n",
"mprintf('\n\n\n(c)\nLoad Angle factor= %.2f deg', d1)\n",
""
   ]
   }
,
{
		   "cell_type": "markdown",
		   "metadata": {},
		   "source": [
			"## Example 3.29: overall_ABCD_parameters.sce"
		   ]
		  },
  {
"cell_type": "code",
	   "execution_count": null,
	   "metadata": {
	    "collapsed": true
	   },
	   "outputs": [],
"source": [
"clear;\n",
"clc;\n",
"\n",
"A=complex(.93*cosd(3), .93*sind(3));\n",
"B=complex(150*cosd(70), 150*sind(70));\n",
"D=A;\n",
"\n",
"C=((A*D)-1)/B\n",
"\n",
"Z=complex(100*cosd(70), 100*sind(70));\n",
"Y=complex(.00025*cosd(-75), .00025*sind(-75));\n",
"\n",
"m1=[A B; C D]\n",
"m2=[1 0 ; Y 1 ]\n",
"m3=[1 Z ; 0 1 ]\n",
"\n",
"A0=m1*m2*m3;\n",
"A1=A0(1,1)\n",
"B1=A0(1,2)\n",
"C1=A0(2,1)\n",
"D1=A0(2,2)\n",
"\n",
"mprintf('\nA0= %s', string(round(abs(A1)*1000)/1000) +'/_'+ string(round(atand(imag(A1)/real(A1))*10)/10) )\n",
"mprintf('\nB0= %s', string(round(abs(B1)*1000)/1000) +'/_'+ string(round(atand(imag(B1)/real(B1))*100)/100) )\n",
"mprintf('\nC0= %s', string(round(abs(C1)*100000)/100000) +'/_'+ string(round(atand(imag(C1)/real(C1))*1)/1 ) )\n",
"mprintf('\nD0= %s', string(round(abs(D1)*1000)/1000) +'/_'+ string(round(atand(imag(D1)/real(D1))*10)/10) )"
   ]
   }
,
{
		   "cell_type": "markdown",
		   "metadata": {},
		   "source": [
			"## Example 3.2: convert_to_per_unit_system_at_common_base_with_neutral_resistance_present.sce"
		   ]
		  },
  {
"cell_type": "code",
	   "execution_count": null,
	   "metadata": {
	    "collapsed": true
	   },
	   "outputs": [],
"source": [
"clear;\n",
"clc;\n",
"\n",
"vg=11e3;\n",
"sg=90e6;\n",
"xg=.25;\n",
"\n",
"st1=100e6;\n",
"vt1a=10e3;\n",
"vt1b=132e3;\n",
"nt1=vt1a/vt1b;\n",
"xt1=.06;\n",
"\n",
"st2=30e6 *3;\n",
"vt2a=66e3 * sqrt(3);\n",
"vt2b=10e3;\n",
"nt2=vt2a/vt2b;\n",
"xt2=.05;\n",
"\n",
"sm1=50e6;\n",
"vm1=10e3;\n",
"xm1=.2;\n",
"\n",
"sm2=40e6;\n",
"vm2=10e3;\n",
"xm2=.2;\n",
"\n",
"xl=100;\n",
"\n",
"Sb=sg;\n",
"Vbg=vg;\n",
"\n",
"Xg=xg * (vg/Vbg)^2 * (Sb/sg);\n",
"Xt1=xt1 * (vt1a/Vbg)^2 * (Sb/st1);\n",
"\n",
"Vbl=Vbg/nt1;\n",
"Xl=xl * (Sb) / (Vbl)^2 ;\n",
"\n",
"Vbm=Vbl/nt2;\n",
"\n",
"Xt2=xt2 * (vt2b/Vbm)^2 * (Sb/st2);\n",
"Xm1=xm1 * (vm1/Vbm)^2 * (Sb/sm1);\n",
"Xm2=xm2 * (vm2/Vbm)^2 * (Sb/sm2);\n",
"\n",
" mprintf ('\nReactance of Generator = %.2f ',Xg);\n",
" mprintf ('\nReactance of Transformer 1= %.4f ',Xt1);\n",
" mprintf ('\nReactance of Line = %.3f ',Xl);\n",
" mprintf ('\nReactance of Transformer 2= %.3f ',Xt2);\n",
" mprintf ('\nReactance of Motor 1= %.3f ',Xm1);\n",
" mprintf ('\nReactance of Motor 2= %.3f ',Xm2);"
   ]
   }
,
{
		   "cell_type": "markdown",
		   "metadata": {},
		   "source": [
			"## Example 3.30: find_wavelength_and_velocity_of_propagation.sce"
		   ]
		  },
  {
"cell_type": "code",
	   "execution_count": null,
	   "metadata": {
	    "collapsed": true
	   },
	   "outputs": [],
"source": [
"clear;\n",
"clc;\n",
"\n",
"f=50;\n",
"l=200;\n",
"Z=complex(14.1, 51.48);\n",
"Y=complex(0, 1.194e-3);\n",
"g=sqrt(Z*Y);\n",
"\n",
"b=imag(g)/l;\n",
"wl=2*%pi/b;\n",
"v=f*wl\n",
"mprintf('\nwavelength = %.4f*1e3 km',wl*1e-3);\n",
"mprintf('\nVelocity of Propagation = %.2f*1e5 km/sec',v*1e-5);"
   ]
   }
,
{
		   "cell_type": "markdown",
		   "metadata": {},
		   "source": [
			"## Example 3.31: sending_end_parameters_using_pu.sce"
		   ]
		  },
  {
"cell_type": "code",
	   "execution_count": null,
	   "metadata": {
	    "collapsed": true
	   },
	   "outputs": [],
"source": [
"clear;\n",
"clc;\n",
"\n",
"clear;\n",
"clc;\n",
"\n",
"\n",
"vr=220e3/sqrt(3);\n",
"Vb=vr\n",
"Vr=vr/Vb\n",
"Sr=40e6;\n",
"Sb=40e6;\n",
"Ib=Sb/(3*Vb)\n",
"Zb=Vb/Ib;\n",
"\n",
"pf=.9;\n",
"pfa=-1*acos(pf);\n",
"Irm=(Sr/(3*vr))/Ib;\n",
"Ir=complex(Irm *pf, Irm * sin(pfa));\n",
"\n",
"\n",
"d=500;\n",
"z=complex(.105, .3768);\n",
"y=complex(0, 2.822e-6);\n",
"Z1=z*d;\n",
"Y1=y*d;\n",
"Z=Z1/Zb;\n",
"Y=Y1*Zb;\n",
"YZ=Y*Z;\n",
"\n",
"A=1+(YZ/2)+((YZ)^2/24);\n",
"B=Z * (1+(YZ/6)+((YZ)^2/120));\n",
"C=Y * (1+(YZ/6)+((YZ)^2/120));\n",
"D=A;\n",
"\n",
"\n",
"Vs=(A*Vr)+(B*Ir);\n",
"V=abs(Vs);\n",
"vs=sqrt(3)*V*1e-3*Vb;\n",
"phi1=atan(imag(Vs)/real(Vs))*(180/%pi);\n",
"mprintf('\nSending End Voltage = %.2f kV',vs);\n",
"\n",
"Is=(C*Vr)+(D*Ir);\n",
"I=abs(Is)*Ib;\n",
"phi2=atan(imag(Is)/real(Is))*(180/%pi);\n",
"mprintf('\nSending End Current = %.1f A',I);\n",
"\n",
"phi=phi2-phi1;\n",
"pfs=cosd(phi);\n",
"mprintf('\nSending End Power factor = %.3f  ',pfs);\n",
"\n",
"MVA=sqrt(3) * vs* I /1000;\n",
"mprintf('\nSending End Power = %.2f  ',MVA);\n",
"\n",
""
   ]
   }
,
{
		   "cell_type": "markdown",
		   "metadata": {},
		   "source": [
			"## Example 3.32: find_voltage_at_sending_end.sce"
		   ]
		  },
  {
"cell_type": "code",
	   "execution_count": null,
	   "metadata": {
	    "collapsed": true
	   },
	   "outputs": [],
"source": [
"clear;\n",
"clc;\n",
"\n",
"VAt1=10\n",
"VAt2=10\n",
"Xt1=.1;\n",
"Xt2=.08\n",
"Vt1a=13.8\n",
"Vt1b=138\n",
"Vt2a=138\n",
"Vt2b=69\n",
"n1=Vt1b/Vt1a\n",
"n2=Vt2b/Vt2a\n",
"\n",
"\n",
"Sb=10\n",
"Vbb=138;\n",
"Vba=Vbb / n1;\n",
"Vbc=Vbb*n2;\n",
"\n",
"Zbc=Vbc^2/Sb;\n",
"\n",
"R=300;\n",
"Rpu=R/Zbc;\n",
"\n",
"v=66\n",
"V=v/Vbc;\n",
"I=V/Rpu;\n",
"Va=V+(I*complex(0,Xt1+Xt2));\n",
"va=abs(Va)*Vba;\n",
"\n",
"mprintf('Voltage in ckt A = %.3f kV', va);\n",
""
   ]
   }
,
{
		   "cell_type": "markdown",
		   "metadata": {},
		   "source": [
			"## Example 3.33: find_pu_values_of_system.sce"
		   ]
		  },
  {
"cell_type": "code",
	   "execution_count": null,
	   "metadata": {
	    "collapsed": true
	   },
	   "outputs": [],
"source": [
"clear;\n",
"clc;\n",
"\n",
"xg1=.2\n",
"xg2=.3\n",
"xt1=.2;\n",
"xt2=.06\n",
"zl=complex(40,150);\n",
"\n",
"Vg1=250\n",
"Vg2=250;\n",
"Vt1a=250\n",
"Vt1b=800;\n",
"Vt2a=1000;\n",
"Vt2b=500\n",
"nt1=Vt1b/Vt1a;\n",
"nt2=Vt2b/Vt2a;\n",
"\n",
"sg1=2000;\n",
"sg2=2000;\n",
"st1=4000;\n",
"st2=8000;\n",
"\n",
"Vb1=250;\n",
"Vb2=Vb1*nt1;\n",
"Vb3=Vb2*nt2;\n",
"\n",
"Sb=5000;\n",
"Zbl=Vb2^2/Sb;\n",
"\n",
"Zl=zl/Zbl;\n",
"Xt1=xt1 /( (Vb1/Vt1a)^2 * (st1/Sb));\n",
"Xt2=xt2 / ((Vb2/Vt2a)^2 * (st2/Sb)); \n",
"Xg1=xg1 /  (sg1/Sb);\n",
"Xg2=xg2 /  (sg2/Sb);\n",
"\n",
" mprintf ('\nReactance of Generator 1= %.1f ',Xg1);\n",
" mprintf ('\nReactance of Generator 2= %.2f ',Xg2);\n",
" mprintf ('\nReactance of Transformer 1= %.2f ',Xt1);\n",
" disp (round(Zl*1e4)/1e4,'Impedance of Line = ');\n",
" mprintf ('\nReactance of Transformer 2= %.4f ',Xt2);"
   ]
   }
,
{
		   "cell_type": "markdown",
		   "metadata": {},
		   "source": [
			"## Example 3.34: find_pu_values_of_system.sce"
		   ]
		  },
  {
"cell_type": "code",
	   "execution_count": null,
	   "metadata": {
	    "collapsed": true
	   },
	   "outputs": [],
"source": [
"clear;\n",
"clc;\n",
"\n",
"sg1=10\n",
"sg2=20\n",
"st1=10\n",
"st2=10*3;\n",
"\n",
"vg1=6.6;\n",
"vg2=11.5;\n",
"vt1a=6.6\n",
"vt1b=115\n",
"vt2a=75*sqrt(3);\n",
"vt2b=7.5*sqrt(3);\n",
"nt1=vt1b/vt1a;\n",
"nt2=vt2b/vt2a;\n",
"xg1=.1\n",
"xg2=.1\n",
"xt1=.15\n",
"xt2=.1\n",
"\n",
"\n",
"Sb=20;\n",
"Vb1=6.6;\n",
"Vb2=Vb1*nt1;\n",
"Vb3=Vb2*nt2;\n",
"\n",
"Xg1=xg1*Sb/sg1;\n",
"Xg2=xg2*Sb/sg2;\n",
"Xt1=xt1 * Sb/st1;\n",
"Xt2= xt2 * Sb/st2 * (vt2a/Vb2)^2\n",
"\n",
" mprintf ('\nReactance of Generator 1= %.1f',Xg1);\n",
" mprintf ('\nReactance of Generator 2= %.1f',Xg2);\n",
" mprintf ('\nReactance of Transformer 1= %.1f ',Xt1);\n",
" mprintf ('\nReactance of Transformer 2= %.5f ',fix(Xt2*1e5)/1e5);\n",
"\n",
"\n",
"Zbl=Vb2^2/Sb;\n",
"\n",
"xab=100;\n",
"xad=100\n",
"xbc=150;\n",
"xbd=200;\n",
"xdc=50;\n",
"\n",
"Xab=xab/Zbl;\n",
"Xad=xad/Zbl;\n",
"Xbc=xbc/Zbl;\n",
"Xbd=xbd/Zbl;\n",
"Xdc=xdc/Zbl;\n",
"\n",
"printf('\nXab=%.4f\t', Xab);\n",
"printf('Xad=%.4f\t', Xad);\n",
"printf('Xbc=%.4f\t', Xbc);\n",
"printf('Xbd=%.4f\t', Xbd);\n",
"printf('Xdc=%.4f\t', Xdc);\n",
"\n",
""
   ]
   }
,
{
		   "cell_type": "markdown",
		   "metadata": {},
		   "source": [
			"## Example 3.35: find_pu_values_of_system.sce"
		   ]
		  },
  {
"cell_type": "code",
	   "execution_count": null,
	   "metadata": {
	    "collapsed": true
	   },
	   "outputs": [],
"source": [
"clear;\n",
"clc;\n",
"\n",
"sg1=25\n",
"sg2=15\n",
"sg3=30\n",
"st1=30\n",
"st2=15\n",
"st3=10*3;\n",
"\n",
"vg1=6.6;\n",
"vg2=6.6;\n",
"vg3=13.2;\n",
"vt1a=6.6\n",
"vt1b=115\n",
"vt2a=6.6\n",
"vt2b=115\n",
"vt3a=69*sqrt(3);\n",
"vt3b=6.9*sqrt(3);\n",
"nt1=vt1b/vt1a;\n",
"nt2=vt2b/vt2a;\n",
"nt3=vt3b/vt3a;\n",
"\n",
"xg1=.2\n",
"xg2=.15\n",
"xg3=.15\n",
"xt1=.1\n",
"xt2=.1\n",
"xt3=.1\n",
"\n",
"Sb=30;\n",
"Vb1=6.6;\n",
"Vb2=Vb1*nt1;\n",
"Vb3=Vb2*nt2;\n",
"Vb4=Vb2*nt3;\n",
"\n",
"Xg1=xg1*Sb/sg1;\n",
"Xg2=xg2*Sb/sg2;\n",
"Xg3=xg3*Sb/sg3* (vg3/Vb4)^2;\n",
"Xt1=xt1 * Sb/st1;\n",
"Xt2=xt2 * Sb/st2;\n",
"Xt3= xt2 * Sb/st3 * (vt3b/Vb4)^2\n",
"\n",
" mprintf ('\nReactance of Generator 1= %.2f pu',Xg1);\n",
" mprintf ('\nReactance of Generator 2= %.1f pu',Xg2);\n",
" mprintf ('\nReactance of Generator 3= %.4f pu',Xg3);\n",
" mprintf ('\nReactance of Transformer 1= %.1f pu',Xt1);\n",
" mprintf ('\nReactance of Transformer 2= %.1f pu',Xt2);\n",
" mprintf ('\nReactance of Transformer 3= %.3f pu',Xt3);\n",
"\n",
"\n",
"Zbl=Vb2^2/Sb;\n",
"\n",
"xl1=120;\n",
"xl2=90\n",
"\n",
"Xl1=xl1/Zbl;\n",
"Xl2=xl2/Zbl;\n",
"\n",
" mprintf ('\nReactance of Line 1 = %.4f pu',Xl1);\n",
" mprintf ('\nReactance of line 2 = %.3f pu',Xl2);"
   ]
   }
,
{
		   "cell_type": "markdown",
		   "metadata": {},
		   "source": [
			"## Example 3.36: EX3_36.sce"
		   ]
		  },
  {
"cell_type": "code",
	   "execution_count": null,
	   "metadata": {
	    "collapsed": true
	   },
	   "outputs": [],
"source": [
"clear;\n",
"clc;\n",
"\n",
"vg=11e3;\n",
"sg=80e6;\n",
"xg=.25;\n",
"\n",
"st1=100e6;\n",
"vt1a=11e3;\n",
"vt1b=220e3;\n",
"nt1=vt1a/vt1b;\n",
"xt1=.05;\n",
"\n",
"st2=150e6;\n",
"vt2a=230e3 ;\n",
"vt2b=33e3;\n",
"nt2=vt2a/vt2b;\n",
"xt2=.04;\n",
"\n",
"r=250;\n",
"\n",
"zl=complex(5,100);\n",
"\n",
"Sb=100e6;\n",
"Vbg=11e3;\n",
"\n",
"Xg=xg * (vg/Vbg)^2 * (Sb/sg);\n",
"Xt1=xt1 * (vt1a/Vbg)^2 * (Sb/st1);\n",
"\n",
"Vbl=Vbg/nt1;\n",
"Zl=zl * (Sb) / (Vbl)^2 ;\n",
"\n",
"Vbm=Vbl/nt2;\n",
"Xt2=xt2 * (vt2a/Vbl)^2 * (Sb/st2);\n",
"R=r * (Sb) / (Vbm)^2 ;\n",
"\n",
"\n",
"Vg=vg/Vbg;\n",
"i=Vg/(Zl+complex(R,Xt1+Xt2+Xg))\n",
"I=round(abs(i)*1e4)/1e4;\n",
"\n",
"Ic=I*Sb/(sqrt(3)*Vbg);\n",
"Il=I*Sb/(sqrt(3)*Vbl);\n",
"Ir=I*Sb/(sqrt(3)*Vbm);\n",
"Vload=Ir*r/1000;\n",
"Vloadll=sqrt(3) * Vload;\n",
"Pr=3*Ir*Ir*r/1e6;\n",
"mprintf('\n Generator Current = %.1f A',Ic);\n",
"mprintf('\n Line Current = %.3f A',Il);\n",
"mprintf('\n Load Current = %.1f A',Ir);\n",
"mprintf('\n Load Voltage = %.2f kV',Vloadll);\n",
"mprintf('\n Load Power = %.3f MW',Pr);\n",
""
   ]
   }
,
{
		   "cell_type": "markdown",
		   "metadata": {},
		   "source": [
			"## Example 3.38: sending_and_receiving_end_voltage_and_current_in_parallel_OH_lines.sce"
		   ]
		  },
  {
"cell_type": "code",
	   "execution_count": null,
	   "metadata": {
	    "collapsed": true
	   },
	   "outputs": [],
"source": [
"clear;\n",
"clc;\n",
"\n",
"z1=complex(4,6)\n",
"z2=complex(3,2)\n",
"\n",
"Vs=3.3e3/sqrt(3)\n",
"Is=250\n",
"pf=.8\n",
"pfa=acos(pf)\n",
"I=Is *(exp(%i * -pfa)) \n",
"\n",
"I1=I * z2/(z1+z2)\n",
"pfa1=atan(imag(I1)/real(I1))\n",
"pf1=cos(pfa1)\n",
"mprintf('\n(a) Current in OH line = %.1f A pf= %.3f', abs(I1), pf1)\n",
"\n",
"I2=I * z1/(z1+z2)\n",
"pfa2=atan(imag(I2)/real(I2))\n",
"pf2=cos(pfa2)\n",
"mprintf('\n(b) Current in cable = %.2f A pf= %.2f', abs(I2), pf2)\n",
"\n",
"vr=sqrt((Vs)^2-imag(I1*z1)^2)- real(I1*z1) \n",
"Vr=vr*sqrt(3)/1000;\n",
"mprintf('\n(c) Receiving end voltage = %.3f KV', Vr)\n",
"\n",
"d=atan(imag(I1*z1)/(Vr+real(I1*z1)))\n",
"phi=pfa-d;\n",
"pfr=cos(phi)\n",
"mprintf('\n(d) Receiving end pf = %.1f lagging', pfr)"
   ]
   }
,
{
		   "cell_type": "markdown",
		   "metadata": {},
		   "source": [
			"## Example 3.39: find_receiving_end_voltage_and_efficiency_of_transmission.sce"
		   ]
		  },
  {
"cell_type": "code",
	   "execution_count": null,
	   "metadata": {
	    "collapsed": true
	   },
	   "outputs": [],
"source": [
"clear;\n",
"clc;\n",
"\n",
"l=300\n",
"R=.4 *3\n",
"X=.8*3 \n",
"Vs=11e3/sqrt(3);\n",
"P=3000;\n",
"pf=.8\n",
"pfa=acos(pf)\n",
"VIr=P/(3*pf)\n",
"\n",
"a=1;\n",
"b=-Vs\n",
"c=VIr * 1e3 * ((R*cos(pfa))+(X*sin(pfa)))\n",
"vr=(-b+sqrt((b*b )-  (4*a*c)))/(2*a)\n",
"Ir=VIr*1e3/vr;\n",
"Vr=vr*sqrt(3)/1000;\n",
"mprintf('\nReceiving End Voltage = %.2f kV',Vr)\n",
"\n",
"Pl=3* (Ir)^2 * R/ 1000;\n",
"eff=P*100/(P+Pl)\n",
"mprintf('\nefficiency = %.2f percent',eff)"
   ]
   }
,
{
		   "cell_type": "markdown",
		   "metadata": {},
		   "source": [
			"## Example 3.3: find_X_of_windings_of_3_winding_transformer.sce"
		   ]
		  },
  {
"cell_type": "code",
	   "execution_count": null,
	   "metadata": {
	    "collapsed": true
	   },
	   "outputs": [],
"source": [
"clear;\n",
"clc;\n",
"\n",
"s1=30e6;\n",
"v1=132e3;\n",
"s2=20e6;\n",
"v2=11e3;\n",
"v3=6.6e3;\n",
"s3=10e3;\n",
"\n",
"xa=.07;\n",
"xb=.09;\n",
"xc=.04;\n",
"va=v1;\n",
"vb=v1;\n",
"vc=v2;\n",
"sa=s1;\n",
"sb=s1;\n",
"sc=s2;\n",
"\n",
"Sb=s1;\n",
"Vb1=v1;\n",
"Vb2=v2;\n",
"Vb3=v3;\n",
"\n",
"Xa=xa * (va/Vb1)^2 * (Sb/sa);\n",
"Xb=xb * (vb/Vb1)^2 * (Sb/sb);\n",
"Xc=xc * (vc/Vb2)^2 * (Sb/sc);\n",
"\n",
"X = [1 1 0; 1 0 1; 0 1 1 ]^(-1) * [ Xa; Xb; Xc];\n",
"\n",
"mprintf('\nX1= %.2f pu',X(1,1));\n",
"mprintf('\nX2= %.2f pu',X(2,1));\n",
"mprintf('\nX3= %.2f pu',X(3,1));"
   ]
   }
,
{
		   "cell_type": "markdown",
		   "metadata": {},
		   "source": [
			"## Example 3.4: find_voltage_regulation_and_capacitor_required_to_make_voltage_regulation_0.sce"
		   ]
		  },
  {
"cell_type": "code",
	   "execution_count": null,
	   "metadata": {
	    "collapsed": true
	   },
	   "outputs": [],
"source": [
"clear;\n",
"clc;\n",
"\n",
"d=15;\n",
"Vr=11e3/sqrt(3);\n",
"pfr=.8;\n",
"Pd=5e6;\n",
"Pl=.12*Pd;\n",
"l=1.1e-3;\n",
"L=l*d;\n",
"\n",
"I= Pd/(3*pfr*Vr);\n",
"R=Pl/(3*I*I);\n",
"X=2 * %pi* 50 *L;\n",
"pfa=acos(pfr);\n",
"Vs=Vr + (I * R * pfr) + (I * X * sin(pfa));\n",
"vs=sqrt(3)*Vs;\n",
"\n",
"VR=(Vs-Vr)/Vr;\n",
"\n",
"mprintf('\n(a) Voltage Regulation = %.2f percent ', VR*100);\n",
"\n",
"pfa0=atan(R/X);\n",
"pf0=cos(pfa0);\n",
"\n",
"mprintf('\n(b) pf at VR=0 = %.3f ', pf0);\n",
"\n",
"I0= (I* pfr)/pf0;\n",
"Ic= (I * sin(pfa))+(I0*sin(pfa0));\n",
"Xc=Vr/Ic\n",
"C=1/(100*%pi*Xc);\n",
"\n",
"mprintf('\n(c) C = %.1f e-6 F', C*1e6);\n",
""
   ]
   }
,
{
		   "cell_type": "markdown",
		   "metadata": {},
		   "source": [
			"## Example 3.5: receiving_end_voltage_and_current.sce"
		   ]
		  },
  {
"cell_type": "code",
	   "execution_count": null,
	   "metadata": {
	    "collapsed": true
	   },
	   "outputs": [],
"source": [
"clear;\n",
"clc;\n",
"\n",
"Vs=11e3/sqrt(3);\n",
"Pd=1200e3;\n",
"R=5.31;\n",
"X=5.54;\n",
"pfr=.8;\n",
"\n",
"\n",
"VIr= Pd/(3*pfr);\n",
"a=1;\n",
"b=-1*Vs;\n",
"pfa=acos(pfr)\n",
"c=(VIr * R * pfr) + (VIr * X * sin(pfa))\n",
"\n",
"Vr=(-b+sqrt(b^2 - (4*a*c)))/(2*a);\n",
"\n",
"I=VIr/Vr;\n",
"vr=sqrt(3)*Vr;\n",
"\n",
"mprintf('Recieving end Voltage = %.3f KV and Current = %.2f A ',vr/1000,I);"
   ]
   }
,
{
		   "cell_type": "markdown",
		   "metadata": {},
		   "source": [
			"## Example 3.6: receiving_end_voltage_and_current.sce"
		   ]
		  },
  {
"cell_type": "code",
	   "execution_count": null,
	   "metadata": {
	    "collapsed": true
	   },
	   "outputs": [],
"source": [
"clear;\n",
"clc;\n",
"\n",
"Pd=1e6;\n",
"pf=.8;\n",
"v1=30e3;\n",
"v2=10e3;\n",
"Rl=25;\n",
"Xl=12;\n",
"rt=.8;\n",
"xt=2.5;\n",
"n=v1/v2;\n",
"\n",
"Rt=rt*(n^2);\n",
"Xt=xt*(n^2);\n",
"\n",
"R=Rt+Rl;\n",
"X=Xt+Xl;\n",
"\n",
"Vr=v1/sqrt(3);\n",
"I=Pd/(3*Vr*.8);\n",
"\n",
"pfa=acos(pf)\n",
"Vs=Vr + (I * R * pf) + (I * X * sin(pfa));\n",
"vs=sqrt(3)*Vs*1e-3;\n",
"\n",
"VR=(Vs-Vr)/Vr;\n",
"\n",
"mprintf('\nSending End Voltage = %.2f KV',vs);\n",
"mprintf('\nVoltage Regulation= %.2f',VR*100);"
   ]
   }
,
{
		   "cell_type": "markdown",
		   "metadata": {},
		   "source": [
			"## Example 3.7: determine_per_phase_R_and_X_for_given_efficiency.sce"
		   ]
		  },
  {
"cell_type": "code",
	   "execution_count": null,
	   "metadata": {
	    "collapsed": true
	   },
	   "outputs": [],
"source": [
"clear;\n",
"clc;\n",
"\n",
"Vs=33e3/sqrt(3);\n",
"Vr=30e3/sqrt(3);\n",
"Pr=10e6;\n",
"pf=.8;\n",
"eff=.96;\n",
"\n",
"I=Pr/(3*Vr*pf);\n",
"\n",
"Ps=Pr/eff;\n",
"Pl=Ps-Pr;\n",
"\n",
"R=Pl/(3*I*I);\n",
"pfa=acos(pf);\n",
"X=((Vs-Vr)-(I*R*pf))/(I*sin(pfa));\n",
"\n",
"mprintf('R= %.1f ohm per phase, X= %.1f ohm per phase',R,X);"
   ]
   }
,
{
		   "cell_type": "markdown",
		   "metadata": {},
		   "source": [
			"## Example 3.8: EX3_8.sce"
		   ]
		  },
  {
"cell_type": "code",
	   "execution_count": null,
	   "metadata": {
	    "collapsed": true
	   },
	   "outputs": [],
"source": [
"clear;\n",
"clc;\n",
"\n",
"R=48.7;\n",
"X=80.2;\n",
"Z=complex(R,X);\n",
"c=8.42e-9;\n",
"l=200;\n",
"C=c*l;\n",
"Y=complex(0,(C* 100*%pi));\n",
"\n",
"Vr=88e3/sqrt(3);\n",
"Pr=13.5e6;\n",
"pf=.9;\n",
"pfa=-1* acos(pf);\n",
"Irm=Pr/(3*Vr*pf);\n",
"Ir=complex(Irm *pf, Irm * sin(pfa));\n",
"\n",
"Vs=(Vr*(1+((Z*Y)/2)))+ (Ir*Z*(1+(Z*Y/4)));\n",
"V=abs(Vs);\n",
"vs=sqrt(3)*V*1e-3;\n",
"phi=atan(imag(Vs)/real(Vs))*(180/%pi);\n",
"mprintf('\nSending End Voltage = %.2f kV',vs);\n",
"mprintf('\nSending End Power Angle = %.1f deg ',phi);\n",
"\n",
"Is=(Vr*Y)+(Ir*(1+(Y*Z/2)));\n",
"I=abs(Is);\n",
"mprintf('\nSending End Current = %.2f A',I);\n",
"\n",
"Vr0=V/(1+(Y*Z/2));\n",
"V0=abs(Vr0);\n",
"VR=(V0-Vr)/Vr;\n",
"mprintf('\nVoltage Regulation = %.1f ',VR*100);"
   ]
   }
,
{
		   "cell_type": "markdown",
		   "metadata": {},
		   "source": [
			"## Example 3.9: EX3_9.sce"
		   ]
		  },
  {
"cell_type": "code",
	   "execution_count": null,
	   "metadata": {
	    "collapsed": true
	   },
	   "outputs": [],
"source": [
"clear;\n",
"clc;\n",
"\n",
"R=48.7;\n",
"X=80.2;\n",
"Z=complex(R,X);\n",
"c=8.42e-9;\n",
"l=200;\n",
"C=c*l;\n",
"Y=complex(0,(C* 100*%pi));\n",
"\n",
"Vr=88e3/sqrt(3);\n",
"Pr=13.5e6;\n",
"pf=.9;\n",
"pfa=-1* acos(pf);\n",
"Irm=Pr/(3*Vr*pf);\n",
"Ir=complex(Irm *pf, Irm * sin(pfa));\n",
"\n",
"Vs=(Vr*(1+((Z*Y)/2)))+ (Ir*Z);\n",
"V=abs(Vs);\n",
"vs=sqrt(3)*V*1e-3;\n",
"phi=atan(imag(Vs)/real(Vs))*(180/%pi);\n",
"mprintf('\nSending End Voltage = %.2f kV',vs);\n",
"mprintf('\nSending End Power Angle = %.2f deg ',phi);\n",
"\n",
"Is=(Vr*Y*(1+(Z*Y/4)))+(Ir*(1+(Y*Z/2)));\n",
"I=abs(Is);\n",
"mprintf('\nSending End Current = %.2f A',I);\n",
"\n",
"Vr0=V/(1+(Y*Z/2));\n",
"V0=abs(Vr0);\n",
"VR=(V0-Vr)/Vr;\n",
"mprintf('\nVoltage Regulation = %.2f ',VR*100);"
   ]
   }
],
"metadata": {
		  "kernelspec": {
		   "display_name": "Scilab",
		   "language": "scilab",
		   "name": "scilab"
		  },
		  "language_info": {
		   "file_extension": ".sce",
		   "help_links": [
			{
			 "text": "MetaKernel Magics",
			 "url": "https://github.com/calysto/metakernel/blob/master/metakernel/magics/README.md"
			}
		   ],
		   "mimetype": "text/x-octave",
		   "name": "scilab",
		   "version": "0.7.1"
		  }
		 },
		 "nbformat": 4,
		 "nbformat_minor": 0
}
