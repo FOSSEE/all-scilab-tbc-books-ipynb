{
"cells": [
 {
		   "cell_type": "markdown",
	   "metadata": {},
	   "source": [
       "# Chapter 16: Distribution"
	   ]
	},
{
		   "cell_type": "markdown",
		   "metadata": {},
		   "source": [
			"## Example 16.10: find_currents_in_a_hexagon_shaped_concentrated_loads.sce"
		   ]
		  },
  {
"cell_type": "code",
	   "execution_count": null,
	   "metadata": {
	    "collapsed": true
	   },
	   "outputs": [],
"source": [
"clear\n",
"clc\n",
"\n",
"I=200\n",
"\n",
"r1=.05\n",
"r2=.06\n",
"r3=.02\n",
"r4=.04\n",
"r5=.03\n",
"r6=.01\n",
"ra=.02\n",
"rb=.03\n",
"\n",
"I1=100\n",
"I3=30\n",
"I4=50\n",
"I5=20\n",
"//(a)\n",
"dv=0\n",
"A=[\n",
"(ra) (-rb) (r6+r5 +r4+r3)\n",
"1 1 0\n",
"(ra+r1+r2) (-rb) -(r1+r2)\n",
"]\n",
"\n",
"B=[\n",
"dv+ (r5*(I5) +r4*(I5+I4)+r3*(I5+I4+I3))\n",
"I\n",
"dv+(r2*I1)\n",
"]\n",
"i=inv(A)*B\n",
"\n",
"mprintf('\n(a) Ia = %.0f A, Ib= %.0f A', i(1), i(2))\n",
"\n",
"//(b)\n",
"dv=-5\n",
"A=[\n",
"(ra) (-rb) (r6+r5 +r4+r3)\n",
"1 1 0\n",
"(ra+r1+r2) (-rb) -(r1+r2)\n",
"]\n",
"\n",
"B=[\n",
"dv+(r5*(I5) +r4*(I5+I4)+r3*(I5+I4+I3))\n",
"I\n",
"dv+(r2*I1)\n",
"]\n",
"i=inv(A)*B\n",
"\n",
"mprintf('\n(b) Ia = %d A, Ib= %d A', i(1), i(2))\n",
""
   ]
   }
,
{
		   "cell_type": "markdown",
		   "metadata": {},
		   "source": [
			"## Example 16.11: find_point_of_minimum_in_a_line.sce"
		   ]
		  },
  {
"cell_type": "code",
	   "execution_count": null,
	   "metadata": {
	    "collapsed": true
	   },
	   "outputs": [],
"source": [
"clear\n",
"clc\n",
"\n",
"L=1200\n",
"L1=900\n",
"L2=600\n",
"\n",
"r=1.5\n",
"\n",
"x=(L1*L + L*L*r/2)/(L1 + L2 + (r*2*L/2))\n",
"y=L-x\n",
"mprintf('\nCurrent in CB= %.0f a A', x)\n",
"mprintf('\nCurrent in CA= %.0f a A', y)"
   ]
   }
,
{
		   "cell_type": "markdown",
		   "metadata": {},
		   "source": [
			"## Example 16.12: voltage_at_far_end_in_a_double_ac_conductor_with_concentrated_load.sce"
		   ]
		  },
  {
"cell_type": "code",
	   "execution_count": null,
	   "metadata": {
	    "collapsed": true
	   },
	   "outputs": [],
"source": [
"clear\n",
"clc\n",
"\n",
"V=250\n",
"\n",
"L=[\n",
"150 200 280 320 390 450 500\n",
"20 40 35 25 10 20 30 \n",
"]\n",
"\n",
"r=.1/(2*500)\n",
"\n",
"D=L(1,:)\n",
"I=L(2,:)'\n",
"\n",
"dv=2*r*D*I\n",
"\n",
"Ve=V-dv\n",
"\n",
"mprintf('Voltage at far end is %.2f V', Ve)"
   ]
   }
,
{
		   "cell_type": "markdown",
		   "metadata": {},
		   "source": [
			"## Example 16.13: voltage_at_far_end_in_a_double_ac_conductor_doubly_fed_with_concentrated_load.sce"
		   ]
		  },
  {
"cell_type": "code",
	   "execution_count": null,
	   "metadata": {
	    "collapsed": true
	   },
	   "outputs": [],
"source": [
"clear\n",
"clc\n",
"\n",
"V=250\n",
"\n",
"L=[\n",
"150 50 80 40 70 60 50 150 \n",
"0 20 60 95 120 130 150 180 \n",
"]\n",
"\n",
"r=.1/(2*500)\n",
"\n",
"D=L(1,:)\n",
"I1=L(2,:)'\n",
"I2=ones(8,1)\n",
"\n",
"dv1=2*r*D*I1\n",
"dv2=2*r*D*I2\n",
"\n",
"Ia=dv1/dv2\n",
"Ib=L(length(L))-Ia\n",
"\n",
"Vc=V-(2*r*((Ia*D(1))+((Ia-I1(2))*D(2))+((Ia-I1(3))*D(3))))\n",
"mprintf('Ia= %.2f A, Ib= %.2f A, Vmin at C = %.3f V',Ia, Ib, Vc)"
   ]
   }
,
{
		   "cell_type": "markdown",
		   "metadata": {},
		   "source": [
			"## Example 16.14: find_currents_in_a_pentagon_shaped_concentrated_loads_with_an_interconnector.sce"
		   ]
		  },
  {
"cell_type": "code",
	   "execution_count": null,
	   "metadata": {
	    "collapsed": true
	   },
	   "outputs": [],
"source": [
"clear\n",
"clc\n",
"\n",
"\n",
"r1=.03\n",
"r2=.02\n",
"r3=.03\n",
"r4=.04\n",
"r5=.04\n",
"r6=.01\n",
"r7=.02\n",
"\n",
"I1=20\n",
"I2=30\n",
"I3=25\n",
"I4=30\n",
"I5=125\n",
"I6=20\n",
"\n",
"dv=0\n",
"A=[\n",
"(r5+r1+r4+r3+r2) (r3+r2)\n",
"(r3+r2) (r3+r2+r6+r7)\n",
"]\n",
"\n",
"\n",
"B=[\n",
"((r4*I5)+(r3*(I5-I4))+ (r2*(I5-I4-I3)) + (r1*I1))\n",
"((r3*(I5-I4))+ (r2*(I5-I4-I3))+(r7*I6))\n",
"]\n",
"i=inv(A)*B\n",
"x=i(1)\n",
"y=i(2)\n",
"\n",
"mprintf('\nEA = %.2f A, AB= %.2f A, ED= %.2f A, DF= %.2f A, DC= %.2f A, BC= %.2f A, FB= %.2f A', x,x-I1, I5-x,y, I5-I4-x-y, I5-I4-I3-x-y, y-I6)"
   ]
   }
,
{
		   "cell_type": "markdown",
		   "metadata": {},
		   "source": [
			"## Example 16.15: find_currents_in_a_triangle_shaped_loads.sce"
		   ]
		  },
  {
"cell_type": "code",
	   "execution_count": null,
	   "metadata": {
	    "collapsed": true
	   },
	   "outputs": [],
"source": [
"clear\n",
"clc\n",
"\n",
"z1=complex(2,1)\n",
"z2=complex(2,3)\n",
"z3=complex(1,2)\n",
"\n",
"ib= 40 * exp (%i * -1 * acos (.8))\n",
"ic= 60 * exp (%i * -1 * acos (.6))\n",
"\n",
"i1=((ib*z2)+((ib+ic)*z3))/(z1+z2+z3)\n",
"i2=i1-ib\n",
"i3=i2-ic\n",
"\n",
"mprintf('\n Current A to B in Ampere')\n",
"disp(round(i1*100)/100)\n",
"mprintf('\n Current B to C in Ampere')\n",
"disp(round(i2*100)/100)\n",
"mprintf('\n Current A to C in Ampere')\n",
"disp(round(-i3*100)/100)"
   ]
   }
,
{
		   "cell_type": "markdown",
		   "metadata": {},
		   "source": [
			"## Example 16.16: find_optimum_cross_section_of_cables_for_comsumers_at_different_distances.sce"
		   ]
		  },
  {
"cell_type": "code",
	   "execution_count": null,
	   "metadata": {
	    "collapsed": true
	   },
	   "outputs": [],
"source": [
"clear\n",
"clc\n",
"\n",
"//(a)\n",
"V=230\n",
"df=5/100\n",
"\n",
"I1=20\n",
"I2=10\n",
"L1=300\n",
"L2=200\n",
"L=500\n",
"I=I1+I2\n",
"\n",
"rho=.0286\n",
"T=20\n",
"dT=30\n",
"a=.004\n",
"rho1=rho*(1+(dT*a))\n",
"rho1=round(rho1*1000)/1000\n",
"\n",
"A=1\n",
"A1=I1/I\n",
"A2=I2/I\n",
"\n",
"A=rho1*2*((L*round(I/A))+(L1*round(I1/A1)))/(df * V)\n",
"A=round(A*100)/100\n",
"\n",
"A1=A*A1\n",
"A2=A*A2\n",
"\n",
"mprintf('\n(a)CROSSECTIONS: SC= %.2f mm sq, CA= %.2f mm sq, CB= %.2f mm sq',A, A1, A2 )\n",
"\n",
"R=2*rho1 * (L/A)\n",
"R1=2*rho1 * (L1/A1)\n",
"R2=2*rho1 * (L2/A2)\n",
"\n",
"P=(I*I*R)+(I1*I1*R1)+(I2*I2*R2)\n",
"\n",
"PL=P*100/((V*I1)+(V*I2))\n",
"mprintf('\n(b)Percentage power loss = %.1f percent',PL )\n",
""
   ]
   }
,
{
		   "cell_type": "markdown",
		   "metadata": {},
		   "source": [
			"## Example 16.17: EX16_17.sce"
		   ]
		  },
  {
"cell_type": "code",
	   "execution_count": null,
	   "metadata": {
	    "collapsed": true
	   },
	   "outputs": [],
"source": [
"clear\n",
"clc\n",
"\n",
"I1=100\n",
"I2=50\n",
"I3=50\n",
"I4=100\n",
"I5=0\n",
"\n",
"L=500\n",
"l1=50\n",
"l2=100\n",
"l3=100\n",
"l4=150\n",
"l5=L-l1-l2-l3-l4\n",
"\n",
"R=.075\n",
"r=R/L\n",
"U=1\n",
"\n",
"Va=230\n",
"\n",
"r1=l1*r;\n",
"r2=l2*r\n",
"r3=l3*r\n",
"r4=l4*r\n",
"r5=l5*r\n",
"\n",
"Ia= I1+I2+I3+I4+I5 + U*(l1+l2+l3+l4+l5)\n",
"dvab=(Ia - (.5* U * l1))*r1;\n",
"Vb=Va-dvab\n",
"\n",
"Ib= Ia- (U*(l1)) - I1\n",
"dvbc=(Ib - (.5* U * l2))*r2;\n",
"Vc=Vb-dvbc\n",
"\n",
"Ic= Ib- (U*(l2)) - I2\n",
"dvcd=(Ic - (.5* U * l3))*r3;\n",
"Vd=Vc-dvcd\n",
"\n",
"Id= Ic- (U*(+l3)) - I3\n",
"dvde=(Id - (.5* U * l4))*r4;\n",
"Ve=Vd-dvde\n",
"\n",
"Ie= Id- (U*(l4)) - I4\n",
"dvef=(Ie - (.5* U * l5))*r5;\n",
"Vf=Ve-dvef\n",
"\n",
"mprintf('voltage at B= %.4f V  C= %.4f V  D= %.4f V  E= %.2f V  F= %.1f V ', Vb, Vc, Vd,Ve, Vf)"
   ]
   }
,
{
		   "cell_type": "markdown",
		   "metadata": {},
		   "source": [
			"## Example 16.18: voltage_at_far_end_in_a_double_ac_conductor_with_concentrated_load.sce"
		   ]
		  },
  {
"cell_type": "code",
	   "execution_count": null,
	   "metadata": {
	    "collapsed": true
	   },
	   "outputs": [],
"source": [
"clear\n",
"clc\n",
"\n",
"Vc=220\n",
"\n",
"Z=2*complex(.15, .2)\n",
"Z1=.5*Z\n",
"Z2=.5*Z\n",
"\n",
"Ib= 60 * exp (%i * -acos (.9))\n",
"Ic= 100 * exp (%i * -acos (.8))\n",
"\n",
"Vb=Vc + (Ic * Z2)\n",
"Iab=Ib + Ic\n",
"\n",
"Va=Vb + (Iab * Z1)\n",
"Vs=abs(Va)\n",
"\n",
"Is= abs(Iab)\n",
"pf=cosd(abs(atand(imag(Va)/real(Va))+abs(atand(imag(Iab)/real(Iab)))))\n",
"\n",
"mprintf('\nsending end voltage  = %.1f V', Vs)\n",
"mprintf('\nsending end current  = %.2f A', Is)\n",
"mprintf('\nsending end pf  = %.3f', pf)\n",
""
   ]
   }
,
{
		   "cell_type": "markdown",
		   "metadata": {},
		   "source": [
			"## Example 16.19: find_most_economical_center_of_distribution.sce"
		   ]
		  },
  {
"cell_type": "code",
	   "execution_count": null,
	   "metadata": {
	    "collapsed": true
	   },
	   "outputs": [],
"source": [
"clear\n",
"clc\n",
"\n",
"ab=1000\n",
"bc=900\n",
"ac=600\n",
"\n",
"A=500\n",
"B=750\n",
"C=450\n",
"\n",
"theta=acos((ab^2 + ac^2 - bc^2)/(2*ac*ab))\n",
"am=ac * cos(theta)\n",
"cm=ac * sin(theta)\n",
"\n",
"x= ((B*ab)+(C*am))/(A+B+C)\n",
"y= ((C*cm))/(A+B+C)\n",
"\n",
"mprintf('Coordinates wrt A are (%.2f, %.0f)', x,y)"
   ]
   }
,
{
		   "cell_type": "markdown",
		   "metadata": {},
		   "source": [
			"## Example 16.1: find_voltage_at_load_points_in_single_feeded_dc_feeder.sce"
		   ]
		  },
  {
"cell_type": "code",
	   "execution_count": null,
	   "metadata": {
	    "collapsed": true
	   },
	   "outputs": [],
"source": [
"clear\n",
"clc\n",
"\n",
"I1=100\n",
"I2=150\n",
"I3=200\n",
"\n",
"l1=150\n",
"l2=100\n",
"l3=100\n",
"\n",
"r=.1/1000\n",
"\n",
"Va=200\n",
"\n",
"rac=l1*r;\n",
"rcd=l2*r\n",
"rbd=l3*r\n",
"\n",
"dvc=(I1+I2+I3)*rac;\n",
"dvd=(I1+I2+I3)*rac + (I2+I3)*rcd ;\n",
"dvb=(I1+I2+I3)*rac + (I2+I3)*rcd + (I3*rbd);\n",
"\n",
"Vc=Va-dvc\n",
"Vd=Va-dvd\n",
"Vb=Va-dvb\n",
"\n",
"mprintf('voltage at B= %.2f V  C= %.2f V  D= %.2f V ', Vb, Vc, Vd)"
   ]
   }
,
{
		   "cell_type": "markdown",
		   "metadata": {},
		   "source": [
			"## Example 16.20: find_optimum_cross_section_for_double_dc_line_doubly_fed_concentrated_load.sce"
		   ]
		  },
  {
"cell_type": "code",
	   "execution_count": null,
	   "metadata": {
	    "collapsed": true
	   },
	   "outputs": [],
"source": [
"clear\n",
"clc\n",
"\n",
"rho=1/58\n",
"\n",
"l1=90\n",
"l2=90\n",
"l3=100\n",
"l4=80\n",
"l5=90\n",
"l6=90\n",
"l7=90\n",
"\n",
"I1=50\n",
"I2=40\n",
"I3=20\n",
"I4=30\n",
"I5=45\n",
"I6=50\n",
"\n",
"I=I1+I2+I3+I4+I5+I6\n",
"L=l1+l2+l3+l4+l5+l6+l7\n",
"Ia=((I1*l2)+((I1+I2)*l3)+((I1+I2+I3)*l4)+((I1+I2+I3+I4)*l5)+((I1+I2+I3+I4+I5)*l6)+((I1+I2+I3+I4+I5+I6)*l7))/L\n",
"\n",
"Ib=I-Ia\n",
"V=230*2\n",
"V1=440\n",
"\n",
"dv=V-V1\n",
"\n",
"r=dv/((Ia*(l1+l2+l3+l4))-((I1*l2)+((I1+I2)*l3)+((I1+I2+I3)*l4)))\n",
"\n",
"a=rho*2/r\n",
"\n",
"mprintf('crossection area (in mm sq)= %.2f', a)"
   ]
   }
,
{
		   "cell_type": "markdown",
		   "metadata": {},
		   "source": [
			"## Example 16.21: find_currents_in_a_hexagon_shaped_concentrated_loads_in_2_line_dc_ring_main.sce"
		   ]
		  },
  {
"cell_type": "code",
	   "execution_count": null,
	   "metadata": {
	    "collapsed": true
	   },
	   "outputs": [],
"source": [
"clear\n",
"clc\n",
"\n",
"r1=.08\n",
"r2=.1\n",
"r3=.12\n",
"r4=.14\n",
"r5=.09\n",
"r6=.16\n",
"\n",
"I1=20\n",
"I2=50\n",
"I3=25\n",
"I4=40\n",
"I5=30\n",
"\n",
"x=((r2*I1)+(r3*(I1+I2))+(r4*(I1+I2+I3))+(r5*(I1+I2+I3+I4))+(r6*(I1+I2+I3+I4+I5)))/(r1+r2+r3+r4+r5+r6)\n",
"\n",
"iab=x\n",
"ibc=iab-I1\n",
"icd=ibc-I2\n",
"ide=icd-I3\n",
"ief=ide-I4\n",
"ifa=ief-I5\n",
"\n",
"iab=round(iab*10)/10\n",
"ibc=round(ibc*10)/10\n",
"icd=round(icd*10)/10\n",
"ide=round(ide*10)/10\n",
"ief=round(ief*10)/10\n",
"ifa=round(ifa*10)/10\n",
"\n",
"\n",
"mprintf('\n(a) Current A to B in Ampere = %.1f', iab)\n",
"mprintf('\n Current B to C in Ampere = %.1f', ibc)\n",
"mprintf('\n Current C to D in Ampere = %.1f', icd)\n",
"mprintf('\n Current D to E in Ampere = %.1f', ide)\n",
"mprintf('\n Current E to F in Ampere = %.1f', ief)\n",
"mprintf('\n Current F to A in Ampere = %.1f', ifa)\n",
"\n",
"\n",
"\n",
"Vb=230+((r6*ifa)+(r5*ief)+(r4*ide))\n",
"mprintf('\n Minimum voltage at B, in Volts = %.3f\n\n', Vb)\n",
"\n",
"//(b)\n",
"r7=.1\n",
"\n",
"\n",
"B=[\n",
"(r4+r5+r6) -r7\n",
"(r1+r2+r3) (r7+r1+r3+r2)\n",
"]\n",
"\n",
"C=[\n",
"((r5*I5)+(r4*(I5+I4)))\n",
"((r2*(I5+I2+I3+I4))+(r1*(I1+I2+I3+I4+I5))+(r3*(I1+I2+I3)))\n",
"]\n",
"\n",
"A= inv(B)*C\n",
"x=A(1)\n",
"y=A(2)\n",
"iab=I1+I2+I3+I4+I5 - x-y\n",
"ibc=iab-I1\n",
"icd=ibc-I2\n",
"iaf=x\n",
"ife=iaf-I5\n",
"ied=ife-I4\n",
"iad=y\n",
"\n",
"mprintf('\n(b) Current A to B in Ampere = %.1f', iab)\n",
"mprintf('\n Current B to C in Ampere = %.1f', ibc)\n",
"mprintf('\n Current C to D in Ampere = %.1f', icd)\n",
"mprintf('\n Current E to D in Ampere = %.1f', ied)\n",
"mprintf('\n Current F to E in Ampere = %.1f', ife)\n",
"mprintf('\n Current A to F in Ampere = %.1f', iaf)\n",
"mprintf('\n Current A to D in Ampere = %.1f', iad)\n",
"\n",
"Ve=230-((r6*iaf)+(r5*ife))\n",
"mprintf('\n Minimum voltage at E, in Volts = %.3f', Ve)\n",
""
   ]
   }
,
{
		   "cell_type": "markdown",
		   "metadata": {},
		   "source": [
			"## Example 16.22: kelvins_law.sce"
		   ]
		  },
  {
"cell_type": "code",
	   "execution_count": null,
	   "metadata": {
	    "collapsed": true
	   },
	   "outputs": [],
"source": [
"clear\n",
"clc\n",
"\n",
"V=33e3\n",
"L=10\n",
"Ce=.8\n",
"data=[\n",
"4e6 .8 10\n",
"2e6 .8 6\n",
"1e6 .8 8\n",
"]\n",
"rho=.0286*1e3\n",
"P=2000\n",
"q=0\n",
"for i=1:3\n",
"    I(i,1)=data (i,1)/(sqrt(3) * V * data(i,2))\n",
"    E(i,1)= I(i)^2 * rho*3* data (i,3) * 1e-3\n",
"    q=q+E(i)\n",
"end\n",
"Q=q*365*Ce\n",
"\n",
"a=sqrt(Q/P)\n",
"\n",
"mprintf('a=%.2f sq mm', fix(a*100)/100)"
   ]
   }
,
{
		   "cell_type": "markdown",
		   "metadata": {},
		   "source": [
			"## Example 16.23: find_cross_section_of_cable_for_given_losses_in_a_singly_fed_ac_conductor.sce"
		   ]
		  },
  {
"cell_type": "code",
	   "execution_count": null,
	   "metadata": {
	    "collapsed": true
	   },
	   "outputs": [],
"source": [
"clear\n",
"clc\n",
"\n",
"V=220\n",
"\n",
"rho1=.0286\n",
"T=20\n",
"dT=30\n",
"a=.004\n",
"rho=rho1*(1+(dT*a))\n",
"rho=round(rho*1000)/1000\n",
"\n",
"P1=5\n",
"ef1=.81\n",
"pf1=.77\n",
"I1= P1*735.5/(V*pf1*ef1)\n",
"I1=I1 * exp(%i *-1 * acos (pf1))\n",
"I1=round(I1 *1000)/1000\n",
"Ic=I1\n",
"\n",
"\n",
"P2=26\n",
"ef2=.87\n",
"pf2=.85\n",
"I2= P2*735.5/(V*pf2*ef2)\n",
"I2=round(I2*100)/100\n",
"I2=I2 * exp(%i *-1 * acos (pf2))\n",
"Ib=fix((I1+I2)*100)/100\n",
"\n",
"P3=10\n",
"ef3=.83\n",
"pf3=.82\n",
"I3= P3*735.5/(V*pf3*ef3)\n",
"I3=I3 * exp(%i *-1 * acos (pf3))\n",
"Ia=I1+I2+I3\n",
"\n",
"P=real (Ia * V )\n",
"PLa=round(.05*P)\n",
"\n",
"l1=40\n",
"l2=35\n",
"l3=30\n",
"\n",
"PL1=2 * (round(abs(Ia)*100)/100)^2 * rho * l1 \n",
"PL2=2 * (fix(abs(Ib)*100)/100)^2 * rho * l2 \n",
"PL3=2 * (round(abs(Ic)*100)/100)^2 * rho * l3 \n",
"\n",
"PL1=fix(PL1/100)*100\n",
"PL2=round(PL2/100)*100\n",
"PL3=round(PL3/10)*10\n",
"\n",
"\n",
"a=(PLa/(PL1+PL2+PL3))^-1\n",
"\n",
"mprintf('a=%.2f sq mm', a)\n",
"disp('the difference in the result is due to error in calculation of abs(I2)=141.12 instead of 144.12')"
   ]
   }
,
{
		   "cell_type": "markdown",
		   "metadata": {},
		   "source": [
			"## Example 16.24: find_loss_factor_load_factor_annual_load_loss_and_annual_cost_of_lost_energy.sce"
		   ]
		  },
  {
"cell_type": "code",
	   "execution_count": null,
	   "metadata": {
	    "collapsed": true
	   },
	   "outputs": [],
"source": [
"clear\n",
"clc\n",
"\n",
"Pp=3e3;\n",
"Et=1e7\n",
"Plp=220\n",
"C=2.1\n",
"\n",
"lf=(Et/8760)/Pp\n",
"lf=round(lf*100)/100\n",
"mprintf('\nLoad Factor = %.2f ', lf)\n",
"\n",
"L=(.3*lf) + (.7*lf*lf)\n",
"L=round(L*1000)/1000\n",
"mprintf('\nLoss Factor = %.3f ', L)\n",
"\n",
"Loss=L*Plp\n",
"mprintf('\nLoss = %.1f kW', Loss)\n",
"\n",
"CLY=Loss*8760*C\n",
"mprintf('\nCost of Energy Loss = Rs %.1f ',CLY)\n",
""
   ]
   }
,
{
		   "cell_type": "markdown",
		   "metadata": {},
		   "source": [
			"## Example 16.25: effect_of_starting_of_induction_motor_on_domestic_load.sce"
		   ]
		  },
  {
"cell_type": "code",
	   "execution_count": null,
	   "metadata": {
	    "collapsed": true
	   },
	   "outputs": [],
"source": [
"clear\n",
"clc\n",
"\n",
"xl=.1\n",
"\n",
"st1=10\n",
"vt1a=66\n",
"vt1b=11\n",
"xt1=.1\n",
"n1=vt1b/vt1a\n",
"\n",
"st2=5\n",
"vt2a=11\n",
"vt2b=3.3\n",
"xt2=.08\n",
"n2=vt2b/vt2a\n",
"\n",
"st3=05\n",
"vt3a=11\n",
"vt3b=.415\n",
"xt3=.06\n",
"n3=vt3b/vt3a\n",
"\n",
"Sm=5\n",
"pfm=.8\n",
"\n",
"Sl=1\n",
"pfl=.8\n",
"\n",
"Sb=10\n",
"Vb1=66\n",
"Vb2=Vb1*n1\n",
"Vb3=Vb2*n2\n",
"Vb4=Vb2*n3\n",
"\n",
"Xt2=xt2* (Sb/st2)\n",
"Xt3=xt3* (Sb/st3)\n",
"\n",
"Il=(Sl/Sb) * exp(%i * -acos(pfl))\n",
"Im=(Sm/Sb) * exp(%i * -acos(pfm))\n",
"\n",
"It=Im+Il\n",
"Vt= 1- (It*(%i*(xt1+xl)))- (Il *%i* Xt3)\n",
"\n",
"mprintf('\n(a) Voltage at domestic load is %.3f pu', abs(Vt))\n",
"\n",
"Im=-1 * %i * 5 * Sm / Sb \n",
"It=Il +Im\n",
"Vt= 1- (It*(%i*(xt1+xl)))- (Il *%i* Xt3)\n",
"\n",
"mprintf('\n(b) Voltage at domestic load is %.3f pu', abs(Vt))\n",
"\n",
""
   ]
   }
,
{
		   "cell_type": "markdown",
		   "metadata": {},
		   "source": [
			"## Example 16.26: effect_of_adding_capacitor_bank_on_current_and_voltage.sce"
		   ]
		  },
  {
"cell_type": "code",
	   "execution_count": null,
	   "metadata": {
	    "collapsed": true
	   },
	   "outputs": [],
"source": [
"clear\n",
"clc\n",
"\n",
"V=400\n",
"Im=40\n",
"pfm=.75\n",
"pfd=.95\n",
"\n",
"Pm=sqrt(3)* V * Im * pfm * 1e-3\n",
"phi1=acos(pfm)\n",
"phi2=acos(pfd)\n",
"kvar1=Pm * tan ( phi1)\n",
"kvar2=Pm * tan ( phi2)\n",
"kvarC=kvar2-kvar1\n",
"KVarC=(abs(kvarC)*10)/10\n",
"Ic= KVarC* 1e3 /(3 * V)\n",
"Ic=round(Ic*1000)/1000\n",
"Xc=round(V*100/Ic)/100\n",
"C=1/(2*%pi*50 * Xc)\n",
"\n",
"mprintf('\nkVAR of Capacitor Bank = %.1f KVAR, Phase Current Of Capacitor Bank=%.2f A, C= %.2f e-6 F/phase',KVarC, Ic, C*1e6)\n",
"\n",
"\n",
"\n",
"\n",
"\n",
"\n",
""
   ]
   }
,
{
		   "cell_type": "markdown",
		   "metadata": {},
		   "source": [
			"## Example 16.27: percentage_change_in_losses_by_adding_capacitor_bank.sce"
		   ]
		  },
  {
"cell_type": "code",
	   "execution_count": null,
	   "metadata": {
	    "collapsed": true
	   },
	   "outputs": [],
"source": [
"clear\n",
"clc\n",
"\n",
"V=400\n",
"Im=40\n",
"pfm=.75\n",
"pfd=.95\n",
"\n",
"Pm=sqrt(3)* V * Im * pfm * 1e-3\n",
"phi1=acos(pfm)\n",
"phi2=acos(pfd)\n",
"kvar1=Pm * tan ( phi1)\n",
"kvar2=Pm * tan ( phi2)\n",
"kvarC=kvar2-kvar1\n",
"Ic= abs(kvarC)* 1e3 /(3 * V)\n",
"Xc=V/Ic\n",
"C=1/(2*%pi*50 * Xc)\n",
"\n",
"\n",
"Imx=Im * sin (acos(pfm))\n",
"Iline= (Im * pfm) - (%i * (Imx - (Ic*sqrt(3))))\n",
"dL=(1-(abs(Iline)/Im)^2)*100\n",
"mprintf('\npercentage reduction in power loss=%.2f',dL)"
   ]
   }
,
{
		   "cell_type": "markdown",
		   "metadata": {},
		   "source": [
			"## Example 16.28: rating_of_switched_bank_and_fixed_bank_capacitors.sce"
		   ]
		  },
  {
"cell_type": "code",
	   "execution_count": null,
	   "metadata": {
	    "collapsed": true
	   },
	   "outputs": [],
"source": [
"clear\n",
"clc\n",
"\n",
"t1=15\n",
"P1=1.3\n",
"pf1=.75\n",
"\n",
"t2=9\n",
"P2=.4\n",
"pf2=.8\n",
"\n",
"pfd=.95\n",
"\n",
"kvar1i=P1*1e3*tan (acos(pf1))\n",
"kvar1f=P1*1e3*tan (acos(pfd))\n",
"kvarr1=kvar1i-kvar1f\n",
"\n",
"kvar2i=P2*1e3*tan (acos(pf2))\n",
"kvar2f=P2*1e3*tan (acos(pfd))\n",
"kvarr2=kvar2i-kvar2f\n",
"\n",
"SBC=abs(kvarr2-kvarr1)\n",
"FBC=min(kvarr2,kvarr1)\n",
"\n",
"mprintf('Switch Bank Capacity: %.2f KVAR, Fixed Bank Capacity: %.2f KVAR',SBC, FBC)"
   ]
   }
,
{
		   "cell_type": "markdown",
		   "metadata": {},
		   "source": [
			"## Example 16.2: EX16_2.sce"
		   ]
		  },
  {
"cell_type": "code",
	   "execution_count": null,
	   "metadata": {
	    "collapsed": true
	   },
	   "outputs": [],
"source": [
"clear\n",
"clc\n",
"\n",
"I1=100\n",
"I2=150\n",
"I3=200\n",
"\n",
"l1=150\n",
"l2=100\n",
"l3=100\n",
"\n",
"r=.1/1000\n",
"U=1\n",
"\n",
"Va=200\n",
"\n",
"rac=l1*r;\n",
"rcd=l2*r\n",
"rbd=l3*r\n",
"\n",
"Iac= I1+I2+I3 + U*(l1+l2+l3)\n",
"dvc=(Iac - (.5* U * l1))*rac;\n",
"Vc=Va-dvc\n",
"\n",
"Icd= I2+I3 + U*(l2+l3)\n",
"dvd=(Icd - (.5* U * l2))*rcd ;\n",
"Vd=Vc-dvd\n",
"\n",
"Idb= I3 + U*(l3)\n",
"dvb=(Idb - (.5* U * l3))*rbd ;\n",
"Vb=Vd-dvb\n",
"\n",
"mprintf('voltage at B= %.3f V  C= %.3f V  D= %.3f V ', Vb, Vc, Vd)"
   ]
   }
,
{
		   "cell_type": "markdown",
		   "metadata": {},
		   "source": [
			"## Example 16.3: find_voltage_at_load_points_in_doubly_feeded_dc_feeder.sce"
		   ]
		  },
  {
"cell_type": "code",
	   "execution_count": null,
	   "metadata": {
	    "collapsed": true
	   },
	   "outputs": [],
"source": [
"clear;\n",
"clc\n",
"\n",
"r1=.02\n",
"r2=.05\n",
"r3=.03\n",
"\n",
"Ic1=100\n",
"Id1=180\n",
"\n",
"Va=255;\n",
"Vb=250\n",
"\n",
"dV=abs(Va-Vb)\n",
"Ia=(dV+(r1*0)+(r2*Ic1)+(r3*(Id1+Ic1)))/(r1+r2+r3)\n",
"\n",
"Ib=-(Ia-(Ic1+Id1))\n",
"\n",
"Vc=Va-Ia*r1\n",
"Vd=Vc-((Ia-Ic1)*r2)\n",
"\n",
"mprintf('IA= %.0f A, IB=%.0fA, Vc=%.2f V, Vd=%.2f V', Ia, Ib, Vc,Vd)"
   ]
   }
,
{
		   "cell_type": "markdown",
		   "metadata": {},
		   "source": [
			"## Example 16.4: EX16_4.sce"
		   ]
		  },
  {
"cell_type": "code",
	   "execution_count": null,
	   "metadata": {
	    "collapsed": true
	   },
	   "outputs": [],
"source": [
"clear\n",
"clc\n",
"\n",
"l=300\n",
"l1=120\n",
"l3=120\n",
"l2=l-l1-l3\n",
"U=.25\n",
"Ic1=40\n",
"Id1=60\n",
"\n",
"r=.1/100\n",
"r1=l1*r;\n",
"r2=l2*r\n",
"r3=l3*r\n",
"\n",
"Va=300\n",
"Vb=300\n",
"\n",
"dV=abs(Va-Vb)\n",
"Ia=(dV+(r1*.5*U*l1)+(r2*.5*U*l2)+(r3*.5*U*l3)+(r2*(Ic1+U*l1))+(r3*(Ic1+U*l1 +Id1+U*l2)))/(r1+r2+r3)\n",
"I=Ic1+Id1+(U*l)\n",
"Ib=I-Ia\n",
"\n",
"Vc=Va-(Ia-.5*U*l1)*r1\n",
"Vd=Vb-((Ib-.5*U*l3)*r3)\n",
"\n",
"mprintf('IA= %.1f A, IB=%.1fA, Vc=%.2f V, Vd=%.2f V', Ia, Ib, Vc,Vd)\n",
""
   ]
   }
,
{
		   "cell_type": "markdown",
		   "metadata": {},
		   "source": [
			"## Example 16.5: voltage_drop_in_singly_feeded_ac_feeder_with_concentrated_load.sce"
		   ]
		  },
  {
"cell_type": "code",
	   "execution_count": null,
	   "metadata": {
	    "collapsed": true
	   },
	   "outputs": [],
"source": [
"clear\n",
"clc\n",
"\n",
"l=400\n",
"l1=100\n",
"l2=250\n",
"l3=400\n",
"r=.25/1000\n",
"\n",
"I1=100\n",
"I2=120\n",
"I3=80\n",
"\n",
"V=240\n",
"\n",
"dv=r*((l1*I1)+(l2*I2)+(l3*I3))\n",
"Ve=V-dv\n",
"\n",
"mprintf('\nVoltage at end is %.0f V, drop = %.0f V', Ve, dv)"
   ]
   }
,
{
		   "cell_type": "markdown",
		   "metadata": {},
		   "source": [
			"## Example 16.6: voltage_drop_in_singly_feeded_ac_feeder_with_distributed_and_concentrated_load.sce"
		   ]
		  },
  {
"cell_type": "code",
	   "execution_count": null,
	   "metadata": {
	    "collapsed": true
	   },
	   "outputs": [],
"source": [
"clear\n",
"clc\n",
"\n",
"l1=100\n",
"l2=250\n",
"l3=400\n",
"r=.25/1000\n",
"l=.125/1000\n",
"\n",
"I1=100\n",
"I2=120\n",
"I3=80\n",
"\n",
"pf1=.7\n",
"pf2=1\n",
"pf3=.8\n",
"\n",
"phi1=acos(pf1)\n",
"phi2=acos(pf2)\n",
"phi3=acos(pf3)\n",
"\n",
"Z1=l1 * ((r*cos(phi1))+(l*sin(phi1)))\n",
"Z2=l2 * ((r*cos(phi2))+(l*sin(phi2)))\n",
"Z3=l3 * ((r*cos(phi3))+(l*sin(phi3)))\n",
"\n",
"V=240\n",
"\n",
"dv=(Z1*I1)+(Z2*I2)+(Z3*I3)\n",
"Ve=V-dv\n",
"\n",
"mprintf('\nVoltage at end is %.2f V, drop = %.2f V', Ve, dv)"
   ]
   }
,
{
		   "cell_type": "markdown",
		   "metadata": {},
		   "source": [
			"## Example 16.7: currents_in_a_3_phase_ac_circuit.sce"
		   ]
		  },
  {
"cell_type": "code",
	   "execution_count": null,
	   "metadata": {
	    "collapsed": true
	   },
	   "outputs": [],
"source": [
"clear\n",
"clc\n",
"\n",
"V=240\n",
"\n",
"P1=50e3\n",
"P2=50e3\n",
"P3=200e3\n",
"Pm=500e3\n",
"pfm=.8\n",
"\n",
"\n",
"I1=P1/V\n",
"I2=P2/V\n",
"I3=P3/V\n",
"Im=Pm/(3*V*pfm)\n",
"\n",
"i1=fix(I1*exp(%i *0*%pi/3)*100)/100\n",
"i2=fix((fix(I2*100)/100)*exp(%i *-2*%pi/3)*1000)/1000\n",
"i3=fix(I3*exp(%i *2*%pi/3)*100)/100\n",
"in=abs(round((i1+i2+i3)*100)/100)\n",
"\n",
"iR=sqrt((I1)^2+(Im)^2+(2*I1*Im*pfm))\n",
"iY=sqrt((I2)^2+(Im)^2+(2*I2*Im*pfm))\n",
"iB=sqrt((I3)^2+(Im)^2+(2*I3*Im*pfm))\n",
"\n",
"mprintf('\nIR= %.0f A', iR)\n",
"mprintf('\nIY= %.0f A', iY)\n",
"mprintf('\nIB= %.0f A', iB)\n",
"mprintf('\nIn= %.2f A', in)"
   ]
   }
,
{
		   "cell_type": "markdown",
		   "metadata": {},
		   "source": [
			"## Example 16.8: voltage_drop_at_the_end_of_one_phase_in_unbalanced_3_phase_network.sce"
		   ]
		  },
  {
"cell_type": "code",
	   "execution_count": null,
	   "metadata": {
	    "collapsed": true
	   },
	   "outputs": [],
"source": [
"clear\n",
"clc\n",
"\n",
"V=230\n",
"\n",
"I1=80\n",
"I2=70\n",
"I3=50\n",
"\n",
"pf1=.8\n",
"pf2=.9\n",
"pf3=1\n",
"\n",
"phi1=acos(pf1)\n",
"phi2=acos(pf2)\n",
"phi3=acos(pf3)\n",
"\n",
"i1=I1*exp(%i *0*%pi/3) * exp(%i * -phi1)\n",
"i2=I2*exp(%i*-2*%pi/3) * exp(%i * -phi2)\n",
"i3=I3*exp(%i *2*%pi/3) * exp(%i * -phi3)\n",
"\n",
"r=.2\n",
"\n",
"in=i1+i2+i3\n",
"\n",
"dvR=r*i1\n",
"dvN=r*in\n",
"\n",
"VR=V+dvR+dvN\n",
"\n",
"mprintf('VR= %.1f V ang (%.1f)deg V', abs(VR), atand(imag(VR)/real(VR)))\n",
""
   ]
   }
,
{
		   "cell_type": "markdown",
		   "metadata": {},
		   "source": [
			"## Example 16.9: find_supply_voltage_and_phase_angle_between_sending_end_and_receiving_end.sce"
		   ]
		  },
  {
"cell_type": "code",
	   "execution_count": null,
	   "metadata": {
	    "collapsed": true
	   },
	   "outputs": [],
"source": [
"clear\n",
"clc\n",
"\n",
"Vb=240\n",
"\n",
"Ib=100* exp(%i *-1* acos (.8))\n",
"Ia=100* exp(%i *-1* acos (.6))\n",
"\n",
"z=complex(.2, .3)\n",
"\n",
"Va=round((Vb + (Ib * z/2)))\n",
"Isa = (Ia * exp(%i * 1 * atan(imag(Va)/real(Va)))) + Ib\n",
"//Isa=Isa*%i\n",
"\n",
"Vs=Va + (Isa * z/2)\n",
"Vs=round(Vs*100)/100\n",
"vs=abs(Vs)\n",
"phi=atand(imag(Vs)/real(Vs))\n",
"\n",
"mprintf('|Vs| = %.2f A, phase angle between Vs & Vb = %.2f deg', fix(vs*100)/100, phi)"
   ]
   }
],
"metadata": {
		  "kernelspec": {
		   "display_name": "Scilab",
		   "language": "scilab",
		   "name": "scilab"
		  },
		  "language_info": {
		   "file_extension": ".sce",
		   "help_links": [
			{
			 "text": "MetaKernel Magics",
			 "url": "https://github.com/calysto/metakernel/blob/master/metakernel/magics/README.md"
			}
		   ],
		   "mimetype": "text/x-octave",
		   "name": "scilab",
		   "version": "0.7.1"
		  }
		 },
		 "nbformat": 4,
		 "nbformat_minor": 0
}
