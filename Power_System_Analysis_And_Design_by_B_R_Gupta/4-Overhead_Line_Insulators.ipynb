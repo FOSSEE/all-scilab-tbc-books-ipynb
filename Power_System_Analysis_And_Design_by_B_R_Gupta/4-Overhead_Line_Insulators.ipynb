{
"cells": [
 {
		   "cell_type": "markdown",
	   "metadata": {},
	   "source": [
       "# Chapter 4: Overhead Line Insulators"
	   ]
	},
{
		   "cell_type": "markdown",
		   "metadata": {},
		   "source": [
			"## Example 4.1: find_voltage_across_string_and_string_efficiency.sce"
		   ]
		  },
  {
"cell_type": "code",
	   "execution_count": null,
	   "metadata": {
	    "collapsed": true
	   },
	   "outputs": [],
"source": [
"clear;\n",
"clc;\n",
"\n",
"C=1;\n",
"C1=0.1;\n",
"V=66;\n",
"n=4;\n",
"\n",
"v1= 1;\n",
"v2= (C+C1) * v1;\n",
"v3= (C * v2) + (C1*(v1+v2));\n",
"v4= (C * v3) + (C1*(v1+v2+v3));\n",
"\n",
"V1= V/(sqrt(3)*(v1+v2+v3+v4));\n",
"V2= v2* V1;\n",
"V3= v3* V1;\n",
"V4= v4* V1;\n",
"mprintf('\n V1= %.2f kV',V1);\n",
"mprintf('\n V2= %.2f kV',V2);\n",
"mprintf('\n V3= %.2f kV',V3);\n",
"mprintf('\n V4= %.2f kV',V4);\n",
"\n",
"eff= (V1+V2+V3+V4)/(n*V4) *100;\n",
"mprintf('\n string efficiency= %.1f percent',eff);"
   ]
   }
,
{
		   "cell_type": "markdown",
		   "metadata": {},
		   "source": [
			"## Example 4.2: calculate_string_efficiency_with_presesnce_of_guard_ring.sce"
		   ]
		  },
  {
"cell_type": "code",
	   "execution_count": null,
	   "metadata": {
	    "collapsed": true
	   },
	   "outputs": [],
"source": [
"clear\n",
"clc\n",
"\n",
"c1=.15\n",
"c2=.05\n",
"V=100\n",
"\n",
"A=[\n",
"1+c1 -(1+c2) -c2\n",
"c1 1+c1 -(1+c2)\n",
"1 0 0\n",
"]\n",
"\n",
"B=[0 0 1]'\n",
"Vm=inv(A) * B\n",
"Vm = round(Vm*1e4)/1e4\n",
"V1=V/(Vm(1)+Vm(2)+Vm(3))\n",
"V2=Vm(2) * V1\n",
"V3=Vm(3) * V1\n",
"\n",
"ef=V/(3*V3)\n",
"\n",
"mprintf('Voltage distribution in percentage of total voltage:\nV1=%.2f\tV2=%.2f\tV3=%.2f\nstring efficiency=%.1f percent',V1, V2, V3,ef*100)"
   ]
   }
,
{
		   "cell_type": "markdown",
		   "metadata": {},
		   "source": [
			"## Example 4.3: find_voltage_across_string_and_string_efficiency.sce"
		   ]
		  },
  {
"cell_type": "code",
	   "execution_count": null,
	   "metadata": {
	    "collapsed": true
	   },
	   "outputs": [],
"source": [
"clear;\n",
"clc;\n",
"\n",
"n=3\n",
"V=11;\n",
"C1=1;\n",
"C2=.2 * C1;\n",
"\n",
"v1=1;\n",
"v2=(C1+C2)*v1/C1;\n",
"v3=((C1*v2)+(C2*(v1+v2)))/C1;\n",
"\n",
"V3=V\n",
"V1=fix((V3/v3)*100)/100;\n",
"V2=round((V1*v2)*100)/100;\n",
"\n",
"Vln=V1+V2+V3;\n",
"Vll=sqrt(3)*Vln;\n",
"eff=Vln*100/(n*V);\n",
"\n",
"mprintf('\n(a) Maximum line to neutral voltage = %.2f kV', Vln);\n",
"mprintf('\n(b) String Efficiency = %.0f percent', eff);\n",
""
   ]
   }
,
{
		   "cell_type": "markdown",
		   "metadata": {},
		   "source": [
			"## Example 4.4: find_capacitance_ratio_system_voltage_and_string_efficiency.sce"
		   ]
		  },
  {
"cell_type": "code",
	   "execution_count": null,
	   "metadata": {
	    "collapsed": true
	   },
	   "outputs": [],
"source": [
"clear;\n",
"clc;\n",
"v3=20;\n",
"v2=15;\n",
"//putting v1=15/(1+k)\n",
"s=poly([-1 5 3],'x','coeff');\n",
"K=roots(s);\n",
"k=K(2)\n",
"v1=15/(1+k);\n",
"//disp(v1)\n",
"x=v1(1);\n",
"//disp(x);\n",
"vnew=x+v3+v2;\n",
"xl=sqrt(3)*vnew;\n",
"n=vnew/(3*v3);\n",
"mprintf('capacitance ratio= %.2f \nthe line to neutral voltage= %.1fkV \n string efficiency=%.1fpercent',k,xl,n*100);"
   ]
   }
,
{
		   "cell_type": "markdown",
		   "metadata": {},
		   "source": [
			"## Example 4.5: guard_ring_find_string_efficiency.sce"
		   ]
		  },
  {
"cell_type": "code",
	   "execution_count": null,
	   "metadata": {
	    "collapsed": true
	   },
	   "outputs": [],
"source": [
"clear;\n",
"clc;\n",
"a=.26;\n",
"b=.15;\n",
"c=.35;\n",
"y=[(1+b) b;-(1+a) (1+c)];\n",
"z=[1+a;a];\n",
"v=round(inv(y)*z*1e3)*1e-3; \n",
"t=v(1,1);\n",
"u=v(2,1);\n",
"n=(t+u+1)/(3*u);\n",
"mprintf('the string efficiency is =%.2f',n);"
   ]
   }
,
{
		   "cell_type": "markdown",
		   "metadata": {},
		   "source": [
			"## Example 4.6: voltage_across_various_discs_in_insulator.sce"
		   ]
		  },
  {
"cell_type": "code",
	   "execution_count": null,
	   "metadata": {
	    "collapsed": true
	   },
	   "outputs": [],
"source": [
"clear;\n",
"clc;\n",
"k=.1;\n",
"n=4;\n",
"for i=1:4\n",
"    z(i)=2*cosh((i-.5)*sqrt(k))*sinh(.5*sqrt(k))/sinh(n*sqrt(k));\n",
"end\n",
"mprintf('v1= %.3fV, v2= %.3fV, v3= %.3fV, v4= %.3fV', z(1), z(2), z(3), z(4))"
   ]
   }
,
{
		   "cell_type": "markdown",
		   "metadata": {},
		   "source": [
			"## Example 4.7: line_to_oin_capacitances_so_that_voltage_distribution_is_uniform.sce"
		   ]
		  },
  {
"cell_type": "code",
	   "execution_count": null,
	   "metadata": {
	    "collapsed": true
	   },
	   "outputs": [],
"source": [
"clear;\n",
"clc;\n",
"c=1;\n",
"w=1;\n",
"v=1;\n",
"c1=c*w*v/(4*w*v);\n",
"c2=2*w*v/(3*w*v);\n",
"c3=3*w*v/(2*w*v);\n",
"c4=4*w*v/(1*w*v);\n",
"mprintf('the capacitance are \nc1=%.2fC\nc2=%.2fC\nc3=%.1fC\nc4=%.0fC',c1,c2,c3,c4);"
   ]
   }
,
{
		   "cell_type": "markdown",
		   "metadata": {},
		   "source": [
			"## Example 4.8: find_mutual_capacitances_of_insulator_discs.sce"
		   ]
		  },
  {
"cell_type": "code",
	   "execution_count": null,
	   "metadata": {
	    "collapsed": true
	   },
	   "outputs": [],
"source": [
"clear;\n",
"clc;\n",
"w=1;\n",
"c=1;\n",
"v=1;\n",
"y=5;\n",
"c2=w*c*v+(w*y*v);\n",
"c3=2*w*c+6*w*c;\n",
"c4=3*w*c+8*w*c;\n",
"mprintf('the capacitance is\nc2=%dC\nc3=%dC\nc3=%dC',c2,c3,c4);"
   ]
   }
,
{
		   "cell_type": "markdown",
		   "metadata": {},
		   "source": [
			"## Example 4.9: find_ratio_of_capacitances_of_insulator_to_earth_capacitance_of_insulator.sce"
		   ]
		  },
  {
"cell_type": "code",
	   "execution_count": null,
	   "metadata": {
	    "collapsed": true
	   },
	   "outputs": [],
"source": [
"clear;\n",
"clc;\n",
"v=1;\n",
"v1=.4*v;\n",
"v2=.6*v;\n",
"k=(v2-v1)/v1;\n",
"mprintf('the ratio of capacitance to insulator to the capacitance to earth=%d',1/k);"
   ]
   }
],
"metadata": {
		  "kernelspec": {
		   "display_name": "Scilab",
		   "language": "scilab",
		   "name": "scilab"
		  },
		  "language_info": {
		   "file_extension": ".sce",
		   "help_links": [
			{
			 "text": "MetaKernel Magics",
			 "url": "https://github.com/calysto/metakernel/blob/master/metakernel/magics/README.md"
			}
		   ],
		   "mimetype": "text/x-octave",
		   "name": "scilab",
		   "version": "0.7.1"
		  }
		 },
		 "nbformat": 4,
		 "nbformat_minor": 0
}
