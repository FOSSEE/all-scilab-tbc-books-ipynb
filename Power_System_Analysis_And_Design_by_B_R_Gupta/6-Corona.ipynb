{
"cells": [
 {
		   "cell_type": "markdown",
	   "metadata": {},
	   "source": [
       "# Chapter 6: Corona"
	   ]
	},
{
		   "cell_type": "markdown",
		   "metadata": {},
		   "source": [
			"## Example 6.1: Finding_local_and_general_visual_and_disruptive_corona_voltage.sce"
		   ]
		  },
  {
"cell_type": "code",
	   "execution_count": null,
	   "metadata": {
	    "collapsed": true
	   },
	   "outputs": [],
"source": [
"clear;\n",
"clc;\n",
"\n",
"dia=22.26e-3;\n",
"r=dia/2;\n",
"V=220e3;\n",
"d=6;\n",
"mvg=.82;\n",
"mvl=.72;\n",
"temp=25;\n",
"P=73;\n",
"m0=.84;\n",
"\n",
"\n",
"del=3.86*P/(273+temp);\n",
"Vd=(3e6/sqrt(2))*r*del*m0* log(d/r) *1e-3;\n",
"mprintf('\nDisruptive critical voltage = %.0f KV/phase', Vd)\n",
"\n",
"Vvl=(3e6/sqrt(2))*r*del*mvl* log(d/r)* (1+(.03/sqrt(del*r))) *1e-3;\n",
"mprintf('\nVisual local voltage = %.1f KV/phase', Vvl)\n",
"\n",
"Vvg=(3e6/sqrt(2))*r*del*mvg* log(d/r)* (1+(.03/sqrt(del*r))) *1e-3;\n",
"mprintf('\nVisual general voltage = %.1f KV/phase', Vvg)"
   ]
   }
,
{
		   "cell_type": "markdown",
		   "metadata": {},
		   "source": [
			"## Example 6.2: Finding_total_loss_in_fair_weather_and_bad_weather_using_peeks_formula.sce"
		   ]
		  },
  {
"cell_type": "code",
	   "execution_count": null,
	   "metadata": {
	    "collapsed": true
	   },
	   "outputs": [],
"source": [
"clear;\n",
"clc;\n",
"\n",
"dia=22.26e-3;\n",
"r=dia/2;\n",
"V=220;\n",
"d=6;\n",
"temp=25;\n",
"P=73;\n",
"m0=.84;\n",
"f=50;\n",
"l=250;\n",
"\n",
"V=round(V/sqrt(3));\n",
"del=round((3.86*P/(273+temp))*10000)/10000;\n",
"Vd=round((3e6/sqrt(2))*r*del*m0* log(d/r) *1e-3);\n",
"\n",
"//(a)Good Weather\n",
"Pc=243.5 * ((f+25)/del) * sqrt(r/d)* (V-Vd)^2 * 1e-5;\n",
"PC= Pc * l;\n",
"Ptot= 3 *PC;\n",
"mprintf('\ntotal loss in good weather = %.2f kW', Ptot);\n",
"\n",
"//(b)Bad Weather\n",
"Vd1=.8*Vd;\n",
"Pc1=243.5 * ((f+25)/del) * sqrt(r/d)* (V-Vd1)^2 * 1e-5;\n",
"PC1= Pc1 * l;\n",
"Ptot1= 3 *PC1;\n",
"mprintf('\ntotal loss in bad weather = %.0f kW', Ptot1);"
   ]
   }
,
{
		   "cell_type": "markdown",
		   "metadata": {},
		   "source": [
			"## Example 6.3: finding_visual_corona_voltage.sce"
		   ]
		  },
  {
"cell_type": "code",
	   "execution_count": null,
	   "metadata": {
	    "collapsed": true
	   },
	   "outputs": [],
"source": [
"clear;\n",
"clc;\n",
"\n",
"dia=1.04e-2;\n",
"r=dia/2;\n",
"m=.85;\n",
"d=2.44;\n",
"P=74;\n",
"temp=21;\n",
"\n",
"del=round((3.86*P/(273+temp))*1000)/1000;\n",
"\n",
"Vv=(3e6/sqrt(2))*r*del*m* log(d/r)* (1+(.03/sqrt(del*r))) *1e-3;\n",
"mprintf('\nVisual local voltage = %.2f KV/phase', Vv)"
   ]
   }
,
{
		   "cell_type": "markdown",
		   "metadata": {},
		   "source": [
			"## Example 6.4: finding_minimum_distance_between_conductors_to_limit_disruptive_corona.sce"
		   ]
		  },
  {
"cell_type": "code",
	   "execution_count": null,
	   "metadata": {
	    "collapsed": true
	   },
	   "outputs": [],
"source": [
"clear;\n",
"clc;\n",
"\n",
"dia=30e-3;\n",
"r=dia/2;\n",
"del=.95;\n",
"m0=.95;\n",
"Vd=230e3;\n",
"Vd=Vd/sqrt(3);\n",
"\n",
"x=round(Vd*100/((3e6/sqrt(2))* r * del * m0))/100; \n",
"d= exp(x) * r;\n",
"mprintf('\n minimum spacing between conductors = %.2f m', d);"
   ]
   }
],
"metadata": {
		  "kernelspec": {
		   "display_name": "Scilab",
		   "language": "scilab",
		   "name": "scilab"
		  },
		  "language_info": {
		   "file_extension": ".sce",
		   "help_links": [
			{
			 "text": "MetaKernel Magics",
			 "url": "https://github.com/calysto/metakernel/blob/master/metakernel/magics/README.md"
			}
		   ],
		   "mimetype": "text/x-octave",
		   "name": "scilab",
		   "version": "0.7.1"
		  }
		 },
		 "nbformat": 4,
		 "nbformat_minor": 0
}
