{
"cells": [
 {
		   "cell_type": "markdown",
	   "metadata": {},
	   "source": [
       "# Chapter 7: Interference Between Power and Communication Lines"
	   ]
	},
{
		   "cell_type": "markdown",
		   "metadata": {},
		   "source": [
			"## Example 7.1: finding_magnitude_of_voltage_induced_in_telephone_line_due_to_EMI_of_power_line.sce"
		   ]
		  },
  {
"cell_type": "code",
	   "execution_count": null,
	   "metadata": {
	    "collapsed": true
	   },
	   "outputs": [],
"source": [
"clear;\n",
"clc;\n",
"\n",
"D1=1.2\n",
"D2=.6;\n",
"h=1;\n",
"H=10\n",
"\n",
"DaP=sqrt((D1-(D2/2))^2+1)\n",
"DcQ=DaP\n",
"DbP=sqrt(((D2/2))^2+1)\n",
"DbQ=DbP\n",
"DcP=sqrt((D1+(D2/2))^2+1)\n",
"DaQ=DcP\n",
"\n",
"Ia=300*exp(%i * 0);\n",
"Ib=300*exp(%i *-2* %pi/3);\n",
"Ic=300*exp(%i *2* %pi/3);\n",
"\n",
"si=2e-7* ((Ia * log(DaQ/DaP))+(Ib * log(DbQ/DbP))+(Ic * log(DcQ/DcP)))\n",
"\n",
"V=2*%pi * 50* abs(si);\n",
"\n",
"mprintf('voltage induced in telephone line = %.2f e-3V/m', V*1e3)"
   ]
   }
,
{
		   "cell_type": "markdown",
		   "metadata": {},
		   "source": [
			"## Example 7.2: EX7_2.sce"
		   ]
		  },
  {
"cell_type": "code",
	   "execution_count": null,
	   "metadata": {
	    "collapsed": true
	   },
	   "outputs": [],
"source": [
"clear;\n",
"clc;\n",
"\n",
"D1=1.2\n",
"D2=.6;\n",
"h=1;\n",
"H=10\n",
"\n",
"DaP=sqrt((D1-(D2/2))^2+h^2)\n",
"DaQ=sqrt((D1+(D2/2))^2+h^2)\n",
"\n",
"Ia=2000*exp(%i * 0);\n",
"si=2e-6* ((Ia * log(DaQ/DaP)))\n",
"\n",
"V=2*%pi * 50* abs(si);\n",
"\n",
"mprintf('voltage induced in telephone line = %.3f V/m', V)"
   ]
   }
,
{
		   "cell_type": "markdown",
		   "metadata": {},
		   "source": [
			"## Example 7.3: potential_of_conductor_due_electrostatic_effect.sce"
		   ]
		  },
  {
"cell_type": "code",
	   "execution_count": null,
	   "metadata": {
	    "collapsed": true
	   },
	   "outputs": [],
"source": [
"clear;\n",
"clc;\n",
"\n",
"D1=1.2\n",
"D2=.6;\n",
"h=1;\n",
"H=10\n",
"\n",
"DaP=sqrt((D1-(D2/2))^2+1)\n",
"DcQ=DaP\n",
"DbP=sqrt(((D2/2))^2+1)\n",
"DbQ=DbP\n",
"DcP=sqrt((D1+(D2/2))^2+1)\n",
"DaQ=DcP\n",
"\n",
"dia=14.15e-3;\n",
"r=dia/2;\n",
"\n",
"Va=11e3*exp(%i * 0)/sqrt(3);\n",
"Vb=11e3*exp(%i *-2* %pi/3)/sqrt(3);\n",
"Vc=11e3*exp(%i *2* %pi/3)/sqrt(3);\n",
"\n",
"Vpa=Va * (log(((2*H) - DaP)/DaP)/log(((2*H) - r)/r))\n",
"Vpb=Vb * (log(((2*H) - DbP)/DbP)/log(((2*H) - r)/r))\n",
"Vpc=Vc * (log(((2*H) - DcP)/DcP)/log(((2*H) - r)/r))\n",
"\n",
"Vp=Vpa+Vpb+Vpc;\n",
"mprintf('Potential of P= %.0f V', abs(Vp))"
   ]
   }
,
{
		   "cell_type": "markdown",
		   "metadata": {},
		   "source": [
			"## Example 7.4: Voltage_induced_in_telephone_conductor_due_electrostatic_effect.sce"
		   ]
		  },
  {
"cell_type": "code",
	   "execution_count": null,
	   "metadata": {
	    "collapsed": true
	   },
	   "outputs": [],
"source": [
"clear;\n",
"clc;\n",
"\n",
"f=50;\n",
"d=9e-3;\n",
"l=3.5;\n",
"h=16;\n",
"dc=.5;\n",
"hp=4\n",
"\n",
"ha= round((sqrt(3)*l/2)*100)/100;\n",
"DaP=ha+hp;\n",
"DaQ=DaP+dc;\n",
"\n",
"DbP=round(sqrt((l/2)^2+hp^2) *100)/100\n",
"DcP=DbP\n",
"DbQ=round(sqrt((l/2)^2+(hp+dc)^2) *100)/100\n",
"DcQ=DbQ\n",
"\n",
"Ia=200*exp(%i * 0);\n",
"Ib=200*exp(%i *-2* %pi/3);\n",
"Ic=200*exp(%i *2* %pi/3);\n",
"\n",
"si=2e-7* ((Ia * log(DaQ/DaP))+(Ib * log(DbQ/DbP))+(Ic * log(DcQ/DcP)))\n",
"\n",
"V=2*%pi * 50* abs(si);\n",
"\n",
"mprintf('voltage induced in telephone line = %.3f e-3V/m', V*1e3)"
   ]
   }
,
{
		   "cell_type": "markdown",
		   "metadata": {},
		   "source": [
			"## Example 7.5: Voltage_induced_in_conductor_due_electrostatic_effect.sce"
		   ]
		  },
  {
"cell_type": "code",
	   "execution_count": null,
	   "metadata": {
	    "collapsed": true
	   },
	   "outputs": [],
"source": [
"clear;\n",
"clc;\n",
"\n",
"f=50;\n",
"dia=9e-3;\n",
"l=3.5;\n",
"h=16;\n",
"dc=.5;\n",
"hp=4\n",
"\n",
"ha= round((sqrt(3)*l/2)*100)/100;\n",
"DaP=ha+hp;\n",
"DaQ=DaP+dc;\n",
"H=ha+h;\n",
"\n",
"DbP=round((sqrt((l/2)^2+hp^2))*100)/100;\n",
"DcP=DbP\n",
"DbQ=round((sqrt((l/2)^2+(hp+dc)^2))*100)/100;\n",
"DcQ=DbQ\n",
"\n",
"r=dia/2;\n",
"\n",
"Va=132e3*exp(%i * 0)/sqrt(3);\n",
"Vb=132e3*exp(%i *-2* %pi/3)/sqrt(3);\n",
"Vc=132e3*exp(%i *2* %pi/3)/sqrt(3);\n",
"\n",
"Vpa=Va * (log(((2*H) - DaP)/DaP)/log(((2*H) - r)/r))\n",
"Vpb=Vb * (log(((2*h) - DbP)/DbP)/log(((2*h) - r)/r))\n",
"Vpc=Vc * (log(((2*h) - DcP)/DcP)/log(((2*h) - r)/r))\n",
"\n",
"Vp=Vpa+Vpb+Vpc;\n",
"mprintf('Potential of P= %.0f V', fix(abs(Vp)))"
   ]
   }
],
"metadata": {
		  "kernelspec": {
		   "display_name": "Scilab",
		   "language": "scilab",
		   "name": "scilab"
		  },
		  "language_info": {
		   "file_extension": ".sce",
		   "help_links": [
			{
			 "text": "MetaKernel Magics",
			 "url": "https://github.com/calysto/metakernel/blob/master/metakernel/magics/README.md"
			}
		   ],
		   "mimetype": "text/x-octave",
		   "name": "scilab",
		   "version": "0.7.1"
		  }
		 },
		 "nbformat": 4,
		 "nbformat_minor": 0
}
