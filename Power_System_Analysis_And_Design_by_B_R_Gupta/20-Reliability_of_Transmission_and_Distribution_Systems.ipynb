{
"cells": [
 {
		   "cell_type": "markdown",
	   "metadata": {},
	   "source": [
       "# Chapter 20: Reliability of Transmission and Distribution Systems"
	   ]
	},
{
		   "cell_type": "markdown",
		   "metadata": {},
		   "source": [
			"## Example 20.10: find_failure_rate_of_system_down_time_per_outage_annual_outage.sce"
		   ]
		  },
  {
"cell_type": "code",
	   "execution_count": null,
	   "metadata": {
	    "collapsed": true
	   },
	   "outputs": [],
"source": [
"clear;\n",
"clc;\n",
"\n",
"On=3;\n",
"Os=9\n",
"Oa=1\n",
"rn=6\n",
"ra=8;\n",
"n=110;\n",
"s=4;\n",
"\n",
"y=24*365;\n",
"Rn=rn/y;\n",
"Ra=ra/y;\n",
"N=n/y;\n",
"S=s/y;\n",
"\n",
"Ofe=((N/(N+S))*((On*On*2*Rn)+((S/N)*2*On*Os*Rn)+((S/N)*2*On*Os*Rn)+((2*S*S/N)*(Os*Os))));\n",
"Oes=2*(Oa*Ra*On);\n",
"\n",
"Rfe=Rn*Rn*y/(2*Rn);\n",
"Res=Rn*Ra*y/(Ra+Rn);\n",
"\n",
"R=Ofe+Oes;\n",
"mprintf('\n(a) Annual Outage rate= %.4f outages per year', fix(R*10000)/10000);\n",
"\n",
"TO=(Ofe*Rfe)+(Oes*Res);\n",
"mprintf('\n(b) Total outage time per year = %.2f hours per year',TO);\n",
"\n",
"TperO=TO/R;\n",
"mprintf('\n(c) Downtime per Outage = %.1f hours',TperO);"
   ]
   }
,
{
		   "cell_type": "markdown",
		   "metadata": {},
		   "source": [
			"## Example 20.1: find_failure_rate_of_system_down_time_per_outage_annual_outage.sce"
		   ]
		  },
  {
"cell_type": "code",
	   "execution_count": null,
	   "metadata": {
	    "collapsed": true
	   },
	   "outputs": [],
"source": [
"clear;\n",
"clc;\n",
"\n",
"l=.4;\n",
"Ft=.8;\n",
"Fd=8.2;\n",
"Tt=6;\n",
"Td=5;\n",
"\n",
"Rf=Ft + (Fd*l);\n",
"mprintf('\n(a)Failure Rate = %.2f outages/year',Rf);\n",
"\n",
"t=((Ft*Tt)+(Fd*Td*l))/Rf;\n",
"mprintf('\n(b)Down Time = %.3f Hours per outage',t);;\n",
"\n",
"T=t*Rf;\n",
"mprintf('\n(c)Total Outage Time = %.1f Hours per year',T);;"
   ]
   }
,
{
		   "cell_type": "markdown",
		   "metadata": {},
		   "source": [
			"## Example 20.2: find_reliability_of_series_connected_elements.sce"
		   ]
		  },
  {
"cell_type": "code",
	   "execution_count": null,
	   "metadata": {
	    "collapsed": true
	   },
	   "outputs": [],
"source": [
"clear;\n",
"clc;\n",
"\n",
"r1=.95;\n",
"r2=.92;\n",
"r3=.98;\n",
"r4=.88\n",
"\n",
"R=r1*r2*r3*r4;\n",
"mprintf('\nNet system reliability = %.4f ',R);"
   ]
   }
,
{
		   "cell_type": "markdown",
		   "metadata": {},
		   "source": [
			"## Example 20.3: find_reliability_of_parallel_connected_elements.sce"
		   ]
		  },
  {
"cell_type": "code",
	   "execution_count": null,
	   "metadata": {
	    "collapsed": true
	   },
	   "outputs": [],
"source": [
"clear;\n",
"clc;\n",
"\n",
"r1=.95;\n",
"r2=.92;\n",
"r3=.98;\n",
"r4=.88\n",
"\n",
"R=r1*r2*r3*r4;\n",
"\n",
"Q=(1-R)*(1-R);\n",
"Rs=1-Q;\n",
"mprintf('\nNet system reliability = %.4f ',Rs);"
   ]
   }
,
{
		   "cell_type": "markdown",
		   "metadata": {},
		   "source": [
			"## Example 20.4: find_reliability_of_series_connected_elements_and_MTTF.sce"
		   ]
		  },
  {
"cell_type": "code",
	   "execution_count": null,
	   "metadata": {
	    "collapsed": true
	   },
	   "outputs": [],
"source": [
"clear;\n",
"clc;\n",
"\n",
"na=3;\n",
"nb=2;\n",
"nc=1;\n",
"Fa=3e-3;\n",
"Fb=2e-3;\n",
"Fc=4e-3;\n",
"t=20;\n",
"\n",
"\n",
"F=(Fa*na)+(Fb*nb)+(Fc*nc);\n",
"R=exp(-1*F*t);\n",
"MTTF=1/F;\n",
"mprintf('\nReliability = %.5f \nMTTF = %.3f HOURS',R,fix(MTTF*1000)/1000);\n",
""
   ]
   }
,
{
		   "cell_type": "markdown",
		   "metadata": {},
		   "source": [
			"## Example 20.5: find_reliability_of_parallel_connected_elements_and_MTTF.sce"
		   ]
		  },
  {
"cell_type": "code",
	   "execution_count": null,
	   "metadata": {
	    "collapsed": true
	   },
	   "outputs": [],
"source": [
"clear;\n",
"clc;\n",
"\n",
"r1=.8;\n",
"r2=.86;\n",
"r3=.92;\n",
"\n",
"R=r1*r2*r3;\n",
"mprintf('\nNet system reliability = %.3f ',R);"
   ]
   }
,
{
		   "cell_type": "markdown",
		   "metadata": {},
		   "source": [
			"## Example 20.6: find_improved_reliability.sce"
		   ]
		  },
  {
"cell_type": "code",
	   "execution_count": null,
	   "metadata": {
	    "collapsed": true
	   },
	   "outputs": [],
"source": [
"clear;\n",
"clc;\n",
"\n",
"r1=.8;\n",
"r2=.86;\n",
"r3=.92;\n",
"\n",
"Rs=r1*r2*r3;\n",
"Q=(1-Rs)*(1-Rs);\n",
"R=1-Q;\n",
"mprintf('\nNet system reliability = %.3f ',R);"
   ]
   }
,
{
		   "cell_type": "markdown",
		   "metadata": {},
		   "source": [
			"## Example 20.7: find_improved_reliability.sce"
		   ]
		  },
  {
"cell_type": "code",
	   "execution_count": null,
	   "metadata": {
	    "collapsed": true
	   },
	   "outputs": [],
"source": [
"clear;\n",
"clc;\n",
"\n",
"r1=.8;\n",
"r2=.86;\n",
"r3=.92;\n",
"\n",
"Q1=(1-r1)^2;\n",
"R1=1-Q1;\n",
"\n",
"Q2=(1-r2)^2;\n",
"R2=1-Q2;\n",
"\n",
"Q3=(1-r3)^2;\n",
"R3=1-Q3;\n",
"\n",
"R=R1*R2*R3;\n",
"\n",
"\n",
"mprintf('\nNet system reliability = %.3f ',R);"
   ]
   }
,
{
		   "cell_type": "markdown",
		   "metadata": {},
		   "source": [
			"## Example 20.8: find_number_of_components_to_achieve_desired_reliability.sce"
		   ]
		  },
  {
"cell_type": "code",
	   "execution_count": null,
	   "metadata": {
	    "collapsed": true
	   },
	   "outputs": [],
"source": [
"clear;\n",
"clc;\n",
"\n",
"r=.3\n",
"R=.85;\n",
"n=log(1-R)/log(1-r);\n",
"N=round(n);\n",
"if(N<n)\n",
"    N=N+1;\n",
"mprintf('\nComponents required = %d',N)\n",
"Rs=1-((1-.3)^N);\n",
"mprintf('\nNet System Reliability = %.3f',Rs)\n",
"\n",
""
   ]
   }
,
{
		   "cell_type": "markdown",
		   "metadata": {},
		   "source": [
			"## Example 20.9: find_failure_rate_of_system_down_time_per_outage_annual_outage.sce"
		   ]
		  },
  {
"cell_type": "code",
	   "execution_count": null,
	   "metadata": {
	    "collapsed": true
	   },
	   "outputs": [],
"source": [
"clear;\n",
"clc;\n",
"\n",
"Oat1=0.1;\n",
"Oacb=0.15;\n",
"Oafd=1.2;\n",
"Oat2=0.3;\n",
"\n",
"Obt1=0.1;\n",
"Obcb=0.15;\n",
"Obfd=5.2;\n",
"Obt2=0.3;\n",
"\n",
"Oct1=0.5;\n",
"Occb=0.4;\n",
"Ocfd=2;\n",
"Oct2=0.6;\n",
"\n",
"Rat1=6;\n",
"Racb=4;\n",
"Rafd=5;\n",
"Rat2=5;\n",
"\n",
"Rct1=8;\n",
"Rccb=5;\n",
"Rcfd=3;\n",
"Rct2=4;\n",
"\n",
"N=120;\n",
"S=3;\n",
"\n",
"Of=((N/(N+S))*Oafd)+((S/(N+S))*Obfd);\n",
"Oafe=Oat1+Oacb+Of+Oat2;\n",
"Ocfe=Oct1+Occb+Ocfd+Oct2;\n",
"\n",
"Rae=((Oat1*Rat1)+(Oacb*Racb)+(Of*Rafd)+(Oat2*Rat2))/Oafe;\n",
"Rce=((Oct1*Rct1)+(Occb*Rccb)+(Ocfd*Rcfd)+(Oct2*Rct2))/Ocfe;\n",
"\n",
"R=Oafe+Ocfe;\n",
"mprintf('\n(a)Annual Outage Rate = %.3f outage per year',R);\n",
"\n",
"TperO=((Oafe*Rae)+(Ocfe*Rce))/R;\n",
"mprintf('\n(b)Downtime per Outage = %.2f hours',TperO);\n",
"\n",
"T=TperO*R;\n",
"mprintf('\n(a)Total outage time per year = %.2f hours per year',fix(T*100)/100);"
   ]
   }
],
"metadata": {
		  "kernelspec": {
		   "display_name": "Scilab",
		   "language": "scilab",
		   "name": "scilab"
		  },
		  "language_info": {
		   "file_extension": ".sce",
		   "help_links": [
			{
			 "text": "MetaKernel Magics",
			 "url": "https://github.com/calysto/metakernel/blob/master/metakernel/magics/README.md"
			}
		   ],
		   "mimetype": "text/x-octave",
		   "name": "scilab",
		   "version": "0.7.1"
		  }
		 },
		 "nbformat": 4,
		 "nbformat_minor": 0
}
