{
"cells": [
 {
		   "cell_type": "markdown",
	   "metadata": {},
	   "source": [
       "# Chapter 19: Voltage Stability"
	   ]
	},
{
		   "cell_type": "markdown",
		   "metadata": {},
		   "source": [
			"## Example 19.10: voltage_regulation_of_compensated_line.sce"
		   ]
		  },
  {
"cell_type": "code",
	   "execution_count": null,
	   "metadata": {
	    "collapsed": true
	   },
	   "outputs": [],
"source": [
"clear;\n",
"clc;\n",
"\n",
"d=500;\n",
"z=complex(.105, .3768);\n",
"y=complex(0, 2.822e-6);\n",
"Z=z*d;\n",
"Y=y*d;\n",
"YZ=Y*Z;\n",
"\n",
"A=1+(YZ/2)+((YZ)^2/24);\n",
"B=Z * (1+(YZ/6)+((YZ)^2/120));\n",
"C=Y * (1+(YZ/6)+((YZ)^2/120));\n",
"D=A;\n",
"\n",
"Ys=-.6*Y;\n",
"\n",
"As=1;\n",
"Ds=1;\n",
"Bs=0;\n",
"Cs=Ys;\n",
"\n",
"Anew=A + (B*Cs);\n",
"\n",
"Vr=round(220e3/sqrt(3));\n",
"Pr=40e6;\n",
"pf=.9;\n",
"pfa=-1*acos(pf);\n",
"Irm=Pr/(3*Vr);\n",
"Ir=complex(Irm *pf, Irm * sin(pfa));\n",
"\n",
"Vs=(A*Vr)+(B*Ir);\n",
"Vr0=abs(Vs)/(round(abs(Anew)*100)/100);\n",
"\n",
"VRc= (Vr0-Vr)*100/Vr\n",
"mprintf('\n(a) Voltage Regulation = %.2f percent',VRc);\n",
"\n",
"Vr02=abs(Vs)/abs(A);\n",
"\n",
"VRc2= (Vr02-Vr)*100/Vr\n",
"mprintf('\n(b) Voltage Regulation(uncompensated) = %.2f percent',VRc2);\n",
""
   ]
   }
,
{
		   "cell_type": "markdown",
		   "metadata": {},
		   "source": [
			"## Example 19.11: find_var_injection_to_bring_voltage_to_original_value.sce"
		   ]
		  },
  {
"cell_type": "code",
	   "execution_count": null,
	   "metadata": {
	    "collapsed": true
	   },
	   "outputs": [],
"source": [
"clear;\n",
"clc;\n",
"\n",
"v1=220;\n",
"v2=132\n",
"vb1=220;\n",
"n=132/220\n",
"vb2=vb1*n\n",
"\n",
"Sb=200;\n",
"Zb= vb2 *vb2/Sb;\n",
"\n",
"x1=75;\n",
"x2=70;\n",
"x3=90\n",
"\n",
"X1=x1/Zb;\n",
"X2=x2/Zb;\n",
"X3=x3/Zb;\n",
"X1=fix(X1*100)/100\n",
"X2=fix(X2*100)/100\n",
"X3=fix(X3*100)/100\n",
"\n",
"\n",
"\n",
"Xt1=.08\n",
"Xt2=.08\n",
"\n",
"X=((Xt1+X1)^-1 +(Xt2+X2)^-1 +(X3)^-1 )^-1;\n",
"X=fix(X*1000)/1000\n",
"\n",
"dV=4\n",
"dS= Sb/X;\n",
"dQ=round(dS*1000/vb2)*1e-3 * dV\n",
"\n",
"mprintf('\n(a)\n X1= %.2f pu; X2= %.2f pu; X3= %.2f pu', X1, X2, X3)\n",
"mprintf('\n(b)\n VAR injected = %.2f MVAR',dQ)"
   ]
   }
,
{
		   "cell_type": "markdown",
		   "metadata": {},
		   "source": [
			"## Example 19.1: finding_sending_and_receiving_end_reactive_power.sce"
		   ]
		  },
  {
"cell_type": "code",
	   "execution_count": null,
	   "metadata": {
	    "collapsed": true
	   },
	   "outputs": [],
"source": [
"clear;\n",
"clc;\n",
"\n",
"V=400e3;\n",
"X=96;\n",
"Y=.001 * exp(%i * 90/180*%pi);\n",
"Sb=500e6;\n",
"Pr=2;\n",
"\n",
"Z=complex(0,X);\n",
"Zb=V*V/Sb;\n",
"A=1+(Z*Y/2);\n",
"B=Z/Zb;\n",
"\n",
"\n",
"Vs=1;\n",
"Vr=.95;\n",
"d1=asin(Pr*abs(B)/(Vs*Vr));\n",
"Qr1=((Vs*Vr)/abs(B)) * cos(d1) - (abs(A)* Vr*Vr/abs(B))\n",
"Qs1= (abs(A)* Vs*Vs/abs(B)) - ((Vs*Vr)/abs(B)) * cos(d1)\n",
"\n",
"mprintf('\n(a) Qr= %.3f MVAR, Qs=%.3f MVAR', Qr1, Qs1);\n",
"\n",
"Vs=1;\n",
"Vr=.9;\n",
"d2=asin(Pr*abs(B)/(Vs*Vr));\n",
"Qr2=((Vs*Vr)/abs(B)) * cos(d2) - (abs(A)* Vr*Vr/abs(B))\n",
"Qs2= (abs(A)* Vs*Vs/abs(B)) - ((Vs*Vr)/abs(B)) * cos(d2)\n",
"\n",
"mprintf('\n(b) Qr= %.3f MVAR, Qs=%.3f MVAR', Qr2, Qs2);\n",
"\n",
"Vs=1;\n",
"Vr=1;\n",
"d3=asin(Pr*abs(B)/(Vs*Vr));\n",
"Qr3=((Vs*Vr)/abs(B)) * cos(d3) - (abs(A)* Vr*Vr/abs(B))\n",
"Qs3= (abs(A)* Vs*Vs/abs(B)) - ((Vs*Vr)/abs(B)) * cos(d3)\n",
"\n",
"mprintf('\n(c) Qr= %.3f MVAR, Qs=%.3f MVAR', fix(Qr3*1000)/1000, fix(Qs3*1000)/1000);"
   ]
   }
,
{
		   "cell_type": "markdown",
		   "metadata": {},
		   "source": [
			"## Example 19.2: compensating_value_of_capacitor.sce"
		   ]
		  },
  {
"cell_type": "code",
	   "execution_count": null,
	   "metadata": {
	    "collapsed": true
	   },
	   "outputs": [],
"source": [
"clear;\n",
"clc;\n",
"\n",
"V=10000;\n",
"P=12.5e6;\n",
"f=50;\n",
"Xl=4;\n",
"\n",
"\n",
"d=asin(P*Xl/(V*V));\n",
"\n",
"VL=2*V*sin(d/2);\n",
"QL=VL^2/4;\n",
"Qc=QL/2;\n",
"\n",
"C=Qc/(2*%pi*f*V*V);\n",
"\n",
"mprintf('C=%.1f e-6F',C*1e6);"
   ]
   }
,
{
		   "cell_type": "markdown",
		   "metadata": {},
		   "source": [
			"## Example 19.3: find_receiving_end_voltage_if_breaker_opens_suddenly.sce"
		   ]
		  },
  {
"cell_type": "code",
	   "execution_count": null,
	   "metadata": {
	    "collapsed": true
	   },
	   "outputs": [],
"source": [
"clear;\n",
"clc;\n",
"\n",
"xs=.22;\n",
"xl=.15;\n",
"Sb=1000;\n",
"Vr=1;\n",
"\n",
"X=xl+xs;\n",
"\n",
"Pr=1;\n",
"\n",
"pf=.8;\n",
"pfa=acos(pf);\n",
"Qr=Pr*tan(pfa);\n",
"\n",
"Vs=complex(Vr + (X * Qr / Vr) , (X * Pr / Vr));\n",
"V=abs(Vs);\n",
"\n",
"mprintf('Vr = %.2f ang (%.1f) deg pu',V, fix(atand(imag(Vs)/real(Vs))*10)/10)"
   ]
   }
,
{
		   "cell_type": "markdown",
		   "metadata": {},
		   "source": [
			"## Example 19.5: capacity_of_SVS.sce"
		   ]
		  },
  {
"cell_type": "code",
	   "execution_count": null,
	   "metadata": {
	    "collapsed": true
	   },
	   "outputs": [],
"source": [
"clear;\n",
"clc;\n",
"\n",
"vf=3;\n",
"VA=8000;\n",
"\n",
"dQ=vf/100 * VA\n",
"\n",
"mprintf('capacity of SVS= +- %d MVAR', dQ);"
   ]
   }
,
{
		   "cell_type": "markdown",
		   "metadata": {},
		   "source": [
			"## Example 19.6: voltage_and_pf_of_bus_before_compensation.sce"
		   ]
		  },
  {
"cell_type": "code",
	   "execution_count": null,
	   "metadata": {
	    "collapsed": true
	   },
	   "outputs": [],
"source": [
"clear;\n",
"clc;\n",
"\n",
"V=220e3;\n",
"Zl=complex(.8, .2);\n",
"\n",
"Xline=.2;\n",
"Xt=.05;\n",
"Sb=100e6;\n",
"Vb=220e3;\n",
"v=V/Vb;\n",
"\n",
"X=Xline+ Xt;\n",
"I=conj(Zl/v)\n",
"phi1=atand(imag(I)/real(I))\n",
"\n",
"Vbus=1+ I * X*exp(%i * %pi/2)\n",
"\n",
"phi2=atand(imag(Vbus)/real(Vbus))\n",
"\n",
"vbus=abs(Vbus)\n",
"vbus=round(vbus *1000)/1000\n",
"vbus=vbus*Vb*1e-3;\n",
"pf=cosd(-phi1+phi2)\n",
"\n",
"mprintf('Voltage at bus = %.2f Kv, pf= %.3f lagging', vbus, pf)"
   ]
   }
,
{
		   "cell_type": "markdown",
		   "metadata": {},
		   "source": [
			"## Example 19.7: voltage_and_pf_of_bus_after_compensation.sce"
		   ]
		  },
  {
"cell_type": "code",
	   "execution_count": null,
	   "metadata": {
	    "collapsed": true
	   },
	   "outputs": [],
"source": [
"clear;\n",
"clc;\n",
"//the data used is from Ex 19.6, not 19.5 as incorrectly mentioned in statement\n",
"V=220e3;\n",
"Zl=complex(.8,0);\n",
"\n",
"Xline=.2;\n",
"Xt=.05;\n",
"Sb=100e6;\n",
"Vb=220e3;\n",
"v=V/Vb;\n",
"\n",
"X=Xline+ Xt;\n",
"I=conj(Zl/v)\n",
"phi1=atand(imag(I)/real(I))\n",
"\n",
"Vbus=1+( I * X*exp(%i * %pi/2))\n",
"\n",
"phi2=atand(imag(Vbus)/real(Vbus))\n",
"\n",
"vbus=abs(Vbus)*Vb*1e-3;\n",
"pf=cosd(-phi1+phi2)\n",
"\n",
"\n",
"mprintf('Voltage at bus = %.1f Kv, pf= %.2f', vbus, pf)\n",
"disp('the data used is from Ex 19.6, not 19.5 as incorrectly mentioned in statement')"
   ]
   }
,
{
		   "cell_type": "markdown",
		   "metadata": {},
		   "source": [
			"## Example 19.8: T_parameters_of_compensated_and_uncompensated_system.sce"
		   ]
		  },
  {
"cell_type": "code",
	   "execution_count": null,
	   "metadata": {
	    "collapsed": true
	   },
	   "outputs": [],
"source": [
"clear;\n",
"clc;\n",
"\n",
"Z=complex(180*cosd(75) , 180*sind(75));\n",
"Y=complex(1e-3*cosd(90) , 1e-3*sind(90));\n",
"\n",
"g=sqrt(Y*Z);\n",
"Zc=sqrt(Z/Y);\n",
"Zc=round(abs(Zc)) * exp (%i * atan(imag(Zc)/real(Zc)))\n",
"\n",
"Z1=Zc * sinh(g);\n",
"Y1=(1/Zc) *( (cosh(g)-1)/sinh(g));\n",
"A=cosh(g);\n",
"B=round(abs(sinh(g) )*1000) * exp (%i * atan(imag(sinh(g) )/real(sinh(g) ))) * Zc/1000\n",
"C=B / (Zc *Zc)\n",
"D=A;\n",
"\n",
"\n",
"mprintf('\n(a)');\n",
"\n",
"mprintf('\nA =D= %.4f ang (%.2f) deg',abs(A), round(atand(imag(A)/real(A))*100)/100)\n",
"mprintf('\nB = %.2f ang (%.2f) deg ohm',abs(B), round(atand(imag(B)/real(B))*100)/100)\n",
"mprintf('\nC = %.5f ang (%.2f) deg ohm',abs(C), round(atand(imag(C)/real(C))*100)/100 +180)\n",
"\n",
"\n",
"B2=B-(0.6 * imag(Z) *%i);\n",
"Y2=(cosh(g)-1)/(sinh(g)*Zc);\n",
"\n",
"A2=1+(B2*Y2)\n",
"D2=A2;\n",
"C2=(2* Y2 )+ (B2*Y2*Y2);\n",
"mprintf('\n(b)');\n",
"\n",
"mprintf('\nA =D= %.4f ang (%.2f) deg',abs(A2), round(atand(imag(A2)/real(A2))*100)/100)\n",
"mprintf('\nB = %.0f ang (%.2f) deg ohm',abs(B2), round(atand(imag(B2)/real(B2))*100)/100)\n",
"mprintf('\nC = %.3f ang (%.1f) deg ohm',abs(C2), round(atand(imag(C2)/real(C2))*100)/100 +180)"
   ]
   }
,
{
		   "cell_type": "markdown",
		   "metadata": {},
		   "source": [
			"## Example 19.9: pi_parameters_of_compensated_and_uncompensated_system.sce"
		   ]
		  },
  {
"cell_type": "code",
	   "execution_count": null,
	   "metadata": {
	    "collapsed": true
	   },
	   "outputs": [],
"source": [
"clear;\n",
"clc;\n",
"\n",
"Z=complex(180*cosd(75) , 180*sind(75));\n",
"Y=complex(1e-3*cosd(90) , 1e-3*sind(90));\n",
"YZ=Z*Y;\n",
"\n",
"\n",
"B=Z;\n",
"A=1+(YZ/2)\n",
"D=A\n",
"C= Y* (1+(YZ/4))\n",
"\n",
"mprintf('\n(a)');\n",
"mprintf('\nA =D= %.3f ang (%.2f) deg',abs(A), round(atand(imag(A)/real(A))*100)/100)\n",
"mprintf('\nB = %.0f ang (%.0f) deg ohm',abs(B), round(atand(imag(B)/real(B))*100)/100)\n",
"mprintf('\nC = %.6f ang (%.1f) deg ohm',abs(C), round(atand(imag(C)/real(C))*100)/100 +180)\n",
"\n",
"\n",
"B2=B-(0.6 * imag(Z) *%i);\n",
"YZ2=B2*Y;\n",
"A2=1+(YZ2/2)\n",
"D2=A2\n",
"C2= Y* (1+(YZ2/4))\n",
"\n",
"\n",
"mprintf('\n(b)');\n",
"\n",
"mprintf('\nA =D= %.3f ang (%.2f) deg',fix(abs(A2)*1000)/1000, round(atand(imag(A2)/real(A2))*100)/100)\n",
"mprintf('\nB = %.2f ang (%.2f) deg ohm',abs(B2), round(atand(imag(B2)/real(B2))*100)/100)\n",
"mprintf('\nC = %.6f ang (%.1f) deg ohm',abs(C2), round(atand(imag(C2)/real(C2))*100)/100 +180)"
   ]
   }
],
"metadata": {
		  "kernelspec": {
		   "display_name": "Scilab",
		   "language": "scilab",
		   "name": "scilab"
		  },
		  "language_info": {
		   "file_extension": ".sce",
		   "help_links": [
			{
			 "text": "MetaKernel Magics",
			 "url": "https://github.com/calysto/metakernel/blob/master/metakernel/magics/README.md"
			}
		   ],
		   "mimetype": "text/x-octave",
		   "name": "scilab",
		   "version": "0.7.1"
		  }
		 },
		 "nbformat": 4,
		 "nbformat_minor": 0
}
