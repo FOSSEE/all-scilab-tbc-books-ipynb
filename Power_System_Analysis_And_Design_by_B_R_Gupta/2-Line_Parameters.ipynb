{
"cells": [
 {
		   "cell_type": "markdown",
	   "metadata": {},
	   "source": [
       "# Chapter 2: Line Parameters"
	   ]
	},
{
		   "cell_type": "markdown",
		   "metadata": {},
		   "source": [
			"## Example 2.10: capacitance_between_three_phase_conductors.sce"
		   ]
		  },
  {
"cell_type": "code",
	   "execution_count": null,
	   "metadata": {
	    "collapsed": true
	   },
	   "outputs": [],
"source": [
"clearglobal;\n",
"clc;\n",
"\n",
"V=220e3;\n",
"f=50;\n",
"l=200;\n",
"d1=6;\n",
"d2=12;\n",
"rad=1.81e-2;\n",
"\n",
"Deq=(d1*d1*d2)^(1/3);\n",
"Cn=.02412/log10(Deq/rad);\n",
"mprintf('Capacitance per phase per km = %.1f *1e-3 e-6F/phase/km \n',Cn *1000);\n",
"C=l*Cn;\n",
"C=round(C*100)/100\n",
"mprintf('Capacitance per phase = %.2f e-6F/phase\n',C);\n",
"Xc=1/(2 * %pi * f * C *1e-6);\n",
"mprintf('Capacitive reactance per phase = %.0f ohms/phase\n',Xc);\n",
"I=2 * %pi * f * C *1e-6 * V / sqrt(3);\n",
"I=round(I*100)/100\n",
"mprintf('Charging current = %.2f A/phase\n',I);\n",
"MVA=sqrt(3)*V *I *1e-6;\n",
"mprintf('Charging MVA = %.2f MVA\n',fix(MVA*100)/100);"
   ]
   }
,
{
		   "cell_type": "markdown",
		   "metadata": {},
		   "source": [
			"## Example 2.11: capacitance_of_bundled_conductors.sce"
		   ]
		  },
  {
"cell_type": "code",
	   "execution_count": null,
	   "metadata": {
	    "collapsed": true
	   },
	   "outputs": [],
"source": [
"clear;\n",
"clc;\n",
"\n",
"r= 1.6e-2;\n",
"d= 45e-2;\n",
"D=12;\n",
"Dscb=sqrt(r*d);\n",
"Deq=(D*D*(2*D))^(1/3);\n",
"Cn= .02412/(log10 (Deq/Dscb));\n",
"mprintf('Capacitance per phase per km= %.4f e-6 F/km\n',Cn);"
   ]
   }
,
{
		   "cell_type": "markdown",
		   "metadata": {},
		   "source": [
			"## Example 2.12: capacitance_of_double_circuit_three_phase_lines_in_hexagon.sce"
		   ]
		  },
  {
"cell_type": "code",
	   "execution_count": null,
	   "metadata": {
	    "collapsed": true
	   },
	   "outputs": [],
"source": [
"clear\n",
"clc;\n",
"\n",
"D=350;\n",
"r=1.09;\n",
"f=50;\n",
"V=132e3;\n",
"d=100;\n",
"\n",
"//(b)\n",
"Cn=.04824 / log10((sqrt(3)*D)/(2*r));\n",
"Cn=round(Cn*10000)/1e4\n",
"C=Cn/2;\n",
"mprintf('Capacitance per conductor per km = %.5f e-6 F/conductor/km\n',C);\n",
"\n",
"//(c)\n",
"w=2 * %pi * f;\n",
"Vn=V/sqrt(3);\n",
"Ic= w * Cn * Vn * 1e-6;\n",
"Ic=round(Ic *1e3)/1e3\n",
"I=Ic * d;\n",
"MVA= sqrt(3)*V * I / 1e6;\n",
"mprintf('Charging MVA = %.2f MVA\n',MVA);"
   ]
   }
,
{
		   "cell_type": "markdown",
		   "metadata": {},
		   "source": [
			"## Example 2.13: capacitance_of_double_circuit_three_phase_lines.sce"
		   ]
		  },
  {
"cell_type": "code",
	   "execution_count": null,
	   "metadata": {
	    "collapsed": true
	   },
	   "outputs": [],
"source": [
"clear\n",
"\n",
"clc;\n",
"\n",
"r=.9e-2;\n",
"d=6;\n",
"D1=6;\n",
"D2=7;\n",
"\n",
"Daa=sqrt ((d*d)+(D1*D1));\n",
"Daa=round(Daa*1e3)/1e3\n",
"Dbb=D2;\n",
"Dcc=Daa;\n",
"Deq=5.074;\n",
"\n",
"Dsc_a = round(sqrt(r*Daa)*1e4)/1e4;\n",
"Dsc_b = round(sqrt(r*Dbb)*1e4)/1e4;\n",
"Dsc_c = round(sqrt(r*Dcc)*1e4)/1e4;\n",
"\n",
"Dsc=(Dsc_a*Dsc_b*Dsc_c)^(1/3);\n",
"Cn=.02412/log10(Deq/Dsc);\n",
"\n",
"mprintf('Capacitance per conductor per km = %f e-6 F/conductor/km\n',Cn);"
   ]
   }
,
{
		   "cell_type": "markdown",
		   "metadata": {},
		   "source": [
			"## Example 2.14: capacitance_of_conductor_taking_neutral_into_account.sce"
		   ]
		  },
  {
"cell_type": "code",
	   "execution_count": null,
	   "metadata": {
	    "collapsed": true
	   },
	   "outputs": [],
"source": [
"clear;\n",
"clc;\n",
"\n",
"h=5.5;\n",
"Dia=1.213e-2;\n",
"d=1.25;\n",
"l=10;\n",
"\n",
"r=Dia/2;\n",
"Cn=(2*.01206)/(log10 (d/(Dia* 0.5 * sqrt(1 + (d*d*.25/h^2)))));\n",
"C=Cn * l;\n",
"\n",
"mprintf('Capacitance per conductor= %.5f e-6 F/conductor\n',C);"
   ]
   }
,
{
		   "cell_type": "markdown",
		   "metadata": {},
		   "source": [
			"## Example 2.15: resistance_at_20_and_50_deg_C.sce"
		   ]
		  },
  {
"cell_type": "code",
	   "execution_count": null,
	   "metadata": {
	    "collapsed": true
	   },
	   "outputs": [],
"source": [
"clear\n",
"clc;\n",
"\n",
"dia=4.22e-3;\n",
"n=6;\n",
"T1=20;\n",
"T2=50;\n",
"rho1 = 2.826e-8;\n",
"a=.004;\n",
"dL=1.5e-2;\n",
"L=1000;\n",
"\n",
"A=%pi * n *dia *dia / 4;\n",
"R1= rho1 * L * (1+dL) / A;\n",
"R2= R1 * (1+ (a * (T2-T1)));\n",
"\n",
"mprintf('Temperature at %d = %.4f ohm/km\n', T1, R1);\n",
"mprintf('Temperature at %d = %.4f ohm/km', T2, R2);"
   ]
   }
,
{
		   "cell_type": "markdown",
		   "metadata": {},
		   "source": [
			"## Example 2.16: finding_line_parameters_charging_current_and_charging_MVA.sce"
		   ]
		  },
  {
"cell_type": "code",
	   "execution_count": null,
	   "metadata": {
	    "collapsed": true
	   },
	   "outputs": [],
"source": [
"clear;\n",
"clc;\n",
"\n",
"A= 1.5e-4;\n",
"Deff=39.8e-3;\n",
"D= 8;\n",
"rho1=1.73e-6 / 100;\n",
"l=1e3;\n",
"f=50;\n",
"V=132e3;\n",
"\n",
"//(a)\n",
"R= rho1 * l / A;\n",
"r=.5 * Deff;\n",
"L= .4605 * log10 (D/(.7788 *r));\n",
"mprintf('L = %.2f mH/km\n',L);\n",
"\n",
"C= .02412/(log10 (D/r));\n",
"mprintf('C = %.5f e-6 F/km\n',C);\n",
"\n",
"//(b)\n",
"Ic = 2 * %pi * f * C *1e-6 * V / sqrt(3);\n",
"mprintf('Charging current = %.4f A/km/phase\n',Ic);\n",
"MVA=sqrt(3)*V *Ic *1e-6;\n",
"mprintf('Charging MVA = %.4f MVA/km\n',MVA);"
   ]
   }
,
{
		   "cell_type": "markdown",
		   "metadata": {},
		   "source": [
			"## Example 2.17: inductance_of_conductors_in_horizontal_plane.sce"
		   ]
		  },
  {
"cell_type": "code",
	   "execution_count": null,
	   "metadata": {
	    "collapsed": true
	   },
	   "outputs": [],
"source": [
"clear;\n",
"clc;\n",
"\n",
"r=.9e-2;\n",
"d=3.5;\n",
"\n",
"\n",
"//(b)\n",
"\n",
"L= .4605 * log10(1.375 * sqrt(d/r));\n",
"mprintf('(b) L= %.2f mH/km', L);"
   ]
   }
,
{
		   "cell_type": "markdown",
		   "metadata": {},
		   "source": [
			"## Example 2.18: inductance_of_conductors_in_horizontal_plane.sce"
		   ]
		  },
  {
"cell_type": "code",
	   "execution_count": null,
	   "metadata": {
	    "collapsed": true
	   },
	   "outputs": [],
"source": [
"clear;\n",
"clc;\n",
"clear;\n",
"\n",
"\n",
"dia=26.88;\n",
"d=450\n",
"d1=15.25*1e3;\n",
"\n",
"R=dia/2;\n",
"R1= .7788 * R;\n",
"R1=round(R1*100)/100\n",
"GMR= 1.09 * (R1 * d*d*d)^(.25);\n",
"GMR=round(GMR*10)/10\n",
"GMD=(d1* d1 * (2*d1))^(1/3);\n",
"GMD=round(GMD/10)*10\n",
"L=.4605 * log10 (GMD/GMR);\n",
"\n",
"mprintf(' L= %.4f mH/km', L);"
   ]
   }
,
{
		   "cell_type": "markdown",
		   "metadata": {},
		   "source": [
			"## Example 2.19: inductance_of_3_wire_3_phase_line_in_horizontal_configuration.sce"
		   ]
		  },
  {
"cell_type": "code",
	   "execution_count": null,
	   "metadata": {
	    "collapsed": true
	   },
	   "outputs": [],
"source": [
"clear\n",
"clc\n",
"\n",
"dia=2.5e-2\n",
"d=3\n",
"\n",
"r=dia/2\n",
"r1=.7788*r\n",
"\n",
"c=exp(%i *2*%pi/3)\n",
"b=exp(%i *-2*%pi/3)\n",
"k=2\n",
"\n",
"Dab=d\n",
"Dac=2*d\n",
"Dbc=d\n",
"Dca=2*d\n",
"\n",
"La=round(k*(log(1/r1) + log(1/Dab)*b + log(1/Dac)*c)*1e3)/1e4\n",
"Lb=round(k*(log(1/Dab) + log(1/r1)*b + log(1/Dbc)*c)/b*1e3)/(1e4)\n",
"Lc=round(k*(log(1/Dac) + log(1/Dbc)*b + log(1/r1)*c)/c*1e3)/(1e4)\n",
"\n",
"disp(La, 'La= (mH/km)')\n",
"disp(Lb, 'Lb= (mH/km)')\n",
"disp(Lc, 'Lc= (mH/km)')"
   ]
   }
,
{
		   "cell_type": "markdown",
		   "metadata": {},
		   "source": [
			"## Example 2.1: find_loop_resistance_and_inductance_per_km_of_line.sce"
		   ]
		  },
  {
"cell_type": "code",
	   "execution_count": null,
	   "metadata": {
	    "collapsed": true
	   },
	   "outputs": [],
"source": [
"clear\n",
"clc;\n",
"dia=1.213;\n",
"dist=1.25*100;\n",
"f=50;\n",
"rad=dia/2;\n",
"effrad=.7788*rad;\n",
"L=4d-7 * log (dist/effrad)*1d3;\n",
"X=2*%pi*f*L;\n",
"mprintf('L=%.2f *1e-4 H/km, X=%.1f ohm/km',L*1e4, X);"
   ]
   }
,
{
		   "cell_type": "markdown",
		   "metadata": {},
		   "source": [
			"## Example 2.20: capacitance_of_conductors_in_horizontal_plane.sce"
		   ]
		  },
  {
"cell_type": "code",
	   "execution_count": null,
	   "metadata": {
	    "collapsed": true
	   },
	   "outputs": [],
"source": [
"clear;\n",
"clc;\n",
"\n",
"dia=26.88e-3;\n",
"d=45e-2;\n",
"d1=15.25;\n",
"\n",
"r=dia/2;\n",
"\n",
"GMR= 1.09 * (r * d*d*d)^(.25);\n",
"GMD=(d1* d1 * (2*d1))^(1/3);\n",
"\n",
"C= 0.02412 / log10 (GMD/GMR);\n",
"mprintf('C= %.4f e-6 F/km', C);"
   ]
   }
,
{
		   "cell_type": "markdown",
		   "metadata": {},
		   "source": [
			"## Example 2.21: inductance_per_km_per_phase_of_bundled_conductor.sce"
		   ]
		  },
  {
"cell_type": "code",
	   "execution_count": null,
	   "metadata": {
	    "collapsed": true
	   },
	   "outputs": [],
"source": [
"clear;\n",
"clc;\n",
"f=50;\n",
"dia=25e-3;\n",
"sp=.3;\n",
"D=6;\n",
"\n",
"rad=dia/2;\n",
"r=.7788*rad;\n",
"GMR= ((r*r*sp*sp)^.25);\n",
"Dab= (D* (D+sp)* D *(D-sp))^.25;\n",
"Dbc=Dab;\n",
"Dac= ((2*D)* ((2*D) +sp)* (2*D) *((2*D)-sp))^.25;\n",
"Deq=(Dab * Dbc *Dac)^(1/3);\n",
"L=.4605 * log10 (Deq/GMR);\n",
"mprintf('\nL= %.3f mH/phase/km', L);\n",
"XL=2 * %pi * f * L *1e-3;\n",
"mprintf('\nXL= %.2f ohm/phase/km', XL);"
   ]
   }
,
{
		   "cell_type": "markdown",
		   "metadata": {},
		   "source": [
			"## Example 2.3: inductance_per_km_of_a_3_phase_line_in_equilateral_triangle.sce"
		   ]
		  },
  {
"cell_type": "code",
	   "execution_count": null,
	   "metadata": {
	    "collapsed": true
	   },
	   "outputs": [],
"source": [
"clear\n",
"clc;\n",
"Dia=1.63;\n",
"Dist=3*100;\n",
"Reff=.7788*.5*Dia;\n",
"Reff=round(Reff*1e3)*1e-3\n",
"L = .4605 * log10(Dist/Reff);\n",
"\n",
"mprintf('L= %.4f mH/km',L)"
   ]
   }
,
{
		   "cell_type": "markdown",
		   "metadata": {},
		   "source": [
			"## Example 2.4: inductance_per_km_of_a_3_phase_line_in_parallel_formation.sce"
		   ]
		  },
  {
"cell_type": "code",
	   "execution_count": null,
	   "metadata": {
	    "collapsed": true
	   },
	   "outputs": [],
"source": [
"clear\n",
"clc;\n",
"rad=1.81;\n",
"Dist1=6*100;\n",
"Dist2=Dist1;\n",
"Dist3=12*100;\n",
"Reff=.7788*rad;\n",
"Dist=(Dist1*Dist2*Dist3)^(1/3);\n",
"L = .4605 * log10(Dist/Reff);\n",
"mprintf('L=%.4f mH/km',L);"
   ]
   }
,
{
		   "cell_type": "markdown",
		   "metadata": {},
		   "source": [
			"## Example 2.5: find_GMR_of_4_bundled_conductors.sce"
		   ]
		  },
  {
"cell_type": "code",
	   "execution_count": null,
	   "metadata": {
	    "collapsed": true
	   },
	   "outputs": [],
"source": [
"clear\n",
"clc;\n",
"d=25;\n",
"rad=1.573;\n",
"Ds=.7788*rad;\n",
"Dsb=((Ds*d*d*sqrt(2)*d)^4)^(1/16);\n",
"mprintf('GMR= %.3f cm',fix(Dsb*1000)/1000);"
   ]
   }
,
{
		   "cell_type": "markdown",
		   "metadata": {},
		   "source": [
			"## Example 2.6: find_inductance_of_bundled_conductors.sce"
		   ]
		  },
  {
"cell_type": "code",
	   "execution_count": null,
	   "metadata": {
	    "collapsed": true
	   },
	   "outputs": [],
"source": [
"clear\n",
"clc;\n",
"d=45;\n",
"D=12e2;\n",
"rad=1.6;\n",
"\n",
"//(a)\n",
"reff=.7788*rad;\n",
"GMR=(reff*d*reff*d)^(1/4);\n",
"Dab=(D*(D+d)*D*(D-d))^(1/4);\n",
"Dbc=Dab;\n",
"Dca=((D*2)*((2*D)+d)*(D*2)*((2*D)-d))^(1/4);\n",
"Deq=(Dab*Dbc*Dca)^(1/3);\n",
"L=.4605 *log10 (Deq/GMR);\n",
"mprintf('\n(a)\tL=%.2f mH/km',L);\n",
"\n",
"//(b)\n",
"R=sqrt(2)*rad;\n",
"reff=R*.7788;\n",
"Deq=(D*D*(2*D))^(1/3);\n",
"L=.4605 *log10 (Deq/reff);\n",
"\n",
"mprintf('\n(b)\tL=%.3f mH/km',L);"
   ]
   }
,
{
		   "cell_type": "markdown",
		   "metadata": {},
		   "source": [
			"## Example 2.7: find_inductance_of_conductors_in_vertical_configuration.sce"
		   ]
		  },
  {
"cell_type": "code",
	   "execution_count": null,
	   "metadata": {
	    "collapsed": true
	   },
	   "outputs": [],
"source": [
"clear\n",
"clc;\n",
"D=3e2;\n",
"h=5e2;\n",
"rad=1.1;\n",
"\n",
"m=(h^2  +  D^2)^(1/2);\n",
"n=(h^2  +  (D*2)^2)^(1/2);\n",
"reff=.7788* rad;\n",
"L=2e-7 * log ((2)^(1/6)* (D/reff)^(1/2) * (m/n)^(1/3)) *1e3;\n",
"mprintf('L=%.2f * 1e-4 H/phase/km',L*1e4);"
   ]
   }
,
{
		   "cell_type": "markdown",
		   "metadata": {},
		   "source": [
			"## Example 2.8: find_inductance_of_conductors_in_given_configuration.sce"
		   ]
		  },
  {
"cell_type": "code",
	   "execution_count": null,
	   "metadata": {
	    "collapsed": true
	   },
	   "outputs": [],
"source": [
"clear;\n",
"clc;\n",
"D=3e2;\n",
"d1=6e2;\n",
"d2=7e2;\n",
"rad=.9;\n",
"\n",
"reff=.7788* rad;\n",
"Daa=(d1^2  +  d1^2)^(1/2);\n",
"Dcc=Daa;\n",
"Dbb=d2;\n",
"GMRa=sqrt(reff*Daa);\n",
"GMRb=sqrt(reff*Dbb);\n",
"GMRc=sqrt(reff*Dcc);\n",
"Ds=(GMRa*GMRb*GMRc)^(1/3);\n",
"Ds=round(Ds*10)/10\n",
"\n",
"Dab=(D^2  +  ((d2-d1)/2)^2)^(1/2);\n",
"Dcb=Dab;\n",
"Dc1b1=Dab;\n",
"Da1b1=Dab;\n",
"\n",
"Dab1=(D^2  +  (((d2-d1)/2)+d1)^2)^(1/2);\n",
"Da1b=Dab1;\n",
"Dc1b=Dab1;\n",
"Dcb1=Dab1;\n",
"\n",
"Dac=2*D;\n",
"Da1c1=Dac;\n",
"Da1c=(d1);\n",
"Dac1=Da1c;\n",
"\n",
"GMRab=(Dab*Da1b1*Da1b*Dab1)^(1/4);\n",
"GMRbc=(Dcb*Dc1b1*Dc1b*Dcb1)^(1/4);\n",
"GMRac=(Dac*Da1c1*Da1c*Dac1)^(1/4);\n",
"\n",
"Deq=(GMRab*GMRbc*GMRac)^(1/3);\n",
"Deq=round(Deq*10)/10\n",
"\n",
"L=2e-7 * log (Deq/Ds) * 1e3;\n",
"mprintf('L=%.3f *1e-4 H/phase/km',L*1e4);"
   ]
   }
,
{
		   "cell_type": "markdown",
		   "metadata": {},
		   "source": [
			"## Example 2.9: capacitance_between_single_phase_conductors.sce"
		   ]
		  },
  {
"cell_type": "code",
	   "execution_count": null,
	   "metadata": {
	    "collapsed": true
	   },
	   "outputs": [],
"source": [
"clear;\n",
"clc;\n",
"\n",
"l=10;\n",
"D=1.25;\n",
"dia=1.213e-2;\n",
"\n",
"Cab=.01206/log10(D/(dia/2))\n",
"C=l*Cab;\n",
"Cn=2*C;\n",
"\n",
"mprintf('Capacitance between 2 conductors= %.4f e-6F/km\n', C);\n",
"mprintf('Capacitance between conductor and neutral= %.4f e-6F/km\n', Cn);"
   ]
   }
],
"metadata": {
		  "kernelspec": {
		   "display_name": "Scilab",
		   "language": "scilab",
		   "name": "scilab"
		  },
		  "language_info": {
		   "file_extension": ".sce",
		   "help_links": [
			{
			 "text": "MetaKernel Magics",
			 "url": "https://github.com/calysto/metakernel/blob/master/metakernel/magics/README.md"
			}
		   ],
		   "mimetype": "text/x-octave",
		   "name": "scilab",
		   "version": "0.7.1"
		  }
		 },
		 "nbformat": 4,
		 "nbformat_minor": 0
}
