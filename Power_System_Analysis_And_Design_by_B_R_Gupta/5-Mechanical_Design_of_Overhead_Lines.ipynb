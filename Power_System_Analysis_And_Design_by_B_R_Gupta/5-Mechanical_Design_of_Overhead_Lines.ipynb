{
"cells": [
 {
		   "cell_type": "markdown",
	   "metadata": {},
	   "source": [
       "# Chapter 5: Mechanical Design of Overhead Lines"
	   ]
	},
{
		   "cell_type": "markdown",
		   "metadata": {},
		   "source": [
			"## Example 5.10: find_maximum_sag_under_given_condition.sce"
		   ]
		  },
  {
"cell_type": "code",
	   "execution_count": null,
	   "metadata": {
	    "collapsed": true
	   },
	   "outputs": [],
"source": [
"clear;\n",
"clc;\n",
"\n",
"ar=.484;\n",
"d=.889e-2;\n",
"m=428e-3;\n",
"g=9.81;\n",
"T=1973 *g;\n",
"sfac=2;\n",
"w=m*g;\n",
"l=200;\n",
"T=T/sfac;\n",
"\n",
"//(a)\n",
"S=w* l*l/(8*T);\n",
"mprintf('\n (a)maximum sag due to copper weight = %.3f m',S);\n",
"\n",
"//(b)\n",
"t=1e-2;\n",
"D=d+(2*t);\n",
"wi=8920 * (D^2 - d^2) * %pi /4;\n",
"\n",
"F=w+wi;\n",
"S=F* l*l/(8*T);\n",
"mprintf('\n (b)maximum sag due to addition weight of ice = %.1f m',S);\n",
"\n",
""
   ]
   }
,
{
		   "cell_type": "markdown",
		   "metadata": {},
		   "source": [
			"## Example 5.1: finding_sag_in_different_weather_conditions.sce"
		   ]
		  },
  {
"cell_type": "code",
	   "execution_count": null,
	   "metadata": {
	    "collapsed": true
	   },
	   "outputs": [],
"source": [
"clear;\n",
"clc;\n",
"\n",
"m=.847;\n",
"g=9.81;\n",
"dia=1.95e-2;\n",
"l=244;\n",
"T=3.56e4;\n",
"Th_ice=.96e-2;\n",
"F_wind= 382;\n",
"W_ice=8920;\n",
"h=7.62;\n",
"L=1.43;\n",
"\n",
"//(a)\n",
"w=m*g;\n",
"S= (w*l*l)/(8*T);\n",
"mprintf('\n (a)Sag= %.2f m', S);\n",
"\n",
"//(b)\n",
"D=dia+Th_ice+Th_ice;\n",
"Fw=F_wind * D;\n",
"Wice = W_ice * (%pi/4) * ((D*D)-(dia*dia));\n",
"F=((w+Wice)^2 + Fw^2)^.5;\n",
"s=(F*l*l)/(8*T);\n",
"a=atan(Fw/(w+Wice));\n",
"S2=s * cos (a);\n",
"mprintf('\n (b)Vertical Sag= %.2f m', S2);\n",
"\n",
"//(c)\n",
"H=h+L+S2;\n",
"mprintf('\n (c)Height of lowest cross arm= %.2f m', H);\n",
""
   ]
   }
,
{
		   "cell_type": "markdown",
		   "metadata": {},
		   "source": [
			"## Example 5.2: clearance_of_line.sce"
		   ]
		  },
  {
"cell_type": "code",
	   "execution_count": null,
	   "metadata": {
	    "collapsed": true
	   },
	   "outputs": [],
"source": [
"clear;\n",
"clc;\n",
"\n",
"l=336;\n",
"h1=33.6;\n",
"h2=29;\n",
"w=8.33;\n",
"T=3.34e4;\n",
"\n",
"//(a)\n",
"lc=l+ (2*T * (h1-h2)/(w*l));\n",
"S=w*lc*lc/(8*T);\n",
"cl= h1-S;\n",
"mprintf('\n (a)Clearance= %.3f m', cl);\n",
"\n",
"//(b)\n",
"d1=lc/2;\n",
"d2=l-d1;\n",
"mprintf('\n (b)Distance of point O from lower support = %.2f m', d2);"
   ]
   }
,
{
		   "cell_type": "markdown",
		   "metadata": {},
		   "source": [
			"## Example 5.3: height_of_mid_point_from_ground.sce"
		   ]
		  },
  {
"cell_type": "code",
	   "execution_count": null,
	   "metadata": {
	    "collapsed": true
	   },
	   "outputs": [],
"source": [
"clear;\n",
"clc;\n",
"l=300;\n",
"h1=80;\n",
"h2=50;\n",
"w=8.28;\n",
"T=19620;\n",
"\n",
"//(a)\n",
"lc=l+ (2*T * (h1-h2)/(w*l));\n",
"dOC=(lc/2)-l;\n",
"hOC=w*dOC*dOC/(2*T);\n",
"dOP=dOC + (l/2);\n",
"hOP=w*dOP*dOP/(2*T);\n",
"hPC=hOP-hOC;\n",
"hP=hPC+ h2;\n",
"mprintf('\nHeight of mid point P above C =%.3f m',hPC);\n",
"mprintf('\nHeight of mid point P above water level =%.3f m',hP);"
   ]
   }
,
{
		   "cell_type": "markdown",
		   "metadata": {},
		   "source": [
			"## Example 5.4: finding_sag.sce"
		   ]
		  },
  {
"cell_type": "code",
	   "execution_count": null,
	   "metadata": {
	    "collapsed": true
	   },
	   "outputs": [],
"source": [
"clear;\n",
"clc;\n",
"\n",
"m=2.292;\n",
"g=9.81;\n",
"l=152;\n",
"Pw=39.063;\n",
"dia=2.068e-2;\n",
"ar=3.065;\n",
"stress=1054.63;\n",
"\n",
"//(a)\n",
"w=m*g;\n",
"T=stress * ar *g;\n",
"Fw=Pw* g * dia;\n",
"Ft= sqrt(w^2 + Fw^2);\n",
"S=Ft * l *l /(8* T);\n",
"mprintf('\n Sag= %.2f m', S);\n",
"Sy= S * w/Ft;\n",
"mprintf('\n Vertical Component of Sag= %.3f m', fix(Sy*1000)/1000);"
   ]
   }
,
{
		   "cell_type": "markdown",
		   "metadata": {},
		   "source": [
			"## Example 5.5: finding_minimum_clearance_and_position_of_clearance_point.sce"
		   ]
		  },
  {
"cell_type": "code",
	   "execution_count": null,
	   "metadata": {
	    "collapsed": true
	   },
	   "outputs": [],
"source": [
"clear;\n",
"clc;\n",
"\n",
"h1=55;\n",
"h2=50;\n",
"l=300;\n",
"g=9.81;\n",
"T=2000*g;\n",
"m=.85;\n",
"w=m*g;\n",
"\n",
"//(a)\n",
"lc=l+ (2*T * (h1-h2)/(w*l));\n",
"S= w * lc *lc /(8*T);\n",
"cl=h1-S;\n",
"mprintf('\n (a)Minimum Clearance between conductor and water= %.2f m', cl);\n",
"\n",
"//(b)\n",
"dOB=lc/2;\n",
"dOA=l-dOB;\n",
"mprintf('\n (b)Distance of point O from lower support= %.1f m', dOA);"
   ]
   }
,
{
		   "cell_type": "markdown",
		   "metadata": {},
		   "source": [
			"## Example 5.6: find_sag_and_tension_under_erection_conditions.sce"
		   ]
		  },
  {
"cell_type": "code",
	   "execution_count": null,
	   "metadata": {
	    "collapsed": true
	   },
	   "outputs": [],
"source": [
"clear\n",
"clc\n",
"\n",
"safety=2\n",
"d=1.95e-2\n",
"A=2.25e-4\n",
"E=91.4 *1e9\n",
"alpha=18.44 *1e-6\n",
"Temp21=10\n",
"Temp22=40 \n",
"Tmax=77900\n",
"w=8.31\n",
"span=250\n",
"\n",
"\n",
"Fw=378 * d\n",
"Fw=round(Fw*100)/100\n",
"Ft1=sqrt(w^2 + Fw^2)\n",
"T1=Tmax/safety\n",
"Ft2=w\n",
"\n",
"\n",
"c_1=1\n",
"c_2=T1 -(alpha * A * E * (Temp22-Temp21)) - A*E*Ft1^2 * span^2 /(24*T1^2)\n",
"c_3=0\n",
"c_4=A*E*Ft2^2 * span^2 /24\n",
"pol=poly([-c_4 -c_3 -c_2 c_1], 'xx', 'c')\n",
"T2s=roots(pol)\n",
"\n",
"T2=T2s(1)\n",
"T2=round(T2)\n",
"Sag1= w * span *span / (8 * T2)\n",
"\n",
"//difference in results is seen as the author has used hit and trial aproach to solve T2, while the program uses iterative method to solve equations. The equations have the same coefficients\n",
"mprintf('sag at erection= %.2f m', Sag1)\n",
"\n",
"disp('difference in results is seen as the author has used hit and trial aproach to solve T2, while the program usesiterative method to solve equations. The equations have the same coefficients')"
   ]
   }
,
{
		   "cell_type": "markdown",
		   "metadata": {},
		   "source": [
			"## Example 5.7: representing_line_as_parabola_and_catenary.sce"
		   ]
		  },
  {
"cell_type": "code",
	   "execution_count": null,
	   "metadata": {
	    "collapsed": true
	   },
	   "outputs": [],
"source": [
"clear;\n",
"clc;\n",
"\n",
"l=600;\n",
"wc=12;\n",
"wi=14;\n",
"T=50000;\n",
"\n",
"//(a)\n",
"F=wc+wi;\n",
"S= F * l * l/ (8*T);\n",
"mprintf('\n (a)Sag when representing line as a parabola= %.1f m', S);\n",
"\n",
"//(b)\n",
"S=(F * l * l/ (8*T)) * (1+ ((l*l/48)*(F *F/(T*T))));\n",
"mprintf('\n (b)Sag when representing line as a catenary= %.3f m', S);"
   ]
   }
,
{
		   "cell_type": "markdown",
		   "metadata": {},
		   "source": [
			"## Example 5.8: galloping_and_dancing_conductors_find_clearance_under_ice_and_air_conditions.sce"
		   ]
		  },
  {
"cell_type": "code",
	   "execution_count": null,
	   "metadata": {
	    "collapsed": true
	   },
	   "outputs": [],
"source": [
"clear;\n",
"clc;\n",
"\n",
"h1=75;\n",
"h2=45;\n",
"l=300;\n",
"g=9.81;\n",
"T=2500*g;\n",
"m=.9;\n",
"w=m*g;\n",
"\n",
"//(a)\n",
"lc=l+ (2*T * (h1-h2)/(w*l));\n",
"dOC=(lc/2)-l;\n",
"hCO=w * dOC *dOC / (2*T);\n",
"dOP=dOC+(l/2);\n",
"hPO=w * dOP *dOP / (2*T);\n",
"\n",
"hPC=hPO-hCO;\n",
"mprintf('\nHeight of mid point P above C =%.2f m',hPC);\n",
"hP=hPC+h2;\n",
"mprintf('\nHeight of mid point P above water level =%.2f m',hP);"
   ]
   }
,
{
		   "cell_type": "markdown",
		   "metadata": {},
		   "source": [
			"## Example 5.9: galloping_and_dancing_conductors_find_clearance_under_no_ice_and_air_conditions.sce"
		   ]
		  },
  {
"cell_type": "code",
	   "execution_count": null,
	   "metadata": {
	    "collapsed": true
	   },
	   "outputs": [],
"source": [
"clear;\n",
"clc;\n",
"\n",
"l=244;\n",
"m=.847;\n",
"g=9.81;\n",
"w=m*g;\n",
"T=3.56e4;\n",
"\n",
"L=l*(1+ ((w*w * l*l)/(24* T *T)));\n",
"mprintf('length of conductor between 2 towers = %.3f m', L);"
   ]
   }
],
"metadata": {
		  "kernelspec": {
		   "display_name": "Scilab",
		   "language": "scilab",
		   "name": "scilab"
		  },
		  "language_info": {
		   "file_extension": ".sce",
		   "help_links": [
			{
			 "text": "MetaKernel Magics",
			 "url": "https://github.com/calysto/metakernel/blob/master/metakernel/magics/README.md"
			}
		   ],
		   "mimetype": "text/x-octave",
		   "name": "scilab",
		   "version": "0.7.1"
		  }
		 },
		 "nbformat": 4,
		 "nbformat_minor": 0
}
