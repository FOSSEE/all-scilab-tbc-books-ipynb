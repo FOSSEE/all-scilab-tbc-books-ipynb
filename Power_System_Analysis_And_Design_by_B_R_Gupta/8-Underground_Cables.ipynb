{
"cells": [
 {
		   "cell_type": "markdown",
	   "metadata": {},
	   "source": [
       "# Chapter 8: Underground Cables"
	   ]
	},
{
		   "cell_type": "markdown",
		   "metadata": {},
		   "source": [
			"## Example 8.1: inductance_of_a_3_core_belted_cable.sce"
		   ]
		  },
  {
"cell_type": "code",
	   "execution_count": null,
	   "metadata": {
	    "collapsed": true
	   },
	   "outputs": [],
"source": [
"clear;\n",
"clc;\n",
"\n",
"n=37;\n",
"r=.238\n",
"t=.5;\n",
"\n",
"r1=r*3.5;\n",
"GMR=.7788*r1;\n",
"D= 2*(r1+t);\n",
"L=.4605 * log10(D/GMR);\n",
"mprintf('\n L= %.4f mH/km/conductor', fix(L*1e4)*1e-4);"
   ]
   }
,
{
		   "cell_type": "markdown",
		   "metadata": {},
		   "source": [
			"## Example 8.2: find_most_economical_diameter_of_cable_so_that_it_not_exceed_max_stress.sce"
		   ]
		  },
  {
"cell_type": "code",
	   "execution_count": null,
	   "metadata": {
	    "collapsed": true
	   },
	   "outputs": [],
"source": [
"clear;\n",
"clc;\n",
"\n",
"V=33;\n",
"V=V/sqrt(3);\n",
"T=35;\n",
"\n",
"x=1;\n",
"r=V/(T * x);\n",
"R= %e * r;\n",
"t=R-r;\n",
"\n",
"mprintf('\nMost economical conductor radius = %.3f cm', fix(R*1000)/1000);\n",
"mprintf('\nInsulation Thickness = %.3f cm', t);"
   ]
   }
,
{
		   "cell_type": "markdown",
		   "metadata": {},
		   "source": [
			"## Example 8.3: find_most_economical_diameter_of_cable_so_that_it_not_exceed_max_stress.sce"
		   ]
		  },
  {
"cell_type": "code",
	   "execution_count": null,
	   "metadata": {
	    "collapsed": true
	   },
	   "outputs": [],
"source": [
"clear;\n",
"clc;\n",
"\n",
"V=132;\n",
"V=V/sqrt(3);\n",
"T=60;\n",
"\n",
"V=V*sqrt(2);\n",
"x=1;\n",
"r=V/(T * x);\n",
"R= %e * r;\n",
"t=R-r;\n",
"\n",
"mprintf('\nMost economical conductor diameter = %.2f cm', fix(2*R*100)/100);\n",
"mprintf('\nOverall diameter of insulation = %.3f cm', fix(2*r*1000)/1000);"
   ]
   }
,
{
		   "cell_type": "markdown",
		   "metadata": {},
		   "source": [
			"## Example 8.4: find_postitions_of_intersheaths_max_min_stress_and_voltage_on_intersheaths.sce"
		   ]
		  },
  {
"cell_type": "code",
	   "execution_count": null,
	   "metadata": {
	    "collapsed": true
	   },
	   "outputs": [],
"source": [
"clear;\n",
"clc;\n",
"\n",
"V=66;\n",
"V=V/sqrt(3);\n",
"T=60;\n",
"d=2;\n",
"r=d/2;\n",
"D=5.3;\n",
"R=D/2;\n",
"\n",
"V=fix(V*sqrt(2) *10)/10;\n",
"\n",
"a=(R/r)^(1/3);\n",
"a=round(a*1e3)/1e3;\n",
"r1=a*r;\n",
"r2=round(a*r1*1000)/1000;\n",
"V1= V *((1/r)-(1/r2)) *r ;\n",
"V2= (V-( V1* ((1/r)-(1/r1))) )*r1;\n",
"//An error exists in the text book while calculating V1 and V2 and hence Emax and Emin\n",
"\n",
"Emax= (V-V1)/(r * log (a));\n",
"Emin= (V-V1)/(r1 * log (a));\n",
"mprintf('\n When intersheaths are used:\n Emax= %.2f kV/cm \t Emin= %2f kV/cm',Emax,Emin);\n",
"mprintf('\n Peak voltages at intersheaths:\n V1= %.2f kV \t V2= %.2f kV\n',V1,V2);\n",
"disp('An error exists in the text book while calculating V1 and V2 and hence Emax and Emin')\n",
"\n",
"Emax= (V)/(r * 3*log (a));\n",
"Emin= (V)/(R * 3*log (a));\n",
"mprintf('\n When intersheaths are not used:\n Emax= %.1f kV/cm \t Emin= %.2f kV/cm',Emax,Emin);\n",
""
   ]
   }
,
{
		   "cell_type": "markdown",
		   "metadata": {},
		   "source": [
			"## Example 8.5: EX8_5.sce"
		   ]
		  },
  {
"cell_type": "code",
	   "execution_count": null,
	   "metadata": {
	    "collapsed": true
	   },
	   "outputs": [],
"source": [
"clear;\n",
"clc;\n",
"\n",
"//solving for prt (c) only\n",
"\n",
"R=3;\n",
"r=1;\n",
"V=60;\n",
"\n",
"\n",
"a=sqrt(R/r);\n",
"r1=a*r;\n",
"\n",
"mprintf('\n (c) r1= %.3f cm', r1);\n",
"\n",
"V1=V*((a)/(1+a));\n",
"mprintf('\n     V1 voltage at intersheath= %.2f cm', V1);\n",
"\n",
"b=2/(1+a);\n",
"mprintf('\n     ratio of max electric stress with and without intersheath= %.3f cm', b);\n",
"\n",
"\n",
"\n",
""
   ]
   }
,
{
		   "cell_type": "markdown",
		   "metadata": {},
		   "source": [
			"## Example 8.6: find_maximum_voltage_in_a_cable_having_2_insulation_materials.sce"
		   ]
		  },
  {
"cell_type": "code",
	   "execution_count": null,
	   "metadata": {
	    "collapsed": true
	   },
	   "outputs": [],
"source": [
"clear;\n",
"clc;\n",
"\n",
"r=0.5;\n",
"R=2.5;\n",
"Vga=60;\n",
"ea=4;\n",
"eb=2.5;\n",
"Vgb=50;\n",
"\n",
"v=Vga*ea*r;\n",
"\n",
"r1=v/(eb*Vgb);\n",
"\n",
"V=v *((log(r1/r)/ea)+(log(R/r1)/eb));\n",
"\n",
"mprintf('Maximum working voltage = %.2f kV', V);"
   ]
   }
,
{
		   "cell_type": "markdown",
		   "metadata": {},
		   "source": [
			"## Example 8.7: parameters_of_underground_feeder.sce"
		   ]
		  },
  {
"cell_type": "code",
	   "execution_count": null,
	   "metadata": {
	    "collapsed": true
	   },
	   "outputs": [],
"source": [
"clear;\n",
"clc;\n",
"\n",
"V=33e3;\n",
"V=V/sqrt(3);\n",
"f=50;\n",
"l=3.4e3;\n",
"d=2.5\n",
"r=d/2;\n",
"t=.6;\n",
"R=r+t;\n",
"e=3.1;\n",
"\n",
"//disp(R);\n",
"\n",
"c=2* %pi * 8.85 * e/ log(R/r);\n",
"C=c*l;\n",
"C=C*1e-6;\n",
"mprintf('\n(a)C= %.3f e-6 F/phase', C);\n",
"\n",
"I=V * 2 * %pi * f * C*1e-6 ;\n",
"mprintf('\n(b)Charging Current I= %.2f A/phase', I);\n",
"\n",
"KVAR=3*V*I *1e-3;\n",
"mprintf('\n(c)Charging KVAR= %.1f ', KVAR);\n",
"\n",
"pf=.03;\n",
"phi=acos(pf);\n",
"lossang=(%pi/2)-phi;\n",
"Loss=2*%pi*f*C*1e-6*V*V*sin(lossang);\n",
"mprintf('\n(d)Dielectric Loss per phase= %.1f W', Loss);\n",
"\n",
"Emax=V*1e-3/(r*log(R/r));\n",
"mprintf('\n(e)Emax= %.2f KV/cm (rms)',Emax)"
   ]
   }
,
{
		   "cell_type": "markdown",
		   "metadata": {},
		   "source": [
			"## Example 8.8: effective_capacitance_in_cables.sce"
		   ]
		  },
  {
"cell_type": "code",
	   "execution_count": null,
	   "metadata": {
	    "collapsed": true
	   },
	   "outputs": [],
"source": [
"clear;\n",
"clc;\n",
"\n",
"V=11e3;\n",
"V=V/sqrt(3);\n",
"f=50;\n",
"C1=.65;\n",
"C2=.75;\n",
"\n",
"Cs=C2/3;\n",
"Cc=(C1/2)-(C2/6);\n",
"C=Cs+(3*Cc);\n",
"mprintf('\n(a)effective capacitance of each of the core to neutral = %.2f e-6 F',C);\n",
"\n",
"I=V * 2 * %pi * f * C*1e-6 ;\n",
"mprintf('\n(b)Charging Current I= %.3f A/phase', I);\n",
"\n",
"Cap=(1.5*Cc) + (.5 * Cs);\n",
"mprintf('\n(c)Capacitance between any 2 conductors = %.3f e-6 F',Cap);"
   ]
   }
,
{
		   "cell_type": "markdown",
		   "metadata": {},
		   "source": [
			"## Example 8.9: find_current_rating_of_cable.sce"
		   ]
		  },
  {
"cell_type": "code",
	   "execution_count": null,
	   "metadata": {
	    "collapsed": true
	   },
	   "outputs": [],
"source": [
"clear;\n",
"clc;\n",
"\n",
"T2=65;\n",
"T1=20;\n",
"n=3;\n",
"restivity=.02826;\n",
"A=400;\n",
"\n",
"\n",
"R=restivity/A;\n",
"\n",
"Eff_SnL=2/100;\n",
"Rdc20= (1+Eff_SnL)*(1+Eff_SnL)*R;\n",
"\n",
"a=0.004\n",
"Rdc65=Rdc20 * (1+(a*(T2-T1)));\n",
"\n",
"Eff_Skin_Prox=3.5/100;\n",
"Rac= (1+Eff_Skin_Prox)*(1+Eff_Skin_Prox)*Rdc65;\n",
"\n",
"ti_core=2.7;\n",
"ti_belt=1.2;\n",
"tins=ti_belt+ti_core;\n",
"\n",
"r=13;\n",
"ratio_tins_dia=tins/(2*r);\n",
"\n",
"Gi3=.65;\n",
"\n",
"Gi=Gi3/3;\n",
"\n",
"R1=35.2e-3;\n",
"R2=40e-3;\n",
"h=.75\n",
"g1=5;\n",
"g2=1.5;\n",
"Gp=g1*log(R2/R1)/(2*%pi);\n",
"Gs=g2*log((2*h)/R2)/(2*%pi);\n",
"\n",
"sheathlosses=.1;\n",
"\n",
"I=((T2-T1)/(n* Rac * (Gi + ((1+sheathlosses)*(Gp+Gs)))))^.5\n",
"mprintf('Current Rating =%d Amperes',I);\n",
"\n",
""
   ]
   }
],
"metadata": {
		  "kernelspec": {
		   "display_name": "Scilab",
		   "language": "scilab",
		   "name": "scilab"
		  },
		  "language_info": {
		   "file_extension": ".sce",
		   "help_links": [
			{
			 "text": "MetaKernel Magics",
			 "url": "https://github.com/calysto/metakernel/blob/master/metakernel/magics/README.md"
			}
		   ],
		   "mimetype": "text/x-octave",
		   "name": "scilab",
		   "version": "0.7.1"
		  }
		 },
		 "nbformat": 4,
		 "nbformat_minor": 0
}
