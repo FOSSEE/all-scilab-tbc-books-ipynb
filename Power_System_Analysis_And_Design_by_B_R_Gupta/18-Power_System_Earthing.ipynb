{
"cells": [
 {
		   "cell_type": "markdown",
	   "metadata": {},
	   "source": [
       "# Chapter 18: Power System Earthing"
	   ]
	},
{
		   "cell_type": "markdown",
		   "metadata": {},
		   "source": [
			"## Example 18.1: resistance_of_grounding_electrode.sce"
		   ]
		  },
  {
"cell_type": "code",
	   "execution_count": null,
	   "metadata": {
	    "collapsed": true
	   },
	   "outputs": [],
"source": [
"clear;\n",
"clc;\n",
"\n",
"d=2e-2;\n",
"l=3;\n",
"rho=60;\n",
"\n",
"//(a)\n",
"R=(rho/(2 * %pi * l)) * log (4* l / d);\n",
"mprintf('\n(a) Earthing resistance = %.2f ohm', R)\n",
"\n",
"//(b)\n",
"r= rho / (2 * %pi * R);\n",
"mprintf('\n(b) Radius of hemspherical electrode = %.3f m', r)"
   ]
   }
,
{
		   "cell_type": "markdown",
		   "metadata": {},
		   "source": [
			"## Example 18.2: resistance_of_different_arrangements_of_grounding_electrode.sce"
		   ]
		  },
  {
"cell_type": "code",
	   "execution_count": null,
	   "metadata": {
	    "collapsed": true
	   },
	   "outputs": [],
"source": [
"clear;\n",
"clc;\n",
"\n",
"d=2e-2;\n",
"l=3;\n",
"rho=60;\n",
"D=3;\n",
"\n",
"R=(rho/(2 * %pi * l)) * log (4* l / d);\n",
"r= rho / (2 * %pi * R);\n",
"\n",
"//(a)\n",
"a=r/D;\n",
"R2p=((1+a)/2)*R;\n",
"mprintf('\n(a) Resistance of 2 rods in parallel = %.3f ohm', R2p)\n",
"\n",
"//(b)\n",
"\n",
"R3p=((2+a-(4*a*a))/(6-(7*a)))*R;\n",
"mprintf('\n(b) Resistance of 3 rods in parallel = %.2f ohm', R3p)\n",
"\n",
"//(c)\n",
"R3t=((1+a+a)/3)*R;\n",
"mprintf('\n(c) Resistance of 3 rods in equilateral triangle = %.1f ohm', R3t)\n",
"\n",
"//(d)\n",
"R4s=((1+(2.707*a))/4)*R;\n",
"mprintf('\n(d) Resistance of 4 rods in square = %.2f ohm', R4s)\n",
""
   ]
   }
,
{
		   "cell_type": "markdown",
		   "metadata": {},
		   "source": [
			"## Example 18.3: earthing_resistance_of_wire_buried_to_different_depths.sce"
		   ]
		  },
  {
"cell_type": "code",
	   "execution_count": null,
	   "metadata": {
	    "collapsed": true
	   },
	   "outputs": [],
"source": [
"clear;\n",
"clc;\n",
"\n",
"l=3;\n",
"r=.25e-2;\n",
"rho=100;\n",
"h=.5;\n",
"\n",
"//(a)\n",
"Ra=(rho/(%pi * l)) *(log(2*l/r)-1);\n",
"mprintf('\n (a) Resistance when buried at surface of earth = %.2f ohm', Ra)\n",
"\n",
"//(b)\n",
"Rb=(rho/(%pi * l)) *(log(2*l/sqrt(2*r*h))-1);\n",
"mprintf('\n (a) Resistance when buried .5m under earth earth = %.2f ohm', Rb)\n",
"\n",
"//(c)\n",
"Rc=Ra/2\n",
"mprintf('\n (c) Resistance when buried infinte deep = %.2f ohm', Rc)\n",
""
   ]
   }
],
"metadata": {
		  "kernelspec": {
		   "display_name": "Scilab",
		   "language": "scilab",
		   "name": "scilab"
		  },
		  "language_info": {
		   "file_extension": ".sce",
		   "help_links": [
			{
			 "text": "MetaKernel Magics",
			 "url": "https://github.com/calysto/metakernel/blob/master/metakernel/magics/README.md"
			}
		   ],
		   "mimetype": "text/x-octave",
		   "name": "scilab",
		   "version": "0.7.1"
		  }
		 },
		 "nbformat": 4,
		 "nbformat_minor": 0
}
