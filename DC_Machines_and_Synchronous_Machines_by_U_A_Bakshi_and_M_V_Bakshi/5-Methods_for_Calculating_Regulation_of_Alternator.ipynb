{
"cells": [
 {
		   "cell_type": "markdown",
	   "metadata": {},
	   "source": [
       "# Chapter 5: Methods for Calculating Regulation of Alternator"
	   ]
	},
{
		   "cell_type": "markdown",
		   "metadata": {},
		   "source": [
			"## Example 5.10: TO_CALCULATE_PERCENTAGE_REGULATION_FOR_HALF_LOAD.sce"
		   ]
		  },
  {
"cell_type": "code",
	   "execution_count": null,
	   "metadata": {
	    "collapsed": true
	   },
	   "outputs": [],
"source": [
"clc,clear\n",
"printf('Example 5.10\n\n')\n",
"\n",
"VA=125*10^3\n",
"V_L=400,V_ph=V_L/sqrt(3)\n",
"I_L=VA/(sqrt(3)*V_L)\n",
"I_aph=I_L\n",
"\n",
"I_f=4,I_asc=I_aph/2 //for half load.. refer to graph\n",
"V_OC_line=140\n",
"V_OC_ph=V_OC_line/sqrt(3)\n",
"I_asc_ph=I_asc\n",
"Z_s= V_OC_ph/I_asc_ph\n",
"R_a=0.1,X_s=sqrt(Z_s^2-R_a^2) //armature resistance and synchronous reactance\n",
"\n",
"phi=acos(0.8)\n",
"E_ph = sqrt((V_ph*cos(phi)+I_asc*R_a)^2 +(V_ph*sin(phi)- I_asc*X_s)^2)\n",
"regulation=100*(E_ph-V_ph)/V_ph\n",
"printf('Voltage regulation at 0.8 pf leading for half load is %.2f percent\n',regulation)"
   ]
   }
,
{
		   "cell_type": "markdown",
		   "metadata": {},
		   "source": [
			"## Example 5.11: TO_DETERMINE_RATED_TERMINAL_VOLTAGE_AND_kVA_RATING_OF_ALTERNATOR.sce"
		   ]
		  },
  {
"cell_type": "code",
	   "execution_count": null,
	   "metadata": {
	    "collapsed": true
	   },
	   "outputs": [],
"source": [
"clc,clear\n",
"printf('Example 5.11\n\n')\n",
"\n",
"V_OC_line=575,   V_OC_ph=V_OC_line/sqrt(3)\n",
"I_asc_line=75\n",
"I_asc_ph  =I_asc_line \n",
"I_aph=I_asc_ph\n",
"I_L=I_aph\n",
"\n",
"Z_s= V_OC_ph/I_asc_ph\n",
"R_a=2.16/2\n",
"X_s =  sqrt(Z_s^2 - R_a^2)\n",
"\n",
"//on full load\n",
"E_ph=6100\n",
"phi=acos(0.8) //leading\n",
"\n",
"//using E_ph = sqrt((V_ph*cos(phi)+I_a*R_a)^2 +(V_ph*sin(phi)- I_a*X_s)^2)\n",
"p=[1 -256.68 -3.71*10^7]\n",
"roots(p)\n",
"V_ph=ans(1) //second root is ignored as its -ve\n",
"V_L=V_ph*sqrt(3)\n",
"printf('Rated terminal voltage between the lines is %.3f V \n',V_L)\n",
"VA_rating=sqrt(3)*V_L*I_L\n",
"printf('kVA rating of the alternator is %.2f kVA',VA_rating*10^-3)"
   ]
   }
,
{
		   "cell_type": "markdown",
		   "metadata": {},
		   "source": [
			"## Example 5.12: TO_DETERMINE_INDUCED_EMF_AND_TERMINAL_VOLTAGE_PER_PHASE.sce"
		   ]
		  },
  {
"cell_type": "code",
	   "execution_count": null,
	   "metadata": {
	    "collapsed": true
	   },
	   "outputs": [],
"source": [
"clc,clear\n",
"printf('Example 5.12\n\n')\n",
"\n",
"V_L=6600, V_ph=V_L/sqrt(3)\n",
"VA=1500*10^3\n",
"I_L=VA/(sqrt(3)*V_L)\n",
"I_aph=I_L\n",
"\n",
"R_a=0.5, X_s=5//armature resistance and synchronous reactance\n",
"phi=acos(0.8)\n",
"E_ph = sqrt((V_ph*cos(phi)+I_aph*R_a)^2 +(V_ph*sin(phi)+ I_aph*X_s)^2)\n",
"printf('Induced EMF per phase is %f V\n',E_ph)\n",
"\n",
"//full load \n",
"phi=acos(1)\n",
"//using E_ph = sqrt((V_ph*cos(phi)+I_a*R_a)^2 +(V_ph*sin(phi)- I_a*X_s)^2)\n",
"p=[1 131.215 -1.791*10^7]\n",
"roots(p)\n",
"V_ph=ans(2) //first root is ignored as it is -ve\n",
"printf('Terminal voltage per phase is %f V',V_ph)"
   ]
   }
,
{
		   "cell_type": "markdown",
		   "metadata": {},
		   "source": [
			"## Example 5.13: TO_DETERMINE_VOLTAGE_REGULATION_BY_EMF_METHOD_AT_VARIOUS_POWER_FACTORS.sce"
		   ]
		  },
  {
"cell_type": "code",
	   "execution_count": null,
	   "metadata": {
	    "collapsed": true
	   },
	   "outputs": [],
"source": [
"clc,clear\n",
"printf('Example 5.13\n\n')\n",
"\n",
"V_ph=2000\n",
"R_a=0.8\n",
"I_sc=100\n",
"V_OC=500\n",
"I_f=2.5\n",
"Z_s=V_OC/I_sc\n",
"X_s= sqrt(Z_s^2 - R_a^2 )\n",
"I_aFL=100,I_a=I_aFL\n",
"\n",
"//part(i)\n",
"phi=acos(1)\n",
"E_ph = sqrt((V_ph*cos(phi)+I_a*R_a)^2 +(V_ph*sin(phi)+ I_a*X_s)^2)\n",
"regulation=100*(E_ph-V_ph)/V_ph\n",
"printf('(i)Voltage regulation is %.2f percent\n',regulation)\n",
"\n",
"//part(ii)\n",
"phi2=acos(0.8)\n",
"E_ph2 = sqrt((V_ph*cos(phi2)+I_a*R_a)^2 +(V_ph*sin(phi2)- I_a*X_s)^2)\n",
"regulation2=100*(E_ph2-V_ph)/V_ph\n",
"printf('(ii)Voltage regulation is %.2f percent\n',regulation2)\n",
"\n",
"//part(iii)\n",
"phi3=acos(0.71)\n",
"E_ph3 = sqrt((V_ph*cos(phi3)+I_a*R_a)^2 +(V_ph*sin(phi3)+ I_a*X_s)^2)\n",
"regulation3=100*(E_ph3-V_ph)/V_ph\n",
"printf('(iii)Voltage regulation is %.2f percent\n',regulation3)"
   ]
   }
,
{
		   "cell_type": "markdown",
		   "metadata": {},
		   "source": [
			"## Example 5.14: TO_FIND_FULLLOAD_VOLTAGE_REGULATION_USING_SYNCHRONOUS_IMPEDANCE_METHOD.sce"
		   ]
		  },
  {
"cell_type": "code",
	   "execution_count": null,
	   "metadata": {
	    "collapsed": true
	   },
	   "outputs": [],
"source": [
"clc,clear\n",
"printf('Example 5.14\n\n')\n",
"\n",
"VA=1000*1000\n",
"V_L=4600 , V_ph=V_L/sqrt(3)\n",
"I_L=VA/(sqrt(3)*V_L)\n",
"I_aph_FL=I_L,I_aph=I_aph_FL\n",
"I_sc=(150/100)* I_aph_FL\n",
"V_OC_line=1744\n",
"V_OC_ph= V_OC_line/sqrt(3)\n",
"\n",
"Z_s=V_OC_ph / I_sc\n",
"R_a=1\n",
"X_s=sqrt(Z_s^2-R_a^2)\n",
"\n",
"phi=acos(0.8 ) //lagging\n",
"E_ph = sqrt((V_ph*cos(phi)+I_aph*R_a)^2 +(V_ph*sin(phi)+ I_aph*X_s)^2)\n",
"regulation=100*(E_ph-V_ph)/V_ph\n",
"printf('Voltage regulation at full load 0.8 pf is %.2f percent\n',regulation)"
   ]
   }
,
{
		   "cell_type": "markdown",
		   "metadata": {},
		   "source": [
			"## Example 5.15: TO_CALCULATE_FULL_LOAD_REGULATION_BY_MMF_AND_SYNCHRONOUS_IMPEDANCE_METHOD.sce"
		   ]
		  },
  {
"cell_type": "code",
	   "execution_count": null,
	   "metadata": {
	    "collapsed": true
	   },
	   "outputs": [],
"source": [
"clc,clear\n",
"printf('Example 5.15\n\n')\n",
"\n",
"//part(i)    Ampere turn method\n",
"F_O=37.5\n",
"F_AR=20\n",
"V_L=6600, V_ph=V_L/sqrt(3)\n",
"\n",
"//lagging\n",
"phi=acos(0.8) \n",
"F_R= sqrt((F_O+F_AR*sin(phi) )^2 + (F_AR*cos(phi))^2 ) \n",
"//E_ph corresponding to F_R can be obtained by plotting open circuit characteristics\n",
"E_ph=4350\n",
"regulation=100*(E_ph-V_ph)/V_ph\n",
"printf('(i)By Ampere-turn method or MMF method\nFull-load regulation at 0.8 lagging pf is %.2f percent\n',regulation)\n",
"//leading\n",
"phi=acos(0.8) \n",
"F_R= sqrt((F_O-F_AR*sin(phi) )^2 + (F_AR*cos(phi))^2 ) \n",
"//E_ph corresponding to F_R can be obtained by plotting open circuit characteristics\n",
"E_ph=3000\n",
"regulation=100*(E_ph-V_ph)/V_ph\n",
"printf('Full-load regulation at 0.8 leading pf is %.2f percent\n',regulation)\n",
"\n",
"//EMF method\n",
"V_OC_ph=100,V_ph=100\n",
"I_sc= 100*(F_O/F_AR)   //times the rated value\n",
"Z_s=V_OC_ph/I_sc\n",
"F_O= 100\n",
"F_AR= Z_s*100\n",
"\n",
"//lagging\n",
"phi=acos(0.8)\n",
"F_R=  sqrt((F_O+F_AR*sin(phi) )^2 + (F_AR*cos(phi))^2 ) \n",
"regulation=100*(F_R-V_ph)/V_ph\n",
"printf('\n(ii)Synchronous impedance method or EMF method\n')\n",
"printf('Full-load regulation at 0.8 lagging pf is %.2f percent\n',regulation)\n",
"//leading\n",
"phi=acos(0.8)\n",
"F_R=  sqrt((F_O-F_AR*sin(phi) )^2 + (F_AR*cos(phi))^2 ) \n",
"regulation=100*(F_R-V_ph)/V_ph\n",
"printf('Full-load regulation at 0.8 leading pf is %.2f percent\n',regulation)"
   ]
   }
,
{
		   "cell_type": "markdown",
		   "metadata": {},
		   "source": [
			"## Example 5.16: TO_DETERMINE_FIELD_CURRENT_REQUIRED_DURING_FULL_LOAD.sce"
		   ]
		  },
  {
"cell_type": "code",
	   "execution_count": null,
	   "metadata": {
	    "collapsed": true
	   },
	   "outputs": [],
"source": [
"clc,clear\n",
"printf('Example 5.16\n\n')\n",
"\n",
"V_L=6000,V_ph=V_L/sqrt(3)\n",
"I_ph_X_Lph = 0.9*500  //leakage reactance drop in volts = 0.9 cm * 500 V/cm\n",
"phi= acos(0.8) //lagging\n",
"\n",
"E_1ph=sqrt( (V_ph*cos(phi))^2 + (V_ph*sin(phi)+I_ph_X_Lph)^2 )   //From triangle OAB\n",
"F_f1 = 26 //from OCC\n",
"F_AR= 2.9*5  //2.9cm * 5 A/cm\n",
"\n",
"F_R =   sqrt(F_f1^2 + F_AR^2 -2*F_AR*F_f1*cos(phi+ (%pi/2)) )\n",
"printf('Required field current is %.2f A',F_R)"
   ]
   }
,
{
		   "cell_type": "markdown",
		   "metadata": {},
		   "source": [
			"## Example 5.17: TO_DETERMINE_VOLTAGE_REGULATION_ARMATURE_REACTION_AND_LEAKAGE_RESISTANCE.sce"
		   ]
		  },
  {
"cell_type": "code",
	   "execution_count": null,
	   "metadata": {
	    "collapsed": true
	   },
	   "outputs": [],
"source": [
"clc,clear\n",
"printf('Example 5.17\n\n')\n",
"\n",
"V_L=400,V_ph=V_L/sqrt(3)\n",
"VA=40*10^3\n",
"I_L=VA/(sqrt(3)*V_L) , I_aph=I_L\n",
"I_aph_X_Lph = 0.65*50  //leakage reactance drop in volts = 2.4 cm * 500 V/cm\n",
"X_Lph= I_aph_X_Lph/ I_aph\n",
"printf('Armature leakage reactance is %.3f ohms\nNote:This answer doesnt match with textbook as it has been reciprocated in textbook\n\n',X_Lph)\n",
"phi=acos(0.8)  //lagging\n",
"E_ph = sqrt((V_ph*cos(phi))^2 +(V_ph*sin(phi)+ I_aph_X_Lph)^2)\n",
"F_f1=15.6 //as obtained from OCC corresponding to this E_ph\n",
"\n",
"F_AR= 2.3*3  //2.3cm * 3 A/cm\n",
"printf('Armature reaction is %.1f \n',F_AR)\n",
"F_R =   sqrt(F_f1^2 + F_AR^2 -2*F_AR*F_f1*cos(phi+ (%pi/2)) )  //cosine rule to Triangle OAB\n",
"E_ph=267.5  //corresponding to F_R from open circiut characteristics\n",
"regulation=100*(E_ph-V_ph)/V_ph\n",
"printf('Voltage regulation at 0.8 pf lagging is %.1f percent\n',regulation)"
   ]
   }
,
{
		   "cell_type": "markdown",
		   "metadata": {},
		   "source": [
			"## Example 5.18: EX5_18.sce"
		   ]
		  },
  {
"cell_type": "code",
	   "execution_count": null,
	   "metadata": {
	    "collapsed": true
	   },
	   "outputs": [],
"source": [
"clc,clear\n",
"printf('Example 5.18\n\n')\n",
"\n",
"VA=10*10^3\n",
"V_L=11*10^3,V_ph=V_L/sqrt(3)\n",
"I_ph_X_Lph = 2.4*500  //leakage reactance drop in volts = 2.4 cm * 500 V/cm\n",
"I_ph_R_aph =VA/(sqrt(3)*V_L)\n",
"phi=acos(0.8)\n",
"E_ph = sqrt((V_ph*cos(phi)+I_ph_R_aph)^2 +(V_ph*sin(phi)+ I_ph_X_Lph)^2)\n",
"F_f1=109 //obtained from open circuit characteristics corresponding to calculated E_ph\n",
"F_AR= 2.8*10  //2.8cm * 10 A/cm\n",
"F_R =   sqrt(F_f1^2 + F_AR^2 -2*F_AR*F_f1*cos(phi+ (%pi/2)) )  //cosine rule to Triangle OAB\n",
"E_ph=7700  //corresponding to F_R from open circiut characteristics\n",
"\n",
"regulation=100*(E_ph-V_ph)/V_ph\n",
"printf('Voltage regulation at full-load 0.8 pf lagging is %.2f percent\n',regulation)"
   ]
   }
,
{
		   "cell_type": "markdown",
		   "metadata": {},
		   "source": [
			"## Example 5.19: TO_DETERMINE_TERMINAL_VOLTAGE_AT_A_GIVEN_EXCITATION.sce"
		   ]
		  },
  {
"cell_type": "code",
	   "execution_count": null,
	   "metadata": {
	    "collapsed": true
	   },
	   "outputs": [],
"source": [
"clc,clear\n",
"printf('Example 5.19\n\n')\n",
"\n",
"VA=2000*1000\n",
"V_L=11000,V_ph=V_L/sqrt(3)\n",
"R_a=0.3,X_s=5 //armature resistance and synchronous reactance\n",
"\n",
"//case (i)\n",
"phi=acos(0.8) //lagging\n",
"I_L=VA/(sqrt(3)*V_L)  , I_a=I_L\n",
"E_ph = sqrt((V_ph*cos(phi)+I_a*R_a)^2 +(V_ph*sin(phi)+ I_a*X_s)^2)\n",
"\n",
"//Using E_ph = sqrt((V_ph*cos(phi)+I_aph*R_a)^2 +(V_ph*sin(phi)+ I_aph*X_s)^2)\n",
"//we get  V_ph^2 -579.4455 V_ph -44653301.91=0\n",
"p=[1 -579.4455 -44653301.91]\n",
"roots(p)\n",
"V_ph=ans(1) //second root is ignored as its -ve\n",
"printf('Terminal voltage is %.4f V',V_ph)"
   ]
   }
,
{
		   "cell_type": "markdown",
		   "metadata": {},
		   "source": [
			"## Example 5.1: TO_DETERMINE_EMF_AND_REGULATION_AT_A_CERTAIN_LOAD.sce"
		   ]
		  },
  {
"cell_type": "code",
	   "execution_count": null,
	   "metadata": {
	    "collapsed": true
	   },
	   "outputs": [],
"source": [
"clc,clear\n",
"printf('Example 5.1\n\n')\n",
"\n",
"P=1000*10^3 //load power\n",
"phi=acosd(0.8) //power factor lagging angle\n",
"V_L=11*10^3 //rated terminal voltae\n",
"R_a=0.4 //armature resistance per phase\n",
"X_s=3//synchronous reactance per phase\n",
"\n",
"I_L=P/(sqrt(3)*V_L*cosd(phi))\n",
"I_aph=I_L //for star connected load\n",
"I_a=I_L//current through armature\n",
"V_ph=V_L/sqrt(3) //rated terminal volatge phase value\n",
"\n",
"E_ph= sqrt(  (V_ph*cosd(phi)+I_a*R_a)^2+(V_ph*sind(phi)+I_a*X_s)^2   )  //emf generated phase value\n",
"E_line=E_ph*sqrt(3) //line value of emf generated\n",
"regulation=100*(E_ph-V_ph)/V_ph  //pecentage regulation\n",
"printf('Line value of e.m.f generated is %.2f kV\nRegulation is %.3f percent',E_line*10^-3,regulation)"
   ]
   }
,
{
		   "cell_type": "markdown",
		   "metadata": {},
		   "source": [
			"## Example 5.20: TO_DETERMINE_TERMINAL_VOLTAGE_LOAD_ANGLE_AND_VOLTAGE_REGULATION.sce"
		   ]
		  },
  {
"cell_type": "code",
	   "execution_count": null,
	   "metadata": {
	    "collapsed": true
	   },
	   "outputs": [],
"source": [
"clc,clear\n",
"printf('Example 5.20\n\n')\n",
"\n",
"R_a=0.6,X_s=6 //armature resistance and synchronous reactance per phase\n",
"E_L=6599, E_ph=E_L/sqrt(3)\n",
"I_L=180,I_a=I_L\n",
"\n",
"//part(i)\n",
"// using E_ph = sqrt((V_ph*cos(phi)+I_a*R_a)^2 +(V_ph*sin(phi)+ I_a*X_s)^2) and solving for V_ph\n",
"p=[1 1135.83 -13338836.49]\n",
"roots(p)\n",
"V_ph=ans(2)\n",
"V_L=V_ph*sqrt(3)\n",
"regulation=100*(E_ph-V_ph)/V_ph\n",
"\n",
"phi=acos(0.9)\n",
"theta=atan(      (I_a*X_s+V_ph*sin(phi) )/(E_ph)               )\n",
"delta=theta-phi\n",
"printf('(i)0.9 lagging\nTerminal voltage is %.2f V\nVoltage regulation is %.2f percent\nLoad angle is %.2f degrees',V_ph*sqrt(3),regulation,delta*(180/%pi))\n",
"\n",
"//part(ii)\n",
"phi_2=acos(0.8)\n",
"// using E_ph = sqrt((V_ph*cos(phi)+I_a*R_a)^2 +(V_ph*sin(phi)- I_a*X_s)^2) and solving for V_ph\n",
"p=[1 -941.53 -11399574.87]\n",
"roots(p) \n",
"V_ph=ans(1) //second root is ignored as its -ve\n",
"V_L=V_ph*sqrt(3)\n",
"regulation2=100*(E_ph-V_ph)/V_ph\n",
"delta_2 = asin( (tan(phi)*(V_ph*cos(phi_2)+I_a*R_a) -I_a*X_s )/E_ph   )\n",
"printf('\n\n(ii)0.8 leading\nTerminal voltage is %.2f V\nVoltage regulation is %.2f percent\nLoad angle is %.2f degrees',V_L,regulation2,delta_2*(180/%pi))"
   ]
   }
,
{
		   "cell_type": "markdown",
		   "metadata": {},
		   "source": [
			"## Example 5.21: TO_DETERMINE_VOLTAGE_REGULATION_BY_EMF_METHOD_AT_VARIOUS_POWER_FATORS.sce"
		   ]
		  },
  {
"cell_type": "code",
	   "execution_count": null,
	   "metadata": {
	    "collapsed": true
	   },
	   "outputs": [],
"source": [
"clc,clear\n",
"printf('Example 5.21\n\n')\n",
"\n",
"V_ph=2000\n",
"R_a=0.8\n",
"I_sc=100,I_a=I_sc\n",
"V_OC=500\n",
"I_f=2.5\n",
"Z_s=V_OC/I_sc\n",
"\n",
"X_s=sqrt(Z_s^2- R_a^2)\n",
"I_a_FL=100\n",
"\n",
"//Part(i)\n",
"phi1=acos(1) //and lagging\n",
"E_ph1=sqrt((V_ph*cos(phi1)+I_a*R_a)^2+(V_ph*sin(phi1)+I_a*X_s)^2)\n",
"regulation1=100*(E_ph1-V_ph)/V_ph\n",
"printf('Regulation at upf is %.2f percent\n',regulation1)\n",
"\n",
"//Part(ii)\n",
"phi2=acos(0.8) \n",
"E_ph2=sqrt((V_ph*cos(phi2)+I_a*R_a)^2+(V_ph*sin(phi2)-I_a*X_s)^2)\n",
"regulation2=100*(E_ph2-V_ph)/V_ph\n",
"printf('Regulation at 0.8 leading pf is %.2f percent\n',regulation2)\n",
"\n",
"//Part(iii)\n",
"phi3=acos(0.71) \n",
"E_ph3=sqrt((V_ph*cos(phi3)+I_a*R_a)^2+(V_ph*sin(phi3)+I_a*X_s)^2)\n",
"regulation3=100*(E_ph3-V_ph)/V_ph\n",
"printf('Regulation at 0.71 lagging pf is %.2f percent\n',regulation3)"
   ]
   }
,
{
		   "cell_type": "markdown",
		   "metadata": {},
		   "source": [
			"## Example 5.22: TO_DETERMINE_CERTAIN_QUANTITIES_ASSOCIATED_WITH_SINGLE_PHASE_ALTERNATOR.sce"
		   ]
		  },
  {
"cell_type": "code",
	   "execution_count": null,
	   "metadata": {
	    "collapsed": true
	   },
	   "outputs": [],
"source": [
"clc,clear\n",
"printf('Example 5.22\n\n')\n",
"\n",
"V=600\n",
"VA=60*10^3\n",
"I_sc=210\n",
"V_oc=480\n",
"I_f=10\n",
"R_a=0.2\n",
"\n",
"I=VA/V        //VA=V*I and alternator is single phase\n",
"I_a=I\n",
"\n",
"Z_s=V_oc/I_sc  //Synchronous Impedance\n",
"X_s=sqrt(Z_s^2-R_a^2) //SYnchronous Reactance\n",
"printf('Synchronous impedances is %f ohms and synchronous reactance is %f ohms\n',Z_s,X_s)\n",
"\n",
"//PART (i)\n",
"phi1=acos(0.8) //and lagging\n",
"E1=sqrt((V*cos(phi1)+I_a*R_a)^2+(V*sin(phi1)+I_a*X_s)^2) //plus sign for lagging power factor\n",
"regulation1=100*(E1-V)/V\n",
"printf('\nRegulation at 0.8 lagging pf is %.2f percent ',regulation1 )\n",
"\n",
"//PART (ii)\n",
"phi2=acos(1) \n",
"E2=sqrt((V*cos(phi2)+I_a*R_a)^2+(V*sin(phi2)+I_a*X_s)^2) \n",
"regulation2=100*(E2-V)/V\n",
"printf('\nRegulation at UNITY pf is %.2f percent ',regulation2 )\n",
"\n",
"//PART (iii)\n",
"phi3=acos(0.6) //and leading \n",
"E3=sqrt((V*cos(phi3)+I_a*R_a)^2+(V*sin(phi3)-I_a*X_s)^2) //minus sign for leading power factor\n",
"regulation3=100*(E3-V)/V\n",
"printf('\nRegulation at 0.6 leading pf is %.2f percent ',regulation3 )"
   ]
   }
,
{
		   "cell_type": "markdown",
		   "metadata": {},
		   "source": [
			"## Example 5.23: TO_DETERMINE_FULL_LOAD_VOLTAGE_REGULATION_AT_LEADING_AND_LAGGING_POWER_FACTOR.sce"
		   ]
		  },
  {
"cell_type": "code",
	   "execution_count": null,
	   "metadata": {
	    "collapsed": true
	   },
	   "outputs": [],
"source": [
"clc,clear\n",
"printf('Example 5.23\n\n')\n",
"\n",
"V_L=3300, V_ph=V_L/sqrt(3)\n",
"I_a=100\n",
"I_f=5\n",
"V_OC_line=900 ,V_OC_ph=V_OC_line/sqrt(3) \n",
"R_a=0.8 //armature resistance\n",
"I_aph=I_a\n",
"Z_s=V_OC_ph/I_aph\n",
"X_s=sqrt(Z_s^2-R_a^2) //synchronous reactance\n",
"\n",
"//Part(i)\n",
"phi1=acos(0.8) //and lagging\n",
"E_ph1=sqrt((V_ph*cos(phi1)+I_a*R_a)^2+(V_ph*sin(phi1)+I_a*X_s)^2)\n",
"regulation1=100*(E_ph1-V_ph)/V_ph\n",
"printf('Regulation at 0.8 lagging is %.2f percent\n',regulation1)\n",
"\n",
"//Part(ii)\n",
"phi2=acos(0.8)  //and leading\n",
"E_ph2=sqrt((V_ph*cos(phi2)+I_a*R_a)^2+(V_ph*sin(phi2)-I_a*X_s)^2)\n",
"regulation2=100*(E_ph2-V_ph)/V_ph\n",
"printf('Regulation at 0.8 leading pf is %.2f percent\n',regulation2)"
   ]
   }
,
{
		   "cell_type": "markdown",
		   "metadata": {},
		   "source": [
			"## Example 5.24: TO_CALCULATE_PERCENTAGE_REGULATION_AT_LEADING_LAGGING_AND_UNITY_POWER_FACTORS.sce"
		   ]
		  },
  {
"cell_type": "code",
	   "execution_count": null,
	   "metadata": {
	    "collapsed": true
	   },
	   "outputs": [],
"source": [
"clc,clear\n",
"printf('Example 5.24\n\n')\n",
"\n",
"V_L=13500\n",
"R_a=1.5 , X_s=30 //armature resistance and synchronous reactance\n",
"V_ph=V_L/sqrt(3)\n",
"\n",
"//CASE 1\n",
"phi1=acos(0.8)\n",
"P_out=1280*10^3\n",
"I_L= P_out/ (sqrt(3)*V_L*cos(phi1) )    //because P_out=sqrt(3)*V_L*I_L*cos(phi)\n",
"\n",
"I_a=I_L\n",
"E_ph=sqrt((V_ph*cos(phi1)+I_a*R_a)^2+(V_ph*sin(phi1)+I_a*X_s)^2)\n",
"regulation=100*(E_ph-V_ph)/V_ph\n",
"printf('Regulation at 0.8 lagging power factor is %.2f percent',regulation)\n",
"\n",
"//Case 2\n",
"phi2=acos(1)\n",
"I_L= P_out/ (sqrt(3)*V_L*cos(phi2) )    //because P_out=sqrt(3)*V_L*I_L*cos(phi)\n",
"\n",
"I_a=I_L\n",
"E_ph=sqrt((V_ph*cos(phi2)+I_a*R_a)^2+(V_ph*sin(phi2)+I_a*X_s)^2)\n",
"regulation2=100*(E_ph-V_ph)/V_ph\n",
"printf('\nRegulation at unity power factor is %.2f percent',regulation2)\n",
"\n",
"//case 3\n",
"phi3=acos(0.8)\n",
"I_L= P_out/ (sqrt(3)*V_L*cos(phi3) )    //because P_out=sqrt(3)*V_L*I_L*cos(phi)\n",
"I_a=I_L\n",
"E_ph=sqrt((V_ph*cos(phi3)+I_a*R_a)^2+(V_ph*sin(phi3)-I_a*X_s)^2)// minus sign in the second bracket beacuse of leading pf\n",
"regulation3=100*(E_ph-V_ph)/V_ph\n",
"printf('\nRegulation at 0.8 leading power factor is %.2f percent',regulation3)"
   ]
   }
,
{
		   "cell_type": "markdown",
		   "metadata": {},
		   "source": [
			"## Example 5.26: TO_CALCULATE_PERCENTAGE_REGULATION_USING_EMF_METHOD.sce"
		   ]
		  },
  {
"cell_type": "code",
	   "execution_count": null,
	   "metadata": {
	    "collapsed": true
	   },
	   "outputs": [],
"source": [
"clc,clear\n",
"printf('Example 5.26\n\n')\n",
"\n",
"V_L=11*10^3\n",
"VA_rating=10^6\n",
"R_a=2.2 //alternator resistance\n",
"phi=acos(0.8)\n",
"\n",
"I_L=VA_rating/(sqrt(3)*V_L)//VA=sqrt(3)V_L*I_L\n",
"I_a=I_L\n",
"V_ph=V_L/sqrt(3)\n",
"regulation=24\n",
"\n",
"E_ph= ((regulation/100)+1)*V_ph    // because regulation=100*(E_ph-V_ph)/V_ph\n",
"//using E_ph=sqrt((V_ph*cos(phi)+I_a*R_a)^2+(V_ph*sin(phi)+I_a*X_s)^2)\n",
"X_s=(sqrt(E_ph^2-((V_ph*cos(phi)+I_a*R_a)^2))-V_ph*sin(phi))*(1/I_a)\n",
"\n",
"phi1=acos(0.8)\n",
"E_ph=sqrt((V_ph*cos(phi1)+I_a*R_a)^2+(V_ph*sin(phi1)-I_a*X_s)^2)\n",
"regulation1=100*(E_ph-V_ph)/V_ph\n",
"printf('\nRegulation at 0.8 leading power factor is %.2f percent',regulation1)"
   ]
   }
,
{
		   "cell_type": "markdown",
		   "metadata": {},
		   "source": [
			"## Example 5.27: TO_DETERMINE_CERTAIN_CHARACTERISTICS_RELATED_TO_STAR_CONNECTED_ALTERNATOR.sce"
		   ]
		  },
  {
"cell_type": "code",
	   "execution_count": null,
	   "metadata": {
	    "collapsed": true
	   },
	   "outputs": [],
"source": [
"clc,clear\n",
"printf('Example 5.27\n\n')\n",
"\n",
"V_L=220\n",
"VA=100*10^3\n",
"R_a=0.1 //effective resistacne of alternator\n",
"X_a=0.5 //leakage reactance\n",
"X_ar=2*X_a\n",
"\n",
"Z_s=complex(R_a,X_a+X_ar)\n",
"\n",
"//Part(1)\n",
"phi=acos(0.4)\n",
"V_ph=V_L/sqrt(3)\n",
"I_L=VA/(sqrt(3)*V_L)//VA=sqrt(3)*V_L*I_L\n",
"I_a=I_L\n",
"E_ph=sqrt((V_ph*cos(phi)+I_a*R_a)^2+(V_ph*sin(phi)+I_a*(X_a+X_ar))^2)\n",
"printf('(i)Required noload voltage is %.3f V',E_ph)\n",
"\n",
"//Part(2)\n",
"V_ph2=0\n",
"E_ph2=sqrt((V_ph2*cos(phi)+I_a*R_a)^2+(V_ph2*sin(phi)+I_a*(X_a+X_ar))^2)\n",
"printf('\n(ii)Required noload voltage is %.3f V',E_ph2)"
   ]
   }
,
{
		   "cell_type": "markdown",
		   "metadata": {},
		   "source": [
			"## Example 5.28: EX5_28.sce"
		   ]
		  },
  {
"cell_type": "code",
	   "execution_count": null,
	   "metadata": {
	    "collapsed": true
	   },
	   "outputs": [],
"source": [
"clc,clear\n",
"printf('Example 5.28\n\n')\n",
"\n",
"V_L=2000,V_ph=V_L/sqrt(3)\n",
"VA=1000*10^3\n",
"I_L=VA/(sqrt(3)*V_L)    //because VA=sqrt(3)*V_L*I_L\n",
"I_aph=I_L\n",
"\n",
"I_f=28.5//for this I_aph=288.67513 as obtained from SCC graph\n",
"V_oc_ph=1060//for I_f=28.5 as obtained fromOCC graph\n",
"Z_s=V_oc_ph/I_aph\n",
"R_a=0.2 //armature effective resistance\n",
"X_s=sqrt( Z_s^2-R_a^2 )\n",
"\n",
"//Part(i)\n",
"phi1=acos(0.8)//lagging\n",
"E_ph1=sqrt((V_ph*cos(phi1)+I_aph*R_a)^2+(V_ph*sin(phi1)+I_aph*X_s)^2)\n",
"regulation1=100*(E_ph1-V_ph)/V_ph\n",
"printf('(i)Full-load percentage regulation at 0.8 pf lagging is %.2f percent',regulation1)\n",
"\n",
"//Part(ii)\n",
"phi2=acos(0.8)//leading\n",
"E_ph2=sqrt((V_ph*cos(phi2)+I_aph*R_a)^2+(V_ph*sin(phi2)-I_aph*X_s)^2)\n",
"regulation2=100*(E_ph2-V_ph)/V_ph\n",
"printf('\n(ii)Full-load percentage regulation at 0.8 pf leading is %.2f percent\n\n',regulation2)\n",
"printf('Note that the answer mismatches because of calculation mistake done in the last step of part 1')"
   ]
   }
,
{
		   "cell_type": "markdown",
		   "metadata": {},
		   "source": [
			"## Example 5.29: TO_CALCULATE_PERCENTAGE_REGULATION_WHEN_RATED_OUTPUT_SWITCHES_OFF.sce"
		   ]
		  },
  {
"cell_type": "code",
	   "execution_count": null,
	   "metadata": {
	    "collapsed": true
	   },
	   "outputs": [],
"source": [
"clc,clear\n",
"printf('Example 5.29\n\n')\n",
"\n",
"V_L=3300\n",
"VA=200*10^3\n",
"R_a=0.6, X_s=6//armature resistance and synchronous reactance\n",
"\n",
"I_L=VA/(sqrt(3)*V_L)//VA=sqrt(3)V_L*I_L\n",
"I_a=I_L\n",
"V_ph=V_L/sqrt(3)\n",
"phi=acos(0.8)\n",
"E_ph=sqrt((V_ph*cos(phi)+I_a*R_a)^2+(V_ph*sin(phi)+I_a*X_s)^2)\n",
"\n",
"regulation=100*(E_ph-V_ph)/V_ph\n",
"printf('Regulation at 0.8 lagging power factor is %.3f percent',regulation)\n",
"printf('\n Note :\n Regulation is positive for lagging power factor loads')"
   ]
   }
,
{
		   "cell_type": "markdown",
		   "metadata": {},
		   "source": [
			"## Example 5.2: TO_DETERMINE_PERCENTAGE_REGULATION_AT_FULL_LOAD_LEADING_AND_LAGGING_PF.sce"
		   ]
		  },
  {
"cell_type": "code",
	   "execution_count": null,
	   "metadata": {
	    "collapsed": true
	   },
	   "outputs": [],
"source": [
"clc,clear\n",
"printf('Example 5.2\n\n')\n",
"\n",
"VA=1200*10^3\n",
"V_L=6600\n",
"R_a=0.25 //armature resistance per phase\n",
"X_s=5//synchronous reactance per phase\n",
"\n",
"I_L=VA/(sqrt(3)*V_L)\n",
"I_aph=I_L //for star connected load\n",
"I_a=I_L\n",
"V_ph=V_L/sqrt(3)\n",
"\n",
"//Part(i)\n",
"phi1=acos(0.8)//and lagging\n",
"E_ph1= sqrt(  (V_ph*cos(phi1)+I_a*R_a)^2+(V_ph*sin(phi1)+I_a*X_s)^2   )\n",
"regulation=100*(E_ph1-V_ph)/V_ph  //percentage regulation\n",
"printf('(i)Regulation at 0.8 lagging pf is %.2f percent',regulation)\n",
"//Part(ii)\n",
"phi2=acos(0.8)//and leading\n",
"E_ph2= sqrt(  (V_ph*cos(phi2)+I_a*R_a)^2+(V_ph*sin(phi2)-I_a*X_s)^2   )\n",
"regulation2=100*(E_ph2-V_ph)/V_ph //percentage regulation\n",
"printf('\n(ii)Regulation at 0.8 leading pf is %.2f percent',regulation2)"
   ]
   }
,
{
		   "cell_type": "markdown",
		   "metadata": {},
		   "source": [
			"## Example 5.30: EX5_30.sce"
		   ]
		  },
  {
"cell_type": "code",
	   "execution_count": null,
	   "metadata": {
	    "collapsed": true
	   },
	   "outputs": [],
"source": [
"clc,clear\n",
"printf('Example 5.30\n\n')\n",
"\n",
"V_L=2300   ,  V_ph= V_L/sqrt(3)\n",
"f=50,R_a=0.2 //armature resistance\n",
"I_sc=150\n",
"V_OC_line=780   , V_OC_ph=V_OC_line/sqrt(3)\n",
"\n",
"Z_s= V_OC_ph/I_sc\n",
"X_s =  sqrt(Z_s^2 - R_a^2)\n",
"I_aph=25 , I_aFL=I_aph\n",
"\n",
"//part(i)\n",
"phi= acos(0.8)  //lag\n",
"E_ph = sqrt((V_ph*cos(phi)+I_aph*R_a)^2 +(V_ph*sin(phi)+ I_aph*X_s)^2)\n",
"regulation=100*(E_ph-V_ph)/V_ph\n",
"printf('Voltage regulation at 0.8 pf lagging is %.3f percent\n',regulation)\n",
"\n",
"//part(ii)\n",
"phi2= acos(0.8)  //lead\n",
"E_ph2 = sqrt((V_ph*cos(phi2)+I_aph*R_a)^2 +(V_ph*sin(phi2)- I_aph*X_s)^2 )\n",
"regulation2=100*(E_ph2-V_ph)/V_ph\n",
"printf('Voltage regulation at 0.8 pf leading is %.3f percent',regulation2)"
   ]
   }
,
{
		   "cell_type": "markdown",
		   "metadata": {},
		   "source": [
			"## Example 5.3: TO_DETERMINE_PERCENTAGE_REGULATION_ON_FULL_LOAD.sce"
		   ]
		  },
  {
"cell_type": "code",
	   "execution_count": null,
	   "metadata": {
	    "collapsed": true
	   },
	   "outputs": [],
"source": [
"clc,clear\n",
"printf('Example 5.3\n\n')\n",
"\n",
"//full load\n",
"V_L_FL=1100\n",
"V_ph_FL=V_L_FL/sqrt(3)\n",
"\n",
"//no load\n",
"V_L_NL=1266\n",
"E_line=V_L_NL\n",
"E_ph=E_line/sqrt(3)\n",
"regulation=100*(E_ph-V_ph_FL)/V_ph_FL\n",
"\n",
"printf('Regulation at full load is %.2f percent',regulation)"
   ]
   }
,
{
		   "cell_type": "markdown",
		   "metadata": {},
		   "source": [
			"## Example 5.4: TO_CALCULATE_FULL_LOAD_REGULATION_AT_A_LAGGING_POWER_FACTOR.sce"
		   ]
		  },
  {
"cell_type": "code",
	   "execution_count": null,
	   "metadata": {
	    "collapsed": true
	   },
	   "outputs": [],
"source": [
"clc,clear\n",
"printf('Example 5.4\n\n')\n",
"\n",
"V_L=866\n",
"VA=100*10^3\n",
"I_L=VA/(sqrt(3)*V_L)    //because VA=sqrt(3)*V_L*I_L\n",
"I_aph=I_L//full load and star connected alternator\n",
"V_ph=V_L/sqrt(3)\n",
"\n",
"//Graph is plotted and V_oc_ph and I_asc_Ph is obtained for \n",
"//SCC for I_asc=66.67 A,I_f=2.4 A\n",
"//OCC for I_f=2.4 A,V_oc_ph=240 V\n",
"\n",
"//for measruemnt of impedance\n",
"V_oc_ph=240 //for I_f=2.4..From o.c.c graph\n",
"I_asc_ph=66.67 //for I_f=2.4...From s.c.c graph\n",
"Z_s=V_oc_ph/I_asc_ph\n",
"R_a=0.15\n",
"X_s=sqrt( Z_s^2-R_a^2 )\n",
"\n",
"V_ph_FL=500\n",
"phi=acos(0.8)  //lagging pf\n",
"E_ph=sqrt((V_ph_FL*cos(phi)+I_aph*R_a)^2+(V_ph_FL*sin(phi)+I_aph*X_s)^2)\n",
"regulation=100*(E_ph-V_ph)/V_ph\n",
"\n",
"printf('Full-load regulation at 0.8 lagging pf is %.2f percent ',regulation )"
   ]
   }
,
{
		   "cell_type": "markdown",
		   "metadata": {},
		   "source": [
			"## Example 5.5: TO_FIND_PERCENTAGE_REGULATION_AT_CERTAIN_LEADING_AND_LAGGING_POWER_FACTORS.sce"
		   ]
		  },
  {
"cell_type": "code",
	   "execution_count": null,
	   "metadata": {
	    "collapsed": true
	   },
	   "outputs": [],
"source": [
"clc,clear\n",
"printf('Example 5.5\n\n')\n",
"\n",
"V_OC_line=230,I_asc=12.5  // when I_f=0.38\n",
"V_OC_ph=V_OC_line/sqrt(3)\n",
"Z_s=V_OC_ph/I_asc \n",
"\n",
"R_a=1.8/2  //1.8 is between terminals..0.9 is per phase\n",
"X_s=sqrt(Z_s^2-R_a^2)\n",
"\n",
"I_a=10// when regulation is needed\n",
"V_L=230\n",
"V_ph=V_L/sqrt(3)\n",
"\n",
"//Part(i)\n",
"phi1=acos(0.8) //and lagging\n",
"E_ph1=sqrt((V_ph*cos(phi1)+I_a*R_a)^2+(V_ph*sin(phi1)+I_a*X_s)^2)\n",
"regulation1=100*(E_ph1-V_ph)/V_ph\n",
"printf('Regulation for 10 A at 0.8 lagging pf is %.2f percent\n',regulation1)\n",
"//Part(ii)\n",
"phi2=acos(0.8) //and leading\n",
"E_ph2=sqrt((V_ph*cos(phi2)+I_a*R_a)^2+(V_ph*sin(phi2)-I_a*X_s)^2)\n",
"regulation2=100*(E_ph2-V_ph)/V_ph\n",
"printf('Regulation for 10 A at 0.8 leading pf is %.2f percent\n',regulation2)"
   ]
   }
,
{
		   "cell_type": "markdown",
		   "metadata": {},
		   "source": [
			"## Example 5.6: EX5_6.sce"
		   ]
		  },
  {
"cell_type": "code",
	   "execution_count": null,
	   "metadata": {
	    "collapsed": true
	   },
	   "outputs": [],
"source": [
"clc,clear\n",
"printf('Example 5.6\n\n')\n",
"\n",
"phi=acos(0.8)\n",
"VA=1000*10^3\n",
"V_L=1905\n",
"V_ph=V_L/sqrt(3)\n",
"R_a=0.2//Armature reactance per phase\n",
"\n",
"//Part(i)\n",
"//Ampere-turn method\n",
"I_L=VA/(sqrt(3)*V_L)\n",
"I_aph=I_L\n",
"V_dash=V_ph+I_aph*R_a*cos(phi)//V_dash is a dummy quantity and has no significance..it's used only for mapping correcponding current\n",
"F_o=32 //F_o corresponds to voltage V_dash=1148.5 from O.C.C graph\n",
"F_AR=27.5 //Field current required to circulate full-load short circuit current of 303.07A.From SCC F_AR=27.5\n",
"F_R = sqrt(    F_o^2 + F_AR^2-2*F_o*F_AR*cos(phi+%pi/2) )//Using Cosine rule\n",
"\n",
"// for F_R=53.25, E_ph=1490 V from O.C.C\n",
"E_ph=1490\n",
"regulation1=100*(E_ph-V_ph)/V_ph\n",
"printf('Regulation on full-load by ampere-turn method is %.2f percent',regulation1)\n",
"\n",
"//Part (ii)\n",
"//Synchronous Impedance method\n",
"\n",
"I_sc=I_L\n",
"I_aph2=I_sc\n",
"I_f=27.5\n",
"\n",
"V_OC_ph=1060 //corresponding to I-f=27.5 in the graph\n",
"Z_s=V_OC_ph/I_aph2\n",
"X_s=sqrt(Z_s^2-R_a^2)\n",
"\n",
"E_ph2= sqrt( (V_ph*cos(phi)+I_aph2*R_a)^2+(V_ph*sin(phi)+I_aph2*X_s)^2 )   //from phasor diagram\n",
"regulation2=100*(E_ph2-V_ph)/V_ph\n",
"printf('\nRegulation on full-load by synchronous impedance method is %.2f percent',regulation2)"
   ]
   }
,
{
		   "cell_type": "markdown",
		   "metadata": {},
		   "source": [
			"## Example 5.7: TO_DETERMINE_FULL_LOAD_VOLTAGE_REGULATION_AT_LEADING_AND_LAGGING_POWER_FACTORS.sce"
		   ]
		  },
  {
"cell_type": "code",
	   "execution_count": null,
	   "metadata": {
	    "collapsed": true
	   },
	   "outputs": [],
"source": [
"clc,clear\n",
"printf('Example 5.7\n\n')\n",
"\n",
"//case(i)\n",
"V_L=440\n",
"V_ph=V_L/sqrt(3)\n",
"phi=acos(0.8)\n",
"\n",
"//armature resistance drop from the graph\n",
"//RS=1.1 cm and scale =50 V/cm\n",
"arm_leak_resis= 1.1*50    //armature leakage resistance\n",
"\n",
"OB=V_ph*cos(phi)\n",
"AB=V_ph*sin(phi) + arm_leak_resis\n",
"E_1ph= sqrt( OB^2+AB^2   )\n",
"\n",
"F_f1=6.1  //corresponding value from OCC\n",
"F_AR=3.1*1\n",
"\n",
"F_R= sqrt(   F_f1^2 + F_AR^2 -2*F_f1*F_AR*cosd(90+acosd(0.8))           )\n",
"E_ph=328 //voltage corresponding to F_R=8.33 A from OCC graph\n",
"regulation1= 100*(E_ph - V_ph)/V_ph\n",
"printf('(i)Regulation for 0.8 pf lagging is %.2f percent \n',regulation1)\n",
"\n",
"//case(ii)\n",
"\n",
"OC=V_ph*cos(phi)\n",
"BC=V_ph*sin(phi) - arm_leak_resis\n",
"E_1ph= sqrt( OC^2+BC^2   )\n",
"\n",
"F_f1=6.1  //corresponding value from OCC\n",
"F_R= sqrt(   F_f1^2 + F_AR^2 -2*F_f1*F_AR*cosd(90-acosd(0.8))           )\n",
"E_ph=90 //volatge corresponding to F_R=3.34 A from OCC graph\n",
"regulation2= 100*(E_ph - V_ph)/V_ph\n",
"printf('(ii)Regulation for 0.8 pf leading is %.2f percent \n',regulation2)\n",
"printf('\nThe answer in part (ii) doesnt match with textbook because of calculation mistake done in last step in the textbook')"
   ]
   }
,
{
		   "cell_type": "markdown",
		   "metadata": {},
		   "source": [
			"## Example 5.8: TO_DETERMINE_PERCENTAGE_REGULATION_AT_CERTAIN_LAGGING_POWER_FACTOR.sce"
		   ]
		  },
  {
"cell_type": "code",
	   "execution_count": null,
	   "metadata": {
	    "collapsed": true
	   },
	   "outputs": [],
"source": [
"clc,clear\n",
"printf('Example 5.8\n\n')\n",
"\n",
"P=1200*10^3\n",
"V_line=12000\n",
"R_a=2,X_s=35//armature resistance and synchronous reactance\n",
"phi=acos(0.8)\n",
"\n",
"\n",
"I_L=P/(sqrt(3)*V_line*cos(phi))\n",
"I_a=I_L\n",
"V_ph=V_line/sqrt(3)\n",
"E_ph=sqrt((V_ph*cos(phi)+I_a*R_a)^2+(V_ph*sin(phi)+I_a*X_s)^2)\n",
"regulation=100*(E_ph-V_ph)/V_ph\n",
"\n",
"printf('Regulation at 0.8 lag power factor is %.2f percent',regulation)"
   ]
   }
,
{
		   "cell_type": "markdown",
		   "metadata": {},
		   "source": [
			"## Example 5.9: TO_DETERMINE_FULL_LOAD_REGULATION_AT_VARIOUS_POWER_FACTORS.sce"
		   ]
		  },
  {
"cell_type": "code",
	   "execution_count": null,
	   "metadata": {
	    "collapsed": true
	   },
	   "outputs": [],
"source": [
"clc,clear\n",
"printf('Example 5.9\n\n')\n",
"\n",
"V_L=11000  , V_ph= V_L/sqrt(3)\n",
"VA=1000*1000\n",
"I_L=VA/(V_L*sqrt(3))\n",
"\n",
"V_OC_ph=433/sqrt(3)\n",
"I_asc_ph=I_L\n",
"\n",
"Z_s=V_OC_ph /I_asc_ph  //ohms per phase\n",
"R_a=0.45 //ohms per phase\n",
"X_s=sqrt(Z_s^2-R_a^2)\n",
"\n",
"//part(i)\n",
"phi=acos(0.8) //lagging\n",
"E_ph = sqrt((V_ph*cos(phi)+I_L*R_a)^2 +(V_ph*sin(phi)+ I_L*X_s)^2)\n",
"regulation=100*(E_ph-V_ph)/V_ph\n",
"printf('Voltage regulation at 0.8 pf lagging is %f percent\n',regulation)\n",
"\n",
"//part(ii)\n",
"phi=acos(0.8) //leading\n",
"E_ph2 = sqrt((V_ph*cos(phi)+I_L*R_a)^2 +(V_ph*sin(phi)- I_L*X_s)^2)\n",
"regulation2=100*(E_ph2-V_ph)/V_ph\n",
"printf('Voltage regulation at 0.8 pf lagging is %f percent\n',regulation2)\n",
"printf('\nAnswer mismatches due to improper approximation')"
   ]
   }
],
"metadata": {
		  "kernelspec": {
		   "display_name": "Scilab",
		   "language": "scilab",
		   "name": "scilab"
		  },
		  "language_info": {
		   "file_extension": ".sce",
		   "help_links": [
			{
			 "text": "MetaKernel Magics",
			 "url": "https://github.com/calysto/metakernel/blob/master/metakernel/magics/README.md"
			}
		   ],
		   "mimetype": "text/x-octave",
		   "name": "scilab",
		   "version": "0.7.1"
		  }
		 },
		 "nbformat": 4,
		 "nbformat_minor": 0
}
