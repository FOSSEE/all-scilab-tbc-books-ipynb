{
"cells": [
 {
		   "cell_type": "markdown",
	   "metadata": {},
	   "source": [
       "# Chapter 2: DC Motors"
	   ]
	},
{
		   "cell_type": "markdown",
		   "metadata": {},
		   "source": [
			"## Example 2.10: TO_DETERMINE_MOTOR_SPEED_WHEN_FIELD_WINDING_GETS_SHUNTED_BY_A_RESISTANCE.sce"
		   ]
		  },
  {
"cell_type": "code",
	   "execution_count": null,
	   "metadata": {
	    "collapsed": true
	   },
	   "outputs": [],
"source": [
"clc,clear\n",
"printf('Example 2.10\n\n')\n",
"\n",
"V=250\n",
"R_a=0.15, R_se=0.1, R_x=0.1 //Resitance of armature , series field winding and extra resistance\n",
"N_1 = 800 //initial speed before load torque is increased\n",
"I_1= 30 , I_a1=I_1 , I_se1 = I_1  //initial currents\n",
"\n",
"T_2_by_T_1 = 1 + (50/100)  //50 percent increase as mentioned in question\n",
"I_se2_by_I_a2 = R_x/(R_x + R_se)  //from the figure\n",
"\n",
"//T (prop.) phi*I_a (prop.) I_sh*I_a and T_1=T_2 and simplifying ,solving further \n",
"I_a2=sqrt(I_a1*I_se1*T_2_by_T_1/I_se2_by_I_a2) //new armature current\n",
"I_se2 = I_se2_by_I_a2 *I_a2 //new series field current\n",
"\n",
"E_b1 = V - I_a1*R_a - I_se1*R_se //indiced emf initially\n",
"E_b2 = V - I_a2*R_a - I_se2*R_se //new induced emf\n",
"N_2 = N_1 * (E_b2/E_b1) * (I_se1/I_se2) //required speed\n",
"printf('The required running speed of motor is %.3f r.p.m',N_2)"
   ]
   }
,
{
		   "cell_type": "markdown",
		   "metadata": {},
		   "source": [
			"## Example 2.11: TO_DETERMINE_EXTRA_RESISTANCE_THAT_WILL_REDUCE_THE_SPEED.sce"
		   ]
		  },
  {
"cell_type": "code",
	   "execution_count": null,
	   "metadata": {
	    "collapsed": true
	   },
	   "outputs": [],
"source": [
"clc,clear\n",
"printf('Example 2.11\n\n')\n",
"\n",
"V=220\n",
"I_1=50, I_a1=I_1  //Currents before adding extra resistance\n",
"T_2_by_T_1 =0.5\n",
"R_t=0.15 //R_e + R_se =0.15\n",
"\n",
"I_a2 =I_a1 * sqrt(T_2_by_T_1)  //Because T (prop.) I_a^2\n",
"E_b1=V-I_a1*(R_t) //induced emf before adding extra resistance\n",
"N_1=500,N_2=300 //speeds before and adding extra resistance\n",
"//N (prop.) E_b/phi (prop.) E_b/I_a\n",
"E_b2=E_b1 *(I_a2/I_a1)*(N_2/N_1) //induced emf after adding resistance\n",
"R_x= (V-E_b2)/I_a2 -R_t //because E_b2=V - I_a2*(R_a + R_se + R_x)\n",
"printf('Desired extrea resistance= %.4f ohms ',R_x)"
   ]
   }
,
{
		   "cell_type": "markdown",
		   "metadata": {},
		   "source": [
			"## Example 2.12: TO_DETERMINE_CERTAIN_QUANTITIES_RELATED_TO_PERMANENT_MAGNET_DC_MOTOR.sce"
		   ]
		  },
  {
"cell_type": "code",
	   "execution_count": null,
	   "metadata": {
	    "collapsed": true
	   },
	   "outputs": [],
"source": [
"clc,clear\n",
"printf('Example 2.12\n\n')\n",
"\n",
"R_a= 1, I_a=1.2 , V=50\n",
"//part(i)\n",
"E_b = V - I_a*R_a\n",
"rot_loss_NL =E_b*I_a //no load rotational loss \n",
"printf('(i)No load rotational losses = %.2f W',rot_loss_NL)\n",
"\n",
"//part(ii)\n",
"omega_2000=2*%pi*2000/60 //angular velocity when speed of motor =2000 rpm\n",
"K_m=E_b/omega_2000   //to determine K_m\n",
"V=48\n",
"omega_1800=2*%pi*1800/60 //angular velocity when speed of motor =1800 rpm\n",
"E_b=K_m*omega_1800\n",
"I_a = (V-E_b)/R_a  //armature current\n",
"P_dev = E_b*I_a//power developed\n",
"motor_output =  P_dev - rot_loss_NL\n",
"printf('\n(ii)Motor output = %.2f W',motor_output)\n",
"\n",
"//part(iii)\n",
"E_b=0 //when motor stalls\n",
"V_stall=20 //voltage during stalling\n",
"I_a=V_stall/R_a //armature current during stalling\n",
"T_stall = K_m*I_a //stalling torque\n",
"printf('\n(iii)Stalling torque = %.2f N-m',T_stall)\n",
"printf('\n\npart(ii) answer is slightly different due to inaccurate calculation of Power developed')"
   ]
   }
,
{
		   "cell_type": "markdown",
		   "metadata": {},
		   "source": [
			"## Example 2.13: TO_DETERMINE_SPEED_ON_HALF_LOAD_CONDITION.sce"
		   ]
		  },
  {
"cell_type": "code",
	   "execution_count": null,
	   "metadata": {
	    "collapsed": true
	   },
	   "outputs": [],
"source": [
"clc,clear\n",
"printf('Example 2.13\n\n')\n",
"\n",
"V=120\n",
"R_a=0.2 , R_sh=60 //armature and field resistance\n",
"I_L1=40, N_1=1800 \n",
"I_sh= V/R_sh\n",
"\n",
"I_a1=I_L1 - I_sh \n",
"E_b1 = V -I_a1*R_a  //Induced emf at half load\n",
"T2_by_T1 =1/2 \n",
"I_a2=I_a1*(T2_by_T1)   //T (prop.)I_a\n",
"E_b2=V- I_a2*R_a//induced emf at half load\n",
"N_2 = N_1 *(E_b2/E_b1)  //N (prop.) E_b as phi is constant\n",
"printf('Speed on half load condition is %.2f r.p.m',N_2)"
   ]
   }
,
{
		   "cell_type": "markdown",
		   "metadata": {},
		   "source": [
			"## Example 2.14: TO_DETERMINE_CERTAIN_QUANTITIES_RELATED_TO_DC_SHUNT_MOTOR.sce"
		   ]
		  },
  {
"cell_type": "code",
	   "execution_count": null,
	   "metadata": {
	    "collapsed": true
	   },
	   "outputs": [],
"source": [
"clc,clear\n",
"printf('Example 2.14\n\n')\n",
"\n",
"R_a=0.08, E_b1=242 , V=250\n",
"//part(i)\n",
"I_a1= (V-E_b1)/R_a\n",
"printf('(i)Armature current = %.0f A',I_a1)\n",
"\n",
"//part(ii)\n",
"N=0\n",
"E_b=0 //because N=0\n",
"I_a_start=V/R_a\n",
"printf('\n(ii)Starting armature current = %.0f A',I_a_start)\n",
"\n",
"//part(iii)\n",
"I_a2=120\n",
"E_b2=V-I_a2*R_a\n",
"printf('\n(iii)Back emf if armature current is changed to 120 A=   %.1f V',E_b2)\n",
"\n",
"//part(iv)\n",
"I_a=87,N_m=1500\n",
"E_g=V + I_a*R_a //induced emf\n",
"N_g=N_m*(E_g/E_b1)//as E (prop.) N\n",
"printf('\n(iv)Generator speed to deliver 87 A at 250 V = %.1f rpm',N_g)"
   ]
   }
,
{
		   "cell_type": "markdown",
		   "metadata": {},
		   "source": [
			"## Example 2.15: TO_DETERMINE_MECHANICAL_POWER_AND_NOLOAD_SPEED_AND_CURRENT.sce"
		   ]
		  },
  {
"cell_type": "code",
	   "execution_count": null,
	   "metadata": {
	    "collapsed": true
	   },
	   "outputs": [],
"source": [
"clc,clear\n",
"printf('Example 2.15\n\n')\n",
"\n",
"shaft_output = 80*746 //coverted to watts\n",
"eta= 80/100 //efficiency\n",
"V=250\n",
"N_1=1200\n",
"R_a=0.04,R_sh = 250 //armature and shunt field resistance\n",
"power_input = shaft_output/eta\n",
"I_L= power_input /V\n",
"I_sh= V / R_sh\n",
"I_a = I_L - I_sh\n",
"E_b1 = V - I_a*R_a\n",
"\n",
"gross_mechanical_power= E_b1*I_a //electrical equivalent of mechanical power developed\n",
"stray_losses =  gross_mechanical_power - shaft_output\n",
"printf('Mechanical power developed on full load = %.3f kW\n',gross_mechanical_power/1000)\n",
"\n",
"//on no load shaft_output=0 and entire gross power is used to overcome stray losses\n",
"Eb0_Ia0= stray_losses\n",
"//E_b0 = V - I_a0*R_a  ... solving for I_0\n",
"p=[R_a -V Eb0_Ia0]\n",
"roots(p)\n",
"I_a0=ans(2) //first root is ignored since its too large\n",
"I_L0 =I_sh+I_a0 //current drawn from supply\n",
"E_b0 = V - I_a0*R_a \n",
"\n",
"//From speed equation N (prop.) E_b\n",
"N_0 = N_1*(E_b0/E_b1)\n",
"printf('No load speed and current are %.4f rpm and %.2f A respectively',N_0,I_L0)"
   ]
   }
,
{
		   "cell_type": "markdown",
		   "metadata": {},
		   "source": [
			"## Example 2.16: TO_DETERMINE_FULL_LOAD_SPEED.sce"
		   ]
		  },
  {
"cell_type": "code",
	   "execution_count": null,
	   "metadata": {
	    "collapsed": true
	   },
	   "outputs": [],
"source": [
"clc,clear\n",
"printf('Example 2.16\n\n')\n",
"\n",
"V=250, P=4 \n",
"R_a=0.1 , R_sh =124 //armature and shunt field resistance \n",
"I_L0=4,N_0=1200\n",
"I_L_1=61\n",
"I_sh=V/R_sh\n",
"I_a0=I_L0-I_sh\n",
"V_brush= 2 //voltage loss due to brush\n",
"E_b0= V - I_a0*R_a- V_brush\n",
"\n",
"I_a1=I_L_1 - I_sh\n",
"E_b1=V - I_a1*R_a -V_brush\n",
"\n",
"phi1_by_phi0=1-(5/100)   //weakened by 5 %\n",
"N_1 = N_0 *(E_b1/E_b0) /phi1_by_phi0\n",
"\n",
"printf('Full load speed is %.3f r.p.m',N_1)"
   ]
   }
,
{
		   "cell_type": "markdown",
		   "metadata": {},
		   "source": [
			"## Example 2.17: TO_DETERMINE_CERTAIN_QUANTITIES_RELATED_TO_DC_SHUNT_MOTOR.sce"
		   ]
		  },
  {
"cell_type": "code",
	   "execution_count": null,
	   "metadata": {
	    "collapsed": true
	   },
	   "outputs": [],
"source": [
"clc,clear\n",
"printf('Example 2.17\n\n')\n",
"\n",
"V=250\n",
"R_a=0.15 , R_sh=167.67 //armature and shunt field resistance\n",
"N_0=1280 //speed at no load\n",
"\n",
"//full load\n",
"I_L1 = 67  //current drawn on full load\n",
"I_sh = V / R_sh  //as shunt motor\n",
"I_a1= I_L1- I_sh\n",
"E_b1= V - I_a1*R_a\n",
"\n",
"//on no load\n",
"I_L0=6.5\n",
"I_a0 = I_L0 - I_sh\n",
"E_b0 = V - I_a0*R_a\n",
"\n",
"//part(i) USING SPEED EQUATION\n",
"//N (prop.) E_b/phi (prop.)E_b   //as phi is constant\n",
"N_1 = N_0 * (E_b1 / E_b0)\n",
"printf('(i)Full load speed = %.3f r.p.m\n',N_1)\n",
"\n",
"//part(ii)\n",
"speed_regulation = 100* ((N_0-N_1)/N_1)\n",
"//N_1 is full load speed and N_0=No load speed  \n",
"printf('(ii)Speed regulation = %.2f percent \n',speed_regulation )\n",
"\n",
"//part(iii)\n",
"shaft_output_FL = E_b1*I_a1 - E_b0*I_a0  //full load power developed - stray losses\n",
"hp_rating = shaft_output_FL /746\n",
"printf('(iii)HP rating of machine = %.2f h.p\n',hp_rating)\n",
"\n",
"//part(iv)\n",
"power_input= V*I_L1\n",
"eta= 100*(shaft_output_FL/power_input)  //full load efficiency\n",
"printf('(iv)Full load efficiency = %.2f percent',eta)"
   ]
   }
,
{
		   "cell_type": "markdown",
		   "metadata": {},
		   "source": [
			"## Example 2.18: TO_DETERMINE_SPEED_IF_FIELD_WINDING_IS_SHUNTED_BY_ADDITIONAL_RESISTANCE.sce"
		   ]
		  },
  {
"cell_type": "code",
	   "execution_count": null,
	   "metadata": {
	    "collapsed": true
	   },
	   "outputs": [],
"source": [
"clc,clear\n",
"printf('Example 2.18\n\n')\n",
"\n",
"V=200\n",
"R_a=0.5, R_se=0.2, R_x=0.2 //armature and series field resistance; extra resistance\n",
"I_a1=20, I_1=I_a1 , I_se1=I_a1\n",
"I_a2=20, I_2=I_a2\n",
"I_se2= I_2 *(R_x/(R_se+R_x))\n",
"\n",
"E_b1 = V -I_a1*R_a - I_a1*R_se\n",
"E_b2 = V -I_a2*R_a - I_se2*R_se\n",
"\n",
"phi2_by_phi1=70/100\n",
"N_1=1000\n",
"N_2=N_1*(E_b2/E_b1)  /phi2_by_phi1        //N (prop.) E_b/phi\n",
"printf('Required speed is %.2f r.p.m',N_2)"
   ]
   }
,
{
		   "cell_type": "markdown",
		   "metadata": {},
		   "source": [
			"## Example 2.19: TO_DETERMINE_SPEED_IF_FIELD_GROUPS_ARE_ARRANGED_IN_PARALLEL.sce"
		   ]
		  },
  {
"cell_type": "code",
	   "execution_count": null,
	   "metadata": {
	    "collapsed": true
	   },
	   "outputs": [],
"source": [
"clc,clear\n",
"printf('Example 2.19\n\n')\n",
"\n",
"V=110\n",
"P=4\n",
"R_a = 0.1,R=0.01  //A resistance of 0.01 ohms\n",
"R_se=R+R\n",
"\n",
"//case(i)\n",
"I_1=50, I_a1=I_1\n",
"N_1=700\n",
"E_b1 = V -I_a1*(R_a + R_se)\n",
"\n",
"//T (prop.) phi*I_a   from torque equation                                     (1)\n",
"\n",
"//phi_1 (prop.) I_a1                                                           (2)\n",
"//case(ii) when I_a2 gets divided to half\n",
"//phi_2 (prop.) I_a2/2                                                         (3)\n",
"\n",
"//combining (1)(2)(3) and T1=T2\n",
"I_a2 = sqrt(2*I_a1^2)\n",
"R_se_eqvt=(R*R)/(R+R)   //Equavalent of parallel combination\n",
"E_b2 = V - I_a2*R_a - I_a2* R_se_eqvt\n",
"\n",
"//Using speed equation N (prop.) E_b / phi  and using (2) and (3)\n",
"N_2 = N_1 *( E_b2/E_b1) *(I_a1/(I_a2/2))\n",
"printf('Speed after reconnection = %.3f r.p.m\n\n',N_2)"
   ]
   }
,
{
		   "cell_type": "markdown",
		   "metadata": {},
		   "source": [
			"## Example 2.1: TO_DETERMINE_INDUCED_EMF_IN_MOTOR.sce"
		   ]
		  },
  {
"cell_type": "code",
	   "execution_count": null,
	   "metadata": {
	    "collapsed": true
	   },
	   "outputs": [],
"source": [
"clc,clear\n",
"printf('Example 2.1\n\n')\n",
"\n",
"V=220\n",
"I_a=30 //armature currnet\n",
"R_a=0.75 //Armature resistance\n",
"\n",
"E_b=V - I_a*R_a   // Since V= E_b+ I_a*R_a\n",
"printf('Induced EMF or back EMF in the motor is %.1f V',E_b)"
   ]
   }
,
{
		   "cell_type": "markdown",
		   "metadata": {},
		   "source": [
			"## Example 2.20: TO_DETERMINE_NEW_SPEED_AND_ARMATURE_CURRENT_AFTER_RECONNECTION.sce"
		   ]
		  },
  {
"cell_type": "code",
	   "execution_count": null,
	   "metadata": {
	    "collapsed": true
	   },
	   "outputs": [],
"source": [
"clc,clear\n",
"printf('Example 2.20\n\n')\n",
"\n",
"P=4, I_a1= 50, N_1=2000, V=230\n",
"\n",
"//phi_1 is proportioanl to total ampere-turns produced by field coils\n",
"//phi_1 (prop.) I_a1*P*n (prop.) 200*n                                         (1)\n",
"\n",
"//After reconnection, phi_2 proportional to ampere turns divided as follows\n",
"//phi_2 (prop.) [I_a2/2*2*n + I_a2/2*2*n]  (prop.) 2*n*I_a2                    (2)\n",
"\n",
"// Dividing (1) and (2) , (phi_1/phi_2)=100 / I_a2                             (3)\n",
"\n",
"//T (prop.) phi*I_a AND T (prop.) N^2                                          (4),(5)\n",
"//therefore N^2 (prop.) phi*I_a                                                (6)\n",
"\n",
"//N (prop.) E_b/phi (prop.) 1/phi   ..\n",
"//Because drops across windings can be neglected, E_b1=E_b2\n",
"//therefore N (prop.) 1/phi                                                    (7)\n",
"\n",
"//Using (7) and (6) phi^3 (prop.) 1/I_a                                        (8)\n",
"\n",
"//combining (3) and (8)\n",
"I_a2 =  (50*100^3)^(1/4)    //new armature current\n",
"printf('New armature current= %.3f A\n',I_a2)\n",
"//combining (6) and (7)   , N^3 (prop.) I_a1\n",
"N_2=N_1 *(I_a2/I_a1)^(1/3)\n",
"printf('New motor speed =%.3f r.p.m',N_2)"
   ]
   }
,
{
		   "cell_type": "markdown",
		   "metadata": {},
		   "source": [
			"## Example 2.21: EX2_21.sce"
		   ]
		  },
  {
"cell_type": "code",
	   "execution_count": null,
	   "metadata": {
	    "collapsed": true
	   },
	   "outputs": [],
"source": [
"clc,clear\n",
"printf('Example 2.21\n\n')\n",
"\n",
"//  K_1= E_b/N   = (phi*P*Z)/(60*A)\n",
"\n",
"//P_m = T * omega\n",
"//E_b*I_a = T *(2*%pi*N/60)\n",
"//T= I_a  (E_b*60 / 2*%pi*N ) \n",
"//Use E_b= phi*P*N*Z/(2*%pi*A)\n",
"//T / I_a = phi*P*Z / (2*%pi*A)  =K_dasah\n",
"\n",
"printf('The constant of proportionality in both the cases is  K=K_dash = phi*P*Z /(2*3.142*A)')"
   ]
   }
,
{
		   "cell_type": "markdown",
		   "metadata": {},
		   "source": [
			"## Example 2.22: TO_CALCULATE_EXTRA_RESISTANCE_TO_REDUCE_THE_SPEED.sce"
		   ]
		  },
  {
"cell_type": "code",
	   "execution_count": null,
	   "metadata": {
	    "collapsed": true
	   },
	   "outputs": [],
"source": [
"clc,clear\n",
"printf('Example 2.22\n\n')\n",
"\n",
"V=200,I_a1=30\n",
"R_t=1.5  //R_a + R_se\n",
"E_b1= V - I_a1*R_t\n",
"N2_by_N1=(60/100)\n",
"\n",
"//T (prop.) I_a^2  and T (prop.) N_3....therefore I_a^2 (prop.) N^3\n",
"I_a2  = I_a1*sqrt(N2_by_N1^3)\n",
"\n",
"//N (prop.) E_b/I_a\n",
"N2_by_N1\n",
"E_b2 = E_b1 *(I_a2/I_a1)*N2_by_N1\n",
"R_x= (V- E_b2)/I_a2 - R_t        //because E_b2= V - I_a2*(R_x+R_t)\n",
"printf('Additional resistance to be added in series with motor circuit = %.3f ohms',R_x)"
   ]
   }
,
{
		   "cell_type": "markdown",
		   "metadata": {},
		   "source": [
			"## Example 2.23: TO_DETERMINE_ADDITIONAL_RESISTANCE_IN_FIELD_CIRCUIT_TO_RAISE_THE_SPEED.sce"
		   ]
		  },
  {
"cell_type": "code",
	   "execution_count": null,
	   "metadata": {
	    "collapsed": true
	   },
	   "outputs": [],
"source": [
"clc,clear\n",
"printf('Example 2.23\n\n')\n",
"\n",
"V=250, \n",
"R_a=0.4 , R_sh=100 //armature and shunt field resistance\n",
"I_sh1=V / R_sh\n",
"P_out_FL = 10 * 735.5\n",
"eta=85/100 //efficiency\n",
"P_in= P_out_FL/eta\n",
"I_L1= P_in /V\n",
"I_a1= I_L1 - I_sh1\n",
"\n",
"// T (prop.) phi*I_a (prop.) I_sh*I_a    because phi (prop.) I_sh\n",
"//Bu torque is constant.. \n",
"Ia2_Ish2= I_a1*I_sh1\n",
"E_b1= V - I_a1*R_a\n",
"\n",
"//N (prop.) E_b/I_sh\n",
"//put E_b2= V - I_a2*R_a  and solving further for I_sh2 we get, I_sh2^2 - 1.8824 I_sh2 +0.2417=0\n",
"p=[1 -1.8824 0.2417]\n",
"roots(p) \n",
"I_sh2=ans(1)\n",
"//root 1 was considered because its always easier to attain root(1) because less resistacne is needeed\n",
"//R_x in series with field\n",
"R_x = (V/I_sh2) -R_sh   //because I_sh2 = V/(R_sh + R_x)\n",
"printf('Extra Resistance to be added  = %.2f ohms',R_x)"
   ]
   }
,
{
		   "cell_type": "markdown",
		   "metadata": {},
		   "source": [
			"## Example 2.24: TO_DETERMINE_SUPPLY_VOLTAGE_REQUIRED_TO_RAISE_FAN_SPEED.sce"
		   ]
		  },
  {
"cell_type": "code",
	   "execution_count": null,
	   "metadata": {
	    "collapsed": true
	   },
	   "outputs": [],
"source": [
"clc,clear\n",
"printf('Example 2.24\n\n')\n",
"\n",
"R_t=1 //R_t = R_se + R_a\n",
"V_1= 230\n",
"N_1=300,N_2=375\n",
"I_1=15, I_a1=I_1\n",
"\n",
"//T (prop.) I_a^2  and T (prop.) N_2....therefore I_a^2 (prop.) N^2\n",
"I_a2=I_a1 *(N_2/N_1)\n",
"E_b1 = V_1 - I_a1*(R_t)\n",
"\n",
"//N (prop.) E_b/I_a\n",
"E_b2= E_b1*(I_a2/I_a1)*(N_2/N_1)\n",
"V_2=E_b2 + I_a2* (R_t)  //because E_b2 = V_2 - I_a2*(R_a+R_se)\n",
"printf('Voltage supply needed = %.4f V',V_2)"
   ]
   }
,
{
		   "cell_type": "markdown",
		   "metadata": {},
		   "source": [
			"## Example 2.25: EX2_25.sce"
		   ]
		  },
  {
"cell_type": "code",
	   "execution_count": null,
	   "metadata": {
	    "collapsed": true
	   },
	   "outputs": [],
"source": [
"clc,clear\n",
"printf('Example 2.25\n\n')\n",
"\n",
"I_L1=30,V=230\n",
"R_sh=230,R_a=1\n",
"I_sh= V / R_sh\n",
"I_a1= I_L1 - I_sh\n",
"E_b1 = V - I_a1*R_a\n",
"\n",
"//T (prop.) phi*I_a (prop.) I_a   as phi is constant\n",
"//and torque is constant\n",
"I_a2 = I_a1\n",
"N2_by_N1= 1/2\n",
"//N (prop.) E_b/phi (prop.) E_b\n",
"E_b2= E_b1 *(N2_by_N1)\n",
"R_x= (V- E_b2)/I_a2 - R_a     //Because E_b2 = V - I_a2*(R_a + R_x)\n",
"printf('Resistance to be inserted in series = %.4f ohms ',R_x)"
   ]
   }
,
{
		   "cell_type": "markdown",
		   "metadata": {},
		   "source": [
			"## Example 2.26: TO_CALCULATE_TORQUE_ALTERED_DUE_TO_CHANGES_IN_FIELD_FLUX_AND_ARMATURE_CURRENT.sce"
		   ]
		  },
  {
"cell_type": "code",
	   "execution_count": null,
	   "metadata": {
	    "collapsed": true
	   },
	   "outputs": [],
"source": [
"clc,clear\n",
"printf('Example 2.26\n\n')\n",
"\n",
"T_1=40  //initial torque\n",
"//phi_1 is initial flux\n",
"//phi_2 is new flux\n",
"//T_2 is new torque\n",
"//I_a1 is initial current\n",
"//I_a2 is new current\n",
"phi2_by_phi1 = 1- (30/100)  //decrease by 30 percent\n",
"Ia2_by_Ia1=1+(15/100)       //increase by 15 percent\n",
"\n",
"//T (prop.)phi*I_a\n",
"T_2=T_1*(phi2_by_phi1)*(Ia2_by_Ia1)\n",
"printf('New torque is %.1f N-m',T_2)"
   ]
   }
,
{
		   "cell_type": "markdown",
		   "metadata": {},
		   "source": [
			"## Example 2.27: EX2_27.sce"
		   ]
		  },
  {
"cell_type": "code",
	   "execution_count": null,
	   "metadata": {
	    "collapsed": true
	   },
	   "outputs": [],
"source": [
"clc,clear\n",
"printf('Example 2.27\n\n')\n",
"\n",
"V=230\n",
"N_1=1000,N_2=950\n",
"R_a=0.5, R_sh=230 //armature and shunt field resistance\n",
"I_L1=10\n",
"\n",
"I_sh = V/R_sh\n",
"I_a1 = I_L1 - I_sh\n",
"\n",
"//T (prop.) phi*I_a  (prop.) I_a with phi constant and T is constant due to full-load\n",
"I_a2=I_a1\n",
"\n",
"E_b1 = V - I_a1*R_a\n",
"E_b2=E_b1*(N_2/N_1) //N (prop.) E_b /phi (prop.) E_b   as phi is constant\n",
"\n",
"R_x = (V-E_b2)/I_a2  -R_a      \n",
"printf('Resistance to be inserted in series with armature = %.4f ohms',R_x)"
   ]
   }
,
{
		   "cell_type": "markdown",
		   "metadata": {},
		   "source": [
			"## Example 2.28: TO_DETERMINE_SPEED_WHEN_DC_SHUNT_MOTOR_GETS_LOADED.sce"
		   ]
		  },
  {
"cell_type": "code",
	   "execution_count": null,
	   "metadata": {
	    "collapsed": true
	   },
	   "outputs": [],
"source": [
"clc,clear\n",
"printf('Example 2.28\n\n')\n",
"\n",
"V=250,N_0=1000,I_0=5\n",
"R_a=0.2,R_sh=250 //armature and shunt field resistance\n",
"I_L=50 //on no load\n",
"I_sh=V / R_sh\n",
"I_a0 = I_0 - I_sh\n",
"I_a  = I_L - I_sh\n",
"E_b0 = V- I_a0*R_a\n",
"E_b1 = V- I_a *R_a\n",
"\n",
"phi1_by_phi0 =1-(3/100) //weakens by 3 percent\n",
"//N (prop.) E_b/phi\n",
"N_1 = N_0 *(E_b1/E_b0) /phi1_by_phi0\n",
"printf('Speed when loaded and drawing 50A current is %.3f r.p.m',N_1)"
   ]
   }
,
{
		   "cell_type": "markdown",
		   "metadata": {},
		   "source": [
			"## Example 2.29: TO_DETERMINE_SPEED_AND_TORQUE_DEVELOPED_AT_FULL_LOAD_WHEN_NO_LOAD_FLUX_WEAKENS.sce"
		   ]
		  },
  {
"cell_type": "code",
	   "execution_count": null,
	   "metadata": {
	    "collapsed": true
	   },
	   "outputs": [],
"source": [
"clc,clear\n",
"printf('Example 2.29\n\n')\n",
"\n",
"V=230,I_a0=3.3\n",
"R_a=0.3,R_sh=160 //armature and shunt field resistance \n",
"I_L1=40,N_0=1000\n",
"E_b0 = V - I_a0*R_a\n",
"I_sh=V/ R_sh\n",
"I_a1 = I_L1 - I_sh\n",
"E_b1 = V - I_a1*R_a\n",
"phi1_by_phi0= 1- (4/100) //weakening by 4 percent \n",
"\n",
"N_1 = N_0 *(E_b1/E_b0)/(phi1_by_phi0)  //because N (prop.) E_b/phi\n",
"printf('Full load speed is %.4f rpm\n',N_1)\n",
"T_0 = E_b0*I_a0/(2*%pi*N_0/60)\n",
"T_1 = T_0*(I_a1/I_a0)*phi1_by_phi0   // because T (prop.) phi*I_a\n",
"printf('Full load developed torque is %.4f N-m',T_1)"
   ]
   }
,
{
		   "cell_type": "markdown",
		   "metadata": {},
		   "source": [
			"## Example 2.2: TO_CALCULATE_BACK_EMF_AND_MOTOR_SPEED.sce"
		   ]
		  },
  {
"cell_type": "code",
	   "execution_count": null,
	   "metadata": {
	    "collapsed": true
	   },
	   "outputs": [],
"source": [
"clc,clear\n",
"printf('Example 2.2\n\n')\n",
"\n",
"Pole=4\n",
"A=Pole //for lap winding\n",
"V=230\n",
"Z=250 //number of armature conductors\n",
"phi=30*10^-3 //flux per pole in weber\n",
"I_a=40,R_a=0.6 //Armature resistance\n",
" \n",
"E_b=V - I_a*R_a   // Since V= E_b+ I_a*R_a\n",
"N=E_b * 60*A/(phi*Pole*Z)   //because E_b = phi*P*N*Z/(60*A)\n",
"printf('Back emf is %.0f V and running speed is %.0f rpm',E_b,N)"
   ]
   }
,
{
		   "cell_type": "markdown",
		   "metadata": {},
		   "source": [
			"## Example 2.30: EX2_30.sce"
		   ]
		  },
  {
"cell_type": "code",
	   "execution_count": null,
	   "metadata": {
	    "collapsed": true
	   },
	   "outputs": [],
"source": [
"clc,clear\n",
"printf('Example 2.30\n\n')\n",
"\n",
"V=220\n",
"I_L=52\n",
"N_1=750, N_2=600\n",
"R_a=0.2, R_sh = 110 //armature and shunt field resistance\n",
"\n",
"I_sh=V/ R_sh\n",
"I_a1= I_L - I_sh\n",
"I_a2=I_a1//T (prop.) I_a  and T is constant\n",
"E_b1 = V - I_a1*R_a\n",
"\n",
"//N (prop.) E_b/phi (prop.) E_b\n",
"E_b2 = E_b1*(N_2/N_1)\n",
"R_x  = (V- E_b2)/I_a2 -R_a  //Because E_b2 = V - I_a2*(R_a+R_x)\n",
"printf('Resistance to be connected in series = %.2f ohms\n',R_x)\n",
"\n",
"//After R_x gets connected in series with armature and 110 ohms in series with field winding\n",
"N_1=600\n",
"I_sh2=V /(R_sh+110)\n",
"I_a1=50,I_sh1=2,I_sh2=1\n",
"//T (prop.) I_a*I_sh and T doesn't vary\n",
"I_a2 = I_a1*(I_sh1/I_sh2)\n",
"E_b1 = V - I_a1*(R_a+R_x)\n",
"E_b2 = V - I_a2*(R_a+R_x)\n",
"N_2 = N_1*(E_b2/E_b1)*(I_sh1/I_sh2) //Because N (prop.) E_b/I_sh\n",
"printf('New speed= %.3f rpm',N_2)"
   ]
   }
,
{
		   "cell_type": "markdown",
		   "metadata": {},
		   "source": [
			"## Example 2.31: EX2_31.sce"
		   ]
		  },
  {
"cell_type": "code",
	   "execution_count": null,
	   "metadata": {
	    "collapsed": true
	   },
	   "outputs": [],
"source": [
"clc,clear\n",
"printf('Example 2.31\n\n')\n",
"\n",
"V=230\n",
"R_a=0.15,R_sh=250 //armature and shunt field resistance\n",
"I_a1=50, I_a2= 80\n",
"N_1=800, N_2=1000\n",
"I_sh1= V / R_sh\n",
"\n",
"E_b1 = V - I_a1*R_a\n",
"E_b2 = V - I_a2*R_a\n",
"\n",
"I_sh2=I_sh1*(E_b2/E_b1)*(N_1/N_2) //Because N (prop.) E_b/ I_sh\n",
"R_x= (V/I_sh2 ) - R_sh    //because I_sh2 = V /(R_x+ R_sh)\n",
"printf('Resistance to be added is \n\nR_x=%.0f ohms',R_x)"
   ]
   }
,
{
		   "cell_type": "markdown",
		   "metadata": {},
		   "source": [
			"## Example 2.32: EX2_32.sce"
		   ]
		  },
  {
"cell_type": "code",
	   "execution_count": null,
	   "metadata": {
	    "collapsed": true
	   },
	   "outputs": [],
"source": [
"clc,clear\n",
"printf('Example 2.32\n\n')\n",
"\n",
"V=230,R_a=0.5\n",
"N_1=800,N_2=600\n",
"I_a2 =20 , I_a1=I_a2\n",
"E_b1 = V - I_a1*R_a\n",
"\n",
"//N (prop.) E_b/phi (prop.) E_b         as phi is constant\n",
"E_b2=E_b1 *(N_2/N_1)\n",
"//additional resistance required\n",
"R_x = (V -E_b2)/I_a2  - R_a   //because E_b2 = V - I_a2*(R_a+R_x)\n",
"printf('Additional resistance required = %.2f ohms ',R_x)"
   ]
   }
,
{
		   "cell_type": "markdown",
		   "metadata": {},
		   "source": [
			"## Example 2.33: EX2_33.sce"
		   ]
		  },
  {
"cell_type": "code",
	   "execution_count": null,
	   "metadata": {
	    "collapsed": true
	   },
	   "outputs": [],
"source": [
"clc,clear\n",
"printf('Example 2.33\n\n')\n",
"\n",
"V=220\n",
"R_a=0.5,R_x=5 //armature resistacne and extra resistance\n",
"I_1=15, I_se1=I_1, I_se2=I_se1 , I_2=I_se2\n",
"N_1=800\n",
"\n",
"E_b1 = V - I_1*R_a\n",
"E_b2 = V - I_2*(R_a+R_x)\n",
"\n",
"N_2= N_1*(E_b2/E_b1)*(I_se1/I_se2) //because N (prop.) E_b/I_se\n",
"printf('New speed of rotor = %.3f r.p.m',N_2)"
   ]
   }
,
{
		   "cell_type": "markdown",
		   "metadata": {},
		   "source": [
			"## Example 2.34: EX2_34.sce"
		   ]
		  },
  {
"cell_type": "code",
	   "execution_count": null,
	   "metadata": {
	    "collapsed": true
	   },
	   "outputs": [],
"source": [
"clc,clear\n",
"printf('Example 2.34\n\n')\n",
"\n",
"V=250, I_a1=20, R_a=0.5\n",
"N_1=1000, N_2=500\n",
"\n",
"//T (prop.) I_a and T_1=T_2\n",
"I_a2=I_a1\n",
"E_b1 = V - I_a1*R_a\n",
"\n",
"//N (prop.) E_b\n",
"E_b2= E_b1 *(N_2/N_1)\n",
"R_x= (V-E_b2)/I_a2 - R_a   //because E_b2 = V - I_a2*(R_a+R_x)\n",
"printf('Additional resistance = %.0f ohms',R_x)\n",
"T3_by_T2=0.5   //torque is halved\n",
"I_a3= I_a2 *(T3_by_T2)   //new armature current\n",
"E_b3 = V - I_a3*(R_x + R_a)\n",
"N_3=E_b3*N_2 / E_b2 //N (prop.) E_b\n",
"printf('\nNew speed = %.3f rpm',N_3)"
   ]
   }
,
{
		   "cell_type": "markdown",
		   "metadata": {},
		   "source": [
			"## Example 2.35: TO_CALCULATE_SPEED_AND_USEFUL_TORQUE_ON_FULL_LOAD.sce"
		   ]
		  },
  {
"cell_type": "code",
	   "execution_count": null,
	   "metadata": {
	    "collapsed": true
	   },
	   "outputs": [],
"source": [
"clc,clear\n",
"printf('Example 2.35\n\n')\n",
"\n",
"P_out= 100*735.5\n",
"V=500\n",
"P=4\n",
"A=2// due to wave winding\n",
"Z=492 //no of conductors\n",
"phi=50*10^-3 //flux per pole\n",
"eta=92/100 //efficiency\n",
"P_in= P_out/eta\n",
"R_a=0.1 , R_sh=250 //amature and shunt field resistance\n",
"\n",
"I_L=P_in/V\n",
"I_sh = V/ R_sh\n",
"I_a = I_L - I_sh\n",
"E_b = V - I_a*R_a\n",
"N=E_b*60*A/(phi*P*Z)  //because E_b=  phi*P*N*Z/(60*A)\n",
"\n",
"T_sh= P_out/(2*%pi*N/60) //Useful torque\n",
"printf('(i)Speed at full load = %.4f rpm',N)\n",
"printf('\n(ii)Useful torque = %.2f N-m',T_sh)\n",
"printf('\n\nAnswer mismatches due to improper approximation')"
   ]
   }
,
{
		   "cell_type": "markdown",
		   "metadata": {},
		   "source": [
			"## Example 2.36: EX2_36.sce"
		   ]
		  },
  {
"cell_type": "code",
	   "execution_count": null,
	   "metadata": {
	    "collapsed": true
	   },
	   "outputs": [],
"source": [
"clc,clear\n",
"printf('Example 2.36\n\n')\n",
"\n",
"N_1=1000\n",
"I_1=50,I_a1=I_1\n",
"V=250\n",
"R_x=4.4, R_t=0.6   //R_t = R_a+R_se\n",
"E_b1=V - I_a1*(R_t)\n",
"\n",
"//T (prop.)I_a^2  , T (prop.) N^2  .... hence N (prop.) I_a\n",
"//N (prop.) E_b /I_a\n",
"//combining both , E_b (prop.) I_a^2\n",
"//using E_b2 = V - I_a2*(R_a + R_se + R_x) and solving for I_a2 , we get 0.088 I_a2^2 +5 I_a2 -250=0\n",
"p=[0.088 5 -250] \n",
"roots(p)\n",
"I_a2=ans(2) //root(1) is ignored as it is -ve\n",
"E_b2 = V - I_a2*(R_t + R_x) \n",
"N_2=N_1*(E_b2/E_b1)*(I_a1/I_a2)\n",
"printf('Motor speed = %.2f r.p.m',N_2)"
   ]
   }
,
{
		   "cell_type": "markdown",
		   "metadata": {},
		   "source": [
			"## Example 2.37: EX2_37.sce"
		   ]
		  },
  {
"cell_type": "code",
	   "execution_count": null,
	   "metadata": {
	    "collapsed": true
	   },
	   "outputs": [],
"source": [
"clc,clear\n",
"printf('Example 2.37\n\n')\n",
"\n",
"V=250, I_a1=20\n",
"R_sh= 250,R_a=0.5 //shunt field and armature resistance\n",
"I_sh1= V / R_sh\n",
"E_b1 = V - I_a1*R_a\n",
"\n",
"//T (prop.) phi*I_a (prop.) I_sh*I_a\n",
"//since T_1 = T_2, I_sh2_I_a2 = I_sh1*I_a1  \n",
"I_sh2_I_a2 = I_sh1*I_a1  //=20\n",
"\n",
"//N (prop.) E_b/I_sh\n",
"//E_b1 = V - I_a1*R_a\n",
"//Solving further for I_a2, we get I_a2^2 -500 I_a2 + 12800\n",
"p=[1 -500 12800]\n",
"roots(p)\n",
"I_a2=ans(2) //higher root is neglected\n",
"I_sh2= I_sh2_I_a2 / I_a2\n",
"R_x= (V / I_sh2) - R_sh //resistance to be inserted in shunt field\n",
"printf('Resistance to be inserted = %.4f ohms ',R_x)"
   ]
   }
,
{
		   "cell_type": "markdown",
		   "metadata": {},
		   "source": [
			"## Example 2.38: TO_DETERMINE_TORQUES_BEFORE_AND_AFTER_FIELD_WEAKENING.sce"
		   ]
		  },
  {
"cell_type": "code",
	   "execution_count": null,
	   "metadata": {
	    "collapsed": true
	   },
	   "outputs": [],
"source": [
"clc,clear\n",
"printf('Example 2.38\n\n')\n",
"\n",
"V=250, N_1=1000\n",
"I_L1=25\n",
"R_a=0.2, R_sh=250 //armature and shunt field resistance\n",
"V_brush= 1 //voltage drop due to brushes\n",
"\n",
"I_sh1 = V/R_sh\n",
"I_a1= I_L1 - I_sh1\n",
"E_b1= V- I_a1*R_a - 2 *V_brush\n",
"\n",
"//when loaded\n",
"I_L2=50\n",
"I_sh2=I_sh1   //as flux weakensby armature reaction,shunt field current remains same \n",
"I_a2= I_L2 - I_sh2\n",
"E_b2= V- I_a2*R_a - 2 *V_brush\n",
"\n",
"phi2_by_phi1= 1- (3/100)  //weakens by 3 percent\n",
"N_2= N_1*(E_b2/E_b1)/ phi2_by_phi1   //N (prop.) E_b/phi\n",
"printf('New speed = %.3f rpm',N_2)\n",
"T_1= E_b1*I_a1/(2*%pi*N_1/60)\n",
"T_2= E_b2*I_a2/(2*%pi*N_2/60)\n",
"printf('\nTorque before field weakening = %.4f N-m',T_1)\n",
"printf('\nTorque after  field weakening = %.4f N-m',T_2)"
   ]
   }
,
{
		   "cell_type": "markdown",
		   "metadata": {},
		   "source": [
			"## Example 2.39: TO_DETERMINE_STALLING_TORQUE_AND_TORQUES_ON_FULL_LOAD_AND_DOUBLE_FULL_LOAD.sce"
		   ]
		  },
  {
"cell_type": "code",
	   "execution_count": null,
	   "metadata": {
	    "collapsed": true
	   },
	   "outputs": [],
"source": [
"clc,clear\n",
"printf('Example 2.39\n\n')\n",
"\n",
"V=220\n",
"R_a=0.5, R_x=1 //armature resistance and extra resistance\n",
"N_FL=500 //full load speed in r.p.m\n",
"I_a_FL=30\n",
"\n",
"//part(i)   Full load \n",
"E_b_FL= V- I_a_FL * R_a\n",
"//T (prop.) I_a... T is constant\n",
"I_a_dash_FL = I_a_FL \n",
"E_b_dash_FL =  V- I_a_dash_FL * (R_a+R_x)\n",
"//N (prop.) E_b/phi   (prop.) E_b\n",
"N_dash_FL = N_FL*(E_b_dash_FL/E_b_FL)\n",
"printf('(i)Speed at full load torque =%.4f r.p.m\n',N_dash_FL)\n",
"\n",
"//part(ii)\n",
"T2_by_T1 = 2\n",
"I_a_dash_FL  =  I_a_FL  *(T2_by_T1)\n",
"E_b_dash_FL =  V- I_a_dash_FL * (R_a+R_x)\n",
"N_dash_FL = N_FL*(E_b_dash_FL/E_b_FL)\n",
"printf('(ii)Speed at double full load torque =%.3f r.p.m\n',N_dash_FL)\n",
"\n",
"//part(iii) ...stalling\n",
"E_b=0 //as speed is zero in case of stalling torque\n",
"I_a_stall=(V-E_b)/(R_a+R_x)\n",
"T_FL = E_b_FL * I_a_FL/(2*%pi*N_FL/60)\n",
"T_stall = T_FL *(I_a_stall/ I_a_FL)\n",
"printf('(iii)Stalling torque = %.3f Nm',T_stall)"
   ]
   }
,
{
		   "cell_type": "markdown",
		   "metadata": {},
		   "source": [
			"## Example 2.3: TO_DETERMINE_GROSS_TORQUE_DEVELOPED_BY_MOTOR_ARMATUTRE.sce"
		   ]
		  },
  {
"cell_type": "code",
	   "execution_count": null,
	   "metadata": {
	    "collapsed": true
	   },
	   "outputs": [],
"source": [
"clc,clear\n",
"printf('Example 2.3\n\n')\n",
"\n",
"Pole=4\n",
"A=Pole //for lap winding\n",
"Z=480//number of armature conductors\n",
"phi=20*10^-3 //flux per pole in weber\n",
"I_a=50 //Armature current\n",
"T_a = 0.159*phi*I_a*Pole*Z/A  //Gross torque developed by armature\n",
"printf('Gross torque developed by armature is %.3f N-m',T_a)"
   ]
   }
,
{
		   "cell_type": "markdown",
		   "metadata": {},
		   "source": [
			"## Example 2.40: TO_DETERMINE_SPEED_OF_MOTOR_FULL_LOAD_TORQUE_AND_MULTIPLES_OF_FULL_LOAD_TORQUE.sce"
		   ]
		  },
  {
"cell_type": "code",
	   "execution_count": null,
	   "metadata": {
	    "collapsed": true
	   },
	   "outputs": [],
"source": [
"clc,clear\n",
"printf('Example 2.40\n\n')\n",
"\n",
"V=230, I_a1=30\n",
"R_a=0.4,R_x=1.1//armature resistance and extra resistance\n",
"N_1=500\n",
"\n",
"//part(i)\n",
"E_b1= V - I_a1*R_a\n",
"I_a2 = I_a1 //I_a is constant as T, phi are constant\n",
"E_b2= V - I_a2*(R_a+R_x)\n",
"N_2 = N_1 *(E_b2/E_b1) //Because N (prop.) E_b/phi (prop.) E_b\n",
"printf('(i)Speed at full load torque = %.3f r.p.m\n',N_2)\n",
"\n",
"//part(ii)\n",
"T2_by_T1=1.5\n",
"I_a2= I_a1 * T2_by_T1\n",
"E_b2= V - I_a2*(R_a+R_x)\n",
"N_2 = N_1 *(E_b2/E_b1) //Because N (prop.) E_b/phi (prop.) E_b\n",
"printf('(ii)Speed at 1.5 times full load torque = %.3f r.p.m\n',N_2)"
   ]
   }
,
{
		   "cell_type": "markdown",
		   "metadata": {},
		   "source": [
			"## Example 2.4: TO_DETERMINE_CERTAIN_QUANTITIES_RELATED_TO_LAP_WOUND_DC_MOTOR.sce"
		   ]
		  },
  {
"cell_type": "code",
	   "execution_count": null,
	   "metadata": {
	    "collapsed": true
	   },
	   "outputs": [],
"source": [
"clc,clear\n",
"printf('Example 2.4\n\n')\n",
"\n",
"Pole=4\n",
"A=Pole //for lap winding\n",
"V=230,R_a=0.8 //Armature resistance\n",
"N_0=1000 //no load speed in rpm\n",
"Z=540 //number of armature conductors\n",
"phi=25*10^-3 //flux per pole in weber\n",
"E_b0 = phi*Pole*N_0*Z/(60*A)  //induced emf\n",
"\n",
"//part(i)\n",
"printf('(i)Induced e.m.f = %.0f V\n',E_b0)\n",
"//part(ii)\n",
"I_a0 = (V- E_b0)/R_a  //because V= E_b0+ I_a0*R_a\n",
"printf('(ii)Armature current = %.2f A\n',I_a0)\n",
"//part(iii)\n",
"stray_losses = E_b0*I_a0  //on no load ,power developed is fully power required to overcome strya losses\n",
"printf('(iii)Stray loss = %.2f W\n',stray_losses)\n",
"//part(iv)\n",
"T_f = E_b0*I_a0/(2*%pi*N_0/60)  //lost torque\n",
"printf('(iv)Lost torque = %.3f N-m\n',T_f)"
   ]
   }
,
{
		   "cell_type": "markdown",
		   "metadata": {},
		   "source": [
			"## Example 2.5: TO_CALCULATE_SPEED_WHEN_MOTOR_DRAWS_60_A_FROM_SUPPLY.sce"
		   ]
		  },
  {
"cell_type": "code",
	   "execution_count": null,
	   "metadata": {
	    "collapsed": true
	   },
	   "outputs": [],
"source": [
"clc,clear\n",
"printf('Example 2.5\n\n')\n",
"\n",
"Pole=4\n",
"Z=200 //No of armature conductors\n",
"A=2 //wave connected armature\n",
"V=250\n",
"phi=25*10^-3 //flux per pole in weber\n",
"I_a =60, I_L =I_a  //armature current\n",
"R_a=0.15, R_se=0.2 //resistances of armature and series field winding\n",
"E_b= V - I_a*(R_a+R_se)  //induced emf\n",
"N=E_b * 60*A/(phi*Pole*Z)   //because E_b = phi*P*N*Z/(60*A)\n",
"printf('Required speed is %.0f r.p.m',N)"
   ]
   }
,
{
		   "cell_type": "markdown",
		   "metadata": {},
		   "source": [
			"## Example 2.6: TO_DETERMINE_ARMATURE_CURRENT_AND_BACK_EMF.sce"
		   ]
		  },
  {
"cell_type": "code",
	   "execution_count": null,
	   "metadata": {
	    "collapsed": true
	   },
	   "outputs": [],
"source": [
"clc,clear\n",
"printf('Example 2.6\n\n')\n",
"\n",
"V=250\n",
"I_L =20 //load current\n",
"R_a=0.3, R_sh=200 //Armature and shunt field winding\n",
"I_sh=V/R_sh //shunt current\n",
"I_a=I_L-I_sh //armature current\n",
"E_b= V - I_a*R_a //emf generated\n",
"printf('Armature current is %.2f A\n',I_a)\n",
"printf('Back e.m.f is %.3f V',E_b)"
   ]
   }
,
{
		   "cell_type": "markdown",
		   "metadata": {},
		   "source": [
			"## Example 2.7: TO_DETERMINE_SPEED_ON_FULL_LOAD.sce"
		   ]
		  },
  {
"cell_type": "code",
	   "execution_count": null,
	   "metadata": {
	    "collapsed": true
	   },
	   "outputs": [],
"source": [
"clc,clear\n",
"printf('Example 2.7\n\n')\n",
"\n",
"V=220,R_a=0.3,R_sh=110 //resistance of armature and shunt field winding\n",
"//no load\n",
"N_0=1000 //no load speed in r.p.m\n",
"I_L0 =6 //line current on no load\n",
"I_sh= V/R_sh //no load shnt current\n",
"I_a0 = I_L0 - I_sh //no load armature current\n",
"E_b0= V - I_a0*R_a //no load induced emf\n",
"\n",
"//full load\n",
"I_sh_FL= V/R_sh\n",
"I_L_FL=50 //line current at full load\n",
"I_a_FL= I_L_FL - I_sh_FL//full load armature current\n",
"E_b_FL= V - I_a_FL * R_a //full load induced emf\n",
"//using speed equation, as treating phi as constant\n",
"N_FL=N_0 * (E_b_FL/E_b0)\n",
"printf('Speed on full load is %.2f r.p.m',N_FL)"
   ]
   }
,
{
		   "cell_type": "markdown",
		   "metadata": {},
		   "source": [
			"## Example 2.8: TO_DETERMINE_SPEED_OF_MOTOR_WITH_ALTERED_LOAD.sce"
		   ]
		  },
  {
"cell_type": "code",
	   "execution_count": null,
	   "metadata": {
	    "collapsed": true
	   },
	   "outputs": [],
"source": [
"clc,clear\n",
"printf('Example 2.8\n\n')\n",
"\n",
"R_a=0.2, R_se =0.3 //Resistance of armature and series field winding\n",
"//following variables correspond to load 1\n",
"V=250\n",
"N_1=800\n",
"I_1=20, I_a1=I_1,I_se1= I_a1\n",
"E_b1= V - I_a1*(R_a+R_se)\n",
"//following variables correspond to load 2\n",
"I_2=50, I_a2=I_2\n",
"E_b2= V - I_a2*(R_a+R_se)\n",
"\n",
"//from speed equation it can be derived that,\n",
"N_2 = N_1 * (E_b2/E_b1) * (I_a1/I_a2)\n",
"printf('Speed on motor on no load  is %.0f r.p.m',N_2)"
   ]
   }
,
{
		   "cell_type": "markdown",
		   "metadata": {},
		   "source": [
			"## Example 2.9: EX2_9.sce"
		   ]
		  },
  {
"cell_type": "code",
	   "execution_count": null,
	   "metadata": {
	    "collapsed": true
	   },
	   "outputs": [],
"source": [
"clc,clear\n",
"printf('Example 2.9\n\n')\n",
"\n",
"V=250\n",
"R_a=0.3,R_sh=200  //resistance of armature and shunt field winding\n",
"R_x=150 //additional resistance added in series to field winding\n",
"I_L1=22\n",
"I_sh1=V/R_sh //initial shunt current before adding 150 ohms resistance\n",
"I_a1 = I_L1 - I_sh1 //initial armature current before adding 150 ohms resistance\n",
"N_1=1500 //initial speed before adding 150 ohms resistance\n",
"//T (prop.) phi*I_a (prop.) I_sh*I_a and T_1=T_2 and simplifying further \n",
"I_sh2=V/(R_sh + R_x) //new shunt current\n",
"I_a2= I_sh1*I_a1/I_sh2  //New armature current\n",
"\n",
"E_b1=V - I_a1*R_a   //induced emf before adding 150 ohms resistance\n",
"E_b2=V - I_a2*R_a   //new emf\n",
"\n",
"N_2 = N_1 * (E_b2/E_b1) * (I_sh1/I_sh2) //new speed\n",
"printf('New armature current and speed are %.4f A and %.2f r.p.m respectively',I_a2,N_2)"
   ]
   }
],
"metadata": {
		  "kernelspec": {
		   "display_name": "Scilab",
		   "language": "scilab",
		   "name": "scilab"
		  },
		  "language_info": {
		   "file_extension": ".sce",
		   "help_links": [
			{
			 "text": "MetaKernel Magics",
			 "url": "https://github.com/calysto/metakernel/blob/master/metakernel/magics/README.md"
			}
		   ],
		   "mimetype": "text/x-octave",
		   "name": "scilab",
		   "version": "0.7.1"
		  }
		 },
		 "nbformat": 4,
		 "nbformat_minor": 0
}
