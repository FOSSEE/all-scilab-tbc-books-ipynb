{
"cells": [
 {
		   "cell_type": "markdown",
	   "metadata": {},
	   "source": [
       "# Chapter 4: Synchronous Machines Alternators"
	   ]
	},
{
		   "cell_type": "markdown",
		   "metadata": {},
		   "source": [
			"## Example 4.10: EX4_10.sce"
		   ]
		  },
  {
"cell_type": "code",
	   "execution_count": null,
	   "metadata": {
	    "collapsed": true
	   },
	   "outputs": [],
"source": [
"clc,clear\n",
"printf('Example 4.10\n\n')\n",
"\n",
"Slots=180\n",
"Pole=12\n",
"Ns=600 //Synchronous speen in rpm\n",
"f=Pole*Ns/120 //frequency\n",
"phi=0.05 //flux per pole in weber\n",
"\n",
"//Part(i)\n",
"//Average EMF in a conductor=2*f*phi\n",
"rms_value_1=1.11*2*f*phi //rms value of emf in a conductor\n",
"printf('(i)r.m.s value of e.m.f in a conductor is %.2f V ',rms_value_1)\n",
"\n",
"//part(ii)\n",
"//Average EMF in a turn=4*f*phi\n",
"rms_value_2=1.11*4*f*phi//r.m.s value of e.m.f in a turn\n",
"printf('\n(ii)r.m.s value of e.m.f in a turn is %.2f V ',rms_value_2)\n",
"\n",
"//part(iii)\n",
"conductors_per_coilside=10/2 \n",
"rms_value_3=rms_value_2*conductors_per_coilside  //r.m.s value of e.m.f in a coil\n",
"printf('\n(iii)r.m.s value of e.m.f in a coil is %.1f V ',rms_value_3)\n",
"\n",
"//part(iv)\n",
"conductors_per_slot=10\n",
"Z=conductors_per_slot * Slots  //total number of conductors\n",
"Z_ph=Z/3    //conductors per phase\n",
"T_ph=Z_ph/2 //turns per phase\n",
"n=Slots/Pole  //slots per pole\n",
"m=n/3        //slots per pole per phase \n",
"beeta=180/n   //slot angle\n",
"\n",
"K_d=sind(m*beeta/2) /(m*sind(beeta/2)),K_c=1  //distribution & coil-span factor\n",
"E_ph=rms_value_2*T_ph*K_d*K_c   //induced emf\n",
"printf('\n(iv)per phase induced e.m.f is %.1f V ',E_ph)"
   ]
   }
,
{
		   "cell_type": "markdown",
		   "metadata": {},
		   "source": [
			"## Example 4.11: TO_DETERMINE_CERTAIN_QUANTITIES_RELATED_TO_3_PHASE_STAR_CONNECTED_ALTERNATORS.sce"
		   ]
		  },
  {
"cell_type": "code",
	   "execution_count": null,
	   "metadata": {
	    "collapsed": true
	   },
	   "outputs": [],
"source": [
"clc,clear\n",
"printf('Example 4.11\n\n')\n",
"\n",
"Pole=8\n",
"f=50 //frequency\n",
"phi=60*10^-3 //flux per pole in weber\n",
"Slots=96 \n",
"n=Slots/Pole //slots per pole\n",
"beeta = 180/n //slot angle \n",
"m=n/3 //slots per pole per phase\n",
"\n",
"coil_pitch=10*beeta //10 slots\n",
"alpha=180-coil_pitch\n",
"K_c=cosd(alpha/2)   //coi;-span factor\n",
"K_d=sind(m*beeta/2) /(m*sind(beeta/2)) //distribution factor\n",
"\n",
"conductors_per_slot=4  \n",
"Z=Slots*conductors_per_slot //total conductors\n",
"Total_turns=Z/2  \n",
"T_ph=Total_turns/3  //turns per phase\n",
"\n",
"//part (i)\n",
"E_ph= 4.44 *K_c *K_d *phi *f *T_ph\n",
"printf('\The phase voltage is %.2f V ',E_ph)\n",
"\n",
"//part(ii)\n",
"E_line=E_ph*sqrt(3)\n",
"printf('\nThe Line Voltage is %.2f V ',E_line)\n",
"\n",
" //part(iii)\n",
"I_ph=650\n",
"I_l=I_ph  // Star Connection\n",
"kVA_rating=sqrt(3)*E_line*I_l\n",
"printf('\nkVA rating is %.1f kVA ',kVA_rating/1000)"
   ]
   }
,
{
		   "cell_type": "markdown",
		   "metadata": {},
		   "source": [
			"## Example 4.12: TO_DETERMINE_INDUCED_EMF_IN_3_PHASE_ALTERNATOR.sce"
		   ]
		  },
  {
"cell_type": "code",
	   "execution_count": null,
	   "metadata": {
	    "collapsed": true
	   },
	   "outputs": [],
"source": [
"clc,clear\n",
"printf('Example 4.12\n\n')\n",
"\n",
"Ns=600 //synchronous speed in rpm\n",
"Pole=10\n",
"l=30/100     //divided by 100 for centimetre-metre conversion\n",
"Pole_pitch=35/100  //numerically equal to pi*d/Pole\n",
"Phase=3\n",
"conductors_per_slot=8\n",
"A1=Pole_pitch*l //Area of each fundamental pole\n",
"m=3   //Slot per Pole per Phase\n",
"n=Phase*m //slots per pole\n",
"beeta=180/n  //slot angle\n",
"\n",
"B_m1=1,B_m3=0.3,B_m5=0.2  //amplitude of 1st, 3rd and 5th harmonic\n",
"phi_1=(2/%pi)*A1*B_m1  //average value of fundamental flux per pole \n",
"f=Ns*Pole/120 //frequency\n",
"\n",
"Coil_span=(8/9)*180\n",
"alpha=180-Coil_span\n",
"//pitch factor for 1st, 3rd and 5th harmonic\n",
"K_c1=cosd(alpha/2)  \n",
"K_c3=cosd(3*alpha/2)\n",
"K_c5=cosd(5*alpha/2)\n",
"\n",
"// using K_dx=sin(m*x*beeta*(%pi/180)/2) /(m*sin(x*beeta*(%pi/180)/2))\n",
"//distribution factor for 1st, 3rd and 5th harmonic\n",
"K_d1=sind(m*1*beeta/2) /(m*sind(1*beeta/2))\n",
"K_d3=sind(m*3*beeta/2) /(m*sind(3*beeta/2))\n",
"K_d5=sind(m*5*beeta/2) /(m*sind(5*beeta/2))\n",
"\n",
"Slots=n*Pole\n",
"Total_conductors=conductors_per_slot * Slots\n",
"Total_turns=Total_conductors/2\n",
"T_ph=Total_turns/3  //turns per phase\n",
"\n",
"//EMF of 1st , 3rd and 5th harmonic\n",
"E_1ph=4.44 * K_c1 * K_d1*phi_1 * f * T_ph\n",
"E_3ph= E_1ph* (B_m3*K_c3*K_d3)/(B_m1*K_c1*K_d1)\n",
"E_5ph= E_1ph* (B_m5*K_c5*K_d5)/(B_m1*K_c1*K_d1)\n",
"\n",
"// Using E_xph= E_1ph* (B_mx*K_cx*K_dx)/(B_m1*K_c1*K_d1)\n",
"E_ph=sqrt( E_1ph^2 + E_3ph^2 + E_5ph^2 )\n",
"printf('Phase value of induced e.m.f is %.2f V ',E_ph)\n",
"E_line=sqrt(3) * sqrt( E_1ph^2 + E_5ph^2  )//no 3rd harmonic appears in line value\n",
"printf('\nline value of induced e.m.f is %.2f V ',E_line)\n",
"\n",
"printf('\n\nAnswer mismatches due to approximation')"
   ]
   }
,
{
		   "cell_type": "markdown",
		   "metadata": {},
		   "source": [
			"## Example 4.13: TO_CALCULATE_FREQUENCY_AND_LINE_VOLTAGE_OF_3PHASE_ALTERNATOR.sce"
		   ]
		  },
  {
"cell_type": "code",
	   "execution_count": null,
	   "metadata": {
	    "collapsed": true
	   },
	   "outputs": [],
"source": [
"clc,clear\n",
"printf('Example 4.13\n\n')\n",
"\n",
"Pole=16\n",
"phi=0.03 //flux per pole\n",
"Ns=375 //synchronous speed in rpm\n",
"f=Ns*Pole/120 //frequency\n",
"printf('frequency is %.0f Hz ',f)\n",
"Slots=144\n",
"n=Slots/Pole  //slots per pole\n",
"m=n/3 //slots per pole per phase\n",
"beeta=180/n  //slot angle\n",
"K_c=1 //assuming Full-Pitch coil\n",
"Conductors_per_slot=10\n",
"K_d=sind(m*beeta/2) /(m*sind(beeta/2))  //distribution factor\n",
"\n",
"Total_conductors=Slots*Conductors_per_slot\n",
"Total_turns=Total_conductors/2\n",
"T_ph=Total_turns/3  //turns per phase\n",
"E_ph=4.44* K_c* K_d*phi* f* T_ph\n",
"E_line=E_ph*sqrt(3)\n",
"printf('\nline voltage is %.2f V ',E_line)"
   ]
   }
,
{
		   "cell_type": "markdown",
		   "metadata": {},
		   "source": [
			"## Example 4.14: TO_DETERMINE_kVA_RATING_OF_A_SYNCHRONOUS_GENERATOR.sce"
		   ]
		  },
  {
"cell_type": "code",
	   "execution_count": null,
	   "metadata": {
	    "collapsed": true
	   },
	   "outputs": [],
"source": [
"clc,clear\n",
"printf('Example 4.14\n\n')\n",
"\n",
"Ns=250 //Speed in rpm\n",
"f=50 //frequency\n",
"I_l=100\n",
"Slots=216\n",
"Conductors_per_slot=5\n",
"Pole=120*f/Ns\n",
"phi=30*10^-3//flux per pole in weber\n",
"Z=Slots*Conductors_per_slot  //Total Conductors\n",
"Z_ph=Z/3 //conductors per phase\n",
"T_ph=Z_ph/2 //turns per phase\n",
"n=Slots/Pole //slots per pole\n",
"m=n/3 //slots per pole per phase\n",
"beeta=180/n //Slot angle\n",
"\n",
"K_d=sind(m*beeta/2) /(m*sind(beeta/2)) //distribution factor\n",
"\n",
"e_av=2*f*phi     //Average Value of EMF in each conductor\n",
"E_c=1.11*(2*f*phi)  //RMS value of EMF in each conductor\n",
"E=2*E_c*K_d //RMS value of EMF in each turn\n",
"E_ph=T_ph*E //RMS value of EMF in each phase\n",
"E_line= E_ph*sqrt(3)  //As Star Connected Alternator\n",
"printf('RMS value of EMF in each phase = %.3f V\n',E_ph)\n",
"printf('RMS value of EMF line value  = %.3f V\n',E_line)\n",
"kVA_rating=sqrt(3)*E_line*I_l\n",
"printf('\nkVA rating is %.3f kVA ',kVA_rating/1000)"
   ]
   }
,
{
		   "cell_type": "markdown",
		   "metadata": {},
		   "source": [
			"## Example 4.15: EX4_15.sce"
		   ]
		  },
  {
"cell_type": "code",
	   "execution_count": null,
	   "metadata": {
	    "collapsed": true
	   },
	   "outputs": [],
"source": [
"clc,clear\n",
"printf('Example 4.15\n\n')\n",
"\n",
"Pole=10\n",
"Slots=90\n",
"E_l=11000\n",
"f=50\n",
"phi=0.15 //flux per pole in weber\n",
"n=Slots/Pole //slots per pole\n",
"m=n/3 //slots per pole per phase\n",
"beeta=180/n //slot angle\n",
" \n",
"K_d=sind(m*beeta/2) /(m*sind(beeta/2)) //distribution factor\n",
"K_c=1 //coil span factor\n",
"\n",
"E_ph=E_l/sqrt(3)\n",
"T_ph=floor( E_ph/(4.44*K_c*K_d*phi*f)  )\n",
"//T_ph should necessarily be an integer\n",
"\n",
"Z_ph=(T_ph)*2  \n",
"printf('Required number of armature conductors is %d',Z_ph)"
   ]
   }
,
{
		   "cell_type": "markdown",
		   "metadata": {},
		   "source": [
			"## Example 4.16: TO_DETERMINE_RMS_VALUE_OF_PHASE_AND_LINE_VOLTAGE.sce"
		   ]
		  },
  {
"cell_type": "code",
	   "execution_count": null,
	   "metadata": {
	    "collapsed": true
	   },
	   "outputs": [],
"source": [
"clc,clear\n",
"printf('Example 4.16\n\n')\n",
"\n",
"Pole=10\n",
"Ns=600 //speen in rpm\n",
"conductor_per_slot=8\n",
"n=12 //slots per pole\n",
"Slots=Pole*n \n",
"m=n/3 //slots per pole per phase \n",
"beeta=180/n //slot angle\n",
"alpha=2*beeta  //short by 2 slots\n",
"\n",
"//flux per pole corresponding to 1st,3rd and 5th harmonic\n",
"phi_1=100*10^-3\n",
"phi_3=(33/100)*phi_1\n",
"phi_5=(20/100)*phi_1\n",
"\n",
"//coil span factor corresponding to 1st,3rd and 5th harmonic\n",
"K_c1=cosd( alpha/2)\n",
"K_c3=cosd( 3*alpha/2)\n",
"K_c5=cosd( 5*alpha/2)\n",
"\n",
"// using K_dx=sin(m*x*beeta /2) /(m*sin(x*beeta /2))\n",
"//distribution factor corresponding to 1st,3rd and 5th harmonic\n",
"K_d1=sind(m*1*beeta/2) /(m*sind(1*beeta /2))\n",
"K_d3=sind(m*3*beeta/2) /(m*sind(3*beeta /2))\n",
"K_d5=sind(m*5*beeta/2) /(m*sind(5*beeta /2))\n",
"\n",
"Z=conductor_per_slot*n*Pole    //Total Conductors\n",
"Zph=Z/3 //conductors per phase\n",
"T_ph=Zph/2 //turns per phase\n",
"\n",
"f=Ns*Pole/120\n",
"E_1ph=4.44*K_c1*K_d1*phi_1*f*T_ph\n",
"E_3ph=4.44*K_c3*K_d3*phi_3*f*T_ph\n",
"E_5ph=4.44*K_c5*K_d5*phi_5*f*T_ph\n",
"\n",
"E_ph=sqrt( E_1ph^2 +  E_3ph^2 + E_5ph^2     )\n",
"printf('Phase value of induced e.m.f is %.0f V ',E_ph)\n",
"E_line=sqrt(3)*sqrt( E_1ph^2 +  E_5ph^2     )  //In a line value,3rd harmonic doesnt appear\n",
"printf('\nline value of induced e.m.f is %.0f V ',E_line)"
   ]
   }
,
{
		   "cell_type": "markdown",
		   "metadata": {},
		   "source": [
			"## Example 4.17: TO_DETERMINE_RESULTANT_PHASE_VOLTAGE_AND_LINE_VOLTAGE.sce"
		   ]
		  },
  {
"cell_type": "code",
	   "execution_count": null,
	   "metadata": {
	    "collapsed": true
	   },
	   "outputs": [],
"source": [
"clc,clear\n",
"printf('Example 4.17\n\n')\n",
"\n",
"Pole=6\n",
"Ns=1000 //speed in rpm\n",
"d=28/100  //Divided by 100 to convert from centimeters to metres\n",
"l=23/100  //Divided by 100 to convert from centimeters to metres\n",
"m=4 //slots per pole per phase\n",
"B_m1=0.87  //amplitude of 1st harmonic component of flux density\n",
"B_m3=0.24  //amplitude of 3rd harmonic component of flux density\n",
"Conductors_per_slot=8\n",
"f=Ns*Pole/120 //frequency\n",
"A1=%pi*d*l/Pole //area of each fundamental pole\n",
"phi_1=(2/%pi)*A1*B_m1 //flux per pole in weber\n",
"n=m*3 //slots per pole\n",
"beeta=180/n //slot angle\n",
"alpha=beeta  //because of 1 slot short\n",
"K_c1=cosd(alpha/2) //coil span factor corresponding to 1st harmonic\n",
"K_c3=cosd(3*alpha/2)//coil span factor corresponding to 3rd harmonic\n",
"// using K_dx=sin(m*x*beeta*(%pi/180)/2) /(m*sin(x*beeta*(%pi/180)/2))\n",
"K_d1=sind(m*1*beeta/2) /(m*sind(1*beeta/2)) //distribution factor corresponding to 1st harmonic\n",
"K_d3=sind(m*3*beeta/2) /(m*sind(3*beeta/2)) //distribution factor corresponding to 3rd harmonic\n",
"\n",
"Slots=n*Pole\n",
"Z=Slots*Conductors_per_slot //total number of conductors\n",
"Z_ph=Z/3 //conductors per phase\n",
"T_ph=Z_ph/2 //turns per phase\n",
"\n",
"E_1ph=4.44*K_c1*K_d1*phi_1*f*T_ph\n",
"E_3ph=E_1ph* (B_m3*K_c3*K_d3)/(B_m1*K_c1*K_d1)      //using E_xph=E_1ph* (B_mx*K_cx*K_dx)/(B_m1*K_c1*K_d1)\n",
"E_ph=sqrt( E_1ph^2 +  E_3ph^2     )\n",
"printf('r.m.s value of resultant voltage is %.1f V',E_ph)\n",
"E_line=sqrt(3)*E_1ph   //For line Value, 3rd harmonic does not appear\n",
"printf('\nline voltage is %.3f V',E_line)"
   ]
   }
,
{
		   "cell_type": "markdown",
		   "metadata": {},
		   "source": [
			"## Example 4.18: TO_DETERMINE_THE_RATINGS_WHEN_DELTA_CONNECTED_ALTERNATOR_IS_RECONNECTED_IN_STAR.sce"
		   ]
		  },
  {
"cell_type": "code",
	   "execution_count": null,
	   "metadata": {
	    "collapsed": true
	   },
	   "outputs": [],
"source": [
"clc,clear\n",
"printf('Example 4.18\n\n')\n",
"\n",
"V_L=125\n",
"V_ph=V_L\n",
"VA=600*10^3\n",
"I_L=VA/(sqrt(3)*V_L)     // Because VA=sqrt(3)* V_L * I_L\n",
"I_ph=I_L/(sqrt(3))\n",
"\n",
"//After Reconnection\n",
"V_ph=125\n",
"V_L=V_ph*sqrt(3)\n",
"printf('New rating in volts is %.3f V',V_L)\n",
"//Winding Impedances remain the same\n",
"I_ph=1600\n",
"I_L=I_ph\n",
"\n",
"printf('\nNew rating in amperes is %.0f A',I_L)\n",
"kVA=sqrt(3)*V_L*I_L*(10^-3)\n",
"printf('\nNew rating in kVA is %.0f kVA',kVA)"
   ]
   }
,
{
		   "cell_type": "markdown",
		   "metadata": {},
		   "source": [
			"## Example 4.19: TO_CALCULATE_GENERATED_EMF_OF_3_PHASE_STAR_CONNECTED_ALTERNATOR.sce"
		   ]
		  },
  {
"cell_type": "code",
	   "execution_count": null,
	   "metadata": {
	    "collapsed": true
	   },
	   "outputs": [],
"source": [
"clc,clear\n",
"printf('Example 4.19\n\n')\n",
"\n",
"Pole=4\n",
"f=50 //frequency\n",
"phi=0.12 //flux per pole in weber\n",
"m=4  // slot per pole per phase\n",
"conductor_per_slot=4\n",
"coilspan=150\n",
"Ns=120*f/Pole //synchronous speed in rpm\n",
"n=m*3  //Slots per pole\n",
"beeta=180/n //slot angle\n",
"K_d=sind(m*beeta/2) /(m*sind(beeta/2)) // distribution factor\n",
"alpha=180-coilspan //angle of short pitch\n",
"K_c=cos((%pi/180)*alpha/2) //coil span factor\n",
"Z=m*(n*Pole) // Also equal to (conductors/slots)*slots\n",
"Z_ph=Z/3 //conductors per phase\n",
"T_ph=Z_ph/2 //turns per phase\n",
"E_ph=4.44*K_c*K_d*phi*f*T_ph\n",
"E_line=sqrt(3)*E_ph\n",
"printf('e.m.f generated is %.2f V(phase),%.2f V(line)',E_ph,E_line)"
   ]
   }
,
{
		   "cell_type": "markdown",
		   "metadata": {},
		   "source": [
			"## Example 4.1: TO_DRAW_THE_DIAGRAM_FOR_FULL_PITCH_ARMATURE_WINDING_OF_AN_ALTERNATOR.sce"
		   ]
		  },
  {
"cell_type": "code",
	   "execution_count": null,
	   "metadata": {
	    "collapsed": true
	   },
	   "outputs": [],
"source": [
"clc,clear\n",
"printf('Example 4.1\n\n')\n",
"\n",
"Pole=4\n",
"Slots=24\n",
"Phase=3 //number of phases\n",
"n=Slots/Pole //slots per pole\n",
"m=Slots/Pole/Phase //slots per pole per phase\n",
"beeta=180/n  //Slot angle"
   ]
   }
,
{
		   "cell_type": "markdown",
		   "metadata": {},
		   "source": [
			"## Example 4.2: TO_CALCULATE_DISTRIBUTION_FACTOR_OF_THREE_PHASE_ALTERNATOR.sce"
		   ]
		  },
  {
"cell_type": "code",
	   "execution_count": null,
	   "metadata": {
	    "collapsed": true
	   },
	   "outputs": [],
"source": [
"clc,clear\n",
"printf('Example 4.2\n\n')\n",
"\n",
"Slots=120\n",
"Pole=8\n",
"Phase=3 //number of phases\n",
"n=Slots/Pole         //Slots per Pole\n",
"m=Slots/Pole/Phase   //Slots per Pole per Phase\n",
"beeta=180/n           //Slot angle in degree\n",
"K_d=sind(m*beeta/2) /(m*sind(beeta/2)) //Distribution Factor\n",
"printf('Distribution Factor:\nK_d=%.3f',K_d)"
   ]
   }
,
{
		   "cell_type": "markdown",
		   "metadata": {},
		   "source": [
			"## Example 4.3: TO_CALCULATE_COIL_SPAN_FACTOR_OF_ARMATURE_WINDING.sce"
		   ]
		  },
  {
"cell_type": "code",
	   "execution_count": null,
	   "metadata": {
	    "collapsed": true
	   },
	   "outputs": [],
"source": [
"clc,clear\n",
"printf('Example 4.3\n\n')\n",
"\n",
"Slots=36\n",
"Pole=4\n",
"Phase=3 //number of phases\n",
"n=Slots/Pole    //Slots per pole\n",
"beeta=180/n     //Slot angle in degrees\n",
"\n",
"//coil is shorted by 1 slot i.e. by beeta degrees to full pitch distance\n",
"alpha=beeta     //angle of short pitch\n",
"K_c=cosd(alpha/2)  //Coil span Factor\n",
"printf('Coil Span Factor:\nK_c=%.4f',K_c)"
   ]
   }
,
{
		   "cell_type": "markdown",
		   "metadata": {},
		   "source": [
			"## Example 4.4: TO_CALCULATE_INDUCED_EMF_ACROSS_THE_TERMINALS.sce"
		   ]
		  },
  {
"cell_type": "code",
	   "execution_count": null,
	   "metadata": {
	    "collapsed": true
	   },
	   "outputs": [],
"source": [
"clc,clear\n",
"printf('Example 4.4\n\n')\n",
"\n",
"N_s=250  //Synchronous speed in r.p.m\n",
"f=50     //Frequency of generated e.m.f in hertz\n",
"Slots=216\n",
"phi=30*10^-3 //flux per pole in weber\n",
"\n",
"Pole=120*f/N_s\n",
"n=Slots/Pole   //Slots per Pole\n",
"m=n/3          //Slots per Pole per Phase\n",
"beeta=180/n     //Slot angle in degree\n",
"\n",
"K_d=sind(m*beeta/2)/(m*sind(beeta/2))   //distribution factor\n",
"K_c=1 //Coil Span Factor for full pitch coils=1\n",
"\n",
"Z=Slots*5   //Z is total no of conductors\n",
"Z_ph=Z/3    //Conductors Per Phase\n",
"T_ph=Z_ph/2 //Turns per phase\n",
"E_ph=4.44*K_c*K_d*f*phi*T_ph //induced emf\n",
"E_line=E_ph*sqrt(3)\n",
"\n",
"printf('Induced e.m.f across the Terminals is %.2f V',E_line)"
   ]
   }
,
{
		   "cell_type": "markdown",
		   "metadata": {},
		   "source": [
			"## Example 4.5: TO_DETERMINE_FREQUENCY_OF_INDUCED_EMF_and_FLUX_PER_POLE.sce"
		   ]
		  },
  {
"cell_type": "code",
	   "execution_count": null,
	   "metadata": {
	    "collapsed": true
	   },
	   "outputs": [],
"source": [
"clc,clear\n",
"printf('Example 4.5\n\n')\n",
"\n",
"Pole=16\n",
"N_s=375 //synchronous speed in rpm\n",
"Slots=144\n",
"E_line=2.657*10^3 //line value of emf across terminals\n",
"f=Pole*N_s/120 //frequency\n",
"\n",
"K_c=1  //assuming full pitch winding,Coil span Factor=1\n",
"n=Slots/Pole //slots per pole\n",
"m=n/3 //slots per pole per phase\n",
"\n",
"beeta=180/n\n",
"K_d=sind(m*beeta/2) /(m*sind(beeta/2)) //Distribution Fcator\n",
"conductors_per_slot=10\n",
"Z=Slots*conductors_per_slot  //total conductors\n",
"\n",
"Z_ph=Z/3  //number of conductors per phase\n",
"T_ph=Z_ph/2 //no of turns per phase\n",
"E_ph=E_line/sqrt(3) //phase value of emf across terminals\n",
"\n",
"phi=E_ph/(4.44*K_c*K_d*f*T_ph)     //E_ph=4.44*K_c*K_d*f*phi*T_ph\n",
"printf('Frequency of Induced e.m.f is %.0fHz\nFlux per Pole is %.0f mWb',f,phi*1000)"
   ]
   }
,
{
		   "cell_type": "markdown",
		   "metadata": {},
		   "source": [
			"## Example 4.6: TO_DETERMINE_CERTAIN_QUANTITIES_RELATED_TO_3_PHASE_ALTERNATOR.sce"
		   ]
		  },
  {
"cell_type": "code",
	   "execution_count": null,
	   "metadata": {
	    "collapsed": true
	   },
	   "outputs": [],
"source": [
"clc,clear\n",
"printf('Example 4.6\n\n')\n",
"\n",
"d=0.25            //Diameter in metre\n",
"l=0.3             //Length in metre\n",
"Pole=4\n",
"A1=%pi*d*l/Pole    //Area of each fundamental pole\n",
"f=50 //frequency in hertz\n",
"B_m1=0.15 , B_m3=0.03, B_m5=0.02 //Amplitude of 1st, 3rd and 5th harmonics\n",
"phi_1=(2/%pi)*B_m1*A1  //average value of fundamental flux per pole in weber\n",
"\n",
"//PART A\n",
"E_c1=1.11*2*f*phi_1  //R.M.S value of fundamental frequency e.m.f generated in single conductor\n",
"Coil_span=(13/15)*180  //since winding coil span is 13/15 of pole pitch\n",
"alpha=180-Coil_span\n",
"\n",
"//Pitch factor for 1st, 3rd and 5th harmonic\n",
"K_c1=cosd(alpha/2)\n",
"K_c3=cosd(3*alpha/2)\n",
"K_c5=cosd(5*alpha/2)\n",
"\n",
"//Using E_cx=E_c1 * (B_mx/B_m1)\n",
"E_c3=E_c1 * (B_m3/B_m1)\n",
"E_c5=E_c1 * (B_m5/B_m1)\n",
"\n",
"E_t1=K_c1 * (2*E_c1)   //R.M.S Vaue of fundamental frequency EMF generated in 1 turn (in volts)\n",
"E_t3=K_c3 * 2*E_c3\n",
"E_t5=K_c5 * 2*E_c5\n",
"E_t=sqrt(E_t1^2 +E_t3^2 +E_t5^2)\n",
"V=10*E_t  //(number of turns per coil )* (Total e.m.f per turn)\n",
"printf('Voltage generated per coil is %.1f V',V)\n",
"\n",
"// PART B\n",
"//E_1ph=4.44*K_c1*K_d1*phi_1*f*T_ph\n",
"T_ph=200   //T_ph=(60 coils  * 10 turns per coil)/3\n",
"\n",
"Total_Conductors=1200 // 60 coils * 10 turns per coil * 2\n",
"Conductors_per_Slot=20 //2 conductors per turn * 10  turns per slot\n",
"Slots=Total_Conductors/Conductors_per_Slot\n",
"\n",
"n=Slots/Pole\n",
"m=n/3\n",
"beeta=180/n   //Slot angle in degree\n",
"K_d1=sind(m*1*beeta/2) /(m*sind(1*beeta/2))\n",
"K_d3=sind(m*3*beeta/2) /(m*sind(3*beeta/2))\n",
"K_d5=sind(m*5*beeta/2) /(m*sind(5*beeta/2))\n",
"\n",
"E_1ph=4.44 * K_c1 * K_d1*phi_1 * f * T_ph\n",
"// Using E_xph= E_1ph* (B_mx*K_cx*K_dx)/(B_m1*K_c1*K_d1)\n",
"E_3ph= E_1ph* (B_m3*K_c3*K_d3)/(B_m1*K_c1*K_d1)\n",
"E_5ph= E_1ph* (B_m5*K_c5*K_d5)/(B_m1*K_c1*K_d1)\n",
"E_ph=sqrt( E_1ph^2 + E_3ph^2 + E_5ph^2 )  //voltage generated per phase\n",
"printf('\nVoltage generated per phase is %.0f V',E_ph)\n",
"\n",
" //PART c\n",
"E_line=sqrt(3) * sqrt( E_1ph^2 + E_5ph^2  ) //terminal voltage\n",
"printf('\nTerminal Voltage is %.1f V ',E_line)"
   ]
   }
,
{
		   "cell_type": "markdown",
		   "metadata": {},
		   "source": [
			"## Example 4.7: TO_CALCULATE_THE_FLUX_PER_POLE_OF_3_PHASE_STAR_CONNECTED_ALTERNATOR.sce"
		   ]
		  },
  {
"cell_type": "code",
	   "execution_count": null,
	   "metadata": {
	    "collapsed": true
	   },
	   "outputs": [],
"source": [
"clc,clear\n",
"printf('Example 4.7\n\n')\n",
"\n",
"Ns=250 //Synchronous speed in rpm\n",
"f=50\n",
"Slots=288\n",
"E_line=6600\n",
"Pole=120*f/Ns  \n",
"n=Slots/Pole  //slots per pole\n",
"m=n/3 //slots per pole per phase\n",
"beeta=180/n //slot angle\n",
"conductors_per_slot=32   //16 conductors per coil-side  *2 coil-sides per slot\n",
"\n",
"K_d=sind(m*beeta/2) /(m*sind(beeta/2)) //distribution factor\n",
"alpha=2*beeta// angle of short pitch\n",
"K_c=cosd(alpha/2)  //coil span factor\n",
"Z = Slots*conductors_per_slot  //total conductors\n",
"Z_ph=Z/3 //Conductors per phase\n",
"T_ph=Z_ph/2 //turns per phase\n",
"\n",
"E_ph=E_line/sqrt(3)\n",
"phi=E_ph/(4.44*K_c*K_d*f*T_ph)           //Because E_ph=4.44 *K_c *K_d *phi *f *T_ph\n",
"printf('Flux per pole is %.0f mWb ',phi*1000)"
   ]
   }
,
{
		   "cell_type": "markdown",
		   "metadata": {},
		   "source": [
			"## Example 4.8: TO_CALCULATE_THE_INDUCED_EMF_OF_1_PHASE_ALTERNATOR.sce"
		   ]
		  },
  {
"cell_type": "code",
	   "execution_count": null,
	   "metadata": {
	    "collapsed": true
	   },
	   "outputs": [],
"source": [
"clc,clear\n",
"printf('Example 4.8\n\n')\n",
"\n",
"Ns=1500  //synchronous speed in rpm\n",
"Pole=4\n",
"Slots=24\n",
"conductor_per_slot=8\n",
"phi=0.05 //flux per pole in weber\n",
"f=Pole*Ns/120 //frequenccy\n",
"n=Slots/Pole //slots per pole\n",
"m=n  // as number of phases is 1\n",
"beeta=180/n  //slot angle\n",
"\n",
"K_d=sind(m*beeta/2) /(m*sind(beeta/2))  //distribution factor\n",
"\n",
"//Full pitch= n =6 slots\n",
"//(1/6)th of full pitch =1slot\n",
"//angle of short pitch = 1 slot angle\n",
"alpha=beeta\n",
"K_c=cosd(alpha/2)  //coil span factor\n",
"\n",
"Z=conductor_per_slot*Slots //total conductors\n",
"Z_ph=Z // as number of phases is 1\n",
"T_ph=Z_ph/2 //turns per phase\n",
"E_ph=4.44*K_c*K_d* phi *f *T_ph  //induced emf\n",
"\n",
"printf('Induced e.m.f is %.1f V ',E_ph)"
   ]
   }
,
{
		   "cell_type": "markdown",
		   "metadata": {},
		   "source": [
			"## Example 4.9: TO_DETERMINE_INDUCED_EMF_BETWEEN_THE_LINES_OF_3_PHASE_STAR_CONNECTED_ALTERNATORS.sce"
		   ]
		  },
  {
"cell_type": "code",
	   "execution_count": null,
	   "metadata": {
	    "collapsed": true
	   },
	   "outputs": [],
"source": [
"clc,clear\n",
"printf('Example 4.9\n\n')\n",
"\n",
"Pole=48\n",
"n=9 //slots per pole\n",
"phi=51.75*10^-3 //flux per pole in weber\n",
"Ns=125\n",
"f=Ns*Pole/120 //frequency\n",
"K_c=1 //due to full pitch winding\n",
"m=n/3 //slots per pole per phase\n",
"beeta=180/n  //slot angle\n",
"\n",
"K_d=sind(m*beeta/2) /(m*sind(beeta/2))  //distribution factor\n",
"conductor_per_slot=4*2 //Each slot has 2 coil sides and each coil side has 4 conductors\n",
"Slots=n*Pole\n",
"Z=conductor_per_slot*Slots   //total number of conductors\n",
"Z_ph=Z/3 //conductors per phase\n",
"T_ph=Z_ph/2 //turns per phase\n",
"E_ph=4.44 *K_c *K_d *phi *f *T_ph  //induced emf\n",
"\n",
"E_line=(sqrt(3))*E_ph  //due to star connection\n",
"printf('Induced e.m.f is %.0f kV ',E_line/1000)"
   ]
   }
],
"metadata": {
		  "kernelspec": {
		   "display_name": "Scilab",
		   "language": "scilab",
		   "name": "scilab"
		  },
		  "language_info": {
		   "file_extension": ".sce",
		   "help_links": [
			{
			 "text": "MetaKernel Magics",
			 "url": "https://github.com/calysto/metakernel/blob/master/metakernel/magics/README.md"
			}
		   ],
		   "mimetype": "text/x-octave",
		   "name": "scilab",
		   "version": "0.7.1"
		  }
		 },
		 "nbformat": 4,
		 "nbformat_minor": 0
}
