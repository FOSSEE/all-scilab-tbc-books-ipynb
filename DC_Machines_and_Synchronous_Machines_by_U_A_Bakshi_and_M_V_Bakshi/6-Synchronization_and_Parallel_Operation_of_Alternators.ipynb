{
"cells": [
 {
		   "cell_type": "markdown",
	   "metadata": {},
	   "source": [
       "# Chapter 6: Synchronization and Parallel Operation of Alternators"
	   ]
	},
{
		   "cell_type": "markdown",
		   "metadata": {},
		   "source": [
			"## Example 6.10: EX6_10.sce"
		   ]
		  },
  {
"cell_type": "code",
	   "execution_count": null,
	   "metadata": {
	    "collapsed": true
	   },
	   "outputs": [],
"source": [
"clc,clear\n",
"printf('Example 6.10\n\n')\n",
"//note that a new function p2z has been defined below for direct representation of complex numbers in polar form\n",
"function [FUN] = p2z(RRRR,Theeeta)\n",
" FUN = RRRR.*exp(%i*%pi*Theeeta/180.);\n",
"endfunction\n",
"\n",
"V_l=6000\n",
"V_ph=V_l/sqrt(3)\n",
"VA=2000*10^3\n",
"I_FL=VA/(V_l*sqrt(3))\n",
"X_s=complex(0,6) //synchronous reactance\n",
"P=8\n",
"f=50\n",
"\n",
"delta_mech=%pi/180 //phase displacemant in degree mechanical \n",
"//phase displacemant in degree electrical\n",
"delta_elec=delta_mech*(P/2)  //P/2 is pole pairs(and not poles)\n",
"\n",
"phi=acosd(0.8)\n",
"V=p2z(V_ph,phi)\n",
"E=V+I_FL*X_s\n",
"//E leads I by phasemag(E). V leads I by phasemag(V)\n",
"\n",
"delta=(%pi/180)* (phasemag(E)-phasemag(V) ) //power angle in radians\n",
"P_SY=abs(E)*abs(V)*cos(delta)*sin(delta_elec)/abs(X_s) //synchronising power\n",
"P_SY_total=3*P_SY //totla synchronising power \n",
"printf('Total synchronising power is %.3f kW',10^-3*P_SY_total)\n",
"\n",
"N_s=120*f/P //in rpm\n",
"n_s=(N_s)/60 //in rps\n",
"T_SY=P_SY_total/(2*%pi*n_s)\n",
"printf('\nSynchronising torque is %.0f N-m',T_SY)"
   ]
   }
,
{
		   "cell_type": "markdown",
		   "metadata": {},
		   "source": [
			"## Example 6.11: TO_CALCULATE_SYNCHRONISING_POWER_AND_SYNCHRONISING_TORQUE.sce"
		   ]
		  },
  {
"cell_type": "code",
	   "execution_count": null,
	   "metadata": {
	    "collapsed": true
	   },
	   "outputs": [],
"source": [
"clc,clear\n",
"printf('Example 6.11\n\n')\n",
"\n",
"//note that a new function p2z has been defined below for direct representation of complex numbers in polar form\n",
"function [FUN] = p2z(RRRR,Theeeta)\n",
" FUN = RRRR.*exp(%i*%pi*Theeeta/180.);\n",
"endfunction\n",
"\n",
"V_l=3300\n",
"V_ph=V_l/sqrt(3)\n",
"VA=3*10^6\n",
"I_FL=VA/(V_l*sqrt(3))\n",
"IX_s=(25/100)*V_ph //product of I and X_s\n",
"X_s=complex(0,IX_s/I_FL) //synchronous reactance\n",
"N_s=1000 //in rpm\n",
"P=6\n",
"f=50\n",
"\n",
"delta_dash_mech=%pi/180\n",
"delta_dash_elec=delta_dash_mech*(P/2)  //P/2 is pole pairs(and not poles)\n",
"\n",
"I=I_FL\n",
"phi=acosd(0.8)\n",
"V=p2z(V_ph,phi)\n",
"E=V+I*X_s\n",
"//E leads I by phasemag(E). V leads I by phasemag(V)\n",
"\n",
"delta=(%pi/180)* (phasemag(E)-phasemag(V) ) //power angle in radians\n",
"P_SY=abs(E)*abs(V)*cos(delta)*sin(delta_dash_elec)/abs(X_s) //Synchronising power per phase\n",
"printf('Synchronising power is %.3f kW',10^-3*P_SY)\n",
"P_SY_total=3*P_SY //Total synchronising power\n",
"\n",
"N_s=120*f/P //in rpm\n",
"n_s=(N_s)/60 //in rps\n",
"T_SY=P_SY_total/(2*%pi*n_s)\n",
"printf('\nSynchronising torque is %.0f N-m',T_SY)\n",
"\n",
"printf('\n\nAnswer mismatches due to approximation')"
   ]
   }
,
{
		   "cell_type": "markdown",
		   "metadata": {},
		   "source": [
			"## Example 6.12: TO_CALCULATE_SYNCHRONISING_POWER_AND_CORRESPONDING_SYNCHRONISING_TORQUE.sce"
		   ]
		  },
  {
"cell_type": "code",
	   "execution_count": null,
	   "metadata": {
	    "collapsed": true
	   },
	   "outputs": [],
"source": [
"clc,clear\n",
"printf('Example 6.12\n\n')\n",
"\n",
"V_l=3300\n",
"V_ph=V_l/sqrt(3)\n",
"VA=3*10^6\n",
"I_FL=VA/(V_l*sqrt(3))\n",
"IX_s=(20/100)*V_ph //product of I and X_s\n",
"X_s=complex(0,IX_s/I_FL) //synchronous reactance\n",
"N_s=1000\n",
"P=6\n",
"f=50\n",
"\n",
"delta_dash_mech=%pi/180 //phase displacement in degree mechanical\n",
"//phase displacement in degree electrical\n",
"delta_dash_elec=delta_dash_mech*(P/2)  //P/2 is pole pairs(and not poles)\n",
"\n",
"E=V_ph\n",
"Z_s=X_s //since R=0\n",
"P_SY=abs(E)*abs(V_ph)*delta_dash_elec/abs(Z_s) //Synchronising power per phase\n",
"printf('Synchronising power is %.3f kW',10^-3*P_SY)\n",
"P_SY_total=3*P_SY //Total synchronising power\n",
"printf('\n3 phase synchronising power is %.3f kW',10^-3*P_SY_total)\n",
"\n",
"N_s=120*f/P //in rpm\n",
"n_s=(N_s)/60 //in rps\n",
"T_SY=P_SY_total/(2*%pi*n_s)\n",
"printf('\nSynchronising torque is %.0f N-m',T_SY)"
   ]
   }
,
{
		   "cell_type": "markdown",
		   "metadata": {},
		   "source": [
			"## Example 6.13: TO_DETERMINE_SYNCHRONISING_POWER_PER_MECHANICAL_DEGREE_OF_DISPLACEMENT.sce"
		   ]
		  },
  {
"cell_type": "code",
	   "execution_count": null,
	   "metadata": {
	    "collapsed": true
	   },
	   "outputs": [],
"source": [
"clc,clear\n",
"printf('Example 6.13\n\n')\n",
"\n",
"V_L=11*10^3\n",
"V_ph=V_L/sqrt(3)\n",
"VA=700*10^3\n",
"I_FL=VA/(sqrt(3)*V_L) //full load current\n",
"IR_a=(1.5/100)*V_ph //product of I and R_a\n",
"R_a=IR_a/I_FL\n",
"IX_s=(14/100)*V_ph // product of I and X_s\n",
"X_s=IX_s/I_FL //synchronous reactance\n",
"\n",
"//at full load and 0.8 pf\n",
"I=I_FL\n",
"phi=acos(0.8)\n",
"V_ph=complex(V_ph*cos(phi),V_ph*sin(phi))  //just introduced the angle\n",
"E_ph=sqrt(    (abs(V_ph)*cos(phi)+ IR_a)^2+   (abs(V_ph)*sin(phi)+ IX_s)^2     )\n",
"\n",
"Poles=4,f=50 //poles and frequency\n",
"delta=asin( (abs(V_ph)*sin(phi)+IX_s)/E_ph)  -phi\n",
"delta_dash_mech=(%pi/180) //displacement in degree mechanical\n",
"//displacement in degree electrical\n",
"delta_dash_elec=delta_dash_mech*(Poles/2)\n",
"P_SY=abs(E_ph)*abs(V_ph)*cos(delta)*sin(delta_dash_elec)/X_s   //synchronising power per phase \n",
"P_SY_total=3*P_SY  //total synchronising power\n",
"\n",
"ns=120*f/(60*Poles)  //in r.p.s\n",
"T_SY=P_SY_total/(2*%pi*ns)   //Synchronising torque \n",
"printf('Synchronising power is %.2fkW\n',P_SY_total/1000)\n",
"printf('Synchronising torque is %.2f N-m',T_SY)"
   ]
   }
,
{
		   "cell_type": "markdown",
		   "metadata": {},
		   "source": [
			"## Example 6.14: TO_CALCULATE_SYNCHRONISING_TORQUE_PER_MECHANICAL_DEGREE_OF_DISPLACEMENT.sce"
		   ]
		  },
  {
"cell_type": "code",
	   "execution_count": null,
	   "metadata": {
	    "collapsed": true
	   },
	   "outputs": [],
"source": [
"clc,clear\n",
"printf('Example 6.14\n\n')\n",
"\n",
"V_l=9*10^3\n",
"V_ph=V_l/sqrt(3)\n",
"VA=5.5*10^6\n",
"I_FL=VA/(V_l*sqrt(3))\n",
"IX_s=(25/100)*V_ph //product of I and X_s\n",
"X_s=complex(0,IX_s/I_FL) //synchronous reactance\n",
"N_s=1500 //in rpm\n",
"n_s=N_s/60 //in rps\n",
"f=50,P=120*f/N_s //frequency and pole\n",
"\n",
"delta_dash_mech=%pi/180 //displacemnt in degree mechanical \n",
"//displacemnt in degree electrical\n",
"delta_dash_elec=delta_dash_mech*(P/2)  //P/2 is pole pairs(and not poles)\n",
"\n",
"E=V_ph\n",
"P_SY=abs(E)*abs(V_ph)*delta_dash_elec/abs(X_s) //Synchronising power per phase\n",
"P_SY_total=3*P_SY //Total synchronising power\n",
"\n",
"T_SY=P_SY_total/(2*%pi*n_s)\n",
"printf('\nSynchronising torque is %.2f N-m',T_SY)\n",
"printf('\nAnswer mismatches due to approximation')"
   ]
   }
,
{
		   "cell_type": "markdown",
		   "metadata": {},
		   "source": [
			"## Example 6.15: EX6_15.sce"
		   ]
		  },
  {
"cell_type": "code",
	   "execution_count": null,
	   "metadata": {
	    "collapsed": true
	   },
	   "outputs": [],
"source": [
"clc,clear\n",
"printf('Example 6.15\n\n')\n",
"\n",
"V_L=6*10^3\n",
"V_ph=V_L/sqrt(3)\n",
"VA=2000*10^3\n",
"I_FL=VA/(sqrt(3)*V_L)  ,I=I_FL\n",
"\n",
"X_s=1.2,R_a=0.01 //both per unit\n",
"IR_a=(1/100)*V_ph //product of I and R_a\n",
"R_a=IR_a/I_FL\n",
"IX_s=(120/100)*V_ph //product of I and X_s\n",
"//IX_s=(12/100)*V_ph   // this is the mistake made in the textbook\n",
"X_s=IX_s/I_FL\n",
"\n",
"//at full load and 0.8 pf\n",
"phi=acos(0.8)\n",
"//V_ph=complex(V_ph*cos(phi),V_ph*sin(phi))  //just introduced the angle\n",
"E_ph=sqrt(    (abs(V_ph)*cos(phi)+ IR_a)^2+   (abs(V_ph)*sin(phi)+ IX_s)^2     )\n",
"Poles=8,f=50\n",
"\n",
"delta=asin( (abs(V_ph)*sin(phi)+IX_s)/E_ph)  -phi\n",
"delta_dash_mech=(%pi/180) //displacemnt in degree mechanical \n",
"//displacemnt in degree electrical\n",
"delta_dash_elec=delta_dash_mech*(Poles/2)\n",
"P_SY=abs(E_ph)*abs(V_ph)*cos(delta)*sin(delta_dash_elec)/X_s   //synchronising power per phase\n",
"P_SY_total=3*P_SY  //total synchronising power\n",
"\n",
"ns=120*f/(60*Poles)  //in r.p.s\n",
"T_SY=P_SY_total/(2*%pi*ns)   //Synchronising torque \n",
"\n",
"printf('Synchronising power is %.2f kW\n',P_SY_total/1000)\n",
"printf('Synchronising torque is %.2f N-m',T_SY)\n",
"\n",
"printf('\n\nNote that answer obtained doesnt match with textbook due to the following reasons: \n(i)IX_s is considered wrong in textbook.\nIt should have been 4156.92(instead of 415.692)  \nTo verify this use commented statement of IX_s (line 13)and notice that it matches with textbook ans then' )"
   ]
   }
,
{
		   "cell_type": "markdown",
		   "metadata": {},
		   "source": [
			"## Example 6.16: EX6_16.sce"
		   ]
		  },
  {
"cell_type": "code",
	   "execution_count": null,
	   "metadata": {
	    "collapsed": true
	   },
	   "outputs": [],
"source": [
"clc,clear\n",
"printf('Example 6.16\n\n')\n",
"\n",
"E=11*10^3/sqrt(3)\n",
"I_sc=1000,Pole=2,f=50\n",
"delta_dash_mech=1*%pi/180 //displacemnt in degree mechanical \n",
"//displacemnt in degree electrical \n",
"delta_dash_elec=delta_dash_mech*(Pole/2)\n",
"P_SY=E*I_sc*delta_dash_mech //synchronising power per phase\n",
"P_SY_total=P_SY*3 //total synchronising power\n",
"\n",
"ns=120*f/(60*Pole)  //in r.p.s\n",
"T_SY=P_SY_total/(2*%pi*ns)   //Synchronising torque \n",
"\n",
"printf('Synchronising power is %.2f kW\n',P_SY_total/1000)\n",
"printf('Synchronising torque is %.2f N-m',T_SY)"
   ]
   }
,
{
		   "cell_type": "markdown",
		   "metadata": {},
		   "source": [
			"## Example 6.17: DETERMINE_THE_LOAD_SHARED_BY_EACH_OF_THE_2_MACHINES.sce"
		   ]
		  },
  {
"cell_type": "code",
	   "execution_count": null,
	   "metadata": {
	    "collapsed": true
	   },
	   "outputs": [],
"source": [
"clc,clear\n",
"printf('Example 6.17\n\n')\n",
"//Line PQ for Altermnator 1, and PR for alternaator 2.AB is at frequency x from P where total load is 30 MW\n",
"QT=25,PT=2,//PC=x\n",
"SR=25,PS=1.5\n",
"\n",
"//using similarity of triangles PAC and PQT\n",
"AC_by_PC=(QT/PT)// because (AC/QT)=(PC/PT)\n",
"//using similarity of triangles PCB and PSR\n",
"CB_by_PC=(SR/PS)\n",
"\n",
"AC_by_x=AC_by_PC   //which implies AC=12.5*x\n",
"CB_by_x=CB_by_PC  //which implies CB=16.67*x\n",
"\n",
"AC_plus_CB=30  //total load at the frequency at P is 30 MW\n",
"x= AC_plus_CB/(AC_by_x + CB_by_x)\n",
"AC=12.5*x\n",
"CB=16.67*x  \n",
"frequency=50-x\n",
"printf('Loads shared by alternator 1 and 2 are %.2f MW and %.2f MW respectively',AC,CB)"
   ]
   }
,
{
		   "cell_type": "markdown",
		   "metadata": {},
		   "source": [
			"## Example 6.18: TO_DETERMINE_THE_EXCITATION_OF_2ND_ALTERNATORS.sce"
		   ]
		  },
  {
"cell_type": "code",
	   "execution_count": null,
	   "metadata": {
	    "collapsed": true
	   },
	   "outputs": [],
"source": [
"clc,clear\n",
"printf('Example 6.18\n\n')\n",
"//note that a new function p2z has been defined below for direct representation of complex numbers in polar form\n",
"function [FUN] = p2z(RRRR,Theeeta)\n",
" FUN = RRRR.*exp(%i*%pi*Theeeta/180.);\n",
"endfunction\n",
"\n",
"load_total=1600*10^3\n",
"pf=1/sqrt(2)  //lag\n",
"V_L=6600\n",
"I_L=p2z(load_total/(sqrt(3)*V_L*pf),-1*acosd(pf)) \n",
"I_1=p2z(90,-1*acosd(0.8))\n",
"I_2=I_L-I_1\n",
"phi=abs(phasemag(I_2))\n",
"I_a=abs(I_2)\n",
"R_a=1.05,X_s=5 //resistance and synchronous reactance per phase\n",
"V_ph=V_L/sqrt(3)\n",
"E_ph=sqrt(  (V_ph*cos(phi)+I_a*R_a )^2 + ( V_ph*sin(phi)+I_a*X_s )^2        )\n",
"E_line=sqrt(3)*E_ph\n",
"\n",
"printf('Excitation of second alternator is %.2f V ',E_line)\n",
"printf('\n The corresponding field current from the graph is about 310 A\n\n')\n",
"printf('Note: The answer obtained will differ from textbook answer because of higher degree \nof accuracy while storing I_2 and the improper rounding off of I_2 in the textbook')"
   ]
   }
,
{
		   "cell_type": "markdown",
		   "metadata": {},
		   "source": [
			"## Example 6.19: EX6_19.sce"
		   ]
		  },
  {
"cell_type": "code",
	   "execution_count": null,
	   "metadata": {
	    "collapsed": true
	   },
	   "outputs": [],
"source": [
"clc,clear\n",
"printf('Example 6.19\n\n')\n",
"\n",
"V_L=10*10^3\n",
"V_ph=V_L/sqrt(3)\n",
"VA=5*10^6\n",
"I_FL=VA/(sqrt(3)*V_L) //full-load current\n",
"IX_s=(20/100)*V_ph //product of I and X_s\n",
"X_s=IX_s/I_FL //synchronous reactance\n",
"P=4\n",
"delta_dash_mech=1*(%pi/180) //displacement in degree mechanical \n",
"//displacement in degree electrical\n",
"delta_dash_elec=delta_dash_mech*(P/2)\n",
"E=V_ph  //at no load\n",
"P_SY= delta_dash_elec*E^2/X_s  //synchronising power per phase\n",
"P_SY_total=P_SY*3  //Total synchronising power\n",
"\n",
"printf('Synchronising power per phase is %.2fkW\nTotal synchronising power is %.2fkW ',P_SY/1000,P_SY_total/1000)"
   ]
   }
,
{
		   "cell_type": "markdown",
		   "metadata": {},
		   "source": [
			"## Example 6.20: TO_FIND_EMF_AND_POWER_ANGLE.sce"
		   ]
		  },
  {
"cell_type": "code",
	   "execution_count": null,
	   "metadata": {
	    "collapsed": true
	   },
	   "outputs": [],
"source": [
"clc,clear\n",
"printf('Example 6.20\n\n')\n",
"\n",
"Power_total=1.414 //per unit\n",
"V_L=1 //per unit\n",
"phi_t=acos(0.707)\n",
"I_L_T=Power_total/(sqrt(3)*V_L*cos(phi_t))  //Total current\n",
"//Current supplied by each alternator\n",
"I_1=I_L_T/2\n",
"I_2=I_1\n",
"V_ph=V_L/sqrt(3)\n",
"\n",
"phi=acos(0.707)\n",
"R_a=0,X_s=0.6 //resistacne and synchronous reactance\n",
"E_ph=sqrt(  (V_ph*cos(phi)+ I_1*R_a)^2 + (V_ph*sin(phi)+I_1*X_s)^2          )\n",
"delta= atan((I_1*X_s+V_ph*sin(phi)) / (V_ph*cos(phi))) - phi    //power angle\n",
"\n",
"printf('EMF is %.4f p.u. and power angle is %.2f degrees ',E_ph,delta*(180/%pi))\n",
"printf('\n\nFollowing assumptions were made :\n')\n",
"printf('1.Terminal or bus bar voltage at ppoint of connection is constant\n')\n",
"printf('2.The alternators are identical and are initially equally excited\n')\n",
"printf('3.The power supplied by prime movers is adjusted so that each machine carries half the load represented by external impedance Z=R+ j 2pifL , where R and L are constant\n')\n",
"printf('4.The stator resistance is negligible')"
   ]
   }
,
{
		   "cell_type": "markdown",
		   "metadata": {},
		   "source": [
			"## Example 6.21: TO_FIND_THE_EXCITATION_EMF.sce"
		   ]
		  },
  {
"cell_type": "code",
	   "execution_count": null,
	   "metadata": {
	    "collapsed": true
	   },
	   "outputs": [],
"source": [
"clc,clear\n",
"printf('Example 6.21\n\n')\n",
"\n",
"V_l=480\n",
"X_d=0.1,X_q=0.075,R_a=0 //armature resistance and synchronous reactance of direct,quadrature axis\n",
"I_l=1200\n",
"I_ph=I_l/sqrt(3)\n",
"V_ph=V_l\n",
"V_t=V_l,I_a=I_ph\n",
"phi=acos(0.8)\n",
"psi=atan(  (V_t*sin(phi)+I_a*X_q)/(V_t*cos(phi)+I_a*R_a)            )\n",
"delta=psi-phi \n",
"\n",
"I_d=I_a*sin(psi)\n",
"I_q=I_a*cos(psi)\n",
"E_f=V_t*cos(delta)+I_d*X_d+I_q*R_a\n",
"\n",
"printf('Excitation e.m.f is %.2f V ',E_f)"
   ]
   }
,
{
		   "cell_type": "markdown",
		   "metadata": {},
		   "source": [
			"## Example 6.22: EX6_22.sce"
		   ]
		  },
  {
"cell_type": "code",
	   "execution_count": null,
	   "metadata": {
	    "collapsed": true
	   },
	   "outputs": [],
"source": [
"clc,clear\n",
"printf('Example 6.22\n\n')\n",
"\n",
"VA=3.5*10^6\n",
"P=32        //Poles\n",
"Power=2.5*10^6 //In watts\n",
"V_l=6.6*10^3\n",
"phi=acos(0.8)\n",
"I_l=Power/(V_l*cos(phi)*sqrt(3))\n",
"X_d=9.6,X_q=6,R_a=0 //armature resistance and synchronous reactance of direct,quadrature axis\n",
"\n",
"V_t=V_l/sqrt(3)\n",
"psi=atan(  (V_t*sin(phi)+I_l*X_q)/(V_t*cos(phi)+I_l*R_a)            )\n",
"delta=psi-phi\n",
"I_s=I_l\n",
"I_d=I_s*sin(psi)\n",
"I_q=I_s*cos(psi)\n",
"E_f=V_t*cos(delta)+I_d*X_d+I_q*R_a\n",
"\n",
"regulation=100*(E_f-V_t)/V_t\n",
"printf('percentage regulation is %.2f percent',regulation)\n",
"printf('\nExcitation emf= %.0f V',E_f)"
   ]
   }
,
{
		   "cell_type": "markdown",
		   "metadata": {},
		   "source": [
			"## Example 6.23: TO_CALCULATE_PERCENTAGE_REGULATION_OF_THE_MACHINE.sce"
		   ]
		  },
  {
"cell_type": "code",
	   "execution_count": null,
	   "metadata": {
	    "collapsed": true
	   },
	   "outputs": [],
"source": [
"clc,clear\n",
"printf('Example 6.23\n\n')\n",
"\n",
"X_d=7.6,X_q=4.5,R_a=0.15 //armature resistance and synchronous reactance of direct,quadrature axisV_l=13.8*10^3\n",
"V_l=13.8*10^3\n",
"V_t=V_l/sqrt(3)\n",
"phi=acos(0.8)\n",
"VA=25*10^6\n",
"I_a=VA/(sqrt(3)*V_l)\n",
"psi=atan(  (V_t*cos(phi)+I_a*X_q)/(V_t*sin(phi)+I_a*R_a)            )\n",
"\n",
"delta=psi-phi\n",
"I_s=I_a\n",
"I_d=I_s*sin(psi)\n",
"I_q=I_s*cos(psi)\n",
"\n",
"E_f=V_t*cos(delta)+I_d*X_d+I_q*R_a\n",
"regulation=100*(E_f-V_t)/V_t\n",
"\n",
"printf('percentage regulation is %.2f percent',regulation)"
   ]
   }
,
{
		   "cell_type": "markdown",
		   "metadata": {},
		   "source": [
			"## Example 6.24: TO_CALCULATE_PERCENTAGE_VOLTAGE_REGULATION_AT_A_CERTAIN_PF.sce"
		   ]
		  },
  {
"cell_type": "code",
	   "execution_count": null,
	   "metadata": {
	    "collapsed": true
	   },
	   "outputs": [],
"source": [
"clc,clear\n",
"printf('Example 6.24\n\n')\n",
"\n",
"X_d=1,X_q=0.6,R_a=0 //armature resistance and synchronous reactance of direct,quadrature axis\n",
"phi=acos(0.8) //lag\n",
"V_t=1\n",
"I_a=1 //full load\n",
"psi=atan(  (V_t*sin(phi)+I_a*X_q)/(V_t*cos(phi)+I_a*R_a)            )\n",
"\n",
"delta=psi-phi\n",
"I_s=I_a\n",
"I_d=I_a*sin(psi)\n",
"I_q=I_a*cos(psi)\n",
"\n",
"E_f=V_t*cos(delta)+I_d*X_d+I_q*R_a\n",
"regulation=100*(E_f-V_t)/V_t\n",
"printf('percentage regulation is %.2f percent',regulation)"
   ]
   }
,
{
		   "cell_type": "markdown",
		   "metadata": {},
		   "source": [
			"## Example 6.25: TO_DETERMINE_LOAD_ANGLE_AND_COMPONENTS_OF_ARMATURE_CURRENT.sce"
		   ]
		  },
  {
"cell_type": "code",
	   "execution_count": null,
	   "metadata": {
	    "collapsed": true
	   },
	   "outputs": [],
"source": [
"clc,clear\n",
"printf('Example 6.25\n\n')\n",
"\n",
"I_a=10\n",
"phi=20 //lag and degrees\n",
"V_t=400\n",
"X_d=10,X_q=6.5,R_a=0 //armature resistance and synchronous reactance of direct,quadrature axis\n",
"\n",
"psi=atand(  (V_t*sind(phi)+I_a*X_q)/(V_t*cosd(phi)+I_a*R_a)            )\n",
"delta=psi-phi\n",
"I_d=I_a*sind(psi)\n",
"I_q=I_a*cosd(psi)\n",
"\n",
"printf('Load angle is %.2f degrees \n',delta)\n",
"printf('I_d and I_q are %.4f A and %.4f A respectively ',I_d,I_q  )"
   ]
   }
,
{
		   "cell_type": "markdown",
		   "metadata": {},
		   "source": [
			"## Example 6.26: TO_COMPUTE_PERCENTAGE_REGULATION_AT_DIFFERENT_POWER_FACTOR.sce"
		   ]
		  },
  {
"cell_type": "code",
	   "execution_count": null,
	   "metadata": {
	    "collapsed": true
	   },
	   "outputs": [],
"source": [
"clc,clear\n",
"printf('Example 6.26\n\n')\n",
"\n",
"X_d=0.8,X_q=0.5,R_a=0.02 //armature resistance and synchronous reactance of direct,quadrature axis\n",
"\n",
"//case(i)  lag\n",
"phi=acos(0.8)\n",
"V_t=1\n",
"I_a=1//full-load\n",
"psi=atan(  (V_t*sin(phi)+I_a*X_q)/(V_t*cos(phi)+I_a*R_a)            )\n",
"delta=psi-phi\n",
"\n",
"I_d=I_a*sin(psi)\n",
"I_q=I_a*cos(psi)\n",
"\n",
"E_f=V_t*cos(delta)+I_d*X_d+I_q*R_a\n",
"regulation=100*(E_f-V_t)/V_t\n",
"printf('percentage regulation at 0.8 pf lag is %.2f percent',regulation)\n",
"\n",
"//case(ii)  lead\n",
"phi2=-1*acos(0.8) //minus sign because of leading pf\n",
"psi2=atan(  (V_t*sin(phi2)+I_a*X_q)/(V_t*cos(phi2)+I_a*R_a)            )\n",
"delta2=psi2-phi2\n",
"\n",
"I_d2=I_a*sin(psi2)\n",
"I_q2=I_a*cos(psi2)\n",
"\n",
"E_f2=V_t*cos(delta2)+I_d2*X_d+I_q2*R_a\n",
"regulation2=100*(E_f2-V_t)/V_t\n",
"printf('\npercentage regulation at 0.8 pf lead is %.2f percent',regulation2)"
   ]
   }
,
{
		   "cell_type": "markdown",
		   "metadata": {},
		   "source": [
			"## Example 6.27: TO_CALCULATE_THE_OUTPUT_POWER_FACTOR_OF_SECOND_ALTERNATOR.sce"
		   ]
		  },
  {
"cell_type": "code",
	   "execution_count": null,
	   "metadata": {
	    "collapsed": true
	   },
	   "outputs": [],
"source": [
"clc,clear\n",
"printf('Example 6.27\n\n')\n",
"\n",
"kW=[800,500,1000,600]\n",
"cosphi=[1,0.9,0.8,0.9]\n",
"tanphi=tan(acos(cosphi))\n",
"kVAR=kW.*tanphi\n",
"\n",
"kW_total=kW(1)+kW(2)+kW(3)+kW(4)\n",
"kVAR_total=kVAR(1)+kVAR(2)+kVAR(3)+-1*kVAR(4) //4th case is leading \n",
"\n",
"phi_c=atan(kVAR_total/kW_total)  //total power factor angle\n",
"phi_1=acos(0.95)//pf of machine 1\n",
"kW_1=1000 //active component of machine 1\n",
"kVAR_1=kW_1*tan(phi_1) //reactive component of machine 1\n",
"kW_2=kW_total - kW_1 //active component of machine 1\n",
"kVAR_2=kVAR_total-kVAR_1 //reactive component of machine 2\n",
"\n",
"phi_2=atan(kVAR_2/kW_2) \n",
"pf_2=cos(phi_2) //power factor of machine 2\n",
"\n",
"printf('Output of second alternator= %.0f kW',kW_2)\n",
"printf('\npower factor of machine 2 = %.2f and lagging',pf_2)"
   ]
   }
,
{
		   "cell_type": "markdown",
		   "metadata": {},
		   "source": [
			"## Example 6.28: EX6_28.sce"
		   ]
		  },
  {
"cell_type": "code",
	   "execution_count": null,
	   "metadata": {
	    "collapsed": true
	   },
	   "outputs": [],
"source": [
"clc,clear\n",
"printf('Example 6.28\n\n')\n",
"\n",
"kW=[250,300,150]\n",
"cosphi=[0.9,0.75,0.8] //all lagging\n",
"tanphi=tan(acos(cosphi))\n",
"kVAR=kW.*tanphi\n",
"\n",
"kW_total=kW(1)+kW(2)+kW(3)\n",
"kVAR_total=kVAR(1)+kVAR(2)+kVAR(3) \n",
"\n",
"phi_1=acos(0.8)//pf of machine 1\n",
"kW_1=100 //active component of machine 1\n",
"kVAR_1=kW_1*tan(phi_1) //reactive component of machine 1\n",
"kW_2=kW_total - kW_1 //active component of machine 1\n",
"kVAR_2=kVAR_total-kVAR_1 //reactive component of machine 2\n",
"phi_2=atan(kVAR_2/kW_2) \n",
"pf_2=cos(phi_2) //power factor of machine 2\n",
"\n",
"printf('Output of second alternator= %.0f kW',kW_2)\n",
"printf('\npower factor of machine 2 = %.4f and lagging',pf_2)"
   ]
   }
,
{
		   "cell_type": "markdown",
		   "metadata": {},
		   "source": [
			"## Example 6.29: TO_DETERMINE_VOLTAGE_REGULATION_AND_OPEN_CIRCUIT_POWER_SUPPLY_OF_GENERATOR.sce"
		   ]
		  },
  {
"cell_type": "code",
	   "execution_count": null,
	   "metadata": {
	    "collapsed": true
	   },
	   "outputs": [],
"source": [
"clc,clear\n",
"printf('Example 6.29\n\n')\n",
"\n",
"V_L=6.6*10^3\n",
"V_ph=V_L/sqrt(3)\n",
"V_t=V_ph\n",
"X_d=9.6,X_q=6,R_a=0 //armature resistance and synchronous reactance of direct,quadrature axis\n",
"VA=3.5*10^6\n",
"I_L=VA/(sqrt(3)*V_L)\n",
"\n",
"P=2.5*10^6,phi=acos(0.8)\n",
"I_a=P/(sqrt(3)*V_L*cos(phi))\n",
"psi=atan(  (V_t*sin(phi)+ I_a*X_q)/(V_t*cos(phi)+ I_a*R_a)     )\n",
"\n",
"delta=psi-phi\n",
"I_d=I_a*sin(psi)\n",
"I_q=I_a*cos(phi)\n",
"\n",
"E_f=V_t*cos(delta)+I_d*X_d+I_q*R_a\n",
"regulation=100*(E_f-V_t)/V_t\n",
"P_max=(V_ph^2/2)*((X_d-X_q)/(X_d*X_q))*(sin(2*delta))\n",
"\n",
"printf('percentage voltage regulation is %.2f percent',regulation)\n",
"printf('\nPower under open circuit is %.1f kW per phase',P_max/1000)"
   ]
   }
,
{
		   "cell_type": "markdown",
		   "metadata": {},
		   "source": [
			"## Example 6.2: TO_DETERMINE_TOTAL_INDUCED_EMF_ON_OPEN_CIRCUIT.sce"
		   ]
		  },
  {
"cell_type": "code",
	   "execution_count": null,
	   "metadata": {
	    "collapsed": true
	   },
	   "outputs": [],
"source": [
"clc,clear\n",
"printf('Example 6.2\n\n')\n",
"\n",
"X_d=0.7 , X_q=0.4  //direct and quadrature axis synchronous reactance p.u.\n",
"R_a=0\n",
"phi=acos(0.8)  //Lag\n",
"\n",
"V_t=1 //assumed rated terminal Voltage \n",
"I_a=1 //Full-load armature current\n",
"\n",
"psi=atan(  (V_t*sin(phi)+I_a*X_q)/(V_t*cos(phi)+I_a*R_a)            )\n",
"delta=psi-phi\n",
"I_d=I_a*sin(psi)\n",
"I_q=I_a*cos(psi)\n",
"E_f=V_t*cos(delta)+I_d*X_d+I_q*R_a\n",
"printf('Total e.m.f induced on open circuit is %.4f p.u.',E_f)"
   ]
   }
,
{
		   "cell_type": "markdown",
		   "metadata": {},
		   "source": [
			"## Example 6.30: EX6_30.sce"
		   ]
		  },
  {
"cell_type": "code",
	   "execution_count": null,
	   "metadata": {
	    "collapsed": true
	   },
	   "outputs": [],
"source": [
"clc,clear\n",
"printf('Example 6.30\n\n')\n",
"\n",
"V_L=3.3*10^3\n",
"V_ph=V_L/sqrt(3)\n",
"VA=3*10^6\n",
"I_FL=VA/(sqrt(3)*V_L)\n",
"IX_s=(25/100)*V_ph //product of I and X_s\n",
"X_s=complex(0,IX_s/I_FL)\n",
"N_s=1000 //in r.p.m\n",
"\n",
"Poles=6,f=50\n",
"delta_dash_mech=(%pi/180) //displacement in degree mechanical\n",
"//displacement in degree electrical\n",
"delta_dash_elec=delta_dash_mech*(Poles/2)\n",
"\n",
"I=I_FL,phi=acos(0.8)\n",
"V=complex(V_ph*cos(phi),V_ph*sin(phi))\n",
"E= V+ I*X_s\n",
"\n",
"delta=(%pi/180)*phasemag(E)-phi   //E leads I by (%pi/180)*phasemag(E) and V leads I by phi radians \n",
"P_SY=abs(E)*abs(V_ph)*cos(delta)*sin(delta_dash_elec)/abs(X_s)   //synchronising power per phase \n",
"P_SY_total=3*P_SY  //total synchronising power\n",
"\n",
"ns=120*f/(60*Poles)  //in r.p.m\n",
"T_SY=P_SY_total/(2*%pi*ns)   //Synchronising torque \n",
"printf('Synchronising power per phase is %.3f kW\n',P_SY/1000)\n",
"printf('Synchronising torque is %.0f N-m',T_SY)\n",
"printf('\n\nAnswer mismatches due to improper approximation')"
   ]
   }
,
{
		   "cell_type": "markdown",
		   "metadata": {},
		   "source": [
			"## Example 6.31: EX6_31.sce"
		   ]
		  },
  {
"cell_type": "code",
	   "execution_count": null,
	   "metadata": {
	    "collapsed": true
	   },
	   "outputs": [],
"source": [
"clc,clear\n",
"printf('Example 6.31\n\n')\n",
"\n",
"V_L=3.3*10^3\n",
"V_ph=V_L/sqrt(3)\n",
"VA=3*10^6\n",
"I_FL=VA/(sqrt(3)*V_L)\n",
"IX_s=(20/100)*V_ph //product of I and X_s\n",
"X_s=complex(0,IX_s/I_FL)\n",
"N_s=1000 //in r.p.m\n",
"Poles=6,f=50\n",
"\n",
"delta_dash_mech=(%pi/180) //displacement in degree mechanical\n",
"//displacement in degree electrical \n",
"delta_dash_elec=delta_dash_mech*(Poles/2)\n",
"\n",
"//E=V as the alternator is on no-load and X_s=Z_s\n",
"P_SY=abs(V_ph)^2*(delta_dash_elec)/abs(X_s)   //synchronising power per phase\n",
"P_SY_total=3*P_SY  //total synchronising power\n",
"\n",
"ns=120*f/(60*Poles)  //in r.p.s\n",
"T_SY=P_SY_total/(2*%pi*ns)   //Synchronising torque \n",
"printf('Synchronising power per phase is %.3f kW\n',P_SY/1000)\n",
"printf('Total Synchronising power is %.3f kW',P_SY_total/1000)\n",
"printf('\nSynchronising torque is %.0f N-m',T_SY)"
   ]
   }
,
{
		   "cell_type": "markdown",
		   "metadata": {},
		   "source": [
			"## Example 6.32: EX6_32.sce"
		   ]
		  },
  {
"cell_type": "code",
	   "execution_count": null,
	   "metadata": {
	    "collapsed": true
	   },
	   "outputs": [],
"source": [
"clc,clear\n",
"printf('Example 6.32\n\n')\n",
"V_L=11*10^3\n",
"V_ph=V_L/sqrt(3)\n",
"VA=700*10^3\n",
"I_FL=VA/(sqrt(3)*V_L)\n",
"IX_s=(14/100)*V_ph //product of I and X_s\n",
"X_s=IX_s/I_FL\n",
"//X_s=complex(0,IX_s/I_FL)\n",
"IR_a=(1.5/100)*V_ph //product of I and R_a\n",
"R_a=IR_a/I_FL\n",
"I=I_FL,phi=acos(0.8)\n",
"V=complex(V_ph*cos(phi),V_ph*sin(phi))\n",
"E_ph=sqrt(  (V_ph*cos(phi)+IR_a)^2 +(V_ph*sin(phi)+IX_s)^2    )\n",
"delta=asin((V_ph*sin(phi)+IX_s)/E_ph)   -phi\n",
"Poles=4,f=50\n",
"delta_dash_mech=(%pi/180) //phase displacemnt in degree mechanical\n",
"delta_dash_elec=delta_dash_mech*(Poles/2)//phase displacemnt in degree electrical\n",
"P_SY=abs(V_ph)*abs(E_ph)*cos(delta)*sin(delta_dash_elec)/abs(X_s)   //synchronising power per phase\n",
"P_SY_total=3*P_SY  //total synchronising power\n",
"ns=120*f/(60*Poles)  //in r.p.s\n",
"T_SY=P_SY_total/(2*%pi*ns)   //Synchronising torque \n",
"printf('Synchronising power per phase is %.3f kW\n',P_SY/1000)\n",
"printf('Synchronising power is %.3f kW ; ',P_SY/1000)\n",
"printf('Total Synchronising power is %.3f kW',P_SY_total/1000)\n",
"printf('\nSynchronising torque is %.2f N-m',T_SY)"
   ]
   }
,
{
		   "cell_type": "markdown",
		   "metadata": {},
		   "source": [
			"## Example 6.33: TO_DETERMINE_CERTAIN_CHARACTERISTICS_OF_TWO_ALTERNATORS_OPERATING_IN_PARALLEL.sce"
		   ]
		  },
  {
"cell_type": "code",
	   "execution_count": null,
	   "metadata": {
	    "collapsed": true
	   },
	   "outputs": [],
"source": [
"clc,clear\n",
"printf('Example 6.33\n\n')\n",
"//note that a new function p2z has been defined below for direct representation of complex numbers in polar form\n",
"function [FUN] = p2z(RRRR,Theeeta)\n",
" FUN = RRRR.*exp(%i*%pi*Theeeta/180.);\n",
"endfunction\n",
"\n",
"Z1=complex(0,2)\n",
"Z2=complex(0,3)\n",
"Z=6\n",
"E1=p2z(230,0)\n",
"E2=p2z(230,10)\n",
"\n",
"I1=((E1-E2)*Z+E1*Z2)/(Z*(Z1+Z2)+Z1*Z2)\n",
"I2=((E2-E1)*Z+E2*Z1)/(Z*(Z1+Z2)+Z1*Z2)\n",
"\n",
"phi1=phasemag(I1)  //Phasemag returns the angle of complex number in degrees\n",
"phi2=phasemag(I2)  //Phasemag returns the angle of complex number in degrees\n",
"\n",
"I=I1+I2\n",
"V=I*Z //Terminal voltage\n",
"printf('(i) Terminal voltage is %.2f volts at %.1f degrees\n',abs(V),phasemag(V))\n",
"printf('(ii) Currents are %.2f A at %.0f degrees and %.2f A at %.2f degrees\n     Total current is %.2f A at %.1f degrees  ',abs(I1),phasemag(I1),abs(I2),phasemag(I2),abs(I),phasemag(I))\n",
"\n",
"P1=abs(V)*abs(I1)*cosd(phi1)\n",
"P2=abs(V)*abs(I2)*cosd(phi2)\n",
"printf('\n(iii)Power delivered %.2f watts and  %.2f watts',P1,P2)"
   ]
   }
,
{
		   "cell_type": "markdown",
		   "metadata": {},
		   "source": [
			"## Example 6.34: TO_DETERMINE_OPEN_CIRCUIT_VOLTAGE.sce"
		   ]
		  },
  {
"cell_type": "code",
	   "execution_count": null,
	   "metadata": {
	    "collapsed": true
	   },
	   "outputs": [],
"source": [
"clc,clear\n",
"printf('Example 6.34\n\n')\n",
"\n",
"X_d=0.8,X_q=0.5  //both per unit\n",
"R_a=0 //assumed\n",
"phi=acos(0.8)\n",
"V_t=1//pu\n",
"I_a=1 //full-load\n",
"\n",
"psi=atan(  (V_t*sin(phi)+I_a*X_q)/(V_t*cos(phi)+I_a*R_a)            )\n",
"delta=psi-phi\n",
"I_d=I_a*sin(psi)\n",
"I_q=I_a*cos(psi)\n",
"E_f=V_t*cos(delta)+I_d*X_d+I_q*R_a\n",
"\n",
"printf('Open circuit voltage is %.3f p.u.',E_f)"
   ]
   }
,
{
		   "cell_type": "markdown",
		   "metadata": {},
		   "source": [
			"## Example 6.35: EX6_35.sce"
		   ]
		  },
  {
"cell_type": "code",
	   "execution_count": null,
	   "metadata": {
	    "collapsed": true
	   },
	   "outputs": [],
"source": [
"clc,clear\n",
"printf('Example 6.35\n\n')\n",
"\n",
"V_L=6600,I_L=110,phi_1=acos(0.9) //lagging\n",
"kW=[400,1000,400,300]*10^3\n",
"cosphi=[1,0.71,0.8,0.9]\n",
"tanphi=tan(acos(cosphi))\n",
"kVAR=kW.*tanphi\n",
"\n",
"kW_total=kW(1)+kW(2)+kW(3)+kW(4)\n",
"kVAR_total=kVAR(1)+kVAR(2)+kVAR(3)+kVAR(4)\n",
"\n",
"phi_c=atan(kVAR_total/kW_total)  //total power factor angle\n",
"load_1=sqrt(3)*V_L*I_L*cos(phi_1)\n",
"\n",
"kW_1=load_1 //active component of machine 1\n",
"kVAR_1=kW_1*tan(phi_1) //reactive component of machine 1\n",
"kW_2=kW_total - kW_1 //active component of machine 1\n",
"kVAR_2=kVAR_total-kVAR_1 //reactive component of machine 2\n",
"\n",
"phi_2=atan(kVAR_2/kW_2) \n",
"pf_2=cos(phi_2) //power factor of machine 2\n",
"\n",
"printf('Output of second alternator= %.2f kW',kW_2/1000)\n",
"printf('\nPower factor of machine 2 = %.4f and lagging',pf_2)"
   ]
   }
,
{
		   "cell_type": "markdown",
		   "metadata": {},
		   "source": [
			"## Example 6.36: TO_DETERMINE_ALTERED_CURRENT_AND_POWER_FACTOR.sce"
		   ]
		  },
  {
"cell_type": "code",
	   "execution_count": null,
	   "metadata": {
	    "collapsed": true
	   },
	   "outputs": [],
"source": [
"clc,clear\n",
"printf('Example 6.36\n\n')\n",
"\n",
"V_L=11000\n",
"V_ph=V_L/sqrt(3)\n",
"VA=2*10^6,phi=acos(0.8)\n",
"I_FL=VA/(sqrt(3)*V_L)\n",
"phi_1=acos(0.8)\n",
"IX_s=(20/100)*V_ph //product of I and X_s\n",
"X_s=IX_s/I_FL\n",
"I_1=I_FL\n",
"BC=I_1*cos(phi_1)*X_s\n",
"AB=I_1*sin(phi_1)*X_s    , OA=V_ph\n",
"OC=sqrt( (OA+AB)^2+(BC)^2 ) ,E_1=OC\n",
"E_2=1.25*E_1,OE=E_2\n",
"DE=BC\n",
"AD=sqrt(OE^2-DE^2) -OA           //because OE=sqrt( (OA+AD)^2 + (DE)^2  )\n",
"\n",
"I_2sinphi2=AD/X_s\n",
"I_2cosphi2=I_1*cos(phi)\n",
"I_2=sqrt( (I_2cosphi2)^2 + (I_2sinphi2)^2  )\n",
"phi2=atan( I_2sinphi2/ I_2cosphi2 )\n",
"new_pf=cos(phi2)\n",
"\n",
"printf('Machine current is %.2f A \n',I_2)\n",
"printf('Power factor is  %.4f lagging',new_pf)"
   ]
   }
,
{
		   "cell_type": "markdown",
		   "metadata": {},
		   "source": [
			"## Example 6.37: EX6_37.sce"
		   ]
		  },
  {
"cell_type": "code",
	   "execution_count": null,
	   "metadata": {
	    "collapsed": true
	   },
	   "outputs": [],
"source": [
"clc,clear\n",
"printf('Example 6.37\n\n')\n",
"//note that a new function p2z has been defined below for direct representation of complex numbers in polar form\n",
"function [FUN] = p2z(RRRR,Theeeta)\n",
" FUN = RRRR.*exp(%i*%pi*Theeeta/180.);\n",
"endfunction\n",
"\n",
"P_out=3000*10^3\n",
"V_L=6.6*10^3,V_ph=V_L/sqrt(3)\n",
"phi=acos(0.8)\n",
"I_L=p2z(P_out/(sqrt(3)*V_L*cos(phi)),-1*(180/%pi)*phi)\n",
"\n",
"P_out1=P_out/2\n",
"I_L1=150  //given\n",
"phi_L1=acos(    P_out1/(sqrt(3)*V_L*I_L1)  )\n",
"I_L1=p2z(I_L1,-1*(180/%pi)*phi_L1)\n",
"\n",
"I_L2=I_L-I_L1\n",
"pf_2=cosd(phasemag(I_L2))\n",
"Z_1=complex(0.5,10)\n",
"I_1=I_L1\n",
"E_1=V_ph + I_1*Z_1\n",
"delta_1=(%pi/180)*phasemag(E_1)    //load angle of alternator 1\n",
"E_1L=sqrt(3)*E_1\n",
"\n",
"Z_2=complex(0.4,12)\n",
"I_2=I_L2\n",
"E_2=V_ph + I_2*Z_2\n",
"delta_2=(%pi/180)*phasemag(E_2)    //load angle of alternator 2\n",
"\n",
"printf('Part(i)\nCurrents are %.0f A at %.1f degrees and %.1f A at %.1f degrees\nTotal current is %.0f at %.2f\n',abs(I_L1),phasemag(I_L1),abs(I_L2),phasemag(I_L2),abs(I_L),phasemag(I_L))\n",
"printf('Part(ii)\nPower factor is %.4f and lagging\n',cos(phi_L1))\n",
"printf('Part(iii)\nemf are %.2f V at %.2f degrees and %.4f V at %.0f degrees\n',abs(E_1),phasemag(E_1),abs(E_2),phasemag(E_2))\n",
"printf('Part(iv)\nPower angles are %.2f degrees and %.0f degrees \n',(180/%pi)*delta_1,(180/%pi)*delta_2)"
   ]
   }
,
{
		   "cell_type": "markdown",
		   "metadata": {},
		   "source": [
			"## Example 6.38: TO_DETERMINE_THE_kW_OUTPUT_AND_POWER_FACTOR_OF_EACH_OF_THE_SYNCHRONOUS_GENERATOR.sce"
		   ]
		  },
  {
"cell_type": "code",
	   "execution_count": null,
	   "metadata": {
	    "collapsed": true
	   },
	   "outputs": [],
"source": [
"clc,clear\n",
"printf('Example 6.38\n\n')\n",
"\n",
"Z1=complex(0.2,2)\n",
"Z2=Z1\n",
"ZL=complex(3,4)\n",
"Z=ZL\n",
"E1=complex(2000,0)\n",
"E2=complex(2200,100)\n",
"\n",
"I1=((E1-E2)*Z+E1*Z2)/(Z*(Z1+Z2)+Z1*Z2)\n",
"I2=((E2-E1)*Z+E2*Z1)/(Z*(Z1+Z2)+Z1*Z2)\n",
"\n",
"IL=I1+I2\n",
"V=IL*Z //Terminal voltage\n",
"\n",
"phi1=phasemag(V)-phasemag(I1)  //Phasemag returns the angle of complex number in degrees\n",
"phi2=phasemag(V)-phasemag(I2)  //Phasemag returns the angle of complex number in degrees\n",
"\n",
"Pout1=sqrt(3)*sqrt(3)*abs(V)*abs(I1)*cosd(phi1)\n",
"Pout2=sqrt(3)*sqrt(3)*abs(V)*abs(I2)*cosd(phi2)\n",
"printf('\nPower delivered is %.2f kW and %.2f kW at power-factors %.4f lag and %.4f lag respectively',Pout1/1000,Pout2/1000,cosd(phi1),cosd(phi2))"
   ]
   }
,
{
		   "cell_type": "markdown",
		   "metadata": {},
		   "source": [
			"## Example 6.39: TO_CALCULATE_SYNCHRONISING_POWER_PER_MECHANICAL_DEGREE_OF_DISPLACEMENT.sce"
		   ]
		  },
  {
"cell_type": "code",
	   "execution_count": null,
	   "metadata": {
	    "collapsed": true
	   },
	   "outputs": [],
"source": [
"clc,clear\n",
"printf('Example 6.39\n\n')\n",
"\n",
"f=50\n",
"P=12\n",
"V_L=6600\n",
"V_ph=V_L/sqrt(3)\n",
"VA=2000*10^3\n",
"I_FL=VA/(sqrt(3)*V_L)\n",
"\n",
"IX_s=(25/100)*V_ph //product of I and X_s\n",
"X_s=complex(0,IX_s/I_FL)\n",
"N_s=12*f/P //in rpm\n",
"delta_dash_mech=(%pi/180) //phase displacemnt in degree mechanical\n",
"delta_dash_elec=delta_dash_mech*(P/2) //phase displacemnt in degree electrical\n",
"\n",
"phi=acos(0.8) //lag\n",
"I=complex(I_FL*cos(-1*phi),I_FL*sin(-1*phi))\n",
"V=V_ph\n",
"E=V + I*X_s\n",
"delta=phasemag(E)*(%pi/180)\n",
"P_SY=abs(E)*abs(V)*cos(delta)*sin(delta_dash_elec)/abs(X_s)\n",
"P_SY_total=3*P_SY\n",
"printf('\nSynchronising power is %.2f kW',P_SY/1000)\n",
"printf('\nTotal synchronising power is %.2f kW',P_SY_total/1000)"
   ]
   }
,
{
		   "cell_type": "markdown",
		   "metadata": {},
		   "source": [
			"## Example 6.3: EX6_3.sce"
		   ]
		  },
  {
"cell_type": "code",
	   "execution_count": null,
	   "metadata": {
	    "collapsed": true
	   },
	   "outputs": [],
"source": [
"clc,clear\n",
"printf('Example 6.3\n\n')\n",
"\n",
"//note that a new function p2z has been defined below for direct representation of complex numbers in polar form\n",
"function [FUN] = p2z(RRRR,Theeeta)\n",
" FUN = RRRR.*exp(%i*%pi*Theeeta/180.);\n",
"endfunction\n",
"\n",
"Z1=complex(0,3) //impedance of alternator 1\n",
"Z2=complex(0,4) //impedance of alternator 2\n",
"Z=6 //load\n",
"E1=p2z(220,0) //induced emf vector on no load\n",
"E2=p2z(220,10)//induced emf vector on no load\n",
"\n",
"I1=((E1-E2)*Z+E1*Z2)/(Z*(Z1+Z2)+Z1*Z2)\n",
"I2=((E2-E1)*Z+E2*Z1)/(Z*(Z1+Z2)+Z1*Z2)\n",
"\n",
"phi1=phasemag(I1)  //Phasemag returns the angle of complex number in degrees\n",
"phi2=phasemag(I2)  //Phasemag returns the angle of complex number in degrees\n",
"\n",
"I=I1+I2\n",
"V=I*Z //Terminal voltage\n",
"printf('(i) Terminal voltage is %.1f volts at %.2f degrees\n',abs(V),phasemag(V))\n",
"printf('(ii) Currents are %.2f A at %.2f degrees and %.2f A at %.2f degrees\n     Total current is %.2f A at %.2f degrees  ',abs(I1),phasemag(I1),abs(I2),phasemag(I2),abs(I),phasemag(I))\n",
"\n",
"P1=abs(V)*abs(I1)*cosd(phi1)\n",
"P2=abs(V)*abs(I2)*cosd(phi2)\n",
"printf('\n(iii)Power delivered is %.2f watts and %.2f watts',P1,P2)"
   ]
   }
,
{
		   "cell_type": "markdown",
		   "metadata": {},
		   "source": [
			"## Example 6.40: TO_DETERMINE_THE_ALTERNATOR_CURRENT_AND_POWER_FACTOR.sce"
		   ]
		  },
  {
"cell_type": "code",
	   "execution_count": null,
	   "metadata": {
	    "collapsed": true
	   },
	   "outputs": [],
"source": [
"clc,clear\n",
"printf('Example 6.40\n\n')\n",
"\n",
"V_L=22000\n",
"V_ph=V_L/sqrt(3)\n",
"power=230*10^6\n",
"phi=acos(1)\n",
"I_FL=power/(sqrt(3)*V_L*cos(phi))\n",
"I_1=I_FL\n",
"X_s=1.2\n",
"\n",
"E_1=sqrt( V_ph^2 + (I_1*X_s)^2 )\n",
"E_2=1.3*E_1\n",
"AC=  sqrt( E_2^2-(I_1*X_s)^2  )   -V_ph     // because E^2=(V_ph+AC)^2+(I_1*X_s)^2\n",
"I2X_S=AC\n",
"\n",
"I_2cosphi2=I_1  //because phi_2=acos(I_1/I_2) //from ACD\n",
"I_2sinphi2=AC/X_s\n",
"I_2=sqrt( (I_2cosphi2)^2 + (I_2sinphi2)^2  )\n",
"phi2=atan( I_2sinphi2/ I_2cosphi2 )\n",
"new_pf=cos(phi2)\n",
"\n",
"printf('Machine current is %.2f A \n',I_2)\n",
"printf('Power factor is  %.4f and lagging',new_pf)"
   ]
   }
,
{
		   "cell_type": "markdown",
		   "metadata": {},
		   "source": [
			"## Example 6.41: TO_DETERMINE_CERTAIN_CHARACTERISTICS_RELATED_TO_EACH_OF_THE_2_ALTERNATORS.sce"
		   ]
		  },
  {
"cell_type": "code",
	   "execution_count": null,
	   "metadata": {
	    "collapsed": true
	   },
	   "outputs": [],
"source": [
"clc,clear\n",
"printf('Example 6.41\n\n')\n",
"//note that a new function p2z has been defined below for direct representation of complex numbers in polar form\n",
"function [FUN] = p2z(RRRR,Theeeta)\n",
" FUN = RRRR.*exp(%i*%pi*Theeeta/180.);\n",
"endfunction\n",
"\n",
"P_out=1500*10^3\n",
"V_L=3.3*10^3\n",
"phi=acos(0.8)\n",
"I_L=p2z(P_out/(sqrt(3)*V_L*cos(phi)),-1*acosd(0.8))\n",
"\n",
"I_L1_magnitude=150  //given\n",
"P_out1=(3*10^6)/2 //because load is EQUALLY shared between 2 alternators\n",
"pf_L1=P_out1/(sqrt(3)*2*V_L*I_L1_magnitude)  //operating pf of alternator 1\n",
"phi1=acosd(pf_L1)\n",
"I_L1=p2z(I_L1_magnitude,-1*phi1)\n",
"I_L2=I_L-I_L1   //because I_L=I_L1 + I_L2\n",
"pf_L2=cosd(phasemag(I_L2))\n",
"\n",
"V_ph=6.6*10^3/sqrt(3)\n",
"Z_1=complex(0.5,10)\n",
"I_1=I_L1\n",
"E_1= V_ph + I_1*Z_1\n",
"delta_1=phasemag(E_1)  //load angle of alternator 1\n",
"I_2=I_L2\n",
"\n",
"Z_2=complex(0.4,12)\n",
"E_2= V_ph + I_2*Z_2\n",
"delta_2=phasemag(E_2)  //load angle of alternator 1\n",
"\n",
"printf('for machine 1\ncurrent is %.0f A at %.2f degrees\nPower factor of %.4f lag\ninduced emf of %.2f V\nload angle of %.2f degrees',abs(I_L1),phasemag(I_L1),pf_L1,abs(E_1),delta_1)\n",
"printf('\n\nfor machine 2\ncurrent is %.1f A at %.1f degrees\nPower factor of %.4f lag\ninduced emf of %.2f V\nload angle of %.0f degrees',abs(I_L2),phasemag(I_L2),pf_L2,abs(E_2),delta_2)"
   ]
   }
,
{
		   "cell_type": "markdown",
		   "metadata": {},
		   "source": [
			"## Example 6.42: TO_CALCULATE_THE_EXCITATION_VOLTAGE.sce"
		   ]
		  },
  {
"cell_type": "code",
	   "execution_count": null,
	   "metadata": {
	    "collapsed": true
	   },
	   "outputs": [],
"source": [
"clc,clear\n",
"printf('Example 6.42\n\n')\n",
"\n",
"V_l=230\n",
"VA=5*10^3\n",
"X_d=12,X_q=7,R_a=0 //armature resistance and synchronous reactance of direct,quadrature axis\n",
"phi=acos(1)\n",
"\n",
"I_l=VA/(V_l*sqrt(3))\n",
"V_ph=V_l/sqrt(3)\n",
"V_t=V_ph,I_a=I_l\n",
"\n",
"psi=atan(  (V_t*sin(phi)+I_a*X_q)/(V_t*cos(phi)+I_a*R_a)            )\n",
"delta=psi-phi\n",
"I_d=I_a*sin(psi)\n",
"I_q=I_a*cos(psi)\n",
"E_f=V_t*cos(delta)+I_d*X_d+I_q*R_a\n",
"\n",
"printf('Excitation voltage is %.3f V ',E_f)"
   ]
   }
,
{
		   "cell_type": "markdown",
		   "metadata": {},
		   "source": [
			"## Example 6.43: EX6_43.sce"
		   ]
		  },
  {
"cell_type": "code",
	   "execution_count": null,
	   "metadata": {
	    "collapsed": true
	   },
	   "outputs": [],
"source": [
"clc,clear\n",
"printf('Example 6.43\n\n')\n",
"\n",
"V_l=6.6*10^3\n",
"V_t=V_l/sqrt(3)\n",
"X_d=23.2,X_q=14.5,R_a=0 //armature resistance and synchronous reactance of direct,quadrature axis\n",
"VA=1800*10^3\n",
"phi=acos(0.8) //lag\n",
"\n",
"I_a=VA/(V_l*sqrt(3))\n",
"\n",
"psi=atan(  (V_t*sin(phi)-I_a*X_q)/(V_t*cos(phi)-I_a*R_a)  ) //minus sign in numerator and denomenator for motors\n",
"delta=psi+phi\n",
"I_d=I_a*sin(psi)\n",
"I_q=I_a*cos(psi)\n",
"E_f=V_t*cos(delta)-I_d*X_d-I_q*R_a\n",
"printf('Excitation emf = %.4f V\n',E_f)\n",
"//P_m= ( V_t*E_f*sin(delta)/X_d  ) + ((1/X_q)-(1/X_d))*0.5*sin(2*delta)*V_t^2\n",
"//P_m=0.4996*cos(delta)+0.1877*sin(2*delta)\n",
"//for maximum power output, differenciate and equate to zero\n",
"\n",
"delta_max=63.4 //degree\n",
"\n",
"P_m_max=((1/X_q)-(1/X_d))*0.5*sind(2*delta_max)*V_t^2   //Maximuum load supplied with E_f=0\n",
"printf('Maximum load the motor can supply is %.4f MW per phase ',P_m_max*10^-6      )"
   ]
   }
,
{
		   "cell_type": "markdown",
		   "metadata": {},
		   "source": [
			"## Example 6.4: EX6_4.sce"
		   ]
		  },
  {
"cell_type": "code",
	   "execution_count": null,
	   "metadata": {
	    "collapsed": true
	   },
	   "outputs": [],
"source": [
"clc,clear\n",
"printf('Example 6.4\n\n')\n",
"\n",
"V_l=10000\n",
"V_ph=V_l/sqrt(3)\n",
"VA=10*10^6\n",
"I_FL=VA/(V_l*sqrt(3)) //Current at full laod\n",
"IX_s=(20/100)*V_ph //product of I and X_s\n",
"\n",
"X_s=IX_s/I_FL\n",
"N_s=1500\n",
"f=50\n",
"P=120*f/N_s //poles\n",
"\n",
"delta_dash_mech=%pi/180 //phase displacement in degree mechanical\n",
"delta_dash_elec=delta_dash_mech*(P/2)  //P/2 is pole pairs(and not poles)\n",
"E=V_ph //since alternator is on no-load\n",
"P_SY=delta_dash_elec*E^2/X_s  //Synchronous Power\n",
"P_SY_3ph=P_SY*3 //For 3 phases\n",
"\n",
"printf('Synchronising Power of armature is %.3f kW.\nSynchronising Power for 3 phase is %.3f kW',P_SY*10^-3,P_SY_3ph*10^-3)"
   ]
   }
,
{
		   "cell_type": "markdown",
		   "metadata": {},
		   "source": [
			"## Example 6.5: CALCULATE_SYNCHRONISING_POWER_AND_TORQUE_AT_NO_LOAD_AND_FULL_LOAD.sce"
		   ]
		  },
  {
"cell_type": "code",
	   "execution_count": null,
	   "metadata": {
	    "collapsed": true
	   },
	   "outputs": [],
"source": [
"clc,clear\n",
"printf('Example 6.5\n\n')\n",
"//note that a new function p2z has been defined below for direct representation of complex numbers in polar form\n",
"function [FUN] = p2z(RRRR,Theeeta)\n",
" FUN = RRRR.*exp(%i*%pi*Theeeta/180.);\n",
"endfunction\n",
"\n",
"V_L=6.6*10^3\n",
"V_ph=V_L/sqrt(3)\n",
"VA=3*10^6\n",
"I_FL=VA/(V_L*sqrt(3)) //full load current \n",
"P=8,f=50 //poles and frequency\n",
"\n",
"X_s=complex(0,2.9)//X_s=2.9\n",
"delta_dash_mech=%pi/180\n",
"delta_dash_elec=delta_dash_mech*(P/2)  //P/2 is pole pairs(and not poles)\n",
"\n",
"//part(i)\n",
"E=V_ph\n",
"P_SY=delta_dash_elec*E^2/abs(X_s)  //Synchronous Power per phase\n",
"P_SY_3ph=P_SY*3 //For 3 phases\n",
"printf('(i)   Synchronising power at no load is %.3f kW',P_SY*10^-3)\n",
"printf('\n   Total synchronising power at no load is %.2f kW\n',P_SY_3ph*10^-3)\n",
"\n",
"N_s=120*f/P //in rpm\n",
"n_s=(N_s)/60 //in rps\n",
"T_SY=P_SY_3ph/(2*%pi*n_s)\n",
"printf('\nSynchronous torque per mechanical degree of phase displacement is %.2f * 10^3 N-m',T_SY*10^-3)\n",
"\n",
"//part(ii)\n",
"phi=acosd(0.85)\n",
"I=p2z(I_FL,0)\n",
"V=p2z(V_ph,phi)\n",
"\n",
"E=V+I*X_s\n",
"//E leads I by phasemag(E). V leads I by phasemag(V)\n",
"\n",
"delta=(%pi/180)* (phasemag(E)-phasemag(V) ) //power angle in radians\n",
"P_SY2=abs(E)*abs(V)*cos(delta)*sin(delta_dash_elec)/abs(X_s)\n",
"\n",
"P_SY_total_2=3*P_SY2\n",
"//n_s=T_SY/(P_SY/(2*%pi) )       //because T_SY=P_SY/(2*%pi*n_s)\n",
"printf('\n\n(ii)Total synchronising power is %.0f kW',P_SY_total_2*10^-3)\n",
"\n",
"T_SY2=P_SY_total_2/(2*%pi*n_s)\n",
"printf('\nSynchronising torque is %.2f * 10^3 N-m',T_SY2/1000)"
   ]
   }
,
{
		   "cell_type": "markdown",
		   "metadata": {},
		   "source": [
			"## Example 6.6: EX6_6.sce"
		   ]
		  },
  {
"cell_type": "code",
	   "execution_count": null,
	   "metadata": {
	    "collapsed": true
	   },
	   "outputs": [],
"source": [
"clc,clear\n",
"printf('Example 6.6\n\n')\n",
"//note that a new function p2z has been defined below for direct representation of complex numbers in polar form\n",
"function [FUN] = p2z(RRRR,Theeeta)\n",
" FUN = RRRR.*exp(%i*%pi*Theeeta/180.);\n",
"endfunction\n",
"\n",
"V_l=10*10^3\n",
"V_ph=V_l/sqrt(3)\n",
"R_a=0.4\n",
"Z=complex(R_a,6)\n",
"I_a=p2z(300,-acosd(0.8))\n",
"E=V_ph+I_a*Z\n",
"\n",
"phi=acos(0.8)\n",
"alternator_op_ph=V_ph*abs(I_a)*cos(phi) //Power delivered to infinite bus per phase\n",
"\n",
"//Power deliered to the altrernator = Power delivewred to bus bar +  I^2*R losses in armature\n",
"alternator_power= alternator_op_ph+ abs(I_a)^2*R_a\n",
"\n",
"//this power developed remains constant.change pf to 1 and calculate corresponding armature current\n",
"//alternator_power=V_ph*I_a1*cos(phi1)+I_a1^2*0.4\n",
"//solve the quadratic equation  0.4 I_a1^2+5773.50 I_a1- 1421640 =0\n",
"I_a1=(-1*V_ph+sqrt(V_ph^2-4*R_a*-1*alternator_power))/(2*R_a)\n",
"\n",
"//also as follows \n",
"E1=V_ph+I_a1*Z\n",
"decrease=100*(abs(E)-abs(E1))/abs(E)\n",
"printf('Percentage decrease in induced e.m.f is %.1f percent',decrease)"
   ]
   }
,
{
		   "cell_type": "markdown",
		   "metadata": {},
		   "source": [
			"## Example 6.7: TO_DETERMINE_LOAD_SHARING_AND_UPF_MAXIMUM_LOAD.sce"
		   ]
		  },
  {
"cell_type": "code",
	   "execution_count": null,
	   "metadata": {
	    "collapsed": true
	   },
	   "outputs": [],
"source": [
"clc,clear\n",
"printf('Example 6.7\n\n')\n",
"\n",
"//Line PQ for Altermnator 1, and PR for alternaator 2.AB is at frequency x from P where total load is 3000 kW\n",
"QC=2000,PS=2.5,//PC=x\n",
"TR=2000,PT=2\n",
"\n",
"//using similarity of triangles PAC and PQS\n",
"AC_by_PC=(QC/PS)// because (AC/QC)=(PC/PS)\n",
"//using similarity of triangles PCB and PTR\n",
"CB_by_PC=(TR/PT) // because (CB/TR)=(PC/PT)\n",
"\n",
"AC_by_x=AC_by_PC   //which implies AC=12.5*x\n",
"CB_by_x=CB_by_PC  //which implies CB=16.67*x\n",
"\n",
"AC_plus_CB=3000  //total load at the frequency at P is 30 kW\n",
"x= AC_plus_CB/(AC_by_x + CB_by_x)\n",
"AC=AC_by_x * x\n",
"CB=CB_by_x * x  \n",
"frequency=50-x\n",
"printf('Loads shared by alternator 1 and 2 are %.2f kW and %.2f kW respectively',AC,CB)\n",
"\n",
"//construction for max load: RT is extended to cut PQ at X.\n",
"QS=2000,RT=2000 //see figure\n",
"XT=QS*(PT/PS)\n",
"RX=RT+XT  //maximum load\n",
"\n",
"printf('\nMaximum load is %.0f kW',RX)"
   ]
   }
,
{
		   "cell_type": "markdown",
		   "metadata": {},
		   "source": [
			"## Example 6.8: TO_DETERMINE_ARMATURE_CURRENT_OF_ALTERNATOR_2_AND_PF_OF_EACH_ALTERNATORS.sce"
		   ]
		  },
  {
"cell_type": "code",
	   "execution_count": null,
	   "metadata": {
	    "collapsed": true
	   },
	   "outputs": [],
"source": [
"clc,clear\n",
"printf('Example 6.8\n\n')\n",
"\n",
"P_out=1500*10^3\n",
"V_L=11000\n",
"phi=acos(0.8)\n",
"I_L=P_out/(sqrt(3)*V_L*cos(phi))\n",
"\n",
"I_L_actv=I_L*cos(phi)   //wattful or active component of current\n",
"I_L_reactive=I_L*sin(phi) //wattless or reactive component of current\n",
"\n",
"I_each=I_L/2  //in identical conditions\n",
"I_arm1=45 //given\n",
"I_1_reactive=sqrt(I_arm1^2-39.364^2 )  //from the power triangle \n",
"I_2_reactive=59.046-21.80\n",
"I_a_2=sqrt( 39.364^2 + I_2_reactive^2 )  //required armature current of 2nd alternator\n",
"printf('Required armature current of second alternator is %.4f A\n',I_a_2)\n",
"//power factors of 2 machines\n",
"cos_phi1=39.364/45 \n",
"cos_phi2=39.364/54.1921\n",
"\n",
"printf('Power factors are %.4f lagging and %.4f lagging',cos_phi1,cos_phi2)"
   ]
   }
,
{
		   "cell_type": "markdown",
		   "metadata": {},
		   "source": [
			"## Example 6.9: TO_DETERMINE_LOAD_ON_EACH_MACHINE.sce"
		   ]
		  },
  {
"cell_type": "code",
	   "execution_count": null,
	   "metadata": {
	    "collapsed": true
	   },
	   "outputs": [],
"source": [
"clc,clear\n",
"printf('Example 6.9\n\n')\n",
"\n",
"//Line AB for Altermnator 1, and AC for alternator 2.AF is at frequency x measured from A where total load is 3000 kW\n",
"BO=2000,AO=5//AF=x\n",
"DC=2000,AD=3,//AF=x\n",
"\n",
"//using similarity of triangles AEF and ABO\n",
"EF_by_AF=(BO/AO)// because (EF/BO)=(AF/AO)\n",
"//using similarity of triangles AFG and ADC\n",
"FG_by_AF=(DC/AD) //because (FG/DC)=(AF/AD)\n",
"\n",
"EF_by_x=EF_by_AF   //which implies EF=400*x\n",
"FG_by_x=FG_by_AF   //which implies FG=666.67*x\n",
"\n",
"EF_plus_FG=3000  //total load at the frequency at P is 3000 kW\n",
"x= EF_plus_FG/(EF_by_x + FG_by_x)\n",
"EF=(BO/AO)*x\n",
"FG=(DC/AD)*x  \n",
"\n",
"printf('Loads shared by machine 1 and 2 are %.0f kW and %.0f kW respectively',EF,FG)"
   ]
   }
],
"metadata": {
		  "kernelspec": {
		   "display_name": "Scilab",
		   "language": "scilab",
		   "name": "scilab"
		  },
		  "language_info": {
		   "file_extension": ".sce",
		   "help_links": [
			{
			 "text": "MetaKernel Magics",
			 "url": "https://github.com/calysto/metakernel/blob/master/metakernel/magics/README.md"
			}
		   ],
		   "mimetype": "text/x-octave",
		   "name": "scilab",
		   "version": "0.7.1"
		  }
		 },
		 "nbformat": 4,
		 "nbformat_minor": 0
}
