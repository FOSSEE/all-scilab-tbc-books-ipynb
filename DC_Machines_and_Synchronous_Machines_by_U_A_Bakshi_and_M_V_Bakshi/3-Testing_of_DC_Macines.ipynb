{
"cells": [
 {
		   "cell_type": "markdown",
	   "metadata": {},
	   "source": [
       "# Chapter 3: Testing of DC Macines"
	   ]
	},
{
		   "cell_type": "markdown",
		   "metadata": {},
		   "source": [
			"## Example 3.10: TO_DETERMINE_EFFICIENCY_AND_SPEED_WHEN_MOTOR_DRAWS_CERTAIN_CURRENT.sce"
		   ]
		  },
  {
"cell_type": "code",
	   "execution_count": null,
	   "metadata": {
	    "collapsed": true
	   },
	   "outputs": [],
"source": [
"clc,clear\n",
"printf('Example 3.10\n\n')\n",
"\n",
"motor_output_FL =15000 //full load motor output\n",
"V=250,R_sh=100\n",
"\n",
"//at 80 % of full load\n",
"motor_output_FL_dash=(80/100)*motor_output_FL  //80 percent of full load output\n",
"eta=90/100 //efficiency\n",
"motor_input=motor_output_FL_dash/eta\n",
"total_losses = motor_input - motor_output_FL_dash   //at 80 % of full load\n",
"//at maximum efficiency , variable losses = constant losses\n",
"constant_losses= total_losses/2\n",
"variable_losses= constant_losses\n",
"I= motor_input/V //line current at 80% load\n",
"I_sh= V/ R_sh\n",
"I_a= I- I_sh\n",
"//since armature copper loss =R_a*I_a^2  \n",
"R_a=variable_losses/I_a^2\n",
"E_b1=V-I_a*R_a //motor back EMF at 80% of full load\n",
"N_1=750 // corresponding speed is given as 750 rpm\n",
"\n",
"//When motor current is 80 A\n",
"I=80\n",
"I_a=I-I_sh\n",
"arm_cu_losses= R_a*I_a^2  //armature copper loss\n",
"total_losses =  arm_cu_losses + constant_losses\n",
"motor_input= V*I\n",
"motor_output = motor_input- total_losses\n",
"eta=100*motor_output/motor_input //efficiency of motor\n",
"printf('Efficiency of motor is %.2f percent when motor draws 80A current',eta)\n",
"E_b2=V-I_a*R_a //motor back EMF at 80% of full load\n",
"N_2=N_1*(E_b2/E_b1)  //because E_b is proportional to N\n",
"printf('\nand Speed is %.2f r.p.m',N_2)"
   ]
   }
,
{
		   "cell_type": "markdown",
		   "metadata": {},
		   "source": [
			"## Example 3.11: TO_DETERMINE_CERTAIN_QUANTITIES_RELATED_TO_250_V_DC_HUNT_MOTOR.sce"
		   ]
		  },
  {
"cell_type": "code",
	   "execution_count": null,
	   "metadata": {
	    "collapsed": true
	   },
	   "outputs": [],
"source": [
"clc,clear\n",
"printf('Example 3.11\n\n')\n",
"\n",
"V=250\n",
"R_sh=166.67,R_a=0.15 //resistance of shunt field winding and armature\n",
"N_0=1280 //in rpm\n",
"I_L1=67 //current drawn on full load\n",
"I_sh= V/ R_sh\n",
"I_a1=I_L1 - I_sh\n",
"E_b1=V-I_a1*R_a\n",
"\n",
"//on no load\n",
"I_L0=6.5\n",
"I_a0= I_L0 - I_sh\n",
"E_b0=V-I_a0*R_a\n",
"\n",
"//part (i)\n",
"//using speed equation  N is proportional to E_b\n",
"N_1=N_0*(E_b1/E_b0)\n",
"printf('(i)Full load speed is %.3f r.p.m\n',N_1)\n",
"\n",
"//part (ii)\n",
"speed_regulation=100*((N_0-N_1)/N_1)\n",
"printf('(ii)Speed regulation is %.2f percent \n',speed_regulation)\n",
"\n",
"//part (iii)\n",
"stray_losses = E_b0*I_a0  //mechanical power developed on no load\n",
"power_developed_FL= E_b1*I_a1 \n",
"shaft_output_FL= power_developed_FL - stray_losses \n",
"hp_rating= shaft_output_FL/746 //in horse power\n",
"printf('(iii)H.P rating of the machine Is %.2f H.P\n',hp_rating)\n",
"\n",
"//part (iv)\n",
"power_input=V*I_L1\n",
"eta=100*(shaft_output_FL/power_input)  //efficiency at full load\n",
"printf('(iv)Efficiency at full load is %.2f percent\n',eta)"
   ]
   }
,
{
		   "cell_type": "markdown",
		   "metadata": {},
		   "source": [
			"## Example 3.12: TO_DETERMINE_CERTAIN_QUANTITIES_RELATED_TO_200_V_SHUNT_MOTOR.sce"
		   ]
		  },
  {
"cell_type": "code",
	   "execution_count": null,
	   "metadata": {
	    "collapsed": true
	   },
	   "outputs": [],
"source": [
"clc,clear\n",
"printf('Example 3.12\n\n')\n",
"\n",
"V=200\n",
"R_sh=240,R_a=0.1 //resistance of shunt field winding and armature\n",
"rotational_loss=236\n",
"I_L_FL=9.8  //full load line current\n",
"N=1450\n",
"I_sh=V/R_sh\n",
"I_a_FL = I_L_FL - I_sh\n",
"E_b= V- I_a_FL * R_a\n",
"\n",
"//part(i)\n",
"gross_mech_P_dev= E_b*I_a_FL  //gross mechanical power developed\n",
"mech_P_dev= gross_mech_P_dev - rotational_loss //mechanical power developed\n",
"printf('(i)Gross mechanical power developed is %.2f W\n',gross_mech_P_dev )\n",
"printf('   Mechanical power developed is %.2f W\n',mech_P_dev )\n",
"\n",
"//part(ii)\n",
"P_out=mech_P_dev \n",
"printf('(ii)The power output is %.2f W\n',P_out)\n",
"\n",
"//part(iii)\n",
"T_sh=P_out*60/(2*%pi*N)\n",
"T_L=T_sh\n",
"printf('(iii)Load torque is %.2f N-m\n',T_L)\n",
"\n",
"//part(iv)\n",
"P_in=V*I_L_FL\n",
"eta=100*P_out/P_in\n",
"printf('(iv)Efficiency at full load is %.2f percent\n',eta)"
   ]
   }
,
{
		   "cell_type": "markdown",
		   "metadata": {},
		   "source": [
			"## Example 3.13: TO_DETERMINE_CERTAIN_QUANTITIES_RELATED_TO_240_V_DC_SHUNT_MOTOR.sce"
		   ]
		  },
  {
"cell_type": "code",
	   "execution_count": null,
	   "metadata": {
	    "collapsed": true
	   },
	   "outputs": [],
"source": [
"clc,clear\n",
"printf('Example 3.13\n\n')\n",
"\n",
"V=240\n",
"P_out=25*735.5  //output power in watts\n",
"R_a=0.14,R_sh=80 //resistance of armature and shunt field winding\n",
"brush_drop=1 //voltage drop across brush\n",
"I_L_FL=95 //input current at full load \n",
"I_sh=V/R_sh\n",
"I_a_FL = I_L_FL - I_sh //armature current at full load\n",
"\n",
"arm_cu_loss_FL = R_a*I_a_FL^2  //full load armature copper loss\n",
"field_cu_loss= R_sh*I_sh^2  //field copper loss\n",
"printf('(i)Armature and field copper losses are %.2f W and %.0f W respectively\n',arm_cu_loss_FL,field_cu_loss)\n",
"brush_cu_loss= 2*brush_drop*I_a_FL //brush contact copper loss\n",
"printf('(ii)Brush contact copper loss is %.0f W\n',brush_cu_loss)\n",
"E_b=V-I_a_FL*R_a - 2*brush_drop //back emf\n",
"gross_mech_P_dev= E_b*I_a_FL  //gross mechanical power developed\n",
"IFW_losses = gross_mech_P_dev - P_out  //iron friction and windage losses\n",
"printf('(iii)Core plus mechanical losses = %.1f W\n',IFW_losses+field_cu_loss+arm_cu_loss_FL)\n",
"eta=100*(P_out/(P_out + IFW_losses+ brush_cu_loss+field_cu_loss+arm_cu_loss_FL  ))\n",
"printf('(iv)Efficiency is %.2f percent',eta)"
   ]
   }
,
{
		   "cell_type": "markdown",
		   "metadata": {},
		   "source": [
			"## Example 3.14: TO_DETERMINE_FULL_LOAD_OUTPUT_AND_EFFICIENCY.sce"
		   ]
		  },
  {
"cell_type": "code",
	   "execution_count": null,
	   "metadata": {
	    "collapsed": true
	   },
	   "outputs": [],
"source": [
"clc,clear\n",
"printf('Example 3.14\n\n')\n",
"\n",
"I=5  //no load current\n",
"V=500\n",
"R_sh=250,R_a=0.5 //resistance of shunt field winding and armature\n",
"motor_input_NL = V*I\n",
"I_sh=V/R_sh\n",
"I_a=I-I_sh\n",
"arm_cu_loss_NL = R_a*I_a^2  //no load armature copper loss\n",
"constant_loss = motor_input_NL - arm_cu_loss_NL\n",
"I_FL=50, I_a_FL = I_FL - I_sh   //currents at full load\n",
"arm_cu_loss_FL =  R_a*I_a_FL^2 //full load armature copper loss\n",
"\n",
"total_loss= constant_loss + arm_cu_loss_FL \n",
"motor_input=V*I_FL\n",
"motor_output_FL= motor_input - total_loss\n",
"printf('Required output power is %.3f kW\n',motor_output_FL/1000)\n",
"eta=100*(motor_output_FL/motor_input) //full load efficiency\n",
"printf('Full load efficiency of motor with 50A current is %.2f percent ',eta)"
   ]
   }
,
{
		   "cell_type": "markdown",
		   "metadata": {},
		   "source": [
			"## Example 3.15: TO_CALCULATE_MACHINE_EFFICIENCY_WHEN_OPERATING_AS_A_GENERATOR.sce"
		   ]
		  },
  {
"cell_type": "code",
	   "execution_count": null,
	   "metadata": {
	    "collapsed": true
	   },
	   "outputs": [],
"source": [
"clc,clear\n",
"printf('Example 3.15\n\n')\n",
"\n",
"V=250\n",
"R_sh=275,R_a=0.8 //resistance of shunt field and amature\n",
"I_L0=3.91 //load current\n",
"I_sh=V/R_sh\n",
"I_a0= I_L0 - I_sh\n",
"constant_losses= V*I_L0 -R_a*(I_a0)^2\n",
"\n",
"//as a generator\n",
"P_out=10*10^3\n",
"I_L=P_out/V\n",
"I_a = I_L + I_sh \n",
"field_cu_loss=R_sh*(I_sh)^2  //field copper loss\n",
"arm_cu_loss= R_a*(I_a)^2  //armature copper loss  \n",
"eta_gen = 100 *(P_out/(P_out+constant_losses + field_cu_loss+ arm_cu_loss))  //efficiency as generator\n",
"printf('Efficiency as a generator = %.2f percent\n',eta_gen)\n",
"\n",
"//as a motor\n",
"P_in=10*10^3  //at V=250 \n",
"I_L=P_in/V\n",
"I_a=I_L - I_sh\n",
"field_cu_loss=R_sh*(I_sh)^2  //field copper loss\n",
"arm_cu_loss= R_a*(I_a)^2  //armature copper loss  \n",
"eta_m = 100 *((P_in-(constant_losses + field_cu_loss+ arm_cu_loss))/(P_in)) //efficiency as motor\n",
"printf('Efficiency as a motor = %.2f percent',eta_m)"
   ]
   }
,
{
		   "cell_type": "markdown",
		   "metadata": {},
		   "source": [
			"## Example 3.16: TO_DETERMINE_FULL_LOAD_OUTPUT_POWER_EFFICIENCY_AND_PERCENTAGE_CHANGE_IN_SPEED.sce"
		   ]
		  },
  {
"cell_type": "code",
	   "execution_count": null,
	   "metadata": {
	    "collapsed": true
	   },
	   "outputs": [],
"source": [
"clc,clear\n",
"printf('Example 3.16\n\n')\n",
"\n",
"I=4 //no load current in amperes\n",
"V=500\n",
"motor_input_no_load=I*V   //no load motor input\n",
"R_a=0.5,R_sh=250//resistance of armature and shunt field resistnace\n",
"I_sh=V/R_sh\n",
"\n",
"I_a=I-I_sh\n",
"arm_cu_loss_noload=R_a*I_a^2  //No-load armature copper losses\n",
"constant_loss=motor_input_no_load - arm_cu_loss_noload\n",
"I_FL=40,I_aFL=I_FL- I_a  //full load currents\n",
"arm_cu_loss_fulload=R_a*I_aFL^2 //Full-load armature copper losses\n",
"Total_loss=arm_cu_loss_fulload + constant_loss\n",
"\n",
"motor_input=V*I_FL\n",
"motor_output_fullload=motor_input - Total_loss\n",
"printf('Output power at full-load is %.0f W',motor_output_fullload) \n",
"efficiency= motor_output_fullload*100/motor_input //motor efficiency\n",
"printf('\nEfficiency at full-load is %.1f percent',efficiency)\n",
"\n",
"E_bNL=V-I_a*R_a\n",
"E_bFL=V-I_FL*R_a\n",
"\n",
"//E_b =N*phi\n",
"//E_bNL/E_bFL=N_NL/N_FL\n",
"//applying rules of componendo and dividendo\n",
"//change_in _speed=(N_NL - N_FL)/N_FL=(E_bNL - E_bFL)/E_bFl\n",
"\n",
"change_in_speed=100*(E_bNL - E_bFL)/E_bFL\n",
"printf('\npercentage change in speed from no load to full load is %.3f percent',change_in_speed)"
   ]
   }
,
{
		   "cell_type": "markdown",
		   "metadata": {},
		   "source": [
			"## Example 3.17: TO_DETERMINE_EFFICIENCY_AND_PERCENTAGE_CHANGE_IN_SPEED_OF_A_SHUNT_MOTOR.sce"
		   ]
		  },
  {
"cell_type": "code",
	   "execution_count": null,
	   "metadata": {
	    "collapsed": true
	   },
	   "outputs": [],
"source": [
"clc,clear\n",
"printf('Example 3.17\n\n')\n",
"\n",
"V=500\n",
"R_a=0.22,R_sh= 250//armature resistance and shunt field resistance\n",
"I=5 //no load current\n",
"motor_input_NL=V*I   //no load motor input\n",
"I_sh=V/R_sh\n",
"I_a_NL= I- I_sh //no load armature current\n",
"arm_cu_loss_NL = R_a*I_a_NL^2 //no load armature copper loss\n",
"constant_loss = motor_input_NL - arm_cu_loss_NL \n",
"\n",
"//When motor draws 100 A current \n",
"I=100\n",
"I_a = I - I_sh\n",
"arm_cu_loss  =R_a* I_a^2  //armature copper loss\n",
"total_losses =   arm_cu_loss +  constant_loss\n",
"motor_input = V*I\n",
"motor_output = motor_input -total_losses \n",
"eta_m=100*(motor_output/motor_input) //motor efficiency\n",
"printf('(i)Efficiency of motor at 100 A current is %.2f percent \n',eta_m)\n",
"\n",
"//part(b)\n",
"E_b_NL= V- I_a_NL*R_a //back emf at no load\n",
"E_b= V- I_a*R_a //back emf at 100 A \n",
"//E_b is proportional to N.. and using componendo dividendo\n",
"speed_change= 100*((E_b_NL - E_b)/E_b)\n",
"printf('(ii)Percentage change in speed = %.3f percent\n\n',speed_change)\n",
"\n",
"\n",
"printf('Note that the following were assumptions made\n')\n",
"printf('(i) Due to heating , resistance of shunt field winding will be increased which will reduce the shunt field current.This will decrease the flux which is neglected\n')\n",
"printf('(ii) Though the motor speed is changing from no load to given load , the mechanical losses are assumed to be cosnstant\n')\n",
"printf('(iii)The effect of armature reaction aon main pole flux and its effect on iron loss is neglected')"
   ]
   }
,
{
		   "cell_type": "markdown",
		   "metadata": {},
		   "source": [
			"## Example 3.18: TO_DETERMINE_CERTAIN_QUANTITIES_RELATED_TO_200_V_DC_SHUNT_MOTOR.sce"
		   ]
		  },
  {
"cell_type": "code",
	   "execution_count": null,
	   "metadata": {
	    "collapsed": true
	   },
	   "outputs": [],
"source": [
"clc,clear\n",
"printf('Example 3.18\n\n')\n",
"\n",
"V=200,I_L=40,\n",
"R_sh=200,R_a=0.2 //shunt field winding and armature resistance\n",
"//case(a) :  As a generator\n",
"P_out_g=V*I_L //output poewr as generator\n",
"I_sh=V/R_sh\n",
"I_a = I_L + I_sh\n",
"E = V + I_a*R_a\n",
"P_a_g=E*I_a  //power developed in armature\n",
"P_cu_g= R_a*I_a^2 + R_sh*I_sh^2 //copper loss as genrator\n",
"printf('(i)Output as generator is %.0f kW\n',P_out_g/1000)\n",
"\n",
"//case(b) :  As a motor\n",
"P_in_m=V*I_L //input power as motor\n",
"I_sh=V/R_sh\n",
"I_a = I_L - I_sh\n",
"E_b = V - I_a*R_a\n",
"P_a_m=E_b*I_a  //power developed in armature\n",
"P_cu_m= R_a*I_a^2 + R_sh*I_sh^2//copper loss as motor\n",
"printf('(ii)Input as motor is %.0f kW\n', P_in_m/1000)\n",
"printf('\n(iii)Power developed in Armature:\n%.4f kW for generator\n%.4f kW for motor\n',P_a_g/1000,P_a_m/1000)\n",
"printf('\n(iv)Copper losses:\n%.1f W for generator\n%.1f W for motor',P_cu_g,P_cu_m)"
   ]
   }
,
{
		   "cell_type": "markdown",
		   "metadata": {},
		   "source": [
			"## Example 3.19: TO_DETERMINE_CERTAIN_QUANTITIES_AFTER_PERFORMING_RETARDATION_TEST_ON_DC_MACHINE.sce"
		   ]
		  },
  {
"cell_type": "code",
	   "execution_count": null,
	   "metadata": {
	    "collapsed": true
	   },
	   "outputs": [],
"source": [
"clc,clear\n",
"printf('Example 3.19\n\n')\n",
"\n",
"V=219,I=10\n",
"dN=1030 - 970 //given\n",
"t_1=36  //time with no excitation\n",
"t_2=9// time with full excitation and armature supporting an extra load of 10 A at 219 V\n",
"t_3=15 //time with full exciation\n",
"W_dash = V*I  //additioanl loss when armature is suddenly connected to loads\n",
"W_s= W_dash *(t_2/(t_3-t_2)) //total stray losses\n",
"N=1000  //speed in rpm\n",
"//Using W_s = (2*pi/60)^2 * I *N *dN / t_3 where W_s is stray losses\n",
"I= W_s*(t_3/dN)*(30/%pi)^2/N   //moment of inertia\n",
"W_m=W_s*(t_3/t_1) //mechanical losses\n",
"iron_losses= W_s - W_m\n",
"\n",
"printf('(i)The moment of inertia of armature is %.2f kg-m^2\n',I)\n",
"printf('(ii)Iron loss= %.2f W\n',iron_losses)\n",
"printf('(iii)Mechanical losses at 1000 rpm mean speed is %.2f W',W_m)\n",
"\n",
"printf('\n\nNoteworthy points:\n(1)When armature is slowing down and there is no excitation,then kinetic energy is used to overcome mechanical losses only.Iron losses are absent as excitation is absent\n(2)When excitation is given, kinetic energy is used to overcome both mechanical as well as iron losses.Total called stray losses.\n(3)If moment of inertia is in kg-m^2,then loss of energy is in watts')"
   ]
   }
,
{
		   "cell_type": "markdown",
		   "metadata": {},
		   "source": [
			"## Example 3.1: TO_DETERMINE_CERTAIN_QUANTITIES_RELATED_TO_WAVE_CONNECTED_SHUNT_MOTOR.sce"
		   ]
		  },
  {
"cell_type": "code",
	   "execution_count": null,
	   "metadata": {
	    "collapsed": true
	   },
	   "outputs": [],
"source": [
"clc,clear\n",
"printf('Example 3.1\n\n')\n",
"\n",
"Pole=6\n",
"V=500\n",
"A=2 //because of wave wound armature\n",
"Z=1200 //number of armature conductors\n",
"phi=20*10^-3 //useful flux per pole\n",
"Ra=0.5 ,Rsh=250  //armature and field resistance\n",
"Il=20 //current drawn from supply\n",
"mechanical_losses=900\n",
"Ish=V/Rsh\n",
"Ia=Il-Ish\n",
"Eb=V-Ia*Ra  //because V=Eb+Ia*Ra\n",
"N=Eb*60*A/(phi*Pole*Z)   //Eb=phi*Pole*N*Z/(60*A)\n",
"\n",
"P_m=Eb*Ia  //Electrical equivalent of mechanical power\n",
"omega=2*%pi*N/60\n",
"Tg=P_m/omega\n",
"\n",
"P_out=P_m-mechanical_losses\n",
"T_sh=P_out/omega  //Useful torque\n",
"P_in=V*Il\n",
"percentage_efficiency=100*P_out/P_in\n",
"\n",
"printf('Speed developed is %.3f r.p.m\nTorque developed is %.2f N-m\n\n(i)  Useful torque is %.2f N-m\n(ii) Efficiency is %.2f percent',N,Tg,T_sh,percentage_efficiency)"
   ]
   }
,
{
		   "cell_type": "markdown",
		   "metadata": {},
		   "source": [
			"## Example 3.20: TO_DETERMINE_CERTAIN_QUANTITIES_AFTER_PERFORMING_RETARDATION_TEST_ON_DC_MACHINE.sce"
		   ]
		  },
  {
"cell_type": "code",
	   "execution_count": null,
	   "metadata": {
	    "collapsed": true
	   },
	   "outputs": [],
"source": [
"clc,clear\n",
"printf('Example 3.20\n\n')\n",
"\n",
"V=225,I=10\n",
"dN=1030 - 970 //given\n",
"t_1=40  //time with no excitation\n",
"t_2=9// time with full excitation and armature supporting an extra load of 10 A at 219 V\n",
"t_3=20 //time with full exciation\n",
"\n",
"W_dash = V*I //additional loss\n",
"W_s= W_dash *(t_2/(t_3-t_2)) //total stray losses\n",
"N=1000//Speed in rpm\n",
"//Using W_s = (2*pi/60)^2 * I *N *dN / t_3 where W_s is stray losses\n",
"I= W_s*(t_3/dN)*(30/%pi)^2/N   //moment of inertia\n",
"W_m=W_s*(t_3/t_1)   //mechanical losses\n",
"iron_losses=W_s - W_m\n",
"\n",
"printf('(i)The moment of inertia of armature is %.2f kg-m^2\n',I)\n",
"printf('(ii)Iron loss= %.2f W\n',iron_losses)\n",
"printf('(iii)Mechanical losses at 1000 rpm mean speed is %.2f W',W_m)\n",
"\n",
"printf('\n\nNoteworthy points:\n(1)When there is no excitation and armature is slowed down , its K.E. is used to overcome mechanical mechanical losses only since there will be no iron loss as there is no flux.\n(2)When there is excitation provided then K.E. is used to supply mechanical as well as iron losses together called stray losses ')"
   ]
   }
,
{
		   "cell_type": "markdown",
		   "metadata": {},
		   "source": [
			"## Example 3.21: TO_DETERMINE_EFFICIENCY_WHEN_MACHINE_IS_OPERATED_AS_MOTOR.sce"
		   ]
		  },
  {
"cell_type": "code",
	   "execution_count": null,
	   "metadata": {
	    "collapsed": true
	   },
	   "outputs": [],
"source": [
"clc,clear\n",
"printf('Example 3.21\n\n')\n",
"\n",
"V_avg = (220+190)/2  //average voltage across load\n",
"I_avg=12,R_a=0.5,R_sh=250\n",
"W_dash=V_avg*I_avg  //power absorbed \n",
"t_1=30,t_2=5\n",
"W=W_dash*(t_2/(t_1-t_2))\n",
"V=250,I=22  //input current\n",
"I_sh = V/R_sh\n",
"I_a= I - I_sh\n",
"arm_cu_loss = R_a*I_a^2 //armature copper loss\n",
"shunt_field_cu_loss =  V*I_sh  //shunt field copper loss\n",
"total_losses= shunt_field_cu_loss + arm_cu_loss + W\n",
"\n",
"machine_input = V*I\n",
"machine_output = machine_input - total_losses \n",
"eta_m=100*(machine_output /machine_input )  //efficiency when running as motor\n",
"printf('Efficiency of machine when opeating as motor taking current of 22A on 250V supply is \n%.1f percent',eta_m)"
   ]
   }
,
{
		   "cell_type": "markdown",
		   "metadata": {},
		   "source": [
			"## Example 3.22: TO_DETERMINE_STRAY_LOSSES_OF_MOTOR.sce"
		   ]
		  },
  {
"cell_type": "code",
	   "execution_count": null,
	   "metadata": {
	    "collapsed": true
	   },
	   "outputs": [],
"source": [
"clc,clear\n",
"printf('Example 3.22\n\n')\n",
"\n",
"I_avg=10\n",
"V_avg=(220+190)/2 //average voltage across load\n",
"W_dash = V_avg*I_avg  //power  absorbed\n",
"t_1=30,t_2=20\n",
"W=W_dash * (t_2/(t_1-t_2)) //stray losses\n",
"printf('Stray losses of motor is %.1f kW\n\n\n',W/1000)\n",
"printf('Answers mismatch because V_average is 205 volts but it is taken as 220 volts in Power absorbed calculation')"
   ]
   }
,
{
		   "cell_type": "markdown",
		   "metadata": {},
		   "source": [
			"## Example 3.23: TO_DETERMINE_EFFICIENCY_OF_EACH_OF_THE_2_SHUNT_MACHINES.sce"
		   ]
		  },
  {
"cell_type": "code",
	   "execution_count": null,
	   "metadata": {
	    "collapsed": true
	   },
	   "outputs": [],
"source": [
"clc,clear\n",
"printf('Example 3.23\n\n')\n",
"\n",
"I_a_g=330,I_a_m=380\n",
"R_a=0.02 //armature resistance\n",
"V=250,I=50\n",
"arm_cu_loss_g= R_a*I_a_g^2//armature copper loss for generator\n",
"arm_cu_loss_m= R_a*I_a_m^2//armature copper loss for motor\n",
"power_drawn=V*I\n",
"stray_losses = power_drawn - (arm_cu_loss_m + arm_cu_loss_g)\n",
"stray_losses_each = stray_losses/2 //stray losses for each machine\n",
"\n",
"//for motor\n",
"I_sh_m=4.2   //Shunt current in case of motor\n",
"field_cu_loss_m=V*I_sh_m  //field copper loss in case of motor\n",
"total_loss = field_cu_loss_m + stray_losses_each  +  arm_cu_loss_m\n",
"motor_input= V*(I_a_m+I_sh_m) \n",
"motor_output = motor_input - total_loss\n",
"eta_m = 100*(motor_output/motor_input)//motor efficiency \n",
"printf('Efficiency of motor is %.4f percent\n',eta_m)\n",
"\n",
"//for generator\n",
"I_sh_g=5  //Shunt current in case of generator\n",
"field_cu_loss_g=V*I_sh_g //field copper loss in case of generator\n",
"total_loss = field_cu_loss_g + stray_losses_each  +  arm_cu_loss_g\n",
"generator_output = V*I_a_g\n",
"generator_input= generator_output + total_loss\n",
"eta_g = 100*(generator_output/generator_input)//generator efficiency \n",
"printf('Efficiency of generator is %.4f percent\n',eta_g)"
   ]
   }
,
{
		   "cell_type": "markdown",
		   "metadata": {},
		   "source": [
			"## Example 3.24: TO_DETERMINE_EFFICIENCY_OF_MOTOR_AND_GENERATOR.sce"
		   ]
		  },
  {
"cell_type": "code",
	   "execution_count": null,
	   "metadata": {
	    "collapsed": true
	   },
	   "outputs": [],
"source": [
"clc,clear\n",
"printf('Example 3.24\n\n')\n",
" \n",
"R_a=0.02 //armature resistance\n",
"V=250 //line voltage\n",
"I=50 //current taken from supply \n",
"\n",
"//for generator\n",
"I_a_g=330,I_sh_g=5 //armature current and current through shunt field \n",
"arm_cu_loss_g = R_a*I_a_g^2//armature copper loss for generator\n",
"field_cu_loss_g= V*I_sh_g //field copper loss for generator\n",
"\n",
"//for motor\n",
"I_a_m=380,I_sh_m=4.2 //armature current and current through shunt field\n",
"arm_cu_loss_m = R_a*I_a_m^2//armature copper loss for motor\n",
"field_cu_loss_m= V*I_sh_m //field copper loss for motor\n",
"power_drawn=V*I\n",
"IFW_losses = power_drawn - (arm_cu_loss_g + arm_cu_loss_m)  //Iron , friction and windage losses\n",
"IFW_losses_each= IFW_losses /2  // Iron , friction and windage losses for each machine\n",
"\n",
"//for generator\n",
"total_loss_g = field_cu_loss_g + arm_cu_loss_g + IFW_losses_each\n",
"generator_output=V*I_a_g\n",
"generator_input = generator_output + total_loss_g \n",
"eta_g = 100*(generator_output/generator_input)//generator efficiency \n",
"printf('Efficiency of generator is %.4f percent\n',eta_g)\n",
"\n",
"//for motor\n",
"total_loss_m= field_cu_loss_m + IFW_losses_each  +  arm_cu_loss_m\n",
"motor_input=V*(I_a_m+I_sh_m)\n",
"motor_output = motor_input - total_loss_m\n",
"eta_m = 100*(motor_output/motor_input)//motor efficiency \n",
"printf('Efficiency of motor is %.4f percent\n',eta_m)"
   ]
   }
,
{
		   "cell_type": "markdown",
		   "metadata": {},
		   "source": [
			"## Example 3.25: TO_CALCULATE_EFFICIENCY_OF_EACH_OF_THE_2_DC_SHUNT_MACHINES.sce"
		   ]
		  },
  {
"cell_type": "code",
	   "execution_count": null,
	   "metadata": {
	    "collapsed": true
	   },
	   "outputs": [],
"source": [
"clc,clear\n",
"printf('Example 3.25\n\n')\n",
"\n",
"V=220, I=40\n",
"I_a_g=160 ,I_a_m =200 //armature currents for generator and motor\n",
"I_sh_g=7 ,I_sh_m =6 //current through shunt field for generator and motor\n",
"R_a=0.015 //armature resistance\n",
"arm_cu_loss_g = R_a*I_a_g^2  //armature copper loss for motor\n",
"arm_cu_loss_m = R_a*I_a_m^2  //armature copper loss for motor\n",
"power_drawn=V*I\n",
"IFW_losses = power_drawn - (arm_cu_loss_g + arm_cu_loss_m)  //Iron , friction and windage losses\n",
"IFW_losses_each= IFW_losses /2  // Iron , friction and windage losses for each machine\n",
"\n",
"//for motor\n",
"field_cu_loss_m= V*I_sh_m //field copper loss for motor\n",
"total_loss_m= field_cu_loss_m + IFW_losses_each  +  arm_cu_loss_m  //total losses in motor\n",
"motor_input=V * I_a_m\n",
"motor_output= motor_input - total_loss_m\n",
"eta_m = 100*(motor_output/motor_input)    //motor efficiency\n",
"printf('Efficiency of motor is %.4f percent\n',eta_m)\n",
"\n",
"//for generator\n",
"field_cu_loss_g= V*I_sh_g //field copper loss for generator\n",
"total_loss_g = field_cu_loss_g + arm_cu_loss_g + IFW_losses_each  //total losses in generator\n",
"generator_output=V*I_a_g\n",
"generator_input = generator_output + total_loss_g\n",
"eta_g = 100*(generator_output/generator_input)//generator efficiency\n",
"printf('Efficiency of generator is %.4f percent\n',eta_g)"
   ]
   }
,
{
		   "cell_type": "markdown",
		   "metadata": {},
		   "source": [
			"## Example 3.26: TO_CALCULATE_EFFICIENCY_OF_MOTOR_AND_GENERATOR_ON_FULL_LOAD.sce"
		   ]
		  },
  {
"cell_type": "code",
	   "execution_count": null,
	   "metadata": {
	    "collapsed": true
	   },
	   "outputs": [],
"source": [
"clc,clear\n",
"printf('Example 3.26\n\n')\n",
"\n",
"R_a=0.2 //armature resistance \n",
"V=240,I=16\n",
"I_a_g=60 , I_a_m=71 //armature currents for generator and motor\n",
"I_sh_g=3 , I_sh_m=2  //field current for generator and motor \n",
"\n",
"//for generator\n",
"arm_cu_loss_g = R_a*I_a_g^2//armature copper loss for generator\n",
"field_cu_loss_g= V*I_sh_g //field copper loss for generator\n",
"\n",
"//for motor\n",
"arm_cu_loss_m = R_a*I_a_m^2//armature copper loss for motor\n",
"field_cu_loss_m= V*I_sh_m //field copper loss for motor\n",
"power_drawn=V*I\n",
"field_loss_total_g_m= field_cu_loss_m + field_cu_loss_g\n",
"arm_cu_loss_total_g_m = arm_cu_loss_m + arm_cu_loss_g\n",
"IFW_losses = power_drawn - (arm_cu_loss_total_g_m + field_loss_total_g_m)  //Iron , friction and windage losses\n",
"IFW_losses_each= IFW_losses /2  // Iron , friction and windage losses for each machine\n",
"\n",
"//for generator\n",
"total_loss_g = field_cu_loss_g + arm_cu_loss_g + IFW_losses_each //total loss in generator\n",
"generator_output=V*I_a_g\n",
"generator_input = generator_output + total_loss_g\n",
"eta_g = 100*(generator_output/generator_input)//generator efficiency \n",
"printf('Efficiency of generator is %.4f percent\n',eta_g)\n",
"\n",
"//for motor\n",
"total_loss_m= field_cu_loss_m + IFW_losses_each  +  arm_cu_loss_m //total loss in motor\n",
"motor_input=V*(I_a_m+I_sh_m)\n",
"motor_output = motor_input - total_loss_m\n",
"eta_m = 100*(motor_output/motor_input)//motor efficiency \n",
"printf('Efficiency of motor is %.4f percent\n',eta_m)"
   ]
   }
,
{
		   "cell_type": "markdown",
		   "metadata": {},
		   "source": [
			"## Example 3.27: TO_CALCULATE_EFFICIENCY_OF_EACH_OF_THE_2_DC_SHUNT_MACHINES.sce"
		   ]
		  },
  {
"cell_type": "code",
	   "execution_count": null,
	   "metadata": {
	    "collapsed": true
	   },
	   "outputs": [],
"source": [
"clc,clear\n",
"printf('Example 3.27\n\n')\n",
"\n",
"R_a=0.015,V=250 //line voltage\n",
"I=45 //line current\n",
"I_a_m=385, I_sh_m=4 //armature and field currents for motor\n",
"I_a_g=340, I_sh_g=5 //armature and field currents for generator\n",
"arm_cu_loss_m= R_a*I_a_m^2   //armature copper loss for motor\n",
"field_cu_loss_m= V*I_sh_m    //field copper loss for motor\n",
"\n",
"arm_cu_loss_g= R_a*I_a_g^2  //armature copper loss for generator\n",
"field_cu_loss_g= V*I_sh_g   //field copper loss for motor\n",
"\n",
"total_cu_loss = field_cu_loss_g + arm_cu_loss_g  +  field_cu_loss_m + arm_cu_loss_m  //total copper loss for both machines\n",
"P_aux = V*I  //power taken from auxillary supply\n",
"stray_loss= P_aux - total_cu_loss\n",
"stray_loss_each = stray_loss/2  //stray loss for each machine\n",
"\n",
"total_loss_g = stray_loss_each + arm_cu_loss_g + field_cu_loss_g  //total losses in generator\n",
"generator_output=V* I_a_g\n",
"eta_g = 100*(generator_output/(generator_output + total_loss_g))//generator efficiency\n",
"printf('Efficiency of generator is %.4f percent\n',eta_g)\n",
"\n",
"total_loss_m = stray_loss_each + arm_cu_loss_m + field_cu_loss_m//total losses in motor\n",
"motor_input=V*(I_a_m+I_sh_m)\n",
"motor_output = motor_input - total_loss_m\n",
"eta_m = 100*(motor_output/motor_input)//motor efficiency \n",
"printf('Efficiency of motor is %.4f percent\n',eta_m)"
   ]
   }
,
{
		   "cell_type": "markdown",
		   "metadata": {},
		   "source": [
			"## Example 3.28: TO_CALCULATE_EFFICIENCY_OF_MACHINE_ACTING_AS_GENERATOR.sce"
		   ]
		  },
  {
"cell_type": "code",
	   "execution_count": null,
	   "metadata": {
	    "collapsed": true
	   },
	   "outputs": [],
"source": [
"clc,clear\n",
"printf('Example 3.28\n\n')\n",
"\n",
"V=500,P=1000*10^3,I=30\n",
"I_a_m = 200 + 30 , I_a_g =200 //armature current for motor and generator\n",
"I_sh_m = 1.8, I_sh_g =3.5 //field current for motor and generator\n",
"brush_drop=230\n",
"R_a=0.075  //armature resitance\n",
"\n",
"arm_cu_loss_m = R_a*I_a_m^2 + 2*brush_drop //motor armature copper loss\n",
"field_cu_loss_m =V*I_sh_m  //  motor field copper loss \n",
"\n",
"arm_cu_loss_g = R_a*I_a_g^2 + 2*brush_drop  //generator armature copper loss\n",
"field_cu_loss_g =V*I_sh_g  //field copper loss generator\n",
"\n",
"total_cu_loss = field_cu_loss_g + arm_cu_loss_g  +  field_cu_loss_m + arm_cu_loss_m  //total copper loss for both machines\n",
"P_aux = V*I  //power taken from auxillary supply\n",
"stray_loss= P_aux - total_cu_loss  \n",
"stray_loss_each = stray_loss/2  //stray loss for each machine\n",
"\n",
"total_loss_g = stray_loss_each + arm_cu_loss_g + field_cu_loss_g  //total loss in generator\n",
"generator_output=V* I_a_g\n",
"eta_g = 100*(generator_output/(generator_output + total_loss_g))//generator efficiency\n",
"printf('Efficiency of generator is %.0f percent\n',eta_g)"
   ]
   }
,
{
		   "cell_type": "markdown",
		   "metadata": {},
		   "source": [
			"## Example 3.29: TO_CALCULATE_EFFICIENCY_OF_DC_MACHINES.sce"
		   ]
		  },
  {
"cell_type": "code",
	   "execution_count": null,
	   "metadata": {
	    "collapsed": true
	   },
	   "outputs": [],
"source": [
"clc,clear\n",
"printf('Example 3.29\n\n')\n",
"\n",
"V=220, I=10\n",
"R_a=0.05 //artmature resistance\n",
"I_a_m= 73, I_sh_m = 2 //armature and field current for motor\n",
"I_a_g=67.5,I_sh_g=2.5//armature and field current for generator\n",
"\n",
"arm_cu_loss_m = R_a*I_a_m^2 //motor armature copper loss\n",
"field_cu_loss_m =V*I_sh_m  //  motor field copper loss \n",
"\n",
"arm_cu_loss_g = R_a*I_a_g^2 //generator armature copper loss\n",
"field_cu_loss_g =V*I_sh_g  //field copper loss generator\n",
"\n",
"total_cu_loss = field_cu_loss_g + arm_cu_loss_g  +  field_cu_loss_m + arm_cu_loss_m  //total copper loss for both machines\n",
"power_input = V*I\n",
"stray_loss= power_input - total_cu_loss  \n",
"stray_loss_each = stray_loss/2  //stray loss for each machine\n",
"\n",
"//motor efficiency\n",
"total_loss_m= field_cu_loss_m + stray_loss_each  +  arm_cu_loss_m  //total motor losses\n",
"motor_input = V*(I_a_m + I_sh_m )\n",
"motor_output =motor_input - total_loss_m\n",
"eta_m = 100*(motor_output/motor_input)//motor efficiency \n",
"printf('Efficiency of motor is %.4f percent\n',eta_m)\n",
"\n",
"//generator efficiency\n",
"total_loss_g= field_cu_loss_g + stray_loss_each  +  arm_cu_loss_g  //total generator losses\n",
"generator_output =V*I_a_g\n",
"generator_input = generator_output +  total_loss_g\n",
"eta_g = 100*(generator_output/generator_input)//motor efficiency \n",
"printf('Efficiency of generator is %.4f percent\n',eta_g)"
   ]
   }
,
{
		   "cell_type": "markdown",
		   "metadata": {},
		   "source": [
			"## Example 3.2: TO_DETERMINE_FULL_LOAD_FULL_LOAD_OUTPUT_AND_EFFICIENCY.sce"
		   ]
		  },
  {
"cell_type": "code",
	   "execution_count": null,
	   "metadata": {
	    "collapsed": true
	   },
	   "outputs": [],
"source": [
"clc,clear\n",
"printf('Example 3.2\n\n')\n",
"\n",
"//no load\n",
"I_noload=2.5 //No load current\n",
"V=440\n",
"R_a=1.2,R_sh=550//resistance of armature and shunt field windings\n",
"no_load_input=V*I_noload\n",
"\n",
"I_sh=V/R_sh\n",
"I_a_noload=I_noload-I_sh\n",
"no_load_armature_copper=(I_a_noload^2)*R_a\n",
"constant_losses=no_load_input-no_load_armature_copper\n",
"\n",
"//full load\n",
"I_fullload=32\n",
"I_a_fullload=I_fullload-I_sh\n",
"full_load_armature_coppe=(I_a_fullload^2)*R_a\n",
"total_losses=full_load_armature_coppe+constant_losses\n",
"full_load_motor_input=V*I_fullload\n",
"full_load_motor_output=full_load_motor_input-total_losses\n",
"efficiency_at_full_load=full_load_motor_output*100/full_load_motor_input\n",
"\n",
"printf('Full load motor output is %.2f W\nEfficiency of motor at full-load is %.2f percent',full_load_motor_output,efficiency_at_full_load)"
   ]
   }
,
{
		   "cell_type": "markdown",
		   "metadata": {},
		   "source": [
			"## Example 3.30: TO_ESTIMATE_EFFICIENCY_OF_2_DC_MACHINES.sce"
		   ]
		  },
  {
"cell_type": "code",
	   "execution_count": null,
	   "metadata": {
	    "collapsed": true
	   },
	   "outputs": [],
"source": [
"clc,clear\n",
"printf('Example 3.30\n\n')\n",
"\n",
"V=400, I=50\n",
"I_a_g=250 ,I_a_m =300  //armature current for generator and motor\n",
"I_sh_g=2.5 ,I_sh_m =2.4 //field current for generator and motor\n",
"R_a=0.1 //armature resistance\n",
"\n",
"arm_cu_loss_g = R_a*I_a_g^2   //armature copper loss for generator\n",
"arm_cu_loss_m = R_a*I_a_m^2   //armature copper loss for motor\n",
"power_drawn=V*I\n",
"IFW_losses = power_drawn - (arm_cu_loss_g + arm_cu_loss_m)  //Iron , friction and windage losses\n",
"IFW_losses_each= IFW_losses /2  // Iron , friction and windage losses for each machine\n",
"\n",
"//for motor\n",
"field_cu_loss_m= V*I_sh_m //field copper loss for motor\n",
"total_loss_m= field_cu_loss_m + IFW_losses_each  +  arm_cu_loss_m\n",
"motor_input=V * I_a_m\n",
"motor_output= motor_input - total_loss_m\n",
"eta_m = 100*(motor_output/motor_input)    //motor efficiency\n",
"printf('Efficiency of motor is %.2f percent\n',eta_m)\n",
"\n",
"//for generator\n",
"field_cu_loss_g= V*I_sh_g //field copper loss for generator\n",
"total_loss_g = field_cu_loss_g + arm_cu_loss_g + IFW_losses_each\n",
"generator_output=V*I_a_g\n",
"generator_input = generator_output + total_loss_g\n",
"eta_g = 100*(generator_output/generator_input)//generator efficiency\n",
"printf('Efficiency of generator is %.2f percent\n',eta_g)"
   ]
   }
,
{
		   "cell_type": "markdown",
		   "metadata": {},
		   "source": [
			"## Example 3.31: TO_CALCULATE_EFFICIENCY_OF_MOTOR_AND_GENERATOR.sce"
		   ]
		  },
  {
"cell_type": "code",
	   "execution_count": null,
	   "metadata": {
	    "collapsed": true
	   },
	   "outputs": [],
"source": [
"clc,clear\n",
"printf('Example 3.31\n\n')\n",
"\n",
"I_1=56  //motor input current\n",
"V=590   //voltage across armature\n",
"I_2=44  // load current\n",
"V_2=400 // voltage across generator\n",
"V_field = 40  //voltage drop across field winding\n",
"R_a=0.3, R_se=0.7142 //armature and series field resistance for each machine\n",
"total_input=(V+V_field)*I_1\n",
"output=V_2*I_2\n",
"total_loss_g_m= total_input - output   //total losses of 2 machines\n",
"R_se=V_field/I_1  //series field resistance for both windings\n",
"total_cu_loss = (R_a+ 2*R_se)*I_1^2  + R_a*I_2^2  //total copper loss\n",
"stray_loss= total_loss_g_m - total_cu_loss\n",
"stray_loss_each = stray_loss/2  //stray loss for each machine\n",
"\n",
"// for motor\n",
"motor_input = V*I_1\n",
"arm_cu_loss_m =  (R_a+ R_se)*I_1^2    //armature coper losses of motor\n",
"total_loss_m= arm_cu_loss_m + stray_loss_each\n",
"motor_output = motor_input - total_loss_m\n",
"eta_m = 100*(motor_output/motor_input)//motor efficiency \n",
"printf('Efficiency of motor is %.4f percent\n',eta_m)\n",
"\n",
"// for generator\n",
"arm_cu_loss_g = R_a*I_2^2  //armature coper losses of generator\n",
"series_field_cu_loss_g = V_field*I_1   //series field copper loss\n",
"total_loss_g= arm_cu_loss_g + series_field_cu_loss_g + stray_loss_each\n",
"generator_output=V_2*I_2\n",
"generator_input = generator_output +  total_loss_g\n",
"eta_g = 100*(generator_output/generator_input)//generator efficiency \n",
"printf('Efficiency of generator is %.4f percent\n',eta_g)"
   ]
   }
,
{
		   "cell_type": "markdown",
		   "metadata": {},
		   "source": [
			"## Example 3.32: TO_CALCULATE_EFFICIENCY_OF_MOTOR_AND_GENERATOR.sce"
		   ]
		  },
  {
"cell_type": "code",
	   "execution_count": null,
	   "metadata": {
	    "collapsed": true
	   },
	   "outputs": [],
"source": [
"clc,clear\n",
"printf('Example 3.32\n\n')\n",
"\n",
"I_1=56  //motor input current\n",
"V=590   //voltage across armature\n",
"I_2=44  // load current\n",
"V_2=400 // voltage across generator\n",
"V_field = 40  //voltage drop across field winding\n",
"R_a=0.3, R_se=0.7142 //armature and series field resistane for each machine\n",
"\n",
"total_input=(V+V_field)*I_1\n",
"output=V_2*I_2\n",
"total_loss_g_m= total_input - output   //total losses of 2 machines\n",
"R_se=V_field/I_1  //series field resistance for both windings\n",
"total_cu_loss = (R_a+ 2*R_se)*I_1^2  + R_a*I_2^2  //total copper loss\n",
"stray_loss= total_loss_g_m - total_cu_loss\n",
"stray_loss_each = stray_loss/2  //stray loss for each machine\n",
"\n",
"// for motor\n",
"motor_input = V*I_1\n",
"arm_cu_loss_m =  (R_a+ R_se)*I_1^2  //armature coper losses of motor\n",
"total_loss_m= arm_cu_loss_m + stray_loss_each\n",
"motor_output = motor_input - total_loss_m\n",
"eta_m = 100*(motor_output/motor_input)//motor efficiency \n",
"printf('Efficiency of motor is %.4f percent\n',eta_m)\n",
"\n",
"// for generator\n",
"arm_cu_loss_g = R_a*I_2^2  //armature coper losses of generator\n",
"series_field_cu_loss_g = V_field*I_1  //series field copper loss\n",
"total_loss_g= arm_cu_loss_g + series_field_cu_loss_g + stray_loss_each\n",
"generator_output=V_2*I_2\n",
"generator_input = generator_output +  total_loss_g\n",
"eta_g = 100*(generator_output/generator_input)//generator efficiency \n",
"printf('Efficiency of generator is %.4f percent\n',eta_g)"
   ]
   }
,
{
		   "cell_type": "markdown",
		   "metadata": {},
		   "source": [
			"## Example 3.3: TO_ESTIMATE_FULL_LOAD_CURRENT_AND_EFFICIENCY.sce"
		   ]
		  },
  {
"cell_type": "code",
	   "execution_count": null,
	   "metadata": {
	    "collapsed": true
	   },
	   "outputs": [],
"source": [
"clc,clear\n",
"printf('Example 3.3\n\n')\n",
"\n",
"//no load\n",
"I=14 //input current\n",
"V=230\n",
"power_output_FL = 45*10^3\n",
"power_input=V*I\n",
"I_sh=2.55 //field current\n",
"R_a=0.032 //armature resistance\n",
"I_a=I-I_sh\n",
"cu_loss_NL = I_a^2*R_a //no load copper loss\n",
"brush_loss=2*I_a\n",
"constant_loss= power_input - cu_loss_NL - brush_loss\n",
"\n",
"//full load\n",
"\n",
"//I=I_a+ 2.55\n",
"//Motor input= Motor output + constant loss + brush loss + cu loss\n",
"// solving for I_a , I_a^2 - 7125 I_a + 1487700.3 =0\n",
"p=[1 -7125 1487700.3]\n",
"roots(p)\n",
"I_a=ans(2) //ignoring second root as its too large\n",
"I=I_a+I_sh\n",
"printf('Full load current is %.2f A\n',I)\n",
"power_input=V*I\n",
"eta=100*(power_output_FL/power_input)\n",
"printf('Efficiency at full load is %.2f percent',eta)"
   ]
   }
,
{
		   "cell_type": "markdown",
		   "metadata": {},
		   "source": [
			"## Example 3.4: TO_CALCULATE_FULL_LOAD_EFFICIENCY_OF_DC_SHUNT_MOTOR.sce"
		   ]
		  },
  {
"cell_type": "code",
	   "execution_count": null,
	   "metadata": {
	    "collapsed": true
	   },
	   "outputs": [],
"source": [
"clc,clear\n",
"printf('Example 3.4\n\n')\n",
"\n",
"W1=9.1  //Tension on tight side\n",
"W2=0.8  //Tension on slack side\n",
"I=10    //Total_current\n",
"V=110   //Supply voltage\n",
"R=7.5/100   //Radius of p-ulley in metres\n",
"N=1320     //speed in r.p.m\n",
"T_sh=(W1-W2)*9.81*R   //9.81 is the accelration due to gravity\n",
"omega=(2*%pi*N/60)\n",
"P_out=T_sh*omega\n",
"P_in=V*I\n",
"\n",
"efficiency=100*P_out/P_in\n",
"printf('Full load Efficiency is %.2f percent',efficiency)"
   ]
   }
,
{
		   "cell_type": "markdown",
		   "metadata": {},
		   "source": [
			"## Example 3.5: TO_FIND_THE_EFFICIENCY_OF_MOTOR.sce"
		   ]
		  },
  {
"cell_type": "code",
	   "execution_count": null,
	   "metadata": {
	    "collapsed": true
	   },
	   "outputs": [],
"source": [
"clc,clear\n",
"printf('Example 3.5\n\n')\n",
"\n",
"V=250\n",
"I_av=10\n",
"V_av=(240+220)/2 //average voltage across load\n",
"W_dash=V_av*I_av  //Power absorbed\n",
"t1=25,t2=6\n",
"R_sh=200,R_a=0.3//resistance of field winding and armature \n",
"\n",
"W=W_dash*t2/(t1-t2)   //Stray Losses\n",
"I_l=25 //Input current\n",
"I_sh=V/R_sh //current through field winding\n",
"\n",
"I_a=I_l-I_sh   //Armature current\n",
"arm_cu_loss=R_a*I_a^2  //Armature copper losses\n",
"sh_cu_loss=R_sh*I_sh^2 // Shunt copper loss\n",
"\n",
"Total_losses= arm_cu_loss + sh_cu_loss + W\n",
"Motor_input=V*I_l\n",
"Output=Motor_input- Total_losses\n",
"efficiency=Output*100/Motor_input\n",
"printf('Efficiency as motor at 25 A and 250 V is %.2f percent',efficiency)"
   ]
   }
,
{
		   "cell_type": "markdown",
		   "metadata": {},
		   "source": [
			"## Example 3.6: TO_DETERMINE_THE_EFFICIENCY_OF_MACHINES.sce"
		   ]
		  },
  {
"cell_type": "code",
	   "execution_count": null,
	   "metadata": {
	    "collapsed": true
	   },
	   "outputs": [],
"source": [
"clc,clear\n",
"printf('Example 3.6\n\n')\n",
"\n",
"I_a=37,I_sh=0.85//armature and field current for motor\n",
"V=230\n",
"R_a=0.33 //armature resistance\n",
"\n",
"I_a_g=30,I_sh_g=0.8//armature and field current for generator\n",
"\n",
"//for motor\n",
"arm_cu_loss= I_a^2* R_a   //armature copper losses\n",
"field_cu_loss=V*I_sh  //field copper loss\n",
"total_cu_loss= field_cu_loss + arm_cu_loss //total copper loss \n",
"\n",
"//for generator\n",
"arm_cu_loss_g= I_a_g^2* R_a   //armature copper losses\n",
"field_cu_loss_g=V*I_sh_g  //field copper loss\n",
"total_cu_loss_g= field_cu_loss_g + arm_cu_loss_g //total copper loss\n",
"\n",
"//for motor-generator set\n",
"total_cu_loss_set=   total_cu_loss_g + total_cu_loss\n",
"P_supply=V*(I_a - I_a_g + I_sh+ I_sh_g ) //power taken from supply\n",
"stray_loss= P_supply - (total_cu_loss_g + total_cu_loss) \n",
"stray_loss_each=  stray_loss/2   //stray loss for each machine\n",
"\n",
"//efficiency of motor\n",
"motor_input = V*(I_a+I_sh)\n",
"motor_output =  motor_input - (stray_loss_each + total_cu_loss)\n",
"eta_m=  100* motor_output/motor_input //efficiency of motor\n",
"printf('Efficiency of motor is %.2f percent \n',eta_m)\n",
"//efficiency of generator\n",
"generator_input = motor_output   //output of motor is input of generator\n",
"generator_output =  generator_input - (stray_loss_each + total_cu_loss_g)\n",
"eta_g=  100* generator_output/generator_input //efficiency of generator\n",
"printf('Efficiency of generator is %.2f percent \n',eta_g)"
   ]
   }
,
{
		   "cell_type": "markdown",
		   "metadata": {},
		   "source": [
			"## Example 3.7: TO_FIND_EFFICIENCY_OF_EACH_MACHINE.sce"
		   ]
		  },
  {
"cell_type": "code",
	   "execution_count": null,
	   "metadata": {
	    "collapsed": true
	   },
	   "outputs": [],
"source": [
"clc,clear\n",
"printf('Example 3.7\n\n')\n",
"\n",
"I_1=40 //motor input current\n",
"V=200  //voltage across armature\n",
"I_2=32  //load current\n",
"V_2=160  //voltage across generator\n",
"V_f=15 //voltage drop across field windings\n",
"total_input = (V+V_f)*I_1  \n",
"Output=V_2*I_2\n",
"total_losses = total_input-Output   //total losses in 2 machines\n",
"\n",
"R_se=V_f/I_1   //series field resistance\n",
"R_a=0.4 // armature field resistance\n",
"\n",
"total_cu_loss=(R_a + 2*R_se) * I_1^2 + I_2^2*R_a //total copper loss\n",
"stray_losses =  total_losses -  total_cu_loss\n",
"stray_losses_each =stray_losses /2 //stray losses for each machine\n",
"\n",
"//for motor\n",
"motor_input= V*I_1\n",
"arm_cu_loss= (R_a + R_se)*I_1*I_1 //armature copper loss\n",
"total_losses_motor = arm_cu_loss +  stray_losses_each \n",
"motor_output= motor_input- total_losses_motor\n",
"eta_m=100*motor_output/motor_input //efficiency of motor\n",
"printf('Efficiency of motor is %.2f percent \n',eta_m)\n",
"//for generator\n",
"arm_cu_loss_gen=R_a*I_2^2 //armature copper loss\n",
"series_field_cu_loss = V_f*I_1 //series field copper loss\n",
"total_losses_gen= arm_cu_loss_gen +  series_field_cu_loss + stray_losses_each \n",
"generator_input = total_losses_gen+ Output\n",
"eta_gen=100*Output/generator_input //efficiency of generator\n",
"printf('Efficiency of generator is %.2f percent',eta_gen)\n",
"printf('\n\nAnswer dont match because Output-of-generator is taken as 5220 for calculation while its should have been 5120')"
   ]
   }
,
{
		   "cell_type": "markdown",
		   "metadata": {},
		   "source": [
			"## Example 3.8: TO_DETERMINE_EFFICIENCY_WHEN_MOTOR_DRAWS_100_A_CURRENT.sce"
		   ]
		  },
  {
"cell_type": "code",
	   "execution_count": null,
	   "metadata": {
	    "collapsed": true
	   },
	   "outputs": [],
"source": [
"clc,clear\n",
"printf('Example 3.8\n\n')\n",
"\n",
"V=500\n",
"Io=5 //no load current\n",
"R_a=0.5,R_sh=250//resistance of armature and field circuits\n",
"I=100 //current at unknown efficiency\n",
"\n",
"P_in_NL=V*Io  //no load input\n",
"I_sh=V/R_sh\n",
"\n",
"Iao=Io-I_sh\n",
"arm_cu_loss_no_load=R_a*Iao^2  //No load armature copper loss\n",
"constant_losses= P_in_NL- arm_cu_loss_no_load\n",
"\n",
"I_a=I-I_sh\n",
"arm_cu_loss= R_a*I_a^2  //New armature copper loss\n",
"\n",
"Total_loss=arm_cu_loss + constant_losses\n",
"P_in=V*I\n",
"efficiency=(P_in-Total_loss)*100/P_in //required efficiency\n",
"printf('Efficiency is %.3f percent when motor takes %.0f A current',efficiency,I)"
   ]
   }
,
{
		   "cell_type": "markdown",
		   "metadata": {},
		   "source": [
			"## Example 3.9: TO_DETERMINE_EFFICIENCY_AND_PERCENTAGE_CHANGE_IN_SPEED.sce"
		   ]
		  },
  {
"cell_type": "code",
	   "execution_count": null,
	   "metadata": {
	    "collapsed": true
	   },
	   "outputs": [],
"source": [
"clc,clear\n",
"printf('Example 3.9\n\n')\n",
"\n",
"V=500  \n",
"I_NL=5  //no load current \n",
"P_in_NL = V* I_NL   //no load input\n",
"R_a=0.22,R_sh=250 //resistance of armature and shunt field winding\n",
"I_sh=V/R_sh\n",
"I_a_NL=I_NL-I_sh //armature current no load\n",
"arm_cu_loss_NL = R_a*I_a_NL^2  //No-load armature copper loss\n",
"constant_loss =  P_in_NL -  arm_cu_loss_NL\n",
"\n",
"//at 100 A current\n",
"I=100\n",
"I_a = I - I_sh\n",
"arm_cu_loss =  R_a*I_a^2 //armature copper loss\n",
"total_loss = arm_cu_loss +  constant_loss \n",
"motor_input = V*I\n",
"motor_output =  motor_input- total_loss\n",
"eta_m= 100*motor_output/motor_input  //motor efficiency\n",
"printf('Part(a)\nEfficiency of motor when it takes 100 A current and loaded is %.2f percent\n',eta_m)\n",
"\n",
"//part(b)\n",
"E_b_NL = V - I_a_NL*R_a   //back emf at no load\n",
"\n",
"E_b = V- I_a*R_a  //back EMF at 100 A current\n",
"//Since E_b is proportional to N and using componendo dividendo\n",
"delta_speed= 100*((E_b_NL-E_b)/E_b)\n",
"printf('Part(b)\nPercentage speed in speed is %.3f percent\n\n',delta_speed)\n",
"\n",
"printf('Note that the following were assumptions made\n')\n",
"printf('(i) Due to heating , resistance of shunt field winding will be increased which will reduce the shunt field current.This will decrease the flux which is neglected\n')\n",
"printf('(ii) Though the motor speed is changing from no load to given load , the mechanical losses are assumed to be cosnstant\n')\n",
"printf('(iii)The effect of armature reaction aon main pole flux and its effect on iron loss is neglected')"
   ]
   }
],
"metadata": {
		  "kernelspec": {
		   "display_name": "Scilab",
		   "language": "scilab",
		   "name": "scilab"
		  },
		  "language_info": {
		   "file_extension": ".sce",
		   "help_links": [
			{
			 "text": "MetaKernel Magics",
			 "url": "https://github.com/calysto/metakernel/blob/master/metakernel/magics/README.md"
			}
		   ],
		   "mimetype": "text/x-octave",
		   "name": "scilab",
		   "version": "0.7.1"
		  }
		 },
		 "nbformat": 4,
		 "nbformat_minor": 0
}
