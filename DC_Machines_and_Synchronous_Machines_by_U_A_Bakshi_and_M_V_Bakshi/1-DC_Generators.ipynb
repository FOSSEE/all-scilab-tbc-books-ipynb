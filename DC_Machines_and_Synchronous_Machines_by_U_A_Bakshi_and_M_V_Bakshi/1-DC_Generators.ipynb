{
"cells": [
 {
		   "cell_type": "markdown",
	   "metadata": {},
	   "source": [
       "# Chapter 1: DC Generators"
	   ]
	},
{
		   "cell_type": "markdown",
		   "metadata": {},
		   "source": [
			"## Example 1.10: TO_DETERMINE_TERMINAL_VOLTAGE_AT_THE_LOAD.sce"
		   ]
		  },
  {
"cell_type": "code",
	   "execution_count": null,
	   "metadata": {
	    "collapsed": true
	   },
	   "outputs": [],
"source": [
"clc,clear\n",
"printf('Example 1.10\n\n')\n",
"\n",
"R_a=0.5,R_se=0.03  //resitance due to armature and series field winding\n",
"V_brush=2 //brush drop\n",
"N=1500 //generator speed in r.p.m\n",
"coils=540\n",
"turns_per_coil=6\n",
"total_turns= coils*turns_per_coil\n",
"Z=2*total_turns //Total conductors\n",
"I_a=50 //armature current\n",
"\n",
"phi=2*10^-3  //flux per pole in webers\n",
"E=phi*N*Z/(60)  //A=P for lap-wound and they cancel out\n",
"V_t =E- (I_a*(R_a+R_se)  + V_brush)   //Because E=V_t+ I_a*R_a  + V_brush\n",
"printf('\nTerminal voltage is %.1f V',V_t)"
   ]
   }
,
{
		   "cell_type": "markdown",
		   "metadata": {},
		   "source": [
			"## Example 1.11: TO_CALCULATE_THE_VOLTAGE_GENERATED_BY_SHUNT_COMPOUND_DC_GENERATOR.sce"
		   ]
		  },
  {
"cell_type": "code",
	   "execution_count": null,
	   "metadata": {
	    "collapsed": true
	   },
	   "outputs": [],
"source": [
"clc,clear\n",
"printf('Example 1.11\n\n')\n",
"\n",
"V_t=225 //voltage across winding\n",
"R_a=0.04 //armature resistance\n",
"R_sh=90 //shunt resistance\n",
"R_se=0.02//resistance of series field winding\n",
"I_L=75 //load current\n",
"\n",
"//E -I_a*R_a=V_t+I_L*R_se \n",
"I_sh=(V_t+I_L*R_se)/R_sh  //current through shunt field winding\n",
"\n",
"I_a=I_L + I_sh  //armature current \n",
"E=V_t+ I_a*R_a+I_L*R_se  //induced emf\n",
"\n",
"printf('\nGenerated voltage is %.1f V',E)"
   ]
   }
,
{
		   "cell_type": "markdown",
		   "metadata": {},
		   "source": [
			"## Example 1.12: TO_CALCULATE_THE_OPEN_CIRCUIT_VOLTAGE_AND_LOAD_CURRENT.sce"
		   ]
		  },
  {
"cell_type": "code",
	   "execution_count": null,
	   "metadata": {
	    "collapsed": true
	   },
	   "outputs": [],
"source": [
"clc,clear\n",
"printf('Example 1.12\n\n')\n",
"\n",
"R_sh=53  //Resistance of field winding\n",
"V_t=100 //terminal voltage \n",
"I_sh =V_t/R_sh //shunt current\n",
"I_f=I_sh\n",
"R_a=0.1 //armature resistance\n",
"E_o=143 // for I_sh= I_f = 1.8867 as obtained from graph\n",
"I_a=(E_o-V_t)/R_a  //Because E_o=V_t + I_a*R_a\n",
"I_L=I_a-I_sh  //no load current\n",
"printf('\n\nNote: Open circuit voltage was obtained as follows\nE_o=R_sh*I_f   // y=mx+c form with c=0 and R_sh=53\nHence, a line with slope 53 through origin is made to intersect OCC at 150 V')\n",
"\n",
"printf('\nTherefore, Open circuit voltage is 150 V')\n",
"printf('\n\n\nNo load current is %.4f A    ',I_L)"
   ]
   }
,
{
		   "cell_type": "markdown",
		   "metadata": {},
		   "source": [
			"## Example 1.13: EX1_13.sce"
		   ]
		  },
  {
"cell_type": "code",
	   "execution_count": null,
	   "metadata": {
	    "collapsed": true
	   },
	   "outputs": [],
"source": [
"clc,clear\n",
"printf('Example 1.13\n\n')\n",
"\n",
"//part(1)\n",
"E_o=240  //on no-load\n",
"\n",
"//Draw horizontal line from 240 V, to intersect OCC at A. corresponding I_f is 2.25 A\n",
"//The slope pf OA is corresponding R_sh\n",
"I_f=2.25  //Corresponds to 240 V when intersected OCC\n",
"R_sh=240/I_f  //shunt resistance\n",
"printf('(i)Field resistance that gives 240 V on no-load is %.2f ohms \n',R_sh)\n",
"\n",
"//Part(ii)\n",
"N1=1000 //speed of shunt generator in rpm\n",
"I_f=1\n",
"\n",
"//Draw line OP tangential to OCC at N1=1000 r.p.m.\n",
"//Select I_f=1A i.e. point R\n",
"//Draw vertical from R to intersect OP at S and OA at T....this gives RT=105 and RS=159\n",
"//At critcal speed generator just fails to build up\n",
"\n",
"RT=105,RS=159\n",
"N_C=N1*RT/RS //Critical speed\n",
"printf('(ii)Critical speed is %.2f r.p.m ',N_C)"
   ]
   }
,
{
		   "cell_type": "markdown",
		   "metadata": {},
		   "source": [
			"## Example 1.14: TO_DETERMINE_RUNNING_SPEED_TO_GENERATE_240_V_ON_NOLOAD.sce"
		   ]
		  },
  {
"cell_type": "code",
	   "execution_count": null,
	   "metadata": {
	    "collapsed": true
	   },
	   "outputs": [],
"source": [
"clc,clear\n",
"printf('Example 1.14\n\n')\n",
"\n",
"P=4  //number of poles\n",
"A=2 //because wave wound\n",
"Z=792 //No of conductors\n",
"phi=0.012  //flux per pole in weber\n",
"E_g=240 //on no-load\n",
"//running speed\n",
"N=E_g*60*A/(phi*P*Z) //becuase E_g= phi*P*N*Z/(60*A)\n",
"\n",
"printf('Required running speed is %.3f r.p.m',N)"
   ]
   }
,
{
		   "cell_type": "markdown",
		   "metadata": {},
		   "source": [
			"## Example 1.15: TO_CALCULATE_LOAD_CURRENT.sce"
		   ]
		  },
  {
"cell_type": "code",
	   "execution_count": null,
	   "metadata": {
	    "collapsed": true
	   },
	   "outputs": [],
"source": [
"clc,clear\n",
"printf('Example 1.15\n\n')\n",
"\n",
"//open circuit condition\n",
"I_L=0  //because of open circuit\n",
"V_t=127 //terminal voltage\n",
"E_g=V_t //because I_L=0\n",
"\n",
"//load condition\n",
"V_t=120\n",
"R_sh=15,R_a=0.02  //shunt and armature resistance\n",
"I_sh1=V_t/R_sh //current through shunt winding in loaded condition\n",
"\n",
"I_L =(E_g-V_t)/R_a  -  I_sh1 //because I_a1=I_L+I_sh1    and    E_g=V_t + I_a1*R_a\n",
"printf('Load current is %.0f A',I_L)"
   ]
   }
,
{
		   "cell_type": "markdown",
		   "metadata": {},
		   "source": [
			"## Example 1.16: TO_CALCULATE_ARMATURE_CURRENT_AND_GENERATED_EMF.sce"
		   ]
		  },
  {
"cell_type": "code",
	   "execution_count": null,
	   "metadata": {
	    "collapsed": true
	   },
	   "outputs": [],
"source": [
"clc,clear\n",
"printf('Example 1.16\n\n')\n",
"\n",
"V_t=550  //Terminal voltage\n",
"R_lamp=500 //Each lamp\n",
"I_lamp=V_t/R_lamp  //each lamp ; V_t because all lamps are in parallel\n",
"\n",
"I_L=20*I_lamp  //there exist 20 lamps\n",
"R_sh=25,R_a=0.06,R_se=0.04  //resistance of shunt winding,armature,series field\n",
"I_sh=V_t/R_sh //current throough shunt winding\n",
"I_a=I_L+I_sh//armature current\n",
"E=V_t + I_a*(R_a+R_se)  //generated emf\n",
"\n",
"printf('Armature current and generated e.m.f is %.0f A and %.1f V respectively ',I_a,E )"
   ]
   }
,
{
		   "cell_type": "markdown",
		   "metadata": {},
		   "source": [
			"## Example 1.17: TO_DETERMINE_THE_TERMINAL_VOLTAGE.sce"
		   ]
		  },
  {
"cell_type": "code",
	   "execution_count": null,
	   "metadata": {
	    "collapsed": true
	   },
	   "outputs": [],
"source": [
"clc,clear\n",
"printf('Example 1.17\n\n')\n",
"\n",
"P=4 //number of poles\n",
"A=P // because of lap wound\n",
"N=750 //speed in rpm\n",
"Z=720 //number of armature conductors\n",
"phi=30*10^-3  //flux per pole in weber\n",
"R_sh=200,R_a=0.4,R_L=15, //resistance of shunt winding,armature,series field\n",
"E=phi*P*N*Z/(60*A) //generated emf\n",
"\n",
"//solving the following equations for V_t\n",
"//E= V_t + I_a*R_a\n",
"//E= V_t + (I_L + I_sh)*R_a\n",
"//E= V_t + ((V_t/R_L) + (V_t/R_sh))*R_a\n",
"V_t=E/(1+(R_a/R_L)+(R_a/R_sh))\n",
"printf('Terminal voltage = %.4f V',V_t)"
   ]
   }
,
{
		   "cell_type": "markdown",
		   "metadata": {},
		   "source": [
			"## Example 1.18: TO_DETERMINE_THE_DRIVING_SPEED_OF_ARMATURE_TO_GENERATE_CERTAIN_EMF.sce"
		   ]
		  },
  {
"cell_type": "code",
	   "execution_count": null,
	   "metadata": {
	    "collapsed": true
	   },
	   "outputs": [],
"source": [
"clc,clear\n",
"printf('Example 1.18\n\n')\n",
"\n",
"P=6 //number of poles\n",
"A=2 // because of wave wound\n",
"N_1=300 //speed of generator\n",
"Z=600 //number of armature conductors\n",
"phi_1=0.06  //flux per pole in webers \n",
"E_g1=phi_1*P*N_1*Z/(60*A) //generated emf\n",
"printf('Emf generated is %.0f V\n\n',E_g1)\n",
"\n",
"phi_2=0.055 //new flux per pole \n",
"E_g2=550// new generated emf\n",
"N_2=E_g2/(phi_2*P*Z/(60*A)) //new speed of generator\n",
"printf('Required speed is %.2f r.p.m',N_2)"
   ]
   }
,
{
		   "cell_type": "markdown",
		   "metadata": {},
		   "source": [
			"## Example 1.19: EX1_19.sce"
		   ]
		  },
  {
"cell_type": "code",
	   "execution_count": null,
	   "metadata": {
	    "collapsed": true
	   },
	   "outputs": [],
"source": [
"clc,clear\n",
"printf('Example 1.19\n')\n",
"printf('Refer to code for explanation\n\n')\n",
"\n",
"N_1=300,N_2=375 //generator speeds\n",
"\n",
"//E_g2=E_g1*(N_2/N_1)\n",
"//Using this new table OCC at N_2=375 is made\n",
"//Draw a line with slope R_sh=40 through origin which cuts this OCC at 248\n",
"//I_f_table=[0,2,3,4,5,6,7]\n",
"//Arm_vol_table=[9.375,115,165,202.5,228.75,237.5,265]\n",
"\n",
"//part(i)\n",
"//at V=200 volts, I_f=3.9 from the graph\n",
"V=200\n",
"I_f=3.9\n",
"R_sh2=V/I_f,R_sh=40\n",
"printf('Additional resistance required is %.3f ohms  ',R_sh2-R_sh)\n",
"\n",
"//part(ii)\n",
"V_t=200\n",
"I_f=V_t/R_sh\n",
"E_g=228.75   //For this I_f from the table \n",
"R_a=0.4\n",
"I_a=(E_g-V_t)/R_a   //Because E_g=V_t + I_a*R_a\n",
"I_L=I_a-I_f\n",
"printf('\nLoad current supplied by the generator is %.3f A',I_L      )"
   ]
   }
,
{
		   "cell_type": "markdown",
		   "metadata": {},
		   "source": [
			"## Example 1.1: EX1_1.sce"
		   ]
		  },
  {
"cell_type": "code",
	   "execution_count": null,
	   "metadata": {
	    "collapsed": true
	   },
	   "outputs": [],
"source": [
"clc,clear\n",
"printf('Example 1.1\n\n')\n",
"\n",
"Pole=4\n",
"Z=440   //number of conductors in armature\n",
"phi=0.07  //flux produced by each pole in webers\n",
"N=900     //Speed of armature in r.p.m\n",
"\n",
"//Part(i)  lap wound\n",
"A1=Pole  //no of parallel paths for lap winding\n",
"E1=phi*N*Z*Pole/(60*A1)\n",
"printf('(i) e.m.f generated (lap-wound) is %.0f V',E1)\n",
"\n",
"//Part(ii)  wave wound\n",
"A2=2  //no of parallel paths for wave winding\n",
"E2=phi*N*Z*Pole/(60*A2)\n",
"printf('\n(ii) e.m.f generated (wave-wound)is %.0f V',E2)"
   ]
   }
,
{
		   "cell_type": "markdown",
		   "metadata": {},
		   "source": [
			"## Example 1.20: EX1_20.sce"
		   ]
		  },
  {
"cell_type": "code",
	   "execution_count": null,
	   "metadata": {
	    "collapsed": true
	   },
	   "outputs": [],
"source": [
"clc,clear\n",
"printf('Example 1.20\n\n')\n",
"\n",
"I_a=750 //full load current \n",
"Pole=6 \n",
"A=Pole //lap winding\n",
"I=I_a/A  //Full-load current per path\n",
"Z=900 //no of conductors\n",
"lambda=1.4  //leakage coefficient\n",
"theta_e=21 //lead angle in degrees electrical\n",
"theta_m=theta_e/(Pole/2)  //lead angle in degrees mechanical\n",
"\n",
"amp_turns_PP_d=Z*I*theta_m/360  //demagnetising ampere turns per pole\n",
"amp_turns_PP_c=Z*I*(1/(2*Pole)-theta_m/360)  //cross-magnetising ampere turns per pole\n",
"\n",
"balance_turns=amp_turns_PP_d*lambda/I_a //series turns required to balance demagnetising component\n",
"printf('(i)  De-magnetising ampere-turns per pole is %.1f',amp_turns_PP_d)\n",
"printf('\n(ii) Cross-magnetising ampere-turns per pole is %.1f',amp_turns_PP_c)\n",
"printf('\n(iii)Turns required to balance demagnetising component is %.0f',floor(balance_turns))"
   ]
   }
,
{
		   "cell_type": "markdown",
		   "metadata": {},
		   "source": [
			"## Example 1.21: TO_DESIGN_A_LAP_WINDING.sce"
		   ]
		  },
  {
"cell_type": "code",
	   "execution_count": null,
	   "metadata": {
	    "collapsed": true
	   },
	   "outputs": [],
"source": [
"clc,clear\n",
"printf('Example 1.21\n\n')\n",
"\n",
"Pole=4 \n",
"Z=32  //no of conductors\n",
"coil_sides=Z \n",
"segments=16\n",
"pole_pitch=Z/Pole\n",
"slots=16\n",
"slots_per_pole=slots/Pole\n",
"\n",
"//for Simplex lap winding\n",
"y_b=pole_pitch+1  //back pitch\n",
"y_f=pole_pitch-1  //front pitch\n",
"\n",
"y_c=1  //Commutator pitch; Note that it is positive and it is progressive type of Simplex lap winding\n",
"\n",
"printf('WINDING TABLE:\n\n   1<-   10->    3<-   12->    5<-   14\n-> 7<-   16->    9<-   18->   11<-   20\n->13<-   22->   15<-   24->   17<-   26\n->19<-   28->   21<-   30->   23<-   32\n->25<-    2->   27<-    4->   29<-    6\n->31<-   8->1                                                  ')\n",
"printf('\nNote that <- indicates back connection with  y_back=%.0f and -> indicates front connection with y_front=%.0f\n',y_b,y_f)\n",
"\n",
"printf('\nAnother form of winding table:')\n",
"\n",
"printf('\n      BACK CONNECTIONS                                FRONT CONNECTIONS')\n",
"\n",
"printf('\n\n       1 to (1+9) =10                        ->       10 to (10-7) =3')\n",
"printf('\n       3 to (3+9) =12                        ->       12 to (12-7)= 5')\n",
"printf('\n       5 to (5+9) =14                        ->       14 to (14-7)= 7')\n",
"printf('\n       7 to (7+9) =16                        ->       16 to (16-7)= 9')\n",
"printf('\n       9 to (9+9) =18                        ->       18 to (18-7)=11')\n",
"printf('\n      11 to (11+9)=20                        ->       20 to (20-7)=13')\n",
"printf('\n      13 to (13+9)=22                        ->       22 to (22-7)=15')\n",
"printf('\n      15 to (15+9)=24                        ->       24 to (24-7)=17')\n",
"printf('\n      17 to (17+9)=26                        ->       26 to (26-7)=19')\n",
"printf('\n      19 to (19+9)=28                        ->       28 to (28-7)=21')\n",
"printf('\n      21 to (21+9)=30                        ->       30 to (30-7)=23')\n",
"printf('\n      23 to (23+9)=32                        ->       32 to (32-7)=25')\n",
"printf('\n      25 to (25+9)=34=(34-32)=2              ->        2 to (34-7)=27')\n",
"printf('\n      27 to (27+9)=36=(36-32)=4              ->        4 to (36-7)=29')\n",
"printf('\n      29 to (29+9)=38=(38-32)=6              ->        6 to (38-7)=31')\n",
"printf('\n      31 to (31+9)=40=(40-32)=4              ->        8 to (40-7)=33 -32= 1')"
   ]
   }
,
{
		   "cell_type": "markdown",
		   "metadata": {},
		   "source": [
			"## Example 1.22: TO_DETERMINE_CERTAIN_QUANTITIES_ASSOCIATED_WITH_SIMPLEX_WAVE_WOUND_DC_MACHINE.sce"
		   ]
		  },
  {
"cell_type": "code",
	   "execution_count": null,
	   "metadata": {
	    "collapsed": true
	   },
	   "outputs": [],
"source": [
"clc,clear\n",
"printf('Example 1.22\n\n')\n",
"\n",
"Z=496 //no of conductors\n",
"P=4 //poles\n",
"slots=31\n",
"coilsides_per_slot=4\n",
"coilsides=slots*coilsides_per_slot\n",
"coils=coilsides/2\n",
"turns=Z/2\n",
"turns_per_coil=turns/coils\n",
"\n",
"y_c=[(Z-2)/P (Z+2)/P] //commutator pitch\n",
"coils_active=(Z/(2*P))-1 // because y_c didnt turn out to be integer, 1 coil was made inactive/dummy\n",
"segments=coils_active  //no of commutative segments\n",
"Y_A=[ (segments+1)/(P/2) (segments-1)/(P/2)   ]\n",
"Y_A=Y_A(1)   //Y_A(2) is discarded because of progressive wave winding\n",
"y_f=29,y_b=33  //front and back pitch ; note that Y_A=(y_b+y_f)/2\n",
"resultant_pitch=2*Y_A  //because Y_A=(y_b+y_f)/2 and resultant pitch = y_b+ y_f\n",
"\n",
"printf('\n(i)   Total number of coils = %.0f',coils)\n",
"printf('\n(ii)  Turns per coils = %.0f',turns_per_coil)\n",
"printf('\n(iii) Commutator pitch = %.0f',(y_c(1)+y_c(2))/2)\n",
"printf('\n(iv)  Back pitch= %.0f    front pitch= %.0f   total pitch= %.0f',y_b,y_f,resultant_pitch)\n",
"printf('\n(v)   No of commutator segments = %.0f',segments)"
   ]
   }
,
{
		   "cell_type": "markdown",
		   "metadata": {},
		   "source": [
			"## Example 1.23: TO_DRAW_DEVELOPED_ARMATURE_WINDING_DIAGRAM_OF_DC_MACHINE.sce"
		   ]
		  },
  {
"cell_type": "code",
	   "execution_count": null,
	   "metadata": {
	    "collapsed": true
	   },
	   "outputs": [],
"source": [
"clc,clear\n",
"printf('Example 1.23\n\n')\n",
"\n",
"slots=13\n",
"Pole=4\n",
"conductors_per_slot=2\n",
"Z=conductors_per_slot*slots\n",
"Y_A=(Z+2)/Pole  //For progressive type wave winding\n",
"//Since Y_A=(y_b+y_f)/2, we let y_b=y_f\n",
"y_b=Y_A\n",
"y_f=y_b //because y_b=Y_A/2\n",
"\n",
"segments=13 //commutator segments\n",
"\n",
"printf('WINDING TABLE:\n   1<-    8->  15<-  22->   3<-   10\n->17<-   24->   5<-  12->  19<-   26\n-> 7<-   14->  21<-   2->   9<-   16\n->23<-    4->  11<-  18->  25<-    6\n->13<-   20->   1\n                                                  ')\n",
"printf('\nNote that <- indicates back connection with y_back=%.0f and -> indicates front connection with y_front=%.0f\n',y_b,y_f)\n",
"\n",
"printf('\nAnother form of winding table:')\n",
"\n",
"printf('\n      BACK CONNECTIONS                                FRONT CONNECTIONS')\n",
"\n",
"printf('\n\n       1 to (1+7)  = 8                   ->        8 to (8+7) = 15')\n",
"printf('\n      15 to (15+7) =22                   ->       22 to (22+7)= 29 -26=3')\n",
"printf('\n       3 to (3+7)  =10                   ->       10 to (10+7)= 17')\n",
"printf('\n      17 to (17+7) =24                   ->       24 to (24+7)= 31 -26=5')\n",
"printf('\n       5 to (5+7)  =14                   ->       12 to (12+7)= 19')\n",
"printf('\n      19 to (19+7) =26                   ->       26 to (26+7)= 33 -26=7')\n",
"printf('\n       7 to (7+7)  =14                   ->       14 to (14+7)= 21')\n",
"printf('\n      21 to (21+7) =28 -26=2             ->        2 to  (2+7)=  9')\n",
"printf('\n       9 to (9+7)  =16                   ->       16 to (16+7)= 23 ')\n",
"printf('\n      23 to (23+7) =30 -26=4             ->        4 to  (4+7)= 11')\n",
"printf('\n       11to (11+7) =18                   ->       18 to (18+7)= 25')\n",
"printf('\n      25 to (25+7) =32 -26=6             ->        6 to  (6+7)= 13')\n",
"printf('\n      13 to`(13+7) =20                   ->       20 to (20+7)= 27 -26=1')"
   ]
   }
,
{
		   "cell_type": "markdown",
		   "metadata": {},
		   "source": [
			"## Example 1.24: TO_DETERMINE_REACTIVE_VOLTAGE_IN_CASE_OF_LINEAR_AND_SINUSOIDAL_COMMUTATION.sce"
		   ]
		  },
  {
"cell_type": "code",
	   "execution_count": null,
	   "metadata": {
	    "collapsed": true
	   },
	   "outputs": [],
"source": [
"clc,clear\n",
"printf('Example 1.24\n\n')\n",
"\n",
"P=4\n",
"I_L=150\n",
"N=1500 //commutator speed in rpm\n",
"n_s=N/60  //commutator speed in r.p.s\n",
"W_b=1.2 //Brush pitch\n",
"W_m=0//Pitch of mica insulation\n",
"L=0.05*10^-3  //inductance of armature coils in henry\n",
"A=P //A=P for lap wound\n",
"segments=64\n",
"v=n_s*segments //peripheral speed in segments per second\n",
"\n",
"T_c=(W_b-W_m)/v  //Time of commutation\n",
"I=I_L/A  //current through each conductor\n",
"\n",
"E=L*2*I/T_c  //Linear commutation\n",
"E2=1.11*L*2*I/T_c  //Sinusoidal commutation\n",
"\n",
"printf('\nReactive voltage (linear commutation) is %.0f V',E)\n",
"printf('\nReactive voltage (sinusoidal commutation) is %.2f V',E2)"
   ]
   }
,
{
		   "cell_type": "markdown",
		   "metadata": {},
		   "source": [
			"## Example 1.25: TO_CALCULATE_ARMATURE_CURRENT_AND_OUTPUT_POWER.sce"
		   ]
		  },
  {
"cell_type": "code",
	   "execution_count": null,
	   "metadata": {
	    "collapsed": true
	   },
	   "outputs": [],
"source": [
"clc,clear\n",
"printf('Example 1.25\n\n')\n",
"printf('Note :answer obtained will not match with textbook answer because \nI_L=V_t/R_L\n=310.79/40=7.77 A\nwhile its taken as 8.045 A in textbook')\n",
"\n",
"P=4  //Pole\n",
"Z=386 //no of wave connected conductors\n",
"A=2  //Wave winding\n",
"R_a=1,R_sh=100,R_L=40  //Armature ,shunt field and load resistance\n",
"phi=25*10^-3  //flux per pole in weber\n",
"N=1000  //speed in rpm\n",
"\n",
"E_g=(phi*P*N*Z)/(60*A)  //generated emf\n",
"\n",
"//Solving following equations for V_t\n",
"//E_g=V_t+I_a*R_a\n",
"//I_a=(I_L+I_sh)   I_L=V_t/R_L  I_sh=V_t/R_sj\n",
"//E_g=V_t(1 + (R_a/R_L) + (R_a/R_sh)\n",
"V_t=E_g/(1 + (R_a/R_L) + (R_a/R_sh))\n",
"\n",
"I_L=V_t/R_L // load current\n",
"I_sh=V_t/R_sh // current through shunt field resistance\n",
"\n",
"I_a=I_L+I_sh //armature current \n",
"printf('\n\narmature current is  is %.4f A',I_a)\n",
"\n",
"output_power=V_t*I_L\n",
"printf('\noutput power is %.3f W',output_power)"
   ]
   }
,
{
		   "cell_type": "markdown",
		   "metadata": {},
		   "source": [
			"## Example 1.26: TO_DETERMINE_REACTIVE_VOLTAGE_FOR_A_DC_MACHINE.sce"
		   ]
		  },
  {
"cell_type": "code",
	   "execution_count": null,
	   "metadata": {
	    "collapsed": true
	   },
	   "outputs": [],
"source": [
"clc,clear\n",
"printf('Example 1.26\n\n')\n",
"\n",
"I=40  //current PER conductor\n",
"W_b=3,W_m=0//brush width and width of mica insulation\n",
"N=600 //commutator speed in rpm \n",
"n_s=N/60 //commutator speed in rps\n",
"L=0.15*10^-3 //self inductance in Henry\n",
"segments=50  \n",
"v=n_s*segments //peripheral speed in segments per second\n",
"T_c=(W_b-W_m)/v //time of commutation\n",
"\n",
"E=L*2*I/T_c  //Linear commutation\n",
"E2=1.11*L*2*I/T_c  //Sinusoidal commutation\n",
"\n",
"printf('\nReactive voltage (linear commutation) is %.0f volts',E)\n",
"printf('\nReactive voltage (sinusoidal commutation) is %.2f volts',E2)"
   ]
   }
,
{
		   "cell_type": "markdown",
		   "metadata": {},
		   "source": [
			"## Example 1.27: TO_CALCULATE_CROSS_AND_DEMAGNETISING_TURNS_PER_POLE.sce"
		   ]
		  },
  {
"cell_type": "code",
	   "execution_count": null,
	   "metadata": {
	    "collapsed": true
	   },
	   "outputs": [],
"source": [
"clc,clear\n",
"printf('Example 1.27\n\n')\n",
"\n",
"V=400\n",
"P=6 //Poles\n",
"A=P  //For lap wound\n",
"output_power=250*10^3\n",
"R_sh=200 //shunt field circuit resistance\n",
"Z=720 //number of lap wound conductors\n",
"\n",
"theta_m=2.5 //brush lead angle in degree mechanical\n",
"I_L=output_power/V\n",
"V_sh=V\n",
"\n",
"I_sh=V_sh/R_sh //Current through shunt field circuit resistance\n",
"I_a=I_L+I_sh //armature currrent\n",
"I=I_a/P\n",
"\n",
"//Part(i)\n",
"amp_turns_PP_d=Z*I*theta_m/360//demagnetising ampere turns per pole\n",
"//Part(ii)\n",
"amp_turns_PP_c=Z*I*(1/(2*P)-theta_m/360) //cross-magnetising ampere turns per pole\n",
"\n",
"printf('(i)  De-magnetising ampere-turns per pole is %.1f',amp_turns_PP_d)\n",
"printf('\n(ii) Cross-magnetising ampere-turns per pole is %.1f',amp_turns_PP_c)"
   ]
   }
,
{
		   "cell_type": "markdown",
		   "metadata": {},
		   "source": [
			"## Example 1.28: TO_CALCULATE_REACTIVE_VOLTAGE_IN_CASE_OF_LINEAR_COMMUTATION.sce"
		   ]
		  },
  {
"cell_type": "code",
	   "execution_count": null,
	   "metadata": {
	    "collapsed": true
	   },
	   "outputs": [],
"source": [
"clc,clear\n",
"printf('Example 1.28\n\n')\n",
"\n",
"I_L=100\n",
"P=4 //Poles\n",
"A=P //for lap wound armature\n",
"W_b=1.4,W_m=0 //Brush width and width of mica insulation\n",
"N=1400//armature speed in r.p.m\n",
"segments=64 //no of commutator segments\n",
"L=0.05*10^-3 //inductance of armature coil in henry\n",
"n_s=N/60  //speed in r.p.s\n",
"v=n_s*segments //Segments per second\n",
"T_c=(W_b-W_m)/v //time of commutation\n",
"I=I_L/A   //Current through conductor\n",
"E=L*2*I/T_c  //Linear commutation\n",
"\n",
"printf('\nReactive voltage considering linear commutation is %.2f volts',E)"
   ]
   }
,
{
		   "cell_type": "markdown",
		   "metadata": {},
		   "source": [
			"## Example 1.29: TO_CALCULATE_DEMAGNETISING_AND_CROSS_MAGNETISING_AMPERE_TURNS_PER_POLE.sce"
		   ]
		  },
  {
"cell_type": "code",
	   "execution_count": null,
	   "metadata": {
	    "collapsed": true
	   },
	   "outputs": [],
"source": [
"clc,clear\n",
"printf('Example 1.29\n\n')\n",
"\n",
"P=8 //Poles\n",
"A=2 //Wave wound armature\n",
"Z=480 //number of armature conductors\n",
"I_a=200\n",
"I=I_a/A\n",
"\n",
"//Part(i)\n",
"theta_m=0 //Geometric nuetral axis\n",
"amp_turns_PP_d=Z*I*theta_m/360    //De-magnetising ampere-turns per pole\n",
"amp_turns_PP_c=Z*I*(1/(2*P)-theta_m/360) //Cross-magnetising ampere-turns per pole\n",
"printf('Part(i)\nDe-magnetising ampere-turns per pole is %.0f',amp_turns_PP_d)\n",
"printf('\nCross-magnetising ampere-turns per pole is %.0f\n\n',amp_turns_PP_c)\n",
"\n",
"//Part(ii)\n",
"theta_e2=6 //angle shift of brushes in degrees electrical\n",
"theta_m2=theta_e2/(P/2) //angle shift of brushes in degrees mechanical\n",
"amp_turns_PP_d2=Z*I*theta_m2/360   //De-magnetising ampere-turns per pole\n",
"amp_turns_PP_c2=Z*I*(1/(2*P)-theta_m2/360) //Cross-magnetising ampere-turns per pole\n",
"printf('Part(ii)\nDe-magnetising ampere-turns per pole is %.0f',amp_turns_PP_d2)\n",
"printf('\nCross-magnetising ampere-turns per pole is %.0f',amp_turns_PP_c2)"
   ]
   }
,
{
		   "cell_type": "markdown",
		   "metadata": {},
		   "source": [
			"## Example 1.2: EX1_2.sce"
		   ]
		  },
  {
"cell_type": "code",
	   "execution_count": null,
	   "metadata": {
	    "collapsed": true
	   },
	   "outputs": [],
"source": [
"clc,clear\n",
"printf('Example 1.2\n\n')\n",
"\n",
"Pole=4\n",
"phi=21*10^-3  //flux produced by each pole in webers\n",
"N=1120        //Speed of armature in r.p.m\n",
"Coils=42\n",
"turns_per_coil=8\n",
"Turns=Coils * turns_per_coil\n",
"Z=2*Turns  //Number of armature conductors\n",
"\n",
"//Part(i)\n",
"A1=Pole  //no of parallel paths for lap winding\n",
"E1=phi*N*Z*Pole/(60*A1)\n",
"printf('(i)  e.m.f generated is %.3f V',E1)\n",
"\n",
"//Part(ii)\n",
"A2=2  //wave winding\n",
"E2=E1 //as mentioned in the question\n",
"N2=E2/(phi*Z*Pole/(60*A2)) //E=phi*N*Z*Pole/(60*A)\n",
"printf('\n(ii)  For wave-wound armature,above calculated e.m.f is generated at %.0f r.p.m',N2)"
   ]
   }
,
{
		   "cell_type": "markdown",
		   "metadata": {},
		   "source": [
			"## Example 1.30: EX1_30.sce"
		   ]
		  },
  {
"cell_type": "code",
	   "execution_count": null,
	   "metadata": {
	    "collapsed": true
	   },
	   "outputs": [],
"source": [
"clc,clear\n",
"printf('Example 1.30\n\n')\n",
"printf('The difference in answer occured because I is approximated to 16 in last 2 steps in book\n\n')\n",
"\n",
"P_input=7.46*10^3\n",
"V=230\n",
"Pole=8\n",
"Z=188 //number of armature consuctors\n",
"I_L=P_input/V\n",
"theta_m=7.5  //brush lead angle in degree mechanical\n",
"\n",
"A=2 // assumed wave wound because of low-current and high voltage\n",
"I=I_L/A\n",
"\n",
"//Part(i)\n",
"amp_turns_PP_d=Z*I*theta_m/360  //De-magnetising ampere-turns per pole\n",
"//Part(ii)\n",
"amp_turns_PP_c=Z*I*(1/(2*Pole)-theta_m/360) //Cross-magnetising ampere-turns per pole\n",
"\n",
"printf('De-magnetising ampere-turns per pole is %.2f',amp_turns_PP_d)\n",
"printf('\nCross-magnetising ampere-turns per pole is %.2f',amp_turns_PP_c)"
   ]
   }
,
{
		   "cell_type": "markdown",
		   "metadata": {},
		   "source": [
			"## Example 1.31: EX1_31.sce"
		   ]
		  },
  {
"cell_type": "code",
	   "execution_count": null,
	   "metadata": {
	    "collapsed": true
	   },
	   "outputs": [],
"source": [
"clc,clear\n",
"printf('Example 1.31\n\n')\n",
"\n",
"N_1=1200   //initial speed \n",
"I_L1=200   //initial load current\n",
"V_t1=125\n",
"N_2=1000  //altered speed\n",
"R_a=0.04  //armature resistance\n",
"V_brush=2  //brush drop\n",
"\n",
"// Initial Load\n",
"I_a1=I_L1\n",
"E_g1=V_t1+I_a1*R_a+V_brush  //induced emf\n",
"\n",
"E_g2=E_g1*(N_2/N_1)  //Because E_g proportional to N during constant flux\n",
"R_L= V_t1/I_L1 //Load resistance\n",
"\n",
"//Solving for I_L2 as follows\n",
"//V_t2=R_L*I_L2   //I_a2=I_L2\n",
"//V_t2=E_g2-(I_L2*R_2 + V_brush)\n",
"I_L2=(E_g2-V_brush)/(R_L+R_a)  //new current\n",
"\n",
"printf('Load current at new speed is %.4f A           ',I_L2)"
   ]
   }
,
{
		   "cell_type": "markdown",
		   "metadata": {},
		   "source": [
			"## Example 1.3: TO_DRAW_A_DEVELOPED_DIAGRAM_FOR_GENERATOR.sce"
		   ]
		  },
  {
"cell_type": "code",
	   "execution_count": null,
	   "metadata": {
	    "collapsed": true
	   },
	   "outputs": [],
"source": [
"clc,clear\n",
"printf('Example 1.3\n\n')\n",
"\n",
"Pole=4\n",
"coils=12\n",
"commutator_segments=coils\n",
"coil_sides=coils*2\n",
"Z=coil_sides  //No of conductors\n",
"pole_pitch=Z/Pole\n",
"\n",
"//for Simplex lap winding\n",
"y_f=pole_pitch-1\n",
"y_b=pole_pitch+1\n",
"\n",
"y_c=1  //Note that it's positive and it's progressive type of Simplex lap winding\n",
"\n",
"\n",
"printf('WINDING TABLE:\n\n   1<-    8->    3<-   10->    5<-   12\n-> 7<-   14->    9<-   16->   11<-   18\n->13<-   20->   15<-   22->   17<-   24\n->19<-    2->   21<-    4->   23<-    6\n-> 1\n                                                  ')\n",
"printf('\nNote that <- indicates back connection with  y_back=%.0f and -> indicates front connection with y_front=%.0f\n',y_b,y_f)\n",
"printf('\nAnother form of winding table:')\n",
"printf('\n      BACK CONNECTIONS                                FRONT CONNECTIONS')\n",
"\n",
"printf('\n\n       1 to (1+7) = 8                        ->        8 to (8-5) = 3')\n",
"printf('\n       3 to (3+7) =10                        ->       10 to (10-5)= 5')\n",
"printf('\n       5 to (5+7) =12                        ->       12 to (12-5)= 7')\n",
"printf('\n       7 to (7+7) =14                        ->       14 to (14-5)= 9')\n",
"printf('\n       9 to (9+7) =16                        ->       16 to (16-5)=11')\n",
"printf('\n      11 to (11+7)=18                        ->       18 to (18-5)=13')\n",
"printf('\n      13 to (13+7)=20                        ->       20 to (20-5)=15')\n",
"printf('\n      15 to (15+7)=22                        ->       22 to (22-5)=17')\n",
"printf('\n      17 to (17+7)=24                        ->       24 to (24-5)=19')\n",
"printf('\n      19 to (19+7)=26=(26-24)=2              ->        2 to (26-5)=21')\n",
"printf('\n      21 to (21+7)=28=(28-24)=4              ->        4 to (28-5)=23')\n",
"printf('\n      23 to (23+7)=30=(30-24)=6              ->        6 to (30-5)=25  = 25-24=1')"
   ]
   }
,
{
		   "cell_type": "markdown",
		   "metadata": {},
		   "source": [
			"## Example 1.4: TO_DRAW_DEVELOPED_DIAGRAM_FOR_A_DC_GENERATOR.sce"
		   ]
		  },
  {
"cell_type": "code",
	   "execution_count": null,
	   "metadata": {
	    "collapsed": true
	   },
	   "outputs": [],
"source": [
"clc,clear\n",
"printf('Example 1.4\n\n')\n",
"\n",
"Pole=4\n",
"Z=18 //no of armature conductors\n",
"Y_A=(Z+2)/Pole  //For progressive type wave winding,positive sign is used\n",
"Y_C=Y_A  //For wave winding\n",
"\n",
"//Since Y_A=(y_b+y_f)/2, we let y_b=Y_f\n",
"y_b=Y_A/2   //say\n",
"y_f=y_b\n",
"\n",
"coils=Z/2\n",
"slots=coils\n",
"commutator_segments=coils\n",
"\n",
"printf('WINDING TABLE:\n   1<-    6->  11<-  16->   3<-   8\n->13<-   18->   5<-  10->  15<-   2\n-> 7<-   12->  17<-   4->   9<-  14\n->1\n                                                  ')\n",
"\n",
"printf('\nAnother form of winding table:')\n",
"\n",
"printf('\n      BACK CONNECTIONS                                FRONT CONNECTIONS')\n",
"\n",
"printf('\n\n       1 to (1+5)  = 6                       ->        6 to (6+5) = 11')\n",
"printf('\n      11 to (11+5) =16                       ->       16 to (16+5)= 21 -18=3')\n",
"printf('\n       3 to (3+5)  = 8                       ->        8 to  (8+5)= 13')\n",
"printf('\n      13 to (13+5) =18                       ->       18 to (18+5)= 23 -18=5')\n",
"printf('\n       5 to (5+5)  =10                       ->       10 to (10+5)= 15')\n",
"printf('\n      15 to (15+5) =20 -18=2                 ->        2 to  (2+5)=  7')\n",
"printf('\n       7 to (7+5)  =12                       ->       12 to (12+5)= 17')\n",
"printf('\n      17 to (17+5) =22 -18=4                 ->        4 to  (4+5)=  9')\n",
"printf('\n       9 to (9+5)  =14                       ->       14 to (14+5)= 19 -18=1')"
   ]
   }
,
{
		   "cell_type": "markdown",
		   "metadata": {},
		   "source": [
			"## Example 1.5: TO_CALCULATE_DEMAGNETISING_AND_CROSSMAGNETISING_AMPERE_TURNS_PER_POLE.sce"
		   ]
		  },
  {
"cell_type": "code",
	   "execution_count": null,
	   "metadata": {
	    "collapsed": true
	   },
	   "outputs": [],
"source": [
"clc,clear\n",
"printf('Example 1.5\n\n')\n",
"\n",
"Pole=4\n",
"Z=480 //No of armature conductors\n",
"I_a=144\n",
"I=I_a/2  //For wave wound\n",
"theta_m=10  //lead angle in DEGREES\n",
"\n",
"amp_turns_PP_d=Z*I*theta_m/360  //demagnetising Ampere-turns per pole\n",
"amp_turns_PP_c=Z*I*(1/(2*Pole)-theta_m/360) //cross-magnetising Ampere-turns per pole\n",
"\n",
"printf('De-magnetising ampere-turns per pole is %.0f',amp_turns_PP_d)\n",
"printf('\nCross-magnetising ampere-turns per pole is %.0f',amp_turns_PP_c)"
   ]
   }
,
{
		   "cell_type": "markdown",
		   "metadata": {},
		   "source": [
			"## Example 1.6: TO_DETERMINE_NUMBER_OF_COMPENSATING_CONDUCTORS_PER_POLE.sce"
		   ]
		  },
  {
"cell_type": "code",
	   "execution_count": null,
	   "metadata": {
	    "collapsed": true
	   },
	   "outputs": [],
"source": [
"clc,clear\n",
"printf('Example 1.6\n\n')\n",
"\n",
"Pole=10\n",
"Z=800 //No of armature conductors\n",
"A=Pole //For lap wound\n",
"ratio=0.7  //ratio of pole arc to pole pitch\n",
"//amp_turns_PP=ratio*(I_a*Z)/(2*A*P)\n",
"turns_PP=ratio*(Z)/(2*A*Pole)   //turns per pole\n",
"conductors_PP=turns_PP*2 //multiplied with 2 because 2 conductors form 1 turn\n",
"\n",
"printf('Compensating conductors per pole= %.0f',ceil(conductors_PP))"
   ]
   }
,
{
		   "cell_type": "markdown",
		   "metadata": {},
		   "source": [
			"## Example 1.7: TO_FIND_REACTIVE_VOLTAGE_DURING_LINEAR_AND_SINUSOIDAL_COMMUTATION.sce"
		   ]
		  },
  {
"cell_type": "code",
	   "execution_count": null,
	   "metadata": {
	    "collapsed": true
	   },
	   "outputs": [],
"source": [
"clc,clear\n",
"printf('Example 1.7\n\n')\n",
"\n",
"I_L=150,A=4\n",
"N=1800 //in rpm\n",
"W_b=1.2  //Brush width\n",
"W_m=0  //width of mica insulation\n",
"L=0.06*10^-3 //Inductance\n",
"segments=64\n",
"n_s=1800/60   //in rps and not rpm\n",
"v=n_s*segments  //peripheral speed in segments per second\n",
"\n",
"T_c=(W_b-W_m)/v  //Time of commutation\n",
"I=I_L/A  //Current through a conductor\n",
"\n",
"//Part(i)\n",
"E_l=L*2*I/T_c\n",
"printf('\n(i)   Reactive voltage using Linear commutation is %.1f V',E_l)\n",
"\n",
"//Part(ii)\n",
"E_s=1.11*L*2*I/T_c\n",
"printf('\n(ii)  Reactive voltage using Sinusoidal commutation is %.3f V',E_s)"
   ]
   }
,
{
		   "cell_type": "markdown",
		   "metadata": {},
		   "source": [
			"## Example 1.8: TO_FIND_INDUCED_EMF_IN_A_GENERATOR.sce"
		   ]
		  },
  {
"cell_type": "code",
	   "execution_count": null,
	   "metadata": {
	    "collapsed": true
	   },
	   "outputs": [],
"source": [
"clc,clear\n",
"printf('Example 1.8\n\n')\n",
"\n",
"V_t=250  //Terminal voltage\n",
"R_sh=100  //Resistance of shunt field winding\n",
"I_sh=V_t/R_sh //shunt current\n",
"R_a=0.22  //Armature resistance\n",
"\n",
"P=5*10^3  //Load power\n",
"I_L=P/V_t  //Load current\n",
"I_a=I_L+I_sh //armature current\n",
"\n",
"E=V_t + I_a*R_a  //Induced emf\n",
"printf('\nInduced e.m.f to supply the 5kW load is %.2f V',E)"
   ]
   }
,
{
		   "cell_type": "markdown",
		   "metadata": {},
		   "source": [
			"## Example 1.9: TO_DETERMINE_ARMATURE_RESISTANCE_OF_GENERATOR.sce"
		   ]
		  },
  {
"cell_type": "code",
	   "execution_count": null,
	   "metadata": {
	    "collapsed": true
	   },
	   "outputs": [],
"source": [
"clc,clear\n",
"printf('Example 1.9\n\n')\n",
"\n",
"V_t=250  //terminal voltage\n",
"P=10*10^3  //10kW power of generator\n",
"I_L=P/V_t //load current\n",
"I_a=I_L  //As seperately excited\n",
"V_brush=2*2 // 2 * no of brushes\n",
"\n",
"E=255  //on full load\n",
"R_a=(E-V_t-V_brush)/I_a //Because E=V_t+ I_a*R_a  + V_brush\n",
"\n",
"printf('\nArmature resistance of generator is %.3f ohm',R_a)"
   ]
   }
],
"metadata": {
		  "kernelspec": {
		   "display_name": "Scilab",
		   "language": "scilab",
		   "name": "scilab"
		  },
		  "language_info": {
		   "file_extension": ".sce",
		   "help_links": [
			{
			 "text": "MetaKernel Magics",
			 "url": "https://github.com/calysto/metakernel/blob/master/metakernel/magics/README.md"
			}
		   ],
		   "mimetype": "text/x-octave",
		   "name": "scilab",
		   "version": "0.7.1"
		  }
		 },
		 "nbformat": 4,
		 "nbformat_minor": 0
}
