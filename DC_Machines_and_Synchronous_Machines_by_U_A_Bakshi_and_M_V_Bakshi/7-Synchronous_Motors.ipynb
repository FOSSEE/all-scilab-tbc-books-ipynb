{
"cells": [
 {
		   "cell_type": "markdown",
	   "metadata": {},
	   "source": [
       "# Chapter 7: Synchronous Motors"
	   ]
	},
{
		   "cell_type": "markdown",
		   "metadata": {},
		   "source": [
			"## Example 7.10: EX7_10.sce"
		   ]
		  },
  {
"cell_type": "code",
	   "execution_count": null,
	   "metadata": {
	    "collapsed": true
	   },
	   "outputs": [],
"source": [
"clc,clear\n",
"printf('Example 7.10\n')\n",
"printf('Answer might mismatch because of improper approximation done in book\n\n')\n",
"\n",
"V_L=415\n",
"V_ph=V_L //due to delta connection\n",
"E_bline=520\n",
"R_a=0.5,X_s=4 //armature reactance and synchronous reactance\n",
"Z_s=complex(R_a,X_s) //synchronous impedance\n",
"theta=(%pi/180)*phasemag(Z_s) //phasemag returns angle in degrees,not radians\n",
"\n",
"delta=theta //for maximum power\n",
"P_m_max = (E_bline*V_ph/abs(Z_s))- (E_bline^2/abs(Z_s))*cos(theta)\n",
"P_m_max_total= 3* P_m_max\n",
"fi_loss=1000  //frictional and iron losses\n",
"P_out_total = P_m_max_total-fi_loss  \n",
"\n",
"HP_output= P_out_total/746 //converting watts to horse power\n",
"printf('HP output for maximum power output is %.2f HP\n',HP_output)\n",
"\n",
"//from the phasor diagram\n",
"E_Rph=sqrt(  E_bline^2 + V_ph^2 -2*E_bline*V_ph*cos(delta) ) \n",
"I_aph= E_Rph/abs(Z_s)\n",
"I_L=I_aph*sqrt(3)\n",
"printf('Line current is %f A\n',I_L)\n",
"cu_loss_total=3*(I_aph)^2*R_a  //total copper losses\n",
"input_power=P_m_max_total+ cu_loss_total\n",
"pf=input_power/(sqrt(3)*I_L*V_L)  //leading\n",
"printf('Power factor for maximum power output is %.2f leading \n',pf)\n",
"\n",
"eta=100*P_out_total /input_power\n",
"printf('Efficiency for maximum power output is %.2f percent',eta)"
   ]
   }
,
{
		   "cell_type": "markdown",
		   "metadata": {},
		   "source": [
			"## Example 7.11: EX7_11.sce"
		   ]
		  },
  {
"cell_type": "code",
	   "execution_count": null,
	   "metadata": {
	    "collapsed": true
	   },
	   "outputs": [],
"source": [
"clc,clear\n",
"printf('Example 7.11\n\n')\n",
"\n",
"P=8, f=50 //Pole and frequency\n",
"N_s=120*f/P //synchronous speed\n",
"V_L=6.6*10^3 , V_ph=V_L/sqrt(3)\n",
"Z_s=complex(0.66,6.6) //synchronous impedance\n",
"theta=(%pi/180)*phasemag(Z_s) //phasemag returns angle in degree , not radians\n",
"E_bph=4500\n",
"input_power=2500*10^3\n",
"I_a_cosphi=input_power/(sqrt(3)*V_L)   //Its product of I_a and cos(phi);I_a=I_l for star conneted load\n",
"\n",
"//applying cosine rule to triangle ABC from phasor diagram and solve \n",
"//tan(phi)^2 + 5.2252 tan(phi)-2.2432=0\n",
"p=[1 5.2252 -2.2432]\n",
"tan_phi=roots(p)\n",
"phi=atan(tan_phi(2))\n",
"pf=cos(phi)\n",
"I_a= I_a_cosphi/ cos(phi)\n",
"\n",
"//apply sine rule to triangle ABC\n",
"delta=   asin(I_a*abs(Z_s)*sin(theta+phi)/E_bph)\n",
"P_m=3*E_bph*I_a*cos(delta+phi)\n",
"T_g = P_m/(2*%pi*N_s/60)\n",
"printf('(i)Torque developed is %f N-m\n',T_g)\n",
"printf('(ii)Input current is %.4f A\n',I_a)\n",
"printf('(iii)Power factor is %.4f leading\n',pf)\n",
"printf('(iv)Power angle is %.2f degrees ',(180/%pi)*delta)"
   ]
   }
,
{
		   "cell_type": "markdown",
		   "metadata": {},
		   "source": [
			"## Example 7.12: TO_DETERMINE_LOAD_ANGLE_ARMATURE_CURRENT_AND_PF_WHEN_EXCITATION_IS_CHANGED.sce"
		   ]
		  },
  {
"cell_type": "code",
	   "execution_count": null,
	   "metadata": {
	    "collapsed": true
	   },
	   "outputs": [],
"source": [
"clc,clear\n",
"printf('Example 7.12\n\n')\n",
"\n",
"input_power=15*10^3\n",
"V_L=400,V_ph=V_L/sqrt(3)\n",
"E_b=480,E_bph=E_b/sqrt(3)\n",
"Z_s=complex(1,5) //synchronous impedance\n",
"theta=(%pi/180)*phasemag(Z_s) //phasemag returns angle in degree , not radians\n",
"\n",
"I_a_cosphi=input_power/(sqrt(3)*V_L)  //product of I_a & cos(phi)\n",
"//Applying cosine rule to triangle OAB and solving\n",
"//tan(phi)^2+ 4.101*tan(phi)-1.7499=0\n",
"p=[1,4.101,-1.7449]\n",
"tan_phi=roots(p)\n",
"phi=atan(tan_phi(2))  //ignoring negative vaule\n",
"I_a= I_a_cosphi/ cos(phi)\n",
"\n",
"//applying sine rule to Triangle OAB\n",
"delta=asin( I_a*abs(Z_s)* sin(theta+phi)/E_bph )\n",
"printf('Load angle is %.1f degrees',delta*(180/%pi))\n",
"printf('\nArmature current is %.4f A',I_a)\n",
"printf('\nPower factor is %.3f leading',cos(phi))"
   ]
   }
,
{
		   "cell_type": "markdown",
		   "metadata": {},
		   "source": [
			"## Example 7.13: TO_CALCULATE_CURRENT_AND_PF_IF_INDUCED_EMF_IN_SYNCHRONOUS_MOTOR_GETS_INCREASED.sce"
		   ]
		  },
  {
"cell_type": "code",
	   "execution_count": null,
	   "metadata": {
	    "collapsed": true
	   },
	   "outputs": [],
"source": [
"clc,clear\n",
"printf('Example 7.13\n\n')\n",
"\n",
"V_L=400,V_ph=V_L/sqrt(3)\n",
"E_b=460,E_bph=E_b/sqrt(3)\n",
"input_power=3.75*10^3\n",
"Z_s=complex(1,8) //synchronous impedance\n",
"theta=(%pi/180)*phasemag(Z_s)  //phasemag returns angle in degree , not radians\n",
"I_L_cos_phi = input_power/(sqrt(3)*V_L)\n",
"\n",
"//Applying cosine rule to triangle OAB and solving further\n",
"//tan(phi)^2 + 458.366*tan(phi) -450.65 =0 \n",
"p=[1,458.366,-450.65]\n",
"tan_phi=roots(p)\n",
"phi=atan(tan_phi(2))  //ignoring negative value\n",
"printf('Required power factor is %.4f leading',cos(phi))\n",
"I_L=I_L_cos_phi /cos(phi)\n",
"printf('\nRequired current is %.4f A',I_L)"
   ]
   }
,
{
		   "cell_type": "markdown",
		   "metadata": {},
		   "source": [
			"## Example 7.14: TO_FIND_kVA_RATING_OF_SYNCORONOUS_MOTOR.sce"
		   ]
		  },
  {
"cell_type": "code",
	   "execution_count": null,
	   "metadata": {
	    "collapsed": true
	   },
	   "outputs": [],
"source": [
"clc,clear\n",
"printf('Example 7.14\n\n')\n",
"\n",
"//subscript 1 indicates induction motor 1\n",
"P_1=350\n",
"phi_1=acos(0.7071) //lagging\n",
"Q_1=P_1*tan(phi_1)//from power triangle\n",
"\n",
"//subscript 2 indicates induction motor 2\n",
"P_2=190\n",
"\n",
"//subscript T indicates total\n",
"P_T=P_1+P_2\n",
"phi_T=acos(0.9) //lagging\n",
"Q_T=P_T*tan(phi_T)\n",
"\n",
"Q_2=Q_T-Q_1\n",
"kva_rating=sqrt(P_2^2+ Q_2^2)\n",
"printf('kVA rating of synchronous motor is %.2f kVA',kva_rating)"
   ]
   }
,
{
		   "cell_type": "markdown",
		   "metadata": {},
		   "source": [
			"## Example 7.15: TO_FIND_GROSS_TORQUE_DEVELOPED_AND_PF_WITH_CHANGING_CURRENT_AND_LOAD_TORQUE.sce"
		   ]
		  },
  {
"cell_type": "code",
	   "execution_count": null,
	   "metadata": {
	    "collapsed": true
	   },
	   "outputs": [],
"source": [
"clc,clear\n",
"printf('Example 7.15\n\n')\n",
"\n",
"V_L=400, V_ph=V_L/sqrt(3)\n",
"Pole=6,f=50\n",
"R_a=0.2,X_s=3 //armature reactance and synchronous reactance\n",
"Z_s=complex(R_a,X_s)//synchronous impedance\n",
"theta=phasemag(Z_s)*(%pi/180)  //phasemag retuens angle in degrees.not radians\n",
"N_s=120*f/Pole  //synchronous speed\n",
"\n",
"//subscript 1` refers to load 1\n",
"I_a1=20\n",
"phi_1=acos(1)\n",
"E_R1= I_a1* abs(Z_s)\n",
"E_bph =  sqrt( E_R1^2 + V_ph^2 - 2*E_R1*V_ph*cos(phi_1+theta)  )\n",
" \n",
"//subscript 2` refers to load 2\n",
"I_a2=60\n",
"E_R2= I_a2* abs(Z_s)\n",
"phi_2= acos ((E_R2^2 + V_ph^2 -E_bph^2 )/(2*E_R2*V_ph))   -theta   //new power factor\n",
"\n",
"input_power=sqrt(3)*V_L*I_a2*cos(phi_2)\n",
"cu_loss=3*I_a2^2*R_a\n",
"P_m=input_power-cu_loss\n",
"T_g =P_m /(2*%pi*N_s/60)   //gross mechanical power developed\n",
"\n",
"printf('Gross torque developed is %.4f N-m and new power factor is %.4f lagging',T_g,cos(phi_2))"
   ]
   }
,
{
		   "cell_type": "markdown",
		   "metadata": {},
		   "source": [
			"## Example 7.16: TO_DETERMINE_ARMATURE_CURRENT_AND_PF_OF_3_PHASE_STAR_CONNECTED_SYNCHRONOUS_MOTOR.sce"
		   ]
		  },
  {
"cell_type": "code",
	   "execution_count": null,
	   "metadata": {
	    "collapsed": true
	   },
	   "outputs": [],
"source": [
"clc,clear\n",
"printf('Example 7.16\n\n')\n",
"\n",
"V_L=3300\n",
"V_ph=V_L/sqrt(3)\n",
"E_bph=V_ph\n",
"Z_s=complex(0.5,5) //synchronous impedance\n",
"theta=(%pi/180)*phasemag(Z_s) //phasemag returns angle in degrees, not radians\n",
"P=8,f=50 //pole and frequency\n",
"delta_mech=3 //mechanical angle in degrees by which rotor is behind\n",
"delta_elec=(P/2)*delta_mech  //delta mech converted to electrical degrees\n",
"E_Rph=sqrt(  E_bph^2 + V_ph^2 -2*E_bph*V_ph*cosd(delta_elec) ) \n",
"I_aph= E_Rph/abs(Z_s)\n",
"\n",
"//from the phasor diagram \n",
"phi=theta- asin( sind(delta_elec)*E_bph/E_Rph )\n",
"pf=cos(phi)\n",
"printf('power factor of the motor is %.5f lagging',pf)"
   ]
   }
,
{
		   "cell_type": "markdown",
		   "metadata": {},
		   "source": [
			"## Example 7.17: TO_CALCULATE_ARMATURE_CURRENT_DRAWN_BY_3_PHASE_STAR_CONNECTED_SYNCHRONOUS_MOTOR.sce"
		   ]
		  },
  {
"cell_type": "code",
	   "execution_count": null,
	   "metadata": {
	    "collapsed": true
	   },
	   "outputs": [],
"source": [
"clc,clear\n",
"printf('Example 7.17\n\n')\n",
"\n",
"V_L=400,V_ph=V_L/sqrt(3)\n",
"E_bph=V_ph\n",
"P=4,f=50//Pole and frequency\n",
"delta_mech=4*(%pi/180) //mechanical angle in degrees by which rotor is behind\n",
"delta_elec= delta_mech *(P/2) //delta_mech convertd to electrical degrees\n",
"Z_s=complex(0,2) //synchronous impedance\n",
"\n",
"//referring to phasor diagram\n",
"BC=  E_bph*sin(delta_elec)\n",
"AB=  E_bph\n",
"OA=  V_ph\n",
"\n",
"AC=  sqrt(AB^2-BC^2)\n",
"OC=  OA-AC\n",
"phi=atan(OC/BC)\n",
"OB=sqrt(OC^2 + BC^2)\n",
"I_a=OB/abs(Z_s)\n",
"\n",
"printf('Armature current drawn by the motor is %.4f A',I_a)"
   ]
   }
,
{
		   "cell_type": "markdown",
		   "metadata": {},
		   "source": [
			"## Example 7.18: EX7_18.sce"
		   ]
		  },
  {
"cell_type": "code",
	   "execution_count": null,
	   "metadata": {
	    "collapsed": true
	   },
	   "outputs": [],
"source": [
"clc,clear\n",
"printf('Example 7.18\n\n')\n",
"\n",
"V_L=400,V_ph=V_L/sqrt(3)\n",
"input_power=5472\n",
"Z_s=complex(0,10)  //synchronous impedance\n",
"I_L_cosphi=input_power/(sqrt(3)*V_L) //product of I_L & cos(phi)\n",
"BC=10*I_L_cosphi\n",
"AB=V_ph\n",
"OA=V_ph\n",
"//from Triangle ABC in phasor diagram\n",
"AC = sqrt(AB^2- BC^2)\n",
"OC = OA - AC\n",
"\n",
"//from Triangle OCB \n",
"OB=sqrt( OC^2+ BC^2 )\n",
"E_Rph = OB\n",
"I_L=E_Rph/abs(Z_s)\n",
"\n",
"phi=atan(OC/BC)\n",
"pf=cos(phi)\n",
"delta=atan(BC/AC)  //load angle\n",
"printf('Power factor is %.4f lagging\n',pf)\n",
"printf('Load angle is %.0f degrees\n',delta*(180/%pi))\n",
"printf('Armature current is %.3f A',I_L)"
   ]
   }
,
{
		   "cell_type": "markdown",
		   "metadata": {},
		   "source": [
			"## Example 7.19: TO_FIND_POWER_FACTOR_WHEN_INPUT_IS_INCREASED.sce"
		   ]
		  },
  {
"cell_type": "code",
	   "execution_count": null,
	   "metadata": {
	    "collapsed": true
	   },
	   "outputs": [],
"source": [
"clc,clear\n",
"printf('Example 7.19\n\n')\n",
"\n",
"V_L=6600,V_ph=V_L/sqrt(3)\n",
"Z_s=complex(2,20) //synchronous impedance\n",
"theta=(%pi/180) * phasemag(Z_s) //phasemag returns angle in degrees,not radians\n",
"P_1=1000*10^3\n",
"P_2=1500*10^3\n",
"phi_1=acos(0.8)  //leading\n",
"\n",
"I_L1=P_1/(sqrt(3)*V_L*cos(phi_1))\n",
"I_a1ph=I_L1\n",
"E_R1ph=I_a1ph*abs(Z_s)\n",
"E_bph=  sqrt(    V_ph^2 + E_R1ph^ -2*V_ph*E_R1ph*cos(theta+phi_1)  )\n",
"I_a2_cosphi_2=P_2/(sqrt(3)*V_L)\n",
"\n",
"//Refer to the phasor diagram and solving for I_y\n",
"//404I_y^2 -152399.968 I_y -4543000=0\n",
"p=[404 -152399.968 -4543000]\n",
"roots(p)\n",
"I_y=abs(ans(2)) //becuase root 1 is too high and root is -ve\n",
"\n",
"I_a2=complex(I_a2_cosphi_2,I_y)\n",
"phi_2=phasemag(I_a2)\n",
"printf('Required power factor is %.3f leading',cosd(phi_2))"
   ]
   }
,
{
		   "cell_type": "markdown",
		   "metadata": {},
		   "source": [
			"## Example 7.1: TO_CALCULATE_THE_BACK_EMF_INDUCED_IN_THE_MOTOR_FOR_VARIOUS_POWER_FACTORS.sce"
		   ]
		  },
  {
"cell_type": "code",
	   "execution_count": null,
	   "metadata": {
	    "collapsed": true
	   },
	   "outputs": [],
"source": [
"clc,clear\n",
"printf('Example 7.1\n\n')\n",
"V_l=400\n",
"R_a=0.2,X_s=2  //armature resistance and synchronous reactance\n",
"I_L=25\n",
"I_aph=I_L\n",
"V_ph=V_l/sqrt(3)\n",
"Z_s=complex(R_a,X_s) //synchronous impedance\n",
"theta=(%pi/180)*phasemag(Z_s) //Phasemag returns the angle in degrees not radians\n",
"E_Rph=I_aph*abs(Z_s)\n",
"//case 1\n",
"phi=acos(0.8) //lagging\n",
"E_bph= sqrt( (E_Rph)^2 + (V_ph)^2  -2*E_Rph*V_ph*cos(theta-phi)  )\n",
"printf('\n(i)Back EMF induced with 0.8 lagging pf is %.3f V\n',E_bph)\n",
"//case 2\n",
"phi=acos(0.9) //leading\n",
"E_bph= sqrt( (E_Rph)^2 + (V_ph)^2  -2*E_Rph*V_ph*cos(theta+phi)  )\n",
"printf('(ii)Back EMF induced with 0.8 lagging pf is %.3f V\n',E_bph)\n",
"//case 3\n",
"phi=acos(1)\n",
"E_bph= sqrt( (E_Rph)^2 + (V_ph)^2  -2*E_Rph*V_ph*cos(theta)  )\n",
"printf('(iii)Back EMF induced with 0.8 lagging pf is %.3f V',E_bph)"
   ]
   }
,
{
		   "cell_type": "markdown",
		   "metadata": {},
		   "source": [
			"## Example 7.20: TO_DETERMINE_EMF_GENERATED_BY_3_PHASE_STAR_CONNECTED_SYNCHRONOUS_MOTOR.sce"
		   ]
		  },
  {
"cell_type": "code",
	   "execution_count": null,
	   "metadata": {
	    "collapsed": true
	   },
	   "outputs": [],
"source": [
"clc,clear\n",
"printf('Example 7.20\n\n')\n",
"\n",
"V_L=2300,V_ph=V_L/sqrt(3)\n",
"I_L=200, I_a=I_L\n",
"Z_s=complex(0.2,2.2) //synchronous impedance\n",
"theta=(%pi/180)*phasemag(Z_s) //phasemag returns angle in degrees, not radians\n",
"phi=acos(0.5)\n",
"\n",
"E_Rph=I_a*abs(Z_s)\n",
"E_bph =   sqrt( E_Rph^2 + V_ph^2 - 2*E_Rph*V_ph*cos(phi+theta)  ) \n",
"\n",
"printf('Generated EMF per phase is %.3f V',E_bph)"
   ]
   }
,
{
		   "cell_type": "markdown",
		   "metadata": {},
		   "source": [
			"## Example 7.21: EX7_21.sce"
		   ]
		  },
  {
"cell_type": "code",
	   "execution_count": null,
	   "metadata": {
	    "collapsed": true
	   },
	   "outputs": [],
"source": [
"clc,clear\n",
"printf('Example 7.21\n\n')\n",
"\n",
"V_L=3300, V_ph=V_L/sqrt(3)\n",
"E_bline=3800, E_bph=E_bline/sqrt(3)\n",
"\n",
"R_a=2,X_s=18 //armature resistance and synchronous reactance\n",
"Z_s=complex(R_a,X_s) //synchronous impedance\n",
"theta=(%pi/180)*phasemag(Z_s) //phasemag returns angle in degrees,not radians\n",
"\n",
"//part(i)\n",
"P_m_max = (E_bph*V_ph/abs(Z_s))- (E_bph^2/abs(Z_s))*cos(theta)  //maximum total mechanical power\n",
"printf('(i)Maximum total mechanical power that the motor can develop is %.2f W per phase',P_m_max )\n",
"//part(ii)\n",
"delta=theta //for max P_m\n",
"E_Rph=sqrt(  E_bph^2 + V_ph^2 -2*E_bph*V_ph*cos(delta) ) \n",
"I_aph= E_Rph/abs(Z_s)\n",
"printf('\n(ii)Current at maximum power developed is %.1f A',I_aph)\n",
"cu_loss_total = 3*I_aph^2*R_a  //total copper loss\n",
"P_m_max_total=3*P_m_max //total maximum total mechanical power\n",
"P_in_total = P_m_max_total+ cu_loss_total  //total input power\n",
"\n",
"pf=P_in_total/(sqrt(3)*V_L*I_aph)\n",
"printf('\n    Power factor at maximum power developed is %.3f leading',pf)"
   ]
   }
,
{
		   "cell_type": "markdown",
		   "metadata": {},
		   "source": [
			"## Example 7.22: EX7_22.sce"
		   ]
		  },
  {
"cell_type": "code",
	   "execution_count": null,
	   "metadata": {
	    "collapsed": true
	   },
	   "outputs": [],
"source": [
"clc,clear\n",
"printf('Example 7.22\n\n')\n",
"\n",
"//subscript 1 refers to load 1\n",
"I_1=18\n",
"phi_1=acos(0.8)\n",
"V_L=440\n",
"S_1=sqrt(3)*I_1*V_L /1000  //kVA for load 1\n",
"P_1=S_1*cos(phi_1)\n",
"Q_1=S_1*sin(phi_1)\n",
"\n",
"P_out=6\n",
"eta_motor=88/100\n",
"P_2=P_out/eta_motor\n",
"\n",
"P_T=P_1+P_2\n",
"phi_T=acos(1)  //total power factor angle\n",
"Q_T=P_T*tan(phi_T)\n",
"\n",
"Q_2=  Q_T - Q_1   //kVAR supplied by motor\n",
"//this will have  a negative sign just indicating its leading nature \n",
"phi_2=atan(abs(Q_2)/P_2)\n",
"pf=cos(phi_2)  //leading\n",
"S_2=P_2/cos(phi_2)  //kVA input to the motor\n",
"printf('kVA input to the motor is %.3f kVA \n',S_2)\n",
"printf('Power factor when driving a 6kW mechanical load is %.4f leading',pf)"
   ]
   }
,
{
		   "cell_type": "markdown",
		   "metadata": {},
		   "source": [
			"## Example 7.23: TO_DETERMINE_MINIMUM_CURRENT_AND_INDUCED_EMF_AT_FULL_LOAD.sce"
		   ]
		  },
  {
"cell_type": "code",
	   "execution_count": null,
	   "metadata": {
	    "collapsed": true
	   },
	   "outputs": [],
"source": [
"clc,clear\n",
"printf('Example 7.23\n\n')\n",
"\n",
"output_power=8*10^3\n",
"V_L=400,V_ph=V_L/sqrt(3)\n",
"R_a=0,X_s=8//armature resistance and syncronous reactance\n",
"Z_s=complex(R_a,X_s) //synchronous impedance\n",
"theta=(%pi/180)*phasemag(Z_s) //phasemag returns angle in degrees, not radians \n",
"eta=88/100, input_power=output_power/eta\n",
"\n",
"//minimum current occurs at max power factors\n",
"phi=acos(1)\n",
"I_a_min=input_power/(sqrt(3)*V_L*cos(phi)) //required minimum current \n",
"printf('Minimum current is %.3f A',I_a_min)\n",
"E_R= I_a_min * abs(Z_s)\n",
"E_bph =   sqrt( E_R^2 + V_ph^2 - 2*E_R*V_ph*cos(phi+theta)  ) \n",
"printf('\nInduced EMF at full-load is %.3f V',E_bph)"
   ]
   }
,
{
		   "cell_type": "markdown",
		   "metadata": {},
		   "source": [
			"## Example 7.24: TO_DETERMINE_PF_WHEN_INPUT_OF_SYNCHRONOUS_MOTOR_IS_INCREASED.sce"
		   ]
		  },
  {
"cell_type": "code",
	   "execution_count": null,
	   "metadata": {
	    "collapsed": true
	   },
	   "outputs": [],
"source": [
"clc,clear\n",
"printf('Example 7.24\n\n')\n",
"\n",
"R_a=0.8,X_s=5\n",
"Z_s=complex(R_a,X_s) //armature resistance and syncronous reactance\n",
"theta=(%pi/180)*phasemag(Z_s) //synchronous impedance\n",
"alpha=(%pi/2) - theta\n",
"V_t=3300/sqrt(3)\n",
"P_e_in=800/(3) //per phase\n",
"phi=acos(0.8)  //leading\n",
"Q_e_in=-P_e_in*tan(phi)\n",
"\n",
"// Using the following equation\n",
"// P_e_in= V_t^2*R_a/(abs(Z_s))^2   +   V_t*E_b*sin(delta-alpha)/abs(Z_S)\n",
"// Q_e_in= V_t^2*X_s/(abs(Z_s))^2   -   V_t*E_b*cos(delta-alpha)/abs(Z_S)\n",
"E_b_sin_delta_minus_9 = 407.2\n",
"E_b_cos_delta_minus_9 =2413.6\n",
"//solving further\n",
"delta = ( atand(E_b_sin_delta_minus_9/E_b_cos_delta_minus_9 ) + 9)\n",
"E_b=E_b_sin_delta_minus_9/sind(delta-9)\n",
"\n",
"P_e_in_new = 1200*10^3/3\n",
"// Using the following equation again\n",
"// P_e_in= V_t^2*R_a/(abs(Z_s))^2   +   V_t*E_b*sin(delta-alpha)/abs(Z_S)\n",
"// Q_e_in= V_t^2*X_s/(abs(Z_s))^2   -   V_t*E_b*cos(delta-alpha)/abs(Z_S)\n",
"\n",
"alpha =delta - asind(   (P_e_in_new - V_t^2*R_a/(abs(Z_s))^2 ) / (V_t*E_b/abs(Z_s))   )\n",
"Q_e_in_new= V_t^2*X_s/(abs(Z_s))^2   -   V_t*E_b*cosd(delta - alpha)/abs(Z_s)\n",
"\n",
"pf=cos ( atan(abs(Q_e_in_new/P_e_in_new)))\n",
"printf('New power factor is %.2f leading ',pf)"
   ]
   }
,
{
		   "cell_type": "markdown",
		   "metadata": {},
		   "source": [
			"## Example 7.25: TO_DETERMINE_CURRENT_AND_PF_OF_A_3_PHASE_STAR_CONNECTED_SYNCHRONOUS_MOTOR.sce"
		   ]
		  },
  {
"cell_type": "code",
	   "execution_count": null,
	   "metadata": {
	    "collapsed": true
	   },
	   "outputs": [],
"source": [
"clc,clear\n",
"printf('Example 7.25\n\n')\n",
"\n",
"V_L=6.6*10^3,V_ph=V_L/sqrt(3)\n",
"P_in=900*10^3\n",
"R_a=0,X_s=20 //armature resistance and synchronous reactance \n",
"Z_s=complex(R_a,X_s) //synchronous impedance\n",
"theta=phasemag(Z_s)*(%pi/180) //phasemag returns angle in degrees,not radians\n",
"E_b_L=8.6*10^3,E_bph=E_b_L/sqrt(3) \n",
"\n",
"//refer to phasor diagram\n",
"OA=V_ph, AB=E_bph //OB= E_Rph\n",
"\n",
"I_a_cosphi=P_in/(sqrt(3)*V_L)  //I_a*cos(phi)\n",
"BC=I_a_cosphi*abs(Z_s) //BC is a vector in phasor diagram\n",
"\n",
"OC=sqrt(AB^2 -BC^2  )- OA  //from phasor diagram\n",
"I_a_sinphi=OC/abs(Z_s)  //product of I_a and sin(phi)\n",
"phi= atan (I_a_sinphi/I_a_cosphi)\n",
"I_a=I_a_cosphi/cos(phi) //product of I_a and cos(phi)\n",
"printf('Motor current is %.3f A\n',I_a)\n",
"printf('Power factor of motor is %f leading',cos(phi))\n",
"printf('\n\nNote:There is slight mismatch in answer due to the approximation made during I_a* sin(phi) calculation')"
   ]
   }
,
{
		   "cell_type": "markdown",
		   "metadata": {},
		   "source": [
			"## Example 7.26: EX7_26.sce"
		   ]
		  },
  {
"cell_type": "code",
	   "execution_count": null,
	   "metadata": {
	    "collapsed": true
	   },
	   "outputs": [],
"source": [
"clc,clear\n",
"printf('Example 7.26\n\n')\n",
"\n",
"//subscipt 1 refers to factory load\n",
"P_1=1800\n",
"phi_1=acos(0.6) //lagging\n",
"Q_1=P_1*tan(phi_1)\n",
"\n",
"//Subscript 2 refers to synchronous condenser\n",
"P_2=0\n",
"\n",
"//Subscript T refers to combination of condenser and factory load\n",
"P_T=P_1+P_2\n",
"phi_T=acos(0.95) //lagging\n",
"Q_T=P_T*tan(phi_T)\n",
"\n",
"kva_rating=sqrt(P_T^2+ Q_T^2)\n",
"\n",
"Q_2=Q_T - Q_1\n",
"printf('(i)kVA rating of synchronous condender is %.3f kVA \n   Minus sign indicates leading nature\n\n',(Q_2))\n",
"printf('(ii)kVA rating of total factory is %.4f kVA',kva_rating)"
   ]
   }
,
{
		   "cell_type": "markdown",
		   "metadata": {},
		   "source": [
			"## Example 7.27: TO_CALCULATE_kVA_INPUT_AND_PF_OF_SYNCHRONOUS_MOTOR_AT_A_CERTAIN_INSTANT.sce"
		   ]
		  },
  {
"cell_type": "code",
	   "execution_count": null,
	   "metadata": {
	    "collapsed": true
	   },
	   "outputs": [],
"source": [
"clc,clear\n",
"printf('Example 7.27\n\n')\n",
"\n",
"I_1=35\n",
"phi_1=acos(0.8)\n",
"V_L=440\n",
"S_1=sqrt(3)*I_1*V_L /1000 //in kVA\n",
"\n",
"P_1=S_1*cos(phi_1)\n",
"Q_1=S_1*sin(phi_1)\n",
"\n",
"P_out=12 //motor load\n",
"eta_motor=85/100\n",
"P_2=P_out/eta_motor\n",
"\n",
"P_T=P_1 + P_2\n",
"phi_T=acos(1)\n",
"Q_T=P_T * tan(phi_T)\n",
"\n",
"\n",
"Q_2=Q_T - Q_1  //kVA supplied by motor\n",
"//negative sign of Q_2 indicates its leading nature\n",
"phi_2= atan(abs(Q_2)/P_2)\n",
"S_2=P_2/cos(phi_2)\n",
"\n",
"printf('Power factor when motor supplies 12kW load is %.4f leading',cos(phi_2))\n",
"printf('\nkVA input to the motor is %.3f kVA',S_2)"
   ]
   }
,
{
		   "cell_type": "markdown",
		   "metadata": {},
		   "source": [
			"## Example 7.28: TO_DETERMINE_MAXIMUM_OUTPUT_POWER_OF_SYNCHRONOUS_MOTOR.sce"
		   ]
		  },
  {
"cell_type": "code",
	   "execution_count": null,
	   "metadata": {
	    "collapsed": true
	   },
	   "outputs": [],
"source": [
"clc,clear\n",
"printf('Example 7.28\n\n')\n",
"\n",
"V_L=400,V_ph=V_L/sqrt(3)\n",
"Z_s=complex(0.5,4)  //synchronous impedance\n",
"theta=(%pi/180)*phasemag(Z_s) //phasemag returns angle in degrees ,not radians\n",
"\n",
"I_aph=60\n",
"phi=acos(0.866) //leading\n",
"power_losses=2*10^3\n",
"\n",
"E_bph =   sqrt( (I_aph*abs(Z_s))^2 + (V_ph)^2 - 2*(I_aph*abs(Z_s))*(V_ph)*cos(phi+theta)  ) \n",
"delta=theta //for P_m_max\n",
"P_m_max = (E_bph*V_ph/abs(Z_s))- (E_bph^2/abs(Z_s))*cos(delta)\n",
"P_m_max_total= 3 * P_m_max\n",
"P_out_max=  P_m_max_total- power_losses\n",
"printf('Maximum power output is %.4f kW',P_out_max*10^-3)"
   ]
   }
,
{
		   "cell_type": "markdown",
		   "metadata": {},
		   "source": [
			"## Example 7.29: TO_DETERMINE_INPUT_POWER_AND_INDUCED_EMF_AT_TWO_DIFFERENT_POWER_FACTORS.sce"
		   ]
		  },
  {
"cell_type": "code",
	   "execution_count": null,
	   "metadata": {
	    "collapsed": true
	   },
	   "outputs": [],
"source": [
"clc,clear\n",
"printf('Example 7.29\n\n')\n",
"\n",
"V_L=6.6*10^3, V_ph=V_L/sqrt(3)\n",
"I_L=50,I_aph=I_L\n",
"Z_s=complex(1.5,8) //synchronous impedance\n",
"theta=(%pi/180)*phasemag(Z_s) //phasemag returns angle in degrees,not radians\n",
"E_Rph=I_aph*abs(Z_s)\n",
"\n",
"//part(i)\n",
"phi=acos(0.8)\n",
"P_in= sqrt(3)*V_L*I_L*cos(phi)   //for both lag and lead, supplied power will be the same\n",
"printf('(i)Power supplied to the motor is %.3f kW\n',P_in*10^-3)\n",
"//part(ii)\n",
"E_bph_lag =   sqrt( E_Rph^2 + V_ph^2 - 2*E_Rph*V_ph*cos(theta-phi)  )  //for lagging power factor\n",
"//Note that E_bph_lag > V_ph\n",
"printf('(ii)Induced EMF for 0.8 power factor lag is %.3f V\n',E_bph_lag)\n",
"E_bph_lead =   sqrt( E_Rph^2 + V_ph^2 - 2*E_Rph*V_ph*cos(theta+phi)  )  //for leading power factor\n",
"//Note that E_bph_lead < V_ph\n",
"printf('    Induced EMF for 0.8 power factor lead is %.3f V',E_bph_lead)"
   ]
   }
,
{
		   "cell_type": "markdown",
		   "metadata": {},
		   "source": [
			"## Example 7.2: TO_DETERMINE_THE_OPERATING_POWER_FACTOR_FOR_DIFFERENT_GENERATED_EMF.sce"
		   ]
		  },
  {
"cell_type": "code",
	   "execution_count": null,
	   "metadata": {
	    "collapsed": true
	   },
	   "outputs": [],
"source": [
"clc,clear\n",
"printf('Example 7.2\n\n')\n",
"V_l=500\n",
"R_a=0.4,X_s=4 //armature resistance and synchronous reactance\n",
"Z_s=complex(R_a,X_s)//synchronous impedance\n",
"theta=(%pi/180)*phasemag(Z_s)//phasemag returns angle in degrees,not radians\n",
"V_ph=V_l/sqrt(3)\n",
"I_l=50\n",
"I_aph=I_l\n",
"E_Rph=I_aph*abs(Z_s)\n",
"//case 1\n",
"E_bline=600\n",
"E_bph=E_bline/sqrt(3)\n",
"phi=acos( (-E_bph^2 + E_Rph^2 + V_ph^2 )/(2*E_Rph*V_ph) ) -theta    //leading\n",
"//because E_bph= sqrt( (E_Rph)^2 + (V_ph)^2  -2*E_Rph*V_ph*cos(theta+phi)  )\n",
"printf('(i)power factor is %.4f leading\n',cos(phi))\n",
"//case 2\n",
"E_bline=380\n",
"E_bph=E_bline/sqrt(3)\n",
"phi= theta-acos( (-E_bph^2 + E_Rph^2 + V_ph^2 )/(2*E_Rph*V_ph) )     //leading\n",
"//because E_bph= sqrt( (E_Rph)^2 + (V_ph)^2  -2*E_Rph*V_ph*cos(theta-phi)\n",
"printf('(ii)power factor is %.4f lagging\n',cos(phi))"
   ]
   }
,
{
		   "cell_type": "markdown",
		   "metadata": {},
		   "source": [
			"## Example 7.30: TO_DETERMINE_AT_FULLLOAD_THE_MINIMUM_CURRENT_AND_ITS_CORRESPONDING_EMF.sce"
		   ]
		  },
  {
"cell_type": "code",
	   "execution_count": null,
	   "metadata": {
	    "collapsed": true
	   },
	   "outputs": [],
"source": [
"clc,clear\n",
"printf('Example 7.30\n\n')\n",
"\n",
"V_L=400,V_ph=V_L/sqrt(3)\n",
"P_out=7.5*735.5\n",
"eta=85/100 //efficiency\n",
"R_a=0,X_s=10 //armature resistance and synchronous reactance\n",
"Z_s=complex(R_a,X_s)//synchronous impedance\n",
"theta=(%pi/180)*phasemag(Z_s) //phasemag returns angle in degrees,not radians\n",
"P_in=P_out/eta\n",
"phi=acos(1) //for mimimum current, power factor is maximum\n",
"I_L=P_in/(sqrt(3)*V_L*cos(phi))  , I_aph=I_L\n",
"printf('Minimum current is %.3f A at full load condition ',I_L)\n",
"\n",
"E_Rph= I_aph*abs(Z_s)\n",
"E_bph =   sqrt( E_Rph^2 + V_ph^2 - 2*E_Rph*V_ph*cos(phi+theta)  ) \n",
"printf('and corresponding EMF is %.4f V',E_bph)"
   ]
   }
,
{
		   "cell_type": "markdown",
		   "metadata": {},
		   "source": [
			"## Example 7.31: EX7_31.sce"
		   ]
		  },
  {
"cell_type": "code",
	   "execution_count": null,
	   "metadata": {
	    "collapsed": true
	   },
	   "outputs": [],
"source": [
"clc,clear\n",
"printf('Example 7.31\n\n')\n",
"\n",
"V_L=3.3*10^3, V_ph=V_L/sqrt(3), V_t=V_ph\n",
"Pole=24,f=50  //Pole and frequency\n",
"P=1000*10^3\n",
"R_a=0,X_s=3.24 //armature resistance and synchronous reactance\n",
"Z_s=complex(R_a,X_s) //synchronous impedance\n",
"theta=phasemag(Z_s)*(%pi/180) //phasemag returns angle in degrees,not radians\n",
"phi=acos(1)\n",
"I_aph=P/(sqrt(3)*V_L*cos(phi))\n",
"\n",
"E_Rph=I_aph*abs(Z_s)\n",
"E_bph =  sqrt( E_Rph^2 + V_ph^2 - 2*E_Rph*V_ph*cos(phi+theta)  ) \n",
"\n",
"P_m_max=3*(E_bph*V_ph/abs(Z_s)) //maximum power that can be delivered\n",
"N_s=120*f/Pole //synchronous speed\n",
"T_max=P_m_max /(2*%pi*N_s/60) //maximum torque that can be developed\n",
"printf('Maximum power and torque the motor can deliver is %.3f kW and %.2f *10^3 Nm respectively',P_m_max*10^-3,T_max/1000)"
   ]
   }
,
{
		   "cell_type": "markdown",
		   "metadata": {},
		   "source": [
			"## Example 7.3: TO_DETERMINE_GENERATED_EMF_ON_FULL_LOAD_AND_THE_LOAD_ANGLE.sce"
		   ]
		  },
  {
"cell_type": "code",
	   "execution_count": null,
	   "metadata": {
	    "collapsed": true
	   },
	   "outputs": [],
"source": [
"clc,clear\n",
"printf('Example 7.3\n\n')\n",
"\n",
"V_L=6600\n",
"P_out=500*10^3\n",
"eta=83/100 //efficiency\n",
"R_a=0.3,X_s=3.2 //armature resistance and synchronous reactance\n",
"Z_s=complex(R_a,X_s)  //synchronous impedance\n",
"theta=(%pi/180)*phasemag(Z_s)  //phasemag returns the angle in degrees not radians\n",
"phi=acos(0.8) //leading\n",
"V_ph=V_L/sqrt(3)\n",
"P_in=P_out/eta\n",
"\n",
"I_L=   P_in/ (sqrt(3) * V_L *  cos(phi) )\n",
"// because P_in=sqrt(3) * V_L * I_L * cos(phi)\n",
"I_aph=I_L\n",
"E_Rph=I_aph*abs(Z_s)\n",
"E_bph= sqrt( (E_Rph)^2 + (V_ph)^2  -2*E_Rph*V_ph*cos(theta+phi)  )\n",
"printf('(i) Generated EmF on full loaad is %.2f V\n',E_bph)\n",
"\n",
"delta= asind(  (E_Rph/E_bph)*sin(theta+phi)  )\n",
"//This is obtained after applying sune rule to triangle OAB from thre phasor diagram\n",
"printf('(ii) load angle is %.2f degrees',delta)"
   ]
   }
,
{
		   "cell_type": "markdown",
		   "metadata": {},
		   "source": [
			"## Example 7.4: TO_DETERMINE_CURRENT_DRAWN_BY_THE_MOTOR_AND_ITS_FULL_LOAD_EFFICIENCY.sce"
		   ]
		  },
  {
"cell_type": "code",
	   "execution_count": null,
	   "metadata": {
	    "collapsed": true
	   },
	   "outputs": [],
"source": [
"clc,clear\n",
"printf('Example 7.4\n\n')\n",
"\n",
"V_L=500,V_ph=V_L/sqrt(3)\n",
"phi=acos(0.9)  //lagging\n",
"output_power=17*10^3\n",
"R_a=0.8 //armaature reactance\n",
"mechanical_losses=1300 //mechanical losses is W\n",
"P_m=output_power+mechanical_losses   //gross mechanical power developed\n",
"\n",
"//  P_m= input_power - stator losses\n",
"//  input_power= 3* V_ph * I_aph * cos(phi)\n",
"//  Stator losses= 3*I_aph^2*R_a\n",
"// solving above equations we get 2.4 I_a^2 - 779/.4225*I_a + 18300 = 0\n",
"I_a_eqn=[2.4 -779.4225 18300]\n",
"I_a_roots=roots(I_a_eqn)\n",
"I_a=I_a_roots(2)  //neglecting higher value\n",
"I_aph=I_a\n",
"printf('Current drawn by the motor is %.3f A\n',I_a)\n",
"\n",
"input_power= 3* V_ph * I_aph * cos(phi)\n",
"eta=100*output_power/input_power\n",
"printf('Full load efficiency is %.2f percent',eta)"
   ]
   }
,
{
		   "cell_type": "markdown",
		   "metadata": {},
		   "source": [
			"## Example 7.5: EX7_5.sce"
		   ]
		  },
  {
"cell_type": "code",
	   "execution_count": null,
	   "metadata": {
	    "collapsed": true
	   },
	   "outputs": [],
"source": [
"clc,clear\n",
"printf('Example 7.5\n\n')\n",
"\n",
"//subscript 1 is for industrial load and 2 for synchronous motor\n",
"P_1=800 // Active power in KW\n",
"phi_1=acos(0.6) //lagging\n",
"Q_1=P_1*tan(phi_1)   //reactive power by load 1\n",
"\n",
"output_power=200\n",
"eta=91/100 //efficiency of synchronous motor\n",
"input_power= output_power/eta\n",
"P_2=input_power// active power drawn by synchronous motor\n",
"P_T=P_1 + P_2  //combined total load of industry and synchronous motor\n",
"phi_T=acos(0.92 )//lagging\n",
"Q_T=P_T* tan(phi_T)  //from power triangle\n",
"Q_2= Q_T - Q_1  //it turns out to be negative indicating its leading nature\n",
"S_2=sqrt( P_2^2 + Q_2^2    )\n",
"printf('Desired kVA rating of Synchronous motor  is %.3f kVA',S_2)\n",
"\n",
"phi_2= atan (Q_2/P_2)\n",
"printf('\nPower factor of synchronous motor is %.4f LEADING',cos(phi_2))"
   ]
   }
,
{
		   "cell_type": "markdown",
		   "metadata": {},
		   "source": [
			"## Example 7.6: TO_DETERMINE_INDUCED_EMF_ON_FULL_LOAD.sce"
		   ]
		  },
  {
"cell_type": "code",
	   "execution_count": null,
	   "metadata": {
	    "collapsed": true
	   },
	   "outputs": [],
"source": [
"clc,clear\n",
"printf('Example 7.6\n\n')\n",
"\n",
"V_L=400\n",
"output_power=37.3*1000 //Watts on full load\n",
"Z_s=complex(0.2,1.6) //synchronous impedance\n",
"theta=(%pi/180)*phasemag(Z_s) //phase mag returns the angle in degrees and not raidians\n",
"phi=acos(0.9) //leading\n",
"V_ph=V_L/sqrt(3)\n",
"eta=88 //efficiency in percentage\n",
"input_power=100*output_power/eta\n",
"I_L=input_power/(sqrt(3)*V_L*cos(phi))\n",
"I_aph=I_L\n",
"E_Rph=I_aph*abs(Z_s)\n",
"\n",
"E_bph= sqrt( (E_Rph)^2 + (V_ph)^2  -2*E_Rph*V_ph*cos(theta+phi)  )\n",
"E_line=sqrt(3)*E_bph\n",
"\n",
"printf('Induced EMF is %.2f V and its line value is %.2f V',E_bph,E_line)"
   ]
   }
,
{
		   "cell_type": "markdown",
		   "metadata": {},
		   "source": [
			"## Example 7.7: TO_CALCULATE_MOTOR_POWER_FACTOR_AND_CURRENT_DRAWN_BY_IT.sce"
		   ]
		  },
  {
"cell_type": "code",
	   "execution_count": null,
	   "metadata": {
	    "collapsed": true
	   },
	   "outputs": [],
"source": [
"clc,clear\n",
"printf('Example 7.7\n\n')\n",
"\n",
"V_L=400\n",
"input_power=20*1000 \n",
"R_a=0,X_s=4 //armature reactance and synchronous reactance\n",
"Z_s=complex(R_a,X_s)   //synchronous impedance\n",
"theta=(%pi/180)*phasemag(Z_s)  //phase mag returns the angle in degrees and not raidians\n",
"V_ph=V_L/sqrt(3)\n",
"E_bline=550 //star connection\n",
"E_bph=E_bline/sqrt(3)\n",
"\n",
"I_a_cos_phi=input_power/(sqrt(3)*V_L)  //product of I_a and cos(phi)\n",
"I_a_sin_phi= (   sqrt(E_bph^2- (abs(Z_s)*I_a_cos_phi)^2   )  -V_ph )/abs(Z_s)//from triangle DAB\n",
"phi=atan(I_a_sin_phi/I_a_cos_phi)\n",
"I_a=I_a_cos_phi/cos(phi)        \n",
"\n",
"printf('Motor power fctor is %.3f Leading\n',cos(phi))\n",
"printf('Current drawn by the motor is %.2f A',I_a)"
   ]
   }
,
{
		   "cell_type": "markdown",
		   "metadata": {},
		   "source": [
			"## Example 7.8: TO_DETERMINE_CERTAIN_QUANTITIES_RELATED_TO_MAXIMUM_MECHANICAL_POWER.sce"
		   ]
		  },
  {
"cell_type": "code",
	   "execution_count": null,
	   "metadata": {
	    "collapsed": true
	   },
	   "outputs": [],
"source": [
"clc,clear\n",
"printf('Example 7.8\n\n')\n",
"printf('Answer in part(1) mismatched because of improper approximation in book\n\n')\n",
" \n",
"V_L=3300, V_ph=V_L/sqrt(3)\n",
"R_a=2,X_s=18 //armature reactance and synchronous reactance\n",
"Z_s=complex(R_a,X_s)//synchronous impedance\n",
"theta=(%pi/180)*phasemag(Z_s) //phasemag returns angle in degrees not radians\n",
"E_bline=3800,E_bph=E_bline/sqrt(3)\n",
"\n",
"//part(i)\n",
"P_m_max = (E_bph*V_ph/abs(Z_s))- (E_bph^2/abs(Z_s))*cos(theta)\n",
"printf('(i)Max total mechanical power developed that motor can develop is %.2f W per phase\n',P_m_max)\n",
"\n",
"//part(ii)\n",
"//from phasor diagram, applying cosine rule to triangle OAB\n",
"E_Rph=sqrt(  E_bph^2 + V_ph^2 -2*E_bph*V_ph*cos(theta) ) \n",
"I_aph= E_Rph/abs(Z_s)\n",
"printf('(ii)Current at max power developed is %.1f A\n',I_aph)\n",
"\n",
"copper_loss=3* I_aph^2 * R_a\n",
"P_in_max_total=3 * P_m_max //input power at max power developed\n",
"total_P_in= P_in_max_total + copper_loss //total input power \n",
"pf=total_P_in/(sqrt(3)*I_aph*V_L)\n",
"printf('Power factor at max power developed is %.3f leading',pf)"
   ]
   }
,
{
		   "cell_type": "markdown",
		   "metadata": {},
		   "source": [
			"## Example 7.9: TO_DETERMINE_EMF_AND_MECHANICAL_POWER_DEVELOPED.sce"
		   ]
		  },
  {
"cell_type": "code",
	   "execution_count": null,
	   "metadata": {
	    "collapsed": true
	   },
	   "outputs": [],
"source": [
"clc,clear\n",
"printf('Example 7.9\n\n')\n",
"\n",
"V_L=500\n",
"R_a=0.03,X_s=0.3 //armature reactance and synchronous reactance\n",
"Z_s=complex(R_a,X_s)//synchronous impedance\n",
"theta=(%pi/180)*phasemag(Z_s) //phasemag returns angle in degrees,not radians\n",
"phi=acos(0.8)\n",
"eta=93/100\n",
"output_power=100*746\n",
"input_power=output_power/eta\n",
"I_L=input_power/(sqrt(3)*V_L*cos(phi))\n",
"I_aph=I_L\n",
"E_Rph=I_aph*abs(Z_s)\n",
"//from the phasor diagram\n",
"E_bph =   sqrt( E_Rph^2 + (V_L/sqrt(3))^2 - 2*E_Rph*(V_L/sqrt(3))*cos(phi+theta)  ) \n",
"\n",
"cu_losses=3*(I_aph)^2*R_a //total copper losses\n",
"P_m= input_power - cu_losses  //total mechanical power developed\n",
"\n",
"printf('EMF developed per phase is %.4f V \nTotal mechanical power developed is %.1f watts',E_bph,P_m)"
   ]
   }
],
"metadata": {
		  "kernelspec": {
		   "display_name": "Scilab",
		   "language": "scilab",
		   "name": "scilab"
		  },
		  "language_info": {
		   "file_extension": ".sce",
		   "help_links": [
			{
			 "text": "MetaKernel Magics",
			 "url": "https://github.com/calysto/metakernel/blob/master/metakernel/magics/README.md"
			}
		   ],
		   "mimetype": "text/x-octave",
		   "name": "scilab",
		   "version": "0.7.1"
		  }
		 },
		 "nbformat": 4,
		 "nbformat_minor": 0
}
