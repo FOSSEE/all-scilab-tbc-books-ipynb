{
"cells": [
 {
		   "cell_type": "markdown",
	   "metadata": {},
	   "source": [
       "# Chapter 8: Fuels"
	   ]
	},
{
		   "cell_type": "markdown",
		   "metadata": {},
		   "source": [
			"## Example 8.1: Calculation_of_lowest_calorific_value.sce"
		   ]
		  },
  {
"cell_type": "code",
	   "execution_count": null,
	   "metadata": {
	    "collapsed": true
	   },
	   "outputs": [],
"source": [
"//Calculation of lowest calorific value\n",
"clc,clear\n",
"//Given:\n",
"HCV=46900 //Highest calorific value(HCV) of petrol in kJ/kg\n",
"pH2=14.4/100 //Composition of Hydrogen in petrol by mass\n",
"ufg=2304.4 //Latent heat of evaporation for water in kJ/kg\n",
"//Solution:\n",
"//  2[H2] + [O2] = 2[H2O]\n",
"H=1 //Atomic mass of Hydrogen(H)\n",
"O=16 //Atomic mass of Oxygen(O)\n",
"//Assume 1 kg of fuel consume\n",
"mH2=1*pH2 //Mass of Hydrogen in kg/kg of fuel\n",
"m_a=2*(2*H+O)/(2*2*H)*mH2 //Mass of water produced in kg/kg of fuel\n",
"LCV=HCV-m_a*ufg //Lowest calorific value in kJ/kg\n",
"//Results:\n",
"printf('\n The LCV of petrol = %.0f kJ/kg\n',LCV)"
   ]
   }
,
{
		   "cell_type": "markdown",
		   "metadata": {},
		   "source": [
			"## Example 8.2: Calculation_of_relative_fuel_air_ratio_by_volume.sce"
		   ]
		  },
  {
"cell_type": "code",
	   "execution_count": null,
	   "metadata": {
	    "collapsed": true
	   },
	   "outputs": [],
"source": [
"//Calculation of relative fuel air ratio by volume\n",
"clc,clear\n",
"//Given:\n",
"pCO2=13/100 //Composition of Carbon di oxide in dry exhaust gas\n",
"//Solution:\n",
"p_v=21/100 //Composition of Oxygen in air by volume\n",
"C=12 //Atomic mass of Carbon(C)\n",
"H=1 //Atomic mass of Hydrogen(H)\n",
"O=16 //Atomic mass of Oxygen(O)\n",
"//Combustion equation\n",
"//  [C8H18] + a[O2] + (1-p_v)/p_v*a[N2] = x[CO2] + y[H2O] + z[O2] + w[N2]\n",
"//On balancing the reaction\n",
"x=8,y=9 //Coefficients of combustion equation\n",
"function M=f(a) //Defining the function, M of coefficient a for calculation of a\n",
"    z=a-x-y/2 //On balancing O\n",
"    w=(1-p_v)/p_v*a //On balancing N\n",
"    M=x/(x+z+w)-pCO2\n",
"endfunction\n",
"//Since, Composition of CO2 calculated from the equation must be equal to the given composition of CO2\n",
"//Thus, function M solve for zero to get value of a\n",
"a=fsolve(1,f) //Moles of air required\n",
"A_F_act=a/p_v //Air fuel ratio by volume\n",
"//For chemically correct mixture\n",
"a=x+y/2 //Moles of air required\n",
"A_F_cc=a/p_v //Chemically correct air fuel ratio\n",
"ratio=(1/A_F_act)/(1/A_F_cc)*100 //Ratio of actual to chemically correct fuel air ratio by volume\n",
"//Results:\n",
"printf('\n The ratio by volume of fuel to air supplied = 1/%.0f',A_F_act)\n",
"printf('\n The volume fuel air ratio = %.1f percentage of chemically correct ratio\n',ratio)"
   ]
   }
,
{
		   "cell_type": "markdown",
		   "metadata": {},
		   "source": [
			"## Example 8.3: Calculations_on_Petrol_engine.sce"
		   ]
		  },
  {
"cell_type": "code",
	   "execution_count": null,
	   "metadata": {
	    "collapsed": true
	   },
	   "outputs": [],
"source": [
"//Calculations on Petrol engine\n",
"clc,clear\n",
"//Given:\n",
"pC=84,pH2=16 //Percentage of Carbon, Hydrogen in fuel \n",
"p_v=20.9 //Percentage of Oxygen in air by volume\n",
"//Solution:\n",
"C=12 //Atomic mass of Carbon(C)\n",
"H=1 //Atomic mass of Hydrogen(H)\n",
"O=16 //Atomic mass of Oxygen(O)\n",
"N=14 //Atomic mass of Nitrogen(N)\n",
"m_f=100 //Mass of fuel (assume) in kg\n",
"//Combustion equation\n",
"//pC/C[C] + pH2/2[H2] + [a[O2] + (100-p_v)/p_v*a[N2]]  =  b[CO2] + d[O2] + e[N2] + f[H2O]\n",
"//Equating coefficients\n",
"b=pC/C,f=pH2/2,d=b/6,a=b+d+f/2 //Coefficients of combustion equation\n",
"m_a=a*2*O + (100-p_v)/p_v*a*2*N //Mass of air supplied in kg\n",
"A_F=m_a/m_f //Air fuel ratio\n",
"P_e=d/(a-d)*100 //Percentage excess air\n",
"//Results:\n",
"printf('\n (a)The air fuel ratio by mass, A_F = %.1f/1',A_F)\n",
"printf('\n (b)The percentage excess air supplied = %.1f percent\n\n',P_e)"
   ]
   }
,
{
		   "cell_type": "markdown",
		   "metadata": {},
		   "source": [
			"## Example 8.4: Calculation_of_mass_of_air.sce"
		   ]
		  },
  {
"cell_type": "code",
	   "execution_count": null,
	   "metadata": {
	    "collapsed": true
	   },
	   "outputs": [],
"source": [
"//Calculation of mass of air\n",
"clc,clear\n",
"//Given:\n",
"MS=25 //Mixture strength in percent\n",
"p=23.1 //Percentage of oxygen in air by mass\n",
"//Solution:\n",
"C=12 //Atomic mass of Carbon(C)\n",
"H=1 //Atomic mass of Hydrogen(H)\n",
"O=16 //Atomic mass of Oxygen(O)\n",
"N=14 //Atomic mass of Nitrogen(N)\n",
"m_f=1 //Mass of fuel(C6H14) in kg\n",
"mC=(6*C)/((6*C)+(14*H)) //Mass of Carbon in kg\n",
"mH=(14*H)/((6*C)+(14*H)) //Mass of Hydrogen in kg\n",
"m_a=(2*O/C*mC+O/(2*H)*mH)*100/p //Mass of air in kg\n",
"//For 25 percent rich mixture\n",
"m_f=m_f+m_f*MS/100 //Mass of fuel(C6H14) in kg\n",
"A_F=m_a/m_f //Air fuel ratio\n",
"mO2=p/100*A_F //Mass of Oxygen available in kg\n",
"mO2_1=O/(2*H)*mH //Oxygen required for combustion of H to H2O in kg\n",
"mH2O=mH*(1+O/(2*H)) //Mass of H2O produced in kg\n",
"mO2_2=O/C*mC //Oxygen required for combustion of C to CO in kg\n",
"mCO=mC*(1+O/C) //Mass of CO produced in kg\n",
"mO2_3=mO2-(mO2_1+mO2_2) //Mass of Oxygen remaining for combustion of CO to CO2\n",
"mCO_b=mO2_3*(C+O)/O //Mass of CO burned to CO2 in kg\n",
"mCO2=mCO_b*(1+O/(C+O)) //Mass of CO2 produced in kg\n",
"mCO_ub=mCO-mCO_b //Mass of CO unburned in kg\n",
"nH2O=mH2O/(2*H+O) //Moles of H2O\n",
"nCO2=mCO2/(C+2*O) //Moles of CO2\n",
"nCO=mCO_ub/(C+O) //Moles of CO\n",
"mN2=A_F*(1-p/100) //Mass of Nitrogen (N2) in kg\n",
"nN2=mN2/(2*N) //Moles of N2\n",
"nT=nH2O+nCO2+nCO+nN2 //Total number of moles\n",
"pH2O=nH2O/nT,pCO2=nCO2/nT,pCO=nCO/nT,pN2=nN2/nT //Composition of products\n",
"//Results:\n",
"printf('\n The theoretical mass of air required, m_a = %.2f kg',m_a)\n",
"printf('\n The composition of the products in percent\n\t H2O = %.2f\n\t CO2 = %.2f\n\t CO = %.2f\n\t N2 = %.2f\n\n',pH2O*100,pCO2*100,pCO*100,pN2*100)"
   ]
   }
,
{
		   "cell_type": "markdown",
		   "metadata": {},
		   "source": [
			"## Example 8.5: C7H16_in_Petrol_engine.sce"
		   ]
		  },
  {
"cell_type": "code",
	   "execution_count": null,
	   "metadata": {
	    "collapsed": true
	   },
	   "outputs": [],
"source": [
"//C7H16 in Petrol engine\n",
"clc,clear\n",
"//Given:\n",
"p_v=21 //Percentage of Oxygen in air by volume\n",
"p_e=50 //Percentage of excess air supplied\n",
"//Solution:\n",
"m_f=100 //Mass of fuel (assume) in kg\n",
"C=12 //Atomic mass of Carbon(C)\n",
"H=1 //Atomic mass of Hydrogen(H)\n",
"O=16 //Atomic mass of Oxygen(O)\n",
"N=14 //Atomic mass of Nitrogen(N)\n",
"a=poly(0,'a') //Defining unknown number of moles of stoichiometric oxygen\n",
"//Combustion equation\n",
"//m_f/(7*C+16*H)[C7H16] + (1+p_e/100)*[a[O2] + (100-p_v)/p_v*a[N2]]  =  b[CO2] + d[O2] + e[N2] + f[H2O]\n",
"//Equating coefficients\n",
"b=m_f/(7*C+16*H)*7 //Moles of CO2 on balancing of C\n",
"f=m_f/(7*C+16*H)*16/2 //Moles of H2O on balancing of H\n",
"d=p_e/100*a //Excess moles of oxygen\n",
"a=roots((1+p_e/100)*a-(b+d+f/2)) //Balancing Oxygen of both sides\n",
"m_a=a*2*O+(100-p_v)/p_v*a*2*N //Mass of air supplied in kg\n",
"A_F=m_a/m_f //Air fuel ratio\n",
"d=p_e/100*a //Moles of Oxygen in products of combustion\n",
"e=(1+p_e/100)*(100-p_v)/p_v*a //Moles of Nitrogen in products of combustion\n",
"nT=b+d+e+f //Total number of moles in product of combustion\n",
"pH2O=f/nT*100,pCO2=b/nT*100,pO2=d/nT*100,pN2=e/nT*100 //Percentage volumetric composition of the products of combustion\n",
"//Results:\n",
"printf('\n (a)The stoichiometric air fuel consumption by mass, A_F = %.2f:1',A_F)\n",
"printf('\n (b)The percentage volumetric composition of the products\n\t CO2 = %.2f\n\t O2 = %.2f\n\t N2 = %.1f\n\t H2O = %.2f\n\n',pCO2,pO2,pN2,pH2O)"
   ]
   }
,
{
		   "cell_type": "markdown",
		   "metadata": {},
		   "source": [
			"## Example 8.6: Incomplete_combustion_of_Petrol.sce"
		   ]
		  },
  {
"cell_type": "code",
	   "execution_count": null,
	   "metadata": {
	    "collapsed": true
	   },
	   "outputs": [],
"source": [
"//Incomplete combustion of Petrol\n",
"clc,clear\n",
"//Given:\n",
"pC=85,pH2=15 //Percentage of Carbon, Hydrogen in fuel\n",
"A_F=14 //Air fuel ratio by mass\n",
"p_m=23.2 //Percentage of oxygen in air by mass\n",
"//Solution:\n",
"m_f=100 //Mass of fuel (assume) in kg\n",
"m_a=A_F*m_f //Mass of air in kg\n",
"C=12 //Atomic mass of Carbon(C)\n",
"H=1 //Atomic mass of Hydrogen(H)\n",
"O=16 //Atomic mass of Oxygen(O)\n",
"N=14 //Atomic mass of Nitrogen(N)\n",
"p_v=20.9 //Percentage of Oxygen in air by volume\n",
"//Combustion equation\n",
"//pC/C[C] + pH2/2[H2] + [a[O2] + (100-p_v)/p_v*a[N2]]  =  b[CO2] + d[CO] + e[N2] + f[H2O]\n",
"//Equating coefficients\n",
"f=pH2/2 //Moles of H2O on balancing of H\n",
"a=m_a/(2*O+(100-p_v)/p_v*2*N) //Balancing Oxygen of both sides\n",
"//On balancing C of both sides we get, b + d = pC/C     eq(1)\n",
"//On balancing O of both sides we get, b + d/2 + f/2 = a     eq(2)\n",
"//Solving equations (1) and (2)\n",
"A=[1 1;1 1/2],B=[pC/C;a-f/2],SOL=A\B //Taking matrix A, B to get solution matrix, SOL = [b;d]\n",
"b=SOL(1),d=SOL(2) //Moles of CO2 and CO\n",
"e=(100-p_v)/p_v*a //Moles of Nitrogen in products of combustion\n",
"mC=b/m_f*C //Mass of carbon burning to CO2 in kg per kg of fuel\n",
"mCO2=b/m_f*(C+2*O) //Mass of CO2 produced in kg\n",
"mCO=d/m_f*(C+O) //Mass of CO produced in kg\n",
"mN2=e/m_f*(2*N) //Mass of N2 produced in kg\n",
"mH2O=f/m_f*(2*H+O) //Mass of H2O produced in kg\n",
"//Results:\n",
"printf('\n (a)The mass of the carbon burning to CO2 = %.3f kg',mC)\n",
"printf('\n (b)The mass of each of the gases in the exhaust per kg of fuel\n\t CO2 = %.2f kg\n\t CO = %.2f kg\n\t N2 = %.2f kg\n\t H2O = %.2f kg\n\n',mCO2,mCO,mN2,mH2O)"
   ]
   }
,
{
		   "cell_type": "markdown",
		   "metadata": {},
		   "source": [
			"## Example 8.7: Analysis_of_fuel_from_exhaust_gas_analysis.sce"
		   ]
		  },
  {
"cell_type": "code",
	   "execution_count": null,
	   "metadata": {
	    "collapsed": true
	   },
	   "outputs": [],
"source": [
"//Analysis of fuel from exhaust gas analysis\n",
"clc,clear\n",
"//Given:\n",
"pCO2=12/100,pCO=2/100,pCH4=4/100,pH2=1/100,pO2=4.5/100 //Composition of Carbon di oxide(CO2), Carbon mono oxide(CO), Methane(CH4), Hydrogen(H2), Oxygen(O2) in dry exhaust gas\n",
"pN2=1-(pCO2+pCO+pCH4+pH2+pO2) //Composition of Nitrogen(N2) in dry exhaust gas\n",
"//Solution:\n",
"C=12 //Atomic mass of Carbon(C)\n",
"H=1 //Atomic mass of Hydrogen(H)\n",
"p_v=21 //Percentage of Oxygen in air by volume\n",
"//Let X be the mass of the fuel per mole dry exhaust gas\n",
"//Let Y be the mole of O2 per mole dry exhaust gas\n",
"//Let 1 kg of fuel contain p kg of C and q kg of H2\n",
"//Combustion equation\n",
"//X*(p/C[C] + q/(2*H)[H2]) + Y[O2] + (100-p_v)/p_v*Y[N2] = pCO2[CO2] + pCO[CO] + pCH4[CH4] + pH2[H2] + pO2[O2] + a[H2O] + pN2[N2]\n",
"//Equating coefficients\n",
"Y=pN2/((100-p_v)/p_v) //Nitrogen(N) balance\n",
"a=2*(Y-(pCO2+pCO/2+pO2)) //Oxygen(O) balance\n",
"Xp=C*(pCO2+pCO+pCH4) //Carbon(C) balance; X*p\n",
"Xq=(2*H)*(2*pCH4+pH2+a) //Hydrogen(H) balance; X*q\n",
"p_q=Xp/Xq //Ratio of C to H2 in fuel\n",
"//Results:\n",
"printf('\n The proportion by mass of Carbon to Hydrogen in the fuel = %.2f/1\n',p_q)"
   ]
   }
,
{
		   "cell_type": "markdown",
		   "metadata": {},
		   "source": [
			"## Example 8.8: Orsat_analysis.sce"
		   ]
		  },
  {
"cell_type": "code",
	   "execution_count": null,
	   "metadata": {
	    "collapsed": true
	   },
	   "outputs": [],
"source": [
"//Orsat analysis\n",
"clc,clear\n",
"//Given:\n",
"pCO2=7.5,pCO=1,pO2=9.4 //Percentage of Carbon di oxide(CO2), Carbon mono oxide(CO), Oxygen(O2) in dry exhaust gas\n",
"P=1.02 //Pressure of the exhaust gas in bar\n",
"pO_v=21 //Percentage of Oxygen in air by volume\n",
"pN_v=79 //Percentage of Nitrogen in air by volume\n",
"M=29 //Molecular weight of air\n",
"//Solution:\n",
"C=12 //Atomic mass of Carbon(C)\n",
"H=1 //Atomic mass of Hydrogen(H)\n",
"//Let 100*x moles of air be used with fuel per 100 mole of dry exhaust products\n",
"pN2=100-(pCO2+pCO+pO2) //Composition of Nitrogen(N2) in dry exhaust gas\n",
"//Combustion equation\n",
"//    a[C] + b[H2]) + pO_v*x[O2] + pN_v*x[N2] = pCO2[CO2] + pCO[CO] + pO2[O2] d[H2O] + pN2[N2]\n",
"//Equating coefficients\n",
"a=pCO2+pCO //Carbon(C) balance\n",
"x=pN2/pN_v //Nitrogen(N) balance\n",
"d=2*(pO_v*x-(pCO2+pO2+pCO/2)) //Oxygen(O) balance\n",
"d=round(10*d)/10\n",
"b=d //Hydrogen(H) balance\n",
"m_a=100*x*M //Mass of air in kg\n",
"m_f=a*C+b*2*H //Mass of fuel in kg\n",
"A_F=m_a/m_f //Air fuel ratio\n",
"pC=a*C/m_f*100 //Percentage of Carbon(C) in fuel\n",
"pH2=100-pC //Percentage of Hydrogen(H2) in fuel\n",
"nT=pCO2+pCO+pO2+pN2+d //Total number of moles in product of combustion\n",
"CO2=pCO2/nT*100,O2=pO2/nT*100,CO=pCO/nT*100,N2=pN2/nT*100,H2O=d/nT*100 //Percentage volumetric composition of the products of combustion\n",
"PP=d/nT*P //Partial pressure of H2O in bar\n",
"//From steam tables\n",
"if (PP==0.0825) then\n",
"    T=42.8 //Saturation temperature in degreeC\n",
"end\n",
"//Results:\n",
"printf('\n (a)The air fuel ratio used, A_F = %.1f',A_F)\n",
"printf('\n (b)The mass analysis of the fuel\n\t Carbon = %.1f percent\n\t Hydrogen = %.1f percent',pC,pH2)\n",
"printf('\n (c)The wet products analysis in percent\n\t CO2 = %.1f\n\t O2 = %.2f\n\t CO = %.1f\n\t N2 = %.2f\n\t Steam = %.1f',CO2,O2,CO,N2,H2O)\n",
"printf('\n (d)The minimum temperature to which the exhaust may be cooled before condensation occurs = %.1f degreeC\n\n',T)"
   ]
   }
,
{
		   "cell_type": "markdown",
		   "metadata": {},
		   "source": [
			"## Example 8.9: Calculations_on_gas_engine.sce"
		   ]
		  },
  {
"cell_type": "code",
	   "execution_count": null,
	   "metadata": {
	    "collapsed": true
	   },
	   "outputs": [],
"source": [
"//Calculations on gas engine\n",
"clc,clear\n",
"//Given:\n",
"pH2=49.4/100,pCO=18/100,pCH4=20/100,pC4H8=2/100,pO2=0.4/100,pN2=6.2/100,pCO2=4/100 //Composition of Coal gas\n",
"MW=20 //Mixture weakness in percent\n",
"//Solution:\n",
"//Combustion equations for determining the moles of Oxygen used\n",
"//2[H2] + [O2] ---> 2[H2O]      //For Hydrogen\n",
"//2[CO] + [O2] ---> 2[CO2]      //For Carbon mono oxide\n",
"//[CH4] + 2[O] ---> [CO2] + 2[H2O]     //For Methane\n",
"//[C4H8] + 6[O2] ---> 4[CO2] + 4[H2O]    //For C4H8\n",
"nO2=sum([pH2/2 pCO/2 2*pCH4 6*pC4H8 pO2]) //Moles of O2 required (error)\n",
"nCO2=sum([pCO pCH4 4*pC4H8 pCO2]) //Moles of CO2\n",
"nH2O=sum([pH2 2*pCH4 4*pC4H8]) //Moles of H2O\n",
"p_v=21 //Percentage of Oxygen in air by volume\n",
"n_a=nO2/p_v*100 //Moles of air required\n",
"n_f=1 //For 1 mole of fuel\n",
"A_F=n_a/n_f //Air fuel ratio\n",
"//For weak mixture\n",
"A_F_act=A_F*(1+MW/100) //Actual air fuel ratio\n",
"nN2=(1-p_v/100)*A_F_act //Moles of N2\n",
"nO2=p_v/100*A_F_act-nO2 //Excess moles of Oxygen in products\n",
"nN2=nN2+pN2 //Moles of Nitrogen in products\n",
"nT_d=nCO2+nO2+nN2 //Total dry moles of product\n",
"nT_w=nT_d+nH2O //Total wet moles of product\n",
"p_d=[nCO2 nO2 nN2]*100/nT_d //Percentage volumetric composition of the dry products of combustion\n",
"p_w=[nCO2 nH2O nO2 nN2]*100/nT_w //Percentage volumetric composition of the wet products of combustion\n",
"//Results:\n",
"printf('\n The stoichiometric air fuel ratio used, A_F = %.1f/1',A_F)\n",
"printf('\n The wet products analysis in percent\n\t CO2 = %.0f\n\t H2O = %.2f\n\t O2 = %.2f\n\t N2 = %.2f',p_w(1),p_w(2),p_w(3),p_w(4))\n",
"printf('\n The dry products analysis in percent\n\t CO2 = %.2f\n\t O2 = %.2f\n\t N2 = %.2f\n\n',p_d(1),p_d(2),p_d(3))\n",
"//Answers in the book are wrong"
   ]
   }
],
"metadata": {
		  "kernelspec": {
		   "display_name": "Scilab",
		   "language": "scilab",
		   "name": "scilab"
		  },
		  "language_info": {
		   "file_extension": ".sce",
		   "help_links": [
			{
			 "text": "MetaKernel Magics",
			 "url": "https://github.com/calysto/metakernel/blob/master/metakernel/magics/README.md"
			}
		   ],
		   "mimetype": "text/x-octave",
		   "name": "scilab",
		   "version": "0.7.1"
		  }
		 },
		 "nbformat": 4,
		 "nbformat_minor": 0
}
