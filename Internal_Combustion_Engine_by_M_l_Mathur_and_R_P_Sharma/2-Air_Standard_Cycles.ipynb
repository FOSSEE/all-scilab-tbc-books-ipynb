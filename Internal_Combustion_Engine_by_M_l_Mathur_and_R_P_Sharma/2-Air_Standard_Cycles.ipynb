{
"cells": [
 {
		   "cell_type": "markdown",
	   "metadata": {},
	   "source": [
       "# Chapter 2: Air Standard Cycles"
	   ]
	},
{
		   "cell_type": "markdown",
		   "metadata": {},
		   "source": [
			"## Example 2.10: Calculations_on_Otto_cycle.sce"
		   ]
		  },
  {
"cell_type": "code",
	   "execution_count": null,
	   "metadata": {
	    "collapsed": true
	   },
	   "outputs": [],
"source": [
"//Calculations on Otto cycle\n",
"clc,clear\n",
"//Given:\n",
"CV=42000 //Calorific value of the fuel in kJ/kg\n",
"a=30/100,b=70/100 //Fraction of compression stroke at point a, b\n",
"P_a=1.33,P_b=2.66 //Pressure at point a, b\n",
"n=1.33 //Polytropic index\n",
"eta_cycle=50/100 //Air standard cycle efficiency\n",
"//Solution:\n",
"//Refer fig 2.25\n",
"//Since, compression follows PV^n = C\n",
"//Thus, P_a*V_a^n = P_b*V_b^n\n",
"//Assume a_b = V_a/V_b\n",
"a_b=(P_b/P_a)^(1/n) //Ratio of volume at a to volume at b\n",
"//Defining the function, ratio of r(compression ratio)\n",
"function [ratio]=Volume(r)\n",
"    V_a=1+0.7*(r-1)\n",
"    V_b=1+0.3*(r-1)\n",
"    ratio=V_a/V_b-a_b\n",
"endfunction\n",
"funcprot(0)\n",
"r=fsolve(1,Volume) //Compression ratio\n",
"g=1.4 //Specific heat ratio(gamma)\n",
"eta=round(1000*(1-1/r^(g-1)))/1000 //Air standard efficiency\n",
"eta_it=eta_cycle*eta //Indicated thermal efficiency\n",
"//Since, 1 kWh = 3600 kJ\n",
"Q1=3600/eta_it //Heat supplied in kJ/kWh\n",
"isfc=Q1/CV //Indicated specific fuel consumption in kg/kWh\n",
"//Results:\n",
"printf('\n The compression ratio, r = %.2f',r)\n",
"printf('\n The fuel consumption, isfc = %.3f kg/kWh\n\n',isfc)"
   ]
   }
,
{
		   "cell_type": "markdown",
		   "metadata": {},
		   "source": [
			"## Example 2.11: Calculations_on_diesel_cycle.sce"
		   ]
		  },
  {
"cell_type": "code",
	   "execution_count": null,
	   "metadata": {
	    "collapsed": true
	   },
	   "outputs": [],
"source": [
"//Calculations on diesel cycle\n",
"clc,clear\n",
"//Given:\n",
"r=14 //Compression ratio\n",
"P1=1 //Pressure at 1 in bar\n",
"T1=27+273,T3=2500+273 //Temperature at 1 and 3 in K\n",
"//Solution:\n",
"//Refer fig 2.26\n",
"g=1.4 //Specific heat ratio(gamma)\n",
"T2=T1*(r)^(g-1) //Temperature at 2 in K\n",
"P2=P1*(T2/T1)^(g/(g-1)) //Pressure at 2 in bar\n",
"rho=T3/T2 //Cut off ratio\n",
"T3_T4=(r/rho)^(g-1) //Temperature ratio T3/T4\n",
"T4=round(T3/T3_T4) //Temperature at 4 in K\n",
"eta=1-((T4-T1)/(g*(T3-T2))) //Efficiency of diesel cycle\n",
"R=0.287,cp=1.005,cv=0.718 //Specific gas constant, heat capacities at constant pressure and volume in kJ/kgK\n",
"V1=R*T1*10^3/(P1*10^5) //Volume at 1 in m^3/kg\n",
"V_s=V1*(1-1/r) //Stroke volume in m^3/kg\n",
"mep=(cp*(T3-T2)-cv*(T4-T1))*10^3/(V_s*10^5) //Mean effective pressure in bar\n",
"//Results:\n",
"printf('\n The thermal efficiency of the diesel cycle, eta = %.1f percent',eta*100)\n",
"printf('\n The mean effective pressure of the cycle, pm = %.2f bar\n\n',mep)"
   ]
   }
,
{
		   "cell_type": "markdown",
		   "metadata": {},
		   "source": [
			"## Example 2.12: Calculations_on_diesel_cycle.sce"
		   ]
		  },
  {
"cell_type": "code",
	   "execution_count": null,
	   "metadata": {
	    "collapsed": true
	   },
	   "outputs": [],
"source": [
"//Calculations on diesel cycle\n",
"clc,clear\n",
"//Given:\n",
"P1=1,P2=50 //Pressure at 1, 2 in bar\n",
"V1=1,V3=0.1 //Volume at 1, 3 in m^3\n",
"T1=18+273 //Temperature at 1 in K\n",
"g=1.4 //Specific heat ratio(gamma)\n",
"//Solution:\n",
"T2=T1*(P2/P1)^((g-1)/g) //Temperature at 2 in K\n",
"V2=V1*(P1/P2)*(T2/T1) //Volume at 2 in m^3\n",
"T3=round(T2*(V3/V2)) //Temperature at 2 in K (printing error)\n",
"V4=V1 //Constant volume process, volume at 4 in m^3\n",
"T4=T3*(V3/V4)^(g-1) //Temperature at 4 in K\n",
"eta=1-((T4-T1)/(g*(T3-T2))) //Efficiency of diesel cycle\n",
"//Results:\n",
"printf('\n Temperature at 1, T1 = %d K\n Temperature at 2, T2 = %.1f K\n Temperature at 3, T3 = %d K\n Temperature at 4, T4 = %.1f K',T1,T2,T3,T4)\n",
"printf('\n The thermal efficiency of the cycle, eta = %.1f percent\n\n',eta*100)\n",
"//Answer in the book is printed wrong"
   ]
   }
,
{
		   "cell_type": "markdown",
		   "metadata": {},
		   "source": [
			"## Example 2.13: Calculations_on_diesel_cycle.sce"
		   ]
		  },
  {
"cell_type": "code",
	   "execution_count": null,
	   "metadata": {
	    "collapsed": true
	   },
	   "outputs": [],
"source": [
"//Calculations on diesel cycle\n",
"clc,clear\n",
"//Given:\n",
"r=18 //Compression ratio\n",
"p=10 //percentage of stroke at which constant pressure process ends\n",
"P1=1,T1=20+273 //Pressure and temperature at 1 in bar and K\n",
"V_a=100 //Volume of air used per hour in m^3/hr\n",
"g=1.4 //Specific heat ratio(gamma)\n",
"//Solution:\n",
"//Refer fig 2.27\n",
"//Calculation of cut off ratio (rho)\n",
"V_c=1 //Assume clearance volume in unit\n",
"V_s=r-V_c //Swept volume in unit\n",
"V3=V_c+V_s*p/100 //Volume at constant pressure process ends or point 3 in unit\n",
"V2=V_c //Volume at constant pressure process starts or point 2 in unit\n",
"rho=V3/V2 //Cut off ratio\n",
"eta=1-((rho^g-1)/(r^(g-1)*g*(rho-1))) //Thermal efficiency\n",
"P2=P1*(r)^g //Pressure at 2(maximum) in bar (printing error)\n",
"P3=P2 //Constant pressure process, pressure at 3 in bar\n",
"T2=T1*(r)^(g-1) //Temperature at 2 in K\n",
"T3=T2*rho //Temperature at 3(maximum) in K\n",
"//Consider the cycle for 100 m^3 of swept volume with air, thus\n",
"V_s=V_a //Swept volume in m^3/hr\n",
"V2=V_s/(r-1) //Volume at 2 in m^3/hr\n",
"V1=V_s+V2 //Volume at 1 in m^3/hr\n",
"V3=rho*V2 //Volume at 3 in m^3/hr\n",
"V4=V1 //Constant volume process, volume at 4 in m^2\n",
"P4=P3*(V3/V4)^g //Pressure at 4 in bar\n",
"W=(P2*(V3-V2)+((P3*V3-P4*V4)-(P2*V2-P1*V1))/(g-1))*10^5 //Work done in cycle in Nm\n",
"ip=W/3600\n",
"//Results:\n",
"printf('\n (a)The maximum temperature, T3 = %d degreeC and the maximum pressure, P2 = %.1f bar',T3-273,P2)\n",
"printf('\n (b)The thermal efficiency of the engine, eta = %d percent',eta*100)\n",
"printf('\n (c)The indicated power of the engine, ip = %.2f kW\n\n',ip/1000)\n",
"//Answers in the book are wrong"
   ]
   }
,
{
		   "cell_type": "markdown",
		   "metadata": {},
		   "source": [
			"## Example 2.14: Calculations_on_diesel_cycle.sce"
		   ]
		  },
  {
"cell_type": "code",
	   "execution_count": null,
	   "metadata": {
	    "collapsed": true
	   },
	   "outputs": [],
"source": [
"//Calculations on diesel cycle\n",
"clc,clear\n",
"//Given:\n",
"d=15,l=20 //Diameter and stroke of cylinder in cm\n",
"p1=10 //Percentage of stroke volume equal to clearance volume\n",
"p2=6 //Percentage of stroke at which cut off takes place\n",
"g=1.4 //Specific heat ratio(gamma)\n",
"//Solution:\n",
"//Refer fig 2.28\n",
"V_s=(%pi/4)*d^2*l //Stroke volume in cm^3\n",
"V_c=p1*V_s/100 //Clearance volume in cm^3\n",
"V1=V_s+V_c //Total volume at 1 in cm^3\n",
"V2=V_c //Volume at 2 in cm^3\n",
"V3=V2+p2*V_s/100 //Volume at 3 in cm^3\n",
"r=V1/V2 //Compression ratio\n",
"rho=V3/V2 //Cut off ratio\n",
"eta=1-((rho^g-1)/(r^(g-1)*g*(rho-1))) //Thermal efficiency\n",
"//Results:\n",
"printf('\n The air standard efficiency of the engine, eta = %d percent\n\n',eta*100)"
   ]
   }
,
{
		   "cell_type": "markdown",
		   "metadata": {},
		   "source": [
			"## Example 2.15: Calculations_on_dual_combustion_cycle.sce"
		   ]
		  },
  {
"cell_type": "code",
	   "execution_count": null,
	   "metadata": {
	    "collapsed": true
	   },
	   "outputs": [],
"source": [
"//Calculations on dual combustion cycle\n",
"clc,clear\n",
"//Given:\n",
"r=15 //Compression ratio\n",
"P1=1,T1=25+273,V1=.1 //Pressure, temperature, volume at 1 in bar, K, m^3\n",
"P4=65,T4=1500+273 //Pressure and temperature at 4 in bar and K\n",
"cv=0.718 //Specific heat at constant volume in kJ/kgK\n",
"g=1.4 //Specific heat ratio(gamma)\n",
"//Solution:\n",
"//Refer fig 2.29\n",
"V2=V1/r //Volume at 2 in m^3\n",
"P2=P1*(r)^g //Pressure at 2 in bar\n",
"T2=T1*(r)^(g-1) //Temperature at 2 in K\n",
"P3=P4 //Pressure at 3 in bar\n",
"T3=T2*(P3/P2) //Temperature at 3 in K\n",
"V3=V2 //Volume at 3 in m^3\n",
"V4=V3*(T4/T3) //Volume at 4 in m^3\n",
"V5=V1 //Volume at 5 in m^3\n",
"P5=P4*(V4/V5)^g //Pressure at 5 in bar\n",
"T5=T4*(V4/V5)^(g-1) //Temperature at 5 in K\n",
"eta=1-(T5-T1)/((T3-T2)+g*(T4-T3)) //Thermal efficiency\n",
"//Results:\n",
"printf('\n Point 1:\n Pressure = %d bar, Volume = %.1f m^3, Temperature = %d degreeC',P1,V1,T1-273)\n",
"printf('\n\n Point 2:\n Pressure = %.1f bar, Volume = %.4f m^3, Temperature = %d degreeC',P2,V2,T2-273)\n",
"printf('\n\n Point 3:\n Pressure = %d bar, Volume = %.4f m^3, Temperature = %d degreeC',P3,V3,T3-273)\n",
"printf('\n\n Point 4:\n Pressure = %d bar, Volume = %.4f m^3, Temperature = %d degreeC',P4,V4,T4-273)\n",
"printf('\n\n Point 5:\n Pressure = %.2f bar, Volume = %.1f m^3, Temperature = %d degreeC',P5,V5,T5-273)\n",
"printf('\n\n The thermal efficiency of the cycle, eta = %d percent',eta*100)\n",
"//Answers in the book are wrong"
   ]
   }
,
{
		   "cell_type": "markdown",
		   "metadata": {},
		   "source": [
			"## Example 2.16: Calculations_on_dual_combustion_cycle.sce"
		   ]
		  },
  {
"cell_type": "code",
	   "execution_count": null,
	   "metadata": {
	    "collapsed": true
	   },
	   "outputs": [],
"source": [
"//Calculations on dual combustion cycle\n",
"clc,clear\n",
"//Given:\n",
"r=18 //Compression ratio\n",
"P1=1.01,P3=69 //Pressure at 1, 3 in bar\n",
"T1=20+273 //Temperature at 1 in K\n",
"cv=0.718 //Specific heat at constant volume in kJ/kgK\n",
"cp=1.005 //Specific heat at constant pressure in kJ/kgK\n",
"g=1.4 //Specific heat ratio(gamma)\n",
"R=0.287 //Specific gas constant in kJ/kgK\n",
"//Solution:\n",
"T2=T1*r^(g-1) //Temperature at 2 in K\n",
"P2=P1*r^g //Pressure at 2 in bar\n",
"T3=T2*(P3/P2) //Temperature at 3 in K\n",
"Q_v=cv*(T3-T2) //Heat added at constant volume in kJ/kg\n",
"//Given, Heat added at constant volume is equal to heat added at constant pressure\n",
"T4=Q_v/cp+T3 //Temperature at 4 in K\n",
"rho=T4/T3 //Cut off ratio\n",
"T5=T4*(rho/r)^(g-1) //Temperature at 5 in K\n",
"Q1=2*Q_v //Heat supplied in cycle in kJ/kg\n",
"Q2=cv*(T5-T1) //Heat rejected in kJ/kg\n",
"eta=1-Q2/Q1 //Thermal efficiency\n",
"W=Q1-Q2 //Work done by the cycle in kJ/kg\n",
"V1=1*R*T1/(P1*100) //Volume at 1 in m^3/kg\n",
"V2=V1/r //Volume at 2 in m^3/kg\n",
"V_s=V1-V2 //Swept volume in m^3/kg\n",
"mep=W/(V_s*100) //Mean effective pressure in bar\n",
"//Results:\n",
"printf('\n The air standard efficiency, eta = %.1f percent',eta*100)\n",
"printf('\n The mean effective pressure, mep = %.2f bar\n\n',mep)"
   ]
   }
,
{
		   "cell_type": "markdown",
		   "metadata": {},
		   "source": [
			"## Example 2.17: Calculations_on_dual_combustion_cycle.sce"
		   ]
		  },
  {
"cell_type": "code",
	   "execution_count": null,
	   "metadata": {
	    "collapsed": true
	   },
	   "outputs": [],
"source": [
"//Calculations on dual combustion cycle\n",
"clc,clear\n",
"//Given:\n",
"P1=1 //Pressure at 1 in bar\n",
"T1=50+273 //Temperature at 1 in K\n",
"r=14,rho=2,alpha=2 //Compression ratio, cut off ratio, pressure ratio\n",
"g=1.4 //Specific heat ratio(gamma)\n",
"cp=1.005 //Specific heat at constant pressure in kJ/kgK\n",
"cv=0.718 //Specific heat at constant volume in kJ/kgK\n",
"//Solution:\n",
"//Refer fig 2.30\n",
"T2=T1*ceil(100*r^(g-1))/100 //Temperature at 2 in K\n",
"P2=round(P1*r^g) //Pressure at 2 in bar\n",
"P3=alpha*P2 //Pressure at 3 in bar\n",
"T3=T2*(P3/P2) //Temperature at 3 in K\n",
"T4=T3*rho //Temperature at 4 in K\n",
"e=r/rho //Expansion ratio\n",
"T5=T4/e^(g-1) //Temperature at 5 in K (Round off error)\n",
"Q1=cv*(T3-T2)+cp*(T4-T3) //Heat added in kJ/kg\n",
"Q2=cv*(T5-T1) //Heat rejected in kJ/kg\n",
"eta=1-Q2/Q1 //Air standard efficiency\n",
"//Results:\n",
"printf('\n The temperature\n\tT1 = %d K\n\tT2 = %d K\n\tT3 = %d K\n\tT4 = %d K\n\tT5 = %d K',T1,T2,T3,T4,T5)\n",
"printf('\n\n The ideal thermal efficiency, eta = %.1f percent\n\n',eta*100)\n",
"//Round off error in the value of 'T5'"
   ]
   }
,
{
		   "cell_type": "markdown",
		   "metadata": {},
		   "source": [
			"## Example 2.18: Calculations_on_dual_combustion_cycle.sce"
		   ]
		  },
  {
"cell_type": "code",
	   "execution_count": null,
	   "metadata": {
	    "collapsed": true
	   },
	   "outputs": [],
"source": [
"//Calculations on dual combustion cycle\n",
"clc,clear\n",
"//Given:\n",
"r=15 //Compression ratio\n",
"P1=1,P3=55 //Pressure at 1, 3 in bar\n",
"T1=27+273 //Temperature at 1 in K\n",
"g=1.4 //Specific heat ratio(gamma)\n",
"cp=1.005 //Specific heat at constant pressure in kJ/kgK\n",
"cv=0.718 //Specific heat at constant volume in kJ/kgK\n",
"//Solution:\n",
"//Refer fig 2.31\n",
"T2=T1*r^(g-1) //Temperature at 2 in K\n",
"P2=P1*r^g //Pressure at 2 in bar\n",
"alpha=P3/P2 //Constant volume pressure ratio\n",
"T3=T2*(P3/P2) //Temperature at 3 in K\n",
"Q1_v=cv*(T3-T2) //Heat supplied at constant volume in kJ/kg\n",
"T4=poly(0,'T4') //Defining temperature at 4 as unknown in K\n",
"//Given, heat supplied at constant volume, Q1_v is twice of heat supplied at constant pressure, Q1_p\n",
"Q1_p=cp*(T4-T3) //Heat supplied at constant pressure in kJ/kg\n",
"T4=roots(Q1_v-2*Q1_p) //Temperature at 4 in K\n",
"rho=T4/T3 //Cut off ratio\n",
"e=r/rho //Expansion ratio\n",
"T5=T4/e^(g-1) //Temperature at 5 in K\n",
"eta=1-(T5-T1)/((T3-T2)+g*(T4-T3)) //Thermal efficiency\n",
"eta=round(100*eta)\n",
"//Results:\n",
"printf('\n The constant volume pressure ratio, alpha = %.2f',alpha)\n",
"printf('\n The cut off ratio, rho = %.2f',rho)\n",
"printf('\n The thermal efficiency of the cycle, eta = %d percent\n\n',eta)"
   ]
   }
,
{
		   "cell_type": "markdown",
		   "metadata": {},
		   "source": [
			"## Example 2.19: Calculations_for_comparision_of_Otto_cycle_and_Diesel_cycle.sce"
		   ]
		  },
  {
"cell_type": "code",
	   "execution_count": null,
	   "metadata": {
	    "collapsed": true
	   },
	   "outputs": [],
"source": [
"//Calculations for comparision of Otto cycle and Diesel cycle\n",
"clc,clear\n",
"//Given:\n",
"n=6 //Number of cylinders\n",
"V_s=300 //Engine swept volume in cm^3 per cylinder\n",
"r=10 //Compression ratio\n",
"N=3500 //Engine speed in rpm\n",
"bp=75 //Brake power in kW\n",
"P1=1 //Pressure at 1 in bar\n",
"T1=15+273 //Temperature at 1 in K (misprint)\n",
"cv=0.718 //Specific heat at constant volume in kJ/kgK\n",
"cp=1.005 //Specific heat at constant pressure in kJ/kgK\n",
"g=1.4 //Specific heat ratio(gamma)\n",
"//Solution:\n",
"//Refer fig 2.32\n",
"//Otto cycle\n",
"eta_o=1-1/r^(g-1) //Cycle efficiency\n",
"Q1=bp/eta_o //Rate of heat addition in kW\n",
"P_o=bp/n //Power output per cylinder in kW\n",
"W_o=P_o/(N/(2*60)) //Work output per cycle per cylinder in kJ\n",
"mep_o=W_o/V_s*10^6/100 //Mean effective pressure in bar\n",
"T2=T1*r^(g-1) //Temperature at 2 in K\n",
"Q1=Q1/(n*N/(2*60)) //Heat supplied per cycle per cylinder in kJ\n",
"R=0.287 //Specific gas constant in kJ/kgK\n",
"v1=R*T1/(P1*100) //Volume of air in m^3/kg\n",
"V1=V_s/(1-1/r)*10^-6 //Volume at 1 in m^3\n",
"m=V1/v1 //Mass of the air in kg\n",
"T3=T2+Q1/(m*cv) //Temperature at 3 in K\n",
"//Diesel cycle\n",
"T3!=T2+Q1/(m*cp) //Temperature at 3 in diesel cycle in K\n",
"rho=T3!/T2 //Cut off ratio for diesel cycle\n",
"eta_d=1-((rho^g-1)/(r^(g-1)*g*(rho-1))) //The air standard efficiency\n",
"Power=eta_d*bp/(eta_o) //Power output in kW\n",
"P_d=Power/n //Power output per cylinder in kW\n",
"W_d=P_d/(N/(2*60)) //Work output per cycle per cylinder in kJ\n",
"mep_d=W_d/V_s*10^6/100 //Mean effective pressure in bar\n",
"//Results:\n",
"printf('\n The rate of heat addition same for both Petrol and Diesel engine, Q1 = %.1f kW',bp/eta_o)\n",
"printf('\n For Petrol engine\n\t Cycle efficiency, eta = %.3f\n\t Mean effective pressure, mep = %.2f bar\n\t The maximum temperature of the cycle, Tmax = %.0f K',eta_o,mep_o,T3)\n",
"printf('\n For Diesel engine\n\t Cycle efficiency, eta = %.2f\n\t Mean effective pressure, mep = %.2f bar\n\t The maximum temperature of the cycle, Tmax = %.0f K\n\t Power output = %.1f kW',eta_d,mep_d,T3!,Power)"
   ]
   }
,
{
		   "cell_type": "markdown",
		   "metadata": {},
		   "source": [
			"## Example 2.1: Calculations_on_Carnot_engine.sce"
		   ]
		  },
  {
"cell_type": "code",
	   "execution_count": null,
	   "metadata": {
	    "collapsed": true
	   },
	   "outputs": [],
"source": [
"//Calculations on Carnot engine\n",
"clc,clear\n",
"//Given:\n",
"T2=27+273 //Temperature of cooling pond in K\n",
"eta=30 //Efficiency in percent\n",
"Q2=200 //Heat received by cooling pond in kJ/s\n",
"//Solution:\n",
"//Since, eta = (Q1-Q2)/Q1 = (T1-T2)/T1\n",
"T1=T2/(1-(eta/100)) //Temperature of heat source in K\n",
"Q1=Q2/(1-(eta/100)) //Heat supplied by source in kJ/s\n",
"Power=round(Q1-Q2) //Power of engine in kJ/s\n",
"//Results:\n",
"printf('\n Temperature of heat source, T1 = %.1f degreeC',T1-273)\n",
"printf('\n Power of engine = %d kW\n\n',Power)"
   ]
   }
,
{
		   "cell_type": "markdown",
		   "metadata": {},
		   "source": [
			"## Example 2.20: Calculations_for_Otto_cycle_and_Limited_pressure_cycle.sce"
		   ]
		  },
  {
"cell_type": "code",
	   "execution_count": null,
	   "metadata": {
	    "collapsed": true
	   },
	   "outputs": [],
"source": [
"//Calculations for Otto cycle and Limited pressure cycle\n",
"clc,clear\n",
"//Given:\n",
"r=10 //Compression ratio\n",
"P1=1 //Pressure at 1 in bar\n",
"T1=40+273 //Temperature at 1 in K\n",
"Q1=2700 //Heat added in kJ\n",
"//Solution:\n",
"//Refer fig 2.33\n",
"g=1.4 //Specific heat ratio(gamma)\n",
"R=0.287 //Specific gas constant in kJ/kgK\n",
"cp=1.005 //Specific heat at constant pressure in kJ/kgK\n",
"V1=1*R*T1/(P1*100) //Volume at 1 in m^3/kg\n",
"V5=V1 //Volume at 5 in m^3/kg\n",
"V2=V1/r //Volume at 2 in m^3/kg\n",
"V3=V2 //Volume at 3 in m^3/kg\n",
"V_s=V1-V2 //Swept volume in m^3/kg\n",
"T2=T1*r^(g-1) //Temperature at 2 in K\n",
"P2=P1*r^g //Pressure at 2 in bar\n",
"//(a)Limited-pressure cycle\n",
"P3=70 //Limited maximum pressure in bar\n",
"T3=T2*(P3/P2) //Temperature at 3 in K\n",
"cv=0.718 //Specific heat at constant volume in kJ/kgK\n",
"Q_v=cv*(T3-T2) //Heat supplied at constant volume in kJ\n",
"Q_p=Q1-Q_v //Heat supplied at constant pressure in kJ\n",
"T4=Q_p/cp+T3 //Temperature at 4 in K\n",
"V4=V3*(T4/T3) //Volume at 4 in m^3/kg\n",
"T5=T4*(V4/V5)^(g-1) //Temperature at 5 in K\n",
"Q2=cv*(T5-T1) //Heat rejected in kJ/kg\n",
"W=Q1-Q2 //Work done in kJ/kg\n",
"eta1=W/Q1 //Efficiency of Limited pressure cycle\n",
"mep1=W/(V_s*100) //Mean effective pressure in bar\n",
"//(b)Constant volume cycle\n",
"//All the heat is supplied at constant volume in constant volume cycle\n",
"T6=Q1/cv+T2 //Temperature at 6 in K\n",
"P6=P2*T6/T2 //Pressure at 6 in bar\n",
"T7=T6*(1/r)^(g-1) //Temperature at 7 in K\n",
"Q2=cv*(T7-T1) //Heat rejected in kJ/kg\n",
"W=Q1-Q2 //Work done in kJ/kg\n",
"eta2=W/Q1 //Efficiency of constant volume cycle\n",
"mep2=W/(V_s*100) //Mean effective pressure in bar\n",
"//If gases expanded isentropically to their original pressure of 1 bar, this point is named as 8\n",
"P8=P1 //Pressure at 8 in bar\n",
"T8=T6*(P8/P6)^((g-1)/g) //Temperature at 8 in K\n",
"Q3=cp*(T8-T1) //Heat rejected at constant pressure in kJ/kg\n",
"W_inc=Q2-Q3 //Work increased if gas expanded isentropically in kJ/kg\n",
"//Results:\n",
"printf('\n (a)For Limited pressure cycle\n\t The mean effective pressure, mep = %.2f bar\n\t The thermal efficiency, eta = %.1f percent',mep1,eta1*100)\n",
"printf('\n\n (a)For Constant volume cycle\n\t The mean effective pressure, mep = %.1f bar\n\t The thermal efficiency, eta = %.1f percent',mep2,eta2*100)\n",
"printf('\n\n   Additional work per kg of charge = %.1f kJ\n\n',W_inc)"
   ]
   }
,
{
		   "cell_type": "markdown",
		   "metadata": {},
		   "source": [
			"## Example 2.21: Calculations_for_comparision_of_Atkinson_and_Otto_cycle.sce"
		   ]
		  },
  {
"cell_type": "code",
	   "execution_count": null,
	   "metadata": {
	    "collapsed": true
	   },
	   "outputs": [],
"source": [
"//Calculations for comparison of Atkinson and Otto cycle\n",
"clc,clear\n",
"//Given:\n",
"r=6 //Compression ratio\n",
"P1=1,P3=20 //Pressure at 1, 3 in bar\n",
"T1=27+273 //Temperature at 1 in K\n",
"g=1.4 //Specific heat ratio(gamma)\n",
"//Solution:\n",
"//Refer fig 2.34\n",
"eta_otto=1-1/r^(g-1) //Efficiency of Otto cycle (printing error)\n",
"//For Atkinson cycle\n",
"e=(P3/P1)^g //Expansion ratio\n",
"eta_atk=1-g*(e-r)/(e^g-r^g) //Efficiency of Atkinson cycle\n",
"//Results:\n",
"printf('\n Efficiency of Otto cycle = %.2f percent',eta_otto*100)\n",
"printf('\n Efficiency of Atkinson cycle = %.1f percent\n\n',eta_atk*100)\n",
"//Answer in the book is printed wrong"
   ]
   }
,
{
		   "cell_type": "markdown",
		   "metadata": {},
		   "source": [
			"## Example 2.22: Calculations_on_Joule_cycle.sce"
		   ]
		  },
  {
"cell_type": "code",
	   "execution_count": null,
	   "metadata": {
	    "collapsed": true
	   },
	   "outputs": [],
"source": [
"//Calculations on Joule cycle\n",
"clc,clear\n",
"//Given:\n",
"P1=1.02,P2=6.12 //Pressure at 1, 2 in bar\n",
"T1=15+273,T3=800+273 //Temperature at 1, 3 in K\n",
"g=1.4 //Specific heat ratio(gamma)\n",
"cp=1.005 //Specific heat at constant pressure in kJ/kgK\n",
"//Solution:\n",
"//Refer fig 2.18\n",
"r_p=P2/P1 //pressure ratio\n",
"eta=1-1/r_p^((g-1)/g) //Thermal efficiency\n",
"r_w=1-(T1/T3)*r_p^((g-1)/g) //Work ratio\n",
"//Results:\n",
"printf('\n The thermal efficiency, eta = %.1f percent',eta*100)\n",
"printf('\n The work ratio, r_w = %.2f\n\n',r_w)"
   ]
   }
,
{
		   "cell_type": "markdown",
		   "metadata": {},
		   "source": [
			"## Example 2.2: Calculations_on_the_Carnot_cycle.sce"
		   ]
		  },
  {
"cell_type": "code",
	   "execution_count": null,
	   "metadata": {
	    "collapsed": true
	   },
	   "outputs": [],
"source": [
"//Calculations on the Carnot cycle\n",
"clc,clear\n",
"//Given:\n",
"T3=800+273,T1=15+273 //Temperature of a hot and cold reservoir in K\n",
"P3=210,P1=1 //Maximum and minimum pressure in bar\n",
"//Solution:\n",
"//Refer fig 2.21\n",
"eta_carnot=1-(T1/T3) //Efficiency of Carnot cycle\n",
"T4=T3 //Isothermal process 3-4\n",
"g=1.4 //Specific heat ratio(gamma)\n",
"P4=P1*(T4/T1)^(g/(g-1)) //Initial pressure of isentropic process 4-1 in bar\n",
"R=0.287 //Specific gas constant in kJ/kgK\n",
"Q3_4=R*T3*log(P3/P4) //Heat supplied in kJ/kg\n",
"W3_4=Q3_4 //Work supplied in kJ/kg\n",
"Net_work=eta_carnot*Q3_4 //Net work output in kJ/kg\n",
"cv=0.718 //Specific heat at constant volume in kJ/kgK\n",
"W4_1=cv*(T4-T1) //Work for isentropic process in kJ/kg\n",
"Gross_work=W3_4+W4_1 //Gross work supplied in kJ/kg\n",
"work_ratio=Net_work/Gross_work //Work ratio\n",
"//Results:\n",
"printf('\n The efficiency of the Carnot cycle, eta_carnot = %.1f percent',eta_carnot*100)\n",
"printf('\n The work ratio of the Carnot cycle = %.3f\n\n',work_ratio)"
   ]
   }
,
{
		   "cell_type": "markdown",
		   "metadata": {},
		   "source": [
			"## Example 2.3: Calculation_of_air_standard_efficiency_of_Otto_cycle.sce"
		   ]
		  },
  {
"cell_type": "code",
	   "execution_count": null,
	   "metadata": {
	    "collapsed": true
	   },
	   "outputs": [],
"source": [
"//Calculation of air standard efficiency of Otto cycle\n",
"clc,clear\n",
"//Given:\n",
"d=17,l=30 //Bore and stroke in cm\n",
"V_c=0.001025 //Clearance volume in m^3\n",
"//Solution:\n",
"V_s=(%pi/4)*d^2*l //Swept volume in cc\n",
"V_c=V_c*10^6 //Clearance volume in cc\n",
"V=V_c+V_s //Total cylinder volume in cc\n",
"r=V/V_c //Compression ratio\n",
"g=1.4 //Specific heat ratio(gamma)\n",
"eta=1-1/r^(g-1) //Air standard efficiency\n",
"//Results:\n",
"printf('\n The Air standard efficiency of Otto cycle, eta = %.1f percent\n\n',eta*100)"
   ]
   }
,
{
		   "cell_type": "markdown",
		   "metadata": {},
		   "source": [
			"## Example 2.4: Calculations_on_constant_volume_cycle.sce"
		   ]
		  },
  {
"cell_type": "code",
	   "execution_count": null,
	   "metadata": {
	    "collapsed": true
	   },
	   "outputs": [],
"source": [
"//Calculations on constant volume cycle\n",
"clc,clear\n",
"//Given:\n",
"P1=97 //Pressure at the beginning(1) in kN/m^2\n",
"T1=40+273 //Temperature at the beginning(1) in K\n",
"r=7 //Compression ratio\n",
"Q=1200 //Heat supplied in kJ/kg\n",
"g=1.4 //Specific heat ratio(gamma)\n",
"cv=0.718 //Specific heat at constant volume in kJ/kgK\n",
"//Solution:\n",
"//(a)\n",
"T2=T1*(r)^(g-1),T3=round(Q/cv+T2) //Temperature at 2, 3 in K\n",
"//(b)\n",
"eta=1-1/r^(g-1) //Thermal efficiency\n",
"//(c)\n",
"W=Q*eta //Workdone per cycle in kJ/kg\n",
"//Results:\n",
"printf('\n (a)The maximum temperature attained in the cycle, T3 = %d degreeC',T3-273)\n",
"printf('\n (b)The thermal efficiency of the cycle, eta = %.1f percent',eta*100)\n",
"printf('\n (c)The workdone during the cycle/kg of working fluid, W = %d kJ\n\n',W)"
   ]
   }
,
{
		   "cell_type": "markdown",
		   "metadata": {},
		   "source": [
			"## Example 2.5: Calculations_on_Otto_cycle.sce"
		   ]
		  },
  {
"cell_type": "code",
	   "execution_count": null,
	   "metadata": {
	    "collapsed": true
	   },
	   "outputs": [],
"source": [
"//Calculations on Otto cycle\n",
"clc,clear\n",
"//Given:\n",
"r=8 //Compression ratio\n",
"P1=1,P3=50 //Pressure at 1, 3 in bar\n",
"T1=100+273 //Temperature at 1 in K\n",
"m=1 //Air flow in kg\n",
"R=0.287 //Specific gas constant in kJ/kgK\n",
"g=1.4 //Specific heat ratio(gamma)\n",
"//Solution:\n",
"//Refer fig 2.22\n",
"//Point 1\n",
"V1=m*R*10^3*T1/(P1*10^5) //Ideal gas equation, Volume at 1 in m^3\n",
"//Point 2\n",
"P2=P1*r^g //Pressure at 2 in bar\n",
"V2=V1/r //Volume at 2 in m^3\n",
"T2=P2*V2*T1/(P1*V1) //Temperature at 2 in K\n",
"//Point 3\n",
"V3=V2 //Constant volume process, Volume at 3 in m^3\n",
"T3=(P3/P2)*T2 //Temperature at 3 in K (Wrong in book)\n",
"//Point 4\n",
"P4=P3*(1/r)^g //Pressure at 4 in bar\n",
"V4=V1 //Constant volume process, Volume at 4 in m^3\n",
"T4=T1*(P4/P1) //Temperature at 4 in K\n",
"cv=R/(g-1) //Specific heat at constant volume in kJ/kgK\n",
"ratio=(cv*(T3-T2))/(cv*(T4-T1)) //Ratio of heat supplied to the heat rejected (Round off error)\n",
"//Results:\n",
"printf('\n Point 1:\n Pressure = %d bar, Volume = %.4f m^3, Temperature = %d degreeC',P1,V1,T1-273)\n",
"printf('\n\n Point 2:\n Pressure = %.1f bar, Volume = %.4f m^3, Temperature = %.1f degreeC',P2,V2,T2-273)\n",
"printf('\n\n Point 3:\n Pressure = %.1f bar, Volume = %.4f m^3, Temperature = %.1f degreeC',P3,V3,T3-273)\n",
"printf('\n\n Point 4:\n Pressure = %.2f bar, Volume = %.4f m^3, Temperature = %.1f degreeC',P4,V4,T4-273)\n",
"printf('\n\n Ratio of heat supplied to the heat rejected = %.3f\n\n',ratio)\n",
"//Textbook answer for T3 is wrong\n",
"//Round off error in the value of 'ratio'"
   ]
   }
,
{
		   "cell_type": "markdown",
		   "metadata": {},
		   "source": [
			"## Example 2.6: Calculations_on_Otto_cycle.sce"
		   ]
		  },
  {
"cell_type": "code",
	   "execution_count": null,
	   "metadata": {
	    "collapsed": true
	   },
	   "outputs": [],
"source": [
"//Calculations on Otto cycle\n",
"clc,clear\n",
"//Given:\n",
"P1=1 //Pressure at 1 in bar\n",
"T1=15+273 //Temperature at 1 in K\n",
"r=8 //Compression ratio\n",
"Q1=1000 //Heat added in kJ/kg\n",
"cv=0.718 //Specific heat at constant volume in kJ/kgK\n",
"g=1.4 //Specific heat ratio(gamma)\n",
"//Solution:\n",
"//Refer fig 2.23\n",
"//(a)\n",
"P2=P1*(r)^g //Pressure at 2 in bar\n",
"T2=T1*r^(g-1) //Temperature at 2 in K\n",
"T3=Q1/cv+T2 //Temperature at 3 in K (Round off error)\n",
"//(b)\n",
"eta=1-1/r^(g-1) //Air standard efficiency\n",
"//(c)\n",
"W=Q1*eta //Work done in kJ/kg (Round off error)\n",
"//(d)\n",
"Q2=Q1-W //Heat rejected in kJ/kg\n",
"//Results:\n",
"printf('\n (a)The maximum temperature in the cycle, T3 = %d degreeC',T3-273)\n",
"printf('\n (b)The air standard efficiency, eta = %.1f percent',eta*100)\n",
"printf('\n (c)The workdone per kg of air = %d kJ/kg',W)\n",
"printf('\n (d)The heat rejected = %d kJ/kg',Q2)\n",
"//Round off error in the values of 'T3' and 'W'"
   ]
   }
,
{
		   "cell_type": "markdown",
		   "metadata": {},
		   "source": [
			"## Example 2.7: Calculations_on_Otto_cycle.sce"
		   ]
		  },
  {
"cell_type": "code",
	   "execution_count": null,
	   "metadata": {
	    "collapsed": true
	   },
	   "outputs": [],
"source": [
"//Calculations on Otto cycle\n",
"clc,clear\n",
"//Given:\n",
"P1=1.05,P2=13,P3=35 //Pressure at 1, 2, 3 in bar\n",
"T1=15+273 //Temperature at 1 in K\n",
"cv=0.718 //Specific heat at constant volume in kJ/kgK\n",
"R=0.287 //Specific gas constant in kJ/kgK\n",
"//Solution:\n",
"r='V1/V2' //Compression ratio\n",
"g=R/cv+1 //Specific heat ratio(gamma)\n",
"r=(P2/P1)^(1/g) //By adiabatic process relation\n",
"eta=1-1/r^(g-1) //Air standard efficiency\n",
"T2=P2*T1/(P1*r) //Temperature at 2 in K\n",
"T3=(P3/P2)*T2 //Temperature at 3 in K\n",
"Q1=cv*(T3-T2) //Heat added in kJ/kg\n",
"W=Q1*eta //Work done in kJ/kg\n",
"V1=1*R*10^3*T1/(P1*10^5) //Ideal gas equation, Volume at 1 in m^3/kg\n",
"V2=V1/r //Volume at 2 in m^3/kg\n",
"V_s=V1-V2 //Swept volume in m^3/kg\n",
"mep=W*1000/(V_s*10^5) //Mean effective pressire in bar\n",
"//Results:\n",
"printf('\n The air standard efficiency, eta = %.1f percent',eta*100)\n",
"printf('\n The compression ratio, r = %d',r)\n",
"printf('\n The mean effective pressure, mep = %.2f bar\n',mep)"
   ]
   }
,
{
		   "cell_type": "markdown",
		   "metadata": {},
		   "source": [
			"## Example 2.8: Calculations_on_Otto_cycle.sce"
		   ]
		  },
  {
"cell_type": "code",
	   "execution_count": null,
	   "metadata": {
	    "collapsed": true
	   },
	   "outputs": [],
"source": [
"//Calculations on Otto cycle\n",
"clc,clear\n",
"//Given:\n",
"r=8 //Compression ratio\n",
"T1=20+273 //Temperature at 1 in K\n",
"P1=1 //Pressure at 1 in bar\n",
"Q1=1800 //Heat added in kJ/kg\n",
"cv=0.718 //Specific heat at constant volume in kJ/kgK\n",
"g=1.4 //Specific heat ratio(gamma)\n",
"//Solution:\n",
"T2=T1*r^(g-1) //Temperature at 2 in K\n",
"T3=Q1/cv+T2 //Temperature at 3 in K (printing error)\n",
"P2=P1*(r)^g //Pressure at 2 in bar\n",
"P3=P2*(T3/T2) //Pressure at 3 in bar\n",
"T4=T3/r^(g-1) //Temperature at 4 in K\n",
"eta=1-1/r^(g-1) //Air standard efficiency\n",
"W1_2=cv*(T1-T2) //Work done for process 1-2 in kJ/kg\n",
"W3_4=cv*(T3-T4) //Work done for process 3-4 in kJ/kg\n",
"W=W1_2+W3_4 //Net work done for the cycle in kJ/kg\n",
"V1=cv*(g-1)*10^3*T1/(P1*10^5) //Ideal gas equation, Volume at 1 in m^3/kg\n",
"V2=V1/r //Volume at 2 in m^3/kg\n",
"V_s=V1-V2 //Swept volume in m^3/kg\n",
"mep=W*1000/(V_s*10^5) //Mean effective pressire in bar\n",
"//Results:\n",
"printf('\n The maximum temperature, T3 = %d K',T3)\n",
"printf('\n The maximum pressure, P3 = %.1f bar',P3)\n",
"printf('\n The temperature at the end of the expansion process, T4 = %d K',T4)\n",
"printf('\n The air standard efficiency, eta = %.1f percent',eta*100)\n",
"printf('\n The mean effective pressure of the cycle, mep = %.1f bar\n\n',mep)\n",
"//Answers in the book are wrong"
   ]
   }
,
{
		   "cell_type": "markdown",
		   "metadata": {},
		   "source": [
			"## Example 2.9: Calculations_on_Otto_cycle.sce"
		   ]
		  },
  {
"cell_type": "code",
	   "execution_count": null,
	   "metadata": {
	    "collapsed": true
	   },
	   "outputs": [],
"source": [
"//Calculations on Otto cycle\n",
"clc,clear\n",
"//Given:\n",
"power=50 //Internal power in kW\n",
"N=4800 //Engine speed in rpm\n",
"l=80,d=80 //Stroke and bore of engine in mm\n",
"n=4 //Number of cylinders\n",
"V_c=50000 //Clearance volume in mm^3\n",
"delta_P=45 //Pressure rise during combustion in bar\n",
"g=1.4 //Specific heat ratio(gamma)\n",
"//Solution:\n",
"//Refer fig 2.24\n",
"V_s=(%pi/4)*d^2*l //Swept volume in mm^3\n",
"r=(V_c+V_s)/V_c //Compression ratio\n",
"eta=1-1/r^(g-1) //Air standard efficiency\n",
"ideal_mep=eta*delta_P/((g-1)*(r-1)) //Ideal mean effective pressure in bar\n",
"W=power*60*2/(n*N) //Actual work transfer per cycle per cylinder in kJ\n",
"V_s=V_s*1D-9 //Swept volume in m^3\n",
"actual_mep=W*1000/(V_s*10^5) //Actual mean effective pressire in bar\n",
"//Results:\n",
"printf('\n The mean effective pressure of the engine, actual mep = %.2f bar',actual_mep)\n",
"printf('\n The mean effective pressure of the Otto cycle, ideal mep = %.2f bar\n\n',ideal_mep)"
   ]
   }
],
"metadata": {
		  "kernelspec": {
		   "display_name": "Scilab",
		   "language": "scilab",
		   "name": "scilab"
		  },
		  "language_info": {
		   "file_extension": ".sce",
		   "help_links": [
			{
			 "text": "MetaKernel Magics",
			 "url": "https://github.com/calysto/metakernel/blob/master/metakernel/magics/README.md"
			}
		   ],
		   "mimetype": "text/x-octave",
		   "name": "scilab",
		   "version": "0.7.1"
		  }
		 },
		 "nbformat": 4,
		 "nbformat_minor": 0
}
