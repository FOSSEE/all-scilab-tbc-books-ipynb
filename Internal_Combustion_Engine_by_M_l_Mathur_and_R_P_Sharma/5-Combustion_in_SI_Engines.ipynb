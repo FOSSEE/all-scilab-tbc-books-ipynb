{
"cells": [
 {
		   "cell_type": "markdown",
	   "metadata": {},
	   "source": [
       "# Chapter 5: Combustion in SI Engines"
	   ]
	},
{
		   "cell_type": "markdown",
		   "metadata": {},
		   "source": [
			"## Example 5.1: Calculation_of_optimum_spark_timing.sce"
		   ]
		  },
  {
"cell_type": "code",
	   "execution_count": null,
	   "metadata": {
	    "collapsed": true
	   },
	   "outputs": [],
"source": [
"//Calculation of optimum spark timing\n",
"clc,clear\n",
"//Given:\n",
"theta_s=25 //Angle at which spark occured before top dead centre in degrees\n",
"theta_d=3 //Angle at which delay ended before top dead centre in degrees\n",
"theta_c=-12 //Angle at which combustion finish after top dead centre in degrees\n",
"p=15 //Percentage increase of delay period at half closing the throttle\n",
"//Solution:\n",
"DP=theta_s-theta_d //Delay period in degrees\n",
"CP=theta_d-theta_c //Combustion period in degrees\n",
"//(a)Full throttle, half speed\n",
"DA1=DP/2 //Delay angle in degrees\n",
"TP1=DA1+CP //Total period in degrees\n",
"TS1=TP1+theta_c //Time of spark before top dead centre in degrees\n",
"//(b)Half throttle, half speed\n",
"DA2=(DP/2)+(DP/2)*p/100 //Delay angle in degrees\n",
"TP2=DA2+CP //Total period in degrees\n",
"TS2=TP2+theta_c //Time of spark before top dead centre in degrees\n",
"//Results:\n",
"printf('\n (a)Full throttle, half speed\n\t Time of spark before top dead centre is %d degree',TS1)\n",
"printf('\n (a)Half throttle, half speed\n\t Time of spark before top dead centre is %.2f degree\n\n',TS2)"
   ]
   }
],
"metadata": {
		  "kernelspec": {
		   "display_name": "Scilab",
		   "language": "scilab",
		   "name": "scilab"
		  },
		  "language_info": {
		   "file_extension": ".sce",
		   "help_links": [
			{
			 "text": "MetaKernel Magics",
			 "url": "https://github.com/calysto/metakernel/blob/master/metakernel/magics/README.md"
			}
		   ],
		   "mimetype": "text/x-octave",
		   "name": "scilab",
		   "version": "0.7.1"
		  }
		 },
		 "nbformat": 4,
		 "nbformat_minor": 0
}
