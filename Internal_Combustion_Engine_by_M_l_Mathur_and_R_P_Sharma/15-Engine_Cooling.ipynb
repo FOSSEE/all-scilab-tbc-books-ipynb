{
"cells": [
 {
		   "cell_type": "markdown",
	   "metadata": {},
	   "source": [
       "# Chapter 15: Engine Cooling"
	   ]
	},
{
		   "cell_type": "markdown",
		   "metadata": {},
		   "source": [
			"## Example 15.1: Comparison_of_cooling_water_required.sce"
		   ]
		  },
  {
"cell_type": "code",
	   "execution_count": null,
	   "metadata": {
	    "collapsed": true
	   },
	   "outputs": [],
"source": [
"//Comparison of cooling water required\n",
"clc,clear\n",
"//Given:\n",
"bp=100 //Brake power in kW\n",
"deltaT=30 //Temperature raised of water in degreeC\n",
"p_p=30,p_d=26 //Percentage of energy going to coolent in petrol and diesel\n",
"eta_p=26,eta_d=31 //Efficiency of petrol and diesel engine in percent\n",
"s=4.1868 //Specific heat capacity of water in J/kgK\n",
"//Solution:\n",
"//Petrol engine\n",
"CW_p=bp*(p_p/100)/((eta_p/100)*deltaT*s) //Amount of cooling water required in petrol engine in kg/s\n",
"//Diesel engine\n",
"CW_d=bp*(p_d/100)/((eta_d/100)*deltaT*s) //Amount of cooling water required in diesel engine in kg/s\n",
"//Results:\n",
"printf('\n Amount of cooling water required in petrol engine = %d kg/hr',CW_p*3600)\n",
"printf('\n Amount of cooling water required in diesel engine = %.1f kg/hr\n\n',CW_d*3600)"
   ]
   }
],
"metadata": {
		  "kernelspec": {
		   "display_name": "Scilab",
		   "language": "scilab",
		   "name": "scilab"
		  },
		  "language_info": {
		   "file_extension": ".sce",
		   "help_links": [
			{
			 "text": "MetaKernel Magics",
			 "url": "https://github.com/calysto/metakernel/blob/master/metakernel/magics/README.md"
			}
		   ],
		   "mimetype": "text/x-octave",
		   "name": "scilab",
		   "version": "0.7.1"
		  }
		 },
		 "nbformat": 4,
		 "nbformat_minor": 0
}
