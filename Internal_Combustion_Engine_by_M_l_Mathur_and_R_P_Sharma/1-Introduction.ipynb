{
"cells": [
 {
		   "cell_type": "markdown",
	   "metadata": {},
	   "source": [
       "# Chapter 1: Introduction"
	   ]
	},
{
		   "cell_type": "markdown",
		   "metadata": {},
		   "source": [
			"## Example 1.1: Calculation_of_cubic_capacity_and_clearance_volume.sce"
		   ]
		  },
  {
"cell_type": "code",
	   "execution_count": null,
	   "metadata": {
	    "collapsed": true
	   },
	   "outputs": [],
"source": [
"//Calculation of cubic capacity and clearance volume\n",
"clc,clear\n",
"//Given:\n",
"n=4 //Number of cylinders\n",
"d=68/10 //Bore in cm\n",
"l=75/10 //Stroke in cm\n",
"r=8 //Compression ratio\n",
"//Solution:\n",
"V_s=(%pi/4)*d^2*l //Swept volume of one cylinder in cm^3\n",
"cubic_capacity=n*V_s //Cubic capacity in cm^3\n",
"//Since, r = (V_c + V_s)/V_c\n",
"V_c=V_s/(r-1) //Clearance volume in cm^3\n",
"//Results:\n",
"printf('\n The cubic capacity of the engine = %.1f cm^3',cubic_capacity)\n",
"printf('\n The clearance volume of a cylinder, V_c = %.1f cm^3\n\n',V_c)"
   ]
   }
,
{
		   "cell_type": "markdown",
		   "metadata": {},
		   "source": [
			"## Example 1.2: Calculation_of_brake_power_and_friction_power.sce"
		   ]
		  },
  {
"cell_type": "code",
	   "execution_count": null,
	   "metadata": {
	    "collapsed": true
	   },
	   "outputs": [],
"source": [
"//Calculation of brake power and friction power\n",
"clc,clear\n",
"//Given:\n",
"ip=10 //Indicated power in kW\n",
"eta_m=80 //Mechanical efficiency in percent\n",
"//Solution:\n",
"//Since, eta_m = bp/ip\n",
"bp=(eta_m/100)*ip //Brake power in kW\n",
"fp=ip-bp //Friction power in kW\n",
"//Results:\n",
"printf('\n The brake power delivered, bp = %d kW\n',bp)\n",
"printf(' The friction power, fp = %d kW\n\n',fp)"
   ]
   }
,
{
		   "cell_type": "markdown",
		   "metadata": {},
		   "source": [
			"## Example 1.3: Calculation_of_mechanical_efficiency.sce"
		   ]
		  },
  {
"cell_type": "code",
	   "execution_count": null,
	   "metadata": {
	    "collapsed": true
	   },
	   "outputs": [],
"source": [
"//Calculation of mechanical efficiency\n",
"clc,clear\n",
"//Given:\n",
"bp=100 //Brake power at full load in kW\n",
"fp=25 //Frictional power in kW (printing error)\n",
"//Solution:\n",
"eta_m=bp/(bp+fp) //Mechanical efficiency at full load\n",
"//(a)At half load\n",
"bp=bp/2 //Brake power at half load in kW\n",
"eta_m1=bp/(bp+fp) //Mechanical efficiency at half load\n",
"//(b)At quarter load\n",
"bp=bp/2 //Brake power at quarter load in kW\n",
"eta_m2=bp/(bp+fp) //Mechanical efficiency at quarter load\n",
"//Results:\n",
"printf('\n The mechanical efficiency at full load, eta_m = %d percent',eta_m*100)\n",
"printf('\n The mechanical efficiency,\n (a)At half load, eta_m = %.1f percent\n (b)At quarter load, eta_m = %d percent\n\n',eta_m1*100,eta_m2*100)\n",
"//Data in the book is printed wrong"
   ]
   }
,
{
		   "cell_type": "markdown",
		   "metadata": {},
		   "source": [
			"## Example 1.4: Calculations_on_four_stroke_petrol_engine.sce"
		   ]
		  },
  {
"cell_type": "code",
	   "execution_count": null,
	   "metadata": {
	    "collapsed": true
	   },
	   "outputs": [],
"source": [
"//Calculations on four stroke petrol engine\n",
"clc,clear\n",
"//Given:\n",
"bp=35 //Brake power in kW\n",
"eta_m=80 //Mechanical efficiency in percent\n",
"bsfc=0.4 //Brake specific fuel consumption in kg/kWh\n",
"A_F=14/1 //Air-fuel ratio\n",
"CV=43000 //Calorific value in kJ/kg\n",
"//Solution:\n",
"//(a)\n",
"ip=bp*100/eta_m //Indicated power in kW\n",
"//(b)\n",
"fp=ip-bp //Frictional power in kW\n",
"//(c)\n",
"//Since, 1 kWh = 3600 kJ\n",
"eta_bt=1/(bsfc*CV/3600) //Brake thermal efficiency\n",
"//(d)\n",
"eta_it=eta_bt/eta_m*100 //Indicated thermal efficiency\n",
"//(e)\n",
"m_f=bsfc*bp //Fuel consumption in kg/hr\n",
"//(f)\n",
"m_a=A_F*m_f //Air consumption in kg/hr\n",
"//Results:\n",
"printf('\n (a)The indicated power, ip = %.2f kW\n (b)The friction power, fp = %.2f kW',ip,fp)\n",
"printf('\n (c)The brake thermal efficiency, eta_bt = %.1f percent\n (d)The indicated thermal efficiency, eta_it = %.1f percent',eta_bt*100,eta_it*100)\n",
"printf('\n (e)The fuel consumption per hour, m_f = %.1f kg/hr\n (f)The air consumption per hour, m_a = %d kg/hr\n\n',m_f,m_a)"
   ]
   }
,
{
		   "cell_type": "markdown",
		   "metadata": {},
		   "source": [
			"## Example 1.5: Calculations_on_SI_engine.sce"
		   ]
		  },
  {
"cell_type": "code",
	   "execution_count": null,
	   "metadata": {
	    "collapsed": true
	   },
	   "outputs": [],
"source": [
"//Calculations on SI engine\n",
"clc,clear\n",
"//Given:\n",
"F_A=0.07/1 //Fuel-air ratio\n",
"bp=75 //Brake power in kW\n",
"eta_bt=20 //Brake thermal efficiency in percent\n",
"rho_a=1.2 //Density of air in kg/m^3\n",
"rho_f=4*rho_a //Density of fuel vapour in kg/m^3\n",
"CV=43700 //Calorific value of fuel in kJ/kg\n",
"//Solution:\n",
"m_f=bp*3600/(eta_bt*CV/100) //Fuel consumption in kg/hr\n",
"m_a=m_f/F_A //Air consumption in kg/hr\n",
"V_a=m_a/rho_a //Volume of air in m^3/hr\n",
"V_f=m_f/rho_f //Volume of fuel in m^3/hr\n",
"V_mixture=V_f+V_a //Mixture volume in m^3/hr\n",
"//Results:\n",
"printf('\n The air consumption, m_a = %.1f kg/hr',m_a)\n",
"printf('\n The volume of air required, V_a = %.1f m^3/hr',V_a)\n",
"printf('\n The volume of mixture required = %.1f m^3/hr\n\n',V_mixture) //(printing error)\n",
"//Answer in the book is printed wrong"
   ]
   }
,
{
		   "cell_type": "markdown",
		   "metadata": {},
		   "source": [
			"## Example 1.6: Calculations_on_diesel_engine.sce"
		   ]
		  },
  {
"cell_type": "code",
	   "execution_count": null,
	   "metadata": {
	    "collapsed": true
	   },
	   "outputs": [],
"source": [
"//Calculations on diesel engine\n",
"clc,clear\n",
"//Given:\n",
"bp=5 //Brake power in kW\n",
"eta_it=30 //Indicated thermal efficiency in percent\n",
"eta_m=75 //Mechanical efficiency in percent (printing error)\n",
"//Solution:\n",
"ip=bp*100/eta_m //Indicated power in kW\n",
"CV=42000 //Calorific value of diesel(fuel) in kJ/kg\n",
"m_f=ip*3600/(eta_it*CV/100) //Fuel consumption in kg/hr\n",
"//Density of diesel(fuel) = 0.87 kg/l\n",
"rho_f=0.87 //Density of fuel in kg/l\n",
"V_f=m_f/rho_f //Fuel consumption in l/hr\n",
"isfc=m_f/ip //Indicated specific fuel consumption in kg/kWh\n",
"bsfc=m_f/bp //Brake specific fuel consumption in kg/kWh\n",
"//Results:\n",
"printf('\n The fuel consumption of engine, m_f in,\n (a)kg/hr = %.3f kg/hr\n (b)litres/hr = %.2f l/hr',m_f,V_f)\n",
"printf('\n\n (c)Indicated specific fuel consumption, isfc = %.3f kg/kWh',isfc)\n",
"printf('\n (d)Brake specific fuel consumption, bsfc = %.3f kg/kWh\n\n',bsfc)\n",
"//Data in the book is printed wrong"
   ]
   }
,
{
		   "cell_type": "markdown",
		   "metadata": {},
		   "source": [
			"## Example 1.7: Calculations_on_two_stroke_CI_engine.sce"
		   ]
		  },
  {
"cell_type": "code",
	   "execution_count": null,
	   "metadata": {
	    "collapsed": true
	   },
	   "outputs": [],
"source": [
"//Calculations on two stroke CI engine\n",
"clc,clear\n",
"//Given:\n",
"bp=5000 //Brake power in kW\n",
"fp=1000 //Friction power in kW\n",
"m_f=2300 //Fuel consumption in kg/hr\n",
"A_F=20/1 //Air-fuel ratio\n",
"CV=42000 //Calorific value of fuel in kJ/kg\n",
"//Solution:\n",
"//(a)\n",
"ip=bp+fp //Indicated power in kW\n",
"//(b)\n",
"eta_m=bp/ip //Mechanical efficiency\n",
"//(c)\n",
"m_a=A_F*m_f //Air consumption in kg/hr\n",
"//(d)\n",
"eta_it=ip*3600/(m_f*CV) //Indicated thermal efficiency\n",
"//(e)\n",
"eta_bt=eta_it*eta_m //Brake thermal efficiency\n",
"//Results:\n",
"printf('\n (a)The indicated power, ip = %d kW',ip)\n",
"printf('\n (b)The mechanical efficiency, eta_m = %d percent',eta_m*100)\n",
"printf('\n (c)The air consumption, m_a = %d kg/hr',m_a)\n",
"printf('\n (d)The indicated thermal efficiency, eta_it = %.1f percent\n (e)The brake thermal efficiency, eta_bt = %.1f percent\n\n',eta_it*100,eta_bt*100)"
   ]
   }
],
"metadata": {
		  "kernelspec": {
		   "display_name": "Scilab",
		   "language": "scilab",
		   "name": "scilab"
		  },
		  "language_info": {
		   "file_extension": ".sce",
		   "help_links": [
			{
			 "text": "MetaKernel Magics",
			 "url": "https://github.com/calysto/metakernel/blob/master/metakernel/magics/README.md"
			}
		   ],
		   "mimetype": "text/x-octave",
		   "name": "scilab",
		   "version": "0.7.1"
		  }
		 },
		 "nbformat": 4,
		 "nbformat_minor": 0
}
