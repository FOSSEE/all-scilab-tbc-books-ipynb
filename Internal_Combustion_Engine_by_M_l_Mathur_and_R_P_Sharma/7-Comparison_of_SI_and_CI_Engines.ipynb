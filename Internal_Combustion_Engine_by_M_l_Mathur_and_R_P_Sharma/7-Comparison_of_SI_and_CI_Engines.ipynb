{
"cells": [
 {
		   "cell_type": "markdown",
	   "metadata": {},
	   "source": [
       "# Chapter 7: Comparison of SI and CI Engines"
	   ]
	},
{
		   "cell_type": "markdown",
		   "metadata": {},
		   "source": [
			"## Example 7.1: Calculations_for_comparison_of_SI_and_CI_engine.sce"
		   ]
		  },
  {
"cell_type": "code",
	   "execution_count": null,
	   "metadata": {
	    "collapsed": true
	   },
	   "outputs": [],
"source": [
"//Calculations for comparison of SI and CI engine\n",
"clc,clear\n",
"//Given:\n",
"//For SI engine\n",
"F_A1=1/13.5 //Fuel air ratio\n",
"CV1=44000 //Calorific value in kJ/kg\n",
"eta_bt1=25 //Brake thermal efficiency in percent\n",
"m_f1=1 //Fuel consumption in kg/hr\n",
"//For CI engine\n",
"A_F2=25/1 //Air fuel ratio\n",
"CV2=42000 //Calorific value in kJ/kg\n",
"eta_bt2=38 //Brake thermal efficiency in percent\n",
"//Solution:\n",
"//(a)SI engine\n",
"bp1=m_f1*CV1*eta_bt1/(100*3600) //Brake power in kW\n",
"bsfc1=m_f1/bp1 //Brake specific fuel consumption in kg/kWh\n",
"m_a1=bsfc1/F_A1 //Air consumption in kg/kWh\n",
"//(a)CI engine\n",
"m_f2=1 //Fuel consumption in kg/hr\n",
"bp2=m_f2*CV2*eta_bt2/(3600*100) //Brake power in kW\n",
"bsfc2=m_f2/bp2 //Brake specific fuel consumption in kg/kWh\n",
"m_a2=bsfc2*A_F2 //Air consumption in kg/kWh\n",
"//Comparison\n",
"R_bp=bp1/bp2 //Ratio of brake power of SI to CI\n",
"R_bsfc=bsfc1/bsfc2 //Ratio of brake specific fuel consumption of SI to CI\n",
"R_m_a=m_a1/m_a2 //Ratio of fuel consumption of SI to CI\n",
"//Results:\n",
"printf('\n For SI engine\n\tBrake output, bp = %.2f kW/kg of fuel\n\tBrake specific fuel consumption, bsfc = %.3f kg/kWh',bp1,bsfc1)\n",
"printf('\n For CI engine\n\tBrake output, bp = %.1f kW/kg of fuel\n\tBrake specific fuel consumption, bsfc = %.3f kg/kWh',bp2,bsfc2)\n",
"printf('\n The air consumption\n\tfor SI engine, m_a = %.2f kg/kWh\n\tfor CI engine, m_a = %.2f kg/kWh',m_a1,m_a2)\n",
"printf('\n Comparison of SI to CI\n\tbp = %.3f\n\tbsfc = %.3f\n\tair consumption = %.3f\n\n',R_bp,R_bsfc,R_m_a)"
   ]
   }
,
{
		   "cell_type": "markdown",
		   "metadata": {},
		   "source": [
			"## Example 7.2: Calculations_for_comparison_of_SI_and_CI_engine.sce"
		   ]
		  },
  {
"cell_type": "code",
	   "execution_count": null,
	   "metadata": {
	    "collapsed": true
	   },
	   "outputs": [],
"source": [
"//Calculations for comparison of SI and CI engine\n",
"clc,clear\n",
"//Given:\n",
"//For SI engine\n",
"s1=0.72 //Specific gravity of gasoline fuel\n",
"CV1=44800 //Calorific value of gasoline fuel in kJ/kg\n",
"eta_bt1=20 //Brake thermal efficiency in percent\n",
"A_F1=14 //Air fuel ratio\n",
"//For CI engine\n",
"s2=0.87 //Specific gravity of diesel oil\n",
"CV2=43100 //Calorific value of diesel oil in kJ/kg\n",
"eta_bt2=30 //Brake thermal efficiency in percent\n",
"A_F2=21 //Air fuel ratio\n",
"//Solution:\n",
"//SI engine\n",
"bsfc_SI=3600*100/(eta_bt1*CV1) //Brake specific fuel consumption in kg/kWh\n",
"m_a_SI=A_F1*bsfc_SI //Air consumption in kg/kWh\n",
"//CI engine\n",
"bsfc_CI=3600*100/(eta_bt2*CV2) //Brake specific fuel consumption in kg/kWh\n",
"m_a_CI=A_F2*bsfc_CI //Air consumption in kg/kWh\n",
"//Results:\n",
"printf('\n For SI engine\n\tBrake specific fuel consumption, bsfc_SI = %.3f kg/kWh\n\tAir consumption = %.2f kg/kWh',bsfc_SI,m_a_SI)\n",
"printf('\n For CI engine\n\tBrake specific fuel consumption, bsfc_CI = %.3f kg/kWh\n\tAir consumption = %.2f kg/kWh',bsfc_CI,m_a_CI)"
   ]
   }
],
"metadata": {
		  "kernelspec": {
		   "display_name": "Scilab",
		   "language": "scilab",
		   "name": "scilab"
		  },
		  "language_info": {
		   "file_extension": ".sce",
		   "help_links": [
			{
			 "text": "MetaKernel Magics",
			 "url": "https://github.com/calysto/metakernel/blob/master/metakernel/magics/README.md"
			}
		   ],
		   "mimetype": "text/x-octave",
		   "name": "scilab",
		   "version": "0.7.1"
		  }
		 },
		 "nbformat": 4,
		 "nbformat_minor": 0
}
