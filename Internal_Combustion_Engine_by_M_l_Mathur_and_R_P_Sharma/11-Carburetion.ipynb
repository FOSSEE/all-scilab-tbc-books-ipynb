{
"cells": [
 {
		   "cell_type": "markdown",
	   "metadata": {},
	   "source": [
       "# Chapter 11: Carburetion"
	   ]
	},
{
		   "cell_type": "markdown",
		   "metadata": {},
		   "source": [
			"## Example 11.1: Calculation_of_the_throat_diameter.sce"
		   ]
		  },
  {
"cell_type": "code",
	   "execution_count": null,
	   "metadata": {
	    "collapsed": true
	   },
	   "outputs": [],
"source": [
"//Calculation of the throat diameter\n",
"clc,clear\n",
"//Given:\n",
"m_a=5 //Mass of air in kg/min\n",
"P1=1.013 //Pressure of air in bar\n",
"T1=27+273 //Temperature of air in K\n",
"C1=0,C2=90 //Flow velocity at opening and throat in m/s\n",
"Cv=0.8 //Velocity coefficient\n",
"cp=1.005 //Specific heat at constant pressure in kJ/kgK\n",
"g=1.4 //Specific heat ratio(gamma)\n",
"//Solution:\n",
"//Refer fig 11.32\n",
"//Defining, y as a function of P2\n",
"//This function is the difference of C2 actual and C2 given \n",
"function [y]=f(P2)\n",
"    C2_act=0.8*sqrt(2*cp*1000*T1*(1-(P2/P1)^((g-1)/g)))\n",
"    y=C2_act-C2\n",
"endfunction\n",
"funcprot(0);\n",
"//The function f is solve for zero to get the value of P2\n",
"P2=fsolve(1,f) //Pressure at throat in bar\n",
"R=0.287 //Specific gas constant in kJ/kgK\n",
"rho1=P1*100/(R*T1) //Mass density at opening in kg/m^3\n",
"rho2=rho1*(P2/P1)^(1/g) //Mass density at throat in kg/m^3\n",
"A2=m_a/(60*rho2*C2) //Cross section area at throat in m^2\n",
"d2=sqrt(4*A2/%pi) //Diameter of cross section in m\n",
"//Results:\n",
"printf('\n The throat diameter of the choke, d2 = %.2f cm\n\n',d2*100)"
   ]
   }
,
{
		   "cell_type": "markdown",
		   "metadata": {},
		   "source": [
			"## Example 11.2: Calculation_of_throat_diameter_and_orifice_diameter.sce"
		   ]
		  },
  {
"cell_type": "code",
	   "execution_count": null,
	   "metadata": {
	    "collapsed": true
	   },
	   "outputs": [],
"source": [
"//Calculation of throat diameter and orifice diameter\n",
"clc,clear\n",
"//Given:\n",
"m_a=6,m_f=.45 //Mass of air and fuel in kg/min\n",
"rho_f=740 //Density of fuel in kg/m^3\n",
"P1=1.013 //Pressure of air in bar\n",
"T1=27+273 //Temperature of air in K\n",
"C2=92 //Flow velocity at throat in m/s\n",
"Cv=0.8 //Velocity coefficient\n",
"Cd_f=0.60 //Coefficient of discharge of fuel\n",
"cp=1.005 //Specific heat at constant pressure in kJ/kgK\n",
"g=1.4 //Specific heat ratio(gamma)\n",
"//Solution:\n",
"//Defining, y as a function of P2\n",
"//This function is the difference of C2 actual and C2 given \n",
"function [y]=f(P2)\n",
"    C2_act=Cv*sqrt(2*cp*10^3*T1*(1-(P2/P1)^((g-1)/g)))\n",
"    y=C2_act-C2\n",
"endfunction\n",
"funcprot(0);\n",
"//The function f is solve for zero to get the value of P2\n",
"P2=fsolve(1,f) //Pressure at throat in bar\n",
"R=0.287 //Specific gas constant in kJ/kgK\n",
"rho1=P1*100/(R*T1) //Mass density at opening in kg/m^3\n",
"rho2=rho1*(P2/P1)^(1/g) //Mass density at throat in kg/m^3\n",
"A2=m_a/(60*rho2*C2) //Cross section area at throat in m^2\n",
"d2=sqrt(4*A2/%pi) //Diameter of cross section in m\n",
"deltaP_v=P1-P2 //Pressure drop at venturi in bar\n",
"deltaP_f=0.75*deltaP_v //Given, Pressure drop at fuel metering orifice in bar\n",
"A_f=m_f/(60*Cd_f*sqrt(2*rho_f*deltaP_f*10^5)) //Area of cross section of fuel nozzle in m^2\n",
"d_f=sqrt(4*A_f/%pi) //Diameter of cross section of fuel nozzle in m\n",
"//Results:\n",
"printf('\n The throat diameter of the choke, d2 = %.3f cm',d2*100)\n",
"printf('\n The orifice diameter, d_f = %.2f mm\n\n',d_f*1000)"
   ]
   }
,
{
		   "cell_type": "markdown",
		   "metadata": {},
		   "source": [
			"## Example 11.3: Calculation_of_suction_at_throat.sce"
		   ]
		  },
  {
"cell_type": "code",
	   "execution_count": null,
	   "metadata": {
	    "collapsed": true
	   },
	   "outputs": [],
"source": [
"//Calculation of suction at throat\n",
"clc,clear\n",
"//Given:\n",
"d=10,l=12 //Bore and stroke in cm\n",
"n=4 //Number of cylinders\n",
"N=2000 //Speed of engine in rpm\n",
"d2=3 //Diameter of throat in cm\n",
"eta_vol=70 //Volumetric efficiency\n",
"rho_a=1.2 //Density of air in kg/m^3\n",
"Cd_a=0.8 //Coefficient of discharge for air\n",
"//Solution:\n",
"V_s=(%pi/4)*d^2*l*n*10^-6 //Swept volume of engine in m^3\n",
"V_act=eta_vol*V_s*N/(2*100*60) //Actual volume sucked in m^3/s\n",
"m_a=V_act*rho_a //Mass of air sucked in kg/s\n",
"deltaP_v=(m_a*4/(Cd_a*%pi*d2^2*10^-4))^2/(2*rho_a) //Pressure drop at venturi in pascal\n",
"//Results:\n",
"printf('\n The suction at the throat = %.4f bar\n\n',deltaP_v/10^5)\n",
"//Answer in the book is wrong"
   ]
   }
,
{
		   "cell_type": "markdown",
		   "metadata": {},
		   "source": [
			"## Example 11.4: Calculation_of_the_diameter_of_fuel_jet.sce"
		   ]
		  },
  {
"cell_type": "code",
	   "execution_count": null,
	   "metadata": {
	    "collapsed": true
	   },
	   "outputs": [],
"source": [
"//Calculation of the diameter of fuel jet\n",
"clc,clear\n",
"//Given:\n",
"m_f=7.5 //Mass of fuel in kg/hr\n",
"s=0.75 //Specific gravity of the fuel\n",
"T1=25+273 //Temperature of air in K\n",
"A_F=15 //Air fuel ratio\n",
"d=22 //Diameter of choke tube in mm\n",
"z=4 //Elevation of the jet in mm\n",
"Cd_a=0.82,Cd_f=0.7 //Coefficient of discharge for air and fuel\n",
"P1=1.013 //Pressure of air in bar\n",
"g=9.81 //Accelaration due to gravity in m/s^2\n",
"//Solution:\n",
"R=0.287 //Specific gas constant in kJ/kgK\n",
"rho_a=P1*100/(R*T1) //Mass density of air in kg/m^3\n",
"rho_f=s*1000 //Mass density of fuel in kg/m^3\n",
"m_a=A_F*m_f/3600 //Mass of air in kg/s\n",
"deltaP_v=(m_a*4/(Cd_a*%pi*d^2*10^-6))^2/(2*rho_a) //Pressure drop at venturi in pascal\n",
"A_f=m_f/(3600*Cd_f*sqrt(2*rho_f*(deltaP_v-z*10^-3*g*rho_f))) //Area of cross section of fuel nozzle in m^2\n",
"d_f=sqrt(4*A_f/%pi) //Diameter of cross section of fuel nozzle in m\n",
"//Results:\n",
"printf('\n The diameter of the fuel jet of a simple carburettor, d_f = %.3f mm\n\n',d_f*1000)\n",
"//Answer in the book is wrong"
   ]
   }
,
{
		   "cell_type": "markdown",
		   "metadata": {},
		   "source": [
			"## Example 11.5: Calculations_on_carburettor.sce"
		   ]
		  },
  {
"cell_type": "code",
	   "execution_count": null,
	   "metadata": {
	    "collapsed": true
	   },
	   "outputs": [],
"source": [
"//Calculations on carburettor\n",
"clc,clear\n",
"//Given:\n",
"V_s=1489 //Capacity of the engine in cc\n",
"N=4200 //Speed of the engine in rpm\n",
"eta_v=70 //Volumetric efficiency\n",
"A_F=13 //Air fuel ratio\n",
"C2=90 //Flow velocity at throat in m/s\n",
"Cd_a=0.85,Cd_f=0.66 //Coefficient of discharge for air and fuel\n",
"s=0.74 //Specific gravity of the fuel\n",
"z=6 //Elevation of the jet in mm\n",
"P1=1.013 //Pressure of air in bar\n",
"T1=27+273 //Temperature of air in K\n",
"g=1.4 //Specific heat ratio(gamma)\n",
"cp=1.005 //Specific heat at constant pressure in kJ/kgK\n",
"//Solution:\n",
"V_s=V_s*10^-6 //Swept volume in m^3\n",
"V_act=eta_v*V_s*N/(2*100*60) //Actual volume sucked in m^3/s\n",
"R=0.287 //Specific gas constant in kJ/kgK\n",
"m_a=P1*10^5*V_act/(R*10^3*T1) //Mass of air sucked in kg/s\n",
"//Defining, y as a function of P2\n",
"//This function is the difference of C2 actual and C2 given \n",
"function [y]=f(P2)\n",
"    C2_act=sqrt(2*cp*10^3*T1*(1-(P2/P1)^((g-1)/g)))\n",
"    y=C2_act-C2\n",
"endfunction\n",
"funcprot(0);\n",
"//The function f is solve for zero to get the value of P2\n",
"P2=fsolve(1,f) //Pressure at throat in bar\n",
"V2=V_act*(P1/P2)^(1/g) //Volume at throat in m^3/s\n",
"A2=V2/(C2*Cd_a) //Cross section area at throat in m^2\n",
"d2=poly(0,'d2') //Defining the diameter of choke as unknown in m\n",
"d_f=d2/2.5 //Given\n",
"d2=roots(%pi/4*(d2^2-d_f^2)-A2) //Diameter of choke in m\n",
"m_f=m_a/A_F //Mass of fuel sucked in kg/s\n",
"A_f=m_f/(Cd_f*sqrt(2*s*1000*(P1*10^5-P2*10^5-z*10^-3*9.81*s*1000))) //Area of cross section of fuel nozzle in m^2\n",
"d_f=sqrt(4*A_f/%pi) //Diameter of cross section of fuel nozzle in m\n",
"//Results:\n",
"printf('\n The diameter of the fuel jet of a simple carburettor, D_jet = %.2f mm\n\n',d_f*1000)"
   ]
   }
,
{
		   "cell_type": "markdown",
		   "metadata": {},
		   "source": [
			"## Example 11.6: Calculations_on_carburettor.sce"
		   ]
		  },
  {
"cell_type": "code",
	   "execution_count": null,
	   "metadata": {
	    "collapsed": true
	   },
	   "outputs": [],
"source": [
"//Calculations on carburettor\n",
"clc,clear\n",
"//Given:\n",
"V_s=1710 //Capacity of the engine in cc\n",
"N=5400 //Speed of the engine in rpm\n",
"eta_vol=70 //Volumetric efficiency\n",
"n=2 //Number of carburettor\n",
"A_F=13 //Air fuel ratio\n",
"C2=107 //Flow velocity at throat in m/s\n",
"Cd_a=0.85,Cd_f=0.66 //Coefficient of discharge for air and fuel\n",
"s=0.75 //Specific gravity of the fuel\n",
"z=6 //Elevation of the jet in mm\n",
"P1=1.013 //Pressure of air in bar\n",
"T1=27+273 //Temperature of air in K\n",
"g=1.4 //Specific heat ratio(gamma)\n",
"cp=1.005 //Specific heat at constant pressure in kJ/kgK\n",
"//Solution:\n",
"V_s=V_s*10^-6 //Swept volume in m^3\n",
"V_act=eta_vol*V_s*N/(2*100*60) //Actual volume sucked in m^3/s\n",
"V_act=V_act/n //Actual volume of air sucked through each carburettor in m^3/s\n",
"R=0.287 //Specific gas constant in kJ/kgK\n",
"m_a=P1*10^5*V_act/(R*10^3*T1) //Mass of air sucked in kg/s\n",
"//Defining, y as a function of P2\n",
"//This function is the difference of C2 actual and C2 given\n",
"function [y]=f(P2)\n",
"    C2_act=sqrt(2*cp*10^3*T1*(1-(P2/P1)^((g-1)/g)))\n",
"    y=C2_act-C2\n",
"endfunction\n",
"funcprot(0);\n",
"//The function f is solve for zero to get the value of P2\n",
"P2=fsolve(1,f) //Pressure at throat in bar\n",
"V2=V_act*(P1/P2)^(1/g) //Volume at throat in m^3/s\n",
"A2=V2/(C2*Cd_a) //Cross section area at throat in m^2\n",
"d2=poly(0,'d2') //Defining the diameter of choke as unknown in m\n",
"d_f=d2/2.5 //Given\n",
"d2=roots(%pi/4*(d2^2-d_f^2)-A2) //Diameter of choke in m\n",
"m_f=m_a/A_F //Mass of fuel sucked in kg/s\n",
"A_f=m_f/(Cd_f*sqrt(2*s*1000*(P1*10^5-P2*10^5-z*10^-3*9.81*s*1000))) //Area of cross section of fuel nozzle in m^2\n",
"d_f=sqrt(4*A_f/%pi) //Diameter of cross section of fuel nozzle in m\n",
"//Results:\n",
"printf('\n The diameter of the choke tube, D = %.2f cm',d2(1)*100)\n",
"printf('\n The diameter of the fuel jet of a simple carburettor, D_f = %.2f mm\n\n',d_f*1000)"
   ]
   }
,
{
		   "cell_type": "markdown",
		   "metadata": {},
		   "source": [
			"## Example 11.7: Change_in_air_fuel_ratio_at_altitude.sce"
		   ]
		  },
  {
"cell_type": "code",
	   "execution_count": null,
	   "metadata": {
	    "collapsed": true
	   },
	   "outputs": [],
"source": [
"//Change in air fuel ratio at altitude\n",
"clc,clear\n",
"//Given:\n",
"ha=5000 //Altitude in m\n",
"A_F=14 //Air fuel ratio at sea level\n",
"P1=1.013 //Pressure of air in bar at sea level\n",
"T1=27+273 //Temperature of air in K at sea level\n",
"R=0.287 //Specific gas constant in kJ/kgK\n",
"function t=f1(h),t=ts-0.0065*h,endfunction //Temperature(t in degreeC) as a function of altitude(h in m) \n",
"function h=f2(P),h=19200*log10(1.013/P),endfunction //Altitude(h in m) as a function of pressure(P in bar)\n",
"//Solution:\n",
"ts=T1-273 //Sea level temperature in degreeC\n",
"T2=f1(ha) //Temperature at altitude(ha = 5000 m) in degreeC\n",
"T2=T2+273 //in K\n",
"//Defining, y as a function of P\n",
"//This function is the difference of function(f2) and ha given\n",
"function y=f(P),y=f2(P)-ha,endfunction\n",
"//The function f is solve for zero to get the value of P2\n",
"P2=fsolve(1,f) //Pressure at altitude(ha = 5000 m) in bar\n",
"rho_a=P2/(R*T2) //Density of air at altitude in kg/m^3\n",
"rho_s=P1/(R*T1) //Density of air at sea level in kg/m^3\n",
"A_F_a=A_F*sqrt(rho_a/rho_s) //Air fuel ratio at altitude\n",
"//Results:\n",
"printf('\n The air fuel ratio supplied at 5000 m altitude by a carburettor = %.2f\n\n',A_F_a)"
   ]
   }
,
{
		   "cell_type": "markdown",
		   "metadata": {},
		   "source": [
			"## Example 11.8: Calculation_of_air_fuel_ratio.sce"
		   ]
		  },
  {
"cell_type": "code",
	   "execution_count": null,
	   "metadata": {
	    "collapsed": true
	   },
	   "outputs": [],
"source": [
"//Calculation of air fuel ratio\n",
"clc,clear\n",
"//Given:\n",
"d2=20,d_f=1.25 //Diameter of throat and fuel nozzle in mm\n",
"Cd_a=0.85,Cd_f=0.66 //Coefficient of discharge for air and fuel\n",
"z=5 //Elevation of the jet in mm\n",
"rho_a=1.2,rho_f=750 //Mass density of air and fuel in kg/m^3\n",
"deltaP_a=0.07 //Pressure drop of air in bar\n",
"g=9.806 //Accelaration due to gravity in m/s^2\n",
"//Solution:\n",
"//(a)Nozzle lip is neglected\n",
"A_f=(%pi/4)*d_f^2,A2=(%pi/4)*d2^2 //Area of cross section of fuel nozzle and venturi in mm^2\n",
"m_a1=Cd_a*A2*sqrt(2*rho_a*deltaP_a),m_f1=Cd_f*A_f*sqrt(2*rho_f*deltaP_a) //Air flow and fuel flow\n",
"A_F1=m_a1/m_f1 //Air fuel ratio\n",
"//(b)Nozzle lip is taken into account\n",
"m_a2=m_a1 //Air flow remain same\n",
"m_f2=Cd_f*A_f*sqrt(2*rho_f*(deltaP_a-z*10^-3*g*rho_f*10^-5)) //Fuel flow\n",
"A_F2=m_a2/m_f2 //Air fuel ratio\n",
"//(c)Minimum velocity required to start the fuel flow when nozzle lip is provided\n",
"//To just start the fuel flow pressure difference in venturi must be equivalent to the nozzle lip pressure\n",
"deltaP_a=z*10^-3*g*rho_f //Pressure difference in N/m^2\n",
"C2=sqrt(2*deltaP_a/rho_a) //Minimum velocity of air at throat in m/s\n",
"//Results:\n",
"printf('\n The air fuel ratio when the nozzle lip is neglected = %.1f',A_F1)\n",
"printf('\n The air fuel ratio when the nozzle lip is taken into account = %.3f',A_F2)\n",
"printf('\n The minimum velocity required to start the fuel flow when lip is provided = %.2f m/s',C2)"
   ]
   }
,
{
		   "cell_type": "markdown",
		   "metadata": {},
		   "source": [
			"## Example 11.9: Effect_of_air_cleaner.sce"
		   ]
		  },
  {
"cell_type": "code",
	   "execution_count": null,
	   "metadata": {
	    "collapsed": true
	   },
	   "outputs": [],
"source": [
"//Effect of air cleaner\n",
"clc,clear\n",
"//Given:\n",
"A_F=14 //Air fuel ratio at sea level\n",
"P2=0.834 //Pressure at venturi throat without an air cleaner in bar\n",
"P1=1.013 //Pressure of air in bar at sea level\n",
"deltaP_ac=30 //Pressure drop to air cleaner in mm of mercury\n",
"m_a=250 //Air flow in kg/hr\n",
"//Solution:\n",
"//No air cleaner\n",
"deltaP_a1=P1-P2 //Pressure difference at venturi throat in bar\n",
"//When air cleaner is fitted\n",
"deltaP_ac=deltaP_ac/750 //Pressure drop to air cleaner in bar\n",
"p=poly(0,'p') //Defining pressure at venturi throat with an air cleaner as unknown in bar\n",
"deltaP_a2=P1-deltaP_ac-p //Pressure difference at venturi throat in bar\n",
"//For same air flow and constant coefficients pressure difference in above two cases is same\n",
"p=roots(deltaP_a2-deltaP_a1) //Pressure at venturi throat with an air cleaner in bar\n",
"deltaP_f=P1-p //Pressure difference at venturi throat when air cleaner is fitted in bar\n",
"A_F_f=A_F*sqrt(deltaP_a1/deltaP_f) //Air fuel ratio when air cleaner is fitted\n",
"//Results:\n",
"printf('\n (a)The throat pressure when the air cleaner is fitted, P = %.3f bar',p)\n",
"printf('\n (b)Air fuel ratio with air cleaner is fitted = %.2f\n\n',A_F_f)"
   ]
   }
],
"metadata": {
		  "kernelspec": {
		   "display_name": "Scilab",
		   "language": "scilab",
		   "name": "scilab"
		  },
		  "language_info": {
		   "file_extension": ".sce",
		   "help_links": [
			{
			 "text": "MetaKernel Magics",
			 "url": "https://github.com/calysto/metakernel/blob/master/metakernel/magics/README.md"
			}
		   ],
		   "mimetype": "text/x-octave",
		   "name": "scilab",
		   "version": "0.7.1"
		  }
		 },
		 "nbformat": 4,
		 "nbformat_minor": 0
}
