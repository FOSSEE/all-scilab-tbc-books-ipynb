{
"cells": [
 {
		   "cell_type": "markdown",
	   "metadata": {},
	   "source": [
       "# Chapter 18: Testing and Performance"
	   ]
	},
{
		   "cell_type": "markdown",
		   "metadata": {},
		   "source": [
			"## Example 18.10: Calculations_on_gas_engine.sce"
		   ]
		  },
  {
"cell_type": "code",
	   "execution_count": null,
	   "metadata": {
	    "collapsed": true
	   },
	   "outputs": [],
"source": [
"//Calculations on gas engine\n",
"clc,clear\n",
"//Given:\n",
"d=27,l=45 //Bore and stroke in cm\n",
"D_b=1.62 //Effective diameter of the brake wheel in m\n",
"t=38.5 //Duration of test in min\n",
"N=8080,N1=3230 //Number of revolutions and explosions\n",
"P=903 //Net load on brake in N\n",
"imep=5.64 //Indicated mean effective pressure in bar\n",
"Vg1=7.7 //Gas used in m^3\n",
"T1=27+273 //Temperature of the gas in K\n",
"deltaP1=135 //Pressure difference of gas above atmospheric pressure in mm of water\n",
"Patm=750 //Atmospheric pressure in mm of Hg \n",
"CV=18420 //Calorific value of the gas in kJ/m^3 at N.T.P.\n",
"m_w=183 //Mass of cooling water used in kg\n",
"deltaT_w=47 //Cooling water temperature rise in degreeC\n",
"//Solution:\n",
"P1=Patm+deltaP1/13.6 //Gas pressure in mm of Hg\n",
"P1=P1/750 //Gas pressure in bar\n",
"T2=0+273,P2=1.013 //Normal temperature and pressure (N.T.P.) in K and bar\n",
"Vg2=(P1/P2)*(T2/T1)*Vg1 //Gas consumption at N.T.P. in m^3\n",
"Q1=Vg2/t*CV //Heat supplied in kJ/min\n",
"T=P*D_b/2 //Brake torque delivered in Nm\n",
"bp=2*%pi*(N/t*1/60)*(T)*10^-3 //Brake power in kW\n",
"bp=round(10*bp)/10\n",
"Q_bp=bp*60 //Heat equivalent to brake power in kJ/min\n",
"A=%pi/4*d^2*10^-4 //Area of cylinder in m^2\n",
"ip=imep*10^2*l/100*A*(N1/t*1/60) //Indicated power in kW\n",
"ip=round(10*ip)/10\n",
"Q_ip=ip*60 //Heat equivalent to indicated power in kJ/min\n",
"fp=ip-bp //Frictional power in kW\n",
"Q_fp=fp*60 //Heat equivalent to frictional power in kJ/min\n",
"cp=4.1868 //Specfic heat of water in kJ/kgK\n",
"Q_w=m_w/t*cp*(deltaT_w) //Heat in cooling water in kJ/min\n",
"Q_e=Q1-Q_bp-Q_w //Heat to exhaust, radiation in kJ/min\n",
"eta_it=Q_ip/Q1 //Indicated thermal efficiency\n",
"eta_bt=Q_bp/Q1 //Brake thermal efficiency\n",
"//Results:\n",
"printf('\n The indicated thermal efficiency, eta_it = %.1f percent',eta_it*100)\n",
"printf('\n The brake thermal efficiency, eta_bt = %.1f percent',eta_bt*100)\n",
"printf('\n\n   Heat balance sheet\n\t Heat supplied by the gas = %d kJ/min, %d percent',Q1,Q1/Q1*100)\n",
"printf('\n\t Heat equivalent to b.p. = %d kJ/min, %.1f percent',Q_bp,Q_bp/Q1*100)\n",
"printf('\n\t Heat in cooling water = %d kJ/min, %.1f percent',Q_w,Q_w/Q1*100)\n",
"printf('\n\t Heat to exhaust, radiation = %d kJ/min, %.1f percent',Q_e,Q_e/Q1*100)"
   ]
   }
,
{
		   "cell_type": "markdown",
		   "metadata": {},
		   "source": [
			"## Example 18.11: Calculations_from_indicator_diagram.sce"
		   ]
		  },
  {
"cell_type": "code",
	   "execution_count": null,
	   "metadata": {
	    "collapsed": true
	   },
	   "outputs": [],
"source": [
"//Calculations from indicator diagram\n",
"clc,clear\n",
"//Given:\n",
"Li=100 //Length of indicator diagram in mm\n",
"Ai=2045 //Area of indicator diagram in mm^2\n",
"Pi=2/10 //Pressure increment in cylinder from indicator pointer in bar/mm\n",
"d=100,l=100 //Bore and stroke in mm\n",
"N=900 //Engine speed in rpm\n",
"eta_m=75 //Mechanical efficiency in percent\n",
"//Solution:\n",
"Hi_av=Ai/Li //Mean height of indicator diagram in mm\n",
"imep=Hi_av*Pi //Mean effective pressure in bar\n",
"ip=imep*100*%pi/4*d^2*l*N/(2*60)*10^-9 //Indicated power in kW\n",
"bp=ip*eta_m/100 //Brake power in kW\n",
"//Results:\n",
"printf('\n The mean effective pressure, mep = %.2f bar',imep)\n",
"printf('\n The indicated power, ip = %.2f kW',ip)\n",
"printf('\n The brake power, bp = %.2f kW\n\n',bp)"
   ]
   }
,
{
		   "cell_type": "markdown",
		   "metadata": {},
		   "source": [
			"## Example 18.12: Calculations_on_diesel_engine.sce"
		   ]
		  },
  {
"cell_type": "code",
	   "execution_count": null,
	   "metadata": {
	    "collapsed": true
	   },
	   "outputs": [],
"source": [
"//Calculations on diesel engine\n",
"clc,clear\n",
"//Given:\n",
"n=6 //Number of cylinders\n",
"bp=110 //Brake power in kW\n",
"N=1600 //Engine speed in rpm\n",
"CV=43100 //Calorific value in kJ/kg\n",
"pC=86.2/100,pH2=13.5/100,pNC=0.3/100 //Composition of Carbon, Hydrogen and non combustibles in fuel\n",
"eta_v=78 //Volumetric efficiency in percent\n",
"eta_it=38 //Indicated thermal efficiency in percent\n",
"eta_m=80 //Mechanical efficiency in percent\n",
"MS=110 //Mixture strength in percent\n",
"l_d=1.5 //Stroke bore ratio (l/d)\n",
"v_a=0.772 //Specific volume of air in m^3/kg\n",
"p_m=23.1/100,p_v=20.8/100 //Composition of Oxygen in air by mass and volume\n",
"//Solution:\n",
"C=12 //Atomic mass of Carbon(C)\n",
"H=1 //Atomic mass of Hydrogen(H)\n",
"O=16 //Atomic mass of Oxygen(O)\n",
"N2=14 //Atomic mass of Nitrogen(N)\n",
"A_F_s=(pC*2*O/C+pH2*O/(2*H))/p_m //Stoichiometric air fuel ratio\n",
"A_F_act=(1+MS/100)*A_F_s //Actual air fuel ratio\n",
"Ma=(p_m*2*O)+((1-p_m)*2*N2) //Molecular mass of air per mole air in kg/mole\n",
"//Stoichiometric equation of combustion of fuel (petrol)\n",
"//   0.862/12[C] + 0.135/2[H2] + [p_v[O2] + (1-p_v)[N2]]*x = a[CO2] + b[H2O] + c[O2] + d[N2]\n",
"//Equating coefficients\n",
"a=pC/C,b=pH2/(2*H) //On balancing C and H\n",
"x=A_F_act/Ma //Moles of air\n",
"c=p_v*x-a-b/2 //On balancing O\n",
"d=(1-p_v)*x //On balancing N\n",
"pCO2=a/(a+c+d),pO2=c/(a+c+d),pN2=d/(a+c+d) //Composition of Carbon di oxide, Oxygen, Nitrogen in dry exhaust\n",
"ip=bp/eta_m*100 //Indicated power in kW\n",
"m_f=ip/(eta_it/100*CV)*60 //Mass of fuel in kg/min\n",
"m_a=m_f*A_F_act //Mass of air in kg/min\n",
"V_a=m_a*v_a //Volume of air in m^3/min\n",
"V_s=V_a/eta_v*100 //Swept volume in m^3/min\n",
"V_s=V_s/(n*N/2) //Swept volume in m^3\n",
"function y=f(d) //Defining a function, f of unknown bore, d\n",
"    l=l_d*d //Stroke in terms of bore\n",
"    y=%pi/4*d^2*l-V_s\n",
"endfunction\n",
"d=fsolve(1,f) //Function f solve for zero, bore in m\n",
"l=l_d*d //Stroke in m\n",
"//Results:\n",
"printf('\n The volumetric composition of dry exhaust gas,\n\tCO2 = %.2f percent\n\tO2 = %.2f percent\n\tN2 = %.2f percent',pCO2*100,pO2*100,pN2*100)\n",
"printf('\n The bore of the engine, d = %.2f cm\n The stroke of the engine, l = %.2f cm\n\n',d*100,l*100)"
   ]
   }
,
{
		   "cell_type": "markdown",
		   "metadata": {},
		   "source": [
			"## Example 18.13: Calculations_on_four_stroke_engine.sce"
		   ]
		  },
  {
"cell_type": "code",
	   "execution_count": null,
	   "metadata": {
	    "collapsed": true
	   },
	   "outputs": [],
"source": [
"//Calculations on four stroke engine\n",
"clc,clear\n",
"//Given:\n",
"d=150,l=250 //Bore and stroke in mm\n",
"Li=50 //Length of indicator diagram in mm\n",
"Ai=450 //Area of indicator diagram in mm^2\n",
"ISR=1.2 //Indicator spring rating in mm\n",
"N=420 //Engine speed in rpm\n",
"T=217 //Brake torque delivered in Nm\n",
"m_f=2.95 //Fuel consumption in kg/hr\n",
"CV=44000 //Calorific value in kJ/kg\n",
"m_w=0.068 //Mass of cooling water used in kg/s\n",
"deltaT_w=45 //Cooling water temperature rise in K\n",
"cp=4.1868 //Specfic heat capacity of water in kJ/kgK\n",
"//Solution:\n",
"Hi_av=Ai/Li //Mean height of indicator diagram in mm\n",
"imep=Hi_av/ISR //Mean effective pressure in bar\n",
"ip=imep*100*%pi/4*d^2*l*N/(2*60)*10^-9 //Indicated power in kW (Error in book)\n",
"bp=2*%pi*(N/60)*(T)*10^-3 //Brake power in kW\n",
"eta_m=bp/ip //Mechanical efficiency (Error in book)\n",
"eta_bt=bp*3600/(m_f*CV) //Brake thermal efficiency\n",
"bsfc=m_f/bp //Brake specific fuel consumption in kg/kWh (Error in book)\n",
"//Energy balance\n",
"Power_f=m_f/3600*CV //Power in fuel in kW\n",
"Power_w=m_w*cp*deltaT_w //Power to cooling water in kW\n",
"Power_e=Power_f-bp-Power_w //Power to exhaust, radiation in kW\n",
"//Results:\n",
"printf('\n The mechanical efficiency, eta_m = %d percent',eta_m*100)\n",
"printf('\n The brake thermal efficiency, eta_bt = %.1f percent',eta_bt*100)\n",
"printf('\n The specific fuel consumption, bsfc = %.3f kg/kWh',bsfc)\n",
"printf('\n\n   Energy balance\n\t Power in fuel = %.1f kW, %d percent',Power_f,Power_f/Power_f*100)\n",
"printf('\n\t Brake power = %.2f kW, %.1f percent',bp,bp/Power_f*100)\n",
"printf('\n\t Power to cooling water = %.1f kW, %.1f percent',Power_w,Power_w/Power_f*100)\n",
"printf('\n\t Power to exhaust, radiation = %.1f kW, %.1f percent',Power_e,Power_e/Power_f*100)\n",
"//Answers in the book are wrong"
   ]
   }
,
{
		   "cell_type": "markdown",
		   "metadata": {},
		   "source": [
			"## Example 18.14: Calculations_on_petrol_engine.sce"
		   ]
		  },
  {
"cell_type": "code",
	   "execution_count": null,
	   "metadata": {
	    "collapsed": true
	   },
	   "outputs": [],
"source": [
"//Calculations on petrol engine\n",
"clc,clear\n",
"//Given:\n",
"n=6 //Number of cylinders\n",
"d=70,l=100 //Bore and stroke in mm\n",
"V_c=67 //Clearance volume in cm^2\n",
"N=3960 //Engine speed in rpm\n",
"m_f=19.5 //Fuel consumption in kg/hr\n",
"T=140 //Brake torque delivered in Nm\n",
"CV=44000 //Calorific value in kJ/kg\n",
"g=1.4 //Specific heat ratio for air (gamma)\n",
"//Solution:\n",
"bp=2*%pi*N/60*T*10^-3 //Brake power in kW\n",
"A=%pi/4*d^2*10^-6 //Area of cylinder in m^2\n",
"bmep=bp*1000/(n*l/1000*A*N/(2*60)) //Brake mean effective pressure in Pascal\n",
"eta_bt=bp*3600/(m_f*CV) //Brake thermal efficiency\n",
"V_s=(%pi/4)*d^2*l/1000 //Swept volume of one cylinder in cm^3\n",
"r=(V_s+V_c)/V_c //Compression ratio\n",
"eta=1-1/r^(g-1) //Air standard efficiency\n",
"eta_r=eta_bt/eta //Relative efficiency\n",
"//Results:\n",
"printf('\n (a)The brake power, bp = %d kW',bp)\n",
"printf('\n (b)The brake mean effective pressure, bmep = %.2f bar',bmep*10^-5)\n",
"printf('\n (c)The brake thermal efficiency, eta_bt = %.1f percent',eta_bt*100)\n",
"printf('\n (d)The relative efficiency, eta_r = %.1f percent\n\n',eta_r*100)"
   ]
   }
,
{
		   "cell_type": "markdown",
		   "metadata": {},
		   "source": [
			"## Example 18.15: Hit_and_miss_governing.sce"
		   ]
		  },
  {
"cell_type": "code",
	   "execution_count": null,
	   "metadata": {
	    "collapsed": true
	   },
	   "outputs": [],
"source": [
"//Hit and miss governing\n",
"clc,clear\n",
"//Given:\n",
"d=178,l=330 //Bore and stroke in mm\n",
"N=400 //Engine speed at full load in rpm\n",
"wmep=6.2 //Working loop mep in bar\n",
"pmep=0.35 //Pumping loop mep in bar\n",
"mep_dc=0.62 //Mean effective pressure from the dead cycles in bar\n",
"N_f=47 //Number of firing strokes at no load in rpm\n",
"//Solution:\n",
"imep=wmep-pmep //Net indicated mean effective pressure per cycle in bar\n",
"N_d=N/2-N_f //Number of dead cycles at no load in rpm\n",
"ip1=imep*100*l*%pi/4*d^2*N_f/60*10^-9 //Indicated power at no load in kW\n",
"pp_dc=mep_dc*100*l*%pi/4*d^2*N_d/60*10^-9 //Pumping power of dead cycles when no load in kW\n",
"fp=ip1-pp_dc //Friction power in kW\n",
"ip=imep*100*l*%pi/4*d^2*N/(2*60)*10^-9 //Indicated power at full load in kW\n",
"bp=ip-fp //Brake power at full load in kW\n",
"eta_m=bp/ip //Mechanical efficiency at full load\n",
"//Results:\n",
"printf('\n The brake power at full load, b.p. = %.2f kW',bp)\n",
"printf('\n The mechanical efficiency at full load, eta_m = %.1f percent\n\n',eta_m*100)"
   ]
   }
,
{
		   "cell_type": "markdown",
		   "metadata": {},
		   "source": [
			"## Example 18.16: Calculations_on_two_stroke_engine.sce"
		   ]
		  },
  {
"cell_type": "code",
	   "execution_count": null,
	   "metadata": {
	    "collapsed": true
	   },
	   "outputs": [],
"source": [
"//Calculations on two stroke engine\n",
"clc,clear\n",
"//Given:\n",
"d=200,l=250 //Bore and stroke in mm\n",
"imep=4.5*10^5 //Indicated mean effective pressure in N/m^2\n",
"m_f=7 //Fuel consumption in kg/hr\n",
"CV=43500 //Calorific value in kJ/kg\n",
"N=180 //Engine speed in rpm\n",
"//Solution:\n",
"//(a)\n",
"ip=imep*l*%pi/4*d^2*N/60*10^-9*10^-3 //Indicated power in kW\n",
"//(b)\n",
"eta_it=ip*3600/(m_f*CV) //Indicated thermal efficiency\n",
"//Results:\n",
"printf('\n (a)The indicated power, ip = %.1f kW',ip)\n",
"printf('\n (b)The indicated thermal efficiency, eta_it = %.1f percent\n\n',eta_it*100)"
   ]
   }
,
{
		   "cell_type": "markdown",
		   "metadata": {},
		   "source": [
			"## Example 18.1: Calculations_on_petrol_engine.sce"
		   ]
		  },
  {
"cell_type": "code",
	   "execution_count": null,
	   "metadata": {
	    "collapsed": true
	   },
	   "outputs": [],
"source": [
"//Calculations on petrol engine\n",
"clc,clear\n",
"//Given:\n",
"n=4 //Number of cylinders\n",
"d_o=7.5 //Diameter of orifice in cm\n",
"Cd=0.6 //Coefficient of discharge for orifice\n",
"d=11,l=13 //Bore and stroke in cm\n",
"N=2250 //Engine speed in rpm\n",
"bp=36 //Brake power in kW\n",
"m_f=10.5 //Fuel consumption in kg/hr\n",
"CV=42000 //Calorific value in kJ/kg\n",
"deltaP_o=4.1 //Pressure drop across orifice in cm of water\n",
"P=1.013 //Atmospheric pressure in bar\n",
"T=15+273 //Atmospheric temperature in K\n",
"g=9.81 //Accelaration due to gravity in m/s^2\n",
"//Solution:\n",
"//(a)\n",
"eta_bt=bp*3600/(m_f*CV) //Brake thermal efficiency\n",
"//(b)\n",
"A=%pi/4*d^2*10^-4 //Area of cylinder in m^2\n",
"bmep=bp*1000/(n*l/100*A*N/(2*60)) //Brake mean effective pressure in Pascal\n",
"//(c)\n",
"rho_w=1000 //Mass density of water in kg/m^3\n",
"deltaP_o=rho_w*g*deltaP_o/100 //Pressure drop across orifice in N/m^2\n",
"R=0.287 //Specific gas constant in kJ/kgK\n",
"rho_a=P*10^5/(R*10^3*T) //Mass density of air in kg/m^3\n",
"A_o=%pi/4*d_o^2*10^-4 //Area of orifice in m^2\n",
"m_a=Cd*A_o*sqrt(2*deltaP_o*rho_a) //Air inhaled in kg/s\n",
"V_s=(%pi/4)*d^2*l*n*N/(2*60)*10^-6 //Swept volume in m^3/s\n",
"eta_vol=m_a/V_s //Volumetric efficiency\n",
"//Results:\n",
"printf('\n (a)Brake thermal efficiency, eta_bt = %.3f',eta_bt)\n",
"printf('\n (b)Brake mean effective pressure, bmep = %.3f bar',bmep*10^-5)\n",
"printf('\n (c)Volumetric efficiency, eta_vol = %.3f\n\n',eta_vol)"
   ]
   }
,
{
		   "cell_type": "markdown",
		   "metadata": {},
		   "source": [
			"## Example 18.2: Calculations_on_Gas_engine.sce"
		   ]
		  },
  {
"cell_type": "code",
	   "execution_count": null,
	   "metadata": {
	    "collapsed": true
	   },
	   "outputs": [],
"source": [
"//Calculations on Gas engine\n",
"clc,clear\n",
"//Given:\n",
"d=24,l=48 //Bore and stroke in cm\n",
"D_b=1.25 //Effective diameter of the brake wheel in m\n",
"P=1236 //Net load on brake in N\n",
"N=77 //Average engine explosions in min\n",
"N1=226.7 //Average speed at output shaft in rpm\n",
"imep=7.5 //Indicated mean effective pressure in bar\n",
"Vg1=13 //Gas used in m^3/hr\n",
"T1=15+273,P1=771 //Temperature and pressure of the gas in K and mm of mercury\n",
"T2=0+273,P2=760 //Normal temperature and pressure (N.T.P.) in K and mm of mercury\n",
"CV=22000 //Calorific value of the gas in kJ/m^3\n",
"m_w=625 //Mass of cooling water used in kg/hr\n",
"T1_w=25+273,T2_w=60+273 //Inlet and outlet temperature of cooling water in K\n",
"//Solution:\n",
"//(a)\n",
"T=P*D_b/2 //Brake torque delivered in Nm\n",
"bp=2*%pi*N1/60*T //Brake power in W\n",
"ip=imep*10^5*l*%pi/4*d^2*N/60*10^-6 //Indicated power in W\n",
"eta_m=bp/ip //Mechanical efficiency\n",
"//(b)\n",
"Vg2=(P1/P2)*(T2/T1)*Vg1 //Gas consumption at N.T.P. in m^3/hr\n",
"//(c)\n",
"eta_it=ip/1000*3600/(Vg1*CV) //Indicated thermal efficiency\n",
"//Heat balance sheet\n",
"Q1=Vg2/60*CV //Heat supplied in kJ/min\n",
"Q_bp=bp/1000*60 //Heat equivalent to brake power in kJ/min\n",
"cp=4.1868 //Specfic heat of water in kJ/kgK\n",
"Q_w=m_w/60*cp*(T2_w-T1_w) //Heat in cooling water in kJ/min\n",
"Q_r=Q1-Q_bp-Q_w //Heat to exhaust, radiation in kJ/min\n",
"//Results:\n",
"printf('\n (a)The mechanical efficiency of the engine, eta_m = %.1f percent',eta_m*100)\n",
"printf('\n (b)The gas consumption at N.T.P. = %.1f m^3/hr',Vg2)\n",
"printf('\n (c)The indicated thermal efficiency, eta_it = %.1f percent',eta_it*100)\n",
"printf('\n\n   Heat balance sheet\n\t Heat supplied by the gas = %.1f kJ/min, %d percent',Q1,Q1/Q1*100)\n",
"printf('\n\t Heat equivalent to b.p. = %.1f kJ/min, %.1f percent',Q_bp,Q_bp/Q1*100)\n",
"printf('\n\t Heat in cooling water = %.1f kJ/min, %.1f percent',Q_w,Q_w/Q1*100)\n",
"printf('\n\t Heat to exhaust, radiation = %.1f kJ/min, %.1f percent',Q_r,Q_r/Q1*100)"
   ]
   }
,
{
		   "cell_type": "markdown",
		   "metadata": {},
		   "source": [
			"## Example 18.3: Calculations_on_oil_engine.sce"
		   ]
		  },
  {
"cell_type": "code",
	   "execution_count": null,
	   "metadata": {
	    "collapsed": true
	   },
	   "outputs": [],
"source": [
"//Calculations on oil engine\n",
"clc,clear\n",
"//Given:\n",
"d=18,l=36 //Bore and stroke in cm\n",
"N=285 //Average engine speed in rpm\n",
"T=393 //Brake torque delivered in Nm\n",
"imep=7.2 //Indicated mean effective pressure in bar\n",
"m_f=3.5 //Fuel consumption in kg/hr\n",
"m_w=4.5 //Mass of cooling water used in kg/min\n",
"deltaT_w=36 //Cooling water temperature rise in degreeC\n",
"A_F=25 //Air-fuel ratio\n",
"T2=415+273 //Exhaust gas temperature in K\n",
"P=1.013 //Atmospheric pressure in bar\n",
"T1=21+273 //Room temperature in K\n",
"CV=45200 //Calorific value in kJ/kg\n",
"p=15 //Perentage of hydrogen contained by the fuel\n",
"R=0.287 //Specific gas constant in kJ/kgK\n",
"cv=1.005,cp=2.05 //Specific heat for dry exhaust gases and superheated steam in kJ/kgK\n",
"//Solution:\n",
"//(a)\n",
"ip=imep*10^2*l*%pi/4*d^2*N/(2*60)*10^-6 //Indicated power in kW\n",
"ip=round(10*ip)/10\n",
"eta_it=ip*3600/(m_f*CV) //Indicated thermal efficiency\n",
"//(b)\n",
"m_a=m_f*A_F/60 //Mass of air inhaled in kg/min\n",
"m_a=round(100*m_a)/100\n",
"V_a=m_a*R*T1/(P*100) //Volume of air inhaled in m^3/min\n",
"V_s=(%pi/4)*d^2*l*10^-6*N/2 //Swept volume in m^3/min\n",
"eta_vol=V_a/V_s //Volumetric efficiency\n",
"//Heat balance sheet\n",
"Q1=m_f/60*CV //Heat input in kJ/min\n",
"bp=2*%pi*N/60*T*10^-3 //Brake power in W\n",
"Q_bp=bp*60 //Heat equivalent to brake power in kJ/min\n",
"cp_w=4.1868 //Specific heat of water in kJ/kgK\n",
"Q_w=m_w*cp_w*deltaT_w //Heat in cooling water in kJ/min\n",
"m_e=m_a+m_f/60 //Mass of exhaust gases in kg/min\n",
"//Since, 2 mole of hydrogen gives 1 mole of water on combine with 1 mole of oxygen\n",
"//Thus, 1 mole of hydrogen gives 1/2 mole or 9 unit mass of water\n",
"m_h=m_f/60*p/100 //Mass of hydrogen in kg/min\n",
"m_s=9*m_h //Mass of steam in exhaust gases in kg/min\n",
"m_d=m_e-m_s //Mass of dry exhaust gases in kg/min\n",
"Q_d=m_d*cv*(T2-T1) //Heat in dry exhaust gases in kJ/min\n",
"lv=2256.9 //Latent heat of vapourisation of water in kJ/kg\n",
"Q_s=m_s*((373-T1)+lv+cp*(T2-373)) //Heat in steam in exhaust gases in kJ/min\n",
"Q_r=Q1-Q_bp-Q_w-Q_d-Q_s //Heat in radiation in kJ/min\n",
"//Results:\n",
"printf('\n (a)The indicated thermal efficiency, eta_it = %.1f percent',eta_it*100)\n",
"printf('\n (b)The volumetric efficiency, eta_vol = %.1f percent',eta_vol*100)\n",
"printf('\n\n   Heat balance sheet\n\t Heat input = %.1f kJ/min, %d percent',Q1,Q1/Q1*100)\n",
"printf('\n\t Heat equivalent to b.p. = %.1f kJ/min, %.1f percent',Q_bp,Q_bp/Q1*100)\n",
"printf('\n\t Heat in cooling water = %.1f kJ/min, %.1f percent',Q_w,Q_w/Q1*100)\n",
"printf('\n\t Heat in dry exhaust gases = %.1f kJ/min, %.1f percent',Q_d,Q_d/Q1*100)\n",
"printf('\n\t Heat in steam in exhaust gases = %.1f kJ/min, %.1f percent',Q_s,Q_s/Q1*100)\n",
"printf('\n\t Heat in radiation = %.1f kJ/min, %.1f percent',Q_r,Q_r/Q1*100)"
   ]
   }
,
{
		   "cell_type": "markdown",
		   "metadata": {},
		   "source": [
			"## Example 18.4: Calculations_on_oil_engine.sce"
		   ]
		  },
  {
"cell_type": "code",
	   "execution_count": null,
	   "metadata": {
	    "collapsed": true
	   },
	   "outputs": [],
"source": [
"//Calculations on oil engine\n",
"clc,clear\n",
"//Given:\n",
"n=4 //Number of cylinders\n",
"d_o=5 //Diameter of orifice in cm\n",
"Cd=0.6 //Coefficient of discharge for orifice\n",
"d=10.5,l=12.5 //Bore and stroke in cm\n",
"N=1200 //Engine speed in rpm\n",
"T=147 //Brake torque delivered in Nm\n",
"m_f=5.5 //Fuel consumption in kg/hr\n",
"CV=43100 //Calorific value in kJ/kg\n",
"deltaP_o=5.7 //Head across orifice in cm of water\n",
"P1=1.013 //Atmospheric pressure in bar\n",
"T1=20+273 //Atmospheric temperature in K\n",
"g=9.81 //Accelaration due to gravity in m/s^2\n",
"//Solution:\n",
"//(a)\n",
"bp=2*%pi*N/60*T*10^-3 //Brake power in kW\n",
"eta_bt=bp*3600/(m_f*CV) //Brake thermal efficiency\n",
"//(b)\n",
"A=%pi/4*d^2*10^-4 //Area of cylinder in m^2\n",
"bmep=bp*1000/(n*l/100*A*N/(2*60)) //Brake mean effective pressure in N/m^2\n",
"//(c)\n",
"rho_w=1000 //Mass density of water in kg/m^3\n",
"deltaP_o=rho_w*g*deltaP_o/100 //Pressure drop across orifice in N/m^2\n",
"R=0.287 //Specific gas constant in kJ/kgK\n",
"rho_a=P1*10^5/(R*10^3*T1) //Mass density of air in kg/m^3\n",
"rho_a=round(10*rho_a)/10\n",
"A_o=%pi/4*d_o^2*10^-4 //Area of orifice in m^2\n",
"V_a=Cd*A_o*sqrt(2*deltaP_o/rho_a) //Air inhaled in m^3/s\n",
"V_s=(%pi/4)*d^2*l*n*N/(2*60)*10^-6 //Swept volume in m^3/s\n",
"eta_vol=V_a/V_s //Volumetric efficiency\n",
"//Results:\n",
"printf('\n (a)Brake thermal efficiency, eta_bt = %.1f percent',eta_bt*100)\n",
"printf('\n (b)Brake mean effective pressure, bmep = %.2f bar',bmep*10^-5)\n",
"printf('\n (c)Volumetric efficiency, eta_vol = %.1f percent\n\n',eta_vol*100)"
   ]
   }
,
{
		   "cell_type": "markdown",
		   "metadata": {},
		   "source": [
			"## Example 18.5: Calculations_on_six_cylinder_petrol_engine.sce"
		   ]
		  },
  {
"cell_type": "code",
	   "execution_count": null,
	   "metadata": {
	    "collapsed": true
	   },
	   "outputs": [],
"source": [
"//Calculations on six cylinder petrol engine\n",
"clc,clear\n",
"//Given:\n",
"n=6 //Number of cylinders\n",
"d=7.5,l=9 //Bore and stroke in cm\n",
"R_b=38 //Torque arm radius of the brake wheel in cm\n",
"P1=324 //Net load when all cylinders operating on brake in N\n",
"N=3300 //Engine speed in rpm\n",
"P2=245 //Net load when each cylinder is inoperative in N\n",
"m_f=.3 //Fuel consumption in kg/min\n",
"CV=42000 //Calorific value in kJ/kg\n",
"m_w=65 //Mass of cooling water used in kg/min\n",
"deltaT_w=12 //Cooling water temperature rise in degreeC\n",
"m_a=14 //Mass of air blown in kg/min\n",
"T1_a=10+273,T2_a=55+273 //Inlet and outlet temperature of air blown in K\n",
"//Solution:\n",
"bp=2*%pi*N/60*(P1*R_b/100)*10^-3 //Brake power when all the cylinders operating in kW\n",
"bp1=2*%pi*N/60*(P2*R_b/100)*10^-3 //Brake power when each cylinder is inoperative in kW\n",
"ip=n*(bp-bp1) //Total ip of the engine in kW\n",
"A=%pi/4*d^2*10^-4 //Area of cylinder in m^2\n",
"bmep=ip*1000/(n*l/100*A*N/(2*60)) //Brake mean effective pressure in N/m^2\n",
"//Heat balance sheet\n",
"Q1=m_f*CV //Heat input in kJ/min\n",
"Q_bp=bp*60 //Heat equivalent to brake power in kJ/min\n",
"cp_w=4.1868 //Specfic heat of water in kJ/kgK\n",
"Q_w=m_w*cp_w*deltaT_w //Heat in cooling water in kJ/min\n",
"cp_a=1.005 //Specific heat of air in kJ/kgK\n",
"Q_a=m_a*cp_a*(T2_a-T1_a) //Heat to ventilating air in kJ/min (Wrong in book)\n",
"Q_e=Q1-Q_bp-Q_w-Q_a //Heat to exhaust and other losses in kJ/min\n",
"//Results:\n",
"printf('\n (a)The indicated mean effective pressure, bmep = %.1f bar',bmep*10^-5)\n",
"printf('\n\n   Heat balance sheet\n\t Heat input = %d kJ/min, %d percent',Q1,Q1/Q1*100)\n",
"printf('\n\t Heat equivalent to b.p. = %d kJ/min, %.1f percent',Q_bp,Q_bp/Q1*100)\n",
"printf('\n\t Heat in cooling water = %d kJ/min, %.1f percent',Q_w,Q_w/Q1*100)\n",
"printf('\n\t Heat to ventilating air = %d kJ/min, %.1f percent',Q_a,Q_a/Q1*100)\n",
"printf('\n\t Heat to exhaust and other losses = %d kJ/min, %.2f percent',Q_e,Q_e/Q1*100)\n",
"//Heat to ventilating air is wrong in book"
   ]
   }
,
{
		   "cell_type": "markdown",
		   "metadata": {},
		   "source": [
			"## Example 18.6: Calculations_on_two_stroke_engine.sce"
		   ]
		  },
  {
"cell_type": "code",
	   "execution_count": null,
	   "metadata": {
	    "collapsed": true
	   },
	   "outputs": [],
"source": [
"//Calculations on two stroke engine\n",
"clc,clear\n",
"//Given:\n",
"N=450 //Engine speed in rpm\n",
"P=450 //Net load on brake in N\n",
"imep=2.9 //Indicated mean effective pressure in bar\n",
"m_f=5.4 //Fuel consumption in kg/h\n",
"deltaT_w=36.1 //Cooling water temperature rise in degreeC\n",
"m_w=440 //Mass of cooling water used in kg/h\n",
"A_F=31 //Air-fuel ratio\n",
"T1_g=20+273,T2_g=355+273 //Inlet and outlet temperature of exhaust gases blown in K\n",
"P1=76 //Atmospheric pressure in cm of Hg\n",
"d=22,l=27 //Bore and stroke in cm\n",
"D_b=1.5 //Effective diameter of the brake wheel in m\n",
"CV=44000 //Calorific value in kJ/kg\n",
"p=15 //Percentage of hydrogen by mass contained by the fuel\n",
"R=0.287 //Specific gas constant in kJ/kgK\n",
"cp_g=1.005,cp_s=2.05 //Specific heat for dry exhaust gases and superheated steam in kJ/kgK\n",
"//Solution:\n",
"ip=imep*10^2*l*%pi/4*d^2*N/(60)*10^-6 //Indicated power in kW\n",
"eta_it=ip*3600/(m_f*CV) //Indicated thermal efficiency\n",
"bp=2*%pi*N/60*(P*D_b/2)*10^-3 //Brake power in kW\n",
"bp=round(10*bp)/10\n",
"bsfc=m_f/bp*1000 //Brake specific fuel consumption in gm/kWh\n",
"V_s=(%pi/4)*d^2*l*10^-6*N //Swept volume in m^3/min\n",
"m_a=m_f*A_F/60 //Mass of air inhaled in kg/min\n",
"P1=1.0132 //Atmospheric pressure equivalent to 76 cm of Hg in bar\n",
"T1=293 //Atmospheric temperature in K\n",
"V_a=m_a*R*T1/(P1*100) //Volume of air inhaled in m^3/min\n",
"V_a=round(100*V_a)/100\n",
"eta_vol=V_a/V_s //Volumetric efficiency\n",
"//Heat balance sheet\n",
"Q1=m_f/60*CV //Heat input in kJ/min\n",
"Q_bp=bp*60 //Heat equivalent to brake power in kJ/min\n",
"cp_w=4.1868 //Specfic heat of water in kJ/kgK\n",
"Q_w=m_w/60*cp_w*deltaT_w //Heat in cooling water in kJ/min\n",
"m_e=m_a+m_f/60 //Mass of exhaust gases in kg/min\n",
"//Since, 2 mole of hydrogen gives 1 mole of water on combine with 1 mole of oxygen\n",
"//Thus, 1 mole of hydrogen gives 1/2 mole or 9 unit mass of water\n",
"m_h=m_f/60*p/100 //Mass of hydrogen in kg/min\n",
"m_s=9*m_h //Mass of steam in exhaust gases in kg/min\n",
"m_d=m_e-m_s //Mass of dry exhaust gases in kg/min\n",
"Q_d=m_d*cp_g*(T2_g-T1_g) //Heat in dry exhaust gases kJ/min\n",
"lv=2256.9 //Latent heat of vapourisation of water in kJ/kg\n",
"Q_s=m_s*((373-T1_g)+lv+cp_s*(T2_g-373)) //Heat in steam in exhaust gases in kJ/min\n",
"Q_r=Q1-Q_bp-Q_w-Q_d-Q_s //Heat in radiation in kJ/min\n",
"//Results:\n",
"printf('\n (a)The indicated thermal efficiency, eta_it = %.1f percent',eta_it*100)\n",
"printf('\n (b)Brake specific fuel consumption = %.1f gm/kWh',bsfc)\n",
"printf('\n (c)The volumetric efficiency, eta_vol = %.1f percent',eta_vol*100)\n",
"printf('\n\n   Heat balance sheet\n\t Heat input = %.1f kJ/min, %d percent',Q1,Q1/Q1*100)\n",
"printf('\n\t Heat equivalent to b.p. = %.1f kJ/min, %.1f percent',Q_bp,Q_bp/Q1*100)\n",
"printf('\n\t Heat in cooling water = %.1f kJ/min, %.1f percent',Q_w,Q_w/Q1*100)\n",
"printf('\n\t Heat in dry exhaust gases = %.1f kJ/min, %.1f percent',Q_d,Q_d/Q1*100)\n",
"printf('\n\t Heat in steam in exhaust gases = %.1f kJ/min, %.1f percent',Q_s,Q_s/Q1*100)\n",
"printf('\n\t Heat in radiation = %.1f kJ/min, %.1f percent',Q_r,Q_r/Q1*100)"
   ]
   }
,
{
		   "cell_type": "markdown",
		   "metadata": {},
		   "source": [
			"## Example 18.7: Calculations_by_Morse_test.sce"
		   ]
		  },
  {
"cell_type": "code",
	   "execution_count": null,
	   "metadata": {
	    "collapsed": true
	   },
	   "outputs": [],
"source": [
"//Calculations by Morse test\n",
"clc,clear\n",
"//Given:\n",
"n=12 //Number of cylinders\n",
"function bp=f(W),bp=W*N/180,endfunction //Power law of engine\n",
"d=38,l=50 //Bore and stroke in cm\n",
"N=200 //Engine speed in rpm\n",
"Wall1=2000,Wall2=2020 //Brake loads when all cylinders are firing in N\n",
"Wn=[1795 1814 1814 1795 1804 1819 1800 1824 1785 1804 1814 1795] //Brake load when cylinder number 1, 2, 3, 4, 5, 6, 7, 8, 9, 10, 11, 12 are out in N\n",
"//Solution:\n",
"W=(Wall1+Wall2)/2 //Average of brake loads when all cylinders are firing in N\n",
"bp=f(W) //Total brake power in kW\n",
"ipn=bp-f(Wn) //Indicated power of cylinders number 1, 2, 3, 4, 5, 6, 7, 8, 9, 10, 11, 12 in kW\n",
"ip=sum(ipn) //Total indicated power equal to sum of individual in kW\n",
"eta_m=bp/ip //Mechanical efficiency\n",
"A=%pi/4*d^2*10^-4 //Area of cylinder in m^2\n",
"bmep=bp*1000/(n*l/100*A*N/(60)) //Brake mean effective pressure in Pascal\n",
"//Results:\n",
"printf('\n The brake mean effective pressure, bmep = %.2f bar',bmep*10^-5)\n",
"printf('\n The mechanical efficiency, eta_m = %.1f percent\n\n',eta_m*100)"
   ]
   }
,
{
		   "cell_type": "markdown",
		   "metadata": {},
		   "source": [
			"## Example 18.8: Calculations_on_six_cylinder_diesel_engine.sce"
		   ]
		  },
  {
"cell_type": "code",
	   "execution_count": null,
	   "metadata": {
	    "collapsed": true
	   },
	   "outputs": [],
"source": [
"//Calculations on six cylinder diesel engine\n",
"clc,clear\n",
"//Given:\n",
"n=6 //Number of cylinders\n",
"function bp=f(W),bp=W*N/20000,endfunction //Power law of engine\n",
"d=95,l=120 //Bore and stroke in mm\n",
"N=2400 //Engine speed in rpm\n",
"C_H=83/17 //Carbon Hydrogen ratio by mass in fuel\n",
"d_o=30 //Diameter of orifice in mm\n",
"Cd=0.6 //Orifice coefficient of discharge\n",
"P=550 //Net load on brake in N\n",
"P1=750 //Ambient pressure in mm of Hg\n",
"T1=25+273 //Ambient temperature in K\n",
"deltaP_o=14.5 //Head over orifice in cm of Hg\n",
"s=0.831 //Specific gravity of fuel\n",
"t=19.3 //Time to use 100 cc fuel in s\n",
"V_f=100 //Volume of fuel used in t seconds in cc\n",
"//Solution:\n",
"//(a)\n",
"bp=f(P) //Brake power at brake load in kW\n",
"A=%pi/4*d^2*10^-6 //Area of cylinder in m^2\n",
"bmep=bp*1000/(n*l/1000*A*N/(2*60)) //Brake mean effective pressure in Pascal\n",
"//(b)\n",
"T=bp*1000/(2*%pi*(N/60)) //Brake torque in Nm\n",
"//(c)\n",
"rho_f=s*1000 //Fuel density in kg/m^3\n",
"m_f=V_f*10^-6/t*3600*rho_f //Fuel flow rate in kg/hr\n",
"bsfc=m_f/bp //Brake specific fuel consumption in kg/kWh\n",
"//(e)\n",
"R=0.287 //Specific gas constant in kJ/kgK\n",
"P1=P1/760*1.01325 //Ambient pressure in bar\n",
"rho_a=P1*10^5/(R*10^3*T1) //Mass density of air in kg/m^3\n",
"deltaP_o=13.6*1000*9.81*deltaP_o/100 //Pressure drop across orifice in N/m^2\n",
"A_o=%pi/4*d_o^2*10^-6 //Area of orifice in m^2\n",
"V_a=Cd*A_o*sqrt(2*deltaP_o/rho_a) //Air inhaled in m^3/s\n",
"V_s=(%pi/4)*d^2*l*n*N/(2*60)*10^-9 //Swept volume in m^3/s\n",
"eta_vol=V_a/V_s //Volumetric efficiency\n",
"//(d)\n",
"pH=17,pC=pH*C_H //Percentage of Hydrogen and Carbon in fuel\n",
"pO=23.3 //Percentage of Oxygen in air\n",
"H=1,C=12,O=16 //Atomic masses of Hydrogen, Carbon, Oxygen in gm\n",
"mO2=pC/100*(2*O/C)+pH/100*(O/(2*H)) //Oxygen required in kg/kg of fuel\n",
"m_a=mO2/(pO/100) //Mass of air in kg/kg of fuel\n",
"A_F_t=m_a //Theoritical air fuel ratio\n",
"m_a_act=V_a*rho_a //Actual air mass flow rate in kg/s\n",
"A_F_act=m_a_act/m_f*3600 //Actual air fuel ratio\n",
"P_e=(A_F_act-A_F_t)/A_F_t*100 //Percentage excess air\n",
"//Results:\n",
"printf('\n (a)The brake mean effective pressure, bmep = %.3f bar',bmep*10^-5)\n",
"printf('\n (b)The brake torque, T = %.1f Nm',T)\n",
"printf('\n (c)The brake specific fuel consumption, bsfc = %.3f kg/kWh',bsfc)\n",
"printf('\n (d)The percentage excess air = %.1f percent',P_e)\n",
"printf('\n (e)The volumetric efficiency, eta_vol = %.1f percent\n\n',eta_vol*100)"
   ]
   }
,
{
		   "cell_type": "markdown",
		   "metadata": {},
		   "source": [
			"## Example 18.9: Calculations_on_six_cylinder_petrol_engine.sce"
		   ]
		  },
  {
"cell_type": "code",
	   "execution_count": null,
	   "metadata": {
	    "collapsed": true
	   },
	   "outputs": [],
"source": [
"//Calculations on six cylinder petrol engine\n",
"clc,clear\n",
"//Given:\n",
"n=6 //Number of cylinders\n",
"d=125,l=190 //Bore and stroke in mm\n",
"pC=82/100,pH2=18/100 //Composition of Carbon and Hydrogen in petrol\n",
"pCO2=11.19/100,pO2=3.61/100,pN2=85.2/100 //Composition of Carbon di oxide, Oxygen, Nitrogen in dry exhaust\n",
"P1=1 //Pressure of mixture entering the cylinder in bar\n",
"T1=17+273 //Temperature of mixture entering the cylinder in K\n",
"m_f=31.3 //Mass of the petrol used in kg/hr\n",
"N=1500 //Engine speed in rpm\n",
"m=1,T=0+273,P=1.013,V=0.773 //Mass, temperature, pressure, volume, of air in kg, K, bar, m^3\n",
"p=23/100 //Composition of Oxygen in air by mass\n",
"//Solution:\n",
"C=12 //Atomic mass of Carbon(C)\n",
"H=1 //Atomic mass of Hydrogen(H)\n",
"O=16 //Atomic mass of Oxygen(O)\n",
"N2=14 //Atomic mass of Nitrogen(N)\n",
"A_F_s=(pC*2*O/C+pH2*O/(2*H))/(p) //Stoichiometric air fuel ratio\n",
"//Stoichiometric equation of combustion of fuel (petrol)\n",
"//   0.82/12[C] + 0.18/2[H2] + [0.21[O2] + 0.79[N2]]*x = a[CO2] + b[CO] + c[H2O] + d1[N2]\n",
"//Equating coefficients\n",
"a=pC/C,c=pH2/(2*H) //On balancing C and H\n",
"d1=pN2/pCO2*a //On taking composition of CO2 and N2 in exhaust\n",
"x=d1/0.79 //On balancing N\n",
"m_a=(p*2*O)+((1-p)*2*N2) //Mass of air per mole air in kg/mole\n",
"A_F_act=x*m_a //Actual air fuel ratio\n",
"P_e=(A_F_act-A_F_s)/A_F_s*100 //Percentage excess air\n",
"R_a=P*100*V/(m*T) //Specific gas constant for air in kJ/kgK\n",
"V_a=A_F_act*R_a*T1/(P1*100) //Volume of air in m^3\n",
"//Given, rho_f = 3.35 * rho_a, V_f = 1/3.35 * V_a\n",
"V_f=V_a/A_F_act*1/3.35 //Volume of fuel in m^3/kg of fuel \n",
"V_m=V_a+V_f //Total volume of mixture in m^3/kg of fuel\n",
"V_m1=V_m*m_f/60 //Mixture aspirated in m^3/min\n",
"V_s=(%pi/4)*d^2*l*n*N/2*10^-9 //Swept volume in m^3/s\n",
"eta_v=V_m1/V_s*100 //Volumetric efficiency in percent\n",
"//Results:\n",
"printf('\n The mass of air supplied per kg of petrol, m_a = %.2f kg/kg of fuel',A_F_act)\n",
"printf('\n The percentage excess air = %.1f percent',P_e)\n",
"printf('\n The volume of mixture per kg of petrol, V_m = %.2f m^3/kg fuel',V_m)\n",
"printf('\n The volumetric efficiency of the engine, eta_v = %.0f percent\n\n',eta_v)"
   ]
   }
],
"metadata": {
		  "kernelspec": {
		   "display_name": "Scilab",
		   "language": "scilab",
		   "name": "scilab"
		  },
		  "language_info": {
		   "file_extension": ".sce",
		   "help_links": [
			{
			 "text": "MetaKernel Magics",
			 "url": "https://github.com/calysto/metakernel/blob/master/metakernel/magics/README.md"
			}
		   ],
		   "mimetype": "text/x-octave",
		   "name": "scilab",
		   "version": "0.7.1"
		  }
		 },
		 "nbformat": 4,
		 "nbformat_minor": 0
}
