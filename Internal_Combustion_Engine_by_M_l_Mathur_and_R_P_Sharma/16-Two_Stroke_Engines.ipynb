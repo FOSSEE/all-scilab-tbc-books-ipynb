{
"cells": [
 {
		   "cell_type": "markdown",
	   "metadata": {},
	   "source": [
       "# Chapter 16: Two Stroke Engines"
	   ]
	},
{
		   "cell_type": "markdown",
		   "metadata": {},
		   "source": [
			"## Example 16.1: Calculations_on_2_stroke_IC_engine.sce"
		   ]
		  },
  {
"cell_type": "code",
	   "execution_count": null,
	   "metadata": {
	    "collapsed": true
	   },
	   "outputs": [],
"source": [
"//Calculations on 2 stroke IC engine\n",
"clc,clear\n",
"//Given:\n",
"n=2 //Number of cylinders\n",
"N=4000 //Angular speed of engine in rpm\n",
"eta_v=0.77 //Volumetric efficiency\n",
"eta_m=0.75 //Mechanical efficiency\n",
"V_f=10 //Fuel consumption in l/hr\n",
"s=0.73 //Specific gravity\n",
"h=10500 //Enthalpy of fuel in kcal/kg\n",
"A_F=18 //Air-fuel ratio\n",
"v_p=600 //Speed of piston in m/min\n",
"imep=5 //Indicated mean effective pressure in atm \n",
"T=298,P=1.013 //Standard temperature and pressure in K and bar\n",
"//Solution:\n",
"R=0.287 //Specific gas constant in kJ/kgK\n",
"m_f=V_f*s //Fuel consumption in kg/hr\n",
"m_a=A_F*m_f //Air consumption in kg/hr\n",
"m_c=m_f+m_a //Mass of total charge in kg/hr\n",
"m=round(m_c/eta_v) //Mass of charge corresponding to the swept volume in kg/hr\n",
"V=(m/2)*R*T/(P*100) //Volume of charge consumed in m^3/hr\n",
"V_s=V*10^6/(60*N) //Swept volume by piston per stroke in cc\n",
"L=v_p*100/(2*N) //Stroke length of cylinder in cm\n",
"d=sqrt(4*V_s/(%pi*L)) //Bore of cylinder in cm\n",
"IHP=round(imep*V_s*N*n/450000) //Indicated horse power in metric HP\n",
"BHP=IHP*eta_m //Brake horse power in metric HP\n",
"eta_t=BHP*736*3600/(V_f*s*h*4187) //Thermal efficiency\n",
"//Results:\n",
"printf('\n The engine dimensions\n\t Stroke length, L = %.1f cm\n\t Bore, d = %.1f cm',L,d)\n",
"printf('\n The brake power output, BHP = %.1f metric HP',BHP)\n",
"printf('\n The thermal efficiency, eta_t = %.1f percent\n\n',eta_t*100)"
   ]
   }
],
"metadata": {
		  "kernelspec": {
		   "display_name": "Scilab",
		   "language": "scilab",
		   "name": "scilab"
		  },
		  "language_info": {
		   "file_extension": ".sce",
		   "help_links": [
			{
			 "text": "MetaKernel Magics",
			 "url": "https://github.com/calysto/metakernel/blob/master/metakernel/magics/README.md"
			}
		   ],
		   "mimetype": "text/x-octave",
		   "name": "scilab",
		   "version": "0.7.1"
		  }
		 },
		 "nbformat": 4,
		 "nbformat_minor": 0
}
