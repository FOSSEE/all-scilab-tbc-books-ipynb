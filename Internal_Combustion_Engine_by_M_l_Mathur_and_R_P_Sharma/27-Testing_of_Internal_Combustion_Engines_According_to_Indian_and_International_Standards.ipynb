{
"cells": [
 {
		   "cell_type": "markdown",
	   "metadata": {},
	   "source": [
       "# Chapter 27: Testing of Internal Combustion Engines According to Indian and International Standards"
	   ]
	},
{
		   "cell_type": "markdown",
		   "metadata": {},
		   "source": [
			"## Example 27.1: Calculations_on_non_supercharged_CI_engine.sce"
		   ]
		  },
  {
"cell_type": "code",
	   "execution_count": null,
	   "metadata": {
	    "collapsed": true
	   },
	   "outputs": [],
"source": [
"//Calculations on non supercharged CI engine\n",
"clc,clear\n",
"//Given:\n",
"Pr=500 //Standard reference brake power in kW\n",
"eta_m=85 //Mechanical efficiency in percent\n",
"br=220 //Standard specific fuel consumption in g/kWh\n",
"px=87 //Site ambient air pressure in kPa\n",
"Tx=45+273 //Site ambient temperature in K\n",
"phix=80/100 //Relative humidity at site\n",
"//Solution:\n",
"//Refer table 27.1, 27.2 and 27.3\n",
"a=1 //Factor\n",
"m=1,n=0.75,q=0 //Exponents\n",
"psx=9.6 //Saturation vapour pressure at site in kPa\n",
"psr=3.2 //Standard saturation vapour pressure in kPa\n",
"pr=100 //Standard total barometric pressure in kPa\n",
"Tr=298 //Standard air temperature in K\n",
"phir=0.3 //Standard relative humidity\n",
"k=((px-a*phix*psx)/(pr-a*phir*psr))^m*(Tr/Tx)^n //The ratio of indicated power\n",
"alpha=k-0.7*(1-k)*(100/eta_m-1) //Power adjustment factor\n",
"Beta=k/alpha //Fuel consumption adjustment factor\n",
"Px=alpha*Pr //Brake power at site in kW\n",
"bx=Beta*br //Specific fuel consumption at site in g/kWh\n",
"//Results:\n",
"printf('\n The site continuous net brake power, Px = %.1f kW',Px)\n",
"printf('\n The site continuous specific fuel consumption, bx = %.1f g/kWh\n',bx)"
   ]
   }
,
{
		   "cell_type": "markdown",
		   "metadata": {},
		   "source": [
			"## Example 27.2: Calculations_on_turbocharged_CI_engine.sce"
		   ]
		  },
  {
"cell_type": "code",
	   "execution_count": null,
	   "metadata": {
	    "collapsed": true
	   },
	   "outputs": [],
"source": [
"//Calculations on turbocharged CI engine\n",
"clc,clear\n",
"//Given:\n",
"Pr=1000 //Standard reference brake power in kW\n",
"eta_m=90 //Mechanical efficiency in percent\n",
"Pir=2 //Boost pressure ratio\n",
"Tra=313 //Substitute reference air temperature in K\n",
"Pimax=2.36 //Maximum boost pressure ratio\n",
"h=4000 //Altitude in m\n",
"px=61.5 //Site ambient air pressure in kPa\n",
"Tx=323 //Site ambient temperature in K\n",
"Tcx=310 //Charge air coolent temperature at site in K\n",
"//Solution:\n",
"//Refer table 27.1, 27.2 and 27.3\n",
"m=0.7,n=1.2,q=1 //Exponents\n",
"pr=100 //Standard total barometric pressure in kPa\n",
"Tcr=298 //Standard charge air coolent temperature in K\n",
"Tr=298 //Standard air temperature in K\n",
"pra=pr*Pir/Pimax //Standard reference pressure in kPa\n",
"pra=round(10*pra)/10\n",
"k=(px/pra)^m*(Tra/Tx)^n*(Tcr/Tcx)^q //The ratio of indicated power\n",
"alpha=k-0.7*(1-k)*(100/eta_m-1) //Power adjustment factor\n",
"Px1=round(alpha*Pr) //Brake power at site in kW\n",
"//If reference conditions are not changed\n",
"k=(px/pr)^m*(Tr/Tx)^n*(Tcr/Tcx)^q //The ratio of indicated power\n",
"alpha=k-0.7*(1-k)*(100/eta_m-1) //Power adjustment factor\n",
"Px2=round(alpha*Pr) //Brake power at site in kW\n",
"//Results:\n",
"printf('\n Power available at an altitude of 4000m, Px = %d kW',Px1)\n",
"printf('\n Power available at an altitude of 4000m if reference conditions are not changed, Px = %d kW\n',Px2)"
   ]
   }
,
{
		   "cell_type": "markdown",
		   "metadata": {},
		   "source": [
			"## Example 27.3: Calculations_on_turbocharged_CI_engine.sce"
		   ]
		  },
  {
"cell_type": "code",
	   "execution_count": null,
	   "metadata": {
	    "collapsed": true
	   },
	   "outputs": [],
"source": [
"//Calculations on turbocharged CI engine\n",
"clc,clear\n",
"//Given:\n",
"Px=640 //Brake power at site in kW\n",
"px=70 //Site ambient air pressure in kPa\n",
"Tx=330 //Site ambient temperature in K\n",
"Tcx=300 //Charge air coolent temperature at site in K\n",
"eta_m=85 //Mechanical efficiency in percent\n",
"py=100 //Test ambient pressure in kPa\n",
"Tcy=280 //Charge air coolent temperature at test in K\n",
"Ty=300 //Test ambient temperature in K\n",
"//Solution:\n",
"//Refer table 27.1, 27.2 and 27.3\n",
"m=0.7,n=1.2,q=1 //Exponents\n",
"pr=100 //Standard total barometric pressure in kPa\n",
"Tcr=298 //Standard charge air coolent temperature in K\n",
"Tr=298 //Standard air temperature in K\n",
"kr=(px/pr)^m*(Tr/Tx)^n*(Tcr/Tcx)^q //The ratio of indicated power\n",
"kr=floor(1000*kr)/1000\n",
"alphar=kr-0.7*(1-kr)*(100/eta_m-1) //Power adjustment factor\n",
"Pr=Px/alphar //Standard reference brake power in kW\n",
"ky=(py/pr)^m*(Tr/Ty)^n*(Tcr/Tcy)^q //The ratio of indicated power at test\n",
"alphay=ky-0.7*(1-ky)*(100/eta_m-1) //Power adjustment factor at test\n",
"Py=Pr*alphay //Brake power at test in kW (Round off error)\n",
"//Results:\n",
"printf('\n Power developed under test ambient conditions, Py = %.0f kW',Py)\n",
"//Round off error in the value of 'Py'"
   ]
   }
,
{
		   "cell_type": "markdown",
		   "metadata": {},
		   "source": [
			"## Example 27.4: Simulating_site_ambient_conditions.sce"
		   ]
		  },
  {
"cell_type": "code",
	   "execution_count": null,
	   "metadata": {
	    "collapsed": true
	   },
	   "outputs": [],
"source": [
"//Simulating site ambient conditions\n",
"clc,clear\n",
"//Given:\n",
"//Datas are taken from Ex. 27.3\n",
"Px=640 //Brake power at site in kW\n",
"eta_m=85 //Mechanical efficiency in percent\n",
"px=70 //Site ambient air pressure in kPa\n",
"py=100 //Standard total barometric pressure in kPa\n",
"Tx=330 //Site ambient temperature in K\n",
"Ty=300 //Test ambient temperature in K\n",
"p2_py=2.5 //Pressure ratio\n",
"by=238 //Specific fuel consumption at test in g/kWh\n",
"//Solution:\n",
"//Refer table 27.1, 27.2 and 27.3\n",
"m=0.7,n=1.2,q=1 //Exponents\n",
"ky=(py/px)^m //The ratio of indicated power at test\n",
"alphay=ky-0.7*(1-ky)*(100/eta_m-1) //Power adjustment factor at test\n",
"Py=round(Px*alphay) //Brake power at test in kW\n",
"//From fig 27.1\n",
"Tx_Ty=Tx/Ty //Temperature ratio\n",
"p1_py=0.925 //Ratio\n",
"p1=p1_py*py //Air pressure after throttle in kPa (printing error)\n",
"Betay=ky/alphay //Fuel consumption adjustment factor at test\n",
"bx=by/Betay //Specific fuel consumption at site in g/kWh\n",
"//Results:\n",
"printf('\n Power developed on the test bed, Py = %d kW',Py)\n",
"printf('\n The pressure behind the throttle plate, p1 = %.1f kPa',p1)\n",
"printf('\n The fuel consumption adjusted to site ambient conditions, bx = %d g/kWh',bx)\n",
"//Answer in the book is printed wrong"
   ]
   }
,
{
		   "cell_type": "markdown",
		   "metadata": {},
		   "source": [
			"## Example 27.5: Calculations_on_unsupercharged_SI_engine.sce"
		   ]
		  },
  {
"cell_type": "code",
	   "execution_count": null,
	   "metadata": {
	    "collapsed": true
	   },
	   "outputs": [],
"source": [
"//Calculations on unsupercharged SI engine\n",
"clc,clear\n",
"//Given:\n",
"Py=640 //Brake power at test in kW\n",
"py=98 //Test ambient pressure in kPa\n",
"Ty=303 //Test ambient temperature in K\n",
"phiy=0.8 //Relative humidity at test\n",
"//Solution:\n",
"//Refer table 27.1, 27.3\n",
"psy=4.2 //Saturation vapour pressure at test in kPa\n",
"psr=3.2 //Standard saturation vapour pressure in kPa\n",
"pr=100 //Standard total barometric pressure in kPa\n",
"Tr=298 //Standard air temperature in K\n",
"phir=0.3 //Standard relative humidity\n",
"alpha_a=((pr-phir*psr)/(py-phiy*psy))^1.2*(Ty/Tr)^0.6 //Correction factor for CI engine\n",
"Pr=round(alpha_a*Py) //Standard reference brake power in kW\n",
"//Results:\n",
"printf('\n The power at standard reference conditions, Pr = %d kW',Pr)"
   ]
   }
,
{
		   "cell_type": "markdown",
		   "metadata": {},
		   "source": [
			"## Example 27.6: Calculations_on_turbocharged_CI_engine.sce"
		   ]
		  },
  {
"cell_type": "code",
	   "execution_count": null,
	   "metadata": {
	    "collapsed": true
	   },
	   "outputs": [],
"source": [
"//Calculations on turbocharged CI engine\n",
"clc,clear\n",
"//Given:\n",
"Py=896 //Brake power at test in kW\n",
"py=96 //Test ambient pressure in kPa\n",
"Ty=302 //Test ambient temperature in K\n",
"phiy=0.2 //Relative humidity at test\n",
"px=98 //Site ambient air pressure in kPa\n",
"Tx=315 //Site ambient temperature in K\n",
"phix=0.4 //Relative humidity at site\n",
"N=1800 //Engine speed in rpm\n",
"V_s=51.8 //Swept volume in litres\n",
"m_f=54.5 //Fuel delivery in gm/s\n",
"pi=2.6 //Pressure ratio\n",
"//Solution:\n",
"//Refer table 27.1, 27.3\n",
"psy=4.8 //Saturation vapour pressure at test in kPa\n",
"psx=8.2 //Saturation vapour pressure at site in kPa\n",
"q=m_f*1000/(N/(2*60)*V_s) //Fuel delivery in mg/litrecycle\n",
"qc=round(q/pi) //Corrected fuel delivery inmg/litrecycle\n",
"//Applying condition given in fig 27.2 for value of engine factor (fm)\n",
"if (qc <= 40) then\n",
"    fm=0.3;\n",
"elseif (qc >= 65) then\n",
"    fm=1.2;\n",
"else\n",
"    fm=0.036*qc-1.14;\n",
"end\n",
"fa=((px-phix*psx)/(py-phiy*psy))^0.7*(Ty/Tx)^1.5 //Atmospheric factor\n",
"alpha_d=fa^fm //Correction factor for CI engine\n",
"Px=alpha_d*Py //Brake power at site in kW\n",
"//Results:\n",
"printf('\n Power at site ambient conditions, Px = %d kW',Px)"
   ]
   }
,
{
		   "cell_type": "markdown",
		   "metadata": {},
		   "source": [
			"## Example 27.7: Calculations_on_turbocharged_CI_engine.sce"
		   ]
		  },
  {
"cell_type": "code",
	   "execution_count": null,
	   "metadata": {
	    "collapsed": true
	   },
	   "outputs": [],
"source": [
"//Calculations on turbocharged CI engine\n",
"clc,clear\n",
"//Given:\n",
"Py=700 //Brake power at test in kW\n",
"py=96 //Test ambient pressure in kPa\n",
"Ty=302 //Test ambient temperature in K\n",
"phiy=0.2 //Relative humidity at test\n",
"px=69 //Site ambient air pressure in kPa\n",
"Tx=283 //Site ambient temperature in K\n",
"phix=0.4 //Relative humidity at site\n",
"N=1200 //Engine speed in rpm\n",
"V_s=45 //Swept volume in litres\n",
"m_f=51.3 //Fuel delivery in gm/s\n",
"pi=2.0 //Pressure ratio\n",
"eta_m=85 //Mechanical efficiency in percent\n",
"//Solution:\n",
"pr=100 //Standard total barometric pressure in kPa\n",
"Tr=298 //Standard air temperature in K\n",
"phir=0.3 //Standard relative humidity\n",
"//Refer table 27.1, 27.3\n",
"psy=4.1 //Saturation vapour pressure at test in kPa\n",
"psx=1.2 //Saturation vapour pressure at site in kPa\n",
"psr=3.2 //Standard saturation vapour pressure in kPa\n",
"q=m_f*1000/(N/(2*60)*V_s) //Fuel delivery in mg/litrecycle\n",
"qc=round(q/pi) //Corrected fuel delivery in mg/litrecycle\n",
"//Applying condition given in fig 27.2 for value of engine factor (fm)\n",
"if (qc <= 40) then\n",
"    fm=0.3;\n",
"elseif (qc >= 65) then\n",
"    fm=1.2;\n",
"else\n",
"    fm=0.036*qc-1.14;\n",
"end\n",
"fa=((px-phix*psx)/(py-phiy*psy))^0.7*(Ty/Tx)^1.5 //Atmospheric factor\n",
"alpha_d=fa^fm //Correction factor for CI engine\n",
"//Applying condition given in section 27.4.2\n",
"if (alpha_d > 0.9) & (alpha_d < 1.1) then\n",
"    Px=alpha_d*Py\n",
"else\n",
"    fa=((pr-phir*psr)/(py-phiy*psy))^0.7*(Ty/Tr)^1.5 //Atmospheric factor\n",
"    alpha_d=fa^fm //Correction factor for CI engine\n",
"    Pr=alpha_d*Py //Standard reference brake power in kW\n",
"    m=0.7,n=2 //Exponents\n",
"    k=(px/pr)^m*(Tr/Tx)^n //The ratio of indicated power\n",
"    alpha=k-0.7*(1-k)*(100/eta_m-1) //Power adjustment factor\n",
"    Px=alpha*Pr //Brake power at site in kW\n",
"end\n",
"//Results:\n",
"printf('\n Power at site ambient conditions, Px = %d kW',Px)\n",
"//Answer in the book is wrong"
   ]
   }
],
"metadata": {
		  "kernelspec": {
		   "display_name": "Scilab",
		   "language": "scilab",
		   "name": "scilab"
		  },
		  "language_info": {
		   "file_extension": ".sce",
		   "help_links": [
			{
			 "text": "MetaKernel Magics",
			 "url": "https://github.com/calysto/metakernel/blob/master/metakernel/magics/README.md"
			}
		   ],
		   "mimetype": "text/x-octave",
		   "name": "scilab",
		   "version": "0.7.1"
		  }
		 },
		 "nbformat": 4,
		 "nbformat_minor": 0
}
