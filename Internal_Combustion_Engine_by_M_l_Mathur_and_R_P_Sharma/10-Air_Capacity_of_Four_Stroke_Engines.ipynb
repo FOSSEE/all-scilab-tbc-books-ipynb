{
"cells": [
 {
		   "cell_type": "markdown",
	   "metadata": {},
	   "source": [
       "# Chapter 10: Air Capacity of Four Stroke Engines"
	   ]
	},
{
		   "cell_type": "markdown",
		   "metadata": {},
		   "source": [
			"## Example 10.1: Calculations_on_SI_engine.sce"
		   ]
		  },
  {
"cell_type": "code",
	   "execution_count": null,
	   "metadata": {
	    "collapsed": true
	   },
	   "outputs": [],
"source": [
"//Calculations on SI engine\n",
"clc,clear\n",
"//Given:\n",
"n=6 //Number of cylinders\n",
"V_d=700 //Displaced volume per cylinder in cm^3\n",
"bp=78 //Brake power in kW\n",
"N=3200 //Angular speed of engine in rpm\n",
"m_f=27 //Petrol consumption in kg/hr\n",
"CV=44 //Calorific value in MJ/kg\n",
"//Solution:\n",
"//(1)\n",
"A_F=12 //Air-fuel ratio\n",
"P1=0.9,T1=32+273 //Intake air pressure and temperature in bar and K\n",
"m_a=A_F*m_f //Air consumption in kg/hr\n",
"R=287 //Specific gas constant in J/kgK\n",
"rho_a=P1*10^5/(R*T1) //Density of air in kg/m^3\n",
"eta_vol=m_a/(60*rho_a*V_d*n*10^-6*N/2) //Volumetric efficiency\n",
"//(2)\n",
"eta_bt=bp*3600/(m_f*CV*1000) //Brake thermal efficiency\n",
"//(3)\n",
"T=bp*60/(2*%pi*N) //Brake torque in kNm\n",
"//Results:\n",
"printf('\n (1)The volumetric efficiency, eta_vol = %.2f percent',eta_vol*100)\n",
"printf('\n (2)The brake thermal efficiency, eta_bt = %.2f percent',eta_bt*100)\n",
"printf('\n (3)The brake torque, T = %.0f Nm\n\n',T*1000)"
   ]
   }
],
"metadata": {
		  "kernelspec": {
		   "display_name": "Scilab",
		   "language": "scilab",
		   "name": "scilab"
		  },
		  "language_info": {
		   "file_extension": ".sce",
		   "help_links": [
			{
			 "text": "MetaKernel Magics",
			 "url": "https://github.com/calysto/metakernel/blob/master/metakernel/magics/README.md"
			}
		   ],
		   "mimetype": "text/x-octave",
		   "name": "scilab",
		   "version": "0.7.1"
		  }
		 },
		 "nbformat": 4,
		 "nbformat_minor": 0
}
