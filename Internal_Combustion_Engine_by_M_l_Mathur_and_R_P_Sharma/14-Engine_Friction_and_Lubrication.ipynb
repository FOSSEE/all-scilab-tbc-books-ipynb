{
"cells": [
 {
		   "cell_type": "markdown",
	   "metadata": {},
	   "source": [
       "# Chapter 14: Engine Friction and Lubrication"
	   ]
	},
{
		   "cell_type": "markdown",
		   "metadata": {},
		   "source": [
			"## Example 14.1: Calculation_of_saving_in_fuel.sce"
		   ]
		  },
  {
"cell_type": "code",
	   "execution_count": null,
	   "metadata": {
	    "collapsed": true
	   },
	   "outputs": [],
"source": [
"//Calculation of saving in fuel\n",
"clc,clear\n",
"//Given:\n",
"bp=80 //Brake power in kW\n",
"eta_m=80 //Mechanical efficiency in percent\n",
"bsfc=258 //Brake specific fuel consumption in gm/kWh\n",
"Reduction=3.7 //Reduction in friction power in kW\n",
"//Solution:\n",
"ip1=bp*100/eta_m //Initial indicated power in kW\n",
"fp1=ip1-bp //Initial friction power in kW\n",
"fp2=fp1-Reduction //Final friction power in kW\n",
"ip2=bp+fp2 //Final indicated power in kW\n",
"eta_m2=bp/ip2 //Final mechanical efficiency\n",
"bsfc2=bsfc*(eta_m/(100*eta_m2)) //Final brake specific fuel consumption in gm/kWh\n",
"Saving=bp*(bsfc-bsfc2)/1000 //Saving in fuel in kg/hr\n",
"//Results:\n",
"printf('\n (a)The new mechanical efficiency, eta_m = %.3f',eta_m2)\n",
"printf('\n (b)The new bsfc = %.1f gm/kWh',bsfc2)\n",
"printf('\n (c)The saving in fuel per hour = %.2f kg/hr\n\n',Saving)\n",
"//Answers in the book are wrong"
   ]
   }
,
{
		   "cell_type": "markdown",
		   "metadata": {},
		   "source": [
			"## Example 14.2: Variation_of_bsfc_with_speed.sce"
		   ]
		  },
  {
"cell_type": "code",
	   "execution_count": null,
	   "metadata": {
	    "collapsed": true
	   },
	   "outputs": [],
"source": [
"//Variation of bsfc with speed\n",
"clc,clear\n",
"//Given:\n",
"eta_it=30 //Indicated thermal efficiency in percent\n",
"fp_1500=18 //Friction power at 1500 rpm in kW\n",
"fp_2500=45 //Friction power at 2500 rpm in kW\n",
"bp=75 //Brake power in kW\n",
"CV=44000 //Calorific value of fuel in kJ/kg\n",
"//Solution:\n",
"isfc=3600/(CV*eta_it/100) //Indicated specific fuel consumption in kg/kWh\n",
"eta_m_1500=bp/(bp+fp_1500) //Mechanical efficiency at 1500 rpm\n",
"bsfc_1500=isfc/eta_m_1500 //Brake specific fuel consumption at 1500 rpm in kg/kWh\n",
"eta_m_2500=bp/(bp+fp_2500) //Mechanical efficiency at 2500 rpm\n",
"bsfc_2500=isfc/eta_m_2500 //Brake specific fuel consumption at 2500 rpm in kg/kWh\n",
"//Results:\n",
"printf('\n The brake specific fuel consumption\n\tat 1500 rpm, bsfc_1500 = %.3f kg/kWh\n\tat 2500 rpm, bsfc_2500 = %.3f kg/kWh\n\n',bsfc_1500,bsfc_2500)"
   ]
   }
],
"metadata": {
		  "kernelspec": {
		   "display_name": "Scilab",
		   "language": "scilab",
		   "name": "scilab"
		  },
		  "language_info": {
		   "file_extension": ".sce",
		   "help_links": [
			{
			 "text": "MetaKernel Magics",
			 "url": "https://github.com/calysto/metakernel/blob/master/metakernel/magics/README.md"
			}
		   ],
		   "mimetype": "text/x-octave",
		   "name": "scilab",
		   "version": "0.7.1"
		  }
		 },
		 "nbformat": 4,
		 "nbformat_minor": 0
}
