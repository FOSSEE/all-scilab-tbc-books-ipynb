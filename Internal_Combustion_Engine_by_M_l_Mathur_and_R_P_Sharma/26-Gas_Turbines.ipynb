{
"cells": [
 {
		   "cell_type": "markdown",
	   "metadata": {},
	   "source": [
       "# Chapter 26: Gas Turbines"
	   ]
	},
{
		   "cell_type": "markdown",
		   "metadata": {},
		   "source": [
			"## Example 26.10: Calculations_on_closed_cycle_gas_turbine.sce"
		   ]
		  },
  {
"cell_type": "code",
	   "execution_count": null,
	   "metadata": {
	    "collapsed": true
	   },
	   "outputs": [],
"source": [
"//Calculations on closed cycle gas turbine\n",
"clc,clear\n",
"//Given:\n",
"r_p=9 //Overall pressure ratio\n",
"eta_LPC=85,eta_HPC=85 //Isentropic efficiency of L.P. and H.P. compressors in percent\n",
"eta_LPT=90,eta_HPT=90 //Isentropic efficiency of L.P. and H.P. turbine in percent\n",
"T1=300,T5=1100 //Inlet temperature to turbine and compressor in K\n",
"cp_ar=0.5207 //Specific heat of Argon in kJ/kgK\n",
"g_ar=1.667 //Specific heat ratio(gamma) for Argon\n",
"R_ar=0.20813 //Specific gas constant for Argon in kJ/kgK\n",
"//Solution:\n",
"//Refer fig. 26.34, 26.35\n",
"m_ar=1 //Assume mass flow rate in kg/s\n",
"P1=1 //Assume pressure at entering to L.P. compressor in bar\n",
"P2=sqrt(r_p)*P1 //Pressure at leaving to L.P. compressor in bar\n",
"P3=P2 //Pressure at entering to H.P. compressor in bar\n",
"P4=r_p*P1 //Pressure at leaving to H.P. compressor in bar\n",
"T2!=T1*(P2/P1)^((g_ar-1)/g_ar) //Isentropic temperature at 2 in K\n",
"T2=(T2!-T1)/(eta_LPC/100)+T1 //Temperature at 2 in K\n",
"W_LPC=m_ar*cp_ar*(T2-T1) //Work required by L.P. compressor in kJ/kg/s\n",
"T3=T1 //Temperature at 3 in K\n",
"T4!=T3*(P4/P3)^((g_ar-1)/g_ar) //Isentropic temperature at 4 in K\n",
"T4=(T4!-T3)/(eta_HPC/100)+T3 //Temperature at 4 in K\n",
"//Work required is same for both L.P.C. and H.P.C. as pressure ratio is same for both\n",
"W_HPC=W_LPC //Work required by H.P. compressor in kJ/kg/s\n",
"P5=P4,P6=P2,P7=P6,P8=P1 //Pressure at 5, 6, 7, 8 in bar\n",
"T6!=T5/(P5/P6)^((g_ar-1)/g_ar) //Isentropic temperature at 6 in K\n",
"T6=T5-eta_HPT/100*(T5-T6!) //Temperature at 6 in K\n",
"W_HPT=m_ar*cp_ar*(T5-T6) //Work done by H.P. turbine in kJ/kg/s\n",
"//Work done is same for both L.P.T. and H.P.T. as pressure ratio is same for both\n",
"W_LPT=W_HPT //Work done by L.P. turbine in kJ/kg/s\n",
"T7=T5 //Temperature at 7 in K\n",
"//(a)\n",
"W=(W_HPT+W_LPT)-(W_HPC+W_LPC) //Net work done in kW/kg\n",
"//(b)\n",
"r_w=W/(W_HPT+W_LPT) //Work ratio\n",
"//(c)\n",
"Q1_c=m_ar*cp_ar*(T5-T4) //Heat supplied in combustion chamber in kJ/kg/s\n",
"Q1_r=m_ar*cp_ar*(T7-T6) //Heat supplied in reheater in kJ/kg/s\n",
"eta=W/(Q1_c+Q1_r) //Overall efficiency\n",
"//Results:\n",
"printf('\n (a)The work done per kg of fuel flow, W = %.1f kW/kg',W)\n",
"printf('\n (b)The work ratio, r_w = %.3f',r_w)\n",
"printf('\n (c)The overall efficiency, eta = %.3f\n\n',eta)"
   ]
   }
,
{
		   "cell_type": "markdown",
		   "metadata": {},
		   "source": [
			"## Example 26.1: Calculations_on_Brayton_cycle.sce"
		   ]
		  },
  {
"cell_type": "code",
	   "execution_count": null,
	   "metadata": {
	    "collapsed": true
	   },
	   "outputs": [],
"source": [
"//Calculations on Brayton cycle\n",
"clc,clear\n",
"//Given:\n",
"P1=101.325 //Pressure at the beginning(1) in kPa\n",
"T1=27+273 //Temperature at the beginning(1) in K\n",
"r_p=6 //pressure ratio\n",
"g=1.4 //Specific heat ratio(gamma)\n",
"cp=1.005 //Specific heat in kJ/kgK\n",
"W_TC=2.5 //Ratio of Turbine work and compressor work\n",
"m=1 //Assume mass in kg\n",
"//Solution:\n",
"//Refer fig 26.22\n",
"T2=T1*r_p^((g-1)/g) //Temperature at 2 in K\n",
"T3=poly(0,'T3') //Defining temperature at 3 as a unknown in K\n",
"T4=T3/r_p^((g-1)/g) //Defining temperature at 4 in terms of T3 in K\n",
"W_C=m*cp*(T2-T1) //Compressor work in kJ\n",
"W_T=m*cp*(T3-T4) //Turbine work in kJ\n",
"T3=roots(W_T-W_TC*W_C) //Temperature at 3 in K\n",
"T4=horner(T4,T3) //Temperature at 4 in K\n",
"eta=((T3-T4)-(T2-T1))/(T3-T2) //Cycle efficiency\n",
"//Results:\n",
"printf('\n The maximum temperature in the cycle, T3 = %.1f K',T3)\n",
"printf('\n The cycle efficiency, eta = %.2f percent\n\n',eta*100)"
   ]
   }
,
{
		   "cell_type": "markdown",
		   "metadata": {},
		   "source": [
			"## Example 26.2: Calculations_on_Joule_cycle.sce"
		   ]
		  },
  {
"cell_type": "code",
	   "execution_count": null,
	   "metadata": {
	    "collapsed": true
	   },
	   "outputs": [],
"source": [
"//Calculations on Joule cycle\n",
"clc,clear\n",
"//Given:\n",
"T1=25+273,T3=825+273 //Minimum and maximum temperature in K\n",
"r_p=4.5 //pressure ratio\n",
"eta_C=85,eta_T=90 //Isentropic efficiencies of compressor and turbine in percent\n",
"P=1300 //Power rating of the turbine in kW\n",
"cp=1.005 //Specific heat in kJ/kgK\n",
"g=1.4 //Specific heat ratio(gamma)\n",
"//Solution:\n",
"//Refer fig 26.23\n",
"T2!=T1*r_p^((g-1)/g) //Isentropic temperature at 2 in K\n",
"T2=(T2!-T1)/(eta_C/100)+T1 //Temperature at 2 in K\n",
"T4!=T3/r_p^((g-1)/g) //Isentropic temperature at 4 in K\n",
"T4=T3-eta_T/100*(T3-T4!) //Temperature at 4 in K\n",
"W_C=cp*(T2-T1) //Compressor work in kJ/kg\n",
"W_T=cp*(T3-T4) //Turbine work in kJ/kg\n",
"Q1=cp*(T3-T2) //Heat added in kJ/kg\n",
"W=W_T-W_C //Work output in kJ/kg (Round off error)\n",
"eta=W/Q1 //Cycle efficiency\n",
"r_w=W/W_T //Work ratio\n",
"HR=3600/(eta) //Heat rate in kJ/kWh (Round off error)\n",
"m=P/W //Mass flow rate in kg/s\n",
"//Results:\n",
"printf('\n The specific work output, W = %d kJ/kg',W)\n",
"printf('\n The cycle efficiency, eta = %.1f percent',eta*100)\n",
"printf('\n The work ratio, rw = %.3f',r_w)\n",
"printf('\n The heat rate = %d kJ/kWh',HR)\n",
"printf('\n The mass flow rate for 1300 kW, m = %.2f kg/s\n\n',m)\n",
"//Round off error in the values of 'W' and 'HR'"
   ]
   }
,
{
		   "cell_type": "markdown",
		   "metadata": {},
		   "source": [
			"## Example 26.3: Calculations_for_zero_efficiency.sce"
		   ]
		  },
  {
"cell_type": "code",
	   "execution_count": null,
	   "metadata": {
	    "collapsed": true
	   },
	   "outputs": [],
"source": [
"//Calculations for zero efficiency\n",
"clc,clear\n",
"//Given:\n",
"T1=25+273,T3=750+273 //Minimum and maximum temperature in K\n",
"r_p=4 //pressure ratio\n",
"eta_C=75 //Isentropic efficiency of compressor in percent\n",
"g=1.4 //Specific heat ratio(gamma)\n",
"//Solution:\n",
"//Refer fig 26.24\n",
"T2!=T1*r_p^((g-1)/g) //Isentropic temperature at 2 in K\n",
"T2=(T2!-T1)/(eta_C/100)+T1 //Temperature at 2 in K\n",
"T4!=T3/r_p^((g-1)/g) //Isentropic temperature at 4 in K\n",
"//For zero efficiency of the cycle (T3-T4) = (T2-T1)\n",
"eta_T=(T2-T1)/(T3-T4!) //Turbine efficiency\n",
"//Results:\n",
"printf('\n The turbine efficiency for zero cycle efficiency, eta_T = %.1f percent\n\n',eta_T*100)"
   ]
   }
,
{
		   "cell_type": "markdown",
		   "metadata": {},
		   "source": [
			"## Example 26.4: Calculations_on_gas_turbine.sce"
		   ]
		  },
  {
"cell_type": "code",
	   "execution_count": null,
	   "metadata": {
	    "collapsed": true
	   },
	   "outputs": [],
"source": [
"//Calculations on gas turbine\n",
"clc,clear\n",
"//Given:\n",
"P1=1,P2=6 //Pressure at entering and leaving of compressor in bar\n",
"T1=27+273 //Temperature at entering in K\n",
"T3=700+273 //Maximum temperature in K\n",
"eta_C=0.80,eta_T=0.85 //Isentropic efficiencies of compressor and turbine in percent\n",
"eta_c=0.98 //Combustion efficiency in percent\n",
"P3=P2-0.1 //Pressure at 3 after falling 0.1 bar in bar\n",
"cp_a=1.005 //Specific heat of air in kJ/kgK\n",
"g=1.4 //Specific heat ratio(gamma)\n",
"cp_g=1.147 //Specific heat of gas in kJ/kgK\n",
"g1=1.333 //Specific heat ratio(gamma) of gas\n",
"CV=42700 //Calorific value of fuel in kJ/kg\n",
"//Solution:\n",
"//Refer fig 26.25\n",
"T2!=T1*(P2/P1)^((g-1)/g) //Isentropic temperature at 2 in K\n",
"T2=(T2!-T1)/(eta_C)+T1 //Temperature at 2 in K\n",
"T4!=T3/(P3/P1)^((g1-1)/g1) //Isentropic temperature at 4 in K\n",
"T4=T3-eta_T*(T3-T4!) //Temperature at 4 in K\n",
"W_C=cp_a*(T2-T1) //Compressor work in kJ/kg\n",
"W_T=cp_g*(T3-T4) //Turbine work in kJ/kg\n",
"W=W_T-W_C //Work output in kJ/kg\n",
"Q1=cp_g*(T3-T2)/eta_c //Heat added in kJ/kg\n",
"eta=W/Q1 //Cycle efficiency\n",
"r_w=W/W_T //Work ratio\n",
"AR=round(3600/W) //Air rate in kg/kWh\n",
"sfc=Q1*AR/CV //Specific fuel consumption in kg/kWh\n",
"A_F=AR/sfc //Air fuel ratio\n",
"//Results:\n",
"printf('\n (a)The thermal efficiency, eta = %.1f percent',eta*100)\n",
"printf('\n (b)The work ratio, rw = %.3f',r_w)\n",
"printf('\n (e)The air rate = %d kg/kWh',AR)\n",
"printf('\n (d)The specific fuel consumption, sfc = %.3f kg/kWh',sfc)\n",
"printf('\n (c)The air fuel ratio = %.1f\n\n',A_F)"
   ]
   }
,
{
		   "cell_type": "markdown",
		   "metadata": {},
		   "source": [
			"## Example 26.5: Calculations_on_gas_turbine.sce"
		   ]
		  },
  {
"cell_type": "code",
	   "execution_count": null,
	   "metadata": {
	    "collapsed": true
	   },
	   "outputs": [],
"source": [
"//Calculations on gas turbine\n",
"clc,clear\n",
"//Given:\n",
"P1=1,P2=6.20 //Pressure at entering and leaving of compressor in bar\n",
"T1=300 //Temperature at entering in K\n",
"eta_C=88,eta_T=90 //Isentropic efficiencies of compressor and turbine in percent\n",
"CV=44186 //Calorific value of fuel in kJ/kg\n",
"F_A=0.017 //Fuel air ratio\n",
"cp_a=1.005 //Specific heat of air in kJ/kgK\n",
"g=1.4 //Specific heat ratio(gamma)\n",
"cp_g=1.147 //Specific heat of gas in kJ/kgK\n",
"g1=1.333 //Specific heat ratio(gamma) of gas\n",
"//Solution:\n",
"//Refer fig 26.26\n",
"T2!=T1*(P2/P1)^((g-1)/g) //Isentropic temperature at 2 in K\n",
"T2=(T2!-T1)/(eta_C/100)+T1 //Temperature at 2 in K\n",
"m_a=1 //Assume mass of air in kg\n",
"m_f=F_A*m_a //Mass of fuel in kg\n",
"T3=(cp_a*m_a*T2+m_f*CV)/(cp_g*(m_a+m_f)) //Temperature at 3 in K\n",
"r_p=P2/P1 //pressure ratio\n",
"T4!=T3/r_p^((g1-1)/g1) //Isentropic temperature at 4 in K\n",
"T4=T3-eta_T/100*(T3-T4!) //Temperature at 4 in K\n",
"W_C=m_a*cp_a*(T2-T1) //Compressor work in kJ/kg\n",
"W_T=(m_a+m_f)*cp_g*(T3-T4) //Turbine work in kJ/kg\n",
"W=W_T-W_C //Work output in kJ/kg\n",
"Q1=m_f*CV //Heat added in kJ/kg\n",
"eta=W/Q1 //Cycle efficiency\n",
"//Results:\n",
"printf('\n The turbine work, W_T = %.2f kJ/kg',W_T)\n",
"printf('\n The compressor work, W_C = %.2f kJ/kg',W_C)\n",
"printf('\n The thermal efficiency, eta = %.2f percent\n\n',eta*100)"
   ]
   }
,
{
		   "cell_type": "markdown",
		   "metadata": {},
		   "source": [
			"## Example 26.6: Calculations_on_gas_turbine_with_heat_exchanger.sce"
		   ]
		  },
  {
"cell_type": "code",
	   "execution_count": null,
	   "metadata": {
	    "collapsed": true
	   },
	   "outputs": [],
"source": [
"//Calculations on gas turbine with heat exchanger\n",
"clc,clear\n",
"//Given:\n",
"T1=17+273 //Temperature at entering in K\n",
"P1=1 //Pressure at entering of compressor in bar\n",
"r_p=4.5 //pressure ratio\n",
"W=4000 //Work output in kW\n",
"m=40 //Mass flow rate in kg/s\n",
"e=0.6 //Thermal ratio or effectiveness of heat exchanger\n",
"eta_C=84 //Isentropic efficiency of compressor in percent\n",
"eta=0.29 //Thermal efficiency\n",
"cp_a=1.005 //Specific heat of air in kJ/kgK\n",
"g=1.4 //Specific heat ratio(gamma) of air\n",
"cp_g=1.07 //Specific heat of gas in kJ/kgK\n",
"g1=1.365 //Specific heat ratio(gamma) of gas\n",
"//Solution:\n",
"//Refer fig 26.27\n",
"T2!=T1*r_p^((g-1)/g) //Isentropic temperature at 2 in K\n",
"T2=(T2!-T1)/(eta_C/100)+T1 //Temperature at 2 in K\n",
"W=W/m //Specific work output in kJ/kg\n",
"Q1=W/eta //Heat added in kJ/kg\n",
"W_C=cp_a*(T2-T1) //Compressor work in kJ/kg\n",
"W_T=W+W_C //Turbine work in kJ/kg\n",
"function y=f(T4)\n",
"    T3=T4-Q1/cp_g //Defining temperature at 3 in terms of T4 in K\n",
"    T5=T4-W_T/cp_g //Defining temperature at 5 in terms of T4 in K\n",
"    y=(cp_a*(T3-T2))/(cp_g*(T5-T2))-e\n",
"endfunction\n",
"//Since effectiveness from the relation must be equal to the given effectiveness\n",
"//Thus their difference must be equal to Zero, thus function, f solve for zero to get the value of variable(T4)\n",
"T4=fsolve(1000,f) //Temperature at 4 in K\n",
"T5=T4-W_T/cp_g //Temperature at 5 in K\n",
"T5!=T4/r_p^((g1-1)/g1) //Isentropic temperature at 5 in K\n",
"eta_T=(T4-T5)/(T4-T5!) //Isentropic efficiency of turbine\n",
"//Results:\n",
"printf('\n The isentropic efficiency of the gas turbine, eta_T = %.1f percent\n\n',eta_T*100)"
   ]
   }
,
{
		   "cell_type": "markdown",
		   "metadata": {},
		   "source": [
			"## Example 26.7: Calculations_on_compound_gas_turbine.sce"
		   ]
		  },
  {
"cell_type": "code",
	   "execution_count": null,
	   "metadata": {
	    "collapsed": true
	   },
	   "outputs": [],
"source": [
"//Calculations on compound gas turbine\n",
"clc,clear\n",
"//Given:\n",
"r_p=4 //pressure ratio\n",
"eta_C=0.86,eta_HPT=0.84,eta_LPT=0.80 //Isentropic efficiencies of compressor and high and low pressure turbine in percent\n",
"e=70 //Effectiveness of heat exchanger in percent\n",
"eta_d=0.92 //Mechanical efficiency of drive to compressor\n",
"T4=660+273,T6=625+273 //Temperature of gases entering H.P. turbine and L.P. turbine in K\n",
"cp_a=1.005 //Specific heat of air in kJ/kgK\n",
"g=1.4 //Specific heat ratio(gamma)\n",
"cp_g=1.15 //Specific heat of gas in kJ/kgK\n",
"g1=1.333 //Specific heat ratio(gamma) of gas\n",
"T1=15+273 //Atmospheric temperature in K\n",
"P1=1 //Atmospheric pressure in bar\n",
"//Solution:\n",
"//Refer fig 26.28, 26.29\n",
"P2=r_p*P1,P4=P2 //Pressure at 2, 4 in bar\n",
"T2!=T1*r_p^((g-1)/g) //Isentropic temperature at 2 in K\n",
"T2=(T2!-T1)/(eta_C)+T1 //Temperature at 2 in K\n",
"W_C=cp_a*(T2-T1) //Compressor work in kJ/kg\n",
"W_HPT=W_C/eta_d //Work done by H.P. turbine in kJ/kg\n",
"T5=T4-W_HPT/cp_g //Temperature at 5 in K\n",
"T5!=T4-(T4-T5)/(eta_HPT) //Isentropic temperature at 5 in K\n",
"P5=P4/(T4/T5!)^(g1/(g1-1)) //Pressure at 5 in bar\n",
"P6=P5,P7=P1 //Pressure at 6, 7 in bar\n",
"T7!=T6*(P7/P6)^((g1-1)/g1) //Isentropic temperature at 7 in K\n",
"T7=T6-eta_LPT*(T6-T7!) //Temperature at 7 in K\n",
"W_LPT=cp_g*(T6-T7) //Work done by L.P. turbine in kJ/kg\n",
"T3=poly(0,'T3') //Defining temperature at 3 as a unknown in K\n",
"e1=(cp_a*(T3-T2))/(cp_g*(T7-T2)) //Effectiveness in terms of T3\n",
"//Effectiveness from the relation must be equal to the given effectiveness\n",
"//Thus their difference must be zero\n",
"T3=roots(e1-e/100) //Temperature at 3 in K\n",
"W=cp_g*(T6-T7) //Work output in kJ/kg (error in book)\n",
"Q1=cp_g*(T4-T3)+cp_g*(T6-T5) //Heat added in kJ/kg\n",
"eta=W/Q1 //Cycle efficiency\n",
"//Results:\n",
"printf('\n The pressure of the gas entering L.P.T., P6 = %.2f bar',P6)\n",
"printf('\n The net specific power, W = %.2f kW/kg/s',W)\n",
"printf('\n The overall efficiency, eta = %.4f\n\n',eta)\n",
"//Answer is wrong in book"
   ]
   }
,
{
		   "cell_type": "markdown",
		   "metadata": {},
		   "source": [
			"## Example 26.8: Calculations_on_automotive_gas_turbine.sce"
		   ]
		  },
  {
"cell_type": "code",
	   "execution_count": null,
	   "metadata": {
	    "collapsed": true
	   },
	   "outputs": [],
"source": [
"//Calculations on automotive gas turbine\n",
"clc,clear\n",
"//Given:\n",
"r_p=6 //pressure ratio\n",
"e=65 //Effectiveness of heat exchanger in percent\n",
"T5=800+273,T1=15+273 //Inlet temperature to H.P. turbine and L.P. compressor in K\n",
"m=0.7 //Mass flow rate in kg/s\n",
"eta_C=0.8,eta_HPT=0.85,eta_LPT=0.85 //Isentropic efficiency of compressor and high and low pressure turbine in percent\n",
"eta_d=98 //Mechanical efficiency to drive compressor in percent\n",
"eta_c=97 //Combustion efficiency in percent\n",
"CV=42600 //Calorific value of fuel in kJ/kg\n",
"cp=1.005 //Assume specific heat in kJ/kgK\n",
"g=1.4 //Specific heat ratio(gamma)\n",
"//Solution:\n",
"//Refer fig 26.30, 26.31\n",
"P1=1 //Atmospheric pressure in bar\n",
"P3=r_p*P1,P5=P3,P7=P1 //Pressure at 3, 5, 7 in bar\n",
"T3!=T1*r_p^((g-1)/g) //Isentropic temperature at 3 in K\n",
"T3!=round(T3!*10)/10\n",
"T3=(T3!-T1)/(eta_C)+T1 //Temperature at 3 in K\n",
"W_C=m*cp*(T3-T1) //Compressor work in kW\n",
"W_HPT=W_C*100/eta_d //Work done by H.P. turbine in kW\n",
"T6=T5-W_HPT/(m*cp) //Temperature at 6 in K\n",
"T6!=T5-(T5-T6)/(eta_HPT) //Isentropic temperature at 6 in K\n",
"P6=P5/(T5/T6!)^(g/(g-1)) //Pressure at 6 in bar\n",
"T7!=T6*(P7/P6)^((g-1)/g) //Isentropic temperature at 7 in K\n",
"T7=T6-eta_LPT*(T6-T7!) //Temperature at 7 in K\n",
"W=m*cp*(T6-T7) //Net power developed in kW\n",
"T4=e/100*(T7-T3)+T3 //Temperature at 4 in K\n",
"Q1=m*cp*(T5-T4)*100/eta_c //Heat supplied in kJ/s\n",
"eta=W/Q1 //Overall thermal efficiency\n",
"sfc=Q1*3600/(CV*W) //Specific fuel consumption in kg/kWh\n",
"//Results:\n",
"printf('\n (a)The net power developed, W = %.2f kW',W)\n",
"printf('\n (b)The overall thermal efficiency, eta = %.1f percent',eta*100)\n",
"printf('\n (c)The specific fuel consumption, sfc = %.3f kg/kWh\n\n',sfc)"
   ]
   }
,
{
		   "cell_type": "markdown",
		   "metadata": {},
		   "source": [
			"## Example 26.9: Calculations_on_Helium_gas_turbine.sce"
		   ]
		  },
  {
"cell_type": "code",
	   "execution_count": null,
	   "metadata": {
	    "collapsed": true
	   },
	   "outputs": [],
"source": [
"//Calculations on Helium gas turbine\n",
"clc,clear\n",
"//Given:\n",
"P1=4,P2=16 //Pressure at entering and leaving of compressor in bar\n",
"T1=320,T2=590 //Temperature at entering and leaving of compressor in K\n",
"e=70 //Effectiveness of heat exchanger in percent\n",
"P3=15.5,P4=4.2 //Pressure at entering and leaving of turbine in bar\n",
"T3=1400,T4=860 //Temperature at entering and leaving of turbine in K\n",
"P=100 //Net power output in MW\n",
"cp_h=5.2 //Specific heat of helium in kJ/kgK\n",
"g_h=1.67 //Specific heat ratio(gamma) for helium\n",
"//Solution:\n",
"//Refer fig 26.32, 26.33\n",
"T2!=T1*(P2/P1)^((g_h-1)/g_h) //Isentropic temperature at 2 in K\n",
"eta_C=(T2!-T1)/(T2-T1) //Compressor efficiency\n",
"T4!=T3/(P3/P4)^((g_h-1)/g_h) //Isentropic temperature at 4 in K\n",
"eta_T=(T3-T4)/(T3-T4!) //Turbine efficiency\n",
"Tx=T2+(T4-T2)*e/100 //Temperature at leaving of regenerator in K\n",
"Q1=cp_h*(T3-Tx) //Heat supplied in kJ/kg\n",
"W_T=cp_h*(T3-T4) //Turbine work in kJ/kg\n",
"W_C=cp_h*(T2-T1) //Compressor work in kJ/kg\n",
"W=W_T-W_C //Work output in kJ/kg\n",
"eta=W/Q1 //Cycle efficiency\n",
"T5=T4-(Tx-T2) //Temperature at 5 in K\n",
"Qout=cp_h*(T5-T1) //Heat rejected in precooler in kJ/kg\n",
"m_h=P*1000/W //Helium flow rate in kg/s\n",
"//Results:\n",
"printf('\n (a)The compressor efficiency, eta_C = %.3f\n\tThe turbine efficiency, eta_T = %.3f',eta_C,eta_T)\n",
"printf('\n (b)The thermal efficiency of the cycle, eta = %.1f percent',eta*100)\n",
"printf('\n (c)The heat rejected in the cooler before compressor, Qout = %.1f kJ/kg',Qout)\n",
"printf('\n (d)The helium flow rate for the net power output of 100 MW, m = %.2f kg/s\n\n',m_h)"
   ]
   }
],
"metadata": {
		  "kernelspec": {
		   "display_name": "Scilab",
		   "language": "scilab",
		   "name": "scilab"
		  },
		  "language_info": {
		   "file_extension": ".sce",
		   "help_links": [
			{
			 "text": "MetaKernel Magics",
			 "url": "https://github.com/calysto/metakernel/blob/master/metakernel/magics/README.md"
			}
		   ],
		   "mimetype": "text/x-octave",
		   "name": "scilab",
		   "version": "0.7.1"
		  }
		 },
		 "nbformat": 4,
		 "nbformat_minor": 0
}
