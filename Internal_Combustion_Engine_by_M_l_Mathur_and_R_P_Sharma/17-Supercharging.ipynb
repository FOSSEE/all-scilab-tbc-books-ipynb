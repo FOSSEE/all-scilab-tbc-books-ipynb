{
"cells": [
 {
		   "cell_type": "markdown",
	   "metadata": {},
	   "source": [
       "# Chapter 17: Supercharging"
	   ]
	},
{
		   "cell_type": "markdown",
		   "metadata": {},
		   "source": [
			"## Example 17.1: Estimation_of_increase_in_brake_power.sce"
		   ]
		  },
  {
"cell_type": "code",
	   "execution_count": null,
	   "metadata": {
	    "collapsed": true
	   },
	   "outputs": [],
"source": [
"//Estimation of increase in brake power\n",
"clc,clear\n",
"//Given:\n",
"V_s=3000 //Total swept volume in cc\n",
"ip=14 //Indicated power in kW/m^3\n",
"N=3500 //Engine speed in rpm\n",
"eta_v=80 //Volumetric efficiency in percent\n",
"T1=27+273 //Atmospheric temperature in K\n",
"P1=1.013 //Atmospheric pressure in bar\n",
"r_p=1.7 //pressure ratio\n",
"eta_C=75 //Isentropic efficiency of blower in percent\n",
"eta_m=80 //Mechanical efficiency in percent\n",
"g=1.4 //Specific heat ratio(gamma)\n",
"//Solution:\n",
"V_s=V_s*N/2*1D-6 //Total swept volume in m^3/min\n",
"Vi=V_s*eta_v/100 //Unsupercharged induced volume in m^3/min\n",
"P2=P1*r_p //Blower delivery pressure in bar\n",
"T2!=T1*r_p^((g-1)/g) //Isentropic temperature at 2 in K\n",
"T2!=ceil(T2!)\n",
"T2=(T2!-T1)/(eta_C/100)+T1 //Temperature at 2 in K\n",
"V1=V_s*(P2/T2)*(T1/P1) //Volume at atmospheric conditions in m^3/min\n",
"Vi_inc=V1-Vi //Increase in induced volume in m^3/min\n",
"ip_inc1=ip*Vi_inc //Increased in ip from air induced in kW\n",
"ip_inc2=(P2-P1)*100*V_s/60 //Increased in ip due to increased induction pressure in kW\n",
"ip_inc=ip_inc1+ip_inc2 //Total increase in ip in kW\n",
"bp_inc=eta_m/100*ip_inc //Total increase in bp in kW\n",
"R=0.287 //Specific gas constant in kJ/kgK\n",
"cp=1.005 //Specific heat in kJ/kgK\n",
"m2=P2*100*V_s/(R*T2*60) //Mass of air delivered by the blower in kg/s\n",
"Power=m2*cp*(T2-T1)/(eta_m/100) //Power required by the blower in kW\n",
"bp_inc=bp_inc-Power //Net increase in brake power in kW\n",
"//Results:\n",
"printf('\n The net increase in the brake power = %.1f kW\n\n',bp_inc)"
   ]
   }
,
{
		   "cell_type": "markdown",
		   "metadata": {},
		   "source": [
			"## Example 17.2: Supercharged_diesel_engine.sce"
		   ]
		  },
  {
"cell_type": "code",
	   "execution_count": null,
	   "metadata": {
	    "collapsed": true
	   },
	   "outputs": [],
"source": [
"//Supercharged diesel engine\n",
"clc,clear\n",
"//Given:\n",
"T1=10+273 //Temperature at sea level in K\n",
"P1=1.013 //Pressure at sea level in bar\n",
"bp=250 //Brake power in kW\n",
"eta_v=78 //Volumetric efficiency in percent\n",
"bsfc=0.245 //Brake specific fuel consumption in kg/kWh\n",
"A_F=17 //Air fuel ratio\n",
"N=1500 //Engine speed in rpm\n",
"h=2700 //Altitude in m\n",
"P_a=0.72 //Pressure at altitude in bar\n",
"p=8 //Percentage of gross power taken by the supercharger\n",
"T2=32+273 //Temperature of air leaving the supercharger in K\n",
"//Solution:\n",
"//Unsupercharged\n",
"m_f=bsfc*bp/60 //Fuel consumption in kg/min\n",
"m_a=A_F*m_f //Air consumption in kg/min\n",
"m_a=m_a/(N/2) //Air consumption per cycle in kg\n",
"m1=m_a/eta_v*100 //Mass of air corresponding to swept volume\n",
"R=0.287 //Specific gas constant in kJ/kgK\n",
"V_s=m1*R*T1/(P1*100) //Swept volume in m^3\n",
"bmep=bp/(V_s*N/(60*2)) //Brake mean effective pressure in kN/m^2\n",
"//Supercharged\n",
"bp2=bp/(1-p/100) //Gross power produced by the engine in kW\n",
"m_a2=bp2/bp*m_a //Mass of air required per cycle in kg\n",
"m2=m_a2/eta_v*100 //Mass of air corresponding to swept volume\n",
"P2=m2*R*T2/(V_s*100) //Pressure of air leaving the supercharger in bar\n",
"deltaP=P2-P_a //Increase in pressure required in bar\n",
"//Results:\n",
"printf('\n The required engine capacity, V_s = %.4f m^3',V_s)\n",
"printf('\n The anticipated brake mean effective pressure, bmep = %.1f bar',bmep/100)\n",
"printf('\n The increase of air pressure required at the supercharger = %.3f bar\n\n',deltaP)"
   ]
   }
,
{
		   "cell_type": "markdown",
		   "metadata": {},
		   "source": [
			"## Example 17.3: Normally_aspirated_and_supercharged_engine.sce"
		   ]
		  },
  {
"cell_type": "code",
	   "execution_count": null,
	   "metadata": {
	    "collapsed": true
	   },
	   "outputs": [],
"source": [
"//Normally aspirated and supercharged engine\n",
"clc,clear\n",
"//Given:\n",
"V_s=3300 //Swept volume in cc\n",
"//For normally aspirated\n",
"bmep1=9.3 //Brake mean effective pressure in bar\n",
"N1=4500 //Engine speed in rpm\n",
"eta_it1=28.5 //Indicated thermal efficiency in percent\n",
"eta_m1=90 //Mechanical efficiency in percent\n",
"m1=205 //Mass of unboosted engine in kg\n",
"//For supercharged\n",
"bmep2=12.1 //Brake mean effective pressure in bar\n",
"N2=4500 //Engine speed in rpm\n",
"eta_it2=24.8 //Indicated thermal efficiency in percent\n",
"eta_m2=90 //Mechanical efficiency in percent\n",
"m2=225 //Mass of boosted engine in kg\n",
"h=poly(0,'h') //Defining the unknown h hours duration\n",
"CV=44000 //Calorific value of fuel in kJ/kg\n",
"//Solution:\n",
"//For normally aspirated\n",
"bp1=bmep1*100*V_s/1D+6*N1/(2*60) //Brake power in kW\n",
"bp1=round(bp1)\n",
"ip1=bp1/eta_m1*100 //Indicated power in kW\n",
"m_f1=ip1/(eta_it1/100*CV) //Fuel flow in kg/s\n",
"m_f1=m_f1*3600*h //Mass of fuel flow in h hours in kg\n",
"Mass1=(m1+m_f1)/bp1 //Specific mass in kg/kW\n",
"//For supercharged\n",
"bp2=bmep2*100*V_s/1D+6*N2/(2*60) //Brake power in kW\n",
"bp2=round(bp2)\n",
"ip2=bp2/eta_m2*100 //Indicated power in kW\n",
"m_f2=ip2/(eta_it2/100*CV) //Fuel flow in kg/s\n",
"m_f2=m_f2*3600*h //Mass of fuel flow in h hours in kg\n",
"Mass2=(m2+m_f2)/bp2 //Specific mass in kg/kW\n",
"for h=0:0.01:10; //Defining the range of h(hours)\n",
"    if (horner(Mass1,h) > horner(Mass2,h)) then //Specific mass of boosted engine is always be less than unboosted\n",
"        continue\n",
"    else\n",
"        h_max=h\n",
"        break\n",
"    end\n",
"end\n",
"//Results:\n",
"printf('\n The maximum value of h hours duration, h_max = %.2f hours\n\n',h_max)"
   ]
   }
,
{
		   "cell_type": "markdown",
		   "metadata": {},
		   "source": [
			"## Example 17.4: Supercharged_four_stroke_oil_engine.sce"
		   ]
		  },
  {
"cell_type": "code",
	   "execution_count": null,
	   "metadata": {
	    "collapsed": true
	   },
	   "outputs": [],
"source": [
"//Supercharged four stroke oil engine\n",
"clc,clear\n",
"//Given:\n",
"T1=20+273 //Temperature of air enters the compressor in K\n",
"Q1=1340 //Heat added to air in kJ/min\n",
"T3=60+273 //Temperature of air leaves the cooler or enters the engine in K\n",
"P3=1.72 //Pressure of air leaves the cooler or enters the engine in bar\n",
"eta_v=0.70 //Volumetric efficiency of engine\n",
"n=6 //Number of cylinders\n",
"d=90,l=100 //Bore and stroke of cylinder in mm\n",
"N=2000 //Engine speed in rpm\n",
"T=147 //Output brake torque in Nm\n",
"eta_m=0.75 //Mechanical efficiency\n",
"//Solution:\n",
"bp=2*%pi*N/60*T*10^-3 //Brake power in kW\n",
"ip=bp/eta_m //Indicated power in kW\n",
"ip=ip/n //Indicated power per cylinder in kW\n",
"A=(%pi/4)*d^2*1D-6 //Area of cylinder in m^2\n",
"l=l*1D-3 //Stroke of cylinder in m\n",
"imep=ip/(l*A*N/(2*60)) //Indicated mean effective pressure in kN/m^2\n",
"imep=imep/100 //Indicated mean effective pressure in bar\n",
"V_s=n*A*l*N/2 //Engine swept volume in m^3/min\n",
"Vi=V_s*eta_v //Induced volume of air in m^3/min\n",
"R=0.287 //Specific gas constant in kJ/kgK\n",
"cp=1.005 //Specific heat in kJ/kgK\n",
"m_e=P3*100*Vi/(R*T3) //Mass of air induced into the engine in kg/min\n",
"Q1=1340/60 //Heat added to air in kW\n",
"m_c=1 //Assume for calculation\n",
"function y=f(T2)\n",
"    W_c=m_c*cp*(T2-T1) //Work done on air in compressor kW\n",
"    Q_c=m_c*cp*(T2-T3) //Heat given to the air passes through the cooler in kW\n",
"    y=W_c/Q_c-bp/Q1\n",
"endfunction\n",
"T2=fsolve(500,f) //Temperature of air leaving the compressor in K\n",
"m_c=bp*60/(cp*(T2-T1)) //Mass of air flow into the compressor in kg/min\n",
"//Results:\n",
"printf('\n (a)The engine indicated mean effective pressure, imep = %.2f bar',imep)\n",
"printf('\n (b)The air consumption in the engine, m_e = %.2f kg/min',m_e)\n",
"printf('\n (c)The air flow into the compressor, m_c = %.2f kg/min\n\n',m_c)"
   ]
   }
],
"metadata": {
		  "kernelspec": {
		   "display_name": "Scilab",
		   "language": "scilab",
		   "name": "scilab"
		  },
		  "language_info": {
		   "file_extension": ".sce",
		   "help_links": [
			{
			 "text": "MetaKernel Magics",
			 "url": "https://github.com/calysto/metakernel/blob/master/metakernel/magics/README.md"
			}
		   ],
		   "mimetype": "text/x-octave",
		   "name": "scilab",
		   "version": "0.7.1"
		  }
		 },
		 "nbformat": 4,
		 "nbformat_minor": 0
}
