{
"cells": [
 {
		   "cell_type": "markdown",
	   "metadata": {},
	   "source": [
       "# Chapter 3: Fuel Air Cycles"
	   ]
	},
{
		   "cell_type": "markdown",
		   "metadata": {},
		   "source": [
			"## Example 3.1: Effect_of_variable_specific_heat_on_efficiency.sce"
		   ]
		  },
  {
"cell_type": "code",
	   "execution_count": null,
	   "metadata": {
	    "collapsed": true
	   },
	   "outputs": [],
"source": [
"//Effect of variable specific heat on efficiency\n",
"clc,clear\n",
"//Given:\n",
"r=7 //Compression ratio\n",
"g=1.4 //Specific heat ratio(gamma)\n",
"cv=0.718 //(Assume)Specific heat at constant volume in kJ/kgK\n",
"dcv=1*cv/100 //Change in specific heat in kJ/kgK\n",
"//Solution:\n",
"R=cv*(g-1) //Specific gas constant in kJ/kgK\n",
"eta=round(100*(1-1/r^(g-1)))/100 //Efficiency when there is no change in specific heat\n",
"function [eta]=Otto(cv) //Defining efficiency as a function of specific heat\n",
"    eta=1-1/r^(R/cv)\n",
"endfunction\n",
"funcprot(0)\n",
"detaBydcv=derivative(Otto,cv) //Derivative of efficiency wrt to specific heat at initial value of specific heat\n",
"detaByeta=detaBydcv*dcv/eta //Change in efficiency wrt to initial value of efficiency\n",
"//Results:\n",
"printf('\n The percentage change in the efficiency of Otto cycle = %.3f percent',detaByeta*100)\n",
"if (detaByeta < 0) then\n",
"    disp('decrease')\n",
"end"
   ]
   }
,
{
		   "cell_type": "markdown",
		   "metadata": {},
		   "source": [
			"## Example 3.2: Effect_of_variable_specific_heat_on_maximum_pressure.sce"
		   ]
		  },
  {
"cell_type": "code",
	   "execution_count": null,
	   "metadata": {
	    "collapsed": true
	   },
	   "outputs": [],
"source": [
"//Effect of variable specific heat on maximum pressure\n",
"clc,clear\n",
"//Given:\n",
"r=6 //Compression ratio\n",
"CV=44000 //Calorific value in kJ/kg of fuel\n",
"A_F=15/1 //Air-fuel ratio\n",
"P1=1 //Pressure at 1 in bar\n",
"T1=60+273 //Temperature at 1 in K\n",
"n=1.32 //Index of compression\n",
"T=poly(0,'T') //Defining temperature(T) as unknown in K\n",
"cv=0.71+20D-5*T //Specific heat at constant volume as a function of temperature(T) in kJ/kgK\n",
"cv_c=0.71 //Constant specific heat in kJ/kgK\n",
"//Solution:\n",
"//Refer fig 3.19\n",
"P2=P1*r^n //Pressure at 2 in bar\n",
"T2=floor(T1*r^(n-1)) //Temperature at 2 in K\n",
"T3=poly(0,'T3') //Defining temperature(T3) as unknown in K\n",
"T_av=(T3+T2)/2 //Average temperature during combustion of charge in K\n",
"cv_mean=horner(cv,T_av) //Mean specific heat in kJ/kgK\n",
"//Assume cycle consumes 1 kg of air\n",
"m_a=1,m_f=m_a/A_F,m_c=m_f+m_a //Mass of air, fuel, and charge in kg\n",
"Q1=CV*m_f //Heat added per kg of air in kJ/kg\n",
"T3_v=roots(Q1-cv_mean*m_c*(T3-T2)),T3_v=T3_v(2) //Temperature at 3 in K\n",
"P3_v=P2*T3_v/T2 //Pressure at 3 in bar\n",
"//For constant specific heat\n",
"T3_c=roots(Q1-cv_c*m_c*(T3-T2)) //Temperature at 3 for constant specific heat in K\n",
"P3_c=P2*T3_c/T2 //Pressure at 3 for constant specific heat in bar\n",
"//Results:\n",
"printf('\n The maximum pressure in the cycle for variable specific heat, P3 = %.1f bar',P3_v)\n",
"printf('\n The maximum pressure in the cycle for constant specific heat, P3 = %.1f bar\n\n',P3_c)"
   ]
   }
,
{
		   "cell_type": "markdown",
		   "metadata": {},
		   "source": [
			"## Example 3.3: Calculations_on_diesel_engine.sce"
		   ]
		  },
  {
"cell_type": "code",
	   "execution_count": null,
	   "metadata": {
	    "collapsed": true
	   },
	   "outputs": [],
"source": [
"//Calculations on diesel engine\n",
"clc,clear\n",
"//Given:\n",
"A_F=28/1 //Air-fuel ratio\n",
"CV=42000 //Calorific value in kJ/kg\n",
"cv='0.71+20D-5*T' //Specific heat at constant volume as a function of temperature(T) in kJ/kgK\n",
"R='0.287' //Specific gas constant in kJ/kgK\n",
"r=14/1 //Compression ratio\n",
"T2=800 //Temperature at the end of the compression process (2) in K\n",
"//Solution:\n",
"//Refer fig 3.20\n",
"//Assume cycle consumes 1 kg of fuel\n",
"m_c=A_F*1+1 //Mass of charge in kg\n",
"cp=addf(cv,R) //Specific heat at constant pressure as a function of temperature(T) in kJ/kgK\n",
"//Since, heat transfer at constant pressure, Q1 = integration(cp*dt) from T2 to T3\n",
"//Thus, Q1 is the function of T3. Defining the function Q1 of T3\n",
"function [Q1toCV]=difference(T3)\n",
"    Q1=integrate(cp,'T',T2,T3)\n",
"    Q1toCV=Q1-CV/m_c\n",
"endfunction\n",
"//Since, heat transfer at constant pressure must be equal to calorific value per kg of charge\n",
"//Thus, their difference must be zero, function Q1toCV is solve for zero\n",
"T3=fsolve(1,difference)\n",
"T3=round(T3) //Temperature at the end of constant pressure proces (3) in K\n",
"rho=T3/T2 //Cut off ratio\n",
"V2=1 //Assume clearance volume in unit\n",
"V3=rho //Volume at 3 in units\n",
"p=(V3-V2)*100/(r-V2) //percentage of stroke at which constant pressure process ends\n",
"//Results:\n",
"printf('\n At %.2f percentage of stroke combustion is completed.\n\n',p)"
   ]
   }
,
{
		   "cell_type": "markdown",
		   "metadata": {},
		   "source": [
			"## Example 3.4: Calculations_on_dual_combustion_cycle.sce"
		   ]
		  },
  {
"cell_type": "code",
	   "execution_count": null,
	   "metadata": {
	    "collapsed": true
	   },
	   "outputs": [],
"source": [
"//Calculations on dual combustion cycle\n",
"clc,clear\n",
"//Given:\n",
"P1=1 //Pressure at 1 in bar\n",
"T1=90+273 //Temperature at 1 in K\n",
"r=13 //Compression ratio\n",
"Q1=1675 //Heat supplied per kg of air in kJ/kg\n",
"Q1_v=Q1/2,Q1_p=Q1/2 //Heat supplied at constant volume and pressure per kg of air in kJ/kg\n",
"g=1.4 //Specific heat ratio(gamma)\n",
"R='0.287' //Specific gas constant in kJ/kgK\n",
"cv='0.71+20D-5*T' //Specific heat at constant volume as a function of temperature(T) in kJ/kgK\n",
"//Solution:\n",
"//Refer fig 3.21\n",
"P2=P1*r^g //Pressure at 2 in bar\n",
"T2=T1*r^(g-1) //Temperature at 2 in K\n",
"//Since, heat transfer at constant volume, Q1_v = integration(cv*dt) from T2 to T3\n",
"//Thus, Q1_v is the function of T3. Defining the function Q1_v of T3\n",
"function [Q1_vtoQ1]=Volume(T3)\n",
"    Q1_v=integrate(cv,'T',T2,T3)\n",
"    Q1_vtoQ1=Q1_v-Q1/2\n",
"endfunction\n",
"//Since, heat transfer at constant volume must be equal to half of total heat added\n",
"//Thus, their difference must be zero, function Q1_vtoQ1 is solve for zero\n",
"T3=fsolve(1,Volume) //Temperature at 3 in K\n",
"P3=P2*T3/T2 //Pressure at 3 in bar\n",
"cp=addf(cv,R) //Specific heat at constant pressure as a function of temperature(T) in kJ/kgK\n",
"//Since, heat transfer at constant pressure, Q1_p = integration(cp*dt) from T3 to T4\n",
"//Thus, Q1_p is the function of T4. Defining the function Q1_p of T4\n",
"function [Q1_ptoQ1]=Pressure(T4)\n",
"    Q1_p=integrate(cp,'T',T3,T4)\n",
"    Q1_ptoQ1=Q1_p-Q1/2\n",
"endfunction\n",
"//Since, heat transfer at constant pressure must be equal to half of total heat added\n",
"//Thus, their difference must be zero, function Q1_ptoQ1 is solve for zero\n",
"T4=fsolve(1,Pressure) //Temperature at 4 in K\n",
"rho=T4/T3 //Cut off ratio\n",
"p=(rho-1)*100/(r-1) //Percentage of stroke at which cut off occurs\n",
"//Results:\n",
"printf('\n The maximum pressure in the cycle, P3 = %.1f bar',P3)\n",
"printf('\n The percentage of stroke at which cut off occurs = %.2f percent\n\n',p)"
   ]
   }
,
{
		   "cell_type": "markdown",
		   "metadata": {},
		   "source": [
			"## Example 3.5: Effect_of_molecular_contraction.sce"
		   ]
		  },
  {
"cell_type": "code",
	   "execution_count": null,
	   "metadata": {
	    "collapsed": true
	   },
	   "outputs": [],
"source": [
"//Effect of molecular contraction\n",
"clc,clear\n",
"//Given:\n",
"r=7 //Compression ratio\n",
"CV=44000 //Calorific value of the fuel in kJ/kg\n",
"A_F=13.67 //Air fuel ratio of the mixture\n",
"cv=0.718 //Specific heat at constant volume in kJ/kgK\n",
"n=1.3 //Polytropic index\n",
"P1=1,T1=67+273 //Pressure and temperature at the beginning in bar and K\n",
"//Solution:\n",
"//Refer fig 3.22\n",
"C=12 //Atomic mass of Carbon(C)\n",
"H=1 //Atomic mass of Hydrogen(H)\n",
"O=16 //Atomic mass of Oxygen(O)\n",
"p=23 //Percentage of oxygen in air by mass\n",
"//Stoichiometric equation of combustion of fuel (C6H14)\n",
"//   [C6H14] + x[O2]   =   y[CO2] + z[H2O]\n",
"//Equating coefficients\n",
"x=9.5,y=6,z=7 //Coefficients of stoichiometric equation\n",
"A_F_g=x*2*O/(6*C+14*H)*100/p //Gravimetric air fuel ratio\n",
"MS=A_F_g/A_F*100 //Actual mixture strength in percent\n",
"//Combustion is incomplete\n",
"//Stoichiometric equation of incomplete combustion of fuel (C6H14)\n",
"//    MS/100[C6H14] + x[O2] = a[CO2] + b[CO] + c[H2O]\n",
"//Equating coefficients\n",
"a=4.39,b=2.36,c=7.87 //Coefficients of stoichiometric equation\n",
"//Stoichiometric equation of combustion of fuel (C6H14) by adding Nitrogen\n",
"//   MS/100[C6H14] + x[O2] + x*79/21[N2] = a[CO2] + b[CO] + c[H2O] + x*79/21[N2]\n",
"m1=MS/100+x+x*79/21 //Moles before combustion\n",
"m2=a+b+c+x*79/21 //Moles after combustion\n",
"Me=(m2-m1)/m1*100 //Molecular expansion in percent\n",
"T2=T1*r^(n-1) //Temperature at 2 in K\n",
"m_c=A_F+1 //Mass of charge in kg\n",
"T3=CV/(m_c*cv)+T2 //Temperature at 3 in K\n",
"T3=round(T3)\n",
"P3=P1*r*(T3/T1) //Pressure at 3 in bar (printing error)\n",
"//Temperature and pressure considering molecular expansion\n",
"T3!=T3 //Temperature remains same at 3 in K\n",
"P3!=P3*m2/m1 //Pressure at 3 in bar\n",
"//Results:\n",
"printf('\n\t The molecular expansion = %.2f percent\n',Me)\n",
"printf('\n (a)Without considering the molecular contraction\n\t The maximum pressure, P3 = %.2f bar\n\t The maximum temperature, T3 = %.0f K',P3,T3)\n",
"printf('\n (b)Considering the molecular contraction\n\t The maximum pressure, P3 = %.2f bar\n\t The maximum temperature, T3 = %.0f K',P3!,T3!)\n",
"//Answer in the book is wrong"
   ]
   }
,
{
		   "cell_type": "markdown",
		   "metadata": {},
		   "source": [
			"## Example 3.6: Calculations_on_Otto_cycle.sce"
		   ]
		  },
  {
"cell_type": "code",
	   "execution_count": null,
	   "metadata": {
	    "collapsed": true
	   },
	   "outputs": [],
"source": [
"//Calculations on Otto cycle\n",
"clc,clear\n",
"//Given:\n",
"p=15 //Clearance volume in percentage of displacement volume\n",
"V_s=2.8 //Swept volume in litres\n",
"N=2500 //Engine speed in rpm\n",
"Q1=1400 //Heat added in kJ/kg\n",
"T1=27+273 //Temperature at inlet in K\n",
"P1=100 //Pressure at inlet in kPa\n",
"R=0.287 //Specific gas constant in kJ/kgK\n",
"//Solution:\n",
"//Refer fig 3.23\n",
"//By using gas tables\n",
"//Refer Ideal-gas properties of air\n",
"V2=(p/100)*(V_s/1000) //Volume at 2 (Clearance volume) in m^3\n",
"V3=V2 //Volume at 3 in m^3\n",
"V1=V_s/1000+V2,V4=V1 //Volume at 1, 4 in m^3\n",
"//  Process 1-2\n",
"vr1=621.2,pr1=1.3860,u1=214.09,phi1=5.7016 //Relative specific volume, relative pressure, specific internal energy(kJ/kg), specific entropy(kJ/kgK) at 1 (from air tables)\n",
"vr2=vr1*(V2/V1) //Relative specific volume at 2\n",
"vr=[81.89 78.61],T=[660 670],pr=[23.13 24.46],u=[481.01 488.81] //Relative specific volume, temperature(K), relative pressure, specific internal energy(kJ/kg) (extracted from air tables)\n",
"//Finding the corresponding temperature at vr2 by interpolation\n",
"T2=interpln([vr;T],vr2) //Temperature at 2 in K\n",
"//Finding the corresponding relative pressure at T2 by interpolation\n",
"pr2=interpln([T;pr],T2) //Relative pressure at 2\n",
"//Finding the corresponding specific internal energy at T2 by interpolation\n",
"u2=interpln([T;u],T2) //specific internal energy at 2 in kJ/kg\n",
"P2=P1*(pr2/pr1) //Pressure at 2 in kPa\n",
"//  Process 2-3\n",
"u3=Q1+u2 //Specific internal energy at 3 in kJ/kg\n",
"vr=[2.356 2.175 2.012],T=[2100 2150 2200],pr=[2559 2837 3138],u=[1775.3 1823.8 1872.8] //Relative specific volume, temperature(K), relative pressure, specific internal energy(kJ/kg) (extracted from air tables)\n",
"//Finding the corresponding relative specific volume at u3 by interpolation\n",
"vr3=interpln([u;vr],u3) //Relative specific volume at 3\n",
"//Finding the corresponding relative pressure at u3 by interpolation\n",
"pr3=interpln([u;pr],u3) //Relative pressure at 3\n",
"//Finding the corresponding temperature at u3 by interpolation\n",
"T3=interpln([u;T],u3) //Temperature at 3(maximum) in K (Round off error)\n",
"P3=P2*(T3/T2) //Pressure at 3(maximum) in kPa\n",
"//  Process 3-4\n",
"vr4=vr3*(V4/V3) //Relative specific volume at 4\n",
"vr=[15.241 14.470],T=[1180 1200],pr=[222.2 238.0],u=[915.57 933.33],phi=[7.1586 7.1684] //Relative specific volume, temperature(K), relative pressure, specific internal energy(kJ/kg), specific entropy(kJ/kgK) (extracted from air tables)\n",
"//Finding the corresponding temperature at vr4 by interpolation\n",
"T4=interpln([vr;T],vr4) //Temperature at 4 in K\n",
"//Finding the corresponding specific internal energy at T4 by interpolation\n",
"u4=interpln([T;u],T4) //Specific internal energy at 4 in kJ/kg\n",
"//Finding the corresponding relative pressure at T4 by interpolation\n",
"pr4=interpln([T;pr],T4) //Relative pressure at 4\n",
"P4=P3*(pr4/pr3) //Pressure at 4 in kPa\n",
"//Finding the corresponding specific entropy at T4 by interpolation\n",
"phi4=interpln([T;phi],T4) //Specific entropy at 4 in kJ/kgK\n",
"//  Process 4-1\n",
"Q2=u1-u4 //Heat rejected in kJ/kg\n",
"W=Q1+Q2 //Work done in kJ/kg\n",
"eta=W/Q1 //Efficiency\n",
"m=P1*V1/(R*T1) //Mass of air in cycle in kg\n",
"W=m*W*N/60 //Rate of work in kW\n",
"Delta_s=phi1-phi4-R*log(P1/P4) //Change in specific entropy between 1 and 4 in kJ/kgK\n",
"AE=Q2-T1*(Delta_s) //Available portion of energy of Q2 in kJ/kg (Round off error)\n",
"p_AE=AE/Q2 //Available energy in percentage of Q2\n",
"//  Without using gas tables\n",
"g=1.4 //Specific heat ratio(gamma)\n",
"cv=0.718 //Specific heat at constant volume in kJ/kgK\n",
"r=V1/V2 //Compression ratio\n",
"eta!=1-1/r^(g-1) //Efficiency\n",
"//  Process 1-2\n",
"T2=T1*(r)^(g-1) //Temperature at 2 in K\n",
"P2=P1/100*(r)^g //Pressure at 2 in bar\n",
"//  Process 2-3\n",
"T3!=Q1/cv+T2 //Temperature at 3(maximum) in K\n",
"P3!=P2*T3!/T2 //Pressure at 3(maximum) in bar\n",
"//  Process 3-4\n",
"T4=T3!*(1/r)^(g-1) //Temperature at 4 in K\n",
"Q2=cv*(T1-T4) //Heat rejected in kJ/kg\n",
"W!=Q1+Q2 //Work done in kJ/kg\n",
"eta!=W!/Q1 //Efficiency\n",
"power=m*W!*N/60 //Power in kW\n",
"Delta_s=cv*log(T1/T4) //Change in specific entropy between 1 and 4 in kJ/kgK\n",
"AE!=Q2-T1*Delta_s //Available portion of energy of Q2 in kJ/kg (Round off error)\n",
"p_AE!=AE!/Q2 //Available energy in percentage of Q2 (Round off error)\n",
"//Results:\n",
"printf('\n Constant specific heat:\n\t Maximum temperature, Tmax = %.1f K\n\t Maximum pressure, Pmax = %.1f bar\n\t Thermal efficiency, eta = %.2f percent\n\t Power = %.1f kW\n\t Available portion of heat rejected = %.1f kJ/kg (%.1f percent)',T3!,P3!,eta!*100,power,abs(AE!),p_AE!*100)\n",
"printf('\n Variable specific heat:\n\t Maximum temperature, Tmax = %.0f K\n\t Maximum pressure, Pmax = %.1f bar\n\t Thermal efficiency, eta = %.1f percent\n\t Power = %.1f kW\n\t Available portion of heat rejected = %.1f kJ/kg (%.1f percent)',T3,P3/100,eta*100,W,abs(AE),p_AE*100)\n",
"//Round off error in 'T3', 'AE', 'AE!', 'p_AE!'"
   ]
   }
],
"metadata": {
		  "kernelspec": {
		   "display_name": "Scilab",
		   "language": "scilab",
		   "name": "scilab"
		  },
		  "language_info": {
		   "file_extension": ".sce",
		   "help_links": [
			{
			 "text": "MetaKernel Magics",
			 "url": "https://github.com/calysto/metakernel/blob/master/metakernel/magics/README.md"
			}
		   ],
		   "mimetype": "text/x-octave",
		   "name": "scilab",
		   "version": "0.7.1"
		  }
		 },
		 "nbformat": 4,
		 "nbformat_minor": 0
}
