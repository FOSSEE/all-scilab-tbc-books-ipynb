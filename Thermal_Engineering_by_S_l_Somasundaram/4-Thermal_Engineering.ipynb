{
"cells": [
 {
		   "cell_type": "markdown",
	   "metadata": {},
	   "source": [
       "# Chapter 4: Thermal Engineering"
	   ]
	},
{
		   "cell_type": "markdown",
		   "metadata": {},
		   "source": [
			"## Example 4.10: example_10.sce"
		   ]
		  },
  {
"cell_type": "code",
	   "execution_count": null,
	   "metadata": {
	    "collapsed": true
	   },
	   "outputs": [],
"source": [
"clc\n",
"//no 4.9 printed in the book....print mistake\n",
"//initialisation of variables\n",
"//for the mercury cycle\n",
"ha=360.025 //kj/kg\n",
"sa=0.50625 //kj/kgk\n",
"sfb=0.0961 //kj/kgk\n",
"sfgb=0.5334 //kj/kgk\n",
"hfb=38.05 //kj/kg\n",
"hfgb=294.02 //kj/kg\n",
"//for the steam cycle\n",
"h5=2801 //kj/kg\n",
"h3=163 //kj/kg\n",
"hb=264.2 //kj/kg\n",
"h1=2963 //kj/kg\n",
"s1=6.364 //kj/kgk\n",
"sf2=0.559 //kj/kgk\n",
"sfg2=7.715 //kj/kgk\n",
"qs=3916.2 //kj/kg\n",
"hf2=163 //kj/kg\n",
"hfg2=2409 //kj/kg\n",
"//CALCULATIONS\n",
"xb=(sa-sfb)/sfgb\n",
"hb=hfb+(xb*hfgb)\n",
"m1=(h5-h3)/(hb-hfb)\n",
"x2=(s1-sf2)/sfg2\n",
"h2=hf2+(x2*hfg2)\n",
"wn=m1*(ha-hb)+(h1-h2)\n",
"teff1=wn/qs\n",
"hx=ha-(0.8*(ha-hb))\n",
"hy=h1-(0.8*(h1-h2))\n",
"m2=(h5-h3)/(hx-hfb)\n",
"wo=m2*(ha-hx)+(h1-hy)\n",
"qs=m2*(ha-hfb)+(h1-h5)\n",
"teff2=wo/qs\n",
"//RESULTS\n",
"printf('thermal efficiency of steam cycle is %2f',teff1)\n",
"printf('\nwork output of plant is %2fkj/kg',wo)\n",
"printf('\nheat supplied is %2fkj/kg',qs)\n",
"printf('\nthermal efficiency of the plant is %2f',teff2)"
   ]
   }
,
{
		   "cell_type": "markdown",
		   "metadata": {},
		   "source": [
			"## Example 4.11: example_11.sce"
		   ]
		  },
  {
"cell_type": "code",
	   "execution_count": null,
	   "metadata": {
	    "collapsed": true
	   },
	   "outputs": [],
"source": [
"clc\n",
"//initialisation of variables\n",
"ha=360.025 //kj/kg\n",
"hfb=38.05 //kj/kg\n",
"hb=264.2 //kj/kg\n",
"h1=2963 //kj/kg\n",
"h2=1974.6 //kj/kg\n",
"h3=163 //kj/kg\n",
"h4=1087 //kj/kg\n",
"h=1714 //kj/kg\n",
"//CALCULATIONS\n",
"m=h/(hb-hfb)\n",
"wo=7.58*(ha-hb)+(h1-h2)\n",
"qs=7.58*(ha-hfb)+(h4-h3)+(h1-h)\n",
"teff=(wo/qs)\n",
"//RESULTS\n",
"printf('thermal efficiency is %2f',teff)"
   ]
   }
,
{
		   "cell_type": "markdown",
		   "metadata": {},
		   "source": [
			"## Example 4.12: example_12.sce"
		   ]
		  },
  {
"cell_type": "code",
	   "execution_count": null,
	   "metadata": {
	    "collapsed": true
	   },
	   "outputs": [],
"source": [
"clc\n",
"//initialisation of variables\n",
"ha=359.11 //under 10 bar pressure in kj/kg\n",
"sa=0.5089 //under 10 bar pressure in kj/kgk\n",
"sfb=0.0870 //under 0.08 bar pressure in kj/kgk\n",
"sfgb=0.57 //under 0.08 bar pressure in kj/kgk\n",
"hfb=33.21 //under 0.08 bar pressure in kj/kg\n",
"hfgb=294.7 //under 0.08 bar pressure in kj/kg\n",
"h=1840.5 //kj/kg\n",
"h1=3350 //under 25 bar pressure and 723 k in kj/kg\n",
"s1=7.183 //under 25 bar pressure and 723 k in kj/kgk\n",
"sf2=0.476 //under 25 bar pressure and 723 k in kj/kgk\n",
"sfg2=7.918 //under 25 bar pressure and 723 k in kj/kgk\n",
"hf2=138 //under 25 bar pressure and 723 ki n kj/kg\n",
"hfg2=2423 //under 25 bar pressure and 723 k in kj/kg\n",
"h5=964 //kj/kg\n",
"//CALCULATIONS\n",
"xb=(sa-sfb)/(sfgb)\n",
"hb=hfb+(xb*hfgb)\n",
"m=h/(hb-hfb)\n",
"x2=(s1-sf2)/sfg2\n",
"h2=hf2+(x2*hfg2)\n",
"wo=8.47*(ha-hb)+(h1-h2)\n",
"qs=8.47*(ha-hfb)+(h5-138)+(h1-2802.5)\n",
"teff=(wo/qs)*100\n",
"//RESULTS\n",
"printf('work output is %2f',wo) //textbook ans slightly varies\n",
"printf('\nheat supplied to the plant is %2f',qs)\n",
"printf('\nthermal efficiency is %2f',teff)\n",
""
   ]
   }
,
{
		   "cell_type": "markdown",
		   "metadata": {},
		   "source": [
			"## Example 4.1: example_1.sce"
		   ]
		  },
  {
"cell_type": "code",
	   "execution_count": null,
	   "metadata": {
	    "collapsed": true
	   },
	   "outputs": [],
"source": [
"clc\n",
"//initialisation of variables\n",
"t1=523.3 //temparature under p1=40 bar in k\n",
"t2=314.5 //temparature under p2=0.80 bar in k\n",
"s4=2.797 //entropy under p1=40 bar \n",
"s1=6.070 //entropy under p1=40 bar\n",
"sf3=0.593 //entropy under p2=0.08 bar\n",
"sfg3=7.634 //entropy under p2=0.08 bar\n",
"h4=1087 //kj/kg\n",
"h1=2801 //kj/kg\n",
"hf3=174 //kj/kg under p2=0.08bar\n",
"hfg3=2402 //kj/kg under p2=0.08bar\n",
"//CALCULATIONS\n",
"eff=(t1-t2)/t1\n",
"x3=(s4-sf3)/sfg3\n",
"x2=(s1-sf3)/sfg3\n",
"h3=hf3+(x3*hfg3)\n",
"h2=hf3+(x2*hfg3)\n",
"wt=h1-h2\n",
"cw=h4-h3\n",
"wr=(wt-cw)/wt\n",
"//RESULTS\n",
"printf('efficiency of carnot cycle is %2f',eff)\n",
"printf('\nquality is %2f',x3)\n",
"printf('\ngross work of expansion is %2f',wt)\n",
"printf('\nwork ratio is %2f',wr)"
   ]
   }
,
{
		   "cell_type": "markdown",
		   "metadata": {},
		   "source": [
			"## Example 4.2: example_2.sce"
		   ]
		  },
  {
"cell_type": "code",
	   "execution_count": null,
	   "metadata": {
	    "collapsed": true
	   },
	   "outputs": [],
"source": [
"clc\n",
"//initialisation of variables\n",
"v=0.1008*10^-2\n",
"p1=40 //pressure in bar\n",
"p2=0.08 //pressure in bar\n",
"wt=903.8 //kj/kg\n",
"wp=4.02 //kj/kg\n",
"h1=2801 //kj/kg\n",
"h3=174 //kj/kg\n",
"//CALCULATIONS\n",
"pw=v*(p1-p2)\n",
"wn=wt-wp\n",
"qs=h1-(h3+wp)\n",
"reff=wn/qs\n",
"wr=wn/wt\n",
"//RESULTS\n",
"printf('heat supplied is %2f',qs)\n",
"printf('\nrankine efficiency and work ratio is %2f and %2f',reff,wr)"
   ]
   }
,
{
		   "cell_type": "markdown",
		   "metadata": {},
		   "source": [
			"## Example 4.3_a: example_3a.sce"
		   ]
		  },
  {
"cell_type": "code",
	   "execution_count": null,
	   "metadata": {
	    "collapsed": true
	   },
	   "outputs": [],
"source": [
"clc\n",
"//initialisation of variables\n",
"h1=2801 //kj/kg\n",
"h3=867.5 //kj/kg\n",
"h4=1087 //kj/kg\n",
"ieff=0.50 //isentropic efficiency of compression\n",
"wt=903.8 //kj/kg\n",
"feff=0.75 //furnace efficiency\n",
"ieeff=0.85//isentropic expansion efficiency\n",
"//CALCULATIONS\n",
"hx=((h4-h3)/0.5)+867.5\n",
"wr=hx-h3\n",
"atu=ieeff*wt\n",
"hs=h1-hx\n",
"nwo=atu-wr\n",
"eff=nwo/hs\n",
"oeff=eff*feff\n",
"wrt=nwo/atu\n",
"ssc=3600/nwo\n",
"hr=3600/oeff\n",
"//RESULTS\n",
"printf('steam and heat rates are %2fkg/kwh and %2fkj/kwh',ssc,hr)\n",
""
   ]
   }
,
{
		   "cell_type": "markdown",
		   "metadata": {},
		   "source": [
			"## Example 4.3_b: example_3_b.sce"
		   ]
		  },
  {
"cell_type": "code",
	   "execution_count": null,
	   "metadata": {
	    "collapsed": true
	   },
	   "outputs": [],
"source": [
"clc\n",
"//initialisation of  variables\n",
"h3=174 //kj/kg\n",
"h4=178.02 //kj/kg\n",
"ieff=0.50 //isentropic efficiency of compression\n",
"wt=903.8 //kj/kg\n",
"feff=0.75 //furnace efficiency\n",
"ieeff=0.85//isentropic expansion efficiency\n",
"wp=4.02 //kj/kg\n",
"h1=2801 //kj/kg\n",
"//CALCULATIONS\n",
"hx=((h4-h3)/0.5)+174\n",
"wr=wp/ieff\n",
"atu=ieeff*wt\n",
"hs=h1-hx\n",
"nwo=atu-wr\n",
"eff=nwo/hs\n",
"oeff=eff*feff\n",
"wrt=nwo/atu\n",
"ssc=3600/nwo\n",
"hr=3600/oeff\n",
"//RESULTS\n",
"printf('steam and heat rates are %2fkg/kwh and %2fkj/kwh',ssc,hr)"
   ]
   }
,
{
		   "cell_type": "markdown",
		   "metadata": {},
		   "source": [
			"## Example 4.4: example_4.sce"
		   ]
		  },
  {
"cell_type": "code",
	   "execution_count": null,
	   "metadata": {
	    "collapsed": true
	   },
	   "outputs": [],
"source": [
"clc\n",
"//initialisation of variables\n",
"h1=3221.6 //kj/kg\n",
"s1=7.399 //kj/kgk\n",
"sf2=0.521 //kj/kgk\n",
"sfg2=7.808 //kj/kgk\n",
"hf2=152 //kj/kg\n",
"hfg2=2415 //kj/kg\n",
"t1=653 //temp in k\n",
"t2=309.2 //temp in k\n",
"v=0.1006*10^-2\n",
"p1=10 //pressure in bar\n",
"p2=0.06 //pressure in bar\n",
"h3=152 //kj/kg\n",
"x=110\n",
"y=639.7\n",
"z=610\n",
"a=2015\n",
"//CALCULATIONS\n",
"x2=(s1-sf2)/sfg2\n",
"h2=hf2+(x2*hfg2)\n",
"wo=h1-h2\n",
"hs=h1-h3\n",
"theff=wo/hs\n",
"sr1=3600/wo\n",
"ceff=(t1-t2)/t1\n",
"wp=v*(p1-p2)\n",
"h4=h3+wp\n",
"reff=(x+y)/(z+a)\n",
"sr2=3600/(x+y)\n",
"hr=3600/reff\n",
"printf('steam rate and carnot efficiency are %2fkg/kwh and %2f',sr1,ceff)\n",
"printf('\nsteam rate and heat rate are %2fkg/kwh and %2f',sr2,hr)"
   ]
   }
,
{
		   "cell_type": "markdown",
		   "metadata": {},
		   "source": [
			"## Example 4.5: example_5.sce"
		   ]
		  },
  {
"cell_type": "code",
	   "execution_count": null,
	   "metadata": {
	    "collapsed": true
	   },
	   "outputs": [],
"source": [
"clc\n",
"//initialisation of variables\n",
"h1=3157 //kj/kg\n",
"h2=2725 //kj/kg\n",
"h3=3299 //kj/kg\n",
"h4=2257.9 //kj/kg\n",
"h5=1940.3 //kj/kg\n",
"h6=152 //kj/kg\n",
"x4=0.872\n",
"x5=0.7405\n",
"v=0.1006*10^-2 //volume\n",
"p1=100 //pressure in bar\n",
"p2=0.06 //pressure in bar\n",
"//CALCULATIONS\n",
"wp=v*(p1-p2)*100\n",
"h7=h6+wp\n",
"wt1=h1-h5\n",
"wn1=wt1-wp\n",
"qs1=h1-h7\n",
"wr1=wn1/wt1\n",
"reff=wn1/qs1\n",
"//reheat cycle\n",
"wt2=(h1-h2)+(h3-h4)\n",
"wn2=wt2-wp\n",
"wr2=wn2/wt2\n",
"qs2=h1-h7+h3-h2\n",
"teff=wn2/qs2\n",
"pd=wn2/3600\n",
"pdi=(pd-0.3352)/0.3352\n",
"df=1-pdi\n",
"//RESULTS\n",
"printf('work ratio and rakine efficiency of rankine cycle is %2f and %2f',wr1,reff)\n",
"disp('dryness fraction of steam is 0.872')\n",
"printf('\nheat supplied is %2f',qs1)\n",
"printf('\npower developed is %2f',pd)\n",
"printf('\npower developed per kg of steam is %2f',pdi)\n",
""
   ]
   }
,
{
		   "cell_type": "markdown",
		   "metadata": {},
		   "source": [
			"## Example 4.6: example_6.sce"
		   ]
		  },
  {
"cell_type": "code",
	   "execution_count": null,
	   "metadata": {
	    "collapsed": true
	   },
	   "outputs": [],
"source": [
"clc\n",
"//initialisation of variables\n",
"h1=2979 //kj/kg\n",
"h2=2504.3 //kj/kg\n",
"h3=1987.4 //kj/kg\n",
"h4=152 //kj/kg\n",
"h6=561 //kj/kg\n",
"//CALCULATIONS\n",
"m=(h6-h4)/(h2-h4)\n",
"wo=(h1-h2)+(1-m)*(h2-h3)\n",
"qs=h1-h6\n",
"teff=wo/qs\n",
"ssc=3600/wo\n",
"//RESULTS\n",
"printf('work output is %2fkj/kg',wo)\n",
"printf('\nheat supplied is %2fkj/kg',qs)\n",
"printf('\nthermal efficiency is %2f',teff)\n",
"printf('\nspecific steam consumption is %2fkg/kwh',ssc)"
   ]
   }
,
{
		   "cell_type": "markdown",
		   "metadata": {},
		   "source": [
			"## Example 4.7_a: example_7a.sce"
		   ]
		  },
  {
"cell_type": "code",
	   "execution_count": null,
	   "metadata": {
	    "collapsed": true
	   },
	   "outputs": [],
"source": [
"clc\n",
"//initialisation of variables\n",
"h1=3222.5 //kj/kg\n",
"h2=3127.5 //kj/kg\n",
"h3=2692.5 //kj/kg\n",
"h4=2406.7 //kj/kg\n",
"h5=360 //kj/kg\n",
"h6=360 //kj/kg\n",
"h7=584 //kj/kg\n",
"h8=962 //kj/kg\n",
"//CALCULATIONS\n",
"m1=(h8-h7)/(h2-h7)\n",
"m2=((1-m1)*(h7-h5))/(h3-h5)\n",
"wo=(h1-h2)+(1-m1)*(h2-h3)+(1-m1-m2)*(h3-h4)\n",
"qs=h1-h8\n",
"teff=wo/qs\n",
"sr=3600/wo\n",
"//RESULTS\n",
"printf('work output is %2fkj/kg',wo)\n",
"printf('\nheat supplied is %2fkj/kg',qs)\n",
"printf('\nthermal efficiency is %2f',teff)\n",
"printf('\nsteam rate is %2fkg/kwh',sr)"
   ]
   }
,
{
		   "cell_type": "markdown",
		   "metadata": {},
		   "source": [
			"## Example 4.7_b: example_7b.sce"
		   ]
		  },
  {
"cell_type": "code",
	   "execution_count": null,
	   "metadata": {
	    "collapsed": true
	   },
	   "outputs": [],
"source": [
"clc\n",
"//initialisation of variables\n",
"h1=3222.5 //kj/kg\n",
"h2=3127.5 //kj/kg\n",
"h3=2692.5 //kj/kg\n",
"h4=2406.7 //kj/kg\n",
"h5=360 //kj/kg\n",
"h6=360 //kj/kg\n",
"h7=584 //kj/kg\n",
"h8=962 //kj/kg\n",
"//CALCULATIONS\n",
"m1=(h8-h7)/(h2-h8)\n",
"m2=((h7-h6)-m1*(h8-h7))/(h3-h7)\n",
"wo=(h1-h2)+(1-m1)*(h2-h3)+(1-m1-m2)*(h3-h4)\n",
"qs=h1-h8\n",
"teff=wo/qs\n",
"sr=3600/wo\n",
"//RESULTS\n",
"printf('work output is %2fkj/kg',wo)\n",
"printf('\nheat supplied is %2fkj/kg',qs)\n",
"printf('\nthermal efficiency is %2f',teff)\n",
"printf('\nsteam rate is %2fkg/kwh',sr)"
   ]
   }
,
{
		   "cell_type": "markdown",
		   "metadata": {},
		   "source": [
			"## Example 4.8: example_8.sce"
		   ]
		  },
  {
"cell_type": "code",
	   "execution_count": null,
	   "metadata": {
	    "collapsed": true
	   },
	   "outputs": [],
"source": [
"clc\n",
"//initialisation of variables\n",
"h1=2990 //kj/kg\n",
"h2=2710 //kj/kg\n",
"h3=2325 //kj/kg\n",
"h4=152 //kj/kg\n",
"h5=152 //kj/kg\n",
"h7=505 //kj/kg\n",
"wo=612 //kj/kg\n",
"qs=2485 //kj/kg\n",
"//CALCULATIONS\n",
"m=(h7-h4)/(h2-h4)\n",
"mph=m*30000\n",
"ip=((h1-h2)+(1-m)*(h2-h3))*(30000/3600)\n",
"teff=wo/qs\n",
"//when there is no feeding\n",
"eff=(h1-h3)/(h1-h4)\n",
"sc=(3600/(h1-h3))*ip\n",
"//RESULTS\n",
"printf('internal powers is %2fkw',ip)\n",
"printf('\nthermal efficiency when feeding is there is %2f',teff)\n",
"printf('\nwhen there is no feeding,thermal efficiency is %2f',eff)\n",
"printf('\nsteam consumption is %2fkg/h',sc)"
   ]
   }
],
"metadata": {
		  "kernelspec": {
		   "display_name": "Scilab",
		   "language": "scilab",
		   "name": "scilab"
		  },
		  "language_info": {
		   "file_extension": ".sce",
		   "help_links": [
			{
			 "text": "MetaKernel Magics",
			 "url": "https://github.com/calysto/metakernel/blob/master/metakernel/magics/README.md"
			}
		   ],
		   "mimetype": "text/x-octave",
		   "name": "scilab",
		   "version": "0.7.1"
		  }
		 },
		 "nbformat": 4,
		 "nbformat_minor": 0
}
