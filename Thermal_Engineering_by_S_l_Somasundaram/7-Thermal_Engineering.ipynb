{
"cells": [
 {
		   "cell_type": "markdown",
	   "metadata": {},
	   "source": [
       "# Chapter 7: Thermal Engineering"
	   ]
	},
{
		   "cell_type": "markdown",
		   "metadata": {},
		   "source": [
			"## Example 7.10: example_10.sce"
		   ]
		  },
  {
"cell_type": "code",
	   "execution_count": null,
	   "metadata": {
	    "collapsed": true
	   },
	   "outputs": [],
"source": [
"clc\n",
"//initialisation of variables\n",
"x1=90.12 //kj/kg\n",
"x3=42.25 //kj/kg\n",
"ps3=0.023366 //bar pressure\n",
"td3=35 //temp in degrees\n",
"phi1=0.6 //relative humidity\n",
"p=1.01325 //pressure in bar\n",
"//CALCULATIONS\n",
"pv3=phi1*ps3\n",
"w3=0.622*(pv3/(p-pv3))\n",
"h3=(1.005*td3+w3*(2500+1.86*td3))\n",
"qs=h3-x3\n",
"ql=x1-h3\n",
"shf=qs/(qs+ql)\n",
"//RESULTS\n",
"printf('sensible heat removed is %2fkj/kg of da',qs)\n",
"printf('\nlatent heat removed is %2fkj/kg of da',ql)\n",
"printf('\nsensible heat factor is %2f',shf)"
   ]
   }
,
{
		   "cell_type": "markdown",
		   "metadata": {},
		   "source": [
			"## Example 7.11: example_11.sce"
		   ]
		  },
  {
"cell_type": "code",
	   "execution_count": null,
	   "metadata": {
	    "collapsed": true
	   },
	   "outputs": [],
"source": [
"clc\n",
"//initialisation of variables\n",
"ps1=0.010720 //bar pressure\n",
"phi1=0.3 //relative humidity\n",
"td1=8 //temp in degrees\n",
"td2=32 //temp in degrees\n",
"td3=30 //temp in degrees\n",
"ps3=0.042415 //bar pressure\n",
"phi3=0.5 //relative humidity\n",
"hf=762.6 //kj/kg\n",
"hfg=2013.6 //kj/kg\n",
"p=1.01325 //pressure in bar\n",
"//CALCULATIONS\n",
"pv1=phi1*ps1\n",
"w1=0.622*(pv1/(p-pv1))\n",
"h1=(1.005*td1+w1*(2500+1.86*td1))\n",
"h2=(1.005*td2+w1*(2500+1.86*td2))\n",
"ha=h2-h1\n",
"pv3=phi3*ps3\n",
"w3=0.622*(pv3/(p-pv3))\n",
"h3=(1.005*td3+w3*(2500+1.86*td3))\n",
"wa=w3-w1\n",
"hw=(h3-h2)/(w3-w1)\n",
"x=(hw-hf)/hfg\n",
"//RESULTS\n",
"printf('heat added is %2fkj/kg of da',ha)\n",
"printf('\nwater added is %2fkg/kg of da',wa)\n",
"disp('temp os steam supplied is 179.88 degrees') //at 10 bar pressure\n",
"printf('\nsteam required is %2fkj/kg of steam',hw)\n",
"printf('\nquality of steam at 10 bar is %2f',x)"
   ]
   }
,
{
		   "cell_type": "markdown",
		   "metadata": {},
		   "source": [
			"## Example 7.12: example_12.sce"
		   ]
		  },
  {
"cell_type": "code",
	   "execution_count": null,
	   "metadata": {
	    "collapsed": true
	   },
	   "outputs": [],
"source": [
"clc\n",
"//initialisation of variables\n",
"ps1=0.023366 //bar pressure\n",
"phi1=0.4//relative humidity\n",
"td1=20 //temp in degrees\n",
"m1=40 //kg/s\n",
"ps2=0.01227 //bar pressure\n",
"phi2=0.8//relative humidity\n",
"td2=10 //temp in degrees\n",
"m2=20 //kg/s\n",
"p=1.01325 //pressure in bar\n",
"//CALCULATIONS\n",
"pv1=phi1*ps1\n",
"w1=0.622*(pv1/(p-pv1))\n",
"h1=(1.005*td1+w1*(2500+1.86*td1))\n",
"ma1=m1/(1+w1)\n",
"pv2=phi2*ps2\n",
"w2=0.622*(pv2/(p-pv2))\n",
"h2=(1.005*td2+w2*(2500+1.86*td2))\n",
"ma2=m2/(1+w2)\n",
"w3=((ma1*w1)+(ma2*w2))/(ma1+ma2)\n",
"h3=((ma1*h1)+(ma2*h2))/(ma1+ma2)\n",
"td3=((ma1*td1)+(ma2*td2))/(ma1+ma2)\n",
"//RESULTS\n",
"printf('specific humidity is %2fkj/kg of da',w3)\n",
"printf('\ntemparature of air leaving chamber is %2fdegrees',td3)"
   ]
   }
,
{
		   "cell_type": "markdown",
		   "metadata": {},
		   "source": [
			"## Example 7.13: example_13.sce"
		   ]
		  },
  {
"cell_type": "code",
	   "execution_count": null,
	   "metadata": {
	    "collapsed": true
	   },
	   "outputs": [],
"source": [
"\n",
"clc\n",
"//initialisation of variables\n",
"clear\n",
"ps1=0.062739 //bar pressure\n",
"phi1=0.9 //relative humidity\n",
"td1=37 //temp in degrees\n",
"td3=10.7 //dew point temparature\n",
"ps4=0.02366 //bar pressure\n",
"phi4=0.55 //relative humidity\n",
"td4=20 //temp in degrees\n",
"w12=1.5 //work input in kw\n",
"v4=50 //\n",
"t4=310 //temp  in k\n",
"r= 1\n",
"w2= 1\n",
"w3= 1\n",
"hf3= 2\n",
"p=1.01325 //pressure in bar\n",
"//CALCULATIONS\n",
"pv1=phi1*ps1\n",
"w1=0.622*(pv1/(p-pv1))\n",
"h1=(1.005*td1+w1*(2500+1.86*td1))\n",
"pv4=phi4*ps4\n",
"w4=0.622*(pv4/(p-pv4))\n",
"h4=(1.005*td4+w4*(2500+1.86*td4))\n",
"h3=(1.005*td3+w4*(2500+1.86*td3))\n",
"pa4=p-pv4\n",
"ma=(pa4*v4*100)/(r*t4)\n",
"q12=(w12*60)/ma\n",
"h2=h1+q12\n",
"q23=((h3+(w2-w3)*hf3)-h2)\n",
"Q23=-1*q23*ma\n",
"q34=h4-h3\n",
"Q34=q34*ma\n",
"//RESULTS\n",
"printf('enthalpy rate 1 is %2fkj/kg of da',h1)\n",
"printf('\nenthalpy rate 4 is %2fkj/kg of da',h4)\n",
"printf('\nenthalpy rate 3 is %2fkj/kg of da',h3)\n",
"printf('\nmass of dry air is %2fkg/min',ma)\n",
"printf('\nenthalpy rate 2 is %2fkj/kg of da',h2)\n",
"printf('\ncapacity od cooling coil q23 is %2fkj/min',Q23)\n",
"printf('\ncapacity od cooling coil q34 is %2fkj/min',Q34)"
   ]
   }
,
{
		   "cell_type": "markdown",
		   "metadata": {},
		   "source": [
			"## Example 7.14: example_14.sce"
		   ]
		  },
  {
"cell_type": "code",
	   "execution_count": null,
	   "metadata": {
	    "collapsed": true
	   },
	   "outputs": [],
"source": [
"clc\n",
"//initialisation of variables\n",
"td3=15 //dew point temparature\n",
"ps3=0.017039 //bar pressure\n",
"phi3=0.55 //relative humidity\n",
"p=1 //bar pressure\n",
"ps4=0.029821 //bar pressure\n",
"phi4=1 //relative humidity\n",
"td4=24 //temp in degrees\n",
"mw1=1000 //kg/min\n",
"hf1=109 //kj/kg\n",
"hf2=50.4 //kj/kg\n",
"w4=0.01912\n",
"w3=0.00588\n",
"//CALCULATIONS\n",
"pv3=phi3*ps3\n",
"w1=0.622*(pv3/(p-pv3))\n",
"h3=(1.005*td3+w3*(2500+1.86*td3))\n",
"pv4=phi4*ps4\n",
"w4=0.622*(pv4/(p-pv4))\n",
"h4=(1.005*td4+w4*(2500+1.86*td4))\n",
"ma=mw1*(hf1-hf2)/(h4-h3-(w4-w3)*hf2)\n",
"x=ma*(w4-w3) //mw1-mw2\n",
"mf=ma+x\n",
"pl=(x/mw1)*100\n",
"//RESULTS\n",
"printf('mass of dry air is %2f',ma)\n",
"printf('\nmass cooling water loss by evoporation is %2f',x)\n",
"printf('\nmass flow of moist air is %2f',mf)\n",
"printf('\npercentage loss by evoporation is %2f',pl)"
   ]
   }
,
{
		   "cell_type": "markdown",
		   "metadata": {},
		   "source": [
			"## Example 7.15: example_15.sce"
		   ]
		  },
  {
"cell_type": "code",
	   "execution_count": null,
	   "metadata": {
	    "collapsed": true
	   },
	   "outputs": [],
"source": [
"clc\n",
"//initialisation of variables\n",
"td3=17 //dew point temparature\n",
"ps3=0.019362 //bar pressure\n",
"phi3=0.6 //relative humidity\n",
"p=0.98 //bar pressure\n",
"t3=290 //temp in k\n",
"ps4=0.042415 //bar pressure\n",
"phi4=1 //relative humidity\n",
"td4=30 //temp in degrees\n",
"mw2=80\n",
"v=110 //volume\n",
"ma=127.98\n",
"w4=0.02814\n",
"w3=0.007464\n",
"r=0.287\n",
"hf1=209.3\n",
"//CALCULATIONS\n",
"pv3=phi3*ps3\n",
"w3=0.622*(pv3/(p-pv3))\n",
"h3=(1.005*td3+w3*(2500+1.86*td3))\n",
"pa3=p-pv3\n",
"m=(pa3*v*100)/(r*t3)\n",
"h2=h3+(240/ma)\n",
"pv4=phi4*ps4\n",
"w4=0.622*(pv4/(p-pv4))\n",
"h4=(1.005*td4+w4*(2500+1.86*td4))\n",
"mw1=mw2+ma*(w4-w3)\n",
"hf2=((mw1*hf1)+(ma*h2)-(ma*h4))/mw2\n",
"//RESULTS\n",
"printf('mass of dry air is %2fkg/min',m)\n",
"printf('\nenthalpy rate 3 is %2fkj/kg of da',h3)\n",
"printf('\nenthalpy rate 2 is %2fkj/kg of da',h2)\n",
"printf('\nenthalpy rate 4 is %2fkj/kg of da',h4)\n",
"printf('\nenthalpy rate  is %2fkj/kg of da',hf2)\n",
"disp('temparature of water leaving the tower is 27.1 degrees')"
   ]
   }
,
{
		   "cell_type": "markdown",
		   "metadata": {},
		   "source": [
			"## Example 7.16: example_16.sce"
		   ]
		  },
  {
"cell_type": "code",
	   "execution_count": null,
	   "metadata": {
	    "collapsed": true
	   },
	   "outputs": [],
"source": [
"\n",
"clc\n",
"//initialisation of variables\n",
"clear\n",
"uw=2.5\n",
"aw=127.82\n",
"to=34 //temp in degrees\n",
"tr=26 //temp in degrees\n",
"ur=1.5\n",
"ar=90\n",
"ag=8.68\n",
"clf1=100\n",
"pvwo=0.037782\n",
"p=1.013 //pressure in bar\n",
"a=6.66*10^-4\n",
"phi=0.5\n",
"//CALCULATIONS\n",
"shgw=uw*aw*(to-tr)\n",
"shgr=ur*ar*(to-tr)\n",
"sg=ag*clf1\n",
"pvo=pvwo-(p*a*(to-tr))\n",
"wo=0.622*(pvo/(p-pvo))\n",
"ho=(1.005*to+wo*(2500+1.86*to))\n",
"pvr=phi*pvo\n",
"wr1=0.622*(pvr/(p-pvr))\n",
"hr=(1.005*tr+wr1*(2500+1.86*tr))\n",
"//RESULTS\n",
"disp('recommended indoor conditions are25.5-26.7 degrees and 50% rh and outdoor conditions are  26 degrees and 50%rh')\n",
"disp('area of the roof is 90 m*m')\n",
"disp('overall heat transfer coefficients are2.5 w/m*m')\n",
"printf('\nsensible heat gain through walls is %2f',shgw)\n",
"printf('\nsensible heat gain through roofs is %2f',shgr)\n",
"printf('\nsensible heat gain through windows is %2f',sg)\n",
"disp('sensible heat per adult male is 67.5w and latent heat is 55.7w')\n",
"printf('\nenthalpy rate o is %2f',ho)\n",
"printf('\nenthalpy rate r is %2f',hr)\n",
"disp('volume of air infiltered is 1.628 m*m*m/min')\n",
"disp('latent heat gain is 902.4w')\n",
"disp('sensible heat gain is 257.2w')\n",
"disp('room sensible heat factor is 0.803') "
   ]
   }
,
{
		   "cell_type": "markdown",
		   "metadata": {},
		   "source": [
			"## Example 7.1: example_1.sce"
		   ]
		  },
  {
"cell_type": "code",
	   "execution_count": null,
	   "metadata": {
	    "collapsed": true
	   },
	   "outputs": [],
"source": [
"clc\n",
"//initialisation of variables\n",
"ps=0.024853 //at 21 degress \n",
"phi=0.34 //relative humidity\n",
"p=1.013 //pressure in bar\n",
"//CALCULATIONS\n",
"pv=ps*phi\n",
"w=0.622*(pv/(p-pv))\n",
"tdew=4.5 //at 0.00845 bar\n",
"//RESULTS\n",
"printf('specific humidity is %2fkg/kg of da',w)\n",
"disp('dew point temp is 4.5 degrees',tdew)"
   ]
   }
,
{
		   "cell_type": "markdown",
		   "metadata": {},
		   "source": [
			"## Example 7.2: example_2.sce"
		   ]
		  },
  {
"cell_type": "code",
	   "execution_count": null,
	   "metadata": {
	    "collapsed": true
	   },
	   "outputs": [],
"source": [
"clc\n",
"//initialisation of variables\n",
"t1=26 //temp in degrees\n",
"t2=32 //temp in degrees\n",
"pvs=0.033597 //pressure in bar\n",
"ps=0.047534 //pressure in bar\n",
"p=1.013 //pressure in bar\n",
"a=6.6*10^-4\n",
"//CALCULATIONS\n",
"pv=pvs-(p*a*(t2-t1))\n",
"w=(0.622*pv)/(p-pv)\n",
"phi=pv/ps\n",
"//RESULTS\n",
"printf('specific humidity is %2fkg/kg of da',w)\n",
"printf('\nrelative humidity is %2f',phi)\n",
"disp('dew point temp is 23.5 degrees') //from steam tables"
   ]
   }
,
{
		   "cell_type": "markdown",
		   "metadata": {},
		   "source": [
			"## Example 7.3: example_3.sce"
		   ]
		  },
  {
"cell_type": "code",
	   "execution_count": null,
	   "metadata": {
	    "collapsed": true
	   },
	   "outputs": [],
"source": [
"clc\n",
"//initialisation of variables\n",
"ps=0.042415 //under 30 degrees temp in bar\n",
"vg=32.929 //m*m*m/kg\n",
"phi=0.3 //relative humidity\n",
"p=1.01325 //bar\n",
"pv=0.012725^10^2 //pressure \n",
"rv=0.4615\n",
"t=313 //temp in k\n",
"pa=1.005*10^2\n",
"ra=0.287\n",
"//CALCULATIONS\n",
"pv=phi*ps\n",
"w1=0.622*(pv/(p-pv))\n",
"rhos=1/vg\n",
"rhov=phi*rhos\n",
"rho=pv/(rv*t)\n",
"pa=p-pv\n",
"rhoa=pa*100/(ra*t)\n",
"w2=rhov/rhoa\n",
"ds=phi*((p-ps)/(p-pv))\n",
"//RESULTS\n",
"printf('partial pressure of water vapour is %2fbar',pv)\n",
"printf('\ndensity of dry air is %2fkg/m*m*m',rhoa)\n",
"disp('dew point temp is 10.5 degrees')\n",
"printf('\nspecific humidity is %2fkg/kg of da',w2) //textbook answer slightly varies\n",
"printf('\ndegree of saturation is %2f',ds)"
   ]
   }
,
{
		   "cell_type": "markdown",
		   "metadata": {},
		   "source": [
			"## Example 7.4: example_4.sce"
		   ]
		  },
  {
"cell_type": "code",
	   "execution_count": null,
	   "metadata": {
	    "collapsed": true
	   },
	   "outputs": [],
"source": [
"clc\n",
"//initialisation of variables\n",
"ps=0.035636 //pressure in bar\n",
"pvw=0.018168 //pressure in bar\n",
"p=1.01325 //pressure in bar\n",
"a=6.6*10^-4\n",
"w=0.00667\n",
"td=27 //temparature in degrees\n",
"tw=16 //temparature in degrees\n",
"//CALCULATIONS\n",
"pv=pvw-(p*a*(td-tw))\n",
"w=0.622*(pv/(p-pv))\n",
"phi=pv/ps\n",
"h=(1.005*td+w*(2500+1.86*td))\n",
"//RESULTS\n",
"printf('humidity ratio is %2fkg/kg of da',w)\n",
"printf('\nrelative humidity is %2f',phi)\n",
"disp('dew point temparature is 8 degrees')\n",
"printf('\nenthalphy of moist air is %2fkg/kg of da',h)"
   ]
   }
,
{
		   "cell_type": "markdown",
		   "metadata": {},
		   "source": [
			"## Example 7.5: example_5.sce"
		   ]
		  },
  {
"cell_type": "code",
	   "execution_count": null,
	   "metadata": {
	    "collapsed": true
	   },
	   "outputs": [],
"source": [
"clc\n",
"//initialisation of variables\n",
"p=1.01325 //pressure in bar\n",
"pv=0.020 //pressure in bar at 21 degrees temp\n",
"ws=0.0154 //kg/kg of da\n",
"w=0.0123 //kg/kg of da\n",
"vs=0.86 //under 21 degrees temp m*m*m/kg\n",
"w1=0.0074\n",
"//CALCULATIONS\n",
"pa=p-pv\n",
"sr=w/ws\n",
"rho=1/vs\n",
"avc=0.0163-w1\n",
"//RESULTS\n",
"printf('partial pressure of vapour and dry air are %2fbar and %2fbar',pv,pa)\n",
"disp('dew point temp is 17.4 degrees')\n",
"disp('specific humidity is 0.0123 kg/kg of da')\n",
"printf('\nsaturation ratio is %2f',sr)\n",
"printf('\ndensity of misture is %2fkg/m*m*m',rho)\n",
"printf('\namount of water vapour condensed is %2fkg/kg of da',avc)"
   ]
   }
,
{
		   "cell_type": "markdown",
		   "metadata": {},
		   "source": [
			"## Example 7.6: example_6.sce"
		   ]
		  },
  {
"cell_type": "code",
	   "execution_count": null,
	   "metadata": {
	    "collapsed": true
	   },
	   "outputs": [],
"source": [
"clc\n",
"//initialisation of variables\n",
"p=1.01325 //pressure in bar\n",
"w1=0.01468\n",
"td=20 //temp in degrees\n",
"tw=40 //temp in degrees\n",
"//CALCULATIONS\n",
"ha=(1.005*td+w1*(2500+1.86*td))\n",
"w2=(ha-(1.005*tw))/(2500+1.86*tw)\n",
"//RESULTS\n",
"printf('humidity rate is %2fkg/kg of da',ha)\n",
"printf('\nw2 is %2fkg/kg of da',w2)"
   ]
   }
,
{
		   "cell_type": "markdown",
		   "metadata": {},
		   "source": [
			"## Example 7.7: example_7.sce"
		   ]
		  },
  {
"cell_type": "code",
	   "execution_count": null,
	   "metadata": {
	    "collapsed": true
	   },
	   "outputs": [],
"source": [
"clc\n",
"//initialisation of variables\n",
"ps1=0.006566 //bar pressure\n",
"phi1=0.6 //relative humidity\n",
"td2=21 //temp in degrees\n",
"td1=1 //temp in degrees\n",
"ps2=0.02486 //pressure in bar\n",
"td3=26 //temp in degrees\n",
"p=1.013 //pressure in bar\n",
"//CALCULATIONS\n",
"pv1=(phi1*ps1)\n",
"w=0.622*(pv1/(p-pv1))\n",
"q=(td2-td1)*(1.005+(1.86*w))\n",
"phi2=pv1/ps2\n",
"cbf=(td3-td2)/(td3-td1)\n",
"cf=1-cbf\n",
"//RESULTS\n",
"printf('heat supplied to air is %2fkg/kg of da',q)\n",
"printf('\nfinal relative humidity is %2fkg/kg of da',phi2)\n",
"printf('\ncoil bypass factor is %2f',cbf)\n",
"printf('\ncontact factor is %2f',cf)"
   ]
   }
,
{
		   "cell_type": "markdown",
		   "metadata": {},
		   "source": [
			"## Example 7.8: example_8.sce"
		   ]
		  },
  {
"cell_type": "code",
	   "execution_count": null,
	   "metadata": {
	    "collapsed": true
	   },
	   "outputs": [],
"source": [
"clc\n",
"//initialisation of variables\n",
"ps1=0.056216 //bar pressure\n",
"phi1=0.2 //relative humidity\n",
"td1=35 //temp in degrees\n",
"p=1.01325 //pressure in bar\n",
"td2=25 //temp in degrees\n",
"ps2=0.03166 //bar\n",
"//CALCULATIONS\n",
"pv1=phi1*ps1\n",
"w1=0.622*(pv1/(p-pv1))\n",
"ha=(1.005*td1+w1*(2500+1.86*td1))\n",
"w2=(ha-(1.005*td2))/(2500+1.86*td2)\n",
"pv2=(w2*p)/(w2+0.622)\n",
"phi2=pv2/ps2\n",
"//RESULTS\n",
"printf('relative humidity rate is %2fkg/kg of da',ha)\n",
"printf('\nrelative humidity is %2f',phi2)\n",
"printf('\namount of water to be added is %2fkg/kg of da',w2)"
   ]
   }
,
{
		   "cell_type": "markdown",
		   "metadata": {},
		   "source": [
			"## Example 7.9: example_9.sce"
		   ]
		  },
  {
"cell_type": "code",
	   "execution_count": null,
	   "metadata": {
	    "collapsed": true
	   },
	   "outputs": [],
"source": [
"clc\n",
"//initialisation of variables\n",
"ps1=0.056216 //bar pressure\n",
"ps3=0.023366 //bar pressure\n",
"phi1=0.6 //relative humidity\n",
"td3=20 //temp in degress\n",
"td1=35 //temp in degrees\n",
"td2=12 //temp in degrees\n",
"r=0.287\n",
"p=1.01325 //pressure in bar\n",
"x1=90.12 //kj/kg\n",
"x2=34.08 //kj/kg\n",
"x3=42.25 //kj/kg\n",
"hf=0.4 //kj/kg\n",
"w1=0.02142\n",
"w2=0.00873\n",
"//CALCULATIONS\n",
"pv1=phi1*ps1\n",
"w1=0.622*(pv1/(p-pv1))\n",
"h1=(1.005*td1+w1*(2500+1.86*td1))\n",
"pv3=phi1*ps3\n",
"w3=0.622*(pv3/(p-pv3))\n",
"h3=(1.005*td3+w3*(2500+1.86*td3))\n",
"h2=(1.005*td2+0.0073*(2500+1.86*td2))\n",
"ma=((p-pv1)*100*2.5)/(r*(td1+273))\n",
"q1=ma*(x2-x1)+(w1-w2)*hf\n",
"q2=(ma*(x3-x2))\n",
"//RESULTS\n",
"printf('mass of dry air is %2fkg/s',ma)\n",
"printf('\ncooler load on the dehumidyfier is %2fkw',q1)\n",
"printf('\nheating load of the heater is %2fkw',q2)"
   ]
   }
],
"metadata": {
		  "kernelspec": {
		   "display_name": "Scilab",
		   "language": "scilab",
		   "name": "scilab"
		  },
		  "language_info": {
		   "file_extension": ".sce",
		   "help_links": [
			{
			 "text": "MetaKernel Magics",
			 "url": "https://github.com/calysto/metakernel/blob/master/metakernel/magics/README.md"
			}
		   ],
		   "mimetype": "text/x-octave",
		   "name": "scilab",
		   "version": "0.7.1"
		  }
		 },
		 "nbformat": 4,
		 "nbformat_minor": 0
}
