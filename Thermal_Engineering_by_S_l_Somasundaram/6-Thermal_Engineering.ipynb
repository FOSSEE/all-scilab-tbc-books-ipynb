{
"cells": [
 {
		   "cell_type": "markdown",
	   "metadata": {},
	   "source": [
       "# Chapter 6: Thermal Engineering"
	   ]
	},
{
		   "cell_type": "markdown",
		   "metadata": {},
		   "source": [
			"## Example 6.1: example_1.sce"
		   ]
		  },
  {
"cell_type": "code",
	   "execution_count": null,
	   "metadata": {
	    "collapsed": true
	   },
	   "outputs": [],
"source": [
"clc\n",
"//initialisation of variables\n",
"c=400 //steam speed in m/s\n",
"alpla=12 //angle in degrees\n",
"cwo=0\n",
"pi=(22/7)\n",
"//CALCULATIONS\n",
"u=c*cos(12*(pi/180))/2\n",
"cwi=c*cos(12*(pi/180))\n",
"cfi=c*sin(12*(180/pi))\n",
"thetha=atan(cfi/(cwi-u))*(pi/180)\n",
"cro=sqrt((cfi)^2+(cwi-u)^2)\n",
"phi=acos(u/cro)*(180/pi)\n",
"wo=(cwi-cwo)*u\n",
"ke=(c)^2/2\n",
"eff=wo/ke\n",
"//RESULTS\n",
"printf('blade efficiency is %2f',eff)"
   ]
   }
,
{
		   "cell_type": "markdown",
		   "metadata": {},
		   "source": [
			"## Example 6.2: example_2.sce"
		   ]
		  },
  {
"cell_type": "code",
	   "execution_count": null,
	   "metadata": {
	    "collapsed": true
	   },
	   "outputs": [],
"source": [
"clc\n",
"//initialisation of variables\n",
"hd=159 //heat drop in kj/kg\n",
"eff=0.89 //and its corresponding efficiency is mentioned\n",
"ra=0.4 //ratio of blade speed to steam speed\n",
"sp=3000 //rotational speed of an impulse turbine wheel in revolutions\n",
"a=20 //angle is 20 degrees\n",
"beff=0.76 //blade efficiency\n",
"cwo=5.4 //m/s\n",
"pi=(22/7)\n",
"bvc=0.82 //blade velocity coefficient\n",
"m=15 //mass is 15 kgs\n",
"//CALCULATIONS\n",
"ci=44.72*sqrt(eff*hd)\n",
"u=ci*ra\n",
"dm=(60*u)/(sp*0.3184)\n",
"cfi=ci*sin(20*(pi/180))\n",
"cwi=ci*cos(20*(pi/180))\n",
"cri=sqrt((cwi-u)^2+(cfi)^2)\n",
"cro=bvc*cri\n",
"x=(beff*(ci)^2)/(2*u) //x=cwi-cwo\n",
"theta=atan((cfi/(cwi-u)))*(180/pi)\n",
"cfo=sqrt((cro)^2-(cwo+u)^2)\n",
"co=sqrt((cwo)^2+(cfo)^2)\n",
"bet=(asin(cfo/co))*(180/pi)\n",
"pd=(m*x*u)/1000\n",
"re=hd-(pd/15)\n",
"phi=asin((cfo/cro))*(180/pi)\n",
"//RESULTS\n",
"printf('mean blade ring diameter is %2fm',dm) //textbook answer is wrong\n",
"printf('\npower developed is %2fkw',pd)\n",
"printf('\nresidual energy at out let foe friction and nozzle efficiency is %2fkw/kg',re)\n",
"printf('\nblade angles are %2f,%2f,%2f',theta,bet,phi)\n",
""
   ]
   }
,
{
		   "cell_type": "markdown",
		   "metadata": {},
		   "source": [
			"## Example 6.3: example_3.sce"
		   ]
		  },
  {
"cell_type": "code",
	   "execution_count": null,
	   "metadata": {
	    "collapsed": true
	   },
	   "outputs": [],
"source": [
"clc\n",
"//initialisation of variables\n",
"alpha=20 //angle in degrees\n",
"theta=27 //angle in degrees\n",
"m=10 //kgs\n",
"vs=0.4799 //specific volume in m*m*m/kg\n",
"pi=(22/7)\n",
"u=100 //blade speed in m/s\n",
"//CALCULATIONS\n",
"ci=u*tan(27*(pi/180))/(cos(20*(pi/180))*tan(27*(pi/180))-sin(20*(pi/180)))\n",
"x=2*ci*cos(20*(pi/180))-u\n",
"pd=m*x*u\n",
"cf=ci*sin(20*(pi/180))\n",
"a=(m*vs)/cf\n",
"dm=sqrt(a/(0.08*pi))\n",
"h=0.08*dm\n",
"//RESULTS\n",
"printf('power developed is %2fw',pd)\n",
"printf('\narea of flow is %2fm*m',a)\n",
"printf('\nblade height is %2fm',h)"
   ]
   }
,
{
		   "cell_type": "markdown",
		   "metadata": {},
		   "source": [
			"## Example 6.4: example_4.sce"
		   ]
		  },
  {
"cell_type": "code",
	   "execution_count": null,
	   "metadata": {
	    "collapsed": true
	   },
	   "outputs": [],
"source": [
"clc\n",
"//initialisation of variables\n",
"sp=1500 //rotational speed of an impulse turbine wheel in revolutions\n",
"pi=(22/7)\n",
"dm=1.5 //diameter in m\n",
"ra=0.8 //ratio of blade speed to steam speed\n",
"x=159 //x=cwi-cwo in m/s\n",
"m=10 //kgs mass\n",
"cf=50.4 //m*m*m/kg\n",
"vs=1.159 //\n",
"//CALCULATIONS\n",
"u=(pi*dm*sp)/60\n",
"ci=u/ra\n",
"pd=(m*x*u)/1000\n",
"a=(m*vs)/cf\n",
"h=a/(pi*dm)\n",
"//RESULTS\n",
"printf('power developed for steam flow is %2fkw',pd)\n",
"printf('\nheight of the blade is %2fm',h)"
   ]
   }
,
{
		   "cell_type": "markdown",
		   "metadata": {},
		   "source": [
			"## Example 6.5: example_5.sce"
		   ]
		  },
  {
"cell_type": "code",
	   "execution_count": null,
	   "metadata": {
	    "collapsed": true
	   },
	   "outputs": [],
"source": [
"clc\n",
"//initialisation of variables\n",
"u=170 //blade velocity in m/s\n",
"ra=0.2 //ratio of blade speed to steam speed\n",
"cril=696 //m/s\n",
"co1=0.84 //velocity coefficient \n",
"co2=0.87 //velocity coefficient\n",
"co3=0.90 //velocity coefficient\n",
"cri2=232 //m/s\n",
"//CALCULATIONS\n",
"ci=u/ra\n",
"crol=cril*co1\n",
"ci2=crol*co2\n",
"cro2=cri2*co3\n",
"wd=(1176+344)*u*10^-3\n",
"beff=wd*1000*2/(ci^2)\n",
"//RESULTS\n",
"printf('work developed in the blade is %2fkj/kg',wd)\n",
"printf('\nblading efficiency is %2f',beff)"
   ]
   }
,
{
		   "cell_type": "markdown",
		   "metadata": {},
		   "source": [
			"## Example 6.6: example_6.sce"
		   ]
		  },
  {
"cell_type": "code",
	   "execution_count": null,
	   "metadata": {
	    "collapsed": true
	   },
	   "outputs": [],
"source": [
"clc\n",
"//initialisation of variables\n",
"u=250 //blade speed in m/s\n",
"theta=80 //angle in degrees\n",
"alpha=20 //angle in degrees\n",
"oed=786.7 //overall enthalpic drop in kj/kg\n",
"sp=3000 //rotational speed of an impulse turbine wheel in revolutions\n",
"p=6000 //power developed in kw\n",
"rf=1.04 //reheat factor\n",
"ie=2993.4 //kj/kg\n",
"vs=9.28 //m*m*m/kg\n",
"pi=(22/7)\n",
"//CALCULATIONS\n",
"ci=(u*sin(100*(pi/180)))/sin(60*(pi/180))\n",
"x=(2*ci*cos(20*(pi/180)))-u //x=cwi-cwo\n",
"wd=x*u*10^-3\n",
"ed=wd*10\n",
"teff=ed/oed\n",
"seff=teff/rf\n",
"m=p/ed\n",
"ae=ie-ed\n",
"cf=ci*sin(20*(pi/180))\n",
"a=(m*vs)/cf\n",
"dm=(60*u)/(pi*sp)\n",
"h=a/(pi*dm)\n",
"//RESULTS\n",
"printf('enthalpy drop is %2fkj/kg',ed)\n",
"printf('\nturbine efficiency is %2f',teff)\n",
"printf('\nstage efficiency is %2f',seff)\n",
"printf('\nmass flow of steam is %2fkg/s',m)\n",
"printf('\nblade height us %2fm',h)"
   ]
   }
,
{
		   "cell_type": "markdown",
		   "metadata": {},
		   "source": [
			"## Example 6.7: example_7.sce"
		   ]
		  },
  {
"cell_type": "code",
	   "execution_count": null,
	   "metadata": {
	    "collapsed": true
	   },
	   "outputs": [],
"source": [
"clc\n",
"//initialisation of variables\n",
"x1=3025 // according to 20 bar pressure and 300 degrees temp\n",
"x2=2262 //according to 20 bar pressure and 300 degrees temp\n",
"x3=2039 //according to 20 bar pressure and 300 degrees temp\n",
"x4=2896 //according to 20 bar pressure and 300 degrees temp\n",
"x5=2817 //according to 20 bar pressure and 300 degrees temp\n",
"x6=2728 //according to 20 bar pressure and 300 degrees temp\n",
"x7=2699 //according to 20 bar pressure and 300 degrees temp\n",
"x8=2592 //according to 20 bar pressure and 300 degrees temp\n",
"x9=2525 //according to 20 bar pressure and 300 degrees temp\n",
"x10=2430 //according to 20 bar pressure and 300 degrees temp\n",
"x11=2398 //according to 20 bar pressure and 300 degrees temp\n",
"x12=2262 //according to 20 bar pressure and 300 degrees temp\n",
"x13=2192 //according to 20 bar pressure and 300 degrees temp\n",
"//CALCULATIONS\n",
"ieff=(x1-x2)/(x1-x3)\n",
"feff=(x1-x4)/(x1-x5)\n",
"seff=(x4-x6)/(x4-x7)\n",
"teff=(x6-x8)/(x6-x9)\n",
"oeff=(x8-x10)/(x8-x11)\n",
"yeff=(x10-x12)/(x10-x13)\n",
"ced=(x1-x5)+(x4-x7)+(x6-x9)+(x8-x11)+(x10-x13)\n",
"rf=ced/(x1-x3)\n",
"//RESULTS\n",
"printf('cumulative enthaloy drop is %2f',ced)\n",
"printf('\nreheat factor is %2f',rf)"
   ]
   }
],
"metadata": {
		  "kernelspec": {
		   "display_name": "Scilab",
		   "language": "scilab",
		   "name": "scilab"
		  },
		  "language_info": {
		   "file_extension": ".sce",
		   "help_links": [
			{
			 "text": "MetaKernel Magics",
			 "url": "https://github.com/calysto/metakernel/blob/master/metakernel/magics/README.md"
			}
		   ],
		   "mimetype": "text/x-octave",
		   "name": "scilab",
		   "version": "0.7.1"
		  }
		 },
		 "nbformat": 4,
		 "nbformat_minor": 0
}
