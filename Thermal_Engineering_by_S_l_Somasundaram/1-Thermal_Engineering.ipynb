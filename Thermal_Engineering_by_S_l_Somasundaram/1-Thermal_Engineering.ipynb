{
"cells": [
 {
		   "cell_type": "markdown",
	   "metadata": {},
	   "source": [
       "# Chapter 1: Thermal Engineering"
	   ]
	},
{
		   "cell_type": "markdown",
		   "metadata": {},
		   "source": [
			"## Example 1.1: example_1.sce"
		   ]
		  },
  {
"cell_type": "code",
	   "execution_count": null,
	   "metadata": {
	    "collapsed": true
	   },
	   "outputs": [],
"source": [
"\n",
"clc\n",
"//initialisation of variables\n",
"clear\n",
"t1=300 //K\n",
"t3=1900 //K\n",
"r=15\n",
"g=1.4\n",
"p1=1 //bar\n",
"cp=1.005\n",
"cv=0.718\n",
"R=0.287 //kj/kgk\n",
"//CALCULATIONS\n",
"t2=t1*r^(g-1)\n",
"p2=p1*r^(g)\n",
"p3=p2\n",
"t4=t3*0.143^(g-1)\n",
"p4=p3*(0.143)^(g)\n",
"qs=cp*(t3-t2)\n",
"qr1=cv*(t4-t1)\n",
"wo=qs-qr1\n",
"ef=wo/qs\n",
"v1=R*t1/p1\n",
"v2=v1/r\n",
"sv=v1-v2\n",
"cl=v2/(v1-v2)\n",
"mep=wo/sv\n",
"printf('mean effective pressure is %2f',mep)"
   ]
   }
,
{
		   "cell_type": "markdown",
		   "metadata": {},
		   "source": [
			"## Example 1.2: example_2.sce"
		   ]
		  },
  {
"cell_type": "code",
	   "execution_count": null,
	   "metadata": {
	    "collapsed": true
	   },
	   "outputs": [],
"source": [
"clc\n",
"//initialisation of variables\n",
"tl=279 //k\n",
"ta=294 //k\n",
"th=393 //k\n",
"re=0.14\n",
"//CALCULATIONS\n",
"cop=(tl*(th-ta))/((ta-tl)*th)\n",
"acop=cop*re\n",
"//RESULTS\n",
"printf('actual COP is %2f',acop)"
   ]
   }
,
{
		   "cell_type": "markdown",
		   "metadata": {},
		   "source": [
			"## Example 1.3: example_3.sce"
		   ]
		  },
  {
"cell_type": "code",
	   "execution_count": null,
	   "metadata": {
	    "collapsed": true
	   },
	   "outputs": [],
"source": [
"clc\n",
"//initailisation variables\n",
"d=20 //cm\n",
"l=25 //cm\n",
"cv=1400 //cc\n",
"g=1.4\n",
"//CALCULATIONS\n",
"sv=(22/7*d^2*l)/4\n",
"tv=sv+cv\n",
"r=tv/cv\n",
"e=1-1/(r)^(g-1)\n",
"printf('otto efficiency is %2f',e)"
   ]
   }
,
{
		   "cell_type": "markdown",
		   "metadata": {},
		   "source": [
			"## Example 1.4: example_4.sce"
		   ]
		  },
  {
"cell_type": "code",
	   "execution_count": null,
	   "metadata": {
	    "collapsed": true
	   },
	   "outputs": [],
"source": [
"\n",
"clc\n",
"//initialisation of variables\n",
"t1=305 //K\n",
"t3=1920 //K\n",
"r=7\n",
"g=1.4\n",
"p1=1 //bar\n",
"cv=0.718\n",
"R=0.287 //kj/kgk\n",
"//CALCULATIONS\n",
"t2=t1*r^(g-1)\n",
"p2=p1*r^(g)\n",
"p3=p2*(t3/t2)\n",
"t4=t3*1/r^(g-1)\n",
"p4=p3*(1/r)^(g)\n",
"qs=cv*(t3-t2)\n",
"qr1=cv*(t4-t1)\n",
"wo=qs-qr1\n",
"ef=wo/qs\n",
"v1=R*t1/p1\n",
"v2=v1/r\n",
"sv=v1-v2\n",
"cl=v2/(v1-v2)\n",
"mep=wo/sv\n",
"printf('mean effective pressure is %2f',mep)"
   ]
   }
,
{
		   "cell_type": "markdown",
		   "metadata": {},
		   "source": [
			"## Example 1.5: example_5.sce"
		   ]
		  },
  {
"cell_type": "code",
	   "execution_count": null,
	   "metadata": {
	    "collapsed": true
	   },
	   "outputs": [],
"source": [
"clc\n",
"//initialisation of variables\n",
"r=14\n",
"g=1.4\n",
"x=1.78 //x=v3/v2\n",
"//CALCULATIONS\n",
"oef=1-(1/14)^(g-1)\n",
"def=1-((1/(14)^(g)*1.4))*((x^(g) -1)/(x-1))\n",
"printf('otto efficiency is %2f',oef)"
   ]
   }
,
{
		   "cell_type": "markdown",
		   "metadata": {},
		   "source": [
			"## Example 1.6: example_6.sce"
		   ]
		  },
  {
"cell_type": "code",
	   "execution_count": null,
	   "metadata": {
	    "collapsed": true
	   },
	   "outputs": [],
"source": [
"clc\n",
"//initialisation of variables \n",
"t1=300 //temparature in k\n",
"r=10 //compression ratio\n",
"p1=1 //pressure in bar\n",
"g=1.4 \n",
"p3=40 //pressure in bar\n",
"x=0.166 //x=v4/v5=t4/v1=(v4/v2)*(v2/v1)\n",
"t4=2000 //temparature in k\n",
"p4=40 //pressure in bar\n",
"cv=0.718 //calorific value(const volume)\n",
"cp=1.005 //calorific value(const preussure)\n",
"R=0.287\n",
"r=10\n",
"//CALCULATIONS\n",
"t2=(t1*(r)^(g-1))\n",
"p2=(p1*(r)^(g))\n",
"t3=t2*(p3/p2)\n",
"t5=t4*(x)^(g-1)\n",
"p5=p4*(x)^(g)\n",
"q23=cv*(t3-t2)\n",
"q34=cp*(t4-t3)\n",
"q44=cv*(t5-t1)\n",
"nwd=q23+q34-q44\n",
"ef=nwd/(q23+q34)\n",
"v1=(R*t1)/(p1*100)\n",
"v2=v1/r\n",
"mep=nwd/(v1-v2)\n",
"effo=1-(1/(r)^(g-1))\n",
"v3=(R*t4)/(p2*100)\n",
"cr=v3/v2\n",
"effd=1-((1/(r)^(g-1))*(1/g)*((cr)^(g)-1)/(cr-1))\n",
"//RESULTS\n",
"printf('temparature 2,3,5 and pressure 2,5 are %2fk,%2fk,%2fk and %2fbar,%2fbar',t2,t3,t5,p2,p5)\n",
"printf('\nheat supplied at const volume is %2fkj/kg/cycle',q23)\n",
"printf('\nheat supplied at const pressure is %2fkj/kg/cycle',q34)\n",
"printf('\nnet work output is %2f',nwd)\n",
"printf('\nefficiency is %2f',ef)\n",
"printf('\notto efficiency is %2f',effo)\n",
"printf('\ndiesel efficiency is %2f',effd)"
   ]
   }
,
{
		   "cell_type": "markdown",
		   "metadata": {},
		   "source": [
			"## Example 1.7: example_7.sce"
		   ]
		  },
  {
"cell_type": "code",
	   "execution_count": null,
	   "metadata": {
	    "collapsed": true
	   },
	   "outputs": [],
"source": [
"clc\n",
"//initialisation of variables\n",
"t1=295 //temparature in k\n",
"r=5.25\n",
"g=1.4\n",
"t3=923 //temparature in k\n",
"tc=511 //temparature in k\n",
"tt=633 //temparature in k\n",
"//CALCULATIONS\n",
"t2=t1*(r)^((g-1)/g)\n",
"t4=t3/(r)^((g-1)/g)\n",
"effb=1-((t4-t1)/(t3-t2))\n",
"wt=t3-t4\n",
"wc=t2-t1\n",
"wr1=(1-(t2-t1)/(t3-t4))\n",
"ctwr1=(t2-t1)/(t3-t4)\n",
"effc=(t2-t1)/(tc-t1)\n",
"efft=(t3-tt)/(t3-t4)\n",
"effbr=1-((tt-t1)/(t3-tc))\n",
"wr2=1-((tc-t1)/(t3-tt))\n",
"ctwr2=(tc-t1)/(t3-tt)\n",
"//RESULTS\n",
"printf('work ratio and compressed turbine wrok ratio in first part of problem are %2f and %2f',wr1,ctwr1)\n",
"printf('\nwork ratio and compressed turbine wrok ratio in second part of problem are %2f and %2f',wr2,ctwr2)"
   ]
   }
],
"metadata": {
		  "kernelspec": {
		   "display_name": "Scilab",
		   "language": "scilab",
		   "name": "scilab"
		  },
		  "language_info": {
		   "file_extension": ".sce",
		   "help_links": [
			{
			 "text": "MetaKernel Magics",
			 "url": "https://github.com/calysto/metakernel/blob/master/metakernel/magics/README.md"
			}
		   ],
		   "mimetype": "text/x-octave",
		   "name": "scilab",
		   "version": "0.7.1"
		  }
		 },
		 "nbformat": 4,
		 "nbformat_minor": 0
}
