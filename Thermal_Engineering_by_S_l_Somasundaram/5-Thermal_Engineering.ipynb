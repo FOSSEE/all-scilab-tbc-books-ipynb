{
"cells": [
 {
		   "cell_type": "markdown",
	   "metadata": {},
	   "source": [
       "# Chapter 5: Thermal Engineering"
	   ]
	},
{
		   "cell_type": "markdown",
		   "metadata": {},
		   "source": [
			"## Example 5.10: example_10.sce"
		   ]
		  },
  {
"cell_type": "code",
	   "execution_count": null,
	   "metadata": {
	    "collapsed": true
	   },
	   "outputs": [],
"source": [
"clc\n",
"//initialisation of variables\n",
"h1=2724.7 //kj/kg under 3 bar pressure\n",
"s1=6.991 //kj/kgk under 3 bar pressure\n",
"sf2=1.530 //kj/kgk\n",
"sfg2=5.597 //kj/kgk\n",
"hf2=504.7 //kj/kg\n",
"hfg2=2201.6 //kj/kg\n",
"vg2=0.8854\n",
"a2=3*10^-4 //area in m*m\n",
"v1=0.6056 //m*m*m/kg\n",
"p1=3 //bar\n",
"p2=2 //bar\n",
"n=1.3\n",
"t1=406.54 //temparature in k\n",
"ps=0.917 //bar\n",
"v2=0.8273 //m*m*m/kg\n",
"//CALCULATIONS\n",
"x2=(s1-sf2)/(sfg2)\n",
"h2=hf2+(x2*hfg2)\n",
"v2=x2*vg2\n",
"c2=44.72*(h1-h2)^(0.5)\n",
"m1=a2*c2/v2\n",
"v2=v1*(p1/p2)^(1/n)\n",
"c3=((-2*n/n-1)*p1*v1*((p2/p1)^((n-1)/n)-1))^0.5*543.53\n",
"m2=a2*c3/v2\n",
"t2=t1*(p2/p1)^((n-1)/n)\n",
"de=2/ps\n",
"//RESULTS\n",
"printf('mass flow rate is %2f',m2)\n",
"printf('\ndegree of super saturation is %2f',de)"
   ]
   }
,
{
		   "cell_type": "markdown",
		   "metadata": {},
		   "source": [
			"## Example 5.1: example_1.sce"
		   ]
		  },
  {
"cell_type": "code",
	   "execution_count": null,
	   "metadata": {
	    "collapsed": true
	   },
	   "outputs": [],
"source": [
"clc\n",
"//initialisation of variables\n",
"c=300 //velocity in m/s\n",
"cp=1.005 //kj/kgk\n",
"g=1.4\n",
"t=478 //static temparature in k\n",
"p=15 //static pressure in bar\n",
"//CALCULATIONS\n",
"t0=t+((c)^2/(2*cp*1000))\n",
"x=(t0/t)^(g/(g-1))*p\n",
"//RESULTS\n",
"printf('stagnation temparature and stagnation pressure is %2fk and %2fbar',t0,x)"
   ]
   }
,
{
		   "cell_type": "markdown",
		   "metadata": {},
		   "source": [
			"## Example 5.2: example_2.sce"
		   ]
		  },
  {
"cell_type": "code",
	   "execution_count": null,
	   "metadata": {
	    "collapsed": true
	   },
	   "outputs": [],
"source": [
"clc\n",
"//initialisation of variables\n",
"hg=2803.4 //kj/kg\n",
"c=300 //m/s\n",
"sg=6.1253 //kj/kgk\n",
"h2=2090.0 //kj/kg\n",
"//CALCULATIONS\n",
"h0=hg+((c)^2)/2000\n",
"c2=44.72*(h0-h2)^0.5\n",
"//RESULTS\n",
"printf('total enthalpy is %2fkj/kg',h0) //textbook answer is wrong\n",
"printf('\nfinal stream is %2fm/s',c2) //textbook answer is wrong"
   ]
   }
,
{
		   "cell_type": "markdown",
		   "metadata": {},
		   "source": [
			"## Example 5.3_a: example_3a.sce"
		   ]
		  },
  {
"cell_type": "code",
	   "execution_count": null,
	   "metadata": {
	    "collapsed": true
	   },
	   "outputs": [],
"source": [
"clc\n",
"//initialisation of variables\n",
"R=0.2897 //kj/kgk\n",
"g=1.4\n",
"t1=313 //temparature in k\n",
"p1=20 //pressure in bar\n",
"p2=13 //pressure im bar\n",
"cp=1.0138 //kj/kgk\n",
"a=5*10^-4\n",
"//CALCULATIONS\n",
"rc=(2/(g+1))^(g/0.4)\n",
"t2=t1*(p2/p1)^((g-1)/g)\n",
"c2=44.72*(cp*(t1-t2))^(0.5)\n",
"rho=p2*100/(R*t2)\n",
"m=rho*c2*a\n",
"//RESULTS\n",
"printf('mass f;ow rate and velocity of air at exit are %2fkg/s and %2fkg/m*m*m',m,rho) //textbook answer slightly varies"
   ]
   }
,
{
		   "cell_type": "markdown",
		   "metadata": {},
		   "source": [
			"## Example 5.3_b: example_3_b.sce"
		   ]
		  },
  {
"cell_type": "code",
	   "execution_count": null,
	   "metadata": {
	    "collapsed": true
	   },
	   "outputs": [],
"source": [
"clc\n",
"//initialisation of variables\n",
"R=0.2897 //kj/kgk\n",
"g=1.4\n",
"t1=313 //temparature in k\n",
"p1=20 //pressure in bar\n",
"p2=10.56 //pressure im bar\n",
"cp=1.0138 //kj/kgk\n",
"a=5*10^-4\n",
"//CALCULATIONS\n",
"rc=(2/(g+1))^(g/0.4)\n",
"t2=t1*(p2/p1)^((g-1)/g)\n",
"c2=44.72*(cp*(t1-t2))^(0.5)\n",
"rho=p2*100/(R*t2)\n",
"m=rho*c2*a\n",
"//RESULTS\n",
"printf('mass flow rate and velocity of air at exit are %2fkg/s and %2fkg/m*m*m',m,rho)"
   ]
   }
,
{
		   "cell_type": "markdown",
		   "metadata": {},
		   "source": [
			"## Example 5.4: example_4.sce"
		   ]
		  },
  {
"cell_type": "code",
	   "execution_count": null,
	   "metadata": {
	    "collapsed": true
	   },
	   "outputs": [],
"source": [
"clc\n",
"//initialisation of variables\n",
"x=100 //x=h1-h* in kj/kg\n",
"m=120 //mass in kg\n",
"pi=(22/7)\n",
"y=501.5 //y=h1-h2 in kj/kg\n",
"v1=0.607 //volume\n",
"v2=6.477 //volume\n",
"//CALCULATIONS\n",
"c1=44.72*(x)^(0.5)\n",
"a1=m*v1/(c1*60)\n",
"d1=(4*a1/pi)^0.5\n",
"c2=44.72*(y)^(0.5)\n",
"a2=m*v2/(c2*60)\n",
"d2=(4*a2/pi)^0.5\n",
"//RESULTS\n",
"printf('area of cross section of throat and diameter of throat are %2fm*m and %2fm',a1,d1)\n",
"printf('\narea of cross section at exit and diameter at exit are %2fm*m and %2fm',a2,d2)"
   ]
   }
,
{
		   "cell_type": "markdown",
		   "metadata": {},
		   "source": [
			"## Example 5.5: example_5.sce"
		   ]
		  },
  {
"cell_type": "code",
	   "execution_count": null,
	   "metadata": {
	    "collapsed": true
	   },
	   "outputs": [],
"source": [
"\n",
"clc\n",
"//initialisation of variables\n",
"clear\n",
"t1=593 //temparature in k\n",
"p2=1.05 //pressure in bar\n",
"p1=7 //pressure in bar\n",
"cp=1.005\n",
"p3=3.696 //pressure in bar\n",
"r=0.287 //kj/kgk\n",
"a=6.25*10^-4\n",
"g= 32.2 //ft/sec^2\n",
"R= 8.314\n",
"//CALCULATIONS\n",
"t2=t1*(p2/p1)^((g-1)/g)\n",
"c2=44.72*(cp*(t1-t2))^(0.5)\n",
"rho2=p2*100/(r*t2)\n",
"m2=rho2*c2*a\n",
"t3=t1*(p3/p1)^((g-1)/g)\n",
"c3=44.72*(cp*(t1-t3))^(0.5)\n",
"rho3=p3*100/(R*t3)\n",
"a3=m2/(rho3*c3)\n",
"//RESULTS\n",
"printf('exit velocity and mass flow rate are %2fm/s and %2fkg/s',c2,m2)\n",
"printf('\nthroat area is %2fm*m',a3)"
   ]
   }
,
{
		   "cell_type": "markdown",
		   "metadata": {},
		   "source": [
			"## Example 5.6: example_6.sce"
		   ]
		  },
  {
"cell_type": "code",
	   "execution_count": null,
	   "metadata": {
	    "collapsed": true
	   },
	   "outputs": [],
"source": [
"\n",
"clc\n",
"//initialisation of variables\n",
"clear\n",
"g=1.4 //gamma-const value\n",
"p1=4.5 //pressure in bar\n",
"p3=1.1 //pressure in bar\n",
"cp=1.005 //kj/kgk\n",
"rho4=0.5405 //density\n",
"rho3=0.9725 //density\n",
"t1=1023 //temparature in k\n",
"t2=852.16 //temparature in k\n",
"r=0.287 //cp-cv=const value\n",
"m=0.5 //mass\n",
"ieff=0.85 //isentropic efficiency\n",
"R= 8.314 \n",
"//CALCULATIONS\n",
"p2=0.528*p1\n",
"t2=0.833*t1\n",
"c2=44.72*(cp*(t1-t2))^(0.5)\n",
"rho2=p2*100/(R*t2)\n",
"a2=m/(rho3*c2)\n",
"t3=t2*(p3/p2)^((g-1)/g)\n",
"t4=t2-(ieff*(t2-t3))\n",
"c3=44.72*(cp*(t1-t4))^(0.5)\n",
"rho3=p2*100/(R*t4)\n",
"a3=m/(rho4*c3)\n",
"//RESULTS\n",
"printf('throat area is %2fm*m',a2)\n",
"printf('\nvelocity at exit,area at exit are %2fm/s and %2fm*m',c3,a3)"
   ]
   }
,
{
		   "cell_type": "markdown",
		   "metadata": {},
		   "source": [
			"## Example 5.7: example_7.sce"
		   ]
		  },
  {
"cell_type": "code",
	   "execution_count": null,
	   "metadata": {
	    "collapsed": true
	   },
	   "outputs": [],
"source": [
"clc\n",
"//initialisation of variables\n",
"p1=5 //pressure in bars\n",
"h1=2709 //kj/kg\n",
"h2=2649.5 //kj/kg\n",
"v2=0.6059 //volume flowrate in m*m*m/kg\n",
"m=2 //mass  in kg\n",
"v3=6.5098 //volume flowrate in m*m*m/kg\n",
"h1=2714.0 //kj/kg\n",
"h2=2649.5 //kj/kg\n",
"h3=2247.4 //kj/kg\n",
"eff=0.9 //efficiency\n",
"//CALCULATIONS\n",
"p2=0.578*p1\n",
"c2=44.72*(h1-h2)^(0.5)\n",
"a2=m*v2/c2\n",
"x=eff*(h1-h3) //x=h1-h3\n",
"c3=44.72*(x)^(0.5)\n",
"a3=m*v3/c3\n",
"//RESULTS \n",
"printf('velocity and area at throat are %2fm/s and %2fm*m',c2,a2)\n",
"printf('\nvelocity and area at exit are %2fm/s and %2fm*m',c3,a3)"
   ]
   }
,
{
		   "cell_type": "markdown",
		   "metadata": {},
		   "source": [
			"## Example 5.8: example_8.sce"
		   ]
		  },
  {
"cell_type": "code",
	   "execution_count": null,
	   "metadata": {
	    "collapsed": true
	   },
	   "outputs": [],
"source": [
"\n",
"clc\n",
"//initialisation of variables\n",
"clear\n",
"t1=323 //temp in k\n",
"c1=300 //velocity in m/s\n",
"c2=100 //velocity in m/s\n",
"cp=1.005 //kj/kgk\n",
"p1=10 //pressure in bar\n",
"p3=14 // pressure in bar\n",
"g= 32.2 //ft/sec^2\n",
"//CALCULATIONS\n",
"t2=t1+(((c1)^2)+(c2)^2)/(2*cp)\n",
"p2=p1*(t2/t1)^(g/(g-1))\n",
"t2=t1*(p3/p1)^((g-1)/g)\n",
"h3=cp*t2\n",
"x=(0.5*((c1)^2-(c2)^2))/1000 //x=h2-h1\n",
"h1=cp*t1\n",
"eff=(h3-h1)/(x)\n",
"//RESULTS\n",
"printf('diffuser efficiency is %2f',eff)"
   ]
   }
,
{
		   "cell_type": "markdown",
		   "metadata": {},
		   "source": [
			"## Example 5.9: example_9.sce"
		   ]
		  },
  {
"cell_type": "code",
	   "execution_count": null,
	   "metadata": {
	    "collapsed": true
	   },
	   "outputs": [],
"source": [
"clc\n",
"//initialisation of variables\n",
"t1=323 //temparature in k\n",
"t2=362.8 //temparature in k\n",
"c1=300 //velocity in m/s\n",
"c2=100 //velocity in m/s\n",
"cp=1.005 //kj/kgk\n",
"p1=10 //pressure in bar\n",
"p3=14 // pressure in bar\n",
"g=1.4\n",
"//CALCULATIONS\n",
"tx=t1+((c1)^2/(2*cp*1000))\n",
"po1=p1*(tx/t1)^(g/(g-1))\n",
"po2=p3*(tx/t2)^(g/(g-1))\n",
"tpr=po2/po1\n",
"rrr=(po2-p1)/(po1-p1)\n",
"//RESULTS\n",
"printf('total pressure ratio and ram recovery ratio are %2f and %2f',tpr,rrr)"
   ]
   }
],
"metadata": {
		  "kernelspec": {
		   "display_name": "Scilab",
		   "language": "scilab",
		   "name": "scilab"
		  },
		  "language_info": {
		   "file_extension": ".sce",
		   "help_links": [
			{
			 "text": "MetaKernel Magics",
			 "url": "https://github.com/calysto/metakernel/blob/master/metakernel/magics/README.md"
			}
		   ],
		   "mimetype": "text/x-octave",
		   "name": "scilab",
		   "version": "0.7.1"
		  }
		 },
		 "nbformat": 4,
		 "nbformat_minor": 0
}
