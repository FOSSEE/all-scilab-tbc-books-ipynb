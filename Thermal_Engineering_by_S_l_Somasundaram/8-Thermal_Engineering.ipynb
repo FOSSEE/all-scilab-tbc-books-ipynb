{
"cells": [
 {
		   "cell_type": "markdown",
	   "metadata": {},
	   "source": [
       "# Chapter 8: Thermal Engineering"
	   ]
	},
{
		   "cell_type": "markdown",
		   "metadata": {},
		   "source": [
			"## Example 8.10: example_10.sce"
		   ]
		  },
  {
"cell_type": "code",
	   "execution_count": null,
	   "metadata": {
	    "collapsed": true
	   },
	   "outputs": [],
"source": [
"\n",
"clc\n",
"//initialisation of variables\n",
"ph=13.89 //pressure in bar under 36 degrees temp\n",
"p1=1.447 //pressure in bar under -26 degrees temp\n",
"h1=1411.4 //kj/kg\n",
"s1=5.718 //kj/kgk\n",
"h2=1561.7 //kj/kg\n",
"h3= 150 //kj/kg\n",
"h4=185.8 //kj/kg\n",
"h5=1445.5 //kj/kg\n",
"s5=5.327 //kj/kgk\n",
"s5=5.327 //kj/kgk\n",
"h6=1607.6 //kj/kg\n",
"r=25\n",
"//CALCULATIONS\n",
"pi=(p1*ph)^0.5\n",
"m1=(3.5164*r)/(h1-h4)\n",
"mh=m1*(h2-h3)/(h5-h1)\n",
"poc=m1*(h2-h1)\n",
"pohc=mh*(h6-h5)\n",
"pr=poc+pohc\n",
"re=h1-h4\n",
"wi=(h2-h1)+(h6-h5)\n",
"cop=re/wi\n",
"//RESULTS\n",
"printf('power of lp compressor is %2fkw',poc)\n",
"printf('\npower of hp compressor is %2fkw',pohc)\n",
"printf('\ntotal power required is %2fkw',pr)\n",
"printf('\nrefrigerating effect is%2fkj/kg',re)\n",
"printf('\ncoefficient of performance is %2f',cop)"
   ]
   }
,
{
		   "cell_type": "markdown",
		   "metadata": {},
		   "source": [
			"## Example 8.11: example_11.sce"
		   ]
		  },
  {
"cell_type": "code",
	   "execution_count": null,
	   "metadata": {
	    "collapsed": true
	   },
	   "outputs": [],
"source": [
"clc\n",
"//initialisation of variables\n",
"h1=1411.4 //kj/kg\n",
"s1=5.718 //kj/kgk\n",
"s2=5.718 //kj/kgk\n",
"h2=1755.7 //kj/kg\n",
"h4=352.3 //under 13.89 bar in kj/kg\n",
"h3=352.3 //under 13.89 bar in kj/kg \n",
"//CALCULATIONS\n",
"m=(3.5164*25)/(h1-h4)\n",
"poc=m*(h2-h1)\n",
"cop=(h1-h4)/(h2-h1)\n",
"//RESULTS\n",
"printf('mass flow rate of refrigerant is %2fkg/s',m)\n",
"printf('\ncoefficient of performance is %2f',cop)\n",
"printf('\npower of compressor is %2fkw',poc)"
   ]
   }
,
{
		   "cell_type": "markdown",
		   "metadata": {},
		   "source": [
			"## Example 8.12: example_12.sce"
		   ]
		  },
  {
"cell_type": "code",
	   "execution_count": null,
	   "metadata": {
	    "collapsed": true
	   },
	   "outputs": [],
"source": [
"clc\n",
"//initialisation of variables\n",
"h1=178.73 //under -20 degrees in kj/kg\n",
"h5=185.66 //under 5 degrees in kj/kg\n",
"h3=79.71 //under 10.84 degrees in kj/kg\n",
"h6=79.71 //under 10.84 degrees in kj/kg\n",
"h4=79.71 //under 10.84 degrees in kj/kg\n",
"h2=219.33 //kj/kg\n",
"//CALCULATIONS\n",
"m1=(7*211)/(h1-h4)\n",
"mh=(5*211)/(h5-h4)\n",
"h8=((m1*h1)+(mh*h5))/(m1+mh)\n",
"poc=(m1+mh)*(h2-h8)\n",
"cop=(12*211)/poc\n",
"//RESULTS\n",
"printf('power of compressor is %2fkj/min',poc)\n",
"printf('\nrefrigerant flow rate is %2fkg/min',mh)\n",
"printf('\ncoefficient of performance is %2f',cop)"
   ]
   }
,
{
		   "cell_type": "markdown",
		   "metadata": {},
		   "source": [
			"## Example 8.13: example_13.sce"
		   ]
		  },
  {
"cell_type": "code",
	   "execution_count": null,
	   "metadata": {
	    "collapsed": true
	   },
	   "outputs": [],
"source": [
"clc\n",
"//initialisation of variables\n",
"h1=185.38 //under -5 degrees temp in kj/kg\n",
"s1=0.6991 //nder -5 degrees temp in kj/kgk\n",
"ps2=7.449 //under 30 degrees in bar\n",
"s2=0.6991 //under 30 degrees in bar\n",
"h2=203.9 //kj/kg\n",
"h3=64.59 //kj/kg\n",
"h4=64.59 //kj/kg\n",
"//CALCULATIONS\n",
"he=h2-h3\n",
"wi=h2-h1\n",
"cop1=he/wi\n",
"mf=84400/he\n",
"pr=(mf/3600)*(wi)\n",
"coe=pr*1\n",
"//RESULTS\n",
"printf('coefficient of performance is %2f',cop1)\n",
"printf('\nmass flow rate of refrigerant is %2fkg/h',mf)\n",
"printf('\npower required is %2fkw',pr)\n",
"printf('\ncost of electricity is %2frs',coe)"
   ]
   }
,
{
		   "cell_type": "markdown",
		   "metadata": {},
		   "source": [
			"## Example 8.14: example_14.sce"
		   ]
		  },
  {
"cell_type": "code",
	   "execution_count": null,
	   "metadata": {
	    "collapsed": true
	   },
	   "outputs": [],
"source": [
"clc\n",
"//initialisation of variables\n",
"t1=1100 //K\n",
"t2=275 //K\n",
"g=1.4\n",
"pa=101.32\n",
"qs=250 //kj/kg\n",
"r=0.287 //kj/kgK\n",
"//CALCULATIONS\n",
"p1=(t1/t2)^(3.5)*pa //(g/g-1)=3.5\n",
"pb=2.2075*p1\n",
"va=(r*t2)/pa\n",
"vb=(r*t1)/pb\n",
"mep=(0.75*qs)/(va-vb)\n",
"printf('mean effective pressure is %2f units',mep)"
   ]
   }
,
{
		   "cell_type": "markdown",
		   "metadata": {},
		   "source": [
			"## Example 8.15: example_15.sce"
		   ]
		  },
  {
"cell_type": "code",
	   "execution_count": null,
	   "metadata": {
	    "collapsed": true
	   },
	   "outputs": [],
"source": [
"clc\n",
"//initialisation of variables\n",
"ps2=0.008129 //under 4 degree temp in bar\n",
"ps3=0.047534 //under32 degree temp in bar\n",
"v=0.75 //volume in m*m*m\n",
"vf=0.001\n",
"h1=50.4 //under 12 degree temp in kj/kg\n",
"h2=16.8 //kj/kg\n",
"hf3=16.8 //kj/kg\n",
"hfg3=2492.1 //kj/kg\n",
"x3=0.98\n",
"vg3=157.27 //under 4 degree temparature\n",
"//CALCULATIONS\n",
"pr=ps3/ps2\n",
"mfr=v/vf\n",
"re=mfr*(h1-h2)\n",
"h3=hf3+(x3*hfg3)\n",
"mf3=re/(h3-h1)\n",
"vv=mf3*x3*vg3\n",
"//RESULTS\n",
"disp('pressures in flash chamber are ps2=0.008129 and ps3=0.047534')\n",
"printf('\npressure ratio is %2f',pr)\n",
"printf('\nthe refrigeration effect is %2fkj/kg',re)\n",
"printf('\namount of makeup water is %2fkg/min',mf3)\n",
"printf('\nvolume of water entering the ejector is %2fm*m*m/min',vv)"
   ]
   }
,
{
		   "cell_type": "markdown",
		   "metadata": {},
		   "source": [
			"## Example 8.16: example_16.sce"
		   ]
		  },
  {
"cell_type": "code",
	   "execution_count": null,
	   "metadata": {
	    "collapsed": true
	   },
	   "outputs": [],
"source": [
"clc\n",
"//initialisation of variables\n",
"h1=272.763 //under 300 k temp in kj/kg\n",
"s1=6.4125 //under 300 k temp in kj/kg\n",
"h2=230.347 //under 200 k temp in kj/kg1\n",
"s2=4.9216 //under 300 k temp in kj/kg\n",
"hf=-133.347 //kj/kg\n",
"t1=300 //temp in k\n",
"//CALCULATIONS\n",
"y=(h1-h2)/(h1-hf)\n",
"mw=(t1*(s2-s1))-(h2-h1)\n",
"x=mw/0.1044\n",
"//RESULTS\n",
"printf('fraction of oxygen condensed is %2f',y)\n",
"printf('\nwork required is %2f',x) //answer is wrong in tb"
   ]
   }
,
{
		   "cell_type": "markdown",
		   "metadata": {},
		   "source": [
			"## Example 8.19: example_19.sce"
		   ]
		  },
  {
"cell_type": "code",
	   "execution_count": null,
	   "metadata": {
	    "collapsed": true
	   },
	   "outputs": [],
"source": [
"clc\n",
"//initialisation of variables\n",
"t1=300 //temp in k\n",
"sf=2.9409 //kj/kgk\n",
"s1=6.44125 //kj/kgk\n",
"hf=-133.347 //kj/kg\n",
"h1=272.763 //kj/kg\n",
"w=-4690.5\n",
"//CALCULATIONS\n",
"mw=(t1*(sf-s1)-(hf-h1))\n",
"fom=mw/w\n",
"//RESULTS\n",
"printf('minimum work is %2fkj/kg of o2 liquefied',mw)\n",
"printf('\nfigure of merit is %2f',fom)\n",
"//no 8.17 and 8.19 in tb print mistake"
   ]
   }
,
{
		   "cell_type": "markdown",
		   "metadata": {},
		   "source": [
			"## Example 8.1: example_1.sce"
		   ]
		  },
  {
"cell_type": "code",
	   "execution_count": null,
	   "metadata": {
	    "collapsed": true
	   },
	   "outputs": [],
"source": [
"clc\n",
"//initialisation of variables\n",
"cc=12000 //btu/h\n",
"pi=1565 ///watts\n",
"ra=7 //btu/h/w\n",
"//CALCULATIONS\n",
"eer=cc/pi\n",
"p(1)=cc/ra\n",
"//RESULTS\n",
"printf('eer is %2f',eer)\n",
"printf('\npower consumption of first unit is %2fwatts',p(1))"
   ]
   }
,
{
		   "cell_type": "markdown",
		   "metadata": {},
		   "source": [
			"## Example 8.2: example_2.sce"
		   ]
		  },
  {
"cell_type": "code",
	   "execution_count": null,
	   "metadata": {
	    "collapsed": true
	   },
	   "outputs": [],
"source": [
"clc\n",
"//initialisation of variables\n",
"t1=278 //temparature in k\n",
"t2=300 //temparature in k\n",
"hf2=21 //kj/kg\n",
"hfg2=2489.7 //kj/kg\n",
"h3=113.1 //under 300 k in kj/kg\n",
"x2=0.8\n",
"p=3.154 //power\n",
"//CALCULATIONS\n",
"cop=t1/(t2-t1)\n",
"h2=hf2+(x2*hfg2)\n",
"re=h2-h3\n",
"pr=p/cop\n",
"//RESULTS\n",
"printf('cop is %2f',cop)\n",
"printf('\npower required is%2fkw/ton of refrigeration',pr)\n",
"printf('\nrefrigeration effect is %2fkj/kg',re)"
   ]
   }
,
{
		   "cell_type": "markdown",
		   "metadata": {},
		   "source": [
			"## Example 8.3: example_3.sce"
		   ]
		  },
  {
"cell_type": "code",
	   "execution_count": null,
	   "metadata": {
	    "collapsed": true
	   },
	   "outputs": [],
"source": [
"clc\n",
"//initialisation of variables\n",
"t1=253 //temp in k\n",
"t3=313 //temp in k\n",
"cp=1.005 //kj/kg\n",
"r=4 //bar\n",
"g=1.4\n",
"//CALCULATIONS\n",
"t2=(t1*(r)^((g-1)/g))\n",
"t4=(t3/(r)^((g-1)/g))\n",
"re=cp*(t1-t4)\n",
"wi=cp*((t2-t3)-(t1-t4))\n",
"cop=re/wi\n",
"ma=(3.5164*10)/re\n",
"p=ma*wi\n",
"//RESULTS\n",
"printf('cop is %2f',cop)\n",
"printf('\nmass of refrigeration is %2fkg/s',ma)\n",
"printf('\npower required to drive the unit is %2fkw',p)"
   ]
   }
,
{
		   "cell_type": "markdown",
		   "metadata": {},
		   "source": [
			"## Example 8.4: example_4.sce"
		   ]
		  },
  {
"cell_type": "code",
	   "execution_count": null,
	   "metadata": {
	    "collapsed": true
	   },
	   "outputs": [],
"source": [
"clc\n",
"//initialisation of variables\n",
"t1=261 //temp in k\n",
"t3=310 //temp in k\n",
"cp=1.005 //kj/kg\n",
"r=5\n",
"//CALCULATIONS\n",
"t2=(t1*(r)^((g-1)/g))\n",
"t4=(t3/(r)^((g-1)/g))\n",
"re=cp*(t1-t4)\n",
"ma=(3.5164*3600)/re\n",
"woc=cp*(t2-t1)\n",
"woe=cp*(t3-t4)\n",
"nw=woc-woe\n",
"cop1=re/nw\n",
"cop2=t1/(t3-t1)\n",
"reff=cop1/cop2\n",
"//RESULTS\n",
"printf('temparature at states 2 and 4 are %2fk and %2fk',t2,t4)\n",
"printf('\nmass of air per hour is %2fkg/h',ma)\n",
"printf('\nnet work required is %2fkj/kg',nw)\n",
"printf('\ncoefficient of perfoemance is %2f',cop1)\n",
"printf('\nrelative efficiency is %2f',reff)"
   ]
   }
,
{
		   "cell_type": "markdown",
		   "metadata": {},
		   "source": [
			"## Example 8.5: example_5.sce"
		   ]
		  },
  {
"cell_type": "code",
	   "execution_count": null,
	   "metadata": {
	    "collapsed": true
	   },
	   "outputs": [],
"source": [
"clc\n",
"//initialisation of variables\n",
"h1=176.48 //under -25 degrees temp in kj/kg\n",
"s1=0.7127 //under -25 degrees temp in kj/kgk\n",
"h2=215.17 //under 58 degrees temp in kj/kg\n",
"h3=79.71 //under 45 degrees temp in kj/kg\n",
"h4=79.71 //under 45 degrees temp in kj/kg\n",
"no=20 // number of tons\n",
"//CALCULATIONS\n",
"w=h2-h1\n",
"re=h1-h4\n",
"cop=re/w\n",
"ha=no*3.5164\n",
"cr=ha/re\n",
"pr=cr*w\n",
"//RESULTS\n",
"printf('the refrigeration effect is %2fkj/kg',re)\n",
"printf('\ncoefficient of performance is %2f',cop)\n",
"printf('\npower required is %2fkw',pr)\n",
"printf('\ncirculating rate of refrigerant is %2fkg/s',cr)"
   ]
   }
,
{
		   "cell_type": "markdown",
		   "metadata": {},
		   "source": [
			"## Example 8.6: example_6.sce"
		   ]
		  },
  {
"cell_type": "code",
	   "execution_count": null,
	   "metadata": {
	    "collapsed": true
	   },
	   "outputs": [],
"source": [
"clc\n",
"//initialisation of variables\n",
"h1=176.48 //under -25 degrees temp in kj/kg\n",
"h2=215.17 //kj/kg\n",
"h4=74.59 //kj/kg\n",
"//CALCULATIONS\n",
"re=h1-h4\n",
"w=h2-h1\n",
"cop=re/w\n",
"//RESULTS\n",
"printf('the refrigeration effect is %2fkj/kg',re)\n",
"printf('\ncoefficient of performance is %2f',cop)"
   ]
   }
,
{
		   "cell_type": "markdown",
		   "metadata": {},
		   "source": [
			"## Example 8.7: example_7.sce"
		   ]
		  },
  {
"cell_type": "code",
	   "execution_count": null,
	   "metadata": {
	    "collapsed": true
	   },
	   "outputs": [],
"source": [
"clc\n",
"//initialisation of variables\n",
"h1=179.43 //under -25 degrees temp in kj/kg\n",
"h2=219.03 //kj/kg\n",
"h4=74.59 //kj/kg\n",
"//CALCULATIONS\n",
"re=h1-h4\n",
"w=h2-h1\n",
"cop=re/w\n",
"//RESULTS\n",
"printf('the refrigeration effect is %2fkj/kg',re)\n",
"printf('\ncoefficient of performance is %2f',cop)"
   ]
   }
,
{
		   "cell_type": "markdown",
		   "metadata": {},
		   "source": [
			"## Example 8.8: example_8.sce"
		   ]
		  },
  {
"cell_type": "code",
	   "execution_count": null,
	   "metadata": {
	    "collapsed": true
	   },
	   "outputs": [],
"source": [
"clc\n",
"//initialisation of variables\n",
"h2=1472.6 //kj/kg\n",
"s2=4.898 //kj/kgk\n",
"sf1=0.510 //kj/kgk\n",
"sfg1=5.504 //kj/kgk\n",
"hf1=126.2 //kj/kg\n",
"hfg1=1304.3 //kj/kg\n",
"h4=362.1 //under 38 degrees in kj/kg\n",
"h2=1472.6 //kj/kg\n",
"h3=362.1 //under 38 degrees in kj/kg\n",
"t1=261 //temp in k\n",
"t2=311 //temp in k\n",
"//CALCULATIONS\n",
"x1=(s2-sf1)/sfg1\n",
"h1=hf1+(x1*hfg1)\n",
"re=h1-h4\n",
"w=h2-h1\n",
"cop=re/w\n",
"hr=h2-h3\n",
"ca=(2*re*50)/(3600*3.5164)\n",
"pom=100*w/3600\n",
"ccop=t1/(t2-t1)\n",
"rff=cop/ccop\n",
"//RESULTS\n",
"printf('coefficient of performance is %2f',cop)\n",
"printf('\nheat rejected in the condenser is%2fkj/kg',hr)\n",
"printf('\nrefrigerating effect is%2fkj/kg',re)\n",
"printf('\ncapacity of motor is%2frons of refrigeration',ca)\n",
"printf('\npower of motor is %2fkw',pom)\n",
"printf('\nrefrigerating befficiency is %2f',rff)"
   ]
   }
,
{
		   "cell_type": "markdown",
		   "metadata": {},
		   "source": [
			"## Example 8.9: example_9.sce"
		   ]
		  },
  {
"cell_type": "code",
	   "execution_count": null,
	   "metadata": {
	    "collapsed": true
	   },
	   "outputs": [],
"source": [
"\n",
"clc\n",
"//initialisation of variables\n",
"hf1=-7.53 //kj/kg\n",
"hfg1=245.8 //kj/kg\n",
"x1=0.6\n",
"sf1=-0.04187 //kj/kgk\n",
"t1=268 //temp in degrees\n",
"sf2=0.2513 //kj/kgk\n",
"hf2=81.25 //kj/kg\n",
"hfg2=121.5 //kj/kg\n",
"t2=298 //temp in k\n",
"h4=81.25 //under 20 degrees in kj/kg\n",
"h3=81.25 //under 20 degrees in kj/kg\n",
"sh=4.2 //kj/kgk\n",
"lt=335 //kj/kg\n",
"reff=0.5\n",
"sfg1= 1 //kj/kg\n",
"s2= 1 //kj/kg\n",
"//CALCULATIONS\n",
"h1=hf1+(x1*hfg1)\n",
"s1=sf1+(x1*sfg1)\n",
"x2=((s2-sf2)/hfg2)*t2\n",
"h2=hf2+(x2*hfg2)\n",
"re=h1-h4\n",
"are=re*reff\n",
"he=sh*10+lt\n",
"ma=(are*6*60)/he\n",
"//RESULTS\n",
"printf('refrigerating effect is%2fkj/kg',re)\n",
"printf('\nactual refrigerating effect is%2fkj/kg',are)\n",
"printf('\nheat to be extracted to produce 1kg of ice is %2fkj/kg of ice',he)\n",
"printf('\nmass of ice formed is %2fkg/day',ma)"
   ]
   }
],
"metadata": {
		  "kernelspec": {
		   "display_name": "Scilab",
		   "language": "scilab",
		   "name": "scilab"
		  },
		  "language_info": {
		   "file_extension": ".sce",
		   "help_links": [
			{
			 "text": "MetaKernel Magics",
			 "url": "https://github.com/calysto/metakernel/blob/master/metakernel/magics/README.md"
			}
		   ],
		   "mimetype": "text/x-octave",
		   "name": "scilab",
		   "version": "0.7.1"
		  }
		 },
		 "nbformat": 4,
		 "nbformat_minor": 0
}
