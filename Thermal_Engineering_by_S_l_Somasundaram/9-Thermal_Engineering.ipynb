{
"cells": [
 {
		   "cell_type": "markdown",
	   "metadata": {},
	   "source": [
       "# Chapter 9: Thermal Engineering"
	   ]
	},
{
		   "cell_type": "markdown",
		   "metadata": {},
		   "source": [
			"## Example 9.10: example_10.sce"
		   ]
		  },
  {
"cell_type": "code",
	   "execution_count": null,
	   "metadata": {
	    "collapsed": true
	   },
	   "outputs": [],
"source": [
"clc\n",
"//initialisation of variables\n",
"sp=200 //mean speed m/s\n",
"//CALCULATIONS\n",
"d=(21/(0.7773*1.18*200))^0.5\n",
"l=1.5*d\n",
"s=200/(3*d)\n",
"//RESULTS\n",
"disp('volumetric efficiency is 0.7773')\n",
"printf('\ndiameter is %2fm',d)\n",
"printf('\nstroke is %2fm',l)\n",
"printf('\nspeed of compressor is %2frev/min',s)"
   ]
   }
,
{
		   "cell_type": "markdown",
		   "metadata": {},
		   "source": [
			"## Example 9.11: example_11.sce"
		   ]
		  },
  {
"cell_type": "code",
	   "execution_count": null,
	   "metadata": {
	    "collapsed": true
	   },
	   "outputs": [],
"source": [
"\n",
"clc\n",
"//initialisation of variables\n",
"r=0.287\n",
"p=1.01325 //pressure in bar\n",
"v=5 //volume in m*m*m\n",
"t=288 //temparature in k\n",
"t1=303 //temparature in k\n",
"t2=403 //temparature in k\n",
"p2=4.08 //pressure in bar\n",
"p1=0.98 //pressure in bar\n",
"p3=17 //pressure in bar\n",
"n=1.25\n",
"c=0.06 //clearance volume by swept volume\n",
"//CALCULATIONS\n",
"m=(p*v)/(r*t)\n",
"rp=p2/p1\n",
"t2s=(t1*(p2/p1)^((n-1)/n))\n",
"wr=(n/n-1)*r*(t2-t1)\n",
"wc=2*wr\n",
"veff=(1+c-c*(rp)^(1/n))\n",
"x=(p*100*v*t1)/(p1*100*t) //x=(v1-v4)\n",
"vs=x/veff\n",
"vsc=vs/125\n",
"d1=((4*vsc)/%pi)^(1/3)\n",
"//RESULTS\n",
"printf('volumetric efficiency is %2f',veff)\n",
"printf('\nstoke volume is %2fm*m*m/min',vs)\n",
"printf('\nstroke volume per cycle is %2fm*m*m',vsc)\n",
"printf('\nstoke of piston is %2f',d1)"
   ]
   }
,
{
		   "cell_type": "markdown",
		   "metadata": {},
		   "source": [
			"## Example 9.12: example12.sce"
		   ]
		  },
  {
"cell_type": "code",
	   "execution_count": null,
	   "metadata": {
	    "collapsed": true
	   },
	   "outputs": [],
"source": [
"clc\n",
"//initialisation of variables\n",
"t1=303 //temparature in k\n",
"p2=4.08 //pressure in bar\n",
"p1=1 //pressure in bar\n",
"t5=303 //temparature in k\n",
"x=0.3247 //x=v2/v1 where the relation is v2=v1*(1/rp)^1/n\n",
"y=0.0385 //y=v3/v1\n",
"vo=0.2862 //vo=volume of air delivered/v1\n",
"vf=0.8299 //vf=vome of free air /v1\n",
"n=1.25\n",
"p3=17.5 //pressure in bar\n",
"r=0.287\n",
"tatm=2911 //temp in k\n",
"patm=1.02 //pressure in bar\n",
"w=291 \n",
"//CALCULATIONS\n",
"t2=(t1*(p2/p1)^((n-1)/n))\n",
"veff=vf/(1-y)\n",
"a=(r*(t2-t1)*5)\n",
"t3=(t1*(p3/p2)^((n-1)/n))\n",
"hp=(5*r*(t3-t1))\n",
"iso=(r*tatm*log(p3/patm))/10 //its ln\n",
"ieff=iso/w\n",
"//RESULTS\n",
"printf('volumetric efficiency is %2f',veff)\n",
"printf('\nwork required for lp cyclinder is %2f',a)\n",
"printf('\nwork required for hp cyclinder is %2f',hp)\n",
"printf('\nwork required for isothermal is %2f',iso)\n",
"printf('\nisothermal efficiency is %2f',ieff)"
   ]
   }
,
{
		   "cell_type": "markdown",
		   "metadata": {},
		   "source": [
			"## Example 9.13: exmaple_13.sce"
		   ]
		  },
  {
"cell_type": "code",
	   "execution_count": null,
	   "metadata": {
	    "collapsed": true
	   },
	   "outputs": [],
"source": [
"clc\n",
"//initialisation of variables\n",
"p2=1.5 //pressure in bar\n",
"p1=1 //pressure in bar\n",
"v=0.05 //volume in m*m*m\n",
"g=1.4\n",
"r=1.4\n",
"n=120 //number of cycles\n",
"//CALCULATIONS\n",
"wa=v*(p2-p1)*100\n",
"wi=3.5*100*p1*v*(((p2/p1)^((r-1)/r))-1)\n",
"reff=wi/wa\n",
"vo=v/4\n",
"pr=wa*n/60\n",
"//RESULTS\n",
"printf('roots efficiency is %2f',reff)\n",
"printf('\nvolume of air is %2fm*m*m/cycle',vo)\n",
"printf('\npower required is %2fkw',pr)"
   ]
   }
,
{
		   "cell_type": "markdown",
		   "metadata": {},
		   "source": [
			"## Example 9.14: example_14.sce"
		   ]
		  },
  {
"cell_type": "code",
	   "execution_count": null,
	   "metadata": {
	    "collapsed": true
	   },
	   "outputs": [],
"source": [
"clc\n",
"//initialisation of variables\n",
"p2=1.5 //pressure in bar\n",
"p1=1 //pressure in bar\n",
"v=0.05 //volume in m*m*m\n",
"x=0.35 //increse in pressure\n",
"g=1.4\n",
"r=1.4\n",
"n=120 //number of cycles\n",
"//CALCULATIONS\n",
"wa=v*(p2-p1)*100\n",
"wi1=3.5*100*p1*v*(((p2/p1)^((r-1)/r))-1)\n",
"ceff=wi1/wa\n",
"vo=v/4\n",
"pr=wa*n/60\n",
"prs=x*(p2-p1)\n",
"p3=p1+prs\n",
"wi2=3.5*100*p1*v*(((p3/p1)^((r-1)/r))-1)\n",
"vi=v*(p1/p3)^(1/g)\n",
"w2=vi*(p2-p3)*100\n",
"tw=w2+wi2\n",
"comeff=wi1/tw\n",
"po=tw*2\n",
"//RESULTS\n",
"printf('compressor efficiency is %2f',ceff)\n",
"printf('\nwork required for internal compression is %2fknm/rev',wi2)\n",
"printf('\npower required is %2fkw',pr)\n",
"printf('\ncompressor efficiency 2 is %2f',comeff)\n",
"printf('\npower required 2 is %2fkw',po)"
   ]
   }
,
{
		   "cell_type": "markdown",
		   "metadata": {},
		   "source": [
			"## Example 9.15: example_15.sce"
		   ]
		  },
  {
"cell_type": "code",
	   "execution_count": null,
	   "metadata": {
	    "collapsed": true
	   },
	   "outputs": [],
"source": [
"clc\n",
"//initialisation of variables\n",
"t1=295 //temp in k\n",
"p1=1.02 //pressure in bar\n",
"p2=7.14 //pressure in bar\n",
"cp=1.005 //kj/kg\n",
"g=1.4\n",
"wr=250 //kj/kg\n",
"//CALCULATIONS\n",
"t2s=t1*(p2/p1)^((g-1)/g)\n",
"wi=cp*(t2s-t1)\n",
"ieff=wi/wr\n",
"t2=(wr/cp)+t1\n",
"//RESULTS\n",
"printf('isentropic work is %2fkj/kg',wi)\n",
"printf('\nisentropic efficiency is %2f',ieff)\n",
"printf('\ntemparature 2 is %2fk',t2)\n",
"disp('index of compression is 1.46')"
   ]
   }
,
{
		   "cell_type": "markdown",
		   "metadata": {},
		   "source": [
			"## Example 9.16: example16.sce"
		   ]
		  },
  {
"cell_type": "code",
	   "execution_count": null,
	   "metadata": {
	    "collapsed": true
	   },
	   "outputs": [],
"source": [
"\n",
"clc\n",
"//initialisation of variables\n",
"t1=310 //temp in k\n",
"p1=1 //pressure in bar\n",
"p2=4 //pressure in bar\n",
"cp=1.005 //kj/kg\n",
"v1=28 //m*m*m volume\n",
"r=0.287\n",
"ce=0.7 //copression efficiency\n",
"g= 32.2 //ft/sec^2\n",
"//CALCULATIONS\n",
"t2s=t1*(p2/p1)^((g-1)/g)\n",
"wi=cp*(t2s-t1)\n",
"m=(p1*v1*100)/(r*t1)\n",
"apr=(m*wi)/60\n",
"iei=wi/ce\n",
"//RESULTS\n",
"printf('isentropic work is %2f',apr)\n",
"printf('\nadiabatic power required is %2f',m)\n",
"printf('\nindicated enthalpy increase is %2f',iei)"
   ]
   }
,
{
		   "cell_type": "markdown",
		   "metadata": {},
		   "source": [
			"## Example 9.17: example_17.sce"
		   ]
		  },
  {
"cell_type": "code",
	   "execution_count": null,
	   "metadata": {
	    "collapsed": true
	   },
	   "outputs": [],
"source": [
"\n",
"clc\n",
"//initialisation of variables\n",
"p2=6 //prressure in bar\n",
"p1=1 //pressure in bar\n",
"t1=313 //temp in k\n",
"a1=45 //angle in degrees\n",
"a2=10 //angle in degrees\n",
"a3=55 //angle in degrees\n",
"r=1.4\n",
"cp=1.005 //kj/kg\n",
"ieff=0.85 //isentropic efficiency\n",
"c=200 //m/s\n",
"//CALCULATIONS\n",
"t2s=(t1*(p2/p1)^((r-1)/r))\n",
"t2=(((t2s-t1)/ieff)+t1)\n",
"w=cp*(t2-t1)\n",
"cro=(c*(sin(45*(%pi/180))/sin(55*(%pi/180))))\n",
"cv=c-cro\n",
"n=w/cv\n",
"//RESULTS\n",
"printf('actual work is %2fkj/kg',w)\n",
"printf('\nchange in whirl velocities is %2fkj/kg/stage',cv)\n",
"printf('\nnumber of stages is %2fstages',n)"
   ]
   }
,
{
		   "cell_type": "markdown",
		   "metadata": {},
		   "source": [
			"## Example 9.1: example_1.sce"
		   ]
		  },
  {
"cell_type": "code",
	   "execution_count": null,
	   "metadata": {
	    "collapsed": true
	   },
	   "outputs": [],
"source": [
"clc\n",
"//initialisation of variables\n",
"t1=305 //temp in k\n",
"r=0.287 //kj/kg\n",
"p2=6 //pressure in bar\n",
"p1=1.013 //pressure in bar\n",
"g=1.4 //const value\n",
"n=1.28\n",
"v1=100 //volume\n",
"//CALCULATIONS\n",
"rp=(p2/p1)\n",
"wiso=r*t1*log(p2/p1)\n",
"wadia=(g/(g-1))*r*t1*0.6623\n",
"wpoly=(n/(n-1))*r*t1*0.4756\n",
"m=(p1*v1*100)/(r*t1)\n",
"ipr=(wiso*m)/60\n",
"apr=(wadia*m)/60\n",
"//RESULTS\n",
"printf('work for isthermal compression is %2fknm/kg',wiso)\n",
"printf('\nwork for adiabatic compression is %2fknm/kg',wadia)\n",
"printf('\nwork for polytropic compression is %2fknm/kg',wpoly)\n",
"printf('\nmass of air compressed is %2fkg/min',m)\n",
"printf('\nisothermal power required is %2fkw',ipr)\n",
"printf('\nadiabatic power required is %2fkw',apr)\n",
"    "
   ]
   }
,
{
		   "cell_type": "markdown",
		   "metadata": {},
		   "source": [
			"## Example 9.2: example_2.sce"
		   ]
		  },
  {
"cell_type": "code",
	   "execution_count": null,
	   "metadata": {
	    "collapsed": true
	   },
	   "outputs": [],
"source": [
"clc\n",
"//initialisation of variables\n",
"p2=135 //bar pressure\n",
"p1=1 //bar pressure\n",
"x=5 //x=p2/p1\n",
"//CALCULATIONS\n",
"s=log(p2)/log(x)\n",
"rp=(p2/p1)^0.25\n",
"//RESULTS\n",
"printf('s is %2f',s)\n",
"printf('\nrp is %2f',rp)\n",
"disp('number of stages are 4')\n",
"disp('1st intermediate pressure is 3.4087 bar')\n",
"disp('2nd intermediate pressure is 11.619 bar')\n",
"disp('3rd intermediate pressure is 39.605 bar')"
   ]
   }
,
{
		   "cell_type": "markdown",
		   "metadata": {},
		   "source": [
			"## Example 9.3: example_3.sce"
		   ]
		  },
  {
"cell_type": "code",
	   "execution_count": null,
	   "metadata": {
	    "collapsed": true
	   },
	   "outputs": [],
"source": [
"clc\n",
"//initialisation of variables\n",
"p2=3.24 //pressure in bar\n",
"p1=1 //pressure in bar\n",
"v1=16 //volume in m*m*m\n",
"n=1.35\n",
"rp=3.24 //pressure\n",
"r=10.5\n",
"t1=294 //temparature in k\n",
"t2=294 //temparature in k\n",
"cp=1.005 //kj/kg \n",
"rx=0.287\n",
"//CALCULATIONS\n",
"w1=(2*n/(n-1))*p1*v1*100*0.35630 //(3.24)^0.2592-1\n",
"w2=(n/(n-1))*p1*v1*100*0.8396 //(10.5)^0.2592-1\n",
"pr1=w1/60\n",
"pr2=w2/60\n",
"tb=t1*(r)^(n-1/n)\n",
"t3=t2*(rp)^((n-1)/n)\n",
"m=(p1*v1*100)/(rx*t1)\n",
"hr=m*cp*(t3-t2)\n",
"ma=hr/(4.18*25)\n",
"//RESULTS\n",
"printf('minimum power required are %2fkw and %2fkw',pr1,pr2)\n",
"printf('\nmass of air compressed is %2fkg/min',m)\n",
"printf('\nheat rejected by air compressor is %2fkj/min',hr)\n",
"printf('\nmass of water is %2fkg/min',ma)\n",
""
   ]
   }
,
{
		   "cell_type": "markdown",
		   "metadata": {},
		   "source": [
			"## Example 9.4: example_4.sce"
		   ]
		  },
  {
"cell_type": "code",
	   "execution_count": null,
	   "metadata": {
	    "collapsed": true
	   },
	   "outputs": [],
"source": [
"clc\n",
"//initialisation of variables\n",
"p2=4.08 //pressure in bar\n",
"p1=1 //pressure in bar\n",
"n=1.22\n",
"r=0.287\n",
"p=1.01325 //pressure in bar\n",
"v=145 //volume\n",
"t=288 //temparature in k\n",
"p3=17.5 //pressure in bar\n",
"t1=307 //temp in k\n",
"t2=313 //temp in k\n",
"//CALCULATIONS\n",
"wlp=5.54*r*t1*(((p2/p1)^((n-1)/n))-1)\n",
"whp=5.54*r*t2*(((p2/p1)^((n-1)/n))-1)\n",
"w=wlp+whp\n",
"m=(p*v)/(r*t)\n",
"pr=(w*m)/60\n",
"p2=(p1*p3)^0.5\n",
"x=(p2)^0.5 //x=d1/d2\n",
"//RESULTS\n",
"printf('total work required is %2fknm/kg',w)\n",
"printf('\nmass of free air is %2fkg/min',m)\n",
"printf('\npower required to drive the compressor is %2fkw',pr)\n",
"printf('\nratio of cylinder diameters is %2f',x)"
   ]
   }
,
{
		   "cell_type": "markdown",
		   "metadata": {},
		   "source": [
			"## Example 9.5: example_5.sce"
		   ]
		  },
  {
"cell_type": "code",
	   "execution_count": null,
	   "metadata": {
	    "collapsed": true
	   },
	   "outputs": [],
"source": [
"clc\n",
"//initialisation of variables\n",
"c1=0.05 //percentage\n",
"c2=0.10 //percentage\n",
"c3=0.20 //percentage\n",
"rp=10\n",
"//CALCULATIONS\n",
"eff1=(1+c1-c1*(rp)^(0.78125))\n",
"eff2=(1+c2-c2*(rp)^(0.78125))\n",
"eff3=(1+c3-c3*(rp)^(0.78125))\n",
"//RESULTS\n",
"printf('volumetric effiency 1 is %2f',eff1)\n",
"printf('\nvolumetric effiency 2 is %2f',eff2)\n",
"printf('\nvolumetric effiency 3 is %2f',eff3)"
   ]
   }
,
{
		   "cell_type": "markdown",
		   "metadata": {},
		   "source": [
			"## Example 9.6: example_6.sce"
		   ]
		  },
  {
"cell_type": "code",
	   "execution_count": null,
	   "metadata": {
	    "collapsed": true
	   },
	   "outputs": [],
"source": [
"clc\n",
"//initialisation of variables\n",
"d=0.2 //diameter in m\n",
"lc=0.01 //linear clearance\n",
"l=0.3 //lenght\n",
"rp=7\n",
"n=1.25\n",
"pi=(22/7)\n",
"//CALCULATIONS\n",
"cv=((pi/4)*((d)^2)*lc)\n",
"sv=((pi/4)*(d)^2*l)\n",
"cr=cv/sv\n",
"veff=(1+cr-cr*(rp)^(1/n))\n",
"x=veff*sv\n",
"//RESULTS\n",
"printf('clearance ratio is %2f',cr)\n",
"printf('\nvolumetric efficiency is %2f',veff)\n",
"printf('\nvolume of air taken in is %2fm*m*/stroke',x)"
   ]
   }
,
{
		   "cell_type": "markdown",
		   "metadata": {},
		   "source": [
			"## Example 9.7: example_7.sce"
		   ]
		  },
  {
"cell_type": "code",
	   "execution_count": null,
	   "metadata": {
	    "collapsed": true
	   },
	   "outputs": [],
"source": [
"clc\n",
"//initialisation of variables\n",
"n=1.2\n",
"r=0.287\n",
"t1=310 //temparature in degrees\n",
"p2=7 //pressure in bar\n",
"p1=1 //pressure in bar\n",
"//CALCULATIONS\n",
"rp=(p2/p1)\n",
"wr=((n/(n-1))*r*t1*((rp)^((n-1)/n)-1))\n",
"//RESULTS\n",
"disp('volumetric efficiency is 0.797')\n",
"disp('volumetric efficiency referred to atmospheric conditions is 0.73')\n",
"printf('work required is %2fknm/kg',wr)"
   ]
   }
,
{
		   "cell_type": "markdown",
		   "metadata": {},
		   "source": [
			"## Example 9.8: example_8.sce"
		   ]
		  },
  {
"cell_type": "code",
	   "execution_count": null,
	   "metadata": {
	    "collapsed": true
	   },
	   "outputs": [],
"source": [
"clc\n",
"//initialisation of variables\n",
"veff=0.8 //efficiency\n",
"rp=7 \n",
"n=1.2 //constant value\n",
"pi=(22/7)\n",
"//CALCULATIONS\n",
"c=(veff-1)/(1-(rp)^(1/n))\n",
"vs=2/c\n",
"d=((4*vs)/pi)^(1/3)\n",
"//RESULTS\n",
"printf('stroke volume is %2fm*m*m',vs)\n",
"printf('\nlenght of stroke is %2fm',d)"
   ]
   }
,
{
		   "cell_type": "markdown",
		   "metadata": {},
		   "source": [
			"## Example 9.9: example_9.sce"
		   ]
		  },
  {
"cell_type": "code",
	   "execution_count": null,
	   "metadata": {
	    "collapsed": true
	   },
	   "outputs": [],
"source": [
"clc\n",
"//initialisation of variables\n",
"sp=1400 //speed in revolutions per min\n",
"ma=15 //mass in kgs\n",
"r=0.287\n",
"p1=1 //pressure in bar\n",
"t1=303 //temparature in k\n",
"p2=7 //pressure in bar\n",
"c=0.05 //clearance volume/stoke volume\n",
"pi=(22/7)\n",
"n=1.2\n",
"m1=15\n",
"meff=0.85 //mechanical efficinecy\n",
"//CALCULATIONS\n",
"rp=(p2/p1)\n",
"m=ma/sp\n",
"va=(m1*r*t1)/(p1*100)\n",
"eff1=(1+c-c*(rp)^(1/n))\n",
"vs=va/eff1\n",
"d1=((4*vs)/pi)^(1/3)\n",
"pr=((n/(n-1))*m1*r*t1*((rp)^((n-1)/n)-1))/60\n",
"prs=pr/meff\n",
"d2=((prs*4)/(7*100*pi*700))^0.333\n",
"//RESULTS\n",
"printf('volumetric efficiency is %2f',eff1)\n",
"printf('\nlengh of the stroke is %2fm',d1)\n",
"printf('\nindicated power is %2fkw',pr)\n",
"printf('\npower required at the shaft of the compressor is %2fkw',prs)\n",
"printf('\ndiameter of the piston is %2fm',d2)"
   ]
   }
],
"metadata": {
		  "kernelspec": {
		   "display_name": "Scilab",
		   "language": "scilab",
		   "name": "scilab"
		  },
		  "language_info": {
		   "file_extension": ".sce",
		   "help_links": [
			{
			 "text": "MetaKernel Magics",
			 "url": "https://github.com/calysto/metakernel/blob/master/metakernel/magics/README.md"
			}
		   ],
		   "mimetype": "text/x-octave",
		   "name": "scilab",
		   "version": "0.7.1"
		  }
		 },
		 "nbformat": 4,
		 "nbformat_minor": 0
}
