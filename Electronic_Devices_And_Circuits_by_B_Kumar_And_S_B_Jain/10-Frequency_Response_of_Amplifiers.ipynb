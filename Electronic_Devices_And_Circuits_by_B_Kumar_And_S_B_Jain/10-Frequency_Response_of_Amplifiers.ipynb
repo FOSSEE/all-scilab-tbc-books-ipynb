{
"cells": [
 {
		   "cell_type": "markdown",
	   "metadata": {},
	   "source": [
       "# Chapter 10: Frequency Response of Amplifiers"
	   ]
	},
{
		   "cell_type": "markdown",
		   "metadata": {},
		   "source": [
			"## Example 10.12: Dominant_pole_approximation.sce"
		   ]
		  },
  {
"cell_type": "code",
	   "execution_count": null,
	   "metadata": {
	    "collapsed": true
	   },
	   "outputs": [],
"source": [
"// Example 10.12: (a) Approximate value of fH\n",
"//                (b) Approximate location of the closest non-dominant pole\n",
"clc, clear\n",
"RS=600; // in ohms\n",
"RC1=1.5e3; // in ohms\n",
"RC2=600; // in ohms\n",
"r_pi1=1.2e3; // in ohms\n",
"gm1=0.1; // in mho\n",
"C1=24.5e-12; // in farads\n",
"C_pi1=C1; // in farads\n",
"C2=0.5e-12; // in farads\n",
"C_mu1=C2; // in farads\n",
"r_pi2=2.4e3; // in ohms\n",
"gm2=0.05; // in mho\n",
"C3=19.5e-12; // in farads\n",
"C_pi2=C3; // in farads\n",
"C4=0.5e-12; // in farads\n",
"C_mu2=C4; // in farads\n",
"\n",
"function[c]=parallel(a,b)\n",
"    c=a*b/(a+b);\n",
"endfunction\n",
"\n",
"disp('Part (a)');\n",
"R11_0=parallel(RS,r_pi1); // in ohms\n",
"R33_0=parallel(RC1,r_pi2); // in ohms\n",
"R22_0=R11_0*(1+gm1*R33_0)+R33_0; // in ohms\n",
"R44_0=R33_0*(1+gm2*RC2)+RC2; // in ohms\n",
"a1=R11_0*C1+R22_0*C2+R33_0*C3+R44_0*C4; // in seconds\n",
"fH=1/(2*%pi*a1); // in hertz\n",
"fH=fH*1e-6; // in Mega-hertz\n",
"disp(fH,'fH (MHz) =');\n",
"\n",
"disp('Part (b)');\n",
"R33_1=R33_0; // in ohms\n",
"R44_1=R44_0; // in ohms\n",
"// From Fig. 10.61(a)\n",
"R22_1=R33_0; // in ohms\n",
"// From Fig. 10.61(b)\n",
"R44_3=RC2; // in ohms\n",
"// From Fig. 10.61(c)\n",
"R33_2=parallel(parallel(r_pi2,RC2),parallel(1/gm1,R11_0));\n",
"R44_2=R33_2*(1+gm2*RC2)+RC2; // in ohms\n",
"a2=R11_0*C1*R22_1*C2+R11_0*C1*R33_1*C3+R11_0*C1*R44_1*C4+R22_0*C2*R33_2*C3+R22_0*C2*R44_2*C4+R33_0*C3*R44_3*C4; // in seconds\n",
"p2=a1/a2;\n",
"f2=p2/(2*%pi); // in hertz\n",
"f2=f2*1e-6; // in Mega-hertz\n",
"disp(f2,'Approximate location of the closest non-dominant pole (MHz) =');"
   ]
   }
,
{
		   "cell_type": "markdown",
		   "metadata": {},
		   "source": [
			"## Example 10.13: Cascode_amplifier.sce"
		   ]
		  },
  {
"cell_type": "code",
	   "execution_count": null,
	   "metadata": {
	    "collapsed": true
	   },
	   "outputs": [],
"source": [
"// Example 10.13: (a) fH for cascode amplifier\n",
"//                (b) fH for common -emitter stage\n",
"clc, clear\n",
"RC1=1.5e3; // in ohms\n",
"RC2=RC1;\n",
"RS=300; // in ohms\n",
"r_pi=2e3; // in ohms\n",
"gm=0.05; // in mho\n",
"bta=100;\n",
"C_pi=19.5e-12; // in farads\n",
"C_mu=0.5e-12; // in farads\n",
"\n",
"disp('Part (a)');\n",
"R_pi1=RS*r_pi/(RS+r_pi); // in ohma\n",
"Ri2=r_pi/(1+bta); // in ohms\n",
"RL1=RC1*Ri2/(RC1+Ri2); // in ohms\n",
"a11=R_pi1*C_pi+(R_pi1*(1+gm*RL1)+RL1)*C_mu; // in seconds\n",
"a12=C_pi/gm+C_mu*RC2; // in seconds\n",
"a1=a11+a12; // in seconds\n",
"fH=1/(2*%pi*a1); // in hertz\n",
"fH=fH*1e-6; // in Mega-hertz\n",
"disp(fH,'fH for cascode amplifier (MHz) =');\n",
"\n",
"disp('Part (b)');\n",
"a1=R_pi1*C_pi+(R_pi1*(1+gm*RC1)+RC1)*C_mu; // in seconds\n",
"fH=1/(2*%pi*a1); // in hertz\n",
"fH=fH*1e-6; // in Mega-hertz\n",
"disp(fH,'fH for common-emitter stage (MHz) =');"
   ]
   }
,
{
		   "cell_type": "markdown",
		   "metadata": {},
		   "source": [
			"## Example 10.15: Capacitances_of_transistor.sce"
		   ]
		  },
  {
"cell_type": "code",
	   "execution_count": null,
	   "metadata": {
	    "collapsed": true
	   },
	   "outputs": [],
"source": [
"// Example 10.15: (a) CB and CL\n",
"//                (b) Zero introduced by CE\n",
"clc, clear\n",
"RE=1.5e3; // in ohms\n",
"Rs=600; // in ohms\n",
"bta=100;\n",
"r_pi=1e3; // in ohms\n",
"fL=50; // in hertz\n",
"\n",
"disp('Part (a)');\n",
"fLB=fL/2; // in hertz\n",
"fLE=fLB; // in hertz\n",
"CB=1/(2*%pi*fLB*(Rs+r_pi)); // in farads\n",
"CB=CB*1e6; // in micro-farads\n",
"function[c]=parallel(a,b)\n",
"    c=a*b/(a+b);\n",
"endfunction\n",
"CE=1/(2*%pi*fLE*parallel(RE,(Rs+r_pi)/(1+bta))); // in farads\n",
"CE=CE*1e6; // in micro-farads\n",
"disp(CB,'CB (µF) =');\n",
"disp(CE,'CE (µF) =');\n",
"\n",
"disp('Part (b)');\n",
"fE=1e6/(2*%pi*RE*CE); // in hertz\n",
"disp(fE, 'fE (Hz) =');"
   ]
   }
,
{
		   "cell_type": "markdown",
		   "metadata": {},
		   "source": [
			"## Example 10.16: Common_emitter_stage.sce"
		   ]
		  },
  {
"cell_type": "code",
	   "execution_count": null,
	   "metadata": {
	    "collapsed": true
	   },
	   "outputs": [],
"source": [
"// Example 10.16: AVo, fH\n",
"clc, clear\n",
"RC=1.5e3; // in ohms\n",
"Rs=0.6e3; // in ohms\n",
"// From Fig. 10.69\n",
"C_pi=19.5e-12; // in farads\n",
"r_pi=1e3; // in ohms\n",
"C_mu=0.5e-12; // in farads\n",
"gm=0.1; // in mho\n",
"bta=r_pi*gm;\n",
"AVo=-bta*RC/(Rs+r_pi);\n",
"R_pi=Rs*r_pi/(Rs+r_pi); // in ohms\n",
"R_mu=R_pi+(1+gm*R_pi)*RC; // in ohms\n",
"a1=R_pi*C_pi+R_mu*C_mu; // in seconds\n",
"a2=R_pi*C_pi*R_mu*C_mu; // in seconds\n",
"p2_pi=a1^2/a2; // p2/p1\n",
"disp('Since p2/pi >> 8, therefore dominant-pole approximation holds good.');\n",
"fH=1/(2*%pi*a1); // in hertz\n",
"fH=fH*1e-6; // in Mega-hertz\n",
"disp(AVo,'AVo =');\n",
"disp(fH,'fH (MHz) =');"
   ]
   }
,
{
		   "cell_type": "markdown",
		   "metadata": {},
		   "source": [
			"## Example 10.17: Time_constant_method.sce"
		   ]
		  },
  {
"cell_type": "code",
	   "execution_count": null,
	   "metadata": {
	    "collapsed": true
	   },
	   "outputs": [],
"source": [
"// Example 10.17: (b) a1, a2\n",
"clc, clear\n",
"RS=0.3e3; // in ohms\n",
"r_pi=2e3; // in ohms\n",
"RC=0.6; // in ohms\n",
"gm=0.1e-3; // in mho\n",
"C_pi=19.5e-12; // in farads\n",
"C_mu=0.5e-12; // in farads\n",
"R_pi=RS*r_pi/(RS+r_pi); // in ohms\n",
"a1=C_pi*R_pi+C_mu*(R_pi+RC+gm*R_pi*RC); // in seconds\n",
"a1=a1*1e9; // in nano-seconds\n",
"a2=C_pi*R_pi*C_mu*RC; // in seconds square\n",
"disp(a1,'a1 (ns) =');\n",
"disp(a2,'a2 (sec square) =');"
   ]
   }
,
{
		   "cell_type": "markdown",
		   "metadata": {},
		   "source": [
			"## Example 10.18: Gain_bandwidth_product.sce"
		   ]
		  },
  {
"cell_type": "code",
	   "execution_count": null,
	   "metadata": {
	    "collapsed": true
	   },
	   "outputs": [],
"source": [
"// Example 10.18: Upper 3 dB frequency\n",
"clc, clear\n",
"r_pi1=1.4e3; // in ohms\n",
"r_pi2=2.8e3; // in ohms\n",
"gm1=0.15; // in mho\n",
"gm2=0.05; // in mho\n",
"C_pi1=20e-12; // in farads\n",
"C_pi2=25e-12; // in farads\n",
"C_mu1=0.5e-12; // in farads\n",
"C_mu2=C_mu1 // in farads\n",
"bta1=gm1*r_pi1;\n",
"bta2=gm2*r_pi2;\n",
"// From Fig. 10.71\n",
"RS=600; // in ohms\n",
"RC1=1.5e3; // in ohms\n",
"RL2=600; // in ohms\n",
"// From ac model in Fig. 10.72\n",
"R_pi1=RS*r_pi1/(RS+r_pi1); // in ohms\n",
"RL1=RC1*r_pi2/(RC1+r_pi2); // in ohms\n",
"R_mu1=R_pi1+RL1+gm1*RL1*R_pi1; // in ohms\n",
"R_pi2=RL1; // in ohms\n",
"R_mu2=R_pi2+RL2+gm2*RL2*R_pi2; // in ohms\n",
"a11=C_pi1*R_pi1+C_mu1*R_mu1; // in seconds\n",
"a12=C_pi2*R_pi2+C_mu2*R_mu2; // in seconds\n",
"a1=a11+a12; // in seconds\n",
"fH1=1/(2*%pi*a11); // in hertz\n",
"fH2=1/(2*%pi*a12); // in hertz\n",
"fH=1/(2*%pi*a1); // in hertz\n",
"fH1=fH1*1e-6; // in Mega-hertz\n",
"fH2=fH2*1e-6; // in Mega-hertz\n",
"fH=fH*1e-6; // in Mega-hertz\n",
"AV1=-bta1*RC1/(RS+r_pi1); // Gain of first stage\n",
"AV2=-bta2*RL2/(RC1+r_pi2); // Gain of second stage\n",
"AV=AV1*AV2; // Gain of cascade\n",
"disp(fH,'Upper 3 dB frequency (MHz) =');\n",
"disp('Bandwidth:');\n",
"disp(fH1,'Stage 1 only (MHz) =');\n",
"disp(fH2,'Stage 2 only (MHz) =');\n",
"disp(fH,'Cascade (MHz) =');\n",
"disp('Gain:');\n",
"disp(abs(AV1),'Stage 1 only =');\n",
"disp(abs(AV2),'Stage 2 only =');\n",
"disp(AV,'Cascade =');\n",
"disp('Gain-bandwidth product:');\n",
"disp(fH1*abs(AV1)*1e6,'Stage 1 only (MHz) =');\n",
"disp(fH2*abs(AV2)*1e6,'Stage 2 only (MHz) =');\n",
"disp(fH*AV*1e6,'Cascade (MHz) =');"
   ]
   }
,
{
		   "cell_type": "markdown",
		   "metadata": {},
		   "source": [
			"## Example 10.19: Approximation_of_fH.sce"
		   ]
		  },
  {
"cell_type": "code",
	   "execution_count": null,
	   "metadata": {
	    "collapsed": true
	   },
	   "outputs": [],
"source": [
"// Example 10.19: Approximate value of fH\n",
"clc, clear\n",
"btaf=150;\n",
"VA=120; // in volts\n",
"fT=400e6; // in hertz\n",
"C_mu=0.5e-12; // in farads\n",
"ICQ=100e-6; // in amperes\n",
"RS=50e3; // in ohms\n",
"RC=250e3; // in ohms\n",
"VT=25e-3; // Voltage equivalent to temperatue at room temperature in volts\n",
"gm=ICQ/VT; // in mho\n",
"r_pi=btaf/gm;  // in ohms\n",
"ro=VA/ICQ; // in ohms\n",
"C_pi=btaf/(2*%pi*fT*r_pi)-C_mu; // in farads\n",
"function[c]=parallel(a,b)\n",
"    c=a*b/(a+b);\n",
"endfunction\n",
"// From AC model in Fig. 10.73\n",
"Ri=r_pi+(1+btaf)*parallel(ro,r_pi); // in ohms\n",
"R_mu1=parallel(RS,Ri); // in ohms\n",
"// From Fig. 10.75(b)\n",
"R=(50+36.36)/(1+145); // in ohms\n",
"R_pi1=parallel(r_pi,R); // in ohms\n",
"R_pi2=parallel(r_pi,parallel((RS+r_pi)/(1+btaf),ro)); // in ohms\n",
"RL=parallel(ro,RC); // in ohms\n",
"R_mu2=R_pi2*(1+gm*RL)+RL; // in ohms\n",
"a1=R_mu1*C_mu+R_pi1*C_pi+R_pi2*C_pi+R_mu2*C_mu; // in seconds\n",
"fH=1/(2*%pi*a1); // in hertz\n",
"fH=fH*1e-3; // in kilo-hertz\n",
"disp(fH,'Approximate value of fH (kHz) =');"
   ]
   }
,
{
		   "cell_type": "markdown",
		   "metadata": {},
		   "source": [
			"## Example 10.1: Bode_plots.sce"
		   ]
		  },
  {
"cell_type": "code",
	   "execution_count": null,
	   "metadata": {
	    "collapsed": true
	   },
	   "outputs": [],
"source": [
"// Example 10.1: Asymptotic magnitude and phase response curves\n",
"clc, clear\n",
"w=[0:70];\n",
"// Asymptotic magnitude response curve\n",
"for i=1:length(w)\n",
"    a(i)=32;\n",
"    if w(i)<10 then\n",
"        b(i)=0;\n",
"        c(i)=0;\n",
"    elseif w(i)<50\n",
"        b(i)=14*(w(i)-10)/40;\n",
"        c(i)=0;\n",
"    else\n",
"        b(i)=20*log10(w(i)/10);\n",
"        c(i)=-20*log10(w(i)/50);\n",
"    end\n",
"end\n",
"A=a+b+c;\n",
"plot2d(w,A,rect=[0,0,70,50]);\n",
"xtitle('Asymptotic magnitude response curve','ω(rad/sec)','20 log |A(jω)| in dB');\n",
"// Asymptotic phase response curve\n",
"scf(1);\n",
"w=[1:600];\n",
"for i=1:length(w)\n",
"    if w(i)<1 then\n",
"        theta1(i)=0;\n",
"    elseif w(i)<5\n",
"        theta1(i)=31.45*(w(i)-1)/4;\n",
"        theta2(i)=0;\n",
"    elseif w(i)<100\n",
"        theta1(i)=45*log10(w(i)/10);\n",
"        theta2(i)=-45*log10(w(i)/50);\n",
"    elseif w(i)<500\n",
"        theta1(i)=90;\n",
"        theta2(i)=-58.55-31.45*(w(i)-100)/400;\n",
"    else\n",
"        theta1(i)=90;\n",
"        theta2(i)=-90;\n",
"    end\n",
"end\n",
"theta=theta1+theta2;\n",
"plot(w,theta);\n",
"xtitle('Asymptotic phase curve response','ω(rad/sec)','θ(ω)')"
   ]
   }
,
{
		   "cell_type": "markdown",
		   "metadata": {},
		   "source": [
			"## Example 10.20: Low_and_high_3_dB_frequency.sce"
		   ]
		  },
  {
"cell_type": "code",
	   "execution_count": null,
	   "metadata": {
	    "collapsed": true
	   },
	   "outputs": [],
"source": [
"// Example 10.20: (a) Low 3 dB frequency\n",
"//                (b) High 3 dB frequency\n",
"clc, clear\n",
"// From Fig. 10.76\n",
"C_gd1=2e-12; // in farads\n",
"C_gs1=5e-12; // in farads\n",
"gm1=10e-3; // in mho\n",
"C1=1e-6; // in farads\n",
"C_gd2=2e-12; // in farads\n",
"C_gs2=5e-12; // in farads\n",
"gm2=10e-3; // in mho\n",
"C2=10e-6; // in farads\n",
"// From low-frequency equivalent cicuit in Fig. 10.77\n",
"RS=0.2e3; // in ohms\n",
"RG1=50e3; // in ohms\n",
"RS1=0.25e3; // in ohms\n",
"RS2=0.15e3; // in ohms\n",
"RD2=5e3; // in ohms\n",
"R=10e3; // in ohms\n",
"C3=5.3e-6; // in farads\n",
"\n",
"function[c]=parallel(a,b)\n",
"    c=a*b/(a+b);\n",
"endfunction\n",
"\n",
"disp('Part (a)');\n",
"// From low-frequency equivalent cicuit in Fig. 10.77\n",
"tau1=C1*(RS+RG1); // in seconds\n",
"R_22=RD2+R; // in ohms\n",
"tau2=C2*R_22; // in seconds\n",
"R_33=parallel(RS2,1/gm2); // in ohms\n",
"tau3=C3*R_33; // in ohms\n",
"fL=(1/tau1+1/tau2+1/tau3)/(2*%pi); // in hertz\n",
"disp(fL,'Low 3 dB frequency (Hz) =');\n",
"\n",
"disp('Part (b)');\n",
"// From high frequency equivalent cicuit in Fig. 10.78\n",
"R_gd1=parallel(RS,RG1); // in ohms\n",
"// From Fig. 10.79\n",
"R_gs1=(R_gd1+RS1)/(1+gm1*RS1); // in ohms\n",
"R_gs2=parallel(RS1,1/gm2); // in ohms\n",
"R_gd2=R_gs2+parallel(RD2,R)+R_gs2*parallel(RD2,R)*gm2; // in ohms\n",
"a1=C_gd1*R_gd1+C_gs1*R_gs1+C_gs2*R_gs2+C_gd2*R_gd2; // in seconds\n",
"fH=1/(2*%pi*a1); // in hertz\n",
"fH=fH*1e-6; // in Mega-hertz\n",
"disp(fH,'High 3 dB frequency (MHz) =');"
   ]
   }
,
{
		   "cell_type": "markdown",
		   "metadata": {},
		   "source": [
			"## Example 10.21: Dominant_pole_approximation.sce"
		   ]
		  },
  {
"cell_type": "code",
	   "execution_count": null,
	   "metadata": {
	    "collapsed": true
	   },
	   "outputs": [],
"source": [
"// Example 10.21: (a) AVo, Approximate value of fH\n",
"//                (b) Frequency of the nearest non-dominant pole\n",
"clc, clear\n",
"gm=1e-3; // in mho\n",
"Rd=40e3; // in ohms\n",
"Cgs=5e-12; // in farads\n",
"Cgd=1e-12; // in farads\n",
"Cds=1e-12; // in farads\n",
"\n",
"function[c]=parallel(a,b)\n",
"    c=a*b/(a+b);\n",
"endfunction\n",
"\n",
"disp('Part (a)');\n",
"RS=5e3; // in ohms\n",
"RD1=40e3; // in ohms\n",
"RD2=10e3; // in ohms\n",
"// From AC model of cascade amplifier in Fig. 10.80\n",
"Rds1=40e3; // in ohms\n",
"Rds2=40e3; // in ohms\n",
"R11_0=RS; // in ohms\n",
"RL1=parallel(Rds1,RD1); // in ohms\n",
"R22_0=RS+RL1+gm*RS*RL1; // in ohms\n",
"R33_0=RL1; // in ohms\n",
"RL2=parallel(Rds2,RD2); // in ohms\n",
"R44_0=RL1+RL2+gm*RL1*RL2; // in ohms\n",
"R55_0=RL2; // in ohms\n",
"C1=Cgs; // in farads\n",
"C2=Cgd; // in farads\n",
"C3=Cds+Cgs; // in farads\n",
"C4=Cds; // in farads\n",
"C5=Cds; // in farads\n",
"a1=C1*R11_0+C2*R22_0+C3*R33_0+C4*R44_0+C5*R55_0; // in seconds\n",
"fH=1/(2*%pi*a1); // in hertz\n",
"fH=fH*1e-6; // in Mega-hertz\n",
"AVo=gm*RL1*gm*RL2;\n",
"disp(AVo,'AVo =');\n",
"disp(fH,'Approximate value of fH (MHz) =');\n",
"\n",
"disp('Part (b)');\n",
"R22_1=RL1; // in ohms\n",
"R33_1=RL1; // in ohms\n",
"R44_1=R44_0; // in ohms\n",
"R55_1=RL2; // in ohms\n",
"R33_2=parallel(RL1,parallel(1/gm,RS)); // in ohms\n",
"R44_2=R33_2+RL2+gm*R33_2*RL2; // in ohms\n",
"R55_2=R55_0; // in ohms\n",
"R44_3=RL2; // in ohms\n",
"R55_3=RL2; // in ohms\n",
"R55_4=parallel(RL1,parallel(1/gm,RL2)); // in ohms\n",
"a2=R11_0*C1*(R22_1*C2+R33_1*C3+R44_1*C4+R55_1*C5)+R22_0*C2*(R33_2*C3+R44_2*C4+R55_2*C5)+R33_0*C3*(R44_3*C4+R55_3*C5)+R44_0*C4*R55_4*C5; // in seconds\n",
"p2=a1/a2;\n",
"f=p2/(2*%pi); // in hertz\n",
"f=f*1e-6; // in Mega-hertz\n",
"disp(f,'Frequency of the nearest non-dominant pole (MHz) =');"
   ]
   }
,
{
		   "cell_type": "markdown",
		   "metadata": {},
		   "source": [
			"## Example 10.23: Time_constant_method.sce"
		   ]
		  },
  {
"cell_type": "code",
	   "execution_count": null,
	   "metadata": {
	    "collapsed": true
	   },
	   "outputs": [],
"source": [
"// Example 10.23: Value of fH for the cascade\n",
"clc, clear\n",
"bta=100;\n",
"r_pi1=0.5e3; // in ohms\n",
"r_pi2=0.5e3; // in ohms\n",
"r_pi3=1e3; // in ohms\n",
"fT=200e6; // in hertz\n",
"C_mu=1e-12; // in farads\n",
"// From Fig. 10.85\n",
"RS=2e3; // in ohms\n",
"RE1=5e3; // in ohms\n",
"RC2=2e3; // in ohms\n",
"RC3=1e3; // in ohms\n",
"RE3=100; // in ohms\n",
"\n",
"function[c]=parallel(a,b)\n",
"    c=a*b/(a+b);\n",
"endfunction\n",
"\n",
"// From Fig. 10.86\n",
"Ro1=parallel(RE1,(RS+r_pi1)/(1+bta)); // in ohms\n",
"gm2=bta/r_pi2; // in mho\n",
"gm3=bta/r_pi3; // in mho\n",
"C_pi2=bta/(2*%pi*fT*r_pi2)-C_mu; // in farads\n",
"C_pi3=bta/(2*%pi*fT*r_pi3)-C_mu; // in farads\n",
"\n",
"// From Fig. 10.87\n",
"C1=C_pi2; // in farads\n",
"C2=C_mu; // in farads\n",
"C3=C_pi3; // in farads\n",
"C4=C_mu; // in farads\n",
"R11_0=parallel(Ro1,r_pi1); // in ohms\n",
"RL1=parallel(RC2,r_pi3+(1+bta)*RE3); // in ohms\n",
"R22_0=R11_0+RL1*(1+gm2*R11_0); // in ohms\n",
"\n",
"// From Fig. 10.88\n",
"R_dash=2.1e3/(1+10); // in ohms\n",
"R33_0=parallel(RC2,R_dash); // in ohms\n",
"\n",
"// From Fig. 10.89\n",
"R44_0=(3+2*98/13.1)*1e3; // in ohms\n",
"\n",
"a1=R11_0*C1+R22_0*C2+R33_0*C3+R44_0*C4; // in seconds\n",
"fH=1/(2*%pi*a1); // in hertz\n",
"fH=fH*1e-6; // in Mega-hertz\n",
"disp(fH,'Value of fH for the cascade (MHz) =');"
   ]
   }
,
{
		   "cell_type": "markdown",
		   "metadata": {},
		   "source": [
			"## Example 10.2: Bode_plots.sce"
		   ]
		  },
  {
"cell_type": "code",
	   "execution_count": null,
	   "metadata": {
	    "collapsed": true
	   },
	   "outputs": [],
"source": [
"// Example 10.2: Bode's plots\n",
"clc, clear\n",
"w=[0:0.1:8];\n",
"// Asymptotic magnitude response curve\n",
"for i=1:length(w)\n",
"    a(i)=40;\n",
"    if w(i)<1.3 then\n",
"        b(i)=20*w(i);\n",
"        c(i)=0;\n",
"        d(i)=0;\n",
"        e(i)=0;\n",
"    elseif w(i)<3\n",
"        b(i)=20*w(i);\n",
"        c(i)=20*(w(i)-1.3);\n",
"        d(i)=0;\n",
"        e(i)=0;\n",
"    elseif w(i)<6\n",
"        b(i)=20*w(i);\n",
"        c(i)=20*(w(i)-1.3);\n",
"        d(i)=-20*(w(i)-3);\n",
"        e(i)=0;\n",
"    else\n",
"        b(i)=20*w(i);\n",
"        c(i)=20*(w(i)-1.3);\n",
"        d(i)=-20*(w(i)-3);\n",
"        e(i)=-20*(w(i)-6);\n",
"    end\n",
"end\n",
"A=a+b+c+d+e;\n",
"plot2d(w,A,rect=[0,0,7,200]);\n",
"xtitle('Amplitude (Gain) |A(jω)| in dB','log ω','|A(jω)| dB');\n",
"// Asymptotic phase response curve\n",
"scf(1);\n",
"for i=1:length(w)\n",
"    thetab=90;\n",
"    if w(i)<0.3 then\n",
"        thetac(i)=0;\n",
"        thetad(i)=0;\n",
"        thetae(i)=0;\n",
"    elseif w(i)<2\n",
"        thetac(i)=45*(w(i)-0.3);\n",
"        thetad(i)=0;\n",
"        thetae(i)=0;\n",
"    elseif w(i)<2.3\n",
"        thetac(i)=45*(w(i)-0.3);\n",
"        thetad(i)=-45*(w(i)-2);\n",
"        thetae(i)=0;\n",
"    elseif w(i)<4\n",
"        thetac(i)=90;\n",
"        thetad(i)=-45*(w(i)-2);\n",
"        thetae(i)=0;\n",
"    elseif w(i)<5\n",
"        thetac(i)=90;\n",
"        thetad(i)=-90;\n",
"        thetae(i)=0;\n",
"    elseif w(i)<7\n",
"        thetac(i)=90;\n",
"        thetad(i)=-90;\n",
"        thetae(i)=-45*(w(i)-5);\n",
"    else\n",
"        thetac(i)=90;\n",
"        thetad(i)=-90;\n",
"        thetae(i)=-90;\n",
"    end\n",
"end\n",
"theta=thetab+thetac+thetad+thetae;\n",
"plot(w,theta);\n",
"xtitle('Phase Φ(ω) in degrees','log10 ω','Φ(ω)')"
   ]
   }
,
{
		   "cell_type": "markdown",
		   "metadata": {},
		   "source": [
			"## Example 10.3: Pole_of_transfer_function.sce"
		   ]
		  },
  {
"cell_type": "code",
	   "execution_count": null,
	   "metadata": {
	    "collapsed": true
	   },
	   "outputs": [],
"source": [
"// Example 10.3: CS, Zero frequency\n",
"clc, clear\n",
"gm=1e-3; // in mho\n",
"fL=10; // in hertz\n",
"// From Fig. 10.10\n",
"RS=6e3; // in ohms\n",
"I=RS/(1+RS*gm); // Impedance seen by CS in ohms\n",
"CS=1/(2*%pi*fL*I); // in farads\n",
"CS=CS*1e6; // in micro-farads\n",
"disp(CS,'CS (µF) =');\n",
"disp('Here at f = 0 Hz, CS has infinite reactance.');\n",
"disp('Therefore, zero frequency fzero = 0 Hz here, i.e. the voltage transfer function is zero at DC.');"
   ]
   }
,
{
		   "cell_type": "markdown",
		   "metadata": {},
		   "source": [
			"## Example 10.4: Low_frequency_response.sce"
		   ]
		  },
  {
"cell_type": "code",
	   "execution_count": null,
	   "metadata": {
	    "collapsed": true
	   },
	   "outputs": [],
"source": [
"// Example 10.4: fT, fb\n",
"clc, clear\n",
"b_o=160;\n",
"f=50; // in Mega-hertz\n",
"b_jw=8;\n",
"wb=sqrt((2*%pi*f)^2*b_jw^2/(b_o^2-b_jw^2)); // in Mega-rad/sec\n",
"fb=wb/(2*%pi); // in Mega-hertz\n",
"fT=fb*b_o; // in Mega-hertz\n",
"disp(fT,'fT (MHz) =');\n",
"disp(fb,'fb (MHz) =');"
   ]
   }
,
{
		   "cell_type": "markdown",
		   "metadata": {},
		   "source": [
			"## Example 10.5: Single_pole_model.sce"
		   ]
		  },
  {
"cell_type": "code",
	   "execution_count": null,
	   "metadata": {
	    "collapsed": true
	   },
	   "outputs": [],
"source": [
"// Example 10.5: Cπ\n",
"clc, clear\n",
"IC=1e-3; // in amperes\n",
"b_o=120;\n",
"b_jw=10;\n",
"f=25e6; // in hertz\n",
"C_mu=1e-12; // in farads\n",
"VT=25e-3; // Voltage equivalent to temperatue at room temperature in volts\n",
"wb=sqrt((2*%pi*f)^2*b_jw^2/(b_o^2-b_jw^2)); // in rad/sec\n",
"wT=wb*b_o; // in hertz\n",
"gm=IC/VT; // in mho\n",
"C_pi=gm/wT-C_mu; // in farads\n",
"C_pi=C_pi*1e12; // in pico-farads\n",
"disp(C_pi,'Cπ (pF) =');"
   ]
   }
,
{
		   "cell_type": "markdown",
		   "metadata": {},
		   "source": [
			"## Example 10.7: Upper_half_power_frequency.sce"
		   ]
		  },
  {
"cell_type": "code",
	   "execution_count": null,
	   "metadata": {
	    "collapsed": true
	   },
	   "outputs": [],
"source": [
"// Example 10.7: (a) Midband gain, Upper half-power frequency\n",
"//               (b) Zi\n",
"clc, clear\n",
"ICQ=1e-3; // in amperes\n",
"RS=300; // in ohms\n",
"RC=1.2e3; // in ohms\n",
"bta=125;\n",
"fT=300e6; // in hertz\n",
"C_mu=0.5e-12; // in farads\n",
"VT=25e-3; // Voltage equivalent to temperatue at room temperature in volts\n",
"\n",
"disp('Part (a)');\n",
"gm=ICQ/VT; // in mho\n",
"r_pi=bta/gm; // in ohms\n",
"// To find C_pi\n",
"C_pi=gm/(2*%pi*fT)-C_mu; // in farads\n",
"AVo=-bta*RC/(RS+r_pi); // Midband gain\n",
"disp(AVo,'Midband gain =');\n",
"R_pi0=RS*r_pi/(RS+r_pi);\n",
"a1=R_pi0*C_pi+(R_pi0+RC*(1+gm*R_pi0))*C_mu; // in seconds\n",
"a2=R_pi0*RC*C_pi*C_mu; // in seconds\n",
"p1=1/a1; // in rad/sec\n",
"p2=a1/a2; // in rad/sec\n",
"disp(p2/p1,'p2/p1 =');\n",
"disp('Since p2/p1 >> 8, therefore dominant-pole approximation holds good.');\n",
"wH=p1*1e-6; // in M rad/sec\n",
"disp(wH,'Upper half-power frequency (M rad/sec) =');\n",
"\n",
"disp('Part (b)');\n",
"CM=C_pi+C_mu*(1+gm*RC); // in farads\n",
"Zi=r_pi/(1+%i*wH*1e6*CM*r_pi); // in ohms\n",
"disp(Zi,'Zi (Ω) =');"
   ]
   }
],
"metadata": {
		  "kernelspec": {
		   "display_name": "Scilab",
		   "language": "scilab",
		   "name": "scilab"
		  },
		  "language_info": {
		   "file_extension": ".sce",
		   "help_links": [
			{
			 "text": "MetaKernel Magics",
			 "url": "https://github.com/calysto/metakernel/blob/master/metakernel/magics/README.md"
			}
		   ],
		   "mimetype": "text/x-octave",
		   "name": "scilab",
		   "version": "0.7.1"
		  }
		 },
		 "nbformat": 4,
		 "nbformat_minor": 0
}
