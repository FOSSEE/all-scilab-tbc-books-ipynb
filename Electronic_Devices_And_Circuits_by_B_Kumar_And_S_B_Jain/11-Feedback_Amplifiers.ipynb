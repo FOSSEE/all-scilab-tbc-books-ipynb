{
"cells": [
 {
		   "cell_type": "markdown",
	   "metadata": {},
	   "source": [
       "# Chapter 11: Feedback Amplifiers"
	   ]
	},
{
		   "cell_type": "markdown",
		   "metadata": {},
		   "source": [
			"## Example 11.11: Transfer_ratio.sce"
		   ]
		  },
  {
"cell_type": "code",
	   "execution_count": null,
	   "metadata": {
	    "collapsed": true
	   },
	   "outputs": [],
"source": [
"// Example 11.11: (a) Amplifier type\n",
"//                (b) Input resistance, Output resistance, Transfer ratio\n",
"clc, clear\n",
"r_pi=1e3; // in ohms\n",
"gm=0.1; // in mho\n",
"\n",
"disp('Part (a)');\n",
"disp('It ia a CB-CE cascade, configuration. It has low input and high output impedance and hence corresponds to a current     amplifier.');\n",
"\n",
"disp('Part (b)');\n",
"// From low frequency equivalent circuit in Fig. 11.40\n",
"btao=gm*r_pi;\n",
"Rin=r_pi/(1+btao); // Input resistance in ohms\n",
"Rout=%inf; // Output resistance (= ro of Q2)\n",
"Ai=gm*gm*Rin*3e3*1e3/(3e3+1e3); // Transfer ratio\n",
"disp(Rin,'Input resistance (Ω​) =');\n",
"disp(Rout,'Output resistance =');\n",
"disp(Ai,'Transfer ratio =');"
   ]
   }
,
{
		   "cell_type": "markdown",
		   "metadata": {},
		   "source": [
			"## Example 11.12: Gain_with_feedback.sce"
		   ]
		  },
  {
"cell_type": "code",
	   "execution_count": null,
	   "metadata": {
	    "collapsed": true
	   },
	   "outputs": [],
"source": [
"// Example 11.12: (b) AF\n",
"clc, clear\n",
"AV=4000;\n",
"bta=1/300;\n",
"RS=2; // in kilo-ohms\n",
"RE=RS; // in kilo-ohms\n",
"RC=6; // in kilo-ohms\n",
"btao=200;\n",
"r_pi=4; // in kilo-ohms\n",
"\n",
"disp('Part (b)');\n",
"x=-AV*-btao*RC/(r_pi+RS);\n",
"AF=x/(1+x*bta);\n",
"disp(AF,'AF =');"
   ]
   }
,
{
		   "cell_type": "markdown",
		   "metadata": {},
		   "source": [
			"## Example 11.13: Transfer_ratio.sce"
		   ]
		  },
  {
"cell_type": "code",
	   "execution_count": null,
	   "metadata": {
	    "collapsed": true
	   },
	   "outputs": [],
"source": [
"// Example 11.13: (a) Amplifier type\n",
"//                (b) Input resistance, Output resistance, Transfer ratio\n",
"clc, clear\n",
"r_pi=1e3; // in ohms\n",
"gm=0.1; // in mho\n",
"\n",
"disp('Part (a)');\n",
"disp('Q1 is a common collector and Q2 is common emitter stage. Hence the given circuit is cascade of cc and CE stages. As the Rin of a CC is high and the Ro of the CE is low, therefore, the given circuit approximates a voltage amplifier. If RL is chosen a low resistance, the amplifier can be considered a voltage-to-current converter.')\n",
"\n",
"function[c]=parallel(a,b)\n",
"    c=a*b/(a+b);\n",
"endfunction\n",
"\n",
"disp('Part (b)');\n",
"// From the Fig. 11.42\n",
"RE1=3e3; // in ohms\n",
"RC2=0.6e3; // in ohms\n",
"btao=gm*r_pi;\n",
"Ri2=r_pi; // in ohms\n",
"Ri1=r_pi+(1+btao)*parallel(RE1,Ri2); // Input resistance in ohms\n",
"Rout=RC2; // Output resistance (= ro of Q2)\n",
"AV1=(1+btao)*RE1/(r_pi+(1+btao)*RE1);\n",
"Ro1=parallel(RE1,r_pi/(1+btao)); // in ohms\n",
"AV2=-btao*RC2/(Ro1+r_pi);\n",
"AV=AV1*AV2;\n",
"Ri1=Ri1*1e-3; // in kilo-ohms\n",
"Rout=Rout*1e-3; // in kilo-ohms\n",
"disp(Ri1,'Input resistance (Ω​) =');\n",
"disp(Rout,'Output resistance =');\n",
"disp(AV,'Transfer ratio =');"
   ]
   }
,
{
		   "cell_type": "markdown",
		   "metadata": {},
		   "source": [
			"## Example 11.15: Small_signal_gain.sce"
		   ]
		  },
  {
"cell_type": "code",
	   "execution_count": null,
	   "metadata": {
	    "collapsed": true
	   },
	   "outputs": [],
"source": [
"// Example 11.15: Small signal gain, Input resistance, Output resistance\n",
"clc, clear\n",
"btao=100;\n",
"r_pi=1e3; // in ohms\n",
"ICQ=2.5e-3; // in amperes\n",
"VT=25e-3; // in volts\n",
"gm=ICQ/VT; // Transconductance in mho\n",
"r_pi=btao/gm; // Incremental resistance of emitter-base diode in ohms\n",
"// From ac model without feedback in Fig. 11.47\n",
"RS=10e3; // in ohms\n",
"RF=47e3; // in ohms\n",
"RC=4.7e3; // in ohms\n",
"function[c]=parallel(a,b)\n",
"    c=a*b/(a+b);\n",
"endfunction\n",
"AoL=-gm*parallel(RF,RC)*parallel(RS,parallel(RF,r_pi)); // in ohms\n",
"bta=1/RF;\n",
"T=-bta*AoL;  // Return ratio\n",
"AF=AoL/(1+T); // in ohms\n",
"AVF=AF/RS; // Small signal gain\n",
"RID=parallel(RF,r_pi); // in ohms\n",
"RID_dash=parallel(RID,RS); // in ohms\n",
"RIF_dash_I=RID_dash/(1+T); // in ohms\n",
"RIF_I=RS*RIF_dash_I/(RS-RIF_dash_I); // in ohms\n",
"RIF_dash_V=RS+RIF_I; // in ohms\n",
"RoD_dash=parallel(RF,RC); // in ohms\n",
"RoF_dash=RoD_dash/(1+T); // in ohms\n",
"RoF=RoF_dash*RC/(RC-RoF_dash); // in ohms\n",
"disp(RoF);\n",
"RIF_dash_V=RIF_dash_V*1e-3; // in kilo-ohms\n",
"RoF=RoF*1e-3; // in kilo-ohms\n",
"disp(AVF,'Small signal gain =');\n",
"disp(RIF_dash_V,'Input resistance (kΩ​) =');\n",
"disp(RoF,'Output resistance (kΩ​) =');"
   ]
   }
,
{
		   "cell_type": "markdown",
		   "metadata": {},
		   "source": [
			"## Example 11.16: Closed_loop_parameters.sce"
		   ]
		  },
  {
"cell_type": "code",
	   "execution_count": null,
	   "metadata": {
	    "collapsed": true
	   },
	   "outputs": [],
"source": [
"// Example 11.16: (a) AF, T\n",
"//                (b) R1F, RoF\n",
"clc, clear\n",
"btao=150;\n",
"ICQ=1.5e-3; // in amperes\n",
"VT=25e-3; // Voltage equivalent to temperatue at room temperature in volts\n",
"// From circuit without feedback but with loading in Fig. 11.50\n",
"RS=2e3; // in ohms\n",
"RE1=0.1e3; // in ohms\n",
"RF=6.2e3; // in ohms\n",
"RC1=4.3e3; // in ohms\n",
"RC2=1.2e3; // in ohms\n",
"RL=4.7e3; // in ohms\n",
"\n",
"function[c]=parallel(a,b)\n",
"    c=a*b/(a+b);\n",
"endfunction\n",
"\n",
"disp('Part (a)');\n",
"gm=ICQ/VT; // Transconductance in mho\n",
"r_pi=btao/gm; // Incremental resistance of emitter-base diode in ohms\n",
"AV1=-btao*RC1/(RS+r_pi+(1+btao)*parallel(RE1,RF));\n",
"AV2=-btao*parallel(RC2,parallel(RF+RE1,RL))/(RC1+r_pi);\n",
"AoL=AV1*AV2;\n",
"bta=-RE1/(RE1+RF);\n",
"T=-bta*AoL;\n",
"AF=AoL/(1+T);\n",
"disp(AF,'AF =');\n",
"disp(T,'T =');\n",
"\n",
"disp('Part (b)');\n",
"RID=r_pi+(1+btao)*parallel(RE1,RF); // in ohms\n",
"RID_dash=RS+RID; // in ohms\n",
"RIF_dash=RID_dash*(1+T); // in ohms\n",
"RIF=RIF_dash-RS; // in ohms\n",
"RoD=parallel(RC2,RF+RE1); // in ohms\n",
"RoD_dash=parallel(RoD,RL); // in ohms\n",
"RoF_dash=RoD_dash/(1+T); // in ohms\n",
"RoF=RL*RoF_dash/(RL-RoF_dash); // in ohms\n",
"RIF=RIF*1e-3; // in kilo-ohms\n",
"disp(RIF,'RIF (kΩ​) =');\n",
"disp(RoF,'RoF (Ω​) =');"
   ]
   }
,
{
		   "cell_type": "markdown",
		   "metadata": {},
		   "source": [
			"## Example 11.17: Feedback_in_MOSFETs.sce"
		   ]
		  },
  {
"cell_type": "code",
	   "execution_count": null,
	   "metadata": {
	    "collapsed": true
	   },
	   "outputs": [],
"source": [
"// Example 11.17: (a) T, AoL, AF\n",
"//                (b) RoF\n",
"clc, clear\n",
"gm=1e-3; // in mho\n",
"rd=20e3; // in ohms\n",
"\n",
"function[c]=parallel(a,b)\n",
"    c=a*b/(a+b);\n",
"endfunction\n",
"\n",
"disp('Part (a)');\n",
"// From the ac equivalent circuit in Fig. 11.52\n",
"RF=10e3; // in ohms\n",
"RD1=10e3; // in ohms\n",
"RL=10e3; // in ohms\n",
"ro=20e3; // in ohms\n",
"RS=parallel(0.47e3,RF); // in ohms\n",
"RL2=parallel(ro,parallel(10.47e3,RL)); // in ohms\n",
"mu=rd*gm; // Amplification factor\n",
"AV1=-mu*RD1/(RD1+rd+(1+mu)*RS);\n",
"AV2=-gm*RL2;\n",
"AoL=AV1*AV2;\n",
"bta=-0.47/(10+0.47); // Feedback factor\n",
"T=-bta*AoL;\n",
"AF=AoL/(1+T);\n",
"disp(T,'T =');\n",
"disp(AoL,'AoL =');\n",
"disp(AF,'AF =');\n",
"\n",
"disp('Part (b)');\n",
"RoD=parallel(ro,10.47e3); // in ohms\n",
"TSC=0; // for RL=0, T=0\n",
"ToC=bta*AV1*gm*RoD;\n",
"// By Blackman's relation\n",
"RoF=RoD*(1+TSC)/(1+ToC); // in ohms\n",
"RoF=RoF*1e-3; // in kilo-ohms\n",
"disp(RoF,'RoF (kΩ) =');"
   ]
   }
,
{
		   "cell_type": "markdown",
		   "metadata": {},
		   "source": [
			"## Example 11.18: Open_and_closed_loop_gain.sce"
		   ]
		  },
  {
"cell_type": "code",
	   "execution_count": null,
	   "metadata": {
	    "collapsed": true
	   },
	   "outputs": [],
"source": [
"// Example 11.18: T, AoL, AF\n",
"clc, clear\n",
"function[c]=parallel(a,b)\n",
"    c=a*b/(a+b);\n",
"endfunction\n",
"ICQ1=0.25e-3; // in amperes\n",
"ICQ2=-0.5e-3; // in amperes\n",
"bta1=200;\n",
"VA1=125; // in volts\n",
"bta2=150;\n",
"VT=25e-3; // Voltage equivalent to temperatue at room temperature in volts\n",
"gm1=ICQ1/VT; // in mho\n",
"gm2=abs(ICQ2)/VT; // in mho\n",
"r_pi1=bta1/gm1; // in ohms\n",
"r_pi2=bta2/gm2; // in ohms\n",
"ro1=VA1/ICQ1; // in ohms\n",
"// From ac equivalent circuit in Fig. 11.56\n",
"RC1=20e3; // in ohms\n",
"RS=1e3; // in ohms\n",
"bta=-0.82/(20+0.82); // Feedback factor\n",
"RL1=parallel(RC1,ro1); // in ohms\n",
"Ib2_IC1=RL1/(RL1+r_pi2+(1+bta2)*parallel(20e3,0.82e3)); // Ib2/IC1\n",
"Ib1_IS=parallel(RS,20.82e3)/(r_pi1+parallel(RS,20.82e3)); // Ib1/IS\n",
"AoL=bta2*Ib2_IC1*bta1*Ib1_IS; // Current gain without feedback\n",
"T=-bta*AoL;\n",
"AF=AoL/(1+T);\n",
"disp(T,'T =');\n",
"disp(AoL,'AoL =');\n",
"disp(AF,'AF =');"
   ]
   }
,
{
		   "cell_type": "markdown",
		   "metadata": {},
		   "source": [
			"## Example 11.19: Closed_loop_parameters.sce"
		   ]
		  },
  {
"cell_type": "code",
	   "execution_count": null,
	   "metadata": {
	    "collapsed": true
	   },
	   "outputs": [],
"source": [
"// Example 11.19: (a) AIF\n",
"//                (b) R1F\n",
"//                (c) A1F'\n",
"//                (d) AVF\n",
"clc, clear\n",
"btao=50;\n",
"r_pi=2e3; // in ohms\n",
"// From equivalent circuit without feedback but taking loading effect in Fig. 11.58\n",
"RS=1e3; // in ohms\n",
"Rf=15e3; // in ohms\n",
"RE2=10e3; // in ohms\n",
"RC1=10e3; // in ohms\n",
"RC2=10e3; // in ohms\n",
"\n",
"function[c]=parallel(a,b)\n",
"    c=a*b/(a+b);\n",
"endfunction\n",
"\n",
"disp('Part (a)');\n",
"RS_dash=parallel(RS,Rf+RE2); // in ohms\n",
"gm=btao/r_pi; // in mho\n",
"RE2_dash=parallel(RE2,Rf); // in ohms\n",
"Rx=r_pi+(1+btao)*RE2_dash; // in ohms\n",
"I2_IS=-gm*parallel(RS_dash,r_pi)*RC1/(RC1+Rx); // I2/IS\n",
"AI=-btao*I2_IS; // Open loop\n",
"If_IS=(1+btao)*I2_IS*RE2/(RE2+Rf); // If/IS\n",
"bta=If_IS/AI; // Feedback factor\n",
"T=-bta*AI;\n",
"AIF=AI/(1+T);\n",
"disp(AIF,'AIF =');\n",
"\n",
"disp('Part (b)');\n",
"RID=parallel(RS,parallel(Rf+RE2,r_pi));\n",
"R1F=RID/(1+T); // in ohms\n",
"disp(R1F,'R1F (Ω) =');\n",
"\n",
"disp('Part (c)');\n",
"Ii_IS=RS/(RS+parallel(Rf+RE2,r_pi)); // Ii'/IS\n",
"AI_dash=AI*Ii_IS;\n",
"T=-bta*AI_dash;\n",
"A1F_dash=AI_dash/(1+T);\n",
"disp(A1F_dash,'A1F =');\n",
"\n",
"disp('Part (d)');\n",
"AVF=AIF*RC2/RS;\n",
"disp(AVF,'AVF =');"
   ]
   }
,
{
		   "cell_type": "markdown",
		   "metadata": {},
		   "source": [
			"## Example 11.1: Feedback_network.sce"
		   ]
		  },
  {
"cell_type": "code",
	   "execution_count": null,
	   "metadata": {
	    "collapsed": true
	   },
	   "outputs": [],
"source": [
"// Example 11.1: Open-loop gain, Return ratio, Reverse transmission β of feedback circuit\n",
"clc, clear\n",
"// Let A be open-loop gain and B be return ratio\n",
"// For A, B 10% higher, -1.1A + 55.11B = -50.1\n",
"// For A, B 10% lower, -0.9A + 44.91B = -49.9\n",
"// Solving the two equations\n",
"a=[-1.1 55.11; -0.9 44.91];\n",
"b=[-50.1; -49.9];\n",
"c=inv(a)*b;\n",
"A=c(1,1);\n",
"B=c(2,1);\n",
"disp(A,'Open-loop gain =');\n",
"disp(B,'Return ratio =');\n",
"disp(B/A,'Reverse transmission β of the feedback circuit =');"
   ]
   }
,
{
		   "cell_type": "markdown",
		   "metadata": {},
		   "source": [
			"## Example 11.20: Closed_loop_parameters.sce"
		   ]
		  },
  {
"cell_type": "code",
	   "execution_count": null,
	   "metadata": {
	    "collapsed": true
	   },
	   "outputs": [],
"source": [
"// Example 11.20: (a) AVF\n",
"//                (b) AIF\n",
"//                (c) RIF\n",
"//                (d) ROF\n",
"clc, clear\n",
"btao=50;\n",
"r_pi=1.1e3; // in ohms\n",
"function[c]=parallel(a,b)\n",
"    c=a*b/(a+b);\n",
"endfunction\n",
"// From equivalent circuit of amplifier without feedback in Fig. 11.60\n",
"RS=4.7e3; // in ohms\n",
"RF=15e3; // in ohms\n",
"RE2=0.1e3; // in ohms\n",
"RB1=parallel(91e3,10e3); // in ohms\n",
"RC1=4.7e3; // in ohms\n",
"RC2=4.7e3; // in ohms\n",
"RB2=RB1; // in ohms\n",
"\n",
"disp('Part (b)');\n",
"RL1=parallel(RS,parallel(RF+RE2,RB1)); // in ohms\n",
"I1_IS=RL1/(RL1+r_pi); // I1/IS\n",
"IC1_IS=btao*I1_IS; // IC1/IS\n",
"Ri2=r_pi+(1+btao)*parallel(RE2,RF); // in ohms\n",
"I2_IS=-IC1_IS*parallel(RC1,RB2)/(parallel(RC1,RB2)+Ri2); // in ohms\n",
"IC2_IS=btao*I2_IS; // IC2/IS\n",
"AID=-IC2_IS/2; // Open loop\n",
"IF_IS=IC2_IS*RE2/(RE2+RF); // IF/IS\n",
"bta=IF_IS/AID; // Feedback factor\n",
"T=-bta*AID;\n",
"AIF=AID/(1+T);\n",
"disp(AIF,'AIF =');\n",
"\n",
"disp('Part (a)');\n",
"AVF=AIF*RC2/RS;\n",
"disp(AVF,'AVF =');\n",
"\n",
"disp('Part (c)');\n",
"RID=parallel(parallel(RS,RE2+RF),parallel(RB1,r_pi)); // in ohms\n",
"RIF=RID/(1+T); // in ohms\n",
"disp(RIF,'RIF (Ω) =');\n",
"\n",
"disp('Part (d)');\n",
"ROF=RC2*1e-3; // in kilo-ohms\n",
"disp(ROF,'ROF (kΩ​) =');"
   ]
   }
,
{
		   "cell_type": "markdown",
		   "metadata": {},
		   "source": [
			"## Example 11.21: Voltage_gai.sce"
		   ]
		  },
  {
"cell_type": "code",
	   "execution_count": null,
	   "metadata": {
	    "collapsed": true
	   },
	   "outputs": [],
"source": [
"// Example 11.21: (c) AF, T\n",
"//                (d) Voltage gain\n",
"clc, clear\n",
"ICQ1=0.25e-3; // in amperes\n",
"ICQ2=1e-3; // in amperes\n",
"ICQ3=0.5e-3; // in amperes\n",
"RC1=5e3; // in ohms\n",
"RC2=7.5e3; // in ohms\n",
"RC3=10e3; // in ohms\n",
"R1=0.2e3; // in ohms\n",
"R2=0.33e3; // in ohms\n",
"RS=0.6e3; // in ohms\n",
"RF=20e3; // in ohms\n",
"btao=200;\n",
"VA=125; // in volts\n",
"VT=25e-3; // Voltage equivalent to temperatue at room temperature in volts\n",
"\n",
"function[c]=parallel(a,b)\n",
"    c=a*b/(a+b);\n",
"endfunction\n",
"\n",
"disp('Part (c)');\n",
"gm1=ICQ1/VT; // in mho\n",
"r_pi1=btao/gm1; // in ohms\n",
"ro1=VA/ICQ1; // in ohms\n",
"gm2=ICQ2/VT; // in mho\n",
"r_pi2=btao/gm2; // in ohms\n",
"ro2=VA/ICQ2; // in ohms\n",
"gm3=ICQ3/VT; // in mho\n",
"r_pi3=btao/gm3; // in ohms\n",
"ro3=VA/ICQ3; // in ohms\n",
"Rin1=r_pi1+(btao+1)*parallel(RF+R2,R1); // in ohms\n",
"RL1=parallel(RC1,ro1); // in ohms\n",
"RL2=parallel(RC2,ro2); // in ohms\n",
"Rin2=r_pi2; // in ohms\n",
"Rin3=r_pi3+(btao+1)*parallel(R2,RF+R1); // in ohms\n",
"Io_Ib3=btao; // Io/Ib3\n",
"Ib3_Ic2=-RL2/(RL2+Rin3); // Ib3/Ic2\n",
"Ic2_Ib2=btao; // Ic2/Ib2\n",
"Ib2_Ic1=-RL1/(RL1+Rin2); // Ib2/Ic1\n",
"Ic1_Ib1=btao; // Ic1/Ib1\n",
"Ib1_VS=1/(RS+Rin1); // Ib1/VS in mho\n",
"AoL=Io_Ib3*Ib3_Ic2*Ic2_Ib2*Ib2_Ic1*Ic1_Ib1*Ib1_VS; // Open loop\n",
"bta=-R1*R2/(R1+R2+RF); // Feedback factor\n",
"T=-bta*AoL;\n",
"AF=AoL/(1+T);\n",
"disp(T,'T =');\n",
"disp(AF,'AF =');\n",
"\n",
"disp('Part (d)');\n",
"Vo_VS=-AF*parallel(RC3,ro3);\n",
"disp(Vo_VS,'Voltage gain =');"
   ]
   }
,
{
		   "cell_type": "markdown",
		   "metadata": {},
		   "source": [
			"## Example 11.22: Feedback_in_FETs.sce"
		   ]
		  },
  {
"cell_type": "code",
	   "execution_count": null,
	   "metadata": {
	    "collapsed": true
	   },
	   "outputs": [],
"source": [
"// Example 11.22: AF, RoF\n",
"clc, clear\n",
"gm=2e-3; // in mho\n",
"rd=20e3; // in ohms\n",
"RD=12e3; // in ohms\n",
"RG=500e3; // in ohms\n",
"Rs=50; // in ohms\n",
"RF=5e3; // in ohms\n",
"function[c]=parallel(a,b)\n",
"    c=a*b/(a+b);\n",
"endfunction\n",
"Ro=parallel(RD,rd); // in ohms\n",
"AV1=-gm*parallel(RD,parallel(rd,RG));\n",
"AV2=AV1;\n",
"AV3=-gm*parallel(RD,rd);\n",
"AV=AV1*AV2*AV3;\n",
"RG_dash=parallel(RG,RF); // in ohms\n",
"Vi_Vs=RG_dash/(RG_dash+Rs); // Vi/Vs\n",
"AoL=AV*Vi_Vs*RF/(RF+Ro); // Vo/Vs (Open loop)\n",
"bta=1/RF; // Feedback factor\n",
"RM=AoL*Rs; // in ohms\n",
"T=-bta*RM; // Return ratio\n",
"AF=AoL/(1+T);\n",
"RoD=parallel(Ro,RF); // in ohms\n",
"RoF=RoD/(1+T); // in ohms\n",
"disp(AF,'AF =');\n",
"disp(RoF,'RoF (Ω) =');"
   ]
   }
,
{
		   "cell_type": "markdown",
		   "metadata": {},
		   "source": [
			"## Example 11.2: Amount_of_feedback.sce"
		   ]
		  },
  {
"cell_type": "code",
	   "execution_count": null,
	   "metadata": {
	    "collapsed": true
	   },
	   "outputs": [],
"source": [
"// Example 11.2: Necessary amount of feedback, Gain without feedback\n",
"clc, clear\n",
"// Let A be gain without feedback and b be necessary amount of feedback\n",
"// AOL can assume values A, 1.1A, 0.9A, i.e. 10% variation\n",
"// For AOL = 1.1A yields, 50.01 + 1.1A(50.01b -1) = 0\n",
"// When AOL = 0.9A, 49.99 + 0.9A(49.99b - 1) = 0 \n",
"// Solving the two equations\n",
"a=[1.1*50.01 -1.1; 0.9*44.99 -0.9];\n",
"b=[-50.01; -49.99];\n",
"c=inv(a)*b;\n",
"d=c(1,1); // A*b\n",
"A=c(2,1);\n",
"b=d/A;\n",
"disp(b,'Necessary amount of feedback =');\n",
"disp(A,'Gain without feedback =');"
   ]
   }
,
{
		   "cell_type": "markdown",
		   "metadata": {},
		   "source": [
			"## Example 11.3: Second_harmonic_distortion.sce"
		   ]
		  },
  {
"cell_type": "code",
	   "execution_count": null,
	   "metadata": {
	    "collapsed": true
	   },
	   "outputs": [],
"source": [
"// Example 11.3: (a) Output voltage\n",
"//               (b) Input voltage\n",
"clc, clear\n",
"B1=36; // Fundamental output in volts\n",
"B2=7*B1/100; // Second-harmonic distortion in volts\n",
"Vs=0.028; // Input in volts\n",
"A=B1/Vs; // Gain\n",
"\n",
"disp('Part (a)');\n",
"b=1.2/100; // Amount of feedback in volts\n",
"B1f=B1/(1+b*A); // Fundamental output with feedback in volts\n",
"B2f=B2/(1+b*A); // Second-harmonic distortion with feedback in volts\n",
"disp(B1f,'Fundamental output with feedback (V) =');\n",
"disp(B2f,'Second-harmonic distortion with feedback (V) =');\n",
"\n",
"disp('Part (b)');\n",
"B1f=36; // Fundamental output with feedback in volts\n",
"B2f=1*B1f/100; // Second-harmonic distortion with feedback in volts\n",
"T=B2/B2f-1; // Return ratio\n",
"AF=A/(1+T); // Feedback gain\n",
"Vs=B1f/AF; // Input voltage in volts\n",
"disp(Vs,'Input voltage (V) =');"
   ]
   }
,
{
		   "cell_type": "markdown",
		   "metadata": {},
		   "source": [
			"## Example 11.4: Closed_loop_parameters.sce"
		   ]
		  },
  {
"cell_type": "code",
	   "execution_count": null,
	   "metadata": {
	    "collapsed": true
	   },
	   "outputs": [],
"source": [
"// Example 11.4: Closed loop parameters\n",
"clc, clear\n",
"Av=1000;\n",
"bta=0.01;\n",
"Zin=1; // in kilo-ohms\n",
"Zo=420; // in ohms\n",
"fL=1.5; // in kilo-hertz\n",
"fH=501.5; // in kilo-hertz\n",
"disp('Closed loop parameters :');\n",
"T=Av*bta; // Return ratio\n",
"// From Fig. 11.18\n",
"Af=Av/(1+T); // Closed loop gain\n",
"Zif=Zin*(1+T); // Closed loop input impedance in kilo-ohms\n",
"Zof=Zo/(1+T); // Closed loop output impedance in ohms\n",
"fLf=fL/(1+T); // Closed loop lower 3 dB frequency in kilo-hertz\n",
"fHf=fH*(1+T); // Closed loop upper 3 dB frequency in kilo-hertz\n",
"disp(Af,'Gain =');\n",
"disp(Zif,'Input impedance (kΩ) =');\n",
"disp(Zof,'Output impedance (Ω) =');\n",
"disp(fLf,'Lower 3 dB frequency (kHz) =');\n",
"disp(fHf,'Upper 3 dB frequency (kHz) =');"
   ]
   }
,
{
		   "cell_type": "markdown",
		   "metadata": {},
		   "source": [
			"## Example 11.5: Noise_reductio.sce"
		   ]
		  },
  {
"cell_type": "code",
	   "execution_count": null,
	   "metadata": {
	    "collapsed": true
	   },
	   "outputs": [],
"source": [
"// Example 11.5: Output signal voltage, Output noise voltage, Improvement in S/N ratio\n",
"clc, clear\n",
"A1=1;\n",
"Vs=1; // in volts\n",
"Vn=1; // in volts\n",
"A2=100;\n",
"bta=1;\n",
"Vos=Vs*A1*A2/(1+bta*A1*A2); // Output signal voltage in volts\n",
"Von=Vn*A1/(1+bta*A1*A2); // Output noise voltage in volts\n",
"SNRi=20*log10(Vs/Vn); // Input S/N ratio in dB\n",
"SNRo=20*log10(Vos/Von); // Output S/N ratio in dB\n",
"SNR=SNRo-SNRi; // Improvement in S/N raio in dB\n",
"disp(Vos,'Output signal voltage (V) =');\n",
"disp(Von,'Output noise voltage (V) =');\n",
"disp(SNR,'Improvement in S/N ratio (dB) =');"
   ]
   }
,
{
		   "cell_type": "markdown",
		   "metadata": {},
		   "source": [
			"## Example 11.6: Non_inverting_configuration.sce"
		   ]
		  },
  {
"cell_type": "code",
	   "execution_count": null,
	   "metadata": {
	    "collapsed": true
	   },
	   "outputs": [],
"source": [
"// Example 11.6: (b) R2/R1\n",
"//               (c) Amount of feedback in decibels\n",
"//               (d) Vo, Vf, Vi\n",
"//               (e) Decrease in Af\n",
"clc, clear\n",
"\n",
"disp('Part (b)');\n",
"A=1e4;\n",
"Af=10;\n",
"bta=(A/Af-1)/A; // Feedback factor\n",
"R2_R1=1/bta-1; // R2/R1\n",
"disp(R2_R1,'R2/R1 =');\n",
"\n",
"disp('Part (c)');\n",
"dB=20*log10(1+A*bta); // Amount of feedback in decibels\n",
"disp(dB,'Amount of feedback (dB) =');\n",
"\n",
"disp('Part (d)');\n",
"Vs=1; // in volts\n",
"Vo=Af*Vs; // in volts\n",
"Vf=bta*Vo; // in volts\n",
"Vi=Vs-Vf; // in volts\n",
"disp(Vo,'Vo (V) =');\n",
"disp(Vf,'Vf (V) =');\n",
"disp(Vi,'Vi (V) =');\n",
"\n",
"disp('Part (e)');\n",
"A=80*A/100; // Decreased A\n",
"Af_dash=A/(1+A*bta); // Decreased Af\n",
"C=(Af-Af_dash)*100/Af; // Percentage decrease in Af\n",
"disp(C,'Percentage decrease in Af (%) =');"
   ]
   }
,
{
		   "cell_type": "markdown",
		   "metadata": {},
		   "source": [
			"## Example 11.7: Upper_3_dB_frequency.sce"
		   ]
		  },
  {
"cell_type": "code",
	   "execution_count": null,
	   "metadata": {
	    "collapsed": true
	   },
	   "outputs": [],
"source": [
"// Example 11.7: Low frequency gain, Upper 3 dB frequency\n",
"clc, clear\n",
"// Without feedback\n",
"AM=1e4; // Low frequency values of A\n",
"wH=100; // Upper 3 dB frequency in hertz\n",
"// With feedback\n",
"R1=1; // in kilo-ohms\n",
"R2=9; // in kilo-ohms\n",
"bta=R1/(R1+R2); // Feedback factor\n",
"AfM=AM/(1+bta*AM); // Low frequency gain\n",
"wHf=wH*(1+bta*AM); // Upper 3 dB frequency in hertz\n",
"wHf=wHf*1e-3; // Upper 3 dB frequency in kilo-hertz\n",
"disp('For closed loop amplifier :');\n",
"disp(AfM,'Low frequency gain =');\n",
"disp(wHf,'Upper 3 dB frequency (kHz) =');"
   ]
   }
,
{
		   "cell_type": "markdown",
		   "metadata": {},
		   "source": [
			"## Example 11.9: Desensitivity.sce"
		   ]
		  },
  {
"cell_type": "code",
	   "execution_count": null,
	   "metadata": {
	    "collapsed": true
	   },
	   "outputs": [],
"source": [
"// Example 11.9: (a) RE\n",
"//               (b) RL\n",
"//               (c) R1F\n",
"//               (d) Quiescent collector current\n",
"clc, clear\n",
"GmF=1; // Transconductance gain in mili-amperes per volts\n",
"AVF=-4; // Voltage gain\n",
"D=50; // Desensitivity factor\n",
"RS=1; // in kilo-ohms\n",
"btao=150;\n",
"AoL=GmF*D; // Open loop mutual conductance in mili-amperes per volts\n",
"\n",
"disp('Part (a)');\n",
"RE=(D-1)/AoL; // in kilo-ohms\n",
"disp(RE,'RE (kΩ​) =');\n",
"\n",
"disp('Part (b)');\n",
"RL=-AVF/GmF; // in kilo-ohms\n",
"disp(RL,'RL (kΩ​) =');\n",
"\n",
"disp('Part (c)');\n",
"r_pi=btao/AoL-RS-RE; // in kilo-ohms\n",
"R1F=RS+r_pi+(1+btao)*RE; // in kilo-ohms\n",
"disp(R1F,'R1F (kΩ​) =');\n",
"\n",
"disp('Part (d)');\n",
"VT=26e-3; // Voltage equivalent to temperatue at room temperature in volts\n",
"IC=btao*VT/r_pi; // in mili-amperes\n",
"disp(IC,'IC (mA) =');"
   ]
   }
],
"metadata": {
		  "kernelspec": {
		   "display_name": "Scilab",
		   "language": "scilab",
		   "name": "scilab"
		  },
		  "language_info": {
		   "file_extension": ".sce",
		   "help_links": [
			{
			 "text": "MetaKernel Magics",
			 "url": "https://github.com/calysto/metakernel/blob/master/metakernel/magics/README.md"
			}
		   ],
		   "mimetype": "text/x-octave",
		   "name": "scilab",
		   "version": "0.7.1"
		  }
		 },
		 "nbformat": 4,
		 "nbformat_minor": 0
}
