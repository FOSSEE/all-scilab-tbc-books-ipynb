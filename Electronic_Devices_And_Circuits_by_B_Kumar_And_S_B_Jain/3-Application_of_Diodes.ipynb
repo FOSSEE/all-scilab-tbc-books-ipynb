{
"cells": [
 {
		   "cell_type": "markdown",
	   "metadata": {},
	   "source": [
       "# Chapter 3: Application of Diodes"
	   ]
	},
{
		   "cell_type": "markdown",
		   "metadata": {},
		   "source": [
			"## Example 3.10: Minimum_and_maximum_value_of_zener_diode_current.sce"
		   ]
		  },
  {
"cell_type": "code",
	   "execution_count": null,
	   "metadata": {
	    "collapsed": true
	   },
	   "outputs": [],
"source": [
"// Example 3.10: Minimum and maximum value of zener diode current\n",
"clc, clear\n",
"// From the Fig. 3.33\n",
"Vsmin=120; // in volts\n",
"Vsmax=170; // in volts\n",
"Vz=50; // in volts\n",
"Rs=5e3; // in ohms\n",
"RLmin=5e3; // in ohms\n",
"RLmax=10e3; // in ohms\n",
"ILmin=Vz/RLmax; // in amperes\n",
"ILmax=Vz/RLmin; // in amperes\n",
"Izmin=((Vsmin-Vz)/Rs)-ILmax; // Minimum value of zener diode current in amperes\n",
"Izmin=Izmin*1e3; // Minimum value of zener diode current in miliamperes\n",
"Izmax=((Vsmax-Vz)/Rs)-ILmin; // Maximum value of zener diode current in amperes\n",
"Izmax=Izmax*1e3; // Maximum value of zener diode current in miliamperes\n",
"disp(Izmin,'Minimum value of zener diode current (mA) =');\n",
"disp(Izmax,'Maximum value of zener diode current (mA) =');"
   ]
   }
,
{
		   "cell_type": "markdown",
		   "metadata": {},
		   "source": [
			"## Example 3.11: Safe_voltage_range.sce"
		   ]
		  },
  {
"cell_type": "code",
	   "execution_count": null,
	   "metadata": {
	    "collapsed": true
	   },
	   "outputs": [],
"source": [
"// Example 3.11: (a) V\n",
"//               (b) Voltage range of V\n",
"clc, clear\n",
"Vz=50; // Zener voltage in volts\n",
"Izmin=1e-3; // in amperes\n",
"Izmax=5e-3; // in amperes\n",
"\n",
"disp('Part (a)');\n",
"ILmin=0;\n",
"Rs=5e3; // in ohms\n",
"V=Vz+Rs*(Izmax+ILmin); // in volts\n",
"disp(V,'V (V) =');\n",
"\n",
"disp('Part (b)');\n",
"IL=(50/15)*1e-3; // in amperes\n",
"Vmin=Vz+Rs*(Izmin+IL); // in volts\n",
"Vmax=Vz+Rs*(Izmax+IL); // in volts\n",
"disp(Vmin,'Vmin (V) =');\n",
"disp(Vmax,'Vmax (V) =');"
   ]
   }
,
{
		   "cell_type": "markdown",
		   "metadata": {},
		   "source": [
			"## Example 3.12: Voltage_regulator.sce"
		   ]
		  },
  {
"cell_type": "code",
	   "execution_count": null,
	   "metadata": {
	    "collapsed": true
	   },
	   "outputs": [],
"source": [
"// Example 3.12: Zener diode current, Power dissipation in zener diode and resistor\n",
"clc, clear\n",
"// In the Fig. 3.35\n",
"Vz=6.8; // in volts\n",
"R=100; // in ohms\n",
"\n",
"disp('Normal situation');\n",
"Vs=9; // in volts\n",
"I=(Vs-Vz)/R; // in amperes\n",
"Pzener=I*Vz; // in watts\n",
"Presistor=I^2*R; // in watts\n",
"I=I*1e3; // in miliamperes\n",
"Pzener=Pzener*1e3; // in miliwatts\n",
"Presistor=Presistor*1e3; // in miliwatts\n",
"disp(I,'Zener diode current (mA) =');\n",
"disp(Pzener,'Power dissipation in zener diode (mW) =');\n",
"disp(Presistor,'Power dissipation in resistor (mW) =');\n",
"\n",
"disp('Aberrant situation');\n",
"Vs=15; // in volts\n",
"I=(Vs-Vz)/R; // in amperes\n",
"Pzener=I*Vz; // in watts\n",
"Presistor=I^2*R; // in watts\n",
"I=I*1e3; // in miliamperes\n",
"Pzener=Pzener*1e3; // in miliwatts\n",
"Presistor=Presistor*1e3; // in miliwatts\n",
"disp(I,'Zener diode current (mA) =');\n",
"disp(Pzener,'Power dissipation in zener diode (mW) =');\n",
"disp(Presistor,'Power dissipation in resistor (mW) =');"
   ]
   }
,
{
		   "cell_type": "markdown",
		   "metadata": {},
		   "source": [
			"## Example 3.13: Range_of_load_current.sce"
		   ]
		  },
  {
"cell_type": "code",
	   "execution_count": null,
	   "metadata": {
	    "collapsed": true
	   },
	   "outputs": [],
"source": [
"// Example 3.13: Range of load current\n",
"clc, clear\n",
"Vz=5; // in volts\n",
"Izmin=50e-3; // in amperes\n",
"Izmax=1; // in amperes\n",
"Vmin=7.5; // in volts\n",
"Vmax=10; // in volts\n",
"Rs=4.75; // in ohms\n",
"ILmin=((Vmax-Vz)/Rs)-Izmax; // in amperes\n",
"ILmin=ILmin*1e3; // in miliamperes\n",
"ILmax=((Vmin-Vz)/Rs)-Izmin; // in amperes\n",
"ILmax=ILmax*1e3; // in miliamperes\n",
"disp(ILmin,'ILmin (mA) =');\n",
"disp(ILmax,'ILmax (mA) =');"
   ]
   }
,
{
		   "cell_type": "markdown",
		   "metadata": {},
		   "source": [
			"## Example 3.14: Zener_diode.sce"
		   ]
		  },
  {
"cell_type": "code",
	   "execution_count": null,
	   "metadata": {
	    "collapsed": true
	   },
	   "outputs": [],
"source": [
"// Exmaple 3.14: Load-current range, Series resistance in redesigned circuit\n",
"clc, clear\n",
"// In Fig. 3.37\n",
"Vz=6.8; // in volts\n",
"Izk=0.1e-3; // in amperes\n",
"Vs=10; // in volts\n",
"Rs=1e3; // in ohms\n",
"ILmax=((Vs-Vz)/Rs)-Izk; // in amperes\n",
"ILmax=ILmax*1e3; // in miliamperes\n",
"disp(0,'ILmin =');\n",
"disp(ILmax,'ILmax (mA) =');\n",
"\n",
"disp('Redesigned Part')\n",
"RL=1e3; // in ohms\n",
"Izk=Izk*10; // in amperes\n",
"I=Izk+(Vz/RL); // in amperes\n",
"R=(Vs-Vz)/I; // in ohms\n",
"disp(R,'Series resistance (Ω) =');"
   ]
   }
,
{
		   "cell_type": "markdown",
		   "metadata": {},
		   "source": [
			"## Example 3.15: Zener_diode_regulator.sce"
		   ]
		  },
  {
"cell_type": "code",
	   "execution_count": null,
	   "metadata": {
	    "collapsed": true
	   },
	   "outputs": [],
"source": [
"// Example 3.15: (a) Series resistance\n",
"//               (b) Power dissipation rating of zener diode\n",
"clc, clear\n",
"// In Fig. 3.38\n",
"Vz=6; // in volts\n",
"ILmin=0;\n",
"ILmax=0.5; // in amperes\n",
"Vmin=8; // in volts\n",
"Vmax=10; // in volts\n",
"Izmin=0;\n",
"\n",
"disp('Part (a)');\n",
"Rs=(Vmin-Vz)/(ILmax+Izmin); // Series resistance in ohms\n",
"disp(Rs,'Series resistance (Ω) =');\n",
"\n",
"disp('Part (b)');\n",
"Izmax=((Vmax-Vz)/Rs)-ILmin; // in amperes\n",
"Pzmax=Vz*Izmax; // in watts\n",
"disp(Pzmax,'Power dissipation rating of zener diode (W) =');"
   ]
   }
,
{
		   "cell_type": "markdown",
		   "metadata": {},
		   "source": [
			"## Example 3.16: Zener_diode.sce"
		   ]
		  },
  {
"cell_type": "code",
	   "execution_count": null,
	   "metadata": {
	    "collapsed": true
	   },
	   "outputs": [],
"source": [
"// Example 3.16: Series resistance R, Maximum zener current\n",
"clc, clear\n",
"// In Fig. 3.39\n",
"Vz=7.2; // in volts\n",
"ILmin=12e-3; // in amperes\n",
"ILmax=100e-3; // in amperes\n",
"Vs=20; // in volts\n",
"Izmin=10e-3; // in amperes\n",
"Rs=(Vs-Vz)/(ILmax+Izmin); // Series resistance in ohms\n",
"disp(Rs,'Series resistance (Ω) =');\n",
"// For ILmin=0\n",
"Izmax=((Vs-Vz)/Rs); // in amperes\n",
"Izmax=Izmax*1e3; // in miliamperes\n",
"disp(Izmax,'Maximum zener current (mA) =');"
   ]
   }
,
{
		   "cell_type": "markdown",
		   "metadata": {},
		   "source": [
			"## Example 3.17: Avalanche_diode.sce"
		   ]
		  },
  {
"cell_type": "code",
	   "execution_count": null,
	   "metadata": {
	    "collapsed": true
	   },
	   "outputs": [],
"source": [
"// Example 3.17: (a) R, maximum possible value of load current\n",
"//               (b) Range of V\n",
"clc, clear\n",
"Vz=50; // Diode voltage in volts\n",
"Izmin=5e-3; // in amperes\n",
"Izmax=40e-3; // in amperes\n",
"\n",
"disp('Part (a)');\n",
"ILmin=0;\n",
"V=200; // Input voltage in volts\n",
"R=(V-Vz)/(Izmax-ILmin); // in ohms\n",
"ILmax=((V-Vz)/R)-Izmin; // in amperes\n",
"Rk=R*1e-3; // in kilo-ohms\n",
"ILmax=ILmax*1e3; // in miliamperes\n",
"disp(Rk,'R(kΩ) =');\n",
"disp(ILmax,'Maximum possible value of load current (mA) =');\n",
"\n",
"disp('Part (b)');\n",
"IL=25e-3;\n",
"Vmin=Vz+R*(Izmin+IL); // in volts\n",
"Vmax=Vz+R*(Izmax+IL); // in volts\n",
"disp(Vmin,'Minimum value of V (V) =');\n",
"disp(Vmax,'Maximum value of V (V) =');"
   ]
   }
,
{
		   "cell_type": "markdown",
		   "metadata": {},
		   "source": [
			"## Example 3.18: Zener_diode.sce"
		   ]
		  },
  {
"cell_type": "code",
	   "execution_count": null,
	   "metadata": {
	    "collapsed": true
	   },
	   "outputs": [],
"source": [
"// Example 3.18: R, ILmax, Power rating of zener diode\n",
"clc, clear\n",
"// In Fig. 3.41\n",
"Vz=6; // in volts\n",
"V=22; // in volts\n",
"Izmin=10e-3; // in amperes\n",
"Izmax=40e-3; // in amperes\n",
"ILmin=0;\n",
"R=(V-Vz)/(Izmax-ILmin); // in ohms\n",
"ILmax=((V-Vz)/R)-Izmin; // in amperes\n",
"P=Izmax*Vz; // Power rating of zener diode in watts\n",
"ILmax=ILmax*1e3; // in miliamperes\n",
"P=P*1e3; // Power rating of zener diode in mili-watts\n",
"disp(R,'R(Ω) =');\n",
"disp(ILmax,'ILmax (mA) =');\n",
"disp(P,'Power rating of zener diode (mW) =');"
   ]
   }
,
{
		   "cell_type": "markdown",
		   "metadata": {},
		   "source": [
			"## Example 3.19: Zener_diode.sce"
		   ]
		  },
  {
"cell_type": "code",
	   "execution_count": null,
	   "metadata": {
	    "collapsed": true
	   },
	   "outputs": [],
"source": [
"// Example 3.19: (a) VL,IL,Iz,IR\n",
"//               (b) RL for maximum power dissipation for zener diode\n",
"//               (c) Maximum value of RL for zener diode to remain ON\n",
"clc, clear\n",
"// From Fig. 3.42\n",
"Vs=25; // in volts\n",
"Rs=220; // in ohms\n",
"Vz=10; // in volts\n",
"Pzmax=400; // in mili-watts\n",
"Izmax=Pzmax/Vz; // in miliamperes\n",
"Izmin=Izmax*10/100; // in miliamperes\n",
"\n",
"disp('Part (a)');\n",
"RL=180; // in ohms\n",
"VL=Vz; // in volts\n",
"IL=Vz/RL; // in amperes\n",
"IL=IL*1e3; // in miliamperes\n",
"IR=(Vs-Vz)/Rs; // in amperes\n",
"IR=IR*1e3; // in miliamperes\n",
"Iz=IR-IL; // in miliamperes\n",
"disp(VL,'VL (V) =');\n",
"disp(IL,'IL (mA) =');\n",
"disp(Iz,'Iz (mA) =');\n",
"disp(IR,'IR (mA) =');\n",
"\n",
"disp('Part (b)');\n",
"RL=Vz*1e3/(IR-Izmax); // in ohms\n",
"disp(RL,'RL for maximum power dissipation for zener diode (Ω) =');\n",
"\n",
"disp('Part (c)');\n",
"RL=Vz*1e3/(IR-Izmin); // in ohms\n",
"disp(RL,'Maximum value of RL for zener diode to remain ON (Ω) =');\n",
"disp('If Izmin=0');\n",
"RL=Vz*1e3/IR; // in ohms\n",
"disp(RL,'Maximum value of RL for zener diode to remain ON (Ω) =');"
   ]
   }
,
{
		   "cell_type": "markdown",
		   "metadata": {},
		   "source": [
			"## Example 3.20: Regulation_range_of_zener_diode.sce"
		   ]
		  },
  {
"cell_type": "code",
	   "execution_count": null,
	   "metadata": {
	    "collapsed": true
	   },
	   "outputs": [],
"source": [
"// Example 3.20: Range and average watage of Rs\n",
"clc, clear\n",
"// From Fig. 3.43\n",
"Vsmin=20; // in volts\n",
"Vsmax=30; // in volts\n",
"RLmin=1; // in ohms\n",
"RLmax=10; // in ohms\n",
"Izmin=10e-3; // in amperes\n",
"Pzmax=50; // in watts\n",
"Vz=10; // in volts\n",
"ILmin=Vz/RLmax; // in amperes\n",
"ILmax=Vz/RLmin; // in amperes\n",
"Izmax=Pzmax/Vz; // in amperes\n",
"Rs1=(Vsmin-Vz)/(ILmax+Izmin); // in ohms\n",
"Rs2=(Vsmax-Vz)/(ILmin+Izmax); // in ohms\n",
"disp(Rs1,'Rs <= ');\n",
"disp(Rs2,'Rs >= ');\n",
"disp('To meet the load current variation from 1 A to 10 A a zener of specification Izmin = 0.01 A to Izmax = 5 A cannot meet the requirement for any value of Rs')\n",
"// Let\n",
"RLmin=1e3; // in ohms\n",
"RLmax=10e3; // in ohms\n",
"ILmin=Vz/RLmax; // in amperes\n",
"ILmax=Vz/RLmin; // in amperes\n",
"Rsmin=(Vsmax-Vz)/(ILmin+Izmax); // in ohms\n",
"Rsmax=(Vsmin-Vz)/(ILmax+Izmin); // in ohms\n",
"disp(Rsmin,'Minimum value of Rs (Ω) =');\n",
"disp(Rsmax,'Maximum value of Rs (Ω) =');\n",
"Rs=4; // in ohms\n",
"W=Rs*(ILmax+Izmax)^2; // in watts\n",
"disp(W,'Average wattage of Rs (W) =');"
   ]
   }
,
{
		   "cell_type": "markdown",
		   "metadata": {},
		   "source": [
			"## Example 3.21_a: Clipping_circuits.sce"
		   ]
		  },
  {
"cell_type": "code",
	   "execution_count": null,
	   "metadata": {
	    "collapsed": true
	   },
	   "outputs": [],
"source": [
"// Example 3.21: (a) Transfer characteristics and output\n",
"//               (b) Transfer characteristics and output\n",
"clc, clear\n",
"Vy=0.6; // in volts\n",
"Rf=100; // in ohms\n",
"t=[-40:0.001:40];\n",
"vin=40*sin(2*%pi*t/80); // Input voltage in volts\n",
"\n",
"// Part (a)\n",
"// From Fig. 3.49(a)\n",
"// Sketching of transfer characteristics\n",
"for i=1:length(vin)\n",
"    if vin(i)<5.6 then\n",
"        vo(i)=vin(i); // in volts\n",
"    else\n",
"        ID=(vin(i)-5.6)/(4.9e3+Rf); // in amperes\n",
"        vo(i)=vin(i)-ID*4.9e3; // in volts\n",
"    end\n",
"end\n",
"plot(vin,vo);\n",
"xtitle('Part (a) - Transfer characteristics','vin','vo');\n",
"// Sketching of output\n",
"scf(1);\n",
"plot(t,vin,'--');\n",
"plot(t,vo);\n",
"xtitle('Part (a) - Output voltage and input voltage','ωt','vo,vin');\n",
"legend('vin','vo');\n",
"\n",
"// Part (b)\n",
"// From Fig. 3.49(b)\n",
"// Sketching of transfer characteristics\n",
"for i=1:length(vin)\n",
"    if vin(i)>-0.6 then\n",
"        vo(i)=vin(i); // in volts\n",
"    else\n",
"        ID=(vin(i)+0.6)/(9.9e3+Rf); // in amperes\n",
"        vo(i)=vin(i)-ID*9.9e3; // in volts\n",
"    end\n",
"end\n",
"scf(2);\n",
"plot(vin,vo);\n",
"xtitle('Part (b) - Transfer characteristics','vin','vo');\n",
"// Sketching of output\n",
"scf(3);\n",
"plot(t,vin,'--');\n",
"plot(t,vo);\n",
"xtitle('Part (b) - Output voltage and input voltage','ωt','vo,vin');\n",
"legend('vin','vo');"
   ]
   }
,
{
		   "cell_type": "markdown",
		   "metadata": {},
		   "source": [
			"## Example 3.21_b: Range_of_load_current.sce"
		   ]
		  },
  {
"cell_type": "code",
	   "execution_count": null,
	   "metadata": {
	    "collapsed": true
	   },
	   "outputs": [],
"source": [
"// Example 3.21: (a) Transfer characteristics and output\n",
"//               (b) Transfer characteristics and output\n",
"clc, clear\n",
"Vy=0.6; // in volts\n",
"Rf=100; // in ohms\n",
"t=[-40:0.001:40];\n",
"vin=40*sin(2*%pi*t/80); // Input voltage in volts\n",
"\n",
"// Part (a)\n",
"// From Fig. 3.49(a)\n",
"// Sketching of transfer characteristics\n",
"for i=1:length(vin)\n",
"    if vin(i)<5.6 then\n",
"        vo(i)=vin(i); // in volts\n",
"    else\n",
"        ID=(vin(i)-5.6)/(4.9e3+Rf); // in amperes\n",
"        vo(i)=vin(i)-ID*4.9e3; // in volts\n",
"    end\n",
"end\n",
"plot(vin,vo);\n",
"xtitle('Part (a) - Transfer characteristics','vin','vo');\n",
"// Sketching of output\n",
"scf(1);\n",
"plot(t,vin,'--');\n",
"plot(t,vo);\n",
"xtitle('Part (a) - Output voltage and input voltage','ωt','vo,vin');\n",
"legend('vin','vo');\n",
"\n",
"// Part (b)\n",
"// From Fig. 3.49(b)\n",
"// Sketching of transfer characteristics\n",
"for i=1:length(vin)\n",
"    if vin(i)>-0.6 then\n",
"        vo(i)=vin(i); // in volts\n",
"    else\n",
"        ID=(vin(i)+0.6)/(9.9e3+Rf); // in amperes\n",
"        vo(i)=vin(i)-ID*9.9e3; // in volts\n",
"    end\n",
"end\n",
"scf(2);\n",
"plot(vin,vo);\n",
"xtitle('Part (b) - Transfer characteristics','vin','vo');\n",
"// Sketching of output\n",
"scf(3);\n",
"plot(t,vin,'--');\n",
"plot(t,vo);\n",
"xtitle('Part (b) - Output voltage and input voltage','ωt','vo,vin');\n",
"legend('vin','vo');"
   ]
   }
,
{
		   "cell_type": "markdown",
		   "metadata": {},
		   "source": [
			"## Example 3.22: Transfer_characteristics.sce"
		   ]
		  },
  {
"cell_type": "code",
	   "execution_count": null,
	   "metadata": {
	    "collapsed": true
	   },
	   "outputs": [],
"source": [
"// Example 3.22: (a) Transfer characteristics\n",
"//               (b) Transfer characteristics\n",
"clc, clear\n",
"t=[0:0.1:20]; // in mili-seconds\n",
"vin=30*t/10; // Input voltage in volts\n",
"// From Fig. 3.52(b)\n",
"\n",
"// Part {a}\n",
"// Sketching of transfer characteristics\n",
"for i=1:length(vin)\n",
"    if vin(i)>25 then\n",
"        vo(i)=5; // in volts\n",
"    else\n",
"        IL=vin(i)/(200+50); // in amperes\n",
"        vo(i)=IL*50; // in volts\n",
"    end\n",
"end\n",
"plot2d(vin,vo,rect=[0,0,60,6]);\n",
"xtitle('Part (a) - Transfer characteristics','vin','vo');\n",
"\n",
"// Part (b)\n",
"// Sketching of transfer characteristics\n",
"Vy=0.5; // in volts\n",
"Rf=40; // in ohms\n",
"VA=5+0.5; // in volts\n",
"for i=1:length(vin)\n",
"    if vin(i)<27.5 then\n",
"        IL=vin(i)/(200+50); // in amperes\n",
"        vo(i)=IL*50; // in volts\n",
"    else\n",
"        IL=(vin(i)+27.5)/500; // in amperes\n",
"        vo(i)=IL*50; // in volts\n",
"    end\n",
"end\n",
"scf(1);\n",
"plot2d(vin,vo);\n",
"xtitle('Part (b) - Transfer characteristics','vin','vo');"
   ]
   }
,
{
		   "cell_type": "markdown",
		   "metadata": {},
		   "source": [
			"## Example 3.23: Clipping_circuit.sce"
		   ]
		  },
  {
"cell_type": "code",
	   "execution_count": null,
	   "metadata": {
	    "collapsed": true
	   },
	   "outputs": [],
"source": [
"// Example 3.23: Output voltage and transfer characteristic curve\n",
"clc, clear\n",
"t=[-6:0.001:6];\n",
"vin=6*sin(2*%pi*t/12); // Input voltage in volts\n",
"// Sketching of output voltage\n",
"for i=1:length(vin)\n",
"    if vin(i)>=2 then\n",
"        // From Fig. 3.54(b), D1 ON and D2 OFF\n",
"        I1=(vin(i)-2)/(10e3+10e3); // in amperes\n",
"        vo(i)=vin(i)-I1*10e3; // in volts\n",
"    elseif vin(i)>=-4 then\n",
"        // both D1 and D2 OFF\n",
"        vo(i)=vin(i);\n",
"    else\n",
"        // From Fig. 3.54(c), D1 OFF and D2 ON   \n",
"        vo(i)=-4; // in volts\n",
"    end\n",
"end\n",
"plot(t,vin,'--');\n",
"plot(t,vo);\n",
"xtitle('Output voltage and input voltage','ωt','vo,vin');\n",
"legend('vin','vo');\n",
"// Sketching of transfer characteristic curve\n",
"scf(1);\n",
"plot2d(vin,vo,rect=[-6,-6,6,6]);\n",
"xtitle('Transfer characteristic curve','vin','vo');"
   ]
   }
,
{
		   "cell_type": "markdown",
		   "metadata": {},
		   "source": [
			"## Example 3.24: Transfer_characteristics.sce"
		   ]
		  },
  {
"cell_type": "code",
	   "execution_count": null,
	   "metadata": {
	    "collapsed": true
	   },
	   "outputs": [],
"source": [
"// Example 3.24: Voltage transfer characteristics\n",
"clc, clear\n",
"vin=[-2.5:2.5]; // Input voltage in volts\n",
"// Obtaining thevnin's equivalent circuit on LHS of XX'\n",
"V_th=vin*7.5e3/(7.5e3+15e3); // in volts\n",
"R_th=15e3*7.5e3/(15e3+7.5e3); // in ohms\n",
"// Sketching of voltage transfer characteristics\n",
"// From thevnin's equivalent circuit in Fig. 3.55(b)\n",
"for i=1:length(vin)\n",
"    if vin(i)>1.8 then\n",
"        I1=(V_th(i)-0.6)/(5e3+R_th); // in amperes\n",
"        vo(i)=I1*5e3; // in volts\n",
"    elseif vin(i)>-1.8 then\n",
"        vo(i)=0;\n",
"    else\n",
"        I2=(V_th(i)+0.6)/(4e3+R_th); // in amperes   \n",
"        vo(i)=I2*5e3; // in volts\n",
"    end\n",
"end\n",
"plot(vin,vo);\n",
"xtitle('Voltage transfer characteristics','vin','vo');"
   ]
   }
,
{
		   "cell_type": "markdown",
		   "metadata": {},
		   "source": [
			"## Example 3.25: Clipping_circuit.sce"
		   ]
		  },
  {
"cell_type": "code",
	   "execution_count": null,
	   "metadata": {
	    "collapsed": true
	   },
	   "outputs": [],
"source": [
"// Example 3.25: (a) Output voltage waveform\n",
"//               (b) Transfer curve\n",
"clc, clear\n",
"t=[0:0.001:12];\n",
"vin=15*sin(2*%pi*t/12); // Input voltage in volts\n",
"// From Fig. 3.56(a)\n",
"// Sketching of output voltage waveform\n",
"for i=1:length(vin)\n",
"    if vin(i)<16/3 then\n",
"        // D1 OFF and D2 ON\n",
"        I2=(10-3)/(20e3+10e3); // in amperes\n",
"        vo(i)=10-I2*20e3; // in volts\n",
"    elseif vin(i)<=10 then\n",
"        // both D1 and D2 ON\n",
"        vo(i)=vin(i);\n",
"    else\n",
"        // D1 ON and D2 OFF   \n",
"        vo(i)=10; // in volts\n",
"    end\n",
"end\n",
"plot(t,vin,'--');\n",
"plot(t,vo);\n",
"xtitle('Output voltage and input voltage','ωt','vo,vin');\n",
"legend('vin','vo');\n",
"// Sketching of transfer curve\n",
"scf(1);\n",
"plot2d(vin,vo,rect=[0,0,15,12]);\n",
"xtitle('Transfer characteristic curve','vin','vo');"
   ]
   }
,
{
		   "cell_type": "markdown",
		   "metadata": {},
		   "source": [
			"## Example 3.26: Range_of_load_current.sce"
		   ]
		  },
  {
"cell_type": "code",
	   "execution_count": null,
	   "metadata": {
	    "collapsed": true
	   },
	   "outputs": [],
"source": [
"// Example 3.26: Transfer characteristics and output and input voltage\n",
"clc, clear\n",
"T=60; // Let T = 60 seconds\n",
"t=[0:T];\n",
"vin=120*t/T; // Input voltage in volts\n",
"// From Fig. 3.57(a)\n",
"// Sketching of transfer characteristics\n",
"for i=1:length(vin)\n",
"    if vin(i)<=15 then\n",
"        // Both D1 and D2 OFF\n",
"        vo(i)=15; // in volts\n",
"    elseif vin(i)<=105 then\n",
"        // D1 OFF and D2 ON\n",
"        I2=(vin(i)-15)/(100e3+200e3); // in amperes\n",
"        vo(i)=vin(i)-I2*100e3; // in volts\n",
"    else \n",
"        // Both D1 and D2 ON\n",
"        vo(i)=75; // in volts\n",
"    end\n",
"end\n",
"plot(vin,vo);\n",
"xtitle('Transfer characteristics','vin','vo');\n",
"// Sketching of output\n",
"scf(1);\n",
"plot(t,vin,'--');\n",
"plot(t,vo);\n",
"xtitle('Output voltage and input voltage','ωt','vo,vin');\n",
"legend('vin','vo');"
   ]
   }
,
{
		   "cell_type": "markdown",
		   "metadata": {},
		   "source": [
			"## Example 3.27: Range_of_load_current.sce"
		   ]
		  },
  {
"cell_type": "code",
	   "execution_count": null,
	   "metadata": {
	    "collapsed": true
	   },
	   "outputs": [],
"source": [
"// Example 3.27: vo vs vin\n",
"clc, clear\n",
"vin=[0:50]; // Input voltage in volts\n",
"// Sketching of vo vs vin\n",
"for i=1:length(vin)\n",
"    if vin(i)<3 then\n",
"        // From Fig. 3.58(b), D1 ON, D2 and D3 OFF\n",
"        I1=6/(5e3+5e3); // in amperes\n",
"        vo(i)=I1*5e3; // in volts\n",
"    elseif vin(i)<9 then\n",
"        // From Fig. 3.58(c), D1 and D3 ON, D2 OFF\n",
"        // Applying Kirchoff's laws\n",
"        vo(i)=0.5*vin(i)+1.5; // in volts\n",
"    elseif vin(i)<30 then\n",
"        // From Fig. 3.58(d), D3 ON, D1 and D2 OFF\n",
"        I3=vin(i)/(2.5e3+5e3); // in amperes   \n",
"        vo(i)=I3*5e3; // in volts\n",
"    else\n",
"        // From Fig. 3.58(e), D2 and D3 ON, D1 OFF\n",
"        // Applying Kirchoff's laws\n",
"        vo(i)=4*vin(i)/7+20/7; // in volts\n",
"    end\n",
"end\n",
"plot(vin,vo);\n",
"xtitle('Voltage transfer characteristics','vin','vo');"
   ]
   }
,
{
		   "cell_type": "markdown",
		   "metadata": {},
		   "source": [
			"## Example 3.28: Transfer_characteristics.sce"
		   ]
		  },
  {
"cell_type": "code",
	   "execution_count": null,
	   "metadata": {
	    "collapsed": true
	   },
	   "outputs": [],
"source": [
"// Example 3.28: Output voltage\n",
"clc, clear\n",
"t=[0:5]; // in seconds\n",
"vs=10*t/5; // Input voltage in volts\n",
"// Output voltage\n",
"for i=1:length(vs)\n",
"    if vs(i)<6 then\n",
"        // Diode is OFF\n",
"        vo(i)=6; // in volts\n",
"    else\n",
"        // From Fig. 3.65(c), Diode is ON\n",
"        I=(vs(i)-6)/(200+200); // in amperes\n",
"        vo(i)=6+I*200; // in volts\n",
"    end\n",
"end\n",
"plot2d(t,vo,rect=[0,0,5,8]);\n",
"xtitle('Output voltage','t,ms','vo(t)');"
   ]
   }
,
{
		   "cell_type": "markdown",
		   "metadata": {},
		   "source": [
			"## Example 3.29: Output_voltage.sce"
		   ]
		  },
  {
"cell_type": "code",
	   "execution_count": null,
	   "metadata": {
	    "collapsed": true
	   },
	   "outputs": [],
"source": [
"// Example 3.29: Output voltage\n",
"clc, clear\n",
"Vy=0.5; // in volts\n",
"Rf=50; // in ohms\n",
"t=[0:5]; // in seconds\n",
"vs=10*t/5; // Input voltage in volts\n",
"// Output voltage\n",
"for i=1:length(vs)\n",
"    if vs(i)<6.5 then\n",
"        // Diode is OFF\n",
"        vo(i)=6; // in volts\n",
"    else\n",
"        // From Fig. 3.66(a), Diode is ON\n",
"        I=(vs(i)-6.5)/(200+Rf+200); // in amperes\n",
"        vo(i)=6+I*200; // in volts\n",
"    end\n",
"end\n",
"plot2d(t,vo,rect=[0,0,5,8]);\n",
"xtitle('Output voltage','t,ms','vo(t)');"
   ]
   }
,
{
		   "cell_type": "markdown",
		   "metadata": {},
		   "source": [
			"## Example 3.30: EX30.sce"
		   ]
		  },
  {
"cell_type": "code",
	   "execution_count": null,
	   "metadata": {
	    "collapsed": true
	   },
	   "outputs": [],
"source": [
"// Example 3.30: (a) Output waveform\n",
"//               (b) Output waveform\n",
"clc, clear\n",
"t=[0:0.001:12];\n",
"vin=15*sin(2*%pi*t/12); // Input voltage in volts\n",
"\n",
"// Part (a), From Fig. 3.67(a)\n",
"vo=vin-15; // in volts\n",
"plot(t,vo);\n",
"xtitle('Part (a) - Output voltage','t','vo');\n",
"\n",
"// Part(b), From Fig. 3.67(b)\n",
"vo=vin-10; // in volts\n",
"scf(1);\n",
"plot(t,vo);\n",
"xtitle('Part (b) - Output voltage','t','vo');"
   ]
   }
,
{
		   "cell_type": "markdown",
		   "metadata": {},
		   "source": [
			"## Example 3.31: Output_waveform.sce"
		   ]
		  },
  {
"cell_type": "code",
	   "execution_count": null,
	   "metadata": {
	    "collapsed": true
	   },
	   "outputs": [],
"source": [
"// Example 3.31: Output voltage\n",
"clc, clear\n",
"t=[0:0.1:9*%pi];\n",
"vin=15*squarewave(t)-5; // Input wave in volts\n",
"vo=vin+25; // in volts\n",
"plot2d(t,vo,rect=[0,0,9*%pi,40]);\n",
"xtitle('Output voltage','t','vo');"
   ]
   }
,
{
		   "cell_type": "markdown",
		   "metadata": {},
		   "source": [
			"## Example 3.32: Clamping_circuit.sce"
		   ]
		  },
  {
"cell_type": "code",
	   "execution_count": null,
	   "metadata": {
	    "collapsed": true
	   },
	   "outputs": [],
"source": [
"// Example 3.32: Output voltage\n",
"clc, clear\n",
"t1=[0:20];\n",
"vin1=t1;\n",
"t2=[20:60];\n",
"vin2=40-t2;\n",
"t3=[60:80];\n",
"vin3=-80+t3;\n",
"t=[t1 t2 t3];\n",
"vin=[vin1 vin2 vin3]; // Input wave in volts\n",
"vo=vin+25; // in volts\n",
"plot(t,vo);\n",
"xtitle('Output voltage','t','vo');"
   ]
   }
,
{
		   "cell_type": "markdown",
		   "metadata": {},
		   "source": [
			"## Example 3.33: Clamping_circuit.sce"
		   ]
		  },
  {
"cell_type": "code",
	   "execution_count": null,
	   "metadata": {
	    "collapsed": true
	   },
	   "outputs": [],
"source": [
"// Example 3.33: vo\n",
"clc, clear\n",
"t=[0:0.001:12];\n",
"vin=10*sin(2*%pi*t/4); // Input voltage in volts\n",
"// From Fig. 3.73\n",
"vint=vin+5;\n",
"for i=1:length(vint)\n",
"    if vint(i)>0 then\n",
"        // Diode is OFF\n",
"        vo(i)=vint(i); // in volts\n",
"    else\n",
"        break;\n",
"    end\n",
"end\n",
"for i=i:length(vint)\n",
"    if vint(i)==-5 then\n",
"        break;\n",
"    else\n",
"        // Diode is ON\n",
"        vo(i)=0;\n",
"    end\n",
"end\n",
"for i=i:length(vint)\n",
"    // Capacitor is charged to 5 V\n",
"    vo(i)=vint(i)+5; // in volts\n",
"end\n",
"plot2d(t,vo,rect=[0,-5,12,25]);\n",
"xtitle('Output voltage','t','vo');"
   ]
   }
,
{
		   "cell_type": "markdown",
		   "metadata": {},
		   "source": [
			"## Example 3.4: Full_wave_rectifier.sce"
		   ]
		  },
  {
"cell_type": "code",
	   "execution_count": null,
	   "metadata": {
	    "collapsed": true
	   },
	   "outputs": [],
"source": [
"// Example 3.4: (a) DC load current\n",
"//              (b) DC power in load\n",
"//              (c) Rectification efficiency\n",
"//              (d) Percentage regulation\n",
"//              (e) PIV of each diode\n",
"clc, clear\n",
"Vrms=40; // Input in volts\n",
"Rf=1; // Forward conduction resistance of diodes in ohms\n",
"RL=29; // Load resistance in ohms\n",
"Vmax=Vrms*sqrt(2); // in volts\n",
"Imax=Vmax/(Rf+RL); // in amperes\n",
"\n",
"disp('Part (a)');\n",
"Idc=2*Imax/%pi; // DC load current in amperes\n",
"disp(Idc,'DC load current (A) =');\n",
"\n",
"disp('Part (b)');\n",
"Pdc=Idc^2*RL; // DC power in load in watts\n",
"disp(Pdc,'DC power in load (W) =');\n",
"\n",
"disp('Part (c)');\n",
"Pac=Vrms^2/(Rf+RL); // AC power in load\n",
"eta=Pdc/Pac; // Rectification efficiency\n",
"disp(eta,'Rectification efficiency =');\n",
"\n",
"disp('Part (d)');\n",
"reg=Rf*100/RL; // Percentage regulation\n",
"disp(reg,'Percentage regulation (%) =');\n",
"\n",
"disp('Part (e)');\n",
"PIV=2*Vmax; // in volts\n",
"disp(PIV,'PIV for each diode (V) =');"
   ]
   }
,
{
		   "cell_type": "markdown",
		   "metadata": {},
		   "source": [
			"## Example 3.5: Full_wave_bridge_rectifier.sce"
		   ]
		  },
  {
"cell_type": "code",
	   "execution_count": null,
	   "metadata": {
	    "collapsed": true
	   },
	   "outputs": [],
"source": [
"// Example 3.5: (a) DC voltage at load\n",
"//              (b) PIV rating of each diode\n",
"//              (c) Maximum current through each diode\n",
"//              (d) Required power rating\n",
"clc, clear\n",
"Vrms=120; // Input voltage in volts\n",
"RL=1e3; // Load resistance in ohms\n",
"Vy=0.7; // Cut-in voltage in volts\n",
"\n",
"disp('Part (a)');\n",
"Vmax=Vrms*sqrt(2); // in volts\n",
"Imax=(Vmax-2*Vy)/RL; // in amperes\n",
"Idc=2*Imax/%pi; // in amperes\n",
"Vdc=Idc*RL; // in volts\n",
"disp(Vdc,'DC voltage at load (V) =');\n",
"\n",
"disp('Part (b)');\n",
"disp(Vmax,'PIV rating of each diode (V) =');\n",
"\n",
"disp('Part (c)');\n",
"Imax=Imax*1e3; // in miliamperes\n",
"disp(Imax,'Maximum current through each diode (mA) =');\n",
"\n",
"disp('Part (d)');\n",
"Pmax=Vy*Imax; // Required power rating in mili-watts\n",
"disp(Pmax,'Required power rating (mW) =');"
   ]
   }
,
{
		   "cell_type": "markdown",
		   "metadata": {},
		   "source": [
			"## Example 3.6: Centre_tapped_full_wave_rectifier.sce"
		   ]
		  },
  {
"cell_type": "code",
	   "execution_count": null,
	   "metadata": {
	    "collapsed": true
	   },
	   "outputs": [],
"source": [
"// Example 3.6: (a) Peak value of current\n",
"//              (b) DC value of current\n",
"//              (c) Ripple factor\n",
"//              (d) Rectification efficiency\n",
"clc, clear\n",
"// From the Fig. 2.16\n",
"RL=1e3; // Load resistance in ohms\n",
"rd=10; // Forward bias dynamic resistance of diodes in ohms\n",
"Vmax=220; // Amplitude of input voltage in volts\n",
"\n",
"disp('Part (a)');\n",
"Imax=Vmax/(rd+RL); // Peak value of current in amperes\n",
"disp(Imax,'Peak value of current (A) =');\n",
"\n",
"disp('Part (b)');\n",
"Idc=2*Imax/%pi; // DC value of current in amperes\n",
"disp(Idc,'DC value of current (A) =');\n",
"\n",
"disp('Part (C)');\n",
"ripl=sqrt((Imax/(Idc*sqrt(2)))^2-1);\n",
"disp(ripl,'Ripple factor =');\n",
"\n",
"disp('Part (d)');\n",
"eta=8/(%pi^2*(1+(rd/RL))); // Rectification efficiency\n",
"disp(eta,'Rectification efficiency =');"
   ]
   }
,
{
		   "cell_type": "markdown",
		   "metadata": {},
		   "source": [
			"## Example 3.7: Full_scale_reading.sce"
		   ]
		  },
  {
"cell_type": "code",
	   "execution_count": null,
	   "metadata": {
	    "collapsed": true
	   },
	   "outputs": [],
"source": [
"// Example 3.7: Full scale reading\n",
"clc, clear\n",
"Idc=1e-3; // in amperes\n",
"Rf=10; // in ohms\n",
"RL=5e3; // in ohms\n",
"Vrms=Idc*(RL+Rf)*%pi/(2*sqrt(2)); // Full-scale deflection in volts\n",
"disp(Vrms,'Full-scale deflection (V) =');"
   ]
   }
,
{
		   "cell_type": "markdown",
		   "metadata": {},
		   "source": [
			"## Example 3.8: Full_scale_reading.sce"
		   ]
		  },
  {
"cell_type": "code",
	   "execution_count": null,
	   "metadata": {
	    "collapsed": true
	   },
	   "outputs": [],
"source": [
"// Example 3.8: Full-scale reading\n",
"clc, clear\n",
"Idc=5e-3; // in amperes\n",
"Rf=40; // in ohms\n",
"RL=20e3; // in ohms\n",
"Vrms=Idc*(RL+Rf)*%pi/(2*sqrt(2)); // Full-scale deflection in volts\n",
"disp(Vrms,'Full-scale deflection (V) =');"
   ]
   }
],
"metadata": {
		  "kernelspec": {
		   "display_name": "Scilab",
		   "language": "scilab",
		   "name": "scilab"
		  },
		  "language_info": {
		   "file_extension": ".sce",
		   "help_links": [
			{
			 "text": "MetaKernel Magics",
			 "url": "https://github.com/calysto/metakernel/blob/master/metakernel/magics/README.md"
			}
		   ],
		   "mimetype": "text/x-octave",
		   "name": "scilab",
		   "version": "0.7.1"
		  }
		 },
		 "nbformat": 4,
		 "nbformat_minor": 0
}
