{
"cells": [
 {
		   "cell_type": "markdown",
	   "metadata": {},
	   "source": [
       "# Chapter 7: Field Effect Transistors Characteristics and Biasing"
	   ]
	},
{
		   "cell_type": "markdown",
		   "metadata": {},
		   "source": [
			"## Example 7.1: Transfer_curve_of_FET.sce"
		   ]
		  },
  {
"cell_type": "code",
	   "execution_count": null,
	   "metadata": {
	    "collapsed": true
	   },
	   "outputs": [],
"source": [
"// Example 7.1: Transfer curve\n",
"clc, clear\n",
"IDSS=12; // in mili-amperes\n",
"VP=-5; // in volts\n",
"// Plotting transfer curve\n",
"VGS=[0:-0.01:VP]; // Gate source voltage in volts\n",
"// Using Shockley's equation\n",
"ID=IDSS*(1-VGS/VP)^2; // Drain current in mili-amperes\n",
"plot(VGS,ID);\n",
"xtitle('Transfer Curve','VGS (V)','ID (mA)');"
   ]
   }
,
{
		   "cell_type": "markdown",
		   "metadata": {},
		   "source": [
			"## Example 7.2: NMOS_transistor.sce"
		   ]
		  },
  {
"cell_type": "code",
	   "execution_count": null,
	   "metadata": {
	    "collapsed": true
	   },
	   "outputs": [],
"source": [
"// Example 7.2: (a) Region of operation\n",
"//              (b) Region of operation  \n",
"//              (c) Region of operation\n",
"clc, clear\n",
"VT=2; // in volts\n",
"VGS=3; // in volts\n",
"disp(VGS-VT,'VGS - VT (V)');\n",
"\n",
"disp('Part (a)');\n",
"disp(0.5,'VDS (V) =');\n",
"disp('Since VDS < VGS - VT, therefore transistor is in ohmic region.');\n",
"\n",
"disp('Part (b)');\n",
"disp(1,'VDS (V) =');\n",
"disp('Since VDS = VGS - VT, therefore transistor is in saturation region.');\n",
"\n",
"disp('Part (c)');\n",
"disp(5,'VDS (V) =');\n",
"disp('Since VDS > VGS - VT, therefore transistor is in saturation region.');"
   ]
   }
,
{
		   "cell_type": "markdown",
		   "metadata": {},
		   "source": [
			"## Example 7.3: n_channel_JFET.sce"
		   ]
		  },
  {
"cell_type": "code",
	   "execution_count": null,
	   "metadata": {
	    "collapsed": true
	   },
	   "outputs": [],
"source": [
"// Example 7.3: IDQ, VDSQ\n",
"clc, clear\n",
"IDSS=12; // in mili-amperes\n",
"VP=-4; // in volts\n",
"// From Fig. 7.28\n",
"VDD=12; // in volts\n",
"RD=1.2; // in kilo-ohms\n",
"// Since IG=0\n",
"VGS=-1.5; // in volts\n",
"// Using Shockley's equation\n",
"ID=IDSS*(1-VGS/VP)^2; // Drain current in mili-amperes\n",
"VDS=VDD-ID*RD; // in volts\n",
"disp(ID,'IDQ (mA) =');\n",
"disp(VDS,'VDSQ (V) =');"
   ]
   }
,
{
		   "cell_type": "markdown",
		   "metadata": {},
		   "source": [
			"## Example 7.4: Self_bias_configuration.sce"
		   ]
		  },
  {
"cell_type": "code",
	   "execution_count": null,
	   "metadata": {
	    "collapsed": true
	   },
	   "outputs": [],
"source": [
"// Example 7.4: VDSQ, IDSQ, VD, VS\n",
"clc, clear\n",
"IDSS=6e-3; // in amperes\n",
"VP=-6; // in volts\n",
"// From Fig. 7.31\n",
"VDD=12; // in volts\n",
"RD=2.2e3; // in ohms\n",
"RS=1.6e3; // in ohms\n",
"// Plotting transfer characteristics\n",
"VGS=[0:-0.01:VP]; // Gate source voltage in volts\n",
"// Using Shockley's equation\n",
"ID=IDSS*(1-VGS/VP)^2; // Drain current in amperes\n",
"ID=ID*1e3; // Drain current in mili-amperes\n",
"plot(VGS,ID);\n",
"xtitle('Transfer Characteristics','VGS (V)','ID (mA)');\n",
"// Plotting bias line\n",
"// From gate source circuit\n",
"ID=-VGS/RS; // Source current in amperes\n",
"ID=ID*1e3; // Source current in mili-amperes\n",
"plot(VGS,ID,'RED');\n",
"// Intersection of transfer characteristics with the bias curve\n",
"// Putting VGS = -ID*RS in Shockley's equation and solving, we get ID^2*RS^2 + (2*RS*VP - VP^2/IDSS)*ID + VP^2\n",
"// Solving the equation\n",
"p_eq = poly([VP^2 (2*RS*VP-VP^2/IDSS) RS^2],'x','coeff');\n",
"p_roots= roots(p_eq);\n",
"IDQ=p_roots(1); // in amperes\n",
"// Writing the KVL for the output loop\n",
"VDSQ=VDD-IDQ*(RD+RS); // in volts\n",
"VS=IDQ*RS; // in volts\n",
"VD=VDSQ+VS; // in volts\n",
"IDQ=IDQ*1e3; // in mili-amperes\n",
"disp(VDSQ,'VDSQ (V) =');\n",
"disp(IDQ,'IDQ (mA) =');\n",
"disp(VD,'VD (V) =');\n",
"disp(VS,'VS (V) =');"
   ]
   }
,
{
		   "cell_type": "markdown",
		   "metadata": {},
		   "source": [
			"## Example 7.5: Operating_point.sce"
		   ]
		  },
  {
"cell_type": "code",
	   "execution_count": null,
	   "metadata": {
	    "collapsed": true
	   },
	   "outputs": [],
"source": [
"// Example 7.5: Operating point\n",
"clc, clear\n",
"VP=-5; // in volts\n",
"IDSS=12e-3; // in amperes\n",
"// From Fig. 7.34(a)\n",
"VDD=18; // in volts\n",
"R1=400; // in kilo-ohms\n",
"R2=90; // in kilo-ohms\n",
"RD=2e3; // in ohms\n",
"RS=2e3; // in ohms\n",
"// Applying Thevnin's theorem to obtain simplified circuit in Fig. 7.34(b)\n",
"VGG=VDD*R2/(R1+R2); // in volts\n",
"// Plotting transfer characteristics\n",
"VGS=[VGG:-0.01:VP]; // Gate source voltage in volts\n",
"// Using Shockley's equation\n",
"ID=IDSS*(1-VGS/VP)^2; // Drain current in amperes\n",
"ID=ID*1e3; // Drain current in mili-amperes\n",
"plot2d(VGS,ID,rect=[-5,0,3,12]);\n",
"xtitle('Transfer Characteristics','VGS (V)','ID (mA)');\n",
"// Plotting bias line\n",
"// From the KVL for the gate-loop\n",
"ID=(-VGS+VGG)/RS; // Source current in amperes\n",
"ID=ID*1e3; // Source current in mili-amperes\n",
"plot(VGS,ID,'RED');\n",
"// Intersection of transfer curve with the bias curve\n",
"// Putting VGS = VGG-ID*RS in Shockley's equation and solving, we get\n",
"// ID^2*RS^2 + (2*RS*VP - 2*VGG*RS - VP^2/IDSS)*ID + (VGG-VP)^2\n",
"// Solving the equation\n",
"p_eq = poly([(VGG-VP)^2 (2*RS*VP-2*VGG*RS-VP^2/IDSS) RS^2],'x','coeff');\n",
"p_roots= roots(p_eq);\n",
"IDQ=p_roots(1); // in amperes\n",
"// Writing the KVL for the drain source loop\n",
"VDSQ=VDD-IDQ*(RD+RS); // in volts\n",
"IDQ=IDQ*1e3; // in mili-amperes\n",
"disp(VDSQ,'VDSQ (V) =');\n",
"disp(IDQ,'IDQ (mA) =');"
   ]
   }
,
{
		   "cell_type": "markdown",
		   "metadata": {},
		   "source": [
			"## Example 7.6: n_channel_enhancement_type_MOSFET.sce"
		   ]
		  },
  {
"cell_type": "code",
	   "execution_count": null,
	   "metadata": {
	    "collapsed": true
	   },
	   "outputs": [],
"source": [
"// Example 7.6: VDSQ, IDQ\n",
"clc, clear\n",
"ID=6e-3; // in amperes\n",
"VGS=8; // in volts\n",
"VT=3; // in volts\n",
"// From Fig. 7.37(a)\n",
"VDD=12; // in volts\n",
"RD=2e3; // in ohms\n",
"// Plotting transfer curve\n",
"k=ID/(VGS-VT)^2; // in amperes per volt square\n",
"VGS=[3:0.01:VDD]; // Gate source voltage in volts\n",
"ID=k*(VGS-VT)^2; // Drain current in amperes ............ (i)\n",
"ID=ID*1e3; // Drain current in mili-amperes\n",
"plot(VGS,ID);\n",
"xtitle('Transfer Curve','VGS (V)','ID (mA)');\n",
"// Plotting bias line\n",
"// From the simplified dc equivalent circuit in Fig. 7.37(b)\n",
"VGS=[0:0.01:VDD]; // Gate source voltage in volts\n",
"ID=(VDD-VGS)/RD; // Source current in amperes\n",
"ID=ID*1e3; // Source current in mili-amperes\n",
"plot(VGS,ID,'RED');\n",
"// Intersection of transfer curve with the bias curve\n",
"// Putting VGS = VDD-ID*RD in equation (i) and solving, we get ID^2*RD^2 + (2*RD*VT - 2*VDD*RD - 1/k)*ID + (VDD-VT)^2\n",
"// Solving the equation\n",
"p_eq = poly([(VDD-VT)^2 (2*RD*VT-2*VDD*RD-1/k) RD^2],'x','coeff');\n",
"p_roots= roots(p_eq);\n",
"IDQ=p_roots(1); // in amperes\n",
"VGSQ=VDD-IDQ*RD; // in volts\n",
"IDQ=IDQ*1e3; // in mili-amperes\n",
"disp(VGSQ,'VDSQ (V) =');\n",
"disp(IDQ,'IDQ (mA) =');"
   ]
   }
,
{
		   "cell_type": "markdown",
		   "metadata": {},
		   "source": [
			"## Example 7.7: Operating_point_of_MOSFET.sce"
		   ]
		  },
  {
"cell_type": "code",
	   "execution_count": null,
	   "metadata": {
	    "collapsed": true
	   },
	   "outputs": [],
"source": [
"// Example 7.7: IDQ, VDSQ, VGSQ\n",
"clc, clear\n",
"ID=5e-3; // in amperes\n",
"VGS=6; // in volts\n",
"VT=3; // in volts\n",
"// From Fig. 7.39(a)\n",
"VDD=24; // in volts\n",
"R1=10; // in mega-ohms\n",
"R2=6.8; // in mega-ohms\n",
"RD=2.2e3; // in ohms\n",
"RS=0.75e3; // in ohms\n",
"// Applying Thevnin's theorem to obtain simplified circuit in Fig. 7.39(b)\n",
"VGG=VDD*R2/(R1+R2); // in volts\n",
"// Plotting transfer characteristics\n",
"k=ID/(VGS-VT)^2; // in amperes per volt square\n",
"VGS=[3:0.01:VGG]; // Gate source voltage in volts\n",
"ID=k*(VGS-VT)^2; // Drain current in amperes ............ (i)\n",
"ID=ID*1e3; // Drain current in mili-amperes\n",
"plot(VGS,ID);\n",
"xtitle('Transfer Characteristics','VGS (V)','ID (mA)');\n",
"// Plotting bias line\n",
"VGS=[0:0.01:VGG]; // Gate source voltage in volts\n",
"// Writing KVL for the gate-source loop\n",
"ID=(VGG-VGS)/RS; // Source current in amperes\n",
"ID=ID*1e3; // Source current in mili-amperes\n",
"plot(VGS,ID,'RED');\n",
"// Intersection of transfer curve with the bias curve\n",
"// Putting VGS = VGG-ID*RD in equation (i) and solving, we get ID^2*RS^2 + (2*RS*VT - 2*VGG*RS - 1/k)*ID + (VGG-VT)^2\n",
"// Solving the equation\n",
"p_eq = poly([(VGG-VT)^2 (2*RS*VT-2*VGG*RS-1/k) RS^2],'x','coeff');\n",
"p_roots= roots(p_eq);\n",
"IDQ=p_roots(1); // in amperes\n",
"VGSQ=VGG-IDQ*RS; // in volts\n",
"// From the output circuit\n",
"VDSQ=VDD-IDQ*(RD+RS); // in volts\n",
"IDQ=IDQ*1e3; // in mili-amperes\n",
"disp(IDQ,'IDQ (mA) =');\n",
"disp(VDSQ,'VDSQ (V) =');\n",
"disp(VGSQ,'VGSQ (V) =');"
   ]
   }
],
"metadata": {
		  "kernelspec": {
		   "display_name": "Scilab",
		   "language": "scilab",
		   "name": "scilab"
		  },
		  "language_info": {
		   "file_extension": ".sce",
		   "help_links": [
			{
			 "text": "MetaKernel Magics",
			 "url": "https://github.com/calysto/metakernel/blob/master/metakernel/magics/README.md"
			}
		   ],
		   "mimetype": "text/x-octave",
		   "name": "scilab",
		   "version": "0.7.1"
		  }
		 },
		 "nbformat": 4,
		 "nbformat_minor": 0
}
