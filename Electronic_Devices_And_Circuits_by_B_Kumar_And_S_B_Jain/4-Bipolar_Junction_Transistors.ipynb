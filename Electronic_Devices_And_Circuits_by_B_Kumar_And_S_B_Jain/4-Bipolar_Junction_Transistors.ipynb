{
"cells": [
 {
		   "cell_type": "markdown",
	   "metadata": {},
	   "source": [
       "# Chapter 4: Bipolar Junction Transistors"
	   ]
	},
{
		   "cell_type": "markdown",
		   "metadata": {},
		   "source": [
			"## Example 4.1: Value_of_Collector_Current.sce"
		   ]
		  },
  {
"cell_type": "code",
	   "execution_count": null,
	   "metadata": {
	    "collapsed": true
	   },
	   "outputs": [],
"source": [
"// Example 4.1: New value of Ic\n",
"clc, clear\n",
"VA=100; // Early voltage in volts\n",
"VCE_old=1; // in volts\n",
"Ic_old=1e-3; // in amperes\n",
"VCE_new=11; // in volts\n",
"ro=VA/Ic_old; // Output resistance in ohms\n",
"Ic_new=(VCE_new-VCE_old+Ic_old*ro)/ro; // in amperes\n",
"Ic_new=Ic_new*1e3; // in miliamperes\n",
"disp(Ic_new,'New value of Ic (mA) =');"
   ]
   }
,
{
		   "cell_type": "markdown",
		   "metadata": {},
		   "source": [
			"## Example 4.2: CE_transistor.sce"
		   ]
		  },
  {
"cell_type": "code",
	   "execution_count": null,
	   "metadata": {
	    "collapsed": true
	   },
	   "outputs": [],
"source": [
"// Example 4.2: Region of operation, All the node voltages and currents\n",
"clc, clear\n",
"betaf=100; // Current gain\n",
"disp('Let us assume that the transistor is in active region.');\n",
"VBE_active=0.7; // in volts\n",
"// From the equivalent circuit in Fig. 4.18(b)\n",
"VCC=10; // in volts\n",
"VBB=4; // in volts\n",
"RE=3.3e3; // in ohms\n",
"RC=5e3; // in ohms\n",
"VE=VBB-VBE_active; // in volts\n",
"// Writing KVL for base emitter loop and putting Ic= βF*Ib\n",
"IB=VE/((1+betaf)*RE); // in amperes\n",
"IB=IB*1e3; // in miliamperes\n",
"IC=betaf*IB; // in miliamperes\n",
"IE=IB+IC; // in miliamperes\n",
"VC=VCC-IC*RC*1e-3; // in volts\n",
"disp(VC,'VC (V) =');\n",
"disp(VE,'VE (V) =');\n",
"disp(VBB,'VB (V) =');\n",
"disp(IC,'IC (mA) =');\n",
"disp(IE,'IE (mA) =');\n",
"disp(IB,'IB (mA) =');\n",
"disp('Since the base is at 4 V and the collector is at 5.05 V, so the collector junction is reverse biased by 1.05 V. The transistor is indeed in forward active region as assumed.')"
   ]
   }
,
{
		   "cell_type": "markdown",
		   "metadata": {},
		   "source": [
			"## Example 4.3: CE_transistor.sce"
		   ]
		  },
  {
"cell_type": "code",
	   "execution_count": null,
	   "metadata": {
	    "collapsed": true
	   },
	   "outputs": [],
"source": [
"// Example 4.3: Region of operation, Node currents and voltages\n",
"clc, clear\n",
"betaf=100; // Current gain\n",
"disp('Let us assume that the transistor is in active region.');\n",
"VBE_active=0.7; // in volts\n",
"// From Fig. 4.19\n",
"VCC=10; // in volts\n",
"VBB=5; // in volts\n",
"RB=100e3; // in ohms\n",
"RE=2e3; // in ohms\n",
"RC=2e3; // in ohms\n",
"// Writing KVL to the base circuit and putting Ic= βF*Ib\n",
"IB=(VBB-VBE_active)/(RB+(1+betaf)*RE); // in amperes\n",
"IB=IB*1e3; // in miliamperes\n",
"IC=betaf*IB; // in miliamperes\n",
"IE=IB+IC; // in miliamperes\n",
"VB=VBB-IB*RB*1e-3; // in volts\n",
"VE=IE*RE*1e-3; // in volts\n",
"VC=VCC-IC*RC*1e-3; // in volts\n",
"disp(VC,'VC (V) =');\n",
"disp(VE,'VE (V) =');\n",
"disp(VB,'VB (V) =');\n",
"disp(IC,'IC (mA) =');\n",
"disp(IE,'IE (mA) =');\n",
"disp(IB,'IB (mA) =');\n",
"disp('Since base voltage VB is 3.6 V and collector is at 7.2 V, so collector-base junction is reverse biased by 3.6 V. Thus our assumption that the transistor is in active region is valid.')"
   ]
   }
,
{
		   "cell_type": "markdown",
		   "metadata": {},
		   "source": [
			"## Example 4.4: Region_of_Operation.sce"
		   ]
		  },
  {
"cell_type": "code",
	   "execution_count": null,
	   "metadata": {
	    "collapsed": true
	   },
	   "outputs": [],
"source": [
"// Example 4.4: Region of operation\n",
"clc, clear\n",
"betaf=100; // Current gain\n",
"disp('Let us assume that the transistor is in saturation region.');\n",
"VBE_sat=0.8; // in volts\n",
"VCE_sat=0.2; // in volts\n",
"// From Fig. 4.21\n",
"VCC=10; // in volts\n",
"VBB=5; // in volts\n",
"RB=50e3; // in ohms\n",
"RC=2e3; // in ohms\n",
"// From the base loop\n",
"IB=(VBB-VBE_sat)/RB; // in amperes\n",
"IB=IB*1e3; // in miliamperes\n",
"IC_sat=(VCC-VCE_sat)/RC; // in amperes\n",
"IC_sat=IC_sat*1e3; // in miliamperes\n",
"IB_min=IC_sat/betaf; // in miliamperes\n",
"disp(IB_min,'Minimum IB required to saturate the transistor (mA) =');\n",
"disp(IB,'IB in the circuit (mA) =');\n",
"disp('Since IB in the circuit is calculated as 0.084 mA, so it is greater than IB,min. Thus the transistor is indeed in saturation mode.')"
   ]
   }
,
{
		   "cell_type": "markdown",
		   "metadata": {},
		   "source": [
			"## Example 4.5: Saturation_region.sce"
		   ]
		  },
  {
"cell_type": "code",
	   "execution_count": null,
	   "metadata": {
	    "collapsed": true
	   },
	   "outputs": [],
"source": [
"// Example 4.5: Value of RB so as to drive the transistor into saturation\n",
"clc, clear\n",
"bta=50; // Current gain\n",
"VBE_sat=0.8; // in volts\n",
"VCE_sat=0.2; // in volts\n",
"// From Fig. 4.22\n",
"VCC=10; // in volts\n",
"VBB=5; // in volts\n",
"RC=1e3; // in ohms\n",
"IC_sat=(VCC-VCE_sat)/RC; // in amperes\n",
"IB_min=IC_sat/bta; // Minimum base current in amperes to saturate the transistor\n",
"// Then base current can be taken as\n",
"IB=10*IB_min; // in amperes\n",
"RB=(VBB-VBE_sat)/IB; // in ohms\n",
"RB=RB*1e-3; // in kilo-ohms\n",
"disp(RB,'Value of RB so as to drive the transistor into saturation (kΩ) =');"
   ]
   }
,
{
		   "cell_type": "markdown",
		   "metadata": {},
		   "source": [
			"## Example 4.6: Output_voltages.sce"
		   ]
		  },
  {
"cell_type": "code",
	   "execution_count": null,
	   "metadata": {
	    "collapsed": true
	   },
	   "outputs": [],
"source": [
"// Example 4.6: Vo1, Vo2\n",
"clc, clear\n",
"betaf=100; // Current gain\n",
"disp('Let us assume that the transistor is in active region.');\n",
"VBE_active=-0.7; // in volts\n",
"// From Fig. 4.23\n",
"VCC=-10; // in volts\n",
"VEE=10; // in volts\n",
"VBB=2.5; // in volts\n",
"RE=6.8e3; // in ohms\n",
"RB=100e3; // in ohms\n",
"RC=10e3; // in ohms\n",
"// Writing KVL for base-emitter circuit and putting Ic= βF*Ib\n",
"IB=(VEE-VBB+VBE_active)/(RB+(1+betaf)*RE); // in amperes\n",
"\n",
"IC=betaf*IB; // in amperes\n",
"IE=IB+IC; // in amperes\n",
"Vo1=VCC+IC*RC; // in volts\n",
"Vo2=VEE-IE*RE; // in volts\n",
"VB=VBB+IB*RB; // in volts\n",
"disp(Vo1,'Vo1 (V) =');\n",
"disp(Vo2,'Vo2 (V) =');\n",
"disp(VB,'Voltage at base (V) =')\n",
"disp('As base voltage, VB is 3.36 V and voltage at collector is -1.4 V, collector base junction is reverse biased. Thus the transistor is indeed in active region as assumed.')"
   ]
   }
,
{
		   "cell_type": "markdown",
		   "metadata": {},
		   "source": [
			"## Example 4.7: pnp_transistor.sce"
		   ]
		  },
  {
"cell_type": "code",
	   "execution_count": null,
	   "metadata": {
	    "collapsed": true
	   },
	   "outputs": [],
"source": [
"// Example 4.7: Value of RC to obtain VC = +5 V\n",
"clc, clear\n",
"betaf=50; // Current gain\n",
"disp('Let us assume that the transistor is in active region.');\n",
"disp('When current gain = 50')\n",
"VBE_active=-0.7; // in volts\n",
"// From Fig. 4.24\n",
"VC=5; // in volts\n",
"VEE=10; // in volts\n",
"RB=100e3; // in ohms\n",
"// Writing KVL for base circuit and putting Ic= βF*Ib\n",
"IB=(VEE+VBE_active)/RB; // in amperes\n",
"IC=IB*betaf; // in amperes\n",
"RC=VC/IC; // in ohms\n",
"RC=RC*1e-3; // in kilo-ohms\n",
"disp(RC,'Value of RC to obtain VC = +5 V (kΩ) =');\n",
"disp('When current gain = 100');\n",
"IC=IB*100; // in amperes\n",
"VC=IC*RC*1e3; // in volts\n",
"disp(VC,'Collector voltage (V) =');\n",
"disp('Since collector voltage is greater than the base voltage, the transistor goes into saturation as collector junction gets forward biased.');"
   ]
   }
,
{
		   "cell_type": "markdown",
		   "metadata": {},
		   "source": [
			"## Example 4.8: Solving_a_circuit_with_transistor.sce"
		   ]
		  },
  {
"cell_type": "code",
	   "execution_count": null,
	   "metadata": {
	    "collapsed": true
	   },
	   "outputs": [],
"source": [
"// Example 4.8: :Labelled voltages and currents\n",
"clc, clear\n",
"betaf=100; // Current gain\n",
"disp('Let us assume that the transistor is in active region.');\n",
"VBE_active=-0.7; // in volts\n",
"// From Fig. 4.25(a)\n",
"VCC=-10; // in volts\n",
"VEE=10; // in volts\n",
"RE=6.8e3; // in ohms\n",
"RC=10e3; // in ohms\n",
"R1=300e3; // in ohms\n",
"R2=180e3; // in ohms\n",
"// Applying Thevnin's theorem at point B\n",
"R_th=R1*R2/(R1+R2); // in ohms\n",
"V_th=VEE-(R2*(VEE-VCC)/(R1+R2)); // in volts\n",
"// From the Thevnin equivalent circuit in Fig. 4.25(b)\n",
"// Writing KVL for base-emitter circuit and putting Ic= βF*Ib\n",
"IB=(VEE-V_th+VBE_active)/(R_th+(1+betaf)*RE); // in amperes\n",
"IB=IB*1e3; // in miliamperes\n",
"IC=betaf*IB; // in miliamperes\n",
"IE=IB+IC; // in miliamperes\n",
"VC=VCC+IC*RC*1e-3; // in volts\n",
"VE=VEE-IE*RE*1e-3; // in volts\n",
"VB=V_th+IB*R_th*1e-3; // in volts\n",
"I1=(VEE-VB)/R2; // in amperes\n",
"I1=I1*1e3; // in miliamperes\n",
"I2=I1+IB; // in miliamperes\n",
"disp(IC,'IC (mA) =');\n",
"disp(IE,'IE (mA) =');\n",
"disp(IB,'IB (mA) =');\n",
"disp(I1,'I1 (mA) =');\n",
"disp(I2,'I2 (mA) =');\n",
"disp(VC,'VC (V) =');\n",
"disp(VE,'VE (V) =');\n",
"disp(VB,'VB (V) =');"
   ]
   }
],
"metadata": {
		  "kernelspec": {
		   "display_name": "Scilab",
		   "language": "scilab",
		   "name": "scilab"
		  },
		  "language_info": {
		   "file_extension": ".sce",
		   "help_links": [
			{
			 "text": "MetaKernel Magics",
			 "url": "https://github.com/calysto/metakernel/blob/master/metakernel/magics/README.md"
			}
		   ],
		   "mimetype": "text/x-octave",
		   "name": "scilab",
		   "version": "0.7.1"
		  }
		 },
		 "nbformat": 4,
		 "nbformat_minor": 0
}
