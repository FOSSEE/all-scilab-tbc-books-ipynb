{
"cells": [
 {
		   "cell_type": "markdown",
	   "metadata": {},
	   "source": [
       "# Chapter 13: Power Amplifiers and Voltage Regulators"
	   ]
	},
{
		   "cell_type": "markdown",
		   "metadata": {},
		   "source": [
			"## Example 13.1: Series_fed_amplifier.sce"
		   ]
		  },
  {
"cell_type": "code",
	   "execution_count": null,
	   "metadata": {
	    "collapsed": true
	   },
	   "outputs": [],
"source": [
"// Example 13.1: dc input power, ac output power, Efficiency\n",
"clc, clear\n",
"Ib=5e-3; // Base current in amperes\n",
"// From Fig. 13.8\n",
"RB=1.5e3; // in ohms\n",
"RC=16; // in ohms\n",
"bta=40;\n",
"VCC=18; // in volts\n",
"VBE=0.7; // in volts\n",
"IBQ=(VCC-VBE)/RB; // in amperes\n",
"ICQ=bta*IBQ; // in amperes\n",
"Pi_dc=VCC*ICQ; // dc input power in watts\n",
"Ic=bta*Ib; // in amperes\n",
"Po_ac=Ic^2*RC; // ac output power\n",
"eta=Po_ac*100/Pi_dc; // Efficiency in percentage\n",
"disp(Pi_dc,'dc input power (W) =');\n",
"disp(Po_ac,'ac output power (W) =');\n",
"disp(eta,'Efficiency (%) =');"
   ]
   }
,
{
		   "cell_type": "markdown",
		   "metadata": {},
		   "source": [
			"## Example 13.2: Transformer_turn_ratio.sce"
		   ]
		  },
  {
"cell_type": "code",
	   "execution_count": null,
	   "metadata": {
	    "collapsed": true
	   },
	   "outputs": [],
"source": [
"// Example 13.2: Transformer turns ratio\n",
"clc, clear\n",
"function[c]=parallel(a,b)\n",
"    c=a*b/(a+b);\n",
"endfunction\n",
"RL=parallel(parallel(16,16),parallel(16,16)); // in ohms\n",
"RL_dash=8e3; // in ohms\n",
"TR=sqrt(RL_dash/RL); // Transformer turns ratio\n",
"disp(TR,'Transformer turns ratio =');"
   ]
   }
,
{
		   "cell_type": "markdown",
		   "metadata": {},
		   "source": [
			"## Example 13.3: Class_A_amplifier.sce"
		   ]
		  },
  {
"cell_type": "code",
	   "execution_count": null,
	   "metadata": {
	    "collapsed": true
	   },
	   "outputs": [],
"source": [
"// Example 12.3: Efficiency\n",
"clc, clear\n",
"P_ac=2; // in watts\n",
"ICQ=150e-3; // in amperes\n",
"VCC=36; // in volts\n",
"P_dc=VCC*ICQ; // in watts\n",
"eta=P_ac*100/P_dc; // Efficiency in percentage\n",
"disp(eta,'Efficiency (%) =');"
   ]
   }
,
{
		   "cell_type": "markdown",
		   "metadata": {},
		   "source": [
			"## Example 13.4: Class_B_push_pull_amplifier.sce"
		   ]
		  },
  {
"cell_type": "code",
	   "execution_count": null,
	   "metadata": {
	    "collapsed": true
	   },
	   "outputs": [],
"source": [
"// Example 13.4: Maximum input power, Maximum ac output power, Maximum conversion efficiency, Maximum power dissipated by each transistor\n",
"clc, clear\n",
"VCC=15; // in volts\n",
"RL=8; // in ohms\n",
"P_dc=2*VCC^2/(%pi*RL); // Maximum input power in watts\n",
"P_ac=VCC^2/(2*RL); // Maximum ac output power in watts\n",
"eta=P_ac*100/P_dc; // Maximum efficiency in percentage\n",
"PD=2*VCC^2/(%pi^2*RL); // Maximum power dissipated in watts\n",
"PD_each=PD/2; // Maximum power dissipated by each transistor in watts\n",
"disp(P_dc,'Maximum input power (W) =');\n",
"disp(P_ac,'Maximum ac output power (W) =');\n",
"disp(eta,'Maximum conversion efficiency (%) =');\n",
"disp(PD_each,'Maximum power dissipated by each transistor (W) =');"
   ]
   }
,
{
		   "cell_type": "markdown",
		   "metadata": {},
		   "source": [
			"## Example 13.5: Class_B_output_stage.sce"
		   ]
		  },
  {
"cell_type": "code",
	   "execution_count": null,
	   "metadata": {
	    "collapsed": true
	   },
	   "outputs": [],
"source": [
"// Example 13.5: Supply voltage, Peak current drawn from each supply, Total supply power, Power conversion efficiency, Maximum power that each transistor can dissipate safely\n",
"clc, clear\n",
"P_ac=20; // Average power delivered in watts\n",
"RL=8; // Load in ohms\n",
"Vm=sqrt(2*P_ac*RL); // Peak output voltage in volts\n",
"VCC=Vm+5; // Supply voltage in volts\n",
"Im=Vm/RL; // Peak current drawn from each supply in amperes\n",
"P_dc=2*Im*VCC/%pi; // Total supply power in watts\n",
"eta=P_ac*100/P_dc; // Power conversion efficiency in percentage\n",
"PD=2*VCC^2/(%pi^2*RL); // Maximum power dissipated in watts\n",
"PD_each=PD/2; // Maximum power dissipated by each transistor in watts\n",
"disp(VCC,'Supply voltage (V) =');\n",
"disp(Im,'Peak current drawn from each supply (A) =');\n",
"disp(P_dc,'Total supply power (W) =');\n",
"disp(eta,'Power conversion efficiency (%) =');\n",
"disp(PD_each,'Maximum power that each transistor can dissipate safely (W) =');"
   ]
   }
,
{
		   "cell_type": "markdown",
		   "metadata": {},
		   "source": [
			"## Example 13.6: Thermal_considerations.sce"
		   ]
		  },
  {
"cell_type": "code",
	   "execution_count": null,
	   "metadata": {
	    "collapsed": true
	   },
	   "outputs": [],
"source": [
"// Example 13.6: Thermal resistance, Power rating at 70°C, Junction temperature at 100 mW\n",
"clc, clear\n",
"TAo=25; // in °C\n",
"PDo=200; // in mili-watts\n",
"Tj_max=150; // Maximum junction temperature in °C\n",
"T=70; // in °C\n",
"P=100; // in mili-watts\n",
"TA=50; // Ambient temperature in °C\n",
"theta=(Tj_max-TAo)/PDo; // Thermal resistance in °C per mili-watts\n",
"PR=(Tj_max-T)/theta; // Power rating at 70 °C in mili-watts\n",
"Tj=TA+theta*P; // Junction temperature at 100 mW in °C\n",
"disp(theta,'Thermal resistance (°C/mW) =');\n",
"disp(PR,'Power rating at 70 °C (mW) =');\n",
"disp(Tj,'Junction temperature at 100 mW (°C) =');"
   ]
   }
],
"metadata": {
		  "kernelspec": {
		   "display_name": "Scilab",
		   "language": "scilab",
		   "name": "scilab"
		  },
		  "language_info": {
		   "file_extension": ".sce",
		   "help_links": [
			{
			 "text": "MetaKernel Magics",
			 "url": "https://github.com/calysto/metakernel/blob/master/metakernel/magics/README.md"
			}
		   ],
		   "mimetype": "text/x-octave",
		   "name": "scilab",
		   "version": "0.7.1"
		  }
		 },
		 "nbformat": 4,
		 "nbformat_minor": 0
}
