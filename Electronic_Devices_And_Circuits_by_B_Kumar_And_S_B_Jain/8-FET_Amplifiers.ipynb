{
"cells": [
 {
		   "cell_type": "markdown",
	   "metadata": {},
	   "source": [
       "# Chapter 8: FET Amplifiers"
	   ]
	},
{
		   "cell_type": "markdown",
		   "metadata": {},
		   "source": [
			"## Example 8.1: Transconductance.sce"
		   ]
		  },
  {
"cell_type": "code",
	   "execution_count": null,
	   "metadata": {
	    "collapsed": true
	   },
	   "outputs": [],
"source": [
"// Example 8.1: gm\n",
"clc, clear\n",
"IDSS=12; // in mili-amperes\n",
"Vp=-5; // in volts\n",
"VGS=-1.5; // in volts\n",
"gmo=2*IDSS/abs(Vp); // in mili-Siemens\n",
"gm=gmo*(1-VGS/Vp); // in mili-Siemens\n",
"disp(gm,'gm (mS) =');"
   ]
   }
,
{
		   "cell_type": "markdown",
		   "metadata": {},
		   "source": [
			"## Example 8.2: Fixed_bias_CS_amplifier.sce"
		   ]
		  },
  {
"cell_type": "code",
	   "execution_count": null,
	   "metadata": {
	    "collapsed": true
	   },
	   "outputs": [],
"source": [
"// Example 8.2: Voltage gain\n",
"clc, clear\n",
"gm=2; // in mili-ampere per volt\n",
"rd=10; // in kilo-ohms\n",
"// From Fig. 8.7\n",
"RD_eff=10*10/(10+10); // in kilo-ohms\n",
"AV=-gm*rd*RD_eff/(rd+RD_eff); // Voltage gain\n",
"disp(AV,'Voltage gain =');"
   ]
   }
,
{
		   "cell_type": "markdown",
		   "metadata": {},
		   "source": [
			"## Example 8.3: Self_bias_CS_amplifier.sce"
		   ]
		  },
  {
"cell_type": "code",
	   "execution_count": null,
	   "metadata": {
	    "collapsed": true
	   },
	   "outputs": [],
"source": [
"// Example 8.3: gm, µ, Ri, Ro, AV\n",
"clc, clear\n",
"VGSQ=-2.6; // in volts\n",
"IDSS=8; // in mili-amperes\n",
"Vp=-6; // in volts\n",
"rd=50; // in kilo-ohms\n",
"// From Fig. 8.11\n",
"RD=3.3; // in kilo-ohms\n",
"RG=1; // in mega-ohms\n",
"RS=1; // in kilo-ohms\n",
"gmo=2*IDSS/abs(Vp); // in mili-ampere per volt\n",
"gm=gmo*(1-VGSQ/Vp); // in mili-ampere per volt\n",
"mu=rd*gm; // µ\n",
"Ro=(rd+(1+mu)*RS)*RD/(RD+rd+(1+mu)*RS); // in kilo-ohms\n",
"AV=-mu*RD/(RD+rd+(1+mu)*RS);\n",
"disp(gm,'gm (mA/V) =');\n",
"disp(mu,'µ =');\n",
"disp(RG,'Ri (MΩ) =');\n",
"disp(Ro,'Ro (kΩ) =');\n",
"disp(AV,'AV =');"
   ]
   }
,
{
		   "cell_type": "markdown",
		   "metadata": {},
		   "source": [
			"## Example 8.4: JFET_source_follower.sce"
		   ]
		  },
  {
"cell_type": "code",
	   "execution_count": null,
	   "metadata": {
	    "collapsed": true
	   },
	   "outputs": [],
"source": [
"// Example 8.4: AV, Ri, Ro\n",
"clc, clear\n",
"IDSS=16; // in mili-amperes\n",
"Vp=-4; // in volts\n",
"rd=40; // in kilo-ohms\n",
"// From Fig. 8.14\n",
"RS=2.2; // in kilo-ohms\n",
"// Using dc analysis\n",
"VGSQ=-2.8; // in volts\n",
"gmo=2*IDSS/abs(Vp); // in mili-ampere per volt\n",
"gm=gmo*(1-VGSQ/Vp); // in mili-ampere per volt\n",
"mu=rd*gm; // Amplification factor\n",
"AV=mu*RS/(rd+(1+mu)*RS);\n",
"Ri=10; // in mega-ohms\n",
"Ro=rd*RS/(rd+(1+mu)*RS); // in kilo-ohms\n",
"disp(AV,'AV =');\n",
"disp(Ri,'Ri (MΩ) =');\n",
"disp(Ro,'Ro (kΩ) =');"
   ]
   }
,
{
		   "cell_type": "markdown",
		   "metadata": {},
		   "source": [
			"## Example 8.5: Common_gate_JFET_amplifier.sce"
		   ]
		  },
  {
"cell_type": "code",
	   "execution_count": null,
	   "metadata": {
	    "collapsed": true
	   },
	   "outputs": [],
"source": [
"// Example 8.5: AV, Ri, Ro\n",
"clc, clear\n",
"VGSQ=-1.8; // in volts\n",
"rd=40; // in kilo-ohms\n",
"IDSS=8; // in mili-amperes\n",
"Vp=-2.8; // in volts\n",
"// From Fig. 8.16\n",
"RD=3.3; // in kilo-ohms\n",
"RS=1.5; // in kilo-ohms\n",
"gmo=2*IDSS/abs(Vp); // in mili-Siemens\n",
"gm=gmo*(1-VGSQ/Vp); // in mili-Siemens\n",
"mu=rd*gm; // Amplification factor\n",
"AV=(1+mu)*RD/(rd+RD);\n",
"Ri_dash=(RD+rd)/(1+mu); // in kilo-ohms\n",
"Ri=Ri_dash*RS/(Ri_dash+RS); // in kilo-ohms\n",
"Ro=rd*RD/(rd+RD);\n",
"disp(AV,'AV =');\n",
"disp(Ri,'Ri (kΩ) =');\n",
"disp(Ro,'Ro (kΩ) =');"
   ]
   }
,
{
		   "cell_type": "markdown",
		   "metadata": {},
		   "source": [
			"## Example 8.6: E_MOSFET_amplifier.sce"
		   ]
		  },
  {
"cell_type": "code",
	   "execution_count": null,
	   "metadata": {
	    "collapsed": true
	   },
	   "outputs": [],
"source": [
"// Example 8.6: gm, Ri, Ro, AV\n",
"clc, clear\n",
"VGSQ=8; // in volts\n",
"VT=3; // in volts\n",
"k=0.3e-3;\n",
"// From Fig. 8.18\n",
"RF=10e6; // in ohms\n",
"RD=2.2e3; // in ohms\n",
"gm=2*k*(VGSQ-VT); // in Siemens\n",
"Ri=RF/(1+gm*RD); // in ohms\n",
"Ro=RF*RD/(RF+RD); // in ohms\n",
"AV=-gm*Ro;\n",
"gm=gm*1e3; // in mili-Siemens\n",
"Ri=Ri*1e-6; // in mega-ohms\n",
"Ro=Ro*1e-3; // in kilo-ohms\n",
"disp(gm,'gm (mS) =');\n",
"disp(AV,'AV =');\n",
"disp(Ri,'Ri (MΩ) =');\n",
"disp(Ro,'Ro (kΩ) =');"
   ]
   }
],
"metadata": {
		  "kernelspec": {
		   "display_name": "Scilab",
		   "language": "scilab",
		   "name": "scilab"
		  },
		  "language_info": {
		   "file_extension": ".sce",
		   "help_links": [
			{
			 "text": "MetaKernel Magics",
			 "url": "https://github.com/calysto/metakernel/blob/master/metakernel/magics/README.md"
			}
		   ],
		   "mimetype": "text/x-octave",
		   "name": "scilab",
		   "version": "0.7.1"
		  }
		 },
		 "nbformat": 4,
		 "nbformat_minor": 0
}
