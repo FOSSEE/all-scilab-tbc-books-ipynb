{
"cells": [
 {
		   "cell_type": "markdown",
	   "metadata": {},
	   "source": [
       "# Chapter 2: The p n Junction Diode"
	   ]
	},
{
		   "cell_type": "markdown",
		   "metadata": {},
		   "source": [
			"## Example 2.11: Solving_a_circuit_with_diode.sce"
		   ]
		  },
  {
"cell_type": "code",
	   "execution_count": null,
	   "metadata": {
	    "collapsed": true
	   },
	   "outputs": [],
"source": [
"// Example 2.11 (a) Alternating component of voltage acroos load resistance\n",
"//              (b) Total voltage across load resistance\n",
"//              (c) Total current\n",
"clc, clear\n",
"T=293; // Operating temperature in kelvins\n",
"VT=T/11600; // Voltage equivalent to temperatue at room temperature in volts\n",
"// In the Fig. 2.21(a)\n",
"VAA=9; // in volts\n",
"Vm=0.2; // in volts\n",
"RL=2e3; // Load resistance in ohms\n",
"Vy=0.6; // Cut-in voltage in volts\n",
"Rf=10; // Forward resistance of diode in ohms\n",
"eta=2;\n",
"\n",
"disp('Part (a)')\n",
"// From DC model in Fig. 2.21(b)\n",
"IDQ=(VAA-Vy)/(RL+Rf); // DC current through diode or load resistance in amperes\n",
"rd=eta*VT/IDQ; // Dynamic resistance in ohms\n",
"// This dynamic resistance is used in AC model in Fig. 2.21(c)\n",
"Vom=Vm*RL/(RL+rd); // Amplitude of alternating component of the voltage across load resistance in volts\n",
"disp(Vom,'Amplitude of alternating component of the voltage across load resistance (V) =');\n",
"disp('Therefore, the alternating component of the voltage across load resistance is 0.199 sin ωt V');\n",
"\n",
"disp('Part (b)');\n",
"VDQ=IDQ*RL; // DC component of voltage across load resistance in volts\n",
"disp(VDQ,'DC component of voltage across load resistance (V) =');\n",
"disp('Therefore, total voltage across load resistance is (8.36 + 0.199 sin ωt) V');\n",
"\n",
"disp('Part (C)');\n",
"IDQ=IDQ*1e3; // DC current through load resistance in miliamperes\n",
"idm=Vm/(RL+rd); // Amplitude of alternating component of the current across load resistance in amperes\n",
"idm=idm*1e3; // Amplitude of alternating component of the current across load resistance in miliamperes\n",
"disp(IDQ,'DC component of current across load resistance (mA) =');\n",
"disp(idm,'Amplitude of alternating component of the current across load resistance (mA) =');\n",
"disp('Therefore, total current across load resistance is (4.18 + 0.099 sin ωt) mA');"
   ]
   }
,
{
		   "cell_type": "markdown",
		   "metadata": {},
		   "source": [
			"## Example 2.12: Diode_small_signal_model.sce"
		   ]
		  },
  {
"cell_type": "code",
	   "execution_count": null,
	   "metadata": {
	    "collapsed": true
	   },
	   "outputs": [],
"source": [
"//Example 2.12: (b) Vo\n",
"//              (c) I\n",
"clc, clear\n",
"\n",
"disp('Part (b)');\n",
"// In the Fig. 2.22 (a)\n",
"vs=10e-3; // in volts\n",
"Rs=1e3; // in ohms\n",
"eta=2;\n",
"VT=25e-3; // Voltage equivalent to temperatue at room temperature in volts\n",
"I=1e-3; // in amperes\n",
"Vo=vs*eta*VT/(eta*VT+I*Rs); // in volts\n",
"Vo=Vo*1e3; // in milivolts\n",
"disp(Vo,'Vo for I= 1 mA (mV) =');\n",
"I=0.1e-3; // in amperes\n",
"Vo=vs*eta*VT/(eta*VT+I*Rs); // in volts\n",
"Vo=Vo*1e3; // in milivolts\n",
"disp(Vo,'Vo for I= 0.1 mA (mV) =');\n",
"I=1e-6; // in amperes\n",
"Vo=vs*eta*VT/(eta*VT+I*Rs); // in volts\n",
"Vo=Vo*1e3; // in milivolts\n",
"disp(Vo,'Vo for I= 1 μA (mV) =');\n",
"\n",
"disp('Part (c)');\n",
"Vo=vs/2; // in volts\n",
"I=eta*VT*(vs-Vo)/(Vo*Rs); // in amperes\n",
"I=I*1e6; // in micro-amperes\n",
"disp(I,'I (μA) =');"
   ]
   }
,
{
		   "cell_type": "markdown",
		   "metadata": {},
		   "source": [
			"## Example 2.13: Barrier_capacitance.sce"
		   ]
		  },
  {
"cell_type": "code",
	   "execution_count": null,
	   "metadata": {
	    "collapsed": true
	   },
	   "outputs": [],
"source": [
"// Example 2.13: Barrier capacitance\n",
"clc, clear\n",
"A=1e-3*1e-3; // Area of p-n junction in metres square\n",
"W=2e-6; // Space charge thickness in metres\n",
"E=16; // Dielectric constant of Ge\n",
"Eo=1/(36*%pi*1e9); // Absolute permittivity of air\n",
"C=E*Eo*A/W; // Barrier capacitance in farads\n",
"C=C*1e12; // Barrier capacitance in pico-farads\n",
"disp(C,'Barrier capacitance (pF) =');"
   ]
   }
,
{
		   "cell_type": "markdown",
		   "metadata": {},
		   "source": [
			"## Example 2.14: Change_in_capacitance.sce"
		   ]
		  },
  {
"cell_type": "code",
	   "execution_count": null,
	   "metadata": {
	    "collapsed": true
	   },
	   "outputs": [],
"source": [
"// Example 2.14: (a) Change in capacitance\n",
"//               (b) Change in capacitance\n",
"clc, clear\n",
"C=4e-12; // Depletion capacitance in farads\n",
"V=4; // in volts\n",
"K=C*sqrt(V); // a constant\n",
"\n",
"disp('Part (a)');\n",
"V=4+0.5; // in volts\n",
"C_new=K/sqrt(V); // in farads\n",
"deltaC=C_new-C; // Change in capacitande in farads\n",
"deltaC=deltaC*1e12; // Change in capacitande in pico-farads\n",
"disp(deltaC,'Change in capacitance (pF) =');\n",
"\n",
"disp('Part (b)');\n",
"V=4-0.5; // in volts\n",
"C_new=K/sqrt(V); // in farads\n",
"deltaC=C_new-C; // Change in capacitande in farads\n",
"deltaC=deltaC*1e12; // Change in capacitande in pico-farads\n",
"disp(deltaC,'Change in capacitance (pF) =');"
   ]
   }
,
{
		   "cell_type": "markdown",
		   "metadata": {},
		   "source": [
			"## Example 2.18: Diffusion_length.sce"
		   ]
		  },
  {
"cell_type": "code",
	   "execution_count": null,
	   "metadata": {
	    "collapsed": true
	   },
	   "outputs": [],
"source": [
"// Example 2.18: Diffusion length\n",
"clc, clear\n",
"I=1e-3; // Forward bias current in amperes\n",
"C=1e-6; // Diffusion capacitance in farads\n",
"Dp=13; // Diffusion constant for Si\n",
"eta=2; // for Si\n",
"VT=26e-3; // Voltage equivalent to temperatue at room temperature in volts\n",
"Lp=sqrt(C*Dp*eta*VT/I); // Diffusion length in metres\n",
"Lp=Lp*1e2; // Diffusion length in centimetres\n",
"disp(Lp,'Diffusion length (cm) =');"
   ]
   }
,
{
		   "cell_type": "markdown",
		   "metadata": {},
		   "source": [
			"## Example 2.19: Two_diodes_in_series.sce"
		   ]
		  },
  {
"cell_type": "code",
	   "execution_count": null,
	   "metadata": {
	    "collapsed": true
	   },
	   "outputs": [],
"source": [
"// Example 2.19 (a) Vd1 and Vd2\n",
"//              (b) Current in the circuit\n",
"clc, clear\n",
"eta_VT=0.026; // Product of η and VT\n",
"\n",
"disp('Part (a)');\n",
"// From the Fig. 2.19(a)\n",
"Is=5e-6; // Reverse saturation current through diode D2 in amperes\n",
"Id1=Is; // Forward current through diode D1 in amperes\n",
"Vd1=eta_VT*log(1+(Id1/Is)); // in volts\n",
"Vd2=5-Vd1; // in volts\n",
"disp(Vd1,'Vd1 (V) =');\n",
"disp(Vd2,'Vd2 (V) =');\n",
"\n",
"disp('Part (b)');\n",
"// From the Fig. 2.19(b)\n",
"Vz=4.9; // Zener voltage in volts\n",
"Vd1=5-Vz; // in volts\n",
"I=Is*(%e^(Vd1/eta_VT)-1); // Current in the circuit in amperes\n",
"I=I*1e6; // Current in the circuit in micro-amperes\n",
"disp(I,'Current in the circuit (μA) =');"
   ]
   }
,
{
		   "cell_type": "markdown",
		   "metadata": {},
		   "source": [
			"## Example 2.1: Ideal_diodes.sce"
		   ]
		  },
  {
"cell_type": "code",
	   "execution_count": null,
	   "metadata": {
	    "collapsed": true
	   },
	   "outputs": [],
"source": [
"// Example 2.1: (a) I,Vo\n",
"//              (b) I,Vo\n",
"clc, clear\n",
"\n",
"disp('Part (a)');\n",
"// Applying Thevnin's theorem at XX', in Fig. 2.5(a)\n",
"Vth=15*20e3/(10e3+20e3); // Thevnin equivalent voltage in volts\n",
"Zth=10e3*20e3/(10e3+20e3); // Thevnin equivalent resistance in ohms\n",
"// From the figure 2.5(c)\n",
"I=Vth/(Zth+20e3); // Labelled current in amperes\n",
"Vo=I*20e3; // Labelled voltage in volts\n",
"I=I*1e3; // Labelled current in miliamperes\n",
"disp(I,'Labelled current I (mA) = ');\n",
"disp(Vo,'Labelled voltage Vo (V) = ');\n",
"\n",
"disp('Part (b)');\n",
"// Applying Thevnin's theorem at XX' and YY', in Fig. 2.5(b)\n",
"Vth1=15*10e3/(10e3+10e3); // Thevnin equivalent voltage at XX' in volts\n",
"Zth1=10e3*10e3/(10e3+10e3); // Thevnin equivalent resistance at YY' in ohms\n",
"Vth2=5; // Thevnin equivalent voltage at YY' in volts\n",
"Zth2=5e3; // Thevnin equivalent resistance at YY' in ohms\n",
"// From the figure 2.5(d)\n",
"I=0; // Labelled current in amperes\n",
"Vo=5-7.5; // Labelled voltage in volts\n",
"disp(I,'Labelled current I = ');\n",
"disp(Vo,'Labelled voltage Vo (V) = ');"
   ]
   }
,
{
		   "cell_type": "markdown",
		   "metadata": {},
		   "source": [
			"## Example 2.2: Change_in_diode_voltage.sce"
		   ]
		  },
  {
"cell_type": "code",
	   "execution_count": null,
	   "metadata": {
	    "collapsed": true
	   },
	   "outputs": [],
"source": [
"// Example 2.2: Change in diode voltage\n",
"clc, clear\n",
"ID1=1; // Let the initial diode current be 1 A\n",
"ID2=15*ID1; // Final diode current\n",
"VT=25e-3; // Voltage equivalent to temperatue at room temperature in volts\n",
"eta=1; // for Ge\n",
"deltaVD=eta*VT*log(ID2/ID1); // Change in diode voltage in volts\n",
"deltaVD=deltaVD*1e3; // Change in diode voltage in milivolts\n",
"disp(deltaVD,'Change in diode voltage (for Ge) (mV) = ');\n",
"eta=2; // for Si\n",
"deltaVD=eta*VT*log(ID2/ID1); // Change in diode voltage in volts\n",
"deltaVD=deltaVD*1e3; // Change in diode voltage in milivolts\n",
"disp(deltaVD,'Change in diode voltage (for Si) (mV) = ');"
   ]
   }
,
{
		   "cell_type": "markdown",
		   "metadata": {},
		   "source": [
			"## Example 2.3: Germanium_diode.sce"
		   ]
		  },
  {
"cell_type": "code",
	   "execution_count": null,
	   "metadata": {
	    "collapsed": true
	   },
	   "outputs": [],
"source": [
"// Example 2.3: (a) Voltage\n",
"//              (b) Ratio of current in forward bias to that in reverse bias\n",
"//              (c) Forward current\n",
"clc, clear\n",
"\n",
"disp('Part (a)');\n",
"eta=1; // for Ge\n",
"T=300; // Room temperature in kelvins\n",
"VT=T/11600; // Voltage equivalent to temperatue at room temperature in volts\n",
"IS=1; // Let reverse saturation current be 1 A\n",
"I=-0.9*IS; // Reverse current\n",
"V=eta*VT*log(1+(I/IS)); // Voltagei in volts\n",
"V=V*1e3; // Voltage in milivolts\n",
"disp(V,'Voltage (mV) = ');\n",
"\n",
"disp('Part (b)');\n",
"V=0.05; // Voltage in volts\n",
"If_Ir=(%e^(V/(eta*VT))-1)/(%e^(-V/(eta*VT))-1); // Ratio of current in forward bias to that in reverse bias\n",
"disp(If_Ir,'Ratio of current in forward bias to that in reverse bias = ');\n",
"\n",
"disp('Part (c)');\n",
"IS=10e-6; // Reverse saturation current in amperes\n",
"V=0.1; // Voltage in volts\n",
"ID=IS*(%e^(V/(eta*VT))-1); // Forward current for 0.1 V in amperes\n",
"ID=ID*1e6; // Forward current for 0.1 V in micro-amperes\n",
"disp(ID,'Forward current for 0.1 V (μA) = ');\n",
"V=0.2; // Voltage in volts\n",
"ID=IS*(%e^(V/(eta*VT))-1); // Forward current for 0.1 V in amperes\n",
"ID=ID*1e3; // Forward current for 0.1 V in miliamperes\n",
"disp(ID,'Forward current for 0.1 V (mA) = ');\n",
"V=0.3; // Voltage in volts\n",
"ID=IS*(%e^(V/(eta*VT))-1); // Forward current for 0.1 V in amperes\n",
"disp(ID,'Forward current for 0.1 V (A) = ');"
   ]
   }
,
{
		   "cell_type": "markdown",
		   "metadata": {},
		   "source": [
			"## Example 2.4: Diode_current.sce"
		   ]
		  },
  {
"cell_type": "code",
	   "execution_count": null,
	   "metadata": {
	    "collapsed": true
	   },
	   "outputs": [],
"source": [
"// Example 2.4 (a) Current\n",
"//             (b) Current\n",
"//             (C) Current\n",
"clc, clear\n",
"IS=10e-6; // Reverse saturation current in amperes\n",
"eta=1; // for Ge\n",
"VT=25e-3; // Voltage equivalent to temperatue at room temperature in volts\n",
"\n",
"disp('Part (a)');\n",
"VD=-24; // Reverse bias in volts\n",
"ID=IS*(%e^(VD/(eta*VT))-1); // Current in amperes\n",
"ID=ID*1e6; // Current in micro-amperes\n",
"disp(ID,'Current (μA) = ');\n",
"\n",
"disp('Part (b)');\n",
"VD=-0.02; // Reverse bias in volts\n",
"ID=IS*(%e^(VD/(eta*VT))-1); // Current in amperes\n",
"ID=ID*1e6; // Current in micro-amperes\n",
"disp(ID,'Current (μA) = ');\n",
"\n",
"disp('Part (c)');\n",
"VD=0.3; // Forward bias in volts\n",
"ID=IS*(%e^(VD/(eta*VT))-1); // Current in amperes\n",
"disp(ID,'Current (A) = ');"
   ]
   }
,
{
		   "cell_type": "markdown",
		   "metadata": {},
		   "source": [
			"## Example 2.5: Change_in_diode_voltage.sce"
		   ]
		  },
  {
"cell_type": "code",
	   "execution_count": null,
	   "metadata": {
	    "collapsed": true
	   },
	   "outputs": [],
"source": [
"// Example 2.2: Change in diode voltage\n",
"clc, clear\n",
"T=300; // Operating temperature in kelvins\n",
"VT=T/11600; // Voltage equivalent to temperatue at room temperature in volts\n",
"ID1=1; // Let the initial diode current be 1 A\n",
"ID2=10*ID1; // Final diode current\n",
"eta=1; // for Ge\n",
"deltaVD=eta*VT*log(ID2/ID1); // Change in diode voltage in volts\n",
"deltaVD=deltaVD*1e3; // Change in diode voltage in milivolts\n",
"disp(deltaVD,'Change in diode voltage (for Ge) (mV) = ');\n",
"eta=2; // for Si\n",
"deltaVD=eta*VT*log(ID2/ID1); // Change in diode voltage in volts\n",
"deltaVD=deltaVD*1e3; // Change in diode voltage in milivolts\n",
"disp(deltaVD,'Change in diode voltage (for Si) (mV) = ');"
   ]
   }
,
{
		   "cell_type": "markdown",
		   "metadata": {},
		   "source": [
			"## Example 2.6: Value_of_R.sce"
		   ]
		  },
  {
"cell_type": "code",
	   "execution_count": null,
	   "metadata": {
	    "collapsed": true
	   },
	   "outputs": [],
"source": [
"// Example 2.6: R\n",
"clc, clear\n",
"// In the circuit given in Fig. 2.7\n",
"V=50e-3; // Output voltage\n",
"VD1=0.7; // Voltage across diode 1 in volts\n",
"I1=10e-3; // Current through diode 1 at 0.7 V in amperes\n",
"VD2=0.8; // Voltage across diode 2 in volts\n",
"I2=100e-3; // Current through diode 2 at 0.8 V in amperes\n",
"eta_VT=(VD2-VD1)/log(I2/I1); // Product of η and VT\n",
"I=10e-3/(%e^(V/eta_VT)+1); // Current through diode 1 in amperes\n",
"R=V/I;\n",
"disp(R,'R (Ω) = ');"
   ]
   }
,
{
		   "cell_type": "markdown",
		   "metadata": {},
		   "source": [
			"## Example 2.7: Solving_a_circuit_with_diode.sce"
		   ]
		  },
  {
"cell_type": "code",
	   "execution_count": null,
	   "metadata": {
	    "collapsed": true
	   },
	   "outputs": [],
"source": [
"// Example 2.7: Current, Diode voltage\n",
"clc, clear\n",
"VDD=5; // Applied voltage in volts\n",
"VD=0.7; // Diode voltage in volts\n",
"I1=1e-3; // Current in amperes at diode voltage = 0.7 V\n",
"R=1000; // R in ohms\n",
"deltaVD=0.1; // Change in diode voltage in volts for every decade change in current\n",
"ratioI=10; // Decade change in current\n",
"eta_VT=deltaVD/log(ratioI); // Product of η and VT\n",
"ID=(VDD-VD)/R; // Diode current in amperes\n",
"VD2=VD+eta_VT*log(ID/I1); // Diode voltage in volts\n",
"ID=ID*1e3; // Diode current in miliamperes\n",
"disp(ID,'Diode current (mA) = ');\n",
"disp(VD2,'Diode voltage (v) = ');"
   ]
   }
,
{
		   "cell_type": "markdown",
		   "metadata": {},
		   "source": [
			"## Example 2.8: Output_voltage.sce"
		   ]
		  },
  {
"cell_type": "code",
	   "execution_count": null,
	   "metadata": {
	    "collapsed": true
	   },
	   "outputs": [],
"source": [
"// Example 2.8: (a) Output voltage\n",
"//              (b) Output voltage\n",
"//              (c) Output voltage\n",
"clc, clear\n",
"\n",
"disp('Part (a)');\n",
"// Since both the diodes are in OFF state\n",
"Vo=5; // Output voltage in volts\n",
"disp(Vo,'Output voltage (V) = ');\n",
"\n",
"disp('Part (b)');\n",
"//Since diode D1 is in OFF state and diode D2 is in ON state\n",
"// From Fig. 2.16(C)\n",
"I=(5-0.6)/(4.7e3+300); // Current flowing through the diode D2 in amperes\n",
"Vo=5-I*4.7e3; // Output voltage in volts\n",
"disp(Vo,'Output voltage (V) = ');\n",
"\n",
"disp('Part (c)');\n",
"// Since both diodes are in ON state\n",
"// Applying KVL in Fig. 2.16(d)\n",
"I=(5-0.6)/(2*4.7e3+300); // Current flowing through diode D1 or diode D2 in amperes\n",
"Vo=5-2*I*4.7e3; // Output voltage in volts\n",
"disp(Vo,'Output voltage (V) = ');"
   ]
   }
,
{
		   "cell_type": "markdown",
		   "metadata": {},
		   "source": [
			"## Example 2.9: Circuit_parameters.sce"
		   ]
		  },
  {
"cell_type": "code",
	   "execution_count": null,
	   "metadata": {
	    "collapsed": true
	   },
	   "outputs": [],
"source": [
"// Example 2.9 (a) Output voltage, Diode currents\n",
"//             (b) Output voltage, Diode currents\n",
"clc, clear\n",
"Vy=0.7; // Cut-in voltage in volts\n",
"// In the Fig. 2.17\n",
"R1=5e3;\n",
"R2=10e3;\n",
"\n",
"disp('Part (a)');\n",
"// Since diode D1 is OFF and diode D2 is ON\n",
"ID2=(5-Vy-(-5))/(R1+R2); // Current through diode D2 in amperes\n",
"Vo=5-ID2*R1; // Output voltage\n",
"ID2=ID2*1e3; // Current through diode D2 in miliamperes\n",
"disp(Vo,'Output voltage (V) =');\n",
"disp(0,'Current through diode D1 =');\n",
"disp(ID2,'Current through diode D2 (mA) =');\n",
"\n",
"disp('Part (b)');\n",
"// Since both the diodes are ON\n",
"VA=4-Vy; // In the fig.\n",
"Vo=VA+Vy; // Output voltage\n",
"ID2=(5-Vo)/R1; // Current through diode D2 in amperes\n",
"IR2=(VA-(-5))/R2; // Current through diode R2 in amperes\n",
"ID1=IR2-ID2; // Current through diode D1 in amperes\n",
"ID1=ID1*1e3; // Current through diode D1 in miliamperes\n",
"ID2=ID2*1e3; // Current through diode D2 in miliamperes\n",
"disp(Vo,'Output voltage (V) =');\n",
"disp(ID1,'Current through diode D1 (mA) =');\n",
"disp(ID2,'Current through diode D2 (mA) =');"
   ]
   }
],
"metadata": {
		  "kernelspec": {
		   "display_name": "Scilab",
		   "language": "scilab",
		   "name": "scilab"
		  },
		  "language_info": {
		   "file_extension": ".sce",
		   "help_links": [
			{
			 "text": "MetaKernel Magics",
			 "url": "https://github.com/calysto/metakernel/blob/master/metakernel/magics/README.md"
			}
		   ],
		   "mimetype": "text/x-octave",
		   "name": "scilab",
		   "version": "0.7.1"
		  }
		 },
		 "nbformat": 4,
		 "nbformat_minor": 0
}
