{
"cells": [
 {
		   "cell_type": "markdown",
	   "metadata": {},
	   "source": [
       "# Chapter 12: Oscillators"
	   ]
	},
{
		   "cell_type": "markdown",
		   "metadata": {},
		   "source": [
			"## Example 12.1: Phase_shift_oscillator.sce"
		   ]
		  },
  {
"cell_type": "code",
	   "execution_count": null,
	   "metadata": {
	    "collapsed": true
	   },
	   "outputs": [],
"source": [
"// Example 12.1: (a) RD\n",
"//               (b) Product RC\n",
"//               (c) Reasonable value of R and C\n",
"clc, clear\n",
"fo=8e3; // in hertz\n",
"mu=59;\n",
"rd=10; // in kilo-ohms\n",
"\n",
"disp('Part (a)');\n",
"RD=29*rd/(mu-29); // in kilo-ohms\n",
"disp(RD,'RD (kΩ​) =');\n",
"\n",
"disp('Part (b)');\n",
"RC=1/(2*%pi*fo*sqrt(6)); // in seconds\n",
"RC=RC*1e6; // in micro-seconds\n",
"disp(RC,'Product RC (µs) =');\n",
"\n",
"disp('Part (c)');\n",
"R=50; // in kilo-ohms\n",
"C=RC/R; // in nano-farad\n",
"C=C*1e3; // in pico-farad\n",
"disp(R,'Reasonable value of R (kΩ​) =');\n",
"disp(C,'Reasonable value of C (pF) =');"
   ]
   }
,
{
		   "cell_type": "markdown",
		   "metadata": {},
		   "source": [
			"## Example 12.2: Wien_Bridge_oscillator.sce"
		   ]
		  },
  {
"cell_type": "code",
	   "execution_count": null,
	   "metadata": {
	    "collapsed": true
	   },
	   "outputs": [],
"source": [
"// Example 12.2: Designing a Wein Bridge Oscillator\n",
"clc, clear\n",
"fo=2e3; // in hertz\n",
"R=10; // in kilo-ohms\n",
"C=1/(2*%pi*fo*R*1e3); // in farads\n",
"C=C*1e9; // in nano-farads\n",
"disp(R,'R1 (kΩ​) =');\n",
"disp(R,'R2 (kΩ​) =');\n",
"disp(2*R,'R3 (kΩ​) =');\n",
"disp(R,'R4 (kΩ​) =');\n",
"disp(C,'C1 (nF) =');\n",
"disp(C,'C2 (nF) =');"
   ]
   }
,
{
		   "cell_type": "markdown",
		   "metadata": {},
		   "source": [
			"## Example 12.3: Hartley_oscillator.sce"
		   ]
		  },
  {
"cell_type": "code",
	   "execution_count": null,
	   "metadata": {
	    "collapsed": true
	   },
	   "outputs": [],
"source": [
"// Example 12.3: Range of capacitance\n",
"clc, clear\n",
"L1=2e-3; // in henry\n",
"L2=1.5e-3; // in henry\n",
"fmin=1000e3; // in hertz\n",
"fmax=2000e3; // in hertz\n",
"Cmin=1/((2*%pi*fmax)^2*(L1+L2)); // in farads\n",
"Cmax=1/((2*%pi*fmin)^2*(L1+L2)); // in farads\n",
"Cmin=Cmin*1e12; // in pico-farads\n",
"Cmax=Cmax*1e12; // in pico-farads\n",
"disp(Cmin,'Minimum value of C (pF) =');\n",
"disp(Cmax,'Maximum value of C (pF) =');"
   ]
   }
],
"metadata": {
		  "kernelspec": {
		   "display_name": "Scilab",
		   "language": "scilab",
		   "name": "scilab"
		  },
		  "language_info": {
		   "file_extension": ".sce",
		   "help_links": [
			{
			 "text": "MetaKernel Magics",
			 "url": "https://github.com/calysto/metakernel/blob/master/metakernel/magics/README.md"
			}
		   ],
		   "mimetype": "text/x-octave",
		   "name": "scilab",
		   "version": "0.7.1"
		  }
		 },
		 "nbformat": 4,
		 "nbformat_minor": 0
}
