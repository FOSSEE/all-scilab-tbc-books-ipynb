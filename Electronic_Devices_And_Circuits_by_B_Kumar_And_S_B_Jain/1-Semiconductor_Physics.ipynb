{
"cells": [
 {
		   "cell_type": "markdown",
	   "metadata": {},
	   "source": [
       "# Chapter 1: Semiconductor Physics"
	   ]
	},
{
		   "cell_type": "markdown",
		   "metadata": {},
		   "source": [
			"## Example 1.1: Electron_concentration.sce"
		   ]
		  },
  {
"cell_type": "code",
	   "execution_count": null,
	   "metadata": {
	    "collapsed": true
	   },
	   "outputs": [],
"source": [
"// Example 1.1: Electron concentration\n",
"clc, clear\n",
"V=0.1; // Voltage in volts\n",
"I=5e-3; // Current in ampere\n",
"l_a=7e8; // Length to cross-sectional area ratio in metre inverse\n",
"mu=0.05; // Electron mobility in metre square per volt second\n",
"q=1.6e-19; // Charge on an electron in coulombs\n",
"n=(l_a*I)/(V*q*mu); //Electron concentration in inverse metres cube\n",
"n=n*1e-6; //Electron concentration in inverse centimetres cube\n",
"disp(n,'Electon concentration (cm^-3) = ');"
   ]
   }
,
{
		   "cell_type": "markdown",
		   "metadata": {},
		   "source": [
			"## Example 1.2: Intrinsic_Silicon.sce"
		   ]
		  },
  {
"cell_type": "code",
	   "execution_count": null,
	   "metadata": {
	    "collapsed": true
	   },
	   "outputs": [],
"source": [
"// Example 1.2: Electric field intensity, Voltage\n",
"clc, clear\n",
"l=3e-3; // Length of the bar in metres\n",
"a=50*10*1e-12; // Cross-sectional area in metres square\n",
"I=2e-6; // Current in amperes\n",
"rho=2.3e3; // Resistivity in ohm metres\n",
"E=I*rho/a; // Electric field intensity in volt per metres\n",
"V=E*l; // Voltage across the bar in volt\n",
"disp(E,'Electic field intensity (V/m) = ');\n",
"disp(V,'Voltage across the bar (V) = ');"
   ]
   }
,
{
		   "cell_type": "markdown",
		   "metadata": {},
		   "source": [
			"## Example 1.3: Extrinsic_n_type_Silicon.sce"
		   ]
		  },
  {
"cell_type": "code",
	   "execution_count": null,
	   "metadata": {
	    "collapsed": true
	   },
	   "outputs": [],
"source": [
"// Example 1.3: Electron concentration, Hole concentration, Conductivity, Voltage\n",
"clc, clear\n",
"l=3e-3; // Length on Si sample in metres\n",
"a=5e-9; // Cross-sectional area of Si sample in metres square\n",
"ND=5e20; // Donor concentration in inverse metres cube\n",
"I=2e-6; // Current flowing through the bar in amperes\n",
"ni=1.45e16; // Intrinsic carrier concentration in inverse metres cube\n",
"mu_n=0.15; // Mobility of electrons in metres square per volt second\n",
"q=1.6e-19; // Charge on an electron in coulombs\n",
"n=ND; // Electron concentration in inverese metres cube\n",
"p=ni*ni/n; // Hole concentration in inverese metres cube\n",
"sigma=q*n*mu_n;  // Conductivity of Si sample in inverse ohm metres\n",
"V=(I*l)/(a*sigma); // Voltage across the bar in volts\n",
"n=n*1e-6; // Electron concentration in inverese centimetres cube\n",
"p=p*1e-6; // Hole concentration in inverese centimetres cube\n",
"sigma=sigma*0.01; // Conductivity of Si sample in inverse ohm centimetres\n",
"disp(n,'Electron concentration (cm^-3) = ');\n",
"disp(p,'Hole concentration (cm^-3) = ');\n",
"disp(sigma,'Conductivity of Si sample (ohm^-1 cm^-1) = ');\n",
"disp(V,'Voltage across the bar (V) = ');"
   ]
   }
,
{
		   "cell_type": "markdown",
		   "metadata": {},
		   "source": [
			"## Example 1.4: Contact_difference_of_potential.sce"
		   ]
		  },
  {
"cell_type": "code",
	   "execution_count": null,
	   "metadata": {
	    "collapsed": true
	   },
	   "outputs": [],
"source": [
"// Example 1.4: Contact difference of potential\n",
"clc, clear\n",
"N=5e22; // Number of acceptor or donor atoms per metres cube of step graded p-n junction\n",
"ni=1.45e16; // Intrinsic carrier concentration in inverse metres cube\n",
"VT=25e-3; // Voltage equivalent to temperatue at room temperature in volts\n",
"Vo=VT*log(N^2/ni^2); // Contact difference of potential in volts\n",
"Vo=Vo*1e3; // Contact difference of potential in milivolts\n",
"disp(Vo,'Contact difference of potential (mV) = ');"
   ]
   }
,
{
		   "cell_type": "markdown",
		   "metadata": {},
		   "source": [
			"## Example 1.7: Potential_barrier.sce"
		   ]
		  },
  {
"cell_type": "code",
	   "execution_count": null,
	   "metadata": {
	    "collapsed": true
	   },
	   "outputs": [],
"source": [
"// Example 1.7: Potential barrier\n",
"clc, clear\n",
"rho_p=0.05; // Resistivity of p side of step-graded junction in ohm metres\n",
"rho_n=0.025; // Resistivity of n side of step-graded junction in ohm metres\n",
"mu_p=475e-4; // Mobility of holes in metres square per volt second\n",
"mu_n=1500e-4; // Mobility of holes in metres square per volt second\n",
"ni=1.45e16; // Intrinsic carrier concentration in atoms per metres cube\n",
"q=1.6e-19; // Charge on an electron in coulombs\n",
"VT=25e-3; // Voltage equivalent to temperatue at room temperature in volts\n",
"NA=1/(q*mu_p*rho_p); // Acceptor concentration in atoms per metres cube\n",
"ND=1/(q*mu_n*rho_n); // Donor concentration in atoms per metres cube\n",
"Vo=VT*log(NA*ND/ni^2); // Contact difference of potential in volts\n",
"Vo=Vo*1e3; // Contact difference of potential in milivolts\n",
"disp(Vo,'Contact difference of potential (mV) = ');"
   ]
   }
],
"metadata": {
		  "kernelspec": {
		   "display_name": "Scilab",
		   "language": "scilab",
		   "name": "scilab"
		  },
		  "language_info": {
		   "file_extension": ".sce",
		   "help_links": [
			{
			 "text": "MetaKernel Magics",
			 "url": "https://github.com/calysto/metakernel/blob/master/metakernel/magics/README.md"
			}
		   ],
		   "mimetype": "text/x-octave",
		   "name": "scilab",
		   "version": "0.7.1"
		  }
		 },
		 "nbformat": 4,
		 "nbformat_minor": 0
}
