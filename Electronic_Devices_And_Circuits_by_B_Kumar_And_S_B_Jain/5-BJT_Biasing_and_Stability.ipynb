{
"cells": [
 {
		   "cell_type": "markdown",
	   "metadata": {},
	   "source": [
       "# Chapter 5: BJT Biasing and Stability"
	   ]
	},
{
		   "cell_type": "markdown",
		   "metadata": {},
		   "source": [
			"## Example 5.10: Self_bias_circuit.sce"
		   ]
		  },
  {
"cell_type": "code",
	   "execution_count": null,
	   "metadata": {
	    "collapsed": true
	   },
	   "outputs": [],
"source": [
"// Example 5.10: (i) S(ICO) for RB/RE=10 and change in IC\n",
"//              (ii) S(VBE) for RB = 240 kΩ, RE = 1 kΩ and change in IC\n",
"clc, clear\n",
"bta=100;\n",
"\n",
"disp('Part (i)');\n",
"RB_RE=10; // RB/RE\n",
"S_ICO=(1+bta)*(1+RB_RE)/(1+bta+RB_RE);\n",
"// From Table 5.1\n",
"del_ICO=(20-0.1)*1e-9; // in amperes\n",
"del_IC=S_ICO*del_ICO; // in amperes\n",
"del_IC=del_IC*1e6; // in micro-amperes\n",
"disp(S_ICO,'S(ICO) for RB/RE=10');\n",
"disp(del_IC,'Change in IC (μA) =');\n",
"\n",
"disp('Part (ii)');\n",
"RB=240e3; // in kilo-ohms\n",
"RE=1e3; // in kilo-ohms\n",
"S_VBE=-bta/(RB+(1+bta)*RE);\n",
"// From Table 5.1\n",
"del_VBE=0.48-0.65; // in volts\n",
"del_IC=S_VBE*del_VBE; // in amperes\n",
"del_IC=del_IC*1e6; // in micro-amperes\n",
"disp(S_VBE,'S(VBE) for (RB = 240 kΩ, RE = 1 kΩ) =');\n",
"disp(del_IC,'Change in IC (μA) =');"
   ]
   }
,
{
		   "cell_type": "markdown",
		   "metadata": {},
		   "source": [
			"## Example 5.11: Stability_factor.sce"
		   ]
		  },
  {
"cell_type": "code",
	   "execution_count": null,
	   "metadata": {
	    "collapsed": true
	   },
	   "outputs": [],
"source": [
"// Example 5.11: S(β), IC at 100°C\n",
"clc, clear\n",
"IC=2e-3; //  at 25°C in amperes\n",
"// From Table 5.1\n",
"bta1=50; // at 25°C\n",
"bta2=80; // at 100°C\n",
"RB_RE=10; // RB/RE\n",
"S=IC*(1+RB_RE)/(bta1*(1+bta2+RB_RE));\n",
"del_bta=bta2-bta1;\n",
"del_IC=S*del_bta; // in amperes\n",
"IC=IC+del_IC; //  at 100°C in amperes\n",
"IC=IC*1e3; //  at 100°C in mili-amperes\n",
"disp(S,'S(β) =');\n",
"disp(IC,'IC at 100°C (mA) =');"
   ]
   }
,
{
		   "cell_type": "markdown",
		   "metadata": {},
		   "source": [
			"## Example 5.12: Variation_of_collector_current.sce"
		   ]
		  },
  {
"cell_type": "code",
	   "execution_count": null,
	   "metadata": {
	    "collapsed": true
	   },
	   "outputs": [],
"source": [
"// Example 5.12: Variation of IC over the temperature range -65°C to 175°C\n",
"clc, clear\n",
"RB_RE=2; // RB/RE\n",
"RE=4.7e3; // in ohms\n",
"IC=2e-3; // at 25°C in amperes\n",
"// From Table 5.1\n",
"bta=50; // at 25°C\n",
"S_ICO=(1+bta)*(1+RB_RE)/(1+bta+RB_RE);\n",
"S_VBE=-bta/(RE*(1+bta+RB_RE));\n",
"// From Table 5.1\n",
"bta1=20; // at -65°C\n",
"bta2=120; // at 175°C\n",
"S_bta1=IC*(1+RB_RE)/(bta*(1+bta1+RB_RE)); // For 25°C to -65°C\n",
"S_bta2=IC*(1+RB_RE)/(bta*(1+bta2+RB_RE)); // For 25°C to 175°C\n",
"// From Table 5.1\n",
"\n",
"// For 25°C to -65°C\n",
"del_ICO=(0.2e-3-0.1)*1e-9; // in amperes\n",
"del_VBE=0.85-0.65; // in volts\n",
"del_bta=bta1-bta;\n",
"del_IC=S_ICO*del_ICO+S_VBE*del_VBE+S_bta1*del_bta; // in amperes\n",
"IC1=IC+del_IC; // at -65°C in amperes\n",
"IC1=IC1*1e3; //  at -65°C in mili-amperes\n",
"disp(IC1,'IC at -65°C (mA) =');\n",
"\n",
"// For 25°C to 175°C\n",
"del_ICO=(3.3e3-0.1)*1e-9; // in amperes\n",
"del_VBE=0.30-0.65; // in volts\n",
"del_bta=bta2-bta;\n",
"del_IC=S_ICO*del_ICO+S_VBE*del_VBE+S_bta2*del_bta; // in amperes\n",
"IC2=IC+del_IC; // at 175°C in amperes\n",
"IC2=IC2*1e3; //  at 175°C in mili-amperes\n",
"disp(IC2,'IC at 175°C (mA) =');"
   ]
   }
,
{
		   "cell_type": "markdown",
		   "metadata": {},
		   "source": [
			"## Example 5.13: Current_mirror.sce"
		   ]
		  },
  {
"cell_type": "code",
	   "execution_count": null,
	   "metadata": {
	    "collapsed": true
	   },
	   "outputs": [],
"source": [
"// Example 5.13: (i) R1\n",
"//              (ii) R1 for IC = 10 μA\n",
"clc, clear\n",
"IC=1e-3; // in amperes\n",
"VCC=10; // in volts\n",
"bta=125;\n",
"VBE=0.7; // in volts\n",
"\n",
"disp('Part (i)');\n",
"R1=bta*(VCC-VBE)/((bta+2)*IC); // in ohms\n",
"R1=R1*1e-3; // in kilo-ohms\n",
"disp(R1,'R1 (kΩ) =');\n",
"\n",
"disp('Part (i)');\n",
"IC=10e-6; // in amperes\n",
"R1=bta*(VCC-VBE)/((bta+2)*IC); // in ohms\n",
"R1=R1*1e-3; // in kilo-ohms\n",
"disp(R1,'R1 for (IC = 10 μA) (kΩ) =');"
   ]
   }
,
{
		   "cell_type": "markdown",
		   "metadata": {},
		   "source": [
			"## Example 5.14: Widlar_current_source.sce"
		   ]
		  },
  {
"cell_type": "code",
	   "execution_count": null,
	   "metadata": {
	    "collapsed": true
	   },
	   "outputs": [],
"source": [
"// Example 5.14: R1, RE\n",
"clc, clear\n",
"Io=10e-6; // in amperes\n",
"VCC=10; // in volts\n",
"bta=125;\n",
"VBE=0.7; // in volts\n",
"VT=25e-3; // in volts\n",
"// Let\n",
"I_ref=1e-3; // in amperes\n",
"R1=(VCC-VBE)/I_ref; // in ohms\n",
"R1=R1*1e-3; // in kilo-ohms\n",
"RE=VT*log(I_ref/Io)/((1+1/bta)*Io); // in ohms\n",
"RE=RE*1e-3; // in kilo-ohms\n",
"disp(R1,'R1 (kΩ) =');\n",
"disp(RE,'RE (kΩ) =');"
   ]
   }
,
{
		   "cell_type": "markdown",
		   "metadata": {},
		   "source": [
			"## Example 5.15: Current_Repeaters.sce"
		   ]
		  },
  {
"cell_type": "code",
	   "execution_count": null,
	   "metadata": {
	    "collapsed": true
	   },
	   "outputs": [],
"source": [
"// Example 5.11: IC1, IC2, IC3\n",
"clc, clear\n",
"bta=125;\n",
"VBE=0.7; // in volts\n",
"VT=25e-3; // Voltage equivalent to temperatue at room temperature in volts\n",
"// From Fig. 5.27\n",
"VC=9; // in volts\n",
"RC=30; // in kilo-ohms\n",
"RE=1.94; // in kilo-ohms\n",
"I_ref=(VC-VBE)/RC; // in mili-amperes\n",
"IC=I_ref*bta/(3+bta); // in mili-amperes\n",
"for i=0.01:0.001:0.5\n",
"    if abs(VT*log(IC/i)/(i*(1+1/bta))-RE)<=0.1 then\n",
"        break;\n",
"    end\n",
"end\n",
"disp(IC,'IC1 (mA) =');\n",
"disp(IC,'IC2 (mA) =');\n",
"disp(i,'IC3 (mA) =');"
   ]
   }
,
{
		   "cell_type": "markdown",
		   "metadata": {},
		   "source": [
			"## Example 5.16: Output_current.sce"
		   ]
		  },
  {
"cell_type": "code",
	   "execution_count": null,
	   "metadata": {
	    "collapsed": true
	   },
	   "outputs": [],
"source": [
"// Example 5.16: Io\n",
"clc, clear\n",
"bta=100;\n",
"VBE=0.7; // in volts\n",
"// From Fig. 5.30\n",
"// Writing KVL for the indicated loop\n",
"I_ref=(10-VBE)/10; // in mili-amperes\n",
"Io=bta*I_ref/(2*(1+bta)); // in mili-amperes\n",
"disp(Io,'Io (mA) =');"
   ]
   }
,
{
		   "cell_type": "markdown",
		   "metadata": {},
		   "source": [
			"## Example 5.17: Current_mirror.sce"
		   ]
		  },
  {
"cell_type": "code",
	   "execution_count": null,
	   "metadata": {
	    "collapsed": true
	   },
	   "outputs": [],
"source": [
"// Example 5.17: (i) IC1 and IC2\n",
"//              (ii) RC so that Vo = 6 V\n",
"clc, clear\n",
"bta=200;\n",
"// From Fig. 5.31\n",
"\n",
"disp('Part (i)');\n",
"I_ref=(12-0.7)/15; // in amperes\n",
"I1=0.7/2.8; // in amperes\n",
"IC=(I_ref-I1)*bta/(bta+2); // in mili-amperes\n",
"disp(IC,'IC1 (mA) =');\n",
"disp(IC,'IC2 (mA) =');\n",
"\n",
"disp('Part (ii)');\n",
"Vo=6; // in volts\n",
"RC=(12-Vo)/IC; // in kilo-ohms\n",
"disp(RC,'RC so that (Vo = 6 V) (kΩ) =');"
   ]
   }
,
{
		   "cell_type": "markdown",
		   "metadata": {},
		   "source": [
			"## Example 5.18: Modified_current_mirror.sce"
		   ]
		  },
  {
"cell_type": "code",
	   "execution_count": null,
	   "metadata": {
	    "collapsed": true
	   },
	   "outputs": [],
"source": [
"// Example 5.18: Emitter current in transistor Q3\n",
"clc, clear\n",
"bta=100;\n",
"VBE=0.75; // in volts\n",
"// From Fig. 5.32\n",
"I=(10-VBE)/4.7; // in mili-amperes\n",
"IE=I/2; // in mili-amperes\n",
"disp(IE,'Emitter current in transistor Q3 (mA) =');"
   ]
   }
,
{
		   "cell_type": "markdown",
		   "metadata": {},
		   "source": [
			"## Example 5.1: Fixed_bias_circuit.sce"
		   ]
		  },
  {
"cell_type": "code",
	   "execution_count": null,
	   "metadata": {
	    "collapsed": true
	   },
	   "outputs": [],
"source": [
"// Example 5.1: RB, RC\n",
"clc, clear\n",
"IB=40e-6; // in amperes\n",
"VCE=6; // in volts\n",
"VCC=12; // in volts\n",
"betaf=80;\n",
"VBE=0.7; // in volts\n",
"RB=(VCC-VBE)/IB; // in ohms\n",
"RC=(VCC-VCE)/(betaf*IB); // in ohms\n",
"RB=RB*1e-3; // in kilo-ohms\n",
"RC=RC*1e-3; // in kilo-ohms\n",
"disp(RB,'RB (kΩ) =');\n",
"disp(RC,'RC (kΩ) =');"
   ]
   }
,
{
		   "cell_type": "markdown",
		   "metadata": {},
		   "source": [
			"## Example 5.2: Determination_of_Q_point.sce"
		   ]
		  },
  {
"cell_type": "code",
	   "execution_count": null,
	   "metadata": {
	    "collapsed": true
	   },
	   "outputs": [],
"source": [
"// Example 5.2: VCEQ, ICQ\n",
"clc, clear\n",
"VBE=0.7; // in volts\n",
"betaf=50;\n",
"// From Fig. 5.11(a)\n",
"VCC=18; // in volts\n",
"R1=82e3; // in ohms\n",
"R2=22e3; // in ohms\n",
"RC=5.6e3; // in ohms\n",
"RE=1.2e3; // in ohms\n",
"// Using Thevnin's theorem to obtain equivalent circuit given in Fig. 5.11(b)\n",
"VBB=R2*VCC/(R1+R2); // in volts\n",
"RB=R1*R2/(R1+R2); // in ohms\n",
"IB=(VBB-VBE)/(RB+(1+betaf)*RE); // in amperes\n",
"IC=betaf*IB; // in amperes\n",
"VCE=VCC-IC*(RC+RE)-IB*RE; // in volts\n",
"IC=IC*1e3; // in mili-amperes\n",
"disp(VCE,'VCEQ (V) =');\n",
"disp(IC,'ICQ (mA) =');"
   ]
   }
,
{
		   "cell_type": "markdown",
		   "metadata": {},
		   "source": [
			"## Example 5.3: Self_biased_circuit.sce"
		   ]
		  },
  {
"cell_type": "code",
	   "execution_count": null,
	   "metadata": {
	    "collapsed": true
	   },
	   "outputs": [],
"source": [
"// Example 5.3: R1, R2, RC, RE\n",
"clc, clear\n",
"IC=1e-3; // in amperes\n",
"VCC=12; // in volts\n",
"betaf=100;\n",
"VBE=0.7; // in volts\n",
"// As suggested in the design constraints, allocate 1/3VCC to RC, another 1/3VCC to R2 leaving 1/3VCC for VCEQ.\n",
"VB=4; // in volts\n",
"VE=VB-VBE; // in volts\n",
"// Neglecting base current,\n",
"RE=VE/IC; // in ohms\n",
"// Select the current through R1R2 equal to 0.1IC\n",
"R1_plus_R2=VCC/(0.1*IC); // in ohms\n",
"R2=VB*R1_plus_R2/VCC; // in ohms\n",
"R1=R1_plus_R2-R2; // in ohms\n",
"RC=VCC/(3*IC); // in ohms\n",
"R1=R1*1e-3; // in kilo-ohms\n",
"R2=R2*1e-3; // in kilo-ohms\n",
"RC=RC*1e-3; // in kilo-ohms\n",
"RE=RE*1e-3; // in kilo-ohms\n",
"disp(R1,'R1 (kΩ) =');\n",
"disp(R2,'R2 (kΩ) =');\n",
"disp(RC,'RC (kΩ) =');\n",
"disp(RE,'RE (kΩ) =');"
   ]
   }
,
{
		   "cell_type": "markdown",
		   "metadata": {},
		   "source": [
			"## Example 5.4: Amplifier_circuit.sce"
		   ]
		  },
  {
"cell_type": "code",
	   "execution_count": null,
	   "metadata": {
	    "collapsed": true
	   },
	   "outputs": [],
"source": [
"// Example 5.4: VCEQ, ICQ\n",
"clc, clear\n",
"VBE=0.7; // in volts\n",
"betaf=45;\n",
"// From Fig. 5.14\n",
"VEE=9; // in volts\n",
"RB=100e3; // in ohms\n",
"RC=1.2e3; // in ohms\n",
"// Applying KVL in the clockwise direction base emitter loop\n",
"IB=(VEE-VBE)/RB; // in amperes\n",
"IC=betaf*IB; // in amperes\n",
"// Writing KVL for the collector loop\n",
"VCE=VEE-IC*RC; // in volts\n",
"IC=IC*1e3; // in mili-amperes\n",
"disp(VCE,'VCEQ (V) =');\n",
"disp(IC,'ICQ (mA) =');"
   ]
   }
,
{
		   "cell_type": "markdown",
		   "metadata": {},
		   "source": [
			"## Example 5.5: Determination_of_Q_point.sce"
		   ]
		  },
  {
"cell_type": "code",
	   "execution_count": null,
	   "metadata": {
	    "collapsed": true
	   },
	   "outputs": [],
"source": [
"// Example 5.5: VCEQ, ICQ\n",
"clc, clear\n",
"VBE=0.7; // in volts\n",
"betaf=120;\n",
"// From Fig. 5.15\n",
"VCC=20; // in volts\n",
"VEE=20; // in volts\n",
"R1=8.2e3; // in ohms\n",
"R2=2.2e3; // in ohms\n",
"RC=2.7e3; // in ohms\n",
"RE=1.8e3; // in ohms\n",
"// Using Thevnin's theorem to obtain equivalent circuit given in Fig. 5.16(b)\n",
"RB=R1*R2/(R1+R2); // in ohms\n",
"// From Fig. 5.16(a)\n",
"I=(VCC+VEE)/(R1+R2); // in amperes\n",
"VBB=I*R2-VEE; // in volts\n",
"// Writing KVL for the base emitter loop and putting Ic= βF*Ib gives\n",
"IB=(VEE+VBB-VBE)/(RB+(1+betaf)*RE); // in amperes\n",
"IC=betaf*IB; // in amperes\n",
"// KVL for the collector loop gives\n",
"VCE=VCC+VEE-IC*(RC+RE)-IB*RE; // in volts\n",
"IC=IC*1e3; // in mili-amperes\n",
"disp(VCE,'VCEQ (V) =');\n",
"disp(IC,'ICQ (mA) =');"
   ]
   }
,
{
		   "cell_type": "markdown",
		   "metadata": {},
		   "source": [
			"## Example 5.6: Amplifier_circuit.sce"
		   ]
		  },
  {
"cell_type": "code",
	   "execution_count": null,
	   "metadata": {
	    "collapsed": true
	   },
	   "outputs": [],
"source": [
"// Example 5.6: RF so that IE=+2 mA\n",
"clc, clear\n",
"IE=2e-3; // in amperes\n",
"VBE=0.7; // in volts\n",
"betaf=49;\n",
"// From Fig. 5.17\n",
"VCC=12; // in volts\n",
"RB=25e3; // in ohms\n",
"RC=2e3; // in ohms\n",
"I1=VBE/RB; // in amperes\n",
"IB=IE/(1+betaf); // in amperes\n",
"// KVL for the indicated loop gives\n",
"RF=(VCC-RC*(I1+(1+betaf)*IB)-VBE)/(I1+IB); // in ohms\n",
"RF=RF*1e-3; // in kilo-ohms\n",
"disp(RF,'RF so that IE=+2 mA (kΩ) =');"
   ]
   }
,
{
		   "cell_type": "markdown",
		   "metadata": {},
		   "source": [
			"## Example 5.7: Amplifier_circuit.sce"
		   ]
		  },
  {
"cell_type": "code",
	   "execution_count": null,
	   "metadata": {
	    "collapsed": true
	   },
	   "outputs": [],
"source": [
"// Example 5.7: RCQ, RE\n",
"clc, clear\n",
"VCEQ=3; // in volts\n",
"VBE=0.7; // in volts\n",
"betaf=200;\n",
"// From Fig. 5.18(a)\n",
"VCC=6; // in volts\n",
"VEE=6; // in volts\n",
"R1=90e3; // in ohms\n",
"R2=90e3; // in ohms\n",
"// Using Thevnin's theorem to obtain equivalent circuit given in Fig. 5.18(b)\n",
"RB=R1*R2/(R1+R2); // in ohms\n",
"VBB=R2*(VCC+VEE)/(R1+R2); // in volts\n",
"// In the output loop\n",
"x=VEE-VCEQ; // x = (IC+IB)RE in volts\n",
"// Applying KVL in the base emitter loop\n",
"IB=(VEE-VBE-x)/RB; // in amperes\n",
"IC=betaf*IB; // in amperes\n",
"// In the output loop\n",
"RC=VCC/IC; // in ohms\n",
"RE=x/(IC+IB); // in ohms\n",
"RC=RC*1e-3; // in kilo-ohms\n",
"RE=RE*1e-3; // in kilo-ohms\n",
"disp(RC,'RC (kΩ) =');\n",
"disp(RE,'RE (kΩ) =');"
   ]
   }
,
{
		   "cell_type": "markdown",
		   "metadata": {},
		   "source": [
			"## Example 5.8: Q_point_voltage.sce"
		   ]
		  },
  {
"cell_type": "code",
	   "execution_count": null,
	   "metadata": {
	    "collapsed": true
	   },
	   "outputs": [],
"source": [
"// Example 5.8: VCEQ\n",
"clc, clear\n",
"VBE=-0.7; // in volts\n",
"betaf=120;\n",
"// From Fig. 5.19(a)\n",
"VCC=18; // in volts\n",
"R1=47e3; // in ohms\n",
"R2=10e3; // in ohms\n",
"RC=2.4e3; // in ohms\n",
"RE=1.1e3; // in ohms\n",
"// Using Thevnin's theorem to obtain equivalent circuit given in Fig. 5.19(b)\n",
"VBB=R2*VCC/(R1+R2); // in volts\n",
"RB=R1*R2/(R1+R2); // in ohms\n",
"// Applying KVL in the base emitter loop and putting Ic= βF*Ib\n",
"IB=(VBB+VBE)/(RB+(1+betaf)*RE); // in amperes\n",
"IC=betaf*IB; // in amperes\n",
"// In the collector emitter loop\n",
"VCE=-VCC+IC*(RC+RE)+IB*RE; // in volts\n",
"disp(VCE,'VCEQ (V) =');"
   ]
   }
,
{
		   "cell_type": "markdown",
		   "metadata": {},
		   "source": [
			"## Example 5.9: Stability_factor.sce"
		   ]
		  },
  {
"cell_type": "code",
	   "execution_count": null,
	   "metadata": {
	    "collapsed": true
	   },
	   "outputs": [],
"source": [
"// Example 5.9 :(i) RB\n",
"//             (ii) Stability factor\n",
"//            (iii) IC at 100°C\n",
"clc, clear\n",
"bta=50;\n",
"VBE=0.7; // in volts\n",
"VCE=5; // in volts\n",
"// From Fig. 5.21\n",
"VCC=24; // in volts\n",
"RC=10e3; // in ohms\n",
"RE=500; // in ohms\n",
"\n",
"disp('Part (i)');\n",
"// Applying KVL to the collector emitter circuit and putting Ic= βF*Ib\n",
"IB=(VCC-VCE)/((RC+RE)*(bta+1)); // in amperes\n",
"IC=bta*IB; //  at 25°C in amperes\n",
"RB=(VCE-VBE)/IB; // in ohms\n",
"RB=RB*1e-3; // in kilo-ohms\n",
"disp(RB,'RB (kΩ) =')\n",
"\n",
"disp('Part (ii)');\n",
"S=(1+bta)/(1+bta*(RC+RE)/(RC+RE+RB*1e3)); // Stability factor\n",
"disp(S,'Stability factor =');\n",
"\n",
"disp('Part (iii)');\n",
"// From Table 5.1\n",
"del_ICO=(20-0.1)*1e-9; // in amperes\n",
"del_IC=S*del_ICO; // in amperes\n",
"IC=IC+del_IC; //  at 100°C in amperes\n",
"IC=IC*1e3; //  at 100°C in mili-amperes\n",
"disp(IC,'IC at 100°C (mA) =');"
   ]
   }
],
"metadata": {
		  "kernelspec": {
		   "display_name": "Scilab",
		   "language": "scilab",
		   "name": "scilab"
		  },
		  "language_info": {
		   "file_extension": ".sce",
		   "help_links": [
			{
			 "text": "MetaKernel Magics",
			 "url": "https://github.com/calysto/metakernel/blob/master/metakernel/magics/README.md"
			}
		   ],
		   "mimetype": "text/x-octave",
		   "name": "scilab",
		   "version": "0.7.1"
		  }
		 },
		 "nbformat": 4,
		 "nbformat_minor": 0
}
