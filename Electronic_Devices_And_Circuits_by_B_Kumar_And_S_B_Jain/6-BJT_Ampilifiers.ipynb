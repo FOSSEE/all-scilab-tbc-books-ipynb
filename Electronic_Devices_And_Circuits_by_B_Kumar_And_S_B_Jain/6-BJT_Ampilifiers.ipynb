{
"cells": [
 {
		   "cell_type": "markdown",
	   "metadata": {},
	   "source": [
       "# Chapter 6: BJT Ampilifiers"
	   ]
	},
{
		   "cell_type": "markdown",
		   "metadata": {},
		   "source": [
			"## Example 6.10: re_model.sce"
		   ]
		  },
  {
"cell_type": "code",
	   "execution_count": null,
	   "metadata": {
	    "collapsed": true
	   },
	   "outputs": [],
"source": [
"// Example 6.10: Ri,eff, Ro, AV, AI\n",
"clc, clear\n",
"bta=200;\n",
"ro=50e3; // in ohms\n",
"VBE=0.7; // Cut-in voltage in volts\n",
"VT=25e-3; // Voltage equivalent to temperatue at room temperature in volts\n",
"// From Fig. 6.44\n",
"VCC=16; // in volts\n",
"R1=90e3; // in ohms\n",
"R2=10e3; // in ohms\n",
"RC=2.2e3; // in ohms\n",
"RE=0.68e3; // in ohms\n",
"\n",
"// DC analysis\n",
"// From the Thevnin's equivalent circuit in Fig. 6.45(a)\n",
"RB=R1*R2/(R1+R2); // in ohms\n",
"VBB=VCC*R2/(R1+R2); // in volts\n",
"// From the base loop\n",
"IB=(VBB-VBE)/(RB+(1+bta)*RE); // in amperes\n",
"IE=(1+bta)*IB; // in amperes\n",
"re=VT/IE; // in ohms\n",
"\n",
"// AC analysis\n",
"Ri=bta*re+(1+bta)*RE; // in ohms\n",
"Ri_eff=RB*Ri/(RB+Ri); // in ohms\n",
"AI=-bta*RB/(RB+bta*(re+RE));\n",
"AV=-RC/RE;\n",
"Ri_eff=Ri_eff*1e-3; // in kilo-ohms\n",
"disp(Ri_eff,'Ri,eff (kΩ) =');\n",
"disp(%inf,'Ro =');\n",
"disp(AI,'AI =');\n",
"disp(AV,'AVs =');"
   ]
   }
,
{
		   "cell_type": "markdown",
		   "metadata": {},
		   "source": [
			"## Example 6.2: Bipolar_Junction_Transistor.sce"
		   ]
		  },
  {
"cell_type": "code",
	   "execution_count": null,
	   "metadata": {
	    "collapsed": true
	   },
	   "outputs": [],
"source": [
"// Example 6.2: rπ, gm\n",
"clc, clear\n",
"IBQ=7.6e-6; // in amperes\n",
"bta=104;\n",
"VT=25e-3; // Voltage equivalent to temperatue at room temperature in volts\n",
"ICQ=IBQ*bta; // in amperes\n",
"gm=ICQ/VT; // in ampere per volt\n",
"gm=gm*1e3; // in mili-ampere per volt\n",
"r_pi=bta/gm; // in kilo-ohms\n",
"disp(r_pi,'rπ (kΩ) =');\n",
"disp(gm,'gm (mA/V) =');"
   ]
   }
,
{
		   "cell_type": "markdown",
		   "metadata": {},
		   "source": [
			"## Example 6.3: Hybrid_h_parameter_model.sce"
		   ]
		  },
  {
"cell_type": "code",
	   "execution_count": null,
	   "metadata": {
	    "collapsed": true
	   },
	   "outputs": [],
"source": [
"// Example 6.3: AI, Ri, AV, AVs, Ro, Ro'\n",
"clc, clear\n",
"hie=1e3; // in ohms\n",
"hfe=100;\n",
"hre=2e-4;\n",
"hoe=20e-6; // in amperes per volt\n",
"RC=5e3; // in ohms\n",
"Rs=1e3; // in ohms\n",
"// From Table 6.3\n",
"AI=-hfe/(1+hoe*RC);\n",
"Ri=hie+hre*AI*RC; // in ohms\n",
"AV=AI*RC/Ri;\n",
"AVs=AV*Ri/(Ri+Rs);\n",
"Yo=hoe-hfe*hre/(hie+Rs); // in ohms inverse\n",
"Ro=1/Yo; // in ohms\n",
"Ro_dash=Ro*RC/(Ro+RC); // in ohms\n",
"Ri=Ri*1e-3; // in kilo-ohms\n",
"Ro=Ro*1e-3; // in kilo-ohms\n",
"Ro_dash=Ro_dash*1e-3; // in kilo-ohms\n",
"disp(AI,'AI =');\n",
"disp(Ri,'Ri (kΩ) =');\n",
"disp(AV,'AV =');\n",
"disp(AVs,'AVs =');\n",
"disp(Ro,'Ro (kΩ) =');\n",
"disp(Ro_dash,'Ro'' (kΩ) =');"
   ]
   }
,
{
		   "cell_type": "markdown",
		   "metadata": {},
		   "source": [
			"## Example 6.4: Bipolar_Junction_Transistor.sce"
		   ]
		  },
  {
"cell_type": "code",
	   "execution_count": null,
	   "metadata": {
	    "collapsed": true
	   },
	   "outputs": [],
"source": [
"// Example 6.4: AI', AVs, Ri,eff, Ro, Ro'\n",
"clc, clear\n",
"hie=2e3; // in ohms\n",
"hfe=50;\n",
"hre=2e-4;\n",
"hoe=20e-6; // in amperes per volt\n",
"// From Fig. 6.22(a)\n",
"Rs=2e3; // in ohms\n",
"R1=90e3; // in ohms\n",
"R2=10e3; // in ohms\n",
"RC=5e3; // in ohms\n",
"// From the Table 6.3\n",
"RB=R1*R2/(R1+R2); // in ohms\n",
"AI=-hfe/(1+hoe*RC);\n",
"Ri=hie+hre*AI*RC; // in ohms\n",
"Ri_eff=RB*Ri/(RB+Ri); // in ohms\n",
"AI_dash=AI*RB/(RB+Ri);\n",
"AVs=AI*RC*Ri_eff/(Ri*(Rs+Ri_eff));\n",
"Rs_eff=Rs*RB/(Rs+RB); // in ohms\n",
"Yo=hoe-hfe*hre/(hie+Rs_eff); // in ohms inverse\n",
"Ro=1/Yo; // in ohms\n",
"Ro_dash=Ro*RC/(Ro+RC); // in ohms\n",
"Ri_eff=Ri_eff*1e-3; // in kilo-ohms\n",
"Ro=Ro*1e-3; // in kilo-ohms\n",
"Ro_dash=Ro_dash*1e-3; // in kilo-ohms\n",
"disp(AI_dash,'AI'' =');\n",
"disp(AVs,'AVs =');\n",
"disp(Ri_eff,'Ri,eff (kΩ) =');\n",
"disp(Ro,'Ro (kΩ) =');\n",
"disp(Ro_dash,'Ro'' (kΩ) =');"
   ]
   }
,
{
		   "cell_type": "markdown",
		   "metadata": {},
		   "source": [
			"## Example 6.5: Simplified_h_parameter_model.sce"
		   ]
		  },
  {
"cell_type": "code",
	   "execution_count": null,
	   "metadata": {
	    "collapsed": true
	   },
	   "outputs": [],
"source": [
"// Example 6.5: AI, AVs, Ri, Ro'\n",
"clc, clear\n",
"hie=4e3; // in ohms\n",
"hfe=200;\n",
"// From Fig. 6.27(a)\n",
"Rs=5e3; // in ohms\n",
"R1=90e3; // in ohms\n",
"R2=10e3; // in ohms\n",
"RC=5e3; // in ohms\n",
"RE=1e3; // in ohms\n",
"// From Fig 6.27(b)\n",
"RB=R1*R2/(R1+R2); // in ohms\n",
"Ri=hie+(1+hfe)*RE; // in ohms\n",
"Ri_eff=RB*Ri/(RB+Ri); // in ohms\n",
"AI=-hfe*RB/(RB+Ri);\n",
"AVs=-hfe*RC*Ri_eff/(Ri*(Rs+Ri_eff));\n",
"Ro_dash=RC; // in ohms\n",
"Ri=Ri*1e-3; // in kilo-ohms\n",
"Ro_dash=Ro_dash*1e-3; // in kilo-ohms\n",
"disp(AI,'AI =');\n",
"disp(AVs,'AVs =');\n",
"disp(Ri,'Ri (kΩ) =');\n",
"disp(Ro_dash,'Ro'' (kΩ) =');"
   ]
   }
,
{
		   "cell_type": "markdown",
		   "metadata": {},
		   "source": [
			"## Example 6.6: Hybrid_pi_model.sce"
		   ]
		  },
  {
"cell_type": "code",
	   "execution_count": null,
	   "metadata": {
	    "collapsed": true
	   },
	   "outputs": [],
"source": [
"// Example 6.6: AI, Ri, AVs\n",
"clc, clear\n",
"bta=100;\n",
"VBE=0.7; // Cut-in voltage in volts\n",
"VT=25e-3; // Voltage equivalent to temperatue at room temperature in volts\n",
"// From Fig. 6.33\n",
"RB=100e3; // in ohms\n",
"RC=3e3; // in ohms\n",
"VBB=3; // in volts\n",
"\n",
"// DC analysis\n",
"// From dc equivalent circuit in Fig. 6.34(a)\n",
"IBQ=(VBB-VBE)/RB; // in amperes\n",
"ICQ=bta*IBQ; // in amperes\n",
"gm=ICQ/VT; // in ampere per volt\n",
"r_pi=bta/gm; // in ohms\n",
"\n",
"// AC analysis\n",
"// From ac equivalent circuit using approximate hybrid-π model in Fig. 6.34(b)\n",
"AI=-bta;\n",
"Ri=RB+r_pi; // in ohms\n",
"AVs=-bta*RC/(RB+r_pi);\n",
"Ri=Ri*1e-3; // in kilo-ohms\n",
"disp(AI,'AI =');\n",
"disp(Ri,'Ri (kΩ) =');\n",
"disp(AVs,'AVs =');"
   ]
   }
,
{
		   "cell_type": "markdown",
		   "metadata": {},
		   "source": [
			"## Example 6.7: CC_amplifier.sce"
		   ]
		  },
  {
"cell_type": "code",
	   "execution_count": null,
	   "metadata": {
	    "collapsed": true
	   },
	   "outputs": [],
"source": [
"// Example 6.7: (a) Load resistance RE to make Ri ≥ 500 kΩ\n",
"//              (b) AV, Ro, Ro'\n",
"clc, clear\n",
"IC=2e-3; // in amperes\n",
"Rs=5e3; // Source resistance in ohms\n",
"bta=125;\n",
"VT=25e-3; // Voltage equivalent to temperatue at room temperature in volts\n",
"\n",
"disp('Part (a)');\n",
"Ri=500e3; // in ohms\n",
"gm=IC/VT; // in mho\n",
"r_pi=bta/gm; // in ohms\n",
"RE=(Ri-r_pi)/(1+bta); // in ohms\n",
"REk=RE*1e-3; // in kilo-ohms\n",
"disp(REk,'RE (kΩ) =');\n",
"\n",
"disp('Part (b)');\n",
"AV=(1+bta)*RE/(Rs+Ri);\n",
"Ro=(Rs+r_pi)/(1+bta); // in ohms\n",
"Ro_dash=Ro*RE/(Ro+RE); // in ohms\n",
"disp(Ro,'Ro (Ω) =');\n",
"disp(Ro_dash,'Ro'' (Ω) =');"
   ]
   }
,
{
		   "cell_type": "markdown",
		   "metadata": {},
		   "source": [
			"## Example 6.8: Voltage_gai.sce"
		   ]
		  },
  {
"cell_type": "code",
	   "execution_count": null,
	   "metadata": {
	    "collapsed": true
	   },
	   "outputs": [],
"source": [
"// Example 6.8: Ri, AVs\n",
"clc, clear\n",
"IC=0.2e-3; // in amperes\n",
"bta=125;\n",
"Rs=2e3; // in ohms\n",
"RE=100; // in ohms\n",
"RC=5e3; // in ohms\n",
"VT=25e-3; // Voltage equivalent to temperatue at room temperature in volts\n",
"gm=IC/VT; // in mho\n",
"r_pi=bta/gm; // in ohms\n",
"Ri=r_pi+(1+bta)*RE; // in ohms\n",
"AVs=-bta*RC/(Rs+r_pi+(1+bta)*RE);\n",
"Ri=Ri*1e-3; // in kilo-ohms\n",
"disp(Ri,'Ri (kΩ) =');\n",
"disp(AVs,'AVs =');"
   ]
   }
,
{
		   "cell_type": "markdown",
		   "metadata": {},
		   "source": [
			"## Example 6.9: Hybrid_pi_model.sce"
		   ]
		  },
  {
"cell_type": "code",
	   "execution_count": null,
	   "metadata": {
	    "collapsed": true
	   },
	   "outputs": [],
"source": [
"// Example 6.9: rπ, AI, Ri, AVs, Ro, Ro'\n",
"clc, clear\n",
"bta=200;\n",
"VT=25e-3; // Voltage equivalent to temperatue at room temperature in volts\n",
"// From Fig. 6.39\n",
"VBE=0.7; // Cut-in voltage in volts\n",
"VCC=9; // in volts\n",
"RB=200e3; // in ohms\n",
"RC=2e3; // in ohms\n",
"\n",
"// DC analysis\n",
"// From dc equivalent circuit in Fig. 6.40(a)\n",
"// Writing KVL from collector to base loop\n",
"IB=(VCC-VBE)/(RB+(1+bta)*RC); // in amperes\n",
"ICQ=bta*IB;  // in amperes\n",
"gm=ICQ/VT; // in mho\n",
"r_pi=bta/gm; // in ohms\n",
"\n",
"// AC analysis\n",
"// From ac equivalent circuit using Miller's theorem in Fig. 6.40(b)\n",
"// Assuming AV >> 1\n",
"RL=RB*RC/(RB+RC); // Effective load resistance in ohms\n",
"// Using hybrid-π model and approximate resulta given in Table 6.5 for CE amplifier stage, we have\n",
"AI=-bta;\n",
"AV=-bta*RL/r_pi;\n",
"Ro=%inf;\n",
"r_pi=r_pi*1e-3; // in kilo-ohms\n",
"RL=RL*1e-3; // in kilo-ohms\n",
"disp(r_pi,'rπ (kΩ) =');\n",
"disp(AI,'AI =');\n",
"disp(AV,'AVs =');\n",
"disp(Ro,'Ro =');\n",
"disp(RL,'Ro'' (kΩ) =');"
   ]
   }
],
"metadata": {
		  "kernelspec": {
		   "display_name": "Scilab",
		   "language": "scilab",
		   "name": "scilab"
		  },
		  "language_info": {
		   "file_extension": ".sce",
		   "help_links": [
			{
			 "text": "MetaKernel Magics",
			 "url": "https://github.com/calysto/metakernel/blob/master/metakernel/magics/README.md"
			}
		   ],
		   "mimetype": "text/x-octave",
		   "name": "scilab",
		   "version": "0.7.1"
		  }
		 },
		 "nbformat": 4,
		 "nbformat_minor": 0
}
