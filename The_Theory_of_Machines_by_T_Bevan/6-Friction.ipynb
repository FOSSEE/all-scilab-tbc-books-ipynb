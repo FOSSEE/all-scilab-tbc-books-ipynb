{
"cells": [
 {
		   "cell_type": "markdown",
	   "metadata": {},
	   "source": [
       "# Chapter 6: Friction"
	   ]
	},
{
		   "cell_type": "markdown",
		   "metadata": {},
		   "source": [
			"## Example 6.1: maximum_efficiency.sce"
		   ]
		  },
  {
"cell_type": "code",
	   "execution_count": null,
	   "metadata": {
	    "collapsed": true
	   },
	   "outputs": [],
"source": [
"\n",
"clc\n",
"//given\n",
"theta=60//degrees\n",
"u1=0.15//between surfaces A annd B\n",
"u2=0.10//for the guides\n",
"phi=atand(u1)\n",
"phi1=atand(u2)\n",
"alpha=(theta+phi+phi1)/2//from 6.22, maximum efficiency is obtained at alpha\n",
"//from 6.23, maximum efficiency is given by nmax=(cos(theta+phi+phi1)+1)/(cos(theta-phi-phi1)+1)\n",
"nmax=(cos((theta+phi+phi1)*%pi/180)+1)/(cos((theta-phi-phi1)*%pi/180)+1)\n",
"printf('Maximum efficiency = %.4f and it is obtained when alpha = %.2f degrees',nmax,alpha)\n",
""
   ]
   }
,
{
		   "cell_type": "markdown",
		   "metadata": {},
		   "source": [
			"## Example 6.3: Power_absorbed_and_number_of_collars.sce"
		   ]
		  },
  {
"cell_type": "code",
	   "execution_count": null,
	   "metadata": {
	    "collapsed": true
	   },
	   "outputs": [],
"source": [
"\n",
"clc\n",
"//from equation 6.36 we know, M=(2/3)*u*W*(ri^3-r2^3)/(r1^2-r2^2)\n",
"//given\n",
"u=0.04\n",
"W=16//tons\n",
"w=W*2240//lbs\n",
"r1=8//in\n",
"r2=6//in\n",
"N=120\n",
"P=50//lb/in^2\n",
"M=(2/3)*u*w*(r1^3-r2^3)/(r1^2-r2^2)\n",
"hp=M*2*%pi*N/(12*33000)//horse power absorbed\n",
"//from fig 137,effective bearing surface per pad is calsulate from the dimensions to be 58.5 in^2\n",
"A=58.5//in^2\n",
"n=w/(A*P)\n",
"x=floor(n)\n",
"printf('\n')\n",
"printf('Horsepower absorbed = %.2f\nNumber of collars required = %.f\n',hp,x)"
   ]
   }
,
{
		   "cell_type": "markdown",
		   "metadata": {},
		   "source": [
			"## Example 6.4: dimension_of_clutch.sce"
		   ]
		  },
  {
"cell_type": "code",
	   "execution_count": null,
	   "metadata": {
	    "collapsed": true
	   },
	   "outputs": [],
"source": [
"\n",
"clc\n",
"//given\n",
"ratio=1.25\n",
"u=.675\n",
"P=12//hp\n",
"//W=P*%pi*(r1^2-r2^2); Total axal thrust.\n",
"//M=u*W*(r1+r2); Total friction moemnt \n",
"//reducing the two equations and using ratio=1.25(r1=1.25*r2) we get, M=u*21.2*r2^3\n",
"ReqM=65//lb ft \n",
"RM=ReqM*12//lb in\n",
"r2=(RM/(u*P*%pi*(1.25^2-1)))^(1/3)\n",
"r1=1.25*r2\n",
"d1=r1*2\n",
"d2=r2*2\n",
"printf('The dimensions of the friction surfaces are:\nOuter Diameter= %.1f in\nInner Diameter= %.1f in\n',d1,d2)"
   ]
   }
,
{
		   "cell_type": "markdown",
		   "metadata": {},
		   "source": [
			"## Example 6.5: Number_of_plates_required.sce"
		   ]
		  },
  {
"cell_type": "code",
	   "execution_count": null,
	   "metadata": {
	    "collapsed": true
	   },
	   "outputs": [],
"source": [
"\n",
"clc\n",
"P=20//lb/in^2\n",
"u=0.07//friction coefficient\n",
"N=3600//rpm\n",
"H=100//hp\n",
"r1=5//in\n",
"r2=0.8*r1//given\n",
"A=%pi*(r1^2-r2^2)//the area of each friction surface\n",
"W=A*P//total axial thrust on plates\n",
"M=(1/2)*u*W*(r1+r2)//friction moment for each pair of contacts\n",
"T=H*33000*12/(2*%pi*N)//total torque to be transmitted\n",
"x=(T/M)//effective friction surfaces required\n",
"printf('\nNumber of effective friction surfaces required= %.f\n',x)\n",
""
   ]
   }
,
{
		   "cell_type": "markdown",
		   "metadata": {},
		   "source": [
			"## Example 6.7: Turning_moment.sce"
		   ]
		  },
  {
"cell_type": "code",
	   "execution_count": null,
	   "metadata": {
	    "collapsed": true
	   },
	   "outputs": [],
"source": [
"\n",
"clc\n",
"//given\n",
"P=6 //tons\n",
"u=0.05\n",
"theta=60//degrees\n",
"CP=80\n",
"Stroke=16//in\n",
"OC=Stroke/2\n",
"r1=7//in\n",
"r2=15//in\n",
"r3=4.4//in\n",
"//Radius of friction circle\n",
"ro=u*r1\n",
"rc=u*r2\n",
"rp=u*r3\n",
"phi=asind(OC*sin((theta)*%pi/180)/CP)\n",
"alpha=asind((rc+rp)/CP)\n",
"//a) without friction\n",
"Qa=P/cos((phi)*%pi/180)\n",
"Xa=OC*cos((30-phi)*%pi/180)//tensile force transmitted along the eccentric rod when friction is NOT taken into account\n",
"Ma=Qa*Xa/12\n",
"//b) with friction\n",
"Qb=P/cos((phi-alpha)*%pi/180)//tensile force transmitted along the eccentric rod when friction is taken into account\n",
"Xb=OC*cos((30-(phi-alpha))*%pi/180)-(rc+ro)\n",
"Mb=Qb*Xb/12\n",
"n=Mb/Ma\n",
"printf('Turning moment applied to OC:\na)Without friction= %.2f ton.ft\nb)With friction(u=0.05)= %.2f ton.ft',Ma,Mb)\n",
"printf('\nThe efficiency of the mechanism is %.2f ',n)"
   ]
   }
,
{
		   "cell_type": "markdown",
		   "metadata": {},
		   "source": [
			"## Example 6.8: horizontal_force.sce"
		   ]
		  },
  {
"cell_type": "code",
	   "execution_count": null,
	   "metadata": {
	    "collapsed": true
	   },
	   "outputs": [],
"source": [
"\n",
"clc\n",
"stroke=4//in\n",
"d=11.5//in\n",
"ds=4//in\n",
"dp=14//in\n",
"theta=%pi\n",
"u1=.25\n",
"T1=350//lb\n",
"u2=0.1\n",
"k=%e^(u1*theta)\n",
"T2=T1/k\n",
"Tor=(T1-T2)*(dp/2)//total resisting torque\n",
"//total resisting torque is also given by P*(r+2*(cos%pi/6))+u2*R*(ds/2)\n",
"//equating and putting values we get the following quadratic equation\n",
"p=[1 -1.163D3 3.342D5]\n",
"a=roots(p)\n",
"printf('\nP=%.1f',a)\n",
"printf('\nThe larger of two values is inadmissible. \n It corresponds to a negative sign in front of the second term on the \n right hand side of equation (1)')"
   ]
   }
],
"metadata": {
		  "kernelspec": {
		   "display_name": "Scilab",
		   "language": "scilab",
		   "name": "scilab"
		  },
		  "language_info": {
		   "file_extension": ".sce",
		   "help_links": [
			{
			 "text": "MetaKernel Magics",
			 "url": "https://github.com/calysto/metakernel/blob/master/metakernel/magics/README.md"
			}
		   ],
		   "mimetype": "text/x-octave",
		   "name": "scilab",
		   "version": "0.7.1"
		  }
		 },
		 "nbformat": 4,
		 "nbformat_minor": 0
}
