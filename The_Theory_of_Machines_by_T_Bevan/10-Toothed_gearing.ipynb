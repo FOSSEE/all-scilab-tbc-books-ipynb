{
"cells": [
 {
		   "cell_type": "markdown",
	   "metadata": {},
	   "source": [
       "# Chapter 10: Toothed gearing"
	   ]
	},
{
		   "cell_type": "markdown",
		   "metadata": {},
		   "source": [
			"## Example 10.1: Toothed_gearing.sce"
		   ]
		  },
  {
"cell_type": "code",
	   "execution_count": null,
	   "metadata": {
	    "collapsed": true
	   },
	   "outputs": [],
"source": [
"\n",
"\n",
"clc\n",
"//given\n",
"Teeth=48\n",
"pitch=.75 //in\n",
"D=Teeth*pitch/%pi\n",
"printf('The pitch diameter is %.3f in',D)"
   ]
   }
,
{
		   "cell_type": "markdown",
		   "metadata": {},
		   "source": [
			"## Example 10.2: circular_pitch.sce"
		   ]
		  },
  {
"cell_type": "code",
	   "execution_count": null,
	   "metadata": {
	    "collapsed": true
	   },
	   "outputs": [],
"source": [
"\n",
"clc\n",
"//given\n",
"T=48//teeth\n",
"pd=4//diametral pitch\n",
"D=T/pd//pitch diameter\n",
"p=%pi/pd//the circular pitch\n",
"printf('\nThe pitch diameter = %.f in\nThe circular pitch = %.4f in\n',D,p)"
   ]
   }
,
{
		   "cell_type": "markdown",
		   "metadata": {},
		   "source": [
			"## Example 10.3: pitch_module.sce"
		   ]
		  },
  {
"cell_type": "code",
	   "execution_count": null,
	   "metadata": {
	    "collapsed": true
	   },
	   "outputs": [],
"source": [
"\n",
"clc\n",
"//given\n",
"T=48\n",
"m=6//mm ; module\n",
"D=m*T\n",
"p=%pi*m\n",
"dia=D/10//cm\n",
"P=p*0.0393700787//inches\n",
"printf('\nPitch diameter = %.1f cm\nCircular pitch = %.4f in\n',dia,P)"
   ]
   }
,
{
		   "cell_type": "markdown",
		   "metadata": {},
		   "source": [
			"## Example 10.4: smallest_number_of_teeth.sce"
		   ]
		  },
  {
"cell_type": "code",
	   "execution_count": null,
	   "metadata": {
	    "collapsed": true
	   },
	   "outputs": [],
"source": [
"\n",
"clc\n",
"//given\n",
"phi=20*%pi/180\n",
"//Solution a)\n",
"ar=1\n",
"t1=2*ar/sin(phi)^2//from equation 10.7\n",
"T1=ceil(t1)\n",
"//Solution b)\n",
"aw=1\n",
"t2=2*aw/((1+3*sin(phi)^2)^(1/2)-1)//from euation 10.6\n",
"T2=ceil(t2)\n",
"//solution c)\n",
"t=1\n",
"T=3\n",
"A=(t/T)*(t/T+2)\n",
"t3=2*aw*(t/T)/((1+A*sin(phi)^2)^(1/2)-1)//from 10.5\n",
"T3=ceil(t3)\n",
"printf('\nSmallest number of teeth theoretically required in order to avoid interference on a pinion which is to gear with\na) A rack , t= %.f\nb) An equal pinion , t=  %.f\nc) A wheel to give a ratio of 3 to 1 , t= %.f\n',T1,T2,T3)"
   ]
   }
,
{
		   "cell_type": "markdown",
		   "metadata": {},
		   "source": [
			"## Example 10.5: Addendum_required.sce"
		   ]
		  },
  {
"cell_type": "code",
	   "execution_count": null,
	   "metadata": {
	    "collapsed": true
	   },
	   "outputs": [],
"source": [
"\n",
"clc\n",
"//given\n",
"t=25\n",
"phi=20*%pi/180\n",
"//let pitch be 1 \n",
"R=t/(2*%pi)//R=t*p/(2*%pi)\n",
"Larc=1.6//1.6*p\n",
"//AB=Larc*cos(phi)\n",
"AB=Larc*cos(phi)\n",
"Ra=(4.47+13.97)^(1/2)//by simplifying AB+2{(Ra^2-R^2*cos(phi)^2)-R*sin(phi)} and using p =1\n",
"Addendum=Ra-R\n",
"//writing p in place of p=1\n",
"printf('\nAddendum required = %.2fp',Addendum)"
   ]
   }
,
{
		   "cell_type": "markdown",
		   "metadata": {},
		   "source": [
			"## Example 10.6: length_of_arc_contact.sce"
		   ]
		  },
  {
"cell_type": "code",
	   "execution_count": null,
	   "metadata": {
	    "collapsed": true
	   },
	   "outputs": [],
"source": [
"\n",
"clc\n",
"//let module be 1\n",
"m=1\n",
"t1=28\n",
"t2=45\n",
"r=t1*m/2\n",
"R=t2*m/2\n",
"ra=r+m\n",
"Ra=R+m\n",
"phi1=14.5*%pi/180\n",
"//10.8 => AB =(ra^2-r^2*cos(phi)^2)^(1/2)+(Ra^2-R^2*cos(phi)^2)^(1/2)-(r+R)*sin(phi)\n",
"//AB=A+B-C\n",
"A=m*(ra^2-r^2*cos(phi1)^2)^(1/2)\n",
"B=m*(Ra^2-R^2*cos(phi1)^2)^(1/2)\n",
"C=m*(r+R)*sin(phi1)\n",
"AB=A+B-C\n",
"p=%pi*m\n",
"ABp=AB/%pi\n",
"arc1=ABp/cos(phi1)//length of arc of contact\n",
"phi2=20*%pi/180\n",
"//10.8 => AB =(ra^2-r^2*cos(phi)^2)^(1/2)+(Ra^2-R^2*cos(phi)^2)^(1/2)-(r+R)*sin(phi)\n",
"a=m*(ra^2-r^2*cos(phi2)^2)^(1/2)\n",
"b=m*(Ra^2-R^2*cos(phi2)^2)^(1/2)\n",
"c=m*(r+R)*sin(phi2)\n",
"ab=a+b-c\n",
"abp=ab/%pi\n",
"arc2=abp/cos(phi2)//length of arc of contact\n",
"printf('\nLength of path of contact\nWhen phi = 14.5 degrees = %.3fm\nWhen phi = 20 degrees = %.2fm\nLength of arc of contact\nWhen phi = 14.5 degrees = %.2fp\nWhen phi = 20 degrees = %.3fp\n',AB,ab,arc1,arc2)"
   ]
   }
],
"metadata": {
		  "kernelspec": {
		   "display_name": "Scilab",
		   "language": "scilab",
		   "name": "scilab"
		  },
		  "language_info": {
		   "file_extension": ".sce",
		   "help_links": [
			{
			 "text": "MetaKernel Magics",
			 "url": "https://github.com/calysto/metakernel/blob/master/metakernel/magics/README.md"
			}
		   ],
		   "mimetype": "text/x-octave",
		   "name": "scilab",
		   "version": "0.7.1"
		  }
		 },
		 "nbformat": 4,
		 "nbformat_minor": 0
}
