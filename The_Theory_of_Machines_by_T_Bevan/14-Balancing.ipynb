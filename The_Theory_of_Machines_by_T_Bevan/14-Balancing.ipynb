{
"cells": [
 {
		   "cell_type": "markdown",
	   "metadata": {},
	   "source": [
       "# Chapter 14: Balancing"
	   ]
	},
{
		   "cell_type": "markdown",
		   "metadata": {},
		   "source": [
			"## Example 14.12: Resultant_primary.sce"
		   ]
		  },
  {
"cell_type": "code",
	   "execution_count": null,
	   "metadata": {
	    "collapsed": true
	   },
	   "outputs": [],
"source": [
"\n",
"clc\n",
"//given\n",
"N=1500 //rpm\n",
"R=4//lb\n",
"g=32.2//ft/s^2\n",
"w=%pi*N/30\n",
"stroke=5//in\n",
"r=stroke/2\n",
"l=9//in\n",
"b=3.5//in\n",
"B=(3/2)*R*r/b//primary force\n",
"n=l/r\n",
"F=(3/2)*R*w^2*r/(g*12*n)//secondary force\n",
"printf('\nResultant primary force = %.2f lb\nResultant secondary force = %.f lb',B,F)"
   ]
   }
,
{
		   "cell_type": "markdown",
		   "metadata": {},
		   "source": [
			"## Example 14.13: Maximum_and_minimum_secondary_force.sce"
		   ]
		  },
  {
"cell_type": "code",
	   "execution_count": null,
	   "metadata": {
	    "collapsed": true
	   },
	   "outputs": [],
"source": [
"\n",
"clc\n",
"//given\n",
"g=32.2//ft/s^2\n",
"n=2000//rpm\n",
"R=6//lb\n",
"r=3//in\n",
"L=11//in\n",
"w=%pi*n/30\n",
"n=L/r\n",
"//minimum secondary force\n",
"F1=2*R*w^2*r/(g*n*12)\n",
"a=floor(F1)\n",
"//maximum secondary force\n",
"F2=6*R*w^2*r/(g*n*12)\n",
"b=floor(F2)\n",
"printf('\nMinimum secondary force = %.f lb\nMaximum secondary force = %.f lb',a,b)"
   ]
   }
,
{
		   "cell_type": "markdown",
		   "metadata": {},
		   "source": [
			"## Example 14.1: Balance_weights.sce"
		   ]
		  },
  {
"cell_type": "code",
	   "execution_count": null,
	   "metadata": {
	    "collapsed": true
	   },
	   "outputs": [],
"source": [
"\n",
"clc\n",
"//given\n",
"W=200//lb\n",
"r=9//in\n",
"b1=15//in\n",
"bm=b1\n",
"l=10//in\n",
"d=50//in\n",
"//case a\n",
"ma=d+l\n",
"Bm1=W*r*l/(d*bm)//From 14.2\n",
"B11=W*r*ma/(d*b1)//from 14.3\n",
"//case b\n",
"mb=d-l\n",
"Bm2=W*r*l/(d*bm)//from 14.2\n",
"B12=W*r*mb/(d*b1)//from 14.3\n",
"printf('\na) Bm= %.f lb ; B1= %.f lb\nb) Bm= %.f lb ; B1= %.f lb',Bm1,B11,Bm2,B12)"
   ]
   }
,
{
		   "cell_type": "markdown",
		   "metadata": {},
		   "source": [
			"## Example 14.2: p_o_s_i_t_i_o_n_and_m_a_g_n_i_t_u_d_e.sce"
		   ]
		  },
  {
"cell_type": "code",
	   "execution_count": null,
	   "metadata": {
	    "collapsed": true
	   },
	   "outputs": [],
"source": [
"\n",
"clc\n",
"//given\n",
"Wa=200//lb\n",
"Wb=300//lb\n",
"Wc=240//lb\n",
"W1=260//lb\n",
"ra=9//in\n",
"rb=7//in\n",
"rc=10//in\n",
"r1=12//in\n",
"R=24//in\n",
"alpha=45*%pi/180\n",
"bita=75*%pi/180\n",
"gama=135*%pi/180\n",
"Hb=Wa*ra+Wb*rb*cos(alpha)-Wc*rc*cos(gama-bita)-W1*r1*cos(bita)//horizontal component after resolving\n",
"Vb=Wb*rb*sin(alpha)+Wc*rc*sin(gama-bita)-W1*r1*sin(bita)//vertical component after resolving\n",
"Bb=(Hb^2+Vb^2)^(1/2)\n",
"B=Bb/R\n",
"theta=atand(Vb/Hb)\n",
"printf('\nBalance weight required = %.1f lb\ntheta = %.2f degrees',B,theta)"
   ]
   }
,
{
		   "cell_type": "markdown",
		   "metadata": {},
		   "source": [
			"## Example 14.5: Balanced_weight.sce"
		   ]
		  },
  {
"cell_type": "code",
	   "execution_count": null,
	   "metadata": {
	    "collapsed": true
	   },
	   "outputs": [],
"source": [
"\n",
"clc\n",
"//given\n",
"W=180//lb\n",
"R=150//lb\n",
"c=.5\n",
"N=300//rpm\n",
"r=7.5/12//ft\n",
"Bb=(W+c*R)*r*12\n",
"b=6//in\n",
"B=Bb/b\n",
"w=(%pi*N)/30\n",
"Uf=(1/2)*(R/g)*w^2*r\n",
"a=floor(Uf)\n",
"printf('Balance weight required = %.1f lb\n The resultant unbalanced force = %.f lb\n',B,a)"
   ]
   }
],
"metadata": {
		  "kernelspec": {
		   "display_name": "Scilab",
		   "language": "scilab",
		   "name": "scilab"
		  },
		  "language_info": {
		   "file_extension": ".sce",
		   "help_links": [
			{
			 "text": "MetaKernel Magics",
			 "url": "https://github.com/calysto/metakernel/blob/master/metakernel/magics/README.md"
			}
		   ],
		   "mimetype": "text/x-octave",
		   "name": "scilab",
		   "version": "0.7.1"
		  }
		 },
		 "nbformat": 4,
		 "nbformat_minor": 0
}
