{
"cells": [
 {
		   "cell_type": "markdown",
	   "metadata": {},
	   "source": [
       "# Chapter 11: Gear Trains"
	   ]
	},
{
		   "cell_type": "markdown",
		   "metadata": {},
		   "source": [
			"## Example 11.10: Find_the_ratio.sce"
		   ]
		  },
  {
"cell_type": "code",
	   "execution_count": null,
	   "metadata": {
	    "collapsed": true
	   },
	   "outputs": [],
"source": [
"\n",
"clc\n",
"//given\n",
"s1=26\n",
"s2=24\n",
"s3=23\n",
"sr=31\n",
"i1=70\n",
"i2=72\n",
"i3=61\n",
"ir=71\n",
"t=1500//lb in \n",
"k1=-i3/s3//Ns3-Ni2/(Ni3-Ni2)=k\n",
"//S3 is fixed thus \n",
"k2=1-(1/k1)//k2=Ni3/Ni2\n",
"k3=-i2/s2//k3=Ns2-Ni3/(Ni2-Ni3)\n",
"k4=(1/k2-1)*k3+1//k4=Ns2/Ni3  ; reducing using k2 and k3\n",
"k5=-i1/s1//Ns1-Nf/(Ni1-Nf)\n",
"k6=(1-k5)/(1-k5/k4)//k6=Ns1/Nf\n",
"printf('\n Ns1/Nf = %.2f',k6)"
   ]
   }
,
{
		   "cell_type": "markdown",
		   "metadata": {},
		   "source": [
			"## Example 11.1: find_gear_train.sce"
		   ]
		  },
  {
"cell_type": "code",
	   "execution_count": null,
	   "metadata": {
	    "collapsed": true
	   },
	   "outputs": [],
"source": [
"\n",
"clc\n",
"//given\n",
"Ns=26//rpm of spindle\n",
"N1=4//rpm of lead screw\n",
"//the only wheel in the set of which 13 is a factor is that with 65 teeth\n",
"T1=65\n",
"T2=25//to satisfy the Ns/n1 ratio and to select from given set\n",
"T3=75//to satisfy the Ns/n1 ratio and to select from given set\n",
"T4=T1*T3*N1/(Ns*T2)\n",
"//solution b\n",
"Ns1=35\n",
"N1=4\n",
"Tb1=105//to satisfy the Ns/n1 ratio and to select from given set\n",
"Tb2=30//to satisfy the Ns/n1 ratio and to select from given set\n",
"Tb3=100//to satisfy the Ns/n1 ratio and to select from given set\n",
"Tb4=Tb1*Tb3*N1/(Ns1*Tb2)\n",
"printf('\na) The change wheel used will have %.f, %.f, %.f and %.f teeths\nb) The change wheel used will have %.f, %.f, %.f and %.f teeths',T1,T2,T3,T4,Tb1,Tb2,Tb3,Tb4)"
   ]
   }
,
{
		   "cell_type": "markdown",
		   "metadata": {},
		   "source": [
			"## Example 11.2: Overall_ratio.sce"
		   ]
		  },
  {
"cell_type": "code",
	   "execution_count": null,
	   "metadata": {
	    "collapsed": true
	   },
	   "outputs": [],
"source": [
"\n",
"clc\n",
"//given\n",
"v=15//ft/min\n",
"d=2//ft\n",
"N=450//rpm\n",
"N1=d*v/(2*%pi)//rpm of barrel\n",
"s=N/N1//total reduction speed required\n",
"//With a minimum number of teeth = 20\n",
"T=20\n",
"T1=T*(s)^(1/3)\n",
"R=(T1/T)^3\n",
"printf('\nIf the minimum number of teeth is fixed at 20, the might be as follow ( %.f / 20 )^3 = %.1f\nThis is sufficiently close to the required ratio\n',T1,R)"
   ]
   }
,
{
		   "cell_type": "markdown",
		   "metadata": {},
		   "source": [
			"## Example 11.3: Find_number_of_teeth.sce"
		   ]
		  },
  {
"cell_type": "code",
	   "execution_count": null,
	   "metadata": {
	    "collapsed": true
	   },
	   "outputs": [],
"source": [
"\n",
"clc\n",
"//given\n",
"d=7//in; central distance\n",
"k1=2*7*7//T1+t1/(2*7)=7\n",
"k2=2*7*5//T2+t2/(2*5)=7\n",
"G=9/1\n",
"t1=(-(k1+k2)+((k1+k2)^2+4*(G-1)*(k1*k2))^(1/2))/(2*(G-1))\n",
"a=ceil(t1)\n",
"b=floor(t1)\n",
"T1=k1-a\n",
"T2=k2-a\n",
"T3=k2-b\n",
"G1=T1*T2/(a*a)\n",
"G2=T1*T3/(a*b)\n",
"dp=a/d\n",
"//case b)\n",
"tb1=23//let t1 = 23\n",
"Tb1=k1-tb1\n",
"Gb1=Tb1/tb1\n",
"Gb2=G/Gb1\n",
"tb2=k2/(Gb2+1)\n",
"p=ceil(tb2)\n",
"Tb2=k2-p\n",
"l=Tb1-1\n",
"m=tb1+1\n",
"n=Tb2+1\n",
"o=p-1\n",
"Gb2=l*n/(m*o)\n",
"printf('\na) No of teeth = %.f, %.f, %.f, %.f\nG = %.2f\n\nb) No of teeth = %.f, %.f, %.f, %.f\nG = %.2f\n\n',T1,T2,a,b,G2,l,m,n,o,Gb2)"
   ]
   }
,
{
		   "cell_type": "markdown",
		   "metadata": {},
		   "source": [
			"## Example 11.5: Find_ratio.sce"
		   ]
		  },
  {
"cell_type": "code",
	   "execution_count": null,
	   "metadata": {
	    "collapsed": true
	   },
	   "outputs": [],
"source": [
"\n",
"clc\n",
"//given\n",
"Tb=27\n",
"Tc=30\n",
"Td=24\n",
"Te=21\n",
"k=Te*Tb/(Tc*Td)//k=Nd/Ne\n",
"//by applying componendo and dividendo, using Ne=0 and reducing we get\n",
"a=(1-k)//where a = Nd/Na\n",
"b=1/a\n",
"printf('\nThe ratio of the speed of driving shaft to the speed of driven shaft\n\nNa/Nd = %.2f',b)"
   ]
   }
,
{
		   "cell_type": "markdown",
		   "metadata": {},
		   "source": [
			"## Example 11.6: speed_of_driven_shaft.sce"
		   ]
		  },
  {
"cell_type": "code",
	   "execution_count": null,
	   "metadata": {
	    "collapsed": true
	   },
	   "outputs": [],
"source": [
"\n",
"clc\n",
"//given\n",
"Tb=75\n",
"Tc=18\n",
"Td=17\n",
"Te=71\n",
"N1=500//rpm\n",
"k=Tb*Td/(Tc*Te)//k=Ne/Nb\n",
"//case a)\n",
"//using componendo and dividendo , Nb=0 and reducing we get\n",
"a=1-k//a=Ne/Na\n",
"Na=N1\n",
"Ne=Na*a\n",
"//case b)\n",
"Na1=500//given\n",
"Nb1=100//given\n",
"Ne1=k*(Nb1-Na1)+Na1\n",
"printf('\ncase a) Ne= %.3f rpm\ncase b) Ne= %.1f rpm\n',Ne,Ne1)"
   ]
   }
,
{
		   "cell_type": "markdown",
		   "metadata": {},
		   "source": [
			"## Example 11.8: Diameter_of_bicycle_wheel.sce"
		   ]
		  },
  {
"cell_type": "code",
	   "execution_count": null,
	   "metadata": {
	    "collapsed": true
	   },
	   "outputs": [],
"source": [
"\n",
"clc\n",
"//given\n",
"Td=23\n",
"Ta=19\n",
"Tb=20\n",
"Tc=22\n",
"k=Td*Ta/(Tb*Tc)\n",
"//using componendo and dividendo, Nc=0 and reducing we get\n",
"a=1/k-1//a=Nd/Ne\n",
"b=1/a//- denotes opposite direction\n",
"d=5280*12/(%pi*5*b)\n",
"p=ceil(d)\n",
"printf('\nThe diameter must be = %.1f in\nThe numbers of teeths are therefore suitable for a cyclometer for bicycle with %.f inches wheels',d,p)\n",
""
   ]
   }
],
"metadata": {
		  "kernelspec": {
		   "display_name": "Scilab",
		   "language": "scilab",
		   "name": "scilab"
		  },
		  "language_info": {
		   "file_extension": ".sce",
		   "help_links": [
			{
			 "text": "MetaKernel Magics",
			 "url": "https://github.com/calysto/metakernel/blob/master/metakernel/magics/README.md"
			}
		   ],
		   "mimetype": "text/x-octave",
		   "name": "scilab",
		   "version": "0.7.1"
		  }
		 },
		 "nbformat": 4,
		 "nbformat_minor": 0
}
