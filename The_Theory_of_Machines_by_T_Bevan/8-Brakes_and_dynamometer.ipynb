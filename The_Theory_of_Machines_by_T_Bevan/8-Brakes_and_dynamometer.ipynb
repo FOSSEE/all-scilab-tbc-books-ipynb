{
"cells": [
 {
		   "cell_type": "markdown",
	   "metadata": {},
	   "source": [
       "# Chapter 8: Brakes and dynamometer"
	   ]
	},
{
		   "cell_type": "markdown",
		   "metadata": {},
		   "source": [
			"## Example 8.1: Braking_trrques.sce"
		   ]
		  },
  {
"cell_type": "code",
	   "execution_count": null,
	   "metadata": {
	    "collapsed": true
	   },
	   "outputs": [],
"source": [
"\n",
"clc\n",
"//given\n",
"dia=12//in\n",
"r=dia/2\n",
"CQ=7//in\n",
"OC=6//in\n",
"OH=15//in\n",
"u=0.3\n",
"P=100//lb\n",
"phi=atan(u)\n",
"x=r*sin(phi)//in inches;radius of friction circle\n",
"a=5.82//from figure\n",
"Tb=P*OH*x/a//braking torque\n",
"printf('\nThe braking torque of the drum Tb= %.2f lb in\n',Tb)"
   ]
   }
,
{
		   "cell_type": "markdown",
		   "metadata": {},
		   "source": [
			"## Example 8.2: Braking_troque_applied_to_the_drum.sce"
		   ]
		  },
  {
"cell_type": "code",
	   "execution_count": null,
	   "metadata": {
	    "collapsed": true
	   },
	   "outputs": [],
"source": [
"\n",
"clc\n",
"//given\n",
"\n",
"OH=15//in\n",
"l=OH\n",
"u=0.3\n",
"P=100//lb\n",
"phi=atan(u)\n",
"//according to fig 170(b)\n",
"//for clockwise rotation\n",
"a=6//from figure\n",
"x=r*sin(phi)//in inches;radius of friction circle\n",
"Tb=P*l*x/a//braking torque on the drum\n",
"//for counter clockwise rotation\n",
"a1=5.5//in\n",
"Tb1=P*l*x/a1//braking torque on the drum\n",
"//according to figure 172(a)\n",
"//for clockwise rotation\n",
"a2=6.48//from figure\n",
"x=r*sin(phi)//in inches;radius of friction circle\n",
"Tb2=P*l*x/a2//braking torque on the drum\n",
"//for counter clockwise rotation\n",
"a3=6.38//in\n",
"Tb3=P*l*x/a3//braking torque on the drum\n",
"T1=ceil(Tb1)\n",
"T2=ceil(Tb2)\n",
"T3=ceil(Tb3)\n",
"printf('\nbraking torque on drum\nWhen dimensions are measured from fig 170(b)\nFor clockwise rotation= %.f lb in\nFor counter clockwise rotation= %.f lb in\nWhen dimensions are measured from fig 171(a)\nFor clockwise rotation= %.f lb in\nFor counter clockwise rotation= %.f lb in',Tb,T1,T2,T3)\n",
"\n",
"\n",
""
   ]
   }
,
{
		   "cell_type": "markdown",
		   "metadata": {},
		   "source": [
			"## Example 8.3: Magnitude_of_force.sce"
		   ]
		  },
  {
"cell_type": "code",
	   "execution_count": null,
	   "metadata": {
	    "collapsed": true
	   },
	   "outputs": [],
"source": [
"\n",
"clc\n",
"//given\n",
"u=.35\n",
"Tb=500//lb.ft\n",
"rd=10//in\n",
"phi=atan(u)\n",
"x=rd*sin(phi)\n",
"//F*OD=R*a=R1*a\n",
"//R=R1\n",
"//2*R*x=Tb\n",
"OD=24//in\n",
"a=11.5//inches; From figure\n",
"F=Tb*a*12/(OD*2*x)\n",
"//from figure\n",
"HG=4//in\n",
"GK=12//in\n",
"HL=12.22//in\n",
"P=F*HG/GK\n",
"Fhd=HL*P/HG\n",
"printf('\na) Magnitude of P = %.f lb',P)\n",
"printf('\nb) Magnitude of Fhd = %.f lb',Fhd)"
   ]
   }
,
{
		   "cell_type": "markdown",
		   "metadata": {},
		   "source": [
			"## Example 8.4: force_required_to_support_load.sce"
		   ]
		  },
  {
"cell_type": "code",
	   "execution_count": null,
	   "metadata": {
	    "collapsed": true
	   },
	   "outputs": [],
"source": [
"\n",
"clc\n",
"//given\n",
"u=.3\n",
"theta=270*%pi/180\n",
"l=18//in\n",
"a=4//in\n",
"Di=15//in\n",
"Do=21//in\n",
"w=.5//tons\n",
"W=w*2204//lb\n",
"Q=W*Di/Do//required tangential braking force on the drum\n",
"k=%e^(u*theta)//k=T1/T2\n",
"p=Q*a/(l*(k-1))\n",
"printf('Least force required, P = %.f lb',p)"
   ]
   }
,
{
		   "cell_type": "markdown",
		   "metadata": {},
		   "source": [
			"## Example 8.5: Effort_applied.sce"
		   ]
		  },
  {
"cell_type": "code",
	   "execution_count": null,
	   "metadata": {
	    "collapsed": true
	   },
	   "outputs": [],
"source": [
"\n",
"clc\n",
"//given\n",
"n=12\n",
"u=.28\n",
"a=4.5//in\n",
"b=1//in\n",
"l=21//in\n",
"r=15//in\n",
"Tb=4000//lb\n",
"theta=10*%pi/180\n",
"//k=Tn/To\n",
"k=((1+u*tan(theta))/(1-u*tan(theta)))^n\n",
"Q=Tb*(12/r)\n",
"P=Q*(a-b*k)/(l*(k-1))//from combining 8.6 with k=e^u*theta\n",
"printf('The least effort required = P = %.1f lb',P)"
   ]
   }
,
{
		   "cell_type": "markdown",
		   "metadata": {},
		   "source": [
			"## Example 8.6: minimum_distance.sce"
		   ]
		  },
  {
"cell_type": "code",
	   "execution_count": null,
	   "metadata": {
	    "collapsed": true
	   },
	   "outputs": [],
"source": [
"clc\n",
"//given\n",
"w=9.5 //ft\n",
"h= 2 //ft\n",
"x=4 //ft\n",
"v=30//mph\n",
"V=1.46667*v//ft/s\n",
"u1=.1\n",
"u2=.6\n",
"g=32.2//ft/s^2\n",
"//a) rear wheels braked\n",
"fa1=(u1*(w-x)*g)/(w+u1*h)\n",
"fa2=(u2*(w-x)*g)/(w+u2*h)\n",
"sa1=V^2/(2*fa1)\n",
"sa2=V^2/(2*fa2)\n",
"//b) front wheels braked\n",
"fb1=u1*x*g/(w-u1*h)\n",
"fb2=u2*x*g/(w-u2*h)\n",
"sb1=V^2/(2*fb1)\n",
"sb2=V^2/(2*fb2)\n",
"//c) All wheels braked\n",
"fc1=u1*g\n",
"fc2=u2*g\n",
"sc1=V^2/(2*fc1)\n",
"sc2=V^2/(2*fc2)\n",
"k1=(x+u1*h)/(w-x-u1*h)//Na/Nb\n",
"k2=(x+u2*h)/(w-x-u2*h)//Na/Nb\n",
"printf('\nCoefficient of friction = 0.1\na) Minimum distance in which car may be stopped when the rear brakes are applied = %.f ft\nb) Minimum distance in which car may be stopped when the front brakes are applied = %.f ft\nc) Minimum distance in which car may be stopped when all brakes are applied = %.f ft\nCoefficient of friction = 0.6\na) Minimum distance in which car may be stopped when the rear brakes are applied = %.f ft\nb) Minimum distance in which car may be stopped when the front brakes are applied = %.f ft\nc) Minimum distance in which car may be stopped when all brakes are applied = %.f ft\n',sa1,sb1,sc1,sa2,sb2,sc2)\n",
"printf('Required ration of Na/Nb\nFor u1 = 0.1 -> %.3f\nFor u2 = 0.6 -> %.2f\n',k1,k2)"
   ]
   }
],
"metadata": {
		  "kernelspec": {
		   "display_name": "Scilab",
		   "language": "scilab",
		   "name": "scilab"
		  },
		  "language_info": {
		   "file_extension": ".sce",
		   "help_links": [
			{
			 "text": "MetaKernel Magics",
			 "url": "https://github.com/calysto/metakernel/blob/master/metakernel/magics/README.md"
			}
		   ],
		   "mimetype": "text/x-octave",
		   "name": "scilab",
		   "version": "0.7.1"
		  }
		 },
		 "nbformat": 4,
		 "nbformat_minor": 0
}
