{
"cells": [
 {
		   "cell_type": "markdown",
	   "metadata": {},
	   "source": [
       "# Chapter 5: Valve diagrams and valve gears"
	   ]
	},
{
		   "cell_type": "markdown",
		   "metadata": {},
		   "source": [
			"## Example 5.1: find_theta_at_admission.sce"
		   ]
		  },
  {
"cell_type": "code",
	   "execution_count": null,
	   "metadata": {
	    "collapsed": true
	   },
	   "outputs": [],
"source": [
"\n",
"clc\n",
"//given\n",
"s=1.125//inch\n",
"e=0.25//inch\n",
"t=2.25//inch\n",
"alpha=35//degrees\n",
"//from 5.2, we know theta+alpha=sininverse(s/t)\n",
"x=asind(s/t)\n",
"y=180-x//sin(x)=sin(180-x)=sin(y)\n",
"//at admission\n",
"p=x-alpha\n",
"//at cutoff\n",
"q=y-alpha\n",
"//from 5.3, theta+alpha=sininnverse(-e/t)\n",
"ang=asind(-e/t)\n",
"angle=abs(ang)\n",
"a=180+angle//lies in the negative region of sine curve\n",
"b=360-angle//lies in hte negative region of sine curve\n",
"//at release\n",
"r=a-alpha\n",
"//at compression\n",
"s=b-alpha\n",
"printf('Angle theta at admission, cut-off,\n release and compression are %.2f, %.2f, %.2f and %.2f degrees respectively',p,q,r,s)\n",
"\n",
""
   ]
   }
],
"metadata": {
		  "kernelspec": {
		   "display_name": "Scilab",
		   "language": "scilab",
		   "name": "scilab"
		  },
		  "language_info": {
		   "file_extension": ".sce",
		   "help_links": [
			{
			 "text": "MetaKernel Magics",
			 "url": "https://github.com/calysto/metakernel/blob/master/metakernel/magics/README.md"
			}
		   ],
		   "mimetype": "text/x-octave",
		   "name": "scilab",
		   "version": "0.7.1"
		  }
		 },
		 "nbformat": 4,
		 "nbformat_minor": 0
}
