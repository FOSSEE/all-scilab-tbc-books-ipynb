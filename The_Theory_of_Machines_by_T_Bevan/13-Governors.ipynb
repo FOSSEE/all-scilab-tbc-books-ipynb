{
"cells": [
 {
		   "cell_type": "markdown",
	   "metadata": {},
	   "source": [
       "# Chapter 13: Governors"
	   ]
	},
{
		   "cell_type": "markdown",
		   "metadata": {},
		   "source": [
			"## Example 13.10: Coefficient_of_insensitiveness.sce"
		   ]
		  },
  {
"cell_type": "code",
	   "execution_count": null,
	   "metadata": {
	    "collapsed": true
	   },
	   "outputs": [],
"source": [
"\n",
"//given\n",
"fs=3//lb\n",
"W=90//lb\n",
"w=15//lb\n",
"//fb=(fs/2)*(1+k)*(r/h) From equation 13.31\n",
"k=1//All the arms are of equal length\n",
"//fb=fs*(r/h)\n",
"//comparing the above result with the one obtained from example 8 , F=(W+w)*(r/h), we get coefficient of insensitiveness = k = (N1-N2)/N = fs/(W+w)\n",
"k=fs/(W+w)\n",
"K=k*100\n",
"printf('Coefficient of insensitiveness = %.3f',k)\n",
"\n",
""
   ]
   }
,
{
		   "cell_type": "markdown",
		   "metadata": {},
		   "source": [
			"## Example 13.11: Coefficients.sce"
		   ]
		  },
  {
"cell_type": "code",
	   "execution_count": null,
	   "metadata": {
	    "collapsed": true
	   },
	   "outputs": [],
"source": [
"\n",
"//given\n",
"a=4.5//in\n",
"b=2//in\n",
"r1=2.5//in\n",
"r2=4.5//in\n",
"F2=12.25//lb\n",
"F1=25.4//lb\n",
"fs=1.5//lb\n",
"fb=(fs/2)*(b/a)\n",
"//At minimum radii\n",
"k1=fb/F2\n",
"//At maximum radii\n",
"k2=fb/F1\n",
"printf('Coefficient of insensitiveness\nAt minimum radii = %.4f\nAt maximum radii = %.4f\n',k1,k2)"
   ]
   }
,
{
		   "cell_type": "markdown",
		   "metadata": {},
		   "source": [
			"## Example 13.1: Equilibrium_speed.sce"
		   ]
		  },
  {
"cell_type": "code",
	   "execution_count": null,
	   "metadata": {
	    "collapsed": true
	   },
	   "outputs": [],
"source": [
"\n",
"clc\n",
"//given\n",
"//all lengths are in inches\n",
"W=120//lb\n",
"w=15//lb\n",
"AB=12\n",
"BF=8\n",
"BC=12\n",
"BE=6.5\n",
"g=35230//inches rpm\n",
"//at Minimum radius \n",
"AF=(AB^2-BF^2)^(1/2)\n",
"CE=(BC^2-BE^2)^(1/2)\n",
"k2=(BE*AF)/(CE*BF)\n",
"N2=(((W/2)*(1+k2)+w)*g/(w*AF))^(1/2)\n",
"//At MAximum radius \n",
"BF1=10\n",
"BE1=8.5\n",
"AF1=(AB^2-BF1^2)^(1/2)\n",
"CE1=(BC^2-BE1^2)^(1/2)\n",
"k1=(BE1*AF1)/(CE1*BF1)\n",
"N1=(((W/2)*(1+k1)+w)*g/(w*AF1))^(1/2)\n",
"printf('\nN1 (corresponding maximum radius) = %.1f rpm\nN2 (corresponding minimum radius) = %.1f rpm',N1,N2)"
   ]
   }
,
{
		   "cell_type": "markdown",
		   "metadata": {},
		   "source": [
			"## Example 13.2: Weight_of_ball.sce"
		   ]
		  },
  {
"cell_type": "code",
	   "execution_count": null,
	   "metadata": {
	    "collapsed": true
	   },
	   "outputs": [],
"source": [
"\n",
"clc\n",
"//given\n",
"BG=4//in\n",
"//solution a\n",
"w=15//lb\n",
"W=120//lb\n",
"k=.720\n",
"BD=10.08//in\n",
"CE=BD\n",
"DG=BD+BG\n",
"//by equating quations 13.2 and 13.10 and reducing, we get\n",
"w1=(W/2*(1+k))/(((W/2*(1+k)+w)*DG/(BD*w))-1)\n",
"printf('\nWeight of ball = %.3f lb\n',w1)\n",
"//solution b\n",
"CD=6.5//in\n",
"BC=12//in\n",
"BF=10//in\n",
"AB=12//in\n",
"CG=(DG^2+CD^2)^(1/2)\n",
"gama=atan(CD/DG)\n",
"bita=asin(CD/BC)\n",
"alpha1=asin(BF/AB)\n",
"bita1=asin(8.5/BC)\n",
"gama1=gama+bita1-bita\n",
"F=((w1+W/2)*8.471*(tan(alpha1)+tan(bita1)))/(CG*cos(gama1))-(w1*tan(gama1))\n",
"printf('F1= %.1f lb',F)\n",
"r1=CG*sin(gama1)+1.5//radius of rotation\n",
"N1=(30/%pi)*(F*32.2*12/(w1*r1))^(1/2)\n",
"printf('\nr1= %.2f in\nN1= %.1f rpm',r1,N1)"
   ]
   }
,
{
		   "cell_type": "markdown",
		   "metadata": {},
		   "source": [
			"## Example 13.3: Rate_of_stiffness.sce"
		   ]
		  },
  {
"cell_type": "code",
	   "execution_count": null,
	   "metadata": {
	    "collapsed": true
	   },
	   "outputs": [],
"source": [
"\n",
"clc\n",
"//given\n",
"w=3//lb\n",
"g=32.2\n",
"N2=300\n",
"w2=(N2*%pi/30)\n",
"r2=3/12//ft\n",
"N1=1.06*N2\n",
"r1=4.5/12//ft\n",
"a=4//in\n",
"b=2//in\n",
"ro=3.5/12//ft\n",
"F2=w*w2^2*r2/g\n",
"F1=F2*N1^2*r1/(N2^2*r2)\n",
"p=2*a^2*(F1-F2)/(b^2*(r1-r2))\n",
"Fc=F2+(F1-F2)*(.5/1.5)\n",
"N=(Fc*g/(ro*w))^(1/2)*30/%pi\n",
"Ns=ceil(N)\n",
"printf('N = %.f rpm',Ns)"
   ]
   }
,
{
		   "cell_type": "markdown",
		   "metadata": {},
		   "source": [
			"## Example 13.4: Equivalent_stifness.sce"
		   ]
		  },
  {
"cell_type": "code",
	   "execution_count": null,
	   "metadata": {
	    "collapsed": true
	   },
	   "outputs": [],
"source": [
"\n",
"clc\n",
"//given\n",
"w=5//lb\n",
"g=32.2\n",
"N2=240//rpm\n",
"w2=(N2*%pi/30)\n",
"r2=5/12//ft\n",
"N1=1.05*N2\n",
"r1=7/12//ft\n",
"a=6//in\n",
"b=4//in\n",
"pb=3/2\n",
"F2=w*w2^2*r2/g\n",
"F1=F2*N1^2*r1/(N2^2*r2)\n",
"p=2*(a/b)^2*((F1-F2)/(r1*12-r2*12)-4*pb)\n",
"printf('Equivalent stiffness; p = %.f lb/in',p)"
   ]
   }
,
{
		   "cell_type": "markdown",
		   "metadata": {},
		   "source": [
			"## Example 13.5: stiffness_of_governor_spring.sce"
		   ]
		  },
  {
"cell_type": "code",
	   "execution_count": null,
	   "metadata": {
	    "collapsed": true
	   },
	   "outputs": [],
"source": [
"\n",
"clc\n",
"//given\n",
"w=3//lb\n",
"W=15//lb\n",
"g=32.2\n",
"r2=2.5/12//ft\n",
"N2=240//rpm\n",
"w2=N*%pi/30\n",
"F2=w*w2^2*r2/g\n",
"a=4.5//in\n",
"b=2//in\n",
"sleevelift=0.5\n",
"r1=r2*12+a*sleevelift/b//the increase of radius for a scleeve lift is 0.5 in\n",
"N1=1.05*N2\n",
"F1=(N1/N2)^2*(r1/(r2*12))*F2\n",
"//a) at minimum radius\n",
"S2=(F2*a/b-w)*2-W\n",
"//b) At maximum radius\n",
"DB=r1-r2*12\n",
"BI=1.936//in\n",
"AD=a\n",
"BI=b\n",
"S1=2*(F1*AD/BI-w*(DB+BI)/BI)-W\n",
"k=(S1-S2)/sleevelift\n",
"printf('Stiffness of the spring is %.1f lb/in',k)\n",
"//answer wrong in the book"
   ]
   }
,
{
		   "cell_type": "markdown",
		   "metadata": {},
		   "source": [
			"## Example 13.6: Governor_effort_and_power.sce"
		   ]
		  },
  {
"cell_type": "code",
	   "execution_count": null,
	   "metadata": {
	    "collapsed": true
	   },
	   "outputs": [],
"source": [
"\n",
"clc\n",
"//given\n",
"c=0.01\n",
"W=120//lb\n",
"w=15//lb\n",
"k=.720\n",
"h=8.944//in\n",
"Q=c*(W+2*w/(1+k))\n",
"x=(2*c/(1+2*c))*(1+k)*h\n",
"P=Q*x\n",
"printf('Governor power = Q*x = %.3f in lb',P)\n",
""
   ]
   }
,
{
		   "cell_type": "markdown",
		   "metadata": {},
		   "source": [
			"## Example 13.7: Governor_power.sce"
		   ]
		  },
  {
"cell_type": "code",
	   "execution_count": null,
	   "metadata": {
	    "collapsed": true
	   },
	   "outputs": [],
"source": [
"\n",
"clc\n",
"//given\n",
"r=6//in\n",
"a=6//in\n",
"b=4//in\n",
"//from example 4(using conditions and calculating constants A and B) we get F=11.1r-14.6\n",
"//when r=6 , F= 52\n",
"F=52//lb\n",
"inc=2*.01*52//increase neglecting very small values\n",
"F1=F+inc\n",
"F2=2*a*inc/b//Force required to prevent the sleeve from rising \n",
"F3=F2/2//Force is uniformly distributed\n",
"r2=-14.6/(F1/r-11.1)//from equation 1\n",
"x=r2-r//increase in radius of rotation\n",
"lift=b*x/a//sleeve lift\n",
"P=F3*lift//governor power\n",
"printf('Governor power = %.3f in lb',P)"
   ]
   }
],
"metadata": {
		  "kernelspec": {
		   "display_name": "Scilab",
		   "language": "scilab",
		   "name": "scilab"
		  },
		  "language_info": {
		   "file_extension": ".sce",
		   "help_links": [
			{
			 "text": "MetaKernel Magics",
			 "url": "https://github.com/calysto/metakernel/blob/master/metakernel/magics/README.md"
			}
		   ],
		   "mimetype": "text/x-octave",
		   "name": "scilab",
		   "version": "0.7.1"
		  }
		 },
		 "nbformat": 4,
		 "nbformat_minor": 0
}
