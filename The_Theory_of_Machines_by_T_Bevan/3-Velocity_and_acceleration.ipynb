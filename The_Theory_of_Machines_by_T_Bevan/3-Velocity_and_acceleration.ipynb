{
"cells": [
 {
		   "cell_type": "markdown",
	   "metadata": {},
	   "source": [
       "# Chapter 3: Velocity and acceleration"
	   ]
	},
{
		   "cell_type": "markdown",
		   "metadata": {},
		   "source": [
			"## Example 3.3: Velocities.sce"
		   ]
		  },
  {
"cell_type": "code",
	   "execution_count": null,
	   "metadata": {
	    "collapsed": true
	   },
	   "outputs": [],
"source": [
"\n",
"clc\n",
"//Given\n",
"OC=6//in\n",
"CP=24//in\n",
"N=240//rpm\n",
"X=45//degrees\n",
"XP=19//in\n",
"XC=6//in\n",
"YP=32//in\n",
"YC=9//in\n",
"//Scalling off lenghts from fig , we have\n",
"CI=2.77//in\n",
"PI=2.33//in\n",
"XI=2.33//in\n",
"YI=3.48//in\n",
"//Solution\n",
"Vc=((%pi*N)/30)*(OC/12)//changing OP into feets\n",
"printf('\nw=%.2f ft/s\n',Vc)\n",
"//w=Vc/CI=Vp/PI=Vx/XI=Vy/YI\n",
"w=Vc/CI\n",
"Vp=w*PI\n",
"Vx=w*XI\n",
"Vy=w*YI\n",
"printf('velocity of points P, X and Y \n are %.2f ft/s, %.2f ft/s and %.1f ft/s respectively',Vp,Vx,Vy)"
   ]
   }
,
{
		   "cell_type": "markdown",
		   "metadata": {},
		   "source": [
			"## Example 3.4: find_acceleration.sce"
		   ]
		  },
  {
"cell_type": "code",
	   "execution_count": null,
	   "metadata": {
	    "collapsed": true
	   },
	   "outputs": [],
"source": [
"\n",
"clc\n",
"printf('\n')\n",
"//Given\n",
"OC=9//inches\n",
"CP=36//inches\n",
"XC=12//inches\n",
"X=40//degrees\n",
"CM=6.98//from the scaled figure\n",
"N1=240//rpm\n",
"N2=240//rpm (instantaneous) with angular aceleration (ao) 100 rad/s^2\n",
"ao=100 //rad/s^2\n",
"w=(%pi*N1/30)\n",
"a=w^2*(OC/12)\n",
"printf('Centripetal acceleration = %.f ft/s^2\n',a)\n",
"Wr=w*CM/CP//rad/s^2\n",
"f1=Wr^2*(CP/12)//centripetal component of acceleration of p realtive to C\n",
"//Solution a)\n",
"//given from fig 58(a)\n",
"tp=296 \n",
"cp=306\n",
"ox=422\n",
"f2=tp //Tangential component of acceleration of p realtive to C\n",
"f3=cp//acceleration of p realtive to C\n",
"fx=ox//acce;eration of x\n",
"ar=f2/(CP/12)//angular acceleration of rod\n",
"printf('Case a) \nap= %.f ft/s^2,\nax= %.f ft/s^2 and\nar= %.1f rad/s^2 \n',f3,fx,ar)\n",
"//Solution b)\n",
"//given from fig 58(b)\n",
"oc1=474\n",
"oc=480\n",
"pt=238\n",
"pc=246\n",
"xo=452\n",
"f4=pt//Tangential component of acceleration of p realtive to C\n",
"f5=pc//acceleration of p realtive to C\n",
"Ar=f4/(CP/12)//angular acceleration of rod\n",
"f6=ao*(OC/12)//tangential component of acceleration realtive to C\n",
"Fx=xo//acce;eration of x\n",
"printf('Case b) \nap= %.f ft/s^2,\nax= %.f ft/s^2 and\nar= %.1f rad/s^2 \n',f4,Fx,Ar)"
   ]
   }
,
{
		   "cell_type": "markdown",
		   "metadata": {},
		   "source": [
			"## Example 3.5: Angular_acceleration_of_CD_and_BC.sce"
		   ]
		  },
  {
"cell_type": "code",
	   "execution_count": null,
	   "metadata": {
	    "collapsed": true
	   },
	   "outputs": [],
"source": [
"\n",
"clc\n",
"//Given\n",
"AB=2.5//inches\n",
"BC=7//inches\n",
"CD=4.5//inches\n",
"DA=8//inches\n",
"N=100//rpm\n",
"X=60//degrees\n",
"w=(%pi*N)/30\n",
"//From triangle ABM we have \n",
"AM=0.14//feet\n",
"BM=0.12//feet\n",
"Vb=w*AB/12//ft/s\n",
"Vc=w*AM//ft/s\n",
"Vcb=w*BM//ft/s\n",
"fb=w^2*(AB/12)//ft/s^2\n",
"bt=Vcb^2/(BC/12)//ft/s^2\n",
"os=Vc^2/(CD/12)//ft/s^2\n",
"//By measurement from acceleration diagram\n",
"sc=19.1//ft/s^2\n",
"tq=14.4//ft/s^2\n",
"Acd=sc/(CD/12)\n",
"Abc=tq/(BC/12)\n",
"printf('\n')\n",
"printf('Vb=%.2f ft/s \nVc=%.2f ft/s\nVcb=%.2f ft/s\nfb=%.2f ft/s^2\nbt=%.2f ft/s^2\nos=%.2f ft/s^2\n',Vb,Vc,Vcb,fb,bt,os)\n",
"printf('Angular acceleration of CD(counter-clockwise)= %.1f rad/s^2 \n',Acd)\n",
"printf('Angular acceleration of BC(counter-clockwise)= %.1f rad/s^2 \n',Abc)"
   ]
   }
,
{
		   "cell_type": "markdown",
		   "metadata": {},
		   "source": [
			"## Example 3.6: Find_the_acceleration.sce"
		   ]
		  },
  {
"cell_type": "code",
	   "execution_count": null,
	   "metadata": {
	    "collapsed": true
	   },
	   "outputs": [],
"source": [
"\n",
"clc\n",
"//Given\n",
"printf('\n')\n",
"OP=2//ft\n",
"f=4//ft/s^2\n",
"w=2 //rad/s (anticlockwise)\n",
"a=5 //rad/s^2 (anticlockwise)\n",
"Vpq=3 //ft/s\n",
"r=OP\n",
"os=w^2*r//component 1\n",
"sq=a*r//component 2\n",
"qt=f//component 3\n",
"tp=2*w*Vpq//component 4\n",
"Aqo=(os^2+sq^2)^1/2//vector addition of component(a,b)\n",
"Apq=(qt^2+tp^2)^1/2//vector addition of component(c,d)\n",
"//Apo=Apq+Aqo (vector addition)\n",
"Apo=((os-qt)^2+(sq+tp)^2)^(1/2)\n",
"printf('Acceleration of P realative to fixed point O is %.1f ft/s^2',Apo)"
   ]
   }
,
{
		   "cell_type": "markdown",
		   "metadata": {},
		   "source": [
			"## Example 3.7: Find_velocity_and_acceleration_of_ram_R.sce"
		   ]
		  },
  {
"cell_type": "code",
	   "execution_count": null,
	   "metadata": {
	    "collapsed": true
	   },
	   "outputs": [],
"source": [
"\n",
"clc\n",
"printf('\n')\n",
"//GIVEN\n",
"OC=8//inches\n",
"CP=4//inches\n",
"N=60//inches\n",
"ON=15//inches\n",
"RN=6//inches\n",
"X=120//degrees\n",
"OP=10.6\n",
"OQ=OP\n",
"//from fig 65(a)\n",
"Vq=1.56//ft/s\n",
"Vrn=0.74//ft/s\n",
"//from fig 65(b)\n",
"ftq=3.74//ft/s^2\n",
"ftrn=2.03//ft/s^2\n",
"w1=(%pi*N)/30\n",
"w=Vq/(OQ/12)\n",
"wrn=Vrn/(RN/12)\n",
"a=ftq/(OP/12)//Angular acceleration of ON\n",
"a1=ftrn/(RN/12)//angular acceleration of RN\n",
"printf('W=%.2f rad/s\nWrn=%.2f rad/s\n',w,wrn)\n",
"printf('Angular acceleration of ON= %.2f rad/s^2\nAngular acceleration of RN=%.2f rad/s^2\n',a,a1)\n",
""
   ]
   }
,
{
		   "cell_type": "markdown",
		   "metadata": {},
		   "source": [
			"## Example 3.8: Velocity_and_acceleration_of_piston.sce"
		   ]
		  },
  {
"cell_type": "code",
	   "execution_count": null,
	   "metadata": {
	    "collapsed": true
	   },
	   "outputs": [],
"source": [
"\n",
"clc\n",
"//given\n",
"OC=3//inches\n",
"CP=9//inches\n",
"N=1200 //rpm (clockwise)\n",
"X=55 //degrees\n",
"//from the figure 66\n",
"OP=10.35//inches\n",
"PM=10.74//inches\n",
"OM=2.95//inches\n",
"PC=12.84//inches\n",
"PR=PC\n",
"RV=2.49//inches\n",
"UV=1.29//inches\n",
"OU=5.90//inches\n",
"PV=13.05//inches\n",
"OV=6.06//inches\n",
"OQ=OP\n",
"//Solution\n",
"w=(%pi*N)/30//the angular velocity of the cylinder line OP\n",
"Vq=w*(OP/12)//the velocity of Q\n",
"Vp=w*(PM/12)//The velocity of P\n",
"w1=Vp/(CP/12)//The angular velocity of CP\n",
"Vpq=w*(OM/12)//the velocity of sliding of the piston along the cylinder\n",
"fq=w^2*(OQ/12)//the centripetal acceleration of Q\n",
"Acp=w1^2*(PC/12)//The centripetal component of acceleration of P\n",
"Atp=w^2*(RV/12)//The tangential component of acceleration of P\n",
"acp=Atp/(CP/12)// The angular acceleration of the connecting rod CP\n",
"f=w^2*(UV/12)//component c\n",
"d=2*w*Vpq//component d\n",
"Ap=w^2*PV//the resultant acceleration of P\n",
"Apq=w^2*OV//the acceleration of P realative to Q\n",
"printf('\nThe velocity and acceleration of the piston along the cylinder are %.1f ft/s and %.f ft/s^2 respectively\nThe angular velocity and angular acceleration of the connecting rod cp are %.1f rad/s and %.f rad/s^2 respectively\nAnd the coriolis component of the acceleration of P is %.f ft/s^2\n',Vpq,f,w1,acp,d)"
   ]
   }
],
"metadata": {
		  "kernelspec": {
		   "display_name": "Scilab",
		   "language": "scilab",
		   "name": "scilab"
		  },
		  "language_info": {
		   "file_extension": ".sce",
		   "help_links": [
			{
			 "text": "MetaKernel Magics",
			 "url": "https://github.com/calysto/metakernel/blob/master/metakernel/magics/README.md"
			}
		   ],
		   "mimetype": "text/x-octave",
		   "name": "scilab",
		   "version": "0.7.1"
		  }
		 },
		 "nbformat": 4,
		 "nbformat_minor": 0
}
