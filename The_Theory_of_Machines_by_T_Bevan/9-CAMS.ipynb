{
"cells": [
 {
		   "cell_type": "markdown",
	   "metadata": {},
	   "source": [
       "# Chapter 9: CAMS"
	   ]
	},
{
		   "cell_type": "markdown",
		   "metadata": {},
		   "source": [
			"## Example 9.5: Draw_diagram.sce"
		   ]
		  },
  {
"cell_type": "code",
	   "execution_count": null,
	   "metadata": {
	    "collapsed": true
	   },
	   "outputs": [],
"source": [
"clc\n",
"//given\n",
"alpha=55*%pi/180\n",
"N=1200//rpm\n",
"lift=.5//in\n",
"rn=.125//in ; noseradius\n",
"rmin=1.125//in ; minimum radius\n",
"OQ=rmin+lift-rn\n",
"OP=(OQ^2-1)/(2*(1-OQ*cos(alpha)))//from triangle opq fig 201(a)\n",
"PQ=OP+rmin-rn\n",
"phi=asin(OQ*sin(alpha)/PQ)\n",
"x1=[0:.0001:phi]\n",
"x2=[phi:.0001:alpha]\n",
"y1=4.477*(1-cos(x1))//from 9.6\n",
"y2=1.5*cos(alpha-x2)-1//from 9.9\n",
"v1=%pi*N*4.477*sin(x1)/(30*12)//from 9.7\n",
"v2=15.71*sin(alpha-x2)//from 9.10\n",
"f1=(%pi*N/30)^2*(4.477/12)*cos(x1)//from 9.8\n",
"f2=-1974*cos(alpha-x2)//from 9.11\n",
"a=[0:.0001:phi]\n",
"b=[phi:.0001:alpha]\n",
"p=[0:.0001:phi]\n",
"q=[phi:.0001:alpha]\n",
"subplot(3,1,3)\n",
"subplot(311)\n",
"plot(x1,y1,x2,y2)\n",
"xtitle('','angle','displacement')\n",
"subplot(312)\n",
"plot(a,v1,b,v2)\n",
"xtitle('','angle','velocity')\n",
"subplot(313)\n",
"plot(p,f1,q,f2)\n",
"xtitle('','angle','acceleration')\n",
""
   ]
   }
,
{
		   "cell_type": "markdown",
		   "metadata": {},
		   "source": [
			"## Example 9.7: Angular_velocity_and_angular_frequency.sce"
		   ]
		  },
  {
"cell_type": "code",
	   "execution_count": null,
	   "metadata": {
	    "collapsed": true
	   },
	   "outputs": [],
"source": [
"\n",
"clc\n",
"//given\n",
"N=600//rpm\n",
"BC=3//in\n",
"rmin=1.125//in\n",
"rf=39/8//in\n",
"OP=rf-rmin\n",
"OM1=0.79//in;given\n",
"NZ1=2.66//in\n",
"w=N*%pi/30\n",
"vb=w*OM1\n",
"Vang=vb/BC\n",
"at=w^2*NZ1\n",
"fBC=at/BC\n",
"OM2=.52//in\n",
"NZ2=3.24//in\n",
"af=w*OM2/BC\n",
"angf=w^2*NZ2/BC\n",
"printf('\nWhen theta = 25 degrees\nangular velocity = %.1f rad/s\nangular acceleration = %.f rad/s^2\nWhen theta = 45 degrees\nangular velocity = %.1f rad/s\nangular acceleration = %.f rad/s^2',Vang,fBC,af,angf)"
   ]
   }
],
"metadata": {
		  "kernelspec": {
		   "display_name": "Scilab",
		   "language": "scilab",
		   "name": "scilab"
		  },
		  "language_info": {
		   "file_extension": ".sce",
		   "help_links": [
			{
			 "text": "MetaKernel Magics",
			 "url": "https://github.com/calysto/metakernel/blob/master/metakernel/magics/README.md"
			}
		   ],
		   "mimetype": "text/x-octave",
		   "name": "scilab",
		   "version": "0.7.1"
		  }
		 },
		 "nbformat": 4,
		 "nbformat_minor": 0
}
