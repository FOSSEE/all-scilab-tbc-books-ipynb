{
"cells": [
 {
		   "cell_type": "markdown",
	   "metadata": {},
	   "source": [
       "# Chapter 2: Motion Inertia"
	   ]
	},
{
		   "cell_type": "markdown",
		   "metadata": {},
		   "source": [
			"## Example 2.10: Find_acceleration.sce"
		   ]
		  },
  {
"cell_type": "code",
	   "execution_count": null,
	   "metadata": {
	    "collapsed": true
	   },
	   "outputs": [],
"source": [
"\n",
"clc\n",
"//given\n",
"Ia=200//lb ft2\n",
"Ib=15//lb ft2\n",
"G=5//wb==5*wa\n",
"m=150//lb\n",
"r=8//in\n",
"printf('\n')\n",
"//the equivalent mass of the geared system referred to the circumference of the drum is given by\n",
"//Me=(1/r)^2*(Ia+(G^2*Ib))\n",
"Me=(12/r)^2*(Ia+(G^2*Ib))\n",
"M=m+Me\n",
"a=(m/M)*32.2//acceleration\n",
"//if efficiency of gearing is 90% then Me=(1/r^2)*(Ia+(G^2*Ib)/n)\n",
"n=.9\n",
"Me1=(12/r)^2*(Ia+(G^2*Ib)/n)\n",
"M1=Me1+m\n",
"a1=(m/M1)*32.2\n",
"printf('acceleration = %.2f ft/s2\n',a)\n",
"printf('acceleration when gear efficiency is 0.9= %.2f ft/s2\n',a1)"
   ]
   }
,
{
		   "cell_type": "markdown",
		   "metadata": {},
		   "source": [
			"## Example 2.11: Maximum_acceleratio.sce"
		   ]
		  },
  {
"cell_type": "code",
	   "execution_count": null,
	   "metadata": {
	    "collapsed": true
	   },
	   "outputs": [],
"source": [
"\n",
"clc\n",
"printf('\n')\n",
"//let\n",
"//S=displacement of car from rest with uniform acceleration a, the engine torque T assumed to remain ocnstant\n",
"//v=final speed ofcar\n",
"//G=gear ratio\n",
"//r=effective radius\n",
"//n=efficiency of transmission\n",
"//M=mass of the car\n",
"//Ia and Ib=moments of inertia of road whels and engine \n",
"//formulas => F=29.5nG ; Me= 1648+$.54nG^2 ; a=32.2 F/Me\n",
"//given\n",
"G1=22.5\n",
"G2=12.5\n",
"G3=7.3\n",
"G4=5.4\n",
"n=.82//for 1st ,2nd and 3rd gear\n",
"n4=.9//for 4th gear\n",
"F1=29.5*n*G1\n",
"F2=29.5*n*G2\n",
"F3=29.5*n*G3\n",
"F4=29.5*n4*G4\n",
"//on reduction and putting values we get\n",
"Me1=1648+4.54*n*G1^2\n",
"Me2=1648+4.54*n*G2^2\n",
"Me3=1648+4.54*n*G3^2\n",
"Me4=1648+4.54*n4*G4^2\n",
"a1=32.2*F1/Me1\n",
"a2=32.2*F2/Me2\n",
"a3=32.2*F3/Me3\n",
"a4=32.2*F4/Me4\n",
"printf('Maximum acceleration of car on top gear is %.2f ft/s^2 \n',a4)\n",
"printf('Maximum acceleration of car on third gear is %.2f ft/s^2 \n',a3)\n",
"printf('Maximum acceleration of car on second gear is %.2f ft/s^2 \n',a2)\n",
"printf('Maximum acceleration of car on first gear is %.2f ft/s^2 \n',a1)"
   ]
   }
,
{
		   "cell_type": "markdown",
		   "metadata": {},
		   "source": [
			"## Example 2.12: couple_supplied.sce"
		   ]
		  },
  {
"cell_type": "code",
	   "execution_count": null,
	   "metadata": {
	    "collapsed": true
	   },
	   "outputs": [],
"source": [
"\n",
"clc\n",
"printf('\n')\n",
"//given\n",
"I=40//lb ft2\n",
"n=500//rpm\n",
"w=%pi*n/30//angular velocity\n",
"wp=2*%pi/5//angular velocity of precession\n",
"I1=I/32.2\n",
"T=I1*w*wp//gyroscopic couple\n",
"printf('the couple supplied to the shaft= %.2f lb ft\n',T)"
   ]
   }
,
{
		   "cell_type": "markdown",
		   "metadata": {},
		   "source": [
			"## Example 2.13: g_y_r_o_s_c_o_p_i_c_r_e_a_c_t_i_o.sce"
		   ]
		  },
  {
"cell_type": "code",
	   "execution_count": null,
	   "metadata": {
	    "collapsed": true
	   },
	   "outputs": [],
"source": [
"\n",
"clc\n",
"//given\n",
"printf('\n')\n",
"I=250//lb ft2\n",
"n=1600//rpm\n",
"v=150//mph\n",
"r=500//ft\n",
"w=%pi*160/3//angular velocity of rotation\n",
"wp=(150*88)/(60*500)//angular velocity of precession\n",
"//a) with three bladed screw\n",
"//T=I*w*wp\n",
"T=(250/32.2)*%pi*(160/3)*wp\n",
"//b)with two bladed air screw\n",
"//T1=2*I*w*wp*sin(o)\n",
"printf('The magnitude of gyroscopic couple is given by %.0f lb ft\n',T)\n",
"//Tix=T(1-cos(2o)) lb ft\n",
"//T1y=Tsin(2o)) lb ft\n",
"printf('The component gyroscopic couple in the vertical plane =%.0f(1-cos(2x)) lb ft\n',T)\n",
"printf('The component gyroscopic couple in the horizontal plane =%.0f(sin(2x)) lb ft\n',T)"
   ]
   }
,
{
		   "cell_type": "markdown",
		   "metadata": {},
		   "source": [
			"## Example 2.1: find_velocity_and_kinetic_energy.sce"
		   ]
		  },
  {
"cell_type": "code",
	   "execution_count": null,
	   "metadata": {
	    "collapsed": true
	   },
	   "outputs": [],
"source": [
"\n",
"clc\n",
"//a) INELASTIC\n",
"//for sphere 1 ,mass=m1 and initial velocity=u1 \n",
"//for sphere 2 ,mass=m2 and initial velocity=u2\n",
"m1=100//lb\n",
"u1=10//ft/s\n",
"m2=50//lb\n",
"u2=5//ft/s\n",
"v=(m1*u1+m2*u2)/(m1+m2)\n",
"//change in kinetic energy\n",
"//initial kinetic energy = ke1\n",
"ke1=(m1*(u1^2)+m2*(u2^2))/(2*32.2)\n",
"//Kinetic Energy after inelastic colision = ke2\n",
"ke2=((m1+m2)*8.333^2)/(2*32.2)\n",
"//Change in Kinetic Energy =l\n",
"l=ke1-ke2\n",
"//b) Elastic\n",
"// for a very short time bodies will have a common velocity given by v=8.333 ft/s\n",
"// for a very short time bodies will have a common velocity given by v=8.333 ft/s\n",
"//immidiately after impact ends the velocities for both the bodies are given by v1 and v2\n",
"v1=2*v-u1\n",
"v2=2*v-u2\n",
"//c) Coeeficient of Restitution=0.6\n",
"e=0.6\n",
"ve1=(1+e)*v-e*u1\n",
"ve2=(1+e)*v-e*u2\n",
"ke3=(m1*(ve1^2)+m2*(ve2^2))/(2*32.2)\n",
"loss=ke1-ke3\n",
"printf('kinetic energy before collisio0n is %f ft lb\n',ke1)\n",
"printf('\n')\n",
"printf('a) INELASTIC\n')\n",
"printf('\n')\n",
"printf('velocity after collision is %f ft/s\n',v)\n",
"printf('the Kinetic Energy after collision is %f ft lb\n',ke2) \n",
"printf('the change in Kinetic Energy after collision is %f ft lb\n',l)\n",
"printf('\n')\n",
"printf('b) ELASTIC\n')\n",
"printf('\n')\n",
"printf('velocity of 1 after collision is %f ft/s\n',v1)\n",
"printf('velocity of 2 after collision is %f ft/s\n',v2)\n",
"printf('there is no loss of kinetic energy in case of elastic collision\n')\n",
"printf('\n')\n",
"printf('c) e=0.6\n')\n",
"printf('\n')\n",
"printf('velocity of 1 after collision is %f ft/s\n',ve1)\n",
"printf('velocity of 2 after collision is %f ft/s\n',ve2)\n",
"printf('the Kinetic Energy after collision is %f ft lb\n',ke3) \n",
"printf('the change in Kinetic Energy after collision is %f ft lb\n',loss)"
   ]
   }
,
{
		   "cell_type": "markdown",
		   "metadata": {},
		   "source": [
			"## Example 2.2: speed_of_truck.sce"
		   ]
		  },
  {
"cell_type": "code",
	   "execution_count": null,
	   "metadata": {
	    "collapsed": true
	   },
	   "outputs": [],
"source": [
"\n",
"clc\n",
"//given\n",
"m1=15//tons\n",
"u1=12//m/h\n",
"m2=5//tons\n",
"u2=8//m/h\n",
"k=2//ton/in\n",
"e1=0.5//coefficient of restitution\n",
"printf('\n')\n",
"//conservation of linear momentum\n",
"v=(m1*u1+m2*u2)/(m1+m2)\n",
"printf('velocity at the instant of  collision is %.2f mph',v)\n",
"e=(m1*m2*(88/60)^2*(u1-u2)^2)/(2*32.2*(u1+u2))\n",
"printf('\n')\n",
"printf('The difference between the kinetic energy before and during the impact is %.2f ft tons\n',e)\n",
"//energy stored in spring equals energy dissipated\n",
"//s=(1/2)*k*x^2\n",
"//s=e\n",
"//since there are 4 buffer springs ,4x^2=24 inches (2 ft=24 inches)\n",
"x=((e*12)/4)^.5\n",
"printf('Maximum deflection of the spring is %.2f in\n',x)\n",
"// maximum force acting between pair of buffer = stiffness of spring*deflection\n",
"f=k*x\n",
"printf('Maximum force acting between each buffer is %.2f tons\n',f)\n",
"//assuming perfectly elastic collision\n",
"//for loaded truck \n",
"v1=2*11-12\n",
"//for unloaded truck \n",
"v2=2*11-8\n",
"printf('Speed of loaded truck after impact %.2f mph\n',v1)\n",
"printf('speed of unloaded truck after impact %.2f mph\n',v2)\n",
"//if coefficient of restitution =o.5\n",
"//for loaded truck \n",
"ve1=(1+.5)*11-.5*12\n",
"//for unloaded truck \n",
"ve2=(1+.5)*11-.5*8\n",
"printf('Speed of loaded truck after impact when e=0.5 %.2f mph\n',ve1)\n",
"printf('Speed of unloaded truck after impact when e=0.5 %.2f mph\n',ve2)\n",
"//net loss of kinetic energy=(1-e^2)*energy stored in spring\n",
"l=(1-(e1^2))*2//ft tons\n",
"printf('Net loss of kinetic energy is %.2f ft tons\n',l)"
   ]
   }
,
{
		   "cell_type": "markdown",
		   "metadata": {},
		   "source": [
			"## Example 2.3: Maximum_twist.sce"
		   ]
		  },
  {
"cell_type": "code",
	   "execution_count": null,
	   "metadata": {
	    "collapsed": true
	   },
	   "outputs": [],
"source": [
"\n",
"clc\n",
"//given\n",
"m1=500//lb ft^2\n",
"m2=1500//lb ft^2\n",
"k=150//lb ft^2\n",
"w1=150//rpm\n",
"\n",
"N=(w1*m1)/(m1+m2)\n",
"printf('Angular velocity at the instant when speeds of the flywheels are equalised is given by %.2f r.p.m\n',N)\n",
"//kinetic energy at this instance \n",
"ke1=(1/2)*((m1+m2)/32.2)*((%pi*N)/30)^2\n",
"printf('The kinetic energy of the system at this instance is %.2f ft lb\n',ke1)\n",
"printf('which is almost equal to 480 ft lb \n')\n",
"//initial kinetic energy\n",
"ke0=(1/2)*((m1)/32.2)*((%pi*w1)/30)^2\n",
"printf('The initial kinetic energy of the system is %.2f ft lb\n',ke0)\n",
"printf('which is almost equal to 1915 ft lb \n')\n",
"//strain energy = s\n",
"s=ke0-ke1\n",
"printf('strain energy stored in the spring is %.2f ft lb which is approximately 1435 ft lb\n',s)\n",
"\n",
"x=((1435*2)/150)^.5\n",
"printf('Maximum angular displacement is %.2f in radians which is equal to 250 degrees\n',x)\n",
"//na1 and na are initial and final speeds of the flywheel 1 and same nb1 and nb for flywheel 2 \n",
"na=2*N-w1//w1=na1\n",
"nb=2*N-0//nb1=0\n",
"printf ('Speed of flywheel a and b when spring regains its unstrained position are %.2f rpm and %.2f rpm respectively\n',na,nb)"
   ]
   }
,
{
		   "cell_type": "markdown",
		   "metadata": {},
		   "source": [
			"## Example 2.4: Length_of_equivalebt_pendulum.sce"
		   ]
		  },
  {
"cell_type": "code",
	   "execution_count": null,
	   "metadata": {
	    "collapsed": true
	   },
	   "outputs": [],
"source": [
"\n",
"clc\n",
"//given\n",
"m1=150 //lb\n",
"l=3//ft\n",
"//number of oscillation per second is given by n\n",
"printf('\n')\n",
"n=(50/92.5)\n",
"printf ('number of oscillation per second = %.2f\n',n)\n",
"//length of simple pendulum is given by L=g/(2*%pi*n)^2\n",
"L=32.2/(2*%pi*n)^2\n",
"printf ('length of simple pendulum = %.2f ft\n',L)\n",
"// distance of cg from point of suspension is given by a\n",
"a=25/12\n",
"k=(a*(L-a))^.5//radius of gyration\n",
"moi=m1*k^2\n",
"printf('The moment of inertia of rod is %.2f lb ft^2',moi)"
   ]
   }
,
{
		   "cell_type": "markdown",
		   "metadata": {},
		   "source": [
			"## Example 2.5: Moment_of_inertia.sce"
		   ]
		  },
  {
"cell_type": "code",
	   "execution_count": null,
	   "metadata": {
	    "collapsed": true
	   },
	   "outputs": [],
"source": [
"clc;\n",
"n1=50/84.4\n",
"n2=50/80.3\n",
"\n",
"L1=(32.2*12)*(84.4/(100*%pi))^2\n",
"L2=(32.2*12)*(80.3/(100*%pi))^2\n",
"//a1(L1-a1)=k^2=a2(L2-a2) and a1+a2=30 inches\n",
"//substituting and solving for a we get \n",
"a1=141/6.8\n",
"a2=30-a1\n",
"k=(a1*(L1-a1))^.5\n",
"moi=90*(149/144)//moi=m*k^2\n",
"printf('length of equivalent simple pendulum when axis coincides with small end and big end respectively-\n')\n",
"printf('L1=%.1f in\n',L1)\n",
"printf('L2=%.1f in\n',L2)\n",
"printf('distances of cg from small end and big end centers respectively are-\n')\n",
"printf('a1=%.1f in\n',a1)\n",
"printf('a2=%.1f in\n',a2)\n",
"printf('Moment of inertia of rod =%.2f lb ft^2',moi)"
   ]
   }
,
{
		   "cell_type": "markdown",
		   "metadata": {},
		   "source": [
			"## Example 2.6: radius_of_gyratio.sce"
		   ]
		  },
  {
"cell_type": "code",
	   "execution_count": null,
	   "metadata": {
	    "collapsed": true
	   },
	   "outputs": [],
"source": [
"\n",
"clc\n",
"//given\n",
"printf('\n')\n",
"m1=150\n",
"l=8.5\n",
"g=32.2\n",
"a=83.2\n",
"n=25\n",
"//k=(a/2*%pi*n)*(g/l)^0.5\n",
"k=(14*a*((g)^0.5))/(2*%pi*n*(l^0.5))\n",
"k1=14.5/12\n",
"printf('radius of gyration is %.2f inches which is equal to %.2f ft \n',k,k1)\n",
"moi=m1*(k1^2)\n",
"printf('moment of inertia=%.2f lb ft^2',moi)"
   ]
   }
,
{
		   "cell_type": "markdown",
		   "metadata": {},
		   "source": [
			"## Example 2.7: Dynamical_system.sce"
		   ]
		  },
  {
"cell_type": "code",
	   "execution_count": null,
	   "metadata": {
	    "collapsed": true
	   },
	   "outputs": [],
"source": [
"clc\n",
"printf('\n')\n",
"//given\n",
"m=2.5//lb\n",
"a=6//in\n",
"k=3.8//in\n",
"l=9//in\n",
"c=3//in\n",
"w=22500\n",
"//k^2=ab\n",
"//case a) to find equivalent dynamic system\n",
"b=(k^2)/a\n",
"ma=(2.5*6)/8.42//m*a/a+b\n",
"mb=m-ma\n",
"printf('Mass ma =%.2f lb will be situated at 6 inches from cg \n and mb =%.2f lb will be situated at %.2f inches \n from cg in the equivalent dynamical system',ma,mb,b)\n",
"printf('\n')\n",
"//if two masses are situated at the bearing centres \n",
"ma1=(2.5*6)/9\n",
"mb1=m-ma1\n",
"k1=(a*c)^.5\n",
"//t=m*((k1^2)-(k^2))*w\n",
"t=((2.5*(18-3.8^2))*22500)/(32.2*12*12)\n",
"printf('correction couple which must be applied in order that the two mass system is dynamically equivalent to the rod is given by %.2f lb ft\n',t)\n",
""
   ]
   }
,
{
		   "cell_type": "markdown",
		   "metadata": {},
		   "source": [
			"## Example 2.8: Find_forces.sce"
		   ]
		  },
  {
"cell_type": "code",
	   "execution_count": null,
	   "metadata": {
	    "collapsed": true
	   },
	   "outputs": [],
"source": [
"\n",
"clc\n",
"printf('\n')\n",
"m=20//lb\n",
"g=32.2\n",
"a=200//ft/s^2\n",
"w=120//rad/s^2\n",
"k=7//in\n",
"f=(m/g)*a//effective force appllied to the link\n",
"//this force acts parallel to the acceleration fg\n",
"t=(m/g)*(k/12)^2*w//couple required in order to provide the angular acceleration\n",
"//the line of action of F is therefore at a distance from G given by\n",
"x=t/f\n",
"printf('Effective force applied to the link is %.3f lb and the line of action of F is therefore at a distance from G given by %.3f ft \n',f,x)\n",
"printf('F is the resultant of Fa and Fb, using x as shown in figure.25 , the force F may then be resolved along the appropriate lines of action to give the magnitudes of Fa and Fb\n')\n",
"printf('From the scaled diagram shown in figure we get,Fa=65 lb and Fb=91 lb\n')"
   ]
   }
,
{
		   "cell_type": "markdown",
		   "metadata": {},
		   "source": [
			"## Example 2.9: Find_force.sce"
		   ]
		  },
  {
"cell_type": "code",
	   "execution_count": null,
	   "metadata": {
	    "collapsed": true
	   },
	   "outputs": [],
"source": [
"\n",
"clc\n",
"printf('\n')\n",
"//given\n",
"m=10//ton\n",
"m2=1000//lb\n",
"a=3//ft/s^2\n",
"//the addition to actual mass in order to allow for the rotational inertia of the wheels and axles\n",
"m1=2*(1000/2240)*(15/21)^2//m1=m2*k^2/r^2 and 1 ton=2240 lbs\n",
"M=m+m1\n",
"F=3*(10.46/32.2)//F=M.a\n",
"f=F*2240//lb\n",
"Fa=(2*1000/2240)*(3/32.2)*(15/21)^2//total tangential force required in order to provide the angular acceleration of the wheels and axles\n",
"//Limiting friction force =uW \n",
"//u*10>0.042\n",
"u=0.042/10\n",
"printf('The total tangential force required in order to provide the angular acceleration of the wheels and axles is %.4f ton\n',Fa)\n",
"printf('If there is to be pure rolling ,u>%.4f',u)\n",
""
   ]
   }
],
"metadata": {
		  "kernelspec": {
		   "display_name": "Scilab",
		   "language": "scilab",
		   "name": "scilab"
		  },
		  "language_info": {
		   "file_extension": ".sce",
		   "help_links": [
			{
			 "text": "MetaKernel Magics",
			 "url": "https://github.com/calysto/metakernel/blob/master/metakernel/magics/README.md"
			}
		   ],
		   "mimetype": "text/x-octave",
		   "name": "scilab",
		   "version": "0.7.1"
		  }
		 },
		 "nbformat": 4,
		 "nbformat_minor": 0
}
