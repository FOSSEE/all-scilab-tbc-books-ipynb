{
"cells": [
 {
		   "cell_type": "markdown",
	   "metadata": {},
	   "source": [
       "# Chapter 12: Dynamics of Machines"
	   ]
	},
{
		   "cell_type": "markdown",
		   "metadata": {},
		   "source": [
			"## Example 12.10: Moment_of_inertia.sce"
		   ]
		  },
  {
"cell_type": "code",
	   "execution_count": null,
	   "metadata": {
	    "collapsed": true
	   },
	   "outputs": [],
"source": [
"\n",
"clc\n",
"//given\n",
"ihp=25\n",
"N=300//rpm\n",
"Ks=2/100//given\n",
"u=2.3//work done by gases during expansion is u(2.3) times that during compression\n",
"E=ihp*33000/N//indicated work done per revolution\n",
"E1=E*2//indicated work done per cycle\n",
"We=E1/(1-1/u)//work done by gases during expansion\n",
"AB=We*2/%pi//the maximum torque from fig 290\n",
"AC=E/(2*%pi)//mean turning moment\n",
"CB=AB-AC//maximum excess turning moment\n",
"Ef=(CB/AB)^2*We//fluctuation of energy\n",
"Ke=Ef/E\n",
"w=%pi*N/30//angular speed\n",
"g=32.2//ft/s^2\n",
"moi=g*Ef/(w^2*Ks)//moment of inertia\n",
"printf('Moment of inertia of the flywheel = %.f lb ft^2',moi)\n",
"\n",
"//answer is not EXACT due to the approximations in calculations done by the author of the book"
   ]
   }
,
{
		   "cell_type": "markdown",
		   "metadata": {},
		   "source": [
			"## Example 12.11: Percentage_variation.sce"
		   ]
		  },
  {
"cell_type": "code",
	   "execution_count": null,
	   "metadata": {
	    "collapsed": true
	   },
	   "outputs": [],
"source": [
"\n",
"clc\n",
"//given\n",
"N=100//rpm\n",
"ke=1.93//As per given figure\n",
"l=15//1 inch of fig = 15 ton ft \n",
"x=40//degrees; 1 inch = 40 degree\n",
"I=150//ton ft^2\n",
"w=%pi*N/30//angular speed\n",
"E=l*x*%pi/180//energy\n",
"Ef=E*ke//fluctuation energy\n",
"Ks=Ef*g/(w^2*I)//from equation 12.14\n",
"p=Ks*100/2//dummy variables\n",
"q=p*2//dummy variables\n",
"printf('The total fluctuation of speed is %.2f percent and the variation in speed is %.2f percent on either side of \n the mean speed',q,p)"
   ]
   }
,
{
		   "cell_type": "markdown",
		   "metadata": {},
		   "source": [
			"## Example 12.2: Torque_exerted.sce"
		   ]
		  },
  {
"cell_type": "code",
	   "execution_count": null,
	   "metadata": {
	    "collapsed": true
	   },
	   "outputs": [],
"source": [
"\n",
"clc\n",
"//given\n",
"ne=31\n",
"na=25\n",
"nb=90\n",
"nc=83\n",
"Ta=10 //lbft\n",
"//Ne-Nf/(Nc-Nf)=-83/31\n",
"k=114/83//k=Nc/Nf As Ne = 0, on simplification we get Nc/Nf= 114/83\n",
"j=-90/25//j=Na/Nb\n",
"//Nc=Nb, Thus Na/Nc=-90/25\n",
"//Na/Nf=(Na/Nc)*(Nc/Nf) ie Na/Nf=k*j\n",
"//Tf*Nf=Ta*Na\n",
"Tf=Ta*k*j\n",
"printf('\nTorque exerted on driven shaft = %.1f lb.ft\n',Tf)"
   ]
   }
,
{
		   "cell_type": "markdown",
		   "metadata": {},
		   "source": [
			"## Example 12.3: Torque_exerted_on_crankshaft.sce"
		   ]
		  },
  {
"cell_type": "code",
	   "execution_count": null,
	   "metadata": {
	    "collapsed": true
	   },
	   "outputs": [],
"source": [
"\n",
"clc\n",
"//given\n",
"D=9//in\n",
"stroke=24//in\n",
"d=2//in\n",
"l=60//in\n",
"CP=l\n",
"N=120\n",
"theta=40//degrees\n",
"x=theta*%pi/180\n",
"P1=160//lb/in^2\n",
"P2=32//lb/in^2\n",
"OC=stroke/2\n",
"F=%pi*(D/2)^2*P1-%pi*(D/2)^2*P2+%pi*(d/2)^2*P2\n",
"//Ft*Vc=F*Vp; Where Vc and Vp are velocities of crank and pin respectively\n",
"//Vp/Vc=IP/IC=OM/OC - From similar triangles  ; fig 274\n",
"n=CP/OC\n",
"OM=OC*(sin(x) + (sin(2*x)/(2*n)))//from 3.11\n",
"T=F*OM/12//torque exerted on crankshaft\n",
"Torque=floor(T)\n",
"printf('The torque exerted on crankshaft= F*OM = %.f lb ft',Torque)"
   ]
   }
,
{
		   "cell_type": "markdown",
		   "metadata": {},
		   "source": [
			"## Example 12.4: Total_force.sce"
		   ]
		  },
  {
"cell_type": "code",
	   "execution_count": null,
	   "metadata": {
	    "collapsed": true
	   },
	   "outputs": [],
"source": [
"\n",
"clc\n",
"//given\n",
"AB=12.5//in\n",
"IB=10.15//in\n",
"IA=10.75//in\n",
"IX=2.92//in\n",
"IY=5.5//in\n",
"w=3//lb\n",
"Fi=5//lb\n",
"Fa1=9//lb\n",
"Fb1=(Fa1*IA-w*IY-Fi*IX)/IB\n",
"//From the polygon of forces\n",
"Fa2=7.66//lb\n",
"Fb2=3.0//lb\n",
"Fa=(Fa1^2+Fa2^2)^(1/2)\n",
"Fb=(Fb1^2+Fb2^2)^(1/2)\n",
"printf('\nThe total force applied to the link AB at the pin A = Fa = %.2f lb\nThe total force applied to the link AB at the pin B = Fb = %.2f lb\n',Fa,Fb)"
   ]
   }
,
{
		   "cell_type": "markdown",
		   "metadata": {},
		   "source": [
			"## Example 12.5: Inertia_torque.sce"
		   ]
		  },
  {
"cell_type": "code",
	   "execution_count": null,
	   "metadata": {
	    "collapsed": true
	   },
	   "outputs": [],
"source": [
"\n",
"clc\n",
"//given\n",
"CP=60//in\n",
"l=CP/12\n",
"a=41\n",
"cg=19\n",
"g=32.2//ft/s^2\n",
"m1=580//lb\n",
"Mr=500//lb\n",
"n=5//from example 12.3\n",
"x=40*%pi/180\n",
"N=120\n",
"r=1//ft\n",
"k=25\n",
"w=N*%pi/30\n",
"Rm=m1+(cg/CP)*Mr\n",
"fp=w^2*r*(cos(x)+cos(2*x)/n)\n",
"Fp=-Rm*fp/g\n",
"OM=0.7413//ft -from example 12.3\n",
"Tp=Fp*OM//from 12.6\n",
"L=a+k^2/a//length for simple equivalent pendulum\n",
"L1=L/12\n",
"Tc=-Mr*(a/12)*(l-L1)*w^2*sin(2*x)/(g*2*n^2)//from 12.10\n",
"Tw=-Mr*a*cos(x)/(n*12)\n",
"T=Tp+Tc+Tw\n",
"printf('\nTp= %.f lbft\nTc = %.1f lbft\nTw = %.1f lbft\nTotal torque exerted on the crankshaft due to the inertia of the moving parts = Tp+Tc+tw = %.1f lbft',Tp,Tc,Tw,T)"
   ]
   }
,
{
		   "cell_type": "markdown",
		   "metadata": {},
		   "source": [
			"## Example 12.6: Torque_exerted.sce"
		   ]
		  },
  {
"cell_type": "code",
	   "execution_count": null,
	   "metadata": {
	    "collapsed": true
	   },
	   "outputs": [],
"source": [
"\n",
"clc\n",
"//given\n",
"AB=2.5//in\n",
"BC=7//in\n",
"CD=4.5//in\n",
"AD=8//in\n",
"ED=2.3//from figure\n",
"N=180\n",
"w=N*%pi/30\n",
"m=3//lb\n",
"k=3.5//radius of gyration\n",
"g=32.2//ft/s^2\n",
"QT=1.35//inches from figure\n",
"alpha=w^2*(QT/CD)\n",
"Torque=m*(k/12)^2*alpha/g\n",
"Torque1=Torque*12\n",
"Tadd=m*ED//additional torque\n",
"Tc=Tadd+Torque1//total torque\n",
"Fc1=Tc/CD\n",
"//link BC\n",
"M=5//lb\n",
"gA=1.8//in\n",
"fg=w^2*(gA/12)\n",
"F=M*fg/g\n",
"OaG=5.6//in\n",
"Kg=2.9//in\n",
"GZ=Kg^2/OaG\n",
"//scaled from figure\n",
"IB=9//in\n",
"IC=5.8//in\n",
"IX=2.49//in\n",
"IY=1.93//in\n",
"Fb1=(Fc1*IC+F*IX+M*IY)/IB\n",
"Tor=Fb1*AB\n",
"//from force polygon\n",
"Fc2=1//lb\n",
"Fb2=15.2//lb\n",
"Fb=(Fb1^2+Fb2^2)^(1/2)\n",
"Fc=(Fc1^2+Fc2^2)^(1/2)\n",
"printf('\nThe torque which must be exerted on AB in order to overcome the inertia of the links = Fb1*AB = %.1f lb.in\nThe total force applied to the link BC \nAt pin C = %.2f lb\nAt pin B = %.1f lb\n',Tor,Fc,Fb)"
   ]
   }
,
{
		   "cell_type": "markdown",
		   "metadata": {},
		   "source": [
			"## Example 12.7: Actual_speed.sce"
		   ]
		  },
  {
"cell_type": "code",
	   "execution_count": null,
	   "metadata": {
	    "collapsed": true
	   },
	   "outputs": [],
"source": [
"\n",
"clc\n",
"//given\n",
"N=210//rpm\n",
"w=N*%pi/30\n",
"F=50\n",
"p1=F*120/(N*2)//N*p=F*120\n",
"p2=floor(p1)//no of poles must be a whole number ; P2=P/2\n",
"p=2*p2\n",
"N1=F*120/p\n",
"n=3//no of impulse per second\n",
"Ks=n/(6*p)//equation 12.13\n",
"printf('\nKs = %.4f\n\nActual speed = %.1f rpm\nNumber of poles = %.f',Ks,N1,p)"
   ]
   }
,
{
		   "cell_type": "markdown",
		   "metadata": {},
		   "source": [
			"## Example 12.8: Weight_of_fly_wheel.sce"
		   ]
		  },
  {
"cell_type": "code",
	   "execution_count": null,
	   "metadata": {
	    "collapsed": true
	   },
	   "outputs": [],
"source": [
"\n",
"clc\n",
"//given\n",
"N=120//rpm\n",
"k=3.5//ft\n",
"Ef=2500//ft lb\n",
"Ks=.01\n",
"g=32.2//ft/s^2\n",
"w=%pi*N/30//angular velocity\n",
"W=g*Ef/(w^2*k^2*Ks*2240)//Weight of flying wheel\n",
"printf('\nWeight of flying wheel, W = %.2f tons',W)"
   ]
   }
,
{
		   "cell_type": "markdown",
		   "metadata": {},
		   "source": [
			"## Example 12.9: Fluctuation_of_speed.sce"
		   ]
		  },
  {
"cell_type": "code",
	   "execution_count": null,
	   "metadata": {
	    "collapsed": true
	   },
	   "outputs": [],
"source": [
"\n",
"clc\n",
"//given\n",
"N=270//rpm\n",
"ihp=35.8\n",
"k=2.25//ft\n",
"g=32.2//ft/s^2\n",
"ke=1.93//from table on p 440\n",
"E=ihp*33000/N\n",
"Ef=ke*E\n",
"w=%pi*N/30\n",
"W=1000//lb\n",
"MOI=2*W*k^2//moment of inertia of both wheel\n",
"ks=Ef*g/(MOI*w^2)//formula for ks\n",
"p=ks/2\n",
"printf('The fluctuation speed is therefore %.4f or %.3f on either side of the mean speed',ks,p)"
   ]
   }
],
"metadata": {
		  "kernelspec": {
		   "display_name": "Scilab",
		   "language": "scilab",
		   "name": "scilab"
		  },
		  "language_info": {
		   "file_extension": ".sce",
		   "help_links": [
			{
			 "text": "MetaKernel Magics",
			 "url": "https://github.com/calysto/metakernel/blob/master/metakernel/magics/README.md"
			}
		   ],
		   "mimetype": "text/x-octave",
		   "name": "scilab",
		   "version": "0.7.1"
		  }
		 },
		 "nbformat": 4,
		 "nbformat_minor": 0
}
