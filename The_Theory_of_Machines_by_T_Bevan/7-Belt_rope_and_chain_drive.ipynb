{
"cells": [
 {
		   "cell_type": "markdown",
	   "metadata": {},
	   "source": [
       "# Chapter 7: Belt rope and chain drive"
	   ]
	},
{
		   "cell_type": "markdown",
		   "metadata": {},
		   "source": [
			"## Example 7.1: Maximum_horsepower.sce"
		   ]
		  },
  {
"cell_type": "code",
	   "execution_count": null,
	   "metadata": {
	    "collapsed": true
	   },
	   "outputs": [],
"source": [
"\n",
"clc\n",
"//given-belt is perfectly elastic and massless \n",
"u=0.3\n",
"v=3600//ft/min\n",
"V=v/60//ft/sec\n",
"theta=165//degrees\n",
"x=theta*%pi/180\n",
"k=%e^(u*x)//k=T1/T2=e^(u*x)\n",
"To=500//lb\n",
"T1=2*k*To/(k+1)\n",
"T2=T1/k\n",
"T=T1-T2//effective tension\n",
"H=T*V/550//horsepower transmitted\n",
"printf('\nThe horse-power transmitted = %.2f\n',H)"
   ]
   }
,
{
		   "cell_type": "markdown",
		   "metadata": {},
		   "source": [
			"## Example 7.2: Maximum_horsepower.sce"
		   ]
		  },
  {
"cell_type": "code",
	   "execution_count": null,
	   "metadata": {
	    "collapsed": true
	   },
	   "outputs": [],
"source": [
"\n",
"clc\n",
"w=1.2//lb/ft^2\n",
"u=0.3\n",
"v=3600//ft/min\n",
"V=v/60//ft/sec\n",
"theta=165//degrees\n",
"g=32.2//ft/s^2\n",
"x=theta*%pi/180\n",
"k=%e^(u*x)//k=T1/T2=e^(u*x)\n",
"To=500//lb\n",
"//Solution a)Vertical drive\n",
"Tc=w*V^2/g//equation 7.5\n",
"//solution a)\n",
"H=2*(k-1)*(To-Tc)*V/((k+1)*550)\n",
"Vmax=(To*g/(3*w))^(1/2)\n",
"Hmax=2*(k-1)*(To-Tc)*Vmax/((k+1)*550)\n",
"//Solution b)\n",
"To1=To+Tc\n",
"//from equation 7.15 2/To1^2=1/Tt^2+1/Ts^2\n",
"//T1/T2=k\n",
"T2=367 //lb - from trail and error\n",
"T1=k*T2\n",
"Tt=T1+Tc\n",
"Ts=T2+Tc\n",
"HP=(T1-T2)*V/550\n",
"printf('\nSolution a)\nHorsepower transmitted= %.1f\nMaximum Horsepower transmitted= %.1f (at velocit = %.1f ft/s^2)Solution b)\nTt=%.f lb\nTs=%.f lb\nHorsepower transmitted= %.1f',H,Hmax,Vmax,Tt,Ts,HP)\n",
""
   ]
   }
],
"metadata": {
		  "kernelspec": {
		   "display_name": "Scilab",
		   "language": "scilab",
		   "name": "scilab"
		  },
		  "language_info": {
		   "file_extension": ".sce",
		   "help_links": [
			{
			 "text": "MetaKernel Magics",
			 "url": "https://github.com/calysto/metakernel/blob/master/metakernel/magics/README.md"
			}
		   ],
		   "mimetype": "text/x-octave",
		   "name": "scilab",
		   "version": "0.7.1"
		  }
		 },
		 "nbformat": 4,
		 "nbformat_minor": 0
}
