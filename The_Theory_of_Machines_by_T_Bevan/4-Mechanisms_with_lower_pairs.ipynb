{
"cells": [
 {
		   "cell_type": "markdown",
	   "metadata": {},
	   "source": [
       "# Chapter 4: Mechanisms with lower pairs"
	   ]
	},
{
		   "cell_type": "markdown",
		   "metadata": {},
		   "source": [
			"## Example 4.1: Extreme_angular_velocities.sce"
		   ]
		  },
  {
"cell_type": "code",
	   "execution_count": null,
	   "metadata": {
	    "collapsed": true
	   },
	   "outputs": [],
"source": [
"\n",
"clc\n",
"//given\n",
"rpm=1000\n",
"angle=20//degree\n",
"ang=(angle*%pi)/180\n",
"printf('\n')\n",
"w=2*%pi*rpm/60\n",
"printf('The angular velocity of the driving shaft is %.1f rad/s \n',w)\n",
"//maximum value of w1=w/cos(angle) and minimum value w2=w*cos(angle)\n",
"w1=w/cos(ang)\n",
"w2=w*cos(ang)\n",
"printf('Extreme angular velocities :-\n')\n",
"printf('maximum value of angular velocity w1=%.1f rad/s \nminimum value of angular velocity w2=%.1f rad/s\n',w1,w2)\n",
"//using equation 4.11, cos(2x)=(2*sin(angle)^2)/(2-sin(angle)^2)\n",
"x=acos((2*sin(ang)^2)/(2-sin(ang)^2))*180/(%pi)\n",
"y=360-x//for cosine inverse, angle and 360-angle are same and must be considered\n",
"x1=x/2\n",
"y1=y/2\n",
"printf('The acceleration of driven shaft is a maximum when theta =%.2f or %.2f degrees\n',x1,y1)\n",
"amax=(w^2*cos(ang)*(sin(ang)^2)*sin(x*%pi/180))/((1-((cos(x1*%pi/180)^2)*(sin(ang)^2)))^2)//maximum angular acceleration, numerically\n",
"printf('Maximum angular acceleration is %.f rad/s^2\n',amax)\n",
""
   ]
   }
],
"metadata": {
		  "kernelspec": {
		   "display_name": "Scilab",
		   "language": "scilab",
		   "name": "scilab"
		  },
		  "language_info": {
		   "file_extension": ".sce",
		   "help_links": [
			{
			 "text": "MetaKernel Magics",
			 "url": "https://github.com/calysto/metakernel/blob/master/metakernel/magics/README.md"
			}
		   ],
		   "mimetype": "text/x-octave",
		   "name": "scilab",
		   "version": "0.7.1"
		  }
		 },
		 "nbformat": 4,
		 "nbformat_minor": 0
}
