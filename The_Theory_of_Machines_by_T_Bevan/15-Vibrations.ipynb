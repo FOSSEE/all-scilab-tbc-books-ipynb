{
"cells": [
 {
		   "cell_type": "markdown",
	   "metadata": {},
	   "source": [
       "# Chapter 15: Vibrations"
	   ]
	},
{
		   "cell_type": "markdown",
		   "metadata": {},
		   "source": [
			"## Example 15.11: n_a_t_u_r_a_l_f_r_e_q_u_e_n_c_i_e_s.sce"
		   ]
		  },
  {
"cell_type": "code",
	   "execution_count": null,
	   "metadata": {
	    "collapsed": true
	   },
	   "outputs": [],
"source": [
"//to find the natural frequencies of the torsional vibration of the system when inertia is neglected and when it is taken into account\n",
"clc\n",
"//given\n",
"g=32.3//ft/s^2\n",
"l2=25.5//in\n",
"d1=2.75//in\n",
"d2=3.5//in\n",
"C=12*10^6//modulus of rigidity\n",
"G=1/0.6//given speed ratio\n",
"Ib=54//lb in^2\n",
"Ic=850//lb in^2\n",
"Id=50000//lb in^2\n",
"Id1=Id/G^2//15.62\n",
"Ia=1500//lb in^2\n",
"la=Id1/(Id1+Ia)*66.5\n",
"J=%pi*d1^4/32\n",
"q=C*J/la//torsional stiffness\n",
"n=(1/(2*%pi))*(q*g*12/Ia)^(1/2)\n",
"nf=n*60//for minutes\n",
"//case b)\n",
"Ib1=Ib+Ic/(G^2)\n",
"a=63.15//in; distance of the node from rotor A (given)\n",
"b=3.661//in; distance of the node from rotor A (given)\n",
"N1=n*(la/a)^(1/2)\n",
"N2=n*(la/b)^(1/2)\n",
"N1f=N1*60//for minutes\n",
"N2f=N2*60//for minutes\n",
"printf('\na) The frequency of torsional vibrations n = %.1f per sec or %.f per min\nb) The fundamental frquency = %.1f per sec or %.f per min\n   and the two node frequency = %.f per sec or %.f per min',n,nf,N1,N1f,N2,N2f)"
   ]
   }
,
{
		   "cell_type": "markdown",
		   "metadata": {},
		   "source": [
			"## Example 15.1: frequency.sce"
		   ]
		  },
  {
"cell_type": "code",
	   "execution_count": null,
	   "metadata": {
	    "collapsed": true
	   },
	   "outputs": [],
"source": [
"//to find the frequencies of the free longitudinal, transverse and torsional vibrations\n",
"clc\n",
"//given\n",
"W=.3*2240//lb\n",
"l=36//in\n",
"D=3//in\n",
"k=15//in\n",
"A=%pi*(D/2)^2\n",
"E=30*10^6//youngs modulus\n",
"C=12*10^6\n",
"g=32.2//ft/s^2\n",
"d=W*l/(A*E)\n",
"Fl=187.8/(d)^(1/2)\n",
"I=%pi*(d/2)^4\n",
"d1=W*(l^3)*64/(3*E*%pi*(3^4))\n",
"Ft=187.8/(d1)^(1/2)\n",
"j=%pi*3^4/32\n",
"q=C*j/l\n",
"Ftor=(1/(2*%pi))*(q*g*12/(W*k^2))^(1/2)\n",
"F1=Ftor*60\n",
"printf('\na) Frequency of Longitudinal vibrations = %.f per min\nb) Frequency of the transverse vibrations = %.f per min\nc) Frequency of the torsional vibration = %.f per min',Fl,Ft,F1)"
   ]
   }
,
{
		   "cell_type": "markdown",
		   "metadata": {},
		   "source": [
			"## Example 15.2: Natural_frquency.sce"
		   ]
		  },
  {
"cell_type": "code",
	   "execution_count": null,
	   "metadata": {
	    "collapsed": true
	   },
	   "outputs": [],
"source": [
"//To find the natural frequencies of the longitudinal, transverse and torsional vibration of the system\n",
"clc\n",
"//given\n",
"l1=3//ft\n",
"l2=2//ft\n",
"l=l1+l2//ft\n",
"W=.5*2240//lb\n",
"k=20//in\n",
"d=2//in\n",
"Wa=2*W/5\n",
"E=30*10^6\n",
"A=%pi*(d/2)^2\n",
"d1=Wa*l1*12/(A*E)\n",
"N1=187.8/(d1)^(1/2)\n",
"I=%pi*(d)^4/64\n",
"d2=W*(l1*12)^3*(l2*12)^3/(3*E*(l*12)^3*I)\n",
"N2=187.8/(d2)^(1/2)\n",
"C=12*10^6//given\n",
"g=32.2//given\n",
"J=%pi*d^4/32\n",
"q=C*J*((1/(l1*12))+(1/(l2*12)))\n",
"n=(1/(2*%pi))*(q*g*12/(W*k^2))^(1/2)\n",
"N3=n*60\n",
"printf('\na)Longitudinal vibration = %.f per min\nb)Transverse Vibration = %.f per min\nc)Torsional Vibration = %.f per min\n',N1,N2,N3)"
   ]
   }
,
{
		   "cell_type": "markdown",
		   "metadata": {},
		   "source": [
			"## Example 15.3: Natural_transverse_vibration.sce"
		   ]
		  },
  {
"cell_type": "code",
	   "execution_count": null,
	   "metadata": {
	    "collapsed": true
	   },
	   "outputs": [],
"source": [
"//to find frequency of the natural transverse vibration\n",
"clc\n",
"//given\n",
"l=10//ft\n",
"d=4//in\n",
"E=30*10^6//youngs modulus\n",
"d1=0.0882//inches; maximum deflection as shown in the figure\n",
"N=207/(d1)^(1/2)//From 15.20\n",
"printf('\nFrequency of natural transverse vibration = %.f per min',N)\n",
""
   ]
   }
,
{
		   "cell_type": "markdown",
		   "metadata": {},
		   "source": [
			"## Example 15.4: Resistance_offered.sce"
		   ]
		  },
  {
"cell_type": "code",
	   "execution_count": null,
	   "metadata": {
	    "collapsed": true
	   },
	   "outputs": [],
"source": [
"//To find the resistance offered by the dashpot\n",
"clc\n",
"//given\n",
"m=50//lb\n",
"k=100//lb/in\n",
"g=32.2//ft/s\n",
"d=m/k//static deflection\n",
"n=(1/(2*%pi))*(g*12/d)^(1/2)\n",
"//part 2\n",
"b=g*12/d\n",
"a=(b/20.79)^(1/2)\n",
"nd=(1/(2*%pi))*((b-(a/2)^2))^(1/2)\n",
"A=nd/n\n",
"printf('\nFrequency of free vibrations = %.3f per sec\nFrequency of damped vibrations = %.3f per sec \nThe ratio of the frequencies of damped and free vibrationsis %.3f \n',n,nd,A)"
   ]
   }
,
{
		   "cell_type": "markdown",
		   "metadata": {},
		   "source": [
			"## Example 15.5: Ratio.sce"
		   ]
		  },
  {
"cell_type": "code",
	   "execution_count": null,
	   "metadata": {
	    "collapsed": true
	   },
	   "outputs": [],
"source": [
"//To find the ratio nd/n\n",
"clc\n",
"//given\n",
"//damping torque is directly proposrtional to the angular velocity\n",
"C=12*10^6//Modulus of rigidity\n",
"l=3//ft\n",
"d=1//in\n",
"g=32.2//ft/s^2\n",
"I=500//lb ft^2 ; moment of inertia\n",
"J=%pi*d^4/32\n",
"q=C*J/(l*12)\n",
"n=(1/(2*%pi))*(q*g*12/(I*12^2))^(1/2)\n",
"//part 2 \n",
"b1=(q*g*12/(I*12^2))\n",
"a1=(b1/10.15)^(1/2)//by reducing equation 15.28\n",
"nd=(1/(2*%pi))*(b1-(a1/2)^2)^(1/2)\n",
"A=nd/n\n",
"printf('\nThe frequency of natural vibration = %.2f per sec\nThe frequency of damped vibration = %.2f per sec\nThe ratio nd/n = %.3f\n',n,nd,A)"
   ]
   }
,
{
		   "cell_type": "markdown",
		   "metadata": {},
		   "source": [
			"## Example 15.6: Find_the_amplitude.sce"
		   ]
		  },
  {
"cell_type": "code",
	   "execution_count": null,
	   "metadata": {
	    "collapsed": true
	   },
	   "outputs": [],
"source": [
"//to  find the amplitude if the period of the applied force coincided with the natural period of vibration of the system\n",
"clc\n",
"//given\n",
"m=20//lb\n",
"k=50//lb/in\n",
"F=30//lb\n",
"w=50//sec^-1 \n",
"g=32.2//ft/s^2\n",
"d=m/k\n",
"x=F/k//extension of the spring\n",
"b=g*12/d\n",
"a=(b/30.02)^(1/2)//from equation 15.28\n",
"D=1/((1-w^2/b)^2+a^2*w^2/b^2)^(1/2)\n",
"Af=D*x//amplitude of forced vibration \n",
"D=(b/a^2)^(1/2)//At resonance\n",
"A=D*x//amplitude at resonance\n",
"printf('\nAmplitude of forced vibrations = %.3f in\nAmplitude of the forced vibrations at resonance = %.2f in',Af,A)\n",
""
   ]
   }
,
{
		   "cell_type": "markdown",
		   "metadata": {},
		   "source": [
			"## Example 15.7: Fractio.sce"
		   ]
		  },
  {
"cell_type": "code",
	   "execution_count": null,
	   "metadata": {
	    "collapsed": true
	   },
	   "outputs": [],
"source": [
"//to find the fraction of the applied force transmitted at 1200 rpm and the amplitude of forced vibrations of the machines at resonance\n",
"clc\n",
"//given\n",
"e=1/30\n",
"n=1200//rpm\n",
"w=%pi*n/30\n",
"m=3//lb\n",
"g=32.2//ft/s^2\n",
"stroke=3.5//in\n",
"r=stroke/2\n",
"k=(1+1/e)^(1/2)//nf/n=k\n",
"d=(k/187.7)^2\n",
"W=200//lb ; given\n",
"s=W/d//combined stiffness\n",
"p=1/14.1//As a^2/b=1/198\n",
"T=((1+p^2*k^2/((1-k^2)^2+p^2*k^2)))^(1/2)//actual value of transmissibility\n",
"F=(m/g)*w^2*r/12//maximum unbalanced force transmitted on the machine\n",
"Fmax=F*T//maximum force transmitted to the foundation\n",
"//case b\n",
"E=((1+p^2)/(p^2))^(1/2)\n",
"Nreso=215.5//rpm\n",
"Fub=F*(Nreso/n)^2\n",
"Ftmax=E*Fub\n",
"D=E//dynamic magnifier\n",
"del=Fub/152//static deflection\n",
"A=del*D\n",
"printf('\na) Maximum force transmitted at 1200 rpm = %.f lb\nb) The amplitude of the forced vibrations of the machine at resonance = %.3f in\n   Force transmitted = %.f lb\n',Fmax,A,Fub)"
   ]
   }
,
{
		   "cell_type": "markdown",
		   "metadata": {},
		   "source": [
			"## Example 15.8: Frequency.sce"
		   ]
		  },
  {
"cell_type": "code",
	   "execution_count": null,
	   "metadata": {
	    "collapsed": true
	   },
	   "outputs": [],
"source": [
"//To find the frequency of the natural torsional oscillations of the system\n",
"clc\n",
"//given\n",
"l1=11//in\n",
"l2=10//in\n",
"l3=15//in\n",
"l4=4//in\n",
"l5=10//in\n",
"d1=3//in\n",
"d2=5//in\n",
"d3=3.5//in\n",
"d4=7//in\n",
"d5=5//in\n",
"I1=1500//lb ft^2\n",
"I2=1000//lb ft^2\n",
"leq=3//in from 15.49\n",
"g=32.2//ft/s^2\n",
"C=12*10^6\n",
"J=%pi*leq^4/32\n",
"l=l1+l2*(leq/d2)^4+l3*(leq/d3)^4+l4*(leq/d4)^4+l5*(leq/d5)^4\n",
"la=I2*l/(I1+I2)\n",
"qa=C*J/la\n",
"n=(1/(2*%pi))*(qa*g*12/(I1*12^2))^(1/2)\n",
"printf('\nThe frequency of the natural torsional oscillation of the system = %.1f per sec',n)"
   ]
   }
,
{
		   "cell_type": "markdown",
		   "metadata": {},
		   "source": [
			"## Example 15.9: f_r_e_q_u_e_n_c_i_e_s_of_the_free_torsional.sce"
		   ]
		  },
  {
"cell_type": "code",
	   "execution_count": null,
	   "metadata": {
	    "collapsed": true
	   },
	   "outputs": [],
"source": [
"//To find the  frequencies of the  free  torsional vibrations of the system\n",
"clc\n",
"//given\n",
"Ia=2.5//ton ft^2\n",
"Ib=7.5//ton ft^2\n",
"Ic=3//ton ft^2\n",
"g=32.2//ft/s^2\n",
"AB=9.5//ft\n",
"BC=25//ft\n",
"d=8.5//in\n",
"C=11.8*10^6//lb/in^2\n",
"k=Ic/Ia//la/lc=k\n",
"lc1=(25.6+(25.6^2-4*114.1)^(1/2))/2//from 1 and 2 , reducing using quadratic formula\n",
"lc2=(25.6-(25.6^2-4*114.1)^(1/2))/2//from 1 and 2 , reducing using quadratic formula\n",
"la1=lc1*k\n",
"la2=lc2*k\n",
"J=%pi*d^4/32\n",
"q=C*J/(lc1*12)//torsional stiffness\n",
"IC=Ic*2240*12^2/(g*12)//moment of inertia\n",
"nc=(1/(2*%pi))*(q/IC)^(1/2)//fundamental frequency of vibration\n",
"a1=nc*60\n",
"a=floor(a1)\n",
"n=16*(lc1/lc2)^(1/2)\n",
"b=n*60\n",
"printf('\nFundamental frequency of vibration = %.f per min\nTwo node frequency = %.f per min\n',a,b)"
   ]
   }
],
"metadata": {
		  "kernelspec": {
		   "display_name": "Scilab",
		   "language": "scilab",
		   "name": "scilab"
		  },
		  "language_info": {
		   "file_extension": ".sce",
		   "help_links": [
			{
			 "text": "MetaKernel Magics",
			 "url": "https://github.com/calysto/metakernel/blob/master/metakernel/magics/README.md"
			}
		   ],
		   "mimetype": "text/x-octave",
		   "name": "scilab",
		   "version": "0.7.1"
		  }
		 },
		 "nbformat": 4,
		 "nbformat_minor": 0
}
