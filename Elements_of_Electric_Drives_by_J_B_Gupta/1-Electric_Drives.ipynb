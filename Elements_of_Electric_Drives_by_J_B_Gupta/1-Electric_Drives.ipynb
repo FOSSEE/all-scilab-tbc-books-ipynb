{
"cells": [
 {
		   "cell_type": "markdown",
	   "metadata": {},
	   "source": [
       "# Chapter 1: Electric Drives"
	   ]
	},
{
		   "cell_type": "markdown",
		   "metadata": {},
		   "source": [
			"## Example 1.10: Find_the_Value_of_speed_and_torque.sce"
		   ]
		  },
  {
"cell_type": "code",
	   "execution_count": null,
	   "metadata": {
	    "collapsed": true
	   },
	   "outputs": [],
"source": [
"//Exa:1.10\n",
"clc;\n",
"clear;\n",
"close;\n",
"V=230;//in volts\n",
"I_1=90;//in amperes\n",
"R_a=0.08;//in ohms\n",
"R_se=0.05;//in ohms\n",
"R_m=R_a+R_se;//in ohms\n",
"R=1.5;//in ohms\n",
"E_b1=V-I_1*(R_m+R);//in volts\n",
"E_2=180;//in volts\n",
"N2=700;//in rpm\n",
"N1=N2*(E_b1/E_2);\n",
"disp(ceil(N1),'Speed (in rpm)=');\n",
"T=9.55*E_b1*I_1/N1;\n",
"disp(T,'Torque (in Newton-meter)=')"
   ]
   }
,
{
		   "cell_type": "markdown",
		   "metadata": {},
		   "source": [
			"## Example 1.12: Find_the_Value_of_torque_developed_and_terminal_voltage.sce"
		   ]
		  },
  {
"cell_type": "code",
	   "execution_count": null,
	   "metadata": {
	    "collapsed": true
	   },
	   "outputs": [],
"source": [
"//Exa:1.12\n",
"clc;\n",
"clear;\n",
"close;\n",
"P=4;//no. of poles\n",
"f=50;//in hertz\n",
"N_s=120*f/P;//in rpm\n",
"V=400/sqrt(3);//in volts\n",
"R2=4;//in ohms\n",
"R1=1.5;//in ohms\n",
"X1=4;//in ohms\n",
"X2=4;//in ohms\n",
"N=1350;//in rpm\n",
"s=(N_s-N)/N_s;//slip\n",
"T=(3*V^2*4/s)/((((R1+(R2/s))^2)+((X1+X2)^2))*(2*%pi*N_s/60));//in newton-meter\n",
"N1=900;//in rpm\n",
"s1=(N_s-N1)/N_s;//slip\n",
"T1=T*(N1/N)^2;\n",
"disp(T1,' Torque developed (in Newton-meter)=');\n",
"V1=V*sqrt((N1/N)^2*(s1/s)*((((R1+(R2/s1))^2)+((X1+X2)^2)))/(((R1+(R2/s))^2)+((X1+X2)^2)));\n",
"disp(V1,'Terminal Voltage (in volts)=');\n",
"//Answer given in the textbook is worng as the torque equation is not multiplied by R2\n",
"disp('Answer given in the textbook is worng as the torque equation is not multiplied by R2')"
   ]
   }
,
{
		   "cell_type": "markdown",
		   "metadata": {},
		   "source": [
			"## Example 1.13: Find_the_Value_of_rms_voltage.sce"
		   ]
		  },
  {
"cell_type": "code",
	   "execution_count": null,
	   "metadata": {
	    "collapsed": true
	   },
	   "outputs": [],
"source": [
"//Exa:1.13\n",
"clc;\n",
"clear;\n",
"close;\n",
"P=4;//no. of poles\n",
"f=50;//in hertz\n",
"N_s=120*f/P;//in rpm\n",
"s_f=0.05;//slip\n",
"N=N_s*(1-s_f);//in rpm\n",
"V=415;//in volts\n",
"s_m=0.1;//slip corresponding to maximum slip\n",
"N1=1350;//in rpm\n",
"s_fn=(N_s-N1)/N_s;//full load slip\n",
"V1=V*sqrt((N1/N)*(s_f/s_m)*(8/5));\n",
"disp(V1,' RMS Voltage (in volts)=')"
   ]
   }
,
{
		   "cell_type": "markdown",
		   "metadata": {},
		   "source": [
			"## Example 1.14: Find_the_Value_of_Slip_Frequency.sce"
		   ]
		  },
  {
"cell_type": "code",
	   "execution_count": null,
	   "metadata": {
	    "collapsed": true
	   },
	   "outputs": [],
"source": [
"//Exa:1.14\n",
"clc;\n",
"clear;\n",
"close;\n",
"f1=2;//in hertz\n",
"f=50;//in hertz\n",
"s_m=0.1;\n",
"V=400;//in volts\n",
"s1=0.04;//slip\n",
"s2=(0.2095-sqrt((0.2095)^2-s1))/2;\n",
"f_n=s2*40;\n",
"disp(f_n,'Slip Frequency (in Hertz)=')"
   ]
   }
,
{
		   "cell_type": "markdown",
		   "metadata": {},
		   "source": [
			"## Example 1.15: Find_the_Value_of_maximum_torque_at_one_half_load_and_25Hz_frequency.sce"
		   ]
		  },
  {
"cell_type": "code",
	   "execution_count": null,
	   "metadata": {
	    "collapsed": true
	   },
	   "outputs": [],
"source": [
"//Exa:1.15\n",
"clc;\n",
"clear;\n",
"close;\n",
"R1=0.02;//in ohms\n",
"X1=0.1;//in ohms\n",
"X2=X1;//in ohms\n",
"//T_ratio is defined as the ratio of maximum torque at one-half load and 25Hz frequency to maximum torque at rated voltage and frequency\n",
"T_ratio=(R1+sqrt(R1^2+(X1+X2)^2))/(2*(R1+sqrt(R1^2+((X1+X2)^2)/4)));\n",
"disp(T_ratio,'   maximum torque at one-half load and 25Hz frequency =');\n",
"disp('   times the maximum torque at rated voltage and frequency (T_max)');"
   ]
   }
,
{
		   "cell_type": "markdown",
		   "metadata": {},
		   "source": [
			"## Example 1.16: EX1_16.sce"
		   ]
		  },
  {
"cell_type": "code",
	   "execution_count": null,
	   "metadata": {
	    "collapsed": true
	   },
	   "outputs": [],
"source": [
"//Exa:1.16\n",
"clc;\n",
"clear;\n",
"close;\n",
"s_f=0.04;//full load slip\n",
"I_ratio=6;//Ratio of Starting current to full load current\n",
"T_ratio=I_ratio^2*s_f;//Ratio of Starting torque to full load torque\n",
"disp(T_ratio,'(a) Starting Torque =');\n",
"disp('   times the full load torque (T_f)');\n",
"s_max=sqrt((I_ratio^2-1)/(625-I_ratio^2));\n",
"disp(s_max,'(b) Slip at which Maximum torque occurs=');\n",
"T_rm=(1/2)*((s_f/s_max)+(s_max/s_f));\n",
"disp(T_rm,'(c) Ratio of maximum torque to full load torque=');"
   ]
   }
,
{
		   "cell_type": "markdown",
		   "metadata": {},
		   "source": [
			"## Example 1.17: Find_the_value_of_starting_torque.sce"
		   ]
		  },
  {
"cell_type": "code",
	   "execution_count": null,
	   "metadata": {
	    "collapsed": true
	   },
	   "outputs": [],
"source": [
"//Exa:1.17\n",
"clc;\n",
"clear;\n",
"close;\n",
"I_ratio=8;//Ratio of short circuit current to full load current\n",
"s_f=0.04;//full load slip\n",
"T_r1=I_ratio^2*s_f;\n",
"disp(T_r1,'(a) Sarting Torque when started by means of direct switching=');\n",
"disp('   times the full load torque');\n",
"T_r2=I_ratio^2*s_f/3;\n",
"disp(T_r2,'(b) Sarting Torque when started by star-delta starter=');\n",
"disp('   times the full load torque');\n",
"K=sqrt(3/8);// transformation ratio of transformer\n",
"T_st=K^2*I_ratio^2*s_f;\n",
"disp(T_st,'(C) Starting Torque =');\n",
"disp('   times the full load torque');"
   ]
   }
,
{
		   "cell_type": "markdown",
		   "metadata": {},
		   "source": [
			"## Example 1.18: Find_the_value_of_ratio_of_starting_current_to_full_load_current.sce"
		   ]
		  },
  {
"cell_type": "code",
	   "execution_count": null,
	   "metadata": {
	    "collapsed": true
	   },
	   "outputs": [],
"source": [
"//Exa:1.18\n",
"clc;\n",
"clear;\n",
"close;\n",
"P=10*7355;//in watts\n",
"V=400;//in volts\n",
"pf=0.8//power factor\n",
"Eff=0.9;//efficiency in per unit\n",
"I_f=P/(sqrt(3)*V*pf*Eff);//in amperes\n",
"I_sc=7.2;//in amperes\n",
"I_sc1=I_sc*400/160;//in amperes\n",
"I_st=I_sc1/3;//Starting current (in amperes)\n",
"I_r=I_st/I_f;\n",
"disp(I_r,'Ratio of starting current to full load current=')"
   ]
   }
,
{
		   "cell_type": "markdown",
		   "metadata": {},
		   "source": [
			"## Example 1.19: EX1_19.sce"
		   ]
		  },
  {
"cell_type": "code",
	   "execution_count": null,
	   "metadata": {
	    "collapsed": true
	   },
	   "outputs": [],
"source": [
"//Exa:1.19\n",
"clc;\n",
"clear;\n",
"close;\n",
"P_o=50*1000;//in VA\n",
"s_f=0.05;//slip\n",
"V=400;//in volts\n",
"I_f=P_o/(sqrt(3)*V);//in amperes\n",
"Z=0.866;//in ohms/phase\n",
"I_sc=V/(sqrt(3)*Z);//Short Circuit current (in amperes)\n",
"I_st=100;//Supply current at start (in amperes)\n",
"K=sqrt(I_st/I_sc);\n",
"disp(K*100,'Tap Position of auto transformer(in %)=');\n",
"I_ratio=I_sc/I_f;\n",
"T_r=K^2*I_ratio^2*s_f;\n",
"disp(T_r,'Ratio of Starting torque to full load torque =');"
   ]
   }
,
{
		   "cell_type": "markdown",
		   "metadata": {},
		   "source": [
			"## Example 1.1: Compare_the_annual_cost_of_a_group_drive_and_an_individual_drive.sce"
		   ]
		  },
  {
"cell_type": "code",
	   "execution_count": null,
	   "metadata": {
	    "collapsed": true
	   },
	   "outputs": [],
"source": [
"//Exa:1.1\n",
"clc;\n",
"clear;\n",
"close;\n",
"C_g=60000;//in Rs\n",
"D=0.12*C_g;//in Rs\n",
"E_c=75000;//in kWh\n",
"C_e=4*E_c;//in Rs\n",
"C_t=D+C_e;//in Rs\n",
"C_id=18750*10;//in Rs\n",
"AD=0.15*C_id;//in Rs\n",
"E_a=60000;//in kWh\n",
"C_ea=4*E_a;//in Rs\n",
"C_total=AD+C_ea;//in Rs\n",
"disp(C_t,'Total annual cost in case of group drive (in Rs)=');\n",
"disp(C_total,'Total annual cost in case of individual drive (in Rs)=');"
   ]
   }
,
{
		   "cell_type": "markdown",
		   "metadata": {},
		   "source": [
			"## Example 1.20: EX1_20.sce"
		   ]
		  },
  {
"cell_type": "code",
	   "execution_count": null,
	   "metadata": {
	    "collapsed": true
	   },
	   "outputs": [],
"source": [
"//Exa:1.20\n",
"clc;\n",
"clear;\n",
"close;\n",
"V=440/sqrt(3);//in volts\n",
"R_s=2;//in ohms\n",
"R_r=2;//in ohms\n",
"f=50;//in hertz\n",
"X_s=3;//in ohms\n",
"P=4;//no. of poles\n",
"X_r=3;//in ohms\n",
"R_o1=R_s+R_r;//Equivalent resistance of motor as referred to stator (in ohms)\n",
"X_o1=X_s+X_r;////Equivalent reactance of motor as referred to stator (in ohms)\n",
"I_st=V/(sqrt(R_o1^2+X_o1^2));//Starting current (in amperes)\n",
"P_cu=3*I_st^2*R_r;//Copper loss (in watts)\n",
"P2=7446;//in watts\n",
"N_s=120*f/P;//Synchronous Speed (in rpm)\n",
"T_st=9.55*P2/N_s;//Starting Torque (in Newton-meter)\n",
"disp(I_st,'Starting Current of motor at 50 Hertz (in amperes)=');\n",
"disp(T_st,'Starting Torque of motor at 50 hertz (in Newton-meters)=');\n",
"V1=V*10/50;//in volts\n",
"X_o2=X_o1*10/50;//in ohms\n",
"I_st1=V1/(sqrt(R_o1^2+X_o2^2));//Starting current (in amperes)\n",
"P_2=3*I_st1^2*R_r;//Copper loss (in watts)\n",
"N_s1=120*10/P;//Synchronous Speed (in rpm)\n",
"T_st2=9.55*P_2/N_s1;//Starting Torque (in Newton-meter)\n",
"disp(I_st1,'Starting Current of motor at 10 Hertz (in amperes)=');\n",
"disp(T_st2,'Starting Torque of motor at 10 hertz (in Newton-meters)=');"
   ]
   }
,
{
		   "cell_type": "markdown",
		   "metadata": {},
		   "source": [
			"## Example 1.21: Find_the_value_of_moment_of_inertia_of_drive.sce"
		   ]
		  },
  {
"cell_type": "code",
	   "execution_count": null,
	   "metadata": {
	    "collapsed": true
	   },
	   "outputs": [],
"source": [
"//Exa:1.21\n",
"clc;\n",
"clear;\n",
"close;\n",
"T_m=100;//Motor Torque (in Newton-meter)\n",
"T_l=30;//Load Torque (in Newton-meter)\n",
"alpha=2*%pi*10;//in angular acceleration (in rad/sec^2)\n",
"J=(T_m-T_l)/alpha;\n",
"disp(J,'Moment of inertia of drive (in Kg-m^2)')"
   ]
   }
,
{
		   "cell_type": "markdown",
		   "metadata": {},
		   "source": [
			"## Example 1.22: Find_the_value_of_Time_in_attaining_full_load_speed.sce"
		   ]
		  },
  {
"cell_type": "code",
	   "execution_count": null,
	   "metadata": {
	    "collapsed": true
	   },
	   "outputs": [],
"source": [
"//Exa:1.22\n",
"clc;\n",
"clear;\n",
"close;\n",
"P_o=37.5*1000;//in watts\n",
"N=500;//in rpm\n",
"T_l=P_o*60/(2*%pi*N);//Full load  torque (in Newton-meter)\n",
"T_st=(1.1+1.4)*T_l/2;// Average Starting Torque (in Newton-meters)\n",
"T_a=T_st-T_l;//total available torque for acceleration\n",
"J=20;//Moment of Inertia (in Kg-m^2)\n",
"t1=J*2*%pi*N/(60*T_a);\n",
"disp(t1,'Time in attaining full load speed (in seconds)=')"
   ]
   }
,
{
		   "cell_type": "markdown",
		   "metadata": {},
		   "source": [
			"## Example 1.23: Find_the_value_of_starting_period.sce"
		   ]
		  },
  {
"cell_type": "code",
	   "execution_count": null,
	   "metadata": {
	    "collapsed": true
	   },
	   "outputs": [],
"source": [
"//Exa:1.23\n",
"clc;\n",
"clear;\n",
"close;\n",
"P_o=37.5*1000;//in watts\n",
"N=500;//in rpm\n",
"T_l=P_o*60/(2*%pi*N);//Full load  torque (in Newton-meter)\n",
"T_m=2*T_l;// Torque developed by motor during starting\n",
"T_a=T_m-T_l;//total available torque for acceleration\n",
"E=37.5*660*9.81;//Stored energy of machine\n",
"J=E*2/(2*%pi*N/60)^2;//Moment of inertia (in Kg-m^2)\n",
"alpha=T_a/J;//angular acceleration (in rad/sec^2)\n",
"t=(2*%pi*N/60)/alpha;\n",
"disp(t,'Starting Period (in seconds)=')"
   ]
   }
,
{
		   "cell_type": "markdown",
		   "metadata": {},
		   "source": [
			"## Example 1.24: Find_the_value_of_energy_dissipated.sce"
		   ]
		  },
  {
"cell_type": "code",
	   "execution_count": null,
	   "metadata": {
	    "collapsed": true
	   },
	   "outputs": [],
"source": [
"//Exa:1.24\n",
"clc;\n",
"clear;\n",
"close;\n",
"V=220;//in volts\n",
"I=20;//in ampers\n",
"R=1;//in ohms\n",
"P_o=V*I-I^2*R;//Motor Output (in watts)\n",
"w=200;//in radians/second\n",
"T_l=P_o/w;//Load Torque (in N-m)\n",
"J=5;//kg-m^2\n",
"t_st=2.5;//in seconds\n",
"alpha=w/t_st;//angular acceleration (in rad/second^2)\n",
"K=(J*alpha+T_l)/I^2;\n",
"W_st=(J*R*w/K)+(T_l*R*t_st/K);\n",
"disp(W_st,'Energy Dissipated (in watts)=')"
   ]
   }
,
{
		   "cell_type": "markdown",
		   "metadata": {},
		   "source": [
			"## Example 1.25: Find_the_value_of_additional_resistance.sce"
		   ]
		  },
  {
"cell_type": "code",
	   "execution_count": null,
	   "metadata": {
	    "collapsed": true
	   },
	   "outputs": [],
"source": [
"//Exa:1.25\n",
"clc;\n",
"clear;\n",
"close;\n",
"I_l1=22;//in amperes\n",
"V=220;//in volts\n",
"R_sh=100;//in ohms\n",
"R_a=0.1;//in ohms\n",
"I_sh=V/R_sh;//in amperes\n",
"I_a1=I_l1-I_sh;//armatur current (in amperes)\n",
"E_b1=V-I_a1*R_a;//Back Emf (in volts)\n",
"N1=1000;//in rpm\n",
"I_a2=0.8*19.8;//in amperes\n",
"R=(218.416-(800*218.02/1000))/I_a2;\n",
"disp(R,'Value of additional resistance (in ohms)=');\n",
"I_a3=0.64*I_a1;//in amperes\n",
"R3=(218.7328-(800*218.02/1000))/I_a3;\n",
"disp(R3,'Value of additional resistance (in ohms)=');"
   ]
   }
,
{
		   "cell_type": "markdown",
		   "metadata": {},
		   "source": [
			"## Example 1.26: Find_the_value_of_additional_resistance.sce"
		   ]
		  },
  {
"cell_type": "code",
	   "execution_count": null,
	   "metadata": {
	    "collapsed": true
	   },
	   "outputs": [],
"source": [
"//Exa:1.26\n",
"clc;\n",
"clear;\n",
"close;\n",
"I_1=50;//in amperes\n",
"V=500;//in volts\n",
"N_ratio=0.5;//Speed Ratio\n",
"E_b1=V;//Back Emf (in volts)\n",
"T_ratio=N_ratio^3;//Torque ratio\n",
"I_2=I_1*sqrt(T_ratio);//in amperes\n",
"R=(E_b1-(I_2*N_ratio*E_b1/I_1))/I_2;\n",
"disp(R,'Value of additional resistance (in ohms)=');"
   ]
   }
,
{
		   "cell_type": "markdown",
		   "metadata": {},
		   "source": [
			"## Example 1.27: Find_the_value_of_diverter_resistance.sce"
		   ]
		  },
  {
"cell_type": "code",
	   "execution_count": null,
	   "metadata": {
	    "collapsed": true
	   },
	   "outputs": [],
"source": [
"//Exa:1.27\n",
"clc;\n",
"clear;\n",
"close;\n",
"N_ratio=1.2;//Speed Ratio\n",
"//From Saturation Curve\n",
"I_ratio=0.65;//feild current ratio corresponding to 83.3% of full load value of flux to 65% of full load value of flux\n",
"I_a_ratio=N_ratio;//Armature current ratio corresponding to 83.3% of full load value of flux to 65% of full load value of flux\n",
"R_ratio=I_ratio/(I_a_ratio-I_ratio);\n",
"disp(R_ratio,'Value of Diverter resistance (in ohms)=');\n",
"disp('   times the Series Feild Resistance (R_se)')"
   ]
   }
,
{
		   "cell_type": "markdown",
		   "metadata": {},
		   "source": [
			"## Example 1.28: Find_the_value_of_Armature_Current_at_1000_rpm.sce"
		   ]
		  },
  {
"cell_type": "code",
	   "execution_count": null,
	   "metadata": {
	    "collapsed": true
	   },
	   "outputs": [],
"source": [
"//Exa:1.28\n",
"clc;\n",
"clear;\n",
"close;\n",
"I_ab=800;//Armature current (in amperes)\n",
"N1=1000;//in rpm\n",
"N2=500;//in rpm\n",
"I=I_ab*N1/N2;\n",
"disp(I,' Armature Current at 1000 rpm (in amperes)=')"
   ]
   }
,
{
		   "cell_type": "markdown",
		   "metadata": {},
		   "source": [
			"## Example 1.29: Find_the_value_of_additional_resistance.sce"
		   ]
		  },
  {
"cell_type": "code",
	   "execution_count": null,
	   "metadata": {
	    "collapsed": true
	   },
	   "outputs": [],
"source": [
"//Exa:1.29\n",
"clc;\n",
"clear;\n",
"close;\n",
"f=50;//in hertz\n",
"P=4;//No.of poles\n",
"N_s=120*f/P;//Synchronous Speed (in rpm)\n",
"N=1440;//Full load speed (in rpm)\n",
"s1=(N_s-N)/N_s;//Full load Slip\n",
"N2=1200;//in rpm\n",
"s2=(N_s-N2)/N_s;//slip\n",
"R2=0.25;//ohms per phase\n",
"R=(s2*R2/s1)-R2;\n",
"disp(R,'Value of additional resistance (in ohms)=');"
   ]
   }
,
{
		   "cell_type": "markdown",
		   "metadata": {},
		   "source": [
			"## Example 1.2: Find_the_value_of_stable_operating_point.sce"
		   ]
		  },
  {
"cell_type": "code",
	   "execution_count": null,
	   "metadata": {
	    "collapsed": true
	   },
	   "outputs": [],
"source": [
"//Exam:1.2\n",
"clc;\n",
"clear;\n",
"close;\n",
"a=1;\n",
"b=1;\n",
"c=-30;\n",
"w_m=(-b+sqrt((b^2)-4*a*c))/(2*a);//speed of the drive\n",
"t_l=0.5*(w_m^2);//motoring torqe \n",
"disp(t_l,w_m,'stable operating point=');"
   ]
   }
,
{
		   "cell_type": "markdown",
		   "metadata": {},
		   "source": [
			"## Example 1.30: Find_the_value_of_frequecncy_of_rotor_currents_and_slip.sce"
		   ]
		  },
  {
"cell_type": "code",
	   "execution_count": null,
	   "metadata": {
	    "collapsed": true
	   },
	   "outputs": [],
"source": [
"//Exa:1.30\n",
"clc;\n",
"clear;\n",
"close;\n",
"f=50;//in hertz\n",
"P1=6;//No. of poles\n",
"P2=4;//No.of poles\n",
"N_sc=120*f/(P1+P2);//Synchronous Speed (in rpm)\n",
"s=0.02;//slip\n",
"N=N_sc*(1-s);//Actual Speed (in rpm)\n",
"N_s=120*f/P1;//Synchronous Speed of 6-pole motor\n",
"s1=(N_s-N)/N_s;\n",
"f1=s1*f;\n",
"disp(f1,'Frequency of rotor current of 6-pole motor (in Hertz)=');\n",
"disp(s1,'Slip reffered to 6-pole stator feild=');\n",
"N_s2=120*f1/P2;//Synchronous Speed of 4-pole motor\n",
"s2=(N_s2-N)/N_s2;\n",
"f2=s2*f1;\n",
"disp(f2,'Frequency of rotor current of 4-pole motor (in Hertz)=');\n",
"disp(s2,'Slip reffered to 4-pole stator feild=');"
   ]
   }
,
{
		   "cell_type": "markdown",
		   "metadata": {},
		   "source": [
			"## Example 1.31: EX1_31.sce"
		   ]
		  },
  {
"cell_type": "code",
	   "execution_count": null,
	   "metadata": {
	    "collapsed": true
	   },
	   "outputs": [],
"source": [
"//Exa:1.31\n",
"clc;\n",
"clear;\n",
"close;\n",
"f=50;//in hertz\n",
"P1=6;//No. of poles\n",
"P2=4;//No.of poles\n",
"N_s1=120*f/P1;//Synchronous Speed of 6-pole motor\n",
"N_s2=120*f/P2;//Synchronous Speed of 4-pole motor\n",
"N_sc1=120*f/(P1+P2);//Concantenated Speed of set when cumulatively compounded (in rpm)\n",
"N_sc2=120*f/(P1-P2);//Concantenated Speed of set when differentially compounded (in rpm)\n",
"disp(' Available Speeds (in rpm) are :');\n",
"disp(N_s1,'');\n",
"disp(N_s2,'');\n",
"disp(N_sc1,'');\n",
"disp(N_sc2,'');\n",
"P_o=15;//in HP\n",
"disp(P_o,'Maximum Load which can be delievered (in HP)=');\n",
"r=P1/P2;\n",
"disp(r,'Ratio of Mechanical Power Output')"
   ]
   }
,
{
		   "cell_type": "markdown",
		   "metadata": {},
		   "source": [
			"## Example 1.32: Find_the_value_of_Resistance_to_be_added_to_each_slip_ring.sce"
		   ]
		  },
  {
"cell_type": "code",
	   "execution_count": null,
	   "metadata": {
	    "collapsed": true
	   },
	   "outputs": [],
"source": [
"//Exa:1.32\n",
"clc;\n",
"clear;\n",
"close;\n",
"f=50;//in hertz\n",
"V=440;//in volts\n",
"P_o=110*1000;//in watts\n",
"P=24;//No.Of Poles\n",
"N_s=120*f/P;//Synchronous Speed (in rpm)\n",
"N=245;//in rpm\n",
"s_f=(N_s-N)/N_s;//Full load Speed\n",
"T_f=P_o/(2*%pi*N/60);//Full load Torque (in N-m)\n",
"R=0.04;//in ohms\n",
"R2=R/2;//Rotor resistance per phase (in ohms)\n",
"K=1.25;// ratio of stator turns to rotor turns\n",
"R_2=R2*K^2;//Rotor resistance reffered to stator (in ohms)\n",
"X_2=sqrt(((V^2*R_2*1.2/(T_f*500*%pi))-R_2^2)*(1/R2)^2);//in ohms\n",
"s=(N_s-175)/N_s;//slip at 175 rpm\n",
"T=T_f*175^2/N^2;//Torque at 175 rpm (in N-m)\n",
"b=-(V^2*s*60/(T*2*%pi*N_s));\n",
"a=1;\n",
"c=(s*X_2)^2;\n",
"R_n=(-b+sqrt(b^2-4*a*c))/(2*a)\n",
"R_ext=(R_n-R_2)/K^2;\n",
"disp(R_ext,'Resistance to be added to each slip ring (in ohms)=')"
   ]
   }
,
{
		   "cell_type": "markdown",
		   "metadata": {},
		   "source": [
			"## Example 1.33: EX1_33.sce"
		   ]
		  },
  {
"cell_type": "code",
	   "execution_count": null,
	   "metadata": {
	    "collapsed": true
	   },
	   "outputs": [],
"source": [
"//Exa:1.33\n",
"clc;\n",
"clear;\n",
"close;\n",
"I_f=100;//in amperes\n",
"V=220;//in volts\n",
"N=1000;//in rpm\n",
"T_f=V*I_f/(2*%pi*N/60);//Full load torque (N-m)\n",
"E_bf=V;//Back emf (in volts)\n",
"V_a=V+E_bf;// Voltage across armature (in volts)\n",
"I_b=2*I_f;//braking current\n",
"R=(V_a/I_b);//in ohms\n",
"disp(R,'Value of external resistance (in ohms)=');\n",
"T_b=T_f*I_b/I_f;\n",
"disp(T_b,'Initial Braking Torque (in N-m)=');\n",
"E_b1=E_bf*500/N;//in volts\n",
"I_b1=(V+E_b1)/R;//in amperes\n",
"T_b1=T_f*I_b1/I_f;\n",
"disp(T_b1,'Braking Torque when speed reduced to 500 rpm (in N-m)=');"
   ]
   }
,
{
		   "cell_type": "markdown",
		   "metadata": {},
		   "source": [
			"## Example 1.34: Find_the_value_of_resistance_and_breaking_torque.sce"
		   ]
		  },
  {
"cell_type": "code",
	   "execution_count": null,
	   "metadata": {
	    "collapsed": true
	   },
	   "outputs": [],
"source": [
"//Exa:1.34\n",
"clc;\n",
"clear;\n",
"close;\n",
"P_o=17.6*1000;//in watts\n",
"Eff=0.8;//Efficiency\n",
"V=220;//in volts\n",
"I_f=P_o/(V*Eff);//in amperes\n",
"I_af=I_f;//in amperes\n",
"R_a=0.1;//in ohms\n",
"N=1200;//in rpm\n",
"T_f=P_o/(2*%pi*N/60);//Full load torque (N-m)\n",
"E_bf=V-I_af*R_a;//Back emf (in volts)\n",
"V_a=V+E_bf;// Voltage across armature (in volts)\n",
"I_b=2*I_f;//braking current\n",
"R=(V_a/I_b)-R_a;//in ohms\n",
"disp(R,'Value of external resistance (in ohms)=');\n",
"E_b1=E_bf*400/N;//in volts\n",
"I_b1=(V+E_b1)/(R+R_a);//in amperes\n",
"T_b1=T_f*I_b1/I_f;\n",
"disp(T_b1,'Braking Torque when speed reduced to 400 rpm (in N-m)=');"
   ]
   }
,
{
		   "cell_type": "markdown",
		   "metadata": {},
		   "source": [
			"## Example 1.35: EX1_35.sce"
		   ]
		  },
  {
"cell_type": "code",
	   "execution_count": null,
	   "metadata": {
	    "collapsed": true
	   },
	   "outputs": [],
"source": [
"//Exa:1.35\n",
"clc;\n",
"clear;\n",
"close;\n",
"V=220;//in volts\n",
"P_o=400*9.81*2.5;//(in watts)\n",
"Eff=0.85;//efficiency of motor\n",
"Eff_h=0.8\n",
"P_in=P_o/(Eff*Eff_h);//in watts\n",
"I=P_in/V;//in amperes\n",
"disp(I,'Current Drawn (in amperes)=');\n",
"P_out=P_o*Eff*Eff_h;//in watts\n",
"R=V^2/P_out;\n",
"disp(R,'Value of additional resistance (in ohms)=')"
   ]
   }
,
{
		   "cell_type": "markdown",
		   "metadata": {},
		   "source": [
			"## Example 1.36: Find_the_value_of_Current_Drawn_and_Value_of_additional_resistance.sce"
		   ]
		  },
  {
"cell_type": "code",
	   "execution_count": null,
	   "metadata": {
	    "collapsed": true
	   },
	   "outputs": [],
"source": [
"//Exa:1.36\n",
"clc;\n",
"clear;\n",
"close;\n",
"T=245;//in N-m\n",
"N=250;//in rpm\n",
"P_in=T*2*%pi*N/60;//in watts\n",
"//Corresponding to the value of P_in we found I=27.5A and E=233 V from the given curve shown in fig.1.102\n",
"E=233;//in volts\n",
"I=27.5;//in amperes\n",
"r=E/I;//resistance of the circuit\n",
"R=r-1;//External Resistance to be inserted (in ohms)\n",
"disp(R,'External Resistance to be inserted (in ohms)=')"
   ]
   }
,
{
		   "cell_type": "markdown",
		   "metadata": {},
		   "source": [
			"## Example 1.37: Find_the_value_of_speed_under_regenerative_braking_plugging_and_dynamic_braking.sce"
		   ]
		  },
  {
"cell_type": "code",
	   "execution_count": null,
	   "metadata": {
	    "collapsed": true
	   },
	   "outputs": [],
"source": [
"//Exa:1.37\n",
"clc;\n",
"clear;\n",
"close;\n",
"P_o=45*1000;//in watts\n",
"R_a=0.2;//in ohms\n",
"V=500;//in volts\n",
"Eff=0.9;//Efficiency\n",
"I_lf=P_o/(V*Eff);//Rated Line current (in amperes)\n",
"R_sh=200;//in ohms\n",
"I_sh=V/R_sh;//Shunt feild Current (in amperes)\n",
"I_af=I_lf-I_sh;//Armature current on full load (in Amperes)\n",
"E_f=V-I_af*R_a;//emf induced (in volts)\n",
"N_f=600;//in rpm\n",
"E1=V+I_af*R_a;//in volts\n",
"N1=E1*N_f/E_f;\n",
"disp(N1,'Speed under regenerative braking(in rpm)=');\n",
"E2=I_af*(5.5+R_a)-V;//in volts\n",
"N2=E2*N_f/E_f;\n",
"disp(N2,'Speed under plugging (in rpm)=');\n",
"E3=I_af*(2.6+R_a);//in volts\n",
"N3=E3*N_f/E_f;\n",
"disp(N3,'Speed under dynamic braking(in rpm)=');"
   ]
   }
,
{
		   "cell_type": "markdown",
		   "metadata": {},
		   "source": [
			"## Example 1.38: Find_the_value_of_speed.sce"
		   ]
		  },
  {
"cell_type": "code",
	   "execution_count": null,
	   "metadata": {
	    "collapsed": true
	   },
	   "outputs": [],
"source": [
"//Exa:1.38\n",
"clc;\n",
"clear;\n",
"close;\n",
"V=230;//in volts\n",
"I_a=100;//in amperes\n",
"R_a=0.05;//in ohms\n",
"E_b=V-I_a*R_a;//in volts\n",
"N=870;//in rpm\n",
"T=E_b*I_a/(2*%pi*N/60);//torque developed (in N-m)\n",
"T_l=400;//in N-m\n",
"I_an=I_a*T_l/T;//in amperes\n",
"E=V+I_an*R_a;//in volts\n",
"N1=N*E/230;\n",
"disp(N1,'Speed (in rpm)=')"
   ]
   }
,
{
		   "cell_type": "markdown",
		   "metadata": {},
		   "source": [
			"## Example 1.39: Find_the_reduction_in_flux_and_motor_speed.sce"
		   ]
		  },
  {
"cell_type": "code",
	   "execution_count": null,
	   "metadata": {
	    "collapsed": true
	   },
	   "outputs": [],
"source": [
"//Exa:1.39\n",
"clc;\n",
"clear;\n",
"close;\n",
"I_a1=100;//in Amperes\n",
"V=230;//in volts\n",
"R_a=0.1;//in ohms\n",
"E_b1=V-I_a1*R_a;//in volts\n",
"N1=500;//in rpm\n",
"N2=800;//in rpm\n",
"x=(V-sqrt((V^2)-4*10*352))/(2*10);\n",
"disp('Flux is reduced by');\n",
"disp(x^-1,);\n",
"disp('times to get motor speed of 800 rpm');\n",
"I_a2=I_a1*x;//in amperes\n",
"E_b2=V-I_a2*R_a;//in volts\n",
"T_2=E_b2*I_a2*60/(2*%pi*N2);//in N-m\n",
"T_3=800;//in N-m\n",
"I_a3=I_a2*T_3/T_2;//in Amperes\n",
"E_b3=V+I_a3*R_a;//in amperes\n",
"N3=E_b3*N2/E_b2;\n",
"disp(ceil(N3),'Speed (in rpm)=');"
   ]
   }
,
{
		   "cell_type": "markdown",
		   "metadata": {},
		   "source": [
			"## Example 1.3: Find_the_value_of_moment_of_inertia_and_power_developed.sce"
		   ]
		  },
  {
"cell_type": "code",
	   "execution_count": null,
	   "metadata": {
	    "collapsed": true
	   },
	   "outputs": [],
"source": [
"//Exam:1.2\n",
"clc;\n",
"clear;\n",
"close;\n",
"J_m=0.4;//motor inertia(in Kg-m2)\n",
"J_l=10;//load inertia(in Kg-m2)\n",
"a=0.1;//Teeth ratio of gear\n",
"i=1/a;\n",
"N=1400;\n",
"pi=22/7;\n",
"n=0.90;//efficency of motor\n",
"T_l=50;//Torque(N-m)\n",
"J=J_m+J_l/(i^2);//Total moment of inertia referred to the motor shaft\n",
"T_L=T_l/(i*n);//total equivalent torque referref to motor shaft\n",
"P=T_L*2*pi*N/60;//power developed by motor\n",
"disp(ceil(P),'power developed by motor(in Watt)=');"
   ]
   }
,
{
		   "cell_type": "markdown",
		   "metadata": {},
		   "source": [
			"## Example 1.40: Find_the_value_of_plugging_torque.sce"
		   ]
		  },
  {
"cell_type": "code",
	   "execution_count": null,
	   "metadata": {
	    "collapsed": true
	   },
	   "outputs": [],
"source": [
"//Exa:1.40\n",
"clc;\n",
"clear;\n",
"close;\n",
"f=50;//in hertz\n",
"P=4;//Number of poles\n",
"N_s=120*f/P;//Synchronous Speed (in rpm)\n",
"s_f=0.05;//Full load Slip\n",
"N_f=N_s*(1-s_f);//Full load speed (in rpm)\n",
"P_d=30*1000;//in watts\n",
"T_f=P_d/(2*%pi*N_f/60);//In N-m\n",
"s_2=2-s_f;//Slip at plugging\n",
"T_p=(s_2/s_f)*T_f*(1+16*s_f^2)/(1+16*s_2^2);\n",
"disp(T_p,'Plugging Torque (in N-m)=')"
   ]
   }
,
{
		   "cell_type": "markdown",
		   "metadata": {},
		   "source": [
			"## Example 1.41: EX1_41.sce"
		   ]
		  },
  {
"cell_type": "code",
	   "execution_count": null,
	   "metadata": {
	    "collapsed": true
	   },
	   "outputs": [],
"source": [
"//Exa:1.41\n",
"clc;\n",
"clear;\n",
"close;\n",
"R2=0.5;//in ohms\n",
"X2=2.4;//in ohms\n",
"a=0.5;//ratio\n",
"s_f=0.05;//slip\n",
"f=50;//in hertz\n",
"P=8;//Number of Poles\n",
"R_2=R2*a^2;//in ohms\n",
"X_2=X2*a^2;//in ohms\n",
"s=2-s_f;//Slip during Plugging\n",
"N_s=120*f/P;//in rpm\n",
"V=400/sqrt(3);//in volts\n",
"R_L=2;//in ohms\n",
"R_1=0.1;//in ohms\n",
"X_1=0.6;//in ohms\n",
"I_2=V/sqrt(((R_1+(R_2+R_L)/s)^2)+(X_1+X_2)^2);//in amperes\n",
"T_b=3*60*I_2^2*(R_2+R_L)/(2*%pi*N_s*s);\n",
"disp(int(T_b),'Initial Braking Torque (in N-m)=');\n",
"E_2=V*sqrt(((R_2/s_f)^2+(X_2^2))/(((R_2/s_f)+R_1)^2)+1.2^2)/sqrt(3);\n",
"S=1-s_f;//Slip during breaking\n",
"I_2b=E_2/sqrt((X_2^2)+((R_L+R_2)/S)^2);\n",
"T_bn=3*60*I_2b^2*(R_2+R_L)/(2*%pi*N_s*S);\n",
"disp(T_bn,'Initial Braking Torque during dc dynamic braking(in N-m)=');"
   ]
   }
,
{
		   "cell_type": "markdown",
		   "metadata": {},
		   "source": [
			"## Example 1.42: EX1_42.sce"
		   ]
		  },
  {
"cell_type": "code",
	   "execution_count": null,
	   "metadata": {
	    "collapsed": true
	   },
	   "outputs": [],
"source": [
"//Exa:1.42\n",
"clc;\n",
"clear;\n",
"close;\n",
"J=630;//in kg-m^2\n",
"T_f=1.4*9.81;//in N-m\n",
"T_e=165*9.81;//in N-m\n",
"T_b=T_e+T_f;//in N-m\n",
"Beta=T_b/J;//in rad/sec^2\n",
"f=50;//in hertz\n",
"P=8;//no of poles\n",
"N_s=120*f/P;//in rpm\n",
"w_1=2*%pi*N_s/60;//in rad/sec\n",
"t=w_1/Beta;\n",
"disp(t,'Time taken to stop the motor (in seconds)=');\n",
"n=w_1^2/(2*%pi*Beta*2);\n",
"disp(n,'Number of revolutions made=');"
   ]
   }
,
{
		   "cell_type": "markdown",
		   "metadata": {},
		   "source": [
			"## Example 1.43: Find_the_value_of_time_taken_and_number_of_revolutions.sce"
		   ]
		  },
  {
"cell_type": "code",
	   "execution_count": null,
	   "metadata": {
	    "collapsed": true
	   },
	   "outputs": [],
"source": [
"//Exa:1.43\n",
"clc;\n",
"clear;\n",
"close;\n",
"P_o=37.5*1000;//in Watts\n",
"N=750;//in rpm\n",
"Eff=0.9;//Efficiency\n",
"V_L=400;//in Volts\n",
"pf=0.85;//Power Factor\n",
"R_b=2.5;//in ohms\n",
"T_f=P_o*60/(2*%pi*N);//in N-m\n",
"I_L=P_o/(sqrt(3)*V_L*pf*Eff);//in Amperes\n",
"I_b=V_L/(sqrt(3)*R_b);//in Amperes\n",
"T_E=T_f*I_b/I_L;//in N-m\n",
"T_i_total=T_f+T_E;//in N-m\n",
"w=2*%pi*N/60;//in rad/sec\n",
"K=T_E/w;\n",
"J=20;//kg-m^2\n",
"t=(J/K)*log((T_f+K*w)/T_f);\n",
"disp(t,'Time taken (in Seconds)=');\n",
"n=(1/(2*%pi*K))*(((J/K)*(T_f+K*w)*(1-exp(-K*t/J)))-T_f*t);\n",
"disp(n,'Number of Revolutions Made=')"
   ]
   }
,
{
		   "cell_type": "markdown",
		   "metadata": {},
		   "source": [
			"## Example 1.44: Find_the_value_of_time_taken.sce"
		   ]
		  },
  {
"cell_type": "code",
	   "execution_count": null,
	   "metadata": {
	    "collapsed": true
	   },
	   "outputs": [],
"source": [
"//Exa:1.44\n",
"clc;\n",
"clear;\n",
"close;\n",
"E=240;//in volts\n",
"R=15;//in ohms\n",
"N=1500;//in rpm\n",
"P=E^2/R;//in Watts\n",
"T_b=P*60/(2*%pi*N);//in N-m\n",
"T_e=T_b;\n",
"w_1=2*%pi*N/60;//in rad/sec\n",
"K=T_e/w_1;\n",
"J=20;//kg-m^2\n",
"t=(J/K)*log(w_1/62.832);\n",
"disp(t,'Time taken to bring motor from 1500 rpm to 600 rpm (in seconds)=');\n",
"T_f=1.5*9.81;//in N-m\n",
"t_o=(J/K)*log((T_f+T_e)/(T_f+(T_e*600/1500)));\n",
"disp(t_o,'Time taken for fall of speed if there exist frictional torque (in seconds)=');"
   ]
   }
,
{
		   "cell_type": "markdown",
		   "metadata": {},
		   "source": [
			"## Example 1.45: Find_the_value_of_final_temperature_rise_and_heating_time_constant.sce"
		   ]
		  },
  {
"cell_type": "code",
	   "execution_count": null,
	   "metadata": {
	    "collapsed": true
	   },
	   "outputs": [],
"source": [
"//Exa:1.45\n",
"clc;\n",
"clear;\n",
"close;\n",
"d=0.65;//in meters\n",
"l=1;//in meters\n",
"P_o=12*735.5;//in watts\n",
"Eff=0.9;//Efficiency\n",
"P_in=P_o/Eff;//in watts\n",
"P_L=P_in-P_o;//in watts\n",
"m=400;//in kg\n",
"C_p=700;//in J/Kg/Celcius\n",
"alpha=12;//in watts/m^2/Celcius\n",
"S=%pi*d*l;//in m^2\n",
"Theta=P_L/(S*alpha);//in Celcius\n",
"t=m*C_p/(S*alpha);\n",
"disp(Theta,'Final temperatur rise (in degree celcius)=');\n",
"disp(ceil(t),'Heating time constant (in seconds)=');"
   ]
   }
,
{
		   "cell_type": "markdown",
		   "metadata": {},
		   "source": [
			"## Example 1.47: EX1_47.sce"
		   ]
		  },
  {
"cell_type": "code",
	   "execution_count": null,
	   "metadata": {
	    "collapsed": true
	   },
	   "outputs": [],
"source": [
"//Exa:1.47\n",
"clc;\n",
"clear;\n",
"close;\n",
"theta_1=20;//in degree celcius\n",
"theta_2=34;//in degree celcius\n",
"t=-1/log((theta_2/theta_1)-1);//in hours\n",
"disp(t,'Heating time constant (in hours)=');\n",
"theta_F=theta_1/(1-exp(-1/t));\n",
"disp(theta_F,'Final steady temperature rise (in degree celcius)=');\n",
"theta_f=theta_F/(1-exp(-1/t));\n",
"x=sqrt(2*(theta_f/theta_F)-1);\n",
"disp('one hour rating of motor is');\n",
"disp(x,'times full load rating');"
   ]
   }
,
{
		   "cell_type": "markdown",
		   "metadata": {},
		   "source": [
			"## Example 1.48: Find_the_half_hour_rating_of_the_motor.sce"
		   ]
		  },
  {
"cell_type": "code",
	   "execution_count": null,
	   "metadata": {
	    "collapsed": true
	   },
	   "outputs": [],
"source": [
"//Exa:1.48\n",
"clc;\n",
"clear;\n",
"close;\n",
"P=25;//in KW\n",
"t=1.5;//in hours\n",
"P_L=sqrt((((1/(1-exp(-0.5/t)))*1.9)-0.9)*P^2);\n",
"disp(P_L,'Half hour rating of a 25KW Motor (in KW)=')"
   ]
   }
,
{
		   "cell_type": "markdown",
		   "metadata": {},
		   "source": [
			"## Example 1.49: Find_the_running_time_of_the_motor.sce"
		   ]
		  },
  {
"cell_type": "code",
	   "execution_count": null,
	   "metadata": {
	    "collapsed": true
	   },
	   "outputs": [],
"source": [
"//Exa:1.49\n",
"clc;\n",
"clear;\n",
"close;\n",
"t=60;//in minutes\n",
"theta_F=20;//in degree celcius\n",
"P_L1=2.5625;//Total losses at P KW\n",
"P_L2=7.25;//Total losses at 2P KW\n",
"theta_f=theta_F*P_L2/P_L1;//in degree celcius\n",
"t_o=t*log(1/(1-(theta_F/theta_f)));\n",
"disp(t_o,'Time of operation (in minutes)=');"
   ]
   }
,
{
		   "cell_type": "markdown",
		   "metadata": {},
		   "source": [
			"## Example 1.4: Find_the_value_of_moment_of_inertia_and_power_developed.sce"
		   ]
		  },
  {
"cell_type": "code",
	   "execution_count": null,
	   "metadata": {
	    "collapsed": true
	   },
	   "outputs": [],
"source": [
"//Exam:1.4\n",
"clc;\n",
"clear;\n",
"close;\n",
"J_m=0.4;//motor inertia(in Kg-m2)\n",
"J_l=10;//load inertia(in Kg-m2)\n",
"a=0.1;//Teeth ratio of gear\n",
"N=1500;\n",
"pi=22/7;\n",
"n_t=0.88;\n",
"m=600;//weight\n",
"g=9.81;\n",
"f_r=m*g;//force\n",
"w_m=fix(2*pi*N/60);//motor speed\n",
"w=2;//uniform speed of weight lifting\n",
"n=0.9;//efficency of motor\n",
"T_l=50;//Torque(N-m)\n",
"J=J_m+(a^2)*J_l+m*((w/w_m)^2);//Total moment of inertia referred to the motor shaft\n",
"T_L=(a*T_l/n)+f_r*w/(n_t*w_m) ;//total equivalent torque referred to motor shaft\n",
"p=T_L*w_m;//power developed by motor(in Watt)\n",
"P=p/1000;//power developed by motor(in kWatt)\n",
"disp(J,'Total torque referred to motor shaft(in kg-m2)=')\n",
"disp(T_L,'Total equivalent Torque referred to motor shaft(in N-m)=')\n",
"disp(P,'power developed by motor(in kWatt)=')"
   ]
   }
,
{
		   "cell_type": "markdown",
		   "metadata": {},
		   "source": [
			"## Example 1.51: Find_out_the_continuous_rating_of_the_motor.sce"
		   ]
		  },
  {
"cell_type": "code",
	   "execution_count": null,
	   "metadata": {
	    "collapsed": true
	   },
	   "outputs": [],
"source": [
"//Exa:1.51\n",
"clc;\n",
"clear;\n",
"close;\n",
"Eff=0.8;//Efficiency\n",
"P1=400;//in watts\n",
"t1=60;//in minutes\n",
"t2=15;//in minutes\n",
"P=sqrt((((2.5625/(1-exp(-t2/t1)))-1)^(-1))*(P1/Eff)^2);\n",
"disp(P,'Continuous Rating of Motor (in Watts)=');"
   ]
   }
,
{
		   "cell_type": "markdown",
		   "metadata": {},
		   "source": [
			"## Example 1.52: EX1_52.sce"
		   ]
		  },
  {
"cell_type": "code",
	   "execution_count": null,
	   "metadata": {
	    "collapsed": true
	   },
	   "outputs": [],
"source": [
"//Exa:1.52\n",
"clc;\n",
"clear;\n",
"close;\n",
"theta_1=50;//in degree Celcius\n",
"theta_F=80;//in degree celcius\n",
"t=0.75;//in hours\n",
"theta=theta_F*(1-exp(-1/t));\n",
"disp(theta_F,'Temperature rise after 1 hour (in degree celcius)=');\n",
"theta_f=theta_F/(1-exp(-1/t));\n",
"disp(theta_f,'Steady state temperature rise at 1 hour rating (in degree celcius)=');\n",
"T=-t*log(1-(theta_1/theta_f));\n",
"disp(60-T*60,'Time taken to increase temperature from 50 to 80 degree celcius (in minutes)=');"
   ]
   }
,
{
		   "cell_type": "markdown",
		   "metadata": {},
		   "source": [
			"## Example 1.53: Find_the_value_of_load.sce"
		   ]
		  },
  {
"cell_type": "code",
	   "execution_count": null,
	   "metadata": {
	    "collapsed": true
	   },
	   "outputs": [],
"source": [
"//Exa:1.53\n",
"clc;\n",
"clear;\n",
"P_cont=100;//in KWs\n",
"Eff=0.8;//Efficiency\n",
"T_1=50;//in minutes\n",
"T_2=70;//in minutes\n",
"t_1=10;//in minutes\n",
"t_2=10;//in minutes\n",
"r=(1-exp(-((t_1/T_1)+(t_2/T_2))))/(1-exp(-t_1/T_1));// r=theta_f/theta_F\n",
"P_L=2.5625;//Losses at 100 KW Load \n",
"P_L1=Eff*P_cont;//in Kws\n",
"P=sqrt(((P_L*r)-1)*P_L1^2);\n",
"disp(P,'Value of Load in KW during load period=');"
   ]
   }
,
{
		   "cell_type": "markdown",
		   "metadata": {},
		   "source": [
			"## Example 1.54: Find_the_value_of_final_temperature_rise_and_heating_time_constant.sce"
		   ]
		  },
  {
"cell_type": "code",
	   "execution_count": null,
	   "metadata": {
	    "collapsed": true
	   },
	   "outputs": [],
"source": [
"//Exa:1.54\n",
"clc;\n",
"clear;\n",
"close;\n",
"theta_1=20;//in degree celcius\n",
"theta_2=30;//in degree celcius\n",
"t_1=30;//in minutes\n",
"t_2=60;//in minutes\n",
"t=-(t_2-t_1)/log((theta_2/theta_1)-1);//in minutes\n",
"theta_F=theta_1/(1-exp(-t_1/t));\n",
"disp(t,'Heating Time Contant (in minutes)=');\n",
"disp(theta_F,'Final Temperature Rise (in Degree Celcius)=');"
   ]
   }
,
{
		   "cell_type": "markdown",
		   "metadata": {},
		   "source": [
			"## Example 1.55: Find_the_value_of_maximum_overload.sce"
		   ]
		  },
  {
"cell_type": "code",
	   "execution_count": null,
	   "metadata": {
	    "collapsed": true
	   },
	   "outputs": [],
"source": [
"//Exa:1.55\n",
"clc;\n",
"clear;\n",
"close;\n",
"theta_1=30;//in degree celcius\n",
"theta_2=40;//in degree celcius\n",
"t_1=1;//in hours\n",
"t_2=2;//in hours\n",
"x=(theta_2/theta_1)-1;\n",
"theta_F=theta_1/(1-x);//in degree celcius\n",
"theta_f=50/(1-x);//in degree celcius\n",
"P_L=25;//in KWs\n",
"P=P_L*sqrt(theta_f/theta_F);\n",
"disp(P,'Maximum Overload (in KWs)=')"
   ]
   }
,
{
		   "cell_type": "markdown",
		   "metadata": {},
		   "source": [
			"## Example 1.56: Find_the_value_of_temperature_rise.sce"
		   ]
		  },
  {
"cell_type": "code",
	   "execution_count": null,
	   "metadata": {
	    "collapsed": true
	   },
	   "outputs": [],
"source": [
"//Exa:1.56\n",
"clc;\n",
"clear;\n",
"close;\n",
"theta_1=20;//in degree celcius\n",
"theta_2=35;//in degree celcius\n",
"t_1=1/2;//in hours\n",
"t_2=1;//in hours\n",
"t=-(t_2-t_1)/log((theta_2/theta_1)-1);//in minutes\n",
"theta_F=theta_1/(1-exp(-t_1/t));\n",
"theta=theta_F*(1-exp(-2/t));\n",
"disp(theta,'Temperature Rise After 2 hrs (in Degree Celcius)=');\n",
"theta_F1=theta_F*0.8;//in Degree Celcius\n",
"t_o=0.8*t;//in hours\n",
"theta_o=theta_F1*(1-exp(-1/t_o));\n",
"disp(theta_o,'Temperature Rise from cold After 1 hr at full load (in Degree Celcius)=');"
   ]
   }
,
{
		   "cell_type": "markdown",
		   "metadata": {},
		   "source": [
			"## Example 1.57: Determine_the_suitable_size_of_continuously_rated_motor.sce"
		   ]
		  },
  {
"cell_type": "code",
	   "execution_count": null,
	   "metadata": {
	    "collapsed": true
	   },
	   "outputs": [],
"source": [
"//Exa:1.57\n",
"clc;\n",
"clear;\n",
"close;\n",
"P_1=100;//in KWs\n",
"P_2=50;//in KWs\n",
"t_1=10;//in minutes\n",
"t_2=8;//in minutes\n",
"t_3=5;//in minutes\n",
"t_4=4;//in minutes\n",
"P=sqrt(((t_1*P_1^2)+(t_2*P_2^2))/(t_1+t_2+t_3+t_4));\n",
"disp(P,'Rating Of Continuously Rated Motor (in KWs)=');\n",
"disp('Adequate rating of motor=70 Kws');"
   ]
   }
,
{
		   "cell_type": "markdown",
		   "metadata": {},
		   "source": [
			"## Example 1.58: Find_the_power_rating_of_the_motor.sce"
		   ]
		  },
  {
"cell_type": "code",
	   "execution_count": null,
	   "metadata": {
	    "collapsed": true
	   },
	   "outputs": [],
"source": [
"//Exa:1.58\n",
"clc;\n",
"clear;\n",
"close;\n",
"T_1=240;//in N_m\n",
"T_2=140;//in N-m\n",
"T_3=300;//in N-m\n",
"T_4=200;//in N-m\n",
"t_1=20;//in minutes\n",
"t_2=10;//in minutes\n",
"t_3=10;//in minutes\n",
"t_4=20;//in minutes\n",
"T=sqrt(((t_1*T_1^2)+(t_2*T_2^2)+(t_3*T_3^2)+(t_4*T_4^2))/(t_1+t_2+t_3+t_4));\n",
"N=720;//in rpm\n",
"P=T*2*%pi*N/60;\n",
"disp(P,'Power rating of Motor(in KWs)=');"
   ]
   }
,
{
		   "cell_type": "markdown",
		   "metadata": {},
		   "source": [
			"## Example 1.59: Determine_the_kW_rating_of_the_motor.sce"
		   ]
		  },
  {
"cell_type": "code",
	   "execution_count": null,
	   "metadata": {
	    "collapsed": true
	   },
	   "outputs": [],
"source": [
"//Exa:1.59\n",
"clc;\n",
"clear;\n",
"close;\n",
"t=90;//in seconds\n",
"T_eq=sqrt(40750/t);//in Kg-m\n",
"N=750;//in rpm\n",
"P=T_eq*9.81*2*%pi*N/60;\n",
"disp(P,'Power Rating Of Motor (in Kws)=');"
   ]
   }
,
{
		   "cell_type": "markdown",
		   "metadata": {},
		   "source": [
			"## Example 1.5: Find_the_value_of_motor_speed.sce"
		   ]
		  },
  {
"cell_type": "code",
	   "execution_count": null,
	   "metadata": {
	    "collapsed": true
	   },
	   "outputs": [],
"source": [
"//Exa:1.5\n",
"clc;\n",
"clear;\n",
"close;\n",
"V=220;//in volts\n",
"V_1=200;//in volts\n",
"N=1000;//in rpm\n",
"I=100;//in amperes\n",
"R_a=0.1;//in ohms\n",
"E_b=V-I*R_a;//in volts\n",
"I_1=I;//in amperes\n",
"E_b1=V_1-I_1*R_a;//in volts\n",
"N_1=N*E_b1/E_b;\n",
"disp(ceil(N_1),'Motor Speed (in rpm)=')"
   ]
   }
,
{
		   "cell_type": "markdown",
		   "metadata": {},
		   "source": [
			"## Example 1.61: Find_the_value_of_speed_at_the_end_of_deceleration_period.sce"
		   ]
		  },
  {
"cell_type": "code",
	   "execution_count": null,
	   "metadata": {
	    "collapsed": true
	   },
	   "outputs": [],
"source": [
"//Exa:1.61\n",
"clc;\n",
"clear;\n",
"close;\n",
"T_l=100*9.81;//in N-m\n",
"t=10;//in seconds\n",
"J=1000;//kg-m^2\n",
"f=50;//in hertz\n",
"P=4;//no.of poles\n",
"N_s=120*f/P;//synchronous speed (in rpm);\n",
"s=0.06;//slip\n",
"w_s=s*N_s*2*%pi/60;//slip speed (in rad/sec)\n",
"K=w_s/(50*9.81);\n",
"T_m=T_l-T_l*exp(-t/(K*J));\n",
"N_sn=K*T_m*60/(2*%pi);//in rpm\n",
"N=N_s-N_sn;\n",
"disp(N,'Speed at the end of deceleration period (in rpm)=')"
   ]
   }
,
{
		   "cell_type": "markdown",
		   "metadata": {},
		   "source": [
			"## Example 1.62: Determine_the_value_of_inertia_of_the_flywheel.sce"
		   ]
		  },
  {
"cell_type": "code",
	   "execution_count": null,
	   "metadata": {
	    "collapsed": true
	   },
	   "outputs": [],
"source": [
"//Exa:1.62\n",
"clc;\n",
"clear;\n",
"close;\n",
"P_o=500*735.5;//in watts\n",
"N_o=40;//in rpm\n",
"s_f=0.12;\n",
"N_f=N_o*(1-s_f);//full load speed (in rpm)\n",
"T_f=P_o/(2*%pi*N_f/60);//Full load torque (N-m)\n",
"T_m=2*T_f;//Motor torque (in N-m)\n",
"T_l=41500*9.81;//Load torque (in N-m)\n",
"t=10;//seconds\n",
"w_s=s_f*N_o*2*%pi/60;//slip speed (in rad/sec)\n",
"K=w_s/T_f;\n",
"J=-t/(K*log(1-(T_m/T_l)));\n",
"disp(J,'Moment of Inertia (in Kg-m^2)=')"
   ]
   }
,
{
		   "cell_type": "markdown",
		   "metadata": {},
		   "source": [
			"## Example 1.63: Find_the_value_of_weight_of_flywheel_and_time_taken.sce"
		   ]
		  },
  {
"cell_type": "code",
	   "execution_count": null,
	   "metadata": {
	    "collapsed": true
	   },
	   "outputs": [],
"source": [
"//Exa:1.63\n",
"clc;\n",
"clear;\n",
"close;\n",
"P_o=50*1000;//in watts\n",
"f=50;//in hertz\n",
"s_f=0.04;//slip\n",
"P=6;//no.of poles\n",
"N_s=120*f/P;//Synchronous Speed (in rpm)\n",
"N_f=N_s*(1-s_f);\n",
"T_f=P_o/(2*%pi*N_f)"
   ]
   }
,
{
		   "cell_type": "markdown",
		   "metadata": {},
		   "source": [
			"## Example 1.64: Find_the_value_of_moment_of_inertia.sce"
		   ]
		  },
  {
"cell_type": "code",
	   "execution_count": null,
	   "metadata": {
	    "collapsed": true
	   },
	   "outputs": [],
"source": [
"//Exa:1.64\n",
"clc;\n",
"clear;\n",
"close;\n",
"T_L=600;//in N-m\n",
"T_m=450;//in N-m\n",
"N=600;//in rpm\n",
"w_o=2*%pi*N/60;//in rad/sec\n",
"s=0.08;//slip\n",
"w=s*w_o;//in rad/sec\n",
"K=w/T_m;//Torque constant\n",
"J=(-10/K)/log(0.25);//in Kg-m^2\n",
"J_m=10;//in Kg-m^2\n",
"J_F=J-J_m;\n",
"disp(J_F,'Moment Of Inertia Of Flywheel (in Kg-m^2)=');"
   ]
   }
,
{
		   "cell_type": "markdown",
		   "metadata": {},
		   "source": [
			"## Example 1.65: Find_the_value_of_moment_of_inertia.sce"
		   ]
		  },
  {
"cell_type": "code",
	   "execution_count": null,
	   "metadata": {
	    "collapsed": true
	   },
	   "outputs": [],
"source": [
"//Exa:1.45\n",
"clc;\n",
"clear;\n",
"close;"
   ]
   }
,
{
		   "cell_type": "markdown",
		   "metadata": {},
		   "source": [
			"## Example 1.6: Find_the_value_of_full_load_speed_and_full_load_torque.sce"
		   ]
		  },
  {
"cell_type": "code",
	   "execution_count": null,
	   "metadata": {
	    "collapsed": true
	   },
	   "outputs": [],
"source": [
"//Exa:1.6\n",
"clc;\n",
"clear;\n",
"close;\n",
"V=230;//in volts\n",
"R_sh=230;//in ohms\n",
"R_a=0.5;//in ohms\n",
"I_sh=V/R_sh;//in amperes\n",
"I_lo=3;//in amperes\n",
"I_ao=I_lo-I_sh;//in amperes\n",
"E_bo=V-I_ao*R_a;//in volts\n",
"N_o=1000;//in rpm\n",
"I_lf=23;//in amperes\n",
"I_af=I_lf-I_sh;//in amperes\n",
"E_bf=V-I_af*R_a;//in volts\n",
"Phy_ratio=0.98;\n",
"N_f=N_o*(E_bf/E_bo)/Phy_ratio;\n",
"disp(ceil(N_f),'Full Load Speed (in rpm)=');\n",
"T_f=9.55*E_bf*I_af/N_f;\n",
"disp(T_f,'Full load Torque (in Newton-meter)=');"
   ]
   }
,
{
		   "cell_type": "markdown",
		   "metadata": {},
		   "source": [
			"## Example 1.7: Find_the_value_of_armature_voltage_drop_at_full_load.sce"
		   ]
		  },
  {
"cell_type": "code",
	   "execution_count": null,
	   "metadata": {
	    "collapsed": true
	   },
	   "outputs": [],
"source": [
"//Exa:1.7\n",
"clc;\n",
"clear;\n",
"close;\n",
"V=440;//in volts\n",
"N_o=2000;//in rpm\n",
"E_bo=440;//in volts\n",
"N_f=1000;//in rpm\n",
"N_h=1050;//in rpm\n",
"E_bf=E_bo*N_f/N_o//in volts\n",
"E_b=E_bo*N_h/N_o;//in volts\n",
"v=(E_b-E_bf)*2;\n",
"disp(v,'Armature voltage drop at full load (in volts)=')"
   ]
   }
,
{
		   "cell_type": "markdown",
		   "metadata": {},
		   "source": [
			"## Example 1.8: Find_the_value_of_speed.sce"
		   ]
		  },
  {
"cell_type": "code",
	   "execution_count": null,
	   "metadata": {
	    "collapsed": true
	   },
	   "outputs": [],
"source": [
"//Exa:1.8\n",
"clc;\n",
"clear;\n",
"close;\n",
"V=230;//in volts\n",
"N1=750;//in rpm\n",
"R=10;//in ohms\n",
"I_a=30;//in amperes\n",
"N2=N1*((V+I_a*R)/V)^-1;\n",
"disp(int(N2),'Speed (in rpm)=')"
   ]
   }
,
{
		   "cell_type": "markdown",
		   "metadata": {},
		   "source": [
			"## Example 1.9: Find_the_value_of_speed.sce"
		   ]
		  },
  {
"cell_type": "code",
	   "execution_count": null,
	   "metadata": {
	    "collapsed": true
	   },
	   "outputs": [],
"source": [
"//Exa:1.9\n",
"clc;\n",
"clear;\n",
"close;\n",
"V=200;//in volts\n",
"I_1=20//in amperes\n",
"R_a=0.5;//in ohms\n",
"E_b1=V-I_1*R_a;//in volts\n",
"N1=700;//in rpm\n",
"I_2=sqrt(1.44)*I_1;//in amperes\n",
"E_b2=V-I_2*R_a;//in volts\n",
"N2=N1*(E_b2/E_b1)*(I_1/I_2);\n",
"disp(int(N2),'(a) Speed (in rpm)=');\n",
"I_3=10;//in amperes\n",
"E_b3=V-I_3*R_a;//in volts\n",
"N3=N1*(E_b3/E_b1)*(I_1/I_3);\n",
"disp(ceil(N3),'(b) Speed (in rpm)=');"
   ]
   }
],
"metadata": {
		  "kernelspec": {
		   "display_name": "Scilab",
		   "language": "scilab",
		   "name": "scilab"
		  },
		  "language_info": {
		   "file_extension": ".sce",
		   "help_links": [
			{
			 "text": "MetaKernel Magics",
			 "url": "https://github.com/calysto/metakernel/blob/master/metakernel/magics/README.md"
			}
		   ],
		   "mimetype": "text/x-octave",
		   "name": "scilab",
		   "version": "0.7.1"
		  }
		 },
		 "nbformat": 4,
		 "nbformat_minor": 0
}
