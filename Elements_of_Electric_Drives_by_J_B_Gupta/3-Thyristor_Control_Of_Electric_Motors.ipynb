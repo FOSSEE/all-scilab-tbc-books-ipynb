{
"cells": [
 {
		   "cell_type": "markdown",
	   "metadata": {},
	   "source": [
       "# Chapter 3: Thyristor Control Of Electric Motors"
	   ]
	},
{
		   "cell_type": "markdown",
		   "metadata": {},
		   "source": [
			"## Example 3.10: Find_the_value_of_no_load_speed_and_firing_angle.sce"
		   ]
		  },
  {
"cell_type": "code",
	   "execution_count": null,
	   "metadata": {
	    "collapsed": true
	   },
	   "outputs": [],
"source": [
"//Exa:3.10\n",
"clc;\n",
"clear;\n",
"close;\n",
"alpha_a=45;//in degrees\n",
"R_a=0.2;//in ohms\n",
"K=0.25;//in volts/rpm\n",
"V=400;//in volts\n",
"I_ao=5;//in amperes (no load armature current)\n",
"N=1500;//in rpm\n",
"I_a=100;//in amperes\n",
"V_ao=3*sqrt(3)*V*sqrt(2)*(1+cosd(alpha_a))/(sqrt(3)*%pi*2);//in volts\n",
"E_bo=V_ao-(I_ao*R_a);//in volts\n",
"N_o=E_bo/K;\n",
"disp(int(N_o),'No-Load Speed (in rpm)=');\n",
"E_b=N*K;//in volts\n",
"V_a=E_b+(I_a*R_a);//in volts\n",
"alpha_ao=acosd(((V_a*%pi*2)/(3*V*sqrt(2)))-1);\n",
"disp(alpha_ao,'Firing Angle (in degrees)=')"
   ]
   }
,
{
		   "cell_type": "markdown",
		   "metadata": {},
		   "source": [
			"## Example 3.12: EX3_12.sce"
		   ]
		  },
  {
"cell_type": "code",
	   "execution_count": null,
	   "metadata": {
	    "collapsed": true
	   },
	   "outputs": [],
"source": [
"//Exa:3.12\n",
"clc;\n",
"clear;\n",
"close;\n",
"alpha=0.4;//duty cycle\n",
"V_dc=200;//in volts\n",
"R=10;//in ohms\n",
"V_a=alpha*V_dc;\n",
"disp(V_a,'(a) Average Load Voltage (in volts)=');\n",
"I=V_a/R;\n",
"disp(I,'(b) Average thyristor current (in amperes)=');\n",
"I_d=0;\n",
"disp(I_d,'(c) Diode Current (in amperes)=');\n",
"R_eff=R/alpha;\n",
"disp(R_eff,'(d) Effective input resistance (in ohms)=')"
   ]
   }
,
{
		   "cell_type": "markdown",
		   "metadata": {},
		   "source": [
			"## Example 3.13: Find_the_value_of_average_load_current_and_firing_angle.sce"
		   ]
		  },
  {
"cell_type": "code",
	   "execution_count": null,
	   "metadata": {
	    "collapsed": true
	   },
	   "outputs": [],
"source": [
"//Exa:3.13\n",
"clc;\n",
"clear;\n",
"close;\n",
"V_dc=220;//in volts\n",
"V_a=250;//average load voltage (in volts)\n",
"R=10;//in ohms\n",
"alpha=1-(V_dc/V_a);\n",
"I=V_a/R;\n",
"disp(I,'Average Load Current (in amperes)=')\n",
"disp(alpha,'Firing Angle (in degrees)=')"
   ]
   }
,
{
		   "cell_type": "markdown",
		   "metadata": {},
		   "source": [
			"## Example 3.14: Find_the_value_of_frequency_of_switching_pulse.sce"
		   ]
		  },
  {
"cell_type": "code",
	   "execution_count": null,
	   "metadata": {
	    "collapsed": true
	   },
	   "outputs": [],
"source": [
"//Exa:3.14\n",
"clc;\n",
"clear;\n",
"close;\n",
"V_dc=125;//in volts\n",
"V_a=200;//average output voltage (in volts)\n",
"T_on=1*10^-3;//in seconds\n",
"alpha=V_a/(V_a+V_dc);//duty cycle\n",
"f=alpha/T_on;\n",
"disp(f,'Frequency Of Switching pulse (in hertz)=')"
   ]
   }
,
{
		   "cell_type": "markdown",
		   "metadata": {},
		   "source": [
			"## Example 3.15: Find_the_value_of_frequency.sce"
		   ]
		  },
  {
"cell_type": "code",
	   "execution_count": null,
	   "metadata": {
	    "collapsed": true
	   },
	   "outputs": [],
"source": [
"//Exa:3.15\n",
"clc;\n",
"clear;\n",
"close;\n",
"alpha=0.25;//duty cycle\n",
"V=400;//in volts\n",
"L=0.5;//in henery\n",
"I=10;//ripple current (in amperes)\n",
"V_a=alpha*V;//in volts\n",
"T_on=L*I/(V-V_a);//in seconds\n",
"T=T_on/alpha;//in seconds\n",
"f=1/T;\n",
"disp(f,'Frequency (in hertzs)=')"
   ]
   }
,
{
		   "cell_type": "markdown",
		   "metadata": {},
		   "source": [
			"## Example 3.16: Find_the_range_of_speed_control_and_duty_cycle.sce"
		   ]
		  },
  {
"cell_type": "code",
	   "execution_count": null,
	   "metadata": {
	    "collapsed": true
	   },
	   "outputs": [],
"source": [
"//Exa:3.16\n",
"clc;\n",
"clear;\n",
"close;\n",
"V_a=120;//in volts\n",
"I_a=20;//in amperes\n",
"R_a=0.5;//in ohms\n",
"K=0.05;//Motor constant (in volts/rpm)\n",
"E_b=V_a-(I_a*R_a);//in volts\n",
"N=E_b/K;//in rpm\n",
"disp('Range of Speed Control is :');\n",
"disp('Lowest Speed (in rpm) = 0');\n",
"disp(N,'Highest Speed (in rpm)=');\n",
"E_bo=0;//in volts\n",
"V_a1=E_bo+(I_a*R_a);//in volts\n",
"alpha=V_a1/V_a;\n",
"disp('Range of duty cycle is :');\n",
"disp(alpha,'lowest value of duty cycle=');\n",
"disp('Highest value of duty cycle= 1')"
   ]
   }
,
{
		   "cell_type": "markdown",
		   "metadata": {},
		   "source": [
			"## Example 3.17: Find_the_value_of_duty_cycle_of_the_chopper.sce"
		   ]
		  },
  {
"cell_type": "code",
	   "execution_count": null,
	   "metadata": {
	    "collapsed": true
	   },
	   "outputs": [],
"source": [
"//Exa:3.17\n",
"clc;\n",
"clear;\n",
"close;\n",
"V=200;//in volts\n",
"I_a=100;//in amperes\n",
"R_a=0.02;//in ohms\n",
"N1=940;//in rpm\n",
"N2=500;//in rpm\n",
"E_b1=V-(I_a*R_a);//in volts\n",
"E_b2=E_b1*N2/N1;//in volts\n",
"V_a=E_b2+(I_a*R_a);//in volts\n",
"alpha=V_a/V;\n",
"disp(alpha,'Duty Cycle Of The Chopper=')"
   ]
   }
,
{
		   "cell_type": "markdown",
		   "metadata": {},
		   "source": [
			"## Example 3.18: Find_the_value_of_power_input_and_speed_and_torque_and_maximum_and_minimum_speed.sce"
		   ]
		  },
  {
"cell_type": "code",
	   "execution_count": null,
	   "metadata": {
	    "collapsed": true
	   },
	   "outputs": [],
"source": [
"//Exa:3.18\n",
"clc;\n",
"clear;\n",
"close;\n",
"alpha=0.6;//duty cycle\n",
"alpha1=0.1;//duty cycle\n",
"alpha2=0.9;//duty cycle\n",
"V=400;//in volts\n",
"R_a=0.1;//in ohms\n",
"K=4;//Motor Constant (in Volts/radians)\n",
"I_a=150;//in Amperes\n",
"P_in=alpha*V*I_a/1000;\n",
"disp(P_in,'(a) Power input (in Kilo-Watts)=');\n",
"V_a=alpha*V;//in volts\n",
"E_b=V_a-(I_a*R_a);//in volts\n",
"N=60*E_b/(2*%pi*K);\n",
"disp(int(N),'(b) Motor Speed (in rpm)=');\n",
"T=E_b*I_a*60/(2*%pi*N);\n",
"disp(T,'(c) Torque developed (in Newton-meter)=');\n",
"E_b1=(alpha1*V)-(I_a*R_a);//in volts\n",
"N1=60*E_b1/(2*%pi*K);\n",
"disp(ceil(N1),'(d) Minimum Speed (in rpm)=')\n",
"E_b2=(alpha2*V)-(I_a*R_a);//in volts\n",
"N2=60*E_b2/(2*%pi*K);\n",
"disp(ceil(N2),'    Maximum Speed (in rpm)=')"
   ]
   }
,
{
		   "cell_type": "markdown",
		   "metadata": {},
		   "source": [
			"## Example 3.19: Find_the_value_of_Average_voltage_and_power_dissipated_and_speed.sce"
		   ]
		  },
  {
"cell_type": "code",
	   "execution_count": null,
	   "metadata": {
	    "collapsed": true
	   },
	   "outputs": [],
"source": [
"//Exa:3.19\n",
"clc;\n",
"clear;\n",
"close;\n",
"alpha=0.4;//duty cycle\n",
"R_b=7.5;//in ohms\n",
"R_a=0.1;//in ohms\n",
"I_f=1.5;//in amperes\n",
"K=1.6;//Voltage Constant (in V/A-rad/sec)\n",
"I_a=150;//in amperes\n",
"V_b=(1-alpha)*R_b*I_a;\n",
"disp(V_b,'(a) Average Voltage (in volts)=');\n",
"P_b=I_a^2*R_b*(1-alpha);\n",
"disp(P_b/1000,'(b) Power Dissipated (in kilo-watts)=');\n",
"E_g=V_b+(I_a*R_a);//in volts\n",
"N=60*E_g/(K*I_f*2*%pi);\n",
"disp(int(N),'(c) Speed (in rpm)=')"
   ]
   }
,
{
		   "cell_type": "markdown",
		   "metadata": {},
		   "source": [
			"## Example 3.1: EX3_1.sce"
		   ]
		  },
  {
"cell_type": "code",
	   "execution_count": null,
	   "metadata": {
	    "collapsed": true
	   },
	   "outputs": [],
"source": [
"//Exa:3.1\n",
"clc;\n",
"clear;\n",
"close;\n",
"V=120;//in Volts\n",
"V_dc=40.5;//in volts\n",
"V_rms=76.1;//in volts\n",
"R=10;//in ohms\n",
"I_dc=V_dc/R;//in Amperes\n",
"I_rms=V_rms/R;//in Amperes\n",
"P_dc=V_dc*I_dc;//in watts\n",
"P_ac=V_rms*I_rms;//in watts\n",
"Eff=P_dc/P_ac;//in per unit\n",
"disp(Eff,'(a) Efficiency (in Per Unit=)');\n",
"K_f=V_rms/V_dc;//in per unit\n",
"disp(K_f,'(b) Form Factor (in Per Unit=)');\n",
"Y=sqrt(K_f^2-1);\n",
"disp(Y,'(c) Ripple Factor (in Per Unit=)');\n",
"T_f=P_dc/(V*I_rms);\n",
"disp(T_f,'(d) Transformer Utilisation Factor=');\n",
"P_iv=sqrt(2)*V;\n",
"disp(P_iv,'(e) Peak Inverse Voltage (in volts)=')"
   ]
   }
,
{
		   "cell_type": "markdown",
		   "metadata": {},
		   "source": [
			"## Example 3.20: Find_the_value_of_firing_angle_and_power_supplied.sce"
		   ]
		  },
  {
"cell_type": "code",
	   "execution_count": null,
	   "metadata": {
	    "collapsed": true
	   },
	   "outputs": [],
"source": [
"//Exa:3.20\n",
"clc;\n",
"clear;\n",
"close;\n",
"E_g=-163.53;//in volts\n",
"I_a=40;//in amperes\n",
"R_a=0.2;//in ohms\n",
"V=220;//in volts\n",
"V_a=E_g+(I_a*R_a);//in volts\n",
"alpha_a=acosd(V_a*%pi/(2*V*sqrt(2)));\n",
"disp(alpha_a,'Firing Angle (in degrees)=');\n",
"P=V_a*I_a*(-1);\n",
"disp(P/1000,'Power Supplied (in Kilo-Watts)=')"
   ]
   }
,
{
		   "cell_type": "markdown",
		   "metadata": {},
		   "source": [
			"## Example 3.21: Find_the_value_of_pulse_width.sce"
		   ]
		  },
  {
"cell_type": "code",
	   "execution_count": null,
	   "metadata": {
	    "collapsed": true
	   },
	   "outputs": [],
"source": [
"//Exa:3.21\n",
"clc;\n",
"clear;\n",
"close;\n",
"E_b=100;//in volts\n",
"I_a=25;//in amperes\n",
"R=0.2;//(R_a+R_se) in ohms\n",
"V=220;//in volts\n",
"f=200;//in hertz\n",
"V_a=E_b+(I_a*R);//in volts\n",
"T_on=V_a/(V*f);\n",
"disp(T_on*1000,' Pulse Width (in mili-seconds)')"
   ]
   }
,
{
		   "cell_type": "markdown",
		   "metadata": {},
		   "source": [
			"## Example 3.22: Find_the_value_of_motor_torque.sce"
		   ]
		  },
  {
"cell_type": "code",
	   "execution_count": null,
	   "metadata": {
	    "collapsed": true
	   },
	   "outputs": [],
"source": [
"//Exa:3.22\n",
"clc;\n",
"clear;\n",
"close;\n",
"N=1000;//in rpm\n",
"V=240;//in volts\n",
"w=2*%pi*N/60;//in rad/sec\n",
"alpha=30;//in degrees\n",
"R=0.25;//in ohms\n",
"K=0.025;//in Nm/A^2\n",
"disp('When controlled through semiconverter');\n",
"V_a1=sqrt(2)*V*(1+cosd(alpha))/%pi;//in volts\n",
"I_a1=V_a1/(R+(K*w));\n",
"disp(I_a1,'Armature Current (in Amperes)=');\n",
"T_1=K*I_a1^2;\n",
"disp(T_1,'Motor Torque (in N-m)=');\n",
"disp('When controlled through full converter');\n",
"V_a2=2*sqrt(2)*V*cosd(alpha)/%pi;//in volts\n",
"I_a2=V_a2/(R+(K*w));\n",
"disp(I_a2,'Armature Current (in Amperes)=');\n",
"T_2=K*I_a2^2;\n",
"disp(T_2,'Motor Torque (in N-m)=');"
   ]
   }
,
{
		   "cell_type": "markdown",
		   "metadata": {},
		   "source": [
			"## Example 3.23: Find_average_motor_current_and_speed.sce"
		   ]
		  },
  {
"cell_type": "code",
	   "execution_count": null,
	   "metadata": {
	    "collapsed": true
	   },
	   "outputs": [],
"source": [
"//Exa:3.23\n",
"clc;\n",
"clear;\n",
"close;\n",
"V=230;//in volts\n",
"V_dc=sqrt(2)*V*2/%pi;//in volts\n",
"T_L=30;//in N-m\n",
"K_t=0.3;//torque constant (in N-m/A^2)\n",
"I_a=sqrt(T_L/K_t);\n",
"disp(I_a,'Average Motor Current (in Amperes)=');\n",
"w=(207-I_a)/(K_t*I_a);// in rad/sec\n",
"N=w*60/(2*%pi);\n",
"disp(N,'Speed (in rpm)=');"
   ]
   }
,
{
		   "cell_type": "markdown",
		   "metadata": {},
		   "source": [
			"## Example 3.24: Find_the_value_of_armature_current_and_firing_angle.sce"
		   ]
		  },
  {
"cell_type": "code",
	   "execution_count": null,
	   "metadata": {
	    "collapsed": true
	   },
	   "outputs": [],
"source": [
"//Exa:3.24\n",
"clc;\n",
"clear;\n",
"close;\n",
"I_a1=36;//in amperes\n",
"N1=400;//in amperes\n",
"N2=600;//in amperes\n",
"alpha_1=100;//in degrees\n",
"V=675;//in volts\n",
"R=0.4;//in ohms\n",
"V_a1=sqrt(2)*V*(1+cosd(alpha_1))/%pi;//in volts\n",
"E_b1=V_a1-I_a1*R;//in volts\n",
"I_a2=I_a1*N2/N1;//in amperes\n",
"E_b2=E_b1*I_a2*N2/(I_a1*N1);//in volts\n",
"V_a2=E_b2+21.6;///in volts\n",
"alpha=acosd((V_a2*%pi/(sqrt(2)*V))-1);\n",
"disp(I_a2,'Armature current (in Amperes)=');\n",
"disp(alpha,'Firing angle (in degrees)=');"
   ]
   }
,
{
		   "cell_type": "markdown",
		   "metadata": {},
		   "source": [
			"## Example 3.2: Find_the_value_of_feild_current_and_firing_angle_and_input_power_factor.sce"
		   ]
		  },
  {
"cell_type": "code",
	   "execution_count": null,
	   "metadata": {
	    "collapsed": true
	   },
	   "outputs": [],
"source": [
"//Exa:3.2\n",
"clc;\n",
"clear;\n",
"close;\n",
"alpha_f=0;\n",
"R_f=250;//in ohms\n",
"K_f=0.8;//torque constant\n",
"R_a=0.2;//in ohms\n",
"V_const=0.8;//in volt/Amperes-radian/sec\n",
"N=1000;// in rpm\n",
"T_d=50;//In Newton-meter\n",
"V_rms=220;//in volts\n",
"V_f=int(V_rms*sqrt(2)*(1+cosd(alpha_f))/%pi);// Feild Circuit Voltage (in volts)\n",
"I_f=V_f/R_f;//in Amperes\n",
"disp(I_f,'(a) Feild Current (in Amperes)=');\n",
"I_a=T_d/(K_f*I_f);//in amperes\n",
"w=2*N*%pi/60;// in radian/sec\n",
"E_b=V_const*w*I_f;//Back emf (in volts)\n",
"V_a=E_b+(I_a*R_a);//armature voltage (in volts)\n",
"alpha_a=acosd(((V_a*%pi/(V_rms*sqrt(2))))-1);\n",
"disp(alpha_a,'(b) Firing angle of the converter (in degrees)=');\n",
"P_o=int(V_a*I_a);//in watts\n",
"I=52.66;//in amperes\n",
"pf=P_o/(V_rms*I);\n",
"disp(pf,'(c) Power factor of the converter=')"
   ]
   }
,
{
		   "cell_type": "markdown",
		   "metadata": {},
		   "source": [
			"## Example 3.3: Find_the_value_of_speed_of_motor_and_motor_torque.sce"
		   ]
		  },
  {
"cell_type": "code",
	   "execution_count": null,
	   "metadata": {
	    "collapsed": true
	   },
	   "outputs": [],
"source": [
"//Exa:3.3\n",
"clc;\n",
"clear;\n",
"close;\n",
"alpha_a=45;//in degrees\n",
"V=230;//in volts\n",
"K=1.668;//K_a*Phy (in volt/radian/second)\n",
"R_a=0.2;//in ohms\n",
"I_a=30;//in amperes\n",
"V_a=2*V*sqrt(2)*cosd(alpha_a)/%pi;//in volts\n",
"E_b=V_a-(I_a*R_a);// in volts\n",
"w=E_b/K;//in radian/seconds\n",
"N=ceil(w*60/(2*%pi));\n",
"disp(N,'(a) Speed Of Motor (in rpm)=')\n",
"T=K*I_a;\n",
"disp(T,'(b) Motor Torque (in Newton-meter)=')"
   ]
   }
,
{
		   "cell_type": "markdown",
		   "metadata": {},
		   "source": [
			"## Example 3.4: Find_the_value_of_firing_angle.sce"
		   ]
		  },
  {
"cell_type": "code",
	   "execution_count": null,
	   "metadata": {
	    "collapsed": true
	   },
	   "outputs": [],
"source": [
"//Exa:3.4\n",
"clc;\n",
"clear;\n",
"close;\n",
"R_a=0.06;//in ohms\n",
"N1=875;// in rpm\n",
"N2=750;//in rpm\n",
"V_rms=220;//in volts\n",
"V_dc=200;//in volts\n",
"I_a=150;//in amperes\n",
"E_b1=V_dc-(I_a*R_a);//Back emf (in volts)\n",
"E_b2=E_b1*(N2/N1);// in volts\n",
"V_a=E_b2+(I_a*R_a);//armature voltage (in volts)\n",
"alpha_a=acosd((V_a*%pi/(2*V_rms*sqrt(2))));\n",
"disp(alpha_a,'Firing angle (in degrees)=');"
   ]
   }
,
{
		   "cell_type": "markdown",
		   "metadata": {},
		   "source": [
			"## Example 3.5: Find_the_value_of_average_load_voltage_and_load_current_and_input_paower_factor.sce"
		   ]
		  },
  {
"cell_type": "code",
	   "execution_count": null,
	   "metadata": {
	    "collapsed": true
	   },
	   "outputs": [],
"source": [
"//Exa:3.5\n",
"clc;\n",
"clear;\n",
"close;\n",
"alpha=30;//in degrees\n",
"V=230;//in volts\n",
"R=2;//in ohms\n",
"V_avg=2*V*sqrt(2)*cosd(alpha)/%pi;//in volts\n",
"I_avg=V_avg/R;//in amperes\n",
"disp(V_avg,'(a) Average Load Voltage (in Volts)=');\n",
"disp(I_avg,'(b) Average Load Current (in Amperes)=')\n",
"I_rms=I_avg;//in amperes (as ripple free)\n",
"P=V_avg*I_avg;//in watts\n",
"Q=2*V*sqrt(2)*I_avg*sind(alpha)/%pi;// in VAR\n",
"pf=cosd(atand(Q/P));\n",
"disp(pf,'(c) Input Power Factor (lagging)=')"
   ]
   }
,
{
		   "cell_type": "markdown",
		   "metadata": {},
		   "source": [
			"## Example 3.6: Find_the_value_of_motor_armature_current_and_motor_speed.sce"
		   ]
		  },
  {
"cell_type": "code",
	   "execution_count": null,
	   "metadata": {
	    "collapsed": true
	   },
	   "outputs": [],
"source": [
"//Exa:3.6\n",
"clc;\n",
"clear;\n",
"close;\n",
"alpha=60;//in degrees\n",
"V=250;//in volts\n",
"T=140;//in Newton-Meter\n",
"K_a=2.5;//motor voltage constant (in Volt/radian/sec)\n",
"R_a=0.2;//in ohms\n",
"V_a=2*V*sqrt(2)*cosd(alpha)/%pi;//in volts\n",
"I_a=T/K_a;//in amperes\n",
"disp(I_a,'(a) Motor Armature Current (in amperes)=');\n",
"E_b=V_a-(I_a*R_a);//in volts\n",
"w=E_b*I_a/T;\n",
"disp(w,'(b) Motor Speed (in radian/sec)=')"
   ]
   }
,
{
		   "cell_type": "markdown",
		   "metadata": {},
		   "source": [
			"## Example 3.7: Find_the_value_of_firing_angle.sce"
		   ]
		  },
  {
"cell_type": "code",
	   "execution_count": null,
	   "metadata": {
	    "collapsed": true
	   },
	   "outputs": [],
"source": [
"//Exa:3.7\n",
"clc;\n",
"clear;\n",
"close;\n",
"V_dc=220;//in volts\n",
"V=230;//in volts\n",
"I_a1=10;//in amperes\n",
"N1=1500;//in rpm\n",
"N2=500;//in rpm\n",
"N3=-1000;//in rpm\n",
"R_a=2;//in ohms\n",
"E_b1=V_dc-(I_a1*R_a);//in volts\n",
"E_b2=E_b1*(N2/N1);//in volts\n",
"I_a2=I_a1/2;//in amperes\n",
"V_a1=E_b2+(I_a2*R_a);//in volts\n",
"alpha_a1=acosd((V_a1*%pi/(2*V*sqrt(2))));\n",
"disp(alpha_a1,'(a) Firing angle (in degrees) at half the rated torque=');\n",
"E_b3=E_b1*(N3/N1);//in volts\n",
"I_a3=I_a1;//in amperes\n",
"V_a2=E_b3+(I_a3*R_a);//in volts\n",
"alpha_a2=acosd((V_a2*%pi/(2*V*sqrt(2))));\n",
"disp(alpha_a2,'(b) Firing angle (in degrees) at rated motor torque=');"
   ]
   }
,
{
		   "cell_type": "markdown",
		   "metadata": {},
		   "source": [
			"## Example 3.8: Find_the_value_of_torque_developed_and_motor_speed.sce"
		   ]
		  },
  {
"cell_type": "code",
	   "execution_count": null,
	   "metadata": {
	    "collapsed": true
	   },
	   "outputs": [],
"source": [
"//Exa:3.8\n",
"clc;\n",
"clear;\n",
"close;\n",
"alpha_f=0;//in degrees\n",
"alpha_a=30;//in degrees\n",
"V=220;//in volts\n",
"I_a=40;//in amperes\n",
"R_a=0.2;//in amperes\n",
"K_t=1.12;//motor voltage constant (in Volt/radian/sec)\n",
"R_f=200;//in ohms\n",
"V_f=2*V*sqrt(2)*cosd(alpha_f)/%pi;//in volts\n",
"I_f=V_f/R_f;//in amperes\n",
"V_a=2*V*sqrt(2)*cosd(alpha_a)/%pi;//in volts\n",
"E_b=V_a-(I_a*R_a);//in volts\n",
"T_d=K_t*I_a*I_f;\n",
"disp(T_d,'(a) Torque developed (in N-m)=');\n",
"N=E_b*60/(2*%pi*K_t*I_f);\n",
"disp(ceil(N),'(b) Motor Speed (in rpm)=')"
   ]
   }
,
{
		   "cell_type": "markdown",
		   "metadata": {},
		   "source": [
			"## Example 3.9: Find_the_value_of_firing_angle.sce"
		   ]
		  },
  {
"cell_type": "code",
	   "execution_count": null,
	   "metadata": {
	    "collapsed": true
	   },
	   "outputs": [],
"source": [
"//Exa:3.9\n",
"clc;\n",
"clear;\n",
"close;\n",
"R_a=0.2;//in ohms\n",
"alpha_f=0;//in degrees\n",
"V=400;//in volts\n",
"R_f=250;//in ohms\n",
"K=1.3;//Volts/Ampere-radian/second\n",
"N=1200;//in rpm\n",
"I_a=60;//in amperes\n",
"V_f=3*sqrt(3)*V*sqrt(2)/(sqrt(3)*%pi);//in volts\n",
"I_f=V_f/R_f;//in amperes\n",
"E_b=K*I_f*2*%pi*N/60;//in volts\n",
"V_a=E_b+(I_a*R_a);//in volts\n",
"alpha_a=acosd((V_a*%pi)/(3*V*sqrt(2)));\n",
"disp(alpha_a,'Firing Angle (in degrees)=')"
   ]
   }
],
"metadata": {
		  "kernelspec": {
		   "display_name": "Scilab",
		   "language": "scilab",
		   "name": "scilab"
		  },
		  "language_info": {
		   "file_extension": ".sce",
		   "help_links": [
			{
			 "text": "MetaKernel Magics",
			 "url": "https://github.com/calysto/metakernel/blob/master/metakernel/magics/README.md"
			}
		   ],
		   "mimetype": "text/x-octave",
		   "name": "scilab",
		   "version": "0.7.1"
		  }
		 },
		 "nbformat": 4,
		 "nbformat_minor": 0
}
