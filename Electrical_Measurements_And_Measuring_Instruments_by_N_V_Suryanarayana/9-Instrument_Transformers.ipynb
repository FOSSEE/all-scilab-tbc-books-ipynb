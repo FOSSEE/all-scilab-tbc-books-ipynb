{
"cells": [
 {
		   "cell_type": "markdown",
	   "metadata": {},
	   "source": [
       "# Chapter 9: Instrument Transformers"
	   ]
	},
{
		   "cell_type": "markdown",
		   "metadata": {},
		   "source": [
			"## Example 9.1: Calculate_ratio_error_and_phase_angle.sci"
		   ]
		  },
  {
"cell_type": "code",
	   "execution_count": null,
	   "metadata": {
	    "collapsed": true
	   },
	   "outputs": [],
"source": [
"//9.1\n",
"clc;\n",
"n=300/1;\n",
"Z2=complex(1.5,1);\n",
"a=polar(Z2);\n",
"I2=5;\n",
"E2=I2*a;\n",
"E1=E2/n;\n",
"alpha=atand(1/1.5)\n",
"Io=complex(100,40)\n",
"delta=atand(40/100);\n",
"b=polar(Io)\n",
"sigma=-(b*sind(alpha+delta))*100/(n*I2);\n",
"printf('Ratio error=%.2f percent',sigma)\n",
"bet=(b*cosd(alpha+delta))/(n*I2);\n",
"printf('\nPhase angle=%.2f degree',bet)"
   ]
   }
,
{
		   "cell_type": "markdown",
		   "metadata": {},
		   "source": [
			"## Example 9.2: Calculate_secondary_voltage_and_current.sci"
		   ]
		  },
  {
"cell_type": "code",
	   "execution_count": null,
	   "metadata": {
	    "collapsed": true
	   },
	   "outputs": [],
"source": [
"//9.2\n",
"clc;\n",
"I_ratio=500/5;\n",
"n=1/100;\n",
"I2=300/100;\n",
"printf('Secondary current=%.2f A',I2)\n",
"V2=I2*1.5;\n",
"printf('\nSecondary voltage=%.2f V',V2)"
   ]
   }
,
{
		   "cell_type": "markdown",
		   "metadata": {},
		   "source": [
			"## Example 9.3: Calculate_secondary_voltage_and_current_in_line.sci"
		   ]
		  },
  {
"cell_type": "code",
	   "execution_count": null,
	   "metadata": {
	    "collapsed": true
	   },
	   "outputs": [],
"source": [
"//9.3\n",
"clc;\n",
"V_line=200*33000/220;\n",
"printf('Voltage on line=%.0f V',V_line)\n",
"I_line=4*100/5;\n",
"printf('Current in line=%.0f A',I_line)"
   ]
   }
,
{
		   "cell_type": "markdown",
		   "metadata": {},
		   "source": [
			"## Example 9.4: Calculate_the_ratio_error.sci"
		   ]
		  },
  {
"cell_type": "code",
	   "execution_count": null,
	   "metadata": {
	    "collapsed": true
	   },
	   "outputs": [],
"source": [
"//9.4\n",
"clc;\n",
"n=1000/5;\n",
"Ie=0.7*1000/100;\n",
"Tp=1;\n",
"n=200;\n",
"Ts=200;\n",
"R_actual=Ts+(7/5);\n",
"Error_ratio=(200-R_actual)*100/R_actual;\n",
"printf('Ratio error=%.2f percent',Error_ratio)\n",
"Ts=200-(0.5*200/100);\n",
"n=199/1;\n",
"R_actual=Ts+(7/5);\n",
"Error_ratio=(200-R_actual)*100/R_actual;\n",
"printf('\nRatio error=%.2f percent',Error_ratio)"
   ]
   }
,
{
		   "cell_type": "markdown",
		   "metadata": {},
		   "source": [
			"## Example 9.5: Calculate_phase_angle_error_at_no_load.sci"
		   ]
		  },
  {
"cell_type": "code",
	   "execution_count": null,
	   "metadata": {
	    "collapsed": true
	   },
	   "outputs": [],
"source": [
"//9.5\n",
"clc;\n",
"Vp=1000;\n",
"Vs=100;\n",
"n=Vp/Vs;\n",
"pf_no_load=0.4;\n",
"sina=0.4;\n",
"cosa= (1-sina^2)^0.5;\n",
"tana=sina/cosa;\n",
"Im=0.02;\n",
"Ie=Im*tana;\n",
"xp=66.2;\n",
"rp=94.5;\n",
"//At no load Is=0 so\n",
"theta=((Ie*xp)-(Im*rp))/(n*Vs);\n",
"printf('Phase angle error at no load=%.4f',theta)"
   ]
   }
,
{
		   "cell_type": "markdown",
		   "metadata": {},
		   "source": [
			"## Example 9.6: Calculate_the_ratio_error.sci"
		   ]
		  },
  {
"cell_type": "code",
	   "execution_count": null,
	   "metadata": {
	    "collapsed": true
	   },
	   "outputs": [],
"source": [
"//9.6\n",
"clc;\n",
"E2=((1.8+5*0.16)^2+(2.4+5*0.195)^2)^0.5;\n",
"pf2=2.6/E2;\n",
"AT_sec=600;\n",
"sina=3.375/E2;\n",
"AT_pri=600+10.1*pf2+13.4*sina;\n",
"I1=AT_pri/40;\n",
"Ratio_error=(15-I1)*100/I1;\n",
"printf('Ratio error=%.2f percent',Ratio_error)\n",
""
   ]
   }
],
"metadata": {
		  "kernelspec": {
		   "display_name": "Scilab",
		   "language": "scilab",
		   "name": "scilab"
		  },
		  "language_info": {
		   "file_extension": ".sce",
		   "help_links": [
			{
			 "text": "MetaKernel Magics",
			 "url": "https://github.com/calysto/metakernel/blob/master/metakernel/magics/README.md"
			}
		   ],
		   "mimetype": "text/x-octave",
		   "name": "scilab",
		   "version": "0.7.1"
		  }
		 },
		 "nbformat": 4,
		 "nbformat_minor": 0
}
