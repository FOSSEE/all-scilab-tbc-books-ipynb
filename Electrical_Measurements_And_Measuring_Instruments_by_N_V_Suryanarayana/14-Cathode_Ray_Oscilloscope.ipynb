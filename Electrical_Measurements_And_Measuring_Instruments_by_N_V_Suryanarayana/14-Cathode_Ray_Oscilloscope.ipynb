{
"cells": [
 {
		   "cell_type": "markdown",
	   "metadata": {},
	   "source": [
       "# Chapter 14: Cathode Ray Oscilloscope"
	   ]
	},
{
		   "cell_type": "markdown",
		   "metadata": {},
		   "source": [
			"## Example 14.1: Calculate_the_rms_value_of_current.sci"
		   ]
		  },
  {
"cell_type": "code",
	   "execution_count": null,
	   "metadata": {
	    "collapsed": true
	   },
	   "outputs": [],
"source": [
"//14.1\n",
"clc;\n",
"R=3;\n",
"V_pp =10*6;\n",
"Vrms=V_pp/(2*2^0.5);\n",
"Irms=Vrms/R;\n",
"printf('R.M.S. value of current=%.2f A',Irms)"
   ]
   }
,
{
		   "cell_type": "markdown",
		   "metadata": {},
		   "source": [
			"## Example 14.2: Calculate_the_frequency_of_the_voltage_applied.sci"
		   ]
		  },
  {
"cell_type": "code",
	   "execution_count": null,
	   "metadata": {
	    "collapsed": true
	   },
	   "outputs": [],
"source": [
"//14.2;\n",
"clc;\n",
"T=3*10^-3;\n",
"f=1/T;\n",
"printf('frequency of the voltage applied=%.2f m',f)"
   ]
   }
,
{
		   "cell_type": "markdown",
		   "metadata": {},
		   "source": [
			"## Example 14.3: Calculate_the_time_constant_capacitance_and_maximum_frequency.sci"
		   ]
		  },
  {
"cell_type": "code",
	   "execution_count": null,
	   "metadata": {
	    "collapsed": true
	   },
	   "outputs": [],
"source": [
"//14.3\n",
"clc;\n",
"tc=2*2.5;\n",
"printf('time constant=%.6f ms',tc)\n",
"R=5*10^3;\n",
"C=(tc*10^-3/R)*10^6;\n",
"printf('\nCapacitance=%.2f uF',C)\n",
"Tmax=10*R*C*10^-6;\n",
"fmax=1/Tmax;\n",
"printf('\nMaximum frequency=%.2f m',fmax)"
   ]
   }
],
"metadata": {
		  "kernelspec": {
		   "display_name": "Scilab",
		   "language": "scilab",
		   "name": "scilab"
		  },
		  "language_info": {
		   "file_extension": ".sce",
		   "help_links": [
			{
			 "text": "MetaKernel Magics",
			 "url": "https://github.com/calysto/metakernel/blob/master/metakernel/magics/README.md"
			}
		   ],
		   "mimetype": "text/x-octave",
		   "name": "scilab",
		   "version": "0.7.1"
		  }
		 },
		 "nbformat": 4,
		 "nbformat_minor": 0
}
