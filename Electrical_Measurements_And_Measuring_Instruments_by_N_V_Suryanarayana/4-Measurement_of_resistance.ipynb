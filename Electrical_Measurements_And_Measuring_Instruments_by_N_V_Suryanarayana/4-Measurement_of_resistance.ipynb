{
"cells": [
 {
		   "cell_type": "markdown",
	   "metadata": {},
	   "source": [
       "# Chapter 4: Measurement of resistance"
	   ]
	},
{
		   "cell_type": "markdown",
		   "metadata": {},
		   "source": [
			"## Example 4.1: Calculate_the_Insulation_resistance.sci"
		   ]
		  },
  {
"cell_type": "code",
	   "execution_count": null,
	   "metadata": {
	    "collapsed": true
	   },
	   "outputs": [],
"source": [
"// 4.1\n",
"clc;\n",
"t=20;\n",
"C=8*10^-10;\n",
"E=200;\n",
"e=150;\n",
"a=log10(E/e)\n",
"R=(0.4343*t)/(C*a)*10^-6;\n",
"printf('Insulation resistance=%.2f mega-ohm',R)"
   ]
   }
,
{
		   "cell_type": "markdown",
		   "metadata": {},
		   "source": [
			"## Example 4.2: Calculate_the_Insulation_resistance.sci"
		   ]
		  },
  {
"cell_type": "code",
	   "execution_count": null,
	   "metadata": {
	    "collapsed": true
	   },
	   "outputs": [],
"source": [
"// 4.2\n",
"clc;\n",
"t=600;\n",
"C=2.5*10^-12;\n",
"E=500;\n",
"e=300;\n",
"a=log10(E/e)\n",
"R=(0.4343*t)/(C*a);\n",
"printf('Insulation resistance=%.2f mega-ohm',R)"
   ]
   }
,
{
		   "cell_type": "markdown",
		   "metadata": {},
		   "source": [
			"## Example 4.3: Calculate_the_Insulation_resistance.sci"
		   ]
		  },
  {
"cell_type": "code",
	   "execution_count": null,
	   "metadata": {
	    "collapsed": true
	   },
	   "outputs": [],
"source": [
"//4.3\n",
"clc;\n",
"//V=Eexp(-t/tc)   where tc= RC=Time constant\n",
"t=30;\n",
"V=125;\n",
"E=200;\n",
"tc=-30/log(V/E);\n",
"R=(7/15)*tc-7;\n",
"printf('Insulation resistance=%.2f mega-ohm',R)"
   ]
   }
,
{
		   "cell_type": "markdown",
		   "metadata": {},
		   "source": [
			"## Example 4.4: Calculate_the_value_of_X.sci"
		   ]
		  },
  {
"cell_type": "code",
	   "execution_count": null,
	   "metadata": {
	    "collapsed": true
	   },
	   "outputs": [],
"source": [
"//4.4\n",
"clc;\n",
"Q=3000;\n",
"S=0.1;\n",
"M=2000;\n",
"X=Q*S/M;\n",
"printf('The value of X=%.2f ohm',X)"
   ]
   }
,
{
		   "cell_type": "markdown",
		   "metadata": {},
		   "source": [
			"## Example 4.5: Calculate_Resistance_of_the_field_coil.sci"
		   ]
		  },
  {
"cell_type": "code",
	   "execution_count": null,
	   "metadata": {
	    "collapsed": true
	   },
	   "outputs": [],
"source": [
"//4.5\n",
"clc;\n",
"lx=55;\n",
"ly=100-lx;\n",
"Y=100;\n",
"X=Y*(lx/ly);\n",
"printf('Resistance of the field coil=%.2f ohm',X)"
   ]
   }
,
{
		   "cell_type": "markdown",
		   "metadata": {},
		   "source": [
			"## Example 4.6: Calculate_Unknown_resistance.sci"
		   ]
		  },
  {
"cell_type": "code",
	   "execution_count": null,
	   "metadata": {
	    "collapsed": true
	   },
	   "outputs": [],
"source": [
"//4.6\n",
"clc;\n",
"p=200.7;\n",
"q=400;\n",
"S=200.05*10^-6;\n",
"P=200.5;\n",
"Q=400;\n",
"r=1400*10^-6;\n",
"X=((P*S/Q)+((q*r)/(p+q))*((P/Q)-(p/q)))*10^6;\n",
"printf('Unknown resistance=%.2f micro-ohm',X)"
   ]
   }
,
{
		   "cell_type": "markdown",
		   "metadata": {},
		   "source": [
			"## Example 4.7: Calculate_Resistance_between_positive_earth_and_negative_earth.sci"
		   ]
		  },
  {
"cell_type": "code",
	   "execution_count": null,
	   "metadata": {
	    "collapsed": true
	   },
	   "outputs": [],
"source": [
"//4.7\n",
"clc;\n",
"E=230;\n",
"V1=60;\n",
"V2=40;\n",
"Rv=50000;\n",
"R1=((E-(V1+V2))/V2)*Rv*10^-3;\n",
"printf('Resistance between positive and earth=%.2f Kohm',R1)\n",
"R2=((E-(V1+V2))/V1)*Rv*10^-3;\n",
"printf('\nResistance between -ve and earth=%.2f Kohm',R2)"
   ]
   }
,
{
		   "cell_type": "markdown",
		   "metadata": {},
		   "source": [
			"## Example 4.8: Calculate_Unknown_resistance_X.sci"
		   ]
		  },
  {
"cell_type": "code",
	   "execution_count": null,
	   "metadata": {
	    "collapsed": true
	   },
	   "outputs": [],
"source": [
"//4.8\n",
"clc;\n",
"Q=100.5;\n",
"M=300;\n",
"q=100.6;\n",
"m=300.25;\n",
"r=0.1;\n",
"S=0.0045;\n",
"X=((M*S/Q)+((r)/(r+m*q))*((M*q/Q)-(m)))*10^6;\n",
"printf('Unknown resistance=%.2f micro-ohm',X)"
   ]
   }
],
"metadata": {
		  "kernelspec": {
		   "display_name": "Scilab",
		   "language": "scilab",
		   "name": "scilab"
		  },
		  "language_info": {
		   "file_extension": ".sce",
		   "help_links": [
			{
			 "text": "MetaKernel Magics",
			 "url": "https://github.com/calysto/metakernel/blob/master/metakernel/magics/README.md"
			}
		   ],
		   "mimetype": "text/x-octave",
		   "name": "scilab",
		   "version": "0.7.1"
		  }
		 },
		 "nbformat": 4,
		 "nbformat_minor": 0
}
