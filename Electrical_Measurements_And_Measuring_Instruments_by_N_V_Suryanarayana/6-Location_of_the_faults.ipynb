{
"cells": [
 {
		   "cell_type": "markdown",
	   "metadata": {},
	   "source": [
       "# Chapter 6: Location of the faults"
	   ]
	},
{
		   "cell_type": "markdown",
		   "metadata": {},
		   "source": [
			"## Example 6.1: Find_the_position_of_fault.sci"
		   ]
		  },
  {
"cell_type": "code",
	   "execution_count": null,
	   "metadata": {
	    "collapsed": true
	   },
	   "outputs": [],
"source": [
"//6.1\n",
"clc;\n",
"r=250;\n",
"s=1000;\n",
"l=1000;\n",
"x=r*l/s;\n",
"printf('Position of the fault=%.1fm',x)"
   ]
   }
,
{
		   "cell_type": "markdown",
		   "metadata": {},
		   "source": [
			"## Example 6.2: Find_the_position_of_fault.sci"
		   ]
		  },
  {
"cell_type": "code",
	   "execution_count": null,
	   "metadata": {
	    "collapsed": true
	   },
	   "outputs": [],
"source": [
"//6.2\n",
"clc;\n",
"r=600;\n",
"s=1000;\n",
"El=500*30/50;\n",
"l=450+El;\n",
"x=r*l/s;\n",
"printf('Position of the fault=%.1f m',x)"
   ]
   }
,
{
		   "cell_type": "markdown",
		   "metadata": {},
		   "source": [
			"## Example 6.3: Find_the_resistance_of_the_armature_and_percentage_error.sci"
		   ]
		  },
  {
"cell_type": "code",
	   "execution_count": null,
	   "metadata": {
	    "collapsed": true
	   },
	   "outputs": [],
"source": [
"//6.3\n",
"clc;\n",
"R_armature=0.256/16;\n",
"printf('Armature Resistance=%.2f ohm',R_armature)\n",
"R_armature_true=0.256/(16-(0.256/10));\n",
"Error=R_armature-R_armature_true;\n",
"Error_percentage=Error*100/R_armature_true;\n",
"printf('\nPercentage Error=%.2f',Error_percentage)"
   ]
   }
,
{
		   "cell_type": "markdown",
		   "metadata": {},
		   "source": [
			"## Example 6.4: Find_the_position_of_fault.sci"
		   ]
		  },
  {
"cell_type": "code",
	   "execution_count": null,
	   "metadata": {
	    "collapsed": true
	   },
	   "outputs": [],
"source": [
"//6.4\n",
"clc;\n",
"R1=45;\n",
"R2=100-R1;\n",
"l=500;\n",
"x=2*l*R1/(R1+R2);\n",
"printf('Position of the fault from the test end=%.1f m',x)"
   ]
   }
,
{
		   "cell_type": "markdown",
		   "metadata": {},
		   "source": [
			"## Example 6.5: Calculate_the_distance_to_the_fault.sci"
		   ]
		  },
  {
"cell_type": "code",
	   "execution_count": null,
	   "metadata": {
	    "collapsed": true
	   },
	   "outputs": [],
"source": [
"clc;\n",
"//5.6\n",
"r3=300;\n",
"r2=1500;\n",
"r1=15;\n",
"R=(r3/r2)*r1;\n",
"l=4000;\n",
"r3=180;\n",
"d=(2*l/R)*(R*r2-r3*r1)/(r1+r2);\n",
"printf('Distance of the fault=%.2fm',d)"
   ]
   }
],
"metadata": {
		  "kernelspec": {
		   "display_name": "Scilab",
		   "language": "scilab",
		   "name": "scilab"
		  },
		  "language_info": {
		   "file_extension": ".sce",
		   "help_links": [
			{
			 "text": "MetaKernel Magics",
			 "url": "https://github.com/calysto/metakernel/blob/master/metakernel/magics/README.md"
			}
		   ],
		   "mimetype": "text/x-octave",
		   "name": "scilab",
		   "version": "0.7.1"
		  }
		 },
		 "nbformat": 4,
		 "nbformat_minor": 0
}
