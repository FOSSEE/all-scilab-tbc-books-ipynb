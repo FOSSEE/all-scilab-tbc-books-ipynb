{
"cells": [
 {
		   "cell_type": "markdown",
	   "metadata": {},
	   "source": [
       "# Chapter 10: Magnetic Measurements"
	   ]
	},
{
		   "cell_type": "markdown",
		   "metadata": {},
		   "source": [
			"## Example 10.1: Calculate_relative_permeability.sci"
		   ]
		  },
  {
"cell_type": "code",
	   "execution_count": null,
	   "metadata": {
	    "collapsed": true
	   },
	   "outputs": [],
"source": [
"//10.1\n",
"clc;\n",
"K=0.1*10^-3;\n",
"d=60;\n",
"N2=200;\n",
"phi2=K*d/(2*N2);\n",
"a2=25*10^-6;\n",
"B=phi2/a2;\n",
"N=300;\n",
"I=10;\n",
"l=0.1;\n",
"H=N*I/l;\n",
"Permability_absolute=4*%pi*10^-7;\n",
"Permability_relative=B/(Permability_absolute*H)\n",
"printf('Relative permability of iron=%.2f',Permability_relative)"
   ]
   }
,
{
		   "cell_type": "markdown",
		   "metadata": {},
		   "source": [
			"## Example 10.2: Calculate_galvanometer_constant.sci"
		   ]
		  },
  {
"cell_type": "code",
	   "execution_count": null,
	   "metadata": {
	    "collapsed": true
	   },
	   "outputs": [],
"source": [
"//10.2\n",
"clc;\n",
"N1=2500;\n",
"I1=2;\n",
"l1=1;\n",
"a2=3*10^-4;\n",
"Permability_absolute=4*%pi*10^-7;\n",
"phi2=Permability_absolute*N1*I1*a2/(l1);\n",
"N2=50;\n",
"theta=1;\n",
"l=10;\n",
"K=2*N2*phi2/(theta*l);\n",
"a=60*%pi*10^-7;\n",
"printf('Galvanometer Constant=%.6f Wb turns/division',K)\n",
"\n",
""
   ]
   }
],
"metadata": {
		  "kernelspec": {
		   "display_name": "Scilab",
		   "language": "scilab",
		   "name": "scilab"
		  },
		  "language_info": {
		   "file_extension": ".sce",
		   "help_links": [
			{
			 "text": "MetaKernel Magics",
			 "url": "https://github.com/calysto/metakernel/blob/master/metakernel/magics/README.md"
			}
		   ],
		   "mimetype": "text/x-octave",
		   "name": "scilab",
		   "version": "0.7.1"
		  }
		 },
		 "nbformat": 4,
		 "nbformat_minor": 0
}
