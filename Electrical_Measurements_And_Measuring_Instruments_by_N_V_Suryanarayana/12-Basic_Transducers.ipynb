{
"cells": [
 {
		   "cell_type": "markdown",
	   "metadata": {},
	   "source": [
       "# Chapter 12: Basic Transducers"
	   ]
	},
{
		   "cell_type": "markdown",
		   "metadata": {},
		   "source": [
			"## Example 12.1: Calculate_change_in_resistance.sci"
		   ]
		  },
  {
"cell_type": "code",
	   "execution_count": null,
	   "metadata": {
	    "collapsed": true
	   },
	   "outputs": [],
"source": [
"//12.1\n",
"clc;\n",
"K=4;\n",
"strain=1*10^-6;\n",
"R=150;\n",
"dR=K*strain*R*10^6;\n",
"printf('Change in resistance=%.1f micro-ohm',dR)"
   ]
   }
,
{
		   "cell_type": "markdown",
		   "metadata": {},
		   "source": [
			"## Example 12.2: Calculate_change_in_length.sci"
		   ]
		  },
  {
"cell_type": "code",
	   "execution_count": null,
	   "metadata": {
	    "collapsed": true
	   },
	   "outputs": [],
"source": [
"//12.2\n",
"clc;\n",
"d=0.03;\n",
"a=%pi*d^2/4;\n",
"f=40000;\n",
"l=0.5;\n",
"E=3*10^10;\n",
"dl=f*l/(E*a);\n",
"printf('Change in length=%.6f m',dl)\n",
""
   ]
   }
,
{
		   "cell_type": "markdown",
		   "metadata": {},
		   "source": [
			"## Example 12.3: Calculate_capacitance.sci"
		   ]
		  },
  {
"cell_type": "code",
	   "execution_count": null,
	   "metadata": {
	    "collapsed": true
	   },
	   "outputs": [],
"source": [
"//12.3\n",
"clc;\n",
"d=10^-4;\n",
"A=6*10^-3;\n",
"permitivity_absolute=8.854*10^-12;\n",
"permitivity_relative=1\n",
"C=permitivity_absolute*permitivity_relative*A*10^12/d;\n",
"printf('capacitance=%.2f pF',C)"
   ]
   }
,
{
		   "cell_type": "markdown",
		   "metadata": {},
		   "source": [
			"## Example 12.4: Calculate_the_displacement.sci"
		   ]
		  },
  {
"cell_type": "code",
	   "execution_count": null,
	   "metadata": {
	    "collapsed": true
	   },
	   "outputs": [],
"source": [
"//12.4\n",
"clc;\n",
"disp('1.5 cm core displacement produces 6V so')\n",
"d_15=6;\n",
"d_18=1.8*d_15/1.5\n",
"printf('1.8 cm core displacement produces=%.2f V',d_18);\n",
"d_08=(-0.8)*(-d_15)/(-1.5);\n",
"printf('\n-0.8 cm core displacement produces=%.2f V',d_08);\n",
"d_06=(-0.6)*(-d_15)/(-1.5);\n",
"printf('\n-0.6 cm core displacement produces=%.2f V',d_06);"
   ]
   }
,
{
		   "cell_type": "markdown",
		   "metadata": {},
		   "source": [
			"## Example 12.5: Calculate_the_acceleration_in_g_and_natural_frequency.sci"
		   ]
		  },
  {
"cell_type": "code",
	   "execution_count": null,
	   "metadata": {
	    "collapsed": true
	   },
	   "outputs": [],
"source": [
"//12.5\n",
"clc;\n",
"k=4*10^3;\n",
"dx=0.04;\n",
"m=0.1;\n",
"acc=k*dx/m;\n",
"accg=acc/9.8;\n",
"printf('acceleration=%.2f g',accg)\n",
"fn=(1/2*%pi)*(k/m)^0.5;\n",
"printf('\nNatural Frequency=%.2f Hz',fn)"
   ]
   }
],
"metadata": {
		  "kernelspec": {
		   "display_name": "Scilab",
		   "language": "scilab",
		   "name": "scilab"
		  },
		  "language_info": {
		   "file_extension": ".sce",
		   "help_links": [
			{
			 "text": "MetaKernel Magics",
			 "url": "https://github.com/calysto/metakernel/blob/master/metakernel/magics/README.md"
			}
		   ],
		   "mimetype": "text/x-octave",
		   "name": "scilab",
		   "version": "0.7.1"
		  }
		 },
		 "nbformat": 4,
		 "nbformat_minor": 0
}
