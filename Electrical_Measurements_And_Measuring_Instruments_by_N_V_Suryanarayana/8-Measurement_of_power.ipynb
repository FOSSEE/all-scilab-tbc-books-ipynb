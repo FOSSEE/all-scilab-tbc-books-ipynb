{
"cells": [
 {
		   "cell_type": "markdown",
	   "metadata": {},
	   "source": [
       "# Chapter 8: Measurement of power"
	   ]
	},
{
		   "cell_type": "markdown",
		   "metadata": {},
		   "source": [
			"## Example 8.1: Calculate_the_parameters_of_the_load.sci"
		   ]
		  },
  {
"cell_type": "code",
	   "execution_count": null,
	   "metadata": {
	    "collapsed": true
	   },
	   "outputs": [],
"source": [
"//8.1\n",
"clc;\n",
"ZL=220/2;\n",
"printf('Load impedance=%.1f ohm',ZL)\n",
"Z_total=220/4;\n",
"printf('\nImpedance of the combination=%.2f ohm',Z_total)\n",
"I1=2;\n",
"I2=2.5;\n",
"I3=4;\n",
"P=(Z_total/2)*(I3^2-I1^2-I2^2);\n",
"printf('\nPower absorbed by load=%.2f W',P)\n",
"pf=P/(220*2^2);\n",
"printf('\npower factor of load=%.2f',pf)"
   ]
   }
,
{
		   "cell_type": "markdown",
		   "metadata": {},
		   "source": [
			"## Example 8.2: Calculate_the_parameters_of_the_load_and_circuit.sci"
		   ]
		  },
  {
"cell_type": "code",
	   "execution_count": null,
	   "metadata": {
	    "collapsed": true
	   },
	   "outputs": [],
"source": [
"//8.2\n",
"clc;\n",
"I=125/10;\n",
"ZL=50/I;\n",
"printf('Load impedance=%.1f ohm',ZL)\n",
"Z_total=150/I;\n",
"printf('\nImpedance of the combination=%.2f ohm',Z_total)\n",
"I1=125;\n",
"I2=50;\n",
"I3=150;\n",
"P=(1/(2*10))*(I3^2-I1^2-I2^2);\n",
"printf('\nPower absorbed by load=%.2f W',P)\n",
"Pr=I^2*10;\n",
"printf('\nPower consumed by the resistor=%.2f W',Pr)\n",
"pf=P/(50*I);\n",
"printf('\npower factor of load=%.2f',pf)"
   ]
   }
],
"metadata": {
		  "kernelspec": {
		   "display_name": "Scilab",
		   "language": "scilab",
		   "name": "scilab"
		  },
		  "language_info": {
		   "file_extension": ".sce",
		   "help_links": [
			{
			 "text": "MetaKernel Magics",
			 "url": "https://github.com/calysto/metakernel/blob/master/metakernel/magics/README.md"
			}
		   ],
		   "mimetype": "text/x-octave",
		   "name": "scilab",
		   "version": "0.7.1"
		  }
		 },
		 "nbformat": 4,
		 "nbformat_minor": 0
}
