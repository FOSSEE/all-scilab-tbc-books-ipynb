{
"cells": [
 {
		   "cell_type": "markdown",
	   "metadata": {},
	   "source": [
       "# Chapter 3: Principles of electrical measurements and measuring instruments"
	   ]
	},
{
		   "cell_type": "markdown",
		   "metadata": {},
		   "source": [
			"## Example 3.10: Calculate_the_meter_constant_and_power_factor.sci"
		   ]
		  },
  {
"cell_type": "code",
	   "execution_count": null,
	   "metadata": {
	    "collapsed": true
	   },
	   "outputs": [],
"source": [
"//3.10\n",
"clc;\n",
"E_unity_pf=230*6*4*1/1000;\n",
"M_constant=2208/E_unity_pf;\n",
"printf('Meter constant=%.1f rev/kWh',M_constant)\n",
"E_consumed=1472/M_constant;\n",
"pf=(E_consumed/(230*5*4))*1000;\n",
"printf('\npower factor=%.2f',pf)"
   ]
   }
,
{
		   "cell_type": "markdown",
		   "metadata": {},
		   "source": [
			"## Example 3.11: Calculate_the_percentage_error_at_full_load.sci"
		   ]
		  },
  {
"cell_type": "code",
	   "execution_count": null,
	   "metadata": {
	    "collapsed": true
	   },
	   "outputs": [],
"source": [
"//3.11\n",
"clc;\n",
"phi=acosd(0.8);\n",
"alpha_actual=85-phi;\n",
"alpha_true=90-phi;\n",
"er=(alpha_true-alpha_actual)/(alpha_true)*100;\n",
"printf('percentage error at full load=%.2f',er)"
   ]
   }
,
{
		   "cell_type": "markdown",
		   "metadata": {},
		   "source": [
			"## Example 3.1: Calculate_deflection_for_spring_controlled_and_gravity_control_instruments.sci"
		   ]
		  },
  {
"cell_type": "code",
	   "execution_count": null,
	   "metadata": {
	    "collapsed": true
	   },
	   "outputs": [],
"source": [
"// 3.1\n",
"clc;\n",
"disp('For spring controlled Tc is proportional to theta')\n",
"theta=90*(3/5)^2;\n",
"printf('Deflection for spring controlled instrument=%.2f degree',theta)\n",
"disp('For gravity controlled Tc is proportional to sin(theta)')\n",
"theta=asind((3/5)^2);\n",
"printf('\nDeflection for gravity controlled instrument=%.2f degree',theta)"
   ]
   }
,
{
		   "cell_type": "markdown",
		   "metadata": {},
		   "source": [
			"## Example 3.2: Calculate_the_shunt_resistance.sci"
		   ]
		  },
  {
"cell_type": "code",
	   "execution_count": null,
	   "metadata": {
	    "collapsed": true
	   },
	   "outputs": [],
"source": [
"// 3.2\n",
"clc;\n",
"I=1000;\n",
"Ia=50*10^-3;\n",
"Is=I-Ia;\n",
"Ra=10;\n",
"Va=Ia*Ra;\n",
"Rs=10*Va/Is;\n",
"printf('The shunt resistance=%.2f ohm',Rs)"
   ]
   }
,
{
		   "cell_type": "markdown",
		   "metadata": {},
		   "source": [
			"## Example 3.3: Calculate_the_value_of_total_resistance.sci"
		   ]
		  },
  {
"cell_type": "code",
	   "execution_count": null,
	   "metadata": {
	    "collapsed": true
	   },
	   "outputs": [],
"source": [
"//3.3\n",
"clc;\n",
"Is=150*10^-6;\n",
"I=50*10^-6;\n",
"R=4*10^3;\n",
"Rt=R*I/Is;\n",
"printf('\nthe value of total resistance=%.2f ohm',Rt)"
   ]
   }
,
{
		   "cell_type": "markdown",
		   "metadata": {},
		   "source": [
			"## Example 3.4: Calculate_the_current.sci"
		   ]
		  },
  {
"cell_type": "code",
	   "execution_count": null,
	   "metadata": {
	    "collapsed": true
	   },
	   "outputs": [],
"source": [
"//3.4\n",
"clc;\n",
"V=1;\n",
"R=2*10^3;\n",
"I=(V/R)*1000;\n",
"printf('Actual current=%.2f mA',I)\n",
"Rm=1000;\n",
"Rt=R+Rm;\n",
"I=(V/Rt)*1000;\n",
"printf('\nCurrent when Rm is 1000 ohm =%.2f mA',I)\n",
"Rm=100;\n",
"Rt=R+Rm;\n",
"I=(V/Rt)*1000;\n",
"printf('\nCurrent when Rm is 100 ohm =%.2f mA',I)"
   ]
   }
,
{
		   "cell_type": "markdown",
		   "metadata": {},
		   "source": [
			"## Example 3.5: Calculate_the_expected_error_and_per_cent_error.sci"
		   ]
		  },
  {
"cell_type": "code",
	   "execution_count": null,
	   "metadata": {
	    "collapsed": true
	   },
	   "outputs": [],
"source": [
"//3.5\n",
"clc;\n",
"I=20;\n",
"E_expected=2.5*I/100;\n",
"printf('Expected error=+/-%.2f mA',E_expected)\n",
"disp('Actual reading for 5mA indication will be 4.5mA to 5.5mA')\n",
"disp('Actual reading for 15mA indication will be 14.5mA to 15.5mA')\n",
"E_5mA=(0.5/5)*100;\n",
"printf('Error for 5mA reading=%.2f percent',E_5mA)\n",
"E_15mA=(0.5/15)*100;\n",
"printf('\nError for 15mA reading=%.2f percent',E_15mA)"
   ]
   }
,
{
		   "cell_type": "markdown",
		   "metadata": {},
		   "source": [
			"## Example 3.6: Calculate_the_resistance_and_maximum_possible_error.sci"
		   ]
		  },
  {
"cell_type": "code",
	   "execution_count": null,
	   "metadata": {
	    "collapsed": true
	   },
	   "outputs": [],
"source": [
"//3.6\n",
"clc;\n",
"V=20;\n",
"A=20*10^-6;\n",
"Ra=25*10^3;\n",
"Rx=((V/A)-Ra)*10^-3;\n",
"printf('The resistance=%.0f Kohm',Rx)\n",
"E_voltmeter=(2/(100*20))*20*100;\n",
"E_current=(2/(100*20))*50*100;\n",
"E_total=E_voltmeter+E_current;\n",
"printf('\nMaximum possible error=%.1f percent',E_total)"
   ]
   }
,
{
		   "cell_type": "markdown",
		   "metadata": {},
		   "source": [
			"## Example 3.7: Calculate_the_resistance_and_maximum_possible_error.sci"
		   ]
		  },
  {
"cell_type": "code",
	   "execution_count": null,
	   "metadata": {
	    "collapsed": true
	   },
	   "outputs": [],
"source": [
"//3.7\n",
"clc;\n",
"V=20;\n",
"A=20*10^-3;\n",
"Rv=10*10^3*20;\n",
"Rx=(V/(A-(V/Rv)))/1000;\n",
"printf('The resistance=%.2f Kohm',Rx)\n",
"E_total=2.5+2.5;\n",
"printf('Maximum possible error=%.0f percent',E_total)"
   ]
   }
,
{
		   "cell_type": "markdown",
		   "metadata": {},
		   "source": [
			"## Example 3.8: Calculate_current_in_the_voltage_coil.sci"
		   ]
		  },
  {
"cell_type": "code",
	   "execution_count": null,
	   "metadata": {
	    "collapsed": true
	   },
	   "outputs": [],
"source": [
"//3.8\n",
"clc;\n",
"Sp_constant=10.5*10^-6*%pi/180;\n",
"deflection=83;\n",
"Td=Sp_constant*deflection;\n",
"I1=10;\n",
"K=0.078;\n",
"I2=(Td/(K*I1))*10^6;\n",
"printf('Current in the voltage coil=%.2f uA',I2)"
   ]
   }
,
{
		   "cell_type": "markdown",
		   "metadata": {},
		   "source": [
			"## Example 3.9: Calculate_the_correction_required.sci"
		   ]
		  },
  {
"cell_type": "code",
	   "execution_count": null,
	   "metadata": {
	    "collapsed": true
	   },
	   "outputs": [],
"source": [
"//3.9\n",
"clc;\n",
"AH=5*1/2;\n",
"printf('AH passed in 30 minuties=%.1f percent',AH)\n",
"V_assumed=0.51*1000/AH;\n",
"V_actual=200;\n",
"Error=V_actual-V_assumed;\n",
"Correction=-Error;\n",
"Cor=Correction*100/V_actual;\n",
"printf('\nCorrection required=%.1f percent',Cor)"
   ]
   }
],
"metadata": {
		  "kernelspec": {
		   "display_name": "Scilab",
		   "language": "scilab",
		   "name": "scilab"
		  },
		  "language_info": {
		   "file_extension": ".sce",
		   "help_links": [
			{
			 "text": "MetaKernel Magics",
			 "url": "https://github.com/calysto/metakernel/blob/master/metakernel/magics/README.md"
			}
		   ],
		   "mimetype": "text/x-octave",
		   "name": "scilab",
		   "version": "0.7.1"
		  }
		 },
		 "nbformat": 4,
		 "nbformat_minor": 0
}
