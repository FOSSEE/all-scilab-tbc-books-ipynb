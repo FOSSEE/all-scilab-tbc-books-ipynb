{
"cells": [
 {
		   "cell_type": "markdown",
	   "metadata": {},
	   "source": [
       "# Chapter 5: Potentiometer"
	   ]
	},
{
		   "cell_type": "markdown",
		   "metadata": {},
		   "source": [
			"## Example 5.1: Calculate_Distance_PX.sci"
		   ]
		  },
  {
"cell_type": "code",
	   "execution_count": null,
	   "metadata": {
	    "collapsed": true
	   },
	   "outputs": [],
"source": [
"//5.1\n",
"clc;\n",
"Ipq=4/(3+4);\n",
"Vpq=Ipq*3;\n",
"Vpq_per_cm=Vpq/100;\n",
"Dpx=1.0186/Vpq_per_cm;\n",
"printf('Distance PX=%.2f cm',Dpx)"
   ]
   }
,
{
		   "cell_type": "markdown",
		   "metadata": {},
		   "source": [
			"## Example 5.2: Calculate_Voltage_of_dry_cell.sci"
		   ]
		  },
  {
"cell_type": "code",
	   "execution_count": null,
	   "metadata": {
	    "collapsed": true
	   },
	   "outputs": [],
"source": [
"//5.2\n",
"clc;\n",
"V_per_cm=1.0186/60;\n",
"//When S is replaced by a dry cell we get PK=85 cm for null deflection\n",
"Dpk=85;\n",
"V_dry_cell=Dpk*V_per_cm;\n",
"printf('Voltage of dry cell=%.2f V',V_dry_cell)"
   ]
   }
,
{
		   "cell_type": "markdown",
		   "metadata": {},
		   "source": [
			"## Example 5.3: Calculate_Length_of_PQ.sci"
		   ]
		  },
  {
"cell_type": "code",
	   "execution_count": null,
	   "metadata": {
	    "collapsed": true
	   },
	   "outputs": [],
"source": [
"//5.3\n",
"clc;\n",
"Vpq=(1.02*5/2500)*1000;\n",
"Lpq=1.2*100/Vpq;\n",
"printf('Length of PQ=%.2f m',Lpq)"
   ]
   }
,
{
		   "cell_type": "markdown",
		   "metadata": {},
		   "source": [
			"## Example 5.4: Calculate_Length_of_wire_and_Ratio_of_resistances.sci"
		   ]
		  },
  {
"cell_type": "code",
	   "execution_count": null,
	   "metadata": {
	    "collapsed": true
	   },
	   "outputs": [],
"source": [
"//5.4\n",
"clc;\n",
"l2=(10/3)*(1.5/1.5)*(9/15)^2;\n",
"printf('Length of wire=%.2f m',l2)\n",
"a1=0.0004;\n",
"a2=0.0003;\n",
"R2=1;\n",
"R1=1.5*R2;\n",
"T=100;\n",
"Rp=R1*(1+a1*T);\n",
"Rq=R2*(1+a2*T);\n",
"R=Rp/Rq;\n",
"printf('Ratio of resistances=%.2f',R)"
   ]
   }
,
{
		   "cell_type": "markdown",
		   "metadata": {},
		   "source": [
			"## Example 5.5: Calculate_emf_of_the_cell_and_Perentage_error_of_the_voltmeter.sci"
		   ]
		  },
  {
"cell_type": "code",
	   "execution_count": null,
	   "metadata": {
	    "collapsed": true
	   },
	   "outputs": [],
"source": [
"//5.5\n",
"clc;\n",
"emf_std_cell=1.0183;\n",
"emf_cell=70/50*emf_std_cell;\n",
"printf('e.m.f. of the cell=%.2f V',emf_cell)\n",
"V_read=1.35;\n",
"V_cal=1.32379;\n",
"error_voltmeter_percent=((V_read-V_cal)/V_cal)*100;\n",
"printf('\nPerentage error of the voltmeter=%.2f',error_voltmeter_percent)"
   ]
   }
],
"metadata": {
		  "kernelspec": {
		   "display_name": "Scilab",
		   "language": "scilab",
		   "name": "scilab"
		  },
		  "language_info": {
		   "file_extension": ".sce",
		   "help_links": [
			{
			 "text": "MetaKernel Magics",
			 "url": "https://github.com/calysto/metakernel/blob/master/metakernel/magics/README.md"
			}
		   ],
		   "mimetype": "text/x-octave",
		   "name": "scilab",
		   "version": "0.7.1"
		  }
		 },
		 "nbformat": 4,
		 "nbformat_minor": 0
}
