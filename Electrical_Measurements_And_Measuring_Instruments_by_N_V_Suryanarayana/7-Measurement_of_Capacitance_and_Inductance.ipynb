{
"cells": [
 {
		   "cell_type": "markdown",
	   "metadata": {},
	   "source": [
       "# Chapter 7: Measurement of Capacitance and Inductance"
	   ]
	},
{
		   "cell_type": "markdown",
		   "metadata": {},
		   "source": [
			"## Example 7.1: Calculate_the_resistance_and_inductance_of_the_coil.sci"
		   ]
		  },
  {
"cell_type": "code",
	   "execution_count": null,
	   "metadata": {
	    "collapsed": true
	   },
	   "outputs": [],
"source": [
"//7.1\n",
"clc;\n",
"//The coil has resistance of R ohm and inductance L2\n",
"//ZKL=25+j(2*%pi*f)*0.05;\n",
"ZLM=100;\n",
"//ZKN=(R+2)+j(2*%pi*f)*L2;\n",
"ZNM=100;\n",
"//Now (ZKL/ZLM)=(ZKN/ZNM)\n",
"//((25+j(2*%pi*f)*0.05)/100)=((R+2)+j(2*%pi*f)*L2/100)\n",
"//Equating Real and imaginary parts\n",
"//we have 25=R+2\n",
"//2*%pi*f)*0.05=2*%pi*f)*L2\n",
"R=23;\n",
"L2=50;\n",
"printf('Resistance=%.0f ohm',R)\n",
"printf('\nInductance=%.0f mH',L2)"
   ]
   }
,
{
		   "cell_type": "markdown",
		   "metadata": {},
		   "source": [
			"## Example 7.2: Calculate_the_parameters_of_the_cable.sci"
		   ]
		  },
  {
"cell_type": "code",
	   "execution_count": null,
	   "metadata": {
	    "collapsed": true
	   },
	   "outputs": [],
"source": [
"//7.2\n",
"clc;\n",
"C1=50*10^-12;\n",
"r2=1500/%pi;\n",
"r3=120;\n",
"Cs=C1*r2/r3*10^12;\n",
"printf('Cable capacitance=%.1f pF',Cs)\n",
"C2=0.95*10^-6;\n",
"rs=C2*r3/(C1*10^6);\n",
"printf('\nParallel loss resistance=%.2f Mega-ohm',rs)\n",
"w=314;\n",
"Loss_angle=atand(rs*w*Cs);\n",
"printf('\nLoss angle=%.1f degree',Loss_angle)"
   ]
   }
,
{
		   "cell_type": "markdown",
		   "metadata": {},
		   "source": [
			"## Example 7.3: Calculate_the_power_factor_and_equivalent_series_resistance.sci"
		   ]
		  },
  {
"cell_type": "code",
	   "execution_count": null,
	   "metadata": {
	    "collapsed": true
	   },
	   "outputs": [],
"source": [
"//7.3\n",
"clc;\n",
"C3=106*10^-12;\n",
"C1=0.35*10^-6;\n",
"R1=318;\n",
"R2=130;\n",
"C2=C3*R1/R2;\n",
"Rx=R2*C1/C3;\n",
"printf('Series Resistance=%.2f ohm',Rx)\n",
"wr=314;\n",
"pf=wr*Rx*C2;\n",
"printf('\nPower factor=%.2f',pf)"
   ]
   }
,
{
		   "cell_type": "markdown",
		   "metadata": {},
		   "source": [
			"## Example 7.4: Calculate_the_capacitance_and_resistance.sci"
		   ]
		  },
  {
"cell_type": "code",
	   "execution_count": null,
	   "metadata": {
	    "collapsed": true
	   },
	   "outputs": [],
"source": [
"//7.4\n",
"clc;\n",
"Q=10;\n",
"Cs=0.2;\n",
"P=2;\n",
"Cx=Q*Cs/P;\n",
"printf('Capacitance=%.1f uF',Cx)\n",
"S=5;\n",
"rx=P*S/Q;\n",
"printf('\nResistance=%.0f Kohm',rx)"
   ]
   }
,
{
		   "cell_type": "markdown",
		   "metadata": {},
		   "source": [
			"## Example 7.5: Calculate_the_inductance_and_resistance_of_the_impedance.sci"
		   ]
		  },
  {
"cell_type": "code",
	   "execution_count": null,
	   "metadata": {
	    "collapsed": true
	   },
	   "outputs": [],
"source": [
"//7.5\n",
"clc;\n",
"S=900;\n",
"P=1.5*10^3;\n",
"Q=2*10^3;\n",
"Cs=0.2*10^-6;\n",
"rx=S*P/Q;\n",
"printf('Resistance=%.0f ohm',rx)\n",
"Lx=P*Cs*S;\n",
"printf('\nInductance=%.2f H',Lx)"
   ]
   }
,
{
		   "cell_type": "markdown",
		   "metadata": {},
		   "source": [
			"## Example 7.6: Calculate_the_inductance_and_resistance.sci"
		   ]
		  },
  {
"cell_type": "code",
	   "execution_count": null,
	   "metadata": {
	    "collapsed": true
	   },
	   "outputs": [],
"source": [
"//7.6\n",
"clc;\n",
"R1=2;\n",
"R2=1;\n",
"R4=500;\n",
"L4=0.1\n",
"R3=R1*R4/R2;\n",
"printf('Resistance=%.0f ohm',R3)\n",
"L3=R1*L4/R2;\n",
"printf('\nInductance=%.2f H',L3)"
   ]
   }
,
{
		   "cell_type": "markdown",
		   "metadata": {},
		   "source": [
			"## Example 7.7: Calculate_the_inductance_and_resistance_of_the_impedance.sci"
		   ]
		  },
  {
"cell_type": "code",
	   "execution_count": null,
	   "metadata": {
	    "collapsed": true
	   },
	   "outputs": [],
"source": [
"//7.7\n",
"clc;\n",
"S=0.875;\n",
"P=1.35*10^3;\n",
"Q=1*10^3;\n",
"Cs=0.1*10^-6;\n",
"rx=S*P/Q;\n",
"printf('Resistance=%.2f ohm',rx)\n",
"Lx=P*Cs*S*10^3;\n",
"printf('\nInductance=%.3f mH',Lx)"
   ]
   }
,
{
		   "cell_type": "markdown",
		   "metadata": {},
		   "source": [
			"## Example 7.8: Calculate_the_capacitance_and_loss_resistance_of_the_capacitor.sci"
		   ]
		  },
  {
"cell_type": "code",
	   "execution_count": null,
	   "metadata": {
	    "collapsed": true
	   },
	   "outputs": [],
"source": [
"//7.8\n",
"clc;\n",
"r1=250;\n",
"r4=1200;\n",
"r2=10^6;\n",
"C4=4*10^-5;\n",
"r3=r1*r4/r2;\n",
"printf('Resistance=%.2f ohm',r3)\n",
"C3=r2*C4/r1;\n",
"printf('\nCapacitance=%.2f uF',C3)"
   ]
   }
,
{
		   "cell_type": "markdown",
		   "metadata": {},
		   "source": [
			"## Example 7.9: Calculate_the_resistance_and_inductance_of_the_coil.sci"
		   ]
		  },
  {
"cell_type": "code",
	   "execution_count": null,
	   "metadata": {
	    "collapsed": true
	   },
	   "outputs": [],
"source": [
"//7.9\n",
"clc;\n",
"R2=1000;\n",
"R4=833;\n",
"f=50;\n",
"w=2*%pi*f;\n",
"C=0.38*10^-6;\n",
"R3=16800;\n",
"R1=(R2*R3*R4*w^2*C^2)/(1+w^2*R4^2*C^2);\n",
"printf('Resistance=%.2f ohm',R1)\n",
"L=R2*R3*C/(1+w^2*R4^2*C^2);\n",
"printf('Inductance=%.2f H',L)"
   ]
   }
],
"metadata": {
		  "kernelspec": {
		   "display_name": "Scilab",
		   "language": "scilab",
		   "name": "scilab"
		  },
		  "language_info": {
		   "file_extension": ".sce",
		   "help_links": [
			{
			 "text": "MetaKernel Magics",
			 "url": "https://github.com/calysto/metakernel/blob/master/metakernel/magics/README.md"
			}
		   ],
		   "mimetype": "text/x-octave",
		   "name": "scilab",
		   "version": "0.7.1"
		  }
		 },
		 "nbformat": 4,
		 "nbformat_minor": 0
}
