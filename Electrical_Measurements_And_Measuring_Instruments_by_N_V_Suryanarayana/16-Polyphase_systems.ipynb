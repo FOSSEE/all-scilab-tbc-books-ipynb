{
"cells": [
 {
		   "cell_type": "markdown",
	   "metadata": {},
	   "source": [
       "# Chapter 16: Polyphase systems"
	   ]
	},
{
		   "cell_type": "markdown",
		   "metadata": {},
		   "source": [
			"## Example 16.10: Calculate_the_current_in_each_line_and_value_of_each_resistance.sci"
		   ]
		  },
  {
"cell_type": "code",
	   "execution_count": null,
	   "metadata": {
	    "collapsed": true
	   },
	   "outputs": [],
"source": [
"//16.10\n",
"clc;\n",
"P_consumed=3000/3;\n",
"E_per_phase=440/(3^0.5);\n",
"IL=P_consumed/E_per_phase;\n",
"printf('\nCurrent in each line=%.2f A',IL)\n",
"R=E_per_phase/IL;\n",
"printf('\nResistance of resistor=%.2f ohm',R)"
   ]
   }
,
{
		   "cell_type": "markdown",
		   "metadata": {},
		   "source": [
			"## Example 16.11: Calculate_circuit_constants_of_load_per_phase.sci"
		   ]
		  },
  {
"cell_type": "code",
	   "execution_count": null,
	   "metadata": {
	    "collapsed": true
	   },
	   "outputs": [],
"source": [
"//16.11\n",
"clc;\n",
"VL=1100;\n",
"IL=100;\n",
"pf=150*1000/(3^0.5*VL*IL);\n",
"E_per_phase=VL/3^0.5;\n",
"Zph=E_per_phase/100;\n",
"Rph=pf*Zph;\n",
"Xc=(Zph^2-Rph^2)^0.5;\n",
"C=10^6/(2*%pi*50*Xc);\n",
"disp('Circuit Constants are')\n",
"printf('\nR=%.2f ohm',Rph)\n",
"printf('\nC=%.2f uF',C)"
   ]
   }
,
{
		   "cell_type": "markdown",
		   "metadata": {},
		   "source": [
			"## Example 16.12: Calculate_the_readings_of_watt_meters.sci"
		   ]
		  },
  {
"cell_type": "code",
	   "execution_count": null,
	   "metadata": {
	    "collapsed": true
	   },
	   "outputs": [],
"source": [
"//16.12\n",
"clc;\n",
"//P_input=W1+W2=15000........(i)\n",
"pf=0.4\n",
"phi=acosd(0.4);\n",
"a=tand(phi);\n",
"//tand(phi)=(3^0.5)*(W1-W2)/(W1+W2)\n",
"//on solving  W1-W2=3464.2 ..............(ii)\n",
"//From (i) and (ii) we can calculate\n",
"W1=9.232;\n",
"W2=5.768;\n",
"printf('\nW1=%.2f kW',W1)\n",
"printf('\nW2=%.2fkW ',W2)"
   ]
   }
,
{
		   "cell_type": "markdown",
		   "metadata": {},
		   "source": [
			"## Example 16.13: Calculate_the_value_of_power_and_power_factor.sci"
		   ]
		  },
  {
"cell_type": "code",
	   "execution_count": null,
	   "metadata": {
	    "collapsed": true
	   },
	   "outputs": [],
"source": [
"//16.13\n",
"clc;\n",
"W1=10;\n",
"W2=-1.2;\n",
"P_absorbed=W1+W2;\n",
"printf('\nPower=%.2f kW',P_absorbed)\n",
"phi=atand((3^0.5)*(W1-W2)/(W1+W2));\n",
"pf=cosd(phi);\n",
"printf('\nPower Factor=%.2f ',pf)"
   ]
   }
,
{
		   "cell_type": "markdown",
		   "metadata": {},
		   "source": [
			"## Example 16.14: Calculate_the_readings_of_watt_meters.sci"
		   ]
		  },
  {
"cell_type": "code",
	   "execution_count": null,
	   "metadata": {
	    "collapsed": true
	   },
	   "outputs": [],
"source": [
"//16.14\n",
"clc;\n",
"P_input=10*735.5/0.82;\n",
"//P_input=W1+W2=8974........(i)\n",
"pf=0.4\n",
"phi=acosd(0.83);\n",
"a=tand(phi);\n",
"//tand(phi)=(3^0.5)*(W1-W2)/(W1+W2)\n",
"//on solving  W1-W2=3482 ..............(ii)\n",
"//From (i) and (ii) we can calculate\n",
"W1=6.228;\n",
"W2=2.746;\n",
"printf('\nW1=%.2f kW',W1)\n",
"printf('\nW2=%.2fkW ',W2)"
   ]
   }
,
{
		   "cell_type": "markdown",
		   "metadata": {},
		   "source": [
			"## Example 16.1: Calculate_Line_and_phase_current.sci"
		   ]
		  },
  {
"cell_type": "code",
	   "execution_count": null,
	   "metadata": {
	    "collapsed": true
	   },
	   "outputs": [],
"source": [
"//16.1\n",
"clc;\n",
"disp('For star connected load')\n",
"Il=50000/((3^0.5)*440*0.85);\n",
"printf('\nLine current=%.2f A',I1)\n",
"Iph=Il;\n",
"printf('\nPhase current=%.2f A',Iph)\n",
"disp('For Delta connected load')\n",
"Il=50000/((3^0.5)*440*0.85);\n",
"printf('\nLine current=%.2f A',I1)\n",
"Iph=Il/(3^0.5);\n",
"printf('\nPhase current=%.2f A',Iph)"
   ]
   }
,
{
		   "cell_type": "markdown",
		   "metadata": {},
		   "source": [
			"## Example 16.2: 2Calculate_line_current_and_total_power.sci"
		   ]
		  },
  {
"cell_type": "code",
	   "execution_count": null,
	   "metadata": {
	    "collapsed": true
	   },
	   "outputs": [],
"source": [
"//16.2\n",
"clc;\n",
"disp('For star connection')\n",
"Zph=(12^2+5^2)^0.5;\n",
"Eph=440/(3^0.5);\n",
"Iph=Eph/Zph;\n",
"Il=Iph;\n",
"printf('\nLine current=%.2f A',I1)\n",
"P_total=(3^0.5)*440*Il*12/(Zph*1000);\n",
"printf('\nTotal Power=%.2f kW',P_total)\n",
"\n",
"disp('For Delta connection')\n",
"Zph=(12^2+5^2)^0.5;\n",
"Eph=440;\n",
"Iph=Eph/Zph;\n",
"Il=Iph*(3^0.5);\n",
"printf('\nLine current=%.2f A',I1)\n",
"P_total=(3^0.5)*440*Il*12/(Zph*1000);\n",
"printf('\nTotal Power=%.2f kW',P_total)"
   ]
   }
,
{
		   "cell_type": "markdown",
		   "metadata": {},
		   "source": [
			"## Example 16.3: Calculate_the_resistance_and_inductive_reactance_of_the_load.sci"
		   ]
		  },
  {
"cell_type": "code",
	   "execution_count": null,
	   "metadata": {
	    "collapsed": true
	   },
	   "outputs": [],
"source": [
"//16.3\n",
"clc;\n",
"pf=(1.8*1000)/(1100*(3^0.5));\n",
"Z=1100/100;\n",
"R=Z*pf;\n",
"printf('\nResistance of the load=%.2f ohm',R)\n",
"Xl=(121-108)^0.5;\n",
"L=Xl/314;\n",
"printf('\nInductive reactance of the load=%.2f H',L)"
   ]
   }
,
{
		   "cell_type": "markdown",
		   "metadata": {},
		   "source": [
			"## Example 16.4: Calculate_phase_voltage_and_total_power.sci"
		   ]
		  },
  {
"cell_type": "code",
	   "execution_count": null,
	   "metadata": {
	    "collapsed": true
	   },
	   "outputs": [],
"source": [
"//16.4\n",
"clc;\n",
"Eph=400/(3^0.5);\n",
"printf('\nPhase voltage=%.2f V',Eph)\n",
"P_total=(3^0.5)*400*30*cosd(30)/1000;\n",
"printf('\nTotal power=%.2f kW',P_total)"
   ]
   }
,
{
		   "cell_type": "markdown",
		   "metadata": {},
		   "source": [
			"## Example 16.5: Calculate_current_in_each_generator_and_motor_phase.sci"
		   ]
		  },
  {
"cell_type": "code",
	   "execution_count": null,
	   "metadata": {
	    "collapsed": true
	   },
	   "outputs": [],
"source": [
"//16.5\n",
"clc;\n",
"Out_motor=80*735.5;\n",
"Input_motor=Out_motor/0.8;\n",
"I_alternator_phase=120.64;\n",
"I_motor_phase= I_alternator_phase/(3^0.5);\n",
"printf('\nCurrent in each motor phase=%.2f A',I_motor_phase)\n",
"printf('\nCurrent in each generator phase=%.2f A',I_alternator_phase)"
   ]
   }
,
{
		   "cell_type": "markdown",
		   "metadata": {},
		   "source": [
			"## Example 16.6: Calculate_the_circuit_parameters.sci"
		   ]
		  },
  {
"cell_type": "code",
	   "execution_count": null,
	   "metadata": {
	    "collapsed": true
	   },
	   "outputs": [],
"source": [
"//16.6\n",
"clc;\n",
"El=400;\n",
"Eph=El;\n",
"Impedance_per_phase= (10^2+15^2)^0.5;\n",
"Iph= 400/Impedance_per_phase;\n",
"printf('\nPhase current=%.2f A',Iph)\n",
"Il=Iph*3^0.5;\n",
"printf('\nLine current=%.2f A',I1)\n",
"pf=10/Impedance_per_phase;\n",
"printf('\nPower factor=%.2f ',pf)\n",
"P_total=(3^0.5)*El*Il*pf/1000;\n",
"printf('\nTotal Power=%.2f kW',P_total)\n",
"VAR=(3^0.5)*El*Il*15/(Impedance_per_phase*1000);\n",
"printf('\nReactive volt ampers=%.2f KVAR',VAR)\n",
"VA=(3^0.5)*El*Il/1000;\n",
"printf('\nTotal Volt ampers=%.2f kVA',VA)"
   ]
   }
,
{
		   "cell_type": "markdown",
		   "metadata": {},
		   "source": [
			"## Example 16.7: Calculate_the_reduction_in_power.sci"
		   ]
		  },
  {
"cell_type": "code",
	   "execution_count": null,
	   "metadata": {
	    "collapsed": true
	   },
	   "outputs": [],
"source": [
"//16.7\n",
"clc;\n",
"disp('Star connections')\n",
"R=20;\n",
"Iph=440/(3^0.5*R);\n",
"P_total=3*Iph^2*R;\n",
"disp('when one of the resistor get disconnected')\n",
"Iph=440/(2*20);\n",
"P_total_new=2*Iph^2*R;\n",
"P_reduction=(P_total-P_total_new)*100/P_total;\n",
"printf('\nReduction in Power=%.2f percent',P_reduction)\n",
"disp('Delta connections')\n",
"R=20;\n",
"Iph=440/(R);\n",
"P_total=3*Iph^2*R;\n",
"disp('when one of the resistor get disconnected')\n",
"Iph=440/(20);\n",
"P_total_new=2*Iph^2*R;\n",
"P_reduction=(P_total-P_total_new)*100/P_total;\n",
"printf('\nReduction in Power=%.2f percent',P_reduction)"
   ]
   }
,
{
		   "cell_type": "markdown",
		   "metadata": {},
		   "source": [
			"## Example 16.8: Calculate_the_circuit_parameters.sci"
		   ]
		  },
  {
"cell_type": "code",
	   "execution_count": null,
	   "metadata": {
	    "collapsed": true
	   },
	   "outputs": [],
"source": [
"//16.8\n",
"clc;\n",
"R=3;\n",
"XL=4;\n",
"Z=(R^2+XL^2)^0.5;\n",
"Iph1=440/(3^0.5*Z);\n",
"IL1=Iph1;\n",
"printf('\nLine current=%.1f A',IL1)\n",
"P=3*Iph1^2*R;\n",
"printf('\nPower=%.0f W',P)\n",
"pf1=R/Z;\n",
"printf('\npower factor=%.2f (lag)',pf1)\n",
"IL2=IL1*(4/5);\n",
"Iph2=IL2/3^0.5;\n",
"XL2=440/Iph2;\n",
"C2=1*10^6/(2*50*28.755);\n",
"printf('\nCapacitance=%.1f uF',C2)"
   ]
   }
,
{
		   "cell_type": "markdown",
		   "metadata": {},
		   "source": [
			"## Example 16.9: Calculate_the_circuit_parameters.sci"
		   ]
		  },
  {
"cell_type": "code",
	   "execution_count": null,
	   "metadata": {
	    "collapsed": true
	   },
	   "outputs": [],
"source": [
"//16.9\n",
"clc;\n",
"IL=11000;\n",
"Eph=IL/3^0.5;\n",
"printf('\nLine to neutral voltage=%.2f V',Eph)\n",
"E_Each_phase=Eph;\n",
"printf('\nVoltage induced in Each phase winding=%.2f V',E_Each_phase)\n",
"T=(242/360)*(1/50)*1000;\n",
"printf('\nTime interval=%.2f ms',T)\n",
"IL_peak=(2^0.5)*IL;\n",
"printf('\nPeak line voltage=%.2f V',IL_peak)"
   ]
   }
],
"metadata": {
		  "kernelspec": {
		   "display_name": "Scilab",
		   "language": "scilab",
		   "name": "scilab"
		  },
		  "language_info": {
		   "file_extension": ".sce",
		   "help_links": [
			{
			 "text": "MetaKernel Magics",
			 "url": "https://github.com/calysto/metakernel/blob/master/metakernel/magics/README.md"
			}
		   ],
		   "mimetype": "text/x-octave",
		   "name": "scilab",
		   "version": "0.7.1"
		  }
		 },
		 "nbformat": 4,
		 "nbformat_minor": 0
}
