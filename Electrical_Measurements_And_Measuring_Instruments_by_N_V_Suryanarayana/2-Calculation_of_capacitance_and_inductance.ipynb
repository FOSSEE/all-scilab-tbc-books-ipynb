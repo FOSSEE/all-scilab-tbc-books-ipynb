{
"cells": [
 {
		   "cell_type": "markdown",
	   "metadata": {},
	   "source": [
       "# Chapter 2: Calculation of capacitance and inductance"
	   ]
	},
{
		   "cell_type": "markdown",
		   "metadata": {},
		   "source": [
			"## Example 2.1: Calculate_the_self_inductance_of_the_coil.sci"
		   ]
		  },
  {
"cell_type": "code",
	   "execution_count": null,
	   "metadata": {
	    "collapsed": true
	   },
	   "outputs": [],
"source": [
"//2.1\n",
"clc;\n",
"N=400;\n",
"a=4*10^-4;\n",
"MUo=4*%pi*10^-7;\n",
"MUr=800;\n",
"l=0.3;\n",
"L=(MUo*MUr*a*N^2)/l;\n",
"printf('Self inductance of the coil=%.3f H',L)"
   ]
   }
,
{
		   "cell_type": "markdown",
		   "metadata": {},
		   "source": [
			"## Example 2.2: Calculate_stored_charge_and_potential_gradient.sci"
		   ]
		  },
  {
"cell_type": "code",
	   "execution_count": null,
	   "metadata": {
	    "collapsed": true
	   },
	   "outputs": [],
"source": [
"// 2.2\n",
"clc;\n",
"P0=8.854*10^-12;\n",
"Pr1=5.5;\n",
"d1=10^-3;\n",
"b1=d1/Pr1;\n",
"Pr2=2.2;\n",
"d2=10^-3;\n",
"b2=d2/Pr2;\n",
"Pr3=1.5;\n",
"d3=10^-3;\n",
"b3=d3/Pr3;\n",
"A=100*10^-4;\n",
"C=P0*A/(b1+b2+b3);\n",
"V=5000;\n",
"Q=C*V*10^6;\n",
"printf('stored charge in the capacitor=%.2f coulombs',Q)\n",
"D=Q/A;\n",
"D=146*10^-6;\n",
"g1=D*10^-3/(P0*Pr1);\n",
"printf('\npotential gradient g1=%.2f kV/m',g1)\n",
"g2=D*10^-3/(P0*Pr2);\n",
"printf('\npotential gradient g2=%.2f kV/m',g2)\n",
"g3=D*10^-3/(P0*Pr3);\n",
"printf('\npotential gradient g3=%.2f kV/m',g3)"
   ]
   }
,
{
		   "cell_type": "markdown",
		   "metadata": {},
		   "source": [
			"## Example 2.3: Calculate_the_capacitance_of_the_cable.sci"
		   ]
		  },
  {
"cell_type": "code",
	   "execution_count": null,
	   "metadata": {
	    "collapsed": true
	   },
	   "outputs": [],
"source": [
"// 2.3\n",
"clc;\n",
"a=0.5/2;\n",
"b=0.25+0.4;\n",
"Pr=4.5;\n",
"C=(0.024*Pr)/(log10(b/a))\n",
"C_total=300*C\n",
"printf('\ncapacitance of the cable=%.2f uF',C_total)"
   ]
   }
],
"metadata": {
		  "kernelspec": {
		   "display_name": "Scilab",
		   "language": "scilab",
		   "name": "scilab"
		  },
		  "language_info": {
		   "file_extension": ".sce",
		   "help_links": [
			{
			 "text": "MetaKernel Magics",
			 "url": "https://github.com/calysto/metakernel/blob/master/metakernel/magics/README.md"
			}
		   ],
		   "mimetype": "text/x-octave",
		   "name": "scilab",
		   "version": "0.7.1"
		  }
		 },
		 "nbformat": 4,
		 "nbformat_minor": 0
}
