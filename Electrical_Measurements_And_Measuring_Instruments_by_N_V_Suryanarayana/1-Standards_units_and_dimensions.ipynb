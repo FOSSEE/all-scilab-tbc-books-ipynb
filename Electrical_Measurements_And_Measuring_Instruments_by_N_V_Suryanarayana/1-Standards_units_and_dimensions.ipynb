{
"cells": [
 {
		   "cell_type": "markdown",
	   "metadata": {},
	   "source": [
       "# Chapter 1: Standards units and dimensions"
	   ]
	},
{
		   "cell_type": "markdown",
		   "metadata": {},
		   "source": [
			"## Example 1.17: Find_the_various_parameters_of_measurement.sci"
		   ]
		  },
  {
"cell_type": "code",
	   "execution_count": null,
	   "metadata": {
	    "collapsed": true
	   },
	   "outputs": [],
"source": [
"//1.17\n",
"clc;\n",
"Y=90;\n",
"X=89;\n",
"Error_absolute=Y-X;\n",
"disp(Error_absolute,'absolute Error')\n",
"Error_relative=(Y-X)*100/Y;\n",
"disp(Error_relative,'relative Error (percent)=')\n",
"Accuracy_relative=1-Error_relative;\n",
"disp(Accuracy_relative,'Accuracy relative=')\n",
"Accuracy_percentage=100*Accuracy_relative;\n",
"disp(Accuracy_percentage,'Accuracy(percentage)=') "
   ]
   }
,
{
		   "cell_type": "markdown",
		   "metadata": {},
		   "source": [
			"## Example 1.18: Find_the_precision_of_the_8th_reading.sci"
		   ]
		  },
  {
"cell_type": "code",
	   "execution_count": null,
	   "metadata": {
	    "collapsed": true
	   },
	   "outputs": [],
"source": [
"//1.18\n",
"clc;\n",
"S=98+100+102+98+100+100+104+104+105+97;\n",
"n=10;\n",
"Avg=S/n;\n",
"P=1-abs((104-Avg)/Avg);\n",
"printf('Precision for the 8th reading=%.2f',P)"
   ]
   }
,
{
		   "cell_type": "markdown",
		   "metadata": {},
		   "source": [
			"## Example 1.19: Find_the_value_and_limiting_error_of_Resistance.sci"
		   ]
		  },
  {
"cell_type": "code",
	   "execution_count": null,
	   "metadata": {
	    "collapsed": true
	   },
	   "outputs": [],
"source": [
"//1.19\n",
"clc;\n",
"V=10;\n",
"I=20*10^-3;\n",
"RI=50;\n",
"R=(V/I)-RI;\n",
"printf('The value of Resistance=%.0f ohm',R)\n",
"dV=0.2;\n",
"dI=1*10^-3;\n",
"dRI=5;\n",
"dR=(dV/I)+(V*dI/I^2)+(dRI)\n",
"printf('\nLimiting error of resistance=%.0f ohm',dR)"
   ]
   }
,
{
		   "cell_type": "markdown",
		   "metadata": {},
		   "source": [
			"## Example 1.20: Find_the_resistance_and_uncertainty_in_resistance.sci"
		   ]
		  },
  {
"cell_type": "code",
	   "execution_count": null,
	   "metadata": {
	    "collapsed": true
	   },
	   "outputs": [],
"source": [
"//1.20\n",
"clc;\n",
"R0=5;\n",
"a=0.004;\n",
"T=30;\n",
"R=R0*(1+a*(T-20));\n",
"printf('Resistance of the wire=%.1f ohm',R)\n",
"//Let (dR/dR0) =b ; (dR/da)=c ; (dR/dT)=d\n",
"b=(1+a*(T-20));\n",
"c=R0*(T-20);\n",
"d=R0*a;\n",
"ur0=5*0.003;\n",
"ua=0.004*0.01;\n",
"ut=1;\n",
"uR=(b^2*ur0^2+c^2*ua^2+d^2*ut^2)^0.5;\n",
"printf('Uncertanity in resistance=%.2f ohm',uR)"
   ]
   }
,
{
		   "cell_type": "markdown",
		   "metadata": {},
		   "source": [
			"## Example 1.21: Find_the_least_square_line.sci"
		   ]
		  },
  {
"cell_type": "code",
	   "execution_count": null,
	   "metadata": {
	    "collapsed": true
	   },
	   "outputs": [],
"source": [
"//1.21\n",
"clc;\n",
"X_mean=(15+20+25+30+35+45)/6;\n",
"printf('The sample mean of the temperature=%.2f degree C',X_mean)\n",
"Y_mean=(1.9+1.93+1.97+2+2.01+2.01+1.94+1.95+1.97+2.02+2.02+2.04)/12*10^-6;\n",
"printf('\nThe sample mean of the faliure=%.6f failures/hour',Y_mean)\n",
"disp('from these values we get')\n",
"a=1.80*10^-6;\n",
"b=0.00226;\n",
"disp('Y=1.80+0.00226x    is the required least square line')"
   ]
   }
,
{
		   "cell_type": "markdown",
		   "metadata": {},
		   "source": [
			"## Example 1.22: Using_the_chi_square_test_estimate_the_probability_that_the_coin_is_unweighted.sci"
		   ]
		  },
  {
"cell_type": "code",
	   "execution_count": null,
	   "metadata": {
	    "collapsed": true
	   },
	   "outputs": [],
"source": [
"//1.22\n",
"clc;\n",
"n=2;\n",
"k=1;\n",
"dof=n-k;\n",
"chi_square=(3-5)^2/5+(7-5)^2/5;\n",
"disp(chi_square,'Chi square value=')\n",
"disp('From the dof and chi square value we find P=0.22')\n",
"disp('Hence there are 22% chance that the distribution is just the result of random fluctuations and the coin may be unweighted')"
   ]
   }
,
{
		   "cell_type": "markdown",
		   "metadata": {},
		   "source": [
			"## Example 1.23: Find_the_assigned_value_and_uncertainty_associated_with_measurement.sci"
		   ]
		  },
  {
"cell_type": "code",
	   "execution_count": null,
	   "metadata": {
	    "collapsed": true
	   },
	   "outputs": [],
"source": [
"//1.23\n",
"clc;\n",
"X_mean=501*1/5;\n",
"printf('\nAssigned Value=%.1f V',X_mean)\n",
"sigma={(1/(5-1))*((100.2-X_mean)^2+(100.3-X_mean)^2+(100.2-X_mean)^2+(100.2-X_mean)^2+(100.1-X_mean)^2)}^0.5;\n",
"//disp('For 95% confidance level student factor t is 2.78')\n",
"t=2.78;\n",
"n=5;\n",
"Ur=t*sigma/(n^0.5);\n",
"printf('\nUncertanity=%.3f V',Ur)"
   ]
   }
],
"metadata": {
		  "kernelspec": {
		   "display_name": "Scilab",
		   "language": "scilab",
		   "name": "scilab"
		  },
		  "language_info": {
		   "file_extension": ".sce",
		   "help_links": [
			{
			 "text": "MetaKernel Magics",
			 "url": "https://github.com/calysto/metakernel/blob/master/metakernel/magics/README.md"
			}
		   ],
		   "mimetype": "text/x-octave",
		   "name": "scilab",
		   "version": "0.7.1"
		  }
		 },
		 "nbformat": 4,
		 "nbformat_minor": 0
}
