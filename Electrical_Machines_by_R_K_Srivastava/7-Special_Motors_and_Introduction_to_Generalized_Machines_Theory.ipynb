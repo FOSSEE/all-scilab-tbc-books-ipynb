{
"cells": [
 {
		   "cell_type": "markdown",
	   "metadata": {},
	   "source": [
       "# Chapter 7: Special Motors and Introduction to Generalized Machines Theory"
	   ]
	},
{
		   "cell_type": "markdown",
		   "metadata": {},
		   "source": [
			"## Example 7.10: To_find_synchronous_linear_speed_per_phase_current_and_pf.sce"
		   ]
		  },
  {
"cell_type": "code",
	   "execution_count": null,
	   "metadata": {
	    "collapsed": true
	   },
	   "outputs": [],
"source": [
"\n",
"// ELECTRICAL MACHINES\n",
"// R.K.Srivastava\n",
"// First Impression 2011\n",
"// CENGAGE LEARNING INDIA PVT. LTD\n",
"\n",
"// CHAPTER : 7 : SPECIAL MOTORS AND INTRODUCTION TO GENERALIZED MACHINE THEORY\n",
"\n",
"// EXAMPLE : 7.10\n",
"\n",
"clear ; clc ; close ; // Clear the work space and console\n",
" \n",
"\n",
"// GIVEN DATA\n",
"\n",
"L = 1.0;                                            // Length in Meter\n",
"S = 60;                                             // Number of slots\n",
"f = 50;                                             // Frequency in Hertz\n",
"v = 440;                                            // Operating Volage of the Motor in Volts\n",
"V = 11.5;                                           // Running speed of the motor in Meter/second\n",
"m = 3;                                              // Number of phases\n",
"p = 8;                                              // Total number of Poles\n",
"\n",
"\n",
"// CALCULATIONS\n",
"\n",
"Vs = (2*L*f)/p;                                         // Synchronous linear speed in Meter/second\n",
"s = (Vs-V)/Vs;                                          // Linear slip\n",
"Vph = v/sqrt(3);                                        // Phase Voltage in Volts\n",
"Z1 = 6.0 + %i*5;                                        // Impedance in Ohms refer figure and page no. 526\n",
"Z2 = ((100*%i)*(5*%i+8.2/s))/(100*%i+5*%i+8.2/s);       // Impedance in Ohms refer figure and page no. 526\n",
"Z = Z1 + Z2;                                            // Total Impedance in Ohms\n",
"I = Vph/Z;                                              // Per phase Current when Machine is running at 11.5 m/s in Amphere\n",
"pf = cosd(atand(imag(I),real(I)));                      // Power factor lagging\n",
"\n",
"\n",
"// DISPLAY RESULTS\n",
"\n",
"disp('EXAMPLE : 7.10 : SOLUTION :-') ;\n",
"printf('\n (a) Synchronous linear speed, Vs = %.1f m/s \n ',Vs);\n",
"printf('\n (b) Per phase current when Machine is running at 11.5 m/s, I = %.2f < %.2f A \n',abs(I),atand(imag(I),real(I)))"
   ]
   }
,
{
		   "cell_type": "markdown",
		   "metadata": {},
		   "source": [
			"## Example 7.11: To_find_input_pulse_rate_in_pulses_per_second.sce"
		   ]
		  },
  {
"cell_type": "code",
	   "execution_count": null,
	   "metadata": {
	    "collapsed": true
	   },
	   "outputs": [],
"source": [
"\n",
"// ELECTRICAL MACHINES\n",
"// R.K.Srivastava\n",
"// First Impression 2011\n",
"// CENGAGE LEARNING INDIA PVT. LTD\n",
"\n",
"// CHAPTER : 7 : SPECIAL MOTORS AND INTRODUCTION TO GENERALIZED MACHINE THEORY\n",
"\n",
"// EXAMPLE : 7.11\n",
"\n",
"clear ; clc ; close ; // Clear the work space and console\n",
" \n",
"\n",
"// GIVEN DATA\n",
"\n",
"s = 9;                                              // Degree per step of the stepper motor\n",
"N = 200;                                            // Rotation Speed of the Stepper motor in RPM\n",
"\n",
"\n",
"// CALCULATIONS\n",
"\n",
"spr = 360/s;                                       // Steps Per Revolution (360 is full revolution)\n",
"pps = (N*spr)/60;                                       // Input pulse rate in pulses per second\n",
"\n",
"\n",
"// DISPLAY RESULTS\n",
"\n",
"disp('EXAMPLE : 7.11: SOLUTION :-');\n",
"printf('\n (a) Input pulse rate is %.2f pulses per second \n',pps)"
   ]
   }
,
{
		   "cell_type": "markdown",
		   "metadata": {},
		   "source": [
			"## Example 7.13: To_find_torque_and_state_whether_force_is_positive_or_negative.sce"
		   ]
		  },
  {
"cell_type": "code",
	   "execution_count": null,
	   "metadata": {
	    "collapsed": true
	   },
	   "outputs": [],
"source": [
"\n",
"// ELECTRICAL MACHINES\n",
"// R.K.Srivastava\n",
"// First Impression 2011\n",
"// CENGAGE LEARNING INDIA PVT. LTD\n",
"\n",
"// CHAPTER : 7 : SPECIAL MOTORS AND INTRODUCTION TO GENERALIZED MACHINE THEORY\n",
"\n",
"// EXAMPLE : 7.13\n",
"\n",
"clear ; clc ; close ; // Clear the work space and console\n",
" \n",
"\n",
"// GIVEN DATA\n",
"\n",
"L1 = 1.1;                                               // Inductance in Henry\n",
"L2 = 1.07;                                              // Inductance in Henry\n",
"dtheta = 1;                                             // Rotor rotation in Mechanical degree\n",
"r = 0.10;                                               // Radius of the rotor in Meter\n",
"I = 20;                                                 // Coil Current in Amphere\n",
"\n",
"\n",
"// CALCULATIONS\n",
"\n",
"dl = L1-L2;                                             // Change in Inductance of one of its stator coils in Henry\n",
"F = (I^2*dl)/(2*dtheta);                                // Force on the single rotor pole in Newton\n",
"T = F*r;                                                // Instantaneous Torque in Newton-meter\n",
"\n",
"\n",
"// DISPLAY RESULTS\n",
"\n",
"disp('EXAMPLE : 7.13: SOLUTION :-');\n",
"printf('\n (a) Instantaneous Torque, T = %.1f N-m \n\n',T)\n",
"printf('The force is a motoring force since inductance of the coil is rising')"
   ]
   }
,
{
		   "cell_type": "markdown",
		   "metadata": {},
		   "source": [
			"## Example 7.14: To_find_positive_sequence_negative_sequence_zero_sequence_voltages.sce"
		   ]
		  },
  {
"cell_type": "code",
	   "execution_count": null,
	   "metadata": {
	    "collapsed": true
	   },
	   "outputs": [],
"source": [
"\n",
"// ELECTRICAL MACHINES\n",
"// R.K.Srivastava\n",
"// First Impression 2011\n",
"// CENGAGE LEARNING INDIA PVT. LTD\n",
"\n",
"// CHAPTER : 7 : SPECIAL MOTORS AND INTRODUCTION TO GENERALIZED MACHINE THEORY\n",
"\n",
"// EXAMPLE : 7.14\n",
"\n",
"clear ; clc ; close ; // Clear the work space and console\n",
" \n",
"\n",
"// GIVEN DATA\n",
"\n",
"Va = 220 * exp( %i * 0 * %pi/180);                                // Three phase in Volts\n",
"Vb = 230 * exp( %i * (-115) * %pi/180);                           //  Three phase in Volts\n",
"Vc = 250 * exp( %i * (-245) * %pi/180);                           //  Three phase in Volts\n",
"\n",
"\n",
"// CALCUALTIONS\n",
"// We know that operator :-\n",
"\n",
"alpha = 1 * exp( %i * 120 * %pi/180);\n",
"alpha2 = 1 * exp( %i * (-120) * %pi/180);\n",
"Va0 = (Va+Vb+Vc)/3                                              // Zero sequence Voltage in Volts\n",
"Va1 = (Va+alpha*Vb+alpha2*Vc)/3                                 // Positive sequence Voltage in Volts\n",
"Va2 = (Va+alpha2*Vb+alpha*Vc)/3                                 // Negative sequence Voltage in Volts\n",
"\n",
"\n",
"// DISPLAY RESULTS\n",
"\n",
"disp('EXAMPLE : 7.14 : SOLUTION :-') ;\n",
"printf('\n (a) Zero sequence Voltage, Va0 = %.2f < %.2f V \n',abs(Va0),atand(imag(Va0),real(Va0)))\n",
"printf('\n (b) Positive sequence Voltage, Va1 = %.3f < %.2f V \n',abs(Va1),atand(imag(Va1),real(Va1)))\n",
"printf('\n (c) Negative sequence Voltage, Va1 = %.2f < %.1f V \n',abs(Va2),atand(imag(Va2),real(Va2)))\n",
"  "
   ]
   }
,
{
		   "cell_type": "markdown",
		   "metadata": {},
		   "source": [
			"## Example 7.1: To_find_induced_EMF.sce"
		   ]
		  },
  {
"cell_type": "code",
	   "execution_count": null,
	   "metadata": {
	    "collapsed": true
	   },
	   "outputs": [],
"source": [
"\n",
"// ELECTRICAL MACHINES\n",
"// R.K.Srivastava\n",
"// First Impression 2011\n",
"// CENGAGE LEARNING INDIA PVT. LTD\n",
"\n",
"// CHAPTER : 7 : SPECIAL MOTORS AND INTRODUCTION TO GENERALIZED MACHINE THEORY\n",
"\n",
"// EXAMPLE : 7.1\n",
"\n",
"clear ; clc ; close ; // Clear the work space and console\n",
"\n",
"\n",
"// GIVEN DATA\n",
"\n",
"D = 35*10^-2;                               // Outer diameter of the conducting disk in Meter\n",
"d = 10*10^-2;                               // Inner diameter of the conducting disk in Meter\n",
"B = 1.0;                                    // Axial magnetic field in Telsa\n",
"N = 900;                                    // Rotating shaft running in RPM\n",
"\n",
"\n",
"// CALCULATIONS\n",
"\n",
"Wr = (2*%pi*N)/60;                           // Rotational angular speed in radians/s\n",
"Er = ((D^2-d^2)*B*Wr)/8;                     // EMF induced in Volts\n",
"\n",
"\n",
"// DISPLAY RESULTS\n",
"\n",
"disp('EXAMPLE : 7.1: SOLUTION :-');\n",
"printf('\n (a) Induced EMF in the outer and inner rims of the disk, Er = %.4f V \n',Er)"
   ]
   }
,
{
		   "cell_type": "markdown",
		   "metadata": {},
		   "source": [
			"## Example 7.2: To_find_torque_and_number_of_the_conductors_required.sce"
		   ]
		  },
  {
"cell_type": "code",
	   "execution_count": null,
	   "metadata": {
	    "collapsed": true
	   },
	   "outputs": [],
"source": [
"\n",
"// ELECTRICAL MACHINES\n",
"// R.K.Srivastava\n",
"// First Impression 2011\n",
"// CENGAGE LEARNING INDIA PVT. LTD\n",
"\n",
"// CHAPTER : 7 : SPECIAL MOTORS AND INTRODUCTION TO GENERALIZED MACHINE THEORY\n",
"\n",
"// EXAMPLE : 7.2\n",
"\n",
"clear ; clc ; close ; // Clear the work space and console\n",
"\n",
"\n",
"// GIVEN DATA\n",
"\n",
"D = 0.120;                  // Outer Radius of the Printed Circuit Motor in meter\n",
"d = 0.060;                  // Inner Radius of the Printed Circuit Motor in meter\n",
"    B = 0.7;                // Axial Flux Density in Telsa\n",
"V = 12;                     // Volage Supplied to the Motor in Volts\n",
"R = 2700;                   // Motor Speed in RPM\n",
"n = 0.65;                   // Efficiency of Motor\n",
"p = 94;                     // Output Power of Motor in Watts\n",
"I = 12;                     // Motor current in Ampheres\n",
"\n",
"\n",
"// CALCULATIONS\n",
"\n",
"w = ((2*(%pi))*R)/60;        // The Angular Velocity in Radians/second\n",
"T = p/w;                     // Torque in Newton-Meter\n",
"N = (8*T)/((D^2-d^2)*B*I)    // Total Number of Conductors\n",
"\n",
"\n",
"// DISPLAY RESULTS\n",
"\n",
"disp('EXAMPLE : 7.2 : SOLUTION :-') ;\n",
"printf('\n (a) Torque, T = %.2f N-m \n ',T);\n",
"printf('\n (b) Total Number of Conductors, N = %.2f nearly 30 \n',N);"
   ]
   }
,
{
		   "cell_type": "markdown",
		   "metadata": {},
		   "source": [
			"## Example 7.3: To_find_resultant_torque_and_stator_phase_currents.sce"
		   ]
		  },
  {
"cell_type": "code",
	   "execution_count": null,
	   "metadata": {
	    "collapsed": true
	   },
	   "outputs": [],
"source": [
"\n",
"// ELECTRICAL MACHINES\n",
"// R.K.Srivastava\n",
"// First Impression 2011\n",
"// CENGAGE LEARNING INDIA PVT. LTD\n",
"\n",
"// CHAPTER : 7 : SPECIAL MOTORS AND INTRODUCTION TO GENERALIZED MACHINE THEORY\n",
"\n",
"// EXAMPLE : 7.3\n",
"\n",
"clear ; clc ; close ; // Clear the work space and console\n",
"\n",
"\n",
"// GIVEN DATA\n",
"\n",
"m = 2;                                          // Total number of phase in servo Motor\n",
"f = 50;                                         // Frequency in Hertz\n",
"V = 220;                                        // Operating Voltage of the servo Motor in Volts\n",
"R1 = 250;                                       // Circuit Parameter in Ohms\n",
"R2 = 750;                                       // Circuit Parameter in Ohms\n",
"X1 = 50;                                        // Circuit Parameter in Ohms\n",
"X2 = 50;                                        // Circuit Parameter in Ohms\n",
"Xm = 1000;                                      // Circuit Parameter in Ohms\n",
"s = 0.6;                                        // Slip\n",
"Va = 220;                                       // Unbalanced Voltage in Volts\n",
"Vb = 150 * exp(%i * (-60) * %pi/180);           // Unbalanced Voltage in Volts\n",
"\n",
"\n",
"// CALCULATIONS\n",
"\n",
"Va1 = (Va + %i*Vb)/2;                                      // Positive sequence voltage in Volts\n",
"Va2 = (Va - %i*Vb)/2;                                      // Negative sequence voltage in Volts\n",
"Z11 = (R1+%i*X1);\n",
"Z12 =  (((%i*Xm)*(R2/s+%i*X2))/(%i*Xm+R2/s+%i*X2));\n",
"Z1 = Z11 + Z12 ;                                           // Positive sequence impedance in Ohms\n",
"Z2 = (R1+%i*X1) + (((%i*Xm)*(R2/(2-s)+%i*X2))/(%i*Xm+R2/(2-s)+%i*X2));    // Negative sequence impedance in Ohms\n",
"Ia1 = Va1/Z1;                                              // Positive sequence current in Amphere\n",
"I12 = (Ia1*Z12)/(R2/s);                                    // Positive sequence current in Amphere\n",
"Ia2 = Va2/Z2;                                              // Negative sequence current in Amphere\n",
"I22 = (Ia2*Z2)/(R2/(2-s));                                 // Negative sequence current in Amphere\n",
"T1 = 2*(abs(I12)^2)*R2/s;                                  // Positive sequence torque in Newton-meter\n",
"T2 = 2*(abs(I22)^2)*R2/(2-s);                              // Negative sequence torque in Newton-meter\n",
"T = T1 - T2;                                               // Resultant torque in Newton-meter\n",
"Ia = Ia1 + Ia2;                                            // Line current in Amphere\n",
"Ib = (-%i*Ia1) + (%i*Ia2);                                 // Line current in Amphere\n",
"\n",
"\n",
"// DISPLAY RESULTS\n",
"\n",
"disp('EXAMPLE : 7.3: SOLUTION :-');\n",
"printf('\n (a) Resultant torque, T = %.2f N-m \n',T)\n",
"printf('\n (b) Phase currents (line currents), Ia = %.2f < %.2f A \n\n                                     Ib = %.2f < %.2f \n',abs(Ia),atand(imag(Ia),real(Ia)),abs(Ib),atand(imag(Ib),real(Ib)))\n",
"printf('\n\n IN THE ABOVE PROBLEM ALL THE VALUES PRINTED IN THE TEXT BOOK ARE NOT ACCURATE, SO VALUE OF THE TORQUE AND LINE CURRENTS ARE DIFFERING, WHEN WE COMPARED TO THE TEXT BOOK ANSWERS FOR THE SAME. \n\n')\n",
"printf('\n IN EVERY CALCULATED PARAMETER IN THE TEXT BOOK SLIGHT VARIATION IS THERE AS WE COMPARED TO MANUAL CALCULATION ITS FROM POSITIVE SEQUENCE VOLTAGE (Va1) \n')"
   ]
   }
,
{
		   "cell_type": "markdown",
		   "metadata": {},
		   "source": [
			"## Example 7.4: To_find_the_resultant_torque.sce"
		   ]
		  },
  {
"cell_type": "code",
	   "execution_count": null,
	   "metadata": {
	    "collapsed": true
	   },
	   "outputs": [],
"source": [
"\n",
"// ELECTRICAL MACHINES\n",
"// R.K.Srivastava\n",
"// First Impression 2011\n",
"// CENGAGE LEARNING INDIA PVT. LTD\n",
"\n",
"// CHAPTER : 7 : SPECIAL MOTORS AND INTRODUCTION TO GENERALIZED MACHINE THEORY\n",
"\n",
"// EXAMPLE : 7.4\n",
"\n",
"clear ; clc ; close ; // Clear the work space and console\n",
"\n",
"\n",
"// GIVEN DATA\n",
"\n",
"m = 2;                                          // Total number of phase in AC drag-cup servo Motor\n",
"p = 2;                                          // Number of poles\n",
"Va = 220;                                       // Operating Voltage of the servo Motor in Volts\n",
"R1 = 350;                                       // Circuit Parameter in Ohms\n",
"R2 = 250;                                       // Circuit Parameter in Ohms\n",
"X1 = 60;                                        // Circuit Parameter in Ohms\n",
"X2 = 50;                                        // Circuit Parameter in Ohms\n",
"Xm = 900;                                       // Circuit Parameter in Ohms\n",
"s = 0.3;                                        // Slip\n",
"p = 0.8;                                        // Ratio of the control winding and main winding voltage\n",
"\n",
"\n",
"// CALCULATIONS\n",
"\n",
"Va1 = (Va*(1+p))/2;                                        // Positive sequence voltage in Volts\n",
"Va2 = (Va*(1-p))/2;                                        // Negative sequence voltage in Volts\n",
"Z11 = (R1+%i*X1);\n",
"Z12 =  (((%i*Xm)*(R2/s+%i*X2))/(%i*Xm+R2/s+%i*X2));\n",
"Z1 = Z11 + Z12 ;                                           // Positive sequence impedance in Ohms\n",
"Z2 = (R1+%i*X1) + (((%i*Xm)*(R2/(2-s)+%i*X2))/(%i*Xm+R2/(2-s)+%i*X2));    // Negative sequence impedance in Ohms\n",
"Ia1 = Va1/Z1;                                              // Positive sequence current in Amphere\n",
"I12 = (Ia1*Z12)/(R2/s);                                    // Positive sequence current in Amphere\n",
"Ia2 = Va2/Z2;                                              // Negative sequence current in Amphere\n",
"I22 = (Ia2*Z2)/(R2/(2-s));                                 // Negative sequence current in Amphere\n",
"T1 = 2*(abs(I12)^2)*R2/s;                                  // Positive sequence torque in Newton-meter\n",
"T2 = 2*(abs(I22)^2)*R2/(2-s);                              // Negative sequence torque in Newton-meter\n",
"T = T1 - T2;                                               // Resultant torque in Newton-meter\n",
"\n",
"\n",
"// DISPLAY RESULTS\n",
"\n",
"disp('EXAMPLE : 7.4: SOLUTION :-');\n",
"printf('\n (a) Resultant torque, T = %.2f N-m \n',T)\n",
"printf('\n\n IN THE ABOVE PROBLEM ALL THE VALUES PRINTED IN THE TEXT BOOK ARE NOT ACCURATE, SO VALUE OF THE TORQUE AND LINE CURRENTS ARE DIFFERING WHEN WE COMPARED TO THE TEXT BOOK ANSWERS FOR THE SAME. \n\n')\n",
"printf('\n IN EVERY CALCULATED PARAMETER IN THE TEXT BOOK SLIGHT VARIATION IS THERE AS WE COMPARED TO MANUAL CALCULATION ITS FROM POSITIVE SEQUENCE IMPEDANCE (Z1) \n')\n",
""
   ]
   }
,
{
		   "cell_type": "markdown",
		   "metadata": {},
		   "source": [
			"## Example 7.5: To_find_speed_and_pf.sce"
		   ]
		  },
  {
"cell_type": "code",
	   "execution_count": null,
	   "metadata": {
	    "collapsed": true
	   },
	   "outputs": [],
"source": [
"\n",
"// ELECTRICAL MACHINES\n",
"// R.K.Srivastava\n",
"// First Impression 2011\n",
"// CENGAGE LEARNING INDIA PVT. LTD\n",
"\n",
"// CHAPTER : 7 : SPECIAL MOTORS AND INTRODUCTION TO GENERALIZED MACHINE THEORY\n",
"\n",
"// EXAMPLE : 7.5\n",
"\n",
"clear ; clc ; close ; // Clear the work space and console\n",
"\n",
"\n",
"// GIVEN DATA\n",
"\n",
"R = 15;                                             // Resistance of the fractional horse power AC series motor in Ohms\n",
"V = 230;                                            // AC supply voltage in Volts\n",
"f = 50;                                             // Frequency in Hertz\n",
"I = 1.2;                                            // Motor current in Amphere\n",
"NDC = 2500;                                         // Rotating speed of the Motor during DC Operation in RPM\n",
"L = 0.5;                                            // Total inductance in Henry\n",
"\n",
"\n",
"// CALCUALTIONS\n",
"\n",
"X = 2*%pi*f*L;                                                  // Reactance in Ohms\n",
"NAC = NDC * (sqrt(V^2-(I*X)^2)-(I*R)) / (V-(I*R));              // Rotating speed of the Motor during AC Operation in RPM\n",
"pf = sqrt(1-((I*X)/V)^2);                                       // Power factor lagging\n",
"\n",
"\n",
"// DISPLAY RESULTS\n",
"\n",
"disp('EXAMPLE : 7.5: SOLUTION :-');\n",
"printf('\n When the Motor operting at AC 230V, 50 Hz \n\n (a) NAC = %.f RPM \n',NAC)\n",
"printf('\n (b) Power factor = %.4f lagging \n',pf)"
   ]
   }
,
{
		   "cell_type": "markdown",
		   "metadata": {},
		   "source": [
			"## Example 7.6: EX7_6.sce"
		   ]
		  },
  {
"cell_type": "code",
	   "execution_count": null,
	   "metadata": {
	    "collapsed": true
	   },
	   "outputs": [],
"source": [
"\n",
"// ELECTRICAL MACHINES\n",
"// R.K.Srivastava\n",
"// First Impression 2011\n",
"// CENGAGE LEARNING INDIA PVT. LTD\n",
"\n",
"// CHAPTER : 7 : SPECIAL MOTORS AND INTRODUCTION TO GENERALIZED MACHINE THEORY\n",
"\n",
"// EXAMPLE : 7.6\n",
"\n",
"clear ; clc ; close ; // Clear the work space and console\n",
"\n",
"\n",
"// GIVEN DATA\n",
"\n",
"R = 1.4;                                            // Total Resistance of the AC series motor in Ohms\n",
"V = 115;                                            // supply voltage in Volts\n",
"f = 50;                                             // Frequency in Hertz\n",
"N = 5000;                                           // Rotating speed in RPM\n",
"X = 12;                                             // Total reactance in Ohms\n",
"P = 250;                                            // Electrical power output in Watts\n",
"loss = 18;                                          // Rotational losses in Watts\n",
"\n",
"\n",
"// CALCULATIONS\n",
"\n",
"Pd = P + loss;                                          // Mechanical power developed in Watts\n",
"// We know that Er = Pd/I and from phasor diagram in figure 7.11 page no. 501 V^2 = (Er+I*R)^2+(I*X)^2, 115^2 = (268/I-1.4*I)^2+(12*I)^2, 13225*I^2 = 71824+2.036*I^4-750.4*I^2+144*I^2, solving this we get 2.036*I^4-13831.4*I^2+71824 = 0, I^4-6793.42*I^2+3577 = 0 this gives I = 2.28A or 82.38A (The above calculation part is wrong )\n",
"i = poly ([3577 0 -6793.42 0 1],'x','coeff');                   // Expression for the Current in Quadratic form\n",
"a = roots (i);                                                  // 4-Value of the current in Amphere  \n",
"I = a(4,1);                                                     // Curent in Amphere neglecting higher value and negative value\n",
"\n",
"pf_a = sqrt(1-((I*X)/V)^2);                                     // Power factor lagging\n",
"Er_a = sqrt(V^2-(I*X)^2)-(I*R);                                 // Rotational Voltage in Volts\n",
"T_a = (Er_a*I)/(2*%pi*N/60);                                    // Developed torque in Newton-meter\n",
"Ih = I/2;                                                       // Current halved in Amphere\n",
"pf_b = sqrt(1-((Ih*X)/V)^2);                                    // Power factor lagging when load current halved\n",
"Er_b = sqrt(V^2-(Ih*X)^2)-(Ih*R);                               // Rotational Voltage in Volts when load current halved\n",
"N2 = (N*Er_b*I)/(Er_a*Ih);                                      // New speed in RPM when load current halved\n",
"T_b = (Er_b*Ih)/(2*%pi*N2/60);                                  // Developed torque in Newton-meter when load current halved\n",
"eta = 100*(Er_b*Ih)/(V*Ih*pf_b);                                // Efficiency when load current halved\n",
"\n",
"\n",
"// DISPLAY RESULTS\n",
"\n",
"disp('EXAMPLE : 7.6: SOLUTION :-');\n",
"printf('\n At rated condition, \n\n (a.1) Current, I = %.2f A \n',I)\n",
"printf('\n (a.2) Power factor = %.3f lagging \n',pf_a)\n",
"printf('\n (a.3) Developed torque = %.2f N-m \n',T_a)\n",
"printf('\n When load current halved (reduced to half), \n\n (b.1) Speed, N2 = %.f RPM \n',N2)\n",
"printf('\n (b.2) Power factor = %.4f lagging \n',pf_b)\n",
"printf('\n (b.3) Developed torque = %.2f N-m \n',T_b)\n",
"printf('\n (b.4) Efficiency = %.1f percenatge \n',eta)\n",
"printf('\n From Calculation of the Current(I), rest all the Calculated values in the TEXT BOOK is WRONG because of the Current equation and its value both are WRONGLY calculated and the same used for the further Calculation part, so all the values are in the TEXT BOOK IS WRONG \n')"
   ]
   }
,
{
		   "cell_type": "markdown",
		   "metadata": {},
		   "source": [
			"## Example 7.7: To_find_line_current_pf_and_efficiency_of_motor.sce"
		   ]
		  },
  {
"cell_type": "code",
	   "execution_count": null,
	   "metadata": {
	    "collapsed": true
	   },
	   "outputs": [],
"source": [
"\n",
"// ELECTRICAL MACHINES\n",
"// R.K.Srivastava\n",
"// First Impression 2011\n",
"// CENGAGE LEARNING INDIA PVT. LTD\n",
"\n",
"// CHAPTER : 7 : SPECIAL MOTORS AND INTRODUCTION TO GENERALIZED MACHINE THEORY\n",
"\n",
"// EXAMPLE : 7.7\n",
"\n",
"clear ; clc ; close ; // Clear the work space and console\n",
"\n",
"\n",
"// GIVEN DATA\n",
"\n",
"V = 220;                                            // supply voltage in Volts\n",
"f = 50;                                             // Frequency in Hertz\n",
"p = 4;                                              // Number of poles\n",
"Xm = 50;                                            // Mutual reactance in Ohms\n",
"Rs = 0.4;                                           // Resistance of stator windings in Ohms\n",
"Xs = 2.5;                                           // Leakage reactance of stator windings in Ohms\n",
"Ra = 2.2;                                           // Resistance of Armature windings in Ohms\n",
"Xa = 3.1;                                           // Leakage reactance of armature windings in Ohms\n",
"loss = 30;                                          // Rotational losses in Watts\n",
"N = 2000;                                           // Motor running speed in RPM\n",
"\n",
"\n",
"// CALCULATIONS\n",
"\n",
"Ns = (120*f)/p;                                                        // Synchronous speed in RPM\n",
"s = N/Ns;                                                              // Speed ratio\n",
"I1 = V/(2*Rs + 2*%i*Xs + 2*%i*Xm + (%i*Xm^2)*((s-%i)/(Ra+%i*Xa+%i*Xm)));// line current in Amphere\n",
"pf = cosd(atand(imag(I1),real(I1)));                                   // Power factor lagging\n",
"I2 = (s-%i)*(%i*Xm*I1)/(Ra+%i*Xa+%i*Xm);                                  // line current in Amphere\n",
"P1 = V*abs(I1)*cosd(atand(imag(I1),real(I1)));                         // Input power in Watts\n",
"Pm = P1 - 2*(abs(I1)^2)*Rs - (abs(I2)^2)*Ra;                           // Mechanical power developed in Watts\n",
"Po = Pm - loss;                                                        // output power in Watts\n",
"eta = 100*(Po/P1);                                                     // Efficiency \n",
"\n",
"\n",
"// DISPLAY RESULTS\n",
"\n",
"disp('EXAMPLE : 7.7: SOLUTION :-');\n",
"printf('\n (a) Line currents, I1 = %.2f < %.2f A and I2 = %.2f < %.2f A \n',abs(I1),atand(imag(I1),real(I1)),abs(I2),atand(imag(I2),real(I2)))\n",
"printf('\n (b) Power factor = %.2f lagging \n',pf)\n",
"printf('\n (c) Efficiency = %.2f percentage \n',eta)\n",
"printf('\n\n    [ TEXT BOOK SOLUTION IS PRINTED WRONGLY ( I verified by manual calculation )]\n' );\n",
"printf('\n      WRONGLY PRINTED ANSWERS ARE :- (a) I1 = 3.37 < -42.78 A instead of %.2f < j(%.2f) A \n ',abs(I1),atand(imag(I1),real(I1)));\n",
"printf('\n                                     (b) I2 = 5.26 < -77.34 A instead of %.2f < j(%.2f) A \n ',abs(I2),atand(imag(I2),real(I2)));\n",
"printf('\n                                     (b) eta = 81.53 percent instead of %.2f percent  \n ',eta)\n",
"printf('\n From Calculation of the I1, rest all the Calculated values in the TEXT BOOK is WRONG because of the I1 value is WRONGLY calculated and the same used for the further Calculation part \n')"
   ]
   }
,
{
		   "cell_type": "markdown",
		   "metadata": {},
		   "source": [
			"## Example 7.8: To_find_current_and_pf_of_the_motor.sce"
		   ]
		  },
  {
"cell_type": "code",
	   "execution_count": null,
	   "metadata": {
	    "collapsed": true
	   },
	   "outputs": [],
"source": [
"\n",
"// ELECTRICAL MACHINES\n",
"// R.K.Srivastava\n",
"// First Impression 2011\n",
"// CENGAGE LEARNING INDIA PVT. LTD\n",
"\n",
"// CHAPTER : 7 : SPECIAL MOTORS AND INTRODUCTION TO GENERALIZED MACHINE THEORY\n",
"\n",
"// EXAMPLE : 7.8\n",
"\n",
"clear ; clc ; close ; // Clear the work space and console\n",
"\n",
"\n",
"// GIVEN DATA\n",
"\n",
"V = 220;                                            // supply voltage in Volts\n",
"f = 50;                                             // Frequency in Hertz\n",
"p = 4;                                              // Number of poles\n",
"Xm = 60;                                            // Mutual reactance in Ohms\n",
"Rs = 1.0;                                           // Resistance of stator windings in Ohms\n",
"Xs = 6.0;                                           // Leakage reactance of stator windings in Ohms\n",
"Ra = 2.5;                                           // Resistance of Armature windings in Ohms\n",
"Xa = 6.0;                                           // Leakage reactance of armature windings in Ohms\n",
"P_hp = 1;                                           // Output power in HP\n",
"N = 1400;                                           // Motor running speed in RPM\n",
"alpha = 15;                                         // Brush displacement from the low-impedance position in degree \n",
"\n",
"// CALCULATIONS\n",
"\n",
"Ns = (120*f)/p;                                                        // Synchronous speed in RPM\n",
"s = N/Ns;                                                              // Speed ratio\n",
"I = V / (Rs + %i*(Xs+Xm) + (%i*Xm^2*cosd(alpha))*(s*sind(alpha)-(%i*cosd(alpha)))/(Ra+%i*(Xa+Xm)));                                               // Curent in Amphere\n",
"pf = cosd(atand(imag(I),real(I)));                                     // Power factor lagging\n",
"\n",
"\n",
"// DISPLAY RESULTS\n",
"\n",
"disp('EXAMPLE : 7.8: SOLUTION :-');\n",
"printf('\n (a) Currents, I = %.2f < %.2f A \n',abs(I),atand(imag(I),real(I)))\n",
"printf('\n (b) Power factor = %.4f lagging \n',pf)"
   ]
   }
,
{
		   "cell_type": "markdown",
		   "metadata": {},
		   "source": [
			"## Example 7.9: To_find_no_load_slips.sce"
		   ]
		  },
  {
"cell_type": "code",
	   "execution_count": null,
	   "metadata": {
	    "collapsed": true
	   },
	   "outputs": [],
"source": [
"\n",
"// ELECTRICAL MACHINES\n",
"// R.K.Srivastava\n",
"// First Impression 2011\n",
"// CENGAGE LEARNING INDIA PVT. LTD\n",
"\n",
"// CHAPTER : 7 : SPECIAL MOTORS AND INTRODUCTION TO GENERALIZED MACHINE THEORY\n",
"\n",
"// EXAMPLE : 7.9\n",
"\n",
"clear ; clc ; close ; // Clear the work space and console\n",
"\n",
"\n",
"// GIVEN DATA\n",
"\n",
"E2 = 100;                                   // Per phase standstill EMF in Volts\n",
"Z2s = 0.025 + %i*0.08;                      // Rotor circuit impedance at standstill\n",
"E = 50;                                     // Injected EMF in Volts\n",
"\n",
"\n",
"// CALCULATIONS\n",
"\n",
"I2 = 0;                                     // Assuming Current is zero\n",
"s1 = (E/E2)+(I2*Z2s)/E2;                    // Slip when injected EMF is opposite to the E2 \n",
"s2 = (-E/E2)+(I2*Z2s)/E2;                   // Slip when injected EMF is phase with E2 \n",
"\n",
"\n",
"// DISPLAY RESULTS\n",
"\n",
"disp('EXAMPLE : 7.9: SOLUTION :-');\n",
"printf('\n (a) Slip when injected EMF is opposite to the E2, s = %.1f \n',s1)\n",
"printf('\n (b) Slip when injected EMF is phase with E2, s = %.1f \n',s2)"
   ]
   }
],
"metadata": {
		  "kernelspec": {
		   "display_name": "Scilab",
		   "language": "scilab",
		   "name": "scilab"
		  },
		  "language_info": {
		   "file_extension": ".sce",
		   "help_links": [
			{
			 "text": "MetaKernel Magics",
			 "url": "https://github.com/calysto/metakernel/blob/master/metakernel/magics/README.md"
			}
		   ],
		   "mimetype": "text/x-octave",
		   "name": "scilab",
		   "version": "0.7.1"
		  }
		 },
		 "nbformat": 4,
		 "nbformat_minor": 0
}
