{
"cells": [
 {
		   "cell_type": "markdown",
	   "metadata": {},
	   "source": [
       "# Chapter 2: Forces in a Electromagnetic System"
	   ]
	},
{
		   "cell_type": "markdown",
		   "metadata": {},
		   "source": [
			"## Example 2.1: To_find_flux_flux_density_and_magnetic_field_intensity_in_the_core.sce"
		   ]
		  },
  {
"cell_type": "code",
	   "execution_count": null,
	   "metadata": {
	    "collapsed": true
	   },
	   "outputs": [],
"source": [
"\n",
"// ELECTRICAL MACHINES\n",
"// R.K.Srivastava\n",
"// First Impression 2011\n",
"// CENGAGE LEARNING INDIA PVT. LTD \n",
"\n",
"// CHAPTER : 2 : FORCES IN AN ELECTROMAGNETIC SYSTEMS\n",
"\n",
"// EXAMPLE : 2.1 \n",
"\n",
"clear ; clc ; close ; // Clear the work space and console\n",
"\n",
"\n",
"// GIVEN DATA\n",
"\n",
"A = 0.0001;                // The Cross-sectional area of core in metre-square \n",
"Mo = 4*%pi*(10)^(-7);      // Permeability of air in Henre/metre\n",
"Mr = 1000;                 // Relative permeability of core\n",
"N1 = 10;N2=20;N3=10;       // Number of turns\n",
"I1 = 1.0;I2=0.5;I3=1.5;    // Currents in Amphere\n",
"d = 2.5;                   // Dimension of inner window in centimetre\n",
"w = 1.0;                   // Each limb wide in centimeter\n",
"\n",
"\n",
"// CALCULATIONS\n",
"\n",
"F = (N1*I1)+(N2*I2)-(N3*I3);          // MMF in Amphere-turns (minus because third coil produces the flux in opposite direction to that of other to coils)\n",
"L = ((d*4)+(I2*2*4))*10^-2;           // Length of the Magnetic path in metre (4-is sides of the windows)(2-Going and returning of current I2)\n",
"R = L/(Mr*Mo*A);                      // Reluctance of the Magnetic path in MKS unit of Reluctance\n",
"phi = (F*10^3)/R;                     // Flux in milli-Weber\n",
"B = phi/A;                            // Flux Density in Weber/metre Square\n",
"H = F/L;                              // Magnetic Field Intensity in Amphere-turns/Metre\n",
"\n",
"\n",
"// DISPLAY RESULTS\n",
"\n",
"disp('EXAMPLE : 2.1 : SOLUTION :-') ;\n",
"printf('\n (a) Flux in the core, phi = %.6f mWb ,\n',phi);\n",
"printf('\n (b) Flux Density in the core, B = %.2f Wb/metre square  \n',B);\n",
"printf('\n (c) Magnetic Field Intensity in the core, H = %.2f At/m  \n',H);"
   ]
   }
,
{
		   "cell_type": "markdown",
		   "metadata": {},
		   "source": [
			"## Example 2.2: EX2_2.sce"
		   ]
		  },
  {
"cell_type": "code",
	   "execution_count": null,
	   "metadata": {
	    "collapsed": true
	   },
	   "outputs": [],
"source": [
"\n",
"// ELECTRICAL MACHINES\n",
"// R.K.Srivastava\n",
"// First Impression 2011\n",
"// CENGAGE LEARNING INDIA PVT. LTD \n",
"\n",
"// CHAPTER : 2 : FORCES IN AN ELECTROMAGNETIC SYSTEMS\n",
"\n",
"// EXAMPLE : 2.2 \n",
"\n",
"clear ; clc ; close ; // Clear the work space and console\n",
"\n",
"\n",
"// GIVEN DATA\n",
"\n",
"N = 100;               // Number of turns\n",
"La = 0.3;              // Mean arc length of material 'a' is a Nickel-iron alloy in Metre\n",
"Lb = 0.2;              // Mean arc length of material 'b' is a Steel in Metre\n",
"Lc = 0.1;              // Mean arc length of material 'c' is a Cast Steel in Metre\n",
"a = 0.001;             // Area of the all Materials 'a,b,c' in Metre-Square\n",
"phi = 6*10^-4;         // Magnetic Flux in Weber\n",
"mue_0 = 4*%pi*10^ -7;  // Permeability of the air in Henry/Meter\n",
"\n",
"\n",
"// CALCULATIONS\n",
"\n",
"B = phi/a;                      // Flux Density in Telsa (Here Flux Density same for all the Materials 'a,b,c' because Area of Cross Section is Same)\n",
"Ha = 10;                        // Fileld Intensity in Amphere-Turn/Meter Correspounding to Flux density (B) of material 'a' obtained from the Standard B-H curve\n",
"Hb = 77;                        // Fileld Intensity in Amphere-Turn/Meter Correspounding to Flux density (B) of material 'b' obtained from the Standard B-H curve\n",
"Hc = 270;                       // Fileld Intensity in Amphere-Turn/Meter Correspounding to Flux density (B) of material 'c' obtained from the Standard B-H curve\n",
"F = (Ha*La)+(Hb*Lb)+(Hc*Lc);    // The Total MMF Required in Amphere-Turns\n",
"I = F/N;                        // Current flowing through the Coil in Amphere\n",
"mue_r_a = B/(Ha*mue_0);        // Relatative permeability of the Material 'a'\n",
"mue_r_b = B/(Hb*mue_0);        // Relatative permeability of the Material 'a'\n",
"mue_r_c = B/(Hc*mue_0);        // Relatative permeability of the Material 'a'\n",
"Ra = (Ha*La)/phi;              // Relucatnce of the Material 'a' in MKS unit\n",
"Rb = (Hb*Lb)/phi;              // Relucatnce of the Material 'b' in MKS unit\n",
"Rc = (Hc*Lc)/phi;              // Relucatnce of the Material 'c' in MKS unit\n",
"L = (N*phi)/I;                 // Inductance of the Coil in Henry\n",
"\n",
"\n",
"// DISPLAY RESULTS\n",
"\n",
"disp('EXAMPLE : 2.2 : SOLUTION :-') ;\n",
"printf('\n (a)   The Total MMF , F = %.1f At \n ',F);\n",
"printf('\n (b)   Current flowing through the Coil , I = %.3f A \n',I);\n",
"printf('\n (c.1) Relatative permeability of the Material a, mue_r_a = %.f \n ',mue_r_a);\n",
"printf('\n (c.2) Relatative permeability of the Material b, mue_r_b = %.f \n ',mue_r_b);\n",
"printf('\n (c.3) Relatative permeability of the Material c, mue_r_c = %.f \n ',mue_r_c);\n",
"printf('\n (c.4) Relucatnce of the Material a, Ra= %.f MKS unit \n',Ra);\n",
"printf('\n (c.5) Relucatnce of the Material b, Rb= %.1f MKS unit \n',Rb);\n",
"printf('\n (c.6) Relucatnce of the Material c, Rc= %.f MKS unit \n',Rc);\n",
"printf('\n (d)   Inductance of the Coil , L = %.4f H \n',L);"
   ]
   }
,
{
		   "cell_type": "markdown",
		   "metadata": {},
		   "source": [
			"## Example 2.3: To_find_magnetic_field_produced_by_an_appiled_MMf_of_35At.sce"
		   ]
		  },
  {
"cell_type": "code",
	   "execution_count": null,
	   "metadata": {
	    "collapsed": true
	   },
	   "outputs": [],
"source": [
"\n",
"// ELECTRICAL MACHINES\n",
"// R.K.Srivartava\n",
"// First Impression 2011\n",
"// CENGAGE LEARNING INDIA PVT. LTD \n",
"\n",
"// CHAPTER : 2 : FORCES IN AN ELECTROMAGNETIC SYSTEMS\n",
"\n",
"// EXAMPLE : 2.3 \n",
"\n",
"clear ; clc ; close ; // Clear the work space and console\n",
"\n",
"\n",
"// GIVEN DATA\n",
"\n",
"F = 35;                // Total MMF in Amphere-Turns\n",
"Lc = 0.1;              // Inductance of The Material 'c' in Henry \n",
"a = 0.001;             // Area of the all Materials 'a,b,c' in Metre-Square\n",
"\n",
"\n",
"// CALCULATIONS\n",
"\n",
"Hc = F/Lc;              // Field Intensity in Amphere-Turns/Meter (Given that entire MMf apperas on Material 'c' Because of the highest reluctance about 45000 MKS unit From Example 2.2)\n",
"Bc = 0.65;              // Flux density of material 'c' in in Telsa obtained from the Standard B-H curve\n",
"phi = Bc*a;             // Flux in the core in Weber\n",
"Ba = Bc;                // Flux density of material 'a' in in Telsa Same because Area of Cross Section is Same\n",
"Bb = Bc;                // Flux density of material 'b' in in Telsabecause Area of Cross Section is Same\n",
"\n",
"\n",
"// DISPLAY RESULTS\n",
"\n",
"disp('EXAMPLE : 2.3 : SOLUTION :-') ;\n",
"printf('\n (a) Flux in the core , phi = %.5f Wb \n ',phi);\n",
"printf('\n (b) Flux density of material a,b,c , Ba = Bb = Bc %.2f T \n',Ba);"
   ]
   }
,
{
		   "cell_type": "markdown",
		   "metadata": {},
		   "source": [
			"## Example 2.4: EX2_4.sce"
		   ]
		  },
  {
"cell_type": "code",
	   "execution_count": null,
	   "metadata": {
	    "collapsed": true
	   },
	   "outputs": [],
"source": [
"\n",
"// ELECTRICAL MACHINES\n",
"// R.K.Srivastava\n",
"// First Impression 2011\n",
"// CENGAGE LEARNING INDIA PVT. LTD \n",
"\n",
"// CHAPTER : 2 : FORCES IN AN ELECTROMAGNETIC SYSTEMS\n",
"\n",
"// EXAMPLE : 2.4\n",
"\n",
"clear ; clc ; close ; // Clear the work space and console\n",
"\n",
"\n",
"// GIVEN DATA\n",
"// Refer figure 2.7:- Page no. 41\n",
"\n",
"a = 0.0001;                // Cross Sectional Area of the Core in Meter-Square\n",
"Li = 0.158;                // Total length of the Path abcdef in Meter (4.0*4.0 - 0.2 = 15.8cm = 0.158m)\n",
"Lg = 0.002;                // Length of the air gap in Meter\n",
"mue_0 = 4*%pi*10^-7;       // Permeability of the air in Henry/Meter\n",
"mue_r = 10000;             // Permeability of the core\n",
"N = 10;                    // Number of Turns\n",
"I = 1.0;                   // Current in the Coil in Amphere\n",
"v = 50;                    // hall effect sensor generates volatge produces in milli volt per 1 Telsa\n",
"Li_new = 0.16;              // Length of the Flux path in Absence of the Air gap in Meter\n",
"\n",
"\n",
"// CALCUALTIONS\n",
"\n",
"F = N*I;                         // MMF of the Coil in Amphere-turn\n",
"Ri = Li/(mue_0*mue_r*a);         // Relucatnce of the Iron Coil in MKS unit\n",
"Rg = Lg/(mue_0*a);               // Relucatnce of air gap in MKS unit\n",
"R = Ri+Rg;                       // Total Reluctance in MKS unit\n",
"phi = F/R;                       // Flux in the Core in Weber\n",
"B = phi/a;                       // FLux density in the core(Presence of the Air gap) in Weber/Meter-Square\n",
"HEV = B*50;                      // Output of the Hall effect Sensor device in Milli-Volt\n",
"R_new = Li_new/(mue_0*mue_r*a)   // Relucatance of the Magnetic Circuit in Absence of the Air gap\n",
"phi_new = F/R_new;               // New Flux in the Core in Weber\n",
"B_new = phi_new/a;               // New FLux density in the core in Weber/Meter-Square\n",
"Ratio = B_new/B;                 // Ratio of the Flux Density in Absence of the Air gap and in the presence of the Air gap \n",
"\n",
"\n",
"// DISPLAY RESULTS\n",
"\n",
"disp('EXAMPLE : 2.4 : SOLUTION :-') ;\n",
"printf('\n (a) Flux density in the core(Presence of the Air gap) , B = %.8f Wb/Meter-Square \n ',B);\n",
"printf('\n (b) Output of the Hall effect Sensor device , HEV = %.7f mV \n',HEV);\n",
"printf('\n (c) Ratio of the Flux Density in Absence of the Air gap and in the presence of the Air gap , Ratio = %.2f \n ',Ratio);"
   ]
   }
,
{
		   "cell_type": "markdown",
		   "metadata": {},
		   "source": [
			"## Example 2.5: EX2_5.sce"
		   ]
		  },
  {
"cell_type": "code",
	   "execution_count": null,
	   "metadata": {
	    "collapsed": true
	   },
	   "outputs": [],
"source": [
"\n",
"// ELECTRICAL MACHINES\n",
"// R.K.Srivastava\n",
"// First Impression 2011\n",
"// CENGAGE LEARNING INDIA PVT. LTD \n",
"\n",
"// CHAPTER : 2 : FORCES IN AN ELECTROMAGNETIC SYSTEMS\n",
"\n",
"// EXAMPLE : 2.5 \n",
"\n",
"clear ; clc ; close ; // Clear the work space and console\n",
"\n",
"\n",
"// GIVEN DATA\n",
"// Refer figure 2.3(a):- Page no. 36\n",
"\n",
"B = 1.0;                    // Flux Density in the Core in Weber/Meter-Square\n",
"Liron = 0.55;               // Mean length of the flux path of Iron in Meter\n",
"Lair = 0.002;               // Mean length of the flux path of Air Gap in Meter\n",
"I = 20;                     // Coil Current in Amphere\n",
"H = 200;                    // Field Intensity in Amphere-Turns/Meter\n",
"mue_r = 20000;              // Relative permeability of Ferrite core\n",
"mue_0 = 4*%pi*10^-7;        // Permeability of the air in Henry/Meter\n",
"a = 0.0025;                 // Area of the Cross sectional of the core oin Metre-Square\n",
"\n",
"\n",
"// CALCULATIONS \n",
"\n",
"phi = B*a;                             // Toatl Flux in the core in Weber\n",
"Rair = Lair/(mue_0*a);                 // Relucatnce in the Air gap\n",
"Fair = Rair*phi;                       // MMf in the Air gap in Amphere-Turns\n",
"Firon = H*Liron;                       // MMf in the Iron core in Amphere-Turns\n",
"F = Firon+Fair;                        // Total MMF in Amphere-Turns\n",
"N = F/I;                               // Number of turns in the Coil\n",
"F_new = B/(mue_0*mue_r);               // Field Intensity in Amphere-Turns/Meter\n",
"F_new_total = (Fair+F_new);            // Total MMF in Amphere-Turns\n",
"N_new = F_new_total/I;                 // Number of turns in the Coil\n",
"\n",
"\n",
"// DISPLAY RESULTS\n",
"\n",
"disp('EXAMPLE : 2.5 : SOLUTION :-') ;\n",
"printf('\n (a) Number of turns in the Coil in air gap made of Silicon Steel having an field intensity 200At/m corresounds to 1.0 T Flux Density , N = %.2f appoximately 85 \n ',N);\n",
"printf('\n (b) Number of turns in the Coil for a ferrite core of having Relative premeability of 20000 and magnetic Field Density corresponnds to 1.0 T , N_new = %.2f appoximately 82  \n',N_new);"
   ]
   }
],
"metadata": {
		  "kernelspec": {
		   "display_name": "Scilab",
		   "language": "scilab",
		   "name": "scilab"
		  },
		  "language_info": {
		   "file_extension": ".sce",
		   "help_links": [
			{
			 "text": "MetaKernel Magics",
			 "url": "https://github.com/calysto/metakernel/blob/master/metakernel/magics/README.md"
			}
		   ],
		   "mimetype": "text/x-octave",
		   "name": "scilab",
		   "version": "0.7.1"
		  }
		 },
		 "nbformat": 4,
		 "nbformat_minor": 0
}
