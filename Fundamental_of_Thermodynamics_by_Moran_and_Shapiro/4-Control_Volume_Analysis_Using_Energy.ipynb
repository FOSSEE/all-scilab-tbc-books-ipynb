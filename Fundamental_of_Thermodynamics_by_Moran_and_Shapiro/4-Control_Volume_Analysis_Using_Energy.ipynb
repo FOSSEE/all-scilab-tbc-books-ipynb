{
"cells": [
 {
		   "cell_type": "markdown",
	   "metadata": {},
	   "source": [
       "# Chapter 4: Control Volume Analysis Using Energy"
	   ]
	},
{
		   "cell_type": "markdown",
		   "metadata": {},
		   "source": [
			"## Example 4.10: Example.sce"
		   ]
		  },
  {
"cell_type": "code",
	   "execution_count": null,
	   "metadata": {
	    "collapsed": true
	   },
	   "outputs": [],
"source": [
"// Given:-\n",
"P1 = 1.0                      // pressure of industrial discharge in bar\n",
"T1 = 478.0                    // temperature of industrial discharge in kelvin\n",
"m1dot = 69.78                 // mass flow rate of industrial discharge in kg/s\n",
"T2 = 400.0                    // temperature of exit products from steam generator in kelvin\n",
"P2 = 1.0                      // pressure of exit products from steam generator in bar\n",
"P3 = 0.275                    // pressure of water stream entering the generator in Mpa\n",
"T3 = 38.9                     // temperature of water stream entering the generator in degree celcius\n",
"m3dot = 2.079                 // mass flow rate of water stream entering in kg/s\n",
"P5 = 0.07                     // exit pressure of the turbine in bars\n",
"x5 = 0.93                     // quality of turbine exit\n",
"// Part (a)\n",
"m2dot = m1dot                 // since gas and water streams do not mix\n",
"m5dot = m3dot                 // --DO\n",
"// from table A-22, A-2 and A-3:-\n",
"h1 = 480.3                    // in kj/kg\n",
"h2 = 400.98                   // in Kj/kg\n",
"h3 = 162.9                    // assumption: h3 = hf(T3), units in Kj/kg\n",
"hf5 = 161.0                   // in kj/kg\n",
"hg5 = 2571.72                 // in kj/kg\n",
"// Part (b)\n",
"P4 = P3                       // from the assumption that there is no pressure drop for water flowing through the steam generator\n",
"T4 = 180                      // in degree celcius\n",
"// Calculations:-\n",
"h5 = hf5 + x5*(hg5-hf5)\n",
"Wcvdot = m1dot*h1 + m3dot*h3 - m2dot*h2 - m5dot*h5\n",
"h4 = h3 + (m1dot/m3dot)*(h1 -h2)    // from steady state energy rate balance\n",
"                                    // interpolating in table A-4, with these P4 and h4\n",
"// Results:-\n",
"printf( ' The power developed by the turbine is %.2f kJ/s.',Wcvdot)\n",
"printf( ' Turbine inlet temperature is %.2f degree celcius.',T4)"
   ]
   }
,
{
		   "cell_type": "markdown",
		   "metadata": {},
		   "source": [
			"## Example 4.11: Example.sce"
		   ]
		  },
  {
"cell_type": "code",
	   "execution_count": null,
	   "metadata": {
	    "collapsed": true
	   },
	   "outputs": [],
"source": [
"// Given:-\n",
"V = 0.85                               // volume of tank in m^3\n",
"T1 = 260.0                             // initial temperature of the tank in degree celcius\n",
"X1 = 0.7                               // initial quality\n",
"// from table A-2\n",
"uf1 = 1128.4                           // in kg/kg\n",
"ug1 = 2599.0                           // in kg/kg\n",
"vf1 = 1.2755e-3                        // in m^3/kg\n",
"vg1 = 0.04221                          // in m^3/kg\n",
"// for final state, from table A-2,\n",
"u2 = 2599.0                             // units in KJ/kg \n",
"v2 = 42.21e-3                           // units in m^3/Kg\n",
"he = 2796.6                             // units in KJ/kg\n",
"// Calculations:-\n",
"u1 = uf1 + X1*(ug1-uf1)                 // in kj/kg\n",
"v1 = vf1 + X1*(vg1-vf1)                 // in m^3/kg\n",
"m1 = V/v1                               // initial mass in kg\n",
"m2 =  V/v2                              // final mass in kg\n",
"U2 = m2*u2                              // final internal energy in KJ\n",
"U1 = m1*u1                              // initial internal energy in KJ\n",
"Qcv = (U2-U1) - he*(m2-m1) \n",
"// Results:-\n",
"printf( ' The amount of heat transfer is %.2f KJ.',Qcv)"
   ]
   }
,
{
		   "cell_type": "markdown",
		   "metadata": {},
		   "source": [
			"## Example 4.12: Example.sce"
		   ]
		  },
  {
"cell_type": "code",
	   "execution_count": null,
	   "metadata": {
	    "collapsed": true
	   },
	   "outputs": [],
"source": [
"// Given:- \n",
"Pv = 15.0                                            // pressure in the vessel in bar\n",
"Tv = 320.0                                           // temperature in the vessel in degree celcius\n",
"Vt = 0.6                                             // volume of a tank in m^3\n",
"Tt = 400.0                                           // temperature in the tank in degree celcius when the tank is full\n",
"// Since the tank is initially empty:-\n",
"m1 = 0\n",
"u1 = 0\n",
"// From table A-4, at 15bar and 400 degree celcius:-\n",
"v2 = 0.203                                           // Volume in m^3/kg\n",
"m2 = Vt/v2                                           // mass within the tank at the end of the process in kg\n",
"hi = 3081.9                                          // in kj/kg\n",
"u2 = 2951.3                                          // in kj/kg\n",
"// Calculations:-\n",
"deltaUcv = m2*u2-m1*u1\n",
"Wcv = hi*(m2-m1)-deltaUcv\n",
"// Results:-\n",
"printf( ' The amount of work developed by the turbine is %.2f kJ.',Wcv)"
   ]
   }
,
{
		   "cell_type": "markdown",
		   "metadata": {},
		   "source": [
			"## Example 4.1: Example.sce"
		   ]
		  },
  {
"cell_type": "code",
	   "execution_count": null,
	   "metadata": {
	    "collapsed": true
	   },
	   "outputs": [],
"source": [
"// Given:-\n",
"// At inlet 1:-\n",
"p1= 7.0                                        // pressure in bar\n",
"T2= 200.0                                      // temperature in degree celcius\n",
"m1dot= 40.0                                    // mass flow rate in kg/s\n",
"// At inlet 2:-\n",
"p2= 7.0                                        // pressure in bar\n",
"T2= 40.0                                       // temperature in degree celcius\n",
"A2= 25.0                                       // area in cm^2\n",
"// At exit:-\n",
"p3= 7.0                                        // pressure in bar\n",
"AV3= 0.06                                      // Volumetric flow rate through wxir in m^3/s\n",
"// From table A-3\n",
"v3 = (1.108)*(10**(-3))                        // specific volume at the exit in m^3/kg\n",
"// from table A-2\n",
"v2= (1.0078)*(10**(-3))                        // specific volume in state 2 in m^3/kg\n",
"// Calculation:-\n",
"m3dot= AV3/v3                                  // mass flow rate at exit\n",
"m2dot = m3dot-m1dot                            // mass flow rate at inlet 2\n",
"V2= (m2dot*v2)/(A2*(10**(-4)))\n",
"// Results:-\n",
"printf( ' The mass flow rate at the inlet 2 is %.2f kg/s.',m2dot)\n",
"printf( ' The mass flow rate at the exit is %.2f kg/s.',m3dot)\n",
"printf( ' The velocity at the inlet is %.2f m/s.', V2)"
   ]
   }
,
{
		   "cell_type": "markdown",
		   "metadata": {},
		   "source": [
			"## Example 4.3: Example.sce"
		   ]
		  },
  {
"cell_type": "code",
	   "execution_count": null,
	   "metadata": {
	    "collapsed": true
	   },
	   "outputs": [],
"source": [
"// Given:-\n",
"p1= 40.0                                     // pressure in bar\n",
"T1= 400.0                                    // temperature in degree celcius\n",
"V1= 10.0                                     // velocity m/s\n",
"// At exit:-\n",
"p2= 10.0                                     // pressure in bar\n",
"V2= 665.0                                    // velocity in m/s\n",
"mdot= 2.0                                    // mass flow rate in kg/s\n",
"// From table A-4\n",
"h1= 3213.6                                   // snpecific enthalpy in kJ/kg\n",
"v2 = 0.1627                                  // specific volume at the exit in m^3/kg\n",
"// Calculation:-\n",
"h2 = h1 + ((V1**2-V2**2)/2)/1000             // snpecific enthalpy in kJ/kg\n",
"A2=(mdot*v2)/V2                              // Exit area\n",
"// Results:-\n",
"printf( ' The exit Area of the nozzle is %.4f m^2', A2)"
   ]
   }
,
{
		   "cell_type": "markdown",
		   "metadata": {},
		   "source": [
			"## Example 4.4: Example.sce"
		   ]
		  },
  {
"cell_type": "code",
	   "execution_count": null,
	   "metadata": {
	    "collapsed": true
	   },
	   "outputs": [],
"source": [
"// Given:-\n",
"m1dot = 4600.0                                    // mass flow rate in kg/h\n",
"Wcvdot= 1000.0                                    // turbine power output in kv\n",
"p1= 60.0                                          // pressure in bar\n",
"T1=400.0                                          // temperature in degree celc\n",
"V1= 10.0                                          // velocity in m/s\n",
"// At exit:-\n",
"p2= 0.10                                          // pressure in bar\n",
"q2= 0.90                                          // quality \n",
"V2= 50.0                                          // velocity in m/s\n",
"// From table A-2 and A-3:-\n",
"h1= 3177.2                                        // specific enthalpy at inlet in kJ/kg\n",
"hf2= 191.83\n",
"hg2= 2584.63\n",
"// Calculation:-\n",
"h2 = hf2+q2*(hg2-hf2)                             // specific enthalpy at exit in kJ/kg\n",
"Qcvdot = Wcvdot + m1dot*((h2-h1)+(V2**2- V1**2)/(2*1000))/3600\n",
" \n",
"// Results:-\n",
"printf( ' The rate of heat transfer between the turbine and surroundings is %.2f kW',Qcvdot)"
   ]
   }
,
{
		   "cell_type": "markdown",
		   "metadata": {},
		   "source": [
			"## Example 4.5: Example.sce"
		   ]
		  },
  {
"cell_type": "code",
	   "execution_count": null,
	   "metadata": {
	    "collapsed": true
	   },
	   "outputs": [],
"source": [
"// Given:-\n",
"p1=1.00                                         // pressure in bar\n",
"t1= 290.00                                      // temperature in kelvin\n",
"A1= 0.1                                         // area in m^2\n",
"V1= 6.00                                        // velocity in m/s\n",
"// At exit:-\n",
"p2=7.00                                         // pressure in bar\n",
"t2= 450.00                                      // temperature in kelvin\n",
"V2= 2.00                                        // velocity in m/s\n",
"Qcvdot= -180.0                                  // heat transfer rate in kJ/min\n",
"R= 8.314                                        // universal gas constant in SI units\n",
"// from table A-22\n",
"h1= 290.16                                      // specific enthalpy in kJ/kg\n",
"h2= 451.8                                       // specific enthalpy in kJ/kg\n",
"// Calculations:-\n",
"v1 =  (R*1000*t1)/(28.97*p1*10**5)              // specific volume\n",
"mdot=(A1*V1)/v1                                 // mass flow rate\n",
"Wcvdot = Qcvdot/60 + mdot*((h1-h2)+(V1**2-V2**2)/(2*1000))\n",
"// Results:-\n",
"                      \n",
"printf( ' The power input to the compressor is %.2f kw',Wcvdot)"
   ]
   }
,
{
		   "cell_type": "markdown",
		   "metadata": {},
		   "source": [
			"## Example 4.6: Example.sce"
		   ]
		  },
  {
"cell_type": "code",
	   "execution_count": null,
	   "metadata": {
	    "collapsed": true
	   },
	   "outputs": [],
"source": [
"// Given:-\n",
"// At Entry:=\n",
"t1=20.0                                          // Temperatue in deg celcius\n",
"p1=1.0                                           // pressure in atm\n",
"AV1= 0.1                                         // volumetric flow rate in litre/s\n",
"D1=2.5                                           // Diameter of th hose in cm\n",
"// At Exit:=\n",
"t2=23.0                                          // temperatuer in deg celcius\n",
"p2=1.0                                           // pressure in atm\n",
"V2=50.0                                          // Velocity in m/s\n",
"Z2=5.0                                           // elevation in m\n",
"g= 9.8                                           // acceleration due to gravity in m/s^2\n",
"// from table A-2 and A-19:-\n",
"v= (1.0018)*((10.0)**(-3))                       // specific volume in m^3/kg\n",
"c= 4.18 \n",
"// Calculation:-\n",
"mdot = (AV1/1000)/v                              // mass flow rate in kg/s\n",
"V1= (AV1/1000)/(3.14*(D1/(2*100))**2)            // Entry velocity in m/s\n",
"deltah = c*(t2-t1)+v*(p2-p1)\n",
"Wcvdot= ((mdot*10)/9)*(-deltah+(V1**2-V2**2)/(2*1000)+g*(0-Z2)/1000)\n",
"// Results:-\n",
"printf( ' The power input to the motor is %.2f kw',Wcvdot)"
   ]
   }
,
{
		   "cell_type": "markdown",
		   "metadata": {},
		   "source": [
			"## Example 4.7: Example.sce"
		   ]
		  },
  {
"cell_type": "code",
	   "execution_count": null,
	   "metadata": {
	    "collapsed": true
	   },
	   "outputs": [],
"source": [
"// Given:-\n",
"// Entering:-\n",
"p1=0.1                                        // pressure in bar\n",
"x1= 0.95                                      // Quality\n",
"p2= 0.1                                       // pressure in bar\n",
"t2= 45.0                                        // temperature in deg celcius\n",
"t3=20.0                                         // temperature of cooling entry in deg cel\n",
"t4=35.0                                         // temperature of cooling exit\n",
"// From table A-3\n",
"hf= 191.53                                    // Enthalpy in KJ/kg\n",
"hg= 2584.7                                    // Enthalpy in KJ/kg\n",
"h2=188.45                                     // Assumption at states 2,3 and 4, h is approx equal to hf(T), in kJ/kg\n",
"deltah4_3= 62.7                               // Assumption 4, in kJ/kg\n",
"// Calculations:-\n",
"h1= hf + x1*(hg-hf)\n",
"ratio= (h1-h2)/(deltah4_3)\n",
"QRate= (h2-h1)                                // Part B\n",
"// Results:-\n",
"printf('The rate of the mass flow rate of the cooling water to the mass flow rate of  the condenstaing stream is (m3dot/m1dot) %.2f ',ratio)\n",
"printf('The rate of energy transfer from the condensing steam to the cooling water of the steam passing  through the condenser is %.2f kJ/kg.',QRate)"
   ]
   }
,
{
		   "cell_type": "markdown",
		   "metadata": {},
		   "source": [
			"## Example 4.8: Example.sce"
		   ]
		  },
  {
"cell_type": "code",
	   "execution_count": null,
	   "metadata": {
	    "collapsed": true
	   },
	   "outputs": [],
"source": [
"// Given:-\n",
"T1 = 293.0                                            // In kelvin\n",
"P1= 1.01325 * (10**5)                                 // In pascal\n",
"V1max= 1.3                                            // maximum velocity of entering air in m/s\n",
"T2max= 305.0                                          // maximum temperature at the exit in kelvin\n",
"pec= -80.0                                            // power received by electronic components in watt\n",
"Pf= -18.0                                             // Power received by fan in watt\n",
"R= 8.314                                              // Universal gas constant\n",
"M= 28.97*(10**(-3))                                   // Molar mass of air in kg\n",
"Qcvdot=0                                              // Heat transfer from the outer surface of the electronics enclosure to the surroundings is negligible.\n",
"Cp= 1.005*(10**3)                                     // in j/kg*k\n",
"// Calculations:-\n",
"Wcvdot = pec +Pf                                      // total electric power provided to electronic components and fan in watt\n",
"mdotmin=  (-Wcvdot)/(Cp*(T2max-T1))                   // minimum mass flow rate\n",
"v1= ((R/M)*T1)/P1                                     // specific volume\n",
"A1min = (mdotmin*v1)/V1max\n",
"D1min = (4*A1min/(%pi))**(0.5)\n",
"// Results:-\n",
"printf( ' The smallest fan inlet diameter is %.2f cm',D1min*100)"
   ]
   }
,
{
		   "cell_type": "markdown",
		   "metadata": {},
		   "source": [
			"## Example 4.9: Example.sce"
		   ]
		  },
  {
"cell_type": "code",
	   "execution_count": null,
	   "metadata": {
	    "collapsed": true
	   },
	   "outputs": [],
"source": [
"// Given:-\n",
"P1 = 20.0                             // pressure in supply line in bars\n",
"P2 = 1.0                              // exhaust pressure in bar\n",
"T2 = 120.0                            // exhaust temperature in degree celcius\n",
"// from table A-3 at 20 bars\n",
"hf1 = 908.79                        // Enthalpy in kj/kg\n",
"hg1 = 2799.5                        // Enthalpy in kj/kg\n",
"// from table A-4, at 1 bar and 120 degree celcius\n",
"h2 = 2766.6                         // in kj/kg\n",
"h1 = h2                             // from throttling process assumption\n",
"// Calculations:-\n",
"x1 = (h1-hf1)/(hg1-hf1)\n",
"// Results:-\n",
"printf( ' The quality of the steam in the supply line is %.2f',x1)\n",
"// Note : rounding off error. please check manually."
   ]
   }
],
"metadata": {
		  "kernelspec": {
		   "display_name": "Scilab",
		   "language": "scilab",
		   "name": "scilab"
		  },
		  "language_info": {
		   "file_extension": ".sce",
		   "help_links": [
			{
			 "text": "MetaKernel Magics",
			 "url": "https://github.com/calysto/metakernel/blob/master/metakernel/magics/README.md"
			}
		   ],
		   "mimetype": "text/x-octave",
		   "name": "scilab",
		   "version": "0.7.1"
		  }
		 },
		 "nbformat": 4,
		 "nbformat_minor": 0
}
