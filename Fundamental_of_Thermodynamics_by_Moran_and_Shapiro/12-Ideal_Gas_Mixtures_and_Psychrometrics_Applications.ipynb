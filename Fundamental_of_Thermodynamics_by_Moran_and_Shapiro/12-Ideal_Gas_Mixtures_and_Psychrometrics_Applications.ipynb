{
"cells": [
 {
		   "cell_type": "markdown",
	   "metadata": {},
	   "source": [
       "# Chapter 12: Ideal Gas Mixtures and Psychrometrics Applications"
	   ]
	},
{
		   "cell_type": "markdown",
		   "metadata": {},
		   "source": [
			"## Example 12.10: Example.sce"
		   ]
		  },
  {
"cell_type": "code",
	   "execution_count": null,
	   "metadata": {
	    "collapsed": true
	   },
	   "outputs": [],
"source": [
"// Given :-\n",
"AV1 = 150.0                                                                       // entry volumetric flow rate in m^3/min\n",
"T1 = 10.0                                                                         // entry temperature in degree celcius\n",
"psi1 = 0.8                                                                       \n",
"T2 = 30.0                                                                         // exit temperature in degree celcius\n",
"p = 1.0                                                                           // in bar\n",
"// Part(a)\n",
"Rbar = 8314.0                                                                     // universal gas constant\n",
"Ma = 28.97                                                                        // molar mass of air\n",
"// The specific enthalpies of the dry air are obtained from Table A-22 at the inlet and exit temperatures T1 and T2, respectively:\n",
"ha1 = 283.1                                                                       // in kj/kg\n",
"ha2 = 303.2                                                                       // in kj/kg\n",
"// The specific enthalpies of the water vapor are found using hv  hg and data from Table A-2 at T1 and T2, respectively:\n",
"hv1 = 2519.8                                                                      // in kj/kg\n",
"hv2 = 2556.3                                                                      // in kj/kg\n",
"// From table A-2\n",
"pg1 = 0.01228                                                                     // in bar\n",
"// Calculations\n",
"pv1 = psi1*pg1                                                                    // the partial pressure of the water vapor in bar\n",
"pa1 = p-pv1\n",
"va1 = (Rbar/Ma)*(T1+273)/(pa1*10**5)                                              // specific volume of the dry air in m^3/kg\n",
"madot = AV1/va1                                                                   // mass flow rate of the dry air in kg/min\n",
"omega = 0.622*(pv1/(p-pv1))                                                       // humidity ratio\n",
"Qcvdot = madot*((ha2-ha1)+omega*(hv2-hv1))                                        // in kj/min\n",
"// Result\n",
"printf( 'Rate of heat transfer, in kJ/min is:  %.2f',Qcvdot);\n",
"// Part(b)\n",
"// From Table A-2 at 30C\n",
"pg2 = 0.04246                                                                     // in bar\n",
"// Calculations\n",
"pv2 = pv1\n",
"psi2 = pv2/pg2                                                                    // relative humidity at the exit\n",
"// Result\n",
"printf( 'The relative humidity at the exit is:  %.2f',psi2);"
   ]
   }
,
{
		   "cell_type": "markdown",
		   "metadata": {},
		   "source": [
			"## Example 12.11: Example.sce"
		   ]
		  },
  {
"cell_type": "code",
	   "execution_count": null,
	   "metadata": {
	    "collapsed": true
	   },
	   "outputs": [],
"source": [
"// Given:-\n",
"T1 = 30.0                                                                       // in degree celcius\n",
"AV1 = 280.0                                                                     // in m^3/min\n",
"psi1 = 0.5                                                                      // relative humidity at the inlet\n",
"T2 = 10.0                                                                       // in degree celcius\n",
"p = 1.013                                                                       // pressure in bar\n",
"// Part(a)\n",
"// From table A-2\n",
"pg1 = 0.04246                                                                   // in bar\n",
"Rbar = 8314                                                                     // universal gas constant\n",
"Ma = 28.97                                                                      // molar mass of air\n",
"// Calculations\n",
"pv1 = psi1*pg1                                                                  // in bar\n",
"pa1 = p-pv1                                                                     // partial pressure of the dry air in bar\n",
"madot = AV1/((Rbar/Ma)*((T1+273)/(pa1*10**5)))                                  // common mass flow rate of the dry air in kg/min\n",
"// Result\n",
"printf( '\n The mass flow rate of the dry air in kg/min is:  %.2f',madot);\n",
"// Part(b)\n",
"// From table A-2\n",
"pv2 = 0.01228                                                                    // in bar\n",
"// Calculations\n",
"omega1 = 0.622*(pv1/(p-pv1))\n",
"omega2 = 0.622*(pv2/(p-pv2))\n",
"mwdotbymadot = omega1-omega2                                   \n",
"// Result\n",
"printf( '\n The rate at which water is condensed, in kg per kg of dry air flowing through the control volume is:  %.4f',mwdotbymadot);\n",
"// Part(c)\n",
"// From table A-2 and A-22\n",
"ha2 = 283.1                                                                      // in kg/kj\n",
"ha1 = 303.2                                                                      // in kg/kj\n",
"hg1 = 2556.3                                                                     // in kg/kj\n",
"hg2 = 2519.8                                                                     // in kg/kj\n",
"hf2 = 42.01                                                                      // in kg/kj\n",
"// Calculations\n",
"Qcvdot = madot*((ha2-ha1)-omega1*hg1+omega2*hg2+(omega1-omega2)*hf2)             // in kj/min\n",
"// Result\n",
"printf( '\n The required refrigerating capacity, in tons is:  %.2f',Qcvdot/211);"
   ]
   }
,
{
		   "cell_type": "markdown",
		   "metadata": {},
		   "source": [
			"## Example 12.12: Example.sce"
		   ]
		  },
  {
"cell_type": "code",
	   "execution_count": null,
	   "metadata": {
	    "collapsed": true
	   },
	   "outputs": [],
"source": [
"// Given:-\n",
"T1 = 22.0                                                                         // entry temperature of moist air in degree celcius\n",
"Twb = 9.0                                                                         // wet-bulb temperature of entering moist air in degree celcius\n",
"madot = 90.0                                                                      // mass flow rate of dry air in kg/min\n",
"Tst = 110.0                                                                       // temperature of injected saturated water vapor in degree celcius\n",
"mstdot = 52.0                                                                     // mass flow rate of injected saturated water vapor in kg/h\n",
"p = 1.0                                                                           // pressure in bar\n",
"// Part(a)\n",
"// By inspection of the psychrometric chart\n",
"omega1 = 0.002\n",
"// Calculation\n",
"omega2 = omega1 + mstdot/(madot*60)\n",
"// Result\n",
"printf( 'The humidity ratio at the exit is:  %.2f',omega2);\n",
"// Part(b)\n",
"// The steady-state form of the energy rate balance can be rearranged as\n",
"// (ha + omega*hg)2 = (ha + omega*hg)1 + (omega2-omega1)*hg3\n",
"// On putting values in the above equation from tables and figures, temperature at the exit can then be read directly from the chart\n",
"T2 = 23.5                                                                         // in degree celcius\n",
"// Result\n",
"printf( 'The temperature at the exit in degree celcius is:  %.2f',T2)"
   ]
   }
,
{
		   "cell_type": "markdown",
		   "metadata": {},
		   "source": [
			"## Example 12.13: Example.sce"
		   ]
		  },
  {
"cell_type": "code",
	   "execution_count": null,
	   "metadata": {
	    "collapsed": true
	   },
	   "outputs": [],
"source": [
"// Given:-\n",
"T1 = 38.0                                                                         // temperature of entering air in degree celcius\n",
"psi1 = 0.1                                                                        // relative humidity of entering air \n",
"AV1 = 140.0                                                                       // volumetric flow rate of entering air in m^3/min\n",
"Tw = 21.0                                                                         // temperature of added water in degree celcius\n",
"T2 = 21.0                                                                         // temperature of exiting moist air in degree celcius\n",
"p = 1.0                                                                           // pressure in atm\n",
"// Part(a)\n",
"// From table A-2\n",
"pg1 = 0.066                                                                       // in bar\n",
"// The specific volume of the dry air can be evaluated from the ideal gas equation of state. The result is\n",
"va1 = .887                                                                        // in m^3/kg\n",
"cpa = 1.005\n",
"// From table A-2\n",
"hf = 88.14\n",
"hg1 = 2570.7\n",
"hg2 = 2539.94\n",
"// Calculations\n",
"pv1 = psi1*pg1                                                                    // the partial pressure of the moist air entering the control volume in bar\n",
"omega1 = 0.622*(pv1/(p*1.01325-pv1))\n",
"omega2 = (cpa*(T1-T2)+omega1*(hg1-hf))/(hg2-hf)\n",
"madot = AV1/va1                                                                   // mass flow rate of the dry air in kg/min\n",
"mwdot = madot*60*(omega2-omega1)                                                  // in kg/h\n",
"// Result\n",
"printf( '\n The mass flow rate of the water to the soaked pad in is:  %.2f kg(water)/h',mwdot);\n",
"// Part(b)\n",
"pv2 = (omega2*p*1.01325)/(omega2+0.622)                                           // in bars\n",
"// At 21C, the saturation pressure is\n",
"pg2 = 0.02487\n",
"psi2 = pv2/pg2\n",
"// Result\n",
"printf( '\n The relative humidity of the moist air at the exit to the evaporative cooler is:  %.2f',psi2)"
   ]
   }
,
{
		   "cell_type": "markdown",
		   "metadata": {},
		   "source": [
			"## Example 12.14: Example.sce"
		   ]
		  },
  {
"cell_type": "code",
	   "execution_count": null,
	   "metadata": {
	    "collapsed": true
	   },
	   "outputs": [],
"source": [
"// Given:-\n",
"AV1 = 142.0                                                                       // in m^3/min\n",
"T1 = 5.0                                                                          // in degree celcius\n",
"omega1 = 0.002\n",
"AV2 = 425.0                                                                       // in m^3/min\n",
"T2 = 24.0                                                                         // in degree celcius\n",
"psi2 = 0.5\n",
"p = 1.0                                                                           // in bar\n",
"// Part(a)\n",
"// From the psychrometric chart, Fig. A-9.\n",
"va1 = 0.79                                                                        // in m^3/kg\n",
"va2 = 0.855                                                                       // in m^3/kg\n",
"omega2 = 0.0094\n",
"// Calculations\n",
"ma1dot = AV1/va1                                                                  // in kg/min\n",
"ma2dot = AV2 /va2                                                                 // in kg/min\n",
"omega3 = (omega1*ma1dot+omega2*ma2dot)/(ma1dot + ma2dot)                    \n",
"// Result\n",
"printf( '\n The humidity ratio is:  %.4f',omega3);\n",
"// Part(b)\n",
"// Reduction of the energy rate balance gives\n",
"// (ha + omega*hv)3 = [ma1dot*(ha + omega*hv)1 + ma2dot*(ha + omega*hv)2]/(ma1dot+ma2dot)\n",
"// With (ha + omega*hv)1 = 10kj/kg and (ha + omega*hv)2 = 47.8kj/kg from figure A-9\n",
"LHS = (ma1dot*10+ma2dot*47.8)/(ma1dot + ma2dot)\n",
"// This value for the enthalpy of the moist air at the exit, together with the previously determined value for omega3, fixes the state of the exiting moist air. From inspection of Fig. A-9,\n",
"T3 = 19.0                                                                         // in degree celcius\n",
"// Result\n",
"printf( '\n The temperature of the exiting mixed stream in degree celcius T3 is :  %.2f',T3)"
   ]
   }
,
{
		   "cell_type": "markdown",
		   "metadata": {},
		   "source": [
			"## Example 12.15: Example.sce"
		   ]
		  },
  {
"cell_type": "code",
	   "execution_count": null,
	   "metadata": {
	    "collapsed": true
	   },
	   "outputs": [],
"source": [
"// Given:-\n",
"T1 = 38.0                                                                       // in degree celcius\n",
"m1dot = 4.5e7                                                                   // in kg/h\n",
"T2 = 30.0                                                                       // in degree celcius\n",
"m2dot = 4.5e7                                                                   // in kg/h\n",
"T3 = 25.0                                                                       // in degree celcius\n",
"psi3 = 0.35\n",
"T4 = 35.0                                                                       // in degree celcius\n",
"psi4 = 0.9\n",
"T5 = 20.0                                                                       // in degree celcius\n",
"// Analysis\n",
"// The humidity ratios omega3 and omega4 can be determined using the partial pressure of the water vapor obtained with the respective relative humidity\n",
"omega3 =0.00688\n",
"omega4 = 0.0327\n",
"// From tables A-2 and A-22\n",
"hf1 = 159.21\n",
"hf2 = 125.79\n",
"ha4 = 308.2\n",
"ha3 = 298.2\n",
"hg4 = 2565.3\n",
"hg3 = 2547.2\n",
"hf5 = 83.96\n",
"// Calculations\n",
"madot = (m1dot*(hf1-hf2))/(ha4-ha3+omega4*hg4-omega3*hg3-(omega4-omega3)*hf5)   // in kg/h\n",
"m5dot = madot*(omega4-omega3)                                                   // in kg/h\n",
"// Results\n",
"printf( 'The mass flow rate of dry air in kg/h is:  %.2f',madot)\n",
"printf( 'The mass flow rate of makeup water in kg/h is:  %.2f',m5dot)"
   ]
   }
,
{
		   "cell_type": "markdown",
		   "metadata": {},
		   "source": [
			"## Example 12.1: Example.sce"
		   ]
		  },
  {
"cell_type": "code",
	   "execution_count": null,
	   "metadata": {
	    "collapsed": true
	   },
	   "outputs": [],
"source": [
"// Given:-\n",
"n1 = 0.08                                                                        // mole fraction of CO2\n",
"n2 = 0.11                                                                        // mole fraction of H2O\n",
"n3 = 0.07                                                                        // mole fraction of O2\n",
"n4 = 0.74                                                                        // mole fraction of N2\n",
"// Part(a)\n",
"M1 = 44.0                                                                        // molar mass of CO2 in kg/kmol\n",
"M2 = 18.0                                                                        // molar mass of H2O in kg/kmol\n",
"M3 = 32.0                                                                        // molar mass of O2 in kg/kmol\n",
"M4 = 28.0                                                                        // molar mass of N2 in kg/kmol\n",
"// Calculations\n",
"M = M1*n1 + M2*n2 + M3*n3 + M4*n4                                                // in kg/kmol\n",
"// Result\n",
"printf( 'The apparent molecular weight of the mixture in kg/kmol is:  %f',M)\n",
"// Part(b)\n",
"mf1 = (M1*n1/M)*100.0                                                             // mass fraction of CO2 in percentage \n",
"mf2 = (M2*n2/M)*100.0                                                             // mass fraction of H2O in percentage\n",
"mf3 = (M3*n3/M)*100.0                                                             // mass fraction of O2 in percentage\n",
"mf4 = (M4*n4/M)*100.0                                                             // mass fraction of N2 in percentage\n",
"// Results\n",
"printf( 'The mass fraction of CO2 in percentage is:  %f',mf1)\n",
"printf( 'The mass fraction of H2O in percentage is:  %f',mf2)\n",
"printf( 'The mass fraction of O2 in percentage is:  %f',mf3)\n",
"printf( 'The mass fraction of N2 in percentage is:  %f',mf4)"
   ]
   }
,
{
		   "cell_type": "markdown",
		   "metadata": {},
		   "source": [
			"## Example 12.2: Example.sce"
		   ]
		  },
  {
"cell_type": "code",
	   "execution_count": null,
	   "metadata": {
	    "collapsed": true
	   },
	   "outputs": [],
"source": [
"// Given:-\n",
"mf1 = 0.1                                                                        // mass fractiion of H2\n",
"mf2 = 0.6                                                                        // mass fraction of N2\n",
"mf3 = 0.3                                                                        // mass fraction of CO2\n",
"// Part(a)\n",
"M1 = 2.0                                                                          // molar mass of H2 in kg/kmol\n",
"M2 = 28.0                                                                         // molar mass of N2 in kg/kmol\n",
"M3 = 44.0                                                                         // molar mass of CO2 in kg/kmol\n",
"// Calculations\n",
"n1 = (mf1/M1)/(mf1/M1 + mf2/M2 + mf3/M3)                                          // mole fraction of H2 \n",
"n2 = (mf2/M2)/(mf1/M1 + mf2/M2 + mf3/M3)                                          // mole fraction of N2\n",
"n3 = (mf3/M3)/(mf1/M1 + mf2/M2 + mf3/M3)                                          // mole fraction of CO2\n",
"// Results\n",
"printf( 'The mole fraction of H2 in percentage is:  %f',n1*100)\n",
"printf( 'The mole fraction of N2 in percentage is:  %f',n2*100)\n",
"printf( 'The mole fraction of CO2 in percentage is:  %f',n3*100)\n",
"// Part(b)\n",
"// Calculation\n",
"M = n1*M1 + n2*M2 + n3*M3                                                         // in kg/kmol\n",
"// Result\n",
"printf( 'The apparent molecular weight of the mixture in kg/kmol is:  %f',M);"
   ]
   }
,
{
		   "cell_type": "markdown",
		   "metadata": {},
		   "source": [
			"## Example 12.3: Example.sce"
		   ]
		  },
  {
"cell_type": "code",
	   "execution_count": null,
	   "metadata": {
	    "collapsed": true
	   },
	   "outputs": [],
"source": [
"// Given:-\n",
"m1 = 0.3                                                                         // mass of CO2 in kg\n",
"m2 = 0.2                                                                         // mass of N2 in kg\n",
"p1 = 1.0                                                                         // in bar\n",
"T1 = 300.0                                                                       // in kelvin\n",
"p2 = 3.0                                                                         // in bar\n",
"n = 1.25\n",
"// Part(a)\n",
"// Calculation\n",
"T2 = T1*(p2/p1)**((n-1)/n)                                                      // in kelvin\n",
"// Result\n",
"printf( 'The final temperature in Kelvin is:  %f',T2);\n",
"// Part(b)\n",
"Rbar = 8.314                                                                     // universal gas constant in SI units\n",
"// Calculations\n",
"M = (m1+m2)/(m1/44 + m2/28)                                                      // molar mass of mixture in kg/kmol\n",
"W = ((m1+m2)*(Rbar/M)*(T2-T1))/(1-n)                                             // in kj\n",
"// Result\n",
"printf( 'The work in kj is:  %f',W )\n",
"// Part(c)\n",
"// From table A-23\n",
"uCO2T1 = 6939.0                                                                  // internal energy of CO2 on molar mass basis at temperature T1\n",
"uCO2T2 = 9198.0                                                                  // internal energy of CO2 on molar mass basis at temperature T2\n",
"uN2T1 = 6229.0                                                                   // internal energy of N2 on molar mass basis at temperature T1\n",
"uN2T2 = 7770.0                                                                   // internal energy of N2 on molar mass basis at temperature T2\n",
"deltaU = (m1/44)*(uCO2T2-uCO2T1) + (m2/28)*(uN2T2-uN2T1)                         // internal energy change of the mixture in KJ\n",
"// With assumption, The changes in kinetic and potential energy between the initial and final states can be ignored\n",
"Q = deltaU + W\n",
"// Result\n",
"printf( 'The heat transfer in kj is:  %f',Q);\n",
"// Part(d)\n",
"// From table A-23\n",
"sbarT2CO2 = 222.475\n",
"sbarT1CO2 = 213.915                                            \n",
"sbarT2N2 = 198.105\n",
"sbarT1N2 = 191.682\n",
"Rbar = 8.314                                                                     // universal gas constant\n",
"// Calculation\n",
"deltaS = (m1/44)*(sbarT2CO2-sbarT1CO2-Rbar*log(p2/p1)) + (m2/28)*(sbarT2N2-sbarT1N2-Rbar*log(p2/p1))\n",
"// Result\n",
"printf( 'The change in entropy of the mixture in kj/k is:  %f',deltaS)"
   ]
   }
,
{
		   "cell_type": "markdown",
		   "metadata": {},
		   "source": [
			"## Example 12.4: Example.sce"
		   ]
		  },
  {
"cell_type": "code",
	   "execution_count": null,
	   "metadata": {
	    "collapsed": true
	   },
	   "outputs": [],
"source": [
"// Given:-\n",
"y1 = 0.8                                                                        // mole fraction of CO2\n",
"y2 = 0.2                                                                        // mole fraction of O2\n",
"T1 = 700.0                                                                      // in kelvin\n",
"p1 = 5.0                                                                        // in bars\n",
"V1 = 3.0                                                                        // in m/s\n",
"p2 = 1.0                                                                        // in bars\n",
"// Part(a)\n",
"// From table A-23\n",
"sO2barT1 = 231.358\n",
"sCO2barT1 = 250.663\n",
"// Calculations\n",
"RHS = y2*sO2barT1 + y1*sCO2barT1 + 8.314*log(p2/p1)\n",
"// Using table A-23\n",
"LHSat510K = y2*221.206 + y1*235.7\n",
"LHSat520K = y2*221.812 + y1*236.575\n",
"// Using linear interpolation,\n",
"T2 = 510 +((520-510)/(LHSat520K-LHSat510K))*(RHS-LHSat510K)\n",
"// Result \n",
"printf( 'The temperature at the nozzle exit in K is:  %f',T2);\n",
"// Part(b)\n",
"// From table A-23\n",
"sbarO2T2 = 221.667                                                              // in kj/kmol.K\n",
"sbarO2T1 = 231.358                                                              // in kj/kmol.K\n",
"sbarCO2T2 = 236.365                                                             // in kj/kmol.K\n",
"sbarCO2T1 = 250.663                                                             // in kj/kmol.K\n",
"// Calculations\n",
"deltasbarO2 = sbarO2T2-sbarO2T1-8.314*log(p2/p1)                           // in kj/kmol.K\n",
"deltasbarCO2 = sbarCO2T2-sbarCO2T1-8.314*log(p2/p1)                        // in kj/kmol.K\n",
"// Results\n",
"printf( 'The entropy changes of the CO2 from inlet to exit, in KJ/Kmol.K is:  %f',deltasbarCO2)\n",
"printf( 'The entropy change of the O2 from inlet to the exit in kj/kmol.k is:  %f',deltasbarO2)\n",
"// Part(c)\n",
"// From table A-23, the molar specific enthalpies of O2 and CO2 are\n",
"h1barO2 = 21184.0\n",
"h2barO2 = 15320.0\n",
"h1barCO2 = 27125.0\n",
"h2barCO2 = 18468.0\n",
"// Calculations\n",
"M = y1*44.0 + y2*32.0                                                            // apparent molecular weight of the mixture in kg/kmol\n",
"deltah = (1.0/M)*(y2*(h1barO2-h2barO2) + y1*(h1barCO2-h2barCO2))\n",
"V2 = sqrt(V1**2+ 2*deltah*10**3)\n",
"// Result\n",
"printf( 'The exit velocity in m/s is:  %f',V2)"
   ]
   }
,
{
		   "cell_type": "markdown",
		   "metadata": {},
		   "source": [
			"## Example 12.5: Example.sce"
		   ]
		  },
  {
"cell_type": "code",
	   "execution_count": null,
	   "metadata": {
	    "collapsed": true
	   },
	   "outputs": [],
"source": [
"// Given:-\n",
"nN2 = 0.79                                                                       // initial moles of nitrogen in kmol\n",
"pN2 = 2.0                                                                        // initial pressure of nitrogen in bars\n",
"TN2 = 250.0                                                                      // initial temperature of nitrogen in kelvin\n",
"nO2 = 0.21                                                                       // initial moles of oxygen in kmol\n",
"pO2 = 1.0                                                                        // initial pressure of oxygen in bars\n",
"TO2 = 300.0                                                                      // initial temperature of oxygen in kelvin\n",
"// Part(a)\n",
"MN2 = 28.01                                                                      // molar mass of nitrogen in kg/kmol\n",
"MO2 = 32.0                                                                       // molar mass of oxygen in kg/kmol\n",
"// Calculations\n",
"// With the help of table A-20\n",
"cvbarN2 = MN2*0.743                                                              // in kj/kmol.K\n",
"cvbarO2 = MO2*0.656                                                              // in kj/kmol.K\n",
"T2 = (nN2*cvbarN2*TN2+nO2*cvbarO2*TO2)/(nN2*cvbarN2+nO2*cvbarO2)\n",
"// Result\n",
"printf( 'The final temperature of the mixture in kelvin is:  %f',T2);\n",
"// Part(b)\n",
"// Calculation\n",
"p2 = ((nN2+nO2)*T2)/(nN2*TN2/pN2 + nO2*TO2/pO2)\n",
"// Result\n",
"printf( 'The final pressure of the mixture in bar is:  %f',p2);\n",
"// Part(c)\n",
"Rbar = 8.314                                                                     // universal gas constant\n",
"// Calculations\n",
"cpbarN2 = cvbarN2 + Rbar\n",
"cpbarO2 = cvbarO2 + Rbar\n",
"yN2 = nN2/(nN2+nO2)                                                              // mole fraction of N2\n",
"yO2 = nO2/(nN2+nO2)                                                              // mole fraction of O2\n",
"sigma = nN2*(cpbarN2*log(T2/TN2)-Rbar*log(yN2*p2/pN2)) + nO2*(cpbarO2*log(T2/TO2)-Rbar*log(yO2*p2/pO2))\n",
"// Result\n",
"printf( 'The amount of entropy produced in the mixing process, in kJ/K is:  %f',sigma);"
   ]
   }
,
{
		   "cell_type": "markdown",
		   "metadata": {},
		   "source": [
			"## Example 12.6: Example.sce"
		   ]
		  },
  {
"cell_type": "code",
	   "execution_count": null,
	   "metadata": {
	    "collapsed": true
	   },
	   "outputs": [],
"source": [
"// Given:-\n",
"T1 = 32.0                                                                         // temperature of dry air in degree celcius\n",
"p1 = 1.0                                                                          // pressure of dry air in bar\n",
"AV1 = 100.0                                                                       // volume rate of dry air in m^3/min\n",
"T2 = 127.0                                                                        // temperature of oxygen stream in degree celcius\n",
"p2 = 1.0                                                                          // pressure of oxygen stream in bar\n",
"T3 = 47.0                                                                         // temperature of mixed stream in degree celcius\n",
"p3 = 1.0                                                                          // pressure of mixed stream in bar\n",
"// Part(a)\n",
"Rbar = 8314.0                                                                     // universal gas constant\n",
"Ma = 28.97                                                                        // molar mass of air\n",
"Mo = 32.0                                                                         // molar mass of oxygen\n",
"// From table A-22 and A-23\n",
"haT3 = 320.29                                                                     // in kj/kg\n",
"haT1 = 305.22                                                                     // in kj/kg\n",
"hnotT2 = 11711.0                                                                  // in kj/kmol\n",
"hnotT1 = 9325.0                                                                   // in kj/kmol\n",
"// Calculations\n",
"va1 = (Rbar/Ma)*(T1+273.0)/(p1*10**5)                                             // specific volume of air in m^3/kg\n",
"ma1dot = AV1/va1                                                                  // mass flow rate of dry air in kg/min\n",
"modot = ma1dot*(haT3-haT1)/((1/Mo)*(hnotT2-hnotT1))                               // in kg/min\n",
"// Results\n",
"printf( 'The mass flow rate of dry air in kg/min is:  %f',ma1dot);\n",
"printf( 'The mass flow rate of oxygen in kg/min is:  %f',modot);\n",
"// Part(b)\n",
"nadot = ma1dot/Ma                                                                 // molar flow rate of air in kmol/min\n",
"nodot = modot/Mo                                                                  // molar flow rate of oxygen in kmol/min\n",
"ya = nadot/(nadot+nodot)                                                          // mole fraction of air\n",
"yo = nodot/(nadot+nodot)                                                          // mole fraction of oxygen\n",
"// Results\n",
"printf( 'The mole fraction of dry air in the exiting mixture is:  %f',ya)\n",
"printf( 'The mole fraction of dry oxygen in the exiting mixture is:  %f',yo)\n",
"// Part(c)\n",
"// With the help of tables A-22 and A-23\n",
"sanotT3 = 1.7669                                                                  // in kj/kg.K\n",
"sanotT1 = 1.71865                                                                 // in kj/kg.K\n",
"sbarT3 = 207.112                                                                  // in kj/kmol.K\n",
"sbarT2 = 213.765                                                                  // in kj/kmol.K\n",
"// Calculations\n",
"sigmadot = ma1dot*(sanotT3-sanotT1-(8.314/Ma)*log(ya))+ (modot/Mo)*(sbarT3-sbarT2-8.314*log(yo))\n",
"// Result\n",
"printf( 'The time rate of entropy production, in kJ/K . min is:  %f',sigmadot)"
   ]
   }
,
{
		   "cell_type": "markdown",
		   "metadata": {},
		   "source": [
			"## Example 12.7: Example.sce"
		   ]
		  },
  {
"cell_type": "code",
	   "execution_count": null,
	   "metadata": {
	    "collapsed": true
	   },
	   "outputs": [],
"source": [
"// Given:-\n",
"m =1.0                                                                            // mass of sample in kg\n",
"T1 = 21.0                                                                         // initial temperature in degree celcius\n",
"psi1 = 0.7                                                                        // initial relative humidity\n",
"T2 = 5.0                                                                          // final temperature in degree celcius\n",
"// Part(a)\n",
"// From table A-2\n",
"pg = 0.02487                                                                      // in bar\n",
"// Calculations \n",
"pv1 = psi1*pg                                                                     // partial pressure of water vapor in bar\n",
"omega1 = 0.622*(0.2542)/(14.7-0.2542)\n",
"// Result \n",
"printf( 'the initial humidity ratio is:  %f',omega1)\n",
"// Part(b)\n",
"// The dew point temperature is the saturation temperature corresponding to the partial pressure, pv1. Interpolation in Table A-2 gives\n",
"T = 15.3                                                                          // the dew point temperature in degree celcius\n",
"// Result\n",
"printf( 'The dew point temperature in degree celcius is:  %f',T)\n",
"// Part(c)\n",
"// The partial pressure of the water vapor remaining in the system at the final state is the saturation pressure corresponding to 5C:\n",
"// Calculations\n",
"mv1 = 1/((1/omega1)+1)                                                           // initial amount of water vapor in the sample in kg\n",
"ma = m-mv1                                                                        // mass of dry air present in kg\n",
"pg = 0.00872                                                                      // in bar\n",
"omega2 = 0.622*(pg)/(1.01325-pg)                                                  // humidity ratio after cooling\n",
"mv2 = omega2*ma                                                                   // The mass of the water vapor present at the final state\n",
"mw = mv1-mv2\n",
"// Result\n",
"printf( 'The amount of water vapor that condenses, in kg. is:  %f',mw)"
   ]
   }
,
{
		   "cell_type": "markdown",
		   "metadata": {},
		   "source": [
			"## Example 12.8: Example.sce"
		   ]
		  },
  {
"cell_type": "code",
	   "execution_count": null,
	   "metadata": {
	    "collapsed": true
	   },
	   "outputs": [],
"source": [
"// Given:-\n",
"V = 35.0                                                                          // volume of the vessel in m^3\n",
"p1 = 1.5                                                                          // in bar\n",
"T1 = 120.0                                                                        // in degree celcius\n",
"psi1 = 0.1                                                                       \n",
"T2 = 22.0                                                                         // in degree celcius\n",
"// Part(a)\n",
"// The dew point temperature at the initial state is the saturation temperature corresponding to the partial pressure pv1. With the given relative humidity and the saturation pressure at 120C from Table A-2\n",
"pg1 = 1.985\n",
"// Interpolating in Table A-2 gives the dew point temperature as\n",
"T = 60.0                                                                          // in degree celcius\n",
"// Calculation\n",
"pv1 = psi1*pg1                                                                    // partial pressure in bar\n",
"// Result\n",
"printf( 'The dew point temperature corresponding to the initial state, in degee celcius is:  %f',T)\n",
"// Part(b)\n",
"Rbar = 8314.0                                                                     // universal gas constant\n",
"Mv = 18.0                                                                         // molar mass of vapor in kj/kmol\n",
"// Interpolation in Table A-2\n",
"Tdash = 56.0                                                                      // in degrees\n",
"vv1 =((Rbar/Mv)*(T1+273))/(pv1*10**5)                                             // the specific volume of the vapor at state 1 in m^3/kg\n",
"// Result\n",
"printf( 'The temperature at which condensation actually begins in degree celcius is:  %f',Tdash)\n",
"// Part(c)\n",
"// From table \n",
"vf2 = 1.0022e-3\n",
"vg2 = 51.447\n",
"vv2 = vv1                                                                         // specific volume at final state\n",
"// Calculations\n",
"mv1 = V/vv1                                                                       // initial amount of water vapor present in kg\n",
"x2 = (vv2-vf2)/(vg2-vf2)                                                          // quality\n",
"mv2 = x2*mv1                                                                      // the mass of the water vapor contained in the system at the final state\n",
"mw2 = mv1-mv2\n",
"// Result\n",
"printf( 'The amount of water condense in kg is:  %f',mw2)"
   ]
   }
,
{
		   "cell_type": "markdown",
		   "metadata": {},
		   "source": [
			"## Example 12.9: Example.sce"
		   ]
		  },
  {
"cell_type": "code",
	   "execution_count": null,
	   "metadata": {
	    "collapsed": true
	   },
	   "outputs": [],
"source": [
"// Given:-\n",
"V = 35.0                                                                        // volume of vessel in m^3\n",
"p1 = 1.5                                                                        // initial pressure in bar\n",
"T1 = 120.0                                                                      // initial temperature in degree celcius\n",
"psi = 0.1\n",
"T2 = 22.0                                                                       // in degree celcius\n",
"Rbar = 8314.0                                                                   // universal gas constant\n",
"Ma = 28.97                                                                      // molar mass of air\n",
"pv1 = 0.1985                                                                    // in bar, from example 12.8\n",
"mv2 = 0.681                                                                     // in kg, from examples 12.8\n",
"mv1 = 3.827                                                                     // in kg, from example 12.8\n",
"mw2 = 3.146                                                                     // in kg, from example 12.8\n",
"// evaluating internal energies of dry air and water from Tables A-22 and A-2, respectively\n",
"ua2 = 210.49                                                                    // in kj/kg\n",
"ua1 = 281.1                                                                     // in kj/kg\n",
"ug2 = 2405.7                                                                    // in kj/kg\n",
"uf2 = 92.32                                                                     // in kj/kg\n",
"ug1 = 2529.3                                                                    // in kj/kg\n",
"// Calculations\n",
"ma =( ((p1-pv1)*10**5)*V)/((Rbar/Ma)*(T1+273))                                  // mass of dry air in kg\n",
"Q = ma*(ua2-ua1) + mv2*ug2 + mw2*uf2 - mv1*ug1\n",
"// Result\n",
"printf( 'The heat transfer during the process, in kJ is:  %f',Q)"
   ]
   }
],
"metadata": {
		  "kernelspec": {
		   "display_name": "Scilab",
		   "language": "scilab",
		   "name": "scilab"
		  },
		  "language_info": {
		   "file_extension": ".sce",
		   "help_links": [
			{
			 "text": "MetaKernel Magics",
			 "url": "https://github.com/calysto/metakernel/blob/master/metakernel/magics/README.md"
			}
		   ],
		   "mimetype": "text/x-octave",
		   "name": "scilab",
		   "version": "0.7.1"
		  }
		 },
		 "nbformat": 4,
		 "nbformat_minor": 0
}
