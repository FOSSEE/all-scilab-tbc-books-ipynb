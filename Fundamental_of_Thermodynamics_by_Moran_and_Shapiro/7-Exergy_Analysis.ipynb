{
"cells": [
 {
		   "cell_type": "markdown",
	   "metadata": {},
	   "source": [
       "# Chapter 7: Exergy Analysis"
	   ]
	},
{
		   "cell_type": "markdown",
		   "metadata": {},
		   "source": [
			"## Example 7.10: Example.sce"
		   ]
		  },
  {
"cell_type": "code",
	   "execution_count": null,
	   "metadata": {
	    "collapsed": true
	   },
	   "outputs": [],
"source": [
"// Given:-\n",
"EfFdot = 100.00                                             // exergy rate of fuel entering the boiler in MW\n",
"cF = 1.44                                                   // unit cost of fuel in cents per kw.h\n",
"Zbdot = 1080.00                                             // the cost of owning and operating boiler in dollars per hour\n",
"Ef1dot = 35.00                                              // exergy rate of exiting steam from the boiler in MW\n",
"p1 = 50.00                                                  // pressure of exiting steam from the boiler in bar\n",
"T1 = 466.00                                                 // temperature of exiting steam from the boiler in degree celcius\n",
"Ztdot = 92.00                                               // the cost of owning and operating turbine in dollars per hour\n",
"p2 = 5.00                                                   // pressure of exiting steam from the turbine in bars\n",
"T2 = 205.00                                                 // temperature of exiting steam from the turbine in degree celcius\n",
"m2dot = 26.15                                               // mass flow rate of exiting steam from the turbine in kg/s\n",
"T0 = 298.00                                                 // in kelvin \n",
"// Part(a)\n",
"// From table A-4,\n",
"h1 = 3353.54                                                // in kj/kg\n",
"h2 = 2865.96                                                // in kj/kg\n",
"s1 = 6.8773                                                 // in kj/kg.k\n",
"s2 = 7.0806                                                 // in kj/kg.k\n",
"// Calculations\n",
"// From assumption,For each control volume,Qcvdot = 0 and kinetic and potential energy effects are negligible,the mass and energy rate \n",
"// balances for a control volume enclosing the turbine reduce at steady state to give\n",
"Wedot = m2dot *(h1-h2)/1000                                 // power in MW\n",
"Ef2dot = Ef1dot+m2dot*(h2-h1-T0*(s2-s1))/1000               // the rate exergy exits with the steam in MW\n",
"// Results\n",
"printf( ' For the turbine,the power is %.2f MW.',Wedot)\n",
"printf( ' For the turbine,the rate exergy exits with the steam is %.2f MW.',Ef2dot)\n",
"// Part(b)\n",
"// Calculations\n",
"c1 = cF*(EfFdot/Ef1dot) + ((Zbdot/Ef1dot)/10**3)*100         // unit cost of exiting steam from boiler in cents/Kw.h\n",
"c2 = c1                                                      // Assigning the same unit cost to the steam entering and exiting the turbine\n",
"ce = c1*((Ef1dot-Ef2dot)/Wedot) + ((Ztdot/Wedot)/10**3)*100  // unit cost of power in cents/kw.h\n",
"// Results\n",
"printf('The unit costs of the steam exiting the boiler of exergy is: %.2f cents per kw.h.',c1)\n",
"printf('The unit costs of the steam exiting the turbine of exergy is: %.2f cents per kw.h.',c2)\n",
"printf('Unit cost of power is: %f cents per kw.h.',ce)\n",
"// Part(c)\n",
"C2dot = (c2*Ef2dot*10**3)/100                                // cost rate for low-pressure steam in dollars per hour\n",
"Cedot = (ce*Wedot*10**3)/100                                 // cost rate for power in dollars per hour\n",
"// Results\n",
"printf( ' The cost rate of the steam exiting the turbine is: %.2f dollars per hour.',C2dot)\n",
"printf( ' The cost rate of the power is: %.2f dollars per hour.',Cedot)"
   ]
   }
,
{
		   "cell_type": "markdown",
		   "metadata": {},
		   "source": [
			"## Example 7.1: Example.sce"
		   ]
		  },
  {
"cell_type": "code",
	   "execution_count": null,
	   "metadata": {
	    "collapsed": true
	   },
	   "outputs": [],
"source": [
"// Given:-\n",
"v = 2450.00                                    // volume of gaseous products in cm^3\n",
"P = 7.00                                       // pressure of gaseous product in bar\n",
"T = 867.00                                     // temperature of gaseous product in degree celcius\n",
"T0 = 300.00                                    // in kelvin\n",
"P0 = 1.013                                     // in bar\n",
"// From table A-22\n",
"u = 880.35                                     // in kj/kg\n",
"u0 = 214.07                                    // in kj/kg\n",
"s0T = 3.11883                                  // in kj/kg.k\n",
"s0T0 = 1.70203                                 // in kj/kg.k\n",
"// Calculations\n",
"e = (u-u0) + (P0*(8.314/28.97)*(((T+273)/P)-(T0/P0))) - T0*(s0T-s0T0-(8.314/28.97)*log(P/P0))  // kj/kg\n",
"// Results\n",
"printf( ' The specific exergy of the gas is %.3f kJ/kg.',e)"
   ]
   }
,
{
		   "cell_type": "markdown",
		   "metadata": {},
		   "source": [
			"## Example 7.2: Example.sce"
		   ]
		  },
  {
"cell_type": "code",
	   "execution_count": null,
	   "metadata": {
	    "collapsed": true
	   },
	   "outputs": [],
"source": [
"// Given:-\n",
"mR = 1.11                               // mass of the refrigerant in kg\n",
"T1 = -28.00                             // initial temperature of the saturated vapor in degree celcius\n",
"P2 = 1.4                                // final pressure of the refrigerant in bar\n",
"T0 = 293.00                             // in kelvin\n",
"P0 = 1.00                               // in bar\n",
"// Part (a)\n",
"// From table A-10\n",
"u1 = 211.29                             // in kj/kg\n",
"v1 = 0.2052                             // in m^3/kg\n",
"s1 = 0.9411                             // in kj/kg.k\n",
"// From table A-12\n",
"u0 = 246.67                             // in kj/kg\n",
"v0 = 0.23349                            // in m^3/kg\n",
"s0 = 1.0829                             // in kj/kg.k\n",
"// From table A-12\n",
"u2 = 300.16                             // in kj/kg\n",
"s2 = 1.2369                             // in kj/kg.k\n",
"v2 = v1\n",
"// Calculations \n",
"E1 = mR*((u1-u0) + P0*(10**5)*(v1-v0)*(10**(-3))-T0*(s1-s0))\n",
"E2 = mR*((u2-u0) + P0*(10**5)*(v2-v0)*(10**(-3))-T0*(s2-s0))\n",
"// Results for Part A\n",
"printf( ' Part(a) The initial exergy is %.2f kJ.',E1)\n",
"printf( ' The final exergy is %.2f kJ.',E2)\n",
"printf( ' The change in exergy of the refrigerant is %.2f kj',E2-E1)\n",
"// Part (b)\n",
"// Calculations\n",
"deltaU = mR*(u2-u1)\n",
"// From energy balance\n",
"deltaPE = -deltaU\n",
"// With the assumption::The only significant changes of state are experienced by the refrigerant and the suspended mass. For the refrigerant, \n",
"// there is no change in kinetic or potential energy. For the suspended mass, there is no change in kinetic or internal energy. Elevation is \n",
"// the only intensive property of the suspended mass that changes\n",
"deltaE = deltaPE\n",
"// Results for part b\n",
"printf( ' Part(b)The change in exergy of the suspended mass is %.3f kJ',deltaE)\n",
"// Part(c)\n",
"// Calculations\n",
"deltaEiso = (E2-E1) + deltaE\n",
"// Results\n",
"printf( ' Part(c)The change in exergy of an isolated system of the vessel and pulley–mass assembly is  %.2f kJ',deltaEiso)"
   ]
   }
,
{
		   "cell_type": "markdown",
		   "metadata": {},
		   "source": [
			"## Example 7.3: Example.sce"
		   ]
		  },
  {
"cell_type": "code",
	   "execution_count": null,
	   "metadata": {
	    "collapsed": true
	   },
	   "outputs": [],
"source": [
"// Given :-\n",
"T = 373.15                                              // initial temperature of saturated liquid in kelvin\n",
"T0 = 293.15                                             // in kelvin\n",
"P0 = 1.014                                              // in bar\n",
"// Part(a)\n",
"// From table A-2\n",
"ug = 2506.5                                             // in kj/kg\n",
"uf = 418.94                                             // in kj/kg\n",
"vg = 1.673                                              // in m^3/kg\n",
"vf = 1.0435*(10**(-3))                                  // in m^3/kg\n",
"sg = 7.3549                                             // in kj/kg.k\n",
"sf = 1.3069                                             // in kj/kg.k\n",
"// Calculations \n",
"// Energy transfer accompanying work\n",
"etaw = 0                                                // since p = p0\n",
"// Exergy transfer accompanying heat\n",
"Q = 2257                                                // in kj/kg,obtained from example 6.1\n",
"etah = (1-(T0/T))*Q\n",
"// Exergy destruction\n",
"ed = 0                                                  // since the process is accomplished without any irreversibilities\n",
"deltae = ug-uf + P0*(10**5)*(vg-vf)/(10**3)-T0*(sg-sf)\n",
"// Results\n",
"printf( ' Part(a)the change in exergy is %.2f kJ/kg.',deltae)\n",
"printf( ' The exergy transfer accompanying work is %.2f kJ/kg.',etaw)\n",
"printf( ' The exergy transfer accompanying heat is %.2f kJ/kg',etah)\n",
"printf( ' The exergy destruction is %.2f kJ/kg.',ed)\n",
"// Part(b)\n",
"Deltae = deltae                                          // since the end states are same \n",
"Etah = 0                                                 // since process is adiabatic\n",
"// Exergy transfer along work\n",
"W = -2087.56                                             // in kj/kg from example 6.2\n",
"Etaw = W- P0*(10**5)*(vg-vf)/(10**3)\n",
"// Exergy destruction\n",
"Ed = -(Deltae+Etaw)\n",
"// Results\n",
"printf( ' Part(b)the change in exergy is %.2f kJ/kg.',Deltae)\n",
"printf( ' The exergy transfer accompanying work is %.2f kJ/kg.',Etaw)\n",
"printf( ' The exergy transfer accompanying heat is %.2f kJ/kg.',Etah)\n",
"printf( ' The exergy destruction is %.2f kJ/kg.',Ed)"
   ]
   }
,
{
		   "cell_type": "markdown",
		   "metadata": {},
		   "source": [
			"## Example 7.4: Example.sce"
		   ]
		  },
  {
"cell_type": "code",
	   "execution_count": null,
	   "metadata": {
	    "collapsed": true
	   },
	   "outputs": [],
"source": [
"// Given:-\n",
"T0 = 293.00                                         // in kelvin\n",
"Qdot = -1.2                                         // in KW, from example 6.4a\n",
"Tb = 300.00                                         // temperature at the outer surface of the gearbox in kelvin from example 6.4a\n",
"sigmadot = 0.004                                    // rate of entropy production in KW/k from example 6.4a\n",
"// Calculations\n",
"R = -(1-T0/Tb)*Qdot                                  // time rate of exergy transfer accompanying heat\n",
"Eddot = T0*sigmadot                                 // rate of exergy destruction\n",
"// Results\n",
"printf( ' Balance sheet');\n",
"printf( '\n Rate of exergy in high speed shaft 60Kw' )\n",
"printf( '\n Disposition of the exergy: Rate of exergy out low-speed shaft %.1f Kw',58.8 )\n",
"printf( '\n Heat transfer is %.3f kw.',R)\n",
"printf( '\n Rate of exergy destruction is %.3f kw',Eddot)"
   ]
   }
,
{
		   "cell_type": "markdown",
		   "metadata": {},
		   "source": [
			"## Example 7.5: Example.sce"
		   ]
		  },
  {
"cell_type": "code",
	   "execution_count": null,
	   "metadata": {
	    "collapsed": true
	   },
	   "outputs": [],
"source": [
"// Given:-\n",
"p1 = 3.0                                              // entry pressure in Mpa\n",
"p2 = 0.5                                              // exit pressure in Mpa\n",
"T1 = 320.0                                            // entry temperature in degree celcius\n",
"T0 = 25.0                                             // in degree celcius\n",
"p0 = 1.0                                              // in atm\n",
"// From table A-4\n",
"h1 = 3043.4                                           // in kj/kg\n",
"s1 = 6.6245                                           // in kj/kg.k\n",
"h2 = h1                                               // from reduction of the steady-state mass and energy rate balances\n",
"s2 = 7.4223                                           // Interpolating at a pressure of 0.5 MPa with h2 = h1, units in kj/kg.k\n",
"// From table A-2\n",
"h0 = 104.89                                           // in kj/kg\n",
"s0 = 0.3674                                           // in kj/kg.k\n",
"// Calculations \n",
"ef1 = h1-h0-(T0+273)*(s1-s0)                          // flow exergy at the inlet\n",
"ef2 = h2-h0-(T0+273)*(s2-s0)                          // flow exergy at the exit\n",
"// From the steady-state form of the exergy rate balance\n",
"Ed = ef1-ef2                                          // the exergy destruction per unit of mass flowing is\n",
"// Results \n",
"printf( ' The specific flow exergy at the inlet is %.2f kJ/kg.',ef1)\n",
"printf( ' The specific flow exergy at the exit is %.2f kJ/kg.',ef2)\n",
"printf( ' The exergy destruction per unit of mass flowing is %.2f kJ/kg.',Ed)"
   ]
   }
,
{
		   "cell_type": "markdown",
		   "metadata": {},
		   "source": [
			"## Example 7.6: Example.sce"
		   ]
		  },
  {
"cell_type": "code",
	   "execution_count": null,
	   "metadata": {
	    "collapsed": true
	   },
	   "outputs": [],
"source": [
"// Given:-\n",
"T1 = 610.0                                                // temperature of the air entering heat exchanger in kelvin\n",
"p1 = 10.0                                                 // pressure of the air entering heat exchanger in bar\n",
"T2 = 860.0                                                // temperature of the air exiting the heat exchanger in kelvin\n",
"p2 = 9.70                                                 // pressure of the air exiting the heat exchanger in bar\n",
"T3 = 1020.0                                               // temperature of entering hot combustion gas in kelvin\n",
"p3 = 1.10                                                 // pressure of entering hot  combustion gas in bar\n",
"p4 = 1.0                                                  // pressure of exiting hot combustion gas in bar\n",
"mdot = 90.0                                               // mass flow rate in kg/s\n",
"T0 = 300.0                                                // in kelvin\n",
"p0 = 1.0                                                  // in bar\n",
"// Part (a)\n",
"// From table A-22\n",
"h1 = 617.53                                               // in kj/kg\n",
"h2 = 888.27                                               // in kj/kg\n",
"h3 = 1068.89                                              // in kj/kg\n",
"// Calculations\n",
"h4 = h3+h1-h2\n",
"// Using interpolation in table A-22 gives\n",
"T4 = 778                                                  // in kelvin\n",
"// Results\n",
"printf( ' The exit temperature of the combustion gas   is %f kelvin.',T4);\n",
"// Part(b)\n",
"// From table A-22\n",
"s2 = 2.79783                                              // in kj/kg.k\n",
"s1 = 2.42644                                              // in kj/kg.k\n",
"s4 = 2.68769                                              // in kj/kg.k\n",
"s3 = 2.99034                                              // in kj/kg.k\n",
"// Calculations for part b\n",
"deltaR = (mdot*((h2-h1)-T0*(s2-s1-(8.314/28.97)*log(p2/p1))))/1000\n",
"deltRc = mdot*((h4-h3)-T0*(s4-s3-(8.314/28.97)*log(p4/p3)))/1000\n",
"// Results for part b\n",
"printf( ' The net change in the flow exergy rate from inlet to exit of compressed gas   is %.3f MW.',deltaR)\n",
"printf( ' The net change in the flow exergy rate from inlet to exit of hot combustion gas   is %.3f MW.',deltRc)\n",
"// Part(c)\n",
"//From an exergy rate balance\n",
"Eddot = -deltaR-deltRc\n",
"// Results \n",
"printf( ' The rate exergy  destroyed,   is %.3f MW.',Eddot)"
   ]
   }
,
{
		   "cell_type": "markdown",
		   "metadata": {},
		   "source": [
			"## Example 7.7: Example.sce"
		   ]
		  },
  {
"cell_type": "code",
	   "execution_count": null,
	   "metadata": {
	    "collapsed": true
	   },
	   "outputs": [],
"source": [
"// Given:-\n",
"p1 = 30.0                                             // pressure of entering steam in bar\n",
"t1 = 400.0                                            // temperature of entering steam in degree celcius\n",
"v1 = 160.0                                            // velocity of entering steam in m/s\n",
"t2 = 100.0                                            // temperature of exiting saturated vapor in degree celcius\n",
"v2 = 100.0                                            // velocity of exiting saturated vapor in m/s\n",
"W = 540.0                                             // rate of work developed in kj per kg of steam\n",
"Tb = 350.0                                            // the temperature on the boundary where heat transfer occurs in kelvin\n",
"T0 = 25.0                                             // in degree celcius\n",
"p0 = 1.0                                              // in atm\n",
"// From table A-4\n",
"h1 = 3230.9                                           // in kj/kg\n",
"s1 = 6.9212                                           // in kj/kg.k\n",
"// From table A-2 \n",
"h2 = 2676.1                                           // in kj/kg\n",
"s2 = 7.3549                                           // in kj/kg.k\n",
"// From example 6.6\n",
"Q = -22.6                                             // in kj/kg\n",
"  \n",
"// Calculations\n",
"DELTAef = (h1-h2)-(T0+273)*(s1-s2)+(v1**2-v2**2)/(2*1000)\n",
"// The net exergy carried in per unit mass of steam flowing in kj/kg\n",
"Eq = (1-(T0+273)/Tb)*(Q)                              // exergy transfer accompanying heat in kj/kg\n",
"Ed = ((1-(T0+273)/Tb)*(Q))-W+(DELTAef)                // The exergy destruction determined by rearranging the steady-state form of the exergy \n",
"                                                      // rate balance\n",
"// Results\n",
"printf( ' Balance sheet')\n",
"printf( ' Net rate of exergy %f kJ/kg,',DELTAef)\n",
"printf( ' Disposition of the exergy:')\n",
"printf( '* Rate of exergy out')\n",
"printf( ' Work %f kJ/kg.',W)\n",
"printf( ' Heat transfer %f',-Eq)\n",
"printf( '• Rate of exergy destruction %f kJ/kg.',Ed)"
   ]
   }
,
{
		   "cell_type": "markdown",
		   "metadata": {},
		   "source": [
			"## Example 7.8: Example.sce"
		   ]
		  },
  {
"cell_type": "code",
	   "execution_count": null,
	   "metadata": {
	    "collapsed": true
	   },
	   "outputs": [],
"source": [
"// Given:-\n",
"clc;\n",
"m1dot = 69.78                                             // in kg/s\n",
"p1 = 1.0                                                  // in bar\n",
"T1 = 478.0                                                // in kelvin\n",
"T2 = 400.0                                                // in kelvin\n",
"p2 = 1.0                                                  // in bar\n",
"p3 = 0.275                                                // in Mpa\n",
"T3 = 38.9                                                 // in degree celcius\n",
"m3dot = 2.08                                              // in kg/s\n",
"T4 = 180.0                                                // in degree celcius\n",
"p4 = 0.275                                                // in Mpa\n",
"p5 = 0.07                                                 // in bar\n",
"x5 = 0.93\n",
"Wcvdot = 876.8                                            // in kW\n",
"T0 = 298.0                                                // in kelvin\n",
"// Part(a)\n",
"// From table A-22\n",
"h1 = 480.35                                               // in kj/kg\n",
"h2 = 400.97                                               // in kj/kg\n",
"s1 = 2.173                                                // in kj/kg\n",
"s2 = 1.992                                                // in kj/kg\n",
"// From table A-2E\n",
"h3 = 162.82                                               // in kj/kg\n",
"s3 = 0.5598                                               // in kj/kg.k\n",
"// Using saturation data at 0.07 bars from Table A-3\n",
"h5 = 2403.27                                              // in kj/kg\n",
"s5 = 7.739                                                // in kj/kg.k\n",
"//The net rate exergy carried out by the water stream\n",
"// From table A-4\n",
"h4 = 2825.0                                               // in kj/kg\n",
"s4 = 7.2196                                               // in kj/kg.k\n",
"// Calculations\n",
"netRE = m1dot*(h1-h2-T0*(s1-s2-(8.314/28.97)*log(p1/p2))) // the net rate exergy  carried into the control volume\n",
"netREout = m3dot*(h5-h3-T0*(s5-s3))\n",
"// From an exergy rate balance applied to a control volume enclosing the steam generator\n",
"Eddot = netRE + m3dot*(h3-h4-T0*(s3-s4))                  // the rate exergy is destroyed in the heat-recovery steam generator\n",
"// From an exergy rate balance applied to a control volume enclosing the turbine\n",
"EdDot = -Wcvdot + m3dot*(h4-h5-T0*(s4-s5))                // the rate exergy is destroyed in the tpurbine\n",
"// Results \n",
"printf( '\n balance sheet')\n",
"printf( '\n- Net rate of exergy in: %f kJ/kg.',netRE)\n",
"printf( '\n Disposition of the exergy:')\n",
"printf( '\n• Rate of exergy out')\n",
"printf( '\n power developed %f kJ/kg.',netRE-netREout-Eddot-EdDot)\n",
"printf( '\n water stream  %f',netREout)\n",
"printf( '\n• Rate of exergy destruction')\n",
"printf( '\n heat-recovery steam generator %f kJ/kg',Eddot)\n",
"printf( '\n turbine %f',EdDot)\n",
"// note : answer is slightly different because of rounding off error."
   ]
   }
,
{
		   "cell_type": "markdown",
		   "metadata": {},
		   "source": [
			"## Example 7.9: Example.sce"
		   ]
		  },
  {
"cell_type": "code",
	   "execution_count": null,
	   "metadata": {
	    "collapsed": true
	   },
	   "outputs": [],
"source": [
"// Given:-\n",
"T0 = 273.00                                                 // in kelvin\n",
"pricerate = 0.08                                            // exergy value at $0.08 per kw.h\n",
"// From example 6.8\n",
"sigmadotComp = 17.5e-4                                      // in kw/k\n",
"sigmadotValve = 9.94e-4                                     // in kw/k\n",
"sigmadotcond = 7.95e-4                                      // in kw/k\n",
"// Calculations\n",
"// The rates of exergy destruction\n",
"EddotComp = T0*sigmadotComp                                 // in kw\n",
"EddotValve = T0*sigmadotValve                               // in kw\n",
"Eddotcond = T0*sigmadotcond                                 // in kw\n",
"mCP = 3.11                                                  // From the solution to Example 6.14, the magnitude of the compressor power in kW\n",
"// Results\n",
"printf( ' Daily cost in dollars of exergy destruction due to compressor irreversibilities = %.3f',EddotComp*pricerate*24)\n",
"printf( ' Daily cost in dollars of exergy destruction due to irreversibilities in the throttling valve = %.3f',EddotValve*pricerate*24)\n",
"printf( ' Daily cost in dollars of exergy destruction due to irreversibilities in the condenser = %.3f ',Eddotcond*pricerate*24)\n",
"printf( ' Daily cost in dollars  of electricity to operate compressor = %.3f',mCP*pricerate*24)"
   ]
   }
],
"metadata": {
		  "kernelspec": {
		   "display_name": "Scilab",
		   "language": "scilab",
		   "name": "scilab"
		  },
		  "language_info": {
		   "file_extension": ".sce",
		   "help_links": [
			{
			 "text": "MetaKernel Magics",
			 "url": "https://github.com/calysto/metakernel/blob/master/metakernel/magics/README.md"
			}
		   ],
		   "mimetype": "text/x-octave",
		   "name": "scilab",
		   "version": "0.7.1"
		  }
		 },
		 "nbformat": 4,
		 "nbformat_minor": 0
}
