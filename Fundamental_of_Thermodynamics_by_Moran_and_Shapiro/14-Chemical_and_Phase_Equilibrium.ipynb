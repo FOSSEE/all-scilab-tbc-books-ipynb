{
"cells": [
 {
		   "cell_type": "markdown",
	   "metadata": {},
	   "source": [
       "# Chapter 14: Chemical and Phase Equilibrium"
	   ]
	},
{
		   "cell_type": "markdown",
		   "metadata": {},
		   "source": [
			"## Example 14.10: Example.sce"
		   ]
		  },
  {
"cell_type": "code",
	   "execution_count": null,
	   "metadata": {
	    "collapsed": true
	   },
	   "outputs": [],
"source": [
"// Given:-\n",
"// With data from Table A-2 at 20C,\n",
"vf = 1.0018e-3                                                                  // in m^3/kg\n",
"psat = 0.0239                                                                   // in bar\n",
"p = 1.0                                                                         // in bar\n",
"T = 293.15                                                                      // in kelvin\n",
"Rbar = 8.314                                                                    // universal gas constant in SI units\n",
"M = 18.02                                                                       // molat mass of water in kg/kmol\n",
"e=2.715\n",
"// Calculations\n",
"pvbypsat = e**(vf*(p-psat)*10**5/((1000*Rbar/M)*T))\n",
"percent = (pvbypsat-1)*100\n",
"// Result\n",
"printf( ' The departure, in percent, of the partial pressure of the water vapor from the saturation pressure of water at 20 is: %.3f',percent)"
   ]
   }
,
{
		   "cell_type": "markdown",
		   "metadata": {},
		   "source": [
			"## Example 14.1: Example.sce"
		   ]
		  },
  {
"cell_type": "code",
	   "execution_count": null,
	   "metadata": {
	    "collapsed": true
	   },
	   "outputs": [],
"source": [
"// Given:-\n",
"// The reaction is CO + .5O2  ---   CO2\n",
"// Part(a)\n",
"T = 298.0                                                                         // in kelvin\n",
"Rbar = 8.314                                                                      // universal gas constant in SI units\n",
"// From table A-25\n",
"hfbarCO2 = -393520.0                                                              // in kj/kmol\n",
"hfbarCO = -110530.0                                                               // in kj/kmol\n",
"hfbarO2 = 0                                                                       // in kj/kmol\n",
"deltahbarCO2 = 0                                                                  // in kj/kmol\n",
"deltahbarCO = 0                                                                   // in kj/kmol\n",
"deltahbarO2 = 0                                                                   // in kj/kmol\n",
"sbarCO2 = 213.69                                                                  // in kj/kmol.K\n",
"sbarCO = 197.54                                                                   // in kj/kmol.K\n",
"sbarO2 = 205.03                                                                   // in kj/kmol.K\n",
"// From table A-27\n",
"logKtable = 45.066\n",
"// Calculations\n",
"deltaG = (hfbarCO2-hfbarCO-.5*hfbarO2) + (deltahbarCO2-deltahbarCO-.5*deltahbarO2) - T*(sbarCO2-sbarCO-.5*sbarO2)\n",
"lnK = -deltaG/(Rbar*T)\n",
"logK = (1/log(10))*lnK\n",
"// Results\n",
"printf( ' Part(a) the value of equilibrium constant expressed as log10K is:  %f',logK);\n",
"printf( ' The value of equilibrium constant expressed as log10K from table A-27 is: %f ',logKtable);\n",
"// Part(b)\n",
"T = 2000.0                                                                        // in kelvin\n",
"// From table A-23\n",
"hfbarCO2 = -393520.0                                                              // in kj/kmol\n",
"hfbarCO = -110530.0                                                               // in kj/kmol\n",
"hfbarO2 = 0                                                                       // in kj/kmol\n",
"deltahbarCO2 = 100804-9364                                                        // in kj/kmol\n",
"deltahbarCO = 65408 - 8669                                                        // in kj/kmol\n",
"deltahbarO2 = 67881 - 8682                                                        // in kj/kmol\n",
"sbarCO2 = 309.210                                                                 // in kj/kmol.K\n",
"sbarCO = 258.6                                                                    // in kj/kmol.K\n",
"sbarO2 = 268.655                                                                  // in kj/kmol.K\n",
"// Calculations\n",
"deltaG = (hfbarCO2-hfbarCO-.5*hfbarO2) + (deltahbarCO2-deltahbarCO-.5*deltahbarO2) - T*(sbarCO2-sbarCO-.5*sbarO2)\n",
"lnK = -deltaG/(Rbar*T)\n",
"logK = (1/log(10))*lnK\n",
"// From table A-27\n",
"logKtable = 2.884\n",
"// Results\n",
"printf( ' Part(b) the value of equilibrium constant expressed as log10K is: %f ',logK);\n",
"printf( ' The value of equilibrium constant expressed as log10K from table A-27 is: %f ',logKtable);"
   ]
   }
,
{
		   "cell_type": "markdown",
		   "metadata": {},
		   "source": [
			"## Example 14.2: Example.sce"
		   ]
		  },
  {
"cell_type": "code",
	   "execution_count": null,
	   "metadata": {
	    "collapsed": true
	   },
	   "outputs": [],
"source": [
"// Given:-\n",
"// Applying conservation of mass, the overall balanced chemical reaction equation is\n",
"// CO + .5O2    ------    zCO + (z/2)O2 + (1-z)CO2\n",
"// At 2500 K, Table A-27 gives\n",
"log10K = -1.44\n",
"// Part(a)\n",
"p = 1.0                                                                         // in atm\n",
"// Calculations\n",
"K = (10.0)**(log10K)                                                            // equilibrium constant\n",
"// Solving equation K = (z/(1-z))*(2/(2 + z))^.5 *(p/1)^.5 gives\n",
"z = 0.129\n",
"yCO = 2.0*z/(2.0 + z)\n",
"yO2 = z/(2.0 + z)\n",
"yCO2 = 2.0*(1.0 - z)/(2.0 + z)\n",
"// Results\n",
"printf( ' Part(a) mole fraction of CO is: %.3f ',yCO)\n",
"printf( ' Mole fraction of O2 is:  %.3f',yO2)\n",
"printf( ' Mole fraction of CO2 is:  %.3f',yCO2)\n",
"// Part(b)\n",
"p = 10.0                                                                          // in atm\n",
"// Solving equation K = (z/(1-z))*(2/(2 + z))^.5 *(p/1)^.5 gives\n",
"z = 0.062\n",
"yCO = 2.0*z/(2.0 + z)\n",
"yO2 = z/(2.0 + z)\n",
"yCO2 = 2.0*(1.0 - z)/(2.0 + z)\n",
"// Results\n",
"printf( ' Part(b) mole fraction of CO is:  %.3f',yCO)\n",
"printf( ' Mole fraction of O2 is:  %.3f',yO2)\n",
"printf( ' Mole fraction of CO2 is: %.3f ',yCO2)"
   ]
   }
,
{
		   "cell_type": "markdown",
		   "metadata": {},
		   "source": [
			"## Example 14.3: Example.sce"
		   ]
		  },
  {
"cell_type": "code",
	   "execution_count": null,
	   "metadata": {
	    "collapsed": true
	   },
	   "outputs": [],
"source": [
"// Given:-\n",
"yCO = 0.298\n",
"p = 1                                                                           // in atm\n",
"pref = 1                                                                        // in atm\n",
"// With this value of K, table A-27 gives\n",
"T = 2881\n",
"// Calculations\n",
"// Solving yCO = 2z/(2 + z)\n",
"z = 2*yCO/(2 - yCO)\n",
"K = (z/(1-z))*(z/(2 + z))**.5*(p/pref)**.5\n",
"// Result\n",
"printf( ' The temperature T of the mixture in kelvin is:  %f',T);"
   ]
   }
,
{
		   "cell_type": "markdown",
		   "metadata": {},
		   "source": [
			"## Example 14.4: Example.sce"
		   ]
		  },
  {
"cell_type": "code",
	   "execution_count": null,
	   "metadata": {
	    "collapsed": true
	   },
	   "outputs": [],
"source": [
"// Given:-\n",
"// For a complete reaction of CO with the theoretical amount of air\n",
"// CO + .5 O2 + 1.88N2  ----  CO2 + 1.88N2    \n",
"// Accordingly, the reaction of CO with the theoretical amount of air to form CO2, CO, O2, and N2 is\n",
"// CO + .5O2 + 1.88N2 --  zCO + z/2 O2 + (1-z)CO2 + 1.88N2\n",
"K = 0.0363                                                                       // equilibrium constant the solution to Example 14.2\n",
"p =1.0                                                                           // in atm\n",
"pref = 1.0                                                                       // in atm\n",
"// Calculations\n",
"// Solving K = (z*z^.5/(1-z))*((p/pref)*2/(5.76+z))^.5 gives\n",
"z = 0.175\n",
"yCO = 2.0*z/(5.76 + z)\n",
"yO2 = z/(5.76 + z)\n",
"yCO2 = 2.0*(1.0-z)/(5.76 + z)\n",
"yN2 = 3.76/(5.76 + z)\n",
"// Results\n",
"printf( ' The mole fraction of CO is: %.3f ',yCO)\n",
"printf( ' The mole fraction of O2 is: %.3f ',yO2)\n",
"printf( ' The mole fraction of CO2 is:  %.3f',yCO2)\n",
"printf( ' The mole fraction of N2 is:  %.3f',yN2)"
   ]
   }
,
{
		   "cell_type": "markdown",
		   "metadata": {},
		   "source": [
			"## Example 14.5: Example.sce"
		   ]
		  },
  {
"cell_type": "code",
	   "execution_count": null,
	   "metadata": {
	    "collapsed": true
	   },
	   "outputs": [],
"source": [
"// Given:-\n",
"// Applying the conservation of mass principle, the overall dissociation reaction is described by\n",
"// CO2  ---  zCO2 + (1-z)CO + ((1-z)/2)O2\n",
"p = 1.0                                                                           // in atm\n",
"pref = 1.0                                                                        // in atm\n",
"// At 3200 K, Table A-27 gives\n",
"log10k = -.189\n",
"// Solving k = ((1-z)/2)*((1-z)/(3-z))^.5 gives\n",
"z = 0.422\n",
"// Calculations\n",
"k = 10**log10k\n",
"// From tables A-25  and A-23\n",
"hfbarCO2 = -393520.0                                                              // in kj/kmol\n",
"deltahbarCO2 = 174695-9364                                                        // in kj/kmol\n",
"hfbarCO = -110530.0                                                               // in kj/kmol\n",
"deltahbarCO = 109667-8669                                                         // in kj/kmol\n",
"hfbarO2 = 0                                                                       // in kj/kmol\n",
"deltahbarO2 = 114809-8682                                                         // in kj/kmol\n",
"hfbarCO2r =  -393520.0                                                            // in kj/kmol\n",
"deltahbarCO2r = 0                                                                 // in kj/kmol\n",
"Qcvdot = 0.422*(hfbarCO2 + deltahbarCO2) + 0.578*(hfbarCO + deltahbarCO) + 0.289*(hfbarO2 + deltahbarO2)- (hfbarCO2r + deltahbarCO2r)  \n",
"// Result\n",
"printf( ' The heat transfer to the reactor, in kJ per kmol of CO2 entering is:  %f', Qcvdot);"
   ]
   }
,
{
		   "cell_type": "markdown",
		   "metadata": {},
		   "source": [
			"## Example 14.8: Example.sce"
		   ]
		  },
  {
"cell_type": "code",
	   "execution_count": null,
	   "metadata": {
	    "collapsed": true
	   },
	   "outputs": [],
"source": [
"// Given:-\n",
"// The ionization of cesium to form a mixture of Cs, Cs+, and e- is described by\n",
"// Cs  ---  (1-z)Cs + zCs+ + Ze-\n",
"K = 15.63\n",
"z = 0.95\n",
"pref =1                                                                         // in atm\n",
"// Calculation\n",
"p = pref*K*((1-z**2)/z**2)\n",
"// Results\n",
"printf( ' The pressure if the ionization of CS is 95 percent complete is: %f atm',p);\n",
"x = linspace(0,10,100)\n",
"for i = 1:100\n",
"    y(i)= 100*((1/(1+x(i)/K))**0.5)\n",
"end\n",
"plot(x,y)\n",
"xlabel('Pressure (atm)')\n",
"ylabel('Ionization')"
   ]
   }
],
"metadata": {
		  "kernelspec": {
		   "display_name": "Scilab",
		   "language": "scilab",
		   "name": "scilab"
		  },
		  "language_info": {
		   "file_extension": ".sce",
		   "help_links": [
			{
			 "text": "MetaKernel Magics",
			 "url": "https://github.com/calysto/metakernel/blob/master/metakernel/magics/README.md"
			}
		   ],
		   "mimetype": "text/x-octave",
		   "name": "scilab",
		   "version": "0.7.1"
		  }
		 },
		 "nbformat": 4,
		 "nbformat_minor": 0
}
