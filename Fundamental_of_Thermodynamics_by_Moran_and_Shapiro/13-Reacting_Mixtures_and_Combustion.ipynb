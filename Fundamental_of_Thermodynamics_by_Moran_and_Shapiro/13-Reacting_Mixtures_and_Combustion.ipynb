{
"cells": [
 {
		   "cell_type": "markdown",
	   "metadata": {},
	   "source": [
       "# Chapter 13: Reacting Mixtures and Combustion"
	   ]
	},
{
		   "cell_type": "markdown",
		   "metadata": {},
		   "source": [
			"## Example 13.10: Example.sce"
		   ]
		  },
  {
"cell_type": "code",
	   "execution_count": null,
	   "metadata": {
	    "collapsed": true
	   },
	   "outputs": [],
"source": [
"// Given:-\n",
"Rbar = 8.314                                                                    // universal gas constant in SI units\n",
"// The chemical equation for the complete combustion of methane with oxygen is\n",
"// CH4 + 2O2 ---  CO2 + 2H2O\n",
"yCH4 = 1.0/3.0\n",
"yO2 = 2.0/3.0\n",
"yCO2 = 1.0/3.0\n",
"yH2O = 2.0/3.0\n",
"// From table A-25\n",
"sbarCH4atTref = 186.16                                                          // in kj/kmol.K\n",
"sbarO2atTref = 205.03                                                           // in kj/kmol.K\n",
"p2 = 3.02                                                                       // in atm\n",
"pref = 1.0                                                                      // in atm\n",
"// Calculations\n",
"sbarCH4 = sbarCH4atTref - Rbar*log(yCH4)\n",
"sbarO2 = sbarO2atTref - Rbar*log(yO2)\n",
"// With help from table A-23\n",
"sbarCO2 = 263.559 - Rbar*log(yCO2*p2/pref)                                 // in kj/kmol.K\n",
"sbarH2O = 228.321 - Rbar*log(yH2O*p2/pref)                                 // in kj/kmol.K\n",
"deltaS = sbarCO2 + 2*sbarH2O - sbarCH4 -2*sbarO2                                // in kj/K\n",
"// Result\n",
"printf( ' The change in entropy of the system  is: %.2f kJ/K ',deltaS)"
   ]
   }
,
{
		   "cell_type": "markdown",
		   "metadata": {},
		   "source": [
			"## Example 13.11: Example.sce"
		   ]
		  },
  {
"cell_type": "code",
	   "execution_count": null,
	   "metadata": {
	    "collapsed": true
	   },
	   "outputs": [],
"source": [
"// Given:-\n",
"// Methane is formed from carbon and hydrogen according to\n",
"// C + 2H2 -----  CH4\n",
"// In the present case, all substances are at the same temperature and pressure, 25C and 1 atm, which correspond to the standard reference state values\n",
"hCbar = 0\n",
"hH2bar = 0\n",
"gRbar = 0\n",
"// With enthalpy of formation and absolute entropy data from Table A-25\n",
"hfbarCH4 = -74850\n",
"sbarCH4 = 186.16\n",
"sbarC = 5.74\n",
"sbarH2 = 130.57\n",
"Tref = 298.15                                                                   // in kelvin\n",
"// Calculation\n",
"gfbarCH4 = hfbarCH4 -Tref*(sbarCH4-sbarC-2*sbarH2)                              // in kj/kmol\n",
"// Result\n",
"printf( ' The gibbs function of formation of methane at the standard state is:  %f kJ/mol',gfbarCH4)"
   ]
   }
,
{
		   "cell_type": "markdown",
		   "metadata": {},
		   "source": [
			"## Example 13.12: Example.sce"
		   ]
		  },
  {
"cell_type": "code",
	   "execution_count": null,
	   "metadata": {
	    "collapsed": true
	   },
	   "outputs": [],
"source": [
"// Given:-\n",
"// Complete combustion of liquid octane with O2 is described by\n",
"// C8H18(l) + 12.5O2   -----   8CO2 + 9H2O\n",
"// Part(a)\n",
"Rbar = 8.314                                                                    // universal gas constant in SI units\n",
"Tnot = 298.15                                                                   // in kelvin\n",
"// From table A-25\n",
"gbarC8H18 = 6610.0\n",
"gbarO2 = 0\n",
"gbarCO2 = -394380\n",
"gbarH2O = -228590\n",
"yO2 = 0.2035\n",
"yCO2 = 0.0003\n",
"yH2O = 0.0312\n",
"M = 114.22                                                                      // molecular weight of liquid octane\n",
"// Calculations\n",
"ech = ((gbarC8H18 + 12.5*gbarO2 -8*gbarCO2 -9*gbarH2O) + Rbar*Tnot*log(yO2**12.5/(yCO2**8*yH2O**9    )))/M\n",
"// Result\n",
"printf( ' Part(a) the chemical exergy obtained on a unit mass basis is:  %.2f kJ/K',ech)\n",
"// Part(b)\n",
"// With data from Table A-25 and Model II of Table A-26\n",
"gbarH2O = -237180.0\n",
"ebarCO2 = 19870.0\n",
"ebarH2O = 900.0\n",
"ebarO2 = 3970.0\n",
"// Calculation\n",
"ech = ((gbarC8H18 + 12.5*gbarO2 -8*gbarCO2 - 9*gbarH2O) + 8*ebarCO2 + 9*ebarH2O - 12.5*ebarO2)/M\n",
"// Result\n",
"printf( ' Part(b) chemical exergy on a unit mass basis is: %.3f kJ/K',ech)"
   ]
   }
,
{
		   "cell_type": "markdown",
		   "metadata": {},
		   "source": [
			"## Example 13.13: Example.sce"
		   ]
		  },
  {
"cell_type": "code",
	   "execution_count": null,
	   "metadata": {
	    "collapsed": true
	   },
	   "outputs": [],
"source": [
"// Given:-\n",
"Rbar = 8.314                                                                // universal gas constant in SI units\n",
"Tnot = 298.0                                                                // in kelvin\n",
"// With data from the steam tables\n",
"h = 2939.9                                                                  // in kj/kg\n",
"hnot = 104.9                                                                // in kj/kg\n",
"s = 7.2307                                                                  // in kj/kg\n",
"snot = 0.3674                                                               // in kj/kg\n",
"// With data from Table A-25\n",
"gbarH2Oliq = -237180.0\n",
"gbarH2Ogas = -228590.0\n",
"yeH2O = 0.0303\n",
"M =18.0                                                                     // molar mass of steam\n",
"// Calculations\n",
"ech = (1.0/M)*(gbarH2Oliq-gbarH2Ogas + Rbar*Tnot*log(1/yeH2O))         // in kj/kg\n",
"ef = h-hnot-Tnot*(s-snot) + ech                                             // in kj/kg\n",
"// Result\n",
"printf( ' The flow exergy of the steam, in is:  %.2f kJ/kg ',ef)"
   ]
   }
,
{
		   "cell_type": "markdown",
		   "metadata": {},
		   "source": [
			"## Example 13.14: Example.sce"
		   ]
		  },
  {
"cell_type": "code",
	   "execution_count": null,
	   "metadata": {
	    "collapsed": true
	   },
	   "outputs": [],
"source": [
"// Given:-\n",
"// For 140% theoretical air, the reaction equation for complete combustion of methane is\n",
"// CH4 + 2.8(O2 + 3.76N2)  ------  CO2 + 2H2O + 10.53N2 + .8O2\n",
"// For product side\n",
"yCO2p = 1.0/(1.0+2.0+10.53+.8)\n",
"yH2Op = 2.0/(1.0+2.0+10.53+.8)\n",
"yN2p = 10.53/(1.0+2.0+10.53+.8)\n",
"yO2p = 0.8/(1.0+2.0+10.53+.8)\n",
"Rbar = 8.314                                                                    // universal gas constant in SI units\n",
"Tnot = 298.15                                                                   // in kelvin\n",
"yeN2 = 0.7567\n",
"yeO2 = 0.2035\n",
"yeH2O = 0.0303\n",
"yeCO2 = 0.0003\n",
"// Calculations\n",
"ebarch = Rbar*Tnot*(log(yCO2p/yeCO2) + 2*log(yH2Op/yeH2O) + 10.53*log(yN2p/yeN2) + .8*log(yO2p/yeO2))\n",
"// with data from tables A-23 at 480 and 1560 kelvin,the thermomechanical contribution to the flow exergy, per mole of fuel, is\n",
"contri480 = 17712.0                                                               // kJ per kmol of fuel\n",
"contri1560 = 390853.0                                                             // kJ per kmol of fuel\n",
"efbar480 = contri480 + ebarch                                                     // kJ per kmol of fuel\n",
"efbar1560 = contri1560 + ebarch                                                   // kJ per kmol of fuel\n",
"// Results\n",
"printf( ' At T= 480k, the flow exergy of the combustion products, in kJ per kmol of fuel is:  %.2f',efbar480)\n",
"printf( ' At T = 1560K, the flow exergy of the combustion products, in kJ per kmol of fuel is:  %.2f',efbar1560)"
   ]
   }
,
{
		   "cell_type": "markdown",
		   "metadata": {},
		   "source": [
			"## Example 13.15: Example.sce"
		   ]
		  },
  {
"cell_type": "code",
	   "execution_count": null,
	   "metadata": {
	    "collapsed": true
	   },
	   "outputs": [],
"source": [
"// Given:-\n",
"mFdot = 1.8e-3                                                              // fuel mass flow rate in kg/s\n",
"ech = 47346.0                                                               // in kj/kg, from example 13.12(a)\n",
"Wcvdot = 37.0                                                               // power developed by the engine in kw\n",
"// Calculations\n",
"Efdot = mFdot*ech                                                           // rate at which exergy enters with the fuel in kw\n",
"epsilon = Wcvdot/Efdot                                                      // exergetic efficiency\n",
"// Result\n",
"printf( ' The exergetic efficiency is:  %.3f',epsilon)"
   ]
   }
,
{
		   "cell_type": "markdown",
		   "metadata": {},
		   "source": [
			"## Example 13.16: Example.sce"
		   ]
		  },
  {
"cell_type": "code",
	   "execution_count": null,
	   "metadata": {
	    "collapsed": true
	   },
	   "outputs": [],
"source": [
"// Given:-\n",
"Tnot = 298                                                                       // in kelvin\n",
"// For the case of complete combustion with the theoretical amount of air\n",
"sigmadot = 5404.0                                                                // rate of entropy production from example 13.9, in kj/kmol.K\n",
"Efdot = 5407843.0                                                                // rate at which exergy enters with the fuel from example 13.12, in kj/kmol\n",
"// Calculations:-\n",
"Eddot = Tnot*sigmadot                                                            // in kj/kmol\n",
"epsilon = 1-Eddot/Efdot\n",
"// Result\n",
"printf( ' The exergetic efficiency with theoretical amount of air is:  %.3f',epsilon)\n",
"// For the case of combustion with 400% theoretical air\n",
"sigmadot = 9754.0                                                                 // rate of entropy production from example 13.9, in kj/kmol.K\n",
"// Calculations\n",
"Eddot = Tnot*sigmadot                                                             // in kj/kmol\n",
"epsilon = 1-Eddot/Efdot\n",
"// Result\n",
"printf( 'The exergetic efficiency with 400 percent theoretical amount of air is: %.3f ',epsilon)"
   ]
   }
,
{
		   "cell_type": "markdown",
		   "metadata": {},
		   "source": [
			"## Example 13.1: Example.sce"
		   ]
		  },
  {
"cell_type": "code",
	   "execution_count": null,
	   "metadata": {
	    "collapsed": true
	   },
	   "outputs": [],
"source": [
"// Given:-\n",
"// Part(a)\n",
"// The combustion equation can be written in the form of \n",
"// C8H18 + a(O2 + 3.76N2) - b CO2 + c H2O + d N2\n",
"// Using conservation of mass principle\n",
"b = 8.00\n",
"c = 18.00/2.00\n",
"a = (2.00*b+c)/2.00\n",
"d = 3.76*a\n",
"// The air–fuel ratio on a molar basis is\n",
"AFbar = a*(1+3.76)/1.00\n",
"Ma = 28.97                                                                      // molar mass of air\n",
"MC8H18 = 114.22                                                                 // molar mass of C8H18\n",
"// The air–fuel ratio expressed on a mass basis is\n",
"AF = AFbar*(Ma/MC8H18)\n",
"// Result\n",
"printf( ' The air–fuel ratio on a molar basis is:  %f', AFbar);\n",
"printf( ' The air–fuel ratio expressed on a mass basis is:  %.2f',AF)\n",
"// Part(b)\n",
"// For 150% theoretical air, the chemical equation for complete combustion takes the form\n",
"// c8H18 + 1.5*12.5*(O2 + 3.76N2) --  b CO2 + c H2O + d N2 + e O2\n",
"// Using conservation of mass\n",
"// Calculations\n",
"b = 8.00\n",
"c =18.00/2.00\n",
"e = (1.5*12.5*2 - c -2*b)/2.00\n",
"d = 1.5*12.5*3.76\n",
"// The air–fuel ratio on a molar basis is\n",
"AFbar = 1.5*12.5*(1+3.76)/1\n",
"// The air–fuel ratio expressed on a mass basis is\n",
"AF = AFbar*(Ma/MC8H18)\n",
"// Results\n",
"printf( ' The air–fuel ratio on a molar basis is:  %f', AFbar)\n",
"printf( ' The air–fuel ratio expressed on a mass basis is:  %.2f',AF)"
   ]
   }
,
{
		   "cell_type": "markdown",
		   "metadata": {},
		   "source": [
			"## Example 13.2: Example.sce"
		   ]
		  },
  {
"cell_type": "code",
	   "execution_count": null,
	   "metadata": {
	    "collapsed": true
	   },
	   "outputs": [],
"source": [
"// Given:-\n",
"// Part(a)\n",
"// The chemical equation\n",
"// a CH4 + b*(O2 + 3.76N2)  --  9.7CO2 + .5CO + 2.95O2 + 86.85N2 + cH2O\n",
"// Calculations\n",
"// Applying conservation of mass \n",
"a = 9.7 + 0.5\n",
"c = 2.0*a\n",
"b = ((9.7)*(2.0)+(0.5)+((2.0)*(2.95))+c)/2.00\n",
"Ma = 28.97                                                                      // molar mass of air\n",
"MCH4 = 16.04                                                                    // molar mass of methane\n",
"// On a molar basis, the air–fuel ratio is\n",
"AFbar = (b*(1+3.76))/a\n",
"// On a mass basis\n",
"AF = AFbar*(Ma/MCH4)\n",
"// Results\n",
"printf( ' The air-fuel ratio on a molar basis is:  %f',AFbar)\n",
"printf( ' The air-fuel ratio on a mass basis is:  %.2f',AF)\n",
"// Part(b)\n",
"// The balanced chemical equation for the complete combustion of methane with the theoretical amount of air is\n",
"// CH4 + 2(O2 + 3.76N2)  --  CO2 + 2H2O + 7.52N2\n",
"// The theoretical air–fuel ratio on a molar basis is\n",
"// Calculations\n",
"AFbartheo = 2.00*(1+3.76)/1.0\n",
"// The percent theoretical air is\n",
"Ta = AFbar/AFbartheo\n",
"// Result\n",
"printf( ' The percent theoretical air is:  %.2f',Ta*100)\n",
"// Ppart(c)\n",
"// The mole fraction of the water vapor is\n",
"yv = 20.4/(100+20.4)\n",
"pv = yv*1\n",
"// Interpolating in Table A-2,\n",
"T = 57                                                                          // in degree celcius\n",
"// Result\n",
"printf( ' The dew point temperature of the products, in C, if the mixture were cooled at 1 atm is:  %f',T);"
   ]
   }
,
{
		   "cell_type": "markdown",
		   "metadata": {},
		   "source": [
			"## Example 13.3: Example.sce"
		   ]
		  },
  {
"cell_type": "code",
	   "execution_count": null,
	   "metadata": {
	    "collapsed": true
	   },
	   "outputs": [],
"source": [
"// Given:-\n",
"// Part(a)\n",
"// The chemical equation\n",
"// (.8062CH4 + .0541C2H6 + .0187C3H8 + .0160C4H10 + .1050N2) + a(O2 + 3.76N2)  ---  b(.078CO2 + .002CO + .07O2 + .85N2) + c H2O\n",
"// Calculations\n",
"// Using mass conservation\n",
"b = (0.8062 + 2*.0541 + 3*.0187 + 4*.0160)/(.078 + .002)\n",
"c = (4*.8062 + 6*.0541 + 8*.0187 + 10*.0160)/2\n",
"a = (b*(2*.078+.002+2*.07) + c)/2\n",
"// The air–fuel ratio on a molar basis is\n",
"AFbar = a*(1+3.76)/1\n",
"// Result\n",
"printf( ' The air-fuel ratio on a molar mass basis is:  %.2f',AFbar)\n",
"// Part(b)\n",
"p = 1.0                                                                           // in bar\n",
"V = 100.0                                                                         // in m^3\n",
"Rbar = 8314.0                                                                     // in N.m/kmol.K\n",
"T = 300.0                                                                         // in kelvin\n",
"// Calculations\n",
"// The amount of fuel in kmol\n",
"nF = (p*10**5*V)/(Rbar*T)\n",
"// The amount of product mixture that would be formed from 100 m3 of fuel mixture is\n",
"n = nF*(b+c)\n",
"// Result\n",
"printf( ' The amount of products in kmol that would be formed from 100 m3 of fuel mixture at 300 K and 1 bar is:  %.2f',n)\n",
"// Part(c)\n",
"// The balanced chemical equation for the complete combustion of the fuel mixture with the theoretical amount of air is\n",
"// (10.8062CH4 + 0.0541C2H6 + 0.0187C3H8 + 0.0160C4H10 + 0.1050N2) + 2(O2 + 3.76N2)   --- 1.0345CO2 + 1.93H2O + 7.625N2\n",
"// Calculations\n",
"// The theoretical air–fuel ratio on a molar basis is\n",
"AFbartheo = 2*(1+3.76)/1\n",
"// The percent theoretical air is\n",
"Ta = AFbar/AFbartheo\n",
"// Result\n",
"printf( ' The percent of theoretical air is: %.2f ',Ta*100)"
   ]
   }
,
{
		   "cell_type": "markdown",
		   "metadata": {},
		   "source": [
			"## Example 13.4: Example.sce"
		   ]
		  },
  {
"cell_type": "code",
	   "execution_count": null,
	   "metadata": {
	    "collapsed": true
	   },
	   "outputs": [],
"source": [
"// Given:-\n",
"// The balanced chemical equation for complete combustion with the theoretical amount of air is obtained from the solution to Example 13.1 as\n",
"// C8H18 +12.5O2 + 47N2 ---- 8CO2 + 9H2O + 47N2\n",
"// From tabel A-25\n",
"hRbar = -249910                                                                 // in kj/kmol\n",
"mfdot = 1.8e-3                                                                  // mass flow rate of liquid octane in kg/s\n",
"M = 114.22                                                                      // molar mass of octane\n",
"Wcvdot = 37                                                                     // power output of the engine in kw\n",
"// Calculations\n",
"// With enthalpy of formation values for CO2 and H2O(g) from Table A-25, and enthalpy values for N2, H2O, and CO2 from Table A-23\n",
"hpbar = 8*(-393520 + (36876 - 9364)) + 9*(-241820 + (31429 - 9904)) + 47*((26568 - 8669))\n",
"nFdot = mfdot/M                                                                 // molar flow rate of the fuel in kmol/s\n",
"Qcvdot = Wcvdot + nFdot*(hpbar-hRbar)                                           // in kw\n",
"// Result\n",
"printf( ' The rate of heat transfer from the engine, in kW is:  %.2f',Qcvdot)"
   ]
   }
,
{
		   "cell_type": "markdown",
		   "metadata": {},
		   "source": [
			"## Example 13.5: Example.sce"
		   ]
		  },
  {
"cell_type": "code",
	   "execution_count": null,
	   "metadata": {
	    "collapsed": true
	   },
	   "outputs": [],
"source": [
"// Given:-\n",
"// When expressed on a per mole of fuel basis, the balanced chemical equation obtained in the solution to Example 13.2  takes the form\n",
"// CH4 + 2.265O2 + 8.515N2  -----  .951CO2 + .049CO + .289O2 + 8.515N2 + 2H2O\n",
"cpbar = 38.00                                                                   // specific heat in KJ/kmol.K\n",
"// From table A-25\n",
"hfnotbar = -74850.00                                                            // enthalpy of formation for methane\n",
"// From table A-23\n",
"deltahbarO2 = 14770-8682\n",
"deltahbarN2 = 14581-8669\n",
"// Calculations\n",
"hRbar = hfnotbar + cpbar*(400-298) + 2.265*deltahbarO2 + 8.515*deltahbarN2      // in kj/kmol\n",
"// With enthalpy of formation values for CO2, CO, and H2O(g) from Table A-25 and enthalpy values from Table A-23\n",
"hpbar = .951*(-393520 + (88806 - 9364)) + .049*(-110530 + (58191 - 8669)) + .289*(60371 - 8682) + 8.515*(57651 - 8669) + 2*(-241820 + (72513 - 9904))\n",
"Qcvdot = hpbar - hRbar                                                          // in kj/kmol\n",
"// Result\n",
"printf( ' The rate of heat transfer from the combustion chamber in kJ per kmol of fuel is:  %.2f',Qcvdot)"
   ]
   }
,
{
		   "cell_type": "markdown",
		   "metadata": {},
		   "source": [
			"## Example 13.6: Example.sce"
		   ]
		  },
  {
"cell_type": "code",
	   "execution_count": null,
	   "metadata": {
	    "collapsed": true
	   },
	   "outputs": [],
"source": [
"// Given:-\n",
"nCH4 = 1.00                                                                        // moles of methane in kmol\n",
"nO2 = 2.00                                                                         // moles of oxygen in kmol\n",
"T1 = 25.00                                                                         // in degree celcius\n",
"p1 = 1.00                                                                          // in atm\n",
"T2 = 900.00                                                                        // in kelvin\n",
"Rbar = 8.314                                                                       // universal gas constant\n",
"// The chemical reaction equation for the complete combustion of methane with oxygen is\n",
"// CH4 + 2O2   ---   CO2 + 2H2O\n",
"// Part(a)\n",
"// with enthalpy of formation values from table A-25\n",
"hfbarCO2 = -393520\n",
"hfbarH2O = -241820\n",
"hfbarCH4 = -74850\n",
"// Calculations\n",
"// with enthalpy values from table A-23\n",
"deltahbarCO2 = 37405-9364\n",
"deltahbarH2O = 31828-9904\n",
"Q = ((hfbarCO2 + deltahbarCO2)+2*(hfbarH2O + deltahbarH2O) - hfbarCH4) + 3*Rbar*(T1+273-T2)\n",
"// Result\n",
"printf( ' The amount of heat transfer in kJ is:  %.2f', Q)\n",
"// Part(b)\n",
"p2 = p1*(T2/(T1+273))                                                             // in atm\n",
"// Result\n",
"printf( ' The final pressure in atm is:  %.2f',p2)"
   ]
   }
,
{
		   "cell_type": "markdown",
		   "metadata": {},
		   "source": [
			"## Example 13.7: Example.sce"
		   ]
		  },
  {
"cell_type": "code",
	   "execution_count": null,
	   "metadata": {
	    "collapsed": true
	   },
	   "outputs": [],
"source": [
"// Given:-\n",
"// The combustion equation is\n",
"// CH4 + 2O2 + 7.52N2  ---  CO2 + 2H2O + 7.52N2\n",
"// Part(a)\n",
"// With enthalpy of formation values from Table A-25\n",
"hfbarCO2 = -393520                                                              // in kj/kmol\n",
"hfbarH2O = -285830                                                              // in kj/kmol\n",
"hfbarCH4 = -74850                                                               // in kj/kmol\n",
"M = 16.04                                                                       // molar mass of CH4 in kg/kmol\n",
"// Calculations\n",
"hRPbar = hfbarCO2 + 2*hfbarH2O - hfbarCH4                                       // in kj/kmol\n",
"hRP = hRPbar/M                                                                  // in kj/kg\n",
"// Result\n",
"printf( ' Part(a)the enthalpy of combustion of gaseous methane,  fuel is: %f kJ/kg.',hRP)\n",
"// Part(b)\n",
"hfbarCO2 = -393520                                                              // in kj/kmol\n",
"hfbarH2O = -241820                                                              // in kj/kmol\n",
"hfbarCH4 = -74850                                                               // in kj/kmol\n",
"// Calculations\n",
"hRPbar = hfbarCO2 + 2*hfbarH2O - hfbarCH4                                       // in kj/kmol\n",
"hRP = hRPbar/M                                                                  // in kj/kg\n",
"// Result\n",
"printf( ' Part(b)the enthalpy of combustion of gaseous methane, fuel is:  %f kJ/kg',hRP);\n",
"// Part(c)\n",
"// From table A-23\n",
"deltahbarO2 = 31389-8682                                                        // in kj/kmol\n",
"deltahbarH2O = 35882-9904                                                       // in kj/kmol\n",
"deltahbarCO2 = 42769-9364                                                       // in kj/kmol\n",
"// Using table A-21\n",
"// Calculations\n",
"// function cpbar = f(T)\n",
"T=298                                                                           // in kelvin\n",
"function T = cpbar(T)\n",
"    T = (3.826 - (3.979e-3)*T + 24.558e-6*T**2 - 22.733e-9*T**3 + 6.963e-12*T**4)*8.314\n",
"endfunction\n",
"deltahbarCH4 = intg(298,1000,cpbar)\n",
"var = deltahbarCH4(1)\n",
"hRPbar = hRPbar + (deltahbarCO2 + 2*deltahbarH2O - var -2*deltahbarO2)\n",
"hRP = hRPbar/M                                                                  // in kj/kg\n",
"// Result\n",
"printf( ' Part(c)the enthalpy of combustion of gaseous methane, per kg of fuel is %.f kJ/kg',hRP);"
   ]
   }
,
{
		   "cell_type": "markdown",
		   "metadata": {},
		   "source": [
			"## Example 13.8: Example.sce"
		   ]
		  },
  {
"cell_type": "code",
	   "execution_count": null,
	   "metadata": {
	    "collapsed": true
	   },
	   "outputs": [],
"source": [
"// Given:-\n",
"// Part(a)\n",
"// For combustion of liquid octane with the theoretical amount of air, the chemical equation is\n",
"// C8H18(l) + 12.5 O2 + 47N2   ------ 8 CO2 + 9 H2O(g) + 47N2\n",
"// with enthalpy of formation data from Table A-25\n",
"hfbarC8H18 = -249910.0                                                            // in kj/kmol\n",
"hfbarCO2 = -393520.0\n",
"hfbarH2O = -241820.0\n",
"// Calculations\n",
"RHS = hfbarC8H18 -(8*hfbarCO2 + 9*hfbarH2O)                                     // in kj/kmol\n",
"// at temperature 2400k\n",
"LHS1 = 5089337.0                                                                  // in kj/kmol\n",
"// at temperature 2350 k\n",
"LHS2 = 4955163.0                                                                  // in kj/kmol\n",
"// Interpolation between these temperatures gives\n",
"Tp = 2400.00 + ((2400.0-2350.0)/(LHS1-LHS2))*(RHS-LHS1)\n",
"// Result\n",
"printf( ' The temperature in kelvin with theoretical amount of air is:  %.2f', Tp)\n",
"// Part(b)\n",
"// For complete combustion of liquid octane with 400% theoretical air, the chemical equation is\n",
"// C8H18(l) + 50O2 + 188N2  -------  8CO2 + 9H2O + 37.5O2 + 188N2\n",
"// Proceeding iteratively as part(a)\n",
"Tp = 962                                                                        // in kelvin\n",
"// Result\n",
"printf( ' The temperature in kelvin using 400 percent theoretical air is: %.2f ',Tp)"
   ]
   }
,
{
		   "cell_type": "markdown",
		   "metadata": {},
		   "source": [
			"## Example 13.9: Example.sce"
		   ]
		  },
  {
"cell_type": "code",
	   "execution_count": null,
	   "metadata": {
	    "collapsed": true
	   },
	   "outputs": [],
"source": [
"// Given:-\n",
"// Part(a)\n",
"Tp = 2395                                                                       // in kelvin, from example 13.8\n",
"// For combustion of liquid octane with the theoretical amount of air, the chemical equation is\n",
"// C8H18(l) + 12.5O2 + 47N2  ---  8CO2 + 9H2O(g) + 47N2\n",
"// From table A-25\n",
"sFbar = 360.79                                                                  // absolute entropy of liquid octane in kj/kmol.K\n",
"// From table A-23\n",
"// For reactant side\n",
"sbarO2atTref = 205.03                                                           // in kj/kmol.K\n",
"sbarN2atTref = 191.5                                                            // in kj/kmol.K\n",
"Rbar = 8.314                                                                    // universal gas constant in SI units\n",
"yO2 = 0.21\n",
"yN2 = 0.79\n",
"// For product side\n",
"yCO2 = 8.0/64.0\n",
"yH2O = 9.0/64.0\n",
"yN2p = 47.0/64.0\n",
"// Calculations\n",
"sbarO2 = sbarO2atTref - Rbar*log(yO2)                                      // in kj/kmol.K\n",
"sbarN2 = sbarN2atTref - Rbar*log(yN2)                                      // in kj/kmol.K\n",
"// With the help from table A-23\n",
"sbarCO2 = 320.173 - Rbar*log(yCO2)\n",
"sbarH2O = 273.986 - Rbar*log(yH2O)\n",
"sbarN2p = 258.503 - Rbar*log(yN2p)\n",
"sigmadot = (8*sbarCO2 + 9*sbarH2O + 47*sbarN2p) - sFbar - (12.5*sbarO2 + 47*sbarN2)\n",
"// Result\n",
"printf( ' The rate of entropy production, in kJ/K per kmol of fuel with theoretical amount of air is:  %.2f',sigmadot)\n",
"// Part(b)\n",
"// The complete combustion of liquid octane with 400% theoretical air is described by the following chemical equation:\n",
"// C8H18(l) + 50 O2 + 188N2  ----  8 CO2 + 9H2O(g) + 37.5O2 + 188N2\n",
"// For product side \n",
"yCO2 = 8.0/242.5\n",
"yH2O = 9.0/242.5\n",
"yO2 = 37.5/242.5\n",
"yN2p = 188.0/242.5\n",
"// Calculations\n",
"// With help from table A-23\n",
"sbarCO2 = 267.12 - Rbar*log(yCO2)\n",
"sbarH2O = 231.01 - Rbar*log(yH2O)\n",
"sbarO2p = 242.12 - Rbar*log(yO2)\n",
"sbarN2p = 226.795 - Rbar*log(yN2p)\n",
"sigmadot = (8.0*sbarCO2 + 9.0*sbarH2O + 37.5*sbarO2p +188.0*sbarN2p) -sFbar - (50.0*sbarO2 + 188.0*sbarN2)\n",
"// Result\n",
"printf( ' The rate of entropy production, in kJ/K per kmol of fuel with 400 percent theoretical air is: %.2f ', sigmadot)"
   ]
   }
],
"metadata": {
		  "kernelspec": {
		   "display_name": "Scilab",
		   "language": "scilab",
		   "name": "scilab"
		  },
		  "language_info": {
		   "file_extension": ".sce",
		   "help_links": [
			{
			 "text": "MetaKernel Magics",
			 "url": "https://github.com/calysto/metakernel/blob/master/metakernel/magics/README.md"
			}
		   ],
		   "mimetype": "text/x-octave",
		   "name": "scilab",
		   "version": "0.7.1"
		  }
		 },
		 "nbformat": 4,
		 "nbformat_minor": 0
}
