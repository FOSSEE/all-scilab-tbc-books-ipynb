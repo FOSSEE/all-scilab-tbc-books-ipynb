{
"cells": [
 {
		   "cell_type": "markdown",
	   "metadata": {},
	   "source": [
       "# Chapter 2: Energy and the First Law of Thermodynamics"
	   ]
	},
{
		   "cell_type": "markdown",
		   "metadata": {},
		   "source": [
			"## Example 2.1: Example_1.sce"
		   ]
		  },
  {
"cell_type": "code",
	   "execution_count": null,
	   "metadata": {
	    "collapsed": true
	   },
	   "outputs": [],
"source": [
"// Given:-\n",
"p1 = 3*(10**5)                                // initial pressure of gas in pascal\n",
"v1 = 0.1                                      // initial volumme of gas in meter^3\n",
"v2 = 0.2                                      // final volume of gas in meter^3\n",
"// calculations\n",
"// Part (a) i.e. n=1.5\n",
"//constant = p1*(v1**n)                         // p*(v^n) = constant\n",
"constant1 = p1*(v1**1.5) \n",
"constant2 = p1*(v1**1) \n",
"constant3 = p1*(v1**0) \n",
"// function p                     \n",
"function v = p1(v)\n",
"    v = constant1/(v^1.5)\n",
"endfunction\n",
"function v = p2(v)\n",
"    v = constant2/(v^1)\n",
"endfunction\n",
"function v = p3(v)\n",
"    v = constant3/(v^0)\n",
"endfunction\n",
"work1 = intg(v1,v2,p1)                   // integrating pdv from initial to final volume \n",
"w1 = work1(1)/1000                             // divided by 1000 to convert to KJ\n",
"printf( 'The work done for n=1.5 in KJ is %.2f',w1)\n",
"//part(b) i.e. n = 1\n",
"work2 = intg(v1,v2,p2)\n",
"w2 = work2(1)/1000\n",
"printf( 'The work done for n=1 in KJ is %.2f',w2)\n",
"//part(c) i.e. n=0\n",
"work3 = intg(v1,v2,p3)\n",
"w3 = work3(1)/1000\n",
"printf( 'The work done for n=0 in KJ is %.2f',w3)"
   ]
   }
,
{
		   "cell_type": "markdown",
		   "metadata": {},
		   "source": [
			"## Example 2.2: Example.sce"
		   ]
		  },
  {
"cell_type": "code",
	   "execution_count": null,
	   "metadata": {
	    "collapsed": true
	   },
	   "outputs": [],
"source": [
"// Given:-\n",
"p1 = 3*(10**5)                                  // initial pressure in pascal\n",
"v1 = 0.1                                        // initial volume in m3\n",
"v2 = 0.2                                        // final volume\n",
"m = 4.0                                         // mass of the gas in kg\n",
"deltau = -4.6                                   // change in specific internal energy in KJ/Kg\n",
"// Calculations\n",
"constant = p1*(v1**1.5)                           // p*(v^n) = constant\n",
"function v = p(v)\n",
"    v = constant/(v**1.5)                                // expressing pressure as function of volume        \n",
"endfunction\n",
"work = intg(v1,v2,p)                         // integrating pdv from initial to final volume \n",
"w=work(1)/1000                              // divided by 1000 to convert to KJ\n",
"deltaU = m*deltau                           // change in internal energy in KJ\n",
"Q = deltaU + w                                // neglecting kinetic and potential energy changes\n",
"// Result\n",
"printf( 'net heat transfer for the process in KJ %.2f',Q)"
   ]
   }
,
{
		   "cell_type": "markdown",
		   "metadata": {},
		   "source": [
			"## Example 2.3: Example.sce"
		   ]
		  },
  {
"cell_type": "code",
	   "execution_count": null,
	   "metadata": {
	    "collapsed": true
	   },
	   "outputs": [],
"source": [
"// Given:-\n",
"clc;\n",
"patm = 10**5                               // atmospheric pressure in pascal.\n",
"mp = 45.0                                  // mass of piston in Kg\n",
"A = 0.09                                   // face area of piston in m2\n",
"deltaV = 0.045                             // increment of the volume of air in m3\n",
"m = 0.27                                   // mass of air in kg\n",
"deltau = 42.0                              // specific internal energy increase of air in kJ/kg\n",
"g = 9.81                                   // local acceleration of gravity\n",
"// Part (a) i.e. air is system\n",
"// Calculations\n",
"p = (mp*g)/A + patm                         // constant pressure of air obtained from equilibrium of piston\n",
"w = (p*deltaV)/1000                         // work done in KJ\n",
"deltaU = m*deltau                           // internal energy change of air in KJ\n",
"Q = w + deltaU                              // applying first with air as system\n",
"// Result\n",
"printf( '\nheat transfer from resistor to air in KJ for air alone as system is: %.2f',Q)\n",
"// The answer given in book is incorrect. deltaU is incorrect in book. \n",
"// Part(b) i.e.  (air+piston) is system\n",
"// Calculations\n",
"wd = (patm*deltaV)/1000                      // work done in KJ\n",
"deltaz = (deltaV)/A                          // change in elevation of piston\n",
"deltaPE = (mp*g*deltaz)/1000                 // change in potential energy of piston in KJ\n",
"Qt = wd + deltaPE + deltaU                   // applying first law with air plus piston as system \n",
"// Result\n",
"printf( '\nheat transfer from resistor to air in KJ for air + piston as system is: %.2f',Qt)\n",
"// note : The answer given in book is incorrect.They have miscalculated deltaU.  "
   ]
   }
,
{
		   "cell_type": "markdown",
		   "metadata": {},
		   "source": [
			"## Example 2.4: Example.sce"
		   ]
		  },
  {
"cell_type": "code",
	   "execution_count": null,
	   "metadata": {
	    "collapsed": true
	   },
	   "outputs": [],
"source": [
"// Given:-\n",
"w1dot = -60.0                // input work rate in KW\n",
"h = 0.171                    // heat transfer coefficient,unit in KW/m2 .K\n",
"A = 1.0                      // outer surface area of gearbox, unit in m2\n",
"Tb = 300.0                   // outer surface temperature in kelvin\n",
"Tf = 293.0                   // temperature of the sorrounding\n",
"// Calculations\n",
"Qdot = -h*A*(Tb-Tf);         // rate of energy transfer by heat\n",
"wdot = Qdot;                 // steady state energy equation\n",
"w2dot = wdot-w1dot;\n",
"// Results\n",
"printf( 'The heat transfer rate in KW is:\n\tQdot =  %f',Qdot)\n",
"printf( 'The power delivered through output shaft in KW is: = %f',w2dot);"
   ]
   }
,
{
		   "cell_type": "markdown",
		   "metadata": {},
		   "source": [
			"## Example 2.5: Example.sce"
		   ]
		  },
  {
"cell_type": "code",
	   "execution_count": null,
	   "metadata": {
	    "collapsed": true
	   },
	   "outputs": [],
"source": [
"// Given:-\n",
"s=5*(10**-3)                       // measurement on a side in meter\n",
"wdot = -0.225                        // power input in watt\n",
"Tf = 293.0                           // coolant temprature in kelvin\n",
"h = 150.0                            // heat transfer coefficient in w/m2 k\n",
"A = s**2                            // surface area\n",
"// Calculation\n",
"Tb = ((-wdot/(h*A)) + Tf - 273)     // surface temperature in degree\n",
"// Result\n",
"printf( 'The surface temperature of the chip in degree celcius is: %f ',Tb);"
   ]
   }
,
{
		   "cell_type": "markdown",
		   "metadata": {},
		   "source": [
			"## Example 2.6: Example.sce"
		   ]
		  },
  {
"cell_type": "code",
	   "execution_count": null,
	   "metadata": {
	    "collapsed": true
	   },
	   "outputs": [],
"source": [
"// Given:-\n",
"omega = 100.0                      //motor rotation speed in rad/s\n",
"tau = 18.0                         //torque applied by shaft in N.m\n",
"Welecdot = -2.0                    //electric power input in KW\n",
"Wshaftdot = (tau*omega)/1000      //shaft work rate in KW\n",
"Wdot = Welecdot + Wshaftdot       //net work rate in KW\n",
"//function [Qdot]=f(t)\n",
"//Qdot = (-0.2)* [1-2**(-0.05*t)]\n",
"//function [Edot]=f1(t)               //function for rate of change of energy\n",
"//Edot = (-0.2)*[1-2**(-0.05*t)] - Wdot \n",
"//function [deltaE] =f2(t)            //function for change in energy  \n",
"t = linspace(0,120,100);\n",
"for i = 1:100\n",
"    Qd(i) = i\n",
"    Wd(i) = i\n",
"    dltaE(i) = i    \n",
"    Qd(i) =  (-0.2*(1-%e^(-0.05*t(i))))                                     \n",
"    Wd(i) = Wdot    \n",
"    dltaE(i) = 4*(1 - %e^(-0.05*t(i)))\n",
"end\n",
"subplot(2,2,1)                          \n",
"plot(t,Qd)\n",
"xlabel('Time (s)')\n",
"ylabel('Qdot (KW)')\n",
"subplot(2,2,2)\n",
"plot(t,Wd)\n",
"xlabel('Time (s)')\n",
"ylabel('Wdot (KW)')\n",
"subplot(2,2,3)\n",
"plot(t,dltaE)\n",
"xlabel('Time (s)')\n",
"ylabel('deltaE (KJ)')"
   ]
   }
],
"metadata": {
		  "kernelspec": {
		   "display_name": "Scilab",
		   "language": "scilab",
		   "name": "scilab"
		  },
		  "language_info": {
		   "file_extension": ".sce",
		   "help_links": [
			{
			 "text": "MetaKernel Magics",
			 "url": "https://github.com/calysto/metakernel/blob/master/metakernel/magics/README.md"
			}
		   ],
		   "mimetype": "text/x-octave",
		   "name": "scilab",
		   "version": "0.7.1"
		  }
		 },
		 "nbformat": 4,
		 "nbformat_minor": 0
}
