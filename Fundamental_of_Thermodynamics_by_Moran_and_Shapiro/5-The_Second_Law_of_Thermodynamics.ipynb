{
"cells": [
 {
		   "cell_type": "markdown",
	   "metadata": {},
	   "source": [
       "# Chapter 5: The Second Law of Thermodynamics"
	   ]
	},
{
		   "cell_type": "markdown",
		   "metadata": {},
		   "source": [
			"## Example 5.1: Example.sce"
		   ]
		  },
  {
"cell_type": "code",
	   "execution_count": null,
	   "metadata": {
	    "collapsed": true
	   },
	   "outputs": [],
"source": [
"// Given :-\n",
"W = 410.00                             // net work output in kj claimed \n",
"Q = 1000.00                            // energy input by heat transfer in kj\n",
"Tc = 300.00                            // temperature of cold reservoir in kelvin\n",
"TH = 500.00                            // temperature of hot reservoir in kelvin\n",
"// Calculations \n",
"eta = W/Q                              // thermal efficiency\n",
"etamax = 1-(Tc/TH)\n",
"// Results\n",
"printf( ' Eta = %.4f',eta)\n",
"printf( ' Etamax  = %.4f',etamax)\n",
"printf( ' Since eta is more than etamax, the claim is not authentic')"
   ]
   }
,
{
		   "cell_type": "markdown",
		   "metadata": {},
		   "source": [
			"## Example 5.2: Example.sce"
		   ]
		  },
  {
"cell_type": "code",
	   "execution_count": null,
	   "metadata": {
	    "collapsed": true
	   },
	   "outputs": [],
"source": [
"// Given :-\n",
"Qcdot = 8000.00                                // in kj/h\n",
"Wcycledot = 3200.00                            // in kj/h\n",
"Tc = 268.00                                    // temperature of compartment in kelvin\n",
"TH = 295.00                                    // temperature of the surrounding air in kelvin\n",
"// Calculations \n",
"beta = Qcdot/Wcycledot                         // coefficient of performance\n",
"betamax = Tc/(TH-Tc)                           // reversible coefficient of performance\n",
"// Results\n",
"printf( ' Coefficient of performance is %.3f',beta)\n",
"printf( ' Coefficient of performance of a reversible cycle is  %.3f',betamax)"
   ]
   }
,
{
		   "cell_type": "markdown",
		   "metadata": {},
		   "source": [
			"## Example 5.3: Example.sce"
		   ]
		  },
  {
"cell_type": "code",
	   "execution_count": null,
	   "metadata": {
	    "collapsed": true
	   },
	   "outputs": [],
"source": [
"// Given :-\n",
"Tc = 283.0                         // in kelvin\n",
"TH = 295.0                         // in kelvin\n",
"QH = 5*(10**5)                     // in kj per day\n",
"// Calculations\n",
"Wcyclemin = (1-(Tc/TH))*QH\n",
"// Results\n",
"printf( ' Minimum theoretical work input for one day of operation in kJ is: %.2f',Wcyclemin)"
   ]
   }
],
"metadata": {
		  "kernelspec": {
		   "display_name": "Scilab",
		   "language": "scilab",
		   "name": "scilab"
		  },
		  "language_info": {
		   "file_extension": ".sce",
		   "help_links": [
			{
			 "text": "MetaKernel Magics",
			 "url": "https://github.com/calysto/metakernel/blob/master/metakernel/magics/README.md"
			}
		   ],
		   "mimetype": "text/x-octave",
		   "name": "scilab",
		   "version": "0.7.1"
		  }
		 },
		 "nbformat": 4,
		 "nbformat_minor": 0
}
