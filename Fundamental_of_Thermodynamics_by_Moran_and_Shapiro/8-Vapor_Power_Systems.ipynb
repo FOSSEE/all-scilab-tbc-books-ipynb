{
"cells": [
 {
		   "cell_type": "markdown",
	   "metadata": {},
	   "source": [
       "# Chapter 8: Vapor Power Systems"
	   ]
	},
{
		   "cell_type": "markdown",
		   "metadata": {},
		   "source": [
			"## Example 8.1: Example.sce"
		   ]
		  },
  {
"cell_type": "code",
	   "execution_count": null,
	   "metadata": {
	    "collapsed": true
	   },
	   "outputs": [],
"source": [
"// Given:-\n",
"p1 = 8.0                                            // pressure of saturated vapor entering the turbine in MPa\n",
"p3 = 0.008                                          // pressure of saturated liquid exiting the condenser in MPa\n",
"Wcycledot = 100.00                                  // the net power output of the cycle in MW\n",
"// Analysis\n",
"// From table A-3\n",
"h1 = 2758.0                                         // in kj/kg\n",
"s1 = 5.7432                                         // in kj/kg.k\n",
"s2 = s1\n",
"sf = 0.5926                                         // in kj/kg.k\n",
"sg = 8.2287                                         // in kj/kg.k\n",
"hf = 173.88                                         // in kj/kg\n",
"hfg = 2403.1                                        // in kj/kg\n",
"v3 = 1.0084e-3                                      // in m^3/kg\n",
"// State 3 is saturated liquid at 0.008 MPa, so\n",
"h3 = 173.88                                         // in kj/kg\n",
"// Calculations\n",
"x2 = (s2-sf)/(sg-sf)                                // quality at state 2\n",
"h2 = hf + x2*hfg\n",
"p4 = p1\n",
"h4 = h3 + v3*(p4-p3)*10**6*10**-3                   // in kj/kg\n",
"// Part(a)\n",
"//Mass and energy rate balances for control volumes around the turbine and pump give, respectively\n",
"wtdot = h1 - h2\n",
"wpdot = h4-h3\n",
"// The rate of heat transfer to the working fluid as it passes through the boiler is determined using mass and energy rate balances as\n",
"qindot = h1-h4\n",
"eta = (wtdot-wpdot)/qindot                           // thermal efficiency)\n",
"// Result for part a\n",
"printf( ' The thermal efficiency for the cycle is %.2f',eta)\n",
"// Part(b)\n",
"bwr = wpdot/wtdot                                    // back work ratio\n",
"// Result\n",
"printf( ' The back work ratio is %f',bwr)\n",
"// Part(c)\n",
"mdot = (Wcycledot*10**3*3600)/((h1-h2)-(h4-h3))       // mass flow rate in kg/h\n",
"// Result \n",
"printf( ' The mass flow rate of the steam is %.2f kg/h .',mdot)\n",
" \n",
"// Part(d)\n",
"Qindot = mdot*qindot/(3600*10**3)                     // in MW\n",
"// Results\n",
"printf('The rate of heat transfer,Qindot , into the working fluid as it passes through the boiler, is %.2f MW.',Qindot)\n",
"// Part(e)\n",
"Qoutdot = mdot*(h2-h3)/(3600*10**3)                   // in MW\n",
"// Results\n",
"printf( ' The rate of heat transfer,Qoutdot from the condensing steam as it passes through the condenser, is %.2f MW.',Qoutdot)\n",
"// Part(f)\n",
"// From table A-2\n",
"hcwout= 146.68                                       // in kj/kg\n",
"hcwin= 62.99                                         // in kj/kg\n",
"mcwdot= (Qoutdot*10**3*3600)/(hcwout-hcwin)          // in kg/h\n",
"// Results\n",
"printf( ' The mass flow rate of the condenser cooling water is %.2f kg/ h.',mcwdot)"
   ]
   }
,
{
		   "cell_type": "markdown",
		   "metadata": {},
		   "source": [
			"## Example 8.2: Example.sce"
		   ]
		  },
  {
"cell_type": "code",
	   "execution_count": null,
	   "metadata": {
	    "collapsed": true
	   },
	   "outputs": [],
"source": [
"// Given:-\n",
"etat= .85                                   // given that the turbine and the pump each have an isentropic efficiency of 85%\n",
"// Analysis\n",
"// State 1 is the same as in Example 8.1, so\n",
"h1 = 2758.0                                 // in kj/kg\n",
"s1 = 5.7432                                 // in kj/kg.k\n",
"// From example 8.1 \n",
"h1 = 2758.0                                 // in kj/kg\n",
"h2s = 1794.8                                // in kj/kg\n",
"// State 3 is the same as in Example 8.1, so\n",
"h3 = 173.88                                 // in kj/kg\n",
"// Calculations\n",
"h2 = h1 - etat*(h1-h2s)                     // in kj/kg\n",
"wpdot = 8.06/etat                           // where the value 8.06 is obtained from example 8.1\n",
"h4 = h3 + wpdot\n",
"// Part(a)\n",
"eta = ((h1-h2)-(h4-h3))/(h1-h4)             // thermal efficiency\n",
"// Result for part (a)\n",
"printf( ' Thermal efficiency is:  %.3f',eta)\n",
"// Part(b)\n",
"Wcycledot = 100                             // given,a net power output of 100 MW\n",
"// Calculations\n",
"mdot = (Wcycledot*(10**3)*3600)/((h1-h2)-(h4-h3))\n",
"// Result for part (b)\n",
"printf( ' The mass flow rate of steam, in kg/h, for a net power output of 100 MW is %.3f kg/h.  ',mdot)\n",
"// Part(c)\n",
"Qindot = mdot*(h1-h4)/(3600 * 10**3)\n",
"// Result\n",
"printf( ' The rate of heat transfer Qindot into the working fluid as it passes through the boiler, is %.3f MW.',Qindot)\n",
"// Part(d)\n",
"Qoutdot = mdot*(h2-h3)/(3600*10**3)\n",
"// Result\n",
"printf( ' The rate of heat transfer  Qoutdotfrom the condensing steam as it passes through the condenser, is   %.3f MW.',Qoutdot)\n",
"// Part(e)\n",
"// From table A-2\n",
"hcwout = 146.68                             // in kj/kg\n",
"hcwin = 62.99                               // in kj/kg\n",
"mcwdot = (Qoutdot*10**3*3600)/(hcwout-hcwin)\n",
"// Result\n",
"printf( ' The mass flow rate of the condenser cooling water, is:  %.3f kg/h.',mcwdot)"
   ]
   }
,
{
		   "cell_type": "markdown",
		   "metadata": {},
		   "source": [
			"## Example 8.3: Example.sce"
		   ]
		  },
  {
"cell_type": "code",
	   "execution_count": null,
	   "metadata": {
	    "collapsed": true
	   },
	   "outputs": [],
"source": [
"// Given:-\n",
"clc;\n",
"T1 = 480.0                        // temperature of steam entering the first stage turbine in degree celcius\n",
"p1 = 8.0                          // pressure of steam entering the first stage turbine in MPa\n",
"p2 = 0.7                          // pressure of steam exiting the first stage turbine in MPa\n",
"T3 = 440.0                        // temperature of steam before entering the second stage turbine \n",
"Pcond = 0.008                     // condenser pressure in MPa\n",
"Wcycledot = 100.0                 // the net power output in MW\n",
"// Analysis\n",
"// From table A-4\n",
"h1 = 3348.4                       // in kj/kg\n",
"s1 = 6.6586                       // in kj/kg.k\n",
"s2 = s1                           // isentropic expansion through the first-stage turbine\n",
"// From table A-3\n",
"sf = 1.9922                       // in kj/kg.k\n",
"sg = 6.708                        // in kj/kg.k\n",
"hf = 697.22                       // in kj/kg\n",
"hfg = 2066.3                      // in kj/kg\n",
"// Calculations \n",
"x2 = (s2-sf)/(sg-sf)\n",
"h2 = hf + x2*hfg\n",
"// State 3 is superheated vapor with p3 = 0.7 MPa and T3=  440C, so from Table A-4\n",
"h3 = 3353.3                       // in kj/kg\n",
"s3 = 7.7571                       // in kj/kg.k\n",
"s4 = s3                           // isentropic expansion through the second-stage turbine\n",
"// For determing quality at state 4,from table A-3\n",
"sf = 0.5926                       // in kj/kg.k\n",
"sg = 8.2287                       // in kj/kg.k\n",
"hf = 173.88                       // in kj/kg\n",
"hfg = 2403.1                      // in kj/kg\n",
"// Calculations\n",
"x4 = (s4-sf)/(sg-sf)\n",
"h4 = hf + x4*hfg\n",
"// State 5 is saturated liquid at 0.008 MPa, so\n",
"h5 = 173.88\n",
"// The state at the pump exit is the same as in Example 8.1, so\n",
"h6 = 181.94\n",
"// Part(a)\n",
"eta = ((h1-h2)+(h3-h4)-(h6-h5))/((h1-h6)+(h3-h2))\n",
"// Result\n",
"printf( '\n The thermal efficiency of the cycle is: %.2f',eta)\n",
"// Part(b)\n",
"mdot = (Wcycledot*3600*10**3)/((h1-h2)+(h3-h4)-(h6-h5))\n",
"printf( '\n The mass flow rate of steam, is: %.2f kg/h.',mdot)\n",
"// Part(c)\n",
"Qoutdot = (mdot*(h4-h5))/(3600*10**3)\n",
"printf('\nThe rate of heat transfer Qoutdot from the condensing steam as it passes through the condenser, is %.2f MW',Qoutdot)"
   ]
   }
,
{
		   "cell_type": "markdown",
		   "metadata": {},
		   "source": [
			"## Example 8.4: Example.sce"
		   ]
		  },
  {
"cell_type": "code",
	   "execution_count": null,
	   "metadata": {
	    "collapsed": true
	   },
	   "outputs": [],
"source": [
"// Given :-\n",
"// Part (a)\n",
"etat = 0.85                                                                      // given efficiency\n",
"// From the solution to Example 8.3, the following specific enthalpy values are known, in kJ/kg\n",
"h1 = 3348.4\n",
"h2s = 2741.8\n",
"h3 = 3353.3\n",
"h4s = 2428.5\n",
"h5 = 173.88\n",
"h6 = 181.94\n",
"// Calculations\n",
"h2 = h1 - etat*(h1 - h2s)                                                 // The specific enthalpy at the exit of the first-stage turbine in kj/kg\n",
"h4 = h3 - etat*(h3-h4s)                                                   // The specific enthalpy at the exit of the second-stage turbine in kj/kg\n",
"eta = ((h1-h2)+(h3-h4)-(h6-h5))/((h1-h6)+(h3-h2)) \n",
"// Result\n",
"printf( ' The thermal efficiency is:  %f',eta)\n",
"// Part (b)\n",
"x = linspace(0.85,1,50)\n",
"for i =1:50\n",
"    h2(i) = h1 - x(i)*(h1 - h2s)                                      // The specific enthalpy at the exit of the first-stage turbine in kj/kg\n",
"    h4(i) = h3 - x(i)*(h3-h4s)                                        // The specific enthalpy at the exit of the second-stage turbine in kj/kg\n",
"    y(i)  = ((h1-h2(i))+(h3-h4(i))-(h6-h5))/((h1-h6)+(h3-h2(i))) \n",
"end\n",
"plot(x,y)\n",
"xlabel('isentropic turbine efficiency')\n",
"ylabel('cycle thermal efficiency')"
   ]
   }
,
{
		   "cell_type": "markdown",
		   "metadata": {},
		   "source": [
			"## Example 8.5: Example.sce"
		   ]
		  },
  {
"cell_type": "code",
	   "execution_count": null,
	   "metadata": {
	    "collapsed": true
	   },
	   "outputs": [],
"source": [
"// Given:-\n",
"T1 = 480.0                                                                        // temperature of steam entering the turbine in degree celcius\n",
"p1 = 8.0                                                                          // pressure of steam entering the turbine in MPa\n",
"Pcond = 0.008                                                                     // condenser pressure in MPa\n",
"etat = 0.85                                                                       // turbine efficiency\n",
"Wcycledot = 100.0                                                                 // net power output of the cycle\n",
"// Analysis\n",
"// With the help of steam tables\n",
"h1 = 3348.4                                                                       // in kj/kg\n",
"h2 = 2832.8                                                                       // in kj/kg\n",
"s2 = 6.8606                                                                       // in kj/kg.k\n",
"h4 = 173.88                                                                       // in kj/kg\n",
"// With s3s = s2, the quality at state 3s is x3s=  0.8208; using this, we get\n",
"h3s = 2146.3                                                                      // in kj/kg\n",
"// Calculations\n",
"// The specific enthalpy at state 3 can be determined using the efficiency of the second-stage turbine\n",
"h3 = h2 - etat*(h2-h3s)\n",
"// State 6 is saturated liquid at 0.7 MPa. Thus,\n",
"h6 = 697.22                                                                        // in kj/kg\n",
"// For determining specific enthalpies at states 5 and 7 ,we have\n",
"p5 = 0.7                                                                           // in MPa\n",
"p4 = 0.008                                                                         // in MPa\n",
"p7 = 8.0                                                                           // in MPa\n",
"p6 = 0.7                                                                           // in MPa\n",
"v4 = 1.0084e-3                                                                     // units in m^3/kg,obtained from steam tables\n",
"v6 = 1.1080e-3                                                                     // units in m^3/kg,obtained from steam tables\n",
"// Calculations\n",
"h5 = h4 + v4*(p5-p4)*10**6*10**-3                                                  // in kj/kg\n",
"h7 = h6 + v6*(p7-p6)*10**3                                                         // in kj/kg\n",
"// Applying mass and energy rate balances to a control volume enclosing the open heater, we find the fraction y of the flow extracted at state 2 from\n",
"y = (h6-h5)/(h2-h5)\n",
"// Part(a)\n",
"wtdot = (h1-h2) + (1-y)*(h2-h3)                                                     // the total turbine work output, units in KJ/Kg\n",
"wpdot = (h7-h6) + (1-y)*(h5-h4)                                                     // The total pump work per unit of mass passing through the first-stage turbine,in KJ/kg\n",
"qindot = h1 - h7                                                                    // in kj/kg\n",
"eta = (wtdot-wpdot)/qindot\n",
"// Results\n",
"printf( ' The thermal efficiency is: %.2f',eta)\n",
"// Part(b)\n",
"m1dot = (Wcycledot*3600*10**3)/(wtdot-wpdot)\n",
"// Results\n",
"printf( ' The mass flow rate of steam entering the first turbine stage, is: %.2f kg/h.',m1dot)"
   ]
   }
,
{
		   "cell_type": "markdown",
		   "metadata": {},
		   "source": [
			"## Example 8.6: Example.sce"
		   ]
		  },
  {
"cell_type": "code",
	   "execution_count": null,
	   "metadata": {
	    "collapsed": true
	   },
	   "outputs": [],
"source": [
"// Given:-\n",
"// Analysis\n",
"// State 1 is the same as in Example 8.3, so\n",
"h1 = 3348.4                                                                     // in kj/kg\n",
"s1 = 6.6586                                                                     // in kj/kg.k\n",
"// State 2 is fixed by p2  2.0 MPa and the specific entropy s2, which is the same as that of state 1. Interpolating in Table A-4, we get\n",
"h2 = 2963.5                                                                     // in kj/kg\n",
"// The state at the exit of the first turbine is the same as at the exit of the first turbine of Example 8.3, so\n",
"h3 = 2741.8                                                                     // in kj/kg\n",
"// State 4 is superheated vapor at 0.7 MPa, 440C. From Table A-4,\n",
"h4 = 3353.3                                                                     // in kj/kg\n",
"s4 = 7.7571                                                                     // in kj/kg.k\n",
"// Interpolating in table A-4 at p5 = .3MPa and s5 = s4, the enthalpy at state 5 is\n",
"h5 = 3101.5                                                                     // in kj/kg\n",
"// Using s6 = s4, the quality at state 6 is found to be\n",
"x6 = 0.9382\n",
"// Using steam tables, for state 6\n",
"hf = 173.88                                                                     // in kj/kg\n",
"hfg = 2403.1                                                                    // in kj/kg\n",
"h6 = hf + x6*hfg\n",
"// At the condenser exit, we have \n",
"h7 = 173.88                                                                     // in kj/kg\n",
"v7 = 1.0084e-3                                                                  // in m^3/kg\n",
"p8 = 0.3                                                                        // in MPa\n",
"p7 = 0.008                                                                      // in MPa\n",
"h8 = h7 + v7*(p8-p7)*10**6*10**-3                                               // The specific enthalpy at the exit of the first pump in kj/kg\n",
"// The liquid leaving the open feedwater heater at state 9 is saturated liquid at 0.3 MPa. The specific enthalpy is\n",
"h9 = 561.47                                                                     // in kj/kg\n",
"// For the exit of the second pump,\n",
"v9 = 1.0732e-3                                                                  // in m^3/kg\n",
"p10 = 8.0                                                                       // in MPa\n",
"p9 = 0.3                                                                        // in MPa\n",
"h10 = h9 + v9*(p10-p9)*10**6*10**-3                                             // The specific enthalpy at the exit of the second pump in kj/kg\n",
"// The condensate leaving the closed heater is saturated at 2 MPa. From Table A-3,\n",
"h12 = 908.79                                                                    // in kj/kg\n",
"h13 = h12                                                                       // since The fluid passing through the trap undergoes a throttling process\n",
"// For the feedwater exiting the closed heater\n",
"hf = 875.1                                                                      // in kj/kg\n",
"vf = 1.1646e-3                                                                  // in m^3/kg\n",
"p11 = 8.0                                                                       // in MPa\n",
"psat = 1.73                                                                     // in MPa\n",
"h11 = hf + vf*(p11-psat)*10**6*10**-3                                           // in kj/kg\n",
"ydash = (h11-h10)/(h2-h12)                                                      // the fraction of the total flow diverted to the closed heater\n",
"ydashdash = ((1-ydash)*h8+ydash*h13-h9)/(h8-h5)                                 // the fraction of the total flow diverted to the open heater\n",
"// Part(a)\n",
"wt1dot = (h1-h2) + (1-ydash)*(h2-h3)                                            // The work developed by the first turbine per unit of mass entering in kj/kg\n",
"wt2dot = (1-ydash)*(h4-h5) + (1-ydash-ydashdash)*(h5-h6)                        // The work developed by the second turbine per unit of mass in kj/kg\n",
"wp1dot = (1-ydash-ydashdash)*(h8-h7)                                            // The work for the first pump per unit of mass in kj/kg\n",
"wp2dot = h10-h9                                                                 // The work for the second pump per unit of mass in kj/kg\n",
"qindot = (h1-h11) + (1-ydash)*(h4-h3)                                           // The total heat added expressed on the basis of a unit of mass entering the first\n",
"                                                                                // turbine\n",
"eta = (wt1dot+wt2dot-wp1dot-wp2dot)/qindot                                      // thermal efficiency\n",
"// Result\n",
"printf( ' The thermal efficiency is:  %.2f',eta)\n",
"// Part(b)\n",
"Wcycledot = 100.0                                                               // the net power output of the cycle in MW\n",
"m1dot = (Wcycledot*3600*10**3)/(wt1dot+wt2dot-wp1dot-wp2dot)\n",
"// Result\n",
"printf( ' The mass flow rate of the steam entering the first turbine, in kg/h is:  %.2f',m1dot)"
   ]
   }
,
{
		   "cell_type": "markdown",
		   "metadata": {},
		   "source": [
			"## Example 8.7: Example.sce"
		   ]
		  },
  {
"cell_type": "code",
	   "execution_count": null,
	   "metadata": {
	    "collapsed": true
	   },
	   "outputs": [],
"source": [
"// Given:-\n",
"// Analysis\n",
"// The solution to Example 8.2 gives\n",
"h1 = 2758                                                                   // in kj/kg\n",
"h4 = 183.36                                                                 // in kj/kg\n",
"// From table A-22\n",
"hi = 1491.44                                                                // in kj/kg\n",
"he = 843.98                                                                 // in kj/kg\n",
"// Using the conservation of mass principle and energy rate balance, the ratio of mass flow rates of air and water is\n",
"madotbymdot = (h1-h4)/(hi-he)\n",
"// From example 8.2\n",
"mdot = 4.449e5                                                              // in kg/h\n",
"madot =  madotbymdot*mdot                                                   // in kg/h\n",
"// Part(a)\n",
"T0 = 295                                                                    // in kelvin\n",
"// From table A-22\n",
"si = 3.34474                                                                // in kj/kg.k\n",
"se = 2.74504                                                                // in MW\n",
"// Calculation\n",
"Rin = madot*(hi-he-T0*(si-se))/(3600*10**3)                                 // The net rate at which exergy is carried into the heat exchanger \n",
"                                                                            // unit by the gaseous stream \n",
"// Result\n",
"printf('The net rate at which exergy is carried into the heat exchanger unit by the gas stream, is : %.2f MW ',Rin)\n",
"// Part(b)\n",
"// From table A-3\n",
"s1 = 5.7432                                                                 // in kj/kg.k\n",
"// From interpolation in table A-5 gives\n",
"s4 = 0.5957                                                                 // in kj/kg.k\n",
"// Calculation\n",
"Rout = mdot*(h1-h4-T0*(s1-s4))/(3600*10**3)                                 // in MW\n",
"// Result\n",
"printf( ' The net rate at which exergy is carried from the heat exchanger by the water stream, is : %.2f MW .',Rout)\n",
"// Part(c)\n",
"Eddot = Rin-Rout                                                            // in MW\n",
"// Result\n",
"printf( ' The rate of exergy destruction, in MW is : %.2f',Eddot)\n",
"// Part(d)\n",
"epsilon = Rout/Rin\n",
"// Result\n",
"printf( ' The exergetic efficiency is:  %.2f',epsilon)"
   ]
   }
,
{
		   "cell_type": "markdown",
		   "metadata": {},
		   "source": [
			"## Example 8.8: Example.sce"
		   ]
		  },
  {
"cell_type": "code",
	   "execution_count": null,
	   "metadata": {
	    "collapsed": true
	   },
	   "outputs": [],
"source": [
"// Given:-\n",
"T0 = 295.00                                                                 // in kelvin\n",
"P0 = 1.00                                                                   // in atm\n",
"// Analysis\n",
"// From table A-3\n",
"s1 = 5.7432                                                                 // in kj/kg.k\n",
"s3 =0.5926                                                                  // in kj/kg.k\n",
"// Using h2 = 1939.3 kJ/kg from the solution to Example 8.2, the value of s2 can be determined from Table A-3 as\n",
"s2 = 6.2021                                                                 // in kj/kg.k\n",
"s4 = 0.5957                                                                 // in kj/kg.k\n",
"mdot = 4.449e5                                                              // in kg/h\n",
"// Calculations\n",
"Eddot = mdot*T0*(s2-s1)/(3600*10**3)                                         // the rate of exergy destruction for the turbine in MW\n",
"EddotP = mdot*T0*(s4-s3)/(3600*10**3)                                        // the exergy destruction rate for the pump\n",
"// Results\n",
"printf( ' The rate of exergy destruction for the turbine is: %.2f MW.',Eddot)\n",
"// From the solution to Example 8.7, the net rate at which exergy is supplied by the cooling combustion gases is 231.28 MW\n",
"printf( ' The turbine rate of exergy destruction expressed as a percentage is:  %.f',(Eddot/231.28)*100)\n",
"// However, since only 69% of the entering fuel exergy remains after the stack loss and combustion exergy destruction are accounted for, \n",
"// it can be concluded that\n",
"printf( ' Percentage of the exergy entering the plant with the fuel destroyed within the turbine is : %.2f',0.69*(Eddot/231.28)*100)\n",
"printf( ' The exergy destruction rate for the pump in MW is : %.2f ',EddotP)\n",
"printf( 'and expressing this as a percentage of the exergy entering the plant as calculated above, we have %.2f',(EddotP/231.28)*69) \n",
"printf( ' The net power output of the vapor power plant of Example 8.2 is 100 MW. Expressing this as a percentage of the rate at which exergy is ')\n",
"printf( 'carried into the plant with the fuel, %.2f',(100/231.28)*69)"
   ]
   }
,
{
		   "cell_type": "markdown",
		   "metadata": {},
		   "source": [
			"## Example 8.9: Example.sce"
		   ]
		  },
  {
"cell_type": "code",
	   "execution_count": null,
	   "metadata": {
	    "collapsed": true
	   },
	   "outputs": [],
"source": [
"// Given:-\n",
"T0 = 295                                                                // in kelvin\n",
"// Analysis\n",
"// From solution to Example 8.2.\n",
"mcwdot = 9.39e6                                                         // mass flow rate of the cooling water in kg/h\n",
"// Part(a)\n",
"// With saturated liquid values for specific enthalpy and entropy from Table A-2\n",
"he = 146.68                                                             // in kj/kg\n",
"hi = 62.99                                                              // in kj/kg\n",
"se = 0.5053                                                             // in kj/kg.k\n",
"si = 0.2245                                                             // in kj/kg.k\n",
"// Calculations\n",
"Rout = mcwdot*(he-hi-T0*(se-si))/(3600*10**3)                           // The net rate at which exergy is carried out of the condenser in MW\n",
"// Results\n",
"printf( ' The net rate at which exergy is carried from the condenser by the cooling water, is: %.2f MW.',Rout)\n",
"printf( ' Expressing this as a percentage of the exergy entering the plant with the fuel, we get %.2f percent',(Rout/231.28)*69)\n",
"// Part(b)\n",
"// From table \n",
"s3 = 0.5926                                                              // in kj/kg.k\n",
"s2 = 6.2021                                                              // in kg/kg.k\n",
"mdot = 4.449e5                                                           // in kg/h\n",
"// Calculations\n",
"Eddot = T0*(mdot*(s3-s2)+mcwdot*(se-si))/(3600*10**3)                    // the rate of exergy destruction for the condenser in MW\n",
"// Results\n",
"printf( ' The rate of exergy destruction for the condenser is:  %.2f MW.',Eddot)\n",
"printf( ' Expressing this as a percentage of the exergy entering the plant with the fuel, we get, %.2f percent',(Eddot/231.28)*69)"
   ]
   }
],
"metadata": {
		  "kernelspec": {
		   "display_name": "Scilab",
		   "language": "scilab",
		   "name": "scilab"
		  },
		  "language_info": {
		   "file_extension": ".sce",
		   "help_links": [
			{
			 "text": "MetaKernel Magics",
			 "url": "https://github.com/calysto/metakernel/blob/master/metakernel/magics/README.md"
			}
		   ],
		   "mimetype": "text/x-octave",
		   "name": "scilab",
		   "version": "0.7.1"
		  }
		 },
		 "nbformat": 4,
		 "nbformat_minor": 0
}
