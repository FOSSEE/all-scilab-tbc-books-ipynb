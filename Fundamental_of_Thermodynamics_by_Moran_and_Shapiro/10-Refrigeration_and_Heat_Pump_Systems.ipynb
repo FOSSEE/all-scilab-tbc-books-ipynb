{
"cells": [
 {
		   "cell_type": "markdown",
	   "metadata": {},
	   "source": [
       "# Chapter 10: Refrigeration and Heat Pump Systems"
	   ]
	},
{
		   "cell_type": "markdown",
		   "metadata": {},
		   "source": [
			"## Example 10.1: Example.sce"
		   ]
		  },
  {
"cell_type": "code",
	   "execution_count": null,
	   "metadata": {
	    "collapsed": true
	   },
	   "outputs": [],
"source": [
"// Given:-\n",
"Tc = 273.00                                                                        // temperature of cold region in kelvin\n",
"Th = 299.00                                                                        // temperature of hot region in kelvin\n",
"mdot = 0.08                                                                        // mass flow rate in kg/s\n",
"// Analysis\n",
"// At the inlet to the compressor, the refrigerant is a saturated vapor at 0C, so from Table A-10\n",
"h1 = 247.23                                                                        // in kj/kg\n",
"s1 = 0.9190                                                                        // in kj/kg.k\n",
"// The pressure at state 2s is the saturation pressure corresponding to 26C, or\n",
"p2 = 6.853                                                                         // in bars\n",
"// The refrigerant at state 2s is a superheated vapor with\n",
"h2s = 264.7                                                                        // in kj/kg\n",
"// State 3 is saturated liquid at 26C, so\n",
"h3 = 85.75                                                                         // in kj/kg\n",
"h4 = h3                                                                            // since The expansion through the valve is a throttling process\n",
"// Part(a)\n",
"Wcdot = mdot*(h2s-h1)                                                              // The compressor work input in KW\n",
"printf( ' The compressor power, in kW, is:  %.2f',Wcdot)\n",
"// Part(b)\n",
"Qindot = mdot*(h1-h4)*60/211                                                       // refrigeration capacity in ton\n",
"printf( ' The refrigeration capacity in tons is:  %.2f',Qindot)\n",
"// Part(c)\n",
"beta1 = (h1-h4)/(h2s-h1)\n",
"printf( ' The coefficient of performance is:  %.2f',beta1)\n",
"// Part(d)\n",
"betamax = Tc/(Th-Tc)\n",
"printf( ' The coefficient of performance of a Carnot refrigeration cycle operating between warm and cold regions at 26 and 0C, respectively is:  %.2f',betamax);"
   ]
   }
,
{
		   "cell_type": "markdown",
		   "metadata": {},
		   "source": [
			"## Example 10.2: Example.sce"
		   ]
		  },
  {
"cell_type": "code",
	   "execution_count": null,
	   "metadata": {
	    "collapsed": true
	   },
	   "outputs": [],
"source": [
"// Given:-\n",
"mdot = 0.08                                                                      // mass flow rate in kg/s\n",
"// Analysis\n",
"// At the inlet to the compressor, the refrigerant is a saturated vapor at 10C, so from Table A-10,\n",
"h1 = 241.35                                                                      // in kj/kg\n",
"s1 = .9253                                                                       // in kj/kg.k\n",
"// Interpolating in Table A-12 gives\n",
"h2s = 272.39                                                                     // in kj/kg.k\n",
"// State 3 is a saturated liquid at 9 bar, so\n",
"h3 = 99.56                                                                       // in kj/kg\n",
"h4 = h3                                                                          // since The expansion through the valve is a throttling process\n",
"// Part(a)\n",
"Wcdot = mdot*(h2s-h1)                                                            // The compressor power input in KW\n",
"// Result\n",
"printf( ' \nThe compressor power in kw is:  %.2f',Wcdot)\n",
"// Part(b)\n",
"Qindot = mdot*(h1-h4)*60/211                                                     // refrigeration capacity in tons\n",
"// Result\n",
"printf( ' \nThe refrigeration capacity in tons is:  %.2f',Qindot)\n",
"// Part(c)\n",
"beta1 = (h1-h4)/(h2s-h1)\n",
"// Result\n",
"printf( ' \nThe coefficient of performance is:  %.2f',beta1)"
   ]
   }
,
{
		   "cell_type": "markdown",
		   "metadata": {},
		   "source": [
			"## Example 10.3: Example.sce"
		   ]
		  },
  {
"cell_type": "code",
	   "execution_count": null,
	   "metadata": {
	    "collapsed": true
	   },
	   "outputs": [],
"source": [
"// Given:-\n",
"Tnot = 299                                                         //in kelvin\n",
"etac = .8                                                          //compressor efficiency of 80 percent\n",
"mdot = .08                                                         //mass flow rate in kg/s\n",
"//analysis\n",
"//State 1 is the same as in Example 10.2, so\n",
"h1 = 241.35                                                        //in kj/kg\n",
"s1 = .9253                                                         //in kj/kg.k\n",
"//from example 10.2\n",
"h2s = 272.39                                                       //in kj/kg\n",
"h2 =(h2s-h1)/etac + h1                                             //in kj/kg\n",
"//Interpolating in Table A-12,\n",
"s2 = .9497                                                         //in kj/kg.k\n",
"h3 = 91.49                                                         //in kj/kg\n",
"s3 = .3396\n",
"h4 = h3                                                            //since The expansion through the valve is a throttling process\n",
"//from data table\n",
"hf4 = 36.97                                                        //in kj/kg\n",
"hg4 = 241.36                                                       //in kj/kg\n",
"sf4 = .1486                                                        //in kj/kg.k\n",
"sg4 = .9253                                                        //in kj/kg.k\n",
"x4 = (h4-hf4)/(hg4-hf4)                                            //quality at state 4\n",
"s4 = sf4 + x4*(sg4-sf4)                                            //specific entropy at state 4 in kj/kg.k\n",
"//part(a)\n",
"Wcdot = mdot*(h2-h1)                                                //compressor power in kw\n",
"printf( 'The compressor power in kw is: %.2f kW',Wcdot)\n",
"//part(b)\n",
"Qindot = mdot*(h1-h4)*60/211                                        //refrigeration capacity in ton\n",
"printf( 'The refrigeration capacity in ton is: %.2f ton',Qindot)\n",
"//part(c)\n",
"beta = (h1-h4)/(h2-h1)                                              //coefficient of performance \n",
"printf( 'The coefficient of performance is: %.2f',beta)\n",
"//part(d)\n",
"Eddotc = mdot*Tnot*(s2-s1)                                           //in kw\n",
"Eddotv = mdot*Tnot*(s4-s3)                                           //in kw\n",
"printf( 'The rate of exergy destruction within the compressor is: %.2f kW',Eddotc)\n",
"printf( 'The rate of exergy destruction within the valve is: %.2f kw',Eddotv)"
   ]
   }
,
{
		   "cell_type": "markdown",
		   "metadata": {},
		   "source": [
			"## Example 10.4: Example.sce"
		   ]
		  },
  {
"cell_type": "code",
	   "execution_count": null,
	   "metadata": {
	    "collapsed": true
	   },
	   "outputs": [],
"source": [
"// Given:-\n",
"p1 = 1.00                                                                          // in bar\n",
"T1 = 270.00                                                                        // in kelvin\n",
"AV = 1.4                                                                           // in m^3/s\n",
"r = 3.00                                                                           // compressor pressure ratio\n",
"T3 = 300.00                                                                        // turbine inlet temperature in kelvin\n",
"// Analysis\n",
"// From Table A-22,\n",
"h1 = 270.11                                                                        // in kj/kg\n",
"pr1 = 0.9590\n",
"// Interpolating in Table A-22,\n",
"h2s = 370.1                                                                        // in kj/kg\n",
"// From Table A-22,\n",
"h3 = 300.19                                                                        // in kj/kg\n",
"pr3 = 1.3860\n",
"// Interpolating in Table A-22, we obtain\n",
"h4s = 219.00                                                                       // in kj/kg\n",
"// Calculations\n",
"pr2 = r*pr1\n",
"pr4 = pr3/r\n",
"// Part(a)\n",
"R = 8.314                                                                          // universal gas constant, in SI units\n",
"M = 28.97                                                                          // molar mass of air in grams\n",
"// Results\n",
"mdot = (AV*p1)/((R/M)*T1)*10**2                                                    // mass flow rate in kg/s\n",
"Wcycledot = mdot*((h2s-h1)-(h3-h4s))\n",
"printf( ' The net power input in kw is:  %.2f',Wcycledot)\n",
"// Part(b)\n",
"Qindot = mdot*(h1-h4s)                                                             // refrigeration capacity in kw\n",
"printf( ' The refregeration capacity in kw is:  %.2f',Qindot)\n",
"// Part(c)\n",
"beta = Qindot/Wcycledot                                                            // coefficient of performance\n",
"printf( 'The coefficient of performance is:  %.2f',beta)"
   ]
   }
,
{
		   "cell_type": "markdown",
		   "metadata": {},
		   "source": [
			"## Example 10.5: Example.sce"
		   ]
		  },
  {
"cell_type": "code",
	   "execution_count": null,
	   "metadata": {
	    "collapsed": true
	   },
	   "outputs": [],
"source": [
"// Given:-\n",
"// Part(a)\n",
"wcdots = 99.99                                                              // work per unit mass for the isentropic compression determined with data from the solution in Example 10.4 in kj/kg\n",
"mdot = 1.807                                                                // mass flow rate in kg/s from 10.4\n",
"etac = 0.8                                                                  // isentropic efficiency of compressor\n",
"Wcdot = (mdot*wcdots)/etac                                                  // The power input to the compressor in kw\n",
"// Using data form the solution to Example 10.4 gives\n",
"wtdots =81.19                                                               // in kj/kg\n",
"etat = 0.8                                                                  // isentropic efficiency of turbine\n",
"// Calculations\n",
"Wtdot = mdot*etat*wtdots                                                    // actual turbine work in kw\n",
"Wdotcycle = Wcdot-Wtdot                                                     // The net power input to the cycle in kw\n",
"// Result\n",
"printf( ' The net power input in kw is:  %.2f',Wdotcycle)\n",
"// Part(b)\n",
"h3 = 300.19                                                                 // in kj/kg\n",
"// From table A-22\n",
"h1 = 270.11                                                                 // in kj/kg\n",
"// Calculations\n",
"h4 = h3 -Wtdot/mdot\n",
"Qindot = mdot*(h1-h4)                                                       // refrigeration capacity in kw\n",
"// Result\n",
"printf( ' The refrigeration capacity in kw is:  %.2f',Qindot)\n",
"// Part(c)\n",
"beta = Qindot/Wdotcycle                                                     // coefficient of performance \n",
"// Result\n",
"printf( ' The coefficient of performance is:  %.2f',beta)"
   ]
   }
],
"metadata": {
		  "kernelspec": {
		   "display_name": "Scilab",
		   "language": "scilab",
		   "name": "scilab"
		  },
		  "language_info": {
		   "file_extension": ".sce",
		   "help_links": [
			{
			 "text": "MetaKernel Magics",
			 "url": "https://github.com/calysto/metakernel/blob/master/metakernel/magics/README.md"
			}
		   ],
		   "mimetype": "text/x-octave",
		   "name": "scilab",
		   "version": "0.7.1"
		  }
		 },
		 "nbformat": 4,
		 "nbformat_minor": 0
}
