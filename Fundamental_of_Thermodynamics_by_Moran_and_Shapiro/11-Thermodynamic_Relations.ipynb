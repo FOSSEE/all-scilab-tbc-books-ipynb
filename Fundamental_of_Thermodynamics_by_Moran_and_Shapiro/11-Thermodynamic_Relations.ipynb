{
"cells": [
 {
		   "cell_type": "markdown",
	   "metadata": {},
	   "source": [
       "# Chapter 11: Thermodynamic Relations"
	   ]
	},
{
		   "cell_type": "markdown",
		   "metadata": {},
		   "source": [
			"## Example 11.10: Example.sce"
		   ]
		  },
  {
"cell_type": "code",
	   "execution_count": null,
	   "metadata": {
	    "collapsed": true
	   },
	   "outputs": [],
"source": [
"// Given:-\n",
"// Analysis\n",
"V = 0.241                                                                        // volume of the mixture in m^3\n",
"T = 511.00                                                                       // temperature of the mixture in kelvin\n",
"n1 = 0.18                                                                        // number of moles of methane in kmol\n",
"n2 = 0.274                                                                       // number of moles of butane in kmol\n",
"Rbar = 8314                                                                      // universal gas constant in (N.m)/(kmol.K)\n",
"// Calculations\n",
"n = n1 + n2                                                                      // The total number of moles of mixture\n",
"y1 = n1/n                                                                        // mole fraction of methane\n",
"y2 = n2/n                                                                        // mole fraction of butane\n",
"vbar = V/(n)                                                                     // The specific volume of the mixture on a molar basis in m^3/kmol\n",
"// Part(a)\n",
"p = (Rbar*T/vbar)*10**-5                                                         // in bar\n",
"// Result\n",
"printf( ' The pressure in bar obtained using ideal gas equation is:  %.2f',p)\n",
"// Part(b)\n",
"// From table A-1\n",
"Tc1 = 191.00                                                                     // critical temperature for methane in kelvin \n",
"Pc1 = 46.4                                                                       // critical pressure for methane in bar\n",
"Tc2 = 425.00                                                                     // critical temperature for butane in kelvin\n",
"Pc2 = 38.00                                                                      // critical pressure for butane in bar\n",
"Z = 0.88\n",
"// Calculations\n",
"Tc = y1*Tc1 + y2*Tc2                                                             // critical temperature in kelvin\n",
"Pc = y1*Pc1 + y2*Pc2                                                             // critical pressure in bar\n",
"TR = T/Tc                                                                        // reduced temperature of the mixture\n",
"vRdash= vbar*Pc/(Rbar*Tc)\n",
"p = ((Z*Rbar*T)/vbar)*10**-5                                                     // mixture pressure in bar\n",
"// Result\n",
"printf( ' Pressure obtained using Kay’s rule together with the generalized compressibility chart, is: %.2f ',p)\n",
"// Part(c)\n",
"// Table A-24 gives the following van der Waals constants values for methane\n",
"a1 = 2.293                                                                       // in (m^3/kmol)^2\n",
"b1 = 0.0428                                                                      // in m^3/kmol\n",
"// Table A-24 gives the following van der Waals constants values for butane\n",
"a2 = 13.86                                                                       // in (m^3/kmol)^2\n",
"b2 = 0.1162                                                                      // in m^3/kmol\n",
"a = (y1*a1**.5 + y2*a2**.5)**2                                                   // in bar*(m^3/kmol)^2\n",
"b = y1*b1+y2*b2                                                                  // in m^3/kmol\n",
"// From van der Waals equation\n",
"p = ((Rbar*T)/(vbar-b))*10**-5 - a/(vbar**2)\n",
"printf( ' The pressure in bar from van der Waals equation is:   %.2f',p)\n",
"// Part(d)\n",
"// For methane\n",
"TR1 = T/Tc1\n",
"vR1dash = (.241/.18)*10**5*Pc1/(Rbar*Tc1)\n",
"Z1 = 1.00\n",
"// For butane\n",
"TR2 = T/Tc2\n",
"vR2dash = (.88*10**5*Pc2)/(Rbar*Tc2)\n",
"Z2 = 0.8\n",
"Z = y1*Z1 + y2*Z2\n",
"// Accordingly, the same value for pressure as determined in part (b) using Kay’s rule results:\n",
"p = 70.4\n",
"// Result\n",
"printf( ' The pressure in bar obtained using the rule of additive pressures employing the generalized compressibility chart is:  %.2f',p)"
   ]
   }
,
{
		   "cell_type": "markdown",
		   "metadata": {},
		   "source": [
			"## Example 11.1: Example.sce"
		   ]
		  },
  {
"cell_type": "code",
	   "execution_count": null,
	   "metadata": {
	    "collapsed": true
	   },
	   "outputs": [],
"source": [
"// Given:-\n",
"m = 4.00                                                                        // mass of carbon monoxide in kg\n",
"T = 223.00                                                                      // temperature of carbon monoxide in kelvin\n",
"D = 0.2                                                                         // inner diameter of cylinder in meter\n",
"L = 1.00                                                                        // length of the cylinder in meter\n",
"pi=3.14\n",
"// Analysis\n",
"M = 28.00                                                                       // molar mass in kg/kmol\n",
"// Calculations\n",
"V = (pi*D**2.00/4.00)*L                                                         // volume occupied by the gas in m^3\n",
"vbar = M*(V/m)                                                                  // The molar specific volume in m^3/kmol\n",
"// Part(a)\n",
"// From Table A-1 for CO\n",
"Tc = 133                                                                        // in kelvin\n",
"Pc = 35                                                                         // in bar\n",
"Tr = T/Tc                                                                       // reduced temperature\n",
"Rbar = 8314                                                                     // universal gas constant in N.m/kmol.K\n",
"Z = 0.9\n",
"// Calculations\n",
"vrdash = (vbar*Pc*10**5)/(Rbar*Tc)                                              // pseudoreduced specific volume\n",
"p = (Z*Rbar*T/vbar)*10**-5                                                      // in bar\n",
"// Result\n",
"printf( '\n part(a)the pressure in bar is:  %.2f bar',p)\n",
"// Part(b)\n",
"// The ideal gas equation of state gives\n",
"// Calculations\n",
"p = (Rbar*T/vbar)/10**5                                                          // in bar\n",
"// Result\n",
"printf( '\n Part(b)the pressure in bar is: %.2f bar',p)\n",
"// Part(c)\n",
"// For carbon monoxide, the van der Waals constants a and b can be read directly from Table A-24\n",
"a = 1.474                                                                        // in (m^3/kmol)^2\n",
"b = 0.0395                                                                       // in m^3/kmol\n",
"// Calculations\n",
"p = (Rbar*T/(vbar-b))/10**5 - a/vbar**2\n",
"// Result\n",
"printf( '\n Part(c)the pressure in bars is:  %.2f bar',p)\n",
"// Part(d)\n",
"// For carbon monoxide, the Redlich–Kwong constants can be read directly from Table A-24\n",
"a = 17.22                                                                        // in m^6*K^.5/kmol^2\n",
"b = 0.02737                                                                      // in m^3/kmol\n",
"// Calculations\n",
"p = (Rbar*T/(vbar-b))/10**5 - a/(vbar*(vbar+b)*T**.5)\n",
"// Result\n",
"printf( '\n Part(d)the pressure in bar is:  %.2f bar', p)"
   ]
   }
,
{
		   "cell_type": "markdown",
		   "metadata": {},
		   "source": [
			"## Example 11.3: Example.sce"
		   ]
		  },
  {
"cell_type": "code",
	   "execution_count": null,
	   "metadata": {
	    "collapsed": true
	   },
	   "outputs": [],
"source": [
"// Given:-\n",
"// Part(a)\n",
"v = 0.4646                                                                       // specific volume in in m^3/kg\n",
"M = 18.02                                                                        // molar mass of water in kg/kmol\n",
"// At the specified state, the temperature is 513 K and the specific volume on a molar basis is\n",
"vbar = v*M                                                                       // in m^3/kmol\n",
"// From Table A-24\n",
"a = 142.59                                                                       // (m^3/kmol)^2 * K^.5\n",
"b = 0.0211                                                                       // in m^3/kmol\n",
"Rbar = 8314.0                                                                    // universal gas constant in N.m/kmol.K\n",
"T = 513.0                                                                        // in kelvin\n",
"delpbydelT = (Rbar/(vbar-b) + a/(2*vbar*(vbar+b)*T**1.5)*10**5)/10**3             // in kj/(m^3*K)\n",
"// By The Maxwell relation\n",
"delsbydelv = delpbydelT\n",
"// Result\n",
"printf( ' The value of delpbydelT in kj/(m^3*K) is:   %.2f',delpbydelT);\n",
"// Part(b)\n",
"// A value for (dels/delv)T can be estimated using a graphical approach with steam table data, as follows: At 240C, Table A-4 provides the values for specific entropy s and specific volume v tabulated below\n",
"T = 240.0                                                                         // in degree celcius\n",
"// At p =1, 1.5, 3, 5, 7, 10 bar respectively\n",
"y = [7.994, 7.805, 7.477, 7.230, 7.064, 6.882]                  \n",
"x = [2.359, 1.570, 0.781, 0.4646, 0.3292, 0.2275]               \n",
"plot(x,y)\n",
"xlabel('Specific volume')\n",
"ylabel('Specific entropy')\n",
"// The pressure at the desired state is 5 bar.The corresponding slope is\n",
"delsbydelv = 1                                                                    // in kj/m^3.K\n",
"printf( ' From the data of the table,delsbydelv = %.2f',delsbydelv);"
   ]
   }
,
{
		   "cell_type": "markdown",
		   "metadata": {},
		   "source": [
			"## Example 11.4: Example.sce"
		   ]
		  },
  {
"cell_type": "code",
	   "execution_count": null,
	   "metadata": {
	    "collapsed": true
	   },
	   "outputs": [],
"source": [
"// Given:-\n",
"// Analysis\n",
"// For comparison, Table A-2 gives at 100C,\n",
"hgf =2257.00                                                                    // in kj/kg\n",
"ugf = 2087.6                                                                    // in kj/kg\n",
"sgf = 6.048                                                                     // in kj/kg.K\n",
"// Values\n",
"printf( ' From table, hg-hf = %.2f',hgf);\n",
"printf( ' From table, ug-uf = %.2f',ugf);\n",
"printf( ' From table, sg-sf = %.2f',sgf);\n",
"// Part(a)\n",
"T = 373.15                                                                      // in kelvin\n",
"// If we plot a graph between temperature and saturation pressure using saturation pressure–temperature data from the steam tables, the desired slope is:\n",
"delpbydelT = 3570.00                                                            // in N/(m^2.K)\n",
"vg = 1.673                                                                      // in m^3/kg\n",
"vf = 1.0435e-3                                                                  // in m^3/kg\n",
"// Calculations\n",
"// From the Clapeyron equation\n",
"hgf = T*(vg-vf)*delpbydelT*10**-3                                               // in kj/kg\n",
"// Result\n",
"printf( '\n Part(a)using Clapeyron equation, hg-hf = %.2f KJ/kg', hgf);\n",
"// Part(b)\n",
"psat = 1.014e5                                                                  // in N/m^2\n",
"hgf = 2256.00                                                                   // can be obtained using IT software in kj/kg\n",
"// Calculations\n",
"ugf = hgf - psat*(vg-vf)/10**3                                                  // in kj/kg\n",
"// Result\n",
"printf( '\n Part(b)ug-uf = %.2f KJ/kg',ugf)\n",
"// Part(c)\n",
"// Calculation\n",
"sgf =hgf/T                                                                      // in kj/kg.K         \n",
"// Result\n",
"printf( '\n Part(c)sg-sf = %.2f  KJ/kg. k',sgf)"
   ]
   }
,
{
		   "cell_type": "markdown",
		   "metadata": {},
		   "source": [
			"## Example 11.6: Example.sce"
		   ]
		  },
  {
"cell_type": "code",
	   "execution_count": null,
	   "metadata": {
	    "collapsed": true
	   },
	   "outputs": [],
"source": [
"// Given:-\n",
"// Part(a)\n",
"v = 1.00/998.21                                                             // specific volume of water in m^3/kg\n",
"T = 293.00                                                                  // given temperature in kelvin\n",
"beta = 206.6e-6                                                             // volume expansivity in /K\n",
"k = 45.90e-6                                                                // isothermal compressibility in /bar\n",
"// Interpolating in Table A-19\n",
"cp = 4.188                                                                  // in kj/kg.k\n",
"// Calculations\n",
"cpv = (v*T*beta**2.00/k)*10**2                                              // in kj/kg.k\n",
"cv = cp-cpv                                                                 // in kj/kg.k\n",
"errorPercentage = 100*(cp-cv)/cv\n",
"// Result\n",
"printf( ' The percentage error is:  %.2f',errorPercentage)\n",
"// Part(b)\n",
"// Calculations\n",
"K = cp/cv                                                                   // specific heat ratio\n",
"c = ((K*v/k)*10**5)**0.5                                                      // velocity of sound in m/s\n",
"// Result\n",
"printf( ' The velocity of sound is:  %.2f m/s',c)"
   ]
   }
,
{
		   "cell_type": "markdown",
		   "metadata": {},
		   "source": [
			"## Example 11.8: Example.sce"
		   ]
		  },
  {
"cell_type": "code",
	   "execution_count": null,
	   "metadata": {
	    "collapsed": true
	   },
	   "outputs": [],
"source": [
"// Given:-\n",
"p1 = 100.00                                                                     // in bar\n",
"T1 = 300.00                                                                     // in kelvin\n",
"p2 = 40.00                                                                      // in bar\n",
"T2 = 245.00                                                                     // in kelvin\n",
"// From table A-23\n",
"h1starbar = 8723.00                                                             // in kj/kmol\n",
"h2starbar = 7121.00                                                             // in kj/kmol\n",
"// From Tables A-1\n",
"Tc = 126.00                                                                     // critical temperature in kelvin\n",
"pc = 33.9                                                                       // critical pressure in bar\n",
"M = 28.00                                                                       // molar mass in kg/kmol\n",
"Rbar = 8.314                                                                    // universal gas constant in kj/(kmol.K)\n",
"Term1 = 0.5                                                                      \n",
"Term2 = 0.31\n",
"// Calculations\n",
"TR1 = T1/Tc                                                                     // reduced temperature at the inlet\n",
"PR1 = p1/pc                                                                     // reduced pressure at the inlet\n",
"TR2 = T2/Tc                                                                     // reduced temperature at the exit\n",
"PR2 = p2/pc                                                                     // reduced pressure at the exit\n",
"wcvdot = (1.00/M)*(h1starbar-h2starbar-Rbar*Tc*(Term1-Term2))                      // in kj/kg\n",
"// Result\n",
"printf( ' The work developed, in kJ per kg of nitrogen flowing is :  %.2f',wcvdot)"
   ]
   }
,
{
		   "cell_type": "markdown",
		   "metadata": {},
		   "source": [
			"## Example 11.9: Example.sce"
		   ]
		  },
  {
"cell_type": "code",
	   "execution_count": null,
	   "metadata": {
	    "collapsed": true
	   },
	   "outputs": [],
"source": [
"// Given:-\n",
"// Part(a)\n",
"// With values from Table A-23\n",
"sT2bar = 185.775                                                                // in kj/(kmol.K)\n",
"sT1bar = 191.682                                                                // in kj/(kmol.K)\n",
"Rbar = 8.314                                                                    // universal gas constant\n",
"M = 28.00                                                                       // molar mass in kg/kmol \n",
"p2 = 40.00                                                                      // in bar\n",
"p1 = 100.00                                                                     // in bar\n",
"Term1 = 0.21\n",
"Term2 = 0.14\n",
"// Calculations\n",
"S2StarBarMinusS1StarBar = sT2bar-sT1bar-Rbar*log(p2/p1)                    // The change in specific entropy in kj/(kmol.K)\n",
"sigmacvdot = (1.00/M)*(S2StarBarMinusS1StarBar-Rbar*(Term2-Term1))\n",
"// Result\n",
"printf( ' the rate of entropy production in kj/kg.K is:  %.2f', sigmacvdot)\n",
"// Part(b)\n",
"// From Table A-23,\n",
"h2starbar = 6654.00                                                             // in kj/kmol\n",
"h1starbar = 8723.00                                                             // in kj/kmol\n",
"Tc = 126.00                                                                     // critical temperature in kelvin\n",
"Term2 = 0.36\n",
"Term1 = 0.5\n",
"wcvdot = 50.1                                                                   // from example 11.8\n",
"// Calculations\n",
"wcvdots = (1.00/M)*(h1starbar-h2starbar-Rbar*Tc*(Term1-Term2))                  // isentropic work in kj/kg\n",
"etat = wcvdot/wcvdots                                                           // turbine efficiency\n",
"// Result\n",
"printf( ' The isentropic turbine efficiency is: %.2f', etat)"
   ]
   }
],
"metadata": {
		  "kernelspec": {
		   "display_name": "Scilab",
		   "language": "scilab",
		   "name": "scilab"
		  },
		  "language_info": {
		   "file_extension": ".sce",
		   "help_links": [
			{
			 "text": "MetaKernel Magics",
			 "url": "https://github.com/calysto/metakernel/blob/master/metakernel/magics/README.md"
			}
		   ],
		   "mimetype": "text/x-octave",
		   "name": "scilab",
		   "version": "0.7.1"
		  }
		 },
		 "nbformat": 4,
		 "nbformat_minor": 0
}
