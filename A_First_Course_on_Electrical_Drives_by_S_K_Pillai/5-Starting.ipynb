{
"cells": [
 {
		   "cell_type": "markdown",
	   "metadata": {},
	   "source": [
       "# Chapter 5: Starting"
	   ]
	},
{
		   "cell_type": "markdown",
		   "metadata": {},
		   "source": [
			"## Example 5.1: Value_of_Torque.sce"
		   ]
		  },
  {
"cell_type": "code",
	   "execution_count": null,
	   "metadata": {
	    "collapsed": true
	   },
	   "outputs": [],
"source": [
"//example 5.1, Page 98clc;IL=(100*1000)/(400*.9*.8*sqrt(3))//Full load currentFS=(1000-950)/1000//Full load slip//disp('hhhhhhhhhhh')//Writing loopx=[1 0.577350269 .7 0.333333333]for i=1:1:4T=1.8*(x(i))^2printf('\n The value of Tst/Tf when x=%f is %f ',x(i),T)end"
   ]
   }
,
{
		   "cell_type": "markdown",
		   "metadata": {},
		   "source": [
			"## Example 5.3: Torque.sce"
		   ]
		  },
  {
"cell_type": "code",
	   "execution_count": null,
	   "metadata": {
	    "collapsed": true
	   },
	   "outputs": [],
"source": [
"//Example 5.3, page 104\n",
"clc\n",
"s=.05//slip\n",
"x=1//ie x1+x2\n",
"s_max=((1-s**2)/(2*log(1/s)))**(1/2)//max slip\n",
"//disp(s_max)\n",
"R2_opt=x*s_max\n",
"ws=(2*%pi*1000)/60//angular frequency\n",
"v1=400/sqrt(3)//voltage\n",
"j=10//angular V\n",
"Tmax=(3*v1**2)/(ws*2*x)\n",
"Tmin=((j*ws)/(2*Tmax))*(((1-s**2)/(2*R2_opt))+((R2_opt*log(1/s))))\n",
"printf('\n The value of T_min is %f sec ',Tmin)"
   ]
   }
,
{
		   "cell_type": "markdown",
		   "metadata": {},
		   "source": [
			"## Example 5.4: Permissible_start.sce"
		   ]
		  },
  {
"cell_type": "code",
	   "execution_count": null,
	   "metadata": {
	    "collapsed": true
	   },
	   "outputs": [],
"source": [
"//Example 5.4, Page no 110\n",
"clc\n",
"p=400*20*.88*sqrt(3)//input power in watt\n",
"l=12193.6-10000//in watt, full load loss\n",
"e=l*60//energy lost per minute\n",
"ws=(2*%pi*1000)/60//angular frequency\n",
"j=.5\n",
"R=1//resistance in ohm ir R1/R2\n",
"El=(0.5*j*ws**2)*(1+R)\n",
"//disp(El)\n",
"N=e/El\n",
"//disp(N)\n",
"printf('\n The number of starts that can be made is %d ',N)\n",
"ws=(2*%pi*1500)/60//angular frequency\n",
"j=.5\n",
"R=1//resistance in ohm ir R1/R2\n",
"El=(0.5*j*ws**2)*(1+R)\n",
"//disp(El)\n",
"N=e/El\n",
"//disp(N)\n",
"printf('\n The number of permissible starts is %d ',N)"
   ]
   }
],
"metadata": {
		  "kernelspec": {
		   "display_name": "Scilab",
		   "language": "scilab",
		   "name": "scilab"
		  },
		  "language_info": {
		   "file_extension": ".sce",
		   "help_links": [
			{
			 "text": "MetaKernel Magics",
			 "url": "https://github.com/calysto/metakernel/blob/master/metakernel/magics/README.md"
			}
		   ],
		   "mimetype": "text/x-octave",
		   "name": "scilab",
		   "version": "0.7.1"
		  }
		 },
		 "nbformat": 4,
		 "nbformat_minor": 0
}
