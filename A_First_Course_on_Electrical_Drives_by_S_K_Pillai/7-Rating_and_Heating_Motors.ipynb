{
"cells": [
 {
		   "cell_type": "markdown",
	   "metadata": {},
	   "source": [
       "# Chapter 7: Rating and Heating Motors"
	   ]
	},
{
		   "cell_type": "markdown",
		   "metadata": {},
		   "source": [
			"## Example 7.1: Final_tempearture.sce"
		   ]
		  },
  {
"cell_type": "code",
	   "execution_count": null,
	   "metadata": {
	    "collapsed": true
	   },
	   "outputs": [],
"source": [
"//Example 7.1, page 147\n",
"clc\n",
"G=500//in kg\n",
"h=700// in j/kg/c\n",
"s_lambda=%pi*.7*1*12.5\n",
"h=(G*h)/s_lambda\n",
"//disp(h)\n",
"L=((10*1000)/.9)-10000\n",
"w=1111\n",
"T=w/s_lambda\n",
"printf('Final tempearture rise is %f k',T)"
   ]
   }
,
{
		   "cell_type": "markdown",
		   "metadata": {},
		   "source": [
			"## Example 7.3: power.sce"
		   ]
		  },
  {
"cell_type": "code",
	   "execution_count": null,
	   "metadata": {
	    "collapsed": true
	   },
	   "outputs": [],
"source": [
"//Example 7.3, page 162\n",
"clc\n",
"alpha=0.9\n",
"N=.5//in hr\n",
"tou=1.5//in hr\n",
"pr=25//in kw\n",
"px=pr*sqrt(((1+alpha)/(1-exp(-N/tou)))-.9)\n",
"printf('Power id %f kw',px)"
   ]
   }
,
{
		   "cell_type": "markdown",
		   "metadata": {},
		   "source": [
			"## Example 7.4: Power.sce"
		   ]
		  },
  {
"cell_type": "code",
	   "execution_count": null,
	   "metadata": {
	    "collapsed": true
	   },
	   "outputs": [],
"source": [
"//example 7.4, page 165\n",
"clc\n",
"pr=100//in kw\n",
"N=18//in min\n",
"tou=90//in min\n",
"R=30//in min\n",
"tou_1=120//in min\n",
"a=N/tou\n",
"b=R/tou_1\n",
"px=pr*sqrt((1-exp(-(a+b)))/(1-exp(-(a))))\n",
"printf('The power is %f kw',px)"
   ]
   }
,
{
		   "cell_type": "markdown",
		   "metadata": {},
		   "source": [
			"## Example 7.5: Weight_of_fly_wheel.sce"
		   ]
		  },
  {
"cell_type": "code",
	   "execution_count": null,
	   "metadata": {
	    "collapsed": true
	   },
	   "outputs": [],
"source": [
"//Example , page 162//169\n",
"clc\n",
"Tr=(50*1000*60)/(2*%pi*960)\n",
"//disp(Tr)\n",
"Tmax=2*Tr\n",
"Tmin=300//in nm\n",
"Tlh=1500+Tmin\n",
"t=10//in sec\n",
"ws=(2*%pi*1000)/60//angular f\n",
"wr=(2*%pi*960)/60//angular f\n",
"temp=log((Tlh-Tmin)/(Tlh-Tmax))\n",
"j=(Tr/(ws-wr))*(t/temp)\n",
"//disp(j)\n",
"r=.9//in m\n",
"wt=j/r^2\n",
"//disp(wt)\n",
"printf('Weight of fly wheel is %f kg',wt)\n",
"//Part b\n",
"Tmax=994.72\n",
"Tmin=700\n",
"TL1=300\n",
"temp=log((Tmax-TL1)/(Tmin-TL1))\n",
"t=(j*temp*(ws-wr))/Tr\n",
"printf('\n The estimated time is %f s',t)"
   ]
   }
],
"metadata": {
		  "kernelspec": {
		   "display_name": "Scilab",
		   "language": "scilab",
		   "name": "scilab"
		  },
		  "language_info": {
		   "file_extension": ".sce",
		   "help_links": [
			{
			 "text": "MetaKernel Magics",
			 "url": "https://github.com/calysto/metakernel/blob/master/metakernel/magics/README.md"
			}
		   ],
		   "mimetype": "text/x-octave",
		   "name": "scilab",
		   "version": "0.7.1"
		  }
		 },
		 "nbformat": 4,
		 "nbformat_minor": 0
}
