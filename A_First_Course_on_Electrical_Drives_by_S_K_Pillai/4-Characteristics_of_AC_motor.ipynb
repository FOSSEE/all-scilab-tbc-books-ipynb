{
"cells": [
 {
		   "cell_type": "markdown",
	   "metadata": {},
	   "source": [
       "# Chapter 4: Characteristics of AC motor"
	   ]
	},
{
		   "cell_type": "markdown",
		   "metadata": {},
		   "source": [
			"## Example 4.1: Roots_of_the_equatio.sce"
		   ]
		  },
  {
"cell_type": "code",
	   "execution_count": null,
	   "metadata": {
	    "collapsed": true
	   },
	   "outputs": [],
"source": [
"//Example 4.1, Page 72\n",
"clc;\n",
"p1=poly([1, -3, 1], 'x', 'c')//Polynomial equation\n",
"disp('Part a')\n",
"disp('roots of the equation when slip at max torque')\n",
"x=roots(p1)\n",
"disp(x)\n",
"p2=poly([0.146, -1.719, 1], 'x', 'c')//polynomial equation in scilab function\n",
"y=roots(p2)\n",
"disp('Part b')\n",
"disp('roots of the equation when slip at max load')\n",
"disp(y)"
   ]
   }
,
{
		   "cell_type": "markdown",
		   "metadata": {},
		   "source": [
			"## Example 4.3: Steady_operatio.sce"
		   ]
		  },
  {
"cell_type": "code",
	   "execution_count": null,
	   "metadata": {
	    "collapsed": true
	   },
	   "outputs": [],
"source": [
"//Example 4.1, Page 76\n",
"clc;\n",
"p1=poly([.0016, -0.0266, 0.04], 'x', 'c')//Polynomial equation\n",
"disp('Part a')\n",
"disp('roots of the equation that slip will run is')\n",
"x=roots(p1)\n",
"disp(x)"
   ]
   }
,
{
		   "cell_type": "markdown",
		   "metadata": {},
		   "source": [
			"## Example 4.5: Value_of_resistance.sce"
		   ]
		  },
  {
"cell_type": "code",
	   "execution_count": null,
	   "metadata": {
	    "collapsed": true
	   },
	   "outputs": [],
"source": [
"//Example 4.5, page 81\n",
"clc\n",
"pole=24\n",
"Ns=245//in rpm\n",
"N=(120*50)/pole//synchronous speed in rpm\n",
"f=(N-Ns)/N\n",
"p=110//in kw\n",
"T=(p*1000*60)/(2*%pi*Ns)\n",
"v1=440/sqrt(3)//in v\n",
"ws=(2*%pi*250)/60\n",
"s=0.02\n",
"R=0.03125//in ohm\n",
"x=sqrt(((3*R*v1**2)/(T*ws*s))-(R/s)**2)//by rearranging formula\n",
"printf('\n Stator resistance per phase is %f ohm ',x)\n",
"//calculating original resistance\n",
"//Example 4.1, Page 72\n",
"clc;\n",
"p1=poly([72.78, -3235, 3190], 'x', 'c')//Polynomial equation\n",
"disp('Part a')\n",
"disp('The value of original resistance is')\n",
"x=roots(p1)\n",
"disp(x)\n",
"//Taking r=0.99108\n",
"r=(0.99108-R)/1.25**2\n",
"printf('\n The value of resistance to be added is  %f ohm ',r)"
   ]
   }
,
{
		   "cell_type": "markdown",
		   "metadata": {},
		   "source": [
			"## Example 4.6: Value_of_Delta.sce"
		   ]
		  },
  {
"cell_type": "code",
	   "execution_count": null,
	   "metadata": {
	    "collapsed": true
	   },
	   "outputs": [],
"source": [
"//Example 4.6, Page no 92\n",
"clc\n",
"disp('Part ii')\n",
"new_sin_delta=sind(45)/.95\n",
"delta=asind(new_sin_delta)\n",
"printf('\n The value of delta is %f degree ',delta)"
   ]
   }
],
"metadata": {
		  "kernelspec": {
		   "display_name": "Scilab",
		   "language": "scilab",
		   "name": "scilab"
		  },
		  "language_info": {
		   "file_extension": ".sce",
		   "help_links": [
			{
			 "text": "MetaKernel Magics",
			 "url": "https://github.com/calysto/metakernel/blob/master/metakernel/magics/README.md"
			}
		   ],
		   "mimetype": "text/x-octave",
		   "name": "scilab",
		   "version": "0.7.1"
		  }
		 },
		 "nbformat": 4,
		 "nbformat_minor": 0
}
