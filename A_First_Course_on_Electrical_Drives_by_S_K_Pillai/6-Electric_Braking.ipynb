{
"cells": [
 {
		   "cell_type": "markdown",
	   "metadata": {},
	   "source": [
       "# Chapter 6: Electric Braking"
	   ]
	},
{
		   "cell_type": "markdown",
		   "metadata": {},
		   "source": [
			"## Example 6.1: Speed_of_shunt_machine.sce"
		   ]
		  },
  {
"cell_type": "code",
	   "execution_count": null,
	   "metadata": {
	    "collapsed": true
	   },
	   "outputs": [],
"source": [
"//Example 6.1, page 121\n",
"clc\n",
"T=172//in N-m\n",
"w=(2*%pi*960)/60\n",
"E=215//in V\n",
"Ia=(T*w)/E\n",
"Ra=.062//in ohm\n",
"v=220//in v\n",
"Eg=v+(Ia*Ra)\n",
"//disp(Eg)\n",
"N=960//in Rpm\n",
"S=(N*Eg)/E\n",
"//disp(S)\n",
"printf('\n The speed of shunt machine is %f rpm ',S)"
   ]
   }
,
{
		   "cell_type": "markdown",
		   "metadata": {},
		   "source": [
			"## Example 6.2: Resistance.sce"
		   ]
		  },
  {
"cell_type": "code",
	   "execution_count": null,
	   "metadata": {
	    "collapsed": true
	   },
	   "outputs": [],
"source": [
"//Example 6.2, page 122\n",
"clc;\n",
"N=480//in rpm\n",
"T=318.3//in N-m\n",
"P=(2*%pi*N*T)/60\n",
"//From graph\n",
"E=333.3//in V\n",
"Ia=48//Amp\n",
"R=E/Ia\n",
"//disp(R)\n",
"printf('\n The total resistance of circuit is %f ohm ',R)"
   ]
   }
,
{
		   "cell_type": "markdown",
		   "metadata": {},
		   "source": [
			"## Example 6.3: Braking_Torque_and_current.sce"
		   ]
		  },
  {
"cell_type": "code",
	   "execution_count": null,
	   "metadata": {
	    "collapsed": true
	   },
	   "outputs": [],
"source": [
"//Example 6.3, Page 123\n",
"clc\n",
"per=.88\n",
"v=220//in v\n",
"p=20//in kw\n",
"I=(p*1000)/(per*v)\n",
"T=(p*1000*60)/(2*%pi*1200)\n",
"//Part a\n",
"E_motor=v-(I*.1)\n",
"v_arm=v+E_motor\n",
"Ir=2*I//Rated current\n",
"R=v_arm/Ir\n",
"disp(R)\n",
"R_Extra=R-.1\n",
"printf('\n Extra resistance added to motor armature is %f ohm ',R_Extra)\n",
"//Part b\n",
"T_Full_load=T*2\n",
"printf('\n Full load torque is %f N-m ',T_Full_load)\n",
"//Part c\n",
"E=(E_motor*400)/1200\n",
"//disp(E)\n",
"I_braking=(v+E)/R\n",
"T_braking=(T/103.3)*I_braking\n",
"printf('\n Braking Torque is  %f N-m ',T_braking)\n",
"printf('\n Braking  current is  %f A',I_braking)"
   ]
   }
,
{
		   "cell_type": "markdown",
		   "metadata": {},
		   "source": [
			"## Example 6.4: Braking_Torque.sce"
		   ]
		  },
  {
"cell_type": "code",
	   "execution_count": null,
	   "metadata": {
	    "collapsed": true
	   },
	   "outputs": [],
"source": [
"//Example 6.4, page 131\n",
"clc\n",
"R1=.15//in ohm\n",
"Rs=.45//in ohm\n",
"x1=.6//in ohm\n",
"xz=1.8//in ohm\n",
"sf=.05\n",
"Turn=1/sqrt(3)\n",
"R_rotor=Rs*Turn//in ohm\n",
"X_rotor=xz*Turn^2//in ohm\n",
"//Part 1\n",
"//BY FIGURE\n",
"E1=sqrt((3^2+.6^2)/(3.15^2+1.2^2))*440/sqrt(3)\n",
"//disp(E1)\n",
"s=1-sf\n",
"I2=E1/sqrt(x1**2+2**2)\n",
"//disp(I2)\n",
"R2=2*60//ohm\n",
"w=2*%pi*600\n",
"T=(R2*3*(I2^2))/(s*w)\n",
"//disp(T)\n",
"printf('Initial braking torque of rheostatic is %f N-m',T)\n",
"//Part 2\n",
"s1=2-sf\n",
"a=.15+(1.9/1.95)**2\n",
"b=1.2**2\n",
"I2=(440/sqrt(3))*(1/sqrt(a+b))\n",
"//disp(I2)\n",
"T=(60*1.9*3*(I2^2))/(1.95*w)\n",
"//disp(T)\n",
"printf('\n Initial braking torque during reverse is %f N-m',T)"
   ]
   }
,
{
		   "cell_type": "markdown",
		   "metadata": {},
		   "source": [
			"## Example 6.5: Initial_braking_torque.sce"
		   ]
		  },
  {
"cell_type": "code",
	   "execution_count": null,
	   "metadata": {
	    "collapsed": true
	   },
	   "outputs": [],
"source": [
"//Example 6.5, page no 136\n",
"clc\n",
"Kva=3000/3//kva per phase\n",
"v=2300/sqrt(3)//voltage per phase\n",
"//disp(v)\n",
"i=(1000*1000)/1330//current per phase\n",
"//disp(i)\n",
"s=i*.2\n",
"x=sqrt((v+s)^2+(s^2))\n",
"temp=((x/i)^2)-2**2//temp=(.2+R)**2\n",
"temp1=sqrt(temp)-(.2)\n",
"//disp(temp1)\n",
"//Answer difference is because of round off value of x\n",
"r=1.97//in ohms\n",
"T_br=(3*i*i*r*60)/(2*%pi*200)\n",
"printf('Initial braking torque is %f N-m',T_br)"
   ]
   }
,
{
		   "cell_type": "markdown",
		   "metadata": {},
		   "source": [
			"## Example 6.6: number_of_starts_and_stops.sce"
		   ]
		  },
  {
"cell_type": "code",
	   "execution_count": null,
	   "metadata": {
	    "collapsed": true
	   },
	   "outputs": [],
"source": [
"//Example 6.6, Page 138\n",
"clc\n",
"pf=.85\n",
"N1=1500//in rpm\n",
"N=1440//in rpm\n",
"P=pf*230*10*sqrt(3)\n",
"p_stator_loss=86.16//in w\n",
"p_rotor=P-p_stator_loss\n",
"rotor_copper_loss=((N1-N)/N1)*p_rotor\n",
"printf('The rotor copper loss is %f watt',rotor_copper_loss)\n",
"inertia=.0486//in kg-m2\n",
"E=2*.96*inertia*((2*%pi*50)/2)**2\n",
"disp(E)\n",
"stops_starts=7920/E\n",
"printf('Total number of starts and stops is %d',stops_starts)"
   ]
   }
,
{
		   "cell_type": "markdown",
		   "metadata": {},
		   "source": [
			"## Example 6.7: Minimum_time_to_bring_rotor_to_rest.sce"
		   ]
		  },
  {
"cell_type": "code",
	   "execution_count": null,
	   "metadata": {
	    "collapsed": true
	   },
	   "outputs": [],
"source": [
"//Example 6.7, page 138\n",
"clc;\n",
"v1=400/sqrt(3)//in v\n",
"ws=(2*%pi*1000)/60//angular f\n",
"x=1//resistance in ohm\n",
"T_max=(3*v1^2)/(ws*2*x)\n",
"//disp(T_max)\n",
"j=10//in kg-m2\n",
"s1=.05\n",
"s_maxT=0.2\n",
"a=(1.95^2-1)/(2*s_maxT)\n",
"temp=a+(.2*log(1.95))\n",
"r=((10*ws)/(2*T_max))*(temp)\n",
"//disp(r)\n",
"Extra_R=r-(.2)\n",
"a=(1.95^2-1)/(2*1.45)\n",
"temp=a+(1.45*log(1.95))\n",
"t=((10*ws)/(2*T_max))*(temp)\n",
"//disp(t)\n",
"printf('Minimum time to bring rotor to rest is %f s',t)"
   ]
   }
,
{
		   "cell_type": "markdown",
		   "metadata": {},
		   "source": [
			"## Example 6.8: Number_of_revolutions_made.sce"
		   ]
		  },
  {
"cell_type": "code",
	   "execution_count": null,
	   "metadata": {
	    "collapsed": true
	   },
	   "outputs": [],
"source": [
"//Example 6.8, page 141\n",
"clc\n",
"//part a\n",
"w=(2*%pi*50)/3//angular f, rad/sec\n",
"k=6000/w\n",
"kw=6000//n-m, initial brakin torque\n",
"Tf=300//n-m, fictional torque\n",
"j=540//kg-m2\n",
"tr=(j/k)*log((kw+Tf)/Tf)\n",
"//disp(tr)\n",
"s=%e^((-k*tr)/j)\n",
"//disp(s)\n",
"temp=((j/k)*(kw+Tf)*(1-s))-((Tf*tr))\n",
"Nr=(1/(2*%pi*k))*temp\n",
"//disp(Nr)\n",
"printf('Time taken for rheostatic braking is %f s',Nr)\n",
"//part b\n",
"beta=3600/j\n",
"motor_rest_time=w/6.67\n",
"//disp(motor_rest_time)\n",
"rev=(1000/60)*.5*(motor_rest_time)\n",
"printf('Number of revolutions made is %f',rev)"
   ]
   }
],
"metadata": {
		  "kernelspec": {
		   "display_name": "Scilab",
		   "language": "scilab",
		   "name": "scilab"
		  },
		  "language_info": {
		   "file_extension": ".sce",
		   "help_links": [
			{
			 "text": "MetaKernel Magics",
			 "url": "https://github.com/calysto/metakernel/blob/master/metakernel/magics/README.md"
			}
		   ],
		   "mimetype": "text/x-octave",
		   "name": "scilab",
		   "version": "0.7.1"
		  }
		 },
		 "nbformat": 4,
		 "nbformat_minor": 0
}
