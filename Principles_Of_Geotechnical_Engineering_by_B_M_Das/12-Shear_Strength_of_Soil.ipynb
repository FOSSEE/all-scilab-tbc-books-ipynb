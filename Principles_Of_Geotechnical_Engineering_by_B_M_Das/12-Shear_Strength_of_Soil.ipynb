{
"cells": [
 {
		   "cell_type": "markdown",
	   "metadata": {},
	   "source": [
       "# Chapter 12: Shear Strength of Soil"
	   ]
	},
{
		   "cell_type": "markdown",
		   "metadata": {},
		   "source": [
			"## Example 12.1: solved.sce"
		   ]
		  },
  {
"cell_type": "code",
	   "execution_count": null,
	   "metadata": {
	    "collapsed": true
	   },
	   "outputs": [],
"source": [
"clc\n",
"D=50 // in mm\n",
"A= %pi/4 *(D/1000)^2\n",
"// solving for test 1 \n",
"N=150\n",
"Sp=157.5\n",
"Sr=44.2\n",
"Tf=Sp/A\n",
"Tr=Sr/A\n",
"// from graph\n",
"k=tand(27)\n",
"k1=tand(14.6)\n",
"\n",
"printf('Peak strength Tf = 40+ t*%f\n',k )\n",
"printf(' Residual strength Tr = t*%f',k1)\n",
""
   ]
   }
,
{
		   "cell_type": "markdown",
		   "metadata": {},
		   "source": [
			"## Example 12.2: solved.sce"
		   ]
		  },
  {
"cell_type": "code",
	   "execution_count": null,
	   "metadata": {
	    "collapsed": true
	   },
	   "outputs": [],
"source": [
"clc\n",
"T3=16 // lb/in^2\n",
"Tf=25 // lb/in^2\n",
"T1=T3+Tf\n",
"a= asind((T1-T3)/(T1+T3)) // Mohr's circle\n",
"printf('a)Angle of friction,a = %f\n',a)\n",
"b= 45+ a/2\n",
"printf(' b)Angle b that the failure plane makes with the major principal plane = %f',b)\n",
""
   ]
   }
,
{
		   "cell_type": "markdown",
		   "metadata": {},
		   "source": [
			"## Example 12.3: solved.sce"
		   ]
		  },
  {
"cell_type": "code",
	   "execution_count": null,
	   "metadata": {
	    "collapsed": true
	   },
	   "outputs": [],
"source": [
"clc\n",
"T1=41\n",
"T3=16\n",
"a=58\n",
"T=(T1+T3)/2 + (T1-T3)*cosd(2*a)/2\n",
"tf=(T1-T3)*sind(2*a)/2\n",
"printf('a)the normal stress T = %f lb/in^2',T)\n",
"printf(' and the shear stress tf = %f lb/in^2',tf)"
   ]
   }
,
{
		   "cell_type": "markdown",
		   "metadata": {},
		   "source": [
			"## Example 12.4: solved.sce"
		   ]
		  },
  {
"cell_type": "code",
	   "execution_count": null,
	   "metadata": {
	    "collapsed": true
	   },
	   "outputs": [],
"source": [
"clc\n",
"//For normally consolidated clay, c' = 0.\n",
"a=30\n",
"T3=10\n",
"T1=T3*(tand(45+a/2))^2\n",
"Tf=T1-T3\n",
"printf('The deviator stress at failure = %f lb/in^2',Tf)"
   ]
   }
,
{
		   "cell_type": "markdown",
		   "metadata": {},
		   "source": [
			"## Example 12.5: solved.sce"
		   ]
		  },
  {
"cell_type": "code",
	   "execution_count": null,
	   "metadata": {
	    "collapsed": true
	   },
	   "outputs": [],
"source": [
"clc\n",
"T13=70\n",
"T1f=130\n",
"T11=T13+T1f\n",
"\n",
"T23=160\n",
"T2f=223.5\n",
"T21=T23+T2f\n",
"\n",
"a= 2*(atand(((T11-T21)/(T13-T23))^0.5)-45)\n",
"c= (T11-T13*(tand(45+a/2))^2)/(2*tand(45+a/2))\n",
"printf('the shear strength parameter c = %f kN/m^2',c)"
   ]
   }
,
{
		   "cell_type": "markdown",
		   "metadata": {},
		   "source": [
			"## Example 12.6: solved.sce"
		   ]
		  },
  {
"cell_type": "code",
	   "execution_count": null,
	   "metadata": {
	    "collapsed": true
	   },
	   "outputs": [],
"source": [
"clc\n",
"T3=12\n",
"Tf=9.1\n",
"T1=T3+Tf\n",
"u=6.8\n",
"a= asind((T1-T3)/(T1+T3))\n",
"\n",
"a1= asind((T1-T3)/(T1+T3-2*u))\n",
"\n",
"printf('a)Consolidated-undrained angle of shearing resistance = %f degrees\n',a)\n",
"printf(' b)Drained friction angle = %f degrees',a1)"
   ]
   }
,
{
		   "cell_type": "markdown",
		   "metadata": {},
		   "source": [
			"## Example 12.7: solved.sce"
		   ]
		  },
  {
"cell_type": "code",
	   "execution_count": null,
	   "metadata": {
	    "collapsed": true
	   },
	   "outputs": [],
"source": [
"clc\n",
"T3=12\n",
"a=27.8\n",
"T1=T3*(tand(45+a/2))^2\n",
"Tf=T1-T3\n",
"printf('the deviator stress at failure = %f lb/in^2',Tf)"
   ]
   }
,
{
		   "cell_type": "markdown",
		   "metadata": {},
		   "source": [
			"## Example 12.8: solved.sce"
		   ]
		  },
  {
"cell_type": "code",
	   "execution_count": null,
	   "metadata": {
	    "collapsed": true
	   },
	   "outputs": [],
"source": [
"clc\n",
"PI=28\n",
"OCR=3.2\n",
"To=160\n",
"Kn=0.11+0.0037*PI\n",
"Ko=OCR^0.8 * Kn\n",
"Cu=Ko*To\n",
"printf('the average undrained shear strength of the clay = %f kN/m^2',Cu)"
   ]
   }
],
"metadata": {
		  "kernelspec": {
		   "display_name": "Scilab",
		   "language": "scilab",
		   "name": "scilab"
		  },
		  "language_info": {
		   "file_extension": ".sce",
		   "help_links": [
			{
			 "text": "MetaKernel Magics",
			 "url": "https://github.com/calysto/metakernel/blob/master/metakernel/magics/README.md"
			}
		   ],
		   "mimetype": "text/x-octave",
		   "name": "scilab",
		   "version": "0.7.1"
		  }
		 },
		 "nbformat": 4,
		 "nbformat_minor": 0
}
