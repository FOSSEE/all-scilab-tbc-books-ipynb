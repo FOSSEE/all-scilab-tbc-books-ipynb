{
"cells": [
 {
		   "cell_type": "markdown",
	   "metadata": {},
	   "source": [
       "# Chapter 7: permiability"
	   ]
	},
{
		   "cell_type": "markdown",
		   "metadata": {},
		   "source": [
			"## Example 7.10: solved.sce"
		   ]
		  },
  {
"cell_type": "code",
	   "execution_count": null,
	   "metadata": {
	    "collapsed": true
	   },
	   "outputs": [],
"source": [
"clc\n",
"//initialisation of variables\n",
"k1= 0.302e-7 //cm/sec\n",
"k2= 0.12e-7 //cm/sec\n",
"e1= 1.1\n",
"e2= 0.9\n",
"e= 0.75\n",
"//calcualtions\n",
"n= (log10((k1/k2)*((1+e1)/(1+e2))))/log10(e1/e2)\n",
"C= k1/(e1^n/(1+e1))\n",
"k= C*(e^n/(1+e))\n",
"//results\n",
"printf ('hydraulic conductivity = %e cm/sec ',k')"
   ]
   }
,
{
		   "cell_type": "markdown",
		   "metadata": {},
		   "source": [
			"## Example 7.11: solved.sce"
		   ]
		  },
  {
"cell_type": "code",
	   "execution_count": null,
	   "metadata": {
	    "collapsed": true
	   },
	   "outputs": [],
"source": [
"clc\n",
"//initialisation of variables\n",
"H1= 2 //m\n",
"H2= 3 //m\n",
"H3= 4 //m\n",
"k1= 1e-4 //cm/sec\n",
"k2= 3.2e-2 //cm/sec\n",
"k3= 4.1e-5 //cm/sec\n",
"//calculations\n",
"H= H1+H2+H3\n",
"Kh= (1/H)*((k1*H1)+(k2*H2)+(k3*H3))\n",
"Kv= H/((H1/k1)+(H2/k2)+(H3/k3))\n",
"P= Kh/Kv\n",
"//results\n",
"printf ('ration of equivalent hydraulic conductivity = % 2f ',P)"
   ]
   }
,
{
		   "cell_type": "markdown",
		   "metadata": {},
		   "source": [
			"## Example 7.12: solved.sce"
		   ]
		  },
  {
"cell_type": "code",
	   "execution_count": null,
	   "metadata": {
	    "collapsed": true
	   },
	   "outputs": [],
"source": [
"clc\n",
"//initialisation of variables\n",
"H= 450 //mm\n",
"h= 150 //mm\n",
"k1= 1e-2 //cm/sec\n",
"k2= 3e-3 //cm/sec\n",
"k3= 4.9e-4 //cm/sec\n",
"h1= 300 //mm\n",
"//calculations\n",
"Kv= H/(h*(1/k1+1/k2+1/k3))\n",
"i= h1/H\n",
"q= Kv*i*100*3600\n",
"//results\n",
"printf ('rate of water supply = % 2f cm/hr ',q)"
   ]
   }
,
{
		   "cell_type": "markdown",
		   "metadata": {},
		   "source": [
			"## Example 7.1: solved.sce"
		   ]
		  },
  {
"cell_type": "code",
	   "execution_count": null,
	   "metadata": {
	    "collapsed": true
	   },
	   "outputs": [],
"source": [
"clc\n",
"//initialisation of variables\n",
"L= 30 //cm\n",
"A= 177 //cm^2\n",
"h= 50 //cm\n",
"Q= 350 //cm^3\n",
"t= 300 //sec\n",
"//claculations\n",
"k=Q*L/(A*h*t)\n",
"//results\n",
"printf ('hydraulic conductivity = % 3f cm/sec ',k)"
   ]
   }
,
{
		   "cell_type": "markdown",
		   "metadata": {},
		   "source": [
			"## Example 7.2: solved.sce"
		   ]
		  },
  {
"cell_type": "code",
	   "execution_count": null,
	   "metadata": {
	    "collapsed": true
	   },
	   "outputs": [],
"source": [
"clc\n",
"//initialisation of variables\n",
"L= 203 //mm\n",
"A= 10.3 //cm^2\n",
"a= 0.39 //cm^2\n",
"h0= 508 //mm\n",
"h180= 305 //mm\n",
"t= 180 //sec\n",
"//calculations\n",
"k= 2.303*a*L*log10(h0/h180)/(A*t)\n",
"//results\n",
"printf ('hydraulic conductivity of sand = % 2f in/sec ',k)"
   ]
   }
,
{
		   "cell_type": "markdown",
		   "metadata": {},
		   "source": [
			"## Example 7.3: solved.sce"
		   ]
		  },
  {
"cell_type": "code",
	   "execution_count": null,
	   "metadata": {
	    "collapsed": true
	   },
	   "outputs": [],
"source": [
"clc\n",
"//initialisation of varilables\n",
"k= 3e-7 //cm/sec\n",
"n= 0.0911e-4 //g*sec/cm^2\n",
"dw= 1 //g/cc\n",
"//calculations\n",
"K= k*n/dw\n",
"//results\n",
"printf ('absolute premeability = % 4f cm^2 ',K)"
   ]
   }
,
{
		   "cell_type": "markdown",
		   "metadata": {},
		   "source": [
			"## Example 7.4: solved.sce"
		   ]
		  },
  {
"cell_type": "code",
	   "execution_count": null,
	   "metadata": {
	    "collapsed": true
	   },
	   "outputs": [],
"source": [
"clc\n",
"//initialisation of variables\n",
"k= 5.3e-5 //m/sec\n",
"H= 3 //m\n",
"a= 0.139 //radians\n",
"//calculations\n",
"A= H*cos(a)\n",
"i= sin(a)\n",
"q= k*i*A*3600\n",
"//results\n",
"printf ('rate of seepage = % 4f m^3/hr/m ',q)"
   ]
   }
,
{
		   "cell_type": "markdown",
		   "metadata": {},
		   "source": [
			"## Example 7.5: solved.sce"
		   ]
		  },
  {
"cell_type": "code",
	   "execution_count": null,
	   "metadata": {
	    "collapsed": true
	   },
	   "outputs": [],
"source": [
"clc\n",
"//initialisation of variables\n",
"L= 50 //m\n",
"k= 0.08e-2//m/sec\n",
"h= 4 //m\n",
"H1= 3 //m\n",
"H= 8 //m\n",
"a= 0.139 //radians\n",
"//calculations\n",
"i= h*cos(a)/L\n",
"A= H1*cos(a)\n",
"q= k*i*A\n",
"//results\n",
"printf ('flow rate = % 2f m^3/sec/m ',q)"
   ]
   }
,
{
		   "cell_type": "markdown",
		   "metadata": {},
		   "source": [
			"## Example 7.6: solved.sce"
		   ]
		  },
  {
"cell_type": "code",
	   "execution_count": null,
	   "metadata": {
	    "collapsed": true
	   },
	   "outputs": [],
"source": [
"clc\n",
"//initialisation of variables\n",
"k1= 0.02 //cm/sec\n",
"e1= 0.5 \n",
"e2= 0.65\n",
"//calculations\n",
"k2= k1*(e2^3/(1+e2))/(e1^3/(1+e1))\n",
"//results\n",
"printf ('hydraulic conductivity at void ratio of 0.65 = % 2f cm/sec ',k2)"
   ]
   }
,
{
		   "cell_type": "markdown",
		   "metadata": {},
		   "source": [
			"## Example 7.8: solved.sce"
		   ]
		  },
  {
"cell_type": "code",
	   "execution_count": null,
	   "metadata": {
	    "collapsed": true
	   },
	   "outputs": [],
"source": [
"clc\n",
"//initialisation of variables\n",
"e= 0.6\n",
"D10= 0.09 //mm\n",
"//calculations\n",
"k= 2.4622*(D10^2*(e^3/(1+e)))^0.7825\n",
"//results\n",
"printf ('hydraulic conductivity = % 4f cm/sec ',k)"
   ]
   }
,
{
		   "cell_type": "markdown",
		   "metadata": {},
		   "source": [
			"## Example 7.9: solved.sce"
		   ]
		  },
  {
"cell_type": "code",
	   "execution_count": null,
	   "metadata": {
	    "collapsed": true
	   },
	   "outputs": [],
"source": [
"clc\n",
"//initialisation of variables\n",
"e= 0.6\n",
"D10= 0.09 //mm\n",
"D60= 0.16 //mm\n",
"//calculations\n",
"Cu=D60/D10\n",
"k= 35*(e^3/(1+e))*(Cu^0.6)*(D10^2.32)\n",
"//results\n",
"printf ('hydraulic conductivity = % 3f cm/sec ',k)"
   ]
   }
],
"metadata": {
		  "kernelspec": {
		   "display_name": "Scilab",
		   "language": "scilab",
		   "name": "scilab"
		  },
		  "language_info": {
		   "file_extension": ".sce",
		   "help_links": [
			{
			 "text": "MetaKernel Magics",
			 "url": "https://github.com/calysto/metakernel/blob/master/metakernel/magics/README.md"
			}
		   ],
		   "mimetype": "text/x-octave",
		   "name": "scilab",
		   "version": "0.7.1"
		  }
		 },
		 "nbformat": 4,
		 "nbformat_minor": 0
}
