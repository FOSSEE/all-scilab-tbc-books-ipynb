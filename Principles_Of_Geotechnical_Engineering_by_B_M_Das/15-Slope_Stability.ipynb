{
"cells": [
 {
		   "cell_type": "markdown",
	   "metadata": {},
	   "source": [
       "# Chapter 15: Slope Stability"
	   ]
	},
{
		   "cell_type": "markdown",
		   "metadata": {},
		   "source": [
			"## Example 15.11: solved.sce"
		   ]
		  },
  {
"cell_type": "code",
	   "execution_count": null,
	   "metadata": {
	    "collapsed": true
	   },
	   "outputs": [],
"source": [
"clc\n",
"C=20\n",
"G=18.5\n",
"H=21.62\n",
"c=25\n",
"r=0.25\n",
"Fs=3.1*tand(c)\n",
"printf('Fs = %f',Fs)"
   ]
   }
,
{
		   "cell_type": "markdown",
		   "metadata": {},
		   "source": [
			"## Example 15.1: solved.sce"
		   ]
		  },
  {
"cell_type": "code",
	   "execution_count": null,
	   "metadata": {
	    "collapsed": true
	   },
	   "outputs": [],
"source": [
"clc\n",
"Gs=17.8\n",
"Gw=9.81\n",
"C=10\n",
"c=20\n",
"b=15\n",
"H=6\n",
"G=Gs-Gw\n",
"Fs= C/(Gs*H*cosd(b)*cosd(b)*tand(b))+G*tand(c)/(Gs*tand(b))\n",
"printf('a)The factor of safety = %f \n',Fs)\n",
"Fs=2\n",
"H=2.247/(Fs-0.61)\n",
"printf(' b)H= %f m',H)"
   ]
   }
,
{
		   "cell_type": "markdown",
		   "metadata": {},
		   "source": [
			"## Example 15.2: solved.sce"
		   ]
		  },
  {
"cell_type": "code",
	   "execution_count": null,
	   "metadata": {
	    "collapsed": true
	   },
	   "outputs": [],
"source": [
"clc\n",
"G=105\n",
"c=15\n",
"C=600\n",
"b=45\n",
"Fs=3\n",
"Cd=C/Fs\n",
"c1= atand(tand(c)/Fs)\n",
"\n",
"H= 4*Cd*(sind(b)*cosd(c1)/(1-cosd(b-c1)))/G\n",
"printf('The depth of the cut slope = %f ft',H)"
   ]
   }
,
{
		   "cell_type": "markdown",
		   "metadata": {},
		   "source": [
			"## Example 15.3: solved.sce"
		   ]
		  },
  {
"cell_type": "code",
	   "execution_count": null,
	   "metadata": {
	    "collapsed": true
	   },
	   "outputs": [],
"source": [
"clc\n",
"Cu=40\n",
"G=17.5\n",
"b=60\n",
"a=35\n",
"c=72.5\n",
"m=0.195\n",
"Hc=Cu/(G*m)\n",
"r=Hc/(2*sind(a)*sind(c/2))\n",
"BC=Hc*((1/tand(a))-(1/tand(b)))\n",
"printf('a)The maximum depth Hc = %f m\n',Hc)\n",
"printf(' b)The radius, r = %f m\n',r)\n",
"printf(' c)The distance BC.= %f m',BC)"
   ]
   }
,
{
		   "cell_type": "markdown",
		   "metadata": {},
		   "source": [
			"## Example 15.4: solved.sce"
		   ]
		  },
  {
"cell_type": "code",
	   "execution_count": null,
	   "metadata": {
	    "collapsed": true
	   },
	   "outputs": [],
"source": [
"clc\n",
"Gs=17.29\n",
"d=9.15\n",
"d1=6.1\n",
"D=d/d1\n",
"a=40\n",
"m=0.175\n",
"b=40\n",
"H=6.1\n",
"Cu=H*Gs*m\n",
"printf('a)The undrained cohesion of the clay Cu = %f kN/m^2\n',Cu)\n",
"printf(' b)The nature of the critical circle is midpointcircle\n')\n",
"d=1.5\n",
"b=40\n",
"n=0.9\n",
"D1=n*H\n",
"printf(' c)Distance = %f m',D1)"
   ]
   }
,
{
		   "cell_type": "markdown",
		   "metadata": {},
		   "source": [
			"## Example 15.5: solved.sce"
		   ]
		  },
  {
"cell_type": "code",
	   "execution_count": null,
	   "metadata": {
	    "collapsed": true
	   },
	   "outputs": [],
"source": [
"clc\n",
"Fs=1\n",
"b=56\n",
"Kh=0.25\n",
"M=3.66\n",
"Cu=500\n",
"G=100\n",
"Hc=Cu*M/G\n",
"printf('a)The maximum depth = %f ft\n',Hc)\n",
"Fs=2\n",
"H=Cu*M/(G*Fs)\n",
"printf(' b)H= %f ft',H)"
   ]
   }
,
{
		   "cell_type": "markdown",
		   "metadata": {},
		   "source": [
			"## Example 15.6: solved.sce"
		   ]
		  },
  {
"cell_type": "code",
	   "execution_count": null,
	   "metadata": {
	    "collapsed": true
	   },
	   "outputs": [],
"source": [
"clc\n",
"b=45\n",
"c=20\n",
"C=24\n",
"G=18.9\n",
"m=0.06\n",
"Hc=C/(G*m)\n",
"Cd=G*Hc*m\n",
"Fc=C/Cd\n",
"printf('a)Critical height of slope = %f \n',Hc)"
   ]
   }
,
{
		   "cell_type": "markdown",
		   "metadata": {},
		   "source": [
			"## Example 15.7: solved.sce"
		   ]
		  },
  {
"cell_type": "code",
	   "execution_count": null,
	   "metadata": {
	    "collapsed": true
	   },
	   "outputs": [],
"source": [
"clc\n",
"FSs=1\n",
"c=20\n",
"G=18.9\n",
"C=24\n",
"Hcr=C/(G*tand(c)*0.17)\n",
"printf('a)Critical height Hc = %f m\n',Hcr)\n",
"H=10\n",
"k=C/(G*H*tand(c))\n",
"Fs=4*tand(c)\n",
"printf(' b)Fs = %f',Fs)"
   ]
   }
,
{
		   "cell_type": "markdown",
		   "metadata": {},
		   "source": [
			"## Example 15.8: solved.sce"
		   ]
		  },
  {
"cell_type": "code",
	   "execution_count": null,
	   "metadata": {
	    "collapsed": true
	   },
	   "outputs": [],
"source": [
"clc\n",
"W=22.4\n",
"C=20\n",
"a=70\n",
"s=sind(a)\n",
"c=cosd(a)\n",
"l=2.924\n",
"Wn=W*s\n",
"Wn1=W*c\n",
"//doing this to all values\n",
"F1=30.501\n",
"F2=776.75\n",
"F3=1638\n",
"Fs=(F1*C+F3*tand(C))/F2\n",
"printf('Fs = %f',Fs)"
   ]
   }
,
{
		   "cell_type": "markdown",
		   "metadata": {},
		   "source": [
			"## Example 15.9: solved.sce"
		   ]
		  },
  {
"cell_type": "code",
	   "execution_count": null,
	   "metadata": {
	    "collapsed": true
	   },
	   "outputs": [],
"source": [
"clc\n",
"C=20\n",
"G=18.5\n",
"r=0.25\n",
"H=21.62\n",
"C=25\n",
"b= atand(0.5)\n",
"//from table 15.3 \n",
"m=1.624\n",
"n=1.338\n",
"Fs=m-n*r\n",
"printf(' The value of Fs for D= 1 is %f',Fs)"
   ]
   }
],
"metadata": {
		  "kernelspec": {
		   "display_name": "Scilab",
		   "language": "scilab",
		   "name": "scilab"
		  },
		  "language_info": {
		   "file_extension": ".sce",
		   "help_links": [
			{
			 "text": "MetaKernel Magics",
			 "url": "https://github.com/calysto/metakernel/blob/master/metakernel/magics/README.md"
			}
		   ],
		   "mimetype": "text/x-octave",
		   "name": "scilab",
		   "version": "0.7.1"
		  }
		 },
		 "nbformat": 4,
		 "nbformat_minor": 0
}
