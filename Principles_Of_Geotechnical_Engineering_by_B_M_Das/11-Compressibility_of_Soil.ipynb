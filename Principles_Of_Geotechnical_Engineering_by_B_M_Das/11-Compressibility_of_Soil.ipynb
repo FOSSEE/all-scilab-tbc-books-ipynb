{
"cells": [
 {
		   "cell_type": "markdown",
	   "metadata": {},
	   "source": [
       "# Chapter 11: Compressibility of Soil"
	   ]
	},
{
		   "cell_type": "markdown",
		   "metadata": {},
		   "source": [
			"## Example 11.10: solved.sce"
		   ]
		  },
  {
"cell_type": "code",
	   "execution_count": null,
	   "metadata": {
	    "collapsed": true
	   },
	   "outputs": [],
"source": [
"clc\n",
"To=3000 // lb/ft^2\n",
"eo=1.1\n",
"e1=0.9\n",
"e=eo-e1\n",
"ea=(eo+e1)/2\n",
"T1=3000 // lb/ft^2\n",
"T=1 // in\n",
"t = 2 // min\n",
"m=(e/T1)/(1+ea)\n",
"U=50\n",
"Tv=0.197\n",
"Gw=62.4 //lb/ft^3\n",
"Cv=Tv*(T/(2*12)^2)/t\n",
"k=Cv*m*Gw *10^7\n",
"printf('a)k = %f x10^-7 ft/min\n',k)\n",
"\n",
"\n",
"U=60\n",
"Tv=0.286\n",
"H=6\n",
"t60=Tv*H^2/(Cv*60*24)\n",
"printf(' b)t60 =%f days',t60)"
   ]
   }
,
{
		   "cell_type": "markdown",
		   "metadata": {},
		   "source": [
			"## Example 11.11: solved.sce"
		   ]
		  },
  {
"cell_type": "code",
	   "execution_count": null,
	   "metadata": {
	    "collapsed": true
	   },
	   "outputs": [],
"source": [
"clc\n",
"t50=19\n",
"Hd=2.24/2\n",
"Cv=0.197*Hd^2/t50\n",
"printf('Cv = %f cm^2/min',Cv)"
   ]
   }
,
{
		   "cell_type": "markdown",
		   "metadata": {},
		   "source": [
			"## Example 11.12: solved.sce"
		   ]
		  },
  {
"cell_type": "code",
	   "execution_count": null,
	   "metadata": {
	    "collapsed": true
	   },
	   "outputs": [],
"source": [
"clc\n",
"LL=40\n",
"Cc=0.009*(LL-10)\n",
"H=10*12\n",
"eo=1.0\n",
"Gss=120\n",
"Gsc=110\n",
"Gd=100\n",
"To=10*Gd +10*(Gss-62.4)+10*(Gsc-62.4)/2\n",
"\n",
"Tt=0.408\n",
"Tm=0.232\n",
"Tb=0.019\n",
"Tav= (Tt+4*Tm+Tb)/6\n",
"Sc=Cc*H*log10((To+Tav*1000)/To)/(1+eo)\n",
"printf('Sc = %f in',Sc)"
   ]
   }
,
{
		   "cell_type": "markdown",
		   "metadata": {},
		   "source": [
			"## Example 11.13: solved.sce"
		   ]
		  },
  {
"cell_type": "code",
	   "execution_count": null,
	   "metadata": {
	    "collapsed": true
	   },
	   "outputs": [],
"source": [
"clc\n",
"H = 6\n",
"Cc = 0.28\n",
"eo = 0.9\n",
"Cv = 0.36\n",
"To=210\n",
"Tp=115\n",
"Sc= Cc*H*log10((To+Tp)/To)/(1+eo)\n",
"t2=9\n",
"Hd=3\n",
"Tv=Cv*t2/Hd^2\n",
"U=0.67\n",
"Tf=0.677*Tp\n",
"printf('Tf = %f kN/m^2',Tf)"
   ]
   }
,
{
		   "cell_type": "markdown",
		   "metadata": {},
		   "source": [
			"## Example 11.1: solved.sce"
		   ]
		  },
  {
"cell_type": "code",
	   "execution_count": null,
	   "metadata": {
	    "collapsed": true
	   },
	   "outputs": [],
"source": [
"clc\n",
"Tz=150\n",
"b=1\n",
"l=2\n",
"z=5*b\n",
"Es= (10000*2 + 8000*1 +12000*2)/5\n",
"a=4\n",
"H=z\n",
"m=l/b\n",
"n=2*H/b\n",
"F1=0.641 //from tables 11.1 and 11.2\n",
"F2=0.031\n",
"u=0.3\n",
"Is= F1 + ((2-u)/(1-u))*F2\n",
"If=0.71 //from  table 11.3\n",
"Sef= Tz *a*b/l *(1-u^2)*Is*If/Es\n",
"Ser=0.93*Sef\n",
"printf('The elastic settlement at the centre of foundation = %f m',Ser)"
   ]
   }
,
{
		   "cell_type": "markdown",
		   "metadata": {},
		   "source": [
			"## Example 11.2: solved.sce"
		   ]
		  },
  {
"cell_type": "code",
	   "execution_count": null,
	   "metadata": {
	    "collapsed": true
	   },
	   "outputs": [],
"source": [
"clc\n",
"// one value of e is done \n",
"Gs=2.75\n",
"A=30.68\n",
"Ms=128\n",
"p=1\n",
"Hs=Ms/(A*Gs*p)\n",
"H=2.540\n",
"Hv=H-Hs\n",
"e=Hv/Hs\n",
"printf('the value of e for give values = %f',e)"
   ]
   }
,
{
		   "cell_type": "markdown",
		   "metadata": {},
		   "source": [
			"## Example 11.3: solved.sce"
		   ]
		  },
  {
"cell_type": "code",
	   "execution_count": null,
	   "metadata": {
	    "collapsed": true
	   },
	   "outputs": [],
"source": [
"clc\n",
"e11=0.9\n",
"e21=0.8\n",
"T2=4\n",
"T1=2\n",
"Cc= (e11-e21)/log10(T2/T1) // from loading branch\n",
"e1=0.67\n",
"e2=0.655\n",
"Cs=(e1-e2)/log10(T2/T1)\n",
"k=Cs/Cc\n",
"T3=12\n",
"e3=e11-Cc*log10(T3/T1)\n",
"printf('Compression index Cc= %f\n',Cc)\n",
"printf(' Cs/Cc = %f\n',k)\n",
"printf(' e3 = %f',e3)"
   ]
   }
,
{
		   "cell_type": "markdown",
		   "metadata": {},
		   "source": [
			"## Example 11.4: solved.sce"
		   ]
		  },
  {
"cell_type": "code",
	   "execution_count": null,
	   "metadata": {
	    "collapsed": true
	   },
	   "outputs": [],
"source": [
"clc\n",
"Gd=14\n",
"Gss=18\n",
"Gsc=19\n",
"Gw=9.81\n",
"To= 2*Gd+4*(Gss-Gw)+2*(Gsc-Gw)\n",
"LL=40\n",
"Cc=0.009*(LL-10)\n",
"H=4\n",
"T=100\n",
"e=0.8\n",
"Sc= Cc*H*log10((To+T)/To)/(1+e)\n",
"printf('a)Primary Consolidation Sc = %f m\n',Sc)\n",
"\n",
"Tc=190\n",
"Cs=Cc/6\n",
"Sc= Cs*H*log10((To+T)/To)/(1+e)\n",
"printf(' b)Primary Consolidation Sc = %f m\n',Sc)\n",
"\n",
"Tc=170\n",
"Sc= Cc*H*log10((To+T)/Tc)/(1+e)+ Cs*H*log10(Tc/To)/(1+e)\n",
"printf(' c)Primary Consolidation Sc = %f m\n',Sc)"
   ]
   }
,
{
		   "cell_type": "markdown",
		   "metadata": {},
		   "source": [
			"## Example 11.5: solved.sce"
		   ]
		  },
  {
"cell_type": "code",
	   "execution_count": null,
	   "metadata": {
	    "collapsed": true
	   },
	   "outputs": [],
"source": [
"clc\n",
"Gs=18\n",
"Gw=9.81\n",
"H=10\n",
"eo=1.1\n",
"To=5*(Gs-Gw)\n",
"T1=48\n",
"T=To+T1\n",
"e1=1.045 // void ratio corresponding to T \n",
"e=eo-e1\n",
"Sc=H*e/(1+eo)\n",
"printf('The settlement in the field Sc = %f m',Sc)"
   ]
   }
,
{
		   "cell_type": "markdown",
		   "metadata": {},
		   "source": [
			"## Example 11.6: solved.sce"
		   ]
		  },
  {
"cell_type": "code",
	   "execution_count": null,
	   "metadata": {
	    "collapsed": true
	   },
	   "outputs": [],
"source": [
"clc\n",
"T=8.5\n",
"eo=0.8\n",
"Cc=0.28\n",
"To=2650\n",
"T1=970\n",
"C1=0.02\n",
"t2=5\n",
"t1=1.5\n",
"H=8.5*12\n",
"epr=Cc*log10((To+T1)/To)\n",
"ep=eo-epr\n",
"C2=C1/(1+ep)\n",
"Sc=epr*H/(1+eo)\n",
"Ss=C2*H*log10(t2/t1)\n",
"TS=Sc+Ss\n",
"printf('Total consolidation settlement of the clay = %f in',TS)"
   ]
   }
,
{
		   "cell_type": "markdown",
		   "metadata": {},
		   "source": [
			"## Example 11.7: solved.sce"
		   ]
		  },
  {
"cell_type": "code",
	   "execution_count": null,
	   "metadata": {
	    "collapsed": true
	   },
	   "outputs": [],
"source": [
"clc\n",
"//T50 = Cvtlab /H^2 lab = Cvtfield?H^2 fiels\n",
"tl=140\n",
"Hf=3\n",
"Hd=0.025/2\n",
"tf=tl*Hf^2/Hd^2\n",
"k=tf/(3600*24)\n",
"printf('t field = %f days',k)"
   ]
   }
,
{
		   "cell_type": "markdown",
		   "metadata": {},
		   "source": [
			"## Example 11.8: solved.sce"
		   ]
		  },
  {
"cell_type": "code",
	   "execution_count": null,
	   "metadata": {
	    "collapsed": true
	   },
	   "outputs": [],
"source": [
"clc\n",
"//Tv is directly proportional to U^2\n",
"t1=93.333\n",
"U2=30\n",
"U1=50\n",
"t2=t1*U2^2/U1^2\n",
"printf('t2 = %f days',t2)"
   ]
   }
,
{
		   "cell_type": "markdown",
		   "metadata": {},
		   "source": [
			"## Example 11.9: solved.sce"
		   ]
		  },
  {
"cell_type": "code",
	   "execution_count": null,
	   "metadata": {
	    "collapsed": true
	   },
	   "outputs": [],
"source": [
"clc\n",
"t90=75*24*60*60 // time in sec\n",
"T90=0.848\n",
"Hd=1.5*100 //in cm\n",
"Cv=T90*Hd^2/t90\n",
"printf('Cv = %f cm^2/sec',Cv)"
   ]
   }
],
"metadata": {
		  "kernelspec": {
		   "display_name": "Scilab",
		   "language": "scilab",
		   "name": "scilab"
		  },
		  "language_info": {
		   "file_extension": ".sce",
		   "help_links": [
			{
			 "text": "MetaKernel Magics",
			 "url": "https://github.com/calysto/metakernel/blob/master/metakernel/magics/README.md"
			}
		   ],
		   "mimetype": "text/x-octave",
		   "name": "scilab",
		   "version": "0.7.1"
		  }
		 },
		 "nbformat": 4,
		 "nbformat_minor": 0
}
