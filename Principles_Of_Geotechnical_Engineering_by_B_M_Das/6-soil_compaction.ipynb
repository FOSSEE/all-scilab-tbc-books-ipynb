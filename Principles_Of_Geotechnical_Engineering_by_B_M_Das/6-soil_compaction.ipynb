{
"cells": [
 {
		   "cell_type": "markdown",
	   "metadata": {},
	   "source": [
       "# Chapter 6: soil compaction"
	   ]
	},
{
		   "cell_type": "markdown",
		   "metadata": {},
		   "source": [
			"## Example 6.2: solved.sce"
		   ]
		  },
  {
"cell_type": "code",
	   "execution_count": null,
	   "metadata": {
	    "collapsed": true
	   },
	   "outputs": [],
"source": [
"clc\n",
"//initialisation of variables\n",
"G= 2.6\n",
"LL= 20\n",
"P= 20\n",
"//calclations\n",
"R= (4804574*G-195.55*(LL)^2+156971*(P)^0.5-9527830)^0.5\n",
"n= (1.195e-4)*((LL)^2)-1.964*G-(6.617e-5)*(P)+7.651\n",
"w= %e^n\n",
"//results\n",
"printf ('maximum dry density = % f kg/m^3 ',R)\n",
"printf ('optimum moisture content = % 2f ',w)\n",
""
   ]
   }
,
{
		   "cell_type": "markdown",
		   "metadata": {},
		   "source": [
			"## Example 6.3: solved.sce"
		   ]
		  },
  {
"cell_type": "code",
	   "execution_count": null,
	   "metadata": {
	    "collapsed": true
	   },
	   "outputs": [],
"source": [
"clc\n",
"//initialisation of variables\n",
"do= 1570 //kg/m^3\n",
"mo= 0.545 //kg\n",
"M1= 7.59 //kg\n",
"M2= 4.78 //kg\n",
"M3= 3.007 //kg\n",
"w= 0.102 //\n",
"dmax= 19 //KN/m^3\n",
"//calculations\n",
"Ms= M1-M2\n",
"Mc= Ms-mo\n",
"Vh= Mc/do\n",
"Dc= M3/Vh\n",
"Du= Dc*9.81/1000\n",
"f= Du/(1+w)\n",
"Rc= f*100/dmax\n",
"//results\n",
"printf ('dry unit weight of compaction in the field = % 2f kN/m^3 ',f)\n",
"printf ('relative compaction in the field = % f ',Rc)"
   ]
   }
,
{
		   "cell_type": "markdown",
		   "metadata": {},
		   "source": [
			"## Example 6.4: solved.sce"
		   ]
		  },
  {
"cell_type": "code",
	   "execution_count": null,
	   "metadata": {
	    "collapsed": true
	   },
	   "outputs": [],
"source": [
"clc\n",
"//initialisation of variables\n",
"D1= 0.36 //mm\n",
"D2= 0.52 //mm\n",
"D5= 1.42 //mm\n",
"//calculations\n",
"Sn= 1.7*(sqrt((3/(D5)^2)+(1/(D2)^2)+(1/(D1)^2)))\n",
"//results\n",
"printf ('sustainabilty number = % f ',Sn)"
   ]
   }
],
"metadata": {
		  "kernelspec": {
		   "display_name": "Scilab",
		   "language": "scilab",
		   "name": "scilab"
		  },
		  "language_info": {
		   "file_extension": ".sce",
		   "help_links": [
			{
			 "text": "MetaKernel Magics",
			 "url": "https://github.com/calysto/metakernel/blob/master/metakernel/magics/README.md"
			}
		   ],
		   "mimetype": "text/x-octave",
		   "name": "scilab",
		   "version": "0.7.1"
		  }
		 },
		 "nbformat": 4,
		 "nbformat_minor": 0
}
