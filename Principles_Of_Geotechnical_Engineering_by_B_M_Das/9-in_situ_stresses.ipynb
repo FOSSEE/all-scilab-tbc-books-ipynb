{
"cells": [
 {
		   "cell_type": "markdown",
	   "metadata": {},
	   "source": [
       "# Chapter 9: in situ stresses"
	   ]
	},
{
		   "cell_type": "markdown",
		   "metadata": {},
		   "source": [
			"## Example 9.1: solved.sce"
		   ]
		  },
  {
"cell_type": "code",
	   "execution_count": null,
	   "metadata": {
	    "collapsed": true
	   },
	   "outputs": [],
"source": [
"clc\n",
"//initialisation of variables\n",
"Ds= 16.5 //kN/m^3\n",
"S= 19.25 //kN/m^3\n",
"g= 9.8 //kN/m^3\n",
"h1= 6 //m\n",
"h2= 13 //m\n",
"//at point A\n",
"Sa= 0\n",
"Ua= 0\n",
"Sa1= 0\n",
"//at point B\n",
"Sb= h1*Ds\n",
"Ub= 0 \n",
"Sb1= Sb-Ub\n",
"//at point C\n",
"Sc= h1*Ds+h2*S\n",
"Uc= h2*g\n",
"Sc1= Sc-Uc\n",
"//results\n",
"printf ('total pressure at C= % 2f kN/m^3 ',Sc)\n",
"printf ('pore water pressure at C = % 2f kN/m^3 ',Uc)\n",
"printf ('effective stress at point C= % 2f kN/m^3 ',Sc1)\n",
""
   ]
   }
,
{
		   "cell_type": "markdown",
		   "metadata": {},
		   "source": [
			"## Example 9.2: solved.sce"
		   ]
		  },
  {
"cell_type": "code",
	   "execution_count": null,
	   "metadata": {
	    "collapsed": true
	   },
	   "outputs": [],
"source": [
"clc\n",
"//initialisation of variables\n",
"h= 20 //ft\n",
"g= 120 //kg/ft^3\n",
"h1= 12 //ft\n",
"w= 62.4 //kg/ft^3\n",
"//calculations\n",
"H= h-(h1*w/g)\n",
"//results\n",
"printf ('maximu depth that can be made in clay = % 2f ft ',H)"
   ]
   }
,
{
		   "cell_type": "markdown",
		   "metadata": {},
		   "source": [
			"## Example 9.3: solved.sce"
		   ]
		  },
  {
"cell_type": "code",
	   "execution_count": null,
	   "metadata": {
	    "collapsed": true
	   },
	   "outputs": [],
"source": [
"clc\n",
"//initialisation of variables\n",
"G= 2.68\n",
"e= 0.52\n",
"g= 9.81 //kN/m^3\n",
"h1= 0.7 //m\n",
"h2= 1 //m\n",
"h3= 1.5 //m\n",
"h4= 2 //m\n",
"//calculations\n",
"//for soil A\n",
"sa= (G+e)*g/(1+e)\n",
"//point a\n",
"Sa= h1*g+h2*sa\n",
"u= (h2+h1+h3/2)*g\n",
"Es= Sa-u\n",
"//point b\n",
"sb= h1*g+h4*sa\n",
"ub= (h4+h1+h3)*g\n",
"Eb= sb-ub\n",
"i= h3/2\n",
"s= i*g\n",
"//results\n",
"printf ('effective stress at point a= % 2f kN/m^2 ',Es)\n",
"printf ('effective stress at point b= % 2f kN/m^2 ',Eb)\n",
"printf ('seepage force per unit voume = % 2f kN/m^3 ',s)"
   ]
   }
,
{
		   "cell_type": "markdown",
		   "metadata": {},
		   "source": [
			"## Example 9.4: solved.sce"
		   ]
		  },
  {
"cell_type": "code",
	   "execution_count": null,
	   "metadata": {
	    "collapsed": true
	   },
	   "outputs": [],
"source": [
"clc\n",
"//initialisation of variables\n",
"C0= 0.357\n",
"H1= 30.5 //ft\n",
"H2= 5 //ft\n",
"w= 62.4 // lb/ft^3\n",
"D= 20\n",
"g= 112 // lb/ft^3\n",
"//calculations\n",
"G= g-w\n",
"FS= D*G/(C0*w*(H1-H2))\n",
"//results\n",
"printf ('safety factor = % 2f ',FS)"
   ]
   }
],
"metadata": {
		  "kernelspec": {
		   "display_name": "Scilab",
		   "language": "scilab",
		   "name": "scilab"
		  },
		  "language_info": {
		   "file_extension": ".sce",
		   "help_links": [
			{
			 "text": "MetaKernel Magics",
			 "url": "https://github.com/calysto/metakernel/blob/master/metakernel/magics/README.md"
			}
		   ],
		   "mimetype": "text/x-octave",
		   "name": "scilab",
		   "version": "0.7.1"
		  }
		 },
		 "nbformat": 4,
		 "nbformat_minor": 0
}
