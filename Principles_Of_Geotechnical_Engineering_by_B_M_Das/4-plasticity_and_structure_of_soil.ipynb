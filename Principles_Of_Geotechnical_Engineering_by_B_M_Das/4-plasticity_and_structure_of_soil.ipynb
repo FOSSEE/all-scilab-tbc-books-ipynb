{
"cells": [
 {
		   "cell_type": "markdown",
	   "metadata": {},
	   "source": [
       "# Chapter 4: plasticity and structure of soil"
	   ]
	},
{
		   "cell_type": "markdown",
		   "metadata": {},
		   "source": [
			"## Example 4.1: solved.sce"
		   ]
		  },
  {
"cell_type": "code",
	   "execution_count": null,
	   "metadata": {
	    "collapsed": true
	   },
	   "outputs": [],
"source": [
"clc\n",
"//initialisation of variables\n",
"V1= 24.6 //cm^3\n",
"V2= 15.9 //cm^3\n",
"M1= 44 //g\n",
"M2= 30.1 //g\n",
"W= 1 //g/cm^3\n",
"//calculations\n",
"SL= (((M1-M2)/M2)*100)-(((V1-V2)/M2)*W*100)\n",
"//results\n",
"printf ('shrinkage limit of the soil = % 2f ',SL)\n",
""
   ]
   }
],
"metadata": {
		  "kernelspec": {
		   "display_name": "Scilab",
		   "language": "scilab",
		   "name": "scilab"
		  },
		  "language_info": {
		   "file_extension": ".sce",
		   "help_links": [
			{
			 "text": "MetaKernel Magics",
			 "url": "https://github.com/calysto/metakernel/blob/master/metakernel/magics/README.md"
			}
		   ],
		   "mimetype": "text/x-octave",
		   "name": "scilab",
		   "version": "0.7.1"
		  }
		 },
		 "nbformat": 4,
		 "nbformat_minor": 0
}
