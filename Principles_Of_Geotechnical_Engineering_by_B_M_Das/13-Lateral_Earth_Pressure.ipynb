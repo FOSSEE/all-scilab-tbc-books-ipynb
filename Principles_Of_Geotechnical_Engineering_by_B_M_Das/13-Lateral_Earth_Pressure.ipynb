{
"cells": [
 {
		   "cell_type": "markdown",
	   "metadata": {},
	   "source": [
       "# Chapter 13: Lateral Earth Pressure"
	   ]
	},
{
		   "cell_type": "markdown",
		   "metadata": {},
		   "source": [
			"## Example 13.10: solved.sce"
		   ]
		  },
  {
"cell_type": "code",
	   "execution_count": null,
	   "metadata": {
	    "collapsed": true
	   },
	   "outputs": [],
"source": [
"clc\n",
"H=28\n",
"C=210\n",
"b=10\n",
"G=118\n",
"c=20\n",
"kh=0.1\n",
"Ka=tand(45-c/2)\n",
"zo=2*C/(G*(Ka))\n",
"n=zo/(H-zo)\n",
"Nac=1.60\n",
"Nav=0.375\n",
"L=1.17\n",
"Pae= G*(H-zo)^2*(L*Nav)-C*(H-zo)*Nac\n",
"printf('The magnitude of the active force, Pae = %f lb/ft',Pae)"
   ]
   }
,
{
		   "cell_type": "markdown",
		   "metadata": {},
		   "source": [
			"## Example 13.1: solved.sce"
		   ]
		  },
  {
"cell_type": "code",
	   "execution_count": null,
	   "metadata": {
	    "collapsed": true
	   },
	   "outputs": [],
"source": [
"clc\n",
"OCR=2\n",
"a=30\n",
"Ko=(1-sind(a))*(OCR)^sind(a)\n",
"//at z=0\n",
"To1=0\n",
"Th1=0\n",
"u1=0\n",
"//at z=10\n",
"To2=10*100\n",
"Th2=Ko*To2\n",
"u2=0\n",
"//at z=15\n",
"To3= 10*100+5*(122.4-62.4)\n",
"Th3=Ko*To3\n",
"u3=5*62.4\n",
"//Lateral force Po =Area 1 + Area 2+ Area3+ Area 4\n",
"Po =(1/2)*10*707+5*707+(1/2)*5*212.1+(1/2)*5*312\n",
"z=((3535)*(5+10/3)+3535*(5/2)+530.3*(5/3)+780*(5/3))/Po\n",
"printf('z = %f ft',z)"
   ]
   }
,
{
		   "cell_type": "markdown",
		   "metadata": {},
		   "source": [
			"## Example 13.2: solved.sce"
		   ]
		  },
  {
"cell_type": "code",
	   "execution_count": null,
	   "metadata": {
	    "collapsed": true
	   },
	   "outputs": [],
"source": [
"clc\n",
"//c=0\n",
"a=36\n",
"G=16\n",
"Ka=(1-sind(a))/(1+sind(a))\n",
"//at z=0 Tp=0\n",
"z=6\n",
"To=G*z\n",
"Ta=Ka*To\n",
"Pa=z*Ta/2\n",
"\n",
"printf('a)Rankine active force per unit length of the wall = %f kN/m',Pa)\n",
"printf(' and the location of the resultant is z = 2m\n')\n",
"\n",
"\n",
"p=36\n",
"G=16\n",
"Kp=(1+sind(a))/(1-sind(a))\n",
"//at z=0 Tp=0\n",
"z=6\n",
"To=G*z\n",
"Tp=Kp*To\n",
"Pp=z*Tp/2\n",
"\n",
"printf(' b)Rankine passive force per unit length of the wall = %f kN/m',Pp)\n",
"printf(' and the location of the resultant is z = 2m')\n",
""
   ]
   }
,
{
		   "cell_type": "markdown",
		   "metadata": {},
		   "source": [
			"## Example 13.3: solved.sce"
		   ]
		  },
  {
"cell_type": "code",
	   "execution_count": null,
	   "metadata": {
	    "collapsed": true
	   },
	   "outputs": [],
"source": [
"clc\n",
"H=12\n",
"a=20\n",
"b=20\n",
"G=115\n",
"c=30\n",
"Oa= asind(sind(a)/sind(c))-a+2*b\n",
"Ka= (cosd(a-b)*sqrt(1+(sind(c))^2-2*sind(c)*cosd(Oa)))/((cosd(b))^2*(cosd(a)+sqrt((sind(c))^2-(sind(a))^2)))\n",
"Pa=G*H^2*Ka/2\n",
"B= atand((sind(c)*sind(Oa))/(1-(sind(c)*cosd(Oa))))\n",
"printf('The active force Pa per unit length of the wall = %f lb/ft\n',Pa)\n",
"printf( ' The resultant will act a distance of 12/3 = 4 ft above the bottom of the wall with B = %f degree',B)"
   ]
   }
,
{
		   "cell_type": "markdown",
		   "metadata": {},
		   "source": [
			"## Example 13.4: solved.sce"
		   ]
		  },
  {
"cell_type": "code",
	   "execution_count": null,
	   "metadata": {
	    "collapsed": true
	   },
	   "outputs": [],
"source": [
"clc\n",
"a=30\n",
"Ka1=(1-sind(a))/(1+sind(a))\n",
"a=35\n",
"Ka2=(1-sind(a))/(1+sind(a))\n",
"//at z=0 so T0=0\n",
"//atz=3\n",
"To=3*16\n",
"Ta1=Ka1*To\n",
"Ta2=Ka2*To\n",
"\n",
"// At z=6\n",
"To=3*16+3*(18-9.81)\n",
"Ta2=Ka2*To\n",
"\n",
"Pa =(1/2)*3*16+3*13.0+ (1/2)*3*36.1\n",
"z= (24 *(3+3/3)+39.0*(3/2)+54.15*(3/3))/Pa\n",
"printf('The force per unit length of the wall = %f kN/m\n',Pa)\n",
"printf (' The location of the resultant = %f m ',z)"
   ]
   }
,
{
		   "cell_type": "markdown",
		   "metadata": {},
		   "source": [
			"## Example 13.5: solved.sce"
		   ]
		  },
  {
"cell_type": "code",
	   "execution_count": null,
	   "metadata": {
	    "collapsed": true
	   },
	   "outputs": [],
"source": [
"clc\n",
"Ka= (tand(1))^2\n",
"G=16.5\n",
"cu=10\n",
"H=6\n",
"//at z=0\n",
"z=0\n",
"Ta=G*z-2*cu\n",
"//zt z=6\n",
"z=6\n",
"Ta=G*z-2*cu\n",
"\n",
"zo=2*cu/G\n",
"// Before the tensile crack occurs\n",
"Pa= G*H^2/2 - 2*cu*H\n",
"printf('Pa before the tensile crack occurs = %f kN/m\n',Pa)\n",
"//After the tensile crack occurs\n",
"Pa=(H-zo)*Ta/2\n",
"printf(' Pa after the tensile crack occurs = %f kN/m',Pa)"
   ]
   }
,
{
		   "cell_type": "markdown",
		   "metadata": {},
		   "source": [
			"## Example 13.6: solved.sce"
		   ]
		  },
  {
"cell_type": "code",
	   "execution_count": null,
	   "metadata": {
	    "collapsed": true
	   },
	   "outputs": [],
"source": [
"clc\n",
"H=15\n",
"a=10\n",
"G=118\n",
"b=20\n",
"C=250\n",
"Zo=2*C*sqrt((1+sind(b))/(1-sind(b)))/G\n",
"//at z=0 Ta=0\n",
"//at z=15 \n",
"z=15\n",
"K=0.3\n",
"Ta=G*z*K*cosd(a)\n",
"Pa=(H -Zo)*Ta/2\n",
"printf('The Rankine active force Pa on the retaining wall after the tensile crack occurs = %f lb/ft',Pa)"
   ]
   }
,
{
		   "cell_type": "markdown",
		   "metadata": {},
		   "source": [
			"## Example 13.7: solved.sce"
		   ]
		  },
  {
"cell_type": "code",
	   "execution_count": null,
	   "metadata": {
	    "collapsed": true
	   },
	   "outputs": [],
"source": [
"clc\n",
"c=30\n",
"b=15\n",
"a=10\n",
"Ka=0.3872 // from table 13.8\n",
"H=4\n",
"G=15\n",
"Pa=G*H^2*Ka/2\n",
"printf('The active force per unit length Pa = %f kN/m\n',Pa)\n",
"printf(' The resultant will act at a vertical distance equal to H/3 = 4/3 = 1.33 m above \n the bottom of the wall and will be inclined at an angle of 15to the back face of the wall.')"
   ]
   }
,
{
		   "cell_type": "markdown",
		   "metadata": {},
		   "source": [
			"## Example 13.9: solved.sce"
		   ]
		  },
  {
"cell_type": "code",
	   "execution_count": null,
	   "metadata": {
	    "collapsed": true
	   },
	   "outputs": [],
"source": [
"clc\n",
"kh=0.2\n",
"kv=0\n",
"H=4\n",
"a=0\n",
"b=0\n",
"c=15\n",
"d=30\n",
"G=15.5\n",
"B= atand(kh/(1-kv))\n",
"b1=b+B\n",
"a1=a+B\n",
"Ka=0.452\n",
"Pa=G*H^2*Ka/2\n",
"Pae=Pa*(1-kv)*((cosd(b1))^2/((cosd(b))^2*(cosd(B))^2))\n",
"Ka=0.3014\n",
"Pa=G*H^2*Ka/2\n",
"P1=Pae-Pa\n",
"z= ((Pa*H/3)+P1*0.6*H)/Pae\n",
"printf('Pae = %f kN/m\n',Pae)\n",
"printf(' Z = %f m',z)"
   ]
   }
],
"metadata": {
		  "kernelspec": {
		   "display_name": "Scilab",
		   "language": "scilab",
		   "name": "scilab"
		  },
		  "language_info": {
		   "file_extension": ".sce",
		   "help_links": [
			{
			 "text": "MetaKernel Magics",
			 "url": "https://github.com/calysto/metakernel/blob/master/metakernel/magics/README.md"
			}
		   ],
		   "mimetype": "text/x-octave",
		   "name": "scilab",
		   "version": "0.7.1"
		  }
		 },
		 "nbformat": 4,
		 "nbformat_minor": 0
}
