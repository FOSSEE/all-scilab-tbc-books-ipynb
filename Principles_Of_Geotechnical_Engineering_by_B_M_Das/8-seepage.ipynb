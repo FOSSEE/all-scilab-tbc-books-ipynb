{
"cells": [
 {
		   "cell_type": "markdown",
	   "metadata": {},
	   "source": [
       "# Chapter 8: seepage"
	   ]
	},
{
		   "cell_type": "markdown",
		   "metadata": {},
		   "source": [
			"## Example 8.1: solved.sce"
		   ]
		  },
  {
"cell_type": "code",
	   "execution_count": null,
	   "metadata": {
	    "collapsed": true
	   },
	   "outputs": [],
"source": [
"clc\n",
"//initialisation of variables\n",
"H1= 12 //in\n",
"H2= 20 //in\n",
"z= 8 //in\n",
"h1= 24 //in\n",
"h= 20 //in\n",
"k1= 0.026 //in/sec\n",
"D= 3 //in\n",
"//calculations\n",
"k2= H2*k1/((z/(1-h/h1))-H1)\n",
"i= h1/(H1+H2)\n",
"A= %pi/4*D^2\n",
"keq= (H1+H2)/((H1/k1)+(H2/k2))\n",
"q= keq*A*i*3600\n",
"//results\n",
"printf ('rate of water flow = % 2f in^3/hr ',q)"
   ]
   }
,
{
		   "cell_type": "markdown",
		   "metadata": {},
		   "source": [
			"## Example 8.2: solved.sce"
		   ]
		  },
  {
"cell_type": "code",
	   "execution_count": null,
	   "metadata": {
	    "collapsed": true
	   },
	   "outputs": [],
"source": [
"clc\n",
"//initialisation of variables\n",
"Nd= 6\n",
"H1= 5.6 //m\n",
"H2= 2.2 //m\n",
"k= 5e-5 //cm/sec\n",
"dL= 4.1 //m\n",
"//calculations\n",
"H= (H1-H2)/Nd\n",
"h1= 5.61-H\n",
"h2= 5.61-5*H\n",
"q= 2.38*(H1-H2)*k/Nd\n",
"i= H/dL\n",
"//results\n",
"printf ('at point a,water will rise to height of = % 3f m ',h1)\n",
"printf ('at point b,water will rise to height of = % 3f m ',h2)\n",
"printf ('total rate of seepage per unit lenghth = %e m^3/sec/m ',q)\n",
"printf ('average hydraulic gradient at c = % 3f ',i)"
   ]
   }
,
{
		   "cell_type": "markdown",
		   "metadata": {},
		   "source": [
			"## Example 8.3: solved.sce"
		   ]
		  },
  {
"cell_type": "code",
	   "execution_count": null,
	   "metadata": {
	    "collapsed": true
	   },
	   "outputs": [],
"source": [
"clc\n",
"//initialisation of variables\n",
"k1= 5.67 //ft/day\n",
"k2= 11.34 //ft/day\n",
"//from graph\n",
"Nd= 8\n",
"Nf= 2.5\n",
"H= 20\n",
"//calculations\n",
"q= sqrt(k1*k2)*H*Nf/Nd\n",
"//results\n",
"printf ('average rate of flow = % 2f ft^3/day/ft ',q)"
   ]
   }
,
{
		   "cell_type": "markdown",
		   "metadata": {},
		   "source": [
			"## Example 8.4: solved.sce"
		   ]
		  },
  {
"cell_type": "code",
	   "execution_count": null,
	   "metadata": {
	    "collapsed": true
	   },
	   "outputs": [],
"source": [
"clc\n",
"//initialisation of variables\n",
"B= 6 //m\n",
"L= 120 //m\n",
"s= 3 //m\n",
"T= 6 //m\n",
"x= 2.4 //m\n",
"H= 5 //m\n",
"k= 0.008 //cm/sec\n",
"//calculations\n",
"b=B/2\n",
"a1= b/T\n",
"a2= s/T\n",
"a3= x/b\n",
"Q= 0.378*k*H*L*36*24\n",
"//results\n",
"printf ('seepage under the dam = % 2f m^3/day ',Q)"
   ]
   }
,
{
		   "cell_type": "markdown",
		   "metadata": {},
		   "source": [
			"## Example 8.5: solved.sce"
		   ]
		  },
  {
"cell_type": "code",
	   "execution_count": null,
	   "metadata": {
	    "collapsed": true
	   },
	   "outputs": [],
"source": [
"clc\n",
"//initialisation of variables\n",
"b= %pi/4 //degrees\n",
"a= %pi/6.//degrees\n",
"B= 10 //ft\n",
"H= 20 //ft\n",
"h= 25 //ft\n",
"k= 2e-4 //ft/min\n",
"//calculations\n",
"r= H/tan(b)\n",
"d= 0.3*r+(h-H)/tan(b)+B+h/tan(a)\n",
"L= d/cos(a)-sqrt((d/cos(a))^2-(H/sin(a))^2)\n",
"q= k*L*tan(a)*sin(a)*24*60\n",
"//results\n",
"printf ('seepage rate = % 4f ft^3/day/ft ',q)"
   ]
   }
],
"metadata": {
		  "kernelspec": {
		   "display_name": "Scilab",
		   "language": "scilab",
		   "name": "scilab"
		  },
		  "language_info": {
		   "file_extension": ".sce",
		   "help_links": [
			{
			 "text": "MetaKernel Magics",
			 "url": "https://github.com/calysto/metakernel/blob/master/metakernel/magics/README.md"
			}
		   ],
		   "mimetype": "text/x-octave",
		   "name": "scilab",
		   "version": "0.7.1"
		  }
		 },
		 "nbformat": 4,
		 "nbformat_minor": 0
}
