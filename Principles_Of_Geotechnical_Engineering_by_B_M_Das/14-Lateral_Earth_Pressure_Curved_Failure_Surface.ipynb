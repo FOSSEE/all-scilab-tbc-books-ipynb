{
"cells": [
 {
		   "cell_type": "markdown",
	   "metadata": {},
	   "source": [
       "# Chapter 14: Lateral Earth Pressure Curved Failure Surface"
	   ]
	},
{
		   "cell_type": "markdown",
		   "metadata": {},
		   "source": [
			"## Example 14.1: solved.sce"
		   ]
		  },
  {
"cell_type": "code",
	   "execution_count": null,
	   "metadata": {
	    "collapsed": true
	   },
	   "outputs": [],
"source": [
"clc\n",
"G=15.7\n",
"a=0\n",
"b=15\n",
"c=30\n",
"H=3\n",
"Kp=4.977 // from table 13.9\n",
"Pp=Kp*G*H^2/2\n",
"printf('a)the passive force = %f kN/m\n',Pp)\n",
"// for part b\n",
"Kp=4.53\n",
"Pp=Kp*G*H^2/2\n",
"printf(' b)the passive force = %f kN/m\n',Pp)\n",
"// for part c\n",
"Kp=4.13\n",
"Pp=Kp*G*H^2/2\n",
"printf(' c)the passive force = %f kN/m\n',Pp)\n",
"//for part d\n",
"Kp=4.56\n",
"Pp=Kp*G*H^2/2\n",
"printf(' d)the passive force = %f kN/m\n',Pp)"
   ]
   }
,
{
		   "cell_type": "markdown",
		   "metadata": {},
		   "source": [
			"## Example 14.2: solved.sce"
		   ]
		  },
  {
"cell_type": "code",
	   "execution_count": null,
	   "metadata": {
	    "collapsed": true
	   },
	   "outputs": [],
"source": [
"clc\n",
"G=16\n",
"H=7\n",
"c=30\n",
"Ta=0.65*G*H*(tand(45-c/2))^2\n",
"A=Ta*3*3/4\n",
"B1=Ta*3-54.61\n",
"C=Ta*4*4/4\n",
"B2=Ta*4-97.08\n",
"s=2\n",
"As=A*s\n",
"Bs=(B1+B2)*s\n",
"Cs=C*s\n",
"printf( 'The strut loads at level A = %f kN\n',As)\n",
"printf( ' The strut loads at level B = %f kN\n',Bs)\n",
"printf( ' The strut loads at level C = %f kN',Cs)"
   ]
   }
],
"metadata": {
		  "kernelspec": {
		   "display_name": "Scilab",
		   "language": "scilab",
		   "name": "scilab"
		  },
		  "language_info": {
		   "file_extension": ".sce",
		   "help_links": [
			{
			 "text": "MetaKernel Magics",
			 "url": "https://github.com/calysto/metakernel/blob/master/metakernel/magics/README.md"
			}
		   ],
		   "mimetype": "text/x-octave",
		   "name": "scilab",
		   "version": "0.7.1"
		  }
		 },
		 "nbformat": 4,
		 "nbformat_minor": 0
}
