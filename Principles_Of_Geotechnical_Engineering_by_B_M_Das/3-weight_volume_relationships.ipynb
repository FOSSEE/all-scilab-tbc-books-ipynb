{
"cells": [
 {
		   "cell_type": "markdown",
	   "metadata": {},
	   "source": [
       "# Chapter 3: weight volume relationships"
	   ]
	},
{
		   "cell_type": "markdown",
		   "metadata": {},
		   "source": [
			"## Example 3.2: solved.sce"
		   ]
		  },
  {
"cell_type": "code",
	   "execution_count": null,
	   "metadata": {
	    "collapsed": true
	   },
	   "outputs": [],
"source": [
"clc\n",
"//initialisation of variables\n",
"V= 1.2 //m^3\n",
"M= 2350 //Kg\n",
"w= 0.086\n",
"G= 2.71\n",
"W= 1000 //kg/m^3\n",
"//calculations\n",
"R= M/V\n",
"D= M/((1+w)*V)\n",
"e= (G*W/D)-1\n",
"n= e/(e+1)\n",
"S= (w*G/e)*100\n",
"v= (M-(M/(1+w)))/W\n",
"//results\n",
"printf ('moist density = % f kg/m^3 ',R)\n",
"printf ('dry density = % f kg/m^3 ',D)\n",
"printf ('void ratio = % 3f ',e)\n",
"printf ('porosity = % 3f ',n)\n",
"printf ('Degree of saturation = % 3f ',S)\n",
"printf ('volume of water in soil sample = % 3f m^3 ',v)"
   ]
   }
,
{
		   "cell_type": "markdown",
		   "metadata": {},
		   "source": [
			"## Example 3.3: solved.sce"
		   ]
		  },
  {
"cell_type": "code",
	   "execution_count": null,
	   "metadata": {
	    "collapsed": true
	   },
	   "outputs": [],
"source": [
"clc\n",
"//initialisation of variables\n",
"n= 0.4\n",
"G= 2.68\n",
"w= 0.12\n",
"R= 1000 //kg/m^3\n",
"V= 10 //m^3\n",
"//calculations\n",
"d= G*R*(1-n)*(1+w)\n",
"s= ((1-n)*G+n)*R\n",
"M= s-d\n",
"m= M*V\n",
"//results\n",
"printf ('mass of water to be added for full saturation = % f kg ',m)"
   ]
   }
,
{
		   "cell_type": "markdown",
		   "metadata": {},
		   "source": [
			"## Example 3.4: solved.sce"
		   ]
		  },
  {
"cell_type": "code",
	   "execution_count": null,
	   "metadata": {
	    "collapsed": true
	   },
	   "outputs": [],
"source": [
"clc\n",
"//initialisation of variables\n",
"d= 16.19 //kN/m^3\n",
"w= 0.23\n",
"W= 9.81 //kN/m^3\n",
"//calculations\n",
"R= d*(1+w)\n",
"G= d/(W-d*w)\n",
"e= w*G\n",
"//results\n",
"printf ('satuarated unit weight = % 2f kN/m^3 ',R)\n",
"printf ('specific gravity = % 2f ',G)\n",
"printf ('void ratio = % 2f ',e)"
   ]
   }
,
{
		   "cell_type": "markdown",
		   "metadata": {},
		   "source": [
			"## Example 3.5: solved.sce"
		   ]
		  },
  {
"cell_type": "code",
	   "execution_count": null,
	   "metadata": {
	    "collapsed": true
	   },
	   "outputs": [],
"source": [
"clc\n",
"//initialisation of variables\n",
"G= 2.68\n",
"w= 0.12\n",
"d= 1794.4 //kg/m^3\n",
"W= 1000 //kg/m^3\n",
"emax= 0.75\n",
"emin= 0.4\n",
"//calculation\n",
"e= (G*W*(1+w)/d)-1\n",
"D= ((emax-e)/(emax-emin))*100\n",
"//results\n",
"printf ('relative density of compaction in percentage = % f ',D)"
   ]
   }
],
"metadata": {
		  "kernelspec": {
		   "display_name": "Scilab",
		   "language": "scilab",
		   "name": "scilab"
		  },
		  "language_info": {
		   "file_extension": ".sce",
		   "help_links": [
			{
			 "text": "MetaKernel Magics",
			 "url": "https://github.com/calysto/metakernel/blob/master/metakernel/magics/README.md"
			}
		   ],
		   "mimetype": "text/x-octave",
		   "name": "scilab",
		   "version": "0.7.1"
		  }
		 },
		 "nbformat": 4,
		 "nbformat_minor": 0
}
