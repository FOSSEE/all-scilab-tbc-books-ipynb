{
"cells": [
 {
		   "cell_type": "markdown",
	   "metadata": {},
	   "source": [
       "# Chapter 10: stress in a soil mass"
	   ]
	},
{
		   "cell_type": "markdown",
		   "metadata": {},
		   "source": [
			"## Example 10.1: solved.sce"
		   ]
		  },
  {
"cell_type": "code",
	   "execution_count": null,
	   "metadata": {
	    "collapsed": true
	   },
	   "outputs": [],
"source": [
"clc\n",
"//initialisation of variables\n",
"sx= 2000 //lb/ft^3\n",
"sy= 2500 //lb/ft^3\n",
"T= 800 //lb/ft^3\n",
"t= 0.348//radians\n",
"//calculations\n",
"s1= (sx+sy)/2+sqrt(((sy-sx)/2)^2+T^2)\n",
"s2= (sx+sy)/2-sqrt(((sy-sx)/2)^2+T^2)\n",
"sn= (sx+sy)/2+(sy-sx)*cos(2*t)/2-T*sin(2*t)\n",
"Tn= (sy-sx)*sin(2*t)/2+T*cos(2*t)\n",
"//results\n",
"printf ('principle stress s1 = % 2f lb/ft^3 ',s1)\n",
"printf ('principle stress s2 = % 2f lb/ft^3 ',s2)\n",
"printf ('normal stress = % 2f lb/ft^3 ',sn)\n",
"printf ('shear stress = % 2f lb/ft^3 ',Tn)"
   ]
   }
,
{
		   "cell_type": "markdown",
		   "metadata": {},
		   "source": [
			"## Example 10.3: solved.sce"
		   ]
		  },
  {
"cell_type": "code",
	   "execution_count": null,
	   "metadata": {
	    "collapsed": true
	   },
	   "outputs": [],
"source": [
"clc\n",
"//initialisation of variables\n",
"x= 3 //m\n",
"y= 4 //m\n",
"P= 5 //kN\n",
"z= 2 //m\n",
"//calculations\n",
"r= sqrt(x^2+y^2)\n",
"k= r/z\n",
"I= 3/(2*%pi*((r/z)^2+1)^2.5)\n",
"s= P*I/z^2\n",
"//results\n",
"printf ('verticle stress increase at 2m = % 4f kN/m^3 ',s)"
   ]
   }
],
"metadata": {
		  "kernelspec": {
		   "display_name": "Scilab",
		   "language": "scilab",
		   "name": "scilab"
		  },
		  "language_info": {
		   "file_extension": ".sce",
		   "help_links": [
			{
			 "text": "MetaKernel Magics",
			 "url": "https://github.com/calysto/metakernel/blob/master/metakernel/magics/README.md"
			}
		   ],
		   "mimetype": "text/x-octave",
		   "name": "scilab",
		   "version": "0.7.1"
		  }
		 },
		 "nbformat": 4,
		 "nbformat_minor": 0
}
