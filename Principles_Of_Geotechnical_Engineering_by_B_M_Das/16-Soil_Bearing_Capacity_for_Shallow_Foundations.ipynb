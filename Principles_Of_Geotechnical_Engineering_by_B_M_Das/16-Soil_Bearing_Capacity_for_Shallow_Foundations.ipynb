{
"cells": [
 {
		   "cell_type": "markdown",
	   "metadata": {},
	   "source": [
       "# Chapter 16: Soil Bearing Capacity for Shallow Foundations"
	   ]
	},
{
		   "cell_type": "markdown",
		   "metadata": {},
		   "source": [
			"## Example 16.1: solved.sce"
		   ]
		  },
  {
"cell_type": "code",
	   "execution_count": null,
	   "metadata": {
	    "collapsed": true
	   },
	   "outputs": [],
"source": [
"clc\n",
"c=20\n",
"// from table 16.1\n",
"Nc=17.69\n",
"Nq=7.44\n",
"Ng=3.64\n",
"\n",
"Df=3\n",
"G=110\n",
"q=G*Df\n",
"\n",
"C=200\n",
"B=4\n",
"\n",
"Qu= C*Nc+q*Nq+G*B*Ng/2\n",
"\n",
"Fs=3\n",
"Qall=Qu/Fs\n",
"printf('Qa = %f lb/ft^2',Qall)"
   ]
   }
,
{
		   "cell_type": "markdown",
		   "metadata": {},
		   "source": [
			"## Example 16.2: solved.sce"
		   ]
		  },
  {
"cell_type": "code",
	   "execution_count": null,
	   "metadata": {
	    "collapsed": true
	   },
	   "outputs": [],
"source": [
"clc\n",
"G=18.15\n",
"qa=30000*9.81/1000\n",
"\n",
"Nc=57.75\n",
"Nq=41.44\n",
"Ng=45.41\n",
"C=0\n",
"q=G*1\n",
"B=1\n",
"(1.3*C*Nc+q*Nq+0.4*G*B*Ng)*B^2/3 == qa\n",
"B= sqrt(294.3/(250.7+109.9))\n",
"printf(' B = %f m',B)"
   ]
   }
,
{
		   "cell_type": "markdown",
		   "metadata": {},
		   "source": [
			"## Example 16.3: solved.sce"
		   ]
		  },
  {
"cell_type": "code",
	   "execution_count": null,
	   "metadata": {
	    "collapsed": true
	   },
	   "outputs": [],
"source": [
"clc\n",
"B=1.2\n",
"L=1.2\n",
"c=32\n",
"C=0\n",
"Df=1\n",
"G=16\n",
"Nq=23.18\n",
"Ng=22.02\n",
"Nc=1\n",
"Lqs=1+0.1*B*(tand(45+c/2))^2/L\n",
"Lgs=Lqs\n",
"Lqd=1+0.1*Df*tand(45+c/2)/B\n",
"Lgd=Lqd\n",
"Lcs=1\n",
"Lcd=1\n",
"Gs=19.5\n",
"q=0.5*G+0.5*(Gs-9.81)\n",
"Qu= C*Lcs*Lcd*Nc+q*Lqs*Lqd*Nq+(Gs-9.81)*Lgs*Lgd*B*Ng/2\n",
"Qa=Qu/3\n",
"Q=Qa*B^2\n",
"printf('the gross load = %f kN',Q)"
   ]
   }
,
{
		   "cell_type": "markdown",
		   "metadata": {},
		   "source": [
			"## Example 16.4: solved.sce"
		   ]
		  },
  {
"cell_type": "code",
	   "execution_count": null,
	   "metadata": {
	    "collapsed": true
	   },
	   "outputs": [],
"source": [
"clc\n",
"e=0.1\n",
"B=1\n",
"X=B-2*e\n",
"Y=1.5\n",
"B1=0.8\n",
"L1=1.5\n",
"c=30\n",
"Df=1\n",
"Nq=18.4\n",
"Ng=15.668\n",
"q=1*18\n",
"G=18\n",
"Lqs=1+e*(B1/L1)*(tand(45+c/2))^2\n",
"Lgs=Lqs\n",
"Lqd=1+e*(Df/B1)*tand(45+c/2)\n",
"Lgd=Lqd\n",
"qu=q*Lqs*Lqd*Nq+Lgs*Lgd*G*B1*Ng/2\n",
"Qu=qu*B1*L1\n",
"printf('The magnitude of the gross ultimate load = %f kN',Qu)"
   ]
   }
,
{
		   "cell_type": "markdown",
		   "metadata": {},
		   "source": [
			"## Example 16.5: solved.sce"
		   ]
		  },
  {
"cell_type": "code",
	   "execution_count": null,
	   "metadata": {
	    "collapsed": true
	   },
	   "outputs": [],
"source": [
"clc\n",
"B=1.5\n",
"Df=0.75\n",
"e=0.1*B\n",
"G=17.5\n",
"c=30\n",
"C=0\n",
"q=G*Df\n",
"Nq=18.4\n",
"Ng=15.668\n",
"Lqd=1+0.1*(Df/B)*tand(45+c/2)\n",
"Lgd=Lqd\n",
"Quc=q*Nq*Lqd+Lgd*B*Ng/2\n",
"k=0.8\n",
"a=1.754\n",
"Qua=Quc*(1-a*(e/B)^k)\n",
"printf('The gross ultimate load per unit length = %f kN',Qua)"
   ]
   }
,
{
		   "cell_type": "markdown",
		   "metadata": {},
		   "source": [
			"## Example 16.6: solved.sce"
		   ]
		  },
  {
"cell_type": "code",
	   "execution_count": null,
	   "metadata": {
	    "collapsed": true
	   },
	   "outputs": [],
"source": [
"clc\n",
"Qup=280\n",
"Bp=0.7 // in m\n",
"Bf=1.5\n",
"Quf=Qup*Bf/Bp\n",
"printf('The ultimate bearing capacity = %f kN/m^2',Quf)"
   ]
   }
,
{
		   "cell_type": "markdown",
		   "metadata": {},
		   "source": [
			"## Example 16.7: solved.sce"
		   ]
		  },
  {
"cell_type": "code",
	   "execution_count": null,
	   "metadata": {
	    "collapsed": true
	   },
	   "outputs": [],
"source": [
"clc\n",
"a=2500\n",
"//doing for the first values only\n",
"Bf=4\n",
"Bp=0.305\n",
"q=a/Bf^2\n",
"Sep=4\n",
"Sef=Sep*(2*Bf/(Bf+Bp))^2\n",
"printf('Sef = %f mm',Sef)"
   ]
   }
],
"metadata": {
		  "kernelspec": {
		   "display_name": "Scilab",
		   "language": "scilab",
		   "name": "scilab"
		  },
		  "language_info": {
		   "file_extension": ".sce",
		   "help_links": [
			{
			 "text": "MetaKernel Magics",
			 "url": "https://github.com/calysto/metakernel/blob/master/metakernel/magics/README.md"
			}
		   ],
		   "mimetype": "text/x-octave",
		   "name": "scilab",
		   "version": "0.7.1"
		  }
		 },
		 "nbformat": 4,
		 "nbformat_minor": 0
}
