{
"cells": [
 {
		   "cell_type": "markdown",
	   "metadata": {},
	   "source": [
       "# Chapter 5: Junctions"
	   ]
	},
{
		   "cell_type": "markdown",
		   "metadata": {},
		   "source": [
			"## Example 5.1: contact_potential_and_fermi_level_position.sce"
		   ]
		  },
  {
"cell_type": "code",
	   "execution_count": null,
	   "metadata": {
	    "collapsed": true
	   },
	   "outputs": [],
"source": [
"Na = 10^18;\n",
"Nd = 5*10^15;\n",
"ni = 1.5*10^10;\n",
"kT = 0.0259;\n",
"E1 = kT*log(Na/ni);\n",
"E2 = kT*log(Nd/ni);\n",
"qV1 = E1+E2;\n",
"qV2 = kT*log(Na*Nd/ni^2);\n",
"disp(E1,'Fermi level position in p region (in eV)=')\n",
"disp(E2,'Fermi level position in n region (in eV)=')\n",
"disp(qV1,'Contact potential (in eV)=')\n",
"disp(qV2,'Contact potential (in eV)=')\n",
"disp('Contact potential value verified')"
   ]
   }
,
{
		   "cell_type": "markdown",
		   "metadata": {},
		   "source": [
			"## Example 5.2: electric_field_and_charge_density_in_junction.sce"
		   ]
		  },
  {
"cell_type": "code",
	   "execution_count": null,
	   "metadata": {
	    "collapsed": true
	   },
	   "outputs": [],
"source": [
"Na = 10^18;\n",
"Nd = 5*10^15;\n",
"ni = 1.5*10^10;\n",
"kT = 0.0259;\n",
"epsilon0 = 8.85*10^-14;\n",
"epsilon = 11.8;\n",
"q = 1.6*10^-19;\n",
"E1 = kT*log(Na/ni);\n",
"E2 = kT*log(Nd/ni);\n",
"qV1 = E1+E2;\n",
"qV2 = kT*log(Na*Nd/ni^2);\n",
"d = 10*10^-4; //in centimetre\n",
"A = %pi*d^2/4;\n",
"W = sqrt(2*epsilon*epsilon0*qV1/q *(Na^-1 + Nd^-1));\n",
"xn0 = W/(1+(Nd/Na));\n",
"xp0 = W/(1+(Na/Nd)); \n",
"Q = q*A*xn0*Nd;\n",
"E0 = -q*xn0*Nd/(epsilon*epsilon0);\n",
"disp(W*10^4,'width of the transition region(in micron)=')\n",
"disp(xn0*10^4,'penetration of the space charge region into the n material (in micron)=')\n",
"disp(xp0*10^4,'penetration of the space charge region into the p material (in micron)=')\n",
"disp(Q,'total uncompensated charge (in coulomb)=')\n",
"disp(E0,'maximum electric field(in V per cm)=')"
   ]
   }
,
{
		   "cell_type": "markdown",
		   "metadata": {},
		   "source": [
			"## Example 5.4: Current_in_forward_and_reverse_biased_pn_junction.sce"
		   ]
		  },
  {
"cell_type": "code",
	   "execution_count": null,
	   "metadata": {
	    "collapsed": true
	   },
	   "outputs": [],
"source": [
"A = 10^-4;\n",
"kT = 0.0259;\n",
"ni = 1.5*10^10;\n",
"q = 1.6*10^-19;\n",
"q0 = 1;\n",
"Na = 10^17;\n",
"Nd = 10^15;\n",
"Tn = 10^-7;\n",
"Tp = 10^-5;\n",
"upp = 200;\n",
"unn = 1300;\n",
"unp = 700;\n",
"upn = 450;\n",
"V1 = 0.5;\n",
"V2 = -0.5;\n",
"pn =  ni^2/Nd;\n",
"np = ni^2/Na;\n",
"Dp = kT*upn/q0;\n",
"Dn = kT*unp/q0;\n",
"Lp = sqrt(Dp*Tp);\n",
"Ln = sqrt(Dn*Tn);\n",
"I1 = q*A*((Dp*pn/Lp)+(Dn*np/Ln))*(exp(q0*V1/kT)-1);\n",
"I2 = -q*A*((Dp*pn/Lp)+(Dn*np/Ln));\n",
"disp(pn,'hole concentration (per cubic centmeter)=')\n",
"disp(np,'electron concentration (per cubic centmeter)=')\n",
"disp(Dp,'diffusion coefficient on n side(in square centimter per second)=')\n",
"disp(Dn,'diffusion coefficient on p side(in square centimter per second)=')\n",
"disp(I1*10^6,'current at forward bias (in microampere)=')\n",
"disp(I2*10^6,'current at reverse bias (in microampere)=')"
   ]
   }
,
{
		   "cell_type": "markdown",
		   "metadata": {},
		   "source": [
			"## Example 5.6: depletion_capacitance.sce"
		   ]
		  },
  {
"cell_type": "code",
	   "execution_count": null,
	   "metadata": {
	    "collapsed": true
	   },
	   "outputs": [],
"source": [
"A = 10^-4;\n",
"kT = 0.0259;\n",
"ni = 1.5*10^10;\n",
"q = 1.6*10^-19;\n",
"Na = 10^17;\n",
"Nd = 10^15;\n",
"epsilon0 = 8.85*10^-14;\n",
"epsilon = 11.8;\n",
"E1 = kT*log(Na/ni);\n",
"E2 = kT*log(Nd/ni);\n",
"V0 = E1+E2;\n",
"V = -4;\n",
"Cj = sqrt(epsilon*epsilon0)*A*sqrt(q*Nd*Na/(2*(V0-V)*(Na+Nd)));\n",
"disp(V0,'V0 (in volt)=')\n",
"disp(Cj,'total depletion constant (in farad)=')"
   ]
   }
,
{
		   "cell_type": "markdown",
		   "metadata": {},
		   "source": [
			"## Example 5.7: Heterojunctions.sce"
		   ]
		  },
  {
"cell_type": "code",
	   "execution_count": null,
	   "metadata": {
	    "collapsed": true
	   },
	   "outputs": [],
"source": [
"dEtg = 1.85;\n",
"band_gap = 1.43; //for GaAs-AlGaAs system\n",
"dEg = dEtg - band_gap;\n",
"dEc = dEg*2/3;\n",
"dEv = dEg/3;\n",
"disp(dEc, 'Conduction band offset(in eV) =')\n",
"disp(dEv, 'Valence band offset(in eV) =')"
   ]
   }
],
"metadata": {
		  "kernelspec": {
		   "display_name": "Scilab",
		   "language": "scilab",
		   "name": "scilab"
		  },
		  "language_info": {
		   "file_extension": ".sce",
		   "help_links": [
			{
			 "text": "MetaKernel Magics",
			 "url": "https://github.com/calysto/metakernel/blob/master/metakernel/magics/README.md"
			}
		   ],
		   "mimetype": "text/x-octave",
		   "name": "scilab",
		   "version": "0.7.1"
		  }
		 },
		 "nbformat": 4,
		 "nbformat_minor": 0
}
