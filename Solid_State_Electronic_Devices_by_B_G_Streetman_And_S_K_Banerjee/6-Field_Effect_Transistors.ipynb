{
"cells": [
 {
		   "cell_type": "markdown",
	   "metadata": {},
	   "source": [
       "# Chapter 6: Field Effect Transistors"
	   ]
	},
{
		   "cell_type": "markdown",
		   "metadata": {},
		   "source": [
			"## Example 6.1: mos_transistor.sce"
		   ]
		  },
  {
"cell_type": "code",
	   "execution_count": null,
	   "metadata": {
	    "collapsed": true
	   },
	   "outputs": [],
"source": [
"kT = 0.0259;\n",
"ni = 1.5*10^10;\n",
"q = 1.6*10^-19;\n",
"q0 = 1;\n",
"epsilon0 = 8.85*10^-14;\n",
"epsilon = 11.8;\n",
"epsiloni = 3.9;\n",
"Na = 5*10^15;\n",
"d = 10^-6;\n",
"Qi = 4*10^10*q;\n",
"Vf = kT*log(Na/ni)/q0;\n",
"Wm = 2*sqrt(epsilon*epsilon0*Vf/(q*Na));\n",
"Vms = -0.95;\n",
"Ci = epsiloni*epsilon0/d;\n",
"Vfb = Vms -(Qi/Ci);\n",
"Qd = -q*Na*Wm;\n",
"Vt = Vfb-Qd/Ci+2*Vf;\n",
"Cd = epsilon*epsilon0/Wm;\n",
"Cmin = Ci*Cd/(Ci+Cd);\n",
"disp(Vf,'Phi(F) (in eV)=')\n",
"disp(Wm*10^4,'W(m) (in micron)=')\n",
"disp(Qi,'effective interface charge (in coulomb per square cm)=')\n",
"disp(Ci*10^6,'C(i) (in microfarad per square cm)=')\n",
"disp(Vfb,'V(fb)(in V)=')\n",
"disp(Qd,'Q(d)(in coulomb per square cm)=')\n",
"disp(Vt,'V(T) (in V)=')\n",
"disp(Cd*10^6,'C(d) (in microfarad per square cm)=')\n",
"disp(Cmin,'C(min) (in farad per square cm)=')"
   ]
   }
,
{
		   "cell_type": "markdown",
		   "metadata": {},
		   "source": [
			"## Example 6.2: drain_current_in_mosfet.sce"
		   ]
		  },
  {
"cell_type": "code",
	   "execution_count": null,
	   "metadata": {
	    "collapsed": true
	   },
	   "outputs": [],
"source": [
"kT = 0.0259;\n",
"ni = 1.5*10^10;\n",
"q = 1.6*10^-19;\n",
"q0 = 1;\n",
"epsilon0 = 8.85*10^-14;\n",
"epsilon = 11.8;\n",
"epsiloni = 3.9;\n",
"Na = 5*10^15;\n",
"d = 10^-6;\n",
"Vt = 0.6;\n",
"Z = 25*10^-4;\n",
"L = 10^-4;\n",
"Vg1 = 5;\n",
"Vd1 = 0.1;\n",
"Vg2=3;\n",
"Vd2=5;\n",
"Vdsat = Vg2-Vt;\n",
"Vd3=7;\n",
"un = 200;\n",
"Ci = epsiloni*epsilon0/d;\n",
"Id1 = (Z*un*Ci/L)*((Vg1-Vt)*Vd1-0.5*Vd1^2); //linear region\n",
"Id2 = (Z*un*Ci/L)*((Vg2-Vt)*Vdsat-0.5*Vdsat^2); //saturation region\n",
"disp(Ci*10^6,'C(i) (in microfarad per square cm)=')\n",
"disp(Id1*10^3,'For V(G)=5V and V(D)=0.1V, we are in the linear region and drain current (in miliampere)=')\n",
"disp(Id2*10^3,'For V(G)=3V and V(D)=5V, we are in the saturation region and drain current (in miliampere)=')\n",
"disp('For VD = 7 V, ID will not increase, because we are in the saturation region.')"
   ]
   }
,
{
		   "cell_type": "markdown",
		   "metadata": {},
		   "source": [
			"## Example 6.3: ion_implantation.sce"
		   ]
		  },
  {
"cell_type": "code",
	   "execution_count": null,
	   "metadata": {
	    "collapsed": true
	   },
	   "outputs": [],
"source": [
"q = 1.6*10^-19;\n",
"q0 = 1;\n",
"epsilon0 = 8.85*10^-14;\n",
"epsilon = 11.8;\n",
"epsiloni = 3.9;\n",
"d = 10^-6;\n",
"Vt1 = -1.1;\n",
"Vt2 = -0.5;\n",
"I = 10^-5;\n",
"A = 650;\n",
"Ci = epsiloni*epsilon0/d;\n",
"Fb = (Vt2-Vt1)*Ci/q;\n",
"t = Fb*q*A/I;\n",
"disp(Ci*10^6,'C(i) (in microfarad per square cm)=')\n",
"disp(Fb,'boron ion dose required (in per square cm)=')\n",
"disp(t,'implant time (in second)=')"
   ]
   }
],
"metadata": {
		  "kernelspec": {
		   "display_name": "Scilab",
		   "language": "scilab",
		   "name": "scilab"
		  },
		  "language_info": {
		   "file_extension": ".sce",
		   "help_links": [
			{
			 "text": "MetaKernel Magics",
			 "url": "https://github.com/calysto/metakernel/blob/master/metakernel/magics/README.md"
			}
		   ],
		   "mimetype": "text/x-octave",
		   "name": "scilab",
		   "version": "0.7.1"
		  }
		 },
		 "nbformat": 4,
		 "nbformat_minor": 0
}
