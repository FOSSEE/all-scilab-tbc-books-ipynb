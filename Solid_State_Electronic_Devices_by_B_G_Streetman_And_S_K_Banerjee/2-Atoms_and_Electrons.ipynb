{
"cells": [
 {
		   "cell_type": "markdown",
	   "metadata": {},
	   "source": [
       "# Chapter 2: Atoms and Electrons"
	   ]
	},
{
		   "cell_type": "markdown",
		   "metadata": {},
		   "source": [
			"## Example 2.1: expectation_of_momentum.sce"
		   ]
		  },
  {
"cell_type": "code",
	   "execution_count": null,
	   "metadata": {
	    "collapsed": true
	   },
	   "outputs": [],
"source": [
"//j=complex(0,1);\n",
"//psi = A*exp(j*k*x);\n",
"disp('px = h_cross*k(x)');\n",
"disp('If we try to evaluate these integrals directly, we run into the problem that both numerator and denominator tend to infinity, because an ideal plane wave is strictly not a normalizable wave function. The trick to use is to choose the limits of integration from, say, -L/2 to +L/2 in a region of length L.The factor L cancels out in the numerator and denominator. Then we can consider L approaches infinity. For wave functions that are normalizable, such a mathematical trickdoes not have to be used.')"
   ]
   }
],
"metadata": {
		  "kernelspec": {
		   "display_name": "Scilab",
		   "language": "scilab",
		   "name": "scilab"
		  },
		  "language_info": {
		   "file_extension": ".sce",
		   "help_links": [
			{
			 "text": "MetaKernel Magics",
			 "url": "https://github.com/calysto/metakernel/blob/master/metakernel/magics/README.md"
			}
		   ],
		   "mimetype": "text/x-octave",
		   "name": "scilab",
		   "version": "0.7.1"
		  }
		 },
		 "nbformat": 4,
		 "nbformat_minor": 0
}
