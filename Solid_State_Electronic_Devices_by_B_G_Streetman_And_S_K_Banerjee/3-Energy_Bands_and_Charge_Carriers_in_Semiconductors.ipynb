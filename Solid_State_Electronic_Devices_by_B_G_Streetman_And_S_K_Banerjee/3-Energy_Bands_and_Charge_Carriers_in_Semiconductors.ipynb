{
"cells": [
 {
		   "cell_type": "markdown",
	   "metadata": {},
	   "source": [
       "# Chapter 3: Energy Bands and Charge Carriers in Semiconductors"
	   ]
	},
{
		   "cell_type": "markdown",
		   "metadata": {},
		   "source": [
			"## Example 3.1: free_electron_momentum.sce"
		   ]
		  },
  {
"cell_type": "code",
	   "execution_count": null,
	   "metadata": {
	    "collapsed": true
	   },
	   "outputs": [],
"source": [
"//j=complex(0,1);\n",
"//psi = U*exp(j*k*x);\n",
"disp('px = h_cross*k(x)');\n",
"disp('With infinite limits of integration, both the numerator and denominator are infinite. For problems of this type, one integrates between the finite limits -LI2 and +L/2 and, in the final result, then assumes that L approaches infinity. This result implies that (E, k) diagrams can be considered plots of electron energy vs. momentum, with a scaling factor h_cross.')"
   ]
   }
,
{
		   "cell_type": "markdown",
		   "metadata": {},
		   "source": [
			"## Example 3.2: E_k_Rleationship.sce"
		   ]
		  },
  {
"cell_type": "code",
	   "execution_count": null,
	   "metadata": {
	    "collapsed": true
	   },
	   "outputs": [],
"source": [
"//p = m*v\n",
"//p = h*k; //electron momentum, where h is constant\n",
"//E = 0.5*p*p/m\n",
"//E = 0.5*h*k*k/m; //electron energy\n",
"k = -10:0.01:10; //limits on wave vector k\n",
"E = k^2; // E is proportional to square of wave vector\n",
"plot(k,E)"
   ]
   }
,
{
		   "cell_type": "markdown",
		   "metadata": {},
		   "source": [
			"## Example 3.3: radius_of_electron_orbit.sce"
		   ]
		  },
  {
"cell_type": "code",
	   "execution_count": null,
	   "metadata": {
	    "collapsed": true
	   },
	   "outputs": [],
"source": [
"n = 1;\n",
"epsilonr = 11.8; //relative dielectric constant for silicon\n",
"epsilon = 8.85*10^-12; //dielectric constant\n",
"m = 9.11*10^-31; //mass of electron\n",
"mn = 0.26*m; //for silicon\n",
"h = 6.63*10^-34;\n",
"q = 1.6*10^-19; //electronic charge\n",
"r = 10^10*(epsilonr*epsilon*h*h)/(mn*q*q*%pi); //radius in armstrong\n",
"disp(r,'radius of electron orbit around donor (in armstrong) =')\n",
"disp('This is more than 4 lattice spacings a = 5.43 armstrong.')"
   ]
   }
,
{
		   "cell_type": "markdown",
		   "metadata": {},
		   "source": [
			"## Example 3.4: density_of_states_effective_mass.sce"
		   ]
		  },
  {
"cell_type": "code",
	   "execution_count": null,
	   "metadata": {
	    "collapsed": true
	   },
	   "outputs": [],
"source": [
"m = 9.11*10^-31; //mass of electron\n",
"ml = 0.98*m; \n",
"ms = 0.19*m;\n",
"mn = 6^(2/3)*(ml*ms*ms)^(1/3); //density of states effective mass calculation\n",
"mn0 = mn/m;\n",
"disp(mn,'density of states effective mass (in kilogram)=')\n",
"disp(mn0,'density of states effective mass in proportion to mass of electron= ')"
   ]
   }
,
{
		   "cell_type": "markdown",
		   "metadata": {},
		   "source": [
			"## Example 3.5: equilibrium_hole_concentration.sce"
		   ]
		  },
  {
"cell_type": "code",
	   "execution_count": null,
	   "metadata": {
	    "collapsed": true
	   },
	   "outputs": [],
"source": [
"n0 = 10^17; //concentration of electrons\n",
"ni = 1.5*10^10; //intrinsic concentration\n",
"T = 300; //(temperature in Kelvin)\n",
"p0 = ni*ni/n0; // concentration of holes\n",
"k = 0.0259; //Boltzmann's constant multiplied with T = 300\n",
"E = k*log(n0/ni);\n",
"disp(p0,'concentration of holes (in per cubic centimeter)=')\n",
"disp(E,'Fermi level energy with respect to intrinsic level energy (in electron volt)=')"
   ]
   }
,
{
		   "cell_type": "markdown",
		   "metadata": {},
		   "source": [
			"## Example 3.6: conductivity_effective_mass.sce"
		   ]
		  },
  {
"cell_type": "code",
	   "execution_count": null,
	   "metadata": {
	    "collapsed": true
	   },
	   "outputs": [],
"source": [
"m = 9.11*10^-31; //mass of electron\n",
"ml = 0.98*m;\n",
"mt = 0.19*m;\n",
"mninverse = (1/3) * ((1/ml)+(2/mt));\n",
"mn = 1/mninverse; \n",
"mn0 = mn/m;\n",
"disp(mn0,'Conductivity effective mass in proportion to mass of an electron =')"
   ]
   }
,
{
		   "cell_type": "markdown",
		   "metadata": {},
		   "source": [
			"## Example 3.7: current_and_resistance_in_a_Si_bar.sce"
		   ]
		  },
  {
"cell_type": "code",
	   "execution_count": null,
	   "metadata": {
	    "collapsed": true
	   },
	   "outputs": [],
"source": [
"un= 700;\n",
"q = 1.6*10^-19;\n",
"n0 = 10^17;\n",
"L = 0.1;\n",
"A = 10^-6;\n",
"V = 10;\n",
"sigma = q*un*n0;\n",
"rho = 1/sigma;\n",
"R = rho*L/A;\n",
"I = V/R;\n",
"disp(sigma,'Conductivity (in per ohm-cm)=')\n",
"disp(rho,'resistivity (in ohm-cm)=')\n",
"disp(R,'resistance (in ohm)=')\n",
"disp(I,'current (in ampere)=')"
   ]
   }
,
{
		   "cell_type": "markdown",
		   "metadata": {},
		   "source": [
			"## Example 3.8: concentration_and_mobility_of_majority_carrier.sce"
		   ]
		  },
  {
"cell_type": "code",
	   "execution_count": null,
	   "metadata": {
	    "collapsed": true
	   },
	   "outputs": [],
"source": [
"w = 0.01;\n",
"w1 = w*10^-3\n",
"t = 10^-3;\n",
"L = 0.5;\n",
"B = 10*10^-5; \n",
"I = 10^-3;\n",
"Vab = -2 *10^-3;\n",
"Vcd = 0.1; \n",
"q = 1.6*10^-19;\n",
"q1 = q*10^-3\n",
"n0 = I*B/(q1*-Vab);\n",
"rho = (Vcd/I)/(L/w1);\n",
"u = 1/(rho*q*n0);\n",
"disp(n0,'electron concentration (in per cubic centimeter)=')\n",
"disp(rho,'resisitivity (in ohm-cm)=')\n",
"disp(u,'mobility (in square cm per volt-sec)=')"
   ]
   }
],
"metadata": {
		  "kernelspec": {
		   "display_name": "Scilab",
		   "language": "scilab",
		   "name": "scilab"
		  },
		  "language_info": {
		   "file_extension": ".sce",
		   "help_links": [
			{
			 "text": "MetaKernel Magics",
			 "url": "https://github.com/calysto/metakernel/blob/master/metakernel/magics/README.md"
			}
		   ],
		   "mimetype": "text/x-octave",
		   "name": "scilab",
		   "version": "0.7.1"
		  }
		 },
		 "nbformat": 4,
		 "nbformat_minor": 0
}
