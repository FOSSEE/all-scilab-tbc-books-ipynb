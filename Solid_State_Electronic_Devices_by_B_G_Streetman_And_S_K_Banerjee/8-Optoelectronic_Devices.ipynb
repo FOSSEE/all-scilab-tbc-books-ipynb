{
"cells": [
 {
		   "cell_type": "markdown",
	   "metadata": {},
	   "source": [
       "# Chapter 8: Optoelectronic Devices"
	   ]
	},
{
		   "cell_type": "markdown",
		   "metadata": {},
		   "source": [
			"## Example 8.2: solar_cells.sce"
		   ]
		  },
  {
"cell_type": "code",
	   "execution_count": null,
	   "metadata": {
	    "collapsed": true
	   },
	   "outputs": [],
"source": [
"Isc=100;\n",
"Voc=0.8;\n",
"ff = 0.7;\n",
"Pmax = ff*Isc*Voc;\n",
"disp(Pmax,'maximum power delivered(in miliwatt)=')"
   ]
   }
,
{
		   "cell_type": "markdown",
		   "metadata": {},
		   "source": [
			"## Example 8.3: fibre_optic_communication.sce"
		   ]
		  },
  {
"cell_type": "code",
	   "execution_count": null,
	   "metadata": {
	    "collapsed": true
	   },
	   "outputs": [],
"source": [
"wavelength = 0.68;\n",
"Eg = 1.24/wavelength;\n",
"disp(Eg,'band gap (in eV)=')\n",
"disp('From Fig, 3-6, we get Al(0.32)Ga(0.68)As. From Fig. 8-11, we get GaAs(0.68)P(0.32)')"
   ]
   }
],
"metadata": {
		  "kernelspec": {
		   "display_name": "Scilab",
		   "language": "scilab",
		   "name": "scilab"
		  },
		  "language_info": {
		   "file_extension": ".sce",
		   "help_links": [
			{
			 "text": "MetaKernel Magics",
			 "url": "https://github.com/calysto/metakernel/blob/master/metakernel/magics/README.md"
			}
		   ],
		   "mimetype": "text/x-octave",
		   "name": "scilab",
		   "version": "0.7.1"
		  }
		 },
		 "nbformat": 4,
		 "nbformat_minor": 0
}
