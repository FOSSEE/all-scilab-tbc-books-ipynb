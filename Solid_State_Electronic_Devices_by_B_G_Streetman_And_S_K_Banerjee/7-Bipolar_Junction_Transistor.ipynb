{
"cells": [
 {
		   "cell_type": "markdown",
	   "metadata": {},
	   "source": [
       "# Chapter 7: Bipolar Junction Transistor"
	   ]
	},
{
		   "cell_type": "markdown",
		   "metadata": {},
		   "source": [
			"## Example 7.1: steady_state_charge_in_transistor.sce"
		   ]
		  },
  {
"cell_type": "code",
	   "execution_count": null,
	   "metadata": {
	    "collapsed": true
	   },
	   "outputs": [],
"source": [
"tp = 10^-5;\n",
"ts = 10^-7;\n",
"ib = 10^-4;\n",
"ic = 10^-2;\n",
"Qn = ic*ts;\n",
"Qp = ib*tp;\n",
"disp(Qp,'steady state charge due to excess holes (in coulomb)=')\n",
"disp(Qn,'steady state charge due to excess electrons (in coulomb)=')"
   ]
   }
,
{
		   "cell_type": "markdown",
		   "metadata": {},
		   "source": [
			"## Example 7.4: bjt_saturation_current.sce"
		   ]
		  },
  {
"cell_type": "code",
	   "execution_count": null,
	   "metadata": {
	    "collapsed": true
	   },
	   "outputs": [],
"source": [
"A=10^-4;\n",
"q = 1.6*10^-19;\n",
"kT = 0.0259;\n",
"Wb = 10^-4;\n",
"ni = 1.5*10^10;\n",
"Na = 10^17;\n",
"Tn = 10^-7;\n",
"upe=200;\n",
"une=700;\n",
"Nd = 10^15;\n",
"Tp=10^-5;\n",
"unb=1300;\n",
"upb=450;\n",
"Veb = 0.3;\n",
"Vcb = -40;\n",
"pn = ni^2/Nd;\n",
"Dp = upb*kT;\n",
"Lp = sqrt(Dp*Tp);\n",
"Ies = q*A*Dp*pn/Lp*(csch(Wb/Lp)+tanh(Wb/Lp));\n",
"dpe = pn*exp(Veb/kT);\n",
"Ib = q*A*Dp*dpe/Lp*tanh(Wb/2*Lp);\n",
"Ib1 = q*A*Wb*dpe/(2*Tp);\n",
"Dn = kT*une;\n",
"Ln = sqrt(Dn*Tn);\n",
"gamma1 = (1+((Dn*Lp*Nd)/(Dp*Ln*Na))*tanh(Wb/Lp))^-1;\n",
"B = sech(Wb/Lp);\n",
"alpha = B*gamma1;\n",
"beta1 = alpha/(1-alpha);\n",
"disp(pn,'hole concentration (in per cubic centimeter)=')\n",
"disp(Dp,'Dp (in sqaure centimeter per second)=')\n",
"disp(Lp*10,'Lp(in micrometer) =')\n",
"disp(dpe,'dp(E)(in per cubic centimeter) =')\n",
"disp(Ies,'I(ES) (in ampere)=')\n",
"disp(Ib1,'I(B) (in ampere)=')\n",
"disp(Dn,'Dn (in sqaure centimeter per second)=')\n",
"disp(Ln*10,'Ln (in micrometer)=')\n",
"disp(gamma1,'gamma =')\n",
"disp(B,'B =')\n",
"disp(alpha,'alpha =')\n",
"disp(beta1,'beta =')"
   ]
   }
],
"metadata": {
		  "kernelspec": {
		   "display_name": "Scilab",
		   "language": "scilab",
		   "name": "scilab"
		  },
		  "language_info": {
		   "file_extension": ".sce",
		   "help_links": [
			{
			 "text": "MetaKernel Magics",
			 "url": "https://github.com/calysto/metakernel/blob/master/metakernel/magics/README.md"
			}
		   ],
		   "mimetype": "text/x-octave",
		   "name": "scilab",
		   "version": "0.7.1"
		  }
		 },
		 "nbformat": 4,
		 "nbformat_minor": 0
}
