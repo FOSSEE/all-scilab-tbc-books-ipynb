{
"cells": [
 {
		   "cell_type": "markdown",
	   "metadata": {},
	   "source": [
       "# Chapter 4: Excess Carriers in Semiconductors"
	   ]
	},
{
		   "cell_type": "markdown",
		   "metadata": {},
		   "source": [
			"## Example 4.1: Excitation_and_band_to_band_recombination_leading_to_photoluminescence.sce"
		   ]
		  },
  {
"cell_type": "code",
	   "execution_count": null,
	   "metadata": {
	    "collapsed": true
	   },
	   "outputs": [],
"source": [
"t = 0.46 *10^-4;\n",
"hv = 2;\n",
"alpha = 5*10^4;\n",
"I0 = 10^-2;\n",
"It = I0*exp(-alpha*t);\n",
"Pabs = I0 - It;\n",
"f = (2-1.43)/2;\n",
"P = f*Pabs;\n",
"n = Pabs/(1.6*10^-19*hv);\n",
"disp(Pabs,'total energy absorbed per second (in watt)=')\n",
"disp(P,'amount of energy converted to heat per second (in watt)=')\n",
"disp(n,'number of photons per second given off form recombination events =')"
   ]
   }
,
{
		   "cell_type": "markdown",
		   "metadata": {},
		   "source": [
			"## Example 4.2: decay_of_excess_population_for_a_carrier_recombination.sce"
		   ]
		  },
  {
"cell_type": "code",
	   "execution_count": null,
	   "metadata": {
	    "collapsed": true
	   },
	   "outputs": [],
"source": [
"p0 = 10^15;\n",
"ni = 10^6;\n",
"n0 = ni^2/p0;\n",
"disp(n0,'Minority electron concentration (in per cubic centimeter)=' )\n",
"dn = 10^14;\n",
"dp = 10^14;\n",
"tn = 10; //in nanoseconds\n",
"tp = tn;\n",
"t = 0:10:50;\n",
"del_n = dn*exp(-t/tn);\n",
"del_p = dp*exp(-t/tp);\n",
"p = p0 + del_p;\n",
"n = del_n; //since n0 is negligible\n",
"subplot(121);\n",
"plot(t,log(p));\n",
"plot(t,log(n));\n",
"subplot(122);\n",
"plot(t,p);\n",
"plot(t,n);"
   ]
   }
,
{
		   "cell_type": "markdown",
		   "metadata": {},
		   "source": [
			"## Example 4.3: steady_state_carrier_generation.sce"
		   ]
		  },
  {
"cell_type": "code",
	   "execution_count": null,
	   "metadata": {
	    "collapsed": true
	   },
	   "outputs": [],
"source": [
"n0 = 10^14;\n",
"ni = 1.5*10^10;\n",
"Tn = 2 *10^-6;\n",
"Tp = 2 *10^-6;\n",
"p = 2*10^13;\n",
"p0 = ni^2/n0;\n",
"disp(p0,'hole concentration (per cubic centimeter)=')"
   ]
   }
,
{
		   "cell_type": "markdown",
		   "metadata": {},
		   "source": [
			"## Example 4.4: electron_quasi_fermi_level_position_and_carrier_concentration.sce"
		   ]
		  },
  {
"cell_type": "code",
	   "execution_count": null,
	   "metadata": {
	    "collapsed": true
	   },
	   "outputs": [],
"source": [
"n0 = 10^14;\n",
"dn = 2*10^13;\n",
"n = n0+dn;\n",
"kT = 0.0259;\n",
"ni = 1.5*10^10;\n",
"Ei = kT*log(n0/ni);\n",
"Fn = Ei + kT*log(n/ni);\n",
"E = Fn-Ei;\n",
"disp(n,'steady state electron concentration=')\n",
"disp(Ei,'equilibrium Fermi level (in eV)=')\n",
"disp(E,'electron quasi Fermi level position(in eV)=')"
   ]
   }
,
{
		   "cell_type": "markdown",
		   "metadata": {},
		   "source": [
			"## Example 4.5: diffusion_length_and_hole_current.sce"
		   ]
		  },
  {
"cell_type": "code",
	   "execution_count": null,
	   "metadata": {
	    "collapsed": true
	   },
	   "outputs": [],
"source": [
"A = 0.5;\n",
"Na = 10^17;\n",
"p0 = Na;\n",
"ni = 1.5*10^10;\n",
"dp = 5*10^16;\n",
"x = 10^-5;\n",
"up = 500;\n",
"Tp = 10^-10;\n",
"kT = 0.0259;\n",
"q0 = 1;\n",
"q = 1.6*10^-19;\n",
"Dp = kT*up/q0;\n",
"Lp = sqrt(Dp*Tp);\n",
"p = p0 + dp*exp(-x/Lp);\n",
"E = kT*log(p/ni);\n",
"E0 = 1.1/2 + E;\n",
"Ip = q*A*Dp*dp*exp(-x/Lp)/Lp;\n",
"Qp = q*A*dp*Lp;\n",
"Qp0 = Qp*10^6;\n",
"disp(E0,'steady state separation between Fp and Ec (in eV)=')\n",
"disp(Ip,'hole current (in ampere)=')\n",
"disp(Qp,'excess stored hole charge (in coulomb)=')\n",
"disp(Qp0,'excess stored hole charge (in micro-coulomb)=')"
   ]
   }
,
{
		   "cell_type": "markdown",
		   "metadata": {},
		   "source": [
			"## Example 4.6: Haynes_Shockley_experiment.sce"
		   ]
		  },
  {
"cell_type": "code",
	   "execution_count": null,
	   "metadata": {
	    "collapsed": true
	   },
	   "outputs": [],
"source": [
"l = 1;\n",
"d = 0.95;\n",
"E0 = 2;\n",
"t = 0.25*10^-3;\n",
"dt = 117*10^-6;\n",
"up = (d/t)/(E0/l);\n",
"Dp = dt^2*d^2/(16*t^3);\n",
"C = Dp/up;\n",
"kT = 0.0259;\n",
"disp(up,'hole mobility (in square cm per Volt-second)=')\n",
"disp(Dp,'diffusion coefficient (in square cm per second)=')\n",
"disp(C,'Diffisuion coefficient/Hole mobility (in volts) = ')\n",
"disp('Verified according to Einstein Relation')"
   ]
   }
],
"metadata": {
		  "kernelspec": {
		   "display_name": "Scilab",
		   "language": "scilab",
		   "name": "scilab"
		  },
		  "language_info": {
		   "file_extension": ".sce",
		   "help_links": [
			{
			 "text": "MetaKernel Magics",
			 "url": "https://github.com/calysto/metakernel/blob/master/metakernel/magics/README.md"
			}
		   ],
		   "mimetype": "text/x-octave",
		   "name": "scilab",
		   "version": "0.7.1"
		  }
		 },
		 "nbformat": 4,
		 "nbformat_minor": 0
}
