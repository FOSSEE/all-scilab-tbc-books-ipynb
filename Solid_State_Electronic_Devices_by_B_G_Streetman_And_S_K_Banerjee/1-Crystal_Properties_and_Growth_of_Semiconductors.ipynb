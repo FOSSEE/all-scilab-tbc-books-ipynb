{
"cells": [
 {
		   "cell_type": "markdown",
	   "metadata": {},
	   "source": [
       "# Chapter 1: Crystal Properties and Growth of Semiconductors"
	   ]
	},
{
		   "cell_type": "markdown",
		   "metadata": {},
		   "source": [
			"## Example 1.1: Maximum_packing_fraction.sce"
		   ]
		  },
  {
"cell_type": "code",
	   "execution_count": null,
	   "metadata": {
	    "collapsed": true
	   },
	   "outputs": [],
"source": [
"a = 5; // lattice constant \n",
"b = 0.5*sqrt(a^2 + a^2 +a^2); //separation between nearest atoms \n",
"r = 0.5*b; //radius of each atom\n",
"V = 4/3*%pi*r*r*r; //Volume of each atom\n",
"n = 1+8*0.125; //number of atoms per cube\n",
"pf = V*n/(a*a*a); //packing fraction\n",
"disp('1)')\n",
"disp(a,'lattice constant (in armstrong)=')\n",
"disp(r,'radius of atoms (in armstrong) =')\n",
"disp(pf,'maximum packing fraction =')"
   ]
   }
,
{
		   "cell_type": "markdown",
		   "metadata": {},
		   "source": [
			"## Example 1.2: planes_and_directions.sce"
		   ]
		  },
  {
"cell_type": "code",
	   "execution_count": null,
	   "metadata": {
	    "collapsed": true
	   },
	   "outputs": [],
"source": [
"disp('The plane illustrated in Fig. 1-5 has intercepts at 2a, 4b and lc along the three crystal axes. Taking the reciprocals of these intercepts, we get 1/4, 1/2,and 1. These three fractions have the same relationship to each other as the integers 2,1, and 4 (obtained by multiplying each fraction by 4).Thus the plane can be referred to as a (214) plane. The only exception is if the intercept is a fraction of the lattice constant a. In that case, we do not reduce it to the lowest set of integers.')\n",
"x = 0:0.05:2;\n",
"y = 0:0.1:4;\n",
"a=2;\n",
"b=4;\n",
"c=1;\n",
"deff('[z]=fs(x,y)','z = (1-(0.5*x)-(0.25*y))');\n",
"//z = (1-(0.5*x)-(0.25*y));\n",
"fplot3d(x,y,fs);\n",
""
   ]
   }
,
{
		   "cell_type": "markdown",
		   "metadata": {},
		   "source": [
			"## Example 1.3: Volume_density_of_Silicon_in_lattice.sce"
		   ]
		  },
  {
"cell_type": "code",
	   "execution_count": null,
	   "metadata": {
	    "collapsed": true
	   },
	   "outputs": [],
"source": [
"a = 5.43*10^-8; // lattice constant \n",
"d = (1+4*0.25)/(a*a); //areal density on (100) plane\n",
"n = 2*(6*0.5+8*0.125); //number of atoms per cube\n",
"V = n/(a*a*a); //volume density\n",
"disp('3)')\n",
"disp(a,'lattice constant (in cm)=')\n",
"disp(d,'areal density on (100) plane (in per cm square) =')\n",
"disp(V,'volume density (in per cm cube) =')"
   ]
   }
,
{
		   "cell_type": "markdown",
		   "metadata": {},
		   "source": [
			"## Example 1.4: Czochralski_method_for_Silicon_crystal_growth.sce"
		   ]
		  },
  {
"cell_type": "code",
	   "execution_count": null,
	   "metadata": {
	    "collapsed": true
	   },
	   "outputs": [],
"source": [
"n = 10^16; // desired density of P atoms \n",
"k = 0.35;\n",
"l = 5000; //initial load of Si in grams\n",
"w =31;//atomic weight of P\n",
"d = 2.33; //density of Si\n",
"i = n/k; //initial concentration of P in melt, assuming C(S)=kC(L)\n",
"V = l/d; //volume of Si\n",
"N = i*V; //number of P atoms\n",
"W = N*w/(6.02*10^23)\n",
"disp('4.a)')\n",
"disp(n,'desired density of P atoms (per cubic centimeter)=')\n",
"disp(i,'initial concentration of P in melt (in per cubic cm )=')\n",
"disp('4.b)')\n",
"disp(V,'Volume of Si (in cubic cm) =')\n",
"disp(N,'number of P atoms =')\n",
"disp(W,'weight of phosphorus to be added(in grams) =')"
   ]
   }
],
"metadata": {
		  "kernelspec": {
		   "display_name": "Scilab",
		   "language": "scilab",
		   "name": "scilab"
		  },
		  "language_info": {
		   "file_extension": ".sce",
		   "help_links": [
			{
			 "text": "MetaKernel Magics",
			 "url": "https://github.com/calysto/metakernel/blob/master/metakernel/magics/README.md"
			}
		   ],
		   "mimetype": "text/x-octave",
		   "name": "scilab",
		   "version": "0.7.1"
		  }
		 },
		 "nbformat": 4,
		 "nbformat_minor": 0
}
