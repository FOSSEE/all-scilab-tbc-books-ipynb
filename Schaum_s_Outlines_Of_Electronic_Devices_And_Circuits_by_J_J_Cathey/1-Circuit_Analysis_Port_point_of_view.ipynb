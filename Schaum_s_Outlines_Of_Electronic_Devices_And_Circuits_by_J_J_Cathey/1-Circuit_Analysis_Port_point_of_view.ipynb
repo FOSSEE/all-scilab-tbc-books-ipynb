{
"cells": [
 {
		   "cell_type": "markdown",
	   "metadata": {},
	   "source": [
       "# Chapter 1: Circuit Analysis Port point of view"
	   ]
	},
{
		   "cell_type": "markdown",
		   "metadata": {},
		   "source": [
			"## Example 1.11: Determine_the_z_parameters_for_the_two_port_network.sce"
		   ]
		  },
  {
"cell_type": "code",
	   "execution_count": null,
	   "metadata": {
	    "collapsed": true
	   },
	   "outputs": [],
"source": [
"//Solved Example 1.11 Page no 14\n",
"//Find the half-cycle average value of the current through a resistance R \n",
"clear\n",
"clc\n",
"printf('\n Find the Norton equivalent current IN and admittance YN')\n",
"Va=4.0//V\n",
"a=0.25//A/V\n",
"R1=2//ohm\n",
"R2=3//ohm\n",
"I=2\n",
"Zth=5\n",
"Ia=(Va/(R1+R2))+((R1*I)/(R1+R2))\n",
"Yn=1/Zth\n",
"printf('\n Norton equivalent current IN  is = %.2f V',Ia)\n",
"printf('\n admittance YN is = %.2f Ohm',Yn)"
   ]
   }
,
{
		   "cell_type": "markdown",
		   "metadata": {},
		   "source": [
			"## Example 1.12: Solve_Problem_using_a_SPICE_method.sce"
		   ]
		  },
  {
"cell_type": "code",
	   "execution_count": null,
	   "metadata": {
	    "collapsed": true
	   },
	   "outputs": [],
"source": [
"//Solve Problem 1.11 using a SPICE method\n",
"//Solved Example 1.12 page no 21\n",
"clear\n",
"clc\n",
"printf('\nSolve Problem 1.11 using a SPICE method')\n",
"V1=1.231*(10^-2)    //V\n",
"I1=1*(10^-3)        //A\n",
"Z11=V1/I1         //Ohm\n",
"printf('\n The value of Z11=%0.2f Ohm',Z11)\n",
"V1=2.308*(10^-3)    //V\n",
"I2=1*(10^-3)        //A\n",
"Z12=V1/I2         //Ohm\n",
"printf('\n The value of Z12=%0.3f Ohm',Z12)\n",
"V2=4.615*(10^-3)    //V\n",
"I1=1*(10^-3)        //A\n",
"Z21=V2/I1           //Ohm\n",
"printf('\n The value of Z21=%0.3f Ohm',Z21)\n",
"V2=4.615*(10^-3)      //V\n",
"I2=1*(10^-3)          //A\n",
"Z22=V2/I2             //Ohm\n",
"printf('\n The value of Z22=%0.3f Ohm',Z22)"
   ]
   }
,
{
		   "cell_type": "markdown",
		   "metadata": {},
		   "source": [
			"## Example 1.13: Determine_the_h_parameters_for_the_two_port_network.sce"
		   ]
		  },
  {
"cell_type": "code",
	   "execution_count": null,
	   "metadata": {
	    "collapsed": true
	   },
	   "outputs": [],
"source": [
"//Determine the h parameters for the two-port network\n",
"//Solved Example 1.13 page no 22\n",
"clear\n",
"clc\n",
"printf('\nDetermine the h parameters for the two-port network')\n",
"V2=0        //V\n",
"Ia=0        //A\n",
"//h11=V1/I1\n",
"h11=10      //ohm\n",
"//Here I2=-I1\n",
"//Therefor h21=I2/I1 h21=-1\n",
"h21=-1 //ohm\n",
"Ia=V2/6    //A\n",
"I1=0        //A\n",
"V1=V2-10*(0.3)  //V\n",
"//h12=V1/V2\n",
"h12=0.5 //Ohm\n",
"I2=1.3  //A\n",
"V2=6    //V\n",
"h22=I2/V2   //Ohm\n",
"printf('\nThe value of h11=%1.3f ohm h21=%1.3f ohm h12=%1.3f ohm h22=%1.3f',h11,h21,h12,h22)\n",
""
   ]
   }
,
{
		   "cell_type": "markdown",
		   "metadata": {},
		   "source": [
			"## Example 1.15: Find_the_voltage_gain_ratio_V2_by_V1.sce"
		   ]
		  },
  {
"cell_type": "code",
	   "execution_count": null,
	   "metadata": {
	    "collapsed": true
	   },
	   "outputs": [],
"source": [
"//Find the voltage-gain ratio V2/V1\n",
"//Solved Example 1.15 page no 23\n",
"clear\n",
"clc\n",
"printf('\nFind the voltage-gain ratio V2/V1')\n",
"//Let V=V2/V1\n",
"RL=2000\n",
"h11=100 //ohm\n",
"h12=0.0025 //ohm\n",
"h21=20 //ohm\n",
"h22=0.001 //mS\n",
"V=1/(h12-(h11/h21)*((1/RL)+h22))\n",
"printf('\n The value of V2/V1=%0.1f',V)"
   ]
   }
,
{
		   "cell_type": "markdown",
		   "metadata": {},
		   "source": [
			"## Example 1.19: Find_the_average_value_of_the_current_and_the_rms_value_of_the_current.sce"
		   ]
		  },
  {
"cell_type": "code",
	   "execution_count": null,
	   "metadata": {
	    "collapsed": true
	   },
	   "outputs": [],
"source": [
"\n",
"//Find (a) the average value of the current and (b) the rms value of the current..\n",
"//Solved Example 1.19 page no 25\n",
"clear\n",
"clc\n",
"printf('\nFind (a) the average value of the current and (b) the rms value of the current.')\n",
"T=1\n",
"I0=(1/T)*(4*(T/2)+1*(T/2))//A\n",
"printf('\nI0=%0.1f A',I0)\n",
"I=(2*(1/T)*((4^2)*(T/2)+(1^2)*(T/2)))^(1/2)//A\n",
"printf('\nI=%0.2f A',I)"
   ]
   }
,
{
		   "cell_type": "markdown",
		   "metadata": {},
		   "source": [
			"## Example 1.2: Find_the_current_i_by_superposition_theorem.sce"
		   ]
		  },
  {
"cell_type": "code",
	   "execution_count": null,
	   "metadata": {
	    "collapsed": true
	   },
	   "outputs": [],
"source": [
"//Solved Example 1.2 \n",
"//Page no 4\n",
"//Find the current i2 by superposition theorem\n",
"clear\n",
"clc\n",
"printf('\n Find the current i2 by superposition theorem')\n",
"R1=1            //ohm\n",
"R2=1            //ohm\n",
"R3=1            //ohm\n",
"Vs=10           //simWtv\n",
"Vb=10              //v\n",
"a=0\n",
"V21=1/3*Vs//simWtv\n",
"i21=V21/R2\n",
"Is=3//A\n",
"temp=R1*R2/(R1+R2)//Temp=R1||R2\n",
"i32=Vb/(R3+temp)\n",
"i22=(R1/(R1+R2))*i32\n",
"i2=i21+i22\n",
"i1=(Vs/(R1+R2))\n",
"printf('\n the current i2 by superposition theorem = %1.2f A',i2)"
   ]
   }
,
{
		   "cell_type": "markdown",
		   "metadata": {},
		   "source": [
			"## Example 1.3: EX1_3.sce"
		   ]
		  },
  {
"cell_type": "code",
	   "execution_count": null,
	   "metadata": {
	    "collapsed": true
	   },
	   "outputs": [],
"source": [
"//Solved Example 1.3 Page no 5\n",
"//Find the Thevenin equivalent voltage VTh and impedance ZTh\n",
"clear\n",
"clc\n",
"printf('\n Find the Thevenin equivalent voltage VTh and impedance ZTh')\n",
"Va=4//V\n",
"Ia=2//A\n",
"R1=2//ohm\n",
"R2=3//ohm\n",
"Vth=Va+Ia*R1\n",
"Zth=R1+R2\n",
"printf('\n Thevenin equivalent voltage VTh  is = %.2f V',Vth)\n",
"printf('\n Impedance ZTh is = %1.1f Ohm',Zth)"
   ]
   }
,
{
		   "cell_type": "markdown",
		   "metadata": {},
		   "source": [
			"## Example 1.4: For_the_circuit_find_vab.sce"
		   ]
		  },
  {
"cell_type": "code",
	   "execution_count": null,
	   "metadata": {
	    "collapsed": true
	   },
	   "outputs": [],
"source": [
"//Solved Example 1.4 \n",
"//Page no 6\n",
"//Findthe Thevenin equivalent voltage VTh and impedance ZTh\n",
"clear\n",
"clc\n",
"printf('\n Find the Thevenin equivalent voltage VTh and impedance ZTh')\n",
"Va=4//V\n",
"a=0.25//A/V\n",
"R1=2//ohm\n",
"R2=3//ohm\n",
"Vth=Va/(1-a*R1)\n",
"Vdp=R1+R2\n",
"Idp=1-a*R1\n",
"Zth=Vdp/Idp\n",
"printf('\n Thevenin equivalent voltage VTh  is = %.f V',Vth)\n",
"printf('\n Impedance ZTh is = %.f Ohm',Zth)"
   ]
   }
,
{
		   "cell_type": "markdown",
		   "metadata": {},
		   "source": [
			"## Example 1.5: For_the_circuit_find_vab.sce"
		   ]
		  },
  {
"cell_type": "code",
	   "execution_count": null,
	   "metadata": {
	    "collapsed": true
	   },
	   "outputs": [],
"source": [
"//For the circuit find vab\n",
"//Solved Example 1.5 page no 17\n",
"clear\n",
"clc\n",
"printf('\n For the circuit find vab')\n",
"printf('\n The SPICE netlist code for k 0:001 follows')\n",
"printf('\n vab=V(3)=-101 V')\n",
"printf('\n The SPICE netlist code for k  0:05 follows')\n",
"printf('\ nvab=V(3)=-200 V')\n",
""
   ]
   }
,
{
		   "cell_type": "markdown",
		   "metadata": {},
		   "source": [
			"## Example 1.6: For_the_circuit_find_iL_by_the_method_of_node_voltages.sce"
		   ]
		  },
  {
"cell_type": "code",
	   "execution_count": null,
	   "metadata": {
	    "collapsed": true
	   },
	   "outputs": [],
"source": [
"//Solved Example 1.6 \n",
"//Page no 7\n",
"//Find the Norton equivalent current IN and admittance YN\n",
"clear\n",
"clc\n",
"printf('\n Find the Norton equivalent current IN and admittance YN')\n",
"Va=4.0//V\n",
"a=0.25//A/V\n",
"R1=2//ohm\n",
"R2=3//ohm\n",
"I=2\n",
"Zth=5\n",
"Ia=(Va/(R1+R2))+((R1*I)/(R1+R2))\n",
"Yn=1/Zth\n",
"printf('\n Norton equivalent current IN  is = %.2f V',Ia)\n",
"printf('\n admittance YN is = %.2f Ohm',Yn)"
   ]
   }
,
{
		   "cell_type": "markdown",
		   "metadata": {},
		   "source": [
			"## Example 1.7: find_the_Thevenin_equivalent_for_the_network_to_the_left_of_terminals_a_and_b.sce"
		   ]
		  },
  {
"cell_type": "code",
	   "execution_count": null,
	   "metadata": {
	    "collapsed": true
	   },
	   "outputs": [],
"source": [
"\n",
"//find the Thevenin equivalent for the network to the left of terminals a; b.\n",
"//Solved Example 1.7 \n",
"//page no 19\n",
"clear\n",
"clc\n",
"printf('\n find the The´venin equivalent for the network to the left of terminals a; b.')\n",
"V1=10//V\n",
"V2=15//V\n",
"R1=4//ohm\n",
"R2=6//ohm\n",
"I=(V1-V2)/(R1+R2)\n",
"printf('\n The value of I is =%0.2f A',I)\n",
"Vth=V1-I*R1\n",
"printf('\n The value of Thevenin Equivalent voltage=%0.2f V',Vth)\n",
"Zth=(R1*R2)/(R1+R2)\n",
"printf('\n The value of Thevenin Impedance =%0.2f  ohm',Zth)"
   ]
   }
,
{
		   "cell_type": "markdown",
		   "metadata": {},
		   "source": [
			"## Example 1.8: find_the_Norton_equivalent_for_the_network_to_the_left_of_terminals_a_andb.sce"
		   ]
		  },
  {
"cell_type": "code",
	   "execution_count": null,
	   "metadata": {
	    "collapsed": true
	   },
	   "outputs": [],
"source": [
"\n",
"//find the Norton equivalent for the network to the left of terminals a; b.\n",
"//Solved Example 1.8 page no 19\n",
"clear\n",
"clc\n",
"printf('\n find the Norton equivalent for the network to the left of termin')\n",
"V1=10//V\n",
"V2=15//V\n",
"R1=4//ohm\n",
"R2=6//ohm\n",
"Iab1=V1/R1\n",
"Iab2=V2/R2\n",
"printf('\n Then by superpostion ')\n",
"In=Iab1+Iab2\n",
"Zth=(R1*R2)/(R1+R2)\n",
"Yn=1/Zth//Rth=Zth\n",
"printf('\n The value of In =%0.2f A and Yn= %0.4f A',In,Yn)\n",
""
   ]
   }
,
{
		   "cell_type": "markdown",
		   "metadata": {},
		   "source": [
			"## Example 1.9: EX1_9.sce"
		   ]
		  },
  {
"cell_type": "code",
	   "execution_count": null,
	   "metadata": {
	    "collapsed": true
	   },
	   "outputs": [],
"source": [
"\n",
"//find the The´venin impedance as the ratio of open-circuit voltage to short-circuit current\n",
"//Solved Example 1.9 page no 20\n",
"clear\n",
"clc\n",
"printf('\n find the The´venin impedance as the ratio of open-circuit voltage to short-circuit current')\n",
"V1=10//V\n",
"V2=15//V\n",
"R1=4//ohm\n",
"R2=6//ohm\n",
"I=(V1-V2)/(R1+R2)\n",
"printf('\n The value of I is =%0.2f A',I)\n",
"Vth=V1-I*R1\n",
"Iab1=V1/R1\n",
"Iab2=V2/R2\n",
"printf('\n Then by superpostion ')\n",
"In=Iab1+Iab2\n",
"Zth=Vth/In\n",
"printf('\n The value of Zth is =%0.2f ohm',Zth)\n",
""
   ]
   }
],
"metadata": {
		  "kernelspec": {
		   "display_name": "Scilab",
		   "language": "scilab",
		   "name": "scilab"
		  },
		  "language_info": {
		   "file_extension": ".sce",
		   "help_links": [
			{
			 "text": "MetaKernel Magics",
			 "url": "https://github.com/calysto/metakernel/blob/master/metakernel/magics/README.md"
			}
		   ],
		   "mimetype": "text/x-octave",
		   "name": "scilab",
		   "version": "0.7.1"
		  }
		 },
		 "nbformat": 4,
		 "nbformat_minor": 0
}
