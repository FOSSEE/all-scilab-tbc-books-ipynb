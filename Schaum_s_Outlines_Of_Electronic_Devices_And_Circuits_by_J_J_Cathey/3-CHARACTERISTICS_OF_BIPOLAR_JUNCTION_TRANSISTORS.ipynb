{
"cells": [
 {
		   "cell_type": "markdown",
	   "metadata": {},
	   "source": [
       "# Chapter 3: CHARACTERISTICS OF BIPOLAR JUNCTION TRANSISTORS"
	   ]
	},
{
		   "cell_type": "markdown",
		   "metadata": {},
		   "source": [
			"## Example 3.12: Solved_Example_Ex12_page_no_87_Find_Re.sce"
		   ]
		  },
  {
"cell_type": "code",
	   "execution_count": null,
	   "metadata": {
	    "collapsed": true
	   },
	   "outputs": [],
"source": [
"//Find KVL around the emitter-base loop\n",
"//Solved Example Ex3.12 page no 87\n",
"clear\n",
"clc\n",
"Vceq=-6.4       //V\n",
"Vbeq=-0.3          //V\n",
"Vcbq=Vceq-Vbeq      //V\n",
"printf('\n  Vcbq = %0.2f  V',Vcbq)\n",
"Vee=2\n",
"Ieq=3\n",
"Re=((Vee+Vbeq)/Ieq)*1000\n",
"printf('\n  Re = %0.2f  Ohm',Re)"
   ]
   }
,
{
		   "cell_type": "markdown",
		   "metadata": {},
		   "source": [
			"## Example 3.13: Solved_Example_Ex_13_page_no_88_Find_Re.sce"
		   ]
		  },
  {
"cell_type": "code",
	   "execution_count": null,
	   "metadata": {
	    "collapsed": true
	   },
	   "outputs": [],
"source": [
"// Find KVL around the transistor terminals,\n",
"//Solved Example Ex3.13 page no 88\n",
"clear\n",
"clc\n",
"Vcc=12          //V\n",
"Vceq=6          //V\n",
"hf=100\n",
"Rc=2//*10^3     //kΩ\n",
"Ibq=((Vcc-Vceq)/((hf+1)*Rc))*1000\n",
"printf('\n  Ibq = %0.2f  mA',Ibq)\n",
"Vbeq=0.7\n",
"Rf=((Vceq-Vbeq)/Ibq)*1000\n",
"printf('\n  Rf = %0.2f  Ohm',Rf)"
   ]
   }
,
{
		   "cell_type": "markdown",
		   "metadata": {},
		   "source": [
			"## Example 3.16: Solved_Example_Ex_16_page_no_89_Find_the_minimum_value_of_RC.sce"
		   ]
		  },
  {
"cell_type": "code",
	   "execution_count": null,
	   "metadata": {
	    "collapsed": true
	   },
	   "outputs": [],
"source": [
"//Solved Example Ex3.16 page no 89\n",
"clear\n",
"clc\n",
"b=80\n",
"a=(b/(b+1))\n",
"Ibq=30\n",
"Icq=Ibq*b/1000\n",
"printf('\n  Icq = %0.2f  mA',Icq)\n",
"Ieq=(Icq/a)\n",
"printf('\n  Ieq = %0.2f  OmA',Ieq)"
   ]
   }
,
{
		   "cell_type": "markdown",
		   "metadata": {},
		   "source": [
			"## Example 3.19: Find_the_value_of_RB_that_just_results_in_saturation.sce"
		   ]
		  },
  {
"cell_type": "code",
	   "execution_count": null,
	   "metadata": {
	    "collapsed": true
	   },
	   "outputs": [],
"source": [
"//Find the value of RB that just results in saturation if (a) the capacitor is present, and \n",
"//(b) the capacitor is replaced with a short circuit.\n",
"//Solved Example Ex3.19 page no 91  \n",
"clear\n",
"clc\n",
"b=50\n",
"Vbeq=0.3  //V\n",
"Vcc=12//v\n",
"Vs=2//v\n",
"Rc=4//Kohm\n",
"Rs=100//Kohm\n",
"Vce=0.2\n",
"Icq=(Vcc-Vce)/Rc\n",
"printf('\n  Icq = %0.2f  mA',Icq)\n",
"Rb=((Vcc-Vbeq)/(Icq/b))\n",
"printf('\n  Rb = %0.2f  Ohm',Rb)"
   ]
   }
,
{
		   "cell_type": "markdown",
		   "metadata": {},
		   "source": [
			"## Example 3.1: Find_Ib_and_Ie.sce"
		   ]
		  },
  {
"cell_type": "code",
	   "execution_count": null,
	   "metadata": {
	    "collapsed": true
	   },
	   "outputs": [],
"source": [
"//Find IB and IE.\n",
"//Solved Example Ex3.1 page no 83\n",
"clear\n",
"clc\n",
"betaa=50\n",
"Ic=1.2          //mA\n",
"Iceo=3*10^-3    //mA\n",
"Ib=((Ic-Iceo)/betaa)*1000       //mA\n",
"printf('Ib = %0.2f X 10^-3 mA',Ib)\n",
"IE=(Ic)-(Ib*10^-3)\n",
"printf('\n IE = %0.2f  mA',IE)"
   ]
   }
,
{
		   "cell_type": "markdown",
		   "metadata": {},
		   "source": [
			"## Example 3.20: Find_the_value_of_R1_needed_to_bias_the_circuit_so_that_VCEQ2_6V.sce"
		   ]
		  },
  {
"cell_type": "code",
	   "execution_count": null,
	   "metadata": {
	    "collapsed": true
	   },
	   "outputs": [],
"source": [
"//Find the value of R1 needed to bias the circuit so that VCEQ2 = 6V. (b) with R1 as found in part a, find VCEQ1.\n",
"//Solved Example Ex3.20 page no 91  \n",
"clear\n",
"clc\n",
"b=50\n",
"b2=50\n",
"Vce=6       //V\n",
"Re=1        //kΩ\n",
"Vcc=12//v   //V\n",
"Ieq2=(Vcc-Vce)/Re\n",
"printf('\n  Ieq2 = %0.2f  mA',Ieq2)\n",
"Ibq2=(Ieq2/((b+1)*(b2+1)))*1000\n",
"printf('\n  Ibq2 = %0.2f  mA',Ibq2)"
   ]
   }
,
{
		   "cell_type": "markdown",
		   "metadata": {},
		   "source": [
			"## Example 3.23: Solved_Example_Ex_23_page_no_94_find_IBQ_and_VCEQ.sce"
		   ]
		  },
  {
"cell_type": "code",
	   "execution_count": null,
	   "metadata": {
	    "collapsed": true
	   },
	   "outputs": [],
"source": [
"//Find the minimum value of RC that will maintain the transistor quiescent point at saturation,\n",
"//Solved Example Ex3.16 page no 89\n",
"clear\n",
"clc\n",
"b=80\n",
"a=(b/(b+1))\n",
"Ibq=30              //mA        \n",
"Icq=Ibq*b/1000      //mA\n",
"printf('\n  Icq = %0.2f  mA',Icq)\n",
"Ieq=(Icq/a)\n",
"printf('\n  Ieq = %0.2f  OmA',Ieq)"
   ]
   }
,
{
		   "cell_type": "markdown",
		   "metadata": {},
		   "source": [
			"## Example 3.26: Solved_Example_Ex_26_page_no_96_Find_R1_and_R2.sce"
		   ]
		  },
  {
"cell_type": "code",
	   "execution_count": null,
	   "metadata": {
	    "collapsed": true
	   },
	   "outputs": [],
"source": [
"//Find R1 and R2\n",
"//Solved Example Ex3.26 page no 96  \n",
"clear\n",
"clc\n",
"b=100\n",
"Vbeq=0.7            //V\n",
"Vcc=15              //V\n",
"Re=300              //kΩ\n",
"Rc=500              //kΩ\n",
"Icq=((Vcc)/(2*(Re+Rc)))*1000\n",
"printf('\n  Icq = %0.2f  mA',Icq)\n",
"Rb=(b*Re/10)/1000\n",
"printf('\n  Rb = %0.2f  Kohm',Rb)\n",
"Vbb=Vbeq+Icq*(1.1*Re)/1000\n",
"printf('\n  Vbb = %0.2f  V',Vbb)\n",
"R1=Rb/(1-Vbb/Vcc)\n",
"printf('\n  R1 = %0.2f  Kohm',R1)\n",
"R2=Rb*(Vcc/Vbb)\n",
"printf('\n  R2 = %0.2f  Kohm',R2)"
   ]
   }
,
{
		   "cell_type": "markdown",
		   "metadata": {},
		   "source": [
			"## Example 3.2: Find_the_collector_current.sce"
		   ]
		  },
  {
"cell_type": "code",
	   "execution_count": null,
	   "metadata": {
	    "collapsed": true
	   },
	   "outputs": [],
"source": [
"//find the collector current for  (a) IB = 0 and (b) IB = 40 A.\n",
"//Solved Example Ex3.2 page no 83\n",
"clear\n",
"clc\n",
"betaa=100\n",
"Ib=0                //mA\n",
"Icbo=5//V           //mA\n",
"Iceo=(betaa+1)*Icbo     //mA\n",
"printf('\n When Ib =0 Iceo = %0.2f  mA',Iceo)\n",
"Ib=40\n",
"Ic=((betaa*Ib)+(betaa+1)*Icbo)/1000\n",
"printf('\n When Ib =40 Ic = %0.3f  mA',Ic)"
   ]
   }
,
{
		   "cell_type": "markdown",
		   "metadata": {},
		   "source": [
			"## Example 3.32: Solved_Example_Ex_32_page_no_99_Determine_the_value_of_RB.sce"
		   ]
		  },
  {
"cell_type": "code",
	   "execution_count": null,
	   "metadata": {
	    "collapsed": true
	   },
	   "outputs": [],
"source": [
"// Find the value of . (c) Determine the value of RB.\n",
"//Solved Example Ex3.32 page no 99  \n",
"clear\n",
"clc\n",
"Vcc=12          //v\n",
"Vbeq=0.7        //v\n",
"Re=1*10^3       //kΩ\n",
"Icq=6*10^3      //mA\n",
"Ibq=50*10^-3    //mA\n",
"b=Icq/Ibq\n",
"printf('\n  B = %0.2f  mA',b)"
   ]
   }
,
{
		   "cell_type": "markdown",
		   "metadata": {},
		   "source": [
			"## Example 3.3: Find_Icq_and_Ieq.sce"
		   ]
		  },
  {
"cell_type": "code",
	   "execution_count": null,
	   "metadata": {
	    "collapsed": true
	   },
	   "outputs": [],
"source": [
"//Find ICQ and IEQ.\n",
"//Solved Example Ex3.3 page no 83\n",
"clear\n",
"clc\n",
"alpha=0.98\n",
"betaa=alpha/(1-alpha)\n",
"Icbo=(5*10^-3)      //mA\n",
"Iceo=(betaa+1)*Icbo     //mA\n",
"printf('\n  Iceo = %0.2f  mA',Iceo)\n",
"Ibq=100*10^-3\n",
"Icq=(betaa*Ibq)+Iceo\n",
"printf('\n  Icq = %0.2f  mA',Icq)\n",
"Ieq=Icq+Ibq\n",
"printf('\n  Ieq = %0.2f  mA',Ieq)"
   ]
   }
,
{
		   "cell_type": "markdown",
		   "metadata": {},
		   "source": [
			"## Example 3.4: Find_beta_Icq_and_Ieq.sce"
		   ]
		  },
  {
"cell_type": "code",
	   "execution_count": null,
	   "metadata": {
	    "collapsed": true
	   },
	   "outputs": [],
"source": [
"//Find (a)Beta ; b() ICQ ,and (c) IEQ.\n",
"//Solved Example Ex3.4 page no 83\n",
"clear\n",
"clc\n",
"alpha=0.98\n",
"betaa=alpha/(1-alpha)\n",
"printf('\n  Beta = %0.3f  ',betaa)\n",
"Icq=1.47            //mA\n",
"Ieq=Icq/alpha       //mA\n",
"printf('\n  Ieq = %0.3f  mA',Ieq)"
   ]
   }
,
{
		   "cell_type": "markdown",
		   "metadata": {},
		   "source": [
			"## Example 3.5: Find_the_required_value_of_RB.sce"
		   ]
		  },
  {
"cell_type": "code",
	   "execution_count": null,
	   "metadata": {
	    "collapsed": true
	   },
	   "outputs": [],
"source": [
"//Find the required value of RB.\n",
"//Solved Example Ex3.5 page no 84\n",
"clear\n",
"clc\n",
"Vbb=6           //V\n",
"Vbeq=0.7        //V\n",
"Ibq=40//10^-6\n",
"Rb=((Vbb-Vbeq)/Ibq)*1000\n",
"printf('\n  Rb = %0.1f  k ohm',Rb)"
   ]
   }
,
{
		   "cell_type": "markdown",
		   "metadata": {},
		   "source": [
			"## Example 3.6: Find_VCEQ_if_RC_is_changed_to_6_k.sce"
		   ]
		  },
  {
"cell_type": "code",
	   "execution_count": null,
	   "metadata": {
	    "collapsed": true
	   },
	   "outputs": [],
"source": [
"//find (a) IEQ and (b) VCEQ. (c) Find VCEQ if RC is changed to 6 k and all else remains the same.\n",
"//Solved Example Ex3.6 page no 84\n",
"clear\n",
"clc\n",
"b=100\n",
"a=b/(b+1)\n",
"Ibq=20//10^-6           //mA\n",
"Icq=(b*Ibq)/1000        //mA\n",
"Ieq=Icq/a               //mA\n",
"printf('\n  Icq = %0.1f  mA',Icq)\n",
"printf('\n  Ieq = %0.2f  mA',Ieq)\n",
""
   ]
   }
,
{
		   "cell_type": "markdown",
		   "metadata": {},
		   "source": [
			"## Example 3.7: Find_Vceq.sce"
		   ]
		  },
  {
"cell_type": "code",
	   "execution_count": null,
	   "metadata": {
	    "collapsed": true
	   },
	   "outputs": [],
"source": [
"//find (a) IEQ and (b) RB.(c) find VCEQ\n",
"//Solved Example Ex3.7 page no 85\n",
"clear\n",
"clc\n",
"b=80\n",
"a=b/(b+1)\n",
"Ibq=40//10^-6           //mA\n",
"Ieq=(Ibq/(1-a))/1000       //mA\n",
"printf('\n  Ieq = %0.2f  mA',Ieq)\n",
"Icq=(b*Ibq)/1000\n",
"printf('\n  Icq = %0.2f  mA',Icq)\n",
""
   ]
   }
,
{
		   "cell_type": "markdown",
		   "metadata": {},
		   "source": [
			"## Example 3.8: Find_Rc_and_beta.sce"
		   ]
		  },
  {
"cell_type": "code",
	   "execution_count": null,
	   "metadata": {
	    "collapsed": true
	   },
	   "outputs": [],
"source": [
"//find graphically (a) ICQ; ðbÞ RC; ðcÞ IEQ, and (d)  if leakage current is negligible.\n",
"//Solved Example Ex3.8 page no 85\n",
"clear\n",
"clc\n",
"Vcc=14              //V\n",
"Rc=(14/(6.5*10^-3))/1000        //kΩ\n",
"Icq=2.25                //mA\n",
"Ibq=20*10^-3            //mA\n",
"Ieq=Icq+Ibq             //mA\n",
"printf('\n  Ieq = %0.2f  mA',Ieq)\n",
"b=Icq/Ibq\n",
"printf('\n  Beta = %0.2f  mA',b)"
   ]
   }
,
{
		   "cell_type": "markdown",
		   "metadata": {},
		   "source": [
			"## Example 3.9: Find_the_Q_point_collector_current_ICQ.sce"
		   ]
		  },
  {
"cell_type": "code",
	   "execution_count": null,
	   "metadata": {
	    "collapsed": true
	   },
	   "outputs": [],
"source": [
"//Find the Q-point collector current ICQ.\n",
"//Solved Example Ex3.9 page no 85\n",
"clear\n",
"clc\n",
"b=70\n",
"Vcc=15          //V\n",
"Vbeq=0.7        //V\n",
"Iceo=1.42       //mA\n",
"Rb=500//*10^3   //kΩ\n",
"Ibq=((Vcc-Vbeq)/Rb)*1000\n",
"printf('\n  Ibq = %0.2f  mA',Ibq)\n",
"Icq=((b*Ibq/1000)+Iceo)\n",
"printf('\n  Icq = %0.2f  mA',Icq)"
   ]
   }
],
"metadata": {
		  "kernelspec": {
		   "display_name": "Scilab",
		   "language": "scilab",
		   "name": "scilab"
		  },
		  "language_info": {
		   "file_extension": ".sce",
		   "help_links": [
			{
			 "text": "MetaKernel Magics",
			 "url": "https://github.com/calysto/metakernel/blob/master/metakernel/magics/README.md"
			}
		   ],
		   "mimetype": "text/x-octave",
		   "name": "scilab",
		   "version": "0.7.1"
		  }
		 },
		 "nbformat": 4,
		 "nbformat_minor": 0
}
