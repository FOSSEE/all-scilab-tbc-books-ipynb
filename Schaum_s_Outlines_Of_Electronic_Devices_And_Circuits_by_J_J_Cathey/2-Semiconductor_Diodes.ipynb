{
"cells": [
 {
		   "cell_type": "markdown",
	   "metadata": {},
	   "source": [
       "# Chapter 2: Semiconductor Diodes"
	   ]
	},
{
		   "cell_type": "markdown",
		   "metadata": {},
		   "source": [
			"## Example 2.11: Find_the_value_of_Rl.sce"
		   ]
		  },
  {
"cell_type": "code",
	   "execution_count": null,
	   "metadata": {
	    "collapsed": true
	   },
	   "outputs": [],
"source": [
"\n",
"//Solved Example Ex2.11 page no 54\n",
"clear\n",
"clc\n",
"Rs=200//Ω\n",
"R1=200//Ω\n",
"Rl=50//kΩ\n",
"vs=400 //sin wt V\n",
"vth=(R1/(R1+Rs))*vs\n",
"printf('\n vth =%d sin wt V',vth)\n",
"Rth=((R1*Rs)/(R1+Rs))\n",
"printf('\n Rth =%d ohm',Rth)\n",
"id=-2*10^(-6)\n",
"Rl=Rl*(10^3)\n",
"vD=vth-(id)*(Rth+Rl)\n",
"printf('\n vD =%0.1f V',vD)"
   ]
   }
,
{
		   "cell_type": "markdown",
		   "metadata": {},
		   "source": [
			"## Example 2.13: Find_the_regulation_of_vo_when_Vb_increases.sce"
		   ]
		  },
  {
"cell_type": "code",
	   "execution_count": null,
	   "metadata": {
	    "collapsed": true
	   },
	   "outputs": [],
"source": [
"//Find the regulation of vo when Vb increases from its nominal value of 4V to the value 6 V.\n",
"//Solved Example Ex2.13 page no 55\n",
"clear\n",
"clc\n",
"Vf1=1//v\n",
"Vf2=2//v\n",
"Rf1=100//Ω\n",
"Rf2=200//Ω\n",
"Vb1=4//v\n",
"Vb2=6//v\n",
"R=2000\n",
"V01=Vf2+((Vb1-Vf1-Vf2)*Rf2)/(R+Rf1+Rf2)\n",
"V02=Vf2+((Vb2-Vf1-Vf2)*Rf2)/(R+Rf1+Rf2)\n",
"Reg=((V02-V01)/V01)*100\n",
"printf('V01 is %0.3f and %0.3f',V01,V02)\n",
"printf('Reg = %0.3f',Reg)"
   ]
   }
,
{
		   "cell_type": "markdown",
		   "metadata": {},
		   "source": [
			"## Example 2.14: Find_the_percentage_change_in_the_average_value_of_vL.sce"
		   ]
		  },
  {
"cell_type": "code",
	   "execution_count": null,
	   "metadata": {
	    "collapsed": true
	   },
	   "outputs": [],
"source": [
"//Find the percentage change in the average value of vL over the range of load variation,\n",
"//Solved Example Ex2.14 page no 56\n",
"clear\n",
"clc\n",
"Rl=10//Ω\n",
"Rs=10//Ω\n",
"Vs=10//v\n",
"Vl=(Rl/(Rl+Rs))*Vs      //V\n",
"printf('Vl = %0.3f',Vl)\n",
"Vl01=2.5//V\n",
"printf('\n For Rl=1000')\n",
"Rl=1000\n",
"Vs=10\n",
"Rs=10\n",
"Vl=(Rl/(Rl+Rs))*Vs\n",
"printf('\nVl = %0.3f',Vl)\n",
"Vl02=4.9//V\n",
"Reg=((Vl02-Vl01)/Vl01)*100\n",
"printf('Reg = %0.3f',Reg)"
   ]
   }
,
{
		   "cell_type": "markdown",
		   "metadata": {},
		   "source": [
			"## Example 2.15: find_the_average_value_of_vL.sce"
		   ]
		  },
  {
"cell_type": "code",
	   "execution_count": null,
	   "metadata": {
	    "collapsed": true
	   },
	   "outputs": [],
"source": [
"//find the averagevalue of vL.\n",
"//Solved Example Ex2.15 page no 56\n",
"clear\n",
"clc\n",
"Rl=10//Ω\n",
"Rs=10//Ω\n",
"Vs=-10//v\n",
"Vl=(Rl/(Rl+Rs))*Vs\n",
"printf('Vl = %0.3f',Vl)\n",
"Vl0=2.5//V\n",
"printf('\n Vl0 Rl=%.3f',Vl0)"
   ]
   }
,
{
		   "cell_type": "markdown",
		   "metadata": {},
		   "source": [
			"## Example 2.1: what_range_of_forward_voltage_drop_vD_can_be_approximated.sce"
		   ]
		  },
  {
"cell_type": "code",
	   "execution_count": null,
	   "metadata": {
	    "collapsed": true
	   },
	   "outputs": [],
"source": [
"//what range of forward voltage drop vD can (2.1) be approximated\n",
"//Solved Example Ex2.1 page no 48\n",
"clear\n",
"clc\n",
"printf('\n what range of forward voltage drop vD can (2.1) be approximated')\n",
"n=1\n",
"k=1.38//x 10^-23\n",
"T=25+273\n",
"q=1.6//x 10^-19\n",
"vd=((k*T)/(1.6*(10^4))*4.6151)\n",
"printf('\n vd = %0.4f V',vd)"
   ]
   }
,
{
		   "cell_type": "markdown",
		   "metadata": {},
		   "source": [
			"## Example 2.26: Find_the_value_of_R2_and_Rth.sce"
		   ]
		  },
  {
"cell_type": "code",
	   "execution_count": null,
	   "metadata": {
	    "collapsed": true
	   },
	   "outputs": [],
"source": [
"//Solved Example Ex2.26 page no 61\n",
"clear\n",
"clc\n",
"R1=6//kΩ\n",
"R2=3//kΩ\n",
"V1=5//v\n",
"V2=10//v\n",
"Rth=(R1*R2/(R1+R2))\n",
"printf('Rth = %0.3f',Rth)\n",
"R2=(R1*Rth/(R1-Rth))\n",
"printf('\nR2 = %0.3f',R2)"
   ]
   }
,
{
		   "cell_type": "markdown",
		   "metadata": {},
		   "source": [
			"## Example 2.2: find_the_forward_current_and_the_reverse_saturation_current.sce"
		   ]
		  },
  {
"cell_type": "code",
	   "execution_count": null,
	   "metadata": {
	    "collapsed": true
	   },
	   "outputs": [],
"source": [
"//(a)find the forward current.\n",
"//(b)Find the reverse saturation current.\n",
"//Solved Example Ex2.2 page no 48\n",
"clear\n",
"clc\n",
"printf('\n find the forward and reverse saturation current')\n",
"iD2=(47.73*10)//mA\n",
"printf('\n iD2= %0.2f',iD2)\n",
"printf('\n iD1/(e^(0.3/0.02587)-1)=91nA')"
   ]
   }
,
{
		   "cell_type": "markdown",
		   "metadata": {},
		   "source": [
			"## Example 2.30: Find_the_value_of_Vz.sce"
		   ]
		  },
  {
"cell_type": "code",
	   "execution_count": null,
	   "metadata": {
	    "collapsed": true
	   },
	   "outputs": [],
"source": [
"\n",
"//Solved Example Ex2.30 page no 65\n",
"clear\n",
"clc\n",
"Vz=8.2      //V\n",
"Rl=9        //kΩ\n",
"iL=Vz/Rl    //mA\n",
"printf('iL = %0.3f A',iL)\n",
"iZ=1\n",
"Vb=13.2\n",
"Rs=((Vb-Vz)/(iZ+iL))\n",
"printf('\n Rs = %0.3f ohm',Rs)\n",
"Vb=11.7\n",
"iZ=((Vb-Vz)/Rs)-iL\n",
"printf('\n iZ = %0.3f',iZ)"
   ]
   }
,
{
		   "cell_type": "markdown",
		   "metadata": {},
		   "source": [
			"## Example 2.31: Find_the_maximum_allowable_current_iZ.sce"
		   ]
		  },
  {
"cell_type": "code",
	   "execution_count": null,
	   "metadata": {
	    "collapsed": true
	   },
	   "outputs": [],
"source": [
"//Find the maximum allowable current iZ when the Zener diode is acting as a regulator\n",
"//Solved Example Ex2.31 page no 65\n",
"clear\n",
"clc\n",
"Vz=5.2          //V\n",
"Pdmax=260       //mW\n",
"iZmax=Pdmax/Vz  //mA\n",
"printf('iZmax = %0.3f mA',iZmax)\n",
"Vs=15\n",
"R=(Vs-Vz)*1000/iZmax\n",
"printf('\n R = %0.3f ohm',R)"
   ]
   }
,
{
		   "cell_type": "markdown",
		   "metadata": {},
		   "source": [
			"## Example 2.3: find_the_Vl.sce"
		   ]
		  },
  {
"cell_type": "code",
	   "execution_count": null,
	   "metadata": {
	    "collapsed": true
	   },
	   "outputs": [],
"source": [
"\n",
"//find the Vl\n",
"//Solved Example Ex2.3 page no 48\n",
"clear\n",
"clc\n",
"printf('\n find the value of Vl')\n",
"Rl=100          //kΩ\n",
"Rs=10           //kΩ\n",
"Vl=(Rl/(Rl+Rs))\n",
"printf('\n The value of Vl = %0.4f vs',Vl)"
   ]
   }
,
{
		   "cell_type": "markdown",
		   "metadata": {},
		   "source": [
			"## Example 2.5: In_the_circuit_D1_and_D2_are_ideal_diodes_and_Find_iD1_and_iD2.sce"
		   ]
		  },
  {
"cell_type": "code",
	   "execution_count": null,
	   "metadata": {
	    "collapsed": true
	   },
	   "outputs": [],
"source": [
"\n",
"//In the circuit D1 and D2 are ideal diodes. Find iD1 and iD2.\n",
"//Solved Example Ex2.5 page no 50\n",
"clear\n",
"clc\n",
"printf('\n In the circuit D1 and D2 are ideal diodes. Find iD1 and iD2.')\n",
"Vs=5            //V\n",
"V2=3            //V\n",
"iD2=((Vs-V2)/500)*1000//mA\n",
"printf('\n iD2= %d mA',iD2)"
   ]
   }
,
{
		   "cell_type": "markdown",
		   "metadata": {},
		   "source": [
			"## Example 2.7: Find_iD_and_vD_analytically.sce"
		   ]
		  },
  {
"cell_type": "code",
	   "execution_count": null,
	   "metadata": {
	    "collapsed": true
	   },
	   "outputs": [],
"source": [
"//Find iD and vD analytically\n",
"//Solved Example Ex2.7 page no 51\n",
"clear\n",
"clc\n",
"printf('\n Find iD and vD analytically')\n",
"vs=0.1 //cos wtV\n",
"Vb=2//V\n",
"printf('\n (100/200)*(2+0.1cos wt) V')\n",
"Rth=(100^2)/200         //kΩ\n",
"printf('\n Rth= %d ohm',Rth)\n",
"printf('\n Rf=%d ohm',(0.7-0.5)/0.004)\n",
""
   ]
   }
,
{
		   "cell_type": "markdown",
		   "metadata": {},
		   "source": [
			"## Example 2.9: Use_the_small_signal_technique_to_find_iD_and_vD.sce"
		   ]
		  },
  {
"cell_type": "code",
	   "execution_count": null,
	   "metadata": {
	    "collapsed": true
	   },
	   "outputs": [],
"source": [
"//Use the small-signal technique to find iD and vD\n",
"//Solved Example Ex2.9 page no 52\n",
"clear\n",
"clc\n",
"printf('\n Use the small-signal technique to find iD and vD')\n",
"Idq=5//mA\n",
"Vdq=0.75//V\n",
"vh=0.05//cos wt\n",
"Rth=50      //kΩ\n",
"rd=50\n",
"rd=(0.7-0.5)/0.004\n",
"printf('\n rd= %d ohm',rd)\n",
"id=(vh/(Rth+rd))*1000\n",
"vd=(rd*id)/1000//cos wt V\n",
"printf('\n id= %0.1f cos wt mA',id)\n",
"printf('\n vd= %0.3f cos wt V',vd)\n",
"printf('\n iD = Idq + id = 5+0.5 cos wt mA')\n",
"printf('\n vD = Vdq + vd = 0.75+0.025 cos wt V')"
   ]
   }
],
"metadata": {
		  "kernelspec": {
		   "display_name": "Scilab",
		   "language": "scilab",
		   "name": "scilab"
		  },
		  "language_info": {
		   "file_extension": ".sce",
		   "help_links": [
			{
			 "text": "MetaKernel Magics",
			 "url": "https://github.com/calysto/metakernel/blob/master/metakernel/magics/README.md"
			}
		   ],
		   "mimetype": "text/x-octave",
		   "name": "scilab",
		   "version": "0.7.1"
		  }
		 },
		 "nbformat": 4,
		 "nbformat_minor": 0
}
