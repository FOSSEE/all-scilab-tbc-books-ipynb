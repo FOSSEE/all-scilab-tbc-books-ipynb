{
"cells": [
 {
		   "cell_type": "markdown",
	   "metadata": {},
	   "source": [
       "# Chapter 10: Switched Mode Power Supplies"
	   ]
	},
{
		   "cell_type": "markdown",
		   "metadata": {},
		   "source": [
			"## Example 10.1: Find_the_average_values_of_input_voltage_and_input_current.sce"
		   ]
		  },
  {
"cell_type": "code",
	   "execution_count": null,
	   "metadata": {
	    "collapsed": true
	   },
	   "outputs": [],
"source": [
"//Find the average values of (a) input voltage and (b) input current.\n",
"//Example 10.1 page no 296\n",
"clear\n",
"clc\n",
"V2=12       //load\n",
"D=0.8       //duty cycle\n",
"V1=V2/D     //V\n",
"P0=20      //average power\n",
"I1=P0/V1\n",
"printf('\n The value of I1=%0.3f  A',I1)"
   ]
   }
,
{
		   "cell_type": "markdown",
		   "metadata": {},
		   "source": [
			"## Example 10.2: Determine_the_smallest_value_of_duty_cycle_possible.sce"
		   ]
		  },
  {
"cell_type": "code",
	   "execution_count": null,
	   "metadata": {
	    "collapsed": true
	   },
	   "outputs": [],
"source": [
"//Determine the smallest value of duty cycle possible\n",
"//Example 10.2 page no 296\n",
"clear\n",
"clc\n",
"fs=30*10^3           //kHz.\n",
"Lc=50*10^-6          // Inductor H\n",
"Rl=7                 //Load Ω\n",
"D=1-((2*fs*Lc)/Rl)\n",
"printf('\n The value of D=%0.3f  ',D)"
   ]
   }
,
{
		   "cell_type": "markdown",
		   "metadata": {},
		   "source": [
			"## Example 10.4: Determine_the_duty_cycle_and_the_output_power.sce"
		   ]
		  },
  {
"cell_type": "code",
	   "execution_count": null,
	   "metadata": {
	    "collapsed": true
	   },
	   "outputs": [],
"source": [
"//Determine (a) the duty cycle and (b) the output power.\n",
"//Ts for the buck converter.\n",
"//Example 10.4 page no 296\n",
"clear\n",
"clc\n",
"V2=5         //V\n",
"V1=12        //V\n",
"D=V2/V1\n",
"Rl=5        //Ω\n",
"V2=5        //V\n",
"p0=V2^2/Rl\n",
"printf('\n The value of D=%0.3f  ',D)\n",
"printf('\n The value of p0=%0.3f  ',p0)"
   ]
   }
,
{
		   "cell_type": "markdown",
		   "metadata": {},
		   "source": [
			"## Example 10.7: Find_the_maximum_and_minimum_values_of_the_inductor_current.sce"
		   ]
		  },
  {
"cell_type": "code",
	   "execution_count": null,
	   "metadata": {
	    "collapsed": true
	   },
	   "outputs": [],
"source": [
"//Find the maximum and minimum values of the inductor current\n",
"//Example 10.7 page no 297\n",
"clear\n",
"clc\n",
"D=0.6      //Duty cycle\n",
"V1=24      //V\n",
"Rl=7\n",
"fs=30*10^3\n",
"L=50*10^-6\n",
"V2=D*V1\n",
"Imax=V2/Rl+((V1-V2)*D)/(2*fs*L)         //maximum  values of the inductor current\n",
"Imin=V2/Rl-((V1-V2)*D)/(2*fs*L)        // minimum values of the inductor current\n",
"printf('\n The value of Imax=%0.3f A ',Imax)\n",
"printf('\n The value of Imin=%0.3f A',Imin)"
   ]
   }
,
{
		   "cell_type": "markdown",
		   "metadata": {},
		   "source": [
			"## Example 10.9: Example_10_page_no_298.sce"
		   ]
		  },
  {
"cell_type": "code",
	   "execution_count": null,
	   "metadata": {
	    "collapsed": true
	   },
	   "outputs": [],
"source": [
"//Determine (a) the output voltage, (b) the load resistance, and (c) the load current.\n",
"//Example 10.9 \n",
"//page no 298\n",
"clear\n",
"clc\n",
"V1=12\n",
"D=0.6\n",
"V2=V1/(1-D)     //output voltage\n",
"P0=60         //w Supplying power \n",
"Rl=V2^2/P0       //load resistance\n",
"I2=V2/Rl         //load current\n",
"printf('\n The value of V2=%0.3f V ',V2)\n",
"printf('\n The value of Rl=%0.3f ohm',Rl)\n",
"printf('\n The value of I2=%0.3f A ',I2)"
   ]
   }
],
"metadata": {
		  "kernelspec": {
		   "display_name": "Scilab",
		   "language": "scilab",
		   "name": "scilab"
		  },
		  "language_info": {
		   "file_extension": ".sce",
		   "help_links": [
			{
			 "text": "MetaKernel Magics",
			 "url": "https://github.com/calysto/metakernel/blob/master/metakernel/magics/README.md"
			}
		   ],
		   "mimetype": "text/x-octave",
		   "name": "scilab",
		   "version": "0.7.1"
		  }
		 },
		 "nbformat": 4,
		 "nbformat_minor": 0
}
