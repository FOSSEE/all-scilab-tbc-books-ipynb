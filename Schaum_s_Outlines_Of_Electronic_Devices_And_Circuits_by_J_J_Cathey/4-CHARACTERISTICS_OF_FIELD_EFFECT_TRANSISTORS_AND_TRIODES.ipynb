{
"cells": [
 {
		   "cell_type": "markdown",
	   "metadata": {},
	   "source": [
       "# Chapter 4: CHARACTERISTICS OF FIELD EFFECT TRANSISTORS AND TRIODES"
	   ]
	},
{
		   "cell_type": "markdown",
		   "metadata": {},
		   "source": [
			"## Example 4.10: Solved_Example_Ex_10_page_no_121_Find_Vdd_and_Vdsq.sce"
		   ]
		  },
  {
"cell_type": "code",
	   "execution_count": null,
	   "metadata": {
	    "collapsed": true
	   },
	   "outputs": [],
"source": [
"//find (a) VGG and (b) VDSQ\n",
"//Solved Example Ex4.10 page no 121  \n",
"clear\n",
"clc\n",
"Idq=-8          //mA\n",
"Idss=-10        //mA\n",
"Vp0=-4          //V\n",
"Vgsq=Vp0*(((Idq/Idss)^(1/2))-1)\n",
"printf('\n  Vgsq = %0.2f  V',Vgsq)\n",
"Vdd=-20\n",
"Rd=1.5\n",
"Vdsq=Vdd-Idq*Rd\n",
"printf('\n  Vdsq = %0.2f  V',Vdsq)"
   ]
   }
,
{
		   "cell_type": "markdown",
		   "metadata": {},
		   "source": [
			"## Example 4.11: Find_VGSQ_IDQ_and_VDSQ.sce"
		   ]
		  },
  {
"cell_type": "code",
	   "execution_count": null,
	   "metadata": {
	    "collapsed": true
	   },
	   "outputs": [],
"source": [
"//Find (a) VGSQ; ðbÞ IDQ, and (c) VDSQ.\n",
"//Solved Example Ex4.11 page no 121  \n",
"clear\n",
"clc\n",
"Vt=4//V\n",
"R1=50//k ohm\n",
"R2=0.4//M ohm\n",
"Rs=0\n",
"Rd=2 //k ohm\n",
"Vdd=15//V\n",
"Vgsq=(R1/(R1+R2*10^3))*Vdd\n",
"printf('\n  Vgsq = %0.2f  V',Vgsq)\n",
"Idon=10//*10^-3\n",
"Idq=Idon*((1-(Vgsq/Vt))^2)\n",
"printf('\n  Idq = %0.2f  mA',Idq)\n",
"Vdsq=Vdd-(Idq*Rd)\n",
"printf('\n  Vdsq = %0.2f  V',Vdsq)"
   ]
   }
,
{
		   "cell_type": "markdown",
		   "metadata": {},
		   "source": [
			"## Example 4.13: Find_VGSQ_if_IDQ_16mA_and_IDQ_if_VGSQ_5V.sce"
		   ]
		  },
  {
"cell_type": "code",
	   "execution_count": null,
	   "metadata": {
	    "collapsed": true
	   },
	   "outputs": [],
"source": [
"//Find (a) VGSQ if IDQ ¼ 16mA and (b) IDQ if VGSQ= - 5V.\n",
"//Example 4.13 page no 122\n",
"Vgsq=-4.5               //V\n",
"Idq=-8                   //mA\n",
"VT=-3                      //V\n",
"Idon=(Idq/(1-Vgsq/VT)^2)\n",
"printf('\n Idon=%0.2f mA' ,Idon)\n",
"Idq=-16\n",
"Vgsq=VT*(1-(Idq/Idon)^(1/2))\n",
"printf('\n Vgsq=%0.2f V' ,Vgsq)\n",
"Vgsq=-5"
   ]
   }
,
{
		   "cell_type": "markdown",
		   "metadata": {},
		   "source": [
			"## Example 4.14: find_IDQ_and_VGSQ.sce"
		   ]
		  },
  {
"cell_type": "code",
	   "execution_count": null,
	   "metadata": {
	    "collapsed": true
	   },
	   "outputs": [],
"source": [
"//find IDQ and VGSQ.\n",
"//Example 4.14 page no 123\n",
"clear\n",
"clc\n",
"Vdd=15              //v\n",
"Vdsq=7              //v \n",
"Rs=3                //kΩ\n",
"Rd=1                //kΩ\n",
"Idq=((Vdd-Vdsq)/(Rs+Rd))\n",
"printf('\n Idq=%0.2f mA' ,Idq)\n",
"Vgsq=-(Idq*Rd)\n",
"printf('\n Vgsq=%0.2f V' ,Vgsq)"
   ]
   }
,
{
		   "cell_type": "markdown",
		   "metadata": {},
		   "source": [
			"## Example 4.18: find_VDSQ1_IDQ1_VGSQ1_VGSQ2_and_VDSQ2.sce"
		   ]
		  },
  {
"cell_type": "code",
	   "execution_count": null,
	   "metadata": {
	    "collapsed": true
	   },
	   "outputs": [],
"source": [
"//find (a) VDSQ1; ()b) IDQ1; (c) VGSQ1, (d) VGSQ2, and (e) VDSQ2\n",
"//Example 4.18 page no 126\n",
"clear\n",
"clc\n",
"Idq1=1.22           //mA\n",
"Vdsq1=0             //V\n",
"Vdd=15              //V\n",
"Rs=2                //kΩ\n",
"Rd=5                //kΩ\n",
"Vgsq1=-(Idq1*Rs)\n",
"printf('\n Vgsq=%0.2f V' ,Vgsq1)\n",
"Vdsq2=Vdd-Vdsq1-Idq1*(Rs+Rd)\n",
"printf('\n Vdsq2=%0.2f V' ,Vdsq2)"
   ]
   }
,
{
		   "cell_type": "markdown",
		   "metadata": {},
		   "source": [
			"## Example 4.19: Find_Vgsq1_Vgsq2_Vdsq1_Vdsq2_Idq2.sce"
		   ]
		  },
  {
"cell_type": "code",
	   "execution_count": null,
	   "metadata": {
	    "collapsed": true
	   },
	   "outputs": [],
"source": [
"//find (a) VGSQ1; b) IDQ2, (c) VGSQ2; d) VDSQ1, and (e) VDSQ2.\n",
"//Example 4.19 page no 127\n",
"clear\n",
"clc\n",
"Idq1=0              //mA\n",
"Idq2=2.92           //mA\n",
"Vdd=15              //V\n",
"Vgsq1=-4            //V\n",
"Rs=2                //kΩ\n",
"Rd=1                //kΩ\n",
"Vgsq2=-Vgsq1-Idq2*Rs\n",
"printf('\n Vgsq2=%0.2f V' ,Vgsq2)\n",
"Vdsq1=Vdd-(Idq1+Idq2)*Rd-Idq2*Rs-Vgsq2\n",
"printf('\n Vdsq1=%0.2f V' ,Vdsq1)\n",
"Rd=1\n",
"Idq1=0\n",
"Vdsq2=Vdd-(Idq1+Idq2)*Rd-Idq2*Rs\n",
"printf('\n Vdsq2=%0.2f V' ,Vdsq2)"
   ]
   }
,
{
		   "cell_type": "markdown",
		   "metadata": {},
		   "source": [
			"## Example 4.20: Find_Vgsq.sce"
		   ]
		  },
  {
"cell_type": "code",
	   "execution_count": null,
	   "metadata": {
	    "collapsed": true
	   },
	   "outputs": [],
"source": [
"//Find VGSQ\n",
"//Example 4.20 page no 128\n",
"clear\n",
"clc\n",
"Vdd=15          //V\n",
"R2=40           //kΩ\n",
"R1=60           //kΩ\n",
"Vgsq=(R2/(R2+R1))*Vdd\n",
"printf('\n Vgsq=%0.2f V' ,Vgsq)\n",
""
   ]
   }
,
{
		   "cell_type": "markdown",
		   "metadata": {},
		   "source": [
			"## Example 4.23: Find_Vdsq_Vgsq_and_Idq.sce"
		   ]
		  },
  {
"cell_type": "code",
	   "execution_count": null,
	   "metadata": {
	    "collapsed": true
	   },
	   "outputs": [],
"source": [
"//determine (a) VGSQ, (b) IDQ, and (c) VDSQ.\n",
"//Example 4.23 page no 130\n",
"\n",
"clear\n",
"clc\n",
"Idss=10         //mA\n",
"Vgsq=-1.34      //V\n",
"Vp0=4           //V\n",
"Rs=2            //kΩ\n",
"Vdd=15          //V\n",
"Rd=500          //kΩ\n",
"Idq=Idss*((1+(Vgsq/Vp0))^2)\n",
"Vdsq=Vdd-Idq*10^-3*(Rs*10^3+Rd)\n",
"printf('\n Idq=%0.2f mA' ,Idq)\n",
"printf('\n Vdsq=%0.2f V' ,Vdsq)\n",
""
   ]
   }
,
{
		   "cell_type": "markdown",
		   "metadata": {},
		   "source": [
			"## Example 4.24: find_the_perveance_and_the_amplification_factor_m.sce"
		   ]
		  },
  {
"cell_type": "code",
	   "execution_count": null,
	   "metadata": {
	    "collapsed": true
	   },
	   "outputs": [],
"source": [
"//find (a) the perveance and (b) the amplification factor \n",
"//Example 4.24 page no 130\n",
"clear\n",
"clc\n",
"Ip=15           //mA\n",
"Vp=100          //v\n",
"Vp0=4           //v\n",
"Vg=-4           //v\n",
"k=(Ip/(Vp^(3/2)))*1000\n",
"m=-(Vp/Vg)\n",
"printf('\n  the perveance k=%0.2f mA/V^3/2' ,k)\n",
"printf('\n the amplification factor  m=%0.2f mA' ,m)\n",
""
   ]
   }
,
{
		   "cell_type": "markdown",
		   "metadata": {},
		   "source": [
			"## Example 4.26: Calculate_the_plate_efficiency_of_the_amplifier.sce"
		   ]
		  },
  {
"cell_type": "code",
	   "execution_count": null,
	   "metadata": {
	    "collapsed": true
	   },
	   "outputs": [],
"source": [
"//Calculate the plate efficiency of the amplifier\n",
"//Example 4.26 page no 130\n",
"\n",
"clear\n",
"clc\n",
"Ip=(1/20)       //mA\n",
"Rl=10           //kΩ\n",
"Vpp=2.4         //v\n",
"n=(((Ip)*Rl)/Vpp)\n",
"printf('\n  the perveance  n=%0.3f percent' ,n)\n",
""
   ]
   }
,
{
		   "cell_type": "markdown",
		   "metadata": {},
		   "source": [
			"## Example 4.2: Calculate_IDQ_from_the_analog.sce"
		   ]
		  },
  {
"cell_type": "code",
	   "execution_count": null,
	   "metadata": {
	    "collapsed": true
	   },
	   "outputs": [],
"source": [
"//Calculate IDQ from the analog\n",
"//Solved Example Ex4.2 page no 118  \n",
"clear\n",
"clc\n",
"Idon=5//*10^-3          //mA\n",
"Vgsq=6.90               //V\n",
"Vt=4                    //V\n",
"Idq=Idon*((1-(Vgsq/Vt))^2)\n",
"printf('\n  Idq = %0.2f  mA',Idq)"
   ]
   }
,
{
		   "cell_type": "markdown",
		   "metadata": {},
		   "source": [
			"## Example 4.5: Find_VGG_RS_and_RD.sce"
		   ]
		  },
  {
"cell_type": "code",
	   "execution_count": null,
	   "metadata": {
	    "collapsed": true
	   },
	   "outputs": [],
"source": [
"//Find (a) VGG; ðbÞ RS, and (c) RD.\n",
"//Solved Example Ex4.5 page no 118  \n",
"clear\n",
"clc\n",
"Vgg=10              //V\n",
"Vgsq=8              //V\n",
"Idq=1*10^-3         //mA\n",
"Rs=((Vgg-Vgsq)/Idq)/1000        //kΩ\n",
"printf('\n  Rs = %0.2f  K ohm',Rs)\n",
"Vdd=16              //V\n",
"Vdsq=12             //V\n",
"Idq=1\n",
"Rd=((Vdd-Vdsq-(Idq*Rs))/Idq)\n",
"printf('\n  Rd = %0.2f  K ohm',Rd)\n",
""
   ]
   }
,
{
		   "cell_type": "markdown",
		   "metadata": {},
		   "source": [
			"## Example 4.8: Determine_appropriate_values_of_RS_and_RD.sce"
		   ]
		  },
  {
"cell_type": "code",
	   "execution_count": null,
	   "metadata": {
	    "collapsed": true
	   },
	   "outputs": [],
"source": [
"//Determine appropriate values of RS and RD.\n",
"//Solved Example Ex4.8 page no 120  \n",
"clear\n",
"clc\n",
"Rs=750          //kΩ\n",
"printf('\n  Rs = %0.2f  K ohm',Rs)\n",
"Vdd=24          //V\n",
"Vdsq=15         //V\n",
"Idq=0.002        //mA\n",
"Rd=((Vdd-Vdsq-(Idq*Rs))/Idq)/1000\n",
"printf('\n  Rd = %0.2f  K ohm',Rd)"
   ]
   }
],
"metadata": {
		  "kernelspec": {
		   "display_name": "Scilab",
		   "language": "scilab",
		   "name": "scilab"
		  },
		  "language_info": {
		   "file_extension": ".sce",
		   "help_links": [
			{
			 "text": "MetaKernel Magics",
			 "url": "https://github.com/calysto/metakernel/blob/master/metakernel/magics/README.md"
			}
		   ],
		   "mimetype": "text/x-octave",
		   "name": "scilab",
		   "version": "0.7.1"
		  }
		 },
		 "nbformat": 4,
		 "nbformat_minor": 0
}
