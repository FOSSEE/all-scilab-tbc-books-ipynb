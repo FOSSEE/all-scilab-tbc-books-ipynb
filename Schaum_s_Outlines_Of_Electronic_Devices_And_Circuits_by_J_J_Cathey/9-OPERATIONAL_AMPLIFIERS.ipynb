{
"cells": [
 {
		   "cell_type": "markdown",
	   "metadata": {},
	   "source": [
       "# Chapter 9: OPERATIONAL AMPLIFIERS"
	   ]
	},
{
		   "cell_type": "markdown",
		   "metadata": {},
		   "source": [
			"## Example 9.12: Find_the_value_of_C.sce"
		   ]
		  },
  {
"cell_type": "code",
	   "execution_count": null,
	   "metadata": {
	    "collapsed": true
	   },
	   "outputs": [],
"source": [
"\n",
"//Example 9.12 page no 274\n",
"clear\n",
"clc\n",
"R=10*10^3   //Ω\n",
"f=100       //Hz\n",
"C=(0.1/(2*%pi*f*R))*10^9         //Capicitor\n",
"printf('\n The value of C=%0.3f  nF',C)"
   ]
   }
,
{
		   "cell_type": "markdown",
		   "metadata": {},
		   "source": [
			"## Example 9.25: Find_the_value_of_Av.sce"
		   ]
		  },
  {
"cell_type": "code",
	   "execution_count": null,
	   "metadata": {
	    "collapsed": true
	   },
	   "outputs": [],
"source": [
"//Use SPICE methods to simulate this amplifier\n",
"//Example 9.25 page no 281\n",
"clear\n",
"clc\n",
"R1=10*10^3  //Ω\n",
"R2=20*10^3  //Ω\n",
"R3=20*10^3  //Ω\n",
"Av=-((R2*R3)/(R1*(R2+R3)))\n",
"printf('\n The value of Av=%0.3f  ',Av)"
   ]
   }
,
{
		   "cell_type": "markdown",
		   "metadata": {},
		   "source": [
			"## Example 9.2: Evaluate_the_gain_of_this_inverting_amplifier.sce"
		   ]
		  },
  {
"cell_type": "code",
	   "execution_count": null,
	   "metadata": {
	    "collapsed": true
	   },
	   "outputs": [],
"source": [
"//derive an exact formula for the gain of a practical inverting op amp.\n",
"//Example 9.2 page no 268\n",
"clear\n",
"clc\n",
"Aol=-10^4\n",
"Rl=1            //kΩ\n",
"Rf=10           //kΩ\n",
"Rd=1            //kΩ\n",
"Av=(Aol/(1+(Rl/Rf)*(1-Aol)+(Rl/Rd)))\n",
"printf('\n The value of Av=%0.3f ',Av)"
   ]
   }
,
{
		   "cell_type": "markdown",
		   "metadata": {},
		   "source": [
			"## Example 9.9: Find_the_regulated_output_vo_in_terms_of_VZ.sce"
		   ]
		  },
  {
"cell_type": "code",
	   "execution_count": null,
	   "metadata": {
	    "collapsed": true
	   },
	   "outputs": [],
"source": [
"//Find the regulated output vo in terms of VZ. (b) Given a specific Zener diode and the values of RS and R1\n",
"//Example 9.9 page no 272\n",
"clear\n",
"clc\n",
"Aol=-10^4\n",
"Rl=1\n",
"Rf=10\n",
"Rd=1\n",
"Av=(Aol/(1+(Rl/Rf)*(1-Aol)+(Rl/Rd)))\n",
"printf('\n The value of Av=%0.3f ',Av)"
   ]
   }
],
"metadata": {
		  "kernelspec": {
		   "display_name": "Scilab",
		   "language": "scilab",
		   "name": "scilab"
		  },
		  "language_info": {
		   "file_extension": ".sce",
		   "help_links": [
			{
			 "text": "MetaKernel Magics",
			 "url": "https://github.com/calysto/metakernel/blob/master/metakernel/magics/README.md"
			}
		   ],
		   "mimetype": "text/x-octave",
		   "name": "scilab",
		   "version": "0.7.1"
		  }
		 },
		 "nbformat": 4,
		 "nbformat_minor": 0
}
