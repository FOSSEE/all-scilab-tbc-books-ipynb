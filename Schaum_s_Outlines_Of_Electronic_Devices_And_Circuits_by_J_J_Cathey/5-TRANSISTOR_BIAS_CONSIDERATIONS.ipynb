{
"cells": [
 {
		   "cell_type": "markdown",
	   "metadata": {},
	   "source": [
       "# Chapter 5: TRANSISTOR BIAS CONSIDERATIONS"
	   ]
	},
{
		   "cell_type": "markdown",
		   "metadata": {},
		   "source": [
			"## Example 5.11: Example_11_page_no_148_Find_the_exact_change_in_ICQ.sce"
		   ]
		  },
  {
"cell_type": "code",
	   "execution_count": null,
	   "metadata": {
	    "collapsed": true
	   },
	   "outputs": [],
"source": [
"//(a) Find the exact change in ICQ. (b) Predict the new value of ICQ using stability-factor analysis.\n",
"//Example 5.11 page no 148\n",
"clear\n",
"clc\n",
"Vbb=6\n",
"Vbeq1=0.7\n",
"Icbo1=0.5\n",
"Rb=50\n",
"Re=1\n",
"B=75//Beta\n",
"Icq1=((Vbb-Vbeq1+Icbo1*(0.5*51*10^-3))/((Rb*10^3/B)+Re*10^3))*10^3\n",
"printf('\n The value of Icq1=%0.3f mA' ,Icq1)\n",
"Icbo2=(Icbo1*10^-6*2^2)*10^6\n",
"printf('\n The value of Icbo=%0.3f mA' ,Icbo2)\n",
"Vbeq=(-2*10^-3)*20\n",
"printf('\n The value of Vbeq=%0.3f V' ,Vbeq)\n",
"Vbeq2=Vbeq1+Vbeq\n",
"printf('\n The value of Vbeq2=%0.3f V' ,Vbeq2)\n",
"Icq2=((Vbb-Vbeq2+Icbo2*(2*51*10^-3))/((Rb*10^3/B)+Re*10^3))*10^3\n",
"printf('\n The value of Icq2=%0.3f mA' ,Icq2)"
   ]
   }
,
{
		   "cell_type": "markdown",
		   "metadata": {},
		   "source": [
			"## Example 5.16: Find_an_expression_for_ICQ_at_any_temperature.sce"
		   ]
		  },
  {
"cell_type": "code",
	   "execution_count": null,
	   "metadata": {
	    "collapsed": true
	   },
	   "outputs": [],
"source": [
"//Find an expression for ICQ at any temperature.\n",
"//Example 5.16 page no 150\n",
"clear\n",
"clc\n",
"B=50//beta\n",
"Vee=5\n",
"Vbeq1=0.7\n",
"T2=125\n",
"Re=3*10^3\n",
"Icbo1=0.5//*10^-6\n",
"Icq2=(((B+1)/B)*((Vee-Vbeq1+0.002*(T2-25))/Re)+(2^((T2-25)/10))*Icbo1*10^-6)*10^3\n",
"printf('\n The value of Icq2=%0.3f mA' ,Icq2)"
   ]
   }
,
{
		   "cell_type": "markdown",
		   "metadata": {},
		   "source": [
			"## Example 5.19: Predict_the_change_that_will_occur_in_ICQ_as_RE_changes.sce"
		   ]
		  },
  {
"cell_type": "code",
	   "execution_count": null,
	   "metadata": {
	    "collapsed": true
	   },
	   "outputs": [],
"source": [
"//Determine a first-order approximation for the change in ICQ1\n",
"//Example 5.19 page no 152\n",
"clear\n",
"clc\n",
"B=75//beta\n",
"Rb=454.5        //kΩ\n",
"Icbo=0.2*10^-6\n",
"Vbb=1.818\n",
"Vbeq=0.7\n",
"Re=90\n",
"deltaRe=110-90\n",
"Sre=((B*Rb*Icbo-B^2*(Vbb-Vbeq+Icbo*Rb))/((Rb+B*Re)^2))*10^4\n",
"printf('\n The value of Sre=%0.3f * 10^-4 A/Ohm' ,Sre)\n",
"Icq=(Sre*deltaRe)/10\n",
"printf('\n The value of Icq=%0.3f * 10^-4 mA' ,Icq)"
   ]
   }
,
{
		   "cell_type": "markdown",
		   "metadata": {},
		   "source": [
			"## Example 5.1: Find_leakage_current_at_90_c.sce"
		   ]
		  },
  {
"cell_type": "code",
	   "execution_count": null,
	   "metadata": {
	    "collapsed": true
	   },
	   "outputs": [],
"source": [
"//find its leakage current at 90 degree C.\n",
"//Example 5.1 page no 143\n",
"clear\n",
"clc\n",
"Icbo=(500*(2^((90-25)/10)))/1000\n",
"printf('\n The value of Icbo=%0.3f mA' ,Icbo)\n",
""
   ]
   }
,
{
		   "cell_type": "markdown",
		   "metadata": {},
		   "source": [
			"## Example 5.25: Find_Vdsqmax_and_Vdsqmin.sce"
		   ]
		  },
  {
"cell_type": "code",
	   "execution_count": null,
	   "metadata": {
	    "collapsed": true
	   },
	   "outputs": [],
"source": [
"//(a) Find the range of values of IDQ that could be expected in using this FET. (b) Find the corresponding range of VDSQ. (c) Comment on the\n",
"//desirability of this bias arrangement.\n",
"//Example 5.25 page no 156\n",
"clear\n",
"clc\n",
"Vdd=15\n",
"Idqmax=5.5\n",
"Idqmin=1.3\n",
"Rd=2.5          //kΩ\n",
"Vdsqmax=Vdd-Idqmax*Rd\n",
"Vdsqmin=Vdd-Idqmin*Rd\n",
"printf('\n The value of Vdsqmax=%0.3f V' ,Vdsqmax)\n",
"printf('\n The value of Vdsqmin=%0.3f V' ,Vdsqmin)"
   ]
   }
,
{
		   "cell_type": "markdown",
		   "metadata": {},
		   "source": [
			"## Example 5.26: Find_the_Range_of_Vdsq.sce"
		   ]
		  },
  {
"cell_type": "code",
	   "execution_count": null,
	   "metadata": {
	    "collapsed": true
	   },
	   "outputs": [],
"source": [
"//(a) Find the range of IDQ that can be expected. (b) Find the range of VDSQ that can be expected. (c) Discuss\n",
"//the idea of reducing IDQ variation by increasing the value of RS.\n",
"//Example 5.26 page no 157\n",
"clear\n",
"clc\n",
"Vdd=24      //V\n",
"Idqmax=2.5\n",
"Idqmin=1.2\n",
"Rs=1        //kΩ\n",
"Rd=3        //kΩ\n",
"Vdsqmax=Vdd-Idqmax*(Rs+Rd)\n",
"Vdsqmin=Vdd-Idqmin*(Rs+Rd)\n",
"printf('\n The value of Vdsqmax=%0.3f V' ,Vdsqmax)\n",
"printf('\n The value of Vdsqmin=%0.3f V' ,Vdsqmin)"
   ]
   }
,
{
		   "cell_type": "markdown",
		   "metadata": {},
		   "source": [
			"## Example 5.28: Find_the_range_of_Idq.sce"
		   ]
		  },
  {
"cell_type": "code",
	   "execution_count": null,
	   "metadata": {
	    "collapsed": true
	   },
	   "outputs": [],
"source": [
"//a) Find the range of IDQ that can be expected if R1 ¼ 1M and R2 ¼ 3M. (b) Find the range of IDQ that can be expected if R1 ¼ 1M\n",
"//and R2 = 7M. (c) Discuss the significance of the results of parts a and b.\n",
"//Example 5.28 page no 159\n",
"clear\n",
"clc\n",
"Vdd=24\n",
"Idqmax=4\n",
"Idqmin=2.8\n",
"Rs=2        //MΩ\n",
"Rd=1        //MΩ\n",
"Vdsqmax=Vdd-Idqmax*(Rs+Rd)\n",
"Vdsqmin=Vdd-Idqmin*(Rs+Rd)\n",
"printf('\n The value of Vdsqmax=%0.3f V' ,Vdsqmax)\n",
"printf('\n The value of Vdsqmin=%0.3f V' ,Vdsqmin)"
   ]
   }
,
{
		   "cell_type": "markdown",
		   "metadata": {},
		   "source": [
			"## Example 5.6: Find_ICQ_and_VCEQ.sce"
		   ]
		  },
  {
"cell_type": "code",
	   "execution_count": null,
	   "metadata": {
	    "collapsed": true
	   },
	   "outputs": [],
"source": [
"//Find ICQ and VCEQ (a) for bet  50 and (b) for beta  100\n",
"//Example 5.6 page no 145\n",
"clear\n",
"clc\n",
"Vee=4               //v\n",
"Vbeq=0.7            //v\n",
"Rb=25*10^3             //kΩ\n",
"b=50//Beta\n",
"Re=2*10^3           //kΩ\n",
"Icq=((Vee-Vbeq)/((Rb/b)+((b+1)/b)*Re))*1000\n",
"printf('\n The value of Icq=%0.3f mA' ,Icq)\n",
"Vcc=18          //v\n",
"Rc=6            //kΩ\n",
"Re=2//*10^3     //kΩ\n",
"Vceq=Vcc+Vee-(Rc+((b+1)/b)*Re)*Icq          //v\n",
"printf('\n For beta=100')\n",
"printf('\n The value of Vceq=%0.3f V' ,Vceq)\n",
"printf('\n For beta=100')\n",
"b=100\n",
"Re=2*10^3\n",
"Icq=((Vee-Vbeq)/((Rb/b)+((b+1)/b)*Re))*1000\n",
"printf('\n The value of Icq=%0.3f mA' ,Icq)\n",
"Re=2//*10^3\n",
"Vceq=Vcc+Vee-(Rc+((b+1)/b)*Re)*Icq\n",
"printf('\n The value of Vceq=%0.3f V' ,Vceq)"
   ]
   }
,
{
		   "cell_type": "markdown",
		   "metadata": {},
		   "source": [
			"## Example 5.8: Example_5_8_page_no_146_Find_ICQ_IBQ_and_VCEQ.sce"
		   ]
		  },
  {
"cell_type": "code",
	   "execution_count": null,
	   "metadata": {
	    "collapsed": true
	   },
	   "outputs": [],
"source": [
"//Find ICQ; IBQ, and VCEQ if (a)  beta 50 and (b) beta ¼ 100.\n",
"//Example 5.8 page no 146\n",
"clear\n",
"clc\n",
"Vcc=15              //v\n",
"Vee=4               //v \n",
"Vbeq=0.7            //v\n",
"b=50//Beta\n",
"Re=3*10^3               //kΩ\n",
"Rc=7                    //kΩ\n",
"Ieq=(Vee-Vbeq)/Re*1000\n",
"printf('\n For beta=50')\n",
"printf('\n The value of Ieq=%0.3f mA' ,Ieq)\n",
"Icq=(b/(b+1))*Ieq\n",
"printf('\n The value of Icq=%0.3f mA' ,Icq)\n",
"Ibq=Icq/b\n",
"printf('\n The value of Ibq=%0.3f mA' ,Ibq)\n",
"Vee=5\n",
"Re=3//*10^3\n",
"Vceq=Vcc+Vee-(Ieq*Re)-(Icq*Rc)\n",
"printf('\n The value of Vceq=%0.3f V' ,Vceq)\n",
"printf('\n For beta=100')\n",
"b=100\n",
"printf('\n The value of Ieq=%0.3f mA' ,Ieq)\n",
"Icq=(b/(b+1))*Ieq\n",
"printf('\n The value of Icq=%0.3f mA' ,Icq)\n",
"Ibq=Icq/b\n",
"printf('\n The value of Ibq=%0.3f mA' ,Ibq)\n",
"Vee=5\n",
"Re=3//*10^3\n",
"Vceq=Vcc+Vee-(Ieq*Re)-(Icq*Rc)\n",
"printf('\n The value of Vceq=%0.3f V' ,Vceq)"
   ]
   }
,
{
		   "cell_type": "markdown",
		   "metadata": {},
		   "source": [
			"## Example 5.9: Find_the_sensitivity_factor_Sb_and_use_it_to_calculate_the_change_in_ICQ.sce"
		   ]
		  },
  {
"cell_type": "code",
	   "execution_count": null,
	   "metadata": {
	    "collapsed": true
	   },
	   "outputs": [],
"source": [
"//Example 5.9 page no 147\n",
"clear\n",
"clc\n",
"Vcc=15\n",
"Vee=4\n",
"Vbeq=0.7\n",
"Rb=500\n",
"Sb=((Vcc-Vbeq)/Rb)*10^3\n",
"printf('\n The value of Sb=%0.3f ' ,Sb)\n",
"Icq=(Sb*(100-50))/1000\n",
"printf('\n The value of Icq=%0.3f mA' ,Icq)"
   ]
   }
],
"metadata": {
		  "kernelspec": {
		   "display_name": "Scilab",
		   "language": "scilab",
		   "name": "scilab"
		  },
		  "language_info": {
		   "file_extension": ".sce",
		   "help_links": [
			{
			 "text": "MetaKernel Magics",
			 "url": "https://github.com/calysto/metakernel/blob/master/metakernel/magics/README.md"
			}
		   ],
		   "mimetype": "text/x-octave",
		   "name": "scilab",
		   "version": "0.7.1"
		  }
		 },
		 "nbformat": 4,
		 "nbformat_minor": 0
}
