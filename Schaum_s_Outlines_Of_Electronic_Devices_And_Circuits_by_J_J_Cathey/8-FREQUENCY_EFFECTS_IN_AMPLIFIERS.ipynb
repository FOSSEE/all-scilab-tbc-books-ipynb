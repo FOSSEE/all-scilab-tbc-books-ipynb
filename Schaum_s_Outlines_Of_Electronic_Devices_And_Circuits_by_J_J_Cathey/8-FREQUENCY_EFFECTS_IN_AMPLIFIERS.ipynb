{
"cells": [
 {
		   "cell_type": "markdown",
	   "metadata": {},
	   "source": [
       "# Chapter 8: FREQUENCY EFFECTS IN AMPLIFIERS"
	   ]
	},
{
		   "cell_type": "markdown",
		   "metadata": {},
		   "source": [
			"## Example 8.6: Determine_the_low_frequency_voltage_gain_ratio_if_hie.sce"
		   ]
		  },
  {
"cell_type": "code",
	   "execution_count": null,
	   "metadata": {
	    "collapsed": true
	   },
	   "outputs": [],
"source": [
"//determine the low-frequency voltage-gain ratio if hie and hfe have median values.\n",
"//Example 8.6 page no 242\n",
"clear\n",
"clc\n",
"hie=1000   //Ω\n",
"hfe=75         //Ω\n",
"Av=50\n",
"Req=Av*(hie/hfe)     //Ω\n",
"printf('\n The value of Req=%0.3f Ohm',Req)\n",
"Rl=10000    //kΩ\n",
"Rc=Req*Rl/(Rl-Req)  //kΩ\n",
"printf('\n The value of Rc=%0.3f Ohm',Rc)\n",
"hie=300      //Ω\n",
"hfe=100             //Ω\n",
"Re=1000          //kΩ\n",
"wL=2*%pi*200\n",
"Ce=(hie+(hfe+1)*Re)/(wL*Re*hie)*10^6\n",
"printf('\n The value of Ce=%0.3f mF',Ce)\n",
"Av=(hfe*Req)/(hie+(hfe+1)*Re)\n",
"printf('\n The value of Av=%0.3f ',Av)"
   ]
   }
,
{
		   "cell_type": "markdown",
		   "metadata": {},
		   "source": [
			"## Example 8.8: EX8_8.sce"
		   ]
		  },
  {
"cell_type": "code",
	   "execution_count": null,
	   "metadata": {
	    "collapsed": true
	   },
	   "outputs": [],
"source": [
"//Determine (a) the low-frequency gain, (b) the midfrequency gain, and (c) the low-frequency cutoff point.\n",
"//Example 8.8 page no 244\n",
"clear\n",
"clc\n",
"hie2=1500    //Ω\n",
"Rb2=5000    //kΩ\n",
"Z01=10\n",
"C2=1*10^-6   \n",
"Zin2=(hie2*Rb2/(hie2+Rb2))\n",
"printf('\n The value of Zin2=%0.3f Ohm',Zin2)\n",
"Av=7881.3\n",
"fl=1/(2*%pi*C2*(Zin2+Z01*10^3))\n",
"printf('\n The value of fl=%0.3f Hz',fl)"
   ]
   }
],
"metadata": {
		  "kernelspec": {
		   "display_name": "Scilab",
		   "language": "scilab",
		   "name": "scilab"
		  },
		  "language_info": {
		   "file_extension": ".sce",
		   "help_links": [
			{
			 "text": "MetaKernel Magics",
			 "url": "https://github.com/calysto/metakernel/blob/master/metakernel/magics/README.md"
			}
		   ],
		   "mimetype": "text/x-octave",
		   "name": "scilab",
		   "version": "0.7.1"
		  }
		 },
		 "nbformat": 4,
		 "nbformat_minor": 0
}
