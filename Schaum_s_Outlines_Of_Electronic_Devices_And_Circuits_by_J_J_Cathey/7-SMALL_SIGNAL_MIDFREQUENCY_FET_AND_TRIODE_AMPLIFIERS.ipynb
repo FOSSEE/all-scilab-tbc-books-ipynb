{
"cells": [
 {
		   "cell_type": "markdown",
	   "metadata": {},
	   "source": [
       "# Chapter 7: SMALL SIGNAL MIDFREQUENCY FET AND TRIODE AMPLIFIERS"
	   ]
	},
{
		   "cell_type": "markdown",
		   "metadata": {},
		   "source": [
			"## Example 7.10: EX7_10.sce"
		   ]
		  },
  {
"cell_type": "code",
	   "execution_count": null,
	   "metadata": {
	    "collapsed": true
	   },
	   "outputs": [],
"source": [
"//Find (a) the voltage-gain ratio Av ¼ vL=vi, (b) the current-gain ratio Ai ¼ iL=ii, and (c) the output impedance Ro.\n",
"//Example 7.10 page no 213\n",
"clear\n",
"clc\n",
"Rg=100      //kΩ\n",
"ri=5\n",
"vgs=(Rg/(Rg+ri))\n",
"gm=0.0025\n",
"printf('\n The value of vgs=%0.3f vi',vgs)\n",
"rds=25\n",
"Rd=2            //kΩ\n",
"Rl=2            //kΩ\n",
"Req=(rds*Rd*Rl*10^3)/(2*Rl*Rd+rds*(Rl+Rd))\n",
"printf('\n The value of Req=%0.3f Kohm',Req)\n",
"Av=-2*gm*vgs*Req\n",
"printf('\n The value of Av=%0.3f ',Av)\n",
"Ai=((Av*(Rg+ri))/Rl)\n",
"printf('\n The value of Ai=%0.3f ',Ai)\n",
"R0=(Rd*rds)/(2*Rd+rds)\n",
"printf('\n The value of R0=%0.3f kOhm',R0)"
   ]
   }
,
{
		   "cell_type": "markdown",
		   "metadata": {},
		   "source": [
			"## Example 7.11: EX7_11.sce"
		   ]
		  },
  {
"cell_type": "code",
	   "execution_count": null,
	   "metadata": {
	    "collapsed": true
	   },
	   "outputs": [],
"source": [
"//Find a current-source small-signal equivalent circuit for the CD FET amplifier.\n",
"//Example 7.11 page no 214\n",
"clear\n",
"clc\n",
"rds=30*10^3\n",
"Rs2=1.2*10^3\n",
"Rl=1*10^3       //kΩ\n",
"gm=0.002\n",
"Rg=1*10^6       //kΩ\n",
"Req=1/((1/rds)+(1/Rs2)+(1/Rl))\n",
"printf('\n The value of Req=%0.3f ',Req)\n",
"Av=((gm*Rg+1)*Req)/(Rg+(gm*Rg+1)*Req)\n",
"printf('\n The value of Av=%0.3f ',Av)\n",
"Ai=(Av*Rg/((1-Av)*Rl))\n",
"printf('\n The value of Ai=%0.3f ',Ai)\n",
"Rin=Rg/(1-Av)/10^6\n",
"printf('\n The value of Rin=%0.3f mOhm',Rin)\n",
"R0=1/(1/Rs2+1/rds+1/Rg+gm)\n",
"printf('\n The value of R0=%0.3f Ohm',R0)"
   ]
   }
,
{
		   "cell_type": "markdown",
		   "metadata": {},
		   "source": [
			"## Example 7.12: Find_Idm.sce"
		   ]
		  },
  {
"cell_type": "code",
	   "execution_count": null,
	   "metadata": {
	    "collapsed": true
	   },
	   "outputs": [],
"source": [
"//determine the voltage gain of this amplifier circuit using SPICE methods.\n",
"//Example 7.12 page no 215\n",
"clear\n",
"clc\n",
"gm=1.5*10^-3\n",
"rds=75*10^3\n",
"Rd=3*10^3       //kΩ\n",
"rds=75*10^3\n",
"vds=-(gm*rds*Rd)/(rds+Rd)\n",
"printf('\n The value of vds=%0.3f vgs',vds)\n",
"Vdsm=-1*vds      //V\n",
"idm=(gm+(Vdsm/rds))*1000   \n",
"printf('\n The value of idm=%0.3f mA',idm)"
   ]
   }
,
{
		   "cell_type": "markdown",
		   "metadata": {},
		   "source": [
			"## Example 7.18: Find_the_perveance_k_and_the_amplification_factor_m.sce"
		   ]
		  },
  {
"cell_type": "code",
	   "execution_count": null,
	   "metadata": {
	    "collapsed": true
	   },
	   "outputs": [],
"source": [
"//(a) the perveance  and (b) the amplification factor .\n",
"//Example 7.18 page no 219\n",
"clear\n",
"clc\n",
"ip=15*10^-3     //mA\n",
"vp=100          //v\n",
"k=(ip/(vp^(3/2)))*10^6\n",
"vg=-4\n",
"printf('\n The value of k=%0.3f mA/v^3/2',k)\n",
"m=-(vp/vg)\n",
"printf('\n The value of m=%0.3f ',m)"
   ]
   }
,
{
		   "cell_type": "markdown",
		   "metadata": {},
		   "source": [
			"## Example 7.1: Determine_the_small_signal_equivalent_circuit_constants_gm_and_rds.sce"
		   ]
		  },
  {
"cell_type": "code",
	   "execution_count": null,
	   "metadata": {
	    "collapsed": true
	   },
	   "outputs": [],
"source": [
"//determine\n",
"//the small-signal equivalent-circuit constants gm and rds. (b) Alternatively, evaluate gm from the\n",
"//transfer characteristic.\n",
"//Example 7.1 page no 207\n",
"clear\n",
"clc\n",
"Did=(3.3-0.3)*10^-3\n",
"Vgs=2\n",
"gm=Did/Vgs*1000\n",
"printf('\n The value of gm=%0.3f mS',gm)\n",
"Dvds=20-5\n",
"Did=(1.6-1.4)*10^-3\n",
"rds=Dvds/Did/1000\n",
"printf('\n The value of rds=%0.3f kOhm',rds)\n",
"Did=(2-1)*10^-3\n",
"Dvgs=-1.75-(-2.4)\n",
"gm=Did/Dvgs*1000             //mS\n",
"printf('\n The value of gm=%0.3f mS',gm)"
   ]
   }
,
{
		   "cell_type": "markdown",
		   "metadata": {},
		   "source": [
			"## Example 7.20: Evaluate_the_plate_resistance.sce"
		   ]
		  },
  {
"cell_type": "code",
	   "execution_count": null,
	   "metadata": {
	    "collapsed": true
	   },
	   "outputs": [],
"source": [
"//to evaluate the plate resistance and (b) use(7.10) to find the transconductance.\n",
"//Example 7.20 page no 219\n",
"clear\n",
"clc\n",
"dvp=218-152\n",
"dip=(14.7-8.1)*10^-3\n",
"rp=dvp/dip/1000     //kΩ\n",
"dvg=-2-(-6)\n",
"gm=dip/dvg*1000     //mS\n",
"printf('\n The value of rp=%0.3f kOhm',rp)\n",
"printf('\n The value of gm=%0.3f mS',gm)"
   ]
   }
,
{
		   "cell_type": "markdown",
		   "metadata": {},
		   "source": [
			"## Example 7.22: Calculate_the_voltage_gai.sce"
		   ]
		  },
  {
"cell_type": "code",
	   "execution_count": null,
	   "metadata": {
	    "collapsed": true
	   },
	   "outputs": [],
"source": [
"//determine the voltage gain. (c) Calculate the voltage gain using small-signalanalysis\n",
"//Example 7.22 page no 220\n",
"clear\n",
"clc\n",
"Vpp=300                     //V\n",
"Vgq=4                       //V\n",
"Rl=11.6*10^3                //Ω\n",
"Vpm=34                       //V\n",
"Vgm=2\n",
"Av=-(2*Vpm/2*Vgm)\n",
"dvp=202-168\n",
"dip=(15-8)*10^-3\n",
"rp=dvp/dip/1000             //kΩ\n",
"dip=(15.5-6.5)*10^-3\n",
"dvg=-3-(-5)\n",
"gm=dip/dvg*1000             //ms\n",
"m=21.87\n",
"Rl=11.6                     //Ω\n",
"Av=-(m*Rl*10^3)/((Rl+rp)*10^3)      //Voltage gain\n",
"printf('\n The value of rp=%0.3f kOhm',rp)\n",
"printf('\n The value of gm=%0.3f mS',gm)\n",
"printf('\n The value of Av=%0.3f ',Av)"
   ]
   }
,
{
		   "cell_type": "markdown",
		   "metadata": {},
		   "source": [
			"## Example 7.3: Find_the_overall_voltage_gain_Av_and_overall_current_gain_ratio.sce"
		   ]
		  },
  {
"cell_type": "code",
	   "execution_count": null,
	   "metadata": {
	    "collapsed": true
	   },
	   "outputs": [],
"source": [
"//Find (a) Av ¼ vds=vi; (b) Zin; (c) Zo looking back through the drain-source\n",
"//terminals, and (d) Ai ¼ ii=iL.\n",
"//Example 7.3 page no 208\n",
"clear\n",
"clc\n",
"Rl=14*10^3\n",
"rds=40*10^3\n",
"Rf=5*10^6\n",
"gm=1*10^-3\n",
"Av=((Rl*rds*(1-Rf*gm))/(Rf*rds+Rl*rds+Rl*Rf))\n",
"printf('\n The value of Av=%0.3f ',Av)\n",
"Zin=(Rf/(1-Av))/1000\n",
"printf('\n The value of Zin=%0.3f kOhm',Zin)\n",
"Ai=(Av*Zin)/Rl*1000\n",
"printf('\n The value of Ai=%0.3f ',Ai)"
   ]
   }
,
{
		   "cell_type": "markdown",
		   "metadata": {},
		   "source": [
			"## Example 7.4: Find_the_overall_voltage_gain_Av_and_overall_current_gain_ratio.sce"
		   ]
		  },
  {
"cell_type": "code",
	   "execution_count": null,
	   "metadata": {
	    "collapsed": true
	   },
	   "outputs": [],
"source": [
"\n",
"//Example 7.4 page no 209\n",
"clear\n",
"clc\n",
"R1=200*10^3\n",
"R2=800*10^3\n",
"Zin=(R1*R2/(R1+R2))/1000\n",
"printf('\n The value of Zin=%0.3f Kohm',Zin)\n",
"Rg=160*10^3\n",
"r1=5*10^3\n",
"vgs=Rg/(Rg+r1)\n",
"printf('\n The value of vgs=%0.3f vi',vgs)\n",
"Av=-1.88\n",
"Rl=2*10^3\n",
"Ai=(Av*(Rg+r1))/Rl\n",
"printf('\n The value of ai=%0.3f vi',Ai)"
   ]
   }
,
{
		   "cell_type": "markdown",
		   "metadata": {},
		   "source": [
			"## Example 7.7: Find_the_overall_voltage_gain_Av_and_overall_current_gain_ratio.sce"
		   ]
		  },
  {
"cell_type": "code",
	   "execution_count": null,
	   "metadata": {
	    "collapsed": true
	   },
	   "outputs": [],
"source": [
"//Example 7.7 page no 211\n",
"clear\n",
"clc\n",
"m=2*10^-3\n",
"Rg=30*10^3\n",
"Rd=2\n",
"Rl=4\n",
"Rg=160\n",
"r1=5\n",
"rds=30\n",
"Rs=3\n",
"Av=(-m*Rg*Rd*Rl)/((Rg+r1)*((Rd+Rl)*(rds+(m+1)*Rs+Rd*Rl)))*1000\n",
"printf('\n The value of Av=%0.3f ',Av)"
   ]
   }
],
"metadata": {
		  "kernelspec": {
		   "display_name": "Scilab",
		   "language": "scilab",
		   "name": "scilab"
		  },
		  "language_info": {
		   "file_extension": ".sce",
		   "help_links": [
			{
			 "text": "MetaKernel Magics",
			 "url": "https://github.com/calysto/metakernel/blob/master/metakernel/magics/README.md"
			}
		   ],
		   "mimetype": "text/x-octave",
		   "name": "scilab",
		   "version": "0.7.1"
		  }
		 },
		 "nbformat": 4,
		 "nbformat_minor": 0
}
