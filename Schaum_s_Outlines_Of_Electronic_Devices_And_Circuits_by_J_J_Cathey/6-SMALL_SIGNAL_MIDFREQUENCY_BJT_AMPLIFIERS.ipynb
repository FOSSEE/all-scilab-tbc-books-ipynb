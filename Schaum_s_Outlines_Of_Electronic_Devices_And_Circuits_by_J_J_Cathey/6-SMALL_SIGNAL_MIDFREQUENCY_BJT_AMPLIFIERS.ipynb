{
"cells": [
 {
		   "cell_type": "markdown",
	   "metadata": {},
	   "source": [
       "# Chapter 6: SMALL SIGNAL MIDFREQUENCY BJT AMPLIFIERS"
	   ]
	},
{
		   "cell_type": "markdown",
		   "metadata": {},
		   "source": [
			"## Example 6.18: Find_Ai_and_Av.sce"
		   ]
		  },
  {
"cell_type": "code",
	   "execution_count": null,
	   "metadata": {
	    "collapsed": true
	   },
	   "outputs": [],
"source": [
"\n",
"//Example 6.18 page no 185\n",
"clear\n",
"clc\n",
"Rs=5        //kΩ\n",
"Rf=100      //kΩ\n",
"hie=1.1\n",
"Rc=10       //kΩ\n",
"Rl=10       //kΩ\n",
"hfe=50\n",
"d=((1/Rs)+(1/Rf)+(1/hie))*((1/Rf)+((Rc+Rl)/(Rc*Rl)))+((1/Rf)*((hfe/hie)-(1/Rf)))\n",
"printf('\n The value of d=%0.3f ' ,d)\n",
"\n",
""
   ]
   }
,
{
		   "cell_type": "markdown",
		   "metadata": {},
		   "source": [
			"## Example 6.19: Find_Ai_and_iL.sce"
		   ]
		  },
  {
"cell_type": "code",
	   "execution_count": null,
	   "metadata": {
	    "collapsed": true
	   },
	   "outputs": [],
"source": [
"//Example 6.19 page no 186\n",
"clear\n",
"clc\n",
"hfb=-0.99\n",
"Rc=2.2*10^3\n",
"Rl=1.1*10^3\n",
"Re=3.3*10^3\n",
"hib=25\n",
"hob=10^-6\n",
"Av=((Rc*Rl*hfb)/(hib*(Rc+Rl+hob*(Rc*Rl))))\n",
"Ai=-((Re*Rc*hfb)/((Re+hib)+(Rc+Rl+hob*Rl*Rc)))\n",
"printf('\n The value of Av=%0.3f ' ,Av)\n",
"printf('\n The value of Ai=%0.3f ' ,Ai)\n",
"\n",
""
   ]
   }
,
{
		   "cell_type": "markdown",
		   "metadata": {},
		   "source": [
			"## Example 6.22: Find_the_overall_voltage_gain_Av.sce"
		   ]
		  },
  {
"cell_type": "code",
	   "execution_count": null,
	   "metadata": {
	    "collapsed": true
	   },
	   "outputs": [],
"source": [
"//Find (a) the final-stage voltage gain Av2  vo=vo1; (b) the final-stage input impedance Zin2;\n",
"//(c) the initial-stage voltage gain Av1  vo1=vin; (d) the amplifier input impedance Zin1; and\n",
"//(e) the amplifier voltage gain Av  vo=vi.\n",
"//Example 6.22 page no 189\n",
"clear\n",
"clc\n",
"hfe=40\n",
"Rc2=20*10^3     //Ω\n",
"Rc1=10^4        //Ω\n",
"hie=1500\n",
"hoe=30*10^-6\n",
"Av2=-((hfe*Rc2)/(hie*(1+hoe*Rc2)))      //final-stage voltage gain\n",
"printf('\n The value of Av2=%0.3f ' ,Av2)\n",
"Rb2=5*10^3      //Ω\n",
"hie=1500\n",
"hfe=40\n",
"Zin2=(((Rb2*hie)/(Rb2+hie)))/1000           //final-stage input impedance Zin2\n",
"printf('\n The value of Zin2=%0.3f Kohm ' ,Zin2)\n",
"Zin2=Zin2*1000\n",
"Av1=-((hfe*Zin2*Rc1)/(hie*(Rc1+Zin2+hoe*Zin2*Rc1)))     //initial-stage voltage gain\n",
"printf('\n The value of Av1=%0.3f ' ,Av1)"
   ]
   }
,
{
		   "cell_type": "markdown",
		   "metadata": {},
		   "source": [
			"## Example 6.24: Find_the_overall_voltage_gain_Av.sce"
		   ]
		  },
  {
"cell_type": "code",
	   "execution_count": null,
	   "metadata": {
	    "collapsed": true
	   },
	   "outputs": [],
"source": [
"//Example 6.24 page no 191\n",
"clear\n",
"clc\n",
"R11=90*10^3\n",
"R12=100*10^3\n",
"R22=90*10^3\n",
"R21=10*10^3\n",
"Av1=0.9879\n",
"hfe=100\n",
"Rl=5*10^3\n",
"Rc=5*10^3\n",
"hie=1*10^3\n",
"Rb1=((R11*R12)/(R11+R12))/1000\n",
"printf('\n The value of Rb1=%0.3f Kohm' ,Rb1)\n",
"Rb2=((R22*R21)/(R22+R21))/1000\n",
"printf('\n The value of Rb2=%0.3f Kohm' ,Rb2)\n",
"Av2=-((hfe*Rl*Rc)/(hie*(Rl+Rc)))\n",
"printf('\n The value of Av2=%0.3f ' ,Av2)\n",
"Av=Av1*Av2\n",
"printf('\n The value of Av=%0.3f Kohm' ,Av)"
   ]
   }
,
{
		   "cell_type": "markdown",
		   "metadata": {},
		   "source": [
			"## Example 6.26: Find_the_overall_voltage_gain_Av.sce"
		   ]
		  },
  {
"cell_type": "code",
	   "execution_count": null,
	   "metadata": {
	    "collapsed": true
	   },
	   "outputs": [],
"source": [
"//Determine (a) the overall voltage-gain ratio Av = vL=vs, and (b) the overall current-gain ratio Ai = iL=is.\n",
"//Example 6.26 page no 193\n",
"clear\n",
"clc\n",
"hfe=100\n",
"Rl=3*10^3            //kΩ\n",
"Rc=3*10^3           //kΩ\n",
"hie=1*10^3\n",
"Av2=-((hfe*Rl*Rc)/(hie*(Rl+Rc)))\n",
"printf('\n The value of Av2=%0.3f ' ,Av2)\n",
"Rc1=10*10^3         //kΩ\n",
"Re1=1*10^3          //kΩ\n",
"Av1=-((hfe*Rc1*hie)/((Rc1+hie)*((hfe+1)*Re1+hie)))\n",
"printf('\n The value of Av1=%0.3f ' ,Av1)\n",
"Av=Av1*Av2\n",
"printf('\n The value of Av=%0.3f ' ,Av)\n",
"Ai1=-((hfe*Rc1)/(Rc1+hie))\n",
"printf('\n The value of Ai1=%0.3f ' ,Ai1)\n",
"Rc2=3*10^3          //kΩ\n",
"Ai2=-((hfe*Rc2)/(Rc2+Rl))\n",
"printf('\n The value of Ai2=%0.3f ' ,Ai2)\n",
"Ai=Ai1*Ai2\n",
"printf('\n The value of Ai=%0.3f ' ,Ai)"
   ]
   }
,
{
		   "cell_type": "markdown",
		   "metadata": {},
		   "source": [
			"## Example 6.27: Find_the_overall_voltage_gain_Av_and_overall_current_gain_ratio.sce"
		   ]
		  },
  {
"cell_type": "code",
	   "execution_count": null,
	   "metadata": {
	    "collapsed": true
	   },
	   "outputs": [],
"source": [
"//Find (a) the overall voltage-gain ratio\n",
"//Av ¼ vL=vS and (b) the overall current-gain ratio Ai ¼ iL=iS.\n",
"//Example 6.27 page no 194\n",
"clear\n",
"clc\n",
"hfb1=-0.99\n",
"hfc2=-100\n",
"Rb=33.3*10^3\n",
"Re1=5*10^3\n",
"Re2=2*10^3\n",
"Rl=2*10^3\n",
"hic2=500\n",
"hib1=50\n",
"hic2=500\n",
"Av1=-((hfb1*Rb*hic2)/(hib1*(Rb+hic2)))\n",
"Av2=0.995\n",
"Av=Av1*Av2\n",
"printf('\n The value of Av1=%0.3f ' ,Av1)\n",
"printf('\n The value of Av1=%0.3f ' ,Av)\n",
"Ai1=-((hfb1*Re1*Rb)/((Re1+hib1)*(Rb+hic2)))\n",
"printf('\n The value of Ai1=%0.3f ' ,Ai1)\n",
"Ai2=-((hfc2*Re2)/(Re2+Rl))\n",
"printf('\n The value of Ai2=%0.3f ' ,Ai2)\n",
"Ai=Ai1*Ai2\n",
"printf('\n The value of Ai=%0.3f ' ,Ai)"
   ]
   }
,
{
		   "cell_type": "markdown",
		   "metadata": {},
		   "source": [
			"## Example 6.2: Find_an_expression_for_the_current_gain_ratio_Ai.sce"
		   ]
		  },
  {
"cell_type": "code",
	   "execution_count": null,
	   "metadata": {
	    "collapsed": true
	   },
	   "outputs": [],
"source": [
"//Find an expression for the current-gain ratio Ai ¼ iL=is and evaluate it\n",
"//Example 6.2 page no 175\n",
"clear\n",
"clc\n",
"a=0.99//alpha\n",
"Rc=4*10^3       //kΩ\n",
"Rl=4*10^3       //kΩ\n",
"Re=5*10^3       //kΩ\n",
"re=30           //Ω\n",
"rb=300          //Ω\n",
"Ai=(a*Rc*Re)/((Rc+Rl)*(Re+re+(1-a)*rb))\n",
"printf('\n The value of Ai=%0.3f ' ,Ai)\n",
""
   ]
   }
,
{
		   "cell_type": "markdown",
		   "metadata": {},
		   "source": [
			"## Example 6.7: Calculate_the_voltage_gain_Av_and_the_current_gain_Ai.sce"
		   ]
		  },
  {
"cell_type": "code",
	   "execution_count": null,
	   "metadata": {
	    "collapsed": true
	   },
	   "outputs": [],
"source": [
"//Calculate (a) the voltage gain Av and (b) the current gain Ai.\n",
"//Example 6.7 page no 178\n",
"clear\n",
"clc\n",
"hfe=90\n",
"Rl=800//Ω\n",
"Rc=800//Ω\n",
"Rb=831//kΩ\n",
"hie=200\n",
"hoe=100*10^-6\n",
"Av=-((hfe*Rl*Rc)/(hie*(Rc+Rl+hoe*Rl*Rc)))   //voltage gain Av\n",
"Ai=((Rb*hie)/(Rl*(Rb+hie)))*Av              //current gain Ai\n",
"printf('\n The value of Av=%0.3f ' ,Av)\n",
"printf('\n The value of Ai=%0.3f ' ,Ai)\n",
""
   ]
   }
,
{
		   "cell_type": "markdown",
		   "metadata": {},
		   "source": [
			"## Example 6.8: determine_the_voltage_gain_Av.sce"
		   ]
		  },
  {
"cell_type": "code",
	   "execution_count": null,
	   "metadata": {
	    "collapsed": true
	   },
	   "outputs": [],
"source": [
"//Determine the voltage gain Av\n",
"//Example 6.8 page no 179\n",
"clear\n",
"clc\n",
"vl=1.1528       //output voltage\n",
"vi=0.250        //input voltage\n",
"Av=-(vl/vi)     //voltage gain \n",
"printf('\n The value of Av=%0.3f ' ,Av)\n",
"\n",
""
   ]
   }
],
"metadata": {
		  "kernelspec": {
		   "display_name": "Scilab",
		   "language": "scilab",
		   "name": "scilab"
		  },
		  "language_info": {
		   "file_extension": ".sce",
		   "help_links": [
			{
			 "text": "MetaKernel Magics",
			 "url": "https://github.com/calysto/metakernel/blob/master/metakernel/magics/README.md"
			}
		   ],
		   "mimetype": "text/x-octave",
		   "name": "scilab",
		   "version": "0.7.1"
		  }
		 },
		 "nbformat": 4,
		 "nbformat_minor": 0
}
