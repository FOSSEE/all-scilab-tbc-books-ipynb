{
"cells": [
 {
		   "cell_type": "markdown",
	   "metadata": {},
	   "source": [
       "# Chapter 6: Digital Circuits"
	   ]
	},
{
		   "cell_type": "markdown",
		   "metadata": {},
		   "source": [
			"## Example 6.1: Output_Levels_for_a_given_input_in_a_silicon_transistor.sce"
		   ]
		  },
  {
"cell_type": "code",
	   "execution_count": null,
	   "metadata": {
	    "collapsed": true
	   },
	   "outputs": [],
"source": [
"clear;\n",
"clc;\n",
"\n",
"//Caption:Output Levels for a given input in a silicon transistor\n",
"//Given Data\n",
"R1=15;//in K\n",
"R2=100;//in K\n",
"//R1 and R2 are voltages at base which acts as potential divider\n",
"Rc=2.2;//voltage at collector in K\n",
"hfe=30;\n",
"\n",
"//For vi=0\n",
"Vb = (R1/(R1+R2))*(-12);//Voltage at base in V\n",
"disp('V',Vb,'Vb=');\n",
"//A bias of 0V is required to cut off a silicon emitter junction transistor   given in table\n",
"Vo = 0;//in V\n",
"disp('Vo',Vo,'Vo = ');\n",
"\n",
"//For vi=12\n",
"vi=12;//in V\n",
"//Few standard values for silicon transistor\n",
"Vbesat=0.8;//in V\n",
"Vcesat=0.2;//in V\n",
"//Assumption: Q is in saturation region\n",
"Ic = (vi-Vcesat)/Rc;//Collector Current\n",
"disp('mA',Ic,'Ic=');\n",
"Ibmin=(Ic/hfe);//Mininmum current at the base\n",
"disp('mA',Ibmin,'Ibmin=');\n",
"I1=(vi-Vbesat)/R1;//Current in R1\n",
"I2=(Vbesat-(-12))/100;//Current in R2\n",
"Ib = I1-I2;//Base current\n",
"disp('mA',Ib,'Ib=');\n",
"\n",
"if(Ib>Ibmin)\n",
"    disp('Since Ib>Ibmin , The transistor is in saturation region and drop is Vcesat');\n",
"    vo=Vcesat;\n",
"    disp('V',vo,'vo=');\n",
"end\n",
"\n",
"//end"
   ]
   }
,
{
		   "cell_type": "markdown",
		   "metadata": {},
		   "source": [
			"## Example 6.2: To_verify_given_equation.sce"
		   ]
		  },
  {
"cell_type": "code",
	   "execution_count": null,
	   "metadata": {
	    "collapsed": true
	   },
	   "outputs": [],
"source": [
"clear;\n",
"clc;\n",
"\n",
"//Caption: To verify given equation\n",
"\n",
"disp('NOTE: We will write A with a bar on its top as   a ');\n",
"disp('To verify');\n",
"disp(' A + aB = A + B');\n",
"\n",
"disp('We know that   B + 1 = 1  and  A1 = A');\n",
"disp('A + aB = A(B+1) + aB = AB + A + aB =');\n",
"disp('(A + a)B + A = B + A');\n",
"disp('which is equal to RHS')\n",
"//end"
   ]
   }
,
{
		   "cell_type": "markdown",
		   "metadata": {},
		   "source": [
			"## Example 6.3_a: To_find_wether_a_given_circuit_is_positive_NAND.sce"
		   ]
		  },
  {
"cell_type": "code",
	   "execution_count": null,
	   "metadata": {
	    "collapsed": true
	   },
	   "outputs": [],
"source": [
"clear;\n",
"clc;\n",
"\n",
"//Caption:To find wether a given circuit is positive NAND\n",
"//Given Data\n",
"R=15;//in K\n",
"R1=15;//in K\n",
"R2=100;//in K\n",
"R3=2.2;//in K\n",
"V0=0;//in V\n",
"V1=12;//in V\n",
"Vcc=12;//in V\n",
"\n",
"//If input is at V0=0V\n",
"Vb = -Vcc*(R1/(R1+R2));//The base voltage of the transistor\n",
"disp('V',Vb,'The base voltage of transistor Vb=');\n",
"if(Vb<0)\n",
"    disp('Q is cutoff and Y is at 12V');\n",
"    disp('The result confirms the first three rows of truth table');\n",
"end\n",
"\n",
"//If input is at V1 = 12V\n",
"//Assumption:All the diodes are reversed biased and transistor is in saturation\n",
"//If Q is in saturation\n",
"Vbe=0;//in V\n",
"Vp = V1*(R/(R+R1));//voltage at point P in front of all diodes\n",
"disp(Vp,'All diodes are reversed biased by');\n",
"Iq = (V1/(R+R1)-(V1/R2));//The base current of Q\n",
"Ic=V1/R3;//Current in the collector junction\n",
"disp('mA',Ic,'Ic=');\n",
"hFEmin = Ic/Iq;\n",
"disp(hFEmin,'hFEmin=');\n",
"disp(hFEmin,'When hFE >');\n",
"disp('Under these condition the output is at ground and this satisfies the first three rows of truth table');\n",
"\n",
"\n",
"//end"
   ]
   }
,
{
		   "cell_type": "markdown",
		   "metadata": {},
		   "source": [
			"## Example 6.3_b: To_find_wether_with_given_conditions_NAND_gate_is_satisfied.sce"
		   ]
		  },
  {
"cell_type": "code",
	   "execution_count": null,
	   "metadata": {
	    "collapsed": true
	   },
	   "outputs": [],
"source": [
"clear;\n",
"clc;\n",
"\n",
"//Caption://To find wether with given conditions NAND gate is satisfied\n",
"//Given Data\n",
"R=15;//in K\n",
"R1=15;//in K\n",
"R2=100;//in K\n",
"R3=2.2;//in K\n",
"V0=0;//in V\n",
"V1=12;//in V\n",
"Vcc=12;//in V\n",
"\n",
"//If input is at V0=0V\n",
"Vb = -Vcc*(R1/(R1+R2));//Base Current in V\n",
"\n",
"//Finding thevenin equivallent fom P to ground\n",
"Rd = 1;//in K\n",
"Vd=0.7;//in v\n",
"Vr=1;//in K\n",
"//Thevenin Equivallent Voltage and resistance from P to ground\n",
"v = (Vcc*(Rd/(Rd+R)))+(Vd*(R/(R+Rd)));\n",
"rs = Rd*(R/(R+Rd));\n",
"//Open Circuit Voltage at base of the transistor\n",
"Vb1 = (-Vcc*((R1+rs)/(R1+R2+rs))) + (v*(R2/(R1+R2+rs)));\n",
"disp('V',Vb1,'Vb1=');\n",
"if(Vb1>Vb)\n",
"    disp('The voltage is adequate to reverse bias Q');\n",
"end\n",
"\n",
"\n",
"//end"
   ]
   }
,
{
		   "cell_type": "markdown",
		   "metadata": {},
		   "source": [
			"## Example 6.3_c: Silicon_Transistors_and_diodes_are_used_in_positive_NAND.sce"
		   ]
		  },
  {
"cell_type": "code",
	   "execution_count": null,
	   "metadata": {
	    "collapsed": true
	   },
	   "outputs": [],
"source": [
"clear;\n",
"clc;\n",
"\n",
"//Caption:Silicon Transistors and diodes are used in positive NAND\n",
"//Given Data\n",
"R=15;//in K\n",
"R1=15;//in K\n",
"R2=100;//in K\n",
"R3=2.2;//in K\n",
"V0=0;//in V\n",
"V1=12;//in V\n",
"Vcc=12;//in V\n",
"\n",
"//To find wether with given conditions NANAD gate is satisfied\n",
"//Finding thevenin equivallent from P to ground\n",
"Rd = 1;//in K\n",
"Vd=0.7;//in v\n",
"Vr=1;//in K\n",
"v = (Vcc*(Rd/(Rd+R)))+(Vd*(R/(R+Rd)));\n",
"rs = Rd*(R/(R+Rd));\n",
"\n",
"//If the inputs are high\n",
"\n",
"Vcesat = 0.2;//in V\n",
"Vb2 = (-Vcc*(R1/(R1+R2)) + ((Vd+Vcesat)*R2/(R1+R2)));\n",
"disp('V',Vb2,'Vb2=');\n",
"disp('It cuts off Q Y=1 ');\n",
"\n",
"//end"
   ]
   }
,
{
		   "cell_type": "markdown",
		   "metadata": {},
		   "source": [
			"## Example 6.4: To_verify_that_AND_OR_topology_is_equivallent_to_NAND_NAND_system.sce"
		   ]
		  },
  {
"cell_type": "code",
	   "execution_count": null,
	   "metadata": {
	    "collapsed": true
	   },
	   "outputs": [],
"source": [
"clear;\n",
"clc;\n",
"\n",
"//Caption: To verify that AND-OR topology is equivallent to NAND-NAND system\n",
"disp('In digital electronics we have to come across situations where we need to use an inpout with a bar but here we will denote as');\n",
"disp('X with a bar = Xb and X with two bars = Xbb');\n",
"\n",
"//Solution\n",
"disp('We know that X =Xbb');\n",
"disp('For AND OR logic the output of AND and simultaneously neglecting the input to following OR does not change the logic');\n",
"disp('We have also neglected the output of the OR gate and at the same time have added an INVERTER so that logic is once again unaffected');\n",
"disp('AN OR gate neglected at each terminal is an an AND circuit');\n",
"disp('Since AND followed by an inverter is NAND ');\n",
"disp('Hencee the NAND NAND is equivallent to AND OR');\n",
"\n",
"//end"
   ]
   }
,
{
		   "cell_type": "markdown",
		   "metadata": {},
		   "source": [
			"## Example 6.5_a: To_find_hFEmin.sce"
		   ]
		  },
  {
"cell_type": "code",
	   "execution_count": null,
	   "metadata": {
	    "collapsed": true
	   },
	   "outputs": [],
"source": [
"clear;\n",
"clc;\n",
"\n",
"//Caption:To find hFEmin\n",
"//Given Data\n",
"//For transistor\n",
"Vbesat=0.8;//Vgamma of diode in V\n",
"Vy=0.5;//in V\n",
"Vcesat=0.2;//in V\n",
"R = 5;//in K\n",
"Rc = 2.2;//in K\n",
"\n",
"//For diode\n",
"Vyd=0.6;//in V\n",
"Vdrop=0.7;//in V\n",
"\n",
"//The logic levels are Vcesato=0.2V for 0 state\n",
"Vcesato=0.2;//in V\n",
"//The logic levels are Vcc=5V for 1 state\n",
"Vcc=5;//in V\n",
"disp('If atleast one input is in 0 state');\n",
"Vp = Vcesato + Vy;//Potential at point P\n",
"disp('V',Vp,'Vp=');\n",
"//For diodes D1 and D2 to be conducting\n",
"v = 2*Vdrop;\n",
"disp('For diodes D1 and D2 to be conducting');\n",
"disp(v,'required voltage = ');\n",
"//These diodes cutoff\n",
"Vbe = 0;\n",
"if(Vbe<Vy)\n",
"    disp('Q is OFF');\n",
"    disp('Output rises to 5V and Y = 1');\n",
"    disp('This confirms first 3 rows of NAND truth table');\n",
"end\n",
"\n",
"//if all inputs are at V(1)=5V , we shall assume all input diodes OFF and D1 and D2 conduct and Q is in saturation\n",
"disp('When inputs are at 5V');\n",
"Vp = Vdrop + Vdrop + Vbesat;\n",
"disp('V',Vp,'Vp=');\n",
"disp(Vcc-Vp,'The voltage across all input diode');\n",
"\n",
"//For finding hFEmin\n",
"I1 = (Vcc-Vp)/R;\n",
"I2 = Vbesat/R;\n",
"Ib = I1-I2;\n",
"Ic = (Vcc-Vcesat)/Rc;\n",
"hFEmin = Ic/Ib;\n",
"disp(hFEmin,'hFEmin=');\n",
"\n",
"//end"
   ]
   }
,
{
		   "cell_type": "markdown",
		   "metadata": {},
		   "source": [
			"## Example 6.5_b: When_atleast_one_input_is_at_V0_in_NAND_gate.sce"
		   ]
		  },
  {
"cell_type": "code",
	   "execution_count": null,
	   "metadata": {
	    "collapsed": true
	   },
	   "outputs": [],
"source": [
"clear;\n",
"clc;\n",
"\n",
"//Caption:When atleast one input is at V(0) in NAND gate\n",
"//Given Data\n",
"//For transistor\n",
"Vbesat=0.8;//in V\n",
"Vy=0.5;//in V\n",
"Vcesat=0.2;//in V\n",
"R = 5;//in K\n",
"Rc = 2.2;//in K\n",
"\n",
"//For diode\n",
"Vyd=0.6;//Vgamma in V\n",
"Vdrop=0.7;//in V\n",
"\n",
"//The logic levels are Vcesato=0.2V for 0 state\n",
"Vcesato=0.2;//in V\n",
"\n",
"disp('If atleast one input is in 0 state');\n",
"Vp = Vcesato + Vdrop;//Voltage at point P\n",
"disp('V',Vp,'Vp=');\n",
"Vbe = Vp-Vyd;//Voltage at base emitter\n",
"disp('V',Vbe,'Vbe=');\n",
"if(Vbe<Vy)\n",
"    disp('Q is cutoff');\n",
"end\n",
"if(Vbe>Vy)\n",
"    disp('Q is ON');\n",
"end\n",
"//end"
   ]
   }
,
{
		   "cell_type": "markdown",
		   "metadata": {},
		   "source": [
			"## Example 6.5_c: If_input_is_high_in_NAND_gate.sce"
		   ]
		  },
  {
"cell_type": "code",
	   "execution_count": null,
	   "metadata": {
	    "collapsed": true
	   },
	   "outputs": [],
"source": [
"clear;\n",
"clc;\n",
"\n",
"//Caption:If input is high in NAND gate\n",
"//Given Data\n",
"//For transistor\n",
"Vbesat=0.8;//in V\n",
"Vy=0.5;//in V\n",
"R = 5;//in K\n",
"Rc = 2.2;//in K\n",
"\n",
"//For diode\n",
"Vyd=0.6;//in V\n",
"Vdrop=0.7;//in V\n",
"\n",
"//The logic levels are Vcesato=0.2V for 0 state\n",
"Vcesato=0.2;//in V\n",
"\n",
"Vp = Vdrop + Vdrop + Vbesat;//Voltage at point P\n",
"disp('V',Vp,'Vp=');\n",
"disp('V',Vcc-Vp,'Each diode is reversed biased by ');\n",
"disp('V',Vyd,'A diode starts to conduct when it is forward bias by');\n",
"vn = (Vcc-Vp) + Vyd;//Noise Spike which will cause the malfunction\n",
"disp('V',vn,'A noise spike which will cause malfunction is');\n",
"\n",
"\n",
"//end"
   ]
   }
,
{
		   "cell_type": "markdown",
		   "metadata": {},
		   "source": [
			"## Example 6.5_d: If_input_is_low_in_NAND_gate.sce"
		   ]
		  },
  {
"cell_type": "code",
	   "execution_count": null,
	   "metadata": {
	    "collapsed": true
	   },
	   "outputs": [],
"source": [
"clear;\n",
"clc;\n",
"\n",
"//Caption:If input is low in NAND gate\n",
"//Given Data\n",
"//For transistor\n",
"Vbesat=0.8;//in V\n",
"Vy=0.5;//in V\n",
"R = 5;//in K\n",
"Rc = 2.2;//in K\n",
"\n",
"//The logic levels are Vcesato=0.2V for 0 state\n",
"Vcesato=0.2;//in V\n",
"//For diode\n",
"\n",
"Vyd=0.6;//in V\n",
"Vdrop=0.7;//in V\n",
"\n",
"Vp = Vcesato + Vdrop;//Voltage at point P\n",
"disp('V',Vp,'Vp=');\n",
"Vbe = Vy;//Voltage at base emitter will be same as Vgamma\n",
"vp = Vbe + Vyd +Vyd;//The level to which vp should increase\n",
"Vn = vp - Vp;//Noise Margin\n",
"disp('V',Vn,'Noise Margin = ');\n",
"\n",
"//end"
   ]
   }
,
{
		   "cell_type": "markdown",
		   "metadata": {},
		   "source": [
			"## Example 6.6: Calculation_of_FAN_OUT_of_NAND_gate.sce"
		   ]
		  },
  {
"cell_type": "code",
	   "execution_count": null,
	   "metadata": {
	    "collapsed": true
	   },
	   "outputs": [],
"source": [
"clear;\n",
"clc;\n",
"\n",
"//Caption:Calculation of FAN OUT of NAND gate\n",
"//Given Values\n",
"hFE=30;\n",
"Vbe1active=0.7;//in V\n",
"Vd2=0.7;//in V\n",
"Vbe2sat=0.8;//in V\n",
"Vcc=5;//in V\n",
"R1=1.75;//in K\n",
"R2=2;//in K\n",
"R3=2.2;//in K\n",
"R4=5;//in K\n",
"\n",
"Vp = Vbe1active + Vd2 + Vbe2sat;//Voltage at point P\n",
"//The current in 2K resistor is Ib1\n",
"//In active region\n",
"//Ic1=hFE*Ib1\n",
"//I1 = Ib1+Ic1=(1+hFE)*Ib1.... Now applying KVL between Vcc and Vp\n",
"//Vcc-Vp = R1*(1+hFE)*Ib1 + 2*Ib1\n",
"Ib1 = (Vcc-Vp)/(R1*(1+hFE)+2);//Base current in transistor 1\n",
"disp('mA',Ib1,'Ib1=');\n",
"Ic1=hFE*Ib1;//Collector Current in transistor 1\n",
"disp('mA',Ic1,'Ic1=');\n",
"I1 = Ib1 + Ic1;//in mA\n",
"I2=Vbe2sat/R4;//in mA\n",
"Ib2 = I1-I2;//Base Current in Transistor 2\n",
"//The unloaded current of Q2\n",
"Iq2=(Vcc-0.2)/R3;\n",
"//For each gate which it drive ,Q2 must sink a standard load of\n",
"I=(Vcc-Vd2-0.2)/(R1+R2);\n",
"//To Calculate the FAN OUT\n",
"//The maximum current is hFE*Ib2\n",
"//hFE*Ib2 = (I*N) + Iq2\n",
"N=((hFE*Ib2)-Iq2)/I;//FAN OUT\n",
"disp(N,'N=');\n",
"\n",
"//end"
   ]
   }
],
"metadata": {
		  "kernelspec": {
		   "display_name": "Scilab",
		   "language": "scilab",
		   "name": "scilab"
		  },
		  "language_info": {
		   "file_extension": ".sce",
		   "help_links": [
			{
			 "text": "MetaKernel Magics",
			 "url": "https://github.com/calysto/metakernel/blob/master/metakernel/magics/README.md"
			}
		   ],
		   "mimetype": "text/x-octave",
		   "name": "scilab",
		   "version": "0.7.1"
		  }
		 },
		 "nbformat": 4,
		 "nbformat_minor": 0
}
