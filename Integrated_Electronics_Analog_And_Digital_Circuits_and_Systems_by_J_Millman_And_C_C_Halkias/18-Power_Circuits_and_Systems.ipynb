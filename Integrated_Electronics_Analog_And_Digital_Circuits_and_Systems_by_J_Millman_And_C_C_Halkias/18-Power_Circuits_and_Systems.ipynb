{
"cells": [
 {
		   "cell_type": "markdown",
	   "metadata": {},
	   "source": [
       "# Chapter 18: Power Circuits and Systems"
	   ]
	},
{
		   "cell_type": "markdown",
		   "metadata": {},
		   "source": [
			"## Example 18.1_a: Design_a_series_regulated_power_supply.sce"
		   ]
		  },
  {
"cell_type": "code",
	   "execution_count": null,
	   "metadata": {
	    "collapsed": true
	   },
	   "outputs": [],
"source": [
"clear;\n",
"clc;\n",
"\n",
"//Caption:Design a series regulated power supply\n",
"//Given Data\n",
"Vo=25;//in V\n",
"ro=10;//in ohm\n",
"\n",
"disp('select a silicon reference diode');\n",
"disp('two IN7555 diodes are provided');\n",
"Rz = 12;//in ohm\n",
"Vo=25;//output voltage in V\n",
"Vr = 7.5 + 7.5;//because two diodes are used\n",
"Iz = 20;//in mA\n",
"Ie2=10;//in mA\n",
"Ic2 = Ie2;\n",
"Icmax=30;//in mA\n",
"Vcemax=45;//in V\n",
"hFE2=220;\n",
"hfe2=200;\n",
"hie2=800;//in ohm\n",
"Id=10;//in mA\n",
"Il = 1000;//in mA\n",
"Vi = 50;//in V\n",
"dVi = 10; //change in input voltage\n",
"dIl = 1;//change in load current\n",
"\n",
"//For D1 and D2 operate\n",
"Iz = Id + Id;\n",
"Rd = (Vo-Vr)/Id;\n",
"disp('K',Rd,'Rd=');\n",
"\n",
"Ib2 = (1000*Ic2)/hFE2;\n",
"disp('microA',Ib2,'Ib2=');\n",
"\n",
"//Since we require I1>Ib2 , we select\n",
"I1=10*(10^-3);//in A\n",
"Vbe = 0.7;//in V\n",
"\n",
"V2 = Vbe + Vr;\n",
"disp('V',V2,'V2=');\n",
"\n",
"R1 = (Vo-V2)/I1;\n",
"R2 = V2/I1;\n",
"disp('ohm',R1,'R1=');\n",
"disp('ohm',R2,'R2=');\n",
"\n",
"//We are selecting Texas Instruments 2N1722 silicon power transistor, so following parameters are required\n",
"disp('We are selecting Texas Instruments 2N1722 silicon power transistor');\n",
"Ic1 = 1;//in A\n",
"hFE1=125;\n",
"hfe1=100;\n",
"hie1=20;\n",
"\n",
"Ib1 =(1000*I1 + Il + Id)/hFE1;\n",
"disp('mA',Ib1+Ic2,'The current through resistor R3 is');\n",
"I=Ib1 + Ic2;\n",
"\n",
"R3 = (Vi - (Vbe + Vo))/I;\n",
"disp('K',R3,'The value of R3 is');\n",
"\n",
"//End"
   ]
   }
,
{
		   "cell_type": "markdown",
		   "metadata": {},
		   "source": [
			"## Example 18.1_b: Calculation_of_Sv.sce"
		   ]
		  },
  {
"cell_type": "code",
	   "execution_count": null,
	   "metadata": {
	    "collapsed": true
	   },
	   "outputs": [],
"source": [
"clear;\n",
"clc;\n",
"\n",
"//Caption:Calculation of Sv\n",
"//Given Data\n",
"Vo=25;//in V\n",
"ro=10;//in ohm\n",
"\n",
"Rz = 12;//in ohm\n",
"Vo=25;//output voltage in V\n",
"Vr = 7.5 + 7.5;//because two diodes are used\n",
"Iz = 20;//in mA\n",
"Ie2=10;//in mA\n",
"Ic2 = Ie2;\n",
"Icmax=30;//in mA\n",
"Vcemax=45;//in V\n",
"hFE2=220;\n",
"hfe2=200;\n",
"hie2=800;//in ohm\n",
"Id=10;//in mA\n",
"Il = 1000;//in mA\n",
"Vi = 50;//in V\n",
"dVi = 10; //change in input voltage\n",
"dIl = 1;//change in load current\n",
"\n",
"//For D1 and D2 operate\n",
"Iz = Id + Id;\n",
"Rd = (Vo-Vr)/Id;\n",
"\n",
"Ib2 = (1000*Ic2)/hFE2;\n",
"\n",
"//Since we require I1>Ib2 , we select\n",
"I1=10*(10^-3);//in A\n",
"Vbe = 0.7;//in V\n",
"\n",
"V2 = Vbe + Vr;\n",
"\n",
"R1 = (Vo-V2)/I1;\n",
"R2 = V2/I1;\n",
"\n",
"//We are selecting Texas Instruments 2N1722 silicon power transistor, so following parameters are required\n",
"Ic1 = 1;//in A\n",
"hFE1=125;\n",
"hfe1=100;\n",
"hie1=20;\n",
"\n",
"Ib1 =(1000*I1 + Il + Id)/hFE1;\n",
"//The current through resistor R3\n",
"I=Ib1 + Ic2;\n",
"\n",
"R3 = (Vi - (Vbe + Vo))/I;\n",
"Gm = hfe2*(R2/(R2+R1))*(1/((R1*R2/(R1+R2))+hie2+(1+hfe2)*Rz)) ;\n",
"Sv = (10^-3)/(Gm*R3);\n",
"disp(Sv,'Sv=');\n",
"\n",
"//End"
   ]
   }
,
{
		   "cell_type": "markdown",
		   "metadata": {},
		   "source": [
			"## Example 18.1_c: Find_output_resistance_Ro.sce"
		   ]
		  },
  {
"cell_type": "code",
	   "execution_count": null,
	   "metadata": {
	    "collapsed": true
	   },
	   "outputs": [],
"source": [
"clear;\n",
"clc;\n",
"\n",
"//Caption:Find output resistance Ro\n",
"//Given Data\n",
"Vo=25;//in V\n",
"ro=10;//in ohm\n",
"Rz = 12;//in ohm\n",
"Vo=25;//output voltage in V\n",
"Vr = 7.5 + 7.5;//because two diodes are used\n",
"Iz = 20;//in mA\n",
"Ie2=10;//in mA\n",
"Ic2 = Ie2;\n",
"Icmax=30;//in mA\n",
"Vcemax=45;//in V\n",
"hFE2=220;\n",
"hfe2=200;\n",
"hie2=800;//in ohm\n",
"Id=10;//in mA\n",
"Il = 1000;//in mA\n",
"Vi = 50;//in V\n",
"dVi = 10; //change in input voltage\n",
"dIl = 1;//change in load current\n",
"\n",
"//For D1 and D2 operate\n",
"Iz = Id + Id;\n",
"Rd = (Vo-Vr)/Id;\n",
"\n",
"Ib2 = (1000*Ic2)/hFE2;\n",
"\n",
"//Since we require I1>Ib2 , we select\n",
"I1=10*(10^-3);//in A\n",
"Vbe = 0.7;//in V\n",
"\n",
"V2 = Vbe + Vr;\n",
"\n",
"R1 = (Vo-V2)/I1;\n",
"R2 = V2/I1;\n",
"\n",
"//We are selecting Texas Instruments 2N1722 silicon power transistor, so following parameters are required\n",
"Ic1 = 1;//in A\n",
"hFE1=125;\n",
"hfe1=100;\n",
"hie1=20;\n",
"\n",
"Ib1 =(1000*I1 + Il + Id)/hFE1;\n",
"//The current through resistor R3 is\n",
"I=Ib1 + Ic2;\n",
"\n",
"R3 = (Vi - (Vbe + Vo))/I;\n",
"\n",
"Gm = hfe2*(R2/(R2+R1))*(1/((R1*R2/(R1+R2))+hie2+(1+hfe2)*Rz)) ;\n",
"disp(Gm,'Gm=');\n",
"\n",
"Ro = (ro + (((1000*R3) + hie1)/(1+hfe1)))/(1 + (Gm*((1000*R3) + ro)));\n",
"disp('K',Ro,'The output impedence is = ');\n",
"\n",
"//End"
   ]
   }
,
{
		   "cell_type": "markdown",
		   "metadata": {},
		   "source": [
			"## Example 18.1_d: EX18_1_d.sce"
		   ]
		  },
  {
"cell_type": "code",
	   "execution_count": null,
	   "metadata": {
	    "collapsed": true
	   },
	   "outputs": [],
"source": [
"clear;\n",
"clc;\n",
"\n",
"//Caption:Calculation of change in output voltage due to change in input voltage and load current\n",
"//Given Data\n",
"Vo=25;//in V\n",
"ro=10;//in ohm\n",
"\n",
"Rz = 12;//in ohm\n",
"Vo=25;//output voltage in V\n",
"Vr = 7.5 + 7.5;//because two diodes are used\n",
"Iz = 20;//in mA\n",
"Ie2=10;//in mA\n",
"Ic2 = Ie2;\n",
"Icmax=30;//in mA\n",
"Vcemax=45;//in V\n",
"hFE2=220;\n",
"hfe2=200;\n",
"hie2=800;//in ohm\n",
"Id=10;//in mA\n",
"Il = 1000;//in mA\n",
"Vi = 50;//in V\n",
"dVi = 10; //change in input voltage\n",
"dIl = 1;//change in load current\n",
"\n",
"//For D1 and D2 operate\n",
"Iz = Id + Id;\n",
"Rd = (Vo-Vr)/Id;\n",
"\n",
"Ib2 = (1000*Ic2)/hFE2;\n",
"\n",
"//Since we require I1>Ib2 , we select\n",
"I1=10*(10^-3);//in A\n",
"Vbe = 0.7;//in V\n",
"\n",
"V2 = Vbe + Vr;\n",
"\n",
"R1 = (Vo-V2)/I1;\n",
"R2 = V2/I1;\n",
"\n",
"//We are selecting Texas Instruments 2N1722 silicon power transistor, so following parameters are required\n",
"Ic1 = 1;//in A\n",
"hFE1=125;\n",
"hfe1=100;\n",
"hie1=20;\n",
"\n",
"Ib1 =(1000*I1 + Il + Id)/hFE1;\n",
"//The current through resistor R3 is\n",
"I=Ib1 + Ic2;\n",
"\n",
"R3 = (Vi - (Vbe + Vo))/I;\n",
"\n",
"Gm = hfe2*(R2/(R2+R1))*(1/((R1*R2/(R1+R2))+hie2+(1+hfe2)*Rz)) ;\n",
"Sv = (10^-3)/(Gm*R3);\n",
"\n",
"Ro = (ro + (((1000*R3) + hie1)/(1+hfe1)))/(1 + (Gm*((1000*R3) + ro)));\n",
"\n",
"dVo = (Sv*dVi)+(Ro*dIl);\n",
"disp('V',dVo,'Change in output voltage = ');\n",
"\n",
"//End"
   ]
   }
,
{
		   "cell_type": "markdown",
		   "metadata": {},
		   "source": [
			"## Example 18.2_a: SCR_half_wave_power_control_circuit.sce"
		   ]
		  },
  {
"cell_type": "code",
	   "execution_count": null,
	   "metadata": {
	    "collapsed": true
	   },
	   "outputs": [],
"source": [
"clear;\n",
"clc;\n",
"\n",
"//Caption:SCR half wave power control circuit\n",
"//Given Data\n",
"Vs=230;//in V\n",
"Rl=200;//in ohm\n",
"//Trigger is adjusted so that conduction starts after 60degree of start of cycle\n",
"//Instantaneous Current il = (230*2^0.5*sin(a))/200\n",
"\n",
"// to find rms value\n",
"xo = %pi/3;//lower limit of integration\n",
"x1 = %pi;//upper limit of integration\n",
"\n",
"X = integrate('((230*(2^0.5)*sin(x))/200)^2','x',xo,x1);\n",
"Irms = (X/(2*%pi))^0.5;\n",
"disp('A',Irms,'Irms = ');\n",
"\n",
"//End"
   ]
   }
,
{
		   "cell_type": "markdown",
		   "metadata": {},
		   "source": [
			"## Example 18.2_b: SCR_half_wave_power_control_circuit.sce"
		   ]
		  },
  {
"cell_type": "code",
	   "execution_count": null,
	   "metadata": {
	    "collapsed": true
	   },
	   "outputs": [],
"source": [
"clear;\n",
"clc;\n",
"\n",
"//Caption:SCR half wave power control circuit\n",
"//Given Data\n",
"Vs=230;//in V\n",
"Rl=200;//in ohm\n",
"//Trigger is adjusted so that conduction starts after 60degree of start of cycle\n",
"//Instantaneous Current il = (230*2^0.5*sin(a))/200\n",
"//It is noted that between 0 to pi/3 SCR voltage equals line voltage and between pi/3 to pi it is zer and for the rest it is equal to line voltage\n",
"//Vl = 230*2^0.5*sin(x)\n",
"//To find instantaneous power\n",
"\n",
"x0=%pi/3;//lower limit of integral\n",
"x1=%pi;//upper limit of integral\n",
"X = integrate('(230*230*2*(sin(x)^2))/200','x',x0,x1);\n",
"P = X/(2*3.14);\n",
"disp('W',P,'P=');\n",
"\n",
"//End"
   ]
   }
,
{
		   "cell_type": "markdown",
		   "metadata": {},
		   "source": [
			"## Example 18.2_c: SCR_half_wave_power_control_circuit.sce"
		   ]
		  },
  {
"cell_type": "code",
	   "execution_count": null,
	   "metadata": {
	    "collapsed": true
	   },
	   "outputs": [],
"source": [
"clear;\n",
"clc;\n",
"\n",
"//Caption:SCR half wave power control circuit\n",
"//Given Data\n",
"Vs=230;//in V\n",
"Rl=200;//in ohm\n",
"//Trigger is adjusted so that conduction starts after 60degree of start of cycle\n",
"//Instantaneous Current il = (230*2^0.5*sin(a))/200\n",
"\n",
"//To find Vrms\n",
"\n",
"//It is noted that between 0 to pi/3 SCR voltage equals line voltage and between pi/3 to pi it is zer and for the rest it is equal to line voltage\n",
"xo=0;//lower limit of first integral\n",
"x1=%pi/3;//upper limit of first integral\n",
"x2=%pi;//lower limit of second integral\n",
"x3=2*(%pi);//upper limit of second integral\n",
"X1 = integrate('(230*(2^0.5)*sin(x))^2','x',xo,x1);\n",
"X2 = integrate('(230*(2^0.5)*sin(x))^2','x',x2,x3);\n",
"Vrms = ((X1+X2)/(2*%pi))^0.5;\n",
"disp('V',Vrms,'Vrms=');\n",
"\n",
"//End"
   ]
   }
,
{
		   "cell_type": "markdown",
		   "metadata": {},
		   "source": [
			"## Example 18.3: SCR_Relaxation_Oscillator_Phase_control_Circuit.sce"
		   ]
		  },
  {
"cell_type": "code",
	   "execution_count": null,
	   "metadata": {
	    "collapsed": true
	   },
	   "outputs": [],
"source": [
"clear;\n",
"clc;\n",
"\n",
"//Caption:SCR Relaxation Oscillator Phase control Circuit\n",
"//Given Data\n",
"C=0.1;//in microF\n",
"V=60;//in V\n",
"Vb=32;//in V\n",
"Vh=10;//holding voltage in V\n",
"Ih=100;//in microA\n",
"c=45;//conductance angle in degree\n",
"cd = 360 - c;//angle in which capacitor will get charged\n",
"td = (cd/360)*(1/60);//in ms\n",
"\n",
"//if the anode voltage is positive,the SCR will fire when vc=32V\n",
"vc=32;//in V\n",
"//let time constant = t = R*C\n",
"//vc-Vh = (V-Vh)(1-exp(-td/t))\n",
"t = -td/log(1-((vc-Vh)/(V-Vh)));\n",
"disp('sec',t,'time constant = ');\n",
"R = t/C;//Resistance in K\n",
"disp('K',R*1000,'R=');\n",
"\n",
"\n",
"//end"
   ]
   }
],
"metadata": {
		  "kernelspec": {
		   "display_name": "Scilab",
		   "language": "scilab",
		   "name": "scilab"
		  },
		  "language_info": {
		   "file_extension": ".sce",
		   "help_links": [
			{
			 "text": "MetaKernel Magics",
			 "url": "https://github.com/calysto/metakernel/blob/master/metakernel/magics/README.md"
			}
		   ],
		   "mimetype": "text/x-octave",
		   "name": "scilab",
		   "version": "0.7.1"
		  }
		 },
		 "nbformat": 4,
		 "nbformat_minor": 0
}
