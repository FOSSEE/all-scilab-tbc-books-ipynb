{
"cells": [
 {
		   "cell_type": "markdown",
	   "metadata": {},
	   "source": [
       "# Chapter 1: Energy Band in Solid"
	   ]
	},
{
		   "cell_type": "markdown",
		   "metadata": {},
		   "source": [
			"## Example 1.1: Plane_Parallel_plate_Capacitor.sce"
		   ]
		  },
  {
"cell_type": "code",
	   "execution_count": null,
	   "metadata": {
	    "collapsed": true
	   },
	   "outputs": [],
"source": [
"clear;\n",
"clc;\n",
"\n",
"//Caption: Plane Parallel plate Capacitor\n",
"//Given Data\n",
"d=0.001;//distance between parallel plate in m\n",
"V=1000;//applied voltage\n",
"q=1.6*(10^-19);//charge on an electron\n",
"m = 9.1*(10^-31);//mass of electron in kg\n",
"//Time taken by electron to reach other side of parallel plate capacitor\n",
"E=V/d;//Electric Field in V/m\n",
"//Formulae : s = u*t + (a*t^2)/2\n",
"a = (q*E)/m;//acceleration on electron in m/s^2\n",
"t = (2*d/a)^0.5;//time taken to reach the other side of plate\n",
"disp('sec',t,'Time taken to reach other side = ');\n",
"\n",
"//Magnitude of force exerted on electron\n",
"disp('Since the potential is constant the force will be constant between the paltes of capacitor');\n",
"F=q*E;//force\n",
"disp('N',F,'Force on electron = ');\n",
"\n",
"//Velocity of electron at the other plate\n",
"//Formulae: v = u + a*t\n",
"v = a*t;//velocity at the end of other plate\n",
"disp('m/sec',v,'v=');\n",
"\n",
"\n",
"//end"
   ]
   }
],
"metadata": {
		  "kernelspec": {
		   "display_name": "Scilab",
		   "language": "scilab",
		   "name": "scilab"
		  },
		  "language_info": {
		   "file_extension": ".sce",
		   "help_links": [
			{
			 "text": "MetaKernel Magics",
			 "url": "https://github.com/calysto/metakernel/blob/master/metakernel/magics/README.md"
			}
		   ],
		   "mimetype": "text/x-octave",
		   "name": "scilab",
		   "version": "0.7.1"
		  }
		 },
		 "nbformat": 4,
		 "nbformat_minor": 0
}
