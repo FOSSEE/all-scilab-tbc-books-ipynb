{
"cells": [
 {
		   "cell_type": "markdown",
	   "metadata": {},
	   "source": [
       "# Chapter 7: Integrated Circuit Fabrication and Characteristic"
	   ]
	},
{
		   "cell_type": "markdown",
		   "metadata": {},
		   "source": [
			"## Example 7.1: Diffusion_of_a_pn_junction.sce"
		   ]
		  },
  {
"cell_type": "code",
	   "execution_count": null,
	   "metadata": {
	    "collapsed": true
	   },
	   "outputs": [],
"source": [
"clear;\n",
"clc;\n",
"\n",
"//caption:Diffusion of a pn junction\n",
"\n",
"disp('At distance equal to x=xi at which N = concentration n of doped silicon wafers , the net impurity density is zero. Thus xi is the distance at which junction  is formed');\n",
"\n",
"//Given Data\n",
"q = 1.6*(10^-19);//Charge of electron\n",
"yn=1300;//mobility of silicon\n",
"p = 0.5;//resistivity in ohm=cm\n",
"y=2.2;\n",
"t=2*3600;//in sec.\n",
"xi = 2.7*(10^-4);// Junction Depth in cm.\n",
"\n",
"n = 1/(p*yn*q);//Concentration of doped silicon wafer\n",
"disp('cm^-3',n,'The concentration   n =');\n",
"disp('The junction is formed when N = n');\n",
"\n",
"//y = xi/(2*(D*t)^0.5)\n",
"D=((xi)^2/((2*y)^2*t));//Diffusion Constant\n",
"\n",
"disp('cm^2/sec',D,'The value of Diffusion Constant for Boron = ');\n",
"\n",
"//end"
   ]
   }
,
{
		   "cell_type": "markdown",
		   "metadata": {},
		   "source": [
			"## Example 7.2_a: Fabrication_and_Characteristics.sce"
		   ]
		  },
  {
"cell_type": "code",
	   "execution_count": null,
	   "metadata": {
	    "collapsed": true
	   },
	   "outputs": [],
"source": [
"clear;\n",
"clc;\n",
"\n",
"//Caption:Fabrication and Characteristics\n",
"//Given Data\n",
"y = 2.2;//from the figure y=2.2\n",
"Nob = 5*10^18//Uniform Concentration of Boron Profile\n",
"\n",
"//y = 2.7/(2*(D*t)^0.5)\n",
"//2*(D*t)^0.5 = a\n",
"a = 2.7/y;\n",
"x = 2;//distance at which emitter junction is formed in micrometer\n",
"Nb = Nob*erfc(x/a);//boron Profile\n",
"disp('cm^-3',Nb,'Nb=');\n",
"disp('The boron diffusion equation is');\n",
"disp(a,'5*10^18*erfc x / ');\n",
"//At x=2 Np = Nb\n",
"//erfc(2/(2*(D*t)^0.5))=k\n",
"Nop=10^21;\n",
"k = Nb/Nop;\n",
"a = 2/2.7;\n",
"disp('The phosphorous diffusion equation is');\n",
"disp(a,'10^21*erfc x / ');\n",
"\n",
"\n",
"//end"
   ]
   }
,
{
		   "cell_type": "markdown",
		   "metadata": {},
		   "source": [
			"## Example 7.2_b: Fabrication_and_Characteristics.sce"
		   ]
		  },
  {
"cell_type": "code",
	   "execution_count": null,
	   "metadata": {
	    "collapsed": true
	   },
	   "outputs": [],
"source": [
"clear;\n",
"clc;\n",
"\n",
"//Caption:Fabrication and Characteristics\n",
"//Given Data\n",
"y = 2.2;//from the figure y=2.2\n",
"Nob = 5*10^18//Uniform Concentration of Boron Profile\n",
"\n",
"//y = 2.7/(2*(D*t)^0.5)\n",
"//2*(D*t)^0.5 = a(let)\n",
"a = 2.7/y;\n",
"x = 2;//distance at which emitter junction is formed in micrometer\n",
"Nb = Nob*erfc(x/a);//boron Profile\n",
"\n",
"//At x=2 Np = Nb\n",
"//erfc(2/(2*(D*t)^0.5))=k\n",
"Nop=10^21;\n",
"k = Nb/Nop;\n",
"a = 2/2.7;\n",
"//Time allowed for diffusion if diffusion of Phosphorous is conducted at 1100 degreeC\n",
"//From the figure D=3.8*10^-13 cm^2/sec\n",
"D=3.8*10^-13//in cm^2/sec\n",
"t = ((a*10^-4)/2)^2*(1/D);\n",
"disp('sec',t,'t=');\n",
"\n",
"//end"
   ]
   }
],
"metadata": {
		  "kernelspec": {
		   "display_name": "Scilab",
		   "language": "scilab",
		   "name": "scilab"
		  },
		  "language_info": {
		   "file_extension": ".sce",
		   "help_links": [
			{
			 "text": "MetaKernel Magics",
			 "url": "https://github.com/calysto/metakernel/blob/master/metakernel/magics/README.md"
			}
		   ],
		   "mimetype": "text/x-octave",
		   "name": "scilab",
		   "version": "0.7.1"
		  }
		 },
		 "nbformat": 4,
		 "nbformat_minor": 0
}
