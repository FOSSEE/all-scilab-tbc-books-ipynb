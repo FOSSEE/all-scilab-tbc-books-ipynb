{
"cells": [
 {
		   "cell_type": "markdown",
	   "metadata": {},
	   "source": [
       "# Chapter 9: Transistor Biasing and Thermal Stabilization"
	   ]
	},
{
		   "cell_type": "markdown",
		   "metadata": {},
		   "source": [
			"## Example 9.1: To_find_Q_point.sce"
		   ]
		  },
  {
"cell_type": "code",
	   "execution_count": null,
	   "metadata": {
	    "collapsed": true
	   },
	   "outputs": [],
"source": [
"clear;\n",
"clc;\n",
"\n",
"//Caption:To find Q point\n",
"//Given Data\n",
"Vcc=22.5//in V\n",
"Rc=5.6;//in K\n",
"Re=1;//in K\n",
"R2=10;//in K\n",
"R1=90;//in K\n",
"B=55;//beta\n",
"\n",
"\n",
"V=(R2*Vcc)/(R2+R1);//Thevenin Equivallent Voltage\n",
"Rb=(R2*R1)/(R2+R1);//Thevenin Equivallent Resistance\n",
"disp('Volts',V,'The equivallent Vbb =');\n",
"disp('ohm',Rb,'The equivallent Rb is');\n",
"\n",
"//For base current large compared to reverse saturation current ie Ib>>Ico it follows that Ic=B*Ib\n",
"\n",
"//Applying KVL to the base circuit\n",
"//0.65-2.25+Ic+10*Ib=0\n",
"disp('As B=55 we have Ic=55*Ib');\n",
"\n",
"//We have   -1.60+Ic+(10/55)*Ic=0\n",
"Ic=1.60/(65/55);\n",
"Ib=Ic/55;\n",
"disp('milli amp',Ic,'Ic=');\n",
"disp('micro amp',Ib,'Ib=');\n",
"\n",
"//Applying KVL to the collector circuit yields\n",
"//-22.5+6.6*Ic+Ib+Vce\n",
"\n",
"Vce = 22.5-(6.6*1.36)-0.025;\n",
"disp('Volts',Vce,'Vce=');\n",
"\n",
"//end"
   ]
   }
,
{
		   "cell_type": "markdown",
		   "metadata": {},
		   "source": [
			"## Example 9.2: To_find_resistances_in_2N335_transistor.sce"
		   ]
		  },
  {
"cell_type": "code",
	   "execution_count": null,
	   "metadata": {
	    "collapsed": true
	   },
	   "outputs": [],
"source": [
"clear;\n",
"clc;\n",
"\n",
"//Caption:To find resistances in 2N335 transistor\n",
"//Given Data\n",
"Rc=4;//in K\n",
"Vcc=20;//in V\n",
"Vce=10;//in V\n",
"Ic=2;//in mA\n",
"//Ic varies from 1.75 to 2.25 and B(beta) varies from 36 to 90\n",
"\n",
"Re = (Vcc-Vce)/Ic - Rc;\n",
"\n",
"//S=delta Ic/delta B\n",
"Ic2=2.25;//in mA\n",
"Ic1=1.75;//in mA\n",
"B2=90;\n",
"B1=36;\n",
"S=(Ic2-Ic1)/(B2-B1);\n",
"S2=(S*36*(1+90))/1.75;\n",
"disp(S2,'S2=','K',Re,'Re=','B2=90');\n",
"\n",
"//S2=(1+B)*(1+(Rb/Re))/(1+B+(Rb/Re))\n",
"Rb=(S2-1)*(1+B2)*Re/(1+B2-S2);\n",
"disp('K',Rb,'Rb=');\n",
"\n",
"Vbe=0.65;//in V\n",
"disp('V',Vbe,'We know that Vbe = ');\n",
"\n",
"V = Vbe + ((Rb+Re*(1+B1))*Ic1/B1);\n",
"disp('Volts',V,'V = ');\n",
"\n",
"R1=Rb*Vcc/V;\n",
"R2=R1*V/(Vcc-V);\n",
"disp('K',R1,'R1=');\n",
"disp('K',R2,'R2=');\n",
"\n",
"//end"
   ]
   }
,
{
		   "cell_type": "markdown",
		   "metadata": {},
		   "source": [
			"## Example 9.3_a: Variation_of_Ic_in_given_Transistor.sce"
		   ]
		  },
  {
"cell_type": "code",
	   "execution_count": null,
	   "metadata": {
	    "collapsed": true
	   },
	   "outputs": [],
"source": [
"clear;\n",
"clc;\n",
"\n",
"//Caption:Variation of Ic in given Transistor\n",
"//Given Data at 25degree C\n",
"Re=4.7;//in K\n",
"Rb=7.75;//in K\n",
"B1=55;//beta at 25degree C\n",
"Ic1=1.5;//in mA\n",
"Ico1=1;\n",
"Vbe1=0.6;//in V\n",
"\n",
"//Part a\n",
"\n",
"Ico2=33000;//in nA\n",
"Vbe2=0.225;//in V\n",
"M1=1/(1+(Rb/(Re*B1)));//Stability Factor\n",
"disp(M1,'Stabitity Factor at 25deree C=');\n",
"B2=100;//at 175degree C\n",
"M2=1/(1+(Rb/(Re*B2)));//Stability Factor\n",
"disp(M2,'Stabitity Factor at 175degree C=');\n",
"\n",
"if(M2>M1)\n",
"    M1=1;\n",
"    M2=1;\n",
"end\n",
"\n",
"//Let k = (delta Ic)/(Ic1)\n",
"k=(1+(Rb/Re))*(M1*(Ico2-Ico1)*(10^-9)/Ic1*(10^-3))-(M1*(Vbe2-Vbe1)/(Ic1*Re))+(1+(Rb/Re))*(M2*(B2-B1)/(B2*B1));\n",
"deltaIc=k*Ic1;\n",
"disp('mA',deltaIc,'Change in Collector Current at 175degree C is =');\n",
"\n",
"//Given Data at -65degree C\n",
" Ico2=1.95*(10^-3);\n",
" B2=25;\n",
" Vbe2=0.78;\n",
" \n",
" M2=1/(1+(Rb/(Re*B2)));//Stability Factor\n",
" disp(M2,'Stabitity Factor at -65degree C=');\n",
" \n",
"//Let k = (delta Ic)/(Ic1)\n",
"k=(1+(Rb/Re))*(M1*(Ico2-Ico1)*(10^-9)/Ic1*(10^-3))-(M1*(Vbe2-Vbe1)/(Ic1*Re))+(1+(Rb/Re))*(M2*(B2-B1)/(B2*B1));\n",
"deltaIc=k*Ic1;\n",
"disp('mA',deltaIc,'Change in Collector Current at -65degree C is =')\n",
"\n",
"\n",
"//End"
   ]
   }
,
{
		   "cell_type": "markdown",
		   "metadata": {},
		   "source": [
			"## Example 9.3_b: Variation_of_Ic_in_given_Transistor.sce"
		   ]
		  },
  {
"cell_type": "code",
	   "execution_count": null,
	   "metadata": {
	    "collapsed": true
	   },
	   "outputs": [],
"source": [
"clear;\n",
"clc;\n",
"\n",
"//Caption:Variation of Ic in given Transistor\n",
"//Given Data at 25degree C\n",
"Re=4.7;//in K\n",
"Rb=7.75;//in K\n",
"B1=55;//beta at 25degree C\n",
"Ic1=1.5;//in mA\n",
"Ico1=1;\n",
"Vbe1=0.6;//in V\n",
"\n",
"//Part b\n",
"\n",
"Ico2=33000;//in nA\n",
"Vbe2=0.225;//in V\n",
"M1=1/(1+(Rb/(Re*B1)));//Stability Factor\n",
"//Given Data at -65degree C\n",
" Ico2=1.95*(10^-3);\n",
" B2=25;\n",
" Vbe2=0.78;\n",
" \n",
" M2=1/(1+(Rb/(Re*B2)));//Stability Factor\n",
" \n",
"//Let k = (delta Ic)/(Ic1)\n",
"k=(1+(Rb/Re))*(M1*(Ico2-Ico1)*(10^-9)/Ic1*(10^-3))-(M1*(Vbe2-Vbe1)/(Ic1*Re))+(1+(Rb/Re))*(M2*(B2-B1)/(B2*B1));\n",
"deltaIc=k*Ic1;\n",
"\n",
"\n",
"//Given Data\n",
"Ico2=32;//in nA\n",
"Vbe2=0.10;//in V\n",
"M1=1/(1+(Rb/(Re*B1)));//Stability Factor\n",
"disp(M1,'Stabitity Factor at 25deree C=');\n",
"B2=90;//at 175degree C\n",
"M2=1/(1+(Rb/(Re*B2)));//Stability Factor\n",
"disp(M2,'Stabitity Factor at 75degree C=');\n",
"\n",
"if(M2>M1)\n",
"    M1=1;\n",
"    M2=1;\n",
"end\n",
"\n",
"//Let k = (delta Ic)/(Ic1)\n",
"k=(1+(Rb/Re))*(M1*(Ico2-Ico1)*(10^-9)/Ic1*(10^-3))-(M1*(Vbe2-Vbe1)/(Ic1*Re))+(1+(Rb/Re))*(M2*(B2-B1)/(B2*B1));\n",
"deltaIc=k*Ic1;\n",
"disp('mA',deltaIc,'Change in Collector Current at 75degree C is =');\n",
"\n",
"//Given Data at -65degree C\n",
" Ico2=1.95*(10^-3);\n",
" B2=20;\n",
" Vbe2=0.38;\n",
" \n",
" M2=1/(1+(Rb/(Re*B2)));//Stability Factor\n",
" disp(M2,'Stabitity Factor at -65degree C=');\n",
" \n",
"//Let k = (delta Ic)/(Ic1)\n",
"k=(1+(Rb/Re))*(M1*(Ico2-Ico1)*(10^-9)/Ic1*(10^-3))-(M1*(Vbe2-Vbe1)/(Ic1*Re))+(1+(Rb/Re))*(M2*(B2-B1)/(B2*B1));\n",
"deltaIc=k*Ic1;\n",
"disp('mA',deltaIc,'Change in Collector Current at -65degree C is =');\n",
"\n",
"//End"
   ]
   }
,
{
		   "cell_type": "markdown",
		   "metadata": {},
		   "source": [
			"## Example 9.4: To_design_a_self_bias_circuit.sce"
		   ]
		  },
  {
"cell_type": "code",
	   "execution_count": null,
	   "metadata": {
	    "collapsed": true
	   },
	   "outputs": [],
"source": [
"clear;\n",
"clc;\n",
"\n",
"//Caption: To design a self bias circuit\n",
"\n",
"//Given Data at 25degree C\n",
"B1=150;//beta\n",
"Ico1=50;//in nA\n",
"\n",
"//Given Data at 65degree C\n",
"B2=1200;//beta\n",
"Ico2=3;//in micro A\n",
"\n",
"Vbe=0.65;//in mV\n",
"Vcc=20;//in V\n",
"M=1;\n",
"//Assumption: Each factor Ico,B, and Vbe cuses the same percentge change(5%)\n",
"\n",
"//Let Rb/Re=k\n",
"//(1+k)*((1200-150)/(1200*150))=0.05\n",
"\n",
"k=((0.05)*((1200*150)/(1200-150)))-1;\n",
"disp(k,'Rb/Re=');\n",
"//Let us check our assumption\n",
"\n",
"if(M>(1/(1+(k/B1))))\n",
"    M=1;\n",
"end\n",
"\n",
"//(1+(Rb/Re))*((Ico2-Ico1)/Ic1)=0.05   Since Ico2>>Ico1, we consider only Ico2\n",
"\n",
"Ic1=((1+k)*Ico2)/(0.05*1000);\n",
"disp('mA',Ic1,'Ic1=');\n",
"\n",
"//Vbe changes 2.5mV/degree\n",
"DVbe=2.5*40;\n",
"//Total increment\n",
"dVbe=2*DVbe*(10^-3);\n",
"\n",
"//Let l=(Ic1*Re)\n",
"l=dVbe/0.05;\n",
"\n",
"Re=l/Ic1;\n",
"disp(Re,'Re=');\n",
"Rb=k*Re;\n",
"disp(Rb,'Rb=');\n",
"\n",
"B=(B1+B2)/2;//beta\n",
"V=((Ic1/B)*Rb)+(Vbe)+(((Ic1/B)+Ic1)*Re);\n",
"disp('Volts',V,'V=');\n",
"R1=(Rb*Vcc)/V;\n",
"R2=(R1*V)/(Vcc-V);\n",
"\n",
"disp('ohm',R1,'R1=');\n",
"disp('ohm',R2,'R2=');\n",
"\n",
"//end"
   ]
   }
,
{
		   "cell_type": "markdown",
		   "metadata": {},
		   "source": [
			"## Example 9.5: Value_of_theta_for_Ge_Transistor.sce"
		   ]
		  },
  {
"cell_type": "code",
	   "execution_count": null,
	   "metadata": {
	    "collapsed": true
	   },
	   "outputs": [],
"source": [
"clear;\n",
"clc;\n",
"\n",
"//Caption:Value of theta for Ge Transistor\n",
"\n",
"//Given Data\n",
"Vcc=30;//in V\n",
"Rc=2;//in K\n",
"Re=4.7;//in K\n",
"Ic=1.5;//in mA\n",
"\n",
"//We know that dPc/dIc = Vcc - (2*Ic*(Rc+Re))\n",
"//Let D=dPc/dIc\n",
"\n",
"D = Vcc - (2*Ic*(Re+Rc));\n",
"disp('Ic increases by 0.131mA over a temprature range of 35 to 75 degree C');\n",
"disp('theta<(A=(dPc/dIc)*(dIc/dTc))');\n",
"A=D*((0.131*(10^-3))/(75-25));\n",
"\n",
"disp('degreeC/W',1/A,'theta<');\n",
"disp('The upper bound on theta is so high that transistor would not violate it and therefore circuit will be safe from thermal runaway');\n",
"\n",
"//End"
   ]
   }
,
{
		   "cell_type": "markdown",
		   "metadata": {},
		   "source": [
			"## Example 9.6_a: To_find_parameters_of_power_amplifier_using_pnp_gemanium_transistor.sce"
		   ]
		  },
  {
"cell_type": "code",
	   "execution_count": null,
	   "metadata": {
	    "collapsed": true
	   },
	   "outputs": [],
"source": [
"clear;\n",
"clc;\n",
"\n",
"//Caption: To find parameters of power amplifier using pnp gemanium transistor\n",
"\n",
"//Given Data\n",
"B=100;//beta\n",
"Ico=-5;//in mA\n",
"Ic=-1;//in mA\n",
"Vcc=40;\n",
"Re=5;//in ohm\n",
"Rc=10;//in ohm\n",
"\n",
"//Ic= BIb + (1+B)*Ico\n",
"//Ic=B(Ib+Ico)\n",
"Ib=-(Ic/B)+Ico;\n",
"disp('mA',Ib,'Ib=');\n",
"\n",
"//Neglecting Vbe\n",
"Rb=(5-Vcc)/(Ib*0.001);\n",
"disp('ohm',Rb,'Rb=');\n",
"\n",
"Vce=Vcc-15;\n",
"if(Vce>(Vcc/2))\n",
"    S=(1+B)*(1+(Rb/Re))/(1+B+(Rb/Re));\n",
"    disp(S,'Stability Factor is=');\n",
"end\n",
"\n",
"A=-(Vcc+(2*Ic*(Re+Rc)))*(S)*(0.007*Ico*0.01);\n",
"\n",
"disp('degreeC/W',1/A,'theta=');\n",
"\n",
"//end"
   ]
   }
,
{
		   "cell_type": "markdown",
		   "metadata": {},
		   "source": [
			"## Example 9.6_b: To_find_parameters_of_power_amplifier_using_pnp_gemanium_transistor.sce"
		   ]
		  },
  {
"cell_type": "code",
	   "execution_count": null,
	   "metadata": {
	    "collapsed": true
	   },
	   "outputs": [],
"source": [
"clear;\n",
"clc;\n",
"\n",
"//Caption: To find parameters of power amplifier using pnp gemanium transistor\n",
"\n",
"//Given Data\n",
"B=100;//beta\n",
"Ico=-5;//in mA\n",
"Ic=-1;//in mA\n",
"Vcc=40;\n",
"Re=5;//in ohm\n",
"Rc=10;//in ohm\n",
"\n",
"//Ic= BIb + (1+B)*Ico\n",
"//Ic=B(Ib+Ico)\n",
"Ib=-(Ic/B)+Ico;\n",
"\n",
"//Neglecting Vbe\n",
"Rb=(5-Vcc)/(Ib*0.001);\n",
"\n",
"Vce=Vcc-15;\n",
"if(Vce>(Vcc/2))\n",
"    S=(1+B)*(1+(Rb/Re))/(1+B+(Rb/Re));\n",
"    disp(S,'Stability Factor is=');\n",
"end\n",
"\n",
"A=-(Vcc+(2*Ic*(Re+Rc)))*(S)*(0.007*Ico*0.01);\n",
"\n",
"disp('degreeC/W',1/A,'theta=');\n",
"\n",
"//end"
   ]
   }
],
"metadata": {
		  "kernelspec": {
		   "display_name": "Scilab",
		   "language": "scilab",
		   "name": "scilab"
		  },
		  "language_info": {
		   "file_extension": ".sce",
		   "help_links": [
			{
			 "text": "MetaKernel Magics",
			 "url": "https://github.com/calysto/metakernel/blob/master/metakernel/magics/README.md"
			}
		   ],
		   "mimetype": "text/x-octave",
		   "name": "scilab",
		   "version": "0.7.1"
		  }
		 },
		 "nbformat": 4,
		 "nbformat_minor": 0
}
