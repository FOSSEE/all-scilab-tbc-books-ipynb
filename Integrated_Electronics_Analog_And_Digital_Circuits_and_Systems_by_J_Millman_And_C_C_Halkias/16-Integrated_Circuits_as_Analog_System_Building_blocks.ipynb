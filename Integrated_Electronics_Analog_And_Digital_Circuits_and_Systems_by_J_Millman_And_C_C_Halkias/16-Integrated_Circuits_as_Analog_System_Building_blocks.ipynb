{
"cells": [
 {
		   "cell_type": "markdown",
	   "metadata": {},
	   "source": [
       "# Chapter 16: Integrated Circuits as Analog System Building blocks"
	   ]
	},
{
		   "cell_type": "markdown",
		   "metadata": {},
		   "source": [
			"## Example 16.1: Fourth_Order_Butterworth_Filter.sce"
		   ]
		  },
  {
"cell_type": "code",
	   "execution_count": null,
	   "metadata": {
	    "collapsed": true
	   },
	   "outputs": [],
"source": [
"clear;\n",
"clc;\n",
"\n",
"//Caption:Fourth Order Butterworth Filter\n",
"//Given Data\n",
"fo=1;//Cutoff Frequency in Hz\n",
"//For n = 4\n",
"k1=0.765;\n",
"k2=1.848;\n",
"\n",
"Av1 = 3-k1;\n",
"Av2 = 3-k2;\n",
"disp('For a fourth order Buttworth filter we cacade 2 second order Buttworth filter with parameters R1 R2 R1d R2d R C');\n",
"//we arbitrarily choose\n",
"R1=10;//in K\n",
"disp('K',R1,'R1=');\n",
"//Av1=(R1+R1d)/R1\n",
"R1d=(Av1*R1)-R1;\n",
"disp(R1d,'R1d = ');\n",
"\n",
"R2 = 10;//in K\n",
"disp('K',R2,'R2=');\n",
"R2d=(Av2*R2)-R2;\n",
"disp(R2d,'R2d = ');\n",
"\n",
"//To satisfy fo = 1/(2*%pi*r*c) = 1kHz\n",
"R=1;//in K\n",
"C = 1/(2*%pi*R*fo);\n",
"disp('K',R,'R=');\n",
"disp('microF',C,'C = ');"
   ]
   }
,
{
		   "cell_type": "markdown",
		   "metadata": {},
		   "source": [
			"## Example 16.2: Design_a_second_order_bandpass_filter.sce"
		   ]
		  },
  {
"cell_type": "code",
	   "execution_count": null,
	   "metadata": {
	    "collapsed": true
	   },
	   "outputs": [],
"source": [
"clear;\n",
"clc;\n",
"//Caption : Design a second order bandpass filter\n",
"//Given Value\n",
"Ao=50;//Gain\n",
"fo=160;//center frequency\n",
"B=16;//Bandwidth in Hz\n",
"C1=0.1;//in microF\n",
"C2=0.1;//in microF\n",
"\n",
"//Required Formulae\n",
"\n",
"Q=fo/B;\n",
"R1=(1000*Q)/(Ao*2*%pi*fo*C1);\n",
"R3=(1000*Q)/((2*%pi*fo)*(C1*C2/(C1+C2)));\n",
"//As C is in microFarad to compensate for it 1000 is multiplied\n",
"//Let r = R'\n",
"r=(10^6)/((2*%pi*fo)^2*R3*C1*C2);\n",
"R2=(R1*r)/(R1-r);\n",
"\n",
"disp('K',R1,'R1=');\n",
"disp('K',R3,'R3=');\n",
"disp('K',r,'r=');\n",
"disp('K',R2,'R2=');\n",
"\n",
"//end"
   ]
   }
,
{
		   "cell_type": "markdown",
		   "metadata": {},
		   "source": [
			"## Example 16.3: Design_a_video_amplifier_using_MC1550.sce"
		   ]
		  },
  {
"cell_type": "code",
	   "execution_count": null,
	   "metadata": {
	    "collapsed": true
	   },
	   "outputs": [],
"source": [
"clear;\n",
"clc;\n",
"\n",
"//Caption:Design a video amplifier using MC1550\n",
"//Given Data\n",
"Avo=-25;\n",
"Vagc=20;//in V\n",
"Vcc=6;//in V\n",
"hfe=50;\n",
"rbb=50;//in ohm\n",
"Cs=5;//in pF\n",
"Cl=5;//in pF\n",
"Ie1=1;//in mA\n",
"ft=900;//in MHz\n",
"Vt=26;//in V\n",
"n=2;//eeta\n",
"//re2 = infinity\n",
"\n",
"//Since Vagc=0 , transistor Q2 is in cut off region and collector current of Q1 flows through Q3....So\n",
"Ie2=0;\n",
"Ie3=1;//in mA\n",
"re3 = (n*Vt)/Ie3;//in ohm\n",
"disp('ohm',re3,'re3=');\n",
"gm = (Ie1)/Vt;//in ohm^-1\n",
"disp('ohm^-1',gm,'gm=');\n",
"rbe=hfe/gm;\n",
"disp('ohm',rbe,'rbe=');\n",
"Ce=gm/(2*%pi*ft*10^-6);\n",
"disp('pF',Ce,'Ce=');\n",
"a3=1;//we make an assumption that alpha is one\n",
"s=0;\n",
"//Av0 = -((a3*gm)/(re3*rbb))*(1/(((1/rbb)+(1/rbe)+(s*Ce))*((1/re3)+(s*Cs))*((1/Rl)+(s*(Cs+Cl)))))\n",
"//From here we can find Rl\n",
"k = -((a3*gm)/(re3*rbb))*(1/(((1/rbb)+(1/rbe)+(s*Ce))*((1/re3)+(s*Cs))));\n",
"Rl=Avo/k;\n",
"disp('ohm',Rl,'Rl=');\n",
"\n",
"//C is in picoFarad so to compensate the whole equation some constants are multiplied\n",
"f1 = 1/(2*%pi*Rl*(Cs+Cl)*10^-6);\n",
"disp('MHz',f1,'f1=');\n",
"f2 = 1/(2*%pi*Ce*10^-6*((rbe*rbb)/(rbe+rbb)));\n",
"disp('MHz',f2,'f2=');\n",
"f3 = 1/(2*%pi*Cs*re3*10^-6);\n",
"disp('MHz',f3,'f3=');\n",
"\n",
"\n",
"//end"
   ]
   }
,
{
		   "cell_type": "markdown",
		   "metadata": {},
		   "source": [
			"## Example 16.4_a: Logic_Level_Output_of_an_ECL_gate.sce"
		   ]
		  },
  {
"cell_type": "code",
	   "execution_count": null,
	   "metadata": {
	    "collapsed": true
	   },
	   "outputs": [],
"source": [
"clear;\n",
"clc;\n",
"\n",
"//Caption:Logic Level Output of an ECL gate\n",
"//Given Data\n",
"Vbb = 1.15;//in V\n",
"Vee=5.20;//in V\n",
"Vbe5=0.7;//in V\n",
"R=1.18;//in K\n",
"r=300;//in ohm\n",
"Vbecutin=0.5;//in V\n",
"\n",
"//If all inputs are low then we assume that Q1,Q2 and Q3 are cutoff and Q4 is conducting\n",
"Ve=-Vbb-Vbe5;//Voltage at Common Emitter in V\n",
"//Current I in 1.18K Resistor\n",
"I = (Ve+Vee)/R;//in mA\n",
"I1=I;\n",
"disp('mA',I,'Current in 300 ohm resistance I=');\n",
"//Output Voltage at Y\n",
"vy = -(r*I/1000)-Vbe5;//I is in mA so 1000 is multiplied\n",
"Vbe = vy-Ve;\n",
"disp('V',Vbe,'Vbe = ');\n",
"if(Vbe<Vbecutin)\n",
"    disp('Input transistors are non conducting as was assumed');\n",
"    disp('If atleast one input is high then it is assumed that curent in 1.18K resistance is switched to R and Q4 is cutoff');\n",
"    disp('Drop in 300 ohm resistance is zero.Since the base aand collector are tied together Q5 now behaves as a diode');\n",
"    disp('Across Q5');\n",
"    v=0.7;//voltage across Q5 in V\n",
"    rQ5 = 1.5;//in K\n",
"    i = (Vee-v)/rQ5;\n",
"    v = 0.75;//from the graph in V\n",
"    disp('mA',i,'i=');\n",
"    disp('V',v,'v=');\n",
"    Ve = -v-Vbe5;\n",
"    Vbe4=-Vbb-Ve;\n",
"    disp('V',Vbe4,'Vbe4=');\n",
"end\n",
"disp('The total output swing between two logic gates');\n",
"vo = -vy-v;\n",
"disp('V',vo,'vo=');\n",
"\n",
"\n",
"//end"
   ]
   }
,
{
		   "cell_type": "markdown",
		   "metadata": {},
		   "source": [
			"## Example 16.4_b: Calculation_of_noise_margin.sce"
		   ]
		  },
  {
"cell_type": "code",
	   "execution_count": null,
	   "metadata": {
	    "collapsed": true
	   },
	   "outputs": [],
"source": [
"clear;\n",
"clc;\n",
"\n",
"//Calculation of noise margin\n",
"//Given Data\n",
"Vbb = 1.15;//in V\n",
"Vee=5.20;//in V\n",
"Vbe5=0.7;//in V\n",
"R=1.18;//in K\n",
"r=300;//in ohm\n",
"Vbecutin=0.5;//in V\n",
"\n",
"//If all inputs are low then we assume that Q1,Q2 and Q3 are cutoff and Q4 is conducting\n",
"Ve=-Vbb-Vbe5;//Voltage at Common Emitter in V\n",
"//Current I in 1.18K Resistor\n",
"I = (Ve+Vee)/R;//in mA\n",
"I1=I;\n",
"//Output Voltage at Y\n",
"vy = -(r*I/1000)-Vbe5;//I is in mA so 1000 is multiplied\n",
"Vbe = vy-Ve;\n",
"if(Vbe<Vbecutin)\n",
"    v=0.7;//voltage across Q5 in V\n",
"    rQ5 = 1.5;//in K\n",
"    i = (Vee-v)/rQ5;\n",
"    v = 0.75;//from the graph in V\n",
"    Ve = -v-Vbe5;\n",
"    Vbe4=-Vbb-Ve;\n",
"end\n",
"vo = -vy-v;\n",
"\n",
"//Calculation of noise margin\n",
"vn = Vbecutin-Vbe4;\n",
"disp('Positive noise spike which will cause the gate to malfunction');\n",
"disp('V',vn,'vn=');\n",
"\n",
"//end"
   ]
   }
,
{
		   "cell_type": "markdown",
		   "metadata": {},
		   "source": [
			"## Example 16.4_c: Verify_that_conducting_transistor_is_in_active_region.sce"
		   ]
		  },
  {
"cell_type": "code",
	   "execution_count": null,
	   "metadata": {
	    "collapsed": true
	   },
	   "outputs": [],
"source": [
"clear;\n",
"clc;\n",
"\n",
"//Verify that conducting transistor is in active region\n",
"//Given Data\n",
"Vbb = 1.15;//in V\n",
"Vee=5.20;//in V\n",
"Vbe5=0.7;//in V\n",
"R=1.18;//in K\n",
"r=300;//in ohm\n",
"Vbecutin=0.5;//in V\n",
"\n",
"//If all inputs are low then we assume that Q1,Q2 and Q3 are cutoff and Q4 is conducting\n",
"Ve=-Vbb-Vbe5;//Voltage at Common Emitter in V\n",
"//Current I in 1.18K Resistor\n",
"I = (Ve+Vee)/R;//in mA\n",
"I1=I;\n",
"//Output Voltage at Y\n",
"vy = -(r*I/1000)-Vbe5;//I is in mA so 1000 is multiplied\n",
"Vbe = vy-Ve;\n",
"if(Vbe<Vbecutin)\n",
"    v=0.7;//voltage across Q5 in V\n",
"    rQ5 = 1.5;//in K\n",
"    i = (Vee-v)/rQ5;\n",
"    v = 0.75;//from the graph in V\n",
"    Ve = -v-Vbe5;\n",
"    Vbe4=-Vbb-Ve;\n",
"end\n",
"vo = -vy-v;\n",
"\n",
"Vb4 = Vbb;\n",
"Vc4 = -(I*r)/1000;//in V\n",
"Vcb4 = Vc4+Vb4;\n",
"disp('V',Vcb4,'Vcb4 = ');\n",
"if(Vcb4>0)\n",
"    disp('For on npn transistor this represents a reverse bias and Q4 must be in active region');\n",
"end\n",
"Vb1 = v;\n",
"Vc1 = vy+Vbe5;\n",
"Vcb1 = Vc1 + Vb1;\n",
"disp('V',Vc1,'Vc1=');\n",
"disp('V',Vcb1,'Vcb1=');\n",
"if(Vcb1<0)\n",
"    disp('For an npn transistor this represents a forward bias.... therefore Q1 is in saturation region');\n",
"    end\n",
"\n",
"//end"
   ]
   }
,
{
		   "cell_type": "markdown",
		   "metadata": {},
		   "source": [
			"## Example 16.4_d: Calculation_of_R.sce"
		   ]
		  },
  {
"cell_type": "code",
	   "execution_count": null,
	   "metadata": {
	    "collapsed": true
	   },
	   "outputs": [],
"source": [
"clear;\n",
"clc;\n",
"\n",
"//Calculation of R\n",
"//Given Data\n",
"Vbb = 1.15;//in V\n",
"Vee=5.20;//in V\n",
"Vbe5=0.7;//in V\n",
"R=1.18;//in K\n",
"r=300;//in ohm\n",
"Vbecutin=0.5;//in V\n",
"\n",
"//If all inputs are low then we assume that Q1,Q2 and Q3 are cutoff and Q4 is conducting\n",
"Ve=-Vbb-Vbe5;//Voltage at Common Emitter in V\n",
"//Current I in 1.18K Resistor\n",
"I = (Ve+Vee)/R;//in mA\n",
"I1=I;\n",
"//Output Voltage at Y\n",
"vy = -(r*I/1000)-Vbe5;//I is in mA so 1000 is multiplied\n",
"Vbe = vy-Ve;\n",
"if(Vbe<Vbecutin)\n",
"    v=0.7;//voltage across Q5 in V\n",
"    rQ5 = 1.5;//in K\n",
"    i = (Vee-v)/rQ5;\n",
"    v = 0.75;//from the graph in V\n",
"    Ve = -v-Vbe5;\n",
"    Vbe4=-Vbb-Ve;\n",
"end\n",
"vo = -vy-v;\n",
"\n",
"//Verify that conducting transistor is in active region\n",
"Vb4 = Vbb;\n",
"Vc4 = -(I*r)/1000;//in V\n",
"Vcb4 = Vc4+Vb4;\n",
"Vb1 = v;\n",
"Vc1 = vy+Vbe5;\n",
"Vcb1 = Vc1 + Vb1;\n",
"\n",
"Vbe1 = Vbe5;\n",
"Ve = -(Vb1+Vbe1);\n",
"disp('V',Ve,'Ve=');\n",
"I = (Ve + Vee)/R;\n",
"I2=I;\n",
"R = -Vc1/I;\n",
"disp('ohm',R,'R=');\n",
"\n",
"//end"
   ]
   }
,
{
		   "cell_type": "markdown",
		   "metadata": {},
		   "source": [
			"## Example 16.4_e: Average_power_dissipated_by_the_gate.sce"
		   ]
		  },
  {
"cell_type": "code",
	   "execution_count": null,
	   "metadata": {
	    "collapsed": true
	   },
	   "outputs": [],
"source": [
"clear;\n",
"clc;\n",
"\n",
"//Average power dissipated by the gate\n",
"//Given Data\n",
"Vbb = 1.15;//in V\n",
"Vee=5.20;//in V\n",
"Vbe5=0.7;//in V\n",
"R=1.18;//in K\n",
"r=300;//in ohm\n",
"Vbecutin=0.5;//in V\n",
"\n",
"//If all inputs are low then we assume that Q1,Q2 and Q3 are cutoff and Q4 is conducting\n",
"Ve=-Vbb-Vbe5;//Voltage at Common Emitter in V\n",
"//Current I in 1.18K Resistor\n",
"I = (Ve+Vee)/R;//in mA\n",
"I1=I;\n",
"//Output Voltage at Y\n",
"vy = -(r*I/1000)-Vbe5;//I is in mA so 1000 is multiplied\n",
"Vbe = vy-Ve;\n",
"if(Vbe<Vbecutin)\n",
"    v=0.7;//voltage across Q5 in V\n",
"    rQ5 = 1.5;//in K\n",
"    i = (Vee-v)/rQ5;\n",
"    v = 0.75;//from the graph in V\n",
"    Ve = -v-Vbe5;\n",
"    Vbe4=-Vbb-Ve;\n",
"end\n",
"\n",
"vo = -vy-v;\n",
"\n",
"Vb4 = Vbb;\n",
"Vc4 = -(I*r)/1000;//in V\n",
"Vcb4 = Vc4+Vb4;\n",
"Vb1 = v;\n",
"Vc1 = vy+Vbe5;\n",
"Vcb1 = Vc1 + Vb1;\n",
"\n",
"Vbe1 = Vbe5;\n",
"Ve = -(Vb1+Vbe1);\n",
"I = (Ve + Vee)/R;\n",
"I2=I;\n",
"\n",
"I =(I1+I2)/2;\n",
"disp('mA',I,'I=');\n",
"I2 = (Vee-v)/rQ5;\n",
"I3 = (Vee+vy)/rQ5;\n",
"I = I + I2 + I3;\n",
"P = Vee*I;\n",
"disp('mW',P,'Power dissipated = ');\n",
"\n",
"//end"
   ]
   }
],
"metadata": {
		  "kernelspec": {
		   "display_name": "Scilab",
		   "language": "scilab",
		   "name": "scilab"
		  },
		  "language_info": {
		   "file_extension": ".sce",
		   "help_links": [
			{
			 "text": "MetaKernel Magics",
			 "url": "https://github.com/calysto/metakernel/blob/master/metakernel/magics/README.md"
			}
		   ],
		   "mimetype": "text/x-octave",
		   "name": "scilab",
		   "version": "0.7.1"
		  }
		 },
		 "nbformat": 4,
		 "nbformat_minor": 0
}
