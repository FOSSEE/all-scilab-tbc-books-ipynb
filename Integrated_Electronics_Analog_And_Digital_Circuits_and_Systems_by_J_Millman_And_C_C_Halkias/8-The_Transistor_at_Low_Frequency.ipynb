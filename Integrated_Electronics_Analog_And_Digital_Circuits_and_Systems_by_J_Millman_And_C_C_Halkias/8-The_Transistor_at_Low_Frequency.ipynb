{
"cells": [
 {
		   "cell_type": "markdown",
	   "metadata": {},
	   "source": [
       "# Chapter 8: The Transistor at Low Frequency"
	   ]
	},
{
		   "cell_type": "markdown",
		   "metadata": {},
		   "source": [
			"## Example 8.2: transistor_as_a_Common_Emitter_Amplifier.sce"
		   ]
		  },
  {
"cell_type": "code",
	   "execution_count": null,
	   "metadata": {
	    "collapsed": true
	   },
	   "outputs": [],
"source": [
"clear;\n",
"clc;\n",
"\n",
"//Caption:transistor as a Common Emitter Amplifier\n",
"//Given Data\n",
"\n",
"Rl=10;//in K\n",
"Rs=1;//in K\n",
"hie=1.1;//in K\n",
"hre=2.5*(10^-4);\n",
"hfe=50;\n",
"hoe=25*(10^-3);//in K^-1\n",
"\n",
"Ai= -hfe/(1+(hoe*Rl));//Current Gain or Current Amplification\n",
"disp(Ai,'Ai=');\n",
"\n",
"Ri = hie + (hre*Rl*Ai);\n",
"disp('K',Ri,'Ri=');\n",
"\n",
"Av=(Ai*Rl)/Ri;//Voltage Gain\n",
"disp(Av,'Av=');\n",
"\n",
"Avs=(Av*Ri)/(Ri+Rs);//Overall Voltage Gain taking source resistance into account\n",
"disp(Avs,'Avs=');\n",
"\n",
"Ais=(Ai*Rs)/(Ri+Rs);//Overall current gain taking source resistance into account\n",
"disp(Ais,'Ais=');\n",
"\n",
"Yo=hoe-((hfe*hre)/(hie+Rs));//Admittance\n",
"disp('K^-1',Yo,'Yo=');\n",
"\n",
"Zo = 1/Yo;//Impedence\n",
"disp('K',Zo,'Zo=');\n",
"\n",
"//end"
   ]
   }
,
{
		   "cell_type": "markdown",
		   "metadata": {},
		   "source": [
			"## Example 8.3: EX8_3.sce"
		   ]
		  },
  {
"cell_type": "code",
	   "execution_count": null,
	   "metadata": {
	    "collapsed": true
	   },
	   "outputs": [],
"source": [
"clear;\n",
"clc;\n",
"\n",
"//Caption:To derive output impedence of given figure in open circuit-voltage short-circuit-current theorem\n",
"//Solution\n",
"\n",
"//Yo = I/Vo\n",
"//When current in a short circuit placed across the output terminals and V is the open circuit voltage\n",
"disp('When current in a short circuit placed across the output terminals and V is the open circuit voltage');\n",
"disp('I = -hf*I1=-(hf*Vs)/(Rs+hi)');\n",
"//Applying KVL\n",
"disp('Vs = I1*(Rs+hi)+hr*V = -ho*V*(Rs+hi)/hf+hr*V');\n",
"disp('or');\n",
"disp('V = -(hf*Vs/(Rs+hi))/(ho-hf*hr(Rs+hi))');\n",
"\n",
"//end"
   ]
   }
,
{
		   "cell_type": "markdown",
		   "metadata": {},
		   "source": [
			"## Example 8.4: Parameters_of_a_Common_Emitter_Amplifier.sce"
		   ]
		  },
  {
"cell_type": "code",
	   "execution_count": null,
	   "metadata": {
	    "collapsed": true
	   },
	   "outputs": [],
"source": [
"clear;\n",
"clc;\n",
"\n",
"//Caption : Parameters of a Common Emitter Amplifier\n",
"//Given Data\n",
"hie=1.1;//in K\n",
"hre=2.5*(10^-4);\n",
"hfe=50;\n",
"hoe=25*(10^-3);//in K^-1\n",
"r=200;//in K\n",
"Rs=10;//in K\n",
"Ri=1;//in K\n",
"Rl=10;//in K\n",
"\n",
"rl=(r*Rs)/(r+Rs);//in K\n",
"\n",
"Ai = -hfe/(1+(hoe*rl));//Current Gain\n",
"disp(Ai,'Ai = ');\n",
"\n",
"Ri = hie + (hre*Ai*rl);\n",
"disp('K',Ri,'Ri=');\n",
"\n",
"Av=(Ai*rl)/Ri;//Voltage Gain\n",
"disp(Av,'Av = ');\n",
"\n",
"k = r/(1-Av);\n",
"ri = (Ri*k)/(Ri+k);\n",
"disp('K',ri,'ri = ');\n",
"\n",
"Avs = Av*(ri/(ri+Rs));//Overall voltage Gain taking Source resistance into account\n",
"disp(Avs,'Avs = ');\n",
"\n",
"ai = Avs*((ri+Rs)/Rl);\n",
"disp(ai,'ai = -I2/I1');\n",
"\n",
"//End"
   ]
   }
,
{
		   "cell_type": "markdown",
		   "metadata": {},
		   "source": [
			"## Example 8.5: CE_CC_configuration.sce"
		   ]
		  },
  {
"cell_type": "code",
	   "execution_count": null,
	   "metadata": {
	    "collapsed": true
	   },
	   "outputs": [],
"source": [
"clear;\n",
" clc;\n",
"\n",
"//Caption : CE-CC configuration\n",
"//Given Data\n",
"hie = 2;//in K\n",
"hfe = 50;\n",
"hre = 6*(10^-4);\n",
"hoe = 25*(10^-3);//in K^-1\n",
"hic=2;//in K\n",
"hfc=-51;\n",
"hrc=1;\n",
"hoc=25*(10^-3);///in K^-1\n",
"Re2=5;//in K\n",
"Rs=1;//in K\n",
"Rc1=5;//in K\n",
"\n",
"//The Second Stage\n",
"\n",
"Rl = Re2;\n",
"Ai2 = -hfc/(1+(hoc*Re2));//Current Gain in @nd Transistor\n",
"disp(Ai2,'Ai2=');\n",
"\n",
"Ri2 = hic + (hrc*Ai2*Re2);\n",
"disp('K',Ri2,'Ri2=');\n",
"\n",
"Av2 = (Ai2*Re2)/Ri2;//Voltage Gain in 2nd Transistor\n",
"disp(Av2,'Av2=');\n",
"\n",
"//The First Stage\n",
"\n",
"Rl1 = (Rc1*Ri2)/(Rc1+Ri2);\n",
"disp('K',Rl1,'Rl1=');\n",
"\n",
"Ai1 = -hfe/(1+(hoe*Rl1));//Current Gain in 1st Transistor\n",
"disp(Ai1,'Ai1=');\n",
"\n",
"Ri1 = hie + (hre*Ai1*Rl1);\n",
"disp('K',Ri1,'Ri1=');\n",
"\n",
"Av1 = (Ai1*Rl1)/Ri1;//Voltage Gain in 1st Transistor\n",
"disp(Av1,'Av1=');\n",
"\n",
"disp('The output Admittance of Transistor');\n",
"Yo1 = hoe - ((hfe*hre)/(hie+Rs));\n",
"disp('K^-1',Yo1,'Yo1=');\n",
"\n",
"Ro1 = 1/Yo1;\n",
"\n",
"//Output Impedence of First Stage\n",
"disp('Output Impedence of First Stage');\n",
"ro1 = (Ro1*Rc1)/(Ro1+Rc1);\n",
"disp('K',ro1,'ro1=');\n",
"\n",
"rs2 = ro1;\n",
"\n",
"Yo2 = hoc - ((hfc*hrc)/(hic+rs2));\n",
"disp('K^-1',Yo2,'Yo2=');\n",
"\n",
"A1 = (Ai2*Ai2*Rc1)/(Ri2+Rc1);//Overall Current gain\n",
"disp(A1,'A1=');\n",
"\n",
"Av = Av2*Av1;//Overall Voltage Gain\n",
"disp(Av,'Voltage Gain = Av=');\n",
"\n",
"Avs = (Av*Ri1)/(Ri1+Rs);//Overall Voltage gain with Source Impedence\n",
"disp(Avs,'Overall Voltage gain taking Source Impedence into account = Avs = ');\n",
"\n",
"\n",
"//End"
   ]
   }
,
{
		   "cell_type": "markdown",
		   "metadata": {},
		   "source": [
			"## Example 8.6: Parameters_of_CE_CC_configuration.sce"
		   ]
		  },
  {
"cell_type": "code",
	   "execution_count": null,
	   "metadata": {
	    "collapsed": true
	   },
	   "outputs": [],
"source": [
"clear;\n",
"clc;\n",
"\n",
"//Caption:Parameters of CE-CC configuration\n",
"//Given Data\n",
"\n",
"hie = 2;//in K\n",
"hfe = 50;\n",
"hre = 6*(10^-4);\n",
"hoe = 25*(10^-3);//in K^-1\n",
"hic=2;//in K\n",
"hfc=-51;\n",
"hrc=1;\n",
"hoc=25*(10^-3);///in K^-1\n",
"Re2=5;//in K\n",
"Rs=5;//in K\n",
"Rc1=5;//in K\n",
"\n",
"//For the CC output Stage\n",
"disp('For the CC output Stage');\n",
"Rl = Re2;\n",
"Ai2 = 1+ hfe;//Current gain in 2nd Transistor\n",
"disp(Ai2,'Ai2=');\n",
"Ri2 = hie+((1+hfe)*Rl);\n",
"disp('K',Ri2,'Ri2=');\n",
"Av2=1-(hie/Ri2);//voltage gain in 2nd transistor\n",
"disp(Av2,'Av2=');\n",
"\n",
"//For the CE input Stage\n",
"disp('For the CE input Stage');\n",
"\n",
"Ai1=-hfe;//Current gain in 1st transistor\n",
"Ri1 = hie;\n",
"disp(Ai1,'Ai1=');\n",
"Rl1=(Rc1*Ri2)/(Rc1+Ri2);\n",
"disp('K',Rl1,'Rl1=');\n",
"Av1=(Ai1*Rl1)/Ri1;//Voltage gain in 1st transistor\n",
"disp(Av1,'Av1=');\n",
"ro1=Rc1;\n",
"Ro2 = (hie+Rs)/(1+hfe);\n",
"ro2=(Ro2*Rl)/(Ro2+Rl);\n",
"disp('K',ro2,'Effective Source Impedence');\n",
"\n",
"Av = Av1*Av2;//Overall voltage gain\n",
"disp(Av,'Overall Voltage Gain=');\n",
"Ai = Ai1*Ai2*(Rc1/(Rc1+Ri2));//Overall current Gain\n",
"disp(Ai,'Overall Current Gain=');\n",
"\n",
"//End"
   ]
   }
],
"metadata": {
		  "kernelspec": {
		   "display_name": "Scilab",
		   "language": "scilab",
		   "name": "scilab"
		  },
		  "language_info": {
		   "file_extension": ".sce",
		   "help_links": [
			{
			 "text": "MetaKernel Magics",
			 "url": "https://github.com/calysto/metakernel/blob/master/metakernel/magics/README.md"
			}
		   ],
		   "mimetype": "text/x-octave",
		   "name": "scilab",
		   "version": "0.7.1"
		  }
		 },
		 "nbformat": 4,
		 "nbformat_minor": 0
}
