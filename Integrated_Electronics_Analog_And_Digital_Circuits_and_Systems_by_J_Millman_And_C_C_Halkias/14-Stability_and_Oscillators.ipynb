{
"cells": [
 {
		   "cell_type": "markdown",
	   "metadata": {},
	   "source": [
       "# Chapter 14: Stability and Oscillators"
	   ]
	},
{
		   "cell_type": "markdown",
		   "metadata": {},
		   "source": [
			"## Example 14.1_a: Lowest_poles_of_an_Amplifier.sce"
		   ]
		  },
  {
"cell_type": "code",
	   "execution_count": null,
	   "metadata": {
	    "collapsed": true
	   },
	   "outputs": [],
"source": [
"clear;\n",
"clc;\n",
"\n",
"//Caption:Lowest poles of an Amplifier \n",
"//Given Data\n",
"\n",
"//Poles in radians per sec\n",
"s1 = -46.2*(10^5);\n",
"s2 = -45.9*(10^6);\n",
"s3 = -11.4*(10^8);\n",
"s4 = -30.4*(10^8);\n",
"\n",
"//Zeros\n",
"s5 = 16.65*(10^9);\n",
"s6 = 15.4*(10^8);\n",
"s7 = -22.55*(10^8);\n",
"s = 6.28*(10^6);\n",
"B = 0.040;\n",
"Ai = 410;//Gain\n",
"\n",
"n = s2/s1;\n",
"disp(n,'n=');\n",
"Q = (n*(1+(B*Ai)))^0.5/(n+1);\n",
"disp(Q,'Q=');\n",
"k = 1/(2*Q);\n",
"disp(k,'k=');\n",
"\n",
"s1f = s1*((n+1)/2)*(1-%i*((4*Q*Q)-1)^0.5);\n",
"disp(s1f,'The first pole is');\n",
"s2f = s1*((n+1)/2)*(1+%i*((4*Q*Q)-1)^0.5);\n",
"disp(s2f,'The second pole is');\n",
"\n",
"\n",
"//end"
   ]
   }
,
{
		   "cell_type": "markdown",
		   "metadata": {},
		   "source": [
			"## Example 14.1_b: Frequency_Response_Peak.sce"
		   ]
		  },
  {
"cell_type": "code",
	   "execution_count": null,
	   "metadata": {
	    "collapsed": true
	   },
	   "outputs": [],
"source": [
"clear;\n",
"clc;\n",
"\n",
"//Frequency Response Peak\n",
"//Given Data\n",
"\n",
"//Poles in radians per sec\n",
"s1 = -46.2*(10^5);\n",
"s2 = -45.9*(10^6);\n",
"s3 = -11.4*(10^8);\n",
"s4 = -30.4*(10^8);\n",
"\n",
"//Zeros\n",
"s5 = 16.65*(10^9);\n",
"s6 = 15.4*(10^8);\n",
"s7 = -22.55*(10^8);\n",
"s = 6.28*(10^6);\n",
"B = 0.040;\n",
"Ai = 410;//Gain\n",
"\n",
"n = s2/s1;\n",
"Q = (n*(1+(B*Ai)))^0.5/(n+1);\n",
"k = 1/(2*Q);\n",
"\n",
"s1f = s1*((n+1)/2)*(1-%i*((4*Q*Q)-1)^0.5);\n",
"s2f = s1*((n+1)/2)*(1+%i*((4*Q*Q)-1)^0.5);\n",
"\n",
"//Frequency Response Peak\n",
"wo = -Q*(s1+s2);\n",
"disp(wo,'wo=');\n",
"w = wo*(1-(2*k*k))^0.5//frequency at which frequency response peak occours\n",
"disp(w,'w=');\n",
"fpeak = (wo/s)*(1-(2*k*k))^0.5;\n",
"disp('MHz',fpeak,'fpeak=');\n",
"//At peak\n",
"a = 1/(2*k*(1-(k*k))^0.5);\n",
"overshoot = 20*log10(a);\n",
"disp('dB',overshoot,'Overshoot is');\n",
"\n",
"\n",
"//end"
   ]
   }
],
"metadata": {
		  "kernelspec": {
		   "display_name": "Scilab",
		   "language": "scilab",
		   "name": "scilab"
		  },
		  "language_info": {
		   "file_extension": ".sce",
		   "help_links": [
			{
			 "text": "MetaKernel Magics",
			 "url": "https://github.com/calysto/metakernel/blob/master/metakernel/magics/README.md"
			}
		   ],
		   "mimetype": "text/x-octave",
		   "name": "scilab",
		   "version": "0.7.1"
		  }
		 },
		 "nbformat": 4,
		 "nbformat_minor": 0
}
