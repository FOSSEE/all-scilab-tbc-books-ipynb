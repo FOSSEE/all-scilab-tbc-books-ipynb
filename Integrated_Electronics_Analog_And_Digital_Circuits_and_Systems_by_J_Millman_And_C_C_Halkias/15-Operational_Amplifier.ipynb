{
"cells": [
 {
		   "cell_type": "markdown",
	   "metadata": {},
	   "source": [
       "# Chapter 15: Operational Amplifier"
	   ]
	},
{
		   "cell_type": "markdown",
		   "metadata": {},
		   "source": [
			"## Example 15.1_a: difference_in_output_voltage_for_two_set_of_output_signals.sce"
		   ]
		  },
  {
"cell_type": "code",
	   "execution_count": null,
	   "metadata": {
	    "collapsed": true
	   },
	   "outputs": [],
"source": [
"clear;\n",
"clc;\n",
"\n",
"//Caption:difference in output voltage for two set of output signals\n",
"//Given Data\n",
"//First Set of Input Signal\n",
"v11=50;//in microV\n",
"v21=-50;//in microV\n",
"//Second Set of Input Signal\n",
"v12=1050;//in microV\n",
"v22=950;//in microV\n",
"p=100;//Common Mode Rejection Ratio\n",
"\n",
"//Required Formulae\n",
"//vo = Ad*vd*(1+vc/p*vd) .... p = commom mode rejection ratio\n",
"//Ad  will be same for both case, So let us write Vo = vo/Ad = Ad*(1+vc/p*vd)\n",
"\n",
"//First Set of Values\n",
"vd1=v11-v21;//in microV\n",
"vc1=(v11+v21)/2;//in microV\n",
"Vo1 = vd1*(1+vc1/(p*vd1));\n",
"\n",
"//Second Set of Values\n",
"vd2=v12-v22;//in microV\n",
"vc2=(v12+v22)/2;//in microV\n",
"Vo2 = vd2*(1+vc2/(p*vd2));\n",
"\n",
"disp(100*(Vo2-Vo1)/Vo1,'Percentage difference in output signal=');\n",
"\n",
"\n",
"//end"
   ]
   }
,
{
		   "cell_type": "markdown",
		   "metadata": {},
		   "source": [
			"## Example 15.1_b: difference_in_output_voltage_for_two_set_of_output_signals.sce"
		   ]
		  },
  {
"cell_type": "code",
	   "execution_count": null,
	   "metadata": {
	    "collapsed": true
	   },
	   "outputs": [],
"source": [
"clear;\n",
"clc;\n",
"\n",
"//Caption:difference in output voltage for two set of output signals when Common Mode Rejection Ratio =10000\n",
"//Given Data\n",
"//First Set of Input Signal\n",
"v11=50;//in microV\n",
"v21=-50;//in microV\n",
"//Second Set of Input Signal\n",
"v12=1050;//in microV\n",
"v22=950;//in microV\n",
"p=100;//Common Mode Rejection Ratio\n",
"\n",
"//Required Formulae\n",
"//vo = Ad*vd*(1+vc/p*vd) .... p = commom mode rejection ratio\n",
"//Ad  will be same for both case, So let us write Vo = vo/Ad = Ad*(1+vc/p*vd)\n",
"\n",
"//First Set of Values\n",
"vd1=v11-v21;//in microV\n",
"vc1=(v11+v21)/2;//in microV\n",
"Vo1 = vd1*(1+vc1/(p*vd1));\n",
"\n",
"//Second Set of Values\n",
"vd2=v12-v22;//in microV\n",
"vc2=(v12+v22)/2;//in microV\n",
"Vo2 = vd2*(1+vc2/(p*vd2));\n",
"\n",
"\n",
"//Now we have to calculate the same thing with common mode rejection ratio = 10000\n",
"\n",
"p=10000;//Common Mode Rejection Ratio\n",
"\n",
"//First Set of Values\n",
"vd1=v11-v21;//in microV\n",
"vc1=(v11+v21)/2;//in microV\n",
"Vo1 = vd1*(1+vc1/(p*vd1));\n",
"\n",
"//Second Set of Values\n",
"vd2=v12-v22;//in microV\n",
"vc2=(v12+v22)/2;//in microV\n",
"Vo2 = vd2*(1+vc2/(p*vd2));\n",
"\n",
"disp(100*(Vo2-Vo1)/Vo1,'Percentage difference in output signal=');\n",
"\n",
"//end"
   ]
   }
,
{
		   "cell_type": "markdown",
		   "metadata": {},
		   "source": [
			"## Example 15.2: Design_an_amplifier_using_yA702A.sce"
		   ]
		  },
  {
"cell_type": "code",
	   "execution_count": null,
	   "metadata": {
	    "collapsed": true
	   },
	   "outputs": [],
"source": [
"clear;\n",
"clc;\n",
"\n",
"//Caption:Design an amplifier using yA702A\n",
"//Given Data\n",
"f=32;//feedback in dB\n",
"//from the Bodes plot we get that Avo = 2510\n",
"Avo = 2510;//gain\n",
"disp('The parameters are R , r (for Rdash), C (for Cdash)');\n",
"//Desensivity D = B*Rmo = Avo*(R/(R+r))\n",
"//20log10(D ) = f\n",
"k = f - (20*log10(Avo));\n",
"//Let (R+r)/R = l\n",
"l = 1/(10^(k/20));\n",
"//R/(R+r) = fp/fz\n",
"//For 45degree phase margin and 32dB of low frequency feedback we find by trial and error method from the graph\n",
"fz = 10;//in MHz\n",
"fp = fz*l;\n",
"//to determine c we can arbitrarily choose R\n",
"R = 1000;//in ohm\n",
"disp('ohm',R,'R = ');\n",
"r = (l-1)*R\n",
"disp('ohm',r,'r = ');\n",
"C = 1/(2*%pi*fz*r*10^-6);\n",
"disp('pF',C,'C = ');\n",
"\n",
"\n",
"//end"
   ]
   }
],
"metadata": {
		  "kernelspec": {
		   "display_name": "Scilab",
		   "language": "scilab",
		   "name": "scilab"
		  },
		  "language_info": {
		   "file_extension": ".sce",
		   "help_links": [
			{
			 "text": "MetaKernel Magics",
			 "url": "https://github.com/calysto/metakernel/blob/master/metakernel/magics/README.md"
			}
		   ],
		   "mimetype": "text/x-octave",
		   "name": "scilab",
		   "version": "0.7.1"
		  }
		 },
		 "nbformat": 4,
		 "nbformat_minor": 0
}
