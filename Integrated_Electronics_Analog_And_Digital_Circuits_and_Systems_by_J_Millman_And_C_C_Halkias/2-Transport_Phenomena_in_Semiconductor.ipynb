{
"cells": [
 {
		   "cell_type": "markdown",
	   "metadata": {},
	   "source": [
       "# Chapter 2: Transport Phenomena in Semiconductor"
	   ]
	},
{
		   "cell_type": "markdown",
		   "metadata": {},
		   "source": [
			"## Example 2.1_a: Using_Avogadro_no_find_the_numerical_value_of_concentration_of_atom_in_Germanium.sce"
		   ]
		  },
  {
"cell_type": "code",
	   "execution_count": null,
	   "metadata": {
	    "collapsed": true
	   },
	   "outputs": [],
"source": [
"clear;\n",
"clc\n",
"\n",
"//Example 2a\n",
"//Using Avogadro no. find the numerical value of concentration of atom in Germanium\n",
"\n",
"//Given Values\n",
"\n",
"Av=6.02*(10^23) //Avogadro No.\n",
"m=72.6 //Molar mass of germanium in gm/moles\n",
"d=5.32//density in gm/cm^3\n",
"\n",
"conc = (Av/m)*d //Concentration of atom in germanium\n",
"\n",
"disp('atom/cm^3',conc,'The concentration of germanium atom is=');\n",
"\n",
"//End"
   ]
   }
,
{
		   "cell_type": "markdown",
		   "metadata": {},
		   "source": [
			"## Example 2.1_b: Resistivity_of_intrinsic_Germanium.sce"
		   ]
		  },
  {
"cell_type": "code",
	   "execution_count": null,
	   "metadata": {
	    "collapsed": true
	   },
	   "outputs": [],
"source": [
"clear;\n",
"clc\n",
"\n",
"//Example 2b\n",
"//To find the resistivity of intrinsic germanium at 300K\n",
"\n",
"//Given Values\n",
"\n",
"Av=6.02*(10^23) //Avogadro No.\n",
"m=72.6 //Molar mass of germanium in gm/moles\n",
"d=5.32//density in gm/cm^3\n",
"ni=2.5*(10^13);//in cm^-3\n",
"n=ni; \n",
"p=ni;//n=magnitude of free electrons, p=magnitude of holes, ni=magnitude of intrinsic concentration\n",
"q=1.6*(10^-19);//Charge of an Electron\n",
"yn=3800;//in cm^2/V-s\n",
"yp=1800;//in cm^2/V-s\n",
"\n",
"//Required Formula\n",
"A=ni*q*(yn+yp); //Conductivity\n",
"disp('ohm-cm^-1',A,'Conductivity is =');\n",
"\n",
"R =1/A //Resistivity\n",
"disp('ohm-cm',R,'Resistivity is =');\n",
"\n",
"//End"
   ]
   }
,
{
		   "cell_type": "markdown",
		   "metadata": {},
		   "source": [
			"## Example 2.1_c: Resistivity_with_given_condition_in_germanium_atoms.sce"
		   ]
		  },
  {
"cell_type": "code",
	   "execution_count": null,
	   "metadata": {
	    "collapsed": true
	   },
	   "outputs": [],
"source": [
"clear;\n",
"clc;\n",
"\n",
"disp('We know that n=p=ni where n is conc of free electron p is conc of holes and ni is conc of intrinsic carriers');\n",
"//Given data\n",
"//Resistivity if 1 donor atom per 10^8 germanium atoms\n",
"Nd=4.41*(10^14);//in atoms/cm^3\n",
"ni=2.5*(10^13);//in cm^3\n",
"yn=3800;//in cm^2/V-s\n",
"q=1.6*(10^-19);\n",
"\n",
"n=Nd;\n",
"p=(ni^2)/Nd;\n",
"\n",
"disp('holes/cm^3',p,'the concentration of holes is=');\n",
"if(n>p)\n",
"    A=n*q*yn;//Conductivity\n",
"    disp('ohm-cm^-1',A,'The conductivity is =');\n",
"end\n",
"\n",
"R=1/A;//Resistivity\n",
"disp('ohm-cm',R,'The resistivity is=');\n",
"\n",
"\n",
"//End"
   ]
   }
,
{
		   "cell_type": "markdown",
		   "metadata": {},
		   "source": [
			"## Example 2.1_d: Ratio_of_Conductivities.sce"
		   ]
		  },
  {
"cell_type": "code",
	   "execution_count": null,
	   "metadata": {
	    "collapsed": true
	   },
	   "outputs": [],
"source": [
"clear;\n",
"clc;\n",
"\n",
"disp('We know that n=p=ni where n is conc of free electron p is conc of holes and ni is conc of intrinsic carriers');\n",
"//Given data\n",
"//Ratio of Conductivities\n",
"Nd=4.41*(10^14);//in atoms/cm^3\n",
"ni=2.5*(10^13);//in cm^3\n",
"yn=3800;//in cm^2/V-s\n",
"q=1.6*(10^-19);\n",
"\n",
"n=Nd;\n",
"A=n*q*yn;//Conductivity\n",
"\n",
"//If germanium atom were monovalent metal , ratio of conductivity to that of n-type semiconductor\n",
"\n",
"n=4.41*(10^22);//in electrons/cm^3\n",
"\n",
"disp('If germanium atom were monovalent metal');\n",
"A1=n*q*yn;\n",
"disp('ohm=cm^-1',A1,'the coductivity of metal is=');\n",
"\n",
"F=A1/A;\n",
"disp(F,'The factor by which the coductivity of metal is higher than that of n type semiconductor is');\n",
"\n",
"//End"
   ]
   }
],
"metadata": {
		  "kernelspec": {
		   "display_name": "Scilab",
		   "language": "scilab",
		   "name": "scilab"
		  },
		  "language_info": {
		   "file_extension": ".sce",
		   "help_links": [
			{
			 "text": "MetaKernel Magics",
			 "url": "https://github.com/calysto/metakernel/blob/master/metakernel/magics/README.md"
			}
		   ],
		   "mimetype": "text/x-octave",
		   "name": "scilab",
		   "version": "0.7.1"
		  }
		 },
		 "nbformat": 4,
		 "nbformat_minor": 0
}
