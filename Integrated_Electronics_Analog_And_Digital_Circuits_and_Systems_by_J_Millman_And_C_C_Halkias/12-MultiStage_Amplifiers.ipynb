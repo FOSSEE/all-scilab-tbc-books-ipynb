{
"cells": [
 {
		   "cell_type": "markdown",
	   "metadata": {},
	   "source": [
       "# Chapter 12: MultiStage Amplifiers"
	   ]
	},
{
		   "cell_type": "markdown",
		   "metadata": {},
		   "source": [
			"## Example 12.1_a: Minimum_value_of_coupling_capacitance_for_a_given_FET.sce"
		   ]
		  },
  {
"cell_type": "code",
	   "execution_count": null,
	   "metadata": {
	    "collapsed": true
	   },
	   "outputs": [],
"source": [
"clear;\n",
"clc;\n",
"\n",
"//Caption:Minimum value of coupling capacitance for a given FET\n",
"//Given Value\n",
"Ry=1;//in K\n",
"Rg=1;//in M\n",
"Ri=1;//in K\n",
"hOE=1/40;//in K^-1\n",
"\n",
"//fL=1/(2*%pi*(ro+ri)*Cb)<=10\n",
"//Since ri=1M , ro<Ry=1K , then ro+ri=1M\n",
"\n",
"Cb=1/(2*%pi*1*10);\n",
"disp(Cb,'Minimum Value of coupling Capacitance for given FET=');\n",
"\n",
"//end"
   ]
   }
,
{
		   "cell_type": "markdown",
		   "metadata": {},
		   "source": [
			"## Example 12.1_b: Minimum_value_of_coupling_capacitance_for_a_given_FET.sce"
		   ]
		  },
  {
"cell_type": "code",
	   "execution_count": null,
	   "metadata": {
	    "collapsed": true
	   },
	   "outputs": [],
"source": [
"clear;\n",
"clc;\n",
"\n",
"//Caption:Minimum value of coupling capacitance for a given FET\n",
"//Given Value\n",
"Ry=1;//in K\n",
"Rg=1;//in M\n",
"Ri=1;//in K\n",
"hOE=1/40;//in K^-1\n",
"\n",
"//fL=1/(2*%pi*(ro+ri)*Cb)<=10\n",
"\n",
"//Ro>1/hOE=40K  ro=Rc=1K.  Rb>Ri=1K   then  ri=1K\n",
"\n",
"ro=1000;//in ohm\n",
"ri=1000;//in ohm\n",
"\n",
"Cb=1/(2*%pi*10*(ro+ri));\n",
"disp('pF',Cb*(10^6),'Coupling Capacitance for given transistor=');\n",
"\n",
"//end"
   ]
   }
],
"metadata": {
		  "kernelspec": {
		   "display_name": "Scilab",
		   "language": "scilab",
		   "name": "scilab"
		  },
		  "language_info": {
		   "file_extension": ".sce",
		   "help_links": [
			{
			 "text": "MetaKernel Magics",
			 "url": "https://github.com/calysto/metakernel/blob/master/metakernel/magics/README.md"
			}
		   ],
		   "mimetype": "text/x-octave",
		   "name": "scilab",
		   "version": "0.7.1"
		  }
		 },
		 "nbformat": 4,
		 "nbformat_minor": 0
}
