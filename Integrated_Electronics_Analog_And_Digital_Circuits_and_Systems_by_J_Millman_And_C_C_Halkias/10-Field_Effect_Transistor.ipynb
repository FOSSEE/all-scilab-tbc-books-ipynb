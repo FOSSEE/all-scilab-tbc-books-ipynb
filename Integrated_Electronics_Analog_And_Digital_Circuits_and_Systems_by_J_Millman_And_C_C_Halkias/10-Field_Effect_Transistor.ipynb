{
"cells": [
 {
		   "cell_type": "markdown",
	   "metadata": {},
	   "source": [
       "# Chapter 10: Field Effect Transistor"
	   ]
	},
{
		   "cell_type": "markdown",
		   "metadata": {},
		   "source": [
			"## Example 10.1_a: Pinch_off_V_and_channel_half_width_of_silicon_FET.sce"
		   ]
		  },
  {
"cell_type": "code",
	   "execution_count": null,
	   "metadata": {
	    "collapsed": true
	   },
	   "outputs": [],
"source": [
"clear;\n",
"clc;\n",
"\n",
"//Caption: Pinch off V and channel half width of silicon FET\n",
"\n",
"//Given Values\n",
"a=3*(10^-4);//in cm\n",
"Nd=10^15;//in electrons/cm^3\n",
"q=1.6*(10^-19)//in C\n",
"eo=8.85*(10^-12);//Permittivity of free space\n",
"e=12*eo;//Relative Permittivity\n",
"\n",
"Vp=(q*Nd*a*a*10^6*10^-4)/(2*e);//in V\n",
"//a is in cm so 10^-4 is multiplied and Nd is in electrons/cm^3 so 10^6 is multiplied\n",
"disp('V',Vp,'Pinch off Voltage =');\n",
"\n",
"//end"
   ]
   }
,
{
		   "cell_type": "markdown",
		   "metadata": {},
		   "source": [
			"## Example 10.1_b: Pinch_off_V_and_channel_half_width_of_silicon_FET.sce"
		   ]
		  },
  {
"cell_type": "code",
	   "execution_count": null,
	   "metadata": {
	    "collapsed": true
	   },
	   "outputs": [],
"source": [
"clear;\n",
"clc;\n",
"\n",
"//Caption: Pinch off V and channel half width of silicon FET\n",
"\n",
"//Given Values\n",
"a=3*(10^-4);//in m\n",
"Nd=10^15;//in electrons/m^3\n",
"q=1.6*(10^-19)//in C\n",
"eo=8.85*(10^-12);//Permittivity of free space\n",
"e=12*eo;//Relative Permittivity\n",
"\n",
"Vp=(q*Nd*a*a*10^6*10^-4)/(2*e);//in V\n",
"//a is in cm so 10^-4 is multiplied and Nd is in electrons/cm^3 so 10^6 is multiplied\n",
"Vgs= Vp/2;\n",
"\n",
"b=a*(1-((Vgs/Vp)^(0.5)));//in cm\n",
"\n",
"disp('cm',b,'Channel Half Width = ');\n",
"\n",
"//end"
   ]
   }
,
{
		   "cell_type": "markdown",
		   "metadata": {},
		   "source": [
			"## Example 10.2_a: Amplifier_using_n_channel_FET.sce"
		   ]
		  },
  {
"cell_type": "code",
	   "execution_count": null,
	   "metadata": {
	    "collapsed": true
	   },
	   "outputs": [],
"source": [
"clear;\n",
"clc;\n",
"\n",
"//Caption:amplifier using n channel FET\n",
"\n",
"//Given Data\n",
"\n",
"Vp=-2;//in V\n",
"Idss=1.65;//in mA\n",
"//it is desired to bias the circut at Id=0.8mA\n",
"Ids=0.8;//in mA\n",
"Vdd=24;//in V\n",
"//Assumption: rd>Rd\n",
"\n",
"Vgs=Vp*(1-(Ids/Idss)^0.5);//in V\n",
"disp('V',Vgs,'Vgs=');\n",
"\n",
"\n",
"//end"
   ]
   }
,
{
		   "cell_type": "markdown",
		   "metadata": {},
		   "source": [
			"## Example 10.2_b: Amplifier_using_n_channel_FET.sce"
		   ]
		  },
  {
"cell_type": "code",
	   "execution_count": null,
	   "metadata": {
	    "collapsed": true
	   },
	   "outputs": [],
"source": [
"clear;\n",
"clc;\n",
"\n",
"//Caption:amplifier using n channel FET\n",
"\n",
"//Given Data\n",
"\n",
"Vp=-2;//in V\n",
"Idss=1.65;//in mA\n",
"//it is desired to bias the circut at Id=0.8mA\n",
"Ids=0.8;//in mA\n",
"Vdd=24;//in V\n",
"//Assumption: rd>Rd\n",
"\n",
"Vgs=Vp*(1-(Ids/Idss)^0.5);//in V\n",
"\n",
"gmo=-(2*Idss/Vp);\n",
"disp('mA/V',gmo,'gmo=');\n",
"gm=gmo*(1-(Vgs/Vp));\n",
"disp('mA/V',gm,'gm=');\n",
"\n",
"//end"
   ]
   }
,
{
		   "cell_type": "markdown",
		   "metadata": {},
		   "source": [
			"## Example 10.2_c: Amplifier_using_n_channel_FET.sce"
		   ]
		  },
  {
"cell_type": "code",
	   "execution_count": null,
	   "metadata": {
	    "collapsed": true
	   },
	   "outputs": [],
"source": [
"clear;\n",
"clc;\n",
"\n",
"//Caption:amplifier using n channel FET\n",
"\n",
"//Given Data\n",
"\n",
"Vp=-2;//in V\n",
"Idss=1.65;//in mA\n",
"//it is desired to bias the circut at Id=0.8mA\n",
"Ids=0.8;//in mA\n",
"Vdd=24;//in V\n",
"//Assumption: rd>Rd\n",
"\n",
"Vgs=Vp*(1-(Ids/Idss)^0.5);//in V\n",
"\n",
"gmo=-(2*Idss/Vp);\n",
"gm=gmo*(1-(Vgs/Vp));\n",
"\n",
"Rs=-(Vgs/Ids);//in ohm\n",
"disp('K',Rs,'Rs=');\n",
"\n",
"//end"
   ]
   }
,
{
		   "cell_type": "markdown",
		   "metadata": {},
		   "source": [
			"## Example 10.2_d: Amplifier_using_n_channel_FET.sce"
		   ]
		  },
  {
"cell_type": "code",
	   "execution_count": null,
	   "metadata": {
	    "collapsed": true
	   },
	   "outputs": [],
"source": [
"clear;\n",
"clc;\n",
"\n",
"//Caption:amplifier using n channel FET\n",
"\n",
"//Given Data\n",
"\n",
"Vp=-2;//in V\n",
"Idss=1.65;//in mA\n",
"//it is desired to bias the circut at Id=0.8mA\n",
"Ids=0.8;//in mA\n",
"Vdd=24;//in V\n",
"//Assumption: rd>Rd\n",
"\n",
"Vgs=Vp*(1-(Ids/Idss)^0.5);//in V\n",
"\n",
"gmo=-(2*Idss/Vp);\n",
"gm=gmo*(1-(Vgs/Vp));\n",
"\n",
"Rs=-(Vgs/Ids);//in ohm\n",
"\n",
"disp('20dB corresponds to voltage gain of i0');\n",
"Av=10;\n",
"Rd=Av/gm;//in ohm\n",
"disp('ohm',Rd,'Rd=');\n",
"\n",
"//end"
   ]
   }
,
{
		   "cell_type": "markdown",
		   "metadata": {},
		   "source": [
			"## Example 10.3_a: To_find_the_parameters_of_a_FET_2N3684.sce"
		   ]
		  },
  {
"cell_type": "code",
	   "execution_count": null,
	   "metadata": {
	    "collapsed": true
	   },
	   "outputs": [],
"source": [
"clear;\n",
"clc;\n",
"\n",
"//Caption: To find the parameters of a FET 2N3684\n",
"\n",
"//Given Values\n",
"Vpmin=-2;//in V\n",
"Vpmax=-5;//in V\n",
"Idssmin=1.6;//in mA\n",
"Idssmax=7.05;//in mA\n",
"Idmin=0.8;//in mA\n",
"Ia=Idmin;\n",
"Idmax=1.2;//in mA\n",
"Ib=Idmax;\n",
"Vdd=24;//in V\n",
"Vgs1=0;//in V\n",
"Id1=0.9;//in mA\n",
"Vgs2=-4;//in V\n",
"Id2=1.1;//in mA\n",
"//Slope determines Rs\n",
"Rs=(Vgs1-Vgs2)/(Id2-Id1);\n",
"disp('ohm',Rs,'Rs=');\n",
"Vgg=Id1*Rs;\n",
"disp('V',Vgg,'Vgg=');\n",
"\n",
"//end"
   ]
   }
,
{
		   "cell_type": "markdown",
		   "metadata": {},
		   "source": [
			"## Example 10.3_b: To_find_the_range_of_possible_values_of_Id_in_FET_2N3684_from_the_graph.sce"
		   ]
		  },
  {
"cell_type": "code",
	   "execution_count": null,
	   "metadata": {
	    "collapsed": true
	   },
	   "outputs": [],
"source": [
"clear;\n",
"clc;\n",
"\n",
"//Caption:To find the range of possible values of Id in FET 2N3684 from the graph\n",
"\n",
"//In the figure given The line of Rs=3.3K cuts Vp = -2V at Id = 0.4 mA\n",
"Idmin = 0.4;//in mA\n",
"disp('mA',Idmin,'Idmin=');\n",
"\n",
"//In the figure given The line of Rs=3.3K cuts Vp = -5V at Id = 1.2 mA\n",
"Idmax = 1.2;//in mA\n",
"disp('mA',Idmax,'Idmax=');\n",
"\n",
"//end"
   ]
   }
,
{
		   "cell_type": "markdown",
		   "metadata": {},
		   "source": [
			"## Example 10.4: Voltage_Gain_of_MOSFET_as_a_single_stage_and_then_as_first_transistor.sce"
		   ]
		  },
  {
"cell_type": "code",
	   "execution_count": null,
	   "metadata": {
	    "collapsed": true
	   },
	   "outputs": [],
"source": [
"clear;\n",
"clc;\n",
"\n",
"//Caption:Voltage Gain of MOSFET as a single stage and then as first transistor\n",
"\n",
"//Given Data\n",
"Rd=100;//in K\n",
"f=20000;//frequency in Hertz\n",
"//MOSFET parameters\n",
"gm=1.6;//in mA/V\n",
"rd=44;//in k\n",
"Cgs=3*(10^-12);//in F\n",
"Cds=1*(10^-12);//in F\n",
"Cgd=2.8*(10^-12);//in F\n",
"m=gm*rd;//mew\n",
"\n",
"//Required Formulae\n",
"Ygs=2*%pi*f*Cgs*%i;//in mho\n",
"Yds=2*%pi*f*Cds*%i;//in mho\n",
"Ygd=2*%pi*f*Cgd*%i;//in mho\n",
"gd=1/rd;//in mho\n",
"Yd=1/Rd;//in mho\n",
"gm=1.6*(10^-3);//in mho\n",
"disp('Gain of one stage amplifier');\n",
"Av=(-gm+Ygd)/(gd+Yd+Yds+Ygd);//Voltage Gain\n",
"disp(Av,'Av=');\n",
"\n",
"disp('Gain after nelecting the interelectrode capacitance');\n",
"Av=-(m*Rd)/(Rd+rd);//Voltage Gain\n",
"disp(Av,'Av=');\n",
"\n",
"//Let k= gm*Rd'\n",
"k=-Av;\n",
"Ci = (Cgs*(10^12)) +((1+k)*Cgd*(10^12));\n",
"disp('Value of Input Impedence Capacitance');\n",
"disp('pF',Ci,'Ci=');\n",
"\n",
"//Now considering a two stage amplifier consisting of an FET operating\n",
"//New input Impedence taking into account various factors for present codition\n",
"Ci=200*(10^-12);\n",
"disp('Now considering a two stage amplifier consisting of an FET operating');\n",
"Yl=(0.001/Rd)+(2*%pi*f*Ci*%i);\n",
"disp(Yl,'Load Admittance =');\n",
"\n",
"gd=gd*0.001;\n",
"disp('Gain');\n",
"Av=-(gm)/(gd+Yl);//Voltage Gain\n",
"disp(Av,'Av=');\n",
"\n",
"//end"
   ]
   }
],
"metadata": {
		  "kernelspec": {
		   "display_name": "Scilab",
		   "language": "scilab",
		   "name": "scilab"
		  },
		  "language_info": {
		   "file_extension": ".sce",
		   "help_links": [
			{
			 "text": "MetaKernel Magics",
			 "url": "https://github.com/calysto/metakernel/blob/master/metakernel/magics/README.md"
			}
		   ],
		   "mimetype": "text/x-octave",
		   "name": "scilab",
		   "version": "0.7.1"
		  }
		 },
		 "nbformat": 4,
		 "nbformat_minor": 0
}
