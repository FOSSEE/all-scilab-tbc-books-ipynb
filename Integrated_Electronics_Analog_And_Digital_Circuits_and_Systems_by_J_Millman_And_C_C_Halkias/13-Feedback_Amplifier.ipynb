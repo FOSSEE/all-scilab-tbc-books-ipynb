{
"cells": [
 {
		   "cell_type": "markdown",
	   "metadata": {},
	   "source": [
       "# Chapter 13: Feedback Amplifier"
	   ]
	},
{
		   "cell_type": "markdown",
		   "metadata": {},
		   "source": [
			"## Example 13.1: parameters_of_a_Second_collector_to_first_emmitter_feedback_amplifier.sce"
		   ]
		  },
  {
"cell_type": "code",
	   "execution_count": null,
	   "metadata": {
	    "collapsed": true
	   },
	   "outputs": [],
"source": [
"clear;\n",
"clc;\n",
"\n",
"//Caption : parameters of a Second collector to first emmitter feedback ampkifier\n",
"//Given Data\n",
"Rs=0;//in V\n",
"hfe=50;//in K\n",
"hie=1.1;//in K\n",
"hre=0;//in K\n",
"hoe=0;//in K\n",
"\n",
"disp('We first calculate the effective load Rl1 at the first calculator');\n",
"r1=10;//in K\n",
"r2=47;//in K\n",
"r3=33;//in K\n",
"r4=1+0.1;//in K\n",
"\n",
"Rl1=(r1*r2*r3*r4)/((r1*r2*r3)+(r1*r2*r4)+(r1*r3*r4)+(r2*r3*r4));\n",
"disp('K',Rl1,'Rl1=');\n",
"\n",
"disp('Similarly for 2nd Transistor');\n",
"R1=0.1;//in K\n",
"R2=4.7;//in K\n",
"Rc1=R1+R2;\n",
"Rc2=4.7;//in K\n",
"\n",
"Rl2=(Rc1*Rc2)/(Rc1+Rc2);\n",
"disp('K',Rl2,'Rl2=');\n",
"\n",
"Re=(R1*R2)/(R1+R2);\n",
"\n",
"disp('Voltage Gain of Transistor Q1');\n",
"Av1 = -(hfe*Rl1)/(hie+((1+hfe)*Re));\n",
"disp(Av1,'Av1=');\n",
"\n",
"disp('Voltage Gain of Transistor Q2');\n",
"Av2=-(hfe*Rl2)/hie;\n",
"disp(Av2,'Av2=');\n",
"\n",
"disp('Voltage Gain of two transistors in cascade without feedback');\n",
"Av=Av1*Av2;\n",
"disp(Av,'Av=');\n",
"\n",
"B=R1/(R1+R2);//beta which is feedback\n",
"D=1+(B*Av);\n",
"\n",
"Avf=Av/D;\n",
"disp(Avf,'Avf=');\n",
"\n",
"disp('Input resistance without external feedback');\n",
"Ri=hie+(1+hfe)*Re;\n",
"disp('K',Ri,'Ri=');\n",
"\n",
"Rif=Ri*D;\n",
"disp('K',Rif,'Rif=');\n",
"\n",
"Ro=Rl2;\n",
"Rof=Ro/D;\n",
"disp('K',Rof,'Rof=');\n",
"\n",
"//end"
   ]
   }
,
{
		   "cell_type": "markdown",
		   "metadata": {},
		   "source": [
			"## Example 13.2_a: To_find_parameters_of_Current_series_Feedback_Amplifier.sce"
		   ]
		  },
  {
"cell_type": "code",
	   "execution_count": null,
	   "metadata": {
	    "collapsed": true
	   },
	   "outputs": [],
"source": [
"clear;\n",
"clc;\n",
"\n",
"//Caption:To find parameters of Current series Fwwdback Amplifier\n",
"//Given Data\n",
"Gmf=-1;//Transconductance in mA/V\n",
"D=50;//Desensivity\n",
"Avf=-4;//Voltage Gain\n",
"Rs=1;//in K\n",
"hfe=150;\n",
"Vt=0.026;//in V\n",
"\n",
"Gm=Gmf*D;\n",
"disp('mA/V',Gm,'Gm=');\n",
"\n",
"//B=-Re, D = 1+B*Gm = 1-B*Gm\n",
"Re=(1-D)/Gm;//in K\n",
"disp('K',Re,'Re=');\n",
"\n",
"//end"
   ]
   }
,
{
		   "cell_type": "markdown",
		   "metadata": {},
		   "source": [
			"## Example 13.2_b: To_find_parameters_of_Current_series_Feedback_Amplifier.sce"
		   ]
		  },
  {
"cell_type": "code",
	   "execution_count": null,
	   "metadata": {
	    "collapsed": true
	   },
	   "outputs": [],
"source": [
"clear;\n",
"clc;\n",
"\n",
"//Caption:Gain of second emitter to first basefeedback pair\n",
"//Given Data\n",
"Rc1=3;//in K\n",
"Rc2=0.5;//in K\n",
"Re=0.05;//in K\n",
"Rs=1.2;//in K\n",
"hfe=50;\n",
"hie=1.1;//in K\n",
"hre=0;\n",
"hoe=0;\n",
"\n",
"R=Rs;\n",
"\n",
"//Ai=-Ic2/Is=-(Ic2/Ib2)*(Ib2/Ic1)*(Ic1/Ib1)*(Ib1/Is)\n",
"// -Ic2/Ib2 =- hfe = -50\n",
"// Ic1/Ib1 = hfe\n",
"//Let Ib2/Ic1 = k\n",
"Ri2= hie + ((1+hfe)*(Re*R/(Re+R)));\n",
"k=-Rc1/(Rc1+Ri2);\n",
"\n",
"r= Rs*(Rs+Re)/(Rs+R+Re);\n",
"//Let Ib1/Is = l\n",
"l=r/(r+hie);\n",
"\n",
"Ai=(-hfe)*(k)*(hfe)*(l);\n",
"\n",
"B=Re/(Re+R);//beta\n",
"D=1+(B*Ai);\n",
"\n",
"Aif=Ai/D;\n",
"\n",
"Avf=(Aif*Rc2)/Rs;\n",
"\n",
"//To find Rif\n",
"\n",
"Ri=(r*hie)/(r+hie);\n",
"Rif=Ri/D;\n",
"disp('ohm',Rif*1000,'Rif=');\n",
"\n",
"//End"
   ]
   }
,
{
		   "cell_type": "markdown",
		   "metadata": {},
		   "source": [
			"## Example 13.2_c: To_find_parameters_of_Current_series_Feedback_Amplifier.sce"
		   ]
		  },
  {
"cell_type": "code",
	   "execution_count": null,
	   "metadata": {
	    "collapsed": true
	   },
	   "outputs": [],
"source": [
"clear;\n",
"clc;\n",
"\n",
"//Caption:To find parameters of Current seris Fwwdback Amplifier\n",
"//Given Data\n",
"Gmf=-1;//Transconductance in mA/V\n",
"D=50;//Desensivity\n",
"Avf=-4;//Voltage Gain\n",
"Rs=1;//in K\n",
"hfe=150;\n",
"Vt=0.026;//in V\n",
"\n",
"Gm=Gmf*D;\n",
"\n",
"//B=-Re, D = 1+B*Gm = 1-B*Gm\n",
"Re=(1-D)/Gm;//in K\n",
"\n",
"Rl=Avf/Gmf;//in K\n",
"\n",
"// Gm= -hfe/(Rs+hie+Re)\n",
"hie= -(hfe/Gm)-Rs-Re;\n",
"Ri = Rs + hie +Re;\n",
"Rif = Ri*D\n",
"disp('K',Rif,'Rif=');\n",
"\n",
"\n",
"//end"
   ]
   }
,
{
		   "cell_type": "markdown",
		   "metadata": {},
		   "source": [
			"## Example 13.2_d: To_find_parameters_of_Current_seris_Feedback_Amplifier.sce"
		   ]
		  },
  {
"cell_type": "code",
	   "execution_count": null,
	   "metadata": {
	    "collapsed": true
	   },
	   "outputs": [],
"source": [
"clear;\n",
"clc;\n",
"\n",
"//Caption:To find parameters of Current seris Feedback Amplifier\n",
"//Given Data\n",
"Gmf=-1;//Transconductance in mA/V\n",
"D=50;//Desensivity\n",
"Avf=-4;//Voltage Gain\n",
"Rs=1;//in K\n",
"hfe=150;\n",
"Vt=0.026;//in V\n",
"\n",
"Gm=Gmf*D;\n",
"\n",
"//B=-Re, D = 1+B*Gm = 1-B*Gm\n",
"Re=(1-D)/Gm;//in K\n",
"\n",
"Rl=Avf/Gmf;//in K\n",
"\n",
"// Gm= -hfe/(Rs+hie+Re)\n",
"hie= -(hfe/Gm)-Rs-Re;\n",
"Ri = Rs + hie +Re;\n",
"Rif = Ri*D\n",
"\n",
"Ic=(hfe*Vt)/hie;\n",
"disp('mA',Ic,'Quiscent Collector Current = ');\n",
"\n",
"//end"
   ]
   }
,
{
		   "cell_type": "markdown",
		   "metadata": {},
		   "source": [
			"## Example 13.3_a: Gain_of_second_emitter_to_first_basefeedback_pair.sce"
		   ]
		  },
  {
"cell_type": "code",
	   "execution_count": null,
	   "metadata": {
	    "collapsed": true
	   },
	   "outputs": [],
"source": [
"clear;\n",
"clc;\n",
"\n",
"//Caption:Gain of second emitter to first basefeedback pair\n",
"//Given Data\n",
"Rc1=3;//in K\n",
"Rc2=0.5;//in K\n",
"Re=0.05;//in K\n",
"Rs=1.2;//in K\n",
"hfe=50;\n",
"hie=1.1;//in K\n",
"hre=0;\n",
"hoe=0;\n",
"\n",
"R=Rs;\n",
"\n",
"//Ai=-Ic2/Is=-(Ic2/Ib2)*(Ib2/Ic1)*(Ic1/Ib1)*(Ib1/Is)\n",
"// -Ic2/Ib2 =- hfe = -50\n",
"// Ic1/Ib1 = hfe\n",
"//Let Ib2/Ic1 = k\n",
"Ri2= hie + ((1+hfe)*(Re*R/(Re+R)));\n",
"k=-Rc1/(Rc1+Ri2);\n",
"\n",
"r= Rs*(Rs+Re)/(Rs+R+Re);\n",
"//Let Ib1/Is = l\n",
"l=r/(r+hie);\n",
"\n",
"Ai=(-hfe)*(k)*(hfe)*(l);\n",
"disp(Ai,'Ai=');\n",
"\n",
"B=Re/(Re+R);//beta\n",
"D=1+(B*Ai);\n",
"\n",
"Aif=Ai/D;\n",
"disp(Aif,'Aif=');\n",
"\n",
"Avf=(Aif*Rc2)/Rs;\n",
"disp(Avf,'Avf=');\n",
"\n",
"//End"
   ]
   }
,
{
		   "cell_type": "markdown",
		   "metadata": {},
		   "source": [
			"## Example 13.3_b: Gain_of_second_emitter_to_first_basefeedback_pair.sce"
		   ]
		  },
  {
"cell_type": "code",
	   "execution_count": null,
	   "metadata": {
	    "collapsed": true
	   },
	   "outputs": [],
"source": [
"clear;\n",
"clc;\n",
"\n",
"//Caption:Gain of second emitter to first basefeedback pair\n",
"//Given Data\n",
"Rc1=3;//in K\n",
"Rc2=0.5;//in K\n",
"Re=0.05;//in K\n",
"Rs=1.2;//in K\n",
"hfe=50;\n",
"hie=1.1;//in K\n",
"hre=0;\n",
"hoe=0;\n",
"\n",
"R=Rs;\n",
"\n",
"//Ai=-Ic2/Is=-(Ic2/Ib2)*(Ib2/Ic1)*(Ic1/Ib1)*(Ib1/Is)\n",
"// -Ic2/Ib2 =- hfe = -50\n",
"// Ic1/Ib1 = hfe\n",
"//Let Ib2/Ic1 = k\n",
"Ri2= hie + ((1+hfe)*(Re*R/(Re+R)));\n",
"k=-Rc1/(Rc1+Ri2);\n",
"\n",
"r= Rs*(Rs+Re)/(Rs+R+Re);\n",
"//Let Ib1/Is = l\n",
"l=r/(r+hie);\n",
"\n",
"Ai=(-hfe)*(k)*(hfe)*(l);\n",
"\n",
"B=Re/(Re+R);//beta\n",
"D=1+(B*Ai);\n",
"\n",
"Aif=Ai/D;\n",
"\n",
"Avf=(Aif*Rc2)/Rs;\n",
"\n",
"//To find Rif\n",
"\n",
"Ri=(r*hie)/(r+hie);\n",
"Rif=Ri/D;\n",
"disp('ohm',Rif*1000,'Rif=');\n",
"\n",
"//End"
   ]
   }
,
{
		   "cell_type": "markdown",
		   "metadata": {},
		   "source": [
			"## Example 13.3_c: Gain_of_second_emitter_to_first_basefeedback_pair.sce"
		   ]
		  },
  {
"cell_type": "code",
	   "execution_count": null,
	   "metadata": {
	    "collapsed": true
	   },
	   "outputs": [],
"source": [
"clear;\n",
"clc;\n",
"\n",
"//Caption:Gain of second emitter to first basefeedback pair\n",
"//Given Data\n",
"Rc1=3;//in K\n",
"Rc2=0.5;//in K\n",
"Re=0.05;//in K\n",
"Rs=1.2;//in K\n",
"hfe=50;\n",
"hie=1.1;//in K\n",
"hre=0;\n",
"hoe=0;\n",
"\n",
"R=Rs;\n",
"\n",
"//Ai=-Ic2/Is=-(Ic2/Ib2)*(Ib2/Ic1)*(Ic1/Ib1)*(Ib1/Is)\n",
"// -Ic2/Ib2 =- hfe = -50\n",
"// Ic1/Ib1 = hfe\n",
"//Let Ib2/Ic1 = k\n",
"Ri2= hie + ((1+hfe)*(Re*R/(Re+R)));\n",
"k=-Rc1/(Rc1+Ri2);\n",
"\n",
"r= Rs*(Rs+Re)/(Rs+R+Re);\n",
"//Let Ib1/Is = l\n",
"l=r/(r+hie);\n",
"\n",
"Ai=(-hfe)*(k)*(hfe)*(l);\n",
"\n",
"B=Re/(Re+R);//beta\n",
"D=1+(B*Ai);\n",
"\n",
"Aif=Ai/D;\n",
"\n",
"Avf=(Aif*Rc2)/Rs;\n",
"\n",
"Ri=(r*hie)/(r+hie);\n",
"Rif=Ri/D;\n",
"\n",
"rif=(Rif*Rs)/(Rs-Rif);\n",
"disp('K',rif+Rs,'Resistance with feedback seen by voltage source');\n",
"\n",
"//End"
   ]
   }
,
{
		   "cell_type": "markdown",
		   "metadata": {},
		   "source": [
			"## Example 13.3_d: Gain_of_second_emitter_to_first_basefeedback_pair.sce"
		   ]
		  },
  {
"cell_type": "code",
	   "execution_count": null,
	   "metadata": {
	    "collapsed": true
	   },
	   "outputs": [],
"source": [
"clear;\n",
"clc;\n",
"\n",
"//Caption:Gain of second emitter to first basefeedback pair\n",
"//Given Data\n",
"Rc1=3;//in K\n",
"Rc2=0.5;//in K\n",
"Re=0.05;//in K\n",
"Rs=1.2;//in K\n",
"hfe=50;\n",
"hie=1.1;//in K\n",
"hre=0;\n",
"hoe=0;\n",
"\n",
"R=Rs;\n",
"\n",
"//Ai=-Ic2/Is=-(Ic2/Ib2)*(Ib2/Ic1)*(Ic1/Ib1)*(Ib1/Is)\n",
"// -Ic2/Ib2 =- hfe = -50\n",
"// Ic1/Ib1 = hfe\n",
"//Let Ib2/Ic1 = k\n",
"Ri2= hie + ((1+hfe)*(Re*R/(Re+R)));\n",
"k=-Rc1/(Rc1+Ri2);\n",
"\n",
"r= Rs*(Rs+Re)/(Rs+R+Re);\n",
"//Let Ib1/Is = l\n",
"l=r/(r+hie);\n",
"\n",
"Ai=(-hfe)*(k)*(hfe)*(l);\n",
"\n",
"B=Re/(Re+R);//beta\n",
"D=1+(B*Ai);\n",
"\n",
"Aif=Ai/D;\n",
"\n",
"Avf=(Aif*Rc2)/Rs;\n",
"\n",
"Rof=(Avf*Rs)/Aif;\n",
"disp('K',Rof,'Output Resistance = ');\n",
"\n",
"//End"
   ]
   }
,
{
		   "cell_type": "markdown",
		   "metadata": {},
		   "source": [
			"## Example 13.4_a: To_find_gain_and_resistance_of_Voltage_Shunt_Feedback.sce"
		   ]
		  },
  {
"cell_type": "code",
	   "execution_count": null,
	   "metadata": {
	    "collapsed": true
	   },
	   "outputs": [],
"source": [
"clear;\n",
"clc;\n",
"\n",
"//Caption: To find gain and resistance of Voltage Shunt Feedback\n",
"//Given Values\n",
"Rc=4;//in K\n",
"r=40;//in K\n",
"Rs=10;//in K\n",
"hie=1.1;//in K\n",
"hfe=50;\n",
"hre=0;\n",
"hoe=0;\n",
"\n",
"//Required Formulae\n",
"rc=(Rc*r)/(Rc+r);\n",
"R=(Rs*r)/(Rs+r);\n",
"Rm=-(hfe*rc*R)/(R+hie);\n",
"disp('K',Rm,'Rm=');\n",
"B=-1/r;//in mA/V\n",
"D=1+(B*Rm);\n",
"Rmf=Rm/D;\n",
"\n",
"//Avf = Vo/Vs = Vo/(Is*Rs) = Rmf/Rs\n",
"Avf=Rmf/Rs;\n",
"disp(Avf,'Avf=');\n",
"\n",
"\n",
"//End"
   ]
   }
,
{
		   "cell_type": "markdown",
		   "metadata": {},
		   "source": [
			"## Example 13.4_b: To_find_gain_and_resistance_of_Voltage_Shunt_Feedback.sce"
		   ]
		  },
  {
"cell_type": "code",
	   "execution_count": null,
	   "metadata": {
	    "collapsed": true
	   },
	   "outputs": [],
"source": [
"clear;\n",
"clc;\n",
"\n",
"//Caption: To find gain and resistance of Voltage Shunt Feedback\n",
"//Given Values\n",
"Rc=4;//in K\n",
"r=40;//in K\n",
"Rs=10;//in K\n",
"hie=1.1;//in K\n",
"hfe=50;\n",
"hre=0;\n",
"hoe=0;\n",
"\n",
"//Required Formulae\n",
"rc=(Rc*r)/(Rc+r);\n",
"R=(Rs*r)/(Rs+r);\n",
"Rm=-(hfe*rc*R)/(R+hie);\n",
"B=-1/r;//in mA/V\n",
"D=1+(B*Rm);\n",
"Rmf=Rm/D;\n",
"\n",
"//Avf = Vo/Vs = Vo/(Is*Rs) = Rmf/Rs\n",
"Avf=Rmf/Rs;\n",
"\n",
"Ri = (R*hie)/(R+hie);\n",
"Rif=Ri/D;\n",
"disp('K',Rif,'Rif=');\n",
"\n",
"//End"
   ]
   }
,
{
		   "cell_type": "markdown",
		   "metadata": {},
		   "source": [
			"## Example 13.4_c: To_find_gain_and_resistance_of_Voltage_Shunt_Feedback.sce"
		   ]
		  },
  {
"cell_type": "code",
	   "execution_count": null,
	   "metadata": {
	    "collapsed": true
	   },
	   "outputs": [],
"source": [
"clear;\n",
"clc;\n",
"\n",
"//Caption: To find gain and resistance of Voltage Shunt Feedback\n",
"//Given Values\n",
"Rc=4;//in K\n",
"r=40;//in K\n",
"Rs=10;//in K\n",
"hie=1.1;//in K\n",
"hfe=50;\n",
"hre=0;\n",
"hoe=0;\n",
"\n",
"//Required Formulae\n",
"rc=(Rc*r)/(Rc+r);\n",
"R=(Rs*r)/(Rs+r);\n",
"Rm=-(hfe*rc*R)/(R+hie);\n",
"disp('K',Rm,'Rm=');\n",
"B=-1/r;//in mA/V\n",
"D=1+(B*Rm);\n",
"Rmf=Rm/D;\n",
"\n",
"//Avf = Vo/Vs = Vo/(Is*Rs) = Rmf/Rs\n",
"Avf=Rmf/Rs;\n",
"\n",
"Ri = (R*hie)/(R+hie);\n",
"Rif=Ri/D;\n",
"\n",
"//If the input resistance looking to the right of Rs is rif then Rif=(rif*Rs)/(rif+Rs)\n",
"rif=(Rif*Rs)/(Rs-Rif);\n",
"\n",
"disp('K',Rs+rif,'The impedence seen by the voltage source=Rif=');\n",
"\n",
"Ro=40;//in K\n",
"r=40;//in K\n",
"\n",
"Rm = -(hfe*r*R)/(R+hie);\n",
"Rof=Ro/(1+(B*Rm));\n",
"//We are writting Rof' = rof\n",
"rof=(Rof*Rc)/(Rof+Rc);\n",
"disp('K',rof,'rof=');\n",
"\n",
"//End"
   ]
   }
],
"metadata": {
		  "kernelspec": {
		   "display_name": "Scilab",
		   "language": "scilab",
		   "name": "scilab"
		  },
		  "language_info": {
		   "file_extension": ".sce",
		   "help_links": [
			{
			 "text": "MetaKernel Magics",
			 "url": "https://github.com/calysto/metakernel/blob/master/metakernel/magics/README.md"
			}
		   ],
		   "mimetype": "text/x-octave",
		   "name": "scilab",
		   "version": "0.7.1"
		  }
		 },
		 "nbformat": 4,
		 "nbformat_minor": 0
}
