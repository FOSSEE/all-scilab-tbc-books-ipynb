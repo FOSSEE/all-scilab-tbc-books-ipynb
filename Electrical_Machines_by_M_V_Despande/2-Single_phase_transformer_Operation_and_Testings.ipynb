{
"cells": [
 {
		   "cell_type": "markdown",
	   "metadata": {},
	   "source": [
       "# Chapter 2: Single phase transformer Operation and Testings"
	   ]
	},
{
		   "cell_type": "markdown",
		   "metadata": {},
		   "source": [
			"## Example 2.1: EX2_1.sce"
		   ]
		  },
  {
"cell_type": "code",
	   "execution_count": null,
	   "metadata": {
	    "collapsed": true
	   },
	   "outputs": [],
"source": [
"//Caption:Find (a)all day efficiency (b)commercial efficiency on full load (c)efficiency on half load\n",
"//Exa:2_1\n",
"clc;\n",
"clear;\n",
"close;\n",
"P_s=50//Power supplied(in kVA)\n",
"V_1=440//Primary side voltage(in volt)\n",
"V_2=220//Secondary side voltage(in volt)\n",
"t_1=6//Full load(in hours)\n",
"t_2=2//50% load(in hours)\n",
"Cu_1=2//Copper loss on full load(in KW)\n",
"Fe=1//Iron losses(in KW)\n",
"E_1=P_s*t_1//Energy used on full load(in watt-hours)\n",
"E_2=0.5*P_s*t_2//Energy used on half load(in watt-hours)\n",
"Cu_2=Cu_1*0.25//Copper losses on half load(in watts)\n",
"E=(Cu_1*t_1)+(Cu_2*t_2)+(Fe*24)//Energy lost on losses(in watt-hours)\n",
"eff_1=(E_1+E_2)/(E_1+E_2+E)*100\n",
"disp(eff_1,'(a)All day efficiency(in%)=')\n",
"eff_2=(E_2)/(E_2+Cu_1+Fe)*100\n",
"disp(eff_2,'(b)commercial efficiency on full load(in%)=')\n",
"eff_3=(0.5*E_2)/(0.5*E_2+Cu_2+Fe)*100\n",
"disp(eff_3,'(c)efficiency on half load(in%)=')"
   ]
   }
,
{
		   "cell_type": "markdown",
		   "metadata": {},
		   "source": [
			"## Example 2.2: EX2_2.sce"
		   ]
		  },
  {
"cell_type": "code",
	   "execution_count": null,
	   "metadata": {
	    "collapsed": true
	   },
	   "outputs": [],
"source": [
"//Caption:Find (a)Efficiency of transformer at half load at 0.8 power factor lagging (b)At what load will the efficiency be maximum and maximum efficiency?\n",
"//Exa:2.2\n",
"clc;\n",
"clear;\n",
"close;\n",
"P_s=25000//Power supplied(in VA)\n",
"V_1=3300//Voltage on primary side(in volts)\n",
"V_2=230//Voltage on secondary side(in volts)\n",
"f=50//frequency(in hertz)\n",
"P_i=300//Iron loss(in watt)\n",
"P_c=400//Copper loss(in watt)\n",
"pf=0.8//Power factor\n",
"Cu=P_c*(0.5^2)//Copper loss on half load\n",
"P_o=P_s*0.5*pf//Output of transformer on half load \n",
"eff=(P_o)/(P_o+Cu+P_i)*100\n",
"disp(eff,'(a)Efficiency of transformer at half load(in %)=')\n",
"x=sqrt(P_i/P_c)*20000\n",
"disp(x,'(b)Load for maximum efficiency(in watt)=')\n",
"eff_max=(x)/(x+P_i+P_i)*100\n",
"disp(eff_max,'Maximum efficiency(in%)=')"
   ]
   }
,
{
		   "cell_type": "markdown",
		   "metadata": {},
		   "source": [
			"## Example 2.3: EX2_3.sce"
		   ]
		  },
  {
"cell_type": "code",
	   "execution_count": null,
	   "metadata": {
	    "collapsed": true
	   },
	   "outputs": [],
"source": [
"//Caption:Find (a)% resistance (b)Regulation for power factors- unity, 0.8 lagging and 0.8 leading\n",
"//Exa:2_3\n",
"clc;\n",
"clear;\n",
"close;\n",
"L_o=1//Ohmic loss(%)\n",
"X=6//Reactance(in %)\n",
"pf_1=0.8//lagging power factor\n",
"pf_2=0.8//leading power factor\n",
"R=L_o\n",
"disp(R,'(a)% resistance(in %)=')\n",
"Re_1=L_o\n",
"disp(Re_1,'(b)Regulation at unity power factor(in%)=')\n",
"theta=(acosd(pf_1))\n",
"a=sind(theta)\n",
"Re_2=L_o*pf_1+X*a\n",
"disp(Re_2,'Regulation at 0.8 lagging power factor(in%)=')\n",
"Re_3=L_o*pf_2-X*a\n",
"disp(Re_3,'Regulation at leading power factor(in%)=')"
   ]
   }
,
{
		   "cell_type": "markdown",
		   "metadata": {},
		   "source": [
			"## Example 2.4: Find_Regulation_on_full_load_and_at_power_factor_lagging.sce"
		   ]
		  },
  {
"cell_type": "code",
	   "execution_count": null,
	   "metadata": {
	    "collapsed": true
	   },
	   "outputs": [],
"source": [
"//Caption:Find Regulation on full load at 0.8 power factor lagging\n",
"//Exa:2_4\n",
"clc;\n",
"clear;\n",
"close;\n",
"P_s=500000//Power supplied(in VA)\n",
"V_1=2200//Voltage on primary side(in volt)\n",
"V_2=500//Voltage on secondary side(in volt)\n",
"f=50//frequency(in hertz)\n",
"Eff=97//Efficiency of transformer(in %)\n",
"Eff_m=75//Maximum efficiency(in %) of its full load\n",
"Z_1=10//Impedance(in %)\n",
"pf_1=1//Power factor for maximum efficiency\n",
"pf_2=0.8//Power factor lagging\n",
"I_fl=P_s/V_2\n",
"I=(Eff_m*I_fl)/100\n",
"Losses=(100-Eff)/100\n",
"Cu=Losses/2\n",
"Fe=Losses/2\n",
"C=(Cu*P_s*Eff_m)/100\n",
"R=C/(I^2)\n",
"V=(Z_1*V_2)/100\n",
"Z=V/I_fl\n",
"X=sqrt(Z^2-R^2)\n",
"theta=(acosd(pf_2))\n",
"Re=(I_fl*R*pf_2)+(I_fl*X*sind(theta))\n",
"disp(Re,'Regulation on full load at 0.8 power factor lagging(in volt)=')\n",
"Reg=(Re/V_2)*100\n",
"disp(Reg,'Percentage Regulation(in%)=')"
   ]
   }
,
{
		   "cell_type": "markdown",
		   "metadata": {},
		   "source": [
			"## Example 2.5: EX2_5.sce"
		   ]
		  },
  {
"cell_type": "code",
	   "execution_count": null,
	   "metadata": {
	    "collapsed": true
	   },
	   "outputs": [],
"source": [
"//Caption: Find:(a) R_o (b)X_o (c)Resistance reffered to l.v side (d)Reactance reffered to l.v side\n",
"//Exa:2.5\n",
"clc;\n",
"clear;\n",
"close;\n",
"P_s=5000//Power Supplied(in VA)\n",
"V_1=220//Primary side voltage(in volt)\n",
"V_2=440//Secondary side voltage(in volt)\n",
"f=50//frequency(in hertz)\n",
"I_o=0.75//Open circuit test current(in A)\n",
"P_o=75//Open circuit test power(in watt)\n",
"V_s=16//Short circuit test voltage(in volt)\n",
"P_c=80//Short circuit test power(in watt)\n",
"pf=(P_o)/(V_1*I_o)\n",
"a=sind(acosd(pf))\n",
"R_o=(V_1)/(I_o*pf)\n",
"disp(R_o,'(a)R_o(in ohms)=')\n",
"X_o=(V_1)/(I_o*a)\n",
"disp(X_o,'(b)X_o(in ohms)=')\n",
"I_l=P_s/V_2\n",
"Z=V_s/I_l\n",
"R=(P_c)/(I_l^2)\n",
"X=sqrt(Z^2-R^2)\n",
"n=V_2/V_1\n",
"r=(R)/(n^2)\n",
"disp(r','(c)resistance reffered to low voltage side(in ohms)=')\n",
"x=(X)/(n^2)\n",
"disp(x,'(d)reactane reffered to low voltage side(in ohms)=')"
   ]
   }
,
{
		   "cell_type": "markdown",
		   "metadata": {},
		   "source": [
			"## Example 2.6: EX2_6.sce"
		   ]
		  },
  {
"cell_type": "code",
	   "execution_count": null,
	   "metadata": {
	    "collapsed": true
	   },
	   "outputs": [],
"source": [
"//Caption:Find voltage for h.v voltage side on full load at 0.8 power factor lagging when secondary terminal voltage is 240 volts\n",
"//Exa:2.6\n",
"clc;\n",
"clear;\n",
"close;\n",
"P_s=100000//Supplied power(in VA)\n",
"V_1=6600//Primary side voltage(in volt)\n",
"V_2=240//Secondary side voltage(in volt)\n",
"f=50//frequency(in hertz)\n",
"I_sh=5//short circuit test current(in A)\n",
"P_sh=109//short circuit test power(in watt)\n",
"V_sh=50//short circuit test voltage(in volt)\n",
"pf=0.8//Power factor\n",
"Z=V_sh/I_sh\n",
"R=P_sh/(I_sh^2)\n",
"X=sqrt(Z^2-R^2)\n",
"I_l=P_s/V_1\n",
"Re=(I_l*R*pf)+(I_l*X*sind(acosd(pf)))\n",
"V_r=Re+V_1\n",
"disp(V_r,'Voltage for high voltage side on full load at 0.8 power factor lagging when secondary terminal voltage is 240 volts(in volt)=')"
   ]
   }
,
{
		   "cell_type": "markdown",
		   "metadata": {},
		   "source": [
			"## Example 2.7: EX2_7.sce"
		   ]
		  },
  {
"cell_type": "code",
	   "execution_count": null,
	   "metadata": {
	    "collapsed": true
	   },
	   "outputs": [],
"source": [
"//Caption: Calculate (a)Z,X,R reffered to h.v side (b)Regulaton on full load at 0.8 power factor lagging (c)Terminal voltage on l.v side on full load at pf=0.8 lagging (d)Efficiency of transformer when current=250A,pf=0.8 lagging is load connected to l.v side and voltage at h.v side is 11000 volts\n",
"//Exa:2.7\n",
"clc;\n",
"clear;\n",
"close;\n",
"P_s=220000//Supplied power (in VA)\n",
"V_1=11000//Primary side voltage(in volt)\n",
"V_2=440//Secondary side voltage(in volt)\n",
"P_i=2200//Iron losses(in watt)\n",
"V=500//voltage applied to high voltage side for open circuit test(in volt)\n",
"P=2000//Wattmeter reading for open circuit test(in watt)\n",
"pf=0.8//Power factor\n",
"I=250//Load current(in A)\n",
"I_fl=P_s/V_1\n",
"r=P/(I_fl^2)\n",
"z=V/I_fl\n",
"x=sqrt(z^2-r^2)\n",
"disp(r,x,z,'(a)Z,X,R(in ohms)=')\n",
"Re=(I_fl*r*pf)+(I_fl*x*sind(acosd(pf)))\n",
"disp(Re,'(b)Regulation on full load on high voltage side(in volts)=')\n",
"Re_1=(Re*V_2)/V_1\n",
"disp(Re_1,'Regulation on full load on low volrage side(in volts)=')\n",
"V_t=V_2-Re_1\n",
"disp(V_t,'(c)Terminal voltage on low voltage side on full load(in volts)=')\n",
"I_c=I*V_2/(V_1)\n",
"W_c=P/(2^2)\n",
"Eff=(V_1*I_c*pf)/((V_1*I_c*pf)+(P_i)+(W_c))*100\n",
"disp(Eff,'(d)Efficiency of transformer(in%)=')"
   ]
   }
,
{
		   "cell_type": "markdown",
		   "metadata": {},
		   "source": [
			"## Example 2.8: Determine_Efficiency_and_Regulation_at_loading_conditions.sce"
		   ]
		  },
  {
"cell_type": "code",
	   "execution_count": null,
	   "metadata": {
	    "collapsed": true
	   },
	   "outputs": [],
"source": [
"//Caption: Determine (a)Efficiency (b)Regulation at loading conditions\n",
"//Exa:2.8\n",
"clc;\n",
"clear;\n",
"close;\n",
"P_s=10000//Supplied power (in VA)\n",
"V_1=440//Primary voltage (in volts)\n",
"V_2=240//Secondary voltage(in volts)\n",
"f=50//frequency(in hertz)\n",
"I_l=35//Load current(in A)\n",
"V_l=234//Load voltage(in volts)\n",
"W=8500//Wattmeter reading(in watts) connected on 440V side\n",
"P_o=I_l*V_l\n",
"P_i=W\n",
"Eff=P_o/(P_i)*100\n",
"disp(Eff,'(a)Efficiency(in %)=')\n",
"V_d=V_2-V_l\n",
"Re=V_d/(V_2)*100\n",
"disp(Re,'(b)Regulation(in%)=')"
   ]
   }
,
{
		   "cell_type": "markdown",
		   "metadata": {},
		   "source": [
			"## Example 2.9: Find_how_they_will_share_750KVA_load_at_power_factor_lagging.sce"
		   ]
		  },
  {
"cell_type": "code",
	   "execution_count": null,
	   "metadata": {
	    "collapsed": true
	   },
	   "outputs": [],
"source": [
"//Caption: Find how they will share 750KVA load at 0.8 power factor lagging\n",
"//Exa:2.9\n",
"clc;\n",
"clear;\n",
"close;\n",
"P_s1=500000//Supplied power(in VA) to first transformer\n",
"r_1=0.01//Per unit resistance of first transformer\n",
"x_1=0.05//Per unit reactance of first transformer\n",
"P_s2=250000//Supplied power(in VA) to second transformer\n",
"r_2=0.015//Per unit resistance of second transformer\n",
"x_2=0.04//Per unit reactance of second transformer\n",
"P_l=750000//Load(in VA)\n",
"pf=0.8//Powerfactor lagging\n",
"V_2=400//Secondary voltage of each transformer(in volts)\n",
"Z_1=r_1+(%i*x_1)\n",
"Z_2=((2*r_2)+(2*%i*x_2))\n",
"Z=Z_1+Z_2\n",
"S=P_l*(pf-(%i*(sind(acosd(pf)))))\n",
"S_1=(S*Z_2)/(Z)\n",
"s_1=sqrt(((real(S_1))^2)+((imag(S_1)^2)))\n",
"disp(s_1,'Load on first transformer(in VA)=')\n",
"S_2=(S*Z_1)/(Z)\n",
"s_2=sqrt(((real(S_2))^2)+((imag(S_2)^2)))\n",
"disp(s_2,'Load on second transformer(inVA)=')"
   ]
   }
],
"metadata": {
		  "kernelspec": {
		   "display_name": "Scilab",
		   "language": "scilab",
		   "name": "scilab"
		  },
		  "language_info": {
		   "file_extension": ".sce",
		   "help_links": [
			{
			 "text": "MetaKernel Magics",
			 "url": "https://github.com/calysto/metakernel/blob/master/metakernel/magics/README.md"
			}
		   ],
		   "mimetype": "text/x-octave",
		   "name": "scilab",
		   "version": "0.7.1"
		  }
		 },
		 "nbformat": 4,
		 "nbformat_minor": 0
}
