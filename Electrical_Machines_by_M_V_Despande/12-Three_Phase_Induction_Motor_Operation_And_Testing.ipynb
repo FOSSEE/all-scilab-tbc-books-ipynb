{
"cells": [
 {
		   "cell_type": "markdown",
	   "metadata": {},
	   "source": [
       "# Chapter 12: Three Phase Induction Motor Operation And Testing"
	   ]
	},
{
		   "cell_type": "markdown",
		   "metadata": {},
		   "source": [
			"## Example 12.11: Calculate_external_resistance_per_phase.sce"
		   ]
		  },
  {
"cell_type": "code",
	   "execution_count": null,
	   "metadata": {
	    "collapsed": true
	   },
	   "outputs": [],
"source": [
"//Caption:Calculate external resistance per phase \n",
"//Exa:12.11\n",
"clc;\n",
"clear;\n",
"close;\n",
"p=6//Number of poles\n",
"f=50//Frequency(in hertz)\n",
"r=0.25//Resistance per phase(in ohms)\n",
"n_1=965//Speed on full load(in r.p.m)\n",
"n_2=800//Reduced speed(in r.p.m)\n",
"n_s=(120*f)/p\n",
"s_1=(n_s-n_1)/n_s\n",
"s_2=(n_s-n_2)/n_s\n",
"R=((s_2*r)/s_1)-r\n",
"disp(R,'Required external resistance per phase(in ohms)=')"
   ]
   }
,
{
		   "cell_type": "markdown",
		   "metadata": {},
		   "source": [
			"## Example 12.12: Find_the_dimensions_of_D_and_L.sce"
		   ]
		  },
  {
"cell_type": "code",
	   "execution_count": null,
	   "metadata": {
	    "collapsed": true
	   },
	   "outputs": [],
"source": [
"//Caption:Find the dimensions of D and L\n",
"//Exa:12.12\n",
"clc;\n",
"clear;\n",
"close;\n",
"P=7.5//Power of induction motor(in KW)\n",
"p=4//Number of poles\n",
"f=50//frequency(in hertz)\n",
"V=415//Voltage applied of motor(in volts)\n",
"e=0.88//Efficiency\n",
"pf=0.87//Power factor\n",
"b=2.5//Ratio of pull out torque to full load torque\n",
"c=1.75//Ratio of starting to full load torque\n",
"n=1440//Speed of motor(in r.p.m)\n",
"ac=23000//Ampere conductors per meter\n",
"k=0.955\n",
"B=0.45//flux per pole(in wb/m^2)\n",
"n_s=(120*f)/(60*p)\n",
"S=P/(e*pf)\n",
"D=165//Choosing(in mm)\n",
"L=(S*(10^3))/(1.11*k*(%pi^2)*B*ac*n_s*(10^(-3))*(D^2)*(10^(-6)))\n",
"disp(L,D,'D and L(in mm) are=')"
   ]
   }
,
{
		   "cell_type": "markdown",
		   "metadata": {},
		   "source": [
			"## Example 12.1: EX12_1.sce"
		   ]
		  },
  {
"cell_type": "code",
	   "execution_count": null,
	   "metadata": {
	    "collapsed": true
	   },
	   "outputs": [],
"source": [
"//Caption:Calculate (a)No load power factor (b)Core and friction loss (c)r_m (d)power factor on short circuit (e)Equivalent impedance in series circuit (f)Rotor resistance referred to stator (g)Stator leakage reactance (h)Rotor leakage reactance referred to stator\n",
"//Exa:12.1\n",
"clc;\n",
"clear;\n",
"close;\n",
"P=3000//Power of motor(in watt)\n",
"V=415//Voltage supplied(in volts)\n",
"f=50//Frequency(in hertz)\n",
"p=6//Number of poles\n",
"pf=0.8//Power factor\n",
"I_n=3.5//No load current(in A)\n",
"P_n=250//Power input on no load test(in watt)\n",
"r_s=1.5//Stator resistance per phase(in ohm)\n",
"V_r=115//Reduced voltage applied at short circuit test(in volts)\n",
"I_s=13//Current supplied on short circuit test(in A)\n",
"P_s=1660//Voltage applied at short circuit test(in watt)\n",
"pfn=P_n/(sqrt(3)*V*I_n)\n",
"disp(pfn,'(a)Noload power factor=')\n",
"P_wf=P_n-(3*(I_n^2)*r_s)\n",
"disp(P_wf,'(b)Core and friction loss(in watt)=')\n",
"r_m=(V/sqrt(3))/(I_n*pfn)\n",
"disp(r_m,'(c)Resistance(in ohms)=')\n",
"pfs=P_s/(sqrt(3)*V_r*I_s)\n",
"disp(pfs,'(d)Power factor on short circuit=')\n",
"Ze=(V/sqrt(3))/((I_s*V)/V_r)\n",
"disp(Ze,'(e)Equivalent impedance in series circuit(in ohms)=')\n",
"R=(Ze*pfs)-r_s\n",
"disp(R,'(f)Rotor resistance referred to stator(in ohm)=')\n",
"X=(sqrt((Ze^2)-((Ze*pfs)^2)))\n",
"disp(X,'(g)Stator leakage reactance(in ohms)=')\n",
"x=X/2\n",
"disp(x,'(h)Rotor leakage reactance referred to stator(in ohms)=')"
   ]
   }
,
{
		   "cell_type": "markdown",
		   "metadata": {},
		   "source": [
			"## Example 12.2: Find_Starting_current_And_Starting_torque.sce"
		   ]
		  },
  {
"cell_type": "code",
	   "execution_count": null,
	   "metadata": {
	    "collapsed": true
	   },
	   "outputs": [],
"source": [
"//Caption:Find (a)Starting current (b)Starting torque\n",
"//Exa:12.2\n",
"clc;\n",
"clear;\n",
"close;\n",
"P=3000//Power of motor(in watt)\n",
"V=415//Voltage supplied(in volts)\n",
"f=50//Frequency(in hertz)\n",
"p=6//Number of poles\n",
"pf=0.8//Power factor\n",
"pfs=0.64//Power factor on short circuit\n",
"pfn=0.1//No load power factor\n",
"I_n=3.5//No load current(in A)\n",
"P_n=250//Power input on no load test(in watt)\n",
"r_s=1.5//Stator resistance per phase(in ohm)\n",
"V_r=115//Reduced voltage applied at short circuit test(in volts)\n",
"I_s=13//Current supplied on short circuit test(in A)\n",
"P_s=1660//Voltage applied at short circuit test(in watt)\n",
"n_s=1000//Synchronous speed(in r.p.m)\n",
"R2=1.77//Rotor resistance referred to stator(in ohms)\n",
"I_st=I_s*V/(V_r)\n",
"disp(I_st,'(a)Starting current(in A)=')\n",
"I_i=I_st*(cosd(pfs)+(%i*(sind(pfs))))\n",
"I_o=I_n*(cosd(pfn)+(%i*(sind(pfn))))\n",
"I_2=I_i-I_o\n",
"P_ri=3*(I_2*conj(I_2))*R2\n",
"T=P_ri/(2*%pi*(n_s/60))\n",
"disp(T,'(b)Starting torque(in N-m)=')"
   ]
   }
,
{
		   "cell_type": "markdown",
		   "metadata": {},
		   "source": [
			"## Example 12.5: Find_starting_current_in_terms_of_full_load_current.sce"
		   ]
		  },
  {
"cell_type": "code",
	   "execution_count": null,
	   "metadata": {
	    "collapsed": true
	   },
	   "outputs": [],
"source": [
"//Caption:Find starting current in terms of full load current\n",
"//Exa:12.5\n",
"clc;\n",
"clear;\n",
"close;\n",
"s=0.04//Slip\n",
"a=1//Starting torque T_st/Full load torque(T_fl) are equal\n",
"I_s=sqrt(a/s)\n",
"disp(I_s,'Starting current is (below)times the full load current=' ) "
   ]
   }
,
{
		   "cell_type": "markdown",
		   "metadata": {},
		   "source": [
			"## Example 12.7: Find_starting_torque_in_terms_of_full_load_torque.sce"
		   ]
		  },
  {
"cell_type": "code",
	   "execution_count": null,
	   "metadata": {
	    "collapsed": true
	   },
	   "outputs": [],
"source": [
"//Caption:Find starting torque in terms of full load torque\n",
"//Exa:12.7\n",
"clc;\n",
"clear;\n",
"close;\n",
"s=0.03//slip\n",
"a=2.5//Ratio of supply current to full load current\n",
"b=5//Ratio of short circuit current to full load current\n",
"x=sqrt(a/b)\n",
"T=(x^2)*(b^2)*s\n",
"disp(T,'Starting torque is (below) times the full load torque=')"
   ]
   }
,
{
		   "cell_type": "markdown",
		   "metadata": {},
		   "source": [
			"## Example 12.8: Find_the_Percentage_tappings_required.sce"
		   ]
		  },
  {
"cell_type": "code",
	   "execution_count": null,
	   "metadata": {
	    "collapsed": true
	   },
	   "outputs": [],
"source": [
"//Caption:Find the % tappings required\n",
"//Exa:12.8\n",
"clc;\n",
"clear;\n",
"close;\n",
"s=0.04//Slip\n",
"a=4//Ratio of short circuit current to full load current\n",
"b=40//Starting torque to full load torque(in%)\n",
"x=sqrt((b/100)/(s*(a^2)))*100\n",
"disp(x,'% tappings required is(in%)=')"
   ]
   }
,
{
		   "cell_type": "markdown",
		   "metadata": {},
		   "source": [
			"## Example 12.9: Find_the_line_current_at_start.sce"
		   ]
		  },
  {
"cell_type": "code",
	   "execution_count": null,
	   "metadata": {
	    "collapsed": true
	   },
	   "outputs": [],
"source": [
"//Caption:Find the line current at start\n",
"//Exa:12.9\n",
"clc;\n",
"clear;\n",
"close;\n",
"P=5000//Power supplied to induction motor(in watts)\n",
"V=415//Voltage supplied to motor(in volts)\n",
"f=50//frequency(in hertz)\n",
"e=0.85//Efficiency\n",
"pf=0.8//Power factor lagging\n",
"b=5//Ratio of short circuit current to full load current\n",
"P_i=P/e\n",
"I_fl=P_i/(sqrt(3)*V*pf)\n",
"I_l=(1/3)*b*I_fl\n",
"disp(I_l,'Line current(in A)=')"
   ]
   }
],
"metadata": {
		  "kernelspec": {
		   "display_name": "Scilab",
		   "language": "scilab",
		   "name": "scilab"
		  },
		  "language_info": {
		   "file_extension": ".sce",
		   "help_links": [
			{
			 "text": "MetaKernel Magics",
			 "url": "https://github.com/calysto/metakernel/blob/master/metakernel/magics/README.md"
			}
		   ],
		   "mimetype": "text/x-octave",
		   "name": "scilab",
		   "version": "0.7.1"
		  }
		 },
		 "nbformat": 4,
		 "nbformat_minor": 0
}
