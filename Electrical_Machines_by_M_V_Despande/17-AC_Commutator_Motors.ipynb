{
"cells": [
 {
		   "cell_type": "markdown",
	   "metadata": {},
	   "source": [
       "# Chapter 17: AC Commutator Motors"
	   ]
	},
{
		   "cell_type": "markdown",
		   "metadata": {},
		   "source": [
			"## Example 17.1: Find_Speed_And_Power_factor_of_motor.sce"
		   ]
		  },
  {
"cell_type": "code",
	   "execution_count": null,
	   "metadata": {
	    "collapsed": true
	   },
	   "outputs": [],
"source": [
"//Caption:Find (a)Speed (b)Power factor of motor\n",
"//Exa:17.1\n",
"clc;\n",
"clear;\n",
"close;\n",
"r=25//Resistance of motor(in ohms)\n",
"P=2//Number of poles\n",
"l=0.4//Inductance of motor(in henry)\n",
"n=1800//Speed of motor(in r.p.m)\n",
"V=230//Voltage supplied(in volts)\n",
"Il=1//Load current(in A)\n",
"f=50//Frequency(in hertz)\n",
"fr=(P*n)/120\n",
"Eb=V-(r*Il)\n",
"Er=Eb/fr\n",
"fac=(sqrt((V^2)-((Il*2*(%pi)*f*l)^2))-(Il*r))/Er\n",
"n=fac*(120/P)\n",
"disp(n,'(a)Speed(in rpm)=')\n",
"pf=sqrt((V^2)-((Il*2*(%pi)*f*l)^2))/V\n",
"disp(pf,'(b)Power factor=')"
   ]
   }
],
"metadata": {
		  "kernelspec": {
		   "display_name": "Scilab",
		   "language": "scilab",
		   "name": "scilab"
		  },
		  "language_info": {
		   "file_extension": ".sce",
		   "help_links": [
			{
			 "text": "MetaKernel Magics",
			 "url": "https://github.com/calysto/metakernel/blob/master/metakernel/magics/README.md"
			}
		   ],
		   "mimetype": "text/x-octave",
		   "name": "scilab",
		   "version": "0.7.1"
		  }
		 },
		 "nbformat": 4,
		 "nbformat_minor": 0
}
