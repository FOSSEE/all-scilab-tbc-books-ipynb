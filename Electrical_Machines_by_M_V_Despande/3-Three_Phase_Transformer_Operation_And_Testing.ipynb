{
"cells": [
 {
		   "cell_type": "markdown",
	   "metadata": {},
	   "source": [
       "# Chapter 3: Three Phase Transformer Operation And Testing"
	   ]
	},
{
		   "cell_type": "markdown",
		   "metadata": {},
		   "source": [
			"## Example 3.1: EX3_1.sce"
		   ]
		  },
  {
"cell_type": "code",
	   "execution_count": null,
	   "metadata": {
	    "collapsed": true
	   },
	   "outputs": [],
"source": [
"//Caption: Find Secondary line voltage,Line Current,and output power for (a)delta/delta (b)star/star (c)delta/star (d)star/delta\n",
"//Exa:3.1\n",
"clc;\n",
"clear;\n",
"close;\n",
"V=6600//Supplied voltage(in volts)\n",
"I=20//Supplied current(in A)\n",
"n=15//Number of turns per phase\n",
"V_la=V/n\n",
"I_la=n*I\n",
"disp(V_la,I_la,'(a)(in A),(in volts)=')\n",
"V_lb=V/n\n",
"I_lb=I*n\n",
"disp(V_lb,I_lb,'(b)(in A),(in volts)=')\n",
"V_lc=(V*(3^0.5))/(n)\n",
"I_lc=(n*I)/(3^0.5)\n",
"disp(V_lc,I_lc,'(c)(in A),(in volts)=')\n",
"V_ld=V/(n*(3^0.5))\n",
"I_ld=(3^0.5)*I*n\n",
"disp(V_ld,I_ld,'(d)(in A),(in volts)=')\n",
"P=(3^0.5)*V*I/1000\n",
"disp(P,'(d)Output Power (in KVA)=')"
   ]
   }
,
{
		   "cell_type": "markdown",
		   "metadata": {},
		   "source": [
			"## Example 3.2: EX3_2.sce"
		   ]
		  },
  {
"cell_type": "code",
	   "execution_count": null,
	   "metadata": {
	    "collapsed": true
	   },
	   "outputs": [],
"source": [
"//Caption: Calculate Phase and Line currents in (a)High voltage (b)Low voltage windings of transformer\n",
"//Exa:3.2\n",
"clc;\n",
"clear;\n",
"close;\n",
"P=50000//Power of induction motor(in watts)\n",
"V=440//Voltage of induction motor(in volts)\n",
"eff=90//Efficiency(in%)\n",
"pf=0.85//power factor\n",
"V_1=11000//Primary side voltage of transformer(in volts)\n",
"V_2=440//Secondary side voltage of transformer(in volts)\n",
"I_fl=P/((3^0.5)*V*pf*(eff/100))\n",
"v=V/(3^0.5)\n",
"n=V_1/v\n",
"I_ph=I_fl/(n)\n",
"I_l=(3^0.5)*I_ph\n",
"disp(I_ph,I_l,'(a)High Voltage side line and phase currents(inA)=')\n",
"disp(I_fl,I_fl,'(b)Low voltage side phase and line currents(inA)=')  "
   ]
   }
,
{
		   "cell_type": "markdown",
		   "metadata": {},
		   "source": [
			"## Example 3.3: EX3_3.sce"
		   ]
		  },
  {
"cell_type": "code",
	   "execution_count": null,
	   "metadata": {
	    "collapsed": true
	   },
	   "outputs": [],
"source": [
"//Caption: Find possible voltage ratio and output for connections (a)BC=11500V,AC=2300V (b)BC=2300V,AC=11500V\n",
"//Exa:3.3\n",
"clc;\n",
"clear;\n",
"close;\n",
"V_1=11500//Voltage on primary side(in volts)\n",
"V_2=2300//Voltage on secondary side(in volts)\n",
"P_o=100000//Rated output(in VA)\n",
"V=V_1+V_2\n",
"v=V/V_1\n",
"I_1=P_o/V_1\n",
"I_2=P_o/V_2\n",
"I=I_1+I_2\n",
"W_o=(V_1*I)/1000\n",
"Cu=1-(V_1/V)//(a)Ratio of weight of copper\n",
"disp(W_o,v,'(a)Voltage ratio and output(in KVA)=')\n",
"w_o=(V_2*I)/(1000)\n",
"cu=1-(V_2/v)//(b)Ratio of weight of copper\n",
"disp(w_o,v,'(b)Voltage ratio and output(in KVA)=')"
   ]
   }
],
"metadata": {
		  "kernelspec": {
		   "display_name": "Scilab",
		   "language": "scilab",
		   "name": "scilab"
		  },
		  "language_info": {
		   "file_extension": ".sce",
		   "help_links": [
			{
			 "text": "MetaKernel Magics",
			 "url": "https://github.com/calysto/metakernel/blob/master/metakernel/magics/README.md"
			}
		   ],
		   "mimetype": "text/x-octave",
		   "name": "scilab",
		   "version": "0.7.1"
		  }
		 },
		 "nbformat": 4,
		 "nbformat_minor": 0
}
