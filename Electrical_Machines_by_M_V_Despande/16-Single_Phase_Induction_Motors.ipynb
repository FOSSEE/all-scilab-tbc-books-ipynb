{
"cells": [
 {
		   "cell_type": "markdown",
	   "metadata": {},
	   "source": [
       "# Chapter 16: Single Phase Induction Motors"
	   ]
	},
{
		   "cell_type": "markdown",
		   "metadata": {},
		   "source": [
			"## Example 16.1: EX16_1.sce"
		   ]
		  },
  {
"cell_type": "code",
	   "execution_count": null,
	   "metadata": {
	    "collapsed": true
	   },
	   "outputs": [],
"source": [
"//Caption:Find (a)Input Current (b)Power factor (c)Input power (d)Torque due to forward revolving field (e)Torque due to backward revovlving field (f)Net torque (g)Output And (h)Efficiency\n",
"//Exa:16.1\n",
"clc;\n",
"clear;\n",
"close;\n",
"Pi=750//Power of Single phase induction motor(in Watts)\n",
"p=4//Number of poles\n",
"f=50//Frequency(in hertz)\n",
"V=230//Voltage supplied to motor(in volts)\n",
"R1=2//Resistance of stator(in ohm)\n",
"X1=2.6//Reactance of stator(in ohm)\n",
"Wf=25//Friction and winding loss(in Watts)\n",
"R2=3.8//Resistance of rotor(in ohm)\n",
"X2=2.6//Reactance of rotor(in ohm)\n",
"Xm=56//Magnetising Reactance(in ohms)\n",
"r2=1.9//Imaginary resistance of rotor(in ohm)\n",
"x2=1.3//Imaginary reactance of rotor(in ohm)\n",
"xm=28//Imaginary magnetising reactance(in ohm)\n",
"s=0.05//Slip\n",
"Z1=R1+(%i*X1)\n",
"Z2=((%i*xm)*((r2/s)+(%i*x2)))/((r2/s)+(%i*(x2+xm)))\n",
"Z3=((%i*xm)*((r2/(2-s))+(%i*x2)))/((r2/(2-s))+(%i*(x2+xm)))\n",
"Z=Z1+Z2+Z3\n",
"I=V/Z\n",
"disp(I,'(a)Input Current(in A)=')\n",
"pf=cosd(atand(imag(Z)/real(Z)))\n",
"disp(pf,'(b)Power factor=')\n",
"Wp=V*pf*sqrt(I*conj(I))\n",
"disp(Wp,'(c)Input power(in watts)=')\n",
"z2=sqrt(((r2/s)^2)+((x2)^2))\n",
"v2=sqrt(I*conj(I))*sqrt(Z2*conj(Z2))\n",
"i2=v2/z2\n",
"z3=sqrt(((r2/(2-s))^2)+((x2)^2))\n",
"v3=sqrt(I*conj(I))*sqrt(Z3*conj(Z3))\n",
"i3=v3/z3\n",
"Tf=((i2)^2)*(r2/s)\n",
"disp(Tf,'(d)Torque due to forward field(in Nm)=')\n",
"Tb=(i3^2)*(r2)/(2-s)\n",
"disp(Tb,'(e)Torque due to backward field(in Nm)=')\n",
"T=Tf-Tb\n",
"disp(T,'(f)Torque(in Nm)=')\n",
"Wo=(T*(1-s))-Wf\n",
"disp(Wo,'(g)Output(in Watts)=')\n",
"e=(Wo/Wp)*100\n",
"disp(e,'(h)Efficiency(in %)=')"
   ]
   }
,
{
		   "cell_type": "markdown",
		   "metadata": {},
		   "source": [
			"## Example 16.2: Find_equivalent_circuit_resistance.sce"
		   ]
		  },
  {
"cell_type": "code",
	   "execution_count": null,
	   "metadata": {
	    "collapsed": true
	   },
	   "outputs": [],
"source": [
"//Caption:Find equivalent circuit resistance\n",
"//Exa:16.2\n",
"clc;\n",
"clear;\n",
"close;\n",
"Wc=60//Core loss(in watts)\n",
"a=90//Voltage across first rotor is 90% of applied voltage(in %)\n",
"V=230//Voltage applied to motor(in volts)\n",
"v=V*(a/100)\n",
"Ic=Wc/v\n",
"rc=v/Ic\n",
"disp(rc,'Equivalent circuit resistance(in ohms)=')"
   ]
   }
],
"metadata": {
		  "kernelspec": {
		   "display_name": "Scilab",
		   "language": "scilab",
		   "name": "scilab"
		  },
		  "language_info": {
		   "file_extension": ".sce",
		   "help_links": [
			{
			 "text": "MetaKernel Magics",
			 "url": "https://github.com/calysto/metakernel/blob/master/metakernel/magics/README.md"
			}
		   ],
		   "mimetype": "text/x-octave",
		   "name": "scilab",
		   "version": "0.7.1"
		  }
		 },
		 "nbformat": 4,
		 "nbformat_minor": 0
}
