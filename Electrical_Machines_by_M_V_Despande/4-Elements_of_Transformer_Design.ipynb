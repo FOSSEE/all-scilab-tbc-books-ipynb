{
"cells": [
 {
		   "cell_type": "markdown",
	   "metadata": {},
	   "source": [
       "# Chapter 4: Elements of Transformer Design"
	   ]
	},
{
		   "cell_type": "markdown",
		   "metadata": {},
		   "source": [
			"## Example 4.1: EX4_1.sce"
		   ]
		  },
  {
"cell_type": "code",
	   "execution_count": null,
	   "metadata": {
	    "collapsed": true
	   },
	   "outputs": [],
"source": [
"//Caption: Find (a)Voltage per turn (b)Cross sectional area of core (c)Cross sectional area of conductor for l.v (d)Cross sectional area of conductor for h.v (e)Number of turns in l.v (f)Number of turns in h.v (g)Window area (h)Yoke and approx. frame size (i)Copper used in windings\n",
"//Exa:4.1\n",
"clc;\n",
"clear;\n",
"close;\n",
"P=5000//Power supplied to transformer(in VA)\n",
"f=50//frequency(in Hertz)\n",
"V_1=415//Primary side voltage(in volts)\n",
"V_2=240//Secondary side voltage(in volts)\n",
"k=0.75\n",
"B=1.6//Maximum flux density(in weber/m^2)\n",
"i_d=2//Current density(in A/mm^2)\n",
"k_w=0.3\n",
"E=k*sqrt(P/1000)\n",
"disp(E,'(a)Voltage per turn(in volts)=')\n",
"A_1=(E*(10^6))/(4.44*B*f)\n",
"disp(A_1,'(b)Cross sectional area of core(in mm^2)=')\n",
"i_2=P/V_2\n",
"A_2=i_2/i_d\n",
"disp(A_2,'(c)Cross sectional area of conductor for low voltage side(in mm^2)=')\n",
"i_1=P/V_1\n",
"A_1=i_1/i_d\n",
"disp(A_1,'(d)Cross sectional area of conductor for high voltage side(in mm^2)=')\n",
"n_2=V_2/E\n",
"disp(n_2,'(e)Number of turns in low voltage winding=')\n",
"n_1=V_1/E\n",
"disp(n_1,'(f)Number of turns in high voltage winding=')\n",
"A_w=(P*(10^(9))/1000)/(2.22*A_1*k_w*i_d*B)\n",
"disp(A_w,'(g)Window area(in mm^2)=')\n",
"cu=(A_1*n_1)+(A_2*n_2)\n",
"disp(cu,'(i)Copper used in windings(in mm^2)=')"
   ]
   }
,
{
		   "cell_type": "markdown",
		   "metadata": {},
		   "source": [
			"## Example 4.2: EX4_2.sce"
		   ]
		  },
  {
"cell_type": "code",
	   "execution_count": null,
	   "metadata": {
	    "collapsed": true
	   },
	   "outputs": [],
"source": [
"//Caption:Find (a)Voltage per turn (b)Cross sectional area of core (c)Cross sectional area of conductor for h.v (d)Number of turns per phase in h.v winding (e)Cross sectional area of conductor in l.v winding (f)Number of turns in l.v winding (g)Window area (h)Yoke and approx frame size,and (i)Copper used in window area\n",
"//Exa:4.2\n",
"clc;\n",
"clear;\n",
"close;\n",
"P=100000//Power supplied to transformer(in VA)\n",
"f=50//Frequency(in hertz)\n",
"V_1=11000//Primary side voltage(in volts)\n",
"V_2=433//Secondary side voltage(in volts)\n",
"k=0.45\n",
"B=1.65//Maximum flux density(in tesla)\n",
"k_w=0.28\n",
"i_d=2.5//Current density(in A/mm^2)\n",
"E=k*sqrt(P/1000)\n",
"disp(E,'(a)Voltage per turn(in volts)=')\n",
"A_1=E*(10^6)/(4.44*f*B)\n",
"disp(A_1,'(b)Cross sectional area of core(in mm^2)=')\n",
"I_1=P/(3*V_1)\n",
"a_1=I_1/i_d\n",
"disp(a_1,'(c)Cross sectional area of conductor in h.v winding(in mm^2)=')\n",
"n_1=V_1/E\n",
"disp(n_1,'(d)Number of turns per phase in h.v winding(in mm^2)=')\n",
"I_2=P/((3^0.5)*V_2)\n",
"a_2=I_2/i_d\n",
"disp(a_2,'(e)Cross sectional area of conductor in l.v winding(in mm^2)=')\n",
"v=V_2/(3^0.5)\n",
"n_2=v/E\n",
"disp(n_2,'(f)Number of turns in l.v winding=')\n",
"A_w=(P*(10^6))/(3.33*f*A_1*k_w*i_d*B)\n",
"disp(A_w,'(g)Window Area(in mm^2)=')\n",
"Cu=2*((a_1*n_1)+(a_2*n_2))\n",
"disp(Cu,'Copper used in window area(in mm^2)=')"
   ]
   }
],
"metadata": {
		  "kernelspec": {
		   "display_name": "Scilab",
		   "language": "scilab",
		   "name": "scilab"
		  },
		  "language_info": {
		   "file_extension": ".sce",
		   "help_links": [
			{
			 "text": "MetaKernel Magics",
			 "url": "https://github.com/calysto/metakernel/blob/master/metakernel/magics/README.md"
			}
		   ],
		   "mimetype": "text/x-octave",
		   "name": "scilab",
		   "version": "0.7.1"
		  }
		 },
		 "nbformat": 4,
		 "nbformat_minor": 0
}
