{
"cells": [
 {
		   "cell_type": "markdown",
	   "metadata": {},
	   "source": [
       "# Chapter 15: Synchronous Motors"
	   ]
	},
{
		   "cell_type": "markdown",
		   "metadata": {},
		   "source": [
			"## Example 15.6: Find_Input_power_in_KVA_And_Power_factor.sce"
		   ]
		  },
  {
"cell_type": "code",
	   "execution_count": null,
	   "metadata": {
	    "collapsed": true
	   },
	   "outputs": [],
"source": [
"//Caption:Find (a)Input power(in KVA) (b)Power factor\n",
"//Exa:15.6\n",
"clc;\n",
"clear;\n",
"close;\n",
"V=440//Voltage of circuit(in volts)\n",
"f=50//Frequency(in hertz)\n",
"I=30//Current taken by circuit(in A)\n",
"pf=0.8//Power factor\n",
"Pl=10//Load supplied(in KW)\n",
"e=0.85//Efficiency\n",
"Pi=Pl/e\n",
"Ii=Pi*1000/(sqrt(3)*V)\n",
"Ia=I*pf\n",
"Ir=I*sind(acosd(pf))\n",
"i=Ii+Ia\n",
"It=sqrt((Ii^2)+(Ir^2))\n",
"pfm=Ii/It\n",
"Wi=sqrt(3)*V*It/(1000)\n",
"disp(Wi,'(a)Input power(in KVA)=')\n",
"disp(pfm,'(b)Power factor=')"
   ]
   }
,
{
		   "cell_type": "markdown",
		   "metadata": {},
		   "source": [
			"## Example 15.7: EX15_7.sce"
		   ]
		  },
  {
"cell_type": "code",
	   "execution_count": null,
	   "metadata": {
	    "collapsed": true
	   },
	   "outputs": [],
"source": [
"//Caption:(a)How much KVA should be supplied by synchronous motor (b)Power factor of synchronous motor\n",
"//Exa:15.7\n",
"clc;\n",
"clear;\n",
"close;\n",
"Pm=40//Power absorb by motor(in Kw)\n",
"Pl=300//Load connected in parallel with motor(in KW)\n",
"pfm=0.85//Power factor of motor\n",
"pfl=0.9//Power factor on load\n",
"Pt=Pl+Pm\n",
"Pr=Pt*tand(acosd(pfl))\n",
"Pri=Pl*tand(acosd(pfm))\n",
"Ps=Pri-Pr\n",
"pf=cosd(atand(Ps/Pm))\n",
"disp(Ps,'(a)Power supplied by synchronous motor(in KVA)=')\n",
"disp(pf,'(b)Power factor of synchronous machine=')"
   ]
   }
,
{
		   "cell_type": "markdown",
		   "metadata": {},
		   "source": [
			"## Example 15.8: EX15_8.sce"
		   ]
		  },
  {
"cell_type": "code",
	   "execution_count": null,
	   "metadata": {
	    "collapsed": true
	   },
	   "outputs": [],
"source": [
"//Caption: (a)Power alternator can supply (b)Power factor of synchronous motor (c)Load taken by motor\n",
"//Exa:15.8\n",
"clc;\n",
"clear;\n",
"close;\n",
"P=500//Load supplied by alternator(inKW)\n",
"pf=0.8//Power factor \n",
"e=0.9\n",
"L=P/pf\n",
"Ps=L-P\n",
"disp(Ps,'(a)Power alternator can supply(in KW)=')\n",
"Pr=P*tand(acosd(pf))\n",
"pfm=cosd(atand(Pr/Ps))\n",
"disp(pfm,'(b)Power factor of synchronous motor=')\n",
"l=Ps*e\n",
"disp(l,'(c)Load taken by motor(in Kw)=')"
   ]
   }
,
{
		   "cell_type": "markdown",
		   "metadata": {},
		   "source": [
			"## Example 15.9: Find_efficiency_of_machine.sce"
		   ]
		  },
  {
"cell_type": "code",
	   "execution_count": null,
	   "metadata": {
	    "collapsed": true
	   },
	   "outputs": [],
"source": [
"//Caption:Find efficiency of machine\n",
"//Exa:15.9\n",
"clc;\n",
"clear;\n",
"close;\n",
"P=50000//Power of alternator(in KVA)\n",
"V=11//Voltage of alternator(in Kv)\n",
"pf=0.8//Power factor\n",
"r=0.01//Resistance of stator winding per phase(in ohms)\n",
"Wc=150//Copper loss(in KW)\n",
"Wf=100//Friction loss(in KW)\n",
"Ww=250//Winding loss(in KW)\n",
"Wco=200//Core loss(in KW)\n",
"We=15//Excitor loss(in KW)\n",
"Is=(P*1000)/(sqrt(3)*V*1000)\n",
"Ps=(Is^2)*3*(r/1000)\n",
"Ws=(0.5*Ps)\n",
"Lt=Ps+Ws+Wc+Wf+Ww+Wco+We\n",
"Po=P*pf\n",
"Pi=Po+Lt\n",
"e=Po*100/Pi\n",
"disp(e,'Efficieny of machine(in %)=')"
   ]
   }
],
"metadata": {
		  "kernelspec": {
		   "display_name": "Scilab",
		   "language": "scilab",
		   "name": "scilab"
		  },
		  "language_info": {
		   "file_extension": ".sce",
		   "help_links": [
			{
			 "text": "MetaKernel Magics",
			 "url": "https://github.com/calysto/metakernel/blob/master/metakernel/magics/README.md"
			}
		   ],
		   "mimetype": "text/x-octave",
		   "name": "scilab",
		   "version": "0.7.1"
		  }
		 },
		 "nbformat": 4,
		 "nbformat_minor": 0
}
