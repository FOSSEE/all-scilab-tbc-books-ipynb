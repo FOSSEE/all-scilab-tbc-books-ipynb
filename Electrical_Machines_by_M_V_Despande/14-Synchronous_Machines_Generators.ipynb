{
"cells": [
 {
		   "cell_type": "markdown",
	   "metadata": {},
	   "source": [
       "# Chapter 14: Synchronous Machines Generators"
	   ]
	},
{
		   "cell_type": "markdown",
		   "metadata": {},
		   "source": [
			"## Example 14.10: EX14_10.sce"
		   ]
		  },
  {
"cell_type": "code",
	   "execution_count": null,
	   "metadata": {
	    "collapsed": true
	   },
	   "outputs": [],
"source": [
"//Caption:Find (a)Load supplied by second machine and its power factor (b)Power factor of total load\n",
"//Exa:14.10\n",
"clc;\n",
"clear;\n",
"close;\n",
"P1=300//Lighting load(in KW)\n",
"P2=500//Industrial load(in KW)\n",
"P3=200//Industrial load(in KW)\n",
"P4=100//Load(in KW)\n",
"Pa=500//Power supplied by first machine(in KW)\n",
"pf1=0.8\n",
"pf2=0.707\n",
"pf3=0.9\n",
"pfa=0.8\n",
"La=P1+P2+P3+P4\n",
"Lr=(P2*tand(acosd(pf1)))+(P3*tand(acosd(pf2)))+(P4*tand(acosd(pf3)))\n",
"Pb=La-Pa\n",
"Prl=Pa*(tand(acosd(pfa)))\n",
"Pc=Lr-Prl\n",
"pfb=cosd(atand(Pc/Pb))\n",
"pfl=cosd(atand(Lr/La))\n",
"disp(pfb,Pb,'(a)Load supplied by second machine(in KW) and its power factor=')\n",
"disp(pfl,'(b)Power factor of load=')"
   ]
   }
,
{
		   "cell_type": "markdown",
		   "metadata": {},
		   "source": [
			"## Example 14.1: Find_the_excitation_voltage_in_per_unit.sce"
		   ]
		  },
  {
"cell_type": "code",
	   "execution_count": null,
	   "metadata": {
	    "collapsed": true
	   },
	   "outputs": [],
"source": [
"//Caption:Find the excitation voltage in per unit\n",
"//Exa:14.1\n",
"clc;\n",
"clear;\n",
"close;\n",
"pf=0.9//Power factor\n",
"Xd=1//Direct axis synchronous reactance(in per unit)\n",
"Xq=0.6//Quadrature axis synchronous reactance(in per unit)\n",
"V=1//Terminal voltage(in volts)\n",
"ang=49//Phase angle between Ia and excitation voltage(in degrees)\n",
"Ia=0.9-(%i*0.436)//Armature current(in A)\n",
"v=(%i)*Ia*Xq\n",
"E=V+v\n",
"Id=sqrt(Ia*conj(Ia))*sind(ang)\n",
"Iq=sqrt(Ia*conj(Ia))*cosd(ang)\n",
"Ef=sqrt(E*conj(E))+(Id*(Xd-Xq))\n",
"disp(Ef,'Excitation voltage (in per unit)=')"
   ]
   }
,
{
		   "cell_type": "markdown",
		   "metadata": {},
		   "source": [
			"## Example 14.2: Find_regulation_by_Two_reaction_method_and_Synchronous_impedance_method.sce"
		   ]
		  },
  {
"cell_type": "code",
	   "execution_count": null,
	   "metadata": {
	    "collapsed": true
	   },
	   "outputs": [],
"source": [
"//Caption:Find regulation by (a)Two reaction method, and (b)Synchronous impedance method\n",
"//Exa:14.2\n",
"clc;\n",
"clear;\n",
"close;\n",
"pf=0.9//Power factor\n",
"Xd=1//Direct axis synchronous reactance(in per unit)\n",
"Xq=0.6//Quadrature axis synchronous reactance(in per unit)\n",
"V=1//Terminal voltage(in volts)\n",
"ang=49//Phase angle between Ia and excitation voltage(in degrees)\n",
"Ia=0.9-(%i*0.436)//Armature current(in A)\n",
"E=1.6742083//Excitation voltage(in per unit)\n",
"re=(E-V)*100/V\n",
"disp(re,'(a)Regulation by two reaction method(in%)=') \n",
"Ef=V+(%i*Ia*Xd)\n",
"RE=((sqrt(Ef*conj(Ef)))-V)*100/V\n",
"disp(RE,'(b)Regulation by Synchronous impedance method(in%)=')"
   ]
   }
,
{
		   "cell_type": "markdown",
		   "metadata": {},
		   "source": [
			"## Example 14.3: Find_Regulation_and_resultant_excitation.sce"
		   ]
		  },
  {
"cell_type": "code",
	   "execution_count": null,
	   "metadata": {
	    "collapsed": true
	   },
	   "outputs": [],
"source": [
"//Caption:Find Regulation and resultant excitation\n",
"//Exa:14.3\n",
"clc;\n",
"clear;\n",
"close;\n",
"pf=0.8//Power factor lagging\n",
"P=1000//Power of Synchronous generator(in KVA)\n",
"Eo=1.25//No load voltage(in per unit)\n",
"V=6600//Voltage of Synchronous generator(in volts)\n",
"f=50//Frequency(in hertz)\n",
"Fe=1//Field excitation to produce terminal voltage(in per unit)\n",
"Fa=1//Field excitation to produce full load current(in per unit)\n",
"Ft=sqrt(((Fe+(Fa*sind(acosd(pf))))^2)+((Fa*pf)^2))\n",
"Re=(Eo-Fa)*100/Fa\n",
"disp(Re,Ft,'Resultant excitation(in per unit) and regulation(in %)=')"
   ]
   }
,
{
		   "cell_type": "markdown",
		   "metadata": {},
		   "source": [
			"## Example 14.5: Find_the_regulation_of_the_machine.sce"
		   ]
		  },
  {
"cell_type": "code",
	   "execution_count": null,
	   "metadata": {
	    "collapsed": true
	   },
	   "outputs": [],
"source": [
"//Caption:Find the regulation of the machine\n",
"//Exa:14.5\n",
"clc;\n",
"clear;\n",
"close;\n",
"Vf=400//Full load voltage(in volts)\n",
"Vr=480//No load voltage(in volts)\n",
"Re=(Vr-Vf)*100/Vf\n",
"disp(Re,'Regulation of the machine(in %)=')"
   ]
   }
,
{
		   "cell_type": "markdown",
		   "metadata": {},
		   "source": [
			"## Example 14.6: Find_Synchronising_power_on_full_load_And_Synchronising_torque.sce"
		   ]
		  },
  {
"cell_type": "code",
	   "execution_count": null,
	   "metadata": {
	    "collapsed": true
	   },
	   "outputs": [],
"source": [
"//Caption:Find (a)Synchronising power on full load (b)Synchronising torque\n",
"//Exa:14.6\n",
"clc;\n",
"clear;\n",
"close;\n",
"P=5000//Power ofan alternator(in KVA)\n",
"f=50//Frequency(in hertz)\n",
"p=6//Number of poles\n",
"V=11000//Voltageof alternator(in volts)\n",
"pf=0.8//Power factor\n",
"c=3//Mechanical degree of displacement(in degrees)\n",
"Xs=5//Synchronous reactance per phase(in ohms)\n",
"Vph=V/sqrt(3)\n",
"ns=(120*f)/p\n",
"If=(P*1000)/(sqrt(3)*V)\n",
"E=sqrt(((Vph*pf)^2)+(((Vph*sind(acosd(pf)))+(If*Xs))^2))\n",
"a=atand(((Vph*sind(acosd(pf)))+(If*Xs))/(Vph*pf))\n",
"b=a-acosd(pf)\n",
"Ps=(E*Vph*cosd(b)*sind(c))/Xs\n",
"disp(Ps,'(a)Synchronising Poweron full load(in watt/phase)=')\n",
"Ts=(Ps*3)/(2*%pi*(ns/60))\n",
"disp(Ts,'(b)Synchronising Torque(in Nm)=')"
   ]
   }
,
{
		   "cell_type": "markdown",
		   "metadata": {},
		   "source": [
			"## Example 14.9: Find_Armature_current_of_second_machine_And_Power_factor_of_ecach_machine.sce"
		   ]
		  },
  {
"cell_type": "code",
	   "execution_count": null,
	   "metadata": {
	    "collapsed": true
	   },
	   "outputs": [],
"source": [
"//Caption:Find (a)Armature current of second machine (b)Power factor of ecach machine\n",
"//Exa:14.9\n",
"clc;\n",
"clear;\n",
"close;\n",
"L=1000//Total load(in KW)\n",
"V=6600//Total voltage(in volts)\n",
"pf=0.8//Power factor\n",
"Ia=50//Armature current(in A)\n",
"L1=L/2\n",
"Ia1=(L1*1000)/(sqrt(3)*V)\n",
"pf1=Ia1/Ia\n",
"a1=acosd(pf1)\n",
"b=tand(a1)\n",
"P1=L1*b\n",
"Pl=L*tand(acosd(pf))\n",
"P2=P1-Pl\n",
"pf2=cosd(atand(P2/L1))\n",
"Ia2=Ia1/pf2\n",
"disp(Ia2,'(a)Armature current of second machine(in A)=')\n",
"disp(pf1,pf2,'(b)Power factor of both machines=')"
   ]
   }
],
"metadata": {
		  "kernelspec": {
		   "display_name": "Scilab",
		   "language": "scilab",
		   "name": "scilab"
		  },
		  "language_info": {
		   "file_extension": ".sce",
		   "help_links": [
			{
			 "text": "MetaKernel Magics",
			 "url": "https://github.com/calysto/metakernel/blob/master/metakernel/magics/README.md"
			}
		   ],
		   "mimetype": "text/x-octave",
		   "name": "scilab",
		   "version": "0.7.1"
		  }
		 },
		 "nbformat": 4,
		 "nbformat_minor": 0
}
