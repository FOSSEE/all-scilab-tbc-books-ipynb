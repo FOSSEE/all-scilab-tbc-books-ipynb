{
"cells": [
 {
		   "cell_type": "markdown",
	   "metadata": {},
	   "source": [
       "# Chapter 1: Single phase transformer Principle and Constructions"
	   ]
	},
{
		   "cell_type": "markdown",
		   "metadata": {},
		   "source": [
			"## Example 1.1: EX1_1.sce"
		   ]
		  },
  {
"cell_type": "code",
	   "execution_count": null,
	   "metadata": {
	    "collapsed": true
	   },
	   "outputs": [],
"source": [
"//Caption:Find the (a) n ratio (b) load current referred to high voltage side (c) load impedance on low voltage side for full load (d) and impedance referred to high voltage side\n",
"//Exa:1.1\n",
"clc;\n",
"clear;\n",
"close;\n",
"P_s=25000//Supplied power (in VA)\n",
"V_1=1910//Voltage on primary side (in volt)\n",
"V_2=240//Voltage on secondary side (in volt)\n",
"f=50//frequency in hertz\n",
"n=V_1/V_2\n",
"disp(n,'(a)n-ratio=')\n",
"I_1=P_s/V_1\n",
"disp(I_1,'(b)load current referred to high voltage side (in A)=')\n",
"I_2=P_s/V_2\n",
"Z_2=V_2/I_2\n",
"disp(Z_2,'(c)load impedance on low voltage side for full load (in ohm)=')\n",
"Z_1=Z_2*(n^2)\n",
"disp(Z_1,'(d)impedance referred to high voltage side(in ohm)=')"
   ]
   }
,
{
		   "cell_type": "markdown",
		   "metadata": {},
		   "source": [
			"## Example 1.2: EX1_2.sce"
		   ]
		  },
  {
"cell_type": "code",
	   "execution_count": null,
	   "metadata": {
	    "collapsed": true
	   },
	   "outputs": [],
"source": [
"//Caption:Find (a) Power factor on no load (b) active current (c) magnetising current (d) copper loss in the primary winding (e) core loss\n",
"//Exa:1.2\n",
"clc;\n",
"clear;\n",
"close;\n",
"V_1=3300//Primary voltage (in volt)\n",
"V_2=240//Secondary voltage (in volt)\n",
"I_0=2//No load current (in A)\n",
"P=60//Power (in watt)\n",
"R=0.8//Resistance of the low voltage winding (in ohm)\n",
"Pf=P/(V_2*I_0)\n",
"disp(Pf,'(a)Power factor on no load=')\n",
"I_c=I_0*Pf\n",
"disp(I_c,'(b)Active current(in A)=')\n",
"theta=(acosd(Pf))\n",
"I_m=I_0*sin(theta)\n",
"disp(I_m,'(c)magnetising current is(in A)=')\n",
"Culoss=(I_0^2)*R\n",
"disp(Culoss,'(d)copper loss in the primary winding is(in watt)=')\n",
"Coreloss=P-Culoss\n",
"disp(Coreloss,'(e)core loss(in watt)=')"
   ]
   }
,
{
		   "cell_type": "markdown",
		   "metadata": {},
		   "source": [
			"## Example 1.3: Find_number_of_turns_per_limb_on_the_high_voltage_and_and_low_voltage_sides.sce"
		   ]
		  },
  {
"cell_type": "code",
	   "execution_count": null,
	   "metadata": {
	    "collapsed": true
	   },
	   "outputs": [],
"source": [
"//Caption:Find number of turns per limb on the (a) high voltage and (b) low voltage sides\n",
"//Exa:1.3\n",
"clc;\n",
"clear;\n",
"close;\n",
"A=0.0386//cross sectional area of core(in m^2)\n",
"B=1//maximum flux density (in weber/m^2)\n",
"f=50//frequency (in hertz)\n",
"V_1=3300//voltage on primary side (in volt)\n",
"V_2=240//voltage on secondary side (in volt)\n",
"C=B*A\n",
"n_2=V_2/(4.44*C*f)\n",
"T_2=n_2/2\n",
"disp(T_2,'(a)number of turns on low voltage side is=')\n",
"T_1=T_2*V_1/V_2\n",
"disp(T_1,'(b)number of turns on high voltage side is=')"
   ]
   }
,
{
		   "cell_type": "markdown",
		   "metadata": {},
		   "source": [
			"## Example 1.4: EX1_4.sce"
		   ]
		  },
  {
"cell_type": "code",
	   "execution_count": null,
	   "metadata": {
	    "collapsed": true
	   },
	   "outputs": [],
"source": [
"//Caption:Calculate (a) equivalent resistance and reactance of low voltage side in terms of high voltage side (b) equivalent resistance and reactance of high voltage side in terms of low voltage side (c) total resistance and reactance of transformer in terms of high voltage side (d) total resistance and reactance of transformer in terms of low voltage side \n",
"//Exa:1.4\n",
"clc;\n",
"clear;\n",
"close;\n",
"V_1=2200//Primary side voltage(in volt)\n",
"V_2=220//secondary side voltage(in volt)\n",
"f=50//frequency(in hertz)\n",
"r_1=1.25//Primary side resistance(in ohm)\n",
"x_1=4//Primary side reactance(in ohm)\n",
"r_2=0.04//Secondary side resistance(in ohm)\n",
"x_2=0.15//Secondary side reactance(in ohm)\n",
"n=V_1/V_2\n",
"R_2=(n^2)*r_2\n",
"disp(R_2,'(a)equivalent resistance of low voltage side in terms of high voltage side=')\n",
"X_2=(n^2)*x_2\n",
"disp(X_2,'equivalent reactance of low voltage side in terms of high voltage side=')\n",
"R_1=r_1/(n^2)\n",
"disp(R_1,'(b)equivalent resistance of high voltage side in terms of low voltage side =')\n",
"X_1=x_1/(n^2)\n",
"disp(X_1,'equivalent reactance of high voltage side in terms of low voltage side =')\n",
"R_t=r_1+R_2\n",
"disp(R_t,'(c)total resistance of transformer in terms of high voltage side=')\n",
"X_t=x_1+X_2\n",
"disp(X_t,'total reactance of transformer in terms of high voltage side=')\n",
"R_e=r_2+R_1\n",
"disp(R_e,'(d)total resistance of transformer in terms of low voltage side=')\n",
"X_e=x_2+X_1\n",
"disp(X_e,'total reactance of transformer in terms of low voltage side=')"
   ]
   }
,
{
		   "cell_type": "markdown",
		   "metadata": {},
		   "source": [
			"## Example 1.5: EX1_5.sce"
		   ]
		  },
  {
"cell_type": "code",
	   "execution_count": null,
	   "metadata": {
	    "collapsed": true
	   },
	   "outputs": [],
"source": [
"//Caption: (a) terminal voltage on load (b) voltage on load at high voltage terminals (c) efficiency of transformer\n",
"//Exa:1.5 \n",
"clc;\n",
"clear;\n",
"close;\n",
"n=10//ratio of high voltage to low voltage\n",
"V_1=200//Voltage on low voltage side(in volt)\n",
"x_m=231//Magnetising resistance(in ohms)\n",
"r_c=400//Core loss resistance(in ohms)\n",
"r_e=0.1//Equivalent resistance referred to low voltage side(in ohms)\n",
"x_e=0.5//Equivalent reactance referred to low voltage side(in ohms)\n",
"r_l=7.9//Load resistance(in ohms)\n",
"x_l=5.5//Load reactance(in ohms)\n",
"I_m=V_1/x_m\n",
"I_c=V_1/r_c\n",
"I_0=I_c+(%i*I_m)\n",
"R_l=r_l+r_e\n",
"X_l=x_l+x_e\n",
"I=V_1/(R_l+(%i*X_l))\n",
"I_1=I+I_0\n",
"V_2=V_1-I*(r_e+(%i*x_e))\n",
"v=sqrt(V_2*conj(V_2))\n",
"disp(v,'(a)terminal voltage on load(in volt)=')\n",
"V=v*n\n",
"disp(V,'(b)voltage on load at hgih voltage terminals(in volt)=')\n",
"P_o=v*real(I)\n",
"P_i=V_1*real(I_1)\n",
"eff=(P_o/P_i)*100\n",
"disp(eff,'(c)efficiency of transformer is(in %)=')"
   ]
   }
,
{
		   "cell_type": "markdown",
		   "metadata": {},
		   "source": [
			"## Example 1.6: Find_impedance_and_percentage_resistance_and_reactance.sce"
		   ]
		  },
  {
"cell_type": "code",
	   "execution_count": null,
	   "metadata": {
	    "collapsed": true
	   },
	   "outputs": [],
"source": [
"//Caption:Find (a) impedance (b) % resistance and reactance\n",
"//Exa:1.6\n",
"clc;\n",
"clear;\n",
"close;\n",
"P_s=500000//Power supplied(in VA)\n",
"V_1=2200//Voltage on primary side(in volt)\n",
"V_2=500//Voltage on secondary side(in volt)\n",
"f=50//frequency(in hertz)\n",
"r=0.01//Resistance of transformer(in ohms)\n",
"z=0.1//impedance of transformer(in %)\n",
"I=P_s/V_2\n",
"Z=z*V_2/I\n",
"disp(Z,'(a)Impedance(in ohms)=')\n",
"R=(I*r/V_2)*100\n",
"disp(R,'(b) Resistance(in %)=')\n",
"x=sqrt(Z^2-r^2)\n",
"X=(x*I/V_2)*100\n",
"disp(X,'Reactance(in %)=')"
   ]
   }
],
"metadata": {
		  "kernelspec": {
		   "display_name": "Scilab",
		   "language": "scilab",
		   "name": "scilab"
		  },
		  "language_info": {
		   "file_extension": ".sce",
		   "help_links": [
			{
			 "text": "MetaKernel Magics",
			 "url": "https://github.com/calysto/metakernel/blob/master/metakernel/magics/README.md"
			}
		   ],
		   "mimetype": "text/x-octave",
		   "name": "scilab",
		   "version": "0.7.1"
		  }
		 },
		 "nbformat": 4,
		 "nbformat_minor": 0
}
