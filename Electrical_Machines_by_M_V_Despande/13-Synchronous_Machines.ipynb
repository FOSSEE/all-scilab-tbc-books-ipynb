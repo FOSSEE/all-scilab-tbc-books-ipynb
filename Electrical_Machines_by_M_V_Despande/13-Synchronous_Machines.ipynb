{
"cells": [
 {
		   "cell_type": "markdown",
	   "metadata": {},
	   "source": [
       "# Chapter 13: Synchronous Machines"
	   ]
	},
{
		   "cell_type": "markdown",
		   "metadata": {},
		   "source": [
			"## Example 13.12: Calculate_synchronous_reactance_and_synchronous_impedance_per_phase.sce"
		   ]
		  },
  {
"cell_type": "code",
	   "execution_count": null,
	   "metadata": {
	    "collapsed": true
	   },
	   "outputs": [],
"source": [
"//Caption:Calculate synchronous reactance and synchronous impedance per phase\n",
"//Exa:13.12\n",
"clc;\n",
"clear;\n",
"close;\n",
"V=3300//Voltage of alternator(in volts)\n",
"f=50//Frequency(in hertz)\n",
"r=0.4//Effective resistance per phase(in ohm)\n",
"I_f=20//Field current(in ohms)\n",
"I_fl=300//Full load current(in A)\n",
"e=1905//Voltage induced on open circuit(in volts)\n",
"Zs=e/I_fl\n",
"Xs=sqrt((Zs^2)-(r^2))\n",
"disp(Zs,Xs,'Synchronous reactance and impedance(in ohms)=')"
   ]
   }
,
{
		   "cell_type": "markdown",
		   "metadata": {},
		   "source": [
			"## Example 13.13: EX13_13.sce"
		   ]
		  },
  {
"cell_type": "code",
	   "execution_count": null,
	   "metadata": {
	    "collapsed": true
	   },
	   "outputs": [],
"source": [
"//Caption:Estimate terminal voltage for (a)same excitation (b)Load current at 0.8 power factor lagging\n",
"//Exa:13.13\n",
"clc;\n",
"clear;\n",
"close;\n",
"P=1000//Power of alternator(in KVA)\n",
"V=3300//Voltage of alternator(in volts)\n",
"ph=3//Phase of alternator\n",
"pf=0.8//Power factor lagging\n",
"r=0.5//Resistance per phase(in ohms)\n",
"x=6.5//Reactance per phase(in ohms)\n",
"V_ph=V/sqrt(3)\n",
"I=(P*1000)/(sqrt(3)*V)\n",
"Eo=sqrt(((V_ph+(I*r*pf)+(I*x*sind(acosd(pf))))^2)+(((I*x*pf)-(I*r*sind(acosd(pf))))^2))\n",
"disp(Eo,'(a)Required terminal voltage(in volts)=') \n",
"v=sqrt((Eo^2)-(((I*r*sind(acosd(pf)))+(I*x*pf))^2))+((I*x*sind(acosd(pf)))-(I*r*pf))\n",
"disp(v,'(b)Required voltage at given load current(in volts)=')"
   ]
   }
,
{
		   "cell_type": "markdown",
		   "metadata": {},
		   "source": [
			"## Example 13.1: Find_the_frequency_of_voltage_generated.sce"
		   ]
		  },
  {
"cell_type": "code",
	   "execution_count": null,
	   "metadata": {
	    "collapsed": true
	   },
	   "outputs": [],
"source": [
"//Caption:Find the frequency of voltage generated\n",
"//Exa:13.1\n",
"clc;\n",
"clear;\n",
"close;\n",
"p=16//Number of poles\n",
"n=375//Speed of alternator(in r.p.m)\n",
"f=(p*n)/120\n",
"disp(f,'Frequency of voltage generated(in c/s)=')"
   ]
   }
,
{
		   "cell_type": "markdown",
		   "metadata": {},
		   "source": [
			"## Example 13.2: Find_Speed_And_number_of_poles.sce"
		   ]
		  },
  {
"cell_type": "code",
	   "execution_count": null,
	   "metadata": {
	    "collapsed": true
	   },
	   "outputs": [],
"source": [
"//Caption: Find (a)speed (b)number of poles\n",
"//Exa:13.2\n",
"clc;\n",
"clear;\n",
"close;\n",
"f1=25//Frequency of motor(in hertz)\n",
"f2=60//Frequency of generator(in hertz)\n",
"p=10//Number of poles\n",
"N=(120*f1)/p\n",
"disp(N,'(a)Speed(in r.p.m)=')\n",
"P=(f2*120)/(N)\n",
"disp(P,'(b)Number of poles=')"
   ]
   }
,
{
		   "cell_type": "markdown",
		   "metadata": {},
		   "source": [
			"## Example 13.3: Find_distribution_factor_of_winding.sce"
		   ]
		  },
  {
"cell_type": "code",
	   "execution_count": null,
	   "metadata": {
	    "collapsed": true
	   },
	   "outputs": [],
"source": [
"//Caption:Find distribution factor of winding\n",
"//Exa:13.3\n",
"clc;\n",
"clear;\n",
"close;\n",
"ns=18//Number of slots\n",
"ph=3//Number of phases\n",
"p=2//Number of poles\n",
"m=ns/(ph*p)\n",
"P_p=ns/p\n",
"theta=180/P_p\n",
"k_b=sind(m*(theta/2))/(m*sind(theta/2))\n",
"disp(k_b,'Distribution factor=')"
   ]
   }
,
{
		   "cell_type": "markdown",
		   "metadata": {},
		   "source": [
			"## Example 13.4: Find_coil_span_factor.sce"
		   ]
		  },
  {
"cell_type": "code",
	   "execution_count": null,
	   "metadata": {
	    "collapsed": true
	   },
	   "outputs": [],
"source": [
"//Caption:Find coil span factor\n",
"//Exa:13.4\n",
"clc;\n",
"clear;\n",
"close;\n",
"s=9//Number of slots\n",
"theta=180/s\n",
"k_p=cosd(theta/2)\n",
"disp(k_p,'Coil span factor=')"
   ]
   }
,
{
		   "cell_type": "markdown",
		   "metadata": {},
		   "source": [
			"## Example 13.5: Find_frequency_And_Phase_emf_And_Line_emf.sce"
		   ]
		  },
  {
"cell_type": "code",
	   "execution_count": null,
	   "metadata": {
	    "collapsed": true
	   },
	   "outputs": [],
"source": [
"//Caption:Find (a)frequency (b)Phase e.m.f (c)Line e.m.f\n",
"//Exa:13.5\n",
"clc;\n",
"clear;\n",
"close;\n",
"ph=3//Number of phases \n",
"p=16//Number of poles\n",
"sl=144//Number of slots\n",
"cs=10//Number of conductors per slot\n",
"B=0.04//Flux per pole(in wb)\n",
"n=375//Speed of alternator(in r.p.m)\n",
"C_s=160//Coil Span(in degrees)\n",
"f=(p*n)/120\n",
"disp(f,'(a)Frequency(in hertz)=')\n",
"ct=(sl*cs)/2\n",
"nt=ct/ph\n",
"m=sl/(p*ph)\n",
"P_p=sl/p\n",
"theta=180/P_p\n",
"k_b=sind(m*(theta/2))/(m*sind(theta/2))\n",
"k_p=cosd(theta/2)\n",
"E_ph=4.44*B*f*nt*k_b*k_p\n",
"disp(E_ph,'(b)Phase e.m.f(in volts)=')\n",
"E_l=sqrt(3)*E_ph\n",
"disp(E_l,'(c)Line e.m.f(in volts)=')"
   ]
   }
,
{
		   "cell_type": "markdown",
		   "metadata": {},
		   "source": [
			"## Example 13.6: Find_number_of_armature_conductors_in_series_per_phase.sce"
		   ]
		  },
  {
"cell_type": "code",
	   "execution_count": null,
	   "metadata": {
	    "collapsed": true
	   },
	   "outputs": [],
"source": [
"//Caption:Find number of armature conductors in series per phase\n",
"//Exa:13.6\n",
"clc;\n",
"clear;\n",
"close;\n",
"p=10//Number of poles\n",
"ph=3//Number of phases\n",
"n=600//Speed of alternator(in r.p.m)\n",
"sl=90//Number of slots\n",
"Vl=6600//Line voltage(in volts)\n",
"B=0.1//Flux per pole(in wb)\n",
"cs=160//Coil span(in degrees)\n",
"kb=0.9597//Distribution factor\n",
"kp=0.9848//Pitch factor\n",
"v_ph=Vl/sqrt(3)\n",
"f=(p*n)/120\n",
"m=sl/(p*ph)\n",
"T=2*v_ph/(4.44*kb*kp*B*f)\n",
"disp(T,'Number of armature conductors in series per phase=')"
   ]
   }
],
"metadata": {
		  "kernelspec": {
		   "display_name": "Scilab",
		   "language": "scilab",
		   "name": "scilab"
		  },
		  "language_info": {
		   "file_extension": ".sce",
		   "help_links": [
			{
			 "text": "MetaKernel Magics",
			 "url": "https://github.com/calysto/metakernel/blob/master/metakernel/magics/README.md"
			}
		   ],
		   "mimetype": "text/x-octave",
		   "name": "scilab",
		   "version": "0.7.1"
		  }
		 },
		 "nbformat": 4,
		 "nbformat_minor": 0
}
