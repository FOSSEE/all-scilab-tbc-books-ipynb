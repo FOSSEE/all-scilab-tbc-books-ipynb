{
"cells": [
 {
		   "cell_type": "markdown",
	   "metadata": {},
	   "source": [
       "# Chapter 8: DC Machines Operations and Testing"
	   ]
	},
{
		   "cell_type": "markdown",
		   "metadata": {},
		   "source": [
			"## Example 8.10: Calculate_efficiency_of_motor_and_generator.sce"
		   ]
		  },
  {
"cell_type": "code",
	   "execution_count": null,
	   "metadata": {
	    "collapsed": true
	   },
	   "outputs": [],
"source": [
"//Caption: Calculate efficiency of (a)motor and (b)generator\n",
"//Exa:8.10\n",
"clc;\n",
"clear;\n",
"close;\n",
"V=230//Line voltage for both shunt machines(in volts)\n",
"I=70//Line current excluding field currents of both machines(in A)\n",
"i_a=400//Armature current(in A)\n",
"i_f1=4//Field current of first machine(in A)\n",
"i_f2=3//Field current of second machine(in A)\n",
"r_a=0.03//Resistance of armature of each mchine(in ohms)\n",
"P_acm=(i_a^2)*r_a\n",
"P_i=V*I\n",
"I_g=i_a-I\n",
"P_acg=(I_g^2)*r_a\n",
"P_f=(P_i-P_acm-P_acg)/2\n",
"P_m=(V*i_a)+(V*i_f2)\n",
"P_fc=V*i_f2\n",
"L_t=P_fc+P_acm+P_f\n",
"P_o=P_m-L_t\n",
"n_m=(P_o/P_m)*100\n",
"disp(n_m,'(a)Efficiency of motor(in%)=')\n",
"P_og=V*I_g\n",
"P_fcu=V*i_f1\n",
"L_t1=P_f+P_fcu+P_acg\n",
"P_ig=P_og+L_t1\n",
"n_g=(P_og/P_ig)*100\n",
"disp(n_g,'(b)Efficiency of generator(in%)=')"
   ]
   }
,
{
		   "cell_type": "markdown",
		   "metadata": {},
		   "source": [
			"## Example 8.11: Calculate_efficiency_of_motor.sce"
		   ]
		  },
  {
"cell_type": "code",
	   "execution_count": null,
	   "metadata": {
	    "collapsed": true
	   },
	   "outputs": [],
"source": [
"//Caption: Calculate efficiency of motor\n",
"//Exa:8.11\n",
"clc;\n",
"clear;\n",
"close;\n",
"W=25//Effective load on break drum(in kgf)\n",
"d=50//Diameter of drum(in cm)\n",
"n=750//Speed of the motor(in r.p.m)\n",
"I=25//Current taken by motor(in A)\n",
"V=230//Voltage of motor(in volts)\n",
"P_o=(2*%pi*n*W*9.81*(d/2))/(60*100)\n",
"P_i=V*I\n",
"Eff=(P_o/P_i)*100\n",
"disp(Eff,'Efficiency of motor(in %)=')"
   ]
   }
,
{
		   "cell_type": "markdown",
		   "metadata": {},
		   "source": [
			"## Example 8.12: Find_efficiency_of_motor.sce"
		   ]
		  },
  {
"cell_type": "code",
	   "execution_count": null,
	   "metadata": {
	    "collapsed": true
	   },
	   "outputs": [],
"source": [
"//Caption:Find efficiency of motor\n",
"//Exa:8.12\n",
"clc;\n",
"clear;\n",
"close;\n",
"V=500//Voltage of shunt motor(in volts)\n",
"I=10//Current taken by motor on no load(inA)\n",
"I_f=3//Field Current(inA)\n",
"r_a=0.1//Armature resistance(in ohms)\n",
"P_i=100000//Input power to motor(in watt)\n",
"P_nl=V*I\n",
"I_ao=I-I_f\n",
"P_acn=(I_ao^2)*r_a\n",
"P_fcn=I_f*V\n",
"P_c=(P_nl)-P_acn-P_fcn\n",
"I_l=P_i/V\n",
"I_al=I_l-I_f\n",
"P_acl=(I_al^2)*r_a\n",
"P_fcl=V*I_f\n",
"L_t=P_acl+P_fcl+P_c\n",
"Eff=((P_i-L_t)/P_i)*100\n",
"disp(Eff,'Efficiency of motor(in%) is=')"
   ]
   }
,
{
		   "cell_type": "markdown",
		   "metadata": {},
		   "source": [
			"## Example 8.2: Find_the_current_and_voltage_required.sce"
		   ]
		  },
  {
"cell_type": "code",
	   "execution_count": null,
	   "metadata": {
	    "collapsed": true
	   },
	   "outputs": [],
"source": [
"//Caption: Find the (a)current (b)voltage required\n",
"//Exa:8.2\n",
"clc;\n",
"clear;\n",
"close;\n",
"r=1//Resistance of series motor(in ohms)\n",
"V=230//Voltage of series motor(in volts)\n",
"n_1=300//Speed of motor(in r.p.m)\n",
"i_1=15//Current taken by motor(in A)\n",
"n_2=375//Speed of motor(in r.p.m)\n",
"i_2=sqrt(((i_1^2)*(n_2^2))/(n_1^2))\n",
"disp(i_2,'(a)Current(in A)=')\n",
"V_2=(((V-(i_1*r))*(i_2*n_2))/(i_1*n_1))+(i_2*r)\n",
"disp(V_2,'(b)Voltage(in volts)=')"
   ]
   }
,
{
		   "cell_type": "markdown",
		   "metadata": {},
		   "source": [
			"## Example 8.3: Find_the_resistance_required.sce"
		   ]
		  },
  {
"cell_type": "code",
	   "execution_count": null,
	   "metadata": {
	    "collapsed": true
	   },
	   "outputs": [],
"source": [
"//Caption: Find the resistance required\n",
"//Exa:8.3\n",
"clc;\n",
"clear;\n",
"close;\n",
"I_1=40//Current taken by series motor(in A)\n",
"V=500//Supplied voltage(in volts)\n",
"n_1=100//Initial speed(in%)\n",
"n_2=80//final speed(in%)\n",
"I_2=sqrt(((I_1^2)*(n_2^2))/(n_1^2))\n",
"a=(I_1*(n_1/100))/(I_2*(n_2/100))\n",
"R=((a*V)-V)/(a*I_2)\n",
"disp(R,'Resistance required(in ohms) is=')"
   ]
   }
,
{
		   "cell_type": "markdown",
		   "metadata": {},
		   "source": [
			"## Example 8.5: EX8_5.sce"
		   ]
		  },
  {
"cell_type": "code",
	   "execution_count": null,
	   "metadata": {
	    "collapsed": true
	   },
	   "outputs": [],
"source": [
"//Caption: Find (a)Speed at full load torque (b)Speed at double full load torque (c)Stalling torque\n",
"//Exa:8.5\n",
"clc;\n",
"clear;\n",
"close;\n",
"V=250//Voltage of motor(in volts)\n",
"R_a=0.5//Armature resistance(in ohms)\n",
"n=400//Speed of motor at full load(in r.p.m)\n",
"i=30//Current taken by motor(in A)\n",
"R=1//Series resistance with armature(in ohms)\n",
"E_b1=V-(i*R_a)\n",
"E_b2=V-((R_a+R)*i)\n",
"N=n*(E_b2/E_b1)\n",
"disp(N,'(a)Speed at full load torque(in r.p.m)=')\n",
"I=2*i\n",
"E_b=V-(I*(R+R_a))\n",
"N_1=n*(E_b/E_b1)\n",
"disp(N_1,'(b)Speed at double full load torque(in r.p.m)=')\n",
"I_ft=V/(R+R_a)\n",
"T_stalling=I_ft/i\n",
"disp(T_stalling,'(c)Stalling torque=times the full load torque')"
   ]
   }
,
{
		   "cell_type": "markdown",
		   "metadata": {},
		   "source": [
			"## Example 8.6: EX8_6.sce"
		   ]
		  },
  {
"cell_type": "code",
	   "execution_count": null,
	   "metadata": {
	    "collapsed": true
	   },
	   "outputs": [],
"source": [
"//Caption: Find (a)Input to generator from prime mover on full load (b)Efficiency on full load (c)Load current at which generator efficiency is maximum\n",
"//Exa:8.6\n",
"clc;\n",
"clear;\n",
"close;\n",
"V=230//Voltage of generator(in volts)\n",
"I=150//Full load current(in A)\n",
"R_a=0.1//Armature resistance(in ohms)\n",
"R_f=230//Field resistance(in ohms)\n",
"P_s=1500//Stray losses(in watt)\n",
"I_f=V/R_f\n",
"I_a=I_f+I\n",
"W_ac=(I_a^2)*R_a\n",
"W_fc=(I_f^2)*R_f\n",
"P_c=W_fc+P_s\n",
"L_t=W_ac+P_c\n",
"P_o=V*I\n",
"P_i=P_o+L_t\n",
"disp(P_i,'(a)Input to generator from prime mover on full load(in watt)=')\n",
"Eff=(P_o/P_i)*100\n",
"disp(Eff,'(b)Efficiency on full load(in %)=')\n",
"I_l=sqrt(P_c/R_a)\n",
"disp(I_l,'(c)Load current at which generator efficiency is maximum(in A)=')"
   ]
   }
,
{
		   "cell_type": "markdown",
		   "metadata": {},
		   "source": [
			"## Example 8.7: EX8_7.sce"
		   ]
		  },
  {
"cell_type": "code",
	   "execution_count": null,
	   "metadata": {
	    "collapsed": true
	   },
	   "outputs": [],
"source": [
"//Caption: Calculate (a)Efficiency on full load (b)Efficiency on 40A input (c)Efficiency on 25A input (d)Full load speed regulation \n",
"//Exa:8.7\n",
"clc;\n",
"clear;\n",
"close;\n",
"V=230//Voltage of motor(in volts)\n",
"i_l=50//Full load current(in A)\n",
"r_a=0.25//Armature resistance(in ohms)\n",
"r_f=230//Field resistance(in ohms)\n",
"i_o=3//No load current(in A)\n",
"i_1=40//Input current(in A)\n",
"i_2=25//Input current(in A)\n",
"P_c=V*i_o\n",
"P_i1=V*i_l\n",
"i_f=V/r_f\n",
"i_a1=i_l-i_f\n",
"L_fl=((i_a1^2)*r_a)+P_c\n",
"Eff_1=((P_i1-L_fl)/P_i1)*100\n",
"disp(Eff_1,'(a)Efficiency on full load(in%)=')\n",
"P_i2=V*i_1\n",
"i_a2=i_1-i_f\n",
"L=((i_a2^2)*r_a)+P_c\n",
"Eff_2=((P_i2-L)/P_i2)*100\n",
"disp(Eff_2,'(b)Efficiency on 40A input(in%)=')\n",
"P_i3=V*i_2\n",
"i_a3=i_2-i_f\n",
"L_1=((i_a3^2*r_a)+P_c)\n",
"Eff_3=((P_i3-L_1)/P_i3)*100\n",
"disp(Eff_3,'(c)Efficiency on 25A input(in%)=')\n",
"I_ao=i_o-i_f\n",
"E_bo=V-(I_ao*r_a)\n",
"E_bl=V-(r_a*i_a1)\n",
"Re=((E_bo-E_bl)/E_bo)*100\n",
"disp(Re,'(d)Full load speed regulation(in%)=')"
   ]
   }
],
"metadata": {
		  "kernelspec": {
		   "display_name": "Scilab",
		   "language": "scilab",
		   "name": "scilab"
		  },
		  "language_info": {
		   "file_extension": ".sce",
		   "help_links": [
			{
			 "text": "MetaKernel Magics",
			 "url": "https://github.com/calysto/metakernel/blob/master/metakernel/magics/README.md"
			}
		   ],
		   "mimetype": "text/x-octave",
		   "name": "scilab",
		   "version": "0.7.1"
		  }
		 },
		 "nbformat": 4,
		 "nbformat_minor": 0
}
