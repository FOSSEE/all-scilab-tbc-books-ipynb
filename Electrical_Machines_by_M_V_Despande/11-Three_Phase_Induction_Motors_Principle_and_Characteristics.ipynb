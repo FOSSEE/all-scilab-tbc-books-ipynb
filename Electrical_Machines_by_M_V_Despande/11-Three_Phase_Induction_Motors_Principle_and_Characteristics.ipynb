{
"cells": [
 {
		   "cell_type": "markdown",
	   "metadata": {},
	   "source": [
       "# Chapter 11: Three Phase Induction Motors Principle and Characteristics"
	   ]
	},
{
		   "cell_type": "markdown",
		   "metadata": {},
		   "source": [
			"## Example 11.10: EX11_10.sce"
		   ]
		  },
  {
"cell_type": "code",
	   "execution_count": null,
	   "metadata": {
	    "collapsed": true
	   },
	   "outputs": [],
"source": [
"//Caption: Calculate (a)% slip (b)Rotor copper loss (c)Output from the rotor (d)Efficiency \n",
"//Exa:11.10\n",
"clc;\n",
"clear;\n",
"close;\n",
"V=440//Supplied voltage(in volts)\n",
"f=50//frequency(in hertz)\n",
"p=6//Number of poles\n",
"n=960//Speed of motor(in r.p.m)\n",
"P_i=50000//Input power(in watt)\n",
"P_wf=1800//Winding and friction losses(in watt)\n",
"P_s=1200//Stator losses(in watt)\n",
"n_s=(120*f)/p\n",
"S=((n_s-n)/n_s)*100\n",
"disp(S,'(a)% slip=')\n",
"P_r=P_i-P_s\n",
"P_rc=(S/100)*P_r\n",
"disp(P_rc,'(b)Rotor copper loss(in watt)=')\n",
"P_o=P_r-P_rc-P_wf\n",
"disp(P_o,'(c)Output of rotor(in watt)=')\n",
"eff=(P_o/P_i)*100\n",
"disp(eff,'(d)Efficiency(in%)=')"
   ]
   }
,
{
		   "cell_type": "markdown",
		   "metadata": {},
		   "source": [
			"## Example 11.11: EX11_11.sce"
		   ]
		  },
  {
"cell_type": "code",
	   "execution_count": null,
	   "metadata": {
	    "collapsed": true
	   },
	   "outputs": [],
"source": [
"//Caption:Find (a)Equivalent rotor current per phase (b)Stator current per phase (c)Power factor (d)Rotor input (e)Rotor copper losses (f)Torque (g)Mechanical power output from rotor (h)Stator input (i)Efficiency \n",
"//Exa:11.11\n",
"clc;\n",
"clear;\n",
"close;\n",
"V=440//Voltage supplied(in volts)\n",
"p=8//Number of poles\n",
"f=50//Frequency(in hertz)\n",
"r1=0.2//Stator resistance(in ohm)\n",
"x1=1.2//Stator reactance(in ohm)\n",
"r2=0.3//Equivalent resistance of rotor referred to stator(in ohm)\n",
"x2=1.2//Equivalent reactance of rotor referred to stator(in ohm)\n",
"r_m=150//Magnetising resistance(in ohms)\n",
"x_m=18//Magnetising reactance(in ohms)\n",
"P_wf=750//Winding and friction losses(in watt)\n",
"s=0.04//Slip\n",
"n_s=(f*120)/(p*60)\n",
"y1=1/r_m\n",
"y2=1/(%i*x_m)\n",
"y3=1/((r2/s)+(%i*x2))\n",
"Y=y1+y2+y3\n",
"Z=1/Y\n",
"Z_t=Z+(r1+(%i*x1))\n",
"E=V*Z/(Z_t)\n",
"z3=1/y3\n",
"i2=E/z3\n",
"disp(i2,'(a)Rotor current per phase(in A)=')\n",
"i1=V/Z_t\n",
"disp(i1,'(b)Stator current per phase(in A)=')\n",
"pf=cosd(atand(-(imag(Z_t))/real(Z_t)))\n",
"disp(pf,'(c)Power factor=')\n",
"P_r=(i2*(conj(i2)))*(r2/s)\n",
"disp(P_r,'(d)Rotor input(in watt)=')\n",
"P_rc=(i2*(conj(i2)))*r2\n",
"disp(P_rc,'(e)Rotor copper loss(in watt)=')\n",
"T=3*P_r/(2*%pi*n_s)\n",
"disp(T,'(f)Torque(in N-m)=')\n",
"P_me=P_r-P_rc-(P_wf/3)\n",
"disp(P_me,'(g)Mechanical output from rotor(in watts per phase)=')\n",
"P_st=V*(sqrt(i1*(conj(i1))))*pf\n",
"disp(P_st,'(h)Stator input(watts per phase)=')\n",
"eff=(P_me/P_st)*100\n",
"disp(eff,'(i)Efficiency(in %)=')"
   ]
   }
,
{
		   "cell_type": "markdown",
		   "metadata": {},
		   "source": [
			"## Example 11.12: EX11_12.sce"
		   ]
		  },
  {
"cell_type": "code",
	   "execution_count": null,
	   "metadata": {
	    "collapsed": true
	   },
	   "outputs": [],
"source": [
"//Caption:Find (a)Equivalent rotor current per phase (b)Stator current per phase (c)Power factor (d)Rotor input (e)Rotor copper losses (f)Torque (g)Mechanical power output from rotor (h)Stator input (i)Efficiency.Solve it by APPROXIMATE equivalent circuit method \n",
"//Exa:11.12\n",
"clc;\n",
"clear;\n",
"close;\n",
"V=440//Voltage supplied(in volts)\n",
"p=8//Number of poles\n",
"f=50//Frequency(in hertz)\n",
"r1=0.2//Stator resistance(in ohm)\n",
"x1=1.2//Stator reactance(in ohm)\n",
"r2=0.3//Equivalent resistance of rotor referred to stator(in ohm)\n",
"x2=1.2//Equivalent reactance of rotor referred to stator(in ohm)\n",
"r_m=150//Magnetising resistance(in ohms)\n",
"x_m=18//Magnetising reactance(in ohms)\n",
"P_wf=750//Winding and friction losses(in watt)\n",
"s=0.04//Slip\n",
"I2=V/((r1+(r2/s))+(%i*x1)+(%i*x2))\n",
"disp(I2,'(a)Equivalent rotor current per phase(in A)=')\n",
"y1=1/r_m\n",
"y2=1/(%i*x_m)\n",
"I_o=V*(y1+y2)\n",
"I_1=I2+I_o\n",
"disp(I_1,'(b)Stator current per phase(in A)=')\n",
"pf=cosd(atand(imag(I_1)/real(I_1)))\n",
"disp(pf,'(c)Power factor=')\n",
"P_r=(I2*conj(I2))*(r2/s)\n",
"disp(P_r,'(d)Rotor input(in watt)=')\n",
"P_rc=(I2*conj(I2))*r2\n",
"disp(P_rc,'(e)Rotor copper losses(in watts)=')\n",
"T=P_r/(2*%pi*((f*120)/(p*60)))\n",
"disp(T,'(f)Torque(in N-m)=')\n",
"P_me=P_r-P_rc-(P_wf/3)\n",
"disp(P_me,'(g)Mechanical power output from rotor(in watts per phase)=')\n",
"P_si=V*pf*(sqrt(I_1*conj(I_1)))\n",
"disp(P_si,'(h)Stator input(in watts per phase)=')\n",
"e=(P_me/P_si)*100\n",
"disp(e,'(i)Efficiency (in %)=')"
   ]
   }
,
{
		   "cell_type": "markdown",
		   "metadata": {},
		   "source": [
			"## Example 11.13: EX11_13.sce"
		   ]
		  },
  {
"cell_type": "code",
	   "execution_count": null,
	   "metadata": {
	    "collapsed": true
	   },
	   "outputs": [],
"source": [
"//Caption:Find (a)Equivalent rotor current (b)Stator current (c)Power factor (d)Stator input (e)Rotor input (f)Efficiency\n",
"//Exa:11.13\n",
"clc;\n",
"clear;\n",
"close;\n",
"V=440//Voltage supplied(in volts)\n",
"f=50//frequency(in hertz)\n",
"Z_s=1.5+(%i*3)//Stator impedance per phase(in ohms)\n",
"Z_r=1.6+(%i*1)//Rotor impedance per phase(in ohms)\n",
"Z_m=3+(%i*40)//Magnetising impedance per phase(in ohms)\n",
"P_wf=300//Friction and winding loss(in watt)\n",
"s=0.04//Slip\n",
"Z=40+(%i*1)\n",
"z=Z*Z_m/(Z+Z_m)\n",
"Zt=z+Z_s\n",
"I1=(V/sqrt(3))/Zt\n",
"E=(V/sqrt(3))-(I1*Z_s)\n",
"I2=E/Z\n",
"disp(I2,'(a)Equivalent Rotor current(in A)=')\n",
"disp(I1,'(b)Stator current(in A)=')\n",
"pf=cosd(atand(imag(Zt)/real(Zt)))\n",
"disp(pf,'(c)Power factor=')\n",
"P_s=sqrt(3)*V*sqrt(I1*conj(I1))*pf\n",
"disp(P_s,'(d)Stator input(in watt)=')\n",
"P_r=3*(I2*conj(I2))*(real(Z_r)/s)\n",
"disp(P_r,'(e)Rotor input(in watt)=')\n",
"P_ro=P_r*(1-s)\n",
"P_me=P_ro-P_wf\n",
"e=(P_me/P_s)*100\n",
"disp(e,'(e)Efficiency(in%)=')"
   ]
   }
,
{
		   "cell_type": "markdown",
		   "metadata": {},
		   "source": [
			"## Example 11.1: Find_Number_of_poles_and_Percentage_slip.sce"
		   ]
		  },
  {
"cell_type": "code",
	   "execution_count": null,
	   "metadata": {
	    "collapsed": true
	   },
	   "outputs": [],
"source": [
"//Caption: Find (a)Number of poles and (b)% slip\n",
"//Exa:11.1\n",
"clc;\n",
"clear;\n",
"close;\n",
"f=50//Frequency(in hertz)\n",
"n=960//Speed of induction motor on full load(in r.p.m)\n",
"n_s=1000//Synchronous speed(in r.p.m)\n",
"p=(f*120)/(n_s)\n",
"disp(p,'(a)Number of poles is=')\n",
"s=n_s-n\n",
"S=(s/n_s)*100\n",
"disp(S,'(b)%Slip is(in%)=')"
   ]
   }
,
{
		   "cell_type": "markdown",
		   "metadata": {},
		   "source": [
			"## Example 11.2: Find_Speed_of_motor_And_Percentage_Slip.sce"
		   ]
		  },
  {
"cell_type": "code",
	   "execution_count": null,
	   "metadata": {
	    "collapsed": true
	   },
	   "outputs": [],
"source": [
"//Caption: Find (a)Speed of motor (b)%Slip\n",
"//Exa:11.2\n",
"clc;\n",
"clear;\n",
"close;\n",
"p=6//Number of poles\n",
"f_s=50//Stator frequency(in c/s)\n",
"f_r=2//Rotor frequency(in c/s)\n",
"n_s=(120*f_s)/p\n",
"n=(f_r*120)/p\n",
"s=n_s-n\n",
"disp(s,'(a)Speed of motor(in r.p.m)=')\n",
"S=(n/n_s)*100\n",
"disp(S,'(b)%Slip(in %)=')"
   ]
   }
,
{
		   "cell_type": "markdown",
		   "metadata": {},
		   "source": [
			"## Example 11.3: EX11_3.sce"
		   ]
		  },
  {
"cell_type": "code",
	   "execution_count": null,
	   "metadata": {
	    "collapsed": true
	   },
	   "outputs": [],
"source": [
"//Caption: Calculate (a)Number of poles (b)Slip (c)Slip for full load torque if total resistance in rotor circuit is doubled\n",
"//Exa:11.3\n",
"clc;\n",
"clear;\n",
"close;\n",
"n=970//Speed of induction motor(in r.p.m)\n",
"f=50//Frequency(in hertz)\n",
"n_s=1000//Synchronous speed(in r.p.m)\n",
"p=(f*120)/n_s\n",
"disp(p,'(a)Number of poles=')\n",
"s=((n_s-n)/n_s)*100\n",
"disp(s,'(b)Slip(in%)=')\n",
"S=((s/100)*2)*100\n",
"disp(S,'(c)Required slip(in%)=')"
   ]
   }
,
{
		   "cell_type": "markdown",
		   "metadata": {},
		   "source": [
			"## Example 11.4: EX11_4.sce"
		   ]
		  },
  {
"cell_type": "code",
	   "execution_count": null,
	   "metadata": {
	    "collapsed": true
	   },
	   "outputs": [],
"source": [
"//Caption: Calculate (a)Mechanical power output (b)Torque (c)Maximum Torque (d)Speed at maximum torque (e)Power output when torque is maximum\n",
"//Exa:11.4\n",
"clc;\n",
"clear;\n",
"close;\n",
"p=4//Number of poles\n",
"V=440//Voltage of motor(in volts)\n",
"f=50//Frequency(in hertz)\n",
"n_s=1500//Synchronous speed(r.p.m)\n",
"sp=1440//Speed of motor at load(in r.p.m)\n",
"s=4//Slip at full load(in %)\n",
"t=1.8//Stator to rotor turns ratio\n",
"R_r=0.1//Resistance of rotor per phase(in ohms)\n",
"X_r=0.8//Reactance of rotor per phase at standstill(in ohms)\n",
"r_r=R_r*(t^2)//Rotor resistance referred to stator(in ohms)\n",
"x_r=X_r*(t^2)//Reactance of rotor at stanstill referred to stator(in ohms)\n",
"E=V/(sqrt(3))\n",
"P=((s/100)*(E^2)*r_r)/((r_r^2)+((s/100)^2)*(x_r^2))\n",
"T=(3*P)/(2*(%pi)*(n_s/60))\n",
"P_M=(3*P*sp)/n_s\n",
"disp(P_M,'(a)Mechanical power output(in watt)=')\n",
"disp(T,'(b)Torque(in N-m)=')\n",
"s_m=R_r/X_r\n",
"N=n_s*(1-s_m)\n",
"P_1=((s_m)*(E^2)*(r_r))/((r_r^2)+((s_m^2)*(x_r^2)))\n",
"T_m=(3*P_1)/(2*(%pi)*(n_s/60))\n",
"disp(T_m,'(c)Maximum torque(in N-m)=')\n",
"disp(N,'(d)Speed at maximum torque(in r.p.m)=')\n",
"P_o=(3*P_1*N)/n_s\n",
"disp(P_o,'(e)Output power at maximum torque(in watt)=')"
   ]
   }
,
{
		   "cell_type": "markdown",
		   "metadata": {},
		   "source": [
			"## Example 11.5: EX11_5.sce"
		   ]
		  },
  {
"cell_type": "code",
	   "execution_count": null,
	   "metadata": {
	    "collapsed": true
	   },
	   "outputs": [],
"source": [
"//Caption:Find (a)Speed of the motor (b)Speed at which torque will be maximum (c)Ratio of maximum to full load torque\n",
"//Exa:11.5\n",
"clc;\n",
"clear;\n",
"close;\n",
"V=3300//Voltage supplied to induction motor(in volts)\n",
"p=10//Number of poles\n",
"f=50//frequency(in hertz)\n",
"R_r=0.015//Rotor resistance per phase(in ohms)\n",
"X_r=0.25//Standstill reactance per phase(in ohms)\n",
"s=2.5//Slip(in %)\n",
"n_s=(f*120)/p\n",
"n=n_s*(1-(s/100))\n",
"disp(n,'(a)Speed of the motor(in r.p.m)=')\n",
"S=R_r/X_r\n",
"N=n_s*(1-S)\n",
"disp(N,'(b)Speed at which torque will be maximum(in r.p.m)=')\n",
"T_f=(s/100)*R_r/((R_r^2)+(((s/100)^2)*(X_r^2)))\n",
"T_m=S*R_r/((R_r^2)+((S^2)*(X_r^2)))\n",
"R=T_m/T_f\n",
"disp(R,'(c)Ratio of maximum to full load torque=')"
   ]
   }
,
{
		   "cell_type": "markdown",
		   "metadata": {},
		   "source": [
			"## Example 11.6: EX11_6.sce"
		   ]
		  },
  {
"cell_type": "code",
	   "execution_count": null,
	   "metadata": {
	    "collapsed": true
	   },
	   "outputs": [],
"source": [
"//Caption: Calculate (a)Speed at which mechanical power from rotor will be maximum (b)Maximum power\n",
"//Exa:11.6\n",
"clc;\n",
"clear;\n",
"close;\n",
"p=4//Number of poles\n",
"f=50//Frequency(in hertz)\n",
"V=440//Supplied voltage to induction motor(in volts)\n",
"R_r=0.1//Rotor resistance per phase(in ohm)\n",
"X_r=0.8//Rotor reactance at standstill per phase(in ohm)\n",
"t=1.3//Ratio of stator turns per phase to rotor turns per phase\n",
"a=R_r/X_r\n",
"s=(-(a^2))+sqrt(1+(a^2))\n",
"n_s=120*f/p \n",
"N=n_s*(1-s)\n",
"disp(N,'(a)Required speed(in r.p.m)=')\n",
"r=R_r*t\n",
"x=X_r*t\n",
"E=V/sqrt(3)\n",
"P_m=(3*s*(E^2)*r*(1-s))/((r^2)+((s^2)+(x^2)))\n",
"disp(P_m,'(b)Maximum power(in watts)=')"
   ]
   }
,
{
		   "cell_type": "markdown",
		   "metadata": {},
		   "source": [
			"## Example 11.7: EX11_7.sce"
		   ]
		  },
  {
"cell_type": "code",
	   "execution_count": null,
	   "metadata": {
	    "collapsed": true
	   },
	   "outputs": [],
"source": [
"//Caption: Find Current per phase in the rotor (a)when rotor is at standstill and star connected impedance of 4.1+%i2 per phase is connected in series with rotor   (b)when rotor runs at 3% slip with short circuit at the slip rings\n",
"//Exa:11.7\n",
"clc;\n",
"clear;\n",
"close;\n",
"V=69.28//Induced e.m.f(in volts)\n",
"r=0.9//Resistance of rotor per phase(in ohm)\n",
"x=6//Standstill rectance of rotor per phase(in ohm)\n",
"z=4.1+(%i*2)\n",
"s=3//Slip(in%)\n",
"V_r=V/sqrt(3)\n",
"R_r=r+real(z)\n",
"X_r=(%i*2)+(%i*x)\n",
"Z=R_r+X_r\n",
"I_r=V_r/Z\n",
"disp(I_r,'(a)Current when rotor is at standstill=')\n",
"E=(s/100)*V_r\n",
"Imp=r+(%i*(s/100)*x)\n",
"i_r=E/Imp\n",
"disp(i_r,'(b)Current when rotor runs at 3% slip=')"
   ]
   }
,
{
		   "cell_type": "markdown",
		   "metadata": {},
		   "source": [
			"## Example 11.8: EX11_8.sce"
		   ]
		  },
  {
"cell_type": "code",
	   "execution_count": null,
	   "metadata": {
	    "collapsed": true
	   },
	   "outputs": [],
"source": [
"//Caption:Find (a)% reduction in stator voltage and (b)the power factor of the rotor circuit\n",
"//Exa:11.8\n",
"clc;\n",
"clear;\n",
"close;\n",
"R_r=0.02//Rotor resistance per phase(in ohm)\n",
"X_r=0.1//Rotor reactance per phase(in ohm)\n",
"s=4//Slip(in%)\n",
"S=100-s\n",
"T_f=((s/100)*R_r)/((R_r^2)+(((s/100)^2)*(X_r^2)))\n",
"S_r=1-(.5*(S/100))\n",
"T=(S_r*R_r)/((R_r^2)+((S_r^2)*(X_r^2)))\n",
"Re=(1-sqrt(T_f/T))*100\n",
"disp(Re,'(a)% reduction in stator voltage(in %)=')\n",
"pf=R_r/(sqrt((R_r^2)+((S_r^2)*(X_r^2))))\n",
"disp(pf,'(b)Power factor=')"
   ]
   }
,
{
		   "cell_type": "markdown",
		   "metadata": {},
		   "source": [
			"## Example 11.9: EX11_9.sce"
		   ]
		  },
  {
"cell_type": "code",
	   "execution_count": null,
	   "metadata": {
	    "collapsed": true
	   },
	   "outputs": [],
"source": [
"//Caption:Find (a)the rotor copper loss per phase if motor is running at slip of 4% (b)Mechanical power developed\n",
"//Exa:11.9\n",
"clc;\n",
"clear;\n",
"close;\n",
"P_i=100000//Input power(in watt)\n",
"P_sc=2000//Stator copper loss(in watt)\n",
"s=4//slip(in %)\n",
"P_r=P_i-P_sc\n",
"P_rc=((s/100)*P_r)/3\n",
"disp(P_rc,'(a)Rotor copper lossper phase(in watt)=')\n",
"P_m=P_r-(P_rc*3)\n",
"disp(P_m,'(b)Mechanical power developed(in watt)=')"
   ]
   }
],
"metadata": {
		  "kernelspec": {
		   "display_name": "Scilab",
		   "language": "scilab",
		   "name": "scilab"
		  },
		  "language_info": {
		   "file_extension": ".sce",
		   "help_links": [
			{
			 "text": "MetaKernel Magics",
			 "url": "https://github.com/calysto/metakernel/blob/master/metakernel/magics/README.md"
			}
		   ],
		   "mimetype": "text/x-octave",
		   "name": "scilab",
		   "version": "0.7.1"
		  }
		 },
		 "nbformat": 4,
		 "nbformat_minor": 0
}
