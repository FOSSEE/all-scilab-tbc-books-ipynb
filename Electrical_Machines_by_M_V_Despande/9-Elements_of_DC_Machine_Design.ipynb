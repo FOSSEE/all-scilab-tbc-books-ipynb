{
"cells": [
 {
		   "cell_type": "markdown",
	   "metadata": {},
	   "source": [
       "# Chapter 9: Elements of DC Machine Design"
	   ]
	},
{
		   "cell_type": "markdown",
		   "metadata": {},
		   "source": [
			"## Example 9.1: Find_the_dimensions_of_D_and_L.sce"
		   ]
		  },
  {
"cell_type": "code",
	   "execution_count": null,
	   "metadata": {
	    "collapsed": true
	   },
	   "outputs": [],
"source": [
"//Caption:Find the dimensions of D and L\n",
"//Exa:9.1\n",
"clc;\n",
"clear;\n",
"close;\n",
"P=15000//Power of shunt motor(in watt)\n",
"V=440//Supplied voltage to motor(in volts)\n",
"n=1500//Speed of motor(in r.p.m)\n",
"e=88//Efficiency(in %)\n",
"B=0.65//Average flux density(in webers/m^2)\n",
"q=30000//Specific electric loading(ampere conductors/m)\n",
"p=4//Number of poles\n",
"R_f=220//Field resistance(in ohms)\n",
"P_i=P/(e/100)\n",
"I=P_i/V\n",
"I_f=V/R_f\n",
"D=170//Choosing the diameter(in mm)\n",
"L=(P_i)/((%pi^2)*((D^2)*(10^(-6)))*B*q*(n/60)*(10^(-3)))\n",
"disp(D,L,'Required dimensions of L and D(in mm) are=')"
   ]
   }
,
{
		   "cell_type": "markdown",
		   "metadata": {},
		   "source": [
			"## Example 9.2: Find_values_of_the_5_steps_in_a_6_stud_starter_for_a_dc_shunt_motor.sce"
		   ]
		  },
  {
"cell_type": "code",
	   "execution_count": null,
	   "metadata": {
	    "collapsed": true
	   },
	   "outputs": [],
"source": [
"//Caption: Find values of the 5 steps in a 6 stud starter for a d.c. shunt motor\n",
"//Exa:9.2\n",
"clc;\n",
"clear;\n",
"close;\n",
"P_o=3730//Output power(in watt)\n",
"V=200//Voltage supplied to motor(in volts)\n",
"e=88//Efficiency(in%)\n",
"P_i=P_o/(e/100)\n",
"I=P_i/V//Full load current\n",
"I_a=I//Neglecting field current\n",
"L=P_i-P_o\n",
"Cu=(1/2)*L//Copper loss is half the total loss(Given)\n",
"R_a=Cu/(I^2)\n",
"I_m=(2*I)//Maximum current is twice full load current(Given)\n",
"R_1=V/I_m\n",
"g=(R_1/R_a)^(1/5)\n",
"R_2=R_1/g\n",
"r1=R_1-R_2\n",
"R_3=R_2/g\n",
"r2=R_2-R_3\n",
"R_4=R_3/g\n",
"r3=R_3-R_4\n",
"R_5=R_4/g\n",
"r4=R_4-R_5\n",
"R_6=R_5/g\n",
"r5=R_5-R_6\n",
"disp(r5,r4,r3,r2,r1,'Required resistances r1,r2,r3,r4,r5(in ohms)=')"
   ]
   }
],
"metadata": {
		  "kernelspec": {
		   "display_name": "Scilab",
		   "language": "scilab",
		   "name": "scilab"
		  },
		  "language_info": {
		   "file_extension": ".sce",
		   "help_links": [
			{
			 "text": "MetaKernel Magics",
			 "url": "https://github.com/calysto/metakernel/blob/master/metakernel/magics/README.md"
			}
		   ],
		   "mimetype": "text/x-octave",
		   "name": "scilab",
		   "version": "0.7.1"
		  }
		 },
		 "nbformat": 4,
		 "nbformat_minor": 0
}
