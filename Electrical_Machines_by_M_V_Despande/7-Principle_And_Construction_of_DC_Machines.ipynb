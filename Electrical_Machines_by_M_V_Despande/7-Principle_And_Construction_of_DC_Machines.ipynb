{
"cells": [
 {
		   "cell_type": "markdown",
	   "metadata": {},
	   "source": [
       "# Chapter 7: Principle And Construction of DC Machines"
	   ]
	},
{
		   "cell_type": "markdown",
		   "metadata": {},
		   "source": [
			"## Example 7.10: Calculate_the_speed_of_the_motor_when_it_is_loaded_and_takes_60A_from_the_mains.sce"
		   ]
		  },
  {
"cell_type": "code",
	   "execution_count": null,
	   "metadata": {
	    "collapsed": true
	   },
	   "outputs": [],
"source": [
"//Caption: Calculate the speed of the motor when it is loaded and takes 60A from the mains\n",
"//Exa:7.10\n",
"clc;\n",
"clear;\n",
"close;\n",
"V=230//Voltage of motor(in volts)\n",
"n=800//Speedof motor(in r.p.m)\n",
"i=5//Current taken by motor(in A)\n",
"r_a=0.25//Armature resistance(in ohms)\n",
"r_f=230//field resistance(in ohms)\n",
"i_l=60//Load current(in A)\n",
"i_f=V/r_f\n",
"i_a=i-i_f\n",
"E_b1=V-(i_a*r_a)\n",
"i_al=i_l-i_f\n",
"E_b2=V-(i_al*r_a)\n",
"N=(n*E_b2)/E_b1\n",
"disp(N,'Required speed of motor(in r.p.m) is=')"
   ]
   }
,
{
		   "cell_type": "markdown",
		   "metadata": {},
		   "source": [
			"## Example 7.11: Calculate_Power_and_torque_developed.sce"
		   ]
		  },
  {
"cell_type": "code",
	   "execution_count": null,
	   "metadata": {
	    "collapsed": true
	   },
	   "outputs": [],
"source": [
"//Caption: Calculate Power and torque developed\n",
"//Exa:7.11\n",
"clc;\n",
"clear;\n",
"close;\n",
"p=4//Number of poles\n",
"d=20//Diameter of armature(in cm)\n",
"l=25//Core length(in cm)\n",
"c=300//Number of conductors\n",
"i_a=50//Armature current(in A)\n",
"B=0.3//Average flux density(in weber/m^2)\n",
"n=1000//Speedofmotor(in r.p.m)\n",
"T=(B*(l/100)*(i_a/p)*c*(d/100)*(1/2))\n",
"s=(2*%pi*n)/(60)\n",
"P=(T*s)/1000\n",
"disp(T,P,'Power(in KW) and Torque(in Nm) developed is=')"
   ]
   }
,
{
		   "cell_type": "markdown",
		   "metadata": {},
		   "source": [
			"## Example 7.12: EX7_12.sce"
		   ]
		  },
  {
"cell_type": "code",
	   "execution_count": null,
	   "metadata": {
	    "collapsed": true
	   },
	   "outputs": [],
"source": [
"//Caption: Determineper pole (a)Number of cross magnetising ampereturns,and (b)Demagnetising ampereturns \n",
"//Exa:7.12\n",
"clc;\n",
"clear;\n",
"close;\n",
"I=100//Current(in A)\n",
"c=500//Armature conductors\n",
"p=6//Poles \n",
"t=10//Angle of lead(in degree)\n",
"a=2//Wave wound\n",
"e=(10*p)/2\n",
"F_d=(c*I*2*e)/(2*a*p*180)\n",
"disp(F_d,'(a)Number of cross magnetising ampereturns=')\n",
"F_c=(c*I)*(1-((2*e)/180))/(2*a*p)\n",
"disp(F_c,'(b)Demagnetising ampereturns=')"
   ]
   }
,
{
		   "cell_type": "markdown",
		   "metadata": {},
		   "source": [
			"## Example 7.13: Find_the_time_of_Commutation.sce"
		   ]
		  },
  {
"cell_type": "code",
	   "execution_count": null,
	   "metadata": {
	    "collapsed": true
	   },
	   "outputs": [],
"source": [
"//Caption:Find the time of Commutation\n",
"//Exa:7.13\n",
"clc;\n",
"clear;\n",
"close;\n",
"p=4//Number of poles\n",
"n=600//Speed of generator(in r.p.m)\n",
"d=0.4//Diameter of commutator(in m)\n",
"c=243//Number ofcommutator segments\n",
"c_s=3//Coil sides per layer\n",
"w=12.5//Width of brush(in mm)\n",
"W=0.6//Width of mica between commutator segments\n",
"W_c=(%pi*d*1000)/(c)\n",
"D=w-W+(2*W_c)\n",
"V_c=(%pi*d*n)/60\n",
"T=D/V_c*(10^(-3))\n",
"disp(T,'Time of commutation(in sec)=')"
   ]
   }
,
{
		   "cell_type": "markdown",
		   "metadata": {},
		   "source": [
			"## Example 7.14: Find_average_reactance_voltage_produce_due_to_commutation.sce"
		   ]
		  },
  {
"cell_type": "code",
	   "execution_count": null,
	   "metadata": {
	    "collapsed": true
	   },
	   "outputs": [],
"source": [
"//Caption: Find average reactance voltage produce due to commutation\n",
"//Exa:7.14\n",
"clc;\n",
"clear;\n",
"close;\n",
"p=4//Number of poles\n",
"I=300//Current delievered by generator on full load(in A)\n",
"L=0.02*(10^(-3))//Inductance of each coil(in mH)\n",
"a=2//Wavw wound\n",
"i=I/2//Current in conductors in each path(in A)\n",
"T_c=0.00174//Time of commutation(in sec)\n",
"E_r=(2*L*i)/T_c\n",
"disp(E_r,'Average reactance voltage(in volts)=')"
   ]
   }
,
{
		   "cell_type": "markdown",
		   "metadata": {},
		   "source": [
			"## Example 7.15: Calculate_the_number_of_turns_needed_on_each_commutating_pole.sce"
		   ]
		  },
  {
"cell_type": "code",
	   "execution_count": null,
	   "metadata": {
	    "collapsed": true
	   },
	   "outputs": [],
"source": [
"//Caption: Calculate the number of turns needed on each commutating pole\n",
"//Exa:7.15\n",
"clc;\n",
"clear;\n",
"close;\n",
"p=4//Number of poles\n",
"P=125000//Power delievered by generator(in watts)\n",
"V=230//Voltage of generator(in volts)\n",
"z=240//Armature conductors \n",
"B=0.3//Flux density under the interpolar gap(in weber/m^2)\n",
"g=0.01//Interpolar airgap(in m)\n",
"a=p//LAP connection\n",
"I_a=P/V\n",
"F_a=(z*I_a)/(2*a*p)\n",
"A=(B*g)/(4*%pi*(10^(-7)))\n",
"A_t=A+F_a\n",
"T=A_t/I_a\n",
"disp(T,'The number of turns on each commutating pole=')"
   ]
   }
,
{
		   "cell_type": "markdown",
		   "metadata": {},
		   "source": [
			"## Example 7.3: Find_effect_of_change_in_connection_on_voltage_and_current_and_output.sce"
		   ]
		  },
  {
"cell_type": "code",
	   "execution_count": null,
	   "metadata": {
	    "collapsed": true
	   },
	   "outputs": [],
"source": [
"//Caption:Find effect of change in connection on voltage,current and output\n",
"//Exa:7.3\n",
"clc;\n",
"clear;\n",
"close;\n",
"P=50000//Power of generator(in watt)\n",
"V_b1=230//Voltage of generator(in volts)\n",
"p=4//Number of poles\n",
"a=4//Number of parallel paths for lap winding\n",
"b=2//Number of parallel paths for wave winding\n",
"C=268//Number of conductors with LAP winding\n",
"t=2//Two turns coils are used\n",
"c=t*2//Conductors per slot\n",
"n=C/c\n",
"I_1=P/(V_b1)\n",
"V_b2=V_b1*b\n",
"I_2=P/(V_b2)\n",
"disp(V_b1,I_1,'Current(in A) and voltage(in volts) for LAP winding=')\n",
"disp(V_b2,I_2,'Current(in A) and voltage(in volts) for WAVE winding=')\n",
"disp(P,'Output is same for both connections(in watts)=')"
   ]
   }
,
{
		   "cell_type": "markdown",
		   "metadata": {},
		   "source": [
			"## Example 7.6: Select_a_two_circuit_armature_winding_for_a_dc_machine.sce"
		   ]
		  },
  {
"cell_type": "code",
	   "execution_count": null,
	   "metadata": {
	    "collapsed": true
	   },
	   "outputs": [],
"source": [
"//Caption: Select a two circuit armature winding for a d.c machine\n",
"//Exa:7.6\n",
"clc;\n",
"clear;\n",
"close;\n",
"p=4//Number of poles \n",
"n=1000//Speed of d.c. machine(in r.p.m)\n",
"V=400//Voltage of d.cmachine(in volts)\n",
"B=0.04//Flux per pole(in weber)\n",
"s_1=41//Slot 1\n",
"s_2=45//Slot 2\n",
"s_3=51//Slot 3\n",
"a=2//Number of parallel paths\n",
"Z=(V*60*a)/(B*n*p)\n",
"Z_c=Z/a\n",
"Y=(s_3+1)/(p/2)\n",
"t=3//turns per coil\n",
"c=t*a\n",
"z=s_3*c\n",
"disp(z,c,t,s_3,'slots,turn coils,coils sides per slot and total number of conductors=')"
   ]
   }
,
{
		   "cell_type": "markdown",
		   "metadata": {},
		   "source": [
			"## Example 7.7: EX7_7.sce"
		   ]
		  },
  {
"cell_type": "code",
	   "execution_count": null,
	   "metadata": {
	    "collapsed": true
	   },
	   "outputs": [],
"source": [
"//Caption: Find (a)e.m.f generated at 750r.p.m for lap wound (b)e.m.f generated at 600r.p.m for wave wound (c)Speed to be driven for 400V for same flux per pole\n",
"//Exa:7.7\n",
"clc;\n",
"clear;\n",
"close;\n",
"p=4//Number of poles\n",
"B=0.04//Flux per pole(in weber)\n",
"c=740//Number of conductors for lap connection\n",
"n_1=750//Speed of machine(in r.p.m)\n",
"n_2=600//Speed of machine(in r.p.m)\n",
"V=400//Voltage of machine(in volts)\n",
"a=4//Number of parallel paths for lap winding\n",
"b=2//Number of parallel paths for wave winding\n",
"E=(B*c*n_1*p)/(60*a)\n",
"disp(E,'(a)E.M.F generated at 750r.p.m for lap wound(in volts)=')\n",
"E_1=(B*c*n_2*p)/(60*b)\n",
"disp(E_1,'(b)E.M.F generated at 600r.p.m for wavewound(in volts)=')\n",
"n=(V*60*b)/(B*c*p)\n",
"disp(n,'(c)Speed of machine(in r.p.m)=')"
   ]
   }
,
{
		   "cell_type": "markdown",
		   "metadata": {},
		   "source": [
			"## Example 7.8: Calculate_Total_armature_current_And_Current_per_armature_path_And_Generated_emf.sce"
		   ]
		  },
  {
"cell_type": "code",
	   "execution_count": null,
	   "metadata": {
	    "collapsed": true
	   },
	   "outputs": [],
"source": [
"//Caption: Calculate (a)Total armature current (b)Current per armature path (c)Generated e.m.f\n",
"//Exa:7.8\n",
"clc;\n",
"clear;\n",
"close;\n",
"p=4//Number of poles\n",
"P=4000//Power of generator(in watts)\n",
"V=230//Voltage of generator(in volts)\n",
"r_f=115//Field resistance(in ohms)\n",
"r_a=0.1//Armature resistance(in ohms)\n",
"a=p//number of parallel paths\n",
"i_f=V/r_f\n",
"i_l=P/V\n",
"I_a=i_l+i_f\n",
"disp(I_a,'(a)Armature current(in A)=')\n",
"i=I_a/p\n",
"disp(i,'(b)Current per armature path(in A)=')\n",
"E=V+(I_a*r_a)\n",
"disp(E,'(c)E.M.F generated(in volts)=')"
   ]
   }
,
{
		   "cell_type": "markdown",
		   "metadata": {},
		   "source": [
			"## Example 7.9: Find_the_speed_at_which_it_will_run_as_a_motor.sce"
		   ]
		  },
  {
"cell_type": "code",
	   "execution_count": null,
	   "metadata": {
	    "collapsed": true
	   },
	   "outputs": [],
"source": [
"//Caption:Find the speed at which it will run as a motor\n",
"//Exa:7.9\n",
"clc;\n",
"clear;\n",
"close;\n",
"P_g=110000//Power of generator(in watts)\n",
"n=400//Speed of generator(in r.p.m)\n",
"V=220//Voltage of busbars(in volts)\n",
"P_m=10900//Power of motor(in watt)\n",
"r_a=0.025//Armature resistance(in ohms)\n",
"r_f=55//Field resistance(in ohms)\n",
"v_b=1//Voltage drop at each brush(in volt)\n",
"i_l=P_g/V\n",
"i_f=V/r_f\n",
"I_a=i_l+i_f\n",
"V_a=I_a*r_a\n",
"E=V+V_a+(2*v_b)\n",
"I_1=P_m/V\n",
"i_a=I_1-i_f\n",
"v_a=i_a*r_a\n",
"E_b=V-(i_a*r_a)-(2*v_b)\n",
"N_m=(n*E_b)/E\n",
"disp(N_m,'Speed at which generator will run as motor is(in r.p.m)=')"
   ]
   }
],
"metadata": {
		  "kernelspec": {
		   "display_name": "Scilab",
		   "language": "scilab",
		   "name": "scilab"
		  },
		  "language_info": {
		   "file_extension": ".sce",
		   "help_links": [
			{
			 "text": "MetaKernel Magics",
			 "url": "https://github.com/calysto/metakernel/blob/master/metakernel/magics/README.md"
			}
		   ],
		   "mimetype": "text/x-octave",
		   "name": "scilab",
		   "version": "0.7.1"
		  }
		 },
		 "nbformat": 4,
		 "nbformat_minor": 0
}
