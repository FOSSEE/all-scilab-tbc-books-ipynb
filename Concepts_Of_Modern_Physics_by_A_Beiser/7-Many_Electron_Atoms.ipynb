{
"cells": [
 {
		   "cell_type": "markdown",
	   "metadata": {},
	   "source": [
       "# Chapter 7: Many Electron Atoms"
	   ]
	},
{
		   "cell_type": "markdown",
		   "metadata": {},
		   "source": [
			"## Example 7.1: Equatorial_velocity_of_electro.sci"
		   ]
		  },
  {
"cell_type": "code",
	   "execution_count": null,
	   "metadata": {
	    "collapsed": true
	   },
	   "outputs": [],
"source": [
" \n",
"r= 5*(10^(-17)); //radius of spherical electron, m\n",
"Me= 9.1*(10^(-31)); //mass of electron, kg\n",
"h= 6.63*(10^(-34)); //Planck's constant, J.s\n",
"hbar= h/(2*(%pi)); //reduced Planck's constant, J.s\n",
"v= (5*sqrt(3)/4)*(hbar/(Me*r)); //using Eqn 7.1, Page 230\n",
"c= 3*(10^8); //velocity of light, m/s\n",
"v= v/c; //converting in terms of c, m/s\n",
"disp(v,'The velocity of electron in times of c, in m/s, is: ')\n",
" \n",
"//Result\n",
"// The velocity of electron in times of c, in m/s, is:    \n",
"//    16736.77 "
   ]
   }
,
{
		   "cell_type": "markdown",
		   "metadata": {},
		   "source": [
			"## Example 7.2: Effective_charge_on_outer_electron.sci"
		   ]
		  },
  {
"cell_type": "code",
	   "execution_count": null,
	   "metadata": {
	    "collapsed": true
	   },
	   "outputs": [],
"source": [
" \n",
"n= 2; //outer (2s) orbit of lithium\n",
"E2= -5.39; //Ionisation energy of lithium, for n=2 eV\n",
"E1= -13.6; //for n=1, eV\n",
"Z= n*(sqrt(E2/E1)) //modification factor for effective charge\n",
"e= 1.6*(10^(-19)); //charge of an electron, C\n",
"Ceffective = Z*e;\n",
" \n",
"disp(Ceffective,'The effective charge, in C, is: ')\n",
" \n",
"//Result\n",
"// The effective charge, in C, is:    \n",
"//   2.015D-19"
   ]
   }
,
{
		   "cell_type": "markdown",
		   "metadata": {},
		   "source": [
			"## Example 7.3: Magnetic_energy_for_electron.sci"
		   ]
		  },
  {
"cell_type": "code",
	   "execution_count": null,
	   "metadata": {
	    "collapsed": true
	   },
	   "outputs": [],
"source": [
" \n",
"n= 2; //for 2p state\n",
"Ao= 5.29*(10^(-11)); //Bohr's orbit for n=1, m\n",
"r= (n^2)*Ao; //orbital radius, m\n",
"f= 8.4*(10^14); //frequency of revolution, Hz ,using Eqn 4.4\n",
"Mo= 4*(%pi)*(10^(-7)); //Magnetic constant, T.m/A\n",
"e= 1.6*(10^(-19)); //charge of an electron, C\n",
"B= (Mo*f*e)/(2*r); //Magnetic field, T\n",
"Mb= 9.27*(10^(-24)); //Bohr Magneton, J/T\n",
"Um= Mb*B; //Magnetic energy, J\n",
"Um= Um/e; //converting to eV\n",
"disp(Um,'The magnetic energy for electron, in eV, is: ')\n",
" \n",
"//Result\n",
"// The magnetic energy for electron, in eV, is:    \n",
"//   0.0000231"
   ]
   }
,
{
		   "cell_type": "markdown",
		   "metadata": {},
		   "source": [
			"## Example 7.8: X_ray_lines.sci"
		   ]
		  },
  {
"cell_type": "code",
	   "execution_count": null,
	   "metadata": {
	    "collapsed": true
	   },
	   "outputs": [],
"source": [
" \n",
"l= 0.180; //wavelength, nm\n",
"l= l* 10^(-9); //converting to m\n",
"c= 3*(10^8); //velocity of light, m/s\n",
"f= c/l; //frequency, Hz\n",
"R= 1.097*(10^7); //Rydberg's constant, per m\n",
"Z= 1+(sqrt((4*f)/(3*c*R))); //using Eqn 7.21\n",
"disp(Z,'The element has atomic number: ')\n",
" \n",
"//Result\n",
"// The element has atomic number:    \n",
"//   26.985424  "
   ]
   }
],
"metadata": {
		  "kernelspec": {
		   "display_name": "Scilab",
		   "language": "scilab",
		   "name": "scilab"
		  },
		  "language_info": {
		   "file_extension": ".sce",
		   "help_links": [
			{
			 "text": "MetaKernel Magics",
			 "url": "https://github.com/calysto/metakernel/blob/master/metakernel/magics/README.md"
			}
		   ],
		   "mimetype": "text/x-octave",
		   "name": "scilab",
		   "version": "0.7.1"
		  }
		 },
		 "nbformat": 4,
		 "nbformat_minor": 0
}
