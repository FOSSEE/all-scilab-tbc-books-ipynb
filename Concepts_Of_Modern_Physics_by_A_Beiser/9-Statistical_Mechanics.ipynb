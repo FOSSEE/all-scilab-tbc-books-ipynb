{
"cells": [
 {
		   "cell_type": "markdown",
	   "metadata": {},
	   "source": [
       "# Chapter 9: Statistical Mechanics"
	   ]
	},
{
		   "cell_type": "markdown",
		   "metadata": {},
		   "source": [
			"## Example 9.1: Atoms_of_hydroge.sci"
		   ]
		  },
  {
"cell_type": "code",
	   "execution_count": null,
	   "metadata": {
	    "collapsed": true
	   },
	   "outputs": [],
"source": [
"k= 8.617*10^(-5); //Boltzmann constant, eV/K\n",
"To=273; //initial temperature, K\n",
"E1= -13.6; //energy of ground state, eV\n",
"E2= -3.4; //energy of first excited state, eV\n",
"dE= E2-E1; //difference in energy levels\n",
"g1=2; //number of energy states for E1\n",
"g2=8; //number of energy states for E2\n",
"\n",
"J= dE/(k*To);\n",
"Nratio1= (g2/g1)*(%e)^(-J); //ratio of number of atoms in level 2 and level 1 at To\n",
"\n",
"T1=10273; //K\n",
"J1= J*To/T1; \n",
"Nratio2= (g2/g1)*(%e)^(-J1); //at T1\n",
"\n",
"disp(To,'The ration at 273 K is: ')\n",
"disp(T1,'The ratio at 10273 k is: ')"
   ]
   }
,
{
		   "cell_type": "markdown",
		   "metadata": {},
		   "source": [
			"## Example 9.4: RMS_speed_of_oxygen_molecule.sci"
		   ]
		  },
  {
"cell_type": "code",
	   "execution_count": null,
	   "metadata": {
	    "collapsed": true
	   },
	   "outputs": [],
"source": [
" \n",
"Moxygen= 16.0; //atomic mass,u\n",
"Mo2= 32.0; //Molecular mass, u\n",
"u= 1.66*(10^(-27)); //atomic mass unit, kg\n",
"Moxygen= Mo2*u; //mass, kg\n",
"t= 273; //temperature, K\n",
"k= 1.38*10^(-23); //Boltzmann constant, J/K\n",
"Vrms= sqrt(3*k*t/Moxygen); // m/s\n",
"disp(Vrms,'The rms velocity of oxygen is: ')\n",
" \n",
"//Result\n",
"// The rms velocity of oxygen is:    \n",
"//   461.26708  "
   ]
   }
,
{
		   "cell_type": "markdown",
		   "metadata": {},
		   "source": [
			"## Example 9.5: Photons.sci"
		   ]
		  },
  {
"cell_type": "code",
	   "execution_count": null,
	   "metadata": {
	    "collapsed": true
	   },
	   "outputs": [],
"source": [
" \n",
"//Part (a)\n",
"V= 1.00; //volume, cm^3\n",
"V= V*10^(-6); //converting to m^3\n",
"dI= 2.404; //standard value of definite Integral used\n",
"k= 8.617*10^(-5); //Boltzmann constant, eV/K\n",
"h= 4.13*(10^(-15)); //Planck's constant, eV.s\n",
"T= 1000; //temperature, K\n",
"c= 3 *(10^8); //speed of light, m/s\n",
"N= 8*(%pi)*V*dI*[(k*T/(h*c))^3];\n",
"disp(N,'the number of photons is: ')\n",
" \n",
"//Result\n",
"// the number of photons is:    \n",
"//    2.032D+10  \n",
" \n",
"//Part(b)\n",
"Sig= 5.670*10^(-8); //Stefan's constant, W/m^2.K^4 , refer to Page 317\n",
"Ephoton= Sig*(c^2)*(h^3)*T/(2.405*(2*(%pi)*(k^3))); //J\n",
"disp(Ephoton,'The average energy of the photons, in J, is: ')\n",
"\n",
"//Result\n",
"// The average energy of the photons, in J, is:    \n",
"//   3.718D-20  "
   ]
   }
,
{
		   "cell_type": "markdown",
		   "metadata": {},
		   "source": [
			"## Example 9.6: Energy_density_of_radiation.sci"
		   ]
		  },
  {
"cell_type": "code",
	   "execution_count": null,
	   "metadata": {
	    "collapsed": true
	   },
	   "outputs": [],
"source": [
" \n",
"T= 2.7; //blackbody temperature, K\n",
"Lambda= 2.898*10^(-3)/T; //using wein's displacement law, Eqn 9.40, m\n",
"Lambda= Lambda*10^(3); //converting to mm\n",
"disp(Lambda,'The wavelength for maximum radiation, in mm, is: ')\n",
" \n",
"//Result\n",
"// The wavelength for maximum radiation, in mm, is:    \n",
"//    1.0733333 "
   ]
   }
,
{
		   "cell_type": "markdown",
		   "metadata": {},
		   "source": [
			"## Example 9.7: Surface_temperature_of_su.sci"
		   ]
		  },
  {
"cell_type": "code",
	   "execution_count": null,
	   "metadata": {
	    "collapsed": true
	   },
	   "outputs": [],
"source": [
" \n",
"Rearth= 1.5*10^(11); //radius of earth, m\n",
"r= 1.4; //rate of arrival of sunlight, kW/m^2\n",
"P= (r*10^3)*4*(%pi)*(Rearth^2); //total power reaching Earth\n",
"Rsun= 7*10^(8); //radius of Sun, m\n",
"r2= P/(4*(%pi)*(Rsun^2)); //radiation rate of Sun, W/m^2\n",
"emissivity=1; //for blackbody\n",
"Sig= 5.670*10^(-8); //Stefan's constant, W/m^2.K^4\n",
"T= [r2/(emissivity*Sig)]^(1/4);\n",
"disp(T,'The surface temperature of Sun, in K, is: ')\n",
" \n",
"//Result\n",
"//The surface temperature of Sun, in K, is:    \n",
"//   5802.7366  "
   ]
   }
,
{
		   "cell_type": "markdown",
		   "metadata": {},
		   "source": [
			"## Example 9.8: Fermi_energy_in_copper.sci"
		   ]
		  },
  {
"cell_type": "code",
	   "execution_count": null,
	   "metadata": {
	    "collapsed": true
	   },
	   "outputs": [],
"source": [
"\n",
"u= 1.66*(10^(-27)); //atomic mass unit, kg\n",
"density= 8.94*10^(3); // kg/m^3\n",
"M= 63.5; //atomic mass of copper, u\n",
"Edensity= density/(M*u); //electron density, electrons/m^3\n",
"h= 6.63*(10^(-34)); //Planck's constant, J.s\n",
"Me= 9.1*(10^(-31)); //mass of electron, kg\n",
"Efermi= h^2/(2*Me)*[(3*Edensity)/(8*(%pi))]^(2/3); // J\n",
"disp(Efermi,'The fermi energy, in J, is: ')\n",
" \n",
"//Result\n",
"//The fermi energy, in J, is:    \n",
"//    1.130D-18  "
   ]
   }
],
"metadata": {
		  "kernelspec": {
		   "display_name": "Scilab",
		   "language": "scilab",
		   "name": "scilab"
		  },
		  "language_info": {
		   "file_extension": ".sce",
		   "help_links": [
			{
			 "text": "MetaKernel Magics",
			 "url": "https://github.com/calysto/metakernel/blob/master/metakernel/magics/README.md"
			}
		   ],
		   "mimetype": "text/x-octave",
		   "name": "scilab",
		   "version": "0.7.1"
		  }
		 },
		 "nbformat": 4,
		 "nbformat_minor": 0
}
