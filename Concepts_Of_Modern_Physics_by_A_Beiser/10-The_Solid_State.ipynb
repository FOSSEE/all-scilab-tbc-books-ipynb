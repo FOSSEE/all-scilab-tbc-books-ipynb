{
"cells": [
 {
		   "cell_type": "markdown",
	   "metadata": {},
	   "source": [
       "# Chapter 10: The Solid State"
	   ]
	},
{
		   "cell_type": "markdown",
		   "metadata": {},
		   "source": [
			"## Example 10.1: Cohesive_energy_in_NaCl.sci"
		   ]
		  },
  {
"cell_type": "code",
	   "execution_count": null,
	   "metadata": {
	    "collapsed": true
	   },
	   "outputs": [],
"source": [
" \n",
"Ro= 0.281; //equilibrium distance between ions, nm\n",
"alpha= 1.748; //Madelung constant\n",
"n= 9; //exponent, from observed compressibilities of NaCl\n",
"e= 1.6*(10^(-19)); //charge of an electron, C\n",
"Po= 8.85*(10^(-12)); //Permittivity of free space, F/m\n",
"K=1/(4*(%pi)*Po); //constant, N.m^2/C^2\n",
"Uo= -(K*alpha*(e^2)*(1-(1/n)))/(Ro*(10^(-9))); //Potential energy per ion pair, J\n",
"Uo= Uo/e; //converting to eV\n",
"E1= 5.14; //Ionisation energy for Na, eV\n",
"E2= -3.61; //electron affinity of Cl, eV\n",
"E= E1+E2; //Electron transfer energy, eV\n",
"Ecohesive = (Uo +E); //per electron pair, eV\n",
"Ecohesive= Ecohesive/2; //for each ion, eV\n",
"disp(Ecohesive,'The cohesive energy in NaCl, in eV, is: ')\n",
"\n",
"//Result\n",
"// The cohesive energy in NaCl, in eV, is:    \n",
"//  - 3.2125847  "
   ]
   }
,
{
		   "cell_type": "markdown",
		   "metadata": {},
		   "source": [
			"## Example 10.2: Drift_velocity.sci"
		   ]
		  },
  {
"cell_type": "code",
	   "execution_count": null,
	   "metadata": {
	    "collapsed": true
	   },
	   "outputs": [],
"source": [
" \n",
"A= 1; //cross-sectional area of wire, mm^2\n",
"I= 1; //current in wire, A\n",
"n= 8.5*(10^28); // electrons/m^3\n",
"e= 1.6*(10^(-19)); //charge of an electron, C\n",
"Vdrift= I/(n*(A*(10^(-6)))*e); //m/s\n",
"disp(Vdrift,'The drift velocity of electrons in the copper wire, in m/s, is: ')\n",
" \n",
"//Result\n",
"// The drift velocity of electrons in the copper wire, in m/s, is:    \n",
"//    0.0000735 "
   ]
   }
,
{
		   "cell_type": "markdown",
		   "metadata": {},
		   "source": [
			"## Example 10.3: Mean_free_path.sci"
		   ]
		  },
  {
"cell_type": "code",
	   "execution_count": null,
	   "metadata": {
	    "collapsed": true
	   },
	   "outputs": [],
"source": [
" \n",
"n= 8.48*(10^28); //free electron density, m^(-3)\n",
"Vfermi= 1.57*(10^6); //Fermi Velocity, m/s\n",
"rho= 1.72*(10^(-8)); //resistivity, ohm\n",
"e= 1.6*(10^(-19)); //charge of an electron, C\n",
"Me= 9.1*(10^(-31)); //mass of electron, kg\n",
"lambda= Me*Vfermi/(n*(e^2)*rho); //m\n",
"lambda= lambda*(10^9); //converting to nm\n",
"disp(lambda,'The mean free path, in nm, is: ')\n",
" \n",
"//Result\n",
"// The mean free path, in nm, is:    \n",
"//    38.262803  "
   ]
   }
],
"metadata": {
		  "kernelspec": {
		   "display_name": "Scilab",
		   "language": "scilab",
		   "name": "scilab"
		  },
		  "language_info": {
		   "file_extension": ".sce",
		   "help_links": [
			{
			 "text": "MetaKernel Magics",
			 "url": "https://github.com/calysto/metakernel/blob/master/metakernel/magics/README.md"
			}
		   ],
		   "mimetype": "text/x-octave",
		   "name": "scilab",
		   "version": "0.7.1"
		  }
		 },
		 "nbformat": 4,
		 "nbformat_minor": 0
}
