{
"cells": [
 {
		   "cell_type": "markdown",
	   "metadata": {},
	   "source": [
       "# Chapter 11: Nuclear Structure"
	   ]
	},
{
		   "cell_type": "markdown",
		   "metadata": {},
		   "source": [
			"## Example 11.1: Density_of_Carbon12_nucleus.sci"
		   ]
		  },
  {
"cell_type": "code",
	   "execution_count": null,
	   "metadata": {
	    "collapsed": true
	   },
	   "outputs": [],
"source": [
" \n",
"u= 1.66*(10^(-27)); //atomic mass unit, kg\n",
"Mc= 12*u; // atomic mass of Carbon-12, kg\n",
"R= 2.7; //radius of nucleus, fm\n",
"R=R*(10^(-15)); //converting to m\n",
"density= Mc/((4/3)*(%pi)*(R^3)); // kg/m^3\n",
"disp(density,'Density of Carbon 12 nucleus, in kg/m^3, is: ')\n",
" \n",
"//Result\n",
"// Density of Carbon 12 nucleus, in kg/m^3, is:    \n",
"//    2.416D+17"
   ]
   }
,
{
		   "cell_type": "markdown",
		   "metadata": {},
		   "source": [
			"## Example 11.2: Repulsive_electric_force.sci"
		   ]
		  },
  {
"cell_type": "code",
	   "execution_count": null,
	   "metadata": {
	    "collapsed": true
	   },
	   "outputs": [],
"source": [
"\n",
"r= 2.4; //distance between centre of the protons, fm\n",
"r= r*(10^(-15)); //converting to m\n",
"e= 1.6*(10^(-19)); //charge of an electron, C\n",
"Po= 8.85*(10^(-12)); //Permittivity of free space, F/m\n",
"K=1/(4*(%pi)*Po); //constant, N.m^2/C^2\n",
"F= K*(e^2)/(r^2); //N\n",
"disp(F,'The repulsive force, in N, is: ')\n",
" \n",
"//Result\n",
"// The repulsive force, in N, is:    \n",
"//    39.963576 "
   ]
   }
,
{
		   "cell_type": "markdown",
		   "metadata": {},
		   "source": [
			"## Example 11.3: Proton_in_a_magnetic_field.sci"
		   ]
		  },
  {
"cell_type": "code",
	   "execution_count": null,
	   "metadata": {
	    "collapsed": true
	   },
	   "outputs": [],
"source": [
" \n",
"//Part (a)\n",
"//Caption: find energy difference between spin-up ad spin-down states\n",
"B= 1; //strength of magnetic field, T\n",
"Mneutron= 3.152*(10^(-8)); //Magnetic moment for neutron, eV/T\n",
"Mproton= 2.793*Mneutron; //Magnetic moment for proton, eV/T\n",
"dE= 2*Mproton*B; //eV\n",
"disp(dE,'The energy difference, in eV, is: ')\n",
" \n",
"//Result\n",
"// The energy difference, in eV, is:    \n",
"//   0.0000002  \n",
" \n",
"//Part (b)\n",
"//Caption: find Larmor frequency for a proton in the field\n",
"h= 4.13*(10^(-15)); //Planck's constant, eV.s\n",
"Flarmor= dE/h; //Hz\n",
"Flarmor= Flarmor/(10^6); //converting to MHz\n",
"disp(Flarmor,'The Larmor frequency for a proton in the field, in MHZ, is: ')\n",
" \n",
"//Result\n",
"// The Larmor frequency for a proton in the field, in MHZ, is:    \n",
"//    42.632136"
   ]
   }
,
{
		   "cell_type": "markdown",
		   "metadata": {},
		   "source": [
			"## Example 11.4: Atomic_mass_of_Neon20_isotope.sci"
		   ]
		  },
  {
"cell_type": "code",
	   "execution_count": null,
	   "metadata": {
	    "collapsed": true
	   },
	   "outputs": [],
"source": [
" \n",
"Ebinding= 160.647; //binding nergy, MeV\n",
"Mh= 1.007825; //Mass of H1 atom, u\n",
"Mn= 1.008665; //Mass of neutron, u\n",
"Z=10; //number of protons\n",
"N=10; //number of neutrons\n",
"Mneon= [(Z*Mh)+(N*Mn)]-[Ebinding/931.49]; //using Eqn 11.7\n",
"disp(Mneon,'The atomic mass of Neon 10 isotope, in terms of U, is: ')\n",
"\n",
"//Result\n",
"// The atomic mass of Neon 10 isotope, in terms of U, is:    \n",
"//   19.992438 "
   ]
   }
,
{
		   "cell_type": "markdown",
		   "metadata": {},
		   "source": [
			"## Example 11.6: Binding_energy_of_Zinc64_isotope.sci"
		   ]
		  },
  {
"cell_type": "code",
	   "execution_count": null,
	   "metadata": {
	    "collapsed": true
	   },
	   "outputs": [],
"source": [
" \n",
"Z= 30; //proton number\n",
"N=34; //Neutron number\n",
" \n",
"//Using Eqn 11.7\n",
"Mh= 1.007825; //Mass of H1 atom, u\n",
"Mn= 1.008665; //Mass of neutron, u\n",
"Mzinc= 63.929; //atomic mass of zinc, u\n",
"Ebinding= [(Z*Mh)+(N*Mn)-Mzinc]*931.49; //MeV\n",
"disp(Ebinding,'Binding energy of Zinc 64 isotope, in MeV, is: ')\n",
" \n",
"//Result\n",
"// Binding energy of Zinc 64 isotope, in MeV, is:    \n",
"//    559.22934  \n",
"\n",
" \n",
"//Using semiempirical formula, Eqn 11.18, Page  407\n",
"a1= 14.1; //Mev\n",
"a2= 13.0; //MeV\n",
"a3= 0.595; //Mev\n",
"a4= 19.0;  //MeV\n",
"a5= 33.5; //MeV\n",
"A= Z+N;\n",
" \n",
"E2= [(a1*A)-(a2*(A^(2/3)))-(a3*Z*(Z-1)/(A^(1/3)))-(a4*((A-2*Z)^2)/A)+(a5/(A^(3/4)))]; //MeV\n",
"disp(E2,'The binding energy using semi-empirical formula, in MeV, is: ')\n",
" \n",
"//Result\n",
"// The binding energy using semi-empirical formula, in MeV, is:    \n",
"//   561.718  "
   ]
   }
],
"metadata": {
		  "kernelspec": {
		   "display_name": "Scilab",
		   "language": "scilab",
		   "name": "scilab"
		  },
		  "language_info": {
		   "file_extension": ".sce",
		   "help_links": [
			{
			 "text": "MetaKernel Magics",
			 "url": "https://github.com/calysto/metakernel/blob/master/metakernel/magics/README.md"
			}
		   ],
		   "mimetype": "text/x-octave",
		   "name": "scilab",
		   "version": "0.7.1"
		  }
		 },
		 "nbformat": 4,
		 "nbformat_minor": 0
}
