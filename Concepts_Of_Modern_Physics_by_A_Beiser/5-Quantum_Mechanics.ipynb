{
"cells": [
 {
		   "cell_type": "markdown",
	   "metadata": {},
	   "source": [
       "# Chapter 5: Quantum Mechanics"
	   ]
	},
{
		   "cell_type": "markdown",
		   "metadata": {},
		   "source": [
			"## Example 5.4: Positional_probability.sci"
		   ]
		  },
  {
"cell_type": "code",
	   "execution_count": null,
	   "metadata": {
	    "collapsed": true
	   },
	   "outputs": [],
"source": [
" \n",
"L= 1; //assuming Length L of box to be 1, this would not affect the probability\n",
"x1=0.45*L; //lower bound\n",
"x2=0.55*L; //upper bound\n",
" \n",
"function y=f(x)\n",
"y= ((sin(n*(%pi)*x))^2)\n",
"endfunction      //defined the function\n",
"\n",
"n=1;\n",
"P1= (2/L)*intg(x1,x2,f); //for ground state\n",
"\n",
"n=2;\n",
"P2= (2/L)*intg(x1,x2,f);  //for first excited state\n",
"\n",
"disp(P1,'The probability n ground state is: ')\n",
"disp(P2,'The probability in first excited state is: ')\n",
"\n",
"//Result\n",
"// The probability n ground state is:    \n",
"//    0.1983632  \n",
"\n",
"// The probability in first excited state is:    \n",
"//    0.0064511  "
   ]
   }
,
{
		   "cell_type": "markdown",
		   "metadata": {},
		   "source": [
			"## Example 5.6: Transmission_probability.sci"
		   ]
		  },
  {
"cell_type": "code",
	   "execution_count": null,
	   "metadata": {
	    "collapsed": true
	   },
	   "outputs": [],
"source": [
"\n",
"//Part (a)\n",
"E1= 1.0; //energy of first electron, eV\n",
"E2= 2.0; //energy of second electron, eV\n",
"Eb= 10.0; //height of barrier, eV\n",
"Wb= 0.50; //width of barrier, nm\n",
"Wb= Wb* 10^(-9); //converting to m\n",
"hbar= 1.054*(10^(-34)); //reduced Planck's conctaant, J.s\n",
"Me= 9.1*(10^(-31)); //mass of electron, kg\n",
"e= 1.6*(10^(-19)); //charge of an electron, J/eV\n",
"k1= sqrt(2*Me*(Eb-E1)*e)/hbar; //for first electron, m^(-1)\n",
"k2= sqrt(2*Me*(Eb-E2)*e)/hbar; //for second electron, m^(-1)\n",
"T1= (%e)^((-2)*k1*Wb) //transmission probability for first electron\n",
"T2= (%e)^((-2)*k2*Wb) //for second electron\n",
"disp(T1,'Transmission probability for electrons with energy 1.0 eV is: ')\n",
"disp(T2,'Transmission probability for electrons with energy 2.0 eV is: ')\n",
"\n",
"//Part (b)\n",
"Wb= Wb*2; //Barrier width doubled\n",
"T11= (%e)^((-2)*k1*Wb) // changed transmission probability for first electron\n",
"T22= (%e)^((-2)*k2*Wb) //for second electron\n",
"disp(T11,'Transmission probability for electrons with energy 1.0 eV is: ')\n",
"disp(T22,'Transmission probability for electrons with energy 2.0 eV is: ')"
   ]
   }
],
"metadata": {
		  "kernelspec": {
		   "display_name": "Scilab",
		   "language": "scilab",
		   "name": "scilab"
		  },
		  "language_info": {
		   "file_extension": ".sce",
		   "help_links": [
			{
			 "text": "MetaKernel Magics",
			 "url": "https://github.com/calysto/metakernel/blob/master/metakernel/magics/README.md"
			}
		   ],
		   "mimetype": "text/x-octave",
		   "name": "scilab",
		   "version": "0.7.1"
		  }
		 },
		 "nbformat": 4,
		 "nbformat_minor": 0
}
