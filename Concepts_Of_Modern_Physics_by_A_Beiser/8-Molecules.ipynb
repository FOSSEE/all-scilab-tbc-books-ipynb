{
"cells": [
 {
		   "cell_type": "markdown",
	   "metadata": {},
	   "source": [
       "# Chapter 8: Molecules"
	   ]
	},
{
		   "cell_type": "markdown",
		   "metadata": {},
		   "source": [
			"## Example 8.1: Energy_and_angular_velocity.sci"
		   ]
		  },
  {
"cell_type": "code",
	   "execution_count": null,
	   "metadata": {
	    "collapsed": true
	   },
	   "outputs": [],
"source": [
" \n",
"//Part (a)\n",
"r= 0.113; //bond length, nm\n",
"Mc= 1.99*(10^(-26)); //mass of C12, kg\n",
"Mo= 2.66*(10^(-26)); //mass of O16, kg\n",
"Mco= (Mc*Mo)/(Mc+Mo); //mass of CO, kg\n",
"I= Mco*((r*(10^(-9)))^2); //moment of inertia, kg.m^2\n",
"J=1; //lowest rotational state\n",
"h= 6.63*(10^(-34)); //Planck's constant, J.s\n",
"hbar= h/(2*(%pi)); //reduced Planck's constant, J.s\n",
"E1= (J*(J+1)*(hbar^2))/(2*I); //energy corresponding to state J=1, J\n",
"e= 1.6*(10^(-19)); //charge of an electron, C\n",
"E1= E1/e; //converting to eV\n",
"disp(E1,'The energy of CO molecule, in eV, is: ')\n",
"\n",
"//Result\n",
"// The energy of CO molecule, in eV, is:    \n",
"//    0.0004787  \n",
" \n",
"//Part(b)\n",
"w= sqrt((2*E1*e)/(I)); //angular velocity, rad/s\n",
"disp(w,'The angular velocity, in rad.sec, is: ')\n",
"\n",
"//Result\n",
"// The angular velocity, in rad.sec, is:    \n",
"//    1.027D+12"
   ]
   }
,
{
		   "cell_type": "markdown",
		   "metadata": {},
		   "source": [
			"## Example 8.2: Bond_length_of_CO.sci"
		   ]
		  },
  {
"cell_type": "code",
	   "execution_count": null,
	   "metadata": {
	    "collapsed": true
	   },
	   "outputs": [],
"source": [
"\n",
"Ji=0; //initial state\n",
"Jf=1; //final state\n",
"f= 1.15*(10^11); //frequency for the absorption, Hz\n",
"h= 6.63*(10^(-34)); //Planck's constant, J.s\n",
"hbar= h/(2*(%pi)); //reduced Planck's constant, J.s\n",
"Ico= hbar*Jf/(2*(%pi)*f); //moment of inertia, kg.m^2\n",
"Mco= 1.14*(10^(-26)); //Mass of CO, refer Exa 8.1\n",
"r= sqrt(Ico/Mco); //bond length, m\n",
"r= r*(10^9); //converting to nm\n",
"disp(r,'The bond length of CO molecule, in nm, is: ')\n",
" \n",
"//Result\n",
"// The bond length of CO molecule, in nm, is:    \n",
"//    0.1131815"
   ]
   }
,
{
		   "cell_type": "markdown",
		   "metadata": {},
		   "source": [
			"## Example 8.3: Infrared_radiation_by_CO.sci"
		   ]
		  },
  {
"cell_type": "code",
	   "execution_count": null,
	   "metadata": {
	    "collapsed": true
	   },
	   "outputs": [],
"source": [
"//Part (a)\n",
"f= 6.42*(10^13); //frequency of absorbed radiation, Hz\n",
"Mco= 1.14*(10^(-26)); //mass of CO, kg\n",
"k= 4*((%pi)^2)*(f^2)*Mco; //using Eqn 8.15, Page 287\n",
"disp(k,'The forcs constant for the bond in CO molecule, in N/m, is: ')\n",
" \n",
"//Result\n",
"// The forcs constant for the bond in CO molecule, in N/m, is:    \n",
"//    1854.9604  \n",
" \n",
"//Part (b)\n",
"h= 6.63*(10^(-34)); //Planck's constant, J.s\n",
"dE= h*f; //separation, J\n",
"disp(dE,'The separation in its vibrational eergy levels, in J, is: ')\n",
" \n",
"//Result\n",
"// The separation in its vibrational eergy levels, in J, is:    \n",
"//    4.256D-20"
   ]
   }
],
"metadata": {
		  "kernelspec": {
		   "display_name": "Scilab",
		   "language": "scilab",
		   "name": "scilab"
		  },
		  "language_info": {
		   "file_extension": ".sce",
		   "help_links": [
			{
			 "text": "MetaKernel Magics",
			 "url": "https://github.com/calysto/metakernel/blob/master/metakernel/magics/README.md"
			}
		   ],
		   "mimetype": "text/x-octave",
		   "name": "scilab",
		   "version": "0.7.1"
		  }
		 },
		 "nbformat": 4,
		 "nbformat_minor": 0
}
