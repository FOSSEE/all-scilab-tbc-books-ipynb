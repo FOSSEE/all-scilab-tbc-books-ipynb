{
"cells": [
 {
		   "cell_type": "markdown",
	   "metadata": {},
	   "source": [
       "# Chapter 1: Relativity"
	   ]
	},
{
		   "cell_type": "markdown",
		   "metadata": {},
		   "source": [
			"## Example 1.11: Speed_of_Spacecraft_Beta.sci"
		   ]
		  },
  {
"cell_type": "code",
	   "execution_count": null,
	   "metadata": {
	    "collapsed": true
	   },
	   "outputs": [],
"source": [
" \n",
"c=3*(10^8); //velocity of light, m/s\n",
"VaE= 0.90*c; //velocity of spacecraft alpha w.r.t Earth, m/s\n",
"VbA= 0.50*c; //velocity of spacecraft beta w.r.t. Alpha, m/s\n",
"\n",
"VbE= (VaE+VbA)/(1+((VaE*VbA)/(c^2))); //velocity of beta w.r.t Earth, m/s\n",
"VbE=VbE/c; //Converting to percent of c\n",
"\n",
"disp(VbE,'The required velocity of spacecraft Beta w.r.t. Earth, in m/s, in terms of percent of c, is: ')\n",
" \n",
"//Result\n",
"\n",
"// The required velocity of spacecraft Beta w.r.t. Earth, in m/s, in terms of percent of c, is:    \n",
"//    0.9655172  "
   ]
   }
,
{
		   "cell_type": "markdown",
		   "metadata": {},
		   "source": [
			"## Example 1.1: Speed_of_spaceship_relative_to_Earth.sci"
		   ]
		  },
  {
"cell_type": "code",
	   "execution_count": null,
	   "metadata": {
	    "collapsed": true
	   },
	   "outputs": [],
"source": [
" \n",
"t0= 3600; // time interval on Earth, seconds\n",
"t= 3601; //time interval for spacecraft as measured from Earth, seconds\n",
"c= 2.998 *(10^8); //speed of light, m/s\n",
"v=c*sqrt((1-((t0/t)^2))); //relative velocity of spacecraft, m/s\n",
"disp(v,'The speed of the Spacecraft relative to Earth (in m/s) is: ')\n",
"\n",
"//Result\n",
"//The speed of the Spacecraft relative to Earth (in m/s) is:    \n",
"//    7064882."
   ]
   }
,
{
		   "cell_type": "markdown",
		   "metadata": {},
		   "source": [
			"## Example 1.2: Fine_imposed_on_speeding_driver.sci"
		   ]
		  },
  {
"cell_type": "code",
	   "execution_count": null,
	   "metadata": {
	    "collapsed": true
	   },
	   "outputs": [],
"source": [
"\n",
"fg= 5.6*(10^14); //frequency of green color, Hz\n",
"fr= 4.8*(10^14); //frequency of red color, Hz\n",
"c= 3*(10^8); //velocity of light, m/s\n",
"v= c*((fg^2 - fr^2)/(fg^2 + fr^2)); //longitudinal speed of observer, m/s\n",
"v= v*3.6; //convert to km/h\n",
"R= 1; //rate at which fine is to be imposed per km/h, $\n",
"l= 80; //speed limit upto which no fine is to be imposed, km/h\n",
"fine= v-l; // fine to be imposed,  $\n",
"disp(fine,'The fine imposed (in $) is: ')\n",
" \n",
"//Result\n",
"// The fine imposed (in $) is:    \n",
"//  1.652D+08  "
   ]
   }
,
{
		   "cell_type": "markdown",
		   "metadata": {},
		   "source": [
			"## Example 1.3: Red_shift_in_green_spectral_line.sci"
		   ]
		  },
  {
"cell_type": "code",
	   "execution_count": null,
	   "metadata": {
	    "collapsed": true
	   },
	   "outputs": [],
"source": [
"\n",
"v= 6.12*(10^7); //receding velocity with respect to Earth, m/s\n",
"c= 3*(10^8); //velocity of light, m/s\n",
"L0= 500; //initial wavelength of spectral line, nm\n",
"L= L0*sqrt(((1+(v/c))/(1-(v/c)))); //final wavelength of spectral light, nm\n",
"Ls= L-L0; //shift in wavelength, nm\n",
"disp(Ls,'Shift in Green spectral line (in nm) is: ')\n",
" \n",
"//Result\n",
"// Shift in Green spectral line (in nm) is:    \n",
"//    114.93146  \n",
" "
   ]
   }
,
{
		   "cell_type": "markdown",
		   "metadata": {},
		   "source": [
			"## Example 1.4: Signals_received_by_Dick_and_Jane.sci"
		   ]
		  },
  {
"cell_type": "code",
	   "execution_count": null,
	   "metadata": {
	    "collapsed": true
	   },
	   "outputs": [],
"source": [
"\n",
"StartingAge= 20; //starting age for both Dick and Jane\n",
"c= 3*(10^8); //velocity of light, m/s\n",
"v= 0.8*c; //rate of separation of Dick and Jane, m/s\n",
"t0= 1; //interval for emission of signals, yr\n",
"t1= t0*((1+v/c)/(1-v/c)); //interval for reception of signals on outward journey, yr\n",
"t1= t0*(sqrt((1+v/c)/(1-v/c))); //interval for reception of signals on outward journey, yr\n",
"t2= t0*(sqrt((1-v/c)/(1+v/c))); //interval for reception of signals on return trip, yr\n",
"\n",
"//Dick's frame of reference\n",
"Tout1= 15; //duration of outward trip, yr\n",
"Tin1= 15; //duration of return trip, yr\n",
"JaneAge= StartingAge+(Tout1/t1)+(Tin1/t2); //Jane's age according to Dick\n",
"\n",
"//Jane's frame of reference\n",
"Tout2= 25; //duration of outward trip, yr\n",
"d= 20; //delay in transmission of signal to Jane, caused by distance of the star, yr\n",
"Tin2= 5; //duration of return trip\n",
"DickAge= StartingAge+((Tout2+d)/t1)+(Tin2/t2); //Dick's age according to JAne\n",
"\n",
"\n",
"disp(JaneAge,'According to Dick, age of Jane(in yr) is:')\n",
"disp(DickAge,'According to Jane, age of Dick(in yr) is:')\n",
" \n",
"//Result\n",
" \n",
"// According to Dick, age of Jane(in yr) is:   \n",
"//   70.  \n",
" \n",
"// According to Jane, age of Dick(in yr) is:   \n",
"//   50.  "
   ]
   }
,
{
		   "cell_type": "markdown",
		   "metadata": {},
		   "source": [
			"## Example 1.6: Mass_of_body_before_explosio.sci"
		   ]
		  },
  {
"cell_type": "code",
	   "execution_count": null,
	   "metadata": {
	    "collapsed": true
	   },
	   "outputs": [],
"source": [
" \n",
"mf= 1; //mass of each entity, kg\n",
"c= 3*(10^8); //velocity of light, m/s\n",
"v= 0.6*c; //velocity of fragments relative to original body, m/s\n",
"E0= 2*((mf*(c^2))/sqrt(1-((v/c)^2))); //Total energy of fragments\n",
"m= E0/(c^2); //mass of original body, kg\n",
"disp(m,'The total mass of the stationary body (in kg) is: ')\n",
" \n",
"//Result\n",
"// The total mass of the stationary body (in kg) is:    \n",
"//    2.5  "
   ]
   }
,
{
		   "cell_type": "markdown",
		   "metadata": {},
		   "source": [
			"## Example 1.7: Mass_of_Sun_lost_in_radiation.sci"
		   ]
		  },
  {
"cell_type": "code",
	   "execution_count": null,
	   "metadata": {
	    "collapsed": true
	   },
	   "outputs": [],
"source": [
"\n",
"r=1.4; // Rate of arrival of Solar Energy at erath, kW per square meter\n",
"R=1.5*(10^11); //Radius of Earth, m\n",
"pi=22/7; //Mathematical constant\n",
"\n",
"P=r*(4*pi*(R^2)); //Total power recieved by Earth, kW\n",
"P= P*(10^3); //W\n",
"\n",
"C= 3*(10^8); //Velocity of light, m/s\n",
"E=P; //Energy lost by Sun, J\n",
" \n",
"m= E/(C^2); //Mass of Sun lost per second as energy, kg\n",
"disp(m,'Mass lost by sun per second, in Kg, is:')\n",
"\n",
"//Result\n",
" \n",
"// Mass lost by sun per second, in Kg, is:   \n",
"//    4.400D+09  \n",
" "
   ]
   }
,
{
		   "cell_type": "markdown",
		   "metadata": {},
		   "source": [
			"## Example 1.8: Total_energy_for_electron_and_photon.sci"
		   ]
		  },
  {
"cell_type": "code",
	   "execution_count": null,
	   "metadata": {
	    "collapsed": true
	   },
	   "outputs": [],
"source": [
" \n",
"c= 3*(10^8); //Velocity of light, m/s\n",
"me= 0.511/(c^2); //mass of electron, MeV\n",
"mp=0; //mass of proton, MeV\n",
"p= 2.000/c; //momenta for both particles, MeV\n",
" \n",
"////Using Eq. 1.24 and 1.25, Page 31 \n",
"Ee=sqrt(((me^2)*(c^4))+((p^2)*(c^2))); //Total energy of electron, MeV\n",
"Ep= p*c; //Total energy of proton, MeV\n",
"\n",
"disp(Ee,'Total energy of Electron, in Mev, is: ')\n",
"disp(Ep,'Total energy of Photon, in Mev, is: ')\n",
" \n",
"//Results\n",
" \n",
"// Total energy of Electron, in Mev, is:    \n",
"//   2.0642483  \n",
" \n",
"// Total energy of Photon, in Mev, is:    \n",
"//    2.  "
   ]
   }
],
"metadata": {
		  "kernelspec": {
		   "display_name": "Scilab",
		   "language": "scilab",
		   "name": "scilab"
		  },
		  "language_info": {
		   "file_extension": ".sce",
		   "help_links": [
			{
			 "text": "MetaKernel Magics",
			 "url": "https://github.com/calysto/metakernel/blob/master/metakernel/magics/README.md"
			}
		   ],
		   "mimetype": "text/x-octave",
		   "name": "scilab",
		   "version": "0.7.1"
		  }
		 },
		 "nbformat": 4,
		 "nbformat_minor": 0
}
