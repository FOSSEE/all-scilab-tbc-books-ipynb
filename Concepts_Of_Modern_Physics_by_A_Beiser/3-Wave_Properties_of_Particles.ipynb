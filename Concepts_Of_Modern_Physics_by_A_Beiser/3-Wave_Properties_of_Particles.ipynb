{
"cells": [
 {
		   "cell_type": "markdown",
	   "metadata": {},
	   "source": [
       "# Chapter 3: Wave Properties of Particles"
	   ]
	},
{
		   "cell_type": "markdown",
		   "metadata": {},
		   "source": [
			"## Example 3.1: De_Broglie_wavelength.sci"
		   ]
		  },
  {
"cell_type": "code",
	   "execution_count": null,
	   "metadata": {
	    "collapsed": true
	   },
	   "outputs": [],
"source": [
"//Example 3.1 (a)\n",
"m= 46; //mass, gms\n",
"v=30; //velocity, m/s\n",
"h= 6.63*(10^(-34)); //Planck's constant, J.s\n",
"m=m/1000; //convert to kgs\n",
"a=h/(m*v); //de Broglie wavelength, m\n",
"disp(a,'The de Broglie wavelength of the golf ball (in m) is:')\n",
"\n",
"//Result\n",
"// The de Broglie wavelength of the golf ball (in m) is:   \n",
"//    4.804D-34  \n",
" \n",
"//Example 3.1(b)\n",
"m= 9.1*(10^(-31)); //mass, kg\n",
"v=10^7; //velocity, m/s\n",
"h= 6.63*(10^(-34)); //Planck's constant, J.s\n",
"a=h/(m*v); //de Broglie wavelength, mts\n",
"disp(a,'de Broglie wavelength for the electron (in m) is: ')\n",
"\n",
"//Result\n",
"// de Broglie wavelength for the electron (in m) is:    \n",
"//    7.286D-11  "
   ]
   }
,
{
		   "cell_type": "markdown",
		   "metadata": {},
		   "source": [
			"## Example 3.2: Kinetic_energy.sci"
		   ]
		  },
  {
"cell_type": "code",
	   "execution_count": null,
	   "metadata": {
	    "collapsed": true
	   },
	   "outputs": [],
"source": [
"\n",
"a=10^(-15); //de Broglie wavelength, mts\n",
"Eo= 0.938; //proton rest energy, GeV\n",
"h= 4.136*(10^(-15)); //Planck's constant, eV.s\n",
"c= 2.998*(10^8); //velocity of light, m/s\n",
"p= h/a; // p is momentum, kg.m/s \n",
"pc= (h*c)/a; //Photon's energy, ev\n",
"pc=pc*(10^(-9)); //convert to GeV\n",
"				//pc>E0, relativistic calculation\n",
"E= sqrt((Eo^2) + (pc^2)); //total energy, GeV\n",
"KE = E-Eo; //Kinetic energy, GeV\n",
"KE= KE*1000; // convert to MeV\n",
"disp(KE,'Kinetic Energy of the proton (in MeV) is: ')\n",
" \n",
" \n",
"//Result\n",
"// pc  =\n",
"//    1.2399728  \n",
"\n",
"// Kinetic Energy of the proton (in MeV) is:    \n",
"//    616.79148  "
   ]
   }
,
{
		   "cell_type": "markdown",
		   "metadata": {},
		   "source": [
			"## Example 3.3: Kinetic_energy_and_phase_and_group_velocity.sci"
		   ]
		  },
  {
"cell_type": "code",
	   "execution_count": null,
	   "metadata": {
	    "collapsed": true
	   },
	   "outputs": [],
"source": [
"\n",
"a= 2*(10^(-12)); //de Broglie wavelength, mts\n",
"h= 4.136*(10^(-15)); //Planck's constant, eV.s\n",
"c= 3*(10^8); //velocity of light, m/s\n",
"pc= (h*c)/a; //p is momentum, pc is electron's energy, eV\n",
"pc= pc/1000; //convert to keV\n",
"Eo= 511; //rest energy, keV\n",
"E= sqrt((Eo^2)+(pc^2)); //Total Energy, keV\n",
"KE= E-Eo; //Kinetic energy, keV\n",
"disp(KE,'kinetic energy of the electron (in keV) is: ')\n",
"\n",
"//Result\n",
"// kinetic energy of the electron (in keV) is:    \n",
"//    292.75193  \n",
"\n",
"vg= c*(sqrt(1-(Eo^2/E^2))) //group velocity, m/s\n",
"vp= c^2/vg //phase velocity, m/s\n",
"disp(vg,'group velocity of the electron (in m/s) is: ')\n",
"disp(vp,'phase velocity of the electron (in m/s) is: ')\n",
"\n",
"//Result\n",
"// group velocity of the electron (in m/s) is:    \n",
"//    2.316D+08\n",
"\n",
"// phase velocity of the electron (in m/s) is:    \n",
"//    3.887D+08"
   ]
   }
,
{
		   "cell_type": "markdown",
		   "metadata": {},
		   "source": [
			"## Example 3.4: Permitted_energies_of_electron.sci"
		   ]
		  },
  {
"cell_type": "code",
	   "execution_count": null,
	   "metadata": {
	    "collapsed": true
	   },
	   "outputs": [],
"source": [
"\n",
"m= 9.1*(10^(-31)); //mass, kg\n",
"L= 0.10; //length of box, nm\n",
"L= L*(10^(-9)); //convert to m\n",
"h= 6.63*(10^(-34)); //Planck's constant, J.s\n",
"\n",
"for n= 1:5; //for energy levels 1 to 5\n",
"En=(n^2)*(h^2)/(8*m*(L^2)); //Permitted energies, J\n",
"disp(n,'for level:')\n",
"disp(En,'Permitted ernergis (in J) : ')\n",
"En=38*(n^2);\n",
"disp(En, 'Permitted energies (in eV) : ')\n",
"end"
   ]
   }
,
{
		   "cell_type": "markdown",
		   "metadata": {},
		   "source": [
			"## Example 3.5: Permitted_energies_of_marble.sci"
		   ]
		  },
  {
"cell_type": "code",
	   "execution_count": null,
	   "metadata": {
	    "collapsed": true
	   },
	   "outputs": [],
"source": [
"m= 10; //mass, gms\n",
"m= m/1000 //convert to kgs\n",
"L= 10; //Length of box, cms\n",
"L= L/100 //convert to mts\n",
"h= 6.63*(10^(-34)) //Planck's constant, J.s\n",
"\n",
"for n= 1:5; //for energy levels 1 to 5\n",
"En=(n^2)*(h^2)/(8*m*(L^2)); //Permitted energies, J\n",
"disp(n,'for level:')\n",
"disp(En,'Permitted ernergis (in J) : ')\n",
"end\n",
" \n",
"//corresponding kinetic energy is very low, hence Quantum effects are imperceptible, and Newtonian mechanics is dominant"
   ]
   }
,
{
		   "cell_type": "markdown",
		   "metadata": {},
		   "source": [
			"## Example 3.6: Uncertainty_in_position.sci"
		   ]
		  },
  {
"cell_type": "code",
	   "execution_count": null,
	   "metadata": {
	    "collapsed": true
	   },
	   "outputs": [],
"source": [
"Xo= 10^(-11); //uncertainty at time t=o, mts\n",
"hb= 1.054*(10^(-34)); //h-bar, reduced Planck's constant, J.s\n",
"t= 1; //time, s\n",
"m= 1.672*(10^(-27)); //mass, kg\n",
"x1= hb*t/(2*m*Xo); //uncertainty at time t=1, mts\n",
"disp(x1,'accuracy in position of proton after 1.00 seconds (in m) is : ')\n",
" \n",
"//Result\n",
"// accuracy in position of proton after 1.00 seconds (in m) is :    \n",
"//    3151.9139  "
   ]
   }
,
{
		   "cell_type": "markdown",
		   "metadata": {},
		   "source": [
			"## Example 3.7: Minimum_energy_of_electron.sci"
		   ]
		  },
  {
"cell_type": "code",
	   "execution_count": null,
	   "metadata": {
	    "collapsed": true
	   },
	   "outputs": [],
"source": [
"r= 5*(10^(-15)); //radius of nucleus, mts\n",
"Xo= 5*(10^(-15)); //assumed initial uncertainty, mts\n",
"hb= 1.054*(10^(-34)); //reduced Planck's constant, J.s\n",
"p= hb/(2*Xo); //uncertainty in momentum, kg.m/s\n",
"disp(p,'Uncertainty in momentum of the electron is : ')\n",
"\n",
"c= 3*(10^8); //velocity of light, m/s\n",
"KE= p*c; //minimum kinetic energy required, J\n",
"KE= KE/(1.6*(10^(-19))); //convert to eV\n",
"KE= KE/(10^6); //convert to MeV\n",
"disp(KE,'The minimum energy required (in MeV) is : ')\n",
" \n",
" \n",
"//Result\n",
"// Uncertainty in momentum of the electron is :    \n",
"//    1.054D-20  \n",
"\n",
"// The minimum energy required (in MeV) is :    \n",
"//    19.7625  "
   ]
   }
,
{
		   "cell_type": "markdown",
		   "metadata": {},
		   "source": [
			"## Example 3.8: Minimum_energy_for_electron.sci"
		   ]
		  },
  {
"cell_type": "code",
	   "execution_count": null,
	   "metadata": {
	    "collapsed": true
	   },
	   "outputs": [],
"source": [
"r= 5.3*(10^(-11)); //radius of atom, mts\n",
"Xo= 5.3*(10^(-11)); //uncertainty in position, mts\n",
"hb= 1.054*(10^(-34)); //Reduced planck Constant, J.s\n",
"p= hb/(2*Xo); //uncertainty in momentum, kg.m/s\n",
"m= 9.1*(10^(-31)); //mass, kg\n",
"KE= p^2/(2*m); // minimum kinetic energy, J\n",
"KE= KE/(1.6*(10^(-19))); //convert to eV\n",
"disp(KE,'The minimum possible kinetic energy for an electron in the atom (in eV) is : ')\n",
" \n",
" \n",
"//Result\n",
"// The minimum possible kinetic energy for an electron in the atom (in eV) is :    \n",
"//    3.3952997  "
   ]
   }
,
{
		   "cell_type": "markdown",
		   "metadata": {},
		   "source": [
			"## Example 3.9: Uncertainty_in_frequency.sci"
		   ]
		  },
  {
"cell_type": "code",
	   "execution_count": null,
	   "metadata": {
	    "collapsed": true
	   },
	   "outputs": [],
"source": [
"t= 10^(-8); //time period between excitation and radiation, s\n",
"hb= 1.054*(10^(-34)); //Reduced Planck's constant, J.s\n",
"Eo= hb/(2*t); //uncertainty in photon energy, J\n",
"disp(Eo,'Photon energy is uncertain by (in J) :')\n",
"h=hb*(2*(%pi)); //Planck's constant\n",
"Fo= Eo/h; //uncertainty in frequency of light, Hz\n",
"disp(Fo,'Frquency of photon is uncertain by (in Hz) : ')\n",
"\n",
"//Result\n",
" \n",
"// Photon energy is uncertain by (in J) :   \n",
"//    5.270D-27  \n",
"\n",
"// Frquency of photon is uncertain by (in Hz) :    \n",
"//    7957747.2  \n",
" "
   ]
   }
],
"metadata": {
		  "kernelspec": {
		   "display_name": "Scilab",
		   "language": "scilab",
		   "name": "scilab"
		  },
		  "language_info": {
		   "file_extension": ".sce",
		   "help_links": [
			{
			 "text": "MetaKernel Magics",
			 "url": "https://github.com/calysto/metakernel/blob/master/metakernel/magics/README.md"
			}
		   ],
		   "mimetype": "text/x-octave",
		   "name": "scilab",
		   "version": "0.7.1"
		  }
		 },
		 "nbformat": 4,
		 "nbformat_minor": 0
}
