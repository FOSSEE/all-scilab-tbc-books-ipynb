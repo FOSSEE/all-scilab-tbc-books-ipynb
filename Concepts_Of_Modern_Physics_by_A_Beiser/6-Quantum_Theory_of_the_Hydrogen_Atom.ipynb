{
"cells": [
 {
		   "cell_type": "markdown",
	   "metadata": {},
	   "source": [
       "# Chapter 6: Quantum Theory of the Hydrogen Atom"
	   ]
	},
{
		   "cell_type": "markdown",
		   "metadata": {},
		   "source": [
			"## Example 6.4: Zeeman_components.sci"
		   ]
		  },
  {
"cell_type": "code",
	   "execution_count": null,
	   "metadata": {
	    "collapsed": true
	   },
	   "outputs": [],
"source": [
"\n",
"B= 0.300; //magnetic field, T\n",
"Lambda= 450; //wavelength, nm\n",
"Lambda= Lambda*(10^(-9)); //converting to m\n",
"e= 1.6*(10^(-19)); //charge of an electron, C\n",
"Me= 9.1*(10^(-31)); //mass of electron, kg\n",
"c= 3 *(10^8); //speed of light, m/s\n",
"dLambda= e*B*(Lambda^2)/(4*(%pi)*Me*c); //m\n",
"dLambda= dLambda*(10^9); //converting to nm\n",
"disp(dLambda,'The separation between Zeeman components is: ')\n",
"//Result\n",
"// The separation between Zeeman components is:    \n",
"//    0.0028333  "
   ]
   }
],
"metadata": {
		  "kernelspec": {
		   "display_name": "Scilab",
		   "language": "scilab",
		   "name": "scilab"
		  },
		  "language_info": {
		   "file_extension": ".sce",
		   "help_links": [
			{
			 "text": "MetaKernel Magics",
			 "url": "https://github.com/calysto/metakernel/blob/master/metakernel/magics/README.md"
			}
		   ],
		   "mimetype": "text/x-octave",
		   "name": "scilab",
		   "version": "0.7.1"
		  }
		 },
		 "nbformat": 4,
		 "nbformat_minor": 0
}
