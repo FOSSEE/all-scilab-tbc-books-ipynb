{
"cells": [
 {
		   "cell_type": "markdown",
	   "metadata": {},
	   "source": [
       "# Chapter 4: Atomic Structure"
	   ]
	},
{
		   "cell_type": "markdown",
		   "metadata": {},
		   "source": [
			"## Example 4.1: Orbital_radius_and_velocity_of_electron.sci"
		   ]
		  },
  {
"cell_type": "code",
	   "execution_count": null,
	   "metadata": {
	    "collapsed": true
	   },
	   "outputs": [],
"source": [
" \n",
"E= -13.6; //Energy required to separate electron and proton, eV\n",
"e= 1.6*(10^(-19)); //charge of an electron, C\n",
"E= E*e; //converting to J\n",
"Po= 8.85*(10^(-12)); //Permittivity of free space, F/m\n",
"r= e^2/(8*(%pi)*Po*E); //radius, m\n",
"r= -r;\n",
"m= 9.1*(10^(-31)); //mass of electron, kg\n",
"v=e/sqrt(4*(%pi)*Po*m*r); //velocity, m/s\n",
"\n",
"disp(r,'The orbital radius of the electron, in m, is: ')\n",
"disp(v,'The velocity of electron, in m/s, is: ')\n",
" \n",
" \n",
"//Result\n",
"//The orbital radius of the electron, in m, is:    \n",
"//    5.289D-11  \n",
"\n",
"// The velocity of electron, in m/s, is:    \n",
"//   2186873.9 "
   ]
   }
,
{
		   "cell_type": "markdown",
		   "metadata": {},
		   "source": [
			"## Example 4.2: Energy_transferred_in_inelastic_collision.sci"
		   ]
		  },
  {
"cell_type": "code",
	   "execution_count": null,
	   "metadata": {
	    "collapsed": true
	   },
	   "outputs": [],
"source": [
" \n",
"n1=1; //initial state\n",
"n2=3; //final state\n",
"E= -13.6; //energy in ground state, eV\n",
" \n",
"dE= E*((1/n2^2)-(1/n1^2)); //Change in energy, eV\n",
"disp(dE,'The energy change of Hydrogen atom, in eV, is: ')\n",
" \n",
"//Result\n",
"// The energy change of Hydrogen atom, in eV, is:    \n",
"//   12.088889"
   ]
   }
,
{
		   "cell_type": "markdown",
		   "metadata": {},
		   "source": [
			"## Example 4.3: Rydberg_Atom.sci"
		   ]
		  },
  {
"cell_type": "code",
	   "execution_count": null,
	   "metadata": {
	    "collapsed": true
	   },
	   "outputs": [],
"source": [
" \n",
"//Part(a)\n",
"Rn= 10^(-5); //radius of Rydberg atom, m\n",
"Ao= 5.29*(10^(-11)); //Bohr radius, m\n",
"n= sqrt(Rn/Ao); //Quantum number\n",
"\n",
"disp(n,'The quantum number of the Rydberg atom is: ')\n",
" \n",
"//Result\n",
"//  The quantum number of the Rydberg atom is:    \n",
"//    434.78261  \n",
" \n",
"//Part (b)\n",
"E1= -13.6; //Ground state energy level, eV\n",
"En= E1/n^2; //Nth state energy level, eV\n",
"disp(En,'The energy ofthe rydberg atom is: ')\n",
" \n",
"//Result\n",
"// The energy ofthe rydberg atom is:    \n",
"// - 0.0000719  "
   ]
   }
,
{
		   "cell_type": "markdown",
		   "metadata": {},
		   "source": [
			"## Example 4.4: Longest_wavelength_in_Balmer_series.sci"
		   ]
		  },
  {
"cell_type": "code",
	   "execution_count": null,
	   "metadata": {
	    "collapsed": true
	   },
	   "outputs": [],
"source": [
"\n",
"n1= 3; //initial state\n",
"n2= 2; //final state\n",
"R= 1.097*(10^7); //Rydberg's constant, m^(-1)\n",
"k= (1/n2^2)-(1/n1^2);\n",
"l= 1/(k*R); //longest wavelength, m\n",
"l= l*(10^9); //converting to nm\n",
" \n",
"disp(l,'The longest in Balmer series of Hydrogen, in nm, is: ')\n",
" \n",
"//Result\n",
"// The longest in Balmer series of Hydrogen, in nm, is:    \n",
"//   656.33546 "
   ]
   }
,
{
		   "cell_type": "markdown",
		   "metadata": {},
		   "source": [
			"## Example 4.5: Revolution_of_electrons.sci"
		   ]
		  },
  {
"cell_type": "code",
	   "execution_count": null,
	   "metadata": {
	    "collapsed": true
	   },
	   "outputs": [],
"source": [
" \n",
"//Part (a)\n",
"//Caption: find frequency of revolution of electrons\n",
"\n",
"n1=1; //initial state\n",
"n2=2; //final state\n",
"E1= 2.18*(10^(-18)); //Rydberg's constant, J\n",
"h= 6.63*(10^(-34)); //Planck's constant, J.s\n",
"f1= (E1/h)*(2/n1^3); //Frequency for first orbit, rev/s\n",
"f2= (E1/h)*(2/n2^3); //Frequency for second orbit, rev/s\n",
"disp(f1,'Frequency of revolution for orbit n=1, in rev/s, is: ')\n",
"disp(f2,'Frequency of revolution for orbit n=2, in rev/s, is: ')\n",
"\n",
"//Result\n",
"// Frequency of revolution for orbit n=1, in rev/s, is:\n",
"//   6.576D+15\n",
" \n",
"// Frequency of revolution for orbit n=2, in rev/s, is:\n",
"// 8.220D+14\n",
" \n",
"//Part (b)\n",
"//Caption: find frequency of emitted photon\n",
" \n",
"n1=2; //initial orbit\n",
"n2=1; //final orbit\n",
"f= (E1/h)*((1/n2^2)-(1/n1^2)); //frequency, Hz\n",
"disp(f,'Frequency of emitted photon, in Hz, is: ')\n",
"\n",
"//Result\n",
"// Frequency of emitted photon, in Hz, is:    \n",
"//    2.466D+15  \n",
" \n",
" \n",
"//Part (c)\n",
"//Caption: find number of revolutions an electron makes in given time\n",
" \n",
"n= 2; //orbit\n",
"f= f2; //from part (a)\n",
"dt= 10^(-8); // time duration, s\n",
"N= f*dt; //Number of revolutions\n",
"disp(N,'Number of revolutions the electron makes is: ')\n",
" \n",
"//Result\n",
"// Number of revolutions the electron makes is:    \n",
"//    8220211.2  "
   ]
   }
,
{
		   "cell_type": "markdown",
		   "metadata": {},
		   "source": [
			"## Example 4.7: Muonic_atom.sci"
		   ]
		  },
  {
"cell_type": "code",
	   "execution_count": null,
	   "metadata": {
	    "collapsed": true
	   },
	   "outputs": [],
"source": [
"\n",
"//Part (a) \n",
"Me= 9.1*(10^(-31)); //mass of electron, kg\n",
"m= 207*Me; //mass of muon, kg\n",
"Mp= 1836*Me; //mass of proton, kg\n",
"Mreduced= (m*Mp)/(m+Mp); //reduced mass, kg\n",
"Ao= 5.29*(10^(-11)); //Bohr's orbit for n=1, m\n",
"r1= Ao; //expected orbit for atom, m\n",
"r2= (Me/Mreduced)*r1; //reduced radius of orbit, m\n",
"\n",
"disp(r2,'Radius of the mounic atom formed, in m, is: ')\n",
"\n",
"//Result\n",
"// Radius of the mounic atom formed, in m, is:    \n",
"//    2.844D-13  \n",
" \n",
"//Part (b)\n",
"E=-13.6; // energy for elctron in n=1, eV\n",
"Ereduced= (Mreduced/Me)*E; //energy for eectron in mounic atom, eV\n",
"Ereduced= Ereduced/(10^3);//converting to keV\n",
"disp(Ereduced,'Ionisation energy for the muonic atom, in keV, is: ')\n",
" \n",
"//Result\n",
"// Ionisation energy for the muonic atom, in keV, is:    \n",
"//  - 2.5299595  "
   ]
   }
,
{
		   "cell_type": "markdown",
		   "metadata": {},
		   "source": [
			"## Example 4.8: Alpha_particles.sci"
		   ]
		  },
  {
"cell_type": "code",
	   "execution_count": null,
	   "metadata": {
	    "collapsed": true
	   },
	   "outputs": [],
"source": [
" \n",
"I= 7.7; //Intensity of beam, MeV\n",
"Dgold= 1.93*(10^4); //density of gold foil used, kg/m^3\n",
"u= 1.66*(10^(-27)); //atomic mass unit, kg\n",
"Mgold= 197*u; //atomic mass of gold, per atom\n",
"n= Dgold/Mgold; //number of atoms per unit volume, atoms/m^3\n",
"Zgold= 79; //atomic number of gold\n",
"e= 1.6*(10^(-19)); //electronis charge, C\n",
"KE= (I*e)/(10^(-6)); //converting to J\n",
"angle= 45; //degree\n",
"p=cotd(angle/2);\n",
"Po= 8.85*(10^(-12)); //Permittivity of free space, F/m\n",
"t= 3*(10^(-7)); //thickness of foil, m\n",
"\n",
"f= (%pi)*n*t*(((Zgold*(e^2))/(4*(%pi)*Po*KE))^2)*(p^2) //using Rutherford scattering formula\n",
"disp(f,'Fraction of the beam scattered through 45 degree or more, in percent, is: ')\n",
" \n",
"//Result\n",
"// Fraction of the beam scattered through 45 degree or more, in percent, is:    \n",
"//   0.0000706  "
   ]
   }
],
"metadata": {
		  "kernelspec": {
		   "display_name": "Scilab",
		   "language": "scilab",
		   "name": "scilab"
		  },
		  "language_info": {
		   "file_extension": ".sce",
		   "help_links": [
			{
			 "text": "MetaKernel Magics",
			 "url": "https://github.com/calysto/metakernel/blob/master/metakernel/magics/README.md"
			}
		   ],
		   "mimetype": "text/x-octave",
		   "name": "scilab",
		   "version": "0.7.1"
		  }
		 },
		 "nbformat": 4,
		 "nbformat_minor": 0
}
