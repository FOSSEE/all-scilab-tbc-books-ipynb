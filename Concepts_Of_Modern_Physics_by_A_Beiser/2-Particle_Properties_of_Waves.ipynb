{
"cells": [
 {
		   "cell_type": "markdown",
	   "metadata": {},
	   "source": [
       "# Chapter 2: Particle Properties of Waves"
	   ]
	},
{
		   "cell_type": "markdown",
		   "metadata": {},
		   "source": [
			"## Example 2.1: Energy_of_Tuning_fork_and_Atomic_oscillator.sci"
		   ]
		  },
  {
"cell_type": "code",
	   "execution_count": null,
	   "metadata": {
	    "collapsed": true
	   },
	   "outputs": [],
"source": [
" \n",
"Ft= 660; //frequency of tuning fork, Hz\n",
"Fo= 5.00*(10^14); //frquency of atomic oscillator, Hz\n",
"Ef= 0.04; //vibrational energy of tuning fork, J\n",
"h= 6.63*(10^(-34)); //Planck's constant, J.s\n",
" \n",
"E1= h*Ft; //Total energy of tuning fork, J\n",
"E2= h*Fo; //Total energy of atomic oscillator, J\n",
"E2= E2/(1.60*(10^(-19))); //converting to eV\n",
"\n",
"disp(E1,'Energy of tuning fork , in J, is: ')\n",
" \n",
"disp(E2,'Energy of atomic oscillator, in J, is: ')\n",
" \n",
"//Result\n",
"\n",
"// Energy of tuning fork , in J, is:    \n",
"//    4.376D-31  \n",
" \n",
"\n",
"//Energy of atomic oscillator, in J, is:    \n",
"//    2.071875  "
   ]
   }
,
{
		   "cell_type": "markdown",
		   "metadata": {},
		   "source": [
			"## Example 2.2: Photoelectric_effect.sci"
		   ]
		  },
  {
"cell_type": "code",
	   "execution_count": null,
	   "metadata": {
	    "collapsed": true
	   },
	   "outputs": [],
"source": [
" \n",
"l= 350; //Wavelength of UV light, nm\n",
"i= 1.00; //intensity of UV  light, W/m^2\n",
"\n",
"//Part (a)\n",
"\n",
"l= l*10^(-9); //converting to m\n",
"Ep= (1.24*(10^(-6)))/l; //energy of photon, using Eqn (2.11) on Page 66, e.V\n",
"t= 2.2; //work function of Potassium surface, eV\n",
" \n",
"KEmax= Ep-t //Max KE of the phototelectrons, eV\n",
"disp(KEmax,'MAximum KE of photoelectrin, in eV, is: ')\n",
"\n",
"//Part (b) \n",
"\n",
"A= 1.00; //Surface area, cm^2\n",
"A= A* 10^(-4); //converting to m^2\n",
"E= 5.68*(10^(-19)); //Photon energy, J\n",
"Np= i*A/E; //number of incident photon, per second\n",
"Ne= (0.0050)*Np; //number of photoeectrons emitted, per second\n",
"\n",
"disp(Ne,'Rate of emission of photoelectrons, per second, is: ')\n",
"\n",
"//Result\n",
" \n",
"// Rate of emission of photoelectrons, per second, is:    \n",
"//    8.803D+11  "
   ]
   }
,
{
		   "cell_type": "markdown",
		   "metadata": {},
		   "source": [
			"## Example 2.3: Shortest_possible_x_ray_wavelength.sci"
		   ]
		  },
  {
"cell_type": "code",
	   "execution_count": null,
	   "metadata": {
	    "collapsed": true
	   },
	   "outputs": [],
"source": [
" \n",
"AP= 50000; //Accelerating potential of the x-ray machine, V\n",
"l= (1.24*(10^(-6)))/AP*(10^(9));  //Minimum wavelength, nm\n",
"disp(l,'Minimum wavelength possible, in nm, is: ')\n",
" \n",
"Fmax= 3*(10^8)/(l*(10^(-9)));  //Maximum frequency, Hz\n",
"disp(Fmax,'Maximum frequency possible, in Hz, is: ')\n",
" \n",
" \n",
"//Result\n",
" \n",
"// Minimum wavelength possible, in nm, is:    \n",
"//     0.0248  \n",
" \n",
"//  Maximum frequency possible, in Hz, is:    \n",
"//    1.210D+19  "
   ]
   }
,
{
		   "cell_type": "markdown",
		   "metadata": {},
		   "source": [
			"## Example 2.4: X_rays.sci"
		   ]
		  },
  {
"cell_type": "code",
	   "execution_count": null,
	   "metadata": {
	    "collapsed": true
	   },
	   "outputs": [],
"source": [
" \n",
" \n",
"//part (a)\n",
"l= 10; //wavelength of x-ray, pm\n",
"r= 45; //angle of scattered articles, degree\n",
"lc= 2.426*(10^(-12)); //Compton wavelength for electron, m\n",
"k= cosd(45);\n",
"lc= lc* 10^12; // converting to pm\n",
"\n",
"l2= l+ lc*(1-k) //using Eqn 2.23\n",
"disp(l2,'The wavelength of scattered x-ray, in pm, is: ')\n",
" \n",
"//Result\n",
"// The wavelength of scattered x-ray, in pm, is:    \n",
"//   10.710559  \n",
"\n",
" \n",
"//Part (b)\n",
" \n",
"lmax= l+(lc*2); //for (1-k)=2\n",
"disp(lmax,'Maximum wavelength, in pm, is: ')\n",
" \n",
"//Result\n",
"// Maximum wavelength, in pm, is:    \n",
"//    14.852  \n",
" \n",
"//Part (c)\n",
"h= 6.63*(10^(-34)); //Planck's constant, J.s\n",
"c= 3*10^8; //velocity of light, m/s\n",
"c=c*10^12; //converting to pm/s\n",
"KEmax= (h*c)*((1/l)-(1/lmax)); //J\n",
"disp(KEmax,'The maximum KE of recoil electrons, in J, is: ')\n",
" \n",
"//Result\n",
"// The maximum KE of recoil electrons, in J, is:    \n",
"//    6.498D-15  "
   ]
   }
,
{
		   "cell_type": "markdown",
		   "metadata": {},
		   "source": [
			"## Example 2.6: Energy_of_protons.sci"
		   ]
		  },
  {
"cell_type": "code",
	   "execution_count": null,
	   "metadata": {
	    "collapsed": true
	   },
	   "outputs": [],
"source": [
"\n",
"//Example 2.6 (b)\n",
" \n",
"c=3*10^8; //velocity of light, m/s\n",
"V= 0.5*c; //velocity of electron and positron, m/s\n",
"y= 1/sqrt(1-(V/c^2)); //gamma, for relativistic momentum\n",
"m=0.511/c^2; //MeV\n",
"\n",
"K= 2*y*m*V; //difference in momentum of both photons\n",
"L= 2*y*m*c; //conservation of energy, sum of momentum of both photons\n",
"\n",
"p1= (L+K)/2; //momentum of first photon, MeV\n",
"disp(p1*c ,'The momentum of forst photon, in MeV /c, is: ')\n",
"disp((1-p1*c) ,'The momentum of second photon, in MeV /c, is: ')\n",
" \n",
"//Result\n",
"// The momentum of forst photon, in MeV /c, is:    \n",
"//    0.7665  \n",
"    \n",
"// The momentum of second photon, in MeV /c, is:    \n",
"//   0.2335  "
   ]
   }
,
{
		   "cell_type": "markdown",
		   "metadata": {},
		   "source": [
			"## Example 2.7: Linear_attenuation.sci"
		   ]
		  },
  {
"cell_type": "code",
	   "execution_count": null,
	   "metadata": {
	    "collapsed": true
	   },
	   "outputs": [],
"source": [
"\n",
"M= 4.9; //Linear attenuation coefficient for gamma ray in water, m^(-1)\n",
"I= 2.0; //Original intensity of gamma ray, MeV\n",
" \n",
"//Part (a)\n",
"\n",
"x= 10; //distance travelled under water, cm\n",
"x= x/100; //converting to m\n",
"Irel= %e^(-(M*x)); //Relative intensity\n",
"disp(Irel,'Relative intensity of the beam is: ')\n",
" \n",
"//Result\n",
"// Relative intensity of the beam is:    \n",
"//  0.6126264  \n",
" \n",
"//Part(b)\n",
" \n",
"Ip= I/100; //Present intensity, 1 percent of Original, MeV\n",
"x2= log(I/Ip)/M; //distance travelled, m\n",
"disp(x2,'The distance travelled by the beam is: ')\n",
" \n",
"//Result\n",
"// The distance travelled by the beam is:    \n",
"//  0.9398307  "
   ]
   }
,
{
		   "cell_type": "markdown",
		   "metadata": {},
		   "source": [
			"## Example 2.8: Frequency_of_falling_photon.sci"
		   ]
		  },
  {
"cell_type": "code",
	   "execution_count": null,
	   "metadata": {
	    "collapsed": true
	   },
	   "outputs": [],
"source": [
" \n",
"H= 22.5; //Height of fall, m\n",
"F= 7.3*(10^14); //Original frequency, Hz\n",
"c= 3*(10^8); //velocity of light, m/s\n",
"g= 9.8; //Acceleration due to gravity, m/s^2\n",
"\n",
"Frel= g*H*F/(c^2); //Change in frequency, Hz\n",
"disp(Frel, 'The change in frquency of a photon fallin through 22.5 m, in Hz, is: ')\n",
" \n",
"//Result\n",
"// The change in frquency of a photon fallin through 22.5 m, in Hz, is:    \n",
"//   1.7885  "
   ]
   }
],
"metadata": {
		  "kernelspec": {
		   "display_name": "Scilab",
		   "language": "scilab",
		   "name": "scilab"
		  },
		  "language_info": {
		   "file_extension": ".sce",
		   "help_links": [
			{
			 "text": "MetaKernel Magics",
			 "url": "https://github.com/calysto/metakernel/blob/master/metakernel/magics/README.md"
			}
		   ],
		   "mimetype": "text/x-octave",
		   "name": "scilab",
		   "version": "0.7.1"
		  }
		 },
		 "nbformat": 4,
		 "nbformat_minor": 0
}
