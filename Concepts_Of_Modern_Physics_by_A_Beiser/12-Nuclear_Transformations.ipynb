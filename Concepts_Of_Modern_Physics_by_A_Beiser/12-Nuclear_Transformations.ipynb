{
"cells": [
 {
		   "cell_type": "markdown",
	   "metadata": {},
	   "source": [
       "# Chapter 12: Nuclear Transformations"
	   ]
	},
{
		   "cell_type": "markdown",
		   "metadata": {},
		   "source": [
			"## Example 12.10: Irradiation_of_gold_foil.sci"
		   ]
		  },
  {
"cell_type": "code",
	   "execution_count": null,
	   "metadata": {
	    "collapsed": true
	   },
	   "outputs": [],
"source": [
" \n",
"Thalf= 2.69; //half life of gold,d\n",
"Lambda= 0.693/(Thalf*86400); //decay constant, s^(-1)\n",
"R= 200; //required activity, mCi\n",
"R= R*10^(-6); //converting to Ci\n",
"dN= R/(Lambda/(3.70*10^(10))); //atoms\n",
"Wgold= 10; //mass of foil, mg\n",
"u= 1.66*(10^(-27)); //atomic mass unit, kg\n",
"Mgold= 197; // u\n",
"n2= Wgold*10^(-6)/(Mgold*u); //total no. of atoms\n",
"phi= 2*10^(16); //flux, neutrons/m^2\n",
"CrossSection= 99*10^(-28); //m^2\n",
"dT= dN/(phi*n2*CrossSection);  //s\n",
"disp(dT,'The irradiation period required, in seconds, is: ')\n",
" \n",
"//Result\n",
"//The irradiation period required, in seconds, is:    \n",
"//    409.89595  "
   ]
   }
,
{
		   "cell_type": "markdown",
		   "metadata": {},
		   "source": [
			"## Example 12.11: Alpha_particle_in_lab_system.sci"
		   ]
		  },
  {
"cell_type": "code",
	   "execution_count": null,
	   "metadata": {
	    "collapsed": true
	   },
	   "outputs": [],
"source": [
" \n",
"m1= 14.00307; //u\n",
"m2= 4.00260; //u\n",
"m3= 1.00783; //u\n",
"m4= 16.99913; //u\n",
"k= m1+m2-m3-m4; // difference in total mass of reactants and products, u\n",
"Q= k*931.5; //energy exchanged, MeV\n",
"KEcm= -Q; //minimum KE needed in centre of mass system, MeV\n",
"KElab= KEcm*(m2+m1)/m1; //minimum KE in laboratory system\n",
"disp(KElab,'The minimum KE required by the alpha particle, in MeV, is: ')\n",
" \n",
"//Result\n",
"// The minimum KE required by the alpha particle, in MeV, is:    \n",
"//    1.5451071  "
   ]
   }
,
{
		   "cell_type": "markdown",
		   "metadata": {},
		   "source": [
			"## Example 12.2: Decay_time_for_rado.sci"
		   ]
		  },
  {
"cell_type": "code",
	   "execution_count": null,
	   "metadata": {
	    "collapsed": true
	   },
	   "outputs": [],
"source": [
" \n",
"Thalf= 3.82; //half-life in days, d\n",
"Lambda= 0.693/Thalf; //decay constant\n",
"p= 0.6; // 60.0 percent of sample\n",
"No= poly(0,'No'); //Number of undecayed nuclei, at time t=0\n",
"N= (1-p)*No; //Number of undecayed nuclei, at time t\n",
"k= 1-p; //ratio of N to No\n",
"t= (1/Lambda)*(log(k)); //decay time in days, d\n",
"t= t*(-1); \n",
"\n",
"disp(t,'The decay time for Radon, in d, is: ')\n",
"\n",
"//Result\n",
"// The decay time for Radon, in d, is:    \n",
"//  5.0508378  "
   ]
   }
,
{
		   "cell_type": "markdown",
		   "metadata": {},
		   "source": [
			"## Example 12.3: Activity_of_Rado.sci"
		   ]
		  },
  {
"cell_type": "code",
	   "execution_count": null,
	   "metadata": {
	    "collapsed": true
	   },
	   "outputs": [],
"source": [
" \n",
"Thalf= 3.82; //half-life in days, d\n",
"Lambda= 0.693/(Thalf*86400); //decay constant, s^(-1)\n",
"Wradon= 1.00; //weight of sample, mg\n",
"MRadon= 222; //atomic mass of sample, u\n",
"N= Wradon*(10^(-6))/(MRadon*(1.66*(10^(-27)))); //number of atoms\n",
"R= Lambda*N; //decays/sec\n",
"disp(R,'The activity of the sample, in decays/sec, is: ')\n",
" \n",
"//Result\n",
"// The activity of the sample, in decays/sec, is:    \n",
"//    5.698D+12  "
   ]
   }
,
{
		   "cell_type": "markdown",
		   "metadata": {},
		   "source": [
			"## Example 12.4: Activity_of_Radon_after_a_week.sci"
		   ]
		  },
  {
"cell_type": "code",
	   "execution_count": null,
	   "metadata": {
	    "collapsed": true
	   },
	   "outputs": [],
"source": [
"//Refer to Example 12.3\n",
" \n",
"Ro= 155; //initial activity, Ci\n",
"Lambda= 2.11*(10^(-6)); //decay constant, s^(-1)\n",
"t= 7; //days\n",
"t= t*86400; //converting to s\n",
"R= Ro*((%e)^(-(Lambda*t))); //final activity, Ci\n",
"disp(R,'The activity after one week, in Ci, is: ')\n",
" \n",
"//Result\n",
"// The activity after one week, in Ci, is:    \n",
"//    43.262972  "
   ]
   }
,
{
		   "cell_type": "markdown",
		   "metadata": {},
		   "source": [
			"## Example 12.5: Carbon_dating.sci"
		   ]
		  },
  {
"cell_type": "code",
	   "execution_count": null,
	   "metadata": {
	    "collapsed": true
	   },
	   "outputs": [],
"source": [
" \n",
"R= 13; //present activity,\n",
"Ro= 16; //activity of live wood\n",
"Thalf= 5760; //half life of radiocarbon, y\n",
"Lambda= 0.693/(Thalf); //decay constant, y^(-1)\n",
"t= (1/Lambda)*(log(Ro/R)); //age of sample, y\n",
"disp(t,'The age of the wooden sample, in years, is: ')\n",
" \n",
"//Result\n",
"// The age of the wooden sample, in years, is:    \n",
"//    1725.8337 "
   ]
   }
,
{
		   "cell_type": "markdown",
		   "metadata": {},
		   "source": [
			"## Example 12.6: Half_life_of_Uranium238.sci"
		   ]
		  },
  {
"cell_type": "code",
	   "execution_count": null,
	   "metadata": {
	    "collapsed": true
	   },
	   "outputs": [],
"source": [
" \n",
"Thalf1= 2.5*(10^5); //half-life of U-234, y\n",
"AtomicRatio= 1.8*(10^4); //atomic ratio of u-238 and U-234 in the sample\n",
"Thalf2= AtomicRatio*Thalf1; //using Eqn12.9\n",
"disp(Thalf2,'The half-life of Uranium-238, in years, is: ')\n",
" \n",
"//Result\n",
"// The half-life of Uranium-238, in years, is:    \n",
"//    4.500D+09  "
   ]
   }
,
{
		   "cell_type": "markdown",
		   "metadata": {},
		   "source": [
			"## Example 12.7: Daughter_nuclide_of_Polonium.sci"
		   ]
		  },
  {
"cell_type": "code",
	   "execution_count": null,
	   "metadata": {
	    "collapsed": true
	   },
	   "outputs": [],
"source": [
" \n",
"Npolonium= 84; //atomic number of polonium\n",
"Nalpha= 2; //atomic number of alpha particle\n",
"Z= Npolonium-Nalpha; //atomic number of daughter nuclide\n",
"Mpolonium= 209.9829; //mass number of polonium, u\n",
"Malpha= 4.0026; //mass number of alpha particle, u\n",
"A= Mpolonium-Malpha; //mass number of daughter nuclide\n",
"disp(Z,'The daughter nuclide has atomic number: ')\n",
"disp(A,'and mass number: ')\n",
"    \n",
"// The daughter nuclide has atomic number:    \n",
"//   82.  \n",
"\n",
"// and mass number:    \n",
"//    205.9803.  \n",
"    \n",
"Ealpha= 5.3; //energy of alpha particle, MeV\n",
"Q= Mpolonium*Ealpha/A; //disintegration energy, MeV\n",
"Mq= Q/931; //mass equivalent for Q, u\n",
"Mnuclide= Mpolonium-Malpha-Mq; //u\n",
"disp(Mnuclide,'The atomic mass of the daughter nuclide is: ')\n",
"//Result\n",
"// The atomic mass of the daughter nuclide is:    \n",
"//   205.9745 "
   ]
   }
,
{
		   "cell_type": "markdown",
		   "metadata": {},
		   "source": [
			"## Example 12.8: Absoprtion_of_neutron_by_Cadmium.sci"
		   ]
		  },
  {
"cell_type": "code",
	   "execution_count": null,
	   "metadata": {
	    "collapsed": true
	   },
	   "outputs": [],
"source": [
" \n",
"CrossSection= 2*(10^4); // capture cross section of Cadmium-113\n",
"CrossSection= CrossSection*(10^(-28)); // converting to m^2\n",
"Mcadmium= 112; //mean atomic mass of cadmium, u\n",
"density= 8.64*(10^3); //density of cadmium sheet used, kg/m^3\n",
" \n",
"//Part (a)\n",
" \n",
"t= 0.1; //hickness of sheet used, mm\n",
"t= t*10^(-3); //converting to m\n",
"p= 12; //percent of Cadmium-113 in natural cadmium\n",
"u= 1.66*(10^(-27)); //atomic mass unit, kg\n",
"n= (p/100)*density/(Mcadmium*u); //number of atoms, atoms/m^3\n",
"Fabsorbed= 1- ((%e)^((-n)*(CrossSection)*(t))); //absorbed fraction\n",
"disp(Fabsorbed,'The fraction of incident beam absorbed is: ')\n",
" \n",
"//Result\n",
"// The fraction of incident beam absorbed is:    \n",
"//   0.6721891  \n",
" \n",
"//Part (b)\n",
"\n",
"t2= (-(log(0.01)))/(n*CrossSection); //required thickness, m\n",
"t2= t2*10^(3); //converting to mm\n",
"disp(t2,'The thickness required to absorb 99 percent of incident thermal neutrons, in mm, is: ')\n",
"\n",
"//Result \n",
"// The thickness required to absorb 99 percent of incident thermal neutrons, in mm, is:    \n",
"//   0.4129018  "
   ]
   }
,
{
		   "cell_type": "markdown",
		   "metadata": {},
		   "source": [
			"## Example 12.9: Thermal_neutrons.sci"
		   ]
		  },
  {
"cell_type": "code",
	   "execution_count": null,
	   "metadata": {
	    "collapsed": true
	   },
	   "outputs": [],
"source": [
"//refer to Example 12.8\n",
"\n",
"CrossSection= 2*(10^4); // capture cross section of Cadmium-113, b\n",
"CrossSection= CrossSection*(10^(-28)); // converting to m^2\n",
"n= (12/100)*(8.64*10^3)/(112*(1.66*10^(-27))); //number of atoms, atoms/m^3\n",
"Lambda= 1/(n*CrossSection); //mean free path, m\n",
"Lambda= Lambda*10^3; //converting to, mm\n",
"disp(Lambda,'The mean free path, in mm, is: ')\n",
"\n",
"//Result\n",
"// The mean free path, in mm, is:    \n",
"//    0.0896605  "
   ]
   }
],
"metadata": {
		  "kernelspec": {
		   "display_name": "Scilab",
		   "language": "scilab",
		   "name": "scilab"
		  },
		  "language_info": {
		   "file_extension": ".sce",
		   "help_links": [
			{
			 "text": "MetaKernel Magics",
			 "url": "https://github.com/calysto/metakernel/blob/master/metakernel/magics/README.md"
			}
		   ],
		   "mimetype": "text/x-octave",
		   "name": "scilab",
		   "version": "0.7.1"
		  }
		 },
		 "nbformat": 4,
		 "nbformat_minor": 0
}
