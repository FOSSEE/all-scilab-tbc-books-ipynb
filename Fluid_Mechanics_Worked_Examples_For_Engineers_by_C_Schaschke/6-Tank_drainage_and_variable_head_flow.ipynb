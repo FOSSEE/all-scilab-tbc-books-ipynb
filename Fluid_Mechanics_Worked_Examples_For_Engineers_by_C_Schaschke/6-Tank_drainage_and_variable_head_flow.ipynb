{
"cells": [
 {
		   "cell_type": "markdown",
	   "metadata": {},
	   "source": [
       "# Chapter 6: Tank drainage and variable head flow"
	   ]
	},
{
		   "cell_type": "markdown",
		   "metadata": {},
		   "source": [
			"## Example 6.10: 10.sce"
		   ]
		  },
  {
"cell_type": "code",
	   "execution_count": null,
	   "metadata": {
	    "collapsed": true
	   },
	   "outputs": [],
"source": [
"clc\n",
"H1=1.5; // m\n",
"V=0.75; // m^3\n",
"d1=1.2; // m\n",
"u=0.08; // Ns/m^2\n",
"L=3; // m\n",
"rho=1100; // kg/m^3\n",
"g=9.81; // m/s^2\n",
"d=0.025; // m\n",
"\n",
"a=%pi*d^2/4;\n",
"A=%pi*d1^2/4;\n",
"H2=H1-(V/A);\n",
"\n",
"t=-32*u*L*A/(a*rho*g*d^2)*log(H2/H1);\n",
"\n",
"disp('Time taken =')\n",
"disp(t)\n",
"disp('s')"
   ]
   }
,
{
		   "cell_type": "markdown",
		   "metadata": {},
		   "source": [
			"## Example 6.1: 1.sce"
		   ]
		  },
  {
"cell_type": "code",
	   "execution_count": null,
	   "metadata": {
	    "collapsed": true
	   },
	   "outputs": [],
"source": [
"clc;\n",
"Q=5000/3600/24; // m^3 per second\n",
"C_d=0.6; \n",
"r=0.01/2; // m\n",
"g=9.8; // m/s^2\n",
"H=0.2; // m\n",
"a_o=%pi*r^2;\n",
"\n",
"n=Q/C_d/a_o/sqrt(2*g*H);\n",
"disp('The number of orifices required are')\n",
"disp(n);"
   ]
   }
,
{
		   "cell_type": "markdown",
		   "metadata": {},
		   "source": [
			"## Example 6.2: 2.sce"
		   ]
		  },
  {
"cell_type": "code",
	   "execution_count": null,
	   "metadata": {
	    "collapsed": true
	   },
	   "outputs": [],
"source": [
"clc;\n",
"x=0.86; // m\n",
"g=9.8; // m/s\n",
"y=0.96; // m\n",
"H=0.2; // m\n",
"\n",
"\n",
"v_act=x*sqrt(g/2/y);\n",
"\n",
"v=sqrt(2*g*H);\n",
"\n",
"Cv=v_act/v;\n",
"disp('The coefficient of velocity for the orifice is found to be')\n",
"disp(Cv);"
   ]
   }
,
{
		   "cell_type": "markdown",
		   "metadata": {},
		   "source": [
			"## Example 6.3: 3.sce"
		   ]
		  },
  {
"cell_type": "code",
	   "execution_count": null,
	   "metadata": {
	    "collapsed": true
	   },
	   "outputs": [],
"source": [
"clc;\n",
"Vt=1; // m^3\n",
"d_t=1; // m\n",
"C_d=0.6; \n",
"d_o=0.02; // m\n",
"g=9.8; // m/s^2\n",
"a_o=%pi*(d_o)^2/4;\n",
"\n",
"A=%pi*(d_t)^2/4;\n",
"\n",
"H1=4*Vt/%pi/(d_t)^2;\n",
"\n",
"t=A/C_d/a_o*sqrt(2*H1/g);\n",
"disp('Total drainage is found to take ')\n",
"disp(t)\n",
"disp(' seconds');"
   ]
   }
,
{
		   "cell_type": "markdown",
		   "metadata": {},
		   "source": [
			"## Example 6.4: 4.sce"
		   ]
		  },
  {
"cell_type": "code",
	   "execution_count": null,
	   "metadata": {
	    "collapsed": true
	   },
	   "outputs": [],
"source": [
"clc;\n",
"C_d=0.6;\n",
"d_o=0.05; // m\n",
"g=9.8; // m/s^2;\n",
"R=2; //\n",
"H1=1.5; // \n",
"\n",
"a_o=%pi*d_o^2/4;\n",
"\n",
"t=%pi/C_d/a_o/sqrt(2*g)*(4/3*R*H1^(3/2)-2/5*H1^(5/2));\n",
"disp('The time to drain the tank is found to be ')\n",
"disp(t);\n",
"disp('seconds');"
   ]
   }
,
{
		   "cell_type": "markdown",
		   "metadata": {},
		   "source": [
			"## Example 6.6: 6.sce"
		   ]
		  },
  {
"cell_type": "code",
	   "execution_count": null,
	   "metadata": {
	    "collapsed": true
	   },
	   "outputs": [],
"source": [
"clc\n",
"Cd=0.62;\n",
"a=0.01; // m^2\n",
"g=9.81; // m/s^2\n",
"H=0.3; // m\n",
"A1=4*2; // m^2\n",
"H1=0.3; // m\n",
"H2=0.1; // m\n",
"A2=2*2; // m^2\n",
"\n",
"Q=Cd*a*sqrt(2*g*H);\n",
"disp('The rate of flow =')\n",
"disp(Q)\n",
"disp('m^3/s')\n",
"\n",
"t=2*A1*(H1^(1/2)-H2^(1/2))/(Cd*a*sqrt(2*g)*(1+A1/A2));\n",
"disp('The time taken to reduce the difference in levels to 10 cm is ')\n",
"disp(t)\n",
"disp('s')"
   ]
   }
,
{
		   "cell_type": "markdown",
		   "metadata": {},
		   "source": [
			"## Example 6.8: 8.sce"
		   ]
		  },
  {
"cell_type": "code",
	   "execution_count": null,
	   "metadata": {
	    "collapsed": true
	   },
	   "outputs": [],
"source": [
"clc;\n",
"Qs=0.4; // m^3/s\n",
"H1=1.5; // m\n",
"Q=0.2; // m^3/s\n",
"H2=0.5; // m\n",
"l=15; // m\n",
"b=10; // m\n",
"A=l*b; \n",
"\n",
"k=Qs*H1^(-1/2);\n",
"\n",
"\n",
"t=-2*A/k^2 *(Q*log((Q-k*(H2)^0.5)/(Q-k*(H1)^0.5))+k*((H2)^0.5-(H1)^0.5));\n",
"disp('The time required for the level in the tank to fall to 1 m is ')\n",
"disp(t)\n",
"disp('second')"
   ]
   }
,
{
		   "cell_type": "markdown",
		   "metadata": {},
		   "source": [
			"## Example 6.9: 9.sce"
		   ]
		  },
  {
"cell_type": "code",
	   "execution_count": null,
	   "metadata": {
	    "collapsed": true
	   },
	   "outputs": [],
"source": [
"clc\n",
"Cd=0.62;\n",
"d=0.05;\n",
"a_o=%pi*d^2/4;\n",
"g=9.81; // m/s^2\n",
"\n",
"k=Cd*a_o*sqrt(2*g);\n",
"\n",
"// We have got two simultaneous equations\n",
"\n",
"// Q-k*0.65^(1/2)=0.1/90*A\n",
"// Q-k*1.225^(1/2)=0.05/120*A\n",
"\n",
"M=[1 -0.1/90;1 -0.05/120];\n",
"N=[k*0.65^(1/2);k*1.225^(1/2)];\n",
"\n",
"X=inv(M)*N;\n",
"\n",
"Q=X(1,1);\n",
"A=X(2,1);\n",
"\n",
"disp('The Area of the tank =')\n",
"disp(A)\n",
"disp('m^2')\n",
"\n",
"disp('Flowrate =')\n",
"disp(Q)\n",
"disp('m^3/s')"
   ]
   }
],
"metadata": {
		  "kernelspec": {
		   "display_name": "Scilab",
		   "language": "scilab",
		   "name": "scilab"
		  },
		  "language_info": {
		   "file_extension": ".sce",
		   "help_links": [
			{
			 "text": "MetaKernel Magics",
			 "url": "https://github.com/calysto/metakernel/blob/master/metakernel/magics/README.md"
			}
		   ],
		   "mimetype": "text/x-octave",
		   "name": "scilab",
		   "version": "0.7.1"
		  }
		 },
		 "nbformat": 4,
		 "nbformat_minor": 0
}
