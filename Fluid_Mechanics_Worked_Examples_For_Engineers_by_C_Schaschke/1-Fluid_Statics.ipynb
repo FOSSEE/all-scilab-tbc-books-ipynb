{
"cells": [
 {
		   "cell_type": "markdown",
	   "metadata": {},
	   "source": [
       "# Chapter 1: Fluid Statics"
	   ]
	},
{
		   "cell_type": "markdown",
		   "metadata": {},
		   "source": [
			"## Example 1.10: 10.sce"
		   ]
		  },
  {
"cell_type": "code",
	   "execution_count": null,
	   "metadata": {
	    "collapsed": true
	   },
	   "outputs": [],
"source": [
"clc\n",
"dp=20*10^3; //N/m^2\n",
"rho_Hg=13600; //kg/m^3\n",
"rho=700; //kg/m^3\n",
"g=9.81; //m/s^2\n",
"d=0.02; //m\n",
"\n",
"H=dp/(rho_Hg-rho)/g;\n",
"\n",
"V=%pi/4*d^2*H;\n",
"disp('Quantity of mercury to be removed =')\n",
"disp(V)\n",
"disp('m^3')"
   ]
   }
,
{
		   "cell_type": "markdown",
		   "metadata": {},
		   "source": [
			"## Example 1.11: 11.sce"
		   ]
		  },
  {
"cell_type": "code",
	   "execution_count": null,
	   "metadata": {
	    "collapsed": true
	   },
	   "outputs": [],
"source": [
"clc\n",
"rho=800; //kg/m^3\n",
"g=9.81; //m/s^2\n",
"L=0.12;\n",
"theta=%pi/180*20; // radians\n",
"\n",
"dp=rho*g*L*sin(theta);\n",
"disp('The gauge pressure across the filter =')\n",
"disp(dp)\n",
"disp('N/m^2')"
   ]
   }
,
{
		   "cell_type": "markdown",
		   "metadata": {},
		   "source": [
			"## Example 1.1: 1.sce"
		   ]
		  },
  {
"cell_type": "code",
	   "execution_count": null,
	   "metadata": {
	    "collapsed": true
	   },
	   "outputs": [],
"source": [
"clc\n",
"rho=924; //kg/m^3\n",
"g=9.81; //m/s^2\n",
"H=2; //m\n",
"d=2; //depth in m\n",
"\n",
"p=rho*g*H;\n",
"a=d*H;\n",
"\n",
"F=p*a/2;\n",
"disp('Total force exerted over the wall =')\n",
"disp(F)\n",
"disp('N')"
   ]
   }
,
{
		   "cell_type": "markdown",
		   "metadata": {},
		   "source": [
			"## Example 1.12: 12.sce"
		   ]
		  },
  {
"cell_type": "code",
	   "execution_count": null,
	   "metadata": {
	    "collapsed": true
	   },
	   "outputs": [],
"source": [
"clc\n",
"mc=100; //kg\n",
"g=9.81; //m/s^2\n",
"rho=1000; //kg/m^3\n",
"rho_c=7930; //kg/m^3\n",
"\n",
"m=mc*rho/rho_c;\n",
"\n",
"F=mc*g-m*g;\n",
"disp('The tension in the cable =')\n",
"disp(F)\n",
"disp('N')"
   ]
   }
,
{
		   "cell_type": "markdown",
		   "metadata": {},
		   "source": [
			"## Example 1.13: 13.sce"
		   ]
		  },
  {
"cell_type": "code",
	   "execution_count": null,
	   "metadata": {
	    "collapsed": true
	   },
	   "outputs": [],
"source": [
"clc\n",
"rho=1000;\n",
"x=0.06;\n",
"rho_0=800;\n",
"x_0=0.04;\n",
"\n",
"L=(rho*x-rho_0*x_0)/(rho-rho_0);\n",
"\n",
"rho_L=900;\n",
"x_L=L-rho/rho_L*(L-x);\n",
"disp('Length of the stem above the liquid of SG 0.9 =')\n",
"disp(x_L)\n",
"disp('m')"
   ]
   }
,
{
		   "cell_type": "markdown",
		   "metadata": {},
		   "source": [
			"## Example 1.14: 14.sce"
		   ]
		  },
  {
"cell_type": "code",
	   "execution_count": null,
	   "metadata": {
	    "collapsed": true
	   },
	   "outputs": [],
"source": [
"clc\n",
"m_s=5*10^6; //kg\n",
"T2=4.5; //m\n",
"T1=3; //m\n",
"rho_hc=950; //kg/m^3\n",
"Q=125; //m^3/h\n",
"\n",
"m_hc=m_s*(T2/T1-1);\n",
"disp('Quantity delivered =')\n",
"disp(m_hc)\n",
"disp('kg')\n",
"\n",
"t=m_hc/rho_hc/Q;\n",
"disp('Time taken =')\n",
"disp(t)\n",
"disp('hours')"
   ]
   }
,
{
		   "cell_type": "markdown",
		   "metadata": {},
		   "source": [
			"## Example 1.2: 2.sce"
		   ]
		  },
  {
"cell_type": "code",
	   "execution_count": null,
	   "metadata": {
	    "collapsed": true
	   },
	   "outputs": [],
"source": [
"clc\n",
"p_v=50*10^3; //N/m^2\n",
"r=1; //m\n",
"p_atm=101.3*10^3; //N/m^2\n",
"rho=1000; //kg/m^3\n",
"H=2.5; //m\n",
"g=9.81; //m/s^2\n",
"\n",
"F=p_v*%pi*r^2;\n",
"disp('Total vertical force tending to lift the dome =')\n",
"disp(F)\n",
"disp('N')\n",
"\n",
"p=p_atm+p_v+rho*g*H;\n",
"disp('Absolute pressure at the bottom of the vessel =')\n",
"disp(p)\n",
"disp('N/m^2')\n",
"\n",
"Fd=(p_v+rho*g*H)*%pi*r^2+rho*g*2*%pi*r^2/3;\n",
"disp('Downward force imposed by the gas and liquid =')\n",
"disp(Fd)\n",
"disp('N')"
   ]
   }
,
{
		   "cell_type": "markdown",
		   "metadata": {},
		   "source": [
			"## Example 1.3: 3.sce"
		   ]
		  },
  {
"cell_type": "code",
	   "execution_count": null,
	   "metadata": {
	    "collapsed": true
	   },
	   "outputs": [],
"source": [
"clc\n",
"a1=0.3; //m^2\n",
"m=1000; //kg\n",
"a2=0.003; //m^2\n",
"rho_oil=750; //kg/m^3\n",
"H=2; //m\n",
"g=9.81; //m/s^2\n",
"\n",
"F1=m*g;\n",
"F2=a2*(F1/a1-rho_oil*g*H);\n",
"disp('The force on the plunger =')\n",
"disp(F2)\n",
"disp('N')"
   ]
   }
,
{
		   "cell_type": "markdown",
		   "metadata": {},
		   "source": [
			"## Example 1.4: 4.sce"
		   ]
		  },
  {
"cell_type": "code",
	   "execution_count": null,
	   "metadata": {
	    "collapsed": true
	   },
	   "outputs": [],
"source": [
"clc\n",
"rho_0=800; //kg/m^3\n",
"rho_aq=1100; //kg/m^3\n",
"\n",
"// rho_0*g*H=rho_aq*g*(H-0.5);\n",
"\n",
"H=0.5*rho_aq/(rho_aq-rho_0);\n",
"disp('H=')\n",
"disp(H)\n",
"disp('m')\n",
"\n",
"// For a fixed length of chamber of 3 m, the interface between the two phases is determined from the pressure in the chamber and discharge point.\n",
"// rho_0*g*H1+rho_aq*g*H2=rho_aq*g*(H-0.5);\n",
"// H=H1+H2\n",
"\n",
"rho_0=600; //kg/m^3\n",
"\n",
"H1=0.5*rho_aq/(rho_aq-rho_0);\n",
"disp('The lowest possible position of the inteiface in the chamber below the overflow.')\n",
"disp(H1)\n",
"disp('m')"
   ]
   }
,
{
		   "cell_type": "markdown",
		   "metadata": {},
		   "source": [
			"## Example 1.5: 5.sce"
		   ]
		  },
  {
"cell_type": "code",
	   "execution_count": null,
	   "metadata": {
	    "collapsed": true
	   },
	   "outputs": [],
"source": [
"clc\n",
"rho_o=900; //kg/m^3\n",
"rho_n=1070; //kg/m^3\n",
"H=1; //m\n",
"g=9.81; //m/s^2\n",
"dp=10*10^3; //N/m^2\n",
"\n",
"// H=H1+H2\n",
"\n",
"H1=(dp-rho_n*g*H)/(rho_o-rho_n)/g;\n",
"disp('The position of the interface between the legs =')\n",
"disp(H1)\n",
"disp('m')"
   ]
   }
,
{
		   "cell_type": "markdown",
		   "metadata": {},
		   "source": [
			"## Example 1.6: 6.sce"
		   ]
		  },
  {
"cell_type": "code",
	   "execution_count": null,
	   "metadata": {
	    "collapsed": true
	   },
	   "outputs": [],
"source": [
"clc\n",
"dp=22*10^3; //N/m^2\n",
"g=9.81; //m/s^2\n",
"H=1.5; //m\n",
"rho=1495; //kg/m^3\n",
"rho_s=1270; //kg/m^3\n",
"rho_c=2698; //kg/m^3\n",
"\n",
"p=dp/g/H;\n",
"disp('the density of the solution with crystal =')\n",
"disp(p)\n",
"disp('kg/m^3')\n",
"\n",
"// rho=f1*rho_s+f2*rho_c\n",
"// f1+f2=1\n",
"\n",
"f2=(rho-rho_s)/(rho_c-rho_s);\n",
"disp('The fraction of crystals =')\n",
"disp(f2)"
   ]
   }
,
{
		   "cell_type": "markdown",
		   "metadata": {},
		   "source": [
			"## Example 1.7: 7.sce"
		   ]
		  },
  {
"cell_type": "code",
	   "execution_count": null,
	   "metadata": {
	    "collapsed": true
	   },
	   "outputs": [],
"source": [
"clc\n",
"p_atm=101.3*10^3; // N/m^2\n",
"rho=1000; // kg/m^3\n",
"g=9.81; // m/s^2\n",
"H1=3; //m\n",
"a=0.073; // N/m\n",
"r1=5*10^(-4); //m\n",
"\n",
"p1=p_atm+rho*g*H1+2*a/r1;\n",
"\n",
"// p2=p_atm+rho*g*H2+2*a/r2;\n",
"\n",
"// p1*4/3*%pi*r1^3=p2*4/3*%pi*r2^3\n",
"\n",
"// Solving above two equations we get\n",
"r2=0.053; //mm\n",
"disp('Radius of the bubble =')\n",
"disp(r2)\n",
"disp('mm')"
   ]
   }
,
{
		   "cell_type": "markdown",
		   "metadata": {},
		   "source": [
			"## Example 1.8: 8.sce"
		   ]
		  },
  {
"cell_type": "code",
	   "execution_count": null,
	   "metadata": {
	    "collapsed": true
	   },
	   "outputs": [],
"source": [
"clc\n",
"H=0.2; //m\n",
"rho=1000; //kg/m^3\n",
"rho_Hg=13600; //kg/m^3\n",
"g=9.81; //m/s^2\n",
"\n",
"dp=(rho_Hg-rho)*g*H;\n",
"disp('Differential pressure =')\n",
"disp(dp)\n",
"disp('N/m^2')"
   ]
   }
,
{
		   "cell_type": "markdown",
		   "metadata": {},
		   "source": [
			"## Example 1.9: 9.sce"
		   ]
		  },
  {
"cell_type": "code",
	   "execution_count": null,
	   "metadata": {
	    "collapsed": true
	   },
	   "outputs": [],
"source": [
"clc\n",
"\n",
"// p1-rho*g*(H+H1)=p2-rho*g*H1-rho_air*g*H\n",
"\n",
"rho=1000;\n",
"g=9.81; // m/s^2\n",
"H=0.4; //m\n",
"dp=rho*g*H;\n",
"disp('Pressure drop in the pipe =')\n",
"disp(dp)\n",
"disp('N/m^2')"
   ]
   }
],
"metadata": {
		  "kernelspec": {
		   "display_name": "Scilab",
		   "language": "scilab",
		   "name": "scilab"
		  },
		  "language_info": {
		   "file_extension": ".sce",
		   "help_links": [
			{
			 "text": "MetaKernel Magics",
			 "url": "https://github.com/calysto/metakernel/blob/master/metakernel/magics/README.md"
			}
		   ],
		   "mimetype": "text/x-octave",
		   "name": "scilab",
		   "version": "0.7.1"
		  }
		 },
		 "nbformat": 4,
		 "nbformat_minor": 0
}
