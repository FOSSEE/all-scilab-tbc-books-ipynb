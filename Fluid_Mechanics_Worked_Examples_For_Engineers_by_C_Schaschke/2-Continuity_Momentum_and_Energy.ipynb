{
"cells": [
 {
		   "cell_type": "markdown",
	   "metadata": {},
	   "source": [
       "# Chapter 2: Continuity Momentum and Energy"
	   ]
	},
{
		   "cell_type": "markdown",
		   "metadata": {},
		   "source": [
			"## Example 2.1: 1.sce"
		   ]
		  },
  {
"cell_type": "code",
	   "execution_count": null,
	   "metadata": {
	    "collapsed": true
	   },
	   "outputs": [],
"source": [
"clc\n",
"Q1=0.02; //m^3/s\n",
"d1=0.15; //m\n",
"d2=0.05; //m\n",
"d3=0.1; //m\n",
"v2=3; //m/s\n",
"\n",
"\n",
"v3=(4*Q1/%pi-d2^2*v2)/d3^2;\n",
"disp('velocity at pipe 3 =')\n",
"disp(v3)\n",
"disp('m/s')\n",
"\n",
"Q3=%pi*d3^2/4*v3;\n",
"disp('Flowrate at pipe 3 =')\n",
"disp(Q3)\n",
"disp('m^3/s')\n",
"\n",
"Q2=%pi*d2^2/4*v2;\n",
"disp('Flowrate at pipe 2')\n",
"disp(Q2)\n",
"disp('m^3/s')\n",
"\n",
"disp('Velocity at pipe 2')\n",
"disp(v2)\n",
"disp('m/s')\n",
"\n",
"v1=4*(Q2+Q3)/%pi/d1^2;\n",
"disp('Velocity at pipe 1 =')\n",
"disp(v1)\n",
"disp('m/s')\n",
"\n",
"disp('Flowrate at pipe 1')\n",
"disp(Q1)\n",
"disp('m^3/s')"
   ]
   }
,
{
		   "cell_type": "markdown",
		   "metadata": {},
		   "source": [
			"## Example 2.2: 2.sce"
		   ]
		  },
  {
"cell_type": "code",
	   "execution_count": null,
	   "metadata": {
	    "collapsed": true
	   },
	   "outputs": [],
"source": [
"clc\n",
"d1=0.2; //m\n",
"d2=d1;\n",
"p1=1*10^5; //N/m^2\n",
"p2=80*10^3; //N/m^2\n",
"Q=150; //m^3/h\n",
"rho=900; //kg/m^3\n",
"theta1=0; //radians\n",
"theta2=%pi; //radians\n",
"\n",
"a1=%pi*d1^2/4;\n",
"a2=%pi*d2^2/4;\n",
"\n",
"F1=p1*a1; // Upstream force\n",
"F2=p2*a2; // Downstream force\n",
"\n",
"v1=4*Q/3600/%pi/d1^2;\n",
"v2=v1;\n",
"\n",
"flux=rho*Q/3600*v2; //Momentum flux\n",
"\n",
"Fx=F1*cos(theta1)-F2*cos(theta2)+flux*(cos(theta2) - cos(theta1));\n",
"Fy=F1*sin(theta1)-F2*sin(theta2)-flux*(sin(theta2)-sin(theta1));\n",
"\n",
"F=sqrt(Fx^2+Fy^2);\n",
"disp('Force exerted by the liquid on the bend =')\n",
"disp(F)\n",
"disp('N')"
   ]
   }
,
{
		   "cell_type": "markdown",
		   "metadata": {},
		   "source": [
			"## Example 2.3: 3.sce"
		   ]
		  },
  {
"cell_type": "code",
	   "execution_count": null,
	   "metadata": {
	    "collapsed": true
	   },
	   "outputs": [],
"source": [
"clc\n",
"rho=1000; //kg/m^3\n",
"d=0.05; //m\n",
"L=500; //m\n",
"v=1.7; //m/s\n",
"\n",
"a=%pi*d^2/4;\n",
"F=rho*a*L*v;\n",
"\n",
"P=F/a/10^3;\n",
"disp('Average pressure =')\n",
"disp(P)\n",
"disp('kN/m^2')"
   ]
   }
,
{
		   "cell_type": "markdown",
		   "metadata": {},
		   "source": [
			"## Example 2.4: 4.sce"
		   ]
		  },
  {
"cell_type": "code",
	   "execution_count": null,
	   "metadata": {
	    "collapsed": true
	   },
	   "outputs": [],
"source": [
"clc\n",
"g=9.8; //m/s^2\n",
"dz=0.2; //m ; dz1=z1-z2=z1-z2\n",
"rho=1000; //kg/m^3\n",
"dz1=2; //m ; dz1=z1-z_A\n",
"dz2=0; //m ; dz2=z1-z_B\n",
"dz3=-1.5; //m ; dz3=z1-z_C\n",
"\n",
"v2=sqrt(2*g*dz);\n",
"\n",
"v_A=v2;\n",
"v_B=v2;\n",
"v_C=v2;\n",
"\n",
"p_A=rho*g*(dz1-v_A^2/2/g);\n",
"p_B=rho*g*(dz2-v_B^2/2/g);\n",
"p_C=rho*g*(dz3-v_C^2/2/g);\n",
"\n",
"disp('Velocity at pt. A =')\n",
"disp(v_A)\n",
"disp('m/s')\n",
"\n",
"disp('Velocity at pt. B =')\n",
"disp(v_B)\n",
"disp('m/s')\n",
"\n",
"disp('Velocity at pt. C =')\n",
"disp(v_C)\n",
"disp('m/s')\n",
"\n",
"disp('Pressure at pt. A =')\n",
"disp(p_A)\n",
"disp('kN/m^2')\n",
"\n",
"disp('Pressure at pt. B =')\n",
"disp(p_B)\n",
"disp('kN/m^2')\n",
"\n",
"disp('Pressure at pt. C =')\n",
"disp(p_C)\n",
"disp('kN/m^2')"
   ]
   }
,
{
		   "cell_type": "markdown",
		   "metadata": {},
		   "source": [
			"## Example 2.5: 5.sce"
		   ]
		  },
  {
"cell_type": "code",
	   "execution_count": null,
	   "metadata": {
	    "collapsed": true
	   },
	   "outputs": [],
"source": [
"clc\n",
"Q=10; // m^3/hr\n",
"d1=0.05; //m\n",
"d2=0.1; //m\n",
"rho=1000; //kg/m^3\n",
"\n",
"a1=%pi*d1^2/4;\n",
"a2=%pi*d2^2/4;\n",
"\n",
"v1=Q/3600/a1;\n",
"v2=(d1/d2)^2*v1;\n",
"\n",
"PD=rho*Q/3600*(v1-v2)/a2;\n",
"disp('Pressure drop =')\n",
"disp(PD)\n",
"disp('N/m^2')"
   ]
   }
,
{
		   "cell_type": "markdown",
		   "metadata": {},
		   "source": [
			"## Example 2.7: 7.sce"
		   ]
		  },
  {
"cell_type": "code",
	   "execution_count": null,
	   "metadata": {
	    "collapsed": true
	   },
	   "outputs": [],
"source": [
"clc\n",
"Q=100; //m^3/hr\n",
"d1=0.2; //m\n",
"d2=0.15; //m\n",
"p1=80*10^3; //N/m^2\n",
"rho=1000; //kg/m^3\n",
"g=9.8; //m/s^2\n",
"\n",
"a1=%pi*d1^2/4;\n",
"a2=%pi*d2^2/4;\n",
"v1=Q/3600/a1;\n",
"v2=Q/3600/a2;\n",
"H_L=0.2*v2^2/2/g;\n",
"p2=p1+rho/2*(v1^2-v2^2)-rho*g*H_L;\n",
"\n",
"F_u=p1*a1; // Upstream force\n",
"F_d=p2*a2; // Downstream force\n",
"\n",
"F_x=rho*Q/3600*(v2-v1)-F_u+F_d;\n",
"disp('Force required =')\n",
"disp(F_x)\n",
"disp('N')"
   ]
   }
,
{
		   "cell_type": "markdown",
		   "metadata": {},
		   "source": [
			"## Example 2.9: 9.sce"
		   ]
		  },
  {
"cell_type": "code",
	   "execution_count": null,
	   "metadata": {
	    "collapsed": true
	   },
	   "outputs": [],
"source": [
"clc\n",
"N=60; //rpm\n",
"r2=0.25; //m\n",
"g=9.8; //m/s^2\n",
"\n",
"w=2*%pi*N/60;\n",
"dz_12=(w*r2)^2/2/g; // dz_12=z2-z1\n",
"c=w*r2^2;\n",
"dz_23=c^2/2/g/r2^2;// dz_23=z3-z2\n",
"\n",
"dz_13=dz_23+dz_12;\n",
"disp('Total depression =')\n",
"disp(dz_13)\n",
"disp('m')"
   ]
   }
],
"metadata": {
		  "kernelspec": {
		   "display_name": "Scilab",
		   "language": "scilab",
		   "name": "scilab"
		  },
		  "language_info": {
		   "file_extension": ".sce",
		   "help_links": [
			{
			 "text": "MetaKernel Magics",
			 "url": "https://github.com/calysto/metakernel/blob/master/metakernel/magics/README.md"
			}
		   ],
		   "mimetype": "text/x-octave",
		   "name": "scilab",
		   "version": "0.7.1"
		  }
		 },
		 "nbformat": 4,
		 "nbformat_minor": 0
}
