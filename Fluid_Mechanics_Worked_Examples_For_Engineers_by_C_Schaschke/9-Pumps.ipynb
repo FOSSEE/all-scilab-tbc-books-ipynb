{
"cells": [
 {
		   "cell_type": "markdown",
	   "metadata": {},
	   "source": [
       "# Chapter 9: Pumps"
	   ]
	},
{
		   "cell_type": "markdown",
		   "metadata": {},
		   "source": [
			"## Example 9.10: 10.sce"
		   ]
		  },
  {
"cell_type": "code",
	   "execution_count": null,
	   "metadata": {
	    "collapsed": true
	   },
	   "outputs": [],
"source": [
"clc\n",
"dz=10; // z2-z1\n",
"g=9.81; // m/s^2\n",
"d=0.05; // m\n",
"f=0.005; \n",
"L=100; // m\n",
"N1=1200; // rpm\n",
"\n",
"// H=z2-z1+16*Q^2/2/g/%pi^2/d^4*(4*f*L/d+1)\n",
"// H=10+5.42*10^5*Q^2\n",
"\n",
"Q=[0.000 0.002 0.004 0.006 0.008 0.010];\n",
"H_p=[40.0 39.5 38.0 35.0 30.0 20.0];\n",
"H_s=[10.0 12.2 18.7 29.5 44.7 64.2];\n",
"\n",
"plot(Q,H_p, 'b')\n",
"plot(Q,H_s, 'r')\n",
"xtitle('', 'Flow', 'Head')\n",
"legend('pump', 'system')\n",
"\n",
"a=[0.0066 0.0066];\n",
"b=[0 33.8];\n",
"plot(a,b, '--')\n",
"e=[0 0.0066];\n",
"f=[33.8 33.8];\n",
"plot(e,f, '--')\n",
"\n",
"i=[0.0049 0.0049];\n",
"h=[0 23];\n",
"plot(i,h, '--')\n",
"l=[0 0.00495];\n",
"m=[23 23];\n",
"plot(l,m, '--')\n",
"\n",
"// From graph\n",
"H1=34; // m\n",
"H2=23; // m\n",
"Q1=0.0066; // m^3/s\n",
"Q2=0.00495; // m^3/s\n",
"\n",
"disp('Duty point =')\n",
"disp(Q1)\n",
"disp('m^3/s')\n",
"\n",
"N2=N1*(H2/H1)^(1/2);\n",
"disp('The speed of the pump to reduce the flow by 25% =')\n",
"disp(N2)\n",
"disp('rpm')"
   ]
   }
,
{
		   "cell_type": "markdown",
		   "metadata": {},
		   "source": [
			"## Example 9.11: 11.sce"
		   ]
		  },
  {
"cell_type": "code",
	   "execution_count": null,
	   "metadata": {
	    "collapsed": true
	   },
	   "outputs": [],
"source": [
"clc\n",
"Q=0.05; // m^3/s\n",
"v=2; // m/s\n",
"f=0.005;\n",
"L_s=5; // m\n",
"d=0.178; // m\n",
"g=9.81; // m/s^2 \n",
"L_d=20; // m\n",
"p2=1.5*10^5; // N/m^2\n",
"p1=0.5*10^5; // N/m^2\n",
"rho=1000; //kg/m^3\n",
"z2=15; // m\n",
"z1=5; // m\n",
"N1=1500/60; // rps\n",
"\n",
"\n",
"\n",
"\n",
"d=(4*Q/%pi/v)^(1/2);\n",
"H_f_s=4*f*L_s/d*v^2/2/g;\n",
"H_f_d=4*f*L_d/d*v^2/2/g;\n",
"\n",
"H=1/(1-0.25)*((p2-p1)/rho/g + v^2/2/g + z2 - z1 + H_f_s + H_f_d);\n",
"\n",
"// n=rho*g*Q*H/P\n",
"\n",
"Q=[0 5 10 15 20 25];\n",
"H=[9.25 8.81 7.85 6.48 4.81 2.96];\n",
"P=[- 0.96 1.03 1.19 1.26 1.45];\n",
"n=[0 45 75 800 75 50]; \n",
"\n",
"H=27.96; // m\n",
"H1=6.48; // m\n",
"Q1=0.015; // m^3/s\n",
"Q=0.05; // m^3/s\n",
"D1=0.15; // m\n",
"n=0.80;\n",
"\n",
"disp('Differential Head =')\n",
"disp(H)\n",
"disp('m')\n",
"\n",
"N=N1*(H/H1)^(3/4)*(Q1/Q)^(1/2);\n",
"\n",
"D=D1*(Q*N1/Q1/N)^(1/5);\n",
"disp('The impeller diameter =')\n",
"disp(D)\n",
"disp('m')\n",
"\n",
"disp('The rotational speed at maximum efficiency =')\n",
"disp(N)\n",
"disp('rps')\n",
"\n",
"P=rho*g*Q*H/n;\n",
"disp('Power input to the pump =')\n",
"disp(P)\n",
"disp('W')\n",
"\n",
"N_s=N1*Q1^(1/2)/H1^(3/4);"
   ]
   }
,
{
		   "cell_type": "markdown",
		   "metadata": {},
		   "source": [
			"## Example 9.12: 12.sce"
		   ]
		  },
  {
"cell_type": "code",
	   "execution_count": null,
	   "metadata": {
	    "collapsed": true
	   },
	   "outputs": [],
"source": [
"clc\n",
"N=2000/60; // rps\n",
"Q=50/3600; // m^3/s\n",
"g=9.81; // m/s^2\n",
"H=5; // m\n",
"\n",
"S_n=N*Q^(1/2)/(g*H)^(3/4);\n",
"disp('Suction specific speed =')\n",
"disp(S_n)"
   ]
   }
,
{
		   "cell_type": "markdown",
		   "metadata": {},
		   "source": [
			"## Example 9.14: 14.sce"
		   ]
		  },
  {
"cell_type": "code",
	   "execution_count": null,
	   "metadata": {
	    "collapsed": true
	   },
	   "outputs": [],
"source": [
"clc\n",
"A=0.01; // m^2\n",
"L=0.3; // m\n",
"N=60/60; // rps\n",
"V_act=10.6/3600; // m^3/s\n",
"rho=1000; // kg/m^3\n",
"g=9.81; // m/s^2\n",
"Q=10.6/3600; // m^3/s\n",
"H=15; // m\n",
"\n",
"V=A*L*N;\n",
"\n",
"Cd=V_act/V;\n",
"disp('Coefficient of discharge =')\n",
"disp(Cd)\n",
"\n",
"P=rho*g*Q*H;\n",
"disp('The power required =')\n",
"disp(P)\n",
"disp('W')"
   ]
   }
,
{
		   "cell_type": "markdown",
		   "metadata": {},
		   "source": [
			"## Example 9.15: 15.sce"
		   ]
		  },
  {
"cell_type": "code",
	   "execution_count": null,
	   "metadata": {
	    "collapsed": true
	   },
	   "outputs": [],
"source": [
"clc\n",
"// x=r*(1-cos(wt))\n",
"// v=r*wsin(wt)\n",
"// V=2*A*w*r\n",
"// Q=V/2/%pi\n",
"// Q=A*w*r/%pi\n",
"\n",
"// Q_peak=A*w*r\n",
"\n",
"// Q_peak/Q=%pi\n",
"\n",
"disp('The ratio of peak to average flow =')\n",
"disp(%pi)"
   ]
   }
,
{
		   "cell_type": "markdown",
		   "metadata": {},
		   "source": [
			"## Example 9.2: 2.sce"
		   ]
		  },
  {
"cell_type": "code",
	   "execution_count": null,
	   "metadata": {
	    "collapsed": true
	   },
	   "outputs": [],
"source": [
"clc\n",
"d=0.1; // m\n",
"v_r=2; // m/s\n",
"f=0.005;\n",
"g=9.81; // m/s^2\n",
"L_s=2; // m\n",
"L_r=10; // m\n",
"Q1=1.1*10^(-2); // m^3/s\n",
"z_t=12; // m\n",
"z_s=5; // m\n",
"L1=20; // m\n",
"\n",
"Q=%pi*d^2/4*v_r;\n",
"H=12-70*Q-4300*Q^2;\n",
"k=2*g*H/v_r^2 - (4*f*(L_s+L_r)/d) - 1;\n",
"disp('The head loss across the restriction orifice =')\n",
"disp(k)\n",
"disp('velocity heads')\n",
"\n",
"// For the case of the valve being fully open\n",
"v_t=4*Q1/%pi/d^2;\n",
"v_r=((2*g*(z_t-z_s) + (4*f*L1/d + 1)*v_t^2)/(4*f*L_r/d + k + 1))^(1/2);\n",
"\n",
"H1=4*f*L_r/d*v_r^2/2/g + 4*f*L_s/d*(v_r^2+v_t^2)/2/g + k*v_r^2/2/g + v_r^2/2/g;\n",
"\n",
"Q=%pi*d^2/4*(v_t+v_r);\n",
"\n",
"H2=12-70*Q-4300*Q^2;\n",
"\n",
"disp('System head =')\n",
"disp(H1)\n",
"disp('m')\n",
"\n",
"disp('Delivered head =')\n",
"disp(H2)\n",
"disp('m')\n",
"\n",
"disp('The delivered head therefore closely matches the system head at the flow rate of 1.1*10^(-2) m^3/s, corresponding to the duty point')"
   ]
   }
,
{
		   "cell_type": "markdown",
		   "metadata": {},
		   "source": [
			"## Example 9.6: 6.sce"
		   ]
		  },
  {
"cell_type": "code",
	   "execution_count": null,
	   "metadata": {
	    "collapsed": true
	   },
	   "outputs": [],
"source": [
"clc\n",
"NPSH=5; // m\n",
"p_v=18*10^3; // N/m^2\n",
"p_l=0.94*101.3*10^3; // N/m^2 \n",
"rho=970; // kg/m^3\n",
"g=9.81; // m/s^2\n",
"z_s=3; // m\n",
"H_L=0.5; // m\n",
"d=3; // m\n",
"h=2.5; // m\n",
"Q=5; // m^3/h\n",
"\n",
"z1=NPSH+(p_v-p_l)/rho/g + z_s + H_L;\n",
"V=%pi/4*d^2*(h-z1);\n",
"t=V/Q;\n",
"\n",
"disp('Quantity of liquid delivered =')\n",
"disp(V)\n",
"disp('m^3')\n",
"\n",
"disp('Time taken =')\n",
"disp(t)\n",
"disp('h')"
   ]
   }
,
{
		   "cell_type": "markdown",
		   "metadata": {},
		   "source": [
			"## Example 9.8: 8.sce"
		   ]
		  },
  {
"cell_type": "code",
	   "execution_count": null,
	   "metadata": {
	    "collapsed": true
	   },
	   "outputs": [],
"source": [
"clc\n",
"N_s=0.14; // m^(3/4)s^(-3/2)\n",
"H=30; // m\n",
"p_v=7.38*10^3; // N/m^2\n",
"p_l=50*10^3; // N/m^2\n",
"rho=992; // kg/m^3\n",
"g=9.81; // m/s^2\n",
"H_L=0.2; // m\n",
"\n",
"NPSH=2.8*N_s^(4/3)*H;\n",
"z1=NPSH+(p_v-p_l)/rho/g+H_L;\n",
"disp('The minimum level of the alarm =')\n",
"disp(z1)\n",
"disp('m')"
   ]
   }
],
"metadata": {
		  "kernelspec": {
		   "display_name": "Scilab",
		   "language": "scilab",
		   "name": "scilab"
		  },
		  "language_info": {
		   "file_extension": ".sce",
		   "help_links": [
			{
			 "text": "MetaKernel Magics",
			 "url": "https://github.com/calysto/metakernel/blob/master/metakernel/magics/README.md"
			}
		   ],
		   "mimetype": "text/x-octave",
		   "name": "scilab",
		   "version": "0.7.1"
		  }
		 },
		 "nbformat": 4,
		 "nbformat_minor": 0
}
