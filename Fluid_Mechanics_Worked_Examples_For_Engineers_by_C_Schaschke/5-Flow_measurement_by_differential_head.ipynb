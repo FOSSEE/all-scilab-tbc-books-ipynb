{
"cells": [
 {
		   "cell_type": "markdown",
	   "metadata": {},
	   "source": [
       "# Chapter 5: Flow measurement by differential head"
	   ]
	},
{
		   "cell_type": "markdown",
		   "metadata": {},
		   "source": [
			"## Example 5.1: 1.sce"
		   ]
		  },
  {
"cell_type": "code",
	   "execution_count": null,
	   "metadata": {
	    "collapsed": true
	   },
	   "outputs": [],
"source": [
"clc\n",
"rho_m=840; //kg/m^3\n",
"g=9.8; //m/s^2\n",
"H=0.03; //m\n",
"rho=1.2; //kg//m^3\n",
"\n",
"dp=rho_m*g*H;\n",
"\n",
"v1=sqrt(2*dp/rho);\n",
"disp('Velocity =')\n",
"disp(v1)\n",
"disp('m/s')"
   ]
   }
,
{
		   "cell_type": "markdown",
		   "metadata": {},
		   "source": [
			"## Example 5.2: 2.sce"
		   ]
		  },
  {
"cell_type": "code",
	   "execution_count": null,
	   "metadata": {
	    "collapsed": true
	   },
	   "outputs": [],
"source": [
"clc\n",
"r=[0 0.05 0.10 0.15 0.20 0.225 0.25];\n",
"v=[19 18.6 17.7 16.3 14.2 12.9 0];\n",
"\n",
"// We define a new variable dQ=v*2*%pi*r. According to the given values of r, v, we get dQ as follows\n",
"dQ=[0 5.8 11.1 15.4 17.8 18.2 0];\n",
"plot(r,dQ)\n",
"xtitle('', 'Radius', 'v*2*%pi*r')\n",
"// From the graph area under the curve comes out to be 2.74\n",
"Q=2.74; // m^3/s\n",
"disp(' Rate of flow =')\n",
"disp(Q)\n",
"disp('m^3/s')\n",
"\n",
"d=0.5; // m\n",
"\n",
"v=4*Q/%pi/d^2;\n",
"disp('Average velocity =')\n",
"disp(v)\n",
"disp('m/s')"
   ]
   }
,
{
		   "cell_type": "markdown",
		   "metadata": {},
		   "source": [
			"## Example 5.3: 3.sce"
		   ]
		  },
  {
"cell_type": "code",
	   "execution_count": null,
	   "metadata": {
	    "collapsed": true
	   },
	   "outputs": [],
"source": [
"clc\n",
"d1=0.1; //m\n",
"rho_Hg=13600; //kg/m^3\n",
"rho=1000; //kg/m^3\n",
"g=9.81; //m/s^2\n",
"H=0.8; //m\n",
"Cd=0.96;\n",
"Q=0.025; //m^3/s\n",
"\n",
"a=%pi*d1^2/4;\n",
"dp=(rho_Hg-rho)*g*H;\n",
"\n",
"B=((2*dp/(rho*((Q/Cd/a)^2)))+1)^(1/4);\n",
"\n",
"d2=d1/B;\n",
"disp('Throat diameter =')\n",
"disp(d2)\n",
"disp('m')\n",
"\n",
"// The shortest possible overall length of venturi is therefore an entrance cone of 7.1 cm length (20 degrees), a throat of 2.5 cm(0.25 pipe-diameters) and an exit cone of 19.7 cm (7.5 degrees) giving an overall length of 29.3 cm.\n",
"\n",
"L=29.3; //cm\n",
"disp('Overall Length =')\n",
"disp(L)\n",
"disp('m')"
   ]
   }
,
{
		   "cell_type": "markdown",
		   "metadata": {},
		   "source": [
			"## Example 5.4: 4.sce"
		   ]
		  },
  {
"cell_type": "code",
	   "execution_count": null,
	   "metadata": {
	    "collapsed": true
	   },
	   "outputs": [],
"source": [
"clc\n",
"Cd_o=0.65;\n",
"d=0.05;\n",
"d_o=0.025;\n",
"Cd_v=0.95;\n",
"d_v=0.038;\n",
"\n",
"// (Q_o/Cd_o)^2*((d/d_o)^4 - 1)=(Q_v/Cd_v)^2*((d/d_v)^4 - 1)\n",
"\n",
"// Q_v=4*Q_o\n",
"// Q = Q_v + Q_o\n",
"// Q = 5*Qv\n",
"Q1=20;\n",
"Q2=100-Q1;\n",
"\n",
"disp('Flow through orifice =')\n",
"disp(Q1)\n",
"disp('%')\n",
"\n",
"disp('Flow through venturi =')\n",
"disp(Q2)\n",
"disp('%')\n",
"disp('Thus 20 % of the flow passes through the orifice meter while 80 % of the flow passes through the venturi.')"
   ]
   }
,
{
		   "cell_type": "markdown",
		   "metadata": {},
		   "source": [
			"## Example 5.5: 5.sce"
		   ]
		  },
  {
"cell_type": "code",
	   "execution_count": null,
	   "metadata": {
	    "collapsed": true
	   },
	   "outputs": [],
"source": [
"clc\n",
"Qa=0.003/60; // m^3/s\n",
"Ca=20; // g/l\n",
"Co=0.126; // g/l\n",
"dp=3700; // N/m^2\n",
"p=1000; // N/m^2\n",
"d=0.1; // m\n",
"\n",
"a=%pi*d^2/4;\n",
"Qi=Qa*((Ca-Co)/Co);\n",
"Q=Qi+Qa;\n",
"B=10/6;\n",
"\n",
"Cd=Q/a/sqrt(2*dp/p/(B^4-1));\n",
"disp('Coefficient of discharge =')\n",
"disp(Cd)"
   ]
   }
,
{
		   "cell_type": "markdown",
		   "metadata": {},
		   "source": [
			"## Example 5.6: 6.sce"
		   ]
		  },
  {
"cell_type": "code",
	   "execution_count": null,
	   "metadata": {
	    "collapsed": true
	   },
	   "outputs": [],
"source": [
"clc\n",
"rho=850; // kg/m^3\n",
"Q=0.056; // m^3/s\n",
"Cd=0.98;\n",
"d1=0.2; // m\n",
"d2=0.1; // m\n",
"g=9.81; // m/s^2\n",
"dz=0.3; // m\n",
"\n",
"a=%pi*(d1)^2/4;\n",
"\n",
"dp=rho/2*((Q/Cd/a)^2*((d1/d2)^4 - 1) + 2*g*(dz));\n",
"disp('The differential pressure =')\n",
"disp(dp)\n",
"disp('N/m^2')"
   ]
   }
,
{
		   "cell_type": "markdown",
		   "metadata": {},
		   "source": [
			"## Example 5.7: 7.sce"
		   ]
		  },
  {
"cell_type": "code",
	   "execution_count": null,
	   "metadata": {
	    "collapsed": true
	   },
	   "outputs": [],
"source": [
"clc\n",
"g=9.81; // m/s^2\n",
"H=0.5; // m\n",
"rho_m=1075; // kg/m^3\n",
"rho=860; // kg/m^3\n",
"B=0.225/0.075;\n",
"a1=%pi/4*(0.225)^2;\n",
"Cd=0.659;\n",
"\n",
"v_t=sqrt(2*g*H*(rho_m-rho)/rho/(B^4-1));\n",
"\n",
"Q=Cd*a1*v_t;\n",
"disp('Rate of flow =')\n",
"disp(Q)\n",
"disp('m^3/s')"
   ]
   }
,
{
		   "cell_type": "markdown",
		   "metadata": {},
		   "source": [
			"## Example 5.8: 8.sce"
		   ]
		  },
  {
"cell_type": "code",
	   "execution_count": null,
	   "metadata": {
	    "collapsed": true
	   },
	   "outputs": [],
"source": [
"clc\n",
"m_f=0.03; // kg\n",
"rho_f=5100; // kg/m^3\n",
"d_l=0.3; // m\n",
"d_b=0.22; // m\n",
"H_tube=0.2; // m\n",
"Cd=0.6;\n",
"H=0.1; // m\n",
"g=9.81; // m/s^2\n",
"rho=1000; // kg/m^3\n",
"\n",
"V_f=m_f/rho_f;\n",
"\n",
"theta=2*atan((d_l-d_b)/2/H_tube);\n",
"\n",
"m=Cd*H*tan(theta/2)*sqrt(8*V_f*g*rho*(rho_f-rho)*%pi);\n",
"disp('Mass flowrate =')\n",
"disp(m)\n",
"disp('kg/s')"
   ]
   }
,
{
		   "cell_type": "markdown",
		   "metadata": {},
		   "source": [
			"## Example 5.9: 9.sce"
		   ]
		  },
  {
"cell_type": "code",
	   "execution_count": null,
	   "metadata": {
	    "collapsed": true
	   },
	   "outputs": [],
"source": [
"clc\n",
"d1=0.05; // m\n",
"d2=0.025; // m\n",
"Cd=0.97;\n",
"dp=1200; // N/m^2\n",
"rho=1000; // kg/m^3\n",
"H=0.15; // m\n",
"theta=2; // degrees\n",
"V_f=10^(-4); // m^3\n",
"g=9.81; // m/s^2\n",
"rho_f=8000; // kg/m^3\n",
"\n",
"B=d1/d2;\n",
"a=%pi/4*d1^2;\n",
"\n",
"Q=Cd*a*sqrt(2*dp/rho/(B^4-1));\n",
"disp('Flow rate of water =')\n",
"disp(Q)\n",
"disp('m^3/s')\n",
"\n",
"Cd=Q/(H/rho*tand(theta/2)*sqrt(8*V_f*g*rho*(rho_f-rho)*%pi));\n",
"disp('Coefficient of discharge of the rotameter =')\n",
"disp(Cd)"
   ]
   }
],
"metadata": {
		  "kernelspec": {
		   "display_name": "Scilab",
		   "language": "scilab",
		   "name": "scilab"
		  },
		  "language_info": {
		   "file_extension": ".sce",
		   "help_links": [
			{
			 "text": "MetaKernel Magics",
			 "url": "https://github.com/calysto/metakernel/blob/master/metakernel/magics/README.md"
			}
		   ],
		   "mimetype": "text/x-octave",
		   "name": "scilab",
		   "version": "0.7.1"
		  }
		 },
		 "nbformat": 4,
		 "nbformat_minor": 0
}
