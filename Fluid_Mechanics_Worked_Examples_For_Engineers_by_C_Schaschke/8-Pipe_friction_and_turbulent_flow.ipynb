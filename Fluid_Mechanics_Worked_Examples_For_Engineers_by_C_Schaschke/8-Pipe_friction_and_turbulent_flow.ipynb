{
"cells": [
 {
		   "cell_type": "markdown",
	   "metadata": {},
	   "source": [
       "# Chapter 8: Pipe friction and turbulent flow"
	   ]
	},
{
		   "cell_type": "markdown",
		   "metadata": {},
		   "source": [
			"## Example 8.10: 10.sce"
		   ]
		  },
  {
"cell_type": "code",
	   "execution_count": null,
	   "metadata": {
	    "collapsed": true
	   },
	   "outputs": [],
"source": [
"clc\n",
"m=12*10^3/3600; // kg/s\n",
"Rho=815; // kg/m^3\n",
"d=0.05; // m\n",
"e=0.02;\n",
"d1=50; // m\n",
"d2=0.038; // m\n",
"g=9.8; // m\n",
"\n",
"v=4*m/Rho/%pi/d^2;\n",
"\n",
"f1=1/(2*log10(d1/e)+2.28)^2;\n",
"\n",
"L_eq=d1+2*d1*d;\n",
"\n",
"H_50mm=4*f1*L_eq*v^2/(d*2*g);\n",
"\n",
"v=4*m/(Rho*%pi*d2^2);\n",
"\n",
"f2=1/(2*log10(38/e)+2.28)^2;\n",
"\n",
"L_eq=d1+2*d1*d2;\n",
"H_38mm=4*f2*L_eq*v^2/(d2*2*g);\n",
"\n",
"Hr=0.2*v^2/(2*g);\n",
"\n",
"H_L=H_50mm+H_38mm+Hr;\n",
"\n",
"del_p_f=Rho*g*H_L;\n",
"disp('The total pressure drop due to friction through the pipe system is ')\n",
"disp(del_p_f);\n",
"disp('N/m^2')"
   ]
   }
,
{
		   "cell_type": "markdown",
		   "metadata": {},
		   "source": [
			"## Example 8.11: 11.sce"
		   ]
		  },
  {
"cell_type": "code",
	   "execution_count": null,
	   "metadata": {
	    "collapsed": true
	   },
	   "outputs": [],
"source": [
"clc\n",
"// H_L=1.2*v^2/2/g\n",
"\n",
"// H_L=4*f*L_eq/d*V^2/2/g\n",
"\n",
"// L_eq=60*d\n",
"\n",
"// H_L=240*f*v^2/2/g\n",
"// Combining the two equations for head loss \n",
"// 1.2*v^2/2/g=240*f*v^2/2/g\n",
"\n",
"f=1.2/240;\n",
"disp('Friction factor =')\n",
"disp(f)"
   ]
   }
,
{
		   "cell_type": "markdown",
		   "metadata": {},
		   "source": [
			"## Example 8.12: 12.sce"
		   ]
		  },
  {
"cell_type": "code",
	   "execution_count": null,
	   "metadata": {
	    "collapsed": true
	   },
	   "outputs": [],
"source": [
"clc\n",
"// dp_AB+dp_BC=dp_AD+dp_DC\n",
"\n",
"// dp_AD=2*f*rho*v^2*L/d\n",
"\n",
"// dp_AD=16600*(3-Q)^2\n",
"// Likewise \n",
"// dp_AB=16600*Q^2\n",
"// dp_BC=16600*(Q+0.5)^2\n",
"// dp_DC=16600*(2.1-Q)^2\n",
"// By solving above 5 equations, we get\n",
"\n",
"Q=1.175; //litres per second\n",
"\n",
"disp('The rate of flow from B to C =')\n",
"disp(Q+0.5)\n",
"disp('litres per second')\n",
"\n",
"dp_AD=16600*(3-Q)^2;\n",
"dp_AB=16600*Q^2;\n",
"dp_BC=16600*(Q+0.5)^2;\n",
"dp_DC=16600*(2.1-Q)^2;\n",
"\n",
"disp('dp_AD =')\n",
"disp(dp_AD/1000)\n",
"disp('kN/m^2')\n",
"\n",
"disp('dp_AB =')\n",
"disp(dp_AB/1000)\n",
"disp('kN/m^2')\n",
"\n",
"disp('dp_BC =')\n",
"disp(dp_BC/1000)\n",
"disp('kN/m^2')\n",
"\n",
"disp('dp_DC =')\n",
"disp(dp_DC/1000)\n",
"disp('kN/m^2')\n",
"\n",
"\n",
"disp('The lowest pressure drop is in the pipe connecting C and D')"
   ]
   }
,
{
		   "cell_type": "markdown",
		   "metadata": {},
		   "source": [
			"## Example 8.13: 13.sce"
		   ]
		  },
  {
"cell_type": "code",
	   "execution_count": null,
	   "metadata": {
	    "collapsed": true
	   },
	   "outputs": [],
"source": [
"clc\n",
"H2=0.5; //m\n",
"H1=2; //m\n",
"A=4; //m^2\n",
"f=0.005; \n",
"L=20; //m\n",
"d=0.025; //m\n",
"g=9.81; // m/s^2\n",
"\n",
"a=%pi*d^2/4;\n",
"\n",
"t=integrate('-A*sqrt((4*f*L/d)+2.5)/a/(sqrt(2*g))*(H)^(-1/2)', 'H', H1, H2);\n",
"disp('Time taken =')\n",
"disp(t)\n",
"disp('s')"
   ]
   }
,
{
		   "cell_type": "markdown",
		   "metadata": {},
		   "source": [
			"## Example 8.14: 14.sce"
		   ]
		  },
  {
"cell_type": "code",
	   "execution_count": null,
	   "metadata": {
	    "collapsed": true
	   },
	   "outputs": [],
"source": [
"clc\n",
"\n",
"d0=0.15; // m\n",
"d1=0.1; // m\n",
"Q=50/3600; // m^3/s\n",
"f=0.0052;\n",
"Rho=972;\n",
"\n",
"a=%pi/4*((d0)^2-(d1)^2);\n",
"\n",
"P=%pi*((d0)+(d1));\n",
"\n",
"d_eq=4*a/P;\n",
"\n",
"v=Q/a;\n",
"\n",
"del_p_f=2*f*Rho*v^2/d_eq;\n",
"disp('the pressure drop due to friction per metre length of tube is found to be ')\n",
"disp(del_p_f)\n",
"disp('Nm^2/m')"
   ]
   }
,
{
		   "cell_type": "markdown",
		   "metadata": {},
		   "source": [
			"## Example 8.15: 15.sce"
		   ]
		  },
  {
"cell_type": "code",
	   "execution_count": null,
	   "metadata": {
	    "collapsed": true
	   },
	   "outputs": [],
"source": [
"clc\n",
"f=0.005;\n",
"Q=0.07; // m^3/s\n",
"g=9.81; // m/s^2\n",
"\n",
"H_f=integrate('32*f*(Q)^(2)/(%pi)^(2)/g/(0.3-0.0666*L)^(5)', 'L', 0, 3);\n",
"disp('Fractional head loss =')\n",
"disp(H_f)\n",
"disp('m')"
   ]
   }
,
{
		   "cell_type": "markdown",
		   "metadata": {},
		   "source": [
			"## Example 8.16: 16.sce"
		   ]
		  },
  {
"cell_type": "code",
	   "execution_count": null,
	   "metadata": {
	    "collapsed": true
	   },
	   "outputs": [],
"source": [
"clc\n",
"g=9.81; // m/s^2\n",
"H=4; // m\n",
"f=0.006;\n",
"L=50; // m\n",
"d=0.1; // m\n",
"\n",
"v1=sqrt(2*g*H/(4*f*L/d + 1.3));\n",
"\n",
"t=integrate('4/(v1^2-v^2)', 'v', 0, 0.99*v1);\n",
"disp('Time taken =')\n",
"disp(t)\n",
"disp('s')"
   ]
   }
,
{
		   "cell_type": "markdown",
		   "metadata": {},
		   "source": [
			"## Example 8.4: 4.sce"
		   ]
		  },
  {
"cell_type": "code",
	   "execution_count": null,
	   "metadata": {
	    "collapsed": true
	   },
	   "outputs": [],
"source": [
"clc\n",
"rho=867; // kg/m^3\n",
"Q=12/3600; // m^3/s\n",
"u=7.5*10^(-4); // Ns/m^2\n",
"L=200; // m\n",
"H=10; // m\n",
"g=9.81; // m/s^2\n",
"\n",
"d=(H*2*g/(4*0.079*(4*rho*Q/%pi/u)^(-1/4)*L*(4*Q/%pi)^2))^(-4/19);\n",
"disp('Internal diameter of the pipeline =')\n",
"disp(d)\n",
"disp('m')\n",
"\n",
"Re=4*rho*Q/%pi/d/u;\n",
"disp('Re =')\n",
"disp(Re)\n",
"disp('The value of Reynolds number lies between 4000 and 10^5, confirming the validity of using the Blasius equation for smooth-walled pipes')"
   ]
   }
,
{
		   "cell_type": "markdown",
		   "metadata": {},
		   "source": [
			"## Example 8.5: 5.sce"
		   ]
		  },
  {
"cell_type": "code",
	   "execution_count": null,
	   "metadata": {
	    "collapsed": true
	   },
	   "outputs": [],
"source": [
"clc\n",
"m=40/60; // kg/s\n",
"rho=873; // kg/m^3\n",
"d=0.025; // m\n",
"u=8.8*10^-4; // Ns/m^2\n",
"dp=55*10^3; //N/m^2\n",
"L=18; // m\n",
"g=9.81; // m/s^2\n",
"\n",
"v2=4*m/rho/%pi/d^2;\n",
"Re=rho*v2*d/u;\n",
"\n",
"// According to this value of Re, Prandtl's equation is satisfied. \n",
"// 1/sqrt(f)=4*log(Re*sqrt(f))-0.4\n",
"// By trial and error method we get friction factor equal to\n",
"f=0.0055;\n",
"\n",
"H=dp/rho/g + v2^2/2/g + v2^2/2/g*(4*f*L/d+1.5);\n",
"disp('The minimum allowable height =')\n",
"disp(H)\n",
"disp('m')"
   ]
   }
,
{
		   "cell_type": "markdown",
		   "metadata": {},
		   "source": [
			"## Example 8.6: 6.sce"
		   ]
		  },
  {
"cell_type": "code",
	   "execution_count": null,
	   "metadata": {
	    "collapsed": true
	   },
	   "outputs": [],
"source": [
"clc;\n",
"Q=15/3600; // m^3/s\n",
"d=0.05; // m\n",
"Rho=780;\n",
"u=1.7*10^(-3); // Ns/m^2\n",
"f=0.0065;\n",
"L=100; // m\n",
"g=9.8; // m^2/s\n",
"\n",
"v=4*Q/%pi/d^2;\n",
"\n",
"del_pf=2*f*Rho*v^2*L/d;\n",
"disp('The pressure drop due to friction is ')\n",
"disp(del_pf);\n",
"disp('kNm-2')\n",
"\n",
"H_f=4*f*L*v^2/(d*2*g);\n",
"H_exit=v^2/2/g;\n",
"H_entrance=v^2/4/g;\n",
"\n",
"H=H_f+H_exit+H_entrance;\n",
"disp('and the difference in levels is')\n",
"disp(H);\n",
"disp('m');"
   ]
   }
,
{
		   "cell_type": "markdown",
		   "metadata": {},
		   "source": [
			"## Example 8.7: 7.sce"
		   ]
		  },
  {
"cell_type": "code",
	   "execution_count": null,
	   "metadata": {
	    "collapsed": true
	   },
	   "outputs": [],
"source": [
"clc\n",
"f=0.005; \n",
"L=10; // m\n",
"d=0.025; // m\n",
"g=9.81; // m/s^2\n",
"\n",
"// H_L=4*f*L/d*v^2/2/g+0.5*v^2/2/g\n",
"// H_L=8.5*v^2/2/g\n",
"\n",
"// By Bernoulli equation we get\n",
"// H=2.62+9.5*v2^2/2/g\n",
"\n",
"// Applying the Bernoulli equation between the liquid surface and discharge point \n",
"// H_L=33.5*v2^2/2/g\n",
"\n",
"// Solving above two we get\n",
"v2=1.9; // m/s\n",
"\n",
"Q=%pi*d^2/4*v2;\n",
"disp('Rate of flow =')\n",
"disp(Q)\n",
"disp('m^3/s')\n",
"\n",
"H=2.62+9.5*v2^2/2/g;\n",
"disp('The minimum allowable height =')\n",
"disp(H)\n",
"disp('m')"
   ]
   }
,
{
		   "cell_type": "markdown",
		   "metadata": {},
		   "source": [
			"## Example 8.8: 8.sce"
		   ]
		  },
  {
"cell_type": "code",
	   "execution_count": null,
	   "metadata": {
	    "collapsed": true
	   },
	   "outputs": [],
"source": [
"clc;\n",
"d_A=0.025; // m\n",
"v_A=1.21; // m/s\n",
"d_B=0.05; // m\n",
"v_B=1.71; // m/s\n",
"\n",
"Q_A=%pi*d_A^2*v_A/4;\n",
"disp('The rate of flow through parallel pipes A is ')\n",
"disp(Q_A);\n",
"disp('m^3/s')\n",
"\n",
"Q_B=%pi*d_B^2*v_B/4;\n",
"disp('The rate of flow through parallel pipes B is ')\n",
"disp(Q_B);\n",
"disp('m^3/s')"
   ]
   }
,
{
		   "cell_type": "markdown",
		   "metadata": {},
		   "source": [
			"## Example 8.9: 9.sce"
		   ]
		  },
  {
"cell_type": "code",
	   "execution_count": null,
	   "metadata": {
	    "collapsed": true
	   },
	   "outputs": [],
"source": [
"clc\n",
"d2=0.06; // m\n",
"d1=0.12; // m\n",
"k=0.44;\n",
"f=0.05;\n",
"L1=500; // m\n",
"g=9.81; // m/s^2\n",
"\n",
"// v1=d2^2/d1^2*v2\n",
"\n",
"// H_f=4*f*L1/16/d*v2^2/2/g\n",
"// H_c=k*v2^2/2/g\n",
"// H_f=4*f*L2/d*v2^2/2/g\n",
"// H_exit=v2^2/2/g\n",
"\n",
"v2=sqrt(30*2*g/173.4);\n",
"\n",
"Q=%pi*d2^2/4*v2;\n",
"disp('The rate of flow =')\n",
"disp(Q)\n",
"disp('m^3/s')"
   ]
   }
],
"metadata": {
		  "kernelspec": {
		   "display_name": "Scilab",
		   "language": "scilab",
		   "name": "scilab"
		  },
		  "language_info": {
		   "file_extension": ".sce",
		   "help_links": [
			{
			 "text": "MetaKernel Magics",
			 "url": "https://github.com/calysto/metakernel/blob/master/metakernel/magics/README.md"
			}
		   ],
		   "mimetype": "text/x-octave",
		   "name": "scilab",
		   "version": "0.7.1"
		  }
		 },
		 "nbformat": 4,
		 "nbformat_minor": 0
}
