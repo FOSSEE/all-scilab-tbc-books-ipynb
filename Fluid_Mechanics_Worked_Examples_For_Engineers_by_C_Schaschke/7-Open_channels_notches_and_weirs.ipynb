{
"cells": [
 {
		   "cell_type": "markdown",
	   "metadata": {},
	   "source": [
       "# Chapter 7: Open channels notches and weirs"
	   ]
	},
{
		   "cell_type": "markdown",
		   "metadata": {},
		   "source": [
			"## Example 7.10: 10.sce"
		   ]
		  },
  {
"cell_type": "code",
	   "execution_count": null,
	   "metadata": {
	    "collapsed": true
	   },
	   "outputs": [],
"source": [
"clc\n",
"Cd=0.62;\n",
"g=9.81; // m/s^2\n",
"H=0.03; // m\n",
"\n",
"Q=8/15*Cd*sqrt(2*g)*H^(5/2);\n",
"disp('Rate of flow =')\n",
"disp(Q)\n",
"disp('m^3/s')"
   ]
   }
,
{
		   "cell_type": "markdown",
		   "metadata": {},
		   "source": [
			"## Example 7.11: 11.sce"
		   ]
		  },
  {
"cell_type": "code",
	   "execution_count": null,
	   "metadata": {
	    "collapsed": true
	   },
	   "outputs": [],
"source": [
"clc\n",
"l=4; // m\n",
"b=2; // m\n",
"H1=0.15; // m\n",
"H2=0.05; // m\n",
"\n",
"t=integrate('-l*b/1.5*H^(-5/2)', 'H', H1, H2);\n",
"disp('Time taken to reduce the head in the the tank =')\n",
"disp(t)\n",
"disp('s')"
   ]
   }
,
{
		   "cell_type": "markdown",
		   "metadata": {},
		   "source": [
			"## Example 7.2: 2.sce"
		   ]
		  },
  {
"cell_type": "code",
	   "execution_count": null,
	   "metadata": {
	    "collapsed": true
	   },
	   "outputs": [],
"source": [
"clc;\n",
"l=1; // m\n",
"b=0.3; // m\n",
"n=0.014; // s/m^(1/3)\n",
"i=1/1000;\n",
"\n",
"A=l*b;\n",
"P=2*b+l;\n",
"m=A/P;\n",
"\n",
"Q=A/n*m^(2/3)*sqrt(i);\n",
"disp('The delivery of water through the channel is found to be ')\n",
"disp(Q)\n",
"disp('m^3/s')"
   ]
   }
,
{
		   "cell_type": "markdown",
		   "metadata": {},
		   "source": [
			"## Example 7.3: 3.sce"
		   ]
		  },
  {
"cell_type": "code",
	   "execution_count": null,
	   "metadata": {
	    "collapsed": true
	   },
	   "outputs": [],
"source": [
"clc\n",
"n=0.015; // m^(-1/3)s\n",
"i=1;\n",
"H=[4.0 4.1 4.2 4.13];\n",
"\n",
"A=12*H;\n",
"P=12+2*H;\n",
"m=A/P;\n",
"C=m^(1/6)/n;\n",
"\n",
"Q=C*A*sqrt(m*i);\n",
"\n",
"// An analytical solution for depth H is not possible. It is therefore necessary to use a graphical or trial and error approach.\n",
"\n",
"// The corresponding values of A, P, MHD (m), Q are given below as per the taken values of H.\n",
"A=[48 49.2 50.4 49.56];\n",
"P=[20 20.2 20.4 20.26];\n",
"m=[2.4 2.44 2.47 2.45];\n",
"Q=[57.36 59.38 61.39 59.98];\n",
"\n",
"plot(H,Q)\n",
"\n",
"r=[4.13 4.13];\n",
"s=[57 60];\n",
"plot(r,s,'r')\n",
"\n",
"t=[4 4.13];\n",
"u=[60 60];\n",
"plot(t,u,'r')\n",
"\n",
"xtitle('', 'Depth H', 'Flowrate Q')\n",
"\n",
"// Therefore the depth is found to be approximately 4.13\n",
"\n",
"depth=4.13; //m\n",
"disp('Depth = ')\n",
"disp(depth)\n",
"disp('m')\n",
"\n",
"C1=(2.45)^(1/6)/n;\n",
"disp('Chezy Coefficient =')\n",
"disp(C1)"
   ]
   }
,
{
		   "cell_type": "markdown",
		   "metadata": {},
		   "source": [
			"## Example 7.4: 4.sce"
		   ]
		  },
  {
"cell_type": "code",
	   "execution_count": null,
	   "metadata": {
	    "collapsed": true
	   },
	   "outputs": [],
"source": [
"clc;\n",
"Q=300/60; // m^3/s\n",
"i=1/1600;\n",
"\n",
"H=(Q/140*sqrt(2/i))^(2/3);\n",
"\n",
"A=2*H^2;\n",
"disp('The minimum flow area is found to be ')\n",
"disp(A)\n",
"disp('m^2')"
   ]
   }
,
{
		   "cell_type": "markdown",
		   "metadata": {},
		   "source": [
			"## Example 7.5: 5.sce"
		   ]
		  },
  {
"cell_type": "code",
	   "execution_count": null,
	   "metadata": {
	    "collapsed": true
	   },
	   "outputs": [],
"source": [
"clc\n",
"d=0.9144; // m\n",
"C=100; // m^(1/2)s^(-1)\n",
"R=d/2;\n",
"\n",
"H=[0.1 0.15 0.2 0.25 0.201];\n",
"\n",
"theta=acos((R-H)/R);\n",
"A=R^2*(theta-sin(2*theta)/2);\n",
"P=2*R*theta;\n",
"m=A/P;\n",
"\n",
"// An analytical solution for depth H is not possible. It is therefore necessary to use a graphical or trial and error approach.\n",
"\n",
"// The corresponding values of theta, A, P, MHD (m), Q are given below as per the taken values of H.\n",
"\n",
"theta=[0.674 0.834 0.973 1.101 0.975];\n",
"A=[0.039 0.070 0.106 0.146 0.107];\n",
"P=[0.616 0.763 0.890 1.006 0.891];\n",
"m=[0.063 0.092 0.119 0.145 0.120];\n",
"Q=[248.7 543.2 932.2  1412.9 940.0];\n",
"\n",
"plot(H,Q)\n",
"\n",
"i=[0.201 0.201];\n",
"j=[0 940];\n",
"plot(i,j,'r')\n",
"\n",
"k=[0 0.201];\n",
"l=[940 940];\n",
"plot(k,l,'r')\n",
"\n",
"xtitle('', 'Depth H', 'Flowrate Q')\n",
"\n",
"Depth=0.201; // m\n",
"disp('The depth in the channel =')\n",
"disp(Depth)\n",
"disp('m')"
   ]
   }
,
{
		   "cell_type": "markdown",
		   "metadata": {},
		   "source": [
			"## Example 7.7: 7.sce"
		   ]
		  },
  {
"cell_type": "code",
	   "execution_count": null,
	   "metadata": {
	    "collapsed": true
	   },
	   "outputs": [],
"source": [
"clc;\n",
"Cd=0.56;\n",
"B=1.2; // m\n",
"g=9.8; // m/s^2\n",
"H=0.018; // m\n",
"\n",
"Q=2/3*Cd*B*sqrt(2*g)*H^(3/2);\n",
"disp('The rate of flow of liquid over the weir is ')\n",
"disp(Q)\n",
"disp('m^3/h')"
   ]
   }
,
{
		   "cell_type": "markdown",
		   "metadata": {},
		   "source": [
			"## Example 7.8: 8.sce"
		   ]
		  },
  {
"cell_type": "code",
	   "execution_count": null,
	   "metadata": {
	    "collapsed": true
	   },
	   "outputs": [],
"source": [
"clc;\n",
"H2=5.5;\n",
"Q1=217;\n",
"Q2=34;\n",
"H1=8.5;\n",
"\n",
"H0=(H2*(Q1/Q2)^(2/3)-H1)/((Q1/Q2)^(2/3)-1);\n",
"disp('The height of the weir crest above the surface of the river is found to be ')\n",
"disp(H0)\n",
"disp('m')"
   ]
   }
,
{
		   "cell_type": "markdown",
		   "metadata": {},
		   "source": [
			"## Example 7.9: 9.sce"
		   ]
		  },
  {
"cell_type": "code",
	   "execution_count": null,
	   "metadata": {
	    "collapsed": true
	   },
	   "outputs": [],
"source": [
"clc\n",
"H=0.07; // average head \n",
"rate=-0.02/600; // (dH/dt)\n",
"H1=0.08; // m\n",
"H2=0.01; // m\n",
"\n",
"k=-rate/H^(3/2);\n",
"\n",
"t=integrate('-1/k*H^(-3/2)', 'H', H1, H2);\n",
"disp('Time taken =')\n",
"disp(t)\n",
"disp('s')"
   ]
   }
],
"metadata": {
		  "kernelspec": {
		   "display_name": "Scilab",
		   "language": "scilab",
		   "name": "scilab"
		  },
		  "language_info": {
		   "file_extension": ".sce",
		   "help_links": [
			{
			 "text": "MetaKernel Magics",
			 "url": "https://github.com/calysto/metakernel/blob/master/metakernel/magics/README.md"
			}
		   ],
		   "mimetype": "text/x-octave",
		   "name": "scilab",
		   "version": "0.7.1"
		  }
		 },
		 "nbformat": 4,
		 "nbformat_minor": 0
}
