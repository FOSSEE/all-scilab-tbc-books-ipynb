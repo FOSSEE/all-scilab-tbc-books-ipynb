{
"cells": [
 {
		   "cell_type": "markdown",
	   "metadata": {},
	   "source": [
       "# Chapter 4: Dimensional Analysis"
	   ]
	},
{
		   "cell_type": "markdown",
		   "metadata": {},
		   "source": [
			"## Example 4.5: 5.sce"
		   ]
		  },
  {
"cell_type": "code",
	   "execution_count": null,
	   "metadata": {
	    "collapsed": true
	   },
	   "outputs": [],
"source": [
"clc\n",
"Rho_full=800; // kg/m^3\n",
"v_full=1.8; // m/s\n",
"u_full=9*10^(-4);// Nm/s^2\n",
"Rho_model=1000; // kg/m^3\n",
"u_model=10^(-3); // Ns/m^2\n",
"d_full= 2;\n",
"d_model=1;\n",
"del_p_fmodel=4000; // N/m^2\n",
"\n",
"v_model = (((Rho_full * v_full)/u_full)/(Rho_model/u_model))*(d_full/d_model);\n",
"\n",
"del_p_f=del_p_fmodel*Rho_full*(v_full)^2/Rho_model/(v_model)^2;\n",
"disp('The pressure drop per unit length in the full-scale pipe is expected to be ')\n",
"disp(del_p_f)\n",
"disp('kN/m^2');"
   ]
   }
],
"metadata": {
		  "kernelspec": {
		   "display_name": "Scilab",
		   "language": "scilab",
		   "name": "scilab"
		  },
		  "language_info": {
		   "file_extension": ".sce",
		   "help_links": [
			{
			 "text": "MetaKernel Magics",
			 "url": "https://github.com/calysto/metakernel/blob/master/metakernel/magics/README.md"
			}
		   ],
		   "mimetype": "text/x-octave",
		   "name": "scilab",
		   "version": "0.7.1"
		  }
		 },
		 "nbformat": 4,
		 "nbformat_minor": 0
}
