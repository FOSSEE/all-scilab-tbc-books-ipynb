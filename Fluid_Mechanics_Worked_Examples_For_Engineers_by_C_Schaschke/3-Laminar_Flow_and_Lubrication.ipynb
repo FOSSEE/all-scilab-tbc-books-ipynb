{
"cells": [
 {
		   "cell_type": "markdown",
	   "metadata": {},
	   "source": [
       "# Chapter 3: Laminar Flow and Lubrication"
	   ]
	},
{
		   "cell_type": "markdown",
		   "metadata": {},
		   "source": [
			"## Example 3.10: 10.sce"
		   ]
		  },
  {
"cell_type": "code",
	   "execution_count": null,
	   "metadata": {
	    "collapsed": true
	   },
	   "outputs": [],
"source": [
"clc\n",
"rho=1000; //kg/m^3\n",
"u=0.1; //Ns/m^2\n",
"g=9.81; //m/s^2\n",
"L=10; //m\n",
"H=2; //m\n",
"Q=14/3600; //m^3/s\n",
"d=0.05; //m\n",
"\n",
"dp=rho*g*(L+H) - (128*Q*u*L/%pi/0.05^4);\n",
"disp('Pressure drop across the valve =')\n",
"disp(dp)\n",
"disp('N/m^2')"
   ]
   }
,
{
		   "cell_type": "markdown",
		   "metadata": {},
		   "source": [
			"## Example 3.12: 12.sce"
		   ]
		  },
  {
"cell_type": "code",
	   "execution_count": null,
	   "metadata": {
	    "collapsed": true
	   },
	   "outputs": [],
"source": [
"clc\n",
"Q=3*10^(-6); // m^3/s\n",
"u=0.001; // Ns/m^2\n",
"W=1;\n",
"rho=1000; // kg/m^3\n",
"g=9.81; // m/s^2\n",
"d=1.016*10^(-4); // m\n",
"\n",
"theta=asind(3*Q*u/W/rho/g/d^3);\n",
"disp('Exact angle of inclination =')\n",
"disp(theta)\n",
"\n",
"d1=1.25*10^(-4); // m\n",
"\n",
"u1=W*rho*g*sind(theta)*(d1^3)/(3*Q);\n",
"disp('Viscosity of the second liquid =')\n",
"disp(u1)\n",
"disp('Ns/m^2')"
   ]
   }
,
{
		   "cell_type": "markdown",
		   "metadata": {},
		   "source": [
			"## Example 3.17: 17.sce"
		   ]
		  },
  {
"cell_type": "code",
	   "execution_count": null,
	   "metadata": {
	    "collapsed": true
	   },
	   "outputs": [],
"source": [
"clc\n",
"u=1.5; // Ns/m^2\n",
"v=0.5; // m/s\n",
"H=0.02/2; // m\n",
"\n",
"t=-u*3*v/H;\n",
"disp('The shear stress =')\n",
"disp(t)\n",
"disp('N/m^2')\n",
"disp('It acts in the opposite direction to the flow.')"
   ]
   }
,
{
		   "cell_type": "markdown",
		   "metadata": {},
		   "source": [
			"## Example 3.18: 18.sce"
		   ]
		  },
  {
"cell_type": "code",
	   "execution_count": null,
	   "metadata": {
	    "collapsed": true
	   },
	   "outputs": [],
"source": [
"clc\n",
"N=600/60; // revolutions per sec \n",
"r=0.025; // m \n",
"t=400; // N/m^2\n",
"l=0.002; // m\n",
"\n",
"w=2*%pi*N;\n",
"\n",
"u=t*l/w/r;\n",
"disp('Viscosity =')\n",
"disp(u)\n",
"disp('Ns/m^2')\n",
"\n",
"T=integrate('2*%pi*u*w/l*r^3', 'r', 0, r);\n",
"disp('Torque =')\n",
"disp(T)\n",
"disp('Nm')"
   ]
   }
,
{
		   "cell_type": "markdown",
		   "metadata": {},
		   "source": [
			"## Example 3.19: 19.sce"
		   ]
		  },
  {
"cell_type": "code",
	   "execution_count": null,
	   "metadata": {
	    "collapsed": true
	   },
	   "outputs": [],
"source": [
"clc;\n",
"u=0.153; //Ns/m^2\n",
"r=0.05; // m\n",
"N=30; // rps\n",
"t=2/10^5; //s\n",
"L=0.2; // m\n",
"\n",
"tau=u*(2*%pi*N*r/t);\n",
"\n",
"F=tau*2*%pi*r*L;\n",
"\n",
"T=F*r;\n",
"\n",
"w=2*%pi*N;\n",
"P=T*w;\n",
" \n",
"disp('The torque on the bearing is found to be ');\n",
"disp(T);\n",
"disp('Nm');\n",
"disp('and the power required to overcome the frictional resistance is ');\n",
"disp(P);\n",
"disp('W');"
   ]
   }
,
{
		   "cell_type": "markdown",
		   "metadata": {},
		   "source": [
			"## Example 3.20: 20.sce"
		   ]
		  },
  {
"cell_type": "code",
	   "execution_count": null,
	   "metadata": {
	    "collapsed": true
	   },
	   "outputs": [],
"source": [
"clc;\n",
"t=0.0005; // s\n",
"P=22; // \n",
"r=300/60; // \n",
"R_1=0.1; // \n",
"R_2=0.0625; // \n",
"\n",
"w=2*%pi*r;\n",
"\n",
"u=2*t*P/(%pi*w^2*((R_1)^4-(R_2)^4));\n",
"disp('The viscosity of the oil is found to be ');\n",
"disp(u);\n",
"disp('Nsm-2.');"
   ]
   }
,
{
		   "cell_type": "markdown",
		   "metadata": {},
		   "source": [
			"## Example 3.2: 2.sce"
		   ]
		  },
  {
"cell_type": "code",
	   "execution_count": null,
	   "metadata": {
	    "collapsed": true
	   },
	   "outputs": [],
"source": [
"clc\n",
"Re=2000; \n",
"d=0.008; //m\n",
"\n",
"L1=0.058*Re*d;\n",
"disp('The furthest distance the fluid can flow into the 8 mm inside diameter pipe before fully developed laminar flow can exist is ');\n",
"disp(L1);\n",
"disp('m');"
   ]
   }
,
{
		   "cell_type": "markdown",
		   "metadata": {},
		   "source": [
			"## Example 3.4: 4.sce"
		   ]
		  },
  {
"cell_type": "code",
	   "execution_count": null,
	   "metadata": {
	    "collapsed": true
	   },
	   "outputs": [],
"source": [
"clc\n",
"del_p=90*10^3; // N/m^2\n",
"d=0.126; // m\n",
"R=0.126/2; // m\n",
"u=1.2;\n",
"L=60; // m\n",
"Rho=1260;\n",
"\n",
"Q=%pi * del_p * R^4 / (8*u*L);\n",
"disp('The glycerol delivery rate is ');\n",
"disp(Q);\n",
"disp('m^3/s');\n",
"\n",
"Re=4*Rho*Q/(u*%pi*d);\n",
"disp('The Reynolds number is ');\n",
"disp(Re);\n",
"disp('As Re is below 2000, therefore confirming laminar flow.');"
   ]
   }
,
{
		   "cell_type": "markdown",
		   "metadata": {},
		   "source": [
			"## Example 3.5: 5.sce"
		   ]
		  },
  {
"cell_type": "code",
	   "execution_count": null,
	   "metadata": {
	    "collapsed": true
	   },
	   "outputs": [],
"source": [
"clc\n",
"u=0.015; //Ns/m^2\n",
"Q=0.004/60; //m^3/s\n",
"dp=100;\n",
"rho=1100; //kg/m^3\n",
"\n",
"R=(8*u*Q/(%pi*dp))^(1/4);\n",
"Re=(4*rho*Q/(%pi*u*(2*R)));\n",
"\n",
"disp('Diameter of the pipe =')\n",
"disp(R)\n",
"disp('m')\n",
"\n",
"disp('Reynolds number =')\n",
"disp(Re)"
   ]
   }
,
{
		   "cell_type": "markdown",
		   "metadata": {},
		   "source": [
			"## Example 3.6: 6.sce"
		   ]
		  },
  {
"cell_type": "code",
	   "execution_count": null,
	   "metadata": {
	    "collapsed": true
	   },
	   "outputs": [],
"source": [
"clc\n",
"u=0.03; //Ns/m^2\n",
"Q=10^(-7); //m^3/s\n",
"dp=integrate('8*u*Q/%pi/0.005^4/(1-L)^4', 'L', 0, 0.5)\n",
"disp('Pressure difference =')\n",
"disp(dp)\n",
"disp('N/m^2')"
   ]
   }
,
{
		   "cell_type": "markdown",
		   "metadata": {},
		   "source": [
			"## Example 3.8: 8.sce"
		   ]
		  },
  {
"cell_type": "code",
	   "execution_count": null,
	   "metadata": {
	    "collapsed": true
	   },
	   "outputs": [],
"source": [
"clc\n",
"u=0.1; // Ns/m^2\n",
"d=0.1; //m\n",
"R=0.05; // m\n",
"Rho=900; //kg/m^3\n",
"\n",
"v_max=2; // m/s\n",
"v=v_max/2; // m/s\n",
"\n",
"disp('At the pipe wall (r =R), therefore, the shear stress is');\n",
"Tw=-2*u*v_max/R;\n",
"disp(Tw);\n",
"disp('N/m^2');\n",
"disp('The negative sign indicates that the shear stress is in the opposite direction to flow.');\n",
"\n",
"disp('pressure drop per metre length of pipe is');\n",
"\n",
"del_p=4*u*v_max/R^2;\n",
"disp(del_p);\n",
"disp('N/m');"
   ]
   }
,
{
		   "cell_type": "markdown",
		   "metadata": {},
		   "source": [
			"## Example 3.9: 9.sce"
		   ]
		  },
  {
"cell_type": "code",
	   "execution_count": null,
	   "metadata": {
	    "collapsed": true
	   },
	   "outputs": [],
"source": [
"clc\n",
"u=0.032; // Ns/m^2\n",
"Re=2000; // maximum value\n",
"Rho=854;\n",
"del_p=150; // N/m^2\n",
"\n",
"d=(32*u^2*Re/(Rho*del_p))^(1/3);\n",
"disp('The maximum inside diameter is found to be ')\n",
"disp(d)\n",
"disp('m')"
   ]
   }
],
"metadata": {
		  "kernelspec": {
		   "display_name": "Scilab",
		   "language": "scilab",
		   "name": "scilab"
		  },
		  "language_info": {
		   "file_extension": ".sce",
		   "help_links": [
			{
			 "text": "MetaKernel Magics",
			 "url": "https://github.com/calysto/metakernel/blob/master/metakernel/magics/README.md"
			}
		   ],
		   "mimetype": "text/x-octave",
		   "name": "scilab",
		   "version": "0.7.1"
		  }
		 },
		 "nbformat": 4,
		 "nbformat_minor": 0
}
