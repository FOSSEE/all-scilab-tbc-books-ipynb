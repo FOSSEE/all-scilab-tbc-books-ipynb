{
"cells": [
 {
		   "cell_type": "markdown",
	   "metadata": {},
	   "source": [
       "# Chapter 14: Programmable Interface Devices "
	   ]
	},
{
		   "cell_type": "markdown",
		   "metadata": {},
		   "source": [
			"## Example 14.1: INITIALIZE_HYPOTHETICAL_CHIP_AS_OUTPUT_BUFFER.sce"
		   ]
		  },
  {
"cell_type": "code",
	   "execution_count": null,
	   "metadata": {
	    "collapsed": true
	   },
	   "outputs": [],
"source": [
"// page no 414\n",
"// example no 14.1\n",
"// INITIALIZE HYPOTHETICAL CHIP AS OUTPUT BUFFER\n",
"clc;\n",
"printf('MVI A,01H \n');    // Set D0=1, D1 through D7 are don't care lines.\n",
"a=hex2dec(['1']);\n",
"b=dec2bin(a,8);\n",
"printf('A--> ')\n",
"disp(b);\n",
"printf('\n \n OUT FFH \n \n');  // write in the control register.\n",
"printf('MVI A,BYTE1 \n \n');    // load data byte.\n",
"printf('OUT FEH');     // send data out."
   ]
   }
,
{
		   "cell_type": "markdown",
		   "metadata": {},
		   "source": [
			"## Example 14.2: ADDRESS_DETERMINATION_OF_GIVEN_FIGURE.sce"
		   ]
		  },
  {
"cell_type": "code",
	   "execution_count": null,
	   "metadata": {
	    "collapsed": true
	   },
	   "outputs": [],
"source": [
"// page no 420\n",
"// example no 14.2\n",
"// ADDRESS DETERMINATION OF GIVEN FIGURE\n",
"clc;\n",
"printf('To select the chip: \n \n');\n",
"printf('A15 A14 A13 A12 A11 \n');\n",
"printf(' 0   0   0   1   0 \n \n');\n",
"printf('A15,A14            Enable lines of 8205  \n');\n",
"printf('A13,A12,A11        Input logic to activate the putput line O4 of the 8205 \n \n');\n",
"printf('A15,A14,A13,A12,A11 = A7,A6,A5,A4,A3, = 2H \n \n');\n",
"printf('AD2   AD1   AD0  =  Address Ports \n');\n",
"printf(' 0     0     0   =  20H Control or status register \n');\n",
"printf(' 0     0     1   =  21H Port A \n');\n",
"printf(' 0     1     0   =  22H Port B \n');\n",
"printf(' 0     1     1   =  23H Port C \n');\n",
"printf(' 1     0     0   =  24H Timer LSB \n');\n",
"printf(' 1     0     1   =  25H Timer MSB \n \n');\n",
"printf('Port numbers in given figure thus range from 20H-25H');"
   ]
   }
],
"metadata": {
		  "kernelspec": {
		   "display_name": "Scilab",
		   "language": "scilab",
		   "name": "scilab"
		  },
		  "language_info": {
		   "file_extension": ".sce",
		   "help_links": [
			{
			 "text": "MetaKernel Magics",
			 "url": "https://github.com/calysto/metakernel/blob/master/metakernel/magics/README.md"
			}
		   ],
		   "mimetype": "text/x-octave",
		   "name": "scilab",
		   "version": "0.7.1"
		  }
		 },
		 "nbformat": 4,
		 "nbformat_minor": 0
}
