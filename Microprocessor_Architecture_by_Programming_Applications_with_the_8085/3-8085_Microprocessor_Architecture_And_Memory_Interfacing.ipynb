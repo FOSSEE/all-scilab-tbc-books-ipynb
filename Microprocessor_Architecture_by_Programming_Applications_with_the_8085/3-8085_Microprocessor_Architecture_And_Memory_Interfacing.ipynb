{
"cells": [
 {
		   "cell_type": "markdown",
	   "metadata": {},
	   "source": [
       "# Chapter 3: 8085 Microprocessor Architecture And Memory Interfacing"
	   ]
	},
{
		   "cell_type": "markdown",
		   "metadata": {},
		   "source": [
			"## Example 3.2: EXECUTING_THE_INSTRUCTION.sce"
		   ]
		  },
  {
"cell_type": "code",
	   "execution_count": null,
	   "metadata": {
	    "collapsed": true
	   },
	   "outputs": [],
"source": [
"//page no 78\n",
"//example no 3.2\n",
"//EXECUTING THE INSTRUCTION.\n",
"clc;\n",
"A=82; //contents of the accumulator.\n",
"printf('Accumulator= ');\n",
"disp(A);\n",
"TR=A; //contents of the accumulator tranferred to the temporary register.\n",
"printf('Temporary Register= ');\n",
"disp(TR);\n",
"C=TR; //contents of the temporary register are transferred to register C.\n",
"printf('Register C= ');\n",
"disp(C);"
   ]
   }
,
{
		   "cell_type": "markdown",
		   "metadata": {},
		   "source": [
			"## Example 3.3: TIME_REQUIRED_FOR_EXECUTION.sce"
		   ]
		  },
  {
"cell_type": "code",
	   "execution_count": null,
	   "metadata": {
	    "collapsed": true
	   },
	   "outputs": [],
"source": [
"//page no 82\n",
"//example no 3.3\n",
"//TIME REQUIRED FOR EXECUTION.\n",
"clc;\n",
"A=32; // MVI A,32H loads the value 32 in accumulator.\n",
"printf('Accumulator= ');\n",
"disp(A);\n",
"//calculating the execution time for instruction.\n",
"f=2; // clock frequncy.\n",
"printf('clock frequency= %f MHz \n',f);\n",
"t=1/f; // T-state=clock period\n",
"printf('T-state=clock period= %f microsec \n',t);\n",
"t1=4*t; // execution time for opcode fetch.\n",
"printf('Execution time for opcode fetch= %f microsec \n',t1);\n",
"t2=3*t; // execution time for memory read.\n",
"printf('Execution time for memory read= %f microsec \n',t2);\n",
"t3=7*t; // execution time for instruction.\n",
"printf('Execution time for instruction= %f microsec \n',t3);"
   ]
   }
,
{
		   "cell_type": "markdown",
		   "metadata": {},
		   "source": [
			"## Example 3.5: MEMORY_ADDRESS_RANGE_OF_6116.sce"
		   ]
		  },
  {
"cell_type": "code",
	   "execution_count": null,
	   "metadata": {
	    "collapsed": true
	   },
	   "outputs": [],
"source": [
"////page no 91\n",
"//example no 3.5\n",
"//MEMORY ADDRESS RANGE OF 6116.\n",
"clc;\n",
"printf('A10-A0 are  address lines for register select. \n');\n",
"printf('A15-A11 are address lines for chip select. \n \n');\n",
"printf('A15 A14 A13 A12 A11 \n');\n",
"printf(' 1  0   0   0   1 \n \n'); //chip select bits have to be active low always to select that chip.\n",
"printf('A10 A9 A8 A7 A6 A5 A4 A3 A2 A1 A0 \n');\n",
"printf('0   0  0  0  0  0  0  0  0  0  0  \n'); //this selects the register \n",
"printf('The above combination selects the memory address 8800H. \n \n');\n",
"printf('A15 A14 A13 A12 A11 \n');\n",
"printf(' 1  0   0   0   1 \n \n'); //chip select bits have to be active low always to select that chip.\n",
"printf('A10 A9 A8 A7 A6 A5 A4 A3 A2 A1 A0 \n');\n",
"printf('1   1  1  1  1  1  1  1  1  1  1  \n'); //this selects the register  \n",
"printf('The above combination selects the memory address 88FFH. \n \n');\n",
"//thus this chip can select any memory location from 8800H to 88FFH."
   ]
   }
,
{
		   "cell_type": "markdown",
		   "metadata": {},
		   "source": [
			"## Example 3.6: MEMORY_ADDRESS_RANGE_OF_8155.sce"
		   ]
		  },
  {
"cell_type": "code",
	   "execution_count": null,
	   "metadata": {
	    "collapsed": true
	   },
	   "outputs": [],
"source": [
"////page no 95\n",
"//example no 3.6\n",
"//MEMORY ADDRESS RANGE OF 8155.\n",
"clc;\n",
"printf('A7-A0 are address lines for register select. \n');\n",
"printf('A10-A8 address lines are dont care conditions. \n');\n",
"printf('A15-A11 are address lines for chip select. \n \n');\n",
"printf('A15 A14 A13 A12 A11 \n');\n",
"printf(' 0  0   1   0   0 \n \n'); //chip select bits have to be active low always to select that chip.\n",
"printf('A10 A9 A8 \n');\n",
"printf('0  0  1  \n \n'); //this is the don't care condition.\n",
"printf('A7 A6 A5 A4 A3 A2 A1 A0 \n');\n",
"printf('0  0  0  0  0  0  0  0  \n'); //this selects the register \n",
"printf('The above combination selects the memory address 2100H. \n \n');\n",
"printf('A15 A14 A13 A12 A11 \n');\n",
"printf(' 0  0   1   0   0 \n \n'); //chip select bits have to be active low always to select that chip.\n",
"printf('A10 A9 A8 \n');\n",
"printf('0  0  1  \n \n'); //this is the don't care condition.\n",
"printf('A7 A6 A5 A4 A3 A2 A1 A0 \n');\n",
"printf('1  1  1  1  1  1  1  1  \n'); //this selects the register \n",
"printf('The above combination selects the memory address 21FFH. \n \n');\n",
"//thus this chip can select any memory location from 2100H to 21FFH."
   ]
   }
],
"metadata": {
		  "kernelspec": {
		   "display_name": "Scilab",
		   "language": "scilab",
		   "name": "scilab"
		  },
		  "language_info": {
		   "file_extension": ".sce",
		   "help_links": [
			{
			 "text": "MetaKernel Magics",
			 "url": "https://github.com/calysto/metakernel/blob/master/metakernel/magics/README.md"
			}
		   ],
		   "mimetype": "text/x-octave",
		   "name": "scilab",
		   "version": "0.7.1"
		  }
		 },
		 "nbformat": 4,
		 "nbformat_minor": 0
}
