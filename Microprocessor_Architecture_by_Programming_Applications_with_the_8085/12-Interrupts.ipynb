{
"cells": [
 {
		   "cell_type": "markdown",
	   "metadata": {},
	   "source": [
       "# Chapter 12: Interrupts"
	   ]
	},
{
		   "cell_type": "markdown",
		   "metadata": {},
		   "source": [
			"## Example 12.1: ENABLE_INTERRUPTS.sce"
		   ]
		  },
  {
"cell_type": "code",
	   "execution_count": null,
	   "metadata": {
	    "collapsed": true
	   },
	   "outputs": [],
"source": [
"// page no 374\n",
"// example no 12.1\n",
"// ENABLE INTERRUPTS\n",
"clc;\n",
"printf('EI \n \n');   // enable interrupts\n",
"printf('MVI A,08H \n');\n",
"a=hex2dec(['8']);\n",
"b=dec2bin(a,8);\n",
"printf('A--> ')\n",
"disp(b);\n",
"printf('\n SIM \n \n');  // enable RST 7.5,6.5, and 5.5\n",
"printf('D3=1     SIM functional \n');\n",
"printf('D2=0     Enable RST 7.5 \n');\n",
"printf('D1=0     Enable RST 6.5 \n');\n",
"printf('D0=0     Enable RST 5.5 \n');"
   ]
   }
,
{
		   "cell_type": "markdown",
		   "metadata": {},
		   "source": [
			"## Example 12.2: RESET_INTERRUPT.sce"
		   ]
		  },
  {
"cell_type": "code",
	   "execution_count": null,
	   "metadata": {
	    "collapsed": true
	   },
	   "outputs": [],
"source": [
"// page no 374\n",
"// example no 12.2\n",
"// RESET 7.5 INTERRUPT\n",
"clc;\n",
"printf('MVI A,18H \n');    // set D4=1\n",
"a=hex2dec(['18']);\n",
"b=dec2bin(a,8);\n",
"printf('A--> ')\n",
"disp(b);\n",
"printf('\n \n SIM');      // Reset 7.5 interrupt flip flop"
   ]
   }
,
{
		   "cell_type": "markdown",
		   "metadata": {},
		   "source": [
			"## Example 12.3: CHECK_PENDING_INTERRUPT.sce"
		   ]
		  },
  {
"cell_type": "code",
	   "execution_count": null,
	   "metadata": {
	    "collapsed": true
	   },
	   "outputs": [],
"source": [
"// page no 375\n",
"// example no 12.3\n",
"// CHECK PENDING INTERRUPT\n",
"clc;\n",
"printf('RIM instruction interpretation \n \n');\n",
"printf('D7=SID                      Serial input data if any \n');\n",
"printf('D6,D5,D4= I7.5,I6.5,I5.5    Pending interrupts: 1= pending \n');\n",
"printf('D3=IE                       Interrupt enable flag: 1= enabled \n');\n",
"printf('D2,D1,D0= M7.5,M6.5,M5.5    Interrupt masks: 1= masked \n \n \n');\n",
"\n",
"\n",
"printf('Instructions \n \n');\n",
"printf('        RIM \n');            // Read interrupt mask\n",
"printf('        MOV B,A \n');        // save mask information\n",
"printf('        ANI 20H \n');        // check whether RST 6.5 is pending\n",
"printf('        JNZ NEXT \n');\n",
"printf('        EI \n');\n",
"printf('        RET \n');           // RST 6.5 is not pending, return to main program\n",
"printf('NEXT:   MOV A,B \n');       // get bit pattern; RST 6.5 is pending\n",
"printf('        ANI 0DH \n');       // enables RST 6.5 by setting D1=0\n",
"printf('        ORI 08H\n');        // enable SIM by setting D3=1\n",
"printf('        SIM \n');\n",
"printf('        JMP SERV \n');      // jump to service routine for RST 6.5"
   ]
   }
],
"metadata": {
		  "kernelspec": {
		   "display_name": "Scilab",
		   "language": "scilab",
		   "name": "scilab"
		  },
		  "language_info": {
		   "file_extension": ".sce",
		   "help_links": [
			{
			 "text": "MetaKernel Magics",
			 "url": "https://github.com/calysto/metakernel/blob/master/metakernel/magics/README.md"
			}
		   ],
		   "mimetype": "text/x-octave",
		   "name": "scilab",
		   "version": "0.7.1"
		  }
		 },
		 "nbformat": 4,
		 "nbformat_minor": 0
}
