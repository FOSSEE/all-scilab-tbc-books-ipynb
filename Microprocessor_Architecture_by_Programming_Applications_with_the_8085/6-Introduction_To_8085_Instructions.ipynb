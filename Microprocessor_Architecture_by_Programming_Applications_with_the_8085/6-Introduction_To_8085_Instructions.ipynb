{
"cells": [
 {
		   "cell_type": "markdown",
	   "metadata": {},
	   "source": [
       "# Chapter 6: Introduction To 8085 Instructions"
	   ]
	},
{
		   "cell_type": "markdown",
		   "metadata": {},
		   "source": [
			"## Example 6.1: LOAD_A_DATA_TO_ONE_REGISTER_AND_MOVE_IT_TO_ANOTHER.sce"
		   ]
		  },
  {
"cell_type": "code",
	   "execution_count": null,
	   "metadata": {
	    "collapsed": true
	   },
	   "outputs": [],
"source": [
"//page no 164\n",
"//example no 6.1\n",
"//LOAD A DATA TO ONE REGISTER AND MOVE IT TO ANOTHER.\n",
"clc;\n",
"A=hex2dec(['82']); //storing the decimal value of hexadecimal no 82 in accumulator A\n",
"B=dec2hex([A]); //storing the hexadecimal value of A in B\n",
"print(%io(2),B); //displaying the hexadecimal number in register B"
   ]
   }
,
{
		   "cell_type": "markdown",
		   "metadata": {},
		   "source": [
			"## Example 6.2: TO_SWITCH_ON_SOME_DEVICES.sce"
		   ]
		  },
  {
"cell_type": "code",
	   "execution_count": null,
	   "metadata": {
	    "collapsed": true
	   },
	   "outputs": [],
"source": [
"//page no 164\n",
"//example 6.2\n",
"//TO SWITCH ON SOME DEVICES\n",
"//let the switches which are ON are at bit no D0,D1,D2,D3,D6;\n",
"clc;\n",
"x=hex2dec(['4F']); //hexadecimal to decimal conversion\n",
"y=dec2bin(x); //decimal to binary conversion\n",
"printf('At output port 01H: '); //same input appears at the putput\n",
"disp(y);\n",
"printf('Value 1s are showing the devices are ON. \n')\n",
"printf('Value 0s are showing the devices are switched OFF.');"
   ]
   }
,
{
		   "cell_type": "markdown",
		   "metadata": {},
		   "source": [
			"## Example 6.3: ADDITION_OF_TWO_NUMBERS.sce"
		   ]
		  },
  {
"cell_type": "code",
	   "execution_count": null,
	   "metadata": {
	    "collapsed": true
	   },
	   "outputs": [],
"source": [
"//page no 174\n",
"//example 6.3\n",
"//ADDITION OF TWO NUMBERS.\n",
"//93H is stored in accumulator. Converting it into decimal.\n",
"clc;\n",
"A=hex2dec(['93']);\n",
"//B7H is stored in register C. Converting it into decimal.\n",
"C=hex2dec(['B7']);\n",
"X=A+C; // the result comes out to be 330\n",
"Z=X-256;\n",
"//X=330; // this is a decimal value. Converting it into hexadecimal\n",
"Y=dec2hex(Z);\n",
"printf('Sum= ')\n",
"disp(Y);\n",
"if X>255 then\n",
"    printf('CY=1')\n",
"else\n",
"    printf('CY=0')\n",
"end\n",
"\n",
""
   ]
   }
,
{
		   "cell_type": "markdown",
		   "metadata": {},
		   "source": [
			"## Example 6.4: CONTINUATION_OF_PREVIOUS_EXAMPLE.sce"
		   ]
		  },
  {
"cell_type": "code",
	   "execution_count": null,
	   "metadata": {
	    "collapsed": true
	   },
	   "outputs": [],
"source": [
"//page no 175\n",
"//example 6.4\n",
"//CONTINUATION OF PREVIOUS EXAMPLE.\n",
"//the sum of previous example is added to 35H\n",
"clc;\n",
"S=hex2dec(['4A']); //4AH is converted into decimal value.\n",
"A=hex2dec(['35']); //35H is converted into decimal value\n",
"s=A+S; //the result comes out to be 127. it is a decimal value\n",
"Y=dec2hex(s);\n",
"printf('Sum= ')\n",
"disp(Y);\n",
"if s>255 then\n",
"    printf('CY=1')\n",
"else\n",
"    printf('CY=0')\n",
"end\n",
""
   ]
   }
,
{
		   "cell_type": "markdown",
		   "metadata": {},
		   "source": [
			"## Example 6.5: INCRIMENTING_ACCUMULATOR_CONTENT.sce"
		   ]
		  },
  {
"cell_type": "code",
	   "execution_count": null,
	   "metadata": {
	    "collapsed": true
	   },
	   "outputs": [],
"source": [
"//page no 175\n",
"//example no 6.5\n",
"//INCRIMENTING ACCUMULATOR CONTENT.\n",
"//accumulator holds the data FFH\n",
"clc;\n",
"A=hex2dec(['FF']); //converting FFH into decimal value\n",
"//decimal value of 01H is 01. Adding 01 to A\n",
"Y=A+1; //the result comes out to be 256\n",
"Z=Y-256;\n",
"X=dec2hex(Z);\n",
"printf('Sum =')\n",
"disp(X);\n",
"if Y>255 then\n",
"    printf('CY=1 \n')\n",
"else\n",
"    printf('CY=0 \n')\n",
"end\n",
"if Z>127 then\n",
"    printf('S=1 \n')\n",
"else\n",
"    printf('S=0 \n')\n",
"end\n",
"if Z>0 then\n",
"    printf('Z=0 \n')\n",
"else\n",
"    printf('Z=1 \n')\n",
"end\n",
"\n",
""
   ]
   }
,
{
		   "cell_type": "markdown",
		   "metadata": {},
		   "source": [
			"## Example 6.6: SUBTRACTION_OF_TWO_NUMBERS.sce"
		   ]
		  },
  {
"cell_type": "code",
	   "execution_count": null,
	   "metadata": {
	    "collapsed": true
	   },
	   "outputs": [],
"source": [
"//page no 179\n",
"//example 6.6\n",
"//SUBTRACTION OF TWO NUMBERS.\n",
"//accumulator has 97H. Converting it into decimal value\n",
"clc;\n",
"A=hex2dec(['97']);\n",
"//register B has 65H. Finding 2's compliment of 65H.\n",
"B=hex2dec(['65']);\n",
"X=256-B;\n",
"Y=A+X;\n",
"S=Y-256;\n",
"Z=dec2hex(S);\n",
"printf('Subtraction= ')\n",
"disp(Z);\n",
"if Y>255 then\n",
"    CY=1;\n",
"    printf('The result is positive. \n');\n",
"else\n",
"    CY=0;\n",
"    printf('The result is negative. \n')\n",
"end\n",
"if S>127 then\n",
"    printf('S=1 \n')\n",
"else\n",
"    printf('S=0 \n')\n",
"end\n",
"if S>0 then\n",
"    printf('Z=0 \n')\n",
"else\n",
"    printf('Z=1 \n')\n",
"end"
   ]
   }
,
{
		   "cell_type": "markdown",
		   "metadata": {},
		   "source": [
			"## Example 6.7: PERFORMING_LOGICAL_OPERATIONS.sce"
		   ]
		  },
  {
"cell_type": "code",
	   "execution_count": null,
	   "metadata": {
	    "collapsed": true
	   },
	   "outputs": [],
"source": [
"//page no 185\n",
"//example no 6.7\n",
"//PERFORMING LOGICAL OPERATIONS.\n",
"//register B holds 93H.Binary of 93H is 10010011\n",
"//register A holds 15H. Binary of 15H is 00010101.\n",
"clc;\n",
"B=[1 0 0 1 0 0 1 1]; //taking the value of A in matrix form.\n",
"A=[0 0 0 1 0 1 0 1]; //taking the value of B in matrix form.\n",
"Y= bitor(A,B); // getting OR of A & B\n",
"printf('OR of A & B is')\n",
"disp(Y);\n",
"if Y(1,1)==1 then\n",
"    printf('S=1 \n');\n",
"else\n",
"    printf('S=0 \n');\n",
"end\n",
"if Y==0 then\n",
"    printf('Z=1 \n');\n",
"else\n",
"    printf('Z=0 \n');\n",
"end\n",
"printf('CY=0 \n');\n",
"R=bitxor(A,B); //getting XOR of A & B\n",
"printf('XOR of A & B is')\n",
"disp(R);\n",
"if R(1,1)==1 then\n",
"    printf('S=1 \n');\n",
"else\n",
"    printf('S=0 \n');\n",
"end\n",
"if R==0 then\n",
"    printf('Z=1 \n');\n",
"else\n",
"    printf('Z=0 \n');\n",
"end\n",
"printf('CY=0 \n');\n",
"K=bitcmp(A,1); //getting the compliment of A\n",
"printf('Compliment of A is: \n');\n",
"disp(K);"
   ]
   }
,
{
		   "cell_type": "markdown",
		   "metadata": {},
		   "source": [
			"## Example 6.8: KEEPING_THE_RADIO_ON.sce"
		   ]
		  },
  {
"cell_type": "code",
	   "execution_count": null,
	   "metadata": {
	    "collapsed": true
	   },
	   "outputs": [],
"source": [
"//page no 186\n",
"//example no 6.8\n",
"//KEEPING THE RADIO ON.\n",
"//to keep the radio on without affecting the other appliances, the D4 bit should always be 1\n",
"//assuming an input input binary 10101010\n",
"clc;\n",
"A=[1 0 1 0 1 0 1 0];\n",
"B=[0 0 0 1 0 0 0 0];\n",
"Y=bitor(A,B); //ORing input (A) with B to keep the D4 bit always set\n",
"disp(Y);\n",
"printf('D4 bit will always be one without affecting the other bits');"
   ]
   }
,
{
		   "cell_type": "markdown",
		   "metadata": {},
		   "source": [
			"## Example 6.9: TURN_OFF_THE_AIR_CONDITIONER.sce"
		   ]
		  },
  {
"cell_type": "code",
	   "execution_count": null,
	   "metadata": {
	    "collapsed": true
	   },
	   "outputs": [],
"source": [
"//page no 187\n",
"//example no 6.9\n",
"//TURN OFF THE AIR CONDITIONER.\n",
"//to turn OFF the air conditioner, reset bit D7\n",
"//Assuming the same input as earlier as it is a continuation of previous example.\n",
"clc;\n",
"A=[1 0 1 0 1 0 1 0];\n",
"B=[0 1 1 1 1 1 1 1];\n",
"Y=bitand(A,B); //ANDing input (A) with B to keep the D4 bit always set\n",
"disp(Y);\n",
"printf('D7 bit will always be zero without affecting the other bits');"
   ]
   }
],
"metadata": {
		  "kernelspec": {
		   "display_name": "Scilab",
		   "language": "scilab",
		   "name": "scilab"
		  },
		  "language_info": {
		   "file_extension": ".sce",
		   "help_links": [
			{
			 "text": "MetaKernel Magics",
			 "url": "https://github.com/calysto/metakernel/blob/master/metakernel/magics/README.md"
			}
		   ],
		   "mimetype": "text/x-octave",
		   "name": "scilab",
		   "version": "0.7.1"
		  }
		 },
		 "nbformat": 4,
		 "nbformat_minor": 0
}
