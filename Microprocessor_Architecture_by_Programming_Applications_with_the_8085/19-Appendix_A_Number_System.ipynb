{
"cells": [
 {
		   "cell_type": "markdown",
	   "metadata": {},
	   "source": [
       "# Chapter 19: Appendix A Number System"
	   ]
	},
{
		   "cell_type": "markdown",
		   "metadata": {},
		   "source": [
			"## Example 19.1: BINARY_INTO_HEX_AND_OCTAL.sce"
		   ]
		  },
  {
"cell_type": "code",
	   "execution_count": null,
	   "metadata": {
	    "collapsed": true
	   },
	   "outputs": [],
"source": [
"// page no 622\n",
"// example no A.1\n",
"// BINARY INTO HEX AND OCTAL\n",
"clc;\n",
"printf('Binary no= 10011010 \n \n');\n",
"str='10011010';\n",
"h=bin2dec(str);\n",
"H=dec2hex(h);\n",
"printf('Hex Equivalent= ');\n",
"disp(H);\n",
"O=dec2oct(h);\n",
"printf('\n Octal Equivalent= ')\n",
"disp(O);"
   ]
   }
,
{
		   "cell_type": "markdown",
		   "metadata": {},
		   "source": [
			"## Example 19.2: SUBTRACTION_OF_TWO_NUMBERS.sce"
		   ]
		  },
  {
"cell_type": "code",
	   "execution_count": null,
	   "metadata": {
	    "collapsed": true
	   },
	   "outputs": [],
"source": [
"// page no 623\n",
"// example no A.2\n",
"// SUBTRACTION OF TWO NUMBERS\n",
"clc;\n",
"printf('Minuend: 52 \n');\n",
"printf('Subtrahend: 23 \n \n')\n",
"printf('BORROW METHOD \n \n');\n",
"\n",
"m=5*10+2; // minuend\n",
"s=2*10+3; // subtrahend\n",
"// to subtract 3 from 2, 10 must be borrowed from the second place of the minuend.\n",
"\n",
"m=4*10+12;\n",
"\n",
"sub=m-s;\n",
"printf('Subtraction= ')\n",
"disp(sub);\n",
"\n",
"printf('\n \n 10s COMPLEMENT METHOD \n \n');\n",
"\n",
"// 9's complement of 23 is\n",
"\n",
"n=99-23;\n",
"// add 1 to the 9's complement to find the 10's complement\n",
"t=n+1;\n",
"// add the 10's complement of the subtrahend(23) to minuend(52) to subtract 23 from 52\n",
"a=m+t;\n",
"// subtract 100 from a to compensate for the 100 that was added to find the 10's complement of 23\n",
"sub=a-100;\n",
"printf('Subtraction= ');\n",
"disp(sub);"
   ]
   }
,
{
		   "cell_type": "markdown",
		   "metadata": {},
		   "source": [
			"## Example 19.3: SUBTRACTION_OF_TWO_NUMBERS.sce"
		   ]
		  },
  {
"cell_type": "code",
	   "execution_count": null,
	   "metadata": {
	    "collapsed": true
	   },
	   "outputs": [],
"source": [
"// page no 624\n",
"// example no A.3\n",
"// SUBTRACTION OF TWO NUMBERS\n",
"clc;\n",
"printf('Minuend: 23 \n');\n",
"printf('Subtrahend: 52 \n \n')\n",
"printf('BORROW METHOD \n \n');\n",
"\n",
"m=2*10+3; // minuend\n",
"s=5*10+2; // subtrahend\n",
"// subtraction of the digits in the first place results in \n",
"a=3-2;\n",
"// to subtract the digits in the second place a borrow is required from the third place. assuming 1 at third place.\n",
"\n",
"x=12-5; // with a borrowed 1 from the third place\n",
"\n",
"sub=10*x+a;\n",
"printf('Subtraction= ')\n",
"disp(sub);\n",
"printf('this is negative 29, expressed in 10s complement. \n negative sign is verified by the borrowed 1 from the third place.');\n",
"\n",
"printf('\n \n 10s COMPLEMENT METHOD \n \n');\n",
"\n",
"// 9's complement of 52 is\n",
"\n",
"n=99-52;\n",
"// add 1 to the 9's complement to find the 10's complement\n",
"t=n+1;\n",
"// add the 10's complement of the subtrahend(23) to minuend(52) to subtract 23 from 52\n",
"a=m+t;\n",
"\n",
"printf('Subtraction= ');\n",
"disp(a);\n",
"printf('this is negative 29, expressed in 10s complement');"
   ]
   }
,
{
		   "cell_type": "markdown",
		   "metadata": {},
		   "source": [
			"## Example 19.4: 2s_COMPLIMENT_OF_BINARY_NUMBER.sce"
		   ]
		  },
  {
"cell_type": "code",
	   "execution_count": null,
	   "metadata": {
	    "collapsed": true
	   },
	   "outputs": [],
"source": [
"// page no 625\n",
"// example no A.4\n",
"// 2's COMPLIMENT OF BINARY NUMBER\n",
"clc;\n",
"printf('Given binary no= 00011100 \n \n');\n",
"str='00011100'\n",
"d=bin2dec(str);\n",
"x=bitcmp(d,8);\n",
"s=x+1;\n",
"y=dec2bin(s);\n",
"printf('2s complement=');\n",
"disp(y);"
   ]
   }
,
{
		   "cell_type": "markdown",
		   "metadata": {},
		   "source": [
			"## Example 19.5: SUBTRACTION_OF_TWO_NUMBERS.sce"
		   ]
		  },
  {
"cell_type": "code",
	   "execution_count": null,
	   "metadata": {
	    "collapsed": true
	   },
	   "outputs": [],
"source": [
"// page no 626\n",
"// example no A.5\n",
"// SUBTRACTION OF TWO NUMBERS\n",
"clc;\n",
"printf('Subtrahend= 32H \n');\n",
"printf('Minuend= 45H \n \n');\n",
"// finding 2's complement of subtrahend (32H);\n",
"m=hex2dec(['45']);\n",
"x=hex2dec(['32']);\n",
"y=bitcmp(x,8); // 1's compliment of 32H\n",
"z=y+1; // 2's compliment of 32H\n",
"s=m+z; \n",
"f=s-256; // to compensate the effect of 2's compliment\n",
"e=dec2hex(f);\n",
"printf('Subtraction= ');\n",
"disp(e);"
   ]
   }
,
{
		   "cell_type": "markdown",
		   "metadata": {},
		   "source": [
			"## Example 19.6: SUBTRACTION_OF_TWO_NUMBERS.sce"
		   ]
		  },
  {
"cell_type": "code",
	   "execution_count": null,
	   "metadata": {
	    "collapsed": true
	   },
	   "outputs": [],
"source": [
"// page no 626\n",
"// example no A.6\n",
"// SUBTRACTION OF TWO NUMBERS\n",
"clc;\n",
"printf('Subtrahend= 45H \n');\n",
"printf('Minuend= 32H \n \n');\n",
"// finding 2's complement of subtrahend (32H);\n",
"m=hex2dec(['32']);\n",
"x=hex2dec(['45']);\n",
"y=bitcmp(x,8); // 1's compliment of 32H\n",
"z=y+1; // 2's compliment of 32H\n",
"s=m+z; \n",
"r=dec2hex(s);\n",
"printf('Subtraction= ');\n",
"disp(r);\n",
"printf('The result is negative & it is expressed in 2s complement.')"
   ]
   }
,
{
		   "cell_type": "markdown",
		   "metadata": {},
		   "source": [
			"## Example 19.7: SUBTRACTION_OF_UNSIGNED_NUMBERS.sce"
		   ]
		  },
  {
"cell_type": "code",
	   "execution_count": null,
	   "metadata": {
	    "collapsed": true
	   },
	   "outputs": [],
"source": [
"// page no 628\n",
"// example no A.7\n",
"// SUBTRACTION OF UNSIGNED NUMBERS\n",
"clc;\n",
"printf('Part a \n \n')\n",
"printf('Subtrahend= 62H \n');\n",
"printf('Minuend= FAH \n \n');\n",
"// finding 2's complement of subtrahend (62H);\n",
"m=hex2dec(['FA']);\n",
"x=hex2dec(['62']);\n",
"y=bitcmp(x,8); // 1's compliment of 62H\n",
"z=y+1; // 2's compliment of 62H\n",
"s=m+z; \n",
"f=s-256; // to compensate the effect of 2's compliment\n",
"e=dec2hex(f);\n",
"printf('Subtraction= ');\n",
"disp(e);\n",
"printf('This result is positive \n \n');\n",
"\n",
"\n",
"printf('Part b \n \n')\n",
"printf('Subtrahend= FAH \n');\n",
"printf('Minuend= 62H \n \n');\n",
"// finding 2's complement of subtrahend (FAH);\n",
"m=hex2dec(['62']);\n",
"x=hex2dec(['FA']);\n",
"y=bitcmp(x,8); // 1's compliment of FAH\n",
"z=y+1; // 2's compliment of FAH\n",
"s=m+z; \n",
"r=dec2hex(s);\n",
"printf('Subtraction= ');\n",
"disp(r);\n",
"printf('The result is negative & it is expressed in 2s complement.')"
   ]
   }
,
{
		   "cell_type": "markdown",
		   "metadata": {},
		   "source": [
			"## Example 19.8: SUBTRACTION_OF_SIGNED_NUMBERS.sce"
		   ]
		  },
  {
"cell_type": "code",
	   "execution_count": null,
	   "metadata": {
	    "collapsed": true
	   },
	   "outputs": [],
"source": [
"// page no 629\n",
"// example no A.8\n",
"// SUBTRACTION OF SIGNED NUMBERS\n",
"clc;\n",
"printf('Part a \n \n')\n",
"printf('Minuend= FAH \n \n');\n",
"printf('It is a negative no since D7= 1 for FAH, this must be represented in \n2s compliment form. \n');\n",
"// finding 2's complement of subtrahend (FAH);\n",
"m=hex2dec(['FA']);\n",
"x=hex2dec(['62']);\n",
"y=bitcmp(m,8); // 1's compliment of FAH\n",
"z=y+1; // 2's compliment of FAH\n",
"printf('2s compliment of minuend is= ');\n",
"disp(z);\n",
"\n",
"printf('\n \n Subtrahend= 62H \n');\n",
"printf('It is a positive no since D7= 0 for 62H. \n');\n",
"// subtraction can be represented as\n",
"// FAH-62H= (-06H)-(+62H)\n",
"s=-x-z; \n",
"a=-s;\n",
"d=dec2hex(a);\n",
"printf('Subtraction= ');\n",
"disp(s);\n",
"disp(d);\n",
"printf('in hexadecimal with a negative sign \n \n');\n",
"g=bitcmp(a,8); // 1's compliment of result\n",
"q=g+1; // 2's compliment of result\n",
"e=dec2hex(q);\n",
"printf('2s compliment of result would be= ');\n",
"disp(e);"
   ]
   }
,
{
		   "cell_type": "markdown",
		   "metadata": {},
		   "source": [
			"## Example 19.9: ADDITION_OF_TWO_POSITIVE_NUMBERS.sce"
		   ]
		  },
  {
"cell_type": "code",
	   "execution_count": null,
	   "metadata": {
	    "collapsed": true
	   },
	   "outputs": [],
"source": [
"//page no 629\n",
"//example no A.9\n",
"// ADDITION OF TWO POSITIVE NUMBERS\n",
"clc;\n",
"//the given numbers are 41H & 54H.\n",
"A=hex2dec(['41']);\n",
"B=hex2dec(['54']) \n",
"Y=A+B; \n",
"X=dec2hex(Y);\n",
"printf('Sum =')\n",
"disp(X);\n",
"if Y>255 then             // checking the carry flag.\n",
"    printf('CY=1 \n \n')   \n",
"else\n",
"    printf('CY=0 \n \n')\n",
"end\n",
"if Y>127 then            // checking the sign flag.\n",
"    printf('S=1 \n \n')\n",
"else\n",
"    printf('S=0 \n \n')\n",
"end\n",
"if Y>0 then               // checking the zero flag.\n",
"    printf('Z=0 \n \n')\n",
"else\n",
"    printf('Z=1 \n \n')\n",
"end\n",
"\n",
""
   ]
   }
],
"metadata": {
		  "kernelspec": {
		   "display_name": "Scilab",
		   "language": "scilab",
		   "name": "scilab"
		  },
		  "language_info": {
		   "file_extension": ".sce",
		   "help_links": [
			{
			 "text": "MetaKernel Magics",
			 "url": "https://github.com/calysto/metakernel/blob/master/metakernel/magics/README.md"
			}
		   ],
		   "mimetype": "text/x-octave",
		   "name": "scilab",
		   "version": "0.7.1"
		  }
		 },
		 "nbformat": 4,
		 "nbformat_minor": 0
}
