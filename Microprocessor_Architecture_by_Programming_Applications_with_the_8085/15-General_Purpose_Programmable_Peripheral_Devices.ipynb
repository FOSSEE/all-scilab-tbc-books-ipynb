{
"cells": [
 {
		   "cell_type": "markdown",
	   "metadata": {},
	   "source": [
       "# Chapter 15: General Purpose Programmable Peripheral Devices"
	   ]
	},
{
		   "cell_type": "markdown",
		   "metadata": {},
		   "source": [
			"## Example 15.1: PORT_ADDRESS_CONTROL_WORD_ADDRESS_AND_READ_THE_DIP_SWITCHES.sce"
		   ]
		  },
  {
"cell_type": "code",
	   "execution_count": null,
	   "metadata": {
	    "collapsed": true
	   },
	   "outputs": [],
"source": [
"// page no 449\n",
"// example no 15.1\n",
"// PORT ADDRESS CONTROL WORD ADDRESS AND READ THE DIP SWITCHES\n",
"clc;\n",
"printf('1 Port Address \n \n');\n",
"printf('Port A                  =    8000H  (A1=0,A0=0) \n');\n",
"printf('Port B                  =    8001H  (A1=0,A0=1) \n');\n",
"printf('Port C                  =    8002H  (A1=1,A0=0) \n');\n",
"printf('Control Register        =    8003H  (A1=1,A0=1) \n \n');\n",
"\n",
"\n",
"printf('2 Control Word \n \n');\n",
"printf('D7 D6 D5 D4 D3 D2 D1 D0 \n');\n",
"printf('1  0  0  0  0  0  1  1         = 83H \n \n'); \n",
"printf('D7=1     I/O Function \n');\n",
"printf('D6,D5=0  Port A in Mode 0 \n');\n",
"printf('D4=0     Port A= output \n');\n",
"printf('D3=0     Port C upper= output \n');\n",
"printf('D2=0     Port B in Mode 0 \n');\n",
"printf('D1=1     Port B= input \n');\n",
"printf('D0=1     Port C1= input \n \n');\n",
"\n",
"\n",
"printf('3 Program \n \n');\n",
"printf('MVI A,83H \n');  // load accumulator with the control word.\n",
"printf('STA 8003H \n');  // write word in the control register to initialize the ports.\n",
"printf('LDA 8001H \n');  // reads switches at port B.\n",
"printf('STA 8000H \n');  // display the reading at port A.\n",
"printf('LDA 8002H \n');  // read switches at port C.\n",
"printf('ANI 0FH \n');    // mask the upper four bits of port C, these bits are not input data.\n",
"printf('RLC \n');        // rotate and place the data in the upper half of the accumulator.\n",
"printf('RLC \n');\n",
"printf('RLC \n');\n",
"printf('RLC \n');\n",
"printf('STA 8002H \n');  // display data at port C upper.\n",
"printf('HLT \n');"
   ]
   }
,
{
		   "cell_type": "markdown",
		   "metadata": {},
		   "source": [
			"## Example 15.2: BSR_CONTROL_WORD_SUBROUTINE.sce"
		   ]
		  },
  {
"cell_type": "code",
	   "execution_count": null,
	   "metadata": {
	    "collapsed": true
	   },
	   "outputs": [],
"source": [
"// page no 453\n",
"// example no 15.2\n",
"// BSR CONTROL WORD SUBROUTINE\n",
"clc;\n",
"printf('BSR Control Words \n \n');\n",
"printf('D7 D6 D5 D4 D3 D2 D1 D0 \n');\n",
"printf('0  0  0  0  1  1  1  1         = 0FH      To set bit PC7 \n'); \n",
"printf('0  0  0  0  1  1  1  0         = 0EH      To reset bit PC7 \n');\n",
"printf('0  0  0  0  0  1  1  1         = 07H      To set bit PC3 \n');\n",
"printf('0  0  0  0  0  1  1  0         = 06H      To reset bit PC3 \n \n');\n",
"\n",
"\n",
"printf('Port Address \n \n');\n",
"printf('Control Register Address = 83H \n \n');\n",
"\n",
"\n",
"printf('Subroutine \n \n');\n",
"printf('MVI A,0FH \n');       // load byte in accumulator to set PC7\n",
"printf('OUT 83H \n');         // set PC7=1\n",
"printf('MVI A,07H \n');       // load byte in accumulator to set PC3.\n",
"printf('OUT 83H \n');         // set PC3=1.\n",
"printf('CALL DELAY \n');      // this is a 10 microsec delay.\n",
"printf('MVI A,06H \n');       // load byte in accumulator to reset PC3\n",
"printf('OUT 83H \n');         // reset PC3\n",
"printf('MVI A,0EH \n');       // load byte in accumulator to reset PC7.\n",
"printf('OUT 83H \n');         // reset PC7\n",
"printf('RET');"
   ]
   }
,
{
		   "cell_type": "markdown",
		   "metadata": {},
		   "source": [
			"## Example 15.3: INSTRUCTIONS_TO_GENERATE_A_PULSE_FROM_COUNTER_0.sce"
		   ]
		  },
  {
"cell_type": "code",
	   "execution_count": null,
	   "metadata": {
	    "collapsed": true
	   },
	   "outputs": [],
"source": [
"// page no 483\n",
"// example no 15.3\n",
"// INSTRUCTIONS TO GENERATE A PULSE FROM COUNTER 0\n",
"clc;\n",
"printf('Control Word \n \n');\n",
"printf('D7 D6 D5 D4 D3 D2 D1 D0 \n');\n",
"printf('0  0  0  1  0  1  0  0         = 14H \n \n'); \n",
"printf('D7,D6=0        Select counter 0 \n');\n",
"printf('D5,D4=01       Load 8 bit count \n');\n",
"printf('D3,D2,D1=010   Mode 2 \n');\n",
"printf('D0=0           Binary Count \n \n');\n",
"\n",
"\n",
"printf('Count \n \n');\n",
"count=(50*10^-6)/(0.5*10^-6);\n",
"printf('Count= ');\n",
"disp(count);\n",
"disp(dec2hex(count));\n",
"printf('in hexadecimal \n \n');\n",
"\n",
"\n",
"printf('Instructions \n \n');\n",
"printf('PULSE: \n')\n",
"printf('MVI A,00010100B \n');    // control word mode 2 & counter 0.\n",
"printf('OUT 83H \n');            // write in 8254 control register.\n",
"printf('MVI A,64H \n');          // low order byte of the count.\n",
"printf('OUT 80H \n');            // load counter 0 with low order byte\n",
"printf('HLT');"
   ]
   }
,
{
		   "cell_type": "markdown",
		   "metadata": {},
		   "source": [
			"## Example 15.4: INSTRUCTIONS_TO_GENERATE_SQUARE_WAVE_PULSE_FROM_COUNTER_1.sce"
		   ]
		  },
  {
"cell_type": "code",
	   "execution_count": null,
	   "metadata": {
	    "collapsed": true
	   },
	   "outputs": [],
"source": [
"// page no 484\n",
"// example no 15.4\n",
"// INSTRUCTIONS TO GENERATE SQUARE WAVE PULSE FROM COUNTER 1\n",
"clc;\n",
"printf('Control Word \n \n');\n",
"printf('D7 D6 D5 D4 D3 D2 D1 D0 \n');\n",
"printf('0  1  1  1  0  1  1  0         = 76H \n \n'); \n",
"printf('D7,D6=01       Select counter 1 \n');\n",
"printf('D5,D4=11       Load 16 bit count \n');\n",
"printf('D3,D2,D1=011   Mode 3 \n');\n",
"printf('D0=0           Binary Count \n \n');\n",
"\n",
"\n",
"printf('Count \n \n');\n",
"count=(1*10^-3)/(0.5*10^-6);\n",
"printf('Count= ');\n",
"disp(count);\n",
"b=dec2hex(2000);\n",
"disp(b);\n",
"printf('in hexadecimal \n \n');\n",
"\n",
"\n",
"printf('Instructions \n \n');\n",
"printf('SQWAVE: \n');\n",
"printf('MVI A,01110110B \n');    // control word mode 3 & counter 1.\n",
"printf('OUT 83H \n');            // write in 8254 control register.\n",
"printf('MVI A,D0H \n');          // low order byte of the count.\n",
"printf('OUT 81H \n');            // load counter 1 with low order byte.\n",
"printf('MVI A,07H \n');          // high order byte of the count.\n",
"printf('OUT 81H \n');            // load counter 1 with high order byte\n",
"printf('HLT');"
   ]
   }
,
{
		   "cell_type": "markdown",
		   "metadata": {},
		   "source": [
			"## Example 15.5: SUBROUTINE_TO_GENERATE_AN_INTERRUPT.sce"
		   ]
		  },
  {
"cell_type": "code",
	   "execution_count": null,
	   "metadata": {
	    "collapsed": true
	   },
	   "outputs": [],
"source": [
"// page no 486\n",
"// example no 15.5\n",
"// SUBROUTINE TO GENERATE AN INTERRUPT\n",
"clc;\n",
"printf('Control Word \n \n');\n",
"printf('D7 D6 D5 D4 D3 D2 D1 D0 \n');\n",
"printf('0  1  1  1  0  1  0  0         = 74H      Counter 1 \n'); \n",
"printf('1  0  0  1  0  1  0  0         = 94H      Counter 2 \n \n');\n",
"printf('D7,D6          Select counter 1 \n');\n",
"printf('D5,D4          Load count \n');\n",
"printf('D3,D2,D1=010   Mode 2 \n');\n",
"printf('D0=0           Binary Count \n \n');\n",
"\n",
"\n",
"\n",
"printf('Instructions \n \n');\n",
"printf('CNT1LO  EQU 50H \n');\n",
"printf('CNT1HI  EQU C3H \n');\n",
"printf('COUNT2  EQU 40H \n');\n",
"printf('SECOND  MVI A,01110100B \n');    // control word mode 2 & counter 1.\n",
"printf('        OUT 83H \n');            // write in 8254 control register.\n",
"printf('        MVI A,10010100B \n');    // control word mode 2 & counter 2.\n",
"printf('        OUT 83H \n');            // write in 8254 control register.\n",
"printf('        MVI A,CNT1LO \n');       // Low order byte of count 50000\n",
"printf('        OUT 81H \n');            // Load counter 1 with low order byte\n",
"printf('        MVI A,CNT1HI \n');       // high order byte of count 50000.\n",
"printf('        OUT 81H \n');            // load counter 1 with high order byte\n",
"printf('        MVI A,COUNT2 \n');       // Count for Counter 2.\n",
"printf('        OUT 82H \n');            // load counter 2.\n",
"printf('        RET');\n",
""
   ]
   }
,
{
		   "cell_type": "markdown",
		   "metadata": {},
		   "source": [
			"## Example 15.6: EXPLANATION_OF_INSTRUCTIONS.sce"
		   ]
		  },
  {
"cell_type": "code",
	   "execution_count": null,
	   "metadata": {
	    "collapsed": true
	   },
	   "outputs": [],
"source": [
"// page no 493\n",
"// example no 15.6\n",
"// EXPLANATION OF INSTRUCTIONS\n",
"clc;\n",
"printf('1) DI instruction disables the interrupts. \n \n');\n",
"printf('2) Command word 76H specifies the following parameters \n');\n",
"printf('A7 A6 A5 A4 A3 A2 A1 A0 \n');\n",
"printf('0  1  1  1  0  1  1  0       =76H \n');\n",
"printf('A7,A6,A5    Low order address bits \n');\n",
"printf('A3          Edge triggered \n');\n",
"printf('A2          Call address interval is four locations \n');\n",
"printf('A1          Single 8259A \n \n');\n",
"printf('Low order byte of the IR0 call address \n');\n",
"printf('A7 A6 A5 A4 A3 A2 A1 A0 \n');\n",
"printf('0  1  1  0  0  0  0  0       =60H \n');\n",
"printf('The address bits A4-A0 are supplied by 8259A. \n');\n",
"printf('Subsequent addresses are four locations apart eg. IR1=64H')\n",
"printf('3) Port address of the 8259SA for ICW1 is 80H, A0 should be at \n logic 0 & the other bits are determined by the decoder. \n \n');\n",
"printf('4) Command word ICW2 is 20H. \n \n');\n",
"printf('5) Port address of ICW2 is 81H, A0 should be at logic 1.');"
   ]
   }
,
{
		   "cell_type": "markdown",
		   "metadata": {},
		   "source": [
			"## Example 15.8: INITIALIZATION_INSTRUCTIONS_FOR_DMA.sce"
		   ]
		  },
  {
"cell_type": "code",
	   "execution_count": null,
	   "metadata": {
	    "collapsed": true
	   },
	   "outputs": [],
"source": [
"// page no 502\n",
"// example no 15.8\n",
"// INITIALIZATION INSTRUCTIONS FOR DMA\n",
"clc;\n",
"printf('MVI A,00000100B \n \n');\n",
"printf('A7 A6 A5 A4 A3 A2 A1 A0 \n');\n",
"printf('0  0  0  0  0  1  0  0 \n');\n",
"printf('A2=1        Disable DMA \n \n');\n",
"printf('OUT 08H \n');\n",
"printf('MVI A,00000111B \n \n');\n",
"printf('A7 A6 A5 A4 A3 A2 A1 A0 \n');\n",
"printf('0  0  0  0  0  1  1  1 \n');\n",
"printf('A7,A6=00    Demand mode  \n');\n",
"printf('A5=0        Increment address \n');\n",
"printf('A4=0        Disable auto load \n');\n",
"printf('A3,A2=01    Write \n');\n",
"printf('A1,A0=11    Ch 3 \n \n');\n",
"printf('OUT 0BH \n');            // Send to mode reg.\n",
"printf('MVI A,75H \n');          // Low order byte of starting address\n",
"printf('OUT 06H \n');            // Output to CH3 memory address reg.\n",
"printf('MVI A,40H \n');          // High order byte of starting address\n",
"printf('OUT 06H \n');            // Output to CH3 memory address reg.\n",
"printf('MVI A,FFH \n');          // Low order byte of the count 03FFH\n",
"printf('OUT 07H \n');            // Output to CH3 count reg.\n",
"printf('MVI A,03H \n');          // High order byte of the count 03FFH\n",
"printf('OUT 07H \n');            // Output to CH3 count reg.\n",
"printf('MVI A,10000000B \n \n');\n",
"printf('A7 A6 A5 A4 A3 A2 A1 A0 \n');\n",
"printf('1  0  0  0  0  0  0  0 \n');\n",
"printf('A7,A6=10    DACK DREQ High  \n');\n",
"printf('A5=0        Late write \n');\n",
"printf('A4=0        Fixed priority \n');\n",
"printf('A3=0        Normal time \n');\n",
"printf('A2=0        DMA enable \n')\n",
"printf('A0=0        Disable mem to mem \n \n');\n",
"printf('OUT 08H \n');"
   ]
   }
],
"metadata": {
		  "kernelspec": {
		   "display_name": "Scilab",
		   "language": "scilab",
		   "name": "scilab"
		  },
		  "language_info": {
		   "file_extension": ".sce",
		   "help_links": [
			{
			 "text": "MetaKernel Magics",
			 "url": "https://github.com/calysto/metakernel/blob/master/metakernel/magics/README.md"
			}
		   ],
		   "mimetype": "text/x-octave",
		   "name": "scilab",
		   "version": "0.7.1"
		  }
		 },
		 "nbformat": 4,
		 "nbformat_minor": 0
}
