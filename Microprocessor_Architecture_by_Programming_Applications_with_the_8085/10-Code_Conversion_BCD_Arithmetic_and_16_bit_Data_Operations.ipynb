{
"cells": [
 {
		   "cell_type": "markdown",
	   "metadata": {},
	   "source": [
       "# Chapter 10: Code Conversion BCD Arithmetic and 16 bit Data Operations"
	   ]
	},
{
		   "cell_type": "markdown",
		   "metadata": {},
		   "source": [
			"## Example 10.1: BCD_TO_BINARY.sce"
		   ]
		  },
  {
"cell_type": "code",
	   "execution_count": null,
	   "metadata": {
	    "collapsed": true
	   },
	   "outputs": [],
"source": [
"// page no 310\n",
"// example 10.1\n",
"// BCD TO BINARY\n",
"// BCD into its binary equivalent.\n",
"// given BCD no is 72\n",
"clc;\n",
"a=72;\n",
"    x=modulo(a,10);   // seperating the units digit\n",
"    printf('Unpacked BCD1 ')\n",
"    disp(dec2bin(x,8));\n",
"a=a/10;              // seperating the tens place digit\n",
"a=floor(a);\n",
"printf('\n \n Unpacked BCD2');\n",
"disp(dec2bin(a,8));\n",
"printf('\n \n Multiply BCD2 by 10 and add BCD1');"
   ]
   }
,
{
		   "cell_type": "markdown",
		   "metadata": {},
		   "source": [
			"## Example 10.2: ADDITION_OF_PACKED_BCD_NUMBERS.sce"
		   ]
		  },
  {
"cell_type": "code",
	   "execution_count": null,
	   "metadata": {
	    "collapsed": true
	   },
	   "outputs": [],
"source": [
"// page no 321\n",
"// example no 10.2\n",
"// ADDITION OF PACKED BCD NUMBERS\n",
"clc;\n",
"a=77;\n",
"b=48;\n",
"x=modulo(a,10);\n",
"y=modulo(b,10);\n",
"z=x+y;\n",
"if z>9 then\n",
"    f=z+6;\n",
"   \n",
"    printf('After addition BCD1 is: ')\n",
"    disp(dec2bin(f));\n",
"    printf('MSB of this sequence is the carry generated after addition. \n \n')\n",
"else\n",
"    printf('After addition BCD1 is: ')\n",
"    disp(z);\n",
"end\n",
"x=a/10;\n",
"x=floor(x);\n",
"y=b/10;\n",
"y=floor(y);\n",
"z=x+y;\n",
"if z>9 then\n",
"    f=z+6;\n",
"    f=f+1;  // this 1 is the carry of BCD1.\n",
"    printf('After addition BCD2 is: ')\n",
"    disp(dec2bin(f));\n",
"    printf('MSB of this sequence is the carry generated after addition.')\n",
"else\n",
"    printf('After addition BCD1 is: ')\n",
"    disp(z);\n",
"end\n",
"printf('\n \n BCD1 :  0101 \n \n');\n",
"printf('BCD2:  0010')"
   ]
   }
,
{
		   "cell_type": "markdown",
		   "metadata": {},
		   "source": [
			"## Example 10.3: EXCHANGE_OF_DATA.sce"
		   ]
		  },
  {
"cell_type": "code",
	   "execution_count": null,
	   "metadata": {
	    "collapsed": true
	   },
	   "outputs": [],
"source": [
"// page no 325\n",
"// example no 10.3\n",
"// EXCHANGE OF DATA\n",
"clc;\n",
"printf('2050H--> 3FH \n \n');\n",
"printf('2051H--> 42H \n \n');\n",
"printf('DE--> 856FH \n');\n",
"printf('D--> 85H      E--> 6FH \n \n');\n",
"printf('LHLD 2050H \n'); // loads the HL register pair with data on 2050H & 2051H.\n",
"printf('H--> 42H      L--> 3FH \n \n');\n",
"printf('XCHG \n'); // exchange the data of HL register pair with DE register pair.\n",
"printf('D<-->H        E<-->L \n');\n",
"printf('D--> 42H      E--> 3FH \n H--> 85H      L--> 6FH \n \n');\n",
"printf('SHLD 2050H \n'); // stores the 16bit dat in HL register pair on memory location 2051H & 2050H.\n",
"printf('2050H--> 6FH \n');\n",
"printf('2051H--> 85H');"
   ]
   }
,
{
		   "cell_type": "markdown",
		   "metadata": {},
		   "source": [
			"## Example 10.4: ADDITION_OF_TWO_16_BIT_NUMBERS.sce"
		   ]
		  },
  {
"cell_type": "code",
	   "execution_count": null,
	   "metadata": {
	    "collapsed": true
	   },
	   "outputs": [],
"source": [
"// page no 326\n",
"// examle no 10.4\n",
"// ADDITION OF TWO 16 BIT NUMBERS\n",
"clc;\n",
"printf('B--> 27H      C--> 93H \n');\n",
"printf('D--> 31H      E--> 82H \n \n');\n",
"b=hex2dec(['27']);\n",
"c=hex2dec(['93']);\n",
"d=hex2dec(['31']);\n",
"e=hex2dec(['82']);\n",
"printf('MOV A,C \n \n');\n",
"a=c;\n",
"printf('ADD E \n');\n",
"a=a+e;\n",
"Z=a-256;\n",
"X=dec2hex(Z);\n",
"printf('Sum =')\n",
"disp(X);\n",
"if a>255 then\n",
"    printf('CY=1 \n \n');\n",
"    CY=1;\n",
"else\n",
"    printf('CY=0 \n');\n",
"    CY=0;\n",
"end\n",
"printf('MOV L,A \n');\n",
"printf('L-->');\n",
"disp(X);\n",
"printf('\n \n MOV A,B \n \n');\n",
"a=b;\n",
"printf('ADC D \n');\n",
"a=a+d+CY; // CY is added because of the previous carry as per the instructions ADC (add with carry)\n",
"T=dec2hex(a);\n",
"printf('Sum =')\n",
"disp(T);\n",
"if a>255 then\n",
"    printf('CY=1 \n \n')\n",
"else\n",
"    printf('CY=0 \n \n')\n",
"end\n",
"printf('MOV H,A \n');\n",
"printf('H-->');\n",
"disp(T);\n",
"printf('\n \n SHLD 2050H \n'); // stores the contents of HL register pair on memory locations 2051H & 2050H.\n",
"printf('2050H--> ');\n",
"disp(X);\n",
"printf('2051H--> ');\n",
"disp(T);"
   ]
   }
,
{
		   "cell_type": "markdown",
		   "metadata": {},
		   "source": [
			"## Example 10.5: SUBTRACTION_OF_TWO_16_BIT_NUMBERS.sce"
		   ]
		  },
  {
"cell_type": "code",
	   "execution_count": null,
	   "metadata": {
	    "collapsed": true
	   },
	   "outputs": [],
"source": [
"// page no 326\n",
"// examle no 10.5\n",
"// SUBTRACTION OF TWO 16 BIT NUMBERS\n",
"clc;\n",
"printf('B--> 85H      C--> 38H \n');\n",
"printf('D--> 62H      E--> A5H \n \n');\n",
"b=hex2dec(['85']);\n",
"c=hex2dec(['38']);\n",
"d=hex2dec(['62']);\n",
"e=hex2dec(['A5']);\n",
"printf('MOV A,C \n \n');\n",
"a=c;\n",
"printf('SUB E \n');\n",
"a=a-e;\n",
"Z=a+256;\n",
"X=dec2hex(Z);\n",
"printf('Difference =')\n",
"disp(X);\n",
"if a<0 then\n",
"    printf('Borrow=1 \n \n');\n",
"    B=1;\n",
"else\n",
"    printf('Borrow=0 \n')\n",
"    B=0;\n",
"end\n",
"printf('MOV C,A \n');\n",
"printf('C-->');\n",
"disp(X);\n",
"printf('\n \n MOV A,B \n \n');\n",
"a=b;\n",
"printf('SBB D \n');\n",
"a=a-d-B; // 1 is subtracted because of the previous borrow as per the instructions SBB (subtract with borrow)\n",
"T=dec2hex(a);\n",
"printf('Difference =')\n",
"disp(T);\n",
"if a<0 then\n",
"    printf('Borrow=1 \n \n')\n",
"else\n",
"    printf('Borrow=0 \n \n')\n",
"end\n",
"printf('MOV B,A \n');\n",
"printf('B-->');\n",
"disp(T);"
   ]
   }
,
{
		   "cell_type": "markdown",
		   "metadata": {},
		   "source": [
			"## Example 10.6: DISPLAY_CONTENTS_OF_STACK.sce"
		   ]
		  },
  {
"cell_type": "code",
	   "execution_count": null,
	   "metadata": {
	    "collapsed": true
	   },
	   "outputs": [],
"source": [
"// page no 327\n",
"// example no 10.6\n",
"// DISPLAY CONTENTS OF STACK\n",
"clc;\n",
"printf('LXI H,0000H \n');    // clears the HL register pair\n",
"printf('H--> 00H      L--> 00H \n \n');\n",
"printf('DAD SP \n'); // place the stack pointer content in HL\n",
"printf('H--> higher bytes of stack pointer register \n');\n",
"printf('L--> lower bytes of stack pointer register \n \n');\n",
"printf('MOV A,H \n'); // copies the contents of H in A.\n",
"printf('H--> A \n \n');\n",
"printf('OUT PORT1 \n \n');\n",
"printf('MOV A,L \n'); // copies the contents of L in A.\n",
"printf('L--> A \n \n');\n",
"printf('OUT PORT2');"
   ]
   }
,
{
		   "cell_type": "markdown",
		   "metadata": {},
		   "source": [
			"## Example 10.7: SUBROUTINE_TO_SET_THE_ZERO_FLAG.sce"
		   ]
		  },
  {
"cell_type": "code",
	   "execution_count": null,
	   "metadata": {
	    "collapsed": true
	   },
	   "outputs": [],
"source": [
"// page no 327\n",
"// example no 10.7\n",
"// SUBROUTINE TO SET THE ZERO FLAG\n",
"clc;\n",
"printf('CHECK:   PUSH H \n \n'); // sends the contents of H to the location pointed by the stack pointer.\n",
"printf('         MVI L,FFH \n');\n",
"l=hex2dec(['FF']);\n",
"l=dec2bin(l,8);\n",
"printf('         L--> '); // set all bits in L to logic 1.\n",
"disp(l);\n",
"printf('\n \n         PUSH PSW \n \n'); // save flags on top of the stack\n",
"printf('         XTHL \n \n'); // set all bits in the top stack location.\n",
"printf('         POP PSW \n \n'); // now the zero flag is set.\n",
"printf('         JZ NOEROR \n \n'); \n",
"printf('         JMP ERROR \n \n');\n",
"printf('NOEROR:  POP H \n \n'); // retrives the data from the stack into H if zero flag is set\n",
"printf('         RET');"
   ]
   }
,
{
		   "cell_type": "markdown",
		   "metadata": {},
		   "source": [
			"## Example 10.8: TRANSFER_A_PROGRAM_TO_AN_ADDRESS_IN_HL_REGISTER.sce"
		   ]
		  },
  {
"cell_type": "code",
	   "execution_count": null,
	   "metadata": {
	    "collapsed": true
	   },
	   "outputs": [],
"source": [
"// page no 328\n",
"// example no 10.8\n",
"// TRANSFER A PROGRAM TO AN ADDRESS IN HL REGISTER\n",
"clc;\n",
"printf('\n \nThe program can be transfered using Jump instruction. \n \n');\n",
"printf('PCHL a 1 byte instruction can also be used in place of Jump instruction \n \n');"
   ]
   }
],
"metadata": {
		  "kernelspec": {
		   "display_name": "Scilab",
		   "language": "scilab",
		   "name": "scilab"
		  },
		  "language_info": {
		   "file_extension": ".sce",
		   "help_links": [
			{
			 "text": "MetaKernel Magics",
			 "url": "https://github.com/calysto/metakernel/blob/master/metakernel/magics/README.md"
			}
		   ],
		   "mimetype": "text/x-octave",
		   "name": "scilab",
		   "version": "0.7.1"
		  }
		 },
		 "nbformat": 4,
		 "nbformat_minor": 0
}
