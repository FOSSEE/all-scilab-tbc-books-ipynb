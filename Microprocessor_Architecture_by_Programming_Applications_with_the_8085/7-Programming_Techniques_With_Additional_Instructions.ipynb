{
"cells": [
 {
		   "cell_type": "markdown",
	   "metadata": {},
	   "source": [
       "# Chapter 7: Programming Techniques With Additional Instructions"
	   ]
	},
{
		   "cell_type": "markdown",
		   "metadata": {},
		   "source": [
			"## Example 7.10: RIGHT_ROTATION_RRC_AND_RAR_OF_BITS.sce"
		   ]
		  },
  {
"cell_type": "code",
	   "execution_count": null,
	   "metadata": {
	    "collapsed": true
	   },
	   "outputs": [],
"source": [
"//page no 235\n",
"// example no 7.10\n",
"// RIGHT ROTATION (RRC & RAR) OF BITS.\n",
"clc;\n",
"// initially\n",
"printf('Accumulator= 81H \n');\n",
"printf('D7 D6 D5 D4 D3 D2 D1 D0 \n');\n",
"printf(' 1  0  0  0  0  0  0  1   =81H \n \n');\n",
"printf('CY= 0 \n \n');\n",
"printf('RRC \n \n');\n",
"printf('CY= 1 \n \n');\n",
"// carry flag is set because D0 bit was 1.\n",
"printf('D7 D6 D5 D4 D3 D2 D1 D0 \n');\n",
"printf(' 1  1  0  0  0  0  0  0   =C0H \n \n'); // after the executuion of RRC.\n",
"// RRC instruction places D0 bit in CY flag as well as in D7 bit.\n",
"\n",
"\n",
"\n",
"// initially\n",
"printf('Accumulator= 81H \n');\n",
"printf('D7 D6 D5 D4 D3 D2 D1 D0 \n');\n",
"printf(' 1  0  0  0  0  0  0  1   =81H \n \n');\n",
"printf('CY= 0 \n \n');\n",
"printf('RAR \n \n');\n",
"printf('CY= 1 \n \n');\n",
"// carry flag is set because D0 bit was 1.\n",
"printf('D7 D6 D5 D4 D3 D2 D1 D0 \n');\n",
"printf(' 0  1  0  0  0  0  0  0   =40H \n \n'); // after the executuion of RAR.\n",
"// RAR instruction places D0 bit in CY flag & CY flags bit is send to D7 bit."
   ]
   }
,
{
		   "cell_type": "markdown",
		   "metadata": {},
		   "source": [
			"## Example 7.11: COMPARISION_OF_DATA.sce"
		   ]
		  },
  {
"cell_type": "code",
	   "execution_count": null,
	   "metadata": {
	    "collapsed": true
	   },
	   "outputs": [],
"source": [
"//page no 241\n",
"//example no 7.11\n",
"// COMPARISION OF DATA.\n",
"clc;\n",
"disp('MVI A,64H'); //loads accumulator with 64H.\n",
"disp('A-->64H');\n",
"disp('LXI H,2050H'); // loads HL register pair.\n",
"disp('H=20H     L=50H');\n",
"disp('M-->9AH'); //assumed in the solution.\n",
"disp('CMP M');\n",
"//this command compares the contents of A with M by subtracting M from A.\n",
"A=hex2dec(['64']);\n",
"//register M has 9AH. Finding 2's compliment of 9AH.\n",
"M=hex2dec(['9A']);\n",
"a=dec2bin(A);\n",
"m=dec2bin(M);\n",
"t=isequalbitwise(a,m); //compares the two datas bitwise.\n",
"if(A==M)            // Jump condition\n",
"    printf('\n Result after comparision is= ');\n",
"    printf('OUT1');\n",
"else\n",
"    printf('\n Result after comparision is= ');\n",
"    disp(t); //this shows the false condition of the bitwise comparision."
   ]
   }
,
{
		   "cell_type": "markdown",
		   "metadata": {},
		   "source": [
			"## Example 7.1: STEPS_TO_ADD_10_BYTES_OF_DATA.sce"
		   ]
		  },
  {
"cell_type": "code",
	   "execution_count": null,
	   "metadata": {
	    "collapsed": true
	   },
	   "outputs": [],
"source": [
"//page no 216\n",
"//example no 7.1\n",
"//STEPS TO ADD 10 BYTES OF DATA.\n",
"clc;\n",
"disp('The micriprocessor needs :');\n",
"disp('a counter to count 10 data bytes');\n",
"disp('an index or a memory pointer to locate where data bytes are stored');\n",
"disp('to transfer data from a memory location to the microprocessor');\n",
"disp('to perform addition');\n",
"disp('registers for temporary storage of partial answers');\n",
"disp('a flag to indicate the completion of the task');\n",
"disp('to store or output the result');"
   ]
   }
,
{
		   "cell_type": "markdown",
		   "metadata": {},
		   "source": [
			"## Example 7.2: LOADING_16_BIT_NUMBER.sce"
		   ]
		  },
  {
"cell_type": "code",
	   "execution_count": null,
	   "metadata": {
	    "collapsed": true
	   },
	   "outputs": [],
"source": [
"//page no 219\n",
"//example no 7.2\n",
"//LOADING 16-BIT NUMBER.\n",
"//working of LXI instruction.\n",
"clc;\n",
"disp('LXI H,2050H'); // loads HL register pair.\n",
"disp('L=50H'); // 50H in L register.\n",
"disp('H=20H'); //20H in H register pair.\n",
"disp('LXI instruction takes 3 bytes of memory and 10 clock periods.')\n",
"//working of MVI instruction.\n",
"disp('MVI H,20H');\n",
"disp('H=20H'); // load 20H in register H.\n",
"disp('MVI L,50H'); // load 50H in register L.\n",
"disp('L=50H');\n",
"disp('2 MVI instructions take 4 bytes of memory and 14 clock periods.')"
   ]
   }
,
{
		   "cell_type": "markdown",
		   "metadata": {},
		   "source": [
			"## Example 7.3: TRANSFER_OF_DATA_BYTES_TO_ACCUMULATOR.sce"
		   ]
		  },
  {
"cell_type": "code",
	   "execution_count": null,
	   "metadata": {
	    "collapsed": true
	   },
	   "outputs": [],
"source": [
"//page no 220\n",
"//example no 7.3\n",
"// TRANSFER OF DATA BYTES TO ACCUMULATOR.\n",
"// Memory location 2050H has the data F7H.\n",
"clc;\n",
"\n",
"// using MOV instruction.\n",
"//indirect addressing mode.\n",
"disp('LXI H,2050H');\n",
"printf('H=20H   L=50H \n \n'); // the 16-bit address of the data is loaded in HL register pair.\n",
"M=hex2dec(['F7']); // M is the memory location pointer of address 2050H.\n",
"printf('MOV A,M \n');\n",
"A=dec2hex(M);\n",
"printf('A= ');\n",
"disp(A); // the contents of the HL register pair are used as memory pointer to the location 2050H.\n",
"\n",
"// using LDAX instruction.\n",
"// indirect addressing mode.\n",
"disp('LXI B,2050H');\n",
"printf('B=20H   C=50H \n \n'); // the 16-bit address of the data is loaded in BC register pair.\n",
"M=hex2dec(['F7']); // M is the memory location pointer of address 2050H.\n",
"printf('LDAX B \n');\n",
"A=dec2hex(M);\n",
"printf('A= ');\n",
"disp(A); // the contents of the BC register pair are used as memory pointer to the location 2050H.\n",
"\n",
"// using LDA instruction.\n",
"// direct addressing mode.\n",
"printf('\n LDA 2050H \n'); //directly sends the data of memory location 2050H to accumulator.\n",
"printf('A= ');\n",
"disp(A);\n",
""
   ]
   }
,
{
		   "cell_type": "markdown",
		   "metadata": {},
		   "source": [
			"## Example 7.4: USE_OF_ADDRESSING_MODES.sce"
		   ]
		  },
  {
"cell_type": "code",
	   "execution_count": null,
	   "metadata": {
	    "collapsed": true
	   },
	   "outputs": [],
"source": [
"//page no 222\n",
"//example no 7.4\n",
"// USE OF ADDRESSING MODES.\n",
"clc;\n",
"//register B contains 32H\n",
"B=32;\n",
"\n",
"//using indirect addressing modes\n",
"printf('B= %d \n',B);\n",
"disp(' 1) LXI H,8000H'); // loads HL register pair.\n",
"disp('H=80H     L=00H'); \n",
"disp('MOV M,B'); // contents of register B are moved in memory location pointed by HL register pair.\n",
"M=B; \n",
"printf('\n 8000H --> %d \n \n',M);\n",
"\n",
"disp('LXI D,8000H'); //loads the memory location 8000H in DE register pair.\n",
"disp('D=80H     E=00H'); \n",
"disp('MOV A,B');\n",
"A=B;\n",
"printf('A= %d \n',A);\n",
"disp('STAX D'); //stores the value of accumulator in the memory location pointer by DE register pair.\n",
"printf('\n 8000H --> %d \n \n',A);\n",
"\n",
"//using direct addressing mode.\n",
"disp('2) A= F2H');\n",
"disp('STA 8000H'); //this instruction stores the value of accumulator in the memory location 8000H.\n",
"disp('8000H --> F2H');\n",
"\n",
"//using indirect addressing mode.\n",
"disp('3) LXI H,8000H'); // loads HL register pair.\n",
"disp('H=80H     L=00H'); \n",
"disp('MVI M,F2H'); //moving the data in the memory.\n",
"disp('8000H --> F2H');"
   ]
   }
,
{
		   "cell_type": "markdown",
		   "metadata": {},
		   "source": [
			"## Example 7.5: INCREMENT_A_NUMBER.sce"
		   ]
		  },
  {
"cell_type": "code",
	   "execution_count": null,
	   "metadata": {
	    "collapsed": true
	   },
	   "outputs": [],
"source": [
"//page no 224\n",
"//example no 7.5\n",
"// INCREMENT A NUMBER.\n",
"clc;\n",
"disp('LXI B,2050H'); //loads the data 2050H in BC register pair.\n",
"disp('B=20H   C=50H');\n",
"B=20;\n",
"C=50;\n",
"disp('INX B');\n",
"C=C+1;\n",
"printf('B= %d C= %d \n',B,C);\n",
"disp('The contents of BC register pair will be 2051H');\n",
"disp('INR B');\n",
"B=B+1;\n",
"printf('B= %d \n',B);\n",
"disp('INR C');\n",
"C=50;\n",
"C=C+1;\n",
"printf('C= %d \n',C);\n",
"disp('The contents of BC register pair will be 2151H');"
   ]
   }
,
{
		   "cell_type": "markdown",
		   "metadata": {},
		   "source": [
			"## Example 7.6: ARITHEMETIC_OPERATIONS.sce"
		   ]
		  },
  {
"cell_type": "code",
	   "execution_count": null,
	   "metadata": {
	    "collapsed": true
	   },
	   "outputs": [],
"source": [
"//page no 228\n",
"//example no 7.6\n",
"// ARITHEMETIC OPERATIONS.\n",
"clc;\n",
"disp('A-->30H');\n",
"disp('2040H-->68H');\n",
"disp('2041H-->7FH');\n",
"disp('LXI H,2040H'); // loads HL register pair.\n",
"disp('H=20H     L=40H   M=68H'); \n",
"disp('ADD M');\n",
"A=hex2dec(['30']);\n",
"M=hex2dec(['68']);\n",
"S=A+M; // adds the contents of A and data at memory location 2040H.\n",
"s=dec2hex(S);\n",
"printf('\n Content of A after addition with 2040H= ');\n",
"disp(s);\n",
"disp('INX H'); // takes the program to the next memory location.\n",
"disp('H=20H     L=41H   M=7FH'); \n",
"disp('SUB M');\n",
"M=hex2dec(['7F']);\n",
"D=S-M; // subtracts the contents of A from the data at memory location 2041H.\n",
"d=dec2hex(D);\n",
"printf('\n Content of A after subtraction with 2041H= ');\n",
"disp(d);"
   ]
   }
,
{
		   "cell_type": "markdown",
		   "metadata": {},
		   "source": [
			"## Example 7.7: INCREMENT_AND_DECREMENT.sce"
		   ]
		  },
  {
"cell_type": "code",
	   "execution_count": null,
	   "metadata": {
	    "collapsed": true
	   },
	   "outputs": [],
"source": [
"//page no 229\n",
"//example no 7.7\n",
"// INCREMENT & DECREMENT.\n",
"clc;\n",
"disp('LXI H,2040H'); // loads HL register pair.\n",
"disp('H=20H     L=40H');\n",
"disp('MVI M,59H'); \n",
"M=59;\n",
"M=hex2dec(['59']);\n",
"disp('2040H-->59H')\n",
"disp('INR M');\n",
"M=M+1; // increments the value at the memory location by 1.\n",
"m=dec2hex(M);\n",
"printf('\n Content of 2040H after increment= ');\n",
"disp(m);\n",
"disp('INX H'); //takes the program to the next memory location.\n",
"disp('H=20H     L=41H');\n",
"disp('MVI M,90H');\n",
"M=90;\n",
"M=hex2dec(['90']);\n",
"disp('2041H-->90H');\n",
"disp('DCR M');\n",
"M=M-1; //decrements the value at the memory location by 1.\n",
"m=dec2hex(M);\n",
"printf('\n Content of 2041H after decrement= ');\n",
"disp(m);"
   ]
   }
,
{
		   "cell_type": "markdown",
		   "metadata": {},
		   "source": [
			"## Example 7.8: LEFT_ROTATION_RLC_OF_BITS.sce"
		   ]
		  },
  {
"cell_type": "code",
	   "execution_count": null,
	   "metadata": {
	    "collapsed": true
	   },
	   "outputs": [],
"source": [
"//page no 233\n",
"// example no 7.8\n",
"// LEFT ROTATION (RLC) OF BITS.\n",
"clc;\n",
"// initially\n",
"printf('Accumulator= AAH \n');\n",
"printf('D7 D6 D5 D4 D3 D2 D1 D0 \n');\n",
"printf(' 1  0  1  0  1  0  1  0   =AAH \n \n');\n",
"printf('CY= 0 \n \n');\n",
"printf('RLC \n \n');\n",
"printf('CY= 1 \n \n');\n",
"// carry flag is set because D7 bit was 1.\n",
"printf('D7 D6 D5 D4 D3 D2 D1 D0 \n');\n",
"printf(' 0  1  0  1  0  1  0  1   =55H \n \n'); // after the executuion of first RLC.\n",
"// RLC instruction places D7 bit in CY flag as well as in D0 bit.\n",
"printf('RLC \n \n');\n",
"printf('CY= 0 \n \n');\n",
"// carry flag is reset because D7 bit was 0.\n",
"printf('D7 D6 D5 D4 D3 D2 D1 D0 \n');\n",
"printf(' 1  0  1  0  1  0  1  0   =AAH \n \n'); // after the executuion of second RLC.\n",
"// RLC instruction places D7 bit in CY flag as well as in D0 bit.\n",
""
   ]
   }
,
{
		   "cell_type": "markdown",
		   "metadata": {},
		   "source": [
			"## Example 7.9: LEFT_ROTATION_RAL_OF_BITS.sce"
		   ]
		  },
  {
"cell_type": "code",
	   "execution_count": null,
	   "metadata": {
	    "collapsed": true
	   },
	   "outputs": [],
"source": [
"//page no 234\n",
"// example no 7.9\n",
"// LEFT ROTATION (RAL) OF BITS.\n",
"clc;\n",
"// initially\n",
"printf('Accumulator= AAH \n');\n",
"printf('D7 D6 D5 D4 D3 D2 D1 D0 \n');\n",
"printf(' 1  0  1  0  1  0  1  0   =AAH \n \n');\n",
"printf('CY= 0 \n \n');\n",
"printf('RAL \n \n');\n",
"printf('CY= 1 \n \n');\n",
"// carry flag is set because D7 bit was 1.\n",
"printf('D7 D6 D5 D4 D3 D2 D1 D0 \n');\n",
"printf(' 0  1  0  1  0  1  0  0   =54H \n \n'); // after the executuion of first RAL.\n",
"// RAL instruction places D7 bit in CY flag & CY flags bit is send to D0 bit.\n",
"printf('RAL \n \n');\n",
"printf('CY= 0 \n \n');\n",
"// carry flag is reset because D7 bit was 0.\n",
"printf('D7 D6 D5 D4 D3 D2 D1 D0 \n');\n",
"printf(' 1  0  1  0  1  0  0  1   =A9H \n \n'); // after the executuion of second RAL.\n",
"// RAL instruction places D7 bit in CY flag & CY flags bit is send to D0 bit."
   ]
   }
],
"metadata": {
		  "kernelspec": {
		   "display_name": "Scilab",
		   "language": "scilab",
		   "name": "scilab"
		  },
		  "language_info": {
		   "file_extension": ".sce",
		   "help_links": [
			{
			 "text": "MetaKernel Magics",
			 "url": "https://github.com/calysto/metakernel/blob/master/metakernel/magics/README.md"
			}
		   ],
		   "mimetype": "text/x-octave",
		   "name": "scilab",
		   "version": "0.7.1"
		  }
		 },
		 "nbformat": 4,
		 "nbformat_minor": 0
}
