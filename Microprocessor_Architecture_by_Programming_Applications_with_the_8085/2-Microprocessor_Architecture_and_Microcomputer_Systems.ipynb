{
"cells": [
 {
		   "cell_type": "markdown",
	   "metadata": {},
	   "source": [
       "# Chapter 2: Microprocessor Architecture and Microcomputer Systems"
	   ]
	},
{
		   "cell_type": "markdown",
		   "metadata": {},
		   "source": [
			"## Example 2.1: MEMORY_ADDRESS_RANGE.sce"
		   ]
		  },
  {
"cell_type": "code",
	   "execution_count": null,
	   "metadata": {
	    "collapsed": true
	   },
	   "outputs": [],
"source": [
"//page no 39\n",
"//example no 2.1\n",
"//MEMORY ADDRESS RANGE.\n",
"clc;\n",
"printf('A7-A0 are  address lines for register select. \n');\n",
"printf('A15-A8 are address lines for chip select. \n \n');\n",
"printf('A15 A14 A13 A12 A11 A10 A9 A8 \n');\n",
"printf(' 0  0   0   0   0   0   0  0   =00H \n \n'); //chip select bits have to be active low always to select that chip.\n",
"printf('A7 A6 A5 A4 A3 A2 A1 A0 \n');\n",
"printf(' 0  0  0  0  0  0  0  0   =00H \n'); //this selects the register 00.\n",
"printf('The above combination selects the memory address 0000H. \n \n');\n",
"printf('A15 A14 A13 A12 A11 A10 A9 A8 \n');\n",
"printf(' 0  0   0   0   0   0   0  0   =00H \n \n'); //chip select bits have to be active low always to select that chip.\n",
"printf('A7 A6 A5 A4 A3 A2 A1 A0 \n');\n",
"printf(' 1  1  1  1  1  1  1  1   =FFH \n'); //this selects the register FF.\n",
"printf('The above combination selects the memory address 00FFH. \n \n');\n",
"//thus this chip can select any memory location from 0000H to 00FFH.\n",
"//the memory addressed of the chip can be changed by modifying the hardware.For example if we remove the inverter on line A15.\n",
"printf('A15 A14 A13 A12 A11 A10 A9 A8 \n');\n",
"printf(' 1  0   0   0   0   0   0  0   =80H \n \n'); //chip select bits have to be active low always to select that chip.\n",
"printf('A7 A6 A5 A4 A3 A2 A1 A0 \n');\n",
"printf(' 0  0  0  0  0  0  0  0   =00H \n'); //this selects the register 00.\n",
"printf('The above combination selects the memory address 8000H. \n \n');\n",
"//The memory address range from above change will be 8000H to 80FFH.\n",
"//Thus a memory can be assigned address in various locations over the entire map of 0000H to FFFFH."
   ]
   }
,
{
		   "cell_type": "markdown",
		   "metadata": {},
		   "source": [
			"## Example 2.2: MEMORY_ADDRESS_RANGE.sce"
		   ]
		  },
  {
"cell_type": "code",
	   "execution_count": null,
	   "metadata": {
	    "collapsed": true
	   },
	   "outputs": [],
"source": [
"//page no 41\n",
"//example no 2.2\n",
"//MEMORY ADDRESS RANGE.\n",
"clc;\n",
"printf('A9-A0 are  address lines for register select. \n');\n",
"printf('A15-A10 are address lines for chip select. \n \n');\n",
"printf('A15 A14 A13 A12 A11 A10 \n');\n",
"printf(' 0  0   0   0   0  0 \n \n'); //chip select bits have to be active low always to select that chip.\n",
"printf('A9 A8 A7 A6 A5 A4 A3 A2 A1 A0 \n');\n",
"printf(' 0  0  0  0  0  0  0  0  0  0  \n'); //this selects the register \n",
"printf('The above combination selects the memory address 0000H. \n \n');\n",
"printf('A15 A14 A13 A12 A11 A10 \n');\n",
"printf(' 0  0   0   0   0  0 \n \n'); //chip select bits have to be active low always to select that chip.\n",
"printf('A9 A8 A7 A6 A5 A4 A3 A2 A1 A0 \n');\n",
"printf(' 1  1  1  1  1  1  1  1  1  1  \n'); //this selects the register \n",
"printf('The above combination selects the memory address 03FFH. \n \n');\n",
"//thus this chip can select any memory location from 0000H to 03FFH.\n",
"//the memory addressed of the chip can be changed by modifying the hardware.Like we did in the previous example."
   ]
   }
,
{
		   "cell_type": "markdown",
		   "metadata": {},
		   "source": [
			"## Example 2.3: CALCULATING_ADDRESS_LINES.sce"
		   ]
		  },
  {
"cell_type": "code",
	   "execution_count": null,
	   "metadata": {
	    "collapsed": true
	   },
	   "outputs": [],
"source": [
"//page no 43\n",
"//example no 2.3\n",
"//CALCULATING ADDRESS LINES\n",
"clc;\n",
"//number of address lines are given by x\n",
"x={log(8192)}/{log(2)};\n",
"printf('Number of address lines= ')\n",
"disp(x);"
   ]
   }
,
{
		   "cell_type": "markdown",
		   "metadata": {},
		   "source": [
			"## Example 2.4: CALCULATING_NO_OF_CHIPS.sce"
		   ]
		  },
  {
"cell_type": "code",
	   "execution_count": null,
	   "metadata": {
	    "collapsed": true
	   },
	   "outputs": [],
"source": [
"//page no 43\n",
"//example no 2.4\n",
"//CALCULATING NO OF CHIPS.\n",
"clc;\n",
"//chip 1024*1 has 1024(1k) registers & each register can store one bit with one data line. We need 8 data lines for byte size memory. Therefore 8 chips are necessary for 1k byte memory.For 1k byte memory we will need 64 chips. We can arrive at the same ans by dividing 8k byte by 1k*1 as follows:\n",
"no=(8192*8)/(1024*1);\n",
"printf('No of chips= ');\n",
"disp(no);"
   ]
   }
,
{
		   "cell_type": "markdown",
		   "metadata": {},
		   "source": [
			"## Example 2.5: FETCHING_AN_INSTRUCTION.sce"
		   ]
		  },
  {
"cell_type": "code",
	   "execution_count": null,
	   "metadata": {
	    "collapsed": true
	   },
	   "outputs": [],
"source": [
"//page no 44\n",
"//example no 2.5\n",
"//FETCHING AN INSTRUCTION.\n",
"clc;\n",
"printf('Memory Location 2005H= 4FH \n');\n",
"printf('Address bus= 2005H \n') //program counter places the 16-bit address on the address bus.\n",
"printf('Control bus--> (MEMR) \n'); //control bus sends memory read control signal.\n",
"printf('Data bus= 4FH \n'); //instruction 4FH is fetched and transferred to instruction decoder."
   ]
   }
],
"metadata": {
		  "kernelspec": {
		   "display_name": "Scilab",
		   "language": "scilab",
		   "name": "scilab"
		  },
		  "language_info": {
		   "file_extension": ".sce",
		   "help_links": [
			{
			 "text": "MetaKernel Magics",
			 "url": "https://github.com/calysto/metakernel/blob/master/metakernel/magics/README.md"
			}
		   ],
		   "mimetype": "text/x-octave",
		   "name": "scilab",
		   "version": "0.7.1"
		  }
		 },
		 "nbformat": 4,
		 "nbformat_minor": 0
}
