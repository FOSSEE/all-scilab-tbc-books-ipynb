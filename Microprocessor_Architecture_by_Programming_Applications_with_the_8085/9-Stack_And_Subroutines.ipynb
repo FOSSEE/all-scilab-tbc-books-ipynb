{
"cells": [
 {
		   "cell_type": "markdown",
	   "metadata": {},
	   "source": [
       "# Chapter 9: Stack And Subroutines"
	   ]
	},
{
		   "cell_type": "markdown",
		   "metadata": {},
		   "source": [
			"## Example 9.1: PUSH_POP_AND_DELAY_INSTRUCTIONS.sce"
		   ]
		  },
  {
"cell_type": "code",
	   "execution_count": null,
	   "metadata": {
	    "collapsed": true
	   },
	   "outputs": [],
"source": [
"// page no 283\n",
"// example no 9.1\n",
"// PUSH POP AND DELAY INSTRUCTIONS\n",
"clc;\n",
"printf('LXI SP,2099H \n \n'); // the stack pointer is located at 2099H.\n",
"printf('LXI H,42F2H \n ');\n",
"printf('H--> 42     L-->F2 \n \n');\n",
"printf('PUSH H \n'); // sends the data of HL register pair in the stack.\n",
"// stack pointer is decremented by one to 2098H and the contents of the H register are copied to memory location 2098H\n",
"printf('2098H--> 42 \n'); \n",
"// stack pointer is again decremented by one to 2097H and the contents of the L register are copied to memory location 2097H\n",
"printf('2097H--> F2 \n \n');\n",
"printf('Delay Counter \n \n');\n",
"\n",
"\n",
"n=hex2dec(['42F2']);\n",
"for i=1:n                        // DELAY LOOP\n",
"    {\n",
"    }\n",
"end\n",
"\n",
"printf(' POP H \n'); // sends the data in the stack back to the HL register pair.\n",
"// the contents of the top of the stack are copied to L register and the stack pointer is incremented by one to 2098H\n",
"printf('L--> F2H \n');\n",
"// the contents of the current location of stack are copied to H register and the stack pointer is again incremented by one to 2099H.\n",
"printf('H--> 42H \n');"
   ]
   }
,
{
		   "cell_type": "markdown",
		   "metadata": {},
		   "source": [
			"## Example 9.2: EXCHANGE_OF_DATA_USING_STACK.sce"
		   ]
		  },
  {
"cell_type": "code",
	   "execution_count": null,
	   "metadata": {
	    "collapsed": true
	   },
	   "outputs": [],
"source": [
"// page no 285\n",
"// example no 9.2\n",
"// EXCHANGE OF DATA USING STACK.\n",
"clc;\n",
"printf('LXI SP,2400H \n \n'); // the stack pointer is located at 2400H.\n",
"printf('LXI H,2150H \n ');\n",
"printf('H--> 21     L-->50 \n \n');\n",
"printf('LXI B,2280H \n ');\n",
"printf('B--> 22     C-->80 \n \n');\n",
"printf('PUSH H \n'); // sends the data of HL register pair in the stack.\n",
"// stack pointer is decremented by one to 23FFH and the contents of the H register are copied to memory location 23FFH\n",
"printf('23FFH--> 21 \n'); \n",
"// stack pointer is again decremented by one to 23FEH and the contents of the L register are copied to memory location 23FEH\n",
"printf('23FEH--> 50 \n \n');\n",
"printf('PUSH B \n'); // sends the data of BC register pair in the stack.\n",
"// stack pointer is decremented by one to 23FDH and the contents of the H register are copied to memory location 23FDH\n",
"printf('23FDH--> 22 \n'); \n",
"// stack pointer is again decremented by one to 23FCH and the contents of the L register are copied to memory location 23FCH\n",
"printf('23FCH--> 80 \n \n');\n",
"printf('PUSH PSW \n'); // sends the data of accumulator & flag register in the stack.\n",
"// stack pointer is decremented by one to 23FBH and the contents of the H register are copied to memory location 23FBH\n",
"printf('23FBH--> contents of accumulator \n'); \n",
"// stack pointer is again decremented by one to 23FAH and the contents of the L register are copied to memory location 23FAH\n",
"printf('23FAH--> contents of flag register \n \n');\n",
"\n",
"printf('To exchange the data. \n \n')\n",
"printf(' POP PSW \n'); // sends the data in the stack back to the accumulator & flag register.\n",
"// the contents of the top of the stack are copied to A register and the stack pointer is incremented by one to 23FBH\n",
"printf('A--> contents of accumulator \n');\n",
"// the contents of the current location of stack are copied to flag register and the stack pointer is again incremented by one to 23FCH.\n",
"printf('F--> contents of flag register \n \n');\n",
"printf(' POP H \n'); // sends the data in the stack back to the HL register pair.\n",
"// the contents of the current location of the stack are copied to L register and the stack pointer is incremented by one to 23FDH\n",
"printf('L--> 80H \n');\n",
"// the contents of the current location of stack are copied to H register and the stack pointer is again incremented by one to 23FEH.\n",
"printf('H--> 22H \n \n');\n",
"printf(' POP B \n'); // sends the data in the stack back to the BC register pair.\n",
"// the contents of the current location of the stack are copied to C register and the stack pointer is incremented by one to 23FFH\n",
"printf('C--> 50H \n');\n",
"// the contents of the current location of stack are copied to B register and the stack pointer is again incremented by one to 2400H.\n",
"printf('B--> 21H \n');"
   ]
   }
,
{
		   "cell_type": "markdown",
		   "metadata": {},
		   "source": [
			"## Example 9.3: EXCHANGE_INFORMATION_BETWEEN_STACK_AND_PROGRAM_COUNTER.sce"
		   ]
		  },
  {
"cell_type": "code",
	   "execution_count": null,
	   "metadata": {
	    "collapsed": true
	   },
	   "outputs": [],
"source": [
"// page no 292\n",
"// example no 9.3\n",
"// EXCHANGE INFORMATION BETWEEN STACK AND PROGRAM COUNTER\n",
"clc;\n",
"printf('After the CALL instruction \n \n');\n",
"printf('STACK MEMORY: \n \n');\n",
"printf('23FFH--> 20 \n');\n",
"printf('23FEH-->43 \n');\n",
"printf('Stack pointer--> 23FEH \n');\n",
"printf('Program counter--> 2070H \n \n');\n",
"printf('After RET instruction \n \n');\n",
"printf('Program counter--> 2043H \n');\n",
"printf('Stack pointer--> 2400H');"
   ]
   }
],
"metadata": {
		  "kernelspec": {
		   "display_name": "Scilab",
		   "language": "scilab",
		   "name": "scilab"
		  },
		  "language_info": {
		   "file_extension": ".sce",
		   "help_links": [
			{
			 "text": "MetaKernel Magics",
			 "url": "https://github.com/calysto/metakernel/blob/master/metakernel/magics/README.md"
			}
		   ],
		   "mimetype": "text/x-octave",
		   "name": "scilab",
		   "version": "0.7.1"
		  }
		 },
		 "nbformat": 4,
		 "nbformat_minor": 0
}
