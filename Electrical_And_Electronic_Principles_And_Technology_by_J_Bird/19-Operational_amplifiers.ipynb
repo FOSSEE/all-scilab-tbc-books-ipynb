{
"cells": [
 {
		   "cell_type": "markdown",
	   "metadata": {},
	   "source": [
       "# Chapter 19: Operational amplifiers"
	   ]
	},
{
		   "cell_type": "markdown",
		   "metadata": {},
		   "source": [
			"## Example 19.10: Example_10.sce"
		   ]
		  },
  {
"cell_type": "code",
	   "execution_count": null,
	   "metadata": {
	    "collapsed": true
	   },
	   "outputs": [],
"source": [
"//Chapter 19, Problem 10\n",
"clc;\n",
"R=200e3;                        //resistance\n",
"Vi=-0.75;                       //input voltage\n",
"C=2.5e-6;                       //capacitance\n",
"Vo = (-1/(C*R))*integrate('-0.75', 't', 0, 0.1)        //output voltage\n",
"printf('\n Output voltage is %.2f V',Vo)"
   ]
   }
,
{
		   "cell_type": "markdown",
		   "metadata": {},
		   "source": [
			"## Example 19.11: Example_11.sce"
		   ]
		  },
  {
"cell_type": "code",
	   "execution_count": null,
	   "metadata": {
	    "collapsed": true
	   },
	   "outputs": [],
"source": [
"//Chapter 19, Problem 11\n",
"clc;\n",
"R1=10e3;                  //resistance 1\n",
"R2=10e3;                  //resistance 2\n",
"R3=100e3;                  //resistance 3\n",
"Rf=100e3;                  //feedback resistance \n",
"V1=5e-3;                  //input voltage 1\n",
"V2=5e-3;                  //input voltage 2\n",
"V3=50e-3;                  //input voltage 3\n",
"V4=25e-3;                  //input voltage 4\n",
"V5=25e-3;                  //input voltage 5\n",
"V6=50e-3;                  //input voltage 6\n",
"V01=(-Rf/R1)*V1;                        //output voltage 1\n",
"V02=(R3/(R2+R3))*(1+(Rf/R1))*V2;         //output voltage 2\n",
"V03=(V3-V4)*(-Rf/R1);                    //output voltage 3\n",
"V04=(V6-V5)*(R3/(R2+R3))*(1+(Rf/R1));     //output voltage 4\n",
"printf('(a) V0 = %d mV\n\n',V01*1000);\n",
"printf('(b) V0 = %d mV\n\n',V02*1000);\n",
"printf('(c) V0 = %d mV\n\n',V03*1000);\n",
"printf('(d) V0 = %d mV\n\n',V04*1000);"
   ]
   }
,
{
		   "cell_type": "markdown",
		   "metadata": {},
		   "source": [
			"## Example 19.1: Example_1.sce"
		   ]
		  },
  {
"cell_type": "code",
	   "execution_count": null,
	   "metadata": {
	    "collapsed": true
	   },
	   "outputs": [],
"source": [
"//Chapter 19, Problem 1\n",
"clc;\n",
"A0=120;                     //voltage gain\n",
"V1=2.35;                    //input voltage\n",
"V2=2.45;                    //input voltage\n",
"V0=A0*(V2-V1);              //output voltage\n",
"printf('Output voltage = %d V',V0);"
   ]
   }
,
{
		   "cell_type": "markdown",
		   "metadata": {},
		   "source": [
			"## Example 19.2: Example_2.sce"
		   ]
		  },
  {
"cell_type": "code",
	   "execution_count": null,
	   "metadata": {
	    "collapsed": true
	   },
	   "outputs": [],
"source": [
"//Chapter 19, Problem 2\n",
"clc;\n",
"cmrr=90;                //CMRR\n",
"Ad=150e3;               //differential gain\n",
"Ac=Ad/10^(cmrr/20);     //common mode gain\n",
"printf('Common mode gain = %.2f',Ac);"
   ]
   }
,
{
		   "cell_type": "markdown",
		   "metadata": {},
		   "source": [
			"## Example 19.3: Example_3.sce"
		   ]
		  },
  {
"cell_type": "code",
	   "execution_count": null,
	   "metadata": {
	    "collapsed": true
	   },
	   "outputs": [],
"source": [
"//Chapter 19, Problem 3\n",
"clc;\n",
"Av=120;                     //open-loop voltage gain\n",
"Vi=3;                       //input voltage\n",
"Vo=24*10^-3;                //output voltage\n",
"Ac=Vo/Vi;                    //common mode gain\n",
"cmrr=20*log10(Av/Ac);           //CMRR\n",
"printf('CMRR = %.2f dB',cmrr);"
   ]
   }
,
{
		   "cell_type": "markdown",
		   "metadata": {},
		   "source": [
			"## Example 19.4: Example_4.sce"
		   ]
		  },
  {
"cell_type": "code",
	   "execution_count": null,
	   "metadata": {
	    "collapsed": true
	   },
	   "outputs": [],
"source": [
"//Chapter 19, Problem 4\n",
"clc;\n",
"Ri=1000;                    //input resistance\n",
"Rf=2000;                    //feedback resistance\n",
"Vi1=0.4;                    //input voltage 1\n",
"Vi2=-1.2;                   //input voltage 2\n",
"V01=(-Rf/Ri)*Vi1;           //output voltage 1\n",
"V02=(-Rf/Ri)*Vi2;           //output voltage 2\n",
"printf('(a) When Vi = 0.4V,\n V0 = %.1f V\n\n',V01);\n",
"printf('(b) When Vi = -1.2V,\n V0 = %.1f V\n\n',V02);"
   ]
   }
,
{
		   "cell_type": "markdown",
		   "metadata": {},
		   "source": [
			"## Example 19.5: Example_5.sce"
		   ]
		  },
  {
"cell_type": "code",
	   "execution_count": null,
	   "metadata": {
	    "collapsed": true
	   },
	   "outputs": [],
"source": [
"//Chapter 19, Problem 5, Fig.19.6\n",
"clc;\n",
"Ib=100e-9;                  //input bias current\n",
"Ri=10e3;                    //input resistance\n",
"Rf=1e6;                     //feedback resistance\n",
"A=-Rf/Ri;                   //voltage gain\n",
"Vos=Ib*((Ri*Rf)/(Ri+Rf));   //output offset voltage\n",
"printf('(a) Voltage gain = %f \n\n',A);\n",
"printf('(b) Output offset voltage due to the input bias current = %.2f mV\n\n',Vos*1000);\n",
"printf('(c) The effect of input bias current can be minimised by ensuring that both inputs ‘see’ the same driving resistance.\n');\n",
"printf('This means that a resistance of value of 9.9 k (from part (b)) should be placed between the non-inverting (+) terminal and earth in Fig. 19.6');"
   ]
   }
,
{
		   "cell_type": "markdown",
		   "metadata": {},
		   "source": [
			"## Example 19.6: Example_6.sce"
		   ]
		  },
  {
"cell_type": "code",
	   "execution_count": null,
	   "metadata": {
	    "collapsed": true
	   },
	   "outputs": [],
"source": [
"//Chapter 19, Problem 6, Fig.19.6\n",
"clc;\n",
"Av=40;                         //voltage gain\n",
"B=5000;                         //bandwidth\n",
"Ri=10000;                       //input resistance\n",
"A=10^(Av/20);                   //voltage gain in decibels\n",
"Rf=A*Ri;                        //feedback resistance\n",
"f=A*B;                          //frequency\n",
"printf('Gain = %d\n\nFeedback Resistor Rf = %d Megaohm\n\nFrequency = %d Khz',A,Rf/10^6,f/1000);"
   ]
   }
,
{
		   "cell_type": "markdown",
		   "metadata": {},
		   "source": [
			"## Example 19.7: Example_7.sce"
		   ]
		  },
  {
"cell_type": "code",
	   "execution_count": null,
	   "metadata": {
	    "collapsed": true
	   },
	   "outputs": [],
"source": [
"//Chapter 19, Problem 7\n",
"clc;\n",
"R1=4.7e3;                   //resistance 1\n",
"R2=10e3;                    //resistance 2\n",
"Vi=-0.4;                    //input voltage\n",
"Av=1+(R2/R1);               //voltage gain\n",
"V0=Av*Vi;                   //output voltage\n",
"printf('(a) Voltage gain = %.2f \n\n',Av);\n",
"printf('(b) Output voltage = %.2f V\n\n',V0);"
   ]
   }
,
{
		   "cell_type": "markdown",
		   "metadata": {},
		   "source": [
			"## Example 19.8: Example_8.sce"
		   ]
		  },
  {
"cell_type": "code",
	   "execution_count": null,
	   "metadata": {
	    "collapsed": true
	   },
	   "outputs": [],
"source": [
"//Chapter 19, Problem 8, Fig.19.12\n",
"clc;\n",
"R1=10e3;                                    //resistance 1\n",
"R2=20e3;                                //resistance 2\n",
"R3=30e3;                                //resistance 3\n",
"V1=0.5;                                 //input voltage 1\n",
"V2=0.8;                                  //input voltage 2\n",
"V3=1.2;                                     //input voltage 3\n",
"Rf=50e3;                                    //feedback resistance\n",
"V0=-Rf*((V1/R1)+(V2/R2)+(V3/R3));           //output voltage\n",
"printf('Output voltage = %f V',V0);"
   ]
   }
],
"metadata": {
		  "kernelspec": {
		   "display_name": "Scilab",
		   "language": "scilab",
		   "name": "scilab"
		  },
		  "language_info": {
		   "file_extension": ".sce",
		   "help_links": [
			{
			 "text": "MetaKernel Magics",
			 "url": "https://github.com/calysto/metakernel/blob/master/metakernel/magics/README.md"
			}
		   ],
		   "mimetype": "text/x-octave",
		   "name": "scilab",
		   "version": "0.7.1"
		  }
		 },
		 "nbformat": 4,
		 "nbformat_minor": 0
}
