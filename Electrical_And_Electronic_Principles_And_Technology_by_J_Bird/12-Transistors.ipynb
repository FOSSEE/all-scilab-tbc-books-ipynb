{
"cells": [
 {
		   "cell_type": "markdown",
	   "metadata": {},
	   "source": [
       "# Chapter 12: Transistors"
	   ]
	},
{
		   "cell_type": "markdown",
		   "metadata": {},
		   "source": [
			"## Example 12.2: Example_2.sce"
		   ]
		  },
  {
"cell_type": "code",
	   "execution_count": null,
	   "metadata": {
	    "collapsed": true
	   },
	   "outputs": [],
"source": [
"//Chapter 12, Problem 2\n",
"clc;\n",
"Ic=100*10^-3;                   //emitter current\n",
"Ie=102*10^-3;                   //collector current\n",
"Ib=Ie-Ic;                       //calculating base current\n",
"printf('Value of base current Ib = %d mA',Ib*1000);"
   ]
   }
,
{
		   "cell_type": "markdown",
		   "metadata": {},
		   "source": [
			"## Example 12.6: Example_6.sce"
		   ]
		  },
  {
"cell_type": "code",
	   "execution_count": null,
	   "metadata": {
	    "collapsed": true
	   },
	   "outputs": [],
"source": [
"//Chapter 12, Problem 6\n",
"clc;\n",
"hFE=125;                    //common-emitter current gain\n",
"Ic=50*10^-3;                //collector current \n",
"Ib=Ic/hFE;                  //calculating base current\n",
"printf('Base current Ib = %d microampere',Ib*10^6);"
   ]
   }
,
{
		   "cell_type": "markdown",
		   "metadata": {},
		   "source": [
			"## Example 12.9: Example_9.sce"
		   ]
		  },
  {
"cell_type": "code",
	   "execution_count": null,
	   "metadata": {
	    "collapsed": true
	   },
	   "outputs": [],
"source": [
"//Chapter 12, Problem 9\n",
"clc;\n",
"Id=100*10^-3;                       //operating drain current\n",
"dVgs=-0.1;                          //change in gate-source voltage\n",
"gfs=0.25;\n",
"dId=dVgs*gfs;                       //calculating change in drain current\n",
"Id1=Id+dId;                         //new value of drain current\n",
"disp('(a)');\n",
"printf('Change in drain current = %d mA\n\n\n',dId*1000);\n",
"disp('(b)');\n",
"printf('New value of drain current = %d mA',Id1*1000);\n",
""
   ]
   }
],
"metadata": {
		  "kernelspec": {
		   "display_name": "Scilab",
		   "language": "scilab",
		   "name": "scilab"
		  },
		  "language_info": {
		   "file_extension": ".sce",
		   "help_links": [
			{
			 "text": "MetaKernel Magics",
			 "url": "https://github.com/calysto/metakernel/blob/master/metakernel/magics/README.md"
			}
		   ],
		   "mimetype": "text/x-octave",
		   "name": "scilab",
		   "version": "0.7.1"
		  }
		 },
		 "nbformat": 4,
		 "nbformat_minor": 0
}
