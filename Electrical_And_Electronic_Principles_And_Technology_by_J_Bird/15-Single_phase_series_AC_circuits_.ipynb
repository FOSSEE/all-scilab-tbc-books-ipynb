{
"cells": [
 {
		   "cell_type": "markdown",
	   "metadata": {},
	   "source": [
       "# Chapter 15: Single phase series AC circuits "
	   ]
	},
{
		   "cell_type": "markdown",
		   "metadata": {},
		   "source": [
			"## Example 15.10: Example_10.sce"
		   ]
		  },
  {
"cell_type": "code",
	   "execution_count": null,
	   "metadata": {
	    "collapsed": true
	   },
	   "outputs": [],
"source": [
"//Chapter 15, Problem 10\n",
"clc;\n",
"//from eqn v=200 (sin 500t)\n",
"Vm=200;\n",
"w=500;\n",
"V=0.707*200;\n",
"L=200e-3;                   //inductance\n",
"R=100;                      //resistance\n",
"Xl=w*L;                     //inductive reactance\n",
"Z=sqrt(R^2+Xl^2);           //impedance\n",
"I=V/Z;\n",
"Vl=I*Xl;\n",
"Vr=I*R;\n",
"phi=atan(Xl/R);\n",
"printf('(a) Inductive reactance = %d ohm\n\n',Xl);\n",
"printf('(b) Impedance Z = %.1f ohm\n\n',Z);\n",
"printf('(c) Current I = %f A\n\n',I);\n",
"printf('(d) The p.d. across the coil = %f V\n\n',Vl);\n",
"printf('    The p.d. across the resistor =  %f V\n\n',Vr);\n",
"printf('(e) Phase angle between voltage and current is given by,\n angle = %d deg\n\n',phi*(180/%pi));"
   ]
   }
,
{
		   "cell_type": "markdown",
		   "metadata": {},
		   "source": [
			"## Example 15.11: Example_11.sce"
		   ]
		  },
  {
"cell_type": "code",
	   "execution_count": null,
	   "metadata": {
	    "collapsed": true
	   },
	   "outputs": [],
"source": [
"//Chapter 15, Problem 11\n",
"clc;\n",
"L=1.273e-3;              //inductance\n",
"Vr=6;                   //pd across resistor\n",
"R=30;                   //resistor\n",
"f=5e3;                  //frequency in hertz\n",
"I=Vr/R;                 //current\n",
"Xl=2*%pi*f*L;           //inductive reactance\n",
"Z=sqrt(R^2+Xl^2);       //impedance\n",
"V=I*Z;                  //supply voltage\n",
"Vl=I*Xl;                //voltage across inductor\n",
"printf('From circuit in Fig. 15.7(a)\n\n');\n",
"printf('Supply voltage V = %f V\n\n',V);\n",
"printf('Voltage across the 1.273mH inductance Vl = %f V\n\n',Vl);\n",
"printf('The phasor diagram is shown in Fig. 15.7(b)');"
   ]
   }
,
{
		   "cell_type": "markdown",
		   "metadata": {},
		   "source": [
			"## Example 15.12: Example_12.sce"
		   ]
		  },
  {
"cell_type": "code",
	   "execution_count": null,
	   "metadata": {
	    "collapsed": true
	   },
	   "outputs": [],
"source": [
"//Chapter 15, Problem 12\n",
"clc;\n",
"L=159.2e-3;                 //inductance in henry\n",
"Rc=20;                      //resistance in ohm\n",
"R1=60;                      //resistance in ohm\n",
"f=50;                       //frequency in hertz\n",
"V=240;                      //supply voltage\n",
"R=Rc+R1;\n",
"Xl=2*%pi*f*L;               //inductive reactance\n",
"Z=sqrt(R^2+Xl^2);           //impedance\n",
"I=V/Z;\n",
"phi=atan(Xl/R);\n",
"Vr=I*R1;\n",
"Zcoil=sqrt(Rc^2+Xl^2);\n",
"Vcoil=I*Zcoil;\n",
"Vl=I*Xl;\n",
"Vrcoil=I*Rc;\n",
"printf('(a) Circuit impedance, Z = %.2f ohm\n\n',Z);\n",
"printf('(b) Circuit current, I = %.3f A\n\n',I);\n",
"printf('(c) Circuit phase angle, phi = %d deg Lagging\n\n',phi*(180/%pi));\n",
"printf('From Fig. 15.8(a):\n\n');\n",
"printf('p.d. across the 60ohm resistor, Vr = %.1f V\n\n',Vr);\n",
"printf('p.d. across the coil, Vcoil = %.1f V\n\n',Vcoil);\n",
"printf('The 240V supply voltage is the phasor sum of VCOIL and VR as shown in the phasor diagram in Fig. 15.9');\n",
"printf('From circuit in Fig. 15.8(a)\n\n');"
   ]
   }
,
{
		   "cell_type": "markdown",
		   "metadata": {},
		   "source": [
			"## Example 15.13: Example_13.sce"
		   ]
		  },
  {
"cell_type": "code",
	   "execution_count": null,
	   "metadata": {
	    "collapsed": true
	   },
	   "outputs": [],
"source": [
"//Chapter 15, Problem 13\n",
"clc;\n",
"R=25;                      //resistance in ohm\n",
"C=45e-6;                    //capacitance in farad\n",
"V=240;                      //supply voltage\n",
"f=50;                       //supply frequency\n",
"Xc=1/(2*%pi*f*C);           //capacitive reactance\n",
"Z=sqrt(R^2+Xc^2);           //impedance\n",
"I=V/Z;                      //current\n",
"a=atan(Xc/R);\n",
"printf('(a) Impedance, Z = %.2f ohm\n\n',Z);\n",
"printf('(b) Current, I = %.2f A\n\n',I);\n",
"printf('Phase angle between the supply voltage and current, = %.2f deg (leading)\n\n',a*(180/%pi));"
   ]
   }
,
{
		   "cell_type": "markdown",
		   "metadata": {},
		   "source": [
			"## Example 15.14: Example_14.sce"
		   ]
		  },
  {
"cell_type": "code",
	   "execution_count": null,
	   "metadata": {
	    "collapsed": true
	   },
	   "outputs": [],
"source": [
"//Chapter 15, Problem 14\n",
"clc;\n",
"I=3;\n",
"Z=50;                                 //impedance\n",
"R=40;                              //resistance in ohm\n",
"f=60;                                 //supply frequency\n",
"Xc=sqrt(Z^2-R^2);                      //capacitive reactance\n",
"C=1/(2*%pi*f*Xc);                   //capacitance in farad\n",
"V=I*Z;                              //voltage\n",
"a=atan(Xc/R);\n",
"Vr=I*R;\n",
"Vc=I*Xc;\n",
"printf('(a) Capacitance, C = %.2f uF\n\n',C*10^6);\n",
"printf('(b) Supply voltage V = %d V\n\n',V);\n",
"printf('(c) Phase angle between the supply voltage and current, = %.2f deg (leading)\n\n',a*(180/%pi));\n",
"printf('(d) p.d. across resistor, Vr = %d V\n\n',Vr);\n",
"printf('p.d. across the capacitor, Vc = %d V\n\n',Vc);\n",
"printf('The phasor diagram is shown in Fig. 15.11, where the supply voltage V is the phasor sum of VR and VC.');"
   ]
   }
,
{
		   "cell_type": "markdown",
		   "metadata": {},
		   "source": [
			"## Example 15.15: Example_15.sce"
		   ]
		  },
  {
"cell_type": "code",
	   "execution_count": null,
	   "metadata": {
	    "collapsed": true
	   },
	   "outputs": [],
"source": [
"//Chapter 15, Problem 15, Fig 15.13\n",
"clc;\n",
"R=5;                                //resistance in ohm\n",
"L=120e-3;                           //inductance in henry\n",
"C=100e-6;                           //capacitance in farad\n",
"V=300;                              //supply voltage\n",
"f=50;                                //supply frequency\n",
"Xl=2*%pi*f*L;                        //inductive reactance\n",
"Xc=1/(2*%pi*f*C);                    //capacitive reactance\n",
"X=Xl-Xc;\n",
"Z=sqrt(R^2+X^2);                    //impedance\n",
"I=V/Z;                              //current \n",
"phi=atan(X/R);\n",
"Zcoil=sqrt(R^2+Xl^2);                 //impedance of coil\n",
"Vcoil=I*Zcoil;                        //voltage across coil\n",
"phi2=atan(Xl/R);\n",
"Vc=I*Xc;                              //voltage across capacitor\n",
"printf('(a) Current, I = %f A\n\n',I);\n",
"printf('(b) Phase angle = %f deg (leading)\n\n',phi*(180/%pi));\n",
"printf('(c) Phase angle of coil = %f deg (lagging)\n\n',phi2*(180/%pi));\n",
"printf('(d) Voltage across capacitor, Vc = %f V\n\n',Vc);\n",
"printf('The phasor diagram is shown in Fig. 15.14. The supply voltage V is the phasor sum of VCOIL and VC.');"
   ]
   }
,
{
		   "cell_type": "markdown",
		   "metadata": {},
		   "source": [
			"## Example 15.16: Example_16.sce"
		   ]
		  },
  {
"cell_type": "code",
	   "execution_count": null,
	   "metadata": {
	    "collapsed": true
	   },
	   "outputs": [],
"source": [
"//Chapter 15, Problem 16, Fig 15.16\n",
"clc;\n",
"V=40;                              //supply voltage\n",
"f=20e3;                                 //supply frequency\n",
"R1=8;                              //resistance in ohm\n",
"L=130e-6;                           //inductance in henry\n",
"R2=5;                              //resistance in ohm\n",
"R3=10;\n",
"C=0.25e-6;                           //capacitance in farad\n",
"Re=R1+R2+R3;                            //eqv resistance\n",
"Xl=2*%pi*f*L;                           //inductive reactance\n",
"Xc=1/(2*%pi*f*C);                      //capacitive reactance\n",
"X=Xc-Xl;\n",
"Z=sqrt(Re^2+X^2);                       //impedance\n",
"I=V/Z;                                  //current\n",
"phi=atan(X/Re);\n",
"Z2=sqrt(R2^2+Xl^2);\n",
"Z3=sqrt(R3^2+Xc^2);\n",
"V1=I*R1;\n",
"V2=I*Z2;\n",
"V3=I*Z3;\n",
"printf('(a) Current, I = %.3f A\n\n',I);\n",
"printf('Phase angle = %.2f deg (leading)\n\n',phi*(180/%pi));\n",
"printf('V1 = %.2f V\n\nV2 = %.2fV\n\nV3 = %.2fV',V1,V2,V3)"
   ]
   }
,
{
		   "cell_type": "markdown",
		   "metadata": {},
		   "source": [
			"## Example 15.17: Example_17.sce"
		   ]
		  },
  {
"cell_type": "code",
	   "execution_count": null,
	   "metadata": {
	    "collapsed": true
	   },
	   "outputs": [],
"source": [
"//Chapter 15, Problem 17, Fig 15.17\n",
"clc;\n",
"R1=4;                              //resistance in ohm\n",
"R2=8;                              //resistance in ohm\n",
"I=5;                                    //current in ampere\n",
"f=5000;                                 //supply frequency\n",
"L=0.286e-3;                           //inductance in henry\n",
"C=1.273e-6;                           //capacitance in farad\n",
"Xl=2*%pi*f*L;                           //inductive reactance\n",
"Z1=sqrt(R1^2+Xl^2);\n",
"V1=I*Z1;\n",
"phi=atan(Xl/R1);\n",
"Xc=1/(2*%pi*f*C);                      //capacitive reactance\n",
"Z2=sqrt(R2^2+Xc^2);\n",
"V2=I*Z2;\n",
"phi2=atan(Xc/R2);\n",
"printf('Phase angle 1, phi = %.2f deg (lagging)\n\n',phi*(180/%pi));\n",
"printf('Phase angle 2, phi2 = %.2f deg (leading)\n\n',phi2*(180/%pi));\n",
"printf('The phasor diagram is shown in Fig. 15.18');"
   ]
   }
,
{
		   "cell_type": "markdown",
		   "metadata": {},
		   "source": [
			"## Example 15.18: Example_18.sce"
		   ]
		  },
  {
"cell_type": "code",
	   "execution_count": null,
	   "metadata": {
	    "collapsed": true
	   },
	   "outputs": [],
"source": [
"//Chapter 15, Problem 18\n",
"clc;\n",
"R=10;                              //resistance in ohm\n",
"L=125e-3;                           //inductance in henry\n",
"C=60e-6;                           //capacitance in farad\n",
"V=120;                              //supply voltage\n",
"fr=1/(2*%pi*sqrt(L*C));             //resonant frequency\n",
"I=V/R;\n",
"printf('Frequency F at which resonance occur = %.2f Hz\n\n',fr);\n",
"printf('Current I flowing at the resonant frequency = %d A',I);"
   ]
   }
,
{
		   "cell_type": "markdown",
		   "metadata": {},
		   "source": [
			"## Example 15.19: Example_19.sce"
		   ]
		  },
  {
"cell_type": "code",
	   "execution_count": null,
	   "metadata": {
	    "collapsed": true
	   },
	   "outputs": [],
"source": [
"//Chapter 15, Problem 19\n",
"clc;\n",
"I=100e-6;\n",
"V=2e-3;                                 //supply voltage\n",
"f=200e3;                                 //frequency\n",
"L=50e-6;                                //inductance in henry\n",
"R=V/I;                                   //resistance in ohm\n",
"C=1/((2*%pi*f)^2*L);                     //capacitance in farad\n",
"printf('(a) Circuit resistance, R = %d ohm\n\n',R);\n",
"printf('(b) Circuit capacitance, C = %.1f nF\n\n',C*10^9);"
   ]
   }
,
{
		   "cell_type": "markdown",
		   "metadata": {},
		   "source": [
			"## Example 15.1: Example_1.sce"
		   ]
		  },
  {
"cell_type": "code",
	   "execution_count": null,
	   "metadata": {
	    "collapsed": true
	   },
	   "outputs": [],
"source": [
"//Chapter 15, Problem 1\n",
"clc;\n",
"f1=50;                          //frequency in hertz\n",
"L1=0.32;                        //inductance\n",
"xl=124;                         //reactance\n",
"f2=5000;                        //frequency in hertz\n",
"Xl=2*%pi*f1*L1;                 //inductive reactance\n",
"L=xl/(2*%pi*f2);                //inductance\n",
"printf('(a) Inductive reactance,\n Xl = %.1f ohm\n\n',Xl);\n",
"printf('(d) Inductance,\n L = %.3f mH\n\n',L*1000);"
   ]
   }
,
{
		   "cell_type": "markdown",
		   "metadata": {},
		   "source": [
			"## Example 15.20: Example_20.sce"
		   ]
		  },
  {
"cell_type": "code",
	   "execution_count": null,
	   "metadata": {
	    "collapsed": true
	   },
	   "outputs": [],
"source": [
"//Chapter 15, Problem 20\n",
"clc;\n",
"L=80e-3;                           //inductance in henry\n",
"C=0.25e-6;                           //capacitance in farad\n",
"R=12.5;                              //resistance in ohm\n",
"V=100;                              //supply voltage\n",
"fr=1/(2*%pi*sqrt(L*C));             //resonant frequency\n",
"I=V/R;\n",
"Vl=I*2*%pi*fr*L;\n",
"Vc=I*1/(2*%pi*fr*C);\n",
"Vm=Vl/V;\n",
"printf('(a) Resonant frequency = %.1f Hz\n\n',fr);\n",
"printf('(b) Current at resonance = %d A\n\n',I);\n",
"printf(' Q-factor of the circuit = %.3f',Vm);"
   ]
   }
,
{
		   "cell_type": "markdown",
		   "metadata": {},
		   "source": [
			"## Example 15.21: Example_21.sce"
		   ]
		  },
  {
"cell_type": "code",
	   "execution_count": null,
	   "metadata": {
	    "collapsed": true
	   },
	   "outputs": [],
"source": [
"//Chapter 15, Problem 21\n",
"clc;\n",
"R=2;                             //resistance in ohm\n",
"L=60e-3;                          //inductance in henry\n",
"C=30e-6;                         //capacitance in farad\n",
"Q=(1/R)*sqrt(L/C);                  //Q factor\n",
"printf('Q factor = %f ',Q);"
   ]
   }
,
{
		   "cell_type": "markdown",
		   "metadata": {},
		   "source": [
			"## Example 15.22: Example_22.sce"
		   ]
		  },
  {
"cell_type": "code",
	   "execution_count": null,
	   "metadata": {
	    "collapsed": true
	   },
	   "outputs": [],
"source": [
"//Chapter 15, Problem 22\n",
"clc;\n",
"R=10;                             //resistance in ohm\n",
"L=100e-3;                           //inductance in henry\n",
"C=2e-6;                         //capacitance in farad\n",
"V=50;                               //voltage\n",
"fr=1/(2*%pi*sqrt(L*C));             //resonant frequency\n",
"I=V/R;                              //current\n",
"Vl=I*2*%pi*fr*L;                    //voltage across coil at resonance\n",
"Vc=I*1/(2*%pi*fr*C);                //voltage across capacitance at resonance\n",
"Vm=Vl/V;\n",
"printf('(a) Resonant frequency = %.1f Hz\n\n',fr);\n",
"printf('(b) Current at resonance = %d A\n\n',I);\n",
"printf('(c) Voltages across the coil and the capacitor at resonance\n Vl = %d V\nVc = %d V\n\n',Vl,Vc);\n",
"printf('(d)Q-factor of the circuit = %.2f',Vm);"
   ]
   }
,
{
		   "cell_type": "markdown",
		   "metadata": {},
		   "source": [
			"## Example 15.23: Example_23.sce"
		   ]
		  },
  {
"cell_type": "code",
	   "execution_count": null,
	   "metadata": {
	    "collapsed": true
	   },
	   "outputs": [],
"source": [
"//Chapter 15, Problem 23\n",
"clc;\n",
"R=10;                             //resistance in ohm\n",
"L=20e-3;                         //inductance in henry\n",
"f=5000;                             //resonant frequency\n",
"w=2*%pi*f;\n",
"Qr=(w*L)/R;                         //Q-factor at resonance\n",
"B=f/Qr;                             //bandwidth\n",
"printf('Bandwidth of the filter = %.2f Hz',B);"
   ]
   }
,
{
		   "cell_type": "markdown",
		   "metadata": {},
		   "source": [
			"## Example 15.24: Example_24.sce"
		   ]
		  },
  {
"cell_type": "code",
	   "execution_count": null,
	   "metadata": {
	    "collapsed": true
	   },
	   "outputs": [],
"source": [
"//Chapter 15, Problem 24\n",
"clc;\n",
"//from eqn i=250 sin ωt\n",
"Im=0.250;\n",
"R=5000;                     //resistance in ohm\n",
"I=Im*0.707;                 //rms current\n",
"P=R*I^2;                    //power\n",
"printf('Power dissipated in the resistor = %.1f W',P);"
   ]
   }
,
{
		   "cell_type": "markdown",
		   "metadata": {},
		   "source": [
			"## Example 15.25: Example_25.sce"
		   ]
		  },
  {
"cell_type": "code",
	   "execution_count": null,
	   "metadata": {
	    "collapsed": true
	   },
	   "outputs": [],
"source": [
"//Chapter 15, Problem 25\n",
"clc;\n",
"L=75e-3;                        //inductance in henry\n",
"R=60;                           //resistance in ohm\n",
"V=110;                          //voltage\n",
"f=60;                           //frequency\n",
"Xl=2*%pi*f*L;                   //inductive reactance\n",
"Z=sqrt(R^2+Xl^2);               //impedance\n",
"I=V/Z;                          //current\n",
"P=I^2*R;                        //power\n",
"printf('Power dissipated = %d W',P);"
   ]
   }
,
{
		   "cell_type": "markdown",
		   "metadata": {},
		   "source": [
			"## Example 15.26: Example_26.sce"
		   ]
		  },
  {
"cell_type": "code",
	   "execution_count": null,
	   "metadata": {
	    "collapsed": true
	   },
	   "outputs": [],
"source": [
"//Chapter 15, Problem 26\n",
"clc;\n",
"V=150;                      //voltage\n",
"f=50;                       //frequency\n",
"S=300;                      //apparent power\n",
"I=S/V;                      //current\n",
"Xl=V/I;                     //inductive reactance\n",
"L=(Xl/(2*%pi*f));           //inductance in henry\n",
"printf('Inductance L = %.3f H',L);"
   ]
   }
,
{
		   "cell_type": "markdown",
		   "metadata": {},
		   "source": [
			"## Example 15.27: Example_27.sce"
		   ]
		  },
  {
"cell_type": "code",
	   "execution_count": null,
	   "metadata": {
	    "collapsed": true
	   },
	   "outputs": [],
"source": [
"//Chapter 15, Problem 27\n",
"clc;\n",
"pf=0.8;                     //power factor\n",
"phi=acos(0.8);\n",
"VI=200e3;                   //power\n",
"P=VI*pf; \n",
"Q=VI*sin(phi);                  //reactive power\n",
"printf('Power output P = %d kW\n\n',P/1000);\n",
"printf('Reactive power Q = %d Kvar',Q/1000);"
   ]
   }
,
{
		   "cell_type": "markdown",
		   "metadata": {},
		   "source": [
			"## Example 15.28: Example_28.sce"
		   ]
		  },
  {
"cell_type": "code",
	   "execution_count": null,
	   "metadata": {
	    "collapsed": true
	   },
	   "outputs": [],
"source": [
"//Chapter 15, Problem 28\n",
"clc;\n",
"P=90*10^3;                   //power\n",
"pf=0.5;                     //power factor\n",
"S=P/pf;                     //apparent power\n",
"phi=acos(pf);\n",
"Q=S*sin(phi);                  //reactive power\n",
"printf('Reactive power = %.1f Kvar',Q/1000);"
   ]
   }
,
{
		   "cell_type": "markdown",
		   "metadata": {},
		   "source": [
			"## Example 15.29: Example_29.sce"
		   ]
		  },
  {
"cell_type": "code",
	   "execution_count": null,
	   "metadata": {
	    "collapsed": true
	   },
	   "outputs": [],
"source": [
"//Chapter 15, Problem 29\n",
"clc;\n",
"V=120;                              //voltage\n",
"f=50;                               //frequency in hertz\n",
"P=400;                              //power in watt\n",
"I=8;                                //current in ampere\n",
"R=P/I^2;                            //resistance in ohm\n",
"Z=V/I;                              //impedance\n",
"Xl=sqrt(Z^2-R^2);                   //inductive reactance\n",
"pf=P/(V*I);                         //power factor\n",
"phi=acos(pf);\n",
"printf('(a) Resistance R = %.2f ohm\n\n',R);\n",
"printf('(b) Impedance Z = %d ohm\n\n',Z);\n",
"printf('(c) Reactance = %.2f ohm\n\n',Xl);\n",
"printf('(d) Power factor = %.4f\n\n',pf);\n",
"printf('(e) Phase angle = %.2f deg (lagging)\n\n',phi*(180/%pi));"
   ]
   }
,
{
		   "cell_type": "markdown",
		   "metadata": {},
		   "source": [
			"## Example 15.2: Example_2.sce"
		   ]
		  },
  {
"cell_type": "code",
	   "execution_count": null,
	   "metadata": {
	    "collapsed": true
	   },
	   "outputs": [],
"source": [
"//Chapter 15, Problem 2\n",
"clc;\n",
"f1=50;                      //frequency in hertz\n",
"L1=40e-3;                   //inductance\n",
"V=240;                      //voltage\n",
"V2=100;                      //voltage\n",
"f2=1000;                     //frequency in hertz\n",
"Xl=2*%pi*f1*L1;                 //inductive reactance\n",
"Xl2=2*%pi*f2*L1;                 //inductive reactance\n",
"I=V/Xl;                          //current \n",
"I2=V2/Xl2;                          //current \n",
"printf('(a) Inductive reactance, Xl = .2%f ohm \nCurrent I = %.2f A\n\n',Xl,I);\n",
"printf('(b) Inductive reactance, Xl = %.1f ohm \nCurrent I = %.3f A\n\n',Xl2,I2);"
   ]
   }
,
{
		   "cell_type": "markdown",
		   "metadata": {},
		   "source": [
			"## Example 15.30: Example_30.sce"
		   ]
		  },
  {
"cell_type": "code",
	   "execution_count": null,
	   "metadata": {
	    "collapsed": true
	   },
	   "outputs": [],
"source": [
"//Chapter 15, Problem 30\n",
"clc;\n",
"V=100;                              //voltage\n",
"f=60;                              //frequency in hertz\n",
"P=100;                             //power in watt\n",
"pf=0.5;                        //power factor\n",
"I=P/(pf*V);                      //current in ampere\n",
"R=P/I^2;                            //resistance in ohm\n",
"Z=V/I;                            //impedance\n",
"Xc=sqrt(Z^2-R^2);                   //capacitive reactance\n",
"C=1/(2*%pi*f*Xc);                   //capacitance\n",
"phi=acos(pf);\n",
"printf('(a) Current I = %d A\n\n',I);\n",
"printf('(b) Phase angle = %d deg (leading)\n\n',phi*(180/%pi));\n",
"printf('(c) Resistance R = %d ohm\n\n',R);\n",
"printf('(d) Impedance Z = %d\n\n',Z);\n",
"printf('(e) Capacitance C = %.2f uF\n\n',C*10^6);"
   ]
   }
,
{
		   "cell_type": "markdown",
		   "metadata": {},
		   "source": [
			"## Example 15.3: Example_3.sce"
		   ]
		  },
  {
"cell_type": "code",
	   "execution_count": null,
	   "metadata": {
	    "collapsed": true
	   },
	   "outputs": [],
"source": [
"//Chapter 15, Problem 3\n",
"clc;\n",
"f=50;                      //frequency in hertz\n",
"f2=20e3;                      //frequency in hertz\n",
"C=10e-6;                        //capacitance in farad\n",
"Xc=1/(2*%pi*f*C);               //capacitive reactance\n",
"Xc2=1/(2*%pi*f2*C);               //capacitive reactance\n",
"printf('(a) Capacitive reactance Xc = %.1f ohm\n\n',Xc);\n",
"printf('(b) Capacitive reactance Xc = %.3f ohm\n\n',Xc2);\n",
"printf('Hence as the frequency is increased from 50 Hz to 20 kHz, XC decreases from %.1f to %.3f (see Fig. 15.5)',Xc,Xc2);"
   ]
   }
,
{
		   "cell_type": "markdown",
		   "metadata": {},
		   "source": [
			"## Example 15.4: Example_4.sce"
		   ]
		  },
  {
"cell_type": "code",
	   "execution_count": null,
	   "metadata": {
	    "collapsed": true
	   },
	   "outputs": [],
"source": [
"//Chapter 15, Problem 4\n",
"clc;\n",
"f=50;                      //frequency in hertz\n",
"Xc=40;                      //capacitive reactance\n",
"C=1/(2*%pi*f*Xc);           //capacitance in farad\n",
"printf('Capacitance C = %.2f uF',C*10^6);"
   ]
   }
,
{
		   "cell_type": "markdown",
		   "metadata": {},
		   "source": [
			"## Example 15.5: Example_5.sce"
		   ]
		  },
  {
"cell_type": "code",
	   "execution_count": null,
	   "metadata": {
	    "collapsed": true
	   },
	   "outputs": [],
"source": [
"//Chapter 15, Problem 5\n",
"clc;\n",
"f=50;                    //frequency in hertz\n",
"V=240;                      //voltage\n",
"C=23e-6;                    //capacitance\n",
"Xc=1/(2*%pi*f*C)            //capacitive reactance\n",
"I=V/Xc;                     //current\n",
"printf('Current I = %.2f A',I)"
   ]
   }
,
{
		   "cell_type": "markdown",
		   "metadata": {},
		   "source": [
			"## Example 15.6: Example_6.sce"
		   ]
		  },
  {
"cell_type": "code",
	   "execution_count": null,
	   "metadata": {
	    "collapsed": true
	   },
	   "outputs": [],
"source": [
"//Chapter 15, Problem 6\n",
"clc;\n",
"Vr=12;                      //p.d. across the resistance\n",
"Vl=5;                       //p.d. across the inductance\n",
"//From the voltage triangle of Fig. 15.6,\n",
"V=sqrt(Vr^2+Vl^2);\n",
"phi=atan(Vl/Vr);\n",
"printf('Supply voltage V = %d V\n\n',V);\n",
"printf('Circuit phase angle = %.2f deg (lagging)',phi*(180/%pi));"
   ]
   }
,
{
		   "cell_type": "markdown",
		   "metadata": {},
		   "source": [
			"## Example 15.7: Example_7.sce"
		   ]
		  },
  {
"cell_type": "code",
	   "execution_count": null,
	   "metadata": {
	    "collapsed": true
	   },
	   "outputs": [],
"source": [
"//Chapter 15, Problem 7\n",
"clc;\n",
"R=4;                    //coil resistance\n",
"L=9.55e-3;              //inductance\n",
"f=50                    //frequency in hertz\n",
"V=240;                  //supply voltage\n",
"Xl=2*%pi*f*L;           //inductive reactance,\n",
"Z=sqrt(R^2+Xl^2);       //impedance\n",
"I=V/Z;                  //current\n",
"phi=atan(Xl/R);\n",
"printf('(a) Inductive reactance Xl = %d ohm\n\n',Xl);\n",
"printf('(b) Impedance Z = %d ohm\n\n',Z);\n",
"printf('(c) Current I = %f A\n\n',I);\n",
"printf('The circuit and phasor diagrams and the voltage and impedance triangles are as shown in Fig. 15.6\n');\n",
"printf('phi = %f lagging',phi*(180/%pi));"
   ]
   }
,
{
		   "cell_type": "markdown",
		   "metadata": {},
		   "source": [
			"## Example 15.8: Example_8.sce"
		   ]
		  },
  {
"cell_type": "code",
	   "execution_count": null,
	   "metadata": {
	    "collapsed": true
	   },
	   "outputs": [],
"source": [
"//Chapter 16, Problem 8\n",
"clc;\n",
"L=0.20;                     //inductance\n",
"R=60;                        //resistance\n",
"C=20e-6;                     //capacitance\n",
"V=20;                       //supply voltage\n",
"fr=(2*%pi)^-1*sqrt((1/(L*C))-(R^2/L^2));\n",
"Xl=2*%pi*fr*L;              //inductive reactance\n",
"Rd=L/(R*C);\n",
"Ir=V/Rd;\n",
"Q=Xl/R;\n",
"printf('(a) Resonant frequency of the circuit = %f Hz\n\n',fr);\n",
"printf('(b) Dynamic resistance Rd = %f ohm\n\n',Rd);\n",
"printf('(c) Current at resonance Ir = %f A\n\n',Ir);\n",
"printf('(d) Q factor of circuit = %f',Q);"
   ]
   }
,
{
		   "cell_type": "markdown",
		   "metadata": {},
		   "source": [
			"## Example 15.9: Example_9.sce"
		   ]
		  },
  {
"cell_type": "code",
	   "execution_count": null,
	   "metadata": {
	    "collapsed": true
	   },
	   "outputs": [],
"source": [
"//Chapter 15, Problem 9\n",
"clc;\n",
"L=318.3e-3;              //inductance\n",
"R=200;                    //resistance\n",
"V=240;                  //supply voltage\n",
"f=50;                    //frequency in hertz\n",
"Xl=2*%pi*f*L;           //inductive reactance,\n",
"Z=sqrt(R^2+Xl^2);       //impedance\n",
"I=V/Z;\n",
"Vl=I*Xl;\n",
"Vr=I*R;\n",
"phi=atan(Xl/R);\n",
"printf('(a) Inductive reactance = %f ohm\n\n',Xl);\n",
"printf('(b) Impedance Z = %.1f ohm\n\n',Z);\n",
"printf('(c) Current I = %.3f A\n\n',I);\n",
"printf('(d) The p.d. across the coil = %1f V\n\n',Vl);\n",
"printf('    The p.d. across the resistor =  %.1f V\n\n',Vr);\n",
"printf('(e) From the impedance triangle, angle = %f deg (lagging)\n\n',phi*(180/%pi));"
   ]
   }
],
"metadata": {
		  "kernelspec": {
		   "display_name": "Scilab",
		   "language": "scilab",
		   "name": "scilab"
		  },
		  "language_info": {
		   "file_extension": ".sce",
		   "help_links": [
			{
			 "text": "MetaKernel Magics",
			 "url": "https://github.com/calysto/metakernel/blob/master/metakernel/magics/README.md"
			}
		   ],
		   "mimetype": "text/x-octave",
		   "name": "scilab",
		   "version": "0.7.1"
		  }
		 },
		 "nbformat": 4,
		 "nbformat_minor": 0
}
