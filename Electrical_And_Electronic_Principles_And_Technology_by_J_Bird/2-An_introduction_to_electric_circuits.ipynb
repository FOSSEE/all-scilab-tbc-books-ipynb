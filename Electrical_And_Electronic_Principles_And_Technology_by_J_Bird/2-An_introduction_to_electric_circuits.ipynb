{
"cells": [
 {
		   "cell_type": "markdown",
	   "metadata": {},
	   "source": [
       "# Chapter 2: An introduction to electric circuits"
	   ]
	},
{
		   "cell_type": "markdown",
		   "metadata": {},
		   "source": [
			"## Example 2.10: Example_10.sce"
		   ]
		  },
  {
"cell_type": "code",
	   "execution_count": null,
	   "metadata": {
	    "collapsed": true
	   },
	   "outputs": [],
"source": [
"//Chapter 2, Problem 10\n",
"clc;\n",
"I=4e-3;                 //current in ampere\n",
"R=5e3;                  //resistance\n",
"P=I^2*R;                //calculating power\n",
"printf('Power = %f W',P);"
   ]
   }
,
{
		   "cell_type": "markdown",
		   "metadata": {},
		   "source": [
			"## Example 2.11: Example_11.sce"
		   ]
		  },
  {
"cell_type": "code",
	   "execution_count": null,
	   "metadata": {
	    "collapsed": true
	   },
	   "outputs": [],
"source": [
"//Chapter 2, Problem 11\n",
"clc;\n",
"V=240;              //voltage\n",
"R=30;               //resistance\n",
"I=V/R;              //calculating current using Ohms law\n",
"P=I*V;              //calculating power\n",
"printf('Current = %d A\n\n\n',I);\n",
"printf('Power = %f kW',P/1000);"
   ]
   }
,
{
		   "cell_type": "markdown",
		   "metadata": {},
		   "source": [
			"## Example 2.12: Example_12.sce"
		   ]
		  },
  {
"cell_type": "code",
	   "execution_count": null,
	   "metadata": {
	    "collapsed": true
	   },
	   "outputs": [],
"source": [
"//Chapter 2, Problem 12\n",
"clc;\n",
"I=5;                    //Current in ampere\n",
"R=100;                  //Resistance in ohms\n",
"V=I*R;                  //Calculating voltage using Ohms law\n",
"P=V*I;                     //Calculating power in watt\n",
"printf('Potential difference across winding = %d V\n\n\n',V);\n",
"printf('Power dissipated by coil = %d W',P);"
   ]
   }
,
{
		   "cell_type": "markdown",
		   "metadata": {},
		   "source": [
			"## Example 2.13: Example_13.sce"
		   ]
		  },
  {
"cell_type": "code",
	   "execution_count": null,
	   "metadata": {
	    "collapsed": true
	   },
	   "outputs": [],
"source": [
"//Chapter 2, Problem 13\n",
"clc;\n",
"V=240;              //voltage\n",
"R=960;              //resistance\n",
"I=V/R;              //calculating current using Ohms law\n",
"P=V*I;              //calculating power\n",
"printf('Power rating P = %d W',P);"
   ]
   }
,
{
		   "cell_type": "markdown",
		   "metadata": {},
		   "source": [
			"## Example 2.14: Example_14.sce"
		   ]
		  },
  {
"cell_type": "code",
	   "execution_count": null,
	   "metadata": {
	    "collapsed": true
	   },
	   "outputs": [],
"source": [
"//Chapter 2, Problem 14\n",
"clc;\n",
"V=12;               //voltage\n",
"R=40;               //resistance\n",
"t=2*60;             //time period\n",
"I=V/R;              //calculating current using Ohms law\n",
"P=V*I;              //calculating power\n",
"E=P*t;              //calculating energy \n",
"printf('Current flowing in load = %f A\n\n\n',I);\n",
"printf('Power consumed = %f W\n\n\n',P);\n",
"printf('Energy dissipated = %f J',E);"
   ]
   }
,
{
		   "cell_type": "markdown",
		   "metadata": {},
		   "source": [
			"## Example 2.15: Example_15.sce"
		   ]
		  },
  {
"cell_type": "code",
	   "execution_count": null,
	   "metadata": {
	    "collapsed": true
	   },
	   "outputs": [],
"source": [
"//Chapter 2, Problem 15\n",
"clc;\n",
"V=15;               //e.m.f\n",
"I=2;                //current\n",
"t=6*60;             //time period\n",
"E=V*t*I;            //calculating energy\n",
"printf('Energy = %f kJ',E/1000);"
   ]
   }
,
{
		   "cell_type": "markdown",
		   "metadata": {},
		   "source": [
			"## Example 2.16: Example_16.sce"
		   ]
		  },
  {
"cell_type": "code",
	   "execution_count": null,
	   "metadata": {
	    "collapsed": true
	   },
	   "outputs": [],
"source": [
"//Chapter 2, Problem 16\n",
"clc;\n",
"V=240;              //supply voltage\n",
"I=13;               //current\n",
"t=30;               //time in hours\n",
"P=V*I;              //power\n",
"E=P*t;              //energy\n",
"printf('Energy used per week = %.1f kWh\n\n',E/1000);\n",
"printf('hence weekly cost of electricity = %.2f £ euro',(E*12.5/1000)/100);"
   ]
   }
,
{
		   "cell_type": "markdown",
		   "metadata": {},
		   "source": [
			"## Example 2.18: Example_18.sce"
		   ]
		  },
  {
"cell_type": "code",
	   "execution_count": null,
	   "metadata": {
	    "collapsed": true
	   },
	   "outputs": [],
"source": [
"//Chapter 2, Problem 18\n",
"clc;\n",
"I=10;               //Curent in ampere\n",
"R=20;               //Resistance in ohm\n",
"T=6;                //Time in hours\n",
"unit=13;                //Unit of cost of electricity\n",
"P=I^2*R;                //Calculating power dissipated by electric fire\n",
"E=P*T;                  //Calculating Energy used\n",
"cost=E*unit;                //Calculating cost of energy\n",
"cost=cost/100000;\n",
"\n",
"printf('Power dissipated by element = %f kW\n\n\n',P/1000);\n",
"printf('Energy used in 6 hours = %f kWh\n\n\n',E/1000);\n",
"printf('Cost of energy = £ %fp',cost);"
   ]
   }
,
{
		   "cell_type": "markdown",
		   "metadata": {},
		   "source": [
			"## Example 2.19: Example_19.sce"
		   ]
		  },
  {
"cell_type": "code",
	   "execution_count": null,
	   "metadata": {
	    "collapsed": true
	   },
	   "outputs": [],
"source": [
"//Chapter 2, Problem 19\n",
"clc;\n",
"P1=3000;                //power in watts\n",
"P2=150;                 //power in watts\n",
"t1=20;                  //time in hours\n",
"t2=30;                  //time in hours\n",
"n1=2;                   //no of fires\n",
"n2=6;                   //no of light\n",
"m=14;                   //cost per unit\n",
"E1=P1*t1;\n",
"w1=n1*E1;\n",
"E2=P2*t2;\n",
"w2=n2*E2;\n",
"T=w1+w2;\n",
"c=m*(T/1000);\n",
"printf('\nIf the cost of electricity is 14 p per unit\n')\n",
"printf('\n the weekly cost of electricity to the business = %f p',c);\n",
"printf('\n\t\t\t\t\t\t= %.2f euro',c/100);"
   ]
   }
,
{
		   "cell_type": "markdown",
		   "metadata": {},
		   "source": [
			"## Example 2.1: Example_1.sce"
		   ]
		  },
  {
"cell_type": "code",
	   "execution_count": null,
	   "metadata": {
	    "collapsed": true
	   },
	   "outputs": [],
"source": [
"//Chapter 2, Problem 1\n",
"clc;\n",
"Q=0.24;                         //Charge in coulombs\n",
"T=15*10^-3;                         //Time converted in seconds\n",
"I=Q/T;                          //Calculating current \n",
"printf('Current flows = %f A',I);"
   ]
   }
,
{
		   "cell_type": "markdown",
		   "metadata": {},
		   "source": [
			"## Example 2.20: Example_20.sce"
		   ]
		  },
  {
"cell_type": "code",
	   "execution_count": null,
	   "metadata": {
	    "collapsed": true
	   },
	   "outputs": [],
"source": [
"//Chapter 2, Problem 20,\n",
"clc;\n",
"V=240;                            //Supply voltage\n",
"P1=1000;                            //Power rating of Electric toaster \n",
"P2=3000;                            //Power rating of Electric fire\n",
"//Calculating fuse current for electric toaster\n",
"I1=P1/V;\n",
"//Calculating fuse current for electric fire\n",
"I2=P2/V;\n",
"I1=I1+1;\n",
"I2=I2+1;\n",
"printf('(i) Current in fuse for Electric toaster = %d A\n\n\n',I1);\n",
"printf('(ii) Current in fuse for Electric fire = %d A\n\n\n',I2);"
   ]
   }
,
{
		   "cell_type": "markdown",
		   "metadata": {},
		   "source": [
			"## Example 2.2: Example_2.sce"
		   ]
		  },
  {
"cell_type": "code",
	   "execution_count": null,
	   "metadata": {
	    "collapsed": true
	   },
	   "outputs": [],
"source": [
"//Chapter 2, Problem 2\n",
"clc;\n",
"I=10;                           //Current flows\n",
"T=4*60;                     //Time converted in seconds\n",
"Q=I*T;                              //Calculating charge\n",
"printf('Electricity transfered = %f C',Q);   //Displaying the result in coulombs"
   ]
   }
,
{
		   "cell_type": "markdown",
		   "metadata": {},
		   "source": [
			"## Example 2.3: Example_3.sce"
		   ]
		  },
  {
"cell_type": "code",
	   "execution_count": null,
	   "metadata": {
	    "collapsed": true
	   },
	   "outputs": [],
"source": [
"//Chapter 2, Problem 3\n",
"clc;\n",
"V=20;               //Potential difference \n",
"I=0.8;              //Current in ampere\n",
"R=V/I;              //Calculating resistance using Ohm's law\n",
"printf('Resistance = %d ohms',R);"
   ]
   }
,
{
		   "cell_type": "markdown",
		   "metadata": {},
		   "source": [
			"## Example 2.4: Example_4.sce"
		   ]
		  },
  {
"cell_type": "code",
	   "execution_count": null,
	   "metadata": {
	    "collapsed": true
	   },
	   "outputs": [],
"source": [
"//Chapter 2, Problem 4\n",
"clc;\n",
"R=2*10^3;                   //Resistance in ohms\n",
"I=10*10^-3;                 //Current in ampere\n",
"V=R*I;                          //Calculating voltage\n",
"printf('Potential difference = %d V',V);"
   ]
   }
,
{
		   "cell_type": "markdown",
		   "metadata": {},
		   "source": [
			"## Example 2.5: Example_5.sce"
		   ]
		  },
  {
"cell_type": "code",
	   "execution_count": null,
	   "metadata": {
	    "collapsed": true
	   },
	   "outputs": [],
"source": [
"//Chapter 2, Problem 5\n",
"clc;\n",
"V=12;                   //voltage\n",
"I=50*10^-3;             //current\n",
"R=V/I;                  //calculating resistance using Ohms law\n",
"printf('Resistance of coil = %d ohms',R);"
   ]
   }
,
{
		   "cell_type": "markdown",
		   "metadata": {},
		   "source": [
			"## Example 2.6: Example_6.sce"
		   ]
		  },
  {
"cell_type": "code",
	   "execution_count": null,
	   "metadata": {
	    "collapsed": true
	   },
	   "outputs": [],
"source": [
"//Chapter 2, Problem 6\n",
"clc;\n",
"V1=100;                 //Battery voltage\n",
"I1=5*10^-3;                 //Current of 5mA;\n",
"V2=25;                      //Voltage is now reduced to 25V\n",
"R=V1/I1;                    //Calculating resistance due to V1 using Ohms law\n",
"I2=V2/R;                    //Calculating current due to V2 using Ohms law\n",
"printf('Resistance of resistor = %d k.ohms\n\n\n',R/1000);\n",
"printf('Current when voltage is reduced to 25V = %f mA',I2*1000);"
   ]
   }
,
{
		   "cell_type": "markdown",
		   "metadata": {},
		   "source": [
			"## Example 2.7: Example_7.sce"
		   ]
		  },
  {
"cell_type": "code",
	   "execution_count": null,
	   "metadata": {
	    "collapsed": true
	   },
	   "outputs": [],
"source": [
"//Chapter 2, Problem 7\n",
"clc;\n",
"V=120;                  //Supply voltage\n",
"I1=50*10^-3;                    //Current of 50mA\n",
"I2=200*10^-6;                   //Current of 200uA\n",
"R1=V/I1;                            //Calculating resistance due to I1 using Ohms law\n",
"R2=V/I2;                            //Calculating resistance due to I1 using Ohms law\n",
"printf('Resistance of coil draws 50mA current = %f ohms\n\n\n',R1);\n",
"printf('Resistance of coil draws 100uA current = %f ohms\n\n\n',R2);"
   ]
   }
,
{
		   "cell_type": "markdown",
		   "metadata": {},
		   "source": [
			"## Example 2.8: Example_8.sce"
		   ]
		  },
  {
"cell_type": "code",
	   "execution_count": null,
	   "metadata": {
	    "collapsed": true
	   },
	   "outputs": [],
"source": [
"//Chapter 2, Problem 8, Figure 2.8\n",
"clc;\n",
"V1=20;                      //Voltage of resistor A\n",
"I1=20*10^-3;                //Current of resistor A\n",
"V2=16;                      //Voltage of resistor B\n",
"I2=5*10^-3;                 //Current of resistor B\n",
"R1=V1/I1;                   //Calculating resistance of resistor A using Ohms law\n",
"R2=V2/I2;                   //Calculating resistance of resistor B using Ohms law\n",
"printf('Resistance of resistor A = %d k.ohms\n\n\n',R1/1000);\n",
"printf('Resistance of resistor B = %f k.ohms\n\n\n',R2/1000);"
   ]
   }
,
{
		   "cell_type": "markdown",
		   "metadata": {},
		   "source": [
			"## Example 2.9: Example_9.sce"
		   ]
		  },
  {
"cell_type": "code",
	   "execution_count": null,
	   "metadata": {
	    "collapsed": true
	   },
	   "outputs": [],
"source": [
"//Chapter 2, Problem 9\n",
"clc;\n",
"P=100;              //power in watt\n",
"V=250;              //voltage\n",
"I=P/V;              //calculating current\n",
"R=V/I;              //calculating resistance using Ohms law\n",
"printf('(a) Current = %f A\n\n\n',I);\n",
"printf('(b) Resistance = %d ohms',R);"
   ]
   }
],
"metadata": {
		  "kernelspec": {
		   "display_name": "Scilab",
		   "language": "scilab",
		   "name": "scilab"
		  },
		  "language_info": {
		   "file_extension": ".sce",
		   "help_links": [
			{
			 "text": "MetaKernel Magics",
			 "url": "https://github.com/calysto/metakernel/blob/master/metakernel/magics/README.md"
			}
		   ],
		   "mimetype": "text/x-octave",
		   "name": "scilab",
		   "version": "0.7.1"
		  }
		 },
		 "nbformat": 4,
		 "nbformat_minor": 0
}
