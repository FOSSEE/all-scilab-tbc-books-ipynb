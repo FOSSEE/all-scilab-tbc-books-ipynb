{
"cells": [
 {
		   "cell_type": "markdown",
	   "metadata": {},
	   "source": [
       "# Chapter 21: Transformers"
	   ]
	},
{
		   "cell_type": "markdown",
		   "metadata": {},
		   "source": [
			"## Example 21.10: Example_10.sce"
		   ]
		  },
  {
"cell_type": "code",
	   "execution_count": null,
	   "metadata": {
	    "collapsed": true
	   },
	   "outputs": [],
"source": [
"//Chapter 21, Problem 10\n",
"clc;\n",
"f=50;                       //frequency\n",
"n1=25;                      //primary turns\n",
"n2=300;                     //secondary turns\n",
"A=300e-4;                   //cross-sectional area of the core\n",
"v1=250;                     //primary voltage\n",
"phim=v1/(4.44*f*n1);        //flux\n",
"Bm=phim/A;                  //maximum flux density\n",
"v2=v1*(n2/n1);              //secondary voltage\n",
"printf('(a) Maximum flux density= %.2f T\n\n',Bm);\n",
"printf('(b) Secondary winding voltage = %d V',v2);"
   ]
   }
,
{
		   "cell_type": "markdown",
		   "metadata": {},
		   "source": [
			"## Example 21.11: Example_11.sce"
		   ]
		  },
  {
"cell_type": "code",
	   "execution_count": null,
	   "metadata": {
	    "collapsed": true
	   },
	   "outputs": [],
"source": [
"//Chapter 21, Problem 11\n",
"clc;\n",
"f=50;                           //frequency\n",
"v1=500;                         //primary voltage\n",
"v2=100;                         //secondary voltage\n",
"B=1.5;                          //maximum core flux density\n",
"A=50e-4;                        //effective core cross-sectional area\n",
"phim=B*A;                       //maximum flux\n",
"n1=v1/(4.44*f*phim);            //primary turns\n",
"n2=v2/(4.44*f*phim);            //secondary turns\n",
"printf('Primary turns = %d turns\n\n',n1);\n",
"printf('Seconadry turns = %d turns\n\n',n2);"
   ]
   }
,
{
		   "cell_type": "markdown",
		   "metadata": {},
		   "source": [
			"## Example 21.12: Example_12.sce"
		   ]
		  },
  {
"cell_type": "code",
	   "execution_count": null,
	   "metadata": {
	    "collapsed": true
	   },
	   "outputs": [],
"source": [
"//Chapter 21, Problem 12\n",
"clc;\n",
"v1=4500;                        //primary voltage\n",
"v2=225;                         //secondary voltage\n",
"f=50;                           //frequency\n",
"en=15;                          //e.m.f. per turn\n",
"B=1.4;                          //maximum core flux density\n",
"n1=v1/en;                       //primary turns\n",
"n2=v2/en;                       //secondary turns\n",
"phim=v1/(4.44*f*n1);            //maximum flux\n",
"A=phim/B;                       //effective core cross-sectional area\n",
"printf('(a) Primary turns = %f\n\nSecondary turns = %f\n\n\n',n1,n2);\n",
"printf('(b) cross-sectional area of the core = %f m2',A);"
   ]
   }
,
{
		   "cell_type": "markdown",
		   "metadata": {},
		   "source": [
			"## Example 21.13: Example_13.sce"
		   ]
		  },
  {
"cell_type": "code",
	   "execution_count": null,
	   "metadata": {
	    "collapsed": true
	   },
	   "outputs": [],
"source": [
"//Chapter 21, Problem 13, Figure 21.5\n",
"clc\n",
"n1=2000                         //no of turns on primary\n",
"n2=800                          //no of turns on secondary\n",
"i2=100                          //secondary current in amperes\n",
"i1=44                           //current in amperes from phasor diagram\n",
"i0=5                            //no load current\n",
"i3=40                           //current from phaor diagram\n",
"pf0=0.2                         //power factor\n",
"a1=37\n",
"pf2=0.85\n",
"i1=i2*n2/n1\n",
"a2=acosd(pf2)\n",
"a0=acosd(pf0)\n",
"Icos=(i0*pf0)+(i3*pf2)\n",
"Isin=(i0*sin(a0*%pi/180))+(i3*sin(a2*%pi/180))\n",
"I1=sqrt(Isin^2+Icos^2)\n",
"ta=atand(Isin/Icos)\n",
"pf=cos(ta*%pi/180)\n",
"printf('I1 = %.3f A\n\n Power factor = %.3f degree\n\n',I1,pf)"
   ]
   }
,
{
		   "cell_type": "markdown",
		   "metadata": {},
		   "source": [
			"## Example 21.14: Example_14.sce"
		   ]
		  },
  {
"cell_type": "code",
	   "execution_count": null,
	   "metadata": {
	    "collapsed": true
	   },
	   "outputs": [],
"source": [
"//Chapter 21, Problem 14\n",
"clc;\n",
"n1=600;                             //primary turns\n",
"n2=150;                             //secondary turns\n",
"r1=0.25;                            //primary resistance\n",
"r2=0.01;                            //secondary resistance\n",
"x1=1;                               //leakage reactance\n",
"x2=0.04;\n",
"re=r1+r2*(n1/n2)^2;                 //equivalent resistance\n",
"xe=x1+x2*(n1/n2)^2;                 //equivalent reactance\n",
"ze=sqrt(re^2+xe^2);                 //equivalent impedance\n",
"phie=acos(re/ze);                   //phase angle of the impedance\n",
"printf('(a) Equivalent resistance = %.2f ohms\n\n',re);\n",
"printf('(b) Equivalent reactance = %.2f ohms\n\n',xe);\n",
"printf('(c) Equivalent impedance = %.2f ohms\n\n',ze);\n",
"printf('(d) Phase angle of the impedance = %.2f deg',phie*180/%pi);"
   ]
   }
,
{
		   "cell_type": "markdown",
		   "metadata": {},
		   "source": [
			"## Example 21.15: Example_15.sce"
		   ]
		  },
  {
"cell_type": "code",
	   "execution_count": null,
	   "metadata": {
	    "collapsed": true
	   },
	   "outputs": [],
"source": [
"//Chapter 21, Problem 15\n",
"clc;\n",
"e1=200;                         //primary voltage\n",
"e2=400;                         //secondary voltage\n",
"v2=387.6;                       //secondary terminal voltage\n",
"reg=((e2-v2)/e2)*100;           //regulation\n",
"printf('Regulation = %.1f percent',reg);"
   ]
   }
,
{
		   "cell_type": "markdown",
		   "metadata": {},
		   "source": [
			"## Example 21.16: Example_16.sce"
		   ]
		  },
  {
"cell_type": "code",
	   "execution_count": null,
	   "metadata": {
	    "collapsed": true
	   },
	   "outputs": [],
"source": [
"//Chapter 21, Problem 16\n",
"clc;\n",
"reg=2.5;                        //regulation\n",
"e2=240;                         //secondary voltage\n",
"v2=240-((reg*e2)/100);          //secondary terminal voltage\n",
"printf('Load voltage = %d V',v2);"
   ]
   }
,
{
		   "cell_type": "markdown",
		   "metadata": {},
		   "source": [
			"## Example 21.17: Example_17.sce"
		   ]
		  },
  {
"cell_type": "code",
	   "execution_count": null,
	   "metadata": {
	    "collapsed": true
	   },
	   "outputs": [],
"source": [
"//Chapter 21, Problem 17\n",
"clc;\n",
"vi=200e3;                   //rated transformer\n",
"pf=0.85;                    //power factor\n",
"lcu=1.5e3;                  //copper loss\n",
"lfe=1e3;                    //iron loss\n",
"po=vi*pf;                   //full-load output power\n",
"lt=lcu+lfe;                 //total losses\n",
"pi=po+lt;                   //input power\n",
"Ef=(1-(lt/pi));             //efficiency\n",
"printf('Transformer efficiency at full load = %f percent',Ef*100);"
   ]
   }
,
{
		   "cell_type": "markdown",
		   "metadata": {},
		   "source": [
			"## Example 21.18: Example_18.sce"
		   ]
		  },
  {
"cell_type": "code",
	   "execution_count": null,
	   "metadata": {
	    "collapsed": true
	   },
	   "outputs": [],
"source": [
"//Chapter 21, Problem 18\n",
"clc;\n",
"vi=200e3;                       //rated transformer\n",
"pf=0.85;                        //power factor\n",
"lcu=(1/2)^2*1.5e3;              //copper loss\n",
"lfe=1e3;                        //iron loss\n",
"p0=(1/2)*vi*pf;                 //full-load output power\n",
"lt=lcu+lfe;                     //total losses\n",
"pi=p0+lt;                       //input power\n",
"Ef=(1-(lt/pi));                 //efficiency\n",
"printf('Transformer efficiency at half load = %.3f percent',Ef*100);"
   ]
   }
,
{
		   "cell_type": "markdown",
		   "metadata": {},
		   "source": [
			"## Example 21.19: Example_19.sce"
		   ]
		  },
  {
"cell_type": "code",
	   "execution_count": null,
	   "metadata": {
	    "collapsed": true
	   },
	   "outputs": [],
"source": [
"//Chapter 21, Problem 19\n",
"clc\n",
"k=400000                                //transformer rating\n",
"v1=5000                                 //primary current\n",
"v2=320                                  //secondary current\n",
"r1=0.5                                  //resistance in ohm\n",
"r2=0.001                                //resistance in ohm\n",
"lfe=2500                                //iron loss\n",
"pf=0.85                                 //power factor\n",
"i1=k/v1                                 //primary current\n",
"i2=k/v2                                 //secondary current\n",
"lcu=(i1^2*r1)+(i2^2*r2)                 //total copper loss\n",
"lt=lcu+lfe                              //total loss\n",
"pt=k*pf                                 //total output power\n",
"pi=pt+lt                                //input power\n",
"n=(1-(lt/pi))*100                       //efficiency\n",
"lc=lcu*(1/2)^2                          //total copper loss at half load\n",
"lh=lc+lfe                               //total loss at half loss\n",
"ph0=(1/2)*pt                            //output power at half load\n",
"phi=(ph0+lh)                            //input power at half load\n",
"n1=(1-(lh/phi))*100                     //efficiency\n",
"printf('(a) Efficiency on full load = %.3f percent\n\n',n)\n",
"printf('(b) Efficiency at half load = %.3f percent\n\n',n1)"
   ]
   }
,
{
		   "cell_type": "markdown",
		   "metadata": {},
		   "source": [
			"## Example 21.1: Example_1.sce"
		   ]
		  },
  {
"cell_type": "code",
	   "execution_count": null,
	   "metadata": {
	    "collapsed": true
	   },
	   "outputs": [],
"source": [
"//Chapter 21, Problem 1\n",
"clc;\n",
"n1=500;                 //primary turns\n",
"n2=3000;                //secondary turns\n",
"v1=240;                 //primary voltage\n",
"v2=(v1*n2)/n1;          //secondary voltage\n",
"printf('Secondary voltage = %f V',v2);"
   ]
   }
,
{
		   "cell_type": "markdown",
		   "metadata": {},
		   "source": [
			"## Example 21.20: Example_20.sce"
		   ]
		  },
  {
"cell_type": "code",
	   "execution_count": null,
	   "metadata": {
	    "collapsed": true
	   },
	   "outputs": [],
"source": [
"//Chapter 21, Problem 20\n",
"clc\n",
"c=4e3                       //coper loss\n",
"p=500e3                     //transformer rating\n",
"r=2.5e3                     //iron loss\n",
"pf=0.75                     //power factor\n",
"x=sqrt(r/c)\n",
"eff=x*p\n",
"los=2*r\n",
"po=eff*pf\n",
"pi=po-los\n",
"n=(1-(los/pi))*100\n",
"printf('(a) The Output KVA at maximum efficiency = %.2f kVA\n\n',eff/1000)\n",
"printf('(b) Maximum efficiency = %.2f percent',n)"
   ]
   }
,
{
		   "cell_type": "markdown",
		   "metadata": {},
		   "source": [
			"## Example 21.21: Example_21.sce"
		   ]
		  },
  {
"cell_type": "code",
	   "execution_count": null,
	   "metadata": {
	    "collapsed": true
	   },
	   "outputs": [],
"source": [
"//Chapter 21, Problem 21\n",
"clc;\n",
"N=4/1;                      //turns ratio\n",
"Rl=100;                     //load resistance\n",
"R1=N^2*Rl;                  //equivalent input resistance\n",
"printf('Equivalent input resistance = %d ohms',R1);"
   ]
   }
,
{
		   "cell_type": "markdown",
		   "metadata": {},
		   "source": [
			"## Example 21.22: Example_22.sce"
		   ]
		  },
  {
"cell_type": "code",
	   "execution_count": null,
	   "metadata": {
	    "collapsed": true
	   },
	   "outputs": [],
"source": [
"//Chapter 21, Problem 22\n",
"clc;\n",
"R1=112;                     //equivalent input resistance\n",
"Rl=7;                       //load resistance\n",
"N=sqrt(R1/Rl);              //turns ratio\n",
"printf('Optimum turns ratio = %d : 1 ',N);"
   ]
   }
,
{
		   "cell_type": "markdown",
		   "metadata": {},
		   "source": [
			"## Example 21.23: Example_23.sce"
		   ]
		  },
  {
"cell_type": "code",
	   "execution_count": null,
	   "metadata": {
	    "collapsed": true
	   },
	   "outputs": [],
"source": [
"//Chapter 21, Problem 23\n",
"clc;\n",
"R1=150;                             //equivalent input resistance\n",
"N=5;                                //turns ratio\n",
"Rl=R1/(N^2);                        //load resistance\n",
"printf('Optimum value of load resistance = %d ohm',Rl);"
   ]
   }
,
{
		   "cell_type": "markdown",
		   "metadata": {},
		   "source": [
			"## Example 21.24: Example_24.sce"
		   ]
		  },
  {
"cell_type": "code",
	   "execution_count": null,
	   "metadata": {
	    "collapsed": true
	   },
	   "outputs": [],
"source": [
"//Chapter 21, Problem 24\n",
"clc;\n",
"v1=220;                             //primary voltage\n",
"v2=1760;                            //secondary voltage\n",
"R=2;                                //cable resistance\n",
"Rl=1.28e3;                          //load across secondary winding\n",
"N=v1/v2;                            //turns ratio\n",
"R1=N^2*Rl;                          //equivalent input resistance\n",
"Rin=R+R1;                           //total input resistance,\n",
"I1=v1/Rin;                          //primary current\n",
"I2=I1*N;                            //secondary current\n",
"P=I2^2*Rl;                          //power dissipated\n",
"printf('(a) Primary current = %d A\n\n',I1);\n",
"printf('(b) Power dissipated in load resistor = %d W',P);"
   ]
   }
,
{
		   "cell_type": "markdown",
		   "metadata": {},
		   "source": [
			"## Example 21.25: Example_25.sce"
		   ]
		  },
  {
"cell_type": "code",
	   "execution_count": null,
	   "metadata": {
	    "collapsed": true
	   },
	   "outputs": [],
"source": [
"//Chapter 21, Problem 25\n",
"clc;\n",
"V=24;                       //ac source\n",
"R1=15e3;                    //input resistance \n",
"N=25/1;                     //turns ratio\n",
"Rin=15e3;                   //internal resistance\n",
"Rl=R1*(1/N)^2;              //load resistance\n",
"Rt=Rin+R1;                  //total input resistance\n",
"I1=V/Rt;                    //primary current\n",
"I2=I1*N;                    //secondary current\n",
"P=I2^2*Rl;                  //power dissipated\n",
"printf('(a) Load resistance = %d ohms\n\n',Rl);\n",
"printf('(b) Power dissipated in the load = %.1f mW',P*1000);"
   ]
   }
,
{
		   "cell_type": "markdown",
		   "metadata": {},
		   "source": [
			"## Example 21.26: Example_26.sce"
		   ]
		  },
  {
"cell_type": "code",
	   "execution_count": null,
	   "metadata": {
	    "collapsed": true
	   },
	   "outputs": [],
"source": [
"//Chapter 21, Problem 26\n",
"clc;\n",
"V1=320;                     //primary voltage\n",
"V2=250;                     //secondary voltage\n",
"Rg=20e3;                    //rating\n",
"I1=Rg/V1;                   //primary current\n",
"I2=Rg/V2;                   //secondary current\n",
"I=I2-I1;                    //current in common part of the winding\n",
"printf('Primary current = %.1f A\n\nSecondary current = %d A\n\n\n',I1,I2);\n",
"printf('Hence current in common part of the winding = %.1f A',I);"
   ]
   }
,
{
		   "cell_type": "markdown",
		   "metadata": {},
		   "source": [
			"## Example 21.27: Example_27.sce"
		   ]
		  },
  {
"cell_type": "code",
	   "execution_count": null,
	   "metadata": {
	    "collapsed": true
	   },
	   "outputs": [],
"source": [
"//Chapter 21, Problem 27\n",
"clc;\n",
"v1=200;                         //primary voltage of transformer 1\n",
"v2=150;                         //secondary voltage of transformer 1\n",
"v3=500;                         //primary voltage of transformer 2\n",
"v4=100;                         //secondary voltage of transformer 2\n",
"x=v2/v1;\n",
"V=(1-x)*100;\n",
"y=v4/v3;\n",
"W=(1-y)*100;\n",
"printf('(a) 200V:150V transformer,\n Volume of copper = %d percent\n',V);\n",
"disp('Hence the saving is 75%');\n",
"printf('\n\n(b) 500V:100V transformer,\nVolume of copper = %d percent\n',W);\n",
"disp('Hence the saving is 20%.');"
   ]
   }
,
{
		   "cell_type": "markdown",
		   "metadata": {},
		   "source": [
			"## Example 21.28: Example_28.sce"
		   ]
		  },
  {
"cell_type": "code",
	   "execution_count": null,
	   "metadata": {
	    "collapsed": true
	   },
	   "outputs": [],
"source": [
"//Chapter 21, Problem 28\n",
"clc;\n",
"n1=500;                             //primary turns\n",
"n2=50;                              //secondary turns\n",
"v1=2.4e3;                           //supply voltage\n",
"Vp=v1/sqrt(3);                      //primary phase voltage\n",
"Vp2=Vp*(n2/n1);                     //secondary phase voltage\n",
"Vp3=v1*(n2/n1);                     //secondary phase voltage 2\n",
"Vl=sqrt(3)*Vp3;                     //secondary line voltage\n",
"printf('(a) For star connection\n')\n",
"printf('Secondary line voltage = %.2f V\n\n',Vp2);\n",
"printf('(b) For delta connection\n');\n",
"printf('Secondary line voltage = %.2f V',Vl);"
   ]
   }
,
{
		   "cell_type": "markdown",
		   "metadata": {},
		   "source": [
			"## Example 21.29: Example_29.sce"
		   ]
		  },
  {
"cell_type": "code",
	   "execution_count": null,
	   "metadata": {
	    "collapsed": true
	   },
	   "outputs": [],
"source": [
"//Chapter 21, Problem 29\n",
"clc;\n",
"N1=1;                           //primary turns\n",
"N2=60;                          //secondary turns\n",
"I1=300;                         //primary current\n",
"Ra=0.15;                        //ammeter resistance\n",
"R2=0.25;                        //secondary winding resistance\n",
"I2=I1*(N1/N2);                  //secondary current\n",
"V2=I2*Ra;                       //secondary voltage\n",
"Rt=Ra+R2;                       //total resistance of secondary circuit\n",
"e2=I2*Rt;                       //induced e.m.f. in secondary\n",
"l=e2*I2;                        //load on secondary\n",
"printf('(a) Reading on the ammeter = %d A\n\n',I2);\n",
"printf('(b) P.d. across the ammeter = %.2f V\n\n',V2);\n",
"printf('(c) Total load (in VA) on the secondary = %d VA',l);"
   ]
   }
,
{
		   "cell_type": "markdown",
		   "metadata": {},
		   "source": [
			"## Example 21.2: Example_2.sce"
		   ]
		  },
  {
"cell_type": "code",
	   "execution_count": null,
	   "metadata": {
	    "collapsed": true
	   },
	   "outputs": [],
"source": [
"//Chapter 21, Problem 2\n",
"clc;\n",
"N=2/7;              //turns ratio\n",
"v1=240;             //primary voltage\n",
"v2=v1/N;            //secondary voltage\n",
"printf('Output voltage = %f V',v2);"
   ]
   }
,
{
		   "cell_type": "markdown",
		   "metadata": {},
		   "source": [
			"## Example 21.3: Example_3.sce"
		   ]
		  },
  {
"cell_type": "code",
	   "execution_count": null,
	   "metadata": {
	    "collapsed": true
	   },
	   "outputs": [],
"source": [
"//Chapter 21, Problem 3\n",
"clc;\n",
"N=8/1;                  //turns ratio\n",
"i1=3;                   //primary current\n",
"v1=240;                 //primary voltage\n",
"v2=v1/N;                //secondary voltage\n",
"i2=N*i1;                //secondary current\n",
"printf('Secondary voltage  = %f V\n\nSecondary current = %f A',v2,i2);"
   ]
   }
,
{
		   "cell_type": "markdown",
		   "metadata": {},
		   "source": [
			"## Example 21.4: Example_4.sce"
		   ]
		  },
  {
"cell_type": "code",
	   "execution_count": null,
	   "metadata": {
	    "collapsed": true
	   },
	   "outputs": [],
"source": [
"//Chapter 21, Problem 4\n",
"clc;\n",
"v1=240;                     //primary voltage\n",
"v2=12;                      //secondary voltage\n",
"P=150;                      //power\n",
"N=v1/v2;                    //turns ratio\n",
"i2=P/v2;                    //secondary current\n",
"i1=i2/N;                    //primary current\n",
"printf('Transformer turns ratio = %f\n\n',N);\n",
"printf('Current = %f A',i1);"
   ]
   }
,
{
		   "cell_type": "markdown",
		   "metadata": {},
		   "source": [
			"## Example 21.5: Example_5.sce"
		   ]
		  },
  {
"cell_type": "code",
	   "execution_count": null,
	   "metadata": {
	    "collapsed": true
	   },
	   "outputs": [],
"source": [
"//Chapter 21, Problem 5\n",
"clc;\n",
"v2=120;                         //secondary voltage\n",
"r2=12;                          //resistance in ohm\n",
"i1=4;                           //primary current\n",
"i2=v2/r2;                       //secondary current\n",
"v1=v2*(i2/i1);                  //primary voltage\n",
"printf('Primary voltage = %f V',v1);"
   ]
   }
,
{
		   "cell_type": "markdown",
		   "metadata": {},
		   "source": [
			"## Example 21.6: Example_6.sce"
		   ]
		  },
  {
"cell_type": "code",
	   "execution_count": null,
	   "metadata": {
	    "collapsed": true
	   },
	   "outputs": [],
"source": [
"//Chapter 21, Problem 6\n",
"clc;\n",
"N=10;                               //turns ratio\n",
"v1=2.5e3;                           //primary voltage\n",
"P=5000;                             //power\n",
"v2=v1/N;                            //secondary voltage\n",
"i2=P/v2;                            //secondary current\n",
"Rl=v2/i2;                           //resistance in ohm\n",
"i1=i2/N;                            //primary current\n",
"printf('(a) Full-load secondary current = %d A\n\n',i2);\n",
"printf('(b) Minimum value of load resistance = %.1f ohms\n\n',Rl);\n",
"printf('(c) Primary current = %d A\n\n',i1);"
   ]
   }
,
{
		   "cell_type": "markdown",
		   "metadata": {},
		   "source": [
			"## Example 21.7: Example_7.sce"
		   ]
		  },
  {
"cell_type": "code",
	   "execution_count": null,
	   "metadata": {
	    "collapsed": true
	   },
	   "outputs": [],
"source": [
"//Chapter 21, Problem 7\n",
"clc;\n",
"v1=2400;                                    //primary voltage\n",
"v2=400;                                     //secondary voltage\n",
"i0=0.5;                                     //no load current\n",
"Pl=400;                                     //power\n",
"phi=acos(v2/(v1*i0));                       //phase\n",
"im=i0*sin(phi);                             //magnetising component\n",
"ic=i0*cos(phi);                             //core loss component\n",
"printf('Magnetising loss component = %.3f A\n\n',im);\n",
"printf('Core loss component = %.3f A',ic);"
   ]
   }
,
{
		   "cell_type": "markdown",
		   "metadata": {},
		   "source": [
			"## Example 21.9: Example_9.sce"
		   ]
		  },
  {
"cell_type": "code",
	   "execution_count": null,
	   "metadata": {
	    "collapsed": true
	   },
	   "outputs": [],
"source": [
"//Chapter 21, Problem 9\n",
"clc;\n",
"v1=4000;                        //primary voltage\n",
"v2=200;                         //secondary voltage\n",
"f=50;                           //frequency\n",
"n2=100;                         //secondary turns\n",
"R=100e3;                        //resistance in ohm\n",
"E=v2;\n",
"i1=R/v1;                        //primary current\n",
"i2=R/v2;                        //secondary current\n",
"n1=(v1/v2)*n2;                  //primary turns\n",
"phim=E/(4.44*f*n2);             //flux max\n",
"printf('(a) Primary current = %f A\n\nSecondary currenr = %f A\n\n\n',i1,i2);\n",
"printf('(b) Primary turns = %f\n\n\n',n1);\n",
"printf('(c) maximum value of the flux = %f mWb',phim*1000);"
   ]
   }
],
"metadata": {
		  "kernelspec": {
		   "display_name": "Scilab",
		   "language": "scilab",
		   "name": "scilab"
		  },
		  "language_info": {
		   "file_extension": ".sce",
		   "help_links": [
			{
			 "text": "MetaKernel Magics",
			 "url": "https://github.com/calysto/metakernel/blob/master/metakernel/magics/README.md"
			}
		   ],
		   "mimetype": "text/x-octave",
		   "name": "scilab",
		   "version": "0.7.1"
		  }
		 },
		 "nbformat": 4,
		 "nbformat_minor": 0
}
