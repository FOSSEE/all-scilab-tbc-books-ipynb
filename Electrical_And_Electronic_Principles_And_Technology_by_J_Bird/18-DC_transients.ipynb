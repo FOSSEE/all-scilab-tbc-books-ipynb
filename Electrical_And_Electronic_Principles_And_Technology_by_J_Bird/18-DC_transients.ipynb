{
"cells": [
 {
		   "cell_type": "markdown",
	   "metadata": {},
	   "source": [
       "# Chapter 18: DC transients"
	   ]
	},
{
		   "cell_type": "markdown",
		   "metadata": {},
		   "source": [
			"## Example 18.10: Example_10.sce"
		   ]
		  },
  {
"cell_type": "code",
	   "execution_count": null,
	   "metadata": {
	    "collapsed": true
	   },
	   "outputs": [],
"source": [
"//Chapter 18, Problem 10\n",
"clc;\n",
"\n",
"//initializing the variables:\n",
"L = 3;                  //inductance in henry\n",
"R = 15;                 //resistance in ohms\n",
"V = 120;                //supply voltage\n",
"t1 = 0.1;               // in secs\n",
"t3 = 0.3;               // in secs\n",
"\n",
"//calculation:\n",
"taw= L/R\n",
"I = V/R\n",
"i2 = 0.85*I\n",
"VL = V*%e^(-1*t1/taw)\n",
"t2 = -1*taw*log(1 - (i2/I))\n",
"i3 = I*(1 - %e^(-1*t3/taw))\n",
"\n",
"printf('(a)Steady state value of current = %.0f A\n\n',I)\n",
"printf('(b)Time constant of the circuit = %.3f sec\n\n',taw)\n",
"printf('(c)Value of the induced e.m.f. after 0.1 s = %.2f V\n\n',VL)\n",
"printf('(d)Time for the current to rise to 0.85 times of its final values = %.3f sec\n\n',t2)\n",
"printf('(e)Value of the current after 0.3 s = %.3f A\n\n',i3)"
   ]
   }
,
{
		   "cell_type": "markdown",
		   "metadata": {},
		   "source": [
			"## Example 18.11: Example_11.sce"
		   ]
		  },
  {
"cell_type": "code",
	   "execution_count": null,
	   "metadata": {
	    "collapsed": true
	   },
	   "outputs": [],
"source": [
"//Chapter 18, Problem 11\n",
"clc;\n",
"\n",
"//initializing the variables:\n",
"R = 15;                 //resistance in ohms\n",
"V = 110;                //supply voltage\n",
"taw = 2;                //time constant\n",
"t1 = 3;                 // in secs\n",
"i2 =5;                  // in amperes\n",
"\n",
"//calculation:\n",
"L = taw*R\n",
"t = 0:0.1:10\n",
"I = V/R\n",
"i = I*(%e^(-1*t/taw))\n",
"plot2d(t,i)\n",
"xtitle('current/time characteristic', 't', 'i')\n",
"i1 = I*(%e^(-1*t1/taw))\n",
"t2 = -1*taw*log((i2/I))\n",
"\n",
"\n",
"printf('\n Inductance is %.0f H\n\n',L)\n",
"printf('\n (a)The current flowing in the winding 3 s after being shorted-out = %.2f A\n\n',i1)\n",
"printf('\n (b)The time for the current to decay to 5 A = %.3f sec\n\n',t2)"
   ]
   }
,
{
		   "cell_type": "markdown",
		   "metadata": {},
		   "source": [
			"## Example 18.12: Example_12.sce"
		   ]
		  },
  {
"cell_type": "code",
	   "execution_count": null,
	   "metadata": {
	    "collapsed": true
	   },
	   "outputs": [],
"source": [
"//Chapter 18, Problem 12\n",
"clc;\n",
"//initializing the variables:\n",
"L = 6;              //inductance in henry\n",
"r = 10;             //resistance in ohms\n",
"V = 120;            //supply voltage\n",
"taw = 0.3;          //time constant\n",
"t1 = 1;             // in secs\n",
"\n",
"//calculation:\n",
"R = (L/taw) - r\n",
"Rt = R + r\n",
"I = V/Rt\n",
"i2 = 0.1*I\n",
"i1 = I*(%e^(-1*t1/taw))\n",
"t2 = -1*taw*log((i2/I))\n",
"\n",
"printf('\n (a)Resistance of the coil = %.0f ohm\n\n',R)\n",
"printf('\n (b)Current flowing in the circuit one second after the shorting link has been placed = %.3f A\n\n',i1)\n",
"printf('\n (c)The time for the current to decay to 0.1 times of initial value = %.3f sec\n\n',t2)"
   ]
   }
,
{
		   "cell_type": "markdown",
		   "metadata": {},
		   "source": [
			"## Example 18.13: Example_13.sce"
		   ]
		  },
  {
"cell_type": "code",
	   "execution_count": null,
	   "metadata": {
	    "collapsed": true
	   },
	   "outputs": [],
"source": [
"//Chapter 18, Problem 13\n",
"clc;\n",
"//initializing the variables:\n",
"L = 0.2;                    //inductance in henry\n",
"R = 1000;                   //resistance in ohms\n",
"V = 24;                     //supply voltage\n",
"\n",
"//calculation:\n",
"taw = L/R\n",
"t1 = 1*taw // in secs\n",
"t2 = 2*taw // in secs\n",
"t3 = 3*taw // in secs\n",
"I = V/R\n",
"i1 = I*(1 - %e^(-1*t1/taw))\n",
"VL = V*(%e^(-1*t2/taw))\n",
"VR = V*(1 - %e^(-1*t3/taw))\n",
"\n",
"printf('\n Time constant of the circuit is %.4f sec, and  the steady-state value of the current is %.3f A',taw, I)\n",
"printf('\n (a) Current flowing in the circuit at a time equal to one time constant = %.5f A\n\n',i1)\n",
"printf('\n (b) Voltage drop across the inductor at a time equal to two time constants = %.3f V\n\n',VL)\n",
"printf('\n (c)The voltage drop across the resistor after a time equal to three time constants = %.2f V\n\n',VR)"
   ]
   }
,
{
		   "cell_type": "markdown",
		   "metadata": {},
		   "source": [
			"## Example 18.1: Example_1.sce"
		   ]
		  },
  {
"cell_type": "code",
	   "execution_count": null,
	   "metadata": {
	    "collapsed": true
	   },
	   "outputs": [],
"source": [
"//Chapter 18, Problem 1\n",
"clc;\n",
"v=120;                  //dc supply\n",
"c=15e-6;                //capacitance in farad\n",
"r=47e3;                 //resistance in ohms\n",
"taw=r*c;                //time constant\n",
"t1=taw;\n",
"vcta= v*(1-%e^(-1*t1/taw));\n",
"vct = v/2;\n",
"t = 0:0.1:10\n",
"vc = v*(1-%e^(-1*t/taw));\n",
"plot(t,vc)\n",
"xtitle('capacitor voltage/time characteristic', 't', 'Vc')\n",
"t = -1*taw*log(1 - vct/v);\n",
"\n",
"printf('\n (a)The capacitor voltage at a time equal to one time constant = %.2f V',vcta)\n",
"printf('\n (b)The time for the capacitor voltage to reach one half of its steady state value = %.1f sec',t)"
   ]
   }
,
{
		   "cell_type": "markdown",
		   "metadata": {},
		   "source": [
			"## Example 18.2: Example_2.sce"
		   ]
		  },
  {
"cell_type": "code",
	   "execution_count": null,
	   "metadata": {
	    "collapsed": true
	   },
	   "outputs": [],
"source": [
"//Chapter 18, Problem 2\n",
"clc;\n",
"//initializing the variables:\n",
"c = 4E-6;                       //capacitance in farad\n",
"r = 220000;                     //resistance in ohm\n",
"V = 24;                         //supply voltage\n",
"t1 = 1.5; \n",
"\n",
"//calculation:\n",
"taw = r*c\n",
"t = 0:0.1:10\n",
"Vc = V*(1-%e^(-1*t/taw));\n",
"plot2d(t,Vc)\n",
"xtitle('capacitor voltage/time characteristic', 't', 'Vc')\n",
"xset('window',1)\n",
"VR = V*(1-%e^(-1*t/taw));\n",
"plot2d(t,VR)\n",
"xtitle('resistor voltage/time characteristic', 't', 'VR')\n",
"xset('window',2)\n",
"I = V/r\n",
"i = I*%e^(-1*t/taw)\n",
"plot2d(t,i)\n",
"xtitle('current/time characteristic', 't', 'i')\n",
"Vct1 = V*%e^(-1*t1/taw)\n",
"VRt1 = V*%e^(-1*t1/taw)\n",
"it1 = I*%e^(-1*t1/taw)\n",
"\n",
"printf('\n The value of capacitor voltage is %.2f V,\n\n resistor voltage is %.2f V,\n\n current is %.1E A at one and a half seconds after discharge has started.',Vct1, VRt1,it1)"
   ]
   }
,
{
		   "cell_type": "markdown",
		   "metadata": {},
		   "source": [
			"## Example 18.3: Example_3.sce"
		   ]
		  },
  {
"cell_type": "code",
	   "execution_count": null,
	   "metadata": {
	    "collapsed": true
	   },
	   "outputs": [],
"source": [
"//Chapter 18, Problem 3\n",
"clc;\n",
"//initializing the variables:\n",
"C = 20E-6;                      //capacitance in farads\n",
"R = 50000;                      //resistance in ohms\n",
"V = 20;                         //supply voltage\n",
"t1 = 1;                         // in secs\n",
"t2 = 2;                         // in secs\n",
"VRt = 15;                       // in volts\n",
"\n",
"//calculation:\n",
"taw = R*C\n",
"I = V/R\n",
"Vct1 = V*(1-%e^(-1*t2/taw))\n",
"t3 = -1*taw*log(VRt/V)\n",
"it1 = I*%e^(-1*t1/taw)\n",
"\n",
"\n",
"printf('\n (a)Initial value of the current flowing = %.4f mA\n\n',I*10^3)\n",
"printf('\n (b)Time constant of the circuit = %.0f sec\n\n',taw)\n",
"printf('\n (c)The value of the current one second after connection = %.3f mA\n\n',(it1/1E-3))\n",
"printf('\n (d)The value of the capacitor voltage two seconds after connection = %.2f V\n\n',Vct1)\n",
"printf('\n (e)The time after connection when the resistor voltage is 15 V = %.3f sec\n\n',t3)"
   ]
   }
,
{
		   "cell_type": "markdown",
		   "metadata": {},
		   "source": [
			"## Example 18.4: Example_4.sce"
		   ]
		  },
  {
"cell_type": "code",
	   "execution_count": null,
	   "metadata": {
	    "collapsed": true
	   },
	   "outputs": [],
"source": [
"//Chapter 18, Problem 4\n",
"clc;\n",
"t=12e-3;                                           //time constant\n",
"v=10;                                             //supply voltage\n",
"t1=7e-3;                                         //time period of capacitor\n",
"C=0.5e-6;                                        //capacitance\n",
"R=t/C;                                           //calculating resistance\n",
"vc=v*(1-exp(-t1/t));                            //calculating capacitor voltage\n",
"printf('(a) Resistor = %d K.ohm\n\n',R/1000);\n",
"printf('(b) Capacitor voltage = %f V',vc);"
   ]
   }
,
{
		   "cell_type": "markdown",
		   "metadata": {},
		   "source": [
			"## Example 18.5: Example_5.sce"
		   ]
		  },
  {
"cell_type": "code",
	   "execution_count": null,
	   "metadata": {
	    "collapsed": true
	   },
	   "outputs": [],
"source": [
"//Chapter 18, Problem 5\n",
"clc;\n",
"//Initializing the variables\n",
"C=10*10^-6;                 //capacitance in farad\n",
"R=25*10^3;                  //resistance in ohm\n",
"V=100;                      //voltage dc supply\n",
"t1=0.5;                     //time in seconds\n",
"t2=0.1;                     //time in seconds\n",
"vc1=45;                     //capacitor voltage \n",
"Vm=V;\n",
"\n",
"//Calculation\n",
"taw=C*R;                                //time constant\n",
"Im=V/R;                                 //maximum current\n",
"vc=Vm*(1-exp(-t1/taw));                 //voltage across the capacitor\n",
"i=Im*exp(-taw/taw);                     //current flowing after one time constant\n",
"vr=V*exp(-t2/taw);                      //voltage across the resistor\n",
"t3=-(log(1-(vc1/Vm))/log(exp(1)))*taw;  //time in seconds\n",
"vt=V/taw;                               //initial rate of voltage rise\n",
"\n",
"\n",
"printf('\n(a) Time constant = %f sec\n',taw);\n",
"printf('\n(b) Maximum current = %f mA\n',Im*10^3);\n",
"printf('\n(c) Voltage across the capacitor after 0.5 s = %f V\n',vc);\n",
"printf('\n(d) Current flowing after one time constant = %f mA\n',i*10^3);\n",
"printf('\n(e) Voltage across the resistor after 0.1 s = %f V\n',vr);\n",
"printf('\n(f) Time for the capacitor voltage to reach 45V = %f s\n',t3);\n",
"printf('\n(g) Initial rate of voltage rise = %f V\n',vt);"
   ]
   }
,
{
		   "cell_type": "markdown",
		   "metadata": {},
		   "source": [
			"## Example 18.6: Example_6.sce"
		   ]
		  },
  {
"cell_type": "code",
	   "execution_count": null,
	   "metadata": {
	    "collapsed": true
	   },
	   "outputs": [],
"source": [
"//Chapter 18, Problem 6\n",
"clc;\n",
"\n",
"//initializing the variables:\n",
"R = 50000;              //resistance in ohms\n",
"V = 100;                //supply voltage\n",
"Vc1 = 20;               // in volts\n",
"tou = 0.8;              // in secs\n",
"t1 = 0.5;               // in secs\n",
"t2 = 1;                 // in secs\n",
"\n",
"//calculation:\n",
"C = tou/R\n",
"t = -1*tou*log(Vc1/V)\n",
"I = V/R\n",
"it1 = I*%e^(-1*t1/tou)\n",
"Vc = V*%e^(-1*t2/tou)\n",
"\n",
"\n",
"printf('\n (a)The value of the capacitor = %f uF\n\n',C*10^6)\n",
"printf('\n (b)The time for the capacitor voltage to fall to 20 V = %.2f sec\n\n',t)\n",
"printf('\n (c)The current flowing when the capacitor has been discharging for 0.5 s = %f mA\n\n',it1*10^3)\n",
"printf('\n (d)The voltage drop across the resistor when the capacitor has been discharging for one second = %.1f V\n\n',Vc)"
   ]
   }
,
{
		   "cell_type": "markdown",
		   "metadata": {},
		   "source": [
			"## Example 18.7: Example_7.sce"
		   ]
		  },
  {
"cell_type": "code",
	   "execution_count": null,
	   "metadata": {
	    "collapsed": true
	   },
	   "outputs": [],
"source": [
"//Chapter 18, Problem 7\n",
"clc;\n",
"\n",
"//initializing the variables:\n",
"C = 0.1E-6;             //capacitance in farads\n",
"R = 4000;               //resistance in ohms\n",
"V = 200;                //supply voltage\n",
"Vc1 = 2;                // in volts\n",
"\n",
"//calculation:\n",
"taw = R*C\n",
"I = V/R\n",
"t = -1*taw*log(Vc1/V)\n",
"\n",
"printf('\n (a)Initial discharge current = %.2f A\n\n',I)\n",
"printf('\n (b)Time constant tou = %.4f sec\n\n',taw)\n",
"printf('\n (c)Minimum time required for the voltage across the capacitor to fall to less than 2 V = %.3f sec',t)"
   ]
   }
,
{
		   "cell_type": "markdown",
		   "metadata": {},
		   "source": [
			"## Example 18.8: Example_8.sce"
		   ]
		  },
  {
"cell_type": "code",
	   "execution_count": null,
	   "metadata": {
	    "collapsed": true
	   },
	   "outputs": [],
"source": [
"//Chapter 18, Problem 8\n",
"clc;\n",
"//initializing the variables:\n",
"L = 0.1;                //inductance in henry\n",
"R = 20;                 //resistance in ohms\n",
"V = 60;                 //supply voltage\n",
"i2 = 1.5;               // in amperes\n",
"\n",
"//calculation:\n",
"taw = L/R\n",
"t1 = 2*taw\n",
"t = 0:0.0001:0.025\n",
"I = V/R\n",
"i = I*(1 - %e^(-1*t/taw))\n",
"plot2d(t,i)\n",
"xtitle('current/time characteristic', 't', 'i')\n",
"i1 = I*(1 - %e^(-1*t1/taw))\n",
"t2 = -1*taw*log(1 - i2/I)\n",
"\n",
"\n",
"printf('\n (a)The value of current flowing at a time equal to two time constants = %.3f A\n\n',i1)\n",
"printf('\n (b)The time for the current to grow to 1.5 A = %.7f sec\n\n',t2)"
   ]
   }
,
{
		   "cell_type": "markdown",
		   "metadata": {},
		   "source": [
			"## Example 18.9: Example_9.sce"
		   ]
		  },
  {
"cell_type": "code",
	   "execution_count": null,
	   "metadata": {
	    "collapsed": true
	   },
	   "outputs": [],
"source": [
"//Chapter 18, Problem 9\n",
"clc;\n",
"//initializing the variables:\n",
"L = 0.04;               //inductance in henry\n",
"R = 10;                 //resistance in ohms\n",
"V = 120;                //supply voltage\n",
"\n",
"\n",
"//calculation:\n",
"taw = L/R\n",
"t1 = taw\n",
"I = V/R\n",
"i1 = I*(1 - %e^(-1*t1/taw))\n",
"i2 = 0.01*I\n",
"t2 = -1*taw*log(i2/I)\n",
"\n",
"printf('(a)The final value of current = %.0f A\n\n',I);\n",
"printf('(b)Time constant of the circuit = %.3f sec\n\n',taw);\n",
"printf('(c)Value of current after a time equal to the time constant = %.2f A\n\n',i1);\n",
"printf('(d)The expected time for the current to rise to within 0.01 times of its final value = %.2f sec\n\n',t2);"
   ]
   }
],
"metadata": {
		  "kernelspec": {
		   "display_name": "Scilab",
		   "language": "scilab",
		   "name": "scilab"
		  },
		  "language_info": {
		   "file_extension": ".sce",
		   "help_links": [
			{
			 "text": "MetaKernel Magics",
			 "url": "https://github.com/calysto/metakernel/blob/master/metakernel/magics/README.md"
			}
		   ],
		   "mimetype": "text/x-octave",
		   "name": "scilab",
		   "version": "0.7.1"
		  }
		 },
		 "nbformat": 4,
		 "nbformat_minor": 0
}
