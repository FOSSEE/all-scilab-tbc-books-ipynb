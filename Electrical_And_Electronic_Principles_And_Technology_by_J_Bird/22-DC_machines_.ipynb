{
"cells": [
 {
		   "cell_type": "markdown",
	   "metadata": {},
	   "source": [
       "# Chapter 22: DC machines "
	   ]
	},
{
		   "cell_type": "markdown",
		   "metadata": {},
		   "source": [
			"## Example 22.10: Example_10.sce"
		   ]
		  },
  {
"cell_type": "code",
	   "execution_count": null,
	   "metadata": {
	    "collapsed": true
	   },
	   "outputs": [],
"source": [
"//Chapter 22, Problem 10\n",
"clc;\n",
"P=20e3;                 //power by shunt generator\n",
"V=200;                  //voltage\n",
"R=100e-3;               //cable resistance\n",
"Rf=50;                  //field winding resistance\n",
"Ra=40e-3;               //armature resistance\n",
"I=P/V;                  //load current\n",
"Vc=I*R;                 //voltage drop in cable\n",
"Vt=Vc+V;                //terminal voltage\n",
"If=Vt/Rf;               //field current\n",
"Ia=I+If;                //armature current\n",
"E=Vt+(Ia*Ra);           //generated e.m.f\n",
"printf('(a) Terminal voltage = %d V \n\n',Vt);\n",
"printf('(b) Generated e.m.f. E = %.2f V',E);"
   ]
   }
,
{
		   "cell_type": "markdown",
		   "metadata": {},
		   "source": [
			"## Example 22.11: Example_11.sce"
		   ]
		  },
  {
"cell_type": "code",
	   "execution_count": null,
	   "metadata": {
	    "collapsed": true
	   },
	   "outputs": [],
"source": [
"//Chapter 22, Problem 11\n",
"clc;\n",
"I=80;                       //current\n",
"Rse=0.02;                   //series resistance\n",
"Ra=0.04;                    //armature resistance\n",
"Rf=40;                      //field resistance\n",
"V=200;                      //supply voltage\n",
"Vse=I*Rse;                  //volt drop in series winding\n",
"V1=V+Vse;                   //P.d. across the field winding\n",
"If=V1/Rf;                   //field current\n",
"Ia=I+If;                    //armature current\n",
"E=V1+(Ia*Ra);               //generated e.m.f\n",
"printf('Generated e.m.f., E = %d V',E);"
   ]
   }
,
{
		   "cell_type": "markdown",
		   "metadata": {},
		   "source": [
			"## Example 22.12: Example_12.sce"
		   ]
		  },
  {
"cell_type": "code",
	   "execution_count": null,
	   "metadata": {
	    "collapsed": true
	   },
	   "outputs": [],
"source": [
"//Chapter 22, Problem 12\n",
"clc;\n",
"R=0.75                  //armature circuit resistance\n",
"Rf=125;                 //field resistance\n",
"Po=10e3;                //power in watt\n",
"V=250;                  //supply voltage\n",
"C=600;                  //iron, friction and windage losses in watt\n",
"I=Po/V;                 //load current\n",
"If=V/Rf;                //field current\n",
"Ia=If+I;                //armature current\n",
"n=(Po/(Po+(Ia^2*R)+(If*V)+C))*100;          //efficiency\n",
"printf('Efficiency = %f percent',n);"
   ]
   }
,
{
		   "cell_type": "markdown",
		   "metadata": {},
		   "source": [
			"## Example 22.13: Example_13.sce"
		   ]
		  },
  {
"cell_type": "code",
	   "execution_count": null,
	   "metadata": {
	    "collapsed": true
	   },
	   "outputs": [],
"source": [
"//Chapter 22, Problem 13\n",
"clc;\n",
"V=240;                      //supply voltage\n",
"Ia=50;                      //armature current\n",
"Ra=0.2;                     //armature resistance\n",
"E=V-(Ia*Ra);                //back e.m.f\n",
"printf('Back emf = %d V',E);"
   ]
   }
,
{
		   "cell_type": "markdown",
		   "metadata": {},
		   "source": [
			"## Example 22.14: Example_14.sce"
		   ]
		  },
  {
"cell_type": "code",
	   "execution_count": null,
	   "metadata": {
	    "collapsed": true
	   },
	   "outputs": [],
"source": [
"//Chapter 22, Problem 14\n",
"clc;\n",
"Ra=0.25;                        //armature resistance\n",
"V=300;                          //supply voltage\n",
"Ia1=100;                        //current 1\n",
"Ia2=80;                         //current 2\n",
"E1=V+(Ia1*Ra);                  //e.m.f (generator)\n",
"E2=V-(Ia2*Ra);                  //e.m.f (motor)\n",
"printf('(a) As a generator, generated e.m.f = %d V\n\n',E1);\n",
"printf('(b) As a motor, generated e.m.f = %d V',E2)"
   ]
   }
,
{
		   "cell_type": "markdown",
		   "metadata": {},
		   "source": [
			"## Example 22.15: Example_15.sce"
		   ]
		  },
  {
"cell_type": "code",
	   "execution_count": null,
	   "metadata": {
	    "collapsed": true
	   },
	   "outputs": [],
"source": [
"//Chapter 22, Problem 15\n",
"clc;\n",
"p=8/2;                      //pairs of poles\n",
"c=2;\n",
"phi=25e-3;                  //flux\n",
"Ia=30;                      //armature current\n",
"Z=900;\n",
"T=(p*phi*Z*Ia)/(%pi*c);         //torque \n",
"printf('Torque = %.1f Nm',T);"
   ]
   }
,
{
		   "cell_type": "markdown",
		   "metadata": {},
		   "source": [
			"## Example 22.16: Example_16.sce"
		   ]
		  },
  {
"cell_type": "code",
	   "execution_count": null,
	   "metadata": {
	    "collapsed": true
	   },
	   "outputs": [],
"source": [
"//Chapter 22, Problem 16\n",
"clc;\n",
"V=350;                          //supply voltage\n",
"Ra=0.5;                         //armature resistance\n",
"n=15;                           //motor speed in rev/sec\n",
"Ia=60;                          //armature current\n",
"E=V-Ia*Ra;                      //back e.m.f\n",
"T=(E*Ia)/(2*%pi*n);             //torque\n",
"printf('Torque,T = %.1f Nm',T);"
   ]
   }
,
{
		   "cell_type": "markdown",
		   "metadata": {},
		   "source": [
			"## Example 22.17: Example_17.sce"
		   ]
		  },
  {
"cell_type": "code",
	   "execution_count": null,
	   "metadata": {
	    "collapsed": true
	   },
	   "outputs": [],
"source": [
"//Chapter 22, Problem 17\n",
"clc;\n",
"V=250;                                  //supply voltage\n",
"p=6/2;                                  //pairs of poles\n",
"Z=500;                                  //conductors\n",
"Ra=1;                                   //armature resistance\n",
"phi=20*10^-3;                           //flux\n",
"Ia=40;                                  //armature current\n",
"c=2*p;\n",
"E=V-(Ia*Ra);                            //back e.m.f\n",
"n=E*c/(2*p*phi*Z);                      //rotating speed\n",
"T=(E*Ia)/(2*%pi*n);                     //torque\n",
"printf('(a) Speed = %f rev/min\n\n',n*60);\n",
"printf('(b) Torque, T = %.2f Nm',T);"
   ]
   }
,
{
		   "cell_type": "markdown",
		   "metadata": {},
		   "source": [
			"## Example 22.18: Example_18.sce"
		   ]
		  },
  {
"cell_type": "code",
	   "execution_count": null,
	   "metadata": {
	    "collapsed": true
	   },
	   "outputs": [],
"source": [
"//Chapter 22, Problem 18\n",
"clc;\n",
"T1=25;                      //torque of a shaft 1\n",
"T2=35;                      //torque of a shaft 2\n",
"Ia1=16;                     //armature current 1\n",
"phi2=0.85;                  //flux\n",
"Ia2=Ia1*T2/(phi2*T1);       //armature current 2\n",
"printf('Armature current = %.2f A',Ia2);"
   ]
   }
,
{
		   "cell_type": "markdown",
		   "metadata": {},
		   "source": [
			"## Example 22.19: Example_19.sce"
		   ]
		  },
  {
"cell_type": "code",
	   "execution_count": null,
	   "metadata": {
	    "collapsed": true
	   },
	   "outputs": [],
"source": [
"//Chapter 22, Problem 19\n",
"clc\n",
"V=100                   //supply voltage\n",
"I=15                    //current in ampere\n",
"T=12                    //torque in Nm\n",
"n=1500/60\n",
"n1=((V*I)/(T*2*%pi*n))*100\n",
"los=((T*2*%pi*n)-(V*I))\n",
"printf('(a) Efficiency = %.2f percent \n\n',n1)\n",
"printf('(b) Power loss = %f W',los)"
   ]
   }
,
{
		   "cell_type": "markdown",
		   "metadata": {},
		   "source": [
			"## Example 22.1: Example_1.sce"
		   ]
		  },
  {
"cell_type": "code",
	   "execution_count": null,
	   "metadata": {
	    "collapsed": true
	   },
	   "outputs": [],
"source": [
"//Chapter 22, Problem 1\n",
"clc;\n",
"Z=600;                  //no of armature conductors\n",
"c=2;\n",
"p=8/2;                  //no of pairs of poles\n",
"n=625/60;               //armature speed\n",
"phi=20e-3;              //flux\n",
"E=(2*p*phi*n*Z)/c;      //e.m.f\n",
"printf('emf = %f V',E);"
   ]
   }
,
{
		   "cell_type": "markdown",
		   "metadata": {},
		   "source": [
			"## Example 22.20: Example_20.sce"
		   ]
		  },
  {
"cell_type": "code",
	   "execution_count": null,
	   "metadata": {
	    "collapsed": true
	   },
	   "outputs": [],
"source": [
"//Chapter 22, Problem 20\n",
"clc;\n",
"Ra=0.4;                         //armature resistance\n",
"V=240;                          //supply voltage\n",
"Rf=150;                         //field resistance\n",
"I=30;                           //total current\n",
"If=V/Rf;                        //field current\n",
"Ia=I-If;                        //armature current\n",
"E=V-(Ia*Ra);                    //generated e.m.f\n",
"printf('(a) Armature current = %.1f A\n\n',Ia);\n",
"printf('(b) Back emf = %.2f V',E)"
   ]
   }
,
{
		   "cell_type": "markdown",
		   "metadata": {},
		   "source": [
			"## Example 22.21: Example_21.sce"
		   ]
		  },
  {
"cell_type": "code",
	   "execution_count": null,
	   "metadata": {
	    "collapsed": true
	   },
	   "outputs": [],
"source": [
"//Chapter 22, Problem 21\n",
"clc;\n",
"V=200;                          //supply voltage\n",
"Ra=0.4;                         //armature resistance\n",
"Ia=30;                          //armature current\n",
"n1=1350/60;                     //rotating speed \n",
"Ia2=45;                         //armature current 2\n",
"E1=V-(Ia*Ra);                   //e.m.f 1\n",
"E2=V-(Ia2*Ra);                  //e.m.f 2\n",
"n2=(n1*E2)/E1;                  //speed of the motor due to armature current 2\n",
"printf('Speed of the motor = %.3f rev/min',n2*60);"
   ]
   }
,
{
		   "cell_type": "markdown",
		   "metadata": {},
		   "source": [
			"## Example 22.23: Example_23.sce"
		   ]
		  },
  {
"cell_type": "code",
	   "execution_count": null,
	   "metadata": {
	    "collapsed": true
	   },
	   "outputs": [],
"source": [
"//Chapter 22, Problem 23\n",
"clc;\n",
"n1=24;                          //rotating speed due to Ia = 15A\n",
"phi2=2;                         //flux\n",
"V=240;                          //supply voltage\n",
"Ia=15;                          //armature current \n",
"I2=30;                          //current\n",
"Ra=0.2;                         //armature resistance\n",
"Rf=0.3;                         //field resistance\n",
"E1=V-(Ia*(Ra+Rf));              //e.m.f 1\n",
"E2=V-(I2*(Ra+Rf));              //e.m.f 2\n",
"n2=n1*E2/(E1*phi2);             //speed of motor\n",
"printf('(a) Generated e.m.f = %f V\n\n\n',E1);\n",
"printf('(b) Speed of motor n2 = %.1f rev/s',n2);"
   ]
   }
,
{
		   "cell_type": "markdown",
		   "metadata": {},
		   "source": [
			"## Example 22.24: Example_24.sce"
		   ]
		  },
  {
"cell_type": "code",
	   "execution_count": null,
	   "metadata": {
	    "collapsed": true
	   },
	   "outputs": [],
"source": [
"//Chapter 22, Problem 24\n",
"clc;\n",
"Ra=0.2                  //armature resistance\n",
"V=320;                  //supply voltage\n",
"Rf=40;                  //field resistance\n",
"I=80;                   //current\n",
"If=V/Rf;                //field current\n",
"Ia=I-If;                //armature current\n",
"C=1500;\n",
"n=(((V*I)-(Ia^2*Ra)-(If*V)-C)/(V*I))*100;           //overall efficiency\n",
"printf('Efficiency = %.3f percent',n);"
   ]
   }
,
{
		   "cell_type": "markdown",
		   "metadata": {},
		   "source": [
			"## Example 22.25: Example_25.sce"
		   ]
		  },
  {
"cell_type": "code",
	   "execution_count": null,
	   "metadata": {
	    "collapsed": true
	   },
	   "outputs": [],
"source": [
"//Chapter 22, Problem 25\n",
"clc;\n",
"V=250;                  //supply voltage\n",
"I=40;                   //current   \n",
"Ra=0.15;                //armature resistance\n",
"Rf=0.05;                //field resistance\n",
"n=(((V*I)-(2*I^2*(Ra+Rf)))/(V*I))*100;      //overall efficiency\n",
"printf('Efficiency = %.1f percent',n);"
   ]
   }
,
{
		   "cell_type": "markdown",
		   "metadata": {},
		   "source": [
			"## Example 22.26: Example_26.sce"
		   ]
		  },
  {
"cell_type": "code",
	   "execution_count": null,
	   "metadata": {
	    "collapsed": true
	   },
	   "outputs": [],
"source": [
"//Chapter 22, Problem 26\n",
"clc;\n",
"T=15;                       //torque\n",
"V=200;                      //supply voltage\n",
"n1=1200/60;                 //speed of motor\n",
"n=80;                       //efficiency\n",
"I=((T*2*%pi*n1)/(V*n))*100;         //current supplied\n",
"printf('Current supplied = %.2f A',I);"
   ]
   }
,
{
		   "cell_type": "markdown",
		   "metadata": {},
		   "source": [
			"## Example 22.27: Example_27.sce"
		   ]
		  },
  {
"cell_type": "code",
	   "execution_count": null,
	   "metadata": {
	    "collapsed": true
	   },
	   "outputs": [],
"source": [
"//Chapter 22, Problem 27\n",
"clc;\n",
"V=400;                              //supply voltage\n",
"I=10;                               //current\n",
"R=2;                                //total resistance\n",
"C=300;                              //iron, friction and windage losses \n",
"n=(((V*I)-(I^2*R)-C)/(V*I))*100;            //overall efficiency\n",
"printf('Efficiency = %.1f percent',n);"
   ]
   }
,
{
		   "cell_type": "markdown",
		   "metadata": {},
		   "source": [
			"## Example 22.28: Example_28.sce"
		   ]
		  },
  {
"cell_type": "code",
	   "execution_count": null,
	   "metadata": {
	    "collapsed": true
	   },
	   "outputs": [],
"source": [
"//Chapter 22, Problem 28, Fig.22.29(b)\n",
"clc;\n",
"V=500;                      //supply voltage\n",
"Ia=120;                     //armature current\n",
"Ia2=60;                     //armature current 2\n",
"Ra=0.2;                     //armature resistance\n",
"Ra1=0.5;                    //armature resistance 2\n",
"n1=10;                      //speed of motor\n",
"phi3=0.8;                   //flux\n",
"E1=V-(Ia*Ra);               //e.m.f\n",
"E2=V-(Ia2*(Ra+Ra1));        //e.m.f 2\n",
"n2=n1*E2/E1;                //speed of motor 2\n",
"E3=V-(Ia2*Ra);              //e.m.f 3\n",
"n3=(n1*E3)/(phi3*E1);        //speed of motor 2\n",
"printf('(a) Speed n2 = %.2f rev/s\n\n',n2);\n",
"printf('(b) Speed n3 = %.2f rev/s\n\n',n3);"
   ]
   }
,
{
		   "cell_type": "markdown",
		   "metadata": {},
		   "source": [
			"## Example 22.29: Example_29.sce"
		   ]
		  },
  {
"cell_type": "code",
	   "execution_count": null,
	   "metadata": {
	    "collapsed": true
	   },
	   "outputs": [],
"source": [
"//Chapter 22, Problem 29\n",
"clc;\n",
"V=300;                              //supply voltage\n",
"I=90;                               //total current\n",
"Ra=0.1;                             //armature resistance\n",
"n1=15;                              //speed of motor\n",
"Rse=0.05;                           //series winding resistance\n",
"R1=0.2;                             //diverter\n",
"E1=V-(I*(Ra+Rse));                  //e.m.f\n",
"R=(R1*Rse)/(R1+Rse);                    //equivalent resistance\n",
"I1=(R1/(R1+Rse));                       //current\n",
"Ia=sqrt(I^2/I1);                        //armature current\n",
"E2=V-(Ia*(Ra+R));                       //e.m.f\n",
"n2=(E2*I*n1)/(E1*I1*Ia);                //speed of motor 2\n",
"printf('Speed n2 = %.3f rev/s\n\n',n2);\n",
"printf('Speed of the motor from %d rev/s to %.3f rev/s by inserting 0.2 ohm diverter resistance in parallel with the series winding.',n1,n2);"
   ]
   }
,
{
		   "cell_type": "markdown",
		   "metadata": {},
		   "source": [
			"## Example 22.2: Example_2.sce"
		   ]
		  },
  {
"cell_type": "code",
	   "execution_count": null,
	   "metadata": {
	    "collapsed": true
	   },
	   "outputs": [],
"source": [
"//Chapter 22, Problem 2\n",
"clc;\n",
"E=240;                              //e.m.f\n",
"Z=50*16;                            //no of armature conductors\n",
"phi=30e-3;                          //flux\n",
"p=4/2;                              //no of pairs of poles\n",
"c=2*p;\n",
"n=(E*c)/(2*p*phi*Z);              //armature speed\n",
"printf('Speed = %d rev/s',n);"
   ]
   }
,
{
		   "cell_type": "markdown",
		   "metadata": {},
		   "source": [
			"## Example 22.30: Example_30.sce"
		   ]
		  },
  {
"cell_type": "code",
	   "execution_count": null,
	   "metadata": {
	    "collapsed": true
	   },
	   "outputs": [],
"source": [
"//Chapter 22, Problem 30\n",
"clc;\n",
"V=400;                      //supply voltage\n",
"I=25;                       //current\n",
"Ra=0.4;                     //armature resistance\n",
"n1=800;                     //motor speed 1\n",
"n2=600;                     //motor speed 2\n",
"Rse=0.2;                    //series winding resistance\n",
"R1=0.2;                     //series field resistance\n",
"E1=V-(I*(Ra+Rse));          //e.m.f 1\n",
"E2=E1*n2/n1;                //e.m.f 2\n",
"R=((V-E2)/I)-(Ra+Rse);          //resistance\n",
"printf('Resistance = %f ohms\n\n',R);\n",
"printf('Thus the addition of a series resistance of %fohm has reduced the speed from 800 rev/min to 600 rev/min.',R);"
   ]
   }
,
{
		   "cell_type": "markdown",
		   "metadata": {},
		   "source": [
			"## Example 22.3: Example_3.sce"
		   ]
		  },
  {
"cell_type": "code",
	   "execution_count": null,
	   "metadata": {
	    "collapsed": true
	   },
	   "outputs": [],
"source": [
"//Chapter 22, Problem 3\n",
"clc;\n",
"p=8/2;                              //no of pairs of poles\n",
"c=2*p;\n",
"phi=0.03;                           //flux\n",
"n=500/60;                           //armature speed\n",
"Z=1200;                             //no of armature conductors\n",
"E=(2*p*phi*n*Z)/c;                  //e.m.f\n",
"printf('emf = %f V',E);"
   ]
   }
,
{
		   "cell_type": "markdown",
		   "metadata": {},
		   "source": [
			"## Example 22.4: Example_4.sce"
		   ]
		  },
  {
"cell_type": "code",
	   "execution_count": null,
	   "metadata": {
	    "collapsed": true
	   },
	   "outputs": [],
"source": [
"//Chapter 22, Problem 4\n",
"clc;\n",
"p=8/2;                              //no of pairs of poles\n",
"c=2;\n",
"phi=0.03;                           //flux\n",
"n=500/60;                           //armature speed\n",
"Z=1200;                             //no of armature conductors\n",
"E=(2*p*phi*n*Z)/c;                  //e.m.f\n",
"printf('emf = %f V',E);"
   ]
   }
,
{
		   "cell_type": "markdown",
		   "metadata": {},
		   "source": [
			"## Example 22.6: Example_6.sce"
		   ]
		  },
  {
"cell_type": "code",
	   "execution_count": null,
	   "metadata": {
	    "collapsed": true
	   },
	   "outputs": [],
"source": [
"//Chapter 22, Problem 6\n",
"clc;\n",
"E1=200;                         //generated e.m.f 1\n",
"n1=30;                          //armature speed 1\n",
"E2=250;                         //generated e.m.f 2\n",
"n2=20;                          //armature speed 2\n",
"phi1=1;                         //flux 1\n",
"phi2=(phi1*n1*E2)/(n2*E1);      //flux 2\n",
"printf('Increase in the flux per pole = %f percent',phi2*100);"
   ]
   }
,
{
		   "cell_type": "markdown",
		   "metadata": {},
		   "source": [
			"## Example 22.7: Example_7.sce"
		   ]
		  },
  {
"cell_type": "code",
	   "execution_count": null,
	   "metadata": {
	    "collapsed": true
	   },
	   "outputs": [],
"source": [
"//Chapter 22, Problem 7\n",
"clc;\n",
"E=200;                          //generated e.m.f \n",
"ia=30;                          //armature current\n",
"Ra=0.30;                        //armature resistance\n",
"V=E-(ia*Ra);                    //terminal voltage\n",
"printf('Terminal voltage = %f V',V);"
   ]
   }
,
{
		   "cell_type": "markdown",
		   "metadata": {},
		   "source": [
			"## Example 22.8: Example_8.sce"
		   ]
		  },
  {
"cell_type": "code",
	   "execution_count": null,
	   "metadata": {
	    "collapsed": true
	   },
	   "outputs": [],
"source": [
"//Chapter 22, Problem 8\n",
"clc;\n",
"ia=8;                               //armature current\n",
"Ra=1;                               //armature resistance   \n",
"Rl=60;                              //loadd resistance\n",
"V=ia*Rl;                            //terminal voltage\n",
"E=V+(ia*Ra);                        //generated e.m.f \n",
"printf('(a) Terminal voltage = %f V\n\n',V);\n",
"printf('(b) Generated emf = %f V\n\n',E);"
   ]
   }
,
{
		   "cell_type": "markdown",
		   "metadata": {},
		   "source": [
			"## Example 22.9: Example_9.sce"
		   ]
		  },
  {
"cell_type": "code",
	   "execution_count": null,
	   "metadata": {
	    "collapsed": true
	   },
	   "outputs": [],
"source": [
"//Chapter 22, Problem 9\n",
"clc;\n",
"E1=150;                         //generated e.m.f 1\n",
"phi1=0.10;                      //flux 1\n",
"phi2=0.1;                       //flux 2\n",
"N1=20;                          //armature speed 1\n",
"N2=25;                          //armature speed 2\n",
"N3=24;                          //armature speed 3\n",
"N4=20                           //armature speed 4\n",
"phi3=0.08;                      //flux 3\n",
"phi4=0.07;                      //flux 4\n",
"E2=(E1*phi1*N2)/(phi2*N1);                  //generated e.m.f 2\n",
"E3=(E1*phi3*N4)/(phi2*N1);                  //generated e.m.f 3\n",
"E4=(E1*phi4*N3)/(phi2*N1);                  //generated e.m.f 4\n",
"printf('(a) emf = %.1f V\n\n\n',E2);\n",
"printf('(b) emf = %d V\n\n\n',E3);\n",
"printf('(c) emf = %d V\n\n\n',E4);"
   ]
   }
],
"metadata": {
		  "kernelspec": {
		   "display_name": "Scilab",
		   "language": "scilab",
		   "name": "scilab"
		  },
		  "language_info": {
		   "file_extension": ".sce",
		   "help_links": [
			{
			 "text": "MetaKernel Magics",
			 "url": "https://github.com/calysto/metakernel/blob/master/metakernel/magics/README.md"
			}
		   ],
		   "mimetype": "text/x-octave",
		   "name": "scilab",
		   "version": "0.7.1"
		  }
		 },
		 "nbformat": 4,
		 "nbformat_minor": 0
}
