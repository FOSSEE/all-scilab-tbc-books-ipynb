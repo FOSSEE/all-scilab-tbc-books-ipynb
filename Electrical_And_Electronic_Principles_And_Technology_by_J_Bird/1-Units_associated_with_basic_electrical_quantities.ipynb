{
"cells": [
 {
		   "cell_type": "markdown",
	   "metadata": {},
	   "source": [
       "# Chapter 1: Units associated with basic electrical quantities"
	   ]
	},
{
		   "cell_type": "markdown",
		   "metadata": {},
		   "source": [
			"## Example 1.1: Example_1.sce"
		   ]
		  },
  {
"cell_type": "code",
	   "execution_count": null,
	   "metadata": {
	    "collapsed": true
	   },
	   "outputs": [],
"source": [
"//Chapter 1, Problem 1\n",
"clc;\n",
"I=5;                //current\n",
"T=2*60;             //time taken to flow current\n",
"Q=I*T;              //calculating quantity of electricity\n",
"printf('Quantity of electricity Q = %f C \n\n\n',Q);"
   ]
   }
,
{
		   "cell_type": "markdown",
		   "metadata": {},
		   "source": [
			"## Example 1.2: Example_2.sce"
		   ]
		  },
  {
"cell_type": "code",
	   "execution_count": null,
	   "metadata": {
	    "collapsed": true
	   },
	   "outputs": [],
"source": [
"//Chapter 1, Problem 2\n",
"clc;\n",
"M=5;                         //mass in kilogram\n",
"A=2;                            //acceleration in m/s2.\n",
"F=M*A;                          //calculating the force needed\n",
"printf('Force = %f N \n\n',F);            // displaying the result with unit "
   ]
   }
,
{
		   "cell_type": "markdown",
		   "metadata": {},
		   "source": [
			"## Example 1.3: Example_3.sce"
		   ]
		  },
  {
"cell_type": "code",
	   "execution_count": null,
	   "metadata": {
	    "collapsed": true
	   },
	   "outputs": [],
"source": [
"//Chapter 1, Problem 3\n",
"clc;\n",
"M=0.2;              //mass in Kg\n",
"g=9.81              // acceleration due to gravity\n",
"F=M*g;              //calculating the force\n",
"//Force acting downwards = weight\n",
"printf('Force acting downwards = %f N',F);"
   ]
   }
,
{
		   "cell_type": "markdown",
		   "metadata": {},
		   "source": [
			"## Example 1.4: Example_4.sce"
		   ]
		  },
  {
"cell_type": "code",
	   "execution_count": null,
	   "metadata": {
	    "collapsed": true
	   },
	   "outputs": [],
"source": [
"//Chapter 1, Problem 4\n",
"clc;\n",
"F=200;              //force in Newton\n",
"D=20;               //distance in metre\n",
"T=25;               //time in seconds\n",
"W=F*D;              //calculating work done in kJ\n",
"printf('Work done = %f kJ\n\n\n',W)\n",
"P=W/T;              //calculating Power in watt\n",
"printf('Average power utilized = %f W\n\n\n',P);"
   ]
   }
,
{
		   "cell_type": "markdown",
		   "metadata": {},
		   "source": [
			"## Example 1.5: Example_5.sce"
		   ]
		  },
  {
"cell_type": "code",
	   "execution_count": null,
	   "metadata": {
	    "collapsed": true
	   },
	   "outputs": [],
"source": [
"//Chapter 1, Problem 5\n",
"clc;\n",
"M=1000;                     //mass in kg\n",
"H=10;                       //height in metre\n",
"T=20;                       //time in seconds\n",
"g=9.81;                     //acceleration due to gravity\n",
"F=M*g;                      //calculating force from newtons law of motion\n",
"W=F*H;                      //calculating work\n",
"printf('(a) Work done = %f kJ\n\n\n',W/1000);\n",
"P=W/T;\n",
"printf('(b) Power developed = %f kW',P/1000);"
   ]
   }
,
{
		   "cell_type": "markdown",
		   "metadata": {},
		   "source": [
			"## Example 1.6: Example_6.sce"
		   ]
		  },
  {
"cell_type": "code",
	   "execution_count": null,
	   "metadata": {
	    "collapsed": true
	   },
	   "outputs": [],
"source": [
"//Chapter 1, Problem 6\n",
"clc;\n",
"R1=10;                  //Resistance of R1 in ohms\n",
"R2=5;                   //Resistance of R2 in kilohms\n",
"R3=100*10^-3;           //Resistance of R3 in ohms\n",
"G1=1/R1;                //calculating conductance\n",
"G2=1/R2;\n",
"G3=1/R3;\n",
"printf('Conductance of a conductor of resistance 10 ohms = %f S \n\n\n',G1);\n",
"printf('Conductance of a conductor of resistance 5 k.ohms = %f mS \n\n\n',G2);\n",
"printf('Conductance of a conductor of resistance 100 miliohms = %f S \n\n\n',G3);"
   ]
   }
,
{
		   "cell_type": "markdown",
		   "metadata": {},
		   "source": [
			"## Example 1.7: Example_7.sce"
		   ]
		  },
  {
"cell_type": "code",
	   "execution_count": null,
	   "metadata": {
	    "collapsed": true
	   },
	   "outputs": [],
"source": [
"//Chapter 1, Problem 7\n",
"clc;\n",
"V=5;                //source emf \n",
"I=3;                //current in ampere\n",
"T=10*60;            //time in seconds\n",
"E=V*I*T;                //calculating energy\n",
"printf('Energy provided = %f kJ',E/1000);"
   ]
   }
,
{
		   "cell_type": "markdown",
		   "metadata": {},
		   "source": [
			"## Example 1.8: Example_8.sce"
		   ]
		  },
  {
"cell_type": "code",
	   "execution_count": null,
	   "metadata": {
	    "collapsed": true
	   },
	   "outputs": [],
"source": [
"//Chapter 1, Problem 8\n",
"clc;\n",
"E=1.8*10^6;                 //energy consumes by electric heater\n",
"T=30*60;                    //time in seconds\n",
"V=250;                  //supply voltage\n",
"P=E/T;                      //calculating power rating of the heater\n",
"printf('Power rating of heater = %f kW \n\n\n',P/1000);\n",
"I=P/V;                          //calculating current taken from the supply\n",
"printf('Current taken from supply = %f A \n\n\n',I);"
   ]
   }
],
"metadata": {
		  "kernelspec": {
		   "display_name": "Scilab",
		   "language": "scilab",
		   "name": "scilab"
		  },
		  "language_info": {
		   "file_extension": ".sce",
		   "help_links": [
			{
			 "text": "MetaKernel Magics",
			 "url": "https://github.com/calysto/metakernel/blob/master/metakernel/magics/README.md"
			}
		   ],
		   "mimetype": "text/x-octave",
		   "name": "scilab",
		   "version": "0.7.1"
		  }
		 },
		 "nbformat": 4,
		 "nbformat_minor": 0
}
