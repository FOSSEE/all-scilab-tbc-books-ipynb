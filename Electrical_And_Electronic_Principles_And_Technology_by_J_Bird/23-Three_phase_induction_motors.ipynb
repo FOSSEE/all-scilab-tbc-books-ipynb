{
"cells": [
 {
		   "cell_type": "markdown",
	   "metadata": {},
	   "source": [
       "# Chapter 23: Three phase induction motors"
	   ]
	},
{
		   "cell_type": "markdown",
		   "metadata": {},
		   "source": [
			"## Example 23.10: Example_10.sce"
		   ]
		  },
  {
"cell_type": "code",
	   "execution_count": null,
	   "metadata": {
	    "collapsed": true
	   },
	   "outputs": [],
"source": [
"//Chapter 23, Problem 10\n",
"clc;\n",
"nr = 24;                        // in rev/sec\n",
"p = 4/2;                         // no. of pole pairs\n",
"R2 = 0.35;                       // in Ohms\n",
"X2 = 3.5;                           // in Ohms\n",
"V = 415;                        // in Volts\n",
"tr = 0.85;                       // turn ratio N2/N1\n",
"f = 50 ;                        // in Hz\n",
"Pl = 770;                       // in Watt\n",
"m = 3;                          // no. of phases\n",
"\n",
"//ns is the synchronous speed, f is the frequency in hertz of the supply to the stator and p is the number of pairs of poles.\n",
"ns = f/p\n",
"//The slip, s\n",
"s = ((ns - nr)/ns)*100 // in percent\n",
"//Phase voltage, E1 = V/(3^0.5)\n",
"E1 = V/(3^0.5)\n",
"//Full load torque\n",
"T = [m*(tr^2)/(2*%pi*ns)]*[(s/100)*E1*E1*R2/(R2*R2 + (X2*(s/100))^2)]\n",
"//Output power, including friction losses\n",
"Pm = 2*%pi*nr*T\n",
"//power output\n",
"Po = Pm - Pl\n",
"//Maximum torque occurs when R2 = Xr = 0.35 ohm\n",
"//Slip \n",
"sm = R2/X2\n",
"//maximum torque, Tm \n",
"Tm = [m*(tr^2)/(2*%pi*ns)]*[sm*E1*E1*R2/(R2*R2 + (X2*sm)^2)]\n",
"//speed at which maximum torque occurs\n",
"nrm = ns*(1 - sm)\n",
"nrmrpm = nrm*60\n",
"//At the start, i.e., at standstill, slip, s=1\n",
"ss = 1\n",
"//starting torque\n",
"Ts = [m*(tr^2)/(2*%pi*ns)]*[ss*E1*E1*R2/(R2*R2 + (X2*ss)^2)]\n",
"printf('\n\n(a)Synchronous speed is %.0f rev/sec',ns)\n",
"printf('\n\n(b)Slip is %.0f percent',s)\n",
"printf('\n\n(c)Full load torque is %.2f Nm',T)\n",
"printf('\n\n(d)power output is %.2E W',Po)\n",
"printf('\n\n(e)maximum torque is %.2f Nm',Tm)\n",
"printf('\n\n(f)speed at which maximum torque occurs is %.0frev/min',nrmrpm)\n",
"printf('\n\n(g)starting torque is %.2f Nm',Ts)"
   ]
   }
,
{
		   "cell_type": "markdown",
		   "metadata": {},
		   "source": [
			"## Example 23.11: Example_11.sce"
		   ]
		  },
  {
"cell_type": "code",
	   "execution_count": null,
	   "metadata": {
	    "collapsed": true
	   },
	   "outputs": [],
"source": [
"//Chapter 23, Problem 11\n",
"clc;\n",
"nr = 24;                // in rev/sec\n",
"f = 50 ;                // in Hz\n",
"p = 4/2;                // no. of pole pairs\n",
"V = 415;                 // in Volts\n",
"R2 = 0.35;              // in Ohms\n",
"X2 = 3.5;               // in Ohms\n",
"tr = 0.85;               // turn ratio N2/N1\n",
"m = 3;                   // no. of phases\n",
"//ns is the synchronous speed, f is the frequency in hertz of the supply to the stator and p is the number of pairs of poles.\n",
"ns = f/p\n",
"//The slip, s\n",
"s = ((ns - nr)/ns)*100 // in percent\n",
"//Phase voltage, E1 = V/(3^0.5)\n",
"E1 = V/(3^0.5)\n",
"//rotor current,\n",
"Ir = (s/100)*E1*tr/((R2^2 + (X2*(s/100))^2)^0.5)\n",
"//Rotor copper loss \n",
"Pcl = m*R2*(Ir^2)\n",
"//starting current,\n",
"ss =1\n",
"I2 = ss*tr*E1/((R2^2 + (X2*ss)^2)^0.5)\n",
"printf('\n\n(a)Rotor current is %.2f A',Ir)\n",
"printf('\n\n(b)Total copper loss is %.2f W',Pcl)\n",
"printf('\n\n(c)Starting current is %.2f A',I2)"
   ]
   }
,
{
		   "cell_type": "markdown",
		   "metadata": {},
		   "source": [
			"## Example 23.12: Example_12.sce"
		   ]
		  },
  {
"cell_type": "code",
	   "execution_count": null,
	   "metadata": {
	    "collapsed": true
	   },
	   "outputs": [],
"source": [
"//Chapter 23, Problem 12\n",
"clc;\n",
"V = 415;                  // in Volts\n",
"Psl = 650;                // in Watt\n",
"pf = 0.87;                // power factor\n",
"Pm = 11770;               // watts from part (d), Problem 22.10\n",
"Pcl = 490.35;            // watts, Rotor copper loss, from part (b), Problem 22.11\n",
"\n",
"//Stator input power\n",
"P1 = Pm + Pcl + Psl\n",
"\n",
"Po = 11000              // watts, Net power output, from part (d), Problem 22.10\n",
"//efficiency = (output/input) *100\n",
"eff = (Po/P1)*100      // in percent\n",
"\n",
"//Power input, P1 = (3^0.5)*VL*IL*cos(phi)\n",
"// pf = cos(phi)\n",
"//supply current, IL\n",
"I = P1/((3^0.5)*V*pf)\n",
"printf('\n\n(a) Stator input power is %.2f kW',P1/1000)\n",
"printf('\n\n(b) Efficiency is %.2f percent',eff)\n",
"printf('\n\n(c) Supply current is %.2f A',I)"
   ]
   }
,
{
		   "cell_type": "markdown",
		   "metadata": {},
		   "source": [
			"## Example 23.13: Example_13.sce"
		   ]
		  },
  {
"cell_type": "code",
	   "execution_count": null,
	   "metadata": {
	    "collapsed": true
	   },
	   "outputs": [],
"source": [
"//Chapter 23, Problem 13\n",
"clc;\n",
"p = 4/2;                // no. of pole pairs\n",
"f = 50 ;                // in Hz\n",
"nr = 24;                // in rev/sec\n",
"V = 415;                // in Volts\n",
"R2 = 0.35;              // in Ohms\n",
"X2 = 3.5;               // in Ohms\n",
"\n",
"//At the moment of starting, slip, \n",
"s = 1\n",
"\n",
"//Maximum torque occurs when rotor reactance equals rotor resistance\n",
"//for maximum torque\n",
"R2 = s*X2\n",
"printf('\n\nResistance of the rotor is %.1f Ohm',R2)"
   ]
   }
,
{
		   "cell_type": "markdown",
		   "metadata": {},
		   "source": [
			"## Example 23.1: Example_1.sce"
		   ]
		  },
  {
"cell_type": "code",
	   "execution_count": null,
	   "metadata": {
	    "collapsed": true
	   },
	   "outputs": [],
"source": [
"//Chapter 23, Problem 1\n",
"clc;\n",
"f=50;               //supply frequency\n",
"p=1;                //pairs of poles\n",
"ns=(50/1)*60;       //synchronous speed\n",
"printf('The motor has a two-pole system, hence p, the number of pairs of poles, is 1. \nThus,\n\n');\n",
"printf('Synchronous speed = %f rev/min',ns);"
   ]
   }
,
{
		   "cell_type": "markdown",
		   "metadata": {},
		   "source": [
			"## Example 23.2: Example_2.sce"
		   ]
		  },
  {
"cell_type": "code",
	   "execution_count": null,
	   "metadata": {
	    "collapsed": true
	   },
	   "outputs": [],
"source": [
"//Chapter 23, Problem 2\n",
"clc;\n",
"ns=900/60;                  //synchroous speed\n",
"f=60;                       //supply frequency\n",
"p=f/ns;                     //no of pole pairs\n",
"printf('number of pole pairs = %d\n',p);\n",
"printf('therefore, number of poles = %d',p*2);"
   ]
   }
,
{
		   "cell_type": "markdown",
		   "metadata": {},
		   "source": [
			"## Example 23.3: Example_3.sce"
		   ]
		  },
  {
"cell_type": "code",
	   "execution_count": null,
	   "metadata": {
	    "collapsed": true
	   },
	   "outputs": [],
"source": [
"//Chapter 23, Problem 3\n",
"clc;\n",
"ns=6000/60;                 //synchronous speed\n",
"p=2/2;                      //pairs of poles\n",
"f=p*ns;                     //supply frequency\n",
"printf('Frequency = %f Hz',f);"
   ]
   }
,
{
		   "cell_type": "markdown",
		   "metadata": {},
		   "source": [
			"## Example 23.4: Example_4.sce"
		   ]
		  },
  {
"cell_type": "code",
	   "execution_count": null,
	   "metadata": {
	    "collapsed": true
	   },
	   "outputs": [],
"source": [
"//Chapter 23, Problem 4\n",
"clc;\n",
"f=50;                               //supply frequency\n",
"p=4/2;                              //pairs of poles\n",
"nr=1455/60;                         //rotor speed\n",
"ns=f/p;                             //synchronous speed\n",
"s=((ns-nr)/ns)*100;                 //slip\n",
"printf('(a) synchronous speed = %f rev/s\n\n',ns);\n",
"printf('(b) Slip, s = %d percent',s);\n",
""
   ]
   }
,
{
		   "cell_type": "markdown",
		   "metadata": {},
		   "source": [
			"## Example 23.5: Example_5.sce"
		   ]
		  },
  {
"cell_type": "code",
	   "execution_count": null,
	   "metadata": {
	    "collapsed": true
	   },
	   "outputs": [],
"source": [
"//Chapter 23, Problem 5\n",
"clc;\n",
"f=60;                               //supply frequency\n",
"p=2/2;                              //pairs of poles\n",
"ns=(f/p)*60;                        //synchronous speed\n",
"s=2;                                //slip\n",
"nr=ns-((s*ns)/100);                 //rotor speed\n",
"printf('(a) synchronous speed = %d rev/min\n\n',ns);\n",
"printf('(b) Speed of the rotor = %d rev/sec\n\n',nr);\n",
"printf('(c) Frequency of the induced emf of the rotor = %.1f Hz\n\n',(ns-nr)/60);"
   ]
   }
,
{
		   "cell_type": "markdown",
		   "metadata": {},
		   "source": [
			"## Example 23.6: Example_6.sce"
		   ]
		  },
  {
"cell_type": "code",
	   "execution_count": null,
	   "metadata": {
	    "collapsed": true
	   },
	   "outputs": [],
"source": [
"//Chapter 23, Problem 6\n",
"clc;\n",
"f=50;                                       //supply frequency\n",
"nr=1200/60;                                 //rotor speed\n",
"s=4;                                        //slip\n",
"ns=(nr/(1-(s/100)));                        //synchronous speed\n",
"printf('synchronous speed = %d rev/min',ns*60);"
   ]
   }
,
{
		   "cell_type": "markdown",
		   "metadata": {},
		   "source": [
			"## Example 23.7: Example_7.sce"
		   ]
		  },
  {
"cell_type": "code",
	   "execution_count": null,
	   "metadata": {
	    "collapsed": true
	   },
	   "outputs": [],
"source": [
"//Chapter 23, Problem 7\n",
"clc;\n",
"f=50;                           //supply frequency\n",
"fr=3;                           //rotor frequency\n",
"p=8/2;                          //pairs of poles\n",
"s=fr/f;                         //slip\n",
"ns=(f/p)*60;                    //synchronous speed\n",
"nr=ns-(s*ns);                   //rotor speed\n",
"printf('(a) Slip, s = %f \n\n',s);\n",
"printf('(b) rotor speed = %f rev/min',nr);"
   ]
   }
,
{
		   "cell_type": "markdown",
		   "metadata": {},
		   "source": [
			"## Example 23.8: Example_8.sce"
		   ]
		  },
  {
"cell_type": "code",
	   "execution_count": null,
	   "metadata": {
	    "collapsed": true
	   },
	   "outputs": [],
"source": [
"//Chapter 23, Problem 8\n",
"clc;\n",
"Psi = 32000;                // in Watts\n",
"Psl = 1200;                 // in Watts\n",
"s = 0.05;                   // slip\n",
"Pfl = 750;                  // in Watts\n",
"//Input power to rotor = stator input power - stator losses\n",
"Pi =  Psi - Psl\n",
"//slip = rotor copper loss/rotor input\n",
"Pl = s*Pi\n",
"//Total mechanical power developed by the rotor = rotor input power - rotor losses\n",
"Pr = Pi - Pl\n",
"//Output power of motor = power developed by the rotor - friction and windage losses\n",
"Po = Pr - Pfl\n",
"//Efficiency of induction motor = (output power/input power)*100\n",
"eff = (Po/Psi)*100 // in percent\n",
"printf('\n\n(a) Rotor copper loss is %f kW',Pl/1000)\n",
"printf('\n\n(b) Total mechanical power developed by the rotor is %f kW',Pr/1000)\n",
"printf('\n\n(c) Output power of motor is %f kW',Po/1000)\n",
"printf('\n\n(d) Efficiency of induction motor is %.2f percent',eff)"
   ]
   }
,
{
		   "cell_type": "markdown",
		   "metadata": {},
		   "source": [
			"## Example 23.9: Example_9.sce"
		   ]
		  },
  {
"cell_type": "code",
	   "execution_count": null,
	   "metadata": {
	    "collapsed": true
	   },
	   "outputs": [],
"source": [
"//Chapter 23, Problem 9\n",
"clc\n",
"pi=30.8e3                   //input power to rotor\n",
"pi1=32e3                    //stator input power\n",
"ns=0.35                     //percent\n",
"l=0.75e3                    //friction and windage losses\n",
"s=1-ns\n",
"cl=s*pi\n",
"P=pi-cl\n",
"Po=P-l\n",
"n=(Po/pi1)*100\n",
"printf('(a) Rotor copper loss = %.3f kW\n\n',cl/1000)\n",
"printf('(b) Efficiency = %.2f percent',n)"
   ]
   }
],
"metadata": {
		  "kernelspec": {
		   "display_name": "Scilab",
		   "language": "scilab",
		   "name": "scilab"
		  },
		  "language_info": {
		   "file_extension": ".sce",
		   "help_links": [
			{
			 "text": "MetaKernel Magics",
			 "url": "https://github.com/calysto/metakernel/blob/master/metakernel/magics/README.md"
			}
		   ],
		   "mimetype": "text/x-octave",
		   "name": "scilab",
		   "version": "0.7.1"
		  }
		 },
		 "nbformat": 4,
		 "nbformat_minor": 0
}
