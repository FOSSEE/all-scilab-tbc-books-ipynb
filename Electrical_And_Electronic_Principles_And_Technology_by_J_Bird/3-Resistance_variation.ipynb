{
"cells": [
 {
		   "cell_type": "markdown",
	   "metadata": {},
	   "source": [
       "# Chapter 3: Resistance variation"
	   ]
	},
{
		   "cell_type": "markdown",
		   "metadata": {},
		   "source": [
			"## Example 3.10: Example_10.sce"
		   ]
		  },
  {
"cell_type": "code",
	   "execution_count": null,
	   "metadata": {
	    "collapsed": true
	   },
	   "outputs": [],
"source": [
"//Chapter 3, Problem 10\n",
"clc;\n",
"R0=1000;                     //resistance at 0◦C\n",
"T=80;                       //tempreture in ◦C \n",
"a=-0.0005;                   //temperature coefficient of resistance at 0◦C\n",
"Rt=R0*(1+(a*T));           //calculating resistance at 80◦C\n",
"printf('Resistance at 80◦C = %f ohm',Rt);"
   ]
   }
,
{
		   "cell_type": "markdown",
		   "metadata": {},
		   "source": [
			"## Example 3.11: Example_11.sce"
		   ]
		  },
  {
"cell_type": "code",
	   "execution_count": null,
	   "metadata": {
	    "collapsed": true
	   },
	   "outputs": [],
"source": [
"//Chapter 3, Problem 11\n",
"clc;\n",
"R0=10;                     //resistance at 20◦C\n",
"T=20;                       //tempreture in ◦C \n",
"T1=100;                     //tempreture rises\n",
"a=0.004;                   //temperature coefficient of resistance at 0◦C\n",
"Rt=R0*(1+(a*(T1-T)));           //calculating resistance at 100◦C\n",
"printf('Resistance at 100◦C = %f ohm',Rt);"
   ]
   }
,
{
		   "cell_type": "markdown",
		   "metadata": {},
		   "source": [
			"## Example 3.12: Example_12.sce"
		   ]
		  },
  {
"cell_type": "code",
	   "execution_count": null,
	   "metadata": {
	    "collapsed": true
	   },
	   "outputs": [],
"source": [
"//Chapter 3, Problem 12\n",
"clc\n",
"t=18                    //tempreture in celsius\n",
"R1=200                  //resistance in ohm\n",
"Rt=240                  //resistance in ohm\n",
"tc=0.0039               //tempreture coefficient of resistance\n",
"t1=((Rt-R1)/(R1*tc))+t\n",
"printf('Tempreture = %.2f degree celsius',t1)"
   ]
   }
,
{
		   "cell_type": "markdown",
		   "metadata": {},
		   "source": [
			"## Example 3.13: Example_13.sce"
		   ]
		  },
  {
"cell_type": "code",
	   "execution_count": null,
	   "metadata": {
	    "collapsed": true
	   },
	   "outputs": [],
"source": [
"//Chapter 3, Problem 13\n",
"clc\n",
"t1=20                       //tempreture in celsius\n",
"t2=90                       //tempreture in celsius\n",
"R20=200                     //resistance in ohm\n",
"a0=0.004                    //coefficient of resistance\n",
"R90=(R20*(1+(a0*t2)))/(1+(a0*t1))\n",
"printf('Resistance of wire = %.2f ohm',R90)"
   ]
   }
,
{
		   "cell_type": "markdown",
		   "metadata": {},
		   "source": [
			"## Example 3.1: Example_1.sce"
		   ]
		  },
  {
"cell_type": "code",
	   "execution_count": null,
	   "metadata": {
	    "collapsed": true
	   },
	   "outputs": [],
"source": [
"//Chapter 3, Problem 1\n",
"clc;\n",
"R=600;                  //Resistance of wire\n",
"L=5;                    //Length of wire in metre\n",
"L1=8;                   //Length of the same wire in metre\n",
"R2=420;                 //Resistance of the same wire \n",
"K=R/L;                  //Calculating proportionality constant\n",
"R1=K*L1;                //Calculating resistance of an 8m length of same wire\n",
"L2=R2/K;             //Calculating length of same wire when resistance is 420ohm\n",
"printf('The resistance of an 8m length wire= %f ohm\n\n\n',R1);\n",
"printf('Length of the same wire when the resistance is 420 ohm = %fm',L2);"
   ]
   }
,
{
		   "cell_type": "markdown",
		   "metadata": {},
		   "source": [
			"## Example 3.2: Example_2.sce"
		   ]
		  },
  {
"cell_type": "code",
	   "execution_count": null,
	   "metadata": {
	    "collapsed": true
	   },
	   "outputs": [],
"source": [
"//Chapter 3, Problem 2\n",
"clc;\n",
"A=2;                    //Cross-sectional area in milimetre square\n",
"R=300;                  //Resistance of wire\n",
"A1=5;                  //Cross-sectional area of same wire\n",
"R2=750;                 //Resistance of same wire\n",
"K=R*A;                  //Calculating proportionality constant\n",
"R1=K/A1;               //Calculating resistance with cross-sectional area 5mm2\n",
"A2=K/R2;               //Calculating cross-sectional area with resistance 750ohm\n",
"printf('(a) Resistance of wire = %f ohm\n\n\n',R1);\n",
"printf('(b) Cross-sectional area of a wire = %f mm^2',A2);"
   ]
   }
,
{
		   "cell_type": "markdown",
		   "metadata": {},
		   "source": [
			"## Example 3.3: Example_3.sce"
		   ]
		  },
  {
"cell_type": "code",
	   "execution_count": null,
	   "metadata": {
	    "collapsed": true
	   },
	   "outputs": [],
"source": [
"//Chapter 3, Problem 3\n",
"clc;\n",
"R=0.16;                 //resistance of wire\n",
"l=8;                    //length of wire\n",
"a=3;                    //area of cross-section\n",
"//If the cross-sectional area is reduced to 1/3 of its original area then the length must be tripled to 3×8,\n",
"l1=3*l;\n",
"a1=a/3;\n",
"k=R*a/l;                    //calculating coefficient of proportionality\n",
"R1=k*(l1/a1);               //calculating new resistance with reduced area of cross-section\n",
"printf('Resistance of wire = %f ohm',R1);"
   ]
   }
,
{
		   "cell_type": "markdown",
		   "metadata": {},
		   "source": [
			"## Example 3.4: Example_4.sce"
		   ]
		  },
  {
"cell_type": "code",
	   "execution_count": null,
	   "metadata": {
	    "collapsed": true
	   },
	   "outputs": [],
"source": [
"//Chapter 3, Problem 4\n",
"clc;\n",
"L=2000;                 //length of wire\n",
"A=100*10^-6;            //area of cross section of wire\n",
"p=0.03*10^-6;           //resistivity\n",
"R=(p*L)/A;              //calculating resistance\n",
"printf('Resistance of wire = %f ohm',R);"
   ]
   }
,
{
		   "cell_type": "markdown",
		   "metadata": {},
		   "source": [
			"## Example 3.5: Example_5.sce"
		   ]
		  },
  {
"cell_type": "code",
	   "execution_count": null,
	   "metadata": {
	    "collapsed": true
	   },
	   "outputs": [],
"source": [
"//Chapter 3, Problem 5\n",
"clc;\n",
"l=40;                   //length of wire\n",
"R=0.25;                 //resistance of wire\n",
"p=0.02*10^-6;           //resistivity\n",
"a=p*l/R;                //calculating cross-sectional area of wire\n",
"printf('Cross-sectional area of wire = %f mm^2',a*10^6);"
   ]
   }
,
{
		   "cell_type": "markdown",
		   "metadata": {},
		   "source": [
			"## Example 3.6: Example_6.sce"
		   ]
		  },
  {
"cell_type": "code",
	   "execution_count": null,
	   "metadata": {
	    "collapsed": true
	   },
	   "outputs": [],
"source": [
"//Chapter 3, Problem 6\n",
"clc;\n",
"R=150;              //resistance of wire\n",
"l=1500;             //length of wire\n",
"a=0.17;             //area of cross-section\n",
"p=R*a/l;            //calculating resistivity\n",
"printf('Resistivity of the wire = %f micro-ohm metre',p);"
   ]
   }
,
{
		   "cell_type": "markdown",
		   "metadata": {},
		   "source": [
			"## Example 3.7: Example_7.sce"
		   ]
		  },
  {
"cell_type": "code",
	   "execution_count": null,
	   "metadata": {
	    "collapsed": true
	   },
	   "outputs": [],
"source": [
"//Chapter 3, Problem 7\n",
"clc;\n",
"L=1200;                     //Length of copper cable in meter\n",
"D=12*10^-3;                 //Diameter of cable in meter\n",
"p=1.7*10^-8;                //Resistivity of cable in ohm.meter\n",
"r=D/2;                      //Calculating radius\n",
"A=%pi*r^2;                  //Caculating area\n",
"R=(p*L)/A;                  //Calculating resistance\n",
"printf('Resistance of wire = %f ohm',R);"
   ]
   }
,
{
		   "cell_type": "markdown",
		   "metadata": {},
		   "source": [
			"## Example 3.8: Example_8.sce"
		   ]
		  },
  {
"cell_type": "code",
	   "execution_count": null,
	   "metadata": {
	    "collapsed": true
	   },
	   "outputs": [],
"source": [
"//Chapter 3, Problem 8\n",
"clc;\n",
"R0=100;                     //resistance at 0◦C\n",
"T=70;                       //tempreture in ◦C \n",
"a=0.0043;                   //temperature coefficient of resistance at 0◦C\n",
"Rt=R0*(1+(a*T));           //calculating resistance at 70◦C\n",
"printf('Resistance at 70◦C = %f ohm',Rt);"
   ]
   }
,
{
		   "cell_type": "markdown",
		   "metadata": {},
		   "source": [
			"## Example 3.9: Example_9.sce"
		   ]
		  },
  {
"cell_type": "code",
	   "execution_count": null,
	   "metadata": {
	    "collapsed": true
	   },
	   "outputs": [],
"source": [
"//Chapter 3, Problem 9\n",
"clc;\n",
"Rt=27;              //resistance at 35◦C\n",
"a0=0.0038;          //temperature coefficient of resistance at 0◦C\n",
"T=35;               //tempreture\n",
"R0=Rt/(1+(a0*T));   //calculating resistance at 0◦C\n",
"printf('Resistance at 0 deg = %f ohm',R0);"
   ]
   }
],
"metadata": {
		  "kernelspec": {
		   "display_name": "Scilab",
		   "language": "scilab",
		   "name": "scilab"
		  },
		  "language_info": {
		   "file_extension": ".sce",
		   "help_links": [
			{
			 "text": "MetaKernel Magics",
			 "url": "https://github.com/calysto/metakernel/blob/master/metakernel/magics/README.md"
			}
		   ],
		   "mimetype": "text/x-octave",
		   "name": "scilab",
		   "version": "0.7.1"
		  }
		 },
		 "nbformat": 4,
		 "nbformat_minor": 0
}
