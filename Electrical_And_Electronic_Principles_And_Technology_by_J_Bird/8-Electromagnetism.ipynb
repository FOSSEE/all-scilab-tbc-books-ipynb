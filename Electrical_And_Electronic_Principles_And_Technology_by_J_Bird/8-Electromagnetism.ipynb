{
"cells": [
 {
		   "cell_type": "markdown",
	   "metadata": {},
	   "source": [
       "# Chapter 8: Electromagnetism"
	   ]
	},
{
		   "cell_type": "markdown",
		   "metadata": {},
		   "source": [
			"## Example 8.2: Example_2.sce"
		   ]
		  },
  {
"cell_type": "code",
	   "execution_count": null,
	   "metadata": {
	    "collapsed": true
	   },
	   "outputs": [],
"source": [
"//Chapter 8, Problem 2\n",
"clc;\n",
"B=0.9;                  //flux density\n",
"I=20;                   //current \n",
"l=30*10^-2;             //length of the conductor\n",
"//Calculating force when conductor is at right angle\n",
"F=B*I*l;\n",
"//Calculating force when conductor is inclined at 30◦ to the field\n",
"F1=B*I*l*sin(%pi/6);\n",
"printf('Force when conductor is at right angle = %f N\n\n\n',F);\n",
"printf('Force when conductor is inclined at 30◦ to the field = %f N',F1);"
   ]
   }
,
{
		   "cell_type": "markdown",
		   "metadata": {},
		   "source": [
			"## Example 8.3: Example_3.sce"
		   ]
		  },
  {
"cell_type": "code",
	   "execution_count": null,
	   "metadata": {
	    "collapsed": true
	   },
	   "outputs": [],
"source": [
"//Chapter 8, Problem 3\n",
"clc;\n",
"F=1.92;\n",
"l=400*10^-3;\n",
"B=1.2;\n",
"I=F/(B*l);\n",
"printf('Current = %f A\n\n\n',I);\n",
"printf('If the current flows downwards, the direction of its');\n",
"printf(' magnetic field due to the current alone will be clockwise when viewed from above.\n');\n",
"printf('The lines of flux will reinforce (i.e. strengthen) the main magnetic field at');\n",
"printf('the back of the conductor and will be in opposition in the front (i.e. weaken the field).\n');\n",
"disp('Hence the force on the conductor will be from back to front (i.e. toward the viewer).');"
   ]
   }
,
{
		   "cell_type": "markdown",
		   "metadata": {},
		   "source": [
			"## Example 8.4: Example_4.sce"
		   ]
		  },
  {
"cell_type": "code",
	   "execution_count": null,
	   "metadata": {
	    "collapsed": true
	   },
	   "outputs": [],
"source": [
"//Chapter 8, Problem 4\n",
"clc;\n",
"l=350*10^-3;                        //length of conductor\n",
"I=10;                               //current\n",
"r=0.06;                             //radius of pole\n",
"phi=0.5*10^-3;                      //flux\n",
"A=%pi*r^2;                          //area of pole\n",
"B=phi/A;                            //calculating flux density\n",
"F=B*I*l;                            //calculating force\n",
"printf('Force = %f N',F);"
   ]
   }
,
{
		   "cell_type": "markdown",
		   "metadata": {},
		   "source": [
			"## Example 8.6: Example_6.sce"
		   ]
		  },
  {
"cell_type": "code",
	   "execution_count": null,
	   "metadata": {
	    "collapsed": true
	   },
	   "outputs": [],
"source": [
"//Chapter 8, Problem 6\n",
"clc;\n",
"B=0.8;\n",
"l=30*10^-3;\n",
"I=50*10^-3;\n",
"F=B*I*l;\n",
"F1=300*F;\n",
"printf('For a single-turn coil, force on each coil side\n');\n",
"printf('Force = %f N\n\n\n',F);\n",
"printf('When there are 300 turns on the coil there are effectively 300 parallel conductors each carrying a current of 50 mA.\n');\n",
"printf('Thus the total force produced by the current is 300 times that for a single-turn coil. Hence force on coil side,\n');\n",
"printf('Force = %f N',F1);"
   ]
   }
,
{
		   "cell_type": "markdown",
		   "metadata": {},
		   "source": [
			"## Example 8.7: Example_7.sce"
		   ]
		  },
  {
"cell_type": "code",
	   "execution_count": null,
	   "metadata": {
	    "collapsed": true
	   },
	   "outputs": [],
"source": [
"//Chapter 8, Problem 7\n",
"clc;\n",
"Q=1.6*10^-19;                   //charge in coulombs\n",
"v=3*10^7;                       //velocity of charge\n",
"B=18.5*10^-6;                   //flux density\n",
"F=Q*v*B;                        //Calculating force\n",
"printf('Force = %f x10^−17 N',F*10^17);"
   ]
   }
],
"metadata": {
		  "kernelspec": {
		   "display_name": "Scilab",
		   "language": "scilab",
		   "name": "scilab"
		  },
		  "language_info": {
		   "file_extension": ".sce",
		   "help_links": [
			{
			 "text": "MetaKernel Magics",
			 "url": "https://github.com/calysto/metakernel/blob/master/metakernel/magics/README.md"
			}
		   ],
		   "mimetype": "text/x-octave",
		   "name": "scilab",
		   "version": "0.7.1"
		  }
		 },
		 "nbformat": 4,
		 "nbformat_minor": 0
}
