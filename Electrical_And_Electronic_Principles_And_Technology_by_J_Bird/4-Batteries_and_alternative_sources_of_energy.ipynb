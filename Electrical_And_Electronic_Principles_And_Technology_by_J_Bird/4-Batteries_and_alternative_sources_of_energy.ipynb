{
"cells": [
 {
		   "cell_type": "markdown",
	   "metadata": {},
	   "source": [
       "# Chapter 4: Batteries and alternative sources of energy"
	   ]
	},
{
		   "cell_type": "markdown",
		   "metadata": {},
		   "source": [
			"## Example 4.1: Example_1.sce"
		   ]
		  },
  {
"cell_type": "code",
	   "execution_count": null,
	   "metadata": {
	    "collapsed": true
	   },
	   "outputs": [],
"source": [
"//Chapter 4, Problem 1\n",
"clc;\n",
"//There is eight cell with same emf and internal resistance\n",
"r=0.2;\n",
"emf=2.2;\n",
"//When connected in series\n",
"Temf=8*emf;\n",
"Tr=8*r;\n",
"//When connected in parallel\n",
"Tr1=(1/8)*r;\n",
"printf('Total emf in series = %f V\n\n\n',Temf);\n",
"printf('Total internal resistance in series = %f ohm\n\n\n',Tr);\n",
"printf('Total emf in parallel = %f V\n\n\n',emf);\n",
"printf('Total internal resistance in parallel = %f ohm\n\n\n',Tr1);"
   ]
   }
,
{
		   "cell_type": "markdown",
		   "metadata": {},
		   "source": [
			"## Example 4.2: Example_2.sce"
		   ]
		  },
  {
"cell_type": "code",
	   "execution_count": null,
	   "metadata": {
	    "collapsed": true
	   },
	   "outputs": [],
"source": [
"//Chapter 4, Problem 2\n",
"clc;\n",
"r=0.02;                           //Internal resistance in ohm\n",
"emf=2.0;                            //e.m.f\n",
"I1=5;                               // Current in ampere\n",
"I2=50;\n",
"V1=emf-(I1*r);                      //Calculating Voltage\n",
"V2=emf-(I2*r);\n",
"printf('Terminal p.d when 5A current = %f V\n\n\n',V1);\n",
"printf('Terminal p.d when 50A current = %f V\n\n\n',V2);"
   ]
   }
,
{
		   "cell_type": "markdown",
		   "metadata": {},
		   "source": [
			"## Example 4.3: Example_3.sce"
		   ]
		  },
  {
"cell_type": "code",
	   "execution_count": null,
	   "metadata": {
	    "collapsed": true
	   },
	   "outputs": [],
"source": [
"//Chapter 4, Problem 3\n",
"clc;\n",
"emf=25;                         //e.m.f\n",
"V=24;                           //Voltage\n",
"I=10;                           //Current in ampere\n",
"r=(emf-V)/I;                    //Calculating internal resistance in ohm\n",
"printf('Internal resistance of the battery = %f ohm',r);"
   ]
   }
,
{
		   "cell_type": "markdown",
		   "metadata": {},
		   "source": [
			"## Example 4.4: Example_4.sce"
		   ]
		  },
  {
"cell_type": "code",
	   "execution_count": null,
	   "metadata": {
	    "collapsed": true
	   },
	   "outputs": [],
"source": [
"//Chapter 4, Problem 4\n",
"clc;\n",
"emf=1.5;\n",
"r=0.2;                      //Internal resistance of 1 cell\n",
"R=58;                       //Resistance of load in ohm\n",
"E=10*emf;                   //Total battery e.m.f\n",
"rt=10*r;                    //Total internal resistance in ohm\n",
"Rt=R+rt;                    //Total resistance in ohm\n",
"I=E/Rt;                     //Current flowing in the circuit\n",
"V=E-(I*rt);                 //P.d. at battery terminals\n",
"printf('Current flowing in the circuit = %f A\n\n\n',I);\n",
"printf('P.d. at battery terminals = %f V',V);"
   ]
   }
],
"metadata": {
		  "kernelspec": {
		   "display_name": "Scilab",
		   "language": "scilab",
		   "name": "scilab"
		  },
		  "language_info": {
		   "file_extension": ".sce",
		   "help_links": [
			{
			 "text": "MetaKernel Magics",
			 "url": "https://github.com/calysto/metakernel/blob/master/metakernel/magics/README.md"
			}
		   ],
		   "mimetype": "text/x-octave",
		   "name": "scilab",
		   "version": "0.7.1"
		  }
		 },
		 "nbformat": 4,
		 "nbformat_minor": 0
}
