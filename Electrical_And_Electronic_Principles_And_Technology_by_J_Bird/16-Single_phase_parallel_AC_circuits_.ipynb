{
"cells": [
 {
		   "cell_type": "markdown",
	   "metadata": {},
	   "source": [
       "# Chapter 16: Single phase parallel AC circuits "
	   ]
	},
{
		   "cell_type": "markdown",
		   "metadata": {},
		   "source": [
			"## Example 16.10: Example_10.sce"
		   ]
		  },
  {
"cell_type": "code",
	   "execution_count": null,
	   "metadata": {
	    "collapsed": true
	   },
	   "outputs": [],
"source": [
"//Chapter 16, Problem 10\n",
"clc;\n",
"L=100e-3;                   //inductance in henry\n",
"R=800;                         //resistance in ohm\n",
"f=5000;                         //frequency\n",
"V=12;                        //voltage\n",
"w=2*%pi*f;\n",
"C=(L*(w^2+(R^2/L^2)))^-1;        //capacitance in farad\n",
"Xl=2*%pi*f*L;                 //inductive reactance\n",
"Rd=L/(R*C);                     //dynamic resistance\n",
"Ir=V/Rd;                       //current at resonance\n",
"Q=Xl/R;                         //circuit Q-factor at resonance\n",
"printf('(a) capacitance of the capacitor, = %f uF\n\n',C*10^6);\n",
"printf('(b) Dynamic resistance Rd = %.2f k.ohm\n\n',Rd/1000);\n",
"printf('(c) supply current Ir = %.3f mA\n\n',Ir*1000);\n",
"printf('(d) Q factor of circuit = %.2f',Q);"
   ]
   }
,
{
		   "cell_type": "markdown",
		   "metadata": {},
		   "source": [
			"## Example 16.11: Example_11.sce"
		   ]
		  },
  {
"cell_type": "code",
	   "execution_count": null,
	   "metadata": {
	    "collapsed": true
	   },
	   "outputs": [],
"source": [
"//Chapter 16, Problem 11, Fig 16.13(a)\n",
"clc;\n",
"f = 50;                     // in ohm\n",
"V = 240;                    // in Volts\n",
"pf = 0.6                    // power factor\n",
"Im = 50;                    // in amperes\n",
"\n",
"//calculation:\n",
"phi = acos(pf)\n",
"phid = phi*180/%pi\n",
"Ic = Im*sin(phi)\n",
"I = Im*cos(phi)\n",
"printf('\n\n (a)The capacitor current Ic must be %.0f A for the power factor to be unity. ',Ic)\n",
"printf('\n\n (b)Supply current I = %.0f A ',I)"
   ]
   }
,
{
		   "cell_type": "markdown",
		   "metadata": {},
		   "source": [
			"## Example 16.13: Example_13.sce"
		   ]
		  },
  {
"cell_type": "code",
	   "execution_count": null,
	   "metadata": {
	    "collapsed": true
	   },
	   "outputs": [],
"source": [
"//Chapter 16, Problem 13\n",
"clc;\n",
"eff = 0.8;                  // effficiency\n",
"f = 50;                     // in ohm\n",
"Pout = 4800;                // in Watt\n",
"pf1 = 0.625                 // power factor\n",
"pf2 = 0.95                  // power factor\n",
"V = 240;                    // in Volts\n",
"//calculation:\n",
"Pin = Pout/eff\n",
"Im = Pin/(V*pf1)\n",
"phi1 = acos(pf1)\n",
"phi1d = phi1*180/%pi\n",
"//When a capacitor C is connected in parallel with the motor a current Ic flows which leads V by 90°.\n",
"phi2 = acos(pf2)\n",
"phi2d = phi2*180/%pi\n",
"Imh = Im*cos(phi1)\n",
"//Ih = I*cos(phi2)\n",
"Ih = Imh\n",
"I = Ih/cos(phi2)\n",
"Imv = Im*sin(phi1)\n",
"Iv = I*sin(phi2)\n",
"Ic = Imv - Iv\n",
"C = Ic/(2*%pi*f*V)\n",
"kvar = V*Ic/1000\n",
"printf('\n\n (a)Current taken by the motor, Im = %.0f A',Im)\n",
"printf('\n\n (b)Supply current after p.f. correction, I = %.2f A ',I)\n",
"printf('\n\n (c)Magnitude of the capacitor current Ic = %.0f A',Ic)\n",
"printf('\n\n (d)Capacitance, C = %.0f μF ',(C/1E-6))\n",
"printf('\n\n (d)kvar rating of the capacitor = %.2f kvar ',kvar)"
   ]
   }
,
{
		   "cell_type": "markdown",
		   "metadata": {},
		   "source": [
			"## Example 16.1: Example_1.sce"
		   ]
		  },
  {
"cell_type": "code",
	   "execution_count": null,
	   "metadata": {
	    "collapsed": true
	   },
	   "outputs": [],
"source": [
"//Chapter 16, Problem 1\n",
"clc;\n",
"V=60;                           //voltage\n",
"R=20;                           //resistance in ohm\n",
"f=1000;                         //frequency in hertz\n",
"L=2.387e-3;                     //inductance in henry\n",
"Ir=V/R;                         //current flowing in the resistor\n",
"Xl=2*%pi*f*L;                   //inductive reactance\n",
"Il=V/Xl;                        //current flowing in the inductance\n",
"I=sqrt(Ir^2+Il^2);              //supply current from phasor diagram fig 16.1\n",
"phi=atan(Il/Ir);\n",
"Z=V/I;                          //impedance\n",
"P=V*I*cos(phi);                 //power consumed\n",
"printf('(a)  Current flowing in the resistor = %d A\n\tCurrent flowing in the inductance = %d A\n\n',Ir,Il);\n",
"printf('(b) Supply current = %d A\n\n',I);\n",
"printf('(c) Circuit phase angle = %.2f deg (lagging)\n\n',phi*(180/%pi));\n",
"printf('(d) Circuit impedance = %.1f ohm\n\n',Z);\n",
"printf('(e) Power consumed = %d W',P);"
   ]
   }
,
{
		   "cell_type": "markdown",
		   "metadata": {},
		   "source": [
			"## Example 16.2: Example_2.sce"
		   ]
		  },
  {
"cell_type": "code",
	   "execution_count": null,
	   "metadata": {
	    "collapsed": true
	   },
	   "outputs": [],
"source": [
"//Chapter 16, Problem 2\n",
"clc;\n",
"V=240;                           //voltage\n",
"R=80;                          //resistance in ohm\n",
"f=50;                       //frequency in hertz\n",
"C=30e-6;                    //capacitance in farad\n",
"Ir=V/R;                         //current flowing in the resistor\n",
"Xc=1/(2*%pi*f*C);               //capacitive reactance\n",
"Ic=V/Xc;                        //current flowing in the capacitor\n",
"I=sqrt(Ir^2+Ic^2);              //supply current\n",
"phi=atan(Ic/Ir);\n",
"Z=V/I;                              //impedance\n",
"P=V*I*cos(phi);                     //power consumed\n",
"S=V*I;                              //apparent power,\n",
"printf('(a)  Current flowing in the resistor = %d A\n\tCurrent flowing in the capacitor = %.3f A\n\n',Ir,Ic);\n",
"printf('(b) Supply current = %.3f A\n\n',I);\n",
"printf('(c) Circuit phase angle = %.2f deg (leading)\n\n',phi*(180/%pi));\n",
"printf('(d) Circuit impedance = %.2f ohm\n\n',Z);\n",
"printf('(e) Power consumed = %d W\n\n',P);\n",
"printf('(f) Apparent power = %.1f VA',S);"
   ]
   }
,
{
		   "cell_type": "markdown",
		   "metadata": {},
		   "source": [
			"## Example 16.3: Example_3.sce"
		   ]
		  },
  {
"cell_type": "code",
	   "execution_count": null,
	   "metadata": {
	    "collapsed": true
	   },
	   "outputs": [],
"source": [
"//Chapter 16, Problem 3, Fig. 16.3\n",
"clc;\n",
"V=120;                           //voltage\n",
"f=200;                            //frequency in hertz\n",
"I=2;                             //supply current\n",
"pf=0.6;                             //power factor\n",
"phi=acos(pf);\n",
"Ir=I*pf;                        //current flowing in the resistor\n",
"Ic=I*sin(phi);                        //current flowing in the capacitor\n",
"R=V/Ir;                             //resistance in ohm\n",
"C=Ic/(2*%pi*f*V);                   //capacitance in faradd\n",
"printf('Capacitance of capacitor = %f uF\n\n',C*10^6);\n",
"printf('Resistance of resistor = %f ohm\n\n',R);"
   ]
   }
,
{
		   "cell_type": "markdown",
		   "metadata": {},
		   "source": [
			"## Example 16.4: Example_4.sce"
		   ]
		  },
  {
"cell_type": "code",
	   "execution_count": null,
	   "metadata": {
	    "collapsed": true
	   },
	   "outputs": [],
"source": [
"//Chapter 16, Problem 4\n",
"clc;\n",
"L=120e-3;                    //inductance in henry\n",
"C=25e-6;                    //capacitance in farad\n",
"V=100;                           //voltage\n",
"f=50;                       //frequency in hertz\n",
"Xl=2*%pi*f*L;                   //inductive reactance\n",
"Xc=1/(2*%pi*f*C);               //capacitive reactance\n",
"Il=V/Xl;                       //current flowing in the inductance\n",
"Ic=V/Xc;                        //current flowing in the capacitor\n",
"I=Il-Ic;\n",
"Z=V/I;\n",
"P=V*I*cos(90*%pi/180);\n",
"printf('(a) Branch current,\n Il = %.3f A\nIc = %.3f A\n\n',Il,Ic);\n",
"printf('(b) Supply current = %.3f A\nCurrent lags the supply voltage V by 90deg from Fig 16.4(i)',I);\n",
"printf('(c) Circuit impedance Z = %.3f ohm\n\n',Z);\n",
"printf('(d) Power consumed P = %d W',P);"
   ]
   }
,
{
		   "cell_type": "markdown",
		   "metadata": {},
		   "source": [
			"## Example 16.5: Example_5.sce"
		   ]
		  },
  {
"cell_type": "code",
	   "execution_count": null,
	   "metadata": {
	    "collapsed": true
	   },
	   "outputs": [],
"source": [
"//Chapter 16, Problem 5\n",
"clc;\n",
"L=120e-3;                    //inductance in henry\n",
"C=25e-6;                    //capacitance in farad\n",
"V=100;                          //voltage\n",
"f=150;                      //frequency in hertz\n",
"Xl=2*%pi*f*L;                   //inductive reactance\n",
"Xc=1/(2*%pi*f*C);               //capacitive reactance\n",
"Il=V/Xl;                        //current flowing in the inductor\n",
"Ic=V/Xc;                        //current flowing in the capacitor\n",
"I=Ic-Il;\n",
"Z=V/I;\n",
"P=V*I*cos(90*%pi/180);\n",
"printf('(a) Branch current,\n Il = %.3f A\nIc = %.3f A\n\n',Il,Ic);\n",
"printf('(b) Supply current = %.3f A\nCurrent lags the supply voltage V by 90deg from Fig 16.4(i)',I);\n",
"printf('(c) Circuit impedance Z = %.3f ohm\n\n',Z);\n",
"printf('(d) Power consumed P = %d W',P);"
   ]
   }
,
{
		   "cell_type": "markdown",
		   "metadata": {},
		   "source": [
			"## Example 16.6: Example_6.sce"
		   ]
		  },
  {
"cell_type": "code",
	   "execution_count": null,
	   "metadata": {
	    "collapsed": true
	   },
	   "outputs": [],
"source": [
"//Chapter 16, Problem 6, Fig.16.6\n",
"clc;\n",
"L=159.2e-3;                    //inductance in henry\n",
"R=40;                           //resistance in ohm\n",
"C=30e-6;                        //capacitance in farad\n",
"V=240;                          //voltage\n",
"f=50;                           //frequency\n",
"Xl=2*%pi*f*L;                   //inductive reactance\n",
"Z1=sqrt(R^2+Xl^2);\n",
"Ilr=V/Z1;\n",
"phi1=atan(Xl/R);\n",
"Xc=1/(2*%pi*f*C);                   //capacitive reactance\n",
"Ic=V/Xc;\n",
"Ih=Ilr*cos(51.34*%pi/180);\n",
"a=-Ilr*sin(51.34*%pi/180);\n",
"b=Ic*sin(90*%pi/180);\n",
"Iv=a+b;\n",
"I=sqrt(Ih^2+(Iv)^2);\n",
"phi2=atan(-Iv/Ih);\n",
"Z=V/I;                                  //impedance\n",
"P=V*I*cos(phi2);\n",
"S=V*I;                              //apparent power\n",
"Q=V*I*sin(phi2);                    //reactive power\n",
"printf('(a) Current in coil = %f A\n Phase angle = %f deg (lagging)\n\n',Ilr,phi1*180/%pi);\n",
"printf('(b) Current in capacitor, Ic = %f A\n A leading the supply voltage by 90deg\n\n',Ic);\n",
"printf('(c) Supply current I = %f A\n phase angle = %f deg (lagging)\n\n',I,phi2*180/%pi);\n",
"printf('(d) Circuit impedance Z = %f ohm\n\n',Z);\n",
"printf('(e) Power consumed P = %f W\n\n',P);"
   ]
   }
,
{
		   "cell_type": "markdown",
		   "metadata": {},
		   "source": [
			"## Example 16.7: Example_7.sce"
		   ]
		  },
  {
"cell_type": "code",
	   "execution_count": null,
	   "metadata": {
	    "collapsed": true
	   },
	   "outputs": [],
"source": [
"//Chapter 16, Problem 7, Fig.16.8\n",
"clc;\n",
"L=0.12;                   //inductance in henry\n",
"R=3000;                          //resistance in ohm\n",
"C=0.02e-6;                       //capacitance in farad\n",
"V=40;                          //voltage\n",
"f=5000;                          //frequency\n",
"Xl=2*%pi*f*L;                  //inductive reactance\n",
"Z1=sqrt(R^2+Xl^2);\n",
"Ilr=V/Z1;\n",
"phi1=atan(Xl/R);\n",
"Xc=1/(2*%pi*f*C);                  //capacitive reactance\n",
"Ic=V/Xc;\n",
"Ih=Ilr*cos(51.34*%pi/180);\n",
"a=-Ilr*sin(51.34*%pi/180);\n",
"b=Ic*sin(90*%pi/180);\n",
"Iv=a+b;\n",
"I=sqrt(Ih^2+(Iv)^2);\n",
"phi2=atan(-Iv/Ih);\n",
"Z=V/I;                                 //impedance\n",
"P=V*I*cos(phi2);\n",
"S=V*I;                             //apparent power\n",
"Q=V*I*sin(phi2);                    //reactive power\n",
"printf('(a) Current in coil = %.3f mA\n Phase angle = %.3f deg (lagging)\n\n',Ilr*1000,phi1*180/%pi);\n",
"printf('(b) Current in capacitor, Ic = %.3f mA\n A leading the supply voltage by 90deg\n\n',Ic*1000);\n",
"printf('(c) Supply current I = %.3f mA\n phase angle = %.3f deg \n\n',I*1000,-phi2*180/%pi);\n",
"printf('(d) Circuit impedance Z = %.3f Kohm\n\n',Z/1000);\n",
"printf('(e) Power consumed P = %.3f mW\n\n',P*1000);"
   ]
   }
,
{
		   "cell_type": "markdown",
		   "metadata": {},
		   "source": [
			"## Example 16.8: Example_8.sce"
		   ]
		  },
  {
"cell_type": "code",
	   "execution_count": null,
	   "metadata": {
	    "collapsed": true
	   },
	   "outputs": [],
"source": [
"//Chapter 16, Problem 8\n",
"clc;\n",
"L=150e-3;                   //inductance in henry\n",
"C=40e-6;                      //capacitance in farad\n",
"V=50;                         //voltage\n",
"fr=(2*%pi)^-1*sqrt(1/(L*C));    //resonant frequency\n",
"Xc=1/(2*%pi*fr*C);              //capacitive reactance\n",
"Icir=V/Xc;                      //current circulating in L and C at resonance\n",
"printf('(a) Resonant frequency of the circuit = %.3f Hz\n\n',fr);\n",
"printf('(b) Current circulating in the capacitor and inductance at resonance = %.3f A',Icir);"
   ]
   }
,
{
		   "cell_type": "markdown",
		   "metadata": {},
		   "source": [
			"## Example 16.9: Example_9.sce"
		   ]
		  },
  {
"cell_type": "code",
	   "execution_count": null,
	   "metadata": {
	    "collapsed": true
	   },
	   "outputs": [],
"source": [
"//Chapter 16, Problem 9\n",
"clc;\n",
"L=0.20;                   //inductance in henry\n",
"R=60;                         //resistance in ohm\n",
"C=20e-6;                     //capacitance in farad\n",
"V=20;                        //voltage\n",
"fr=(2*%pi)^-1*sqrt((1/(L*C))-(R^2/L^2));\n",
"Xl=2*%pi*fr*L;                 //inductive reactance\n",
"Rd=L/(R*C);                     //dynamic resistance\n",
"Ir=V/Rd;                        //current at resonance\n",
"Q=Xl/R;                         //circuit Q-factor at resonance\n",
"printf('(a) Resonant frequency of the circuit = %.2f Hz\n\n',fr);\n",
"printf('(b) Dynamic resistance Rd = %.2f ohm\n\n',Rd);\n",
"printf('(c) Current at resonance Ir = %.2f A\n\n',Ir);\n",
"printf('(d) Q factor of circuit = %.2f',Q);"
   ]
   }
],
"metadata": {
		  "kernelspec": {
		   "display_name": "Scilab",
		   "language": "scilab",
		   "name": "scilab"
		  },
		  "language_info": {
		   "file_extension": ".sce",
		   "help_links": [
			{
			 "text": "MetaKernel Magics",
			 "url": "https://github.com/calysto/metakernel/blob/master/metakernel/magics/README.md"
			}
		   ],
		   "mimetype": "text/x-octave",
		   "name": "scilab",
		   "version": "0.7.1"
		  }
		 },
		 "nbformat": 4,
		 "nbformat_minor": 0
}
