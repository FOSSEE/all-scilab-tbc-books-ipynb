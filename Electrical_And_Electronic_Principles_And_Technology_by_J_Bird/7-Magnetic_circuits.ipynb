{
"cells": [
 {
		   "cell_type": "markdown",
	   "metadata": {},
	   "source": [
       "# Chapter 7: Magnetic circuits"
	   ]
	},
{
		   "cell_type": "markdown",
		   "metadata": {},
		   "source": [
			"## Example 7.10: Example_10.sce"
		   ]
		  },
  {
"cell_type": "code",
	   "execution_count": null,
	   "metadata": {
	    "collapsed": true
	   },
	   "outputs": [],
"source": [
"//Chapter 7, Problem 10\n",
"clc;\n",
"l=150*10^-3;                            //length\n",
"u0=4*%pi*10^-7;                         //permeability of free space\n",
"ur=4000;                                //relative permeability\n",
"A=1800*10^-6;                           //cross-sectional area\n",
"S=l/(u0*ur*A);                          //Calculating reluctance\n",
"u=u0*ur;                                //Calculating absolute permeability\n",
"printf('Reluctance = %f H^-1\n\n\n',S);\n",
"printf('Absolute permeability = %f H/m',u*1000);"
   ]
   }
,
{
		   "cell_type": "markdown",
		   "metadata": {},
		   "source": [
			"## Example 7.11: Example_11.sce"
		   ]
		  },
  {
"cell_type": "code",
	   "execution_count": null,
	   "metadata": {
	    "collapsed": true
	   },
	   "outputs": [],
"source": [
"//Chapter 7, Problem 11\n",
"clc;\n",
"r=50*10^-3;                         //radius\n",
"A=400*10^-6;                        //cross-sectional area\n",
"I=0.5;                              //current in the coil\n",
"u0=4*%pi*10^-7;                     //permeability of free space\n",
"phi=0.1*10^-3;                      //flux\n",
"ur=200;                             //relative permeability\n",
"l=2*%pi*r;\n",
"S=l/(u0*ur*A);                      //Calculating reluctance\n",
"N=(S*phi)/I;                        //Calculating no of turns\n",
"printf('Reluctance = %f /H\n\n\n',S);\n",
"printf('Number of turns = %d turns',N);"
   ]
   }
,
{
		   "cell_type": "markdown",
		   "metadata": {},
		   "source": [
			"## Example 7.12: Example_12.sce"
		   ]
		  },
  {
"cell_type": "code",
	   "execution_count": null,
	   "metadata": {
	    "collapsed": true
	   },
	   "outputs": [],
"source": [
"//Chapter 7, Problem 12\n",
"clc;\n",
"l1=6*10^-2;                     //length 1\n",
"A1=1*10^-4;                     //area 1\n",
"l2=2*10^-2;                     //length 2\n",
"A2=0.5*10^-4;                   //area 2\n",
"N=200;                          //no of turns\n",
"I=0.4;                          //current in the coil\n",
"u0=4*%pi*10^-7;                 //permeability of free space\n",
"ur=750;                         //relative permeability\n",
"S1=l1/(u0*ur*A1);               //calculating reluctance for 6 cm long path\n",
"S2=l2/(u0*ur*A2);               //calculating reluctance for 2 cm long path\n",
"S=S1+S2;                        //calculating total reluctance\n",
"phi=(N*I)/S;                    //calculating flux\n",
"B=phi/A2;                       //calculating flux density in 2cm path\n",
"printf('Flux density in 2cm path = %f T',B);"
   ]
   }
,
{
		   "cell_type": "markdown",
		   "metadata": {},
		   "source": [
			"## Example 7.13: Example_13.sce"
		   ]
		  },
  {
"cell_type": "code",
	   "execution_count": null,
	   "metadata": {
	    "collapsed": true
	   },
	   "outputs": [],
"source": [
"//Chapter 7, Problem 13\n",
"clc;\n",
"l1=40*10^-2;;                       //length of iron path\n",
"l2=2*10^-3;                         //radial air gap\n",
"u0=4*%pi*10^-7;\n",
"phi=0.7*10^-3;                      //flux\n",
"A=5*10^-4;                          //cross-sectional area\n",
"H1=1650;                            //from B–H curve for silicon iron\n",
"//Calculation for the silicon iron:\n",
"B=phi/A;\n",
"mmf1=H1*l1;\n",
"//Calculation for the air gap:\n",
"H2=B/u0;\n",
"mmf2=H2*l2;\n",
"mmf=mmf1+mmf2;\n",
"disp('From the B–H curve for silicon iron on page 74, when B=1.4T, H =1650A/m.');\n",
"printf('Hence m.m.f for the iron path = %d A\n\n\n',mmf1);\n",
"disp('The flux density will be the same in the air gap as in the iron,');\n",
"printf('Hence m.m.f for the air gap = %d A\n\n\n',mmf2);\n",
"printf('Total m.m.f to produce a flux of 0.6mWb = %d A\n\n\n',mmf);"
   ]
   }
,
{
		   "cell_type": "markdown",
		   "metadata": {},
		   "source": [
			"## Example 7.15: Example_15.sce"
		   ]
		  },
  {
"cell_type": "code",
	   "execution_count": null,
	   "metadata": {
	    "collapsed": true
	   },
	   "outputs": [],
"source": [
"//Chapter 7, Problem 15, Figure 7.6\n",
"clc;\n",
"u0=4*%pi*10^-7;\n",
"ur=1;\n",
"B=0.80;                     //flux density\n",
"H=750;                      //field intensity from B-H curve\n",
"l1=25*10^-2;                //length of cast steel core\n",
"l2=1*10^-3;                 //air gap\n",
"A=2*10^-4;                  //cross-sectional area\n",
"N=5000;                     //no of turns\n",
"//for cast steel core\n",
"S1=(l1*H)/(B*A);\n",
"//For the air gap:\n",
"S2=l2/(u0*ur*A);\n",
"//Total reluctance \n",
"S=S1+S2;\n",
"phi=B*A;\n",
"I=(S*phi)/N;\n",
"printf('Current in the coil to produce a flux density of 0.80T = %f A',I);"
   ]
   }
,
{
		   "cell_type": "markdown",
		   "metadata": {},
		   "source": [
			"## Example 7.1: Example_1.sce"
		   ]
		  },
  {
"cell_type": "code",
	   "execution_count": null,
	   "metadata": {
	    "collapsed": true
	   },
	   "outputs": [],
"source": [
"//Chapter 7, Problem 1\n",
"clc;\n",
"phi=150*10^-6;              //Flux\n",
"A=200*100*10^-6;            //Cross sectional area\n",
"B=phi/A;                    //Calculating flux density\n",
"printf('Flux density = %f T',B);"
   ]
   }
,
{
		   "cell_type": "markdown",
		   "metadata": {},
		   "source": [
			"## Example 7.2: Example_2.sce"
		   ]
		  },
  {
"cell_type": "code",
	   "execution_count": null,
	   "metadata": {
	    "collapsed": true
	   },
	   "outputs": [],
"source": [
"//Chapter 1, Problem 2\n",
"clc;\n",
"phi=353*10^-3;              //Flux\n",
"B=1.8;                      //Flux density\n",
"A=phi/B;                    //Area of pole face\n",
"r=sqrt(A/%pi);              //Radius\n",
"printf('The radius of the pole face = %f mm',r*1000);"
   ]
   }
,
{
		   "cell_type": "markdown",
		   "metadata": {},
		   "source": [
			"## Example 7.3: Example_3.sce"
		   ]
		  },
  {
"cell_type": "code",
	   "execution_count": null,
	   "metadata": {
	    "collapsed": true
	   },
	   "outputs": [],
"source": [
"//Chapter 7, Problem 3\n",
"clc;\n",
"H=8000;                             //Magnetic field strength\n",
"d=30*10^-2;                         //Diameter of coil\n",
"l=%pi*d;                        //Length \n",
"N=750;                          //No of turns\n",
"I=(H*l)/N;                      //Calculating current in the coil\n",
"printf('Current in the coil = %f A',I);"
   ]
   }
,
{
		   "cell_type": "markdown",
		   "metadata": {},
		   "source": [
			"## Example 7.4: Example_4.sce"
		   ]
		  },
  {
"cell_type": "code",
	   "execution_count": null,
	   "metadata": {
	    "collapsed": true
	   },
	   "outputs": [],
"source": [
"//Chapter 7, Problem 4\n",
"clc;\n",
"B=1.2;                          //Magnetic flux density\n",
"H=1250;                         //Magnetic field strength\n",
"uo=4*%pi*10^-7;                 //permeability of free space\n",
"ur=B/(uo*H);                    //Calculating relative permeability\n",
"printf('Relative permeability = %f',ur);"
   ]
   }
,
{
		   "cell_type": "markdown",
		   "metadata": {},
		   "source": [
			"## Example 7.5: Example_5.sce"
		   ]
		  },
  {
"cell_type": "code",
	   "execution_count": null,
	   "metadata": {
	    "collapsed": true
	   },
	   "outputs": [],
"source": [
"//Chapter 7, Problem 5\n",
"clc;\n",
"B=0.25;                         //Magnetic flux density\n",
"u0=4*%pi*10^-7;                 //permeability of free space\n",
"l=12*10^-3;                     //Length\n",
"H=B/u0;                         //Calculating magnetic field strength\n",
"mmf=H*l;                        //Calculating magnetomotive force\n",
"printf('Magnetic field strength = %d A/m\n\n\n',H);\n",
"printf('m.m.f = %d A',mmf);"
   ]
   }
,
{
		   "cell_type": "markdown",
		   "metadata": {},
		   "source": [
			"## Example 7.6: Example_6.sce"
		   ]
		  },
  {
"cell_type": "code",
	   "execution_count": null,
	   "metadata": {
	    "collapsed": true
	   },
	   "outputs": [],
"source": [
"//Chapter 7, Problem 6\n",
"clc;\n",
"N=300;                      //No of turns\n",
"I=5;                        //Current in the coil\n",
"l=40*10^-2;                 //Length\n",
"A=4*10^-4;                  //Area of cross-sectional\n",
"H=(N*I)/l;                  //Calculating magnetic field strength\n",
"u0=4*%pi*10^-7;             //permeability of free space\n",
"B=u0*H;                     //Flux density\n",
"phi=B*A;                    //Fux\n",
"disp('(a)');\n",
"printf('Magnetic field strength = %d A/m\n\n\n',H);\n",
"disp('(b)');\n",
"printf('Flux density = %f mT\n\n\n',B*1000);\n",
"disp('(c)');\n",
"printf('Flux = %f μWb',phi*10^6);"
   ]
   }
,
{
		   "cell_type": "markdown",
		   "metadata": {},
		   "source": [
			"## Example 7.7: Example_7.sce"
		   ]
		  },
  {
"cell_type": "code",
	   "execution_count": null,
	   "metadata": {
	    "collapsed": true
	   },
	   "outputs": [],
"source": [
"//Chapter 7, Problem 7\n",
"clc;\n",
"d=10*10^-2;                               //Diameter\n",
"N=2000;                                   //No of turns\n",
"I=0.25;                                   //Current in the coil\n",
"B=0.4;                                    //Magnetic flux density\n",
"u0=4*%pi*10^-7;                           //permeability of free space\n",
"l=%pi*d;                                  //Calculating length of coil\n",
"H=(N*I)/l;                                //Calculating magnetic field strength\n",
"ur=B/(u0*H);                              //Calculating relative permeability\n",
"disp('(a)');\n",
"printf('Magnetic field strength = %f A/m\n\n\n',H);\n",
"disp('(b)');\n",
"printf('Relative permeability = %d',ur);"
   ]
   }
,
{
		   "cell_type": "markdown",
		   "metadata": {},
		   "source": [
			"## Example 7.8: Example_8.sce"
		   ]
		  },
  {
"cell_type": "code",
	   "execution_count": null,
	   "metadata": {
	    "collapsed": true
	   },
	   "outputs": [],
"source": [
"//Chapter 7, Problem 8\n",
"clc;\n",
"A=10*10^-4;                 //cross-sectional area\n",
"l=0.2;                         //mean circumference in meter\n",
"phi=0.3*10^-3;                  //flux\n",
"B=phi/A;                        //flux density\n",
"H=1000;\n",
"mmf=H*l;                        //magnetomotive force\n",
"disp('From the magnetisation curve for cast iron on page74,')\n",
"printf('m.m.f = %f A',mmf);"
   ]
   }
],
"metadata": {
		  "kernelspec": {
		   "display_name": "Scilab",
		   "language": "scilab",
		   "name": "scilab"
		  },
		  "language_info": {
		   "file_extension": ".sce",
		   "help_links": [
			{
			 "text": "MetaKernel Magics",
			 "url": "https://github.com/calysto/metakernel/blob/master/metakernel/magics/README.md"
			}
		   ],
		   "mimetype": "text/x-octave",
		   "name": "scilab",
		   "version": "0.7.1"
		  }
		 },
		 "nbformat": 4,
		 "nbformat_minor": 0
}
