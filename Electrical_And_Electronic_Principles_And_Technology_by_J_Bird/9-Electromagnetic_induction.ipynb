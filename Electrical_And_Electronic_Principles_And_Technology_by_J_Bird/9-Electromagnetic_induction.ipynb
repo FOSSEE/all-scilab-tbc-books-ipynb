{
"cells": [
 {
		   "cell_type": "markdown",
	   "metadata": {},
	   "source": [
       "# Chapter 9: Electromagnetic induction"
	   ]
	},
{
		   "cell_type": "markdown",
		   "metadata": {},
		   "source": [
			"## Example 9.10: Example_10.sce"
		   ]
		  },
  {
"cell_type": "code",
	   "execution_count": null,
	   "metadata": {
	    "collapsed": true
	   },
	   "outputs": [],
"source": [
"//Chapter 9, Problem 10\n",
"clc;\n",
"E=1.5*10^3;                     //emf\n",
"dI=4;                           //change in flux\n",
"dt=8*10^-3;                     //change in time\n",
"D=dI/dt;\n",
"L=E/D;\n",
"printf('Inductance L = %d H',L);"
   ]
   }
,
{
		   "cell_type": "markdown",
		   "metadata": {},
		   "source": [
			"## Example 9.11: Example_11.sce"
		   ]
		  },
  {
"cell_type": "code",
	   "execution_count": null,
	   "metadata": {
	    "collapsed": true
	   },
	   "outputs": [],
"source": [
"//Chapter 9, Problem 11\n",
"clc;\n",
"L=150*10^-3;\n",
"E=40;\n",
"//since the current is reversed, dI =6−(−6)=12A\n",
"dI=12;\n",
"//calculating change in time dt\n",
"dt=(L*dI)/E;\n",
"printf('Change in time dt = %f sec',dt);"
   ]
   }
,
{
		   "cell_type": "markdown",
		   "metadata": {},
		   "source": [
			"## Example 9.12: Example_12.sce"
		   ]
		  },
  {
"cell_type": "code",
	   "execution_count": null,
	   "metadata": {
	    "collapsed": true
	   },
	   "outputs": [],
"source": [
"//Chapter 9, Problem 12\n",
"clc;\n",
"L=8;                        //inductance\n",
"I=3;                        //current in coil\n",
"W=(1/2)*L*I^2;              //calculating energy stored in inductor\n",
"printf('Energy stored = %d joules',W)"
   ]
   }
,
{
		   "cell_type": "markdown",
		   "metadata": {},
		   "source": [
			"## Example 9.13: Example_13.sce"
		   ]
		  },
  {
"cell_type": "code",
	   "execution_count": null,
	   "metadata": {
	    "collapsed": true
	   },
	   "outputs": [],
"source": [
"//Chapter 9, Problem 13\n",
"clc;\n",
"N=800;                              //no of turns\n",
"phi=5*10^-3;                        //flux\n",
"I=4;                                //current in coil\n",
"L=(N*phi)/I;                        //calculating inductance\n",
"printf('Inductance of coil = %f H',L);"
   ]
   }
,
{
		   "cell_type": "markdown",
		   "metadata": {},
		   "source": [
			"## Example 9.14: Example_14.sce"
		   ]
		  },
  {
"cell_type": "code",
	   "execution_count": null,
	   "metadata": {
	    "collapsed": true
	   },
	   "outputs": [],
"source": [
"//Chapter 9, Problem 14\n",
"clc;\n",
"N=1500;                             //no of turns\n",
"phi=25*10^-3;                       //flux\n",
"I=3;                                //current in coil\n",
"dI=3-0;                             //change in current\n",
"dt=150*10^-3;                       //change in time\n",
"L=(N*phi)/I;                        //calculating inductance\n",
"W=(1/2)*L*I^2;                      //calculating energy stored\n",
"E=-L*(dI/dt);                       //calculating induced emf\n",
"disp('(a)');\n",
"printf('Inductance = %f H\n\n',L);\n",
"disp('(b)');\n",
"printf('Energy stored = %f J\n\n',W);\n",
"disp('(c)');\n",
"printf('Induced e.m.f = %d V',E);"
   ]
   }
,
{
		   "cell_type": "markdown",
		   "metadata": {},
		   "source": [
			"## Example 9.15: Example_15.sce"
		   ]
		  },
  {
"cell_type": "code",
	   "execution_count": null,
	   "metadata": {
	    "collapsed": true
	   },
	   "outputs": [],
"source": [
"//Chapter 9, Problem 15\n",
"clc;\n",
"L=0.60;                         //inductance\n",
"I=1.5;                          //current in coil\n",
"phi=90*10^-6;                   //flux\n",
"N=(L*I)/phi;                    //calculating no of turns\n",
"printf('No of turns = %d turns',N);"
   ]
   }
,
{
		   "cell_type": "markdown",
		   "metadata": {},
		   "source": [
			"## Example 9.16: Example_16.sce"
		   ]
		  },
  {
"cell_type": "code",
	   "execution_count": null,
	   "metadata": {
	    "collapsed": true
	   },
	   "outputs": [],
"source": [
"//Chapter 9, Problem 16\n",
"clc\n",
"N=750                           //no of turns\n",
"L=3                             //inductance in henry\n",
"I=2                             //current in ampere\n",
"t=20e-3                         //time in milisec\n",
"phi=(L*I)/N\n",
"E=-(N*phi)/t\n",
"printf('Flux linking the coil = %d mWb\n\n',phi*1000)\n",
"printf('Induced emf = %d V',E)"
   ]
   }
,
{
		   "cell_type": "markdown",
		   "metadata": {},
		   "source": [
			"## Example 9.17: Example_17.sce"
		   ]
		  },
  {
"cell_type": "code",
	   "execution_count": null,
	   "metadata": {
	    "collapsed": true
	   },
	   "outputs": [],
"source": [
"//Chapter 9, Problem 17, Figure 9.10\n",
"clc;\n",
"N=800;                      //no of turns\n",
"I=0.5;                      //current in coil\n",
"l=%pi*120*10^-3;            //length of coil\n",
"u0=4*%pi*10^-7;             //permeability of free space\n",
"ur=3000;                    //relative permeability \n",
"dI=0.5-0;                   //change in current\n",
"dt=80*10^-3;                //change in time\n",
"A=400*10^-6;                 //cross sectional area\n",
"S=l/(u0*ur*A);              //calculating reluctance\n",
"L=N^2/S;                    //calculating inductance\n",
"E=-L*(dI/dt);               //calculating induced emf\n",
"printf('Self inductance L = %f H\n\n\n',L);\n",
"printf('Induced emf E = %d V',E);"
   ]
   }
,
{
		   "cell_type": "markdown",
		   "metadata": {},
		   "source": [
			"## Example 9.18: Example_18.sce"
		   ]
		  },
  {
"cell_type": "code",
	   "execution_count": null,
	   "metadata": {
	    "collapsed": true
	   },
	   "outputs": [],
"source": [
"//Chapter 9, Problem 18\n",
"clc;\n",
"D=200;                      //rate of change of current w.r.t time\n",
"E=1.5;                      //induced emf\n",
"M=E/D;                      //mutual inductance\n",
"printf('Mutual inductance M = %f H',M);"
   ]
   }
,
{
		   "cell_type": "markdown",
		   "metadata": {},
		   "source": [
			"## Example 9.19: Example_19.sce"
		   ]
		  },
  {
"cell_type": "code",
	   "execution_count": null,
	   "metadata": {
	    "collapsed": true
	   },
	   "outputs": [],
"source": [
"//Chapter 9, Problem 19\n",
"clc;\n",
"E=0.72;                     //induced emf\n",
"M=0.018;                    //mutual inductance\n",
"D=E/M;                      //calculating rate of change of current\n",
"printf('Rate of change of current = %d A/s', D);"
   ]
   }
,
{
		   "cell_type": "markdown",
		   "metadata": {},
		   "source": [
			"## Example 9.1: Example_1.sce"
		   ]
		  },
  {
"cell_type": "code",
	   "execution_count": null,
	   "metadata": {
	    "collapsed": true
	   },
	   "outputs": [],
"source": [
"//Chapter 9, Problem 1\n",
"clc;\n",
"B=1.25;                     //flux density\n",
"v=4;                        //conductor velocity\n",
"l=300*10^-3;                //conductor length\n",
"R=20;                       //resistance \n",
"E=B*l*v;                    //calculating emf\n",
"I=E/R;                      //calculating current from ohms law\n",
"disp('(a)');\n",
"disp('If the ends of the conductor are open circuited, no current will flow.');\n",
"disp('(b)');\n",
"disp('If its ends are connected to a load of 20ohm resistance, then');\n",
"printf('Current = %f A',I);"
   ]
   }
,
{
		   "cell_type": "markdown",
		   "metadata": {},
		   "source": [
			"## Example 9.20: Example_20.sce"
		   ]
		  },
  {
"cell_type": "code",
	   "execution_count": null,
	   "metadata": {
	    "collapsed": true
	   },
	   "outputs": [],
"source": [
"//Chapter 9, Problem 20\n",
"clc;\n",
"M=0.2;\n",
"dI=10-4;\n",
"dt=10*10^-3;\n",
"N=500;\n",
"E=-M*(dI/dt);\n",
"dphi=(E*dt)/N;\n",
"printf('Induced emf = %d V\n\n\n',E);\n",
"printf('Change of flux = %f mWb',dphi*1000);"
   ]
   }
,
{
		   "cell_type": "markdown",
		   "metadata": {},
		   "source": [
			"## Example 9.21: Example_21.sce"
		   ]
		  },
  {
"cell_type": "code",
	   "execution_count": null,
	   "metadata": {
	    "collapsed": true
	   },
	   "outputs": [],
"source": [
"//Chapter 9, Problem 21, Figure 9.11\n",
"clc;\n",
"dI=6-1;\n",
"dt=200*10^-3;\n",
"E=15;\n",
"Np=1000;\n",
"Ns=480;\n",
"M=E/(dI/dt);\n",
"S=(Np*Ns)/M;\n",
"Lp=Np^2/S;\n",
"printf('Mutual Inductance = %f H\n\n\n',M);\n",
"printf('Reluctance = %d A/Wb\n\n\n',S);\n",
"printf('Primary self-inductance Lp = %f H',Lp);"
   ]
   }
,
{
		   "cell_type": "markdown",
		   "metadata": {},
		   "source": [
			"## Example 9.2: Example_2.sce"
		   ]
		  },
  {
"cell_type": "code",
	   "execution_count": null,
	   "metadata": {
	    "collapsed": true
	   },
	   "outputs": [],
"source": [
"//Chapter 9, Problem 2\n",
"clc;\n",
"E=9;                    //emf\n",
"B=0.6;                  //flux density\n",
"l=75*10^-3;             //length of conductor\n",
"//since the conductor, the field and the direction of motion are mutually perpendicular\n",
"//calculating velocity\n",
"v=E/(B*l); \n",
"printf('Velocity = %f m/s',v);"
   ]
   }
,
{
		   "cell_type": "markdown",
		   "metadata": {},
		   "source": [
			"## Example 9.3: Example_3.sce"
		   ]
		  },
  {
"cell_type": "code",
	   "execution_count": null,
	   "metadata": {
	    "collapsed": true
	   },
	   "outputs": [],
"source": [
"//Chapter 9, Problem 3\n",
"clc;\n",
"v=15;                       //velocity of conductor\n",
"l=0.02;                     //length of conductor\n",
"A=2*2*10^-4;                //area of conductor\n",
"phi=5*10^-6;                //flux\n",
"Q1=%pi/2;                   //converting 90 degree into radian\n",
"Q2=%pi/3;                   //converting 60 degree into radian\n",
"Q3=%pi/6;                   //converting 30 degree into radian\n",
"B=phi/A;                    //calculating flux density\n",
"E90=B*l*v*sin(Q1);          //calculating emf \n",
"E60=B*l*v*sin(Q2);\n",
"E30=B*l*v*sin(Q3);\n",
"disp('(a)');\n",
"printf('E.M.F at 90◦ =%f V\n\n',E90*1000);\n",
"disp('(b)');\n",
"printf('E.M.F at 60◦ =%f V\n\n',E60*1000);\n",
"disp('(c)');\n",
"printf('E.M.F at 30◦ =%f V\n\n',E30*1000);"
   ]
   }
,
{
		   "cell_type": "markdown",
		   "metadata": {},
		   "source": [
			"## Example 9.4: Example_4.sce"
		   ]
		  },
  {
"cell_type": "code",
	   "execution_count": null,
	   "metadata": {
	    "collapsed": true
	   },
	   "outputs": [],
"source": [
"//Chapter 9, Problem 4\n",
"clc;\n",
"B=40*10^-6;                     //flux density\n",
"l=36;                           //legnth of conductor\n",
"v=(400*1000)/(60*60);           //velocity of conductor\n",
"E=B*l*v;                        //calculating emf\n",
"printf('E.M.F = %f V',E);"
   ]
   }
,
{
		   "cell_type": "markdown",
		   "metadata": {},
		   "source": [
			"## Example 9.6: Example_6.sce"
		   ]
		  },
  {
"cell_type": "code",
	   "execution_count": null,
	   "metadata": {
	    "collapsed": true
	   },
	   "outputs": [],
"source": [
"//Chapter 9, Problem 6\n",
"clc;\n",
"B=1.4;                              //flux density\n",
"l=12*10^-2;                         //length\n",
"N=80;                               //no of turns\n",
"n=1200/60;                          //rotation in sec\n",
"E1=90;                              //emf\n",
"r=(8*10^-2)/2;\n",
"Q90=%pi/2;\n",
"//calculating velocity\n",
"v=2*%pi*n*r;\n",
"//calculating maximum emf\n",
"E=2*N*B*v*l*sin(Q90);\n",
"//calculating velocity with emf 90V\n",
"v=E1/(2*N*B*l*sin(Q90));\n",
"//calculating speed of coil\n",
"w=v/r;\n",
"w1=(w*60)/(2*%pi);\n",
"disp('(a)');\n",
"printf('Maximum emf induced = %f V',E);\n",
"disp('(b)');\n",
"printf('Speed of coil in rev/min = %d rev/min',w1);"
   ]
   }
,
{
		   "cell_type": "markdown",
		   "metadata": {},
		   "source": [
			"## Example 9.7: Example_7.sce"
		   ]
		  },
  {
"cell_type": "code",
	   "execution_count": null,
	   "metadata": {
	    "collapsed": true
	   },
	   "outputs": [],
"source": [
"//Chapter 9, Problem 7\n",
"clc;\n",
"N=200;                      //no of turns\n",
"dphi=25*10^-3;                  //change in flux\n",
"dt=50*10^-3;                    //change in time\n",
"E=-N*(dphi/dt);                 //calculating induced emf\n",
"printf('Induced emf E = %d V',E);"
   ]
   }
,
{
		   "cell_type": "markdown",
		   "metadata": {},
		   "source": [
			"## Example 9.8: Example_8.sce"
		   ]
		  },
  {
"cell_type": "code",
	   "execution_count": null,
	   "metadata": {
	    "collapsed": true
	   },
	   "outputs": [],
"source": [
"//Chapter 9, Problem 8\n",
"clc;\n",
"N=150;\n",
"//Since the flux reverses, the flux changes from+400 μWb to −400 μWb,\n",
"// a total change of flux of 800 μWb.\n",
"dphi=800*10^-6;                 //change in flux\n",
"dt=40*10^-3;                    //change in time\n",
"E=-N*(dphi/dt);                 //calculating induced emf\n",
"printf('Induced emf = %f V',E);"
   ]
   }
,
{
		   "cell_type": "markdown",
		   "metadata": {},
		   "source": [
			"## Example 9.9: Example_9.sce"
		   ]
		  },
  {
"cell_type": "code",
	   "execution_count": null,
	   "metadata": {
	    "collapsed": true
	   },
	   "outputs": [],
"source": [
"//Chapter 9, Problem 9\n",
"clc;\n",
"L=12;                           //inductance\n",
"dI=4;                           //change in current\n",
"dt=1;                           //change in time\n",
"E=-L*(dI/dt);                   //calculating induced emf\n",
"printf('Induced emf E = %d V',E);"
   ]
   }
],
"metadata": {
		  "kernelspec": {
		   "display_name": "Scilab",
		   "language": "scilab",
		   "name": "scilab"
		  },
		  "language_info": {
		   "file_extension": ".sce",
		   "help_links": [
			{
			 "text": "MetaKernel Magics",
			 "url": "https://github.com/calysto/metakernel/blob/master/metakernel/magics/README.md"
			}
		   ],
		   "mimetype": "text/x-octave",
		   "name": "scilab",
		   "version": "0.7.1"
		  }
		 },
		 "nbformat": 4,
		 "nbformat_minor": 0
}
