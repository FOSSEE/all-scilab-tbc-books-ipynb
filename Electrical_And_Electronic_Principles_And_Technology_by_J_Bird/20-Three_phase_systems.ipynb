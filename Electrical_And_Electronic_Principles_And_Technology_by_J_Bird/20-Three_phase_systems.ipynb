{
"cells": [
 {
		   "cell_type": "markdown",
	   "metadata": {},
	   "source": [
       "# Chapter 20: Three phase systems"
	   ]
	},
{
		   "cell_type": "markdown",
		   "metadata": {},
		   "source": [
			"## Example 20.11: Example_11.sce"
		   ]
		  },
  {
"cell_type": "code",
	   "execution_count": null,
	   "metadata": {
	    "collapsed": true
	   },
	   "outputs": [],
"source": [
"//Chapter 20, Problem 11\n",
"clc;\n",
"Po = 12750;             // in Watts\n",
"pf = 0.77;              // power factor\n",
"eff = 0.85;\n",
"VL = 415;               // in Volts\n",
"\n",
"//calculation:\n",
"//eff = power_out/power_in\n",
"Pi = Po/eff\n",
"//Power P = VL*IL*(3^0.5)*cos(phi)  or  P = 3*Ip*Ip*Rp)\n",
"IL = Pi/(VL*(3^0.5)*pf) // line current\n",
"\n",
"//For a delta connection:\n",
"//IL = Ip*(3^0.5)\n",
"Ip = IL/(3^0.5)\n",
"\n",
"printf('\n\n (a)Power input = %d W',Pi)\n",
"printf('\n\n (b)Line current = %.2f A',IL)\n",
"printf('\n\n (c)Phase current = %.2f A',Ip)"
   ]
   }
,
{
		   "cell_type": "markdown",
		   "metadata": {},
		   "source": [
			"## Example 20.13: Example_13.sce"
		   ]
		  },
  {
"cell_type": "code",
	   "execution_count": null,
	   "metadata": {
	    "collapsed": true
	   },
	   "outputs": [],
"source": [
"//Chapter 20, Problem 13\n",
"clc;\n",
"Vl=400;                         //supply voltage\n",
"Rp=30;                          //resistance\n",
"Xl=40;                          //inductive reactance\n",
"Zp=sqrt(Rp^2+Xl^2);             //phase impedance\n",
"Ip=Vl/Zp;                       //phase current\n",
"Il=sqrt(3)*Ip;                  //line current\n",
"pf=Rp/Zp;                       //power factor\n",
"P=sqrt(3)*Vl*Il*pf;             //power dissipated\n",
"S=sqrt(3)*Vl*Il;                //alternator output KVA\n",
"printf('(a) Current is supplied by alternator = %.3f A\n\n',Il);\n",
"printf('(b) Output power = %.2f kW\n',P/1000);\n",
"printf('    Alternator ouput KVA = %.2f KVA',S/1000);"
   ]
   }
,
{
		   "cell_type": "markdown",
		   "metadata": {},
		   "source": [
			"## Example 20.14: Example_14.sce"
		   ]
		  },
  {
"cell_type": "code",
	   "execution_count": null,
	   "metadata": {
	    "collapsed": true
	   },
	   "outputs": [],
"source": [
"//Chapter 20, Problem 14\n",
"clc;\n",
"f=50;                           //supply frequency\n",
"Rp=30;                          //resistance\n",
"C=80e-6;                        //capacitance\n",
"Vl=400;                         //3 phase supply\n",
"Xc=1/(2*%pi*f*C);               //capacitive reactance\n",
"Zp=sqrt(Rp^2+Xc^2);             //phase impedance,\n",
"pf=Rp/Zp;                       //power factor\n",
"phi=acos(pf);                   //phase angle\n",
"Ip=Vl/Zp;                       //phase current\n",
"Il=sqrt(3)*Ip;                  //line current\n",
"P=sqrt(3)*Vl*Il*cos(phi);       //power dissipated\n",
"S=sqrt(3)*Vl*Il;                //total KVA\n",
"printf('(a) Phase current = %.3f A\n\n',Ip);\n",
"printf('(b) Line current = %.2f A\n\n',Il);\n",
"printf('(c) Total power dissipated = %.3f kW\n\n',P/1000);\n",
"printf('(d) Total kVA = %.3f kVA\n\n',S/1000);\n",
"printf('The phasor diagram for the load is shown in Fig. 20.18');"
   ]
   }
,
{
		   "cell_type": "markdown",
		   "metadata": {},
		   "source": [
			"## Example 20.15: Example_15.sce"
		   ]
		  },
  {
"cell_type": "code",
	   "execution_count": null,
	   "metadata": {
	    "collapsed": true
	   },
	   "outputs": [],
"source": [
"//Chapter 20, Problem 15\n",
"clc;\n",
"P1=8;                   //power 1 in watt\n",
"P2=4;                   //power 2 in watt\n",
"P=P1+P2;                //total input power\n",
"phi=atan(sqrt(3)*((P1-P2)/(P1+P2)));\n",
"pf=cos(phi);                //load power factor\n",
"printf('(a) Total input power = %d kW\n\n',P);\n",
"printf('(b) Power factor = %.3f ',pf);"
   ]
   }
,
{
		   "cell_type": "markdown",
		   "metadata": {},
		   "source": [
			"## Example 20.16: Example_16.sce"
		   ]
		  },
  {
"cell_type": "code",
	   "execution_count": null,
	   "metadata": {
	    "collapsed": true
	   },
	   "outputs": [],
"source": [
"//Chapter 20, Problem 16\n",
"clc\n",
"P=12e3                          //total power\n",
"pf=0.6                          //power factor\n",
"ang=acos(pf)\n",
"ta=tan(ang)\n",
"P12=P*ta/3^(1/2)\n",
"\n",
"//solving two equation by matrix method\n",
"A=[1 1;1 -1]\n",
"B=[12000;P12]\n",
"x=linsolve(A,-B)\n",
"printf('wattmeter 1 read = %.2f kW\n\n',x(1)/1000)\n",
"printf('wattmeter 2 read = %.2f kW\n\n',x(2)/1000)"
   ]
   }
,
{
		   "cell_type": "markdown",
		   "metadata": {},
		   "source": [
			"## Example 20.17: Example_17.sce"
		   ]
		  },
  {
"cell_type": "code",
	   "execution_count": null,
	   "metadata": {
	    "collapsed": true
	   },
	   "outputs": [],
"source": [
"//Chapter 20, Problem 17\n",
"clc;\n",
"P1=10;                          //power 1 in watt\n",
"P2=-3;                          //power 2 in watt\n",
"P=P1+P2;                        //total input power\n",
"phi=atan(sqrt(3)*((P1-P2)/(P1+P2)));\n",
"pf=cos(phi);                    //load power factor\n",
"disp('Since the reversing switch on the wattmeter had to be operated the 3kW reading is taken as −3 kW');\n",
"printf('(a) Total input power = %f kW\n\n',P);\n",
"printf('(b) Power factor = %f ',pf);"
   ]
   }
,
{
		   "cell_type": "markdown",
		   "metadata": {},
		   "source": [
			"## Example 20.18: Example_18.sce"
		   ]
		  },
  {
"cell_type": "code",
	   "execution_count": null,
	   "metadata": {
	    "collapsed": true
	   },
	   "outputs": [],
"source": [
"//Chapter 20, Problem 18\n",
"clc;\n",
"R = 8;                      //resistance\n",
"XL = 8;                     //inductive reactance\n",
"VL = 415;                   //supply voltage\n",
"\n",
"//calculation:\n",
"//For a star connection:\n",
"//IL = Ip\n",
"//VL = Vp*(3^0.5)\n",
"VLs = VL\n",
"Vps = VLs/(3^0.5)\n",
"//Impedance per phase,\n",
"Zp = (R*R + XL*XL)^0.5\n",
"Ips = Vps/Zp\n",
"ILs = Ips\n",
"//Power dissipated, P = VL*IL*(3^0.5)*cos(phi)  or  P = 3*Ip*Ip*Rp)\n",
"pf = R/Zp\n",
"Ps = VLs*ILs*(3^0.5)*pf\n",
"//If wattmeter readings are P1 and P2 then P1 + P2 = Pst\n",
"Pst = Ps\n",
"// Pid = Pi1 - Pi2\n",
"phi = acos(pf)\n",
"Psd = Pst*tan(phi)/(3^0.5)\n",
"//Hence wattmeter 1 reads\n",
"Ps1 = (Psd + Pst)/2\n",
"//wattmeter 2 reads\n",
"Ps2 = Pst - Ps1\n",
"\n",
"//For a delta connection:\n",
"//VL = Vp\n",
"//IL = Ip*(3^0.5)\n",
"VLd = VL\n",
"Vpd = VLd\n",
"Ipd = Vpd/Zp\n",
"ILd = Ipd*(3^0.5)\n",
"//Power dissipated, P = VL*IL*(3^0.5)*cos(phi)  or  P = 3*Ip*Ip*Rp)\n",
"Pd = VLd*ILd*(3^0.5)*pf\n",
"//If wattmeter readings are P1 and P2 then P1 + P2 = Pdt\n",
"Pdt = Pd\n",
"// Pid = Pi1 - Pi2\n",
"Pdd = Pdt*tan(phi)/(3^0.5)\n",
"//Hence wattmeter 1 reads\n",
"Pd1 = (Pdd + Pdt)/2\n",
"//wattmeter 2 reads\n",
"Pd2 = Pdt - Pd1\n",
"\n",
"\n",
"printf('\n\n (a)When the coils are star-connected the wattmeter readings are %.3f kW and %.3f kW',Ps1/1000,Ps2/1000)\n",
"printf('\n\n (b)When the coils are delta-connected the wattmeter readings are are %.3f kW and %.3f kW',Pd1/1000,Pd2/1000)"
   ]
   }
,
{
		   "cell_type": "markdown",
		   "metadata": {},
		   "source": [
			"## Example 20.1: Example_1.sce"
		   ]
		  },
  {
"cell_type": "code",
	   "execution_count": null,
	   "metadata": {
	    "collapsed": true
	   },
	   "outputs": [],
"source": [
"//Chapter 20, Problem 1\n",
"clc;\n",
"Rp=30;                  //resistance in ohm\n",
"Vl=415;                 //3-phase supply\n",
"Vp=Vl/sqrt(3);          //phase voltage\n",
"Ip=Vp/Rp;               //phase current\n",
"printf('(a) System phase voltage = %.1f V\n or 240 V,correct to 3 significant figures\n\n',Vp);\n",
"printf('(b) Phase current = %.2f A\n\n',Ip);\n",
"printf('(c) For a star connection, Ip =IL hence the line current,\n Line current = %.2f A\n\n',Ip);"
   ]
   }
,
{
		   "cell_type": "markdown",
		   "metadata": {},
		   "source": [
			"## Example 20.2: Example_2.sce"
		   ]
		  },
  {
"cell_type": "code",
	   "execution_count": null,
	   "metadata": {
	    "collapsed": true
	   },
	   "outputs": [],
"source": [
"//Chapter 20, Problem 2\n",
"clc;\n",
"R=30;                           //resistance of coil\n",
"f=50;                           //supply frequency\n",
"L=127.3e-3;                     //inductance of coil\n",
"Ip=5.08;                        //line current\n",
"Xl=2*%pi*f*L;                   //inductive reactance\n",
"Zp=sqrt(R^2+Xl^2);              //impedance of each phase\n",
"Vp=Ip*Zp;                       //phase voltage\n",
"Vl=sqrt(3)*Vp;                  //line voltage\n",
"printf('Line voltage = %.2f V',Vl);"
   ]
   }
,
{
		   "cell_type": "markdown",
		   "metadata": {},
		   "source": [
			"## Example 20.4: Example_4.sce"
		   ]
		  },
  {
"cell_type": "code",
	   "execution_count": null,
	   "metadata": {
	    "collapsed": true
	   },
	   "outputs": [],
"source": [
"//Chapter 20, Problem 4, Fig.20.7\n",
"clc;\n",
"Vl=415;                             //3-phase supply\n",
"Pr=24000;                           //resistance in ohm\n",
"Py=18000;                           //resistance in ohm\n",
"Pb=12000;                           //resistance in ohm\n",
"Vp=Vl/sqrt(3);                      //phase voltage\n",
"Ir=Pr/Vp;                           //current in each line\n",
"Iy=Py/Vp;\n",
"Ib=Pb/Vp;\n",
"\n",
"//calculating current in the neutral conductor\n",
"Irh=cos(90*%pi/180);\n",
"Iyh=cos(330*%pi/180);\n",
"Ibh=cos(210*%pi/180);\n",
"Irv=sin(90*%pi/180);\n",
"Iyv=sin(330*%pi/180);\n",
"Ibv=sin(210*%pi/180);\n",
"Ih=(Ir*Irh)+(Iy*Iyh)+(Ib*Ibh);\n",
"Iv=(Ir*Irv)+(Iy*Iyv)+(Ib*Ibv);\n",
"In=sqrt(Ih^2+Iv^2);\n",
"\n",
"printf('(a) Ir = %d A\n\nIy = %d A\n\nIb = %d A\n\n',Ir,Iy,Ib);\n",
"printf('(b) The three line currents are shown in the phasor diagram of Fig. 20.8.\n');\n",
"printf('Since each load is resistive the currents are in phase with the phase voltages and are hence mutually displaced by 120◦.');\n",
"printf('\nIn = %f A\n',In);"
   ]
   }
,
{
		   "cell_type": "markdown",
		   "metadata": {},
		   "source": [
			"## Example 20.5: Example_5.sce"
		   ]
		  },
  {
"cell_type": "code",
	   "execution_count": null,
	   "metadata": {
	    "collapsed": true
	   },
	   "outputs": [],
"source": [
"//Chapter 20, Problem 5\n",
"clc;\n",
"Zp=50;                              //phase impedance\n",
"Vp=440;                             //3 phase supply\n",
"Ip=Vp/Zp;                           //phase current\n",
"Il=sqrt(3)*Ip;                      //line current\n",
"printf('(a) Phase current = %.1f A\n\n',Ip);\n",
"printf('(b) For a delta connection Il = %.2f A',Il);"
   ]
   }
,
{
		   "cell_type": "markdown",
		   "metadata": {},
		   "source": [
			"## Example 20.6: Example_6.sce"
		   ]
		  },
  {
"cell_type": "code",
	   "execution_count": null,
	   "metadata": {
	    "collapsed": true
	   },
	   "outputs": [],
"source": [
"//Chapter 20, Problem 6\n",
"clc;\n",
"Il=15;                          //line current\n",
"Vl=415;                         //3 phase supply\n",
"f=50;                           //supply frequency\n",
"Ip=Il/sqrt(3);                  //phase current\n",
"Xc=Vl/Ip;                       //capacitive reactance\n",
"C=1/(2*%pi*f*Xc);               //capacitance \n",
"printf('Capacitance = %.3f uF',C*10^6);"
   ]
   }
,
{
		   "cell_type": "markdown",
		   "metadata": {},
		   "source": [
			"## Example 20.7: Example_7.sce"
		   ]
		  },
  {
"cell_type": "code",
	   "execution_count": null,
	   "metadata": {
	    "collapsed": true
	   },
	   "outputs": [],
"source": [
"//Chapter 20, Problem 7\n",
"clc;\n",
"R=3;                        //resistance of coil\n",
"Xl=4;                       //inductive reactance\n",
"Vl=415;                     //3 phase supply\n",
"Vp1=415;                    //line voltage\n",
"Vp=Vl/sqrt(3);              //phase voltage for star connection\n",
"Zp=sqrt(R^2+Xl^2);          //impedance per phase\n",
"Ip=Vp/Zp;                   //phase current\n",
"Ip1=Vp1/Zp;                 //phase voltage\n",
"Il1=Ip1*sqrt(3);            //line current\n",
"printf('(i) For star connection\n    (a) Line voltage = %d V\n    Phase voltage = %f V\n\n',Vl,Vp);\n",
"printf('     (b) Line current = %d V\n    Phase current = %f V\n\n\n',Ip,Ip);\n",
"printf('(ii) For delta connection\n     (a) Line voltage = %d V\n    Phase voltage = %d V\n\n',Vp1,Vp1);\n",
"printf('     (b) Line current = %f V\n    Phase current = %f V\n',Il1,Ip1);"
   ]
   }
,
{
		   "cell_type": "markdown",
		   "metadata": {},
		   "source": [
			"## Example 20.8: Example_8.sce"
		   ]
		  },
  {
"cell_type": "code",
	   "execution_count": null,
	   "metadata": {
	    "collapsed": true
	   },
	   "outputs": [],
"source": [
"//Chapter 20, Problem 8\n",
"clc;\n",
"Rp=12;                      //resistance\n",
"Vl=415;                     //3 phase supply\n",
"Vp=Vl/sqrt(3);              //phase voltage\n",
"Ip=Vp/Rp;                   //phase current\n",
"Il=Ip;\n",
"pf=1;                       //power factor\n",
"P=sqrt(3)*Vl*Il*pf;         //power dissipated\n",
"printf('Total power dissipated = %.2f kW',P/1000);"
   ]
   }
,
{
		   "cell_type": "markdown",
		   "metadata": {},
		   "source": [
			"## Example 20.9: Example_9.sce"
		   ]
		  },
  {
"cell_type": "code",
	   "execution_count": null,
	   "metadata": {
	    "collapsed": true
	   },
	   "outputs": [],
"source": [
"//Chapter 20, Problem 9\n",
"clc;\n",
"P=5000;                     //power\n",
"Vl=400;                     //line voltage\n",
"Il=8.6;                     //line current\n",
"pf=P/(sqrt(3)*Vl*Il);       //power factor\n",
"printf('Power factor = %.3f ',pf);"
   ]
   }
],
"metadata": {
		  "kernelspec": {
		   "display_name": "Scilab",
		   "language": "scilab",
		   "name": "scilab"
		  },
		  "language_info": {
		   "file_extension": ".sce",
		   "help_links": [
			{
			 "text": "MetaKernel Magics",
			 "url": "https://github.com/calysto/metakernel/blob/master/metakernel/magics/README.md"
			}
		   ],
		   "mimetype": "text/x-octave",
		   "name": "scilab",
		   "version": "0.7.1"
		  }
		 },
		 "nbformat": 4,
		 "nbformat_minor": 0
}
