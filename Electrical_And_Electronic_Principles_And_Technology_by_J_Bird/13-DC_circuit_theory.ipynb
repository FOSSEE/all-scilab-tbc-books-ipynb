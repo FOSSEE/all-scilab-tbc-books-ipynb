{
"cells": [
 {
		   "cell_type": "markdown",
	   "metadata": {},
	   "source": [
       "# Chapter 13: DC circuit theory"
	   ]
	},
{
		   "cell_type": "markdown",
		   "metadata": {},
		   "source": [
			"## Example 13.10: Example_10.sce"
		   ]
		  },
  {
"cell_type": "code",
	   "execution_count": null,
	   "metadata": {
	    "collapsed": true
	   },
	   "outputs": [],
"source": [
"//Chapter 13, Problem 10, figure 13.43\n",
"clc;\n",
"E1=4;                      //e.m.f source 1\n",
"E2=12;                      //e.m.f source 1\n",
"r1=0.5;                       //resistance in ohm\n",
"r2=2;                         //resistance in ohm\n",
"R3=5;                         //resistance in ohm\n",
"I1=(E1-(-E2))/(r1+r2);          //current in ampere\n",
"E=E1-(I1*r1);                   //p.d in volts\n",
"r=(r1*r2)/(r1+r2);              //resistance in ohm\n",
"I=E/(r+R3);\n",
"V=I*R3;\n",
"Ia=(E1-V)/r1;\n",
"Ib=(E2+V)/r2;\n",
"printf('(i) The 5ohm resistance is removed from the circuit as shown in Fig. 13.44(a)\n\n');\n",
"printf('(ii) Current I1 = %f A \n P.d across AB = %f V\n\n',I1,E);\n",
"printf('(iii) Removing the sources of e.m.f. gives the circuit shown in Fig. 13.44(b), from which, resistance\n r = %f ohm\n\n',r);\n",
"printf('(iv) The equivalent Thévenin’s circuit is shown in Fig. 13.44(c), from which, current,\n I = %f A\n\n',I);\n",
"printf('From Section 13.4(iii), Hence current \n Ia = %f A\n',Ia);\n",
"printf('From Fig. 13.44(d), Hence current \n Ib = %f A',Ib);"
   ]
   }
,
{
		   "cell_type": "markdown",
		   "metadata": {},
		   "source": [
			"## Example 13.13: Example_13.sce"
		   ]
		  },
  {
"cell_type": "code",
	   "execution_count": null,
	   "metadata": {
	    "collapsed": true
	   },
	   "outputs": [],
"source": [
"//Chapter 13, Problem 13, figure 13.54\n",
"clc;\n",
"E=10;                      //e.m.f source 1\n",
"R1=2;                         //resistance in ohm\n",
"R2=8;                         //resistance in ohm\n",
"R3=5;                         //resistance in ohm\n",
"R4=10;                         //resistance in ohm\n",
"Isc=E/R1;                       //short-circuit current in ampere\n",
"r=(R1*R2)/(R1+R2);\n",
"I=(r/(r+R3+R4))*Isc;\n",
"printf('(i) The branch containing the 10 resistance is short-circuited as shown in Fig. 13.55(a)\n\n');\n",
"printf('(ii) Fig. 13.55(b) is equivalent to Fig. 13.55(a).\n Isc = %f A\n\n',Isc);\n",
"printf('(iii) If the 10V source of e.m.f. is removed from Fig. 13.55(a) the resistance ‘looking-in’ at a break made between A and B is given by:\n');\n",
"printf('r = %f ohm\n\n',r);\n",
"printf('(iv) From the Norton equivalent network shown in Fig. 13.55(c) the current in the 10 resistance, by current division, is given by:\n');\n",
"printf('I = %f A',I);"
   ]
   }
,
{
		   "cell_type": "markdown",
		   "metadata": {},
		   "source": [
			"## Example 13.14: Example_14.sce"
		   ]
		  },
  {
"cell_type": "code",
	   "execution_count": null,
	   "metadata": {
	    "collapsed": true
	   },
	   "outputs": [],
"source": [
"//Chapter 13, Problem 14, figure 13.56\n",
"clc;\n",
"E1=4;                     //e.m.f source 1\n",
"E2=2;                     //e.m.f source 2\n",
"R1=2;                       //resistance in ohm\n",
"R2=1;                       //resistance in ohm\n",
"R3=4;                       //resistance in ohm\n",
"I1=E1/R1;                   //current in ampere\n",
"I2=E2/R2;                   //current in ampere\n",
"Isc=I1+I2;                 //short-circuit current\n",
"r=(R1*R2)/(R1+R2);\n",
"I=(r/(r+R3))*Isc;\n",
"printf('(i) The 4ohm branch is short-circuited as shown in Fig. 13.57(a)');\n",
"printf('(ii) From Fig. 13.57(a),\n  Isc = %f A\n\n',Isc);\n",
"printf('(iii) If the sources of e.m.f. are removed the resistance‘looking-in’ at a break made between A and B is given by:\n');\n",
"printf('r = %f ohm\n\n',r);\n",
"printf('(iv) From the Norton equivalent network shown inFig. 13.56(b) the current in the 4ohm resistance isgiven by:\n');\n",
"printf('I = %f A',I);"
   ]
   }
,
{
		   "cell_type": "markdown",
		   "metadata": {},
		   "source": [
			"## Example 13.15: Example_15.sce"
		   ]
		  },
  {
"cell_type": "code",
	   "execution_count": null,
	   "metadata": {
	    "collapsed": true
	   },
	   "outputs": [],
"source": [
"//Chapter 13, Problem 15, figure 13.58\n",
"clc;\n",
"E1=4;                   //e.m.f source 1\n",
"E2=12;                   //e.m.f source 2\n",
"R1=0.5;                     //resistance in ohm\n",
"R2=2;                     //resistance in ohm\n",
"R3=5;                     //resistance in ohm\n",
"I1=E1/R1;                   //current in ampere\n",
"I2=E2/R2;                   //current in ampere\n",
"Isc=I1-I2;              //short-circuit current\n",
"r=(R1*R2)/(R1+R2);\n",
"I=(r/(r+R3))*Isc;\n",
"printf('(i) The 5ohm branch is short-circuited as shown in Fig. 13.59(a)\n\n');\n",
"printf('(ii) From Fig. 13.59(a),\n Isc = %f A\n\n',Isc);\n",
"printf('(iii) If each source of e.m.f. is removed the resistance‘looking-in’ at a break made between A and B is given by:\n');\n",
"printf('r = %f ohm\n\n',r);\n",
"printf('(iv) From the Norton equivalent network shown in Fig. 13.59(b) the current in the 5 resistance is given by:\n');\n",
"printf('I = %f A',I);"
   ]
   }
,
{
		   "cell_type": "markdown",
		   "metadata": {},
		   "source": [
			"## Example 13.16: Example_16.sce"
		   ]
		  },
  {
"cell_type": "code",
	   "execution_count": null,
	   "metadata": {
	    "collapsed": true
	   },
	   "outputs": [],
"source": [
"//Chapter 13, Problem 16, figure 13.60\n",
"clc;\n",
"E1=24;                  //e.m.f source 1\n",
"R1=3;                    //resistance in ohm\n",
"R2=1.66;                    //resistance in ohm\n",
"R3=10;                    //resistance in ohm\n",
"R4=5;                    //resistance in ohm\n",
"R5=20;                    //resistance in ohm\n",
"Isc=E1/R4;             //short-circuit current\n",
"r=(R3*R4)/(R4+R3);\n",
"I=(r/(r+R2+R1))*Isc;\n",
"printf('(i) The branch containing the 3ohm resistance is shortcircuited as shown in Fig. 13.61(a)\n\n');\n",
"printf('(ii) From the equivalent circuit shownin Fig. 13.61(b), \nIsc = %f A\n\n',Isc);\n",
"printf('(iii) If the 24V source of e.m.f. is removed the resistance ‘looking-in’ at a break made betweenA and B is obtained from Fig. 13.61(c) and its equivalent circuit shown in Fig. 13.61(d) and is given by:\n');\n",
"printf('r = %f ohm\n\n',r);\n",
"printf('(iv) From the Norton equivalent network shown in Fig. 13.61(e) the current in the 3ohm resistance is given by: \n');\n",
"printf('I = %.1f A\n\n',I);"
   ]
   }
,
{
		   "cell_type": "markdown",
		   "metadata": {},
		   "source": [
			"## Example 13.17: Example_17.sce"
		   ]
		  },
  {
"cell_type": "code",
	   "execution_count": null,
	   "metadata": {
	    "collapsed": true
	   },
	   "outputs": [],
"source": [
"//Chapter 13, Problem 17, Figure 13.62\n",
"clc;\n",
"I1=15                             //current source in ampere\n",
"R1=6;                            //resistance in ohm\n",
"R2=4;                             //resistance in ohm\n",
"R3=2;                             //resistance in ohm\n",
"R4=8;                             //resistance in ohm\n",
"R5=7;                             //resistance in ohm\n",
"Isc=(R1/(R1+R2))*I1;             //short-circuit current\n",
"R12=R1+R2;\n",
"R45=R4+R5;\n",
"r=(R12*R45)/(R12+R45);\n",
"I=(R1/(R1+R3))*Isc;\n",
"printf('(i) The 2ohm resistance branch is short-circuited as shown in Fig. 13.63(a)\n\n');\n",
"printf('(ii) Fig. 13.63(b) is equivalent to Fig. 13.63(a).\n');\n",
"printf('Hence Isc = %f A\n\n',Isc);\n",
"printf('(iii) If the 15A current source is replaced by an opencircuit then from Fig. 13.63(c),');\n",
"printf('the resistance‘looking-in’ at a break made between A and B is given by (6+4)ohm in parallel with (8+7)ohm, i.e.\n r = %f ohm\n\n',r);\n",
"printf('(iv) From the Norton equivalent network shown in Fig. 13.63(d) the current in the 2ohm resistance isgiven by: \n');\n",
"printf('I = %f A',I);"
   ]
   }
,
{
		   "cell_type": "markdown",
		   "metadata": {},
		   "source": [
			"## Example 13.19: Example_19.sce"
		   ]
		  },
  {
"cell_type": "code",
	   "execution_count": null,
	   "metadata": {
	    "collapsed": true
	   },
	   "outputs": [],
"source": [
"//Chapter 13, Problem 19, figure 13.70\n",
"clc;\n",
"Isc=4;                       //short-circuit current\n",
"r=3;                        //resistance in ohm\n",
"E=Isc*r;                    //open-circuit voltage\n",
"printf('The open-circuit voltage E across terminals AB in Fig. 13.70 is given by:\n E = %d V\n\n',E);\n",
"printf('Hence the equivalent Thévenin circuit is as shown in Fig. 13.71');"
   ]
   }
,
{
		   "cell_type": "markdown",
		   "metadata": {},
		   "source": [
			"## Example 13.1: Example_1.sce"
		   ]
		  },
  {
"cell_type": "code",
	   "execution_count": null,
	   "metadata": {
	    "collapsed": true
	   },
	   "outputs": [],
"source": [
"//Chapter 13, Problem 1, Figure 13.3, \n",
"clc;\n",
"//branch currents in figure 13.3 (a)\n",
"I1=50-20;\n",
"I2=20+15;\n",
"I3=I1-120;\n",
"I4=15-I3;\n",
"I5=120-40;\n",
"disp('(a)   from Fig. 13.3(a).');\n",
"disp('For junction B:');\n",
"printf('I1 = %d A',I1);\n",
"disp('For junction C:');\n",
"printf('I2 = %d A',I2);\n",
"disp('For junction D:');\n",
"printf('I3 = %d A',I3);\n",
"disp('For junction E:');\n",
"printf('I4 = %d A',I4);\n",
"disp('For junction F:');\n",
"printf('I5 = %d A\n\n\n',I5);\n",
"disp('(b)   from Fig. 13.3(b).');\n",
"printf('Applying Kirchhoff’s voltage law and moving clockwise around the loop,\n');\n",
"printf('starting at point A, we get,\n');\n",
"//from figure 13.3(b)\n",
"I=2;\n",
"E=I*(2+2.5+1.5+1)-(3+6-4);\n",
"printf('emf E = %d V',E);"
   ]
   }
,
{
		   "cell_type": "markdown",
		   "metadata": {},
		   "source": [
			"## Example 13.20: Example_20.sce"
		   ]
		  },
  {
"cell_type": "code",
	   "execution_count": null,
	   "metadata": {
	    "collapsed": true
	   },
	   "outputs": [],
"source": [
"//Chapter 13, Problem 20, figure 13.72\n",
"clc;\n",
"E1=12;                            //e.m.f source 1\n",
"E2=24;                            //e.m.f source 2\n",
"r1=3;                               //resistance in ohm\n",
"r2=2;                                //resistance in ohm  \n",
"R=1.8;                             //resistance in ohm\n",
"Isc1=E1/r1;                          //short-circuit current\n",
"Isc2=E2/r2;                           //short-circuit current\n",
"Isc=Isc1+Isc2;                          //short-circuit current\n",
"r=(r1*r2)/(r1+r2);\n",
"E=Isc*r;\n",
"I=(E/(r+R));\n",
"printf('For the branch containing the 12V source, converting to a Norton equivalent circuit gives \nIsc1 = %d A\n',Isc1);\n",
"printf('For the branch containing the 24V source, converting to a Norton equivalent circuit gives \nIsc2 = %d A\n\n',Isc2);\n",
"printf('Thus Fig. 13.73(a) shows a network equivalent to Fig. 13.72');\n",
"printf('From Fig. 13.73(a) the total short-circuit current and the total resistance is given by\n');\n",
"printf('Isc = %f A\n r = %f ohm\n Thus Fig. 13.73(a) simplifies to Fig. 13.73(b).',Isc,r);\n",
"printf('The open-circuit voltage across AB of Fig. 13.73(b),\n E = %f V\n',E);\n",
"printf('Hence the Thévenin equivalent circuit is as shown in Fig. 13.73(c).');\n",
"printf('When the 1.8 resistance is connected betweenterminals A and B of Fig. 13.73(c) the current Iflowing is given by\n I = %f A',I);\n",
""
   ]
   }
,
{
		   "cell_type": "markdown",
		   "metadata": {},
		   "source": [
			"## Example 13.21: Example_21.sce"
		   ]
		  },
  {
"cell_type": "code",
	   "execution_count": null,
	   "metadata": {
	    "collapsed": true
	   },
	   "outputs": [],
"source": [
"//Chapter 13, Problem 21, figure 13.74\n",
"clc;\n",
"E1=10;                             //e.m.f source 1\n",
"r1=2000;                            //resistance in ohm\n",
"E2=6;                           //e.m.f source 2\n",
"r2=3000;                            //resistance in ohm\n",
"I1=1*10^-3;                         //current in ampere\n",
"R1=600;                               //resistance in ohm\n",
"R2=200;                            //resistance in ohm\n",
"Isc1=E1/r1;                        //short-circuit current\n",
"Isc2=E2/r2;                        //short-circuit current\n",
"Isc=Isc1+Isc2;                        //short-circuit current\n",
"R=(r1*r2)/(r1+r2);\n",
"Vcd=Isc*R;\n",
"Vef=I1*R1;\n",
"E=Vcd-Vef;\n",
"r=(R+R1);\n",
"I=E/(r+R2);\n",
"printf('For the branches containing the 10V sourceand 6V source, converting to a Norton equivalent network respectively gives\n');\n",
"printf('Isc1 = %f mA\nIsc2 = %f mA\n\n',Isc1*1000,Isc2*1000);\n",
"printf('Thus the network of Fig. 13.74 converts to Fig. 13.75(a).\n\n');\n",
"printf('Combining the 5mA and 2mA current sources gives the equivalent network of Fig. 13.75(b)\n');\n",
"printf('where the short-circuit current for the original two branches considered is 7mA and the resistance is \n = %f ohm\n\n',R);\n",
"printf('The open-circuit voltage across CD is \n = %f V\n',Vcd);\n",
"printf('The open-circuit voltage across EF is\n = %f V\n\n Thus Fig. 13.75(b) converts to Fig. 13.75(c).',Vef);\n",
"printf('Combining the two Thévenin circuits gives\n E = %f V\n r = %f ohm',E,r);\n",
"printf('\n\nHence the current I flowing in a 200 ohm resistance connected between A and B is given by\n');\n",
"printf(' I = %f mA',I*1000);"
   ]
   }
,
{
		   "cell_type": "markdown",
		   "metadata": {},
		   "source": [
			"## Example 13.22: Example_22.sce"
		   ]
		  },
  {
"cell_type": "code",
	   "execution_count": null,
	   "metadata": {
	    "collapsed": true
	   },
	   "outputs": [],
"source": [
"//Chapter 13, Problem 22, figure 13.82\n",
"clc;\n",
"E=6;                        //in volt\n",
"r=2.5;                      //in ohm\n",
"\n",
"//defining a function\n",
"function a = myfunction ( c,d,e)\n",
"b = c/(d+e);\n",
"a=b^2*e;\n",
"endfunction\n",
"\n",
"\n",
"for Rl=0:0.5:5\n",
"    P=myfunction(E,r,Rl)\n",
"    x=linspace(0,7,12);\n",
"y=linspace(0,5,12);\n",
"plot(Rl,P,'.');\n",
"xtitle('Rl vs P','Rl (ohm)','Power (watt)');\n",
"end\n",
"\n",
"printf('A graph of RL against P is shown\n');\n",
"printf('i.e. maximum power occurs when RL = R, which is what the maximum power transfer theorem states.');\n",
""
   ]
   }
,
{
		   "cell_type": "markdown",
		   "metadata": {},
		   "source": [
			"## Example 13.23: Example_23.sce"
		   ]
		  },
  {
"cell_type": "code",
	   "execution_count": null,
	   "metadata": {
	    "collapsed": true
	   },
	   "outputs": [],
"source": [
"//Chapter 13, Problem 23, figure 13.83\n",
"clc;\n",
"E=30;                          //e.m.f source\n",
"r=1.5;                        //resistance in ohm\n",
"Rl=r;\n",
"I=E/(r+Rl);                        //current in ampere\n",
"P=I^2*Rl;                       //power in watt\n",
"printf('The circuit diagram is shown in Fig. 13.84.\n\n');\n",
"printf('From the maximum power transfer theorem, for maximum power dissipation, RL =r\n\n');\n",
"printf('maximum power dissipated = %f W',P);"
   ]
   }
,
{
		   "cell_type": "markdown",
		   "metadata": {},
		   "source": [
			"## Example 13.24: Example_24.sce"
		   ]
		  },
  {
"cell_type": "code",
	   "execution_count": null,
	   "metadata": {
	    "collapsed": true
	   },
	   "outputs": [],
"source": [
"//Chapter 13, Problem 24, figure 13.85\n",
"clc;\n",
"R1=3;                                   //resistance in ohm\n",
"R2=12;                                   //resistance in ohm\n",
"E=15;                                       //e.m.f source\n",
"E1=(R2/(R1+R2))*E;                          //p.d in volts\n",
"r=(R1*R2)/(R1+R2);                        //resistance in ohm\n",
"Rl=r\n",
"I=E1/(r+Rl);                                //current in amperes\n",
"P=I^2*Rl;                                   //power in watt\n",
"printf('(i) Resistance RL is removed from the circuit as shown in Fig. 13.86(a)\n\n');\n",
"printf('ii) The p.d. across AB is the same as the p.d. across the 12 resistor. Hence\n');\n",
"printf('E = %d V\n\n',E1);\n",
"printf('(iii) Removing the source of e.m.f. gives the circuit of Fig. 13.86(b), from which, resistance,\n');\n",
"printf('r = %f ohm\n\n\n',r);\n",
"printf('(iv) The equivalent Thévenin’s circuit supplying terminalsAB is shown in Fig. 13.86(c), from which,\n');\n",
"printf('For maximum power, RL =r\n');\n",
"printf('Power, P, dissipated in load RL, = %d W',P);"
   ]
   }
,
{
		   "cell_type": "markdown",
		   "metadata": {},
		   "source": [
			"## Example 13.2: Example_2.sce"
		   ]
		  },
  {
"cell_type": "code",
	   "execution_count": null,
	   "metadata": {
	    "collapsed": true
	   },
	   "outputs": [],
"source": [
"//Chapter 13, Problem 2, Figure 13.4\n",
"clc;\n",
"A=[6 4;4 5];\n",
"B=[4;2];\n",
"X=A\B;\n",
"I1=X(1,1);                  //I1 and I2 is a branch current\n",
"I2=X(2,1);\n",
"disp('From figure 13.5');\n",
"disp('Using Kirchhoff’s current law and labeling the current directions on the circuit');\n",
"disp('Divide the circuit into two loops and apply Kirchhoff’s voltage law to each.');\n",
"printf('we get \n 6I1 + 4I2 = 4 \n 4I1 + 5I2 =2\n\n');\n",
"printf(' By solving both equations, we get \n');\n",
"printf('I1 = %.3f A\n',I1);\n",
"printf('I2 = %.3f A\n',I2);\n",
"printf('I1+I2 = %.3f A',I1+I2);"
   ]
   }
,
{
		   "cell_type": "markdown",
		   "metadata": {},
		   "source": [
			"## Example 13.3: Example_3.sce"
		   ]
		  },
  {
"cell_type": "code",
	   "execution_count": null,
	   "metadata": {
	    "collapsed": true
	   },
	   "outputs": [],
"source": [
"//Chapter 13, Problem 3, Figure 13.7\n",
"clc;\n",
"A=[0.5 2;-5 7];\n",
"B=[16;12];\n",
"X=A\B;\n",
"I1=X(1,1);                  //I1 and I2 is a branch current\n",
"I2=X(2,1);\n",
"disp('From figure 13.8');\n",
"disp('The network is divided into two loops');\n",
"printf('Applying Kirchhoff’s voltage law to both loops gives,');\n",
"printf('16 = 0.5I1 + 2I2 \n12 = −5I1 + 7I2\n\n\n');\n",
"printf('Solving these equation we get,\n');\n",
"printf('I1 = %.2f A\n',I1);\n",
"printf('I2 = %.2f A\n',I2);\n",
"printf('Current flowing in R3 = %.2f A',I1-I2);"
   ]
   }
,
{
		   "cell_type": "markdown",
		   "metadata": {},
		   "source": [
			"## Example 13.4: Example_4.sce"
		   ]
		  },
  {
"cell_type": "code",
	   "execution_count": null,
	   "metadata": {
	    "collapsed": true
	   },
	   "outputs": [],
"source": [
"//Chapter 13, Problem 4, Figure 13.9\n",
"clc;\n",
"I=8;                    //total current\n",
"A=[13 -11;16 32];\n",
"B=[54;112];\n",
"X=A\B;\n",
"I1=X(1,1)                  //I1 and I2 is a branch current\n",
"I2=X(2,1);\n",
"disp('from figure 13.10');\n",
"printf('Applying Kirchhoff’s voltage law to loop 1 and 2, we get');\n",
"printf('13I1 − 11I2 = 54\n 16I1 + 32I2 = 112\n\n\n');\n",
"printf('Solving the above simultaneous equations, we get\n');\n",
"printf('I1 = %d A\n',I1);\n",
"printf('I2 = %d A\n',I2);\n",
"printf('I-I1 = %d A\n',I-I1);\n",
"printf('I1-I2 = %d A\n',I1-I2);\n",
"printf('I-I1+I2 = %d A\n\n\n',I-I1+I2);\n",
"printf('Therefore,\n');\n",
"printf('Current flowing in the 2ohm resistor = %f A\n',I1);\n",
"printf('Current flowing in the 14ohm resistor = %f A\n',I-I1);\n",
"printf('Current flowing in the 32ohm resistor = %f A\n',I2);\n",
"printf('Current flowing in the 11ohm resistor = %f A\n',I1-I2);\n",
"printf('Current flowing in the 3ohm resistor = %f A\n',I-I1+I2);"
   ]
   }
,
{
		   "cell_type": "markdown",
		   "metadata": {},
		   "source": [
			"## Example 13.5: Example_5.sce"
		   ]
		  },
  {
"cell_type": "code",
	   "execution_count": null,
	   "metadata": {
	    "collapsed": true
	   },
	   "outputs": [],
"source": [
"//Chapter 13, Problem 5, figure 13.16\n",
"clc;\n",
"E1=4;                       //e.m.f source 1\n",
"E2=2;                       //e.m.f source 2\n",
"R=4                         //resistor\n",
"r1=2;                       //internal resistance 1\n",
"r2=1;                       //internal resistance 2\n",
"Rr2=(R*r2)/(R+r2);          //equivalent resistance \n",
"//calculating I2, I3, I4, I5, I6 by using current division formula\n",
"I1=E1/(r1+Rr2);\n",
"I2=(r2/(R+r2))*I1;\n",
"I3=(R/(R+r2))*I1;\n",
"Rr1=(R*r1)/(R+r1);\n",
"I4=E2/(Rr1+r2);\n",
"I5=(r1/(R+r1))*I4;\n",
"I6=(R/(R+r1))*I4;\n",
"printf('Redraw the original circuit with sourceE2 removed,being replaced by r2 only, as shown in Fig. 13.17(a)\n\n');\n",
"printf('From the equivalent circuit of Fig. 13.17(a) and (b),\n');\n",
"printf('I1 = %.3f A\n',I1);\n",
"printf('I2 = %.3f A\n',I2);\n",
"printf('I3 = %.3f A\n\n\n',I3);\n",
"printf('Redraw the original circuit with sourceE1 removed, being replaced by r1 only, as shown in Fig. 13.18(a)\n\n');\n",
"printf('From the equivalent circuit of Fig. 13.18(a) and (b)\n')\n",
"printf('I4 = %.3f A\n',I4);\n",
"printf('I5 = %.3f A\n',I5);\n",
"printf('I6 = %.3f A\n\n',I6);\n",
"printf('Superimpose Fig. 13.18(a) on to Fig. 13.17(a) as shown in Fig. 13.19\n\n');\n",
"printf('Resultant current flowing through source 1 = %.3f A (discharging)\n',I1-I6);\n",
"printf('Resultant current flowing through source 2 = %.3f A (charging)\n',I4-I3);\n",
"printf('Resultant current flowing through resistor R = %.4f A\n\n',I2+I5);\n",
"printf('The resultant currents with their directions are shown in Fig. 13.20');"
   ]
   }
,
{
		   "cell_type": "markdown",
		   "metadata": {},
		   "source": [
			"## Example 13.6: Example_6.sce"
		   ]
		  },
  {
"cell_type": "code",
	   "execution_count": null,
	   "metadata": {
	    "collapsed": true
	   },
	   "outputs": [],
"source": [
"//Chapter 13, Problem 6, figure 13.21\n",
"clc;\n",
"E1=8;                       //e.m.f source 1\n",
"E2=3;                       //e.m.f source 2\n",
"R=18                        //resistor\n",
"r1=3;                       //internal resistance 1\n",
"r2=2;                       //internal resistance 2\n",
"Rr2=(R*r2)/(R+r2);          //equivalent resistance \n",
"//calculating I2, I3, I4, I5, I6 by using current division formula\n",
"I1=E1/(r1+Rr2);\n",
"I3=(r2/(R+r2))*I1;\n",
"I2=(R/(R+r2))*I1;\n",
"Rr1=(R*r1)/(R+r1);\n",
"I4=E2/(Rr1+r2);\n",
"I6=(r1/(R+r1))*I4;\n",
"I5=(R/(R+r1))*I4;\n",
"I36=I3-I6;\n",
"V=I36*R;\n",
"printf('Redraw the original circuit with source E2 removed,being replaced by r2 only, as shown in Fig. 13.22(a)\n\n');\n",
"printf('From the equivalent circuit of Fig. 13.22(a) and (b),\n');\n",
"printf('I1 = %.3f A\n',I1);\n",
"printf('I2 = %.3f A\n',I2);\n",
"printf('I3 = %.3f A\n\n\n',I3);\n",
"printf('Redraw the original circuit with sourceE1 removed, being replaced by r1 only, as shown in Fig. 13.23(a)\n\n');\n",
"printf('From the equivalent circuit of Fig. 13.23(a) and (b)\n')\n",
"printf('I4 = %.3f A\n',I4);\n",
"printf('I5 = %.3f A\n',I5);\n",
"printf('I6 = %.3f A\n\n',I6);\n",
"printf('Superimpose Fig. 13.23(a) on to Fig. 13.22(a) as shown in Fig. 13.24\n\n');\n",
"printf('Resultant current flowing through 18 ohm resistor = %.3f A\n',I36);\n",
"printf('P.d. across the 18ohm resistor = %.3f V\n',V);\n",
"printf('Resultant current flowing in the 8V battery = %.3f A (discharging)\n',I1+I5);\n",
"printf('Resultant current flowing in the 3V battery = %.3f A(charging)\n\n',I2+I4);\n",
"printf('The resultant currents with their directions are shown in Fig. 13.24');"
   ]
   }
,
{
		   "cell_type": "markdown",
		   "metadata": {},
		   "source": [
			"## Example 13.7: Example_7.sce"
		   ]
		  },
  {
"cell_type": "code",
	   "execution_count": null,
	   "metadata": {
	    "collapsed": true
	   },
	   "outputs": [],
"source": [
"//Chapter 13, Problem 7, figure 13.37\n",
"clc;\n",
"E1=10;                       //e.m.f source 1\n",
"R1=2;                        //resistor 1\n",
"R3=5;                         //resistor 2\n",
"R2=8;                        //resistor 3\n",
"R=10;                        //resistor 4\n",
"I1=E1/(R1+R2);\n",
"V2=I1*R2;\n",
"r=R3+((R1*R2)/(R1+R2));\n",
"I=V2/(R+r);\n",
"printf('(i) The 10 resistance is removed from the circuit as shown in Fig. 13.38(a)\n\n');\n",
"printf('(ii) There is no current flowing in the 5 resistor and current I1 is given by\n');\n",
"printf('I1 = %.3f A\n',I1);\n",
"printf('P.d across R2 is given by\n E = %.3f V\n\n',V2);\n",
"printf('(iii) Removing the source of e.m.f. gives the circuit of Fig. 13.38(b) Resistance,\n');\n",
"printf('r = %.3f ohm\n\n',r);\n",
"printf('(iv) The equivalent Thévenin’s circuit is shown in Fig. 13.38(c)');\n",
"printf('Hence the current flowing in the 10 resistor of Fig. 13.37 is \n');\n",
"printf('I = %.3f A',I);"
   ]
   }
,
{
		   "cell_type": "markdown",
		   "metadata": {},
		   "source": [
			"## Example 13.8: Example_8.sce"
		   ]
		  },
  {
"cell_type": "code",
	   "execution_count": null,
	   "metadata": {
	    "collapsed": true
	   },
	   "outputs": [],
"source": [
"//Chapter 13, Problem 8, figure 13.39\n",
"clc;\n",
"E1=12;                       //e.m.f source \n",
"R1=1;                       //resistance in ohm\n",
"R3=4;                         //resistance in ohm\n",
"R2=5;                       //resistance in ohm\n",
"R=0.8;                       //resistance in ohm\n",
"I1=E1/(R1+R2+R3);               //current in amperes\n",
"V1=R3*I1;\n",
"Req=R1+R2;                          //equivalent resistance\n",
"r=(R3*Req)/(R3+Req);                         //equivalent resistance\n",
"I=V1/(r+R);\n",
"printf('(i) The 0.8ohm resistor is removed from the circuit as shown in Fig. 13.40(a).\n\n');\n",
"printf('(ii) Current I1 = %f A \n P.d. across 4ohm resistor = %f V\n\n\n',I1,V1);\n",
"printf('(iii) Removing the source of e.m.f. gives the circuitshown in Fig. 13.40(b). The equivalent circuitof Fig. 13.40(b) is shown in Fig. 13.40(c), from which, resistance\n');\n",
"printf('r = %f ohm \n\n',r);\n",
"printf('(iv) The equivalent Thévenin’s circuit is shown in Fig. 13.40(d), from which, current\n');\n",
"printf('Current in the 0.8ohm resistor I = %f A',I);"
   ]
   }
,
{
		   "cell_type": "markdown",
		   "metadata": {},
		   "source": [
			"## Example 13.9: Example_9.sce"
		   ]
		  },
  {
"cell_type": "code",
	   "execution_count": null,
	   "metadata": {
	    "collapsed": true
	   },
	   "outputs": [],
"source": [
"//Chapter 13, Problem 9, figure 13.41\n",
"clc;\n",
"E1=4;                       //e.m.f source 1\n",
"E2=2;                       //e.m.f source 2\n",
"r1=2;                        //resistance in ohm\n",
"r2=1;                        //resistance in ohm\n",
"R=4;                        //resistance in ohm\n",
"I1=(E1-E2)/(r1+r2);         //current in amperes\n",
"E=E1-(I1*r1);\n",
"r=(r1*r2)/(r1+r2);\n",
"I=E/(r+R);\n",
"P=I^2*R;                        //power dissipated in watt\n",
"printf('(i) The 4ohm resistor is removed from the circuit as shown in Fig. 13.42(a)\n\n');\n",
"printf('(ii) Current I1 = %f A \n P.d across AB = %f V\n\n',I1,E);\n",
"printf('(iii) Removing the sources of e.m.f. gives the circuit shown in Fig. 13.42(b), from which, resistance\n r = %f ohm\n\n',r);\n",
"printf('(iv) The equivalent Thévenin’s circuit is shown in Fig. 13.42(c), from which, current,\n I = %f A\n\n',I);\n",
"printf('Power dissipated in the 4 resistor, \nP = %f W',P);"
   ]
   }
],
"metadata": {
		  "kernelspec": {
		   "display_name": "Scilab",
		   "language": "scilab",
		   "name": "scilab"
		  },
		  "language_info": {
		   "file_extension": ".sce",
		   "help_links": [
			{
			 "text": "MetaKernel Magics",
			 "url": "https://github.com/calysto/metakernel/blob/master/metakernel/magics/README.md"
			}
		   ],
		   "mimetype": "text/x-octave",
		   "name": "scilab",
		   "version": "0.7.1"
		  }
		 },
		 "nbformat": 4,
		 "nbformat_minor": 0
}
