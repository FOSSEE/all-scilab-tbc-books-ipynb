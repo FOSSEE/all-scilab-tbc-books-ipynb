{
"cells": [
 {
		   "cell_type": "markdown",
	   "metadata": {},
	   "source": [
       "# Chapter 10: Electrical measuring instruments and measurements "
	   ]
	},
{
		   "cell_type": "markdown",
		   "metadata": {},
		   "source": [
			"## Example 10.10: Example_10.sce"
		   ]
		  },
  {
"cell_type": "code",
	   "execution_count": null,
	   "metadata": {
	    "collapsed": true
	   },
	   "outputs": [],
"source": [
"//Chapter 10, Problem 10, figure 10.20\n",
"clc;\n",
"tc = 100E-6;            // in s/cm\n",
"Vc = 2;                 // in V/cm\n",
"w = 5;                  // in cm ( width of one complete cycle for both waveform )\n",
"h1 = 2;                 // in cm ( peak-to-peak height of the display )\n",
"h2 = 2.5;               // in cm ( peak-to-peak height of the display )\n",
"\n",
"//calculation:\n",
"T = w*tc\n",
"f = 1/T\n",
"ptpv1 = h1*Vc\n",
"Vrms1 = ptpv1/(2^0.5)\n",
"ptpv2 = h2*Vc\n",
"Vrms2 = ptpv2/(2^0.5)\n",
"phi = 0.5*360/w\n",
"\n",
"printf('\n\n (a)Frequency, f = %f kHz',f/1000)\n",
"printf('\n\n (b1)r.m.s voltage of 1st waveform = %.2f V',Vrms1)\n",
"printf('\n\n (b2)r.m.s voltage of 2nd waveform = %.2f V',Vrms2)\n",
"printf('\n\n (c)Phase difference = %.0f°',phi)"
   ]
   }
,
{
		   "cell_type": "markdown",
		   "metadata": {},
		   "source": [
			"## Example 10.12: Example_12.sce"
		   ]
		  },
  {
"cell_type": "code",
	   "execution_count": null,
	   "metadata": {
	    "collapsed": true
	   },
	   "outputs": [],
"source": [
"//Chapter 10, Problem 12, figure 10.30\n",
"clc;\n",
"rP1 = 3;            // ratio of two powers\n",
"rP2 = 20;           // ratio of two powers\n",
"rP3 = 400;          // ratio of two powers\n",
"rP4 = 1/20;         // ratio of two powers\n",
"//calculation:\n",
"X1 = 10*log10(3)\n",
"X2 = 10*log10(20)\n",
"X3 = 10*log10(400)\n",
"X4 = 10*log10(1/20)\n",
"\n",
"printf('\n\n (a)decibel power ratio for power ratio 3 = %.2f dB ',X1)\n",
"printf('\n\n (b)decibel power ratio for power ratio 20 = %.1f dB ',X2)\n",
"printf('\n\n (c)decibel power ratio for power ratio 400 = %.1f dB ',X3)\n",
"printf('\n\n (d)decibel power ratio for power ratio 1/20 = %.1f dB ',X4)"
   ]
   }
,
{
		   "cell_type": "markdown",
		   "metadata": {},
		   "source": [
			"## Example 10.13: Example_13.sce"
		   ]
		  },
  {
"cell_type": "code",
	   "execution_count": null,
	   "metadata": {
	    "collapsed": true
	   },
	   "outputs": [],
"source": [
"//Chapter 10, Problem 13\n",
"clc;\n",
"I2=20;                  //current in amperes\n",
"I1=5;                   //current in amperes\n",
"d=20*log10(I2/I1);      //in decibel\n",
"printf('decibel current ratio = %d dB',d);"
   ]
   }
,
{
		   "cell_type": "markdown",
		   "metadata": {},
		   "source": [
			"## Example 10.14: Example_14.sce"
		   ]
		  },
  {
"cell_type": "code",
	   "execution_count": null,
	   "metadata": {
	    "collapsed": true
	   },
	   "outputs": [],
"source": [
"//Chapter 10, Problem 14\n",
"clc;\n",
"P1=100;                 //input power\n",
"P2=6;                   //ouput power\n",
"d=10*log10(P2/P1);          //decibel power ratio\n",
"printf('decibel power loss = %f dB',d);"
   ]
   }
,
{
		   "cell_type": "markdown",
		   "metadata": {},
		   "source": [
			"## Example 10.15: Example_15.sce"
		   ]
		  },
  {
"cell_type": "code",
	   "execution_count": null,
	   "metadata": {
	    "collapsed": true
	   },
	   "outputs": [],
"source": [
"//Chapter 10, Problem 15\n",
"clc;\n",
"d=14;                       //amplifier gain\n",
"P1=8e-3;                    //input power\n",
"P2=10^(14/10)*P1;           //calculating output power using logarithm\n",
"printf('Output power = %f mW',P2*1000);"
   ]
   }
,
{
		   "cell_type": "markdown",
		   "metadata": {},
		   "source": [
			"## Example 10.16: Example_16.sce"
		   ]
		  },
  {
"cell_type": "code",
	   "execution_count": null,
	   "metadata": {
	    "collapsed": true
	   },
	   "outputs": [],
"source": [
"//Chapter 10, Problem 16\n",
"clc;\n",
"g1=12;              //gain of stage 1\n",
"g2=15;              //gain of stage 2\n",
"g3=-8;              //gain of stage 3\n",
"P=g1+g2+g3;         //Power ratio\n",
"P1=10^(P/10);       //calculating overall power gain\n",
"printf('Overall power gain (P2/P1) = %f ',P1);"
   ]
   }
,
{
		   "cell_type": "markdown",
		   "metadata": {},
		   "source": [
			"## Example 10.17: Example_17.sce"
		   ]
		  },
  {
"cell_type": "code",
	   "execution_count": null,
	   "metadata": {
	    "collapsed": true
	   },
	   "outputs": [],
"source": [
"//Chapter 10, Problem 17\n",
"clc;\n",
"V2=4;                   //output voltage\n",
"V=27;                   //voltage gain in decibels\n",
"V1=V2/(10^(V/20));      //calculating input voltage using logarithm\n",
"printf('Input voltage = %f V',V1);"
   ]
   }
,
{
		   "cell_type": "markdown",
		   "metadata": {},
		   "source": [
			"## Example 10.18: Example_18.sce"
		   ]
		  },
  {
"cell_type": "code",
	   "execution_count": null,
	   "metadata": {
	    "collapsed": true
	   },
	   "outputs": [],
"source": [
"//Chapter 10, Problem 18\n",
"clc;\n",
"BC=100;                 //resistance between point B and C\n",
"DA=400;                 //resistance between point D and A\n",
"CD=10;                  //resistance between point C and D\n",
"Rx=BC*DA/CD;            //calculating unknown resistance using balance equation\n",
"printf('unknown resistance = %f K ohms',Rx/1000);"
   ]
   }
,
{
		   "cell_type": "markdown",
		   "metadata": {},
		   "source": [
			"## Example 10.19: Example_19.sce"
		   ]
		  },
  {
"cell_type": "code",
	   "execution_count": null,
	   "metadata": {
	    "collapsed": true
	   },
	   "outputs": [],
"source": [
"//Chapter 10, Problem 19\n",
"clc;\n",
"E1=1.0186;              //emf of standard cell\n",
"I1=400e-3;              //balance length when using standard cell\n",
"I2=650e-3;              //balance length when using dry cell\n",
"E2=E1*(I2/I1);          //calculating emf of dry cell\n",
"printf('e.m.f of dry cell = %f V',E2);"
   ]
   }
,
{
		   "cell_type": "markdown",
		   "metadata": {},
		   "source": [
			"## Example 10.1: Example_1.sce"
		   ]
		  },
  {
"cell_type": "code",
	   "execution_count": null,
	   "metadata": {
	    "collapsed": true
	   },
	   "outputs": [],
"source": [
"//Chapter 10, Problem 1, figure 10.5\n",
"clc;\n",
"Ia=40*10^-3;                //maximum permissible current \n",
"I=50;                       //total circuit current\n",
"ra=25;                      //resistance of instrument\n",
"Is=I-Ia;                    //current flowing in shunt\n",
"V=Ia*ra;                    //voltage\n",
"Rs=V/Is;                    //resistance in shunt\n",
"printf('Shunt resistance Rs = %f miliohm\n\n\n',Rs*1000);\n",
"printf('A resistance of value 20.02 miliohm needs to be connected in parallel with the instrument.')"
   ]
   }
,
{
		   "cell_type": "markdown",
		   "metadata": {},
		   "source": [
			"## Example 10.20: Example_20.sce"
		   ]
		  },
  {
"cell_type": "code",
	   "execution_count": null,
	   "metadata": {
	    "collapsed": true
	   },
	   "outputs": [],
"source": [
"//Chapter 10, Problem 20, figure 10.35\n",
"clc;\n",
"//resistance of coil\n",
"R1=400; \n",
"R2=400;\n",
"R3=5000;\n",
"//value of capacitance\n",
"C=7.5e-6;\n",
"//calculating the value of inductance\n",
"L=R1*R2*C;\n",
"//calculating the value unknown resistance\n",
"r=(R1*R2)/R3;\n",
"printf('Inductance = %f H\n\n\n',L);\n",
"printf('Resistance = %d ohm',r);"
   ]
   }
,
{
		   "cell_type": "markdown",
		   "metadata": {},
		   "source": [
			"## Example 10.21: Example_21.sce"
		   ]
		  },
  {
"cell_type": "code",
	   "execution_count": null,
	   "metadata": {
	    "collapsed": true
	   },
	   "outputs": [],
"source": [
"//Chapter 10, Problem 20, figure 10.35\n",
"clc;\n",
"fr=400e3;               //resonant frequency\n",
"Qf=100;                 //Q factor\n",
"C=400e-12;              //capacitance\n",
"L=((2*%pi*fr)^2*C)^-1;      //calculating inductance \n",
"R=2*%pi*fr*L/Qf;            //calculating resistance\n",
"printf('(a) Inductance = %f mH\n\n\n',L*1000);\n",
"printf('(b) Resistance of inductor = %f ohm',R);"
   ]
   }
,
{
		   "cell_type": "markdown",
		   "metadata": {},
		   "source": [
			"## Example 10.22: Example_22.sce"
		   ]
		  },
  {
"cell_type": "code",
	   "execution_count": null,
	   "metadata": {
	    "collapsed": true
	   },
	   "outputs": [],
"source": [
"//Chapter 10, Problem 22\n",
"clc\n",
"I=2.5e-3                        //current in amperes\n",
"R=5000                          //resistance in ohm\n",
"e1=0.4                          //error tolerance\n",
"e2=0.5                          //error tolerance\n",
"V=I*R\n",
"emax=e1+e2\n",
"V1=(emax/100)*V\n",
"printf('V = %.1f V\n accuracy = %.2f V\n',V,V1)"
   ]
   }
,
{
		   "cell_type": "markdown",
		   "metadata": {},
		   "source": [
			"## Example 10.23: Example_23.sce"
		   ]
		  },
  {
"cell_type": "code",
	   "execution_count": null,
	   "metadata": {
	    "collapsed": true
	   },
	   "outputs": [],
"source": [
"//Chapter 10, Problem 23\n",
"clc\n",
"V=36.5                          //voltage\n",
"V1=50                           //max voltage of voltameter\n",
"I1=10                           //max current of ammeter\n",
"I=6.25                          //current in amperes\n",
"ev=2\n",
"R=V/I\n",
"ev1=(2/100)*V1\n",
"ev2=ev1*100/V\n",
"ei1=(ev/100)*I1\n",
"ei2=ei1*100/I\n",
"eiv=ev2+ei2\n",
"r=eiv*R/100\n",
"printf('Maximum relative error = %.2f percent or %.2f ohm\n\n',eiv,r)\n",
"printf('Resistance = %.2f ohm',R)"
   ]
   }
,
{
		   "cell_type": "markdown",
		   "metadata": {},
		   "source": [
			"## Example 10.24: Example_24.sce"
		   ]
		  },
  {
"cell_type": "code",
	   "execution_count": null,
	   "metadata": {
	    "collapsed": true
	   },
	   "outputs": [],
"source": [
"//Chapter 10, Problem 24\n",
"clc\n",
"R2=100                          //resistamce in ohm\n",
"R3=432.5                        //resistamce in ohm\n",
"R1=1000                         //resistamce in ohm\n",
"e1=1                            //error of R1 in percent\n",
"e2=0.5                          //error of R2 in percent\n",
"e3=0.2                          //error of R3 in percent\n",
"Rx=R2*R3/R1\n",
"et=e1+e2+e3\n",
"et1=et*Rx/100\n",
"printf('Unknown resistance = %.2f ohm \n\n',Rx)\n",
"printf('Maximum relative error = %.1f percent\n',et)\n",
"printf('Maximum relative erroe in ohm = %.2f ohm',et1)"
   ]
   }
,
{
		   "cell_type": "markdown",
		   "metadata": {},
		   "source": [
			"## Example 10.2: Example_2.sce"
		   ]
		  },
  {
"cell_type": "code",
	   "execution_count": null,
	   "metadata": {
	    "collapsed": true
	   },
	   "outputs": [],
"source": [
"//Chapter 10, Problem 2, figure 10.6\n",
"clc;\n",
"I=0.008;                       //total circuit current\n",
"ra=10;                      //resistance of instrument\n",
"V=100;                      //total  p.d\n",
"Va=I*ra;                    //calculating voltage across moving coil instrument\n",
"Rm=(V-(I*ra))/I;            //calculating value of multiplier\n",
"printf('Multiplier Rm = %f K.ohm\n\n\n',Rm/1000);\n",
"printf('A resistance of value 12.49 k ohm needs to be connected in series with the instrument.');"
   ]
   }
,
{
		   "cell_type": "markdown",
		   "metadata": {},
		   "source": [
			"## Example 10.3: Example_3.sce"
		   ]
		  },
  {
"cell_type": "code",
	   "execution_count": null,
	   "metadata": {
	    "collapsed": true
	   },
	   "outputs": [],
"source": [
"//Chapter 10, Problem 3, figure 10.9\n",
"clc;\n",
"S=10000;                //voltmeter sensitivity\n",
"V=100;                  //total voltage\n",
"fsd=200;                //full scale deflection\n",
"R1=250;                 //load 1 \n",
"R2=2e6;                 //load 2\n",
"Rv=S*fsd;               //resistance of voltmeter,\n",
"Iv=V/Rv;                //current flowing in voltmeter\n",
"P=V*Iv;                 //calculating power dissipated by voltmeter\n",
"Ir1=V/R1;               //calculating current in load 1\n",
"Ir2=V/R2;               ////calculating current in load 2\n",
"P1=V*Ir1;               //calculating Power dissipated in load 1\n",
"P2=V*Ir2;               ////calculating Power dissipated in load 2\n",
"printf('Power dissipated by voltmeter = %f mW\n\n\n',P*1000);\n",
"printf('(a) Power dissipated in load 250 ohm = %f W\n\n\n',P1);\n",
"printf('(b) Power dissipated in load 2 M.ohm = %f mW\n\n\n',P2*1000);"
   ]
   }
,
{
		   "cell_type": "markdown",
		   "metadata": {},
		   "source": [
			"## Example 10.4: Example_4.sce"
		   ]
		  },
  {
"cell_type": "code",
	   "execution_count": null,
	   "metadata": {
	    "collapsed": true
	   },
	   "outputs": [],
"source": [
"//Chapter 10, Problem 4, figure 10.10\n",
"clc;\n",
"R=500;              //load resistance\n",
"V=10;               //supply voltage\n",
"ra=50;              //ammeter resistance\n",
"Ie=V/R;             //calculating expected current\n",
"Ia=V/(R+ra);        //calculating actual current\n",
"P=Ia^2*ra;          //calculating power dissipated in the ammeter\n",
"Pl=Ia^2*R;          //calculating power dissipated in load resistor\n",
"printf('(a) Expected ammeter reading = %f mA\n\n\n',Ie*1000);\n",
"printf('(b) Actual ammeter reading = %f mA\n\n\n',Ia*1000);\n",
"printf('(c) Power dissipated in the ammeter = %f mW\n\n\n',P*1000);\n",
"printf('(d) Power dissipated in the load resistor = %f mW\n\n\n',Pl*1000);"
   ]
   }
,
{
		   "cell_type": "markdown",
		   "metadata": {},
		   "source": [
			"## Example 10.5: Example_5.sce"
		   ]
		  },
  {
"cell_type": "code",
	   "execution_count": null,
	   "metadata": {
	    "collapsed": true
	   },
	   "outputs": [],
"source": [
"//Chapter 10, Problem 5, figure 10.11, figure 10.12\n",
"clc;\n",
"V=100;                  //f.s.d of voltmeter\n",
"S=1600;                 //sensitivity\n",
"R1=40e3;                //resistor 1 \n",
"R2=60e3;                //resistor 2\n",
"V1=(R1/(R1+R2))*V;      //voltage between A and B\n",
"R=V*S;                  //resistance of voltmeter\n",
"R3=((R1*R)/(R1+R));     //equivalent resistance of parallel network\n",
"V2=(R3/(R2+R3))*V;      //voltage indicated by voltmeter\n",
"printf('(a) Value of voltage V1 with the voltmeter not connected = %f V\n\n\n',V1);\n",
"printf('(b) Voltage between A and B = %f V\n\n\n',V2);"
   ]
   }
,
{
		   "cell_type": "markdown",
		   "metadata": {},
		   "source": [
			"## Example 10.6: Example_6.sce"
		   ]
		  },
  {
"cell_type": "code",
	   "execution_count": null,
	   "metadata": {
	    "collapsed": true
	   },
	   "outputs": [],
"source": [
"//Chapter 10, Problem 6, figure 10.13\n",
"clc;\n",
"I=20;                   //current flows through a load\n",
"R=2;                    //load \n",
"r=0.01;                 //wattmeter coil resistance\n",
"P=I^2*R;                //power dissipated in the load \n",
"Rt=R+r;                 //total resistance\n",
"P1=I^2*Rt;              //wattmeter reading\n",
"printf('(a) Power dissipated in the load = %f W\n\n\n',P);\n",
"printf('(b) Wattmeter reading = %f W',P1);"
   ]
   }
,
{
		   "cell_type": "markdown",
		   "metadata": {},
		   "source": [
			"## Example 10.7: Example_7.sce"
		   ]
		  },
  {
"cell_type": "code",
	   "execution_count": null,
	   "metadata": {
	    "collapsed": true
	   },
	   "outputs": [],
"source": [
"//Chapter 10, Problem 7, figure 10.17\n",
"clc;\n",
"tc = 100e-6;             // in s/cm\n",
"Vc = 20;                 // in V/cm\n",
"w = 5.2;                  // in cm ( width of one complete cycle )\n",
"h = 3.6;                  // in cm ( peak-to-peak height of the display )\n",
"\n",
"//calculation:\n",
"T = w*tc\n",
"f = 1/T\n",
"ptpv = h*Vc\n",
"\n",
"printf('\n (a)The periodic time, T = %.2f ms\n', T*10^3)\n",
"printf('\n (b)Frequency, f = %.2f kHz\n',f/1000)\n",
"printf('\n (c)The peak-to-peak voltage = %.0f V\n',ptpv)"
   ]
   }
,
{
		   "cell_type": "markdown",
		   "metadata": {},
		   "source": [
			"## Example 10.8: Example_8.sce"
		   ]
		  },
  {
"cell_type": "code",
	   "execution_count": null,
	   "metadata": {
	    "collapsed": true
	   },
	   "outputs": [],
"source": [
"//Chapter 10, Problem 8, figure 10.18\n",
"clc;\n",
"tc = 50e-3;                 // in s/cm\n",
"Vc = 0.2;                   // in V/cm\n",
"w = 3.5;                    // in cm ( width of one complete cycle )\n",
"h = 3.4;                    // in cm ( peak-to-peak height of the display )\n",
"//calculation:\n",
"T = w*tc\n",
"f = 1/T\n",
"ptpv = h*Vc\n",
"printf('\n\n (a)The periodic time, T = %.2f ms',T*10^3)\n",
"printf('\n\n (b)Frequency, f = %.2f Hz',f)\n",
"printf('\n\n (c)The peak-to-peak voltage = %.2f V',ptpv)"
   ]
   }
,
{
		   "cell_type": "markdown",
		   "metadata": {},
		   "source": [
			"## Example 10.9: Example_9.sce"
		   ]
		  },
  {
"cell_type": "code",
	   "execution_count": null,
	   "metadata": {
	    "collapsed": true
	   },
	   "outputs": [],
"source": [
"//Chapter 10, Problem 9, figure 10.19\n",
"clc;\n",
"tc = 500e-6;            // in s/cm\n",
"Vc = 5;                 // in V/cm\n",
"w = 4;                  // in cm ( width of one complete cycle )\n",
"h = 5;                  // in cm ( peak-to-peak height of the display )\n",
"//calculation:\n",
"T = w*tc\n",
"f = 1/T\n",
"ptpv = h*Vc\n",
"Amp = ptpv/2\n",
"Vrms = Amp/(2^0.5)\n",
"printf('\n\n (a)Frequency, f = %.0f Hz',f)\n",
"printf('\n\n (b)the peak-to-peak voltage = %.0f V',ptpv)\n",
"printf('\n\n (c)Amplitude = %.1f V',Amp)\n",
"printf('\n\n (d)r.m.s voltage = %.2f V',Vrms)"
   ]
   }
],
"metadata": {
		  "kernelspec": {
		   "display_name": "Scilab",
		   "language": "scilab",
		   "name": "scilab"
		  },
		  "language_info": {
		   "file_extension": ".sce",
		   "help_links": [
			{
			 "text": "MetaKernel Magics",
			 "url": "https://github.com/calysto/metakernel/blob/master/metakernel/magics/README.md"
			}
		   ],
		   "mimetype": "text/x-octave",
		   "name": "scilab",
		   "version": "0.7.1"
		  }
		 },
		 "nbformat": 4,
		 "nbformat_minor": 0
}
