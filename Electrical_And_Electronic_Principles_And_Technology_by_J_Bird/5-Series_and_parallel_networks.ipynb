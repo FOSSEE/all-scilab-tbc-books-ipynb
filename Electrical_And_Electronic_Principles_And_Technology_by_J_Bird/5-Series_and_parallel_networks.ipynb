{
"cells": [
 {
		   "cell_type": "markdown",
	   "metadata": {},
	   "source": [
       "# Chapter 5: Series and parallel networks"
	   ]
	},
{
		   "cell_type": "markdown",
		   "metadata": {},
		   "source": [
			"## Example 5.10: Example_10.sce"
		   ]
		  },
  {
"cell_type": "code",
	   "execution_count": null,
	   "metadata": {
	    "collapsed": true
	   },
	   "outputs": [],
"source": [
"//Chapter 5, Problem 10, Figure 5.20\n",
"clc;\n",
"R1=1;\n",
"R2=2.2;\n",
"R3=3;\n",
"R4=6;\n",
"R5=18;\n",
"R6=4;\n",
"//R3, R4 and R5 are connected in parallel, their equivalent resistance R7 is\n",
"Z=(1/R3)+(1/R4)+(1/R5);\n",
"R7=1/Z;\n",
"//circuit is now equivalent to four resistors in series\n",
"R=R1+R2+R7+R6;\n",
"printf('Equivalent circuit resistance = %f ohm',R);"
   ]
   }
,
{
		   "cell_type": "markdown",
		   "metadata": {},
		   "source": [
			"## Example 5.11: Example_11.sce"
		   ]
		  },
  {
"cell_type": "code",
	   "execution_count": null,
	   "metadata": {
	    "collapsed": true
	   },
	   "outputs": [],
"source": [
"//Chapter 5, Problem 11, Figure 5.21\n",
"clc;\n",
"R1=10;\n",
"R2=20;\n",
"R3=30;\n",
"V=240;\n",
"//Resistor connected in series\n",
"Rs=R1+R2+R3;\n",
"Is=V/Rs;\n",
"//Resistor connected in parallel\n",
"Z=(1/R1)+(1/R2)+(1/R3);\n",
"Rp=1/Z;\n",
"Ip=V/Rp;\n",
"printf('Supply current when resistor in series = %f A\n\n\n',Is);\n",
"printf('Supply current when resistor in parallel = %f A\n\n\n',Ip);"
   ]
   }
,
{
		   "cell_type": "markdown",
		   "metadata": {},
		   "source": [
			"## Example 5.12: Example_12.sce"
		   ]
		  },
  {
"cell_type": "code",
	   "execution_count": null,
	   "metadata": {
	    "collapsed": true
	   },
	   "outputs": [],
"source": [
"//Chapter 5, Problem 12, Figure 5.24\n",
"clc;\n",
"R1=2.5;\n",
"R2=6;\n",
"R3=2;\n",
"R4=4;\n",
"V=200;\n",
"//Calculating equivalent resistance Rx of R2 and R3 in parallel\n",
"Rx=(R2*R3)/(R2+R3);\n",
"//Calculating equivalent resistance RT of R1, Rx and R4 in series\n",
"Rt=R1+R4+Rx;\n",
"//Supply current\n",
"I=V/Rt;\n",
"//Calculating current through each resistor\n",
"I2=(R3/(R2+R3))*I;\n",
"I3=(R2/(R2+R3))*I;\n",
"//Calculating p.d across each resistor\n",
"V1=I*R1;\n",
"Vx=I*Rx;\n",
"V4=I*R4;\n",
"disp('(a)')\n",
"printf('Supply current = %f A\n\n\n',I);\n",
"disp('(b)')\n",
"printf('Current through R1 and R4 = %f A\n\n\n',I);\n",
"printf('Current through R2 = %f A\n\n\n',I2);\n",
"printf('Current through R3 = %f A\n\n\n',I3);\n",
"disp('(c)')\n",
"printf('p.d. across R1 = %f V\n\n\n',V1);\n",
"printf('p.d. across R2 and R3 = %f V\n\n\n',Vx);\n",
"printf('p.d. across R4 = %f V\n\n\n',V4);"
   ]
   }
,
{
		   "cell_type": "markdown",
		   "metadata": {},
		   "source": [
			"## Example 5.13: Example_13.sce"
		   ]
		  },
  {
"cell_type": "code",
	   "execution_count": null,
	   "metadata": {
	    "collapsed": true
	   },
	   "outputs": [],
"source": [
"//Chapter 5, Problem 13, Figure 5.26\n",
"clc;\n",
"R1=15;                      //in ohms\n",
"R2=10;                      //in ohms\n",
"R3=38;                      //in ohms\n",
"V=250;                      //in volts\n",
"Pt=2500;                    //in watts\n",
"I=Pt/V;                     //current in amperes\n",
"Rt=V/I;\n",
"r=(R1*R2)/(R1+R2);          //equivalent resistance of R1 and R2\n",
"V1=I*r;\n",
"V2=V-V1;\n",
"i=V2/R3;\n",
"rx=V2/i;\n",
"I1=(R2/(R1+R2))*I;\n",
"I2=(R1/(R1+R2))*I;\n",
"printf('\n(a) Value of resistor Rx = %d ohm\n\n',rx)\n",
"printf('\n(b) Current flowing in each of the four resistors \n I1 = %d A\n I2 = %d A\n I3 = I4 = %d A',I1,I2,i);"
   ]
   }
,
{
		   "cell_type": "markdown",
		   "metadata": {},
		   "source": [
			"## Example 5.14: Example_14.sce"
		   ]
		  },
  {
"cell_type": "code",
	   "execution_count": null,
	   "metadata": {
	    "collapsed": true
	   },
	   "outputs": [],
"source": [
"//Chapter 5, Problem 14, Figure 5.27\n",
"clc;\n",
"//Resistance R1 R2 R3 R4 R5\n",
"R1=2;\n",
"R2=9;\n",
"R3=1.4;\n",
"R4=2;\n",
"R5=8;\n",
"V=17;\n",
"R45=(R4*R5)/(R4+R5);\n",
"R34=R3+R45;\n",
"R23=(R2*R34)/(R2+R34);\n",
"R=R1+R23;\n",
"//the circuit is gradually reduced in stages as shown in Fig. 5.28(a)–(d).\n",
"I=V/R;\n",
"I1=(R2/(R2+R34))*I;\n",
"Ix=(R1/(R1+R5))*I1;\n",
"printf('From Fig. 5.27,\n\n');\n",
"printf('Current Ix = %f A',Ix);"
   ]
   }
,
{
		   "cell_type": "markdown",
		   "metadata": {},
		   "source": [
			"## Example 5.15: Example_15.sce"
		   ]
		  },
  {
"cell_type": "code",
	   "execution_count": null,
	   "metadata": {
	    "collapsed": true
	   },
	   "outputs": [],
"source": [
"//Chapter 5, Problem 15\n",
"clc;\n",
"r1=1000                             //in ohms\n",
"r2=4000                             //in ohms\n",
"r3=5000                             //in ohms\n",
"r4=1500                             //in ohms\n",
"V=24                                //in volts\n",
"rt=(((r1+r2)*r3)/(r1+r2+r3))+r4      //equivalent resistance of r1,r2,r3\n",
"it=V/rt;                            //total circuit current\n",
"i1=(r3/(r1+r2+r3))*it;              //current across top branch\n",
"v=i1*r2;                            //volt drop across r2\n",
"i2=((r1+r2)/(r1+r2+r3))*it;         //current across r3\n",
"p=it^2*r4;                          //power in wats\n",
"printf('(a) volt drop across 4 k resistor = %d V\n\n',v)\n",
"printf('(b) Current through the 5 k resistor = %d mA\n\n',i1*10e2)\n",
"printf('(c) Power in the 1.5 k resistor = %d mW\n\n',p*10e2)"
   ]
   }
,
{
		   "cell_type": "markdown",
		   "metadata": {},
		   "source": [
			"## Example 5.16: Example_16.sce"
		   ]
		  },
  {
"cell_type": "code",
	   "execution_count": null,
	   "metadata": {
	    "collapsed": true
	   },
	   "outputs": [],
"source": [
"//Chapter 5, Problem 16\n",
"clc;\n",
"R=150;              //Combined resistance\n",
"R1=3*R;                 //Calculating individual resistance\n",
"printf('The resistance of one lamp = %f ohm',R1);"
   ]
   }
,
{
		   "cell_type": "markdown",
		   "metadata": {},
		   "source": [
			"## Example 5.1: Example_1.sce"
		   ]
		  },
  {
"cell_type": "code",
	   "execution_count": null,
	   "metadata": {
	    "collapsed": true
	   },
	   "outputs": [],
"source": [
"//Chapter 5, Problem 1, Figure 5.2\n",
"clc;\n",
"V1=5;                                                     //assigning the value to parameters\n",
"V2=2;\n",
"V3=6;\n",
"I=4;\n",
"V=V1+V2+V3;                                            //Calculating the Battery voltage\n",
"printf('Battery Voltage = %f V\n\n',V);               // Displaying the value\n",
"R=V/I;                                                //Calculating the total resistance\n",
"printf('Total circuit resistance = %f ohm\n\n',R);\n",
"R1=V1/I;                                                //Calculating the invidual resistance\n",
"R2=V2/I;\n",
"R3=V3/I;\n",
"printf('Resistance R1 = %f ohm\n\n',R1);\n",
"printf('Resistance R2 = %f ohm\n\n',R2);\n",
"printf('Resistance R3 = %f ohm\n\n',R3);"
   ]
   }
,
{
		   "cell_type": "markdown",
		   "metadata": {},
		   "source": [
			"## Example 5.2: Example_2.sce"
		   ]
		  },
  {
"cell_type": "code",
	   "execution_count": null,
	   "metadata": {
	    "collapsed": true
	   },
	   "outputs": [],
"source": [
"// Problem 2, Figure 5.3\n",
"clc;\n",
"R=100;                              //Assigning the values to variable\n",
"V=25;\n",
"V1=10;\n",
"V2=4;\n",
"V3=V-V1-V2;                        //Calculating the voltage across Resistor R3\n",
"printf('Potential difference across R3 = %f V\n\n\n',V3);\n",
"I=V/R;                             //Calculating the current\n",
"printf('Current flowing through each resistor = %f A\n\n\n',I);\n",
"R2=V2/I;                           //Calculating the resistance of R2\n",
"printf('Resistance R2 = %f ohm\n\n\n',R2);"
   ]
   }
,
{
		   "cell_type": "markdown",
		   "metadata": {},
		   "source": [
			"## Example 5.3: Example_3.sce"
		   ]
		  },
  {
"cell_type": "code",
	   "execution_count": null,
	   "metadata": {
	    "collapsed": true
	   },
	   "outputs": [],
"source": [
"//Chapter 5, Problem 3, Figure 5.4\n",
"clc;\n",
"R1=4;\n",
"R2=9;\n",
"R3=11;\n",
"V=12;\n",
"R=R1+R2+R3;                      //Calculating total resistance R\n",
"I=V/R;\n",
"printf('Current flowing through circuit = %f A\n\n\n',I);\n",
"V1=I*R2;\n",
"printf('Potential difference across R2 = %f V\n\n\n',V1);\n",
"P=(I^2)*R3;                                      //Calculating power dissipated in the 11 ohm resistor\n",
"printf('Power dissipated in R3 = %f W\n\n\n',P);"
   ]
   }
,
{
		   "cell_type": "markdown",
		   "metadata": {},
		   "source": [
			"## Example 5.4: Example_4.sce"
		   ]
		  },
  {
"cell_type": "code",
	   "execution_count": null,
	   "metadata": {
	    "collapsed": true
	   },
	   "outputs": [],
"source": [
"//Chapter 5, Problem 4, Figure 5.6\n",
"clc;\n",
"V=(6/(6+4))*50;                           //Calculating the voltage by voltage divider rule\n",
"printf('Voltage = %f V\n\n\n',V);"
   ]
   }
,
{
		   "cell_type": "markdown",
		   "metadata": {},
		   "source": [
			"## Example 5.5: Example_5.sce"
		   ]
		  },
  {
"cell_type": "code",
	   "execution_count": null,
	   "metadata": {
	    "collapsed": true
	   },
	   "outputs": [],
"source": [
"//Chapter 5, Problem 5, Figure 5.8\n",
"clc;\n",
"V=24;\n",
"I=3;\n",
"R1=2;\n",
"T=50;\n",
"R=V/I;                                                      //Calculating total resistance\n",
"R2=R-R1;                                                         //Calculating the value of unknown resistance\n",
"printf('Value of unknown resistance = %f ohm\n\n\n',R2);\n",
"V1=I*R1;                                                         //Calculating the voltage across 2 ohm resistor\n",
"printf('Potential difference across 2 ohm resistor = %f V\n\n\n',V1);\n",
"E=(V*I)*T;\n",
"printf('Energy used = %f Wh',E);"
   ]
   }
,
{
		   "cell_type": "markdown",
		   "metadata": {},
		   "source": [
			"## Example 5.6: Example_6.sce"
		   ]
		  },
  {
"cell_type": "code",
	   "execution_count": null,
	   "metadata": {
	    "collapsed": true
	   },
	   "outputs": [],
"source": [
"//Chapter 5, Problem 6, Figure 5.13\n",
"clc;\n",
"//Potential difference across R1 is the same as the supply voltage V\n",
"R1=5;\n",
"R3=20;\n",
"I=11;\n",
"I1=8;\n",
"//Hence supply voltage is\n",
"V=R1*I1;\n",
"I3=V/R3;\n",
"//Reading on ammeter,\n",
"printf('Reading on ammeter = %f A\n\n\n',I3);\n",
"I2=I-I1-I3;\n",
"R2=V/I2;\n",
"//Current flowing through R2\n",
"printf('Resistance R2 = %f ohm\n\n\n',R2);"
   ]
   }
,
{
		   "cell_type": "markdown",
		   "metadata": {},
		   "source": [
			"## Example 5.7: Example_7.sce"
		   ]
		  },
  {
"cell_type": "code",
	   "execution_count": null,
	   "metadata": {
	    "collapsed": true
	   },
	   "outputs": [],
"source": [
"//Chapter 5, Problem 7, Figure 5.14\n",
"clc;\n",
"R1=3;\n",
"R2=6;\n",
"V=12;\n",
"//The total circuit resistance R is given by,\n",
"R=(R2*R1)/(R1+R2);\n",
"printf('Total circuit resistance = %f ohm\n\n\n',R);\n",
"//Current in the 3 ohm resistor is given by,\n",
"I1=V/R1;\n",
"printf('Current in the 3 ohm resistor = %f A\n\n\n',I1);"
   ]
   }
,
{
		   "cell_type": "markdown",
		   "metadata": {},
		   "source": [
			"## Example 5.8: Example_8.sce"
		   ]
		  },
  {
"cell_type": "code",
	   "execution_count": null,
	   "metadata": {
	    "collapsed": true
	   },
	   "outputs": [],
"source": [
"//Chapter 5, Problem 8, Figure 5.15\n",
"clc;\n",
"//Resistors R1, R2, R3 in ohm\n",
"R1=10;\n",
"R2=20;\n",
"R3=60;\n",
"//Current through R2 in ampere\n",
"I2=3;\n",
"//Calculating voltage and current\n",
"V=I2*R2;\n",
"I1=V/R1;\n",
"I3=V/R3;\n",
"I=I1+I2+I3;\n",
"printf('(a) Supply voltage = %f V\n\n\n',V);\n",
"printf('(b) Current I = %f A',I)"
   ]
   }
],
"metadata": {
		  "kernelspec": {
		   "display_name": "Scilab",
		   "language": "scilab",
		   "name": "scilab"
		  },
		  "language_info": {
		   "file_extension": ".sce",
		   "help_links": [
			{
			 "text": "MetaKernel Magics",
			 "url": "https://github.com/calysto/metakernel/blob/master/metakernel/magics/README.md"
			}
		   ],
		   "mimetype": "text/x-octave",
		   "name": "scilab",
		   "version": "0.7.1"
		  }
		 },
		 "nbformat": 4,
		 "nbformat_minor": 0
}
