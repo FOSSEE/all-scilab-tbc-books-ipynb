{
"cells": [
 {
		   "cell_type": "markdown",
	   "metadata": {},
	   "source": [
       "# Chapter 6: Capacitors and capacitance"
	   ]
	},
{
		   "cell_type": "markdown",
		   "metadata": {},
		   "source": [
			"## Example 6.10: Example_10.sce"
		   ]
		  },
  {
"cell_type": "code",
	   "execution_count": null,
	   "metadata": {
	    "collapsed": true
	   },
	   "outputs": [],
"source": [
"//Chapter 6, Problem 10\n",
"clc;\n",
"C1=6*10^-6;                     //Capacitance of capacitor1\n",
"C2=4*10^-6;                     //Capacitance of capacitor2\n",
"C3=C1+C2;                       //Calculating equivalent capacitance in parallel\n",
"C4=(C1*C2)/(C1+C2);             //Calculating equivalent capacitance in series\n",
"disp('(a)');\n",
"printf('In parallel, equivalent capacitance = %f uF',C3*10^6);\n",
"disp('(b)')\n",
";printf('In series, equivalent capacitance = %f uF',C4*10^6);"
   ]
   }
,
{
		   "cell_type": "markdown",
		   "metadata": {},
		   "source": [
			"## Example 6.11: Example_11.sce"
		   ]
		  },
  {
"cell_type": "code",
	   "execution_count": null,
	   "metadata": {
	    "collapsed": true
	   },
	   "outputs": [],
"source": [
"//Chapter 6, Problem 11\n",
"clc;\n",
"C=12*10^-6;                 //Equivalent capacitance\n",
"C1=30*10^-6;                //Capacitance of capacitor1\n",
"C2=(C*C1)/(C1-C);           //Calculating capacitance of capacitor2\n",
"printf('Unknown capacitance = %f uF',C2*10^6);"
   ]
   }
,
{
		   "cell_type": "markdown",
		   "metadata": {},
		   "source": [
			"## Example 6.12: Example_12.sce"
		   ]
		  },
  {
"cell_type": "code",
	   "execution_count": null,
	   "metadata": {
	    "collapsed": true
	   },
	   "outputs": [],
"source": [
"//Chapter 6, Problem 12\n",
"clc;\n",
"C1=1*10^-6;                     //Capacitance\n",
"C2=3*10^-6;\n",
"C3=5*10^-6;\n",
"C4=6*10^-6;\n",
"V=100;                              //Voltage across capacitor\n",
"C=C1+C2+C3+C4;                  //Calculating equivalent capacitance in series\n",
"Q=C*V;                          //Calcuating total charge\n",
"Q1=C1*V;                        //Calculating charge on each capacitor\n",
"Q2=C2*V;\n",
"Q3=C3*V;\n",
"Q4=C4*V;\n",
"disp('(a)');\n",
"printf('Equivalent capacitance C for parallel = %f uF\n\n\n',C*10^6);\n",
"disp('(b)');\n",
"printf('Total charge = %f mC\n\n',Q*1000);\n",
"disp('(2)');\n",
"disp('Charge on each capacitor');\n",
"printf('Charge on capacitor1 = %f mC\n',Q1*1000);\n",
"printf('Charge on capacitor2 = %f mC\n',Q2*1000);\n",
"printf('Charge on capacitor3 = %f mC\n',Q3*1000);\n",
"printf('Charge on capacitor4 = %f mC\n',Q4*1000);"
   ]
   }
,
{
		   "cell_type": "markdown",
		   "metadata": {},
		   "source": [
			"## Example 6.13: Example_13.sce"
		   ]
		  },
  {
"cell_type": "code",
	   "execution_count": null,
	   "metadata": {
	    "collapsed": true
	   },
	   "outputs": [],
"source": [
"//Chapter 6, Problem 13, Figure 6.8\n",
"clc;\n",
"C1=3*10^-6;                      //Capacitance on each capacitor\n",
"C2=6*10^-6;\n",
"C3=12*10^-6;\n",
"V=350;                          //Total voltage across capacitors\n",
"C=(1/C1)+(1/C2)+(1/C3);         //Calculating equivalent capacitance\n",
"C=1/C;\n",
"Q=C*V;\n",
"V1=Q/C1;                    //Calculating voltage across each capacitor\n",
"V2=Q/C2;\n",
"V3=Q/C3;\n",
"disp('(a)');\n",
"printf('Equivalent circuit capacitance = %f uF\n\n\n',C*10^6);\n",
"disp('(b)');\n",
"printf('Charge on each capacitor = %f uF\n\n',Q*10^6);\n",
"disp('(c)');\n",
"printf('Voltage across 3uF capacitor = %f V\n',V1);\n",
"printf('Voltage across 6uF capacitor = %f V\n',V2);\n",
"printf('Voltage across 12uF capacitor = %f V\n',V3);"
   ]
   }
,
{
		   "cell_type": "markdown",
		   "metadata": {},
		   "source": [
			"## Example 6.15: Example_15.sce"
		   ]
		  },
  {
"cell_type": "code",
	   "execution_count": null,
	   "metadata": {
	    "collapsed": true
	   },
	   "outputs": [],
"source": [
"//Chapter 6, Problem 15\n",
"clc;\n",
"V=1.25*10^3;                    //Voltage across terminals\n",
"C=0.2*10^-6;                    //Capacitance of capacitor\n",
"E=50*10^6;                      //Dielectric strength\n",
"e0=8.85*10^-12;\n",
"er=6;\n",
"d=(V/E);                                //Calculating distance between plates\n",
"A=(C*d)/(e0*er);                        //Calculating area of plates\n",
"disp('(a)')\n",
"printf('Thickness of the mica needed = %f mm\n\n',d*10^3);\n",
"disp('(b)')\n",
"printf('Area of a plate = %f cm2',A*10^4);"
   ]
   }
,
{
		   "cell_type": "markdown",
		   "metadata": {},
		   "source": [
			"## Example 6.16: Example_16.sce"
		   ]
		  },
  {
"cell_type": "code",
	   "execution_count": null,
	   "metadata": {
	    "collapsed": true
	   },
	   "outputs": [],
"source": [
"//Chapter 6, Problem 16\n",
"clc;\n",
"C=3*10^-6;                      //Capacitance\n",
"V=400;                      //Voltage across capacitor\n",
"t=10*10^-6;                 //Time in sec\n",
"W=(1/2)*C*V^2;              //Calculating energy stored\n",
"P=W/t;                      //Calculating power\n",
"disp('(a)');\n",
"printf('Energy stored in a 3 μF capacitor = %f J\n\n',W);\n",
"disp('(b)');\n",
"printf('Average power = %f kW',P/1000);"
   ]
   }
,
{
		   "cell_type": "markdown",
		   "metadata": {},
		   "source": [
			"## Example 6.17: Example_17.sce"
		   ]
		  },
  {
"cell_type": "code",
	   "execution_count": null,
	   "metadata": {
	    "collapsed": true
	   },
	   "outputs": [],
"source": [
"//Chapter 6, Problem 17\n",
"clc;\n",
"C=12*10^-6;                 //Capacitance\n",
"W=4;                           //Energy stored\n",
"V=sqrt((2*W)/C);            //Calculating voltage to which the capacitor must be charged\n",
"printf('Potential difference = %f V',V);"
   ]
   }
,
{
		   "cell_type": "markdown",
		   "metadata": {},
		   "source": [
			"## Example 6.18: Example_18.sce"
		   ]
		  },
  {
"cell_type": "code",
	   "execution_count": null,
	   "metadata": {
	    "collapsed": true
	   },
	   "outputs": [],
"source": [
"//Chapter 6, Problem 18\n",
"clc;\n",
"Q=10*10^-3;             //Charge\n",
"W=1.2;                  //Energy stored\n",
"V=(2*W)/Q;              //Calculating voltage\n",
"C=Q/V;                  //Calculating capacitance\n",
"disp('(a)');\n",
"printf('Voltage = %f V\n\n',V);\n",
"disp('(b)');\n",
"printf('Capacitance = %f uF',C*10^6);"
   ]
   }
,
{
		   "cell_type": "markdown",
		   "metadata": {},
		   "source": [
			"## Example 6.1: Example_1.sce"
		   ]
		  },
  {
"cell_type": "code",
	   "execution_count": null,
	   "metadata": {
	    "collapsed": true
	   },
	   "outputs": [],
"source": [
"//Chapter 6, Problem 1\n",
"clc;\n",
"C=4*10^-6;                  //Capacitance in farad\n",
"Q=5*10^-3;                  //Charge in coulomb\n",
"C1=50*10^-12;               //Capacitance in farad\n",
"V1=2000;                    //Voltage\n",
"V=Q/C;\n",
"Q1=C*V;\n",
"disp('(a)')\n",
"printf('Potential difference V = %f V\n\n\n',V);\n",
"disp('(b)')\n",
"printf('Charge Q = %f C',Q1);"
   ]
   }
,
{
		   "cell_type": "markdown",
		   "metadata": {},
		   "source": [
			"## Example 6.2: Example_2.sce"
		   ]
		  },
  {
"cell_type": "code",
	   "execution_count": null,
	   "metadata": {
	    "collapsed": true
	   },
	   "outputs": [],
"source": [
"//Chapter 6,Problem 2\n",
"clc;\n",
"I=4;                    //Current in ampere\n",
"t=3*10^-3;              //time in seconds\n",
"C=20*10^-6;             //Capacitance in farad\n",
"Q=I*t;                  //Calculating Charge\n",
"V=Q/C;                  //Calculating voltage\n",
"printf('p.d. between the plates = %f V',V);"
   ]
   }
,
{
		   "cell_type": "markdown",
		   "metadata": {},
		   "source": [
			"## Example 6.3: Example_3.sce"
		   ]
		  },
  {
"cell_type": "code",
	   "execution_count": null,
	   "metadata": {
	    "collapsed": true
	   },
	   "outputs": [],
"source": [
"//Chapter 6,Problem 3\n",
"clc;\n",
"C=5*10^-6;              //Charge in coulomb\n",
"I=2*10^-3;              //Current in ampere\n",
"V=800;                  //Voltage\n",
"Q=C*V;                  //Calculating charge\n",
"t=Q/I;                  //Calculating time of current 2mA to discharge\n",
"printf('The capacitor can provide an average discharge current of 2mA = %f sec',t);"
   ]
   }
,
{
		   "cell_type": "markdown",
		   "metadata": {},
		   "source": [
			"## Example 6.4: Example_4.sce"
		   ]
		  },
  {
"cell_type": "code",
	   "execution_count": null,
	   "metadata": {
	    "collapsed": true
	   },
	   "outputs": [],
"source": [
"//Chapter 6, Problem 4\n",
"clc;\n",
"l=20*10^-2;\n",
"b=40*10^-2;\n",
"Q=0.2*10^-6;                //Charge\n",
"V=0.25*10^3;                //Voltage\n",
"d=5*10^-3;                  //Distance between plates\n",
"A=l*b;                      //Calculating area of restangular plated\n",
"D=Q/A;                      //Calculating electric flux density\n",
"E=V/d;                      //Calculating electric field strength\n",
"printf('Electric fulx density D = %f C/m2 \n\n\n',D);\n",
"printf('Electric field strength E = %f V/m',E);"
   ]
   }
,
{
		   "cell_type": "markdown",
		   "metadata": {},
		   "source": [
			"## Example 6.5: Example_5.sce"
		   ]
		  },
  {
"cell_type": "code",
	   "execution_count": null,
	   "metadata": {
	    "collapsed": true
	   },
	   "outputs": [],
"source": [
"//Chapter 6, Problem 5\n",
"clc;\n",
"D=2*10^-6;                      //Flux density\n",
"e0=8.85*10^-12;                 //permittivity of free space\n",
"er=5;                           //relative permittivity\n",
"E=D/(e0*er);                    //Calculating voltage gradient\n",
"disp('Since D/E =ε0εr , hence voltage gradient,');\n",
"printf('\n\n\n Voltage gradient = %f V/m',E);"
   ]
   }
,
{
		   "cell_type": "markdown",
		   "metadata": {},
		   "source": [
			"## Example 6.6: Example_6.sce"
		   ]
		  },
  {
"cell_type": "code",
	   "execution_count": null,
	   "metadata": {
	    "collapsed": true
	   },
	   "outputs": [],
"source": [
"//Chapter 6, Problem 6\n",
"clc;\n",
"V=200;                  //Voltage across plates\n",
"d=0.8*10^-3;            //Distance between plates\n",
"E=V/d;                  //Calculating electric field density\n",
"e=8.85*10^-12;\n",
"er=2.3;\n",
"D1=E*e;                     //Calculating electric flux density for air\n",
"D2=E*e*er;                  //Calculating electric flux density for polythene\n",
"printf('Electric field strength = %f kV/m\n\n',E/1000);\n",
"disp('(a)');\n",
"printf('Electric flux density = %f μC/m2\n\n',D1*10^6);\n",
"disp('(b)');\n",
"printf('Electric flux density = %f μC/m2',D2*10^6);"
   ]
   }
,
{
		   "cell_type": "markdown",
		   "metadata": {},
		   "source": [
			"## Example 6.7: Example_7.sce"
		   ]
		  },
  {
"cell_type": "code",
	   "execution_count": null,
	   "metadata": {
	    "collapsed": true
	   },
	   "outputs": [],
"source": [
"//Chapter 6, Problem 7\n",
"clc;\n",
"Q=1.2*10^-6;                //Charge\n",
"A=4*10^-4;                  //Area of plates\n",
"d=0.1*10^-3;                //Distance between plates\n",
"e0=8.85*10^-12;             \n",
"er=100;\n",
"C=(e0*er*A)/d;              //Calculating capacitance\n",
"V=Q/C;                         //Calculating potential difference\n",
"disp('(a)');\n",
"printf('Capacitance = %f pF\n\n\n',C*10^12);\n",
"disp('(b)');\n",
"printf('p.d. between the plates = %f V',V);"
   ]
   }
,
{
		   "cell_type": "markdown",
		   "metadata": {},
		   "source": [
			"## Example 6.8: Example_8.sce"
		   ]
		  },
  {
"cell_type": "code",
	   "execution_count": null,
	   "metadata": {
	    "collapsed": true
	   },
	   "outputs": [],
"source": [
"//Chapter 6, Problem 8\n",
"clc\n",
"A=800e-4                    //area of paper\n",
"C=4425e-12                  //capacitance in pF\n",
"e0=8.85e-12                 //permitivity of free space\n",
"er=2.5                      //dielectric\n",
"d=(e0*er*A)/C               //thickness of paper\n",
"printf('The thickness of the paper = %.1f mm',d*10^3)"
   ]
   }
,
{
		   "cell_type": "markdown",
		   "metadata": {},
		   "source": [
			"## Example 6.9: Example_9.sce"
		   ]
		  },
  {
"cell_type": "code",
	   "execution_count": null,
	   "metadata": {
	    "collapsed": true
	   },
	   "outputs": [],
"source": [
"//Chapter 6, Problem 9\n",
"clc;\n",
"n=19;                           //No of interleaved plates\n",
"n=n-1;\n",
"A=(75*10^-3)*(75*10^-3);            //Calculating area of plates\n",
"er=5;\n",
"e0=8.85*10^-12;\n",
"d=0.2*10^-3;                //Distance between plates\n",
"C=(e0*er*A*n)/d;            //Calculating capacitance of the capacitor\n",
"printf('Capacitance of capacitor = %f nF',C*10^9);"
   ]
   }
],
"metadata": {
		  "kernelspec": {
		   "display_name": "Scilab",
		   "language": "scilab",
		   "name": "scilab"
		  },
		  "language_info": {
		   "file_extension": ".sce",
		   "help_links": [
			{
			 "text": "MetaKernel Magics",
			 "url": "https://github.com/calysto/metakernel/blob/master/metakernel/magics/README.md"
			}
		   ],
		   "mimetype": "text/x-octave",
		   "name": "scilab",
		   "version": "0.7.1"
		  }
		 },
		 "nbformat": 4,
		 "nbformat_minor": 0
}
