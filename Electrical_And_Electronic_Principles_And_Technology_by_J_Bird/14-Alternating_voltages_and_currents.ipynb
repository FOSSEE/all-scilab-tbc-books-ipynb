{
"cells": [
 {
		   "cell_type": "markdown",
	   "metadata": {},
	   "source": [
       "# Chapter 14: Alternating voltages and currents"
	   ]
	},
{
		   "cell_type": "markdown",
		   "metadata": {},
		   "source": [
			"## Example 14.10: Example_10.sce"
		   ]
		  },
  {
"cell_type": "code",
	   "execution_count": null,
	   "metadata": {
	    "collapsed": true
	   },
	   "outputs": [],
"source": [
"//Chapter 14, Problem 10\n",
"clc;\n",
"Vm=75;                          //peak voltage\n",
"w=200*%pi;\n",
"phi=0.25;\n",
"Vpp=2*Vm;                       //peak to peak voltage\n",
"Vrms=0.707*Vm;                  //rms voltage\n",
"T=(2*%pi)/w;                    //time period\n",
"f=1/T;                          //frequency\n",
"angle=phi*(180/%pi);\n",
"printf('Comparing v=75 sin((200*pi*t) −0.25) with the general expression, we get\n');\n",
"printf('(a) Amplitude or peak value = %d V\n\n',Vm);\n",
"printf('(b) Peak-to-peak value = %d V\n\n',Vpp);\n",
"printf('(c) The r.m.s. value = %d V\n\n',Vrms);\n",
"printf('(d) The periodic time = %f sec\n\n',T);\n",
"printf('(e) Frequency f = %d Hz\n\n',f);\n",
"printf('(d) Phase angle = %f deg',angle);"
   ]
   }
,
{
		   "cell_type": "markdown",
		   "metadata": {},
		   "source": [
			"## Example 14.11: Example_11.sce"
		   ]
		  },
  {
"cell_type": "code",
	   "execution_count": null,
	   "metadata": {
	    "collapsed": true
	   },
	   "outputs": [],
"source": [
"//Chapter 14, Problem 11\n",
"clc;\n",
"T=0.01;                        //time period\n",
"Vm=40;                          //peak voltage\n",
"w=(2*%pi)/T;\n",
"v=-20;\n",
"phi=asin(v/Vm);\n",
"printf('instantaneous voltage can be expressed as\n v=40*sin((200*pi*t)+phi)');\n",
"printf('When time t=0, v=-20\n')\n",
"printf('phi = %d',phi);"
   ]
   }
,
{
		   "cell_type": "markdown",
		   "metadata": {},
		   "source": [
			"## Example 14.12: Example_12.sce"
		   ]
		  },
  {
"cell_type": "code",
	   "execution_count": null,
	   "metadata": {
	    "collapsed": true
	   },
	   "outputs": [],
"source": [
"//Chapter 14, Problem 12\n",
"clc;\n",
"Imax = 120;                     //current in amperes\n",
"w = 100*%pi;                    // in rad/sec\n",
"phi = 0.36;                     // in rad\n",
"t1 = 0;                         // in secs\n",
"t2 = 0.008;                     // in secs\n",
"i = 60;                         // in amperes\n",
"\n",
"//calculation:\n",
"//for a sine wave\n",
"f = w/(2*%pi)\n",
"T = 1/f\n",
"phid = phi*180/%pi\n",
"i0 = Imax*sin((w*t1) + phi)\n",
"i8 = Imax*sin((w*t2)+phi) \n",
"ti = (asin(i/Imax) - phi)/w\n",
"tm1 = (asin(Imax/Imax) - phi)/w\n",
"\n",
"printf('\n (a)Peak value = %.0f A, Periodic time T = %.2f sec, Frequency, f = %.0f Hz Phase angle = %.1f°\n\n', Imax, T, f, phid)\n",
"printf('\n (b) When t = 0, i = %.1f A\n\n',i0)\n",
"printf('\n (c)When t = 8 ms = %.1f A\n\n', i8)\n",
"printf('\n (d)When i is 60 A, then time t = %.2E s\n\n',ti)\n",
"printf('\n (e)When the current is a maximum, time, t = %.2E s\n\n',tm1)"
   ]
   }
,
{
		   "cell_type": "markdown",
		   "metadata": {},
		   "source": [
			"## Example 14.1: Example_1.sce"
		   ]
		  },
  {
"cell_type": "code",
	   "execution_count": null,
	   "metadata": {
	    "collapsed": true
	   },
	   "outputs": [],
"source": [
"//Chapter 14, Problem 1\n",
"clc;\n",
"f1=50;                      //frequency in hertz\n",
"f2=20*10^3;                 //frequency in hertz\n",
"T1=1/f1;                    //time period in sec\n",
"T2=1/f2;                    //time period in sec\n",
"printf('(a) Periodic time T = %f sec\n\n',T1);\n",
"printf('(b) Periodic time T = %f sec',T2);"
   ]
   }
,
{
		   "cell_type": "markdown",
		   "metadata": {},
		   "source": [
			"## Example 14.2: Example_2.sce"
		   ]
		  },
  {
"cell_type": "code",
	   "execution_count": null,
	   "metadata": {
	    "collapsed": true
	   },
	   "outputs": [],
"source": [
"//Chapter 14, Problem 2\n",
"clc;\n",
"t1=4*10**-3;                    //time period in sec\n",
"t2=4*10**-6;                    //time period in sec\n",
"f1=1/t1;                        //frequency in hertz\n",
"f2=1/t2;                        //frequency in hertz\n",
"printf('(a) Frequency F = %f Hz\n\n',f1);\n",
"printf('(b) Frequency F = %f KHz',f2/1000);"
   ]
   }
,
{
		   "cell_type": "markdown",
		   "metadata": {},
		   "source": [
			"## Example 14.3: Example_3.sce"
		   ]
		  },
  {
"cell_type": "code",
	   "execution_count": null,
	   "metadata": {
	    "collapsed": true
	   },
	   "outputs": [],
"source": [
"//Chapter 14, Problem 3\n",
"clc;\n",
"c=5;                    //no of sycle\n",
"t=8*10**-3;             //time period in sec\n",
"T=t/c;\n",
"F=1/T;                  //frequency in hertz\n",
"printf('Frequency F = %f Hz\n\n',F);"
   ]
   }
,
{
		   "cell_type": "markdown",
		   "metadata": {},
		   "source": [
			"## Example 14.4: Example_4.sce"
		   ]
		  },
  {
"cell_type": "code",
	   "execution_count": null,
	   "metadata": {
	    "collapsed": true
	   },
	   "outputs": [],
"source": [
"//Chapter 14, Problem 4, Figure 14.5\n",
"clc;\n",
"funcprot(0)\n",
"deff('[freq]=function1(time)','freq=1/time')\n",
"deff('[ave]=function2(base,area)','ave=area/base')\n",
"deff('[rms]=function3(a1,a2,a3,a4)','rms=sqrt((a1^2+a2^2+a3^2+a4^2)/4)')\n",
"deff('[form]=function4(rms,ave)','form=rms/ave')\n",
"deff('[peak]=function5(max,rms)','peak=max/rms')\n",
"\n",
"//from triangular waveform (Fig. 14.5(a))\n",
"t=20e-3;\n",
"b=t/2;\n",
"h=200;\n",
"v1=25;\n",
"v2=75;\n",
"v3=125;\n",
"v4=175;\n",
"f=function1(t);\n",
"a=(1/2)*b*h;\n",
"av=function2(b,a);\n",
"r=function3(v1,v2,v3,v4);\n",
"fr=function4(r,av);\n",
"p=function5(h,r);\n",
"disp('Triangular waveform')\n",
"printf('(i) Frequency = %d Hz \n\n',f);\n",
"printf('(ii) Average value of waveform = %d V\n\n',av);\n",
"printf('(iii) R.m.s value = %f V \n\n',r);\n",
"printf('(iv) Form factor = %f \n\n',fr);\n",
"printf('(v) peak factor = %f \n\n\n\n',p);\n",
"\n",
"//from rectangular waveform (Fig. 14.5(b))\n",
"t1=16e-3;\n",
"b1=t1/2\n",
"i1=10;\n",
"f1=function1(t1);\n",
"a1=i1*b1;\n",
"av1=function2(b1,a1);\n",
"r1=function3(i1,i1,i1,i1);\n",
"fr1=function4(r1,av1);\n",
"p1=function5(i1,r1);\n",
"disp('Rectangular waveform')\n",
"printf('(i) Frequency = %f Hz \n\n',f1);\n",
"printf('(ii) Average value of waveform = %d A\n\n',av1);\n",
"printf('(iii) R.m.s value = %d A \n\n',r1);\n",
"printf('(iv) Form factor = %d \n\n',fr1);\n",
"printf('(v) peak factor = %d \n\n',p1);"
   ]
   }
,
{
		   "cell_type": "markdown",
		   "metadata": {},
		   "source": [
			"## Example 14.6: Example_6.sce"
		   ]
		  },
  {
"cell_type": "code",
	   "execution_count": null,
	   "metadata": {
	    "collapsed": true
	   },
	   "outputs": [],
"source": [
"//Chapter 14, Problem 6\n",
"clc;\n",
"I=20;                   //peak value current\n",
"Irms=0.707*I;           //rms value\n",
"printf('r.m.s. value of a sinusoidal current = %f A',Irms);"
   ]
   }
,
{
		   "cell_type": "markdown",
		   "metadata": {},
		   "source": [
			"## Example 14.7: Example_7.sce"
		   ]
		  },
  {
"cell_type": "code",
	   "execution_count": null,
	   "metadata": {
	    "collapsed": true
	   },
	   "outputs": [],
"source": [
"//Chapter 14, Problem 7\n",
"clc;\n",
"Vrms=240;                       //rms voltage\n",
"Vp=Vrms/0.707;                  //peak voltage\n",
"Vav=0.637*Vp;                   //average value of voltage\n",
"printf('Peak voltage = %f V\n\n',Vp);\n",
"printf('Mean value = %f V',Vav);"
   ]
   }
,
{
		   "cell_type": "markdown",
		   "metadata": {},
		   "source": [
			"## Example 14.8: Example_8.sce"
		   ]
		  },
  {
"cell_type": "code",
	   "execution_count": null,
	   "metadata": {
	    "collapsed": true
	   },
	   "outputs": [],
"source": [
"//Chapter 14, Problem 8\n",
"clc;\n",
"Vav=150;                        //average value of voltage\n",
"Vp=Vav/0.637;                   //peak voltage\n",
"Vrms=0.707*Vp;                       //rms voltage\n",
"printf('Maximum value = %f V\n\n',Vp);\n",
"printf('r.m.s value = %f V',Vrms);"
   ]
   }
,
{
		   "cell_type": "markdown",
		   "metadata": {},
		   "source": [
			"## Example 14.9: Example_9.sce"
		   ]
		  },
  {
"cell_type": "code",
	   "execution_count": null,
	   "metadata": {
	    "collapsed": true
	   },
	   "outputs": [],
"source": [
"//Chapter 14, Problem 9\n",
"clc;\n",
"//from eqn v=282.8(sin 314 t)\n",
"Vm=282.8;                           //peak voltage\n",
"w=314;\n",
"t=4e-3;\n",
"Vrms=0.707*Vm;\n",
"f=w/(2*%pi);\n",
"v=282.8*sin(314*t);\n",
"printf('(a) Comparing Comparing v=282.8 sin 314 t with this general expression gives the peak voltage as 282.8V\n');\n",
"printf('v = %f V\n\n',Vrms);\n",
"printf('(b) Angular velocity w = 314 rad/s, therefore\n');\n",
"printf('f = %f Hz\n\n',f);\n",
"printf('(c) When t = 4ms\n');\n",
"printf('v = %f V',v);\n",
""
   ]
   }
],
"metadata": {
		  "kernelspec": {
		   "display_name": "Scilab",
		   "language": "scilab",
		   "name": "scilab"
		  },
		  "language_info": {
		   "file_extension": ".sce",
		   "help_links": [
			{
			 "text": "MetaKernel Magics",
			 "url": "https://github.com/calysto/metakernel/blob/master/metakernel/magics/README.md"
			}
		   ],
		   "mimetype": "text/x-octave",
		   "name": "scilab",
		   "version": "0.7.1"
		  }
		 },
		 "nbformat": 4,
		 "nbformat_minor": 0
}
