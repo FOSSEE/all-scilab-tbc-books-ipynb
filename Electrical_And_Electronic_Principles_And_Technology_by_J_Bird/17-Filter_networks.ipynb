{
"cells": [
 {
		   "cell_type": "markdown",
	   "metadata": {},
	   "source": [
       "# Chapter 17: Filter networks"
	   ]
	},
{
		   "cell_type": "markdown",
		   "metadata": {},
		   "source": [
			"## Example 17.1: Example_1.sce"
		   ]
		  },
  {
"cell_type": "code",
	   "execution_count": null,
	   "metadata": {
	    "collapsed": true
	   },
	   "outputs": [],
"source": [
"//Chapter 17, Problem 1, Figure 17.8\n",
"clc;\n",
"L=200*10^-3;                //inductance in henry\n",
"C=0.2*10^-6;                //capacitance in farad\n",
"fc=1/(%pi*sqrt(L*C));       //cut-off frequency\n",
"R0=sqrt(L/C);               //nominal impedance\n",
"\n",
"disp('Comparing Fig. 17.8 with the low-pass section of Fig. 17.7(a),');\n",
"printf('Inductance L = %f H\n\n',L);\n",
"printf('Capacitance C = %f uF\n\n',C*10^6);\n",
"printf('Cut off frequency fc = %f KHz\n\n',fc/1000 );\n",
"printf('Nominal impedance R0 = %f Kohm\n\n',R0/1000);"
   ]
   }
,
{
		   "cell_type": "markdown",
		   "metadata": {},
		   "source": [
			"## Example 17.2: Example_2.sce"
		   ]
		  },
  {
"cell_type": "code",
	   "execution_count": null,
	   "metadata": {
	    "collapsed": true
	   },
	   "outputs": [],
"source": [
"//Chapter 17, Problem 2, Figure 17.9\n",
"clc;\n",
"C=2*200*10^-12;                //capacitance in farad\n",
"L=0.4;                          //inductance in henry\n",
"fc=1/(%pi*sqrt(L*C));           //cut-off frequency\n",
"R0=sqrt(L/C);                   //nominal impedance\n",
"disp('Comparing Fig. 17.9 with the low-pass section of Fig. 17.7(a),');\n",
"printf('Inductance L = %f H\n\n',L);\n",
"printf('Capacitance C = %f pF\n\n',C*10^12);\n",
"printf('Cut off frequency fc = %.2f KHz\n\n',fc/1000 );\n",
"printf('Nominal impedance R0 = %.2f Kohm\n\n',R0/1000);"
   ]
   }
,
{
		   "cell_type": "markdown",
		   "metadata": {},
		   "source": [
			"## Example 17.3: Example_3.sce"
		   ]
		  },
  {
"cell_type": "code",
	   "execution_count": null,
	   "metadata": {
	    "collapsed": true
	   },
	   "outputs": [],
"source": [
"//Chapter 17, Problem 3\n",
"clc;\n",
"R0=600;                      //nominal impedance\n",
"fc=5*10^6;                    //cut-off frequency\n",
"C=1/(%pi*R0*fc);             //capacitance in farad\n",
"L=R0/(%pi*fc);                 //inductance in henry\n",
"printf('Inductance L = %d uH\n\n',L*10^6);\n",
"printf('Capacitance C = %d pF\n\n',C*10^12);\n",
"printf('A low-pass T-section filter is shownin Fig. 17.10(a),\n\n');\n",
"printf('A low-pass pi-section filter is shownin Fig. 17.10(b),\n\n');"
   ]
   }
,
{
		   "cell_type": "markdown",
		   "metadata": {},
		   "source": [
			"## Example 17.4: Example_4.sce"
		   ]
		  },
  {
"cell_type": "code",
	   "execution_count": null,
	   "metadata": {
	    "collapsed": true
	   },
	   "outputs": [],
"source": [
"//Chapter 17, Problem 4, Figure 17.17\n",
"clc;\n",
"C=(0.2*10^-6)/2;                //capacitance in farad\n",
"L=100*10^-3;                    //inductance in henry\n",
"fc=1/(4*%pi*sqrt(L*C));          //cut-off frequency\n",
"R0=sqrt(L/C);                     //nominal impedance\n",
"disp('Comparing Fig. 17.17 with the low-pass section of Fig. 17.16(a),');\n",
"printf('Inductance L = %f H\n\n',L);\n",
"printf('Capacitance C = %f uF\n\n',C*10^6);\n",
"printf('Cut off frequency fc = %.1f Hz\n\n',fc );\n",
"printf('Nominal impedance R0 = %d Kohm\n\n',R0/1000);\n",
""
   ]
   }
,
{
		   "cell_type": "markdown",
		   "metadata": {},
		   "source": [
			"## Example 17.5: Example_5.sce"
		   ]
		  },
  {
"cell_type": "code",
	   "execution_count": null,
	   "metadata": {
	    "collapsed": true
	   },
	   "outputs": [],
"source": [
"//Chapter 17, Problem 5, Figure 17.18\n",
"clc;\n",
"L=(200*10^-6)/2;                  //inductance in henry\n",
"C=4000*10^-12;                   //capacitance in farad\n",
"fc=1/(4*%pi*sqrt(L*C));          //cut-off frequency\n",
"R0=sqrt(L/C);                    //nominal impedance\n",
"disp('Comparing Fig. 17.18 with the low-pass section of Fig. 17.16(b),');\n",
"printf('Inductance L = %f H\n\n',L);\n",
"printf('Capacitance C = %f uF\n\n',C*10^6);\n",
"printf('Cut off frequency fc = %d KHz\n\n',fc/1000 );\n",
"printf('Nominal impedance R0 = %d ohm\n\n',R0);"
   ]
   }
,
{
		   "cell_type": "markdown",
		   "metadata": {},
		   "source": [
			"## Example 17.6: Example_6.sce"
		   ]
		  },
  {
"cell_type": "code",
	   "execution_count": null,
	   "metadata": {
	    "collapsed": true
	   },
	   "outputs": [],
"source": [
"//Chapter 17, Problem 6\n",
"clc;\n",
"fc=25*10^3;                            //cut-off frequency\n",
"R0=600;                               //nominal impedance\n",
"C=1/(4*%pi*R0*fc);                     //capacitance in farad\n",
"L=R0/(4*%pi*fc);                       //inductance in henry\n",
"printf('Inductance L = %f mH\n\n',L*10^3);\n",
"printf('Capacitance C = %f pF\n\n',C*10^12);\n",
"printf('A high-pass T-section filter is shownin Fig. 17.19(a),\n\n');\n",
"printf('A high-pass pi-section filter is shownin Fig. 17.19(b),\n\n');"
   ]
   }
,
{
		   "cell_type": "markdown",
		   "metadata": {},
		   "source": [
			"## Example 17.7: Example_7.sce"
		   ]
		  },
  {
"cell_type": "code",
	   "execution_count": null,
	   "metadata": {
	    "collapsed": true
	   },
	   "outputs": [],
"source": [
"//Chapter 17, Problem 7\n",
"clc;\n",
"R0=600;                              //nominal impedance\n",
"fcl=15000;                            //cut-off frequency of low pass\n",
"fch=10000;                           //cut-off frequency of high pass\n",
"C1=1/(%pi*R0*fcl);                     //capacitance in farad\n",
"L1=R0/(%pi*fcl);                      //inductance in henry\n",
"C2=1/(4*%pi*R0*fch);                   //capacitance in farad\n",
"L2=R0/(4*%pi*fch);                      //inductance in henry\n",
"disp('Thus, from Fig. 17.7(a), the series arm inductances are each L/2');\n",
"printf('the series arm inductances L/2 = %f mH\n',(L1/2)*10^3);\n",
"printf('and the shunt arm capacitance = %f nF\n\n',C1*10^9);\n",
"disp('Thus, from Fig. 17.16(a), the series arm capacitances are each 2C');\n",
"printf('the series arm capacitances 2C = %f nF\n',2*C2*10^9);\n",
"printf('and the shunt arm inductance = %f mH\n\n',L2*10^3);\n",
"disp('The composite, band-pass filter is shown in Fig. 17.24.');"
   ]
   }
],
"metadata": {
		  "kernelspec": {
		   "display_name": "Scilab",
		   "language": "scilab",
		   "name": "scilab"
		  },
		  "language_info": {
		   "file_extension": ".sce",
		   "help_links": [
			{
			 "text": "MetaKernel Magics",
			 "url": "https://github.com/calysto/metakernel/blob/master/metakernel/magics/README.md"
			}
		   ],
		   "mimetype": "text/x-octave",
		   "name": "scilab",
		   "version": "0.7.1"
		  }
		 },
		 "nbformat": 4,
		 "nbformat_minor": 0
}
