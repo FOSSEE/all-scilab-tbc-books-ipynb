{
"cells": [
 {
		   "cell_type": "markdown",
	   "metadata": {},
	   "source": [
       "# Chapter 13: Memory"
	   ]
	},
{
		   "cell_type": "markdown",
		   "metadata": {},
		   "source": [
			"## Example 13.2: structure_of_binary_address.sce"
		   ]
		  },
  {
"cell_type": "code",
	   "execution_count": null,
	   "metadata": {
	    "collapsed": true
	   },
	   "outputs": [],
"source": [
"//example 13.2\n",
"clc;\n",
"clear;\n",
"close; \n",
"//cp = input('enter the capacity of the memory system in bits :');\n",
"cp=1024; // given capacity\n",
"n= log2(cp);\n",
"printf('The no of bits in the address word are : %d\n',n);\n",
"printf('The number of required rows are : %d\n',2^(n/2));\n",
"printf('The number of required columns are : %d',2^(n/2));"
   ]
   }
,
{
		   "cell_type": "markdown",
		   "metadata": {},
		   "source": [
			"## Example 13.3: decimal_and_hexadecimal_address_for_the_given_binary_address.sce"
		   ]
		  },
  {
"cell_type": "code",
	   "execution_count": null,
	   "metadata": {
	    "collapsed": true
	   },
	   "outputs": [],
"source": [
"//example 13.3\n",
"clc\n",
"clear\n",
"//bin(1,1) = input('Enter the first half string of binary number :');\n",
"//bin(1,2) = input('Enter the second half string of binary number :');\n",
"bin=['10110' '01101']; // given binry address \n",
"dec=bin2dec(bin); // finding decimal equivlent\n",
"hex=dec2hex(dec); //findin hexdecimal equivalent\n",
"disp('The decimal address is :');\n",
"disp(dec);\n",
"disp('The hexadecimal address is :');\n",
"disp(hex);"
   ]
   }
],
"metadata": {
		  "kernelspec": {
		   "display_name": "Scilab",
		   "language": "scilab",
		   "name": "scilab"
		  },
		  "language_info": {
		   "file_extension": ".sce",
		   "help_links": [
			{
			 "text": "MetaKernel Magics",
			 "url": "https://github.com/calysto/metakernel/blob/master/metakernel/magics/README.md"
			}
		   ],
		   "mimetype": "text/x-octave",
		   "name": "scilab",
		   "version": "0.7.1"
		  }
		 },
		 "nbformat": 4,
		 "nbformat_minor": 0
}
