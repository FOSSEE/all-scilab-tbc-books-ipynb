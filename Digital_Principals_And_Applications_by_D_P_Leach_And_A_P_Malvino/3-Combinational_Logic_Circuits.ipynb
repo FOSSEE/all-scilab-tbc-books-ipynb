{
"cells": [
 {
		   "cell_type": "markdown",
	   "metadata": {},
	   "source": [
       "# Chapter 3: Combinational Logic Circuits"
	   ]
	},
{
		   "cell_type": "markdown",
		   "metadata": {},
		   "source": [
			"## Example 3.10: sop_for_the_karnaugh_map.sce"
		   ]
		  },
  {
"cell_type": "code",
	   "execution_count": null,
	   "metadata": {
	    "collapsed": true
	   },
	   "outputs": [],
"source": [
"//example 3.10 \n",
"// this program needs kmappos.sci and noof.sci\n",
"\n",
"k=[0 0 0 0;0 0 0 1; 1 1 1 1;1 1 1 1];\n",
"disp('The minimal expression of Y from the following Kmap is :');\n",
"kmap(k);\n",
"disp('After complimenting and simplifying the Krarnugh map we get Y =:');\n",
"k=[1 1 1 1;1 1 1 0; 0 0 0 0;0 0 0 0 ];\n",
"kmap(k); //calling the Kmap function"
   ]
   }
,
{
		   "cell_type": "markdown",
		   "metadata": {},
		   "source": [
			"## Example 3.11: POS_form_of_karnaugh_map.sce"
		   ]
		  },
  {
"cell_type": "code",
	   "execution_count": null,
	   "metadata": {
	    "collapsed": true
	   },
	   "outputs": [],
"source": [
"//example 3.11 \n",
"// this program needs kmappos.sci and noof.sci\n",
"\n",
"clc\n",
"disp('The given kmap is '); //displaying the given kmap\n",
"disp('      C''D''  C''D  CD  CD''');\n",
"disp('A''B''    0    0    0   0');\n",
"disp('A''B     0    0    0   1');\n",
"disp('AB      1    1    1   1');\n",
"disp('AB''     1    1    1   1');\n",
"disp('The simplest POS form of following Kmap is :');\n",
"\n",
"k= [0 0 0 0;0 0 0 1 ;1 1 1 1; 1 1 1 1];\n",
"kmappos(k);//calling the Kmappos function"
   ]
   }
,
{
		   "cell_type": "markdown",
		   "metadata": {},
		   "source": [
			"## Example 3.12: POS_form_of_karnaugh_map.sce"
		   ]
		  },
  {
"cell_type": "code",
	   "execution_count": null,
	   "metadata": {
	    "collapsed": true
	   },
	   "outputs": [],
"source": [
"//example 3.12\n",
"clc\n",
"disp('The given kmap is '); //displaying the given kmap\n",
"disp('      C''D''  C''D  CD  CD''');\n",
"disp('A''B''    0    0    1   0');\n",
"disp('A''B     0    0    1   1');\n",
"disp('AB      x    x    x   1');\n",
"disp('AB''     x    x    x   0');\n",
"disp('In a Karnaugh map if don''t care condition exits, we may consider them as zeros if that gives a larger group size.');\n",
"disp('The simplest POS form of following Kmap is :');\n",
"\n",
"k= [0 0 1 0;0 0 1 1 ;0 0 1 1; 0 0 1 0];\n",
"kmappos(k); //calling the Kmappos function"
   ]
   }
,
{
		   "cell_type": "markdown",
		   "metadata": {},
		   "source": [
			"## Example 3.13: Quine_Mc_clusky_method.sce"
		   ]
		  },
  {
"cell_type": "code",
	   "execution_count": null,
	   "metadata": {
	    "collapsed": true
	   },
	   "outputs": [],
"source": [
"//example 3.1 \n",
"clc;\n",
"clear;\n",
"a=[0 0 0 0 1 1 1 1;0 0 1 1 0 0 1 1;0 1 0 1 0 1 0 1]; //from the truth table given\n",
"y=[0 0 1 0 0 0 1 1];\n",
"j=1;\n",
"for i=1:8 // finding for which input conditions the output is high\n",
"    if y(i) == 1 then\n",
"        x(j,:)= [a(1,i) a(2,i) a(3,i)];\n",
"        j=j+1;\n",
"    end\n",
"end\n",
"for i=1:j-1;  // finding the first stage \n",
"    f(i)=0;\n",
"    c=0;\n",
"   for m=3:-1:1\n",
"    f(i) = f(i) + x(i,m)*(2^c);\n",
"    c=c+1;\n",
"end    \n",
"end\n",
"disp('stage 1'); //displaying first stage \n",
"x(:,4)=f;\n",
"disp('    A    B     C');\n",
"disp(x)\n",
"count=zeros(j-2,j-2)\n",
"pos=count;\n",
"for i=1:j-2 // for second stage comparing with each other  \n",
"    for k=1:j-i-1\n",
"    for m=1:3\n",
"    if x(i,m)==x(i+k,m)  then\n",
"    count(i,k)=count(i,k)+1;\n",
"    else\n",
"    pos(i,k)=m\n",
"    end\n",
"    end\n",
"end\n",
"end\n",
"r=1;\n",
"for i=1:j-2  //making a list of second stage elements \n",
"    for m=1:j-2\n",
"    if count(i,m)==2 then\n",
"    posi(r) = pos(i,m);  \n",
"    sest(r,1) = x(i,4);\n",
"    sest(r,2) = x(i+m,4); \n",
"    r=r+1;\n",
"    end\n",
"    end\n",
"end\n",
"disp('stage 2'); //displaying second stage \n",
"disp(sest);\n",
"o=size(sest);  \n",
"fin(1)=sest(1,1);\n",
"fin(2)=sest(1,2);\n",
"p=3;\n",
"for i=2:o(1,1) //removing redundancy in second stage \n",
"    t=0;\n",
"    ts=0;\n",
"    for w=1:p-1\n",
"    if fin(w)== sest(i,1) then\n",
"    t=30;\n",
"    end;\n",
"    if fin(w) == sest(i,2) then\n",
"    ts=40;\n",
"    end\n",
"    end\n",
"    if t==0 then\n",
"    fin(p)=sest(i,1);\n",
"    finn(p-2)=i;\n",
"    p=p+1;\n",
"    end\n",
"    if ts==0 then\n",
"    fin(p)=sest(i,2)\n",
"    finn(p-2)=i;\n",
"    p=p+1;\n",
"    end\n",
"end\n",
"ppp=size(finn) //selecting the prime implicants \n",
"l=1\n",
"fina(l)= finn(l); \n",
"for i=2:ppp(1,1)\n",
"    q=0;\n",
"    for b=1:l\n",
"    if fina(b) == finn(i) then\n",
"    q=89 ;\n",
"    end\n",
"    end\n",
"    if q==0 then\n",
"    fina(l+1)=finn(i);\n",
"    l=l+1;\n",
"    q=0;\n",
"    end\n",
"end\n",
"kkk=size(fina);\n",
"i=1;\n",
"jj=0;\n",
"bi(1)=' ';\n",
"x(i)\n",
"po=1;\n",
"for k=1:kkk(1,1)+1\n",
"for p=1:3    //appending a string to make the expression \n",
"    if p ~= posi(i)  then\n",
"    if p == 1 & x(i,p)==1   then\n",
"    bi(po)=strcat([bi(po) 'A']);\n",
"    elseif p== 1 &x(i,p)==0 then\n",
"    bi(po)=strcat([bi(po) 'A''']);\n",
"    end\n",
"    if p == 2 & x(i,p)==1   then\n",
"    bi(po)=strcat([bi(po) 'B']);\n",
"    elseif p== 2 &x(i,p)==0 then\n",
"    bi(po)=strcat([bi(po) 'B''']);\n",
"    end\n",
"    if p == 3 & x(i,p)==1   then\n",
"    bi(po)=strcat([bi(po) 'C']);\n",
"    elseif p== 3 &x(i,p)==0 then\n",
"    bi(po)=strcat([bi(po) 'C''']);\n",
"    end\n",
"    end\n",
"end\n",
"jj=jj+1;\n",
"if jj<=kkk(1,1) then\n",
"i=fina(jj);\n",
"bi(po)=strcat([bi(po) ' + ']);\n",
"end\n",
"end;\n",
"disp('The minimised expression is ');\n",
"disp(bi);"
   ]
   }
,
{
		   "cell_type": "markdown",
		   "metadata": {},
		   "source": [
			"## Example 3.14: Dynamic_hard.sce"
		   ]
		  },
  {
"cell_type": "code",
	   "execution_count": null,
	   "metadata": {
	    "collapsed": true
	   },
	   "outputs": [],
"source": [
"//example 3.9\n",
"clc;\n",
"clear;\n",
"close;\n",
"c = [1 1 0 0 0 0 0]; //given values\n",
"a= [1 1 1 1 1 1 1];\n",
"b= [1 1 1 1 1 1 1] ;\n",
"for i=1:7    \n",
"    y1(i)=0\n",
"    y2(i)=1\n",
"    y3(i)=0\n",
"    y4(i)=1\n",
"    y(i)=0\n",
"end\n",
"for(i=1: 7) // finding the Y values for next clock periods \n",
"y1(i+1) = bitcmp(c(i),1);\n",
"y2(i+1) = bitand(a(i),c(i));\n",
"end;\n",
"for i=1: 5\n",
"y3(i+2) = bitand(y1(i+1),b(i));\n",
"end;\n",
"for i=1:4\n",
"y4(i+3) = bitor(y3(i+2),y2(i+2));\n",
"end;\n",
"for i=1:3\n",
"y(i+4)   =  bitand(y4(i+3),y1(i+3));\n",
"end;\n",
"y11p=1;\n",
"y22p=1;\n",
"y33p=1;\n",
"y44p=1;\n",
"cp=1;\n",
"yf1p=1;\n",
"for i=1:7  // ploting all of them in to  graph\n",
"    if y1(i)==1 then\n",
"        for o=1:100\n",
"        y11(y11p)=1;\n",
"        y11p=y11p+1;\n",
"        end\n",
"    else\n",
"        for o=1:100\n",
"        y11(y11p)=0;\n",
"        y11p=y11p+1;\n",
"        end\n",
"end\n",
"if y2(i)==1 then\n",
"        for o=1:100\n",
"        y21(y22p)=1;\n",
"        y22p=y22p+1;\n",
"        //z(bp)=3\n",
"        end\n",
"    else\n",
"        for o=1:100\n",
"        y21(y22p)=0;\n",
"        y22p=y22p+1;\n",
"        //z(bp)=3\n",
"        end\n",
"end\n",
"if y3(i)==1 then\n",
"        for o=1:100\n",
"        y31(y33p)=1;\n",
"        y33p=y33p+1;\n",
"        //z(bp)=3\n",
"        end\n",
"    else\n",
"        for o=1:100\n",
"        y31(y33p)=0;\n",
"        y33p=y33p+1;\n",
"        //z(bp)=3\n",
"        end\n",
"end\n",
"if y4(i)==1 then\n",
"        for o=1:100\n",
"        y41(y44p)=1;\n",
"        y44p=y44p+1;\n",
"        //z(bp)=3\n",
"        \n",
"        end\n",
"    else\n",
"        for o=1:100\n",
"        y41(y44p)=0;\n",
"        y44p=y44p+1;\n",
"        //z(bp)=3\n",
"        end\n",
"end\n",
"if c(i)==1 then\n",
"        for o=1:100\n",
"        c1(cp)=1;\n",
"        cp=cp+1;\n",
"        end\n",
"    else\n",
"        for o=1:100\n",
"        c1(cp)=0;\n",
"        cp=cp+1;\n",
"        end\n",
"end\n",
"if y(i)==1 then\n",
"        for o=1:100\n",
"        yf1(yf1p)=1;\n",
"        yf1p=yf1p+1;\n",
"        end\n",
"    else\n",
"        for o=1:100\n",
"        yf1(yf1p)=0;\n",
"        yf1p=yf1p+1;\n",
"        end\n",
"    end\n",
"end\n",
"z=[2 2];   //ploting the results \n",
"subplot(6,1,1);\n",
"title('Timing Diagrm');\n",
"plot(c1);\n",
"plot(z);\n",
"ylabel('C');\n",
"subplot(6,1,2);\n",
"plot(y11);\n",
"ylabel('Y1');\n",
"plot(z);\n",
"subplot(6,1,3);\n",
"plot(y21);\n",
"ylabel('Y2');\n",
"plot(z);\n",
"subplot(6,1,4);\n",
"plot(z);\n",
"ylabel('Y3');\n",
"plot(y31);\n",
"subplot(6,1,5);\n",
"plot(z);\n",
"ylabel('Y4');\n",
"xlabel('Time in milli seconds');\n",
"plot(y41);\n",
"subplot(6,1,6);\n",
"plot(z);\n",
"ylabel('Y');\n",
"xlabel('Time in milli seconds');\n",
"plot(yf1);"
   ]
   }
,
{
		   "cell_type": "markdown",
		   "metadata": {},
		   "source": [
			"## Example 3.1: Boolean_Algebra.sce"
		   ]
		  },
  {
"cell_type": "code",
	   "execution_count": null,
	   "metadata": {
	    "collapsed": true
	   },
	   "outputs": [],
"source": [
"//example 3.1\n",
"clc;\n",
"clear;\n",
"disp('we can minimize the given equation as:');\n",
"disp('Y = AB'' + AB  = A(B'' + B)');\n",
"disp('Therefore,    Y =  A(1) = A');\n",
"disp('this says that output Y equals to A, so all we hve to do is connect a wire between input A and output Y.');"
   ]
   }
,
{
		   "cell_type": "markdown",
		   "metadata": {},
		   "source": [
			"## Example 3.2: Boolean_Algebra.sce"
		   ]
		  },
  {
"cell_type": "code",
	   "execution_count": null,
	   "metadata": {
	    "collapsed": true
	   },
	   "outputs": [],
"source": [
"//example 3.2\n",
"clc;\n",
"clear;\n",
"disp('Multipl the factors of the foregoing equation to get');\n",
"disp('Y = A''A + A''B + BA +BB');\n",
"disp('it becomes,    Y =  A''B + AB + B ');\n",
"disp('We can factor the foregooing equation as follows :');\n",
"disp('Y =  B(A'' + A) + B = B + B = B ');\n",
"disp('this says that output Y equals to B, so all we have to do is connect a wire between input B and output Y.');"
   ]
   }
,
{
		   "cell_type": "markdown",
		   "metadata": {},
		   "source": [
			"## Example 3.3: Testing_a_circuit_using_logic_clip.sce"
		   ]
		  },
  {
"cell_type": "code",
	   "execution_count": null,
	   "metadata": {
	    "collapsed": true
	   },
	   "outputs": [],
"source": [
"//example 3.3\n",
"clc;\n",
"clear;\n",
"//disp(' Enter the inputs for AND gate ');\n",
"//for i=1:7\n",
"//printf('Enter wether the led %d is on or off (1 or 0) :',i);\n",
"//a(i)=input('');\n",
"//end;\n",
"//disp('Enter the inputs for OR gate' )\n",
"//for i=1:7\n",
"//printf('Enter wether the led %d is on or off (1 or 0) :',i);\n",
"//b(i)=input('');\n",
"//end;\n",
"a= [0 1 0 1 1 0 0]; //lights on a logic clip \n",
"b= [0 0 0 0 1 1 0]; \n",
"k=bitand(a(1),a(2));  \n",
"k2 = bitand(a(4),a(5));\n",
"k3=bitor(b(1),b(2));\n",
"k4 = bitor(b(4),b(5));\n",
"if a(3) ~= k then // checking which gate is faulty \n",
"    disp('The first  AND gate is diffective ');\n",
"elseif  a(6) ~= k2 then\n",
"        disp('The second AND gate is diffective ');\n",
" elseif b(3) ~= k3 then\n",
"    disp('The first OR gate is diffective ');\n",
"elseif  b(6) ~= k4 then\n",
"        disp('The second OR gate is diffective ');\n",
"    else \n",
"        disp('All the gates are working correctly');\n",
"end"
   ]
   }
,
{
		   "cell_type": "markdown",
		   "metadata": {},
		   "source": [
			"## Example 3.4: Sum_of_Products.sce"
		   ]
		  },
  {
"cell_type": "code",
	   "execution_count": null,
	   "metadata": {
	    "collapsed": true
	   },
	   "outputs": [],
"source": [
"//example 3.4 \n",
"clc;\n",
"clear;\n",
"disp('Given the truth table has high output for following conditons :');\n",
"a=[0 0 0 ; 0 1 0 ; 1 0 0 ; 1 1 0 ] //given iput conditions for which output is high\n",
"disp(a)\n",
"for (i=1:4)\n",
"    if  a(i,1)==1 then\n",
"        b(i,1)= 'A'\n",
"    else \n",
"        b(i,1)= 'A^'\n",
"    end\n",
"    if  a(i,2)==1 then\n",
"        b(i,2)= 'B'\n",
"    else \n",
"        b(i,2)= 'B^'\n",
"    end\n",
"    if  a(i,3)==1 then\n",
"        b(i,3)= 'C'\n",
"    else\n",
"        b(i,3)= 'C^'\n",
"    end\n",
"end\n",
"disp('When you OR these products you get :') //displaying sum of products \n",
"x=strcat([b(1,1) b(1,2) b(1,3) ' + ' b(2,1) b(2,2) b(2,3) ' + ' b(3,1) b(3,2) b(3,3) ' + ' b(4,1) b(4,2) b(4,3)]);\n",
"disp(x)"
   ]
   }
,
{
		   "cell_type": "markdown",
		   "metadata": {},
		   "source": [
			"## Example 3.5: Boolean_Algebra.sce"
		   ]
		  },
  {
"cell_type": "code",
	   "execution_count": null,
	   "metadata": {
	    "collapsed": true
	   },
	   "outputs": [],
"source": [
"//example 3.5\n",
"clc;\n",
"clear;\n",
"disp('The boolean equation is :');\n",
"disp('Y = A''B''C'' + A''BC'' + AB''C'' + ABC''');\n",
"disp('Since C'' is common to each term, factor as follows :');\n",
"disp('Y = (A''B + A''B + AB'' AB)C''');\n",
"disp('Again, factor to get :');\n",
"disp('Y = [A''(B'' + B) + A(B'' + B)]C''');\n",
"disp('Now, simplify the foregoing as follows :');\n",
"disp('Y=[A''(1) + A(1)]C'' = (A'' + A)C''');\n",
"disp(' or   Y= C''');\n",
"disp('This final equation means that you don''t even need a logic circuit. All you need is a wire connecting input C'' to output Y.');  "
   ]
   }
,
{
		   "cell_type": "markdown",
		   "metadata": {},
		   "source": [
			"## Example 3.6: Gives_a_simplified_Boolean_equation.sce"
		   ]
		  },
  {
"cell_type": "code",
	   "execution_count": null,
	   "metadata": {
	    "collapsed": true
	   },
	   "outputs": [],
"source": [
"//example 3.6\n",
"// this program needs kmap.sci and noof.sci\n",
" clc\n",
" Y=[7 9 10 11 12 13 14 15];//given logic equation \n",
" k=[0 0 0 0;0 0 1 0 ; 1 1 1 1; 0 1 1 1]; // minimizing it using 4-variable kmap\n",
" disp('The minimal expression of Y from the following Kmap is :');\n",
" kmap(k); //calling the Kmap function\n",
" "
   ]
   }
,
{
		   "cell_type": "markdown",
		   "metadata": {},
		   "source": [
			"## Example 3.7: simplest_logic_for_given_Truth_table.sce"
		   ]
		  },
  {
"cell_type": "code",
	   "execution_count": null,
	   "metadata": {
	    "collapsed": true
	   },
	   "outputs": [],
"source": [
"//example 3.7\n",
"// this program needs kmap.sci and noof.sci\n",
"clc;\n",
"disp('The kanaurgh map for given truth table will be :');\n",
"disp('      C''D''  C''D  CD  CD'''); //displaying the given kmap\n",
"disp('A''B''    1    0    0   0');\n",
"disp('A''B     0    0    0   0');\n",
"disp('AB      x    x    x   x');\n",
"disp('AB''     0    0    x   x');\n",
"disp('The truth table has output one only for the input condition 0000. The corresponding fundamental product is A''B''C''D''');\n",
"k=[1 0 0 0 ; 0 0 0 0; 0 0 0 0;0 0 0 0];\n",
"kmap(k);//calling the Kmap function\n",
""
   ]
   }
,
{
		   "cell_type": "markdown",
		   "metadata": {},
		   "source": [
			"## Example 3.8: simplest_logic_for_given_logic_equation.sce"
		   ]
		  },
  {
"cell_type": "code",
	   "execution_count": null,
	   "metadata": {
	    "collapsed": true
	   },
	   "outputs": [],
"source": [
"//example 3.8\n",
"// this program needs kmap.sci and noof.sci\n",
"clc;\n",
"disp('      C''D''  C''D  CD  CD''');//displaying the given kmap\n",
"disp('A''B''    0    0    0   0');\n",
"disp('A''B     0    0    1   0');\n",
"disp('AB      x    x    x   x');\n",
"disp('AB''     0    0    x   x');\n",
"k=[0 0 0 0;0 0 1 0;0 0 1 0;0 0 0 0];\n",
"disp('In a Karnaugh map if don''t care condition exits, we may consider them as ones if that gives a larger group size.');\n",
"disp('The minimal expression from the given kmap is ');\n",
"kmap(k); //calling the kamp function"
   ]
   }
,
{
		   "cell_type": "markdown",
		   "metadata": {},
		   "source": [
			"## Example 3.9: Product_of_sums.sce"
		   ]
		  },
  {
"cell_type": "code",
	   "execution_count": null,
	   "metadata": {
	    "collapsed": true
	   },
	   "outputs": [],
"source": [
"//example 3.4 \n",
"clc;\n",
"clear;\n",
"disp('Given the truth table has high output for following conditons :');\n",
"a=[0 0 0 ; 0 0 1 ; 0 1 0 ] //given truth table \n",
"disp(a)\n",
"for (i=1:3) //finding the terms in pos \n",
"    if  a(i,1)==0 then\n",
"        b(i,1)= 'A'\n",
"    else \n",
"        b(i,1)= 'A^'\n",
"    end\n",
"    if  a(i,2)==0 then\n",
"        b(i,2)= 'B'\n",
"    else \n",
"        b(i,2)= 'B^'\n",
"    end\n",
"    if  a(i,3)==0 then\n",
"        b(i,3)= 'C'\n",
"    else\n",
"        b(i,3)= 'C^'\n",
"    end\n",
"end\n",
"disp(b)\n",
"disp('The product-of-sums equation is  :') //displaying the POS \n",
"x=strcat(['(' b(1,1) ' + ' b(1,2) ' + ' b(1,3) ')' '(' b(2,1) ' + ' b(2,2) ' + ' b(2,3) ')' '(' b(3,1) ' + ' b(3,2) ' + ' b(3,3) ')' ]);\n",
"disp(x)"
   ]
   }
],
"metadata": {
		  "kernelspec": {
		   "display_name": "Scilab",
		   "language": "scilab",
		   "name": "scilab"
		  },
		  "language_info": {
		   "file_extension": ".sce",
		   "help_links": [
			{
			 "text": "MetaKernel Magics",
			 "url": "https://github.com/calysto/metakernel/blob/master/metakernel/magics/README.md"
			}
		   ],
		   "mimetype": "text/x-octave",
		   "name": "scilab",
		   "version": "0.7.1"
		  }
		 },
		 "nbformat": 4,
		 "nbformat_minor": 0
}
