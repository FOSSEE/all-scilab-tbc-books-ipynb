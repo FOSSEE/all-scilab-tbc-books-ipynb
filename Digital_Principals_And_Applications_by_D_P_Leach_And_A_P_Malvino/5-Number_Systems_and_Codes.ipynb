{
"cells": [
 {
		   "cell_type": "markdown",
	   "metadata": {},
	   "source": [
       "# Chapter 5: Number Systems and Codes"
	   ]
	},
{
		   "cell_type": "markdown",
		   "metadata": {},
		   "source": [
			"## Example 5.10: decimal_to_hexadecimal_and_binary.sce"
		   ]
		  },
  {
"cell_type": "code",
	   "execution_count": null,
	   "metadata": {
	    "collapsed": true
	   },
	   "outputs": [],
"source": [
"//Example 5.10\n",
"clc                                     //clears the command window\n",
"clear                                    //clears the variables \n",
"q=0;\n",
"b=0;\n",
"//a=input('enter the decimal no:')\n",
"a=56000;                                    // giving the value specified in the problem\n",
"temp=a; \n",
"format('v',18)                              //increasing the precision to 18\n",
"a=floor(a);\n",
"h=dec2hex(a);\n",
"while(a>0)                                   // converting to binary \n",
"    x=modulo(a,2);\n",
"    b= b + (10^q)*x;\n",
"    a=a/2;\n",
"    a=floor(a);\n",
"    q=q+1; \n",
"end\n",
"printf('Given decimal number is : %d\n',temp)\n",
"printf('The hexadecimal equivalent is = %s\n',h)\n",
"  //displaying the results \n",
"printf('The binary equivalent is = %f\n',b);"
   ]
   }
,
{
		   "cell_type": "markdown",
		   "metadata": {},
		   "source": [
			"## Example 5.11: decimal_to_hexadecimal_and_binary.sce"
		   ]
		  },
  {
"cell_type": "code",
	   "execution_count": null,
	   "metadata": {
	    "collapsed": true
	   },
	   "outputs": [],
"source": [
"//chapter 5\n",
"//Example 5.11\n",
"//Q.convert decimal numbers to its hexadecimal and binary equivalent ?\n",
"//solution :\n",
"clc                                     //clears the command window\n",
"clear                                    //clears the variables \n",
"q=0;\n",
"b=0;\n",
"a=input('Enter the decimal no:')            //Enter the decimal nuber \n",
"format('v',18)                              //increasing the precision to 18\n",
"a=floor(a);\n",
"h=dec2hex(a);\n",
"while(a>0)                                   // converting to binary \n",
"    x=modulo(a,2);\n",
"    b= b + (10^q)*x;\n",
"    a=a/2;\n",
"    a=floor(a);\n",
"    q=q+1; \n",
"end\n",
"printf('The hexadecimal equivalent is = %s\n',h)\n",
"                                           //displaying the results \n",
"printf('The binary equivalent is = %f',b)"
   ]
   }
,
{
		   "cell_type": "markdown",
		   "metadata": {},
		   "source": [
			"## Example 5.1: Binary_to_decimal_conversion.sce"
		   ]
		  },
  {
"cell_type": "code",
	   "execution_count": null,
	   "metadata": {
	    "collapsed": true
	   },
	   "outputs": [],
"source": [
"//Example 5.1\n",
"clc                                                                     //clears the command window \n",
"clear                                                                   //clears all the variables \n",
"p=1;                                                                    //initialising variables \n",
"q=1;\n",
"z=0;\n",
"b=0;\n",
"w=0;\n",
"f=0;\n",
"format('v',18);                                                                        //increasing the precision to 18 .\n",
"//bin= input ('Enter the binary no to be converted to its decimal equivalent : ')    // accepting the binary input from user \n",
"bin=110.001;\n",
"d= modulo(bin,1);                                                                  //separating the decimal part and the integer part \n",
"d=d*10^10;\n",
"a=floor(bin);                                                                      //removing the decimal part \n",
"while(a>0)                                                                         //Loop to take the binary bits of integer in to a matrix \n",
"    r=modulo(a,10);\n",
"    b(1,q)=r;\n",
"    a=a/10;\n",
"    a=floor(a);\n",
"    q=q+1;\n",
"end\n",
"for m=1:q-1                                                                         //multipliying the bits of integer with their position values and adding \n",
"     c=m-1;\n",
"    f = f + b(1,m)*(2^c);\n",
"end\n",
"while(d>0)                                                                          //Loop to take the binary bits of decimal in to a matrix \n",
"    e=modulo(d,2)\n",
"    w(1,p)=e\n",
"    d=d/10;\n",
"    d=floor(d)\n",
"    p=p+1;\n",
"    end\n",
"for n=1:p-1                                                                        //multipliying the bits of decimal with their position values and adding\n",
"    z=z+w(1,n)*(0.5)^(11-n);\n",
"end\n",
"z=z*10000;                                                                         //rounding of to 4 decimal values \n",
"z=round(z);\n",
"z=z/10000;\n",
"printf('The Decimal equivalent of the Binary number given is = %f',f+z);       //Displaying the final result"
   ]
   }
,
{
		   "cell_type": "markdown",
		   "metadata": {},
		   "source": [
			"## Example 5.2: Binary_to_decimal_conversion.sce"
		   ]
		  },
  {
"cell_type": "code",
	   "execution_count": null,
	   "metadata": {
	    "collapsed": true
	   },
	   "outputs": [],
"source": [
"//Example 5.2\n",
"clc                                                                     //clears the command window \n",
"clear                                                                   //clears all the variables \n",
"p=1;                                                                    //initialising variables \n",
"q=1;\n",
"z=0;\n",
"b=0;\n",
"w=0;\n",
"f=0;\n",
"format('v',18);                                                                        //increasing the precision to 18 .\n",
"//bin= input ('Enter the binary no to be converted to its decimal equivalent : ')    // accepting the binary input from user \n",
"bin=1011.11;\n",
"d= modulo(bin,1);                                                                  //separating the decimal part and the integer part \n",
"d=d*10^10;\n",
"a=floor(bin);                                                                      //removing the decimal part \n",
"while(a>0)                                                                         //Loop to take the binary bits of integer in to a matrix \n",
"    r=modulo(a,10);\n",
"    b(1,q)=r;\n",
"    a=a/10;\n",
"    a=floor(a);\n",
"    q=q+1;\n",
"end\n",
"for m=1:q-1                                                                         //multipliying the bits of integer with their position values and adding \n",
"     c=m-1;\n",
"    f = f + b(1,m)*(2^c);\n",
"end\n",
"while(d>0)                                                                          //Loop to take the binary bits of decimal in to a matrix \n",
"    e=modulo(d,2)\n",
"    w(1,p)=e\n",
"    d=d/10;\n",
"    d=floor(d)\n",
"    p=p+1;\n",
"    end\n",
"for n=1:p-1                                                                        //multipliying the bits of decimal with their position values and adding\n",
"    z=z+w(1,n)*(0.5)^(11-n);\n",
"end\n",
"z=z*10000;                                                                         //rounding of to 4 decimal values \n",
"z=round(z);\n",
"z=z/10000;\n",
"printf('The Decimal equivalent of the Binary number given is = %f',f+z);                                                                         //Displaying the final result"
   ]
   }
,
{
		   "cell_type": "markdown",
		   "metadata": {},
		   "source": [
			"## Example 5.3: decimal_equivalent_of_2_Mb.sce"
		   ]
		  },
  {
"cell_type": "code",
	   "execution_count": null,
	   "metadata": {
	    "collapsed": true
	   },
	   "outputs": [],
"source": [
"//Example 5.3\n",
"clc                                                                     //clears the command window .\n",
"clear                                                                   //clears all the variables .\n",
"format('v',18);                                                         //increasing the precision to 18 .\n",
"n=2; /// given 2 mb\n",
"dec = n * 2^20 ; \n",
"printf('The decimal equivalent of 2Mb is = %f ',dec);                                                           //displaying the value."
   ]
   }
,
{
		   "cell_type": "markdown",
		   "metadata": {},
		   "source": [
			"## Example 5.4: Decimal_to_binary_conversion.sce"
		   ]
		  },
  {
"cell_type": "code",
	   "execution_count": null,
	   "metadata": {
	    "collapsed": true
	   },
	   "outputs": [],
"source": [
"//Example 5.3\n",
"clc                                                                     //clears the command window \n",
"clear                                                                   //clears all the variables \n",
"q=0;\n",
"b=0;\n",
"s=0;\n",
"format('v',18);                                                                        //increasing the precision to 18 .\n",
"//a=input('Enter the decimal no to be converted to its binary equivalent : ');         // accepting the decimal input from user \n",
"a=23.6;\n",
"d=modulo(a,1);                                                                        //separating the decimal part and the integer part \n",
"a=floor(a);                                                                            //removing the decimal part \n",
"\n",
"while(a>0)                                                                               //taking integer part in to a matrix and convert to equivalent binary \n",
"    x=modulo(a,2);\n",
"    b= b + (10^q)*x;\n",
"    a=a/2;\n",
"    a=floor(a);\n",
"    q=q+1; \n",
"end\n",
"\n",
"\n",
"\n",
"for i=1:10                                                                             // For values after decimal point converting to binary\n",
"     d=d*2;\n",
"     q=floor(d);\n",
"     s=s+q/(10^i);\n",
"     if d>=1 then\n",
"         d=d-1;\n",
"     end\n",
" end\n",
" k=b+s;\n",
"printf('The binary equivalent of the given decimal number is = %f',k);                                                                                // displaying the final result.\n",
" "
   ]
   }
,
{
		   "cell_type": "markdown",
		   "metadata": {},
		   "source": [
			"## Example 5.5: Binary_number_having_all_ones.sce"
		   ]
		  },
  {
"cell_type": "code",
	   "execution_count": null,
	   "metadata": {
	    "collapsed": true
	   },
	   "outputs": [],
"source": [
"//Example 5.5\n",
"clc                                                                     //clears the command window \n",
"clear                                                                   //clears all the variables \n",
"format('v',18)                                                          //increasing the precision\n",
"n=32; // given 32 1's\n",
"dec=2^n - 1 ;\n",
"printf('The decimal equivalent of 32 bit number with all 1s is = %f ',dec);     // displaying the result "
   ]
   }
,
{
		   "cell_type": "markdown",
		   "metadata": {},
		   "source": [
			"## Example 5.6: Decimal_to_binary_conversion.sce"
		   ]
		  },
  {
"cell_type": "code",
	   "execution_count": null,
	   "metadata": {
	    "collapsed": true
	   },
	   "outputs": [],
"source": [
"//Example 5.6\n",
"clc                                                                     //clears the command window \n",
"clear                                                                   //clears all the variables \n",
"q=0;\n",
"b=0;\n",
"s=0;\n",
"format('v',18);                                                                        //increasing the precision to 18 .\n",
"//a=input('Enter the decimal no to be converted to its binary equivalent : ');         // accepting the decimal input from user \n",
"a=363;                                                                                   //taking the value given in problem\n",
"d=modulo(a,1);                                                                        //separating the decimal part and the integer part \n",
"a=floor(a);                                                                            //removing the decimal part \n",
"\n",
"while(a>0)                                                                               //taking integer part in to a matrix and convert to equivalent binary \n",
"    x=modulo(a,2);\n",
"    b= b + (10^q)*x;\n",
"    a=a/2;\n",
"    a=floor(a);\n",
"    q=q+1; \n",
"end\n",
"\n",
"\n",
"\n",
"for i=1:10                                                                             // For values after decimal point converting to binary\n",
"     d=d*2;\n",
"     q=floor(d);\n",
"     s=s+q/(10^i);\n",
"     if d>=1 then\n",
"         d=d-1;\n",
"     end\n",
" end\n",
" k=b+s;\n",
" disp('The give decimal number is 363')\n",
"printf(' The binary equivalent of the given decimal number is = %f',k);                                                                         // displaying the final result.\n",
" "
   ]
   }
,
{
		   "cell_type": "markdown",
		   "metadata": {},
		   "source": [
			"## Example 5.7: binary_to_hexadecimal.sce"
		   ]
		  },
  {
"cell_type": "code",
	   "execution_count": null,
	   "metadata": {
	    "collapsed": true
	   },
	   "outputs": [],
"source": [
"//Example 5.7\n",
"clc                                                                     //clears the command window \n",
"clear                                                                   //clears all the variables \n",
"q=1;\n",
"b=0;\n",
"f=0;\n",
"bin=input('Enter the 8-bit binary address :');                            // Taking the input binary bits from the user \n",
"a=floor(bin)\n",
"while(a>0)                                                                //Loop to take the binary bits in to a matrix(array)\n",
"    r=modulo(a,10);\n",
"    b(1,q)=r;\n",
"    a=a/10;\n",
"    a=floor(a);\n",
"    q=q+1;\n",
"end\n",
"for m=1:q-1                                                                // converrting to decimal\n",
"    c=m-1;\n",
"    f = f + b(1,m)*(2^c);\n",
"end\n",
"c=dec2hex(f);\n",
"printf('The hexadecimal equivalent of the given binary number is : %s',c);             //displaying the value"
   ]
   }
,
{
		   "cell_type": "markdown",
		   "metadata": {},
		   "source": [
			"## Example 5.8: hexadecimal_to_decimal.sce"
		   ]
		  },
  {
"cell_type": "code",
	   "execution_count": null,
	   "metadata": {
	    "collapsed": true
	   },
	   "outputs": [],
"source": [
"//Example 5.8\n",
"clc                                                                                                         //clear the command window\n",
"clear                                                                                                        //clear the variables\n",
"a=input('Enter the hexadecimal number to be converted into decimal(enter in a single quotation) : ')         // taking the input from user\n",
"d=hex2dec(a);\n",
"printf('The decimal equivalent is : %d',d);                                                                           //displaying the output\n",
"                                                                                                     \n",
""
   ]
   }
,
{
		   "cell_type": "markdown",
		   "metadata": {},
		   "source": [
			"## Example 5.9: decimal_to_hexadecimal_and_binary.sce"
		   ]
		  },
  {
"cell_type": "code",
	   "execution_count": null,
	   "metadata": {
	    "collapsed": true
	   },
	   "outputs": [],
"source": [
"//Example 5.9\n",
"clc                                     //clears the command window\n",
"clear                                    //clears the variables \n",
"q=0;\n",
"b=0;\n",
"//a=input('enter the decimal no:')\n",
"a=65535;                                    // giving the value specified in the problem \n",
"temp =a;\n",
"format('v',18)                              //increasing the precision to 18\n",
"a=floor(a);\n",
"h=dec2hex(a);\n",
"while(a>0)                                   // converting to binary \n",
"    x=modulo(a,2);\n",
"    b= b + (10^q)*x;\n",
"    a=a/2;\n",
"    a=floor(a);\n",
"    q=q+1; \n",
"end\n",
"printf('Given decimal number is : %d\n',temp)\n",
"printf('The hexadecimal equivalent is = %s\n',h);                                               //displaying the results \n",
"printf('The binary equivalent is = %f',b );"
   ]
   }
],
"metadata": {
		  "kernelspec": {
		   "display_name": "Scilab",
		   "language": "scilab",
		   "name": "scilab"
		  },
		  "language_info": {
		   "file_extension": ".sce",
		   "help_links": [
			{
			 "text": "MetaKernel Magics",
			 "url": "https://github.com/calysto/metakernel/blob/master/metakernel/magics/README.md"
			}
		   ],
		   "mimetype": "text/x-octave",
		   "name": "scilab",
		   "version": "0.7.1"
		  }
		 },
		 "nbformat": 4,
		 "nbformat_minor": 0
}
