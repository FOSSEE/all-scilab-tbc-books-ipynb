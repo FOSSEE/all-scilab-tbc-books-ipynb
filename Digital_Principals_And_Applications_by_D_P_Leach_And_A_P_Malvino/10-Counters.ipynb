{
"cells": [
 {
		   "cell_type": "markdown",
	   "metadata": {},
	   "source": [
       "# Chapter 10: Counters"
	   ]
	},
{
		   "cell_type": "markdown",
		   "metadata": {},
		   "source": [
			"## Example 10.10: Expression_for_a_gate_to_decode_count_8_in_a_7492A.sce"
		   ]
		  },
  {
"cell_type": "code",
	   "execution_count": null,
	   "metadata": {
	    "collapsed": true
	   },
	   "outputs": [],
"source": [
"//example 10.10\n",
"clc;\n",
"clear;\n",
"printf('The correct expresion is ''8'' = Qd Qc'' Qb Qa''');"
   ]
   }
,
{
		   "cell_type": "markdown",
		   "metadata": {},
		   "source": [
			"## Example 10.12: mod_12_counter.sce"
		   ]
		  },
  {
"cell_type": "code",
	   "execution_count": null,
	   "metadata": {
	    "collapsed": true
	   },
	   "outputs": [],
"source": [
"//example 10.12\n",
"clc\n",
"clear\n",
"//pro= ('Enter the value to whic counter should progress:');\n",
"pro =11; // given input \n",
"q=1;\n",
"aa=pro;\n",
"for i=1:4             //converting the given number in to binary \n",
"    x=modulo(aa,2);\n",
"    b(q)=x;\n",
"    aa=aa/2;\n",
"    aa=floor(aa);\n",
"    q=q+1; \n",
"end\n",
"           \n",
"bi=' ';   // then printing the NAND gate inputs \n",
"for i=1:4\n",
"    if i==1 & b(i)==1 then\n",
"        bi=strcat([bi 'Qa']);\n",
"    elseif i==1 & b(i)== 0 ;\n",
"        bi=strcat([bi 'Qa''']);   \n",
"    end\n",
"    if i==2 & b(i)==1 then\n",
"        bi=strcat([bi 'Qb']);\n",
"    elseif i==2 & b(i)== 0 ;\n",
"        bi=strcat([bi 'Qb''']);   \n",
"    end\n",
"    if i==3 & b(i)==1 then\n",
"        bi=strcat([bi 'Qc']);\n",
"    elseif i==3 & b(i)== 0 ;\n",
"        bi=strcat([bi 'Qc''']);   \n",
"    end\n",
"    if i==4 & b(i)==1 then\n",
"        bi=strcat([bi 'Qd']);\n",
"    elseif i==4 & b(i)== 0 ;\n",
"        bi=strcat([bi 'Qd''']);   \n",
"    end\n",
"\n",
"end\n",
"disp('The NAND gate inputs must be :'); \n",
"disp(bi)\n",
""
   ]
   }
,
{
		   "cell_type": "markdown",
		   "metadata": {},
		   "source": [
			"## Example 10.13: 4_bit_binary_counter_presettable.sce"
		   ]
		  },
  {
"cell_type": "code",
	   "execution_count": null,
	   "metadata": {
	    "collapsed": true
	   },
	   "outputs": [],
"source": [
"//example 10.13\n",
"clc;\n",
"clear\n",
"//pre=input('Enter the number where the counter is preset');\n",
"pre = 1001; // given preset value  \n",
"q=1;\n",
"b=0;\n",
"f=0;                \n",
"a=pre;\n",
"while(a>0) //converting to decimal \n",
"    r=modulo(a,10);\n",
"    b(1,q)=r;\n",
"    a=a/10;\n",
"    a=floor(a);\n",
"    q=q+1;\n",
"end\n",
"for m=1:q-1\n",
"     c=m-1\n",
"    f = f + b(1,m)*(2^c);\n",
"end\n",
"disp('The counter will count down to 15 , Then preset back to %d, The resulting state diagram is shown below');\n",
"for k=1:3\n",
"for i=9:-1:0  // this will print the states \n",
"printf('%d  ',i);\n",
"end;\n",
"printf('15  ');\n",
"\n",
"end;"
   ]
   }
,
{
		   "cell_type": "markdown",
		   "metadata": {},
		   "source": [
			"## Example 10.14: self_correcting_modulo_6_counter.sce"
		   ]
		  },
  {
"cell_type": "code",
	   "execution_count": null,
	   "metadata": {
	    "collapsed": true
	   },
	   "outputs": [],
"source": [
"//example 10.14\n",
"//this program uses the following functions \n",
"//kmap3.sci\n",
"//noof.sci and noof0.sci\n",
"//the above programs should be executed before executing these programs  \n",
"clc;\n",
"n= [ 0 0 0;\n",
"     0 0 1;\n",
"     0 1 0;\n",
"     0 1 1;\n",
"     1 0 0;\n",
"     1 0 1;\n",
"     1 1 0;\n",
"     1 1 1];\n",
"     for i= 1 : 5\n",
"         n1(i,:)= n(i+1,:) \n",
"     end\n",
"     for i=6:8\n",
"     n1(i,:)=[0 0 0]\n",
"  end;\n",
"  p=1;\n",
"  for i= 1:3  //making the state table \n",
"      for j = 1:8\n",
"          if n(j,i)== 0 \n",
"              jf(j,p)= n1(j,i);\n",
"              jf(j,p+1)= 2;\n",
"          elseif n(j,i) == 1\n",
"              jf(j,p)=2;\n",
"              jf(j,p+1)=bitcmp(n1(j,i),1);\n",
"      end\n",
"  end\n",
"  p=p+2\n",
"end;\n",
"disp('State tabel for mod 6 counter:'); //displaying the state table \n",
"di= [n n1 jf];\n",
"disp('   Cn    Bn    An   Cn1   Bn1    An1   Jc    Kc    Jb    Kb    Ja    Ka');\n",
"disp(di);\n",
"disp('Here ''2'' represents a don''t care condition');\n",
"disp('These below Karnaugh maps give the design equations');\n",
"\n",
"jc=[0 0 1 0;2 2 2 2] //Krnaugh Maps for the design equations \n",
"JC=kmap3(jc);   //calling the 3-variable kmap \n",
"printf('\n\nJC = %s \n',JC); //displaying the result\n",
"\n",
"kc=[2 2 2 2;0 1 1 1]\n",
"KC=kmap3(kc);//calling the 3-variable kmap \n",
"printf('\n\nKC = %s \n',KC); //displaying the result\n",
"\n",
"jb=[0 1 2 2;0 0 2 2]\n",
"JB=kmap3(jb);//calling the 3-variable kmap \n",
"printf('\n\nJB = %s \n',JB); //displaying the result\n",
"\n",
"kb=[2 2 1 0;2 2 1 1]\n",
"KB=kmap3(kb);//calling the 3-variable kmap \n",
"printf('\n\nKB = %s \n',KB); //displaying the result\n",
"\n",
"ja=[1 2 2 1;1 2 2 0]\n",
"JA=kmap3(ja);//calling the 3-variable kmap \n",
"printf('\n\nJA = %s \n',JA); //displaying the result\n",
"\n",
"ka=[2 1 1 2;2 1 1 2]\n",
"KA=kmap3(ka);//calling the 3-variable kmap \n",
"printf('\n\nKA = %s \n',KA); //displaying the result"
   ]
   }
,
{
		   "cell_type": "markdown",
		   "metadata": {},
		   "source": [
			"## Example 10.15: sequence_generator.sce"
		   ]
		  },
  {
"cell_type": "code",
	   "execution_count": null,
	   "metadata": {
	    "collapsed": true
	   },
	   "outputs": [],
"source": [
"//example 10.15 \n",
"//this program use kmap2.sci \n",
"//kmap2.sci should be executed before executing this program\n",
"clc;\n",
"a= [0 0 1 1]\n",
"b= [0 1 0 1]\n",
"y= [1 1 0 1]\n",
"k= [1 1 ; 0 1]\n",
"bi = kmap2(k); // calling 2-variable kmap\n",
"disp('   A     B     Y');\n",
"for i=1:3\n",
"    Y(i,1) = a(i);\n",
"    Y(i,2) = b(i);\n",
"    Y(i,3) = y(i);\n",
"end\n",
"disp(Y);\n",
"disp('The minimised expression from karnaugh map is');// displaying the result\n",
"disp(bi);"
   ]
   }
,
{
		   "cell_type": "markdown",
		   "metadata": {},
		   "source": [
			"## Example 10.1: ripple_counter_clock_frequency.sce"
		   ]
		  },
  {
"cell_type": "code",
	   "execution_count": null,
	   "metadata": {
	    "collapsed": true
	   },
	   "outputs": [],
"source": [
"//example 10.1\n",
"clc;\n",
"clear;\n",
"//c= input('Enter the period of the waveform at C in micro seconds : ');\n",
"c=24;// given period of waveform \n",
"clk= c/8;\n",
"clkf = 1/(clk*10^-3);\n",
"printf('The clock period is %f micro seconds \n',clk);//displaying the results \n",
"printf('The clock frequenc must be %f  KHz ', clkf);"
   ]
   }
,
{
		   "cell_type": "markdown",
		   "metadata": {},
		   "source": [
			"## Example 10.2: number_of_flip_flops_required_to_construct_a_counter.sce"
		   ]
		  },
  {
"cell_type": "code",
	   "execution_count": null,
	   "metadata": {
	    "collapsed": true
	   },
	   "outputs": [],
"source": [
"//example 10.2\n",
"clc;\n",
"clc\n",
"c=128; // given counters \n",
"d=32;\n",
"e=64;\n",
"fc=log2(c);//making necessar calculations \n",
"fd=log2(d);\n",
"printf('A mod-128 conter should have %d flipflops\n', fc);\n",
"printf(' A mod-32 conter should have %d flipflops\n', fd); //displaying the results \n",
"fe=log2(e);\n",
"n=2^fe - 1 ;\n",
"printf(' The largest decimal no that can be stored in a mod-64 counter is %d',n);\n",
"\n",
"\n",
"\n",
""
   ]
   }
,
{
		   "cell_type": "markdown",
		   "metadata": {},
		   "source": [
			"## Example 10.3: Output_waveforms_for_a_7493A_connected_as_a_mod_16_counter.sce"
		   ]
		  },
  {
"cell_type": "code",
	   "execution_count": null,
	   "metadata": {
	    "collapsed": true
	   },
	   "outputs": [],
"source": [
"clc;\n",
"clear;\n",
"close;\n",
"t=320; \n",
"p=1;\n",
"while p<t*1 //making arrays for ploting \n",
"    if p==1 | modulo(p,t)==0 then\n",
"        for k=1:t/2\n",
"            qd(p+k)=0;\n",
"        end\n",
"         p=p+t/2;\n",
"        else \n",
"            qd(p)=1;\n",
"            p=p+1;\n",
"        end\n",
"end\n",
"t=160;\n",
"p=1;\n",
"while p<t*2\n",
"    if p==1 | modulo(p,t)==0 then\n",
"        for k=1:t/2\n",
"            qc(p+k)=0;\n",
"        end\n",
"         p=p+t/2;\n",
"        else \n",
"          qc(p)=1;\n",
"            p=p+1;\n",
"        end\n",
"end\n",
"t=80;\n",
"p=1;\n",
"while p<t*4\n",
"    if p==1 | modulo(p,t)==0 then\n",
"        for k=1:t/2\n",
"            qb(p+k)=0;\n",
"        end\n",
"         p=p+t/2;\n",
"        else \n",
"          qb(p)=1;\n",
"            p=p+1;\n",
"        end\n",
"end\n",
"t=40;\n",
"p=1;\n",
"while p<t*8\n",
"    if p==1 | modulo(p,t)==0 then\n",
"        for k=1:t/2\n",
"            qa(p+k)=0;\n",
"        end\n",
"         p=p+t/2;\n",
"        else \n",
"          qa(p)=1;\n",
"            p=p+1;\n",
"        end\n",
"end\n",
"t=20;\n",
"p=1;\n",
"while p<t*16\n",
"    if p==1 | modulo(p,t)==0 then\n",
"        for k=1:t/2\n",
"            clk(p+k)=0;\n",
"        end\n",
"         p=p+t/2;\n",
"        else \n",
"          clk(p)=1;\n",
"            p=p+1;\n",
"        end\n",
"end\n",
"for i=320:350\n",
"    clk(i)=0;\n",
"    qa(i)=0;\n",
"    qb(i)=0;\n",
"    qc(i)=0;\n",
"    qd(i)=0;\n",
"end;\n",
"y=[3 3]; //ploting the graphs  \n",
"subplot(5,1,1)\n",
"title('Clock')\n",
"plot(clk)\n",
"plot(y)\n",
"subplot(5,1,2)\n",
"title('Qa')\n",
"plot(qa)\n",
"plot(y)\n",
"subplot(5,1,3)\n",
"title('Qb')\n",
"plot(qb)\n",
"plot(y)\n",
"subplot(5,1,4)\n",
"title('Qc')\n",
"plot(qc)\n",
"plot(y)\n",
"subplot(5,1,5)\n",
"title('Qd')\n",
"plot(qd)\n",
"plot(y)"
   ]
   }
,
{
		   "cell_type": "markdown",
		   "metadata": {},
		   "source": [
			"## Example 10.5: EX10_5.sce"
		   ]
		  },
  {
"cell_type": "code",
	   "execution_count": null,
	   "metadata": {
	    "collapsed": true
	   },
	   "outputs": [],
"source": [
"//example 10.5\n",
"clc;\n",
"clear;\n",
"printf('The correct expression is : (count-up clock)''(Qa)(Qb)(Qc)');"
   ]
   }
,
{
		   "cell_type": "markdown",
		   "metadata": {},
		   "source": [
			"## Example 10.6: EX10_6.sce"
		   ]
		  },
  {
"cell_type": "code",
	   "execution_count": null,
	   "metadata": {
	    "collapsed": true
	   },
	   "outputs": [],
"source": [
"//example 10.6 \n",
"clc;\n",
"clear;\n",
"printf('The correct logic expression is : (down-up)''(Qa)(Qb)(Qc)(enable)''');"
   ]
   }
,
{
		   "cell_type": "markdown",
		   "metadata": {},
		   "source": [
			"## Example 10.7: number_of_flip_flops_required_to_construct_a_counter.sce"
		   ]
		  },
  {
"cell_type": "code",
	   "execution_count": null,
	   "metadata": {
	    "collapsed": true
	   },
	   "outputs": [],
"source": [
"//example 10.7\n",
"clc;\n",
"clear;\n",
"mod = input('Enter the n value in your desired mod-n counter:');//taking the input\n",
"m=mod;\n",
"while 1\n",
" n= log2(mod); //checking whether the given number is a power of 2 \n",
" k=modulo(n,1);\n",
" if k==0  then\n",
"     printf('The number of flip flops used in mod-%d counter are:',m); // if yes the print th outpu.\n",
"     printf('%d',n);\n",
"     return;\n",
" end\n",
" mod =mod+1;\n",
" end"
   ]
   }
,
{
		   "cell_type": "markdown",
		   "metadata": {},
		   "source": [
			"## Example 10.8: what_modulus_counters_can_be_constructed_with_given_number_of_flip_flops_e.sce"
		   ]
		  },
  {
"cell_type": "code",
	   "execution_count": null,
	   "metadata": {
	    "collapsed": true
	   },
	   "outputs": [],
"source": [
"//example 10.8 \n",
"clc;\n",
"clear;\n",
"//ff = input('Enter the no of flip-flops :');\n",
"ff=4; //given input \n",
"k=2^ff;\n",
"if(k==2) then  //output display\n",
"    printf('With given flipflop we can only count 2, we can have a modulus 2 counter'); \n",
"    else\n",
"printf('With given number of flip-flops the counter will have a natural count of %d\n',k);\n",
"printf('We can thus construct any counter that has a modulus between %d and 2',k )\n",
"end;"
   ]
   }
,
{
		   "cell_type": "markdown",
		   "metadata": {},
		   "source": [
			"## Example 10.9: mod_6_counter.sce"
		   ]
		  },
  {
"cell_type": "code",
	   "execution_count": null,
	   "metadata": {
	    "collapsed": true
	   },
	   "outputs": [],
"source": [
"//example 10.9\n",
"\n",
"clc;\n",
"clear;\n",
"close;\n",
"c = [0 1 0 1 0 1 0 1 0 1 0 1 0 1 0 1 0 1 0 1 0 1 0 1 0]; //taking the values for a mod -6 counter \n",
"q = [0 0 1 1 0 0 1 1 0 0 1 1 0 0 1 1 0 0 1 1 0 0 1 1 0];\n",
"a = [0 0 0 0 1 1 1 1 0 0 0 0 0 0 0 0 1 1 1 1 0 0 0 0 0];\n",
"b = [0 0 0 0 0 0 0 0 1 1 1 1 0 0 0 0 0 0 0 0 1 1 1 1 0];\n",
"y1=q;\n",
"y2=a;\n",
"y3=b;\n",
"y11p=1;\n",
"y22p=1;\n",
"y33p=1;\n",
"y44p=1;\n",
"cp=1;\n",
"yf1p=1;\n",
"for i=1:25    // making arrays to draw the output \n",
"    if y1(i)==1 then\n",
"        for o=1:100\n",
"        y11(y11p)=1;\n",
"        y11p=y11p+1;\n",
"        end\n",
"    else\n",
"        for o=1:100\n",
"        y11(y11p)=0;\n",
"        y11p=y11p+1;\n",
"        end\n",
"\n",
"end\n",
"if y2(i)==1 then\n",
"        for o=1:100\n",
"        y21(y22p)=1;\n",
"        y22p=y22p+1;\n",
"        end\n",
"    else\n",
"        for o=1:100\n",
"        y21(y22p)=0;\n",
"        y22p=y22p+1;\n",
"        end\n",
"\n",
"end\n",
"if y3(i)==1 then\n",
"        for o=1:100\n",
"        y31(y33p)=1;\n",
"        y33p=y33p+1;\n",
"        end\n",
"    else\n",
"        for o=1:100\n",
"        y31(y33p)=0;\n",
"        y33p=y33p+1;\n",
"        end\n",
"\n",
"end\n",
"if c(i)==1 then\n",
"        for o=1:100\n",
"        c1(cp)=1;\n",
"        cp=cp+1;\n",
"        end\n",
"    else\n",
"        for o=1:100\n",
"        c1(cp)=0;\n",
"        cp=cp+1;\n",
"        end\n",
"end\n",
"\n",
"end\n",
"z=[2 2];   \n",
"subplot(4,1,1); //ploting the out put \n",
"title('Timing Diagram');\n",
"plot(c1);\n",
"plot(z);\n",
"ylabel('C');\n",
"subplot(4,1,2);\n",
"plot(y11);\n",
"ylabel('Q');\n",
"plot(z);\n",
"subplot(4,1,3);\n",
"plot(y21);\n",
"ylabel('A');\n",
"plot(z);\n",
"subplot(4,1,4);\n",
"plot(z);\n",
"ylabel('B');\n",
"plot(y31);"
   ]
   }
],
"metadata": {
		  "kernelspec": {
		   "display_name": "Scilab",
		   "language": "scilab",
		   "name": "scilab"
		  },
		  "language_info": {
		   "file_extension": ".sce",
		   "help_links": [
			{
			 "text": "MetaKernel Magics",
			 "url": "https://github.com/calysto/metakernel/blob/master/metakernel/magics/README.md"
			}
		   ],
		   "mimetype": "text/x-octave",
		   "name": "scilab",
		   "version": "0.7.1"
		  }
		 },
		 "nbformat": 4,
		 "nbformat_minor": 0
}
