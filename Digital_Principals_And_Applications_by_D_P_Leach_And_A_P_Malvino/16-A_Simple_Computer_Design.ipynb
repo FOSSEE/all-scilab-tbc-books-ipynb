{
"cells": [
 {
		   "cell_type": "markdown",
	   "metadata": {},
	   "source": [
       "# Chapter 16: A Simple Computer Design"
	   ]
	},
{
		   "cell_type": "markdown",
		   "metadata": {},
		   "source": [
			"## Example 16.1: size_of_PC_IR_ACC_MAR_MDR.sce"
		   ]
		  },
  {
"cell_type": "code",
	   "execution_count": null,
	   "metadata": {
	    "collapsed": true
	   },
	   "outputs": [],
"source": [
"//example 16.1 \n",
"clc\n",
"clear\n",
"//len = input('Enter the length of each memory location in bits :');\n",
"//op = input('Enter the length of Opcode:');\n",
"len =16;\n",
"op=4;\n",
"nop= 2^4;   // calculating \n",
"nab = len-op;\n",
"memloc = 2^nab;\n",
"memsize = memloc*16;\n",
"mem=memsize/1024;\n",
"printf('(a)Maximum Number of Opcodes = %d \n',nop); // displaying \n",
"printf(' (b)Size of memory in Kilo bits = %d \n',mem);\n",
"printf(' (c)Size of PC and MAR = %d \n',nab );\n",
"printf('   Size of IR = %d\n',op);\n",
"printf('   Size of ACC and MDR = %d \n',len);"
   ]
   }
,
{
		   "cell_type": "markdown",
		   "metadata": {},
		   "source": [
			"## Example 16.6: Number_of_clock_cycles_needed_to_execute_a_program.sce"
		   ]
		  },
  {
"cell_type": "code",
	   "execution_count": null,
	   "metadata": {
	    "collapsed": true
	   },
	   "outputs": [],
"source": [
"//example 16.6\n",
"lda= input('Enter the number of LDA instructions :'); // accepting the input from the user  \n",
"add= input('Enter the number of ADD instructions :');\n",
"sub= input('Enter the number of SUB instructions :');\n",
"sta= input('Enter the number of STA instructions :');\n",
"shl= input('Enter the number of SHL instructions :');\n",
"hlt= input('Enter the number of HLT instructions :');\n",
"k= lda+add+sub+sta; \n",
"l=shl+hlt;\n",
"c= k*5 + l*4; // calculating the total no.of clck cycles required \n",
"printf('Total clock cycles required to execute are = %d ',c); //displaying result."
   ]
   }
],
"metadata": {
		  "kernelspec": {
		   "display_name": "Scilab",
		   "language": "scilab",
		   "name": "scilab"
		  },
		  "language_info": {
		   "file_extension": ".sce",
		   "help_links": [
			{
			 "text": "MetaKernel Magics",
			 "url": "https://github.com/calysto/metakernel/blob/master/metakernel/magics/README.md"
			}
		   ],
		   "mimetype": "text/x-octave",
		   "name": "scilab",
		   "version": "0.7.1"
		  }
		 },
		 "nbformat": 4,
		 "nbformat_minor": 0
}
