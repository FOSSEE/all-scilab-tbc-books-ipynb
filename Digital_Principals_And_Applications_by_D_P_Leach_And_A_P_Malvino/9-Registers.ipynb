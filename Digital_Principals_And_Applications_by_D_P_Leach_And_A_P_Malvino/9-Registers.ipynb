{
"cells": [
 {
		   "cell_type": "markdown",
	   "metadata": {},
	   "source": [
       "# Chapter 9: Registers"
	   ]
	},
{
		   "cell_type": "markdown",
		   "metadata": {},
		   "source": [
			"## Example 9.1: shift_register_serial_input.sce"
		   ]
		  },
  {
"cell_type": "code",
	   "execution_count": null,
	   "metadata": {
	    "collapsed": true
	   },
	   "outputs": [],
"source": [
"//example 9.1\n",
"clc;\n",
"clear;\n",
"close ;\n",
"//s = input ('Enter the number to be serially shifted in to the shift register');\n",
"s=0100; // given serial input\n",
"for i = 4:-1:1\n",
"    se(i) =modulo(s,10);\n",
"    s=s/10;  \n",
"    s=round(s);\n",
"end\n",
"se(i+4)=0;\n",
"k=0;\n",
"for i = 2:6  // making state table  \n",
"    clk(k+1) = k;\n",
"    q(i)=se(i-1);\n",
"    if i>1 then\n",
"        r(i) = q(i-1);\n",
"    else\n",
"        r(i) =0;\n",
"    end;\n",
"    if i>2 then\n",
"        s(i) = r(i-1);\n",
"    else\n",
"        s(i) =0;\n",
"    end;\n",
"    if i>3 then\n",
"        t(i) =s(i-1);\n",
"    else\n",
"        t(i) =0;\n",
"    end;\n",
"    k=k+1; \n",
"end\n",
"for i = 1 : 5 // printing the state table \n",
"        Y(i,1)=clk(i);\n",
"        Y(i,2)=se(i);\n",
"        Y(i,3)=q(i);\n",
"        Y(i,4)=r(i);\n",
"        Y(i,5)= s(i);\n",
"        Y(i,6)=t(i);\n",
"        end\n",
"disp('The state table  is :');\n",
"disp('Clock  Input   Q     R     S     T');\n",
"disp(Y);"
   ]
   }
,
{
		   "cell_type": "markdown",
		   "metadata": {},
		   "source": [
			"## Example 9.2: shift_register_serial_input_and_output_graph.sce"
		   ]
		  },
  {
"cell_type": "code",
	   "execution_count": null,
	   "metadata": {
	    "collapsed": true
	   },
	   "outputs": [],
"source": [
"//example 9.2\n",
"clc\n",
"clear\n",
"close\n",
"t1=100; // clock period\n",
"s=0100; //given serial input \n",
"for i = 4:-1:1\n",
"    se(i) = modulo(s,10);\n",
"    s=s/10;  \n",
"    s=round(s);\n",
"end\n",
"se(i+4)=0;\n",
"k=0;\n",
"for i = 2:6 //initially making a state table \n",
"    clk(k+1) = k;\n",
"    q(i)=se(i-1);\n",
"    if i>1 then\n",
"        r(i) = q(i-1);\n",
"    else\n",
"        r(i) =0;\n",
"    end;\n",
"    if i>2 then\n",
"        s(i) = r(i-1);\n",
"    else\n",
"        s(i) =0;\n",
"    end;\n",
"    if i>3 then\n",
"        t(i) =s(i-1);\n",
"    else\n",
"        t(i) =0;\n",
"    end;\n",
"    k=k+1;\n",
"end\n",
"for m=1:5   // drawing the graph \n",
"    if(se(m)==1) then\n",
"       v= ((m-1).*t1)\n",
"        for u= 1: t1\n",
"            se1(u+v)=1;\n",
"            end\n",
"        else  \n",
"            v= ((m-1)*t1)\n",
"            for  u= 1: t1\n",
"                se1(u+v)=0;\n",
"            end\n",
"        end;\n",
"        \n",
"        if(q(m)==1) then\n",
"       v= ((m-1).*t1)\n",
"        for u= 1: t1\n",
"            q1(u+v)=1;\n",
"            end\n",
"        else  \n",
"            v= ((m-1)*t1)\n",
"            for  u= 1: t1\n",
"                q1(u+v)=0;\n",
"            end\n",
"        end;   \n",
"        if(r(m)==1) then\n",
"       v= ((m-1).*t1)\n",
"        for u= 1: t1\n",
"            r1(u+v)=1;\n",
"            end\n",
"        else  \n",
"            v= ((m-1)*t1)\n",
"            for  u= 1: t1\n",
"                r1(u+v)=0;\n",
"            end\n",
"        end;    \n",
"        if(s(m)==1) then\n",
"       v= ((m-1).*t1)\n",
"        for u= 1: t1\n",
"            s1(u+v)=1;\n",
"            end\n",
"        else  \n",
"            v= ((m-1)*t1)\n",
"            for  u= 1: t1\n",
"                s1(u+v)=0;\n",
"            end\n",
"        end;\n",
"        if(t(m)==1) then\n",
"       v= ((m-1).*t1)\n",
"        for u= 1: t1\n",
"            t11(u+v)=1;\n",
"            end\n",
"        else  \n",
"            v= ((m-1)*t1)\n",
"            for  u= 1: t1\n",
"                t11(u+v)=0;\n",
"            end\n",
"            end;     \n",
"       end; \n",
"p=1;\n",
"while p<t1*5\n",
"     if p==1 | modulo(p,t1) == 1 then\n",
"        for k=1:t1/2\n",
"            cin(p+k)=0;\n",
"        end\n",
"         p=p+t1/2;\n",
"        else \n",
"            cin(p)=1;\n",
"            p=p+1;\n",
"        end\n",
"end\n",
"y=[3 3];\n",
"subplot(6,1,1)  // making subplots to draw all graphs in a single window\n",
"title('Clock')\n",
"plot(cin)\n",
"plot(y)\n",
"subplot(6,1,2)\n",
"title('Serial input')\n",
"plot(se1)\n",
"plot(y)\n",
"subplot(6,1,3)\n",
"title('Q')\n",
"plot(q1)\n",
"plot(y)\n",
"subplot(6,1,4)\n",
"title('R')\n",
"plot(r1)\n",
"plot(y)\n",
"subplot(6,1,5)\n",
"title('S')\n",
"plot(s1)\n",
"plot(y)\n",
"subplot(6,1,6)\n",
"title('T')\n",
"plot(t11)\n",
"plot(y)"
   ]
   }
,
{
		   "cell_type": "markdown",
		   "metadata": {},
		   "source": [
			"## Example 9.4: 54164_shift_register.sce"
		   ]
		  },
  {
"cell_type": "code",
	   "execution_count": null,
	   "metadata": {
	    "collapsed": true
	   },
	   "outputs": [],
"source": [
"//example 9.4\n",
"clc;\n",
"clear;\n",
"//b= input('Enter the number of bits :');\n",
"//c= input('Enter the clock frequency in Mhz :');\n",
"b= 8; // given values \n",
"c=10;\n",
"t= 1000/c;\n",
"printf('One clock period takes %d ns\n',t); //displying the results \n",
"tt=t*b;\n",
"printf(' Time required by total bits required is %d ns',tt);"
   ]
   }
,
{
		   "cell_type": "markdown",
		   "metadata": {},
		   "source": [
			"## Example 9.5: 54164_shift_register.sce"
		   ]
		  },
  {
"cell_type": "code",
	   "execution_count": null,
	   "metadata": {
	    "collapsed": true
	   },
	   "outputs": [],
"source": [
"//example 9.5\n",
"clc;\n",
"clear;\n",
"close;\n",
"//c= input('Enter the clock frequency in Mhz :');\n",
"c=10; //given clock frequency \n",
"t= 1000/c;\n",
"printf('The data must be stable for 30 ns\n');  //displaying results \n",
"tc = t-30;\n",
"printf(' The data may be changing in %d ns',tc);"
   ]
   }
,
{
		   "cell_type": "markdown",
		   "metadata": {},
		   "source": [
			"## Example 9.8: 74ls174.sce"
		   ]
		  },
  {
"cell_type": "code",
	   "execution_count": null,
	   "metadata": {
	    "collapsed": true
	   },
	   "outputs": [],
"source": [
"//exaple 9.8 \n",
"clc;\n",
"clear;\n",
"//s=input('Enter the setup time in ns :');\n",
"//h=input('Enter the hold time in ns :');\n",
"s=20;   //given input values  \n",
"h=5;    \n",
"printf('The data input levels must be held steady foor a minimum of %d ns',(s+h));  // displayin the results "
   ]
   }
,
{
		   "cell_type": "markdown",
		   "metadata": {},
		   "source": [
			"## Example 9.9: 7495A.sce"
		   ]
		  },
  {
"cell_type": "code",
	   "execution_count": null,
	   "metadata": {
	    "collapsed": true
	   },
	   "outputs": [],
"source": [
"//example 9.9 \n",
"clc;\n",
"clear;\n",
"disp('The mode control line must be high. The data lines must be stable for more than 10 ns prior to the clock NTs . If the clock is stopped after the transition time T, the levels n the input data lines may be changed. However , if the clock is not stopped, the input data levels must be mainted.')"
   ]
   }
],
"metadata": {
		  "kernelspec": {
		   "display_name": "Scilab",
		   "language": "scilab",
		   "name": "scilab"
		  },
		  "language_info": {
		   "file_extension": ".sce",
		   "help_links": [
			{
			 "text": "MetaKernel Magics",
			 "url": "https://github.com/calysto/metakernel/blob/master/metakernel/magics/README.md"
			}
		   ],
		   "mimetype": "text/x-octave",
		   "name": "scilab",
		   "version": "0.7.1"
		  }
		 },
		 "nbformat": 4,
		 "nbformat_minor": 0
}
