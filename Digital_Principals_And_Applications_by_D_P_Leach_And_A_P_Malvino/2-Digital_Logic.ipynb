{
"cells": [
 {
		   "cell_type": "markdown",
	   "metadata": {},
	   "source": [
       "# Chapter 2: Digital Logic"
	   ]
	},
{
		   "cell_type": "markdown",
		   "metadata": {},
		   "source": [
			"## Example 2.10: truth_table_for_NOR_NOR_circuit.sce"
		   ]
		  },
  {
"cell_type": "code",
	   "execution_count": null,
	   "metadata": {
	    "collapsed": true
	   },
	   "outputs": [],
"source": [
"// exmple 2.10\n",
"clc\n",
"clear\n",
"a=[0 0 0 0 0 0 0 0 1 1 1 1 1 1 1 1];\n",
"b=[0 0 0 0 1 1 1 1 0 0 0 0 1 1 1 1];\n",
"c=[0 0 1 1 0 0 1 1 0 0 1 1 0 0 1 1];\n",
"d=[0 1 0 1 0 1 0 1 0 1 0 1 0 1 0 1];\n",
"for i=1:16\n",
"    x=bitor(a(i),b(i));\n",
"    y=bitor(c(i),d(i));\n",
"    r(i)=bitand(x,y);\n",
"end\n",
"disp('Truth table :');\n",
"disp('   A     B     C     D     Y')\n",
"for i = 1 : 16  //displaying truth table \n",
"        Y(i,1)=a(i);\n",
"        Y(i,2)=b(i);\n",
"        Y(i,3)=c(i);\n",
"        Y(i,4)=d(i);\n",
"        Y(i,5)=r(i);\n",
"        end\n",
"disp(Y);"
   ]
   }
,
{
		   "cell_type": "markdown",
		   "metadata": {},
		   "source": [
			"## Example 2.11: timing_diagram_for_NOR_NOR.sce"
		   ]
		  },
  {
"cell_type": "code",
	   "execution_count": null,
	   "metadata": {
	    "collapsed": true
	   },
	   "outputs": [],
"source": [
"// exmple 2.11\n",
"clc\n",
"clear\n",
"close\n",
"a=[0 0 0 0 0 0 0 0 1 1 1 1 1 1 1 1];\n",
"b=[0 0 0 0 1 1 1 1 0 0 0 0 1 1 1 1];\n",
"c=[0 0 1 1 0 0 1 1 0 0 1 1 0 0 1 1];\n",
"d=[0 1 0 1 0 1 0 1 0 1 0 1 0 1 0 1];\n",
"for i=1:16\n",
"    x=bitor(a(i),b(i));\n",
"    y=bitor(c(i),d(i));\n",
"    r(i)=bitand(x,y);\n",
"end\n",
"Y=r\n",
"ap=1;\n",
"bp=1;\n",
"cp=1;\n",
"dp=1;Yp=1;\n",
"for i=1:16     //Making array to plot the timing diagram\n",
"    if a(i)==1 then\n",
"        for o=1:100\n",
"        a1(ap)=1;\n",
"        ap=ap+1;\n",
"        end\n",
"    else\n",
"        for o=1:100\n",
"        a1(ap)=0;\n",
"        ap=ap+1;\n",
"        end\n",
"end\n",
"if b(i)==1 then\n",
"        for o=1:100\n",
"        b1(bp)=1;\n",
"        bp=bp+1;\n",
"                end\n",
"    else\n",
"        for o=1:100\n",
"        b1(bp)=0;\n",
"        bp=bp+1;\n",
"        end\n",
"\n",
"end\n",
"if c(i)==1 then\n",
"        for o=1:100\n",
"        c1(cp)=1;\n",
"        cp=cp+1;\n",
"        end\n",
"    else\n",
"        for o=1:100\n",
"        c1(cp)=0;\n",
"        cp=cp+1;\n",
"        end\n",
"end\n",
"if d(i)==1 then\n",
"        for o=1:100\n",
"        d1(dp)=1;\n",
"        dp=dp+1;\n",
"        end\n",
"    else\n",
"        for o=1:100\n",
"        d1(dp)=0;\n",
"        dp=dp+1;\n",
"        end\n",
"    end\n",
"if Y(i)==1 then\n",
"        for o=1:100\n",
"        Y1(Yp)=1;\n",
"        Yp=Yp+1;\n",
"        end\n",
"    else\n",
"        for o=1:100\n",
"        Y1(Yp)=0;\n",
"        Yp=Yp+1;\n",
"        end\n",
"    end\n",
"end\n",
"z=[2 2];    \n",
"subplot(5,1,1);   //plotting timing diagram \n",
"title('Timing Diagrm');\n",
"plot(z);\n",
"plot(a1);\n",
"ylabel('A');\n",
"subplot(5,1,2);\n",
"plot(z);\n",
"ylabel('B');\n",
"plot(b1);\n",
"subplot(5,1,3);\n",
"plot(z);\n",
"ylabel('C');\n",
"plot(c1);\n",
"subplot(5,1,4);\n",
"plot(z);\n",
"ylabel('D');\n",
"plot(d1);\n",
"subplot(5,1,5);\n",
"plot(z);\n",
"ylabel('Y');\n",
"xlabel('Time in milli seconds');\n",
"plot(Y1);"
   ]
   }
,
{
		   "cell_type": "markdown",
		   "metadata": {},
		   "source": [
			"## Example 2.12: proving_two_circuits_are_logically_equal.sce"
		   ]
		  },
  {
"cell_type": "code",
	   "execution_count": null,
	   "metadata": {
	    "collapsed": true
	   },
	   "outputs": [],
"source": [
"//Example 2.12\n",
"clc\n",
"clear\n",
"a=[0 0 0 0 0 0 0 0 1 1 1 1 1 1 1 1];\n",
"b=[0 0 0 0 1 1 1 1 0 0 0 0 1 1 1 1];\n",
"c=[0 0 1 1 0 0 1 1 0 0 1 1 0 0 1 1];\n",
"d=[0 1 0 1 0 1 0 1 0 1 0 1 0 1 0 1];\n",
"for i=1:16 // finding Y and y1 for all possible inpt cases \n",
"    x=bitand(a(i),b(i));\n",
"    y=bitand(c(i),d(i));\n",
"    r(i)=bitor(x,y);\n",
"    x1=bitcmp(x,1);\n",
"    y1=bitcmp(y,1);\n",
"    z=bitand(x1,y1);\n",
"    r1(i)=bitcmp(z,1);\n",
"end\n",
"disp('   Y    Y1');\n",
"for i = 1 : 16 // displaying result\n",
"        Y(i,1)=r(i);\n",
"        Y(i,2)=r1(i);\n",
"        end\n",
"disp(Y);\n",
"disp('Both are logically equivalent');"
   ]
   }
,
{
		   "cell_type": "markdown",
		   "metadata": {},
		   "source": [
			"## Example 2.13: truth_table_for_NAND_NAND_circuit.sce"
		   ]
		  },
  {
"cell_type": "code",
	   "execution_count": null,
	   "metadata": {
	    "collapsed": true
	   },
	   "outputs": [],
"source": [
"// exmple 2.13\n",
"//NAND - NAND \n",
"clc\n",
"clear\n",
"close\n",
"a=[0 0 0 0 0 0 0 0 1 1 1 1 1 1 1 1];\n",
"b=[0 0 0 0 1 1 1 1 0 0 0 0 1 1 1 1];\n",
"c=[0 0 1 1 0 0 1 1 0 0 1 1 0 0 1 1];\n",
"d=[0 1 0 1 0 1 0 1 0 1 0 1 0 1 0 1];\n",
"for i=1:16\n",
"    x=bitand(a(i),b(i));\n",
"    y=bitand(c(i),d(i));\n",
"    r(i)=bitor(x,y);\n",
"end\n",
"disp('Truth table :');\n",
"disp('   A     B     C     D     Y')\n",
"for i = 1 : 16   // displaying the truth table \n",
"        Y(i,1)=a(i);\n",
"        Y(i,2)=b(i);\n",
"        Y(i,3)=c(i);\n",
"        Y(i,4)=d(i);\n",
"        Y(i,5)=r(i);\n",
"end\n",
"disp(Y);"
   ]
   }
,
{
		   "cell_type": "markdown",
		   "metadata": {},
		   "source": [
			"## Example 2.14: timing_diagram_for_NAND_NAND_circuit.sce"
		   ]
		  },
  {
"cell_type": "code",
	   "execution_count": null,
	   "metadata": {
	    "collapsed": true
	   },
	   "outputs": [],
"source": [
"// exmple 2.14\n",
"clc\n",
"clear\n",
"close\n",
"a=[0 0 0 0 0 0 0 0 1 1 1 1 1 1 1 1];\n",
"b=[0 0 0 0 1 1 1 1 0 0 0 0 1 1 1 1];\n",
"c=[0 0 1 1 0 0 1 1 0 0 1 1 0 0 1 1];\n",
"d=[0 1 0 1 0 1 0 1 0 1 0 1 0 1 0 1];\n",
"for i=1:16\n",
"    x=bitand(a(i),b(i));\n",
"    y=bitand(c(i),d(i));\n",
"    r(i)=bitor(x,y);\n",
"end\n",
"Y=r\n",
"ap=1;\n",
"bp=1;\n",
"cp=1;\n",
"dp=1;Yp=1;\n",
"for i=1:16    //Making arrays to plot the timing diagram\n",
"    if a(i)==1 then\n",
"        for o=1:100\n",
"        a1(ap)=1;\n",
"        ap=ap+1;\n",
"        end\n",
"    else\n",
"        for o=1:100\n",
"        a1(ap)=0;\n",
"        ap=ap+1;\n",
"        end\n",
"\n",
"end\n",
"if b(i)==1 then\n",
"        for o=1:100\n",
"        b1(bp)=1;\n",
"        bp=bp+1;\n",
"        //z(bp)=3\n",
"        end\n",
"    else\n",
"        for o=1:100\n",
"        b1(bp)=0;\n",
"        bp=bp+1;\n",
"        //z(bp)=3\n",
"        end\n",
"\n",
"end\n",
"if c(i)==1 then\n",
"        for o=1:100\n",
"        c1(cp)=1;\n",
"        cp=cp+1;\n",
"        end\n",
"    else\n",
"        for o=1:100\n",
"        c1(cp)=0;\n",
"        cp=cp+1;\n",
"        end\n",
"\n",
"end\n",
"if d(i)==1 then\n",
"        for o=1:100\n",
"        d1(dp)=1;\n",
"        dp=dp+1;\n",
"        end\n",
"    else\n",
"        for o=1:100\n",
"        d1(dp)=0;\n",
"        dp=dp+1;\n",
"        end\n",
"\n",
"    end\n",
"if Y(i)==1 then\n",
"        for o=1:100\n",
"        Y1(Yp)=1;\n",
"        Yp=Yp+1;\n",
"        end\n",
"    else\n",
"        for o=1:100\n",
"        Y1(Yp)=0;\n",
"        Yp=Yp+1;\n",
"        end\n",
"\n",
"    end\n",
"\n",
"end\n",
"z=[2 2];   \n",
"subplot(5,1,1);   //plotting timing diagram \n",
"title('Timing Diagrm');\n",
"plot(z);\n",
"plot(a1);\n",
"ylabel('A');\n",
"subplot(5,1,2);\n",
"plot(z);\n",
"ylabel('B');\n",
"plot(b1);\n",
"subplot(5,1,3);\n",
"plot(z);\n",
"ylabel('C');\n",
"plot(c1);\n",
"subplot(5,1,4);\n",
"plot(z);\n",
"ylabel('D');\n",
"plot(d1);\n",
"subplot(5,1,5);\n",
"plot(z);\n",
"ylabel('Y');\n",
"xlabel('Time in milli seconds');\n",
"plot(Y1);"
   ]
   }
,
{
		   "cell_type": "markdown",
		   "metadata": {},
		   "source": [
			"## Example 2.15: detecting_all_bits_low_in_a_register.sce"
		   ]
		  },
  {
"cell_type": "code",
	   "execution_count": null,
	   "metadata": {
	    "collapsed": true
	   },
	   "outputs": [],
"source": [
"//example 2.15\n",
"clc\n",
"clear\n",
"s=0; // s from the register \n",
"s(1)=input('Enter the value at S0 :')\n",
"s(2)=input('Enter the value at S1 :')\n",
"s(3)=input('Enter the value at S2 :')\n",
"s(4)=input('Enter the value at S3 :')\n",
"s(5)=input('Enter the value at S4 :')\n",
"s(6)=input('Enter the value at S5 :')\n",
"s(7)=input('Enter the value at S6 :')\n",
"s(8)=input('Enter the value at S7 :')\n",
"count =0;\n",
"for i =1 :8 //loop to detect a '1' \n",
"    if s(i)==1 then\n",
"        disp('ZERO is LOW');\n",
"        break;\n",
"    end\n",
"    count =count+1;       \n",
"end\n",
"if count==8 then\n",
"    disp('ZERO is HIGH');\n",
"end;"
   ]
   }
,
{
		   "cell_type": "markdown",
		   "metadata": {},
		   "source": [
			"## Example 2.1: 7404_waveform.sce"
		   ]
		  },
  {
"cell_type": "code",
	   "execution_count": null,
	   "metadata": {
	    "collapsed": true
	   },
	   "outputs": [],
"source": [
"//exmaple 2.1 \n",
"//7404\n",
"clc\n",
"close\n",
"clear\n",
"//frq= input('Enter the square wave frequency in KHz :');\n",
"frq=1 ;// frequency in KHz\n",
"t=(1/frq)*100;\n",
"t=round(t)\n",
"for r=1:t*10\n",
"    inputc(r)=0;\n",
"    outputc(r)=0;\n",
"end\n",
"p=1;\n",
"while p<t*10                        // making arrays to plot the curve \n",
"    if p==1 | modulo(p,t)==0 then\n",
"        for k=1:t/2\n",
"            inputc(p+k)=0;\n",
"            outputc(p+k)=1;\n",
"        end\n",
"        p=p+t/2;\n",
"        else \n",
"            inputc(p)=1;\n",
"            outputc(p)=0;\n",
"            p=p+1;\n",
"        end\n",
"end\n",
"y=[3 3];\n",
"subplot(2,1,1)      //ploting the curves \n",
"title('input at pin 1')\n",
"xlabel('Time X 10^-5 seconds');\n",
"ylabel('Magnitude')\n",
"plot(inputc)\n",
"plot(y)\n",
"subplot(2,1,2)\n",
"title('output at pin 2')\n",
"xlabel('Time X 10^-5 seconds');\n",
"ylabel('Magnitude')\n",
"plot(outputc)\n",
"plot(y)"
   ]
   }
,
{
		   "cell_type": "markdown",
		   "metadata": {},
		   "source": [
			"## Example 2.2: 7404_waveform.sce"
		   ]
		  },
  {
"cell_type": "code",
	   "execution_count": null,
	   "metadata": {
	    "collapsed": true
	   },
	   "outputs": [],
"source": [
"//exmaple 2.2 \n",
"//7404\n",
"clc\n",
"close\n",
"clear\n",
"//frq= input('Enter the square wave frequency in KHz :');\n",
"frq=0.5 ;//KHz\n",
"t=(1/frq)*100;\n",
"t=round(t)\n",
"for r=1:t*10\n",
"    inputc(r)=0;\n",
"    outputc(r)=0;\n",
"end\n",
"p=1;\n",
"while p<t*10                                   // making arrays t plot the curve \n",
"    if p==1 | modulo(p,t)==0 then\n",
"        for k=1:t/2\n",
"            inputc(p+k)=0;\n",
"            outputc(p+k)=1;\n",
"        end\n",
"        p=p+t/2;\n",
"        else \n",
"            inputc(p)=1;\n",
"            outputc(p)=0;\n",
"            p=p+1;\n",
"        end\n",
"end\n",
"y=[3 3];\n",
"subplot(2,1,1)    //ploting the graphs \n",
"title('input at pin 1')\n",
"xlabel('Time X 10^-5 seconds');\n",
"ylabel('Magnitude')\n",
"plot(inputc)\n",
"plot(y)\n",
"subplot(2,1,2)\n",
"title('output at pin 2')\n",
"xlabel('Time X 10^-5 seconds');\n",
"ylabel('Magnitude')\n",
"plot(outputc)\n",
"plot(y)"
   ]
   }
,
{
		   "cell_type": "markdown",
		   "metadata": {},
		   "source": [
			"## Example 2.3: truth_table_for_given_figure.sce"
		   ]
		  },
  {
"cell_type": "code",
	   "execution_count": null,
	   "metadata": {
	    "collapsed": true
	   },
	   "outputs": [],
"source": [
"// exmple 2.3\n",
"clc\n",
"clear\n",
"close\n",
"a=[0 0 1 1];\n",
"b=[0 1 0 1];\n",
"for i=1:4\n",
"    r(i)= bitor(bitcmp(a(i),1), bitcmp(b(i),1))    // given expression\n",
"end\n",
"disp('   A     B     Y')\n",
"for i = 1 : 4\n",
"        Y(i,1)=a(i);\n",
"        Y(i,2)=b(i);\n",
"        Y(i,3)=r(i);\n",
"        end\n",
"disp(Y);  //displaying truth table \n",
"disp('''1'' represents a HIGH(H) and ''0'' represents a LOW(L)')"
   ]
   }
,
{
		   "cell_type": "markdown",
		   "metadata": {},
		   "source": [
			"## Example 2.4: truth_table_for_given_figure.sce"
		   ]
		  },
  {
"cell_type": "code",
	   "execution_count": null,
	   "metadata": {
	    "collapsed": true
	   },
	   "outputs": [],
"source": [
"// exmple 2.4\n",
"clear\n",
"clc\n",
"a=[0 0 1 1];\n",
"b=[0 1 0 1];\n",
"for i=1:4\n",
"    r(i)= bitand(bitcmp(a(i),1), bitcmp(b(i),1)) //given expression\n",
"end\n",
"disp('   A     B     Y')\n",
"for i = 1 : 4 \n",
"        Y(i,1)=a(i);\n",
"        Y(i,2)=b(i);\n",
"        Y(i,3)=r(i);\n",
"        end\n",
"disp(Y);  //displaying truth table \n",
"disp('''1'' represents a HIGH(H) and ''0'' represents a LOW(L)')"
   ]
   }
,
{
		   "cell_type": "markdown",
		   "metadata": {},
		   "source": [
			"## Example 2.9: proving_two_circuits_are_logically_equal.sce"
		   ]
		  },
  {
"cell_type": "code",
	   "execution_count": null,
	   "metadata": {
	    "collapsed": true
	   },
	   "outputs": [],
"source": [
"//Example 2.9\n",
"clc\n",
"clear\n",
"close\n",
"a=[0 0 0 0 0 0 0 0 1 1 1 1 1 1 1 1];\n",
"b=[0 0 0 0 1 1 1 1 0 0 0 0 1 1 1 1];\n",
"c=[0 0 1 1 0 0 1 1 0 0 1 1 0 0 1 1];\n",
"d=[0 1 0 1 0 1 0 1 0 1 0 1 0 1 0 1];\n",
"for i=1:16      // finding Y for all 16 cases \n",
"    x=bitor(a(i),b(i));\n",
"    y=bitor(c(i),d(i));\n",
"    r(i)=bitand(x,y);\n",
"    x1=bitcmp(x,1);\n",
"    y1=bitcmp(y,1);\n",
"    z=bitor(x1,y1);\n",
"    r1(i)=bitcmp(z,1);\n",
"end\n",
"disp('   Y    Y1');\n",
"for i = 1 : 16\n",
"        Y(i,1)=r1(i);\n",
"        Y(i,2)=r(i);\n",
"        end\n",
"disp(Y); //displaying result \n",
"disp('Both are logically equivalent');"
   ]
   }
],
"metadata": {
		  "kernelspec": {
		   "display_name": "Scilab",
		   "language": "scilab",
		   "name": "scilab"
		  },
		  "language_info": {
		   "file_extension": ".sce",
		   "help_links": [
			{
			 "text": "MetaKernel Magics",
			 "url": "https://github.com/calysto/metakernel/blob/master/metakernel/magics/README.md"
			}
		   ],
		   "mimetype": "text/x-octave",
		   "name": "scilab",
		   "version": "0.7.1"
		  }
		 },
		 "nbformat": 4,
		 "nbformat_minor": 0
}
