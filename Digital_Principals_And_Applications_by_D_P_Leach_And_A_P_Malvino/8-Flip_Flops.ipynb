{
"cells": [
 {
		   "cell_type": "markdown",
	   "metadata": {},
	   "source": [
       "# Chapter 8: Flip Flops"
	   ]
	},
{
		   "cell_type": "markdown",
		   "metadata": {},
		   "source": [
			"## Example 8.10: fictitious_flip_flop_excitation_table.sce"
		   ]
		  },
  {
"cell_type": "code",
	   "execution_count": null,
	   "metadata": {
	    "collapsed": true
	   },
	   "outputs": [],
"source": [
"//Example 8.10\n",
"clc\n",
"clear\n",
"close\n",
"b=[0 1 0 1 0 1 0 1];//given truth tble for the fictitious flip flop \n",
"a = [0 0 1 1 0 0 1 1];\n",
"qn = [0 0 0 0 1 1 1 1];\n",
"for i=1:8\n",
"if(a(i)==0 & b(i)==0) then \n",
"    qn1(i) = 0;\n",
"    end;\n",
"if (a(i)==1 & b(i)== 1) then \n",
"    qn1(i) = 1 ;\n",
" end;\n",
" if (a(i)==1 & b(i)== 0) then \n",
"    qn1(i) = bitcmp(qn(i),1) ;\n",
" end;\n",
" if (a(i)==0 & b(i)== 1) then \n",
"    qn1(i) = (qn(i)) ;\n",
" end;\n",
"end;\n",
"for i = 1 : 8   // printin the truth table \n",
"        Y(i,1)=qn(i);\n",
"        Y(i,2)=a(i);\n",
"        Y(i,3)=b(i);\n",
"        Y(i,4)=qn1(i);\n",
"        end\n",
"disp('The given truth table  is :');\n",
"disp('  Qn     A     B    Qn+1');\n",
"disp(Y);\n",
"disp('The transitions are shown below');\n",
"c1=0;\n",
"c2=0;\n",
"c3=0;\n",
"c4=0;\n",
"for j=1:8 //checking all possible cases to make a transition table  \n",
"            if(qn(j)==0) then\n",
"         if(qn1(j) == 0) then\n",
"             if(c1==0) then\n",
"                 disp('transition from 0 ----> 0');\n",
"                 disp('   A     B ');\n",
"                 c1=1;\n",
"                 end;\n",
"                disp(Y(j,2:3));\n",
"        end;\n",
"  end;\n",
"end;\n",
"for j=1:8\n",
"        if(qn(j)==0) then\n",
"         if(qn1(j) == 1) then\n",
"             if(c2==0) then\n",
"                 disp('transition from 0 ----> 1');\n",
"                 disp('   A     B ');\n",
"                 c2=1;\n",
"                 end;\n",
"                disp(Y(j,2:3));\n",
"        end;\n",
"  end;\n",
"end;\n",
"for j=1:8\n",
"        if(qn(j)==1) then\n",
"         if(qn1(j) == 0) then\n",
"             if(c3==0) then\n",
"                 disp('transition from 1 ----> 0');\n",
"                 disp('   A     B ');\n",
"                 c3=1;\n",
"                 end;\n",
"                disp (Y(j,2:3));\n",
"        end;\n",
"  end;\n",
"end;\n",
"for j=1:8\n",
"        if(qn(j)==1) then\n",
"         if(qn1(j) == 1) then\n",
"             if(c4==0) then\n",
"                 disp('transition from 1 ----> 1');\n",
"                 disp('   A     B ');\n",
"                 c4=1;\n",
"                 end;\n",
"                disp(Y(j,2:3));\n",
"        end;\n",
"  end;\n",
"end; "
   ]
   }
,
{
		   "cell_type": "markdown",
		   "metadata": {},
		   "source": [
			"## Example 8.12: state_transition_diagram_for_given_circuit.sce"
		   ]
		  },
  {
"cell_type": "code",
	   "execution_count": null,
	   "metadata": {
	    "collapsed": true
	   },
	   "outputs": [],
"source": [
"//example 8.12\n",
"clc;\n",
"clear;\n",
"close;\n",
"qn=[0,0,1,1];\n",
"x=[0,1,0,1];\n",
"for i=1:4 // calculating Y for all possible cases \n",
"    d(i)= bitxor(x(i),qn(i));\n",
"    qn1(i) =d(i);\n",
"    y(i)=bitand(x(i),bitcmp(qn(i),1));\n",
"end;\n",
"for i = 1 : 4  // displaying the state table \n",
"        Y(i,1)=qn(i);\n",
"        Y(i,2)=x(i);\n",
"        Y(i,3)=d(i);\n",
"        Y(i,4)=qn1(i);\n",
"        Y(i,5)= y(i);\n",
"        end\n",
"disp('The state table  is :');\n",
"disp('   Qn    X     D    Qn+1   Y');\n",
"disp(Y);"
   ]
   }
,
{
		   "cell_type": "markdown",
		   "metadata": {},
		   "source": [
			"## Example 8.13: D_flip_flop_to_RS_flip_flop.sce"
		   ]
		  },
  {
"cell_type": "code",
	   "execution_count": null,
	   "metadata": {
	    "collapsed": true
	   },
	   "outputs": [],
"source": [
"//example 8.13 \n",
"clc;\n",
"clear;\n",
"disp('For SR flip flop Qn+1 = S + R`Qn  and  for D flip-flop Qn+1 = D .');\n",
"disp('Thus with D = S + R`Qn  we get circuit which behaves like SR flip-flop.');"
   ]
   }
,
{
		   "cell_type": "markdown",
		   "metadata": {},
		   "source": [
			"## Example 8.4: RS_flipflop.sce"
		   ]
		  },
  {
"cell_type": "code",
	   "execution_count": null,
	   "metadata": {
	    "collapsed": true
	   },
	   "outputs": [],
"source": [
"//example 8.4\n",
"clc;\n",
"clear;\n",
"en=input('Enter the enable input level(1 or 0) : ') ;\n",
"r=input('enter the R input level(1 or 0) : ' );//accepting the inputs from the user \n",
"s=input('enter the S input level(1 or 0) : ' );\n",
"qn=input('Enter the previous output value(1 or 0) : ');\n",
"\n",
"if en == 0 then // clculating the output \n",
"    op = qn;\n",
"elseif (s==0 & r==0) then \n",
"    op=qn;\n",
"elseif(s==1&r==1) then\n",
"    disp('The inputs are illegal');\n",
"    return;\n",
"else\n",
"    op=s;\n",
"    \n",
"end\n",
"\n",
"printf('\n \noutput (Qn+1) = %d ',op);//displaying the output "
   ]
   }
,
{
		   "cell_type": "markdown",
		   "metadata": {},
		   "source": [
			"## Example 8.5: positive_edge_triggred_RS_flip_flop.sce"
		   ]
		  },
  {
"cell_type": "code",
	   "execution_count": null,
	   "metadata": {
	    "collapsed": true
	   },
	   "outputs": [],
"source": [
"//example 8.5\n",
"clc;\n",
"clear;\n",
"disp('Here what happens at each point in time' );\n",
"disp('Time  t0: S = 0, R = 0,  no change in Q (Q remains 0)');\n",
"disp('Time  t1: S = 1, R = 0,  Q changes from 0 to 1');\n",
"disp('Time  t2: S = 0, R = 1,  Q resets to 0');\n",
"disp('Time  t3: S = 1, R = 0,  Q sets to 1 ');\n",
"disp('Time  t4: S = 0, R = 0,  no change in Q (Q remains 1)');\n",
"disp('Notice that either R or S, or both, are allowed to change state at any time, whether C is high or low. The only time both R and S must be stable (unchanging) is during the short PTs of the clock.');"
   ]
   }
,
{
		   "cell_type": "markdown",
		   "metadata": {},
		   "source": [
			"## Example 8.6: negative_edge_triggred_RS_flip_flop.sce"
		   ]
		  },
  {
"cell_type": "code",
	   "execution_count": null,
	   "metadata": {
	    "collapsed": true
	   },
	   "outputs": [],
"source": [
"//example 8.6\n",
"clc;\n",
"clear;\n",
"disp('Here what happens at each point in time' );\n",
"disp('Time  t0: S = 0, R = 0,  no change in Q (Q remains 0)');\n",
"disp('Time  t1: S = 1, R = 0,  Q changes from 0 to 1');\n",
"disp('Time  t2: S = 0, R = 1,  Q resets to 0');\n",
"disp('Time  t3: S = 1, R = 0,  Q sets to 1 ');\n",
"disp('Time  t4: S = 0, R = 0,  no change in Q (Q remains 1)');\n",
"disp('Notice that either R or S, or both, are allowed to change state at any time, whether C is high or low. The only time both R and S must be stable (unchanging) is during the short NTs of the clock.');"
   ]
   }
,
{
		   "cell_type": "markdown",
		   "metadata": {},
		   "source": [
			"## Example 8.7: T_flip_flop.sce"
		   ]
		  },
  {
"cell_type": "code",
	   "execution_count": null,
	   "metadata": {
	    "collapsed": true
	   },
	   "outputs": [],
"source": [
"//example 8.7\n",
"clc;\n",
"clear;\n",
"close;\n",
"printf('For input J and K = 0 otput Qn+1 = Qn i.e output does not change its state And for J = K = 1, The Output Qn+1 = Qn` i.e output toggles ' );"
   ]
   }
,
{
		   "cell_type": "markdown",
		   "metadata": {},
		   "source": [
			"## Example 8.9: JK_master_slave.sce"
		   ]
		  },
  {
"cell_type": "code",
	   "execution_count": null,
	   "metadata": {
	    "collapsed": true
	   },
	   "outputs": [],
"source": [
"//example 8.9\n",
"clc\n",
"close\n",
"clear\n",
"disp('since J=K=1, the flip-flop simply toggles ech time the clock goes low, The waveform at Q has a period twice of that of the  wavefrm. In other words, the frequency of Q id only one-half of that of . This circuit acts as a frequency divider  --the output frequency divide by 2. Note that Q changes state on NTs of the clock. The waveforms are as shown in the figure ');\n",
"t=50; // taken time period \n",
"p=1;\n",
"while p<t*10  // tking values for ploting the graph \n",
"    if p==1 | modulo(p,t)==0 then\n",
"        for k=1:t/2\n",
"            cin(p+k)=0;\n",
"        end\n",
"         p=p+t/2;\n",
"        else \n",
"            cin(p)=1;\n",
"            p=p+1;\n",
"        end\n",
"end\n",
"t=100;\n",
"p=1;\n",
"while p<t*5\n",
"    if p==1 | modulo(p,t)==0 then\n",
"        for k=1:t/2\n",
"            dout(p+k)=0;\n",
"        end\n",
"         p=p+t/2;\n",
"        else \n",
"          dout(p)=1;\n",
"            p=p+1;\n",
"        end\n",
"end\n",
"y=[3 3];\n",
"subplot(2,1,1)  //plotin both the plots in a single window\n",
"title('input at pin C')\n",
"plot(cin)\n",
"plot(y)\n",
"subplot(2,1,2)\n",
"title('out put at pin D')\n",
"plot(dout)\n",
"plot(y)"
   ]
   }
],
"metadata": {
		  "kernelspec": {
		   "display_name": "Scilab",
		   "language": "scilab",
		   "name": "scilab"
		  },
		  "language_info": {
		   "file_extension": ".sce",
		   "help_links": [
			{
			 "text": "MetaKernel Magics",
			 "url": "https://github.com/calysto/metakernel/blob/master/metakernel/magics/README.md"
			}
		   ],
		   "mimetype": "text/x-octave",
		   "name": "scilab",
		   "version": "0.7.1"
		  }
		 },
		 "nbformat": 4,
		 "nbformat_minor": 0
}
