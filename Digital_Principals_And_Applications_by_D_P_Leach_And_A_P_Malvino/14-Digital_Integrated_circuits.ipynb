{
"cells": [
 {
		   "cell_type": "markdown",
	   "metadata": {},
	   "source": [
       "# Chapter 14: Digital Integrated circuits"
	   ]
	},
{
		   "cell_type": "markdown",
		   "metadata": {},
		   "source": [
			"## Example 14.1: diode_forward_or_reverse.sce"
		   ]
		  },
  {
"cell_type": "code",
	   "execution_count": null,
	   "metadata": {
	    "collapsed": true
	   },
	   "outputs": [],
"source": [
"//example 14.1\n",
"clc;\n",
"clear;\n",
"close; \n",
"vdc = input('Enter the value of DC voltage Vdc in volts :');\n",
"r = input('Enter the value of resistace in K ohms :');\n",
"v = input(' Enter the value of voltage across diode in volts :');\n",
"\n",
"i = (vdc-v)/r ;\n",
"format('v',4);\n",
"if(i>0)  // checking whether the diode is forward or reverse biased by checking current \n",
"    disp('The diode is in forward bias');\n",
"    disp('The diode current in mA is :');\n",
"    disp(i);\n",
"else\n",
"    disp('The diode is in Reverse bias');\n",
"    disp('The diode current in mA is : 0.0');\n",
"end;"
   ]
   }
,
{
		   "cell_type": "markdown",
		   "metadata": {},
		   "source": [
			"## Example 14.2: Diode_current.sce"
		   ]
		  },
  {
"cell_type": "code",
	   "execution_count": null,
	   "metadata": {
	    "collapsed": true
	   },
	   "outputs": [],
"source": [
"//example 14.2\n",
"clc;\n",
"clear;\n",
"close; \n",
"vdc = input('Enter the value of DC voltage Vdc in volts :');\n",
"r = input('Enter the value of resistace in K ohms :');\n",
"//v = input(' Enter the value of voltage across diode in volts:');\n",
"v= 1.6;\n",
"i = (vdc-v)/r ; /// calculating the current \n",
"    disp('The diode current in mA is :');\n",
"    disp(i);"
   ]
   }
,
{
		   "cell_type": "markdown",
		   "metadata": {},
		   "source": [
			"## Example 14.3: current_in_the_given_circuit.sce"
		   ]
		  },
  {
"cell_type": "code",
	   "execution_count": null,
	   "metadata": {
	    "collapsed": true
	   },
	   "outputs": [],
"source": [
"//example 14.3\n",
"clc;\n",
"clear;\n",
"close; \n",
"v1 = input('Enter the value of V1 in volts :'); // taking the inpt voltage  \n",
"disp('CASE - a');// case a \n",
"if (v1==0) then\n",
"    disp('V2 = 5 V');\n",
"    disp('I = 0 mA');\n",
"   else\n",
"       disp('V2 = 0 V')\n",
"       disp('I = 5 mA ')\n",
"end\n",
"disp('CASE - b'); // case b \n",
"if (v1==0) then\n",
"   disp('V2 = 5 V')\n",
"       disp('I = 5 mA' )\n",
"else\n",
"     disp('V2 = 0 V');\n",
"    disp('I = 0 mA');\n",
"       \n",
"end"
   ]
   }
,
{
		   "cell_type": "markdown",
		   "metadata": {},
		   "source": [
			"## Example 14.4: n_channel_MOSFET_inverter.sce"
		   ]
		  },
  {
"cell_type": "code",
	   "execution_count": null,
	   "metadata": {
	    "collapsed": true
	   },
	   "outputs": [],
"source": [
"//example 14.4\n",
"clc;\n",
"clear;\n",
"v1 = input('Enter the value of V1 in volts :'); //part a : v1 =0 ; part b : v1 =5v\n",
"if (v1==0) then // checking for V1 \n",
"    disp('V2 = 5 V');\n",
"    disp('I = 0 mA');\n",
"   else\n",
"       disp('V2 = 0 V');\n",
"       disp('I = 0.5 mA ');\n",
"end"
   ]
   }
],
"metadata": {
		  "kernelspec": {
		   "display_name": "Scilab",
		   "language": "scilab",
		   "name": "scilab"
		  },
		  "language_info": {
		   "file_extension": ".sce",
		   "help_links": [
			{
			 "text": "MetaKernel Magics",
			 "url": "https://github.com/calysto/metakernel/blob/master/metakernel/magics/README.md"
			}
		   ],
		   "mimetype": "text/x-octave",
		   "name": "scilab",
		   "version": "0.7.1"
		  }
		 },
		 "nbformat": 4,
		 "nbformat_minor": 0
}
