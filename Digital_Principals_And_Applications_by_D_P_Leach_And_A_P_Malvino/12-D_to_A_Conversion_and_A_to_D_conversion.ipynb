{
"cells": [
 {
		   "cell_type": "markdown",
	   "metadata": {},
	   "source": [
       "# Chapter 12: D to A Conversion and A to D conversion"
	   ]
	},
{
		   "cell_type": "markdown",
		   "metadata": {},
		   "source": [
			"## Example 12.10: resolutio.sce"
		   ]
		  },
  {
"cell_type": "code",
	   "execution_count": null,
	   "metadata": {
	    "collapsed": true
	   },
	   "outputs": [],
"source": [
"//Example 12.10\n",
"clc;\n",
"clear;\n",
"disp('The LSB of an 11-bit system has a resolution of 1/2048');\n",
"re =ceil(10000/2048); // calculting the resolution\n",
"printf('\n\n 1/2048 x 10 = %d mV',re);"
   ]
   }
,
{
		   "cell_type": "markdown",
		   "metadata": {},
		   "source": [
			"## Example 12.11: counter_type_A_to_D_converter.sce"
		   ]
		  },
  {
"cell_type": "code",
	   "execution_count": null,
	   "metadata": {
	    "collapsed": true
	   },
	   "outputs": [],
"source": [
"//Example 12.11\n",
"clc;\n",
"clear;\n",
"//bit = input('Specify the converter bit length :')\n",
"//fre = input('specify the clock frequency in kHz :')\n",
"bit =8;\n",
"fre = 500\n",
"max_conv_time = 2^bit * (1/(fre*1000));\n",
"avg_conv_time = 0.5 *max_conv_time;\n",
"max_conv_rate = 1/max_conv_time;\n",
"disp('Maximum Conversion Time = ');\n",
"disp(max_conv_time);\n",
"disp('Average Conversion Time =');\n",
"disp(avg_conv_time);\n",
"disp('Maximum Conversion Rate =');\n",
"disp(max_conv_rate);\n",
""
   ]
   }
,
{
		   "cell_type": "markdown",
		   "metadata": {},
		   "source": [
			"## Example 12.13: 10_bit_A_to_D_converter.sce"
		   ]
		  },
  {
"cell_type": "code",
	   "execution_count": null,
	   "metadata": {
	    "collapsed": true
	   },
	   "outputs": [],
"source": [
"//Example 12.13\n",
"clc\n",
"clear\n",
"quat_err = 1/1024 *100 ; \n",
"disp('If the analog portion to be constructed ti an accuracy of 0.1')\n",
"printf('\nThe overall accuracy is in percentage = %f',0.1 + quat_err)"
   ]
   }
,
{
		   "cell_type": "markdown",
		   "metadata": {},
		   "source": [
			"## Example 12.1: binary_equivalent_weight_of_each_bit_in_a_4bit_system.sce"
		   ]
		  },
  {
"cell_type": "code",
	   "execution_count": null,
	   "metadata": {
	    "collapsed": true
	   },
	   "outputs": [],
"source": [
"//chapter 12\n",
"//Example 12.1\n",
"//Q.Find the binary equivalent of each bit in a 4-bit system\n",
"//solution:\n",
"clc;\n",
"clear;\n",
"LSB = 1/(2^4-1); // calculating binary weights \n",
"LSB2 = 2*1/(2^4-1);\n",
"LSB3 = 4*1/(2^4-1);\n",
"MSB = 8*1/(2^4-1);\n",
"disp('Binary weight of each bit in a 4-bit system');\n",
"disp('LSB ='); // displaing the result \n",
"disp(LSB);\n",
"disp('LSB2 =');\n",
"disp(LSB2) \n",
"disp('LSB3 =');\n",
"disp(LSB3) \n",
"disp('MSB =');\n",
"disp(MSB) ;"
   ]
   }
,
{
		   "cell_type": "markdown",
		   "metadata": {},
		   "source": [
			"## Example 12.2: 5_bit_resistive_divider.sce"
		   ]
		  },
  {
"cell_type": "code",
	   "execution_count": null,
	   "metadata": {
	    "collapsed": true
	   },
	   "outputs": [],
"source": [
"//Example 12.2\n",
"clc;\n",
"clear;\n",
"LSB = 1/(2^5-1);  // calculating weights \n",
"LSB2 = 2*1/(2^5-1);\n",
"LSB3 = 4*1/(2^5-1); \n",
"change_LSB = 10 *LSB; \n",
"change_LSB2 = 10 *LSB2;\n",
"change_LSB3 = 10*LSB3;\n",
"op_vol= (10*2^0 + 0*2^1 + 10*2^2 +0*2^3 +10*2^4)/(2^5-1); // calculating output voltage \n",
"disp('(a) LSB =');\n",
"disp(LSB);\n",
"disp('(b)Second LSB =');\n",
"disp(LSB2) \n",
"disp('  Third LSB3 =');\n",
"disp(LSB3) \n",
"disp('(c) change in output voltage caused by ');\n",
"disp('change in LSB =');\n",
"disp(change_LSB);\n",
"disp('change in second LSB =');\n",
"disp(change_LSB2) \n",
"disp('change in third LSB =');\n",
"disp(change_LSB3) \n",
"disp('(d)output voltage for a digital input of 10101 =');\n",
"disp(op_vol) ;"
   ]
   }
,
{
		   "cell_type": "markdown",
		   "metadata": {},
		   "source": [
			"## Example 12.3: 5_bit_ladder.sce"
		   ]
		  },
  {
"cell_type": "code",
	   "execution_count": null,
	   "metadata": {
	    "collapsed": true
	   },
	   "outputs": [],
"source": [
"//Example 12.3\n",
"clc;\n",
"clear;\n",
"for i=1:5 \n",
"    op_v(1,i)= 10/2^i; // calculating otput voltages corresponding to each bit \n",
"end\n",
"disp('output voltages corresponding to each bit are ') //displaying result\n",
"disp(op_v);"
   ]
   }
,
{
		   "cell_type": "markdown",
		   "metadata": {},
		   "source": [
			"## Example 12.4: 5_bit_ladder.sce"
		   ]
		  },
  {
"cell_type": "code",
	   "execution_count": null,
	   "metadata": {
	    "collapsed": true
	   },
	   "outputs": [],
"source": [
"//Example 12.4\n",
"clc\n",
"clear\n",
"V_A=0 \n",
"//a=input('Enter the binary digit(5 bits) :' );\n",
"a=11010\n",
"for i=1:5\n",
"    r=modulo(a,10);\n",
"    b(1,i)=r;\n",
"    a=a/10;\n",
"    a=floor(a);\n",
"end\n",
"for j=1:5\n",
"V_A = V_A + 10*b(1,j)*2^(j-1);\n",
"end;\n",
"V_A=V_A/2^5;\n",
"disp('The output voltage in volts is ');\n",
"disp(V_A); // displaying the value"
   ]
   }
,
{
		   "cell_type": "markdown",
		   "metadata": {},
		   "source": [
			"## Example 12.5: 5_bit_ladder.sce"
		   ]
		  },
  {
"cell_type": "code",
	   "execution_count": null,
	   "metadata": {
	    "collapsed": true
	   },
	   "outputs": [],
"source": [
"//Example 12.5\n",
"clc;\n",
"clear;\n",
"ful_scale_voltage = 0 ;\n",
"for i=1:5 \n",
"    op_v(1,i)= 10/2^i;\n",
"    ful_scale_voltage = ful_scale_voltage + op_v(1,i); // calculating the full scale voltage \n",
"end\n",
"disp('full scale output voltage in volts is =');\n",
"disp(ful_scale_voltage)"
   ]
   }
,
{
		   "cell_type": "markdown",
		   "metadata": {},
		   "source": [
			"## Example 12.6: 5_bit_ladder.sce"
		   ]
		  },
  {
"cell_type": "code",
	   "execution_count": null,
	   "metadata": {
	    "collapsed": true
	   },
	   "outputs": [],
"source": [
"//Example 12.6\n",
"clc;\n",
"clear;\n",
"I=10/(3*10^3);\n",
"printf('Current each input digital voltage must be capable of supplying is =%f mA\n',I*1000)\n",
"ful_scale_voltage = 0 ;\n",
"for i=1:5 \n",
"    op_v(1,i)= 10/2^i;\n",
"    ful_scale_voltage = ful_scale_voltage + op_v(1,i);\n",
"end\n",
"V_A=ful_scale_voltage * (2*1000)/(1000+(2*1000));\n",
"printf('\n Output voltage Va = %f V',V_A);\n",
" "
   ]
   }
,
{
		   "cell_type": "markdown",
		   "metadata": {},
		   "source": [
			"## Example 12.8: DAC0808.sce"
		   ]
		  },
  {
"cell_type": "code",
	   "execution_count": null,
	   "metadata": {
	    "collapsed": true
	   },
	   "outputs": [],
"source": [
"//Example 12.8\n",
"clc;\n",
"clear;\n",
"V0= 10*((1/2)+(1/4)+(1/32)+(1/128)); // calculating voltage when 1,2,5,7 re high \n",
"printf('Output voltage = %f V',V0)//displayin result"
   ]
   }
,
{
		   "cell_type": "markdown",
		   "metadata": {},
		   "source": [
			"## Example 12.9: resolution_of_9_bit_D_to_A.sce"
		   ]
		  },
  {
"cell_type": "code",
	   "execution_count": null,
	   "metadata": {
	    "collapsed": true
	   },
	   "outputs": [],
"source": [
"//Example 12.9\n",
"clc;\n",
"clear\n",
"resol = 1/512 * 100 ; // calculating resol \n",
"vol_resol = 1/512 *5 *1000;\n",
"printf('Resoluition in percentage = %f',resol);\n",
"\n",
"printf('\n\n Voltage resolution = %f mV',vol_resol);"
   ]
   }
],
"metadata": {
		  "kernelspec": {
		   "display_name": "Scilab",
		   "language": "scilab",
		   "name": "scilab"
		  },
		  "language_info": {
		   "file_extension": ".sce",
		   "help_links": [
			{
			 "text": "MetaKernel Magics",
			 "url": "https://github.com/calysto/metakernel/blob/master/metakernel/magics/README.md"
			}
		   ],
		   "mimetype": "text/x-octave",
		   "name": "scilab",
		   "version": "0.7.1"
		  }
		 },
		 "nbformat": 4,
		 "nbformat_minor": 0
}
