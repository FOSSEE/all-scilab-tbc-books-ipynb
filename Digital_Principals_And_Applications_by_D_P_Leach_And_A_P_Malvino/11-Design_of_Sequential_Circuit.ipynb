{
"cells": [
 {
		   "cell_type": "markdown",
	   "metadata": {},
	   "source": [
       "# Chapter 11: Design of Sequential Circuit"
	   ]
	},
{
		   "cell_type": "markdown",
		   "metadata": {},
		   "source": [
			"## Example 11.1: synchronous_sequential_logic_circuit.sce"
		   ]
		  },
  {
"cell_type": "code",
	   "execution_count": null,
	   "metadata": {
	    "collapsed": true
	   },
	   "outputs": [],
"source": [
"//example 11.1\n",
"clc;\n",
"//this program requires \n",
"//kmap3a.sci  to find the kmap \n",
"//noof.sci function used inside kmap\n",
"//noof0.sci function used inside kmap\n",
"n= [ 0 0 0;\n",
"     0 0 1;\n",
"     0 1 0;\n",
"     0 1 1;\n",
"     1 0 0;\n",
"     1 0 1;\n",
"     1 1 0;\n",
"     1 1 1];\n",
"      for i= 1:8    //printing the state synthesis table\n",
"      an1(i,1)=n(i,3);\n",
"      dn(i,1)=n(i,3);\n",
"      if n(i,1)==1 & n(i,2) ==1 & n(i,3)==0 then\n",
"          z(i,1)=1;\n",
"      else \n",
"          z(i,1)=0;\n",
"      end\n",
"end;\n",
"dis=[n an1 dn z];\n",
"disp('State Synthesis table :');\n",
"disp('   An    X     Y    An1    Dn    Z');\n",
"disp(dis);\n",
"printf('\n\n Design equations :\n');\n",
"Dn = [ 0 1 1 0;0 1 1 0];\n",
"Z= [ 0 0 0 0;0 0 0 1];\n",
"dn1= kmap3a(Dn);                        // finding the 3 varible kmap of Dn\n",
"printf('\n     Dn = %s \n\n',dn1);      //displaying the minimized expression\n",
"z1= kmap3a(Z);                          //finding the 3 variable kmap of Z\n",
"printf('\n     Z = %s \n\n',z1);        //displaying the minimized expression"
   ]
   }
,
{
		   "cell_type": "markdown",
		   "metadata": {},
		   "source": [
			"## Example 11.2: vending_machine.sce"
		   ]
		  },
  {
"cell_type": "code",
	   "execution_count": null,
	   "metadata": {
	    "collapsed": true
	   },
	   "outputs": [],
"source": [
"// example 11.2 \n",
"//this code needs \n",
"//donkmapij.sci // function to minimize given expression using a kmap \n",
"//noof1.sci \n",
"//above two shoulb be executed before executing this code\n",
"clc;\n",
"tt=[0 0 0 0 0 0 0 0 0 0;  // given state synthesis table \n",
"    0 0 0 1 0 0 0 0 0 0;\n",
"    0 0 1 0 0 1 0 0 0 1;\n",
"    0 0 1 1 1 0 0 0 1 0;\n",
"    0 1 0 0 0 1 0 0 0 1;\n",
"    0 1 0 1 0 1 0 0 0 1;\n",
"    0 1 1 0 1 0 0 0 1 0;\n",
"    0 1 1 1 0 0 1 0 0 0;\n",
"    1 0 0 0 1 0 0 0 1 0;\n",
"    1 0 0 1 1 0 0 0 1 0;\n",
"    1 0 1 0 0 0 1 0 0 0;\n",
"    1 0 1 1 0 0 1 1 0 0];\n",
"disp('State snthesis table for Vending machine problem'); //printing the staate synthesis table \n",
"disp('Present state   input     Next state    Output     Db    Da');\n",
"disp('   Bn    An    I     J    Bn1   An1    X     Y');\n",
"disp(tt);\n",
"printf('\n\n Design equations :\n');\n",
"\n",
"printf('\n Design equation for DB\n');\n",
"db =[ 0 0 2 1 ; 0 0 2 1 ;1 0 2 0 ;0 1 2 0];\n",
"DB =donkmapij(db);// minimizing the expresion using 4 variable kmap\n",
"printf('\n     DB = %s \n\n',DB);//displaing result \n",
"\n",
"printf('\n Design equation for DA\n');\n",
"da =[ 0 1 2 0;0 1 2 0 ;0 0 2 0;1 0 2 0];\n",
"DA =donkmapij(da);// minimizing the expresion using 4 variable kmap\n",
"printf('\n     DA = %s \n\n',DA);//displaing result\n",
"\n",
"printf('\n Design equation for X\n');\n",
"x =[0 0 2 0;0 0 2 0;0 1 2 1; 0 0 2 1];\n",
"X =donkmapij(x);// minimizing the expresion using 4 variable kmap\n",
"printf('\n     X = %s \n\n',X);//displaing result\n",
"\n",
"printf('\n Design equation for Y\n');\n",
"y=[0 0 2 0;0 0 2 0;0 0 2 1;0 0 2 0];\n",
"Y =donkmapij(y);// minimizing the expresion using 4 variable kmap\n",
"printf('\n     Y = %s \n\n',Y);//displaing result"
   ]
   }
,
{
		   "cell_type": "markdown",
		   "metadata": {},
		   "source": [
			"## Example 11.5: Reducing_state_transition_diagrams.sce"
		   ]
		  },
  {
"cell_type": "code",
	   "execution_count": null,
	   "metadata": {
	    "collapsed": true
	   },
	   "outputs": [],
"source": [
"//example 11.5\n",
"clc;\n",
"clear;\n",
"disp('Original table :'); //displaying original table \n",
"disp('Present State   Next State   Present Output');\n",
"disp('                X=0    X=1    ');\n",
"disp('       a         a      b           0    ');\n",
"disp('      √b         c      d           0    ');\n",
"disp('       c         d      e           1    ');\n",
"disp('      √d         c      b           0    ');\n",
"disp('       e         b      c           1    ');\n",
"disp('For states b and d except for next state X=1 rest are same. NOw b and d would have been equivalent if these next states are equivalent. For b next state is d and d, next state is b. Thus bd are equivalent if next states db are equivalent which can always be true. Thus b and d are equivlent and state b is retained.')\n",
"disp('Table after first row elimination :'); //after first row elimination\n",
"disp('Present State   Next State   Present Output');\n",
"disp('                X=0    X=1    ');\n",
"disp('       a         a      b           0    ');\n",
"disp('       b         c      b           0    ');\n",
"disp('      √c         b      e           1    ');\n",
"disp('      √e         b      c           1    ');\n",
"disp('Now repeating the same above step for  c and e. Retaining c and replacing arll c''s with e we get the below table ');\n",
"disp('Table after second row elimination :');//after second row elimination\n",
"disp('Present State   Next State   Present Output');\n",
"disp('                X=0    X=1    ');\n",
"disp('       a         a      b           0    ');\n",
"disp('       b         c      b           0    ');\n",
"disp('       c         b      c           1    ');\n",
"\n",
"disp('Implication table method'); // by implication method\n",
"printf('d:d\nc:d(ce)\nb:d(Ce)(bd)\na:(ce)(bd)a\nP=(ce)(bd)(a)');"
   ]
   }
,
{
		   "cell_type": "markdown",
		   "metadata": {},
		   "source": [
			"## Example 11.6: asynchronous_sequential_circuit.sce"
		   ]
		  },
  {
"cell_type": "code",
	   "execution_count": null,
	   "metadata": {
	    "collapsed": true
	   },
	   "outputs": [],
"source": [
"//example 11.6\n",
"clc;\n",
"clear;\n",
"disp('To analye the circuit we consider x = X(t-τ) where τ is the cummulative propagatin delay from input side up to X.For all  possible combbinations of xAB we get X and Y following the logic relation as shown in the circuit and prepare the following Karnaugh map');\n",
"disp('Karnaugh map'); // displaying the kmap\n",
"disp('  AB')\n",
"disp('x    00      01      11      10');\n",
"disp('0    0''/0    0''/0    1/0     0''/0');\n",
"disp('1    0/0     0/1     1''/1    1''/0');\n",
"disp('State where X = x are stable and primed. Outputs corresponding to ech state and inpt combination are shown beside.');"
   ]
   }
,
{
		   "cell_type": "markdown",
		   "metadata": {},
		   "source": [
			"## Example 11.7: asynchronous_sequential_circuit_problem_in_operation.sce"
		   ]
		  },
  {
"cell_type": "code",
	   "execution_count": null,
	   "metadata": {
	    "collapsed": true
	   },
	   "outputs": [],
"source": [
"//example 11.7\n",
"clc;\n",
"clear;\n",
"disp('Given karnaugh map '); //given kmap \n",
"disp('     00      01      11      10');\n",
"disp('00   11      00''     11      00''');\n",
"disp('01   01''     11      11      01''');\n",
"disp('11   10      11      11''     10');\n",
"disp('10   10''     10''     11      11');\n",
"disp('Yes, the circuit may face problem in its operation. When the circuit is at stable state xyAB = 1111 and input AB changes from 11 --> 10 the circuit oscillates between xyAB = 1110 and xy AB = 1010. Also there can be a criticl race problem if at stable state xyAB = 0001, input AB chnge from 01 to 00. The circuit may settle at xyAB = 0100 or xyAB = 1000 depending on which of x and y changes first at the feedbck path. Non-critical race situatuion occurs if at stable state xyAB = 0010 the input AB change from 10 to 00. ');"
   ]
   }
,
{
		   "cell_type": "markdown",
		   "metadata": {},
		   "source": [
			"## Example 11.8: asynchronous_sequential_circuit.sce"
		   ]
		  },
  {
"cell_type": "code",
	   "execution_count": null,
	   "metadata": {
	    "collapsed": true
	   },
	   "outputs": [],
"source": [
"//example 11.8\n",
"// this program requires \n",
"//kmp3abx.sci\n",
"//noof.sci\n",
"//noof0.sci \n",
"//above three functions are first execute before executing this program \n",
"clc;\n",
"disp('State table through karnaugh map'); // state table through  kmap \n",
"disp('     00      01      11      10');\n",
"disp('a    a''      a''      b        b');\n",
"disp('b    a       b''      b''       b'''); \n",
"disp('If we represent current state a as x = 0 and b as x =1 the noutput X can be expressed as ');\n",
"j=[0 0  1 1 ; 0 1 1 1]; \n",
"J= kmap3abx(j); // finding the minimized expresion using 3-variable kmap\n",
"disp('The minimised expression J');\n",
"disp(J); // displaying the minimized expression"
   ]
   }
],
"metadata": {
		  "kernelspec": {
		   "display_name": "Scilab",
		   "language": "scilab",
		   "name": "scilab"
		  },
		  "language_info": {
		   "file_extension": ".sce",
		   "help_links": [
			{
			 "text": "MetaKernel Magics",
			 "url": "https://github.com/calysto/metakernel/blob/master/metakernel/magics/README.md"
			}
		   ],
		   "mimetype": "text/x-octave",
		   "name": "scilab",
		   "version": "0.7.1"
		  }
		 },
		 "nbformat": 4,
		 "nbformat_minor": 0
}
