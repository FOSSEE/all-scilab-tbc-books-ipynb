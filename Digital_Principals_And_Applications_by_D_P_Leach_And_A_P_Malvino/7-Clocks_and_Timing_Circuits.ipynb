{
"cells": [
 {
		   "cell_type": "markdown",
	   "metadata": {},
	   "source": [
       "# Chapter 7: Clocks and Timing Circuits"
	   ]
	},
{
		   "cell_type": "markdown",
		   "metadata": {},
		   "source": [
			"## Example 7.10: 74123.sce"
		   ]
		  },
  {
"cell_type": "code",
	   "execution_count": null,
	   "metadata": {
	    "collapsed": true
	   },
	   "outputs": [],
"source": [
"//example 7.10\n",
"clear\n",
"clc\n",
"close\n",
"//R = input('Enter the value of the resistance R in Kohms :');\n",
"//C =input('Enter the value of the Capacitance C in micro farads :');\n",
"sp = input('Enter the spacing between two input pulses in micro seconds :');\n",
"R=10;\n",
"C=0.01;\n",
"//sp=50;\n",
"//sp=10;\n",
"t= 330*R*C; // calculating time constant \n",
"printf('The output pulse width will be about %f micro seconds ',t); \n",
"tt=t*10;\n",
"p=1;\n",
"len=sp*60+1;\n",
"q=1; \n",
"for j=1:len     // making arrays to plot the graphs \n",
"    lo = sp*10;\n",
"    f=modulo(j,lo);\n",
"    if f==0 then\n",
"        inpu(j)=1;\n",
"    else \n",
"        inpu(j)=0;\n",
"    end\n",
"    inpu(1)=1;\n",
"o(j)=5;\n",
"end\n",
"if sp<40 then\n",
"while q<2*len\n",
"    result(q)=0;\n",
"    q=q+1;\n",
"end\n",
"else \n",
"while q<1.2*len\n",
"    result(q)=0;\n",
"    q=q+1;\n",
"end \n",
"end\n",
"while p<len\n",
"    if inpu(p)==1 then\n",
"        for k=1:tt\n",
"            result(p+k)=3;\n",
"        end\n",
"        p=p+1;\n",
"        else \n",
"            p=p+1;\n",
"        end\n",
"\n",
"    end\n",
"subplot(2,1,1); // ploting bothe graphs in same window \n",
"plot(o);\n",
"plot(inpu);\n",
"xlabel('time X10^-7 seconds');\n",
"ylabel('Manitude') ;\n",
"title('input pulses');\n",
"    subplot(2,1,2);\n",
"    plot(o);\n",
"plot(result);\n",
"xlabel('time X10^-7 seconds');\n",
"ylabel('Manitude') ;\n",
"title('Output');"
   ]
   }
,
{
		   "cell_type": "markdown",
		   "metadata": {},
		   "source": [
			"## Example 7.11: finding_timing_capacitor_values.sce"
		   ]
		  },
  {
"cell_type": "code",
	   "execution_count": null,
	   "metadata": {
	    "collapsed": true
	   },
	   "outputs": [],
"source": [
"//example 7.11\n",
"clc\n",
"clear\n",
"//R = input('Enter the value of the resistance R in Kohms :');\n",
"//pw =input('Enter the value of required pulse width in millisecndseconds :');\n",
"R=0.5;//tking the given values \n",
"format('v',18);\n",
"pw = 1 * 10^-3;\n",
"C = pw/(0.33*R); //calculating C\n",
"printf('The required value of capacitance is %f microfarads\n',C);\n",
"printf('The pulse delay capacitor is %f microfarads',(2*C));"
   ]
   }
,
{
		   "cell_type": "markdown",
		   "metadata": {},
		   "source": [
			"## Example 7.1: clock_cycle_time.sce"
		   ]
		  },
  {
"cell_type": "code",
	   "execution_count": null,
	   "metadata": {
	    "collapsed": true
	   },
	   "outputs": [],
"source": [
"//example 7.1\n",
"clear;\n",
"clc;\n",
" //for 50 kHz clock\n",
" clk_frq1 = 50000;\n",
" c_t_500 = 1000/clk_frq1;\n",
" //for 8-MHz clock\n",
" clk_frq2 = 8000000;\n",
" c_t_8 = 10000000/clk_frq2;\n",
" printf('Cycle time for 500-kHz clock is %f milliseconds \n',c_t_500);//displaying results \n",
" printf(' Cycle time for 8-MHz clock is %f micro seconds',c_t_8);\n",
" \n",
" "
   ]
   }
,
{
		   "cell_type": "markdown",
		   "metadata": {},
		   "source": [
			"## Example 7.2: maximum_clock_frequency.sce"
		   ]
		  },
  {
"cell_type": "code",
	   "execution_count": null,
	   "metadata": {
	    "collapsed": true
	   },
	   "outputs": [],
"source": [
"//example 7.2\n",
"clc;\n",
"clear;\n",
"//prop_delay = input('Enter the propagation delay in nano seconds:');\n",
"prop_dely=24; // taking the given input \n",
" format('v',18); //setting the precision \n",
"max_clk_frq = 1/prop_delay; // making necessary calculations \n",
"max_clk_frq = max_clk_frq*10^3;\n",
"printf('maximum clock frequency is %f KHz',max_clk_frq); // displaying the result "
   ]
   }
,
{
		   "cell_type": "markdown",
		   "metadata": {},
		   "source": [
			"## Example 7.3: frequency_limits_of_the_clock.sce"
		   ]
		  },
  {
"cell_type": "code",
	   "execution_count": null,
	   "metadata": {
	    "collapsed": true
	   },
	   "outputs": [],
"source": [
"//example 7.3 \n",
"clc;\n",
"clear;\n",
"//ppm = input('Enter the stability in parts per million(PPM):');\n",
"//clk_frq = input('Enter the clock frequency in MHz:' );\n",
"ppm= 5//taking  the given values \n",
"clk_frq= 5 \n",
"mill= clk_frq; //making necessary calculations \n",
"pp = mill*ppm;\n",
"pp = round(pp);\n",
"clk_frq = clk_frq*10^6;\n",
"o(1,1)=clk_frq-pp;\n",
"o(1,2)=clk_frq+pp;\n",
"printf('The clock frequency will be somewhere between %d and %d Hz',o);//displaying the result "
   ]
   }
,
{
		   "cell_type": "markdown",
		   "metadata": {},
		   "source": [
			"## Example 7.4: Schmitt_trigger.sce"
		   ]
		  },
  {
"cell_type": "code",
	   "execution_count": null,
	   "metadata": {
	    "collapsed": true
	   },
	   "outputs": [],
"source": [
"//example 7.4\n",
"//schmitt trigger inverter\n",
"clear;\n",
"clc;\n",
"close;\n",
"//peak= input('Enter the peak voltage of sine wave in volts :');\n",
"//utp = input('Enter the upper trigger point in volts :');\n",
"//ltp = input('Enter the lower trigger point in volts :');\n",
"peak =2; // taking given values for inputs  \n",
"utp=1.7;\n",
"ltp=0.9;\n",
"for i=1:4000\n",
"    sinn(i) = peak * sin(i*2*3.1416/1000); //drawing a sin wave with given amplitude   \n",
"end\n",
"for j=1:4000    // making calculations to plot output\n",
"    if modulo(j,1000)< 250 then\n",
"    if sinn(j)<utp  then\n",
"        result(j)=3.4;\n",
"      else \n",
"          result(j)=0.2;          \n",
"         end           \n",
"        elseif sinn(j)>ltp  then\n",
"             result(j)=0.2\n",
"        else \n",
"            result(j)=3.4;\n",
"    end\n",
"end\n",
"subplot(2,1,1)\n",
"plot(sinn); //ploting the input and output curves \n",
"xlabel('n');\n",
"title('input')\n",
"ylabel('volts');\n",
"\n",
"subplot(2,1,2);\n",
"plot(result,'r');\n",
"xlabel('n');\n",
"title('output')\n",
"ylabel('volts');"
   ]
   }
,
{
		   "cell_type": "markdown",
		   "metadata": {},
		   "source": [
			"## Example 7.5: frequency_of_oscillation_for_555_timer.sce"
		   ]
		  },
  {
"cell_type": "code",
	   "execution_count": null,
	   "metadata": {
	    "collapsed": true
	   },
	   "outputs": [],
"source": [
"//example 7.5 \n",
"clc\n",
"clear\n",
"//Ra = input('Enter the value of the resistance RA in Kohms :');\n",
"//Rb = input('Enter the value of the resistance RB in Kohms :');\n",
"//C =input('Enter the value of the Capacitance C in micro farads :');\n",
"Ra=1 //taking the given input \n",
"Rb=1\n",
"C= 1 *10^-3\n",
"T= (Ra + 2*Rb)*C;\n",
"frq = 1.44 * (1/T); //substituting in the eqution\n",
"printf('Freqency of oscillation is %f KHz',frq); //displaying result"
   ]
   }
,
{
		   "cell_type": "markdown",
		   "metadata": {},
		   "source": [
			"## Example 7.6: finding_Ra_and_C_in_555_timer_circuit.sce"
		   ]
		  },
  {
"cell_type": "code",
	   "execution_count": null,
	   "metadata": {
	    "collapsed": true
	   },
	   "outputs": [],
"source": [
"//example 7.6 \n",
"clc\n",
"clear\n",
"//rb=input('Enter the value of the resistance RB in Kohms :');\n",
"//dc =input('Enter required duty cycle in % :');\n",
"//clk = input('Enter the provided clock frequency in MHz:');\n",
"rb=0.75//taking the given values for input \n",
"dc=25\n",
"clk=1\n",
"ra = (rb*100/dc) - 2*rb;//mking neccesary calculations \n",
" format('v',18);\n",
"t2 = dc/(clk*10^8);\n",
"C = t2/(693*rb)\n",
"C=C*10^12;\n",
"//C=round(C);\n",
"printf('The value of RA is %f Kohms\n',ra);//displaying the output\n",
"printf('The value of C is %f pico farads',C);"
   ]
   }
,
{
		   "cell_type": "markdown",
		   "metadata": {},
		   "source": [
			"## Example 7.7: output_pulse_width_for_the_timer.sce"
		   ]
		  },
  {
"cell_type": "code",
	   "execution_count": null,
	   "metadata": {
	    "collapsed": true
	   },
	   "outputs": [],
"source": [
"//example 7.7 \n",
"clc\n",
"clear\n",
"//Ra = input('Enter the value of the resistance RA in Kohms :');\n",
"//C =input('Enter the value of the Capacitance C in micro farads :');\n",
"Ra=10//taking given values \n",
"C=0.1\n",
"pw = 1.1*Ra*C //substituting in the equation \n",
"printf('pulse width is %f milliseconds',pw);//displaying result"
   ]
   }
,
{
		   "cell_type": "markdown",
		   "metadata": {},
		   "source": [
			"## Example 7.8: value_of_C_necessary_to_change_pulse_width_to_given_values.sce"
		   ]
		  },
  {
"cell_type": "code",
	   "execution_count": null,
	   "metadata": {
	    "collapsed": true
	   },
	   "outputs": [],
"source": [
"//example 7.8\n",
"clc\n",
"clear\n",
"//Ra = input('Enter the value of the resistance RA in Kohms :');\n",
"//pw =input('Enter the value of required pulse width in millisecndseconds :');\n",
"Ra=10//taking given values \n",
"pw=10\n",
"C = pw/(1.1*Ra); //substituting in the equation \n",
"printf('The required value of capacitance is %f microfarads',C);//displaying result"
   ]
   }
,
{
		   "cell_type": "markdown",
		   "metadata": {},
		   "source": [
			"## Example 7.9: monostable_multivibrator.sce"
		   ]
		  },
  {
"cell_type": "code",
	   "execution_count": null,
	   "metadata": {
	    "collapsed": true
	   },
	   "outputs": [],
"source": [
"//example 7.9\n",
"clear\n",
"clc\n",
"close\n",
"//R = input('Enter the value of the resistance R in Kohms :');\n",
"//C =input('Enter the value of the Capacitance C in micro farads :');\n",
"sp = input('Enter the spacing between two input pulses in micro seconds :');\n",
"R=1; //taking give values \n",
"C=0.01;\n",
"t= 693*R*C;  // calculting time constant\n",
"tt=t*10;\n",
"p=1;\n",
"len=sp*60-1;\n",
"q=1;\n",
"for j=1:len    //plotin the graphs \n",
"    lo = sp*10;\n",
"    f=modulo(j,lo);\n",
"    if f==0 then\n",
"        inpu(j)=1;\n",
"    else \n",
"        inpu(j)=0;\n",
"    end\n",
"    inpu(1)=1;\n",
"o(j)=2;\n",
"end\n",
"while q<len\n",
"    result(q)=0;\n",
"    q=q+1;\n",
"end\n",
"while p<len\n",
"    if inpu(p)==1 then\n",
"        for k=1:tt\n",
"            result(p+k)=1;\n",
"        end\n",
"        p=p+tt;\n",
"        else \n",
"            result(p)=0;\n",
"            p=p+1;\n",
"        end     \n",
"    end\n",
"subplot(2,1,1); // ploting bothe graphs in same window \n",
"plot(o);\n",
"plot(inpu);\n",
"xlabel('time X10^-7 seconds');\n",
"ylabel('Manitude') ;\n",
"title('input pulses');\n",
"    subplot(2,1,2);\n",
"    plot(o);\n",
"plot(result);\n",
"xlabel('time X10^-7 seconds');\n",
"ylabel('Manitude') ;\n",
"title('Output');\n",
""
   ]
   }
],
"metadata": {
		  "kernelspec": {
		   "display_name": "Scilab",
		   "language": "scilab",
		   "name": "scilab"
		  },
		  "language_info": {
		   "file_extension": ".sce",
		   "help_links": [
			{
			 "text": "MetaKernel Magics",
			 "url": "https://github.com/calysto/metakernel/blob/master/metakernel/magics/README.md"
			}
		   ],
		   "mimetype": "text/x-octave",
		   "name": "scilab",
		   "version": "0.7.1"
		  }
		 },
		 "nbformat": 4,
		 "nbformat_minor": 0
}
