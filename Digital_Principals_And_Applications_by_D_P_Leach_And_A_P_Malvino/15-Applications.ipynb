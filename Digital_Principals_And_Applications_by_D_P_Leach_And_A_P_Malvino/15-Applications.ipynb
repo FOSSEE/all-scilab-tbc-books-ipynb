{
"cells": [
 {
		   "cell_type": "markdown",
	   "metadata": {},
	   "source": [
       "# Chapter 15: Applications"
	   ]
	},
{
		   "cell_type": "markdown",
		   "metadata": {},
		   "source": [
			"## Example 15.10: ADC3511.sce"
		   ]
		  },
  {
"cell_type": "code",
	   "execution_count": null,
	   "metadata": {
	    "collapsed": true
	   },
	   "outputs": [],
"source": [
"//example 15.10\n",
"clc;\n",
"clear;\n",
"//v = input('Enter the reference voltage in volts :');\n",
"//an = input('Enter the analog input voltage in volts :');\n",
"v=2;  // taking given input \n",
"an=1.25;\n",
"count = 2000*an/v ; \n",
"count = round(count); \n",
"printf('The ccount held in the counter for given analog input will be : %f',count);\n",
"d= an/v;\n",
"printf('\nThe duty cycle is : %f',d);"
   ]
   }
,
{
		   "cell_type": "markdown",
		   "metadata": {},
		   "source": [
			"## Example 15.11: ADC3511.sce"
		   ]
		  },
  {
"cell_type": "code",
	   "execution_count": null,
	   "metadata": {
	    "collapsed": true
	   },
	   "outputs": [],
"source": [
"// example 15.11 \n",
"clc;\n",
"clear;\n",
"disp('The full scale count for ADC3511 is 1999 and for the ADC3711 is 3999. So, the largest value possible for the MSD in either case is 3 = 0011. clearly the MSB is not needed for th magnitue of the MSD. It is thus convenient to specif  positive number when this bit is a 0 and a negtive number when this bit is a 1 .');"
   ]
   }
,
{
		   "cell_type": "markdown",
		   "metadata": {},
		   "source": [
			"## Example 15.12: ADD3501.sce"
		   ]
		  },
  {
"cell_type": "code",
	   "execution_count": null,
	   "metadata": {
	    "collapsed": true
	   },
	   "outputs": [],
"source": [
"//exmple 15.12 \n",
"clc ;\n",
"clear;\n",
"disp('These two components establish the internal oscillator frequency used as the clock frequency in the cnverter according to the relationship fi=0.6/RC. In this case fi=320 kHz.');"
   ]
   }
,
{
		   "cell_type": "markdown",
		   "metadata": {},
		   "source": [
			"## Example 15.1: Timing_of_a_six_digit_display.sce"
		   ]
		  },
  {
"cell_type": "code",
	   "execution_count": null,
	   "metadata": {
	    "collapsed": true
	   },
	   "outputs": [],
"source": [
"//example 15.1\n",
"//timing for a six digit display \n",
"clc;\n",
"clear;\n",
"//f=input('Enter the repetition rate in Hz :');\n",
"//d= input('Enter the length of display :');\n",
"f=125; // given inputs \n",
"d=6;\n",
"format('v',5); //changing the precision of the calculation \n",
"k=1000/f;\n",
"l=1000/(f*d);//making neccesary calculations  \n",
"m=k-l;\n",
"printf('All digits must be serviced once every %f milliseconds \n',k);\n",
"printf('Each digit will be ON for : %f milliseconds\n',l) ;\n",
"printf('and OFF for : %f milliseconds',m); //displaying results\n",
"\n",
" "
   ]
   }
,
{
		   "cell_type": "markdown",
		   "metadata": {},
		   "source": [
			"## Example 15.4: Basic_frequency_counter.sce"
		   ]
		  },
  {
"cell_type": "code",
	   "execution_count": null,
	   "metadata": {
	    "collapsed": true
	   },
	   "outputs": [],
"source": [
"//example 15.4\n",
"clc;\n",
"clear;\n",
"//f=input('Enter the input square wave signal frequency in kHz:');\n",
"//t=input('Enter the gate enble time in seconds ' );\n",
"//first part :\n",
"f=7.50;\n",
"t=0.1;\n",
"format('v',18);\n",
"m=t*f*1000; //making neccesary calculations \n",
"printf('For t = %f seconds\n',t);  // displaying results \n",
"printf('The counter will count up to : %f\n',m);\n",
"//part2\n",
"t=1;\n",
"printf('\n\nFor t = %f seconds\n',t);\n",
"m=t*f*1000;\n",
"printf('The counter will count up to : %f\n',m);\n",
"//part3\n",
"t=10;\n",
"m=t*f*1000;\n",
"printf('\n\nFor t = %f seconds\n',t); \n",
"printf('The counter will count up to : %f\n',m);"
   ]
   }
,
{
		   "cell_type": "markdown",
		   "metadata": {},
		   "source": [
			"## Example 15.5: 4_decimal_digit_frequency_counter.sce"
		   ]
		  },
  {
"cell_type": "code",
	   "execution_count": null,
	   "metadata": {
	    "collapsed": true
	   },
	   "outputs": [],
"source": [
"//example 15.5\n",
"clc;\n",
"disp('Assuming the counter began at 0000, the display would read 200 at the end of the first measurment period.It will read 400,then 600 and so on at the end of succeeding periods. This is because the counter capacity is exceeded each time, and it simply recycles through 0000.');"
   ]
   }
,
{
		   "cell_type": "markdown",
		   "metadata": {},
		   "source": [
			"## Example 15.6: instrument_to_measure_time_period.sce"
		   ]
		  },
  {
"cell_type": "code",
	   "execution_count": null,
	   "metadata": {
	    "collapsed": true
	   },
	   "outputs": [],
"source": [
"//example 15.6\n",
"clc;\n",
"clear;\n",
"//s= input('Enter the clk freqency in kHz : ');\n",
"//f=input('Enter the frequency of the unknown input in Hz :');\n",
"s=100;// taking the inputs \n",
"f=200;\n",
"g=1000000/f;  // making neccesary calculations \n",
"c=g*s/1000;\n",
"c=round(c);\n",
"p=c*1000/s;\n",
"disp('Assuming that the conter and the display are initially at 00000');//displaying results \n",
"printf('Enable gate time in micro secnds will be : %d\n',g);\n",
"printf('During the gate time the counter will be advced by (number of counts ) %d \n',c);\n",
"printf('The time period of the unknown input in micro-seconds is : %d',p);"
   ]
   }
,
{
		   "cell_type": "markdown",
		   "metadata": {},
		   "source": [
			"## Example 15.9: ADC0804.sce"
		   ]
		  },
  {
"cell_type": "code",
	   "execution_count": null,
	   "metadata": {
	    "collapsed": true
	   },
	   "outputs": [],
"source": [
"//example 15.9\n",
"clc ;\n",
"clear;\n",
"//part (a) \n",
"//an=input('Enter the analog input in volts :');\n",
"format('v',12);// changing the precision of calculation \n",
"an=2.5;\n",
"k=an*1000/19.53; \n",
"k= round(k);\n",
"m=dec2bin(k); // converting from decmal to binary \n",
"printf('The digital output is :%s\n',m);\n",
"//part(b)\n",
"//dg=input('Enter the digital output as a string:');\n",
"dg='00100010';\n",
"f=bin2dec(dg); // converting binary to decimal\n",
"y=f*19.53*10^-3;\n",
"printf(' The analog input in volts is :%f',y);\n",
"  \n",
""
   ]
   }
],
"metadata": {
		  "kernelspec": {
		   "display_name": "Scilab",
		   "language": "scilab",
		   "name": "scilab"
		  },
		  "language_info": {
		   "file_extension": ".sce",
		   "help_links": [
			{
			 "text": "MetaKernel Magics",
			 "url": "https://github.com/calysto/metakernel/blob/master/metakernel/magics/README.md"
			}
		   ],
		   "mimetype": "text/x-octave",
		   "name": "scilab",
		   "version": "0.7.1"
		  }
		 },
		 "nbformat": 4,
		 "nbformat_minor": 0
}
