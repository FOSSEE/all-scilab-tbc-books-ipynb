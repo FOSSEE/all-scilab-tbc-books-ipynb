{
"cells": [
 {
		   "cell_type": "markdown",
	   "metadata": {},
	   "source": [
       "# Chapter 4: Data processing circuits"
	   ]
	},
{
		   "cell_type": "markdown",
		   "metadata": {},
		   "source": [
			"## Example 4.10: output_of_74147_when_button_6_is_pressed.sce"
		   ]
		  },
  {
"cell_type": "code",
	   "execution_count": null,
	   "metadata": {
	    "collapsed": true
	   },
	   "outputs": [],
"source": [
"//example 4.10\n",
"clc;\n",
"clear;\n",
"//sel= input('Enter which is pressed(1 - 9) : ');\n",
"sel=6;\n",
"aa=sel;\n",
"for i=4:-1:1 //converting the sel input to binary notation \n",
"    a(1,i)=modulo(aa,2);\n",
"    b(1,i)=bitcmp(a(1,i),1);\n",
"    aa=aa/2;\n",
"    aa=floor(aa);\n",
"end\n",
"printf('When switch %d is pressed the ABCD output is :',sel);\n",
"disp(b); //displaying the result \n",
"printf(' Which is equivalent to %d when the output is complimented.In the output above a ''0'' represents a LOW and a ''1'' represents a HIGH. ',sel );"
   ]
   }
,
{
		   "cell_type": "markdown",
		   "metadata": {},
		   "source": [
			"## Example 4.11: priority_encoder.sce"
		   ]
		  },
  {
"cell_type": "code",
	   "execution_count": null,
	   "metadata": {
	    "collapsed": true
	   },
	   "outputs": [],
"source": [
"//example 4.11 \n",
"//uses functions kmap.sci and noof.sci so run them before running this program .. \n",
"clc;\n",
"s=[0  1 1 1 1 ];\n",
"x1=[0 1 0 0 0 ];\n",
"x2=[0 0 1 0 0 ];\n",
"x3=[0 0 0 1 0 ];\n",
"for i=1:5\n",
"    if s(i)==1  then   // finding output A and B\n",
"        if x1(i) == 1  then\n",
"            a(i)=0;\n",
"            b(i)=1;\n",
"        elseif x2(i) == 1  then\n",
"            a(i)=1;\n",
"            b(i)=0;\n",
"        elseif x3(i) == 1 then\n",
"            a(i)=1;\n",
"            b(i)=1;\n",
"        else \n",
"            a(i)=0;\n",
"            b(i)=0;\n",
"        end \n",
"else\n",
"            a(i)=0;\n",
"            b(i)=0;    \n",
"end\n",
"end\n",
"for i = 1 : 5    //printin the state table \n",
"        Y(i,1)=s(i);\n",
"        Y(i,2)=x1(i);\n",
"        Y(i,3)=x2(i);\n",
"        Y(i,4)=x3(i);\n",
"        Y(i,5)=a(i);\n",
"        Y(i,6)=b(i);\n",
"    end\n",
"disp('          Input             Output  ');\n",
"disp('   S     X1    X2    X3    A     B '); \n",
"    disp(Y);\n",
"kmp =[0 0 0 0;0 0 0 1 ;0 0 0 1;0 0 0 1]; //finding minimized expressin using 4-varible kmap\n",
"    disp('The minimal expression of A from the following Kmap is :');\n",
"    kmapsx(kmp);\n",
"    kmp=[0 0 1 0;0 0 1 1 ;0 0 1 0;0 0 1 0]; //finding minimized expressin using 4-varible kmap\n",
"    printf('\n');\n",
"   disp( 'The minimal expression of B from the following Kmap is :')\n",
"   kmapsx(kmp);"
   ]
   }
,
{
		   "cell_type": "markdown",
		   "metadata": {},
		   "source": [
			"## Example 4.1: 4_to_1_mux_using_2_to_1_mux.sce"
		   ]
		  },
  {
"cell_type": "code",
	   "execution_count": null,
	   "metadata": {
	    "collapsed": true
	   },
	   "outputs": [],
"source": [
"//example 4.1 \n",
"clc;\n",
"clear;\n",
"disp('Logic equation for 2-to-1 Multiplexer :')\n",
"printf(' Y = A''D0 + AD1\n');\n",
"disp('Logic equation for 4-to-1 Multiplexer :')\n",
"printf(' Y = A''B''D0 + A''BD1 + AB''D2 + ABD3\n');\n",
"disp('This can be rewritten as,')\n",
"printf(' Y= A''(B''D0 + BD1) + A(B''D2 + BD3)\n');\n",
"disp('Compare this with equation of 2-to-1 mux. We need two 2-to-1 multiplexer to realize the bracketed terms where B serves as select input. The output of these two multiplexers can be sent to a third multiplexer as data inputs where A serves as select input and we get the 4-to-1 multiplexer.');"
   ]
   }
,
{
		   "cell_type": "markdown",
		   "metadata": {},
		   "source": [
			"## Example 4.2: Realizing_boolean_equation_using_8_to_1_mux.sce"
		   ]
		  },
  {
"cell_type": "code",
	   "execution_count": null,
	   "metadata": {
	    "collapsed": true
	   },
	   "outputs": [],
"source": [
"//example 4.2 \n",
"clc;\n",
"clear\n",
"a(1,1)=0 // taking input in this  form 1 if A, 0if A' and 2 if no A in the term\n",
"a(1,2)=1\n",
"a(1,3)=2\n",
"a(2,1)=2\n",
"a(2,2)=0\n",
"a(2,3)=0\n",
"a(3,1)=1\n",
"a(3,2)=1\n",
"a(3,3)=1\n",
"p=3;\n",
"for i=1:3  // finding the minterms here \n",
"    coun =0;\n",
"    for j=1:3\n",
"    if a(i,j)==2 then\n",
"    coun = coun+1\n",
"    end\n",
" end\n",
" if coun == 2  then\n",
"     p=p+3\n",
" else if coun==1 then\n",
"    p=p+1\n",
" end\n",
"end\n",
"end\n",
"n=4;\n",
"for m=4:p\n",
"    for l=1:3\n",
"        a(m,l)=0;\n",
"    end\n",
"end\n",
"for i= 1:p\n",
"    for j=1:3\n",
"        if a(i,j) ==2 then\n",
"            for k=1:3\n",
"                a(n,k)=a(i,k)\n",
"            end\n",
"            a(i,j) = 0;\n",
"            a(n,j)=1;\n",
"            n=n+1;\n",
"        end\n",
"    end\n",
"end\n",
"for h=1:p\n",
"    f(h)=0\n",
"    c=2;\n",
"for m=1:3  //finding equivlent decimal values for the minterms \n",
"    f(h)= f(h) + a(h,m)*(2^c);\n",
"    c=c-1;\n",
"end\n",
"end\n",
"disp('The min terms are :') //displaying the min terms \n",
"disp('   A     B     C')\n",
"disp(a)\n",
"l=1\n",
"o(1,l)= f(l);  // removing the repetations in minterms \n",
"for i=2:p\n",
"    q=0;\n",
"        for b=1:l\n",
"        if o(1,b) == f(i) then\n",
"            q=89 ;\n",
"        end\n",
"    end\n",
"    if q==0 then\n",
"        o(1,l+1)=f(i);\n",
"        l=l+1;\n",
"        q=0;\n",
"    end\n",
"end\n",
"disp('The following data lines are to be given ''1'' and remaining should be given ''0'); // displying the decimal equivlent of minterms \n",
"disp(o);\n",
"disp('For a 4-1 mux, we should give D0 =C'',D1 = ''1'',D2 = C'' and D3 = C with A and B as data selector inputs ');"
   ]
   }
,
{
		   "cell_type": "markdown",
		   "metadata": {},
		   "source": [
			"## Example 4.3: 32_t0_1_mux_using_16_to_1_and_2_to_1_muxes.sce"
		   ]
		  },
  {
"cell_type": "code",
	   "execution_count": null,
	   "metadata": {
	    "collapsed": true
	   },
	   "outputs": [],
"source": [
"//example 4.3 \n",
"clc;\n",
"clear;\n",
"m(1)=32;//tking the given values \n",
"m(2)=log2(m(1)) // making necessary calculations \n",
"m(3)=m(2)-1;\n",
"m(4)=m(1)/2;\n",
"printf('A %d-to-1 multiplexer requires',m(1));printf(' %d select lines, The lower',m(2));printf(' %d select lines choose',m(3));printf(' %d-to-1 multiplexer outputs. The 2-to-1 multiplexers chooses one of the outpt of two',m(4));printf(' %d-to-1 multiplexers depending on what appears in the',m(4));printf(' %dth select line.', m(2)); //displaying the result "
   ]
   }
,
{
		   "cell_type": "markdown",
		   "metadata": {},
		   "source": [
			"## Example 4.4: 74154_IC_y12.sce"
		   ]
		  },
  {
"cell_type": "code",
	   "execution_count": null,
	   "metadata": {
	    "collapsed": true
	   },
	   "outputs": [],
"source": [
"//example 4.4 \n",
"clc;\n",
"clear;\n",
"r= input('Enter the value of R (0 or 1) :'); // accepting the inputs from the user\n",
"t= input('Enter the value of T (0 or 1) :');\n",
"sel = input('Enter the values of ABCD :');\n",
"strb = bitcmp(bitand(r,t),1);\n",
"if strb==0  then // checking whether strobe is high or low \n",
"    if sel ==1100 then\n",
"        y='The two pulses are steered to the Y12 output';\n",
"    else \n",
"        y='The output Y12 remains in the High state';\n",
"    end\n",
"    else \n",
"    y='The output Y12 remains in the High state';\n",
"end\n",
"disp(y) //displaying result"
   ]
   }
,
{
		   "cell_type": "markdown",
		   "metadata": {},
		   "source": [
			"## Example 4.7: realizing_boolean_equation_using_3_to_8_decoder.sce"
		   ]
		  },
  {
"cell_type": "code",
	   "execution_count": null,
	   "metadata": {
	    "collapsed": true
	   },
	   "outputs": [],
"source": [
"//example 4.7 \n",
"clc;\n",
"clear;\n",
"n=input('Enter the no.of terms in ur expression :');//accepting input from user \n",
"for i=1:n \n",
"a(1,i)=input('Enter the term (0-9) :');\n",
"end;\n",
"disp ('Since at the decoder output we get all the minterms we use them to get the required boolean functions by giving the output lines numbered ' );\n",
"disp(a);    //displying the result \n",
"disp('to a mlti-input OR gate.');"
   ]
   }
,
{
		   "cell_type": "markdown",
		   "metadata": {},
		   "source": [
			"## Example 4.8: current_in_LED.sce"
		   ]
		  },
  {
"cell_type": "code",
	   "execution_count": null,
	   "metadata": {
	    "collapsed": true
	   },
	   "outputs": [],
"source": [
"//example 4.8 \n",
"clc;\n",
"clear;\n",
"//r=input('Enter the values of resistance in Kohms :');\n",
"//v=input('Enter the forward voltage drop of LED(in volts) :' );\n",
"r=1//taking the given values for r and v \n",
"v=2\n",
"i=5-v/r; //calculating I\n",
"printf('The current through a LED is : %f mA', i); //displaying I"
   ]
   }
,
{
		   "cell_type": "markdown",
		   "metadata": {},
		   "source": [
			"## Example 4.9: which_LED_lights_up_for_given_input_conditions.sce"
		   ]
		  },
  {
"cell_type": "code",
	   "execution_count": null,
	   "metadata": {
	    "collapsed": true
	   },
	   "outputs": [],
"source": [
"//example 4.9 \n",
"clc;\n",
"clear;\n",
"sel = input(' Enter the values of ABCD :');\n",
"a=sel;\n",
"q=1;\n",
"while(a>0) // finding the decimal equivlent \n",
"    r=modulo(a,10);\n",
"    b(1,q)=r;\n",
"    a=a/10;\n",
"    a=floor(a);\n",
"    q=q+1;\n",
"end\n",
"f=0;\n",
"for m=1:q-1\n",
"     c=m-1\n",
"    f = f + b(1,m)*(2^c);\n",
"end\n",
"if f >9 then //checking the invalid condition \n",
"    disp('Its a invalid input. Therefore,none of the LEDs is on because all outputs lines are high' );\n",
"else  //displaying the LED no if the inputs are valid\n",
"    printf('\n LED %d lights up all. All other LEDs remain off because the other outputs are high.',f);\n",
"end"
   ]
   }
],
"metadata": {
		  "kernelspec": {
		   "display_name": "Scilab",
		   "language": "scilab",
		   "name": "scilab"
		  },
		  "language_info": {
		   "file_extension": ".sce",
		   "help_links": [
			{
			 "text": "MetaKernel Magics",
			 "url": "https://github.com/calysto/metakernel/blob/master/metakernel/magics/README.md"
			}
		   ],
		   "mimetype": "text/x-octave",
		   "name": "scilab",
		   "version": "0.7.1"
		  }
		 },
		 "nbformat": 4,
		 "nbformat_minor": 0
}
