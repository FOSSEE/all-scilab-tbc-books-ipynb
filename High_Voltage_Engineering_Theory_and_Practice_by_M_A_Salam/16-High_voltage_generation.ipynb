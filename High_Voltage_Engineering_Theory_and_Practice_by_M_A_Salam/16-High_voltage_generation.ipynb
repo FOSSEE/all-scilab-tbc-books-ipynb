{
"cells": [
 {
		   "cell_type": "markdown",
	   "metadata": {},
	   "source": [
       "# Chapter 16: High voltage generation"
	   ]
	},
{
		   "cell_type": "markdown",
		   "metadata": {},
		   "source": [
			"## Example 16.7_10: find_front_and_tail_times_of_the_lightning_impulse_produced.sce"
		   ]
		  },
  {
"cell_type": "code",
	   "execution_count": null,
	   "metadata": {
	    "collapsed": true
	   },
	   "outputs": [],
"source": [
"clear all\n",
"clc\n",
"close\n",
"\n",
"n=12;//no ofstage\n",
"C1=0.125*1e-6;//Each stage capacitor in F\n",
"C2=1000e-12;//Load capacitance in F\n",
"R1=70;//Front resistance in ohm\n",
"R2=400;//Tail resistance in ohm\n",
"\n",
"R1T=R1*n;\n",
"R2T=R2*n;\n",
"C1T=C1/n;\n",
"\n",
"theta=sqrt(C1T*C2*R1T*R2T);\n",
"\n",
"eta=1/(1+(1+R1T/R2T)*C2/C1T);\n",
"\n",
"alpha=R2T*C1T/(2*eta*theta);\n",
"\n",
"//Wavetail time in us\n",
"T2=7*theta*1e6;\n",
"printf('Wave tail time in us %f',T2)\n",
"\n",
"//Wave front time in us\n",
"T1=T2/25;\n",
"printf('Wave front time in us %f',T1)"
   ]
   }
,
{
		   "cell_type": "markdown",
		   "metadata": {},
		   "source": [
			"## Example 16.7_11: parameters_and_eq_for_generated_impulse_current.sce"
		   ]
		  },
  {
"cell_type": "code",
	   "execution_count": null,
	   "metadata": {
	    "collapsed": true
	   },
	   "outputs": [],
"source": [
"clear all\n",
"clc\n",
"close\n",
"\n",
"C = 8*10^-6;//in Farad\n",
"L = 8*10^-6;//in Henry\n",
"V = 25*10^3;//in V\n",
"T1 = 8;//in us time for the first peak\n",
"ohmega = 0.02*10^-6;//in sec^-1\n",
"R = sqrt((4*L/C)-(4*L^2*ohmega^2));\n",
"printf('resistance is %f ohms \n',R)\n",
"gama = R/(2*L);//in sec^-1\n",
"printf('parameter gama is %f sec^-1 \n',gama)\n",
"\n",
"//Now eq for generated impulse pulse is I(t)= 156.25*10^3exp(-12.3*10^4t)sin(0.02*10^6t)A\n",
"\n",
"\n",
"\n",
""
   ]
   }
,
{
		   "cell_type": "markdown",
		   "metadata": {},
		   "source": [
			"## Example 16.7_1: ripple_voltage_voltage_drop_avg_output_voltage_and_ripple_factor.sce"
		   ]
		  },
  {
"cell_type": "code",
	   "execution_count": null,
	   "metadata": {
	    "collapsed": true
	   },
	   "outputs": [],
"source": [
"clear all\n",
"clc\n",
"close\n",
"\n",
"iload=5*1e-3;//Load current in A\n",
"\n",
"//Capacitances of Cockcroft-Waltobn type voltage doubler in F\n",
"C1=0.01*1e-6;\n",
"C2=0.05*1e-6;\n",
"\n",
"f=50;//frequency in Hz\n",
"Vs=100*1e3//Supply voltage in V\n",
"\n",
"//Ripple voltage in volt\n",
"dv=iload/(C2*f)\n",
"printf('Ripple voltage in V %f',dv)\n",
"\n",
"//Voltage drop in Volt\n",
"Vdrop=iload/f*(1/C1+1/(2*C2))\n",
"printf('Voltage drop in V %f',Vdrop)\n",
"\n",
"//Average output voltage\n",
"V_av=2*sqrt(2)*Vs-Vdrop//in V\n",
"printf('Avarage voltage in V %f',V_av)\n",
"\n",
"//Ripple factor\n",
"RF=Vdrop/(2*sqrt(2)*Vs)*100//in percentage\n",
"printf('Ripple voltage in percentage %f',RF)"
   ]
   }
,
{
		   "cell_type": "markdown",
		   "metadata": {},
		   "source": [
			"## Example 16.7_2: ripple_voltage_voltage_drop_avg_output_voltage_and_ripple_factor.sce"
		   ]
		  },
  {
"cell_type": "code",
	   "execution_count": null,
	   "metadata": {
	    "collapsed": true
	   },
	   "outputs": [],
"source": [
"\n",
"clear all\n",
"clc\n",
"close\n",
"\n",
"iload=5*1e-3;//Load current in A\n",
"\n",
"//Capacitances of Cockcroft-Waltobn type voltage tripler in F\n",
"C1=0.01*1e-6;\n",
"C2=0.05*1e-6;\n",
"C3=0.10*1e-6;\n",
"\n",
"f=50;//frequency in Hz\n",
"Vs=100*1e3//Supply voltage in V\n",
"\n",
"//Ripple voltage in V\n",
"dv=iload/f*(2/C1+1/C3)\n",
"printf('Ripple voltage in V %f',dv)\n",
"\n",
"//Voltage drop in V\n",
"Vdrop=iload/f*(1/C2+1/C1+1/(2*C3))\n",
"printf('Voltage drop in V %f',Vdrop)\n",
"\n",
"//Average output voltage in V\n",
"V_av=3*sqrt(2)*Vs-Vdrop\n",
"printf('Avarage voltage in V %f',V_av)\n",
"\n",
"//Ripple factor in percentage\n",
"RF=Vdrop/(3*Vs*sqrt(2))*100\n",
"printf('Ripple voltage in percentage %f',RF)"
   ]
   }
,
{
		   "cell_type": "markdown",
		   "metadata": {},
		   "source": [
			"## Example 16.7_3: EX16_7_3.sce"
		   ]
		  },
  {
"cell_type": "code",
	   "execution_count": null,
	   "metadata": {
	    "collapsed": true
	   },
	   "outputs": [],
"source": [
"clear all\n",
"clc\n",
"close\n",
"\n",
"Vs=200*1e3//Supply voltage\n",
"f=50//Frequency in Hz\n",
"n=12//Number of stages\n",
"\n",
"C=0.15*1e-6//Each stage capacitance in F\n",
"iload=5*1e-3//Load current in A\n",
"\n",
"//Ripple voltage in V\n",
"dv=iload/(f*C*2)*n*(n+1)\n",
"printf('Ripple voltage in V %f',dv)\n",
"\n",
"//Voltage drop in V\n",
"Vdrop=iload/(f*C)*(2*n^3/3+n^2/2-n/6+n*(n+1)/4)\n",
"printf('Voltage drop in V %f',Vdrop)\n",
"\n",
"//Average output voltage in V\n",
"V_av=2*n*sqrt(2)*Vs-Vdrop\n",
"printf('Avarage voltage in V %f',V_av)\n",
"\n",
"//Ripple factor in percentage\n",
"RF=Vdrop/(2*n*Vs*sqrt(2))*100\n",
"printf('Ripple voltage in percentage %f',RF)\n",
"\n",
"//Otimum number of stages\n",
"nopt=sqrt(sqrt(2)*f*C*Vs/iload)\n",
"printf('Optimum number of stgaes for minimum voltage drop %f',int(nopt))"
   ]
   }
,
{
		   "cell_type": "markdown",
		   "metadata": {},
		   "source": [
			"## Example 16.7_4: find_the_inductance_and_input_voltage_and_power_to_the_transformer.sce"
		   ]
		  },
  {
"cell_type": "code",
	   "execution_count": null,
	   "metadata": {
	    "collapsed": true
	   },
	   "outputs": [],
"source": [
"clear all\n",
"clc\n",
"close\n",
"\n",
"f=50;//Power frequency\n",
"xl=8/100;//leakage reactance\n",
"r=3.5/100;//resistance\n",
"Vc=500;//Charging voltage in kV\n",
"Ic=4;//Charging current in A\n",
"capc=100;//kVA rating of transformer\n",
"vhigh=250;//Voltage rating of secondary of transformer in kV\n",
"vlow=220;//Voltage rating of primary of transformer in V\n",
"\n",
"//Reactance of cable in kiloohm\n",
"Xc=Vc/Ic\n",
"\n",
"//Leakage recatance of transformer in kiloohm\n",
"XL=xl*(vhigh^2/capc)\n",
"\n",
"//Additional series inductance\n",
"xh=Xc-XL;\n",
"\n",
"//Inductance of the required series inductor in Henry\n",
"L=xh/(2*%pi*f)*1e3;\n",
"printf('Inductance of the required series inductor in %f  Henry \n',L)\n",
"\n",
"//Total circuit resistance in kiloohm\n",
"R=r*(vhigh^2/capc)\n",
"\n",
"//The maxium current can be supplied by transformer in A\n",
"I=capc/vhigh;\n",
"\n",
"Vsec = I*R;\n",
"printf('exciting voltage on the transformer secondary %f kV \n',Vsec)\n",
"\n",
"//Exciting voltage of secondary of transformer in kV\n",
"Vexsec=I*R;\n",
"\n",
"//Input voltage to primary of transformer in V\n",
"Vin=Vexsec*1e3*vlow/(vhigh*1e3);\n",
"printf('Input voltage to primary of transformer in  %f V \n',Vin)\n",
"\n",
"//Input power to transformer in kW\n",
"Pin=Vin*capc/vlow\n",
"printf('Input power to primary of transformer in %f kW \n',Pin)"
   ]
   }
,
{
		   "cell_type": "markdown",
		   "metadata": {},
		   "source": [
			"## Example 16.7_5: charging_current_and_the_potential_difference_between_dome_and_the_base.sce"
		   ]
		  },
  {
"cell_type": "code",
	   "execution_count": null,
	   "metadata": {
	    "collapsed": true
	   },
	   "outputs": [],
"source": [
"clear all\n",
"clc\n",
"close\n",
"\n",
"u=10//speed of belt in m/s\n",
"w=0.1//width of the belt in m\n",
"rhos=0.5*1e-6//surface charge density on the belt in C/m^2\n",
"Rleak=1e14//Resistanc ein ohm\n",
"\n",
"//Charging current in A\n",
"I=rhos*u*w\n",
"printf('Charging current in uA %f',I*1e6)\n",
"\n",
"//Potentail difference between the dome and the base in V\n",
"V=I*Rleak\n",
"printf('Potentail difference between the dome and the base in MV is %f',V/1e6)"
   ]
   }
,
{
		   "cell_type": "markdown",
		   "metadata": {},
		   "source": [
			"## Example 16.7_6: wave_eq_parameters_and_wave_generated.sce"
		   ]
		  },
  {
"cell_type": "code",
	   "execution_count": null,
	   "metadata": {
	    "collapsed": true
	   },
	   "outputs": [],
"source": [
"clear all\n",
"clc\n",
"close\n",
"\n",
"C1=0.125*10^-6;//in Farad\n",
"C2=1*10^-9;//in Farad\n",
"R1=360;//in ohms\n",
"R2=544;//in ohms\n",
"theta = sqrt(C1*C2*R1*R2);//in usec\n",
"n = 1/[1+(1+(R1/R2))*(C2/C1)];\n",
"alpha = (R2*C1)/(2*theta*n);\n",
"printf('theta parameter of wave eq %f us \n',theta*10^6)\n",
"printf('n the parameter of circuit eq %f \n',n)\n",
"printf('alpha parameter of circuit eq %f \n',alpha)\n",
"T2 = 10.1*theta;//duration of lightning impulse pulse in us\n",
"T1 = T2/45;//duration of lightning impulse pulse in us\n",
"printf('duration of lightning impulse pulse %f us \n',T2*10^6)\n",
"printf('duration of lightning impulse pulse %f us \n',T1*10^6)\n",
"//answer in the book for T1 is wrong\n",
"\n",
"T = T1/T2;\n",
"printf('generated lighting impulse is %f us \n',T)\n",
"alpha1 = [alpha-sqrt((alpha^2)-1)]/theta;//in us^-1\n",
"alpha2 = [alpha+sqrt((alpha^2)-1)]/theta;//in us^-1\n",
"printf('aplha1 parameter of wave eq is %f us^-1 \n',alpha1*10^-6)\n",
"printf('aplha1 parameter of wave eq is %f us^1 \n',alpha2*10^-6)\n",
"\n",
"//answer in the book is slightly different\n",
"// Now eq of waveform of generated pulse is e(t)=99.75(e^-0.015t - e^-2.77t)\n",
""
   ]
   }
,
{
		   "cell_type": "markdown",
		   "metadata": {},
		   "source": [
			"## Example 16.7_7: wave_eq_parameters_and_wave_generated.sce"
		   ]
		  },
  {
"cell_type": "code",
	   "execution_count": null,
	   "metadata": {
	    "collapsed": true
	   },
	   "outputs": [],
"source": [
"clear all\n",
"clc\n",
"close\n",
"\n",
"C1=0.125*10^-6;//in Farad\n",
"C2=1*10^-9;//in Farad\n",
"R1=360;//in ohms\n",
"R2=544;//in ohms\n",
"theta = sqrt(C1*C2*R1*R2);//in usec\n",
"n = 1/[1+(R1/R2)+(C2/C1)];\n",
"alpha = (R2*C1)/(2*theta*n);\n",
"printf('theta parameter of wave eq %f us \n',theta*10^6)\n",
"printf('n the parameter of circuit eq %f \n',n)\n",
"printf('alpha parameter of circuit eq %f \n',alpha)\n",
"T2 = 16.25*theta;//duration of lightning impulse pulse in us\n",
"T1 = T2/120;//duration of lightning impulse pulse in us\n",
"printf('duration of lightning impulse pulse %f us \n',T2*10^6)\n",
"printf('duration of lightning impulse pulse %f us \n',T1*10^6)\n",
"//answer in the book for T1 is wrong\n",
"\n",
"T = T1/T2;\n",
"printf('generated lighting impulse is %f us \n',T)\n",
"alpha1 = [alpha-sqrt((alpha^2)-1)]/theta;//in us^-1\n",
"alpha2 = [alpha+sqrt((alpha^2)-1)]/theta;//in us^-1\n",
"printf('aplha1 parameter of wave eq is %f us^-1 \n',alpha1*10^-6)\n",
"printf('aplha1 parameter of wave eq is %f us^1 \n',alpha2*10^-6)\n",
"\n",
"// Now eq of waveform of generated pulse is e(t)=60.2(e^-0.0088t - e^-4.62t)\n",
""
   ]
   }
,
{
		   "cell_type": "markdown",
		   "metadata": {},
		   "source": [
			"## Example 16.7_8: wave_shaping_resistors_R1_and_R2_and_also_circuit_efficiency.sce"
		   ]
		  },
  {
"cell_type": "code",
	   "execution_count": null,
	   "metadata": {
	    "collapsed": true
	   },
	   "outputs": [],
"source": [
"clear all\n",
"clc\n",
"close\n",
"\n",
"//Elements of circuits\n",
"C1=0.125*1e-6;//in F\n",
"C2=1e-9;//in F\n",
"\n",
"T1=250*1e-6;\n",
"T2=2500*1e-6;\n",
"alpha=4;\n",
"theta=T2/6;\n",
"\n",
"X=(1+C2/C1)*1/alpha^2;\n",
"R1=alpha*theta/C2*(1-sqrt(1-X));//in ohm\n",
"\n",
"R2=alpha*theta/(C1+C2)*(1+sqrt(1-X));//in ohm\n",
"\n",
"//Circuit efficiency\n",
"eta=1/(1+(1+R1/R2)*C2/C1)\n",
"printf('Circuit efficiency %f',eta)"
   ]
   }
,
{
		   "cell_type": "markdown",
		   "metadata": {},
		   "source": [
			"## Example 16.7_9: EX16_7_9.sce"
		   ]
		  },
  {
"cell_type": "code",
	   "execution_count": null,
	   "metadata": {
	    "collapsed": true
	   },
	   "outputs": [],
"source": [
"clear all\n",
"clc\n",
"close\n",
"\n",
"n=8;//no ofstage\n",
"C1=0.16*1e-6;//Each stage capacitor in F\n",
"C2=1e-9;//Load capacitance in F\n",
"T2=50*1e-6;\n",
"T1=1.2*1e-6;\n",
"Vch=120;//Charging voltage in kV\n",
"\n",
"//Total capacitance in F\n",
"CT=C1/n;\n",
"\n",
"alpha=6.4;\n",
"theta=T2/9.5;\n",
"\n",
"X=(1+C2/C1)/alpha^2;\n",
"R1=alpha*theta/C2*(1-sqrt(1-X));//in ohm\n",
"\n",
"R2=alpha*theta/(CT+C2)*(1+sqrt(1-X));//in ohm\n",
"//Perstage shaping resistance in ohm\n",
"printf('Perstage shaping resistance in %f ohm',R1/n)\n",
"\n",
"Vdc=n*Vch;\n",
"eta=1/(1+(1+R1/R2)*C2/CT)\n",
"\n",
"//Maximum output voltage\n",
"Vmax=eta*Vdc;\n",
"printf('Maxium output voltage in %f kV',Vmax)\n",
"\n",
"//Energy rating in J\n",
"E=0.5*CT*(Vdc*1e3)^2;\n",
"printf('Energy rating in %f J',E)"
   ]
   }
],
"metadata": {
		  "kernelspec": {
		   "display_name": "Scilab",
		   "language": "scilab",
		   "name": "scilab"
		  },
		  "language_info": {
		   "file_extension": ".sce",
		   "help_links": [
			{
			 "text": "MetaKernel Magics",
			 "url": "https://github.com/calysto/metakernel/blob/master/metakernel/magics/README.md"
			}
		   ],
		   "mimetype": "text/x-octave",
		   "name": "scilab",
		   "version": "0.7.1"
		  }
		 },
		 "nbformat": 4,
		 "nbformat_minor": 0
}
