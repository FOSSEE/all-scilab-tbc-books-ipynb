{
"cells": [
 {
		   "cell_type": "markdown",
	   "metadata": {},
	   "source": [
       "# Chapter 12: High Voltage Cables"
	   ]
	},
{
		   "cell_type": "markdown",
		   "metadata": {},
		   "source": [
			"## Example 12.17_10: max_stress_in_rubber_and_in_paper.sce"
		   ]
		  },
  {
"cell_type": "code",
	   "execution_count": null,
	   "metadata": {
	    "collapsed": true
	   },
	   "outputs": [],
"source": [
"//Example 10// Ch 12\n",
"clc;\n",
"clear;\n",
"close;\n",
"// given data\n",
"a=1;//inner thickness of cable in cm\n",
"epsilonr1=4.5;\n",
"epsilonr2=3.6;\n",
"r1=2;//in cm\n",
"b=2.65;//in cm\n",
"V=53.8;//in kV\n",
"Emax1=V/(a*[log(r1)+(epsilonr1/epsilonr2)*log(1.325)]);\n",
"printf('max stress in rubber %f kV/cm',Emax1)\n",
"Emax2=V/(r1*[((epsilonr2/epsilonr1)*log(r1))+ log(1.325)]);\n",
"printf('max stress in paper %f kV/cm',Emax2)\n",
"\n",
"\n",
""
   ]
   }
,
{
		   "cell_type": "markdown",
		   "metadata": {},
		   "source": [
			"## Example 12.17_1: radial_thickness_and_operating_voltage.sce"
		   ]
		  },
  {
"cell_type": "code",
	   "execution_count": null,
	   "metadata": {
	    "collapsed": true
	   },
	   "outputs": [],
"source": [
"//Example 1// Ch 12\n",
"clc;\n",
"clear;\n",
"close;\n",
"// given data\n",
"r1=2;//inner coaxial cable radius\n",
"r2=5;//sheath radius over the insulation\n",
"Em1=40;//max stress in the insulation in kV/cm\n",
"Em2=25;//max stress in the insulation in kV/cm\n",
"epsilon1=6;\n",
"epsilon2=4;\n",
"x=Em1/Em2;\n",
"r=x*((epsilon1*r1)/(epsilon2));//radial thickness of the dielectric\n",
"printf('radial thickness of the dielectric %f cm',r)\n",
"inner=r-r1;//inner thickness of dielectric\n",
"outer=r2-r;//outer thickness of dielectric\n",
"printf('inner thickness of dielectric %f cm',inner)\n",
"printf('outer thickness of dielectric %f cm',outer)\n",
"V1=Em1*r1*log(r/r1);//voltage drop across dielectric in kV\n",
"V2=Em2*r*log(r2/r);//voltage drop across outer dielectric\n",
"printf('voltage drop across dielectric %f kV',V1)\n",
"printf('voltage drop across outer dielectric %f kV',V2)\n",
"pv = V1+V2;//peak voltage of cable\n",
"printf('peak voltage of cable %f kV',pv)\n",
"pvrms=pv/sqrt(2);\n",
"printf('peak voltage in rms %f kV',pvrms)\n",
"\n",
"\n",
"\n",
"\n",
"\n",
""
   ]
   }
,
{
		   "cell_type": "markdown",
		   "metadata": {},
		   "source": [
			"## Example 12.17_2: value_of_conductor_radius_optimum_value_of_r.sce"
		   ]
		  },
  {
"cell_type": "code",
	   "execution_count": null,
	   "metadata": {
	    "collapsed": true
	   },
	   "outputs": [],
"source": [
"//Example 2// Ch 12\n",
"clc;\n",
"clear;\n",
"close;\n",
"// given data\n",
"V=100;//in kV\n",
"Em=55;//max permissible gradient in kV/cm\n",
"//voltage gradient at the conductor surface is inversely proportional to the core radius\n",
"r=V*sqrt(2)/Em;//conductor radius in cm\n",
"printf('conductor radius %f cm',r)\n",
""
   ]
   }
,
{
		   "cell_type": "markdown",
		   "metadata": {},
		   "source": [
			"## Example 12.17_3: resistivity_of_insulating_material.sce"
		   ]
		  },
  {
"cell_type": "code",
	   "execution_count": null,
	   "metadata": {
	    "collapsed": true
	   },
	   "outputs": [],
"source": [
"//Example 3// Ch 12\n",
"clc;\n",
"clear;\n",
"close;\n",
"// given data\n",
"l=10*10^3;//core cable length in m\n",
"Res=0.5;//insulation resistance in Mohms\n",
"R=1.5;//core diameter in cm\n",
"R1=3;//sheath diameter in cm\n",
"resistivity=Res*2*%pi*l/log(R1/R);\n",
"printf('resistivity of the material %e Mohms.m',resistivity )\n",
""
   ]
   }
,
{
		   "cell_type": "markdown",
		   "metadata": {},
		   "source": [
			"## Example 12.17_4: KVAr.sce"
		   ]
		  },
  {
"cell_type": "code",
	   "execution_count": null,
	   "metadata": {
	    "collapsed": true
	   },
	   "outputs": [],
"source": [
"//Example 4// Ch 12\n",
"clc;\n",
"clear;\n",
"close;\n",
"// given data\n",
"l=10;//length of cable in km\n",
"C4=0.5*10^-6 * l;//in F\n",
"printf('Capacitance %f F',C4)\n",
"f=50;//in Hz\n",
"V=10^4;//in V\n",
"Ic=2*V*2*%pi*f*C4/sqrt(3);//line charging current in A\n",
"chargKVA=sqrt(3)*V*Ic*10^-3;\n",
"printf('charging KVA %f KVAr',chargKVA)\n",
"\n",
"\n",
"\n",
""
   ]
   }
,
{
		   "cell_type": "markdown",
		   "metadata": {},
		   "source": [
			"## Example 12.17_5: capacitance_per_km_the_KVAr.sce"
		   ]
		  },
  {
"cell_type": "code",
	   "execution_count": null,
	   "metadata": {
	    "collapsed": true
	   },
	   "outputs": [],
"source": [
"//Example 5// Ch 12\n",
"clc;\n",
"clear;\n",
"close;\n",
"// given data\n",
"C2 = 0.75/3;//capacitance between 3 core bunched together and lead sheath in uF/km\n",
"C3=0.56//in uf/km\n",
"V=33*10^3;\n",
"f=50;//in Hz\n",
"C4=0.5*(C2+C3)*10;//capacitance per km b/w any two cores\n",
"printf('capacitance per km b/w any two cores %f uF',C4)\n",
"ChargKVAr=V^2*2*%pi*f*C4/10^9;\n",
"printf('Charging KVAr %f KVAr',ChargKVAr)\n",
"//given ans in book is wrong the capacitance of 10km b/w 2 cores is 4.05uF\n",
"\n",
""
   ]
   }
,
{
		   "cell_type": "markdown",
		   "metadata": {},
		   "source": [
			"## Example 12.17_6: effective_electrical_parameters.sce"
		   ]
		  },
  {
"cell_type": "code",
	   "execution_count": null,
	   "metadata": {
	    "collapsed": true
	   },
	   "outputs": [],
"source": [
"//Example 6// Ch 12\n",
"clc;\n",
"clear;\n",
"close;\n",
"// given data\n",
"l=85;//in km\n",
"r=1;//core cables of conductore radius r in cm\n",
"f=50;//in Hz\n",
"Rex=3.0;//external radii in cm\n",
"Rin=2.5;//internal radii in cm\n",
"Rac=0.0875;//conductor AC resistance in ohms/km\n",
"rest=23.2*10^-6;//resistivity of lead in ohms cm\n",
"tc=0.004;//temperature coefficient\n",
"Rc=Rac*(1+tc*f)*l;//conductor resistance in ohms\n",
"Rsh=rest*l*10^5/(%pi*(Rex^2-Rin^2));\n",
"printf('conductor resistance %f ohms',Rc)\n",
"printf('resistance of sheath %f ohms',Rsh)\n",
"rsh=0.5*(Rin+Rex);//mean radius of sheath\n",
"D=8;//cable to cable spacing in cm\n",
"Xm=2*%pi*f*2*log(D/rsh)*10^-7*l*10^3;//conductor to sheath mutual inductive reactance for 85km length\n",
"printf('inductive reactance %f ohms',Xm)\n",
"Ref=Rc+(Xm^2*Rsh)/(Rsh^2+Xm^2);//effective AC resistance of conductor\n",
"printf('effective resistance %f ohms',Ref)\n",
"Xc=11.1;//resistance with sheaths open ckt in ohms\n",
"Xef=Xc-(Xm^2)/(Rsh^2+Xm^2);//effective reactance per cable\n",
"printf('effective reactance per cable %f ohms',Xef)\n",
"s=Rsh*(Xm^2)/(Rc*(Rsh^2 + Xm^2));//sheath loss to conductor loss\n",
"printf('sheath loss to conductor loss %f',s)\n",
"I=400;//current in A\n",
"emf=I*Xm;//emf induced without bonding per sheath in V\n",
"printf('emf induced %f V',emf)\n",
" \n",
"\n",
"\n",
"\n",
"\n",
""
   ]
   }
,
{
		   "cell_type": "markdown",
		   "metadata": {},
		   "source": [
			"## Example 12.17_7: induced_sheath_voltage_per_km.sce"
		   ]
		  },
  {
"cell_type": "code",
	   "execution_count": null,
	   "metadata": {
	    "collapsed": true
	   },
	   "outputs": [],
"source": [
"//Example 7// Ch 12\n",
"clc;\n",
"clear;\n",
"close;\n",
"// given data\n",
"D=15;//conductor spacing in cm\n",
"rsh=2.75;//sheath radius in cm\n",
"I=250;//current in A\n",
"f=50;//in Hz\n",
"Xm=2*%pi*f*2*log(D/rsh)*10^-7*10^3;//conductor to sheath mutual inductive reactance \n",
"E=I*Xm;//indused sheath field in V/km\n",
"printf('indused sheath field %f V/km',E)\n",
"E1=sqrt(3)*E;//voltage b/w sheaths when bonded at one end\n",
"printf('voltage b/w sheaths when bonded at one end %f V/km',E1)\n",
" "
   ]
   }
,
{
		   "cell_type": "markdown",
		   "metadata": {},
		   "source": [
			"## Example 12.17_8: max_stress_and_best_position_and_voltage_on_the_intersheaths.sce"
		   ]
		  },
  {
"cell_type": "code",
	   "execution_count": null,
	   "metadata": {
	    "collapsed": true
	   },
	   "outputs": [],
"source": [
"//Example 8// Ch 12\n",
"clc;\n",
"clear;\n",
"close;\n",
"// given data\n",
"a=2;\n",
"b=5.3;\n",
"alpha=(b/a)^0.33;\n",
"r1=1.385;//radii of intersheaths in cm\n",
"r2=1.92;//radii of intersheaths in cm \n",
"r=1;//conductor radius in cm\n",
"ri=2.65;//sheath of inside radius in cm\n",
"V=66;//voltage in kv\n",
"Vpeak=66*sqrt(2)/sqrt(3);//peak voltage\n",
"V2=Vpeak/(1+1/alpha+(1/alpha)^2);//in kV\n",
"V1=(1+1/r1)*V2;//in kV\n",
"printf('%f kV',V2)\n",
"printf('%f kV',V1)\n",
"Emax0=Vpeak/(r*log(ri/r));\n",
"printf('max stress without sheaths %f kV/cm',Emax0)\n",
"Emin0=Vpeak/(ri*log(ri/r));\n",
"printf('min stress without sheaths %f kV/cm',Emin0)\n",
"Emax=3*Emax0/(1+alpha+alpha^2);\n",
"printf('max stress %f kV/cm',Emax)\n",
"Emin=Emax/alpha;\n",
"printf('min stress %f kV/cm',Emin)\n",
""
   ]
   }
,
{
		   "cell_type": "markdown",
		   "metadata": {},
		   "source": [
			"## Example 12.17_9: find_voltage_at_max_stress_and_find_max_stress.sce"
		   ]
		  },
  {
"cell_type": "code",
	   "execution_count": null,
	   "metadata": {
	    "collapsed": true
	   },
	   "outputs": [],
"source": [
"//Example 9// Ch 12\n",
"clc;\n",
"clear;\n",
"close;\n",
"// given data\n",
"V = -18.2;//in kV\n",
"V1 = 45.2;//in kV\n",
"V2 = 23;//in kV\n",
"\n",
"E1max = 2.28*(V-V1);//max stress in layers\n",
"E2max = 2.12*(V1-V2);//max stress in layers\n",
"E3max = 2.06*V2;//max stress in layers\n",
"\n",
"// as E1max=E2max=E3max=Emax\n",
"Emax = 2.06*V2;\n",
"printf('max stress is %f kV',Emax)"
   ]
   }
],
"metadata": {
		  "kernelspec": {
		   "display_name": "Scilab",
		   "language": "scilab",
		   "name": "scilab"
		  },
		  "language_info": {
		   "file_extension": ".sce",
		   "help_links": [
			{
			 "text": "MetaKernel Magics",
			 "url": "https://github.com/calysto/metakernel/blob/master/metakernel/magics/README.md"
			}
		   ],
		   "mimetype": "text/x-octave",
		   "name": "scilab",
		   "version": "0.7.1"
		  }
		 },
		 "nbformat": 4,
		 "nbformat_minor": 0
}
