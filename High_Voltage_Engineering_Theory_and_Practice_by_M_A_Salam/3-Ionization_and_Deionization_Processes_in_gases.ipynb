{
"cells": [
 {
		   "cell_type": "markdown",
	   "metadata": {},
	   "source": [
       "# Chapter 3: Ionization and Deionization Processes in gases"
	   ]
	},
{
		   "cell_type": "markdown",
		   "metadata": {},
		   "source": [
			"## Example 3.7_10: KE_in_eV_and_velocity_of_phototelectron.sce"
		   ]
		  },
  {
"cell_type": "code",
	   "execution_count": null,
	   "metadata": {
	    "collapsed": true
	   },
	   "outputs": [],
"source": [
"//Example 10// Ch 3\n",
"clc;\n",
"clear;\n",
"close;\n",
"// given data\n",
"l=200*10^-10;// wavelength in angstrom\n",
"h=4.15*10^-15;//planks constant\n",
"c=3*10^8;//speed of light\n",
"me=9.11*10^-31;\n",
"BE=13.6;//binding energy in eV\n",
"PE=(h*c)/l;//in eV\n",
"printf('photon enegy %f eV',PE)\n",
"KE = PE-BE;//in eV\n",
"printf('kinetic energy of photoelectron %f ev',KE)\n",
"ve=sqrt((2*KE*1.6*10^-19)/me);\n",
"printf('velosity of photoelectron %e m/s',ve)\n",
"\n",
""
   ]
   }
,
{
		   "cell_type": "markdown",
		   "metadata": {},
		   "source": [
			"## Example 3.7_11: liquid_photon_absorption_coefficient.sce"
		   ]
		  },
  {
"cell_type": "code",
	   "execution_count": null,
	   "metadata": {
	    "collapsed": true
	   },
	   "outputs": [],
"source": [
"//Example 11// Ch 3\n",
"clc;\n",
"clear;\n",
"close;\n",
"// given data\n",
"I = 1;\n",
"I0 = 6;\n",
"x=20;//in cm\n",
"u = -(1/x)*log(I/I0);\n",
"printf('absorption coefficient %f cm^-1',u)"
   ]
   }
,
{
		   "cell_type": "markdown",
		   "metadata": {},
		   "source": [
			"## Example 3.7_12: binding_energy_of_the_gas.sce"
		   ]
		  },
  {
"cell_type": "code",
	   "execution_count": null,
	   "metadata": {
	    "collapsed": true
	   },
	   "outputs": [],
"source": [
"//Example 12// Ch 3\n",
"clc;\n",
"clear;\n",
"close;\n",
"// given data\n",
"c=3*10^8;\n",
"h=4.15*10^-15;\n",
"lmax=1000*10^-10;\n",
"We=(c*h)/lmax;\n",
"printf('binding energy of gas %f eV',We)"
   ]
   }
,
{
		   "cell_type": "markdown",
		   "metadata": {},
		   "source": [
			"## Example 3.7_14: diameter_of_the_argon_atom.sce"
		   ]
		  },
  {
"cell_type": "code",
	   "execution_count": null,
	   "metadata": {
	    "collapsed": true
	   },
	   "outputs": [],
"source": [
"//Example 14// Ch 3\n",
"clc;\n",
"clear;\n",
"close;\n",
"// given data\n",
"p=1.01*10^5/760;// 1 torr in N/m2\n",
"k=1.38*10^-23;\n",
"T=273; //in Kelvin\n",
"n=85*10^2;//no of collisions per meter\n",
"N=p/(k*T);\n",
"printf('no of gas molecules %e atoms/m^3',N)\n",
"r_a=sqrt(n/(%pi*N*1));\n",
"printf('diameter of argon atom %e m',r_a)\n",
"\n",
"\n",
""
   ]
   }
,
{
		   "cell_type": "markdown",
		   "metadata": {},
		   "source": [
			"## Example 3.7_15: mobility_of_electrons.sce"
		   ]
		  },
  {
"cell_type": "code",
	   "execution_count": null,
	   "metadata": {
	    "collapsed": true
	   },
	   "outputs": [],
"source": [
"//Example 15// Ch 3\n",
"clc;\n",
"clear;\n",
"close;\n",
"// given data\n",
"Ie=3;//current flow in amperes\n",
"A=8*10^-4;//area of the electrodes in m^2\n",
"V=20;//voltage across the electrodes\n",
"d=0.8;//spacing between the electrodes in meters\n",
"n_e=1*10^17;//electron density in m^-3\n",
"e=1.6*10^-19;\n",
"ke=(Ie*d)/(A*V*n_e*e);\n",
"printf('mobility of electrons %f m^2/sV',ke)"
   ]
   }
,
{
		   "cell_type": "markdown",
		   "metadata": {},
		   "source": [
			"## Example 3.7_17: ion_density_point_02_m_away_in_both_directions_at_25_deg_C.sce"
		   ]
		  },
  {
"cell_type": "code",
	   "execution_count": null,
	   "metadata": {
	    "collapsed": true
	   },
	   "outputs": [],
"source": [
"//Example 17// Ch 3\n",
"clc;\n",
"clear;\n",
"close;\n",
"// given data\n",
"E = 5; //electric field in V/m\n",
"n_o = 10^11; //ion density in ions/m3\n",
"T = 293; // in kelvin\n",
"z = 0.02; //distance in meters\n",
"e = 1.6*10^-19; //in couloumb\n",
"k = 1.38*10^-23; // in m2 kg s-2 K-1\n",
"n1 = n_o*exp((-e*E*z)/(k*T));//ion density 0.02m away\n",
"n2 = n_o*exp((e*E*z)/(k*T));//ion density -0.02m away\n",
"printf('ion density 0.02m away %e ions/m^3 \n',n1)\n",
"printf('ion density -0.02m away %e ions/m^3 \n',n2)"
   ]
   }
,
{
		   "cell_type": "markdown",
		   "metadata": {},
		   "source": [
			"## Example 3.7_18: diameter_of_cloud_after_drifting_a_distance_of_point_05.sce"
		   ]
		  },
  {
"cell_type": "code",
	   "execution_count": null,
	   "metadata": {
	    "collapsed": true
	   },
	   "outputs": [],
"source": [
"//Example 18// Ch 3\n",
"clc;\n",
"clear;\n",
"close;\n",
"// given data\n",
"E = 250; //electric field in V/m\n",
"r1 = 0.3*10^-3//intial diameter of cloud in meters\n",
"k = 1.38*10^-23;//in m2 kg s-2 K-1\n",
"T = 293; //in kelvin\n",
"e = 1.6*10^-19;// in couloumb\n",
"z = 0.05;//drift distance in meters\n",
"r = (6*k*T*z)/(e*E);//diameter before drift\n",
"printf('diameter before drift %e m \n',r)\n",
"r2 = sqrt (r1^2 + r );//diamter after drifting a distance\n",
"printf('diameter after drift %e m \n',r2)\n",
"// round off value calculated for r and r2"
   ]
   }
,
{
		   "cell_type": "markdown",
		   "metadata": {},
		   "source": [
			"## Example 3.7_19: a_mean_free_path_of_electrons_in_nitrogen_and_b_ionization_potential_of_nitrogen.sce"
		   ]
		  },
  {
"cell_type": "code",
	   "execution_count": null,
	   "metadata": {
	    "collapsed": true
	   },
	   "outputs": [],
"source": [
"//Example 19// Ch 3\n",
"clc;\n",
"clear;\n",
"close;\n",
"// given data\n",
"a = 9003;//constant in m-1kPa-1\n",
"B = 256584;//in V/m.kPa\n",
"p = 0.5;//in kPa\n",
"M = 1/(a*p);//mean free path in meters\n",
"printf('mean free path of electron in nitrogen %e m',M)\n",
"Vi = B/a; //ionization potential of nitrogen\n",
"printf('ionization potential of nitrogen %f V',Vi)"
   ]
   }
,
{
		   "cell_type": "markdown",
		   "metadata": {},
		   "source": [
			"## Example 3.7_1: speed_of_air_molecules.sce"
		   ]
		  },
  {
"cell_type": "code",
	   "execution_count": null,
	   "metadata": {
	    "collapsed": true
	   },
	   "outputs": [],
"source": [
"// Example 1// Ch 3\n",
"clc;\n",
"clear;\n",
"close;\n",
"// given data\n",
"R=8314; // gas constant in J/kg.mol.K\n",
"T=300; // temperature 27 deg C, 27+293=300K\n",
"M=32; // oxygen is diatomic\n",
"v = sqrt(3*R*(T/M));\n",
"printf('speed of oxygen molecule %f m/s',v) \n",
"// Note: Value of R is given wrong in book \n",
"// So answer in the book is wrong"
   ]
   }
,
{
		   "cell_type": "markdown",
		   "metadata": {},
		   "source": [
			"## Example 3.7_2: total_translational_KE.sce"
		   ]
		  },
  {
"cell_type": "code",
	   "execution_count": null,
	   "metadata": {
	    "collapsed": true
	   },
	   "outputs": [],
"source": [
"// Example 2// Ch 3\n",
"clc;\n",
"clear;\n",
"close;\n",
"// given data\n",
"R=8314; // gas constant in J/kg.mol.K\n",
"T=298;//in kelvin \n",
"M=32; // oxygen is diatomic\n",
"m=2*10^-3; // in kg\n",
"p=1.01*10^5; // 1 atm=1.01*10^5 N/m2\n",
"G = (m*R*T)/(M*p);//volume of gas\n",
"\n",
"x=(3/2)*p;//no. of molecules per unit volume where x=N*0.5*m*v^2 is given as (3/2)*p)\n",
"printf('volume of gas %e m^3 \n',G)\n",
"KE = x*G;//total translational kinetic energy\n",
"printf('total translational kinetic energy is %f J \n',KE) \n",
"// Note: Value of G is calculated in book is wrong"
   ]
   }
,
{
		   "cell_type": "markdown",
		   "metadata": {},
		   "source": [
			"## Example 3.7_3: max_pressure_in_chamber.sce"
		   ]
		  },
  {
"cell_type": "code",
	   "execution_count": null,
	   "metadata": {
	    "collapsed": true
	   },
	   "outputs": [],
"source": [
"// Example 3// Ch 3\n",
"clc;\n",
"clear;\n",
"close;\n",
"// given data\n",
"R=8314; // gas constant in J/kg.mol.K\n",
"T=300; // temperature 27 deg C, 27+293=300K\n",
"me=0.10; //mean free path in meters\n",
"rm=1.7*10^-10 //molecular radius in angstrom\n",
"M=28 //im mole^-1\n",
"m0=4.8*10^-26 //mass of nitrogen molecule\n",
"N = 1/[4*%pi*((rm)^2)*me]; // no. of molecules in gas\n",
"printf('no. of molecules %e',N)\n",
"p = [(N*m0)/M]*R*T; // max pressure in chamber in N/m2\n",
"printf('max pressure in chamber %f N/m2',p) \n",
"// Note: Calculation in the book is wrong So answer in the book is wrong"
   ]
   }
,
{
		   "cell_type": "markdown",
		   "metadata": {},
		   "source": [
			"## Example 3.7_4: temperature_at_which_avg_KE_of_He_atoms_in_gas_become_1_eV.sce"
		   ]
		  },
  {
"cell_type": "code",
	   "execution_count": null,
	   "metadata": {
	    "collapsed": true
	   },
	   "outputs": [],
"source": [
"// Example 4// Ch 3\n",
"clc;\n",
"clear;\n",
"close;\n",
"// given data\n",
"v = 1.6*10^-19; // avg kinetic energy in j\n",
"k = 1.38*10^-23 //boltzmann constant in J/K\n",
"T = (2*v)/(3*k); \n",
"printf('temperature %e K',T)\n",
""
   ]
   }
,
{
		   "cell_type": "markdown",
		   "metadata": {},
		   "source": [
			"## Example 3.7_5: volume_of_1_kg_of_He.sce"
		   ]
		  },
  {
"cell_type": "code",
	   "execution_count": null,
	   "metadata": {
	    "collapsed": true
	   },
	   "outputs": [],
"source": [
"// Example 6// Ch 3\n",
"clc;\n",
"clear;\n",
"close;\n",
"// given data\n",
"m = 1;//in kg\n",
"M=2.016;//molecular weight of helium\n",
"k = 8314// gas constant in J/kg.mol.K\n",
"p = 1.01*10^5;//1 atm=1.01*10^5 N/m2\n",
"T = 273;//in kelvin\n",
"G = m*k*T/(M*p);//volume of 1kg of helium in m^3\n",
"printf('volume of 1kg of helium is %f m^3',G)"
   ]
   }
,
{
		   "cell_type": "markdown",
		   "metadata": {},
		   "source": [
			"## Example 3.7_6: density_of_ions_at_dist_equal_to_mfp_and_five_times_mfp.sce"
		   ]
		  },
  {
"cell_type": "code",
	   "execution_count": null,
	   "metadata": {
	    "collapsed": true
	   },
	   "outputs": [],
"source": [
"// Example 6// Ch 3\n",
"clc;\n",
"clear;\n",
"close;\n",
"// given data\n",
"z1=-1;//ion at a distance equal to mean free path, -x=mfp\n",
"z2=-5;//ion at a distance equal to five times the mean free path, -x=5mfp\n",
"//n0 is the density of ions at the origin\n",
"n1 = exp(z1);//density of ions at distance equal to the mean free path\n",
"n2 = exp(z2);//density of ions at distance equal to five times the mean free path\n",
"printf('density of ions at distance equal to the mean free path %fn0',n1)\n",
"printf('density of ions at distance equal to five times the mean free path %fn0',n2)"
   ]
   }
,
{
		   "cell_type": "markdown",
		   "metadata": {},
		   "source": [
			"## Example 3.7_7: mean_square_velocity_of_He_atoms.sce"
		   ]
		  },
  {
"cell_type": "code",
	   "execution_count": null,
	   "metadata": {
	    "collapsed": true
	   },
	   "outputs": [],
"source": [
"// Example 7// Ch 3\n",
"clc;\n",
"clear;\n",
"close;\n",
"// given data\n",
"N = 178*10^-3 //gas density in kg/m^3\n",
"p = 1.01*10^5 //pressure\n",
"v = sqrt((3*p)/N); //mean square velosity of helium atoms\n",
"printf('mean square velosity of helium atoms %f m/s',v)"
   ]
   }
,
{
		   "cell_type": "markdown",
		   "metadata": {},
		   "source": [
			"## Example 3.7_8: energy_of_free_electrons.sce"
		   ]
		  },
  {
"cell_type": "code",
	   "execution_count": null,
	   "metadata": {
	    "collapsed": true
	   },
	   "outputs": [],
"source": [
"//Example 8// Ch 3\n",
"clc;\n",
"clear;\n",
"close;\n",
"// given data\n",
"k = 1.38*10^-21; //boltzmanns constant\n",
"T = 293; // temperature in K\n",
"e = 1.6*10^-19;\n",
"E = (1.5*k*T)/e;\n",
"printf('energy of free electron %f eV',E)"
   ]
   }
,
{
		   "cell_type": "markdown",
		   "metadata": {},
		   "source": [
			"## Example 3.7_9: avg_separation_of_atoms_and_avg_vol_occupied_by_one_atom.sce"
		   ]
		  },
  {
"cell_type": "code",
	   "execution_count": null,
	   "metadata": {
	    "collapsed": true
	   },
	   "outputs": [],
"source": [
"//Example 9// Ch 3\n",
"clc;\n",
"clear;\n",
"close;\n",
"// given data\n",
"d = 0.075; //density of solid atomic hydrogen in g/cm^3\n",
"N_A = 6.0224*10^23; //1g of H consists of N_A atoms\n",
"N = N_A*d; // number of atoms/cm^3\n",
"printf('no. of atoms/cm^3 %e',N)\n",
"x = 1/N;//avg volume occupied by one atom in cm^3\n",
"y = (x)^(1/3);//avg seperation between atoms in cm\n",
"printf('avg vokume occupied by one atom %e cm^3',x)\n",
"printf('avg seperation between atoms %e cm',y)"
   ]
   }
],
"metadata": {
		  "kernelspec": {
		   "display_name": "Scilab",
		   "language": "scilab",
		   "name": "scilab"
		  },
		  "language_info": {
		   "file_extension": ".sce",
		   "help_links": [
			{
			 "text": "MetaKernel Magics",
			 "url": "https://github.com/calysto/metakernel/blob/master/metakernel/magics/README.md"
			}
		   ],
		   "mimetype": "text/x-octave",
		   "name": "scilab",
		   "version": "0.7.1"
		  }
		 },
		 "nbformat": 4,
		 "nbformat_minor": 0
}
