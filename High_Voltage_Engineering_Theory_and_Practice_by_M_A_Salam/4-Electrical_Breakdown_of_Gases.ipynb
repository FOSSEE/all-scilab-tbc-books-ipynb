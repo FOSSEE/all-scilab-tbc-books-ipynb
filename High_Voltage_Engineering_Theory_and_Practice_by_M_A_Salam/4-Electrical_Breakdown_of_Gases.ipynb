{
"cells": [
 {
		   "cell_type": "markdown",
	   "metadata": {},
	   "source": [
       "# Chapter 4: Electrical Breakdown of Gases"
	   ]
	},
{
		   "cell_type": "markdown",
		   "metadata": {},
		   "source": [
			"## Example 4.10_10: breakdown_voltage.sce"
		   ]
		  },
  {
"cell_type": "code",
	   "execution_count": null,
	   "metadata": {
	    "collapsed": true
	   },
	   "outputs": [],
"source": [
"//Example 10// Ch 4\n",
"clc;\n",
"clear;\n",
"close;\n",
"// given data\n",
"d = 0.001; //in meters\n",
"p = 101.3; //in kPa\n",
"alpha = (17.7 + log(d))/d;//ionization coefficient in m^-1\n",
"x = alpha/p; //in m^-1kPa^-1\n",
"s = 11253.7; //constant in m-1kPa-1\n",
"B = 273840; //constant in V/m kPa\n",
"E1 = p/((-1/B)*log(x/s));// in V/m\n",
"Vs1 = E1*d; //break down voltage in V\n",
"printf('ionization coefficient %f m^-1 \n',alpha)\n",
"printf('electric field %e V/m \n',E1)\n",
"printf('breakdown voltage %f kV \n',Vs1*10^-3)\n",
"E2 = 468*10^4;// in V/m\n",
"Vs2 = E2*d;//breakdown voltage by meel and loeb's eq\n",
"printf('breakdown voltage %f kV \n',Vs2*10^-3)"
   ]
   }
,
{
		   "cell_type": "markdown",
		   "metadata": {},
		   "source": [
			"## Example 4.10_11: electron_drift_velocity_and_ionization_coefficient.sce"
		   ]
		  },
  {
"cell_type": "code",
	   "execution_count": null,
	   "metadata": {
	    "collapsed": true
	   },
	   "outputs": [],
"source": [
"//Example 11// Ch 4\n",
"clc;\n",
"clear;\n",
"close;\n",
"// given data\n",
"d = 0.05; //electron current of an avalanche in uniform field gap of d in meters\n",
"t = 0.2*10^-6; //current decline abruptly in t sec\n",
"tc = 35*10^-9; //time constant\n",
"ve = d/t;//electron drift velocity in m/s\n",
"alpha = 1/(tc*ve);//townsend's ionization coefficient\n",
"printf('electron drift velocity %e m/s',ve)\n",
"printf('ionization coefficient %f m^-1',alpha)"
   ]
   }
,
{
		   "cell_type": "markdown",
		   "metadata": {},
		   "source": [
			"## Example 4.10_12: a_travel_time_of_positive_ions_b_max_frequency.sce"
		   ]
		  },
  {
"cell_type": "code",
	   "execution_count": null,
	   "metadata": {
	    "collapsed": true
	   },
	   "outputs": [],
"source": [
"//Example 12// Ch 4\n",
"clc;\n",
"clear;\n",
"close;\n",
"// given data\n",
"V = 200;//alternating voltage in kV(rms)\n",
"x = 0.1;//uniform gap in meters\n",
"f = 50;//frequency of voltage in Hz\n",
"k = 1.4*10^-4;//mobility of positive ions in m2/s.V\n",
"Ea = V*sqrt(2)*10^3/x;//alternating field in V/m\n",
"printf('alternating field %e V/m',Ea)\n",
"w = k*Ea/(2*%pi*f);\n",
"t = sinm(x/w)/314;\n",
"printf('travel time of positive ions from one electrode to other %f sec',t)\n",
"fmax = k*Ea/(2*%pi*x)\n",
"printf('maximum frequency that can be applied %f Hz',fmax)"
   ]
   }
,
{
		   "cell_type": "markdown",
		   "metadata": {},
		   "source": [
			"## Example 4.10_1: a_alpha_b_no_of_electrons_emitted_from_cathode_per_sec.sce"
		   ]
		  },
  {
"cell_type": "code",
	   "execution_count": null,
	   "metadata": {
	    "collapsed": true
	   },
	   "outputs": [],
"source": [
"//Example 1// Ch 4\n",
"clc;\n",
"clear;\n",
"close;\n",
"// given data\n",
"I1 = 2.7*10^-8;//steady state current in Amperes\n",
"V = 10; //voltage in kV\n",
"d1 = 0.005; //spacing between the plane electrodes in meters\n",
"d2 = 0.01; // spacing incresed in meters\n",
"I2 = 2.7*10^-7;//increased steady state current in amperes\n",
"e = 1.6*10^-19;\n",
"x = 1/(d2-d1);\n",
"y = log(I2/I1);\n",
"alpha = x*y;//ionization coefficient\n",
"printf('ionization coefficient %f m^-1',alpha)\n",
"I0 = I1*exp(-alpha*d1);//photoelctric current\n",
"printf('photoelectric current %e A',I0)\n",
"n0 = I0/e;\n",
"printf('no of electrons emitted from cathode %e electrons/s',n0)\n",
""
   ]
   }
,
{
		   "cell_type": "markdown",
		   "metadata": {},
		   "source": [
			"## Example 4.10_2: electrode_spacing.sce"
		   ]
		  },
  {
"cell_type": "code",
	   "execution_count": null,
	   "metadata": {
	    "collapsed": true
	   },
	   "outputs": [],
"source": [
"//Example 2// Ch 4\n",
"clc;\n",
"clear;\n",
"close;\n",
"// given data\n",
"I = 10^9;\n",
"alpha = 460.5;//ionization coefficient\n",
"d = log(I)/alpha;//electrode spacing in meter\n",
"printf('electrode spacing %f m',d)"
   ]
   }
,
{
		   "cell_type": "markdown",
		   "metadata": {},
		   "source": [
			"## Example 4.10_3: size_of_developed_avalanche.sce"
		   ]
		  },
  {
"cell_type": "code",
	   "execution_count": null,
	   "metadata": {
	    "collapsed": true
	   },
	   "outputs": [],
"source": [
"//Example 3// Ch 4\n",
"clc;\n",
"clear;\n",
"close;\n",
"// given data\n",
"a=4*1e4;\n",
"b=15*1e5;\n",
"lb=0;\n",
"ub=0.0005;\n",
"i=integrate('(a-b*sqrt(x))','x',lb,ub)\n",
"as=exp(i);//Avalanche size\n",
"printf('Avalache size %f',as)"
   ]
   }
,
{
		   "cell_type": "markdown",
		   "metadata": {},
		   "source": [
			"## Example 4.10_4: distance_it_must_travel_to_produce_an_avalanche.sce"
		   ]
		  },
  {
"cell_type": "code",
	   "execution_count": null,
	   "metadata": {
	    "collapsed": true
	   },
	   "outputs": [],
"source": [
"//Example 4// Ch 4\n",
"clc;\n",
"clear;\n",
"close;\n",
"// given data\n",
"\n",
"a=7.5*1e5;\n",
"b=-4*1e4;\n",
"c=59.97;\n",
"p = poly([c, b,a], 'x', 'c');\n",
"alpha=roots(p);\n",
"printf('The distance it must travel to produce an avalanche of 1E9 electrons is (in m) %f',alpha(2))\n",
""
   ]
   }
,
{
		   "cell_type": "markdown",
		   "metadata": {},
		   "source": [
			"## Example 4.10_5: min_distance_measured_from_the_cathode.sce"
		   ]
		  },
  {
"cell_type": "code",
	   "execution_count": null,
	   "metadata": {
	    "collapsed": true
	   },
	   "outputs": [],
"source": [
"clear all\n",
"clc\n",
"close\n",
"\n",
"a=7.5*1e5;\n",
"b=-4*1e4;\n",
"c=43.75;\n",
"p = poly([c, b,a], 'x', 'c');\n",
"alpha=roots(p);\n",
"printf('Minimum distance measured from the cathode at which an electron may start an avalanche having a size of 1E19 is (in m) %f',alpha(2))"
   ]
   }
,
{
		   "cell_type": "markdown",
		   "metadata": {},
		   "source": [
			"## Example 4.10_7: total_secondary_coefficient_of_ionization_at_NTP.sce"
		   ]
		  },
  {
"cell_type": "code",
	   "execution_count": null,
	   "metadata": {
	    "collapsed": true
	   },
	   "outputs": [],
"source": [
"//Example 7// Ch 4\n",
"clc;\n",
"clear;\n",
"close;\n",
"// given data\n",
"V = 9*10^3; //in V\n",
"d = 0.002;//two parallel plates spaced by distance d in meters\n",
"// 1/mean free path is equal to a*p where a is constant\n",
"s = 11253.7;//constant value in m^-1kPa^-1\n",
"B = 273840;//constant value in V/mkPa\n",
"p = 101.3;// in kPa\n",
"E = V/d;\n",
"t = (-B*p)/E;\n",
"alpha = p * s * exp(t);\n",
"printf('electric field %e V/m \n',E)\n",
"printf('ionization cofficient %f m^-1 \n',alpha)\n",
"z = 1/(exp(alpha*d)-1);//secondary coefficient of ionization\n",
"printf('secondary coefficient of ionization %f \n',z)"
   ]
   }
,
{
		   "cell_type": "markdown",
		   "metadata": {},
		   "source": [
			"## Example 4.10_8: cal_the_first_ionization_coefficient_and_the_sec_ionization_coefficient.sce"
		   ]
		  },
  {
"cell_type": "code",
	   "execution_count": null,
	   "metadata": {
	    "collapsed": true
	   },
	   "outputs": [],
"source": [
"//Example 8// Ch 4\n",
"clc;\n",
"clear;\n",
"close;\n",
"// given data\n",
"//current between two parallel plates were 1.22,1.82,2.22 of the initiating photocurrent I1,I2,I3\n",
"x = 1.22;//x is I1/I0 I1=1.22I0\n",
"y = 1.82;//y is I2/I0 I2=1.82I0\n",
"w = 2.22;//z is I3/I0 I3=2.22I0\n",
"d1 = 0.005; //in meters\n",
"d2 = 0.01504; //in meters\n",
"d3 = 0.019; //in meters\n",
"// first ionization coefficients alpha1, alpha2 and alpha3\n",
"alpha1 = log(x)/d1;\n",
"alpha2 = log(y)/d2;\n",
"alpha3 = log(w)/d3;\n",
"printf('first ionization coefficient %f m^-1 \n',alpha1)\n",
"printf('second ionization coefficient %f m^-1 \n',alpha2)\n",
"printf('third ionization coefficient %f m^-1 \n',alpha3)\n",
"// E/p and p were maintained constant so at d3 the secondary ionization coefficient mechanism must be acting without any change in alpha\n",
"z = (w - exp(alpha1*d3))/(w*(exp(alpha1*d3)-1));//secondary ionization coefficient\n",
"printf('secondary ionization coefficient %f \n',z)\n",
"\n",
""
   ]
   }
,
{
		   "cell_type": "markdown",
		   "metadata": {},
		   "source": [
			"## Example 4.10_9: distance_and_voltage_at_the_transition_to_a_self_sustained_discharge.sce"
		   ]
		  },
  {
"cell_type": "code",
	   "execution_count": null,
	   "metadata": {
	    "collapsed": true
	   },
	   "outputs": [],
"source": [
"//Example 9// Ch 4\n",
"clc;\n",
"clear;\n",
"close;\n",
"// given data\n",
"E = 1596; //in V/m\n",
"p = 0.133; //in kPa\n",
"a = E/p; // in V/m kPa kept constant as in example 8\n",
"alpha1 = 39.8;//from example 8\n",
"z = 0.0363; //from example 8\n",
"d = (1/alpha1)*[log(1/z + 1)];//distance at the transition to a self-sustained discharge \n",
"printf('distance at the transition to a self-sustained discharge %f m',d)\n",
"V = E*d;//voltage at the transition to a self sustained discharge\n",
"printf('Voltage at the transition to a self sustained discharge %f V',V)"
   ]
   }
],
"metadata": {
		  "kernelspec": {
		   "display_name": "Scilab",
		   "language": "scilab",
		   "name": "scilab"
		  },
		  "language_info": {
		   "file_extension": ".sce",
		   "help_links": [
			{
			 "text": "MetaKernel Magics",
			 "url": "https://github.com/calysto/metakernel/blob/master/metakernel/magics/README.md"
			}
		   ],
		   "mimetype": "text/x-octave",
		   "name": "scilab",
		   "version": "0.7.1"
		  }
		 },
		 "nbformat": 4,
		 "nbformat_minor": 0
}
