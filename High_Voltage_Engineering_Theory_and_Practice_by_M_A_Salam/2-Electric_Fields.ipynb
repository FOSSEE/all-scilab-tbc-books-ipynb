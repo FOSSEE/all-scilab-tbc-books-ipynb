{
"cells": [
 {
		   "cell_type": "markdown",
	   "metadata": {},
	   "source": [
       "# Chapter 2: Electric Fields"
	   ]
	},
{
		   "cell_type": "markdown",
		   "metadata": {},
		   "source": [
			"## Example 2.8_11: determine_potentials_within_the_mesh.sce"
		   ]
		  },
  {
"cell_type": "code",
	   "execution_count": null,
	   "metadata": {
	    "collapsed": true
	   },
	   "outputs": [],
"source": [
"//Example 11// Ch 2\n",
"clear all\n",
"clc\n",
"close\n",
"\n",
"phi1=0;\n",
"phi3=10;\n",
"\n",
"phir=[phi1;phi3];\n",
"sl=[1.25 -0.014;-0.014 0.8381]; //elements of global stiffness matrix\n",
"sr=-[-0.7786 -0.4571;-0.4571 -0.3667];//elements of global stiffness matrix\n",
"\n",
"phil=inv(sl)*sr*phir\n",
"\n",
"printf('value of potentials at the nodes are %f \n',phil)"
   ]
   }
,
{
		   "cell_type": "markdown",
		   "metadata": {},
		   "source": [
			"## Example 2.8_5: calculate_max_field_at_sphere_surface.sce"
		   ]
		  },
  {
"cell_type": "code",
	   "execution_count": null,
	   "metadata": {
	    "collapsed": true
	   },
	   "outputs": [],
"source": [
"//Example 5 // Ch 2\n",
"clc;\n",
"clear;\n",
"close;\n",
"// given data :\n",
"R=0.25; // in meter sphere radius\n",
"R1=0.75;//gap b/w two spheres in meters\n",
"S=1; // in meter is equal to R1+R2\n",
"S1=0.067; // in meter \n",
"S2=0.0048;\n",
"S3=0.01795;\n",
"S4=0.00128;\n",
"Epsilon_o=8.85*1e-12;\n",
"Q1 = %pi*Epsilon_o;\n",
"\n",
"Q=Q1/(2*%pi*Epsilon_o);\n",
"Qp=S1*Q;\n",
"Qpp=S2*Q;\n",
"F1=Q/R^2+Qp/(R-S1)^2+Qpp/(R-S1)^2;\n",
"\n",
"Qs=0.25*Q;\n",
"Qsp=0.01795*Q;\n",
"Qspp=0.00128*Q;\n",
"F2=Qs/(R1-S1)^2+Qsp/(R1-S1)^2+Qspp/(R1-S1)^2\n",
"\n",
"E=F1+F2\n",
"\n",
"printf('Max field at surface is %e V/m',E)\n",
"// NOTE: answer in the book is wrong as Q = Q1/2*%pi*Epsilon_o\n",
""
   ]
   }
,
{
		   "cell_type": "markdown",
		   "metadata": {},
		   "source": [
			"## Example 2.8_6: EX2_8_6.sce"
		   ]
		  },
  {
"cell_type": "code",
	   "execution_count": null,
	   "metadata": {
	    "collapsed": true
	   },
	   "outputs": [],
"source": [
"// Example 6 // Ch 2\n",
"clc;\n",
"clear;\n",
"close;\n",
"// given data \n",
"V=400*10^3; // applied voltage in kV\n",
"r_eq=0.08874; // equivalent radius in meters\n",
"H=12; // bundle height in meters\n",
"d=9; // pole to pole spacing in meters\n",
"Epsilon_o=8.85*10^-12;\n",
"x=sqrt((2*H)^2 + d^2);\n",
"Q = (V*2*%pi*Epsilon_o) / [(log(2*H/r_eq)) - log(x/d)]; \n",
"q = Q/2; \n",
"printf('charge per bundle is %e C/m \n',Q)\n",
"printf('charge per subconductor is %e C/m \n',q)\n",
"r = 0.0175; //subconductor radius in meters\n",
"R = 0.45; //subconductor-to-subconductor spacing in meters\n",
"q = 2.44*1e-6; //charge per subconductor in C/m\n",
"d = 9; //in meters\n",
"Epsilon_o = 8.85*10^-12; //in F/m\n",
"x=[(1/r) + (1/R)];\n",
"y=[(1/r) - (1/R)];\n",
"\n",
"Max = (q/(2*%pi*Epsilon_o))*(x); //maximum surface field in V/m\n",
"printf('maximum surface field is %e V/m \n ', Max)\n",
"\n",
"Min = (q/(2*%pi*Epsilon_o))*[y]; //minimum surface field in V/m\n",
"printf('minimum surface field is %f V/m \n', Min)\n",
"\n",
"Avg = (q/(2*%pi*Epsilon_o))*[1/r]; //average surface field in V/m\n",
"printf('average surface field is %f V/m \n', Avg)\n",
"\n",
"E_01 = [(q/(2*%pi*Epsilon_o))*[1/r + 1/R]] - [(q/(2*%pi*Epsilon_o))*[1/(d+r)+1/(d+R+r)]];//field at outer point of subconductor in V/m\n",
"disp(E_01, 'field at outer point of subconductor 1(V/m) =')\n",
"E_02 = [(q/(2*%pi*Epsilon_o))*[1/r + 1/R]] - [(q/(2*%pi*Epsilon_o))*[1/(d-R-r)+1/(d-r)]];\n",
"disp(E_02, 'field at outer point of subconductor 2(V/m) =')\n",
"E_l1 = [(q/(2*%pi*Epsilon_o))*[1/r - 1/R] - (q/(2*%pi*Epsilon_o))*[1/(d-r)+1/(d+R-r)]];\n",
"disp(E_l1, 'field at inner point of subconductor 1(V/m) =')\n",
"E_l2 = [(q/(2*%pi*Epsilon_o))*[1/r - 1/R] - (q/(2*%pi*Epsilon_o))*[1/(d-R-r)+1/(d+R)]];\n",
"disp(E_l2, 'field at inner point of subconductor 2(V/m) =')\n",
"Avg = (E_01 + E_02)/2 // average maximum gradient in V/m\n",
"disp(Avg, 'average maximum gradient is')\n",
"\n",
"//answers in the book is wrong for subconductor 2, El1 and El2"
   ]
   }
,
{
		   "cell_type": "markdown",
		   "metadata": {},
		   "source": [
			"## Example 2.8_7: electric_field_induced_at_x_equal_to_1.sce"
		   ]
		  },
  {
"cell_type": "code",
	   "execution_count": null,
	   "metadata": {
	    "collapsed": true
	   },
	   "outputs": [],
"source": [
"// Example 7// Ch 2\n",
"clc;\n",
"clear;\n",
"close;\n",
"// given data \n",
"q = 1; // line charge in C/m\n",
"Epsilon_o=8.85*10^-12;\n",
"x1 = [1/3 + 1/7];//infinite sequence\n",
"x2 = [1 + 1/5 + 1/9];//infinite sequence\n",
"x3 = [1/5 + 1/9];//infinite sequence\n",
"E = (q/(2*%pi*Epsilon_o))*[1 - x1 + x2 + x3 - x1];\n",
"printf('total electric field is %e V/m',E)\n",
"// answer by this program is the round of value"
   ]
   }
,
{
		   "cell_type": "markdown",
		   "metadata": {},
		   "source": [
			"## Example 2.8_8: vol_of_insulator_required_for_graded_design.sce"
		   ]
		  },
  {
"cell_type": "code",
	   "execution_count": null,
	   "metadata": {
	    "collapsed": true
	   },
	   "outputs": [],
"source": [
"// Example 7// Ch 2\n",
"clc;\n",
"clear;\n",
"close;\n",
"// given data \n",
"z=10; //length of graded cylindrical bushing in cm\n",
"a=2; // radius of conductor inside bushing in cm\n",
"V=150; //AC voltage in kV\n",
"E_bd=50; // field strength in kV/cm\n",
"x0 = 2;\n",
"x1 = 6.24;\n",
"t_gd = V*sqrt(2)/E_bd;\n",
"printf('thickness of graded design is %f cm \n', t_gd)\n",
"zr = z*(t_gd + a);// bushing length must satisfy curve for the profile\n",
"printf('bushing length %f cm^2', zr)\n",
"V1 = integrate('4*%pi*zr','r',x0,x1);\n",
"printf('volume of graded design is %f cm^2 \n', V1)\n",
"t = 2*[exp(t_gd/2)-1];\n",
"printf('thickness of regular design is %f cm \n',t)\n",
"V2 = %pi*[(a + t)^2 - (a^2)];\n",
"printf('volume of regular design is %f cm^2 \n',V2)\n",
"// Note: There is caluclation error to find the volume of regular design. \n",
"// So answer in the book is wrong"
   ]
   }
],
"metadata": {
		  "kernelspec": {
		   "display_name": "Scilab",
		   "language": "scilab",
		   "name": "scilab"
		  },
		  "language_info": {
		   "file_extension": ".sce",
		   "help_links": [
			{
			 "text": "MetaKernel Magics",
			 "url": "https://github.com/calysto/metakernel/blob/master/metakernel/magics/README.md"
			}
		   ],
		   "mimetype": "text/x-octave",
		   "name": "scilab",
		   "version": "0.7.1"
		  }
		 },
		 "nbformat": 4,
		 "nbformat_minor": 0
}
