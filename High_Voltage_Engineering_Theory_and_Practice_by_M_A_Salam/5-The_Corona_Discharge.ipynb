{
"cells": [
 {
		   "cell_type": "markdown",
	   "metadata": {},
	   "source": [
       "# Chapter 5: The Corona Discharge"
	   ]
	},
{
		   "cell_type": "markdown",
		   "metadata": {},
		   "source": [
			"## Example 5.6_10: cal_corona_power_loss_and_corona_current.sce"
		   ]
		  },
  {
"cell_type": "code",
	   "execution_count": null,
	   "metadata": {
	    "collapsed": true
	   },
	   "outputs": [],
"source": [
"//Example 10// Ch 5\n",
"clc;\n",
"clear;\n",
"close;\n",
"// given data\n",
"m1=0.92;//smoothness coefficient\n",
"m2=0.95;//weather coefficient\n",
"Deq=600;//mean geometric distance b/w conductors in cm\n",
"V = 275;//line operating at voltage V in kV\n",
"p=75;//pressure in cm Hg\n",
"t = 35;//in degree C\n",
"r=1;//radius of conductors in cm\n",
"delta=3.92*p/(273+t);//relative air density\n",
"printf('relative air density %f',delta)\n",
"E0=30*delta*(1+0.3/sqrt(delta*r))*m1*m2;//corona onset field\n",
"printf('corona onset field %f kVpeak/cm',E0)\n",
"V0 = E0*log(Deq);//onset voltage in kVpeak\n",
"printf('onset voltage %f kVpeak',V0)\n",
"V0rms=V0/sqrt(2);//rms onset voltage\n",
"printf('rms onset voltage %f kV',V0rms)\n",
"V0ll=V0rms*sqrt(3);//onset voltage line to line\n",
"printf('line to line onset voltage %f kV line to line',V0ll)\n",
"K= 0.05;\n",
"f=50;//in Hz\n",
"Vph=(V*10^3)/sqrt(3);\n",
"Pc=3.73*K*f*(Vph^2)*10^-5/(Deq/r)^2;\n",
"printf('corona power loss %f kW/(cond.km)',Pc)\n",
"Ic=Pc/Vph;\n",
"printf('corona current %e A/km',Ic)"
   ]
   }
,
{
		   "cell_type": "markdown",
		   "metadata": {},
		   "source": [
			"## Example 5.6_11: cal_corona_onset_voltage_and_the_effective_radius_of_the_corona_envelope.sce"
		   ]
		  },
  {
"cell_type": "code",
	   "execution_count": null,
	   "metadata": {
	    "collapsed": true
	   },
	   "outputs": [],
"source": [
"//Example 10// Ch 5\n",
"clc;\n",
"clear;\n",
"close;\n",
"// given data\n",
"m1=0.9;//smoothness coefficient\n",
"m2=0.9;//weather coefficient\n",
"r=3.175;//radius of conductor in cm\n",
"V=525;//rated voltage in kV where no corona is present\n",
"delta=1;//relative air-density factor\n",
"Deq=112.63;//in cm\n",
"E0=30*delta*(1+0.3/sqrt(delta*r))*m1*m2;//corona onset field\n",
"printf('corona onset field %f kVpeak/cm',E0)\n",
"E0rms=E0/sqrt(2);\n",
"printf('rms corona onset field %f kV/cm',E0rms)\n",
"V0=E0*r*log(Deq);\n",
"printf('corona onset voltage %f kV',V0)\n",
"V0ll=V0*sqrt(3);\n",
"printf('corona onset voltage lin to line %f kV',V0ll)\n",
"V1=2.5*V;//line to line voltage higher than V0 so corona is present on the conductor\n",
"re=5;//effective radius of corona envelope in cm\n",
"printf('envelope radius %f cm',re)\n",
"\n",
"\n",
"\n",
""
   ]
   }
,
{
		   "cell_type": "markdown",
		   "metadata": {},
		   "source": [
			"## Example 5.6_2: breakdown_voltage.sce"
		   ]
		  },
  {
"cell_type": "code",
	   "execution_count": null,
	   "metadata": {
	    "collapsed": true
	   },
	   "outputs": [],
"source": [
"//Example 2// Ch 5\n",
"clc;\n",
"clear;\n",
"close;\n",
"// given data\n",
"d = 0.001;//in meters\n",
"p = 101.3; //gas pressure in kPa\n",
"C = -2400.4;//constant value\n",
"A = 0.027;//constant value\n",
"As = 10^8;//avalanche size\n",
"//secondary ionization coefficient is much smaller than unity therefore ionization coefficient (alpha) is equal to electron attachment coefficient \n",
"E = (2400.4*p)/0.027; //alpha is equal to e- attachment coeff occurs at this eq\n",
"Vs1 = E*d;//breakdown voltage in V\n",
"printf('electric field %e V/m \n',E)\n",
"printf('breakdown voltage %f V \n',Vs1)\n",
"Vs2 = (log(As)-C*p*d)/A; //in V\n",
"printf('breakdown voltage corresponding to an avalanche size %f V \n',Vs2)\n",
"//as the avalanche self-space charge is neglected the breakdown voltage will be same irrespective of the polarity of the stressed plate acc. to eq (5.4) N2>=N1;\n",
"Vspos = 9.4;//in kV when N2>=N1 in which no of e- in second avalanche is greater than equal to no of e- in first avalanche\n",
"printf('positive voltage breakdown %f kV \n',Vspos)\n",
"Vsneg = 9.2;//in kV when Neph >= 1 where Neph is no of e-photoemitted from the cathode\n",
"printf('negative voltage breakdown %f kV \n',Vsneg)"
   ]
   }
,
{
		   "cell_type": "markdown",
		   "metadata": {},
		   "source": [
			"## Example 5.6_3: repeat_problem_2_for_gas_pressures_of_3_and_5_atmospheres.sce"
		   ]
		  },
  {
"cell_type": "code",
	   "execution_count": null,
	   "metadata": {
	    "collapsed": true
	   },
	   "outputs": [],
"source": [
"//Example 3// Ch 5\n",
"clc;\n",
"clear;\n",
"close;\n",
"// given data\n",
"d = 0.001;//in meters\n",
"p1 = 3*101.3; //gas pressure of 3 atmp in kPa\n",
"p2 = 5*101.3; //gas pressure of 5 atmp in kPa\n",
"C =  2400.4;//constant value\n",
"A = 0.027;//constant value\n",
"As = 10^8;//avalanche size\n",
"Vs1 = C*p1*d/A;//breakdown voltage at 3 atm\n",
"Vs2 = C*p2*d/A;//breakdown voltage at 5 atm\n",
"Vs3 = (log(As)+C*p1*d)/A;//breakdown voltage at 3 atm corresponding to an avalanche size\n",
"Vs4 = (log(As)+C*p2*d)/A;//breakdown voltage at 5 atm corresponding to an avalanche size\n",
"printf('breakdown voltage at 3 atm %f kV \n',Vs1*10^-3)\n",
"printf('breakdown voltage at 5 atm %f kV \n',Vs2*10^-3)\n",
"printf('breakdown voltage at 3 atm corresponding to an avalanche size %f kV \n',Vs3*10^-3)\n",
"printf('breakdown voltage at 5 atm corresponding to an avalanche size %f kV \n',Vs4*10^-3)\n",
"//acc. to eq N2>=N1 and Neph>=1 with increase of gas pressure improves the dielectric strength of the gas since breakdown voltage increses with gas pressure\n",
"Vs1pos = 27.5;//postive breakdown voltage at 3 atm in kV\n",
"Vs1neg = 27.73;//negative breakdown voltage at 3 atm in kV\n",
"Vs2pos = 45.2;//postive breakdown voltage at 5 atm in kV\n",
"Vs2neg = 45.5;//negative breakdown voltage at 5 atm in kV\n",
"printf('positive breakdown voltage at 3 atm %f kV \n',Vs1pos)\n",
"printf('negative breakdown voltage at 3 atm %f kV \n',Vs1neg)\n",
"printf('positive breakdown voltage at 5 atm %f kV \n',Vs2pos)\n",
"printf('negative breakdown voltage at 5 atm %f kV \n',Vs2neg)"
   ]
   }
,
{
		   "cell_type": "markdown",
		   "metadata": {},
		   "source": [
			"## Example 5.6_5: cal_corona_onset_voltage.sce"
		   ]
		  },
  {
"cell_type": "code",
	   "execution_count": null,
	   "metadata": {
	    "collapsed": true
	   },
	   "outputs": [],
"source": [
"//Example 5// Ch 5\n",
"clc;\n",
"clear;\n",
"close;\n",
"// given data\n",
"d=0.001;\n",
"a = 0.1*10^-2;//radii of concentric circle in meters\n",
"b = 2.1*10^-2;//radii of concentric circle in meters\n",
"p = 101.3;//gas pressure in kPa\n",
"p1=3*p;\n",
"p2=5*p;\n",
"C =  -2400.4;//constant value\n",
"A = 0.027;//constant value\n",
"As = 10^8;//avalanche size\n",
"ri = 0.0772;//in m\n",
"V0 = [log(10^8)-{(C*p)*(ri-a)}]*(b-a)/[A*{(1/a)-(1/ri)}];\n",
"printf('corona onset voltage is %f kV \n',V0)\n",
"V0pos = 13.1;//in kV\n",
"V0neg = 13.7;//in kV\n",
"printf('positive corona onset voltage %f kV \n',V0pos)\n",
"printf('negative corona onset voltage %f kV \n',V0neg)\n",
"\n",
"//acc. to eq N2>=N1 and Neph>=1 with increase of gas pressure improves the dielectric strength of the gas since breakdown voltage increses with gas pressure"
   ]
   }
,
{
		   "cell_type": "markdown",
		   "metadata": {},
		   "source": [
			"## Example 5.6_6: for_gas_pressure_of_3_and_5_atmp_cal_corona_onset_voltage.sce"
		   ]
		  },
  {
"cell_type": "code",
	   "execution_count": null,
	   "metadata": {
	    "collapsed": true
	   },
	   "outputs": [],
"source": [
"//Example 6// Ch 5\n",
"clc;\n",
"clear;\n",
"close;\n",
"// given data\n",
"d=0.001;\n",
"a = 0.1*10^-2;//radii of concentric circle in meters\n",
"b = 2.1*10^-2;//radii of concentric circle in meters\n",
"p = 101.3;//gas pressure in kPa\n",
"p1=3*p;\n",
"p2=5*p;\n",
"C =  -2400.4;//constant value\n",
"A = 0.027;//constant value\n",
"As = 10^8;//avalanche size\n",
"ri = 0.0772;//in m\n",
"V01 = [log(10^8)-{(C*p1)*(ri-a)}]*(b-a)/[A*{(1/a)-(1/ri)}];\n",
"V02 = [log(10^8)-{(C*p2)*(ri-a)}]*(b-a)/[A*{(1/a)-(1/ri)}];\n",
"printf('corona onset voltage at 3atmp is %f kV \n',V01)\n",
"printf('corona onset voltage at 5atmp is %f kV \n',V02)\n",
"V01pos = 41.9;//in kV at 3 atmp\n",
"V01neg = 42.2;//in kV at 3 atmp\n",
"V02pos = 69.2;//in kV at 5 atmp\n",
"V02neg = 69.8;//in kV at 5 atmp\n",
"printf('positive corona onset voltage %f kV \n',V01pos)\n",
"printf('negative corona onset voltage %f kV \n',V01neg)\n",
"printf('positive corona onset voltage %f kV \n',V02pos)\n",
"printf('negative corona onset voltage %f kV \n',V02neg)\n",
"//answer given in the book is wrong\n",
"\n",
"//acc. to eq N2>=N1 and Neph>=1 with increase of gas pressure improves the dielectric strength of the gas since breakdown voltage increses with gas pressure"
   ]
   }
,
{
		   "cell_type": "markdown",
		   "metadata": {},
		   "source": [
			"## Example 5.6_8: Cal_positive_and_negative_corona_onset_voltages.sce"
		   ]
		  },
  {
"cell_type": "code",
	   "execution_count": null,
	   "metadata": {
	    "collapsed": true
	   },
	   "outputs": [],
"source": [
"//Example 8// Ch 5\n",
"clc;\n",
"clear;\n",
"close;\n",
"// given data\n",
"\n",
"delta=1;//at standard temp and pressure\n",
"r=1;//radius of conductors in cm\n",
"s=40;//subconductor to subconductor spacing in cm\n",
"D=500; //phase to phase spacing in cm\n",
"E0=30*delta*(1+(0.3/sqrt(delta*r)));//corona onset field in kVpeak/cm\n",
"printf('corona onset field %f kVpeak/cm',E0)\n",
"\n",
"V01=E0*log(D/r);//corona onset voltage using single conductor\n",
"printf('corona onset voltage V01 is %f kVpeak',V01)\n",
"V01rms=V01/sqrt(2);//rms onset voltage in kV\n",
"printf('corona rms onset voltage V01rms %f kV',V01rms)\n",
"\n",
"x2 = log(D /(sqrt(s*r)));\n",
"y2 = (1+((2*r)/s));\n",
"\n",
"V02=2*E0*r*(x2/y2);//corona onset voltage using bundle-2 conductor arranged horizontally and vertically\n",
"printf('corona onset voltage V02 is %f kVpeak',V02)\n",
"V02rms=V02/sqrt(2);//rms onset voltage in kV\n",
"printf('corona rms onset voltage V02rms is %f kV',V02rms)\n",
"\n",
"\n",
"x3 = log(D /((sqrt(2)*(s)^2*r)^0.3));\n",
"y3 = (1+((3*sqrt(3)*r)/s));\n",
"\n",
"V03=3*E0*r*(x3/y3);//corona onset voltage using bundle-3 conductor arranged at vertices of an upright or inverted triangle\n",
"printf('corona onset voltage V03 is %f kVpeak',V03)\n",
"V03rms=V03/sqrt(2);//rms onset voltage in kV\n",
"printf('corona rms onset voltage V03rms is %f kV',V03rms)\n",
"\n",
"\n",
"x4 = log(D /((sqrt(2)*(s)^3*r)^0.25));\n",
"y4 = (1+((4*sqrt(2)*r)/s));\n",
"\n",
"V04=4*E0*r*(x4/y4);//corona onset voltage using bundle-4 conductor arranged at vertices of a square\n",
"printf('corona onset voltage V04 is %f kVpeak',V04)\n",
"V04rms=V04/sqrt(2);//rms onset voltage in kV\n",
"printf('corona rms onset voltage V04rms is %f kV',V04rms)\n",
"\n",
"\n",
"x5 = log(D /((sqrt(2)*(s)^3*r)^0.25));\n",
"y5 = (1+((3*sqrt(2)*r)/s));\n",
"\n",
"V05=4*E0*r*(x5/y5);//corona onset voltage using bundle-4 conductor arranged at vertices of a diamond form square\n",
"printf('corona onset voltage V05 is %f kVpeak',V05)\n",
"V05rms=V05/sqrt(2);//rms onset voltage in kV\n",
"printf('corona rms onset voltage V05rms is %f kV',V05rms)\n",
"\n",
"//acc. to eq 5.18 in question 7 corona onset voltage is calculated"
   ]
   }
,
{
		   "cell_type": "markdown",
		   "metadata": {},
		   "source": [
			"## Example 5.6_9: cal_corona_onset_voltage_at_standard_temperature_and_pressure.sce"
		   ]
		  },
  {
"cell_type": "code",
	   "execution_count": null,
	   "metadata": {
	    "collapsed": true
	   },
	   "outputs": [],
"source": [
"//Example 9// Ch 5\n",
"clc;\n",
"clear;\n",
"close;\n",
"// given data\n",
"Deq=600;//mean geometric distance b/w conductors in cm\n",
"delta=1;//at standard temp and pressure\n",
"r=1;//radius of conductors in cm\n",
"E0=30*delta*(1+(0.3/sqrt(delta*r)));//corona onset field in kVpeak/cm\n",
"printf('corona onset field %f kVpeak/cm',E0)\n",
"V0=E0*log(Deq);//corona onset voltage\n",
"printf('corona onset voltage %f kVpeak',V0)\n",
"V0rms=V0/sqrt(2);//rms onset voltage in kV\n",
"printf('corona rms onset voltage %f kV',V0rms)"
   ]
   }
],
"metadata": {
		  "kernelspec": {
		   "display_name": "Scilab",
		   "language": "scilab",
		   "name": "scilab"
		  },
		  "language_info": {
		   "file_extension": ".sce",
		   "help_links": [
			{
			 "text": "MetaKernel Magics",
			 "url": "https://github.com/calysto/metakernel/blob/master/metakernel/magics/README.md"
			}
		   ],
		   "mimetype": "text/x-octave",
		   "name": "scilab",
		   "version": "0.7.1"
		  }
		 },
		 "nbformat": 4,
		 "nbformat_minor": 0
}
