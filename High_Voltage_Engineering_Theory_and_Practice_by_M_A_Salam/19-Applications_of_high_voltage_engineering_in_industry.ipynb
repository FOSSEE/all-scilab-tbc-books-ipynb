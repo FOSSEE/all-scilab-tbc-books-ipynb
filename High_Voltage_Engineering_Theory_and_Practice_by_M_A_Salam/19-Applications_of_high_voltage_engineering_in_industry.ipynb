{
"cells": [
 {
		   "cell_type": "markdown",
	   "metadata": {},
	   "source": [
       "# Chapter 19: Applications of high voltage engineering in industry"
	   ]
	},
{
		   "cell_type": "markdown",
		   "metadata": {},
		   "source": [
			"## Example 19.18_10: minimum_voltage_required_to_generate_a_charge.sce"
		   ]
		  },
  {
"cell_type": "code",
	   "execution_count": null,
	   "metadata": {
	    "collapsed": true
	   },
	   "outputs": [],
"source": [
"clear all\n",
"clc\n",
"close\n",
"\n",
"a=25*10^-6;//jet radius in m\n",
"b=750*10^-6;//concentric cylinder of radius\n",
"q=50*10^-12;//charge\n",
"l = 120*10^-6;//length of jet inside the cylinder\n",
"Epsilon_o = 8.84*10^-12;\n",
"C=(2*%pi*Epsilon_o*l)/log(b/a);\n",
"printf('capacitance is %e F',C)\n",
"r=50*10^-6;//drop radius\n",
"Vp = (3*a^2*log(b/a)*q)/(8*%pi*Epsilon_o*r^3);\n",
"printf('min voltage required for generating drops %f kV',Vp/1e3)"
   ]
   }
,
{
		   "cell_type": "markdown",
		   "metadata": {},
		   "source": [
			"## Example 19.18_1: determine_separation_between_the_particles_after_falling_1m.sce"
		   ]
		  },
  {
"cell_type": "code",
	   "execution_count": null,
	   "metadata": {
	    "collapsed": true
	   },
	   "outputs": [],
"source": [
"clear all\n",
"clc\n",
"close\n",
"\n",
"qm=10*1e-6;//q/m ratio in C/kg\n",
"E=8*1e5;//Electric field in V/m\n",
"g=9.8;//Universal gravitational constant\n",
"\n",
"y=-1;//in meters\n",
"t=sqrt(-2*y/g);\n",
"\n",
"//Calculation of separation distance between particles\n",
"x=(qm*E*t^2)/2;\n",
"printf('Distance of separation between particles in %f m',2*x)"
   ]
   }
,
{
		   "cell_type": "markdown",
		   "metadata": {},
		   "source": [
			"## Example 19.18_2: cal_pumping_pressure.sce"
		   ]
		  },
  {
"cell_type": "code",
	   "execution_count": null,
	   "metadata": {
	    "collapsed": true
	   },
	   "outputs": [],
"source": [
"clear all\n",
"clc\n",
"close\n",
"\n",
"rho=30*1e-3;//Charge density in C/m^3\n",
"Vo=30*1e3;//Voltage in V\n",
"\n",
"//Calculation of pumping pressure\n",
"P=Vo*rho;\n",
"printf('Pumping pressure is %f N/m^2',P)"
   ]
   }
,
{
		   "cell_type": "markdown",
		   "metadata": {},
		   "source": [
			"## Example 19.18_4: find_vertical_displacement_of_the_drop_on_the_print_surface.sce"
		   ]
		  },
  {
"cell_type": "code",
	   "execution_count": null,
	   "metadata": {
	    "collapsed": true
	   },
	   "outputs": [],
"source": [
"clear all\n",
"clc\n",
"close\n",
"\n",
"dia=0.03*1e-3;//Diameter of drop in m\n",
"rho=2000;//Desnity of ink in kg/m\n",
"vz=25;//velocity in z direction in m/sec\n",
"L1=15*1e-3;//Length of deflection plate in m\n",
"L2=12*1e-3;//distance from the exit end of the deflection plate to the print surface in m\n",
"q=100*1e-15;//Charge of drop in C\n",
"d=2*1e-3;//Spacing in m\n",
"Vo=3500;//Charging voltage in V\n",
"\n",
"//Mass of drop in kg\n",
"m=(4/3)*%pi*rho*(dia/2)^3;\n",
"\n",
"to=L1/vz;\n",
"vxo=q*Vo*to/(m*d);\n",
"xo=0.5*vxo*to;\n",
"\n",
"t1=(L1+L2)/vz;\n",
"printf('time required for the drop to reach the print surface is %f s \n',t1)\n",
"\n",
"//Calculation of vertical displacement of the drop on the print surface in mm\n",
"x1=xo+vxo*(t1-to);\n",
"printf('Vertical displacement of the drop on the print surface is %f m \n',x1)"
   ]
   }
,
{
		   "cell_type": "markdown",
		   "metadata": {},
		   "source": [
			"## Example 19.18_5: electric_stress_and_charge_density_on_the_microphone_elecrtode.sce"
		   ]
		  },
  {
"cell_type": "code",
	   "execution_count": null,
	   "metadata": {
	    "collapsed": true
	   },
	   "outputs": [],
"source": [
"clear all\n",
"clc\n",
"close\n",
"\n",
"epsr=2.8;//Dielectric constant of plastic\n",
"epso=8.84*1e-12;//Permittivity of air in F/m\n",
"rho_s=25*1e-6;//Surface charge in C/m^3\n",
"a=25*1e-6;//Thickness of palstic in m\n",
"b=75*1e-6;//distance in m\n",
"\n",
"//Calculation of electric stress in the foil/plastic laminate in MV/m\n",
"Ea=b*rho_s/(a*epso+b*epso*epsr)\n",
"printf('Electric stress Ea in the foil/plastic laminate in %f MV/m \n',Ea/1e6)\n",
"\n",
"Eb=a*rho_s/(a*epso+b*epso*epsr);\n",
"printf('field inside the electret %f V/m \n',Eb)\n",
"//Calculation of charge desnity in uC/m^2\n",
"rho_sc=epso*Eb;\n",
"printf('Calculation of charge desnity in %f uC/m^2 \n',rho_sc*1e6)"
   ]
   }
,
{
		   "cell_type": "markdown",
		   "metadata": {},
		   "source": [
			"## Example 19.18_6: space_charge_limited_current_density_and_current_density_at_collecting_electrode.sce"
		   ]
		  },
  {
"cell_type": "code",
	   "execution_count": null,
	   "metadata": {
	    "collapsed": true
	   },
	   "outputs": [],
"source": [
"clear all\n",
"clc\n",
"close\n",
"\n",
"epso=8.84*1e-12;//Permittivity of air in F/m\n",
"mui=1.5*1e-4;//Mobility in m^2/sec.V\n",
"V=100;//Applied voltage in V\n",
"d=0.01;//Distance between two parallel plates in m\n",
"mus=0.001*mui;//Miobility of charged smoke particles\n",
"\n",
"//Calculation of current density in nA/m^2\n",
"J=4*epso*mus*V^2/d^3;\n",
"printf('Calculation of current density in %f nA/m^2',J*1e9)"
   ]
   }
,
{
		   "cell_type": "markdown",
		   "metadata": {},
		   "source": [
			"## Example 19.18_7: thickness_of_the_layer.sce"
		   ]
		  },
  {
"cell_type": "code",
	   "execution_count": null,
	   "metadata": {
	    "collapsed": true
	   },
	   "outputs": [],
"source": [
"clear all\n",
"clc\n",
"close\n",
"\n",
"epso=8.84*1e-12;//Permittivity of air in F/m\n",
"rho=15*1e-3;//Charge density in C/m^3\n",
"Ebd=3*1e6;//Breakdown voltage in V/m\n",
"\n",
"//Thickness of dust layer in mm\n",
"dbd=Ebd*epso/rho\n",
"printf('Thickness of dust layer is %f mm',dbd*1e3)"
   ]
   }
,
{
		   "cell_type": "markdown",
		   "metadata": {},
		   "source": [
			"## Example 19.18_8: velocity_of_the_ejected_ions_and_propulsion_force.sce"
		   ]
		  },
  {
"cell_type": "code",
	   "execution_count": null,
	   "metadata": {
	    "collapsed": true
	   },
	   "outputs": [],
"source": [
"clear all\n",
"clc\n",
"close\n",
"\n",
"mi=133*1.67*1e-27;//Mass of cesium in kg\n",
"qi=1.6*1e-19;//Charge in C\n",
"Va=3500;//Accelerating voltage in V\n",
"I=0.2;//Ion current in A\n",
"\n",
"//Calculation of velocity of ejected ions in km/s\n",
"vi=sqrt(2*qi*Va/mi);\n",
"printf('Velocity of ejected ions is %f m/s',vi)\n",
"\n",
"//Calculation of propulsion force in mN\n",
"F=vi*mi*I/qi\n",
"printf('propulsion force is %f N',F)"
   ]
   }
,
{
		   "cell_type": "markdown",
		   "metadata": {},
		   "source": [
			"## Example 19.18_9: position_of_the_particle_at_the_exit_end_of_the_plate.sce"
		   ]
		  },
  {
"cell_type": "code",
	   "execution_count": null,
	   "metadata": {
	    "collapsed": true
	   },
	   "outputs": [],
"source": [
"clear all\n",
"clc\n",
"close\n",
"\n",
"V = 120*10^3;//voltage b/w collecting parallel plates in V\n",
"d=0.6;//in meters\n",
"y1=1.2;//vertical dimension of the plates in m\n",
"cm = 10*10^-6;//charge to mass ratio in C/kg\n",
"g =-9.8;//gravitational force\n",
"//intergrating -9.8t with initial conditions we obtain y = -4.9t^2\n",
"y = 4.9;//at t=y0\n",
"t0 = sqrt(y1/y);\n",
"printf('phosphate particle exit plate at %f sec',t0)\n",
"EF = (cm*V)/d;//velosity of particle in x direction is governed by electrostatic force\n",
"printf('electrostatic force %f m/s^2',EF)\n",
"//integrating twice and subsituting initial conditions we have x = t^2; t=t0\n",
"x=(t0)^2;\n",
"printf('particle exits the plate at %f m',x)\n",
"\n",
""
   ]
   }
],
"metadata": {
		  "kernelspec": {
		   "display_name": "Scilab",
		   "language": "scilab",
		   "name": "scilab"
		  },
		  "language_info": {
		   "file_extension": ".sce",
		   "help_links": [
			{
			 "text": "MetaKernel Magics",
			 "url": "https://github.com/calysto/metakernel/blob/master/metakernel/magics/README.md"
			}
		   ],
		   "mimetype": "text/x-octave",
		   "name": "scilab",
		   "version": "0.7.1"
		  }
		 },
		 "nbformat": 4,
		 "nbformat_minor": 0
}
