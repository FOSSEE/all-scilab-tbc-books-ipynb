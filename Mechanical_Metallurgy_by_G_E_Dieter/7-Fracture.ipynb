{
"cells": [
 {
		   "cell_type": "markdown",
	   "metadata": {},
	   "source": [
       "# Chapter 7: Fracture"
	   ]
	},
{
		   "cell_type": "markdown",
		   "metadata": {},
		   "source": [
			"## Example 7.1: Cohesive_Strength.sce"
		   ]
		  },
  {
"cell_type": "code",
	   "execution_count": null,
	   "metadata": {
	    "collapsed": true
	   },
	   "outputs": [],
"source": [
"//Example 7.1\n",
"//Cohesive Strength\n",
"//Page No. 245\n",
"clc;clear;close;\n",
"\n",
"E=95;               //in GPa\n",
"E=E*10^9;             //conversion to Pa\n",
"Ys=1000;               //erg/cm^2\n",
"Ys=Ys*10^-3;                 //conversion to J/m^2\n",
"a0=1.6;              //in angstrom\n",
"a0=a0*10^-10;                   //conversion to m\n",
"sigma_max=(E*Ys/a0)^(1/2)\n",
"sigma_max=sigma_max*10^-9;\n",
"printf('Cohesive strength of a silica fiber = %g GPa',sigma_max);"
   ]
   }
,
{
		   "cell_type": "markdown",
		   "metadata": {},
		   "source": [
			"## Example 7.2: Fracture_Stress.sce"
		   ]
		  },
  {
"cell_type": "code",
	   "execution_count": null,
	   "metadata": {
	    "collapsed": true
	   },
	   "outputs": [],
"source": [
"//Example 7.2\n",
"//Fracture Stress\n",
"//Page No. 246\n",
"clc;clear;close;\n",
"\n",
"E=100;                        //in GPa\n",
"E=E*10^9;                   //conversion to Pa\n",
"Ys=1;                       //J/m^2\n",
"a0=2.5*10^-10;                  //in m\n",
"c=10^4*a0;\n",
"sigma_f=(E*Ys/(4*c))^(1/2);\n",
"sigma_f=sigma_f*10^-6;\n",
"printf('Fracture Stress = %g MPa',sigma_f);"
   ]
   }
],
"metadata": {
		  "kernelspec": {
		   "display_name": "Scilab",
		   "language": "scilab",
		   "name": "scilab"
		  },
		  "language_info": {
		   "file_extension": ".sce",
		   "help_links": [
			{
			 "text": "MetaKernel Magics",
			 "url": "https://github.com/calysto/metakernel/blob/master/metakernel/magics/README.md"
			}
		   ],
		   "mimetype": "text/x-octave",
		   "name": "scilab",
		   "version": "0.7.1"
		  }
		 },
		 "nbformat": 4,
		 "nbformat_minor": 0
}
