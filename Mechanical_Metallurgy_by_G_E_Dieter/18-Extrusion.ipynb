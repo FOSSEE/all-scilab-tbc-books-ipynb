{
"cells": [
 {
		   "cell_type": "markdown",
	   "metadata": {},
	   "source": [
       "# Chapter 18: Extrusion"
	   ]
	},
{
		   "cell_type": "markdown",
		   "metadata": {},
		   "source": [
			"## Example 18.1: Extrusion_Process.sce"
		   ]
		  },
  {
"cell_type": "code",
	   "execution_count": null,
	   "metadata": {
	    "collapsed": true
	   },
	   "outputs": [],
"source": [
"//Example 18.1\n",
"//Extrusion Process\n",
"//Page No. 629\n",
"clc;clear;close;\n",
"\n",
"Db=6;                    //in inches\n",
"Df=2;                    //in inches\n",
"L=15;                    //in inches\n",
"v=2;                    //in inches/s\n",
"alpha=60;                    //in degrees\n",
"mu=0.1;                    //no unit\n",
"R=Db^2/Df^2;\n",
"e=6*v*log(R)/Db\n",
"sigma=200*e^0.15;\n",
"B=mu*cotd(alpha);\n",
"p_d=sigma*((1+B)/B)*(1-R^B);\n",
"p_d=abs(p_d);\n",
"t_i=sigma/sqrt(3);\n",
"p_e=p_d+4*t_i*L/Db;\n",
"p_e=p_e*145.0377;                    //conversion to psi\n",
"A=%pi*Db^2/4;\n",
"P=p_e*A;\n",
"P=P*0.000453;                      //conversion to metric tons\n",
"printf('\nForce required for the Operation = %g metric tons\n\n\nNote: Slight calculation errors in book',P);"
   ]
   }
],
"metadata": {
		  "kernelspec": {
		   "display_name": "Scilab",
		   "language": "scilab",
		   "name": "scilab"
		  },
		  "language_info": {
		   "file_extension": ".sce",
		   "help_links": [
			{
			 "text": "MetaKernel Magics",
			 "url": "https://github.com/calysto/metakernel/blob/master/metakernel/magics/README.md"
			}
		   ],
		   "mimetype": "text/x-octave",
		   "name": "scilab",
		   "version": "0.7.1"
		  }
		 },
		 "nbformat": 4,
		 "nbformat_minor": 0
}
