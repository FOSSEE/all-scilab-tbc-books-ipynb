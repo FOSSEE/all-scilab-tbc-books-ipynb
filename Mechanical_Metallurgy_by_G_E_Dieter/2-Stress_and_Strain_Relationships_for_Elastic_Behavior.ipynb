{
"cells": [
 {
		   "cell_type": "markdown",
	   "metadata": {},
	   "source": [
       "# Chapter 2: Stress and Strain Relationships for Elastic Behavior"
	   ]
	},
{
		   "cell_type": "markdown",
		   "metadata": {},
		   "source": [
			"## Example 2.1: State_of_Stress_in_two_dimensions.sce"
		   ]
		  },
  {
"cell_type": "code",
	   "execution_count": null,
	   "metadata": {
	    "collapsed": true
	   },
	   "outputs": [],
"source": [
"//Example 2.1\n",
"//State of Stress in two dimensions\n",
"//Page No. 25\n",
"clc;clear;close;\n",
"\n",
"sigma_x=25;           //no unit\n",
"sigma_y=5;             //no unit\n",
"theta=45;               //in degrees\n",
"sigma_x_=50;            //in Mpa\n",
"T_x_y_=5;              //in Mpa\n",
"A=[(sigma_x+sigma_y)/2+(sigma_x-sigma_y)/2*cosd(2*theta),sind(2*theta);(sigma_y-sigma_x)/2*sind(2*theta),cosd(2*theta)];\n",
"B=[sigma_x_;T_x_y_];\n",
"X=inv(A)*B;\n",
"p=X(1);\n",
"T_xy=X(2);\n",
"sigma_x1=sigma_x*p;\n",
"sigma_y1=sigma_y*p;\n",
"sigma_y_=sigma_x1+sigma_y1-sigma_x_;\n",
"printf('\nsigma_x= %g MPa\nsigma_y= %g MPa\nT_xy= %g MPa\nsigma_y`= %g MPa',sigma_x1,sigma_y1,T_xy,sigma_y_);"
   ]
   }
,
{
		   "cell_type": "markdown",
		   "metadata": {},
		   "source": [
			"## Example 2.2: State_of_Stress_in_three_dimensions.sce"
		   ]
		  },
  {
"cell_type": "code",
	   "execution_count": null,
	   "metadata": {
	    "collapsed": true
	   },
	   "outputs": [],
"source": [
"//Example 2.2\n",
"//State of Stress in three dimensions\n",
"//Page No. 29\n",
"clc;clear;close;\n",
"\n",
"s=poly(0,'s')\n",
"A=[s-0,-240,0;-240,s-200,0;0,0,s+280];         //in Mpa\n",
"p=determ(A);\n",
"X=roots(p);\n",
"for i=1:3\n",
"    printf('\nsigma%i = %g MPa',i,X(i));\n",
"end\n",
"printf('\n\nLogic: The matrix provided in the book is a state of stress of a body which includes a combination of normal and shear stresses acting in a triaxial direction. So the determinant of the matrix results in the cubic equation in ''sigma'' which when solved gives the principal stresses');"
   ]
   }
,
{
		   "cell_type": "markdown",
		   "metadata": {},
		   "source": [
			"## Example 2.3: Calculation_of_Stresses_from_elastic_strains.sce"
		   ]
		  },
  {
"cell_type": "code",
	   "execution_count": null,
	   "metadata": {
	    "collapsed": true
	   },
	   "outputs": [],
"source": [
"//Example 2.3\n",
"//Calculation of Stresses from elastic strains\n",
"//Page No. 52\n",
"clc;clear;close;\n",
"\n",
"E=200;              //in GPa\n",
"nu=0.33;            //no unit\n",
"e1=0.004;            //no unit\n",
"e2=0.001;            //no unit\n",
"sigma1=E*(e1+nu*e2)/(1-nu^2);\n",
"sigma2=E*(e2+nu*e1)/(1-nu^2);\n",
"sigma1=sigma1*1000;        //conversion to MPa\n",
"sigma2=sigma2*1000;        //conversion to MPa\n",
"printf('\nsigma1 = %g MPa\nsigma2 = %g MPa\n',sigma1,sigma2);\n",
"printf('\nNote: Slight calculation errors in Book')"
   ]
   }
,
{
		   "cell_type": "markdown",
		   "metadata": {},
		   "source": [
			"## Example 2.4: Elastic_Anisotropy.sce"
		   ]
		  },
  {
"cell_type": "code",
	   "execution_count": null,
	   "metadata": {
	    "collapsed": true
	   },
	   "outputs": [],
"source": [
"//Example 2.4\n",
"//Elastic Anisotropy\n",
"//Page No. 60\n",
"clc;clear;close;\n",
"\n",
"S11_Fe=0.8;                //in 1/Pa\n",
"S12_Fe=-0.28;                //in 1/Pa\n",
"S44_Fe=0.86;                //in 1/Pa\n",
"S11_W=0.26;                //in 1/Pa\n",
"S12_W=-0.07;                //in 1/Pa\n",
"S44_W=0.66;                //in 1/Pa\n",
"D_100_l=1;\n",
"D_100_m=0;\n",
"D_100_n=0;\n",
"D_110_l=1/sqrt(2);\n",
"D_110_m=1/sqrt(2);\n",
"D_110_n=0;\n",
"D_111_l=1/sqrt(3);\n",
"D_111_m=1/sqrt(3);\n",
"D_111_n=1/sqrt(3);\n",
"\n",
"printf('\nFor Iron:\n\n');\n",
"Fe_E_111=1/(S11_Fe-2*((S11_Fe-S12_Fe)-S44_Fe/2)*(D_111_l^2*D_111_m^2+D_111_n^2*D_111_m^2+D_111_l^2*D_111_n^2));\n",
"Fe_E_100=1/(S11_Fe-2*((S11_Fe-S12_Fe)-S44_Fe/2)*(D_100_l^2*D_100_m^2+D_100_n^2*D_100_m^2+D_100_l^2*D_100_n^2));\n",
"printf('E_111 = %g x 10^11 Pa\nE_100 = %g x 10^11 Pa\n',Fe_E_111,Fe_E_100);\n",
"printf('\n\n\nFor Tungten:\n\n');\n",
"W_E_111=1/(S11_W-2*((S11_W-S12_W)-S44_W/2)*(D_111_l^2*D_111_m^2+D_111_n^2*D_111_m^2+D_111_l^2*D_111_n^2));\n",
"W_E_100=1/(S11_W-2*((S11_W-S12_W)-S44_W/2)*(D_100_l^2*D_100_m^2+D_100_n^2*D_100_m^2+D_100_l^2*D_100_n^2));\n",
"printf('E_111 = %g x 10^11 Pa\nE_100 = %g x 10^11 Pa\n\nTherefore tungsten is elastically isotropic while iron is elasitcally anisotropic',W_E_111,W_E_100);"
   ]
   }
],
"metadata": {
		  "kernelspec": {
		   "display_name": "Scilab",
		   "language": "scilab",
		   "name": "scilab"
		  },
		  "language_info": {
		   "file_extension": ".sce",
		   "help_links": [
			{
			 "text": "MetaKernel Magics",
			 "url": "https://github.com/calysto/metakernel/blob/master/metakernel/magics/README.md"
			}
		   ],
		   "mimetype": "text/x-octave",
		   "name": "scilab",
		   "version": "0.7.1"
		  }
		 },
		 "nbformat": 4,
		 "nbformat_minor": 0
}
