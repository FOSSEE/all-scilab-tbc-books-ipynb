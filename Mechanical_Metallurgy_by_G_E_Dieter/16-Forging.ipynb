{
"cells": [
 {
		   "cell_type": "markdown",
	   "metadata": {},
	   "source": [
       "# Chapter 16: Forging"
	   ]
	},
{
		   "cell_type": "markdown",
		   "metadata": {},
		   "source": [
			"## Example 16.1: Forging_in_Plain_Strain.sce"
		   ]
		  },
  {
"cell_type": "code",
	   "execution_count": null,
	   "metadata": {
	    "collapsed": true
	   },
	   "outputs": [],
"source": [
"//Example 16.1\n",
"//Forging in Plain Strain\n",
"//Page No. 574\n",
"clc;clear;close;\n",
"\n",
"sigma=1000;               //in psi\n",
"mu=0.25;                  //no unit\n",
"a=2;                      //in inches\n",
"b=6;                      //in inches\n",
"h=0.25;                      //in inches\n",
"x=0;                      //in inches\n",
"p_max=2*sigma*exp(2*mu*(a-x)/h)/sqrt(3);\n",
"printf('\nAt the centerline of the slab = %g psi\n',p_max);\n",
"printf('\nPressure Distributon from the centerline:');\n",
"printf('\n---------------------------------\n');\n",
"printf('x\tp (ksi)\t\tt_i (ksi)\n');\n",
"printf('---------------------------------\n');\n",
"for x=0:h:a\n",
"    p=2*sigma*exp(2*mu*(a-x)/h)/(1000*sqrt(3));             //in ksi\n",
"    t_i=mu*p;\n",
"    printf('%g\t%g\t\t%g\n',x,p,t_i);\n",
"end\n",
"printf('---------------------------------\n');\n",
"k=sigma/sqrt(3);\n",
"x=0;                      //in inches\n",
"p_max1=2*sigma*((a-x)/h+1)/sqrt(3);\n",
"printf('\nFor sticking friction:\np_max = %g ksi',p_max1/1000);\n",
"x1=a-h/(2*mu)*log(1/(2*mu));\n",
"p=2*sigma*(a/(2*h)+1)/sqrt(3);\n",
"P=2*p*a*b;\n",
"P=P*0.000453;                      //conversion to metric tons\n",
"printf('\n\nThe Forging load = %g tons',P);"
   ]
   }
],
"metadata": {
		  "kernelspec": {
		   "display_name": "Scilab",
		   "language": "scilab",
		   "name": "scilab"
		  },
		  "language_info": {
		   "file_extension": ".sce",
		   "help_links": [
			{
			 "text": "MetaKernel Magics",
			 "url": "https://github.com/calysto/metakernel/blob/master/metakernel/magics/README.md"
			}
		   ],
		   "mimetype": "text/x-octave",
		   "name": "scilab",
		   "version": "0.7.1"
		  }
		 },
		 "nbformat": 4,
		 "nbformat_minor": 0
}
