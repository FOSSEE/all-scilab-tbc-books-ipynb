{
"cells": [
 {
		   "cell_type": "markdown",
	   "metadata": {},
	   "source": [
       "# Chapter 14: Brittle Fracture and Impact Testing"
	   ]
	},
{
		   "cell_type": "markdown",
		   "metadata": {},
		   "source": [
			"## Example 14.1: Stress_Corrosion_Cracking.sce"
		   ]
		  },
  {
"cell_type": "code",
	   "execution_count": null,
	   "metadata": {
	    "collapsed": true
	   },
	   "outputs": [],
"source": [
"//Example 14.1\n",
"//Stress Corrosion Cracking\n",
"//Page No. 494\n",
"clc;clear;close;\n",
"\n",
"cg=10;            //in mm\n",
"cg=cg/1000;         //conversion to m\n",
"gr=10^-8;         //m/s\n",
"l=cg/(gr*3600*24);     \n",
"printf('\nEstimated Life = %g days',l);\n",
"K_l_SCC=10;                 //in MN m^(-3/2)\n",
"a_sigma2=K_l_SCC^2/(1.21*%pi);\n",
"s=[500,300,100];\n",
"printf('\n\n\n---------------------------------\nStress, MPa\tCrack Length, mm\n---------------------------------\n');\n",
"for i=1:3\n",
"    printf('\t%g\t\t%g\n',s(i),a_sigma2*1000/s(i)^2);\n",
"end\n",
"printf('---------------------------------');\n",
"printf('\n\n\n\nNote: Calculation errors in book');"
   ]
   }
],
"metadata": {
		  "kernelspec": {
		   "display_name": "Scilab",
		   "language": "scilab",
		   "name": "scilab"
		  },
		  "language_info": {
		   "file_extension": ".sce",
		   "help_links": [
			{
			 "text": "MetaKernel Magics",
			 "url": "https://github.com/calysto/metakernel/blob/master/metakernel/magics/README.md"
			}
		   ],
		   "mimetype": "text/x-octave",
		   "name": "scilab",
		   "version": "0.7.1"
		  }
		 },
		 "nbformat": 4,
		 "nbformat_minor": 0
}
