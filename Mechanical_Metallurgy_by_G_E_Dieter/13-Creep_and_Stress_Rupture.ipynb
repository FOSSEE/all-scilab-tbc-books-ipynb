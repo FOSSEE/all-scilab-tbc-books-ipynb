{
"cells": [
 {
		   "cell_type": "markdown",
	   "metadata": {},
	   "source": [
       "# Chapter 13: Creep and Stress Rupture"
	   ]
	},
{
		   "cell_type": "markdown",
		   "metadata": {},
		   "source": [
			"## Example 13.1: Engineering_Creep.sce"
		   ]
		  },
  {
"cell_type": "code",
	   "execution_count": null,
	   "metadata": {
	    "collapsed": true
	   },
	   "outputs": [],
"source": [
"//Example 13.1\n",
"//Engineering Creep\n",
"//Page No. 461\n",
"clc;clear;close;\n",
"\n",
"sf=3;                 //no unit\n",
"per=1/1000;           //in %\n",
"T(1)=1100;            //in Fahrenheit\n",
"T(2)=1500;            //in Fahrenheit\n",
"C(1)=30000;                //from fig 13-17 in book\n",
"C(2)=4000;                //from fig 13-17 in book\n",
"W(1)=C(1)/sf;\n",
"W(2)=C(2)/sf;\n",
"W1(1)=W(1)*0.00689;\n",
"W1(2)=W(2)*0.00689;\n",
"printf('\n-----------------------------------------------------------------------------------\n');\n",
"printf('Temperature\tCreep Strength, psi\tWorking Stress, psi\tWorking Stress, MPa\n');\n",
"printf('-----------------------------------------------------------------------------------');\n",
"printf('\n1100 F\t\t\t%i\t\t\t%i\t\t\t%g\n',C(1),W(1),W1(1));\n",
"printf('\n1500 F\t\t\t%i\t\t\t%i\t\t\t%g\n',C(2),W(2),W1(2));"
   ]
   }
,
{
		   "cell_type": "markdown",
		   "metadata": {},
		   "source": [
			"## Example 13.2: Engineering_Creep.sce"
		   ]
		  },
  {
"cell_type": "code",
	   "execution_count": null,
	   "metadata": {
	    "collapsed": true
	   },
	   "outputs": [],
"source": [
"//Example 13.2\n",
"//Engineering Creep\n",
"//Page No. 461\n",
"clc;clear;close;\n",
"\n",
"deff('y=C(f)','y=(f-32)*(5/9)');\n",
"R=1.987;               //in cal/mol K\n",
"T2=1300;            //in Fahrenheit\n",
"T1=1500;            //in Fahrenheit\n",
"T2=C(T2)+273.15;\n",
"T1=C(T1)+273.15;\n",
"e2=0.0001;            //no unit\n",
"e1=0.4;             //no unit\n",
"Q=R*log(e1/e2)/(1/T2-1/T1);\n",
"printf('\nActivation Energy = %g cal/mol',Q)\n",
"printf('\n\n\nNote: Calculation Errors in book');"
   ]
   }
,
{
		   "cell_type": "markdown",
		   "metadata": {},
		   "source": [
			"## Example 13.3: Prediction_of_long_time_properties.sce"
		   ]
		  },
  {
"cell_type": "code",
	   "execution_count": null,
	   "metadata": {
	    "collapsed": true
	   },
	   "outputs": [],
"source": [
"//Example 13.3\n",
"//Prediction of long time properties\n",
"//Page No. 464\n",
"clc;clear;close;\n",
"\n",
"t=10^5;             //in hr\n",
"C1=20;               //in no unit\n",
"T1=1200;            //in Fahrenheit\n",
"T2=1600;            //in Fahrenheit\n",
"P_1200=(T1+460)*(log10(t)+C1);\n",
"P_1600=(T2+460)*(log10(t)+C1);\n",
"printf('\nAt T = 1200 F, P = %g\nAt T = 1600 F, P = %g\nAnd from the master ploy of Astroploy, corresponding stress required are sigma = 78000 psi and sigma = 11000 psi',P_1200,P_1600);"
   ]
   }
],
"metadata": {
		  "kernelspec": {
		   "display_name": "Scilab",
		   "language": "scilab",
		   "name": "scilab"
		  },
		  "language_info": {
		   "file_extension": ".sce",
		   "help_links": [
			{
			 "text": "MetaKernel Magics",
			 "url": "https://github.com/calysto/metakernel/blob/master/metakernel/magics/README.md"
			}
		   ],
		   "mimetype": "text/x-octave",
		   "name": "scilab",
		   "version": "0.7.1"
		  }
		 },
		 "nbformat": 4,
		 "nbformat_minor": 0
}
