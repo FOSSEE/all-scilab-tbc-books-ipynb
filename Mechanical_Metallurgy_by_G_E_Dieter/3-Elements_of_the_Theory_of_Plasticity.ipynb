{
"cells": [
 {
		   "cell_type": "markdown",
	   "metadata": {},
	   "source": [
       "# Chapter 3: Elements of the Theory of Plasticity"
	   ]
	},
{
		   "cell_type": "markdown",
		   "metadata": {},
		   "source": [
			"## Example 3.1: True_Stress_and_True_Strain.sce"
		   ]
		  },
  {
"cell_type": "code",
	   "execution_count": null,
	   "metadata": {
	    "collapsed": true
	   },
	   "outputs": [],
"source": [
"//Example 3.1\n",
"//True Stress and True Strain\n",
"//Page No. 76\n",
"clc;clear;close;\n",
"\n",
"D_i=0.505;             //in inches\n",
"L=2;               //in inches\n",
"P_max=20000;         //in lb\n",
"P_f=16000;            //in lb\n",
"D_f=0.425;            //in inches\n",
"E_St= P_max*4/(%pi*D_i^2);\n",
"T_fr_St= P_f*4/(%pi*D_f^2);\n",
"e_f=log(D_i^2/D_f^2);\n",
"e=exp(e_f)-1;\n",
"printf('\nEngineering Stress at maximum load = %g psi\nTrue Fracture Stress = %g psi\nTrue Strain at fracture = %g\nEngineering strain at fracture = %g',E_St,T_fr_St,e_f,e);"
   ]
   }
,
{
		   "cell_type": "markdown",
		   "metadata": {},
		   "source": [
			"## Example 3.2: Yielding_Criteria_for_Ductile_Metals.sce"
		   ]
		  },
  {
"cell_type": "code",
	   "execution_count": null,
	   "metadata": {
	    "collapsed": true
	   },
	   "outputs": [],
"source": [
"//Example 3.2\n",
"//Yielding Criteria for Ductile Metals\n",
"//Page No. 78\n",
"clc;clear;close;\n",
"\n",
"sigma00=500;           //in MPa\n",
"sigma_z=-50;           //in MPa\n",
"sigma_y=100;           //in MPa\n",
"sigma_x=200;           //in MPa\n",
"T_xy=30;           //in MPa\n",
"T_yz=0;           //in MPa\n",
"T_xz=0;           //in MPa\n",
"sigma0=sqrt((sigma_x-sigma_y)^2+(sigma_y-sigma_z)^2+(sigma_z-sigma_x)^2+6*(T_xy^2+T_yz^2+T_xz^2))/sqrt(2);\n",
"s=sigma00/sigma0;\n",
"printf('\nSince the calculated value of sigma0 = %g MPa, which is less than the yield strength of the aluminium alloy\nThus safety factor is = %g',sigma0,s);"
   ]
   }
,
{
		   "cell_type": "markdown",
		   "metadata": {},
		   "source": [
			"## Example 3.3: Tresca_Criterio.sce"
		   ]
		  },
  {
"cell_type": "code",
	   "execution_count": null,
	   "metadata": {
	    "collapsed": true
	   },
	   "outputs": [],
"source": [
"//Example 3.3\n",
"//Tresca Criterion\n",
"//Page No. 81\n",
"clc;clear;close;\n",
"\n",
"sigma00=500;           //in MPa\n",
"sigma_z=-50;           //in MPa\n",
"sigma_y=100;           //in MPa\n",
"sigma_x=200;           //in MPa\n",
"T_xy=30;           //in MPa\n",
"T_yz=0;           //in MPa\n",
"T_xz=0;           //in MPa\n",
"sigma0=sigma_x-sigma_z;\n",
"s=sigma00/sigma0;\n",
"printf('\nSince the calculated value of sigma0 = %g MPa, which is less than the yield strength of the aluminium alloy\nThus safety factor is = %g',sigma0,s);"
   ]
   }
,
{
		   "cell_type": "markdown",
		   "metadata": {},
		   "source": [
			"## Example 3.4: Levy_Mises_Equatio.sce"
		   ]
		  },
  {
"cell_type": "code",
	   "execution_count": null,
	   "metadata": {
	    "collapsed": true
	   },
	   "outputs": [],
"source": [
"//Example 3.4\n",
"//Levy-Mises Equation\n",
"//Page No. 91\n",
"clc;clear;close;\n",
"\n",
"r_t=20;        //no unit\n",
"p=1000;        //in psi\n",
"sigma1=p*r_t;\n",
"sigma1=sigma1/1000;                     //conversion to ksi\n",
"sigma=sqrt(3)*sigma1/2;\n",
"e=(sigma/25)^(1/0.25);\n",
"e1=sqrt(3)*e/2;\n",
"printf('\nPlastic Strain = %g',e1);"
   ]
   }
],
"metadata": {
		  "kernelspec": {
		   "display_name": "Scilab",
		   "language": "scilab",
		   "name": "scilab"
		  },
		  "language_info": {
		   "file_extension": ".sce",
		   "help_links": [
			{
			 "text": "MetaKernel Magics",
			 "url": "https://github.com/calysto/metakernel/blob/master/metakernel/magics/README.md"
			}
		   ],
		   "mimetype": "text/x-octave",
		   "name": "scilab",
		   "version": "0.7.1"
		  }
		 },
		 "nbformat": 4,
		 "nbformat_minor": 0
}
