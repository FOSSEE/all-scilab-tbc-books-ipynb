{
"cells": [
 {
		   "cell_type": "markdown",
	   "metadata": {},
	   "source": [
       "# Chapter 8: The Tension Test"
	   ]
	},
{
		   "cell_type": "markdown",
		   "metadata": {},
		   "source": [
			"## Example 8.1: Standard_properties_of_the_material.sce"
		   ]
		  },
  {
"cell_type": "code",
	   "execution_count": null,
	   "metadata": {
	    "collapsed": true
	   },
	   "outputs": [],
"source": [
"//Example 8.1\n",
"//Standard properties of the material\n",
"//Page No. 281\n",
"clc;clear;close;\n",
"\n",
"D=0.505;            //in inches\n",
"Lo=2;                 //in inches\n",
"Lf=2.53;            //in inches\n",
"Py=15000;          //in lb\n",
"Pmax=18500;         //in lb\n",
"Pf=16200;          //in lb\n",
"D_f=0.315;          //in inches\n",
"A0=%pi*D^2/4;\n",
"Af=%pi*D_f^2/4;\n",
"s_u=Pmax/A0;\n",
"s0=Py/A0;\n",
"s_f=Pf/A0;\n",
"e_f=(Lf-Lo)/Lo;\n",
"q=(A0-Af)/A0;\n",
"printf('\nUltimate Tensile Strength = %g psi\n0.2 percent offset yield strength = %g psi\nBreaking Stress = %g psi\nElongation = %g percent\nReduction of Area = %g percent\n\n\nNote: Slight Computational Errors in book',s_u,s0,s_f,e_f*100,q*100);"
   ]
   }
,
{
		   "cell_type": "markdown",
		   "metadata": {},
		   "source": [
			"## Example 8.2: True_Strai.sce"
		   ]
		  },
  {
"cell_type": "code",
	   "execution_count": null,
	   "metadata": {
	    "collapsed": true
	   },
	   "outputs": [],
"source": [
"//Example 8.2\n",
"//True Strain\n",
"//Page No. 288\n",
"clc;clear;close;\n",
"\n",
"//case 1\n",
"Af=100;                 //in mm^2\n",
"Lf=60;                  //in mm\n",
"A0=150;                 //in mm^2\n",
"L0=40;                  //in mm\n",
"ef1=log(Lf/L0);\n",
"ef2=log(A0/Af);\n",
"printf('\nTrue Strain to fracture using changes in length = %g\nTrue Strain to fracture using changes in area = %g',ef1,ef2);\n",
"\n",
"//Case 2\n",
"Lf=83;                    //in mm\n",
"L0=40;                   //in mm\n",
"Df=8;                      //in mm\n",
"D0=12.8;                    //in mm\n",
"ef1=log(Lf/L0);\n",
"ef2=2*log(D0/Df);\n",
"printf('\n\n\nFor More ductile metals\nTrue Strain to fracture using changes in length = %g\nTrue Strain to fracture using changes in diameter = %g',ef1,ef2);"
   ]
   }
,
{
		   "cell_type": "markdown",
		   "metadata": {},
		   "source": [
			"## Example 8.3: Ultimate_Tensile_Strength.sce"
		   ]
		  },
  {
"cell_type": "code",
	   "execution_count": null,
	   "metadata": {
	    "collapsed": true
	   },
	   "outputs": [],
"source": [
"//Example 8.3\n",
"//Ultimate Tensile Strength\n",
"//Page No. 290\n",
"clc;clear;close;\n",
"\n",
"deff('y=sigma(e)','y=200000*e^0.33');\n",
"E_u=0.33;            //no unit\n",
"sigma_u=sigma(E_u);\n",
"s_u=sigma_u/exp(E_u);\n",
"printf('Ultimate Tensile Strength = %g psi',s_u);"
   ]
   }
,
{
		   "cell_type": "markdown",
		   "metadata": {},
		   "source": [
			"## Example 8.4: Effect_of_Strain_Rate.sce"
		   ]
		  },
  {
"cell_type": "code",
	   "execution_count": null,
	   "metadata": {
	    "collapsed": true
	   },
	   "outputs": [],
"source": [
"//Example 8.4\n",
"//Effect of Strain Rate\n",
"//Page No. 298\n",
"clc;clear;close;\n",
"\n",
"C_70=10.2;            //in ksi\n",
"C_825=2.1;             //in ksi\n",
"m_70=0.066;            //no unit\n",
"m_825=0.211;             //no unit\n",
"e1=1;             //no unit                  \n",
"e2=100;             //no unit\n",
"printf('\nAt 70deg F\n');\n",
"sigma_a=C_70*e1^m_70;\n",
"sigma_b=C_70*e2^m_70;\n",
"\n",
"printf('sigma_a = %g ksi\nsigma_b = %g ksi\nsigma_b/sigma_a = %g\n',sigma_a,sigma_b,sigma_b/sigma_a);\n",
"printf('\n\nAt 825deg F\n');\n",
"sigma_a=C_825*e1^m_825;\n",
"sigma_b=C_825*e2^m_825;\n",
"printf('sigma_a = %g ksi\nsigma_b = %g ksi\nsigma_b/sigma_a = %g\n',sigma_a,sigma_b,sigma_b/sigma_a);"
   ]
   }
],
"metadata": {
		  "kernelspec": {
		   "display_name": "Scilab",
		   "language": "scilab",
		   "name": "scilab"
		  },
		  "language_info": {
		   "file_extension": ".sce",
		   "help_links": [
			{
			 "text": "MetaKernel Magics",
			 "url": "https://github.com/calysto/metakernel/blob/master/metakernel/magics/README.md"
			}
		   ],
		   "mimetype": "text/x-octave",
		   "name": "scilab",
		   "version": "0.7.1"
		  }
		 },
		 "nbformat": 4,
		 "nbformat_minor": 0
}
