{
"cells": [
 {
		   "cell_type": "markdown",
	   "metadata": {},
	   "source": [
       "# Chapter 1: Introduction"
	   ]
	},
{
		   "cell_type": "markdown",
		   "metadata": {},
		   "source": [
			"## Example 1.1: Shear_Stress.sce"
		   ]
		  },
  {
"cell_type": "code",
	   "execution_count": null,
	   "metadata": {
	    "collapsed": true
	   },
	   "outputs": [],
"source": [
"//Example 1.1\n",
"//Shear Stress\n",
"//Page No. 16\n",
"clc;clear;close;\n",
"\n",
"y_b=2;       //in J/m^2\n",
"G=75;       //in Gpa\n",
"G=G*10^9;       //conversion to Pa\n",
"L=0.01;           //in mm\n",
"L=L*10^-3;       //conversion to m\n",
"nu=0.3;         //no unit\n",
"T=sqrt((3*%pi*y_b*G)/(8*(1-nu)*L));\n",
"T=T/10^6;\n",
"printf('Shear Stress Required to nucleate a grain boundary crack in high temperature deformation = %g MPa',T)"
   ]
   }
],
"metadata": {
		  "kernelspec": {
		   "display_name": "Scilab",
		   "language": "scilab",
		   "name": "scilab"
		  },
		  "language_info": {
		   "file_extension": ".sce",
		   "help_links": [
			{
			 "text": "MetaKernel Magics",
			 "url": "https://github.com/calysto/metakernel/blob/master/metakernel/magics/README.md"
			}
		   ],
		   "mimetype": "text/x-octave",
		   "name": "scilab",
		   "version": "0.7.1"
		  }
		 },
		 "nbformat": 4,
		 "nbformat_minor": 0
}
