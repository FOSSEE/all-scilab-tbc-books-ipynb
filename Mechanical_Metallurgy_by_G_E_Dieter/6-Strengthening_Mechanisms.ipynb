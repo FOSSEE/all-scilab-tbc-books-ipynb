{
"cells": [
 {
		   "cell_type": "markdown",
	   "metadata": {},
	   "source": [
       "# Chapter 6: Strengthening Mechanisms"
	   ]
	},
{
		   "cell_type": "markdown",
		   "metadata": {},
		   "source": [
			"## Example 6.1: Grain_Size_Measurement.sce"
		   ]
		  },
  {
"cell_type": "code",
	   "execution_count": null,
	   "metadata": {
	    "collapsed": true
	   },
	   "outputs": [],
"source": [
"//Example 6.1\n",
"//Grain Size Measurement\n",
"//Page No. 193\n",
"clc;clear;close;\n",
"\n",
"sigma_i=150;              //in MN/m^2\n",
"k=0.7;                    //in MN/m^(3/2)\n",
"n=6;                      \n",
"N_x=2^(n-1);\n",
"N=N_x/(0.01)^2;             //in grains/in^2\n",
"N=N*10^6/25.4^2;             // in grains/m^2\n",
"D=sqrt(1/N);\n",
"sigma0=sigma_i+k/D^(1/2);\n",
"printf('\nYield Stress = %g MPa',sigma0);"
   ]
   }
,
{
		   "cell_type": "markdown",
		   "metadata": {},
		   "source": [
			"## Example 6.2: Strengthing_Mechanism.sce"
		   ]
		  },
  {
"cell_type": "code",
	   "execution_count": null,
	   "metadata": {
	    "collapsed": true
	   },
	   "outputs": [],
"source": [
"//Example 6.2\n",
"//Strengthing Mechanism\n",
"//Page No. 219\n",
"clc;clear;close;\n",
"\n",
"sigma0=600;           //in MPa\n",
"G=27.6;               //in GPa\n",
"G=G*10^9           //conversion to Pa\n",
"b=2.5*10^-8;              //in cm\n",
"b=b*10^-2;            //conversion to m\n",
"T0=sigma0/2;\n",
"T0=T0*10^6;             //conversion to Pa\n",
"lambda=G*b/T0;\n",
"Cu_max=54;             //in %\n",
"Cu_eq=4;               //in %\n",
"Cu_min=0.5;             //in %\n",
"rho_al=2.7;             //in g/cm^3\n",
"rho_theta=4.43;           //in g/cm^3\n",
"wt_a=(Cu_max-Cu_eq)/(Cu_max-Cu_min);\n",
"wt_theta=(Cu_eq-Cu_min)/(Cu_max-Cu_min);\n",
"V_a=wt_a/rho_al;\n",
"V_theta=wt_theta/rho_theta;\n",
"f=V_theta/(V_a+V_theta);\n",
"r=(3*f*lambda)/(4*(1-f));\n",
"printf('\nParticle Spacing = %g m\nParticle Size = %g m',lambda,r);"
   ]
   }
,
{
		   "cell_type": "markdown",
		   "metadata": {},
		   "source": [
			"## Example 6.3: Fiber_Strengthing.sce"
		   ]
		  },
  {
"cell_type": "code",
	   "execution_count": null,
	   "metadata": {
	    "collapsed": true
	   },
	   "outputs": [],
"source": [
"//Example 6.3\n",
"//Fiber Strengthing\n",
"//Page No. 222\n",
"clc;clear;close;\n",
"\n",
"Ef=380;          //in GPa\n",
"Em=60;             //in GPa\n",
"//Case 1\n",
"f_f=0.1;           //no unit\n",
"Ec=Ef*f_f+(1-f_f)*Em;\n",
"printf('\nEc for 10 vol%% = %g GPa\n',Ec);\n",
"//Case 2\n",
"f_f=0.6;              //no unit\n",
"Ec=Ef*f_f+(1-f_f)*Em;\n",
"printf('\nEc for 60 vol%% = %g GPa\n',Ec);"
   ]
   }
,
{
		   "cell_type": "markdown",
		   "metadata": {},
		   "source": [
			"## Example 6.4: Load_Transfer.sce"
		   ]
		  },
  {
"cell_type": "code",
	   "execution_count": null,
	   "metadata": {
	    "collapsed": true
	   },
	   "outputs": [],
"source": [
"//Example 6.4\n",
"//Load Transfer\n",
"//Page No. 225\n",
"clc;clear;close;\n",
"\n",
"sigma_fu=5;                       //in GPa\n",
"sigma_fu=sigma_fu*10^9;         //Conversion to Pa\n",
"sigma_m=100;                   //in MPa\n",
"sigma_m=sigma_m*10^6;        //Conversion to Pa\n",
"T0=80;                       //in MPa\n",
"T0=T0*10^6;                   //Conversion to Pa\n",
"f_f=0.5;                      //no unit\n",
"d=100;                          //in um\n",
"d=d*10^-6;               //conversion to m\n",
"B=0.5;                   //no unit\n",
"L=10;                     //in cm\n",
"L=L*10^-2;                 //conversion to m\n",
"Lc=sigma_fu*d/(2*T0);\n",
"sigma_cu=sigma_fu*f_f*(1-Lc/(2*L))+sigma_m*(1-f_f);\n",
"sigma_cu=sigma_cu*10^-9;\n",
"printf('\nsigma_cu = %g GPa for L=100um\n',sigma_cu);;\n",
"\n",
"L=2;                    //in mm\n",
"L=L*10^-3;          //conversion to m\n",
"sigma_cu=sigma_fu*f_f*(1-Lc/(2*L))+sigma_m*(1-f_f);\n",
"sigma_cu=sigma_cu*10^-9;\n",
"printf('sigma_cu = %g GPa for L=2mm',sigma_cu);;"
   ]
   }
],
"metadata": {
		  "kernelspec": {
		   "display_name": "Scilab",
		   "language": "scilab",
		   "name": "scilab"
		  },
		  "language_info": {
		   "file_extension": ".sce",
		   "help_links": [
			{
			 "text": "MetaKernel Magics",
			 "url": "https://github.com/calysto/metakernel/blob/master/metakernel/magics/README.md"
			}
		   ],
		   "mimetype": "text/x-octave",
		   "name": "scilab",
		   "version": "0.7.1"
		  }
		 },
		 "nbformat": 4,
		 "nbformat_minor": 0
}
