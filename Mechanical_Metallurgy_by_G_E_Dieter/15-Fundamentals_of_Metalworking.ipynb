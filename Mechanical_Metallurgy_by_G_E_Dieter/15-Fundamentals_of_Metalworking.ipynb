{
"cells": [
 {
		   "cell_type": "markdown",
	   "metadata": {},
	   "source": [
       "# Chapter 15: Fundamentals of Metalworking"
	   ]
	},
{
		   "cell_type": "markdown",
		   "metadata": {},
		   "source": [
			"## Example 15.1: Mechanics_of_Metal_Working.sce"
		   ]
		  },
  {
"cell_type": "code",
	   "execution_count": null,
	   "metadata": {
	    "collapsed": true
	   },
	   "outputs": [],
"source": [
"//Example 15.1\n",
"//Mechanics of Metal Working\n",
"//Page No. 506\n",
"clc;clear;close;\n",
"\n",
"//For Bar which is double in length\n",
"L2=2;             //factor (no units)\n",
"L1=1;             //factor (no units)\n",
"e=(L2-L1)/L1;\n",
"e1=log(L2/L1);\n",
"r=1-L1/L2;\n",
"printf('\nEnginering Strain = %g\nTrue Strain = %g\nReduction = %g',e,e1,r);\n",
"\n",
"//For bar which is halved in length\n",
"L1=1;             //factor (no units)\n",
"L2=0.5;             //factor (no units)\n",
"e=(L2-L1)/L1;\n",
"e1=log(L2/L1);\n",
"r=1-L1/L2;\n",
"printf('\n\nEnginering Strain = %g\nTrue Strain = %g\nReduction = %g',e,e1,r);"
   ]
   }
,
{
		   "cell_type": "markdown",
		   "metadata": {},
		   "source": [
			"## Example 15.2: Mechanics_of_Metal_Working.sce"
		   ]
		  },
  {
"cell_type": "code",
	   "execution_count": null,
	   "metadata": {
	    "collapsed": true
	   },
	   "outputs": [],
"source": [
"//Example 15.2\n",
"//Mechanics of Metal Working\n",
"//Page No. 511\n",
"clc;clear;close;\n",
"\n",
"D0=25;               //in mm\n",
"D1=20;               //in mm\n",
"D2=15;               //in mm\n",
"ep1=log((D0/D1)^2);\n",
"U1=integrate('200000*e^0.5','e',0,ep1);\n",
"ep2=log((D1/D2)^2);\n",
"U2=integrate('200000*e^0.5','e',ep1,ep1+ep2);\n",
"printf('\nPlastic work done in 1st step = %g lb/in^2\nPlastic work done in 2nd step = %g lb/in^2\n',U1,U2);"
   ]
   }
,
{
		   "cell_type": "markdown",
		   "metadata": {},
		   "source": [
			"## Example 15.3: Hodography.sce"
		   ]
		  },
  {
"cell_type": "code",
	   "execution_count": null,
	   "metadata": {
	    "collapsed": true
	   },
	   "outputs": [],
"source": [
"//Example 15.3\n",
"//Hodography\n",
"//Page No. 517\n",
"clc;clear;close;\n",
"\n",
"alpha=60;                //in degrees\n",
"mu=1/sind(alpha);\n",
"p_2k=mu*5/2;\n",
"printf('Pressure  = %g',p_2k);"
   ]
   }
,
{
		   "cell_type": "markdown",
		   "metadata": {},
		   "source": [
			"## Example 15.4: Temperature_in_Metalworking.sce"
		   ]
		  },
  {
"cell_type": "code",
	   "execution_count": null,
	   "metadata": {
	    "collapsed": true
	   },
	   "outputs": [],
"source": [
"//Example 15.4\n",
"//Temperature in Metalworking\n",
"//Page No. 526\n",
"clc;clear;close;\n",
"\n",
"Al_s=200;              //in MPa\n",
"Al_e=1;              //no unit\n",
"Al_p=2.69;              //in g/cm^3\n",
"Al_c=0.215;              //in cal/g * deg C\n",
"Ti_s=400;              //in MPa\n",
"Ti_e=1;              //no unit\n",
"Ti_p=4.5;              //in g/cm^3\n",
"Ti_c=0.124;              //in cal/g * deg C\n",
"J=4.186;              //in J/cal\n",
"b=0.95;              //no unit\n",
"Al_Td=Al_s*Al_e*b/(Al_p*Al_c*J);\n",
"Ti_Td=Ti_s*Ti_e*b/(Ti_p*Ti_c*J);\n",
"printf('\nTemperature Rise for aluminium = %g C\nTemperature Rise for titanium = %g C\n',Al_Td,Ti_Td);"
   ]
   }
,
{
		   "cell_type": "markdown",
		   "metadata": {},
		   "source": [
			"## Example 15.5: Friction_and_Lubrication.sce"
		   ]
		  },
  {
"cell_type": "code",
	   "execution_count": null,
	   "metadata": {
	    "collapsed": true
	   },
	   "outputs": [],
"source": [
"//Example 15.5\n",
"//Friction and Lubrication\n",
"//Page No. 546\n",
"clc;clear;close;\n",
"\n",
"Do=60;               //in mm\n",
"Di=30;               //in mm\n",
"def1=70;               //in mm\n",
"def2=81.4;               //in mm\n",
"h=10;               //in mm\n",
"a=30;               //in mm\n",
"di=sqrt((Do^2-Di^2)*2-def1^2);\n",
"pr=(Di-di)/Di*100;\n",
"m=0.27;              //no unit\n",
"p_s=1+2*m*a/(sqrt(3)*h);\n",
"printf('\nFor OD after deformation being 70 mm, Di = %g mm\nPrecent change in inside diameter = %g percent\nPeak pressure = %g',di,pr,p_s);\n",
"di=sqrt(def2^2-(Do^2-Di^2)*2);\n",
"pr=(Di-di)/Di*100;\n",
"m=0.05;              //no unit\n",
"p_s=1+2*m*a/(sqrt(3)*h);\n",
"printf('\n\n\n\nFor OD after deformation being 81.4 mm, Di = %g mm\nPrecent change in inside diameter = %g percent\nPeak pressure = %g',di,pr,p_s);"
   ]
   }
],
"metadata": {
		  "kernelspec": {
		   "display_name": "Scilab",
		   "language": "scilab",
		   "name": "scilab"
		  },
		  "language_info": {
		   "file_extension": ".sce",
		   "help_links": [
			{
			 "text": "MetaKernel Magics",
			 "url": "https://github.com/calysto/metakernel/blob/master/metakernel/magics/README.md"
			}
		   ],
		   "mimetype": "text/x-octave",
		   "name": "scilab",
		   "version": "0.7.1"
		  }
		 },
		 "nbformat": 4,
		 "nbformat_minor": 0
}
