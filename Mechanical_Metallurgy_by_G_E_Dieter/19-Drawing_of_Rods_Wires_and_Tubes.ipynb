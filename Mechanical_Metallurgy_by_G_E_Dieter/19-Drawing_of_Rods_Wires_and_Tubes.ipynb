{
"cells": [
 {
		   "cell_type": "markdown",
	   "metadata": {},
	   "source": [
       "# Chapter 19: Drawing of Rods Wires and Tubes"
	   ]
	},
{
		   "cell_type": "markdown",
		   "metadata": {},
		   "source": [
			"## Example 19.1: Analysis_of_Wiredrawing.sce"
		   ]
		  },
  {
"cell_type": "code",
	   "execution_count": null,
	   "metadata": {
	    "collapsed": true
	   },
	   "outputs": [],
"source": [
"//Example 19.1\n",
"//Analysis of Wiredrawing\n",
"//Page No. 640\n",
"clc;clear;close;\n",
"\n",
"Ab=10;                    //in mm\n",
"r=0.2;                    //in %\n",
"alpha=12;                    //in degrees\n",
"mu=0.09;                    //no unit\n",
"n=0.3;                    //no unit\n",
"K=1300;                    //in MPa\n",
"v=3;                    //in m/s\n",
"B=mu*cotd(alpha/2);\n",
"e1=log(1/(1-r));\n",
"sigma=K*e1^0.3/(n+1);\n",
"Aa=Ab*(1-r);\n",
"sigma_xa=sigma*((1+B)/B)*[1-(Aa/Ab)^B];\n",
"Aa=%pi*Aa^2/4;\n",
"Pd=sigma_xa*Aa;\n",
"Pd=Pd/1000;                        //conversion to kilo units\n",
"P=Pd*v;\n",
"H=P/0.746;\n",
"printf('\nDrawing Stress = %g MPa\nDrawing Force = %g kN\nPower = %g kW\nHorsepower = %g hp',sigma_xa,Pd,P,H);"
   ]
   }
,
{
		   "cell_type": "markdown",
		   "metadata": {},
		   "source": [
			"## Example 19.2: Analysis_of_Wiredrawing.sce"
		   ]
		  },
  {
"cell_type": "code",
	   "execution_count": null,
	   "metadata": {
	    "collapsed": true
	   },
	   "outputs": [],
"source": [
"//Example 19.2\n",
"//Analysis of Wiredrawing\n",
"//Page No. 645\n",
"clc;clear;close;\n",
"\n",
"alpha=12;                    //in degrees\n",
"r=0.2;                    //in %\n",
"mu=0.09;                    //no unit\n",
"n=0.3;                    //no unit\n",
"K=1300;                    //in MPa\n",
"v=3;                    //in m/s\n",
"B=mu*cotd(alpha/2);\n",
"e1=log(1/(1-r));\n",
"sigma_xa=K*e1^0.3/(n+1);\n",
"r1=1-((1-(B/(B+1)))^(1/B));\n",
"e=log(1/(1-r1));\n",
"sigma0=1300*e^0.3;\n",
"r2=1-(1-((sigma0/sigma_xa)*(B/(B+1)))^(1/B));\n",
"printf('\nBy First Approximation, r = %g\nBy Second Approximation, r = %g',r1,r2);"
   ]
   }
],
"metadata": {
		  "kernelspec": {
		   "display_name": "Scilab",
		   "language": "scilab",
		   "name": "scilab"
		  },
		  "language_info": {
		   "file_extension": ".sce",
		   "help_links": [
			{
			 "text": "MetaKernel Magics",
			 "url": "https://github.com/calysto/metakernel/blob/master/metakernel/magics/README.md"
			}
		   ],
		   "mimetype": "text/x-octave",
		   "name": "scilab",
		   "version": "0.7.1"
		  }
		 },
		 "nbformat": 4,
		 "nbformat_minor": 0
}
