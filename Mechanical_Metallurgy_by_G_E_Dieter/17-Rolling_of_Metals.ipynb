{
"cells": [
 {
		   "cell_type": "markdown",
	   "metadata": {},
	   "source": [
       "# Chapter 17: Rolling of Metals"
	   ]
	},
{
		   "cell_type": "markdown",
		   "metadata": {},
		   "source": [
			"## Example 17.1: Forces_in_rolling.sce"
		   ]
		  },
  {
"cell_type": "code",
	   "execution_count": null,
	   "metadata": {
	    "collapsed": true
	   },
	   "outputs": [],
"source": [
"//Example 17.1\n",
"//Forces in rolling\n",
"//Page No. 596\n",
"clc;clear;close;\n",
"\n",
"mu=0.08;                    //no unit\n",
"R=12;                        //in inches\n",
"alpha=atand(mu);\n",
"dh=mu^2*R;\n",
"printf('\nMaximum possible reduction when mu is 0.08 = %g in\n',dh);\n",
"mu=0.5;                    //no unit\n",
"dh=mu^2*R;\n",
"printf('Maximum possible reduction when mu is 0.5 = %g in',dh);"
   ]
   }
,
{
		   "cell_type": "markdown",
		   "metadata": {},
		   "source": [
			"## Example 17.2: Rolling_Load.sce"
		   ]
		  },
  {
"cell_type": "code",
	   "execution_count": null,
	   "metadata": {
	    "collapsed": true
	   },
	   "outputs": [],
"source": [
"//Example 17.2\n",
"//Rolling Load\n",
"//Page No. 598\n",
"clc;clear;close;\n",
"\n",
"h0=1.5;                    //in inches\n",
"mu=0.3;                    //no unit\n",
"D=36;                    //in inches\n",
"s_en=20;                    //in ksi\n",
"s_ex=30;                    //in ksi\n",
"h1=h0-0.3*h0;\n",
"dh=h0-h1;\n",
"h_=(h1+h0)/2;\n",
"Lp=sqrt(D/2*dh);\n",
"Q=mu*Lp/h_;\n",
"sigma0=(s_en+s_ex)/2;\n",
"P=sigma0*(exp(Q)-1)*s_ex*Lp/Q;\n",
"printf('\nRolling Load = %g kips',P);\n",
"P=sigma0*(Lp/(4*dh)+1)*s_ex*Lp;\n",
"printf('\nRolling Load  if sticking friction occurs = %g kips',P);"
   ]
   }
,
{
		   "cell_type": "markdown",
		   "metadata": {},
		   "source": [
			"## Example 17.3: Rolling_Load.sce"
		   ]
		  },
  {
"cell_type": "code",
	   "execution_count": null,
	   "metadata": {
	    "collapsed": true
	   },
	   "outputs": [],
"source": [
"//Example 17.3\n",
"//Rolling Load\n",
"//Page No. 599\n",
"clc;clear;close;\n",
"\n",
"h0=1.5;                    //in inches\n",
"mu=0.3;                    //no unit\n",
"D=36;                    //in inches\n",
"s_en=20;                    //in ksi\n",
"s_ex=30;                    //in ksi\n",
"C=3.34*10^-4;                    //in inches^2/ton\n",
"P_=1357;                    //in tons\n",
"h1=h0-0.3*h0;\n",
"dh=h0-h1;\n",
"h_=(h1+h0)/2;\n",
"R=D/2;\n",
"R1=R*(1+C*P_/(s_ex*(dh)));\n",
"Lp=sqrt(R1*dh);\n",
"Q=mu*Lp/h_;\n",
"sigma0=(s_en+s_ex)/2;\n",
"P2=sigma0*(exp(Q)-1)*s_ex*Lp/Q;\n",
"P2=P2*0.45359                         ///conversion to tons\n",
"R2=R*(1+C*P2/(s_ex*(dh)));\n",
"printf('\nP2 = %g tons\nR2 = %g in',P2,R2);"
   ]
   }
,
{
		   "cell_type": "markdown",
		   "metadata": {},
		   "source": [
			"## Example 17.4: Torque_and_Horsepower.sce"
		   ]
		  },
  {
"cell_type": "code",
	   "execution_count": null,
	   "metadata": {
	    "collapsed": true
	   },
	   "outputs": [],
"source": [
"//Example 17.4\n",
"//Torque and Horsepower\n",
"//Page No. 614\n",
"clc;clear;close;\n",
"\n",
"w=12;                    //in inches\n",
"hi=0.8;                    //in inches\n",
"hf=0.6;                    //in inches\n",
"D=40;                    //in inches\n",
"N=100;                    //in rpm\n",
"R=D/2;\n",
"dh=abs(hf-hi);\n",
"e1=log(hi/hf);\n",
"r=(hi-hf)/hi;\n",
"sigma=20*e1^0.2/1.2;\n",
"Qp=1.5;                        //no unit\n",
"P=2*sigma*w*(R*(hi-hf))^(1/2)*Qp/sqrt(3);\n",
"a=0.5*sqrt(R*dh);\n",
"a=a/12;                             //conversion to ft\n",
"hp=4*%pi*a*P*N*1000/33000;\n",
"printf('\nRolling Load = %g\nHorsepower = %g',P,hp);"
   ]
   }
],
"metadata": {
		  "kernelspec": {
		   "display_name": "Scilab",
		   "language": "scilab",
		   "name": "scilab"
		  },
		  "language_info": {
		   "file_extension": ".sce",
		   "help_links": [
			{
			 "text": "MetaKernel Magics",
			 "url": "https://github.com/calysto/metakernel/blob/master/metakernel/magics/README.md"
			}
		   ],
		   "mimetype": "text/x-octave",
		   "name": "scilab",
		   "version": "0.7.1"
		  }
		 },
		 "nbformat": 4,
		 "nbformat_minor": 0
}
