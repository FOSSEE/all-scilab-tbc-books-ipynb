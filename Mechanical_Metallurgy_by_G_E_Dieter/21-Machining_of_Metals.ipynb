{
"cells": [
 {
		   "cell_type": "markdown",
	   "metadata": {},
	   "source": [
       "# Chapter 21: Machining of Metals"
	   ]
	},
{
		   "cell_type": "markdown",
		   "metadata": {},
		   "source": [
			"## Example 21.1: Mechanics_of_Machining.sce"
		   ]
		  },
  {
"cell_type": "code",
	   "execution_count": null,
	   "metadata": {
	    "collapsed": true
	   },
	   "outputs": [],
"source": [
"//Example 21.1\n",
"//Mechanics of Machining\n",
"//Page No. 685\n",
"clc;clear;close;\n",
"\n",
"a=6;                    //in degrees\n",
"sigma_s=60000;                    //in psi\n",
"su_s=91000;                    //in psi\n",
"sigma_c=10000;                    //in psi\n",
"su_c=30000;                    //in psi\n",
"deff('y=s(fi)','y=cosd(fi-a)*sind(fi)-sigma_s/su_s*(cosd(45-a/2)*sind(45+a/2))');\n",
"deff('y=c(fi)','y=cosd(fi-a)*sind(fi)-sigma_c/su_c*(cosd(45-a/2)*sind(45+a/2))');\n",
"[fi,v,info]=fsolve(0,s);\n",
"printf('\nShear Plane Angle for 1040 steel= %g deg',fi)\n",
"[fi,v,info]=fsolve(0,c);\n",
"printf('\nShear Plane Angle for Copper = %g deg',fi)"
   ]
   }
,
{
		   "cell_type": "markdown",
		   "metadata": {},
		   "source": [
			"## Example 21.2: Mechanics_of_Machining.sce"
		   ]
		  },
  {
"cell_type": "code",
	   "execution_count": null,
	   "metadata": {
	    "collapsed": true
	   },
	   "outputs": [],
"source": [
"//Example 21.2\n",
"//Mechanics of Machining\n",
"//Page No. 687\n",
"clc;clear;close;\n",
"\n",
"v=500;                    //in ft/min\n",
"alpha=6;                    //in degrees\n",
"b=0.4;                    //in inches\n",
"t=0.008;                    //in inches\n",
"Fv=100;                    //in lb\n",
"Fh=250;                    //in lb\n",
"L=20;                    //in in\n",
"rho=0.283;                    //in lb/in^2\n",
"m=13.36;                    //in gm\n",
"m=m/454;            //conversion to lb\n",
"\n",
"tc=m/(rho*b*L);\n",
"r=t/tc;\n",
"fi=atand(r*cosd(alpha)/(1-r*sind(alpha)));\n",
"mu=(Fv+Fh*tand(alpha))/(Fh-Fv*tand(alpha));\n",
"be=atand(mu);\n",
"Pr=sqrt(Fv^2+Fh^2);\n",
"Ft=Pr*sind(be);\n",
"p_fe=Ft*r/Fh;\n",
"Fs=Fh*cosd(fi)-Fv*sind(fi);\n",
"vs=v*cosd(alpha)/cosd(fi-alpha);\n",
"p_se=Fs*vs/(Fh*v);\n",
"U=Fh*v/(b*t*v);\n",
"U=U/33000;                     //conversion to hp\n",
"U=U/12;                         //conversion of ft units to in units\n",
"printf('\nSlip plane angle = %g deg\nPercentage of total energy that goes into friction = %g percent\nPercentage of total energy that goes into shear = %g percent\nTotal energy per unit volume = %g hp min/in^3',fi,p_fe*100,p_se*100,U);"
   ]
   }
,
{
		   "cell_type": "markdown",
		   "metadata": {},
		   "source": [
			"## Example 21.3: Tool_Materials_and_Tool_Life.sce"
		   ]
		  },
  {
"cell_type": "code",
	   "execution_count": null,
	   "metadata": {
	    "collapsed": true
	   },
	   "outputs": [],
"source": [
"//Example 21.3\n",
"//Tool Materials and Tool Life\n",
"//Page No. 698\n",
"clc;clear;close;\n",
"\n",
"d=0.5;                   //in %\n",
"t=(1/d)^(1/0.12);\n",
"printf('\nFor High Speed steel tool, increase in tool life is given by: t2 = %g t1',t);\n",
"t=(1/d)^(1/0.3);\n",
"printf('\nFor Cemented carbide tool, increase in tool life is given by: t2 = %g t1',t);"
   ]
   }
,
{
		   "cell_type": "markdown",
		   "metadata": {},
		   "source": [
			"## Example 21.4: Grinding_Processes.sce"
		   ]
		  },
  {
"cell_type": "code",
	   "execution_count": null,
	   "metadata": {
	    "collapsed": true
	   },
	   "outputs": [],
"source": [
"//Example 21.4\n",
"//Grinding Processes\n",
"//Page No. 703\n",
"clc;clear;close;\n",
"\n",
"U=40;                    //in GPa\n",
"uw=0.3;                    //in m/s\n",
"b=1.2;                    //in mm\n",
"v=30;                    //in m/s\n",
"d=0.05;                    //in mm\n",
"b=b*10^-3;                   //conversion to m\n",
"d=d*10^-3;                     //conversion to m\n",
"U=U*10^9;                     //conversion to Pa\n",
"M=uw*b*d;\n",
"P=U*M;\n",
"F=P/v;\n",
"printf('Tangential force = %g N',F);"
   ]
   }
],
"metadata": {
		  "kernelspec": {
		   "display_name": "Scilab",
		   "language": "scilab",
		   "name": "scilab"
		  },
		  "language_info": {
		   "file_extension": ".sce",
		   "help_links": [
			{
			 "text": "MetaKernel Magics",
			 "url": "https://github.com/calysto/metakernel/blob/master/metakernel/magics/README.md"
			}
		   ],
		   "mimetype": "text/x-octave",
		   "name": "scilab",
		   "version": "0.7.1"
		  }
		 },
		 "nbformat": 4,
		 "nbformat_minor": 0
}
