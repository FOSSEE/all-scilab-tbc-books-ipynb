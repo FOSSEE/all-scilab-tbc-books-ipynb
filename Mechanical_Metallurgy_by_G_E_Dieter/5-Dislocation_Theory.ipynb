{
"cells": [
 {
		   "cell_type": "markdown",
	   "metadata": {},
	   "source": [
       "# Chapter 5: Dislocation Theory"
	   ]
	},
{
		   "cell_type": "markdown",
		   "metadata": {},
		   "source": [
			"## Example 5.1: Forces_Between_Dislocations.sce"
		   ]
		  },
  {
"cell_type": "code",
	   "execution_count": null,
	   "metadata": {
	    "collapsed": true
	   },
	   "outputs": [],
"source": [
"//Example 5.1\n",
"//Forces Between Dislocations\n",
"//Page No. 166\n",
"clc;clear;close;\n",
"\n",
"G=40;               //in GPa\n",
"G=G*10^9;          //conversion to N/m^2\n",
"b=2.5;             //in angstrong\n",
"b=b*10^-10;          //conversion to m\n",
"r=1200;              //in angstrong\n",
"r=r*10^-10;          //conversion to m\n",
"l=0.04;               //in mm\n",
"l=l*10^-3;            //conversion to m\n",
"F=G*b^2/(2*%pi*r);\n",
"Ft=F*l;\n",
"printf('The Total force on the dislocation is = %g N',Ft);"
   ]
   }
],
"metadata": {
		  "kernelspec": {
		   "display_name": "Scilab",
		   "language": "scilab",
		   "name": "scilab"
		  },
		  "language_info": {
		   "file_extension": ".sce",
		   "help_links": [
			{
			 "text": "MetaKernel Magics",
			 "url": "https://github.com/calysto/metakernel/blob/master/metakernel/magics/README.md"
			}
		   ],
		   "mimetype": "text/x-octave",
		   "name": "scilab",
		   "version": "0.7.1"
		  }
		 },
		 "nbformat": 4,
		 "nbformat_minor": 0
}
