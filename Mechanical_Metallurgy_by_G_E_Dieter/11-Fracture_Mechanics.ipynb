{
"cells": [
 {
		   "cell_type": "markdown",
	   "metadata": {},
	   "source": [
       "# Chapter 11: Fracture Mechanics"
	   ]
	},
{
		   "cell_type": "markdown",
		   "metadata": {},
		   "source": [
			"## Example 11.1: Fracture_Toughness.sce"
		   ]
		  },
  {
"cell_type": "code",
	   "execution_count": null,
	   "metadata": {
	    "collapsed": true
	   },
	   "outputs": [],
"source": [
"//Example 11.1\n",
"//Fracture Toughness\n",
"//Page No. 354\n",
"clc;clear;close;\n",
"\n",
"a=5;                //in mm\n",
"a=a*10^-3;             //conversion to m\n",
"t=1.27;          //in cm\n",
"t=t*10^-2;        //conversion to m\n",
"K_Ic=24;          //in MPa*m^(1/2)\n",
"sigma=K_Ic/(sqrt(%pi*a)*sqrt(sec(%pi*a/(2*t))));\n",
"printf('Since Fracture Toughness of the material is = %g MPa\n and the applied stress is 172 MPa thus the flaw will propagate as a brittle fracture',sigma);"
   ]
   }
,
{
		   "cell_type": "markdown",
		   "metadata": {},
		   "source": [
			"## Example 11.2: Fracture_Toughness.sce"
		   ]
		  },
  {
"cell_type": "code",
	   "execution_count": null,
	   "metadata": {
	    "collapsed": true
	   },
	   "outputs": [],
"source": [
"//Example 11.2\n",
"//Fracture Toughness\n",
"//Page No. 354\n",
"clc;clear;close;\n",
"\n",
"K_Ic=57;            //in MPam^(1/2)\n",
"sigma0=900;          //in MPa\n",
"sigma=360;           //in MPa\n",
"Q=2.35;               //no unit\n",
"a_c=K_Ic^2*Q/(1.21*%pi*sigma^2);\n",
"a_c=a_c*1000;                         //cpnversion to mm\n",
"printf('\nCritical Crack depth = %g mm\nwhich is greater than the thickness of the vessel wall, 12mm',a_c);"
   ]
   }
,
{
		   "cell_type": "markdown",
		   "metadata": {},
		   "source": [
			"## Example 11.3: Plasticity.sce"
		   ]
		  },
  {
"cell_type": "code",
	   "execution_count": null,
	   "metadata": {
	    "collapsed": true
	   },
	   "outputs": [],
"source": [
"//Example 11.3\n",
"//Plasticity\n",
"//Page No. 361\n",
"clc;clear;close;\n",
"\n",
"a=10;                      //in mm\n",
"a=a*10^-3;                 //conversion to m\n",
"sigma=400;                  //in MPa\n",
"sigma0=1500;                //in MPa\n",
"rp=sigma^2*a/(2*%pi*sigma0^2);\n",
"rp=rp*1000;                      //conversion to mm\n",
"K=sigma*sqrt(%pi*a);\n",
"K_eff=sigma*sqrt(%pi*a)*sqrt(a+%pi*rp);\n",
"printf('\nPlastic zone size = %g mm\nStress Intensity Factor = %g MPa m^(1/2)\n\n\nNote: Calculation Errors in book',rp,K_eff);"
   ]
   }
],
"metadata": {
		  "kernelspec": {
		   "display_name": "Scilab",
		   "language": "scilab",
		   "name": "scilab"
		  },
		  "language_info": {
		   "file_extension": ".sce",
		   "help_links": [
			{
			 "text": "MetaKernel Magics",
			 "url": "https://github.com/calysto/metakernel/blob/master/metakernel/magics/README.md"
			}
		   ],
		   "mimetype": "text/x-octave",
		   "name": "scilab",
		   "version": "0.7.1"
		  }
		 },
		 "nbformat": 4,
		 "nbformat_minor": 0
}
