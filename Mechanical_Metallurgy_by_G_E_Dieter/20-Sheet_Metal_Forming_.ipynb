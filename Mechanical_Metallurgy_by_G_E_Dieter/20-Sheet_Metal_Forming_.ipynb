{
"cells": [
 {
		   "cell_type": "markdown",
	   "metadata": {},
	   "source": [
       "# Chapter 20: Sheet Metal Forming "
	   ]
	},
{
		   "cell_type": "markdown",
		   "metadata": {},
		   "source": [
			"## Example 20.1: Deep_Drawing.sce"
		   ]
		  },
  {
"cell_type": "code",
	   "execution_count": null,
	   "metadata": {
	    "collapsed": true
	   },
	   "outputs": [],
"source": [
"//Example 20.1\n",
"//Deep Drawing\n",
"//Page No. 672\n",
"clc;clear;close;\n",
"\n",
"le=0.3;              //factor (no unit)\n",
"wd=-0.16;              //factor (no unit)\n",
"l_l0=1+le;\n",
"w_w0=1+wd;\n",
"R=log(1/w_w0)/log((w_w0)*l_l0);\n",
"printf('\nLimiting ratio = %g',R);"
   ]
   }
,
{
		   "cell_type": "markdown",
		   "metadata": {},
		   "source": [
			"## Example 20.2: Forming_Limit_Criteria.sce"
		   ]
		  },
  {
"cell_type": "code",
	   "execution_count": null,
	   "metadata": {
	    "collapsed": true
	   },
	   "outputs": [],
"source": [
"//Example 20.2\n",
"//Forming Limit Criteria\n",
"//Page No. 675\n",
"clc;clear;close;\n",
"\n",
"d=0.1;                    //in inches\n",
"mj_d=0.18;                    //in inches\n",
"mn_d=0.08;                    //in inches\n",
"e1=(mj_d-d)/d;\n",
"e2=(mn_d-d)/d;\n",
"printf('\nMajor Strain = %g percent \nMinor Strain = %g percent',e1*100,e2*100);"
   ]
   }
],
"metadata": {
		  "kernelspec": {
		   "display_name": "Scilab",
		   "language": "scilab",
		   "name": "scilab"
		  },
		  "language_info": {
		   "file_extension": ".sce",
		   "help_links": [
			{
			 "text": "MetaKernel Magics",
			 "url": "https://github.com/calysto/metakernel/blob/master/metakernel/magics/README.md"
			}
		   ],
		   "mimetype": "text/x-octave",
		   "name": "scilab",
		   "version": "0.7.1"
		  }
		 },
		 "nbformat": 4,
		 "nbformat_minor": 0
}
