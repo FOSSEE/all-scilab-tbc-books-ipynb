{
"cells": [
 {
		   "cell_type": "markdown",
	   "metadata": {},
	   "source": [
       "# Chapter 4: Plastic Deformation of Single Crystals"
	   ]
	},
{
		   "cell_type": "markdown",
		   "metadata": {},
		   "source": [
			"## Example 4.1: Critical_Resolved_Shear_Stress_for_Slip.sce"
		   ]
		  },
  {
"cell_type": "code",
	   "execution_count": null,
	   "metadata": {
	    "collapsed": true
	   },
	   "outputs": [],
"source": [
"//Example 4.1\n",
"//Critical Resolved Shear Stress for Slip\n",
"//Page No. 125\n",
"clc;clear;close;\n",
"\n",
"a=[1,-1,0];              //no unit\n",
"n=[1,-1,-1];              //no unit\n",
"s=[0,-1,-1];              //no unit\n",
"Tr=6;                 //in MPa\n",
"cos_fi=sum(a.*n)/(sqrt(a(1)^2+a(2)^2+a(3)^2)*sqrt(n(1)^2+n(2)^2+n(3)^2));\n",
"cos_lm=sum(a.*s)/(sqrt(a(1)^2+a(2)^2+a(3)^2)*sqrt(s(1)^2+s(2)^2+s(3)^2));\n",
"sigma=Tr/(cos_fi*cos_lm);\n",
"printf('Tensile Stress applied = %g MPa',sigma);"
   ]
   }
],
"metadata": {
		  "kernelspec": {
		   "display_name": "Scilab",
		   "language": "scilab",
		   "name": "scilab"
		  },
		  "language_info": {
		   "file_extension": ".sce",
		   "help_links": [
			{
			 "text": "MetaKernel Magics",
			 "url": "https://github.com/calysto/metakernel/blob/master/metakernel/magics/README.md"
			}
		   ],
		   "mimetype": "text/x-octave",
		   "name": "scilab",
		   "version": "0.7.1"
		  }
		 },
		 "nbformat": 4,
		 "nbformat_minor": 0
}
