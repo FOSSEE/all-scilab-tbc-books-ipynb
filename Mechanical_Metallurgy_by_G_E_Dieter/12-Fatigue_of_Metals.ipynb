{
"cells": [
 {
		   "cell_type": "markdown",
	   "metadata": {},
	   "source": [
       "# Chapter 12: Fatigue of Metals"
	   ]
	},
{
		   "cell_type": "markdown",
		   "metadata": {},
		   "source": [
			"## Example 12.1: Mean_Stress.sce"
		   ]
		  },
  {
"cell_type": "code",
	   "execution_count": null,
	   "metadata": {
	    "collapsed": true
	   },
	   "outputs": [],
"source": [
"//Example 12.1\n",
"//Mean Stress\n",
"//Page No. 387\n",
"clc;clear;close;\n",
"\n",
"sigma_u=158;             // in ksi\n",
"sigma0=147;             // in ksi\n",
"sigma_e=75;             // in ksi\n",
"l_max=75;             // in ksi\n",
"l_min=-25;             // in ksi\n",
"sf=2.5;                //no unit\n",
"sigma_m=(l_max+l_min)/2;\n",
"sigma_a=(l_max-l_min)/2;\n",
"sigma_e=sigma_e/sf;\n",
"A=sigma_a/sigma_e+sigma_m/sigma_u;\n",
"D=sqrt(4*A/%pi);\n",
"printf('\nBar Diameter = %g in',D);"
   ]
   }
,
{
		   "cell_type": "markdown",
		   "metadata": {},
		   "source": [
			"## Example 12.2: Low_Cycle_Fatigue.sce"
		   ]
		  },
  {
"cell_type": "code",
	   "execution_count": null,
	   "metadata": {
	    "collapsed": true
	   },
	   "outputs": [],
"source": [
"//Example 12.2\n",
"//Low Cycle Fatigue\n",
"//Page No. 391\n",
"clc;clear;close;\n",
"\n",
"sigma_b=75;               //in MPa\n",
"e_b=0.000645;              //no unit\n",
"e_f=0.3;                   //no unit\n",
"E=22*10^4;                 //in MPa\n",
"c=-0.6;                    //no unit\n",
"d_e_e=2*sigma_b/E;\n",
"d_e_p=2*e_b-d_e_e;\n",
"N=(d_e_p/(2*e_f))^(1/c)/2;\n",
"printf('\nd_e_e = %g\nd_e_p = %g\nNumber of Cycles = %g cycles',d_e_e,d_e_p,N);"
   ]
   }
,
{
		   "cell_type": "markdown",
		   "metadata": {},
		   "source": [
			"## Example 12.3: Fatigue_Crack_Proportio.sce"
		   ]
		  },
  {
"cell_type": "code",
	   "execution_count": null,
	   "metadata": {
	    "collapsed": true
	   },
	   "outputs": [],
"source": [
"//Example 12.3\n",
"//Fatigue Crack Proportion\n",
"//Page No. 401\n",
"clc;clear;close;\n",
"\n",
"ai=0.5;                  //in mm\n",
"ai=ai*10^-3;           //conversion to m\n",
"sigma_max=180;             //in MPa\n",
"Kc=100;                  //MPam^(1/2)\n",
"alpha=1.12;                //no unit\n",
"p=3;                       //no unit\n",
"A=6.9*10^-12;              //in MPam^(1/2)\n",
"af=(Kc/(sigma_max*alpha))^2/%pi;\n",
"Nf=(af^(1-(p/2))-ai^(1-(p/2)))/((1-p/2)*A*sigma_max^3*%pi^(p/2)*alpha^p);\n",
"printf('Fatigue Cycles = %g cycles',Nf);"
   ]
   }
,
{
		   "cell_type": "markdown",
		   "metadata": {},
		   "source": [
			"## Example 12.4: Stress_Concentration_of_Fatigue.sce"
		   ]
		  },
  {
"cell_type": "code",
	   "execution_count": null,
	   "metadata": {
	    "collapsed": true
	   },
	   "outputs": [],
"source": [
"//Example 12.4\n",
"//Stress Concentration of Fatigue\n",
"//Page No. 404\n",
"clc;clear;close;\n",
"\n",
"rho=0.0004;            //no unit  \n",
"S_u=190;            //in ksi\n",
"S_u=S_u*1000;           //conversion to psi\n",
"M=200;               //in inches-lb\n",
"Pm=5000;            //in lb\n",
"D=0.5;                //in inches\n",
"dh=0.05;               //in inches\n",
"r=dh/2;\n",
"Kt=2.2;               //no unit\n",
"Kf=1+(Kt-1)/(1+sqrt(rho/r));\n",
"q=(Kf-1)/(Kt-1);\n",
"A=%pi/4*D^2;\n",
"sigma_m=Pm/A;\n",
"I=%pi/64*D^4;\n",
"sigma_a=Kf*((M*D)/(2*I));\n",
"sigma_max=sigma_a+sigma_m;\n",
"sigma_min=sigma_a-sigma_m;\n",
"sigma_e=S_u/2;\n",
"sigma_a1=sigma_e/Kf*(1-sigma_m/S_u);\n",
"printf('\nMean Stress = %g psi\nFluctuating Bending Stress = %g psi\nEffective Maximum Stress = %g psi\nEffective Minimum Stress = %g psi\nsigma_a = %g psi\n\n\nNote: Calculation Errors in the book',sigma_m,sigma_a,sigma_max,sigma_min,sigma_a1);"
   ]
   }
,
{
		   "cell_type": "markdown",
		   "metadata": {},
		   "source": [
			"## Example 12.5: Infinite_Life_Design.sce"
		   ]
		  },
  {
"cell_type": "code",
	   "execution_count": null,
	   "metadata": {
	    "collapsed": true
	   },
	   "outputs": [],
"source": [
"//Example 12.5\n",
"//Infinite Life Design\n",
"//Page No. 422\n",
"clc;clear;close;\n",
"\n",
"Kt=1.68;               //no unit\n",
"q=0.9;                 //no unit\n",
"sigma_ed=42000;         //in psi\n",
"Cs=0.9;                 //no unit\n",
"Cf=0.75;               //no unit\n",
"Cz=0.81;                //no unit\n",
"Kf=q*(Kt-1)+1;\n",
"sigma_e=sigma_ed*Cs*Cf*Cz;\n",
"sigma_en=sigma_e/Kf;\n",
"printf('\nFatigue Limit = %g psi',sigma_en);"
   ]
   }
,
{
		   "cell_type": "markdown",
		   "metadata": {},
		   "source": [
			"## Example 12.6: Local_Strain_method.sce"
		   ]
		  },
  {
"cell_type": "code",
	   "execution_count": null,
	   "metadata": {
	    "collapsed": true
	   },
	   "outputs": [],
"source": [
"//Example 12.6\n",
"//Local Strain method\n",
"//Page No. 424\n",
"clc;clear;close;\n",
"\n",
"funcprot(0);\n",
"K=189;              //in ksi\n",
"n=0.12;             //no unit\n",
"ef=1.06;             //no unit\n",
"sigma_f=190;          //in ksi\n",
"b=-0.08;              //no unit\n",
"c=-0.66;           //no unit\n",
"E=30*10^6;           //in psi\n",
"E=E/1000;        //conversion to ksi\\n",
"s=200;            //in ksi\n",
"sigma_m=167;         //in ksi\n",
"sigma_a=17;            //in ksi\n",
"se=s^2/E;\n",
"deff('y=f(ds)','y=(ds^2)/(2*E)+(ds^((1+n)/n))/(2*K)^(1/n)-se/2');\n",
"[ds,v,info]=fsolve(0,f);\n",
"de=se/ds;\n",
"deff('y=f1(N2)','y=N2^-b*(sigma_f/E)+ef*N2^-c-de/2');\n",
"[N2,v,info]=fsolve(0,f1);\n",
"N2=1/N2;\n",
"N_1=N2/2;\n",
"de_e2=sigma_a/E;\n",
"deff('y=f2(N2)','y=N2^-b*((sigma_f-sigma_m)/E)+ef*N2^-c-de_e2');\n",
"[N2,v,info]=fsolve(0,f2);\n",
"N2=1/N2;\n",
"N_2=N2/2;\n",
"C_pd=2*60*60*8;\n",
"f=N_2/C_pd;\n",
"printf('\nNumber of cycles = %g cycles\nFatigue damage per cycle = %g\nNumber of cycles with correction of mean stress= %g cycles\nFatigue damage per cycle  with correction of mean stress= %g damage per year\nShaft will fail in %g days',N_1,1/N_1,N_2,1/N_2,f);"
   ]
   }
],
"metadata": {
		  "kernelspec": {
		   "display_name": "Scilab",
		   "language": "scilab",
		   "name": "scilab"
		  },
		  "language_info": {
		   "file_extension": ".sce",
		   "help_links": [
			{
			 "text": "MetaKernel Magics",
			 "url": "https://github.com/calysto/metakernel/blob/master/metakernel/magics/README.md"
			}
		   ],
		   "mimetype": "text/x-octave",
		   "name": "scilab",
		   "version": "0.7.1"
		  }
		 },
		 "nbformat": 4,
		 "nbformat_minor": 0
}
