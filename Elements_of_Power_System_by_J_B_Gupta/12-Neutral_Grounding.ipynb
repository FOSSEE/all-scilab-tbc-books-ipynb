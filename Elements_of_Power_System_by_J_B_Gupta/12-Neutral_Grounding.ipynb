{
"cells": [
 {
		   "cell_type": "markdown",
	   "metadata": {},
	   "source": [
       "# Chapter 12: Neutral Grounding"
	   ]
	},
{
		   "cell_type": "markdown",
		   "metadata": {},
		   "source": [
			"## Example 12.1: Reactance_of_coil.sce"
		   ]
		  },
  {
"cell_type": "code",
	   "execution_count": null,
	   "metadata": {
	    "collapsed": true
	   },
	   "outputs": [],
"source": [
"//Exa 12.1\n",
"clc;\n",
"clear;\n",
"close;\n",
"format('v',6);\n",
"//Given data :\n",
"f=50;//Supply frequency in Hz\n",
"C=4.5*10^-6;//in Farad\n",
"Omega_L=1/3/2/%pi/f/C;//in ohm\n",
"disp(Omega_L,'Reactance of coil (ohm) :');"
   ]
   }
,
{
		   "cell_type": "markdown",
		   "metadata": {},
		   "source": [
			"## Example 12.2: Inductance_and_kVA_rating.sce"
		   ]
		  },
  {
"cell_type": "code",
	   "execution_count": null,
	   "metadata": {
	    "collapsed": true
	   },
	   "outputs": [],
"source": [
"//Exa 12.2\n",
"clc;\n",
"clear;\n",
"close;\n",
"format('v',5);\n",
"//Given data :\n",
"V=132*1000;//V\n",
"f=50;//Hz\n",
"r=10/1000;//m\n",
"d1=4;//m\n",
"d2=4;//m\n",
"d3=d1+d2;//m\n",
"epsilon_o=8.854*10^-12;//constant\n",
"l_tl=192*1000;//length of transmission line in m\n",
"C=2*%pi*epsilon_o/log((d1*d2*d3)^(1/3)/r)*l_tl;//in Farad\n",
"L=1/3/(2*%pi*f)^2/C;//H\n",
"disp(L,'Necessary Inductance of peterson coil in H : ');\n",
"VP=V/sqrt(3);//V\n",
"IL=VP/(2*%pi*f)/L;//A\n",
"Rating=VP*IL/1000;//kVA\n",
"disp(Rating/1000,'Rating of supressor coil in MVA :');"
   ]
   }
],
"metadata": {
		  "kernelspec": {
		   "display_name": "Scilab",
		   "language": "scilab",
		   "name": "scilab"
		  },
		  "language_info": {
		   "file_extension": ".sce",
		   "help_links": [
			{
			 "text": "MetaKernel Magics",
			 "url": "https://github.com/calysto/metakernel/blob/master/metakernel/magics/README.md"
			}
		   ],
		   "mimetype": "text/x-octave",
		   "name": "scilab",
		   "version": "0.7.1"
		  }
		 },
		 "nbformat": 4,
		 "nbformat_minor": 0
}
