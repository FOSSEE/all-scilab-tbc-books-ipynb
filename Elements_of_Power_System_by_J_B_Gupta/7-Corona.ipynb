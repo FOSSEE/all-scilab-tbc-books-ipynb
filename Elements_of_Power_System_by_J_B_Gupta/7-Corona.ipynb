{
"cells": [
 {
		   "cell_type": "markdown",
	   "metadata": {},
	   "source": [
       "# Chapter 7: Corona"
	   ]
	},
{
		   "cell_type": "markdown",
		   "metadata": {},
		   "source": [
			"## Example 7.1: Line_Voltage.sce"
		   ]
		  },
  {
"cell_type": "code",
	   "execution_count": null,
	   "metadata": {
	    "collapsed": true
	   },
	   "outputs": [],
"source": [
"//Exa 7.1\n",
"clc;\n",
"clear;\n",
"close;\n",
"//Given data :\n",
"r=1;//cm\n",
"d=4;//meter\n",
"g0=30/sqrt(2);//kV/cm\n",
"LineVoltage=sqrt(3)*g0*r*log(d*100/r);//kV\n",
"disp(round(LineVoltage),'Line Voltage for comencing of corena(in kV) :');"
   ]
   }
,
{
		   "cell_type": "markdown",
		   "metadata": {},
		   "source": [
			"## Example 7.2: Disruptive_Critical_Voltage.sce"
		   ]
		  },
  {
"cell_type": "code",
	   "execution_count": null,
	   "metadata": {
	    "collapsed": true
	   },
	   "outputs": [],
"source": [
"//Exa 7.2\n",
"clc;\n",
"clear;\n",
"close;\n",
"//Given data :\n",
"Ph=3;//phase\n",
"V=220;//kV\n",
"f=50;//Hz\n",
"r=1.2;//cm\n",
"d=2;//meter\n",
"mo=0.96;//Irregularity factor\n",
"t=20;//degree C\n",
"T=t+273;//K\n",
"b=72.2;//cm\n",
"go=21.1;//kV rms/cm\n",
"del=3.92*b/T;//Air density factor\n",
"Vdo=go*del*mo*r*log(d*100/r);//in kV\n",
"Vdo_line=sqrt(3)*Vdo;//in kV\n",
"disp(round(Vdo_line),'Disruptive critical voltage from line to line(kV rms) : ');"
   ]
   }
,
{
		   "cell_type": "markdown",
		   "metadata": {},
		   "source": [
			"## Example 7.3: Spacing_between_Conductors.sce"
		   ]
		  },
  {
"cell_type": "code",
	   "execution_count": null,
	   "metadata": {
	    "collapsed": true
	   },
	   "outputs": [],
"source": [
"//Exa 7.3\n",
"clc;\n",
"clear;\n",
"close;\n",
"format('v',5);\n",
"//Given data :\n",
"V=132;//kV\n",
"r=2/2;//cm\n",
"Vexceed=210;//kV(rms)\n",
"go=30000/sqrt(2);//Volts/cm\n",
"go=go/1000;//kV/cm\n",
"Vdo=Vexceed/sqrt(3);//Volt\n",
"mo=1;//assumed \n",
"del=1;//assumed air density factor\n",
"//Formula : Vdo=go*del*mo*r*log(d*100/r);//in kV\n",
"d=exp(Vdo/go/del/mo/r)*r;//cm\n",
"disp(d*10^-2,'Spacing between conductors in meter : ');"
   ]
   }
,
{
		   "cell_type": "markdown",
		   "metadata": {},
		   "source": [
			"## Example 7.4: Minimum_diameter_of_conductor.sce"
		   ]
		  },
  {
"cell_type": "code",
	   "execution_count": null,
	   "metadata": {
	    "collapsed": true
	   },
	   "outputs": [],
"source": [
"//Exa 7.4\n",
"clc;\n",
"clear;\n",
"close;\n",
"format('v',5);\n",
"//Given data :\n",
"Ph=3;//phase\n",
"V=132;//kV\n",
"f=50;//Hz\n",
"d=3;//meter\n",
"d=d*100;//in cm\n",
"go=21.21;//kV/cm : assumed\n",
"mo=0.85;//assumed \n",
"del=0.95;//assumed air density factor\n",
"Vdo=V/sqrt(3);//kV\n",
"//Formula : Vdo=go*del*mo*r*log(d*100/r);//in kV\n",
"//r*log(d/r)=Vdo/go/del/mo: solving\n",
"//Implementing Hit & Trial method\n",
"for r=0.1:.1:2\n",
"    if floor(r*log(d/r))==floor(Vdo/go/del/mo) then\n",
"        disp(2*r,'Minimum Diameter of conductor by Hit & Trial method(cm) : ');\n",
"        break;\n",
"    end\n",
"end"
   ]
   }
,
{
		   "cell_type": "markdown",
		   "metadata": {},
		   "source": [
			"## Example 7.5: Presence_of_Corona.sce"
		   ]
		  },
  {
"cell_type": "code",
	   "execution_count": null,
	   "metadata": {
	    "collapsed": true
	   },
	   "outputs": [],
"source": [
"//Exa 7.5\n",
"clc;\n",
"clear;\n",
"close;\n",
"format('v',7);\n",
"//Given data :\n",
"r=2.5/2;//cm\n",
"epsilon_r=4;//constant\n",
"r1=3/2;//cm\n",
"r2=9/2;//cm\n",
"V=20;//kV(rms)\n",
"//Formula : gmax=q/(2*epsilon*r)\n",
"g2maxBYg1max=r/epsilon_r/r1;//unitless\n",
"//Formula : V=g1max*r*log(r1/r)+g2max*r1*log(r2/r1)\n",
"g1max=V/(r*log(r1/r)+g2maxBYg1max*r1*log(r2/r1));//in kV/cm\n",
"disp(g1max,'g1max(kV/cm) = ');\n",
"disp('g1max > go, Corona will be present.');"
   ]
   }
,
{
		   "cell_type": "markdown",
		   "metadata": {},
		   "source": [
			"## Example 7.6: Critical_Disruptive_Voltage.sce"
		   ]
		  },
  {
"cell_type": "code",
	   "execution_count": null,
	   "metadata": {
	    "collapsed": true
	   },
	   "outputs": [],
"source": [
"//Exa 7.6\n",
"clc;\n",
"clear;\n",
"close;\n",
"format('v',5);\n",
"//Given data :\n",
"Ph=3;//phase\n",
"r=10.4/2;//mm\n",
"r=r/10;//in cm\n",
"d=2.5;//meter\n",
"d=d*100;//in cm\n",
"t=21;//degree C\n",
"T=t+273;//K\n",
"b=73.6;//cm-Hg\n",
"mo=0.85; \n",
"mv_l=0.7;\n",
"mv_g=0.8;\n",
"go=21.21;//kV/cm : assumed\n",
"del=3.92*b/T;//Air density factor\n",
"//Formula : Vdo=go*del*mo*r*log(d*100/r);//kV\n",
"Vdo=go*del*mo*r*log(d/r);//kV\n",
"Vdo_line=sqrt(3)*Vdo;//kV\n",
"Vvo=go*del*mv_l*r*(1+.3/sqrt(del*r))*log(d/r);//kV\n",
"Vvo_line_local=Vvo*sqrt(3);//kV(rms)\n",
"disp(Vvo_line_local,'Line to line visual critical voltage for local corona(kV-rms)  : ')\n",
"Vvo_line_general=Vvo_line_local*mv_g/mv_l;//kV(rms)\n",
"disp(Vvo_line_general,'Line to line visual critical voltage for general corona(kV-rms)  : ')\n",
"//Note : Answer in the book is not accurate."
   ]
   }
,
{
		   "cell_type": "markdown",
		   "metadata": {},
		   "source": [
			"## Example 7.7: Corona_Loss.sce"
		   ]
		  },
  {
"cell_type": "code",
	   "execution_count": null,
	   "metadata": {
	    "collapsed": true
	   },
	   "outputs": [],
"source": [
"//Exa 7.7\n",
"clc;\n",
"clear;\n",
"close;\n",
"format('v',5);\n",
"//Given data :\n",
"Pc1=53;//in kW\n",
"V1=106;//in kV\n",
"Pc2=98;//in kW\n",
"V2=110.9;//in kV\n",
"Vph1=V1/sqrt(3);//in kV\n",
"Vph2=V2/sqrt(3);//in kV\n",
"//Formula : Pc=3*244/del*(f+25)*sqrt(r/d)*(Vph-Vdo)^2*10^-5;//kW/Km\n",
"disp('Using proportionality : Pc is proportional to (Vph-Vdo)^2');\n",
"disp('We have, Pc1/Pc2 = (Vph1-Vdo)^2/(Vph2-Vdo)^2');\n",
"Vdo=(Vph1-sqrt(Pc1/Pc2)*(Vph2))/(1-sqrt(Pc1/Pc2));\n",
"V3=113;//in kV\n",
"Vph3=V3/sqrt(3);//in kV\n",
"Pc3=Pc2*(Vph3-Vdo)^2/(Vph2-Vdo)^2;//in kW\n",
"disp(Pc3,'Corona Loss at 113 kV in kW : ');\n",
"VLine=sqrt(3)*Vdo;//in kV\n",
"disp(VLine,'Disruptive critical voltage between lines(kV):  ');"
   ]
   }
,
{
		   "cell_type": "markdown",
		   "metadata": {},
		   "source": [
			"## Example 7.8: Disruptive_voltage_and_corona_loss.sce"
		   ]
		  },
  {
"cell_type": "code",
	   "execution_count": null,
	   "metadata": {
	    "collapsed": true
	   },
	   "outputs": [],
"source": [
"//Exa 7.8\n",
"clc;\n",
"clear;\n",
"close;\n",
"format('v',5);\n",
"//Given data :\n",
"f=50;//Hz\n",
"l=160;//km\n",
"r=1.036/2;//cm\n",
"d=2.44*100;//cm\n",
"g0=21.1;//kV/cm(rms)\n",
"m0=0.85;//irregularity factor\n",
"mv=0.72;//roughness factor\n",
"b=73.15;//cm\n",
"t=26.6;//degree C\n",
"del=3.92*b/(273+t);//air density factor\n",
"Vd0=g0*del*m0*r*log(d/r);//kV(rms)\n",
"disp(Vd0,'Critical disruptive voltage(rms) in kV : ');\n",
"Vv0=g0*del*mv*r*(1+0.3/sqrt(del*r))*log(d/r);//kV\n",
"disp(Vv0,'Visual Critical voltage(rms) in kV : ');\n",
"Vph=110/sqrt(3);//in kV\n",
"Pc_dash=d/del*(f+25)*sqrt(r/d)*(Vph-0.8*Vd0)^2*10^-5;//kW/km/phase\n",
"T_Corona_loss=l*3*Pc_dash;//kW\n",
"disp(T_Corona_loss,'Total corona loss under foul weather condition using Peek formula in kW : ');\n",
"VphBYVd0=Vph/Vd0/0.8;\n",
"K=0.46;//constant\n",
"Corona_loss=21*10^-5*f*Vph^2*K/(log10(d/r))^2;//kW/km/phase\n",
"T_corona_loss=Corona_loss*3*l;//kW\n",
"disp(T_corona_loss,'Total corona loss under foul weather condition using Peterson formula in kW : ');"
   ]
   }
,
{
		   "cell_type": "markdown",
		   "metadata": {},
		   "source": [
			"## Example 7.9: Corona_Characteristics.sce"
		   ]
		  },
  {
"cell_type": "code",
	   "execution_count": null,
	   "metadata": {
	    "collapsed": true
	   },
	   "outputs": [],
"source": [
"//Example 7.9\n",
"clc;\n",
"clear;\n",
"close;\n",
"//given data :\n",
"f=50;//Hz\n",
"l=175;//km\n",
"r=1/2;//cm\n",
"d=3*100;//cm\n",
"g0=21.1;//kV/cm(rms)\n",
"m0=0.85;//irregularity factor\n",
"mv=0.72;//roughness factor\n",
"mv_dash=0.82;//roughness factor\n",
"b=74;//cm\n",
"t=26;//degree C\n",
"Vph=110/sqrt(3);//kV\n",
"del=3.92*b/(273+t);//air density factor\n",
"Vd0=g0*del*m0*r*log(d/r);//kV(rms)\n",
"Vvo=g0*del*mv*r*(1+0.3/sqrt(del*r))*log(d/r);//kV rms\n",
"Vvo_dash=Vvo*mv_dash/mv;//kV rms\n",
"Pc=244/del*(f+25)*sqrt(r/d)*(Vph-Vd0)^2*10^-5;//kW/Km/phase\n",
"T_CoronaLoss=Pc*l*3;//kW\n",
"disp('Power loss due to corona for fair weather condition : ');\n",
"disp(T_CoronaLoss,'Total corona loss using Peek formula in kW : ');\n",
"K=0.0713;//constant for Vph/Vdo=1.142\n",
"Pc=21*10^-5*f*Vph^2/(log10(d/r))^2*K;//kW/Km/phase\n",
"T_CoronaLoss=Pc*l*3;//kW\n",
"disp(T_CoronaLoss,'According Peterson formula, Total corona loss for 175 km 3-phase line(kW): ');\n",
"disp('Power loss due to corona for stormy weather condition : ');\n",
"Vd0=0.8*Vd0;//kV\n",
"Pc_dash=l*3*244/del*(f+25)*sqrt(r/d)*(Vph-Vd0)^2*10^-5;//kW/Km/phase\n",
"disp(Pc_dash,'Total corona loss using Peek formula in kW : ');\n",
"K=0.395;//constant for Vph/Vdo=1.42\n",
"Pc=21*10^-5*f*Vph^2/(log10(d/r))^2*K;//kW/Km/phase\n",
"T_CoronaLoss=Pc*l*3;//kW\n",
"disp(T_CoronaLoss,'According Peterson formula, Total corona loss for 175 km 3-phase line(kW): ');\n",
"//Answer is wrong in the book for corona loss fair weather condition using Peek formula."
   ]
   }
],
"metadata": {
		  "kernelspec": {
		   "display_name": "Scilab",
		   "language": "scilab",
		   "name": "scilab"
		  },
		  "language_info": {
		   "file_extension": ".sce",
		   "help_links": [
			{
			 "text": "MetaKernel Magics",
			 "url": "https://github.com/calysto/metakernel/blob/master/metakernel/magics/README.md"
			}
		   ],
		   "mimetype": "text/x-octave",
		   "name": "scilab",
		   "version": "0.7.1"
		  }
		 },
		 "nbformat": 4,
		 "nbformat_minor": 0
}
