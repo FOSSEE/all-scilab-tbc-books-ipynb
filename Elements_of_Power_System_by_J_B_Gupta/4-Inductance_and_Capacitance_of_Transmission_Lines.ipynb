{
"cells": [
 {
		   "cell_type": "markdown",
	   "metadata": {},
	   "source": [
       "# Chapter 4: Inductance and Capacitance of Transmission Lines"
	   ]
	},
{
		   "cell_type": "markdown",
		   "metadata": {},
		   "source": [
			"## Example 4.10: Spacing_between_adjacent_conductors.sce"
		   ]
		  },
  {
"cell_type": "code",
	   "execution_count": null,
	   "metadata": {
	    "collapsed": true
	   },
	   "outputs": [],
"source": [
"//Exa 4.10\n",
"clc;\n",
"clear;\n",
"close;\n",
"//Given data :\n",
"r=1.2/2*10;//mm\n",
"rdash=0.7788*r;//mm\n",
"d=3.5*1000;//mm\n",
"L=2*10^-7*log(d/rdash);//H/m\n",
"Lav=1/3*(L+L+L);//H/m\n",
"d=rdash*exp(Lav/(2*10^-7)-1/3*log(2));//mm\n",
"disp(d/1000,'Spacing between adjacent conductors(m)');"
   ]
   }
,
{
		   "cell_type": "markdown",
		   "metadata": {},
		   "source": [
			"## Example 4.11: Inductance_per_phase_per_km.sce"
		   ]
		  },
  {
"cell_type": "code",
	   "execution_count": null,
	   "metadata": {
	    "collapsed": true
	   },
	   "outputs": [],
"source": [
"//Exa 4.11\n",
"clc;\n",
"clear;\n",
"close;\n",
"//Given data :\n",
"r=20;//mm\n",
"rdash=0.7788*r;//mm\n",
"d=7*1000;//mm\n",
"L=10^-7*log(sqrt(3)/2*d/rdash);//H/m\n",
"disp(L*10^3/10^-3,'Spacing between adjacent conductors(mH)');"
   ]
   }
,
{
		   "cell_type": "markdown",
		   "metadata": {},
		   "source": [
			"## Example 4.12: Inductance_per_phase_per_km.sce"
		   ]
		  },
  {
"cell_type": "code",
	   "execution_count": null,
	   "metadata": {
	    "collapsed": true
	   },
	   "outputs": [],
"source": [
"//Exa 4.12\n",
"clc;\n",
"clear;\n",
"close;\n",
"//Given data :\n",
"r=0.9;//cm\n",
"rdash=0.7788*r*10^-2;//m\n",
"daa_dash=sqrt(6^2+6^2);//m\n",
"dbb_dash=7;//m\n",
"dcc_dash=daa_dash;//m\n",
"daa=rdash;//m\n",
"d_adash_adash=rdash;//m\n",
"d_adash_a=daa_dash;//m\n",
"Dsa=(daa*daa_dash*d_adash_adash*d_adash_a)^(1/4);//m\n",
"Dsb=(daa*7)^(1/2);//m\n",
"Dsc=(daa*daa_dash)^(1/2);//m\n",
"Ds=(Dsa*Dsb*Dsc)^(1/3);//m\n",
"dab=sqrt(3^2+0.5^2);//m\n",
"dab_dash=sqrt(3^2+6.5^2);//m\n",
"d_adash_b=sqrt(3^2+6.5^2);//m\n",
"d_adash_bdash=sqrt(3^2+0.5^2);//m\n",
"Dab=(dab*dab_dash*d_adash_b*d_adash_bdash)^(1/4);//m\n",
"Dbc=((dab*dab_dash)^2)^(1/4);//m\n",
"Dca=((6*6)^2)^(1/4);//m\n",
"Dm=(Dab*Dbc*Dca)^(1/3);//m\n",
"L=0.2*log(Dm/Ds);//mH/km\n",
"disp(L,'Inductance per phase(mH/km)');"
   ]
   }
,
{
		   "cell_type": "markdown",
		   "metadata": {},
		   "source": [
			"## Example 4.13: GMD_GMR_and_Overall_Inductance.sce"
		   ]
		  },
  {
"cell_type": "code",
	   "execution_count": null,
	   "metadata": {
	    "collapsed": true
	   },
	   "outputs": [],
"source": [
"//Exa 4.13\n",
"clc;\n",
"clear;\n",
"close;\n",
"format('v',5)\n",
"//Given data :\n",
"r=5/2;//mm\n",
"rdash=2.176*r*10^-3;//m\n",
"daa_dash=sqrt(6^2+16^2);//m\n",
"dbb_dash=6;//m\n",
"dcc_dash=daa_dash;//m\n",
"dab=8;//m\n",
"dab_dash=sqrt(6^2+8^2);//m\n",
"dbc=8;//m\n",
"dbc_dash=sqrt(6^2+8^2);//m\n",
"dca=16;//m\n",
"dca_dash=6;//m\n",
"Dsa=sqrt(rdash*daa_dash);//m\n",
"Dsb=sqrt(rdash*dbb_dash);//m\n",
"Dsc=sqrt(rdash*dcc_dash);//m\n",
"Ds=(Dsa*Dsb*Dsc)^(1/3);//m\n",
"disp(Ds,'GMD(m) : ');\n",
"Dab=(dab*dab_dash)^(1/2);//m\n",
"Dbc=(dbc*dbc_dash)^(1/2);//m\n",
"Dca=(dca*dca_dash)^(1/2);//m\n",
"Dm=(Dab*Dbc*Dca)^(1/3);//m\n",
"disp(Dm,'Deq or Dm(m) : ');\n",
"L=0.2*log(Dm/Ds);//mH/km\n",
"L=L*10^-3*100;//H(for 100 km line)\n",
"disp(L,'Inductance of 100 km line(H)');\n",
"///Alternate method is given below\n",
"d1=dab;//m\n",
"d2=dca_dash;//m\n",
"L=0.2*log(2^(1/6))*sqrt(d1/rdash)*((d1^2+d2^2)/(4*d1^2+d2^2))^(1/6);//mH\n",
"L=L*10^-3*100;//H(for 100 km line)\n",
"disp(L,'Using Alternate method, Inductance of 100 km line(H)');\n",
""
   ]
   }
,
{
		   "cell_type": "markdown",
		   "metadata": {},
		   "source": [
			"## Example 4.14: Inductance_per_km.sce"
		   ]
		  },
  {
"cell_type": "code",
	   "execution_count": null,
	   "metadata": {
	    "collapsed": true
	   },
	   "outputs": [],
"source": [
"//Exa 4.14\n",
"clc;\n",
"clear;\n",
"close;\n",
"//Given data :\n",
"r=5/2;//cm\n",
"rdash=0.7788*r*10^-2;//m\n",
"d=6.5;//m\n",
"s=0.4;//m\n",
"Ds=sqrt(rdash*s);//m\n",
"dab=6.5;//m\n",
"dab_dash=6.9;//m\n",
"d_adash_b=6.1;//m\n",
"d_adash_bdash=6.5;//m\n",
"Dab=(dab*dab_dash*d_adash_b*d_adash_bdash)^(1/4);//m\n",
"Dbc=Dab;//m\n",
"dca=13;//m\n",
"dca_dash=12.6;//m\n",
"d_cdash_a=13.4;//m\n",
"d_cdash_adash=13;//m\n",
"Dca=(dca*dca_dash*d_cdash_a*d_cdash_adash)^(1/4);//m\n",
"Dm=(Dab*Dbc*Dca)^(1/3);//m\n",
"L=0.2*log(Dm/Ds);//mH/km\n",
"disp(L,'Inductance per phase(mH/km)');"
   ]
   }
,
{
		   "cell_type": "markdown",
		   "metadata": {},
		   "source": [
			"## Example 4.15: Find_inductive_reactance.sce"
		   ]
		  },
  {
"cell_type": "code",
	   "execution_count": null,
	   "metadata": {
	    "collapsed": true
	   },
	   "outputs": [],
"source": [
"//Exa 4.15\n",
"clc;\n",
"clear;\n",
"close;\n",
"//Given data :\n",
"f=50;//Hz\n",
"r=3.5/2;//cm\n",
"rdash=0.7788*r*10^-2;//m\n",
"d=7;//m\n",
"s=40/100;//m\n",
"Ds=sqrt(rdash*s);//m\n",
"dab=7;//m\n",
"dab_dash=7.4;//m\n",
"d_adash_b=6.6;//m\n",
"d_adash_bdash=7;//m\n",
"Dab=(dab*dab_dash*d_adash_b*d_adash_bdash)^(1/4);//m\n",
"Dbc=Dab;//m\n",
"dca=14;//m\n",
"dca_dash=13.6;//m\n",
"d_cdash_a=14.4;//m\n",
"d_cdash_adash=14;//m\n",
"Dca=(dca*dca_dash*d_cdash_a*d_cdash_adash)^(1/4);//m\n",
"Dm=(Dab*Dbc*Dca)^(1/3);//m\n",
"L=0.2*log(Dm/Ds);//mH/km\n",
"XL=2*%pi*f*L*10^-3;//ohm/km\n",
"disp(XL,'Inductive reactance of bundled conductor line(ohm/km)');\n",
"//Equivalent single conductor\n",
"n=2;\n",
"r1=sqrt(n*%pi*r^2/%pi);//m\n",
"r1dash=0.7788*r1*10^-2;//m\n",
"Dm1=(Dab*Dbc*Dca)^(1/3);//m\n",
"L1=0.2*log(Dm1/r1dash);//mH/km\n",
"XL1=2*%pi*f*L1*10^-3;//ohm/km\n",
"disp(XL1,'Inductive reactance with single conductor(ohm/km)');"
   ]
   }
,
{
		   "cell_type": "markdown",
		   "metadata": {},
		   "source": [
			"## Example 4.16: Find_out_Capacitance.sce"
		   ]
		  },
  {
"cell_type": "code",
	   "execution_count": null,
	   "metadata": {
	    "collapsed": true
	   },
	   "outputs": [],
"source": [
"//Exa 4.16\n",
"clc;\n",
"clear;\n",
"close;\n",
"//Given data :\n",
"r=15/2;//mm\n",
"d=1.5*1000;//mm\n",
"l=30;//km\n",
"epsilon_o=8.854*10^-12;//permitivity\n",
"C=%pi*epsilon_o/log(d/r)*l*1000;//F\n",
"disp(C*10^6,'Capacitance of line(micro F)');"
   ]
   }
,
{
		   "cell_type": "markdown",
		   "metadata": {},
		   "source": [
			"## Example 4.17: Calculate_Capacitance.sce"
		   ]
		  },
  {
"cell_type": "code",
	   "execution_count": null,
	   "metadata": {
	    "collapsed": true
	   },
	   "outputs": [],
"source": [
"//Exa 4.17\n",
"clc;\n",
"clear;\n",
"close;\n",
"//Given data :\n",
"r=2/2;//cm\n",
"d=2.5*100;//cm\n",
"l=100;//km\n",
"epsilon_o=8.854*10^-12;//permitivity\n",
"C=2*%pi*epsilon_o/log(d/r)*l*1000;//F\n",
"disp(C*10^6,'Capacitance of line(micro F)');"
   ]
   }
,
{
		   "cell_type": "markdown",
		   "metadata": {},
		   "source": [
			"## Example 4.18: Capacitance_per_conductor_per_km.sce"
		   ]
		  },
  {
"cell_type": "code",
	   "execution_count": null,
	   "metadata": {
	    "collapsed": true
	   },
	   "outputs": [],
"source": [
"//Exa 4.18\n",
"clc;\n",
"clear;\n",
"close;\n",
"//Given data :\n",
"r=2/2/100;//m\n",
"d1=3.5;//m\n",
"d2=5;//m\n",
"d3=8;//m\n",
"epsilon_o=8.854*10^-12;//permitivity\n",
"CN=2*%pi*epsilon_o*1000/log((d1*d2*d3)^(1/3)/r);//F\n",
"disp(CN*10^6,'Capacitance of line(micro F)');"
   ]
   }
,
{
		   "cell_type": "markdown",
		   "metadata": {},
		   "source": [
			"## Example 4.19: Capacitance_and_Charging_current.sce"
		   ]
		  },
  {
"cell_type": "code",
	   "execution_count": null,
	   "metadata": {
	    "collapsed": true
	   },
	   "outputs": [],
"source": [
"//Exa 4.19\n",
"clc;\n",
"clear;\n",
"close;\n",
"//Given data :\n",
"f=50;//Hz\n",
"VL=220;//KV\n",
"r=20/2/1000;//m\n",
"d1=3;//m\n",
"d2=3;//m\n",
"d3=6;//m\n",
"epsilon_o=8.854*10^-12;//permitivity\n",
"CN=2*%pi*epsilon_o/log((d1*d2*d3)^(1/3)/r);//F\n",
"disp(CN,'Capacitance per phase per meter  line(F)');\n",
"Vph=VL*1000/sqrt(3);//V\n",
"Ic=2*%pi*f*CN*Vph;//A\n",
"disp(Ic*1000,'Charging current per phase(mA) : ');"
   ]
   }
,
{
		   "cell_type": "markdown",
		   "metadata": {},
		   "source": [
			"## Example 4.1: Loop_inductance_and_reactance.sce"
		   ]
		  },
  {
"cell_type": "code",
	   "execution_count": null,
	   "metadata": {
	    "collapsed": true
	   },
	   "outputs": [],
"source": [
"//Exa 4.1\n",
"clc;\n",
"clear;\n",
"close;\n",
"//Given data :\n",
"f=50;//Hz\n",
"d=1*100;//cm\n",
"r=1.25/2;//cm\n",
"r_dash=r*0.7788;//cm\n",
"L=0.4*log(d/r_dash);//mH\n",
"disp(L,'Loop inductance per km(mH)');\n",
"XL=2*%pi*f*L*10^-3;//ohm/Km\n",
"disp(XL,'Reactance of transmission line(ohm/km)');"
   ]
   }
,
{
		   "cell_type": "markdown",
		   "metadata": {},
		   "source": [
			"## Example 4.20: Capacitance_to_neutral_and_charging_per_km.sce"
		   ]
		  },
  {
"cell_type": "code",
	   "execution_count": null,
	   "metadata": {
	    "collapsed": true
	   },
	   "outputs": [],
"source": [
"//Exa 4.20\n",
"clc;\n",
"clear;\n",
"close;\n",
"//Given data :\n",
"f=50;//Hz\n",
"VL=110;//kV\n",
"r=1.05/2;//cm\n",
"d1=3.5;//m\n",
"d2=3.5;//m\n",
"d3=7;//m\n",
"epsilon_o=8.854*10^-12;//permitivity\n",
"CN=2*%pi*epsilon_o/log((d1*d2*d3)^(1/3)*100/r);//F\n",
"disp(CN,'Capacitance per phase per meter  line(F)');\n",
"Vph=VL*1000/sqrt(3);//V\n",
"Ic=2*%pi*f*CN*Vph;//A/m\n",
"disp(Ic/10^-3,'Charging current per phase(A/km) : ');"
   ]
   }
,
{
		   "cell_type": "markdown",
		   "metadata": {},
		   "source": [
			"## Example 4.21: Capacitance_to_neutral_and_charging_current.sce"
		   ]
		  },
  {
"cell_type": "code",
	   "execution_count": null,
	   "metadata": {
	    "collapsed": true
	   },
	   "outputs": [],
"source": [
"//Exa 4.21\n",
"clc;\n",
"clear;\n",
"close;\n",
"//Given data :\n",
"r=2.5/2*10^-2;//m\n",
"VL=132;//KV\n",
"epsilon_o=8.85*10^-12;//permitivity\n",
"f=50;//Hz\n",
"dRRdash=sqrt(7^2+(4+4)^2);//m\n",
"dBBdash=dRRdash;//m\n",
"dYYdash=9;//m\n",
"DSR=sqrt(r*dRRdash);//m\n",
"DSY=sqrt(r*dYYdash);//m\n",
"DSB=sqrt(r*dBBdash);//m\n",
"Ds=(DSR*DSB*DSY)^(1/3);//m\n",
"dRY=sqrt(4^2+(4.5-3.5)^2);//m\n",
"dRYdash=sqrt((9-1)^2+4^2);//m\n",
"dRdashY=sqrt((9-1)^2+4^2);//m\n",
"dRdashYdash=sqrt(4^2+(4.5-3.5)^2);//m\n",
"DRY=(dRY*dRYdash*dRdashY*dRdashYdash)^(1/4);//m\n",
"DYB=((dRY*dRYdash)^2)^(1/4);//m\n",
"DBR=((8*7)^2)^(1/4);//m\n",
"Dm=(DRY*DYB*DBR)^(1/3);//m\n",
"C=2*%pi*epsilon_o/log(Dm/Ds);//F/m\n",
"C=C/10^-3;//F/km\n",
"X=1/(2*%pi*f*C);//ohm\n",
"disp(X/1000,'Capacitive reactance too neutral(kohm) : ');\n",
"Vph=VL*1000/sqrt(3);//Volt\n",
"Ic=2*%pi*f*C*Vph;//A\n",
"disp(Ic,'Charging current(A/km)');"
   ]
   }
,
{
		   "cell_type": "markdown",
		   "metadata": {},
		   "source": [
			"## Example 4.22: Capacitance_per_phase.sce"
		   ]
		  },
  {
"cell_type": "code",
	   "execution_count": null,
	   "metadata": {
	    "collapsed": true
	   },
	   "outputs": [],
"source": [
"//Exa 4.22\n",
"clc;\n",
"clear;\n",
"close;\n",
"//Given data :\n",
"d1=8;//m\n",
"d2=6;//m\n",
"epsilon_o=8.854*10^-12;//permitivity\n",
"r=3*5/2*10^-3;//m\n",
"C=4*%pi*epsilon_o/log(2^(1/3)*d1/r*((d1^2+d2^2)/(4*d1^2+d2^2)^(1/3)));//F/m\n",
"C100=C*100*1000*10^6;//microF\n",
"disp(C100,'Capacitance of 100 km line(micro Farad) : ');\n",
"//answer in the textbook is wrong."
   ]
   }
,
{
		   "cell_type": "markdown",
		   "metadata": {},
		   "source": [
			"## Example 4.23: Capacitance_and_charging_current.sce"
		   ]
		  },
  {
"cell_type": "code",
	   "execution_count": null,
	   "metadata": {
	    "collapsed": true
	   },
	   "outputs": [],
"source": [
"//Exa 4.23\n",
"clc;\n",
"clear;\n",
"close;\n",
"//Given data :\n",
"VL=132;//kV\n",
"f=50;//Hz\n",
"r=5/2;//cm\n",
"rdash=0.7788*r*10^-2;//m\n",
"d=6.5;//m\n",
"s=0.4;//m\n",
"epsilon_o=8.854*10^-12;//permitivity\n",
"Ds=sqrt(rdash*s);//m\n",
"dab=6.5;//m\n",
"dab_dash=6.9;//m\n",
"d_adash_b=6.1;//m\n",
"d_adash_bdash=6.5;//m\n",
"Dab=(dab*dab_dash*d_adash_b*d_adash_bdash)^(1/4);//m\n",
"Dbc=Dab;//m\n",
"dca=13;//m\n",
"dca_dash=12.6;//m\n",
"d_cdash_a=13.4;//m\n",
"d_cdash_adash=13;//m\n",
"Dca=(dca*dca_dash*d_cdash_a*d_cdash_adash)^(1/4);//m\n",
"Dm=(Dab*Dbc*Dca)^(1/3);//m\n",
"L=0.2*log(Dm/Ds);//mH/km\n",
"C=2*%pi*epsilon_o/log(Dm/Ds);//F/m\n",
"C=C/10^-3;//F/km\n",
"disp(C,'Capacitance per km(F/km) : ');\n",
"Vph=VL*1000/sqrt(3);//Volt\n",
"Ic=2*%pi*f*C*Vph;//A/km\n",
"disp(Ic,'Charging current per km(A/km) : ');"
   ]
   }
,
{
		   "cell_type": "markdown",
		   "metadata": {},
		   "source": [
			"## Example 4.24: Inductive_and_Capacitive_reactances.sce"
		   ]
		  },
  {
"cell_type": "code",
	   "execution_count": null,
	   "metadata": {
	    "collapsed": true
	   },
	   "outputs": [],
"source": [
"//Exa 4.24\n",
"clc;\n",
"clear;\n",
"close;\n",
"//Given data :\n",
"VL=132;//kV\n",
"f=50;//Hz\n",
"r=31.8/2;//mm\n",
"rdash=0.7788*r;//mm\n",
"d=10*1000;//mm\n",
"epsilon_o=8.854*10^-12;//permitivity\n",
"disp('One conductor ACSR moose conductor line : ');\n",
"LA=0.2*[log(d/rdash)+1/2*log(2)-%i*0.866*log(2)];//mH/km\n",
"LB=0.2*log(d/rdash);//mH/km\n",
"LC=0.2*[log(d/rdash)+1/2*log(2)+%i*0.866*log(2)];//mH/km\n",
"Lav=(LA+LB+LC)/3;//mH/km\n",
"XL=2*%pi*f*Lav*10^-3;//ohm\n",
"disp(XL,'Inductive reactance per Km per phase(ohm) : ');\n",
"d1=10;//m\n",
"d2=10;//m\n",
"d3=20;//m\n",
"CN=2*%pi*epsilon_o/log((d1*d2*d3)^(1/3)/(rdash*10^-3))/10^3;//F/km\n",
"XC=1/(2*%pi*f*CN*10^6);//ohm\n",
"disp(XC/10^6,'Capacitivetive reactance per Km per phase(Mohm) : ');\n",
"disp('Three conductor bundled line : ');\n",
"S=40/100;//m\n",
"Ds=(rdash*10^-3*S^2)^(1/3);//m\n",
"Deq=(d1*d2*d3)^(1/3);//m\n",
"Ldash=0.2*log(Deq/Ds);//mH/km\n",
"XLdash=2*%pi*f*Ldash*10^-3;//ohm\n",
"disp(XLdash,'Inductive reactance per km per phase(ohm) : ');\n",
"Ds=(r*10^-3*S^2)^(1/3);//m\n",
"Cdash=2*%pi*epsilon_o*10^3/log(Deq/Ds);//microF/km\n",
"XC=1/(2*%pi*f*Cdash)/10^6;//Mohm\n",
"disp(XC,'Capacitivetive reactance per km per phase(Mohm) : ');\n",
""
   ]
   }
,
{
		   "cell_type": "markdown",
		   "metadata": {},
		   "source": [
			"## Example 4.25: Capacitance_per_km.sce"
		   ]
		  },
  {
"cell_type": "code",
	   "execution_count": null,
	   "metadata": {
	    "collapsed": true
	   },
	   "outputs": [],
"source": [
"//Exa 4.25\n",
"clc;\n",
"clear;\n",
"close;\n",
"//Given data :\n",
"r=1.5/2;//cm\n",
"d=3*100;//cm\n",
"h=6*100;//cm\n",
"epsilon_o=8.854*10^-12;//permitivity\n",
"C=%pi*epsilon_o/log(d/(1+d^2/4/h^2)^r)*10^3;//F\n",
"disp(C,'Capacitance per km of line(F) : ');"
   ]
   }
,
{
		   "cell_type": "markdown",
		   "metadata": {},
		   "source": [
			"## Example 4.26: Determine_the_capacitance.sce"
		   ]
		  },
  {
"cell_type": "code",
	   "execution_count": null,
	   "metadata": {
	    "collapsed": true
	   },
	   "outputs": [],
"source": [
"//Exa 4.26\n",
"clc;\n",
"clear;\n",
"close;\n",
"//Given data :\n",
"r=2/100;//m\n",
"d1=4;//m\n",
"d2=4;//m\n",
"d3=8;//m\n",
"epsilon_o=8.854*10^-12;//permitivity\n",
"CN=2*%pi*epsilon_o/log((d1*d2*d3)^(1/3)/r);//F\n",
"disp(CN,'Part(i) Capacitance per phase per meter length(F) : ');\n",
"h1=20;//m\n",
"h2=20;//m\n",
"h3=20;//m\n",
"h12=sqrt(20^2+4^2);//m\n",
"h23=sqrt(20^2+4^2);//m\n",
"h31=sqrt(20^2+8^2);//m\n",
"Deq=(d1*d2*d3)^(1/3);//m\n",
"CN=2*%pi*epsilon_o/(log(Deq/r)-log((h12*h23*h31/h1/h2/h3)^(1/3)) );//F\n",
"disp(CN,'Part(ii) Capacitance per phase per meter length(F) : ');"
   ]
   }
,
{
		   "cell_type": "markdown",
		   "metadata": {},
		   "source": [
			"## Example 4.2: Calculate_Inductance.sce"
		   ]
		  },
  {
"cell_type": "code",
	   "execution_count": null,
	   "metadata": {
	    "collapsed": true
	   },
	   "outputs": [],
"source": [
"//Exa 4.2\n",
"clc;\n",
"clear;\n",
"close;\n",
"//Given data :\n",
"f=50;//Hz\n",
"a=10;//cm^2\n",
"l=500/1000;//km\n",
"r=sqrt(a/%pi);//cm\n",
"d=5*100;//cm\n",
"r_dash=r*0.7788;//cm\n",
"L=0.4*log(d/r_dash)*l;//mH\n",
"disp(L,'Loop inductance per km(mH)');"
   ]
   }
,
{
		   "cell_type": "markdown",
		   "metadata": {},
		   "source": [
			"## Example 4.3: Calculate_Loop_inductance.sce"
		   ]
		  },
  {
"cell_type": "code",
	   "execution_count": null,
	   "metadata": {
	    "collapsed": true
	   },
	   "outputs": [],
"source": [
"//Exa 4.3\n",
"clc;\n",
"clear;\n",
"close;\n",
"//Given data :\n",
"r=1/2;//cm\n",
"d=1*100;//cm\n",
"mu=50;//relative permeability\n",
"r_dash=r*0.7788;//cm\n",
"L_cu=.1+0.4*log(d/r);//mH\n",
"disp(L_cu,'Loop inductance per km of copper conductor line(mH)');\n",
"L_steel=(mu+4*log(d/r))*10^-7*10^3;//mH\n",
"disp(L_steel*10^3,'Loop inductance per km of copper conductor line(mH)');"
   ]
   }
,
{
		   "cell_type": "markdown",
		   "metadata": {},
		   "source": [
			"## Example 4.4: Calculate_GMR.sce"
		   ]
		  },
  {
"cell_type": "code",
	   "execution_count": null,
	   "metadata": {
	    "collapsed": true
	   },
	   "outputs": [],
"source": [
"//Exa 4.4\n",
"clc;\n",
"clear;\n",
"close;\n",
"//Given data :\n",
"r=3;//mm\n",
"d11=r;//mm\n",
"d12=2*r;//mm\n",
"d34=2*r;//mm\n",
"d16=2*r;//mm\n",
"d17=2*r;//mm\n",
"d14=4*r;//mm\n",
"d13=sqrt(d14^2-d34^2);//mm\n",
"d15=d13;//mm\n",
"Ds1=(0.7788*d11*d12*d13*d14*d15*d16*d17)^(1/7);//mm\n",
"Ds2=Ds1;//mm\n",
"Ds3=Ds1;//mm\n",
"Ds4=Ds1;//mm\n",
"Ds5=Ds1;//mm\n",
"Ds6=Ds1;//mm\n",
"Ds7=(2*r*0.7788*d11*d12*d13*2*r*2*r)^(1/7);//mm\n",
"Ds=(Ds1*Ds2*Ds3*Ds4*Ds5*Ds6*Ds7)^(1/7);//mm\n",
"disp(Ds,'Geometric mean radius(mm)');\n",
"//Answer in the book is wrong"
   ]
   }
,
{
		   "cell_type": "markdown",
		   "metadata": {},
		   "source": [
			"## Example 4.5: Determine_total_inductance.sce"
		   ]
		  },
  {
"cell_type": "code",
	   "execution_count": null,
	   "metadata": {
	    "collapsed": true
	   },
	   "outputs": [],
"source": [
"//Exa 4.5\n",
"clc;\n",
"clear;\n",
"close;\n",
"//Given data :\n",
"r=1.2;//cm\n",
"rdash=0.7788*r;//cm\n",
"d12=0.12*100;//cm\n",
"d11dash=(0.2+1.2)*100;//cm\n",
"d22dash=(0.2+1.2)*100;//cm\n",
"d12dash=(0.2+1.2+0.2)*100;//cm\n",
"d21dash=(1.2)*100;//cm\n",
"Dm=(d11dash*d12dash*d21dash*d22dash)^(1/4);//cm\n",
"d11=0.93456;//cm\n",
"d22=0.93456;//cm\n",
"d12=20;//cm\n",
"d21=20;//cm\n",
"Ds=(d11*d12*d21*d22)^(1/4);//cm\n",
"L=0.4*log(Dm/Ds);//mH/km\n",
"disp(L,'Loop inductance of line(mH/km)');"
   ]
   }
,
{
		   "cell_type": "markdown",
		   "metadata": {},
		   "source": [
			"## Example 4.6: Determine_total_inductance.sce"
		   ]
		  },
  {
"cell_type": "code",
	   "execution_count": null,
	   "metadata": {
	    "collapsed": true
	   },
	   "outputs": [],
"source": [
"//Exa 4.6\n",
"clc;\n",
"clear;\n",
"close;\n",
"//Given data :\n",
"r=2/2;//cm\n",
"rdash=0.7788*r;//cm\n",
"d12=0.12*100;//cm\n",
"d11dash=300;//cm\n",
"d12dash=sqrt(300^2+100^2);//cm\n",
"d21dash=d12dash;//cm\n",
"d22dash=d11dash;//cm\n",
"d11=rdash;//cm\n",
"d22=rdash;//cm\n",
"d12=100;//cm\n",
"d21=100;//cm\n",
"Dm=(d11dash*d12dash*d21dash*d22dash)^(1/4);//cm\n",
"Ds=(d11*d12*d21*d22)^(1/4);//cm\n",
"L=0.4*log(Dm/Ds);//mH/km\n",
"disp(L,'Loop inductance of line(mH/km)');"
   ]
   }
,
{
		   "cell_type": "markdown",
		   "metadata": {},
		   "source": [
			"## Example 4.7: Inductance_per_km.sce"
		   ]
		  },
  {
"cell_type": "code",
	   "execution_count": null,
	   "metadata": {
	    "collapsed": true
	   },
	   "outputs": [],
"source": [
"//Exa 4.7\n",
"clc;\n",
"clear;\n",
"close;\n",
"//Given data :\n",
"r=1.24/2;//cm\n",
"rdash=0.7788*r;//cm\n",
"d=2*100;//cm\n",
"L=0.2*log(d/rdash);//mH\n",
"disp(L,'Inductance per phase per km(mH)');"
   ]
   }
,
{
		   "cell_type": "markdown",
		   "metadata": {},
		   "source": [
			"## Example 4.8: Inductance_per_km.sce"
		   ]
		  },
  {
"cell_type": "code",
	   "execution_count": null,
	   "metadata": {
	    "collapsed": true
	   },
	   "outputs": [],
"source": [
"//Exa 4.8\n",
"clc;\n",
"clear;\n",
"close;\n",
"//Given data :\n",
"r=(20/2)/10;//cm\n",
"d1=4*100;//cm\n",
"d2=5*100;//cm\n",
"d3=6*100;//cm\n",
"rdash=0.7788*r;//cm\n",
"L=0.2*log((d1*d2*d3)^(1/3)/rdash);//mH\n",
"disp(L,'Inductance per phase(mH)');"
   ]
   }
,
{
		   "cell_type": "markdown",
		   "metadata": {},
		   "source": [
			"## Example 4.9: Inductance_per_km.sce"
		   ]
		  },
  {
"cell_type": "code",
	   "execution_count": null,
	   "metadata": {
	    "collapsed": true
	   },
	   "outputs": [],
"source": [
"//Exa 4.9\n",
"clc;\n",
"clear;\n",
"close;\n",
"//Given data :\n",
"r=4/2;//cm\n",
"rdash=0.7788*r;//cm\n",
"d=300;//cm\n",
"d3=6*100;//cm\n",
"LA=0.2*[log(d/rdash)+1/2*log(2)-%i*0.866*log(2)];//mH\n",
"disp(LA,'Inductance per km of phase1(mH)');\n",
"LB=0.2*log(d/rdash);//mH\n",
"disp(LB,'Inductance per km of phase2(mH)');\n",
"LC=0.2*[log(d/rdash)+1/2*log(2)+%i*0.866*log(2)];//mH\n",
"disp(LC,'Inductance per km of phase3(mH)');"
   ]
   }
],
"metadata": {
		  "kernelspec": {
		   "display_name": "Scilab",
		   "language": "scilab",
		   "name": "scilab"
		  },
		  "language_info": {
		   "file_extension": ".sce",
		   "help_links": [
			{
			 "text": "MetaKernel Magics",
			 "url": "https://github.com/calysto/metakernel/blob/master/metakernel/magics/README.md"
			}
		   ],
		   "mimetype": "text/x-octave",
		   "name": "scilab",
		   "version": "0.7.1"
		  }
		 },
		 "nbformat": 4,
		 "nbformat_minor": 0
}
