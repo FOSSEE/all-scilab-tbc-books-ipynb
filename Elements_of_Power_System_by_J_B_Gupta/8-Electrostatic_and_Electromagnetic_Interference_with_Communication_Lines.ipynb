{
"cells": [
 {
		   "cell_type": "markdown",
	   "metadata": {},
	   "source": [
       "# Chapter 8: Electrostatic and Electromagnetic Interference with Communication Lines"
	   ]
	},
{
		   "cell_type": "markdown",
		   "metadata": {},
		   "source": [
			"## Example 8.1: Voltage_induced_per_km.sce"
		   ]
		  },
  {
"cell_type": "code",
	   "execution_count": null,
	   "metadata": {
	    "collapsed": true
	   },
	   "outputs": [],
"source": [
"//Exa 8.1\n",
"clc;\n",
"clear;\n",
"close;\n",
"format('v',6);\n",
"//Given data :\n",
"f=50;//Hz\n",
"hor_con=1.2;//horizontal configuration spacing in m\n",
"x=0.85;//telephone line location below power line in meter\n",
"I=120;//current in power line in A\n",
"d=0.4;//spacing between conductors in meter\n",
"dAD=sqrt(x^2+((hor_con+d)/2)^2);//m\n",
"dAC=sqrt(x^2+((hor_con-d)/2)^2);//m\n",
"dBD=dAC;//m\n",
"dBC=dAD;//m\n",
"M=d*log(sqrt(dAD*dBC/dAC/dBD));//mh/km\n",
"Vm=2*%pi*f*M*10^-3*I;//V\n",
"disp(Vm,'Voltage induced per Km in the line in Volt :');"
   ]
   }
,
{
		   "cell_type": "markdown",
		   "metadata": {},
		   "source": [
			"## Example 8.2: Induced_Voltage_at_fundamental_frequency.sce"
		   ]
		  },
  {
"cell_type": "code",
	   "execution_count": null,
	   "metadata": {
	    "collapsed": true
	   },
	   "outputs": [],
"source": [
"//Exa 8.2\n",
"clc;\n",
"clear;\n",
"close;\n",
"format('v',6);\n",
"//Given data :\n",
"f=50;//HzdAP=AO+5;//m\n",
"l=200;//km\n",
"V=132*1000;//V\n",
"Load=28000;//kW\n",
"pf=0.85;//lagging power factor\n",
"r=5/1000;//radius of conductor in m\n",
"//From the figure given in question\n",
"AO=sqrt(4^2-2^2);//m\n",
"dAP=AO+5;//m\n",
"dAQ=dAP+1;//m\n",
"dBP=sqrt(5^2+2^2);//m\n",
"dBQ=sqrt(6^2+2^2);//m\n",
"MA=0.2*log(dAQ/dAP);//mH/km\n",
"MB=0.2*log(dBQ/dBP);//mH/km\n",
"MC=MB;//mH/km\n",
"M=MB-MA;//mH/km(MA,MB and Mc are displaced by 120 degree)\n",
"I=Load*1000/sqrt(3)/V/pf;//A\n",
"Vm=2*%pi*f*M*10^-3*I;//V/km\n",
"Vm1=Vm*l;//V(For whole route)\n",
"disp(Vm1,'Induced Voltage(For whole route) in Volts : ');\n",
"VA=V/sqrt(3);//V\n",
"VB=V/sqrt(3);//V\n",
"hA=20+AO;//m\n",
"VPA=VA*log((2*hA-dAP)/dAP)/log((2*hA-r)/r);//V\n",
"VPB=VB*log((2*hA-dBP)/dBP)/log((2*hA-r)/r);//V\n",
"VPC=VPB;//V\n",
"VP=VPB-VPA;//V\n",
"disp(VP,'Potential of telephone conductor in Volts :');\n",
"//Answer in the book is wrong due to little accuracy as compared to scilab."
   ]
   }
],
"metadata": {
		  "kernelspec": {
		   "display_name": "Scilab",
		   "language": "scilab",
		   "name": "scilab"
		  },
		  "language_info": {
		   "file_extension": ".sce",
		   "help_links": [
			{
			 "text": "MetaKernel Magics",
			 "url": "https://github.com/calysto/metakernel/blob/master/metakernel/magics/README.md"
			}
		   ],
		   "mimetype": "text/x-octave",
		   "name": "scilab",
		   "version": "0.7.1"
		  }
		 },
		 "nbformat": 4,
		 "nbformat_minor": 0
}
