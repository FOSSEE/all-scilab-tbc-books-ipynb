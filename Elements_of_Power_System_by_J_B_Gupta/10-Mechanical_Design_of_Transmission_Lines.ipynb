{
"cells": [
 {
		   "cell_type": "markdown",
	   "metadata": {},
	   "source": [
       "# Chapter 10: Mechanical Design of Transmission Lines"
	   ]
	},
{
		   "cell_type": "markdown",
		   "metadata": {},
		   "source": [
			"## Example 10.10: Lowest_point_of_catenary_curve.sce"
		   ]
		  },
  {
"cell_type": "code",
	   "execution_count": null,
	   "metadata": {
	    "collapsed": true
	   },
	   "outputs": [],
"source": [
"//Exa 10.10\n",
"clc;\n",
"clear;\n",
"close;\n",
"//Given data :\n",
"wc=0.35;//kg/m\n",
"stress=800;//kg/cm^2\n",
"L=160;//m\n",
"SF=2;//safety factor\n",
"h=70-65;//m\n",
"T=stress/SF;//kg\n",
"x=L/2+T*h/(wc*L);//m\n",
"disp(x,'Distance of lowest point(m)');\n",
"S1=wc*x^2/SF/T;//max sag in air\n",
"xmin=70-S1;//m\n",
"disp(xmin,'minimum point of catenary above the ground(m)');"
   ]
   }
,
{
		   "cell_type": "markdown",
		   "metadata": {},
		   "source": [
			"## Example 10.11: Sag_at_lower_support.sce"
		   ]
		  },
  {
"cell_type": "code",
	   "execution_count": null,
	   "metadata": {
	    "collapsed": true
	   },
	   "outputs": [],
"source": [
"//Exa 10.11\n",
"clc;\n",
"clear;\n",
"close;\n",
"//Given data :\n",
"L=200;//m\n",
"h=10;//m\n",
"D=2;//cm\n",
"wc=2.3;//kg/m\n",
"Pw=57.5;//kg/m^2(wind pressure)\n",
"SF=4;//safety factor\n",
"stress=4220;//kg/cm^2\n",
"w_w=Pw*D*10^-2;//kg\n",
"wr=sqrt(wc^2+w_w^2);//kg\n",
"f=stress/SF;//kg/cm^2\n",
"T=f*%pi/4*D^2;//kg\n",
"x=L/2-T*h/(wr*L);//m\n",
"S1=wr*x^2/2/T;//max sag in air\n",
"disp(S1,'Slant sag(m)');\n",
"Sdash=wc*x^2/2/T;//vertical sag\n",
"disp(Sdash,'Vertical Sag(meter)');"
   ]
   }
,
{
		   "cell_type": "markdown",
		   "metadata": {},
		   "source": [
			"## Example 10.12: Determine_the_vertical_sag.sce"
		   ]
		  },
  {
"cell_type": "code",
	   "execution_count": null,
	   "metadata": {
	    "collapsed": true
	   },
	   "outputs": [],
"source": [
"//Exa 10.12\n",
"clc;\n",
"clear;\n",
"close;\n",
"//Given data :\n",
"wc=1.925;//kg/m\n",
"A=2.2;//cm^2\n",
"f=8000;//kg/cm^2\n",
"L=600;//m\n",
"h=15;//m\n",
"D=2;//cm\n",
"SF=5;//safety factor\n",
"wi=1;//kg(load)\n",
"w=wi+wc;//kg\n",
"T=f*A/SF;//kg\n",
"x=L/2-T*h/(w*L);//m\n",
"S2=w*(L-x)^2/2/T;//m\n",
"disp(S2,'Vertical Sag(meter)');"
   ]
   }
,
{
		   "cell_type": "markdown",
		   "metadata": {},
		   "source": [
			"## Example 10.13: Find_the_clearance.sce"
		   ]
		  },
  {
"cell_type": "code",
	   "execution_count": null,
	   "metadata": {
	    "collapsed": true
	   },
	   "outputs": [],
"source": [
"//Exa 10.13\n",
"clc;\n",
"clear;\n",
"close;\n",
"//Given data :\n",
"h=80-50;//m\n",
"L=300;//m\n",
"T=2000;//kg\n",
"w=0.844;//kg/m\n",
"x=L/2-T*h/(w*L);//m\n",
"d_PO=L/2-x;//m\n",
"d_BO=L-x;//m\n",
"Smid=w*(L/2-x)^2/2/T;//m\n",
"S2=w*(L-x)^2/2/T;//m\n",
"Point_P=S2-Smid;//m\n",
"disp('Mid point P is '+string(Point_P)+' meter below point B or '+string(80-Point_P)+' meter above the water level.');"
   ]
   }
,
{
		   "cell_type": "markdown",
		   "metadata": {},
		   "source": [
			"## Example 10.14: Stringing_Tension_in_the_conductor.sce"
		   ]
		  },
  {
"cell_type": "code",
	   "execution_count": null,
	   "metadata": {
	    "collapsed": true
	   },
	   "outputs": [],
"source": [
"//Exa 10.14\n",
"clc;\n",
"clear;\n",
"close;\n",
"//Given data :\n",
"S1=25;//m\n",
"S2=75;//m\n",
"Point_P=45;//m\n",
"L1=250;//m\n",
"L2=125;//m(mid point)\n",
"w=0.7;//kg/m\n",
"h1=S2-S1;//m(for points A & B)\n",
"h2=Point_P-S1;//m(for points A & B)\n",
"//h1=w*L1/2/T*[L1-2*x]\n",
"//h2=w*L2/2/T*[L2-2*x]\n",
"x=(L1-h1/h2/L1*L2*L2)/(-h1/h2/L1*L2*2+2);//m\n",
"T=(L1-2*x)/(h1/w/L1*2);//kg\n",
"disp(T,'Stringing Tension(kg)');"
   ]
   }
,
{
		   "cell_type": "markdown",
		   "metadata": {},
		   "source": [
			"## Example 10.15: Find_the_clearance.sce"
		   ]
		  },
  {
"cell_type": "code",
	   "execution_count": null,
	   "metadata": {
	    "collapsed": true
	   },
	   "outputs": [],
"source": [
"//Exa 10.15\n",
"clc;\n",
"clear;\n",
"close;\n",
"//Given data :\n",
"L=300;//m\n",
"slope=1/20;\n",
"w=0.80;//kg/m\n",
"hl=30;//m\n",
"T0=1500;//kg\n",
"CD=L;//m\n",
"tan_alfa=slope;\n",
"ED=CD*tan_alfa;//m\n",
"AC=hl;//m\n",
"BE=hl;//m\n",
"BD=BE+ED;//m\n",
"//S1=w*x1^2/2/T0;//m\n",
"//S2=w*(L-x1)^2/2/T0;//m\n",
"h=15;//m\n",
"ED=h;//m\n",
"x1=L/2-T0*h/w/L;//m\n",
"S1=w*x1^2/2/T0;//m\n",
"S2=w*(L-x1)^2/2/T0;//m\n",
"OG=AC-S1-x1*tan_alfa;//m\n",
"Clearance=OG;//m\n",
"disp(Clearance,'Clearance of the lowest point from ground(m)');\n",
"//y=x*tan_alfa-OG;//m\n",
"//C1=w*x^2/2/T0-(x/20-OG)\n",
"x=T0/20/w;//m(Byy putting dC1/dx=0)\n",
"C1=w*x^2/2/T0-(x/20-OG);//m\n",
"disp(C1,'Minimum clearance(m)');"
   ]
   }
,
{
		   "cell_type": "markdown",
		   "metadata": {},
		   "source": [
			"## Example 10.16: sag_and_tension.sce"
		   ]
		  },
  {
"cell_type": "code",
	   "execution_count": null,
	   "metadata": {
	    "collapsed": true
	   },
	   "outputs": [],
"source": [
"//Exa 10.16\n",
"clc;\n",
"clear;\n",
"close;\n",
"//Given data :\n",
"L=250;//m\n",
"D=19.5;//mm\n",
"A=2.25*10^-4;//m^2\n",
"wc=0.85;//kg/m\n",
"t1=35;//degree C\n",
"t2=5;//degree C\n",
"Pw=38.5;//kg/m^2\n",
"alfa=18.44*10^-6;//per degree C\n",
"E=9320;//kg/mm^2\n",
"E=9320*10^6;//kg/m^2\n",
"Breaking_Load=8000;//kg\n",
"SF=2;//Safety factor\n",
"T1=Breaking_Load/SF;//kg\n",
"f1=T1/A;//kg/m^2\n",
"w_w=Pw*D*10^-2;//kg\n",
"w1=sqrt(wc^2+w_w^2);//kg\n",
"w2=wc;\n",
"//f2^2*[(f2-f1)+w1*L^2*E/24/f1^2/A^2+(t2-t1)*E]=w2*L^2*E/24/A^2\n",
"//f2^3-f2^2*f1-w2*L^2*E/24/A^2=0\n",
"P=[1 -1.0674*10^7 0 -3463.84*10^17];\n",
"f2=roots(P);\n",
"f2=f2(1);//kg/m^2\n",
"S=w2*L^2/8/f2/A;//m\n",
"disp(S,'Sag at erection(m)');"
   ]
   }
,
{
		   "cell_type": "markdown",
		   "metadata": {},
		   "source": [
			"## Example 10.1: Maximum_sag.sce"
		   ]
		  },
  {
"cell_type": "code",
	   "execution_count": null,
	   "metadata": {
	    "collapsed": true
	   },
	   "outputs": [],
"source": [
"//Exa 10.1\n",
"clc;\n",
"clear;\n",
"close;\n",
"//Given data :\n",
"L=200;//m\n",
"w=0.7;//kg\n",
"T=1400;//kg\n",
"S=w*L^2/(8*T);//,m\n",
"disp(S,'maximum sag(m) :');"
   ]
   }
,
{
		   "cell_type": "markdown",
		   "metadata": {},
		   "source": [
			"## Example 10.2: Height_above_ground.sce"
		   ]
		  },
  {
"cell_type": "code",
	   "execution_count": null,
	   "metadata": {
	    "collapsed": true
	   },
	   "outputs": [],
"source": [
"//Exa 10.2\n",
"clc;\n",
"clear;\n",
"close;\n",
"//Given data :\n",
"W=680;//kg/km\n",
"L=260;//m\n",
"U_strength=3100;//kg\n",
"SF=2;//safety factor\n",
"Clearance=10;//m\n",
"T=U_strength/SF;//kg\n",
"w=W/1000;//kg\n",
"S=w*L^2/(8*T);//,m\n",
"h=Clearance+S;//m\n",
"disp(h,'Height above the ground(m) :');"
   ]
   }
,
{
		   "cell_type": "markdown",
		   "metadata": {},
		   "source": [
			"## Example 10.3: Horizontal_component_of_tension_and_maximum_sag.sce"
		   ]
		  },
  {
"cell_type": "code",
	   "execution_count": null,
	   "metadata": {
	    "collapsed": true
	   },
	   "outputs": [],
"source": [
"//Exa 10.3\n",
"clc;\n",
"clear;\n",
"close;\n",
"//Given data :\n",
"w=700/1000;//kg/m\n",
"L=300;//m\n",
"Tmax=3500;//kg\n",
"\n",
"S_T0=w*L^2/8;//,m\n",
"//Tmax=T0+w*S\n",
"//T0^2-T0*Tmax-w*S_T0=0\n",
"polynomial=[1 -Tmax w*S_T0];\n",
"T0=roots(polynomial);//kg\n",
"T0=T0(1);//+ve sign taken\n",
"disp(T0,'Horizontal component of tension in kg is : ');\n",
"S=S_T0/T0;//m\n",
"disp(S,'Maximum sag in m : ');\n",
"y=S/2;//m\n",
"x=sqrt(2*y*T0/w);//m\n",
"disp(x,'Sag will be half at the point where x coordinate(in m) will be : ');"
   ]
   }
,
{
		   "cell_type": "markdown",
		   "metadata": {},
		   "source": [
			"## Example 10.4: Calculate_maximum_sag.sce"
		   ]
		  },
  {
"cell_type": "code",
	   "execution_count": null,
	   "metadata": {
	    "collapsed": true
	   },
	   "outputs": [],
"source": [
"//Exa 10.4\n",
"clc;\n",
"clear;\n",
"close;\n",
"//Given data :\n",
"L=150;//m\n",
"wc=1;//kg\n",
"A=1.25;//cm^2\n",
"U_stress=4200;//kg/cm^2\n",
"Pw=100;//kg/m^2(Wind pressure)\n",
"SF=4;//factor of safety\n",
"W_stress=U_stress/SF;//kg/cm^2\n",
"T=W_stress*A;//kg\n",
"d=sqrt(A/(%pi/4));//cm\n",
"w_w=Pw*d*10^-2;//kg\n",
"wr=sqrt(wc^2+w_w^2);//kg\n",
"S=wr*L^2/8/T;//m\n",
"disp(S,'Maximum sag(m)');"
   ]
   }
,
{
		   "cell_type": "markdown",
		   "metadata": {},
		   "source": [
			"## Example 10.5: Calculate_the_sag.sce"
		   ]
		  },
  {
"cell_type": "code",
	   "execution_count": null,
	   "metadata": {
	    "collapsed": true
	   },
	   "outputs": [],
"source": [
"//Exa 10.5\n",
"clc;\n",
"clear;\n",
"close;\n",
"//Given data :\n",
"L=160;//m\n",
"d=0.95;//cm\n",
"wc=0.65;//kg/m\n",
"U_stress=4250;//kg/cm^2\n",
"Pw=40;//kg/m^2(Wind pressure)\n",
"SF=5;//factor of safety\n",
"W_stress=U_stress/SF;//kg/cm^2\n",
"T=W_stress*%pi/4*d^2;//kg\n",
"w_w=Pw*d*10^-2;//kg\n",
"wr=sqrt(wc^2+w_w^2);//kg\n",
"S=wr*L^2/8/T;//m\n",
"disp(round(S),'Sag(meter)');"
   ]
   }
,
{
		   "cell_type": "markdown",
		   "metadata": {},
		   "source": [
			"## Example 10.6: Calculate_the_maximum_sag.sce"
		   ]
		  },
  {
"cell_type": "code",
	   "execution_count": null,
	   "metadata": {
	    "collapsed": true
	   },
	   "outputs": [],
"source": [
"//Exa 10.6\n",
"clc;\n",
"clear;\n",
"close;\n",
"//Given data :\n",
"L=180;//m\n",
"D=1.27;//cm\n",
"Pw=33.7;//kg/m^2(Wind pressure)\n",
"r=1.25;//cm\n",
"wc=1.13;//kg/cm^2\n",
"U_stress=4220;//kg/cm^2\n",
"SF=5;//factor of safety\n",
"W_stress=U_stress/SF;//kg/cm^2\n",
"T=W_stress*%pi/4*D^2;//kg\n",
"S=wc*L^2/8/T;//msag in air\n",
"disp(S,'Sag in still air(meter)');\n",
"w1=2890.3*r*10^-2*(D+r)*10^-2;//kg/m\n",
"w_w=Pw*(D+2*r)*10^-2;//kg\n",
"wr=sqrt((wc+w1)^2+w_w^2);//kg\n",
"Smax=wr*L^2/8/T;//msag in air\n",
"disp(Smax,'Maximum Sag(meter)');"
   ]
   }
,
{
		   "cell_type": "markdown",
		   "metadata": {},
		   "source": [
			"## Example 10.7: Calculate_the_maximum_sag.sce"
		   ]
		  },
  {
"cell_type": "code",
	   "execution_count": null,
	   "metadata": {
	    "collapsed": true
	   },
	   "outputs": [],
"source": [
"//Exa 10.7\n",
"clc;\n",
"clear;\n",
"close;\n",
"//Given data :\n",
"D=19.5;//mm\n",
"wc=0.85;//kg/m\n",
"L=275;//m\n",
"Pw=39;//kg/m^2(Wind pressure)\n",
"r=13;//mm\n",
"U_stress=8000;//kg/cm^2\n",
"SF=2;//factor of safety\n",
"rho_i=910;//kg/m^3(density of ice)\n",
"T=U_stress/SF;//kg\n",
"wi=rho_i*%pi*r*10^-3*(D+r)*10^-3;//kg\n",
"w_w=Pw*(D+2*r)*10^-3;//kg\n",
"wr=sqrt((wc+wi)^2+w_w^2);//kg\n",
"Smax=wr*L^2/8/T;//msag in air\n",
"disp(Smax,'Maximum Sag(meter)');"
   ]
   }
,
{
		   "cell_type": "markdown",
		   "metadata": {},
		   "source": [
			"## Example 10.8: Calculate_the_maximum_sag.sce"
		   ]
		  },
  {
"cell_type": "code",
	   "execution_count": null,
	   "metadata": {
	    "collapsed": true
	   },
	   "outputs": [],
"source": [
"//Exa 10.8\n",
"clc;\n",
"clear;\n",
"close;\n",
"//Given data :\n",
"wc=1;//kg/m\n",
"L=280;//m\n",
"D=20;//mm\n",
"r=10;//mm\n",
"Pw=40;//kg/m^2(Wind pressure)\n",
"rho_i=910;//kg/m^3(density of ice)\n",
"U_stress=10000;//kg/cm^2\n",
"SF=2;//factor of safety\n",
"wi=rho_i*%pi*r*10^-3*(D+r)*10^-3;//kg\n",
"w_w=Pw*(D+2*r)*10^-3;//kg\n",
"wr=sqrt((wc+wi)^2+w_w^2);//kg(Resultant force per m length of conductor)\n",
"T=U_stress/SF;//kg\n",
"Smax=wr*L^2/8/T;//msag in air\n",
"disp(Smax,'Maximum Sag(meter)');"
   ]
   }
,
{
		   "cell_type": "markdown",
		   "metadata": {},
		   "source": [
			"## Example 10.9: Sag_in_inclined_and_vertical_direction.sce"
		   ]
		  },
  {
"cell_type": "code",
	   "execution_count": null,
	   "metadata": {
	    "collapsed": true
	   },
	   "outputs": [],
"source": [
"//Exa 10.9\n",
"clc;\n",
"clear;\n",
"close;\n",
"//Given data :\n",
"L=250;//m\n",
"D=1.42;//cm\n",
"wc=1.09;//kg/m\n",
"Pw=37.8;//kg/m^2(Wind pressure)\n",
"r=1.25;//cm\n",
"Lis=1.43;//m(insulator string length)\n",
"Clearance=7.62;//m\n",
"rho_i=913.5;//kg/m^3(density of ice)\n",
"stress=1050;//kg/cm^2\n",
"T=stress*%pi/4*D^2;//kg\n",
"wi=rho_i*%pi*r*10^-2*(D+r)*10^-2;//kg\n",
"w_w=Pw*(D+2*r)*10^-2;//kg\n",
"wr=sqrt((wc+wi)^2+w_w^2);//kg(Resultant force per m length of conductor)\n",
"Smax=wr*L^2/8/T;//max sag in air\n",
"disp(Smax,'Sag in inclined direction(meter)');\n",
"Sdash=Smax*(wc+wi)/wr;//max sag in air\n",
"disp(Sdash,'Sag in vertical direction(meter)');\n",
"h=Clearance+Sdash+Lis;//m\n",
"disp(h,'Height of lowest cross arm(m)');"
   ]
   }
],
"metadata": {
		  "kernelspec": {
		   "display_name": "Scilab",
		   "language": "scilab",
		   "name": "scilab"
		  },
		  "language_info": {
		   "file_extension": ".sce",
		   "help_links": [
			{
			 "text": "MetaKernel Magics",
			 "url": "https://github.com/calysto/metakernel/blob/master/metakernel/magics/README.md"
			}
		   ],
		   "mimetype": "text/x-octave",
		   "name": "scilab",
		   "version": "0.7.1"
		  }
		 },
		 "nbformat": 4,
		 "nbformat_minor": 0
}
