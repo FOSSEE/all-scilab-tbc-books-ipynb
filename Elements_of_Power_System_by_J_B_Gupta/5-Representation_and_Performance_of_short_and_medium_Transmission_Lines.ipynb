{
"cells": [
 {
		   "cell_type": "markdown",
	   "metadata": {},
	   "source": [
       "# Chapter 5: Representation and Performance of short and medium Transmission Lines"
	   ]
	},
{
		   "cell_type": "markdown",
		   "metadata": {},
		   "source": [
			"## Example 5.10: Voltage_Regulation_Current_Efficiency.sce"
		   ]
		  },
  {
"cell_type": "code",
	   "execution_count": null,
	   "metadata": {
	    "collapsed": true
	   },
	   "outputs": [],
"source": [
"//Exa 5.10\n",
"clc;\n",
"clear;\n",
"close;\n",
"//Given data :\n",
"l=200;//km\n",
"P=50;//MVA\n",
"VRL=132*10^3;//Volt\n",
"f=50;//Hz\n",
"R=l*0.15;//ohm\n",
"X=l*0.50;//ohm\n",
"Y=l*2*10^-6;//mho\n",
"pf=0.85;//power factor\n",
"cos_fi_r=pf;\n",
"sin_fi_r=sqrt(1-cos_fi_r^2);\n",
"VR=VRL/sqrt(3);//Volt\n",
"IR=P*10^6/(sqrt(3)*VRL);//A\n",
"Z=R+%i*X;//ohm\n",
"IR=IR*(cos_fi_r-%i*sin_fi_r);//A\n",
"Vdash=VR+1/2*IR*Z;//Volt\n",
"IC=Vdash*%i*Y;//A\n",
"IS=IR+IC;//A\n",
"disp('Sending end current(A), magnitude is '+string(abs(IS))+' and angle in degree is '+string(atand(imag(IS),real(IS))));\n",
"VS=Vdash+1/2*IS*Z;//Volt\n",
"VSL=abs(VS)*sqrt(3);//Volt\n",
"disp(VSL/1000,'Sending end line voltage(kV) :');\n",
"Reg=(VSL-VRL)/VRL*100;//%\n",
"disp(Reg,'Regulation(%) :  ');\n",
"fi_s=atand(imag(VS),real(VS))-atand(imag(IS),real(IS));//\n",
"cos_fi_s=cosd(fi_s);//sending end pf\n",
"Eta_T=sqrt(3)*VRL*abs(IR)*cos_fi_r/(sqrt(3)*VSL*abs(IS)*cos_fi_s)*100;//%\n",
"disp(Eta_T,'Transmission Efficiency(%) : ');\n",
"//Ans is wrong in the book.Angle of VS is calculated wrong leads to wrong answers."
   ]
   }
,
{
		   "cell_type": "markdown",
		   "metadata": {},
		   "source": [
			"## Example 5.11: Voltage_Current_PF.sce"
		   ]
		  },
  {
"cell_type": "code",
	   "execution_count": null,
	   "metadata": {
	    "collapsed": true
	   },
	   "outputs": [],
"source": [
"//Exa 5.11\n",
"clc;\n",
"clear;\n",
"close;\n",
"//Given data :\n",
"S=1*10^3;//kVA\n",
"pf=0.71;//power factor\n",
"VRL=22*10^3;//Volt\n",
"f=50;//Hz\n",
"R=15;//ohm\n",
"L=0.2;//H\n",
"C=0.5*10^-6;//F\n",
"cos_fi_r=pf;\n",
"sin_fi_r=sqrt(1-cos_fi_r^2);\n",
"IR=S*10^3/VRL;//A\n",
"IR=IR*(cos_fi_r-%i*sin_fi_r);//A\n",
"X=2*%pi*f*L;//ohm\n",
"//Z=sqrt(R^2+X^2);//ohm\n",
"Z=R+%i*X;//ohm\n",
"Y=2*%pi*f*C;//S\n",
"ICR=1/2*%i*Y*VRL;//A\n",
"IL=IR+ICR;//A\n",
"VS=VRL+IL*Z;//Volt\n",
"disp('Sending end voltage(Volt), magnitude is '+string(abs(VS))+' and angle in degree is '+string(atand(imag(VS),real(VS))));\n",
"ICS=1/2*%i*Y*VS;//A\n",
"IS=IL+ICS;//A\n",
"disp('Sending end current(A), magnitude is '+string(abs(IS))+' and angle in degree is '+string(atand(imag(IS),real(IS))));\n",
"fi_s=atand(imag(VS),real(VS))-atand(imag(IS),real(IS));//\n",
"cos_fi_s=cosd(fi_s);//sending end pf\n",
"disp(cos_fi_s,'Sending end power factor(lag) : ');"
   ]
   }
,
{
		   "cell_type": "markdown",
		   "metadata": {},
		   "source": [
			"## Example 5.12: Sending_End_Voltage.sce"
		   ]
		  },
  {
"cell_type": "code",
	   "execution_count": null,
	   "metadata": {
	    "collapsed": true
	   },
	   "outputs": [],
"source": [
"//Exa 5.12\n",
"clc;\n",
"clear;\n",
"close;\n",
"//Given data :\n",
"P=50*10^6;//W\n",
"f=50;//Hz\n",
"l=150;//km\n",
"pf=0.8;//power factor\n",
"VRL=110*10^3;//Volt\n",
"VR=VRL/sqrt(3);//Volt\n",
"cos_fi_r=pf;\n",
"sin_fi_r=sqrt(1-cos_fi_r^2);\n",
"R=0.1*l;//ohm\n",
"XL=0.5*l;//ohm\n",
"Z=R+%i*XL;//ohm\n",
"IR=P/(sqrt(3)*VRL*pf);//A\n",
"IR=IR*(cos_fi_r-%i*sin_fi_r);//A\n",
"Y=3*10^-6*l;//S\n",
"ICR=1/2*%i*Y*VR;//A\n",
"IL=IR+ICR;//A\n",
"VS=VR+IL*Z;//Volt\n",
"VSL=sqrt(3)*abs(VS);//Volt\n",
"disp(VSL/1000,'Sending end line to line voltage(kV) :');"
   ]
   }
,
{
		   "cell_type": "markdown",
		   "metadata": {},
		   "source": [
			"## Example 5.13: Voltage_Current_and_PF.sce"
		   ]
		  },
  {
"cell_type": "code",
	   "execution_count": null,
	   "metadata": {
	    "collapsed": true
	   },
	   "outputs": [],
"source": [
"//Exa 5.13\n",
"clc;\n",
"clear;\n",
"close;\n",
"//Given data :\n",
"f=50;//Hz\n",
"l=30;//km\n",
"Z=40+%i*125;//ohm\n",
"Y=10^-3;//mho\n",
"P=50*10^6;//W\n",
"VRL=220*10^3;//Volt\n",
"VR=VRL/sqrt(3);//Volt\n",
"pf=0.8;//power factor\n",
"cos_fi_r=pf;\n",
"sin_fi_r=sqrt(1-cos_fi_r^2);\n",
"IR=P/(sqrt(3)*VRL*pf);//A\n",
"IR=IR*(cos_fi_r-%i*sin_fi_r);//A\n",
"ICR=1/2*%i*Y*VR;//A\n",
"IL=IR+ICR;//A\n",
"VS=VR+IL*Z;//Volt\n",
"VSL=sqrt(3)*abs(VS);//Volt\n",
"disp(VSL/1000,'Sending end line to line voltage(kV) :');\n",
"IS=IL+1/2*%i*Y*VS;//A\n",
"disp('Sending end current(A), magnitude is '+string(abs(IS))+' and angle in degree is '+string(atand(imag(IS),real(IS))));\n",
"fi_s=atand(imag(VS),real(VS))-atand(imag(IS),real(IS));//\n",
"cos_fis=cosd(fi_s);//sending end pf\n",
"disp(cos_fis,'Sending end power factor(lag) : ');"
   ]
   }
,
{
		   "cell_type": "markdown",
		   "metadata": {},
		   "source": [
			"## Example 5.14: Sending_End_Voltage.sce"
		   ]
		  },
  {
"cell_type": "code",
	   "execution_count": null,
	   "metadata": {
	    "collapsed": true
	   },
	   "outputs": [],
"source": [
"//Exa 5.14\n",
"clc;\n",
"clear;\n",
"close;\n",
"//Given data :\n",
"f=50;//Hz\n",
"l=30;//km\n",
"Z=40+%i*125;//ohm\n",
"Y=10^-3;//mho\n",
"P=50*10^6;//W\n",
"VRL=220*10^3;//Volt\n",
"VR=VRL/sqrt(3);//Volt\n",
"pf=0.8;//power factor\n",
"cos_fi_r=pf;\n",
"sin_fi_r=sqrt(1-cos_fi_r^2);\n",
"IR=P/(sqrt(3)*VRL*pf);//A\n",
"IR=IR*(cos_fi_r-%i*sin_fi_r);//A\n",
"ICR=1/2*%i*Y*VR;//A\n",
"IL=IR+ICR;//A\n",
"VS=VR+IL*Z;//Volt\n",
"VSL=sqrt(3)*abs(VS);//Volt\n",
"disp(VSL/1000,'Sending end line to line voltage(kV) :');"
   ]
   }
,
{
		   "cell_type": "markdown",
		   "metadata": {},
		   "source": [
			"## Example 5.15: Voltage_Efficiency_and_PF.sce"
		   ]
		  },
  {
"cell_type": "code",
	   "execution_count": null,
	   "metadata": {
	    "collapsed": true
	   },
	   "outputs": [],
"source": [
"//Exa 5.15\n",
"clc;\n",
"clear;\n",
"close;\n",
"//Given data :\n",
"f=50;//Hz\n",
"l=100;//km\n",
"P=50*10^6;//W\n",
"pf=0.8;//power factor\n",
"cos_fi_r=pf;\n",
"sin_fi_r=sqrt(1-cos_fi_r^2);\n",
"VRL=132*10^3;//Volt\n",
"VR=VRL/sqrt(3);//Volt\n",
"R=0.1*l;//ohm\n",
"XL=0.3*l;//ohm\n",
"Z=R+%i*XL;//ohm\n",
"Y=3*10^-6*l;//S\n",
"IR=P/(sqrt(3)*VRL*pf);//A\n",
"IR=IR*(cos_fi_r-%i*sin_fi_r);//A\n",
"ICR=1/2*%i*Y*VR;//A\n",
"IL=IR+ICR;//A\n",
"VS=VR+IL*Z;//Volt\n",
"VSL=sqrt(3)*abs(VS);//Volt\n",
"disp(VSL/1000,'Sending end line voltage(kV) :');\n",
"ICS=1/2*%i*Y*VS;//A\n",
"IS=IL+ICS;//A\n",
"fi_s=atand(imag(VS),real(VS))-atand(imag(IS),real(IS));//\n",
"cos_fi_s=cosd(fi_s);//sending end pf\n",
"disp(cos_fi_s,'Sending end power factor(lag) : ');\n",
"Eta_T=sqrt(3)*VRL*abs(IR)*cos_fi_r/(sqrt(3)*VSL*abs(IS)*cos_fi_s)*100;//%\n",
"disp(Eta_T,'Transmission Efficiency(%) : ');"
   ]
   }
,
{
		   "cell_type": "markdown",
		   "metadata": {},
		   "source": [
			"## Example 5.16: Voltage_at_mid_point.sce"
		   ]
		  },
  {
"cell_type": "code",
	   "execution_count": null,
	   "metadata": {
	    "collapsed": true
	   },
	   "outputs": [],
"source": [
"//Exa 5.16\n",
"clc;\n",
"clear;\n",
"close;\n",
"//Given data :\n",
"f=50;//Hz\n",
"l=10;//km\n",
"S1=5000*10^3;//VA\n",
"S2=10000*10^3;//VA\n",
"pf=0.8;//power factor\n",
"cos_fi_r=pf;\n",
"sin_fi_r=sqrt(1-cos_fi_r^2);\n",
"pf2=0.7071;//power factor\n",
"cos_fi_r2=pf2;\n",
"sin_fi_r2=sqrt(1-cos_fi_r2^2);\n",
"R=0.6*l;//ohm\n",
"XL=1.5*l;//ohm\n",
"VRL=33*10^3;//Volt\n",
"VR=VRL/sqrt(3);//Volt\n",
"I1=S1/(sqrt(3)*VRL);//A\n",
"I1=I1*(cos_fi_r-%i*sin_fi_r);//A\n",
"Z1=R+%i*XL;//ohm\n",
"VB=VR+I1*Z1;//Volt\n",
"VBL=sqrt(3)*abs(VB);//Volt\n",
"disp(VBL/1000,'Line voltage at mid point(kV) : ');\n",
"I2=S2/(sqrt(3)*VBL);//A\n",
"I2=I2*(cos_fi_r2-%i*sin_fi_r2);//A\n",
"I=I1+I2;//A\n",
"disp('Total current(A), magnitude is '+string(abs(I))+' and angle in degree is '+string(atand(imag(I),real(I))));\n",
"Z2=R+%i*XL;//ohm\n",
"VS=VB+I*Z2;//Volt\n",
"VSL=sqrt(3)*abs(VS);//Volt\n",
"disp(VSL/1000,'Sending end line voltage(kV) :');"
   ]
   }
,
{
		   "cell_type": "markdown",
		   "metadata": {},
		   "source": [
			"## Example 5.17: kVA_supplied_and_Power_supplied.sce"
		   ]
		  },
  {
"cell_type": "code",
	   "execution_count": null,
	   "metadata": {
	    "collapsed": true
	   },
	   "outputs": [],
"source": [
"//Exa 5.17\n",
"clc;\n",
"clear;\n",
"close;\n",
"//Given data :\n",
"P=10;//MWatt\n",
"pf=0.8;//power factor\n",
"VRL=30*10^3;//Volt\n",
"R1=5.5;//ohm\n",
"XL1=13.5;//ohm\n",
"R2=6;//ohm\n",
"XL2=11;//ohm\n",
"ZA=R1+%i*XL1;//ohm\n",
"ZB=R2+%i*XL2;//ohm\n",
"S=P*10^3/pf*expm(%i*%pi/180*(-36.52));//kVA\n",
"SA=S*ZB/(ZA+ZB);//kVA\n",
"disp('Load supply by line A(kVA), magnitude is '+string(abs(SA))+' at pf '+string(cosd(atand(imag(SA),real(SA)))));\n",
"SB=S*ZA/(ZA+ZB);//kVA\n",
"disp('Load supply by line B(kVA), magnitude is '+string(abs(SB))+' and angle in degree is '+string(cosd(atand(imag(SB),real(SB)))));\n",
"PA=abs(SA)*(cosd(atand(imag(SA),real(SA))));//kW\n",
"disp(PA,'Power supplied by line A(kW) : ');\n",
"PB=abs(SB)*(cosd(atand(imag(SB),real(SB))));//kW\n",
"disp(PB,'Power supplied by line B(kW) : ');\n",
"//Answer is not accurate in the book."
   ]
   }
,
{
		   "cell_type": "markdown",
		   "metadata": {},
		   "source": [
			"## Example 5.18: Rise_in_Voltage.sce"
		   ]
		  },
  {
"cell_type": "code",
	   "execution_count": null,
	   "metadata": {
	    "collapsed": true
	   },
	   "outputs": [],
"source": [
"//Exa 5.18\n",
"clc;\n",
"clear;\n",
"close;\n",
"//Given data :\n",
"L=200;//km\n",
"f=50;//Hz\n",
"omega=2*%pi*f;//rad/s\n",
"Rise=omega^2*L^2*10^-8/18;//%\n",
"disp(Rise,'Percentage rise in voltage : ');"
   ]
   }
,
{
		   "cell_type": "markdown",
		   "metadata": {},
		   "source": [
			"## Example 5.19: Find_A_B_C_D_parameters.sce"
		   ]
		  },
  {
"cell_type": "code",
	   "execution_count": null,
	   "metadata": {
	    "collapsed": true
	   },
	   "outputs": [],
"source": [
"//Exa 5.19\n",
"clc;\n",
"clear;\n",
"close;\n",
"//Given data :\n",
"L=80;//km\n",
"f=50;//Hz\n",
"Z=(0.15+%i*0.78)*L;//ohm\n",
"Y=(%i*5*10^-6)*L;//mho\n",
"A=1+1/2*Y*Z;//parameter of 3-phase line\n",
"D=A;//parameter of 3-phase line\n",
"B=Z*(1+1/4*Y*Z);//parameter of 3-phase line\n",
"C=Y;//parameter of 3-phase line\n",
"disp(A,'Parameter A : ');\n",
"disp(B,'Parameter B : ');\n",
"disp(C,'Parameter C : ');\n",
"disp(D,'Parameter D : ');\n",
"//Answer of B is wrong in the book."
   ]
   }
,
{
		   "cell_type": "markdown",
		   "metadata": {},
		   "source": [
			"## Example 5.1: Voltage_Regulation_and_Efficiency.sce"
		   ]
		  },
  {
"cell_type": "code",
	   "execution_count": null,
	   "metadata": {
	    "collapsed": true
	   },
	   "outputs": [],
"source": [
"//Exa 5.1\n",
"clc;\n",
"clear;\n",
"close;\n",
"//Given data :\n",
"P=1100;//kW\n",
"VR=11*1000;//V\n",
"pf=0.8;//power factor\n",
"R=2;//ohm\n",
"X=3;//ohm\n",
"I=P*1000/VR/pf;//A\n",
"cos_fi_r=pf;\n",
"sin_fi_r=sqrt(1-cos_fi_r^2);\n",
"VS=sqrt((VR*cos_fi_r+I*R)^2+(VR*sin_fi_r+I*X)^2);//V\n",
"disp(VS,'Voltage at sending end(V)');\n",
"Reg=(VS-VR)/VR*100;//%\n",
"disp(Reg,'% Regulation');\n",
"LineLoss=I^2*R/1000;//kW\n",
"Eta_T=P*100/(P+LineLoss);//%\n",
"disp(Eta_T,'Transmission Efficiency(%)');"
   ]
   }
,
{
		   "cell_type": "markdown",
		   "metadata": {},
		   "source": [
			"## Example 5.20: ABCD_constant_Voltage_and_Efficiency.sce"
		   ]
		  },
  {
"cell_type": "code",
	   "execution_count": null,
	   "metadata": {
	    "collapsed": true
	   },
	   "outputs": [],
"source": [
"//Exa 5.20\n",
"clc;\n",
"clear;\n",
"close;\n",
"//Given data :\n",
"Z=200*expm(%i*%pi/180*80);//ohm\n",
"Y=0.0013*expm(%i*%pi/180*90);//mho/phase\n",
"P=80*10^6;//W\n",
"pf=0.8;//power factor\n",
"cos_fi_r=pf;\n",
"sin_fi_r=sqrt(1-cos_fi_r^2);\n",
"VRL=220*10^3;//Volt\n",
"VR=VRL/sqrt(3);//Volt\n",
"f=50;//Hz\n",
"IR=P/(sqrt(3)*VRL*pf);//A\n",
"IR=IR*(cos_fi_r-%i*sin_fi_r);//A\n",
"A=1+1/2*Y*Z;//parameter of 3-phase line\n",
"D=A;//parameter of 3-phase line\n",
"B=Z*(1+1/4*Y*Z);//parameter of 3-phase line\n",
"C=Y;//parameter of 3-phase line\n",
"disp('Parameter A, magnitude is '+string(abs(A))+' and angle in degree is '+string(atand(imag(A),real(A))));\n",
"disp('Parameter B, magnitude is '+string(abs(B))+' and angle in degree is '+string(atand(imag(B),real(B))));\n",
"disp('Parameter C, magnitude is '+string(abs(C))+' and angle in degree is '+string(atand(imag(C),real(C))));\n",
"disp('Parameter D, magnitude is '+string(abs(D))+' and angle in degree is '+string(atand(imag(D),real(D))));\n",
"VS=A*VR+B*IR;//Volt\n",
"VSL=sqrt(3)*abs(VS);//Volt\n",
"disp(VSL/1000,'Sending end Line voltage(kV) : ');\n",
"IS=C*VR+D*IR;//A\n",
"disp('Sending end current(A), magnitude is '+string(abs(IS))+' and angle in degree is '+string(atand(imag(IS),real(IS))));\n",
"fi_s=atand(imag(VS),real(VS))-atand(imag(IS),real(IS));//\n",
"cos_fis=cosd(fi_s);//sending end pf\n",
"disp(cos_fis,'Sending end power factor(lag) : ');\n",
"Pin=sqrt(3)*VSL*abs(IS)*cos_fis*10^-6;//MW\n",
"disp(Pin,'Power Input(MW) : ');\n",
"Eta=P/(Pin*10^6)*100;//%\n",
"disp(Eta,'Transmission Efficiency(%) : ');"
   ]
   }
,
{
		   "cell_type": "markdown",
		   "metadata": {},
		   "source": [
			"## Example 5.21: Voltage_Current_Power_and_efficiency.sce"
		   ]
		  },
  {
"cell_type": "code",
	   "execution_count": null,
	   "metadata": {
	    "collapsed": true
	   },
	   "outputs": [],
"source": [
"//Exa 5.21\n",
"clc;\n",
"clear;\n",
"close;\n",
"//Given data :\n",
"P=50*10^6;//VA\n",
"pf=0.8;//power factor\n",
"cos_fi_r=pf;\n",
"sin_fi_r=sqrt(1-cos_fi_r^2);\n",
"A=0.98*expm(%i*%pi/180*3);//parameter of 3-phase line\n",
"D=0.98*expm(%i*%pi/180*3);//parameter of 3-phase line\n",
"B=110*expm(%i*%pi/180*75);//parameter of 3-phase line\n",
"C=0.0005*expm(%i*%pi/180*80);//parameter of 3-phase line\n",
"VRL=110*10^3;//Volt\n",
"VR=VRL/sqrt(3);//Volt\n",
"IR=P/(sqrt(3)*VRL);//A\n",
"IR=IR*(cos_fi_r-%i*sin_fi_r);//A\n",
"VS=A*VR+B*IR;//Volt\n",
"VSL=sqrt(3)*abs(VS);//Volt\n",
"disp(VSL/1000,'Sending end Line voltage(kV) : ');\n",
"IS=C*VR+D*IR;//A\n",
"disp('Sending end current(A), magnitude is '+string(abs(IS))+' and angle in degree is '+string(atand(imag(IS),real(IS))));\n",
"fi_s=atand(imag(VS),real(VS))-atand(imag(IS),real(IS));//\n",
"cos_fis=cosd(fi_s);//sending end pf\n",
"disp(cos_fis,'Sending end power factor(lag) : ');\n",
"Pin=sqrt(3)*VSL*abs(IS)*cos_fis*10^-6;//MW\n",
"disp(Pin,'Power Input(MW) : ');\n",
"Eta=P*pf/(Pin*10^6)*100;//%\n",
"disp(Eta,'Transmission Efficiency(%) : ');"
   ]
   }
,
{
		   "cell_type": "markdown",
		   "metadata": {},
		   "source": [
			"## Example 5.22: ABCD_constant_power_and_voltage.sce"
		   ]
		  },
  {
"cell_type": "code",
	   "execution_count": null,
	   "metadata": {
	    "collapsed": true
	   },
	   "outputs": [],
"source": [
"//Exa 5.22\n",
"clc;\n",
"clear;\n",
"close;\n",
"//Given data :\n",
"f=50;//Hz\n",
"L=300;//km\n",
"r=0.15;//ohm/km\n",
"x=0.5;//ohm/km\n",
"y=3*10^-6;//mho/km\n",
"VRL=220*10^3;//Volt\n",
"VR=VRL/sqrt(3);//Volt\n",
"P=200*10^6;//W\n",
"pf=0.85;//power factor\n",
"cos_fi_r=pf;\n",
"sin_fi_r=sqrt(1-cos_fi_r^2);\n",
"R=r*L;//ohm\n",
"X=x*L;//ohm\n",
"Y=y*L;//mho\n",
"Z=R+%i*X;//ohm\n",
"//part (i)\n",
"A=1+1/2*%i*Y*Z;//parameter of 3-phase line\n",
"D=A;//parameter of 3-phase line\n",
"B=Z;//parameter of 3-phase line\n",
"C=%i*Y*(1+1/4*%i*Y*Z);//parameter of 3-phase line\n",
"disp('Parameter A, magnitude is '+string(abs(A))+' and angle in degree is '+string(atand(imag(A),real(A))));\n",
"disp('Parameter B, magnitude is '+string(abs(B))+' and angle in degree is '+string(atand(imag(B),real(B))));\n",
"disp('Parameter C, magnitude is '+string(abs(C))+' and angle in degree is '+string(atand(imag(C),real(C))));\n",
"disp('Parameter D, magnitude is '+string(abs(D))+' and angle in degree is '+string(atand(imag(D),real(D))));\n",
"//part (ii)\n",
"IR=poly(0,'IR');\n",
"p=0.024525*IR^2+11.427*IR-2102;//from VS=A*VR+B*IR;//Volt\n",
"IR=roots(p);\n",
"IR=IR(2);//taking +ve value\n",
"P=sqrt(3)*VRL*IR*10^-6;//MW\n",
"disp(P,'Power received in MW : ');\n",
"///part (iii)\n",
"P=200*10^6;//W\n",
"IR=P/sqrt(3)/VRL/pf;//A\n",
"fi=acosd(pf);//degree\n",
"IR=IR*expm(%i*-fi*%pi/180);\n",
"VS=A*VR+B*IR;//Volt\n",
"VSL=sqrt(3)*abs(VS);//Volt\n",
"disp(VSL/1000,'Sending end Line voltage(kV) : ');"
   ]
   }
,
{
		   "cell_type": "markdown",
		   "metadata": {},
		   "source": [
			"## Example 5.23: Voltage_current_power_and_egulation.sce"
		   ]
		  },
  {
"cell_type": "code",
	   "execution_count": null,
	   "metadata": {
	    "collapsed": true
	   },
	   "outputs": [],
"source": [
"//Exa 5.23\n",
"clc;\n",
"clear;\n",
"close;\n",
"//Given data :\n",
"A=0.936+%i*0.016;//parameter of 3-phase line\n",
"D=A;//parameter of 3-phase line\n",
"B=33.5+%i*138;//parameter of 3-phase line\n",
"C=(-0.9280+%i*901.223)*10^-6;//parameter of 3-phase line\n",
"VRL=200*10^3;//Volt\n",
"VR=VRL/sqrt(3);//Volt\n",
"P=40*10^6;//W\n",
"pf=0.86;//power factor\n",
"cos_fi_r=pf;\n",
"sin_fi_r=sqrt(1-cos_fi_r^2);\n",
"IR=P/sqrt(3)/VRL/pf;//A\n",
"fi=acosd(pf);//degree\n",
"IR=IR*expm(%i*-fi*%pi/180);\n",
"VS=A*VR+B*IR;//Volt\n",
"VSL=sqrt(3)*abs(VS);//Volt\n",
"disp(VSL/1000,'Sending end Line voltage(kV) : ');\n",
"IS=C*VR+D*IR;//A\n",
"disp('Sending end current(A), magnitude is '+string(abs(IS))+' and angle in degree is '+string(atand(imag(IS),real(IS))));\n",
"fi_s=atand(imag(IS),real(IS))-atand(imag(VS),real(VS));//degree\n",
"disp(cosd(fi_s),fi_s,'Sending end phase angle(degree) & power factor(leading): ');\n",
"Ps=sqrt(3)*abs(VSL)*abs(IS)*cosd(fi_s)*10^-6;//MW\n",
"disp(Ps,'Sending end power(MW) : ');\n",
"Vreg=(VSL-VRL)*100/VRL;//%\n",
"disp(Vreg,'Voltage regulation in % : ');"
   ]
   }
,
{
		   "cell_type": "markdown",
		   "metadata": {},
		   "source": [
			"## Example 5.24: Sending_end_voltage_and_current.sce"
		   ]
		  },
  {
"cell_type": "code",
	   "execution_count": null,
	   "metadata": {
	    "collapsed": true
	   },
	   "outputs": [],
"source": [
"//Exa 5.24\n",
"clc;\n",
"clear;\n",
"close;\n",
"//Given data :\n",
"A1=0.98*expm(%i*2*%pi/180);//parameter of 3-phase line\n",
"D1=A1;//parameter of 3-phase line\n",
"B1=28*expm(%i*69*%pi/180);//parameter of 3-phase line\n",
"C1=0.0002*expm(%i*88*%pi/180);//parameter of 3-phase line\n",
"A2=0.95*expm(%i*3*%pi/180);//parameter of 3-phase line\n",
"D2=A2;//parameter of 3-phase line\n",
"B2=40*expm(%i*85*%pi/180);//parameter of 3-phase line\n",
"C2=0.0004*expm(%i*90*%pi/180);//parameter of 3-phase line\n",
"VRL=110*10^3;//Volt\n",
"VR=VRL/sqrt(3);//Volt\n",
"IR=200;//A\n",
"pf=0.95;//power factor\n",
"cos_fi_r=pf;\n",
"sin_fi_r=sqrt(1-cos_fi_r^2);\n",
"fi=acosd(pf);//degree\n",
"A=A1*A2+B1*C2;//generalized parameter of 2 line\n",
"B=A1*B2+B1*D2;//generalized parameter of 2 line\n",
"C=C1*A2+D1*C2;//generalized parameter of 2 line\n",
"D=C1*B2+D1*D2;//generalized parameter of 2 line\n",
"IR=IR*expm(%i*-fi*%pi/180);\n",
"VS=A*VR+B*IR;//Volt\n",
"VSL=sqrt(3)*abs(VS);//Volt\n",
"disp(VSL/1000,'Sending end Line voltage(kV) : ');\n",
"IS=C*VR+D*IR;//A\n",
"disp('Sending end current(A), magnitude is '+string(abs(IS))+' and angle in degree is '+string(atand(imag(IS),real(IS))));\n",
"//Answer for VSL is wrong in the book."
   ]
   }
,
{
		   "cell_type": "markdown",
		   "metadata": {},
		   "source": [
			"## Example 5.25: ABCD_constant_and_power_factor.sce"
		   ]
		  },
  {
"cell_type": "code",
	   "execution_count": null,
	   "metadata": {
	    "collapsed": true
	   },
	   "outputs": [],
"source": [
"//Exa 5.25\n",
"clc;\n",
"clear;\n",
"close;\n",
"//Given data :\n",
"A1=0.98*expm(%i*1*%pi/180);//parameter of 3-phase line\n",
"D1=A1;//parameter of 3-phase line\n",
"B1=100*expm(%i*75*%pi/180);//parameter of 3-phase line\n",
"C1=0.0005*expm(%i*90*%pi/180);//parameter of 3-phase line\n",
"A2=0.98*expm(%i*1*%pi/180);//parameter of 3-phase line\n",
"D2=A2;//parameter of 3-phase line\n",
"B2=100*expm(%i*75*%pi/180);//parameter of 3-phase line\n",
"C2=0.0005*expm(%i*90*%pi/180);//parameter of 3-phase line\n",
"P=100*10^6;//W\n",
"VRL=132*10^3;//Volt\n",
"VR=VRL/sqrt(3);//Volt\n",
"pf=0.8;//power factor\n",
"cos_fi_r=pf;\n",
"sin_fi_r=sqrt(1-cos_fi_r^2);\n",
"fi=acosd(pf);//degree\n",
"A=(A1*B2+A2*B1)/(B1+B2);//generalized parameter of 2 line\n",
"B=B1*B2/(B1+B2);//generalized parameter of 2 line\n",
"C=C1+C2-(A1-A2)*(D1-D2)/(B1+B2);//generalized parameter of 2 line\n",
"D=(B1*D2+B2*D1)/(B1+B2);//generalized parameter of 2 line\n",
"disp('Generalised constants ot two lines combined are : ');\n",
"disp('Parameter A, magnitude is '+string(abs(A))+' and angle in degree is '+string(atand(imag(A),real(A))));\n",
"disp('Parameter B, magnitude is '+string(abs(B))+' and angle in degree is '+string(atand(imag(B),real(B))));\n",
"disp('Parameter C, magnitude is '+string(abs(C))+' and angle in degree is '+string(atand(imag(C),real(C))));\n",
"disp('Parameter D, magnitude is '+string(abs(D))+' and angle in degree is '+string(atand(imag(D),real(D))));\n",
"IR=P/sqrt(3)/VRL/pf;//A\n",
"IR=IR*expm(%i*-fi*%pi/180);\n",
"VS=A*VR+B*IR;//Volt\n",
"VSL=sqrt(3)*abs(VS);//Volt\n",
"IS=C*VR+D*IR;//A\n",
"fi_s=atand(imag(VS),real(VS))-atand(imag(IS),real(IS));\n",
"disp(cosd(fi_s),'Sending end power factor(lagging) : ');"
   ]
   }
,
{
		   "cell_type": "markdown",
		   "metadata": {},
		   "source": [
			"## Example 5.2: Voltage_Regulation_and_Efficiency.sce"
		   ]
		  },
  {
"cell_type": "code",
	   "execution_count": null,
	   "metadata": {
	    "collapsed": true
	   },
	   "outputs": [],
"source": [
"//Exa 5.2\n",
"clc;\n",
"clear;\n",
"close;\n",
"//Given data :\n",
"R=0.4;//ohm\n",
"X=0.4;//ohm \n",
"P=2000;//kVA\n",
"pf=0.8;//power factor\n",
"VL=3000;//V\n",
"VR=VL/sqrt(3);//V\n",
"cos_fi_r=pf;\n",
"sin_fi_r=sqrt(1-cos_fi_r^2);\n",
"I=P*1000/3/VR;//A\n",
"VS=VR+I*(R*cos_fi_r+X*sin_fi_r);//V\n",
"Reg=(VS-VR)/VR*100;//%\n",
"disp(Reg,'% Regulation');\n",
"LineLoss=3*I^2*R/1000;//kW\n",
"Pout=P*cos_fi_r;//kW\n",
"Eta_T=Pout*100/(Pout+LineLoss);//%\n",
"disp(Eta_T,'Transmission Efficiency(%)');"
   ]
   }
,
{
		   "cell_type": "markdown",
		   "metadata": {},
		   "source": [
			"## Example 5.3: Sending_end_Voltage_and_Regulation.sce"
		   ]
		  },
  {
"cell_type": "code",
	   "execution_count": null,
	   "metadata": {
	    "collapsed": true
	   },
	   "outputs": [],
"source": [
"//Exa 5.3\n",
"clc;\n",
"clear;\n",
"close;\n",
"//Given data :\n",
"l=15;//km\n",
"P=5;//MW\n",
"V=11;//kV\n",
"f=50;//Hz\n",
"pf=0.8;//power factor\n",
"cos_fi_r=pf;\n",
"sin_fi_r=sqrt(1-cos_fi_r^2);\n",
"L=1.1;//mH/Km\n",
"VR=V*1000/sqrt(3);//V\n",
"I=P*1000/sqrt(3)/V/cos_fi_r;//A\n",
"LineLoss=12/100*P*10^6;//W\n",
"R=LineLoss/3/I^2;//ohm\n",
"X=2*%pi*f*L*10^-3*l;//ohm/phase\n",
"VS=VR+I*(R*cos_fi_r+X*sin_fi_r);//V\n",
"VSL=sqrt(3)*VS/1000;//KV\n",
"disp(VSL,'Line voltage at sending end(kV)');\n",
"Reg=(VSL-V)/V*100;//%\n",
"disp(Reg,'% Regulation');"
   ]
   }
,
{
		   "cell_type": "markdown",
		   "metadata": {},
		   "source": [
			"## Example 5.4: Voltage_PF_Efficiency_and_Regulation.sce"
		   ]
		  },
  {
"cell_type": "code",
	   "execution_count": null,
	   "metadata": {
	    "collapsed": true
	   },
	   "outputs": [],
"source": [
"//Exa 5.4\n",
"clc;\n",
"clear;\n",
"close;\n",
"//Given data :\n",
"l=50;//km\n",
"S=10000;//kVA\n",
"pf=0.8;//power factor\n",
"d=1.2*100;//cm\n",
"cos_fi_r=pf;\n",
"sin_fi_r=sqrt(1-cos_fi_r^2);\n",
"V=33000;//Volts\n",
"VR=V/sqrt(3);//V\n",
"f=50;//Hz\n",
"I=S*1000/sqrt(3)/V;//A\n",
"LineLoss=10/100*S*10^3*pf;//W\n",
"R=LineLoss/3/I^2;//ohm\n",
"rho=1.73*10^-6;//kg/m^3\n",
"a=rho*l*1000*100/R;//cm^2\n",
"r=sqrt(a/%pi);//cm\n",
"L=0.2*log(d/r/0.7788)*l;//mH\n",
"X=2*%pi*f*L*10^-3;//ohm\n",
"VS=VR+I*(R*cos_fi_r+X*sin_fi_r);//V\n",
"VSL=sqrt(3)*VS/1000;//kV\n",
"disp(VSL,'Line voltage at sending end(kV)');\n",
"pf_s=(VR*cos_fi_r+I*R)/VS;//lagging(sendinf end pf)\n",
"disp(pf_s,'Sending end pf(lagging) ');\n",
"Eta_T=S*pf/(S*pf+LineLoss/1000)*100;\n",
"disp(Eta_T,'Transmission Efficiency(%)');\n",
"Reg=(VSL-V/1000)/(V/1000)*100;//%\n",
"disp(Reg,'% Regulation');"
   ]
   }
,
{
		   "cell_type": "markdown",
		   "metadata": {},
		   "source": [
			"## Example 5.5: Resistance_and_Inductance_of_line.sce"
		   ]
		  },
  {
"cell_type": "code",
	   "execution_count": null,
	   "metadata": {
	    "collapsed": true
	   },
	   "outputs": [],
"source": [
"//Exa 5.5\n",
"clc;\n",
"clear;\n",
"close;\n",
"//Given data :\n",
"VRL=30000;//Volts\n",
"VSL=33000;//Volts\n",
"f=50;//Hz\n",
"P=10*10^6;//W\n",
"pf=0.8;//power factor\n",
"cos_fi_r=pf;\n",
"sin_fi_r=sqrt(1-cos_fi_r^2);\n",
"VR=VRL/sqrt(3);//V\n",
"I=P/sqrt(3)/VRL/pf;//A\n",
"Eta_T=0.96;//Efficiency\n",
"LineLoss=P*(1/Eta_T-1);//W\n",
"R=LineLoss/3/I^2;//ohm/phase\n",
"disp(R,'Resistance per phase(ohm/phase)');\n",
"VS=VSL/sqrt(3);//V\n",
"X=(VS-VR-I*R*cos_fi_r)/I/sin_fi_r;//V\n",
"L=X/2/%pi/f;//H/phase\n",
"disp(L*1000,'Inductance per phase(mH/phase)');"
   ]
   }
,
{
		   "cell_type": "markdown",
		   "metadata": {},
		   "source": [
			"## Example 5.6: Voltage_and_Efficiency_of_Transmission.sce"
		   ]
		  },
  {
"cell_type": "code",
	   "execution_count": null,
	   "metadata": {
	    "collapsed": true
	   },
	   "outputs": [],
"source": [
"//Exa 5.6\n",
"clc;\n",
"clear;\n",
"close;\n",
"//Given data :\n",
"l=3;//km\n",
"P=3000;//KW\n",
"VSL=11*10^3;//volt\n",
"R=l*0.4;//ohm\n",
"X=l*0.8;//ohm\n",
"VS=VSL/sqrt(3);//Volts\n",
"pf=0.8;//power factor\n",
"cos_fi_r=pf;\n",
"sin_fi_r=sqrt(1-cos_fi_r^2);\n",
"//VS=VR+I*(R*cos_fi_r+X*sin_fi_r);//V\n",
"I_into_VR=P*1000/3/cos_fi_r;//VA\n",
"//VR^2-VS*VR+I_into_VR*(R*cos_fi_r+X*sin_fi_r);\n",
"p=[1 -VS I_into_VR*(R*cos_fi_r+X*sin_fi_r)];\n",
"VR=roots(p);\n",
"VR=VR(1);//taking greater value\n",
"I=I_into_VR/VR;//A\n",
"VRL=sqrt(3)*VR;//volt\n",
"disp(VRL,'Line voltage at load end(volt) : ');\n",
"Eta_T=P*1000/(P*1000+3*I^2*R)*100;//%\n",
"disp(Eta_T,'Transmission Efficiency(%) : ');"
   ]
   }
,
{
		   "cell_type": "markdown",
		   "metadata": {},
		   "source": [
			"## Example 5.7: Power_output_and_Power_factor.sce"
		   ]
		  },
  {
"cell_type": "code",
	   "execution_count": null,
	   "metadata": {
	    "collapsed": true
	   },
	   "outputs": [],
"source": [
"//Exa 5.7\n",
"clc;\n",
"clear;\n",
"close;\n",
"//Given data :\n",
"R=5;//ohm/phase\n",
"X=20;//ohm/phase\n",
"VSL=46.85;//kV\n",
"VRL=33;//kV\n",
"VRL=VRL*1000;//v\n",
"pf=0.8;//power factor\n",
"cos_fi_r=pf;\n",
"sin_fi_r=sqrt(1-cos_fi_r^2);\n",
"VR=VRL/sqrt(3);//V\n",
"I=(VSL*1000/sqrt(3)-VR)/(R*cos_fi_r+X*sin_fi_r);//A\n",
"Pout=sqrt(3)*VRL*I*pf/1000;//kW\n",
"disp(Pout,'Power output(kW)');\n",
"cosfi_s=(VR*pf+I*R)/(VSL*1000/sqrt(3));//power factor\n",
"disp(cosfi_s,'Power factor at sending end(lagging)');"
   ]
   }
,
{
		   "cell_type": "markdown",
		   "metadata": {},
		   "source": [
			"## Example 5.8: Current_Voltage_Regulation_Efficiency.sce"
		   ]
		  },
  {
"cell_type": "code",
	   "execution_count": null,
	   "metadata": {
	    "collapsed": true
	   },
	   "outputs": [],
"source": [
"//Exa 5.8\n",
"clc;\n",
"clear;\n",
"close;\n",
"//Given data :\n",
"l=80;//km\n",
"P=15;//MW\n",
"VR=66*10^3;//Volt\n",
"R=l*0.3125;//ohm\n",
"X=l*1;//ohm\n",
"Y=l*17.5*10^-6;//S\n",
"pf=0.8;//power factor\n",
"cos_fi_r=pf;\n",
"sin_fi_r=sqrt(1-cos_fi_r^2);\n",
"IR=P*10^6/(VR*pf);//A\n",
"IR=IR*(cos_fi_r-%i*sin_fi_r);//A\n",
"IC=%i*Y*VR;//A\n",
"IS=IR+IC;//A\n",
"disp('Sending end current(A), magnitude is '+string(abs(IS))+' and angle in degree is '+string(atand(imag(IS),real(IS))));\n",
"VS=VR+IS*(R+%i*X);//volt\n",
"disp('Sending end voltage(V), magnitude is '+string(abs(VS))+' and angle in degree is '+string(atand(imag(VS),real(VS))));\n",
"fi_s=atand(imag(VS),real(VS))-atand(imag(IS),real(IS));//\n",
"cos_fis=cosd(fi_s);//sending end pf\n",
"disp(cos_fis,'Sending end power factor(lag) : ');\n",
"Reg=(abs(VS)-VR)/VR*100;//%\n",
"disp(Reg,'Regulation(%) :  ');\n",
"LineLoss=abs(IS)^2*R/1000;//kW\n",
"disp(LineLoss,'Line Losses in kW : ');\n",
"Eta_T=P*1000/(P*1000+LineLoss)*100;//%\n",
"disp(Eta_T,'Transmission Efficiency(%) : ');"
   ]
   }
,
{
		   "cell_type": "markdown",
		   "metadata": {},
		   "source": [
			"## Example 5.9: Voltage_Efficiency_Regulation.sce"
		   ]
		  },
  {
"cell_type": "code",
	   "execution_count": null,
	   "metadata": {
	    "collapsed": true
	   },
	   "outputs": [],
"source": [
"//Exa 5.9\n",
"clc;\n",
"clear;\n",
"close;\n",
"//Given data :\n",
"l=100;//km\n",
"P=20;//MW\n",
"VRL=66*10^3;//volt\n",
"f=50;//Hz\n",
"R=10;//ohm\n",
"L=111.7*10^-3;//H\n",
"C=0.9954*10^-6;//F\n",
"pf=0.8;//power factor\n",
"X=2*%pi*f*L;//ohm\n",
"Y=2*%pi*f*C;//S\n",
"cos_fi_r=pf;\n",
"sin_fi_r=sqrt(1-cos_fi_r^2);\n",
"VR=VRL/sqrt(3);//volt\n",
"IR=P*10^6/(sqrt(3)*VRL*pf);//A\n",
"IR=IR*(cos_fi_r-%i*sin_fi_r);//A\n",
"Z=R+%i*X;//ohm\n",
"Vdash=VR+1/2*IR*Z;//Volt\n",
"IC=Vdash*%i*Y;//A\n",
"IS=IR+IC;//A\n",
"VS=Vdash+1/2*IS*Z;//Volt\n",
"VSL=abs(VS)*sqrt(3);//Volt\n",
"disp(VSL,'Sending end line voltage(Volt) :');\n",
"Reg=(VSL-VRL)/VRL*100;//%\n",
"disp(Reg,'Regulation(%) :  ');\n",
"fi_s=atand(imag(VS),real(VS))-atand(imag(IS),real(IS));//\n",
"cos_fi_s=cosd(fi_s);//sending end pf\n",
"Eta_T=sqrt(3)*VRL*abs(IR)*cos_fi_r/(sqrt(3)*VSL*abs(IS)*cos_fi_s)*100;//%\n",
"disp(Eta_T,'Transmission Efficiency(%) : ');\n",
"//Ans is not accurate in the book."
   ]
   }
],
"metadata": {
		  "kernelspec": {
		   "display_name": "Scilab",
		   "language": "scilab",
		   "name": "scilab"
		  },
		  "language_info": {
		   "file_extension": ".sce",
		   "help_links": [
			{
			 "text": "MetaKernel Magics",
			 "url": "https://github.com/calysto/metakernel/blob/master/metakernel/magics/README.md"
			}
		   ],
		   "mimetype": "text/x-octave",
		   "name": "scilab",
		   "version": "0.7.1"
		  }
		 },
		 "nbformat": 4,
		 "nbformat_minor": 0
}
