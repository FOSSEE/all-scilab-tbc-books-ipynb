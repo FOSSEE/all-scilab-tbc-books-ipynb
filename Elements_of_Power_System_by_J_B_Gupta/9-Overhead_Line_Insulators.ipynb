{
"cells": [
 {
		   "cell_type": "markdown",
	   "metadata": {},
	   "source": [
       "# Chapter 9: Overhead Line Insulators"
	   ]
	},
{
		   "cell_type": "markdown",
		   "metadata": {},
		   "source": [
			"## Example 9.10: Line_to_pin_capacitance.sce"
		   ]
		  },
  {
"cell_type": "code",
	   "execution_count": null,
	   "metadata": {
	    "collapsed": true
	   },
	   "outputs": [],
"source": [
"//Exa 9.10\n",
"clc;\n",
"clear;\n",
"close;\n",
"//Given data :\n",
"n=8;//no. of units\n",
"p=1:8;\n",
"//Cp=p*C/(n-p)\n",
"C1byC=1/(n-p(1));\n",
"C2byC=2/(n-p(2));\n",
"C3byC=3/(n-p(3));\n",
"C4byC=4/(n-p(4));\n",
"C5byC=5/(n-p(5));\n",
"C6byC=6/(n-p(6));\n",
"C7byC=7/(n-p(7));\n",
"disp('C1 is '+string(C1byC)+' times of C');\n",
"disp('C2 is '+string(C2byC)+' times of C');\n",
"disp('C3 is '+string(C3byC)+' times of C');\n",
"disp('C4 is '+string(C4byC)+' times of C');\n",
"disp('C5 is '+string(C5byC)+' times of C');\n",
"disp('C6 is '+string(C6byC)+' times of C');\n",
"disp('C7 is '+string(C7byC)+' times of C');"
   ]
   }
,
{
		   "cell_type": "markdown",
		   "metadata": {},
		   "source": [
			"## Example 9.11: String_efficiency.sce"
		   ]
		  },
  {
"cell_type": "code",
	   "execution_count": null,
	   "metadata": {
	    "collapsed": true
	   },
	   "outputs": [],
"source": [
"//Exa 9.11\n",
"clc;\n",
"clear;\n",
"close;\n",
"//Given data :\n",
"v2byv1=25/23.25;//ratio(By Kirchoff law)\n",
"v3byv1=1.65/1.1625;//ratio(By Kirchoff law)\n",
"Vbyv1=1+v2byv1+v3byv1;//ratio(Final voltage between line conductor & earth)\n",
"v1byV=1/Vbyv1;//ratio\n",
"v2byV=v2byv1*v1byV;//ratio\n",
"v3byV=v3byv1*v1byV;//ratio\n",
"eff=1/3/v3byV*100;//string efficiency in %(V/3/v3)\n",
"disp(eff,'String efficiency in % is ');"
   ]
   }
,
{
		   "cell_type": "markdown",
		   "metadata": {},
		   "source": [
			"## Example 9.12: Line_voltage_and_capacitance_required.sce"
		   ]
		  },
  {
"cell_type": "code",
	   "execution_count": null,
	   "metadata": {
	    "collapsed": true
	   },
	   "outputs": [],
"source": [
"//Exa 9.12\n",
"clc;\n",
"clear;\n",
"close;\n",
"//Given data :\n",
"V=20;//kV\n",
"C=poly(0,'C');\n",
"//Cmutual=C;//F\n",
"CmutualBYC=1;\n",
"//Cshunt=C/5;//F\n",
"CshuntBYC=1/5;\n",
"//I2=I1+i1//omega*C*V2=omega*C*V1+omega*Cshunt*V1\n",
"V2BYV1=1+CshuntBYC;\n",
"V3BYV2=1;//a V2=V3\n",
"//V=V1+V2+V3\n",
"V1=V/(V3BYV2+V2BYV1+V2BYV1);//kV\n",
"V2=V2BYV1*V1;//kV\n",
"V3=V2;//kV\n",
"disp(V3,'Voltage onn the line end unit in kV : ');\n",
"//I3+ix=I2+i2\n",
"CxBYC=(V2+CshuntBYC*(V1+V2)-V3)/V3;\n",
"disp('Capacitance required is '+string(CxBYC)+'C(in F).');\n",
"\n",
""
   ]
   }
,
{
		   "cell_type": "markdown",
		   "metadata": {},
		   "source": [
			"## Example 9.1: String_Efficiency.sce"
		   ]
		  },
  {
"cell_type": "code",
	   "execution_count": null,
	   "metadata": {
	    "collapsed": true
	   },
	   "outputs": [],
"source": [
"//Exa 9.1\n",
"clc;\n",
"clear;\n",
"close;\n",
"//Given data :\n",
"C1=1;//\n",
"C=6;\n",
"K=C1/C;\n",
"V2byV1=(1+K);\n",
"V3byV1=(1+3*K+K^2);\n",
"V4byV1=(1+6*K+5*K^2+K^3);\n",
"//I5=I4+i4;\n",
"//omega*C*V5=omega*C*V4+omega*C1*(V1+V2+V3+V4)\n",
"V5byV1=1+10*K+15*K^2+7*K^3+K^4\n",
"VbyV1=1+V2byV1+V3byV1+V4byV1+V5byV1;\n",
"V1byV=1/VbyV1;\n",
"disp('Voltage across the first unit is '+string(V1byV*100)+' % of V');\n",
"disp('Voltage across the seconf unit is '+string(V2byV1*V1byV*100)+' % of V');\n",
"disp('Voltage across the third unit is '+string(V3byV1*V1byV*100)+' % of V');\n",
"disp('Voltage across the fourth unit is '+string(V4byV1*V1byV*100)+' % of V');\n",
"disp('Voltage across the bottom most unit is '+string(V5byV1*V1byV*100)+' % of V');\n",
"n=5;//no. of unit\n",
"Strinf_eff=1/n/(V5byV1*V1byV);//%\n",
"disp(Strinf_eff*100,'String Efficiency(%)');"
   ]
   }
,
{
		   "cell_type": "markdown",
		   "metadata": {},
		   "source": [
			"## Example 9.2: Voltage_Distribution_and_String_efficiency.sce"
		   ]
		  },
  {
"cell_type": "code",
	   "execution_count": null,
	   "metadata": {
	    "collapsed": true
	   },
	   "outputs": [],
"source": [
"//Exa 9.2\n",
"clc;\n",
"clear;\n",
"close;\n",
"//Given data :\n",
"C1=1;//\n",
"C=10;\n",
"K=C1/C;\n",
"V2byV1=(1+K);\n",
"V3byV1=(1+3*K+K^2);\n",
"V4byV1=(1+6*K+5*K^2+K^3);\n",
"V5byV1=1+10*K+15*K^2+7*K^3+K^4\n",
"//I6=I5+i5;\n",
"//omega*C*V6=omega*C*V5+omega*C1*(V1+V2+V3+V4+V5)\n",
"V6byV1=V5byV1+K*(1+V2byV1+V3byV1+V4byV1+V5byV1);\n",
"VbyV1=1+V2byV1+V3byV1+V4byV1+V5byV1+V6byV1;\n",
"V1byV=1/VbyV1;\n",
"disp('Voltage across the first unit is '+string(V1byV*100)+' % of V');\n",
"disp('Voltage across the seconf unit is '+string(V2byV1*V1byV*100)+' % of V');\n",
"disp('Voltage across the third unit is '+string(V3byV1*V1byV*100)+' % of V');\n",
"disp('Voltage across the fourth unit is '+string(V4byV1*V1byV*100)+' % of V');\n",
"disp('Voltage across the fifth unit is '+string(V5byV1*V1byV*100)+' % of V');\n",
"disp('Voltage across the sixth unit is '+string(V6byV1*V1byV*100)+' % of V');\n",
"n=6;//no. of unit\n",
"Strinf_eff=1/n/(V6byV1*V1byV);//%\n",
"disp(Strinf_eff*100,'String Efficiency(%)');"
   ]
   }
,
{
		   "cell_type": "markdown",
		   "metadata": {},
		   "source": [
			"## Example 9.3: String_Efficiency.sce"
		   ]
		  },
  {
"cell_type": "code",
	   "execution_count": null,
	   "metadata": {
	    "collapsed": true
	   },
	   "outputs": [],
"source": [
"//Exa 9.3\n",
"clc;\n",
"clear;\n",
"close;\n",
"//Given data :\n",
"V=66;//kV\n",
"//Part(i)\n",
"n=5;//no. of uniits\n",
"K=1/5;//shunt to mutual capacitance ratio\n",
"V1=V/(5+20*K+21*K^2+8*K^3+K^4);//kV\n",
"V5=V1*(1+10*K+15*K^2+7*K^3+K^4);//kV\n",
"Strinf_eff=V/n/V5;\n",
"disp(Strinf_eff*100,'Part(i) Percentage String Efficiency(%)');\n",
"//Part(ii)\n",
"n=5;//no. of uniits\n",
"K=1/6;//shunt to mutual capacitance ratio\n",
"V1=V/(5+20*K+21*K^2+8*K^3+K^4);//kV\n",
"V5=V1*(1+10*K+15*K^2+7*K^3+K^4);//kV\n",
"Strinf_eff=V/n/V5;\n",
"disp(Strinf_eff*100,'Part(ii) Percentage String Efficiency(%)');"
   ]
   }
,
{
		   "cell_type": "markdown",
		   "metadata": {},
		   "source": [
			"## Example 9.4: Voltage_Distribution_and_String_Efficiency.sce"
		   ]
		  },
  {
"cell_type": "code",
	   "execution_count": null,
	   "metadata": {
	    "collapsed": true
	   },
	   "outputs": [],
"source": [
"//Exa 9.4\n",
"clc;\n",
"clear;\n",
"close;\n",
"//Given data :\n",
"Vs=20;//kV\n",
"n=3;//no. of uniits\n",
"K=0.1;//shunt to mutual capacitance ratio\n",
"V3=Vs;//kV\n",
"V1=V3/(1+3*K+K^2);//kV\n",
"disp(V1,'Voltage across top most unit(kV)');\n",
"V2=V1*(1+K);//kV\n",
"disp(V2,'Voltage across middle unit(kV)');\n",
"V=V1+V2+V3;//kV\n",
"Strinf_eff=V/n/V3;\n",
"disp(Strinf_eff*100,'Percentage String Efficiency(%)');"
   ]
   }
,
{
		   "cell_type": "markdown",
		   "metadata": {},
		   "source": [
			"## Example 9.5: Maximum_Voltage.sce"
		   ]
		  },
  {
"cell_type": "code",
	   "execution_count": null,
	   "metadata": {
	    "collapsed": true
	   },
	   "outputs": [],
"source": [
"//Exa 9.5\n",
"clc;\n",
"clear;\n",
"close;\n",
"//Given data :\n",
"Vs=17.5;//kV\n",
"n=3;//no. of uniits\n",
"K=1/8;//shunt to mutual capacitance ratio\n",
"V3=Vs;//kV\n",
"V1=V3/(1+3*K+K^2);//kV\n",
"V2=V1*(1+K);//kV\n",
"V=V1+V2+V3;//kV\n",
"//Strinf_eff=V/n/V3;\n",
"disp(V,'Maximum safe working voltage(kV)');"
   ]
   }
,
{
		   "cell_type": "markdown",
		   "metadata": {},
		   "source": [
			"## Example 9.6: String_Efficiency.sce"
		   ]
		  },
  {
"cell_type": "code",
	   "execution_count": null,
	   "metadata": {
	    "collapsed": true
	   },
	   "outputs": [],
"source": [
"//Exa 9.6\n",
"clc;\n",
"clear;\n",
"close;\n",
"//Given data :\n",
"Vs=12;//kV\n",
"n=4;//no. of uniits\n",
"K=0.1;//shunt to mutual capacitance ratio\n",
"V4=Vs;//kV\n",
"V1=V4/(1+6*K+5*K^2+K^3);//kV\n",
"V2=V1*(1+K);//kV\n",
"V3=V1*(1+3*K+K^2);//kV\n",
"V=V1+V2+V3+V4;//kV\n",
"disp(V,'Maximum safe working voltage(kV)');\n",
"Strinf_eff=V/n/V4;\n",
"disp(Strinf_eff*100,'Percentage String Efficiency(%)');"
   ]
   }
,
{
		   "cell_type": "markdown",
		   "metadata": {},
		   "source": [
			"## Example 9.7: Maximum_line_voltage.sce"
		   ]
		  },
  {
"cell_type": "code",
	   "execution_count": null,
	   "metadata": {
	    "collapsed": true
	   },
	   "outputs": [],
"source": [
"//Exa 9.7\n",
"clc;\n",
"clear;\n",
"close;\n",
"//Given data :\n",
"Vs=11;//kV\n",
"n=5;//no. of uniits\n",
"K=0.1;//shunt to mutual capacitance ratio\n",
"V5=Vs;//kV\n",
"V1=V5/(1+10*K+15*K^2+7*K^3+K^4);//kV\n",
"V2=V1*(1+K);//kV\n",
"V3=V1*(1+3*K+K^2);//kV\n",
"V4=V1*(1+6*K+5*K^2+K^3);//kV\n",
"V=V1+V2+V3+V4+V5;//kV\n",
"disp(V,'Maximum safe working voltage(kV)');"
   ]
   }
,
{
		   "cell_type": "markdown",
		   "metadata": {},
		   "source": [
			"## Example 9.8: Voltage_between_conductors_and_string_efficiency.sce"
		   ]
		  },
  {
"cell_type": "code",
	   "execution_count": null,
	   "metadata": {
	    "collapsed": true
	   },
	   "outputs": [],
"source": [
"//Exa 9.8\n",
"clc;\n",
"clear;\n",
"close;\n",
"//Given data :\n",
"V2=15;//kV\n",
"V3=21;//kV\n",
"n=4;//no. of uniits\n",
"//V3/V2=(1+3*K+K^2)/(1+K)\n",
"//K^2*V2+K*(V3+3*V2)-V2+V3=0;\n",
"p=[V2 -V3+3*V2 V2-V3];\n",
"K=roots(p);\n",
"K=K(2);//Taking +ve value\n",
"V1=V2/(1+K);//kV\n",
"V4=(1+6*K+5*K^2+K^3)*V1;//kV\n",
"V=V1+V2+V3+V4;//kV\n",
"VL=sqrt(3)*V;//kV\n",
"disp(VL,'Voltage between conductors(kV)');\n",
"Strinf_eff=V/n/V4;\n",
"disp(Strinf_eff*100,'Percentage String Efficiency(%)');"
   ]
   }
,
{
		   "cell_type": "markdown",
		   "metadata": {},
		   "source": [
			"## Example 9.9: Capacitance_of_remaining_five_units.sce"
		   ]
		  },
  {
"cell_type": "code",
	   "execution_count": null,
	   "metadata": {
	    "collapsed": true
	   },
	   "outputs": [],
"source": [
"//Exa 9.9\n",
"clc;\n",
"clear;\n",
"close;\n",
"//Given data :\n",
"K=0.1;//shunt to mutual capacitance ratio\n",
"CbyC1=10;\n",
"C2byC1=(1+K)*CbyC1;\n",
"C3byC1=(1+3*K)*CbyC1;\n",
"C4byC1=(1+6*K)*CbyC1;\n",
"disp('C2 is '+string(C2byC1)+' times of C1');\n",
"disp('C3 is '+string(C3byC1)+' times of C1');\n",
"disp('C4 is '+string(C4byC1)+' times of C1');\n",
"//I5=I4+i4\n",
"//omega*C5*v=omega*C4*v+omega*C1*4*v\n",
"C5byC1=(1+10*K)*CbyC1;\n",
"disp('C5 is '+string(C5byC1)+' times of C1');\n",
"//I6=I5+i5\n",
"//omega*C6*v=omega*C5*v+omega*C1*5*v\n",
"C6byC1=(1+15*K)*CbyC1;\n",
"disp('C6 is '+string(C6byC1)+' times of C1');"
   ]
   }
],
"metadata": {
		  "kernelspec": {
		   "display_name": "Scilab",
		   "language": "scilab",
		   "name": "scilab"
		  },
		  "language_info": {
		   "file_extension": ".sce",
		   "help_links": [
			{
			 "text": "MetaKernel Magics",
			 "url": "https://github.com/calysto/metakernel/blob/master/metakernel/magics/README.md"
			}
		   ],
		   "mimetype": "text/x-octave",
		   "name": "scilab",
		   "version": "0.7.1"
		  }
		 },
		 "nbformat": 4,
		 "nbformat_minor": 0
}
