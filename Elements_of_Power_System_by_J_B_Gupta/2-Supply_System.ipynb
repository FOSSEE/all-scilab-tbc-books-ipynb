{
"cells": [
 {
		   "cell_type": "markdown",
	   "metadata": {},
	   "source": [
       "# Chapter 2: Supply System"
	   ]
	},
{
		   "cell_type": "markdown",
		   "metadata": {},
		   "source": [
			"## Example 2.1: Saving_in_feeder.sce"
		   ]
		  },
  {
"cell_type": "code",
	   "execution_count": null,
	   "metadata": {
	    "collapsed": true
	   },
	   "outputs": [],
"source": [
"//Exa 2.1\n",
"clc;\n",
"clear;\n",
"close;\n",
"//Given data :\n",
"VL1=220;//Volts\n",
"VL2=400;//Volts\n",
"disp('We know, W=I^2*2*R=(P/VL)^2*2*rho*l/a');\n",
"disp('a=(P/VL)^2*2*rho*l/(I^2*2*R)');\n",
"disp('v=2*(P/VL)^2*2*rho*l/(I1^2*2)*l');\n",
"saving=(2/(VL1)^2-2/(VL2)^2)/(2/(VL1)^2)*100;//%\n",
"disp(saving,'% saving in copper : ');"
   ]
   }
,
{
		   "cell_type": "markdown",
		   "metadata": {},
		   "source": [
			"## Example 2.2: Compare_amount_of_material.sce"
		   ]
		  },
  {
"cell_type": "code",
	   "execution_count": null,
	   "metadata": {
	    "collapsed": true
	   },
	   "outputs": [],
"source": [
"//Exa 2.2\n",
"clc;\n",
"clear;\n",
"close;\n",
"\n",
"disp('Two wire dc system : ');\n",
"disp('I1=P/V & W=2*I1^2*R1=2*P^2*rho*l/V^2/a1');\n",
"disp('Therefore, Volume required, v1 is 2*a1*l=4*P^2*rho*l^2/V^2/W');\n",
"disp('Three phase four wire system : ');\n",
"disp('I2=P/3/Vas Power by each phase is P/3 & W=3*I1^2*R2=P^2*rho*l/3/V^2/a2');\n",
"disp('Therefore, Volume required, v2 is 3.5*a2*l=3.5*P^2*rho*l^2/3/V^2/W');\n",
"v2BYv1=3.5/3/4;//\n",
"disp('For 3-phase four wire system material required is '+string(v2BYv1)+' times the material required in two wire system.');"
   ]
   }
,
{
		   "cell_type": "markdown",
		   "metadata": {},
		   "source": [
			"## Example 2.3: Percentage_additional_load.sce"
		   ]
		  },
  {
"cell_type": "code",
	   "execution_count": null,
	   "metadata": {
	    "collapsed": true
	   },
	   "outputs": [],
"source": [
"//Exa 2.3\n",
"clc;\n",
"clear;\n",
"close;\n",
"\n",
"disp('For single phase ac system, P1=V*I1*cosd(fi) watts & W1=2*I1^2*R watts');\n",
"disp('Line losses=W1/P1*100=2*I1^2*R*100/V/I1/cosd(fi)');\n",
"disp('For three phase ac system, P2=sqrt(3)*V*I2*cosd(fi) watts & W2=3*I2^2*R watts');\n",
"disp('Line losses=W2/P2*100=3*I2^2*R*100/sqrt(3)/V/I2/cosd(fi)');\n",
"//on equating W1/P1*100=W2/P2*100\n",
"I2BYI1=2*sqrt(3)/3;\n",
"P1=poly(0,'P1');\n",
"//P2=sqrt(3)*V*I1*I2BYI1*cosd(fi)=2*P1\n",
"P2=2*P1;\n",
"Add_load=P2-P1;\n",
"Percent_add_load=coeff(numer(Add_load/P1*100));//%\n",
"disp(Percent_add_load,'Additional load that can be tranmitted by converting sigle to 3-phase line in %');"
   ]
   }
,
{
		   "cell_type": "markdown",
		   "metadata": {},
		   "source": [
			"## Example 2.4: Find_extra_power.sce"
		   ]
		  },
  {
"cell_type": "code",
	   "execution_count": null,
	   "metadata": {
	    "collapsed": true
	   },
	   "outputs": [],
"source": [
"//Exa 2.4\n",
"clc;\n",
"clear;\n",
"close;\n",
"\n",
"disp('For three wire dc system, line current I1=(VS-VL)/R & P1=2*VL*I1=2*VL*(VS-VL)/R');\n",
"disp('For four wire three phase ac system, line current I2=(VS-VL)/R & P2=3*VL*I2*pf=3*VL*(VS-VL)/R');\n",
"//P2=3/2*2*VL*(VS-VL)/R////It implies that P2=3/2*P1\n",
"P1=poly(0,'P1');\n",
"P2=3/2*P1;\n",
"Diff=P2-P1;\n",
"Percent_Diff=coeff(numer(Diff/P1*100));//%\n",
"disp(Percent_Diff,'Extra power that can be supplied in %');"
   ]
   }
,
{
		   "cell_type": "markdown",
		   "metadata": {},
		   "source": [
			"## Example 2.5: Percentage_additional_load.sce"
		   ]
		  },
  {
"cell_type": "code",
	   "execution_count": null,
	   "metadata": {
	    "collapsed": true
	   },
	   "outputs": [],
"source": [
"//Exa 2.5\n",
"clc;\n",
"clear;\n",
"close;\n",
"\n",
"pf=0.9;//power factor\n",
"disp('Three wire dc system : ');\n",
"disp('P1=2*I1*V & %P1loss=2*I1^2*R/(2*I1*V)*100=100*I1*R/V');\n",
"disp('Three phase 4-wire ac system : ');\n",
"disp('P2=3*I1^2*V*pf & %P2loss=3*I2^2*R/(3*I2*V*pf)*100=100*I12*R/pf/V');\n",
"//on equating P1loss=P2loss;\n",
"I2BYI1=100*pf/100;//ratio\n",
"//P2=3*I2*V*pf\n",
"P2BYI1V=3*pf*I2BYI1;\n",
"P2BYP1=P2BYI1V/2;\n",
"//LoadIncrease=(P2-P1)*100/P1;\n",
"LoadIncrease=(P2BYP1-1)*100;//%\n",
"disp(LoadIncrease,'% Additional load : ');"
   ]
   }
,
{
		   "cell_type": "markdown",
		   "metadata": {},
		   "source": [
			"## Example 2.6: Weight_of_copper_reqiured.sce"
		   ]
		  },
  {
"cell_type": "code",
	   "execution_count": null,
	   "metadata": {
	    "collapsed": true
	   },
	   "outputs": [],
"source": [
"//Exa 2.6\n",
"clc;\n",
"clear;\n",
"close;\n",
"format('v',6);\n",
"//Given data :\n",
"Pin=100;//MW\n",
"VL=380;//kV\n",
"d=100;//km\n",
"R=0.045;//ohm/cm^2/km\n",
"w=0.01;//kg/cm^3\n",
"Eta=90;//efficiency %\n",
"cosfi=1;\n",
"IL=Pin*10^6/sqrt(3)/VL/10^3/cosfi;//Ampere\n",
"W=Pin*(1-Eta/100);//MW\n",
"LineLoss=W*10^6/3;//Watts/conductor\n",
"R1=LineLoss/IL^2;//in ohm\n",
"R2=R1/d;//resistance per conductor per km\n",
"a=R/R2;//in cm^2\n",
"volume=a*d*1000;//cm^3 per km run\n",
"weight=w*volume;//kg per km run\n",
"w3=3*d*weight;//kg(weight of copper required for 3 conductors for 100 km)\n",
"disp(w3,'Weight of copper required for 3 conductors of 100 km length(in kg) : ');\n",
"//Answer in the book is not accurate."
   ]
   }
],
"metadata": {
		  "kernelspec": {
		   "display_name": "Scilab",
		   "language": "scilab",
		   "name": "scilab"
		  },
		  "language_info": {
		   "file_extension": ".sce",
		   "help_links": [
			{
			 "text": "MetaKernel Magics",
			 "url": "https://github.com/calysto/metakernel/blob/master/metakernel/magics/README.md"
			}
		   ],
		   "mimetype": "text/x-octave",
		   "name": "scilab",
		   "version": "0.7.1"
		  }
		 },
		 "nbformat": 4,
		 "nbformat_minor": 0
}
