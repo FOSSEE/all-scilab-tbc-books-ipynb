{
"cells": [
 {
		   "cell_type": "markdown",
	   "metadata": {},
	   "source": [
       "# Chapter 1: Power System Components"
	   ]
	},
{
		   "cell_type": "markdown",
		   "metadata": {},
		   "source": [
			"## Example 1.1: Base_Impedence.sce"
		   ]
		  },
  {
"cell_type": "code",
	   "execution_count": null,
	   "metadata": {
	    "collapsed": true
	   },
	   "outputs": [],
"source": [
"//Exa 1.1\n",
"clc;\n",
"clear;\n",
"close;\n",
"//Given data :\n",
"BaseVoltage=1100;//in Volts\n",
"BasekVA=10^6;//kVA\n",
"BasekV=BaseVoltage/1000;//kV\n",
"IB=BasekVA/BasekV;//in Ampere\n",
"ZB=BasekV*1000/IB;//in ohm\n",
"disp(ZB,'Base Impedence (in ohm) :');"
   ]
   }
,
{
		   "cell_type": "markdown",
		   "metadata": {},
		   "source": [
			"## Example 1.2: Per_unit_resistance.sce"
		   ]
		  },
  {
"cell_type": "code",
	   "execution_count": null,
	   "metadata": {
	    "collapsed": true
	   },
	   "outputs": [],
"source": [
"//Exa 1.2\n",
"clc;\n",
"clear;\n",
"close;\n",
"//Given data :\n",
"R=5;//in ohm\n",
"kVA_B=10;//kVA\n",
"kV_B=11;//kV\n",
"RB=kV_B^2*1000/kVA_B;//in ohm\n",
"Rpu=R/RB;//in ohm\n",
"disp(Rpu,'Per unit resistance (pu) :');"
   ]
   }
,
{
		   "cell_type": "markdown",
		   "metadata": {},
		   "source": [
			"## Example 1.3: Leakage_Reactance_per_unit.sce"
		   ]
		  },
  {
"cell_type": "code",
	   "execution_count": null,
	   "metadata": {
	    "collapsed": true
	   },
	   "outputs": [],
"source": [
"//Exa 1.3\n",
"clc;\n",
"clear;\n",
"close;\n",
"//Given data :\n",
"kVA_B=2.5;//kVA\n",
"kV_B=0.4;//kV\n",
"reactance=0.96;//in ohm\n",
"Z_BLV=kV_B^2*1000/kVA_B;//in ohm\n",
"Zpu=reactance/Z_BLV;//in ohm\n",
"disp(Zpu,'Leakage reactance Per unit (pu) :');"
   ]
   }
,
{
		   "cell_type": "markdown",
		   "metadata": {},
		   "source": [
			"## Example 1.4: Per_unit_impedence.sce"
		   ]
		  },
  {
"cell_type": "code",
	   "execution_count": null,
	   "metadata": {
	    "collapsed": true
	   },
	   "outputs": [],
"source": [
"//Exa 1.4\n",
"clc;\n",
"clear;\n",
"close;\n",
"format('v',6);\n",
"//Given data :\n",
"Z=30+%i*110;//in ohm\n",
"kVA_B=100*1000;//kVA\n",
"kV_B=132;//kV\n",
"Z_BLV=kV_B^2*1000/kVA_B;//in ohm\n",
"Zpu=Z*kVA_B/kV_B^2/1000;//pu\n",
"disp(Zpu,'Leakage reactance Per unit (pu) :');"
   ]
   }
,
{
		   "cell_type": "markdown",
		   "metadata": {},
		   "source": [
			"## Example 1.5: Per_unit_Reactance.sce"
		   ]
		  },
  {
"cell_type": "code",
	   "execution_count": null,
	   "metadata": {
	    "collapsed": true
	   },
	   "outputs": [],
"source": [
"//Exa 1.5\n",
"clc;\n",
"clear;\n",
"close;\n",
"format('v',6);\n",
"//Given data :\n",
"oldkVA_B=30000;//kVA\n",
"oldkV_B=11;//kV\n",
"oldZpu=0.2;//pu\n",
"newkVA_B=50000;//kVA\n",
"newkV_B=33;//kV\n",
"newZpu=oldZpu*newkVA_B/oldkVA_B*(oldkV_B/newkV_B)^2;//pu\n",
"disp(newZpu,'New Per unit impedence(pu) :');"
   ]
   }
],
"metadata": {
		  "kernelspec": {
		   "display_name": "Scilab",
		   "language": "scilab",
		   "name": "scilab"
		  },
		  "language_info": {
		   "file_extension": ".sce",
		   "help_links": [
			{
			 "text": "MetaKernel Magics",
			 "url": "https://github.com/calysto/metakernel/blob/master/metakernel/magics/README.md"
			}
		   ],
		   "mimetype": "text/x-octave",
		   "name": "scilab",
		   "version": "0.7.1"
		  }
		 },
		 "nbformat": 4,
		 "nbformat_minor": 0
}
