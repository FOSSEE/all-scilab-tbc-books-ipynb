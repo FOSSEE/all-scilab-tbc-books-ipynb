{
"cells": [
 {
		   "cell_type": "markdown",
	   "metadata": {},
	   "source": [
       "# Chapter 6: Representation and Performance of long Transmission Lines"
	   ]
	},
{
		   "cell_type": "markdown",
		   "metadata": {},
		   "source": [
			"## Example 6.1: Determine_Auxiliary_constant.sce"
		   ]
		  },
  {
"cell_type": "code",
	   "execution_count": null,
	   "metadata": {
	    "collapsed": true
	   },
	   "outputs": [],
"source": [
"//Exa 6.1\n",
"clc;\n",
"clear;\n",
"close;\n",
"format('v',6);\n",
"//Given data :\n",
"r=0.22;//ohm\n",
"x=0.45;//ohm\n",
"g=4*10^-9;//S\n",
"b=2.53*10^-6;//S\n",
"f=50;//Hz\n",
"l=1000;//Km\n",
"//Using Convergent series of complex angles\n",
"z=r+%i*x;//ohm\n",
"y=g+%i*b;//ohm\n",
"Z=z*l;//ohm\n",
"Y=y*l;//ohm\n",
"YZ=Y*Z;//ohm\n",
"Y2Z2=YZ^2;//ohm\n",
"Y3Z3=YZ^3;//ohm\n",
"A=1+YZ/2+Y2Z2/24+Y3Z3/720;//ohm\n",
"D=A;//oh,m\n",
"B=Z*(1+YZ/6+Y2Z2/120+Y3Z3/5040);//ohm\n",
"C=Y*(1+YZ/6+Y2Z2/120+Y3Z3/5040);//ohm\n",
"disp('Auxiliary Constants by using Convergent series of complex angles : ');\n",
"disp(A,'A = ');\n",
"disp(B,'B = ');\n",
"disp(C,'C = ');\n",
"//Using Convergent series of real angles\n",
"A=cosh(sqrt(YZ));//ohm\n",
"D=A;//ohm\n",
"B=sqrt(Z/Y)*sinh(sqrt(YZ));//ohm\n",
"C=sqrt(Y/Z)*sinh(sqrt(YZ));//ohm\n",
"A=cosh(sqrt(YZ));//ohm\n",
"disp('Auxiliary Constants by using Convergent series of real angles : ');\n",
"disp('A, magnitude is '+string(abs(A))+' and angle in degree is '+string(atand(imag(A),real(A))));\n",
"disp('B, magnitude is '+string(abs(B))+' and angle in degree is '+string(atand(imag(B),real(B))));\n",
"disp('C, magnitude is '+string(abs(C))+' and angle in degree is '+string(atand(imag(C),real(C))));\n",
"disp('We obtain same result by both of the methods.')"
   ]
   }
,
{
		   "cell_type": "markdown",
		   "metadata": {},
		   "source": [
			"## Example 6.2: Sending_end_voltage_and_current.sce"
		   ]
		  },
  {
"cell_type": "code",
	   "execution_count": null,
	   "metadata": {
	    "collapsed": true
	   },
	   "outputs": [],
"source": [
"//Exa 6.2\n",
"clc;\n",
"clear;\n",
"close;\n",
"format('v',8);\n",
"//Given data :\n",
"Z=200*expm(%i*80*%pi/180);//ohm\n",
"Y=0.0013*expm(%i*90*%pi/180);//S/phase\n",
"P=80*10^6;//W\n",
"pf=0.8;//power factor\n",
"VRL=220*1000;//V\n",
"VR=VRL/sqrt(3);//V\n",
"IR=P/sqrt(3)/VRL/pf;//A\n",
"fi=acosd(pf);//degree\n",
"IR=IR*expm(%i*-fi*%pi/180);//A\n",
"YZ=Y*Z;//ohm\n",
"Y2Z2=YZ^2;//ohm\n",
"Y3Z3=YZ^3;//ohm\n",
"A=1+YZ/2+Y2Z2/24+Y3Z3/720;//ohm\n",
"D=A;//oh,m\n",
"B=Z*(1+YZ/6+Y2Z2/120+Y3Z3/5040);//ohm\n",
"C=Y*(1+YZ/6+Y2Z2/120+Y3Z3/5040);//mho\n",
"VS=A*VR+B*IR;//V\n",
"VSL=sqrt(3)*abs(VS);//V\n",
"disp(VSL/1000,'Sending end line voltage in kV : ');\n",
"IS=C*VR+D*IR;//\n",
"disp('Sending end current in A, magnitude is '+string(abs(IS))+' and angle in degree is '+string(atand(imag(IS),real(IS))));"
   ]
   }
,
{
		   "cell_type": "markdown",
		   "metadata": {},
		   "source": [
			"## Example 6.3: A0_B0_C0_and_D0_constant.sce"
		   ]
		  },
  {
"cell_type": "code",
	   "execution_count": null,
	   "metadata": {
	    "collapsed": true
	   },
	   "outputs": [],
"source": [
"//Exa 6.3\n",
"clc;\n",
"clear;\n",
"close;\n",
"format('v',8);\n",
"//Given data :\n",
"VRL=220;//kV\n",
"VR=VRL/sqrt(3);//V\n",
"P=10*10^6;//VA\n",
"Z=1+%i*8;//ohm(in %)\n",
"Zse=Z/100*VRL^2/100;//ohm/phase\n",
"A=0.9*expm(%i*0.6*%pi/180);//Auxiliary constant\n",
"D=A;//Auxiliary constant\n",
"B=153.2*expm(%i*84.6*%pi/180);//Auxiliary constant\n",
"C=0.0012*expm(%i*90*%pi/180);//Auxiliary constant\n",
"A0=A+C*Zse;//constant\n",
"B0=B+D*Zse;//ohm//constant\n",
"C0=C;//mho or S//constant\n",
"D0=A;//constant\n",
"disp('Constant A0, magnitude is '+string(abs(A0))+' and angle in degree is '+string(atand(imag(A0),real(A0))));\n",
"disp('Constant B0(ohm), magnitude is '+string(abs(B0))+' and angle in degree is '+string(atand(imag(B0),real(B0))));\n",
"disp('Constant C0(S), magnitude is '+string(abs(C0))+' and angle in degree is '+string(atand(imag(C0),real(C0))));\n",
"disp('Constant D0, magnitude is '+string(abs(D0))+' and angle in degree is '+string(atand(imag(D0),real(D0))));"
   ]
   }
,
{
		   "cell_type": "markdown",
		   "metadata": {},
		   "source": [
			"## Example 6.4: A0_B0_C0_and_D0_constant.sce"
		   ]
		  },
  {
"cell_type": "code",
	   "execution_count": null,
	   "metadata": {
	    "collapsed": true
	   },
	   "outputs": [],
"source": [
"//Exa 6.4\n",
"clc;\n",
"clear;\n",
"close;\n",
"format('v',8);\n",
"//Given data :\n",
"A=0.98*expm(%i*2*%pi/180);//Auxiliary constant\n",
"D=A;//Auxiliary constant\n",
"B=28*expm(%i*69*%pi/180);//Auxiliary constant\n",
"Zse=12*expm(%i*80*%pi/180);//ohm\n",
"C=(A*D-1)/B;//Auxiliary constant\n",
"A0=A+C*Zse;//constant\n",
"B0=B+2*A*Zse+C*Zse^2;//ohm//constant\n",
"C0=C;//mho or S//constant\n",
"D0=A0;//constant\n",
"disp('Constant A0, magnitude is '+string(abs(A0))+' and angle in degree is '+string(atand(imag(A0),real(A0))));\n",
"disp('Constant B0(ohm), magnitude is '+string(abs(B0))+' and angle in degree is '+string(atand(imag(B0),real(B0))));\n",
"disp('Constant C0(S), magnitude is '+string(abs(C0))+' and angle in degree is '+string(atand(imag(C0),real(C0))));\n",
"disp('Constant D0, magnitude is '+string(abs(D0))+' and angle in degree is '+string(atand(imag(D0),real(D0))));"
   ]
   }
,
{
		   "cell_type": "markdown",
		   "metadata": {},
		   "source": [
			"## Example 6.5: A0_B0_C0_and_D0_constant.sce"
		   ]
		  },
  {
"cell_type": "code",
	   "execution_count": null,
	   "metadata": {
	    "collapsed": true
	   },
	   "outputs": [],
"source": [
"//Exa 6.5\n",
"clc;\n",
"clear;\n",
"close;\n",
"format('v',8);\n",
"//Given data :\n",
"A=0.92*expm(%i*5.3*%pi/180);//Auxiliary constant\n",
"D=A;//Auxiliary constant\n",
"B=65.3*expm(%i*81*%pi/180);//Auxiliary constant\n",
"ZT=100*expm(%i*70*%pi/180);//ohm\n",
"YT=0.0002*expm(%i*-75*%pi/180);//S\n",
"C=(A*D-1)/B;//Auxiliary constant\n",
"A0=A*(1+2*YT*ZT)+B*(YT)+C*ZT*(1+YT*ZT);//constant\n",
"B0=2*A*ZT+B+C*ZT^2;//ohm//constant\n",
"C0=2*A*YT*(1+YT*ZT)+B*YT^2+C*(1+YT*ZT)^2;//mho or S//constant\n",
"D0=A0;//constant\n",
"disp('Constant A0, magnitude is '+string(abs(A0))+' and angle in degree is '+string(atand(imag(A0),real(A0))));\n",
"disp('Constant B0(ohm), magnitude is '+string(abs(B0))+' and angle in degree is '+string(atand(imag(B0),real(B0))));\n",
"disp('Constant C0(S), magnitude is '+string(abs(C0))+' and angle in degree is '+string(atand(imag(C0),real(C0))));\n",
"disp('Constant D0, magnitude is '+string(abs(D0))+' and angle in degree is '+string(atand(imag(D0),real(D0))));"
   ]
   }
,
{
		   "cell_type": "markdown",
		   "metadata": {},
		   "source": [
			"## Example 6.6: Equivalent_T_and_Pi_network.sce"
		   ]
		  },
  {
"cell_type": "code",
	   "execution_count": null,
	   "metadata": {
	    "collapsed": true
	   },
	   "outputs": [],
"source": [
"//Exa 6.6\n",
"clc;\n",
"clear;\n",
"close;\n",
"format('v',8);\n",
"//Given data :\n",
"A=0.945*expm(%i*1.02*%pi/180);//Auxiliary constant\n",
"D=A;//Auxiliary constant\n",
"B=82.3*expm(%i*73.03*%pi/180);//ohm//Auxiliary constant\n",
"C=0.001376*expm(%i*90.4*%pi/180);//S//Auxiliary constant\n",
"//part (i)\n",
"Y=C;//S\n",
"Z=2*(A-1)/C;//ohm\n",
"disp('For equivalent T-network : ');\n",
"disp('Shunt admittance in S, magnitude is '+string(abs(Y))+' and angle in degree is '+string(atand(imag(Y),real(Y))));\n",
"disp('Impedance in ohm, magnitude is '+string(abs(Z))+' and angle in degree is '+string(atand(imag(Z),real(Z))));\n",
"disp('For equivalent pi-network : ');\n",
"Z=B;//ohm\n",
"disp('Series Impedance in ohm, magnitude is '+string(abs(Z))+' and angle in degree is '+string(atand(imag(Z),real(Z))));\n",
"Y=2*(A-1)/B;//S\n",
"disp('Shunt admittance in S, magnitude is '+string(abs(Y))+' and angle in degree is '+string(atand(imag(Y),real(Y))));\n",
"//For T-Network Value of Z is wrog in the book."
   ]
   }
],
"metadata": {
		  "kernelspec": {
		   "display_name": "Scilab",
		   "language": "scilab",
		   "name": "scilab"
		  },
		  "language_info": {
		   "file_extension": ".sce",
		   "help_links": [
			{
			 "text": "MetaKernel Magics",
			 "url": "https://github.com/calysto/metakernel/blob/master/metakernel/magics/README.md"
			}
		   ],
		   "mimetype": "text/x-octave",
		   "name": "scilab",
		   "version": "0.7.1"
		  }
		 },
		 "nbformat": 4,
		 "nbformat_minor": 0
}
