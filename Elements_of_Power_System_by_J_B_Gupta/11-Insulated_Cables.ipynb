{
"cells": [
 {
		   "cell_type": "markdown",
	   "metadata": {},
	   "source": [
       "# Chapter 11: Insulated Cables"
	   ]
	},
{
		   "cell_type": "markdown",
		   "metadata": {},
		   "source": [
			"## Example 11.10: Working_Voltage.sce"
		   ]
		  },
  {
"cell_type": "code",
	   "execution_count": null,
	   "metadata": {
	    "collapsed": true
	   },
	   "outputs": [],
"source": [
"////Exa 11.10\n",
"clc;\n",
"clear;\n",
"close;\n",
"//Given data :\n",
"r=1;//cm\n",
"R=2.5;//cm\n",
"d=2*r;//cm\n",
"D=2*R;//cm\n",
"epsilon_r1=5;//relative permitivity\n",
"epsilon_r2=4;//relative permitivity\n",
"epsilon_r3=3;//relative permitivity\n",
"gmax=40;//KV/cm\n",
"//epsilon_r1*d=epsilon_r2*d1=epsilon_r3*d2\n",
"d1=(epsilon_r1/epsilon_r2)*d;//cm\n",
"d2=(epsilon_r1/epsilon_r3)*d;//cm\n",
"Vpeak=gmax/2*(d*log(d1/d)+d1*log(d2/d1)+d2*log(D/d2));//kV\n",
"Vrms=Vpeak/sqrt(2);//kV\n",
"disp(Vrms,'Working voltage(rms) for the cable (kV)');"
   ]
   }
,
{
		   "cell_type": "markdown",
		   "metadata": {},
		   "source": [
			"## Example 11.11: Calculate_Potential_gradient.sce"
		   ]
		  },
  {
"cell_type": "code",
	   "execution_count": null,
	   "metadata": {
	    "collapsed": true
	   },
	   "outputs": [],
"source": [
"//Exa 11.11\n",
"clc;\n",
"clear;\n",
"close;\n",
"//Given data :\n",
"Vs=66;//kV\n",
"d=1;//cm\n",
"d1=1+2*1;//cm\n",
"D=3+2*1;//cm\n",
"epsilon_r1=3;//relative permitivity\n",
"epsilon_r2=2.5;//relative permitivity\n",
"g2maxBYg1max=d*epsilon_r1/(d1*epsilon_r2);\n",
"Vmax=Vs*sqrt(2)/sqrt(3);//kV\n",
"//Vmax=g1max*d/2*log(d1/d)+g2max*d1/2*log(D/d1);//kV\n",
"g1max=Vmax/(d/2*log(d1/d)+g2maxBYg1max*d1/2*log(D/d1));//kV/cm\n",
"disp(g1max,'Potential gradient at the surface of conductor(kV/cm)');\n",
"g2max=g1max*g2maxBYg1max;//kV/cm\n",
"disp(g2max,'Maximum stress in the outer dielectric(kV/cm)');\n",
"Stress=g2max*d1/D;//kV/cm\n",
"disp(Stress,'Stress at the surface of outer dielectric(kV/cm)');"
   ]
   }
,
{
		   "cell_type": "markdown",
		   "metadata": {},
		   "source": [
			"## Example 11.12: Determine_the_maximum_stress.sce"
		   ]
		  },
  {
"cell_type": "code",
	   "execution_count": null,
	   "metadata": {
	    "collapsed": true
	   },
	   "outputs": [],
"source": [
"//Exa 11.12\n",
"clc;\n",
"clear;\n",
"close;\n",
"//Given data :\n",
"Vs=66;//kV\n",
"d=2;//cm\n",
"d1=2+2*1;//cm\n",
"D=4+2*1;//cm\n",
"epsilon_r1=5;//relative permitivity\n",
"epsilon_r2=3;//relative permitivity\n",
"g2maxBYg1max=d*epsilon_r1/(d1*epsilon_r2);\n",
"Vmax=Vs*sqrt(2)/sqrt(3);//kV\n",
"//Vmax=g1max*d/2*log(d1/d)+g2max*d1/2*log(D/d1);//kV\n",
"g1max=Vmax/(d/2*log(d1/d)+g2maxBYg1max*d1/2*log(D/d1));//kV/cm\n",
"disp(g1max,'Potential gradient at the surface of conductor(kV/cm)');\n",
"g2max=g1max*g2maxBYg1max;//kV/cm\n",
"disp(g2max,'Maximum stress in the outer dielectric(kV/cm)');"
   ]
   }
,
{
		   "cell_type": "markdown",
		   "metadata": {},
		   "source": [
			"## Example 11.13: Minimum_Internal_Diameter.sce"
		   ]
		  },
  {
"cell_type": "code",
	   "execution_count": null,
	   "metadata": {
	    "collapsed": true
	   },
	   "outputs": [],
"source": [
"//Exa 11.13\n",
"clc;\n",
"clear;\n",
"close;\n",
"//Given data :\n",
"Vs=66;//kV\n",
"r=0.5;//cm\n",
"g1max=50;//kV/cm\n",
"g2max=40;//kV/cm\n",
"g3max=30;//kV/cm\n",
"epsilon_r1=4;//relative permitivity\n",
"epsilon_r2=4;//relative permitivity\n",
"epsilon_r3=2.5;//relative permitivity\n",
"//Q=2*%pi*epsilon0*epsilon_r1*r*g1max=2*%pi*epsilon0*epsilon_r2*r*g2max=2*%pi*epsilon0*epsilon_r3*r*g3max\n",
"r1=epsilon_r1*r*g1max/(epsilon_r2*g2max);//cm\n",
"r2=epsilon_r2*r1*g2max/(epsilon_r3*g3max);//cm\n",
"Vmax=Vs*sqrt(2);//kV\n",
"//Vmax=g1max*r*log(r1/r)+g2max*r1*log(r2/r1)+g3max*r2*log(R/r2);//kV\n",
"R=exp((Vmax-g1max*r*log(r1/r)-g2max*r1*log(r2/r1))/g3max/r2)*r2;//cm\n",
"D=2*R;//cm\n",
"disp(D,'Inner diameter of lead sheath(cm)');"
   ]
   }
,
{
		   "cell_type": "markdown",
		   "metadata": {},
		   "source": [
			"## Example 11.14: Diameter_of_intersheath.sce"
		   ]
		  },
  {
"cell_type": "code",
	   "execution_count": null,
	   "metadata": {
	    "collapsed": true
	   },
	   "outputs": [],
"source": [
"//Exa 11.14\n",
"clc;\n",
"clear;\n",
"close;\n",
"//Given data :\n",
"Vrms=66;//kV\n",
"Vmax=Vrms*sqrt(2);//kV\n",
"gmax=60;//kV/cm\n",
"d=2*Vmax/%e/gmax;//cm\n",
"d1=%e*d;//cm\n",
"V1=Vrms/%e;//kV\n",
"dV=Vrms-V1;//kV(Voltage between sheath & intersheath)\n",
"disp(dV,'Voltage between sheath & intersheath(kV)');"
   ]
   }
,
{
		   "cell_type": "markdown",
		   "metadata": {},
		   "source": [
			"## Example 11.15: Maximum_stress_and_voltage.sce"
		   ]
		  },
  {
"cell_type": "code",
	   "execution_count": null,
	   "metadata": {
	    "collapsed": true
	   },
	   "outputs": [],
"source": [
"//Exa 11.15\n",
"clc;\n",
"clear;\n",
"close;\n",
"//Given data :\n",
"Vs=66;//kV\n",
"Vmax=Vs*sqrt(2)/sqrt(3);//kV\n",
"D=6;//cm\n",
"d=2.5;//cm\n",
"d1=%e*d;//cm\n",
"gmax=2*Vmax/d/log(D/d);//kV/cm\n",
"disp(gmax,'Maximum stress without intersheath(kV/cm)');\n",
"//d1/d=d2/d1=D/d2=alfa(say)\n",
"alfa=(D/d)^(1/3);\n",
"d1=alfa*d;//cm\n",
"d2=alfa*d1;//cm\n",
"gmax=Vmax/(d/2*log(d1/d)+d1/2*log(d2/d1)+d2/2*log(D/d2));//kV/cm\n",
"V1max=gmax*d/2*log(d1/d);//kV\n",
"V2max=gmax*d1/2*log(d2/d1);//kV\n",
"Vpeak1=Vmax-V1max;//kV\n",
"disp(Vpeak1,'Peak voltage on 1st intersheath(kV)');\n",
"Vpeak2=Vpeak1-V2max;//kV\n",
"disp(Vpeak2,'Peak voltage on 2nd intersheath(kV)');"
   ]
   }
,
{
		   "cell_type": "markdown",
		   "metadata": {},
		   "source": [
			"## Example 11.16: capacitance_and_charging_current.sce"
		   ]
		  },
  {
"cell_type": "code",
	   "execution_count": null,
	   "metadata": {
	    "collapsed": true
	   },
	   "outputs": [],
"source": [
"//Exa 11.16\n",
"clc;\n",
"clear;\n",
"close;\n",
"//Given data :\n",
"Vs=11;//kV\n",
"f=50;//Hz\n",
"l=2.5*1000;//m\n",
"C_all3=1.8;//micro F\n",
"Cdash=1.5;//micro F(2*Cc+Cs)\n",
"Cs=C_all3/3;//micro F\n",
"Cc=(Cdash-Cs)/2;//micro F\n",
"C_N=3*Cc+Cs;//micro F\n",
"disp(C_N,'Capacitance of core to neutral(micro F)');\n",
"C_2=C_N/2;//micro F\n",
"disp(C_2,'Capacitance between any two core(micro F)');\n",
"Vp=Vs*1000/sqrt(3);//Volt\n",
"Ic=2*%pi*f*Vp*C_N*10^-6;//A\n",
"disp(Ic,'Charging current per phase(A)');"
   ]
   }
,
{
		   "cell_type": "markdown",
		   "metadata": {},
		   "source": [
			"## Example 11.17: Calculate_the_KVA_take.sce"
		   ]
		  },
  {
"cell_type": "code",
	   "execution_count": null,
	   "metadata": {
	    "collapsed": true
	   },
	   "outputs": [],
"source": [
"//Exa 11.17\n",
"clc;\n",
"clear;\n",
"close;\n",
"//Given data :\n",
"l=10;//km\n",
"Vs=10;//kV\n",
"f=50;//Hz\n",
"C=0.3;//micro F/km(between any two core)\n",
"C2=l*C;//micro F(between any two core)\n",
"C_N=2*C2;//micro F\n",
"Vp=Vs*1000/sqrt(3);//Volt\n",
"Ic=2*%pi*f*Vp*C_N*10^-6;//A\n",
"kVA=3*Vp*Ic/1000;//kVAR\n",
"disp(kVA,'kVA taken by the cable(kVAR)');"
   ]
   }
,
{
		   "cell_type": "markdown",
		   "metadata": {},
		   "source": [
			"## Example 11.18: Find_the_capacitance.sce"
		   ]
		  },
  {
"cell_type": "code",
	   "execution_count": null,
	   "metadata": {
	    "collapsed": true
	   },
	   "outputs": [],
"source": [
"//Exa 11.18\n",
"clc;\n",
"clear;\n",
"close;\n",
"//Given data :\n",
"Cs3=1;//micro F/km(between shorted conductor)\n",
"Cs=Cs3/3;//micro F\n",
"Cdash=0.6;//micro F(Cdash=2*Cc+Cs : between two shorted conductor)\n",
"Cc=(Cdash-Cs)/2;//micro F\n",
"C2=1/2*[3*Cc+Cs];//micro F\n",
"disp(C2,'Capacitance between any two cores(micro F)');\n",
"C2dash=2*Cc+2/3*Cs;//micro F\n",
"disp(C2dash,'Capacitance between any two shorted conductors and third conductor(micro F)');"
   ]
   }
,
{
		   "cell_type": "markdown",
		   "metadata": {},
		   "source": [
			"## Example 11.19: Maximum_Stress_and_total_Charging_KVAR.sce"
		   ]
		  },
  {
"cell_type": "code",
	   "execution_count": null,
	   "metadata": {
	    "collapsed": true
	   },
	   "outputs": [],
"source": [
"//Exa 11.19\n",
"clc;\n",
"clear;\n",
"close;\n",
"//Given data :\n",
"Vs=33;//kV\n",
"f=50;//Hz\n",
"l=3.4;//km\n",
"d=2.5;//cm\n",
"D=d+2*0.6;//cm\n",
"epsilon_r=3.1;//relative permitivity\n",
"C=0.024*epsilon_r/log10(D/d)*l*1000*1000*10^-6;// F/phase\n",
"Vp=Vs*1000/sqrt(3);//Volt\n",
"Ic=2*%pi*f*C*10^-6*Vp;//A\n",
"kVAR=3*Vp*Ic*10^-3;//kVAR\n",
"disp(kVAR,'Total charging kVAR : ');\n",
"Emax=Vp/(d/2*log(D/d))*10^-3;//kV/cm\n",
"disp(Emax,'Maximum stress in the cable(kV/cm) ');"
   ]
   }
,
{
		   "cell_type": "markdown",
		   "metadata": {},
		   "source": [
			"## Example 11.1: Insulation_Resistance.sce"
		   ]
		  },
  {
"cell_type": "code",
	   "execution_count": null,
	   "metadata": {
	    "collapsed": true
	   },
	   "outputs": [],
"source": [
"//Exa 11.1\n",
"clc;\n",
"clear;\n",
"close;\n",
"//Given data :\n",
"rho=5*10^14*10^-2;//ohm-m\n",
"l=5*1000;//m\n",
"r1=1.25;//m\n",
"r2=r1+1;//m\n",
"R_ins=rho/(2*%pi*l)*log(r2/r1);//ohm\n",
"disp(R_ins/10^6,'Insulation resistance of cable(Mohm) :');"
   ]
   }
,
{
		   "cell_type": "markdown",
		   "metadata": {},
		   "source": [
			"## Example 11.20: Capacitance_Charging_Current_Loss_Resistance.sce"
		   ]
		  },
  {
"cell_type": "code",
	   "execution_count": null,
	   "metadata": {
	    "collapsed": true
	   },
	   "outputs": [],
"source": [
"//Exa 11.20\n",
"clc;\n",
"clear;\n",
"close;\n",
"//Given data :\n",
"Vs=11;//kV\n",
"f=50;//Hz\n",
"D=2;//cm\n",
"d=0.5;//cm\n",
"epsilon_r=3.5;//relative permitivity\n",
"pf=0.05;//power factor\n",
"C=0.024*epsilon_r/log10(D/d)*10^-6;// F/km\n",
"disp(C*10^6,'Capacitance of the cable(micro F)');\n",
"Vp=Vs*1000/sqrt(3);//Volt\n",
"Ic=2*%pi*f*C*Vp;//A\n",
"disp(Ic,'Charging current(A)');\n",
"fi=acosd(pf);//degree\n",
"del=90-fi;//degree(Dielectric loss angle)\n",
"loss_dielectric=2*%pi*f*C*Vp^2*tand(del);//W\n",
"disp(loss_dielectric,'Dielectric loss(W)');\n",
"R_INS=Vp^2/loss_dielectric;//ohm\n",
"disp(R_INS/10^6,'Equivalent insulation resistance(Mohm)');"
   ]
   }
,
{
		   "cell_type": "markdown",
		   "metadata": {},
		   "source": [
			"## Example 11.21: Loss_angle_and_No_load_current.sce"
		   ]
		  },
  {
"cell_type": "code",
	   "execution_count": null,
	   "metadata": {
	    "collapsed": true
	   },
	   "outputs": [],
"source": [
"//Exa 11.21\n",
"clc;\n",
"clear;\n",
"close;\n",
"//Given data :\n",
"Vs=11;//kV\n",
"f=50;//Hz\n",
"C_N_by_2=2.5;//micro F(between 2 core 1 core shorted)\n",
"C_N=C_N_by_2*2;//micro F\n",
"Vp=Vs*1000/sqrt(3);//Volt\n",
"Ic=2*%pi*f*Vp*C_N*10^-6;//A\n",
"R_INS2=810;//kohm\n",
"R_INS=R_INS2/2;//kohm\n",
"del=atand(1/(R_INS*10^3*2*%pi*f*C_N*10^-6));//degree\n",
"disp(del,'Loss angle(degree)');\n",
"Ie=Vp/R_INS/1000;//A\n",
"I=sqrt(Ic^2+Ie^2);//A\n",
"disp(I,'No load current drawn by cable(A)');"
   ]
   }
,
{
		   "cell_type": "markdown",
		   "metadata": {},
		   "source": [
			"## Example 11.2: Insulation_Resistance.sce"
		   ]
		  },
  {
"cell_type": "code",
	   "execution_count": null,
	   "metadata": {
	    "collapsed": true
	   },
	   "outputs": [],
"source": [
"//Exa 11.2\n",
"clc;\n",
"clear;\n",
"close;\n",
"//Given data :\n",
"rho=5*10^14*10^-2;//ohm-m\n",
"l=5*1000;//m\n",
"r1=2.5;//m\n",
"r2=r1+1;//m\n",
"R_ins=rho/(2*%pi*l)*log(r2/r1);//ohm\n",
"disp(R_ins/10^6,'Insulation resistance of cable(Mohm) :');"
   ]
   }
,
{
		   "cell_type": "markdown",
		   "metadata": {},
		   "source": [
			"## Example 11.3: Calculate_the_Resistivity.sce"
		   ]
		  },
  {
"cell_type": "code",
	   "execution_count": null,
	   "metadata": {
	    "collapsed": true
	   },
	   "outputs": [],
"source": [
"//Exa 11.3\n",
"clc;\n",
"clear;\n",
"close;\n",
"//Given data :\n",
"l=3000;//cm\n",
"d1=1.5;//cm\n",
"r1=d1/2;//cm\n",
"d2=5;//cm\n",
"r2=d2/2;//cm\n",
"R_INS=1800;//Mohm\n",
"rho=R_INS*10^6*(2*%pi*l)/log(r2/r1);//ohm-m\n",
"disp(rho,'Resistivity (ohm-m) :');"
   ]
   }
,
{
		   "cell_type": "markdown",
		   "metadata": {},
		   "source": [
			"## Example 11.4: Find_Charging_current.sce"
		   ]
		  },
  {
"cell_type": "code",
	   "execution_count": null,
	   "metadata": {
	    "collapsed": true
	   },
	   "outputs": [],
"source": [
"//Exa 11.4\n",
"clc;\n",
"clear;\n",
"close;\n",
"//Given data :\n",
"V1=11000;//Volt\n",
"f=50;//Hz\n",
"a=0.645;//cm^2\n",
"d=sqrt(4*a/%pi);//cm\n",
"d=d/100;//m\n",
"D=2.18/100;//m\n",
"epsilon_r=3.5;//relative permitivity\n",
"V=V1*sqrt(2)/sqrt(3);//V(assuming 3 phase system)\n",
"gmax=2*V/d/log(D/d);//V/m\n",
"gmax=gmax/10^5;//KV/cm\n",
"disp(gmax,'Maximum electrostatic stress(kV/cm)');\n",
"gmin=2*V/D/log(D/d);//V/m\n",
"gmin=gmin/10^5;//kV/cm\n",
"disp(gmin,'Minimum electrostatic stress(kV/cm)');\n",
"C=0.024*epsilon_r/log10(D/d);//micro F\n",
"disp(C*10^-6,'Capacitance per km length(F)');//\n",
"Vp=V1/sqrt(3);//V\n",
"Ic=2*%pi*f*C*10^-6*Vp;//A\n",
"disp(Ic,'Charging Current per phase per km length(A)');"
   ]
   }
,
{
		   "cell_type": "markdown",
		   "metadata": {},
		   "source": [
			"## Example 11.5: Maximum_Stress_and_Charging_KVAR.sce"
		   ]
		  },
  {
"cell_type": "code",
	   "execution_count": null,
	   "metadata": {
	    "collapsed": true
	   },
	   "outputs": [],
"source": [
"//Exa 11.5\n",
"clc;\n",
"clear;\n",
"close;\n",
"//Given data :\n",
"VL=33*1000;//Volt\n",
"f=50;//Hz\n",
"l=3.4;//km\n",
"d=2.5;//cm\n",
"radial_thick=0.6;//cm\n",
"epsilon_r=3.1;//relative permitivity\n",
"V=VL*sqrt(2)/sqrt(3);//V(assuming 3 phase system)\n",
"D=d+2*radial_thick;//cm\n",
"D=D/100;//cm\n",
"d=d/100;//m\n",
"gmax=2*V/d/log(D/d);//V/m\n",
"disp(gmax,'Maximum electrostatic stress(V/m)');\n",
"C=0.024*epsilon_r*l/log10(D/d);//micro F\n",
"Vp=VL/sqrt(3);//V\n",
"Ic=2*%pi*f*C*10^-6*Vp;//A\n",
"kVA=sqrt(3)*VL*Ic*10^-3;//kVAR\n",
"disp(kVA,'Total charging kVA(kVAR)');"
   ]
   }
,
{
		   "cell_type": "markdown",
		   "metadata": {},
		   "source": [
			"## Example 11.6: Determine_D_and_d.sce"
		   ]
		  },
  {
"cell_type": "code",
	   "execution_count": null,
	   "metadata": {
	    "collapsed": true
	   },
	   "outputs": [],
"source": [
"//Exa 11.6\n",
"clc;\n",
"clear;\n",
"close;\n",
"//Given data :\n",
"VL=10*1000;//Volt\n",
"Emax=23;//kV/cm\n",
"gmax=Emax*10^5;//V/m\n",
"d=2*VL/gmax;//m\n",
"disp(d*10^3,'Diameter of conductor(mm)');\n",
"D=%e*d;//m\n",
"disp(D*10^3,'Internal diameter of sheath(mm)');"
   ]
   }
,
{
		   "cell_type": "markdown",
		   "metadata": {},
		   "source": [
			"## Example 11.7: Most_Economical_value_of_diameter.sce"
		   ]
		  },
  {
"cell_type": "code",
	   "execution_count": null,
	   "metadata": {
	    "collapsed": true
	   },
	   "outputs": [],
"source": [
"//Exa 11.7\n",
"clc;\n",
"clear;\n",
"close;\n",
"//Given data :\n",
"VL=132*1000;//Volt\n",
"gmax=60;//kV/cm(peak)\n",
"gmax=gmax/sqrt(2)*10^5;//V/m(rms)\n",
"V=VL/sqrt(3);//Volt\n",
"d=2*V/gmax;//m\n",
"disp(d*10^3,'Diameter of conductor(mm)');\n",
"D=%e*d;//m\n",
"disp(D*10^3,'Internal diameter of sheath(mm)');"
   ]
   }
,
{
		   "cell_type": "markdown",
		   "metadata": {},
		   "source": [
			"## Example 11.8: Maximum_safe_working_voltage.sce"
		   ]
		  },
  {
"cell_type": "code",
	   "execution_count": null,
	   "metadata": {
	    "collapsed": true
	   },
	   "outputs": [],
"source": [
"//Exa 11.8\n",
"clc;\n",
"clear;\n",
"close;\n",
"//Given data :\n",
"r=0.5;//cm\n",
"R=3.5;//cm\n",
"r1=1;//cm\n",
"g1max=34;//kV/cm(peak)\n",
"epsilon_r=5;//relative permitivity\n",
"g2max=g1max*r/r1/epsilon_r;//kV/cm(peak)\n",
"Vpeak=r*g1max*log(r1/r)+r1*g2max*log(R/r1);//kV\n",
"Vrms=Vpeak/sqrt(2);//kV\n",
"disp(Vrms,'RMS value of max safe working voltage(kV)');"
   ]
   }
,
{
		   "cell_type": "markdown",
		   "metadata": {},
		   "source": [
			"## Example 11.9: Thickness_and_working_voltage.sce"
		   ]
		  },
  {
"cell_type": "code",
	   "execution_count": null,
	   "metadata": {
	    "collapsed": true
	   },
	   "outputs": [],
"source": [
"////Exa 11.9\n",
"clc;\n",
"clear;\n",
"close;\n",
"//Given data :\n",
"g1max=60;//kV/cm\n",
"g2max=50;//kV/cm\n",
"epsilon_r1=4;//relative permitivity\n",
"epsilon_r2=2.5;//relative permitivity\n",
"D=5;//cm(sheat inside diameter)\n",
"d=1;//cm\n",
"//g1max/g2max=epsilon_r2*d1/(epsilon_r1*d)\n",
"d1=g1max/g2max/epsilon_r2*(epsilon_r1*d);//cm\n",
"t_inner=(d1-d)/2;//cm\n",
"disp(t_inner*10,'Radial thickness of inner dielectric(mm)');\n",
"t_outer=(D-d1)/2;//cm\n",
"disp(t_outer*10,'Radial thickness of outer dielectric(mm)');\n",
"Vpeak=g1max/2*d*log(d1/d)+g2max/2*d1*log(D/d1);//kV\n",
"Vrms=Vpeak/sqrt(2);//kV\n",
"disp(Vrms,'Maximum working voltage(rms in kV)');"
   ]
   }
],
"metadata": {
		  "kernelspec": {
		   "display_name": "Scilab",
		   "language": "scilab",
		   "name": "scilab"
		  },
		  "language_info": {
		   "file_extension": ".sce",
		   "help_links": [
			{
			 "text": "MetaKernel Magics",
			 "url": "https://github.com/calysto/metakernel/blob/master/metakernel/magics/README.md"
			}
		   ],
		   "mimetype": "text/x-octave",
		   "name": "scilab",
		   "version": "0.7.1"
		  }
		 },
		 "nbformat": 4,
		 "nbformat_minor": 0
}
