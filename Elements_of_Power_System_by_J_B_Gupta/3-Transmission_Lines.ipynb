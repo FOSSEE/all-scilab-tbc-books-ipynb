{
"cells": [
 {
		   "cell_type": "markdown",
	   "metadata": {},
	   "source": [
       "# Chapter 3: Transmission Lines"
	   ]
	},
{
		   "cell_type": "markdown",
		   "metadata": {},
		   "source": [
			"## Example 3.1: Weight_of_material_required.sce"
		   ]
		  },
  {
"cell_type": "code",
	   "execution_count": null,
	   "metadata": {
	    "collapsed": true
	   },
	   "outputs": [],
"source": [
"//Exa 3.1\n",
"clc;\n",
"clear;\n",
"close;\n",
"//Given data :\n",
"P=30*10^6;//W\n",
"pf=0.8;//lagging power factor\n",
"VL=132*1000;//V\n",
"l=120*1000;//m\n",
"Eta=90/100;//Efficiency\n",
"rho_Cu=1.78*10^-8;//ohm-m\n",
"D_Cu=8.9*10^3;//kg/m^3\n",
"rho_Al=2.6*10^-8;//ohm-m\n",
"D_Al=2*10^3;//kg/m^3\n",
"IL=P/(sqrt(3)*VL*pf);//A\n",
"//W=3*IL^2*rho*l/a=(1-Eta)*P\n",
"a_Cu=(3*IL^2*rho_Cu*l)/(1-Eta)/P;//m^2\n",
"V_Cu=3*a_Cu*l;//m^3\n",
"Wt_Cu=V_Cu*D_Cu;//kg\n",
"disp(Wt_Cu,'Weight of copper required(kg)');\n",
"a_Al=(3*IL^2*rho_Al*l)/(1-Eta)/P;//m^2\n",
"V_Al=3*a_Al*l;//m^3\n",
"Wt_Al=V_Al*D_Al;//kg\n",
"disp(Wt_Al,'Weight of Alluminium required(kg)');\n",
"//Answer in the textbook is not accurate."
   ]
   }
,
{
		   "cell_type": "markdown",
		   "metadata": {},
		   "source": [
			"## Example 3.2: Most_Economical_Cross_section_Area.sce"
		   ]
		  },
  {
"cell_type": "code",
	   "execution_count": null,
	   "metadata": {
	    "collapsed": true
	   },
	   "outputs": [],
"source": [
"//Exa 3.2\n",
"clc;\n",
"clear;\n",
"close;\n",
"//Given data :\n",
"a=poly(0,'a');\n",
"cost=90*a+20;//Rs./m\n",
"i=10;//%(interest and depreciation)\n",
"l=2;//km\n",
"cost_E=4;//paise/unit\n",
"Im=250;//A\n",
"a=1;//cm^2\n",
"rho_c=0.173;//ohm/km/cm^2\n",
"l2=1*1000;//km\n",
"R=rho_c*l/a;//ohm\n",
"W=2*Im^2*R;//W\n",
"Eloss=W/1000*365*24/2;//per annum(kWh)\n",
"P3BYa=cost_E/100*Eloss;//Rs\n",
"Cc=90*a*l*1000;//Rs(capital cost of feeder cable)\n",
"P2a=Cc*i/100;//Rs\n",
"//P2a=P3BYa;//For most economical cross section\n",
"a=sqrt(P3BYa*a/(P2a/a));//cm^2\n",
"disp(a,'Most economical cross sectional area in cm^2 : ');"
   ]
   }
,
{
		   "cell_type": "markdown",
		   "metadata": {},
		   "source": [
			"## Example 3.3: Best_Current_Density.sce"
		   ]
		  },
  {
"cell_type": "code",
	   "execution_count": null,
	   "metadata": {
	    "collapsed": true
	   },
	   "outputs": [],
"source": [
"//Exa 3.3\n",
"clc;\n",
"clear;\n",
"close;\n",
"//Given data :\n",
"t=2600;//hour\n",
"Con_Cost=3;//Rs/kg(conductor cost)\n",
"R=1.78*10^-8;//ohm-m\n",
"D=6200;//kg/m^3\n",
"E_Cost=10/100;//Rs/unit(energy cost)\n",
"i=12;//%(interest and depreciation)\n",
"a=poly(0,'a');//mm^2    ////cross sectional area\n",
"W=a*1000*D/1000/1000;//kg/km(Weight of conductor of 1km length)\n",
"cost=Con_Cost*W;//Rs./km(cost of conductor of 1km length)\n",
"In_Dep=cost*i/100;//Rs(Annual interest and depreciation per conductor per km)\n",
"In_DepBYa=In_Dep/a;\n",
"I=poly(0,'I');//A\n",
"E_lost_aBY_Isqr=R*1000/10^-6*t/1000;//Energy lost/annum/km/conductor\n",
"E_lost_cost_aBY_Isqr=E_Cost*E_lost_aBY_Isqr;//Rs/annum\n",
"//In_Dep=E_lost_cost;//For most economical cross section\n",
"IBYa=sqrt(coeff(numer(In_DepBYa)/numer(E_lost_cost_aBY_Isqr)));//cm^2\n",
"disp(IBYa,'Best current density in A/mm^2 : ');\n",
"//Answer in the textbook is not accurate."
   ]
   }
,
{
		   "cell_type": "markdown",
		   "metadata": {},
		   "source": [
			"## Example 3.4: Economical_current_density_and_diameter.sce"
		   ]
		  },
  {
"cell_type": "code",
	   "execution_count": null,
	   "metadata": {
	    "collapsed": true
	   },
	   "outputs": [],
"source": [
"//Exa 3.4\n",
"clc;\n",
"clear;\n",
"close;\n",
"//Given data :\n",
"V=11;//kV\n",
"P=1500;//kW\n",
"pf=0.8;//lagging power factor\n",
"t=300*8;//hours\n",
"a=poly(0,'a');//cross section area\n",
"Cc=8000+20000*a//Rs/km\n",
"R=0.173/a;//ohm/km\n",
"E_lost_cost=2/100;//Rs/unit\n",
"i=12;//%(interest and depreciation)\n",
"Cc_var=20000*a//Rs/km(variable cost)\n",
"P2a=Cc_var*i/100;//Rs/km\n",
"P2=P2a/a;\n",
"I=P/sqrt(3)/V/pf;//A\n",
"W=3*I^2*R;//W\n",
"E_loss=W/1000*t;//kWh\n",
"P3BYa=E_lost_cost*E_loss;//Rs\n",
"//P2a=P3BYa;//For most economical cross section\n",
"a=sqrt(coeff((numer(P3BYa))/coeff(numer(P2))));//cm^2\n",
"d=sqrt(4*a/%pi);//cm\n",
"del=I/a;//A/cm^2\n",
"disp(d,'Diameter of conductor in cm : ');\n",
"disp(del,'Most economical current density in A/cm^2 : ');"
   ]
   }
,
{
		   "cell_type": "markdown",
		   "metadata": {},
		   "source": [
			"## Example 3.5: Most_economical_current_density.sce"
		   ]
		  },
  {
"cell_type": "code",
	   "execution_count": null,
	   "metadata": {
	    "collapsed": true
	   },
	   "outputs": [],
"source": [
"//Exa 3.5\n",
"clc;\n",
"clear;\n",
"close;\n",
"//Given data :\n",
"a=poly(0,'a');//cross section area\n",
"I=poly(0,'I');//Current\n",
"Cc=500+2000*a//Rs/km\n",
"i=12;//%(interest and depreciation)\n",
"E_lost_cost=5/100;//Rs/kWh\n",
"rho=1.78*10^-8;//ohm-cm\n",
"load_factor=0.12;\n",
"Cc_var=2000*a//Rs/km(variable cost)\n",
"P2a=Cc_var*i/100;//Rs/km\n",
"P2=P2a/a;\n",
"R_into_a=rho*1000/(10^-4);//ohm\n",
"W_into_a=I^2*R_into_a;//W\n",
"E_loss_into_a=W_into_a*load_factor/1000*8760;//kWh\n",
"P3BYIsqr=E_lost_cost*E_loss_into_a/I^2;//Rs\n",
"//P2a=P3BYa;//For most economical cross section\n",
"IBYa=sqrt(coeff((numer(P2))/coeff(numer(P3BYIsqr))));//cm^2\n",
"disp(IBYa,'Most economical current density in A/cm^2 : ');"
   ]
   }
,
{
		   "cell_type": "markdown",
		   "metadata": {},
		   "source": [
			"## Example 3.6: Most_Economical_current_density.sce"
		   ]
		  },
  {
"cell_type": "code",
	   "execution_count": null,
	   "metadata": {
	    "collapsed": true
	   },
	   "outputs": [],
"source": [
"//Exa 3.6\n",
"clc;\n",
"clear;\n",
"close;\n",
"//Given data :\n",
"A=poly(0,'A');//cross section area\n",
"I=poly(0,'I');//Current\n",
"Cc=500+2000*A//Rs/km\n",
"load_factor=0.12;\n",
"i=12;//%(depreciation)\n",
"E_lost_cost=0.05;//Rs/kWh\n",
"R=0.17/A;//ohm/km\n",
"\n",
"Cc_var=2000*A//Rs/km(variable cost)\n",
"P2A=Cc_var*i/100;//Rs/km\n",
"P2=P2A/A;\n",
"R_into_A=R*A;//ohm\n",
"W_into_A_BY_Isqr=R_into_A;//W\n",
"E_loss_into_A_BY_Isqr=W_into_A_BY_Isqr*load_factor/1000*8760;//kWh\n",
"P3BYIsqr=E_lost_cost*E_loss_into_A_BY_Isqr;//Rs\n",
"//P2a=P3BYa;//For most economical cross section\n",
"IBYa=sqrt(coeff((numer(P2))/coeff(numer(P3BYIsqr))));//cm^2\n",
"disp(IBYa,'Most economical current density in A/cm^2 : ');\n",
"//Answer in the textbook is wrong."
   ]
   }
,
{
		   "cell_type": "markdown",
		   "metadata": {},
		   "source": [
			"## Example 3.7: Most_economical_size.sce"
		   ]
		  },
  {
"cell_type": "code",
	   "execution_count": null,
	   "metadata": {
	    "collapsed": true
	   },
	   "outputs": [],
"source": [
"//Exa 3.7\n",
"clc;\n",
"clear;\n",
"close;\n",
"//Given data :\n",
"P1=1000;//kW\n",
"pf1=0.8;//\n",
"t1=10;//hours\n",
"P2=500;//kW\n",
"pf2=0.9;//\n",
"t2=8;//hours\n",
"P3=100;//kW\n",
"pf3=1;//\n",
"t3=6;//hours\n",
"a=poly(0,'a');//cross section area\n",
"I=poly(0,'I');//Current\n",
"L=poly(0,'L');//length in km\n",
"CcBYL=(8000*a+1500)//Rs/km(variable cost)\n",
"i=10;//%(depreciation)\n",
"E_lost_cost=80/100;//Rs/kWh\n",
"rho=1.72*10^-6;//ohm-cm\n",
"Cc_varBYL=8000*a*i/100//Rs/km(variable cost)\n",
"I1=P1*1000/sqrt(3)/10000/pf1;//A\n",
"I2=P2*1000/sqrt(3)/10000/pf2;//A\n",
"I3=P3*1000/sqrt(3)/10000/pf3;//A\n",
"R_into_a_BY_L=rho*1000*100;//ohm\n",
"W_into_A_BY_Isqr=R_into_a_BY_L;//W\n",
"E_loss_into_A_BY_L=3*R_into_a_BY_L*[I1^2*t1+I2^2*t2+I3^2*t3]*365/1000;//kWh\n",
"E_loss_cost_into_A_BY_L=E_loss_into_A_BY_L*E_lost_cost;//Rs\n",
"//Cc_var=E_loss_cost;//For most economical cross section\n",
"a=sqrt(coeff((numer(E_loss_cost_into_A_BY_L))/coeff(numer(Cc_varBYL/a))));//cm^2\n",
"disp(a,'Most economical cross sectional area in cm^2 : ');"
   ]
   }
],
"metadata": {
		  "kernelspec": {
		   "display_name": "Scilab",
		   "language": "scilab",
		   "name": "scilab"
		  },
		  "language_info": {
		   "file_extension": ".sce",
		   "help_links": [
			{
			 "text": "MetaKernel Magics",
			 "url": "https://github.com/calysto/metakernel/blob/master/metakernel/magics/README.md"
			}
		   ],
		   "mimetype": "text/x-octave",
		   "name": "scilab",
		   "version": "0.7.1"
		  }
		 },
		 "nbformat": 4,
		 "nbformat_minor": 0
}
