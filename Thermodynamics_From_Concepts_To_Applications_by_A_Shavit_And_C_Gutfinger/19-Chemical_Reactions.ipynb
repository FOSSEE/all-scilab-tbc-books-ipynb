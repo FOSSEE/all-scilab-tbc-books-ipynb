{
"cells": [
 {
		   "cell_type": "markdown",
	   "metadata": {},
	   "source": [
       "# Chapter 19: Chemical Reactions"
	   ]
	},
{
		   "cell_type": "markdown",
		   "metadata": {},
		   "source": [
			"## Example 19.10: chapter_19_example_10.sce"
		   ]
		  },
  {
"cell_type": "code",
	   "execution_count": null,
	   "metadata": {
	    "collapsed": true
	   },
	   "outputs": [],
"source": [
"clc\n",
"//initialisation of variables\n",
"T= 25 //C\n",
"R= 8.314 //Jmol K\n",
"k= 1.27\n",
"k1= 1.34\n",
"hf= -393520 //kJ/kmol\n",
"M= 28 //gms\n",
"gf= -394360 //kJ/kmol\n",
"M= 12 //gms\n",
"//CALCULATIONS\n",
"T1= T+(-hf/((R)*((k/(k-1))+(0.2+4.5144)*(k1/(k1-1)))))\n",
"Bin= 0\n",
"dh= (k1*R/(k1-1))*(T1-T)\n",
"dh1= (k1*R/(k1-1))*log((273.15+T1)/(273.15+T))\n",
"H= dh-(273.15+T)*dh1\n",
"h= (k*R/(k-1))*(T1-T)+hf\n",
"h1= (k*R/(k-1))*log((273.15+T1)/(273.15+T))+((hf-gf)/(273.15+T))\n",
"h2= h-(273.15+T)*h1\n",
"Bout= (h2+(0.2+4.5144)*H)/M\n",
"//RESULTS\n",
"printf (' outlet temperature= %.2f C ',T1)\n",
"printf (' \n energy of formation= %.f J ',Bin)\n",
"printf (' \n energy at outlet= %.f kJ/kmol ',H)\n",
"printf (' \n energy of the products= %.f k ',Bout)"
   ]
   }
,
{
		   "cell_type": "markdown",
		   "metadata": {},
		   "source": [
			"## Example 19.11: chapter_19_example_11.sce"
		   ]
		  },
  {
"cell_type": "code",
	   "execution_count": null,
	   "metadata": {
	    "collapsed": true
	   },
	   "outputs": [],
"source": [
"clc\n",
"//initialisation of variables\n",
"b= 1475.30 //kJ/kg\n",
"b0= 144.44 //kJ/kg\n",
"h2= 3448.6 //kJkg\n",
"h1= 860.5 //kJ/kg\n",
"k= 1.27 \n",
"k1= 1.34\n",
"R= 8.314 //J/mol K\n",
"hf= -393520 //kJ/kmol\n",
"hg= 72596 //kJ/kmol\n",
"Mc= 12 //kg\n",
"n= 1.2 //moles\n",
"n1= 3.76 //moles\n",
"M= 32 //gms\n",
"M1= 28 //gms\n",
"M2= 44 //gms\n",
"n2= 0.2 //moles\n",
"n3= 4.512 //moles\n",
"B1= 25592 //kJ/kmol C\n",
"B2= 394360 //kJ/kmol C\n",
"e= 0.008065\n",
"//CALCULATIONS\n",
"B= b-b0\n",
"Q= h2-h1\n",
"CpCO2= k*R/(k-1)\n",
"CpO2= k1*R/(k1-1)\n",
"Qcoal= (hg+hf)/Mc\n",
"mcoal= Q/(-Qcoal)\n",
"ncoal= mcoal/Mc\n",
"r= (n*M+n1*M1)/Mc\n",
"r1= (M2+n2*M+n3*M1)/Mc\n",
"mair= r*mcoal\n",
"mgas= r1*mcoal\n",
"Bfuel= (B1-B2)*e\n",
"Bnet= Bfuel+B\n",
"p= B*100/(-Bfuel)\n",
"//RESULTS\n",
"printf (' change in energy= %.2f kJ/kg ',B)\n",
"printf (' \n amount of air= %.3f kg/kg ',mair)\n",
"printf (' \n amount of gas= %.3f kg/kg ',mgas)\n",
"printf (' \n net change in energy= %.2f kg/kg steam ',Bnet)\n",
"printf (' \n percent energy in original fuel= %.2f percent ',p)"
   ]
   }
,
{
		   "cell_type": "markdown",
		   "metadata": {},
		   "source": [
			"## Example 19.1: chapter_19_example_1.sce"
		   ]
		  },
  {
"cell_type": "code",
	   "execution_count": null,
	   "metadata": {
	    "collapsed": true
	   },
	   "outputs": [],
"source": [
"clc\n",
"//initialisation of variables\n",
"pN2= 79 //percent\n",
"VN2= 82.3 //m^3\n",
"VCO2= 8 //m^3\n",
"VCO= 0.9 //m^3\n",
"M= 32 //gms\n",
"M1= 28 //gms\n",
"//CALCULATIONS\n",
"P= (pN2/(100-pN2))\n",
"z= VN2/P\n",
"x= VCO2+VCO\n",
"w= VCO2+(VCO/2)+(VCO2/10)\n",
"y= 2*w\n",
"r= y/x\n",
"TO= x+(y/4)\n",
"X= (z/TO)-1\n",
"AF= z*(M+P*M1)/(12*x+y)\n",
"//RESULTS\n",
"printf (' fuel ratio= %.3f  ',r)\n",
"printf (' \n excess air= %.3f  ',X)\n",
"printf (' \n emass air-fuel ratio= %.2f  ',AF)"
   ]
   }
,
{
		   "cell_type": "markdown",
		   "metadata": {},
		   "source": [
			"## Example 19.2: chapter_19_example_2.sce"
		   ]
		  },
  {
"cell_type": "code",
	   "execution_count": null,
	   "metadata": {
	    "collapsed": true
	   },
	   "outputs": [],
"source": [
"clc\n",
"//initialisation of variables\n",
"m1= 24 //kg\n",
"M1= 32 //kg\n",
"m2= 28 //kg\n",
"M2= 28 //kg\n",
"e= 0.5\n",
"T3= 1800 //C\n",
"T0= 25 //C\n",
"T1= 25 //C\n",
"T2= 100 //C\n",
"R= 8.314 //Jmol K\n",
"cp= 4.57 //J/mol K\n",
"cp1= 3.5 //J/mol K\n",
"cp2= 3.5 //J/mol K\n",
"hCO2= -393522 //J\n",
"hCO= -110529 //J\n",
"//CALCULATIONS\n",
"n1= m1/M1\n",
"n2= m2/M2\n",
"N= n1-0.5*e\n",
"N1= n2-e\n",
"N2= e\n",
"N3= N+N1+N2\n",
"y1= N/N3\n",
"Q= ((N*cp+N1*cp1+N2*cp2)*R*(T3-T0)-(n1*cp*(T1-T0)+n2*cp2*(T2-T1))+N*(hCO2-hCO))/60\n",
"//RESULTS\n",
"printf (' Heat interaction= %.f kW ',Q)"
   ]
   }
,
{
		   "cell_type": "markdown",
		   "metadata": {},
		   "source": [
			"## Example 19.3: chapter_19_example_3.sce"
		   ]
		  },
  {
"cell_type": "code",
	   "execution_count": null,
	   "metadata": {
	    "collapsed": true
	   },
	   "outputs": [],
"source": [
"clc\n",
"//initialisation of variables\n",
"hCO2= -393520 //kJ/kg mol\n",
"hH2O= -285840 //kJ/kg mol\n",
"hC7H16= -187820 //kJ/kg mol\n",
"M= 100\n",
"hH2O1= -241830 //kJkg mol\n",
"//CALCULATIONS\n",
"HHV= -(7*hCO2+8*hH2O-hC7H16)/M\n",
"LLV= -(7*hCO2+8*hH2O1-hC7H16)/M\n",
"//RESULTS\n",
"printf (' Higher heating vlue= %.f kJ/kg mol ',HHV)\n",
"printf (' \n Lower heating vlue= %.f kJ/kg mol ',LLV)"
   ]
   }
,
{
		   "cell_type": "markdown",
		   "metadata": {},
		   "source": [
			"## Example 19.4: chapter_19_example_4.sce"
		   ]
		  },
  {
"cell_type": "code",
	   "execution_count": null,
	   "metadata": {
	    "collapsed": true
	   },
	   "outputs": [],
"source": [
"clc\n",
"//initialisation of variables\n",
"T0= 25 //C\n",
"T1= 220 //C\n",
"hCO2= -393520 //kJ/kg\n",
"hH2O= -241830 //kJ/kg\n",
"hC3H8= -103850 //kJ/kg= 1.4\n",
"R= 8.314 //Jmol K\n",
"k= 1.4\n",
"k1= 1.29\n",
"//CALCULATIONS\n",
"T= T0+((15*(R*(k/(k-1)))*4.762*(T1-T0)-(3*hCO2+4*hH2O-hC3H8))/(R*((3+4)*(k1/(k1-1))+(10+56.43)*(k/(k-1)))))\n",
"//RESULTS\n",
"printf (' adiabatic flame temperature= %.f C ',T)"
   ]
   }
,
{
		   "cell_type": "markdown",
		   "metadata": {},
		   "source": [
			"## Example 19.6: chapter_19_example_6.sce"
		   ]
		  },
  {
"cell_type": "code",
	   "execution_count": null,
	   "metadata": {
	    "collapsed": true
	   },
	   "outputs": [],
"source": [
"clc\n",
"//initialisation of variables\n",
"T= 25 //C\n",
"hfT= -241820 //kJ/kmol\n",
"R= 8.314 //J/mol K\n",
"k= 1.4\n",
"cpH2O= 4.45\n",
"cpO2= 3.5\n",
"T1= 1000 //C\n",
"//CALCULATIONS\n",
"S= (cpH2O-k*cpO2)\n",
"hfT1= hfT+S*(T1-T)\n",
"//RESULTS\n",
"printf (' enthalpy formation= %.f kJ/kmol ',hfT1)"
   ]
   }
,
{
		   "cell_type": "markdown",
		   "metadata": {},
		   "source": [
			"## Example 19.7: chapter_19_example_7.sce"
		   ]
		  },
  {
"cell_type": "code",
	   "execution_count": null,
	   "metadata": {
	    "collapsed": true
	   },
	   "outputs": [],
"source": [
"clc\n",
"//initialisation of variables\n",
"R= 8.314 //J/mol K\n",
"T= 25 //C\n",
"gf= 16590 //kJ/kmol\n",
"T1= 500 //C\n",
"Cp= 4.157 //J/mol K\n",
"hf= -46190 //kJ/kmol\n",
"//CALCULATIONS\n",
"K= %e^(gf/(R*(273.15+T)))\n",
"r= (1-((273.15+T)/(273.15+T1)))*((hf/(R*(273.15+T)))+(R/Cp))-2*log((273.15+T1)/(273.15+T))+0.6\n",
"KT1= K*%e^r\n",
"//RESULTS\n",
"printf (' equilibrium constant= %.1f bar^-1 ',K)\n",
"printf (' \n equilibrium constant= %.5f bar^-1 ',KT1)"
   ]
   }
,
{
		   "cell_type": "markdown",
		   "metadata": {},
		   "source": [
			"## Example 19.8: chapter_19_example_8.sce"
		   ]
		  },
  {
"cell_type": "code",
	   "execution_count": null,
	   "metadata": {
	    "collapsed": true
	   },
	   "outputs": [],
"source": [
"clc\n",
"//initialisation of variables\n",
"uCO2= -394374 //J/mol\n",
"uCO= -137150 //J/mol\n",
"uO2= 0\n",
"R= 8.314 //J/mol K\n",
"T= 25 //C\n",
"cpCO2= 4.57 //J/mol K\n",
"cpCO= 3.5 //J/mol K\n",
"cpO2= 3.5 //J/mol K\n",
"T1= 1500 //C\n",
"hf= -393522 //kJ/kmol\n",
"gf= -110529 //kJ/kmol\n",
"T2= 2500 //C\n",
"//CALCULATIONS\n",
"r= -(uCO2-uCO-0.5*uO2)/(R*(273.15+T))\n",
"s= (cpCO2-cpCO-0.5*cpO2)\n",
"r1= (1-((273.15+T)/(273.15+T1)))*((hf-gf)/(R*(273.15+T))-s)+s*log((273.15+T1)/(273.15+T))\n",
"KT1= %e^(r+r1)\n",
"r2= (1-((273.15+T)/(273.15+T2)))*((hf-gf)/(R*(273.15+T))-s)+s*log((273.15+T2)/(273.15+T))\n",
"KT2= %e^(r+r2)\n",
"//RESULTS\n",
"printf (' equilibrium constant at T1= %.3f C ',KT1)\n",
"printf (' \n equilibrium constant at T2= %.3f C ',KT2)"
   ]
   }
,
{
		   "cell_type": "markdown",
		   "metadata": {},
		   "source": [
			"## Example 19.9: chapter_19_example_9.sce"
		   ]
		  },
  {
"cell_type": "code",
	   "execution_count": null,
	   "metadata": {
	    "collapsed": true
	   },
	   "outputs": [],
"source": [
"clc\n",
"//initialisation of variables\n",
"Wc= 12 //kg\n",
"hf= -393520 //kJ/kmol\n",
"gf= -394360 //kJ/kmol\n",
"//CALCULATIONS\n",
"Wmax= -gf/Wc\n",
"//RESULTS\n",
"printf (' maximum work= %.f kJ/kg of carbon ',Wmax)"
   ]
   }
],
"metadata": {
		  "kernelspec": {
		   "display_name": "Scilab",
		   "language": "scilab",
		   "name": "scilab"
		  },
		  "language_info": {
		   "file_extension": ".sce",
		   "help_links": [
			{
			 "text": "MetaKernel Magics",
			 "url": "https://github.com/calysto/metakernel/blob/master/metakernel/magics/README.md"
			}
		   ],
		   "mimetype": "text/x-octave",
		   "name": "scilab",
		   "version": "0.7.1"
		  }
		 },
		 "nbformat": 4,
		 "nbformat_minor": 0
}
