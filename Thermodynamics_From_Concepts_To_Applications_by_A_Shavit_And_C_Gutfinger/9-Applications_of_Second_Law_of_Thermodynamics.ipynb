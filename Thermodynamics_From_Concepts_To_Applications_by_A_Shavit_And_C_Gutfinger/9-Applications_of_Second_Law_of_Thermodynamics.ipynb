{
"cells": [
 {
		   "cell_type": "markdown",
	   "metadata": {},
	   "source": [
       "# Chapter 9: Applications of Second Law of Thermodynamics"
	   ]
	},
{
		   "cell_type": "markdown",
		   "metadata": {},
		   "source": [
			"## Example 9.10: chapter_9_example_10.sce"
		   ]
		  },
  {
"cell_type": "code",
	   "execution_count": null,
	   "metadata": {
	    "collapsed": true
	   },
	   "outputs": [],
"source": [
"clc\n",
"//initialisation of variables\n",
"m1= 1 //kg\n",
"h1= 2967.6 //kJ/kg\n",
"h2= 83.96 //kJ/kg\n",
"m2= 10\n",
"s1= 7.5166 //kJ/kg K\n",
"s2= 0.2966 //kJ/kg K\n",
"s3= 1.1654 //kJ/kg K\n",
"//CALCULATIONS\n",
"h3= (m1*h1+m2*h2)/(m1+m2)\n",
"S= -m1*s1-m2*s2+(m1+m2)*s3\n",
"//RESULTS\n",
"printf (' enthalpy = %.1f kJ/kg',h3)\n",
"printf (' \n entropy change = %.4f kJ/kg K',S)"
   ]
   }
,
{
		   "cell_type": "markdown",
		   "metadata": {},
		   "source": [
			"## Example 9.1: chapter_9_example_1.sce"
		   ]
		  },
  {
"cell_type": "code",
	   "execution_count": null,
	   "metadata": {
	    "collapsed": true
	   },
	   "outputs": [],
"source": [
"clc\n",
"//initialisation of variables\n",
"p1= 3 //Mpa\n",
"p2= 0.2 //Mpa\n",
"V1= 0.6 //m^3\n",
"V2= 1 //m^3\n",
"M= 28 //gms\n",
"R= 8.314 //J/mol K\n",
"T= 400 //C\n",
"T1= 150 //C\n",
"k= 1.4\n",
"p3= 1.25 //Mpa\n",
"//CALCULATIONS\n",
"m1= p1*V1*10^3*M/(R*(273.15+T))\n",
"m2= p2*V2*10^3*M/(R*(273.15+T1))\n",
"p4= (p1*V1+p2*V2)/(V1+V2)\n",
"T2= (p4/p1)^((k-1)/k)*(273.15+T)\n",
"m3= p3*V1*M*10^3/(R*T2)\n",
"dm= m1-m3\n",
"m4= m2+dm\n",
"T4= p3*10^3*V2/((R/M)*m4)\n",
"S= (R/M)*(m2*((k/(k-1))*log(T4/(273.15+T1))-log(p3/p2))+dm*((k/(k-1))*log(T4/(273.15+T))-log(p3/p1)))\n",
"//RESULTS\n",
"printf (' final temperature = %.1f K',T2)\n",
"printf (' \n final temperature = %.1f K',T4)\n",
"printf (' \n total entropy = %.4f KJ/K',S)"
   ]
   }
,
{
		   "cell_type": "markdown",
		   "metadata": {},
		   "source": [
			"## Example 9.2: chapter_9_example_2.sce"
		   ]
		  },
  {
"cell_type": "code",
	   "execution_count": null,
	   "metadata": {
	    "collapsed": true
	   },
	   "outputs": [],
"source": [
"clc\n",
"//initialisation of variables\n",
"m= 10000 //kg/h\n",
"P= 2.5 //Mpa\n",
"P1= 100 //kPa\n",
"v= 0.001003 //m^3\n",
"//CALCULATIONS\n",
"W= -m*v*(P*10^3-P1)/3600\n",
"//RESULTS\n",
"printf (' work of the pump = %.3f kW',W)"
   ]
   }
,
{
		   "cell_type": "markdown",
		   "metadata": {},
		   "source": [
			"## Example 9.3: chapter_9_example_3.sce"
		   ]
		  },
  {
"cell_type": "code",
	   "execution_count": null,
	   "metadata": {
	    "collapsed": true
	   },
	   "outputs": [],
"source": [
"clc\n",
"//initialisation of variables\n",
"m= 4 //kg/s\n",
"R= 8.314 //J/mol K\n",
"M= 29 //gms\n",
"k= 1.4\n",
"T1= 27 //C\n",
"p2= 1800 //kPa\n",
"p1= 105 //kPa\n",
"n= 1.22\n",
"cp= 1.4 //Jmol K\n",
"//CALCULATIONS\n",
"T2= (273.15+T1)*(p2/p1)^((n-1)/n)\n",
"W= m*k*(R/M)*((273.15+T1)/(k-1))*(1-(p2/p1))^((k-1)/k)\n",
"Q= -m*R*(273.15+T1)*log(p2/p1)/M\n",
"W1= m*(R/M)*n*((273.15+T1)/(n-1))*(1-(p2/p1)^((n-1)/n))\n",
"Q1= m*(R/M)*(n-k)*(T2-T1-273.15)/((n-1)*(k-1))\n",
"T3= (273.15+T1)*(p2/p1)^((k-1)/(2*k))\n",
"Q2= m*cp*(R/M)*(T1+273.15-T3)/(k-1)\n",
"//RESULTS\n",
"printf (' heat removed in adiabatic compression = %.1f kW',W)\n",
"printf (' \n heat removed in isothermal compression = %.1f kW',Q)\n",
"printf (' \n heat removed in polytropic process = %.1f kW',Q1)\n",
"printf (' \n heat removed in adiabatic compression in two stages = %.1f kW',Q2)"
   ]
   }
,
{
		   "cell_type": "markdown",
		   "metadata": {},
		   "source": [
			"## Example 9.4: chapter_9_example_4.sce"
		   ]
		  },
  {
"cell_type": "code",
	   "execution_count": null,
	   "metadata": {
	    "collapsed": true
	   },
	   "outputs": [],
"source": [
"clc\n",
"//initialisation of variables\n",
"h1= 3422.25 //kJ/kg\n",
"m= 8 //kg/s\n",
"s2= 7.3755 //kJ/kg K\n",
"s1= 6.8803 //kJ/kg K\n",
"e= 0.8\n",
"h2s= 2496.8 //kJ/kg\n",
"//CALCULATIONS\n",
"h2= h1+e*(h2s-h1)\n",
"W= m*(h1-h2)\n",
"S= s2-s1\n",
"//RESULTS\n",
"printf (' \n Enthalpy  = %.1f kW',W)\n",
"printf (' \n Entropy = %.4f kJ/kg K',S)"
   ]
   }
,
{
		   "cell_type": "markdown",
		   "metadata": {},
		   "source": [
			"## Example 9.5: chapter_9_example_5.sce"
		   ]
		  },
  {
"cell_type": "code",
	   "execution_count": null,
	   "metadata": {
	    "collapsed": true
	   },
	   "outputs": [],
"source": [
"clc\n",
"//initialisation of variables\n",
"m= 0.2 //kg/s\n",
"v1= 1.0803 //m^3/kg\n",
"T= 200 //C\n",
"s2= 5.8041 //kJ/kg K\n",
"s1= 7.5066 //kJ/kg K\n",
"h1= 2328.1 //kJ/kg\n",
"h2= 2654.4 //kJ/kg\n",
"//CALCULATIONS\n",
"V1= m*v1\n",
"V2= 0.1*V1\n",
"Q= m*(273.15+T)*(s2-s1)\n",
"W= Q-m*(h1-h2)\n",
"//RESULTS\n",
"printf (' volume flow rate into composser = %.4f m^3',V1)\n",
"printf (' \n volume flow rate out of composser  = %.4f m^3',V2)\n",
"printf (' \n Heat  = %.1f kJ',Q)\n",
"printf (' \n Work  = %.1f kJ',W)"
   ]
   }
,
{
		   "cell_type": "markdown",
		   "metadata": {},
		   "source": [
			"## Example 9.6: chapter_9_example_6.sce"
		   ]
		  },
  {
"cell_type": "code",
	   "execution_count": null,
	   "metadata": {
	    "collapsed": true
	   },
	   "outputs": [],
"source": [
"clc\n",
"//initialisation of variables\n",
"m1= 0.2 //kg/s\n",
"v1= 1.0803 //m^3/kg\n",
"P= 200 //kPa\n",
"T= 200 //C\n",
"s1= 5.8041 //kJ.kg K\n",
"s2= 7.5066 //kJ/kg K\n",
"h1= 2870.5 //kJ/kg\n",
"h2= 2495.9 //kJ/kg\n",
"//CALCULATIONS\n",
"V1= m1*v1\n",
"V2= 0.1*V1\n",
"Q= m1*(273.15+T)*(s1-s2)\n",
"W= m1*((h1-h2)-(273.15+T)*(s2-s1))\n",
"//RESULTS\n",
"printf (' volume flow rate into composser = %.4f m^3/s',V1)\n",
"printf (' \n volume flow rate out of composser  = %.4f m^3/s',V2) \n",
"printf (' \n Work  = %.1f kW',W)\n",
"printf (' \n Heat  = %.1f kW',Q)"
   ]
   }
,
{
		   "cell_type": "markdown",
		   "metadata": {},
		   "source": [
			"## Example 9.7: chapter_9_example_7.sce"
		   ]
		  },
  {
"cell_type": "code",
	   "execution_count": null,
	   "metadata": {
	    "collapsed": true
	   },
	   "outputs": [],
"source": [
"clc\n",
"//initialisation of variables\n",
"e= 0.82\n",
"m= 5 //kg/s\n",
"T3= 450 //C\n",
"T1= 200 //C\n",
"//CALCULATIONS\n",
"Q= e*m*1.0035*(T3-T1)\n",
"//RESULTS\n",
"printf (' rate of transfer = %.1f kW',Q)"
   ]
   }
,
{
		   "cell_type": "markdown",
		   "metadata": {},
		   "source": [
			"## Example 9.8: chapter_9_example_8.sce"
		   ]
		  },
  {
"cell_type": "code",
	   "execution_count": null,
	   "metadata": {
	    "collapsed": true
	   },
	   "outputs": [],
"source": [
"clc\n",
"//initialisation of variables\n",
"h1= 174.076 //kJ/kg\n",
"h3= 74.527 //kJ/kg\n",
"h4= 8.854 //kJ/kg\n",
"m= 0.8 //kg\n",
"e= 0.85\n",
"//CALCULATIONS\n",
"h2= h1+h3-h4\n",
"Q= m*(h2-h1-23)\n",
"Q1= e*Q\n",
"//RESULTS\n",
"printf (' Heat = %.2f kW',Q)\n",
"printf (' \n Heat = %.2f kW',Q1)"
   ]
   }
,
{
		   "cell_type": "markdown",
		   "metadata": {},
		   "source": [
			"## Example 9.9: chapter_9_example_9.sce"
		   ]
		  },
  {
"cell_type": "code",
	   "execution_count": null,
	   "metadata": {
	    "collapsed": true
	   },
	   "outputs": [],
"source": [
"clc\n",
"//initialisation of variables\n",
"W= 2000 //kW\n",
"m= 2 //kg/s\n",
"h1= 3023.5 //kJ/kg\n",
"s2= 5.6106 //kJ/kg K\n",
"s1= 6.7664 //kJ/kg K\n",
"//CALCULATIONS\n",
"h2= h1-(W/m)\n",
"S=s2-s1\n",
"//RESULTS\n",
"printf (' enthalpy = %.1f kJ/kg',h2)\n",
"printf (' \n entropy change = %.4f kJ/kg K',S)"
   ]
   }
],
"metadata": {
		  "kernelspec": {
		   "display_name": "Scilab",
		   "language": "scilab",
		   "name": "scilab"
		  },
		  "language_info": {
		   "file_extension": ".sce",
		   "help_links": [
			{
			 "text": "MetaKernel Magics",
			 "url": "https://github.com/calysto/metakernel/blob/master/metakernel/magics/README.md"
			}
		   ],
		   "mimetype": "text/x-octave",
		   "name": "scilab",
		   "version": "0.7.1"
		  }
		 },
		 "nbformat": 4,
		 "nbformat_minor": 0
}
