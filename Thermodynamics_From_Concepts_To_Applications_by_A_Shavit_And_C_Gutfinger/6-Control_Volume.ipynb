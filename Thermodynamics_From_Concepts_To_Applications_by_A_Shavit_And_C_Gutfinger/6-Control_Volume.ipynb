{
"cells": [
 {
		   "cell_type": "markdown",
	   "metadata": {},
	   "source": [
       "# Chapter 6: Control Volume"
	   ]
	},
{
		   "cell_type": "markdown",
		   "metadata": {},
		   "source": [
			"## Example 6.1: chapter_6_example_1.sce"
		   ]
		  },
  {
"cell_type": "code",
	   "execution_count": null,
	   "metadata": {
	    "collapsed": true
	   },
	   "outputs": [],
"source": [
"clc\n",
"//initialisation of variables\n",
"R= 8.314 //J/mol K\n",
"M= 29 //gms\n",
"T= 80 //C\n",
"p= 104 ///kPa\n",
"v= 30 //m/sec\n",
"m= 8000 //kg/h\n",
"//CALCULATIONS\n",
"V= R*(273.15+T)/(M*p)\n",
"A= m*V/(3600*v)\n",
"D= sqrt(4*A/%pi)\n",
"//RESULTS\n",
"printf (' diameter = %.5f m^2',D)"
   ]
   }
,
{
		   "cell_type": "markdown",
		   "metadata": {},
		   "source": [
			"## Example 6.2: chapter_6_example_2.sce"
		   ]
		  },
  {
"cell_type": "code",
	   "execution_count": null,
	   "metadata": {
	    "collapsed": true
	   },
	   "outputs": [],
"source": [
"clc\n",
"//initialisation of variables\n",
"R= 8.314 //J/mol K\n",
"M= 29 //gms\n",
"T1= 230 //C\n",
"p1= 30 ///bar\n",
"k= 1.4\n",
"T2= 180 //C\n",
"v1= 10 //m/s\n",
"p2= 20 //bar\n",
"m2= 0.84 //kg/s\n",
"//CALCULATIONS\n",
"V1= R*(273.15+T1)/(M*p1*100)\n",
"cp= k*R/((k-1)*M)\n",
"A= m2*V1*10^4/v1\n",
"v2= sqrt(v1^2+2*cp*10^3*(T1-T2))\n",
"V2= R*(273.15+T2)/(M*p2*100)\n",
"A2= m2*V2*10^4/v2\n",
"//RESULTS\n",
"printf (' inlet area = %.1f cm^2',A)\n",
"printf (' \n inlet area = %.2f cm^2',A2)"
   ]
   }
,
{
		   "cell_type": "markdown",
		   "metadata": {},
		   "source": [
			"## Example 6.3: chapter_6_example_3.sce"
		   ]
		  },
  {
"cell_type": "code",
	   "execution_count": null,
	   "metadata": {
	    "collapsed": true
	   },
	   "outputs": [],
"source": [
"clc\n",
"//initialisation of variables\n",
"h= 2676.2 //kJ/kg\n",
"hf= 721.11 //kJ/kg\n",
"hg= 2679.1 //kJ/kg\n",
"vf= 0.001115 //m^3/kg\n",
"vg= 0.2404 //m^3/kg\n",
"//CALCULATIONS\n",
"x= (h-hf)/(hg-hf)\n",
"v1= vf+x*(vg-vf)\n",
"//RESULTS\n",
"printf (' quantity = %.4f ',x)\n",
"printf (' \n specific volume = %.4f m^3/kg',v1)"
   ]
   }
,
{
		   "cell_type": "markdown",
		   "metadata": {},
		   "source": [
			"## Example 6.4: chapter_6_example_4.sce"
		   ]
		  },
  {
"cell_type": "code",
	   "execution_count": null,
	   "metadata": {
	    "collapsed": true
	   },
	   "outputs": [],
"source": [
"clc\n",
"//initialisation of variables\n",
"h4= 419.05 //kJ/kg\n",
"h1= 434.92 //kJ/kg\n",
"m= 2.5 //kg/s\n",
"h2= 3272.4 //kJ/kg\n",
"h3= 2601.7 //kJ/kg\n",
"v1= 0.001401 //m^3/kg\n",
"V1= 5 //m/s\n",
"v2= 0.03817 //m^3/kg\n",
"V2= 20 //m/s\n",
"v3= 0.8415 //m^3/kg\n",
"V3= 100 //m/s\n",
"v4= 0.00104 //m^3/kg\n",
"V4= 5 //m/s\n",
"//CALCULATIONS\n",
"W41= m*(h4-h1)\n",
"Q12= m*(h2-h1)\n",
"W23= m*(h2-h3)\n",
"Q34= m*(h4-h3)\n",
"A1= m*v1*10^4/V1\n",
"A2= m*v2*10^4/V2\n",
"A3= m*v3*10^4/V3\n",
"A4= m*v4*10^4/V4\n",
"//RESULTS\n",
"printf (' rate of pump = %.1f kW',W41)\n",
"printf (' \n rate of heat ineraction = %.f kW',Q12)\n",
"printf (' \n rate of work of the turbine = %.1f W',W23)\n",
"printf (' \n rate of heat ineraction = %.f kW',Q34)\n",
"printf (' \n area = %.2f cm^2',A1)\n",
"printf (' \n area = %.2f cm^2',A2)\n",
"printf (' \n area = %.2f cm^2',A3)\n",
"printf (' \n area = %.2f cm^2',A4)"
   ]
   }
,
{
		   "cell_type": "markdown",
		   "metadata": {},
		   "source": [
			"## Example 6.5: chapter_6_example_5.sce"
		   ]
		  },
  {
"cell_type": "code",
	   "execution_count": null,
	   "metadata": {
	    "collapsed": true
	   },
	   "outputs": [],
"source": [
"clc\n",
"//initialisation of variables\n",
"m1= 0.03 //kg\n",
"R= 8.314 //J/mol K\n",
"T1= 300 //C\n",
"p1= 120 //kPa\n",
"k= 5/3\n",
"M=4 //kg\n",
"p2= 600 //kPa\n",
"//CALCULATIONS\n",
"V= m1*R*(273.15+T1)/(p1*M)\n",
"m2= m1*((p2/p1)+k-1)/k\n",
"T2= p2*V*M/(m2*R)\n",
"//RESULTS\n",
"printf (' mass of helium = %.3f kg',m2)\n",
"printf (' \n temperature of helium = %.1f K',T2)"
   ]
   }
,
{
		   "cell_type": "markdown",
		   "metadata": {},
		   "source": [
			"## Example 6.6: chapter_6_example_6.sce"
		   ]
		  },
  {
"cell_type": "code",
	   "execution_count": null,
	   "metadata": {
	    "collapsed": true
	   },
	   "outputs": [],
"source": [
"clc\n",
"//initialisation of variables\n",
"m1= 0.03 //kg\n",
"v1= 2.1977 //m^3/kg\n",
"h2= 3073.8 //kJ/kg\n",
"h1= 3061.6 //kJ/kg\n",
"p2= 600 //kPa\n",
"p1= 120 //kPa\n",
"//CALCULATIONS\n",
"V=m1*v1\n",
"r= ((h2-h1)/v1)+p2-p1\n",
"//RESULTS\n",
"printf (' volume of container = %.5f m^3',V)\n",
"printf (' \n pressure = %.2f kPa',r)"
   ]
   }
],
"metadata": {
		  "kernelspec": {
		   "display_name": "Scilab",
		   "language": "scilab",
		   "name": "scilab"
		  },
		  "language_info": {
		   "file_extension": ".sce",
		   "help_links": [
			{
			 "text": "MetaKernel Magics",
			 "url": "https://github.com/calysto/metakernel/blob/master/metakernel/magics/README.md"
			}
		   ],
		   "mimetype": "text/x-octave",
		   "name": "scilab",
		   "version": "0.7.1"
		  }
		 },
		 "nbformat": 4,
		 "nbformat_minor": 0
}
