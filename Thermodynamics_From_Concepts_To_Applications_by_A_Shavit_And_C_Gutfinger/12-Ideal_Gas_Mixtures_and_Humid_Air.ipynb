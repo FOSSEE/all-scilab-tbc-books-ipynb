{
"cells": [
 {
		   "cell_type": "markdown",
	   "metadata": {},
	   "source": [
       "# Chapter 12: Ideal Gas Mixtures and Humid Air"
	   ]
	},
{
		   "cell_type": "markdown",
		   "metadata": {},
		   "source": [
			"## Example 12.1: chapter_12_example_1.sce"
		   ]
		  },
  {
"cell_type": "code",
	   "execution_count": null,
	   "metadata": {
	    "collapsed": true
	   },
	   "outputs": [],
"source": [
"clc\n",
"//initialisation of variables\n",
"x= 0.78\n",
"x1= 0.21\n",
"x2= 0.008\n",
"x3= 0.002\n",
"MN2= 28.013 //gms\n",
"MO2= 32 //gms\n",
"MAr= 39.948 //gms\n",
"MH2O= 18.016 //gms\n",
"//CALCULATIONS\n",
"M= x*MN2+x1*MO2+x2*MAr+x3*MH2O\n",
"//RESULTS\n",
"printf (' molecular wight of air= %.3f kg/kmol',M)"
   ]
   }
,
{
		   "cell_type": "markdown",
		   "metadata": {},
		   "source": [
			"## Example 12.2: chapter_12_example_2.sce"
		   ]
		  },
  {
"cell_type": "code",
	   "execution_count": null,
	   "metadata": {
	    "collapsed": true
	   },
	   "outputs": [],
"source": [
"clc\n",
"//initialisation of variables\n",
"M= 30.04 //kg/kmol\n",
"R= 8.3143 //J/mol K\n",
"p= 100 //kPa\n",
"V= 0.2 //m^3\n",
"T= 25 //C\n",
"//CALCULATIONS\n",
"R1= R/M\n",
"m= p*V/(R1*(273.15+T))\n",
"//RESULTS\n",
"printf (' average value of R= %.4f kJ/kg K',R1)\n",
"printf (' \n mass= %.3f kg',m)"
   ]
   }
,
{
		   "cell_type": "markdown",
		   "metadata": {},
		   "source": [
			"## Example 12.3: chapter_12_example_3.sce"
		   ]
		  },
  {
"cell_type": "code",
	   "execution_count": null,
	   "metadata": {
	    "collapsed": true
	   },
	   "outputs": [],
"source": [
"clc\n",
"//initialisation of variables\n",
"m1= 0.5 //kg\n",
"cv1= 0.6496 //kJ/kg K\n",
"T1= 80 //C\n",
"m2= 1 //kg\n",
"cv2= 0.6299 //kJ/kg K\n",
"T2= 150 //C\n",
"M= 32 //kg\n",
"M1= 44 //kg\n",
"V1= 0.11437 //m^3\n",
"V2= 0.1 //m^2\n",
"R= 8.314 //J/mol K\n",
"//CALCULATIONS\n",
"T= (m1*cv1*(273.15+T1)+m2*cv2*(273.15+T2))/(m1*cv1+m2*cv2)\n",
"p= ((m1/M)+(m2/M1))*R*T/(V1+V2)\n",
"S= m1*(cv1*log(T/(273.15+T1))+(R/M)*log((V1+V2)/V1))+m2*(cv2*log(T/(273.15+T2))+(R/M1)*log((V1+V2)/V2))\n",
"//RESULTS\n",
"printf (' final temperature= %.1f kPa',T)\n",
"printf (' \n final pressure= %.1f kPa',p)\n",
"printf (' \n change in entropy= %.4f kJ/K',S)"
   ]
   }
,
{
		   "cell_type": "markdown",
		   "metadata": {},
		   "source": [
			"## Example 12.4: chapter_12_example_4.sce"
		   ]
		  },
  {
"cell_type": "code",
	   "execution_count": null,
	   "metadata": {
	    "collapsed": true
	   },
	   "outputs": [],
"source": [
"clc\n",
"//initialisation of variables\n",
"Twb= 22 //C\n",
"Tmin= 22.3 //C\n",
"w2= 0.0170 //kg/kg dry air\n",
"w1= 0.0093 //kg/kg dry air\n",
"//CALCULATIONS\n",
"m= w2-w1\n",
"//RESULTS\n",
"printf (' wet-bulb temperature= %.f C',Twb)\n",
"printf (' \n minimum temperature= %.f 1C',Tmin)\n",
"printf (' \n amount of water injected= %.4f kg/kg dry air',m)"
   ]
   }
,
{
		   "cell_type": "markdown",
		   "metadata": {},
		   "source": [
			"## Example 12.5: chapter_12_example_5.sce"
		   ]
		  },
  {
"cell_type": "code",
	   "execution_count": null,
	   "metadata": {
	    "collapsed": true
	   },
	   "outputs": [],
"source": [
"clc\n",
"//initialisation of variables\n",
"w3= 0.0178 //kg/kgair\n",
"w4= 0.0172 //kg/kgair\n",
"//CALCULATIONS\n",
"dw= w3-w4\n",
"//RESULTS\n",
"printf (' state after mixing= %.4f kg/kgair',dw)"
   ]
   }
,
{
		   "cell_type": "markdown",
		   "metadata": {},
		   "source": [
			"## Example 12.6: chapter_12_example_6.sce"
		   ]
		  },
  {
"cell_type": "code",
	   "execution_count": null,
	   "metadata": {
	    "collapsed": true
	   },
	   "outputs": [],
"source": [
"clc\n",
"//initialisation of variables\n",
"m= 20000 //kg/h\n",
"T1= 42 //C\n",
"T2= 22 //C\n",
"J= 4.186 //cal\n",
"h1= 54 //kJ/kg\n",
"h2= 94.8 //kJ/kg\n",
"w1= 0.0105 //kg/h kg\n",
"w2= 0.0244 //kg/h kg\n",
"//CALCULATIONS\n",
"ma= m*(T1-T2)*J/((h2-h1-J*T2*(w2-w1)))\n",
"mw= ma*(w2-w1)\n",
"m4= m-mw\n",
"//RESULTS\n",
"printf (' air mass flow rate= %.1f kg/hr',ma)\n",
"printf (' \n amount of water to be added= %.f kg/hr',m4)"
   ]
   }
,
{
		   "cell_type": "markdown",
		   "metadata": {},
		   "source": [
			"## Example 12.7: chapter_12_example_7.sce"
		   ]
		  },
  {
"cell_type": "code",
	   "execution_count": null,
	   "metadata": {
	    "collapsed": true
	   },
	   "outputs": [],
"source": [
"clc\n",
"//initialisation of variables\n",
"x= 0.79\n",
"P0= 101 //kPa\n",
"P= 20 //Mpa\n",
"V= 0.032 //m^3\n",
"//CALCULATIONS\n",
"p= x*P0\n",
"Wrev= P*10^3*V*(log(P/(p*10^-3))+((p*10^-3)/P)-1)\n",
"//RESULTS\n",
"printf (' maximum useful work= %.1f kJ',Wrev)"
   ]
   }
],
"metadata": {
		  "kernelspec": {
		   "display_name": "Scilab",
		   "language": "scilab",
		   "name": "scilab"
		  },
		  "language_info": {
		   "file_extension": ".sce",
		   "help_links": [
			{
			 "text": "MetaKernel Magics",
			 "url": "https://github.com/calysto/metakernel/blob/master/metakernel/magics/README.md"
			}
		   ],
		   "mimetype": "text/x-octave",
		   "name": "scilab",
		   "version": "0.7.1"
		  }
		 },
		 "nbformat": 4,
		 "nbformat_minor": 0
}
