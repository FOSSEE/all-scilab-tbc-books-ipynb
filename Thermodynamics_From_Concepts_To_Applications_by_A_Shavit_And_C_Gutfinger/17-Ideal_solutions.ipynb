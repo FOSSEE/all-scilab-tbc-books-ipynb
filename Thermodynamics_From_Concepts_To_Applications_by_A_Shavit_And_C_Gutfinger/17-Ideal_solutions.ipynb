{
"cells": [
 {
		   "cell_type": "markdown",
	   "metadata": {},
	   "source": [
       "# Chapter 17: Ideal solutions"
	   ]
	},
{
		   "cell_type": "markdown",
		   "metadata": {},
		   "source": [
			"## Example 17.1: chapter_17_example_1.sce"
		   ]
		  },
  {
"cell_type": "code",
	   "execution_count": null,
	   "metadata": {
	    "collapsed": true
	   },
	   "outputs": [],
"source": [
"clc\n",
"//initialisation of variables\n",
"Pa= 40 //kPa\n",
"Pb= 50 //kPa\n",
"na= 2 //moles\n",
"nb= 6 //moles\n",
"//CALCULATIONS\n",
"a= Pb/Pa\n",
"xa= na/(na+nb)\n",
"xb= 1-xa\n",
"p= xa*Pa+xb*Pb\n",
"y= xa*Pa/p\n",
"ya= 1-y\n",
"Xa= a*xa/(1+(a-1)*xa)\n",
"Xb= 1-Xa\n",
"//RESULTS\n",
"printf (' Total pressure= %.1f kPa',p)\n",
"printf (' \n composition of vapour phase= %.4f ',y)\n",
"printf (' \n composition of vapour phase= %.4f ',ya)\n",
"printf (' \n composition of last drop of liquid= %.4f ',Xa)\n",
"printf (' \n composition of last drop of liquid= %.4f ',Xb)"
   ]
   }
,
{
		   "cell_type": "markdown",
		   "metadata": {},
		   "source": [
			"## Example 17.2: chapter_17_example_2.sce"
		   ]
		  },
  {
"cell_type": "code",
	   "execution_count": null,
	   "metadata": {
	    "collapsed": true
	   },
	   "outputs": [],
"source": [
"clc\n",
"//initialisation of variables\n",
"T= 290 //K\n",
"xa= 0.4\n",
"xb= 0.6\n",
"P= 600 //kPa\n",
"V= 60 //L\n",
"R= 8.314 //J/mol K\n",
"Mp= 44 //kg/kmol\n",
"Mb= 58.12 //kg/kmol\n",
"vp= 0.00171 //m^3/kg\n",
"vb= 0.00166 //m^3/kg\n",
"na= 0.1 //kmol\n",
"nb= 0.15 //kmol\n",
"V1= 0.04000 //m^3\n",
"xa= 0.4 \n",
"np= 2\n",
"Vc= 0.1 //m^3\n",
"//CALCULATIONS\n",
"Pasat= %e^(14.435-(2255/T))\n",
"Pbsat= %e^(14.795-(2770/T))\n",
"P1= xa*Pasat+xb*Pbsat\n",
"Na1= P*V/(100*R*T)\n",
"Vp= vp*Mp\n",
"Vb= vb*Mb\n",
"V= na*Vp+nb*Vb\n",
"Vv= V1-V\n",
"nv= P1*Vv/(R*T)\n",
"ya= xa*Pasat/P\n",
"yb=1-ya\n",
"Na= na+ya*nv\n",
"Nb= nb+yb*nv\n",
"//RESULTS\n",
"printf (' initial pressure= %.2f kPa',P1)\n",
"printf (' \n moles of propane= %.5f kmol',Na1)\n",
"printf (' \n initial mole of propane= %.5f kmol',Na)\n",
"printf (' \n initial mole of butane= %.5f kmol',Nb)\n",
"printf (' \n numbar of phases= %.f ',np)\n",
"printf (' \n volume in final state= %.1f m^3',Vc)"
   ]
   }
,
{
		   "cell_type": "markdown",
		   "metadata": {},
		   "source": [
			"## Example 17.3: chapter_17_example_3.sce"
		   ]
		  },
  {
"cell_type": "code",
	   "execution_count": null,
	   "metadata": {
	    "collapsed": true
	   },
	   "outputs": [],
"source": [
"clc\n",
"//initialisation of variables\n",
"p0= 10 //Mpa\n",
"R= 8.314 //J/mol K\n",
"T= 30 //C\n",
"va= 0.02 //m^3/kmol\n",
"xa= 0.98\n",
"//CALCULATIONS\n",
"p= p0+(R*(273.15+T)*log(xa)/(va*1000))\n",
"//RESULTS\n",
"printf (' Pressure of the phase of pure A= %.2f Mpa',p)"
   ]
   }
,
{
		   "cell_type": "markdown",
		   "metadata": {},
		   "source": [
			"## Example 17.4: chapter_17_example_4.sce"
		   ]
		  },
  {
"cell_type": "code",
	   "execution_count": null,
	   "metadata": {
	    "collapsed": true
	   },
	   "outputs": [],
"source": [
"clc\n",
"//initialisation of variables\n",
"hfg= 2257.0 //kJ/kg\n",
"Tb= 100 //C\n",
"R= 8.314 //J/mol K\n",
"m2= 10 //gms\n",
"M2= 58.5 //gms\n",
"m1= 90 //gms\n",
"M1= 18 //gms\n",
"//CALCULATIONS\n",
"x2= (m2/M2)/((m2/M2)+(m1/M1))\n",
"dT= R*(273.15+Tb)^2*x2/(M1*hfg)\n",
"//RESULTS\n",
"printf (' Boiling point elevation= %.3f C',dT)"
   ]
   }
,
{
		   "cell_type": "markdown",
		   "metadata": {},
		   "source": [
			"## Example 17.5: chapter_17_example_5.sce"
		   ]
		  },
  {
"cell_type": "code",
	   "execution_count": null,
	   "metadata": {
	    "collapsed": true
	   },
	   "outputs": [],
"source": [
"clc\n",
"//initialisation of variables\n",
"M1= 18.02 //gms\n",
"m1= 0.965 //gms\n",
"m2= 0.035 //gms\n",
"M2= 58.5 //gms\n",
"R= 8.314 //J/mol K\n",
"M= 18.02 //kg\n",
"T= 20 //C\n",
"vf= 0.001002 //m^3\n",
"x21= 0.021856 //m^3\n",
"//CALCULATIONS\n",
"n1= m1/M1\n",
"n2= m2/M2\n",
"x1= n1/(n1+n2)\n",
"x2= n2/(n2+n1)\n",
"P= R*(273.15+T)*x2/(M*vf)\n",
"P1=  R*(273.15+T)*x21/(M*vf)\n",
"//RESULTS\n",
"printf (' Osmotic pressure= %.1f kpa',P)\n",
"printf (' \n Osmotic pressure= %.1f kpa',P1)"
   ]
   }
,
{
		   "cell_type": "markdown",
		   "metadata": {},
		   "source": [
			"## Example 17.6: chapter_17_example_6.sce"
		   ]
		  },
  {
"cell_type": "code",
	   "execution_count": null,
	   "metadata": {
	    "collapsed": true
	   },
	   "outputs": [],
"source": [
"clc\n",
"//initialisation of variables\n",
"W= 0\n",
"Q= 0\n",
"R= 8.314 //J/mol K\n",
"T0= 300 //K\n",
"x= 5/13\n",
"n1= 0.5 //kmol/s\n",
"n2= 0.8 //kmol/s\n",
"//CALCULATIONS\n",
"W1= (n1+n2)*R*T0*(x*log(1/x)+(1-x)*log(1/(1-x)))\n",
"I= W1\n",
"//RESULTS\n",
"printf (' useful work of the process= %.f kW',W) \n",
"printf (' \n heat interaction= %.f kW',Q) \n",
"printf (' \n maximum work= %.1f kW',W1) \n",
"printf (' \n irreversibility= %.1f kW',I)"
   ]
   }
],
"metadata": {
		  "kernelspec": {
		   "display_name": "Scilab",
		   "language": "scilab",
		   "name": "scilab"
		  },
		  "language_info": {
		   "file_extension": ".sce",
		   "help_links": [
			{
			 "text": "MetaKernel Magics",
			 "url": "https://github.com/calysto/metakernel/blob/master/metakernel/magics/README.md"
			}
		   ],
		   "mimetype": "text/x-octave",
		   "name": "scilab",
		   "version": "0.7.1"
		  }
		 },
		 "nbformat": 4,
		 "nbformat_minor": 0
}
