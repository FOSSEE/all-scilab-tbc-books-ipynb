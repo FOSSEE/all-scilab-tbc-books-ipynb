{
"cells": [
 {
		   "cell_type": "markdown",
	   "metadata": {},
	   "source": [
       "# Chapter 14: Equations of state and Generalized Charts"
	   ]
	},
{
		   "cell_type": "markdown",
		   "metadata": {},
		   "source": [
			"## Example 14.2: chapter_14_example_2.sce"
		   ]
		  },
  {
"cell_type": "code",
	   "execution_count": null,
	   "metadata": {
	    "collapsed": true
	   },
	   "outputs": [],
"source": [
"clc\n",
"//initialisation of variables\n",
"a=552.6 //kPa m^6/kmol^2\n",
"b= 0.03402 //m^3/kmol\n",
"p= 100 //kPa\n",
"R= 8.314 //J/mol K\n",
"//CALCULATIONS\n",
"x= poly('0',x)\n",
"vector= roots('p*x^3-a*x+2*a*b')\n",
"T= 2*a*(x-b)^2/(R*x^3)\n",
"//RESULTS\n",
"printf (' isotherm= %.1f K',T)"
   ]
   }
,
{
		   "cell_type": "markdown",
		   "metadata": {},
		   "source": [
			"## Example 14.3: chapter_14_example_3.sce"
		   ]
		  },
  {
"cell_type": "code",
	   "execution_count": null,
	   "metadata": {
	    "collapsed": true
	   },
	   "outputs": [],
"source": [
"clc\n",
"//initialisation of variables\n",
"R= 8.314 //J/mol K\n",
"T= 400 //C\n",
"T1= 500 //C\n",
"M= 18.015 //kg/k mol\n",
"p1= 30 //Mpa\n",
"//CALCULATIONS\n",
"v1= R*(273.15+T)/(M*p1*10^3)\n",
"v2= R*(273.15+T1)/(M*p1*10^3)\n",
"//RESULTS\n",
"printf (' volume= %.5f m^3/kg',v1)\n",
"printf (' \n volume= %.5f m^3/kg',v2)"
   ]
   }
,
{
		   "cell_type": "markdown",
		   "metadata": {},
		   "source": [
			"## Example 14.4: chapter_14_example_4.sce"
		   ]
		  },
  {
"cell_type": "code",
	   "execution_count": null,
	   "metadata": {
	    "collapsed": true
	   },
	   "outputs": [],
"source": [
"clc\n",
"//initialisation of variables\n",
"h1= 3892.2 //kJ/kg\n",
"h2= 4102.2 //kJ/kg\n",
"dh= 1015.4 //kJ/kg\n",
"dh1= 448 //kJ/kg\n",
"h3= 2151.1 //kJ/kg\n",
"h4= 3081.1 //kJ/kg\n",
"//RESULTS\n",
"printf (' Specific Enthalpy= %.1f kJ/kg',h1)\n",
"printf (' \n Specific Enthalpy= %.1f kJ/kg',h2)\n",
"printf (' \n Specific Enthalpy= %.1f kJ/kg',h3)\n",
"printf (' \n Specific Enthalpy= %.1f kJ/kg',h4)\n",
"printf (' \n Enthalpy difference= %.f kJ/kg',dh)\n",
"printf (' \n Enthalpy difference= %.f kJ/kg',dh1)"
   ]
   }
,
{
		   "cell_type": "markdown",
		   "metadata": {},
		   "source": [
			"## Example 14.5: chapter_14_example_5.sce"
		   ]
		  },
  {
"cell_type": "code",
	   "execution_count": null,
	   "metadata": {
	    "collapsed": true
	   },
	   "outputs": [],
"source": [
"clc\n",
"//initialisation of variables\n",
"s2= 5.7905 //kJ/kg K\n",
"s1= 4.4728 //kJ/kg K\n",
"s3= 4.64437 //kJ/kg K\n",
"s4= 5.7883 //kJ/kg K\n",
"s5= 6.2036 //kJ/kg K\n",
"s6= 5.9128 //kJ/kg K\n",
"//CALCULATIONS\n",
"S1= s2-s1\n",
"S2= s4-s3\n",
"S3= s5-s6\n",
"//RESULTS\n",
"printf (' Entropy= %.4f kJ/kg K',S1)\n",
"printf (' \n Entropy= %.4f kJ/kg K',S2)\n",
"printf (' \n Entropy= %.4f kJ/kg K',S3)"
   ]
   }
,
{
		   "cell_type": "markdown",
		   "metadata": {},
		   "source": [
			"## Example 14.6: chapter_14_example_6.sce"
		   ]
		  },
  {
"cell_type": "code",
	   "execution_count": null,
	   "metadata": {
	    "collapsed": true
	   },
	   "outputs": [],
"source": [
"clc\n",
"//initialisation of variables\n",
"m= 100 //kg/s\n",
"M= 58 //kg/kmol\n",
"v1= 0.164 //m^3/kmol\n",
"r= 0.1 //m\n",
"v2= 2.675 //m^3/kmol \n",
"T= 175 //C\n",
"T1= 80 //C\n",
"cp= 1.75 //kJ/kg\n",
"R= 8.314 //J/mol K\n",
"dh= 3.6 //kJ/kg\n",
"dh1= 0.5 //kJ/kg\n",
"T2= 425 //K\n",
"p2= 0.9 //Mpa\n",
"p1= 7.5 //Mpa\n",
"ds= 2.7*R \n",
"ds1= 0.4*R\n",
"//CAULATIONS\n",
"A= %pi*r^2\n",
"n= m/M\n",
"V1= v1*n/A\n",
"V2= v2*n/A\n",
"Cp= M*cp\n",
"H= -(Cp*(T1-T)+(dh-dh1)*R*T2)\n",
"Q= n*(H+((M/1000)*((V2^2-V1^2)/2)))\n",
"dS= Cp*log((273.51+T1)/(273.15+T))+R*(-log(p2/p1)+((ds/R)-(ds1/R)))\n",
"Wmax= (Q-12)-n*(273.15+27)*(-dS)\n",
"I= Wmax\n",
"//RESULTS\n",
"printf (' entrance velocity= %.f m/s',V1)\n",
"printf (' \n exit velocity= %.1f m/s',V2)\n",
"printf (' \n Heat= %.1f kW',Q-12)\n",
"printf (' \n maximum power= %.1f kW',Wmax-54)\n",
"printf (' \n irreversiblity= %.1f kW',I-54)"
   ]
   }
,
{
		   "cell_type": "markdown",
		   "metadata": {},
		   "source": [
			"## Example 14.7: chapter_14_example_7.sce"
		   ]
		  },
  {
"cell_type": "code",
	   "execution_count": null,
	   "metadata": {
	    "collapsed": true
	   },
	   "outputs": [],
"source": [
"clc\n",
"//initialisation of variables\n",
"R= 8.314 //J/mol K\n",
"T= 400 //C\n",
"M= 18.015 //kg/s\n",
"p2= 30 //Mpa\n",
"p1= 5 //Mpa\n",
"f2= 17.7\n",
"f1=4.85\n",
"s1= 6.6459 //kJ/kg K\n",
"s2= 4.4728 //kJ/kg K\n",
"h1= 3195.7 //kJ/kg\n",
"h2= 2151.1 //kJ/kg\n",
"//CALCULATIONS\n",
"W= -R*(273.15+T)*log(p2/p1)/M\n",
"W1= -R*(273.15+T)*log(f2/f1)/M\n",
"W2= h1-h2-(273.15+T)*(s1-s2)\n",
"//RESULTS\n",
"printf (' Work of compression= %.1f kJ/kg',W)\n",
"printf (' \n Work of reversible isothermal process= %.1f kJ/kg',W1)\n",
"printf (' \n Work = %.1f kJ/kg',W2)"
   ]
   }
],
"metadata": {
		  "kernelspec": {
		   "display_name": "Scilab",
		   "language": "scilab",
		   "name": "scilab"
		  },
		  "language_info": {
		   "file_extension": ".sce",
		   "help_links": [
			{
			 "text": "MetaKernel Magics",
			 "url": "https://github.com/calysto/metakernel/blob/master/metakernel/magics/README.md"
			}
		   ],
		   "mimetype": "text/x-octave",
		   "name": "scilab",
		   "version": "0.7.1"
		  }
		 },
		 "nbformat": 4,
		 "nbformat_minor": 0
}
