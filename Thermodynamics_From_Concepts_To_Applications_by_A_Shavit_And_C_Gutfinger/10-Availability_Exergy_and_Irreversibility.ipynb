{
"cells": [
 {
		   "cell_type": "markdown",
	   "metadata": {},
	   "source": [
       "# Chapter 10: Availability Exergy and Irreversibility"
	   ]
	},
{
		   "cell_type": "markdown",
		   "metadata": {},
		   "source": [
			"## Example 10.1: chapter_10_example_1.sce"
		   ]
		  },
  {
"cell_type": "code",
	   "execution_count": null,
	   "metadata": {
	    "collapsed": true
	   },
	   "outputs": [],
"source": [
"clc\n",
"//initialisation of variables\n",
"m= 2 //kg\n",
"p= 200 //kPa\n",
"v2= 0.9596 //m^3/kg\n",
"v1= 0.001 //m^3/kg\n",
"u2= 2768.8 //kJ/kg\n",
"u1= 83.96 //kJ/kg\n",
"T= 20 //C\n",
"u3= 2576.9 //kJ/kg\n",
"s2= 7.2795 //kJ/kg K\n",
"s1= 0.2966 //kJ/kg K\n",
"Tr= 150 //C\n",
"//CALCULATIONS\n",
"W= m*p*(v2-v1)\n",
"Q= m*(u2-u1)\n",
"A= m*((u3-u1)-(273.15+T)*(s2-s1))\n",
"Ar= -Q*(1-((273.15+T)/(273.15+Tr)))\n",
"Wrep= -(A+Ar)\n",
"//RESULTS\n",
"printf (' work of the water = %.1f kJ',W)\n",
"printf (' \n Heat interaction of the water = %.1f kJ',Q)\n",
"printf (' \n maximum work done = %.1f kJ',Wrep)"
   ]
   }
,
{
		   "cell_type": "markdown",
		   "metadata": {},
		   "source": [
			"## Example 10.2: chapter_10_example_2.sce"
		   ]
		  },
  {
"cell_type": "code",
	   "execution_count": null,
	   "metadata": {
	    "collapsed": true
	   },
	   "outputs": [],
"source": [
"clc\n",
"//initialisation of variables\n",
"Wrev= 757.8 //kJ\n",
"W= 383.4 //kJ\n",
"m= 2 //kg\n",
"s2= 7.2795 //kJ/kg K\n",
"s1= 0.2966  //kJ/kg K\n",
"Qr= 5369.7 //kJ\n",
"T= 150 //C\n",
"T0= 20 //C\n",
"//CALCULATIONS\n",
"I= Wrev-W\n",
"dS= m*(s2-s1)\n",
"Sr= -Qr/(273.15+T)\n",
"I1= (273.15+T0)*(dS+Sr)\n",
"//RESULTS\n",
"printf (' Irreversibility of the process= %.1f kJ',I1)"
   ]
   }
,
{
		   "cell_type": "markdown",
		   "metadata": {},
		   "source": [
			"## Example 10.3: chapter_10_example_3.sce"
		   ]
		  },
  {
"cell_type": "code",
	   "execution_count": null,
	   "metadata": {
	    "collapsed": true
	   },
	   "outputs": [],
"source": [
"clc\n",
"//initialisation of variables\n",
"p0= 100 //kPa\n",
"V= 0.12 //m^3\n",
"T0= 20 //C\n",
"//CALCULATIONS\n",
"I= p0*V\n",
"dS= I/(273.15+T0)\n",
"//RESULTS\n",
"printf (' Irreversibility of the process= %.1f kJ',I)\n",
"printf (' \n Entropy of the process= %.4f kJ',dS)"
   ]
   }
,
{
		   "cell_type": "markdown",
		   "metadata": {},
		   "source": [
			"## Example 10.6: chapter_10_example_6.sce"
		   ]
		  },
  {
"cell_type": "code",
	   "execution_count": null,
	   "metadata": {
	    "collapsed": true
	   },
	   "outputs": [],
"source": [
"clc\n",
"//initialisation of variables\n",
"m= 150 //kg\n",
"u2= 313.90 //kJ/kg\n",
"u1= 62.99 //kJ/kg\n",
"T= 10 //C\n",
"s2= 1.0155 //kJ/kg K\n",
"s1= 0.2245 //kJ/kg K\n",
"p0= 100 //kPa\n",
"v2= 0.0010259 //m^3/kg\n",
"v1= 0.0010009 //m^3/kg\n",
"h2= 314.52 //kJ/kg\n",
"h1= 63.59 //kJ/kg\n",
"T1= 99 //C\n",
"//CALCULATIONS\n",
"Ow= m*((u2-u1)-(273.15+T)*(s2-s1)+p0*(v2-v1))\n",
"Wel= -m*(h2-h1)\n",
"At= Wel+Ow\n",
"As= Wel*(1-((273.15+T)/(273.15+T1)))\n",
"At1= Ow+As\n",
"I= m*(273.15+T)*(s2-s1)\n",
"I1= (273.15+T)*(m*(s2-s1)+(Wel/(273.15+T1)))\n",
"//RESULTS\n",
"printf (' change in availability= %.f kJ',Ow-1)\n",
"printf (' \n change in availability= %.f kJ',At-2)\n",
"printf (' \n change in availability= %.f kJ',At1-50)\n",
"printf (' \n irreversibility= %.f kJ',I+4)\n",
"printf (' \n irreversibility= %.f kJ',I1+49)"
   ]
   }
,
{
		   "cell_type": "markdown",
		   "metadata": {},
		   "source": [
			"## Example 10.8: chapter_10_example_8.sce"
		   ]
		  },
  {
"cell_type": "code",
	   "execution_count": null,
	   "metadata": {
	    "collapsed": true
	   },
	   "outputs": [],
"source": [
"clc\n",
"//initialisation of variables\n",
"h3= 2793.2 //kJ/kg\n",
"h2= 1342.3 //kJ/kg\n",
"h1= 2993.5 //kJ/kg\n",
"m3= 2.5 //kg/s\n",
"b1= 1043.9 //kJ/kg\n",
"b2= 374.24 //kJ/kg\n",
"b3= 875.41 //kJ/kg\n",
"//CALCULATIONS\n",
"m1= m3*((h3-h2)/(h1-h2))\n",
"m2= m3*((h3-h1)/(h2-h1))\n",
"Bin= (m1*b1+m2*b2)\n",
"Bout= m3*b3\n",
"B= Bin-Bout\n",
"Wmax= B\n",
"I= B\n",
"//RESULTS\n",
"printf (' mass flow rate= %.3f kg/s',m1)\n",
"printf (' \n mass flow rate= %.3f kg/s',m2)\n",
"printf (' \n Wmax= %.3f kg/s',Wmax)\n",
"printf (' \n Irreversibility= %.1f kW',Wmax)"
   ]
   }
],
"metadata": {
		  "kernelspec": {
		   "display_name": "Scilab",
		   "language": "scilab",
		   "name": "scilab"
		  },
		  "language_info": {
		   "file_extension": ".sce",
		   "help_links": [
			{
			 "text": "MetaKernel Magics",
			 "url": "https://github.com/calysto/metakernel/blob/master/metakernel/magics/README.md"
			}
		   ],
		   "mimetype": "text/x-octave",
		   "name": "scilab",
		   "version": "0.7.1"
		  }
		 },
		 "nbformat": 4,
		 "nbformat_minor": 0
}
