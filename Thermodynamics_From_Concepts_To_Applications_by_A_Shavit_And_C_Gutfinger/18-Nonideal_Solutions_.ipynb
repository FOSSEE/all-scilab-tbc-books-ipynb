{
"cells": [
 {
		   "cell_type": "markdown",
	   "metadata": {},
	   "source": [
       "# Chapter 18: Nonideal Solutions "
	   ]
	},
{
		   "cell_type": "markdown",
		   "metadata": {},
		   "source": [
			"## Example 18.2: chapter_18_example_2.sce"
		   ]
		  },
  {
"cell_type": "code",
	   "execution_count": null,
	   "metadata": {
	    "collapsed": true
	   },
	   "outputs": [],
"source": [
"clc\n",
"//initialisation of variables\n",
"T= 80 //C\n",
"p= 30 //percent\n",
"pw= 47.39 //kPa\n",
"psat= 36 //kPa\n",
"//RESULTS\n",
"printf (' Saturation pressure= %.1f kPa',psat)"
   ]
   }
,
{
		   "cell_type": "markdown",
		   "metadata": {},
		   "source": [
			"## Example 18.3: chapter18_example_3.sce"
		   ]
		  },
  {
"cell_type": "code",
	   "execution_count": null,
	   "metadata": {
	    "collapsed": true
	   },
	   "outputs": [],
"source": [
"clc\n",
"//initialisation of variables\n",
"T= 120 //C\n",
"p= 30 //percent\n",
"T2= 80 //C\n",
"psat= 36 //kPa\n",
"Tw= 73 //C\n",
"//RESULTS\n",
"printf (' Temperature of pure water= %.1f C',Tw)\n",
"printf (' \n Saturation pressure= %.1f kPa',psat)"
   ]
   }
,
{
		   "cell_type": "markdown",
		   "metadata": {},
		   "source": [
			"## Example 18.5: chapter18_example_5.sce"
		   ]
		  },
  {
"cell_type": "code",
	   "execution_count": null,
	   "metadata": {
	    "collapsed": true
	   },
	   "outputs": [],
"source": [
"clc\n",
"//initialisation of variables\n",
"p= 10 //bar\n",
"P= 40 //percent\n",
"x= 0.4\n",
"H1= 16 //kcal/kg\n",
"H2= 31 //kcal/kg\n",
"H3= 64 //kcal/kg\n",
"H4= 140 //kcal/kg\n",
"T= 157 //C\n",
"He= 580 //kcal/kg\n",
"//RESULTS\n",
"printf (' Enthalpy= %.f kcal/kg',H1)\n",
"printf (' \n Enthalpy= %.f kcal/kg',H2)\n",
"printf (' \n Enthalpy= %.f kcal/kg',H3)\n",
"printf (' \n Enthalpy= %.f kcal/kg',H4)\n",
"printf (' \n Maximum temperature= %.f C',T)\n",
"printf (' \n Enthalpy = %.f kcal/kg',He)"
   ]
   }
,
{
		   "cell_type": "markdown",
		   "metadata": {},
		   "source": [
			"## Example 18.6: chapter18_example_6.sce"
		   ]
		  },
  {
"cell_type": "code",
	   "execution_count": null,
	   "metadata": {
	    "collapsed": true
	   },
	   "outputs": [],
"source": [
"clc\n",
"//initialisation of variables\n",
"v= 0.0011 //m^3\n",
"P1= 1200 //Mpa\n",
"P2= 140 //Mpa\n",
"h5= -103 //kJ/kg\n",
"x4= 0.860\n",
"x7= 0.253\n",
"x5= 0.337\n",
"h1= 1658.1 //kJ/kg\n",
"h7= 343.7 //kJ/kg\n",
"h6= -1008 //kJ/kg\n",
"h4= 639 //kJ/kg\n",
"h3= 40 //kJ/kg\n",
"Tc= -10 //C\n",
"Th= 125 //C\n",
"Ta= 25 //C\n",
"m1= 1 //kg/s\n",
"m7= 6.23 //kg/s\n",
"m6= 7.23 //kg/s\n",
"//CALCULATIONS\n",
"h6= h5+v*(P1-P2)\n",
"cr= (x4-x7)/(x5-x7)\n",
"Qhbym= h1+(m7/m1)*h7-(m6/m1)*h6\n",
"Qcbym= h4-h3\n",
"COP= Qcbym/Qhbym\n",
"COPcarnot= ((273.15+Tc)/(273.15+Th))*((Th-Ta)/(Ta-Tc))\n",
"//RESULTS\n",
"printf (' Enthalpy= %.1f kJ/kg',h6)\n",
"printf (' \n circulation ratio= %.3f ',cr)\n",
"printf (' \n COP= %.3f ',COP)\n",
"printf (' \n COP carnot= %.3f ',COPcarnot)"
   ]
   }
],
"metadata": {
		  "kernelspec": {
		   "display_name": "Scilab",
		   "language": "scilab",
		   "name": "scilab"
		  },
		  "language_info": {
		   "file_extension": ".sce",
		   "help_links": [
			{
			 "text": "MetaKernel Magics",
			 "url": "https://github.com/calysto/metakernel/blob/master/metakernel/magics/README.md"
			}
		   ],
		   "mimetype": "text/x-octave",
		   "name": "scilab",
		   "version": "0.7.1"
		  }
		 },
		 "nbformat": 4,
		 "nbformat_minor": 0
}
