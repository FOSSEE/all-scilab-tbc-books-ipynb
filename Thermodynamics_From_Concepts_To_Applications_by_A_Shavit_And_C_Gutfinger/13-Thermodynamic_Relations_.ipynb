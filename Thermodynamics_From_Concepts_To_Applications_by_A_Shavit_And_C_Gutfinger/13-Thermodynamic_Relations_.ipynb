{
"cells": [
 {
		   "cell_type": "markdown",
	   "metadata": {},
	   "source": [
       "# Chapter 13: Thermodynamic Relations "
	   ]
	},
{
		   "cell_type": "markdown",
		   "metadata": {},
		   "source": [
			"## Example 13.2: chapter_13_exqample_2.sce"
		   ]
		  },
  {
"cell_type": "code",
	   "execution_count": null,
	   "metadata": {
	    "collapsed": true
	   },
	   "outputs": [],
"source": [
"clc\n",
"//initialisation of variables\n",
"S1= 6.539 //kJ/kg K\n",
"S2= 6.7664 //kJ/kg K\n",
"v1= 0.10976 //m^3\n",
"v2= 0.08700 //m^3\n",
"P= 3 //Mpa\n",
"P1= 2 //Mpa\n",
"T= 350 //K\n",
"T1= 250 //K\n",
"S3= 3.1741 //kJ/kg K\n",
"S4= 3.2071 //kJ/kg K\n",
"P2= 30 //Mpa\n",
"P3= 20 //Mpa\n",
"v3= 0.0014217 //m^3\n",
"v4= 0.0012860 //m^3\n",
"T2= 320 //K\n",
"T3= 280 //K\n",
"//CALCULATIONS\n",
"r= (S1-S2)/(P*10^3-P1*10^3)\n",
"r1= (v1-v2)/(T-T1)\n",
"R= (S3-S4)/(P2*10^3-P3*10^3)\n",
"R1= (v3-v4)/(T2-T3)\n",
"//RESULTS\n",
"printf (' entropy wrt pressre= %.7f kJ/kg K kpa',r)\n",
"printf (' \n entropy wrt pressre= %.e kJ/kg K kpa',R)\n",
"printf (' \n volume wrt temperature= %.7f m^3/kg K ',r1)\n",
"printf (' \n volume wrt temperature= %.2e m^3/kg K ',R1)"
   ]
   }
,
{
		   "cell_type": "markdown",
		   "metadata": {},
		   "source": [
			"## Example 13.3: chapter_13_exqample_3.sce"
		   ]
		  },
  {
"cell_type": "code",
	   "execution_count": null,
	   "metadata": {
	    "collapsed": true
	   },
	   "outputs": [],
"source": [
"clc\n",
"//initialisation of variables\n",
"hfg= 2406.7 //kJ/kg\n",
"Psat40= 7.384 //kPa\n",
"R= 8.314 //J/mol K\n",
"T= 40 //C\n",
"T1= 50 //C\n",
"M= 18 //kg\n",
"//CALCULATIONS\n",
"Psat50= Psat40*%e^((hfg*M/R)*((1/(273.15+T))-(1/(273.15+T1))))\n",
"//RESULTS\n",
"printf (' Saturation pressure= %.3f kPa',Psat50)"
   ]
   }
,
{
		   "cell_type": "markdown",
		   "metadata": {},
		   "source": [
			"## Example 13.4: chapter_13_example_4.sce"
		   ]
		  },
  {
"cell_type": "code",
	   "execution_count": null,
	   "metadata": {
	    "collapsed": true
	   },
	   "outputs": [],
"source": [
"clc\n",
"//initialisation of variables\n",
"W= 800 //N\n",
"A= 0.4 //cm^2\n",
"p= 0.611 //Mpa\n",
"P1= 0.1 //Mpa\n",
"T= 0.01 //C\n",
"vs= 0.0010908 //m^3/kg\n",
"hs= -333.40 //kJ/kg\n",
"vf= 0.0010002 //m^3/kg\n",
"hf= 0 //kJ/kg\n",
"vg= 206.14 //m^3/kg\n",
"hg= 2501.4 //kJ/kg\n",
"//CALCULATIONS\n",
"P2= P1+(W/A)*10^(4-6)\n",
"dT= (273.15++T)*(vf-vs)*(P2*10^3-p)/(0-hs)\n",
"Tmin= dT+T\n",
"//RESULTS\n",
"printf (' lowest temperature= %.2f C',Tmin)"
   ]
   }
,
{
		   "cell_type": "markdown",
		   "metadata": {},
		   "source": [
			"## Example 13.7: chapter_13_example_7.sce"
		   ]
		  },
  {
"cell_type": "code",
	   "execution_count": null,
	   "metadata": {
	    "collapsed": true
	   },
	   "outputs": [],
"source": [
"clc\n",
"//initialisation of variables\n",
"vi= 0.0009992 //m^3\n",
"T= 60 //C\n",
"T1= 20 //C\n",
"T2= 40 //C\n",
"vi1= 0.0010042 //m^3\n",
"vi2= 0.0009886 //m^3\n",
"v= 0.000951 //m^3\n",
"v1= 0.0009992 //m^3\n",
"v2= 0.0009956 //m^3\n",
"//CALCULATIONS\n",
"B= (vi1-vi2)/(vi*(T-T1))\n",
"Kt= (v1-v2)/(v*(T2-T1))\n",
"Et= 1/Kt\n",
"//RESULTS\n",
"printf (' volume exapansion coefficient= %.2e L/s',B)\n",
"printf (' \n isothermal compressibility= %.3e Mpa',Kt)\n",
"printf (' \n isothermal modulus of elasticity= %.f Mpa',Et)\n",
"\n",
"\n",
"//ANSWER FOR Et GIVEN IN THE TEXTBOO IS WRONG"
   ]
   }
],
"metadata": {
		  "kernelspec": {
		   "display_name": "Scilab",
		   "language": "scilab",
		   "name": "scilab"
		  },
		  "language_info": {
		   "file_extension": ".sce",
		   "help_links": [
			{
			 "text": "MetaKernel Magics",
			 "url": "https://github.com/calysto/metakernel/blob/master/metakernel/magics/README.md"
			}
		   ],
		   "mimetype": "text/x-octave",
		   "name": "scilab",
		   "version": "0.7.1"
		  }
		 },
		 "nbformat": 4,
		 "nbformat_minor": 0
}
