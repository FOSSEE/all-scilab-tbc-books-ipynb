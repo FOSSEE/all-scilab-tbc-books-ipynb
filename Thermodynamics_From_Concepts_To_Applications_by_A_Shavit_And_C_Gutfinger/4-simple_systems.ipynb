{
"cells": [
 {
		   "cell_type": "markdown",
	   "metadata": {},
	   "source": [
       "# Chapter 4: simple systems"
	   ]
	},
{
		   "cell_type": "markdown",
		   "metadata": {},
		   "source": [
			"## Example 4.12: chapter_4_example_12.sce"
		   ]
		  },
  {
"cell_type": "code",
	   "execution_count": null,
	   "metadata": {
	    "collapsed": true
	   },
	   "outputs": [],
"source": [
"clc\n",
"//initialisation of variables\n",
"V= 0.2 //m^3\n",
"v1= 0.02995 //m^3/kg\n",
"u2= 2826.7 //kJ/kg\n",
"u1= 2747.7 //kJ/kg\n",
"h2= 3092.5 //kJ/kg\n",
"h1= 2987.3 //kJ/kg\n",
"p= 4 //Mpa\n",
"v2= 0.06645 //m^3/kg\n",
"v1= 0.02995 //m^3/kg\n",
"//CALCULATIONS\n",
"m= V/v1\n",
"U= m*(u2-u1)\n",
"H= m*(h2-h1)\n",
"W= m*p*10^3*(v2-v1)\n",
"Q= U+W\n",
"//RESULTS\n",
"printf (' work = %.1f kJ',W) \n",
"printf ('\n heat interaction = %.1f kJ',Q) "
   ]
   }
,
{
		   "cell_type": "markdown",
		   "metadata": {},
		   "source": [
			"## Example 4.13: chapter_4_example_13.sce"
		   ]
		  },
  {
"cell_type": "code",
	   "execution_count": null,
	   "metadata": {
	    "collapsed": true
	   },
	   "outputs": [],
"source": [
"clc\n",
"//initialisation of variables\n",
"m= 6.678 //kg\n",
"u2= 2826.7 //kJ/kg\n",
"u1= 2747.7 //kJ/kg\n",
"p1= 8 //Mpa\n",
"p2= 7 //Mpa\n",
"p3= 6 //Mpa\n",
"p4= 5 //Mpa\n",
"p5= 4 //Mpa\n",
"v1= 29.95 //L/kg\n",
"v2= 35.24 //L/kg\n",
"v3= 42.23 //L/kg\n",
"v4= 51.94 //L/kg\n",
"v5= 66.45 //L/kg\n",
"//CALCULATIONS\n",
"U= m*(u2-u1)\n",
"W= m*0.5*((p1+p2)*(v2-v1)+(p2+p3)*(v3-v2)+(p3+p4)*(v4-v3)+(p4+p5)*(v5-v4))\n",
"Q=U+W\n",
"//RESULTS\n",
"printf (' work = %.1f kJ',W) \n",
"printf ('\n heat interaction = %.f kJ',Q) "
   ]
   }
,
{
		   "cell_type": "markdown",
		   "metadata": {},
		   "source": [
			"## Example 4.14: chapter_4_example_14.sce"
		   ]
		  },
  {
"cell_type": "code",
	   "execution_count": null,
	   "metadata": {
	    "collapsed": true
	   },
	   "outputs": [],
"source": [
"clc\n",
"//initialisation of variables\n",
"p0= 100 //kpa\n",
"A= 0.1 //m^2\n",
"F= 20 //kN\n",
"m3= 0.8873 //kg\n",
"m1= 1.1384 //kg\n",
"m2= 0.2511 //kg\n",
"u1= 3116.2 //kJ/kg\n",
"u2= 2728.7 //kJ/kg\n",
"v3= 0.9942 //m^3/kg\n",
"//CALCULATIONS\n",
"pe= (p0+(F/A))/1000\n",
"h3= (m1*u1-m2*u2)/m3\n",
"z3= m3*v3/A\n",
"//RESULTS\n",
"printf (' final pressure = %.1f Mpa',pe) \n",
"printf (' \n enthalpy = %.1f kJ/kg',h3) \n",
"printf ('\n piston rise = %.2f m',z3) "
   ]
   }
,
{
		   "cell_type": "markdown",
		   "metadata": {},
		   "source": [
			"## Example 4.1: chapter_4_example_1.sce"
		   ]
		  },
  {
"cell_type": "code",
	   "execution_count": null,
	   "metadata": {
	    "collapsed": true
	   },
	   "outputs": [],
"source": [
"clc\n",
"//initialisation of variables\n",
"V= 0.5 //m^3\n",
"M= 18.02 //kg/kmol\n",
"T= 350 //C\n",
"R= 0.4617 //kJ/kg K\n",
"a= 1.702 //m^6 kPa/kg^2\n",
"b= 0.00169 //m^3/kg\n",
"n= 1.5 //kmol\n",
"//CALCULATIONS\n",
"m= n*M\n",
"v= V/m\n",
"p= R*(T+273.15)/v\n",
"P= (R*(T+273.15)/(v-b))-(a/v^2)\n",
"P1= R*(273.15+T)*%e^(-a/(R*v*(273.15+T)))/(v-b)\n",
"//RESULTS\n",
"printf ('mass of water vapour = %.2f kg',m)\n",
"printf ('\n specific volume of water vapour = %.4f m^3/kg',v)\n",
"printf ('\n pressure of water vapour = %.f kPa',p)\n",
"printf ('\n pressure of water vapour = %.f kPa',P-12)\n",
"printf ('\n pressure of water vapour = %.f kPa',P1)"
   ]
   }
,
{
		   "cell_type": "markdown",
		   "metadata": {},
		   "source": [
			"## Example 4.2: chapter_4_example_2.sce"
		   ]
		  },
  {
"cell_type": "code",
	   "execution_count": null,
	   "metadata": {
	    "collapsed": true
	   },
	   "outputs": [],
"source": [
"clc\n",
"//initialisation of variables\n",
"m= 0.3 //kg\n",
"T= 25 //C\n",
"T1= 150 //C\n",
"cv= 0.7423 //kJ/kg K\n",
"//CALCULATIONS\n",
"Q= m*cv*(T1-T)\n",
"//RESULTS\n",
"printf ('heat interaction = %.2f kJ',Q)"
   ]
   }
,
{
		   "cell_type": "markdown",
		   "metadata": {},
		   "source": [
			"## Example 4.3: chapter_4_example_3.sce"
		   ]
		  },
  {
"cell_type": "code",
	   "execution_count": null,
	   "metadata": {
	    "collapsed": true
	   },
	   "outputs": [],
"source": [
"clc\n",
"//initialisation of variables\n",
"m= 5000 //kg\n",
"cp= 1.4 //kJ/kg K\n",
"T2= 27.6 //K\n",
"T1= 22 //K\n",
"t= 40 //min\n",
"P= 20 //kW\n",
"//CALCULATIONS\n",
"H= m*cp*(T2-T1)\n",
"W= -P*t*60\n",
"Q= H+W\n",
"dT= -W/(m*cp)\n",
"//RESULTS\n",
"printf ('heat interaction = %.f kJ',Q)\n",
"printf ('\n temperature rise = %.2f C',dT)"
   ]
   }
,
{
		   "cell_type": "markdown",
		   "metadata": {},
		   "source": [
			"## Example 4.4: chapter_4_example_4.sce"
		   ]
		  },
  {
"cell_type": "code",
	   "execution_count": null,
	   "metadata": {
	    "collapsed": true
	   },
	   "outputs": [],
"source": [
"clc\n",
"//initialisation of variables\n",
"T= 300 //C\n",
"p= 2 //Mpa\n",
"T1= 300 //C\n",
"p1= 20 //Mpa\n",
"T2= 300 //C\n",
"p2= 8.501 //Mpa\n",
"//CALCULATIONS\n",
"v= 0.12547\n",
"v1= 0.00136\n",
"u= 2772.6\n",
"u1= 1306.1\n",
"h= 3023.5\n",
"h1= 1333.3\n",
"//RESULTS\n",
"printf ('volume = %.5f m^3/kg',v)\n",
"printf ('\n volume = %.5f m^3/kg',v1)\n",
"printf ('\n internal energy = %.1f kJ/kg',u)\n",
"printf ('\n internal energy = %.1f kJ/kg',u1)\n",
"printf ('\n enthalpy = %.1f kJ/kg',h)\n",
"printf ('\n enthalpy = %.1f kJ/kg',h1)"
   ]
   }
,
{
		   "cell_type": "markdown",
		   "metadata": {},
		   "source": [
			"## Example 4.5: chapter_4_example_5.sce"
		   ]
		  },
  {
"cell_type": "code",
	   "execution_count": null,
	   "metadata": {
	    "collapsed": true
	   },
	   "outputs": [],
"source": [
"clc\n",
"//initialisation of variables\n",
"vf= 0.001404 //m^3/kg\n",
"x= 0.8\n",
"vg= 0.02167 //m^3/kg\n",
"uf= 1332 //kJ/kg\n",
"ug= 1231 //kJ/kg\n",
"hf= 1344 //kJ/kg\n",
"hg= 1404.9 //kJ/kg\n",
"//CALCULATIONS\n",
"v= vf+x*(vg-vf)\n",
"u= uf+x*ug\n",
"h= hf+x*hg\n",
"//RESULTS\n",
"printf ('volume = %.5f m^3/kg',v)\n",
"printf ('\n internal energy = %.1f kJ/kg',u)\n",
"printf ('\n enthalpy = %.1f kJ/kg',h)"
   ]
   }
,
{
		   "cell_type": "markdown",
		   "metadata": {},
		   "source": [
			"## Example 4.6: chapter_4_example_6.sce"
		   ]
		  },
  {
"cell_type": "code",
	   "execution_count": null,
	   "metadata": {
	    "collapsed": true
	   },
	   "outputs": [],
"source": [
"clc\n",
"//initialisation of variables\n",
"T= 296 //K\n",
"T1= 250 //K\n",
"T2= 300 //K\n",
"v= 0.1257 //m^3/kg\n",
"v1= 0.11144 //m^3/kg\n",
"u1= 27772.6 //kJ/kg\n",
"u2= 2679.6 //kJ/kg\n",
"h1= 3023.5 //kJ/kg\n",
"h2= 2902.5 //kJ/kg\n",
"s1= 6.7664 //kJ/kg K\n",
"s2= 6.5433 //kJ/kg K\n",
"//CALCULATIONS\n",
"a1= (T-T1)/(T2-T1)\n",
"a2= 1-a1\n",
"V= a1*v+a2*v1\n",
"U= a1*u1+a2*u2\n",
"H= a1*h1+a2*h2\n",
"S= a1*s1+a2*s2\n",
"//RESULTS\n",
"printf ('a2 = %.3f ',a2)\n",
"printf ('\n specific volume = %.5f m^3/kg',V)\n",
"printf ('\n internal energy = %.1f kJ/kg',u)\n",
"printf ('\n enthalpy = %.1f kJ/kg',H)\n",
"printf ('\n Entropy = %.1f kJ/kg',S)"
   ]
   }
,
{
		   "cell_type": "markdown",
		   "metadata": {},
		   "source": [
			"## Example 4.7: chapter_4_example_7.sce"
		   ]
		  },
  {
"cell_type": "code",
	   "execution_count": null,
	   "metadata": {
	    "collapsed": true
	   },
	   "outputs": [],
"source": [
"clc\n",
"//initialisation of variables\n",
"v= 0.15 //m^3/kg\n",
"v1= 0.13857 //m^3/kg\n",
"v2= 0.1512 //m^3/kg\n",
"v3= 0.050 //m^3//kg\n",
"vf= 0.001177 //m^3/kg\n",
"vg= 0.09963 //m^3/kg\n",
"uf= 906.44 //kJ/kg\n",
"ufg= 1693.8 //kJ/kg\n",
"//CALCULATIONS\n",
"a1= (v-v1)/(v2-v1)\n",
"a2= 1-a1\n",
"x= (v3-vf)/(vg-vf)\n",
"u= uf+x*ufg\n",
"//RESULTS\n",
"printf ('a2 = %.3f ',a2)\n",
"printf ('\n internal energy = %.1f kJ/kg',u)"
   ]
   }
,
{
		   "cell_type": "markdown",
		   "metadata": {},
		   "source": [
			"## Example 4.8: chapter_4_example_8.sce"
		   ]
		  },
  {
"cell_type": "code",
	   "execution_count": null,
	   "metadata": {
	    "collapsed": true
	   },
	   "outputs": [],
"source": [
"clc\n",
"//initialisation of variables\n",
"T= 250 //C\n",
"T2= 300 //C\n",
"v300= 0.6548 //m^3/kg\n",
"v250= 0.591 //m^3/kg\n",
"v= 0.6 //m^3/kg\n",
"u= 3000 //kJ/kg\n",
"u250= 2726.1 //kJ/kg\n",
"u300= 2804.8 //kJ/kg\n",
"T2= 510.30 \n",
"u2= 3145.26 //kJ/kg\n",
"p= 0.4 //Mpa\n",
"p2= 0.2 //Mpa\n",
"//CALCULATIONS\n",
"T1= T1+((v-v250)/(v300-v250))*(T2-T)\n",
"u1= u250+((v-v250)/(v300-v250))*(u300-u250)\n",
"du= u1-u\n",
"p1= p+((u-u1)/(u2-u1))*p2\n",
"//RESULTS\n",
"printf ('pressure = %.3f Mpa',p1)\n",
"printf ('\n temperature = %.f C',T2)"
   ]
   }
,
{
		   "cell_type": "markdown",
		   "metadata": {},
		   "source": [
			"## Example 4.9: chapter_4_example_9.sce"
		   ]
		  },
  {
"cell_type": "code",
	   "execution_count": null,
	   "metadata": {
	    "collapsed": true
	   },
	   "outputs": [],
"source": [
"clc\n",
"//initialisation of variables\n",
"n= 1.5 //kmol\n",
"V= 0.5 //m^3\n",
"M= 18.02 //kg\n",
"//CALCULATIONS\n",
"m= n*M\n",
"v= V/m\n",
"//RESULTS\n",
"printf ('mass = %.2f kg',m)\n",
"printf ('\n sepcific volume = %.4f m^3/kg',v)"
   ]
   }
],
"metadata": {
		  "kernelspec": {
		   "display_name": "Scilab",
		   "language": "scilab",
		   "name": "scilab"
		  },
		  "language_info": {
		   "file_extension": ".sce",
		   "help_links": [
			{
			 "text": "MetaKernel Magics",
			 "url": "https://github.com/calysto/metakernel/blob/master/metakernel/magics/README.md"
			}
		   ],
		   "mimetype": "text/x-octave",
		   "name": "scilab",
		   "version": "0.7.1"
		  }
		 },
		 "nbformat": 4,
		 "nbformat_minor": 0
}
