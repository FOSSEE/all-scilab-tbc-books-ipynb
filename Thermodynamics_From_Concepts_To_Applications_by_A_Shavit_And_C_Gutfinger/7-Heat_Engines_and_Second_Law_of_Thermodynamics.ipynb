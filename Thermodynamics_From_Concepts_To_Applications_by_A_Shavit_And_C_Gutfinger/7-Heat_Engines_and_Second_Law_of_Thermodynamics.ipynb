{
"cells": [
 {
		   "cell_type": "markdown",
	   "metadata": {},
	   "source": [
       "# Chapter 7: Heat Engines and Second Law of Thermodynamics"
	   ]
	},
{
		   "cell_type": "markdown",
		   "metadata": {},
		   "source": [
			"## Example 7.1: chapter_7_example_1.sce"
		   ]
		  },
  {
"cell_type": "code",
	   "execution_count": null,
	   "metadata": {
	    "collapsed": true
	   },
	   "outputs": [],
"source": [
"clc\n",
"//initialisation of variables\n",
"m= 0.35 //kg\n",
"u2= 211.785 //kJ/kg\n",
"u1= 182.267 //kJ/kg\n",
"p2= 300 //kPa\n",
"v3= 0.085566 //kJ/kg\n",
"v2= 0.076218 //kJ/kg\n",
"h3= 260.391 //kJ/kg\n",
"h2= 234.650 //kJ/kg\n",
"u4= 199.460 //kJ/kg\n",
"u3= 234.721 //kJ/kg\n",
"p4= 250 //kPa\n",
"v1= 0.076218 //kJ/kg\n",
"v4= 0.085566 //kJ/kg\n",
"h1= 201.322 //kJ/kg\n",
"h4= 220.851 //kJ/kg\n",
"//CALCULATIONS\n",
"Q12= m*(u2-u1)\n",
"W23= m*p2*(v3-v2)\n",
"Q23= m*(h3-h2)\n",
"W34= 0\n",
"Q34= m*(u4-u3)\n",
"W41= m*p4*(v1-v4)\n",
"Q41= m*(h1-h4)\n",
"dW= W23+W41\n",
"dQ= Q12+Q23+Q34+Q41\n",
"Qh= Q12+Q23\n",
"n= dW*100/Qh\n",
"//RESULTS\n",
"printf (' heat = %.2f kj',Qh)\n",
"printf (' \n efficiency = %.2f percent',n)"
   ]
   }
,
{
		   "cell_type": "markdown",
		   "metadata": {},
		   "source": [
			"## Example 7.4: chapter_7_example_4.sce"
		   ]
		  },
  {
"cell_type": "code",
	   "execution_count": null,
	   "metadata": {
	    "collapsed": true
	   },
	   "outputs": [],
"source": [
"clc\n",
"//initialisation of variables\n",
"Qc= 9 //kW\n",
"W= 7.5 //kW\n",
"Qh= Qc+W\n",
"Tc= 50 //C\n",
"Th= 400 //C\n",
"//CALCULATIONS\n",
"n= W/Qh\n",
"nrev= 1-((273.15+Tc)/(273.15+Th))\n",
"//RESULTS\n",
"printf (' efficiency of heat engine = %.3f ',n)\n",
"printf (' \n efficiency = %.3f ',nrev)"
   ]
   }
],
"metadata": {
		  "kernelspec": {
		   "display_name": "Scilab",
		   "language": "scilab",
		   "name": "scilab"
		  },
		  "language_info": {
		   "file_extension": ".sce",
		   "help_links": [
			{
			 "text": "MetaKernel Magics",
			 "url": "https://github.com/calysto/metakernel/blob/master/metakernel/magics/README.md"
			}
		   ],
		   "mimetype": "text/x-octave",
		   "name": "scilab",
		   "version": "0.7.1"
		  }
		 },
		 "nbformat": 4,
		 "nbformat_minor": 0
}
