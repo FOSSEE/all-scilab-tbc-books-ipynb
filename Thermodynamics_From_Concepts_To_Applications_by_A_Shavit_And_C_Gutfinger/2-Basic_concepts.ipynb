{
"cells": [
 {
		   "cell_type": "markdown",
	   "metadata": {},
	   "source": [
       "# Chapter 2: Basic concepts"
	   ]
	},
{
		   "cell_type": "markdown",
		   "metadata": {},
		   "source": [
			"## Example 2.2: chapter_2_example_2.sce"
		   ]
		  },
  {
"cell_type": "code",
	   "execution_count": null,
	   "metadata": {
	    "collapsed": true
	   },
	   "outputs": [],
"source": [
"clc\n",
"//initialisation of variables\n",
"n= 0.25 // k mol\n",
"M= 32 //kg/kmol\n",
"V= 0.5 //m^3\n",
"//CALCULATIONS\n",
"m= n*M\n",
"d= m/V\n",
"v= 1/d\n",
"v1= V/n\n",
"//RESULTS\n",
"printf ('mass of oxygen = %.f kg',m)\n",
"printf ('\n density of oxygen = %.f kg/m^3',d)\n",
"printf ('\n specific volume = %.4f kg/m^3',v)\n",
"printf ('\n molar specific volume = %.f m^3/kmol',v1)"
   ]
   }
],
"metadata": {
		  "kernelspec": {
		   "display_name": "Scilab",
		   "language": "scilab",
		   "name": "scilab"
		  },
		  "language_info": {
		   "file_extension": ".sce",
		   "help_links": [
			{
			 "text": "MetaKernel Magics",
			 "url": "https://github.com/calysto/metakernel/blob/master/metakernel/magics/README.md"
			}
		   ],
		   "mimetype": "text/x-octave",
		   "name": "scilab",
		   "version": "0.7.1"
		  }
		 },
		 "nbformat": 4,
		 "nbformat_minor": 0
}
