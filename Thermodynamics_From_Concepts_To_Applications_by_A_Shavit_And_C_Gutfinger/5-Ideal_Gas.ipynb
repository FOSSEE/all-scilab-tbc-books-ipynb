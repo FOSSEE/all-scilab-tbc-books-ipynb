{
"cells": [
 {
		   "cell_type": "markdown",
	   "metadata": {},
	   "source": [
       "# Chapter 5: Ideal Gas"
	   ]
	},
{
		   "cell_type": "markdown",
		   "metadata": {},
		   "source": [
			"## Example 5.1: chapter_5_example_1.sce"
		   ]
		  },
  {
"cell_type": "code",
	   "execution_count": null,
	   "metadata": {
	    "collapsed": true
	   },
	   "outputs": [],
"source": [
"clc\n",
"//initialisation of variables\n",
"R= 8.314 //J/mol K\n",
"M= 18.016 //gms\n",
"T= 400 //C\n",
"p= 0.01 //Mpa\n",
"p1= 0.1 //Mpa\n",
"p2= 20 //Mpa\n",
"//CALCULATIONS\n",
"v= R*(273.156+T)/(M*p*1000)\n",
"v1= R*(273.156+T)/(M*p1*1000)\n",
"v2= R*(273.156+T)/(M*p2*1000)\n",
"//RESULTS\n",
"printf (' specific voulme = %.3f m^3/kg',v)\n",
"printf (' \n specific voulme = %.3f m^3/kg',v1)\n",
"printf (' \n specific voulme = %.3f m^3/kg',v2)"
   ]
   }
,
{
		   "cell_type": "markdown",
		   "metadata": {},
		   "source": [
			"## Example 5.3: chapter_5_example_3.sce"
		   ]
		  },
  {
"cell_type": "code",
	   "execution_count": null,
	   "metadata": {
	    "collapsed": true
	   },
	   "outputs": [],
"source": [
"clc\n",
"//initialisation of variables\n",
"V= 20 //L\n",
"m= 0.050 //gms\n",
"M= 29 //gms\n",
"T1= 20 //C\n",
"T2= 150 //C\n",
"k= 1.4\n",
"V1= 0.05 //m^3\n",
"//CALCULATIONS\n",
"p1= m*R*(273.15+T1)/(M*(V/10))\n",
"p2= m*R*(273.15+T2)/(M*(V/10))\n",
"dU= p1*V1*(((273.15+T2)/(273.15+T1))-1)*100/(k-1)\n",
"dH= k*dU\n",
"//RESULTS\n",
"printf (' intial pressure = %.1f kPa',p1)\n",
"printf (' \n final pressure = %.1f kPa',p2)\n",
"printf (' \n internal energy = %.2f kJ',dU)\n",
"printf (' \n enthalpy = %.2f kJ',dH)"
   ]
   }
,
{
		   "cell_type": "markdown",
		   "metadata": {},
		   "source": [
			"## Example 5.4: chapter_5_example_4.sce"
		   ]
		  },
  {
"cell_type": "code",
	   "execution_count": null,
	   "metadata": {
	    "collapsed": true
	   },
	   "outputs": [],
"source": [
"clc\n",
"//initialisation of variables\n",
"T1= 200 //K\n",
"p= 600 //kPa\n",
"p1= 50 //kPa\n",
"n= 1.8\n",
"M= 4 //gms\n",
"k= 5/3\n",
"m= 0.007 //gms\n",
"R= 8.314 //J/mol K\n",
"//CALCULATIONS\n",
"T2= T1*(p/p1)^((n-1)/n)\n",
"W= m*R*(T1-T2)/((n-1)*M)\n",
"Q= ((n-k)*m*R*(T2-T1))/((n-1)*(k-1)*M)\n",
"//RESULTS\n",
"printf (' final temperature = %.2f K',T2)\n",
"printf (' \n work = %.3f kJ',W)\n",
"printf (' \n energy = %.3f kJ',Q)"
   ]
   }
,
{
		   "cell_type": "markdown",
		   "metadata": {},
		   "source": [
			"## Example 5.5: chapter_5_example_5.sce"
		   ]
		  },
  {
"cell_type": "code",
	   "execution_count": null,
	   "metadata": {
	    "collapsed": true
	   },
	   "outputs": [],
"source": [
"clc\n",
"//initialisation of variables\n",
"p1= 300 //kPa\n",
"V1= 0.03 //m^3\n",
"V2= 0.08 //m^3\n",
"T1= 27 //C\n",
"//CALCULATIONS1\n",
"T2= T1+273\n",
"p2= p1*(V1/V2)*(T2/(T1+273))\n",
"W= 0\n",
"Q= 0\n",
"//RESULTS\n",
"printf (' final temperature = %.2f K',T2)\n",
"printf (' \n final pressure = %.1f kPa',p2)\n",
"printf (' \n work = %.f kJ',W)\n",
"printf (' \n energy = %.f kJ',Q)\n",
" "
   ]
   }
,
{
		   "cell_type": "markdown",
		   "metadata": {},
		   "source": [
			"## Example 5.6: chapter_5_example_6.sce"
		   ]
		  },
  {
"cell_type": "code",
	   "execution_count": null,
	   "metadata": {
	    "collapsed": true
	   },
	   "outputs": [],
"source": [
"clc\n",
"//initialisation of variables\n",
"p1= 2 //Mpa\n",
"V1= 0.2 //m^3\n",
"R= 8.314 //J/mol K\n",
"T1= 500 //C\n",
"M= 28 //gms\n",
"p2= 0.3 //Mpa\n",
"T2= 250 //C\n",
"k= 1.4\n",
"A= 0.1 //m^2\n",
"//CALCULATIONS\n",
"m1= p1*10^3*V1*M/(R*(273.15+T1))\n",
"m2= p2*10^3*V1*M/(R*(273.15+T2))\n",
"m3= -(m2-m1)\n",
"T3= (m1*(273.15+T1)-m2*(273.15+T2))/(k*m3)\n",
"z3= m3*R*T3/(p2*10^3*A*M)\n",
"//RESULTS\n",
"printf (' mass of nitrogen = %.4f kg',m3)\n",
"printf (' \n final temperature = %.1f K',T3)\n",
"printf (' \n piston rise = %.2f m',z3)"
   ]
   }
,
{
		   "cell_type": "markdown",
		   "metadata": {},
		   "source": [
			"## Example 5.7: chapter_5_example_7.sce"
		   ]
		  },
  {
"cell_type": "code",
	   "execution_count": null,
	   "metadata": {
	    "collapsed": true
	   },
	   "outputs": [],
"source": [
"clc\n",
"//initialisation of variables\n",
"m= 0.3 //kg\n",
"R= 8.314 //J/mol K\n",
"M= 28 //gms\n",
"T1= 500 //C\n",
"p1= 500 //kPa\n",
"k= 1.4\n",
"V3= 0.3 //m^2\n",
"//CALCULATIONS\n",
"V1= m*R*(273.15+T1)/(M*p1)\n",
"T3= k*(273.15+T1)\n",
"p3= m*R*T3*100/(M*V)\n",
"//RESULTS\n",
"printf (' final pressure = %.1f kPa',p3)"
   ]
   }
],
"metadata": {
		  "kernelspec": {
		   "display_name": "Scilab",
		   "language": "scilab",
		   "name": "scilab"
		  },
		  "language_info": {
		   "file_extension": ".sce",
		   "help_links": [
			{
			 "text": "MetaKernel Magics",
			 "url": "https://github.com/calysto/metakernel/blob/master/metakernel/magics/README.md"
			}
		   ],
		   "mimetype": "text/x-octave",
		   "name": "scilab",
		   "version": "0.7.1"
		  }
		 },
		 "nbformat": 4,
		 "nbformat_minor": 0
}
