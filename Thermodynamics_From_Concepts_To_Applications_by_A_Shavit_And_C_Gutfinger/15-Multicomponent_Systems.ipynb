{
"cells": [
 {
		   "cell_type": "markdown",
	   "metadata": {},
	   "source": [
       "# Chapter 15: Multicomponent Systems"
	   ]
	},
{
		   "cell_type": "markdown",
		   "metadata": {},
		   "source": [
			"## Example 15.1: chapter_15_example_1.sce"
		   ]
		  },
  {
"cell_type": "code",
	   "execution_count": null,
	   "metadata": {
	    "collapsed": true
	   },
	   "outputs": [],
"source": [
"clc\n",
"//initialisation of variables\n",
"m2= 50 //gms\n",
"M= 46 //gms\n",
"m1= 50 //gms\n",
"M1= 18 //gms\n",
"v1= 17402 //cm^3/kmol\n",
"v2= 56090 //cm^3/kmol\n",
"//CALCULATIONS\n",
"x2= (m2/M)/((m2/M)+(m1/M1))\n",
"V= (v1*(m1/M1)+v2*(m2/M))*10^-3\n",
"//RESULTS\n",
"printf (' volume of the phase= %.1f cm^3',V)"
   ]
   }
,
{
		   "cell_type": "markdown",
		   "metadata": {},
		   "source": [
			"## Example 15.3: chapter_15_example_3.sce"
		   ]
		  },
  {
"cell_type": "code",
	   "execution_count": null,
	   "metadata": {
	    "collapsed": true
	   },
	   "outputs": [],
"source": [
"clc\n",
"//initialisation of variables\n",
"nw= 9 //kmol\n",
"na= 1 //kmol\n",
"//CALCULATIONS\n",
"dh= 75*nw^2/(na+1.8*nw)^2\n",
"Q= -75*na*nw/(nw+1.8*na)\n",
"//RESULTS\n",
"printf (' difference in enthalpy= %.2f kJ/kg',dh)\n",
"printf (' \n amount of heat removed= %.1f kJ',Q)"
   ]
   }
],
"metadata": {
		  "kernelspec": {
		   "display_name": "Scilab",
		   "language": "scilab",
		   "name": "scilab"
		  },
		  "language_info": {
		   "file_extension": ".sce",
		   "help_links": [
			{
			 "text": "MetaKernel Magics",
			 "url": "https://github.com/calysto/metakernel/blob/master/metakernel/magics/README.md"
			}
		   ],
		   "mimetype": "text/x-octave",
		   "name": "scilab",
		   "version": "0.7.1"
		  }
		 },
		 "nbformat": 4,
		 "nbformat_minor": 0
}
