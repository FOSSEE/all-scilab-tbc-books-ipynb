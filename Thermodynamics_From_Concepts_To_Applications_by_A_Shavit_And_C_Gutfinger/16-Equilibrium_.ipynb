{
"cells": [
 {
		   "cell_type": "markdown",
	   "metadata": {},
	   "source": [
       "# Chapter 16: Equilibrium "
	   ]
	},
{
		   "cell_type": "markdown",
		   "metadata": {},
		   "source": [
			"## Example 16.1: chapter_16_example_1.sce"
		   ]
		  },
  {
"cell_type": "code",
	   "execution_count": null,
	   "metadata": {
	    "collapsed": true
	   },
	   "outputs": [],
"source": [
"clc\n",
"//initialisation of variables\n",
"m= 10 //kg\n",
"R= 8.314 //J/mol K\n",
"k= 1.4\n",
"M= 29 //kg\n",
"TA= 20 //C\n",
"TB= 200 //C\n",
"//CALCULATIONS\n",
"T= (TA+TB)/2\n",
"dS= 0.5*m*R*log((273.15+T)^2/((273.15+TA))*(273.15+TB))/((k-1)*M)\n",
"//RESULTS\n",
"printf (' entropy at the equillibrium state= %.4f kJ/K',dS)\n",
"\n",
"\n",
"//answer GIVEN IN THE TEXTBOOK IS WRONG"
   ]
   }
,
{
		   "cell_type": "markdown",
		   "metadata": {},
		   "source": [
			"## Example 16.2: chapter_16_example_2.sce"
		   ]
		  },
  {
"cell_type": "code",
	   "execution_count": null,
	   "metadata": {
	    "collapsed": true
	   },
	   "outputs": [],
"source": [
"clc\n",
"//initialisation of variables\n",
"psat= 143.3 //kPa\n",
"R= 8.314 //J/mol K\n",
"T= 110 //C\n",
"m= 18.02 //gms\n",
"pv= 150 //kPa\n",
"v= 0.001052 //m^3/kg\n",
"s= 10^-3\n",
"//CALCULATIONS\n",
"PL= psat+((R*(273.15+T)/(m*0.0010502))*log(pv/psat))\n",
"D= (4*s/(PL-pv))*(75.64-13.91*(T/100)-3*(T/100)^2)*10^3\n",
"//RESULTS\n",
"printf (' equilibrium pressure= %.f kPa',PL-13)\n",
"printf (' \n diameter of droplet= %.4f mm',D)"
   ]
   }
],
"metadata": {
		  "kernelspec": {
		   "display_name": "Scilab",
		   "language": "scilab",
		   "name": "scilab"
		  },
		  "language_info": {
		   "file_extension": ".sce",
		   "help_links": [
			{
			 "text": "MetaKernel Magics",
			 "url": "https://github.com/calysto/metakernel/blob/master/metakernel/magics/README.md"
			}
		   ],
		   "mimetype": "text/x-octave",
		   "name": "scilab",
		   "version": "0.7.1"
		  }
		 },
		 "nbformat": 4,
		 "nbformat_minor": 0
}
