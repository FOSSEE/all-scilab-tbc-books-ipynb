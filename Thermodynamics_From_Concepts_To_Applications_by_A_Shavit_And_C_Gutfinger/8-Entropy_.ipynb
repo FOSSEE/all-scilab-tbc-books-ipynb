{
"cells": [
 {
		   "cell_type": "markdown",
	   "metadata": {},
	   "source": [
       "# Chapter 8: Entropy "
	   ]
	},
{
		   "cell_type": "markdown",
		   "metadata": {},
		   "source": [
			"## Example 8.1: chapter_8_example_1.sce"
		   ]
		  },
  {
"cell_type": "code",
	   "execution_count": null,
	   "metadata": {
	    "collapsed": true
	   },
	   "outputs": [],
"source": [
"clc\n",
"//initialisation of variables\n",
"m= 2 //kg\n",
"dh= 333.39 //kg/h\n",
"T= 0 //C\n",
"T1= 20 //C\n",
"//CALCULATIONS\n",
"Q12= m*dh\n",
"dS= Q12/(273.15+T)\n",
"dSenvir= -Q12/(273.15+T1)\n",
"dStotal= dS+dSenvir\n",
"//RESULTS\n",
"printf (' entropy of ice = %.3f kJ/K',dS)\n",
"printf (' \n entropy of environment = %.3f kJ/K',dSenvir)\n",
"printf (' \n entropy of universe = %.3f kJ/K',dStotal)"
   ]
   }
,
{
		   "cell_type": "markdown",
		   "metadata": {},
		   "source": [
			"## Example 8.2: chapter_8_example_2.sce"
		   ]
		  },
  {
"cell_type": "code",
	   "execution_count": null,
	   "metadata": {
	    "collapsed": true
	   },
	   "outputs": [],
"source": [
"clc\n",
"//initialisation of variables\n",
"Q= 666.78 //kJ\n",
"T= 0 //C\n",
"Th= 20 //C\n",
"//CALCULATIONS\n",
"Ssys= Q/(273.15+T)\n",
"Qh= Q*((273.15+Th)/(273.15+T))\n",
"Senvir= -Qh/(273.15+Th)\n",
"Stotal= Ssys+Senvir\n",
"//RESULTS\n",
"printf (' change in entropy in sysytem = %.4f kJ/K',Ssys)\n",
"printf (' \n change in entropy in environment = %.4f kJ/K',Senvir)\n",
"printf (' \n total change in entropy = %.f kJ/K',Stotal)"
   ]
   }
,
{
		   "cell_type": "markdown",
		   "metadata": {},
		   "source": [
			"## Example 8.3: chapter_8_example_3.sce"
		   ]
		  },
  {
"cell_type": "code",
	   "execution_count": null,
	   "metadata": {
	    "collapsed": true
	   },
	   "outputs": [],
"source": [
"clc\n",
"//initialisation of variables\n",
"S1= 6.2872 //J/kg K\n",
"S2= 5.8712 //J/kg K\n",
"m= 18 //kg\n",
"//CALCULATIONS\n",
"S= m*(S1-S2)\n",
"//RESULTS\n",
"printf (' change in entropy = %.3f kJ/K',S)"
   ]
   }
,
{
		   "cell_type": "markdown",
		   "metadata": {},
		   "source": [
			"## Example 8.4: chapter8example4.sce"
		   ]
		  },
  {
"cell_type": "code",
	   "execution_count": null,
	   "metadata": {
	    "collapsed": true
	   },
	   "outputs": [],
"source": [
"clc\n",
"//initialisation of variables\n",
"S2= 5.8328 //kJ/kg\n",
"S1= 5.8712 //kJ/kg\n",
"//CALCULATIONS\n",
"S= S2-S1\n",
"//RESULTS\n",
"printf (' change in entropy = %.5f kJ/K',S)"
   ]
   }
,
{
		   "cell_type": "markdown",
		   "metadata": {},
		   "source": [
			"## Example 8.5: chapter8example5.sce"
		   ]
		  },
  {
"cell_type": "code",
	   "execution_count": null,
	   "metadata": {
	    "collapsed": true
	   },
	   "outputs": [],
"source": [
"clc\n",
"//initialisation of variables\n",
"m= 0.1 //kg\n",
"p= 3 //bar\n",
"p1= 10 //bar\n",
"h1= 2964.3 //kJ/kg\n",
"v1=0.2378\n",
"s2= 7.1619 //kJ/k\n",
"s1= 6.9641 //kJ/k\n",
"//CALCULATIONS\n",
"h2= h1+(p-p1)*10^5*v1*10^-3\n",
"S= m*(s2-s1)\n",
"//RESULTS\n",
"printf (' enthalpy = %.1f kJ/kg',h2)\n",
"printf (' \n change in entropy = %.5f kJ/K',S)"
   ]
   }
,
{
		   "cell_type": "markdown",
		   "metadata": {},
		   "source": [
			"## Example 8.6: chapter8example6.sce"
		   ]
		  },
  {
"cell_type": "code",
	   "execution_count": null,
	   "metadata": {
	    "collapsed": true
	   },
	   "outputs": [],
"source": [
"clc\n",
"//initialisation of variables\n",
"p1= 5 //bar\n",
"V1= 0.4 //m^2\n",
"V2= 1.2 //m^3\n",
"R= 8.314 //J/mol K\n",
"M= 28 //gms\n",
"T1= 80 //C\n",
"//CALCULATIONS\n",
"p2= p1*(V1/V2)\n",
"S= R*log(V2/V1)/M\n",
"S1= S*p1*V1*100/((R/M)*(273.15+T1))\n",
"//RESULTS\n",
"printf (' final pressure = %.3f bar',p2)\n",
"printf (' \n change in entropy = %.4f kJ/kg K',S1)"
   ]
   }
,
{
		   "cell_type": "markdown",
		   "metadata": {},
		   "source": [
			"## Example 8.7: chapter8example7.sce"
		   ]
		  },
  {
"cell_type": "code",
	   "execution_count": null,
	   "metadata": {
	    "collapsed": true
	   },
	   "outputs": [],
"source": [
"clc\n",
"//initialisation of variables\n",
"R= 8.314 //J/mol K\n",
"M= 29 //gms\n",
"T= 400 //K\n",
"p2= 1.6 //bar\n",
"p1= 1 //bar\n",
"Tenvir= 300 //K\n",
"//CALCULATIONS\n",
"q= R*T*log(p2/p1)/M\n",
"S= -R*log(p2/p1)/M\n",
"Senvir= q/Tenvir\n",
"//RESULTS\n",
"printf (' heat = %.1f kJ/kg',q)\n",
"printf (' \n change in entropy of system= %.4f kJ/kg K',S)\n",
"printf (' \n change in entropy of environment= %.4f kJ/kg K',Senvir)"
   ]
   }
,
{
		   "cell_type": "markdown",
		   "metadata": {},
		   "source": [
			"## Example 8.8: chapter8example8.sce"
		   ]
		  },
  {
"cell_type": "code",
	   "execution_count": null,
	   "metadata": {
	    "collapsed": true
	   },
	   "outputs": [],
"source": [
"clc\n",
"//initialisation of variables\n",
"m1= 5 //kg\n",
"c1= 1.26 //kJ/kg K\n",
"m2= 20 //kg\n",
"c2= 4.19 //kJ/kg K\n",
"T1= 95 //C\n",
"T2= 25 //C\n",
"//CALCULATIONS\n",
"T= (m1*c1*T1+m2*c2*T2)/(m1*c1+m2*c2)\n",
"S1= m1*c1*log((273.15+T)/(273.15+T1))\n",
"S2= m2*c2*log((273.15+T)/(273.15+T2))\n",
"S= S1+S2\n",
"//RESULTS\n",
"printf (' change in entropy of billet = %.4f kJ/K',S1)\n",
"printf (' \n change in entropy of water= %.4f kJ/kg K',S2)\n",
"printf (' \n change in entropy of water= %.4f kJ/kg K',S)"
   ]
   }
],
"metadata": {
		  "kernelspec": {
		   "display_name": "Scilab",
		   "language": "scilab",
		   "name": "scilab"
		  },
		  "language_info": {
		   "file_extension": ".sce",
		   "help_links": [
			{
			 "text": "MetaKernel Magics",
			 "url": "https://github.com/calysto/metakernel/blob/master/metakernel/magics/README.md"
			}
		   ],
		   "mimetype": "text/x-octave",
		   "name": "scilab",
		   "version": "0.7.1"
		  }
		 },
		 "nbformat": 4,
		 "nbformat_minor": 0
}
