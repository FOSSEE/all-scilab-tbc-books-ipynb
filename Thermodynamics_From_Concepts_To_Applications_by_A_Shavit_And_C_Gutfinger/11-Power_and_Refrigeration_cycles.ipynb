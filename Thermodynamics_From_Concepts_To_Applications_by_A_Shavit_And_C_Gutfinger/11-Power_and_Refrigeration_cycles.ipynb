{
"cells": [
 {
		   "cell_type": "markdown",
	   "metadata": {},
	   "source": [
       "# Chapter 11: Power and Refrigeration cycles"
	   ]
	},
{
		   "cell_type": "markdown",
		   "metadata": {},
		   "source": [
			"## Example 11.10: chapter_11_example_10.sce"
		   ]
		  },
  {
"cell_type": "code",
	   "execution_count": null,
	   "metadata": {
	    "collapsed": true
	   },
	   "outputs": [],
"source": [
"clc\n",
"//initialisation of variables\n",
"h1= 238.431 //kJ/kg\n",
"h4a= 73.881 //kJ/kg\n",
"Qc= 6 //kW\n",
"h2a= 343.787 //kJ/kg\n",
"n= 0.88\n",
"Tin= 33 //C\n",
"Tout= 20 //C\n",
"cp= 4.186 //J/mol K\n",
"h1a= 274.327 //kJ/kg\n",
"h3= 109.777 //kJ/kg\n",
"//CALCULATIONS\n",
"qc= h1-h4a\n",
"m= Qc/qc\n",
"w= h2a-h1a\n",
"W= m*w/n\n",
"COP= Qc/W\n",
"qh= h2a-h3\n",
"mcw= m*qh/(cp*(Tin-Tout))\n",
"//RESULTS\n",
"printf (' compressor power= %.3f kW ',W)\n",
"printf (' \n COP= %.3f  ',COP)\n",
"printf (' \n cooling water flow= %.4f kg/s ',mcw)"
   ]
   }
,
{
		   "cell_type": "markdown",
		   "metadata": {},
		   "source": [
			"## Example 11.11: chapter_11_example_11.sce"
		   ]
		  },
  {
"cell_type": "code",
	   "execution_count": null,
	   "metadata": {
	    "collapsed": true
	   },
	   "outputs": [],
"source": [
"clc\n",
"//initialisation of variables\n",
"h1= 1404.6 //kJ/kg\n",
"h2s= 1748.9 //kJ/kg\n",
"ec= 0.8\n",
"h4= 322.9 //kJ/kg\n",
"h2= 1835 //kJ/kg\n",
"Q= 100 //kW\n",
"h21= 1649.2 //kJ/kg\n",
"h22= 1515 //kJ/kg\n",
"h23= 1678.8 //kJ/kg\n",
"//CALCULATIONS\n",
"h2= h1+((h2s-h1)/ec)\n",
"COP= (h1-h4)/(h2-h1)\n",
"W= Q/COP\n",
"COP1= (h1-h4)/(h21-h1+h23-h22)\n",
"W1= Q/COP1\n",
"//RESULTS\n",
"printf (' COP= %.3f ',COP)\n",
"printf (' \n COP= %.3f ',COP1)\n",
"printf (' \n W= %.1f kW',W)\n",
"printf (' \n W= %.1f kW',W1)"
   ]
   }
,
{
		   "cell_type": "markdown",
		   "metadata": {},
		   "source": [
			"## Example 11.1: chapter_11_example1.sce"
		   ]
		  },
  {
"cell_type": "code",
	   "execution_count": null,
	   "metadata": {
	    "collapsed": true
	   },
	   "outputs": [],
"source": [
"clc\n",
"//initialisation of variables\n",
"h1= 251.4 //kJ/kg\n",
"v= 0.001017 //m^3/kg\n",
"p2= 2000 //Mpa\n",
"p1= 20 //Mpa\n",
"h2= 253.4\n",
"h3= 3247.6 //kJ/kg\n",
"h4= 2349.3 //kJ/kg\n",
"Tc= 60.06 //C\n",
"Th= 400 //C\n",
"//CALCULATIONS\n",
"h2= h1+v*(2-p1)\n",
"q12= 0\n",
"w12= h1-h2\n",
"q23= h3-h2\n",
"w23= 0\n",
"q34= 0\n",
"w34= h3-h4\n",
"q41= h1-h4\n",
"qnet= q12+q23+q34+q41\n",
"wnet= w12+w23+w34\n",
"n= wnet/q23\n",
"ncarnot= 1-((273.15+Tc)/(273.15+Th))\n",
"//RESULTS\n",
"printf (' enthalpy= %.1f kJ/kg',h2)\n",
"printf (' \n efficiency= %.3f ',n)\n",
"printf (' \n carnot efficiency= %.3f ',ncarnot)"
   ]
   }
,
{
		   "cell_type": "markdown",
		   "metadata": {},
		   "source": [
			"## Example 11.2: chapter_11_example_2.sce"
		   ]
		  },
  {
"cell_type": "code",
	   "execution_count": null,
	   "metadata": {
	    "collapsed": true
	   },
	   "outputs": [],
"source": [
"clc\n",
"//initialisation of variables\n",
"h3= 3247.4 //kJ/kg\n",
"h4= 2439.1 //kJ/kg\n",
"h1= 251.4 //kJ/kg\n",
"h2= 253.9 //kJ/kg\n",
"P= 100000 //kW\n",
"//CALCULATIONS\n",
"wnet= h3-h4+h1-h2\n",
"qh= h3-h2\n",
"qc= h1-h4\n",
"n= wnet/qh\n",
"m= P/wnet\n",
"//RESULTS\n",
"printf (' work= %.f kJ/kg',wnet)\n",
"printf (' \n heat= %.1f kJ/kg',qh)\n",
"printf (' \n heat= %.1f kJ/kg',qc)\n",
"printf (' \n efficiency= %.4f ',n)\n",
"printf (' \n steam mass flow rate= %.2f kg/s',m)"
   ]
   }
,
{
		   "cell_type": "markdown",
		   "metadata": {},
		   "source": [
			"## Example 11.3: chapter_11_example_3.sce"
		   ]
		  },
  {
"cell_type": "code",
	   "execution_count": null,
	   "metadata": {
	    "collapsed": true
	   },
	   "outputs": [],
"source": [
"clc\n",
"//initialisation of variables\n",
"h11= 2786.2 //kJ/kg\n",
"h12= 340.5 //kJ/kg\n",
"h7= 327.9 //kJ/kg\n",
"h6= 169.0 //kJ/kg\n",
"h10= 756.7 //kJ/kg\n",
"h9= 480.9 //kJkg\n",
"h14= 2818 //kJ.kg\n",
"h15= 762.8 //kJ/kg\n",
"h8= 462.7 //kJ/kg\n",
"h13= 2974.5 //kJ/kg\n",
"h5= 168.8 //kJ/kg\n",
"P= 150 //kW\n",
"v1= 0.02293 //m^3/kg\n",
"v= 40 //m/s\n",
"h1= 3448.6 //kJ/kg\n",
"h3= 3478.5 //kJ/kg\n",
"h2= 2818 //kJ/kg\n",
"h4= 2527.1 //kJ/kg\n",
"//CALCULATIONS\n",
"y1= (h10-h9)/(h14-h15)\n",
"y2= ((h8-h7)-y1*(h15-h7))/(h13-h7)\n",
"y3= (h7-h6)*(1-y1-y2)/(h11-h12)\n",
"qin= h1-h10+(1-y1)*(h3-h2)\n",
"qout= (h5-h4)*(1-y1-y2)+y3*(h4-h12)\n",
"wnet= qin+qout\n",
"n= wnet*100/qin\n",
"m1= P*1000/wnet\n",
"A1= m1*v1/v\n",
"D= sqrt(4*A1/%pi)\n",
"//RESULTS\n",
"printf (' quality= %.4f ',y1)\n",
"printf (' \n quality= %.4f ',y2)\n",
"printf (' \n quality= %.4f ',y3)\n",
"printf (' \n efficiency= %.2f percent',n)\n",
"printf (' \n mass flow rate= %.2f kg/s',m1)\n",
"printf (' \n diameter= %.3f m',D)"
   ]
   }
,
{
		   "cell_type": "markdown",
		   "metadata": {},
		   "source": [
			"## Example 11.4: chapter_11_example4.sce"
		   ]
		  },
  {
"cell_type": "code",
	   "execution_count": null,
	   "metadata": {
	    "collapsed": true
	   },
	   "outputs": [],
"source": [
"clc\n",
"//initialisation of variables\n",
"T= 300 //K\n",
"P= 100 //kPa\n",
"r= 4\n",
"T1= 1200 //K\n",
"m= 5 //kg/s\n",
"k= 1.4\n",
"R= 8.314 //jmol K\n",
"M= 29 //gms\n",
"//CALCULATIONS\n",
"T2= T*r^((k-1)/k)\n",
"T4= T1/r^((k-1)/k)\n",
"n= 1-(T/T2)\n",
"wnet= (k*R/((k-1)*M))*(T1-T4+T-T2)\n",
"P= m*wnet\n",
"e= sqrt((T2-T)/(T1-T4))\n",
"T5= T+((T2-T)/e)\n",
"T6= T1+e*(T4-T1)\n",
"//RESULTS\n",
"printf (' efficiency= %.4f ',n)\n",
"printf (' \n power= %.f kW',P)\n",
"printf (' \n efficiency= %.4f ',e)\n",
"printf (' \n temperature at the exit= %.1f K',T6)"
   ]
   }
,
{
		   "cell_type": "markdown",
		   "metadata": {},
		   "source": [
			"## Example 11.5: chapter_11_example_5.sce"
		   ]
		  },
  {
"cell_type": "code",
	   "execution_count": null,
	   "metadata": {
	    "collapsed": true
	   },
	   "outputs": [],
"source": [
"clc\n",
"//initialisation of variables\n",
"v= 810 //km/h\n",
"v1= 40 //m/sec\n",
"cp= 1003 //J/k mol\n",
"T0= 300 //K\n",
"ec= 0.88\n",
"k= 1.4\n",
"T3= 1473.15 //K\n",
"p3= 600 //kPa\n",
"p0= 26.4 //kPa\n",
"e= 0.9\n",
"m= 90 //kg\n",
"cp1= 1.003 //J/mol K\n",
"//CALCULATIONS\n",
"v0= v*1000/3600\n",
"T1= T0+((v0^2-v1^2)/(2*cp))\n",
"T1s= T0+ec*(T0-T1)\n",
"p1= 36.79 //kPa\n",
"p2= 600 //kPa\n",
"T2s= T1*(p2/p1)^((k-1)/k)\n",
"T2= T1+((T2s-T1)/ec)\n",
"T21= T1+(T2s-T1)/ec\n",
"T4= T3+T0-T21\n",
"T4s= T3+(T4-T3)/ec\n",
"p4= p3*(T4s/T3)\n",
"T5s= p4+(p0-p4)*e\n",
"W34= m*cp1*(T3-T4)\n",
"v5= sqrt(v1^2+2*cp*(T4-T5s))\n",
"F= m*(v5-v0)\n",
"//RESULTS\n",
"printf (' T5= %.2f K ',T4s)\n",
"printf (' \n Work= %.f kW ',W34)\n",
"printf (' \n nozzle velocity= %.1f m/s ',v5)\n",
"printf (' \n thrust force= %.f N ',F)\n",
"\n",
"//ANSWERS GIVEN IN THE TEXTBOOK ARE WRONG\n",
"\n",
"//RESULTS"
   ]
   }
,
{
		   "cell_type": "markdown",
		   "metadata": {},
		   "source": [
			"## Example 11.6: chapter_11_example_6.sce"
		   ]
		  },
  {
"cell_type": "code",
	   "execution_count": null,
	   "metadata": {
	    "collapsed": true
	   },
	   "outputs": [],
"source": [
"clc\n",
"//initialisation of variables\n",
"T1= 300 //K\n",
"p2= 400 //kPa\n",
"p1= 100 //kPa\n",
"p4= 100 //kPa\n",
"p3= 400 //kPa\n",
"T3= 1200 //K\n",
"e= 0.85\n",
"ee= 0.9\n",
"m= 8 //kg\n",
"cp= 1.0035\n",
"k= 1.4\n",
"//CALCULATIONS\n",
"T2s= T1*(p2/p1)^((k-1)/k)\n",
"T4s= T3*(p4/p3)^((k-1)/k)\n",
"T2= T1+((T2s-T1)/e)\n",
"T4= T3+ee*(T4s-T3)\n",
"P= m*cp*(T3-T4-T2+T1)\n",
"n= (T3-T4+T1-T2)/(T3-T4)\n",
"n1= (T3-T4+T1-T2)/(T3-T2)\n",
"//RESULTS\n",
"printf (' T4= %.2f K ',T4)\n",
"printf (' \n T2= %.2f K ',T2)\n",
"printf (' \n T4= %.1f kW ',P)\n",
"printf (' \n net efficiency= %.3f  ',n)\n",
"printf (' \n net efficiency= %.3f  ',n1)"
   ]
   }
,
{
		   "cell_type": "markdown",
		   "metadata": {},
		   "source": [
			"## Example 11.7: chapter_11_example_7.sce"
		   ]
		  },
  {
"cell_type": "code",
	   "execution_count": null,
	   "metadata": {
	    "collapsed": true
	   },
	   "outputs": [],
"source": [
"clc\n",
"//initialisation of variables\n",
"h1= 182.07 //kJ/kg\n",
"h4= 76.26 //kJ/kg\n",
"h2= 217.97 //kJ/kg\n",
"Q= 10^6 //kJ/h\n",
"Tc= -5 //C\n",
"Th= 32 //C\n",
"//CALCULATIONS\n",
"COP= (h1-h4)/(h2-h1)\n",
"W= Q/(COP*3600)\n",
"COPcarnot= (273.15+Tc)/(Th-Tc)\n",
"//RESULTS\n",
"printf (' COP= %.2f  ',COP)\n",
"printf (' \n power= %.1f kW ',W)\n",
"printf (' \n COP= %.3f  ',COPcarnot)"
   ]
   }
,
{
		   "cell_type": "markdown",
		   "metadata": {},
		   "source": [
			"## Example 11.8: chapter_11_example_8.sce"
		   ]
		  },
  {
"cell_type": "code",
	   "execution_count": null,
	   "metadata": {
	    "collapsed": true
	   },
	   "outputs": [],
"source": [
"clc\n",
"//initialisation of variables\n",
"h1= 238.431 //kJ/kg\n",
"h4= 109.777 //kJ/kg\n",
"Qc= 6 //kW\n",
"h2= 295.835 //kJ/kg\n",
"n= 0.88\n",
"Tin= 33 //C\n",
"Tout= 20 //C\n",
"cp= 4.186 //J/mol K\n",
"//CALCULATIONS\n",
"qc= h1-h4\n",
"m= Qc/qc\n",
"w= h2-h1\n",
"W= m*w/n\n",
"COP= Qc/W\n",
"qh= h2-h4\n",
"mcw= m*qh/(cp*(Tin-Tout))\n",
"//RESULTS\n",
"printf (' compressor power= %.2f kW ',W)\n",
"printf (' \n COP= %.3f  ',COP)\n",
"printf (' \n cooling water flow= %.4f kg/s ',mcw)"
   ]
   }
,
{
		   "cell_type": "markdown",
		   "metadata": {},
		   "source": [
			"## Example 11.9: chapter_11_example_9.sce"
		   ]
		  },
  {
"cell_type": "code",
	   "execution_count": null,
	   "metadata": {
	    "collapsed": true
	   },
	   "outputs": [],
"source": [
"clc\n",
"//initialisation of variables\n",
"h1= 183.12 //kJ/kg\n",
"h4= 75.588 //kJ/kg\n",
"h2= 218.697 //kJ/kg\n",
"nm=0.94\n",
"Qc= 6 //kW\n",
"h4a= 45.343 //kJ/kg\n",
"h2a= 257.283 //kJ/kg\n",
"h1a= 213.427 //kJ/kg \n",
"//CALCULATIONS\n",
"COP= (h1-h4)*nm/(h2-h1)\n",
"W= Qc/COP\n",
"COP1= (h1-h4a)*nm/(h2a-h1a)\n",
"W1= Qc/COP1\n",
"//RESULTS\n",
"printf (' COP= %.3f  ',COP)\n",
"printf (' \n COP= %.3f  ',COP1)\n",
"printf (' \n Work= %.3f kW ',W)\n",
"printf (' \n Work= %.3f kW ',W1)"
   ]
   }
],
"metadata": {
		  "kernelspec": {
		   "display_name": "Scilab",
		   "language": "scilab",
		   "name": "scilab"
		  },
		  "language_info": {
		   "file_extension": ".sce",
		   "help_links": [
			{
			 "text": "MetaKernel Magics",
			 "url": "https://github.com/calysto/metakernel/blob/master/metakernel/magics/README.md"
			}
		   ],
		   "mimetype": "text/x-octave",
		   "name": "scilab",
		   "version": "0.7.1"
		  }
		 },
		 "nbformat": 4,
		 "nbformat_minor": 0
}
