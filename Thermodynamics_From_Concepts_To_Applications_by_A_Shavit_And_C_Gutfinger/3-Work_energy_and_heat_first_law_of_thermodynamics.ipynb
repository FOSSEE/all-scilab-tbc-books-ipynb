{
"cells": [
 {
		   "cell_type": "markdown",
	   "metadata": {},
	   "source": [
       "# Chapter 3: Work energy and heat first law of thermodynamics"
	   ]
	},
{
		   "cell_type": "markdown",
		   "metadata": {},
		   "source": [
			"## Example 3.3: chapter_3_example_3.sce"
		   ]
		  },
  {
"cell_type": "code",
	   "execution_count": null,
	   "metadata": {
	    "collapsed": true
	   },
	   "outputs": [],
"source": [
"clc\n",
"//initialisation of variables\n",
"m= 5 //kg\n",
"g= 9.8 //m/sec^2\n",
"k= 500 //N/m\n",
"//CALCULATIONS\n",
"x= m*g/k\n",
"W= -m*g*x\n",
"//RESULTS\n",
"printf ('work interaction of spring = %.2f J',W)"
   ]
   }
,
{
		   "cell_type": "markdown",
		   "metadata": {},
		   "source": [
			"## Example 3.4: chapter_3_example_4.sce"
		   ]
		  },
  {
"cell_type": "code",
	   "execution_count": null,
	   "metadata": {
	    "collapsed": true
	   },
	   "outputs": [],
"source": [
"clc\n",
"//initialisation of variables\n",
"m= 500 //kg\n",
"V= 50 //L\n",
"P= 700 //kPa\n",
"T= 25 //C\n",
"P0= 100 //kPa\n",
"g= 9.8 //m/sec^2\n",
"A= 200 //cm^2\n",
"V1= 100 //L\n",
"//CALCULATIONS\n",
"pe= P0*10^3+(m*g/(A*10^-4))\n",
"W= pe*(V1-V)*10^-6\n",
"//RESULTS\n",
"printf ('work of the gas = %.2f kJ',W)"
   ]
   }
,
{
		   "cell_type": "markdown",
		   "metadata": {},
		   "source": [
			"## Example 3.5: chapter_3_example_5.sce"
		   ]
		  },
  {
"cell_type": "code",
	   "execution_count": null,
	   "metadata": {
	    "collapsed": true
	   },
	   "outputs": [],
"source": [
"clc\n",
"//initialisation of variables\n",
"W= 5 //kJ\n",
"Q= 23 //kJ\n",
"Q1= -50 //kJ\n",
"W1= 0 //kJ\n",
"//CALCULATIONS\n",
"E1= Q-W\n",
"E2= Q1-W1\n",
"E3= -(E1+E2)\n",
"W3= -E3\n",
"//RESULTS\n",
"printf ('energy change in process 1 = %.f kJ',E1)\n",
"printf ('\n energy change in process 2 = %.f kJ',E2)\n",
"printf ('\n energy change in process 3 = %.f kJ',E3)\n",
"printf ('\n Work in third process = %.f kJ',W3)"
   ]
   }
,
{
		   "cell_type": "markdown",
		   "metadata": {},
		   "source": [
			"## Example 3.6: chapter_3_example_6.sce"
		   ]
		  },
  {
"cell_type": "code",
	   "execution_count": null,
	   "metadata": {
	    "collapsed": true
	   },
	   "outputs": [],
"source": [
"clc\n",
"//initialisation of variables\n",
"V= 12 //km/L\n",
"//CALCULATIONS\n",
"MPG= V*3.7854/1.609\n",
"//RESULTS\n",
"printf ('car mileage = %.2f MPG',MPG)"
   ]
   }
,
{
		   "cell_type": "markdown",
		   "metadata": {},
		   "source": [
			"## Example 3.7: chapter_3_example_7.sce"
		   ]
		  },
  {
"cell_type": "code",
	   "execution_count": null,
	   "metadata": {
	    "collapsed": true
	   },
	   "outputs": [],
"source": [
"clc\n",
"//initialisation of variables\n",
"p= 800 //atm\n",
"P= 10000 //psi\n",
"x= 14.696 //psi/atm\n",
"//CALCULATIONS\n",
"P1= p*x\n",
"//RESULTS\n",
"if (P1>P) then\n",
"disp('Salesman is honest')\n",
""
   ]
   }
],
"metadata": {
		  "kernelspec": {
		   "display_name": "Scilab",
		   "language": "scilab",
		   "name": "scilab"
		  },
		  "language_info": {
		   "file_extension": ".sce",
		   "help_links": [
			{
			 "text": "MetaKernel Magics",
			 "url": "https://github.com/calysto/metakernel/blob/master/metakernel/magics/README.md"
			}
		   ],
		   "mimetype": "text/x-octave",
		   "name": "scilab",
		   "version": "0.7.1"
		  }
		 },
		 "nbformat": 4,
		 "nbformat_minor": 0
}
