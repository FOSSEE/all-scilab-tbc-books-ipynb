{
"cells": [
 {
		   "cell_type": "markdown",
	   "metadata": {},
	   "source": [
       "# Chapter 8: Coherent Optical Communication"
	   ]
	},
{
		   "cell_type": "markdown",
		   "metadata": {},
		   "source": [
			"## Example 8.1: 1.sce"
		   ]
		  },
  {
"cell_type": "code",
	   "execution_count": null,
	   "metadata": {
	    "collapsed": true
	   },
	   "outputs": [],
"source": [
"//Optical Fiber communication by A selvarajan\n",
"//example 8.1\n",
"//OS=Windows XP sp3\n",
"//Scilab version 5.5.1\n",
"clc;\n",
"clear all;\n",
"eta=0.8;//quantum efficiency of detection\n",
"Ps=2e-9;//received optical power in W\n",
"h=6.62*1e-34;//plancks constant\n",
"lambda=1500*1e-9//wavelength in m\n",
"c=3*1e8//velocity of light in m/s\n",
"new=c/lambda;//frequency in Hz\n",
"B=1e6;//Signal Bandwidth in Hz\n",
"SNR=(eta*Ps)/(2*h*new*B);//signal to noise ratio\n",
"SNRdB=10*log10(SNR)//signal to noise ratio in dB)\n",
"mprintf('signal to noise ratio=%f',SNR)//the answer in textbook is wrong\n",
"mprintf('\nsignal to noise ratio=%f dB',SNRdB)//the answer in textbook is wrong"
   ]
   }
],
"metadata": {
		  "kernelspec": {
		   "display_name": "Scilab",
		   "language": "scilab",
		   "name": "scilab"
		  },
		  "language_info": {
		   "file_extension": ".sce",
		   "help_links": [
			{
			 "text": "MetaKernel Magics",
			 "url": "https://github.com/calysto/metakernel/blob/master/metakernel/magics/README.md"
			}
		   ],
		   "mimetype": "text/x-octave",
		   "name": "scilab",
		   "version": "0.7.1"
		  }
		 },
		 "nbformat": 4,
		 "nbformat_minor": 0
}
