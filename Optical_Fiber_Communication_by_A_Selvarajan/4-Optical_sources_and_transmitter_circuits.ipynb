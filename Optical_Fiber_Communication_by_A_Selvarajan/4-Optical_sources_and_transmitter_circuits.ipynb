{
"cells": [
 {
		   "cell_type": "markdown",
	   "metadata": {},
	   "source": [
       "# Chapter 4: Optical sources and transmitter circuits"
	   ]
	},
{
		   "cell_type": "markdown",
		   "metadata": {},
		   "source": [
			"## Example 4.1: 1.sce"
		   ]
		  },
  {
"cell_type": "code",
	   "execution_count": null,
	   "metadata": {
	    "collapsed": true
	   },
	   "outputs": [],
"source": [
"//Optical Fiber communication by A selvarajan\n",
"//example 4.1\n",
"//OS=Windows XP sp3\n",
"//Scilab version 5.5.1\n",
"clc;\n",
"clear all;\n",
"//given  \n",
"tau_r=12*10^-9//radiative recombination time in s\n",
"tau_nr=35*10^-9//non-radiative recombination time in s\n",
"n1=3.5//refractive index of semiconductor\n",
"n2=1//refractive index of air\n",
"d=0.4*10^-6//active later thickness in m\n",
"V=8//recombination velocity\n",
"eta_int=1/(1+(tau_r/tau_nr))//internal quantum efficiency\n",
"tau=1/((tau_r^-1)+(tau_nr^-1)+(2*V/d))//total recombination time in s\n",
"f=sqrt(3)/(2*%pi*tau)//bandwidth in Hz\n",
"F3=((n1-n2)^2/(n1+n2)^2)//fresnel reflection \n",
"eta_ext=eta_int*(1-F3)//external quantum efficiency\n",
"mprintf('internal quantum efficiency=%f',eta_int)//The answers vary due to round off error\n",
"mprintf('\ntotal recombination time =%f ns',tau*1e9)//multiplication by 1e9 to convert unit from s to ns//The answers vary due to round off error\n",
"mprintf('\nbandwidth =%f MHz',f*1e-6)//multiplication by 1e-6 to convert unit from Hz to MHz///The answers vary due to round off error\n",
"mprintf('\nfresnel reflection=%f ',F3)//The answers vary due to round off error\n",
"mprintf('\nexternal quantum efficiency=%f',eta_ext)//The answers vary due to round off error"
   ]
   }
,
{
		   "cell_type": "markdown",
		   "metadata": {},
		   "source": [
			"## Example 4.2: 2.sce"
		   ]
		  },
  {
"cell_type": "code",
	   "execution_count": null,
	   "metadata": {
	    "collapsed": true
	   },
	   "outputs": [],
"source": [
"//Optical Fiber communication by A selvarajan\n",
"//example 4.2\n",
"//OS=Windows XP sp3\n",
"//Scilab version 5.5.1\n",
"clc;\n",
"clear all;\n",
"//given  \n",
"lambda=1.3//wavelength of laser in um\n",
"w=5//active layer width in um\n",
"d=2//active layer thickness in um\n",
"n1=3.5//refractive index of core\n",
"n2=3.49//refractive index of cladding\n",
"//to find\n",
"k0=2*%pi/lambda//propagation constant\n",
"row=0.3//confinement factor\n",
"neff=sqrt(n2^2+row)//effective refractive index\n",
"D=k0*d*(sqrt(n1^2-n2^2))//normalized thickness\n",
"W=k0*w*(sqrt(neff^2-n2^2))//normalized width// the answer given in textbook is wrong\n",
"Wlat=w*(sqrt(2*log(2)))*(0.32+2.1*(W^-1.5))//Full width lateral at half maximum in um/ the answer given in textbook is wrong\n",
"Wtra=d*(sqrt(2*log(2)))*(0.32+2.1*(D^-1.5))//Full width transverse at half maximum in um/ the answer given in textbook is wrong\n",
"mprintf('Normalized thickness=%f',D)//The answers vary due to round off error\n",
"mprintf('\n Normalized width =%f',W)//multiplication by 1e9 to convert unit from s to ns/// the answer given in textbook is wrong\n",
"mprintf('\nFull width lateral at half maximum =%f um',Wlat)//multiplication by 1e-6 to convert unit from Hz to MHz//// the answer given in textbook is wrong\n",
"mprintf('\nFull width transverse at half maximum =%f um',Wtra)//multiplication by 1e-6 to convert unit from Hz to MHz//// the answer given in textbook is wrong"
   ]
   }
,
{
		   "cell_type": "markdown",
		   "metadata": {},
		   "source": [
			"## Example 4.3: 3.sce"
		   ]
		  },
  {
"cell_type": "code",
	   "execution_count": null,
	   "metadata": {
	    "collapsed": true
	   },
	   "outputs": [],
"source": [
"//Optical Fiber communication by A selvarajan\n",
"//example 4.3\n",
"//OS=Windows XP sp3\n",
"//Scilab version 5.5.1\n",
"clc;\n",
"clear all;\n",
"//given \n",
"clear all;\n",
"Eg=1.3//band gap energy in eV\n",
"l=0.4//cavity length in mm\n",
"R1=0.5//reflectivities on ends\n",
"R2=0.5//reflectivities on ends\n",
"alpha=3//loss coefficient in /mm\n",
"current_density=30*10^5//current density in amp/m^2\n",
"area=0.2*0.5*10^-6//laser active area in m^2\n",
"\n",
"lambda=1.24/Eg//emission wavelength in um\n",
"gth=alpha+(1/(2*l))*log(1/(R1*R2))// Threshold Gain\n",
"threshold_current=current_density*area//threshold current in A\n",
"mprintf('Emission wavelength =%f nm',lambda)//multiplication by 1e3 to convert unit from um to nm\n",
"mprintf('\nThreshold Gain=%f/mm',gth)\n",
"mprintf('\nThreshold current =%f mA',threshold_current*1e3)//for converting unit from A to mA"
   ]
   }
,
{
		   "cell_type": "markdown",
		   "metadata": {},
		   "source": [
			"## Example 4.4: 4.sce"
		   ]
		  },
  {
"cell_type": "code",
	   "execution_count": null,
	   "metadata": {
	    "collapsed": true
	   },
	   "outputs": [],
"source": [
" //Optical Fiber communication by A selvarajan\n",
"//example 4.4\n",
"//OS=Windows XP sp3\n",
"//Scilab version 5.5.1\n",
"clc;\n",
"clear all;\n",
"//given \n",
"clear all;\n",
"lamda=0.85*10^-6//wavelength of operation in m\n",
"delta_lamda=36*10^-9//spectral width in m\n",
"fractional_width=delta_lamda/lamda//fractional width \n",
"mprintf('Fractional width=%f percent',fractional_width*100)//multiplication by 100 to represent information in percentage"
   ]
   }
],
"metadata": {
		  "kernelspec": {
		   "display_name": "Scilab",
		   "language": "scilab",
		   "name": "scilab"
		  },
		  "language_info": {
		   "file_extension": ".sce",
		   "help_links": [
			{
			 "text": "MetaKernel Magics",
			 "url": "https://github.com/calysto/metakernel/blob/master/metakernel/magics/README.md"
			}
		   ],
		   "mimetype": "text/x-octave",
		   "name": "scilab",
		   "version": "0.7.1"
		  }
		 },
		 "nbformat": 4,
		 "nbformat_minor": 0
}
