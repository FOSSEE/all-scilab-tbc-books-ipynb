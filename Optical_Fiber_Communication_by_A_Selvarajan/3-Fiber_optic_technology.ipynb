{
"cells": [
 {
		   "cell_type": "markdown",
	   "metadata": {},
	   "source": [
       "# Chapter 3: Fiber optic technology"
	   ]
	},
{
		   "cell_type": "markdown",
		   "metadata": {},
		   "source": [
			"## Example 3.1: 1.sce"
		   ]
		  },
  {
"cell_type": "code",
	   "execution_count": null,
	   "metadata": {
	    "collapsed": true
	   },
	   "outputs": [],
"source": [
"//Optical Fiber communication by A selvarajan\n",
"//example \n",
"//OS=Windows XP sp3\n",
"//Scilab version 5.5.1\n",
"clc;\n",
"clear all;\n",
"//given \n",
"PL=1;//length of preform in m\n",
"PD=25e-3;//daimeter of preform in m\n",
"OD=125e-6;//outer daimeter of optical fiber in m\n",
"V=%pi*((PD/2)^2)*PL;//volume of Preform cylinder in m^3\n",
"L=V/(%pi*((OD)^2));//Length of optical fiber in m\n",
"mprintf('Length of optical fiber=%fKm',L/1e3);//division by 1e3 to convert unit from m to Km"
   ]
   }
,
{
		   "cell_type": "markdown",
		   "metadata": {},
		   "source": [
			"## Example 3.2: 2.sce"
		   ]
		  },
  {
"cell_type": "code",
	   "execution_count": null,
	   "metadata": {
	    "collapsed": true
	   },
	   "outputs": [],
"source": [
"//Optical Fiber communication by A selvarajan\n",
"//example 3.2\n",
"//OS=Windows XP sp3\n",
"//Scilab version 5.5.1\n",
"clc;\n",
"clear all;\n",
"//given \n",
"NA1=0.2;//numerical apperture of fiber 1\n",
"NA2=0.1;//numerical apperture of fiber 2\n",
"D1=12;// core daimeter of fiber 1 in um\n",
"D2=6;// core daimeter of fiber 2 in um\n",
"Losses=20*log10(NA1/NA2)+20*log10(D1/D2);// total fiber to fiber coupling losses due to NA mismatch and size mismatch\n",
"mprintf('total losses=%fdB ',Losses);\n",
""
   ]
   }
],
"metadata": {
		  "kernelspec": {
		   "display_name": "Scilab",
		   "language": "scilab",
		   "name": "scilab"
		  },
		  "language_info": {
		   "file_extension": ".sce",
		   "help_links": [
			{
			 "text": "MetaKernel Magics",
			 "url": "https://github.com/calysto/metakernel/blob/master/metakernel/magics/README.md"
			}
		   ],
		   "mimetype": "text/x-octave",
		   "name": "scilab",
		   "version": "0.7.1"
		  }
		 },
		 "nbformat": 4,
		 "nbformat_minor": 0
}
