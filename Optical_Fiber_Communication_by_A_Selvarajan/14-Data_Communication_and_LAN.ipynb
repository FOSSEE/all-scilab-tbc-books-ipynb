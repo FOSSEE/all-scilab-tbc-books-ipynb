{
"cells": [
 {
		   "cell_type": "markdown",
	   "metadata": {},
	   "source": [
       "# Chapter 14: Data Communication and LAN"
	   ]
	},
{
		   "cell_type": "markdown",
		   "metadata": {},
		   "source": [
			"## Example 14.1: 1.sce"
		   ]
		  },
  {
"cell_type": "code",
	   "execution_count": null,
	   "metadata": {
	    "collapsed": true
	   },
	   "outputs": [],
"source": [
"//Optical Fiber communication by A selvarajan\n",
"//example 14.1\n",
"//OS=Windows XP sp3\n",
"//Scilab version 5.5.1\n",
"clc;\n",
"clear all;\n",
"N=256//no. of nodes\n",
"Lc=0.25//loss per coup;er in dB\n",
"Power_margin=30//power margin in dB\n",
"system_margin=6//system margin in dB\n",
"Average_loss=0.6//average loss in dB/Km\n",
"TxRX_powergain=32//transmitter to receiver power gain in dB\n",
"Avg_Tr_loss=0.5//average transmitter loss in dB/Km\n",
"\n",
"//solution\n",
"Nc=log2(N)//since 2x2 couplers are used\n",
"Ns=N/2//each stage coupler\n",
"T_Nc=Nc*Ns//total no. of couplers\n",
"Total_Lc=Nc*Lc//total coupler loss in dB\n",
"Permissible_loss=TxRX_powergain-Total_Lc//permissible cable loss in dB\n",
"L=Permissible_loss/Avg_Tr_loss//Transmission distance in Km\n",
"mprintf('Transmission distance  =%fKm ',L)"
   ]
   }
],
"metadata": {
		  "kernelspec": {
		   "display_name": "Scilab",
		   "language": "scilab",
		   "name": "scilab"
		  },
		  "language_info": {
		   "file_extension": ".sce",
		   "help_links": [
			{
			 "text": "MetaKernel Magics",
			 "url": "https://github.com/calysto/metakernel/blob/master/metakernel/magics/README.md"
			}
		   ],
		   "mimetype": "text/x-octave",
		   "name": "scilab",
		   "version": "0.7.1"
		  }
		 },
		 "nbformat": 4,
		 "nbformat_minor": 0
}
