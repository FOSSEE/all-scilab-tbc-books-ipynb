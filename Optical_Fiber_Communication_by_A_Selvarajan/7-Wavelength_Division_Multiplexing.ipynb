{
"cells": [
 {
		   "cell_type": "markdown",
	   "metadata": {},
	   "source": [
       "# Chapter 7: Wavelength Division Multiplexing"
	   ]
	},
{
		   "cell_type": "markdown",
		   "metadata": {},
		   "source": [
			"## Example 7.1: 1.sce"
		   ]
		  },
  {
"cell_type": "code",
	   "execution_count": null,
	   "metadata": {
	    "collapsed": true
	   },
	   "outputs": [],
"source": [
"//Optical Fiber communication by A selvarajan\n",
"//example 7.1\n",
"//OS=Windows XP sp3\n",
"//Scilab version 5.5.1\n",
"clc;\n",
"clear all;\n",
"//given \n",
"delta_lambda=60e-9;//delta lambda in m\n",
"lambda=1550e-9;//wavelength in m\n",
"c=3e8//velocity of light in m/s\n",
"CS=75*1e9//Channel spacing in Hz\n",
"Power_margin=30//power margin in dB\n",
"Fiber_loss=0.25//fiber loss in dB/Km\n",
"channel_capacity=2.5*1e9//channel capacity STM-16 in bps\n",
"delta_f=(c*delta_lambda)/lambda^2;//frequency bandwidth in Hz\n",
"transmission_distance=Power_margin/Fiber_loss//Transmission distance in Km\n",
"No_channels=round(delta_f/CS);//No. of channels \n",
"distance_bitrate_product=No_channels*channel_capacity*transmission_distance//distance bitrate product in bpsKm\n",
"mprintf('frequency bandwidth =%f x10^12Hz',delta_f/1e12)////division by  1e12 to convert unit from Hz to 10^12 Hz\n",
"mprintf('\nTransmission distance =%f Km',transmission_distance)\n",
"mprintf('\nNo. of channels=%i',No_channels)\n",
"mprintf('\nDistance bitrate product =%f Tbits/sKm',distance_bitrate_product/1e12)////division by  1e12 to convert unit from bits/sKm to Tbits/sKm"
   ]
   }
],
"metadata": {
		  "kernelspec": {
		   "display_name": "Scilab",
		   "language": "scilab",
		   "name": "scilab"
		  },
		  "language_info": {
		   "file_extension": ".sce",
		   "help_links": [
			{
			 "text": "MetaKernel Magics",
			 "url": "https://github.com/calysto/metakernel/blob/master/metakernel/magics/README.md"
			}
		   ],
		   "mimetype": "text/x-octave",
		   "name": "scilab",
		   "version": "0.7.1"
		  }
		 },
		 "nbformat": 4,
		 "nbformat_minor": 0
}
