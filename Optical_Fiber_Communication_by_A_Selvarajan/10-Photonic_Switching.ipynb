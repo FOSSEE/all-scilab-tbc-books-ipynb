{
"cells": [
 {
		   "cell_type": "markdown",
	   "metadata": {},
	   "source": [
       "# Chapter 10: Photonic Switching"
	   ]
	},
{
		   "cell_type": "markdown",
		   "metadata": {},
		   "source": [
			"## Example 10.1: 1.sce"
		   ]
		  },
  {
"cell_type": "code",
	   "execution_count": null,
	   "metadata": {
	    "collapsed": true
	   },
	   "outputs": [],
"source": [
"//Optical Fiber communication by A selvarajan\n",
"//example 10.1\n",
"//OS=Windows XP sp3\n",
"//Scilab version 5.5.1\n",
"clc;\n",
"clear all;\n",
"Xx=-30//crosstalk in dB\n",
"L=0.3//typical value\n",
"N=5//no. of switches Nb+Nc\n",
"SXR=Xx-L*(N)-10*log10(5*(10^(-L*N/10))/N)//Signal power to noise power in dB\n",
"mprintf('Minimum and maximum SXR values=%fdB',SXR)\n",
""
   ]
   }
,
{
		   "cell_type": "markdown",
		   "metadata": {},
		   "source": [
			"## Example 10.2: 2.sce"
		   ]
		  },
  {
"cell_type": "code",
	   "execution_count": null,
	   "metadata": {
	    "collapsed": true
	   },
	   "outputs": [],
"source": [
"//Optical Fiber communication by A selvarajan\n",
"//example 10.2\n",
"//OS=Windows XP sp3\n",
"//Scilab version 5.5.1\n",
"clc;\n",
"clear all;\n",
"PB=40//power budget in dB\n",
"x=-30//crosstalk in dB assumed\n",
"N=4//no. of switches \n",
"Lin=1//insertion loss of in dB\n",
"Linw=Lin*N//worst case insertion loss of in dB\n",
"Lc=2//worst case connector loss in dB\n",
"L=Linw+2*Lc//total power lost in the worst case signal path in dB\n",
"Power_margin=PB-L//power margin in dB\n",
"K=0;\n",
"for i=1:N\n",
"K=K+(((-1)^(i+1))*(10^(-x/10))^i);\n",
"end\n",
"SbyN=10*log10(K)//Signal power to noise power in dB\n",
"mprintf('Signal power to noise power =%fdB',SbyN)\n",
"mprintf('\nPower Margin =%fdB',Power_margin)//The Textbook answer is wrong"
   ]
   }
],
"metadata": {
		  "kernelspec": {
		   "display_name": "Scilab",
		   "language": "scilab",
		   "name": "scilab"
		  },
		  "language_info": {
		   "file_extension": ".sce",
		   "help_links": [
			{
			 "text": "MetaKernel Magics",
			 "url": "https://github.com/calysto/metakernel/blob/master/metakernel/magics/README.md"
			}
		   ],
		   "mimetype": "text/x-octave",
		   "name": "scilab",
		   "version": "0.7.1"
		  }
		 },
		 "nbformat": 4,
		 "nbformat_minor": 0
}
