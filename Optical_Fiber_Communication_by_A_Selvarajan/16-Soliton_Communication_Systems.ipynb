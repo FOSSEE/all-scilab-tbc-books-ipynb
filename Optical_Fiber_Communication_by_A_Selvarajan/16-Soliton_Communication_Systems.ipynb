{
"cells": [
 {
		   "cell_type": "markdown",
	   "metadata": {},
	   "source": [
       "# Chapter 16: Soliton Communication Systems"
	   ]
	},
{
		   "cell_type": "markdown",
		   "metadata": {},
		   "source": [
			"## Example 16.1: 1.sce"
		   ]
		  },
  {
"cell_type": "code",
	   "execution_count": null,
	   "metadata": {
	    "collapsed": true
	   },
	   "outputs": [],
"source": [
"//Optical Fiber communication by A selvarajan\n",
"//example 16.1\n",
"//OS=Windows XP sp3\n",
"//Scilab version 5.5.1\n",
"clc;\n",
"clear all;\n",
"lambda=850;//operating wavelength in nm\n",
"Beta2=-1//dispersion regime ps^2/Km\n",
"Gama=2//nonlinearity in /W-Km\n",
"TFWHM=10//fundamental soliton width in ps\n",
"To=TFWHM/1.763//pulse width in ps\n",
"Ppeak=1/(Gama*(To^2))//peak power in W\n",
"mprintf('Peak power required to maintain fundamental soliton=%fmW',Ppeak*10^3)//multiplication by 10^3 is to convert the unit from w to mW"
   ]
   }
,
{
		   "cell_type": "markdown",
		   "metadata": {},
		   "source": [
			"## Example 16.2: 2.sce"
		   ]
		  },
  {
"cell_type": "code",
	   "execution_count": null,
	   "metadata": {
	    "collapsed": true
	   },
	   "outputs": [],
"source": [
"//Optical Fiber communication by A selvarajan\n",
"//example 16.2\n",
"//OS=Windows XP sp3\n",
"//Scilab version 5.5.1\n",
"clc;\n",
"clear all;\n",
"lambda=1.55;//operating wavelength in um\n",
"Beta2=-1//dispersion regime ps^2/Km\n",
"B=10//bitrate in Gb/s\n",
"two_qo=12//separation between two neighbouring solitons in normalized units\n",
"LT=%pi*exp(two_qo/2)/(8*(two_qo/2)^2*abs(Beta2)*10^-24)/(B^2*(10^18))//distance transmission limit in Km\n",
"mprintf('For 10Gb/s bit rate , transmission distance is limited to =%f Km',LT)//the answer is different because of rounding off \n",
""
   ]
   }
,
{
		   "cell_type": "markdown",
		   "metadata": {},
		   "source": [
			"## Example 16.3: 3.sce"
		   ]
		  },
  {
"cell_type": "code",
	   "execution_count": null,
	   "metadata": {
	    "collapsed": true
	   },
	   "outputs": [],
"source": [
"//Optical Fiber communication by A selvarajan\n",
"//example 16.3\n",
"//OS=Windows XP sp3\n",
"//Scilab version 5.5.1\n",
"clc;\n",
"clear all;\n",
"alpha=0.2//fiber loss in dB/Km\n",
"LA=50//Amplifier spacing in Km\n",
"G=(alpha*LA)//gain in fiber\n",
"PbyPo=G*log(G)/(G-1)//Multiple of power required by single soliton\n",
"mprintf('Multiple of power required by single soliton =%f ',PbyPo)// the answer is slightly varing due to rounding error"
   ]
   }
,
{
		   "cell_type": "markdown",
		   "metadata": {},
		   "source": [
			"## Example 16.4: 4.sce"
		   ]
		  },
  {
"cell_type": "code",
	   "execution_count": null,
	   "metadata": {
	    "collapsed": true
	   },
	   "outputs": [],
"source": [
"//Optical Fiber communication by A selvarajan\n",
"//example 16.4\n",
"//OS=Windows XP sp3\n",
"//Scilab version 5.5.1\n",
"clc;\n",
"clear all;\n",
"lambda=1.55;//operating wavelength in um\n",
"LA=50//Amplifier spacing in Km\n",
"qo=6//Half of separation between two neighbouring solitons in normalized units\n",
"Beta2=-1//dispersion regime ps^2/Km\n",
"B=1/(4*(qo)^2*abs(Beta2))//bandwidth in THz\n",
"mprintf('Communication Link bitrate is limited to =%f GHz',B*10^3)// Multiplication by 10^3 to convert unit fron THz to GHz\n",
"//the answer is wrong"
   ]
   }
,
{
		   "cell_type": "markdown",
		   "metadata": {},
		   "source": [
			"## Example 16.5: 5.sce"
		   ]
		  },
  {
"cell_type": "code",
	   "execution_count": null,
	   "metadata": {
	    "collapsed": true
	   },
	   "outputs": [],
"source": [
"//Optical Fiber communication by A selvarajan\n",
"//example 16.5\n",
"//OS=Windows XP sp3\n",
"//Scilab version 5.5.1\n",
"clc;\n",
"clear all;\n",
"LT=10000//Transmission distance in Km\n",
"alpha=0.2//fiber loss in dB/Km\n",
"lambda=1.55*10^-6;//operating wavelength in m\n",
"Gama=2//nonlinearity in /W-Km\n",
"LA=50//Amplifier spacing in Km\n",
"D=1//dispersion parameter ps/(Km-nm)\n",
"FG=3.518//Fiber gain factor\n",
"fj=0.1//timing jitter factor\n",
"h=6.62607004 * 10-34 //planck's constant in m2 kg / s\n",
"nsp=2//spontaneous emission factor\n",
"qo=6//Half of separation between two neighbouring solitons in normalized units\n",
"B1=((9*%pi*fj^2*LA)/(nsp*FG*qo*lambda*h*Gama*D*10^-3))//variable converting la\n",
"B2=B1^(1/3)//variable\n",
"B=B2/LT//bandwidth in THz\n",
"mprintf('Communication Link bitrate is limited to =%f Gb/s',B*10^3)// Multiplication by 10^3 to convert unit fron THz to GHz\n",
"//the answer is wrong"
   ]
   }
],
"metadata": {
		  "kernelspec": {
		   "display_name": "Scilab",
		   "language": "scilab",
		   "name": "scilab"
		  },
		  "language_info": {
		   "file_extension": ".sce",
		   "help_links": [
			{
			 "text": "MetaKernel Magics",
			 "url": "https://github.com/calysto/metakernel/blob/master/metakernel/magics/README.md"
			}
		   ],
		   "mimetype": "text/x-octave",
		   "name": "scilab",
		   "version": "0.7.1"
		  }
		 },
		 "nbformat": 4,
		 "nbformat_minor": 0
}
