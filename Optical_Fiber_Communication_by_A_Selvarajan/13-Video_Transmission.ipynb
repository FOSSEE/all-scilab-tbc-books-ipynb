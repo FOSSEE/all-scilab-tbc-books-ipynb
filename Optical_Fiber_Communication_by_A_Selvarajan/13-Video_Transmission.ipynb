{
"cells": [
 {
		   "cell_type": "markdown",
	   "metadata": {},
	   "source": [
       "# Chapter 13: Video Transmission"
	   ]
	},
{
		   "cell_type": "markdown",
		   "metadata": {},
		   "source": [
			"## Example 13.1: 1.sce"
		   ]
		  },
  {
"cell_type": "code",
	   "execution_count": null,
	   "metadata": {
	    "collapsed": true
	   },
	   "outputs": [],
"source": [
"//Optical Fiber communication by A selvarajan\n",
"//example 13.1\n",
"//OS=Windows XP sp3\n",
"//Scilab version 5.5.1\n",
"clc;\n",
"clear all;\n",
"Sigma_s=0.1//source dispersion inns\n",
"Sigma_D=0.1//detector dispersion in ns\n",
"Sigma_F=0.05//fiber dispersion in ns\n",
"bitrate=622//bitrate in Mbps\n",
"STM_rate=250//4 channel VSB PCM\n",
"Power_margin=30//power margin in dB\n",
"system_margin=6//system margin in dB\n",
"Average_loss=0.6//average loss in dB/Km\n",
"\n",
"//solution\n",
"Sigma_max=STM_rate/bitrate//max dispersion allowed\n",
"L2=sqrt((Sigma_max-Sigma_s^2-Sigma_D^2)/(Sigma_F^2))//dispersion limited maximum length in Km\n",
"L1=(Power_margin-system_margin)/Average_loss//Attenuation limited length in km\n",
"mprintf('Since dispersion limited maximum length is less than Attenuation limited length \nso present system length limit is =%fKm ',L2)"
   ]
   }
],
"metadata": {
		  "kernelspec": {
		   "display_name": "Scilab",
		   "language": "scilab",
		   "name": "scilab"
		  },
		  "language_info": {
		   "file_extension": ".sce",
		   "help_links": [
			{
			 "text": "MetaKernel Magics",
			 "url": "https://github.com/calysto/metakernel/blob/master/metakernel/magics/README.md"
			}
		   ],
		   "mimetype": "text/x-octave",
		   "name": "scilab",
		   "version": "0.7.1"
		  }
		 },
		 "nbformat": 4,
		 "nbformat_minor": 0
}
