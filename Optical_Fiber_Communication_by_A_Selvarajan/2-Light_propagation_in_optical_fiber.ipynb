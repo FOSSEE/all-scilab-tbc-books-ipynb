{
"cells": [
 {
		   "cell_type": "markdown",
	   "metadata": {},
	   "source": [
       "# Chapter 2: Light propagation in optical fiber"
	   ]
	},
{
		   "cell_type": "markdown",
		   "metadata": {},
		   "source": [
			"## Example 2.10: 10.sce"
		   ]
		  },
  {
"cell_type": "code",
	   "execution_count": null,
	   "metadata": {
	    "collapsed": true
	   },
	   "outputs": [],
"source": [
"//Optical Fiber communication by A selvarajan\n",
"//example 2.10\n",
"//OS=Windows XP sp3\n",
"//Scilab version 5.5.1\n",
"clc;\n",
"clear all;\n",
"//given \n",
"//case-1\n",
"n1=1.49;//refractive index of core\n",
"n2=1.46//refractive index of cladding\n",
"c=3*10^5;//speed of light in Km/s\n",
"t1=n1/c;//time delay for one traveling along axis in s/Km\n",
"t2=(n1^2/n2)/c//time delay for one traveling along path that is totally reflecting at the first interface in s/km\n",
"mprintf('time delay for traveling along axis =%f us/Km',t1*1e6)//multiplication by 1e6 to convert the unit from s/Km to us/Km\n",
"mprintf('\ntime delay for  traveling along path that is totally reflecting at the first interface =%fus/km',t2*1e6)//multiplication by 1e6 to convert the unit from s/Km to us/Km\n",
"//case-2\n",
"n1=1.47;//refractive index of core\n",
"n2=1.46//refractive index of cladding\n",
"c=3*10^5;//speed of light in Km/s\n",
"t1=n1/c;//time delay for one traveling along axis in\n",
"t2=(n1^2/n2)/c//time delay for one traveling along path that is totally reflecting at the first interface\n",
"mprintf('\ntime delay for traveling along axis =%f us/Km',t1*1e6)//multiplication by 1e6 to convert the unit from s/Km to us/Km\n",
"mprintf('\ntime delay for traveling along path that is totally reflecting at the first interface =%fus/km',t2*1e6)//multiplication by 1e6 to convert the unit from s/Km to us/Km\n",
"\n",
"//The answer provided in the textbook is wrong it has got wrong unit"
   ]
   }
,
{
		   "cell_type": "markdown",
		   "metadata": {},
		   "source": [
			"## Example 2.1: 1.sce"
		   ]
		  },
  {
"cell_type": "code",
	   "execution_count": null,
	   "metadata": {
	    "collapsed": true
	   },
	   "outputs": [],
"source": [
"//Optical Fiber communication by A selvarajan\n",
"//example 2.1\n",
"//OS=Windows XP sp3\n",
"//Scilab version 5.5.1\n",
"clc;\n",
"clear all;\n",
"//case-1\n",
"ncore=1.46//refractive index of core\n",
"nclad=1//refractive index of cladding\n",
"c=3e5//velocity of light in Km/s\n",
"L=1// length of path in Km\n",
"NA=sqrt(ncore^2-nclad^2)//Numerical aperture\n",
"delt_tau_by_L=(NA^2)/(2*c*ncore) //multipath pulse broadening in s/Km\n",
"delt_tau=delt_tau_by_L*L//bandwidth distance product Hz\n",
"BL=(1/delt_tau)*L//bandwidth distance product Hz\n",
"mprintf('Numerical aperture=%f',NA);//The answers vary due to round off error\n",
"mprintf('\nMultipath pulse broadening=%fns/Km',delt_tau_by_L*1e9);//The answer provided in the textbook is wrong//multiplication by 1e9  to convert s/Km to ns/Km \n",
"mprintf('\nBandwidth distance product=%fMHz',BL*1e-6);//The answer provided in the textbook is wrong//multiplication by 1e-6 to convert Hz to MHz\n",
"//case-2\n",
"ncore=1.465//refractive index of core\n",
"nclad=1.45//refractive index of cladding\n",
"NA=sqrt(ncore^2-nclad^2)//Numerical aperture\n",
"delt_tau_by_L=(NA^2)/(2*c*ncore) //multipath pulse broadening in s/m\n",
"BL=(1/delt_tau_by_L)*L//bandwidth distance product Hz\n",
"mprintf('\n\nNumerical aperture=%f',NA);\n",
"mprintf('\nMultipath pulse broadening=%fns/Km',delt_tau_by_L*1e9);//The answer provided in the textbook is wrong//multiplication by 1e9 to convert s/Km to ns/Km \n",
"mprintf('\nBandwidth distance product=%fGHz',BL*1e-9);//The answer provided in the textbook is wrong//multiplication by 1e-6 to convert Hz to GHz"
   ]
   }
,
{
		   "cell_type": "markdown",
		   "metadata": {},
		   "source": [
			"## Example 2.2: 2.sce"
		   ]
		  },
  {
"cell_type": "code",
	   "execution_count": null,
	   "metadata": {
	    "collapsed": true
	   },
	   "outputs": [],
"source": [
"//Optical Fiber communication by A selvarajan\n",
"//example 2.2\n",
"//OS=Windows XP sp3\n",
"//Scilab version 5.5.1\n",
"clc;\n",
"clear all;\n",
"lamda1=0.7//wavelength in um\n",
"lamda2=1.3//wavelength in um\n",
"lamda3=2//wavelength in um\n",
"f_lambda1=(303.33*(lamda1^-1)-233.33)//equation for lambda1\n",
"f_lambda2=(303.33*(lamda2^-1)-233.33)//equation for lambda2\n",
"f_lambda3=(303.33*(lamda3^-1)-233.33)//equation for lambda3\n",
"mprintf('Material dispersion at Lambda 0.7um=%f',f_lambda1)\n",
"mprintf('\nMaterial dispersion at Lambda 1.3um=%f',f_lambda2)//The answers vary due to round off error\n",
"mprintf('\nMaterial dispersion at Lambda 2um=%f',f_lambda3)//The answers vary due to round off error\n",
"mprintf('\nIts is a standard silica fiber')"
   ]
   }
,
{
		   "cell_type": "markdown",
		   "metadata": {},
		   "source": [
			"## Example 2.3: 3.sce"
		   ]
		  },
  {
"cell_type": "code",
	   "execution_count": null,
	   "metadata": {
	    "collapsed": true
	   },
	   "outputs": [],
"source": [
"//Optical Fiber communication by A selvarajan\n",
"//example 2.3\n",
"//OS=Windows XP sp3\n",
"//Scilab version 5.5.1\n",
"clc;\n",
"clear all;\n",
"//given\n",
"ncore=1.505//refractive index of core\n",
"nclad=1.502//refractive index of cladding\n",
"V=2.4//v no. for single mode \n",
"lambda=1300e-9//operating wavelength in m\n",
"//to find\n",
"NA=sqrt(ncore^2-nclad^2)//numerical aperture\n",
"a=V*(lambda)/(2*%pi*NA)//dimension of fiber core in m\n",
"//display\n",
"mprintf('The numarical aperture =%f',NA);\n",
"mprintf('\n Dimension of fiber core =%f um',a*1e6)//multiplication by 1e6 to convert unit from m to um"
   ]
   }
,
{
		   "cell_type": "markdown",
		   "metadata": {},
		   "source": [
			"## Example 2.4: 4.sce"
		   ]
		  },
  {
"cell_type": "code",
	   "execution_count": null,
	   "metadata": {
	    "collapsed": true
	   },
	   "outputs": [],
"source": [
"//Optical Fiber communication by A selvarajan\n",
"//example 2.4\n",
"//OS=Windows XP sp3\n",
"//Scilab version 5.5.1\n",
"clc;\n",
"clear all;\n",
"//given\n",
"\n",
"V=2//v no. for single mode \n",
"a=4//radius of fiber in um\n",
"//to find\n",
"w=a*(0.65+1.619*V^(-3/2)+2.87*V^-6)//effective mode radius in um\n",
"//display\n",
"\n",
"mprintf('Effective mode radius =%f um',w)"
   ]
   }
,
{
		   "cell_type": "markdown",
		   "metadata": {},
		   "source": [
			"## Example 2.6: 6.sce"
		   ]
		  },
  {
"cell_type": "code",
	   "execution_count": null,
	   "metadata": {
	    "collapsed": true
	   },
	   "outputs": [],
"source": [
"//Optical Fiber communication by A selvarajan\n",
"//example 2.6\n",
"//OS=Windows XP sp3\n",
"//Scilab version 5.5.1\n",
"clc;\n",
"clear all;\n",
"//given \n",
" m=0// for dominant mode\n",
" v=0// for dominant mode\n",
" n1=1.5// refractive index of core\n",
" delta=0.01// core clad index difference\n",
" a=5// fiber radius in um\n",
" lambda=1.3//wavelength of operation in um\n",
"// to find\n",
" k0=(2*%pi/lambda)//constant in /m\n",
"beta=sqrt((k0^2)*(n1^2)-(2*k0*n1*sqrt(2*delta)/a))//propagation constant in rad/um\n",
" mprintf('Propagation constant=%f rad/um',beta)//The answers vary due to round off error"
   ]
   }
,
{
		   "cell_type": "markdown",
		   "metadata": {},
		   "source": [
			"## Example 2.8: 8.sce"
		   ]
		  },
  {
"cell_type": "code",
	   "execution_count": null,
	   "metadata": {
	    "collapsed": true
	   },
	   "outputs": [],
"source": [
"//Optical Fiber communication by A selvarajan\n",
"//example 2.8\n",
"//OS=Windows XP sp3\n",
"//Scilab version 5.5.1\n",
"clc;\n",
"clear all;\n",
"//given \n",
"M=1000;//modes supported\n",
"lambda=1.3;//operating wavelength in um\n",
"n1=1.5;//refractive index of core\n",
"n2=1.48;//refractive index of cladding\n",
"//to find\n",
"V=sqrt(2*M)// normalised frequency V no.\n",
"NA=sqrt(n1^2-n2^2)//numerical apperture\n",
"R=lambda*V/(2*%pi*NA)//radius of fiber in um\n",
"//display\n",
"mprintf('Core Radius=%fum',R)//The answer provided in the textbook is wrong\n",
""
   ]
   }
,
{
		   "cell_type": "markdown",
		   "metadata": {},
		   "source": [
			"## Example 2.9: 9.sce"
		   ]
		  },
  {
"cell_type": "code",
	   "execution_count": null,
	   "metadata": {
	    "collapsed": true
	   },
	   "outputs": [],
"source": [
"//Optical Fiber communication by A selvarajan\n",
"//example 2.9\n",
"//OS=Windows XP sp3\n",
"//Scilab version 5.5.1\n",
"clc;\n",
"clear all;\n",
"//given \n",
"lambda=1.3;//wavelength of operation in um\n",
"n1=1.5;// refractive index of core\n",
"n2=1.48;// refractive index of cladding\n",
"k0=2*%pi/lambda;//constant in /m\n",
"//case-1\n",
"b=0.5//normalized propagation constant\n",
"k0=2*%pi/lambda//constant\n",
"beta=k0*sqrt(n2^2+b*(n1^2-n2^2))//propagation constant\n",
"mprintf('Propagation constant=%frad/um',beta)//The answers vary due to round off error\n",
"//case-2\n",
"//given \n",
"lambda=1.3;//wavelength of operation in um\n",
"n1=1.5;// refractive index of core\n",
"n2=1.48;// refractive index of cladding\n",
"k0=2*%pi/lambda;//constant in /m\n",
"b=0.5//normalized propagation constant\n",
"k0=2*%pi/lambda//constant\n",
"b=(((n1+n2)/2)^2-n2^2)/(n1^2-n2^2)//normalized propagation constant\n",
"mprintf('\nPropagation constant=%f ',b)//The answers vary due to round off error\n",
"\n",
"//case-3\n",
"//given \n",
"lambda=1.3;//wavelength of operation in um\n",
"n1=1.5;// refractive index of core\n",
"n2=1.0;// refractive index of cladding\n",
"k0=2*%pi/lambda;//constant in /m\n",
"b=0.5//normalized propagation constant\n",
"k0=2*%pi/lambda//constant\n",
"beta=k0*sqrt(n2^2+b*(n1^2-n2^2))//propagation constant\n",
"mprintf('\nPropagation constant=%f rad/um',beta)//The answers vary due to round off error"
   ]
   }
],
"metadata": {
		  "kernelspec": {
		   "display_name": "Scilab",
		   "language": "scilab",
		   "name": "scilab"
		  },
		  "language_info": {
		   "file_extension": ".sce",
		   "help_links": [
			{
			 "text": "MetaKernel Magics",
			 "url": "https://github.com/calysto/metakernel/blob/master/metakernel/magics/README.md"
			}
		   ],
		   "mimetype": "text/x-octave",
		   "name": "scilab",
		   "version": "0.7.1"
		  }
		 },
		 "nbformat": 4,
		 "nbformat_minor": 0
}
