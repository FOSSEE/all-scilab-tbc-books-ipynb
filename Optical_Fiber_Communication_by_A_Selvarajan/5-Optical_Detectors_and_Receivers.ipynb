{
"cells": [
 {
		   "cell_type": "markdown",
	   "metadata": {},
	   "source": [
       "# Chapter 5: Optical Detectors and Receivers"
	   ]
	},
{
		   "cell_type": "markdown",
		   "metadata": {},
		   "source": [
			"## Example 5.1: 1.sce"
		   ]
		  },
  {
"cell_type": "code",
	   "execution_count": null,
	   "metadata": {
	    "collapsed": true
	   },
	   "outputs": [],
"source": [
"//Optical Fiber communication by A selvarajan\n",
"//example 5.1\n",
"//OS=Windows XP sp3\n",
"//Scilab version 5.5.1\n",
"clc;\n",
"clear all;\n",
"//given \n",
"\n",
"optical_power=10*10^-6//optical power in W\n",
"R=0.5//Responsivity in A/W\n",
"Is=optical_power*R//shot noise current in A\n",
"Id=2*10^-9//dark current in A\n",
"Rl=1e6//Load resistance in ohm\n",
"B=1e6//bandwidth in Hz\n",
"T=300//Temperature in K\n",
"K=1.38*10^-20//Boltzman constant in m2 g s-2 K-1\n",
"q=1.609*10^-19//charge of a electron in Coulombs\n",
"Ith=4*K*T*B/Rl//Mean Square Thermal noise current in A\n",
"SNR=(Is^2)/(2*q*(Is+Id)+Ith)//Signal to noise ratio\n",
"mprintf('Thermal noise current=%f*10^-18A',Ith*10^18)\n",
"mprintf('\nShot noise current=%f*10^-6A',Is*10^6)\n",
"mprintf('\nSignal to noise ratio=%fdB',10*log10(SNR))//The answers vary due to round off error\n",
""
   ]
   }
,
{
		   "cell_type": "markdown",
		   "metadata": {},
		   "source": [
			"## Example 5.2: 2.sce"
		   ]
		  },
  {
"cell_type": "code",
	   "execution_count": null,
	   "metadata": {
	    "collapsed": true
	   },
	   "outputs": [],
"source": [
"//Optical Fiber communication by A selvarajan\n",
"//example 5.2\n",
"//OS=Windows XP sp3\n",
"//Scilab version 5.5.1\n",
"clc;\n",
"clear all;\n",
"//given \n",
"eta=0.6//quantum efficiency\n",
"Po=10*10^-6//optical power in W\n",
"q=1.6*10^-19//charge of an elctron in columb\n",
"lambda=0.85*10^-6//wavelength in m\n",
"h=6.6*10^-34//planck's constant\n",
"c=3*10^8//velocity of light in m/s\n",
"Rl=50//load Resistance in ohm\n",
"R=(q*eta*lambda)/(h*c)//responsivity in A/W\n",
"I=R*Po//current in A\n",
"V=Rl*I//Voltage in V\n",
"mprintf('Responsivity=%f',R)\n",
"mprintf('\nCurrent=%fuA',I*10^6)//multiplication by 1e6 to convert unit from A to uA\n",
"mprintf('\nVoltage=%fmV',V*10^3)//multiplication by 1e6 to convert unit from V to mV"
   ]
   }
,
{
		   "cell_type": "markdown",
		   "metadata": {},
		   "source": [
			"## Example 5.3: 3.sce"
		   ]
		  },
  {
"cell_type": "code",
	   "execution_count": null,
	   "metadata": {
	    "collapsed": true
	   },
	   "outputs": [],
"source": [
"//Optical Fiber communication by A selvarajan\n",
"//example 5.3\n",
"//OS=Windows XP sp3\n",
"//Scilab version 5.5.1\n",
"clc;\n",
"clear all;\n",
"//given \n",
"tau_tr=2*1e-9//transit time in sec\n",
"Rl=50//load resistance in ohm\n",
"Cd=3*1e-12//Junction capacitance in farad\n",
"tau=2*Rl*Cd//Circuit time constant in sec\n",
"f3dB=(0.35/tau_tr)//3dB bandwidth in Hz\n",
"mprintf('Circuit time constant =%f ns',tau*1e9)//multiplication by 1e9 to convert unit from s to ns\n",
"mprintf('\n3dB bandwidth=%fMHz',f3dB*1e-6)//multiplication by 1e-6 to convert unit from Hz to MHz"
   ]
   }
,
{
		   "cell_type": "markdown",
		   "metadata": {},
		   "source": [
			"## Example 5.4: 4.sce"
		   ]
		  },
  {
"cell_type": "code",
	   "execution_count": null,
	   "metadata": {
	    "collapsed": true
	   },
	   "outputs": [],
"source": [
"//Optical Fiber communication by A selvarajan\n",
"//example 5.4\n",
"//OS=Windows XP sp3\n",
"//Scilab version 5.5.1\n",
"clc;\n",
"clear all;\n",
"//given \n",
"I=100*1e-9//current in A\n",
"P=5*1e-9//Incident power in W\n",
"h=6.6*10^-34//planck's constant\n",
"c=3*10^8//velocity of light in m/s\n",
"q=1.6*10^-19//charge of an elctron in columb\n",
"eta=0.7//quantum efficiency\n",
"lambda=1.5*10^-6//wavelength in m\n",
"R=I/P;//APD responsivity in A/W\n",
"M= (R*h*c)/(q*eta*lambda);//Multiplication factor\n",
"mprintf('Responsivity=%f',R)\n",
"mprintf('\nMultiplication factor=%f',M)"
   ]
   }
,
{
		   "cell_type": "markdown",
		   "metadata": {},
		   "source": [
			"## Example 5.5: 5.sce"
		   ]
		  },
  {
"cell_type": "code",
	   "execution_count": null,
	   "metadata": {
	    "collapsed": true
	   },
	   "outputs": [],
"source": [
"//Optical Fiber communication by A selvarajan\n",
"//example 5.5\n",
"//OS=Windows XP sp3\n",
"//Scilab version 5.5.1\n",
"clc;\n",
"clear all;\n",
"//given \n",
"h=6.6*10^-34//planck's constant\n",
"c=3*10^8//velocity of light in m/s\n",
"q=1.6*10^-19//charge of an elctron in columb\n",
"lambda=0.85*10^-6//wavelength in m\n",
"I=0.1//incident light intensity in mW/mm2\n",
"Iph1=10*1e-6//photocurrent in pin in A\n",
"Iph2=500*1e-6//photocurrent in APD in A\n",
"A=0.2//detector area in mm2\n",
"P=I*A//Power seen by detector in mW\n",
"photons_generated=P*1e-3/(h*c/lambda)//photons Generated\n",
"Rate=Iph1/q//rate of carrier generation for pin\n",
"eta=Rate/photons_generated;//Quantum efficiency for pin\n",
"M=Iph2/Iph1//Multiplication factor\n",
"mprintf('Quantum efficiency is=%f',eta);//The answers vary due to round off error\n",
"mprintf('\n Avalanche multiple factor=%f',M);\n",
""
   ]
   }
],
"metadata": {
		  "kernelspec": {
		   "display_name": "Scilab",
		   "language": "scilab",
		   "name": "scilab"
		  },
		  "language_info": {
		   "file_extension": ".sce",
		   "help_links": [
			{
			 "text": "MetaKernel Magics",
			 "url": "https://github.com/calysto/metakernel/blob/master/metakernel/magics/README.md"
			}
		   ],
		   "mimetype": "text/x-octave",
		   "name": "scilab",
		   "version": "0.7.1"
		  }
		 },
		 "nbformat": 4,
		 "nbformat_minor": 0
}
