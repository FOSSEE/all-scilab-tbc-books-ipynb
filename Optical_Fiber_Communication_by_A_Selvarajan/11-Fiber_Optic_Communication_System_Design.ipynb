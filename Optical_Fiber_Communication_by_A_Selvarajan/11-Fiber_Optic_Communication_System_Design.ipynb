{
"cells": [
 {
		   "cell_type": "markdown",
	   "metadata": {},
	   "source": [
       "# Chapter 11: Fiber Optic Communication System Design"
	   ]
	},
{
		   "cell_type": "markdown",
		   "metadata": {},
		   "source": [
			"## Example 11.1: 1.sce"
		   ]
		  },
  {
"cell_type": "code",
	   "execution_count": null,
	   "metadata": {
	    "collapsed": true
	   },
	   "outputs": [],
"source": [
"//Optical Fiber communication by A selvarajan\n",
"//example 11.1\n",
"//OS=Windows XP sp3\n",
"//Scilab version 5.5.1\n",
"clc;\n",
"clear all;\n",
"BW=7//bandwidth in MHz\n",
"SNR=60//signal to noise ratio in dB\n",
"Pin=0//Launched power in dBm\n",
"Trise_source=20//risetime at source LED in ns\n",
"delta_lambda=20//spectra width in nm\n",
"lambda=850;//operating wavelength in nm\n",
"c=2.998*10^5;//velocity of light in Km/sec\n",
"R=0.3//Detector PIN FET responsivity in A/W\n",
"Cdiode=3//diode capacitance in pf\n",
"trise_detector=1//risetime at detector in ns\n",
"S=-30//sensitivity in dbm\n",
"Lsplice=0.2//splice loss in dB/connector\n",
"NA=0.2//numerical aperture for GI/MM\n",
"n1=1.46//refractive index of core\n",
"A=2//attenuation in dB/Km\n",
"Ls=3//loss due to source in dB\n",
"Ld=1//loss due to detector in dB\n",
"Psm=5//system margin in dB\n",
"c=3*10^8//velocity of light in m/s\n",
"\n",
"//solution\n",
"\n",
"Available_power=Pin-S;//available power in dB\n",
"Total_loss=Ls+Ld+Psm;\n",
"Power_left=Available_power-Total_loss;//power left in dB\n",
"L=(Power_left+Lsplice)/(Lsplice/2+2);\n",
"tmod=L*10^3*(NA^2)/(2*c*n1);//modal dispersion in s\n",
"Bit_rate=1/tmod;//bit rate in bps\n",
"mprintf('Maximum permissible link length is =%fKm',L);\n",
"\n",
"mprintf('\nMaximum permissible bit rate is =%fMbps',Bit_rate/10^6);//division by 10^6 to convert the unit from bps to Mbps//the answer is different because of rounding off "
   ]
   }
,
{
		   "cell_type": "markdown",
		   "metadata": {},
		   "source": [
			"## Example 11.2: 2.sce"
		   ]
		  },
  {
"cell_type": "code",
	   "execution_count": null,
	   "metadata": {
	    "collapsed": true
	   },
	   "outputs": [],
"source": [
"//Optical Fiber communication by A selvarajan\n",
"//example 11.2\n",
"//OS=Windows XP sp3\n",
"//Scilab version 5.5.1\n",
"clc;\n",
"clear all;\n",
"BW=7//bandwidth in MHz\n",
"SNR=60//signal to noise ratio in dB\n",
"Pin=0//Launched power in dBm\n",
"Trise_source=4//risetime at source LED in ns\n",
"delta_lambda=1//spectra width in nm\n",
"lambda=1300;//operating wavelength in nm\n",
"c=2.998*10^5;//velocity of light in Km/sec\n",
"R=0.3//Detector PIN FET responsivity in A/W\n",
"Cdiode=3//diode capacitance in pf\n",
"trise_detector=5//risetime at detector in ns\n",
"F=2.1//amplifier noise figure in dB\n",
"Camp=2//amplifier capacitance in pf\n",
"L=2//minimum link length in Km\n",
"Lsplice=0.5//splice loss in dB/connector\n",
"NA=0.22//numerical aperture for GI/MM\n",
"BWGI=600//GI/MM fiber bandwidth in MHz F3dB_optical\n",
"Te=630//temperate in Kelvin\n",
"K=1.38064852 *10-23//boltzman constant in m2 kg s-2 K-1\n",
"//solution\n",
"Rload=1/(2*%pi*(Cdiode+Camp)*BW)*10^6//maximum load resistance in ohm Actual value\n",
"Rload=4300//approximated value in ohm\n",
"BWRx=1/(2*%pi*(Cdiode+Camp)*Rload)//receiver BW in Hz\n",
"SbyN=10^(SNR/10)//SNR in normal scale\n",
"Pmin=10*log10(sqrt(SbyN*4*K*Te*BW/(0.5*Rload*R^2)))//input power in W\n",
"L1=Pmin/0.2//power budget limited link length in Km\n",
"mprintf('Maximum permissible link length is =%fKm',L1);\n",
"\n",
"Trise_required=(0.35/BW)*10^3//Bandwith budgetting rise time required is rise time required in ns//multiplication by 10^3 to convert msec to ns\n",
"Trise_receiver=2.19*Rload*(Cdiode+Camp)*10^-3//rise time of receiver in ns//multiplication by 10^3 to convert msec to ns\n",
"Trise_fiber=sqrt(Trise_required^2-Trise_receiver^2-Trise_source^2)//fiber dispersion in ns\n",
"//for GI\n",
"f3dB_electrical=0.71*BWGI;//3dB elctrical BW in MHzKm\n",
"t_intra_modal=1//intra modal dispersion in ns/Km\n",
"t_inter_modal=3//intermodal dispersion in ns/Km\n",
"t_fiber_GI=sqrt(t_intra_modal^2+t_inter_modal^2);//rise time of fiber in ns/Km\n",
"L2=Trise_fiber/t_fiber_GI//link length in Km\n",
"mprintf('\n Maximum permissible link length for GI is =%fKm',L2);"
   ]
   }
],
"metadata": {
		  "kernelspec": {
		   "display_name": "Scilab",
		   "language": "scilab",
		   "name": "scilab"
		  },
		  "language_info": {
		   "file_extension": ".sce",
		   "help_links": [
			{
			 "text": "MetaKernel Magics",
			 "url": "https://github.com/calysto/metakernel/blob/master/metakernel/magics/README.md"
			}
		   ],
		   "mimetype": "text/x-octave",
		   "name": "scilab",
		   "version": "0.7.1"
		  }
		 },
		 "nbformat": 4,
		 "nbformat_minor": 0
}
