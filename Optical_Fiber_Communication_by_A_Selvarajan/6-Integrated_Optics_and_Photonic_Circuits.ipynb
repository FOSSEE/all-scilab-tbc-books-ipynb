{
"cells": [
 {
		   "cell_type": "markdown",
	   "metadata": {},
	   "source": [
       "# Chapter 6: Integrated Optics and Photonic Circuits"
	   ]
	},
{
		   "cell_type": "markdown",
		   "metadata": {},
		   "source": [
			"## Example 6.1: 1.sce"
		   ]
		  },
  {
"cell_type": "code",
	   "execution_count": null,
	   "metadata": {
	    "collapsed": true
	   },
	   "outputs": [],
"source": [
"//Optical Fiber communication by A selvarajan\n",
"//example 6.1\n",
"//OS=Windows XP sp3\n",
"//Scilab version 5.5.1\n",
"clc;\n",
"clear all;\n",
"//given \n",
"lamda=1.55;//wavelength in um\n",
"n1=1.51;//Film refractive index\n",
"n2=1.5;//substrate refractive index\n",
"t=(lamda)/(2*%pi*sqrt(n1*n1-n2*n2));//Thickness of film in um\n",
"mprintf('Film thickness=%fum',t);\n",
""
   ]
   }
,
{
		   "cell_type": "markdown",
		   "metadata": {},
		   "source": [
			"## Example 6.2: 2.sce"
		   ]
		  },
  {
"cell_type": "code",
	   "execution_count": null,
	   "metadata": {
	    "collapsed": true
	   },
	   "outputs": [],
"source": [
"//Optical Fiber communication by A selvarajan\n",
"//example 6.2\n",
"//OS=Windows XP sp3\n",
"//Scilab version 5.5.1\n",
"clc;\n",
"clear all;\n",
"//given \n",
"b=0.5//normalized propoagation constant\n",
"V=(2*atan(b/(1-b))/(sqrt(1-b)))//normalized frequency\n",
"mprintf('Normalized frequency=%f',V)\n",
"lamda=1.3;//wavelength in um\n",
"n1=2.21;//Film refractive index\n",
"n2=2.2;//substrate refractive index\n",
"t=(lamda)/(2*%pi*sqrt(n1*n1-n2*n2));//Thickness of film in um\n",
"mprintf('\nFilm thickness=%fum',t);"
   ]
   }
,
{
		   "cell_type": "markdown",
		   "metadata": {},
		   "source": [
			"## Example 6.3: 3.sce"
		   ]
		  },
  {
"cell_type": "code",
	   "execution_count": null,
	   "metadata": {
	    "collapsed": true
	   },
	   "outputs": [],
"source": [
"//Optical Fiber communication by A selvarajan\n",
"//example 6.3\n",
"//OS=Windows XP sp3\n",
"//Scilab version 5.5.1\n",
"clc;\n",
"clear all;\n",
"//given \n",
"lamda=1.3;//wavelength in um\n",
"nf=1.51;//Film refractive index\n",
"t=1.5;//Film thickness in um\n",
"ns=1.5//Waveguide refractive index\n",
"na=1//refractive index of air\n",
"V=(2*%pi*t/lamda)*sqrt(nf^2-ns^2)//V-number\n",
"a=(ns^2-na^2)/(nf^2-ns^2)//asymmetry parameter of the waveguide\n",
"Vc=atan(a^0.5)//cutoff V-number\n",
"mprintf('V-number=%f',V)\n",
"mprintf('\nasymmetry parameter of the waveguide=%f',a)\n",
"mprintf('\nCutoff V-number=%f',Vc)"
   ]
   }
,
{
		   "cell_type": "markdown",
		   "metadata": {},
		   "source": [
			"## Example 6.4: 4.sce"
		   ]
		  },
  {
"cell_type": "code",
	   "execution_count": null,
	   "metadata": {
	    "collapsed": true
	   },
	   "outputs": [],
"source": [
"//Optical Fiber communication by A selvarajan\n",
"//example 6.4\n",
"//OS=Windows XP sp3\n",
"//Scilab version 5.5.1\n",
"clc;\n",
"clear all;\n",
"//given \n",
"delta_phi=%pi\n",
"d=4*10^-6//seperation between electrodes\n",
"n=2.2// approximate inder in absence of voltage\n",
"r13=30*10^-12//poper electro optic coefficient\n",
"row=0.4//overlap factor\n",
"lambda=1300*1e-9//wavelength in m\n",
"L=8*10^-3//length of electrode in m\n",
"delta_n=delta_phi*lambda/(2*%pi*L)//change in refractive index\n",
"V_pi=2*d*delta_n/(n^3*row*r13)//Voltahe required for using the device as BPSK modulator\n",
"mprintf('Voltage required for using the device as BPSK modulator=%fV',V_pi)\n",
"mprintf('\nVoltage length product for unit length is=%fVm',V_pi)"
   ]
   }
,
{
		   "cell_type": "markdown",
		   "metadata": {},
		   "source": [
			"## Example 6.5: 5.sce"
		   ]
		  },
  {
"cell_type": "code",
	   "execution_count": null,
	   "metadata": {
	    "collapsed": true
	   },
	   "outputs": [],
"source": [
"//Optical Fiber communication by A selvarajan\n",
"//example 6.5\n",
"//OS=Windows XP sp3\n",
"//Scilab version 5.5.1\n",
"clc;\n",
"clear all;\n",
"//given \n",
"d=10*10^-6//seperation between electrodes\n",
"ne=2.2// approximate inder in absence of voltage\n",
"r33=32*10^-12//poper electro optic coefficient\n",
"lambda=1*1e-6//wavelength in m\n",
"L=5*10^-3//length of electrode in m\n",
"V=d*lambda/(2*%pi*ne^3*r33*L)//Voltahe required for using the device as BPSK modulator\n",
"mprintf('Voltage required for using the device as BPSK modulator=%fV',V)//the answer is different because of rounding off error\n",
""
   ]
   }
,
{
		   "cell_type": "markdown",
		   "metadata": {},
		   "source": [
			"## Example 6.6: 6.sce"
		   ]
		  },
  {
"cell_type": "code",
	   "execution_count": null,
	   "metadata": {
	    "collapsed": true
	   },
	   "outputs": [],
"source": [
"//Optical Fiber communication by A selvarajan\n",
"//example 6.6\n",
"//OS=Windows XP sp3\n",
"//Scilab version 5.5.1\n",
"clc;\n",
"clear all;\n",
"//given \n",
"delta_L=1/100//error in effective interaction length\n",
"P=(%pi/2*delta_L)^2//cross talk power output in W\n",
"mprintf('cross talk power output=%fx10^-4W',P*10^4);//multiplication by 10^4 to convert unit from W to 10^-4 W\n",
"PdB=10*log10(P)//power in dB\n",
"mprintf('\ncross talk power output=%fdB',PdB)"
   ]
   }
],
"metadata": {
		  "kernelspec": {
		   "display_name": "Scilab",
		   "language": "scilab",
		   "name": "scilab"
		  },
		  "language_info": {
		   "file_extension": ".sce",
		   "help_links": [
			{
			 "text": "MetaKernel Magics",
			 "url": "https://github.com/calysto/metakernel/blob/master/metakernel/magics/README.md"
			}
		   ],
		   "mimetype": "text/x-octave",
		   "name": "scilab",
		   "version": "0.7.1"
		  }
		 },
		 "nbformat": 4,
		 "nbformat_minor": 0
}
