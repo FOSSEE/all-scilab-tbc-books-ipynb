{
"cells": [
 {
		   "cell_type": "markdown",
	   "metadata": {},
	   "source": [
       "# Chapter 9: Optical Amplifiers"
	   ]
	},
{
		   "cell_type": "markdown",
		   "metadata": {},
		   "source": [
			"## Example 9.1: 1.sce"
		   ]
		  },
  {
"cell_type": "code",
	   "execution_count": null,
	   "metadata": {
	    "collapsed": true
	   },
	   "outputs": [],
"source": [
"//Optical Fiber communication by A selvarajan\n",
"//example 9.1\n",
"//OS=Windows XP sp3\n",
"//Scilab version 5.5.1\n",
"clc;\n",
"clear all;\n",
"lambda=1.3*1e-6//wavelength in m\n",
"c=3*1e8//velocity of light in m/s\n",
"SNRoutdB=30//signal to noise ratio at outputin dB\n",
"SNRout=10^(SNRoutdB/10);//signal to noise ratio at output normal scale\n",
"new=c/lambda;//frequency in Hz\n",
"h=6.6e-34;//plancks constant\n",
"P=0.5e-3;//Input power in W\n",
"NFdB=4//noise figure in dB\n",
"NF=10^(NFdB/10);//noise figure in normal scale\n",
"SNRin=NF*SNRout//signal to noise ratio at input normal scale\n",
"delta_Be=P/(2*h*new*SNRin);//receiver bandwidth in Hz\n",
"mprintf('Signal to noise ratio at Input=%f',SNRin)\n",
"mprintf('\nReciever bandwidth is=%fx10^14Hz',delta_Be/1e14);// division by 1e14 to convert the unit from Hz to 10^14 Hz\n",
"// The answer given in textbook is wrong"
   ]
   }
,
{
		   "cell_type": "markdown",
		   "metadata": {},
		   "source": [
			"## Example 9.2: 2.sce"
		   ]
		  },
  {
"cell_type": "code",
	   "execution_count": null,
	   "metadata": {
	    "collapsed": true
	   },
	   "outputs": [],
"source": [
"//Optical Fiber communication by A selvarajan\n",
"//example 9.2\n",
"//OS=Windows XP sp3\n",
"//Scilab version 5.5.1\n",
"clc;\n",
"clear all;\n",
"PASE=1e-3;//amplified spontaneous emission power in W\n",
"Gdb=20;//optical amplifier gain in dB\n",
"G=10^(Gdb/10);//optical amplifier gain in normal scale\n",
"delta_newbynew=5e-6;//fractional bandwidth\n",
"h=6.6e-34;//planck's constant\n",
"ns=PASE/((G-1)*h/delta_newbynew);//noise factor\n",
"mprintf('noise factor is=%fx10^21',ns/1e21);// division by 1e21 to convert the unit from Hz to 10^21 Hz\n",
"// The answer given in textbook is wrong"
   ]
   }
,
{
		   "cell_type": "markdown",
		   "metadata": {},
		   "source": [
			"## Example 9.3: 3.sce"
		   ]
		  },
  {
"cell_type": "code",
	   "execution_count": null,
	   "metadata": {
	    "collapsed": true
	   },
	   "outputs": [],
"source": [
"//Optical Fiber communication by A selvarajan\n",
"//example 9.3\n",
"//OS=Windows XP sp3\n",
"//Scilab version 5.5.1\n",
"clc;\n",
"clear all;\n",
"L=50//link length in Km\n",
"Fiber_loss=0.2//fiber loss in dB/Km\n",
"Req_Gain=Fiber_loss*L//required Gain\n",
"Fn1db=5//Noise figure in dB\n",
"Fn2db=5//Noise figure in dB\n",
"Fn3db=5//Noise figure in dB\n",
"Fn1=10^(Fn1db/10);//Noise figure in normal scale for all amplifiers\n",
"Fn2=10^(Fn2db/10);//Noise figure in normal scale for all amplifiers\n",
"Fn3=10^(Fn3db/10);//Noise figure in normal scale for all amplifiers\n",
"G1=10^(Req_Gain/10)//gain in normal scale\n",
"G2=10^(Req_Gain/10)//gain in normal scale\n",
"Fneff=Fn1+(Fn2/G1)+(Fn3/(G1*G2));//Effective noise figure\n",
"SNRindb=30;//Signal to noise ratio at input in dB\n",
"SNRout=10^(SNRindb/10)/Fneff;//Signal to noise ratio at output in dB\n",
"SNRoutdb=10*log10(SNRout);\n",
"mprintf('Required Gain=%f',Req_Gain)\n",
"mprintf('\nEffective noise figure=%f',Fneff)\n",
"mprintf('\nSignal to noise ratio at output =%f dB',SNRoutdb)"
   ]
   }
],
"metadata": {
		  "kernelspec": {
		   "display_name": "Scilab",
		   "language": "scilab",
		   "name": "scilab"
		  },
		  "language_info": {
		   "file_extension": ".sce",
		   "help_links": [
			{
			 "text": "MetaKernel Magics",
			 "url": "https://github.com/calysto/metakernel/blob/master/metakernel/magics/README.md"
			}
		   ],
		   "mimetype": "text/x-octave",
		   "name": "scilab",
		   "version": "0.7.1"
		  }
		 },
		 "nbformat": 4,
		 "nbformat_minor": 0
}
