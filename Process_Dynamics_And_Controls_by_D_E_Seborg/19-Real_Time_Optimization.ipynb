{
"cells": [
 {
		   "cell_type": "markdown",
	   "metadata": {},
	   "source": [
       "# Chapter 19: Real Time Optimization"
	   ]
	},
{
		   "cell_type": "markdown",
		   "metadata": {},
		   "source": [
			"## Example 19.2: Nitration_of_Decane.sce"
		   ]
		  },
  {
"cell_type": "code",
	   "execution_count": null,
	   "metadata": {
	    "collapsed": true
	   },
	   "outputs": [],
"source": [
"clear\n",
"clc\n",
"//Example 19.2\n",
"disp('Example 19.2')\n",
"function y=f_DNO3(r1)\n",
"    D1=0.5;D2=0.5;\n",
"    r2=0.4-0.5*r1;\n",
"    y=r1*D1/(1+r1)^2/(1+r2)+r2*D2/(1+r1)/(1+r2)^2\n",
"endfunction\n",
"function [f, g, ind] = costf(x, ind)\n",
"    f=-f_DNO3(x);//cost is negative of function to be maximised\n",
"    g=-derivative(f_DNO3,x);//derivative of the cost function\n",
"endfunction\n",
"[fopt, xopt] = optim(costf,0.5);\n",
"disp(xopt,'Optimum value of r1=')\n",
"disp(-fopt,'Max value of DNO3=')\n",
"mprintf('Note that the answer in book is not as accurate as the one\n...\n",
"calculated from scilab')"
   ]
   }
,
{
		   "cell_type": "markdown",
		   "metadata": {},
		   "source": [
			"## Example 19.3: Refinery_blending_and_production.sce"
		   ]
		  },
  {
"cell_type": "code",
	   "execution_count": null,
	   "metadata": {
	    "collapsed": true
	   },
	   "outputs": [],
"source": [
"clear\n",
"clc\n",
"//Example 19.3\n",
"disp('Example 19.3')\n",
"//function for minimization\n",
"c=-[-24.5 -16 36 24 21 10]';\n",
"//Equality Constraints\n",
"Aeq=[0.80 0.44 -1 0 0 0;0.05 0.1 0 -1 0 0;0.1 0.36 0 0 -1 0;0.05 0.1 0 0 0 -1];\n",
"beq=zeros(4,1);\n",
"//Inequality Constraints\n",
"A=[0 0 1 0 0 0;0 0 0 1 0 0;0 0 0 0 1 0];\n",
"b=[24000 2000 6000]';\n",
"//Lower bound on x\n",
"lb=zeros(6,1);\n",
"//Initial guess: such that it satisfies Aeq*x0=beq\n",
"x0=zeros(6,1);\n",
"x0(1:2)=[5000 3000]';//Initial guess for x1 and x2\n",
"x0(3:6)=Aeq(:,3:6)\(beq-Aeq(:,1:2)*x0(1:2));//solution of linear equations\n",
"//Note that x0 should also satisfy A*x0<b and lb\n",
"[xopt,fopt]=karmarkar(Aeq,beq,c,x0,[],[],[],[],A,b,lb)\n",
"disp(xopt,'Optimum value of x=')\n",
"mprintf('\nMax value of f=$ %f /day\n',-fopt)\n",
"mprintf('\n Note that the answer in book is not as accurate as the one\n...\n",
" calculated from scilab')"
   ]
   }
,
{
		   "cell_type": "markdown",
		   "metadata": {},
		   "source": [
			"## Example 19.4: Fuel_cost_in_boiler_house.sce"
		   ]
		  },
  {
"cell_type": "code",
	   "execution_count": null,
	   "metadata": {
	    "collapsed": true
	   },
	   "outputs": [],
"source": [
"clear\n",
"clc\n",
"//Example 19.4\n",
"disp('Example 19.4')\n",
"//Here we have Nonlinear programming problem hence we use optim function\n",
"//Since optim does not have the ability to handle constraints\n",
"//we use the penalty method for optimization\n",
"//ie we make the constraints a part of the cost function such that \n",
"//cost function increases severly for any violation of constraints\n",
"//MATLAB users must be familiar with fmincon function in MATLAB\n",
"//Unfortunately a similar function in Scilab is not yet available\n",
"//Fmincon toolbox development for scilab is under development/testing\n",
"x0=[2 4 4 1]'; //Initial guess\n",
"function y=func(x) //x is 4*1 vector\n",
"    P1=4.5*x(1)+0.1*x(1)^2+4*x(2)+0.06*x(2)^2;\n",
"    P2=4*x(3)+0.05*x(3)^2+3.5*x(4)+0.2*x(4)^2;\n",
"    if (P1>30) then\n",
"        c1=abs(P1-30)^2;\n",
"    elseif P1<18\n",
"        c1=abs(P1-18)^2;\n",
"        else c1=0;\n",
"    end\n",
"    if (P2>25) then\n",
"        c2=abs(P2-30)^2;\n",
"    elseif P2<14\n",
"        c2=abs(P2-18)^2;\n",
"        else c2=0;\n",
"    end\n",
"    c3=abs(P1+P2-50)^2;\n",
"    c4=abs(x(2)+x(4)-5)^2;\n",
"    y=(x(1)+x(3))+100*(c1+c2+c3+c4);\n",
"endfunction\n",
"function [f, g, ind] = costf(x, ind)\n",
"    f=func(x);//cost is negative of function to be maximised\n",
"    g=derivative(func,x);//derivative of the cost function\n",
"endfunction\n",
"[fopt, xopt] = optim(costf,'b',zeros(4,1), 10*ones(4,1),x0);\n",
"// 'b',zeros(4,1), 10*ones(4,1) stands for lower and upper bounds on x\n",
"disp(xopt,'Optimum value of x=')\n",
"disp(fopt,'Min value of f=')\n",
"mprintf('Note that the answer in book is not as accurate as the one\n...\n",
"calculated from scilab')"
   ]
   }
],
"metadata": {
		  "kernelspec": {
		   "display_name": "Scilab",
		   "language": "scilab",
		   "name": "scilab"
		  },
		  "language_info": {
		   "file_extension": ".sce",
		   "help_links": [
			{
			 "text": "MetaKernel Magics",
			 "url": "https://github.com/calysto/metakernel/blob/master/metakernel/magics/README.md"
			}
		   ],
		   "mimetype": "text/x-octave",
		   "name": "scilab",
		   "version": "0.7.1"
		  }
		 },
		 "nbformat": 4,
		 "nbformat_minor": 0
}
