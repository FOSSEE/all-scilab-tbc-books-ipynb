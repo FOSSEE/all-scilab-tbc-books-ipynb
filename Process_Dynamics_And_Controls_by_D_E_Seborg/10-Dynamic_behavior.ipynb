{
"cells": [
 {
		   "cell_type": "markdown",
	   "metadata": {},
	   "source": [
       "# Chapter 10: Dynamic behavior"
	   ]
	},
{
		   "cell_type": "markdown",
		   "metadata": {},
		   "source": [
			"## Example 10.10: Routh_Array_1.sce"
		   ]
		  },
  {
"cell_type": "code",
	   "execution_count": null,
	   "metadata": {
	    "collapsed": true
	   },
	   "outputs": [],
"source": [
"clear\n",
"clc\n",
"//Example 10.10\n",
"disp('Example 10.10')\n",
"s=%s;\n",
"Gp=1/(5*s+1);\n",
"Gm=1/(s+1);\n",
"Gv=1/(2*s+1);\n",
"Ys=Gv*Gp*Gm\n",
"Routh=routh_t(Ys,poly(0,'Kc')); // produces routh table for polynomial 1+Kc*Ys\n",
"disp(Routh)\n",
"K1=roots(numer(Routh(3,1)));\n",
"K2=roots(numer(Routh(4,1)));\n",
"mprintf('K lies between %f and %f for system to be stable', K2,K1)"
   ]
   }
,
{
		   "cell_type": "markdown",
		   "metadata": {},
		   "source": [
			"## Example 10.11: Routh_Array_2.sce"
		   ]
		  },
  {
"cell_type": "code",
	   "execution_count": null,
	   "metadata": {
	    "collapsed": true
	   },
	   "outputs": [],
"source": [
"clear\n",
"clc\n",
"//Example 10.11\n",
"disp('Example 10.11')\n",
"Kc=poly(0,'Kc');//defining a polynomial variable\n",
"a2=2.5;a1=5.5-Kc;a0=1+2*Kc;//a# are coefficients\n",
"b1=(a1*a0-a2*0)/a1;\n",
"mprintf('Routh Array is')\n",
"A=[a2 a0;a1 0;b1 0]\n",
"disp(A)\n",
"mprintf('\n All entries in first column should be positive')\n",
"Kc_up=roots(a1);//upper limit for Kc by solving third row column 1 of array\n",
"b1=numer(b1);//This is done to extract the numerator from rational c1\n",
"//without extracting numerator we cannot find roots using 'roots' function\n",
"Kc_ul=roots(b1);//lower limit for Kc\n",
"mprintf('\n\nThe values of Kc for system to be stable are \n   %f<Kc<%f',Kc_ul,Kc_up);"
   ]
   }
,
{
		   "cell_type": "markdown",
		   "metadata": {},
		   "source": [
			"## Example 10.12: Direct_substitution_to_find_stability.sce"
		   ]
		  },
  {
"cell_type": "code",
	   "execution_count": null,
	   "metadata": {
	    "collapsed": true
	   },
	   "outputs": [],
"source": [
"clear\n",
"clc\n",
"//Example 10.12\n",
"disp('Example 10.12')\n",
"w=poly(0,'w')\n",
"s=%i*w;  //j or iota is i\n",
"G=10*s^3+17*s^2+8*s+1;//Kc has been removed here because in a single expression\n",
"//two polynomials are not allowed\n",
"w=roots(imag(G));\n",
"p=-real(G)//Real part of G\n",
"Kc=horner(p,w)\n",
"mprintf('The values outside which system is unstable \nare %f and %f',Kc(1),Kc(3))"
   ]
   }
,
{
		   "cell_type": "markdown",
		   "metadata": {},
		   "source": [
			"## Example 10.13: Root_Locus.sce"
		   ]
		  },
  {
"cell_type": "code",
	   "execution_count": null,
	   "metadata": {
	    "collapsed": true
	   },
	   "outputs": [],
"source": [
"clear\n",
"clc\n",
"//Example 10.13\n",
"disp('Example 10.13')\n",
"s=%s;\n",
"G=4/((s+1)*(s+2)*(s+3));\n",
"G=syslin('c',G);\n",
"[ki,s_i]=kpure(G);\n",
"evans(G,ki*1.5); // plots for until K = 1.5*ki\n",
"//disp(G,'For G=');disp(ki,'K=')\n",
"disp(ki,'Max value of k for which we have closed loop stability',G,'For G=')\n",
"xtitle('$G(s)=\frac{4}{(s+1)(s+2)(s+3)}$')\n",
"sgrid();"
   ]
   }
,
{
		   "cell_type": "markdown",
		   "metadata": {},
		   "source": [
			"## Example 10.14: Transient_response_from_root_locus.sce"
		   ]
		  },
  {
"cell_type": "code",
	   "execution_count": null,
	   "metadata": {
	    "collapsed": true
	   },
	   "outputs": [],
"source": [
"clear\n",
"clc\n",
"//Example 10.14\n",
"disp('Example 10.14')\n",
"s=%s;\n",
"G=4/((s+1)*(s+2)*(s+3));\n",
"K=10; //given in question\n",
"p=1+K*G;//characteristic equation\n",
"q=roots(numer(p));\n",
"q_abs=abs(q);\n",
"q_real=real(q);\n",
"q_imag=imag(q);\n",
"d=q_abs(2);\n",
"psi=%pi-acos(q_real./q_abs);//angle in radians\n",
"tau=1/d;\n",
"eta=cos(psi)\n",
"mprintf('\nd=%f\npsi=%f degrees\ntau=%f time units\neta=%f',d,psi(2)*180/%pi,tau,eta(2))\n",
"mprintf('\n\nPlease note that the answers given in book are wrong')"
   ]
   }
,
{
		   "cell_type": "markdown",
		   "metadata": {},
		   "source": [
			"## Example 10.2: Set_point_response_of_level_control_system.sce"
		   ]
		  },
  {
"cell_type": "code",
	   "execution_count": null,
	   "metadata": {
	    "collapsed": true
	   },
	   "outputs": [],
"source": [
"clear\n",
"clc\n",
"//Example 10.2\n",
"disp('Example 10.2')\n",
"A=%pi*0.5^2; //Square meters\n",
"R=6.37;\n",
"Kp=R//min/sq.m=R\n",
"tau=R*A;\n",
"Km=100/2; //% per meter\n",
"l=0.5;\n",
"q=0.2*30^(l-1);\n",
"dq_dl=0.2*log(30)*30^(l-1); //cu.meter/min Eqn 10-48\n",
"Kip=(15-3)/100;//psi/%\n",
"dl_dpt=(1-0)/(15-3); //psi^-1\n",
"Kv=dq_dl*dl_dpt //Eqn 10-50\n",
"Kc=[4 8 20]'; //different values of Kc that we have to try\n",
"K_OL=Kc*Kv*Kp*Km*Kip;//Open loop gain Eqn 10-40\n",
"K1=K_OL./(1+K_OL);//Eqn 10-38\n",
"tau1=tau./(1+K_OL); //Eqn 10-39\n",
"//Now we simulate the close loop process for these different values of K1 and tau1\n",
"s=%s;\n",
"G=K1./(tau1*s+1);\n",
"G=syslin('c',G);\n",
"t=[0:0.1:10]'; //time in minutes\n",
"hdash=csim('step',t,G)'; \n",
"plot2d(t,hdash,rect=[0,0,10,1.25])\n",
"xgrid()\n",
"xtitle('Ex-10.2','Time(min)','h(t)');\n",
"a=legend('Kc=4','Kc=8','Kc=20',position=4);\n",
"a.font_size=2;\n",
"a=get('current_axes');b=a.title;b.font_size=5;c=a.x_label;c.font_size=5;\n",
"c=a.y_label;c.font_size=5;"
   ]
   }
,
{
		   "cell_type": "markdown",
		   "metadata": {},
		   "source": [
			"## Example 10.3: Disturbance_response_of_level_control_system.sce"
		   ]
		  },
  {
"cell_type": "code",
	   "execution_count": null,
	   "metadata": {
	    "collapsed": true
	   },
	   "outputs": [],
"source": [
"clear\n",
"clc\n",
"//Example 10.3\n",
"disp('Example 10.3')\n",
"//This example draws upon the calculations of Ex 10.2 and hence it has been \n",
"//reproduced\n",
"A=%pi*0.5^2; //Square meters\n",
"R=6.37;\n",
"Kp=R//min/sq.m=R\n",
"tau=R*A;\n",
"Km=100/2 //% per meter\n",
"l=0.5;\n",
"q=0.2*30^(l-1);\n",
"dq_dl=0.2*log(30)*30^(l-1); //cu.meter/min Eqn 10-48\n",
"Kip=(15-3)/100;//psi/%\n",
"dl_dpt=(1-0)/(15-3); //psi^-1\n",
"Kv=dq_dl*dl_dpt //Eqn 10-50\n",
"Kc=[4 8 20]'; //different values of Kc that we have to try\n",
"K_OL=Kc*Kip*Kv*Kp*Km;//Open loop gain Eqn 10-40\n",
"K1=K_OL./(1+K_OL);//Eqn 10-38\n",
"tau1=tau./(1+K_OL); //Eqn 10-39\n",
"//========Example 11.3 now starts here========//\n",
"//Now we simulate the close loop process for these different values of K2 and tau1\n",
"M=0.05;//Magnitude of step\n",
"K2=Kp./(1+K_OL);\n",
"s=%s;\n",
"G=K2./(tau1*s+1);\n",
"G=syslin('c',G);\n",
"t=[0:0.1:10]'; //time in minutes\n",
"hdash=M*csim('step',t,G)'; \n",
"plot2d(t,hdash,rect=[0,0,10,0.2])\n",
"xgrid()\n",
"xtitle('Ex-10.3','Time(min)','h');\n",
"a=legend('Kc=4','Kc=8','Kc=20',position=4);\n",
"a.font_size=2;\n",
"a=get('current_axes');b=a.title;b.font_size=5;c=a.x_label;c.font_size=5;\n",
"c=a.y_label;c.font_size=5;\n",
"offset=-Kp*M./(1+K_OL);\n",
"mprintf('   Kc    Offset')\n",
"mprintf('\n%f   %f',[Kc offset])\n",
"mprintf('\n\nNote that the book has a mistake in the question and legend of fig 10.19\n...\n",
"the values of Kc should be 4,8,20 and not 1,2,5\n...\n",
"this mistake is there because in the second edition of the book\n...\n",
"Kc has values 1 2 5 but then level transmitter span is 0.5 instead of 2')"
   ]
   }
,
{
		   "cell_type": "markdown",
		   "metadata": {},
		   "source": [
			"## Example 10.4: Stability_of_feedback_control_system.sce"
		   ]
		  },
  {
"cell_type": "code",
	   "execution_count": null,
	   "metadata": {
	    "collapsed": true
	   },
	   "outputs": [],
"source": [
"clear\n",
"clc\n",
"//Example 10.4\n",
"disp('Example 10.4')\n",
"Km=1; //We take set point gain as 1 for illustrative purposes\n",
"Kc=[15 6 2]'; //different values of Kc for which we will simulate\n",
"Gc=Kc;\n",
"s=%s;\n",
"Gv=1/(2*s+1);\n",
"Gd=1/(5*s+1);\n",
"Gp=Gd;\n",
"Gm=1/(s+1);\n",
"G=Km*Gc*Gv*Gp./(1+Km*Gc*Gv*Gp*Gm); //Eqn 10-75 G=Y/Ysp\n",
"//Now we simulate the close loop process for these different values of Kc\n",
"G=syslin('c',G);\n",
"t=[0:0.1:20]'; //time in minutes\n",
"Y=csim('step',t,G)'; \n",
"plot2d(t,Y,rect=[0,-2,20,4])\n",
"plot2d(t,ones(length(t),1),style=5)\n",
"xtitle('Ex-10.4','Time(min)','y(t)');\n",
"a=legend('Kc=15','Kc=6','Kc=2',position=3);\n",
"a.font_size=2;\n",
"a=get('current_axes');b=a.title;b.font_size=5;c=a.x_label;c.font_size=5;\n",
"c=a.y_label;c.font_size=5;"
   ]
   }
],
"metadata": {
		  "kernelspec": {
		   "display_name": "Scilab",
		   "language": "scilab",
		   "name": "scilab"
		  },
		  "language_info": {
		   "file_extension": ".sce",
		   "help_links": [
			{
			 "text": "MetaKernel Magics",
			 "url": "https://github.com/calysto/metakernel/blob/master/metakernel/magics/README.md"
			}
		   ],
		   "mimetype": "text/x-octave",
		   "name": "scilab",
		   "version": "0.7.1"
		  }
		 },
		 "nbformat": 4,
		 "nbformat_minor": 0
}
