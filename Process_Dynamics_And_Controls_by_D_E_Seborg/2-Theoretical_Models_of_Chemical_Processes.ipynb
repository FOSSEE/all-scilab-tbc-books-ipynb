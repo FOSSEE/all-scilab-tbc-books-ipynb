{
"cells": [
 {
		   "cell_type": "markdown",
	   "metadata": {},
	   "source": [
       "# Chapter 2: Theoretical Models of Chemical Processes"
	   ]
	},
{
		   "cell_type": "markdown",
		   "metadata": {},
		   "source": [
			"## Example 2.1: Stirred_tank_blending_process.sce"
		   ]
		  },
  {
"cell_type": "code",
	   "execution_count": null,
	   "metadata": {
	    "collapsed": true
	   },
	   "outputs": [],
"source": [
"clear\n",
"clc\n",
"//Example 2.1\n",
"disp('Example 2.1')\n",
"w1bar=500;\n",
"w2bar=200;\n",
"x1bar=0.4;\n",
"x2bar=0.75;\n",
"wbar=w1bar+w2bar;\n",
"t=0:0.1:25; //Time scale for plotting of graphs\n",
"//(a)\n",
"xbar=(w1bar*x1bar+w2bar*x2bar)/wbar;\n",
"printf('\n (a) The steady state concentration is %f \n',xbar)\n",
"//(b)\n",
"w1bar=400; //flow rate changes, rest remains same\n",
"wbar=w1bar+w2bar;\n",
"tau=3;\n",
"x0=0.5;  \n",
"Cstarb=(w1bar*x1bar+w2bar*x2bar)/wbar;  //C* variable\n",
"printf('\n (b) The value of C* is %f',Cstarb)\n",
"printf('\n x(t)=0.5exp(-t/3)+%f(1-exp(-t/3)) \n',Cstarb);\n",
"xtd=0.5*exp(-t/3)+Cstarb*(1-exp(-t/3));\n",
"xtb=0.5*exp(-t/3)+Cstarb*(1-exp(-t/3)); //x(t) for part (b)\n",
"//(c)\n",
"w1bar=500;w2bar=100; //flow rate changes, rest remains same\n",
"wbar=w1bar+w2bar;\n",
"tau=3;\n",
"x0=0.5;  \n",
"Cstarc=(w1bar*x1bar+w2bar*x2bar)/wbar;  //C* variable\n",
"printf('\n (c) The value of C* is %f',Cstarc)\n",
"printf('\n x(t)=0.5exp(-t/3)+%f(1-exp(-t/3)) \n',Cstarc);\n",
"xtc=0.5*exp(-t/3)+Cstarc*(1-exp(-t/3));\n",
"//(d)\n",
"w1bar=500;w2bar=100;x1bar=0.6;x2bar=0.75; //flow rate changes, rest remains same\n",
"wbar=w1bar+w2bar;\n",
"tau=3;\n",
"x0=0.5;  \n",
"Cstard=(w1bar*x1bar+w2bar*x2bar)/wbar;  //C* variable\n",
"printf('\n (d) The value of C* is %f',Cstard)\n",
"printf('\n x(t)=0.5exp(-t/3)+%f(1-exp(-t/3)) \n',Cstard);\n",
"xtd=0.5*exp(-t/3)+Cstard*(1-exp(-t/3));\n",
"plot2d(t,[xtd',xtb',xtc'])\n",
"xtitle('Parts b through d','Time(min)','$x(t)$');\n",
"a=legend('$(d)$','$(b)$','$(c)$',position=1);\n",
"a.font_size=5;\n",
"a=get('current_axes');b=a.title;b.font_size=5;c=a.x_label;c.font_size=5;\n",
"c=a.y_label;c.font_size=5;\n",
"//(e)\n",
"xNb=(xtb-x0)/(Cstarb-x0); //Normalized response for part b\n",
"xNc=(xtc-x0)/(Cstarc-x0); //Normalized response for part c\n",
"xNd=(xtd-x0)/(Cstard-x0); //Normalized response for part d\n",
"scf() //Creates new window for plotting\n",
"plot2d(t,[xNd',xNb',xNc'],style=[1 1 1])  \n",
"//Style sets the color, -ve values means discrete plotting, +ve means color\n",
"xtitle('Part e','Time(min)','Normalized response');\n",
"a=legend('$(e)$',position=1);\n",
"a.font_size=5;\n",
"a=get('current_axes');b=a.title;b.font_size=5;c=a.x_label;c.font_size=5;\n",
"c=a.y_label;c.font_size=5;"
   ]
   }
,
{
		   "cell_type": "markdown",
		   "metadata": {},
		   "source": [
			"## Example 2.2: Degrees_of_freedom_1.sce"
		   ]
		  },
  {
"cell_type": "code",
	   "execution_count": null,
	   "metadata": {
	    "collapsed": true
	   },
	   "outputs": [],
"source": [
"clear\n",
"clc\n",
"//Example 2.2\n",
"disp('Example 2.2')\n",
"N_V=4;\n",
"N_E=1;\n",
"N_F=N_V-N_E;\n",
"printf('\n Degrees of freedom N_F= %i \n',N_F)"
   ]
   }
,
{
		   "cell_type": "markdown",
		   "metadata": {},
		   "source": [
			"## Example 2.3: Degrees_of_freedom_2.sce"
		   ]
		  },
  {
"cell_type": "code",
	   "execution_count": null,
	   "metadata": {
	    "collapsed": true
	   },
	   "outputs": [],
"source": [
"clear\n",
"clc\n",
"//Example 2.3\n",
"disp('Example 2.3')\n",
"N_V=7;\n",
"N_E=2;\n",
"N_F=N_V-N_E;\n",
"printf('\n Degrees of freedom N_F= %i \n',N_F)"
   ]
   }
,
{
		   "cell_type": "markdown",
		   "metadata": {},
		   "source": [
			"## Example 2.4: Electrically_heated_stirred_tank_process.sce"
		   ]
		  },
  {
"cell_type": "code",
	   "execution_count": null,
	   "metadata": {
	    "collapsed": true
	   },
	   "outputs": [],
"source": [
"clear\n",
"clc\n",
"//Example 2.4\n",
"disp('Example 2.4')\n",
"mprintf('\n Important Note: Errata for book: Values of the parameters \n...\n",
" meCe/heAe and meCe/wC should be 1 min each and not 0.5 min %s \n','')\n",
"Tibar=100;//deg C\n",
"Qbar=5000;//kcal/min\n",
"wc_inv=0.05;// 1/wc degC min/kcal\n",
"//(a)\n",
"Tbar=Tibar+wc_inv*Qbar;\n",
"mprintf('\n (a) Nominal steady state temperature= %i',Tbar)\n",
"mprintf(' degree celsius %s \n','')\n",
"//(b)\n",
"mprintf('\n Eqn 2-29 becomes 10 d2T/dt2 + 12 dT/dt + T = 370  with T(0)=350 %s \n','')\n",
"t=0:0.1:80; //Time values\n",
"Tt_2=350+20*(1-1.089*exp(-t/11.099)+0.084*exp(-t/0.901));//T(t) from order 2 equation\n",
"//(c)\n",
"mprintf('\n Eqn 2-29 becomes 12 dT/dt + T = 370 with T(0)=350 %s \n','')\n",
"Tt_1=350+20*(1-exp(-t/12));//T(t) from order 1 equation\n",
"plot2d(t,[Tt_2',Tt_1'],[2 5],rect=[0 350 80 370])\n",
"xtitle('Ex-2.4','Time(min)','$T(^0C)$');\n",
"a=legend('a Second order','b First order',position=4);\n",
"a.font_size=5;\n",
"a=get('current_axes');b=a.title;b.font_size=5;c=a.x_label;c.font_size=5;\n",
"c=a.y_label;c.font_size=5;"
   ]
   }
,
{
		   "cell_type": "markdown",
		   "metadata": {},
		   "source": [
			"## Example 2.5: Nonlinear_dynamic_behavior_of_CSTR.sce"
		   ]
		  },
  {
"cell_type": "code",
	   "execution_count": null,
	   "metadata": {
	    "collapsed": true
	   },
	   "outputs": [],
"source": [
"clear\n",
"clc\n",
"//Example 2.5\n",
"disp('Example 2.5')\n",
"function ydot=CSTR(t,y,Tc) //y is [Conc Temp]' Tc is coolant temp\n",
"    q=100;ci=1;V=100;rho=1000;C=0.239;deltaHR=5E4;k0=7.2E10;UA=5E4;Er=8750;\n",
"    Ti=350;\n",
"    c=y(1);T=y(2);\n",
"    k=k0*exp(-Er/T);//Er=E/R\n",
"    ydot(1)=1/V*(q*(ci-c)-V*k*c);  //ydot(1) is dc_dt\n",
"    ydot(2)=1/(V*rho*C)*(q*rho*C*(Ti-T)+deltaHR*V*k*c+UA*(Tc-T))//ydot(2) is dT_dt\n",
"endfunction\n",
"c0=0.5;T0=350;\n",
"y0=[c0 T0]';\n",
"t0=0;\n",
"t=0:0.01:10;\n",
"Tc=[290 305];\n",
"y1 = ode(y0,t0,t,list(CSTR,Tc(1)));\n",
"y2 = ode(y0,t0,t,list(CSTR,Tc(2)));\n",
"y3=[0.5 0;0 350]*ones(2,length(t))\n",
"//Temp plot\n",
"subplot(2,1,1);\n",
"plot(t,[y1(2,:)' y3(2,:)' y2(2,:)']);\n",
"xtitle('Fig 2.7','Time(min)','Reactor Temp(K)');\n",
"legend('290 K','300 K','305 K')\n",
"//conc plot\n",
"subplot(2,1,2);\n",
"plot(t,[y1(1,:)' y3(1,:)' y2(1,:)']);\n",
"xtitle('Fig 2.8','Time(min)','Reactor conc(mol/L)');\n",
"legend('290 K','300 K','305 K');"
   ]
   }
],
"metadata": {
		  "kernelspec": {
		   "display_name": "Scilab",
		   "language": "scilab",
		   "name": "scilab"
		  },
		  "language_info": {
		   "file_extension": ".sce",
		   "help_links": [
			{
			 "text": "MetaKernel Magics",
			 "url": "https://github.com/calysto/metakernel/blob/master/metakernel/magics/README.md"
			}
		   ],
		   "mimetype": "text/x-octave",
		   "name": "scilab",
		   "version": "0.7.1"
		  }
		 },
		 "nbformat": 4,
		 "nbformat_minor": 0
}
