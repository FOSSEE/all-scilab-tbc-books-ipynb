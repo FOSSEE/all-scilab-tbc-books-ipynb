{
"cells": [
 {
		   "cell_type": "markdown",
	   "metadata": {},
	   "source": [
       "# Chapter 15: Enhanced Single Loop Control Strategies"
	   ]
	},
{
		   "cell_type": "markdown",
		   "metadata": {},
		   "source": [
			"## Example 15.1: Stability_limits_for_proportional_cascade_controller.sce"
		   ]
		  },
  {
"cell_type": "code",
	   "execution_count": null,
	   "metadata": {
	    "collapsed": true
	   },
	   "outputs": [],
"source": [
"clear\n",
"clc\n",
"//Example 15.1\n",
"disp('Example 15.1')\n",
"s=%s;\n",
"Gp1=4/((4*s+1)*(2*s+1));Gp2=1;Gd2=1;Gd1=1/(3*s+1);\n",
"Gm1=0.05;Gm2=0.2;\n",
"Gv=5/(s+1);\n",
"Kc2=4;\n",
"Ys=Kc2*Gv*Gp1*Gm1/(1+Kc2*Gv*Gm2);\n",
"Routh=routh_t(Ys,poly(0,'Kc1')); // produces routh table for polynomial 1+Kc*Ys\n",
"disp(Routh)\n",
"K1=roots(numer(Routh(3,1)));\n",
"K2=roots(numer(Routh(4,1)));\n",
"mprintf('\n Kc1 lies between %f and %f \n for cascade system to be stable', K2,K1)\n",
"Ys2=Gv*Gp2*Gp1*Gm1;\n",
"Routh2=routh_t(Ys2,poly(0,'Kc1')); // produces routh table for polynomial 1+Kc*Ys\n",
"disp(Routh2)\n",
"K1_2=roots(numer(Routh2(3,1)));\n",
"K2_2=roots(numer(Routh2(4,1)));\n",
"mprintf('\n Kc1 lies between %f and %f \n for conventional system to be stable', K2_2,K1_2)\n",
"//We cannot find offset symbolically in Scilab because scilab does not support\n",
"//handling of two variables in single polynomial\n",
"//To find this limit one can use Sage\n",
"//However in this case the calculations can be done in a very easy way by hand\n",
"//and hence do not require to be computed from Sage"
   ]
   }
,
{
		   "cell_type": "markdown",
		   "metadata": {},
		   "source": [
			"## Example 15.2: Set_point_response_for_second_order_transfer_function.sce"
		   ]
		  },
  {
"cell_type": "code",
	   "execution_count": null,
	   "metadata": {
	    "collapsed": true
	   },
	   "outputs": [],
"source": [
"clear\n",
"clc\n",
"//Example 15.2\n",
"disp('Example 15.2')\n",
"s = %s;\n",
"theta=1 //delay\n",
"delay=(1-theta/2*s+theta^2/12*s^2)/(1+theta/2*s+theta^2/12*s^2);//Second order pade approx\n",
"G=1/((5*s+1)*(3*s+1));\n",
"Gp=[G;delay*G];//Both models with and without delay\n",
"Gc=[3.02*(1+1/(6.5*s));1.23*(1+1/(7*s))];\n",
"G_CL=syslin('c',(Gp.*Gc)./(1+Gp.*Gc))\n",
"t=0:0.01:40;\n",
"yt=csim('step',t,G_CL)\n",
"plot2d(t',yt') //For plotting multiple graphs in one command make sure time is n*1 vector \n",
"//while yt is n*p vector where p are the no. of plots\n",
"xtitle('Example-15.2','Time(min)','$y(t)$');\n",
"xgrid(); \n",
"a=legend('delay=0','delay=1',position=4);\n",
"a.font_size=2;\n",
"a=get('current_axes');b=a.title;b.font_size=5;c=a.x_label;c.font_size=5;\n",
"c=a.y_label;c.font_size=5;"
   ]
   }
],
"metadata": {
		  "kernelspec": {
		   "display_name": "Scilab",
		   "language": "scilab",
		   "name": "scilab"
		  },
		  "language_info": {
		   "file_extension": ".sce",
		   "help_links": [
			{
			 "text": "MetaKernel Magics",
			 "url": "https://github.com/calysto/metakernel/blob/master/metakernel/magics/README.md"
			}
		   ],
		   "mimetype": "text/x-octave",
		   "name": "scilab",
		   "version": "0.7.1"
		  }
		 },
		 "nbformat": 4,
		 "nbformat_minor": 0
}
