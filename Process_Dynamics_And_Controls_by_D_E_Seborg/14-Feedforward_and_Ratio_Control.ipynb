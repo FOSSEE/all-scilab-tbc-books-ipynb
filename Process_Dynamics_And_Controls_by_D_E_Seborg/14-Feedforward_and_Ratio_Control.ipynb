{
"cells": [
 {
		   "cell_type": "markdown",
	   "metadata": {},
	   "source": [
       "# Chapter 14: Feedforward and Ratio Control"
	   ]
	},
{
		   "cell_type": "markdown",
		   "metadata": {},
		   "source": [
			"## Example 14.1: Ratio_control.sce"
		   ]
		  },
  {
"cell_type": "code",
	   "execution_count": null,
	   "metadata": {
	    "collapsed": true
	   },
	   "outputs": [],
"source": [
"clear\n",
"clc\n",
"//Example 14.1\n",
"disp('Example 14.1')\n",
"Sd=30;\n",
"Su=15;\n",
"Rd=1/3;\n",
"K_R=Rd*Sd/Su;  //Eqn 14-3\n",
"mprintf('   K_R=%f',K_R)"
   ]
   }
,
{
		   "cell_type": "markdown",
		   "metadata": {},
		   "source": [
			"## Example 14.5: Feedforward_control_in_blending_process.sce"
		   ]
		  },
  {
"cell_type": "code",
	   "execution_count": null,
	   "metadata": {
	    "collapsed": true
	   },
	   "outputs": [],
"source": [
"clear\n",
"clc\n",
"//Example 14.5\n",
"disp('Example 14.5')\n",
"mprintf('\n\nThere are many errors in this example\n...\n",
"1.In Eqn 14-17 the value of w2_o is not zero. It is 50kg/min.\n...\n",
"This is so because otherwise current signal from p(t) ie ...\n",
"\n eqn 14-30 is more than 20mA which is not possible\n\n....\n",
"2.The step change in x1 is from 0.2 to 0.3 and not 0.2 to 0.4\n...\n",
"If there is a step change to x1=0.4, then with x2=0.6\n...\n",
"one cannot achieve output xsp=0.34 because it is less\n...\n",
"both x1 and x2.\n\n...\n",
"3.The gain of Gd is 0.65 which is correct because V\n...\n",
"has to be calculated using height=1.5meter ie\n...\n",
"how much the CSTR is filled and not h=3m, ie\n...\n",
"the capacity of CSTR. This is important because\n...\n",
"the person who has made solutions for the book has taken h=3m\n...\n",
"for generating graphs and hence the gain is twice. \n...\n",
"the graphs generated from this code are correct\n\n' )\n",
"//part(a) //========Static feedforward controller==========//\n",
"K_IP=(15-3)/(20-4);\n",
"Kv=300/12;tauV=0.0833;\n",
"Kt=(20-4)/0.5;\n",
"w2_o=50;x1_o=0;//Zero of the instrument\n",
"w1bar=650;w2bar=350;//kg/min\n",
"C1=4-w2_o/Kv/K_IP; //Eqn 14-16 to 14-19\n",
"C2=w1bar/(Kv*K_IP*Kt);\n",
"C3=4+Kt*x1_o;\n",
"x1bar=0.2;x2bar=0.6;xbar=0.34;\n",
"mprintf('\nThe values of C1, C2, C3 in Eqns 14-16 to 14-19 are\n  %f,       %f,        %f',C1,C2,C3)\n",
"//part(b) //=======Dynamic feedforward controller=======//\n",
"s=%s;\n",
"theta=1;\n",
"V=%pi*1^2*1.5; //pi*r^2*h finding volume\n",
"rho=1000;//kg/m3\n",
"wbar=w1bar+w2bar;\n",
"tauD=V*rho/w2bar;tauP=V*rho/wbar;\n",
"Kp=(x2bar-xbar)/wbar;\n",
"Kd=w1bar/wbar;\n",
"Gv=Kv/(tauV*s+1);\n",
"Gd=Kd/(tauP*s+1);\n",
"Gt=Kt;delay=1;\n",
"Gp=Kp/(tauP*s+1);\n",
"Gf=-Gd/Gv/Gt/Gp/K_IP; //Equation 14-33 without exp(+s)\n",
"//Gt=32*(1-theta/2*s+theta^2/12*s^2)/(1+theta/2*s+theta^2/12*s^2);//second order Pade approx.\n",
"Gt=32*(1-theta/2*s)/(1+theta/2*s);//first order Pade approx.\n",
"alpha=0.1;\n",
"Gf=horner(Gf,0)*(1.0833*s+1)/(alpha*1.0833*s+1);//Eqn 14-34\n",
"disp(Gf,'Gf=')\n",
"//========Static feedforward controller simulation==========//\n",
"Ts=0.01;//sampling time in minutes\n",
"t=Ts:Ts:50;\n",
"xsp=0.34;//set point for conc. output of blender\n",
"x1step=0.2+[zeros(1,length(t)/5) 0.1*ones(1,length(t)*4/5)];//disturbance\n",
"//There is a one second lag in the measurement of the disturbance by Gt\n",
"delay=1;\n",
"d=[0.2*ones(1,delay/Ts) x1step(1,1:$-delay/Ts)];//measurement of disturbance with lag\n",
"x1m=4+Kt*d; //Eqn 14-12 where d=x1(t)-x1_o\n",
"//plot(t,[x1step' x1m'])\n",
"pt=C1+C2*(Kt*xsp-x1m+C3)/(x2bar-xsp);\n",
"//Now the values calculated by the above controller needs to be passed to the process \n",
"G_static=syslin('c',[Gd K_IP*Gv*Gp]);\n",
"//we take disturbance and control action in deviation variables\n",
"yt=0.34+csim([x1step-x1step(1,1);pt-pt(1,1)],t,G_static);\n",
"subplot(2,1,1)\n",
"plot(t,yt);\n",
"xtitle('Fig 14.13(a)','Time(min)','x(mass fraction)')\n",
"xgrid();\n",
"//========Dynamic feedforward controller simulation======//\n",
"Ys_Ds=[Gd K_IP*32*Gf*Gv*Gp]; //Gt=32 without delay\n",
"Ys_Ds=syslin('c',Ys_Ds);\n",
"t=0.01:0.01:50;\n",
"d=[zeros(1,length(t)/5) 0.1*ones(1,length(t)*4/5)];//disturbance\n",
"d_shift=[zeros(1,1.1*length(t)/5) 0.1*ones(1,length(t)*3.9/5)];\n",
"//we delay the disturbance by one minute for the feedforward controller\n",
"//We do this because Pade approx is not good for delay of 1 minute\n",
"yt=0.34+csim([d;d_shift],t,Ys_Ds)\n",
"plot(t,yt,color='red')\n",
"legend('Static Gain','Dynamic Compensation')\n",
"//part(c)   //=======PI controller for Feedback======//\n",
"Kcu=48.7;Pu=4;//min\n",
"Kc=0.45*Kcu;tauI=Pu/1.2;tauD=0;\n",
"Gc=Kc*(1+1/(tauI*s)+tauD*s/(1+tauD*s*0.1));\n",
"Gm=Gt;//sensor/transmitter\n",
"//==========Feedforward and feedback control with dynamic compensation======//\n",
"Ys_Ds=[Gd K_IP*32*Gf*Gv*Gp]/(1+K_IP*Gc*Gv*Gp*Gm);//32 is magnitude of Gt\n",
"Ys_Ds=syslin('c',Ys_Ds);\n",
"t=0.01:0.01:50;\n",
"d=[zeros(1,length(t)/5) 0.1*ones(1,length(t)*4/5)];//disturbance\n",
"yt=0.34+csim([d;d_shift],t,Ys_Ds)\n",
"//This shifting is better because Pade approx is not accurate. Note that there is \n",
"//pade approx in the denominator also(Gm) which we cant help.\n",
"subplot(2,1,2)\n",
"plot(t,yt)\n",
"xgrid();\n",
"xtitle('Fig 14.13(b)','Time(min)','x(mass fraction)')\n",
"//==========Feedback control only with dynamic compensation======//\n",
"Ys_Ds=(Gd)/(1+K_IP*Gc*Gv*Gp*Gm);\n",
"Ys_Ds=syslin('c',Ys_Ds);\n",
"d=[zeros(1,length(t)/5) 0.1*ones(1,length(t)*4/5)];//disturbance\n",
"yt=0.34+csim(d,t,Ys_Ds)\n",
"plot(t,yt,color='red')\n",
"legend('FB+FF with dynamic compensation','FB only')\n",
"mprintf('\n\nNote the slight mismatch between response \n...\n",
"times due to pade approx the gain is half of that in the\n...\n",
"book. Please see the heigh explanation above to understand.')"
   ]
   }
],
"metadata": {
		  "kernelspec": {
		   "display_name": "Scilab",
		   "language": "scilab",
		   "name": "scilab"
		  },
		  "language_info": {
		   "file_extension": ".sce",
		   "help_links": [
			{
			 "text": "MetaKernel Magics",
			 "url": "https://github.com/calysto/metakernel/blob/master/metakernel/magics/README.md"
			}
		   ],
		   "mimetype": "text/x-octave",
		   "name": "scilab",
		   "version": "0.7.1"
		  }
		 },
		 "nbformat": 4,
		 "nbformat_minor": 0
}
