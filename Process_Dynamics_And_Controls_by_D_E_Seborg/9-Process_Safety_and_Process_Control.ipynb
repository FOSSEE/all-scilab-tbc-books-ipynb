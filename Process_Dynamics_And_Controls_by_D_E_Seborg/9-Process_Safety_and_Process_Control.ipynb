{
"cells": [
 {
		   "cell_type": "markdown",
	   "metadata": {},
	   "source": [
       "# Chapter 9: Process Safety and Process Control"
	   ]
	},
{
		   "cell_type": "markdown",
		   "metadata": {},
		   "source": [
			"## Example 9.1: Liquid_surge_system.sce"
		   ]
		  },
  {
"cell_type": "code",
	   "execution_count": null,
	   "metadata": {
	    "collapsed": true
	   },
	   "outputs": [],
"source": [
"clear\n",
"clc\n",
"//Example 9.1\n",
"disp('Example 9.1')\n",
"q1=12;//cub ft/min\n",
"q2=6;\n",
"q3=13;\n",
"A=%pi*3^2;//ft^2\n",
"delta_t=10;//min\n",
"delta_h_max=delta_t*(q1+q2-q3)/A;\n",
"mprintf('Alarm should be at least %f ft below top of tank',delta_h_max)"
   ]
   }
,
{
		   "cell_type": "markdown",
		   "metadata": {},
		   "source": [
			"## Example 9.2: Abnormal_event_in_distillation_column.sce"
		   ]
		  },
  {
"cell_type": "code",
	   "execution_count": null,
	   "metadata": {
	    "collapsed": true
	   },
	   "outputs": [],
"source": [
"clear\n",
"clc\n",
"//Example 9.2\n",
"disp('Example 9.2')\n",
"mu=[0.5 0.8 0.2]; //population means of z y x\n",
"S=[0.01 0.020 0.005];//population std dev of z y x\n",
"z=[0.485]; //steady state values\n",
"y=[0.825];\n",
"x=0.205;\n",
"F=4;D=2;B=2; //flow rates\n",
"Ec=F*z-D*y-B*x;\n",
"disp(Ec,'Ec=')\n",
"sigma_Ec=sqrt(F^2*S(1)^2+D^2*S(2)^2+B^2*S(3)^2)\n",
"disp(sigma_Ec,'sigma_Ec')\n",
"Z=(Ec-0)/sigma_Ec;\n",
"disp(Z,'Z=');\n",
"[P,Q]=cdfnor('PQ',0.120,0,sigma_Ec);\n",
"//Since P is close to 1, we use Q\n",
"Probability=1-2*Q;\n",
"disp(Probability,'Probability of abnormal event=')"
   ]
   }
,
{
		   "cell_type": "markdown",
		   "metadata": {},
		   "source": [
			"## Example 9.3: Reliability_of_flow_control_loop.sce"
		   ]
		  },
  {
"cell_type": "code",
	   "execution_count": null,
	   "metadata": {
	    "collapsed": true
	   },
	   "outputs": [],
"source": [
"clear\n",
"clc\n",
"//Example 9.3\n",
"disp('Example 9.3')\n",
"mu=[1.73 0.05 0.49 0.60 0.44]';//failures/yr\n",
"R=exp(-mu);\n",
"P=1-R;\n",
"R_overall=prod(R);\n",
"P_overall=1-R_overall;\n",
"mu_overall=-log(R_overall);\n",
"MTBF=1/mu_overall;\n",
"mprintf('MTBF= %f yr',MTBF)"
   ]
   }
],
"metadata": {
		  "kernelspec": {
		   "display_name": "Scilab",
		   "language": "scilab",
		   "name": "scilab"
		  },
		  "language_info": {
		   "file_extension": ".sce",
		   "help_links": [
			{
			 "text": "MetaKernel Magics",
			 "url": "https://github.com/calysto/metakernel/blob/master/metakernel/magics/README.md"
			}
		   ],
		   "mimetype": "text/x-octave",
		   "name": "scilab",
		   "version": "0.7.1"
		  }
		 },
		 "nbformat": 4,
		 "nbformat_minor": 0
}
