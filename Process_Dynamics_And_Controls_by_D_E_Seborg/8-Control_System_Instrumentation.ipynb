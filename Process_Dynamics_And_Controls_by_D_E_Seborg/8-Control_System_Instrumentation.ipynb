{
"cells": [
 {
		   "cell_type": "markdown",
	   "metadata": {},
	   "source": [
       "# Chapter 8: Control System Instrumentation"
	   ]
	},
{
		   "cell_type": "markdown",
		   "metadata": {},
		   "source": [
			"## Example 8.2: Pump_and_heat_exchanger_system.sce"
		   ]
		  },
  {
"cell_type": "code",
	   "execution_count": null,
	   "metadata": {
	    "collapsed": true
	   },
	   "outputs": [],
"source": [
"clear\n",
"clc\n",
"//Example 8.2\n",
"disp('Example 8.2')\n",
"//Eqn 8-6\n",
"//Pump characteristics\n",
"q=0:0.1:240;\n",
"Phe=30*(q/200).^2;\n",
"plot2d(q,Phe,rect=[0,0,240,40]);\n",
"xgrid()\n",
"xtitle('Fig 8.13 Pump characteristics','q,gal/min','P,psi')\n",
"scf();\n",
"q=200;//Flow rate in gal/min\n",
"Phe=30*(q/200).^2;\n",
"Pv=40-Phe; //Eqn 8-8\n",
"//(a)\n",
"l=0.5;Pv=10;\n",
"Cv=q/l/sqrt(Pv); \n",
"mprintf('(a) The value of coefficient Cv is %f',Cv)\n",
"//plotting valve characteristic curve\n",
"l=[0:0.01:0.8]';\n",
"n=length(l);\n",
"Cv=125;\n",
"function y=valve_1(q)\n",
"    Pv=40-30*(q/200).^2;\n",
"y=Cv*l.*sqrt(Pv)-q;\n",
"endfunction\n",
"[q_valve1,f1]=fsolve(200*ones(n,1),valve_1); //200*ones(n,1) is the initial guess for q\n",
"plot2d(l,q_valve1);\n",
"//(b)\n",
"q=200*110/100; //110% flow rate\n",
"Phe=30*(q/200).^2;\n",
"Pv=40-Phe; //Eqn 8-8\n",
"l=1;\n",
"Cv=q/sqrt(Pv)/l;\n",
"mprintf('\n(b) The value of coefficient Cv is %f',Cv)\n",
"//We use Cv=115;\n",
"Cv=115;\n",
"l=[0.2:0.01:0.9]';\n",
"n=length(l);\n",
"R=50;\n",
"function y=valve_2(q)\n",
"    Pv=40-30*(q/200).^2;\n",
"    y=[R^(l-1)]*Cv.*sqrt(Pv)-q;\n",
"endfunction\n",
"[q_valve2,f2]=fsolve(150*ones(n,1),valve_2);\n",
"plot2d(l,q_valve2,style=2)\n",
"//(c)\n",
"Cv=1.2*115;\n",
"mprintf('\n(c) The value of coefficient Cv is %f',Cv)\n",
"l=[0.2:0.01:0.9]';\n",
"n=length(l);\n",
"R=50;\n",
"function y=valve_3(q)\n",
"    Pv=40-30*(q/200).^2;\n",
"    y=[R^(l-1)]*Cv.*sqrt(Pv)-q;\n",
"endfunction\n",
"[q_valve3,f3]=fsolve(linspace(60,200,n)',valve_3); //Initial guess has to be smart for each valve, \n",
"//since we want near linear profile we can give a linear initial guess\n",
"plot2d(l,q_valve3,style=3)\n",
"//(d)\n",
"Cv=0.8*115;\n",
"mprintf('\n(c) The value of coefficient Cv is %f',Cv)\n",
"l=[0.2:0.01:0.9]';\n",
"n=length(l);\n",
"R=50;\n",
"function y=valve_4(q)\n",
"    Pv=40-30*(q/200).^2;\n",
"    y=[R^(l-1)]*Cv.*sqrt(Pv)-q;\n",
"endfunction\n",
"[q_valve4,f4]=fsolve(linspace(60,200,n)',valve_4); //Initial guess has to be smart for each valve, \n",
"//since we want near linear profile we can give a linear initial guess\n",
"plot2d(l,q_valve4,style=4,rect=[0,0,1,240])\n",
"xtitle('Ex-8.2 Installed valve characteristics','$l$','q gal/min');\n",
"a=legend('Valve 1, linear Cv=125','Valve 2, Equal% Cv=115','Valve 3, Equal% Cv=138','Valve 4, Equal% Cv=92',position=4);\n",
"a.font_size=2;\n",
"a=get('current_axes');b=a.title;b.font_size=3;c=a.x_label;c.font_size=5;\n",
"c=a.y_label;c.font_size=5;"
   ]
   }
],
"metadata": {
		  "kernelspec": {
		   "display_name": "Scilab",
		   "language": "scilab",
		   "name": "scilab"
		  },
		  "language_info": {
		   "file_extension": ".sce",
		   "help_links": [
			{
			 "text": "MetaKernel Magics",
			 "url": "https://github.com/calysto/metakernel/blob/master/metakernel/magics/README.md"
			}
		   ],
		   "mimetype": "text/x-octave",
		   "name": "scilab",
		   "version": "0.7.1"
		  }
		 },
		 "nbformat": 4,
		 "nbformat_minor": 0
}
