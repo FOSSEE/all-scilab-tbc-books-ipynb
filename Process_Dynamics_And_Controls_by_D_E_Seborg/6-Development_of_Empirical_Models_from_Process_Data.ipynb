{
"cells": [
 {
		   "cell_type": "markdown",
	   "metadata": {},
	   "source": [
       "# Chapter 6: Development of Empirical Models from Process Data"
	   ]
	},
{
		   "cell_type": "markdown",
		   "metadata": {},
		   "source": [
			"## Example 6.1: Gas_turbine_generator.sce"
		   ]
		  },
  {
"cell_type": "code",
	   "execution_count": null,
	   "metadata": {
	    "collapsed": true
	   },
	   "outputs": [],
"source": [
"clear\n",
"clc\n",
"//Example 6.1\n",
"disp('Example 6.1')\n",
"//Fuel flow rate appended with ones for intercept in regression\n",
"fuel=[1 2.3 2.9 4 4.9 5.8 6.5 7.7 8.4 9]; \n",
"X=[ones(1,10);fuel]'; \n",
"Y=[2 4.4 5.4 7.5 9.1 10.8 12.3 14.3 15.8 16.8]'; //Power generated\n",
"Bhat=inv(X'*X)*X'*Y;\n",
"mprintf('\n Linear model \n B1_hat=%f \n B2_hat=%f',Bhat')\n",
"//For better accuracy we can fit higher order model\n",
"X_new=[ones(1,10);fuel;fuel.^2]';\n",
"Bhat_new=inv(X_new'*X_new)*X_new'*Y;\n",
"mprintf('\n \n Quadratic model \n B1_hat=%f \n B2_hat=%f \n B3_hat=%f',Bhat_new')\n",
"Output_table=[fuel' Y X*Bhat X_new*Bhat_new];\n",
"//mprintf('\n Fuel      Power Generated      Linear Model    Quadratic Model %f %f',Output_table(:,1),Output_table(:,2))\n",
"//disp(Output_table)\n",
"//Table 6.1\n",
"mprintf('\n \n Table 6.1  %s','')\n",
"mprintf('\n       ui        yi        Linear Model      Quadratic Model  %s','')\n",
"mprintf('\n    %f   %f    %f    %15f',Output_table)\n",
"//Error calculations ----(This is not given in book-requires understanding of statistics)\n",
"Yhat=X*Bhat; //Predicted Y from regression variables\n",
"S_lin=(Y-Yhat)'*(Y-Yhat); //Sum of errors in Y for linear model --eqn 6.9\n",
"S_quad=(Y-X_new*Bhat_new)'*(Y-X_new*Bhat_new); //Errors in Y for quadratic model\n",
"mprintf('\n    %25s%f    %10s%f','S=',S_lin,'S=',S_quad)\n",
"n=length(fuel);\n",
"sigma=S_lin/(n-1)*(inv(X'*X));\n",
"bounds=(sigma.^0.5)/sqrt(n)*2.262;\n",
"mprintf('\n The errors in Bhats are not calculated because the procedure is not...\n",
"\n given in the solution of the example')"
   ]
   }
,
{
		   "cell_type": "markdown",
		   "metadata": {},
		   "source": [
			"## Example 6.2: Continuous_stirred_tank_reactor.sce"
		   ]
		  },
  {
"cell_type": "code",
	   "execution_count": null,
	   "metadata": {
	    "collapsed": true
	   },
	   "outputs": [],
"source": [
"clear\n",
"clc\n",
"//Example 6.2\n",
"disp('Example 6.2')\n",
"deltaw=5;//kg/min\n",
"deltaT=20;//deg C\n",
"K=deltaT/deltaw\n",
"tau=5//min\n",
"T=140+0.632*20;//152.6 deg C\n",
"s=%s;\n",
"G=4/(5*s+1); //G=T'(s)/W'(s)\n",
"mprintf('\n T(s)/W(s)=%s','')\n",
"disp(G)\n",
"t=0:0.01:25;\n",
"n=length(t);\n",
"w=5*ones(1,n);\n",
"yt=csim(w,t,G)+140;\n",
"wt=w+120;\n",
"subplot(2,1,2);\n",
"plot2d(t,yt,rect=[0,130,25,160]);\n",
"xtitle('','Time(min)','$T(^0C)$')\n",
"xgrid();\n",
"subplot(2,1,1);\n",
"plot2d(t,wt,rect=[0,120,25,126],style=2)\n",
"xtitle('Fig 6.4','Time(min)','$w\ (kg/min)$')\n",
"xgrid();"
   ]
   }
,
{
		   "cell_type": "markdown",
		   "metadata": {},
		   "source": [
			"## Example 6.3: Off_gas_C02_concentration_response.sce"
		   ]
		  },
  {
"cell_type": "code",
	   "execution_count": null,
	   "metadata": {
	    "collapsed": true
	   },
	   "outputs": [],
"source": [
"clear\n",
"clc\n",
"//Example 6.3\n",
"disp('Example 6.3')\n",
"//Smith's method\n",
"t20=1.85;//min\n",
"t60=5;//min\n",
"ratio=t20/t60;\n",
"zeta=1.3;//Zeta obtained from Fig 6.7 page 109\n",
"tau=t60/2.8//Value 2.8 obtained from Fig 6.7\n",
"tau1=tau*zeta+tau*sqrt(zeta^2-1);\n",
"tau2=tau*zeta-tau*sqrt(zeta^2-1);\n",
"mprintf('From Smiths method \n  tau1=%f min\n  tau2=%f min \n',[tau1 tau2])\n",
"//Nonlinear regression\n",
"//This method cannot be directly used here because we do not have the data with us\n",
"//Had the data been given in tabular form we could have performed a regression\n",
"//Converting graphical data(Fig 7.8) printed in textbook to tabular form is not practical\n",
"//Towards the end of the program however a roundabout way has been implemented so\n",
"//that the user can learn the technique of non-linear optimization\n",
"s=%s;\n",
"G2=1/((tau1*s+1)*(tau2*s+1)) //Smith's method\n",
"G3=1/(4.60*s+1)//First order with time delay: Note that we cannot have exp(-0.7s) without symbolic toolbox so we use a roundaround trick for this\n",
"//Also note that we could have used Pade's approximation but that works well only for very small time delays\n",
"G1=1/((3.34*s+1)*(1.86*s+1)); //Nonlinear regression\n",
"Glist=syslin('c',[G1 G2 G3]') //Simply collating them together for further simulation\n",
"G=syslin('c',Glist);\n",
"t=0:0.1:20;\n",
"y=csim('step',t,G); \n",
"y(3,:)=[zeros(1,8) y(3,1:$-8)] //This is the roundabout trick to introduce time lag by manually\n",
"//shifting the respone by 0.7 min\n",
"plot(t,y)\n",
"xtitle('Ex-6.3(Fig 6.9)','Time(min)','y(t)/KM');\n",
"a=legend('Nonlinear regression','Smiths method','FOPTD',position=4);\n",
"a.font_size=2;\n",
"a=get('current_axes');b=a.title;b.font_size=5;c=a.x_label;c.font_size=5;\n",
"c=a.y_label;c.font_size=5;\n",
"//====NON-LINEAR REGRESSION====//\n",
"//Now that we have the response data and also taking the word from the book that\n",
"//simulation from Excel/Matlab is identical to experimental data, we can actually \n",
"//take this simulation and use it for showing regression\n",
"//So our experimental data is y(1)\n",
"//For nonlinear regression we define a cost function which we have to minimize\n",
"function err=experiment(tau)\n",
"    s=%s;\n",
"    G=syslin('c',1/((tau(1)*s+1)*(tau(2)*s+1)));\n",
"    t=0:0.1:20;\n",
"    response=csim('step',t,G);\n",
"    err=sum((response-y(1,:)).^2);\n",
"endfunction\n",
"//f is value of cost function, g is gradient of cost function, \n",
"//ind is just a dummy variable required by optim function\n",
"function [f,g,ind]=cost(tau,ind)  \n",
"    f=experiment(tau)\n",
"    g=numdiff(experiment,tau)\n",
"endfunction\n",
"x0=[3 1]'; //Initial guess for optimization routine\n",
"[cost_opt, tau_opt]=optim(cost,x0)\n",
"mprintf('\n Optimization using optim function done successfully \n')\n",
"mprintf('\n From nonlinear regression \n  tau1=%f min\n  tau2=%f min \n',[tau_opt]')\n",
"//Formatted output...\n",
"mprintf('\n                     tau1(min) tau2(min) Sum of squares')\n",
"mprintf('\n       Smith         %f  %f  %f',3.81,0.84,0.0769)\n",
"mprintf('\n First Order\n(delay=0.7min)       %f     %s     %f',4.60,'--',0.0323)\n",
"mprintf('\n Excel and Matlab    %f  %f  %f \n',3.34,1.86,0.0057)"
   ]
   }
,
{
		   "cell_type": "markdown",
		   "metadata": {},
		   "source": [
			"## Example 6.5: Estimation_of_model_parameters.sce"
		   ]
		  },
  {
"cell_type": "code",
	   "execution_count": null,
	   "metadata": {
	    "collapsed": true
	   },
	   "outputs": [],
"source": [
"clear\n",
"clc\n",
"//Example 6.5\n",
"disp('Example 6.5')\n",
"k=0:10';\n",
"yk=[0 0.058 0.217 0.360 0.488 0.600 0.692 0.772 0.833 0.888 0.925]';\n",
"Y=yk(2:$);\n",
"n=length(Y);\n",
"yk_1=[yk(1:$-1)];\n",
"yk_2=[0;yk(1:$-2)];\n",
"uk_1=ones(n,1);\n",
"uk_2=[0;uk_1(1:$-1)];\n",
"X=[yk_1 yk_2 uk_1 uk_2];\n",
"Bhat=inv(X'*X)*X'*Y;//Equation 6-10\n",
"//a1, a2, b1, b2 are components of Bhat for linear regression\n",
"K_lin=(Bhat(3)+Bhat(4))/(1-Bhat(1)-Bhat(2)); //Equation 6-42\n",
"//====NON-LINEAR REGRESSION====//\n",
"//Now that we have the response data we can do non-linear regression through\n",
"//the transfer function approach. Total no. of variables to be regressed are\n",
"//three: K, tau1, tau2.\n",
"//For nonlinear regression we define a cost function which we have to minimize\n",
"function err=experiment(tau)\n",
"    K=tau(3);tau1=tau(1);tau2=tau(2);\n",
"    t=k';\n",
"    response=tau(3)*(1-(tau1*exp(-t/tau1)-tau2*exp(-t/tau2))/(tau1-tau2))\n",
"    err=sum((response-[yk]).^2);\n",
"endfunction\n",
"//f is value of cost function, g is gradient of cost function, \n",
"//ind is just a dummy variable required by optim function\n",
"function [f,g,ind]=cost(tau,ind)  \n",
"    f=experiment(tau)\n",
"    g=numdiff(experiment,tau)\n",
"endfunction\n",
"x0=[1 3 1]'; //Initial guess for optimization routine\n",
"[cost_opt, tau_opt]=optim(cost,x0)\n",
"mprintf('\n Optimization using optim function done successfully \n')\n",
"mprintf('\n From nonlinear regression \n  tau1=%f \n tau2=%f min\n  K=%f min \n',[tau_opt]')\n",
"//Now we have to get discrete ARX model parameters from transfer function parameters \n",
"//For this we use Equation nos.: 6-32 to 6-36\n",
"deltat=1;taua=0;tau1=tau_opt(1);tau2=tau_opt(2);K=tau_opt(3);\n",
"a1=exp(-deltat/tau1)+exp(-deltat/tau2);\n",
"a2=-exp(-deltat/tau1)*exp(-deltat/tau2);\n",
"b1=K*(1+(taua-tau1)/(tau1-tau2)*exp(-deltat/tau1)-(taua-tau2)/(tau1-tau2)*exp(-deltat/tau2));\n",
"b2=K*(exp(-deltat*(1/tau1+1/tau2))+(taua-tau1)/(tau1-tau2)*exp(-deltat/tau2)-(taua-tau2)/(tau1-tau2)*exp(-deltat/tau1));\n",
"mprintf('\n         Linear Regression           Non-Linear Regression')\n",
"mprintf('\n     %s      %f          %20f',['a1';'a2';'b1';'b2';'K'],[[Bhat;K_lin] [a1;a2;b1;b2;K]])\n",
"yL_hat=X*Bhat;\n",
"yN_hat=X*[a1;a2;b1;b2];\n",
"mprintf('\n \n    n            y           yL_hat         yN_hat')\n",
"mprintf('\n     %f    %f    %f      %f',[1:10]',yk(2:$),yL_hat,yN_hat)\n",
"mprintf('\n \n Note that values of coefficients for non-linear regression \n are different...\n",
"from that of linear regression, but the\n output is the same \n...\n",
"hence this shows that the coefficients need not be unique....\n",
"\n the coefficients for nonlinear regression given in book and from this scilab code\n...\n",
" both are correct')"
   ]
   }
,
{
		   "cell_type": "markdown",
		   "metadata": {},
		   "source": [
			"## Example 6.6: Step_test_of_distillation_column.sce"
		   ]
		  },
  {
"cell_type": "code",
	   "execution_count": null,
	   "metadata": {
	    "collapsed": true
	   },
	   "outputs": [],
"source": [
"clear\n",
"clc\n",
"//Example 6.6\n",
"disp('Example 6.6')\n",
"mprintf('\n  It is not possible to fit Model 1 or \n  plot it because experimental data...\n",
"  has not been given in the book. \n  Hence we simply plot Model 2,3,4 \n')\n",
"  \n",
"//Model 2\n",
"a=[3.317 -4.033 2.108 0.392 ]'\n",
"b=[-0.00922 0.0322 -0.0370 0.0141]';\n",
"uk=[ones(120,1)];   //Inputs-step at t=1 min\n",
"yk=zeros(120,1);    //Outputs initialization\n",
"for k=5:120\n",
"    yk(k)=a(1)*yk(k-1)+a(2)*yk(k-2)+a(3)*yk(k-3)+a(4)*yk(k-4)...\n",
"            +b(1)*uk(k-1)+b(2)*uk(k-2)+b(3)*uk(k-3)+b(4)*uk(k-4);\n",
"end\n",
"//Model 2 trial with transfer function\n",
"//a=-flipdim([-1 3.317 -4.033 2.108 0.392 ]',1);\n",
"//b=flipdim([-0.00922 0.0322 -0.0370 0.0141]',1);\n",
"//\n",
"//Gz=poly(b,'z','coeff')/poly(a,'z','coeff');\n",
"//u=ones(120,1);\n",
"//Gz=syslin('d',Gz);\n",
"//yk=flts(u',Gz)\n",
"//Although the code is correct, the values given in the book for the coeffs\n",
"//of the ARX model are wrong and hence the system diverges(blows up)\n",
"mprintf('Although the code is correct, the values \n given in the book for the coeffs of model 2...\n",
"\n of the ARX model are wrong and hence the system diverges(blows up)')\n",
"//Model 3\n",
"s=%s;\n",
"G3=0.082/(7.95*s+1);//We have to add delay of 44.8 min\n",
"//Model 4\n",
"G4=0.088*(1-12.2*s)/(109.2*s^2+23.1*s+1);//We have to add delay of 25.7 min\n",
"G=syslin('c',[G3;G4]);\n",
"t=[0:0.1:120]';\n",
"y=csim('step',t,G);\n",
"y(1,:)=[zeros(1,448) y(1,1:$-448)]\n",
"y(2,:)=[zeros(1,257) y(2,1:$-257)]\n",
"plot2d(t,y')\n",
"xtitle('Ex-6.6','Time(min)','y(t)');\n",
"a=legend('Model-3','Model-4',position=4);\n",
"a.font_size=2;\n",
"a=get('current_axes');b=a.title;b.font_size=5;c=a.x_label;c.font_size=5;\n",
"c=a.y_label;c.font_size=5;"
   ]
   }
],
"metadata": {
		  "kernelspec": {
		   "display_name": "Scilab",
		   "language": "scilab",
		   "name": "scilab"
		  },
		  "language_info": {
		   "file_extension": ".sce",
		   "help_links": [
			{
			 "text": "MetaKernel Magics",
			 "url": "https://github.com/calysto/metakernel/blob/master/metakernel/magics/README.md"
			}
		   ],
		   "mimetype": "text/x-octave",
		   "name": "scilab",
		   "version": "0.7.1"
		  }
		 },
		 "nbformat": 4,
		 "nbformat_minor": 0
}
