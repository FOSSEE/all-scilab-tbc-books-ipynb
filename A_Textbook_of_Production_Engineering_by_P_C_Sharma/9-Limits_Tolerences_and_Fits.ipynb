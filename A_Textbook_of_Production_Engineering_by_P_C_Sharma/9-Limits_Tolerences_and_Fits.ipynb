{
"cells": [
 {
		   "cell_type": "markdown",
	   "metadata": {},
	   "source": [
       "# Chapter 9: Limits Tolerences and Fits"
	   ]
	},
{
		   "cell_type": "markdown",
		   "metadata": {},
		   "source": [
			"## Example 9.10: Determine_size_of_hole_and_shaft.sce"
		   ]
		  },
  {
"cell_type": "code",
	   "execution_count": null,
	   "metadata": {
	    "collapsed": true
	   },
	   "outputs": [],
"source": [
"clc\n",
"aa = 0.04 // average allowance in mm\n",
"a = 0.012 // allowance in mm\n",
"Max = aa+a // maximum allowance in mm\n",
"Min = aa-a // minimum allowance in mm\n",
"t = (Max-Min)/3 // tolerence in mm\n",
"ts = t // tolerence in shat in mm\n",
"th = 2*t // tolerence in hole in mm\n",
"b = 100 // basic size in mm\n",
"Hl = b // lower limit of hole in mm\n",
"Hu = b+th // upper limit of hole in mm\n",
"Su = b-0.028 // upper limit of shaft in mm\n",
"Sl = Su-ts // lower limit of shaft in mm\n",
"printf('\n lower limit of hole = %d mm\n upper limit of hole = %0.3f mm\n upper limit of shaft = %0.3f mm\n lower limit of shaft = %0.3f mm' ,Hl,Hu,Su,Sl)\n",
""
   ]
   }
,
{
		   "cell_type": "markdown",
		   "metadata": {},
		   "source": [
			"## Example 9.1: To_find_allowance_and_tolerence.sce"
		   ]
		  },
  {
"cell_type": "code",
	   "execution_count": null,
	   "metadata": {
	    "collapsed": true
	   },
	   "outputs": [],
"source": [
"clc\n",
"h1 = 37.52 // high limit of hole in mm\n",
"h2 = 37.50 // low limit of hole in mm\n",
"s1 = 37.47 // high limit of shaft in mm\n",
"s2 = 37.45 // low limit of shaft in mm\n",
"ht = h1-h2 // hole tolerence in mm\n",
"st = s1-s2 // shaft tolerence in mm\n",
"a = h2-s1 // allowance in mm\n",
"printf('\n Hole tolerence = %0.2f mm\n Shaft tolerence = %0.2f mm\n Allowance = %0.2f mm' ,ht ,st ,a)"
   ]
   }
,
{
		   "cell_type": "markdown",
		   "metadata": {},
		   "source": [
			"## Example 9.2: Determine_dimensions_of_shaft_and_hole.sce"
		   ]
		  },
  {
"cell_type": "code",
	   "execution_count": null,
	   "metadata": {
	    "collapsed": true
	   },
	   "outputs": [],
"source": [
"clc\n",
"t = 0.075 // tolerence in mm\n",
"h2 = 75 // low limit of hole in mm\n",
"a = 0.10 // allowance in mm\n",
"h1 = h2+t  // high limit of hole in mm\n",
"s1 = h2-a // high limit of shaft in mm\n",
"s2 = s1-t // low limit of shaft in mm\n",
"printf('\n High limit of hole = %0.3f mm\n High limit of shaft = %0.2f mm\n Low limit of shaft = %0.3f mm' ,h1 ,s1 , s2)"
   ]
   }
,
{
		   "cell_type": "markdown",
		   "metadata": {},
		   "source": [
			"## Example 9.3: Determine_dimensions_of_hole_and_shaft.sce"
		   ]
		  },
  {
"cell_type": "code",
	   "execution_count": null,
	   "metadata": {
	    "collapsed": true
	   },
	   "outputs": [],
"source": [
"clc\n",
"t = 0.225 // tolerence in mm\n",
"h2 = 75 // low limit of hole in mm\n",
"a = 0.0375 // interference in mm\n",
"h1 = h2+t  // high limit of hole in mm\n",
"s2 = h1+a // low limit of shaft in mm\n",
"s1 = s2+t // high limit of shaft in mm\n",
"printf('\n High limit of hole = %0.3f mm\n Low limit of shaft = %0.4f mm\n High limit of shaft = %0.4f mm' ,h1 ,s2 , s1)"
   ]
   }
,
{
		   "cell_type": "markdown",
		   "metadata": {},
		   "source": [
			"## Example 9.4: Calculate_fundamental_deviations_and_tolerences.sce"
		   ]
		  },
  {
"cell_type": "code",
	   "execution_count": null,
	   "metadata": {
	    "collapsed": true
	   },
	   "outputs": [],
"source": [
"clc\n",
"s1 = 50 // diameter of step1 in mm\n",
"s2 = 80 // diameter of step2 in mm\n",
"d = (s1*s2)^(1/2) // mm\n",
"i = (0.45*(d)^(1/3)+0.001*d)/10^3 // mm\n",
"t1 = 25*i // tolerence for hole in mm\n",
"t2 = 16*i // tolerence for shaft in mm\n",
"a1 = 0 // fundamental deviation for hole in mm\n",
"a2 = 5.5*(d)^0.41 // fundamental deviation for shaft in microns\n",
"a2 = a2/10^4 // mm\n",
"h1 = 60 // low limit of hole in mm\n",
"h2 = h1+t1 // high limit of tolerence in mm\n",
"s1 = h1 - t2 // high limit of shaft in mm\n",
"s2 = s1-t2 // low limit of shaft in mm\n",
"printf('\n Tolerence for hole = %0.3f mm\n Tolerence for shaft = %0.3f mm' , t1 ,t2)\n",
"printf('\n Fundamental deviation for hole = %0.2f mm\n Fundamental deviation for shaft = %0.3f mm' ,a1 , a2 )\n",
"printf('\n Low limit of hole = %d mm\n High limit of hole = %0.3f mm\n High limit of shaft = %0.2f mm\n Low limit of hole = %0.2f mm' ,h1 ,h2 , s1 , s2)\n",
"// Answers vary due to round off error"
   ]
   }
,
{
		   "cell_type": "markdown",
		   "metadata": {},
		   "source": [
			"## Example 9.5: Find_tolerences_limits_and_clearance.sce"
		   ]
		  },
  {
"cell_type": "code",
	   "execution_count": null,
	   "metadata": {
	    "collapsed": true
	   },
	   "outputs": [],
"source": [
"clc\n",
"b = 30 // basic size in mm\n",
"s1 = 0.005 // maximum limit of shaft in mm\n",
"s2 = 0.018 // minimum limit of shaft in mm\n",
"h1 = 0.020 // maximum limit of hole in mm\n",
"h2 = 0.0 // minimum limit of hole in mm\n",
"t1 = s2-s1 // shaft tolerence in mm\n",
"t2 = h1-h2 // hole tolerence in mm\n",
"Sh = b-s1 // high limit of shaft in mm\n",
"Sl = b-s2 // low limit of shaft in mm\n",
"Hh = b+h1 // high limit of hole in mm\n",
"Hl = b+h2 // low limit of hole in mm\n",
"c1 = Hh-Sl // maximum clearance in mm\n",
"c2 = Hl-Sh // minimum clearance in mm\n",
"printf('\n Basic size = %d mm\n Shaft tolerence = %0.3f mm\n Hole tolerence = %0.3f mm',b,t1,t2)\n",
"printf('\n High limit of shaft = %0.3f mm\n Low limit of shaft = %0.3f mm\n High limit of hole = %0.3f mm \n Low limit of hole = %0.3f mm',Sh,Sl,Hh,Hl)\n",
"printf('\n Maximum clearance = %0.3f mm\n Minimum clearance = %0.3f mm',c1,c2)"
   ]
   }
,
{
		   "cell_type": "markdown",
		   "metadata": {},
		   "source": [
			"## Example 9.6: Determine_limits_of_shaft_and_hole.sce"
		   ]
		  },
  {
"cell_type": "code",
	   "execution_count": null,
	   "metadata": {
	    "collapsed": true
	   },
	   "outputs": [],
"source": [
"clc\n",
"minc = 0.01 // minimum clearance in mm\n",
"bs = 25 // basic size in mm\n",
"maxc = 0.02 // maximum clearance in mm\n",
"x=poly(0,'x')\n",
"y=1.5*x\n",
"x=roots(y+0.01+x-0.02)\n",
"y=horner(y,x)\n",
"// hole basis system\n",
"low_h1 = bs // low limit of hole in mm\n",
"high_h1 = bs+y // high limit of hole in mm\n",
"u_s = low_h1-minc // upper limit of shaft in mm\n",
"low_s1 = u_s-x // lower limit of shaft in mm\n",
"// shaft basis system\n",
"high_s = bs // high limit of shaft in mm\n",
"low_s2 = bs-x // low limit of shaft in mm\n",
"low_h2 = bs+minc // low limit of hole in mm\n",
"high_h2 = low_h2+y // high limit of hole in mm\n",
"printf('Hole basis system \n Lower limit of hole = %d mm\n Higher limit of hole = %0.3f mm\n Higher limit of shaft = %0.3f mm \n Lower limit of shaft = %0.3f mm', low_h1,high_h1,u_s,low_s1)\n",
"printf('\n Shaft basis system \n high limit of shaft = %0.3f mm\n lower limit of shaft = %0.3f mm\n lower limit of hole = %0.3f mm\n upper limit of hole = %0.3f mm' , high_s,low_s2,low_h2,high_h2)"
   ]
   }
,
{
		   "cell_type": "markdown",
		   "metadata": {},
		   "source": [
			"## Example 9.7: Determine_dimensions_of_shaft_and_hole.sce"
		   ]
		  },
  {
"cell_type": "code",
	   "execution_count": null,
	   "metadata": {
	    "collapsed": true
	   },
	   "outputs": [],
"source": [
"clc\n",
"bs = 100 // basic size in mm\n",
"s1 = 120// diameter of step1 in mm\n",
"s2 = 80 // diameter of step2 in mm\n",
"d = (s1*s2)^(1/2) // mm\n",
"d = ceil(d)\n",
"i = (0.45*(d)^(1/3)+0.001*d)/10^3 // mm\n",
"t1 = 16*i // tolerence for hole in mm\n",
"t2 = 25*i // tolerence for shaft in mm\n",
"G = (2.5*(d)^0.34)/10^3 // fundamental deviation for hole in mm\n",
"e = (11*(d)^0.11)/10^3 // fundamental deviation for shaft in microns\n",
"// Hole\n",
"LLh = bs+G // lower limit of hole in mm\n",
"HLh = LLh+t1 // higher limit of hole in mm\n",
"// shaft\n",
"ULs = bs-e // upper limit of shaft in mm\n",
"LLs = ULs-t2 // lower limit of shaft in mm\n",
"printf('\n lower limit of hole = %0.3f mm\n higher limit of hole = %0.3f mm\n upper limit of shaft = %0.3f mm\n lower limit of shaft = %0.3f mm' , LLh,HLh,ULs,LLs)\n",
"// Error in textbook"
   ]
   }
,
{
		   "cell_type": "markdown",
		   "metadata": {},
		   "source": [
			"## Example 9.8: Determine_size_of_bearing_and_journal.sce"
		   ]
		  },
  {
"cell_type": "code",
	   "execution_count": null,
	   "metadata": {
	    "collapsed": true
	   },
	   "outputs": [],
"source": [
"clc\n",
"tb = 0.005 // tolerence on bearing in mm\n",
"tj = 0.004 // tolerence on journal in mm\n",
"a = 0.002 // allowance in mm\n",
"//hole-basis system\n",
"b = 100 // basic size in mm\n",
"Bl = b // lower limit of bearing in mm\n",
"Bh = Bl+tb // higher limit of bearing in mm\n",
"Jh = Bl-a // higher limit of journal in mm\n",
"Jl1 = Jh - tj // lower limit of journal in \n",
"// shaft-basis system\n",
"Ju = b // upper limit of journal in mm\n",
"Jl2 = Ju-tj // lower limit of journal in mm\n",
"Bl = Ju+a // lower limit of bearing in mm\n",
"Bu = Bl+tb // upper limit of bearing in mm\n",
"printf('\n Hole basis system \n Lower limit of journal = %d mm\n Higher limit of bearing = %0.3f mm\n Higher limit of journal = %0.3f mm \n Lower limit of journal = %0.3f mm', Bl,Bh,Jh,Jl1)\n",
"printf('\n shaft basis system \n upper limit of journal = %0.3f mm\n lower limit of journal = %0.3f mm\n lower limit of bearing = %0.3f mm\n upper limit of bearing = %0.3f mm' , Ju,Jl2,Bl,Bu)"
   ]
   }
,
{
		   "cell_type": "markdown",
		   "metadata": {},
		   "source": [
			"## Example 9.9: Determine_size_of_two_mating_parts.sce"
		   ]
		  },
  {
"cell_type": "code",
	   "execution_count": null,
	   "metadata": {
	    "collapsed": true
	   },
	   "outputs": [],
"source": [
"clc\n",
"// Hole-basis system\n",
"b = 100 // basic size in mm\n",
"i1 = 0.12 // maximum interference in mm\n",
"i2 = 0.05 // minimum interfernce in mm\n",
"t = (i1-i2)/2 // tolerence in mm\n",
"Sh = b+i1 // upper limit of shaft in mm\n",
"Hl = b // lower limit of hole in mm\n",
"Hh = b+t // higher limit of hole in mm\n",
"Sl1 = Sh-t //lower limit of shaft in mm  \n",
"// shaft-basis system\n",
"Su = b // upper limit of shaft in mm\n",
"Sl2 = b-t // lower limit of shaft in mm\n",
"Hl1 = b-i1 // lower limit of hole in mm\n",
"Hu = Hl1+t // higher limit of hole in mm\n",
"printf('\n Hole basis system \n upper limit of shaft = %0.3f mm\n lower limit of hole = %0.3f mm\n higher limit of hole = %0.3f mm\n lower limit of shaft = %0.3f mm' , Sh,Hl,Hh,Sl1)\n",
"printf('\n Shaft basis system \n upper limit of shaft = %0.3f mm\n lower limit of shaft = %0.3f mm\n lower limit of hole = %0.3f mm\n upper limit of hole = %0.3f mm' , Su,Sl2,Hl1,Hu)"
   ]
   }
],
"metadata": {
		  "kernelspec": {
		   "display_name": "Scilab",
		   "language": "scilab",
		   "name": "scilab"
		  },
		  "language_info": {
		   "file_extension": ".sce",
		   "help_links": [
			{
			 "text": "MetaKernel Magics",
			 "url": "https://github.com/calysto/metakernel/blob/master/metakernel/magics/README.md"
			}
		   ],
		   "mimetype": "text/x-octave",
		   "name": "scilab",
		   "version": "0.7.1"
		  }
		 },
		 "nbformat": 4,
		 "nbformat_minor": 0
}
