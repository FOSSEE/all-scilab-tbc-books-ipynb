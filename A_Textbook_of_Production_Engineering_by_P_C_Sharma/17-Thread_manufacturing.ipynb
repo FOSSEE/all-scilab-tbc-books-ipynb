{
"cells": [
 {
		   "cell_type": "markdown",
	   "metadata": {},
	   "source": [
       "# Chapter 17: Thread manufacturing"
	   ]
	},
{
		   "cell_type": "markdown",
		   "metadata": {},
		   "source": [
			"## Example 17.1: Calculate_best_wire_size.sce"
		   ]
		  },
  {
"cell_type": "code",
	   "execution_count": null,
	   "metadata": {
	    "collapsed": true
	   },
	   "outputs": [],
"source": [
"clc\n",
"d = 80 // outside diameter in mm\n",
"p = 6  // pitch diameter in mm\n",
"d = 0.5774*p // best wire size in mm\n",
"printf('\n Best wire size = %0.3f mm' , d)"
   ]
   }
,
{
		   "cell_type": "markdown",
		   "metadata": {},
		   "source": [
			"## Example 17.2: Calculate_size_and_distances_over_wire.sce"
		   ]
		  },
  {
"cell_type": "code",
	   "execution_count": null,
	   "metadata": {
	    "collapsed": true
	   },
	   "outputs": [],
"source": [
"clc\n",
"D = 20 // diameter in mm\n",
"p = 2.5 // pitch diameter in mm\n",
"d = 0.5774*p // mm\n",
"W = D+3*d-1.5156*p// best wire size in mm\n",
"printf('\n Best wire size = %0.3f mm\n Distance over wires = %0.3f mm' ,d, W)\n",
"// Answer vary due to round off error"
   ]
   }
],
"metadata": {
		  "kernelspec": {
		   "display_name": "Scilab",
		   "language": "scilab",
		   "name": "scilab"
		  },
		  "language_info": {
		   "file_extension": ".sce",
		   "help_links": [
			{
			 "text": "MetaKernel Magics",
			 "url": "https://github.com/calysto/metakernel/blob/master/metakernel/magics/README.md"
			}
		   ],
		   "mimetype": "text/x-octave",
		   "name": "scilab",
		   "version": "0.7.1"
		  }
		 },
		 "nbformat": 4,
		 "nbformat_minor": 0
}
