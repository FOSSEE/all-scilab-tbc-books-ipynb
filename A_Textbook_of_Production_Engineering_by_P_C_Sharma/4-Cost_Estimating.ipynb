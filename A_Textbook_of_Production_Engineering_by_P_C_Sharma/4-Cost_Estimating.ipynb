{
"cells": [
 {
		   "cell_type": "markdown",
	   "metadata": {},
	   "source": [
       "# Chapter 4: Cost Estimating"
	   ]
	},
{
		   "cell_type": "markdown",
		   "metadata": {},
		   "source": [
			"## Example 4.10: To_find_direct_labour_cost.sce"
		   ]
		  },
  {
"cell_type": "code",
	   "execution_count": null,
	   "metadata": {
	    "collapsed": true
	   },
	   "outputs": [],
"source": [
"clc\n",
"forgings = 40\n",
"setup = 4 \n",
"Tc = 12 // machining time in min. per forging\n",
"nmt = 21 // non-machining in min. per forging\n",
"st = 45 // set up time per set up\n",
"ts = 5 // total sharpening in min. per forging\n",
"f = 20 // fatigue in percent\n",
"f = f/100\n",
"pn = 5 // personal needs in percent\n",
"pn = pn/100\n",
"Tk = 10 // tool chanhe time in min.\n",
"T = 8 // tool life in hours\n",
"ct = 15 // checking time with 5 checks in 15 secs\n",
"R = 1.4 // performance factor\n",
"dlc = 5 // direct labour cost in Rs per hour\n",
"tt = Tc+nmt // machining and non-machining time in min.\n",
"ft = f*tt // fatigue time in min.\n",
"pnt = pn*tt // personal needs in min.\n",
"t = (Tc*Tk)/(T*60) // total sharpening time in min. per forging\n",
"mct = (ts*ct)/60 // measuring and checking time in min.per forging\n",
"su = Tc + nmt+ pnt + ft + t + mct // sum of times in min.\n",
"tf = su*forgings // time for 40 forgings in min.\n",
"tst = st*setup // total set up time in min.\n",
"Te = tf+tst // total estimated time in min.\n",
"Ta = Te*R // total actual time in min.\n",
"lc = (Ta*dlc)/60 // direct labour cost in Rs\n",
"printf('\n Direct labour cost = Rs %0.1f' , lc)"
   ]
   }
,
{
		   "cell_type": "markdown",
		   "metadata": {},
		   "source": [
			"## Example 4.11: To_find_machining_time.sce"
		   ]
		  },
  {
"cell_type": "code",
	   "execution_count": null,
	   "metadata": {
	    "collapsed": true
	   },
	   "outputs": [],
"source": [
"clc\n",
"// from figure 4.4\n",
"v = 100 // cutting speed in m/min\n",
"D = 50 // mm\n",
"l1 = 76 // mm\n",
"f = 7.5 // feed in mm/rev.\n",
"// Case 1 , time to turn 38 mm diameter by 76 mm length of cut\n",
"N1 = (1000*v)/(%pi*D)// r.p.m\n",
"tm1 = l1*10/(f*N1) // min.\n",
"// Case 2 , time to turn 25 mm by 38 mm length\n",
"N2 = (1000*v)/(%pi*38) // r.p.m\n",
"l2 = 38 // mm\n",
"tm2 = l2*10/(f*N2) // min\n",
"tt = tm1 + tm2 // total time in min\n",
"printf('\n Total time = %0.2f min.' , tt)"
   ]
   }
,
{
		   "cell_type": "markdown",
		   "metadata": {},
		   "source": [
			"## Example 4.12: To_find_time_to_turn_relief.sce"
		   ]
		  },
  {
"cell_type": "code",
	   "execution_count": null,
	   "metadata": {
	    "collapsed": true
	   },
	   "outputs": [],
"source": [
"clc\n",
"// from figure 4.5\n",
"v = 60 //  cutting speed m/min.\n",
"f = 0.375 // feed in mm/rev\n",
"D = 38 // mm\n",
"N = (1000*60)/(%pi*D) // rev/min\n",
"l = 32 // mm\n",
"Tm = l/(f*N) // min\n",
"printf('\n Time to turn external relief = %0.2f min.' , Tm )"
   ]
   }
,
{
		   "cell_type": "markdown",
		   "metadata": {},
		   "source": [
			"## Example 4.13: calculate_time_to_face_on_lathe.sce"
		   ]
		  },
  {
"cell_type": "code",
	   "execution_count": null,
	   "metadata": {
	    "collapsed": true
	   },
	   "outputs": [],
"source": [
"clc\n",
"// from figure 4.11\n",
"l = 7.5 // cm\n",
"Dave = (25+ 10)/2 // average diameter in cm\n",
"v = 27 // cutting speed in m/min\n",
"f = 0.8 // feed in mm/rev\n",
"N = (1000*v)/(%pi*Dave*10) // r.p.m.\n",
"tm = l*10/(f*N) // min.\n",
"printf('\n The machining time to face on lathe = %0.2f min.' , tm)"
   ]
   }
,
{
		   "cell_type": "markdown",
		   "metadata": {},
		   "source": [
			"## Example 4.14: To_find_time_to_drill_hole.sce"
		   ]
		  },
  {
"cell_type": "code",
	   "execution_count": null,
	   "metadata": {
	    "collapsed": true
	   },
	   "outputs": [],
"source": [
"clc\n",
"D = 12.7 // diameter in mm\n",
"d = 50 // depth in mm\n",
"v = 75 // cutting speed in m/min.\n",
"f = 0.175 // feed in mm/rev\n",
"l = d + 2*0.29*D // lemgth of drill travel in mm\n",
"N = (1000*v)/(%pi*D) // r.p.m.\n",
"tm = l/(f*N) // min\n",
"printf('\n Time taken to drill hole = %0.3f min.' , tm)"
   ]
   }
,
{
		   "cell_type": "markdown",
		   "metadata": {},
		   "source": [
			"## Example 4.15: To_find_time_to_complete_cut.sce"
		   ]
		  },
  {
"cell_type": "code",
	   "execution_count": null,
	   "metadata": {
	    "collapsed": true
	   },
	   "outputs": [],
"source": [
"clc\n",
"k = 1/4 // return time to cutting ratio\n",
"l = 900 + 2*75 // length of stroke in mm\n",
"v = 6 // cutting stroke in m/min\n",
"f = 2 // feed mm/stroke\n",
"w = 600 // breadth in mm\n",
"N = (v*1000)/(l*1.25) // r.p.m\n",
"N = round(N)\n",
"time =  w/(f*N) // min\n",
"printf('\n Time required for shaper to complete one cut = %d min' ,time )"
   ]
   }
,
{
		   "cell_type": "markdown",
		   "metadata": {},
		   "source": [
			"## Example 4.16: To_find_time_to_broach.sce"
		   ]
		  },
  {
"cell_type": "code",
	   "execution_count": null,
	   "metadata": {
	    "collapsed": true
	   },
	   "outputs": [],
"source": [
"clc\n",
"l = 70 // length of stroke in cm\n",
"cs = 11 // cutting speed in m/min\n",
"rs = 24 // return speed in m/min\n",
"tm = (l/(100*cs)) + (l/(100*rs)) // min\n",
"printf('\n Time taken to broach a four spline brass = %0.4f min' , tm)\n",
"// Answers vary due to round off error"
   ]
   }
,
{
		   "cell_type": "markdown",
		   "metadata": {},
		   "source": [
			"## Example 4.17: find_feed_cutter_travel_and_time.sce"
		   ]
		  },
  {
"cell_type": "code",
	   "execution_count": null,
	   "metadata": {
	    "collapsed": true
	   },
	   "outputs": [],
"source": [
"clc\n",
"v = 50 // cutting speed in m/min\n",
"D = 150 // diameter of face cutter in mm\n",
"N = (1000*v)/(%pi*D) // r.p.m.\n",
"f = 0.25 // feed mm/tooth\n",
"n = 10 //number of tooth\n",
"tf = N*f*n // table feed in mm/min\n",
"l = 200 // length of work piece in mm\n",
"d = 25 // depth of slot in mm\n",
"tot = sqrt(D*d - d^2) // total overtravel in mm\n",
"tct = l + tot // total cutter travel in mm\n",
"time = tct/tf // min.\n",
"printf('\n Table feed = %d mm/min. \n Total cutter travel = %0.1f mm\n Time required to machine the slot = %0.3f min.' , tf , tct ,time )"
   ]
   }
,
{
		   "cell_type": "markdown",
		   "metadata": {},
		   "source": [
			"## Example 4.18: To_find_cutting_time.sce"
		   ]
		  },
  {
"cell_type": "code",
	   "execution_count": null,
	   "metadata": {
	    "collapsed": true
	   },
	   "outputs": [],
"source": [
"clc\n",
"D = 63.5 // diameter of plain milling cutter in mm\n",
"w = 30 // width of block in mm\n",
"l = 180 // length of block in mm\n",
"f = 0.125 // feed in mm/tooth\n",
"n = 6 // no. of teeth\n",
"N = 1500 // spindle speed in r.p.m\n",
"tot = (D - sqrt(D^2 - w^2))/2 // total over travel in mm\n",
"tct = l + tot // total cutter travel in mm\n",
"Tm = tct/(f*n*N) // cutting time in min\n",
"printf(' Cutting time = %0.3f min.' , Tm)\n",
"// Answers vary due to round off error"
   ]
   }
,
{
		   "cell_type": "markdown",
		   "metadata": {},
		   "source": [
			"## Example 4.19: To_find_milling_time.sce"
		   ]
		  },
  {
"cell_type": "code",
	   "execution_count": null,
	   "metadata": {
	    "collapsed": true
	   },
	   "outputs": [],
"source": [
"clc\n",
"// from figure 4.17\n",
"d = 19 // depth of cut in mm\n",
"D1 = 5 // diameter of round bar in cm\n",
"v = 50 // cutting speed in m/min\n",
"n = 8 // number of teeth\n",
"f = 0.2 // feed in mm/tooth\n",
"l = 2*sqrt(d*D1*10 - d^2) // length of chord in mm\n",
"D2 = 10 // daimeter of cutter in cm\n",
"overrun = sqrt(D2*10*d+D1*10*d-d^2) - sqrt(D1*10*d-d^2)// mm\n",
"tt = l + overrun // table travel in mm\n",
"N = (1000*v)/(%pi*D2*10) // r.p.m\n",
"tm = tt/(f*n*N) // time in min.\n",
"printf('\n The milling time = %0.2f min.' , tm )"
   ]
   }
,
{
		   "cell_type": "markdown",
		   "metadata": {},
		   "source": [
			"## Example 4.1: To_calculate_total_cost_and_SP.sce"
		   ]
		  },
  {
"cell_type": "code",
	   "execution_count": null,
	   "metadata": {
	    "collapsed": true
	   },
	   "outputs": [],
"source": [
"clc\n",
"d_m = 5500 // cost of direct material in Rs\n",
"d_l = 3000 // manufacturing wages in Rs\n",
"// factory overhead is 100% 0f manufacturing wages\n",
"f_o = (100*d_l)/100 // factory overheads in Rs\n",
"FC = d_m + d_l + f_o // factory cost in Rs\n",
"nm_o = 15*FC/100 // non-manufacturing overheads in Rs\n",
"tc = FC+nm_o // total cost in Rs\n",
"p = 12*tc/100 // profit in Rs\n",
"sp = tc+p // selling price in Rs\n",
"printf('\n Total cost = Rs %d\n Selling price = Rs %d' , tc,sp)"
   ]
   }
,
{
		   "cell_type": "markdown",
		   "metadata": {},
		   "source": [
			"## Example 4.20: To_find_time_to_grind_shaft.sce"
		   ]
		  },
  {
"cell_type": "code",
	   "execution_count": null,
	   "metadata": {
	    "collapsed": true
	   },
	   "outputs": [],
"source": [
"clc\n",
"w = 50 // width of grinding wheep in mm\n",
"f = w/2 // feed in mm\n",
"t = 0.25 // toatal stock in mm\n",
"d = 0.025 // depth of cut in mm\n",
"n = t/d // number of cuts \n",
"v = 15 // cutting speed in m/min\n",
"D = 38 // diameter in mm\n",
"N = (1000*v)/(%pi*D) // r.p.m.\n",
"l = 200 // length of part in mm\n",
"Tm = (l*10)/(f*N) // min.\n",
"printf('Time required to grind the shaft = %0.2f min.' , Tm)"
   ]
   }
,
{
		   "cell_type": "markdown",
		   "metadata": {},
		   "source": [
			"## Example 4.21: To_find_time_to_cut_threads.sce"
		   ]
		  },
  {
"cell_type": "code",
	   "execution_count": null,
	   "metadata": {
	    "collapsed": true
	   },
	   "outputs": [],
"source": [
"clc\n",
"v = 6 // cutting speed in m/min\n",
"n = 5 // number of cuts\n",
"D = 44 // diameter in mm\n",
"N = (1000*v)/(%pi*D) // r.p.m\n",
"f = 0.5 // feed in cm\n",
"l = 8.9 // length of cut in cm\n",
"Tm = (l*n)/(f*N) // time in min\n",
"printf('\n Time to cut the threads = %0.2f min' , Tm)\n",
"// Answers vary due to round off error"
   ]
   }
,
{
		   "cell_type": "markdown",
		   "metadata": {},
		   "source": [
			"## Example 4.22: find_time_to_produce_one_piece.sce"
		   ]
		  },
  {
"cell_type": "code",
	   "execution_count": null,
	   "metadata": {
	    "collapsed": true
	   },
	   "outputs": [],
"source": [
"clc\n",
"vt = 40 // cutting speed for turning in m/min\n",
"vs = 8 // cutting speed for cutting and knurling in m/min\n",
"ft = 0.4 // feed for turning in mm/rev.\n",
"ff = 0.2 // feed for forming in mm/rev\n",
"d1 = 25 // diameter in mm\n",
"l1 = 50 // mm\n",
"N1 = 1000*vt/(%pi*d1) // spindle speed in rev./min.\n",
"time1 = l1/(ft*N1) // min.\n",
"tt = 2*time1 // total time in min.\n",
"d2 = 15 // mm\n",
"N2 = 1000*vt/(%pi*d2)// rev/min.\n",
"l2 = 30 // mm\n",
"time2 = l2/(ft*N2) // min.\n",
"eft = 0.15 // end forming time in min.\n",
"d3 = 10 // mm\n",
"N3 = 1000*vs/(%pi*d3) // rev./min.\n",
"l3 = 15 // mm\n",
"f = 1.5 // feed in min.\n",
"time3 = l3/(f*N3) // min.\n",
"N4 = 1000*vs/(%pi*d1) // rev./min.\n",
"l4 = 10 // mm\n",
"time4 = l4/(ft*N4) // min.\n",
"time5 = 0.15 // time for chamfering in min.\n",
"Dave = d1/2 // mm\n",
"N5 = 1000*vt/(%pi*Dave) // r.p.m.\n",
"time6 = Dave/(N5*ff) // min,\n",
"tmt = tt+time2+time3+time4+time5+time6+eft // total machining time in min.\n",
"t = 0.05 // min.\n",
"ht = time5+6*time6+4*t+3*t // handling time in min.\n",
"tot = ht+tmt // total handling time in min.\n",
"ct = 15*tot/100 // contingency in min.\n",
"tct = tot+ct // total cycle time in min.\n",
"st = 60 // set up time for turret lathe\n",
"p = 100 // total pieces\n",
"stp = st/p // set up time per piece in min.\n",
"tpt = tct+stp // Total production timr per piece in min.\n",
"printf('\n Total production timr per piece = %0.2f min' , tpt)\n",
"//Answers vary due to round off error"
   ]
   }
,
{
		   "cell_type": "markdown",
		   "metadata": {},
		   "source": [
			"## Example 4.2: To_find_selling_price.sce"
		   ]
		  },
  {
"cell_type": "code",
	   "execution_count": null,
	   "metadata": {
	    "collapsed": true
	   },
	   "outputs": [],
"source": [
"clc\n",
"// given\n",
"OS_RM = 20000 // opening stock of raw materials in Rs\n",
"CS_RM = 30000 // closing stock of raw materials in Rs\n",
"TP_RM = 170000 // total purchase in year in Rs\n",
"OS_FG = 10000 // opening stock of finished goods in Rs\n",
"CS_FG = 15000 // closing stock of finished goods in Rs\n",
"sales = 489500 // sales of finished goods in Rs\n",
"D_W = 120000 // direct wages in Rs\n",
"F_E1 = 120000 // factory expenses in Rs\n",
"NM_E = 50000 //  non-manufacturing expenses in Rs\n",
"DMC = OS_RM + TP_RM - CS_RM // direct material cost\n",
"FC = DMC + D_W + F_E1 // factory cost\n",
"TC = FC + NM_E // total cost\n",
"FG_S = OS_FG + TC - CS_FG // cost of finished goods sold in Rs\n",
"P = sales - FG_S // profit in Rs\n",
"F_E2 = (F_E1)/D_W*100 // factory expenses in percent\n",
"NM_C = (NM_E)/FC*100 // non-manufacturing expenses to factory cost\n",
"P_C = (P/FG_S)*100 // profit to cost of sales\n",
"dm = 20000 // direct material in Rs\n",
"dw = 30000 // direct wages in Rs\n",
"fe = dw // factory expenses\n",
"fc = dm+dw+fe // factory cost in Rs\n",
"nme = NM_C*fc/100 // non-manufacturing expenses in Rs\n",
"tc = fc+nme // total cost in Rs\n",
"p = (P_C*tc)/100 // profit in Rs\n",
"sp = tc+p // selling price in Rs\n",
"printf('\n Selling price = Rs %d' , sp) \n",
" \n",
" "
   ]
   }
,
{
		   "cell_type": "markdown",
		   "metadata": {},
		   "source": [
			"## Example 4.3: To_find_factory_cost.sce"
		   ]
		  },
  {
"cell_type": "code",
	   "execution_count": null,
	   "metadata": {
	    "collapsed": true
	   },
	   "outputs": [],
"source": [
"clc\n",
"d = 38 // diameter of bar in mm\n",
"l = 25 // length of bar in mm\n",
"p = 8.6 // density gm/cm^3\n",
"g = 9.81 // acceleration due to gravity in m/s^2\n",
"w = (%pi*d^2*l*p*g)/(4*10^6) // weight of material in N\n",
"mc = w*1.625 // material cost in Rs\n",
"lc = (2*90)/60 // labour cost in Rs\n",
"fo = 0.5*lc // factory overheads in Rs\n",
"fc = mc + lc + fo // factory cost in Rs\n",
"printf('\n factory cost = Rs %0.2f ', fc )\n",
"// Answers vary due to round off error"
   ]
   }
,
{
		   "cell_type": "markdown",
		   "metadata": {},
		   "source": [
			"## Example 4.4: find_production_cost_and_time_taken.sce"
		   ]
		  },
  {
"cell_type": "code",
	   "execution_count": null,
	   "metadata": {
	    "collapsed": true
	   },
	   "outputs": [],
"source": [
"clc\n",
"sp = 65 // selling price in Rs\n",
"profit = 0.2*sp // profit in Rs\n",
"tc = sp - profit // total cost in Rs \n",
"P = (sp - profit)/1.4 // production cost in Rs\n",
"DM = 15 // cost of direct material in Rs\n",
"W = (P - DM)/ 1.4 // direct labour cost in Rs\n",
"tt = W/2 // time taken in hours\n",
"printf('\n Time taken = %0.3f Hours' , tt )\n",
"// Answers vary due to round off error"
   ]
   }
,
{
		   "cell_type": "markdown",
		   "metadata": {},
		   "source": [
			"## Example 4.5: To_find_profit.sce"
		   ]
		  },
  {
"cell_type": "code",
	   "execution_count": null,
	   "metadata": {
	    "collapsed": true
	   },
	   "outputs": [],
"source": [
"clc\n",
"mp = 6000 // market price of machine in Rs\n",
"d = 0.2*mp // discount in Rs\n",
"sp = mp - d // selling price of factory in Rs\n",
"mc = 400 // material cost in Rs\n",
"lc = 1600 // labour cost in Rs\n",
"fo = 800 // factory overheads in Rs\n",
"F = mc + lc + fo // factory cost in Rs\n",
"se = 0.5*F // selling expenses in Rs\n",
"profit = sp - (F + se ) // Rs\n",
"printf('\n profit =  Rs %d' , profit)"
   ]
   }
,
{
		   "cell_type": "markdown",
		   "metadata": {},
		   "source": [
			"## Example 4.6: To_find_lot_size_and_time.sce"
		   ]
		  },
  {
"cell_type": "code",
	   "execution_count": null,
	   "metadata": {
	    "collapsed": true
	   },
	   "outputs": [],
"source": [
"clc\n",
"a = 1500 // requirements of components\n",
"s = 30 // cost of each set up in Rs\n",
"k = 0.2 // charge factor\n",
"c = 5 // cost of each part in Rs\n",
"N = 5*sqrt(a*s)/(k*c) // economic lot size\n",
"printf('\n Economic lot size = %d pieces', N)\n",
"S = (N*s)/a // time for each set up in hours\n",
"printf('\n Time for each set up = %0.2f hours', S )\n",
"// Answers vary due to round off error"
   ]
   }
,
{
		   "cell_type": "markdown",
		   "metadata": {},
		   "source": [
			"## Example 4.7: To_find_time_to_change_cutter.sce"
		   ]
		  },
  {
"cell_type": "code",
	   "execution_count": null,
	   "metadata": {
	    "collapsed": true
	   },
	   "outputs": [],
"source": [
"clc\n",
"Tc = 2 // time taken by cutter per cycle in minutes\n",
"Tk = 10 // time taken to change cutter in minutes\n",
"T = 240 // tool life in minutes\n",
"t = (Tc*Tk)/T // time to change the cutter in min.\n",
"printf('\n Unit time to change the cutter = %0.3f min' , t )\n",
"// Error in textbook"
   ]
   }
,
{
		   "cell_type": "markdown",
		   "metadata": {},
		   "source": [
			"## Example 4.8: To_find_tool_change_time.sce"
		   ]
		  },
  {
"cell_type": "code",
	   "execution_count": null,
	   "metadata": {
	    "collapsed": true
	   },
	   "outputs": [],
"source": [
"clc\n",
"Tk = 360 // time taken by tool to cut before sharpening in min.\n",
"Tc = 20 // time taken to change the tool in min.\n",
"T = 4320 // time taken before it is discarded in min.\n",
"t = (Tc*Tk)/T //  tool change time per cycle in min.\n",
"printf('\n Unit tool change time per cycle = %0.2f min' , t )"
   ]
   }
,
{
		   "cell_type": "markdown",
		   "metadata": {},
		   "source": [
			"## Example 4.9: To_calculate_measuring_time_allowance.sce"
		   ]
		  },
  {
"cell_type": "code",
	   "execution_count": null,
	   "metadata": {
	    "collapsed": true
	   },
	   "outputs": [],
"source": [
"clc\n",
"Tc = 10 // time taken to check hole in secs\n",
"F = 2 // frequency of checking dimension\n",
"tc = Tc*F // time taken to check one piece in secs\n",
"N = 200 // number of pieces\n",
"Tc = tc*(N + 1) // Total time in sec\n",
"printf('\n Total time taken to check dimensions = %d min' , Tc/60)"
   ]
   }
],
"metadata": {
		  "kernelspec": {
		   "display_name": "Scilab",
		   "language": "scilab",
		   "name": "scilab"
		  },
		  "language_info": {
		   "file_extension": ".sce",
		   "help_links": [
			{
			 "text": "MetaKernel Magics",
			 "url": "https://github.com/calysto/metakernel/blob/master/metakernel/magics/README.md"
			}
		   ],
		   "mimetype": "text/x-octave",
		   "name": "scilab",
		   "version": "0.7.1"
		  }
		 },
		 "nbformat": 4,
		 "nbformat_minor": 0
}
