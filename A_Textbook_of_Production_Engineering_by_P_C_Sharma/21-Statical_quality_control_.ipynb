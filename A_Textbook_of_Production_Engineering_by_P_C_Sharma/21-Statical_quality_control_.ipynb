{
"cells": [
 {
		   "cell_type": "markdown",
	   "metadata": {},
	   "source": [
       "# Chapter 21: Statical quality control "
	   ]
	},
{
		   "cell_type": "markdown",
		   "metadata": {},
		   "source": [
			"## Example 21.10: Determine_producers_and_consumers_risk.sce"
		   ]
		  },
  {
"cell_type": "code",
	   "execution_count": null,
	   "metadata": {
	    "collapsed": true
	   },
	   "outputs": [],
"source": [
"clc\n",
"clf()\n",
"n = 50 // sample size\n",
"rn = 2 // rejection number\n",
"AQL = 0.02\n",
"LTPD = 0.08\n",
"// Producer's risk\n",
"z1 = n*AQL // mean number of defectives\n",
"pp1 = exp(-z1)+z1*exp(-z1) // poisson proability for 1 or less defective\n",
"alpha = (1-pp1)*100 // producer's risk\n",
"// consumer's risk\n",
"z2 = n*LTPD // mean number of defectives\n",
"bita = (exp(-z2)+z2*exp(-z2))*100 // consumer's risk\n",
"d1 = 1 // incoming defective in percent\n",
"z3 = n*d1/100 // average number of defective\n",
"ppa1 = exp(-z3)+z3*exp(-z3) // proability of acceptance\n",
"ppa1 = ppa1*100\n",
"ppr1 = 100-ppa1 // proability of rejection\n",
"AOQ1 = ppr1*0 + ppa1*d1/100\n",
"d2 = 2 // incoming defective in percent\n",
"z4 = n*d2/100 // average number of defective\n",
"ppa2 = exp(-z4)+z4*exp(-z4) // proability of acceptance\n",
"ppa2 = ppa2*100\n",
"ppr2 = 100-ppa2 // proability of rejection\n",
"AOQ2 = ppr2*0 + ppa2*d2/100\n",
"d3 = 4 // incoming defective in percent\n",
"z5 = n*d3/100 // average number of defective\n",
"ppa3 = exp(-z5)+z5*exp(-z5) // proability of acceptance\n",
"ppa3 = ppa3*100\n",
"ppr3 = 100-ppa3 // proability of rejection\n",
"AOQ3 = ppr3*0 + ppa3*d3/100\n",
"d4 = 6 // incoming defective in percent\n",
"z6 = n*d4/100 // average number of defective\n",
"ppa4 = exp(-z6)+z6*exp(-z6) // proability of acceptance\n",
"ppa4 = ppa4*100\n",
"ppr4 = 100-ppa4 // proability of rejection\n",
"AOQ4 = ppr4*0 + ppa4*d4/100\n",
"d5 = 8 // incoming defective in percent\n",
"z7 = n*d5/100 // average number of defective\n",
"ppa5 = exp(-z7)+z7*exp(-z7) // proability of acceptance\n",
"ppa5 = ppa5*100\n",
"ppr5 = 100-ppa5 // proability of rejection\n",
"AOQ5 = ppr5*0 + ppa5*d5/100\n",
"printf('\n Producers risk = %0.2f percent\n Consumers risk = %0.3f percent', alpha,bita)\n",
"x = [1,2,4,6,8]\n",
"y = [0.91,1.4716,1.624,1.194,0.733]\n",
"plot(x,y)\n",
"xtitle('AOQ curve','Percent dectives' , 'AOQ of lot')"
   ]
   }
,
{
		   "cell_type": "markdown",
		   "metadata": {},
		   "source": [
			"## Example 21.1: Construct_R_and_X_chart.sce"
		   ]
		  },
  {
"cell_type": "code",
	   "execution_count": null,
	   "metadata": {
	    "collapsed": true
	   },
	   "outputs": [],
"source": [
"clc\n",
"clf()\n",
"n = 10 // number of samples\n",
"A2 = 0.577\n",
"D3 = 0\n",
"D4 = 2.115\n",
"// number of defectives\n",
"x1 = 11.274\n",
"x2 = 11.246\n",
"x3 = 11.204\n",
"x4 = 11.294\n",
"x5 = 11.252\n",
"x6 = 11.238\n",
"x7 = 11.230\n",
"x8 = 11.276\n",
"x9 = 11.208\n",
"x10 = 11.266\n",
"r1 = 0.15\n",
"r2 = 0.20\n",
"r3 = 0.33\n",
"r4 = 0.46\n",
"r5 = 0.10\n",
"r6 = 0.15\n",
"r7 = 0.20\n",
"r8 = 0.23\n",
"r9 = 0.50\n",
"r10 = 0.30\n",
"x = x1+x2+x3+x4+x5+x6+x7+x8+x9+x10\n",
"r = r1+r2+r3+r4+r5+r6+r7+r8+r9+r10\n",
"Xavg = x/n\n",
"Ravg = r/n\n",
"// for X chart\n",
"ucl1 = Xavg + A2*Ravg\n",
"lcl1 = Xavg - A2*Ravg\n",
"// for R chart\n",
"ucl2 = D4*Ravg\n",
"lcl2 = D3*Ravg\n",
"printf('\n control limits \n  For X charts \n UCL = %0.2f cm \n LCL = %0.2f cm\n For R charts \n UCl = %0.3f \n LCL = %0.3f' , ucl1,lcl1,ucl2,lcl2)\n",
"// X chart\n",
"x=[1,2,3,4,5,6,7,8,9,10];\n",
"y=[11.274,11.246,11.204,11.294,11.252,11.238,11.230,11.276,11.208,11.266]\n",
"plot(x,y)\n",
"xtitle('X chart','Sample No.','X')\n",
"// R chart\n",
"xset('window',1)\n",
"z = [0.15,0.20,0.33,0.46,0.10,0.15,0.20,0.23,0.50,0.30]\n",
"plot(x,z)\n",
"xtitle('R chart' ,'Sample no.', 'R')\n",
"\n",
""
   ]
   }
,
{
		   "cell_type": "markdown",
		   "metadata": {},
		   "source": [
			"## Example 21.2: Construct_the_control_charts.sce"
		   ]
		  },
  {
"cell_type": "code",
	   "execution_count": null,
	   "metadata": {
	    "collapsed": true
	   },
	   "outputs": [],
"source": [
"clc\n",
"clf()\n",
"n = 100 // total number of sub groups\n",
"s = 10 // number of samples\n",
"// number of defectives\n",
"d1 = 3\n",
"d2 = 2\n",
"d3 = 3\n",
"d4 = 5\n",
"d5 = 3\n",
"d6 = 3\n",
"d7 = 2\n",
"d8 = 4\n",
"d9 = 3\n",
"d10 = 2\n",
"d = d1+d2+d3+d4+d5+d6+d7+d8+d9+d10 // total number of defectives\n",
"p1 = d/(n*s) // average fraction of defectives\n",
"sigmap1 = sqrt(p1*(1-p1)/n)\n",
"ucl1 = p1 + 3*sigmap1\n",
"lcl1 = p1 - 3*sigmap1\n",
"// control chart for fraction defectives\n",
"x = linspace(0,10,10)\n",
"y = linspace(0,0.081,10)\n",
"plot(x,y)\n",
"xtitle('Control chart for fraction defectives' , 'Samples' ,'Fraction defectives')\n",
"// percent defective (mean)\n",
"p1 = p1*100\n",
"sigmap2 = sqrt(p1*(100-p1)/n)\n",
"ucl2 = p1 + 3*sigmap2\n",
"lcl2 = p1 - 3*sigmap2\n",
"printf('\n Control limits \n Fraction defectives \n UCL = %0.3f\n LCL = %0.4f\n Percent defectives \n UCL = %0.1f \n LCL = %0.1f', ucl1,lcl1,ucl2,lcl2)\n",
"// control chart for percent defect\n",
"xset('window' ,1)\n",
"z = linspace(0,8.1,10)\n",
"plot(x,z)\n",
"xtitle('Control chart for percent defects' , 'Sample no.' , 'percent defects')\n",
"//  'Answers vary due to round off error'"
   ]
   }
,
{
		   "cell_type": "markdown",
		   "metadata": {},
		   "source": [
			"## Example 21.4: Calculate_poisson_probabilities.sce"
		   ]
		  },
  {
"cell_type": "code",
	   "execution_count": null,
	   "metadata": {
	    "collapsed": true
	   },
	   "outputs": [],
"source": [
"clc\n",
"n = 1000 // number of units\n",
"s = 4 // random sample\n",
"d = 50 // defectives\n",
"z = d*s/n\n",
"pp0 = exp(-0.2)*1 // poisson probabilities for 0 defectives\n",
"pp1 = exp(-0.2)*(z) // poisson probabilities for 1 defectives\n",
"pp2 = exp(-0.2)*(z^2/factorial(2)) // poisson probabilities for 2 defectives\n",
"pp3 = exp(-0.2)*(z^3/factorial(3))// poisson probabilities for 3 defectives\n",
"printf('\n Proabilities for 0,1,2 and 3 defectives are : %0.3f ,%0.4f, %0.4f, %0.5f' , pp0,pp1,pp2,pp3)"
   ]
   }
,
{
		   "cell_type": "markdown",
		   "metadata": {},
		   "source": [
			"## Example 21.5: Calculate_probabilities_of_defective_items.sce"
		   ]
		  },
  {
"cell_type": "code",
	   "execution_count": null,
	   "metadata": {
	    "collapsed": true
	   },
	   "outputs": [],
"source": [
"clc\n",
"d = 50 // defectives\n",
"l = 1000 // lot of pieces\n",
"p = d/l // proability of an event happening\n",
"q = 1-p // proability of an event not happening\n",
"n = 4 // sample size\n",
"p0 = q^n //probabilities for 0 defectives\n",
"p1 = 4*(q)^3*p // probabilities for 1 defectives\n",
"p2 = 6*(q)^2*p^2 // probabilities for 2 defectives\n",
"p3 = 4*q*(p)^3 // probabilities for 3 defectives\n",
"printf('\n  Proabilities for 0,1,2 and 3 defectives are : %0.4f %0.4f %0.4f %0.6f' , p0,p1,p2,p3)"
   ]
   }
,
{
		   "cell_type": "markdown",
		   "metadata": {},
		   "source": [
			"## Example 21.6: Determine_producers_and_consumers_risk.sce"
		   ]
		  },
  {
"cell_type": "code",
	   "execution_count": null,
	   "metadata": {
	    "collapsed": true
	   },
	   "outputs": [],
"source": [
"clc\n",
"// producer's risk\n",
"n = 71 // sample size\n",
"AQL = 0.005\n",
"LTPD = 0.05\n",
"l_s = 500 // lot size\n",
"z1 = n*AQL // mean number of defects\n",
"pp1 = exp(-z1)+z1*exp(-z1) // poisson proability for 1 or less defective\n",
"alpha = (1-pp1)*100 // producer's risk\n",
"alpha = ceil(alpha)\n",
"// consumer's risk\n",
"z2 = n*LTPD // mean number of defects\n",
"pp2 = exp(-z2)+z2*exp(-z2) // poisson proability for 1 or less defective\n",
"bita = pp2*100 // consumer's risk\n",
"printf('\n Producers risk = %d percent\n Consumers risk = %0.2f percent', alpha,bita)"
   ]
   }
,
{
		   "cell_type": "markdown",
		   "metadata": {},
		   "source": [
			"## Example 21.7: Evaluate_preliminary_and_revised_control_limits.sce"
		   ]
		  },
  {
"cell_type": "code",
	   "execution_count": null,
	   "metadata": {
	    "collapsed": true
	   },
	   "outputs": [],
"source": [
"clc\n",
"td1= 20 // total number of days\n",
"n1 = 200 // sample size \n",
"// number of defectives\n",
"d1 = 10 \n",
"d2 = 15\n",
"d3 = 10\n",
"d4 = 12\n",
"d5 = 11\n",
"d6 = 9\n",
"d7 = 22\n",
"d8 = 4\n",
"d9 = 12\n",
"d10 = 24\n",
"d11 = 21\n",
"d12 = 15\n",
"d13 = 8\n",
"d14 = 14\n",
"d15 = 4\n",
"d16 = 10\n",
"d17 = 11\n",
"d18 = 11\n",
"d19 = 26 \n",
"d20 = 13\n",
"d = d1+d2+d3+d4+d5+d6+d7+d8+d9+d10+d11+d12+d13+d14+d15+d16+d17+d18+d19+d20 // total number of defectives\n",
"p1 = d/(n1*td1) // average fraction of defectives\n",
"sigmap1 = sqrt(p1*(1-p1)/n1)\n",
"ucl1 = p1 + 3*sigmap1\n",
"lcl1 = p1 - 3*sigmap1\n",
"// revised control limits\n",
"td2 = 18 // total number of days\n",
"D = d - (d10+d19) // number of defects\n",
"p2 = D/(n1*td2)\n",
"sigmap2 = sqrt(p2*(1-p2)/n1)\n",
"ucl2 = p2 + 3*sigmap2\n",
"lcl2 = p2 - 3*sigmap2\n",
"printf('\n Preliminary control limits \n UCL = %0.3f \n LCL = %0.3f \n Revised control limits \n UCL = %0.3f \n LCL = %0.3f' , ucl1,lcl1,ucl2,lcl2)\n",
""
   ]
   }
,
{
		   "cell_type": "markdown",
		   "metadata": {},
		   "source": [
			"## Example 21.8: Find_control_limits_for_c_chart.sce"
		   ]
		  },
  {
"cell_type": "code",
	   "execution_count": null,
	   "metadata": {
	    "collapsed": true
	   },
	   "outputs": [],
"source": [
"clc\n",
"n1 = 15 // total number of sub groups\n",
"// number of defectives\n",
"d1 = 77\n",
"d2 = 64\n",
"d3 = 75\n",
"d4 = 93\n",
"d5 = 45\n",
"d6 = 61\n",
"d7 = 49\n",
"d8 = 65\n",
"d9 = 45\n",
"d10 = 77\n",
"d11 = 59\n",
"d12 = 54\n",
"d13 = 84\n",
"d14 = 40\n",
"d15 = 92\n",
"d = d1+d2+d3+d4+d5+d6+d7+d8+d9+d10+d11+d12+d13+d14+d15 // total number of defectives\n",
"c1 = d/n1\n",
"ucl1 = c1 + 3*sqrt(c1)\n",
"lcl1 = c1 - 3*sqrt(c1)\n",
"// revised control limits\n",
"n2 = 12 // total number of sub groups\n",
"D = d - (d4+d14+d15) // number of defects\n",
"c2 = D/n2\n",
"ucl2 = c2 + 3*sqrt(c2)\n",
"lcl2 = c2 - 3*sqrt(c2)\n",
"printf('\n Preliminary control limits \n UCL = %0.2f \n LCL = %0.2f \n Revised control limits \n UCL = %0.3f \n LCL = %0.3f' , ucl1,lcl1,ucl2,lcl2)\n",
"\n",
""
   ]
   }
,
{
		   "cell_type": "markdown",
		   "metadata": {},
		   "source": [
			"## Example 21.9: find_control_limits_for_charts.sce"
		   ]
		  },
  {
"cell_type": "code",
	   "execution_count": null,
	   "metadata": {
	    "collapsed": true
	   },
	   "outputs": [],
"source": [
"clc\n",
"n = 20 // number of samples\n",
"A = 1.342\n",
"A1 = 1.596\n",
"A2 = 0.577\n",
"d2 = 2.326\n",
"d3 = 0.864\n",
"D1 = 0\n",
"D2 = 4.918\n",
"D3 = 0\n",
"D4 = 2.115\n",
"// number of defectives\n",
"x1 = 3290\n",
"x2 = 3180\n",
"x3 = 3350\n",
"x4 = 3470\n",
"x5 = 3080\n",
"x6 = 3240\n",
"x7 = 3260\n",
"x8 = 3310\n",
"x9 = 3640\n",
"x10 = 4110\n",
"x11 = 3220\n",
"x12 = 3590\n",
"x13 = 4270\n",
"x14 = 4040\n",
"x15 = 3580\n",
"x16 = 3500\n",
"x17 = 3570\n",
"x18 = 3560\n",
"x19 = 2740\n",
"x20 = 3200\n",
"r1 = 560\n",
"r2 = 410\n",
"r3 = 200\n",
"r4 = 300\n",
"r5 = 90\n",
"r6 = 650\n",
"r7 = 890\n",
"r8 = 410\n",
"r9 = 1120\n",
"r10 = 520\n",
"r11 = 580\n",
"r12 = 670\n",
"r13 = 480\n",
"r14 = 250\n",
"r15 = 170\n",
"r16 = 670\n",
"r17 = 440\n",
"r18 = 660\n",
"r19 = 560\n",
"r20 = 590\n",
"x = x1+x2+x3+x4+x5+x6+x7+x8+x9+x10+x11+x12+x13+x14+x15+x16+x17+x18+x19+x20\n",
"r = r1+r2+r3+r4+r5+r6+r7+r8+r9+r10+r11+r12+r13+r14+r15+r16+r17+r18+r19+r20\n",
"Xavg = x/n\n",
"Ravg = r/n\n",
"// for X chart\n",
"ucl1 = Xavg + A2*Ravg\n",
"lcl1 = Xavg - A2*Ravg\n",
"// for R chart\n",
"ucl2 = D4*Ravg\n",
"lcl2 = D3*Ravg\n",
"// Revised control limits\n",
"n1 = 15\n",
"n2 = 19\n",
"X = (x - (x5+x10+x13+x14+x19))/n1\n",
"R = (r - (r9))/n2\n",
"// for X chart\n",
"ucl3 = X + A2*R\n",
"lcl3 = X - A2*R\n",
"// for R chart\n",
"ucl4 = D4*R\n",
"lcl4 = D3*R\n",
"printf('\n Preliminary control limits \n  For X charts \n UCL = %0.2f \n LCL = %0.2f\n For R charts \n UCl = %0.3f \n LCL = %0.3f \n Revised control limits \n For X chart \n UCL = %0.3f \n LCL = %0.3f\n For R charts \n UCl = %0.3f \n LCL = %0.3f' , ucl1,lcl1,ucl2,lcl2,ucl3,ucl3,ucl4,lcl4)\n",
"//  'Answers vary due to round off error'\n",
"\n",
""
   ]
   }
],
"metadata": {
		  "kernelspec": {
		   "display_name": "Scilab",
		   "language": "scilab",
		   "name": "scilab"
		  },
		  "language_info": {
		   "file_extension": ".sce",
		   "help_links": [
			{
			 "text": "MetaKernel Magics",
			 "url": "https://github.com/calysto/metakernel/blob/master/metakernel/magics/README.md"
			}
		   ],
		   "mimetype": "text/x-octave",
		   "name": "scilab",
		   "version": "0.7.1"
		  }
		 },
		 "nbformat": 4,
		 "nbformat_minor": 0
}
