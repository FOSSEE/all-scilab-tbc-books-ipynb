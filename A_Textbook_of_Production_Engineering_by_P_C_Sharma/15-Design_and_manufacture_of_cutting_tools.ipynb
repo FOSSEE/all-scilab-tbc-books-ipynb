{
"cells": [
 {
		   "cell_type": "markdown",
	   "metadata": {},
	   "source": [
       "# Chapter 15: Design and manufacture of cutting tools"
	   ]
	},
{
		   "cell_type": "markdown",
		   "metadata": {},
		   "source": [
			"## Example 15.10: find_MRR_power_torque_and_time.sce"
		   ]
		  },
  {
"cell_type": "code",
	   "execution_count": null,
	   "metadata": {
	    "collapsed": true
	   },
	   "outputs": [],
"source": [
"clc\n",
"l = 300 // length in mm\n",
"w = 100 // width in mm\n",
"f = 0.25 // feed in mm/tooth\n",
"d = 3.2 // depth of cut in mm\n",
"D = 50 // cutter diameter in mm\n",
"n = 20 // number of cutter teeth\n",
"N = 100 // cutter speed in rev./min.\n",
"tf = f*n*N // table feed in mm/min.\n",
"mrr = w*d*tf // metal removal rate in mm^3/min.\n",
"mrr = mrr/60 // mm^3/s\n",
"p = 6*mrr // cutting power from table 14.2 in watts\n",
"omega = 2*%pi*N/60 // rpm\n",
"T = p/omega // torque in N.m\n",
"att = sqrt((D*d)-(d^2)) // added table travel in mm\n",
"t = (l+att)/tf // cutting time in min.\n",
"t = t*60 // s\n",
"printf('\n MRR = %0.2f mm^3/s\n Cutting power = %d watts\n Torque = %0.2f N.m\n Cutting time = %0.1fs' , mrr,p,T,t)"
   ]
   }
,
{
		   "cell_type": "markdown",
		   "metadata": {},
		   "source": [
			"## Example 15.1: calculate_horsepower_at_cutter_and_motor.sce"
		   ]
		  },
  {
"cell_type": "code",
	   "execution_count": null,
	   "metadata": {
	    "collapsed": true
	   },
	   "outputs": [],
"source": [
"clc\n",
"w = 10 // width of cut in cm\n",
"h = 0.32 // depth of cut in cm\n",
"n = 8 // number of teeth in cutter\n",
"ft = 0.033 // feed rate per tooth\n",
"N = 200 // cutter speed in rpm\n",
"ita = 60/100 // efficiency\n",
"f = n*ft*N // feed rate in cm/min.\n",
"mrr = w*h*f // metal removal rate in cm^3/min.\n",
"k = 8.2 // machinibility factor from table 15.3\n",
"hpc = mrr/k // horsepower at cutter\n",
"hpm = hpc/ita // horsepower at motor\n",
"printf('\n Horsepower at cutter = %0.2f\n Horsepower at motor = %0.2f' , hpc , hpm)\n",
"// 'Answers vary due to round off error'"
   ]
   }
,
{
		   "cell_type": "markdown",
		   "metadata": {},
		   "source": [
			"## Example 15.2: Determine_broaching_power_and_Design_broach.sce"
		   ]
		  },
  {
"cell_type": "code",
	   "execution_count": null,
	   "metadata": {
	    "collapsed": true
	   },
	   "outputs": [],
"source": [
"clc\n",
"l = 35 // length of bore in mm\n",
"v = 0.15 // cutting speed in m/s\n",
"t1 = 0.01 // upper limit in mm\n",
"t2 = 0.05 // upper limit in mm\n",
"D = 32.25 // finished broach in mm\n",
"D1 = 32.25+t2 // mm\n",
"d = 32.75 // finish diameter in mm\n",
"d1 = 32.75 + t1 //finish diameter of hole in mm\n",
"s = 0.05 // mm\n",
"B = 1.30 // blunt broach factor\n",
"c = 45 // specific cutting force in N/mm^2\n",
"n = 3 // number of teeth cutting at a time\n",
"F = n*%pi*d1*s*c*B // force needed for broaching in N\n",
"bp = F*v/1000 // Broaching power in kw\n",
"// broach design\n",
"p = 1.75*sqrt(l) // pitch in mm\n",
"theta = 10 // face angle in degree\n",
"alha1 = 1.5 // relief angle for roughing in degree\n",
"alha2 = 1.0 // relief angle for finishing in degree\n",
"w = 0.3*p // width of land in mm\n",
"h = 0.4*p // depth of cutting teeth in mm\n",
"r = 0.3*p // tooth fillet radius in mm\n",
"T = (d1-D1)/2 // mm\n",
"n = T/s // number of cutting teeth\n",
"n = round(n)\n",
"l = (n+7)*p //length of toothed portion of broach in mm\n",
"printf('\n (i)Broaching power = %0.4f kW',bp)\n",
"disp('(ii) Broach Design')\n",
"printf(' (a) Pitch diameter = %0.2fmm\n (b) width of land = %0.2f mm \n    depth of cutting teeth = %0.2f mm\n    Tooth fillet radius= %0.2f mm', p,w,h,r)\n",
"printf('\n (c) Length of toothed portion of broach = %d mm', l)\n",
"// 'Answers vary due to round off error'"
   ]
   }
,
{
		   "cell_type": "markdown",
		   "metadata": {},
		   "source": [
			"## Example 15.3: Estimate_moment_thrust_force_and_power.sce"
		   ]
		  },
  {
"cell_type": "code",
	   "execution_count": null,
	   "metadata": {
	    "collapsed": true
	   },
	   "outputs": [],
"source": [
"clc\n",
"Hb = 200 // brinell hardness\n",
"d = 12.7 // diameter in mm\n",
"f = 0.254 // feed in mm/rev.\n",
"N = 100 // rpm\n",
"M = (Hb*(d)^2*f)/8 //moment in kgf-mm\n",
"k = 1.1 //material factor\n",
"p = (1.25*(d)^2*k*N*(0.056+1.5*f))/(10)^5 // power in kW\n",
"T1a = (1.7*M)/d // thrust force kgf\n",
"T1b = (3.5*M)/d // kgf\n",
"T1 = (T1a+T1b)/2 // average\n",
"w = 0.14*d // thickness in mm\n",
"T2a = (0.1*%pi*(w)^2*Hb)/4 // thrust force kgf\n",
"T2b = (0.2*%pi*(w)^2*Hb)/4 // thrust force kgf\n",
"T2 = (T2a+T2b)/2 // average\n",
"avg = T1+T2 // kgf\n",
"thrust = 1.16*k*d*(100*f)^0.85 // kgf\n",
"printf('\n Moment = %0.1f kgf-mm\n Power = %0.3f hp\n Average force = %d kgf\n Thrust force = %0.1f kgf' ,M, p ,avg , thrust)\n",
"// Error in textbook"
   ]
   }
,
{
		   "cell_type": "markdown",
		   "metadata": {},
		   "source": [
			"## Example 15.4: Design_shell_inserted_blade_reamer.sce"
		   ]
		  },
  {
"cell_type": "code",
	   "execution_count": null,
	   "metadata": {
	    "collapsed": true
	   },
	   "outputs": [],
"source": [
"clc\n",
"d = 55 // diameter in mm\n",
"ul = 0.035 // upper limit in mm\n",
"ll = 0.000 // lower limit in mm\n",
"Dmax = d+ul // maximum diameter of hole in mm\n",
"Dmin = d+ll // minimum diameter of hole in mm\n",
"IT = 0.035 // hole tolerence in mm\n",
"dmax = Dmax-0.15*IT // maximum diameter of reamer in mm\n",
"dmin = dmax-0.35*IT // minimum diameter of reamer in mm\n",
"l = ((d/4)+(d/3))/2 // length of guiding section in mm\n",
"Z = 1.5*sqrt(d)+2 // number of teeth\n",
"Z = ceil(Z)\n",
"printf('\n 1 Diameter of reamer \n Maximum diameter of reamer = %0.3f mm \n Minimum diameter of reamer = %0.3f mm \n 2 Back taper = 0.05 mm \n 3 Values of various angles \n Rake angle = 5 degree \n Plan approach angle = 45 degree \n Circular land = 0.25 to 0.50 mm \n Secondary clearance angle = 10 degree \n 4 Length of reamer \n Length of fluted portion = 82.5 mm \n Length of reaming allowance = 0.18 mm \n Length of cutting section = 2.25 mm \n Length of guiding section = %d mm \n 5 Number of teeth = %d' , dmax,dmin,l,Z) \n",
"// Answer vary due to round off error"
   ]
   }
,
{
		   "cell_type": "markdown",
		   "metadata": {},
		   "source": [
			"## Example 15.5: To_design_single_point_cutting_tool.sce"
		   ]
		  },
  {
"cell_type": "code",
	   "execution_count": null,
	   "metadata": {
	    "collapsed": true
	   },
	   "outputs": [],
"source": [
"clc\n",
"Pm = 10 // power of motor in kw\n",
"v = 40 // cutting speed in m/min.\n",
"ita = 70 // efficiency\n",
"ita = ita/100\n",
"Pc = Pm*ita \n",
"Fc = (Pc*1000*60)/v // cutting force\n",
"sigmab = 250 // stress in Mpa\n",
"B = sqrt((Fc*1.25*6)/(sigmab*1.6)) // width of shank in mm\n",
"h = 1.6*B // hieght of shank in mm\n",
"l = 1.25*h // shank overang in mm\n",
"printf('\n The width of shank = %0.1f mm\n Height of shank = %0.2f mm\n Shank overhang = %0.1f mm' , B,h,l)\n",
"// 'Answers vary due to round off error'"
   ]
   }
,
{
		   "cell_type": "markdown",
		   "metadata": {},
		   "source": [
			"## Example 15.8: find_various_terms_for_stainless_steel.sce"
		   ]
		  },
  {
"cell_type": "code",
	   "execution_count": null,
	   "metadata": {
	    "collapsed": true
	   },
	   "outputs": [],
"source": [
"clc\n",
"l = 150 // length in mm\n",
"D = 12.70 // diameter in mm\n",
"dia = 12.19 // diameter on centre lathe in mm \n",
"N = 400 // spindle speed in rev./min\n",
"s = 203.20 // axial speed in mm/min.*####\n",
"v = (%pi*D*N)/(1000*60) // cutting velocity in m/s\n",
"d = (D-dia)/2 // depth of cut in mm\n",
"f = s/N // feed in mm/rev.\n",
"Dave = (D+dia)/2 // average diameter in mm\n",
"V = %pi*Dave*N\n",
"a = d*f // area of cut in mm^2\n",
"mrr = a*V // metal removal rate in mm^3/min.\n",
"T = l/(f*N) // machine timing in min.\n",
"c = 56 // constant from table \n",
"p = d*f*v*60*c // power in watts\n",
"omega = (2*%pi*N)/60 // rpm\n",
"t = p/omega // torque in Nm\n",
"Fc = (2*t*1000)/Dave // cutting force in N\n",
"printf('\n Cutting speed = %0.2f m/s\n MRR = %d mm^3/min.\n Time to cut = %0.2f min.\n Power = %0.1f watts\nCutting force = %d N' , v , mrr , T ,p ,Fc)\n",
"// Answers are given wrong in book"
   ]
   }
,
{
		   "cell_type": "markdown",
		   "metadata": {},
		   "source": [
			"## Example 15.9: To_find_MRR_power_and_torque.sce"
		   ]
		  },
  {
"cell_type": "code",
	   "execution_count": null,
	   "metadata": {
	    "collapsed": true
	   },
	   "outputs": [],
"source": [
"clc\n",
"f = 0.2 // feed in mm/rev.\n",
"N = 800 // spindle speed in rev./min.\n",
"d = 10 // doameter of hole in mm\n",
"mrr = %pi*(d^2)*f*N/4 // metal removal rate in mm^3/min.\n",
"mrr = mrr/60 // mm^3/s\n",
"p = 0.5*mrr // cutting power from table 14.2 in watts\n",
"omega = 2*%pi*N/60 // rpm\n",
"T = p/omega // torque in N.m\n",
"printf('\n MRR = %0.2f mm^3/s\n Cutting power = %0.3f watts\n Torque = %0.2f N.m' , mrr,p,T)"
   ]
   }
],
"metadata": {
		  "kernelspec": {
		   "display_name": "Scilab",
		   "language": "scilab",
		   "name": "scilab"
		  },
		  "language_info": {
		   "file_extension": ".sce",
		   "help_links": [
			{
			 "text": "MetaKernel Magics",
			 "url": "https://github.com/calysto/metakernel/blob/master/metakernel/magics/README.md"
			}
		   ],
		   "mimetype": "text/x-octave",
		   "name": "scilab",
		   "version": "0.7.1"
		  }
		 },
		 "nbformat": 4,
		 "nbformat_minor": 0
}
