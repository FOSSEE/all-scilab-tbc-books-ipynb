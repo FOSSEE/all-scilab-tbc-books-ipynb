{
"cells": [
 {
		   "cell_type": "markdown",
	   "metadata": {},
	   "source": [
       "# Chapter 13: Analysis of metal forming processes"
	   ]
	},
{
		   "cell_type": "markdown",
		   "metadata": {},
		   "source": [
			"## Example 13.10: Determine_extrusion_load.sce"
		   ]
		  },
  {
"cell_type": "code",
	   "execution_count": null,
	   "metadata": {
	    "collapsed": true
	   },
	   "outputs": [],
"source": [
"clc\n",
"sigma_0 = 250 // N/mm^2\n",
"d1 = 5 // initial wire diameter in mm\n",
"d0 = 15 // final wire diameter in mm \n",
"r0 = d0/2\n",
"r1 = d1/2\n",
"x = (r0/r1)^2 // mm\n",
"alpha = 45 // angle of contact\n",
"alpha = alpha*%pi/180\n",
"mu = 0.1 // coefficient of friction\n",
"B = mu*cotg(alpha) \n",
"sigma_x0  = (sigma_0*(1+B)*(1-(x)^B))/B // N/mm^2\n",
"sigma_x0 = -sigma_x0\n",
"l = 37.5 // length 0f billet in mm\n",
"tau1 = sigma_0/2 // Mpa\n",
"Pe = sigma_x0 + (4*tau1*l)/d0 // extrusion pressure in Mpa\n",
"el = Pe*%pi*(r0)^2 // extrusion load in MN\n",
"printf('\n Extrusion load = %d MN' , el/10000)\n",
""
   ]
   }
,
{
		   "cell_type": "markdown",
		   "metadata": {},
		   "source": [
			"## Example 13.11: To_find_roll_pressures.sce"
		   ]
		  },
  {
"cell_type": "code",
	   "execution_count": null,
	   "metadata": {
	    "collapsed": true
	   },
	   "outputs": [],
"source": [
"clc\n",
"h0 = 4.05 // thickness of plate in mm \n",
"h1 = 3.55 // mm\n",
"D = 500 // rolled diameter in mm\n",
"r = D/2 // rolled radius in mm\n",
"mu = 0.04 // coefficient of friction\n",
"sigma = 210 // N/mm^2\n",
"delta_h = h0-h1 // mm\n",
"p = 2*sigma/sqrt(3) // N/mm^2\n",
"alpha = acos(1-(delta_h/D)) // angle of contact\n",
"Ho = 2*sqrt(r/h1)*atan(sqrt(r/h1)*alpha)\n",
"Hn1 = (Ho - (log(h0/h1))/mu)/2\n",
"theta = sqrt(h1/r)*tan(sqrt(h1/r)*(Hn1/2)) // radians\n",
"hn = h1 + 2*r*(1-cos(theta)) // mm\n",
"pn1 = p*hn*exp(mu*Hn1)/h1 // roll pressure in N/mm^2\n",
"// b) roll pressure when coefficient of friction is 0.4\n",
"mu2 = 0.4 // coefficient of friction\n",
"Hn2 = (Ho - (log(h0/h1))/mu2)/2\n",
"theta = sqrt(h1/r)*tan(sqrt(h1/r)*(Hn2/2)) // radians\n",
"hn2 = h1 + r*theta^2 // mm\n",
"pn2 = (p*hn2*exp(mu2*Hn2))/h1 // roll pressure in N/mm^2\n",
"// c) if tension is applied of 35 N/mm^2\n",
"sigma_f = 35 // front tension in N/mm^2\n",
"pn3 = (p-sigma_f)*hn*exp(mu*Hn1)/h1 // roll ressure in N/mm^2\n",
"printf('\n (a) Roll pressure at enter and exit = %0.1f N/mm^2\n    Roll pressure at neutral plane = %0.2f N/mm^2' ,p , pn1)\n",
"printf('\n (b) Roll pressure at neutral point when co-efficient of friction is 0.40 = %0.2f N/mm^2' , pn2)\n",
"printf('\n (c) Roll pressure when 35 N/mm^2 tension is applied at neutral point = %0.2f N/mm^2' , pn3)\n",
"// 'Answers vary due to round off error'\n",
""
   ]
   }
,
{
		   "cell_type": "markdown",
		   "metadata": {},
		   "source": [
			"## Example 13.12: Determine_neutral_plane.sce"
		   ]
		  },
  {
"cell_type": "code",
	   "execution_count": null,
	   "metadata": {
	    "collapsed": true
	   },
	   "outputs": [],
"source": [
"clc\n",
"h1 = 6.35 // thickness in  mm\n",
"mu = 0.2 // coefficient of friction\n",
"r = 50 // rolled radius in cm\n",
"r = r*10 // mm\n",
"R = 30 // reduction in percent\n",
"h0 = h1*100/(100-R) // mm \n",
"delta_h = h0-h1 // mm\n",
"alpha = acos(1-(delta_h/(2*r))) // angle of contact\n",
"Ho = 2*sqrt(r/h1)*atan(sqrt(r/h1)*alpha)\n",
"Hn = (Ho - (log(h0/h1))/mu)/2 \n",
"theta = sqrt(h1/r)*tan(sqrt(h1/r)*(Hn/2)) // neutral plane in radians\n",
"theta = theta*180/%pi // neutral plane in degrees\n",
"printf('\n Neutral plane = %0.2f degree' , theta)\n",
"// 'Answers vary due to round off error'"
   ]
   }
,
{
		   "cell_type": "markdown",
		   "metadata": {},
		   "source": [
			"## Example 13.1: To_find_drawing_load.sce"
		   ]
		  },
  {
"cell_type": "code",
	   "execution_count": null,
	   "metadata": {
	    "collapsed": true
	   },
	   "outputs": [],
"source": [
"clc\n",
"sigma_0 = 240 // N/mm^2\n",
"d1 = 5 // initial wire diameter in mm\n",
"d0 = 5.5 // final wire diameter in mm\n",
"x = d1/d0 // mm\n",
"alpha = 8 // angle of contact\n",
"alpha = alpha*%pi/180\n",
"mu = 0.1 // coefficient of friction\n",
"B = mu*cotg(alpha) \n",
"sigma_d  = (sigma_0*(1+B)*(1-(x)^(2*B)))/B // N/mm^2\n",
"l = 3 // die land in mm\n",
"mu = 0.1 // coefficient of friction\n",
"r1 = d1/2 // mm\n",
"sigma_t = sigma_0 - (sigma_0 - sigma_d)/exp((2*mu*l)/r1) // N/mm^2\n",
"dl = sigma_t*%pi*(r1)^2 // drawing load in N\n",
"printf('\n Total drawing load = %0.1f N' , dl)\n",
"// Answers vary due to round off error\n",
""
   ]
   }
,
{
		   "cell_type": "markdown",
		   "metadata": {},
		   "source": [
			"## Example 13.2: Calculate_drawing_force.sce"
		   ]
		  },
  {
"cell_type": "code",
	   "execution_count": null,
	   "metadata": {
	    "collapsed": true
	   },
	   "outputs": [],
"source": [
"clc\n",
"alpha = 15 // angle of contact\n",
"alpha = alpha*%pi/180\n",
"bita = 0 // degree\n",
"mu = 0.1 // coefficient of friction\n",
"mu1 = mu\n",
"mu2 = mu\n",
"h1 = 1.75 // mm\n",
"h0 = 2.5 // mm\n",
"B = (mu1+mu2)/(tan(alpha)-tan(bita)) \n",
"y1 = (1+B)*(1-(h1/h0)^B)/B  //sigma_d/sigma_0 for plug mandrels in N/mm^2\n",
"z = 1/((h0/h1)-1)\n",
"y2 = log10(z)// sigma_d/sigma_0 for movable mandrels in N/mm^2\n",
"printf('\n The pipe drawing force force on plug mandrels = %0.3f \n The pipe drawing forcw on mandrels = %0.3f',y1,y2)\n",
"disp('Use of movable mandrel substantially reduces drawing force')"
   ]
   }
,
{
		   "cell_type": "markdown",
		   "metadata": {},
		   "source": [
			"## Example 13.3: find_neutral_section_slips_and_pressure.sce"
		   ]
		  },
  {
"cell_type": "code",
	   "execution_count": null,
	   "metadata": {
	    "collapsed": true
	   },
	   "outputs": [],
"source": [
"clc\n",
"h0 = 25 // thickness of plate in mm \n",
"h1 = 20 // mm \n",
"delta_h = h0-h1 // mm\n",
"sigma = 100 // maximum pressure in N/mm^2\n",
"D = 500 // rolled diameter in mm\n",
"r = D/2 // rolled radius in mm\n",
"alpha = acos(1-(delta_h/D)) // angle of contact in radians\n",
"mu = tan(alpha) // coefficient of friction\n",
"Ho = 2*sqrt(r/h1)*atan(sqrt(r/h1)*mu)\n",
"Hn = (Ho - (log(h0/h1))/mu)/2\n",
"theta = sqrt(h1/r)*tan(sqrt(h1/r)*(Hn/2)) // radian\n",
"hn = h1 + r*theta^2 // neutral section in mm\n",
"x = hn/h0 \n",
"bs = (1-x)*100 // backward slip\n",
"y = hn/h1\n",
"fs = (y-1)*100 // forward slip\n",
"sigma0 = 2*sigma/sqrt(3)\n",
"pn = sigma0*hn*exp(mu*Hn)/h1 //N/mm^2\n",
"printf('\n Neutral section = %0.1f mm' , hn)\n",
"printf('\n Backward slip = %0.1f percent\n Forward slip = %0.1f percent' , bs,fs)\n",
"printf('\n Maximum pressure = %0.1f N/mm^2' , pn)\n",
" // 'Answers vary due to round off error'"
   ]
   }
,
{
		   "cell_type": "markdown",
		   "metadata": {},
		   "source": [
			"## Example 13.4: To_determine_maximum_force.sce"
		   ]
		  },
  {
"cell_type": "code",
	   "execution_count": null,
	   "metadata": {
	    "collapsed": true
	   },
	   "outputs": [],
"source": [
"clc\n",
"Do = 250 // diameter in mm\n",
"ho = 250 // hieght in mm\n",
"delta_h = 100 // mm\n",
"h = 150 // mm\n",
"sigma0 = 55 // N/mm^2\n",
"d = Do*sqrt(ho/(ho-delta_h)) // diameter in mm \n",
"mu = 0.42 // coefficient of friction\n",
"R = 162.5 // mm\n",
"pa = sigma0/2*(h/(mu*R))^2*(%e^(2*mu*R/h)-2*mu*R/h-1) // N/mm^2\n",
"p = pa*%pi*(R)^2 // force in kN\n",
"printf('\n Force = %d kN',p/1000)\n",
""
   ]
   }
,
{
		   "cell_type": "markdown",
		   "metadata": {},
		   "source": [
			"## Example 13.5: Determine_sticking_radius_and_total_load.sce"
		   ]
		  },
  {
"cell_type": "code",
	   "execution_count": null,
	   "metadata": {
	    "collapsed": true
	   },
	   "outputs": [],
"source": [
"clc\n",
"d = 150 // diameter in mm\n",
"h = 10 // thickness in mm\n",
"R = d/2 // radius in mm\n",
"mu = 0.2 // coefficient of friction\n",
"sigma_0 = 200 // N/mm^2\n",
"Rs = R - (h/(2*mu))*log(1/(sqrt(3)*mu)) // sticking radius in mm\n",
"Ps = sigma_0*exp(2*mu*(R-Rs)/h) // pressure at sticking radius in N/mm^2\n",
"function y=f(r)\n",
"    y=2*%pi*r*sigma_0*exp(2*mu/h*(R-r))\n",
"endfunction\n",
"L_sld = intg(48.5,75,f) \n",
"L_sld = L_sld/1000 // load on sliding portion in kN\n",
"Pc = Ps + (2*sigma_0*Rs)/(h*sqrt(3)) // pressure at centre in N/mm^2\n",
"L_sp = (Pc+Ps)*%pi*(Rs)^2/(2*1000) // load on sticking portion in kN\n",
"F_l = L_sld + L_sp // total forging load in kN\n",
"printf('\n Sticking radius = %0.1f mm \n Total forging load = %0.3f MN',Rs ,F_l/1000)\n",
"// 'Answers vary due to round off error'"
   ]
   }
,
{
		   "cell_type": "markdown",
		   "metadata": {},
		   "source": [
			"## Example 13.7: To_find_drawing_load_and_power.sce"
		   ]
		  },
  {
"cell_type": "code",
	   "execution_count": null,
	   "metadata": {
	    "collapsed": true
	   },
	   "outputs": [],
"source": [
"clc\n",
"RA = 0.30\n",
"d = 12 // diameter in mm\n",
"alpha = 6  // angle of contact in degree\n",
"alpha = 6*%pi/180 // angle of contact in radian\n",
"mu = 0.10 // coefficient of friction\n",
"sigma_0 = 240  // N/mm^2\n",
"B = mu*cotg(alpha)\n",
"x = 1 - RA\n",
"sigma_d  = (sigma_0*(1+B)*(1-(x)^B))/B // N/mm^2\n",
"r1  = sqrt(x)*(d/2) // mm\n",
"l = sigma_d*%pi*(r1)^2 // load in kN\n",
"ita = 98 // efficiency\n",
"ita = ita/100\n",
"s = 2.3 // drawing speed in m/s\n",
"P = (l*s)/ita // kW\n",
"printf('\n Drawing load = %0.2f kN\n Power of motor = %0.2f kW' , l/1000 ,P/1000 )\n",
"// 'Answers vary due to round off error'"
   ]
   }
,
{
		   "cell_type": "markdown",
		   "metadata": {},
		   "source": [
			"## Example 13.8: calculate_drawing_load_and_power_rating.sce"
		   ]
		  },
  {
"cell_type": "code",
	   "execution_count": null,
	   "metadata": {
	    "collapsed": true
	   },
	   "outputs": [],
"source": [
"clc\n",
"mu1 = 0.15 // coefficient of friction   \n",
"mu2 = 0.18 // coefficient of fricton\n",
"alpha = 14 // angle of contact in degree\n",
"alpha = alpha*%pi/180\n",
"bita = 10 // semi-cone angle in degree\n",
"bita = bita*%pi/180\n",
"sigma_0 = 1.40 // kN/mm^2\n",
"h0 = 1.5 //mm\n",
"h1 = 1 // mm\n",
"B = (mu1+mu2)/(tan(alpha)+tan(bita))\n",
"sigmad = (sigma_0*(1+B)*(1-(h1/h0)^B))/B // drawing stress in kN/mm^2\n",
"d1 = 11 // outside diameter in mm\n",
"t = 1 // thickness in mm\n",
"d2 = d1-2*t // mm\n",
"a = (%pi*((d1)^2-(d2)^2))/4 // area in mm^2\n",
"l = sigmad*a // load in kN\n",
"s = 0.65 // drawing speed in m/s\n",
"w = l*s // work in kJ/s\n",
"p = w // power in kW\n",
"printf('\n Drawing load = %0.3f kN\n Power rating of motor = %0.2f kW' , l , p)\n",
"// 'Answers vary due to round off error'\n",
""
   ]
   }
,
{
		   "cell_type": "markdown",
		   "metadata": {},
		   "source": [
			"## Example 13.9: To_calculate_forging_loads.sce"
		   ]
		  },
  {
"cell_type": "code",
	   "execution_count": null,
	   "metadata": {
	    "collapsed": true
	   },
	   "outputs": [],
"source": [
"clc\n",
"sigma_0 = 50 // pressure at start in MPa\n",
"B = 0.9 // width in m\n",
"h1 = 0.2 // thickness in m\n",
"b = 0.3 // tool bite in m\n",
"// At commencement of forging\n",
"FL = sigma_0*B*b*(1+(b/(4*h1))) // forging load in MN\n",
"// At completion of forging\n",
"h2 = 0.1 // thickness in m\n",
"sigma_0c = 150 // pressure at completion in MPa\n",
"FL2 = sigma_0c*B*b*(1+(b/(4*h2))) // forging load in MN\n",
"printf('\n Forging load at start of forging = %0.4f MN\n Forging load at completion of forging = %0.3f MN' , FL , FL2)"
   ]
   }
],
"metadata": {
		  "kernelspec": {
		   "display_name": "Scilab",
		   "language": "scilab",
		   "name": "scilab"
		  },
		  "language_info": {
		   "file_extension": ".sce",
		   "help_links": [
			{
			 "text": "MetaKernel Magics",
			 "url": "https://github.com/calysto/metakernel/blob/master/metakernel/magics/README.md"
			}
		   ],
		   "mimetype": "text/x-octave",
		   "name": "scilab",
		   "version": "0.7.1"
		  }
		 },
		 "nbformat": 4,
		 "nbformat_minor": 0
}
