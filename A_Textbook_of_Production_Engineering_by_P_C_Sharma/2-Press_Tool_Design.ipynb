{
"cells": [
 {
		   "cell_type": "markdown",
	   "metadata": {},
	   "source": [
       "# Chapter 2: Press Tool Design"
	   ]
	},
{
		   "cell_type": "markdown",
		   "metadata": {},
		   "source": [
			"## Example 2.10: Determine_developed_length.sce"
		   ]
		  },
  {
"cell_type": "code",
	   "execution_count": null,
	   "metadata": {
	    "collapsed": true
	   },
	   "outputs": [],
"source": [
"clc\n",
"// from figure 2.74\n",
"l1 = 76 - ( 2.3 + 0.90) // length1 in mm\n",
"l2 = 115 - (2.3 + 0.90) // length2 in mm\n",
"t = 2.3 // mm\n",
"r = 0.90 // inner radius in mm\n",
"k = t/3 // mm\n",
"B = 0.5*%pi*(r + k) // bending allowance in mm\n",
"d = l1 + l2 + B // developed length in mm\n",
"printf('\n Developed length = %0.2f mm' , d)\n",
"// Answers vary due to round off error"
   ]
   }
,
{
		   "cell_type": "markdown",
		   "metadata": {},
		   "source": [
			"## Example 2.11: To_calculate_bending_force.sce"
		   ]
		  },
  {
"cell_type": "code",
	   "execution_count": null,
	   "metadata": {
	    "collapsed": true
	   },
	   "outputs": [],
"source": [
"clc\n",
"t = 3.2 // thickness of blank in mm\n",
"l = 900 // bending length in mm\n",
"sigma = 400 // ultimate tensile strength in N/mm^2\n",
"k = 0.67 // die opening factor\n",
"r1 = 9.5 // punch radius in mm\n",
"r2 = 9.5 // die edge radius in mm\n",
"c = 3.2 // clearance in mm\n",
"w = r1 + r2 + c // width between contact points batween die and punch in mm\n",
"F= (k*l*sigma*t^2)/w // bending force in N\n",
"F=floor(F/10)*10 // N\n",
"printf('\n bending force = %0.2f kN' ,F/1000)"
   ]
   }
,
{
		   "cell_type": "markdown",
		   "metadata": {},
		   "source": [
			"## Example 2.12: To_calculate_bending_force.sce"
		   ]
		  },
  {
"cell_type": "code",
	   "execution_count": null,
	   "metadata": {
	    "collapsed": true
	   },
	   "outputs": [],
"source": [
"clc\n",
"k = 1.33 // die opening factor\n",
"l = 1200 // bend length in mm\n",
"sigma = 455 // ultimate tensile strength in N/mm^2\n",
"t = 1.6 // blank thickness in mm\n",
"w = 8*t // width of die opening in mm\n",
"F = k*l*sigma*t^2/w // bending force in N \n",
"printf('\n bending force  = %0.2f kN', F/1000)"
   ]
   }
,
{
		   "cell_type": "markdown",
		   "metadata": {},
		   "source": [
			"## Example 2.13: calculate_capacity_of_double_bending_die.sce"
		   ]
		  },
  {
"cell_type": "code",
	   "execution_count": null,
	   "metadata": {
	    "collapsed": true
	   },
	   "outputs": [],
"source": [
"clc\n",
"c = 1.25 // clearance in mm\n",
"r1 = 3 // die radius in mm\n",
"r2 = 1.5 // punch radius in mm\n",
"sigma = 315 // ultimate tensile strength in MPa\n",
"t = 1 // thickness in mm\n",
"l = 50 // width at bend in mm\n",
"w = r1 + r2 +c // width between contact points on die and punch in mm\n",
"F = 0.67*l*sigma*t^2/w // bending force in N\n",
"F_p = 0.67*sigma*l*t // pad force in N\n",
"sigma_c = 560 // setting pressure in MPa\n",
"b1 = 2 // beads on punch\n",
"b = b1*r1 // mm\n",
"F_b = sigma_c*l*b // bottoming force in N\n",
"F_o = F_p + F_b // Force required when bottoming is used in N\n",
"F_n = F +F_p // Force required when bottoming is not used in N\n",
"printf('\n Force required when bottoming is used  = %0.1f tonnes' ,F_o/(9.81*1000))\n",
"printf('\n Force required when bottoming is not used  = %0.3f tonnes' , F_n/(9.81*1000))\n",
""
   ]
   }
,
{
		   "cell_type": "markdown",
		   "metadata": {},
		   "source": [
			"## Example 2.14: To_calculate_cutting_force.sce"
		   ]
		  },
  {
"cell_type": "code",
	   "execution_count": null,
	   "metadata": {
	    "collapsed": true
	   },
	   "outputs": [],
"source": [
"clc\n",
"w = 2 // width in mm\n",
"t = 5 // thickness in mm\n",
"theta=6 // shear in degrees\n",
"tau = 382.5 // ultimate shear stress in MPa\n",
"F = w*t*tau*1000 // cutting force in N\n",
"l = t/sin(theta*%pi/180) // length to be cut in mm\n",
"F_i = l*t*tau // cutting force in N\n",
"printf('\n cutting force with parallel cutting edges = %0.3f MN\n cutting force when shear is considered = %0.2f kN ',F/10^6 ,F_i/1000)\n",
""
   ]
   }
,
{
		   "cell_type": "markdown",
		   "metadata": {},
		   "source": [
			"## Example 2.15: Determine_blank_and_punch_diameter.sce"
		   ]
		  },
  {
"cell_type": "code",
	   "execution_count": null,
	   "metadata": {
	    "collapsed": true
	   },
	   "outputs": [],
"source": [
"clc\n",
"d1 = 105 // inside diameter in mm\n",
"h = 90 // depth in mm\n",
"t = 1 // thickness in mm\n",
"D = sqrt(d1^2+4*d1*h) // blank diameter in mm\n",
"tr = t*100/D // thickness ratio\n",
"// from table safe drawing ratio is 1.82\n",
"r = 1.82 // draw ratio\n",
"d2 = D/r // diameter for first draw in mm\n",
"d = 130 // Let diameter for first draw in mm\n",
"ratio1 = D/d // D/d for first draw \n",
"ratio2 = d/d1 // D/d for second draw\n",
"h1 =((D)^2-(d)^2)/(4*d) // Depth of first draw in mm\n",
"sigma = 415 // N/mm^2\n",
"c = 0.65 // constant\n",
"pc = %pi*d*t*sigma(D/d - c) // press capacity in kN\n",
"printf('\n Blank diameter = %d mm \n Thickness ratio = %0.3f \n Diameter for first draw = %d mm \n Depth of first draw = %0.2f mm \n Press capacity = %0.2f kN' ,D,tr,d2,h1,pc/1000)\n",
"// Answers vary due to round off error"
   ]
   }
,
{
		   "cell_type": "markdown",
		   "metadata": {},
		   "source": [
			"## Example 2.16: To_find_drawing_operations_and_force.sce"
		   ]
		  },
  {
"cell_type": "code",
	   "execution_count": null,
	   "metadata": {
	    "collapsed": true
	   },
	   "outputs": [],
"source": [
"clc\n",
"d = 80 // diameter in mm\n",
"h = 250 // height in mm\n",
"D = sqrt((d^2+4*d*h))/10 // blank diameter in cm\n",
"D1 = 0.5*D // diameter after first draw in cm\n",
"// let reduction be 40% in second draw\n",
"D2 = D1-0.4*D1 // diameter after scond draw in cm\n",
"R = (1 - (d/(10*D2)))*100 // percentage reduction for third draw\n",
"l1 = ((D)^2-(D1)^2)/(4*D1) // height of cup after first draw in cm\n",
"l2 = ((D)^2-(D2)^2)/(4*D2) // height of cup after first draw in cm\n",
"l3 = ((D)^2-(d/10)^2)/(4*d/10) // height of cup after first draw in cm\n",
"t = 3 // mm\n",
"sigma = 250 // N/mm^2\n",
"C = 0.66\n",
"F = %pi*d/10*t*sigma*((D*10/d)-C) // drawing force in kN\n",
"printf('\n Diameter after first draw = %0.1f \n Diameter after second draw = %0.2f \n Percentage reduction after third draw = %d percent',D1,D2,R)\n",
"printf('\n Height of cup after first draw = %0.2f cm\n Height of cup after second draw = %0.2f cm\n Height of cup after third draw = %0.2f cm', l1,l2,l3)\n",
"printf('\n Drawing force = %0.3f kN',F/1000)\n",
"// Answers vary due to round off error"
   ]
   }
,
{
		   "cell_type": "markdown",
		   "metadata": {},
		   "source": [
			"## Example 2.17: Determine_developed_length.sce"
		   ]
		  },
  {
"cell_type": "code",
	   "execution_count": null,
	   "metadata": {
	    "collapsed": true
	   },
	   "outputs": [],
"source": [
"clc\n",
"// from figure 2.75 (a)\n",
"r1 = 30 // radius in mm\n",
"t = 10 // thickness in mm\n",
"h1 = 300 // height in mm\n",
"ir1 = r1-t // inner radius of bends in mm\n",
"L1 = h1-(ir1+t) // mm\n",
"alpha1 = 90 // degree\n",
"r2 = 2*t // mm\n",
"k = 0.33*t // mm\n",
"L2 = alpha1*2*%pi*(r2+k)/360 // mm\n",
"w = 200 // mm\n",
"L3 = w-2*(t+ir1)// mm\n",
"L4 = L2 //mm\n",
"h2 = 100 // mm\n",
"L5 = h2 -(t+ir1) // mm\n",
"r3 = 150 //mm \n",
"ir2 = r3 - t // inner radius in mm\n",
"alpha2 = 180 // degree\n",
"L6 = alpha2*2*%pi*(ir2+k)/360 // mm\n",
"dl = L1+L2+L3+L4+L5+L6 // Total developed length in mm\n",
"printf('\n Total developed length = %0.2f mm' , dl)\n",
"// Answers vary due to round off error"
   ]
   }
,
{
		   "cell_type": "markdown",
		   "metadata": {},
		   "source": [
			"## Example 2.1: find_total_pressure_and_dimensions.sce"
		   ]
		  },
  {
"cell_type": "code",
	   "execution_count": null,
	   "metadata": {
	    "collapsed": true
	   },
	   "outputs": [],
"source": [
"clc\n",
"D = 50 // Diameter of washer in mm\n",
"t = 4 // thickness of material in mm\n",
"d = 24 // diameter of hole in mm\n",
"p = 360 // shear strength of material in N/mm^2\n",
"F1 = %pi*D*t*p // blanking pressure in N\n",
"F2 = %pi*d*t*p // piercing pressure in N\n",
"F = F1 + F2 // total pressure in N\n",
"d1 = d + 0.4 // piercing die diameter in mm\n",
"d2 = D - 0.4 // blank punch diameter in mm\n",
"c = 0.8*F // press capacity in N\n",
"printf('\n Blanking pressure = %d kN\n Piercing pressure = %0.3f KN\n Total pressure required = %0.1f KN' ,F1/1000,F2/1000,F/1000)\n",
"printf('\n piercing punch diameter = %0.2f cm\n blanking punch diametre = %0.2f cm \n press capacity = %0.2f KN\n', d1/10 , d2/10 , c/1000)\n",
"// Answers vary due to round off error"
   ]
   }
,
{
		   "cell_type": "markdown",
		   "metadata": {},
		   "source": [
			"## Example 2.2: To_find_number_of_draws.sce"
		   ]
		  },
  {
"cell_type": "code",
	   "execution_count": null,
	   "metadata": {
	    "collapsed": true
	   },
	   "outputs": [],
"source": [
"clc\n",
"h = 10 // height of cup in cm\n",
"d = 5 // diameter of cup in cm\n",
"D = sqrt(d^2 + 4*d*h) // blank diameter in cm\n",
"// height daimeter ratio is 2 . Therefore from table 2.9 total reductions are 3\n",
"r1 = 0.45*D // first reduction is 45% \n",
"d1 = D - r1 // diameter at first draw in cm\n",
"r2 = d1*0.25 // second reduction is 25% \n",
"d2 = d1 - r2 // diameter at second draw in cm\n",
"r3 = d2*0.2 // third reduction is 20% \n",
"d3 = d2 - r3 // diameter at third draw in cm\n",
"printf('\n Diameter at first draw  = %0.2f cm\n Diameter at second draw  = %0.2f cm\n Diameter at third draw  =%0.3f cm' , d1 , d2 , d3)\n",
" "
   ]
   }
,
{
		   "cell_type": "markdown",
		   "metadata": {},
		   "source": [
			"## Example 2.3: To_calculate_bending_force.sce"
		   ]
		  },
  {
"cell_type": "code",
	   "execution_count": null,
	   "metadata": {
	    "collapsed": true
	   },
	   "outputs": [],
"source": [
"clc\n",
"K = 1.20 // die-opening factor\n",
"L = 37.5 // Length of strip in cm\n",
"T = 2.5 // thickness of strip in mm\n",
"sigma_ut = 630 // tensile strength in N/mm^2\n",
"W = 16*T // width of die opening in mm\n",
"F = (K*L*10*sigma_ut*T^2)/W // bending force in N\n",
"printf('\n bending force = %0.1f KN' , F/1000)"
   ]
   }
,
{
		   "cell_type": "markdown",
		   "metadata": {},
		   "source": [
			"## Example 2.4: find_blanking_force_and_work_done.sce"
		   ]
		  },
  {
"cell_type": "code",
	   "execution_count": null,
	   "metadata": {
	    "collapsed": true
	   },
	   "outputs": [],
"source": [
"clc\n",
"b = 25 // width of blank in mm\n",
"l = 30 // length of blank in mm\n",
"tau = 450 // ultimate shear stress of material in N/mm^2\n",
"t = 1.5 // thickness of metal strip in mm\n",
"p = 2*(l + b) // perimeter of blank in mm\n",
"f = p*t*tau // blanking force in N\n",
"Pt = 0.25*t // punch travel in mm\n",
"w = f*Pt // work done in Nmm\n",
"printf('\n blanking force  = %0.2f KN\n work done  = %0.2f Nm', f/1000,w/1000)"
   ]
   }
,
{
		   "cell_type": "markdown",
		   "metadata": {},
		   "source": [
			"## Example 2.5: To_find_elastic_recovery_of_material.sce"
		   ]
		  },
  {
"cell_type": "code",
	   "execution_count": null,
	   "metadata": {
	    "collapsed": true
	   },
	   "outputs": [],
"source": [
"clc\n",
"t = 1.5 // thickness in mm\n",
"c = 0.05*t // clearance in mm\n",
"D = 25.4 // outside diameter in mm \n",
"D_o = D - 0.05 // blank die opening in mm\n",
"B_s = D_o - 2*c // blanking punch size in mm\n",
"d = 12.7 // internal diameter in mm \n",
"P_s = d + 0.05 // piercing punch size in mm\n",
"D_s = P_s + 2*c // piercing die size in mm\n",
"printf('\n clearance = %0.3f mm\n blank die opening size = %0.2f mm ',c ,D_o)\n",
"printf('\n blanking punch size = %0.2f mm\n piercing punch size = %0.2f mm\n piercing die size = %0.2f mm',B_s,P_s,D_s )"
   ]
   }
,
{
		   "cell_type": "markdown",
		   "metadata": {},
		   "source": [
			"## Example 2.6: To_find_cutting_forces.sce"
		   ]
		  },
  {
"cell_type": "code",
	   "execution_count": null,
	   "metadata": {
	    "collapsed": true
	   },
	   "outputs": [],
"source": [
"clc\n",
"D = 25.4 // outside diameter in mm \n",
"d = 12.7 // internal diameter in mm\n",
"t = 1.5 // thickness in mm\n",
"tau = 280 // ultimate shearing strength in N/mm^2\n",
"F = %pi*(D + d)*t*tau // total cutting force in N\n",
"F_s = %pi*D*t*tau // cutting force when punches are staggered in N\n",
"k = 0.6 // penetration\n",
"i = 1 // shear of punch in mm\n",
"F_p = (t*k*F)/(k*t +i)// cutting force when both punches act together in N \n",
"printf ('\n shear force when both punch act at same time and no shear is applied = %0.2f kN' , F/1000)\n",
"printf('\n cutting force when punches are staggered = %0.1f kN', F_s/1000)\n",
"printf('\n cutting force when there is penetration and shear on punch = %0.1f kN',F_p/1000)"
   ]
   }
,
{
		   "cell_type": "markdown",
		   "metadata": {},
		   "source": [
			"## Example 2.7: To_calculate_amount_of_shear.sce"
		   ]
		  },
  {
"cell_type": "code",
	   "execution_count": null,
	   "metadata": {
	    "collapsed": true
	   },
	   "outputs": [],
"source": [
"clc\n",
"D = 60 // hole diameter in mm\n",
"tau = 450 // ultimate shear strength in N/mm^2\n",
"t = 2.5 // thickness in mm\n",
"F = %pi*D*t*tau // maximum punch force in N\n",
"w = F*0.4*t // work done in Nm\n",
"f = F/2 // punching force in N\n",
"k = 0.4 // penetration percentage\n",
"i = k*t*(F-f)/f // shear on punch in mm\n",
"printf('\n Amount of shear on punch = %d mm' , i)"
   ]
   }
,
{
		   "cell_type": "markdown",
		   "metadata": {},
		   "source": [
			"## Example 2.8: To_find_economy_of_material.sce"
		   ]
		  },
  {
"cell_type": "code",
	   "execution_count": null,
	   "metadata": {
	    "collapsed": true
	   },
	   "outputs": [],
"source": [
"clc\n",
"// from fig 2.27\n",
"w = 2.5 // cm\n",
"t = 3.2 // strip thickness in mm\n",
"h = 10 // cm\n",
"a = t + 0.015*h*10 // back scrap and front scrap in mm\n",
"b = t // scrap bridge in mm\n",
"W = h + (2*a)/10 // width of strip in cm\n",
"W = ceil(W) // cm\n",
"s = w + b/10 // length of one piece of stock in cm\n",
"L = 240 // length of strip in cm\n",
"N = (L-b)/s // number of parts\n",
"y = L - (N*s + b/10)  // scrap remaining at the end in mm\n",
"printf('\n Value of back scrap = %0.1f mm\n Value of scrap bridge = %0.1f mm ' , a , b  )\n",
"printf('\n Width of strip = %0.2f cm\n Length of one piece of stock needed to produce one part = %0.2f cm' , W , s)\n",
"printf('\n Number of parts = %0.1f blanks\n Scrap remaining at the end = %0.2f mm' , N , y)\n",
"// Answers vary due to round off error"
   ]
   }
,
{
		   "cell_type": "markdown",
		   "metadata": {},
		   "source": [
			"## Example 2.9: Calculations_for_designing_drawing_die.sce"
		   ]
		  },
  {
"cell_type": "code",
	   "execution_count": null,
	   "metadata": {
	    "collapsed": true
	   },
	   "outputs": [],
"source": [
"clc\n",
"// from figure 2.73\n",
"t = 0.8 // thickness in mm\n",
"d = 50 // shell diameter in mm\n",
"r = 1.6 // radius of bottom corner in mm\n",
"h = 50 // height in mm\n",
"D = sqrt(d^2 + 4*d*h) // shell blank size in mm\n",
"el = 6.4 // extra length required to add in shell blank size\n",
"D = D + el // mm\n",
"pr = 100*(1-(d/D)) // percentage reduction\n",
"ratio = h/d \n",
"n = 2 // number of draws\n",
"R1 = 45 // first reduction\n",
"D1 = D - R1*D/100 // diameter at first reduction in mm\n",
"R2 = 100*(1-(d/D1)) // second reduction \n",
"PR = 4*t // punch radius in mm\n",
"PR = ceil(PR)\n",
"DR = 6 // die radius in mm\n",
"DC1 = 0.87 // die clearance for first draw in mm\n",
"DC2 = 0.88 // die clearance for second draw in mm\n",
"PD2 = d - 2*t // punch diameter for second draw in mm\n",
"DD2 = PD2 + 2*DC2 // Die opening diameter for second draw in mm\n",
"PD1 = D1 - 2*t // punch diameter for first draw in mm\n",
"DD1 = D1 + 2*DC1 // Die opening diameter for first draw in mm\n",
"// Drawing pressure\n",
"c = 0.65 // constant\n",
"sigma = 427 // N/mm^2\n",
"F = %pi*d*t*sigma*(D/d-c) // Drawing pressure in mm\n",
"Bhp = 30.8 // blanking holding pressure in kN\n",
"pc = 150 // press capacity in kN\n",
"printf('\n (i) size of blank = %0.2f mm \n (ii) Percentage reduction = %0.1f percent \n (iii) Number of draws = %d \n (iv) Radius on punch = %d mm \n    Die Radius = %d mm \n (v) Die clearance for first draw = %0.2f mm \n    die clearance for second draw = %0.2f mm' , D , pr,n,PR,DR,DC1,DC2)\n",
"printf('\n   Punch diameter for second draw = %0.1f mm \n   Die opening diameter for second draw = %0.2f mm \n   Punch diameter for first draw  = %0.3f mm \n    Die opening diameter for first draw = %0.3f mm\n (vi) Drawing pressure = %0.2f mm \n (vii) Blank holding pressure = %d kN \n (viii)Press capacity = %d kN' , PD2 , DD2 ,PD1 ,DD1 , F/1000 ,Bhp , pc)  \n",
"// Answers vary due to round off error"
   ]
   }
],
"metadata": {
		  "kernelspec": {
		   "display_name": "Scilab",
		   "language": "scilab",
		   "name": "scilab"
		  },
		  "language_info": {
		   "file_extension": ".sce",
		   "help_links": [
			{
			 "text": "MetaKernel Magics",
			 "url": "https://github.com/calysto/metakernel/blob/master/metakernel/magics/README.md"
			}
		   ],
		   "mimetype": "text/x-octave",
		   "name": "scilab",
		   "version": "0.7.1"
		  }
		 },
		 "nbformat": 4,
		 "nbformat_minor": 0
}
