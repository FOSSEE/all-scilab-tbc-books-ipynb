{
"cells": [
 {
		   "cell_type": "markdown",
	   "metadata": {},
	   "source": [
       "# Chapter 14: Theory of metal cutting"
	   ]
	},
{
		   "cell_type": "markdown",
		   "metadata": {},
		   "source": [
			"## Example 14.10: find_terms_of_orthogonal_rake_system.sce"
		   ]
		  },
  {
"cell_type": "code",
	   "execution_count": null,
	   "metadata": {
	    "collapsed": true
	   },
	   "outputs": [],
"source": [
"clc\n",
"f = 0.2 // feed in mm/rev.\n",
"t = 0.2 // uncut chip thickness in mm\n",
"alpha = 10 // rake angle in degrees\n",
"fc = 1600 // cutting force in N\n",
"ft = 850 // thrust force in N\n",
"tc = 0.39 // chip thickness in mm\n",
"r = t/tc // chip thickness ratio\n",
"d = 2 // depth of cut in mm\n",
"b = 2 // mm\n",
"alpha2 = alpha*%pi/180 // rake angle in radians\n",
"phi = atan(r*cos(alpha2)/(1-r*sin(alpha2))) // shear angle in radians\n",
"phi2 = phi*180/%pi // shear angle in degree\n",
"fs = fc*cos(phi)-ft*sin(phi) //shear force in N\n",
"fn = fc*sin(phi)+ft*cos(phi) // normal force in N\n",
"f = fc*sin(alpha2)+ft*cos(alpha2) // friction force in N\n",
"mu =((fc*tan(alpha2)+ft)/(fc-ft*tan(alpha2))) //kinetic coefficient of friction\n",
"s = fc/(b*t) // specific cutting energy in N/mm^2\n",
"printf('\n Shear force = %d N\n Normal force = %0.1f N\n Friction force = %0.1f N\n Kinetic coefficient of friction = %0.3f' , fs , fn ,f , mu)\n",
"printf('\n Specific cutting energy = %d N/mm^2' , s)\n",
"// 'Answers vary due to round off error'"
   ]
   }
,
{
		   "cell_type": "markdown",
		   "metadata": {},
		   "source": [
			"## Example 14.11: Calculate_CLA.sce"
		   ]
		  },
  {
"cell_type": "code",
	   "execution_count": null,
	   "metadata": {
	    "collapsed": true
	   },
	   "outputs": [],
"source": [
"clc\n",
"cs = 20 // side cutting edge angle in degree\n",
"ce = 30 // end cutting edge angle in degree\n",
"f = 0.1 // feed in mm/rev.\n",
"r = 3 // nose radius in mm\n",
"cs2 = cs*%pi/180 // side cutting edge angle in radians\n",
"ce2 = ce*%pi/180 // end cutting edge angle in radians\n",
"h = (1-cos(ce2))*r + f*sin(ce2)*cos(ce2) - sqrt((2*f*r*(sin(ce2))^3)-((f^2)*(sin(ce2))^4))\n",
"Ra = h/4 // Centre line average roughness in mm\n",
"printf('\n Centre line average roughness = %0.2f*10^-6m' , Ra*10^3)\n",
"// 'Answers vary due to round off error'"
   ]
   }
,
{
		   "cell_type": "markdown",
		   "metadata": {},
		   "source": [
			"## Example 14.12: Calculate_back_and_side_rake_angle.sce"
		   ]
		  },
  {
"cell_type": "code",
	   "execution_count": null,
	   "metadata": {
	    "collapsed": true
	   },
	   "outputs": [],
"source": [
"clc\n",
"i = 0 // inclination angle in degree\n",
"alpha = 10 // orthogonal rake angle in degree\n",
"lemda = 75 // principal cutting edge angle in degree\n",
"alpha = alpha*%pi/180 // orthogonal rake angle in radian\n",
"lemda = lemda*%pi/180 // principal cutting edge angle in radian\n",
"alpha_b = atan(cos(lemda)*tan(alpha)+sin(lemda)*tan(i)) //back rake angle in radians\n",
"alpha_b = alpha_b*180/%pi // back rake angle in degree\n",
"alpha_s = atan(sin(lemda)*tan(alpha)-cos(lemda)*tan(i)) // side rake angle in radians\n",
"alpha_s = alpha_s*180/%pi // side rake angle in degree\n",
"printf('\n Back rake angle = %0.2f degree\n Side rake angle = %0.2f degree' , alpha_b,alpha_s)"
   ]
   }
,
{
		   "cell_type": "markdown",
		   "metadata": {},
		   "source": [
			"## Example 14.13: Calculate_inclination_and_rake_angle.sce"
		   ]
		  },
  {
"cell_type": "code",
	   "execution_count": null,
	   "metadata": {
	    "collapsed": true
	   },
	   "outputs": [],
"source": [
"clc\n",
"alphab = 8 // back rake in degree\n",
"alphas = 4 // side rake in degree\n",
"cs = 15 // side cutting edge angle in degree\n",
"lemda = 90 - cs // approach angle in degree\n",
"alphab = alphab*%pi/180 // back rake in radian\n",
"alphas = alphas*%pi/180 // side rake in radian\n",
"cs = cs*%pi/180 // side cutting edge angle in radian\n",
"lemda = lemda*%pi/180 // approach angle in radian\n",
"alpha = atan(tan(alphas)*sin(lemda)+tan(alphab)*cos(lemda)) // orthogonal rake angle in radian\n",
"alpha = alpha*180/%pi // orthogonal rake angle in degree\n",
"i = atan(sin(lemda)*tan(alphab)-cos(lemda)*tan(alphas)) // inclnation angle in radian\n",
"i = i*180/%pi // inclnation angle in degree\n",
"printf('\n Othogonal rake angle = %0.2f degree\n Inclination angle = %0.1f degree' , alpha , i)"
   ]
   }
,
{
		   "cell_type": "markdown",
		   "metadata": {},
		   "source": [
			"## Example 14.14: find_different_powers_and_resistance.sce"
		   ]
		  },
  {
"cell_type": "code",
	   "execution_count": null,
	   "metadata": {
	    "collapsed": true
	   },
	   "outputs": [],
"source": [
"clc\n",
"cs = 15 // side cutting edge angle in degree\n",
"v = 0.2 // cutting speed in m/s\n",
"f = 0.5 // feed rate in mm/rev.\n",
"d = 3.2 // depth of cut in mm\n",
"fc = 1593*(f)^0.85*(d)^0.98 // cutting force in N\n",
"pc = fc*v/1000 // cutting power in kw\n",
"ita_mt = 0.85 // efficiency of lathe\n",
"pm = pc/ita_mt // motor power in kw\n",
"a = f*d // area of uncut chio in mm^2\n",
"r = fc/a // specific cutting resistance in N/mm^2\n",
"p = pc/(a*v)// unit power in W/(mm^3)*s\n",
"printf('\n Cutting power = %0.3f kw\n Motor power = %0.2f kw\n Specific cutting resistance = %0.2f N/mm^2\n Unit power = %0.3f W/(mm^3)*s' , pc,pm,r,p)\n",
"// 'Answers vary due to round off error'"
   ]
   }
,
{
		   "cell_type": "markdown",
		   "metadata": {},
		   "source": [
			"## Example 14.15: Calculate_percentage_increase_in_tool_life.sce"
		   ]
		  },
  {
"cell_type": "code",
	   "execution_count": null,
	   "metadata": {
	    "collapsed": true
	   },
	   "outputs": [],
"source": [
"clc\n",
"C = 400\n",
"n=0.5\n",
"a=2 // (T1/T2)^n\n",
"b=2^(1/n) // T2\n",
"i = (b-1)*100 // percentage increase\n",
"printf('\n Percentage increase = %d percent' , i)"
   ]
   }
,
{
		   "cell_type": "markdown",
		   "metadata": {},
		   "source": [
			"## Example 14.16: To_find_percentage_of_total_energy.sce"
		   ]
		  },
  {
"cell_type": "code",
	   "execution_count": null,
	   "metadata": {
	    "collapsed": true
	   },
	   "outputs": [],
"source": [
"clc\n",
"t = 0.127 // uncut chip thickness in mm\n",
"b = 6.35 // width of cut in mm\n",
"v = 1.20 // cutting speed in m/min.\n",
"alpha = 10 // rake angle in degrees\n",
"fc = 556.25 // cutting force in N\n",
"ft = 222.50 // thrust force in N\n",
"tc = 0.229 // chip thickness in mm\n",
"r = t/tc // chip thickness ratio\n",
"R = sqrt((fc^2)+(ft^2))\n",
"bita = (acos(fc/R)) + alpha*%pi/180 //\n",
"f = R*sin(bita) // \n",
"fe = f*r // friction energy\n",
"p = (f*r*100)/fc // percentage of fricton enrgy and total energy \n",
"printf('\n The percentage of total energy that goes into overcoming friction at tool chip interface = %0.2f percent' , p)\n",
"// 'Answers vary due to round off error'"
   ]
   }
,
{
		   "cell_type": "markdown",
		   "metadata": {},
		   "source": [
			"## Example 14.17: To_find_power_and_different_energies.sce"
		   ]
		  },
  {
"cell_type": "code",
	   "execution_count": null,
	   "metadata": {
	    "collapsed": true
	   },
	   "outputs": [],
"source": [
"clc\n",
"D = 300 // diameter in mm\n",
"r = 45 // rev/min.\n",
"d = 2 // depth of cut in mm\n",
"f = 0.3 // feed in mm/rev\n",
"fc = 1850 // cutting force in N\n",
"ff = 450 // feed force in N\n",
"V = 2.5*10^6 // metal removed in mm\n",
"v = (%pi*D*r)/(60*1000) // cutting velocity in m/s\n",
"pc = fc*v/1000 // cutting power in kW\n",
"fv = f*r/60*1000 // feed velocity in m/s\n",
"fp = fv*ff // feed power in W\n",
"mrr = d*f*v*60*1000 // mm^3/min.\n",
"ce = pc*1000*60/mrr // specific cutting energy in W*s/mm^2\n",
"E = ce*V/(3600*1000) // energy consumed\n",
"printf('\n Power consumption = %0.2f W\n Specific cutting energy = %0.2f W*s/mm^3\n Energy consumed = %0.3f kWh' ,pc,ce,E)\n",
"// 'Answers vary due to round off error'"
   ]
   }
,
{
		   "cell_type": "markdown",
		   "metadata": {},
		   "source": [
			"## Example 14.18: Determine_components_of_force_and_power.sce"
		   ]
		  },
  {
"cell_type": "code",
	   "execution_count": null,
	   "metadata": {
	    "collapsed": true
	   },
	   "outputs": [],
"source": [
"clc\n",
"D = 100 // diameter in mm\n",
"cs = 30 // side cutting edge angle in degree\n",
"lemda = 90 - cs // approach angle in degree\n",
"d = 2.5 // depth of cut in mm\n",
"f = 0.125 // feed in mm/rev.\n",
"N = 300 // turning speed of job in rev./min.\n",
"mu = 0.6 // coefficient of friction\n",
"tau = 400 // ultimate shear stress in Mpa\n",
"bita = atand(mu) // friction angle in radian\n",
"alphas = 10 // side rake angle\n",
"alphab = 6 // back rake angle\n",
"alpha = atand(tand(alphas)*sind(lemda)+tand(alphab)*cosd(lemda)) // orthogonal rake angle in degree\n",
"phi = 45 - ( bita - alpha) // shear angle\n",
"Fc = tau*d*f/(secd(bita-alpha)*cosd(phi+bita-alpha)*sind(phi)) // cutting force in N\n",
"Ft = Fc*tand(bita-alpha) // thrust component in N\n",
"Ff = Ft*sind(lemda) // feed force along axis of job in N\n",
"Rf = Ft*cosd(lemda) // radial force normal to axis of job in N\n",
"v = %pi*D*N/(1000*60) // velocity in m/s\n",
"p = Fc*v // power in watts\n",
"printf('\n Cutting force = %d N\n Thrust force = %0.3f N\n Feed force = %0.1f N\n Radial force = %0.3f N\n Cutting power = %d watts' , Fc,Ft,Ff,Rf,p)\n",
"// 'Answers vary due to round off error'"
   ]
   }
,
{
		   "cell_type": "markdown",
		   "metadata": {},
		   "source": [
			"## Example 14.1: calculate_the_tool_life.sce"
		   ]
		  },
  {
"cell_type": "code",
	   "execution_count": null,
	   "metadata": {
	    "collapsed": true
	   },
	   "outputs": [],
"source": [
"clc\n",
"v1 = 18 // cutting speed in m/min\n",
"t1 = 3 // tool life in hours\n",
"n = 0.125 // exponent\n",
"c = v1*(t1*60)^n // constant\n",
"v2 = 24 // cutting speed in m/min\n",
"t = (c/v2)^(1/0.125) // tool life in min.\n",
"printf('Tool life = %d min.' , t)"
   ]
   }
,
{
		   "cell_type": "markdown",
		   "metadata": {},
		   "source": [
			"## Example 14.2: Calculate_the_optimum_cutting_speed.sce"
		   ]
		  },
  {
"cell_type": "code",
	   "execution_count": null,
	   "metadata": {
	    "collapsed": true
	   },
	   "outputs": [],
"source": [
"clc\n",
"c_t = 8 // tool change time in min.\n",
"r_t = 5 // tool re-grind time in min.\n",
"mr_c = 5 // machine running cost per hour\n",
"d = 30 // total depreciation per re-grind in paisa\n",
"n = 0.25 // exponent\n",
"c = 150 // constant\n",
"c_c = mr_c*c_t/60 // total change cost in Rs\n",
"r_c = mr_c*r_t/60 // regrind cost in Rs\n",
"ct = c_c+r_c+d/100 // tooling cost in Rs\n",
"cm = mr_c/60 // machining cost in Rs\n",
"v = c*((cm*n)/(ct*(1-n)))^n // cutting speed in m/min.\n",
"printf('\n Cutting speed = %0.1f m/min.' , v) "
   ]
   }
,
{
		   "cell_type": "markdown",
		   "metadata": {},
		   "source": [
			"## Example 14.3: To_find_different_orthogonal_cutting_picture.sce"
		   ]
		  },
  {
"cell_type": "code",
	   "execution_count": null,
	   "metadata": {
	    "collapsed": true
	   },
	   "outputs": [],
"source": [
"clc\n",
"mu1 = 0.15 // coefficient of friction   \n",
"mu2 = 0.18 // coefficient of fricton\n",
"alpha = 14 // angle of contact in degree\n",
"alpha = alpha*%pi/180\n",
"bita = 10 // semi-cone angle in degree\n",
"bita = bita*%pi/180\n",
"sigma_0 = 1.40 // kN/mm^2\n",
"h0 = 1.5 //mm\n",
"h1 = 1 // mm\n",
"B = (mu1+mu2)/(tan(alpha)+tan(bita))\n",
"sigmad = (sigma_0*(1+B)*(1-(h1/h0)^B))/B // drawing stress in kN/mm^2\n",
"d1 = 11 // outside diameter in mm\n",
"t = 1 // thickness in mm\n",
"d2 = d1-t // mm\n",
"a = (%pi*((d1)^2-(d2)^2))/4 // area in mm^2\n",
"l = sigmad*a // load in kN\n",
"s = 0.65 // drawing speed in m/s\n",
"w = l*s // work in kJ/s\n",
"p = w // power in kW\n",
"printf('\n Drawing load = %0.3f kN\n Power rating of motor = %0.2f kW' , l , p)\n",
"clc\n",
"t = 0.127 // uncut chip thickness in mm\n",
"b = 6.35 // width of cut in mm\n",
"v = 2 // cutting speed in m/s\n",
"alpha = 10 // rake angle in degrees\n",
"fc = 567 // cutting force in N\n",
"ft = 227 // thrust force in N\n",
"tc = 0.228 // chip thickness in mm\n",
"r = t/tc // chip thickness ratio\n",
"alpha = alpha*%pi/180 // rake angle in radians\n",
"phi = atan(r*cos(alpha)/(1-(r*sin(alpha)))) // shear angle \n",
"phi1 = phi*180/%pi // shear angle\n",
"printf('\n Shear angle = %0.2f degree' , phi1) \n",
"mu =((fc*sin(alpha)+ft*cos(alpha))/(fc*cos(alpha)-ft*sin(alpha))) //coefficient of friction\n",
"bita = atan(mu) // friction angle\n",
"bita = bita*180/(%pi)\n",
"printf('\n Friction angle = %0.2f degree', bita )\n",
"fs = fc*cos(phi)-ft*sin(phi) //shear force in N\n",
"taus = (fs*sin(phi))/(b*t) // shear stress\n",
"printf('\n Shear stress = %0.1f N/mm^2' , taus)\n",
"cp = fc*v/1000 // cutting power in kw\n",
"printf('\n Cutting power = %0.3f kw ' , cp)\n",
"vc = v*r // chip velocity in m/s\n",
"printf('\n Chip velocity = %0.3f m/s',vc)\n",
"ss = cotg(phi) + tan(phi-alpha) // shear strain\n",
"printf('\n shear strain = %0.3f' , ss)\n",
"spl = t/sin(phi) // shear plane length\n",
"vs = v*cos(alpha)/cos(phi-alpha) // shear velocity\n",
"S = vs*10/spl // shear strain rate\n",
"S = S*10^3 // shear strain rate\n",
"printf('\n Shear strain rate = %.3f s^-1' , S)\n",
"// 'Answers vary due to round off error'\n",
""
   ]
   }
,
{
		   "cell_type": "markdown",
		   "metadata": {},
		   "source": [
			"## Example 14.4: To_find_tool_life.sce"
		   ]
		  },
  {
"cell_type": "code",
	   "execution_count": null,
	   "metadata": {
	    "collapsed": true
	   },
	   "outputs": [],
"source": [
"clc\n",
"v = 30 // cutting speed in m/min\n",
"feed = 0.3 // feed rate in mm/rev.\n",
"d = 2.5 // depth of cut in mm\n",
"t = 60 // tool life in min.\n",
"c = v*t^0.13*feed^0.77*d^0.37 // constant\n",
"printf('\n constant = %0.2f ' , c)\n",
"v2 = v*1.2 // cutting speed in m/min \n",
"t2 = (c/(v2*feed^0.77*d^0.37)) // tool life when cutting speed increased by 20% in min.\n",
"t2 = t2^(1/0.13)\n",
"f2 = feed*1.2 // feed rate in mm/rev.\n",
"t3 = (c/(v*d^0.37*f2^0.77)) // tool life when feed rate increased by 20% in min.\n",
"t3 = t3^(1/0.13)\n",
"d2 = d*1.2 // depth of cut in mm\n",
"t4 = (c/(v*feed^0.77*d2^0.37)) // tool life when depth of cut increased by 20% in min.\n",
"t4 = t4^(1/0.13)\n",
"t5 = (c/(v2*d2^0.37*f2^0.77)) // tool lfe in min.\n",
"t5 = t5^(1/0.13)\n",
"printf('\n Tool life when cutting speed increased by 20 = %0.2f min.' , t2)\n",
"printf('\n Tool life when feed rate increased by 20 = %0.2f min.' , t3)\n",
"printf('\n Tool life when depth of cut increased by 20 = %0.2f min.' , t4)\n",
"printf('\n Tool life when all taken together after increasing by 20 = %0.2f min.' , t5)\n",
"// 'Answers vary due to round off error'"
   ]
   }
,
{
		   "cell_type": "markdown",
		   "metadata": {},
		   "source": [
			"## Example 14.5: find_force_and_coefficient_of_friction.sce"
		   ]
		  },
  {
"cell_type": "code",
	   "execution_count": null,
	   "metadata": {
	    "collapsed": true
	   },
	   "outputs": [],
"source": [
"clc\n",
"t = 0.25 // uncut chip thickness in mm\n",
"b = 2.5 // width of cut in mm\n",
"v = 2.5 // cutting speed in m/s\n",
"alpha = 10 // rake angle in degrees\n",
"fc = 1130 // cutting force in N\n",
"ft = 295 // thrust force in N\n",
"tc = 0.45 // chip thickness in mm\n",
"r = t/tc // chip thickness ratio\n",
"alpha = alpha*%pi/180 // rake angle in radians\n",
"phi = atan((r*cos(alpha))/(1-r*sin(alpha))) // shear angle \n",
"phi2 = phi*180/%pi // shear angle\n",
"fs = fc*cos(phi) - ft*sin(phi) //shear force in N\n",
"printf('\n Force of shear at shear plane = %0.2f N' , fs)\n",
"mu = atan((fc*sin(alpha)+ft*cos(alpha))/(fc*cos(alpha)-ft*sin(alpha))) //friction anglele\n",
"printf('\n Friction angle = %0.3f degree', mu )\n",
"// 'Answers vary due to round off error'"
   ]
   }
,
{
		   "cell_type": "markdown",
		   "metadata": {},
		   "source": [
			"## Example 14.6: To_find_terms_of_orthogonal_cutting.sce"
		   ]
		  },
  {
"cell_type": "code",
	   "execution_count": null,
	   "metadata": {
	    "collapsed": true
	   },
	   "outputs": [],
"source": [
"clc\n",
"t = 0.2 // uncut chip thickness in mm\n",
"alpha = 15 // rake angle in degrees\n",
"tc = 0.62 // chip thickness in mm\n",
"r = t/tc // chip thickness ratio\n",
"crc = 1/r // chip reduction coefficient\n",
"printf('\n Cutting ratio = %0.3f\n Chip reduction co-efficient = %0.1f' , r , crc)\n",
"alpha = alpha*%pi/180 // rake angle in radians\n",
"phi = atan(r*cos(alpha)/(1-r*sin(alpha))) // shear angle \n",
"phi = phi*180/%pi // shear angle\n",
"printf('\n Shear angle = %0.2f degree' , phi) \n",
"ss = cotg(phi*%pi/180) + tan((phi*%pi)/180-(alpha*%pi)/180) // shear strain\n",
"printf('\n shear strain = %0.3f' , ss)\n",
"// 'Answers vary due to round off error'"
   ]
   }
,
{
		   "cell_type": "markdown",
		   "metadata": {},
		   "source": [
			"## Example 14.7: To_solve_tool_life_equation.sce"
		   ]
		  },
  {
"cell_type": "code",
	   "execution_count": null,
	   "metadata": {
	    "collapsed": true
	   },
	   "outputs": [],
"source": [
"clc\n",
"v1 = 25 // cutting speed in m/min\n",
"t1 = 90 // tool life in min.\n",
"v2 = 35 // cutting speed in m/min\n",
"t2 = 20 // tool life in min\n",
"n = log(v2/v1)/log(t1/t2) // exponent\n",
"C = v1*(t1)^n // constant\n",
"t = 60 // tool life in min.\n",
"v = C/(t)^n // cutting speed in m/min.\n",
"printf('\n n = %0.3f\n C = %0.1f\n Cutting speed = %0.2f m/min.' , n , C,v)\n",
"// 'Answers vary due to round off error'"
   ]
   }
,
{
		   "cell_type": "markdown",
		   "metadata": {},
		   "source": [
			"## Example 14.8: Determine_normal_and_tangential_force.sce"
		   ]
		  },
  {
"cell_type": "code",
	   "execution_count": null,
	   "metadata": {
	    "collapsed": true
	   },
	   "outputs": [],
"source": [
"clc\n",
"t = 0.5 // uncut chip thickness in mm\n",
"b = 3 // width of cut in mm\n",
"alpha = 15 // rake angle in degrees\n",
"alpha = alpha*%pi/180 // rake angle in radians\n",
"r = 0.383 // chip thickness ratio\n",
"mu = 0.7 // average coefficient of friction on tool face\n",
"bita = atan(mu) // friction angle\n",
"tau = 280 // yield stress in N/mm^2\n",
"phi = atan((r*cos(alpha))/(1-r*sin(alpha))) // shear angle \n",
"fc = (tau*b*t)/(sec(bita-alpha)*cos(phi+bita-alpha)*sin(phi)) // cutting force in N\n",
"ft = (fc*(mu-tan(alpha)))/(1+mu*tan(alpha)) // thrust force in N\n",
"F = fc*sin(alpha)+ft*cos(alpha) // tangential force on tool face in N\n",
"F = ceil(F)\n",
"N = fc*cos(alpha)-ft*sin(alpha) // normal force on tool face in N\n",
"printf('Tangential force on tool face = %d N\n normal force on tool face = %0.1f N' , F,N)\n",
"// 'Answers vary due to round off error'\n",
"\n",
""
   ]
   }
,
{
		   "cell_type": "markdown",
		   "metadata": {},
		   "source": [
			"## Example 14.9: To_find_cutting_and_thrust_force.sce"
		   ]
		  },
  {
"cell_type": "code",
	   "execution_count": null,
	   "metadata": {
	    "collapsed": true
	   },
	   "outputs": [],
"source": [
"clc\n",
"t = 0.25 // uncut chip thickness in mm\n",
"b = 0.5 // width of cut in cm\n",
"v = 8.2 // cutting speed in m/min.\n",
"alpha = 20 // rake angle in degrees\n",
"alpha2 = alpha*%pi/180 // rake angle in radians\n",
"r = 0.351 // cutting ratio\n",
"phi = atan(r*cos(alpha2)/(1-r*sin(alpha2))) // shear angle  in radians\n",
"phi2 = phi*180/%pi // shear angle in degrees\n",
"alpha2 = alpha*%pi/180 // rake angle in radians\n",
"bita = 35+alpha-phi2 // degrees\n",
"s = cotg(phi) + tan(phi-alpha2) // shear strain\n",
"e = s/sqrt(3) // natural strain\n",
"sigma = 784*(e)^0.15 // tensile property in N/mm^2\n",
"tau = sigma/sqrt(3) // yield shear stress in N/mm^2\n",
"As = (b*10*t)/sin(phi) // shear plane area in mm^2\n",
"Fs = tau*As // shear gorce in N\n",
"R = Fs/cos(phi+(bita*%pi/180)-alpha2)\n",
"Fc = R*cos((bita*%pi/180)-alpha2) // cutting force in N\n",
"Ft = R*sin((bita*%pi/180)-alpha2) // thrust force in N\n",
"printf('\n Cutting force= %0.1f N\n Thrust force = %0.1f N' , Fc , Ft)\n",
"// 'Answers vary due to round off error'"
   ]
   }
],
"metadata": {
		  "kernelspec": {
		   "display_name": "Scilab",
		   "language": "scilab",
		   "name": "scilab"
		  },
		  "language_info": {
		   "file_extension": ".sce",
		   "help_links": [
			{
			 "text": "MetaKernel Magics",
			 "url": "https://github.com/calysto/metakernel/blob/master/metakernel/magics/README.md"
			}
		   ],
		   "mimetype": "text/x-octave",
		   "name": "scilab",
		   "version": "0.7.1"
		  }
		 },
		 "nbformat": 4,
		 "nbformat_minor": 0
}
