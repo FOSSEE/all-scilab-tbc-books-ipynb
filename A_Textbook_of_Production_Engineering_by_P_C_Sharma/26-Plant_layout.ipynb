{
"cells": [
 {
		   "cell_type": "markdown",
	   "metadata": {},
	   "source": [
       "# Chapter 26: Plant layout"
	   ]
	},
{
		   "cell_type": "markdown",
		   "metadata": {},
		   "source": [
			"## Example 26.1: Calculate_number_of_machine_required.sce"
		   ]
		  },
  {
"cell_type": "code",
	   "execution_count": null,
	   "metadata": {
	    "collapsed": true
	   },
	   "outputs": [],
"source": [
"clc\n",
"N = 100000 // annual output of parts\n",
"s = 2 // expected scrap\n",
"t = 105 // estimated time per part in s\n",
"ita = 80 // production efficiency of machine\n",
"a = 2300 // number of working hours\n",
"output = (3600*ita)/(t*100) // parts required per hour\n",
"pr = N*(100+s)/(a*100) // output from one machine per hour\n",
"mr = pr/output // machines required\n",
"printf('\n Number of machines required = %0.2f' , mr)\n",
"disp('If machine is to be used exclusively for part considered two machines required')"
   ]
   }
],
"metadata": {
		  "kernelspec": {
		   "display_name": "Scilab",
		   "language": "scilab",
		   "name": "scilab"
		  },
		  "language_info": {
		   "file_extension": ".sce",
		   "help_links": [
			{
			 "text": "MetaKernel Magics",
			 "url": "https://github.com/calysto/metakernel/blob/master/metakernel/magics/README.md"
			}
		   ],
		   "mimetype": "text/x-octave",
		   "name": "scilab",
		   "version": "0.7.1"
		  }
		 },
		 "nbformat": 4,
		 "nbformat_minor": 0
}
