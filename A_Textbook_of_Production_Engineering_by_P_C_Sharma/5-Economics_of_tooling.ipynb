{
"cells": [
 {
		   "cell_type": "markdown",
	   "metadata": {},
	   "source": [
       "# Chapter 5: Economics of tooling"
	   ]
	},
{
		   "cell_type": "markdown",
		   "metadata": {},
		   "source": [
			"## Example 5.10: To_determine_acceptance_of_machine.sce"
		   ]
		  },
  {
"cell_type": "code",
	   "execution_count": null,
	   "metadata": {
	    "collapsed": true
	   },
	   "outputs": [],
"source": [
"clc\n",
"// machine A\n",
"r_e1 = 9600 //cash flow in Rs\n",
"p1 = 46000 // intial cost in Rs\n",
"s = 0 // salvage value\n",
"e = 8 // M.A.R.R\n",
"e = e/100\n",
"i = 8 // investment rate\n",
"i = i/100\n",
"n = 6 // life in years\n",
"x = i/((1+i)^n-1) \n",
"ERRR1 = (r_e1 - (p1-s)*x)/p1\n",
"//machine B\n",
"r_e2 = 7200 //cash flow in Rs\n",
"p2 = 32000 // intial cost in Rs \n",
"ERRR2 = (r_e2 - (p2-s)*x)/p2\n",
"printf('\n ERRR1 = %0.2f percent \n ERRR2 = %0.2f percent' , ERRR1*100 ,ERRR2*100)\n",
"disp('Only machine B is accepteble')"
   ]
   }
,
{
		   "cell_type": "markdown",
		   "metadata": {},
		   "source": [
			"## Example 5.11: find_investment_cost_and_unamortized_value.sce"
		   ]
		  },
  {
"cell_type": "code",
	   "execution_count": null,
	   "metadata": {
	    "collapsed": true
	   },
	   "outputs": [],
"source": [
"clc\n",
"pmv = 15000 // present market value in Rs\n",
"ss = 6000 // sum needed to make it serviceable in Rs\n",
"ic = ss + pmv //  investment cost in Rs\n",
"pbv = 30000 // present book value in Rs\n",
"sv = 15000 // salvage value in Rs\n",
"ui = pbv - sv // unamortized investment in Rs\n",
"printf('\n Investment cost = Rs %d\n Unamortized investment = Rs %d' , ic , ui)"
   ]
   }
,
{
		   "cell_type": "markdown",
		   "metadata": {},
		   "source": [
			"## Example 5.13: To_make_decision_of_machines_replacement.sce"
		   ]
		  },
  {
"cell_type": "code",
	   "execution_count": null,
	   "metadata": {
	    "collapsed": true
	   },
	   "outputs": [],
"source": [
"clc\n",
"// Existing machine\n",
"pmp = 100000 // present market price in Rs\n",
"io = 50000 // immediate overhauling in Rs\n",
"asl = 5 // additional service life in years\n",
"aoc = 50000 // annual operating cost in Rs\n",
"svo = 10000 // salvage value after overhauling in Rs\n",
"pc = io + pmp // present cost in Rs\n",
"i = 10 // interest rate\n",
"i = 10/100\n",
"crf1 = (i*(1+i)^asl)/((1+i)^asl - 1) // capital recovery factor\n",
"AC1 = (pc - svo)*crf1 + svo*i + aoc // average cost in Rs\n",
"// proposed machine\n",
"n = 10 // expected economic life in years\n",
"ic = 300000 // initial cost in Rs\n",
"sv = 100000 // salvage value in Rs\n",
"o = 30000 // annual operating cost in Rs\n",
"crf2 = (i*(1+i)^10)/((1+i)^10 - 1)\n",
"AC2 = (ic - sv)*crf2 + sv*i + o // average cost in Rs\n",
"printf('Existing machine = Rs %0.3f \n Proposed machine = Rs %0.2f' , AC1 , AC2)\n",
"disp('Since the equivalent annual cost of proposed machine is less than that of the existing machine , therefore, the replacement is justified.')\n",
"// Answers vary due to round off error"
   ]
   }
,
{
		   "cell_type": "markdown",
		   "metadata": {},
		   "source": [
			"## Example 5.15: Determine_economic_repair_life.sce"
		   ]
		  },
  {
"cell_type": "code",
	   "execution_count": null,
	   "metadata": {
	    "collapsed": true
	   },
	   "outputs": [],
"source": [
"clc\n",
"c = 20000 // first cost of machine in Rs\n",
"s = 1000 // scrap value in machine in Rs\n",
"b = 180 // annual increase in cost of repairs in Rs\n",
"n = sqrt(2*(c-s)/b) // years\n",
"printf('\n Number of years of economic repair life = %0.2f years' , n)"
   ]
   }
,
{
		   "cell_type": "markdown",
		   "metadata": {},
		   "source": [
			"## Example 5.16: find_time_to_pay_for_itself.sce"
		   ]
		  },
  {
"cell_type": "code",
	   "execution_count": null,
	   "metadata": {
	    "collapsed": true
	   },
	   "outputs": [],
"source": [
"clc\n",
"Cn = 72000 // cost of new machine installed and tooled in Rs\n",
"Co = 28000 // cost of new machime installed and tooled in Rs\n",
"p = 16 // hourly pieces\n",
"Nn = 2200*p // estimated annual production on new machine \n",
"Ko = 17200 // present book value of old machine in Rs\n",
"So = 6400 // scrap value of old machine in Rs\n",
"Sn = 8000 // probable scrap value of old machine in at the end of its useful life Rs\n",
"oco = 2.5 // opreator cost per hour \n",
"mco= 48 // machine cost\n",
"ro = 10 // production rate per hour\n",
"ocn = 2 // opreator cost per hour \n",
"mcn= 62 // machine cost\n",
"rn = 16 // production rate per hour\n",
"Po = (oco+mco)/ro // labour and machine cost per unit on old machine in Rs\n",
"Pn = (ocn+mcn)/rn // labour and machine cost per unit on new machine in Rs\n",
"i = 6 // interest on investment\n",
"i = i/100\n",
"t = 6 // annual taxes\n",
"t = t/100\n",
"d = 10 // annual allowance for depreciation \n",
"d = d/100\n",
"m = 3 // annual allowance for maintenance\n",
"m = m/100\n",
"n = ((Cn-Sn)+(Ko-So))/((Nn*(Po-Pn)) - Cn*(i+t+d+m))\n",
"printf('\n The number of years in which the new machine will pay for itself = %0.3f years' , n)"
   ]
   }
,
{
		   "cell_type": "markdown",
		   "metadata": {},
		   "source": [
			"## Example 5.17: selection_of_machine_for_job.sce"
		   ]
		  },
  {
"cell_type": "code",
	   "execution_count": null,
	   "metadata": {
	    "collapsed": true
	   },
	   "outputs": [],
"source": [
"clc\n",
"C = 80000 // cost of new machine installed and tooled in Rs\n",
"nel = 2 // number of engine lathes\n",
"c = 32000*nel // first cost of engine lathe\n",
"N = 4000 // annual production of turret lathe\n",
"n = 3800 // annual production in engine lathe\n",
"nhp1 = 4 // hp motor\n",
"L = 2256*nhp1 // annual labour cost of turret lathe\n",
"w = 5 // wage in per hour\n",
"time = 2300 // hours\n",
"l = time*nel*w // labour cost of engine lathe\n",
"nhp2 = 2.5 // hp motor\n",
"pr = 0.35 // power rate in kwh\n",
"p = (nel*nhp2*746*time*pr)/1000 // power cost\n",
"P = (nhp1*746*time*pr)/1000 // power cost\n",
"F = 480 //saving\n",
"I  = 6/100 // interest rate\n",
"T = 4/100 // tax rate\n",
"D = 10/100 // allowance for depreciation in engine lathe\n",
"M = 6/100 // allowance for maintenance in engine lathe\n",
"B = 55/100 // labour burden in engine lathe\n",
"i  = 6/100 // interest rate\n",
"t = 4/100 // tax rate\n",
"d = 10/100 // allowance for depreciation in turret lathe\n",
"m = 6/100 // allowance for maintenance in turret lathe\n",
"X = (L + B*L + P +C*(I+T+D+M) - F)/N\n",
"x = (l+l*B + p + c*(i+t+d+m))/n\n",
"printf('\n Unit production cost on turret lathe = Rs %0.2f per piece\n Unit production cost on engine lathe = Rs %0.2f per piece' , X , x)\n",
"disp('Turret lathe will be more economical than two engine lathe')\n",
"// Answers vary due to round off error"
   ]
   }
,
{
		   "cell_type": "markdown",
		   "metadata": {},
		   "source": [
			"## Example 5.18: Calculate_maximum_investment_on_turret_lathe.sce"
		   ]
		  },
  {
"cell_type": "code",
	   "execution_count": null,
	   "metadata": {
	    "collapsed": true
	   },
	   "outputs": [],
"source": [
"clc\n",
"X = 9.16 // production cost on turret lathe\n",
"N = 4000 // annual requirement\n",
"c = X*N // cost for 4000 pieces on turret lathe\n",
"n = 3800 // production of engine lathe\n",
"l = 23000 // labour cost\n",
"p = 3002 // power cost\n",
"i = 6 // interest rate\n",
"i = i/100\n",
"t = 4 // tax rate\n",
"t = t/100\n",
"d = 10 // allowance for depreciation in turret lathe\n",
"d = d/100\n",
"m = 6 // allowance for maintenance in turret lathe\n",
"m = m/100\n",
"b = 55/100 //labour burden\n",
"a = i+t+d+m \n",
"tc = 64000 // first cost of engine lathe\n",
"c1 =(N*(l*(1+b)+p))/n+(tc*a) // cost for engine lathe\n",
"s = c1-c // savings \n",
"amt = s/a // amount invested in turret lathe over the cost of engine lathe\n",
"printf('\n Amount invested in turret lathe over the cost of engine lathe = Rs %d' , amt)\n",
"// Answers vary due to round off error"
   ]
   }
,
{
		   "cell_type": "markdown",
		   "metadata": {},
		   "source": [
			"## Example 5.19: To_find_years_for_new_machine.sce"
		   ]
		  },
  {
"cell_type": "code",
	   "execution_count": null,
	   "metadata": {
	    "collapsed": true
	   },
	   "outputs": [],
"source": [
"clc\n",
"Cn = 60000 // cost of new machine\n",
"Sn = 5000 // scrap value of new machine\n",
"So = 1000 // scrap value of old machine\n",
"Nn = 200000 //annual production\n",
"I = 10 // interest rate\n",
"I = I/100\n",
"M = 7 // allowance for maintenane\n",
"M = M/100\n",
"T = 6 // annual taxes\n",
"T = T/100\n",
"D = 1/10 // allowance for depreciation\n",
"lco = 300 // labour charges for old machine\n",
"m = 12 // months\n",
"rco = 15000 // running charges for old machine\n",
"pro = 50000 // production rate for old machine\n",
"lcn = 500 // labour charges for new machine\n",
"rcn = 10000 // running charges for old machine\n",
"prn = 200000// production rate f\n",
"Po = (lco*m + rco)/pro // labour and machine cost on old machine\n",
"Pn = (lcn*m + rcn)/prn // labour and machine cost on new machine\n",
"n =((Cn-Sn)-So)/((Nn*(Po-Pn))-Cn*(I+T+D+M)) //years\n",
"printf('\n Years in which new machine will pay for itself = %0.2f years' , n)"
   ]
   }
,
{
		   "cell_type": "markdown",
		   "metadata": {},
		   "source": [
			"## Example 5.1: To_find_value_of_machine_tool.sce"
		   ]
		  },
  {
"cell_type": "code",
	   "execution_count": null,
	   "metadata": {
	    "collapsed": true
	   },
	   "outputs": [],
"source": [
"clc\n",
"Co = 250000 // original value of machine tool in Rs\n",
"Cs = 25000 // salvage value in Rs\n",
"n = 20 //useful life in years\n",
"d = (Co-Cs)/n // depreciation per year in Rs\n",
"v1 = Co - 10*d // value of machine tool at the end of 10 years in Rs\n",
"s = Co - Cs // sum at the end of useful life in Rs\n",
"i = 8/100 // annual interst rate \n",
"D = (s*i)/((1 + i)^n-1) // annual deposit\n",
"a  = D*((1+i)^10-1)/i //amount at the end of 10 years in Rs\n",
"v2 = Co - a // value at the end of 10 years\n",
"printf('\n Value of machine at the end of 10 years through straight line depreciation method = Rs %d' , v1)\n",
"printf('\n Value of machine at the end of 10 years through sinking fund method = Rs %d' , v2)\n",
"// Answers vary due to round off error"
   ]
   }
,
{
		   "cell_type": "markdown",
		   "metadata": {},
		   "source": [
			"## Example 5.20: To_find_cost_and_pieces.sce"
		   ]
		  },
  {
"cell_type": "code",
	   "execution_count": null,
	   "metadata": {
	    "collapsed": true
	   },
	   "outputs": [],
"source": [
"clc\n",
"a = 1.50 //saving in labour\n",
"b=55/100 // burden applied on labour\n",
"T = 4/100 // allowance for taxes\n",
"M = 5/100 // allowance for maintenance\n",
"I = 8/100 // interest rate\n",
"D = 50/100 // allowance for depreciation\n",
"H = 2 // years to amortize the investment\n",
"S = 50 // yearly cost for set up\n",
"C = 3000 // first cost\n",
"N1 = (C*(I+T+M+D)+S)/(a*(1+b)) // annual production when 1 run is made\n",
"r = 5 // number of runs\n",
"N2 = (C*(I+T+M+D)+S*r)/(a*(1+b)) // annual production when 1 run is made\n",
"D1 = 100/100 // allowance for depreciation\n",
"N3 = (C*(I+T+M+D1)+S)/(a*(1+b)) // production when D = 100\n",
"n1 = 1530 // pieces\n",
"C1 = (n1*(a*(1+b))-S)/(I+T+M+D1) // economical investment\n",
"n2 = 950 // pieces\n",
"a1 = 2 // labour cost\n",
"r1 = 6 // number of runs\n",
"S1 = r1*S // yearly cost\n",
"V = n2*a1*(1+b)-C*(I+T+M+D)-S1 //profit\n",
"printf('\n Number of pieces when one run is made and cost is Rs 3000 = %d pieces',N1)\n",
"printf('\n Annual production when 5 runs are made per year = %d pieces' , N2)\n",
"printf('\nAnnual production when fixture pay for itself = %d pieces' , N3)\n",
"printf('\nEconomical investment when 1530 pieces for single run with savings Rs 1.50 per piece = Rs %d',C1)\n",
"printf('\nAnnual profit when 950 pieces made per year in 6 runs and saving in labour cost Rs 2 per piece = Rs %d per year' , V)\n",
"//  'Answers vary due to round off error'\n",
" "
   ]
   }
,
{
		   "cell_type": "markdown",
		   "metadata": {},
		   "source": [
			"## Example 5.21: To_find_number_of_components.sce"
		   ]
		  },
  {
"cell_type": "code",
	   "execution_count": null,
	   "metadata": {
	    "collapsed": true
	   },
	   "outputs": [],
"source": [
"clc\n",
"a = 0.125 //saving in labour cost per unit\n",
"b = 0.4 // overhead applied on direct labour saved\n",
"D = 1/2 // allowance for depreciation\n",
"C = 2400 // first cost\n",
"I = 6/100 // interest rate\n",
"T = 4/100 // allowance for taxes\n",
"M = 10/100 // allowance for maintenance\n",
"S = 80 // cost of set up\n",
"N = (C*(I+T+D+M)+S)/(a*(1+b)) // pieces per year\n",
"t = N*2 // total number of pieces\n",
"printf('\n Total number of pieces produced = %d' , t)\n",
"// Answers vary due to round off error"
   ]
   }
,
{
		   "cell_type": "markdown",
		   "metadata": {},
		   "source": [
			"## Example 5.22: To_find_number_of_components.sce"
		   ]
		  },
  {
"cell_type": "code",
	   "execution_count": null,
	   "metadata": {
	    "collapsed": true
	   },
	   "outputs": [],
"source": [
"clc\n",
"a = 0.125 // saving in labour cost per unit\n",
"b = 0.4 // overhead applied on direct labour saved\n",
"D = 1/2 // allowance for depreciation\n",
"C = 2400 // first cost\n",
"I = 6/100 // interst rate\n",
"T = 4/100 // allowance for taxes\n",
"M = 10/100 // allowance for maintenance\n",
"n = 6 // number of baches\n",
"S = 80 // cost of set up\n",
"s1 = S*n // total set up cost\n",
"N = (C*(I+T+D+M)+s1)/(a*(1+b)) // pieces\n",
"t = N*2 // total number of pieces\n",
"printf('\n Total number of pieces produced = %d' , t)\n",
"// Answers vary due to round off error"
   ]
   }
,
{
		   "cell_type": "markdown",
		   "metadata": {},
		   "source": [
			"## Example 5.23: To_find_time_and_profit.sce"
		   ]
		  },
  {
"cell_type": "code",
	   "execution_count": null,
	   "metadata": {
	    "collapsed": true
	   },
	   "outputs": [],
"source": [
"clc\n",
"C1 = 2000 // first cost  small tool in Rs\n",
"N = 5000 // parts per year\n",
"n = 5 // number of batches\n",
"S = 50*n // cost of set up\n",
"a = 0.15 // saving in labour cost per unit\n",
"b = 50/100 // burden applied on direct labour saved\n",
"I = 10/100 // interest rate\n",
"T = 5/100 // allowance for tax\n",
"M = 10/100 // allowance for maintenance\n",
"H = C1/((N*a*(1+b))-(C1*(I+T+M))-S) // years\n",
"C2 = 1600 // cost of fixture\n",
"D = 1/H // allowance for depreciation\n",
"V = N*a*(1+b)-C2*(I+T+D+M)-S // profit\n",
"printf('\n Number of years taken by fixture of Rs 2000 = %0.2f years\n profit made when fixture of Rs 1600 = Rs %d' , H ,V)\n",
" "
   ]
   }
,
{
		   "cell_type": "markdown",
		   "metadata": {},
		   "source": [
			"## Example 5.24: To_find_minimum_number_of_components.sce"
		   ]
		  },
  {
"cell_type": "code",
	   "execution_count": null,
	   "metadata": {
	    "collapsed": true
	   },
	   "outputs": [],
"source": [
"clc\n",
"c1 = 3 //  machine cost per component using existing euipment in Rs\n",
"c2 = 1 // machine cost using fixture in Rs\n",
"s = c1 - c2 // saving in machine cost per piece\n",
"f= 1000 // cost of fixture in Rs\n",
"N = f/2 // components\n",
"printf ('\n Minimum number of components to be produced if cost of fixture to be recovered = %d' ,N) "
   ]
   }
,
{
		   "cell_type": "markdown",
		   "metadata": {},
		   "source": [
			"## Example 5.25: To_calculate_number_of_pieces.sce"
		   ]
		  },
  {
"cell_type": "code",
	   "execution_count": null,
	   "metadata": {
	    "collapsed": true
	   },
	   "outputs": [],
"source": [
"clc\n",
"C = 1000 // cost of fixture\n",
"Co = 700 // cost of old fixture\n",
"Cs = 250 // scrap value\n",
"a = 10 //saving per piece in paisa\n",
"a = a/100\n",
"b = 30 // overhead applied on direct labour saved\n",
"b = b/100\n",
"I = 8 // interest rate\n",
"I = I/100\n",
"M = 3 // allowance for maintenance\n",
"M = M/100\n",
"T = 12 // allowance for tax\n",
"T = T/100\n",
"H = 3/2 // amortization\n",
"D = 1/H // allowance for depreciation\n",
"N = (C*(I+T+D+M)+(Co-Cs)*I)/(a*(1+b)) // pieces per year\n",
"printf('\n Number of pieces which must be produced to break even so that fixture may pay for itself = %d pieces per year' , N)\n",
"// Answers vary due to round off error"
   ]
   }
,
{
		   "cell_type": "markdown",
		   "metadata": {},
		   "source": [
			"## Example 5.26: To_find_cost_for_new_fixture.sce"
		   ]
		  },
  {
"cell_type": "code",
	   "execution_count": null,
	   "metadata": {
	    "collapsed": true
	   },
	   "outputs": [],
"source": [
"clc\n",
"N = 9000 // number of pieces\n",
"Co = 700 // cost of old fixture\n",
"Cs = 250 // scrap value\n",
"a = 10 //saving per piece in paisa\n",
"a = a/100\n",
"b = 30 // overhead applied on direct labour saved\n",
"b = b/100\n",
"I = 8 // interest rate\n",
"I = I/100\n",
"M = 3 // allowance for maintenance\n",
"M = M/100\n",
"T = 12 // allowance for tax\n",
"T = T/100\n",
"H = 3/2 // amortization\n",
"D = 1/H // allowance for depreciation\n",
"C = (N*a*(1+b)-(Co-Cs)*I)/(I+T+D+M) // cost in Rs\n",
"printf('\n Cost for new fixture = Rs %d' , C)\n",
"// Answers vary due to round off error"
   ]
   }
,
{
		   "cell_type": "markdown",
		   "metadata": {},
		   "source": [
			"## Example 5.27: find_time_to_amortize_fixture.sce"
		   ]
		  },
  {
"cell_type": "code",
	   "execution_count": null,
	   "metadata": {
	    "collapsed": true
	   },
	   "outputs": [],
"source": [
"clc\n",
"n = 6500 // yearly production\n",
"c = 1350 // cost of fixture\n",
"a = 10 //saving per piece in paisa\n",
"a = a/100\n",
"b = 30 // overhead applied on direct labour saved\n",
"b = b/100\n",
"I = 8 // interest rate\n",
"I = I/100\n",
"M = 3 // allowance for maintenance\n",
"M = M/100\n",
"T = 12 // allowance for tax\n",
"T = T/100\n",
"co = 700 // cost of old fixture\n",
"cs = 250 // scrap value\n",
"H = (c)/((n*a*(1+b))-I*(co-cs)-c*(I+T+M)) // amotization in years\n",
"printf('\n Time taken to amortize the fixture = %0.1f years' , H)"
   ]
   }
,
{
		   "cell_type": "markdown",
		   "metadata": {},
		   "source": [
			"## Example 5.28: To_find_profit.sce"
		   ]
		  },
  {
"cell_type": "code",
	   "execution_count": null,
	   "metadata": {
	    "collapsed": true
	   },
	   "outputs": [],
"source": [
"clc\n",
"n = 9000 // production of pieces per year\n",
"c = 1000 // fixture costs\n",
"Co = 700 // cost of old fixture\n",
"Cs = 250 // scrap value\n",
"a = 10 //saving per piece in paisa\n",
"a = a/100\n",
"b = 30 // overhead applied on direct labour saved\n",
"b = b/100\n",
"I = 8 // interest rate\n",
"I = I/100\n",
"M = 3 // allowance for maintenance\n",
"M = M/100\n",
"T = 12 // allowance for tax\n",
"T = T/100\n",
"h = 1.5 // amortization\n",
"D = 1/h // allowance for depreciation\n",
"V = (n*a*(1+b))-(c*(I+T+D+M))-((Co-Cs)*I) // profit\n",
"printf('\n profit = Rs %d ' , V) \n",
"// Answers vary due to round off error"
   ]
   }
,
{
		   "cell_type": "markdown",
		   "metadata": {},
		   "source": [
			"## Example 5.29: To_find_BEP_Cost_and_Components.sce"
		   ]
		  },
  {
"cell_type": "code",
	   "execution_count": null,
	   "metadata": {
	    "collapsed": true
	   },
	   "outputs": [],
"source": [
"clc\n",
"fc1 = 100000 // fixed cost in Rs\n",
"vc1 = 100 // variable cost in Rs per unit\n",
"sp = 200 // selling price in Rs per unit\n",
"q1 = fc1/(sp-vc1) // quantity of production at break even point\n",
"fc2 = 125000 // fixed cost in Rs\n",
"vc2 = 90 // variable cost in Rs per unit\n",
"q2 = fc2/(sp-vc2) // quantity of production at break even point\n",
"p = 20000 // profit in Rs\n",
"q3 = (fc1 + p)/(sp-vc1) // quantity of production at profit of Rs 20000\n",
"printf('\n Break even point = %d pieces \n If fixed cost is 125000 and variable cost is Rs 90 per unit then break even point = %d pieces\n Number of components to get profit of Rs 20000 = %d pieces' , q1 , q2 ,q3)"
   ]
   }
,
{
		   "cell_type": "markdown",
		   "metadata": {},
		   "source": [
			"## Example 5.2: To_find_annual_investment.sce"
		   ]
		  },
  {
"cell_type": "code",
	   "execution_count": null,
	   "metadata": {
	    "collapsed": true
	   },
	   "outputs": [],
"source": [
"clc\n",
"p = 200000 // present worth in Rs\n",
"i = 10 // annual interest rate\n",
"i = 10/100\n",
"n = 20 // number of years\n",
"a1 = (p*i)/((1+i)^n-1) // annual investment using sinking fund factor in Rs\n",
"a2 = (p*i*(i+1)^n)/((i+1)^n-1)// annual investment using capital recovery factor in Rs\n",
"printf('\nAnnual investment using sinking fund factor = Rs %d /- per year' , a1)\n",
"printf('\nAnnual investment using capital recovery factor = Rs %d /- per year' , a2)\n",
"// Answers vary due to round off error"
   ]
   }
,
{
		   "cell_type": "markdown",
		   "metadata": {},
		   "source": [
			"## Example 5.30: To_find_break_even_point.sce"
		   ]
		  },
  {
"cell_type": "code",
	   "execution_count": null,
	   "metadata": {
	    "collapsed": true
	   },
	   "outputs": [],
"source": [
"clc\n",
"fc1 = 12000 // fixed cost for machine A in Rs\n",
"fc2 = 48000 // fixed cost for machine B in Rs\n",
"n1 = 6 // unit production cost in Rs per piece for machine A\n",
"n2 = 1.2 // unit production cost in Rs per piece for machine B\n",
"q = (fc2-fc1)/(n1-n2) // break even point\n",
"printf('\n Break even point = %d pieces' , q)"
   ]
   }
,
{
		   "cell_type": "markdown",
		   "metadata": {},
		   "source": [
			"## Example 5.31: To_find_break_even_quantity.sce"
		   ]
		  },
  {
"cell_type": "code",
	   "execution_count": null,
	   "metadata": {
	    "collapsed": true
	   },
	   "outputs": [],
"source": [
"clc\n",
"// capstan lathe\n",
"tc1 = 300 // total cost in Rs\n",
"mc1 = 2.5 // material cost per piece in Rs\n",
"olc1 = 5 // operation labour cost per hour in Rs\n",
"ct1 = 5 // cycle time per piece in min.\n",
"slc1 = 20 // setting up labour cost in Rs per hour\n",
"st1 = 1 // setting up time in hour\n",
"mo1 = 300/100 // machine over heads of operation labour cost\n",
"o1 = mo1*olc1 // overheads of capstan lathe in Rs per hour\n",
"fc1 = tc1 + slc1*st1 + o1*st1 // fixed cost of capstan lathe in Rs\n",
"vc1 = mc1 + (olc1*ct1)/60 + (o1*ct1)/60 // variable cost in Rs\n",
"// Automatic (single spindle) \n",
"tc2 = 300 // total cost in Rs\n",
"cc2 = 1500 // cost of cams in Rs\n",
"mc2 = 2.5 // material cost per piece in Rs\n",
"olc2 = 2 // operation labour cost per hour in Rs\n",
"ct2 = 1 // cycle time per piece in min.\n",
"slc2 = 20 // setting up labour cost in Rs per hour\n",
"st2 = 8 // setting up time in hour\n",
"mo2 = 1000/100 // machine over heads of operation labour cost\n",
"o2 = mo2*olc2 // overheads of single spindle in Rs per hour\n",
"fc2 = tc2 + cc2 + slc2*st2 + o2*st2 // fixed cost of single spindle in Rs\n",
"vc2 = mc2 + (olc2*ct2)/60 + (slc2)/60 // variable cost in Rs\n",
"q = (fc2-fc1)/(vc1-vc2) // break even quantity\n",
"printf('\n Break even quantity for a component which can be produced on either the capstan lathe or single spindle automatic = %d pieces' , q)"
   ]
   }
,
{
		   "cell_type": "markdown",
		   "metadata": {},
		   "source": [
			"## Example 5.32: To_do_break_even_analysis.sce"
		   ]
		  },
  {
"cell_type": "code",
	   "execution_count": null,
	   "metadata": {
	    "collapsed": true
	   },
	   "outputs": [],
"source": [
"clc\n",
"// Engine lathe\n",
"t = 12 // time/piece in min.\n",
"l = 7 // overhead cost/hr\n",
"o = 4 // direct labour cost/hr\n",
"s = 2 // set up time in hour\n",
"sr = 8 // set up rate per \n",
"// turret lathe\n",
"T = 5 // time/piece in min.\n",
"L = 5 // overhead cost/hr\n",
"O = 8 // direct labour cost/hr\n",
"S = 8 // set up time in hour\n",
"SR = 8 // set up rate per \n",
"q = 60*(S*SR-s*sr)/(t*(l+o)-T*(L+O)) // break even point\n",
"q = round(q)\n",
"printf('\n Break even point = %d pieces' , q)"
   ]
   }
,
{
		   "cell_type": "markdown",
		   "metadata": {},
		   "source": [
			"## Example 5.33: To_calculate_minimum_number_of_pieces.sce"
		   ]
		  },
  {
"cell_type": "code",
	   "execution_count": null,
	   "metadata": {
	    "collapsed": true
	   },
	   "outputs": [],
"source": [
"clc\n",
"fc1 = 80000 // fixed cost for turret lathe in Rs\n",
"fc2 = 32000 // fixed cost for engine lathe in Rs\n",
"n1 = 16 // production of pieces per year in turret lathe\n",
"n2 = 10 // production of pieces per year in engine lathe\n",
"vc1 = 2 //operators cost in turret lathe\n",
"vc2 = 2.5 // operators cost in engine lathe\n",
"Q=poly(0,'Q')\n",
"Q=roots((fc1+1/n1*vc1*Q)-(fc2+2.5*Q/10))\n",
"printf('\n Break even point = %d pieces' , Q)"
   ]
   }
,
{
		   "cell_type": "markdown",
		   "metadata": {},
		   "source": [
			"## Example 5.34: To_determine_the_point.sce"
		   ]
		  },
  {
"cell_type": "code",
	   "execution_count": null,
	   "metadata": {
	    "collapsed": true
	   },
	   "outputs": [],
"source": [
"clc\n",
"st1 = 15 // set up time for engine lathe in min.\n",
"ut1 = 15 // unit time for engine lathe in min.\n",
"st2 = 90 // set up time for automatic lathe in min.\n",
"ut2 = 1.5 // unit time for engine lathe in min.\n",
"q = (st2-st1)/(ut1-ut2) // quantity of production\n",
"printf('\n The point at which the automatic lathe will be justified = %0.2f ' , q)\n",
"// Answers vary due to round off error"
   ]
   }
,
{
		   "cell_type": "markdown",
		   "metadata": {},
		   "source": [
			"## Example 5.35: To_find_quantity_of_pieces.sce"
		   ]
		  },
  {
"cell_type": "code",
	   "execution_count": null,
	   "metadata": {
	    "collapsed": true
	   },
	   "outputs": [],
"source": [
"clc\n",
"// Automatic lathe\n",
"p = 30 // number of pieces produced per hour \n",
"l = 4 // labour rate per hour in Rs\n",
"d = 4.50 // hourly depreciation rate per machine in hour\n",
"s = 4 // set up time in hour\n",
"// turret lathe\n",
"P = 10 // number of pieces produced per hour \n",
"L = 4 // labour rate per hour in Rs\n",
"D = 1.50 // hourly depreciation rate per machine in hour\n",
"S = 2 // set up time in hour\n",
"q = (P*p*(S*L+S*D-s*l-s*d))/(P*(l+d)-p*(L+D)) // quantity of pieces at break even point\n",
"printf('\n Quantity of pieces at Break even point = %d pieces' , q)"
   ]
   }
,
{
		   "cell_type": "markdown",
		   "metadata": {},
		   "source": [
			"## Example 5.36: To_determine_quantity_of_production.sce"
		   ]
		  },
  {
"cell_type": "code",
	   "execution_count": null,
	   "metadata": {
	    "collapsed": true
	   },
	   "outputs": [],
"source": [
"clc\n",
"Pa = 8.4 // unit tool process cost for method A in Rs\n",
"Pb = 14.8 // unit tool process cost for method B in Rs\n",
"Ta = 6480 //total tool cost for method A in Rs \n",
"Tb = 1616 //total tool  cost for method B in Rs\n",
"q = (Ta-Tb)/(Pb-Pa) // break even point\n",
"printf('\n Quantity of production at break even point = %d pieces' , q) "
   ]
   }
,
{
		   "cell_type": "markdown",
		   "metadata": {},
		   "source": [
			"## Example 5.37: find_preference_between_machines_and_production.sce"
		   ]
		  },
  {
"cell_type": "code",
	   "execution_count": null,
	   "metadata": {
	    "collapsed": true
	   },
	   "outputs": [],
"source": [
"clc\n",
"// machine A\n",
"ic1 = 50000 // initial cost\n",
"hoc1 = 10 // hourly operating charges\n",
"pp1= 5 // pieces produced per hour\n",
"i = 15 // interest rate\n",
"i = i/100\n",
"oh = 2000 // operating hours\n",
"fc1 = ic1*i // fixed cost\n",
"vc1 = oh*hoc1 // variable cost\n",
"tc1 = fc1+vc1 // total charges\n",
"ao1 = oh*pp1 // annual output\n",
"c1 = tc1/ao1 // cost per unit\n",
"// machine B\n",
"ic2 = 80000 // initial cost\n",
"hoc2 = 8 // hourly operating charges\n",
"pp2= 8 // pieces produced per hour\n",
"fc2 = ic2*i // fixed cost\n",
"vc2 = oh*hoc2 // variable cost\n",
"tc2 = fc2+vc2 // total charges\n",
"ao2 = oh*pp2 // annual output\n",
"c2 = tc2/ao2 // cost per unit\n",
"printf('\n (i) Cost per unit for machine A = Rs %0.2f\n Cost per unit machine B = Rs %0.2f',c1,c2)\n",
"disp('machine B will be preferred')\n",
"// machine A\n",
"ao3 = 4000 // annual output\n",
"oc3 = ao3*hoc1/pp1 // operating charges \n",
"tc3 = oc3+fc1 // total annual charge\n",
"c3 = tc3/ao3 // cost/piece \n",
"// machine B\n",
"ao4 = 4000 // annual output\n",
"oc4 = ao4*hoc2/pp2 // operating charges \n",
"tc4 = oc4+fc2 // total annual charge\n",
"c4 = tc4/ao4// cost/piece\n",
"printf('\n (ii) Cost per unit for machine A = Rs %0.2f\n Cost per unit machine B = Rs %0.2f',c3,c4)\n",
"disp('machine A will be preferred')\n",
"A = hoc1/pp1 // operating cost per piece on machine A\n",
"B = hoc2/pp2 // operating cost per piece on machine B\n",
"Q = fc2 - fc1 // annual production\n",
"printf('\n(iii) Annual production to make cost per piece equal for two machines = %d pieces' , Q )\n",
""
   ]
   }
,
{
		   "cell_type": "markdown",
		   "metadata": {},
		   "source": [
			"## Example 5.38: To_find_BEP_and_various_sales.sce"
		   ]
		  },
  {
"cell_type": "code",
	   "execution_count": null,
	   "metadata": {
	    "collapsed": true
	   },
	   "outputs": [],
"source": [
"clc\n",
"as = 80000 // annual sales in Rs\n",
"vc = 64000 // variable expenses in Rs\n",
"c = 16000 // contribution in Rs\n",
"fc = 24000 // fixed expenses in Rs\n",
"l = 8000 // losses in Rs\n",
"p = 9000 // profit in Rs\n",
"s1 = fc + vc // sales at B.E.P in Rs\n",
"s2 = (fc + vc + p)/0.945 // sales at net income of Rs9000 and corporate tax rate being 5.5%\n",
"q = 10000 // quantity of units\n",
"sp = (fc+vc)/q // selling price per unit in Rs\n",
"printf('\n Sales at break even point = %d units' , s1 )\n",
"printf('\n Sales at net income of Rs9000 and corporate tax rate being 5.5 = Rs %0.2f\n Sales per unit if B.E.P brought down to 10000 units = Rs %0.2f per unit' ,s2 , sp)"
   ]
   }
,
{
		   "cell_type": "markdown",
		   "metadata": {},
		   "source": [
			"## Example 5.39: To_determine_break_even_point.sce"
		   ]
		  },
  {
"cell_type": "code",
	   "execution_count": null,
	   "metadata": {
	    "collapsed": true
	   },
	   "outputs": [],
"source": [
"clc\n",
"fc = 55000 // fixed cost in Rs\n",
"vc = 45 // variable cost per piece in Rs\n",
"sp = 100 // selling price per piece in Rs\n",
"p = (vc/sp)*100 // percentage of variable cost to \n",
"pm = 100 - p // profit margin\n",
"bep = ((55000/55)*100)/100 // Break even point\n",
"printf('\n Break even point = %d pieces' , bep)"
   ]
   }
,
{
		   "cell_type": "markdown",
		   "metadata": {},
		   "source": [
			"## Example 5.3: find_project_is_economical_or_not.sce"
		   ]
		  },
  {
"cell_type": "code",
	   "execution_count": null,
	   "metadata": {
	    "collapsed": true
	   },
	   "outputs": [],
"source": [
"clc\n",
"// cash in flows\n",
"a = 21240 // annual revenue in Rs\n",
"i = 10 // annual interest rate\n",
"i = 10/100\n",
"n = 5 // perod in years\n",
"f1 = 8000 // salvage value in Rs\n",
"p1 =  (a*((i+1)^n-1))/(i*(i+1)^5)// annual revenue in Rs\n",
"p2 = f1/(i+1)^5 //present worth in Rs\n",
"t1 = p1 + p2 // total cash in flows in Rs\n",
"// cash out flows\n",
"I = 40000 // investment in Rs\n",
"f2 = 12000 // annual payment in Rs\n",
"p3 = (f2*((1+i)^5-1))/(i*(1+i)^5) // annual payments in Rs\n",
"t2 = I + p3 // total cash out flows in Rs\n",
"printf('\nTotal cash in flows = Rs %0.2f\nTotal cash out flows = Rs %0.2f',t1 ,t2) \n",
"disp('Since cash out flows are more than cash in flows therefore project is not economical')\n",
"// Answers vary due to round off error"
   ]
   }
,
{
		   "cell_type": "markdown",
		   "metadata": {},
		   "source": [
			"## Example 5.40: To_calculate_economic_lot_size.sce"
		   ]
		  },
  {
"cell_type": "code",
	   "execution_count": null,
	   "metadata": {
	    "collapsed": true
	   },
	   "outputs": [],
"source": [
"clc\n",
"f1 = 335 // fixed cost in Rs for capstan lathe\n",
"k = 0.25 // stock carrying factor in paise per piece\n",
"k = k/100\n",
"N1 = sqrt(f1/k) // pieces for capstan lathe\n",
"a1 = 4.16 // variable cost per piece for capstan lathe\n",
"tc1 = a1+f1/N1+k*N1 // total cost for capstan lathe\n",
"f2 = 2120 // fixed cost in Rs for turret lathe\n",
"N2 = sqrt(f2/k) // pieces for turret lathe \n",
"a2 = 2.863 // variable cost per piece for turret lathe\n",
"tc2 = a2+f2/N2+k*N2 // total cost for turret lathe\n",
"printf('\n Total cost per piece for capstan lathe = Rs %0.2f\n Total cost per piece for turret lathe = Rs %0.2f' , tc1 , tc2)\n",
"// Answers vary due to round off error"
   ]
   }
,
{
		   "cell_type": "markdown",
		   "metadata": {},
		   "source": [
			"## Example 5.41: To_find_EOQ_and_total_cost.sce"
		   ]
		  },
  {
"cell_type": "code",
	   "execution_count": null,
	   "metadata": {
	    "collapsed": true
	   },
	   "outputs": [],
"source": [
"clc\n",
"R=500 // cost of ordering in Rs per order  \n",
"A=12000 //annual consumption units\n",
"C=3.00 // unit cost of item\n",
"K=3 // unit storage cost\n",
"I1=0.2 // interest rate\n",
"function y=f(N)\n",
"function G=f2(N)\n",
"G=C*A+I1*C*N/2+K*N/2+A*R/N // total cost per year\n",
"endfunction\n",
"y=derivative(f2,N)\n",
"endfunction\n",
"funcprot(0)\n",
"N=fsolve(2000,f)\n",
"O = A/N // number of orders\n",
"N1 = 2400 // units\n",
"tc = C*A + I1*C*N1/2 + K*N1/2 + A*R/N1 // total cost in Rs\n",
"I2 = (2*R*A)/(C*N1^2) \n",
"printf('\n Economic order quantity = %d units\n Totl cost = Rs %d per year\n I = %0.4f',N1,tc,I2)\n",
"disp(' It is clear that inventory cost will get increased very greatly')"
   ]
   }
,
{
		   "cell_type": "markdown",
		   "metadata": {},
		   "source": [
			"## Example 5.42: Determine_optimum_lot_size.sce"
		   ]
		  },
  {
"cell_type": "code",
	   "execution_count": null,
	   "metadata": {
	    "collapsed": true
	   },
	   "outputs": [],
"source": [
"clc\n",
"A = 40000 // number of units per year\n",
"I = 25 // carrying cost in percent\n",
"I = I/100\n",
"C1 = 8 // cost for 0 < N < 1000 per unit in Rs\n",
"C2 = 7.5 // cost for 1000 < N < 10000 per unit in Rs\n",
"C3 = 7.25 // cost for N >= 10000 per unit in Rs\n",
"R = 250 // ordering cost per order in Rs\n",
"N = 10000 // units\n",
"N1 = sqrt(2*R*A/(I*C3)) // optimal quantity for lowest curve\n",
"G1= C3*A+(A*R)/N+I*C3*N/2 // total cost in Rs\n",
"N2 = sqrt(2*R*A/(I*C2)) // optimal quantity for higher curve\n",
"G2= C2*A+(A*R)/N2+I*C2*N2/2 // total cost in Rs\n",
"N3 = sqrt(2*R*A/(I*C1)) // optimal quantity for highest curve\n",
"G3 = C1*A+(A*R)+1 // total cost in Rs\n",
"printf('\n Total cost for lowest cost curve = Rs %0.2f\n Total cost for next higher curve = Rs %0.2f\n Total cost for highest curve = Rs %0.2f ' , G1,G2,G3)\n",
"disp('Comparing all total cost lowest is Rs 300,062.50 for an order quantity of 10,000.')\n",
"disp('N = 10,000 and No. of orders = 4')"
   ]
   }
,
{
		   "cell_type": "markdown",
		   "metadata": {},
		   "source": [
			"## Example 5.43: To_find_most_economical_lot_size.sce"
		   ]
		  },
  {
"cell_type": "code",
	   "execution_count": null,
	   "metadata": {
	    "collapsed": true
	   },
	   "outputs": [],
"source": [
"clc\n",
"c = 50000 // components\n",
"R=500 // cost of ordering in Rs per order  \n",
"A=12000 //annual consumption units\n",
"C=3.00 // unit cost of item\n",
"K=1.50 // unit storage cost\n",
"I=0.2 // interest rate\n",
"function y=f(N)\n",
"    function G=f2(N)\n",
"        G=0.02*N+1500000/N\n",
"    endfunction\n",
"y=derivative(f2,N)\n",
"endfunction\n",
"funcprot(0)\n",
"N=fsolve(2000,f)\n",
"l = c/N // number of lots\n",
"l = ceil(l)\n",
"ls = c/l // lot size\n",
"printf('\n The lot size = %d components',ls)"
   ]
   }
,
{
		   "cell_type": "markdown",
		   "metadata": {},
		   "source": [
			"## Example 5.4: selection_of_economical_machine.sce"
		   ]
		  },
  {
"cell_type": "code",
	   "execution_count": null,
	   "metadata": {
	    "collapsed": true
	   },
	   "outputs": [],
"source": [
"clc\n",
"//Machine A\n",
"f1 = 2000 // annual benefit from better production quality in Rs\n",
"i = 10 // interest rate\n",
"i = 10/100\n",
"f2 = 12000 // salvage value in Rs\n",
"f3 = 8000 // operating and maintenance cost in Rs\n",
"I1 = 100000 // initial cost in Rs\n",
"n = 5 // years\n",
"p1 = (f1*((1+i)^n-1))/(i*(i+1)^n)\n",
"p2 = f2/(1+i)^n\n",
"c1 = p1 + p2 // cash in flows in Rs\n",
"p3 = (f3*((1+i)^n-1))/(i*(i+1)^n)\n",
"c2 = I1 + p3 // cash out flows in Rs\n",
"Pa = c1 - c2 // net P.W.in Rs\n",
"//Machine B\n",
"I2 = 60000 // initial cost in Rs\n",
"f4 = 16000 // operating and maintenance cost in Rs\n",
"f5 = 14000 // reconditioning at the end of third year in Rs\n",
"p4 = (16000*((1+i)^5-1))/(i*(1+i)^5)\n",
"p5 = f5/(1+i)^5\n",
"Pb = -I2 - p4 - p5 // net P.W.in Rs\n",
"printf('\n Net P.W.of Machine A= Rs %0.2f\n Net P.W.of Machine B = Rs%0.2f' , Pa ,Pb)\n",
"disp('It is clear that Net P.W of Machine A is less nagative as compared to that of Machine B , therefore Machine A is economcal.')\n",
"// Answers vary due to round off error"
   ]
   }
,
{
		   "cell_type": "markdown",
		   "metadata": {},
		   "source": [
			"## Example 5.5: selection_of_machine.sce"
		   ]
		  },
  {
"cell_type": "code",
	   "execution_count": null,
	   "metadata": {
	    "collapsed": true
	   },
	   "outputs": [],
"source": [
"clc\n",
"//machine A\n",
"c1 = 20000 // manual cost in Rs\n",
"c2 = 40000 // operating cost in Rs\n",
"n1 = 2 // machine life in years\n",
"i = 10 // interest rate \n",
"i = 10/100\n",
"crf1 = ((1+i)^n1-1)/(i*(i+1)^n1) // capital recovery factor\n",
"pw1 = c1+c2*crf1 // present worth in Rs\n",
"// machine B\n",
"c3 = 50000 // manual cost in Rs\n",
"c4 = 30000 // operating cost in Rs\n",
"n2 = 4 // machine life in years\n",
"i = 10/100 // interest rate \n",
"crf2 = ((1+i)^n2-1)/(i*(i+1)^n2) // capital recovery factor\n",
"pw2 = c3+c4*crf2 // present worth in Rs for 4 years\n",
"pw3 = (pw2*crf1)/crf2 // present worth in Rs for 2 years\n",
"printf('\n P.W. of expenses for A = Rs %d\n P.W. of expenses for B = Rs %0.2f' ,pw1,pw3)\n",
"disp('As the expenses of machine B are less , so this is economical')\n",
"// Answers vary due to round off error"
   ]
   }
,
{
		   "cell_type": "markdown",
		   "metadata": {},
		   "source": [
			"## Example 5.6: selection_of_economical_machine.sce"
		   ]
		  },
  {
"cell_type": "code",
	   "execution_count": null,
	   "metadata": {
	    "collapsed": true
	   },
	   "outputs": [],
"source": [
"clc\n",
"//Machine A\n",
"i = 8 // // interest rate\n",
"i = i/100 // interest rate\n",
"n1 = 10 // economic life in years\n",
"CRF1 = i*(1+0.08)^n1/((1+i)^n1-1) // capital recovery factor\n",
"p1 = 46000 // first cost in Rs\n",
"s1 = 8000 // salvage value in Rs\n",
"o1 = 10000 // operating charges in Rs\n",
"AC1 = (p1-s1)*CRF1 + s1*i + o1 // annual cost in Rs\n",
"//Machine B\n",
"n2 = 15 // economic life in years\n",
"CRF2 = i*(1+0.08)^n2/((1+i)^n2-1) // capital recovery factor\n",
"p2 = 60000 // first cost in Rs\n",
"s2 = 10000 // salvage value in Rs\n",
"o2 = 9200 // operating charges in Rs\n",
"AC2 = (p2-s2)*CRF2 + s2*i + o2 // annual cost in Rs\n",
"printf('\n Annual cost of machine A = Rs %0.2f\n Annual cost of Machine B = Rs %0.2f' ,AC1, AC2 )\n",
"disp('Machine B will be economical')\n",
"// Error in textbook"
   ]
   }
,
{
		   "cell_type": "markdown",
		   "metadata": {},
		   "source": [
			"## Example 5.7: find_ERR_and_economicality_of_project.sce"
		   ]
		  },
  {
"cell_type": "code",
	   "execution_count": null,
	   "metadata": {
	    "collapsed": true
	   },
	   "outputs": [],
"source": [
"clc\n",
"a = 100000 // Ej(p/f,e%,j) in Rs\n",
"n = 5 // life in years\n",
"e = 20 // M.A.R.R.\n",
"e = e/100 // M.A.R.R.\n",
"i = e\n",
"A = 32000 // savings in Rs\n",
"s = 20000 // salvage value in Rs\n",
"b = ((A*(((i+1)^n)-1)/i)+s)/a // (F/p,I,5)\n",
"i2 = (b)^(1/n)-1 // internal rate of return\n",
"printf('\n ERR = %0.4f\n Internal rate of return = %0.2f percent' , b , i2*100)\n",
"disp('Since Internal rate of return is > M.A.R.R , therefore project is feasible')"
   ]
   }
,
{
		   "cell_type": "markdown",
		   "metadata": {},
		   "source": [
			"## Example 5.9: find_ERR_and_economicality_of_project.sce"
		   ]
		  },
  {
"cell_type": "code",
	   "execution_count": null,
	   "metadata": {
	    "collapsed": true
	   },
	   "outputs": [],
"source": [
"clc\n",
"e = 20 // M,A.R.R.\n",
"i = e // interest rste\n",
"i = i/100 \n",
"n = 5 // life in years\n",
"s = 32000 // annual net savings in Rs\n",
"p = 100000 // present worth in Rs\n",
"S = 20000 // salvage value in Rs\n",
"a = (p-S)*(i/((1+i)^n-1)) // (p-s)(A/F,e%,n)\n",
"E = (s-a)/p // E.R.R.R\n",
"printf('\n ERRR = %0.2f percent', E*100)\n",
"disp('Since E.R.R.R is > M.A.R.R. therefore project is feasible.')"
   ]
   }
],
"metadata": {
		  "kernelspec": {
		   "display_name": "Scilab",
		   "language": "scilab",
		   "name": "scilab"
		  },
		  "language_info": {
		   "file_extension": ".sce",
		   "help_links": [
			{
			 "text": "MetaKernel Magics",
			 "url": "https://github.com/calysto/metakernel/blob/master/metakernel/magics/README.md"
			}
		   ],
		   "mimetype": "text/x-octave",
		   "name": "scilab",
		   "version": "0.7.1"
		  }
		 },
		 "nbformat": 4,
		 "nbformat_minor": 0
}
