{
"cells": [
 {
		   "cell_type": "markdown",
	   "metadata": {},
	   "source": [
       "# Chapter 22: Kinematics of machine tools"
	   ]
	},
{
		   "cell_type": "markdown",
		   "metadata": {},
		   "source": [
			"## Example 22.1: Find_range_of_cutting_velocity.sce"
		   ]
		  },
  {
"cell_type": "code",
	   "execution_count": null,
	   "metadata": {
	    "collapsed": true
	   },
	   "outputs": [],
"source": [
"clc\n",
"d1 = 10 // min. dia of cutter in mm\n",
"d2 = 60 // max. dia of cutter in mm\n",
"v = 30e3 // operating speed in m/min\n",
"n1 = v / (%pi * d2) // n_min in rpm\n",
"n2 = v / (%pi * d1) // n_max in rpm\n",
"phi = (n2 / n1)^(1/5)\n",
"spindle_speeds = zeros()\n",
"for i=0:5\n",
"    spindle_speeds(i+1) = phi^i * n1\n",
"end\n",
"cutter_dia = v ./ (%pi * spindle_speeds)\n",
"clf()\n",
"y = [0; v]\n",
"plot([0; cutter_dia(1)], y, [0; cutter_dia(2)], y, [0; cutter_dia(3)], y, [0; cutter_dia(4)], y, [0; cutter_dia(5)], y, [0; cutter_dia(6)], y)\n",
"xtitle('','cutter diameter mm','cutting velocity, m/min')\n",
"// from graph\n",
"vmax1 = 36 // m/min\n",
"vmin1 = 24.5 // m/min\n",
"r1 = vmax1 - vmin1 // Range of cutting speed for 12 mm diameter in m/min\n",
"vmax2 = 36.5 // m/min.\n",
"vmin2 = 26 // m/min.\n",
"r2 = vmax2 - vmin2 // Range of cutting speed for 36 mm diameter in m/min\n",
"printf('\n Range of cutting speed for 12 mm diameter = %0.1f m/min.\n Range of cutting speed for 36 mm diameter = %0.1f m/min.' , r1 , r2)"
   ]
   }
,
{
		   "cell_type": "markdown",
		   "metadata": {},
		   "source": [
			"## Example 22.2: Determine_speed_ratios_and_teeth.sce"
		   ]
		  },
  {
"cell_type": "code",
	   "execution_count": null,
	   "metadata": {
	    "collapsed": true
	   },
	   "outputs": [],
"source": [
"clc\n",
"m = 2.5 // module in mm\n",
"phi = 1.2 // common ratio\n",
"n = 150 // speed in rev/min. of driving shaft\n",
"n1 = 70 // speed in rev/min. of driven shaft\n",
"n2 = (phi)^1*n1 // speed in rev/min. of driven shaft\n",
"n3 = (phi)^2*n1 // speed in rev/min. of driven shaft\n",
"n4 = (phi)^3*n1 // speed in rev/min. of driven shaft\n",
"T1=poly(0,'T1')\n",
"t1=n1/n*T1\n",
"T1=roots(t1+T1-80)\n",
"t1=horner(t1,T1)\n",
"T2=poly(0,'T2')\n",
"t2=n2/n*T2\n",
"T2=roots(t2+T2-80)\n",
"t2=horner(t2,T2)\n",
"T3=poly(0,'T3') \n",
"t3=n3/n*T3\n",
"T3=roots(t3+T3-80)\n",
"t3=horner(t3,T3)\n",
"T4=poly(0,'T4')\n",
"t4=n4/n*T4\n",
"T4=roots(t4+T4-80)\n",
"t4=horner(t4,T4)\n",
"t1 = floor(t1) // number of teeth on driving shaft\n",
"T1 = ceil(T1) // number of teeth on driven shaft\n",
"t2 = ceil(t2) // number of teeth on driving shaft\n",
"T2 = floor(T2) // number of teeth on driven shaft\n",
"t3 = floor(t3) // number of teeth on driving shaft\n",
"T3 = ceil(T3) // number of teeth on driven shaft\n",
"t4 = ceil(t4) // number of teeth on driving shaft\n",
"T4 = floor(T4) // number of teeth on driven shaft\n",
" // running speeds\n",
"n1 = n*t1/T1\n",
"n2 = n*t2/T2\n",
"n3 = n*t3/T3\n",
"n4 = n*t4/T4\n",
"printf('\n Number of teeth on driver and driven are :- \n t1 = %d ,T1 = %d\n t2 = %d ,T2 = %d \n t3 = %d ,T3 = %d \n t4 = %d ,T4 = %d ',t1,T1,t2,T2,t3,T3,t4,T4)\n",
"printf('\n The actual running speed of driven shaft will be : \n n1 = %0.2f rev/min\n n2 = %0.2f rev/min \n n3 = %0.2f rev/min \n n4 = %0.2f rev/min',n1,n2,n3,n4)\n",
"// Answer of n3 is given wrong in book\n",
"// Answer vary due to round off error"
   ]
   }
,
{
		   "cell_type": "markdown",
		   "metadata": {},
		   "source": [
			"## Example 22.3: Calculate_speed_and_number_of_teeths.sce"
		   ]
		  },
  {
"cell_type": "code",
	   "execution_count": null,
	   "metadata": {
	    "collapsed": true
	   },
	   "outputs": [],
"source": [
"clc\n",
"z = 6 // number of steps\n",
"n1 = 180 // rev/min\n",
"n2 = 100 // rev/min\n",
"Rn = n1/n2 \n",
"phi = (Rn)^(1/(z-1)) // common ratio\n",
"n3 = phi*n2 // rev/min\n",
"n4 = (phi)^2*n2 // rev/min\n",
"n5 = (phi)^3*n2 // rev/min\n",
"n6 = (phi)^4*n2 // rev/min\n",
"n7 = 225 // speed of input shaft in rev/min\n",
"Ta=poly(0,'Ta')\n",
"tb=n7/n5*Ta\n",
"Ta=roots(tb+Ta-52)\n",
"tb=horner(tb,Ta)\n",
"tb = ceil(tb)\n",
"Tc=poly(0,'Tc')\n",
"td=n7/n6*Tc\n",
"Tc=roots(td+Tc-52)\n",
"td=horner(td,Tc)\n",
"Tc = ceil(Tc)\n",
"Te=poly(0,'Te') \n",
"tf=n7/n1*Te\n",
"Te=roots(tf+Te-52)\n",
"tf=horner(tf,Te)\n",
"tf = ceil(tf)\n",
"Th=poly(0,'Th')\n",
"tj=n2/n5*Th\n",
"Th=roots(tj+Th-46)\n",
"Th = ceil(Th)\n",
"tj=horner(tj,Th)\n",
"tj = floor(tj)\n",
"Ti=poly(0,'Ti')\n",
"tg=n5/n5*Ti\n",
"Ti=roots(tg+Ti-46)\n",
"tg=horner(tg,Ti)\n",
"printf('\n Ta = %d Tb = %d \n Tc = %d Td = %d \n Te = %d tf = %d \n Th = %d Tj = %d \n Ti = %d Tg = %d' , Ta,tb,Tc,td,Te,tf,tj,Th,Ti,tg)\n",
"// 'Answers vary due to round off error'"
   ]
   }
,
{
		   "cell_type": "markdown",
		   "metadata": {},
		   "source": [
			"## Example 22.4: Calculate_common_ratio.sce"
		   ]
		  },
  {
"cell_type": "code",
	   "execution_count": null,
	   "metadata": {
	    "collapsed": true
	   },
	   "outputs": [],
"source": [
"clc\n",
"v = 21 // cutting speed in rev/min.\n",
"z = 6\n",
"dmin = 5 // daimeter in mm\n",
"dmax = 20 // daimeter in mm\n",
"nmax = 1000*v/(%pi*dmin) // spindle speed in rev/min.\n",
"nmin = 1000*v/(%pi*dmax) // spindle speed in rev/min.\n",
"phi = (nmax/nmin)^(1/(z-1)) // common ratio\n",
"n1 = nmin // rev/min.\n",
"n2 = phi*n1 // rev/min.\n",
"n3 = (phi)^2*n1 // rev/min.\n",
"n4 = (phi)^3*n1 // rev/min.\n",
"n5 = (phi)^4*n1 // rev/min.\n",
"n6 = (phi)^5*n1 // rev/min.\n",
"printf('\n Common ratio = %0.2f \n Spindle speeds are : %0.2f , %0.1f , %0.2f , %0.2f ,%0.2f and %0.1f rev/min.',phi,n1,n2,n3,n4,n5,n6)\n",
"// 'Answers vary due to round off error'"
   ]
   }
,
{
		   "cell_type": "markdown",
		   "metadata": {},
		   "source": [
			"## Example 22.5: Calculate_gear_ratio_teeth_and_speed.sce"
		   ]
		  },
  {
"cell_type": "code",
	   "execution_count": null,
	   "metadata": {
	    "collapsed": true
	   },
	   "outputs": [],
"source": [
"// from fig. 22.18A\n",
"clc\n",
"// Three gear ratios between input and intermediate shaft\n",
"nmax = 1400 // maximum speed in rev/min.\n",
"i1 = 1/1\n",
"i2 = 1/1.26\n",
"i3 = 1/(1.26)^2\n",
"// The two ratios between intermediate and output shaft\n",
"i4 = 1/1\n",
"i5 = 1/(1.26)^3\n",
"// number of teeth for input and intermediate shaft\n",
"t1 = 27/27\n",
"t2 = 24/30\n",
"t3 = 21/33\n",
"//  number of teeth for output and intermediate shaft\n",
"t4 = 34/34\n",
"t5 = 20/48\n",
"// output speeds in rev./min\n",
"n1 = t3*t5*nmax\n",
"n2 = t2*t5*nmax\n",
"n3 = t1*t5*nmax\n",
"n4 = t3*t4*nmax\n",
"n5 = t2*t4*nmax\n",
"n6 = t1*t4*nmax\n",
"printf('\n Three gear ratios between input and intermediate shaft i1 = %d i2 = %0.2f i3 = %0.3f \n  The two ratios between intermediate and output shaft i4 = %d i5 = %0.3f \n number of teeth for each pair between input and intermediate shaft t1 = 27/27 ,t2 = 24/30 , t3 = 21/33 \n number of teeth for each pair between output and intermediate shaft = t4 = 34/34 ,t5 = 20/48 \n Output speeds \n n1 = %d  rev/min , n2 = %d rev/min , n3 = %d rev/min \n n4 = %d rev/min, n5 = %d rev/min , n6 = %d rev/min' ,i1 , i2 , i3 , i4 , i5 , n1 , n2, n3,n4,n5,n6)\n",
"// Answer vary due to round off error"
   ]
   }
],
"metadata": {
		  "kernelspec": {
		   "display_name": "Scilab",
		   "language": "scilab",
		   "name": "scilab"
		  },
		  "language_info": {
		   "file_extension": ".sce",
		   "help_links": [
			{
			 "text": "MetaKernel Magics",
			 "url": "https://github.com/calysto/metakernel/blob/master/metakernel/magics/README.md"
			}
		   ],
		   "mimetype": "text/x-octave",
		   "name": "scilab",
		   "version": "0.7.1"
		  }
		 },
		 "nbformat": 4,
		 "nbformat_minor": 0
}
