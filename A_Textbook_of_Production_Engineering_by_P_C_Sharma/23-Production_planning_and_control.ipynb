{
"cells": [
 {
		   "cell_type": "markdown",
	   "metadata": {},
	   "source": [
       "# Chapter 23: Production planning and control"
	   ]
	},
{
		   "cell_type": "markdown",
		   "metadata": {},
		   "source": [
			"## Example 23.10: Calculate_EOQ_and_reorder_point.sce"
		   ]
		  },
  {
"cell_type": "code",
	   "execution_count": null,
	   "metadata": {
	    "collapsed": true
	   },
	   "outputs": [],
"source": [
"clc\n",
"a = 1000000 // annual requirement of parts\n",
"r = 32 // ordering cost per lot in Rs\n",
"k = 4 // inventory carrying cost per unit \n",
"d1 = 250 // number of working days\n",
"d2 = 2 // days for safety stock\n",
"d3 = 4 // lead time in days\n",
"eoq = sqrt(2*r*a/k) // economical order quantity\n",
"oc = r*a/eoq // ordering cost in Rs\n",
"cc = k*eoq/2 // carrying cost in Rs\n",
"tc = oc + cc // total inventory cost in Rs\n",
"ss = a*d2/d1 // safety stock\n",
"ro_p = ss+eoq*d3 // reorder point\n",
"printf('\n Economic order qunantity = %d components\n Re-order point = %d components' , eoq ,ro_p)"
   ]
   }
,
{
		   "cell_type": "markdown",
		   "metadata": {},
		   "source": [
			"## Example 23.1: Calculate_forecast.sce"
		   ]
		  },
  {
"cell_type": "code",
	   "execution_count": null,
	   "metadata": {
	    "collapsed": true
	   },
	   "outputs": [],
"source": [
"clc\n",
"d1 = 90 // demand for first quarter\n",
"d2 = 100 // demand for second quarter\n",
"d3 = 80 // demand for third quarter\n",
"sa = (d1+d2+d3)/3 // simple average\n",
"printf('\n Forecast = %d' , sa)"
   ]
   }
,
{
		   "cell_type": "markdown",
		   "metadata": {},
		   "source": [
			"## Example 23.2: Calculate_forecat_by_SMA_method.sce"
		   ]
		  },
  {
"cell_type": "code",
	   "execution_count": null,
	   "metadata": {
	    "collapsed": true
	   },
	   "outputs": [],
"source": [
"clc\n",
"d1 = 300 // demand for july\n",
"d2 = 350 // demand for august\n",
"d3 = 400 // demand for september\n",
"d4 = 500 // demand for october\n",
"d5 = 600 // demand for november\n",
"d6 = 700 // demand for december\n",
"// assuming n = 3 , where n is number of time period\n",
"forecast = (d6+d5+d4)/3 // forecast\n",
"printf('\n Forecast = %d' , forecast)"
   ]
   }
,
{
		   "cell_type": "markdown",
		   "metadata": {},
		   "source": [
			"## Example 23.3: Calculate_forecat_by_WMA_method.sce"
		   ]
		  },
  {
"cell_type": "code",
	   "execution_count": null,
	   "metadata": {
	    "collapsed": true
	   },
	   "outputs": [],
"source": [
"clc\n",
"d1 = 500 // demand for october\n",
"d2 = 600 // demand for november\n",
"d3 = 700 // demand for december\n",
"w1 = 0.25 // relative weight with december\n",
"w2 = 0.25 // relative weight with november\n",
"w3 = 0.5 // relative weight with october\n",
"f = w1*d1 + w2*d2 + w3*d3 // forecast\n",
"printf('\n Forecast by weighted moving average = %d' , f)"
   ]
   }
,
{
		   "cell_type": "markdown",
		   "metadata": {},
		   "source": [
			"## Example 23.4: Calculate_forecast_for_january.sce"
		   ]
		  },
  {
"cell_type": "code",
	   "execution_count": null,
	   "metadata": {
	    "collapsed": true
	   },
	   "outputs": [],
"source": [
"clc\n",
"alpha = 0.7 // smoothing coefficient\n",
"d1 = 250 // demand for november\n",
"d2 = 300 // demand for december\n",
"f1 = 200 // forecast for november\n",
"f2 = alpha*d1 + (1-alpha)*f1 // forecast for december\n",
"f3 = alpha*d2 + (1-alpha)*f2 // forecast for january\n",
"f3 = ceil(f3)\n",
"printf('\n Forecast for january = %d units' , f3)"
   ]
   }
,
{
		   "cell_type": "markdown",
		   "metadata": {},
		   "source": [
			"## Example 23.5: Calculate_total_cost.sce"
		   ]
		  },
  {
"cell_type": "code",
	   "execution_count": null,
	   "metadata": {
	    "collapsed": true
	   },
	   "outputs": [],
"source": [
"clc\n",
"s = 600 // set up cost per lot in Rs\n",
"c = 6 // unit cost of item in Rs\n",
"a = 100000 // annual demand for item\n",
"i = 25 //  annual carrying charges of average inventory\n",
"i = 25/100 \n",
"k = c*i // carrying cost factor in unit/year\n",
"n = sqrt(2*s*a/k) // most economic lot size\n",
"tc = a*c + s*a/n + k*n/2 // total cost in Rs\n",
"printf('\n Total cost = Rs %0.2f' , tc)\n",
"//  'Answers vary due to round off error'"
   ]
   }
,
{
		   "cell_type": "markdown",
		   "metadata": {},
		   "source": [
			"## Example 23.6: Calculate_economical_order_quantity.sce"
		   ]
		  },
  {
"cell_type": "code",
	   "execution_count": null,
	   "metadata": {
	    "collapsed": true
	   },
	   "outputs": [],
"source": [
"clc\n",
"a = 8000 // annual requirement of parts\n",
"c = 60 // unit cost of part in Rs\n",
"r = 150 // ordering cost per lot in Rs\n",
"i = 30 // annual carrying charges of average inventory\n",
"i = 30/100 \n",
"k = i*c // carrying cost per unit per year\n",
"n = sqrt(2*r*a/k) // most economical order quantity\n",
"printf('\n Most economical ordering quantity = %d units' , n)\n",
" "
   ]
   }
,
{
		   "cell_type": "markdown",
		   "metadata": {},
		   "source": [
			"## Example 23.7: Calculate_economic_lot_size.sce"
		   ]
		  },
  {
"cell_type": "code",
	   "execution_count": null,
	   "metadata": {
	    "collapsed": true
	   },
	   "outputs": [],
"source": [
"clc\n",
"a = 12000 // annual requirement\n",
"c = 5 // unit cost of part\n",
"s = 60 // set up cost per lot\n",
"p = 18750 // production rate per year\n",
"i = 20 // inventory carrying cost\n",
"i = 20/100 \n",
"k = i*c // carrying cost per unit per year\n",
"n = sqrt(2*s/(1/a-1/p)*k) // Most economic lot size\n",
"printf('\n Most economic lot size = %d parts' , n)"
   ]
   }
,
{
		   "cell_type": "markdown",
		   "metadata": {},
		   "source": [
			"## Example 23.8: Calculate_inventory_control_terms.sce"
		   ]
		  },
  {
"cell_type": "code",
	   "execution_count": null,
	   "metadata": {
	    "collapsed": true
	   },
	   "outputs": [],
"source": [
"clc \n",
"a = 15625 // annual requirement of parts\n",
"c = 12 // unit cost of part in Rs\n",
"r = 60 // ordering cost per lot in Rs\n",
"k = 1.2 // inventory carrying cost per unit \n",
"n = sqrt(2*r*a/k) // economical order quantity\n",
"oc = r*a/n // ordering cost in Rs\n",
"cc = k*n/2 // carrying cost in Rs\n",
"tc = oc + cc // total inventory cost in Rs\n",
"printf('\n Economical order quantity = %d units\n order cost = Rs %d\n carrying cost = Rs %d\n Total inventory cost = Rs %d' , n , oc , cc , tc)"
   ]
   }
,
{
		   "cell_type": "markdown",
		   "metadata": {},
		   "source": [
			"## Example 23.9: Calculate_discount_offered.sce"
		   ]
		  },
  {
"cell_type": "code",
	   "execution_count": null,
	   "metadata": {
	    "collapsed": true
	   },
	   "outputs": [],
"source": [
"clc\n",
"// case a\n",
"a = 50 // annual requirement of parts in tonnes\n",
"c = 500 // unit cost of part in Rs\n",
"r = 100 // ordering cost per order in Rs\n",
"i = 20 // inventory carrying cost \n",
"i = i/100\n",
"d = 2 // discount of purchase cost in percent\n",
"k = i*c // inventory carrying cost per unit \n",
"n1 = sqrt(2*r*a/k) // economical order quantity\n",
"oc1 = r*a/n1 // ordering cost in Rs\n",
"cc1 = k*n1/2 // carrying cost in Rs\n",
"tc1 = oc1 + cc1 // total inventory cost in Rs\n",
"// case b\n",
"n2 = 25 // order per lot\n",
"oc2 = r*a/n2 // ordering cost in Rs\n",
"cc2 = k*n2/2 // carrying cost in Rs\n",
"tc2 = oc2 + cc2 // total inventory cost in Rs\n",
"i = tc2-tc1 // increase in cost in Rs\n",
"d_o = d*c*a/100 // discount offered\n",
"printf('\n Increase in inventory cost = Rs %d\n Discount offered = Rs%d',i,d_o)\n",
"disp('offer is worth accepting')"
   ]
   }
],
"metadata": {
		  "kernelspec": {
		   "display_name": "Scilab",
		   "language": "scilab",
		   "name": "scilab"
		  },
		  "language_info": {
		   "file_extension": ".sce",
		   "help_links": [
			{
			 "text": "MetaKernel Magics",
			 "url": "https://github.com/calysto/metakernel/blob/master/metakernel/magics/README.md"
			}
		   ],
		   "mimetype": "text/x-octave",
		   "name": "scilab",
		   "version": "0.7.1"
		  }
		 },
		 "nbformat": 4,
		 "nbformat_minor": 0
}
