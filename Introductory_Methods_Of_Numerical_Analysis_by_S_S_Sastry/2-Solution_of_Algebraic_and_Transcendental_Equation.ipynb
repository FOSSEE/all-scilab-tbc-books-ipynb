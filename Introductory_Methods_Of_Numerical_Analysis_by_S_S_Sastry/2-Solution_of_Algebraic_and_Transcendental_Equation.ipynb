{
"cells": [
 {
		   "cell_type": "markdown",
	   "metadata": {},
	   "source": [
       "# Chapter 2: Solution of Algebraic and Transcendental Equation"
	   ]
	},
{
		   "cell_type": "markdown",
		   "metadata": {},
		   "source": [
			"## Example 2.10: iteration_method.sce"
		   ]
		  },
  {
"cell_type": "code",
	   "execution_count": null,
	   "metadata": {
	    "collapsed": true
	   },
	   "outputs": [],
"source": [
"//example 2.10\n",
"//iteration method\n",
"//page 33\n",
"clc;clear,close;\n",
"deff('x=f(x)','x=1/(sqrt(x+1))');\n",
"x1=0.75,x2=0;\n",
"n=1;\n",
"d=0.0001;// accuracy opto 10^-4\n",
"c=0;// to count no of iterations \n",
"printf('successive iterations \t\x1\tf(x1)\n')\n",
"while abs(x1-x2)>d\n",
"printf('                      \t%f    %f\n',x1,f(x1))\n",
"x2=x1;\n",
"x1=f(x1);\n",
"c=c+1;\n",
"end\n",
"printf(' the root of the eqaution after %i iteration is %0.4g',c,x1)"
   ]
   }
,
{
		   "cell_type": "markdown",
		   "metadata": {},
		   "source": [
			"## Example 2.11: iteration_method.sce"
		   ]
		  },
  {
"cell_type": "code",
	   "execution_count": null,
	   "metadata": {
	    "collapsed": true
	   },
	   "outputs": [],
"source": [
"//example 2.11\n",
"//iteration method\n",
"//page34\n",
"clc;clear,close;\n",
"deff('x=f(x)','x=(cos(x)+3)/2');\n",
"x1=1.5;// as roots lies between 3/2 and pi/2\n",
"x2=0;\n",
"d=0.0001;// accuracy opto 10^-4\n",
"c=0;// to count no of iterations \n",
"printf('successive iterations \t\x1\tf(x1)\n')\n",
"while abs(x2-x1)>d\n",
"printf('                      \t%f    %f\n',x1,f(x1))\n",
"x2=x1;\n",
"x1=f(x1);\n",
"c=c+1;\n",
"end\n",
"printf(' the root of the eqaution after %i iteration is %0.4g',c,x1)"
   ]
   }
,
{
		   "cell_type": "markdown",
		   "metadata": {},
		   "source": [
			"## Example 2.12: iteration_method.sce"
		   ]
		  },
  {
"cell_type": "code",
	   "execution_count": null,
	   "metadata": {
	    "collapsed": true
	   },
	   "outputs": [],
"source": [
"//example 2.12\n",
"//iteration method\n",
"//page 35\n",
"clc;clear,close;\n",
"deff('x=f(x)','x=exp(-x)');\n",
"x1=1.5;// as roots lies between 0 and 1\n",
"x2=0;\n",
"d=0.0001;// accuracy opto 10^-4\n",
"c=0;// to count no of iterations \n",
"printf('successive iterations \t\x1\t  f(x1)\n')\n",
"while abs(x2-x1)>d\n",
"printf('                      \t%f    %f\n',x1,f(x1))\n",
"x2=x1;\n",
"x1=f(x1);\n",
"c=c+1;\n",
"end\n",
"printf(' the root of the eqaution after %i iteration is %0.4g',c,x1)"
   ]
   }
,
{
		   "cell_type": "markdown",
		   "metadata": {},
		   "source": [
			"## Example 2.13: iteration_method.sce"
		   ]
		  },
  {
"cell_type": "code",
	   "execution_count": null,
	   "metadata": {
	    "collapsed": true
	   },
	   "outputs": [],
"source": [
"//example 2.12\n",
"//iteration method\n",
"//page 35\n",
"clc;clear,close;\n",
"deff('x=f(x)','x=1+(sin(x)/10)');\n",
"x1=1;// as roots lies between 1 and pi evident from graph\n",
"x2=0;\n",
"d=0.0001;// accuracy opto 10^-4\n",
"c=0;// to count no of iterations \n",
"printf('successive iterations \t\x1\tf(x1)\n')\n",
"while abs(x2-x1)>d\n",
"printf('                      \t%f  %f\n',x1,f(x1))\n",
"x2=x1;\n",
"x1=f(x1);\n",
"c=c+1;\n",
"end\n",
"printf(' the root of the eqaution after %i iteration is %0.4g',c,x1)"
   ]
   }
,
{
		   "cell_type": "markdown",
		   "metadata": {},
		   "source": [
			"## Example 2.14: aitkens_process.sce"
		   ]
		  },
  {
"cell_type": "code",
	   "execution_count": null,
	   "metadata": {
	    "collapsed": true
	   },
	   "outputs": [],
"source": [
"//example 2.14\n",
"//aitken's process\n",
"//page 36\n",
"clc,clear,close\n",
"deff('x=f(x)','x=(3+cos(x))/2');\n",
"x0=1.5;\n",
"y=0;\n",
"e=0.0001;\n",
"c=0;\n",
"printf('successive iterations     \tx0\t      x1\t   x2\t      x3\t    y\n')\n",
"for i=1:10\n",
"    x1=f(x0),x2=f(x1),x3=f(x2);\n",
"    y=x3-((x3-x2)^2)/(x3-2*x2+x1);\n",
"    d=y-x0;\n",
"    x0=y;\n",
"    if abs(f(x0))<e then\n",
"        break;\n",
"    end\n",
"    c=c+1;\n",
"printf('                          \t%f   %f   %f   %f   %f\n',x0,x1,x2,x3,y)\n",
"end\n",
"printf('the root of the equation after %i iteration is %f',c,y);\n",
""
   ]
   }
,
{
		   "cell_type": "markdown",
		   "metadata": {},
		   "source": [
			"## Example 2.15: newton_raphson_method.sce"
		   ]
		  },
  {
"cell_type": "code",
	   "execution_count": null,
	   "metadata": {
	    "collapsed": true
	   },
	   "outputs": [],
"source": [
"//example 2.15\n",
"//newton-raphson method\n",
"//page 39\n",
"clc;clear;close\n",
"deff('y=f(x)','y=x^3-2*x-5');\n",
"deff('y1=f1(x)','y1=3*x^2-2');// first derivative of the function\n",
"x0=2;// initial value\n",
"d=0.0001;\n",
"c=0;n=1;\n",
"printf('successive iterations \tx0\t        f(x0)\t        f1(x0)\n');\n",
"while n==1\n",
"    x2=x0;\n",
"    x1=x0-(f(x0)/f1(x0));\n",
"    x0=x1;\n",
"printf('                      \t%f\t%f\t%f\n',x2,f(x1),f1(x1))\n",
"c=c+1;\n",
"if abs(f(x0))<d then\n",
"break;\n",
"end\n",
"end\n",
"printf('the root of %i iteration is:%f',c,x0);"
   ]
   }
,
{
		   "cell_type": "markdown",
		   "metadata": {},
		   "source": [
			"## Example 2.16: newton_raphson_method.sce"
		   ]
		  },
  {
"cell_type": "code",
	   "execution_count": null,
	   "metadata": {
	    "collapsed": true
	   },
	   "outputs": [],
"source": [
"//example 2.16\n",
"//newton-raphson method\n",
"//page 40\n",
"clc;clear;close\n",
"deff('y=f(x)','y=x*sin(x)+cos(x)');\n",
"deff('y1=f1(x)','y1=x*cos(x)');//first derivation of the function\n",
"x0=%pi;// initial value\n",
"d=0.0001;\n",
"c=0;n=1;\n",
"printf('successive iterations \tx0\t        f(x0)\t        f1(x0)\n');\n",
"while n==1\n",
"    x2=x0\n",
"    x1=x0-(f(x0)/f1(x0));\n",
"    x0=x1;\n",
"printf('                      \t%f\t%f\t%f\n',x2,f(x1),f1(x1))\n",
"c=c+1;\n",
"if abs(f(x0))<d then\n",
"break;\n",
"end\n",
"end\n",
"printf('the root of %i iteration is:%f',c,x0);"
   ]
   }
,
{
		   "cell_type": "markdown",
		   "metadata": {},
		   "source": [
			"## Example 2.17: newton_raphson_method.sce"
		   ]
		  },
  {
"cell_type": "code",
	   "execution_count": null,
	   "metadata": {
	    "collapsed": true
	   },
	   "outputs": [],
"source": [
"//example 2.17\n",
"//newton-raphson method\n",
"//page 40\n",
"clc;clear;close\n",
"deff('y=f(x)','y=x*exp(x)-1');\n",
"deff('y1=f1(x)','y1=exp(x)+x*exp(x)');//first derivative of the function\n",
"x0=0;// initial value\n",
"d=0.0001;\n",
"c=0;n=1\n",
"printf('successive iterations \tx0\t        f(x0)\t        f1(x0)\n');\n",
"while n==1\n",
"    x2=x0;\n",
"    x1=x0-(f(x0)/f1(x0));\n",
"    x0=x1;\n",
"printf('                      \t%f\t%f\t%f\n',x2,f(x1),f1(x1))\n",
"c=c+1;\n",
"if abs(f(x0))<d then\n",
"break;\n",
"end\n",
"end\n",
"printf('the root of %i iteration is:%f',c,x0);"
   ]
   }
,
{
		   "cell_type": "markdown",
		   "metadata": {},
		   "source": [
			"## Example 2.18: newton_raphson_method.sce"
		   ]
		  },
  {
"cell_type": "code",
	   "execution_count": null,
	   "metadata": {
	    "collapsed": true
	   },
	   "outputs": [],
"source": [
"//example 2.18\n",
"//newton-raphson method\n",
"//page 41\n",
"clc;clear;close\n",
"deff('y=f(x)','y=sin(x)-x/2');\n",
"deff('y1=f1(x)','y1=cos(x)-1/2');\n",
"x0=%pi/2;// initial value\n",
"d=0.0001;\n",
"c=0;n=1;\n",
"printf('successive iterations \tx0\t        f(x0)\t        f1(x0)\n');\n",
"while n==1\n",
"    x2=x0;\n",
"    x1=x0-(f(x0)/f1(x0));\n",
"    x0=x1;\n",
"    \n",
"printf('                      \t%f\t%f\t%f\n',x2,f(x1),f1(x1))\n",
"c=c+1;\n",
"if abs(f(x0))<d then\n",
"    break;\n",
"end\n",
"end\n",
"printf('the root of %i iteration is:%0.4g',c,x0);"
   ]
   }
,
{
		   "cell_type": "markdown",
		   "metadata": {},
		   "source": [
			"## Example 2.19: newton_raphson_method.sce"
		   ]
		  },
  {
"cell_type": "code",
	   "execution_count": null,
	   "metadata": {
	    "collapsed": true
	   },
	   "outputs": [],
"source": [
"//example 2.19\n",
"//newton-raphson method\n",
"//page 41\n",
"clc;clear;close\n",
"deff('y=f(x)','y=4*exp(-x)*sin(x)-1');\n",
"deff('y1=f1(x)','y1=cos(x)*4*exp(-x)-4*exp(-x)*sin(x)');\n",
"x0=0.2;// initial value\n",
"d=0.0001;\n",
"c=0;n=1;\n",
"printf('successive iterations \tx0\t        f(x0)\t        f1(x0)\n');\n",
"while n==1\n",
"    x2=x0;\n",
"    x1=x0-(f(x0)/f1(x0));\n",
"    x0=x1;\n",
"printf('                      \t%f\t%f\t%f\n',x2,f(x1),f1(x1))\n",
"c=c+1;\n",
"if abs(f(x0))<d then\n",
"break;\n",
"end\n",
"end\n",
"printf('the root of %i iteration is:%0.3g',c,x0);"
   ]
   }
,
{
		   "cell_type": "markdown",
		   "metadata": {},
		   "source": [
			"## Example 2.1: bisection_method.sce"
		   ]
		  },
  {
"cell_type": "code",
	   "execution_count": null,
	   "metadata": {
	    "collapsed": true
	   },
	   "outputs": [],
"source": [
"//example 2.1\n",
"//bisection method\n",
"//page 24\n",
"clc;clear;close;\n",
"deff('y=f(x)','y=x^3-x-1');\n",
"x1=1,x2=2;//f(1) is negative and f(2) is positive\n",
"d=0.0001;//for accuracy of root\n",
"c=1;\n",
"printf('Succesive approximations \t   x1\t   \tx2\t   \tm\t   \tf(m)\n');\n",
"while abs(x1-x2)>d\n",
"    m=(x1+x2)/2;\n",
"printf('                          \t%f\t%f\t%f\t%f\n',x1,x2,m,f(m));\n",
"    if f(m)*f(x1)>0\n",
"        x1=m;\n",
"    else\n",
"        x2=m; \n",
"end\n",
"c=c+1;// to count number of iterations \n",
"end\n",
"printf('the solution of equation after %i iteration is %g',c,m)"
   ]
   }
,
{
		   "cell_type": "markdown",
		   "metadata": {},
		   "source": [
			"## Example 2.20: newton_raphson_method.sce"
		   ]
		  },
  {
"cell_type": "code",
	   "execution_count": null,
	   "metadata": {
	    "collapsed": true
	   },
	   "outputs": [],
"source": [
"//example 2.20\n",
"//generalized newton-raphson method\n",
"//page 42\n",
"clc;clear;close;\n",
"deff('y=f(x)','y=x^3-x^2-x+1');\n",
"deff('y1=f1(x)','y1=3*x^2-2*x-1');\n",
"deff('y2=f2(x)','y2=6*x-2');\n",
"x0=0.8;// initial value to finf double root\n",
"n=1;\n",
"printf('successive iterations   \tx0\t    x1\t       x2\n')\n",
"while n==1\n",
"x1=x0-(f(x0)/f1(x0));\n",
"x2=x0-(f1(x0)/f2(x0));\n",
"if abs(x1-x2)<0.000000001 then\n",
"    x0=(x1+x2)/2;\n",
"    break;\n",
"else\n",
"    x0=(x1+x2)/2;\n",
"end\n",
"printf('                          %f\t%f\t%f\n',x0,x1,x2);\n",
"end\n",
"printf('\n \nthe double root is at: %f',x0 );"
   ]
   }
,
{
		   "cell_type": "markdown",
		   "metadata": {},
		   "source": [
			"## Example 2.21: ramanujans_method.sce"
		   ]
		  },
  {
"cell_type": "code",
	   "execution_count": null,
	   "metadata": {
	    "collapsed": true
	   },
	   "outputs": [],
"source": [
"//ramanujan's method\n",
"//example 2.21\n",
"//page 45\n",
"clc;clear;close;\n",
"deff('y=f(x)','1-((13/12)*x-(3/8)*x^2+(1/24)*x^3)');\n",
"a1=13/12,a2=-3/8,a3=1/24;\n",
"b1=1;\n",
"b2=a1;\n",
"b3=a1*b2+a2*b1;\n",
"b4=a1*b3+a2*b2+a3*b1;\n",
"b5=a1*b4+a2*b3+a3*b2;\n",
"b6=a1*b5+a2*b4+a3*b3;\n",
"b7=a1*b6+a2*b5+a3*b4;\n",
"b8=a1*b7+a2*b6+a3*b5;\n",
"b9=a1*b8+a2*b7+a3*b6;\n",
"printf('\n\n%f',b1/b2);\n",
"printf('\n%f',b2/b3);\n",
"printf('\n%f',b3/b4);\n",
"printf('\n%f',b4/b5);\n",
"printf('\n%f',b5/b6);\n",
"printf('\n%f',b6/b7);\n",
"printf('\n%f',b7/b8);\n",
"printf('\n%f',b8/b9);\n",
"printf('\n it appears as if the roots are converging at 2')"
   ]
   }
,
{
		   "cell_type": "markdown",
		   "metadata": {},
		   "source": [
			"## Example 2.22: ramanujans_method.sce"
		   ]
		  },
  {
"cell_type": "code",
	   "execution_count": null,
	   "metadata": {
	    "collapsed": true
	   },
	   "outputs": [],
"source": [
"//ramanujan's method\n",
"//example 2.22\n",
"//page 46\n",
"clc;clear;close;\n",
"deff('y=f(x)','x+x^2+x^3/2+x^4/6+x^5/24');\n",
"a1=1,a2=1,a3=1/2,a4=1/6,a5=1/24;\n",
"b1=1;\n",
"b2=a2;\n",
"b3=a1*b2+a2*b1;\n",
"b4=a1*b3+a2*b2+a3*b1;\n",
"b5=a1*b4+a2*b3+a3*b2;\n",
"b6=a1*b5+a2*b4+a3*b3;\n",
"printf('\n%f',b1/b2);\n",
"printf('\n%f',b2/b3);\n",
"printf('\n%f',b3/b4);\n",
"printf('\n%f',b4/b5);\n",
"printf('\n%f',b5/b6);\n",
"printf('\n it appears as if the roots are converging at around %f',b5/b6);"
   ]
   }
,
{
		   "cell_type": "markdown",
		   "metadata": {},
		   "source": [
			"## Example 2.23: ramanujans_method.sce"
		   ]
		  },
  {
"cell_type": "code",
	   "execution_count": null,
	   "metadata": {
	    "collapsed": true
	   },
	   "outputs": [],
"source": [
"//ramanujan's method\n",
"//example 2.23\n",
"//page 47\n",
"clc;clear;close;\n",
"deff('y=f(x)','1-2*((3/2)*x+(1/4)*x^2-(1/48)*x^4+x^6/1440-x^8/80640)');\n",
"a1=3/2,a2=1/4,a3=0,a4=1/48,a5=0,a6=1/1440,a7=0,a8=-1/80640;\n",
"b1=1;\n",
"b2=a1;\n",
"b3=a1*b2+a2*b1;\n",
"b4=a1*b3+a2*b2+a3*b1;\n",
"b5=a1*b4+a2*b3+a3*b2;\n",
"b6=a1*b5+a2*b4+a3*b3;\n",
"b7=a1*b6+a2*b5+a3*b4;\n",
"b8=a1*b7+a2*b6+a3*b5;\n",
"b9=a1*b8+a2*b7+a3*b6;\n",
"printf('\n%f',b1/b2);\n",
"printf('\n%f',b2/b3);\n",
"printf('\n%f',b3/b4);\n",
"printf('\n%f',b4/b5);\n",
"printf('\n%f',b5/b6);\n",
"printf('\n%f',b6/b7);\n",
"printf('\n%f',b7/b8);\n",
"printf('\n it appears as if the roots are converging at around %f',b7/b8)"
   ]
   }
,
{
		   "cell_type": "markdown",
		   "metadata": {},
		   "source": [
			"## Example 2.24: ramanujans_method.sce"
		   ]
		  },
  {
"cell_type": "code",
	   "execution_count": null,
	   "metadata": {
	    "collapsed": true
	   },
	   "outputs": [],
"source": [
"//ramanujan's method\n",
"//example 2.23\n",
"//page 47\n",
"clc;clear;close;\n",
"deff('y=f(x)','1-(x-x^2/factorial(2)^2+x^3/factorial(3)^2-x^4/factorial(4)^2)');\n",
"a1=1,a2=-1/(factorial(2)^2),a3=1/(factorial(3)^2),a4=-1/(factorial(4)^2),a5=-1/(factorial(5)^2),a6=1/(factorial(6)^2);\n",
"b1=1;\n",
"b2=a1;\n",
"b3=a1*b2+a2*b1;\n",
"b4=a1*b3+a2*b2+a3*b1;\n",
"b5=a1*b4+a2*b3+a3*b2;\n",
"printf('\n\n%f',b1/b2);\n",
"printf('\n%f',b2/b3);\n",
"printf('\n%f',b3/b4);\n",
"printf('\n%f',b4/b5);\n",
"printf('\n it appears as if the roots are converging at around %f',b4/b5);"
   ]
   }
,
{
		   "cell_type": "markdown",
		   "metadata": {},
		   "source": [
			"## Example 2.25: secant_method.sce"
		   ]
		  },
  {
"cell_type": "code",
	   "execution_count": null,
	   "metadata": {
	    "collapsed": true
	   },
	   "outputs": [],
"source": [
"//example 2.25\n",
"//secant method\n",
"//page 49\n",
"clc;clear;close;\n",
"deff('y=f(x)','y=x^3-2*x-5');\n",
"x1=2,x2=3// initial values\n",
"n=1;\n",
"c=0;\n",
"printf('successive iterations    \tx1          \tx2\t       x3\t        f(x3)\n')\n",
"while n==1\n",
"    x3=(x1*f(x2)-x2*f(x1))/(f(x2)-f(x1)); \n",
"printf('                          \t%f\t%f\t%f\t%f\n',x1,x2,x3,f(x3));\n",
"if f(x3)*f(x1)>0 then\n",
"x2=x3;\n",
"else\n",
"x1=x3;    \n",
"end\n",
"if abs(f(x3))<0.000001 then\n",
"    break;\n",
"end\n",
"c=c+1;\n",
"end\n",
"printf('the root of the equation after %i iteration is: %f',c,x3 )"
   ]
   }
,
{
		   "cell_type": "markdown",
		   "metadata": {},
		   "source": [
			"## Example 2.26: secant_method.sce"
		   ]
		  },
  {
"cell_type": "code",
	   "execution_count": null,
	   "metadata": {
	    "collapsed": true
	   },
	   "outputs": [],
"source": [
"//example 2.26\n",
"//secant method\n",
"//page 50\n",
"clc;clear;close;\n",
"deff('y=f(x)','y=x*exp(x)-1');\n",
"x1=0,x2=1// initial values\n",
"n=1;\n",
"c=0;\n",
"printf('successive iterations    \tx1          \tx2\t       x3\t        f(x3)\n')\n",
"while n==1\n",
"    x3=(x1*f(x2)-x2*f(x1))/(f(x2)-f(x1)); \n",
"printf('                          \t%f\t%f\t%f\t%f\n',x1,x2,x3,f(x3));\n",
"if f(x3)*f(x1)>0 then\n",
"x2=x3;\n",
"else\n",
"x1=x3;    \n",
"end\n",
"if abs(f(x3))<0.0001 then\n",
"    break;\n",
"end\n",
"c=c+1;\n",
"end\n",
"printf('the root of the equation after %i iteration is: %0.4g',c,x3 )"
   ]
   }
,
{
		   "cell_type": "markdown",
		   "metadata": {},
		   "source": [
			"## Example 2.27: mulllers_method.sce"
		   ]
		  },
  {
"cell_type": "code",
	   "execution_count": null,
	   "metadata": {
	    "collapsed": true
	   },
	   "outputs": [],
"source": [
"// example 2.27\n",
"//mulller's method\n",
"//page 52\n",
"clc;clear;close;\n",
"deff ('y=f(x)','y=x^3-x-1');\n",
"x0=0,x1=1,x2=2;// initial values\n",
"n=1;c=0;\n",
"printf(' successive iterations     \tx0\t    x1\t    x2\t      f(x0)\t    f(x1)\t  f(x2)\n')\n",
"while n==1\n",
"    c=c+1;\n",
"y0=f(x0),y1=f(x1),y2=f(x2);\n",
"h2=x2-x1,h1=x1-x0;\n",
"d2=f(x2)-f(x1),d1=f(x1)-f(x0);\n",
"printf('                            \t%f\t  %f\t  %f\t  %f\t  %f\t  %f\n',x0,x1,x2,f(x0),f(x1),f(x2));\n",
"A=(d2/h2-d1/h1)/(h1+h2);\n",
"B=d2/h2+A*h2;;\n",
"S=sqrt(B^2-4*A*f(x2));\n",
"x3=x2-(2*f(x2))/(B+S);\n",
"E=abs((x3-x2)/x2)*100;\n",
"if E<0.003 then\n",
"    break;\n",
"else \n",
"    if c==1 then\n",
"  x2=x3;\n",
"end\n",
"if c==2 then\n",
"    x1=x2;\n",
"    x2=x3;\n",
"end\n",
"if c==3 then\n",
"    x0=x1;\n",
"    x1=x2;\n",
"    x2=x3;\n",
" end\n",
" if c==3 then\n",
"     c=0;\n",
" end\n",
"end\n",
"end\n",
"printf('the required root is : %0.4f',x3)"
   ]
   }
,
{
		   "cell_type": "markdown",
		   "metadata": {},
		   "source": [
			"## Example 2.28: graeffes_method.sce"
		   ]
		  },
  {
"cell_type": "code",
	   "execution_count": null,
	   "metadata": {
	    "collapsed": true
	   },
	   "outputs": [],
"source": [
"//graeffe's method\n",
"//example 2.28\n",
"//page 55\n",
"clc;clear;close;\n",
"deff('y=f(x)','y=x^3-6*x^2+11*x-6');\n",
"x=poly(0,'x');\n",
"g=f(-x);\n",
"printf('the equation is:\n')\n",
"disp(g(x)*f(x));\n",
"A=[1 14 49 36];//coefficients of the above equation\n",
"printf('%0.4g\n',sqrt(A(4)/A(3)));\n",
"printf('%0.4g\n',sqrt(A(3)/A(2)));\n",
"printf('%0.4g\n',sqrt(A(2)/A(1)));\n",
"printf('the equation is:\n')\n",
"disp(g*(-1*g));\n",
"B=[1 98 1393 1296];\n",
"printf('%0.4g\n',(B(4)/B(3))^(1/4));\n",
"printf('%0.4g\n',(B(3)/B(2))^(1/4));\n",
"printf('%0.4g\n',(B(2)/B(1))^(1/4));\n",
"printf('It is apparent from the outputs that the roots converge at 1 2 3')\n",
"\n",
"\n",
"\n",
"\n",
"\n",
"\n",
""
   ]
   }
,
{
		   "cell_type": "markdown",
		   "metadata": {},
		   "source": [
			"## Example 2.29: quadratic_factor_by_lins_bairsttow_method.sce"
		   ]
		  },
  {
"cell_type": "code",
	   "execution_count": null,
	   "metadata": {
	    "collapsed": true
	   },
	   "outputs": [],
"source": [
"//quadratic factor by lin's--bairsttow method\n",
"//example 2.29\n",
"//page 57\n",
"clc;clear;close;\n",
"deff('y=f(x)','y=x^3-x-1');\n",
"a=[-1 -1 0 1];\n",
"r1=1;s1=1;\n",
"b4=a(4);\n",
"deff('b3=f3(r)','b3=a(3)-r*a(4)');\n",
"deff('b2=f2(r,s)','b2=a(2)-r*a(3)+r^2*a(4)-s*a(4)');\n",
"deff('b1=f1(r,s)','b1=a(1)-s*a(3)+s*r*a(4)');\n",
"A=[1,1;2,-1];\n",
"C=[0;1];\n",
"X=A^-1*C;\n",
"dr=X(1,1);ds=X(2,1);\n",
"r2=r1+dr;s2=s1+ds;\n",
"//second pproximation\n",
"r1=r2;s1=s2;\n",
"b11=f1(r2,s2);\n",
"b22=f2(r2,s2);\n",
"h=0.001;\n",
"dr_b1=(f1(r1+h,s1)-f1(r1,s1))/h;\n",
"ds_b1=(f1(r1,s1+h)-f1(r1,s1))/h;\n",
"dr_b2=(f2(r1+h,s1)-f2(r1,s1))/h;\n",
"ds_b2=(f2(r1,s1+h)-f2(r1,s1))/h;\n",
"A=[dr_b1,ds_b1;dr_b2,ds_b2];\n",
"C=[-f1(r1,s1);-f2(r1,s2)];\n",
"X=A^-1*C;\n",
"r2=r1+X(1,1);\n",
"s2=s1+X(2,1);\n",
"printf(' roots correct to 3 decimal places are : %0.3f       %0.3f',r2,s2);\n",
""
   ]
   }
,
{
		   "cell_type": "markdown",
		   "metadata": {},
		   "source": [
			"## Example 2.2: bisection_method.sce"
		   ]
		  },
  {
"cell_type": "code",
	   "execution_count": null,
	   "metadata": {
	    "collapsed": true
	   },
	   "outputs": [],
"source": [
"//example 2.2\n",
"//bisection method\n",
"//page 25\n",
"clc;clear;close;\n",
"deff('y=f(x)','y=x^3-2*x-5');\n",
"x1=2,x2=3;//f(2) is negative and f(3) is positive\n",
"d=0.0001;//for accuracy of root\n",
"c=1;\n",
"printf('Succesive approximations \t   x1\t   \tx2\t   \tm\t   \tf(m)\n');\n",
"while abs(x1-x2)>d\n",
"    m=(x1+x2)/2;\n",
"printf('                          \t%f\t%f\t%f\t%f\n',x1,x2,m,f(m));\n",
"    if f(m)*f(x1)>0\n",
"        x1=m;\n",
"    else\n",
"        x2=m; \n",
"end\n",
"c=c+1;// to count number of iterations \n",
"end\n",
"printf('the solution of equation after %i iteration is %0.4g',c,m)"
   ]
   }
,
{
		   "cell_type": "markdown",
		   "metadata": {},
		   "source": [
			"## Example 2.31: method_of_iteration.sce"
		   ]
		  },
  {
"cell_type": "code",
	   "execution_count": null,
	   "metadata": {
	    "collapsed": true
	   },
	   "outputs": [],
"source": [
"//method of iteration\n",
"//example 2.31\n",
"//page 62\n",
"clc;clear;close;\n",
"deff('x=f(x,y)','(3*y*x^2+7)/10');\n",
"deff('y=g(x,y)','(y^2+4)/5');\n",
"h=0.0001;\n",
"x0=0.5;y0=0.5;\n",
"f1_dx=(f(x0+h,y0)-f(x0,y0))/h;\n",
"f1_dy=(f(x0,y0+h)-f(x0,y0))/h;\n",
"g1_dx=(g(x0+h,y0)-g(x0,y0))/h;\n",
"g1_dy=(g(x0+h,y0)-g(x0,y0))/h;\n",
"if f1_dx+f1_dy<1 & g1_dx+g1_dy<1  then\n",
"    printf('coditions for convergence is satisfied\n\n' )\n",
"end\n",
"printf( ' X\t         Y\t\n\n');\n",
"for i=1:10\n",
"    X=(3*y0*x0^2+7)/10;\n",
"    Y=(y0^2+4)/5;\n",
"    printf('%f\t       %f\t\n',X,Y);\n",
"    x0=X;y0=Y;\n",
"end\n",
"printf('\n\n CONVERGENCE AT (1 1) IS OBVIOUS');\n",
""
   ]
   }
,
{
		   "cell_type": "markdown",
		   "metadata": {},
		   "source": [
			"## Example 2.32: newton_raphson_method.sce"
		   ]
		  },
  {
"cell_type": "code",
	   "execution_count": null,
	   "metadata": {
	    "collapsed": true
	   },
	   "outputs": [],
"source": [
"//newton raphson method\n",
"//example 2.32\n",
"//page 65\n",
"clc;clear;close;\n",
"deff('y=f(x,y)','y=3*y*x^2-10*x+7');\n",
"deff('x=g(y)','x=y^2-5*y+4');\n",
"hh=0.0001;\n",
"x0=0.5,y0=0.5;//initial values\n",
"f0=f(x0,y0);\n",
"g0=g(y0);\n",
"df_dx=(f(x0+hh,y0)-f(x0,y0))/hh;\n",
"df_dy=(f(x0,y0+hh)-f(x0,y0))/hh;\n",
"dg_dx=(g(y0)-g(y0))/hh;\n",
"dg_dy=(g(y0+hh)-g(y0))/hh;\n",
"D1=determ([df_dx,df_dy;dg_dx,dg_dy]);\n",
"h=determ([-f0,df_dy;-g0,dg_dy])/D1;\n",
"k=determ([df_dx,-f0;dg_dx,-g0])/D1;\n",
"x1=x0+h;\n",
"y1=y0+k;\n",
"f0=f(x1,y1);\n",
"g0=g(y1);\n",
"df_dx=(f(x1+hh,y1)-f(x1,y1))/hh;\n",
"df_dy=(f(x1,y1+hh)-f(x1,y1))/hh;\n",
"dg_dx=(g(y1)-g(y1))/hh;\n",
"dg_dy=(g(y1+hh)-g(y1))/hh;\n",
"D2=determ([df_dx,df_dy;dg_dx,dg_dy]);\n",
"h=determ([-f0,df_dy;-g0,dg_dy])/D2;\n",
"k=determ([df_dx,-f0;dg_dx,-g0])/D2;\n",
"x2=x1+h;\n",
"y2=y1+k;\n",
"printf(' the roots of the equation are x2=%f and y2=%f ',x2,y2);"
   ]
   }
,
{
		   "cell_type": "markdown",
		   "metadata": {},
		   "source": [
			"## Example 2.33: newton_raphson_method.sce"
		   ]
		  },
  {
"cell_type": "code",
	   "execution_count": null,
	   "metadata": {
	    "collapsed": true
	   },
	   "outputs": [],
"source": [
"//newton raphson method\n",
"//example 2.33\n",
"//page 66\n",
"clc;clear;close;\n",
"deff('y=f(x,y)','y=x^2+y^2-1');\n",
"deff('x=g(x,y)','x=y-x^2');\n",
"hh=0.0001;\n",
"x0=0.7071,y0=0.7071;//initial values\n",
"f0=f(x0,y0);\n",
"g0=g(x0,y0);\n",
"df_dx=(f(x0+hh,y0)-f(x0,y0))/hh;\n",
"df_dy=(f(x0,y0+hh)-f(x0,y0))/hh;\n",
"dg_dx=(g(x0+hh,y0)-g(x0,y0))/hh;\n",
"dg_dy=(g(x0,y0+hh)-g(x0,y0))/hh;\n",
"D1=determ([df_dx,df_dy;dg_dx,dg_dy]);\n",
"h=determ([-f0,df_dy;-g0,dg_dy])/D1;\n",
"k=determ([df_dx,-f0;dg_dx,-g0])/D1;\n",
"x1=x0+h;\n",
"y1=y0+k;\n",
"f0=f(x1,y1);\n",
"g0=g(x1,y1);\n",
"df_dx=(f(x1+hh,y1)-f(x1,y1))/hh;\n",
"df_dy=(f(x1,y1+hh)-f(x1,y1))/hh;\n",
"dg_dx=(g(x1+hh,y1)-g(x1,y1))/hh;\n",
"dg_dy=(g(x1,y1+hh)-g(x1,y1))/hh;\n",
"D2=determ([df_dx,df_dy;dg_dx,dg_dy]);\n",
"h=determ([-f0,df_dy;-g0,dg_dy])/D2;\n",
"k=determ([df_dx,-f0;dg_dx,-g0])/D2;\n",
"x2=x1+h;\n",
"y2=y1+k;\n",
"printf(' the roots of the equation are x2=%f and y2=%f ',x2,y2);"
   ]
   }
,
{
		   "cell_type": "markdown",
		   "metadata": {},
		   "source": [
			"## Example 2.34: newton_raphson_method.sce"
		   ]
		  },
  {
"cell_type": "code",
	   "execution_count": null,
	   "metadata": {
	    "collapsed": true
	   },
	   "outputs": [],
"source": [
"//newton raphson method\n",
"//example 2.33\n",
"//page 66\n",
"clc;clear;close;\n",
"deff('y=f(x,y)','y=sin(x)-y+0.9793');\n",
"deff('x=g(x,y)','x=cos(y)-x+0.6703');\n",
"hh=0.0001;\n",
"x0=0.5,y0=1.5;//initial values\n",
"f0=f(x0,y0);\n",
"g0=g(x0,y0);\n",
"df_dx=(f(x0+hh,y0)-f(x0,y0))/hh;\n",
"df_dy=(f(x0,y0+hh)-f(x0,y0))/hh;\n",
"dg_dx=(g(x0+hh,y0)-g(x0,y0))/hh;\n",
"dg_dy=(g(x0,y0+hh)-g(x0,y0))/hh;\n",
"D1=determ([df_dx,df_dy;dg_dx,dg_dy]);\n",
"h=determ([-f0,df_dy;-g0,dg_dy])/D1;\n",
"k=determ([df_dx,-f0;dg_dx,-g0])/D1;\n",
"x1=x0+h;\n",
"y1=y0+k;\n",
"f0=f(x1,y1);\n",
"g0=g(x1,y1);\n",
"df_dx=(f(x1+hh,y1)-f(x1,y1))/hh;\n",
"df_dy=(f(x1,y1+hh)-f(x1,y1))/hh;\n",
"dg_dx=(g(x1+hh,y1)-g(x1,y1))/hh;\n",
"dg_dy=(g(x1,y1+hh)-g(x1,y1))/hh;\n",
"D2=determ([df_dx,df_dy;dg_dx,dg_dy]);\n",
"h=determ([-f0,df_dy;-g0,dg_dy])/D2;\n",
"k=determ([df_dx,-f0;dg_dx,-g0])/D2;\n",
"x2=x1+h;\n",
"y2=y1+k;\n",
"printf(' the roots of the equation are x2=%0.4f and y2=%0.4f ',x2,y2);"
   ]
   }
,
{
		   "cell_type": "markdown",
		   "metadata": {},
		   "source": [
			"## Example 2.3: bisection_method.sce"
		   ]
		  },
  {
"cell_type": "code",
	   "execution_count": null,
	   "metadata": {
	    "collapsed": true
	   },
	   "outputs": [],
"source": [
"//example 2.3\n",
"//bisection method\n",
"//page 26\n",
"clc;clear;close;\n",
"deff('y=f(x)','y=x^3+x^2+x+7');\n",
"x1=-3,x2=-2;//f(-3) is negative and f(-2) is positive\n",
"d=0.0001;//for accuracy of root\n",
"c=1;\n",
"printf('Succesive approximations \t   x1\t   \tx2\t   \tm\t   \tf(m)\n');\n",
"while abs(x1-x2)>d\n",
"    m=(x1+x2)/2;\n",
"printf('                          \t%f\t%f\t%f\t%f\n',x1,x2,m,f(m));\n",
"    if f(m)*f(x1)>0\n",
"        x1=m;\n",
"    else\n",
"        x2=m; \n",
"end\n",
"c=c+1;// to count number of iterations \n",
"end\n",
"printf('the solution of equation after %i iteration is %0.4g',c,m)"
   ]
   }
,
{
		   "cell_type": "markdown",
		   "metadata": {},
		   "source": [
			"## Example 2.4: bisection_method.sce"
		   ]
		  },
  {
"cell_type": "code",
	   "execution_count": null,
	   "metadata": {
	    "collapsed": true
	   },
	   "outputs": [],
"source": [
"//example 2.4\n",
"//bisection method\n",
"//page 26\n",
"clc;clear;close;\n",
"deff('y=f(x)','y=x*exp(x)-1');\n",
"x1=0,x2=1;//f(0) is negative and f(1) is positive\n",
"d=0.0005;//maximun tolerance value\n",
"c=1;\n",
"printf('Succesive approximations \t   x1\t   \tx2\t   \tm\t   \ttol\t    \tf(m)\n');\n",
"while abs((x2-x1)/x2)>d\n",
"    m=(x1+x2)/2;//tolerance value for each iteration\n",
"   tol=((x2-x1)/x2)*100;\n",
"printf('                          \t%f\t%f\t%f\t%f\t%f\n',x1,x2,m,tol,f(m));\n",
"    if f(m)*f(x1)>0\n",
"        x1=m;\n",
"    else\n",
"        x2=m; \n",
"end\n",
"c=c+1;// to count number of iterations \n",
"end\n",
"printf('the solution of equation after %i iteration is %0.4g',c,m)"
   ]
   }
,
{
		   "cell_type": "markdown",
		   "metadata": {},
		   "source": [
			"## Example 2.5: bisection_method.sce"
		   ]
		  },
  {
"cell_type": "code",
	   "execution_count": null,
	   "metadata": {
	    "collapsed": true
	   },
	   "outputs": [],
"source": [
"//example 2.5\n",
"//bisection method\n",
"//page 27\n",
"clc;clear;close;\n",
"deff('y=f(x)','y=4*exp(-x)*sin(x)-1');\n",
"x1=0,x2=0.5;//f(0) is negative and f(1) is positive\n",
"d=0.0001;//for accuracy of root\n",
"c=1;\n",
"printf('Succesive approximations \t   x1\t   \tx2\t   \tm\t   \t    \tf(m)\n');\n",
"while abs(x2-x1)>d\n",
"    m=(x1+x2)/2;\n",
"printf('                          \t%f\t%f\t%f\t%f\n',x1,x2,m,f(m));\n",
"    if f(m)*f(x1)>0\n",
"        x1=m;\n",
"    else\n",
"        x2=m; \n",
"end\n",
"c=c+1;// to count number of iterations \n",
"end\n",
"printf('the solution of equation after %i iteration is %0.3g',c,m)"
   ]
   }
,
{
		   "cell_type": "markdown",
		   "metadata": {},
		   "source": [
			"## Example 2.6: false_position_method.sce"
		   ]
		  },
  {
"cell_type": "code",
	   "execution_count": null,
	   "metadata": {
	    "collapsed": true
	   },
	   "outputs": [],
"source": [
"//example 2.6\n",
"//false position method\n",
"//page 28\n",
"clc;clear;close\n",
"deff('y=f(x)','y=x^3-2*x-5');\n",
"a=2,b=3;//f(2) is negative and f(3)is positive\n",
"d=0.00001;\n",
" printf('succesive iterations    \ta\t    b\t    f(a)\t    f(b)\t\  x1\n');\n",
"for i=1:25\n",
"    x1=b*f(a)/(f(a)-f(b))+a*f(b)/(f(b)-f(a));\n",
"    if(f(a)*f(x1))>0\n",
"        b=x1;\n",
"    else\n",
"        a=x1;\n",
"    end\n",
"    if abs(f(x1))<d\n",
"        break\n",
"    end\n",
"    printf('                         \t%f  %f  %f  %f  %f\n',a,b,f(a),f(b),x1);\n",
"end\n",
"printf('the root of the equation is  %f',x1);\n",
""
   ]
   }
,
{
		   "cell_type": "markdown",
		   "metadata": {},
		   "source": [
			"## Example 2.7: false_position_method.sce"
		   ]
		  },
  {
"cell_type": "code",
	   "execution_count": null,
	   "metadata": {
	    "collapsed": true
	   },
	   "outputs": [],
"source": [
"//example 2.7\n",
"//false position method\n",
"//page 29\n",
"clc;clear;close\n",
"deff('y=f(x)','y=x^2.2-69');\n",
"a=5,b=6;//f(5) is negative and f(6)is positive\n",
"d=0.00001;\n",
" printf('succesive iterations    \ta\t    b\t    f(a)\t    f(b)\t\  x1\n');\n",
"for i=1:25\n",
"    x1=b*f(a)/(f(a)-f(b))+a*f(b)/(f(b)-f(a));\n",
"    if(f(a)*f(x1))>0\n",
"        b=x1;\n",
"    else\n",
"        a=x1;\n",
"    end\n",
"    if abs(f(x1))<d\n",
"        break\n",
"    end\n",
"    printf('                         \t%f  %f  %f  %f  %f\n',a,b,f(a),f(b),x1);\n",
"end\n",
"printf('the root of the equation is  %f',x1);\n",
""
   ]
   }
,
{
		   "cell_type": "markdown",
		   "metadata": {},
		   "source": [
			"## Example 2.8: false_position_method.sce"
		   ]
		  },
  {
"cell_type": "code",
	   "execution_count": null,
	   "metadata": {
	    "collapsed": true
	   },
	   "outputs": [],
"source": [
"//example 2.8\n",
"//false position method\n",
"//page 29\n",
"clc;clear;close\n",
"deff('y=f(x)','y=2*x-log10(x)-7');\n",
"a=3,b=4;//f(3) is negative and f(4)is positive\n",
"d=0.00001;\n",
" printf('succesive iterations    \ta\t    b\t    f(a)\t    f(b)\t\  x1\n');\n",
"for i=1:25\n",
"    x1=b*f(a)/(f(a)-f(b))+a*f(b)/(f(b)-f(a));\n",
"    if(f(a)*f(x1))>0\n",
"        b=x1;\n",
"    else\n",
"        a=x1;\n",
"    end\n",
"    if abs(f(x1))<d\n",
"        break\n",
"    end\n",
"    printf('                         \t%f  %f  %f  %f  %f\n',a,b,f(a),f(b),x1);\n",
"end\n",
"printf('the root of the equation is  %0.4g',x1);\n",
""
   ]
   }
,
{
		   "cell_type": "markdown",
		   "metadata": {},
		   "source": [
			"## Example 2.9: false_position_method.sce"
		   ]
		  },
  {
"cell_type": "code",
	   "execution_count": null,
	   "metadata": {
	    "collapsed": true
	   },
	   "outputs": [],
"source": [
"//example 2.9\n",
"//false position method\n",
"//page 30\n",
"clc;clear;close\n",
"deff('y=f(x)','y=4*exp(-x)*sin(x)-1');\n",
"a=0,b=0.5;//f(0) is negative and f(0.5)is positive\n",
"d=0.00001;\n",
" printf('succesive iterations    \ta\t    b\t    f(a)\t    f(b)\t\  x1\n');\n",
"for i=1:25\n",
"    x1=b*f(a)/(f(a)-f(b))+a*f(b)/(f(b)-f(a));\n",
"    if(f(a)*f(x1))>0\n",
"        b=x1;\n",
"    else\n",
"        a=x1;\n",
"    end\n",
"    if abs(f(x1))<d\n",
"        break\n",
"    end\n",
"    printf('                         \t%f  %f  %f  %f  %f\n',a,b,f(a),f(b),x1);\n",
"end\n",
"printf('the root of the equation is  %f',x1);\n",
""
   ]
   }
],
"metadata": {
		  "kernelspec": {
		   "display_name": "Scilab",
		   "language": "scilab",
		   "name": "scilab"
		  },
		  "language_info": {
		   "file_extension": ".sce",
		   "help_links": [
			{
			 "text": "MetaKernel Magics",
			 "url": "https://github.com/calysto/metakernel/blob/master/metakernel/magics/README.md"
			}
		   ],
		   "mimetype": "text/x-octave",
		   "name": "scilab",
		   "version": "0.7.1"
		  }
		 },
		 "nbformat": 4,
		 "nbformat_minor": 0
}
