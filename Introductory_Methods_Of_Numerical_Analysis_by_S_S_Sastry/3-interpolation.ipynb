{
"cells": [
 {
		   "cell_type": "markdown",
	   "metadata": {},
	   "source": [
       "# Chapter 3: interpolation"
	   ]
	},
{
		   "cell_type": "markdown",
		   "metadata": {},
		   "source": [
			"## Example 3.10: practical_interpolation.sce"
		   ]
		  },
  {
"cell_type": "code",
	   "execution_count": null,
	   "metadata": {
	    "collapsed": true
	   },
	   "outputs": [],
"source": [
"//practical interpolation\n",
"//example 3.10\n",
"//page 97\n",
"clc;clear;close;\n",
"x=[0.61 0.62 0.63 0.64 0.65 0.66 0.67];\n",
"y=[1.840431 1.858928 1.877610 1.896481 1.915541 1.934792 1.954237];\n",
"h=0.01//interval between values of x\n",
"c=1;\n",
"for i=1:6\n",
"    d1(c)=y(i+1)-y(i);\n",
"    c=c+1;\n",
"end\n",
"c=1;\n",
"for i=1:5\n",
"    d2(c)=d1(i+1)-d1(i);\n",
"    c=c+1\n",
"end\n",
"c=1;\n",
"for i=1:4\n",
"    d3(c)=d2(i+1)-d2(i);\n",
"    c=c+1;\n",
"end\n",
"c=1;\n",
"for i=1:3\n",
"    d4(c)=d3(i+1)-d3(i);\n",
"    c=c+1;\n",
"end\n",
"d=[d1(1) d2(1) d3(1) d4(1)];\n",
"x0=0.644;\n",
"p=(x0-x(4))/h;\n",
"y_x=y(4);\n",
"y_x=y_x+p*(d1(3)+d1(4))/2+p^2*(d2(2))/2;//stirling formula\n",
"printf(' the value at %f by stirling formula is : %f\n\n',x0,y_x);\n",
"y_x=y(4);\n",
"y_x=y_x+p*d1(4)+p*(p-1)*(d2(3)+d2(4))/2;\n",
"printf(' the value at %f by bessels formula is : %f\n\n',x0,y_x);\n",
"y_x=y(4);\n",
"q=1-p;\n",
"y_x=q*y(4)+q*(q^2-1)*d2(3)/2+p*y(5)+p*(q^2-1)*d2(4)/2;\n",
"printf(' the value at %f by everrets formula is : %f\n\n',x0,y_x);"
   ]
   }
,
{
		   "cell_type": "markdown",
		   "metadata": {},
		   "source": [
			"## Example 3.11: practical_interpolation.sce"
		   ]
		  },
  {
"cell_type": "code",
	   "execution_count": null,
	   "metadata": {
	    "collapsed": true
	   },
	   "outputs": [],
"source": [
"//practical interpolation\n",
"//example 3.11\n",
"//page 99\n",
"clc;clear;close;\n",
"x=[0.61 0.62 0.63 0.64 0.65 0.66 0.67];\n",
"y=[1.840431 1.858928 1.877610 1.896481 1.915541 1.934792 1.954237];\n",
"h=0.01//interval between values of x\n",
"c=1;\n",
"for i=1:6\n",
"    d1(c)=y(i+1)-y(i);\n",
"    c=c+1;\n",
"end\n",
"c=1;\n",
"for i=1:5\n",
"    d2(c)=d1(i+1)-d1(i);\n",
"    c=c+1\n",
"end\n",
"c=1;\n",
"for i=1:4\n",
"    d3(c)=d2(i+1)-d2(i);\n",
"    c=c+1;\n",
"end\n",
"c=1;\n",
"for i=1:3\n",
"    d4(c)=d3(i+1)-d3(i);\n",
"    c=c+1;\n",
"end\n",
"d=[d1(1) d2(1) d3(1) d4(1)];\n",
"x0=0.638;\n",
"p=(x0-x(4))/h;\n",
"y_x=y(4);\n",
"y_x=y_x+p*(d1(3)+d1(4))/2+p^2*(d2(2))/2;//stirling formula\n",
"printf(' the value at %f by stirling formula is : %f\n\n',x0,y_x);\n",
"y_x=y(3);\n",
"p=(x0-x(3))/h;\n",
"y_x=y_x+p*d1(3)+p*(p-1)*(d2(2)/2);\n",
"printf(' the value at %f by bessels formula is : %f\n\n',x0,y_x);"
   ]
   }
,
{
		   "cell_type": "markdown",
		   "metadata": {},
		   "source": [
			"## Example 3.12: practical_interpolation.sce"
		   ]
		  },
  {
"cell_type": "code",
	   "execution_count": null,
	   "metadata": {
	    "collapsed": true
	   },
	   "outputs": [],
"source": [
"//practical interpolation\n",
"//example 3.12\n",
"//page 99\n",
"clc;clear;close;\n",
"x=[1.72 1.73 1.74 1.75 1.76 1.77 1.78];\n",
"y=[0.1790661479 0.1772844100 0.1755204006 0.1737739435 0.1720448638 0.1703329888 0.1686381473];\n",
"h=0.01//interval between values of x\n",
"c=1;\n",
"for i=1:6\n",
"    d1(c)=y(i+1)-y(i);\n",
"    c=c+1;\n",
"end\n",
"c=1;\n",
"for i=1:5\n",
"    d2(c)=d1(i+1)-d1(i);\n",
"    c=c+1\n",
"end\n",
"c=1;\n",
"for i=1:4\n",
"    d3(c)=d2(i+1)-d2(i);\n",
"    c=c+1;\n",
"end\n",
"c=1;\n",
"for i=1:3\n",
"    d4(c)=d3(i+1)-d3(i);\n",
"    c=c+1;\n",
"end\n",
"x0=1.7475;\n",
"y_x=y(3);\n",
"p=(x0-x(3))/h;\n",
"y_x=y_x+p*d1(3)+p*(p-1)*((d2(2)+d2(3))/2)/2;\n",
"printf(' the value at %f by bessels formula is : %0.10f\n\n',x0,y_x);\n",
"y_x=y(4);\n",
"q=1-p;\n",
"y_x=q*y(3)+q*(q^2-1)*d2(2)/6+p*y(4)+p*(p^2-1)*d2(2)/6;\n",
"printf(' the value at %f by everrets formula is : %0.10f\n\n',x0,y_x);"
   ]
   }
,
{
		   "cell_type": "markdown",
		   "metadata": {},
		   "source": [
			"## Example 3.13: lagranges_interpolation_formula.sce"
		   ]
		  },
  {
"cell_type": "code",
	   "execution_count": null,
	   "metadata": {
	    "collapsed": true
	   },
	   "outputs": [],
"source": [
"//example 3.13\n",
"//lagrange's interpolation formula\n",
"//page 104\n",
"clc;clear;close;\n",
"x=[300 304 305 307];\n",
"y=[2.4771 2.4829 2.4843 2.4871];\n",
"x0=301;\n",
"log_301=0;\n",
"poly(0,'x');\n",
"for i=1:4\n",
"    p=y(i);\n",
"    for j=1:4\n",
"        if i~=j then\n",
"            p=p*((x0-x(j) )/( x(i)-x(j)))\n",
"        end\n",
"    end\n",
"    log_301=log_301+p;\n",
"    end\n",
"disp(log_301,'log_301=');\n",
" "
   ]
   }
,
{
		   "cell_type": "markdown",
		   "metadata": {},
		   "source": [
			"## Example 3.14: lagranges_interpolation_formula.sce"
		   ]
		  },
  {
"cell_type": "code",
	   "execution_count": null,
	   "metadata": {
	    "collapsed": true
	   },
	   "outputs": [],
"source": [
"//example 3.14\n",
"//lagrange's interpolation formula\n",
"//page 105\n",
"clc;clear;close;\n",
"y=[4 12 19];\n",
"x=[1 3 4];\n",
"y_x=7;\n",
"Y_X=0;\n",
"poly(0,'y');\n",
"for i=1:3\n",
"    p=x(i);\n",
"    for j=1:3\n",
"        if i~=j then\n",
"            p=p*((y_x-y(j) )/( y(i)-y(j)))\n",
"        end\n",
"    end\n",
"    Y_X=Y_X+p;\n",
"    end\n",
"disp(Y_X,'Y_X=');\n",
" "
   ]
   }
,
{
		   "cell_type": "markdown",
		   "metadata": {},
		   "source": [
			"## Example 3.15: lagranges_interpolation_formula.sce"
		   ]
		  },
  {
"cell_type": "code",
	   "execution_count": null,
	   "metadata": {
	    "collapsed": true
	   },
	   "outputs": [],
"source": [
"//example 3.15\n",
"//lagrange's interpolation formula\n",
"//page 105\n",
"clc;clear;close;\n",
"x=[2 2.5 3.0];\n",
"y=[0.69315 0.91629 1.09861];\n",
"deff('y=l0(x)','y=(x-2.5)*(x-3.0)/(-0.5)*(-1.0)')\n",
"x=poly(0,'x');\n",
"disp(l0(x),'l0(x)=');\n",
"deff('y=l1(x)','y=((x-2.0)*(x-3.0))/((0.5)*(-0.5))')\n",
"x=poly(0,'x');\n",
"disp(l1(x),'l1(x)=');\n",
"deff('y=l2(x)','y=((x-2.0)*(x-2.5))/((1.0)*(0.5))')\n",
"x=poly(0,'x');\n",
"disp(l2(x),'l2(x)=');\n",
"f_x=l0(2.7)*y(1)+l1(2.7)*y(2)+l2(2.7)*y(3);\n",
"printf(' the calculated value is %f:',f_x);\n",
"printf('\n\n the error occured in the value is %0.9f',abs(f_x-log(2.7)))"
   ]
   }
,
{
		   "cell_type": "markdown",
		   "metadata": {},
		   "source": [
			"## Example 3.16: lagranges_interpolation_formula.sce"
		   ]
		  },
  {
"cell_type": "code",
	   "execution_count": null,
	   "metadata": {
	    "collapsed": true
	   },
	   "outputs": [],
"source": [
"//example 3.16\n",
"//lagrange's interpolation formula\n",
"//page 104\n",
"clc;clear;close;\n",
"x=[0 %pi/4 %pi/2];\n",
"y=[0 0.70711 1.0];\n",
"x0=%pi/6;\n",
"sin_x0=0;\n",
"poly(0,'x');\n",
"for i=1:3\n",
"    p=y(i);\n",
"    for j=1:3\n",
"        if j~=i then\n",
"            p=p*((x0-x(j) )/( x(i)-x(j)))\n",
"        end\n",
"    end\n",
"    sin_x0=sin_x0+p;\n",
"    end\n",
"disp(sin_x0,'sin_x0=');\n",
" "
   ]
   }
,
{
		   "cell_type": "markdown",
		   "metadata": {},
		   "source": [
			"## Example 3.17: lagranges_interpolation.sce"
		   ]
		  },
  {
"cell_type": "code",
	   "execution_count": null,
	   "metadata": {
	    "collapsed": true
	   },
	   "outputs": [],
"source": [
"//lagrange's interpolation\n",
"//example 3.17\n",
"//page 106\n",
"clc;clear;close;\n",
"x=[0  3 4];\n",
"y=[-12 12 24];\n",
"//1 appears to be one the roots the polynomial\n",
"for i=1:3\n",
"    r_x(i)=y(i)/(x(i)-1);\n",
"end\n",
"deff('y=l0(x)','y=((x-3)*(x-4))/((-3)*(-4))')\n",
"x=poly(0,'x');\n",
"disp(l0(x),'l0(x)=');\n",
"deff('y=l1(x)','y=((x-0)*(x-4))/((3)*(-1))')\n",
"x=poly(0,'x');\n",
"disp(l1(x),'l1(x)=');\n",
"deff('y=l2(x)','y=((x-0)*(x-3))/((4)*(1))')\n",
"x=poly(0,'x');\n",
"disp(l2(x),'l2(x)=');\n",
"disp(l0(x)*r_x(1)+l1(x)*r_x(2)+l2(x)*r_x(3),'f_(x)=');\n",
"disp((x-1)*(l0(x)*r_x(1)+l1(x)*r_x(2)+l2(x)*r_x(3))','the required polynimial is :')"
   ]
   }
,
{
		   "cell_type": "markdown",
		   "metadata": {},
		   "source": [
			"## Example 3.18: error_in_lagranges_interpolation_formula.sce"
		   ]
		  },
  {
"cell_type": "code",
	   "execution_count": null,
	   "metadata": {
	    "collapsed": true
	   },
	   "outputs": [],
"source": [
"//error in lagrange's interpolation formula\n",
"//example 3.18\n",
"//page 107\n",
"clc;clear;close;\n",
"x=[2 2.5 3.0];\n",
"y=[0.69315 0.91629 1.09861];\n",
"deff('y=l0(x)','y=(x-2.5)*(x-3.0)/(-0.5)*(-1.0)')\n",
"x=poly(0,'x');\n",
"disp(l0(x),'l0(x)=');\n",
"deff('y=l1(x)','y=((x-2.0)*(x-3.0))/((0.5)*(-0.5))')\n",
"x=poly(0,'x');\n",
"disp(l1(x),'l1(x)=');\n",
"deff('y=l2(x)','y=((x-2.0)*(x-2.5))/((1.0)*(0.5))')\n",
"x=poly(0,'x');\n",
"disp(l2(x),'l2(x)=');\n",
"f_x=l0(2.7)*y(1)+l1(2.7)*y(2)+l2(2.7)*y(3);\n",
"printf(' the calculated value is %f:',f_x);\n",
"err=abs(f_x-log(2.7));\n",
"deff('y=R_n(x)','y=(((x-2)*(x-2.5)*(x-3))/6)');\n",
"est_err=abs(R_n(2.7)*(2/8))\n",
"if est_err>err then\n",
"    printf('\n\n the error agrees with the actual error')\n",
"end"
   ]
   }
,
{
		   "cell_type": "markdown",
		   "metadata": {},
		   "source": [
			"## Example 3.19: error_in_lagranges_interpolation_formula.sce"
		   ]
		  },
  {
"cell_type": "code",
	   "execution_count": null,
	   "metadata": {
	    "collapsed": true
	   },
	   "outputs": [],
"source": [
"//error in lagrenge's interpolation\n",
"//example 3.19\n",
"//page 107\n",
"clc;clear;close;\n",
"x=[0 %pi/4 %pi/2];\n",
"y=[0 0.70711 1.0];\n",
"deff('y=l0(x)','y=((x-0)*(x-%pi/2))/((%pi/4)*(-%pi/4))')\n",
"x=poly(0,'x');\n",
"disp(l0(x),'l0(x)=');\n",
"deff('y=l1(x)','y=((x-0)*(x-%pi/4))/((%pi/2)*(%pi/4))')\n",
"x=poly(0,'x');\n",
"disp(l1(x),'l1(x)=');\n",
"f_x=l0(%pi/6)*y(2)+l1(%pi/6)*y(3);\n",
"err=abs(f_x-sin(%pi/6));\n",
"deff('y=f(x)','y=((x-0)*(x-%pi/4)*(x-%pi/2))/6');\n",
"if abs(f(%pi/6))>err then\n",
"    printf('\n\n the error agrees with the actual error')\n",
"end"
   ]
   }
,
{
		   "cell_type": "markdown",
		   "metadata": {},
		   "source": [
			"## Example 3.21: hermites_interpolation_formula.sce"
		   ]
		  },
  {
"cell_type": "code",
	   "execution_count": null,
	   "metadata": {
	    "collapsed": true
	   },
	   "outputs": [],
"source": [
"//hermite's interpolation formula\n",
"//exammple 3.21\n",
"//page 110\n",
"clc;clear;close;\n",
"x=[2.0 2.5 3.0]\n",
"y=[0.69315 0.91629 1.09861]\n",
"deff('y=f(x)','y=log(x)')\n",
"h=0.0001;\n",
"for i=1:3\n",
"    y1(i)=(f(x(i)+h)-f(x(i)))/h;\n",
"end\n",
"deff('y=l0(x)','y=(x-2.5)*(x-3.0)/(-0.5)*(-1.0)')\n",
"a=poly(0,'x');\n",
"disp(l0(a),'l0(x)=');\n",
"deff('y=l1(x)','y=((x-2.0)*(x-3.0))/((0.5)*(-0.5))')\n",
"a=poly(0,'x');\n",
"disp(l1(a),'l1(x)=');\n",
"deff('y=l2(x)','y=((x-2.0)*(x-2.5))/((1.0)*(0.5))')\n",
"a=poly(0,'x');\n",
"disp(l2(a),'l2(x)=');\n",
"dl0=(l0(x(1)+h)-l0(x(1)))/h;\n",
"dl1=(l1(x(2)+h)-l1(x(2)))/h;\n",
"dl2=(l2(x(3)+h)-l2(x(3)))/h;\n",
"x0=2.7;\n",
"u0=[1-2*(x0-x(1))*dl0]*(l0(x0))^2;\n",
"u1=[1-2*(x0-x(2))*dl1]*(l1(x0))^2;\n",
"u2=[1-2*(x0-x(3))*dl2]*(l2(x0))^2;\n",
"v0=(x0-x(1))*l0(x0)^2;\n",
"v1=(x0-x(2))*l1(x0)^2;\n",
"v2=(x0-x(3))*l2(x0)^2;\n",
"H=u0*y(1)+u1*y(2)+u2*y(3)+v0*y1(1)+v1*y1(2)+v2*y1(3);\n",
"printf(' the approximate value of ln(%0.2f) is %0.6f:',x0,H);"
   ]
   }
,
{
		   "cell_type": "markdown",
		   "metadata": {},
		   "source": [
			"## Example 3.22: newtons_general_interpolation_formula.sce"
		   ]
		  },
  {
"cell_type": "code",
	   "execution_count": null,
	   "metadata": {
	    "collapsed": true
	   },
	   "outputs": [],
"source": [
"//newton's general interpolation formula\n",
"//example 3.22\n",
"//page 114\n",
"clc;clear;close;\n",
"x=[300 304 305 307];\n",
"y=[2.4771 2.4829 2.4843 2.4871];\n",
"for i=1:3\n",
"    d1(i)=(y(i+1)-y(i))/(x(i+1)-x(i));\n",
"end\n",
"for i=1:2\n",
"    d2(i)=(d1(i+1)-d1(i))/(x(i+2)-x(i));\n",
"end\n",
"x0=301;\n",
"log301=y(1)+(x0-x(1))*d1(1)+(x0-x(2))*d2(1);\n",
"printf(' valure of log(%d) is :%0.4f',x0,log301);"
   ]
   }
,
{
		   "cell_type": "markdown",
		   "metadata": {},
		   "source": [
			"## Example 3.23: newtons_divided_formula.sce"
		   ]
		  },
  {
"cell_type": "code",
	   "execution_count": null,
	   "metadata": {
	    "collapsed": true
	   },
	   "outputs": [],
"source": [
"//example 3.22\n",
"//newton's divided formula\n",
"//page 114\n",
"clc;clear;close\n",
"x=[-1 0 3 6 7];\n",
"y=[3 -6 39 822 1611];\n",
"for i=1:4\n",
"    d1(i)=(y(i+1)-y(i))/(x(i+1)-x(i));\n",
"end\n",
"for i=1:3\n",
"    d2(i)=(d1(i+1)-d1(i))/(x(i+2)-x(i));\n",
"end\n",
"for i=1:2\n",
"    d3(i)=(d2(i+1)-d2(i))/(x(i+3)-x(i));\n",
"end\n",
"for i=1:1\n",
"    d4(i)=(d3(i+1)-d3(i))/(x(i+4)-x(i));\n",
"end\n",
"X=poly(0,'X')\n",
"f_x=y(1)+(X-x(1))*(d1(1))+(X-x(2))*(X-x(1))*d2(1)+(X-x(1))*(X-x(2))*(X-x(3))*d3(1)+(X-x(1))*(X-x(2))*(X-x(3))*(X-x(4))*d4(1)\n",
"disp(f_x,'the polynomial equation is =')"
   ]
   }
,
{
		   "cell_type": "markdown",
		   "metadata": {},
		   "source": [
			"## Example 3.24: interpolation_by_iteration.sce"
		   ]
		  },
  {
"cell_type": "code",
	   "execution_count": null,
	   "metadata": {
	    "collapsed": true
	   },
	   "outputs": [],
"source": [
"//interpolation by iteration\n",
"//example 3.24\n",
"//page 116\n",
"clc;clear;close;\n",
"x=[300 304 305 307];\n",
"y=[2.4771 2.4829 2.4843 2.4871];\n",
"x0=301;\n",
"for i=1:3\n",
"    d=determ([y(i),(x(i)-x0);y(i+1),(x(i+1)-x0)])\n",
"    d1(i)=d/(x(i+1)-x(i));\n",
"end\n",
"for i=1:2\n",
"    d=determ([d1(i),(x(i+1)-x0);d1(i+1),(x(i+2)-x0)])\n",
"    d2(i)=d/(x(i+2)-x(i+1));\n",
"end\n",
"for i=1:1\n",
"    d=determ([d2(i),(x(i+2)-x0);d2(i+1),(x(i+3)-x0)])\n",
"    d3(i)=d/(x(i+3)-x(i+2));\n",
"end\n",
"printf(' the value of log(%d) is : %f',x0,d3(1))"
   ]
   }
,
{
		   "cell_type": "markdown",
		   "metadata": {},
		   "source": [
			"## Example 3.25: inverse_intrpolation.sce"
		   ]
		  },
  {
"cell_type": "code",
	   "execution_count": null,
	   "metadata": {
	    "collapsed": true
	   },
	   "outputs": [],
"source": [
"//inverse intrpolation\n",
"//example 3.25\n",
"//page  118\n",
"clc;clear;close;\n",
"x=[2 3 4 5];\n",
"y=[8 27 64 125];\n",
"for i=1:3\n",
"    d1(i)=y(i+1)-y(i);\n",
"end\n",
"for i=1:2\n",
"    d2(i)=d1(i+1)-d1(i);\n",
"end\n",
"for i=1:1\n",
"    d3(i)=d2(i+1)-d2(i);\n",
"end\n",
"yu=10;//square rooot of 10\n",
"y0=y(1);\n",
"d=[d1(1) d2(1) d3(1)];\n",
"u1=(yu-y0)/d1(1);\n",
"u2=((yu-y0-u1*(u1-1)*d2(1)/2)/d1(1));\n",
"u3=(yu-y0-u2*(u2-1)*d2(1)/2-u2*(u2-1)*(u2-2)*d3(1)/6)/d1(1);\n",
"u4=(yu-y0-u3*(u3-1)*d2(1)/2-u3*(u3-1)*(u3-2)*d3(1)/6)/d1(1);\n",
"u5=(yu-y0-u4*(u4-1)*d2(1)/2-u4*(u4-1)*(u4-2)*d3(1)/6)/d1(1);\n",
"printf(' %f \n %f \n %f \n %f \n %f \n ',u1,u2,u3,u4,u5);\n",
"printf(' the approximate square root of %d is: %0.3f',yu,x(1)+u5)"
   ]
   }
,
{
		   "cell_type": "markdown",
		   "metadata": {},
		   "source": [
			"## Example 3.26: double_interpolation.sce"
		   ]
		  },
  {
"cell_type": "code",
	   "execution_count": null,
	   "metadata": {
	    "collapsed": true
	   },
	   "outputs": [],
"source": [
"//double interpolation \n",
"//example 3.26\n",
"//page 119\n",
"clc;clear;close;\n",
"y=[0 1 2 3 4];\n",
"x=[0 1 4 9 16;2 3 6 11 18;6 7 10 15 22;12 13 16 21 28;18 19 22 27 34];\n",
"printf(' y\t\n');\n",
"for i=1:5\n",
"    printf('\n%d',y(i));\n",
"end\n",
"printf('\n\n-----------------------------------------------x--------------------------------------------\n');\n",
"printf('0\t     1\t    2\t    3\t   4\t\n');\n",
"printf('--------------------------------------------------------------------------------------------\n');\n",
"for i=1:5\n",
"    for j=1:5\n",
"printf('%d\t',x(i,j));\n",
"end\n",
"printf('\n');\n",
"end\n",
"//for x=2.5;\n",
"for i=1:5\n",
"    z(i)=(x(i,3)+x(i,4))/2;\n",
"end\n",
"//y=1.5;\n",
"Z=(z(2)+z(3))/2;\n",
"printf(' the interpolated value when x=2.5 and y=1.5 is : %f',Z);"
   ]
   }
,
{
		   "cell_type": "markdown",
		   "metadata": {},
		   "source": [
			"## Example 3.4: interpolation.sce"
		   ]
		  },
  {
"cell_type": "code",
	   "execution_count": null,
	   "metadata": {
	    "collapsed": true
	   },
	   "outputs": [],
"source": [
"//example 3.4\n",
"//interpolation\n",
"//page 86\n",
"clc;clear;close;\n",
"x=[1 3 5 7];\n",
"y=[24 120 336 720];\n",
"h=2//interval between values of x\n",
"c=1;\n",
"for i=1:3\n",
"    d1(c)=y(i+1)-y(i);\n",
"    c=c+1;\n",
"end\n",
"c=1;\n",
"for i=1:2\n",
"    d2(c)=d1(i+1)-d1(i);\n",
"    c=c+1\n",
"end\n",
"c=1;\n",
"for i=1:1\n",
"    d3(c)=d2(i+1)-d2(i);\n",
"    c=c+1;\n",
"end\n",
"\n",
"d=[d1(1) d2(1) d3(1)];\n",
"x0=8;//value at 8;\n",
"pp=1;\n",
"y_x=y(1);\n",
"p=(x0-1)/2;\n",
"for i=1:3\n",
"    pp=1;\n",
"    for j=1:i\n",
"    pp=pp*(p-(j-1))    \n",
"    end\n",
"y_x=y_x+(pp*d(i))/factorial(i);\n",
"end\n",
"printf('value of function at %f is :%f',x0,y_x);\n",
""
   ]
   }
,
{
		   "cell_type": "markdown",
		   "metadata": {},
		   "source": [
			"## Example 3.6: interpolation.sce"
		   ]
		  },
  {
"cell_type": "code",
	   "execution_count": null,
	   "metadata": {
	    "collapsed": true
	   },
	   "outputs": [],
"source": [
"//example 3.6\n",
"//interpolation\n",
"//page 87\n",
"clc;clear;close;\n",
"x=[15 20 25 30 35 40];\n",
"y=[0.2588190 0.3420201 0.4226183 0.5 0.5735764 0.6427876];\n",
"h=5//interval between values of x\n",
"c=1;\n",
"for i=1:5\n",
"    d1(c)=y(i+1)-y(i);\n",
"    c=c+1;\n",
"end\n",
"c=1;\n",
"for i=1:4\n",
"    d2(c)=d1(i+1)-d1(i);\n",
"    c=c+1\n",
"end\n",
"c=1;\n",
"for i=1:3\n",
"    d3(c)=d2(i+1)-d2(i);\n",
"    c=c+1;\n",
"end\n",
"c=1;\n",
"for i=1:2\n",
"    d4(c)=d3(i+1)-d3(i);\n",
"    c=c+1;\n",
"end\n",
"c=1;\n",
"for i=1:1\n",
"    d5(c)=d4(i+1)-d4(i);\n",
"    c=c+1;\n",
"end\n",
"c=1;\n",
"d=[d1(5) d2(4) d3(3) d4(2) d5(1)];\n",
"x0=38;//value at 38 degree\n",
"pp=1;\n",
"y_x=y(6);\n",
"p=(x0-x(6))/h;\n",
"for i=1:5\n",
"    pp=1;\n",
"    for j=1:i\n",
"    pp=pp*(p+(j-1))   \n",
"end\n",
"y_x=y_x+((pp*d(i))/factorial(i));\n",
"end\n",
"printf('value of function at %i is :%f',x0,y_x);"
   ]
   }
,
{
		   "cell_type": "markdown",
		   "metadata": {},
		   "source": [
			"## Example 3.7: interpolation.sce"
		   ]
		  },
  {
"cell_type": "code",
	   "execution_count": null,
	   "metadata": {
	    "collapsed": true
	   },
	   "outputs": [],
"source": [
"//example 3.7\n",
"//interpolation\n",
"//page 89\n",
"clc;clear;close;\n",
"x=[0 1 2 4];\n",
"y=[1 3 9 81];\n",
"//equation is y(5)-4*y(4)+6*y(2)-4*y(2)+y(1)\n",
"y3=(y(4)+6*y(3)-4*y(2)+y(1))/4;\n",
"printf(' the value of missing term of table is :%d',y3);"
   ]
   }
,
{
		   "cell_type": "markdown",
		   "metadata": {},
		   "source": [
			"## Example 3.8: interpolation.sce"
		   ]
		  },
  {
"cell_type": "code",
	   "execution_count": null,
	   "metadata": {
	    "collapsed": true
	   },
	   "outputs": [],
"source": [
"//example 3.8\n",
"//interpolation\n",
"//page 89\n",
"clc;clear;close;\n",
"x=[0.10 0.15 0.20 0.25 0.30];\n",
"y=[0.1003 0.1511 0.2027 0.2553 0.3093];\n",
"h=0.05//interval between values of x\n",
"c=1;\n",
"for i=1:4\n",
"    d1(c)=y(i+1)-y(i);\n",
"    c=c+1;\n",
"end\n",
"c=1;\n",
"for i=1:3\n",
"    d2(c)=d1(i+1)-d1(i);\n",
"    c=c+1\n",
"end\n",
"c=1;\n",
"for i=1:2\n",
"    d3(c)=d2(i+1)-d2(i);\n",
"    c=c+1;\n",
"end\n",
"c=1;\n",
"for i=1:1\n",
"    d4(c)=d3(i+1)-d3(i);\n",
"    c=c+1;\n",
"end\n",
"\n",
"d=[d1(1) d2(1) d3(1) d4(1)];\n",
"x0=0.12;//value at 0.12;\n",
"pp=1;\n",
"y_x=y(1);\n",
"p=(x0-x(1))/h;\n",
"for i=1:4\n",
"    pp=1;\n",
"    for j=1:i\n",
"    pp=pp*(p-(j-1))    \n",
"    end\n",
"y_x=y_x+(pp*d(i))/factorial(i);\n",
"end\n",
"printf('value of function at %f is :%0.4g\n \n',x0,y_x);\n",
"d=[d1(4) d2(3) d3(2) d4(1)];\n",
"x0=0.26;//value at 0.26;\n",
"pp=1;\n",
"y_x=y(5);\n",
"p=(x0-x(5))/h;\n",
"for i=1:4\n",
"    pp=1;\n",
"    for j=1:i\n",
"    pp=pp*(p-(j-1))    \n",
"    end\n",
"y_x=y_x+(pp*d(i))/factorial(i);\n",
"end\n",
"printf('value of function at %f is :%0.4g\n \n',x0,y_x);\n",
"d=[d1(4) d2(3) d3(2) d4(1)];\n",
"x0=0.40;//value at 0.40;\n",
"pp=1;\n",
"y_x=y(5);\n",
"p=(x0-x(5))/h;\n",
"for i=1:4\n",
"    pp=1;\n",
"    for j=1:i\n",
"    pp=pp*(p+(j-1))    \n",
"    end\n",
"y_x=y_x+(pp*d(i))/factorial(i);\n",
"end\n",
"printf('value of function at %f is :%0.4g\n \n',x0,y_x);\n",
"d=[d1(4) d2(3) d3(2) d4(1)];\n",
"x0=0.50;//value at 0.50;\n",
"pp=1;\n",
"y_x=y(5);\n",
"p=(x0-x(5))/h;\n",
"printf('value of function at %f is :%0.5g\n \n',x0,y_x);"
   ]
   }
,
{
		   "cell_type": "markdown",
		   "metadata": {},
		   "source": [
			"## Example 3.9: Gauss_forward_formula.sce"
		   ]
		  },
  {
"cell_type": "code",
	   "execution_count": null,
	   "metadata": {
	    "collapsed": true
	   },
	   "outputs": [],
"source": [
"//example 3.9\n",
"//Gauss' forward formula\n",
"//page 3.9\n",
"clc;clear;close;\n",
"x=[1.0 1.05 1.10 1.15 1.20 1.25 1.30];\n",
"y=[2.7183 2.8577 3.0042 3.1582 3.3201 3.4903 3.66693];\n",
"h=0.05//interval between values of x\n",
"c=1;\n",
"for i=1:6\n",
"    d1(c)=y(i+1)-y(i);\n",
"    c=c+1;\n",
"end\n",
"c=1;\n",
"for i=1:5\n",
"    d2(c)=d1(i+1)-d1(i);\n",
"    c=c+1\n",
"end\n",
"c=1;\n",
"for i=1:4\n",
"    d3(c)=d2(i+1)-d2(i);\n",
"    c=c+1;\n",
"end\n",
"c=1;\n",
"for i=1:3\n",
"    d4(c)=d3(i+1)-d3(i);\n",
"    c=c+1;\n",
"end\n",
"c=1;\n",
"for i=1:2\n",
"    d5(c)=d4(i+1)-d4(i);\n",
"    c=c+1;\n",
"end\n",
"c=1;\n",
"for i=1:1\n",
"    d6(c)=d5(i+1)-d5(i);\n",
"    c=c+1;\n",
"end\n",
"d=[d1(4) d2(3) d3(3) d4(2) d5(1) d6(1)];\n",
"x0=1.17;//value at 1.17;\n",
"pp=1;\n",
"y_x=y(4);\n",
"p=(x0-x(4))/h;\n",
"for i=1:6\n",
"    pp=1;\n",
"    for j=1:i\n",
"    pp=pp*(p-(j-1))    \n",
"    end\n",
"y_x=y_x+(pp*d(i))/factorial(i);\n",
"end\n",
"printf('value of function at %f is :%0.4g\n \n',x0,y_x);"
   ]
   }
],
"metadata": {
		  "kernelspec": {
		   "display_name": "Scilab",
		   "language": "scilab",
		   "name": "scilab"
		  },
		  "language_info": {
		   "file_extension": ".sce",
		   "help_links": [
			{
			 "text": "MetaKernel Magics",
			 "url": "https://github.com/calysto/metakernel/blob/master/metakernel/magics/README.md"
			}
		   ],
		   "mimetype": "text/x-octave",
		   "name": "scilab",
		   "version": "0.7.1"
		  }
		 },
		 "nbformat": 4,
		 "nbformat_minor": 0
}
