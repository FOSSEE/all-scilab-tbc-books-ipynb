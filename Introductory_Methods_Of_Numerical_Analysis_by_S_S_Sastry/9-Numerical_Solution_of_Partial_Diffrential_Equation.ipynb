{
"cells": [
 {
		   "cell_type": "markdown",
	   "metadata": {},
	   "source": [
       "# Chapter 9: Numerical Solution of Partial Diffrential Equation"
	   ]
	},
{
		   "cell_type": "markdown",
		   "metadata": {},
		   "source": [
			"## Example 9.1: standard_five_point_formula.sce"
		   ]
		  },
  {
"cell_type": "code",
	   "execution_count": null,
	   "metadata": {
	    "collapsed": true
	   },
	   "outputs": [],
"source": [
"//standard five point formula\n",
"//example 9.1\n",
"//page 350\n",
"clc;clear;close;\n",
"u2=5;u3=1;\n",
"for i=1:3\n",
"    u1=(u2+u3+6)/4;\n",
"    u2=u1/2+5/2;\n",
"    u3=u1/2+1/2;\n",
"    printf(' the values are u1=%d\t u2=%d\t u3=%d\t\n\n',u1,u2,u3);\n",
"end"
   ]
   }
,
{
		   "cell_type": "markdown",
		   "metadata": {},
		   "source": [
			"## Example 9.2: solution_of_laplace_equation_by_jacobi_method_gauss_seidel_method_and_SOR_method.sce"
		   ]
		  },
  {
"cell_type": "code",
	   "execution_count": null,
	   "metadata": {
	    "collapsed": true
	   },
	   "outputs": [],
"source": [
"//solution of laplace equation by jacobi method,gauss-seidel method and SOR method\n",
"//example 9.2\n",
"//page 351\n",
"clc;clear;close;\n",
"u1=0.25;u2=0.25;u3=0.5;u4=0.5;//initial values\n",
"printf('jacobis iteration process\n\n')\n",
"printf('u1\t     u2\t     u3\t     u4\t \n\n')\n",
"printf('%f\t     %f\t     %f\t     %f\t  \n',u1,u2,u3,u4)\n",
"for i=1:7\n",
"    u11=(0+u2+0+u4)/4\n",
"    u22=(u1+0+0+u3)/4;\n",
"    u33=(1+u2+0+u4)/4;\n",
"    u44=(1+0+u3+u1)/4;\n",
"    u1=u11;u2=u22;u3=u33;u4=u44;\n",
"printf('%f\t     %f\t     %f\t     %f\t  \n',u11,u22,u33,u44)    \n",
"end\n",
"printf(' gauss seidel process\n\n');\n",
"u1=0.25;u2=0.3125;u3=0.5625;u4=0.46875;//initial values\n",
"printf('u1\t     u2\t     u3\t     u4\t \n\n')\n",
"printf('%f\t     %f\t     %f\t     %f\t  \n',u1,u2,u3,u4)\n",
"for i=1:4\n",
"    u1=(0+u2+0+u4)/4\n",
"    u2=(u1+0+0+u3)/4;\n",
"    u3=(1+u2+0+u4)/4;\n",
"    u4=(1+0+u3+u1)/4;\n",
"    printf('%f\t     %f\t     %f\t     %f\t  \n',u1,u2,u3,u4)    \n",
"end\n",
"printf('u1\t     u2\t     u3\t     u4\t \n\n')\n",
"printf('%f\t     %f\t     %f\t     %f\t  \n',u1,u2,u3,u4)"
   ]
   }
,
{
		   "cell_type": "markdown",
		   "metadata": {},
		   "source": [
			"## Example 9.4: poisson_equation.sce"
		   ]
		  },
  {
"cell_type": "code",
	   "execution_count": null,
	   "metadata": {
	    "collapsed": true
	   },
	   "outputs": [],
"source": [
"//poisson equation\n",
"//exaample 9.4\n",
"//page 354\n",
"clc;clear;close;\n",
"u2=0;u4=0;\n",
"printf('  u1\t    u2\t   u3\t   u4\t\n\n');\n",
"for i=1:6\n",
"    u1=u2/2+30;\n",
"    u2=(u1+u4+150)/4;\n",
"    u4=u2/2+45;\n",
"    printf(' %0.2f\t   %0.2f\t   %0.2f\t   %0.2f\n',u1,u2,u2,u4);\n",
"end\n",
"printf(' from last two iterates we conclude u1=67   u2=75   u3=75   u4=83\n')"
   ]
   }
,
{
		   "cell_type": "markdown",
		   "metadata": {},
		   "source": [
			"## Example 9.6: bender_schmidt_formula.sce"
		   ]
		  },
  {
"cell_type": "code",
	   "execution_count": null,
	   "metadata": {
	    "collapsed": true
	   },
	   "outputs": [],
"source": [
"//bender-schmidt formula\n",
"//example 9.6\n",
"//page 362\n",
"clc;clear;close;\n",
"deff('y=f(x)','y=4*x-x^2');\n",
"u=[f(0) f(1) f(2) f(3) f(4)];\n",
"u11=(u(1)+u(3))/2;\n",
"u12=(u(2)+u(4))/2;\n",
"u13=(u(3)+u(5))/2;\n",
"printf(' u11=%0.2f\t  u12=%0.2f\t  u13=%0.2f\t \n',u11,u12,u13)\n",
"u21=(u(1)+u12)/2;\n",
"u22=(u11+u13)/2;\n",
"u23=(u12+0)/2;\n",
"printf(' u21=%0.2f\t  u22=%0.2f\t  u23=%0.2f\t \n',u21,u22,u23)\n",
"u31=(u(1)+u22)/2;\n",
"u32=(u21+u23)/2;\n",
"u33=(u22+u(1))/2;\n",
"printf(' u31=%0.2f\t  u32=%0.2f\t  u33=%0.2f\t \n',u31,u32,u33)\n",
"u41=(u(1)+u32)/2;\n",
"u42=(u31+u33)/2;\n",
"u43=(u32+u(1))/2;\n",
"printf(' u41=%0.2f\t  u42=%0.2f\t  u43=%0.2f\t \n',u41,u42,u43)\n",
"u51=(u(1)+u42)/2;\n",
"u52=(u41+u43)/2;\n",
"u53=(u42+u(1))/2;\n",
"printf(' u51=%0.2f\t  u52=%0.2f\t  u53=%0.2f\t \n',u51,u52,u53)"
   ]
   }
,
{
		   "cell_type": "markdown",
		   "metadata": {},
		   "source": [
			"## Example 9.7: bender_schimdts_formula_and_crank_nicolson_formula.sce"
		   ]
		  },
  {
"cell_type": "code",
	   "execution_count": null,
	   "metadata": {
	    "collapsed": true
	   },
	   "outputs": [],
"source": [
"//bender-schimdt's formula and crank-nicolson formula\n",
"//example 9.7\n",
"//page 363\n",
"//bender -schimdt's formula\n",
"clc;clear;close;\n",
"deff('y=f(x,t)','y=exp(-%pi^2*t)*sin(%pi*x)');\n",
"u=[f(0,0) f(0.2,0) f(0.4,0) f(0.6,0) f(0.8,0) f(1,0)];\n",
"u11=u(3)/2;u12=(u(2)+u(4))/2;u13=u12;u14=u11;\n",
"printf(' u11=%f\t  u12=%f\t  u13=%f\t  u14=%f\n\n',u11,u12,u13,u14)\n",
"u21=u12/2;u22=(u12+u14)/2;u23=u22;u24=u21;\n",
"printf(' u21=%f\t  u22=%f\t  u23=%f\t  u24=%f\n\n',u21,u22,u23,u24)\n",
"printf(' the error in the solution is: %f\n\n',abs(u22-f(0.6,0.04)))\n",
"//crank-nicolson formula\n",
"//by putting i=1,2,3,4 we obtain four equation\n",
"A=[4 -1 0 0 ;-1 4 -1 0;0 -1 4 -1;0 0 -1 4];\n",
"C=[0.9510;1.5388;1.5388;0.9510];\n",
"X=A^-1*C;\n",
"printf( ' u11=%f\t  u21=%f\t  u31=%f\t  u41=%f\t\n\n',X(1,1),X(2,1),X(3,1),X(4,1))\n",
"printf(' the error in the solution is: %f\n\n',abs(X(2,1)-f(0.6,0.04)))"
   ]
   }
,
{
		   "cell_type": "markdown",
		   "metadata": {},
		   "source": [
			"## Example 9.8: heat_equation_using_crank_nicolson_method.sce"
		   ]
		  },
  {
"cell_type": "code",
	   "execution_count": null,
	   "metadata": {
	    "collapsed": true
	   },
	   "outputs": [],
"source": [
"//heat equation using crank-nicolson method\n",
"//example 9.8\n",
"//page 364\n",
"clc;clear;close;\n",
"U=0.01878;\n",
"//h=1/2;l=1/8,i=1;\n",
"u01=0;u21=1/8;\n",
"u11=(u21+u01)/6;\n",
"printf(' u11=%f\n\n',u11);\n",
"printf('error is %f\n\n',abs(u11-U));\n",
"//h=1/4,l=1/8,i=1,2,3\n",
"A=[-3 -1 0;1 -3 1;0 1 -3];\n",
"C=[0;0;-1/8];\n",
"X=A^-1*C;\n",
"printf(' u12=%f\n\n',X(2,1));\n",
"printf('error is %f\n\n',abs(X(2,1)-U));"
   ]
   }
],
"metadata": {
		  "kernelspec": {
		   "display_name": "Scilab",
		   "language": "scilab",
		   "name": "scilab"
		  },
		  "language_info": {
		   "file_extension": ".sce",
		   "help_links": [
			{
			 "text": "MetaKernel Magics",
			 "url": "https://github.com/calysto/metakernel/blob/master/metakernel/magics/README.md"
			}
		   ],
		   "mimetype": "text/x-octave",
		   "name": "scilab",
		   "version": "0.7.1"
		  }
		 },
		 "nbformat": 4,
		 "nbformat_minor": 0
}
