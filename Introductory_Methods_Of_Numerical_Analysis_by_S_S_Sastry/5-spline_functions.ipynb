{
"cells": [
 {
		   "cell_type": "markdown",
	   "metadata": {},
	   "source": [
       "# Chapter 5: spline functions"
	   ]
	},
{
		   "cell_type": "markdown",
		   "metadata": {},
		   "source": [
			"## Example 5.1: linear_splines.sce"
		   ]
		  },
  {
"cell_type": "code",
	   "execution_count": null,
	   "metadata": {
	    "collapsed": true
	   },
	   "outputs": [],
"source": [
"//linear splines\n",
"//example 5.1\n",
"//page 182\n",
"clc;clear;close;\n",
"X=[1 2 3];\n",
"y=[-8 -1 18];\n",
"m1=(y(2)-y(1))/(X(2)-X(1));\n",
"deff('y1=s1(x)','y1=y(1)+(x-X(1))*m1');\n",
"m2=(y(3)-y(2))/(X(3)-X(2));\n",
"deff('y2=s2(x)','y2=y(2)+(x-X(2))*m2');\n",
"a=poly(0,'x');\n",
"disp(s1(a));\n",
"disp(s2(a));\n",
"printf(' the value of function at 2.5 is %0.2f: ',s2(2.5));"
   ]
   }
,
{
		   "cell_type": "markdown",
		   "metadata": {},
		   "source": [
			"## Example 5.2: quadratic_splines.sce"
		   ]
		  },
  {
"cell_type": "code",
	   "execution_count": null,
	   "metadata": {
	    "collapsed": true
	   },
	   "outputs": [],
"source": [
"//quadratic splines\n",
"//example 5.2\n",
"//page 18\n",
"clc;clear;close;\n",
"X=[1 2 3];\n",
"y=[-8 -1 18];\n",
"h=X(2)-X(1);\n",
"m1=(y(2)-y(1))/(X(2)-X(1));\n",
"m2=(2*(y(2)-y(1)))/h-m1;\n",
"m3=(2*(y(3)-y(2)))/h-m2;\n",
"deff('y2=s2(x)','y2=(-(X(3)-x)^2*m1)/2+((x-X(2))^2*m3)/2+y(2)+m2/2');\n",
"a=poly(0,'x');\n",
"disp(s2(a));\n",
"printf('the value of function is 2.5: %0.2f',s2(2.5));\n",
"x=2.0;\n",
"h=0.01;\n",
"deff('y21=s21(x,h)','y21=(s2(x+h)-s2(x))/h');\n",
"d1=s21(x,h);\n",
"printf('\n\nthe first derivative at 2.0 :%0.2f',d1);\n",
"\n",
""
   ]
   }
,
{
		   "cell_type": "markdown",
		   "metadata": {},
		   "source": [
			"## Example 5.3: cubic_splines.sce"
		   ]
		  },
  {
"cell_type": "code",
	   "execution_count": null,
	   "metadata": {
	    "collapsed": true
	   },
	   "outputs": [],
"source": [
"//cubic splines\n",
"//example 5.3\n",
"//page 188\n",
"clc;clear;close;\n",
"X=[1 2 3];\n",
"y=[-8 -1 18];\n",
"M1=0,M2=8,M3=0;\n",
"h=1;\n",
"deff('y=s1(x)','y=3*(x-1)^3-8*(2-x)-4*(x-1)')\n",
"deff('y=s2(x)','y=3*(3-x)^3+22*x-48');\n",
"h=0.0001;n=2.0;\n",
"D=(s2(n+h)-s2(n))/h;\n",
"a=poly(0,'x');\n",
"disp(s1(a),' s1(x)=');\n",
"disp(s2(a),'s2(x)=');\n",
"disp(s2(2.5),'y(2.5)=');\n",
"disp(D,'y1(2.0)=');"
   ]
   }
,
{
		   "cell_type": "markdown",
		   "metadata": {},
		   "source": [
			"## Example 5.4: cubic_splines.sce"
		   ]
		  },
  {
"cell_type": "code",
	   "execution_count": null,
	   "metadata": {
	    "collapsed": true
	   },
	   "outputs": [],
"source": [
"//cubic spline\n",
"//example 5.4\n",
"//page 189\n",
"clc;clear;close;\n",
"x=[0 %pi/2 %pi]\n",
"y=[0 1 0]\n",
"h=x(2)-x(1)\n",
"M0=0;M2=0;\n",
"M1=((6*(y(1)-2*y(2)+y(3))/h^2)-M0-M2)/4;\n",
"X=%pi/6;\n",
"s1=(((x(2)-X)^3)*(M0/6)+((X-x(1))^3)*M1/6+(y(1)-(h^2)*M0/6)*(x(2)-X)+(y(2)-(h^2)*M1/6)*(X-x(1)))/h;\n",
"x=[0 %pi/4 %pi/2 3*%pi/4 %pi];\n",
"y=[0 1.414 1 1.414];\n",
"M0=0,M4=0;\n",
"A=[4 1 0;1 4 1;0 1 4];//calculating value of M1 M2 M3 by matrix method\n",
"C=[-4.029;-5.699;-4.029];\n",
"B=A^-1*C\n",
"printf('M0=%f\t   M1=%f\t   M2=%f\t   M3=%f\t   M4=%f\t\n\n',M0,B(1,1),B(2,1),B(3,1),M4);\n",
"h=%pi/4;\n",
"X=%pi/6;\n",
"s1=[-0.12408*X^3+0.7836*X]/h;\n",
"printf(' the value of sin(pi/6) is:%f',s1)"
   ]
   }
,
{
		   "cell_type": "markdown",
		   "metadata": {},
		   "source": [
			"## Example 5.5: cubic_splines.sce"
		   ]
		  },
  {
"cell_type": "code",
	   "execution_count": null,
	   "metadata": {
	    "collapsed": true
	   },
	   "outputs": [],
"source": [
"//cubic spline\n",
"//example 5.5\n",
"//page 191\n",
"clc;clear;close;\n",
"x=[1 2 3];\n",
"y=[6 18 42];\n",
"m0=40;\n",
"m1=(3*(y(3)-y(1))-m0)/4;\n",
"X=poly(0,'X');\n",
"s1=m0*((x(2)-X)^2)*(X-x(1))-m1*((X-x(1))^2)*(x(2)-X)+y(1)*((x(2)-X)^2)*[2*(X-x(1))+1]+y(2)*((X-x(1))^2)*[2*(x(2)-X)+1];\n",
"disp(s1,'s1=');"
   ]
   }
,
{
		   "cell_type": "markdown",
		   "metadata": {},
		   "source": [
			"## Example 5.7: surface_fitting_by_cubic_spline.sce"
		   ]
		  },
  {
"cell_type": "code",
	   "execution_count": null,
	   "metadata": {
	    "collapsed": true
	   },
	   "outputs": [],
"source": [
"//surface fitting by cubic spline\n",
"//example 5.7\n",
"//page 195\n",
"clc;clear;close;\n",
"z=[1 2 9;2 3 10;9 10 17];\n",
"deff('y=L0(x)','y=x^3/4-5*x/4+1');\n",
"deff('y=L1(x)','y=-x^3/2+3*x/2');\n",
"deff('y=L2(x)','y=x^3/4-x/4');\n",
"x=0.5;y=0.5;\n",
"S=0;\n",
"S=S+L0(x)*(L0(x)*z(1,1)+L1(x)*z(1,2)+L2(x)*z(1,3));\n",
"S=S+L1(x)*(L0(x)*z(2,1)+L1(x)*z(2,2)+L2(x)*z(2,3));\n",
"S=S+L2(x)*(L0(x)*z(3,1)+L1(x)*z(3,2)+L2(x)*z(3,3));\n",
"printf('approximated value of z(0.5 0.5)=%f\n\n',S);\n",
"printf(' error in the approximated value : %f',(abs(1.25-S)/1.25)*100)"
   ]
   }
,
{
		   "cell_type": "markdown",
		   "metadata": {},
		   "source": [
			"## Example 5.8: cubic_B_splines.sce"
		   ]
		  },
  {
"cell_type": "code",
	   "execution_count": null,
	   "metadata": {
	    "collapsed": true
	   },
	   "outputs": [],
"source": [
"//cubic B-splines\n",
"//example 5.8\n",
"//page 200\n",
"clc;clear;close;\n",
"k=[0 1 2 3 4];\n",
"pi=[0 0 4 -6 24];\n",
"x=1;\n",
"S=0;\n",
"for i=3:5\n",
"    S=S+((k(i)-x)^3)/(pi(i));\n",
"end\n",
"printf( ' the cubic splines for x=1 is %f\n\n',S);\n",
"S=0;\n",
"x=2;\n",
"for i=4:5\n",
"    S=S+((k(i)-x)^3)/(pi(i));\n",
"end\n",
"printf( ' the cubic splines for x=2 is  %f\n\n',S);"
   ]
   }
,
{
		   "cell_type": "markdown",
		   "metadata": {},
		   "source": [
			"## Example 5.9: cubic_B_spline.sce"
		   ]
		  },
  {
"cell_type": "code",
	   "execution_count": null,
	   "metadata": {
	    "collapsed": true
	   },
	   "outputs": [],
"source": [
"//cubic B-spline\n",
"//example 5.8\n",
"//page 201\n",
"clc;clear;close;\n",
"k=[0 1 2 3 4];\n",
"x=1;//for x=1\n",
"s11=0;s13=0;s14=0;\n",
"s24=0;\n",
"s12=1/(k(3)-k(2));\n",
"s22=((x-k(1))*s11+(k(3)-x)*s12)/(k(3)-k(1));\n",
"s23=((x-k(2))*s11+(k(4)-x)*s13)/(k(4)-k(2));\n",
"s33=((x-k(1))*s22+(k(4)-x)*s23)/(k(4)-k(1));\n",
"s34=((x-k(2))*s23+(k(5)-x)*s24)/(k(5)-k(2));\n",
"s44=((x-k(1))*s33+(k(5)-x)*s34)/(k(5)-k(1));\n",
"printf( 's11=%f\t     s22=%f\t    s23=%f\t    s33=%f\t   s34=%f\t    s44=%f\n\n',s11,s22,s23,s33,s34,s44);\n",
"x=2;//for x=2;\n",
"s11=0;s12=0,s14=0;s22=0;\n",
"s13=1/(k(4)-k(3));\n",
"s23=((x-k(2))*s12+(k(4)-x)*s13)/(k(4)-k(2));\n",
"s24=((x-k(3))*s13+(k(5)-x)*s14)/(k(3)-k(1));\n",
"s33=((x-k(1))*s22+(k(4)-x)*s23)/(k(4)-k(1));\n",
"s34=((x-k(2))*s23+(k(5)-x)*s24)/(k(5)-k(2));\n",
"s44=((x-k(1))*s33+(k(5)-x)*s34)/(k(5)-k(1));\n",
"printf( 's13=%f\t     s23=%f\t     s24=%f\t    s33=%f\t    s34=%f\t     s44=%f\n\n',s13,s23,s24,s33,s34,s44);"
   ]
   }
],
"metadata": {
		  "kernelspec": {
		   "display_name": "Scilab",
		   "language": "scilab",
		   "name": "scilab"
		  },
		  "language_info": {
		   "file_extension": ".sce",
		   "help_links": [
			{
			 "text": "MetaKernel Magics",
			 "url": "https://github.com/calysto/metakernel/blob/master/metakernel/magics/README.md"
			}
		   ],
		   "mimetype": "text/x-octave",
		   "name": "scilab",
		   "version": "0.7.1"
		  }
		 },
		 "nbformat": 4,
		 "nbformat_minor": 0
}
