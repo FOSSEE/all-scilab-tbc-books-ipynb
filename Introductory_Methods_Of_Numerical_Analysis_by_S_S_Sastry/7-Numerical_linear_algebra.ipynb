{
"cells": [
 {
		   "cell_type": "markdown",
	   "metadata": {},
	   "source": [
       "# Chapter 7: Numerical linear algebra"
	   ]
	},
{
		   "cell_type": "markdown",
		   "metadata": {},
		   "source": [
			"## Example 7.10: ill_condiioned_linear_systems.sce"
		   ]
		  },
  {
"cell_type": "code",
	   "execution_count": null,
	   "metadata": {
	    "collapsed": true
	   },
	   "outputs": [],
"source": [
"//ill condiioned linear systems\n",
"//example 7.10\n",
"//page 277\n",
"clc;clear;close;\n",
"A=[1/2 1/3 1/4;1/5 1/6 1/7;1/8 1/9 1/10]//hilbert's matrix\n",
"de_A=det(A);\n",
"if de_A<1 then\n",
"    printf(' A is ill-conditioned')\n",
"end"
   ]
   }
,
{
		   "cell_type": "markdown",
		   "metadata": {},
		   "source": [
			"## Example 7.11: ill_conditioned_linear_systems.sce"
		   ]
		  },
  {
"cell_type": "code",
	   "execution_count": null,
	   "metadata": {
	    "collapsed": true
	   },
	   "outputs": [],
"source": [
"//ill conditioned linear system\n",
"//example 7.11\n",
"//page 277\n",
"clc;clear;close;\n",
"A=[25 24 10;66 78 37;92 -73 -80];\n",
"de_A=det(A);\n",
"for i=1:3\n",
"    s=0;\n",
"    for j=1:3\n",
"        s=s+A(i,j)^2\n",
"    end\n",
"    s=sqrt(s);\n",
"    k=de_A/s;\n",
"end\n",
"if k<1 then\n",
"    printf(' the fuction is ill conditioned')\n",
"end"
   ]
   }
,
{
		   "cell_type": "markdown",
		   "metadata": {},
		   "source": [
			"## Example 7.12: ill_conditioned_system.sce"
		   ]
		  },
  {
"cell_type": "code",
	   "execution_count": null,
	   "metadata": {
	    "collapsed": true
	   },
	   "outputs": [],
"source": [
"//ill-conditioned system\n",
"//example 7.12\n",
"//page 278\n",
"clc;clear;close;\n",
"//the original equations are 2x+y=2    2x+1.01y=2.01\n",
"A1=[2 1;2 1.01];\n",
"C1=[2;2.01];\n",
"x1=1;y1=1//approximate values\n",
"A2=[2 1;2 1.01];\n",
"C2=[3;3.01];\n",
"C=C1-C2;\n",
"X=A1^-1*C;\n",
"x=X(1,1)+x1;\n",
"y=X(2,1)+y1;\n",
"printf(' the exact solution is X=%f \t  Y=%f',x,y);"
   ]
   }
,
{
		   "cell_type": "markdown",
		   "metadata": {},
		   "source": [
			"## Example 7.14: solution_of_equations_by_iteration_method.sce"
		   ]
		  },
  {
"cell_type": "code",
	   "execution_count": null,
	   "metadata": {
	    "collapsed": true
	   },
	   "outputs": [],
"source": [
"//solution of equations by iteration method\n",
"//example 7.14\n",
"//page 282\n",
"//jacobi's method\n",
"clc;clear;close;\n",
"C=[3.333;1.5;1.4];\n",
"X=[3.333;1.5;1.4];\n",
"B=[0 -0.1667 -0.1667;-0.25 0 0.25;-0.2 0.2 0];\n",
"for i=1:10\n",
"    X1=C+B*X;\n",
"    printf('X%d',i);\n",
"    for k=1:3\n",
"        for l=1:1\n",
"            printf(' %f ',X1(k,l))\n",
"        end\n",
"        printf('\n');\n",
"    end\n",
"    X=X1;\n",
"end\n",
"printf(' the solution of the equation is converging at 3  1  1\n\n');\n",
"//gauss-seidel method\n",
"C=[3.333;1.5;1.4];\n",
"X=[3.333;1.5;1.4];\n",
"B=[0 -0.1667 -0.1667;-0.25 0 0.25;-0.2 0.2 0];\n",
"X1=C+B*X;\n",
"x=X1(1,1);y=X1(2,1);z=X1(3,1);\n",
"for i=1:5\n",
"    x=3.333-0.1667*y-0.1667*z\n",
"    y=1.5-0.25*x+0.25*z\n",
"    z=1.4-0.2*x+0.2*y\n",
"    printf(' the value after %d iteration is : %f\t %f\t %f\t\n\n',i,x,y,z)\n",
"end\n",
"printf(' again we conclude that roots converges at 3  1  1')"
   ]
   }
,
{
		   "cell_type": "markdown",
		   "metadata": {},
		   "source": [
			"## Example 7.15: eigenvalues_and_eigenvectors.sce"
		   ]
		  },
  {
"cell_type": "code",
	   "execution_count": null,
	   "metadata": {
	    "collapsed": true
	   },
	   "outputs": [],
"source": [
"//eigenvalues and eigenvectors\n",
"//example 7.15\n",
"//page 285\n",
"clc;clear;close\n",
"A=[5 0 1;0 -2 0;1 0 5];\n",
"x=poly(0,'x');\n",
"for i=1:3\n",
"    A(i,i)=A(i,i)-x;\n",
"end\n",
"d=determ(A);\n",
"X=roots(d);\n",
"printf(' the eigen values are \n\n')\n",
"disp(X);\n",
"X1=[0;1;0]\n",
"X2=[1/sqrt(2);0;-1/sqrt(2)];\n",
"X3=[1/sqrt(2);0;1/sqrt(2)];\n",
"//after computation the eigen vectors \n",
"printf('the eigen vectors for value %0.2g is',X(3));\n",
"disp(X1);\n",
"printf('the eigen vectors for value %0.2g is',X(2));\n",
"disp(X2);\n",
"printf('the eigen vectors for value %0.2g is',X(1));\n",
"disp(X3);"
   ]
   }
,
{
		   "cell_type": "markdown",
		   "metadata": {},
		   "source": [
			"## Example 7.16: largest_eigenvalue_and_eigenvectors.sce"
		   ]
		  },
  {
"cell_type": "code",
	   "execution_count": null,
	   "metadata": {
	    "collapsed": true
	   },
	   "outputs": [],
"source": [
"//largest eigenvalue and eigenvectors\n",
"//example 7.16\n",
"//page 286\n",
"clc;clear;close;\n",
"A=[1 6 1;1 2 0;0 0 3];\n",
"I=[1;0;0];//initial eigen vector\n",
"X0=A*I\n",
"disp(X0,'X0=')\n",
"X1=A*X0;\n",
"disp(X1,'X1=')\n",
"X2=A*X1;\n",
"disp(X2,'X2=')\n",
"X3=X2/3;\n",
"disp(X3,'X3=')\n",
"X4=A*X3;\n",
"X5=X4/4;\n",
"disp(X5,'X5=');\n",
"X6=A*X5;\n",
"X7=X6/(4*4);\n",
"disp(X7,'X7=');\n",
"printf('as it can be seen that highest eigen value is 4 \n\n the eigen vector is %d %d %d',X7(1),X7(2),X7(3));"
   ]
   }
,
{
		   "cell_type": "markdown",
		   "metadata": {},
		   "source": [
			"## Example 7.17: housrholders_method.sce"
		   ]
		  },
  {
"cell_type": "code",
	   "execution_count": null,
	   "metadata": {
	    "collapsed": true
	   },
	   "outputs": [],
"source": [
"//housrholder's method\n",
"//example 7.17\n",
"//page 290\n",
"clc;clear;close;\n",
"A=[1 3 4;3 2 -1;4 -1 1];\n",
"S=sqrt(A(1,2)^2+A(1,3)^2);\n",
"v2=sqrt([1+(A(1,2)/S)]/2)\n",
"v3=A(1,3)/(2*v2*S)\n",
"V=[0 v2 v3];\n",
"P1=[1 0 0;0 1-2*v2^2 -2*v2*v3;0 -2*v2*v3 1-2*v3^2];\n",
"A1=P1*A*P1;\n",
"printf(' the reduced matrix is \n\n');\n",
"for i=1:3\n",
"    for j=1:3\n",
"        printf('%0.2f   ',A1(i,j));\n",
"    end\n",
"    printf('\n');\n",
"end"
   ]
   }
,
{
		   "cell_type": "markdown",
		   "metadata": {},
		   "source": [
			"## Example 7.18: single_value_decommposition.sce"
		   ]
		  },
  {
"cell_type": "code",
	   "execution_count": null,
	   "metadata": {
	    "collapsed": true
	   },
	   "outputs": [],
"source": [
"//single value decommposition \n",
"//example 7.18\n",
"//page 292\n",
"clc;clear;close;\n",
"A=[1 2;1 1;1 3];\n",
"A1=A'*A;\n",
"x=poly(0,'x');\n",
"A1(1,1)=A1(1,1)-x; \n",
"A1(2,2)=A1(2,2)-x;\n",
"de_A1=det(A1);\n",
"C=roots(de_A1);\n",
"printf( ' eigen values are %0.2f  %0.2f\n\n',C(1),C(2));\n",
"X1=[0.4033;0.9166];\n",
"X2=[0.9166;-0.4033];\n",
"Y1=(A*X1)/sqrt(C(1));\n",
"Y2=(A*X2)/sqrt(C(2));\n",
"printf(' singular decomposition of A is given by \n\n');\n",
"D1=[Y1(1) Y2(1);Y1(2) Y2(2);Y1(3) Y2(3)];\n",
"D2=[sqrt(C(1)) 0;0,sqrt(C(2))];\n",
"D3=[X1(1) X2(1);X1(2) X2(2)];\n",
"for i=1:3\n",
"    for j=1:2\n",
"        printf('%0.4f   ',D1(i,j))\n",
"    end\n",
"    printf('\n')\n",
"end\n",
"printf('\n\n')\n",
"for i=1:2\n",
"    for j=1:2\n",
"        printf('%0.4f   ',D2(i,j))\n",
"    end\n",
"    printf('\n')\n",
"end\n",
"printf('\n\n');\n",
"for i=1:2\n",
"    for j=1:2\n",
"        printf('%0.4f   ',D3(i,j))\n",
"    end\n",
"    printf('\n')\n",
"end"
   ]
   }
,
{
		   "cell_type": "markdown",
		   "metadata": {},
		   "source": [
			"## Example 7.1: inverse_of_matrix.sce"
		   ]
		  },
  {
"cell_type": "code",
	   "execution_count": null,
	   "metadata": {
	    "collapsed": true
	   },
	   "outputs": [],
"source": [
"//example 7.1\n",
"//inverse of matrix\n",
"//page 256\n",
"clc;clear;close;\n",
"A=[1,2,3;0,1,2;0,0,1];\n",
"A_1=1/A//inverse of matrix\n",
"for i=1:3\n",
"    for j=1:3\n",
"        printf('%d  ',A_1(i,j))\n",
"    end\n",
"    printf('\n')\n",
"end"
   ]
   }
,
{
		   "cell_type": "markdown",
		   "metadata": {},
		   "source": [
			"## Example 7.2: Factorize_by_triangulation_method.sce"
		   ]
		  },
  {
"cell_type": "code",
	   "execution_count": null,
	   "metadata": {
	    "collapsed": true
	   },
	   "outputs": [],
"source": [
"//example 7.2\n",
"//Factorize by triangulation method\n",
"//page 259\n",
"clc;clear;close;\n",
"A=[2,3,1;1,2,3;3,1,2];\n",
"L(1,2)=0,L(1,3)=0,L(2,3)=0;\n",
"U(2,1)=0,U(3,1)=0,U(3,2)=0;\n",
"for i=1:3\n",
"    L(i,i)=1;\n",
"end\n",
"for i=1:3\n",
"    U(1,i)=A(1,i);\n",
"end\n",
"L(2,1)=1/U(1,1);\n",
"for i=2:3\n",
"    U(2,i)=A(2,i)-U(1,i)*L(2,1);\n",
"end\n",
"L(3,1)=A(3,1)/U(1,1);\n",
"L(3,2)=(A(3,2)-U(1,2)*L(3,1))/U(2,2);\n",
"U(3,3)=A(3,3)-U(1,3)*L(3,1)-U(2,3)*L(3,2);\n",
"printf('The Matrix A in Triangle form\n \n')\n",
"printf('Matrix L\n');\n",
"for i=1:3\n",
"    for j=1:3\n",
"        printf('%.2f  ',L(i,j));\n",
"    end\n",
"    printf('\n');\n",
"end\n",
"printf('\n \n');\n",
"printf('Matrix U\n');\n",
"for i=1:3\n",
"    for j=1:3\n",
"        printf('%.2f  ',U(i,j));\n",
"    end\n",
"    printf('\n');\n",
"end"
   ]
   }
,
{
		   "cell_type": "markdown",
		   "metadata": {},
		   "source": [
			"## Example 7.3: Vector_Norms.sce"
		   ]
		  },
  {
"cell_type": "code",
	   "execution_count": null,
	   "metadata": {
	    "collapsed": true
	   },
	   "outputs": [],
"source": [
"//example 7.3\n",
"//Vector Norms\n",
"//page 262\n",
"clc;clear;close;\n",
"A=[1,2,3;4,5,6;7,8,9];\n",
"s=0;\n",
"for i=1:3\n",
"    for j=1:3\n",
"        s=s+A(j,i);\n",
"    end\n",
"    C(i)=s;\n",
"    s=0;\n",
"end\n",
"printf('||A||1=%d\n',max(C));\n",
"for i=1:3\n",
"    for j=1:3\n",
"        s=s+(A(i,j)*A(i,j))\n",
"    end\n",
"end\n",
"printf('||A||e=%.3f\n',sqrt(s));\n",
"s=0;\n",
"for i=1:3\n",
"    for j=1:3\n",
"        s=s+A(i,j);\n",
"    end\n",
"    C(i)=s;\n",
"    s=0;\n",
"end\n",
"printf('||A||~=%d\n',max(C));"
   ]
   }
,
{
		   "cell_type": "markdown",
		   "metadata": {},
		   "source": [
			"## Example 7.6: Gauss_Jorda.sce"
		   ]
		  },
  {
"cell_type": "code",
	   "execution_count": null,
	   "metadata": {
	    "collapsed": true
	   },
	   "outputs": [],
"source": [
"//example 7.4\n",
"//Gauss Jordan\n",
"//page 266\n",
"clc;clear;close;\n",
"A=[2,1,1,10;3,2,3,18;1,4,9,16];//augmented matrix\n",
"for i=1:3\n",
"    j=i\n",
"    while(A(i,i)==0&j<=3)\n",
"\n",
"for k=1:4\n",
"    B(1,k)=A(j+1,k)\n",
"    A(j+1,k)=A(i,k)\n",
"    A(i,k)=B(1,k)\n",
"end\n",
"disp(A);\n",
"j=j+1;\n",
"end\n",
"disp(A);\n",
"for k=4:-1:i\n",
"    A(i,k)=A(i,k)/A(i,i)\n",
"end\n",
"disp(A)\n",
"for k=1:3\n",
"    if(k~=i) then\n",
"        l=A(k,i)/A(i,i)\n",
"        for m=i:4\n",
"            A(k,m)=A(k,m)-l*A(i,m)\n",
"        end\n",
"    end\n",
"end\n",
"disp(A)\n",
"end\n",
"for i=1:3\n",
"    printf('\nx(%i )=%g\n',i,A(i,4))\n",
"end\n",
"\n",
"    "
   ]
   }
,
{
		   "cell_type": "markdown",
		   "metadata": {},
		   "source": [
			"## Example 7.7: modern_gauss_jordan_method.sce"
		   ]
		  },
  {
"cell_type": "code",
	   "execution_count": null,
	   "metadata": {
	    "collapsed": true
	   },
	   "outputs": [],
"source": [
"//modern gauss jordan method\n",
"//example 7.7\n",
"//page 269\n",
"clc;clear;close;\n",
"A=[2 1 1;3 2 3;1 4 9];\n",
"I=eye(3,3);\n",
"I1=[1;0;0];\n",
"I2=[0;1;0];\n",
"I3=[0;0;1];\n",
"A1=A^-1*I1;\n",
"A2=A^-1*I2;\n",
"A3=A^-1*I3;\n",
"for i=1:3\n",
"    AI(i,1)=A1(i,1)\n",
"end\n",
"for i=1:3\n",
"    AI(i,2)=A2(i,1)\n",
"end\n",
"for i=1:3\n",
"    AI(i,3)=A3(i,1)\n",
"end\n",
"printf('the inverse of the matrix\n')\n",
"for i=1:3\n",
"    for j=1:3\n",
"        printf('%0.2g     ',AI(i,j))\n",
"    end\n",
"    printf('\n');\n",
"    end"
   ]
   }
,
{
		   "cell_type": "markdown",
		   "metadata": {},
		   "source": [
			"## Example 7.8: LU_decomposition_method.sce"
		   ]
		  },
  {
"cell_type": "code",
	   "execution_count": null,
	   "metadata": {
	    "collapsed": true
	   },
	   "outputs": [],
"source": [
"//LU decomposition method\n",
"//example 7.8\n",
"//page 273\n",
"clc;clear;close;\n",
"A=[2,3,1;1,2,3;3,1,2];\n",
"B=[9;6;8]\n",
"L(1,2)=0,L(1,3)=0,L(2,3)=0;\n",
"U(2,1)=0,U(3,1)=0,U(3,2)=0;\n",
"for i=1:3\n",
"    L(i,i)=1;\n",
"end\n",
"for i=1:3\n",
"    U(1,i)=A(1,i);\n",
"end\n",
"L(2,1)=1/U(1,1);\n",
"for i=2:3\n",
"    U(2,i)=A(2,i)-U(1,i)*L(2,1);\n",
"end\n",
"L(3,1)=A(3,1)/U(1,1);\n",
"L(3,2)=(A(3,2)-U(1,2)*L(3,1))/U(2,2);\n",
"U(3,3)=A(3,3)-U(1,3)*L(3,1)-U(2,3)*L(3,2);\n",
"printf('The Matrix A in Triangle form\n \n')\n",
"printf('Matrix L\n');\n",
"for i=1:3\n",
"    for j=1:3\n",
"        printf('%.2f  ',L(i,j));\n",
"    end\n",
"    printf('\n');\n",
"end\n",
"printf('\n \n');\n",
"printf('Matrix U\n');\n",
"for i=1:3\n",
"    for j=1:3\n",
"        printf('%.2f  ',U(i,j));\n",
"    end\n",
"    printf('\n');\n",
"end\n",
"Y=L^-1*B;\n",
"X=U^-1*Y;\n",
"printf(' the values of x=%f,y=%f,z=%f',X(1,1),X(2,1),X(3,1));"
   ]
   }
,
{
		   "cell_type": "markdown",
		   "metadata": {},
		   "source": [
			"## Example 7.9: ill_conditioned_linear_systems.sce"
		   ]
		  },
  {
"cell_type": "code",
	   "execution_count": null,
	   "metadata": {
	    "collapsed": true
	   },
	   "outputs": [],
"source": [
"//ill conditioned linear systems\n",
"//example 7.9\n",
"//page 276\n",
"clc;clear;close;\n",
"A=[2 1;2 1.01];\n",
"B=[2;2.01];\n",
"X=A^-1*B;\n",
"A_e=0;\n",
"for i=1:2\n",
"    for j=1:2\n",
"        A_e=A_e+A(i,j)^2;\n",
"    end\n",
"end\n",
"A_e=sqrt(A_e);\n",
"inv_A=A^-1;\n",
"invA_e=0;\n",
"for i=1:2\n",
"    for j=1:2\n",
"        invA_e=invA_e+inv_A(i,j)^2;\n",
"    end\n",
"end\n",
"invA_e=sqrt(invA_e);\n",
"C=A_e*invA_e\n",
"de_A=determ(A);\n",
"for i=1:2\n",
"    s=0;\n",
"    for j=1:2\n",
"        s=s+A(i,j)^2\n",
"    end\n",
"    s=sqrt(s);\n",
"    k=de_A/s;\n",
"end\n",
"if k<1 then\n",
"    printf(' the fuction is ill conditioned')\n",
"end"
   ]
   }
],
"metadata": {
		  "kernelspec": {
		   "display_name": "Scilab",
		   "language": "scilab",
		   "name": "scilab"
		  },
		  "language_info": {
		   "file_extension": ".sce",
		   "help_links": [
			{
			 "text": "MetaKernel Magics",
			 "url": "https://github.com/calysto/metakernel/blob/master/metakernel/magics/README.md"
			}
		   ],
		   "mimetype": "text/x-octave",
		   "name": "scilab",
		   "version": "0.7.1"
		  }
		 },
		 "nbformat": 4,
		 "nbformat_minor": 0
}
