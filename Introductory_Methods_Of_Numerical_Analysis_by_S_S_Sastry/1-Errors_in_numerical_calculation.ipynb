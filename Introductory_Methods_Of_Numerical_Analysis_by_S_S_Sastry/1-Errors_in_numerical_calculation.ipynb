{
"cells": [
 {
		   "cell_type": "markdown",
	   "metadata": {},
	   "source": [
       "# Chapter 1: Errors in numerical calculation"
	   ]
	},
{
		   "cell_type": "markdown",
		   "metadata": {},
		   "source": [
			"## Example 1.10: relative_error.sce"
		   ]
		  },
  {
"cell_type": "code",
	   "execution_count": null,
	   "metadata": {
	    "collapsed": true
	   },
	   "outputs": [],
"source": [
"//relative error\n",
"//example 1.10\n",
"//page 12\n",
"clc;clear;close;\n",
"a=6.54;b=48.64;c=13.5\n",
"da=0.01;db=0.02;dc=0.03;\n",
"s=(a^2*sqrt(b))/c^3;\n",
"disp(s,'s=');\n",
"r_err=2*(da/a)+(db/b)/2+3*(dc/c);\n",
"printf(' the relative error is :%f',r_err);"
   ]
   }
,
{
		   "cell_type": "markdown",
		   "metadata": {},
		   "source": [
			"## Example 1.11: relative_error.sce"
		   ]
		  },
  {
"cell_type": "code",
	   "execution_count": null,
	   "metadata": {
	    "collapsed": true
	   },
	   "outputs": [],
"source": [
"//relative error\n",
"//example 1.11\n",
"//page 13\n",
"clc;clear;close;\n",
"x=1;y=1;z=1;\n",
"u=(5*x*y^3)/z^3;\n",
"dx=0.001;dy=0.001;dz=0.001;\n",
"u_max=((5*y^2)/z^3)*dx+((10*x*y)/z^3)*dy+((15*x*y^2)/z^4)*dz;\n",
"r_err=u_max/u;\n",
"printf(' the relative error is :%f',r_err);"
   ]
   }
,
{
		   "cell_type": "markdown",
		   "metadata": {},
		   "source": [
			"## Example 1.12: taylor_series.sce"
		   ]
		  },
  {
"cell_type": "code",
	   "execution_count": null,
	   "metadata": {
	    "collapsed": true
	   },
	   "outputs": [],
"source": [
"//taylor series\n",
"//example 1.12\n",
"//page 12\n",
"clc;clear;close;\n",
"deff('y=f(x)','y=x^3+5*x-10');\n",
"deff('y=f1(x)','y=3*x^2-6*x+5')//first derivative\n",
"deff('y=f2(x)','y=6*x-6')//second derivative\n",
"deff('y=f3(x)','y=6')//third derivative\n",
"D=[f(0) f1(0) f2(0) f3(0)]\n",
"S1=0;\n",
"h=1;\n",
"for i=1:4\n",
"    S1=S1+h^(i-1)*D(i)/factorial(i-1);\n",
"end\n",
"printf('the third order taylors series approximation of f(1) is :%d',S1);\n",
""
   ]
   }
,
{
		   "cell_type": "markdown",
		   "metadata": {},
		   "source": [
			"## Example 1.13: taylor_series.sce"
		   ]
		  },
  {
"cell_type": "code",
	   "execution_count": null,
	   "metadata": {
	    "collapsed": true
	   },
	   "outputs": [],
"source": [
"//taylor series\n",
"//example 1.13\n",
"//page 16\n",
"clc;clear;close;\n",
"deff('y=f(x)','y=sin(x)');\n",
"deff('y=f1(x)','y=cos(x)');\n",
"deff('y=f2(x)','y=-sin(x)');\n",
"deff('y=f3(x)','y=-cos(x)');\n",
"deff('y=f4(x)','y=sin(x)');\n",
"deff('y=f5(x)','y=cos(x)');\n",
"deff('y=f6(x)','y=-sin(x)');\n",
"deff('y=f7(x)','y=-cos(x)');\n",
"D=[f(%pi/6) f1(%pi/6) f2(%pi/6) f3(%pi/6) f4(%pi/6) f5(%pi/6) f6(%pi/6) f7(%pi/6)];\n",
"S1=0;\n",
"h=%pi/6;\n",
"printf('order of approximation  computed value of sin(pi/3)   absolute eror\n\n');\n",
"for j=1:8\n",
"for i=1:j\n",
"    S1=S1+h^(i-1)*D(i)/factorial(i-1);\n",
"end\n",
"printf('%d                       %0.9f                        %0.9f\n',j,S1,abs(sin(%pi/3)-S1));\n",
"S1=0;\n",
"end\n",
"\n",
""
   ]
   }
,
{
		   "cell_type": "markdown",
		   "metadata": {},
		   "source": [
			"## Example 1.14: maclaurins_expansion.sce"
		   ]
		  },
  {
"cell_type": "code",
	   "execution_count": null,
	   "metadata": {
	    "collapsed": true
	   },
	   "outputs": [],
"source": [
"//maclaurins expansion\n",
"//example 1.14\n",
"//page 18\n",
"clc;clear;close;\n",
"x=1;\n",
"n=8;//correct to 8 decimal places\n",
"for i=1:50\n",
"    if x/factorial(i)<(10^-8/2) then\n",
"        c=i;\n",
"        break;\n",
"       \n",
"    end\n",
"end\n",
"printf('no of terms needed to correct to 8 decimal places is :%d',c)"
   ]
   }
,
{
		   "cell_type": "markdown",
		   "metadata": {},
		   "source": [
			"## Example 1.15: series_approximatio.sce"
		   ]
		  },
  {
"cell_type": "code",
	   "execution_count": null,
	   "metadata": {
	    "collapsed": true
	   },
	   "outputs": [],
"source": [
"//series apprixamation\n",
"//example 1.15\n",
"//page 18\n",
"clc;clear;close;\n",
"x=1/11;\n",
"S1=0;\n",
"for i=1:2:5\n",
"        S1=S1+(x^i/(i))\n",
"    end\n",
"printf('value of log(1.2) is : %0.8f\n\n',2*S1)\n",
"c=0;\n",
"for i=1:50\n",
"    if (1/11)^i/i<(2*10^-7) then\n",
"        c=i;\n",
"        break;\n",
"       end\n",
"end\n",
"printf('min no of terms needed to get value wuth same accuracy  is :%d',c)"
   ]
   }
,
{
		   "cell_type": "markdown",
		   "metadata": {},
		   "source": [
			"## Example 1.1: rounding_off.sce"
		   ]
		  },
  {
"cell_type": "code",
	   "execution_count": null,
	   "metadata": {
	    "collapsed": true
	   },
	   "outputs": [],
"source": [
"//example 1.1\n",
"//rounding off\n",
"//page 7\n",
"clc;clear;close;\n",
"a1=1.6583;\n",
"a2=30.0567;\n",
"a3=0.859378;\n",
"a4=3.14159;\n",
"printf('\nthe numbers after rounding to 4 significant figures are given below\n')\n",
"printf('    %f       %.4g\n',a1,a1);\n",
"printf('    %f       %.4g\n',a2,a2);\n",
"printf('    %f       %.4g\n',a3,a3);\n",
"printf('    %f       %.4g\n',a4,a4);"
   ]
   }
,
{
		   "cell_type": "markdown",
		   "metadata": {},
		   "source": [
			"## Example 1.2: percentage_accuracy.sce"
		   ]
		  },
  {
"cell_type": "code",
	   "execution_count": null,
	   "metadata": {
	    "collapsed": true
	   },
	   "outputs": [],
"source": [
"//example 1.2\n",
"//percentage accuracy\n",
"//page 9\n",
"clc;clear;close;\n",
"x=0.51;// the number given\n",
"n=2;//correcting upto 2 decimal places\n",
"dx=((10^-n)/2)\n",
"p_a=(dx/x)*100;//percentage accuracy\n",
"printf('the percentage accuracy of %f after correcting to two decimal places is %f',x,p_a);\n",
""
   ]
   }
,
{
		   "cell_type": "markdown",
		   "metadata": {},
		   "source": [
			"## Example 1.3: absolute_and_relative_errors.sce"
		   ]
		  },
  {
"cell_type": "code",
	   "execution_count": null,
	   "metadata": {
	    "collapsed": true
	   },
	   "outputs": [],
"source": [
"//example 1.3\n",
"//absolute and relative errors\n",
"//page 9\n",
"clc;clear;close;\n",
"X=22/7;//approximate value of pi\n",
"T_X=3.1415926;// true value of pi\n",
"A_E=T_X-X;//absolute error\n",
"R_E=A_E/T_X;//relative error\n",
"printf('Absolute Error = %0.7f \n Relative Error = %0.7f',A_E,R_E);"
   ]
   }
,
{
		   "cell_type": "markdown",
		   "metadata": {},
		   "source": [
			"## Example 1.4: best_approximatio.sce"
		   ]
		  },
  {
"cell_type": "code",
	   "execution_count": null,
	   "metadata": {
	    "collapsed": true
	   },
	   "outputs": [],
"source": [
"//example 1.4\n",
"//best approximation\n",
"//page 10\n",
"clc;clear;close;\n",
"A_X=1/3;//the actual number\n",
"X1=0.30;\n",
"X2=0.33;\n",
"X3=0.34;\n",
"A_E1=abs(A_X-X1);\n",
"A_E2=abs(A_X-X2);\n",
"A_E3=abs(A_X-X3);\n",
"if(A_E1<A_E2)\n",
"if(A_E1<A_E3)\n",
"    B_A=X1;\n",
"end \n",
"end\n",
"if(A_E2<A_E1)\n",
"if(A_E2<A_E3)\n",
"    B_A=X2;\n",
"end\n",
"end\n",
"if(A_E3<A_E2)\n",
"if(A_E3<A_E1)\n",
"    B_A=X3;\n",
"end\n",
"end\n",
"printf('the best approximation of 1/3 is %.2g ',B_A);\n",
""
   ]
   }
,
{
		   "cell_type": "markdown",
		   "metadata": {},
		   "source": [
			"## Example 1.5: relative_error.sce"
		   ]
		  },
  {
"cell_type": "code",
	   "execution_count": null,
	   "metadata": {
	    "collapsed": true
	   },
	   "outputs": [],
"source": [
"//relative error\n",
"//example 1.5\n",
"//page 10\n",
"clc;clear;close;\n",
"n=8.6;// the corrected number\n",
"N=1;//the no is rounded to one decimal places\n",
"E_A=(10^-N)/2;\n",
"E_R=E_A/n;\n",
"printf('the relative error of the number is:%0.4f',E_R);"
   ]
   }
,
{
		   "cell_type": "markdown",
		   "metadata": {},
		   "source": [
			"## Example 1.6: absolute_error_and_relative_error.sce"
		   ]
		  },
  {
"cell_type": "code",
	   "execution_count": null,
	   "metadata": {
	    "collapsed": true
	   },
	   "outputs": [],
"source": [
"//example 1.6\n",
"//absolute error and relative error\n",
"//page 10\n",
"clc;clear;close;\n",
"s=sqrt(3)+sqrt(5)+sqrt(7);//the sum square root of 3,5,7\n",
"n=4;\n",
"Ea=3*((10^-n)/2);//absolute error\n",
"R_E=Ea/s;\n",
"printf('the sum of square roots  is %0.4g \n',s );\n",
"printf('the absolute error is %f \n',Ea);\n",
"printf('the relative error is %f ',R_E);\n",
""
   ]
   }
,
{
		   "cell_type": "markdown",
		   "metadata": {},
		   "source": [
			"## Example 1.7: absolute_error.sce"
		   ]
		  },
  {
"cell_type": "code",
	   "execution_count": null,
	   "metadata": {
	    "collapsed": true
	   },
	   "outputs": [],
"source": [
"//absolute error\n",
"//example 1.7\n",
"//page 10\n",
"clc;clear;close;\n",
"n=[0.1532 15.45 0.0000354 305.1 8.12 143.3 0.0212 0.643 0.173];//original numbbers\n",
"//rounding all numbers to 2 decimal places\n",
"n=[305.1 143.3 0.15 15.45 0.00 8.12 0.02 0.64];\n",
"sum=0;\n",
"l=length(n);\n",
"for i=1:l\n",
"    sum=sum+n(i);\n",
"end\n",
"E_A=2*(10^-1)/2+7*(10^-2)/2;\n",
"printf('the absolute error is:%0.2f',E_A);"
   ]
   }
,
{
		   "cell_type": "markdown",
		   "metadata": {},
		   "source": [
			"## Example 1.8: difference_in_3_significant_figures.sce"
		   ]
		  },
  {
"cell_type": "code",
	   "execution_count": null,
	   "metadata": {
	    "collapsed": true
	   },
	   "outputs": [],
"source": [
"//difference in 3 significant figures\n",
"//example 1.8\n",
"//page 11\n",
"clc;clear;close;\n",
"X1=sqrt(6.37);\n",
"X2=sqrt(6.36);\n",
"d=X1-X2;//difference between two numbers\n",
"printf('the differencecorrected to 3 significant figures is %0.3g',d);"
   ]
   }
],
"metadata": {
		  "kernelspec": {
		   "display_name": "Scilab",
		   "language": "scilab",
		   "name": "scilab"
		  },
		  "language_info": {
		   "file_extension": ".sce",
		   "help_links": [
			{
			 "text": "MetaKernel Magics",
			 "url": "https://github.com/calysto/metakernel/blob/master/metakernel/magics/README.md"
			}
		   ],
		   "mimetype": "text/x-octave",
		   "name": "scilab",
		   "version": "0.7.1"
		  }
		 },
		 "nbformat": 4,
		 "nbformat_minor": 0
}
