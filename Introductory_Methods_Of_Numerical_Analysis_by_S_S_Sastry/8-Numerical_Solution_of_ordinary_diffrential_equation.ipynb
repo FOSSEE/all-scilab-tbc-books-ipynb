{
"cells": [
 {
		   "cell_type": "markdown",
	   "metadata": {},
	   "source": [
       "# Chapter 8: Numerical Solution of ordinary diffrential equation"
	   ]
	},
{
		   "cell_type": "markdown",
		   "metadata": {},
		   "source": [
			"## Example 8.10: initial_value_problems.sce"
		   ]
		  },
  {
"cell_type": "code",
	   "execution_count": null,
	   "metadata": {
	    "collapsed": true
	   },
	   "outputs": [],
"source": [
"//example 8.10\n",
"//initial value problems\n",
"//page 315\n",
"clc;clear;close;\n",
"deff('y=f1(x,y)','y=3*x+y/2');\n",
"y(1)=1;\n",
"h=0.1;c=0;\n",
"for i=1:2\n",
"    y(i+1)=y(i)+h*f1(c,y(i))\n",
"    printf ('\ny(%g)=%g\n',c,y(i))\n",
"    c=c+0.1;\n",
"end"
   ]
   }
,
{
		   "cell_type": "markdown",
		   "metadata": {},
		   "source": [
			"## Example 8.11: adams_moulton_method.sce"
		   ]
		  },
  {
"cell_type": "code",
	   "execution_count": null,
	   "metadata": {
	    "collapsed": true
	   },
	   "outputs": [],
"source": [
"//example 8.11\n",
"//adam's moulton method\n",
"//page  316\n",
"clc;clear;close;\n",
"deff('y=f(x,y)','y=1+y^2');\n",
"y=0,x=0,h=0.2,f1(1)=0;\n",
"K1=h*f(x,y);\n",
"K2=h*f(x+h/2,y+K1/2);\n",
"K3=h*f(x+h/2,y+K2/2);\n",
"K4=h*f(x+h,y+K3);\n",
"y1=y+(K1+2*K2+2*K3+K4)/6;\n",
"f1(1)=y1;\n",
"printf ('\n y(0.2) by fourth order runge kutta method:%0.4f',y1);\n",
"y=y1,x=0.2,h=0.2;\n",
"K1=h*f(x,y);\n",
"K2=h*f(x+h/2,y+K1/2);\n",
"K3=h*f(x+h/2,y+K2/2);\n",
"K4=h*f(x+h,y+K3);\n",
"y1=y+(K1+2*K2+2*K3+K4)/6;\n",
"f1(2)=y1;\n",
"printf ('\n y(0.4) by fourth order runge kutta method:%0.4f',y1);\n",
"y=2,x=0,h=0.1;\n",
"y=y1,x=0.4,h=0.2;\n",
"K1=h*f(x,y);\n",
"K2=h*f(x+h/2,y+K1/2);\n",
"K3=h*f(x+h/2,y+K2/2);\n",
"K4=h*f(x+h,y+K3);\n",
"y1=y+(K1+2*K2+2*K3+K4)/6;\n",
"f1(3)=y1;\n",
"printf ('\n y(0.6) by fourth order runge kutta method:%0.4f',y1);\n",
"y_p=y1+h*(55*(1+f1(3)^2)-59*(1+f1(2)^2)+37*(1+f1(1)^2)-9)/24;\n",
"y_c=y1+h*(9*(1+(y_p-1)^2)+19*(1+f1(3)^2)-5*(1+f1(2)^2)+(1+f1(1)^2))/24;\n",
"printf(' \nthe predicted value is:%0.4f:\n ',y_p);\n",
"printf(' the computed value is:%0.4f:',y_c);"
   ]
   }
,
{
		   "cell_type": "markdown",
		   "metadata": {},
		   "source": [
			"## Example 8.12: milnes_method.sce"
		   ]
		  },
  {
"cell_type": "code",
	   "execution_count": null,
	   "metadata": {
	    "collapsed": true
	   },
	   "outputs": [],
"source": [
"//example 8.12\n",
"//milne's method\n",
"//page 320\n",
"clc;clear;close;\n",
"deff('y=f(x,y)','y=1+y^2');\n",
"y=0,x=0,h=0.2,f1(1)=0;\n",
"printf('x                y              y1=1+y^2\n\n')\n",
"Y1(1)=1+y^2;\n",
"printf('%0.4f         %0.4f      %0.4f\n',x,y,(1+y^2));\n",
"K1=h*f(x,y);\n",
"K2=h*f(x+h/2,y+K1/2);\n",
"K3=h*f(x+h/2,y+K2/2);\n",
"K4=h*f(x+h,y+K3);\n",
"y1=y+(K1+2*K2+2*K3+K4)/6;\n",
"f1(1)=y1;\n",
"Y1(2)=1+y1^2;\n",
"printf('%0.4f         %0.4f      %0.4f\n',x+h,y1,(1+y1^2));\n",
"y=y1,x=0.2,h=0.2;\n",
"K1=h*f(x,y);\n",
"K2=h*f(x+h/2,y+K1/2);\n",
"K3=h*f(x+h/2,y+K2/2);\n",
"K4=h*f(x+h,y+K3);\n",
"y1=y+(K1+2*K2+2*K3+K4)/6;\n",
"f1(2)=y1;\n",
"Y1(3)=1+y1^2\n",
"printf('%0.4f         %0.4f      %0.4f\n',x+h,y1,(1+y1^2));\n",
"y=y1,x=0.4,h=0.2;\n",
"K1=h*f(x,y);\n",
"K2=h*f(x+h/2,y+K1/2);\n",
"K3=h*f(x+h/2,y+K2/2);\n",
"K4=h*f(x+h,y+K3);\n",
"y1=y+(K1+2*K2+2*K3+K4)/6;\n",
"f1(3)=y1;\n",
"Y1(4)=1+y1^2;\n",
"printf('%0.4f         %0.4f      %0.4f\n',x+h,y1,(1+y1^2));\n",
"Y_4=4*h*(2*Y1(2)-Y1(3)+2*Y1(4))/3;\n",
"printf('y(0.8)=%f\n',Y_4);\n",
"Y=1+Y_4^2;\n",
"Y_4=f1(2)+h*(Y1(3)+4*Y1(4)+Y)/3;//more correct value\n",
"printf('y(0.8)=%f\n',Y_4);"
   ]
   }
,
{
		   "cell_type": "markdown",
		   "metadata": {},
		   "source": [
			"## Example 8.13: milnes_method.sce"
		   ]
		  },
  {
"cell_type": "code",
	   "execution_count": null,
	   "metadata": {
	    "collapsed": true
	   },
	   "outputs": [],
"source": [
"//example 8.13\n",
"//milne's method\n",
"//page 320\n",
"clc;clear;close;\n",
"deff('y=f1(x,y)','y=x^2+y^2-2');\n",
"x=[-0.1 0 0.1 0.2 ];\n",
"y=[1.0900 1.0 0.8900 0.7605];\n",
"h=0.1;\n",
"for i=1:4\n",
"    Y1(i)=f1(x(i),y(i));\n",
"end\n",
"printf('   x                y                y1=x^2+y^2-2    \n\n');\n",
"for i=1:4\n",
"printf('  %0.2f           %f           %f           \n',x(i),y(i),Y1(i));\n",
"end\n",
"Y_3=y(1)+(4*h/3)*(2*Y1(2)-Y1(3)+2*Y1(4));\n",
"printf('y(0.3)=%f\n',Y_3)\n",
"Y1_3=f1(0.3,Y_3);\n",
"Y_3=y(3)+h*(Y1(3)+4*Y1(4)+Y1_3)/3;//corrected value\n",
"printf('corrected y(0.3)=%f',Y_3)"
   ]
   }
,
{
		   "cell_type": "markdown",
		   "metadata": {},
		   "source": [
			"## Example 8.14: initial_value_problems.sce"
		   ]
		  },
  {
"cell_type": "code",
	   "execution_count": null,
	   "metadata": {
	    "collapsed": true
	   },
	   "outputs": [],
"source": [
"//example 8.14\n",
"//initial-value problem\n",
"//page 322\n",
"clc;clear;close;\n",
"deff('y=f(x)','y=13*exp(x/2)-6*x-12');\n",
"s1=1.691358;s3=3.430879;\n",
"printf('the erorr in the computed values are %0.7g  %0.7g',abs(f(0.5)-s1),abs(f(1)-s3))"
   ]
   }
,
{
		   "cell_type": "markdown",
		   "metadata": {},
		   "source": [
			"## Example 8.15: boundary_value_problem_using_finite_difference_method.sce"
		   ]
		  },
  {
"cell_type": "code",
	   "execution_count": null,
	   "metadata": {
	    "collapsed": true
	   },
	   "outputs": [],
"source": [
"//boundary value problem using finite difference method\n",
"//example 8.15\n",
"//page 328\n",
"clc;clear;close;\n",
"deff('y=f(x)','y=cos(x)+((1-cos(1))/sin(1))*sin(x)-1');\n",
"h1=1/2;\n",
"Y=f(0.5);\n",
"y0=0,y2=0;\n",
"y1=4*(1/4+y0+y2)/7\n",
"printf('computed value with h=%f of y(0.5) is %f\n',h1,y1)\n",
"printf('error in the result with actual value %f\n',abs(Y-y1) )\n",
"h2=1/4;\n",
"y0=0,y4=0;\n",
"//solving the approximated diffrential equation\n",
"A=[-31/16 1 0;1 -31/16 1;0 1 -31/16];\n",
"X=[-1/16;-1/16;-1/16];\n",
"C=A^-1*X;\n",
"printf('computed value with h=%f of y(0.5) is %f\n',h2,C(2,1))\n",
"printf('error in the result with actual value %f\n',abs(Y-C(2,1)))"
   ]
   }
,
{
		   "cell_type": "markdown",
		   "metadata": {},
		   "source": [
			"## Example 8.16: boundary_value_problem_using_finite_difference_method.sce"
		   ]
		  },
  {
"cell_type": "code",
	   "execution_count": null,
	   "metadata": {
	    "collapsed": true
	   },
	   "outputs": [],
"source": [
"//boundary value problem using finite difference method\n",
"//example 8.16\n",
"//page 329\n",
"clc;clear;close;\n",
"deff('y=f(x)','y=sinh(x)')\n",
"y0=0//y(0)=0;\n",
"y4=3.62686//y(2)=3.62686\n",
"h1=0.5;\n",
"Y=f(0.5)\n",
"//arranging and calculating the values\n",
"A=[-9 4 0;4 -9 4;0 4 -9];\n",
"C=[0;0;-14.50744];\n",
"X=A^-1*C\n",
"printf('computed value with h=%f of y(0.5) is %f\n',h1,X(1,1))\n",
"printf('error in the result with actual value %f\n',abs(Y-X(1,1)) )\n",
"h2=1.0;\n",
"y0=0//y(0)=0;\n",
"y2=3.62686//y(2)=3.62686\n",
"y1=(y0+y2)/3;\n",
"Y=(4*X(2,1)-y1)/3;\n",
"printf('with better approximation error is reduced to %f',abs(Y-f(1.0)));"
   ]
   }
,
{
		   "cell_type": "markdown",
		   "metadata": {},
		   "source": [
			"## Example 8.17: cubic_spline_method.sce"
		   ]
		  },
  {
"cell_type": "code",
	   "execution_count": null,
	   "metadata": {
	    "collapsed": true
	   },
	   "outputs": [],
"source": [
"//cubic spline method\n",
"//example 8.17\n",
"//page 330\n",
"clc;clear;close;\n",
"deff('y=f(x)','y=cos(x)+((1-cos(1))/sin(1))*sin(x)-1');\n",
"y=[f(0) f(0.5) f(1)];\n",
"h=1/2;\n",
"Y=f(0.5);\n",
"y0=0,y2=0;\n",
"M0=-1;M1=-22/25;M2=-1;\n",
"s1_0=47/88;s1_1=-47/88;s1_05=0;\n",
"printf('the cubic spline value is %f',Y)"
   ]
   }
,
{
		   "cell_type": "markdown",
		   "metadata": {},
		   "source": [
			"## Example 8.18: cubic_spline_method.sce"
		   ]
		  },
  {
"cell_type": "code",
	   "execution_count": null,
	   "metadata": {
	    "collapsed": true
	   },
	   "outputs": [],
"source": [
"//cubic spline method\n",
"//example 8.18\n",
"//page 331\n",
"clc;clear;close;\n",
"//after arranging and forming equation \n",
"A=[10 -1 0 24;0 16 -1 -32;1 20 0 16;0 1 26 -24];\n",
"C=[36;-12;24;-9];\n",
"X=A^-1*C;\n",
"printf(' Y1=%f\n\n',X(4,1));\n",
"printf(' the error in the solution is :%f',abs((2/3)-X(4,1)))"
   ]
   }
,
{
		   "cell_type": "markdown",
		   "metadata": {},
		   "source": [
			"## Example 8.19: boundary_value_problem_by_cubic_spline_method.sce"
		   ]
		  },
  {
"cell_type": "code",
	   "execution_count": null,
	   "metadata": {
	    "collapsed": true
	   },
	   "outputs": [],
"source": [
"//boundary value problem by cubisc spline nethod\n",
"//example 8.18\n",
"//page 331\n",
"clc;clear;close;\n",
"h=1/2;\n",
"//arranging in two subintervals we get\n",
"A=[10 -1 0 24;0 16 -1 -32;1 20 0 16;0 1 26 -24];\n",
"C=[36;-12;24;-9];\n",
"X=A^-1*C\n",
"printf('the computed value of y(1.5) is %f ',X(4,1));"
   ]
   }
,
{
		   "cell_type": "markdown",
		   "metadata": {},
		   "source": [
			"## Example 8.1: taylors_method.sce"
		   ]
		  },
  {
"cell_type": "code",
	   "execution_count": null,
	   "metadata": {
	    "collapsed": true
	   },
	   "outputs": [],
"source": [
"//example 8.1\n",
"//taylor's method\n",
"//page 304\n",
"clc;clear;close;\n",
"f=1;//value of function at 0\n",
"deff('z=f1(x)','z=x-f^2');\n",
"deff('z=f2(x)','z=1-2*f*f1(x)');\n",
"deff('z=f3(x)','z=-2*f*f2(x)-2*f2(x)^2');\n",
"deff('z=f4(x)','z=-2*f*f3(x)-6*f1(x)*f2(x)');\n",
"deff('z=f5(x)','z=-2*f*f4(x)-8*f1(x)*f3(x)-6*f2(x)^2');\n",
"h=0.1;//value at 0.1\n",
"k=f;\n",
"        for j=1:5\n",
"            if j==1  then\n",
"                k=k+h*f1(0);\n",
"            elseif j==2 then\n",
"                k=k+(h^j)*f2(0)/factorial(j)\n",
"            elseif j ==3\n",
"                k=k+(h^j)*f3(0)/factorial(j)\n",
"            elseif j ==4\n",
"                k=k+(h^j)*f4(0)/factorial(j)\n",
"            elseif j==5\n",
"                k=k+(h^j)*f5(0)/factorial(j)\n",
"                \n",
"end\n",
"end\n",
"printf('the value of the function at %.2f is :%0.4f',h,k)"
   ]
   }
,
{
		   "cell_type": "markdown",
		   "metadata": {},
		   "source": [
			"## Example 8.2: taylors_method.sce"
		   ]
		  },
  {
"cell_type": "code",
	   "execution_count": null,
	   "metadata": {
	    "collapsed": true
	   },
	   "outputs": [],
"source": [
"//taylor's method\n",
"//example 8.2\n",
"//page 304\n",
"clc;clear;close;\n",
"f=1;//value of function at 0\n",
"f1=0;//value of first derivatie at 0\n",
"deff('y=f2(x)','y=x*f1+f')\n",
"deff('y=f3(x)','y=x*f2(x)+2*f1');\n",
"deff('y=f4(x)','y=x*f3(x)+3*f2(x)');\n",
"deff('y=f5(x)','y=x*f4(x)+4*f3(x)');\n",
"deff('y=f6(x)','y=x*f5(x)+5*f4(x)');\n",
"h=0.1;//value at 0.1\n",
"k=f;\n",
"        for j=1:6\n",
"            if j==1  then\n",
"                k=k+h*f1;\n",
"            elseif j==2 then\n",
"                k=k+(h^j)*f2(0)/factorial(j)\n",
"            elseif j ==3\n",
"                k=k+(h^j)*f3(0)/factorial(j)\n",
"            elseif j ==4\n",
"                k=k+(h^j)*f4(0)/factorial(j)\n",
"            elseif j==5\n",
"                k=k+(h^j)*f5(0)/factorial(j)\n",
"                else\n",
"k=k+(h^j)*f6(0)/factorial (j)\n",
"end\n",
"end\n",
"printf('the value of the function at %.2f is :%0.7f',h,k)"
   ]
   }
,
{
		   "cell_type": "markdown",
		   "metadata": {},
		   "source": [
			"## Example 8.3: picards_method.sce"
		   ]
		  },
  {
"cell_type": "code",
	   "execution_count": null,
	   "metadata": {
	    "collapsed": true
	   },
	   "outputs": [],
"source": [
"//example 8.3\n",
"//picard's method\n",
"//page 306\n",
"clc;clear;close;\n",
"deff('z=f(x,y)','z=x+y^2')\n",
"y(1)=1;\n",
"for i=1:2\n",
"    y(i+1)=y(1)+integrate('f(x,y(i))','x',0,i /10);\n",
"    printf ( ' \n y (%g) = %g\n ' ,i/10 ,y(i +1) );\n",
"    end"
   ]
   }
,
{
		   "cell_type": "markdown",
		   "metadata": {},
		   "source": [
			"## Example 8.4: picards_method.sce"
		   ]
		  },
  {
"cell_type": "code",
	   "execution_count": null,
	   "metadata": {
	    "collapsed": true
	   },
	   "outputs": [],
"source": [
"//example 8.4\n",
"//picard's method\n",
"//page 306\n",
"clc;clear;close;\n",
"deff('z=f(x,y)','z=x^2/(y^2+1)')\n",
"y(1)=0;//value at 0\n",
"c=0.25;\n",
"for i=1:3\n",
"    y(i+1)=y(1)+integrate('f(x,y(i))','x',0,c);\n",
"    printf ( ' \n y(%0.2f) = %g\n',c ,y(i +1) );\n",
"    c=c*2;\n",
"    end"
   ]
   }
,
{
		   "cell_type": "markdown",
		   "metadata": {},
		   "source": [
			"## Example 8.5: eulers_method.sce"
		   ]
		  },
  {
"cell_type": "code",
	   "execution_count": null,
	   "metadata": {
	    "collapsed": true
	   },
	   "outputs": [],
"source": [
"//example 8.5\n",
"//euler's method\n",
"//page 308\n",
"clc;clear;close;\n",
"deff('z=f(y)','z=-y')\n",
"y(1)=1;//value at 0\n",
"h=0.01;c=0.01;\n",
"for i=1:4\n",
"    y(i+1)=y(i)+h*f(y(i))\n",
"    printf ('\ny(%g)=%g\n',c,y(i+1));\n",
"    c=c+0.01;\n",
"end"
   ]
   }
,
{
		   "cell_type": "markdown",
		   "metadata": {},
		   "source": [
			"## Example 8.6: error_estimates_in_eulers.sce"
		   ]
		  },
  {
"cell_type": "code",
	   "execution_count": null,
	   "metadata": {
	    "collapsed": true
	   },
	   "outputs": [],
"source": [
"//example 8.6\n",
"//error estimates in euler's \n",
"//page 308\n",
"clc;clear;close;\n",
"deff('z=f(y)','z=-y')\n",
"y(1)=1;//value at 0\n",
"h=0.01;c=0.01;\n",
"for i=1:4\n",
"    y(i+1)=y(i)+h*f(y(i))\n",
"    printf ('\ny(%g)=%g\n',c,y(i+1));\n",
"    c=c+0.01;\n",
"end\n",
"for i=1:4\n",
"    L(i)=abs(-(1/2)*h^2*y(i+1));\n",
"    printf('L(%d) =%f\n\n',i,L(i))\n",
"end\n",
"e(1)=0;\n",
"for i=1:4\n",
"    e(i+1)=abs(y(2)*e(i)+L(1));\n",
"    printf('e(%d)=%f\n\n',i,e(i))\n",
"end\n",
"Actual_value=exp(-0.04);\n",
"Estimated_value=y(5);\n",
"err=abs(Actual_value-Estimated_value);\n",
"if err<e(5) then\n",
"    disp(' VERIFIED');\n",
"end\n",
"\n",
""
   ]
   }
,
{
		   "cell_type": "markdown",
		   "metadata": {},
		   "source": [
			"## Example 8.7: modified_eulers_method.sce"
		   ]
		  },
  {
"cell_type": "code",
	   "execution_count": null,
	   "metadata": {
	    "collapsed": true
	   },
	   "outputs": [],
"source": [
"//example 8.7\n",
"//modified euler's method\n",
"//page 310\n",
"clc;clear;close;\n",
"h=0.05;\n",
"f=1;\n",
"deff('z=f1(x,y)','z=x^2+y');\n",
"x=0:0.05:0.1\n",
"y1=0;\n",
"y1(1)=f+h*f1(x(1),f);\n",
"y1(2)=f+h*(f1(x(1),f)+f1(x(2),y1(1)))/2;\n",
"y1(3)=f+h*(f1(x(1),f)+f1(x(3),y1(2)))/2;\n",
"y2(1)=y1(2)+h*f1(x(2),y1(2));\n",
"y2(2)=y1(2)+h*(f1(x(2),y1(2))+f1(x(3),y2(1)))/2;\n",
"y2(3)=y1(2)+h*(f1(x(2),y1(2))+f1(x(3),y2(2)))/2;\n",
"printf(' y1(0)\t y1(1)\t y1(2)\t y2(0)\t y2(1)\t y3(2)\n\n' );\n",
"printf(' %f\t    %f\t    %f\t    %f\t     %f\t    %f\n',y1(1),y1(2),y1(3),y2(1),y2(2),y2(3))\n",
"printf('\n\n the value of y at %0.2f is : %0.4f',x(3),y2(3));"
   ]
   }
,
{
		   "cell_type": "markdown",
		   "metadata": {},
		   "source": [
			"## Example 8.8: runge_kutta_formula.sce"
		   ]
		  },
  {
"cell_type": "code",
	   "execution_count": null,
	   "metadata": {
	    "collapsed": true
	   },
	   "outputs": [],
"source": [
"//example 8.8\n",
"//runge-kutta formula\n",
"//page 313\n",
"clc;clear;close;\n",
"deff('y=f(x,y)','y=y-x')\n",
"y=2;x=0;h=0.1;\n",
"K1=h*f(x,y);\n",
"K2=h*f(x+h,y+K1);\n",
"y1=y+( K1+K2)/2\n",
"printf ('\n y(0.1) by second order runge kutta method:%0.4f',y1);\n",
"y=y1;x=0.1;h=0.1;\n",
"K1=h*f(x,y);\n",
"K2=h*f(x+h,y+K1);\n",
"y1=y+( K1+K2)/2\n",
"printf ('\n y(0.2) by second order runge kutta method:%0.4f',y1);\n",
"y=2,x=0,h=0.1;\n",
"K1=h*f(x,y);\n",
"K2=h*f(x+h/2,y+K1/2);\n",
"K3=h*f(x+h/2,y+K2/2);\n",
"K4=h*f(x+h,y+K3);\n",
"y1=y+(K1+2*K2+2*K3+K4)/6;\n",
"printf ('\n y(0.1) by fourth order runge kutta method:%0.4f',y1);\n",
"y=y1,x=0.1,h=0.1;\n",
"K1=h*f(x,y);\n",
"K2=h*f(x+h/2,y+K1/2);\n",
"K3=h*f(x+h/2,y+K2/2);\n",
"K4=h*f(x+h,y+K3);\n",
"y1=y+(K1+2*K2+2*K3+K4)/6;\n",
"printf ('\n y(0.1) by fourth order runge kutta method:%0.4f',y1);y=2,x=0,h=0.1;"
   ]
   }
,
{
		   "cell_type": "markdown",
		   "metadata": {},
		   "source": [
			"## Example 8.9: runge_kutta_formula.sce"
		   ]
		  },
  {
"cell_type": "code",
	   "execution_count": null,
	   "metadata": {
	    "collapsed": true
	   },
	   "outputs": [],
"source": [
"//example 8.9\n",
"//runge kutta method\n",
"//page  315\n",
"clc;clear;close;\n",
"deff('y=f(x,y)','y=1+y^2');\n",
"y=0,x=0,h=0.2;\n",
"K1=h*f(x,y);\n",
"K2=h*f(x+h/2,y+K1/2);\n",
"K3=h*f(x+h/2,y+K2/2);\n",
"K4=h*f(x+h,y+K3);\n",
"y1=y+(K1+2*K2+2*K3+K4)/6;\n",
"printf ('\n y(0.2) by fourth order runge kutta method:%0.4f',y1);\n",
"y=y1,x=0.2,h=0.2;\n",
"K1=h*f(x,y);\n",
"K2=h*f(x+h/2,y+K1/2);\n",
"K3=h*f(x+h/2,y+K2/2);\n",
"K4=h*f(x+h,y+K3);\n",
"y1=y+(K1+2*K2+2*K3+K4)/6;\n",
"printf ('\n y(0.4) by fourth order runge kutta method:%0.4f',y1);\n",
"y=2,x=0,h=0.1;\n",
"y=y1,x=0.4,h=0.2;\n",
"K1=h*f(x,y);\n",
"K2=h*f(x+h/2,y+K1/2);\n",
"K3=h*f(x+h/2,y+K2/2);\n",
"K4=h*f(x+h,y+K3);\n",
"y1=y+(K1+2*K2+2*K3+K4)/6;\n",
"printf ('\n y(0.6) by fourth order runge kutta method:%0.4f',y1);"
   ]
   }
],
"metadata": {
		  "kernelspec": {
		   "display_name": "Scilab",
		   "language": "scilab",
		   "name": "scilab"
		  },
		  "language_info": {
		   "file_extension": ".sce",
		   "help_links": [
			{
			 "text": "MetaKernel Magics",
			 "url": "https://github.com/calysto/metakernel/blob/master/metakernel/magics/README.md"
			}
		   ],
		   "mimetype": "text/x-octave",
		   "name": "scilab",
		   "version": "0.7.1"
		  }
		 },
		 "nbformat": 4,
		 "nbformat_minor": 0
}
