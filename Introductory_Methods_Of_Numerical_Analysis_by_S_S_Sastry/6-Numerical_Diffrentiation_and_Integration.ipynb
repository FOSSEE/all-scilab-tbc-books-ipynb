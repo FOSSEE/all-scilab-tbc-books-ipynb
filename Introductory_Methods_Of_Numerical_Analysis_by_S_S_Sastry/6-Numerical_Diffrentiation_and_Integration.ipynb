{
"cells": [
 {
		   "cell_type": "markdown",
	   "metadata": {},
	   "source": [
       "# Chapter 6: Numerical Diffrentiation and Integration"
	   ]
	},
{
		   "cell_type": "markdown",
		   "metadata": {},
		   "source": [
			"## Example 6.10: integration_by_trapezoidal_and_simpsons_method.sce"
		   ]
		  },
  {
"cell_type": "code",
	   "execution_count": null,
	   "metadata": {
	    "collapsed": true
	   },
	   "outputs": [],
"source": [
"//example 6.10\n",
"//integration by trapezoidal and simpson's method\n",
"//page 228\n",
"clc;clear;close\n",
"deff('y=f(x)','y=1/(1+x)');\n",
"h=0.5;\n",
"x=0:h:1;\n",
"l=length(x);\n",
"for i=1:l\n",
"    y(i)=f(x(i));\n",
"end\n",
"area=0;//trapezoidal method\n",
"for i=1:l\n",
"    if i==1|i==l then\n",
"       area=area+y(i)\n",
"   else\n",
"       area=area+2*y(i)\n",
"    end\n",
"end\n",
"area=area*(h/2);\n",
"printf('area bounded by the curve by trapezoidal method with h=%f is %f\n \n',h,area);\n",
"area=0;//simpson 1/3rd rule\n",
"for i=1:l\n",
"    if i==1|i==l then\n",
"       area=area+y(i)\n",
" \n",
"  elseif (modulo(i,2))==0 then\n",
"           area=area+4*y(i)\n",
"       \n",
"   elseif (modulo(i,2))~=0 then\n",
"          area=area+2*y(i) \n",
"           end\n",
"    end\n",
"area=(area*h)/3;\n",
"printf('area bounded by the curve by simpson 1/3rd method with h=%f is %f\n \n',h,area);\n",
"h=0.25;\n",
"x=0:h:1;\n",
"l=length(x);\n",
"for i=1:l\n",
"    y(i)=f(x(i));\n",
"end\n",
"area=0;//trapezoidal method\n",
"for i=1:l\n",
"    if i==1|i==l then\n",
"       area=area+y(i)\n",
"   else\n",
"       area=area+2*y(i)\n",
"    end\n",
"end\n",
"area=area*(h/2);\n",
"printf('area bounded by the curve by trapezoidal method with h=%f is %f\n \n',h,area);\n",
"area=0;//simpson 1/3rd rule\n",
"for i=1:l\n",
"    if i==1|i==l then\n",
"       area=area+y(i)\n",
" \n",
"  elseif (modulo(i,2))==0 then\n",
"           area=area+4*y(i)\n",
"       \n",
"   elseif (modulo(i,2))~=0 then\n",
"          area=area+2*y(i) \n",
"           end\n",
"    end\n",
"area=(area*h)/3;\n",
"printf('area bounded by the curve by simpson 1/3rd method with h=%f is %f\n \n',h,area);\n",
"h=0.125;\n",
"x=0:h:1;\n",
"l=length(x);\n",
"for i=1:l\n",
"    y(i)=f(x(i));\n",
"end\n",
"area=0;//trapezoidal method\n",
"for i=1:l\n",
"    if i==1|i==l then\n",
"       area=area+y(i)\n",
"   else\n",
"       area=area+2*y(i)\n",
"    end\n",
"end\n",
"area=area*(h/2);\n",
"printf('area bounded by the curve by trapezoidal method with h=%f is %f\n \n',h,area);\n",
"area=0;//simpson 1/3rd rule\n",
"for i=1:l\n",
"    if i==1|i==l then\n",
"       area=area+y(i)\n",
" \n",
"  elseif (modulo(i,2))==0 then\n",
"           area=area+4*y(i)\n",
"       \n",
"   elseif (modulo(i,2))~=0 then\n",
"          area=area+2*y(i) \n",
"           end\n",
"    end\n",
"area=(area*h)/3;\n",
"printf('area bounded by the curve by simpson 1/3rd method with h=%f is %f\n \n',h,area);\n",
"\n",
"\n",
"\n",
"\n",
""
   ]
   }
,
{
		   "cell_type": "markdown",
		   "metadata": {},
		   "source": [
			"## Example 6.11: rommbergs_method.sce"
		   ]
		  },
  {
"cell_type": "code",
	   "execution_count": null,
	   "metadata": {
	    "collapsed": true
	   },
	   "outputs": [],
"source": [
"//example 6.11\n",
"//rommberg's method\n",
"//page 229\n",
"clc;clear;close;\n",
"deff('y=f(x)','y=1/(1+x)');\n",
"k=1;\n",
"h=0.5;\n",
"x=0:h:1;\n",
"l=length(x);\n",
"for i=1:l\n",
"    y(i)=f(x(i));\n",
"end\n",
"area=0;//trapezoidal method\n",
"for i=1:l\n",
"    if i==1|i==l then\n",
"       area=area+y(i)\n",
"   else\n",
"       area=area+2*y(i)\n",
"    end\n",
"end\n",
"area=area*(h/2);\n",
"I(k)=area;\n",
"k=k+1;\n",
"h=0.25;\n",
"x=0:h:1;\n",
"l=length(x);\n",
"for i=1:l\n",
"    y(i)=f(x(i));\n",
"end\n",
"area=0;//trapezoidal method\n",
"for i=1:l\n",
"    if i==1|i==l then\n",
"       area=area+y(i)\n",
"   else\n",
"       area=area+2*y(i)\n",
"    end\n",
"end\n",
"area=area*(h/2);\n",
"I(k)=area;\n",
"k=k+1;\n",
"h=0.125;\n",
"x=0:h:1;\n",
"l=length(x);\n",
"for i=1:l\n",
"    y(i)=f(x(i));\n",
"end\n",
"area=0;//trapezoidal method\n",
"for i=1:l\n",
"    if i==1|i==l then\n",
"       area=area+y(i)\n",
"   else\n",
"       area=area+2*y(i)\n",
"    end\n",
"end\n",
"area=area*(h/2);\n",
"I(k)=area;\n",
"printf('results obtained with h=0.5 0.25 0.125 is %f %f %f\n \n',I(1),I(2),I(3));\n",
"for i=1:2\n",
"    I1(i)=I(i+1)+(I(i+1)-I(i))/3\n",
"end\n",
"for i=1:1\n",
"    T2(i)=I1(i+1)+(I1(i+1)-I1(i))/3\n",
"end\n",
"printf('the area is %f',T2(1))\n",
""
   ]
   }
,
{
		   "cell_type": "markdown",
		   "metadata": {},
		   "source": [
			"## Example 6.12: Trapezoidal_and_Simpsons_rule.sce"
		   ]
		  },
  {
"cell_type": "code",
	   "execution_count": null,
	   "metadata": {
	    "collapsed": true
	   },
	   "outputs": [],
"source": [
"//example 6.12\n",
"//Trapezoidal and Simpson's rule\n",
"//page 230\n",
"clc;clear;close;\n",
"deff('y=f(x)','y=sqrt(1-x^2)');\n",
" k=10:10:50\n",
" for i=1:length(k)\n",
"     T_area(i)=0,S_area(i)=0;\n",
"   h=1/k(i);\n",
"    x=0:h:1\n",
"    l=length(x);\n",
"    for j=1:l\n",
"        y(j)=f(x(j));\n",
"    end\n",
"    for j=1:l\n",
"    if j==1|j==l then\n",
"       T_area(i)=T_area(i)+y(j)\n",
"   else\n",
"       T_area(i)=T_area(i)+2*y(j)\n",
"    end\n",
"    \n",
"end\n",
"T_area(i)=T_area(i)*(h/2);\n",
"for j=1:l\n",
"    if j==1|j==l then\n",
"       S_area(i)=S_area(i)+y(j)\n",
" \n",
"  elseif (modulo(j,2))==0 then\n",
"           S_area(i)=S_area(i)+4*y(j)\n",
"       \n",
"   elseif (modulo(i,2))~=0 then\n",
"          S_area(i)=S_area(i)+2*y(j) \n",
"           end\n",
"    end\n",
"S_area(i)=S_area(i)*(h)/3;\n",
"end\n",
"printf(' no of subintervals      Trapezoidal Rule       Simpsons Rule\t \n \n')\n",
"for i=1:length(k)\n",
"printf(' %0.9g                          %0.9g                  %0.9g           \n ',k(i),T_area(i),S_area(i));\n",
"\n",
"end\n",
"\n",
""
   ]
   }
,
{
		   "cell_type": "markdown",
		   "metadata": {},
		   "source": [
			"## Example 6.13: area_using_cubic_spline_method.sce"
		   ]
		  },
  {
"cell_type": "code",
	   "execution_count": null,
	   "metadata": {
	    "collapsed": true
	   },
	   "outputs": [],
"source": [
"//area using cubic spline method\n",
"//example 6.2\n",
"//page 230\n",
"clc;clear;close;\n",
"x=[0 0.5 1.0];\n",
"y=[0 1.0 0.0]\n",
"h=0.5;\n",
"M0=0,M2=0;\n",
"M1=(6*(y(3)-2*y(2)+y(1))/h^2-M0-M2)/4;\n",
"M=[M0 M1 M2];\n",
"I=0;\n",
"for i=1:2\n",
"    I=I+(h*(y(i)+y(i+1)))/2-((h^3)*(M(i)+M(i+1))/24);\n",
"end\n",
"printf(' the value of the integrand is : %f',I);"
   ]
   }
,
{
		   "cell_type": "markdown",
		   "metadata": {},
		   "source": [
			"## Example 6.15: eulers_maclaurin_formula.sce"
		   ]
		  },
  {
"cell_type": "code",
	   "execution_count": null,
	   "metadata": {
	    "collapsed": true
	   },
	   "outputs": [],
"source": [
"//euler's maclaurin formula\n",
"//example 6.15\n",
"//page 233\n",
"clc;clear;close;\n",
"y=[0 1 0];\n",
"h=%pi/4;\n",
"I=h*(y(1)+2*y(2)+y(3))/2+(h^2)/12+(h^4)/720;\n",
"printf(' the value of integrand with h=%f is : %f\n\n',h,I)\n",
"h=%pi/8;\n",
"y=[0 sin(%pi/8) sin(%pi*2/8) sin(%pi*3/8) sin(%pi*4/8)]\n",
"I=h*(y(1)+2*y(2)+2*y(3)+2*y(4)+y(5))/2+(h^2)/2+(h^2)/12+(h^4)/720;\n",
"printf(' the value of integrand with h=%f is : %f',h,I)"
   ]
   }
,
{
		   "cell_type": "markdown",
		   "metadata": {},
		   "source": [
			"## Example 6.17: error_estimate_in_evaluation_of_the_integral.sce"
		   ]
		  },
  {
"cell_type": "code",
	   "execution_count": null,
	   "metadata": {
	    "collapsed": true
	   },
	   "outputs": [],
"source": [
"// example 6.17\n",
"// error estimate in evaluation of the integral\n",
"// page 236\n",
"clc;clear;close;\n",
"deff('z=f(a,b)','z=cos(a)+4*cos((a+b)/2)+cos(b)')\n",
"a=0,b=%pi/2,c=%pi/4;\n",
"I(1)=(f(a,b)*((b-a)/2)/3)\n",
"I(2)=(f(a,c)*((c-a)/2)/3)\n",
"I(3)=(f(c,b)*((b-c)/2)/3)\n",
"Area=I(2)+I(3);\n",
"Error_estimate=((I(1)-I(2)-I(3))/15);\n",
"Actual_area=integrate('cos(x)','x',0,%pi/2);\n",
"Actual_error=abs(Actual_area-Area);\n",
"printf('the calculated area obtained is:%f\n',Area)\n",
"printf('the actual area obtained is:%f\n',Actual_area)\n",
"printf('the actual error obtained is:%f\n',Actual_error)"
   ]
   }
,
{
		   "cell_type": "markdown",
		   "metadata": {},
		   "source": [
			"## Example 6.18: error_estimate_in_evaluation_of_the_integral.sce"
		   ]
		  },
  {
"cell_type": "code",
	   "execution_count": null,
	   "metadata": {
	    "collapsed": true
	   },
	   "outputs": [],
"source": [
"// example 6.18\n",
"// error estimate in evaluation of the integral\n",
"// page 237\n",
"clc;clear;close;\n",
"deff('z=f(a,b)','z=8+4*sin(a)+4*(8+4*sin((a+b)/2))+8+4*sin(b)')\n",
"a=0,b=%pi/2,c=%pi/4;\n",
"I(1)=(f(a,b)*((b-a)/2)/3)\n",
"I(2)=(f(a,c)*((c-a)/2)/3)\n",
"I(3)=(f(c,b)*((b-c)/2)/3)\n",
"Area=I(2)+I(3);\n",
"Error_estimate=((I(1)-I(2)-I(3))/15);\n",
"Actual_area=integrate('8+4*cos(x)','x',0,%pi/2);\n",
"Actual_error=abs(Actual_area-Area);\n",
"printf('the calculated area obtained is:%f\n',Area)\n",
"printf('the actual area obtained is:%f\n',Actual_area)\n",
"printf('the actual error obtained is:%f\n',Actual_error)"
   ]
   }
,
{
		   "cell_type": "markdown",
		   "metadata": {},
		   "source": [
			"## Example 6.19: gauss_formula.sce"
		   ]
		  },
  {
"cell_type": "code",
	   "execution_count": null,
	   "metadata": {
	    "collapsed": true
	   },
	   "outputs": [],
"source": [
"//gauss' formula\n",
"//example 6.19\n",
"//page 242\n",
"clc;clear;close;\n",
"u=[-0.86113 -0.33998 0.33998 0.86113];\n",
"W=[0.34785 0.65214 0.65214 0.34785];\n",
"I=0;\n",
"for i=1:4\n",
"    I=I+(u(i)+1)*W(i);\n",
"end\n",
"I=I/4;\n",
"printf(' the value of integrand is : %0.5f',I);"
   ]
   }
,
{
		   "cell_type": "markdown",
		   "metadata": {},
		   "source": [
			"## Example 6.1: numerical_diffrentiation_by_newtons_difference_formula.sce"
		   ]
		  },
  {
"cell_type": "code",
	   "execution_count": null,
	   "metadata": {
	    "collapsed": true
	   },
	   "outputs": [],
"source": [
"//example 6.1\n",
"//numerical diffrentiation by newton's difference formula \n",
"//page 210\n",
"clc;clear;close\n",
"x=[1.0 1.2 1.4 1.6 1.8 2.0 2.2];\n",
"y=[2.7183 3.3201 4.0552 4.9530 6.0496 7.3891 9.0250];\n",
"c=1;\n",
"for i=1:6\n",
"    d1(c)=y(i+1)-y(i);\n",
"    c=c+1;\n",
"end\n",
"c=1;\n",
"for i=1:5\n",
"    d2(c)=d1(i+1)-d1(i);\n",
"    c=c+1;\n",
"end\n",
"c=1;\n",
"for i=1:4\n",
"    d3(c)=d2(i+1)-d2(i);\n",
"    c=c+1;\n",
"end\n",
"c=1;\n",
"for i=1:3\n",
"    d4(c)=d3(i+1)-d3(i);\n",
"    c=c+1;\n",
"end\n",
"c=1;\n",
"for i=1:2\n",
"    d5(c)=d4(i+1)-d4(i);\n",
"    c=c+1;\n",
"end\n",
"c=1;\n",
"for i=1:1\n",
"    d6(c)=d5(i+1)-d5(i);\n",
"    c=c+1;\n",
"end\n",
"x0=1.2//first and second derivative at 1.2\n",
"h=0.2;\n",
"f1=((d1(2)-d2(2)/2+d3(2)/3-d4(2)/4+d5(2)/5)/h);\n",
"printf('the first derivative of fuction at 1.2 is:%f\n',f1);\n",
"f2=(d2(2)-d3(2)+(11*d4(2))/12-(5*d5(2))/6)/h^2;\n",
"printf('the second derivative of fuction at 1.2 is:%f\n',f2);\n",
"\n",
"\n",
""
   ]
   }
,
{
		   "cell_type": "markdown",
		   "metadata": {},
		   "source": [
			"## Example 6.20: double_integration.sce"
		   ]
		  },
  {
"cell_type": "code",
	   "execution_count": null,
	   "metadata": {
	    "collapsed": true
	   },
	   "outputs": [],
"source": [
"//example 6.20\n",
"//double integration\n",
"//page 247\n",
"clc;clear;close;\n",
"deff('z=f(x,y)','z=exp(x+y)');\n",
"h0=0.5,k0=0.5;\n",
"h=[0 0.5 1];,k=[0 0.5 1];\n",
"for i=1:3\n",
"    for j=1:3\n",
"      x(i,j)=f(h(i),k(j));\n",
"    end\n",
"end\n",
"T_area=h0*k0*(x(1,1)+4*x(1,2)+4*x(3,2)+6*x(1,3)+x(3,3))/4//trapezoidal method\n",
"printf('the integration value by trapezoidal method  is %f\n ',T_area);\n",
"S_area=h0*k0*((x(1,1)+x(1,3)+x(3,1)+x(3,3)+4*(x(1,2)+x(3,2)+x(2,3)+x(2,1))+16*x(2,2)))/9\n",
"printf('the integration value by Simpson method  is %f',S_area);"
   ]
   }
,
{
		   "cell_type": "markdown",
		   "metadata": {},
		   "source": [
			"## Example 6.2: numerical_diffrentiation_by_newtons_difference_formula.sce"
		   ]
		  },
  {
"cell_type": "code",
	   "execution_count": null,
	   "metadata": {
	    "collapsed": true
	   },
	   "outputs": [],
"source": [
"//example 6.2\n",
"//numerical diffrentiation by newton's difference formula \n",
"//page 211\n",
"clc;clear;close\n",
"x=[1.0 1.2 1.4 1.6 1.8 2.0 2.2];\n",
"y=[2.7183 3.3201 4.0552 4.9530 6.0496 7.3891 9.0250];\n",
"c=1;\n",
"for i=1:6\n",
"    d1(c)=y(i+1)-y(i);\n",
"    c=c+1;\n",
"end\n",
"c=1;\n",
"for i=1:5\n",
"    d2(c)=d1(i+1)-d1(i);\n",
"    c=c+1;\n",
"end\n",
"c=1;\n",
"for i=1:4\n",
"    d3(c)=d2(i+1)-d2(i);\n",
"    c=c+1;\n",
"end\n",
"c=1;\n",
"for i=1:3\n",
"    d4(c)=d3(i+1)-d3(i);\n",
"    c=c+1;\n",
"end\n",
"c=1;\n",
"for i=1:2\n",
"    d5(c)=d4(i+1)-d4(i);\n",
"    c=c+1;\n",
"end\n",
"c=1;\n",
"for i=1:1\n",
"    d6(c)=d5(i+1)-d5(i);\n",
"    c=c+1;\n",
"end\n",
"x0=2.2//first and second derivative at 2.2\n",
"h=0.2;\n",
"f1=((d1(6)+d2(5)/2+d3(4)/3+d4(3)/4+d5(2)/5)/h);\n",
"printf('the first derivative of fuction at 1.2 is:%f\n',f1);\n",
"f2=(d2(5)+d3(4)+(11*d4(3))/12+(5*d5(2))/6)/h^2;\n",
"printf('the second derivative of fuction at 1.2 is:%f\n',f2);\n",
"x1=2.0;// first derivative also at 2.0\n",
"f1=((d1(5)+d2(4)/2+d3(3)/3+d4(2)/4+d5(1)/5+d6(1)/6)/h);\n",
"printf('\n \nthe first derivative of function at 1.2 is:%f\n',f1);\n",
"\n",
"\n",
"\n",
"\n",
"\n",
""
   ]
   }
,
{
		   "cell_type": "markdown",
		   "metadata": {},
		   "source": [
			"## Example 6.3: numerical_diffrentiation_by_newtons_difference_formula.sce"
		   ]
		  },
  {
"cell_type": "code",
	   "execution_count": null,
	   "metadata": {
	    "collapsed": true
	   },
	   "outputs": [],
"source": [
"//example 6.3\n",
"//numerical diffrentiation by newton's difference formula \n",
"//page 211\n",
"clc;clear;close\n",
"x=[1.0 1.2 1.4 1.6 1.8 2.0 2.2];\n",
"y=[2.7183 3.3201 4.0552 4.9530 6.0496 7.3891 9.0250];\n",
"c=1;\n",
"for i=1:6\n",
"    d1(c)=y(i+1)-y(i);\n",
"    c=c+1;\n",
"end\n",
"c=1;\n",
"for i=1:5\n",
"    d2(c)=d1(i+1)-d1(i);\n",
"    c=c+1;\n",
"end\n",
"c=1;\n",
"for i=1:4\n",
"    d3(c)=d2(i+1)-d2(i);\n",
"    c=c+1;\n",
"end\n",
"c=1;\n",
"for i=1:3\n",
"    d4(c)=d3(i+1)-d3(i);\n",
"    c=c+1;\n",
"end\n",
"c=1;\n",
"for i=1:2\n",
"    d5(c)=d4(i+1)-d4(i);\n",
"    c=c+1;\n",
"end\n",
"c=1;\n",
"for i=1:1\n",
"    d6(c)=d5(i+1)-d5(i);\n",
"    c=c+1;\n",
"end\n",
"x0=1.6//first and second derivative at 1.6\n",
"h=0.2;\n",
"f1=(((d1(3)+d1(4))/2-(d3(2)+d3(3))/4+(d5(1)+d5(2))/60))/h\n",
"printf('the first derivative of function at 1.6 is:%f\n',f1);\n",
"f2=((d2(3)-d4(2)/12)+d6(1)/90)/(h^2);\n",
"printf('the second derivative of function at 1.6 is:%f\n',f2);\n",
"\n",
"\n",
""
   ]
   }
,
{
		   "cell_type": "markdown",
		   "metadata": {},
		   "source": [
			"## Example 6.4: estimation_of_errors.sce"
		   ]
		  },
  {
"cell_type": "code",
	   "execution_count": null,
	   "metadata": {
	    "collapsed": true
	   },
	   "outputs": [],
"source": [
"//example 6.4\n",
"//estimation of errors \n",
"//page 213\n",
"clc;clear;close\n",
"x=[1.0 1.2 1.4 1.6 1.8 2.0 2.2];\n",
"y=[2.7183 3.3201 4.0552 4.9530 6.0496 7.3891 9.0250];\n",
"c=1;\n",
"for i=1:6\n",
"    d1(c)=y(i+1)-y(i);\n",
"    c=c+1;\n",
"end\n",
"c=1;\n",
"for i=1:5\n",
"    d2(c)=d1(i+1)-d1(i);\n",
"    c=c+1;\n",
"end\n",
"c=1;\n",
"for i=1:4\n",
"    d3(c)=d2(i+1)-d2(i);\n",
"    c=c+1;\n",
"end\n",
"c=1;\n",
"for i=1:3\n",
"    d4(c)=d3(i+1)-d3(i);\n",
"    c=c+1;\n",
"end\n",
"c=1;\n",
"for i=1:2\n",
"    d5(c)=d4(i+1)-d4(i);\n",
"    c=c+1;\n",
"end\n",
"c=1;\n",
"for i=1:1\n",
"    d6(c)=d5(i+1)-d5(i);\n",
"    c=c+1;\n",
"end\n",
"x0=1.6//first and second derivative at 1.6\n",
"h=0.2;\n",
"f1=((d1(2)-d2(2)/2+d3(2)/3-d4(2)/4+d5(2)/5)/h);\n",
"printf('the first derivative of fuction at 1.2 is:%f\n',f1);\n",
"f2=(d2(2)-d3(2)+(11*d4(2))/12-(5*d5(2))/6)/h^2;\n",
"printf('the second derivative of fuction at 1.2 is:%f\n',f2);\n",
"T_error1=((d3(2)+d3(3))/2)/(6*h);//truncation error\n",
"e=0.00005;//corrected to 4D values\n",
"R_error1=(3*e)/(2*h);\n",
"T_error1=T_error1+R_error1;//total error\n",
"f11=(d1(3)+d1(4))/(2*h);//using stirling formula first derivative\n",
"f22=d2(3)/(h*h);//second derivative\n",
"T_error2=d4(2)/(12*h*h);\n",
"R_error2=(4*e)/(h*h);\n",
"T_error2=T_error2+R_error2;\n",
"printf('total error in first derivative is %0.4g:\n ',T_error1);\n",
"printf('total error in second derivative is %0.4g:',T_error2);\n",
"\n",
"\n",
"\n",
"\n",
"\n",
""
   ]
   }
,
{
		   "cell_type": "markdown",
		   "metadata": {},
		   "source": [
			"## Example 6.5: cubic_spline_method.sce"
		   ]
		  },
  {
"cell_type": "code",
	   "execution_count": null,
	   "metadata": {
	    "collapsed": true
	   },
	   "outputs": [],
"source": [
"//cubic spline method\n",
"//example 6.5\n",
"//page 214\n",
"clc;clear;close;\n",
"x=[0 %pi/2 %pi];\n",
"y=[0 1 0];\n",
"M0=0,M2=0;\n",
"h=%pi/2;\n",
"M1=(6*(y(1)-2*y(2)+y(3))/(h^2)-M0-M2)/4;\n",
"deff('y=s1(x)','y=2*((-2*3*x^2)/(%pi^2)+3/2)/%pi');\n",
"S1=s1(%pi/4);\n",
"disp(S1,'S1(pi/4)=');\n",
"deff('y=s2(x)','y=(-24*x)/(%pi^3)');\n",
"S2=s2(%pi/4);\n",
"disp(S2,'S2(pi/4)=');"
   ]
   }
,
{
		   "cell_type": "markdown",
		   "metadata": {},
		   "source": [
			"## Example 6.6: derivative_by_cubic_spline_method.sce"
		   ]
		  },
  {
"cell_type": "code",
	   "execution_count": null,
	   "metadata": {
	    "collapsed": true
	   },
	   "outputs": [],
"source": [
"//derivative by cubic spline method\n",
"//example 6.6\n",
"//page 216\n",
"clc;clear;close;\n",
"x=[-2 -1 2 3];\n",
"y=[-12 -8 3 5] \n",
"deff('y=f(x)','y=x^3/15-3*x^2/20+241*x/60-3.9');\n",
"deff('y=s2(x)','y=[((2-x)^3/6)*(14/55)+(x+1)^3/6*(-74/55)]/3+[-8-21/55]*(2-x)/3+[3-(9/6)*(-74/55)]*(x+1)/3');\n",
"h=0.0001;\n",
"x0=1.0;\n",
"y1=(s2(x0+h)-s2(x0))/h;\n",
"printf(' the value y1(%0.2f) is : %f',x0,y1);"
   ]
   }
,
{
		   "cell_type": "markdown",
		   "metadata": {},
		   "source": [
			"## Example 6.7: maximun_and_minimun_of_functions.sce"
		   ]
		  },
  {
"cell_type": "code",
	   "execution_count": null,
	   "metadata": {
	    "collapsed": true
	   },
	   "outputs": [],
"source": [
"//maximun and minimun of functions\n",
"//example 6.7\n",
"//page 218\n",
"clc;clear;close;\n",
"x=[1.2 1.3 1.4 1.5 1.6];\n",
"y=[0.9320 0.9636 0.9855 0.9975 0.9996];\n",
"for i=1:4\n",
"    d1(i)=y(i+1)-y(i);\n",
"end\n",
"for i=1:3\n",
"    d2(i)=d1(i+1)-d1(i);\n",
"end\n",
"p=(-d1(1)*2/d2(1)+1)/2;\n",
"disp(p,'p=');\n",
"h=0.1;\n",
"x0=1.2;\n",
"X=x0+p*h;\n",
"printf(' the value of X correct to 2 decimal places is : %0.2f',X);\n",
"Y=y(5)-0.2*d1(4)+(-0.2)*(-0.2+1)*d2(3)/2;\n",
"disp(Y,'the value Y=');"
   ]
   }
,
{
		   "cell_type": "markdown",
		   "metadata": {},
		   "source": [
			"## Example 6.8: trapezoidal_method_for_integration.sce"
		   ]
		  },
  {
"cell_type": "code",
	   "execution_count": null,
	   "metadata": {
	    "collapsed": true
	   },
	   "outputs": [],
"source": [
"//example 6.8\n",
"//trapezoidal method for integration\n",
"//page 226\n",
"clc;clear;close;\n",
"x=[7.47 7.48 7.49 7.0 7.51 7.52];\n",
"f_x=[1.93 1.95 1.98 2.01 2.03 2.06];\n",
"h=x(2)-x(1);\n",
"l=length(x);\n",
"area=0;\n",
"for i=1:l\n",
"    if i==1|i==l then\n",
"       area=area+f_x(i)\n",
"   else\n",
"       area=area+2*f_x(i)\n",
"    end\n",
"end\n",
"area=area*(h/2);\n",
"printf('area bounded by the curve is %f',area);"
   ]
   }
,
{
		   "cell_type": "markdown",
		   "metadata": {},
		   "source": [
			"## Example 6.9: simpson_1by3_method_for_integration.sce"
		   ]
		  },
  {
"cell_type": "code",
	   "execution_count": null,
	   "metadata": {
	    "collapsed": true
	   },
	   "outputs": [],
"source": [
"//example 6.8\n",
"//simpson 1/3rd  method for integration\n",
"//page 226\n",
"clc;clear;close;\n",
"x=[0.00 0.25 0.50 0.75 1.00];\n",
"y=[1.000 0.9896 0.9589 0.9089 0.8415];\n",
"y=y^2;\n",
"h=x(2)-x(1);\n",
"l=length(x);\n",
"area=0;\n",
"for i=1:l\n",
"    if i==1|i==l then\n",
"       area=area+y(i)\n",
" \n",
"  elseif (modulo(i,2))==0 then\n",
"           area=area+4*y(i)\n",
"       \n",
"   elseif (modulo(i,2))~=0 then\n",
"          area=area+2*y(i) \n",
"           end\n",
"    end\n",
"area=area*(h*%pi)/3;\n",
"printf('area bounded by the curve is %f',area);"
   ]
   }
],
"metadata": {
		  "kernelspec": {
		   "display_name": "Scilab",
		   "language": "scilab",
		   "name": "scilab"
		  },
		  "language_info": {
		   "file_extension": ".sce",
		   "help_links": [
			{
			 "text": "MetaKernel Magics",
			 "url": "https://github.com/calysto/metakernel/blob/master/metakernel/magics/README.md"
			}
		   ],
		   "mimetype": "text/x-octave",
		   "name": "scilab",
		   "version": "0.7.1"
		  }
		 },
		 "nbformat": 4,
		 "nbformat_minor": 0
}
