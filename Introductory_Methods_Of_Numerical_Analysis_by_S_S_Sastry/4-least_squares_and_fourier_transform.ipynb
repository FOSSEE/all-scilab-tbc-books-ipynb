{
"cells": [
 {
		   "cell_type": "markdown",
	   "metadata": {},
	   "source": [
       "# Chapter 4: least squares and fourier transform"
	   ]
	},
{
		   "cell_type": "markdown",
		   "metadata": {},
		   "source": [
			"## Example 4.10: linear_weighted_least_approx.sce"
		   ]
		  },
  {
"cell_type": "code",
	   "execution_count": null,
	   "metadata": {
	    "collapsed": true
	   },
	   "outputs": [],
"source": [
"//linear weighted least approx\n",
"//example 4.10\n",
"//page 139\n",
"clc;clear;close;\n",
"x=[0 2 5 7];\n",
"y=[-1 5 12 20];\n",
"w=100;//given weight 100;\n",
"W=[1 1 100 1];\n",
"for i=1:4\n",
"    Wx(i)=W(i)*x(i);\n",
"    Wx2(i)=W(i)*x(i)^2;\n",
"    Wx3(i)=W(i)*x(i)^3;\n",
"    Wy(i)=W(i)*y(i);\n",
"    Wxy(i)=W(i)*x(i)*y(i);\n",
"   end\n",
"S_x=0,S_y=0,S_W=0,S_Wx=0,S_Wx2=0,S_Wy=0,S_Wxy=0;\n",
"for i=1:4\n",
"    S_x=S_x+x(i)\n",
"    S_y=S_y+y(i)\n",
"    S_W=S_W+W(i)\n",
"    S_Wx=S_Wx+Wx(i)\n",
"    S_Wx2=S_Wx2+Wx2(i)\n",
"    S_Wy=S_Wy+Wy(i)\n",
"    S_Wxy=S_Wxy+Wxy(i)\n",
"end\n",
"A=[S_W,S_Wx;S_Wx,S_Wx2];\n",
"C=[S_Wy;S_Wxy];\n",
"printf('x\t   y\t   W\t   Wx\t   Wx^2\t   Wy\t   Wxy\t\n\n');\n",
"for i=1:4\n",
"    printf('%d\t   %d\t   %d\t    %d\t   %d\t   %d\t    %d\t\n',x(i),y(i),W(i),Wx(i),Wx2(i),Wy(i),Wxy(i))\n",
"end\n",
"printf('-------------------------------------------------------------------------------------------------------------------------------------\n\n');\n",
"printf('%d\t   %d\t   %d\t   %d\t   %d\t   %d\t    %d\t\n',S_x,S_y,S_W,S_Wx,S_Wx2,S_Wy,S_Wxy);\n",
"X=A^-1*C;\n",
"printf('\n\nthe equation is y=%f+%fx',X(1,1),X(2,1))\n",
"printf('\n\nthe value of y(5) is %f',X(1,1)+X(2,1)*5)"
   ]
   }
,
{
		   "cell_type": "markdown",
		   "metadata": {},
		   "source": [
			"## Example 4.11: least_square_for_quadratic_equations.sce"
		   ]
		  },
  {
"cell_type": "code",
	   "execution_count": null,
	   "metadata": {
	    "collapsed": true
	   },
	   "outputs": [],
"source": [
"//least square for quadratic equations \n",
"//example 4.11\n",
"//page 141\n",
"clc;clear;close;\n",
"I1=integrate('1','x',0,%pi/2);\n",
"I2=integrate('x','x',0,%pi/2);\n",
"I3=integrate('x^2','x',0,%pi/2);\n",
"I4=integrate('x^3','x',0,%pi/2);\n",
"I5=integrate('x^4','x',0,%pi/2);\n",
"I6=integrate('sin(x)','x',0,%pi/2);\n",
"I7=integrate('x*sin(x)','x',0,%pi/2);\n",
"I8=integrate('x^2*sin(x)','x',0,%pi/2);\n",
"printf('the equations are:\n\n');\n",
"A=[I1,I2,I3;I2,I3,I4;I3,I4,I5];\n",
"C=[I6;I7;I8];\n",
"X=A^-1*C;\n",
"printf(' the quadratic equation is of the form %f+%fx+%fx^2',X(1,1),X(2,1),X(3,1));\n",
"//value of sin pi/4\n",
"y=X(1,1)+X(2,1)*%pi/4+X(3,1)*(%pi/4)^2\n",
"printf( '\n\nsin(pi/4)=%0.9f',y)\n",
"printf('\n\nerror in the preecing solution %0.9f',abs(y-sin(%pi/4)))"
   ]
   }
,
{
		   "cell_type": "markdown",
		   "metadata": {},
		   "source": [
			"## Example 4.1: least_square_curve_fitting_procedure.sce"
		   ]
		  },
  {
"cell_type": "code",
	   "execution_count": null,
	   "metadata": {
	    "collapsed": true
	   },
	   "outputs": [],
"source": [
"//example 4.1\n",
"//least square curve fitting procedure\n",
"//page 128\n",
"clc;clear;close;\n",
"x=[1 2 3 4 5];\n",
"y=[0.6 2.4 3.5 4.8 5.7];\n",
"for i=1:5\n",
"    x_2(i)=x(i)^2;\n",
"    x_y(i)=x(i)*y(i);\n",
"end\n",
"S_x=0,S_y=0,S_x2=0,S_xy=0,S1=0,S2=0;\n",
"for i=1:5\n",
"    S_x=S_x+x(i);\n",
"    S_y=S_y+y(i);\n",
"    S_x2=S_x2+x_2(i);\n",
"    S_xy=S_xy+x_y(i);\n",
"end\n",
"a1=(5*S_xy-S_x*S_y)/(5*S_x2-S_x^2);\n",
"a0=S_y/5-a1*S_x/5;\n",
"printf('x\t     y\t      x^2\t     x*y\t       (y-avg(S_y))\t(y-a0-a1x)^2\n\n');\n",
"for i=1:5\n",
"printf('%d\t    %0.2f\t    %d\t      %0.2f\t        %0.2f\t                     %.4f\t\n',x(i),y(i),x_2(i),x_y(i),(y(i)-S_y/5)^2,(y(i)-a0-a1*x(i))^2);\n",
"S1=S1+(y(i)-S_y/5)^2;\n",
"S2=S2+(y(i)-a0-a1*x(i))^2;\n",
"end\n",
"printf('---------------------------------------------------------------------------------------------------------------------------------------------\n\n');\n",
"printf('%d\t     %0.2f\t     %d\t      %0.2f\t     %0.2f\t                  %0.4f\t\n\n',S_x,S_y,S_x2,S_xy,S1,S2);\n",
"cc=sqrt((S1-S2)/S1);//correlation coefficient\n",
"printf('the correlation coefficient is:%0.4f',cc);"
   ]
   }
,
{
		   "cell_type": "markdown",
		   "metadata": {},
		   "source": [
			"## Example 4.20: cooley_Tukey_method.sce"
		   ]
		  },
  {
"cell_type": "code",
	   "execution_count": null,
	   "metadata": {
	    "collapsed": true
	   },
	   "outputs": [],
"source": [
"//cooley-Tukey method\n",
"//example 4.20\n",
"//page 168\n",
"clc;clear;close;\n",
"f=[1,2,3,4,4,3,2,1];\n",
"F1(1,1)=f(1)+f(5);\n",
"F1(1,2)=f(1)-f(5);\n",
"F1(2,1)=f(3)+f(7);\n",
"F1(2,2)=f(3)-f(7);\n",
"F1(3,1)=f(2)+f(6);\n",
"F1(3,2)=f(2)-f(6);\n",
"F1(4,1)=f(4)+f(8);\n",
"F1(4,2)=f(4)-f(8);\n",
"printf('the solutions after first key equation\n\n')\n",
"disp(F1);\n",
"F2(1,1)=F1(1,1)+F1(2,1);\n",
"F2(1,2)=F1(1,1)+F1(2,1);\n",
"F2(2,1)=F1(1,2)+%i*F1(3,2);\n",
"F2(2,2)=F1(3,2)-%i*F1(4,2);\n",
"F2(3,1)=F1(1,1)-F1(2,1);\n",
"F2(3,2)=F1(1,1)-F1(2,1);\n",
"F2(4,1)=F1(1,2)+%i*F1(2,2);\n",
"F2(4,2)=F1(3,2)-%i*F1(1,2);\n",
"printf('the solutions after second key equation\n\n')\n",
"disp(F2);\n",
"\n",
"W=[1,(1-%i)/sqrt(2),-%i,-(1+%i)/sqrt(2),-1,-(1-%i)/sqrt(2),%i,(1+%i)/sqrt(2)];\n",
"F3(1)=F2(1,1)+F2(1,2);\n",
"F3(2)=F2(2,1)+W(2)*F2(2,2);\n",
"F3(3)=F2(3,1)+F2(3,2);\n",
"F3(4)=F2(4,1)+W(4)*F2(4,2);\n",
"F3(5)=F2(3,1)+F2(3,2);\n",
"F3(6)=F2(2,1)+W(6)*F2(2,2);\n",
"F3(7)=F2(3,1)+F2(3,2);\n",
"F3(8)=F2(4,1)+W(8)*F2(4,2);\n",
"printf('the solutions after third key equation\n\n')\n",
"disp(F3);\n",
"\n",
"\n",
"\n",
""
   ]
   }
,
{
		   "cell_type": "markdown",
		   "metadata": {},
		   "source": [
			"## Example 4.2: least_square_curve_fitting_procedure.sce"
		   ]
		  },
  {
"cell_type": "code",
	   "execution_count": null,
	   "metadata": {
	    "collapsed": true
	   },
	   "outputs": [],
"source": [
"//example 4.2\n",
"//least square curve fitting procedure\n",
"//page 129\n",
"clc;clear;close;\n",
"x=[0 2 5 7];\n",
"y=[-1 5 12 20];\n",
"for i=1:4\n",
"    x_2(i)=x(i)^2;\n",
"    xy(i)=x(i)*y(i);\n",
"end\n",
"printf('x\t     y\t     x^2\t     xy\t  \n\n');\n",
"S_x=0,S_y=0,S_x2=0,S_xy=0;\n",
"for i=1:4\n",
"printf('%d\t    %d\t    %d\t       %d\t\n',x(i),y(i),x_2(i),xy(i));\n",
"S_x=S_x+x(i);\n",
"S_y=S_y+y(i);\n",
"S_x2=S_x2+x_2(i);\n",
"S_xy=S_xy+xy(i);\n",
"end\n",
"printf('%d\t      %d\t    %d\t      %d\t\n',S_x,S_y,S_x2,S_xy);\n",
"A=[4,S_x;S_x,S_x2];\n",
"B=[S_y;S_xy];\n",
"C=(A)^-1*B;\n",
"printf('Best straight line fit Y=%.4f+x(%.4f)',C(1,1),C(2,1));"
   ]
   }
,
{
		   "cell_type": "markdown",
		   "metadata": {},
		   "source": [
			"## Example 4.3: least_square_curve_fitting_procedure.sce"
		   ]
		  },
  {
"cell_type": "code",
	   "execution_count": null,
	   "metadata": {
	    "collapsed": true
	   },
	   "outputs": [],
"source": [
"//example 4.3\n",
"//least square curve fitting procedure\n",
"//page 130\n",
"clc;clear;close;\n",
"x=[0 1 2 4 6];\n",
"y=[0 1 3 2 8];\n",
"z=[2 4 3 16 8];\n",
"for i=1:5\n",
"    x2(i)=x(i)^2;\n",
"    y2(i)=y(i)^2;\n",
"    z2(i)=z(i)^2;\n",
"    xy(i)=x(i)*y(i);\n",
"    zx(i)=z(i)*x(i);\n",
"    yz(i)=y(i)*z(i);\n",
"end\n",
"S_x=0,S_y=0,S_z=0,S_x2=0,S_y2=0,S_z2=0,S_xy=0,S_zx=0,S_yz=0;\n",
"for i=1:5\n",
"    S_x=S_x+x(i);\n",
"    S_y=S_y+y(i);\n",
"    S_z=S_z+z(i);\n",
"    S_x2=S_x2+x2(i);\n",
"    S_y2=S_y2+y2(i);\n",
"    S_z2=S_z2+z2(i);\n",
"    S_xy=S_xy+xy(i);\n",
"    S_zx=S_zx+zx(i);\n",
"    S_yz=S_yz+yz(i);\n",
"end\n",
"printf('x\t       y\t      z\t      x^2\t      xy\t     zx\t     y^2\t    yz\n\n');\n",
"for i=1:5\n",
"    printf('%d\t    %d\t    %d\t    %d\t    %d\t    %d\t    %d\t     %d\n',x(i),y(i),z(i),x2(i),xy(i),zx(i),y2(i),yz(i));\n",
"    end\n",
"printf('----------------------------------------------------------------------------------------------------------------------------------------------------------------------\n\n');\n",
"printf('%d\t    %d\t     %d\t     %d\t    %d\t    %d\t     %d\t    %d\n\n',S_x,S_y,S_z,S_x2,S_xy,S_zx,S_y2,S_yz);\n",
"A=[5,13,14;13,57,63;14,63,78];\n",
"B=[33;122;109];\n",
"C=A^-1*B;\n",
"printf('solution of above equation is:a=%d b=%d c=%d',C(1,1),C(2,1),C(3,1));"
   ]
   }
,
{
		   "cell_type": "markdown",
		   "metadata": {},
		   "source": [
			"## Example 4.4: linearization_of_non_linear_law.sce"
		   ]
		  },
  {
"cell_type": "code",
	   "execution_count": null,
	   "metadata": {
	    "collapsed": true
	   },
	   "outputs": [],
"source": [
"//example 4.4\n",
"//linearization of non-linear law\n",
"//page 131\n",
"clc;clear;close;\n",
"x=[1 3 5 7 9];\n",
"y=[2.473 6.722 18.274 49.673 135.026];\n",
"for i=1:5\n",
"    Y(i)=log(y(i));\n",
"    x2(i)=x(i)^2;\n",
"    xy(i)=x(i)*Y(i);\n",
"end\n",
"S_x=0,S_y=0,S_x2=0,S_xy=0;\n",
"printf('X\t    Y=lny\t      X^2\t     XY\n\n');\n",
"for i=1:5\n",
"    printf('%d\t    %0.3f\t    %d\t   %0.3f\n',x(i),Y(i),x2(i),xy(i));\n",
"    S_x=S_x+x(i);\n",
"    S_y=S_y+Y(i);\n",
"    S_x2=S_x2+x2(i);\n",
"    S_xy=S_xy+xy(i);\n",
"end\n",
"printf('----------------------------------------------------------------------------------------------------------------------------\n\n')\n",
"printf('%d\t   %0.3f\t    %d\t    %0.3f\t\n\n',S_x,S_y,S_x2,S_xy);\n",
"A1=((S_x/5)*S_xy-S_x*S_y)/((S_x/5)*S_x2-S_x^2);\n",
"A0=(S_y/5)-A1*(S_x/5);\n",
"a=exp(A0);\n",
"printf('y=%0.3fexp(%0.2fx)',a,A1);"
   ]
   }
,
{
		   "cell_type": "markdown",
		   "metadata": {},
		   "source": [
			"## Example 4.5: linearization_of_non_linear_law.sce"
		   ]
		  },
  {
"cell_type": "code",
	   "execution_count": null,
	   "metadata": {
	    "collapsed": true
	   },
	   "outputs": [],
"source": [
"//example 4.5\n",
"//linearization of non-linear law\n",
"//page 131\n",
"clc;clear;close;\n",
"x=[3 5 8 12];\n",
"y=[7.148 10.231 13.509 16.434];\n",
"for i=1:4\n",
"    X(i)=1/x(i);\n",
"    Y(i)=1/y(i);\n",
"    X2(i)=X(i)^2;\n",
"    XY(i)=X(i)*Y(i);\n",
"end\n",
"S_X=0,S_Y=0,S_X2=0,S_XY=0;\n",
"printf('X\t    Y\t    X^2\t    XY\t\n\n');\n",
"for i=1:4\n",
"printf('%0.3f\t    %0.3f\t   %0.3f\t   %0.3f\t\n',X(i),Y(i),X2(i),XY(i));\n",
"S_X=S_X+X(i);\n",
"S_Y=S_Y+Y(i);\n",
"S_X2=S_X2+X2(i);\n",
"S_XY=S_XY+XY(i);    \n",
"end\n",
"printf('----------------------------------------------------------------------------------------\n\n');\n",
"printf('%0.3f\t    %0.3f\t   %0.3f\t   %0.3f\n\n',S_X,S_Y,S_X2,S_XY);\n",
"A1=(4*S_XY-S_X*S_Y)/(4*S_X2-S_X^2);\n",
"Avg_X=S_X/4;\n",
"Avg_Y=S_Y/4;\n",
"A0=Avg_Y-A1*Avg_X;\n",
"printf('y=x/(%f+%f*x)',A1,A0);"
   ]
   }
,
{
		   "cell_type": "markdown",
		   "metadata": {},
		   "source": [
			"## Example 4.6: curve_fitting_by_polynomial.sce"
		   ]
		  },
  {
"cell_type": "code",
	   "execution_count": null,
	   "metadata": {
	    "collapsed": true
	   },
	   "outputs": [],
"source": [
"//example 4.6\n",
"//curve fitting by polynomial\n",
"//page 134\n",
"clc;clear;close;\n",
"x=[0 1 2];\n",
"y=[1 6 17];\n",
"for i=1:3\n",
"    x2(i)=x(i)^2;\n",
"    x3(i)=x(i)^3;\n",
"    x4(i)=x(i)^4;\n",
"    xy(i)=x(i)*y(i);\n",
"    x2y(i)=x2(i)*y(i);\n",
"end\n",
"printf('x\t   y\t   x^2\t   x^3\t   x^4\t   x*y\t   x^2*y\t\n\n');\n",
"S_x=0,S_y=0,S_x2=0,S_x3=0,S_x4=0,S_xy=0,S_x2y=0;\n",
"for i=1:3\n",
"    printf('%d\t   %d\t   %d\t   %d\t   %d\t   %d\t   %d\n',x(i),y(i),x2(i),x3(i),x4(i),xy(i),x2y(i));\n",
"    S_x=S_x+x(i);\n",
"    S_y=S_y+y(i);\n",
"    S_x2=S_x2+x2(i);\n",
"    S_x3=S_x3+x3(i);\n",
"    S_x4=S_x4+x4(i);\n",
"    S_xy=S_xy+xy(i);\n",
"    S_x2y=S_x2y+x2y(i);\n",
"end\n",
"printf('--------------------------------------------------------------------------------------------------------------------------------\n\n');\n",
"printf('%d\t   %d\t   %d\t   %d\t   %d\t   %d\t   %d\n',S_x,S_y,S_x2,S_x3,S_x4,S_xy,S_x2y);\n",
"A=[3,S_x,S_x2;S_x,S_x2,S_x3;S_x2,S_x3,S_x4];\n",
"B=[S_y;S_xy;S_x2y];\n",
"C=A^-1*B;\n",
"printf('a=%d  b=%d  c=%d \n\n',C(1,1),C(2,1),C(3,1));\n",
"printf('exact polynomial :%d + %d*x +%d*x^2',C(1,1),C(2,1),C(3,1))"
   ]
   }
,
{
		   "cell_type": "markdown",
		   "metadata": {},
		   "source": [
			"## Example 4.7: curve_fitting_by_polynomial.sce"
		   ]
		  },
  {
"cell_type": "code",
	   "execution_count": null,
	   "metadata": {
	    "collapsed": true
	   },
	   "outputs": [],
"source": [
"//example 4.7\n",
"//curve fitting by polynomial\n",
"//page 134\n",
"clc;clear;close;\n",
"x=[1 3 4 6];\n",
"y=[0.63 2.05 4.08 10.78];\n",
"for i=1:4\n",
"    x2(i)=x(i)^2;\n",
"    x3(i)=x(i)^3;\n",
"    x4(i)=x(i)^4;\n",
"    xy(i)=x(i)*y(i);\n",
"    x2y(i)=x2(i)*y(i);\n",
"end\n",
"printf('x\t   y\t   x^2\t   x^3\t   x^4\t   x*y\t   x^2*y\t\n\n');\n",
"S_x=0,S_y=0,S_x2=0,S_x3=0,S_x4=0,S_xy=0,S_x2y=0;\n",
"for i=1:4\n",
"    printf('%d\t   %0.3f\t   %d\t   %d\t   %d\t   %0.3f\t   %d\n',x(i),y(i),x2(i),x3(i),x4(i),xy(i),x2y(i));\n",
"    S_x=S_x+x(i);\n",
"    S_y=S_y+y(i);\n",
"    S_x2=S_x2+x2(i);\n",
"    S_x3=S_x3+x3(i);\n",
"    S_x4=S_x4+x4(i);\n",
"    S_xy=S_xy+xy(i);\n",
"    S_x2y=S_x2y+x2y(i);\n",
"end\n",
"printf('----------------------------------------------------------------------------------------------------------------------------------------\n\n');\n",
"printf('%d\t   %0.3f\t   %d\t   %d\t   %d\t   %0.3f\t   %0.3f\n',S_x,S_y,S_x2,S_x3,S_x4,S_xy,S_x2y);\n",
"A=[4,S_x,S_x2;S_x,S_x2,S_x3;S_x2,S_x3,S_x4];\n",
"B=[S_y;S_xy;S_x2y];\n",
"C=A^-1*B;\n",
"printf('a=%0.2f  b=%0.2f  c=%0.2f \n\n',C(1,1),C(2,1),C(3,1));\n",
"printf('exact polynomial :%0.2f + %0.2f*x +%0.2f*x^2',C(1,1),C(2,1),C(3,1))"
   ]
   }
,
{
		   "cell_type": "markdown",
		   "metadata": {},
		   "source": [
			"## Example 4.8: curve_fitting_by_sum_of_exponentials.sce"
		   ]
		  },
  {
"cell_type": "code",
	   "execution_count": null,
	   "metadata": {
	    "collapsed": true
	   },
	   "outputs": [],
"source": [
"//curve fitting by sum of exponentials\n",
"//example 4.8\n",
"//page 137\n",
"clc;clear;close;\n",
"x=[1 1.1 1.2 1.3 1.4 1.5 1.6 1.7 1. 1.9];\n",
"y=[1.54 1.67 1.81 1.97 2.15 2.35 2.58 2.83 3.11];\n",
"s1=y(1)+y(5)-2*y(3);\n",
"h=x(2)-x(1);\n",
"I1=0;\n",
"for i=1:3\n",
"    if i==1|i==3 then\n",
"       I1=I1+y(i)\n",
" \n",
"  elseif (modulo(i,2))==0 then\n",
"           I1=I1+4*y(i)\n",
"       \n",
"   elseif (modulo(i,2))~=0 then\n",
"          I1=I1+2*y(i) \n",
"           end\n",
"    end\n",
"    I1=(I1*h)/3\n",
"\n",
"I2=0;\n",
"for i=3:5\n",
"    if i==3|i==5 then\n",
"       I2=I2+y(i)\n",
" \n",
"  elseif (modulo(i,2))==0 then\n",
"           I2=I2+4*y(i)\n",
"       \n",
"   elseif (modulo(i,2))~=0 then\n",
"          I2=I2+2*y(i) \n",
"           end\n",
"    end\n",
"    I2=(I2*h)/3;\n",
"    for i=1:5\n",
"        y1(i)=(1.0-x(i))*y(i);\n",
"    end\n",
"    for i=5:9\n",
"        y2(i)=(1.4-x(i))*y(i);\n",
"    end\n",
"I3=0;\n",
"for i=1:3\n",
"    if i==1|i==3 then\n",
"       I3=I3+y1(i)\n",
" elseif (modulo(i,2))==0 then\n",
"           I3=I3+4*y1(i)\n",
"       elseif (modulo(i,2))~=0 then\n",
"          I3=I3+2*y1(i) \n",
"           end\n",
"    end\n",
"    I3=(I3*h)/3\n",
"I4=0;\n",
"for i=3:5\n",
"    if i==3|i==5 then\n",
"       I4=I4+y2(i)\n",
" \n",
"  elseif (modulo(i,2))==0 then\n",
"           I4=I4+4*y2(i)\n",
"       \n",
"   elseif (modulo(i,2))~=0 then\n",
"          I4=I4+2*y2(i) \n",
"           end\n",
"    end\n",
"    I4=(I4*h)/3;\n",
"    s2=y(5)+y(9)-2*y(7);\n",
"I5=0;\n",
"for i=5:7\n",
"    if i==5|i==7 then\n",
"       I5=I5+y(i)\n",
" elseif (modulo(i,2))==0 then\n",
"           I5=I5+4*y(i)\n",
"       \n",
"   elseif (modulo(i,2))~=0 then\n",
"          I5=I5+2*y(i) \n",
"           end\n",
"    end\n",
"    I5=(I5*h)/3;\n",
"I6=0;\n",
"for i=7:9\n",
"    if i==7|i==9 then\n",
"       I6=I6+y(i)\n",
" \n",
"  elseif (modulo(i,2))==0 then\n",
"           I6=I6+4*y(i)\n",
"       \n",
"   elseif (modulo(i,2))~=0 then\n",
"          I6=I6+2*y(i) \n",
"           end\n",
"    end\n",
"I6=(I6*h)/3;\n",
"I7=0;\n",
"for i=5:7\n",
"    if i==5|i==7 then\n",
"       I7=I7+y2(i)\n",
" \n",
"  elseif (modulo(i,2))==0 then\n",
"           I7=I7+4*y2(i)\n",
"       \n",
"   elseif (modulo(i,2))~=0 then\n",
"          I7=I7+2*y2(i) \n",
"           end\n",
"    end\n",
"    I7=(I7*h)/3;\n",
"I8=0;\n",
"for i=7:9\n",
"    if i==7|i==9 then\n",
"       I8=I8+y2(i)\n",
" \n",
"  elseif (modulo(i,2))==0 then\n",
"           I8=I8+4*y2(i)\n",
"       \n",
"   elseif (modulo(i,2))~=0 then\n",
"          I8=I8+2*y2(i) \n",
"           end\n",
"    end\n",
"    I8=(I8*h)/3;\n",
"A=[1.81 2.180;2.88 3.104];\n",
"C=[2.10;3.00];\n",
"Z=A^-1*C\n",
"X=poly(0,'X');\n",
"y=X^2-Z(1,1)*X-Z(2,1);\n",
"R=roots(y)\n",
"printf(' the unknown value of equation is %1.0f   %1.0f',R(1,1),R(2,1));"
   ]
   }
,
{
		   "cell_type": "markdown",
		   "metadata": {},
		   "source": [
			"## Example 4.9: linear_weighted_least_approx.sce"
		   ]
		  },
  {
"cell_type": "code",
	   "execution_count": null,
	   "metadata": {
	    "collapsed": true
	   },
	   "outputs": [],
"source": [
"//linear weighted least approx\n",
"//example 4.9\n",
"//page 139\n",
"clc;clear;close;\n",
"x=[0 2 5 7];\n",
"y=[-1 5 12 20];\n",
"w=10;//given weight 10;\n",
"W=[1 1 10 1];\n",
"for i=1:4\n",
"    Wx(i)=W(i)*x(i);\n",
"    Wx2(i)=W(i)*x(i)^2;\n",
"    Wx3(i)=W(i)*x(i)^3;\n",
"    Wy(i)=W(i)*y(i);\n",
"    Wxy(i)=W(i)*x(i)*y(i);\n",
"   end\n",
"S_x=0,S_y=0,S_W=0,S_Wx=0,S_Wx2=0,S_Wy=0,S_Wxy=0;\n",
"for i=1:4\n",
"    S_x=S_x+x(i)\n",
"    S_y=S_y+y(i)\n",
"    S_W=S_W+W(i)\n",
"    S_Wx=S_Wx+Wx(i)\n",
"    S_Wx2=S_Wx2+Wx2(i)\n",
"    S_Wy=S_Wy+Wy(i)\n",
"    S_Wxy=S_Wxy+Wxy(i)\n",
"end\n",
"A=[S_W,S_Wx;S_Wx,S_Wx2];\n",
"C=[S_Wy;S_Wxy];\n",
"printf('x\t   y\t   W\t   Wx\t   Wx^2\t   Wy\t   Wxy\t\n\n');\n",
"for i=1:4\n",
"    printf('%d\t   %d\t   %d\t    %d\t   %d\t   %d\t    %d\t\n',x(i),y(i),W(i),Wx(i),Wx2(i),Wy(i),Wxy(i))\n",
"end\n",
"printf('-------------------------------------------------------------------------------------------------------------------------------------\n\n');\n",
"printf('%d\t   %d\t   %d\t   %d\t   %d\t   %d\t    %d\t\n',S_x,S_y,S_W,S_Wx,S_Wx2,S_Wy,S_Wxy);\n",
"X=A^-1*C;\n",
"printf('\n\nthe equation is y=%f+%fx',X(1,1),X(2,1))"
   ]
   }
],
"metadata": {
		  "kernelspec": {
		   "display_name": "Scilab",
		   "language": "scilab",
		   "name": "scilab"
		  },
		  "language_info": {
		   "file_extension": ".sce",
		   "help_links": [
			{
			 "text": "MetaKernel Magics",
			 "url": "https://github.com/calysto/metakernel/blob/master/metakernel/magics/README.md"
			}
		   ],
		   "mimetype": "text/x-octave",
		   "name": "scilab",
		   "version": "0.7.1"
		  }
		 },
		 "nbformat": 4,
		 "nbformat_minor": 0
}
