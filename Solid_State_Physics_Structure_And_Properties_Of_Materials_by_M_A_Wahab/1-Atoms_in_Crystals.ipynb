{
"cells": [
 {
		   "cell_type": "markdown",
	   "metadata": {},
	   "source": [
       "# Chapter 1: Atoms in Crystals"
	   ]
	},
{
		   "cell_type": "markdown",
		   "metadata": {},
		   "source": [
			"## Example 1.17: Angle_between_two_crystal_directions.sci"
		   ]
		  },
  {
"cell_type": "code",
	   "execution_count": null,
	   "metadata": {
	    "collapsed": true
	   },
	   "outputs": [],
"source": [
"// Scilab Code Ex 1.17 Angle between two crystal directions: Page-23 (2010)\n",
"h1 = 1;k1 = 1;l1 = 1; // Miller indices of first set of planes\n",
"h2 = 0;k2 = 0;l2 = 1; // Miller indices of second set of planes\n",
"// We know that\n",
"// cos(theta) = (h1*h2+k1*k2+l1*l2)/(sqrt(h1^2+k1^2+l1^2)*sqrt(h1^2+k1^2+l1^2))\n",
"// Solving for theta\n",
"theta = acos((h1*h2+k1*k2+l1*l2)/(sqrt(h1^2+k1^2+l1^2)*sqrt(h2^2+k2^2+l2^2)));\n",
"printf('\nThe angle between [%d%d%d] and [%d%d%d] directions in the cubic crystal, in degrees, is : %4.2f', h1,k1,l1,h2,k2,l2, theta*180/%pi);\n",
"\n",
"// Result \n",
"// The angle between [111] and [001] directions in the cubic crystal, in degrees, is :\n",
"//     54.74\n",
""
   ]
   }
,
{
		   "cell_type": "markdown",
		   "metadata": {},
		   "source": [
			"## Example 1.18: Angle_between_two_directions_of_cubic_crystal.sci"
		   ]
		  },
  {
"cell_type": "code",
	   "execution_count": null,
	   "metadata": {
	    "collapsed": true
	   },
	   "outputs": [],
"source": [
"// Scilab Code Ex 1.18 Angle between two directions of cubic crystal: Page-23(2010)\n",
"h1 = 1; k1 = 1; l1 = 1 // Miller indices for first set of planes\n",
"h2 = -1; k2 = -1; l2 = 1;    // Miller indices for second set of planes\n",
"// We know that\n",
"// cos(theta) = (h1*h2+k1*k2+l1*l2)/(sqrt(h1^2+k1^2+l1^2)*sqrt(h2^2+k2^2+l2^2))\n",
"// Solving for theta\n",
"theta = acos((h1*h2+k1*k2+l1*l2)/(sqrt(h1^2+k1^2+l1^2)*sqrt(h2^2+k2^2+l2^2)));\n",
"printf('\nThe angle between [%d%d%d] and [%d %d %d] directions in the cubic crystal, in degrees, is : %4.1f', h1,k1,l1,h2,k2,l2, theta*180/%pi);\n",
"\n",
"// Result \n",
"// The angle between [111] and [-1-1 1] directions in the cubic crystal, in degrees, is :\n",
"//     109.5\n",
""
   ]
   }
,
{
		   "cell_type": "markdown",
		   "metadata": {},
		   "source": [
			"## Example 1.19: Miller_indices_of_the_crystal_plane.sci"
		   ]
		  },
  {
"cell_type": "code",
	   "execution_count": null,
	   "metadata": {
	    "collapsed": true
	   },
	   "outputs": [],
"source": [
"// Scilab Code Ex 1.19 Miller indices of the crystal plane: Page-25 (2010)\n",
"m = 2; n = 3; p = 6; // Coefficients of intercepts along three axes\n",
"m_inv = 1/m;        // Reciprocate the first coefficient\n",
"n_inv = 1/n;        // Reciprocate the second coefficient\n",
"p_inv = 1/p;        // Reciprocate the third coefficient\n",
"mul_fact = double(lcm(int32([m,n,p]))); // Find l.c.m. of m,n and p\n",
"m1 = m_inv*mul_fact;    // Clear the first fraction\n",
"m2 = n_inv*mul_fact;    // Clear the second fraction\n",
"m3 = p_inv*mul_fact;    // Clear the third fraction\n",
"printf('\nThe required miller indices are : (%d %d %d) ', m1,m2,m3);\n",
"\n",
"// Result \n",
"// The required miller indices are : (3 2 1)"
   ]
   }
,
{
		   "cell_type": "markdown",
		   "metadata": {},
		   "source": [
			"## Example 1.1: Relationship_among_cyrstal_elements.sci"
		   ]
		  },
  {
"cell_type": "code",
	   "execution_count": null,
	   "metadata": {
	    "collapsed": true
	   },
	   "outputs": [],
"source": [
"// Scilab Code Ex1.1 Relationship among cyrstal elements: Page-2 (2010)\n",
"f = 18;    // Number of faces of the quartz crystal\n",
"c = 14;    // Number of angles in the quratz crystal\n",
"// The relationship amongst the crystal elements can be \n",
"// expressed by the following formula:\n",
"//    f + c = e + 2;\n",
"// Solving for e \n",
"e = f + c - 2;\n",
"disp (e, 'The number of edges of the quartz crystal is : ');\n",
"\n",
"// Result \n",
"// The number of edges of the quartz crystal is : \n",
"//    30"
   ]
   }
,
{
		   "cell_type": "markdown",
		   "metadata": {},
		   "source": [
			"## Example 1.20: Indices_of_lattice_plane.sci"
		   ]
		  },
  {
"cell_type": "code",
	   "execution_count": null,
	   "metadata": {
	    "collapsed": true
	   },
	   "outputs": [],
"source": [
"// Scilab Code Ex 1.20 Indices of lattice plane: Page-25 (2010)\n",
"m = 10000; // Coefficient of intercept along x-axis, can be taken as some large value\n",
"n = 2;    // Coefficient of intercept along y-axis\n",
"p = 1/2;    // Coefficient of intercept along z-axis\n",
"m_inv = 1/m;    // Reciprocate m\n",
"n_inv = 1/n;    // Reciprocate n\n",
"p_inv = 1/p;    // Reciprocate p\n",
"mul_fact = n;    // multiplicative factor\n",
"m1 = m_inv*mul_fact;    // Clear the first fraction\n",
"m2 = n_inv*mul_fact;    // Clear the second fraction\n",
"m3 = p_inv*mul_fact;    // Clear the third fraction\n",
"printf('\nThe required miller indices are : %d, %d, %d ', m1,m2,m3);\n",
"\n",
"// Result \n",
"// The required miller indices are :\n",
"//     0, 1, 4"
   ]
   }
,
{
		   "cell_type": "markdown",
		   "metadata": {},
		   "source": [
			"## Example 1.21: Length_of_the_intercepts.sci"
		   ]
		  },
  {
"cell_type": "code",
	   "execution_count": null,
	   "metadata": {
	    "collapsed": true
	   },
	   "outputs": [],
"source": [
"// Scilab Code Ex 1.21 Length of the intercepts: Page-26 (2010)\n",
"a = 1.21D-10;    // Lattice parameter of the unit cell, m    \n",
"b = 1.84D-10;    // Lattice parameter of the unit cell, m\n",
"c = 1.97D-10;    // Lattice parameter of the unit cell, m\n",
"p = 1/2;    // Reciprocal of miller index on x-axis\n",
"q = 1/3;    // Reciprocal of miller index on y-axis\n",
"r = 1/(-1);    // Reciprocal of miller index on z-axis\n",
"l1 = 1.21D-10;    // Actual length of the intercept along x-axis, m\n",
"mul_fact = l1/(p*a); // Calculate multiplication factor\n",
"l2 = mul_fact*q*b;    // Actual length of the interceptalong y-axis, m\n",
"l3 = mul_fact*r*c;    // Actual length of the intercept along z-axis, m\n",
"disp(l2/1D-10, 'The length of the intercept along y-axis, in angstrom, is : ');\n",
"disp(l3/1D-10, 'The length of the intercept along z-axis, in angstrom, is : ');\n",
"\n",
"// Result \n",
"// The length of the intercept along y-axis, in angstrom, is :\n",
"//     1.2266667\n",
"// The length of the intercept along z-axis, in angstrom, is :\n",
"//   - 3.94"
   ]
   }
,
{
		   "cell_type": "markdown",
		   "metadata": {},
		   "source": [
			"## Example 1.22: Miller_indices_of_lattice_planes.sci"
		   ]
		  },
  {
"cell_type": "code",
	   "execution_count": null,
	   "metadata": {
	    "collapsed": true
	   },
	   "outputs": [],
"source": [
"// Scilab Code Ex 1.22 Miller indices of lattice plane: Page-26 (2010)\n",
"a = 4;    // Lattice parameter of the unit cell    \n",
"b = 3;    // Lattice parameter of the unit cell\n",
"c = 2;    // Lattice parameter of the unit cell\n",
"l1 = 2;    // Length of the intercept along x-axis, m\n",
"l2 = 3;    // Length of the intercept along y-axis, m\n",
"l3 = 4;    // Length of the intercept along z-axis, m\n",
"l = l1/a;    // Intercept per unit translation along x-axis\n",
"m = l2/b;    // Intercept per unit translation along y-axis\n",
"n = l3/c;    // Intercept per unit translation along z-axis\n",
"r1 = 1/l;    // Reciprocal of l\n",
"r2 = 1/m;    // Reciprocal of m\n",
"r3 = 1/n;    // Reciprocal of n\n",
"m1 = 2*r1;    // miller index along x-axis\n",
"m2 = 2*r2;    // miller index along y-axis\n",
"m3 = 2*r3;    // miller index along z-axis\n",
"printf('The required miller indices of the plane are : %d %d %d', m1, m2, m3);\n",
"\n",
"// Result \n",
"// The required miller indices of the plane are :\n",
"//     4, 2, 1\n",
""
   ]
   }
,
{
		   "cell_type": "markdown",
		   "metadata": {},
		   "source": [
			"## Example 1.23: Indices_of_tetragonal_lattice.sci"
		   ]
		  },
  {
"cell_type": "code",
	   "execution_count": null,
	   "metadata": {
	    "collapsed": true
	   },
	   "outputs": [],
"source": [
"// Scilab Code Ex 1.23 Indices of tetragonal lattice: Page-26 (2010)\n",
"// For a tetragonal system we have a = b\n",
"a = 1;    // Lattice parameter of the unit cell along x-axis    \n",
"b = 1;    // Lattice parameter of the unit cell along y-axis\n",
"c = 1.5;    // Lattice parameter of the unit cell along z-axis\n",
"l1 = 3;    // Length of the intercept along x-axis, angstrom\n",
"l2 = 4;    // Length of the intercept along y-axis, angstrom\n",
"l3 = 3;    // Length of the intercept along z-axis, angstrom\n",
"l = l1/a;    // Intercept per unit translation along x-axis\n",
"m = l2/b;    // Intercept per unit translation along y-axis\n",
"n = l3/c;    // Intercept per unit translation along z-axis\n",
"r1 = 1/l;    // Reciprocal of l\n",
"r2 = 1/m;    // Reciprocal of m\n",
"r3 = 1/n;    // Reciprocal of n\n",
"mul_fact = double(lcm(int32([l,m,n])));\n",
"m1 = mul_fact*r1;    // miller index along x-axis\n",
"m2 = mul_fact*r2;    // miller index along y-axis\n",
"m3 = mul_fact*r3;    // miller index along z-axis\n",
"printf('The required miller indices of the plane are : %d %d %d', m1, m2, m3);\n",
"\n",
"// Result \n",
"// The required miller indices of the plane are : 4 3 6\n",
""
   ]
   }
,
{
		   "cell_type": "markdown",
		   "metadata": {},
		   "source": [
			"## Example 1.24: Miller_Bravias_indices_for_Miller_indices.sci"
		   ]
		  },
  {
"cell_type": "code",
	   "execution_count": null,
	   "metadata": {
	    "collapsed": true
	   },
	   "outputs": [],
"source": [
"// Scilab Code Ex 1.24 Miller-Bravias indices for Miller indices: Page-29 (2010)\n",
"function [i] = f(h,k)\n",
"    i = -(h + k);\n",
"endfunction     \n",
"h1 = 1; k1 = 1; l1 = 0 ;  // First set of Miller indices\n",
"h2 = 1; k2 = -1; l2 = 0;    // Second set of miller indices\n",
"h3 = 3; k3 = 4; l3 = 5;    // Third set of miller indices\n",
"h4 = 3; k4 = -4; l4 = 5;    // Fourth set of miller indices\n",
"printf('\nThe Miller-Bravias indices corresponding to the miller indices (%d %d %d), = (%d %d %d %d)', h1, k1, l1, h1, k1, f(h1,k1), l1);\n",
"printf('\nThe Miller-Bravias indices corresponding to the miller indices (%d %d %d), = (%d %d %d %d)', h2, k2, l2, h2, k2, f(h2,k2), l2);\n",
"printf('\nThe Miller-Bravias indices corresponding to the miller indices (%d %d %d), = (%d %d %d %d)', h3, k3, l3, h3, k3, f(h3,k3), l3);\n",
"printf('\nThe Miller-Bravias indices corresponding to the miller indices (%d %d %d), = (%d %d %d %d)', h4, k4, l4, h4, k4, f(h4,k4), l4);\n",
"\n",
"// Result \n",
"// The Miller-Bravias indices corresponding to the miller indices (1 1 0), = (1 1 -2 0)\n",
"// The Miller-Bravias indices corresponding to the miller indices (1 -1 0), = (1 -1 0 0)\n",
"// The Miller-Bravias indices corresponding to the miller indices (3 4 5), = (3 4 -7 5)\n",
"// The Miller-Bravias indices corresponding to the miller indices (3 -4 5), = (3 -4 1 5)"
   ]
   }
,
{
		   "cell_type": "markdown",
		   "metadata": {},
		   "source": [
			"## Example 1.25: Miller_Bravias_indices_of_lattice_plane.sci"
		   ]
		  },
  {
"cell_type": "code",
	   "execution_count": null,
	   "metadata": {
	    "collapsed": true
	   },
	   "outputs": [],
"source": [
"// Scilab Code Ex 1.25 Miller Bravias indices of lattice planes: Page-30 (2010)\n",
"function [h] = fh(H,K)    // Function for calculating (2H-K)/3\n",
"    h = (2*H - K)/3;    \n",
"endfunction     \n",
"\n",
"function [k] = fk(H,K)    // Function for calculating (2K-H)/3\n",
"    k = (2*K - H)/3;\n",
"endfunction\n",
"\n",
"function [i] = f(h,k)    // Function for calculating i\n",
"    i = -(h + k);\n",
"endfunction\n",
"\n",
"function [l] = fl(L)    // Function for calculating l\n",
"    l = L;\n",
"endfunction\n",
"\n",
"H1 = 1; K1 = 0; L1 = 0 ;  // First set of Miller indices\n",
"H2 = 0; K2 = 1; L2 = 0;    // Second set of miller indices\n",
"H3 = 1; K3 = 1; L3 = 0;    // Third set of miller indices\n",
"\n",
"h1 = fh(H1,K1)*3;    // Call function fh\n",
"k1 = fk(H1,K1)*3;    // Call function fk\n",
"l1 = fl(L1)*3;       // Call function fl\n",
"i1 = f(h1,k1);       // Call function \n",
"\n",
"h2 = fh(H2,K2)*3;    // Call function fh\n",
"k2 = fk(H2,K2)*3;    // Call function fk\n",
"l2 = fl(L2)*3;        // Call function l2\n",
"i2 = f(h2,k2);        // Call function f\n",
"\n",
"h3 = fh(H3,K3)*3;    // Call function fh\n",
"k3 = fk(H3,K3)*3;    // Call function fk\n",
"l3 = fl(L3)*3;       // Call function l3\n",
"i3 = f(h3,k3);        // Call function f\n",
"\n",
"printf('\n The Miller Bravias indices of [%d%d%d] are [%d %d %d %d]', H1, K1, L1, h1, k1,i1,l1);\n",
"printf('\n The Miller Bravias indices of [%d%d%d] are [%d %d %d %d]', H2, K2, L2, h2, k2,i2,l2);\n",
"printf('\n The Miller Bravias indices of [%d%d%d] are [%d %d %d %d]', H3, K3, L3, h3, k3,i3,l3);\n",
"\n",
"// Result\n",
"// The Miller Bravias indices of [100] are [2 -1 -1 0]\n",
"// The Miller Bravias indices of [010] are [-1 2 -1 0]\n",
"// The Miller Bravias indices of [110] are [1 1 -2 0] \n",
"\n",
"\n",
"\n",
"\n",
"\n",
"\n",
""
   ]
   }
,
{
		   "cell_type": "markdown",
		   "metadata": {},
		   "source": [
			"## Example 1.26: Lattice_parameter_of_a_cubic_crystal.sci"
		   ]
		  },
  {
"cell_type": "code",
	   "execution_count": null,
	   "metadata": {
	    "collapsed": true
	   },
	   "outputs": [],
"source": [
"// Scilab Code Ex 1.26 Lattice parameter of a cubic crystal: Page-33 (2010)\n",
"h = 1; k = 1; l = 1; // Miller Indices for planes in a cubic crystal\n",
"d = 2D-10;    // Interplanar spacing, m\n",
"// For cubic crystals, the interplanar spacing is given by\n",
"// d = a/(h^2+k^2+l^2)^1/2;\n",
"// Solving for a\n",
"a = (h^2+k^2+l^2)^(1/2)*d;   // lattice parameter of cubic crystal, m \n",
"disp(a/1D-10, 'The lattice parameter of the cubic crystal, in angstrom, is :');\n",
"\n",
"// Result\n",
"// The lattice parameter of the cubic crystal, in angstrom, is :\n",
"// 3.4641016"
   ]
   }
,
{
		   "cell_type": "markdown",
		   "metadata": {},
		   "source": [
			"## Example 1.27: Interplanar_spacing_in_tetragonal_crystal.sci"
		   ]
		  },
  {
"cell_type": "code",
	   "execution_count": null,
	   "metadata": {
	    "collapsed": true
	   },
	   "outputs": [],
"source": [
"// Scilab Code Ex 1.27 Interplanar spacing in tetragonal crystal: Page-33 (2010)\n",
"h = 1; k = 0; l = 1; // Miller Indices for planes in a cubic crystal\n",
"a = 2.42D-10;   b = 2.42D-10;   c = 1.74D-10; // Lattice parameters of a tetragonal crystal, each in m\n",
"d = [(h^2+k^2)/a^2 + l^2/c^2]^(-1/2); // The interplanar spacing for cubic crystal, m  \n",
"disp(d/1D-10, 'The interplanar spacing between consecutive (101) planes : in angstrom, is :'); \n",
"\n",
"// Result\n",
"// The interplanar spacing between consecutive (101) planes : in angstrom, is :\n",
"// 1.4127338"
   ]
   }
,
{
		   "cell_type": "markdown",
		   "metadata": {},
		   "source": [
			"## Example 1.28: Interplanar_spacing_in_cubic_crystal.sci"
		   ]
		  },
  {
"cell_type": "code",
	   "execution_count": null,
	   "metadata": {
	    "collapsed": true
	   },
	   "outputs": [],
"source": [
"// Scilab Code Ex 1.28 Interplanar spacing in cubic crystal: Page-36 (2010)\n",
"h = 3; k = 2; l = 1; // Miller Indices for planes in a cubic crystal\n",
"a = 4.21D-10;    // Interatomic spacing, m\n",
"d = a/(h^2+k^2+l^2)^(1/2);  // The interplanar spacing for cubic crystals, m\n",
"disp(d/1D-10, 'The interplanar spacing between consecutive (321) planes : in angstrom, is :');\n",
"\n",
"// Result\n",
"// The interplanar spacing between consecutive (321) planes : in angstrom, is :\n",
"// 1.1251698"
   ]
   }
,
{
		   "cell_type": "markdown",
		   "metadata": {},
		   "source": [
			"## Example 1.2: Primitive_unit_cell.sci"
		   ]
		  },
  {
"cell_type": "code",
	   "execution_count": null,
	   "metadata": {
	    "collapsed": true
	   },
	   "outputs": [],
"source": [
"// Scilab Code Ex1.2 Primitive unit cell: Page-4 (2010)\n",
"a = 3, b = 3;     // Lattice translation vectors along X and Y direction, angstrom\n",
"c_bar = 3;    // Assumed translation vector along Z direction, angstrom\n",
"c = 1.5*(a+b+c_bar);    // Real translation vector along Z direction, angstrom\n",
"printf('\n%3.1f is the body centered position of a cubic unit cell defined by the primitive translation vectors a, b and c_bar.', c);\n",
"V_con = a^3;    // Volume of conventional unit cell, metre cube\n",
"V_primitive = 1/2*V_con;    // Volume of primitive unit cell, metre cube\n",
"printf('\nThe volume of conventional unit cell: %2d angstrom cube', V_con);\n",
"printf('\nThe volume of primitive unit cell: %4.1f angstrom cube', V_primitive);\n",
"\n",
"// Result \n",
"// 13.5 is the body centered position of a cubic unit cell defined by the primitive translation vectors a, b and c_bar.\n",
"// The volume of conventional unit cell: 27 angstrom cube\n",
"// The volume of primitive unit cell: 13.5 angstrom cube "
   ]
   }
,
{
		   "cell_type": "markdown",
		   "metadata": {},
		   "source": [
			"## Example 1.3: Number_of_Lattice_points_per_unit_cell.sci"
		   ]
		  },
  {
"cell_type": "code",
	   "execution_count": null,
	   "metadata": {
	    "collapsed": true
	   },
	   "outputs": [],
"source": [
"// Scilab Code Ex1.3 Number of Lattice points per unit cell Page-9 (2010)\n",
"a = 3.60D-10;    // Lattice parameter, m:\n",
"M = 63.6;        // Atomic weight, gram per mole\n",
"d = 8960D+03;    // Density of copper, g per metre cube\n",
"N = 6.023D+23;    // Avogadro's No.\n",
"// Volume of the unit cell is given by\n",
"// a^3 = M*n/(N*d)\n",
"// Solving for n\n",
"n = a^3*d*N/M; // Number of lattice points per unit cell\n",
"disp (n, 'The number of atoms per unit cell for an fcc lattice of copper crystal is :');\n",
"\n",
"// Result \n",
"// The number of atoms per unit cell for an fcc lattice of copper crystal\n",
"// 3.9588702"
   ]
   }
,
{
		   "cell_type": "markdown",
		   "metadata": {},
		   "source": [
			"## Example 1.4: Lattice_constant_of_a_unit_cell.sci"
		   ]
		  },
  {
"cell_type": "code",
	   "execution_count": null,
	   "metadata": {
	    "collapsed": true
	   },
	   "outputs": [],
"source": [
"// Scilab Code Ex 1.4 Lattice constant of a unit cell: Page-9 (2010)\n",
"M = 58.5;        // Atomic weight of NaCl, gram per mole\n",
"d = 2180D+03;    // Density of rock salt, per metre cube\n",
"n = 4;    // No. of atoms per unit cell for an fcc lattice of NaCl crystal\n",
"N = 6.023D+23;    // Avogadro's No.\n",
"// Volume of the unit cell is given by\n",
"// a^3 = M*n/(N*d)\n",
"// Solving for a\n",
"a = (n*M/(d*N))^(1/3);    // Lattice constant of unit cell of NaCl\n",
"disp (a/1D-10, 'Lattice constant for the rock salt (NaCl) crystal, in angstrom, is : ');\n",
"\n",
"// Result \n",
"// Lattice constant for the rock salt (NaCl) crystal, in angstrom, is :\n",
"// 5.6275"
   ]
   }
,
{
		   "cell_type": "markdown",
		   "metadata": {},
		   "source": [
			"## Example 1.5: Density_of_diamond.sci"
		   ]
		  },
  {
"cell_type": "code",
	   "execution_count": null,
	   "metadata": {
	    "collapsed": true
	   },
	   "outputs": [],
"source": [
"// Scilab Code Ex 1.5 Density of diamond: Page-9 (2010)\n",
"a = 3.57D-10; // Lattice parameter of a diamond crystal\n",
"M = 12D-03;     // Atomic weight of diamond, kg per mole\n",
"n1 = 8;    // No. of corner atoms in the diamond cubic unit cell\n",
"n2 = 6;    // No. of face centered atoms in the diamond cubic unit cell\n",
"n3 = 4;    // No. of atoms completely within the unit cell\n",
"n = 1/8*n1+1/2*n2+1*n3;    // No. of atoms per unit cell for an fcc lattice of NaCl crystal\n",
"N = 6.023D+23;    // Avogadro's No.\n",
"// Volume of the unit cell is given by\n",
"// a^3 = M*n/(N*d)\n",
"// Solving for d\n",
"d = M*n/(N*a^3);    // Density of diamond cubic unit cell\n",
"disp (round(d), 'Density of diamond cubic unit cell, in kg per metre cube, is : ');\n",
"\n",
"// Result \n",
"// Density of diamond cubic unit cell, in kg per metre cube, is :\n",
"// 3503"
   ]
   }
,
{
		   "cell_type": "markdown",
		   "metadata": {},
		   "source": [
			"## Example 1.6: Calculating_Unit_cell_dimensions.sci"
		   ]
		  },
  {
"cell_type": "code",
	   "execution_count": null,
	   "metadata": {
	    "collapsed": true
	   },
	   "outputs": [],
"source": [
"// Scilab Code Ex 1.6 Calculating Unit cell dimensions: Page-9 (2010)\n",
"d = 2.7D+03;    // Density of fcc structure of aluminium, kg per metre cube\n",
"M = 26.98D-03;     // Atomic weight of aluminium, kg per mole\n",
"n = 4;       // No. of atoms per unit cell of fcc lattice structure of  aluminium\n",
"N = 6.023D+23;    // Avogadro's No.\n",
"// Volume of the unit cell is given by\n",
"// a^3 = M*n/(N*d)\n",
"// Solving for a\n",
"a = ((M*n)/(N*d))^(1/3);    // Lattice parameter of alumitnium unit cell\n",
"// For an fcc cryatal lattice, \n",
"// 2^(1/2) = 4R = 2D\n",
"// Solving for D\n",
"D = (a/2^(1/2)); // Diameter of aluminium atom\n",
"disp (a/1D-10, 'The Lattice parameter of aluminium, in angstrom, is : ');\n",
"disp(D/1D-10, 'The diameter of aluminium atom, in angstrom, is : ');\n",
"\n",
"// Result \n",
"// The Lattice parameter of aluminium, in angstrom, is :\n",
"//     4.0486332\n",
"// The diameter of aluminium atom, in angstrom, is :\n",
"//     2.862816  "
   ]
   }
],
"metadata": {
		  "kernelspec": {
		   "display_name": "Scilab",
		   "language": "scilab",
		   "name": "scilab"
		  },
		  "language_info": {
		   "file_extension": ".sce",
		   "help_links": [
			{
			 "text": "MetaKernel Magics",
			 "url": "https://github.com/calysto/metakernel/blob/master/metakernel/magics/README.md"
			}
		   ],
		   "mimetype": "text/x-octave",
		   "name": "scilab",
		   "version": "0.7.1"
		  }
		 },
		 "nbformat": 4,
		 "nbformat_minor": 0
}
