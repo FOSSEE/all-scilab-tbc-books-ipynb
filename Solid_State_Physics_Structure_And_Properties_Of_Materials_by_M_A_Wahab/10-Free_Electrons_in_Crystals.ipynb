{
"cells": [
 {
		   "cell_type": "markdown",
	   "metadata": {},
	   "source": [
       "# Chapter 10: Free Electrons in Crystals"
	   ]
	},
{
		   "cell_type": "markdown",
		   "metadata": {},
		   "source": [
			"## Example 10.10: Electron_mobility_inside_conductors.sci"
		   ]
		  },
  {
"cell_type": "code",
	   "execution_count": null,
	   "metadata": {
	    "collapsed": true
	   },
	   "outputs": [],
"source": [
"// Scilab Code Ex 10.10 Electron mobility inside conductors : Page-346 (2010)\n",
"e = 1.6D-19;      // Electronic charge, in C\n",
"m = 9.1D-31;      // Eelctronic mass, in kg\n",
"res = 1.54D-8;    // Electrical resistivity of silver, in ohm metre\n",
"E = 100;          // Electric field applied along the length of the wire, V/m\n",
"n = 5.8D+28;      // Number of conduction electrons per unit volume, per metre cube\n",
"mu = 1/(res*n*e); // Mobility of electron through silver, metre square per volt-sec\n",
"vd = mu*E;        // Average drift velocity of electrons, m/s\n",
"t = mu*m/e;       // Relaxation time of the electron, s\n",
"disp(mu, 'The mobility of electron through silver, in metre square per V-s, is : ');\n",
"disp(vd, 'The average drift velocity of electrons, in m/s, is : ');\n",
"disp(t, 'c ');\n",
"// Result\n",
"// The mobility of electron through silver, in metre square per V-s, is :\n",
"//        0.0069973\n",
"// The average drift velocity of electrons, in m/s, is :\n",
"//        0.6997313\n",
"// The average drift velocity of electrons, in m/s, is :\n",
"//        3.980D-14"
   ]
   }
,
{
		   "cell_type": "markdown",
		   "metadata": {},
		   "source": [
			"## Example 10.11: Lorentz_number_calculation_of_a_solid.sci"
		   ]
		  },
  {
"cell_type": "code",
	   "execution_count": null,
	   "metadata": {
	    "collapsed": true
	   },
	   "outputs": [],
"source": [
"// Scilab Code Ex 10.11 Lorentz number calculation of a solid: Page-347 (2010\n",
"e = 1.6D-19;       // Electronic charge, in C\n",
"k = 1.38D-23;      // boltzmann constant, J/mol-K\n",
"T = 293;            // Absolute temperature of the solid\n",
"K = 390;    // Thermal conductivity of copper at 293 K, W/m-K\n",
"l = 0.5;    // Lenght of the copper wire, m\n",
"d = 0.3D-3;    // Diameter of cross-section of Cu, m\n",
"r = d/2;    // Radius of copper wire, m\n",
"R = 0.12;    // Resistance of copper wire, ohm\n",
"// As R = 1/con*l/(%pi*r^2)\n",
"// Solving for R\n",
"con = l/(%pi*r^2*R);    // Conductance of copper, per ohm per metre\n",
"// The Lorentz number is defined as the ratio of the Thermal conductivity to the \n",
"// Electrical conductivity of a solid per degree rise in temperature\n",
"Lexp = K/(con*T);    // Experimental value of Lorentz number, watt ohm per kelvin square\n",
"Lth = %pi^2/3*(k/e)^2;  // Thoeretical value of Lorentz number value, watt ohm per kelvin square\n",
"disp(Lexp,'The experimetal value of Lorentz number, in watt ohm per kelvin square, is :'); \n",
"disp(Lth,'The theoretical value of Lorentz number, in watt ohm per kelvin square, is :'); \n",
"printf('\nThe theoretical value of Lorentz number is %f times higher than the experimental one.\n', Lth/Lexp);\n",
"// Result\n",
"// The experimetal value of Lorentz number, in watt ohm per kelvin square, is :\n",
"//    2.258D-08\n",
"// The theoretical value of Lorentz number, in watt ohm per kelvin square, is :\n",
"//    2.447D-08\n",
"// The theoretical value of Lorentz number is  times higher than the experimental one.\n",
"//    1.083817"
   ]
   }
,
{
		   "cell_type": "markdown",
		   "metadata": {},
		   "source": [
			"## Example 10.12: Increase_in_electrical_resistivity_of_a_metal_with_temperature.sci"
		   ]
		  },
  {
"cell_type": "code",
	   "execution_count": null,
	   "metadata": {
	    "collapsed": true
	   },
	   "outputs": [],
"source": [
"// Scilab Code Ex 10.12 Increase in electrical resistivity of a metal with temperature: Page-349 (2010)\n",
"function [res] = final_res(T)\n",
"    alpha = 0.0001;    // Temperature co-efficient of resistance\n",
"    resi = 0;        // Initial resistivity of the nichrome which is an arbitray \n",
"    //constant and can be taken to be zero\n",
"res = resi + alpha*T;    // Final resistivity of the nichrome as function of T \n",
"endfunction                     \n",
"T1 = 300;    // Initial temperature of nichrome, K\n",
"T2 = 1000;    // Final temperature of nichrome, K\n",
"res300 = final_res(T1); // Final resistivity of the nichrome at 300 K \n",
"res1000 = final_res(T2); // Final resistivity of the nichrome at 1000 K \n",
"percent_res = (res1000 - res300)*100;    // Percentage increase in resistivity \n",
"printf('\nThe percentage increase in the resistivity of nichrome is %d percent', percent_res);\n",
"// Result\n",
"// The percentage increase in the resistivity of nichrome is 7 percent \n",
"\n",
""
   ]
   }
,
{
		   "cell_type": "markdown",
		   "metadata": {},
		   "source": [
			"## Example 10.13: Thermionic_emission_of_a_filament.sci"
		   ]
		  },
  {
"cell_type": "code",
	   "execution_count": null,
	   "metadata": {
	    "collapsed": true
	   },
	   "outputs": [],
"source": [
"// Scilab Code Ex 10.13 Thermionic emission of a filament: Page-352 (2010)\n",
"e = 1.6D-19;    // Electronic charge, C\n",
"m = 9.1D-31;    // Mass of the electron, kg\n",
"k = 1.38D-23;   // Boltzmann constant, J/mol-K\n",
"h = 6.626D-34;    // Plank's constant, Js\n",
"W = 4.5;    // Work function of tungsten filament, eV\n",
"D = 1D-4;    // Diameter of the filament, m\n",
"r = D/2;    // Radius of the filament, m\n",
"T = 2400;    // Temperature of the filament, K\n",
"l = 0.05;    // Length of the filament, m\n",
"A =  4*%pi*e*m*k^2/h^3;     // A constant expressed in ampere per metre square \n",
"                            // per kelvin square\n",
"a = 2*%pi*r*l;         // Surface area of the filament, meter square\n",
"J = A*T^2*exp(-e*W/(k*T));    // Electronic current density of the filament, \n",
"                            // ampere per metre square\n",
"I = a*J;    // Electric current due to thermionic emission, ampere\n",
"disp(I,'The electric current due to thermionic emission, in A, is : ');\n",
"// Result\n",
"// The electric current due to thermionic emission, in A, is :\n",
"//     0.0392404"
   ]
   }
,
{
		   "cell_type": "markdown",
		   "metadata": {},
		   "source": [
			"## Example 10.14: Hall_coefficient_of_sodium_based_on_free_electron_model.sci"
		   ]
		  },
  {
"cell_type": "code",
	   "execution_count": null,
	   "metadata": {
	    "collapsed": true
	   },
	   "outputs": [],
"source": [
"// Scilab Code Ex 10.14 Hall coefficient calculation of sodium based on free electron model: Page-353 (2010)\n",
"e = 1.6D-19;    // Electronic charge, C\n",
"a = 4.28D-10;    // lattice parameter (side) of the unit cell of sodium crystal, m\n",
"N = 2;        // Number of atoms per unit cell in bcc structure of sodium \n",
"n = N/a^3;    // Number of electrons per unit volume for the sodium crystal, per metre cube\n",
"RH = -1/(n*e);    // Hall coefficient of sodium, metre cube per coulomb\n",
"disp(RH,'The Hall coefficient of sodium , in metre cube per coulomb, is : ');\n",
"// Result\n",
"// The Hall coefficient of sodium , in metre cube per coulomb, is :\n",
"//     -2.450D-10"
   ]
   }
,
{
		   "cell_type": "markdown",
		   "metadata": {},
		   "source": [
			"## Example 10.1: Particle_moving_in_one_dimensional_potential_well.sci"
		   ]
		  },
  {
"cell_type": "code",
	   "execution_count": null,
	   "metadata": {
	    "collapsed": true
	   },
	   "outputs": [],
"source": [
"// Scilab Code Ex10.1 Particle Moving in One-Dimensional Potential Well: Page-328 (2010)\n",
"a = 10^-3; //Separation between the walls of the well, m\n",
"m = 10^-9; // Mass of the dust particle, kg\n",
"t = 100; // Average time for successive collisons with the wall, s\n",
"h = 6.626*10^-34; // Plank's constant, Js\n",
"v = a/t; // Velocity of the particle inside the potential well, m/s\n",
"E = 1/2*m*v^2; // Kinetic energy of the particle, J\n",
"// For one-dimensional potential well, the energy eigen value is given by\n",
"//            E = h^2*n^2/(8*m*a^2)\n",
"// Solving for n \n",
"n = sqrt((8*m*a^2*E)/h^2) // Quantum number corresponding to the energy eigen value E\n",
"disp (n, 'The quantum number described by this motion is:')\n",
"// Result \n",
"// The quantum number described by this motion is: \n",
"//    3.018D+16"
   ]
   }
,
{
		   "cell_type": "markdown",
		   "metadata": {},
		   "source": [
			"## Example 10.2: Motion_of_a_ground_state_electron_in_a_3D_potential_well.sci"
		   ]
		  },
  {
"cell_type": "code",
	   "execution_count": null,
	   "metadata": {
	    "collapsed": true
	   },
	   "outputs": [],
"source": [
"// Scilab Code Ex 10.2 Motion of a ground state Electron in a 3-D Potential Well: Page-329 (2010)\n",
"a = 0.5*10^-10;    // length of the potential box, m\n",
"h = 6.626*10^-34; // Plank's Constant, Js\n",
"m = 9.1*10^-31;  // Mass of an Electron, kg\n",
"// In 3-D, the three quantum numbers nx, ny and nz each will have value equal to 1 for lowest energy state\n",
"nx = 1;    // Quantum number corresponding to x-direction\n",
"ny = 1;    // Quantum number corresponding to y-direction \n",
"nz = 1;    // Quantum number corresponding to z-direction\n",
"EG = h^2*(nx^2+ny^2+nz^2)/(8*m*a^2); // Energy eigen value for 3-D potential, J\n",
"EeV = EG/1.6D-19; // Convert energy from joule to eV\n",
"disp (EeV, 'The lowest energy of an electron confined to move in a 3D-potential box, in eV, is : ')\n",
"//Result\n",
"// The lowest energy of an electron confined to move in a 3D-potential box, in eV, is :\n",
"// 452.30641"
   ]
   }
,
{
		   "cell_type": "markdown",
		   "metadata": {},
		   "source": [
			"## Example 10.3: Motion_of_an_electron_excited_next_to_the_ground_state_in_a_3D_potential_well.sci"
		   ]
		  },
  {
"cell_type": "code",
	   "execution_count": null,
	   "metadata": {
	    "collapsed": true
	   },
	   "outputs": [],
"source": [
"// Scilab Code Ex 10.3 Motion of an Electron excited next to the ground state in a 3-D Potential Well: Page-329 (2010)\n",
"a = 1D-10;    // length of the cubic potential box, m\n",
"h = 6.626*10^-34; // Plank's Constant, Js\n",
"m = 9.1*10^-31;  // Mass of an Electron, kg\n",
"k = 1.38D-23;    // Boltzmann Constant, J/mol-K\n",
"// In 3-D, the three quantum numbers nx, ny and nz will have values 1, 1 and 2 respectively for first excited energy state \n",
"nx = 1;    // Quantum number corresponding to x-direction\n",
"ny = 1;    // Quantum number corresponding to y-direction \n",
"nz = 2;    // Quantum number corresponding to z-direction\n",
"EE = h^2*(nx^2+ny^2+nz^2)/(8*m*a^2); // Energy eigen value for 3-D potential for first excited state, J\n",
"// As EE(next to the lowest) = 3/2 (k/T), where T is the absolute temperature\n",
"// Solving for T \n",
"T = 2/3*1/k*EE;    // Absolute temperature at which energy next to the lowest energy state = 3/2 (k/T), K\n",
"EeV = EE/1.6D-19; // Convert energy from joule to eV\n",
"disp (EeV, 'The first excited state energy of the electron confined to move in a 3D-potential box, in eV, is : ')\n",
"disp (T, 'The temperature at which the average energy becomes equal to first excited state energy, in K, is : ')\n",
"//\n",
"//Result\n",
"// The first excited state energy of the electron confined to move in a 3D-potential box, in eV, is : \n",
"//    226.15321\n",
"// The temperature at which the average energy becomes equal to first excited state energy, in K, is :\n",
"//     1748044.1"
   ]
   }
,
{
		   "cell_type": "markdown",
		   "metadata": {},
		   "source": [
			"## Example 10.4: Degeneracy_of_energy_level.sci"
		   ]
		  },
  {
"cell_type": "code",
	   "execution_count": null,
	   "metadata": {
	    "collapsed": true
	   },
	   "outputs": [],
"source": [
"// Scilab Code Ex 10.4 Degeneracy of Energy Level: Page-332 (2010)\n",
"// Function to find the factorial of a number\n",
"function[f] = fact(num)\n",
"    f = 1;\n",
"    for i = 1:1:num\n",
"        f = f*i;\n",
"    end\n",
"endfunction\n",
"\n",
"// Fucntion to determine degenerate energy states\n",
"function[degstates] = degno(a, b, c)// degno takes three arguments\n",
"    if  a == b & b == c then // check if all the values are same\n",
"        degeneracy = 3;\n",
"        degstates = fact(3)/fact(degeneracy); //calculate degenerate states\n",
"    end\n",
"    if a == b | b == c | c == a then    // check if any two values are equal\n",
"        degeneracy = 2;\n",
"        degstates = fact(3)/fact(degeneracy); //calculate degenerate states\n",
"    end\n",
"    if a ~= b & b ~= c then    // check if all the values are different\n",
"        degeneracy = 1;\n",
"        degstates = fact(3)/fact(degeneracy); //calculate degenerate states\n",
"    end\n",
"endfunction\n",
"// \n",
"clc\n",
"coef = 38;    // Coefficient of H^2/(8*m*a^2)\n",
"nx = zeros(1,5);    // Quantum number corresponding to x-direction\n",
"ny = zeros(1, 5);   // Quantum number corresponding to y-direction \n",
"nz = zeros(1,5);    // Quantum number corresponding to z-direction\n",
"deg = zeros(1,5);    // Variable to store the degeneracy of states\n",
"count = 1;    // set the counter \n",
"sum = 0;     // initialize the sum\n",
"// Look for all the possible set of values for nx, ny and ny\n",
"for i = 1:1:10  \n",
"    for j = 1:1:10\n",
"        for k = 1:1:10\n",
"      // Check for the condition and avoid repetition of set of values\n",
"            if ((i^2+j^2+k^2==coef) & (i+j+k)> sum) then \n",
"                nx(1,count)=i; // Save current i value\n",
"                ny(1,count)=j; // Save current j value\n",
"                nz(1,count)=k; // Save current k value\n",
"                deg(1,count) = degno(i, j, k); // Save degeneracy for given set of values\n",
"                count = count + 1; // Increment the counter\n",
"                sum = i + j + k; // Add the three values of quantum numbers\n",
"            end\n",
"        end\n",
"    end\n",
"end\n",
"printf('\nThe %d set(s) of values of quantum number are : \n', count-1);\n",
"deg_states = 0; // Intialize the variable\n",
"for i = 1:1:count-1\n",
"    printf('\nnx = %d, ny = %d, nz = %d\n', nx(1,i), ny(1,i), nz(1,i));\n",
"    deg_states = deg_states + deg(1,i); // Accumulate the degeneracy\n",
"end\n",
"    printf('\nThe given energy level is %d-fold degenerate.', deg_states);    \n",
"//Result\n",
"// The 2 set(s) of values of quantum number are :\n",
"//         nx = 1, ny = 1, nz = 6\n",
"//         nx = 2, ny = 3, nz = 5\n",
"// The energy level is 9-fold degenerate"
   ]
   }
,
{
		   "cell_type": "markdown",
		   "metadata": {},
		   "source": [
			"## Example 10.5: Fermi_energy_of_zinc_at_absolute_zero.sci"
		   ]
		  },
  {
"cell_type": "code",
	   "execution_count": null,
	   "metadata": {
	    "collapsed": true
	   },
	   "outputs": [],
"source": [
"//Scilab Code Ex 10.5 Fermi energy of zinc at absolute zero: Page-335 (2010)\n",
"d = 7.13D+3;   // Density of Zn, in kg per m cube\n",
"M = 65.4D-3;      // Atomic weight of Zn, kg/mol\n",
"me = 9.1D-31;  // Mass of an electron, kg\n",
"meff = 0.85*me;  // Effective mass of the electron in zinc, kg\n",
"v = 2;    // valency of divalent (Zn) metal\n",
"N = 6.023D+23;    // Avogadro's Number\n",
"h = 6.626D-34;    //Plank's constant, in Js\n",
"n = v*d*N/M;    // Number of electrons per unit volume\n",
"Ef = h^2/(2*meff)*(3*n/(8*%pi))^(2/3);  //Fermi energy in zinc at absolute zero, J\n",
"EfeV = Ef/1.6D-19;    // Fermi energy in eV\n",
"Ebar = (3/5)*EfeV;    // Average energy of an electron at 0K, eV\n",
"disp(EfeV,'The fermi energy in zinc at absolute zero,in eV, is : ');\n",
"disp(Ebar,'The average energy of an electron at 0K,in eV, is : ');\n",
"//Result\n",
"// The fermi energy in zinc at absolute zero,in eV, is :\n",
"// 11.110065\n",
"// The average energy of an electron at 0K,in eV, is :\n",
"// 6.6660389"
   ]
   }
,
{
		   "cell_type": "markdown",
		   "metadata": {},
		   "source": [
			"## Example 10.6: Electron_probability_above_Fermi_energy.sci"
		   ]
		  },
  {
"cell_type": "code",
	   "execution_count": null,
	   "metadata": {
	    "collapsed": true
	   },
	   "outputs": [],
"source": [
"// Scilab Code Ex 10.6 Electron probability above Fermi energy: Page-336 (2010)\n",
"k = 1.38D-23; // Boltzmann constant, in J/mol-K\n",
"FD = 0.10;    // Fermi-Dirac distribution probability for electrons\n",
"Efermi = 5.5;    // Fermi Energy of silver, in eV\n",
"E = Efermi + 0.01*Efermi;    // Allowed energy for electrons\n",
"dE = E - Efermi;    //Deviation of allowed energy from Fermi energy, in eV\n",
"DEeV = dE*1.6D-19; //Convert into joule\n",
"// The Fermi-Dirac distribution function as at any temperature T is given by\n",
"//            F(E) = FD = 1/(exp((E-Efermi)/kT)+1\n",
"// Solving for T \n",
"T = DEeV/(k*log(1/FD-1)); // Absolute temperature at which result follows, in K\n",
"disp(DEeV, dE, E);\n",
"disp(T, 'The temperature at which the given probability is expected, in K, is :');\n",
"//Result\n",
"//  The temperature at which the given probability is expected, in K, is :\n",
"//  290.2212"
   ]
   }
,
{
		   "cell_type": "markdown",
		   "metadata": {},
		   "source": [
			"## Example 10.7: The_electroic_specific_heat_of_Cu.sci"
		   ]
		  },
  {
"cell_type": "code",
	   "execution_count": null,
	   "metadata": {
	    "collapsed": true
	   },
	   "outputs": [],
"source": [
"// Scilab Code Ex 10.7 The Electroic Specific Heat of Cu: Page-341 (2010)\n",
"k = 1.38D-23;    //Boltzmann constant, in J/mol-K\n",
"N = 6.023D+23;    // Avogadro's Number\n",
"Efermi = 7.05;       // Fermi energy of copper, in eV\n",
"EFeV = Efermi*1.6D-19; // Fermi energy conversion, in J\n",
"T1 = 4;    //Lower value of temperature, in K\n",
"T2 = 300;    //Upper value of temperature, in K\n",
"Ce4 = (%pi^2*k^2*T1)/(2*EFeV)*N;    // Electronic specific heat at 4K, J/mol/K\n",
"Ce100 = (%pi^2*k^2*T2)/(2*EFeV)*N;    // Electronic specific heat at 100K, J/mol/K\n",
"disp(Ce4, 'The Electronic specific heat at 4K, in J/mol/K is :');\n",
"disp(Ce100, 'The Electronic specific heat at 100K, in J/mol/K is :');\n",
"//Result\n",
"// The Electronic specific heat at 4K, in J/mol/K is :\n",
"// 0.0020072\n",
"// The Electronic specific heat at 100K, in J/mol/K is :\n",
"// 0.1505404"
   ]
   }
,
{
		   "cell_type": "markdown",
		   "metadata": {},
		   "source": [
			"## Example 10.8: Electrical_resitivity_of_sodium_metal.sci"
		   ]
		  },
  {
"cell_type": "code",
	   "execution_count": null,
	   "metadata": {
	    "collapsed": true
	   },
	   "outputs": [],
"source": [
"// Scilab Code Ex 10.10 Electron mobility inside conductors : Page-346 (2010)\n",
"e = 1.6D-19;      // Electronic charge, in C\n",
"m = 9.1D-31;      // Eelctronic mass, in kg\n",
"res = 1.54D-8;    // Electrical resistivity of silver, in ohm metre\n",
"E = 100;          // Electric field applied along the length of the wire, V/m\n",
"n = 5.8D+28;      // Number of conduction electrons per unit volume, per metre cube\n",
"mu = 1/(res*n*e); // Mobility of electron through silver, metre square per volt-sec\n",
"vd = mu*E;        // Average drift velocity of electrons, m/s\n",
"t = mu*m/e;       // Relaxation time of the electron, s\n",
"disp(mu, 'The mobility of electron through silver, in metre square per V-s, is : ');\n",
"disp(vd, 'The average drift velocity of electrons, in m/s, is : ');\n",
"disp(t, 'c ');\n",
"// Result\n",
"// The mobility of electron through silver, in metre square per V-s, is :\n",
"//        0.0069973\n",
"// The average drift velocity of electrons, in m/s, is :\n",
"//        0.6997313\n",
"// The average drift velocity of electrons, in m/s, is :\n",
"//        3.980D-14"
   ]
   }
,
{
		   "cell_type": "markdown",
		   "metadata": {},
		   "source": [
			"## Example 10.9: Electrical_conductivity_of_Cu.sci"
		   ]
		  },
  {
"cell_type": "code",
	   "execution_count": null,
	   "metadata": {
	    "collapsed": true
	   },
	   "outputs": [],
"source": [
"// Scilab Code Ex 10.9 Electrical Conductivity of Cu: Page-345 (2010)\n",
"e = 1.6D-19;    // Electronic charge,  C\n",
"N = 6.023D+23;    // Avogardro's number\n",
"d = 8920;       // Density of Copper, kg per metre cube\n",
"A = 63.5;        // Atomic weight of copper,  g/mole\n",
"I = 10;        // Current through uniform copper wir,  A\n",
"D = 16D-4;        //Diameter of circular cross-section of copper wire, m\n",
"R = D/2;           // Radius of circular cross-section of copper wire, m\n",
"n = d*N/63.5*1D+3;    // The number of electrons per unit volume in copper, per metre cube\n",
"J = I/(%pi*R^2);    // Current density of electrons in copper, ampere per metre square\n",
"vd = J/(n*e);        // Drift velocity of electrons in copper, metre per second\n",
"disp(J,'The current density of electrons in copper, in ampere per metre square, is : ');\n",
"disp(vd,'The drift velocity of electrons in copper, in metre per second, is : ');\n",
"//Result\n",
"//The current density of electrons in copper, in ampere per metre square, is :\n",
"//        4973592\n",
"// The drift velocity of electrons in copper, in metre per second, is :\n",
"//         0.0003674\n",
" "
   ]
   }
],
"metadata": {
		  "kernelspec": {
		   "display_name": "Scilab",
		   "language": "scilab",
		   "name": "scilab"
		  },
		  "language_info": {
		   "file_extension": ".sce",
		   "help_links": [
			{
			 "text": "MetaKernel Magics",
			 "url": "https://github.com/calysto/metakernel/blob/master/metakernel/magics/README.md"
			}
		   ],
		   "mimetype": "text/x-octave",
		   "name": "scilab",
		   "version": "0.7.1"
		  }
		 },
		 "nbformat": 4,
		 "nbformat_minor": 0
}
