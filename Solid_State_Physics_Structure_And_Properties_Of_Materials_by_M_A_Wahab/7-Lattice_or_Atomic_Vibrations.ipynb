{
"cells": [
 {
		   "cell_type": "markdown",
	   "metadata": {},
	   "source": [
       "# Chapter 7: Lattice or Atomic Vibrations"
	   ]
	},
{
		   "cell_type": "markdown",
		   "metadata": {},
		   "source": [
			"## Example 7.1: Cut_off_frequency_of_the_linear_lattice_of_a_solid.sci"
		   ]
		  },
  {
"cell_type": "code",
	   "execution_count": null,
	   "metadata": {
	    "collapsed": true
	   },
	   "outputs": [],
"source": [
"// Scilab Code Ex7.1 Cut-off frequency of the linear lattice of a solid: Page-238 (2010)\n",
"v = 3e+03;    // Velocity of sound in the solid, m/s\n",
"a = 3e-010;    // Interatomic distance, m\n",
"// As cut-off frequency occurs at k = %pi/a and k = 2*%pi/lambda, this gives\n",
"lambda = 2*a;    // Cut-off wavelength for the solid, m\n",
"f = v/lambda;    // Cut-off frequency (v = f*lambda) for the linear lattice, hertz\n",
"printf('\nThe cut-off frequency for the linear lattice of a solid = %1.0e Hz', f);\n",
"// Result \n",
"// The cut-off frequency for the linear lattice of a solid = 5e+012 Hz "
   ]
   }
,
{
		   "cell_type": "markdown",
		   "metadata": {},
		   "source": [
			"## Example 7.2: Comparison_of_frequency_of_waves_in_a_monoatomic_and_diatomic_linear_systems.sci"
		   ]
		  },
  {
"cell_type": "code",
	   "execution_count": null,
	   "metadata": {
	    "collapsed": true
	   },
	   "outputs": [],
"source": [
"// Scilab Code Ex7.2 Comparison of frequency of waves in a monoatomic and diatomic linear systems: Page-238 (2010)\n",
"a = 2.5e-010;    // Interatomic spacing between two identical atoms, m\n",
"v0 = 1e+03;    // Velocity of sound in the solid, m/s\n",
"lambda = 10e-010;    // Wavelength of the sound wave, m\n",
"omega = v_0*2*%pi/lambda;    // Angular frequency of sound wave in a monoatomic lattice, rad per sec\n",
"printf('\nThe frequency of sound waves in a monoatomic lattice = %4.2e rad/sec', omega);\n",
"// For acoustic waves in a diatomic lattice (M = m), the angular frequency, omega = 0 at k = 0 and\n",
"// omega = (2*K/m)^(1/2)    --- (i)    at k = %pi/(2*a)\n",
"// As v0 = a*(2*K/m)^(1/2)    --- (ii)\n",
"// From (i) and (ii), we have\n",
"omega_min = 0;    // Angular frequency of acoustic waves at k = 0, rad per sec\n",
"omega_max = v0/a;    // Angular frequency of acoustic waves at k = %pi/(2*a), rad per sec\n",
"printf('\n\nThe frequency of acoustic waves wave in a diatomic lattice :\n %d rad/sec for k = 0 \n %1.0e rad/sec for k = pi/(2*a)', omega_min, omega_max);\n",
"// For optical waves in a diatomic lattice (M = m), the angular frequency \n",
"// omega = sqrt(2)*(2*K/m)^(1/2)    --- (iii)    at k = 0\n",
"// As v0 = a*(2*K/m)^(1/2)    --- (iv)\n",
"// From (iii) and (iv), we have\n",
"omega_max = sqrt(2)*v_0/a;    // Angular frequency of optical waves at k = 0, rad per sec\n",
"// For optical waves in a diatomic lattice (M = m), the angular frequency \n",
"// omega = (2*K/m)^(1/2)    --- (iii)    at k = %pi/(2*a)\n",
"// As v0 = a*(2*K/m)^(1/2)    --- (iv)\n",
"// From (iii) and (iv), we have\n",
"omega_min = v_0/a;    // Angular frequency of optical waves at k = %pi/(2*a), rad per sec\n",
"printf('\n\nThe frequency of optical swaves wave in a diatomic lattice :\n %4.2e rad/sec for k = 0 \n %1.0e rad/sec for k = pi/(2*a)', omega_max, omega_min);\n",
"// Result \n",
"// The frequency of sound waves in a monoatomic lattice = 6.28e+012 rad/sec\n",
"\n",
"// The frequency of acoustic waves wave in a diatomic lattice :\n",
"// 0 rad/sec for k = 0 \n",
"// 4e+012 rad/sec for k = pi/(2*a)\n",
"\n",
"// The frequency of optical swaves wave in a diatomic lattice :\n",
"// 5.66e+012 rad/sec for k = 0 \n",
"// 4e+012 rad/sec for k = pi/(2*a)"
   ]
   }
,
{
		   "cell_type": "markdown",
		   "metadata": {},
		   "source": [
			"## Example 7.3: Reflection_of_electromagentic_radiation_from_a_crystal.sci"
		   ]
		  },
  {
"cell_type": "code",
	   "execution_count": null,
	   "metadata": {
	    "collapsed": true
	   },
	   "outputs": [],
"source": [
"// Scilab Code Ex7.3 Reflection of electromagentic radiation from a crystal: Page-239(2010)\n",
"c = 3.0e+08;    // Speed of electromagnetic wave in vacuum, m/s\n",
"a = 5.6e-010;    // Lattice parameter of NaCl crystal, m\n",
"Y = 5e+010;    // Modulus of elasticity along [100] direction of NaCl, newton per metre square\n",
"m = 23;    // Atomic weight of sodium, amu\n",
"M = 37;    // Atomic weight of chlorine, amu\n",
"amu = 1.67e-027;    // Kg equivalent of 1 amu\n",
"K = a*Y;    // Force constant of springs when the extension along [100] direction is neglected, N/m\n",
"omega_plus_max = (2*K*(1/(M*amu)+1/(m*amu)))^(1/2);    // The maximum angular frequency of the reflected electromagnetic radiation, rad per sec\n",
"lambda = 2*%pi*c/omega_plus_max;    // The wavelength at which the electromagnetic radiation is strongly reflected, m\n",
"printf('\nThe wavelength at which the electromagnetic radiation is strongly reflected by the crystal = %4.2e m', lambda);\n",
"// Result \n",
"// The wavelength at which the electromagnetic radiation is strongly reflected by the cystal = 3.88e-005 m"
   ]
   }
],
"metadata": {
		  "kernelspec": {
		   "display_name": "Scilab",
		   "language": "scilab",
		   "name": "scilab"
		  },
		  "language_info": {
		   "file_extension": ".sce",
		   "help_links": [
			{
			 "text": "MetaKernel Magics",
			 "url": "https://github.com/calysto/metakernel/blob/master/metakernel/magics/README.md"
			}
		   ],
		   "mimetype": "text/x-octave",
		   "name": "scilab",
		   "version": "0.7.1"
		  }
		 },
		 "nbformat": 4,
		 "nbformat_minor": 0
}
