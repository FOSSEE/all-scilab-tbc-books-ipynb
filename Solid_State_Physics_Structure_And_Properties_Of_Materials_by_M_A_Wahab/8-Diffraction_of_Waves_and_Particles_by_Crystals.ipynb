{
"cells": [
 {
		   "cell_type": "markdown",
	   "metadata": {},
	   "source": [
       "# Chapter 8: Diffraction of Waves and Particles by Crystals"
	   ]
	},
{
		   "cell_type": "markdown",
		   "metadata": {},
		   "source": [
			"## Example 8.10: Angle_of_reflection_by_using_wavelength_of_X_rays.sci"
		   ]
		  },
  {
"cell_type": "code",
	   "execution_count": null,
	   "metadata": {
	    "collapsed": true
	   },
	   "outputs": [],
"source": [
"// Scilab code Ex8.10: Determining angle of reflection by using wavelength of X-ray Page 261 (2010)\n",
"lambda = 0.440e-010;    // Wavelength of X-rays, m\n",
"d = 2.814e-010;    // Interplanar spacing of rocksalt crystal, m\n",
"// 2*d*sin(theta) = n*lambda    **Bragg's law, n is the order of diffraction\n",
"// Solving for theta, we have\n",
"// theta = asin(n*lambda/(2*d)) \n",
"// Declare a function for converting angle into degrees and minutes\n",
"function [d,m] = degree_minute(n)    \n",
"         d = int(n);\n",
"         m = (n-int(n))*60;\n",
"endfunction  \n",
"for n = 1:1:5    // For diffraction order from 1 to 5\n",
"    theta = asind(n*lambda/(2*d));    // Bragg's angle\n",
"    [deg, mint] = degree_minute(theta);    // Call conversion function\n",
"    printf('\nTheta%d = %2d degree(s), %2d minute(s)', n, deg, mint);\n",
"end\n",
"// Result\n",
"// Theta1 =  4 degree(s), 29 minute(s)\n",
"// Theta2 =  8 degree(s), 59 minute(s)\n",
"// Theta3 = 13 degree(s), 33 minute(s)\n",
"// Theta4 = 18 degree(s), 13 minute(s)\n",
"// Theta5 = 23 degree(s),  0 minute(s)"
   ]
   }
,
{
		   "cell_type": "markdown",
		   "metadata": {},
		   "source": [
			"## Example 8.11: Wavelength_of_diffracted_X_rays.sci"
		   ]
		  },
  {
"cell_type": "code",
	   "execution_count": null,
	   "metadata": {
	    "collapsed": true
	   },
	   "outputs": [],
"source": [
"// Scilab code Ex8.11: Determining the wavelength of diffracted X-rays Page 262 (2010)\n",
"d = 2.814e-010;    // Interplanar spacing of rocksalt crystal, m\n",
"theta = 9;    // Bragg's angle, degree\n",
"// 2*d*sin(theta) = n*lambda    **Bragg's law, n is the order of diffraction\n",
"// Solving for lambda, we have\n",
"// lambda = 2*d*sin(theta)/n;\n",
"printf('\nThe first four wavelengths of diffracted beam are:');\n",
"for n = 1:1:5    // For diffraction order from 1 to 5\n",
"    lambda = 2*d*sind(theta)/n;     // Wavelength of X-rays, m\n",
"    if lambda >= 0.2e-010 & lambda <= 1.0e-010 then\n",
"        printf('\nLambda%d = %6.4e angstrom', n, lambda/1D-10);\n",
"    end\n",
"end\n",
"// Result\n",
"// The first four wavelengths of diffracted beam are:\n",
"// Lambda1 = 8.8041e-001 angstrom\n",
"// Lambda2 = 4.4021e-001 angstrom\n",
"// Lambda3 = 2.9347e-001 angstrom\n",
"// Lambda4 = 2.2010e-001 angstrom"
   ]
   }
,
{
		   "cell_type": "markdown",
		   "metadata": {},
		   "source": [
			"## Example 8.12: Reciprocal_lattice_parameters_from_2D_direct_lattice_parameters.sci"
		   ]
		  },
  {
"cell_type": "code",
	   "execution_count": null,
	   "metadata": {
	    "collapsed": true
	   },
	   "outputs": [],
"source": [
"// Scilab code Ex8.12: Reciprocal lattice parameters from 2-D direct lattice parameters Page 277 (2010)\n",
"a = 3e-010;    // First lattice parameter of direct lattice\n",
"b = 5e-010;    // Second lattice parameter of direct lattice\n",
"theta = 60;    // Angle between two lattice vectors of the direct lattice\n",
"// if a_prime and b_prime are the lattice vectors for the reciprocal lattice, then\n",
"// a_prime*a = 2*%pi and a_prime*b = 0 \n",
"// Similarly, b_prime*b = 2*%pi and b_prime*a = 0\n",
"// Solving for a_prime and b_prime, we have\n",
"a_prime = 2*%pi/(a*cosd(90-theta)); // Lattice vector for reciprocal lattice, per metre\n",
"b_prime = 2*%pi/(b*cosd(90-theta)); // Lattice vector for reciprocal lattice, per metre\n",
"printf('\nThe reciprocal lattice vectors are:\n a_prime = %5.2f per angstrom and b_prime = %5.2f per angstrom', a_prime*1e-010, b_prime*1e-010);\n",
"// Result\n",
"// The reciprocal lattice vectors are:\n",
"// a_prime =  2.42 per angstrom and b_prime =  1.45 per angstrom"
   ]
   }
,
{
		   "cell_type": "markdown",
		   "metadata": {},
		   "source": [
			"## Example 8.13: Bragg_angle_and_the_indices_of_diffraction_of_Powder_Lines.sci"
		   ]
		  },
  {
"cell_type": "code",
	   "execution_count": null,
	   "metadata": {
	    "collapsed": true
	   },
	   "outputs": [],
"source": [
"// Scilab code Ex8.13: Bragg angle and the indices of diffraction of Powder Lines Page 285 (2010)\n",
"n = 1;    // Cosider first order diffraction\n",
"a = 6e-010;    // First lattice parameter of direct lattice, m\n",
"lambda = 1.54e-010;    // Wavelength used in diffraction of X-rays by Powder Method, m\n",
"// Declare a function for converting angle into degrees and minutes\n",
"function [d,m] = degree_minute(n)    \n",
"         d = int(n);\n",
"         m = (n-int(n))*60;\n",
"endfunction  \n",
"// Calculate the hkl and hence interpalnar spacing 'd' for three lowest powder lines\n",
"printf('\nThe Bragg angles and the indices of diffraction for the three lowest powder lines are:');\n",
"for h = 0:1:2\n",
"    for k = 0:1:2\n",
"        for l = 0:1:1\n",
"            if (modulo(h,2) == 1 & modulo(k,2) == 1 & modulo (l,2) == 1) | (modulo(h,2) == 0 & modulo(k,2) == 0 & modulo (l,2) == 0) then\n",
"                if (h <> 0) then\n",
"                    N = h^2+k^2+l^2;\n",
"                    d = a/sqrt(N);    // Interplanar spacing, metre\n",
"                    theta = asind(n*lambda/(2*d));\n",
"                    [deg, mint] = degree_minute(theta);    // Call conversion function\n",
"                    printf('\nd[%d%d%d] = %4.2e and theta[%d%d%d] = %d deg %d min', h, k, l, d, h, k, l, deg, mint);\n",
"                end\n",
"            end\n",
"         end      \n",
"    end\n",
"end    \n",
"// Result\n",
"// The Bragg angles and the indices of diffraction for the three lowest powder lines are:\n",
"// d[111] = 3.46e-010 and theta[111] = 12 deg 50 min\n",
"// d[200] = 3.00e-010 and theta[200] = 14 deg 52 min\n",
"// d[220] = 2.12e-010 and theta[220] = 21 deg 17 min"
   ]
   }
,
{
		   "cell_type": "markdown",
		   "metadata": {},
		   "source": [
			"## Example 8.14: Minimum_distance_from_the_centre_of_the_Laue_pattern.sci"
		   ]
		  },
  {
"cell_type": "code",
	   "execution_count": null,
	   "metadata": {
	    "collapsed": true
	   },
	   "outputs": [],
"source": [
"// Scilab code Ex8.14: Minimum distance from the centre of the Laue pattern  of an fcc crystal Page 289 (2010)\n",
"n = 1;    // Consider the first order diffraction\n",
"a = 4.5e-010;    // Lattice parameter for fcc lattice, m\n",
"V = 50e+03;    // Potential difference across the X-ray tube, volt\n",
"D = 5;    // Crystal to film distance, cm \n",
"h = 1, k = 1, l = 1;    // Incides for the planes of maximum spacing\n",
"lambda_min = 1.24e-06/V;    // The cut-off wavelength of X-rays, m\n",
"d_111 = a/sqrt(h^1+k^2+l^2);\n",
"theta_111 = asind(n*lambda_min/(2*d_111));\n",
"// As tan(2*theta_111) = x/D, solving for x\n",
"x = D*tand(2*theta_111);    // // Minimum distance from the centre of Laue pattern\n",
"printf('\nThe minimum distance from the centre of the Laue pattern at which reflections can occur from the planes of maximum spacing = %4.2f cm', x);\n",
"// Result\n",
"// The minimum distance from the centre of the Laue pattern at which reflections can occur from the planes of maximum spacing = 0.48 cm"
   ]
   }
,
{
		   "cell_type": "markdown",
		   "metadata": {},
		   "source": [
			"## Example 8.15: Unit_cell_height_along_the_axis_of_a_rotation_photograph.sci"
		   ]
		  },
  {
"cell_type": "code",
	   "execution_count": null,
	   "metadata": {
	    "collapsed": true
	   },
	   "outputs": [],
"source": [
"// Scilab code Ex8.15: Calculating unit cell height along the axis of a rotation photograph Page 291 (2010)\n",
"n = 1;    // Consider the first order diffraction of X-rays\n",
"S = [0.29,0.59,0.91,1.25,1.65,2.12];    // An array of heights of first six layers above(below) the zero layer, cm\n",
"R = 3;        // Radius of the camera, cm\n",
"lambda = 1.54e-08;    // Wavelength of the X-rays, cm\n",
"// For an a-axis rotation photograph, the unit cell parameter is given by\n",
"// a = n*lambda/S(n)*(R^2 + S(n)^2)^(1/2) \n",
"// Calculate 'a' for six different values of n from 1 to 6\n",
"for n = 1:1:6\n",
"    a = (n*lambda/S(n))*(R^2 + S(n)^2)^(1/2);\n",
"end \n",
"printf('\nThe unit cell height of the crystal = %2.0f angstrom', a/1D-8);\n",
"\n",
"// Result\n",
"// The unit cell height of the crystal = 16 angstrom"
   ]
   }
,
{
		   "cell_type": "markdown",
		   "metadata": {},
		   "source": [
			"## Example 8.16: Diffraction_of_thermal_neutrons_from_planes_of_Ni_crystal.sci"
		   ]
		  },
  {
"cell_type": "code",
	   "execution_count": null,
	   "metadata": {
	    "collapsed": true
	   },
	   "outputs": [],
"source": [
"// Scilab code Ex8.16: Diffraction of thermal neutrons from planes of Ni crystal  Page 294 (2010)\n",
"k = 1.38e-023;    // Boltzmann constant, J/mol/K\n",
"h = 6.626e-034;    // Planck's constant, Js\n",
"theta = 28.5;    // Bragg's angle, degree\n",
"a = 3.52e-010;    // Lattice parameter of fcc structure of nickel, m\n",
"m_n = 1.67e-027;    // Rest mass of neutron, kg\n",
"// For fcc lattice, the interplanar spacing is given by\n",
"d = a/sqrt(3);    // Interplanar spacing of Ni, m\n",
"// Bragg's equation for first order diffraction (n = 1) is\n",
"lambda = 2*d*sind(theta);    // Bragg's law, m\n",
"// From kinetic interpretaion of temperature, we have\n",
"// (1/2)*m*v^2 = (3/2)*k*T    -- (a)\n",
"// Further from de-Broglie relation\n",
"// lambda = h/(m*v)           -- (b)\n",
"// From (a) and (b), solving for T, we have\n",
"T = h^2/(3*m_n*k*lambda^2);    // Effective temperature of the neutrons, K\n",
"printf('\nThe effective temperature of neutrons = %d K', T);\n",
"// Result\n",
"// The effective temperature of neutrons = 168 K "
   ]
   }
,
{
		   "cell_type": "markdown",
		   "metadata": {},
		   "source": [
			"## Example 8.17: Diffraction_of_electrons_from_fcc_crystal_planes.sci"
		   ]
		  },
  {
"cell_type": "code",
	   "execution_count": null,
	   "metadata": {
	    "collapsed": true
	   },
	   "outputs": [],
"source": [
"// Scilab code Ex8.17: Diffraction of electrons from fcc crystal planes Page 295 (2010)\n",
"// Declare a function for converting angle into degrees and minutes\n",
"function [d,m] = degree_minute(n)    \n",
"         d = int(n);\n",
"         m = (n-int(n))*60;\n",
"endfunction\n",
"h = 6.626e-034;    // Planck's constant, Js\n",
"m = 9.1e-031;    // Rest mass of electron, kg\n",
"e = 1.602e-019;    // charge on an electron, coulomb\n",
"a = 3.5e-010;    // Lattice parameter of fcc crystal, m\n",
"V = 80;    // Accelerating potential for electrons, volt\n",
"lambda = h/sqrt(2*m*e*V);    // de-Broglie wavelength of electrons, m\n",
"d_111 = a/sqrt(3);    // Interplanar spacing for (111) planes of fcc crystal, m\n",
"// Bragg's equation for first order diffraction (n = 1) is\n",
"// lambda = 2*d_111*sind(theta_111);    // Bragg's law, m\n",
"theta_111 = asind(lambda/(2*d_111));    // Bragg's angle, degree\n",
"[deg, mint] = degree_minute(theta_111);    // Call conversion function\n",
"printf('\nThe Bragg angle for electron diffraction = %d deg %d min', deg, mint);\n",
"// Result\n",
"// The Bragg angle for electron diffraction = 19 deg 50 min"
   ]
   }
,
{
		   "cell_type": "markdown",
		   "metadata": {},
		   "source": [
			"## Example 8.1: Shortest_wavelength_and_frequency_of_X_rays_from_accelerating_potential.sci"
		   ]
		  },
  {
"cell_type": "code",
	   "execution_count": null,
	   "metadata": {
	    "collapsed": true
	   },
	   "outputs": [],
"source": [
"// Scilab Code Ex08.1 Determination of shortest wavelength and frequency of X-rays from accelerating potential Page-250 (2010)\n",
"V = 50e+03;    // Accelerating potential, volt\n",
"c = 3e+08;    // Speed of light in free space\n",
"Lambda_min = 1.24e-06/V;    // Minimum wavelength, metre\n",
"F_max = c/Lambda_min;    // Maximum frequency, Hz\n",
"printf('\nThe shortest wavelength present in X-rays = %4.2f angstrom', Lambda_min/1D-10);\n",
"printf('\nThe maximum frequency present in X-rays = %3.1e Hz', F_max);\n",
"// Result\n",
"// The shortest wavelength present in X-rays = 0.25 angstrom\n",
"// The maximum frequency present in X-rays = 1.2e+19 Hz "
   ]
   }
,
{
		   "cell_type": "markdown",
		   "metadata": {},
		   "source": [
			"## Example 8.2: Impinging_electrons_on_the_target_and_characteristics_of_X_rays.sci"
		   ]
		  },
  {
"cell_type": "code",
	   "execution_count": null,
	   "metadata": {
	    "collapsed": true
	   },
	   "outputs": [],
"source": [
"// Scilab Code Ex8.2 Calculation of impinging electrons on the target and characteristics of X-rays Page-253 (2010)\n",
"I = 2.5e-03;    // Current through X-ray tube, ampere\n",
"V = 6e+03;    // Potential across the X-ray  tube, volt\n",
"e = 1.6e-19;    // Charge on an electron, coulomb\n",
"m = 9.1e-031;    // mass of an electron, kg\n",
"t = 1;    // Transit time, second\n",
"Q = I*t;    // Total charge flowing per second through the x-ray tube, coulomb\n",
"n = Q/e;    // Number of electrons striking the target per second\n",
"// We have eV = 1/2*m*v^2 (stopping potential = maximum Kinetic energy)\n",
"// Solving for v\n",
"v = sqrt(2*e*V/m);    // speed of electrons striking the target, m/s\n",
"Lambda_min = 1.24e-06/V;    // Minimum wavelength of X-rays produced, metre\n",
"printf('\nThe number of electrons striking the target = %4.2e',n);\n",
"printf('\nThe velocity of electrons striking the target = %4.2e m/s',v);\n",
"printf('\nThe shortest wavelength present in X-rays = %4.2e m', Lambda_min);\n",
"// Result\n",
"// The number of electrons striking the target = 1.56e+016\n",
"// The velocity of electrons striking the target = 4.59e+007 m/s\n",
"// The shortest wavelength present in X-rays = 2.07e-010 m "
   ]
   }
,
{
		   "cell_type": "markdown",
		   "metadata": {},
		   "source": [
			"## Example 8.3: Wavelength_of_characteristic_X_rays.sci"
		   ]
		  },
  {
"cell_type": "code",
	   "execution_count": null,
	   "metadata": {
	    "collapsed": true
	   },
	   "outputs": [],
"source": [
"// Scilab Code Ex8.3 Calculation of wavelength of characteristic X-rays Page-253 (2010)\n",
"h = 6.626e-034;    // Planck's constant, Js\n",
"c = 3e+08;    // Speed of light in free space, m/s\n",
"e = 1.602e-019;    // Charge on an electron, coulomb\n",
"E_K = -78;    // Energy of K shell for platinum, keV\n",
"E_L = -12;    // Energy of L shell for platinum, keV\n",
"E_M = -3 ;    // Energy of M shell for platinum, keV\n",
"E_K_alpha = E_L - E_K;    // Energy of K_alpha line, keV\n",
"E_K_beta = E_M - E_K;    // Energy of K_beta line, keV\n",
"// We have E = h*f, where f = c/Lambda this implies E = h*c/lambda\n",
"// Solving for Lambda\n",
"// Lambda = h*c/E\n",
"lambda_K_alpha = h*c/(E_K_alpha*e*1e+03);    // Wavelength of K_alpha line, metre\n",
"lambda_K_beta = h*c/(E_K_beta*e*1e+03);    // Wavelength of K_beta line, metre\n",
"printf('\nThe wavelength of K_alpha line = %4.2f angstrom', lambda_K_alpha/1D-10);\n",
"printf('\nThe wavelength of K_beta line  = %4.2f angstrom', lambda_K_beta/1D-10);\n",
"// Result\n",
"// The wavelength of K_alpha line = 0.19 angstrom\n",
"// The wavelength of K_beta line  = 0.17 angstrom"
   ]
   }
,
{
		   "cell_type": "markdown",
		   "metadata": {},
		   "source": [
			"## Example 8.4: Atomic_number_of_an_unknown_element.sci"
		   ]
		  },
  {
"cell_type": "code",
	   "execution_count": null,
	   "metadata": {
	    "collapsed": true
	   },
	   "outputs": [],
"source": [
"// Scilab Code Ex8.4 Calculation of atomic number of an unknown element Page-255 (2010)\n",
"lambda_Pt = 1.321e-010;    // Wavelength of L_alpha line of Pt, m\n",
"Z_Pt = 78;    // Atomic number of platinum\n",
"b = 7.4;    // Constant\n",
"lambda_x = 4.174e-010;    // Wavelength of unknown element, m\n",
"// We have f = [a*(Z-b)]^2        (Moseley's law)\n",
"// As f_Pt = c/lambda_Pt = [a*(Z_Pt-b)]^2 \n",
"// Similarly f_x = c/lambda_x = [a*(Z_x-b)]^2 \n",
"// Dividing f_Pt by f_x and solving for x\n",
"Z_x = b + sqrt(lambda_Pt/lambda_x)*(Z_Pt-b);    // Atomic number of unknown element \n",
"printf('\nThe atomic number of unknown element = %4.1f', Z_x);\n",
"// Result\n",
"// The atomic number of unknown element = 47.1  "
   ]
   }
,
{
		   "cell_type": "markdown",
		   "metadata": {},
		   "source": [
			"## Example 8.5: Wavelength_of_copper_using_Moseley_law.sci"
		   ]
		  },
  {
"cell_type": "code",
	   "execution_count": null,
	   "metadata": {
	    "collapsed": true
	   },
	   "outputs": [],
"source": [
"// Scilab Code Ex8.5 Calculation of wavelength of copper using Moseley's law Page-256 (2010)\n",
"c = 3.0e+08;    // Speed of light, m/s\n",
"lambda_W = 210e-010;    // Wavelength of K_alpha line of W, m\n",
"Z_W = 74;    // Atomic number of tungsten\n",
"Z_Cu = 29;    // Atomic number of copper\n",
"b = 1;    // Constant for K-series\n",
"// f_W = c/lambda_W = (a*73)^2, The frequency K_alpha line for tungsten, Hz\n",
"// f_Cu = c/lambda_Cu = (a*28)^2, The frequency K_alpha line for copper, Hz\n",
"// Dividing f_W by f_Cu and solving for lambda_Cu\n",
"lambda_Cu = ((Z_W-b)/(Z_Cu-b))^2*lambda_W; // Wavelength of K_alpha line of Cu, m\n",
"printf('\nThe wavelength of K_alpha line of copper = %4.0f angstrom', lambda_Cu/1D-10);\n",
"// Result\n",
"// The wavelength of K_alpha line of copper = 1427 angstrom"
   ]
   }
,
{
		   "cell_type": "markdown",
		   "metadata": {},
		   "source": [
			"## Example 8.6: Atomic_number_from_wavelength_using_Moseley_law.sci"
		   ]
		  },
  {
"cell_type": "code",
	   "execution_count": null,
	   "metadata": {
	    "collapsed": true
	   },
	   "outputs": [],
"source": [
"// Scilab Code Ex8.6 Calculation of atomic number from wavelength using Moseley's law Page-256 (2010)\n",
"c = 3.0e+08;    // Speed of light, m/s\n",
"h = 6.626e-034;    // Planck's constant, Js\n",
"epsilon_0 = 8.85e-012;    // Absolute electrical permittivity of free space, coulomb square per newton per metre square\n",
"m = 9.1e-031;    // Mass of an electron, kg\n",
"e = 1.6e-019;    // Charge on an electron, C\n",
"lambda = 0.7185e-010;    // Wavelength of K_alpha line of unknown element\n",
"b = 1;    // Mosley's constant for K-series\n",
"n_1 = 1; n_2 = 2;    // Lower and upper energy levels\n",
"// We know that f = c/lambda = m*e^4*(Z-b)^2/(8*epsilon_0^2*h^3)*(1/n_2^2-1/n_1^2)\n",
"// This implies that lambda = (8*epsilon_0^2*c*h^3/(m*e^4*(Z-b)^2*(1/n_2^2-1/n_1^2))\n",
"// Solving for Z\n",
"Z = sqrt(8*epsilon_0^2*c*h^3/(m*e^4*lambda*(1/n_1^2-1/n_2^2)))+b; // Atomic number unknown element\n",
"printf('\nThe atomic number unknown element = %2d', Z); \n",
"// Result\n",
"// The atomic number unknown element = 42 "
   ]
   }
,
{
		   "cell_type": "markdown",
		   "metadata": {},
		   "source": [
			"## Example 8.7: Wavelengths_of_tin_and_barium_using_Moseley_law.sci"
		   ]
		  },
  {
"cell_type": "code",
	   "execution_count": null,
	   "metadata": {
	    "collapsed": true
	   },
	   "outputs": [],
"source": [
"// Scilab Code Ex8.7 Calculation of wavelengths of tin and barium using Moseley's law Page-257 (2010)\n",
"Z_Fe = 26;    // Atomic number of iron\n",
"Z_Pt = 78;    // Atomic number of platinum\n",
"Z_Sn = 50;    // Atomic number of tin\n",
"Z_Ba = 56;    // Atomic number of barium\n",
"b = 1;    // Mosley's constant for K-series\n",
"lambda_Fe = 1.93e-010;    // Wavelength of K_alpha line of Fe\n",
"lambda_Pt = 0.19e-010;    // Wavelength of K_alpha line of Pt\n",
"// From Moseley's Law,\n",
"// f = a*(Z-1)^2. This implies lambda  = C*1/(Z-1)^2\n",
"// so that lambda_Fe  = C*1/(Z_Fe-1)^2 and lambda_Sn  = C*1/(Z_Sn-1)^2\n",
"// Dividing lambda_Sn by lambda_Fe and solving for lambda_Sn\n",
"lambda_Sn = (Z_Fe-1)^2/(Z_Sn-1)^2*lambda_Fe;    // Wavelength of K_alpha line for tin, m\n",
"lambda_Ba = (Z_Pt-1)^2/(Z_Ba-1)^2*lambda_Pt;    // Wavelength of K_alpha line for barium, m\n",
"printf('\nThe wavelengths of tin and barium = %3.1f angstrom and %4.2f angstrom respectively', lambda_Sn/1D-10, lambda_Ba/1D-10); \n",
"// Result\n",
"// The wavelengths of tin and barium = 0.5 angstrom and 0.37 angstrom respectively"
   ]
   }
,
{
		   "cell_type": "markdown",
		   "metadata": {},
		   "source": [
			"## Example 8.8: Percentage_transmitted_energy_of_X_rays.sci"
		   ]
		  },
  {
"cell_type": "code",
	   "execution_count": null,
	   "metadata": {
	    "collapsed": true
	   },
	   "outputs": [],
"source": [
"// Scilab Code Ex8.8 Percentage transmitted energy of X-rays: Page 259 (2010)\n",
"mu = 139;    // Attenuation co-efficient of aluminium, per metre\n",
"x = 0.005;    // Thickness of aluminium sheet, m\n",
"// If X% is the intensity of the X-ray transmitted through the aluminium sheet then\n",
"// X% = I/I_0\n",
"// or X/100 = exp(-absorb_coeff*x)\n",
"// Solving for X\n",
"X = 100*exp(-mu*x);    // Transmitted percentage of X-rays\n",
"printf('\nThe intensity of the X-ray transmitted through the aluminium sheet = %g percent', round(X));\n",
"// Result\n",
"// The intensity of the X-ray transmitted through the aluminium sheet = 50 percent"
   ]
   }
,
{
		   "cell_type": "markdown",
		   "metadata": {},
		   "source": [
			"## Example 8.9: Thickness_of_lead_piece_by_using_two_equal_intensity_X_ray_wavelengths.sci"
		   ]
		  },
  {
"cell_type": "code",
	   "execution_count": null,
	   "metadata": {
	    "collapsed": true
	   },
	   "outputs": [],
"source": [
"// Scilab code Ex8.9 : Determination of thickness of lead piece by using two equal intensity X-ray wavelengths : Page 259 (2010)\n",
"lambda_1 = 0.064e-010;    // First wavelength of X-ray, metre\n",
"lambda_2 = 0.098e-010;    // Second wavelength of X-ray, metre\n",
"I1_ratio_I2 = 3;    // Ratio of attenuated beam intensity\n",
"mu_m1 = 0.164;    // Mass absorption coefficient for first wavelength, metre square per kg\n",
"mu_m2 = 0.35;    // Mass absorption coefficient for second wavelength, metre square per kg\n",
"d = 0.164;    // Density of the lead, kg per metre cube\n",
"mu1 = mu_m1*d;    // absorption co-efficient of the lead for first wavelength, per metre\n",
"mu2 = mu_m2*d;    // absorption co-efficient of the lead for second wavelength, per metre\n",
"x = poly(0,'x');    // Declare 'x' as the thickness variable\n",
"// Now I = exp(-ac*x) thus\n",
"// I1_ratio_I2 = exp(-ac_1*x)/exp(-ac_2*x)\n",
"// or 3 = exp(2109.24)*x this implies\n",
"// 2104.24*x = log(3) and assume\n",
"p = 2104.24*x-log(3);\n",
"printf('\nThe thickness of lead piece = %4.2e m', roots(p));\n",
"// Result\n",
"// The thickness of lead piece = 5.22e-004 m "
   ]
   }
],
"metadata": {
		  "kernelspec": {
		   "display_name": "Scilab",
		   "language": "scilab",
		   "name": "scilab"
		  },
		  "language_info": {
		   "file_extension": ".sce",
		   "help_links": [
			{
			 "text": "MetaKernel Magics",
			 "url": "https://github.com/calysto/metakernel/blob/master/metakernel/magics/README.md"
			}
		   ],
		   "mimetype": "text/x-octave",
		   "name": "scilab",
		   "version": "0.7.1"
		  }
		 },
		 "nbformat": 4,
		 "nbformat_minor": 0
}
