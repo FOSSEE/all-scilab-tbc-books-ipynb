{
"cells": [
 {
		   "cell_type": "markdown",
	   "metadata": {},
	   "source": [
       "# Chapter 2: Atomic Bonding"
	   ]
	},
{
		   "cell_type": "markdown",
		   "metadata": {},
		   "source": [
			"## Example 2.1: Molecular_stability_based_on_bond_dissociation_energy.sci"
		   ]
		  },
  {
"cell_type": "code",
	   "execution_count": null,
	   "metadata": {
	    "collapsed": true
	   },
	   "outputs": [],
"source": [
"// Scilab Code Ex2.1 Stability of molecule based on bond dissociation energy: Page-61 (2010)\n",
"e = 1.6D-19; // Electronic charge, C\n",
"N = 6.023D+23; // Avogadro's number\n",
"e0 = 8.854D-12; // Absolute Electrical permitivitty of free space, coulomb square per newton per metre square\n",
"Re = 3D-10;    // Equilibrium separation, m \n",
"IE = 502;    // First ionization energy of A, kJ/mol\n",
"EA = 335;    // Electron affinity for atom B, kJ/mol\n",
"IS = 3D-10;    // Interatomic separation between A+ and B-, m\n",
"Ue = -(e^2*N)/(4*%pi*e0*Re*1D+3); // Potential energy at equilibrium separation of A+B- molecule, kJ/mol\n",
"DE = Ue + IE - EA; // Bond dissociation energy of A+B- molecule, kJ/mol\n",
"printf('\nThe bond dissociation energy of A+B- molecule is : %d kJ/mol', DE);\n",
"if (DE < 0)\n",
"    disp('The molecule A+B- is stable..');\n",
"else \n",
"    disp('The molecule A+B- is unstable..');\n",
"end   \n",
"   \n",
"//Result \n",
"//    The bond dissociation energy of A+B- molecule, in kJ/mol, is : -294\n",
"//   The molecule A+B- is stable.."
   ]
   }
,
{
		   "cell_type": "markdown",
		   "metadata": {},
		   "source": [
			"## Example 2.2: Conversion_of_eV_into_kcal_per_mol.sci"
		   ]
		  },
  {
"cell_type": "code",
	   "execution_count": null,
	   "metadata": {
	    "collapsed": true
	   },
	   "outputs": [],
"source": [
"// Scilab Code Ex2.2 Conversion of eV into kcal/mol: Page-64 (2010)\n",
"e = 1.6D-19; // Electronic charge, C\n",
"N = 6.023D+23; // Avogadro's number\n",
"J = 4.184D+3; // Joule's mechanical equivalent of heat\n",
"V = 1;    // Potential difference, V\n",
"eV = e*V; // Energy equivalent of 1 electron-volt, J\n",
"eVpm = eV*N; // Electron-volt per mole, J/mol\n",
"Ecal = eVpm/J; // Energy equivalent of 1eV, kcal/mole\n",
"printf('\n1 eV is approximately equal to %6.3f kcal/mol', Ecal);\n",
"  \n",
"//Result \n",
"//    1 eV is approximately equal to 23.033 kcal/mol"
   ]
   }
,
{
		   "cell_type": "markdown",
		   "metadata": {},
		   "source": [
			"## Example 2.3: Potential_energy_of_the_ionic_solids.sci"
		   ]
		  },
  {
"cell_type": "code",
	   "execution_count": null,
	   "metadata": {
	    "collapsed": true
	   },
	   "outputs": [],
"source": [
"// Scilab Code Ex2.3 Potential energy of the system of Na+ and Cl- ions: Page-68 (2010)\n",
"e = 1.6D-19; // Electronic charge, C\n",
"ep_0 = 8.854D-12; // Absolute electrical permittivity of free space, coulomb square per newton per metre square\n",
"Re = 2D-10; // Equilibrium separation between Na+ and Cl- ions, m\n",
"U = -e/(4*%pi*ep_0*Re); // Potential energy of NaCl molecule at equilibrium separation, electron-volt\n",
"printf('\nThe potential energy of NaCl molecule at equilibrium separation5 is : %3.1f eV', U);\n",
"\n",
"//Result \n",
"// The potential energy of NaCl molecule at equilibrium separation5 is : -7.2 eV"
   ]
   }
,
{
		   "cell_type": "markdown",
		   "metadata": {},
		   "source": [
			"## Example 2.4: Compressibility_and_energy_of_ionic_crystal.sci"
		   ]
		  },
  {
"cell_type": "code",
	   "execution_count": null,
	   "metadata": {
	    "collapsed": true
	   },
	   "outputs": [],
"source": [
"// Scilab Code Ex2.4 Compressibility and ionic energy of NaCl crystal: Page-68 (2010)\n",
"e = 1.6D-19; // Electronic charge, C\n",
"ep_0 = 8.854D-12; // Absolute electrical permittivity of free space, coulomb square per newton per metre square\n",
"Re = 2.81D-10; // Equilibrium separation between Na+ and Cl- ions, m\n",
"A = 1.7496; // Madelung constant\n",
"n = 9; // Power of R in the repulsive term of potential energy of two particles \n",
"IP_Na = 5.14; // Ionization potential of sodium, eV\n",
"EA_Cl = 3.61; // Electron Affinity of chlorine, eV\n",
"K0 = (72*%pi*ep_0*Re^4)/((n - 1)*A*e^2); // Compressibilty of NaCl crystal, metre square newton\n",
"U = -(A*e)/(4*%pi*ep_0*Re)*(1-1/n); // Potential energy of NaCl molecule at equilibrium separation, electron-volt\n",
"U_bar = U/2; // Potential energy per ion, electron-volt\n",
"delta_E = IP_Na - EA_Cl; // Energy required to produce the ion-pair, eV\n",
"E_ion = delta_E/2; // Energy required to produce per ion, eV\n",
"C_E = U_bar + E_ion; // Cohesive energy per ion, eV\n",
"printf('\nThe compressibility of NaCl crystal is %4.2e metre square newton', K0);\n",
"printf('\nThe cohesive energy of NaCl crystal is %4.2f eV', C_E);\n",
"\n",
"// Result \n",
"// The compressibility of NaCl crystal is 3.48e-011 metre square newton\n",
"// The cohesive energy of NaCl crystal is -3.21 eV"
   ]
   }
,
{
		   "cell_type": "markdown",
		   "metadata": {},
		   "source": [
			"## Example 2.5: Potential_energy_and_dissociation_energy_of_a_diatomic_molecule.sci"
		   ]
		  },
  {
"cell_type": "code",
	   "execution_count": null,
	   "metadata": {
	    "collapsed": true
	   },
	   "outputs": [],
"source": [
"// Scilab Code Ex2.5 Potential energy and dissociation energy of a diatomic molecule: Page-69 (2010)\n",
"e = 1.6D-19; // Electronic charge, C\n",
"A = 1.44D-39; // Constant corrsponding to the attractive term in potential energy, joule metre square\n",
"B = 2.19D-115; // Constant corresponding to the repulsive term in potential energy, joule metre raised to power 10\n",
"Re = (5*B/A)^(1/8); // Equilibrium spacing of diatomic molecule, m\n",
"n = 2;  // Power of R in the attractive term of potential energy of two particles\n",
"m = 10; // Power of R in the repulsive term of potential energy of two particles\n",
"D = A/(Re^2*e)*(1-n/m);// Dissociation energy of diatomic molecule, eV\n",
"printf('\nThe equilibrium spacing of diatomic molecule is %4.2e m', Re);\n",
"printf('\nThe dissociation energy of diatomic molecule is %4.2e eV', D);\n",
"\n",
"//Result \n",
"// The equilibrium spacing of diatomic molecule is 4.08e-010 m\n",
"// The dissociation energy of diatomic molecule is 4.34e-002 eV "
   ]
   }
,
{
		   "cell_type": "markdown",
		   "metadata": {},
		   "source": [
			"## Example 2.6: Binding_force_and_critical_separation_of_a_diatomic_molecule.sci"
		   ]
		  },
  {
"cell_type": "code",
	   "execution_count": null,
	   "metadata": {
	    "collapsed": true
	   },
	   "outputs": [],
"source": [
"// Scilab Code Ex2.6 Binding force and critical separation of a diatomic molecule: Page-69 (2010)\n",
"Re = 3D-10; // Equilibrium spacing of diatomic molecule, m\n",
"e = 1.6D-19; // Electronic charge, C\n",
"D = 4*e; // Dissociation energy of diatomic molecule, eV\n",
"n = 2;  // Power of R in the attractive term of potential energy of two particles\n",
"m = 10; // Power of R in the repulsive term of potential energy of two particles\n",
"Ue = -D; // Potential energy of diatomic molecule at equilibrium separation, joule\n",
"A = -(Ue*Re^n)/(1-n/m); // Constant corrsponding to the attractive term in potential energy, joule metre square\n",
"B = A*Re^8/5; // Constant corresponding to the repulsive term in potential energy, joule metre raised to power 10\n",
"Rc = (55/3*B/A)^(1/8); // Critical separation between the nuclei, m\n",
"F_min = -2*A/Rc^3*(1-(Re/Rc)^8); // The minimum force required to dissociate the moleule, N\n",
"disp(A,'The constant A corresponding to the attractive potential energy, in joule metre square, is :');\n",
"disp(B,'The constant B corresponding to the repulsive potential energy, in joule metre raised to power 10, is :');\n",
"disp(Rc/1d-10, 'The critical separation between the nuclei, in angstrom, is : ');\n",
"disp(F_min, 'The minimum force required to dissociate the molecule, in N, is : ');\n",
"\n",
"//Result \n",
"// The constant A corresponding to the attractive potential energy, in joule metre square, is :               //   7.200D-38  \n",
"// The constant B corresponding to the repulsive potential energy, in joule metre raised to power 10, is :    //   9.44D-115  \n",
"// The critical separation between the nuclei, in angstrom, is :    \n",
"// 3.529D-10 \n",
"// The minimum force required to dissociate the molecule, in N, is :    \n",
"// -2.383D-09 "
   ]
   }
,
{
		   "cell_type": "markdown",
		   "metadata": {},
		   "source": [
			"## Example 2.7: Bond_formation_energy_of_ionic_solid.sci"
		   ]
		  },
  {
"cell_type": "code",
	   "execution_count": null,
	   "metadata": {
	    "collapsed": true
	   },
	   "outputs": [],
"source": [
"// Scilab Code Ex2.7  Bond formation Energy for K+ and Cl- ion pair: Page-70 (2010)\n",
"eps_0 = 8.854D-12; // Absolute electrical permittivity of free space, coulomb sqaure per newton per metre square\n",
"e = 1.6D-19; // Electronic charge, C\n",
"IP_K = 4.1; // Ionization potential of potassium, electron-volt\n",
"EA_Cl = 3.6; // Electron affinity of chlorine, electron-volt\n",
"delta_E = IP_K - EA_Cl; // Net energy required to produce the ion-pair, electron-volt\n",
"Ec = delta_E; // Coulomb energy equals net energy required to produce the ion pair, in electron-volt\n",
"// Since Ec = -e/(4*%pi*eps_0*R), solving for R\n",
"R = -e/(4*%pi*eps_0*Ec); // Separation between K+ and Cl- ion pair, m\n",
"disp(Ec,'The bond formation energy for K+ and Cl- ion pair, in eV, is : ');\n",
"disp(R/1D-10, 'The separation between K+ and Cl- ion pair, in angstrom, is : ');\n",
"\n",
"//Result \n",
"// The bond formation energy for K+ and Cl- ion pair, in eV, is :    \n",
"// 0.5  \n",
"// The separation between K+ and Cl- ion pair, in angstrom, is :    \n",
"// - 28.760776 "
   ]
   }
,
{
		   "cell_type": "markdown",
		   "metadata": {},
		   "source": [
			"## Example 2.8: Energy_liberation_during_electron_transfer.sci"
		   ]
		  },
  {
"cell_type": "code",
	   "execution_count": null,
	   "metadata": {
	    "collapsed": true
	   },
	   "outputs": [],
"source": [
"// Scilab Code Ex2.8  Energy liberated during electron transfer between ions of a molecule:  Page-71 (2010)\n",
"eps_0 = 8.854D-12; // Absolute electrical permittivity of free space, coulomb sqaure per newton per metre square\n",
"e = 1.6D-19; // Electronic charge, C\n",
"R = 5D-10;    // Separation between the ions M and X, m\n",
"IP_M = 5;    // Ionization potential of M, eV\n",
"EA_X = 4;    // Electron affinity of X, eV\n",
"U = -e/(4*%pi*eps_0*R); // The potential energy of MX molecule, eV\n",
"delta_E = IP_M - EA_X; // The net energy required to produce the ion pair, eV\n",
"Er = delta_E + U; // Energy required to transfer an electron from M to X atom, eV\n",
"printf('\nThe energy required to transfer an electron from M to X atom = %4.2f eV', Er);\n",
"\n",
"//Result \n",
"// The energy required to transfer an electron from M to X atom = -1.88 eV"
   ]
   }
],
"metadata": {
		  "kernelspec": {
		   "display_name": "Scilab",
		   "language": "scilab",
		   "name": "scilab"
		  },
		  "language_info": {
		   "file_extension": ".sce",
		   "help_links": [
			{
			 "text": "MetaKernel Magics",
			 "url": "https://github.com/calysto/metakernel/blob/master/metakernel/magics/README.md"
			}
		   ],
		   "mimetype": "text/x-octave",
		   "name": "scilab",
		   "version": "0.7.1"
		  }
		 },
		 "nbformat": 4,
		 "nbformat_minor": 0
}
