{
"cells": [
 {
		   "cell_type": "markdown",
	   "metadata": {},
	   "source": [
       "# Chapter 11: Band Theory"
	   ]
	},
{
		   "cell_type": "markdown",
		   "metadata": {},
		   "source": [
			"## Example 11.2: Ratio_between_kinetic_energy_of_an_electron_in_2D_square_lattice.sci"
		   ]
		  },
  {
"cell_type": "code",
	   "execution_count": null,
	   "metadata": {
	    "collapsed": true
	   },
	   "outputs": [],
"source": [
"// Scilab Code Ex11.2 Determining ratio between K.E. of an electron in 2D square lattice:  Page-370 (2010)\n",
"h = 6.626e-034;    // Planck's constant, Js\n",
"m = 9.1e-031;    // Mass of an electron, kg\n",
"a = 1;    // For simplicity assuming lattice parameter to be unity, m\n",
"// Case-I when k_x = k_y = %pi/a\n",
"k_x = %pi/a, k_y = %pi/a;    // Wave numbers in X- and Y- directions, rad per metre\n",
"E1 = h^2/(8*%pi^2*m)*(k_x^2 + k_y^2);    // Energy of the electron inside a Brilliouin Zone, J\n",
"// Case-II when k_x = %pi/a and k_y = 0\n",
"k_x = %pi/a, k_y = 0;    // Wave numbers in X- and Y- directions, rad per metre\n",
"E2 = h^2/(8*%pi^2*m)*(k_x^2 + k_y^2);    // Energy of the electron inside a Brilliouin Zone, J\n",
"E_ratio = E1/E2;    // Ratio between K.E. of an electron in 2D square lattice\n",
"printf('\nThe ratio between K.E. of an electron in 2D square lattice = %1d', E_ratio); \n",
"// Result \n",
"// The ratio between K.E. of an electron in 2D square lattice = 2"
   ]
   }
],
"metadata": {
		  "kernelspec": {
		   "display_name": "Scilab",
		   "language": "scilab",
		   "name": "scilab"
		  },
		  "language_info": {
		   "file_extension": ".sce",
		   "help_links": [
			{
			 "text": "MetaKernel Magics",
			 "url": "https://github.com/calysto/metakernel/blob/master/metakernel/magics/README.md"
			}
		   ],
		   "mimetype": "text/x-octave",
		   "name": "scilab",
		   "version": "0.7.1"
		  }
		 },
		 "nbformat": 4,
		 "nbformat_minor": 0
}
