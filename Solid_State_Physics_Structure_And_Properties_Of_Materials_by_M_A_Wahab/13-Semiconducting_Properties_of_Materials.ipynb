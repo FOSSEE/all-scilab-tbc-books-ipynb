{
"cells": [
 {
		   "cell_type": "markdown",
	   "metadata": {},
	   "source": [
       "# Chapter 13: Semiconducting Properties of Materials"
	   ]
	},
{
		   "cell_type": "markdown",
		   "metadata": {},
		   "source": [
			"## Example 13.10: Forward_current_of_a_pn_diode_using_diode_equation.sci"
		   ]
		  },
  {
"cell_type": "code",
	   "execution_count": null,
	   "metadata": {
	    "collapsed": true
	   },
	   "outputs": [],
"source": [
"// Scilab Code Ex13.10 Forward current of a p-n diode in terms of reverse saturation current using diode equation: Page-450 (2010)\n",
"e = 1.6e-019;    // Charge on an electron, coulomb\n",
"k = 1.38e-023;    // Boltzmann constant, J/mol/K\n",
"V = 0.35;    // Potential difference applied across a Ge diode, volt\n",
"T = 300;    // Room temperature, kelvin\n",
"Io = 1;        // Reverse saturation current, micro-ampere, for simplicity assume I0 = 1\n",
"Iv = Io*(exp(e*V/(k*T))-1);    // 'Diode Equation' for net forward current, milliamperes\n",
"printf('\nThe net forward current = %4.2e Io', Iv);\n",
"// Result \n",
"// The net forward current = 7.49e+005 Io"
   ]
   }
,
{
		   "cell_type": "markdown",
		   "metadata": {},
		   "source": [
			"## Example 13.11: Voltage_from_net_forward_current_using_Diode_Equation.sci"
		   ]
		  },
  {
"cell_type": "code",
	   "execution_count": null,
	   "metadata": {
	    "collapsed": true
	   },
	   "outputs": [],
"source": [
"// Scilab Code Ex13.11 Finding voltage from net forward current using Diode Equation: Page-450 (2010)\n",
"e = 1.6e-019;    // Charge on an electron, coulomb\n",
"k = 1.38e-023;    // Boltzmann constant, J/mol/K\n",
"T = 300;    // Room temperature, kelvin\n",
"Io = 1;        // Reverse saturation current, micro-ampere, for simplicity assume I0 = 1\n",
"Iv = 0.9*Io;    // 'Diode Equation' for net forward current, milliamperes\n",
"// As Iv = Io*(exp(e*V/(k*T))-1), solving for V\n",
"V = log(Iv/Io+1)*k*T/e;    // Potential difference applied across p-n junction, volt\n",
"printf('\nThe potential difference applied across p-n junction = %6.4f volt', V);\n",
"// Result \n",
"// The potential difference applied across p-n junction = 0.0166 volt "
   ]
   }
,
{
		   "cell_type": "markdown",
		   "metadata": {},
		   "source": [
			"## Example 13.3: Intrinsic_concentration_of_charge_carriers_in_semiconductors.sci"
		   ]
		  },
  {
"cell_type": "code",
	   "execution_count": null,
	   "metadata": {
	    "collapsed": true
	   },
	   "outputs": [],
"source": [
"// Scilab Code Ex13.3 Intrinsic concentration of charge carriers in semiconductors: Page-432 (2010)\n",
"k = 1.38e-023;    // Boltzmann constant, J/mol/K\n",
"h = 6.626e-034;    // Planck's constant, Js\n",
"eV = 1.6e-019;    // Joule equivalent of 1 eV\n",
"T = 300;    // Room temperature, kelvin\n",
"m_0 = 9.1e-031;    // Rest mass of an electron, kg\n",
"m_e = 0.12*m_0;    // Effective mass of electron, kg\n",
"m_h = 0.28*m_0;    // Effective mass of electron, kg\n",
"E_g = 0.67;    // Energy gap of Ge, eV\n",
"n_i = 2*(2*%pi*k*T/h^2)^(3/2)*(m_e*m_h)^(3/4)*exp(-E_g*eV/(2*k*T));    // Intrinsic carrier concentration of Ge, per metre cube\n",
"printf('\nThe intrinsic carrier concentration of Ge = %3.1e per metre cube', n_i); \n",
"// Result \n",
"// The intrinsic carrier concentration of Ge = 4.7e+018 per metre cube"
   ]
   }
,
{
		   "cell_type": "markdown",
		   "metadata": {},
		   "source": [
			"## Example 13.4: Comparison_of_intrinsic_carrier_densities_of_two_semiconductors.sci"
		   ]
		  },
  {
"cell_type": "code",
	   "execution_count": null,
	   "metadata": {
	    "collapsed": true
	   },
	   "outputs": [],
"source": [
"// Scilab Code Ex13.4 Comparison of intrinsic carrier densities of two semiconductors at room temperature  Page-433 (2010)\n",
"eV = 1.6e-019;    // Joule equivalent of 1 eV\n",
"m = 9.1e-031;    // Rest mass of an electron, kg\n",
"m_e = m;    // Effective mass of electron, kg\n",
"m_h = m;    // Effective mass of electron, kg\n",
"Eg_A = 0.36;    // Energy gap of A, eV\n",
"Eg_B = 0.72;    // Energy gap of B, eV\n",
"k = 1.38e-023;    // Boltzmann constant, J/mol/K\n",
"h = 6.626e-034;    // Planck's constant, Js\n",
"k_T = 0.052/2;    // Thermal energy, eV\n",
"// As n_i_ratio = ni_A/ni_B = exp(-Eg_A/(2*k_T))/exp(-Eg_A/(2*k_T)) \n",
"n_i_ratio = exp(-Eg_A/(2*k_T))/exp(-Eg_B/(2*k_T));    // Intrinsic carrier density ratio of A and B\n",
"printf('\nThe ratio of intrinsic carrier density = %4d ', n_i_ratio); \n",
"// Result \n",
"// The ratio of intrinsic carrier density = 1015"
   ]
   }
,
{
		   "cell_type": "markdown",
		   "metadata": {},
		   "source": [
			"## Example 13.5: Shift_in_fermi_level_with_change_in_concentration_of_impurities.sci"
		   ]
		  },
  {
"cell_type": "code",
	   "execution_count": null,
	   "metadata": {
	    "collapsed": true
	   },
	   "outputs": [],
"source": [
"// Scilab Code Ex13.5 Shift in position of fermi level with change in concentration of impurities:  Page-436 (2010)\n",
"k_T = 0.03;    // Thermal energy, eV\n",
"dE_Fv = 0.4;    // Energy difference between fermi level and topmost valence level, eV\n",
"// The hole concentration in P-type material is\n",
"// p = N_A = N_v*exp(-EF-Ev)/(k_T) = N_v*exp(-dE_Fv)/(k_T)\n",
"// The new value of hole concentration in P-type material is\n",
"// p_prime = 3*N_A = N_v*exp(-EF_prime-Ev)/(k_T)= = N_v*exp(-dE_F_primev)/(k_T)\n",
"// Solving for dE_F_primev by removing exponetial term\n",
"dE_F_primev = dE_Fv - k_T*log(3);    // Energy difference between new fermi level and topmost valence level, eV\n",
"printf('\nThe energy difference between new fermi level and topmost valence level = %5.3f eV', dE_F_primev); \n",
"// Result \n",
"// The energy difference between new fermi level and topmost valence level = 0.367 eV "
   ]
   }
,
{
		   "cell_type": "markdown",
		   "metadata": {},
		   "source": [
			"## Example 13.6: Electrical_resistivity_of_Ge.sci"
		   ]
		  },
  {
"cell_type": "code",
	   "execution_count": null,
	   "metadata": {
	    "collapsed": true
	   },
	   "outputs": [],
"source": [
"// Scilab Code Ex13.6 Electrical resistivity of Ge:  Page-439 (2010)\n",
"e = 1.602e-019;    // Charge on an elctron, C\n",
"n_i = 2.37e+019;    // Intrinsic carrier density of Ge at room temperature, per metre cube\n",
"mu_e = 0.38;    // Mobility of electrons, metre square per volt per second\n",
"mu_h = 0.18;    // Mobility of holes, metre square per volt per second\n",
"T = 300;    // Room temperature, kelvin\n",
"sigma_i = n_i*e*(mu_e + mu_h);    // Intrinsic electrical conductivity, per ohm per metre\n",
"rho_i = 1/sigma_i;    // Intrinsic electrical resistivity, ohm-metre\n",
"printf('\nThe intrinsic electrical resistivity = %4.2f ohm-metre', rho_i); \n",
"// Result \n",
"// The intrinsic electrical resistivity = 0.47 ohm-metre"
   ]
   }
,
{
		   "cell_type": "markdown",
		   "metadata": {},
		   "source": [
			"## Example 13.7: Electrical_conductivity_of_intrinsic_and_extrinsic_Si.sci"
		   ]
		  },
  {
"cell_type": "code",
	   "execution_count": null,
	   "metadata": {
	    "collapsed": true
	   },
	   "outputs": [],
"source": [
"// Scilab Code Ex13.7 Electrical conductivity of intrinsic and extrinsic Si:  Page-439 (2010)\n",
"NA = 6.023e+23;    // Avogadro's number\n",
"A_Si = 28.09e-03;    // Kilogram atomic mass of Si, kg\n",
"e = 1.602e-019;    // Charge on an elctron, C\n",
"n_impurity = 1/1e+08;    // Donor impurity atoms per Si atom\n",
"n_i = 1.5e+016;    // Intrinsic carrier density of Si at room temperature, per metre cube\n",
"mu_e = 0.13;    // Mobility of electrons, metre square per volt per second\n",
"mu_h = 0.05;    // Mobility of holes, metre square per volt per second\n",
"T = 300;        // Room temperature, kelvin\n",
"sigma_i = n_i*e*(mu_e + mu_h);    // Intrinsic electrical conductivity, per ohm per metre\n",
"Si_density = 2.23e+03;    // Density of silicon, kg per metre cube\n",
"N_Si = NA * Si_density/A_Si;    // Number of Si atoms, per metre cube\n",
"N_D = N_Si*n_impurity;    // Density of donor impurity, per metre cube;\n",
"sigma_ext = ceil(N_D)*e*mu_e;    // Extrinsic electrical conductivity of Si, per ohm per metre\n",
"printf('\nThe intrinsic electrical conductivity of Si = %5.3e per ohm per metre', sigma_i); \n",
"printf('\nThe extrinsic electrical conductivity of Si = %4.1f per ohm per metre', sigma_ext); \n",
"// Result \n",
"// The intrinsic electrical conductivity of Si = 4.325e-004 per ohm per metre\n",
"// The extrinsic electrical conductivity of Si = 10.0 per ohm per metre "
   ]
   }
,
{
		   "cell_type": "markdown",
		   "metadata": {},
		   "source": [
			"## Example 13.8: Resistance_of_intrinsic_Ge_Rod.sci"
		   ]
		  },
  {
"cell_type": "code",
	   "execution_count": null,
	   "metadata": {
	    "collapsed": true
	   },
	   "outputs": [],
"source": [
"// Scilab Code Ex13.8 Resistance of intrinsic Ge Rod:  Page-440 (2010)\n",
"e = 1.602e-019;    // Charge on an elctron, C\n",
"T = 300;        // Room temperature, kelvin\n",
"l = 1e-02;    // Length of the Ge rod, m\n",
"b = 1e-03;    // Width of the Ge rod, m\n",
"t = 1e-03;    // Thickness of the Ge rod, m\n",
"n_i = 2.5e+019;    // Intrinsic carrier density of Ge, per metre cube\n",
"mu_e = 0.39;    // Mobility of electrons, metre square per volt per second\n",
"mu_h = 0.19;    // Mobility of holes, metre square per volt per second\n",
"sigma_i = n_i*e*(mu_e + mu_h);    // Intrinsic electrical conductivity, per ohm per metre\n",
"A = b*t;    // Surface area of the Ge rod, metre square\n",
"rho = 1/sigma_i;    // Electrical resistivity of Ge Rod, ohm-metre\n",
"R = rho*l/A;    // Resistance of Ge Rod, ohm\n",
"printf('\nThe resistance of Ge Rod = %3.1e ohm', R); \n",
"// Result \n",
"// The resistance of Ge Rod = 4.3e+003 ohm "
   ]
   }
,
{
		   "cell_type": "markdown",
		   "metadata": {},
		   "source": [
			"## Example 13.9: Hall_effect_in_Si_semiconductor.sci"
		   ]
		  },
  {
"cell_type": "code",
	   "execution_count": null,
	   "metadata": {
	    "collapsed": true
	   },
	   "outputs": [],
"source": [
"// Scilab Code Ex13.9 Hall effect in Si semiconductor:  Page-442 (2010)\n",
"e = 1.602e-019;    // Charge on an elctron, C\n",
"T = 300;        // Room temperature, kelvin\n",
"R_H = -7.35e-05;    // Hall co-efficeint of Si specimen, metre cube per coulomb\n",
"sigma = 200;    // Electrical conductivity of Si, per ohm per metre\n",
"n = -1/(e*R_H);    // Electron density in the Si specimen\n",
"mu_e = sigma/(n*e);    // Electron mobility in the Si specimen, metre cube per volt per second\n",
"printf('\nThe density of electron = %3.1e metre cube', n);\n",
"printf('\nThe mobility of electron = %4.2e metre cube per volt per second', mu_e); \n",
"// Result \n",
"// The density of electron = 8.5e+022 metre cube\n",
"// The mobility of electron = 1.47e-002 metre cube per volt per second"
   ]
   }
],
"metadata": {
		  "kernelspec": {
		   "display_name": "Scilab",
		   "language": "scilab",
		   "name": "scilab"
		  },
		  "language_info": {
		   "file_extension": ".sce",
		   "help_links": [
			{
			 "text": "MetaKernel Magics",
			 "url": "https://github.com/calysto/metakernel/blob/master/metakernel/magics/README.md"
			}
		   ],
		   "mimetype": "text/x-octave",
		   "name": "scilab",
		   "version": "0.7.1"
		  }
		 },
		 "nbformat": 4,
		 "nbformat_minor": 0
}
