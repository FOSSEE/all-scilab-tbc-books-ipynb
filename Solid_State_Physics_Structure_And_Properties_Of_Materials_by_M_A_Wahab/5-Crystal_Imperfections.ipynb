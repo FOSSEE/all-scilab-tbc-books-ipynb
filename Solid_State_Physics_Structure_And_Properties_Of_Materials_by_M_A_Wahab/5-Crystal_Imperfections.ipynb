{
"cells": [
 {
		   "cell_type": "markdown",
	   "metadata": {},
	   "source": [
       "# Chapter 5: Crystal Imperfections"
	   ]
	},
{
		   "cell_type": "markdown",
		   "metadata": {},
		   "source": [
			"## Example 5.10: Resolved_componet_of_shearing_force_in_a_given_direction.sci"
		   ]
		  },
  {
"cell_type": "code",
	   "execution_count": null,
	   "metadata": {
	    "collapsed": true
	   },
	   "outputs": [],
"source": [
"// Scilab Code Ex5.10 Determining resolved componet of shearing force in a given direction: Page-168 (2010)\n",
"h1 = 1; k1 = 1; l1 = 1 // Miller indices for first set of planes\n",
"h2 = 1; k2 = 1; l2 = 0;    // Miller indices for second set of planes\n",
"F_111 = 660;    // Shearing force along [111] direction, N\n",
"cos_theta = (h1*h2+k1*k2+l1*l2)/(sqrt(h1^2+k1^2+l1^2)*sqrt(h2^2+k2^2+l2^2));    // Cosine of angle between [1 -1 0] and [100] directions\n",
"// As F_110/F_111 = cos_theta, solving for F_110\n",
"F_110 = F_111*cos_theta;    // Resolved component of shearing force along [110] direction, N\n",
"printf('\nThe resolved component of shearing force along [110] direction, F_110 = %3d N', F_110);\n",
"// Result\n",
"// The resolved component of shearing force along [110] direction, F_110 = 538 N"
   ]
   }
,
{
		   "cell_type": "markdown",
		   "metadata": {},
		   "source": [
			"## Example 5.11: Dependence_of_applied_stress_on_the_slip_direction.sci"
		   ]
		  },
  {
"cell_type": "code",
	   "execution_count": null,
	   "metadata": {
	    "collapsed": true
	   },
	   "outputs": [],
"source": [
"// Scilab Code Ex5.11 Dependence of applied stress on the slip direction of a copper: Page-169 (2010)\n",
"tau_critical = 1;    // Critical shear stress for the <-110>{111} slip system, mega-pascal (MPa)\n",
"// For directions [001] and [-111]\n",
"h1 = 0; k1 = 0; l1 = 1     // Miller indices for first set of planes\n",
"h2 = -1; k2 = 1; l2 = 1;    // Miller indices for second set of planes\n",
"cos_phi = (h1*h2+k1*k2+l1*l2)/(sqrt(h1^2+k1^2+l1^2)*sqrt(h2^2+k2^2+l2^2));    // Cosine of angle between [001] and [-111] directions\n",
"// For directions [001] and [101]\n",
"h1 = 0; k1 = 0; l1 = 1     // Miller indices for first set of planes\n",
"h2 = 1; k2 = 0; l2 = 1;    // Miller indices for second set of planes\n",
"cos_lambda = (h1*h2+k1*k2+l1*l2)/(sqrt(h1^2+k1^2+l1^2)*sqrt(h2^2+k2^2+l2^2));    // Cosine of angle between [001] and [101] directions\n",
"sigma = tau_critical/(cos_phi*cos_lambda);    // Stress along [001] direction, newton per metre square\n",
"printf('\nThe stress required to be applied along [001] direction to produce slip in the [101] direction on the (-111) plane = %4.2f MPa', sigma);\n",
"// For directions [001] and [110]\n",
"h1 = 0; k1 = 0; l1 = 1     // Miller indices for first set of planes\n",
"h2 = 1; k2 = 1; l2 = 0;    // Miller indices for second set of planes\n",
"cos_lambda = (h1*h2+k1*k2+l1*l2)/(sqrt(h1^2+k1^2+l1^2)*sqrt(h2^2+k2^2+l2^2));    // Cosine of angle between [001] and [110] directions\n",
"if cos_lambda <> 0 then\n",
"    sigma = tau_critical/(cos_phi*cos_lambda);    // Stress along [001] direction, newton per metre square\n",
"    printf('\nThe stress required to be applied along [001] direction to produce slip in the [110] direction on the (-111) plane = %4.2f MPa', sigma);\n",
"else\n",
"    printf('\nSince cos_lambda = 0, this implies that slip cannot occur in [110] direction when the stress is applied along [001] direction');\n",
"end\n",
"// Result\n",
"// The stress required to be applied along [001] direction to produce slip in the [101] direction on the (-111) plane = 2.45 MPa\n",
"// Since cos_lambda = 0, this implies that slip cannot occur in [110] direction when the stress is applied along [001] direction"
   ]
   }
,
{
		   "cell_type": "markdown",
		   "metadata": {},
		   "source": [
			"## Example 5.12: Resolved_stress_in_a_direction_from_applied_stress_in_other_direction.sci"
		   ]
		  },
  {
"cell_type": "code",
	   "execution_count": null,
	   "metadata": {
	    "collapsed": true
	   },
	   "outputs": [],
"source": [
"// Scilab Code Ex5.12 Resolved stress in a direction from applied stress in some other direction of bcc iron: Page-169 (2010)\n",
"sigma = 123;    // Axial stress applied in the direction [110] of bcc iron, MPa\n",
"// For directions [010] and [110]\n",
"h1 = 0; k1 = 1; l1 = 0     // Miller indices for first set of planes\n",
"h2 = 1; k2 = 1; l2 = 0;    // Miller indices for second set of planes\n",
"cos_phi = (h1*h2+k1*k2+l1*l2)/(sqrt(h1^2+k1^2+l1^2)*sqrt(h2^2+k2^2+l2^2));    // Cosine of angle between [010] and [110] directions\n",
"// For directions [110s] and [101]\n",
"h1 = 1; k1 = 0; l1 = 1     // Miller indices for first set of planes\n",
"h2 = 1; k2 = 1; l2 = 0;    // Miller indices for second set of planes\n",
"cos_lambda = (h1*h2+k1*k2+l1*l2)/(sqrt(h1^2+k1^2+l1^2)*sqrt(h2^2+k2^2+l2^2));    // Cosine of angle between [110] and [101] directions\n",
"tau = sigma*cos_phi*cos_lambda;    // Resolved shear stress in the [101] direction on the (010) plane, MPa\n",
"printf('\nThe resolved shear stress in the [101] direction on the (010) plane = %4.1f MPa', tau);\n",
"// Result\n",
"// The resolved shear stress in the [101] direction on the (010) plane = 43.5 MPa "
   ]
   }
,
{
		   "cell_type": "markdown",
		   "metadata": {},
		   "source": [
			"## Example 5.13: Critical_resolved_shear_stress_from_applied_stress_in_a_given_direction.sci"
		   ]
		  },
  {
"cell_type": "code",
	   "execution_count": null,
	   "metadata": {
	    "collapsed": true
	   },
	   "outputs": [],
"source": [
"// Scilab Code Ex5.13 Determining critical resolved shear stress from applied stress in a given direction  of aluminium: Page-170 (2010)\n",
"sigma_critical = 3.5;    // Applied stress in the [1 -1 1] direction, MPa\n",
"// For directions [111] and [1 -1 1]\n",
"h1 = 1; k1 = 1; l1 = 1;     // Miller indices for first set of planes\n",
"h2 = 1; k2 = -1; l2 = 1;    // Miller indices for second set of planes\n",
"cos_phi = (h1*h2+k1*k2+l1*l2)/(sqrt(h1^2+k1^2+l1^2)*sqrt(h2^2+k2^2+l2^2));    // Cosine of angle between [111] and [1 -1 1] directions\n",
"// For directions [1 - 1 0] and [1 -1 1]\n",
"h1 = 1; k1 = -1; l1 = 0     // Miller indices for first set of planes\n",
"h2 = 1; k2 = -1; l2 = 1;    // Miller indices for second set of planes\n",
"cos_lambda = (h1*h2+k1*k2+l1*l2)/(sqrt(h1^2+k1^2+l1^2)*sqrt(h2^2+k2^2+l2^2));    // Cosine of angle between [1 -1 0] and [1 -1 1] directions\n",
"tau_c = sigma_critical*cos_phi*cos_lambda;    // The critical resolved shear stress in the [1 -1 0] direction on the (111) plane, MPa\n",
"printf('\nThe critical resolved shear stress in the [1 -1 0] direction on the (111) plane = %4.2f MPa', tau_c);\n",
"// Result\n",
"// The critical resolved shear stress in the [1 -1 0] direction on the (111) plane = 0.95 MPa"
   ]
   }
,
{
		   "cell_type": "markdown",
		   "metadata": {},
		   "source": [
			"## Example 5.14: Initiation_of_slip_by_the_applied_stress.sci"
		   ]
		  },
  {
"cell_type": "code",
	   "execution_count": null,
	   "metadata": {
	    "collapsed": true
	   },
	   "outputs": [],
"source": [
"// Scilab Code Ex5.14 Determining the direction in which slip is initiated by the applied stress in zinc: Page-170 (2010)\n",
"sigma = 2.3;    // Applied stress when the plastic deformation is first observed, MPa\n",
"phi = 60;    // Angle which the normal to the basal plane makes with the tensile axis of zinc, degree\n",
"// Function to find the value of resolved shear stress \n",
"function[tau] = stress(lambda)\n",
"    tau = sigma*cosd(phi)*cosd(lambda);\n",
"endfunction\n",
"lambda = [38 45 84];    // Angles which the three slip directions x1, x2 and x3 respectively makes with the tensile axis, degrees\n",
"t = zeros(1,3);        // Initialize a one-dimensional vector of three elements\n",
"for i = 1:1:3        \n",
"    t(i) = stress(lambda(i));    // Calculate the value of resolved shear stress by calling stress function\n",
"    printf('\ntau%d = %5.3f MPa', i, t(1,i));    // Display resloved shear stress for each direction, MPa\n",
"end\n",
"// Locate for the largest resolved stress value\n",
"big = t(1,1);\n",
"for i = 2:1:3\n",
"    if t(1,i) > big then\n",
"        big = t(1,i)    // Set largest valuse of resolved stress if the condition meets\n",
"    end\n",
"end\n",
"printf('\nThe slip is initiated along direction x1 at tau_c = %5.3f MPa', big);\n",
"// Result\n",
"// tau1 = 0.906 MPa\n",
"// tau2 = 0.813 MPa\n",
"// tau3 = 0.120 MPa\n",
"// The slip is initiated along direction x1 at tau_c = 0.906 MPa"
   ]
   }
,
{
		   "cell_type": "markdown",
		   "metadata": {},
		   "source": [
			"## Example 5.15: Applied_tensile_stress_in_a_direction_to_initiate_plastic_deformation.sci"
		   ]
		  },
  {
"cell_type": "code",
	   "execution_count": null,
	   "metadata": {
	    "collapsed": true
	   },
	   "outputs": [],
"source": [
"// Scilab Code Ex5.15 Determining applied tensile stress in a direction to initiate plastic deformation: Page-170 (2010)\n",
"tau_critical = 0.7;    // Critical resolved shear stress for fcc crystal, MPa\n",
"// For directions [100] and [1 1 1]\n",
"h1 = 1; k1 = 0; l1 = 0;     // Miller indices for first set of planes\n",
"h2 = 1; k2 = 1; l2 = 1;    // Miller indices for second set of planes\n",
"cos_phi = (h1*h2+k1*k2+l1*l2)/(sqrt(h1^2+k1^2+l1^2)*sqrt(h2^2+k2^2+l2^2));    // Cosine of angle between [100] and [1 1 1] directions\n",
"// For directions [1 0 0] and [1 -1 0]\n",
"h1 = 1; k1 = 0; l1 = 0     // Miller indices for first set of planes\n",
"h2 = 1; k2 = -1; l2 = 0;    // Miller indices for second set of planes\n",
"cos_lambda = (h1*h2+k1*k2+l1*l2)/(sqrt(h1^2+k1^2+l1^2)*sqrt(h2^2+k2^2+l2^2));    // Cosine of angle between [1 0 0] and [1 -1 0] directions\n",
"sigma_c = tau_critical/(cos_phi*cos_lambda);    // The critical resolved shear stress in the [1 -1 0] direction on the (1 1 1) plane, MPa\n",
"printf('\nThe critical resolved shear stress in the [1 -1 0] direction on the (1 1 1) plane = %3.1f MPa', sigma_c);\n",
"// Result\n",
"// The critical resolved shear stress in the [1 -1 0] direction on the (1 1 1) plane = 1.7 MPa "
   ]
   }
,
{
		   "cell_type": "markdown",
		   "metadata": {},
		   "source": [
			"## Example 5.16: Dislocation_width_in_copper.sci"
		   ]
		  },
  {
"cell_type": "code",
	   "execution_count": null,
	   "metadata": {
	    "collapsed": true
	   },
	   "outputs": [],
"source": [
"// Scilab Code Ex5.16 Dislocation width in copper: Page-175 (2010)\n",
"mu = 1;    // For simplicity, assume shear modulus of copper to be unity, netwon per metre square\n",
"tau_PN = mu/1e+05;    // Shear stress to initiate plastic deformation, newton per metre square\n",
"a = 3.61e-010;    // Lattice parameter of copper, m\n",
"b = a/sqrt(2);    // Burger vector magnitude for fcc crystal of copper, m\n",
"// As stress necessary to move a dislocation in a crystal is given by \n",
"// tau_PN = mu*exp(-2*%pi*w/b), solving for w\n",
"w = b*log(mu/tau_PN)/(2*%pi);    // Width of the dislocation in copper, m\n",
"printf('\nThe width of dislocation in copper = %4.2e angstrom', w/1d-10);\n",
"// Result\n",
"// The width of dislocation in copper = 4.68e-010 angstrom "
   ]
   }
,
{
		   "cell_type": "markdown",
		   "metadata": {},
		   "source": [
			"## Example 5.17: Change_in_number_of_vacancies_due_to_disloaction_motion.sci"
		   ]
		  },
  {
"cell_type": "code",
	   "execution_count": null,
	   "metadata": {
	    "collapsed": true
	   },
	   "outputs": [],
"source": [
"// Scilab Code Ex5.17 Change in number of vacancies due to disloaction motion: Page-176 (2010)\n",
"l = 1e-03;    // Edge dislocation length of simple cubic crystal, m\n",
"d = 1e-06;    // Distance of dislocation climb in, m\n",
"a = 3e-10;    // Lattice parameter of scc, m\n",
"A = a^2;    // Area of the unit cell, metre square\n",
"A_affected = l*d;    // Affected area when the dislocation climbs down, metre square\n",
"// N.B.: Area of one unit cell in scc contributes one atom\n",
"N = A_affected/A;    // Number of vacancies created within the affected area\n",
"printf('\nThe number of vacancies lost or created = %3.1e', N);\n",
"// Result\n",
"// The number of vacancies lost or created = 1.1e+010"
   ]
   }
,
{
		   "cell_type": "markdown",
		   "metadata": {},
		   "source": [
			"## Example 5.18: Minimum_number_of_dislocations_in_motion_from_shearing_rate.sci"
		   ]
		  },
  {
"cell_type": "code",
	   "execution_count": null,
	   "metadata": {
	    "collapsed": true
	   },
	   "outputs": [],
"source": [
"// Scilab Code Ex5.18 Minimum number of dislocations in motion from shearing rate of copper: Page-176 (2010)\n",
"a = 3.61e-010;    // Lattice parameter of copper, m\n",
"epsilon_dot = 10/60;    // Strain rate of plastic deformation, mm per sec\n",
"v_d = 1e+06;    // Velocity of dislocation, mm per sec\n",
"V = 1e+03;    // Volume of the crystal, mm cube\n",
"b = a*1e+03/sqrt(2);    // Burger vector magnitude for fcc crystal of copper, mm\n",
"// Strain rate of plastic deformation is given by\n",
"// epsilon_dot = rho*b*v_d, solving for rho\n",
"rho = epsilon_dot/(b*v_d);    // Density of the mobile disloacations, per mm cube\n",
"N = round(rho*V);    // Number of dislocations in motion in the whole cube\n",
"printf('\nThe number of dislocations in motion in the whole cube = %3d', N);\n",
"// Result\n",
"// The number of dislocations in motion in the whole cube = 653"
   ]
   }
,
{
		   "cell_type": "markdown",
		   "metadata": {},
		   "source": [
			"## Example 5.19: Elastic_energy_of_line_imperfection.sci"
		   ]
		  },
  {
"cell_type": "code",
	   "execution_count": null,
	   "metadata": {
	    "collapsed": true
	   },
	   "outputs": [],
"source": [
"// Scilab Code Ex5.19 Elastic energy of line imperfection stored in Al: Page-178 (2010)\n",
"rho = 1e+010;    // Dislocation density of Al, per metre square\n",
"mu = 25.94e+09;    // Shear molulus of aluminium, newton per metre square\n",
"a = 4.05e-010;    // Lattice parameter of aluminium, m\n",
"b = a/sqrt(2);    // Burger vector magnitude for fcc crystal of Al, m\n",
"E_bar = mu*b^2/2;    // Elastic energy per unit length of the dislocation, joule per metre\n",
"E = E_bar*rho;    // Elastic energy stored in the crystal, joule per metre cube\n",
"printf('\nThe elastic energy stored in the crystal = %5.2f joule per metre cube', E);\n",
"// Result\n",
"// The elastic energy stored in the crystal = 10.64 joule per metre cube"
   ]
   }
,
{
		   "cell_type": "markdown",
		   "metadata": {},
		   "source": [
			"## Example 5.1: Variation_of_atomic_fraction_with_temperature.sci"
		   ]
		  },
  {
"cell_type": "code",
	   "execution_count": null,
	   "metadata": {
	    "collapsed": true
	   },
	   "outputs": [],
"source": [
"// Scilab Code Ex5.1 Variation of fraction of atoms in a solid with temperature Page-158 (2010)\n",
"E = 1.5;    // Energy of the solid, electron-volt\n",
"T1 = 300;    // First absolute temperature, K\n",
"T2 = 1500;    // Second absolute temperature, K\n",
"k = 8.614D-5;    // Boltzmann constant, electron-volt/K\n",
"// Now fraction of atoms = f_atom = n/N = exp(-E/(k*T)\n",
"f_atom_300 = exp(-E/(k*T1));    // Fraction of atoms in the solid at 300 K\n",
"f_atom_1000 = exp(-E/(k*T2));    // Fraction of atoms in the solid at 1000 K\n",
"printf('\nThe fraction of atoms in the solid at 300 K, is : %5.3e', f_atom_300);\n",
"printf('\nThe fraction of atoms in the solid at 1000 K, is : %5.3e', f_atom_1000);\n",
"//Result\n",
"// The fraction of atoms in the solid at 300 K, is : 6.185e-026\n",
"// The fraction of atoms in the solid at 1000 K, is : 9.084e-006"
   ]
   }
,
{
		   "cell_type": "markdown",
		   "metadata": {},
		   "source": [
			"## Example 5.20: Spacing_between_dislocations_in_a_tilt_boundary.sci"
		   ]
		  },
  {
"cell_type": "code",
	   "execution_count": null,
	   "metadata": {
	    "collapsed": true
	   },
	   "outputs": [],
"source": [
"// Scilab Code Ex5.20 Spacing between dislocations in a tilt boundary in fcc Ni: Page-187 (2010)\n",
"theta = 2;    // Angle of tilt, degree\n",
"a = 3.52e-010;    // Lattice parameter of Al, m\n",
"b = a/sqrt(2);    // Burger vector magnitude for fcc Ni, m\n",
"h = b/tand(theta);    // The vertical spacing between two neighbouring edge dislocations, m\n",
"printf('\nThe spacing between dislocations in a tilt boundary in fcc Ni = %4.1f angstrom', h/1D-10);\n",
"// Result\n",
"// The spacing between dislocations in a tilt boundary in fcc Ni = 71.3 angstrom"
   ]
   }
,
{
		   "cell_type": "markdown",
		   "metadata": {},
		   "source": [
			"## Example 5.21: Tilt_angle_from_dislocation_spacing_in_the_boundary.sci"
		   ]
		  },
  {
"cell_type": "code",
	   "execution_count": null,
	   "metadata": {
	    "collapsed": true
	   },
	   "outputs": [],
"source": [
"// Scilab Code Ex5.21 Determining tilt angle from dislocation spacing in the boundary of Cu: Page-188 (2010)\n",
"a = 3.61e-010;    // Lattice parameter of Cu, m\n",
"b = a/sqrt(2);    // Burger vector magnitude for fcc Cu, m\n",
"h = 1.5e-06;    // The vertical spacing between two neighbouring edge dislocations, m\n",
"tan_theta = atand(b/h)*(%pi/180);    // tangent of tilt angle between two tilt boundaries of Cu, radian\n",
"printf('\nThe tilt angle between two tilt boundaries of Cu = %3.1e radian', theta);\n",
"// Result\n",
"// The tilt angle between two tilt boundaries of Cu = 1.7e-004 radian"
   ]
   }
,
{
		   "cell_type": "markdown",
		   "metadata": {},
		   "source": [
			"## Example 5.22: Tilt_angle_from_dislocation_spacing.sci"
		   ]
		  },
  {
"cell_type": "code",
	   "execution_count": null,
	   "metadata": {
	    "collapsed": true
	   },
	   "outputs": [],
"source": [
"// Scilab Code Ex5.22 Determining tilt angle from dislocation spacing in the boundary of Cu: Page-188 (2010)\n",
"b = 0.4e-09;    // Burger vector magnitude for fcc Cu, m\n",
"h = 3.0e-06;    // The vertical spacing between two neighbouring edge dislocations, m\n",
"tan_theta = atand(b/h)*(%pi/180);    // tangent of tilt angle between two tilt boundaries of Cu, radian\n",
"printf('\nThe tilt angle between two tilt boundaries of Cu = %4.2e radian', theta);\n",
"// Result\n",
"// The tilt angle between two tilt boundaries of Cu = 1.33e-004 radian"
   ]
   }
,
{
		   "cell_type": "markdown",
		   "metadata": {},
		   "source": [
			"## Example 5.2: Vacancy_formation_in_copper.sci"
		   ]
		  },
  {
"cell_type": "code",
	   "execution_count": null,
	   "metadata": {
	    "collapsed": true
	   },
	   "outputs": [],
"source": [
"// Scilab Code Ex5.2 Vacancy formation in copper Page-159 (2010)\n",
"E = 1;    // Energy of formation of vacancy in copper, electron-volt\n",
"T = 1356;    // Melting point of copper, K\n",
"k = 8.614D-5;    // Boltzmann constant, electron-volt\n",
"N = 6.023D23;    // Avogadro's number\n",
"// Now fraction of vacancies = f_vacancy = n/N = exp(-E/(k*T)\n",
"f = exp(-E/(k*T));    // Fraction of vacancies in the solid at 300 K\n",
"n = N*f;  // Number of vacancy per mole\n",
"delta_d = n + N;    // Change in the density due to creation of vacancy\n",
"f_d = delta_d/N;    // Relative change in the density of copper due to vacancy formation\n",
"printf('\nThe relative change in the density of copper due to vacancy formation (n+N)/N, is : %9.7f : 1', f_d);\n",
"//Result\n",
"// The relative change in the density of copper due to vacancy formation (n+N)/N, is : 1.0001914 : 1"
   ]
   }
,
{
		   "cell_type": "markdown",
		   "metadata": {},
		   "source": [
			"## Example 5.3: Concentration_of_Schottky_imperfections.sci"
		   ]
		  },
  {
"cell_type": "code",
	   "execution_count": null,
	   "metadata": {
	    "collapsed": true
	   },
	   "outputs": [],
"source": [
"// Scilab Code Ex5.3 Concentration of Schottky imperfections Page-159 (2010)\n",
"N = 6.023D23;    // Avogadro's number\n",
"k = 8.614D-5;    // Boltzmann's constant, eV/K\n",
"T1 = 27+273;    // First absolute temperature, K\n",
"T2 = 1000;    // Second absolute temperature, K\n",
"C_300 = 1D-10;    // Concentration of Schottky defects in an fcc crystal at 300 K temperature\n",
"n = C_300*N;    // Number of Schottky imperfections per mole\n",
"d = 1D-10;    // Interatomic spacing assumed to be unit angstrom, m\n",
"V = d^3;    // Volume of the unit cube, metre cube\n",
"V_mole = V*N;    // Volume occupied by one mole of atoms in fcc crystal, metre cube\n",
"V_per_defect = V_mole/n;    // Volume per defect, metre cube\n",
"a = (V_per_defect)^(1/3);    // Average separation between the defects, m\n",
"E_v = 23.03*k*T1;    // Energy of the solid, electron-volt\n",
"C_1000 = exp(-E_v/(k*T2));    // Schottky defect concentration at 1000 K\n",
"printf('\nThe average separation between the defects, is : %3.1e m', a);\n",
"printf('\nThe expected concentration of Schottky defect at 1000 K, n/N, is : %3.1e', C_1000);\n",
"//Result\n",
"// The average separation between the defects, is : 2.2e-007 m\n",
"// The expected concentration of Schottky defect at 1000 K, n/N, is : 1.0e-003 "
   ]
   }
,
{
		   "cell_type": "markdown",
		   "metadata": {},
		   "source": [
			"## Example 5.4: Number_of_Schottky_imperfections_in_NaCl_crystal.sci"
		   ]
		  },
  {
"cell_type": "code",
	   "execution_count": null,
	   "metadata": {
	    "collapsed": true
	   },
	   "outputs": [],
"source": [
"// Scilab Code Ex5.4 Number of Schottky imperfections in NaCl crystal Page-160 (2010)\n",
"N = 6.023D23;    // Avogadro's number\n",
"k = 8.614D-5;    // Boltzmann's constant, eV/K\n",
"T = 27+273;    // Absolute room temperature, K\n",
"Ep = 2;    // Energy required to remove a pair of Na+ and Cl- ions, electron-volt\n",
"// Now Concentration of imperfections in a crystal is given by\n",
"// n/N = exp(-Ep/(2*k*T)), solving for n\n",
"n = N*exp(-Ep/(2*k*T));    // No. of Schottky imperfections present in NaCl crystal\n",
"printf('\nNo. of Schottky imperfections present in NaCl crystal is : %4.2e', n);\n",
"V = 26.83;    // Volume of one mole of the crystal, cm cube\n",
"n = n/V;    // Number per mole volume of the crystal, per cm cube\n",
"printf('\nConcentration of Schottky imperfections present in NaCl crystal is : %4.2e per cm cube', n);\n",
"//Result\n",
"// No. of Schottky imperfections present in NaCl crystal is : 9.42e+006\n",
"// Concentration of Schottky imperfections present in NaCl crystal is : 3.51e+005 per cm cube "
   ]
   }
,
{
		   "cell_type": "markdown",
		   "metadata": {},
		   "source": [
			"## Example 5.5: Average_energy_required_to_create_one_Schottky_defect.sci"
		   ]
		  },
  {
"cell_type": "code",
	   "execution_count": null,
	   "metadata": {
	    "collapsed": true
	   },
	   "outputs": [],
"source": [
"// Scilab Code Ex5.5 Average energy required to create one Schottky defect in NaCl Page-160 (2010)\n",
"N = 6.023D23;    // Avogadro's number\n",
"k = 8.614D-5;    // Boltzmann's constant, eV/K\n",
"T = 27+273;    // Absolute room temperature, K\n",
"r = 2.82D-10;    // Interatomic separation of NaCl cryastal, m\n",
"n = 5D+11;        // Density of defects, per metre cube\n",
"//Ep = 2;        // Energy required to remove a pair of Na+ and Cl- ions, electron-volt\n",
"a = 2*r;        // Lattice parameter of unit cell of NaCl, m\n",
"V = a^3;        // Volume of the unit cell of sodium, metre cube\n",
"n_ip = 4;     // Number of ion-pairs of NaCl \n",
"N = n_ip/V;    // No. of ion-pairs in unit volume of an ideal NaCl crystal\n",
"// Now n/N = exp(-Ep/(2*k*T)), solving for Ep\n",
"Ep = 2*k*T*log(N/n);    // Average energy required to create one Schottky defect, electron-volt\n",
"printf('\nThe Average energy required to create one Schottky defect in NaCl crystal is : %4.2f eV', Ep);\n",
"//Result\n",
"// The Average energy required to create one Schottky defect in NaCl crystal is : 1.98 eV"
   ]
   }
,
{
		   "cell_type": "markdown",
		   "metadata": {},
		   "source": [
			"## Example 5.6: Ratio_of_Frenkel_defects_at_two_different_temperatures.sci"
		   ]
		  },
  {
"cell_type": "code",
	   "execution_count": null,
	   "metadata": {
	    "collapsed": true
	   },
	   "outputs": [],
"source": [
"// Scilab Code Ex5.6 Ratio of Frenkel defects at two different temperatures in an ionic crystal Page-161 (2010)\n",
"k = 8.614D-5;    // Boltzmann's constant, eV/K\n",
"Ef = 1.4;    // Average energy required to create a Frenkel defect, eV\n",
"T1 = 300;    // First absoluite temperature, K\n",
"T2 = 600;    // Second absolute temperature, K\n",
"// The concentration of Frenkel defect for given Ef and absolute temperature T is given by\n",
"// n = A*exp(-Ef/(2*k*T)), per metre cube, so that\n",
"// n1 = A*exp(-Ef/(2*k*T1)), per metre cube, and\n",
"// n2 = A*exp(-Ef/(2*k*T2)), per metre cube, therefore,\n",
"// n1/n2 = exp((-Ef/k)*(1/T1 - 1/T2)), the ratio of Frenkel defects is\n",
"n300_r_n600 = exp((-Ef/(2*k))*(1/T1 - 1/T2)); // Frenkel defect ratio \n",
"printf('\nThe ratio of Frenkel defect, n300_r_n600, is : %5.3e', n300_r_n600);\n",
"//Result\n",
"// The ratio of Frenkel defect, n300_r_n600, is : 1.312e-006 "
   ]
   }
,
{
		   "cell_type": "markdown",
		   "metadata": {},
		   "source": [
			"## Example 5.7: Dislocation_density_of_bcc_structure_of_iron.sci"
		   ]
		  },
  {
"cell_type": "code",
	   "execution_count": null,
	   "metadata": {
	    "collapsed": true
	   },
	   "outputs": [],
"source": [
"// Scilab Code Ex5.7 Dislocation density of bcc structure of iron Page-163 (2010)\n",
"L = 0.15;    // Length of the strip, m\n",
"t = 0.02;    // Thickness of the iorn strip, m\n",
"r = 0.12;    // Radius of curvature of the bent, m\n",
"a = 2.81D-10;    // Lattice parameter of the bcc structure of iron, m\n",
"b = sqrt(3)*a/2;    // Magnitude of Burger vector, m\n",
"// For n positive edge dislocations\n",
"// n*b = L*t/r, solving for n/(L*t)\n",
"// n/(L*t) = 1/(r*b), Number of dislocation line piercing through a unit area of the plane of the paper, per metre square\n",
"d = 1/(r*b);    // Dislocation density in bcc structure of iron, number per metre square\n",
"printf('\nThe dislocation density in bcc structure of iron : %4.2e, dislocations per Sq. m', d);\n",
"//Result\n",
"// The dislocation density in bcc structure of iron : 3.42e+010, dislocations per Sq. m"
   ]
   }
,
{
		   "cell_type": "markdown",
		   "metadata": {},
		   "source": [
			"## Example 5.8: Minimum_dislocation_density_in_aluminium.sci"
		   ]
		  },
  {
"cell_type": "code",
	   "execution_count": null,
	   "metadata": {
	    "collapsed": true
	   },
	   "outputs": [],
"source": [
"// Scilab Code Ex5.8 Minimum dislocation density in aluminium Page-164 (2010)\n",
"b = 3D-10;    // Magnitude of Burgers vector, m\n",
"r = 0.05;    // Radius of curvatur of the aluminium crystal, m\n",
"// For n positive edge dislocations\n",
"// n*b = L*t/r, solving for n/(L*t)\n",
"// n/(L*t) = 1/(r*b), Number of dislocation line piercing through a unit area of the plane of the paper, per Sq.m\n",
"d = 1/(r*b);    // Minimum dislocation density in aluminium, number per Sq. m\n",
"printf('\nThe minimum dislocation density in aluminium, %4.1e, dislocations per Sq. m', d);\n",
"//Result\n",
"// The minimum dislocation density in aluminium, 6.7e+010, dislocations per Sq. m"
   ]
   }
,
{
		   "cell_type": "markdown",
		   "metadata": {},
		   "source": [
			"## Example 5.9: Total_force_from_its_resolved_component_in_a_given_direction.sci"
		   ]
		  },
  {
"cell_type": "code",
	   "execution_count": null,
	   "metadata": {
	    "collapsed": true
	   },
	   "outputs": [],
"source": [
"// Scilab Code Ex5.9 Determining total force from its resolved component in a given direction: Page-168 (2010)\n",
"h1 = 1; k1 = -1; l1 = 0 // Miller indices for first set of planes\n",
"h2 = 1; k2 = 0; l2 = 0;    // Miller indices for second set of planes\n",
"F_100 = 130;    // Resolved component of force along [100] direction, N\n",
"cos_theta = (h1*h2+k1*k2+l1*l2)/(sqrt(h1^2+k1^2+l1^2)*sqrt(h2^2+k2^2+l2^2));    // Cosine of angle between [1 -1 0] and [100] directions\n",
"// As F/F_100 = cos_theta, solving for F\n",
"F_110 = F_100/cos_theta;    // Applied force along [1 -1 0] direction, N\n",
"printf('\nThe applied force along [1-10] direction = %3d N', F_110);\n",
"// Result\n",
"// The applied force along [1-10] direction = 183 N "
   ]
   }
],
"metadata": {
		  "kernelspec": {
		   "display_name": "Scilab",
		   "language": "scilab",
		   "name": "scilab"
		  },
		  "language_info": {
		   "file_extension": ".sce",
		   "help_links": [
			{
			 "text": "MetaKernel Magics",
			 "url": "https://github.com/calysto/metakernel/blob/master/metakernel/magics/README.md"
			}
		   ],
		   "mimetype": "text/x-octave",
		   "name": "scilab",
		   "version": "0.7.1"
		  }
		 },
		 "nbformat": 4,
		 "nbformat_minor": 0
}
