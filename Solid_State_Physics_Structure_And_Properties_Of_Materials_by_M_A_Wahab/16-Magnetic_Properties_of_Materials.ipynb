{
"cells": [
 {
		   "cell_type": "markdown",
	   "metadata": {},
	   "source": [
       "# Chapter 16: Magnetic Properties of Materials"
	   ]
	},
{
		   "cell_type": "markdown",
		   "metadata": {},
		   "source": [
			"## Example 16.1: Response_of_copper_to_magnetic_field.sci"
		   ]
		  },
  {
"cell_type": "code",
	   "execution_count": null,
	   "metadata": {
	    "collapsed": true
	   },
	   "outputs": [],
"source": [
"// Scilab Code Ex16.1 Response of Cu to magnetic field: Page-503 (2010)\n",
"H = 1e+06;        // Applied magnetic field in copper, A/m\n",
"chi = -0.8e-05;    // Magnetic susceptibility of copper\n",
"mu_0 = 4*%pi*1e-07;    // Magnetic permeability of free space, henry/metre\n",
"M = chi*H;    // Intesity of magnetization in copper, A/m\n",
"B = mu_0*(H + M);    // Magnetic flux density in copper, tesla\n",
"printf('\nThe magnetization of copper = %d A/m', M);\n",
"printf('\nThe magnetic flux density of copper = %5.3f T', B);\n",
"// Result \n",
"// The magnetization of copper = -8 A/m\n",
"// The magnetic flux density of copper = 1.257 T"
   ]
   }
,
{
		   "cell_type": "markdown",
		   "metadata": {},
		   "source": [
			"## Example 16.2: Diamagnetic_susceptibility_of_copper.sci"
		   ]
		  },
  {
"cell_type": "code",
	   "execution_count": null,
	   "metadata": {
	    "collapsed": true
	   },
	   "outputs": [],
"source": [
"// Scilab Code Ex16.2 Diamagnetic susceptibility of copper: Page-512 (2010)\n",
"e = 1.6e-019;    // Charge on an electron, C\n",
"m = 9.1e-031;    // Mass of an electron, kg\n",
"mu_0 = 4*%pi*1e-07;    // Magnetic permeability of free space, henry/metre\n",
"Z = 1;    // Number of electrons contributing to the magnetic moment\n",
"r = 1e-010;    // Radius of copper atom, m\n",
"a = 3.608e-010;    // Lattice parameter of copper, m\n",
"// For FCC lattice of Cu, there are 4 atoms per unit cell\n",
"n = 4;    // Number of atoms per unit cell\n",
"N = n/a^3;    // Number of electrons per unit volume, per metre cube\n",
"chi_dia = -mu_0*Z*e^2*N*r^2/(6*m);    // Diamagnetic susceptibility of copper \n",
"printf('\nThe diamagnetic susceptibility of copper = %3.1e', chi_dia);\n",
"// Result \n",
"// The diamagnetic susceptibility of copper = -5.0e-006 "
   ]
   }
,
{
		   "cell_type": "markdown",
		   "metadata": {},
		   "source": [
			"## Example 16.3: Magnetic_induction_from_orientational_energy_equivalent_of_thermal_energy.sci"
		   ]
		  },
  {
"cell_type": "code",
	   "execution_count": null,
	   "metadata": {
	    "collapsed": true
	   },
	   "outputs": [],
"source": [
"// Scilab Code Ex16.3 Calculating magnetic induction from orientational energy equivalent of thermal energy: Page-514 (2010)\n",
"k = 1.38e-023;    // Boltzmann constant, joule per mole per kelvin\n",
"mu_B = 9.27e-024;    // Bohr's magneton, joule per tesla\n",
"mu_m = 5*mu_B;        // Magnetic moment of paramagnetic sample, joule per tesla\n",
"T = 300;    // Thermal energy of specimen, joule\n",
"// At equilibrium, mu_m*B = k*T, solving for B\n",
"B = k*T/mu_m;    // Magentic induction of paramagnetic sample, weber per metre square\n",
"printf('\nThe magentic induction of paramagnetic sample = %5.2f weber per metre square', B);\n",
"// Result \n",
"// The magentic induction of paramagnetic sample = 89.32 weber per metre square"
   ]
   }
,
{
		   "cell_type": "markdown",
		   "metadata": {},
		   "source": [
			"## Example 16.4: Behaviour_of_paramagnetic_salt_when_placed_in_uniform_magnetic_field.sci"
		   ]
		  },
  {
"cell_type": "code",
	   "execution_count": null,
	   "metadata": {
	    "collapsed": true
	   },
	   "outputs": [],
"source": [
"// Scilab Code Ex16.4 Behaviour of paramagnetic salt when placed in uniform magnetic field: Page-514 (2010)\n",
"k = 1.38e-023;    // Boltzmann constant, joule per mole per kelvin\n",
"T = 300;    // Thermal energy of specimen, joule\n",
"mu_B = 9.27e-024;    // Bohr's magneton, ampere per metre square\n",
"mu_0 = 4*%pi*1e-07;    // Magnetic permeability of free space, henry per metre\n",
"N = 1e+28;    // Concentration of paramagnetic ions in paramagnetic salt, per metre cube\n",
"mu_m = mu_B;\n",
"H = 1e+06;    // Applied magnetic field, A/m\n",
"chi = mu_0*N*mu_m^2/(3*k*T);    // Paramagnetic susceptibility of salt at room temperature\n",
"M = chi*H;    // Intensity of magnetization at room temperature, A/m\n",
"printf('\nThe paramagnetic susceptibility of salt at room temperature = %3.1e', chi);\n",
"printf('\nThe intensity of magnetization of salt = %d A/m', round(M));\n",
"// Result \n",
"// The paramagnetic susceptibility of salt at room temperature = 8.7e-005\n",
"// The intensity of magnetization of salt = 87 A/m"
   ]
   }
],
"metadata": {
		  "kernelspec": {
		   "display_name": "Scilab",
		   "language": "scilab",
		   "name": "scilab"
		  },
		  "language_info": {
		   "file_extension": ".sce",
		   "help_links": [
			{
			 "text": "MetaKernel Magics",
			 "url": "https://github.com/calysto/metakernel/blob/master/metakernel/magics/README.md"
			}
		   ],
		   "mimetype": "text/x-octave",
		   "name": "scilab",
		   "version": "0.7.1"
		  }
		 },
		 "nbformat": 4,
		 "nbformat_minor": 0
}
