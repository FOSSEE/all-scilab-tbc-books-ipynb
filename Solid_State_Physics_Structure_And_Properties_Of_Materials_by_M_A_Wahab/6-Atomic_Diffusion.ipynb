{
"cells": [
 {
		   "cell_type": "markdown",
	   "metadata": {},
	   "source": [
       "# Chapter 6: Atomic Diffusion"
	   ]
	},
{
		   "cell_type": "markdown",
		   "metadata": {},
		   "source": [
			"## Example 6.10: Activation_energy_for_diffusion_rates_at_different_temperatures.sci"
		   ]
		  },
  {
"cell_type": "code",
	   "execution_count": null,
	   "metadata": {
	    "collapsed": true
	   },
	   "outputs": [],
"source": [
"// Scilab Code Ex6.10 Activation energy for diffusion rates at different temperatures: Page 208 (2010)\n",
"R = 8.314;    // Molar gas constant, J/mol/K\n",
"T1 = 500+273;    // First temperature at which diffusion of A into B takes place, kelvin\n",
"T2 = 850+273;    // Second temperature at which diffusion of A into B takes place, kelvi\n",
"PDR = 1/4;    // Penetration depth ratio at 500 degree celsius and 850 degree celsius\n",
"// x1/x2 = sqrt(D1/D2) i.e. PDR = sqrt(DRR), DRR is the diffusion rate ratio\n",
"// solving for DRR\n",
"DRR = PDR^2;    // Diffusion rate ratio D1/D2 of A in B\n",
"// As diffusion coefficient at temperature T1 is D1 = D0*exp(-Q/(R*T1))\n",
"// and that at temperature T2 is D1 = D0*exp(-Q/(R*T2)), so that the diffusion rates ratio\n",
"// D1/D2 = DRR = exp(Q/R*(1/T2-1/T1)), solving for Q, we have\n",
"Q = R*log(DRR)/((1/T2-1/T1)*1000);    // Activation energy for diffusion of A in B, kJ/mol\n",
"printf('\nThe activation energy for diffusion of A in B = %5.2f kJ/mol', Q);\n",
"// Result\n",
"// The activation energy for diffusion of A in B = 57.17 kJ/mol"
   ]
   }
,
{
		   "cell_type": "markdown",
		   "metadata": {},
		   "source": [
			"## Example 6.11: Time_required_for_carburizing_of_steel.sci"
		   ]
		  },
  {
"cell_type": "code",
	   "execution_count": null,
	   "metadata": {
	    "collapsed": true
	   },
	   "outputs": [],
"source": [
"// Scilab Code Ex6.11 Time required for carburizing of steel: Page 209 (2010)\n",
"C0 = 0.0018;    // Intial carbon concentration of steel\n",
"Cx = 0.0030;    // Carbon concentration of steel at 0.60 mm below the surface of the gear\n",
"Cs = 0.01;    // Carbon concentration of steel at the surface\n",
"x = 0.6e-03;    // Diffusion depth below the surface of the gear, m\n",
"D_927 = 1.28e-011;    // Diffusion coefficient for carbon in iron, metre square per sec\n",
"erf_Z = (Cs-Cx)/(Cs-C0);    // Error function of Z as a solution to Fick's second law\n",
"Z1 = 1.0, Z2 = 1.1;    // Preceding and succeeding values about Z from error function table\n",
"erf_Z1 = 0.8427, erf_Z2 = 0.8802;    // Preceding and succeeding values about erf_Z from error function table\n",
"Z = poly(0,'Z');\n",
"Z = roots((Z-Z1)/(Z2-Z1)-(erf_Z-erf_Z1)/(erf_Z2-erf_Z1));\n",
"// As Z = x/(2*sqrt(D_927*t)), where Z is a constant argument of error function as erf(Z)\n",
"// Solving for t, we have\n",
"t = (x/(2*Z))^2/D_927;    // Time necessary to increase the carbon content of steel, sec\n",
"printf('\nThe time necessary to increase the carbon content of steel = %3d minutes', t/60);\n",
"// Result\n",
"// The time necessary to increase the carbon content of steel = 110 minutes"
   ]
   }
,
{
		   "cell_type": "markdown",
		   "metadata": {},
		   "source": [
			"## Example 6.12: Carbon_concentration_of_carburized_steel_at_certain_depth.sci"
		   ]
		  },
  {
"cell_type": "code",
	   "execution_count": null,
	   "metadata": {
	    "collapsed": true
	   },
	   "outputs": [],
"source": [
"// Scilab Code Ex6.12 Carbon concentration of carburized steel at certain depth: Page 210 (2010)\n",
"C0 = 0.0020;    // Initial carbon concentration of steel\n",
"Cs = 0.012;    // Carbon concentration of steel at the surface\n",
"t = 10*60*60;    // Carburizing time of steel, sec\n",
"x = 0.06*25.4*1e-03;    // Diffusion depth below the surface of the gear, mm\n",
"D_927 = 1.28e-011;    // Diffusion coefficient for carbon in iron, metre square per sec\n",
"Z = x/(2*sqrt(D_927*t)), // A constant argument of error function as erf(Z)\n",
"Z1 = 1.1, Z2 = 1.2;    // Preceding and succeeding values about Z from error function table\n",
"erf_Z1 = 0.8802, erf_Z2 = 0.9103;    // Preceding and succeeding values about erf_Z from error function table   \n",
"efZ = poly(0,'efZ');\n",
"efZ = roots((efZ-erf_Z1)/(erf_Z2-erf_Z1)-(Z-Z1)/(Z2-Z1)); // Error function of Z as a solution to Fick's second law\n",
"Cx = poly(0,'Cx');    \n",
"Cx = roots(efZ-(Cs-Cx)/(Cs-C0));  // Carbon concentration of carburized steel at 0.06 inch depth\n",
"printf('\nThe carbon concentration of carburized steel at 0.06 inch depth = %4.2f percent', Cx*100);\n",
"// Result\n",
"// The carbon concentration of carburized steel at 0.06 inch depth = 0.31 percent"
   ]
   }
,
{
		   "cell_type": "markdown",
		   "metadata": {},
		   "source": [
			"## Example 6.13: Depth_of_decarburization_below_the_surface_of_steel.sci"
		   ]
		  },
  {
"cell_type": "code",
	   "execution_count": null,
	   "metadata": {
	    "collapsed": true
	   },
	   "outputs": [],
"source": [
"// Scilab Code Ex6.13 Depth of decarburization below the surface of steel: Page 211 (2010)\n",
"C2 = 0.012;    // Initial carbon concentration of steel\n",
"Cx = 0.008;    // Carbon concentration of carburized steel at x metre depth\n",
"Cs = 0;    // Carbon concentration of steel at the surface\n",
"t = 5*60*60;    // Carburizing time of steel, sec\n",
"D_927 = 1.28e-011;    // Diffusion coefficient for carbon in iron, metre square per sec\n",
"erf_Z = abs((Cs-Cx)/(C2-Cs));    // Error function of Z as a solution to Fick's second law\n",
"Z1 = 0.65, Z2 = 0.70;    // Preceding and succeeding values about Z from error function table\n",
"erf_Z1 = 0.6420, erf_Z2 = 0.6778;    // Preceding and succeeding values about erf_Z from error function table \n",
"Z = poly(0,'Z');\n",
"Z = roots((Z-Z1)/(Z2-Z1)-(erf_Z-erf_Z1)/(erf_Z2-erf_Z1));\n",
"// As Z = x/(2*sqrt(D_927*t)), where Z is a constant argument of error function as erf(Z)\n",
"// Solving for x, we have\n",
"x = Z*2*sqrt(D_927*t); // Depth of decarburization below the surface of steel, m \n",
"printf('\nThe minimum depth upto which post machining is to be done = %4.2f mm', x*1000);\n",
"// Result\n",
"// The minimum depth upto which post machining is to be done = 0.66 mm"
   ]
   }
,
{
		   "cell_type": "markdown",
		   "metadata": {},
		   "source": [
			"## Example 6.14: Diffusion_depth_of_P_type_semiconductor.sci"
		   ]
		  },
  {
"cell_type": "code",
	   "execution_count": null,
	   "metadata": {
	    "collapsed": true
	   },
	   "outputs": [],
"source": [
"// Scilab Code Ex6.14 Diffusion depth of P-type semiconductor (B into Si): Page 212 (2010)\n",
"C0 = 0;    // Initial boron concentration of silicon\n",
"Cx = 1e+17;    // Boron concentration at depth x below the silicon surface\n",
"Cs = 1e+18;    // Boron concentration of silicon at the surface\n",
"T = 1100+273;    // Absolute temperature of the system, kelvin\n",
"t = 2*60*60;    // Time taken to diffuse boron into silicon, sec\n",
"D_1100 = 4e-013;    // Diffusion coefficient for boron in silicon, cm square per sec\n",
"erf_Z = abs((Cs-Cx)/(Cs-C0));    // Error function of Z as a solution to Fick's second law\n",
"Z1 = 1.1, Z2 = 1.2;    // Preceding and succeeding values about Z from error function table\n",
"erf_Z1 = 0.8802, erf_Z2 = 0.9103;    // Preceding and succeeding values about erf_Z from error function table \n",
"Z = poly(0,'Z');\n",
"Z = roots((Z-Z1)/(Z2-Z1)-(erf_Z-erf_Z1)/(erf_Z2-erf_Z1));\n",
"// As Z = x/(2*sqrt(D_927*t)), where Z is a constant argument of error function as erf(Z)\n",
"// Solving for x, we have\n",
"x = Z*2*sqrt(D_1100*t); // Diffusion depth of boron into silicon\n",
"printf('\nThe diffusion depth of boron into silicon = %4.2e cm', x);\n",
"// Result\n",
"// The diffusion depth of boron into silicon = 1.25e-004 cm "
   ]
   }
,
{
		   "cell_type": "markdown",
		   "metadata": {},
		   "source": [
			"## Example 6.1: Rate_of_diffusion_of_nitrogen_through_steel_wall.sci"
		   ]
		  },
  {
"cell_type": "code",
	   "execution_count": null,
	   "metadata": {
	    "collapsed": true
	   },
	   "outputs": [],
"source": [
"// Scilab Code Ex6.1 Rate of diffusion of nitrogen through steel wall: Page-195 (2010)\n",
"D = 1e-019;    // Diffusion coeffcient of nitrogen in steel at room temperature, metre square per sec\n",
"dc = 10;    // Concentration of nitrogen at the inner surface of the tank, kg per metre cube\n",
"dx = 10e-03;    // Thickness of the steel wall, m\n",
"J = D*(dc/dx);    // Fick's first law giving outward flux of nitrogen through steel wall of the tank, kg per metre square per second\n",
"printf('\nThe rate at which nitrogen escapes through the tank wall = %1.0e kg per metre square per sec', J);   \n",
"// Result\n",
"// The rate at which nitrogen escapes through the tank wall = 1e-016 kg per metre square per sec "
   ]
   }
,
{
		   "cell_type": "markdown",
		   "metadata": {},
		   "source": [
			"## Example 6.2: Rate_of_diffusion_of_copper_through_pure_Al_sheet.sci"
		   ]
		  },
  {
"cell_type": "code",
	   "execution_count": null,
	   "metadata": {
	    "collapsed": true
	   },
	   "outputs": [],
"source": [
"// Scilab Code Ex6.2 Rate of diffusion of copper through pure Al sheet: Page-196 (2010)\n",
"a = 4.05e-010;    // Lattice parameter of fcc Al, m\n",
"N = 4;    // Number of Al atoms per unit cell of fcc Al\n",
"n = N/a^3;    // Number of Al atoms per unit volume, per metre cube\n",
"D = 5.25e-013;    // Diffusion coeffcient of copper in Al at 550 degree celsius, metre square per sec\n",
"c1 = 0.19e-02;    // Atomic percent of copper at the surface, per unit volume\n",
"c2 = 0.18e-02;    // Atomic percent of copper at the the depth 1.2 mm from the surface, per unit volume\n",
"dc = (c2 - c1)*n;   // Change in concentration of copper at 1.2 mm depth of the surface, per metre cube\n",
"dx = 1.2e-03;    // Thickness of the pure Al sheet, m\n",
"J = -D*(dc/dx);    // Fick's first law giving outward flux of copper through the Al sheet, Cu atoms per metre square per second\n",
"printf('\nThe outward flux of copper through the Al sheet = %4.2e Cu atoms per metre square per sec', J);   \n",
"// Result\n",
"// The outward flux of copper through the Al sheet = 2.63e+015 Cu atoms per metre square per sec  "
   ]
   }
,
{
		   "cell_type": "markdown",
		   "metadata": {},
		   "source": [
			"## Example 6.3: Rate_of_diffusion_of_carbon_through_steel_bar.sci"
		   ]
		  },
  {
"cell_type": "code",
	   "execution_count": null,
	   "metadata": {
	    "collapsed": true
	   },
	   "outputs": [],
"source": [
"// Scilab Code Ex6.3 Rate of diffusion of carbon through steel bar: Page-196 (2010)\n",
"a = 3.65e-010;    // Lattice parameter of fcc structure of iron, m\n",
"D = 3e-011;    // Diffusion coeffcient of carbon in iron at 1000 degree celsius, metre square per sec\n",
"n1 = 20;    // Number of unit cells per carbon atom at the surface of steel\n",
"n2 = 30;    // Number of unit cells per carbon atom at a depth 1 mm from the surface of steel\n",
"c1 = 1/(n1*a^3);    // Atomic percent of carbon at the surface, per metre cube\n",
"c2 = 1/(n2*a^3);    // Atomic percent of carbon at a depth 1 mm from the surface, per metre cube\n",
"dx = 1e-03;    // Thickness of the steel bar, m\n",
"J = -D*((c2-c1)/dx);    // Fick's first law giving outward flux of carbon through the Steel bar, C atoms per metre square per second\n",
"J_uc = J*a^2*60;    // The number of carbon atoms diffusing through each unit cell per minute \n",
"printf('\nThe number of carbon atoms diffusing through each unit cell per minute = %2d atoms per minute', J_uc);   \n",
"// Result\n",
"// The number of carbon atoms diffusing through each unit cell per minute = 82 atoms per minute "
   ]
   }
,
{
		   "cell_type": "markdown",
		   "metadata": {},
		   "source": [
			"## Example 6.4: Diffusion_through_a_cylinder.sci"
		   ]
		  },
  {
"cell_type": "code",
	   "execution_count": null,
	   "metadata": {
	    "collapsed": true
	   },
	   "outputs": [],
"source": [
"// Scilab Code Ex6.4 Diffusion through a cylinder: Page-199 (2010)\n",
"r = 12;    // Radius of cylindrical crystal, mm\n",
"A1 = %pi*r^2;    // Cross-sectional area for diffusion through the cylinder, milli-metre square\n",
"t = 4e-07;    // Assume effective thickness of the surface to be 4 angstrom = two atomic diameters, mm\n",
"A2 = 2*%pi*r*t;    // Cross-sectional area for diffusion along the surface, milli-metre square\n",
"ratio = A2/A1;    // Ratio of two cross-sectional areas\n",
"printf('\nThe ratio of two cross-sectional areas = %4.2e', ratio);   \n",
"// Result\n",
"// The ratio of two cross-sectional areas = 6.67e-008  "
   ]
   }
,
{
		   "cell_type": "markdown",
		   "metadata": {},
		   "source": [
			"## Example 6.5: Diffusion_length_of_Li_in_Ge.sci"
		   ]
		  },
  {
"cell_type": "code",
	   "execution_count": null,
	   "metadata": {
	    "collapsed": true
	   },
	   "outputs": [],
"source": [
"// Scilab Code Ex6.5 Diffusion length of Li in Ge: Page-203 (2010)\n",
"D = 1e-010;    // Diffusion coefficient for Li in Ge, metre square per sec\n",
"t = 1*60*60;    // Time taken by diffusing Li to travel diffusion depth, sec\n",
"T = 500+273;    // absolute temperature of the system, kelvin\n",
"x = sqrt(D*t);    // Diffusion length of Li in Ge, m\n",
"printf('\nThe diffusion length of Li in Ge = %1.0e m', x);   \n",
"// Result\n",
"// The diffusion length of Li in Ge = 6e-004 m "
   ]
   }
,
{
		   "cell_type": "markdown",
		   "metadata": {},
		   "source": [
			"## Example 6.6: Diffusion_time_of_Li_in_Ge.sci"
		   ]
		  },
  {
"cell_type": "code",
	   "execution_count": null,
	   "metadata": {
	    "collapsed": true
	   },
	   "outputs": [],
"source": [
"// Scilab Code Ex6.6 Diffusion time of Li in Ge: Page-203 (2010)\n",
"D = 1e-010;    // Diffusion coefficient for Li in Ge, metre square per sec\n",
"T = 500+273;    // Absolute temperature of the system, kelvin\n",
"x = 0.2e-03;    // Diffusion length of Li in Ge, m\n",
"// Diffusion length is given by\n",
"// x = sqrt(D*t), solving for t\n",
"t = x^2/D;    // Time taken by diffusing Li to travel diffusion depth of 0.2 mm, sec\n",
"printf('\nThe time taken by diffusing Li to travel diffusion depth of 0.2 mm = %3d s', t);   \n",
"// Result\n",
"// The time taken by diffusing Li to travel diffusion depth of 0.2 mm = 400 s "
   ]
   }
,
{
		   "cell_type": "markdown",
		   "metadata": {},
		   "source": [
			"## Example 6.7: Diffusion_coefficent_of_Cu_in_Al.sci"
		   ]
		  },
  {
"cell_type": "code",
	   "execution_count": null,
	   "metadata": {
	    "collapsed": true
	   },
	   "outputs": [],
"source": [
"// Scilab Code Ex6.7 Diffusion coefficent of Cu in Al: Page 206 (2010)\n",
"D0 = 0.25e-04;    // Pre-exponential diffusion constant independent of temperature, metre square per second\n",
"T = 550+273;    // Absolute temperature of the system, kelvin\n",
"R = 8.314;    // Molar gas constant, J/mol/K\n",
"Q = 121e+03;    // The activation energy for diffusion, joule per mole\n",
"t = 1*60*60;    // Time taken by Cu to diffuse into Al, sec\n",
"D = D0*exp(-Q/(R*T));    // Diffusion coefficient of Cu in Al at 550 degree celsius, metre square per sec \n",
"x = sqrt(D*t);    // Diffusion length of Cu in Al, m\n",
"printf('\nThe diffusion coefficient of Cu in Al at 550 degree celsius = %4.2e metre square per sec', D);\n",
"printf('\nThe diffusion length of Cu in Al = %5.3f mm', x*1000);    \n",
"// Result\n",
"// The diffusion coefficient of Cu in Al at 550 degree celsius = 5.22e-013 metre square per sec\n",
"// The diffusion length of Cu in Al = 0.043 mm "
   ]
   }
,
{
		   "cell_type": "markdown",
		   "metadata": {},
		   "source": [
			"## Example 6.8: Activation_energy_for_diffusion_of_Ag_in_Si.sci"
		   ]
		  },
  {
"cell_type": "code",
	   "execution_count": null,
	   "metadata": {
	    "collapsed": true
	   },
	   "outputs": [],
"source": [
"// Scilab Code Ex6.8 Activation energy for diffusion of silver in silicon: Page 206 (2010)\n",
"R = 8.314;    // Molar gas constant, J/mol/K\n",
"T1 = 1350+273;    // First temperature at which difuusion of Ag into Si takes place, kelvin\n",
"T2 = 1100+273;    // Second temperature at which difuusion of Ag into Si takes place, kelvin\n",
"DRR = 8;    // Ratio of diffusion rates of Ag in Si at T1 and T2\n",
"// As diffusion coefficient at temperature T1 is D1 = D0*exp(-Q/(R*T1))\n",
"// and that at temperature T2 is D1 = D0*exp(-Q/(R*T2)), so that the diffusion rates ratio\n",
"// D1/D2 = DRR = exp(Q/R*(1/T2-1/T1)), solving for Q, we have\n",
"Q = R*log(DRR)/((1/T2-1/T1)*1000);    // Activation energy for diffusion of Ag in Si, kJ/mol\n",
"printf('\nThe activation energy for diffusion of Ag in Si = %3d kJ/mol', Q);\n",
"// Result\n",
"// The activation energy for diffusion of Ag in Si = 154 kJ/mol "
   ]
   }
,
{
		   "cell_type": "markdown",
		   "metadata": {},
		   "source": [
			"## Example 6.9: Arrhenius_rate_law.sci"
		   ]
		  },
  {
"cell_type": "code",
	   "execution_count": null,
	   "metadata": {
	    "collapsed": true
	   },
	   "outputs": [],
"source": [
"// Scilab Code Ex6.9 Activation energy and diffusion constant of a diffusion system obeying Arrhenius rate law: Page 207 (2010)\n",
"R = 1.987;    // Molar gas constant, cal/mol/K\n",
"D_1100 = 8e-013;    // Diffusivity of Ga in Si at 1100 degree celsius, cm square per sec\n",
"D_1300 = 1e-010;    // Diffusivity of Ga in Si at 1300 degree celsius, cm square per sec\n",
"T1 = 1100+273;    // First temperature at which diffusion of Ga into Si takes place, kelvin\n",
"T2 = 1300+273;    // Second temperature at which diffusion of Ga into Si takes place, kelvin\n",
"// Arrehenius equation in log10 form is  given by\n",
"// log10(D) = log10(D0)-Q/(2.303*R*T)    --- (a)\n",
"// Thus log10(D_1100) = log10(D0)-Q/(2.303*R*T1)     --- (i)\n",
"// log10(D_1300) = log10(D0)-Q/(2.303*R*T2)    --- (ii), \n",
"// On subtracting (ii) from (i), we get\n",
"// log10(D_1100/D_1300) = -Q/(2.303*R)*(1/T2-1/T1), solving for Q\n",
"Q = (2.303*log10(D_1100/D_1300)*R)/(1/T2-1/T1);    // Activation energy for diffusion of Ga in Si, cal/mol\n",
"// Putting Q in (ii) and solving for D0\n",
"D0 = exp(2.303*log10(D_1100)+Q/(R*T1))\n",
"// D0 = exp(2.303*log10(D_1300)+Q/(R*T2));    // Pre-exponential diffusion constant independent of temperature, cm square per sec\n",
"T = 1200+273;    // Temperature at which diffusion of Ga into Si is to be calculated, kelvin\n",
"// Substituting D0, Q, R and T in (a) and solving for D, we have\n",
"D = exp(2.303*log10(D0)-Q/(R*T));    // Diffusivity of the system, cm square per sec\n",
"printf('\nThe activation energy for diffusion of Ga in Si = %3d kcal/mol', Q/1000);\n",
"printf('\nThe pre-exponential diffusion constant, D0 = %5d cm square per sec', D0);\n",
"printf('\nThe diffusivity of the system = %4.2e cm square per sec', D);\n",
"// Result\n",
"// The activation energy for diffusion of Ga in Si = 103 kcal/mol\n",
"// The pre-exponential diffusion constant, D0 = 24893 cm square per sec\n",
"// The diffusivity of the system = 1.05e-011 cm square per sec"
   ]
   }
],
"metadata": {
		  "kernelspec": {
		   "display_name": "Scilab",
		   "language": "scilab",
		   "name": "scilab"
		  },
		  "language_info": {
		   "file_extension": ".sce",
		   "help_links": [
			{
			 "text": "MetaKernel Magics",
			 "url": "https://github.com/calysto/metakernel/blob/master/metakernel/magics/README.md"
			}
		   ],
		   "mimetype": "text/x-octave",
		   "name": "scilab",
		   "version": "0.7.1"
		  }
		 },
		 "nbformat": 4,
		 "nbformat_minor": 0
}
