{
"cells": [
 {
		   "cell_type": "markdown",
	   "metadata": {},
	   "source": [
       "# Chapter 15: Optical Properties of Materials"
	   ]
	},
{
		   "cell_type": "markdown",
		   "metadata": {},
		   "source": [
			"## Example 15.1: Photon_count_from_Planck_quantum_law.sci"
		   ]
		  },
  {
"cell_type": "code",
	   "execution_count": null,
	   "metadata": {
	    "collapsed": true
	   },
	   "outputs": [],
"source": [
"// Scilab Code Ex15.1 Determining Photon number by using Planck quantum law: Page-486 (2010)\n",
"h = 6.626e-034;    // Planck's constant, Js\n",
"f = 1760e+03;    // Frequency of the radio transmitter, Hz\n",
"P = 10e+03;    // Power of radio transmitter, W\n",
"E = h*f;    // Energy carried by one photon from Planck's law, J\n",
"N = P/E;    // Number of photons emitted per second, number per second\n",
"printf('\nThe number of photons emitted per second = %4.2e', N);\n",
"// Result \n",
"// The number of photons emitted per second = 8.58e+030\n",
""
   ]
   }
,
{
		   "cell_type": "markdown",
		   "metadata": {},
		   "source": [
			"## Example 15.2: Inicient_energy_of_photon_in_photoelectric_effect.sci"
		   ]
		  },
  {
"cell_type": "code",
	   "execution_count": null,
	   "metadata": {
	    "collapsed": true
	   },
	   "outputs": [],
"source": [
"// Scilab Code Ex15.2 Finding suitable energy for Photoelectric Effect from Na metal: Page-486 (2010)\n",
"e = 1.602e-019;    // Charge on an electron, C\n",
"h = 6.626e-034;    // Planck's constant, Js\n",
"c = 3.0e+08;    // Speed of light in vacuum, m/s\n",
"W = 2.3*e;        // Work function of Na metal, J\n",
"lambda = 2800e-010;    // Wavelength of incident light, m\n",
"f = c/lambda;    // Frequency of the incident light, Hz\n",
"E = h*f;    // Energy carried by one photon from Planck's law, J\n",
"printf('\nThe energy carried by each photon of radiation = %4.2f eV', E/e);\n",
"if E > W then\n",
"    printf('\nThe photoelectric effect is possible..');\n",
"else\n",
"    printf('\nThe photoelectric effect is impossible..');\n",
"end\n",
"// Result \n",
"// The energy carried by each photon of radiation = 4.43 eV\n",
"// The photoelectric effect is possible.. \n",
""
   ]
   }
,
{
		   "cell_type": "markdown",
		   "metadata": {},
		   "source": [
			"## Example 15.3: photon_count_for_green_wavelength_of_Hg.sci"
		   ]
		  },
  {
"cell_type": "code",
	   "execution_count": null,
	   "metadata": {
	    "collapsed": true
	   },
	   "outputs": [],
"source": [
"// Scilab Code Ex15.3 Finding number of photons for green wavelength of Hg: Page-487 (2010)\n",
"h = 6.626e-034;    // Planck's constant, Js\n",
"c = 3.0e+08;    // Speed of light in vacuum, m/s\n",
"lambda = 496.1e-09;    // Wavelength of green light of mercury, m\n",
"E_total = 1;    // Work done by photons from green light, J\n",
"f = c/lambda;    // Frequency of the green light, Hz\n",
"E = h*f;    // Energy carried by one photon from Planck's law, J\n",
"N = E_total/E;    // Number of photons of green light of Hg\n",
"printf('\nThe number of photons of green light of Hg = %3.1e', N);\n",
"// Result \n",
"// The number of photons of green light of Hg = 2.5e+018"
   ]
   }
,
{
		   "cell_type": "markdown",
		   "metadata": {},
		   "source": [
			"## Example 15.4: Photoelectric_effect_in_a_photocell.sci"
		   ]
		  },
  {
"cell_type": "code",
	   "execution_count": null,
	   "metadata": {
	    "collapsed": true
	   },
	   "outputs": [],
"source": [
"// Scilab Code Ex15.4 Photoelectric effect in a photocell: Page-487 (2010)\n",
"e = 1.602e-019;    // Charge on an electron, C\n",
"h = 6.626e-034;    // Planck's constant, Js\n",
"c = 3.0e+08;    // Speed of light in vacuum, m/s\n",
"lambda = 1849e-010;    // Wavelength of incident light, m\n",
"V_0 = 2.72;    // Stopping potential for emitted electrons, V\n",
"f = c/lambda;    // Frequency of incident radiation , Hz\n",
"E = h*f;    // Energy carried by one photon from Planck's law, J\n",
"T_max = e*V_0;    // Maximum kinetic energy of electrons, J\n",
"// We have, T_max = E - h*f_0 = h*f - W\n",
"f_0 = poly(0, 'f_0');    // Declare f_0 as variable\n",
"f_0 = roots(T_max - E + h*f_0);    // Threshold frequency for Cu metal, Hz\n",
"W = h*f_0/e;    // Work function of Cu metal, eV\n",
"printf('\nThe threhold frequency for Cu metal = %4.2e Hz', f_0);\n",
"printf('\nThe work function of Cu metal = %g eV', round(W));\n",
"printf('\nThe maximum kinetic energy of photoelectrons = %4.2f eV', T_max/e);\n",
"// Result \n",
"// The threhold frequency for Cu metal = 9.65e+014 Hz\n",
"// The work function of Cu metal = 4 eV\n",
"// The maximum kinetic energy of photoelectrons = 2.72 eV "
   ]
   }
,
{
		   "cell_type": "markdown",
		   "metadata": {},
		   "source": [
			"## Example 15.5: Energy_required_to_stimulate_the_emission_of_Na_doublets.sci"
		   ]
		  },
  {
"cell_type": "code",
	   "execution_count": null,
	   "metadata": {
	    "collapsed": true
	   },
	   "outputs": [],
"source": [
"// Scilab Code Ex15.5 Energy required to stimulate the emission of Na d-lines: Page-497 (2010)\n",
"e = 1.6e-019;    // Charge on an electron, C\n",
"h = 6.626e-034;    // Planck's constant, Js\n",
"c = 3.0e+08;    // Speed of light in vacuum, m/s\n",
"lambda_mean = 5893e-010;    // Wavelength of incident light, m\n",
"delta_E = h*c/(lambda_mean*e);    // The energy of the electron which must be transferred to the atoms of Na \n",
"printf('\nThe energy which must be transferred to stimulate the emission of Na d-lines = %5.3f eV', delta_E);\n",
"// Result \n",
"// The energy which must be transferred to stimulate the emission of Na d-lines = 2.108 eV"
   ]
   }
],
"metadata": {
		  "kernelspec": {
		   "display_name": "Scilab",
		   "language": "scilab",
		   "name": "scilab"
		  },
		  "language_info": {
		   "file_extension": ".sce",
		   "help_links": [
			{
			 "text": "MetaKernel Magics",
			 "url": "https://github.com/calysto/metakernel/blob/master/metakernel/magics/README.md"
			}
		   ],
		   "mimetype": "text/x-octave",
		   "name": "scilab",
		   "version": "0.7.1"
		  }
		 },
		 "nbformat": 4,
		 "nbformat_minor": 0
}
