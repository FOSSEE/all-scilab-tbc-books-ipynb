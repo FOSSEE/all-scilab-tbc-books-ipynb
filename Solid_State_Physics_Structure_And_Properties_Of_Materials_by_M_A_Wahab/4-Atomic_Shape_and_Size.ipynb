{
"cells": [
 {
		   "cell_type": "markdown",
	   "metadata": {},
	   "source": [
       "# Chapter 4: Atomic Shape and Size"
	   ]
	},
{
		   "cell_type": "markdown",
		   "metadata": {},
		   "source": [
			"## Example 4.1: Bohr_orbit_for_the_hydrogen_atom.sci"
		   ]
		  },
  {
"cell_type": "code",
	   "execution_count": null,
	   "metadata": {
	    "collapsed": true
	   },
	   "outputs": [],
"source": [
"// Scilab Code Ex4.1 Bohr's orbit for the hydrogen atom: Page-126 (2010)\n",
"n = 1;    // The ground state orbit of hydrogen atom\n",
"Z = 1;    // The atomic number of hydrogen\n",
"h = 6.626D-34; // Plank's constant, Js\n",
"eps_0 = 8.85D-12;    // Absolute electrical permittivity of free space, coulomb square per newton per metre square\n",
"e = 1.602D-19;    // Electronic charge, C\n",
"m = 9.1D-31;    // Electronic mass, kg\n",
"r_B = (n^2*h^2*eps_0)/(%pi*m*Z*e^2);  // Radius of first Bohr's orbit (Bohr radius), m\n",
"disp(r_B/1D-10, 'The radius of first Bohr orbit, in angstrom, is : ');\n",
"// Result \n",
"// The radius of first Bohr orbit, in angstrom, is :    \n",
"// 0.5295779"
   ]
   }
,
{
		   "cell_type": "markdown",
		   "metadata": {},
		   "source": [
			"## Example 4.2: Ionization_potentials_of_hydrogen_atom.sci"
		   ]
		  },
  {
"cell_type": "code",
	   "execution_count": null,
	   "metadata": {
	    "collapsed": true
	   },
	   "outputs": [],
"source": [
"// Scilab Code Ex4.2 Ionization potentials of hydrogen atom: Page-126 (2010)\n",
"Z = 1;    // The atomic number of hydrogen\n",
"h = 6.626D-34; // Plank's constant, Js\n",
"eps_0 = 8.85D-12;  // Absolute electrical permittivity of free space, coulomb square per newton per metre square\n",
"e = 1.602D-19;    // Electronic charge, C\n",
"m = 9.1D-31;    // Electronic mass, kg\n",
"E = zeros(1, 3); // Initialize three potentials to 0 value in a vector\n",
"for n = 1:1:3\n",
"    select n\n",
"    case 1 then\n",
"        state = 'First';\n",
"    case 2 then\n",
"        state = 'Second';\n",
"    else\n",
"        state = 'Third';\n",
"    end\n",
"E(1,n) = -(m*Z^2*e^4)/(8*eps_0^2*n^2*h^2*e);    // Energy of nth bohr orbit, eV\n",
"printf('\nThe %s Ionization Potential is : %5.3f eV',state, E(1,n));\n",
"end\n",
"// Result \n",
"// The First Ionization Potential is : -13.600 eV\n",
"// The Second Ionization Potential is : -3.400 eV\n",
"// The Third Ionization Potential is : -1.511 eV"
   ]
   }
,
{
		   "cell_type": "markdown",
		   "metadata": {},
		   "source": [
			"## Example 4.3: Univalent_radii_of_ions.sci"
		   ]
		  },
  {
"cell_type": "code",
	   "execution_count": null,
	   "metadata": {
	    "collapsed": true
	   },
	   "outputs": [],
"source": [
"// Scilab Code Ex4.3 Univalent radii of ions: Page-130 (2010)\n",
"S = 4.52;    // Screening constant for neon like configurations\n",
"Cn = 1;    // A constant determined by the quantum number, m; for simplicity it can be assumed as unity\n",
"Z_Na = 11;    // Atomic number of sodium\n",
"Z_F = 9;    // Atomic number of fluorine\n",
"Z_O = 8;    // Atomic number of oxygen\n",
"r_Na = Cn/(Z_Na - S);  // Radius of sodium ion, m\n",
"r_F = Cn/(Z_F - S);    // Radius of fluorine ion, m\n",
"r_ratio = r_Na/r_F;    // Radius ratio\n",
"r_Na = r_F*r_ratio;    // Calculating radius of sodium ion from r_ratio, m\n",
"// Given that r_Na + r_F = 2.31D-10, \n",
"// or r_Na + r_Na/0.69 = 2.31D-10, \n",
"// or r_Na(1 + 1/0.69) = 2.31D-10, solving for r_Na\n",
"r_Na = 2.31D-10/(1+1/0.69);    // Calculating radius of sodium, m\n",
"r_F = 2.31D-10 - r_Na;    // Calculating radius of fluorine from r_Na, m\n",
"Cn = r_Na*(Z_Na - S);    // Calculating Cn, m\n",
"r_O = Cn/(Z_O - S);    // Radius of oxygen, m\n",
"disp(r_Na/1D-10,'Radius of sodium ion, in angstrom, is :');\n",
"disp(r_F/1D-10, 'Radius of fluorine ion, in angstrom, is :');\n",
"disp(Cn/1D-10, 'Constant determined by quantum number is : ');\n",
"disp(r_O/1D-10, 'Radius of oxygen, in angstrom, is : ');\n",
"// Result \n",
"// Radius of sodium ion, in angstrom, is :   \n",
"// 0.9431361   \n",
"// Radius of fluorine ion, in angstrom, is :   \n",
"// 1.3668639  \n",
"// Constant determined by quantum number, in angstrom, is :    \n",
"// 6.1115219\n",
"// Radius of oxygen, in angstrom, is :    \n",
"// 1.7561845 "
   ]
   }
,
{
		   "cell_type": "markdown",
		   "metadata": {},
		   "source": [
			"## Example 4.4: Ionic_Radius_of_Si_ions_in_silicon_dioxide.sci"
		   ]
		  },
  {
"cell_type": "code",
	   "execution_count": null,
	   "metadata": {
	    "collapsed": true
	   },
	   "outputs": [],
"source": [
"// Scilab Code Ex4.4 Ionic Radius of Si ions in silicon dioxide: Page-131 (2010)\n",
"a = 7.12D-10;    //  Lattice parameter of the crystal. m\n",
"d = sqrt(3*a^2/16); // Si-Si distance from (0,0,0) to (1/4,1/4,1/4) \n",
"RO = 1.40D-10;    // Radius of oxygen, m\n",
"// Distance of oxygen ions between the two Si ions is 2*RSi+2*RO = d, solving for RSi\n",
"RSi = (d - 2*RO)/2;    // Radius of silicon ion, m\n",
"disp(RSi/1D-10, 'The radius of Si4+ ion, in angstrom, is : ');\n",
"//Result\n",
"// The radius of Si4+ ion, in angstrom, is :    \n",
"// 0.1415252"
   ]
   }
,
{
		   "cell_type": "markdown",
		   "metadata": {},
		   "source": [
			"## Example 4.5: Ionic_Radius_occupying_an_octahedral_position.sci"
		   ]
		  },
  {
"cell_type": "code",
	   "execution_count": null,
	   "metadata": {
	    "collapsed": true
	   },
	   "outputs": [],
"source": [
"// Scilab Code Ex4.5 Ionic Radius occupying an octahedral position: Page-138 (2010)\n",
"R_ratio = 0.414;    // Radius ratio for an octahedral void in am M+X- ionic lattice\n",
"R_x = 2.5D-10;    // Critical radius of X- anion, m\n",
"R_m = R_x*0.414;    // Radius of M+ cation, m\n",
"disp(R_m/1D-10, 'The radius of cation occupying octahedral position in an M+X- ionic solid, in angstrom, is : ');\n",
"//Result\n",
"// The radius of cation occupying octahedral position in an M+X- ionic solid, in angstrom, is :  \n",
"// 1.035 \n",
" "
   ]
   }
,
{
		   "cell_type": "markdown",
		   "metadata": {},
		   "source": [
			"## Example 4.6: Percentage_ionic_character_of_a_covalent_molecule.sci"
		   ]
		  },
  {
"cell_type": "code",
	   "execution_count": null,
	   "metadata": {
	    "collapsed": true
	   },
	   "outputs": [],
"source": [
"// Scilab Code Ex4.7 Percentage ionic character of a covalent molecule: Page-142 (2010)\n",
"x_A = 4.0;    // Electronegativity of fluorine\n",
"x_B = 2.1;    // Electronegativity of hydrogen\n",
"P = 16*(x_A - x_B) + 3.5*(x_A - x_B)^2; //Percentage ionic character of the covalent bond in HF molecule\n",
"printf('\nThe percentage ionic character in HF molecule is %5.2f percent', P);\n",
"//Result\n",
"// The percentage ionic character in HF molecule is 43.03 percent "
   ]
   }
,
{
		   "cell_type": "markdown",
		   "metadata": {},
		   "source": [
			"## Example 4.7: Metallic_radius_from_unit_cell_dimension.sci"
		   ]
		  },
  {
"cell_type": "code",
	   "execution_count": null,
	   "metadata": {
	    "collapsed": true
	   },
	   "outputs": [],
"source": [
"// Scilab Code Ex4.8 Calculating metallic radius from unit cell dimension: Page-146 (2010)\n",
"a = 2.81D-10;    // Unit cell dimension of bcc structure of iron, m\n",
"// For bcc structure we have\n",
"//        sqrt(3)*a = 4*R, solving for R\n",
"R = sqrt(3)/4*a;    // Metallic radius of iron atom, m\n",
"printf('\nThe metallic radius of iron atom is %4.2f angstrom', R/1D-10);\n",
"//Result\n",
"// The metallic radius of iron atom is 1.22 angstrom "
   ]
   }
,
{
		   "cell_type": "markdown",
		   "metadata": {},
		   "source": [
			"## Example 4.8: Metallic_radii_from_unit_cell_dimension.sci"
		   ]
		  },
  {
"cell_type": "code",
	   "execution_count": null,
	   "metadata": {
	    "collapsed": true
	   },
	   "outputs": [],
"source": [
"// Scilab Code Ex4.9 Calculating metallic radii from unit cell dimensions: Page-146 (2010)\n",
"a_Au = 4.08e-10;    // Unit cell dimension of fcc structure of gold, m\n",
"a_Pt = 3.91e-10;    // Unit cell dimension of fcc structure of platinum, m\n",
"// For fcc structure we have\n",
"//        sqrt(2)*a = 4*R, solving for R\n",
"R_Au = sqrt(2)/4*a_Au;    // Metallic radius of gold atom, m\n",
"R_Pt = sqrt(2)/4*a_Pt;    // Metallic radius of gold atom, m\n",
"printf('\nThe metallic radius of gold atom, in angstrom, is : %4.2f', R_Au/1D-10);\n",
"printf('\nThe metallic radius of platinum atom, in angstrom, is : %4.2f', R_Pt/1D-10);\n",
"//Result\n",
"// The metallic radius of gold atom, in angstrom, is : 1.44\n",
"// The metallic radius of platinum atom, in angstrom, is : 1.38"
   ]
   }
,
{
		   "cell_type": "markdown",
		   "metadata": {},
		   "source": [
			"## Example 4.9: Metallic_diameter_and_unit_cell_dimension_of_aluminium.sci"
		   ]
		  },
  {
"cell_type": "code",
	   "execution_count": null,
	   "metadata": {
	    "collapsed": true
	   },
	   "outputs": [],
"source": [
"// Scilab Code Ex4.10 Calculating metallic diameter and unit cell dimension of aluminium: Page-146 (2010)\n",
"Z_Al = 13;    // Atomic number of aluminium\n",
"A_Al = 26.98;    // Atomic mass of aluminium, g\n",
"d_Al = 2700D3;    // Density of aluminium, g per metre cube\n",
"n = 4;    // number of atoms in the fcc structure of aluminium\n",
"N = 6.023D+23;    // Avogadro's number\n",
"// We have number of atoms per fcc unit cell given as \n",
"// n = (V*d_Al*N)/A_Al, solving for V\n",
"// V = (n*A_Al)/(d_Al*N), V is the volume of the unit cell\n",
"// or a^3 = (n*A_Al)/(d_Al*N), solving for a \n",
"a = ((n*A_Al)/(d_Al*N))^(1/3);    // unit cell parameter of aluminium\n",
"// For an fcc structure we have \n",
"// sqrt(2)*a = 4*R = 2*D, solving for D\n",
"D = a/sqrt(2);    // metallic diameter of aluminium having fcc structure\n",
"printf('\nThe unit cell dimension of aluminium, is : %4.2f angstrom', a/1D-10);\n",
"printf('\nThe metallic diametre of aluminium, is : %4.2f angstrom', D/1D-10);\n",
"//Result\n",
"// The unit cell dimension of aluminium, is : 4.05 angstrom\n",
"// The metallic diametre of aluminium, is : 2.86 angstrom"
   ]
   }
],
"metadata": {
		  "kernelspec": {
		   "display_name": "Scilab",
		   "language": "scilab",
		   "name": "scilab"
		  },
		  "language_info": {
		   "file_extension": ".sce",
		   "help_links": [
			{
			 "text": "MetaKernel Magics",
			 "url": "https://github.com/calysto/metakernel/blob/master/metakernel/magics/README.md"
			}
		   ],
		   "mimetype": "text/x-octave",
		   "name": "scilab",
		   "version": "0.7.1"
		  }
		 },
		 "nbformat": 4,
		 "nbformat_minor": 0
}
