{
"cells": [
 {
		   "cell_type": "markdown",
	   "metadata": {},
	   "source": [
       "# Chapter 17: Superconductivity"
	   ]
	},
{
		   "cell_type": "markdown",
		   "metadata": {},
		   "source": [
			"## Example 17.1: Variation_of_critical_magnetic_field_with_temperature.sci"
		   ]
		  },
  {
"cell_type": "code",
	   "execution_count": null,
	   "metadata": {
	    "collapsed": true
	   },
	   "outputs": [],
"source": [
"// Scilab Code Ex17.1 Variation of critical magnetic field with temperature Page-537 (2010)\n",
"T_c = 3.7;    // Critical temperature of superconducting transition, kelvin\n",
"H_c0 = 0.0306;    // Critical magnetic field to destroy superconductivity, tesla\n",
"T = 2;    // Temperature at which critical magnetic field is to be found out, kelvin\n",
"H_cT = H_c0*(1-(T/T_c)^2);\n",
"printf('\nThe critical magnetic field at %d K = %f T', T, H_cT);\n",
"// Result \n",
"// The critical magnetic field at 2 K = 0.021659 T"
   ]
   }
,
{
		   "cell_type": "markdown",
		   "metadata": {},
		   "source": [
			"## Example 17.2: Temperature_variation_of_critical_magnetic_field_for_tin.sci"
		   ]
		  },
  {
"cell_type": "code",
	   "execution_count": null,
	   "metadata": {
	    "collapsed": true
	   },
	   "outputs": [],
"source": [
"// Scilab Code Ex17.2 Variation of critical magnetic field with temperature for tin Page-537 (2010)\n",
"T_c = 3.69;    // Critical temperature of superconducting transition, kelvin\n",
"B_c0 = 3e+5/(4*%pi);    // Critical magnetic field intensity to destroy superconductivity at zero kelvin, tesla\n",
"B_cT = 2e+5/(4*%pi);    // Critical magnetic field at temperature T kelvin\n",
"// T = 2;    // Temperature at which critical magnetic field is to be found out, kelvin\n",
"// since B_cT = B_c0*(1-(T/T_c)^2); // Critical magnetic field intensity as a function of temperature\n",
"// Solving for T\n",
"T = sqrt(1-B_cT/B_c0)*T_c;    // Temperature at which critical magnetic field becomes B_cT, kelvin   \n",
"printf('\nThe temperature at which critical magnetic field becomes %4.2e T = %4.2f K',B_cT,T); // Display result\n",
"// Result \n",
"// The temperature at which critical magnetic field becomes 1.59e+04 T = 2.13 K"
   ]
   }
,
{
		   "cell_type": "markdown",
		   "metadata": {},
		   "source": [
			"## Example 17.3: Critical_current_for_a_lead_wire_from_its_critical_temperature.sci"
		   ]
		  },
  {
"cell_type": "code",
	   "execution_count": null,
	   "metadata": {
	    "collapsed": true
	   },
	   "outputs": [],
"source": [
"// Scilab Code Ex17.3 Calculating critical current for a lead wire from critical temperature of lead Page-537 (2010)\n",
"T_c = 7.18;    // Critical temperature of superconducting transition for Pb, kelvin\n",
"H_c0 = 6.5e+4;    // Critical magnetic field intensity to destroy superconductivity at zero kelvin, A/m\n",
"T = 4.2;    // Temperature at which critical magnetic field becomes H_cT, kelvin  \n",
"d = 1e-03;    // Diameter of lead wire, m\n",
"H_cT = H_c0*(1-(T/T_c)^2);;    // Critical magnetic field intensity at temperature T kelvin, A/m\n",
"I_c = %pi*d*H_cT;    // Critical current through the lead wire, A\n",
"printf('\nThe critical current through the lead wire = %6.2f A', I_c);\n",
"\n",
"// Result \n",
"// The critical current through the lead wire = 134.33 A "
   ]
   }
,
{
		   "cell_type": "markdown",
		   "metadata": {},
		   "source": [
			"## Example 17.4: Dependence_of_London_penetration_depth_on_temperature.sci"
		   ]
		  },
  {
"cell_type": "code",
	   "execution_count": null,
	   "metadata": {
	    "collapsed": true
	   },
	   "outputs": [],
"source": [
"// Scilab Code Ex17.4 Dependence of London penetration depth on temperature Page-548 (2010)\n",
"N = 6.02e+023;    // Avogadro's number\n",
"rho = 13.55e+03;    // Density of mercury, kg per metre cube\n",
"M = 200.6e-03;    // Molecular mass of mercury, kg\n",
"lambda_T = 750e-010;    // Penetration depth of mercury at T kelvin, m\n",
"T_c = 4.12;    // Critical temperature of superconducting transition for Hg, kelvin\n",
"T = 3.5;    // Temperature at which penetration depth for Hg becomes lambda_T, kelvin   \n",
"lambda_0 = lambda_T*(1-(T/T_c)^4)^(1/2);    // Penetration depth of mercury at 0 kelvin, m\n",
"n_0 = N*rho/M;    // Normal electron density in mercury, per metre cube\n",
"n_s = n_0*(1-(T/T_c)^4);    // Superelectron density in mercury, per metre cube\n",
"printf('\nThe penetration depth at 0 K = %4.2e m', lambda_0);\n",
"printf('\nThe superconducting electron density = %4.2e per metre cube', n_s);\n",
"\n",
"// Result \n",
"// The penetration depth at 0 K = 5.19e-008 m\n",
"// The superconducting electron density = 1.95e+028 per metre cube "
   ]
   }
],
"metadata": {
		  "kernelspec": {
		   "display_name": "Scilab",
		   "language": "scilab",
		   "name": "scilab"
		  },
		  "language_info": {
		   "file_extension": ".sce",
		   "help_links": [
			{
			 "text": "MetaKernel Magics",
			 "url": "https://github.com/calysto/metakernel/blob/master/metakernel/magics/README.md"
			}
		   ],
		   "mimetype": "text/x-octave",
		   "name": "scilab",
		   "version": "0.7.1"
		  }
		 },
		 "nbformat": 4,
		 "nbformat_minor": 0
}
