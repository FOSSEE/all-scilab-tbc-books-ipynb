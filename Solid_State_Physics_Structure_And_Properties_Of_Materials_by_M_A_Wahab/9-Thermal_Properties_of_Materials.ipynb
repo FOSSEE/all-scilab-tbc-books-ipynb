{
"cells": [
 {
		   "cell_type": "markdown",
	   "metadata": {},
	   "source": [
       "# Chapter 9: Thermal Properties of Materials"
	   ]
	},
{
		   "cell_type": "markdown",
		   "metadata": {},
		   "source": [
			"## Example 9.1: Exception_of_Dulong_Petit_law_at_room_temperature.sci"
		   ]
		  },
  {
"cell_type": "code",
	   "execution_count": null,
	   "metadata": {
	    "collapsed": true
	   },
	   "outputs": [],
"source": [
"// Scilab Code Ex9.1 Exception of Dulong-Petit law at room temperature: Page-303(2010)\n",
"h = 6.626e-034;    // Planck's constant, joule second\n",
"k = 1.38e-023;    // Boltzmann constant, joule/mol/kelvin\n",
"T = 300;    // Room temperature, kelvin\n",
"f_Ag = 4.0e+012;    // Vibrational frequency for silver, cycles/second\n",
"f_Dia = 2.4e+013;    // Vibrational frequency for diamond, cycles/second\n",
"E_Ag = h*f_Ag;    // Vibrational Energy for silver, joule\n",
"E_Dia = h*f_Dia;    // Vibrational Energy for diamond, joule\n",
"E_th = k*T;    // Thermal energy at room temperature, joule\n",
"if E_th > E_Ag & E_th < E_Dia then \n",
"    printf('\nSince E_Ag < kT and E_Dia > kT, therefore,'); \n",
"    printf('\nSilver metal obeys the Dulong Petit law at room temperature while diamond does not.');\n",
"end\n",
"// Result \n",
"//Since E_Ag < kT and E_Dia > kT, therefore,\n",
"// Silver metal obeys the Dulong Petit law at room temperature while diamond does not. "
   ]
   }
,
{
		   "cell_type": "markdown",
		   "metadata": {},
		   "source": [
			"## Example 9.2: Specific_heat_of_copper_from_Debye_temperature.sci"
		   ]
		  },
  {
"cell_type": "code",
	   "execution_count": null,
	   "metadata": {
	    "collapsed": true
	   },
	   "outputs": [],
"source": [
"// Scilab Code Ex9.2 Specific heat of copper from Debye temperature: Page-311(2010)\n",
"h = 6.626e-034;    // Planck's constant, joule second\n",
"k = 1.38e-023;    // Boltzmann constant, joule/mol/kelvin\n",
"T = 30;    // Given temperature, kelvin\n",
"N = 6.023e+023;    // Avogadro's number\n",
"R = N*k;    // Universal gas constant, joule/kelvin \n",
"v_l = 4.76e+03;    // Longitudinal velocity of lattice waves, m/s\n",
"v_t = 2.32e+03;    // Tranverse velocity of lattice waves, \n",
"rho = 8.9e+03;    // Density of copper, kg per metre cube\n",
"A_Cu = 63.5;    // Gram atomic mass of Cu, g\n",
"M = A_Cu*1e-03;    // Mass of 1 mole of Cu-atoms, kg\n",
"V = M/rho;    // Volume of copper, metre cube\n",
"theta_D = (h/k)*((9*N)/((4*%pi*V)*((1/v_l^3)+(2/v_t^3))))^(1/3);    // Debye temperature of copper, K\n",
"C_v = 12/5*%pi^4*R*(T/theta_D)^3;    // Specific heat of copper, kJ/kmol/kelvin\n",
"printf('\nThe specific heat of copper = %4.2f kJ/kmol/kelvin', C_v); \n",
"// Result \n",
"// The specific heat of copper = 1.33 kJ/kmol/kelvin "
   ]
   }
,
{
		   "cell_type": "markdown",
		   "metadata": {},
		   "source": [
			"## Example 9.3: Vibrational_frequency_and_molar_heat_capacity_of_diamond.sci"
		   ]
		  },
  {
"cell_type": "code",
	   "execution_count": null,
	   "metadata": {
	    "collapsed": true
	   },
	   "outputs": [],
"source": [
"// Scilab Code Ex9.3 Vibrational frequency and molar heat capacity of diamond: Page-312(2010)\n",
"h = 6.626e-034;    // Planck's constant, joule second\n",
"k = 1.38e-023;    // Boltzmann constant, joule/mol/kelvin\n",
"T = 10;    // Given temperature, kelvin\n",
"N = 6.023e+023;    // Avogadro's number\n",
"R = N*k;    // Universal gas constant, joule/kelvin \n",
"theta_D = 2230;    // Debye temperature for diamond, kelvin\n",
"f_D = k*theta_D/h;    // Debye frequency of diamond, hertz\n",
"C_v = 12/5*%pi^4*R*1e+03*(T/theta_D)^3;    // Specific heat of diamond, J/kmol/kelvin\n",
"printf('\nThe highest possible vibrational frequency of diamond = %4.2e per second', f_D); \n",
"printf('\nThe molar specific heat of diamond = %5.3f J/kmol/kelvin', C_v); \n",
"// Result \n",
"// The highest possible vibrational frequency of diamond = 4.64e+013 per second\n",
"// The molar specific heat of diamond = 0.175 J/kmol/kelvin"
   ]
   }
,
{
		   "cell_type": "markdown",
		   "metadata": {},
		   "source": [
			"## Example 9.4: Debye_temperature_of_copper_at_low_temperature.sci"
		   ]
		  },
  {
"cell_type": "code",
	   "execution_count": null,
	   "metadata": {
	    "collapsed": true
	   },
	   "outputs": [],
"source": [
"// Scilab Code Ex9.4 Debye temperature of copper at low temperature: Page-312(2010)\n",
"k = 1.38e-023;    // Boltzmann constant, joule/mol/kelvin\n",
"N = 6.023e+023;    // Avogadro's number\n",
"R = N*k;    // Universal gas constant, joule/kelvin \n",
"C_vl = 4.6e-02;    // Lattice specific heat, J/kmol/K\n",
"// Lattice specific heat C_vl = Molar lattice specific heat, C_v\n",
"// or    12/5*%pi^4*R/(5*theta_D^3) = C_vl\n",
"// solving for theta_D, we have\n",
"theta_D = (12*%pi^4*R*1e+03/(5*C_vl))^(1/3);    // Debye temperature of copper at low temperature, K\n",
"printf('\nDebye temperature of copper at low temperature = %3d K', theta_D);\n",
"// Result \n",
"// Debye temperature of copper at low temperature = 348 K "
   ]
   }
,
{
		   "cell_type": "markdown",
		   "metadata": {},
		   "source": [
			"## Example 9.5: Debye_temperature_for_gold.sci"
		   ]
		  },
  {
"cell_type": "code",
	   "execution_count": null,
	   "metadata": {
	    "collapsed": true
	   },
	   "outputs": [],
"source": [
"// Scilab Code Ex9.5 Debye temperature for gold : Page-313(2010)\n",
"h = 6.626e-034;    // Planck's constant, Js\n",
"k = 1.38e-023;    // Boltzmann constant, joule/mol/kelvin\n",
"N = 6.023e+023;    // Avogadro's number\n",
"R = N*k;    // Universal gas constant, joule/kelvin \n",
"M = 197e-03;    // Gram atomic weight of gold, g\n",
"rho = 1.9e+04;    // Density of gold, kg per metre cube\n",
"V = M/rho;    // Volume of gold, metre cube\n",
"v = 2100;    // Velocity of sound in gold medium, m/s\n",
"theta_D = h*v/k*(9*N/(12*%pi*V))^(1/3);    // Debye temperature for gold, K\n",
"printf('\nDebye temperature of gold = %3d K', theta_D);\n",
"// Result \n",
"// Debye temperature of gold = 242 K"
   ]
   }
,
{
		   "cell_type": "markdown",
		   "metadata": {},
		   "source": [
			"## Example 9.6: Heat_transference_into_rock_salt_at_low_temperature.sci"
		   ]
		  },
  {
"cell_type": "code",
	   "execution_count": null,
	   "metadata": {
	    "collapsed": true
	   },
	   "outputs": [],
"source": [
"// Scilab Code Ex9.6 Heat transference into rock salt at low temperature: Page-313(2010)\n",
"A = 464;    // Atomic specific heat of rock salt, cal g/mol/kelvin\n",
"theta_D = 281;    // Debye temperature of rock salt, K\n",
"delta_T = 10;    // Rise in temperature in each class interval, K\n",
"// Define a function which returns lattice specific heat at constant volume\n",
"function[C_vl] = lattice_SH(T)\n",
"    C_vl = A*(T/theta_D)^3;\n",
"endfunction\n",
"Q = 0;    // Initialize heat accumulator to zero, cal\n",
"for t = 10:10:40\n",
"    mean_temp = (t + (t + 10))/2;    // Calculate mean temperature of each class interval, K \n",
"    Q = Q + 2*delta_T*lattice_SH(mean_temp);    // Acuumulate heat for each step\n",
"end\n",
"printf('\nThe amount of heat required to raise the temperature of 2 gmol of Rock salt from 10K to 50K = %5.2f cal', Q);\n",
"// Result \n",
"// The amount of heat required to raise the temperature of 2 gmol of Rock salt from 10K to 50K = 63.99 cal"
   ]
   }
],
"metadata": {
		  "kernelspec": {
		   "display_name": "Scilab",
		   "language": "scilab",
		   "name": "scilab"
		  },
		  "language_info": {
		   "file_extension": ".sce",
		   "help_links": [
			{
			 "text": "MetaKernel Magics",
			 "url": "https://github.com/calysto/metakernel/blob/master/metakernel/magics/README.md"
			}
		   ],
		   "mimetype": "text/x-octave",
		   "name": "scilab",
		   "version": "0.7.1"
		  }
		 },
		 "nbformat": 4,
		 "nbformat_minor": 0
}
