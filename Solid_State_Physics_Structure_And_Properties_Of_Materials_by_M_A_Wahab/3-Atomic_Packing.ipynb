{
"cells": [
 {
		   "cell_type": "markdown",
	   "metadata": {},
	   "source": [
       "# Chapter 3: Atomic Packing"
	   ]
	},
{
		   "cell_type": "markdown",
		   "metadata": {},
		   "source": [
			"## Example 3.1: Packing_of_spheres_in_2D_square_lattice.sci"
		   ]
		  },
  {
"cell_type": "code",
	   "execution_count": null,
	   "metadata": {
	    "collapsed": true
	   },
	   "outputs": [],
"source": [
"// Scilab Code Ex3.1 Packing of equal spheres in two dimensional square lattice:  Page-88 (2010)\n",
"// Here we may assume square of unit length i.e. a = 1 such that radius of sphere, R = a/2 = 0.5\n",
"a = 1;     // Length of the side of the square, unit\n",
"R = a/2;     // Radius of the sphere, unit\n",
"r = (sqrt(2)-1)*R; // Radius of the sphere introduced within the void produced by the packing of equal spheres on square lattice, unit\n",
"A = %pi*R^2; // Area associated with a sphere, square units\n",
"FA = a^2-A;    // Free area occupied by void in square lattice, square units\n",
"FA_per = FA*100;    // Percentage free area in square lattice \n",
"printf('\nFree area in square lattice is : %4.1f percent', FA_per);\n",
"//Result \n",
"// Free area in square lattice is : 21.5 percent"
   ]
   }
,
{
		   "cell_type": "markdown",
		   "metadata": {},
		   "source": [
			"## Example 3.2: Packing_efficiency_in_diamond_structure.sci"
		   ]
		  },
  {
"cell_type": "code",
	   "execution_count": null,
	   "metadata": {
	    "collapsed": true
	   },
	   "outputs": [],
"source": [
"// Scilab Code Ex3.2 Packing efficiency in diamond structure: Page-92 (2010)\n",
"// For simplicity we may take radius of the atom, R = 1 unit\n",
"R = 1;    // Radius of the atom in bcc lattice, unit\n",
"nc = 8;    // Number of corner atoms in diamond structure\n",
"nfcc = 6;  // Number of face centred atoms in diamond structure\n",
"na = 4;    // Number of atoms completely within the unit cell\n",
"n = 1/8*nc+1/2*nfcc+1*na; // Effective number of atoms in the diamond structure\n",
"V_atom = 8*4/3*%pi*R^3;  // Volume of atoms within the unit cell, unit cube \n",
"// Since for a diamond cubic crystal, the space lattice is fcc, with two atos per lattice point, such that 8*R = sqrt(3)*a, solving for a\n",
"a = 8*R/sqrt(3); // lattice parameter of diamond structure, unit\n",
"V_cell = a^3;    // Volume of the unit cell, unit cube\n",
"eta = V_atom/V_cell*100; // Packing efficiency in diamond structure\n",
"printf('\nThe packing efficiency in diamond structure is : %2.0f percent', eta);\n",
"//Result \n",
"// The packing efficiency in diamond structure is : 34 percent"
   ]
   }
,
{
		   "cell_type": "markdown",
		   "metadata": {},
		   "source": [
			"## Example 3.3: Radius_of_largest_sphere_at_octahedral_void.sci"
		   ]
		  },
  {
"cell_type": "code",
	   "execution_count": null,
	   "metadata": {
	    "collapsed": true
	   },
	   "outputs": [],
"source": [
"// Scilab Code Ex3.3 Radius of largest sphere that can be placed at the octahedral void: Page-100 (2010)\n",
"// For simplicity we may take radius of the atom, R = 1 unit\n",
"R = 1;    // Radius of the atom in bcc lattice, unit\n",
"// For a bcc lattice, 4*R = a*sqrt(3), solving for a \n",
"a = 4*R/sqrt(3); // lattice parameter of bcc crystal, unit\n",
"// Since R + Rx = a/2, solving for Rx\n",
"Rx = a/2 - R;  // Radius of the largest sphere that will fit into the octahedral void, unit\n",
"printf('\nThe radius of the largest sphere that will fit into the octahedral void is : %5.3fR', Rx);\n",
"//Result \n",
"// The radius of the largest sphere that will fit into the octahedral void is : 0.155R"
   ]
   }
,
{
		   "cell_type": "markdown",
		   "metadata": {},
		   "source": [
			"## Example 3.4: Radius_of_largest_sphere_at_tetrahedral_void.sci"
		   ]
		  },
  {
"cell_type": "code",
	   "execution_count": null,
	   "metadata": {
	    "collapsed": true
	   },
	   "outputs": [],
"source": [
"// Scilab Code Ex3.4 Radius of largest sphere that can be placed at the tetrahedral void: Page-100 (2010)\n",
"// For simplicity we may take radius of the atom, RL = 1 unit\n",
"RL = 1;    // Radius of the atom in bcc lattice, unit\n",
"// For a bcc lattice, 4*RL = a*sqrt(3), solving for a \n",
"a = 4*RL/sqrt(3); // Lattice parameter of bcc crystal, unit\n",
"// Further RL + Rx = sqrt(5)*a/4, solving for Rx\n",
"Rx = sqrt(5)*a/4-RL;  // Radius of the largest sphere that will fit into the octahedral void, unit\n",
"printf('\nThe radius of the largest sphere that will fit into the tetrahedral void is : %5.3fRL', Rx);\n",
"//Result \n",
"// The radius of the largest sphere that will fit into the tetrahedral void is : 0.291RL"
   ]
   }
,
{
		   "cell_type": "markdown",
		   "metadata": {},
		   "source": [
			"## Example 3.5: Diameter_of_the_largest_atom_at_tetrahedral_void.sci"
		   ]
		  },
  {
"cell_type": "code",
	   "execution_count": null,
	   "metadata": {
	    "collapsed": true
	   },
	   "outputs": [],
"source": [
"// Scilab Code Ex3.5 Diameter of the largest atom that would fit into the tetrahedral void:5 Page-101 (2010)\n",
"a = 3.52D-10;    // Lattice parameter for Ni, m\n",
"// For an fcc lattice, sqrt(2)*a = 4*R, solving for R\n",
"R = sqrt(2)*a/4;    // Radius of the atom in fcc lattice, m\n",
"R_oct = 0.414*R;    // Radius of the octahedral void in fcc close packing, m\n",
"D = 2*R_oct;    // Diameter of the octahedral void in the fcc structure of nickel, m\n",
"disp(D/1D-10, 'The diameter of the octahedral void in the fcc structure of nickel, in angstrom, is : ');\n",
"//Result \n",
"// The diameter of the octahedral void in the fcc structure of nickel, in angstrom, is :  \n",
"// 1.0304526"
   ]
   }
,
{
		   "cell_type": "markdown",
		   "metadata": {},
		   "source": [
			"## Example 3.6: Void_space_in_cubic_close_packing.sci"
		   ]
		  },
  {
"cell_type": "code",
	   "execution_count": null,
	   "metadata": {
	    "collapsed": true
	   },
	   "outputs": [],
"source": [
"// Scilab Code Ex3.6 Void space in cubic close packing: Page-101 (2010)\n",
"R = 1;    // For simplicity, radius of the sphere, m\n",
"// For cubic close packing, side of the unit cell and the radius of the sphere is related as\n",
"//     sqrt(2)*a = 4*R, solving for a\n",
"a = 2*sqrt(2)*R;    // Lattice parameter for cubic close packing, m\n",
"V_cell = a^3;    // Volume of the unit cell\n",
"n = 4;    // Number of lattice points in fcc unit cell\n",
"V_occupied = 4*4/3*%pi*((1.000)^3+(0.414)^3+2*(0.225)^3); // Volume occupied by the atoms, metre cube\n",
"void_space = V_cell - V_occupied;     // Void space in the close packing\n",
"percent_void = void_space/V_cell*100; // Percentage void space\n",
"printf('\nThe void space in the close packing is : %2.0f percent', percent_void);\n",
"//Result \n",
"// The void space in the close packing is : 19 percent"
   ]
   }
,
{
		   "cell_type": "markdown",
		   "metadata": {},
		   "source": [
			"## Example 3.7: The_Minimum_value_of_radius_ratio_in_a_compound.sci"
		   ]
		  },
  {
"cell_type": "code",
	   "execution_count": null,
	   "metadata": {
	    "collapsed": true
	   },
	   "outputs": [],
"source": [
"// Scilab Code Ex3.7 The minimum value of radius ratio in AX-compound: Page-104 (2010)\n",
"// For simplicity we may assume a = 1\n",
"a = 1;    // Lattice parameter of the crystal, unit\n",
"b = 2/3*a*sin(%pi/3);    // Lattice parameter of the crystal, unit\n",
"// Here a = 2*Rx, where a is the lattice parameter and Rx is the radius of X-ions representing the bigger spheres, solving for Rx\n",
"Rx = 0.5*a; \n",
"// Also b = RA + Rx, solving for RA\n",
"RA = b - Rx;    // Radius of A-ion representing teh smaller sphere, unit\n",
"Rad_ratio = RA/Rx;    // Radius ratio in AX compound\n",
"printf('\nThe minimum value of radius ratio in AX compound is : %5.3f', Rad_ratio);\n",
"// Result \n",
"// The minimum value of radius ratio in AX compound is : 0.155"
   ]
   }
],
"metadata": {
		  "kernelspec": {
		   "display_name": "Scilab",
		   "language": "scilab",
		   "name": "scilab"
		  },
		  "language_info": {
		   "file_extension": ".sce",
		   "help_links": [
			{
			 "text": "MetaKernel Magics",
			 "url": "https://github.com/calysto/metakernel/blob/master/metakernel/magics/README.md"
			}
		   ],
		   "mimetype": "text/x-octave",
		   "name": "scilab",
		   "version": "0.7.1"
		  }
		 },
		 "nbformat": 4,
		 "nbformat_minor": 0
}
