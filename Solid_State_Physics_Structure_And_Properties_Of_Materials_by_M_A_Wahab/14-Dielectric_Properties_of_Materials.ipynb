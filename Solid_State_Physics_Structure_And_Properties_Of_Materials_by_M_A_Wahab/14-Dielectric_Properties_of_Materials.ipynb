{
"cells": [
 {
		   "cell_type": "markdown",
	   "metadata": {},
	   "source": [
       "# Chapter 14: Dielectric Properties of Materials"
	   ]
	},
{
		   "cell_type": "markdown",
		   "metadata": {},
		   "source": [
			"## Example 14.1: Polarization_of_water_molecule.sci"
		   ]
		  },
  {
"cell_type": "code",
	   "execution_count": null,
	   "metadata": {
	    "collapsed": true
	   },
	   "outputs": [],
"source": [
"// Scilab Code Ex14.1 Polarization of water molecule: Page-456 (2010)\n",
"NA = 6.023e+23;    // Avogadro's number\n",
"p = 6e-030;    // Dipole moment of water molecule, C-m\n",
"r = 1e-03;    // Radius of water molecule, m\n",
"M = 18e-03;       // Molecular weight of water, kg\n",
"d = 1e+03;    // Density of water, kg per metre cube\n",
"V = M/d;    // Volume of water, metre cube\n",
"// Now M/d metre cube volume will contain NA = 6.023e+023 water molecules, so that 4*%pi/3*(r^3) metre cube volume will contain \n",
"N = NA*d*4*%pi*r^3/(M*3);    // Number of water molecules per metre cube\n",
"P = N*p;    // Polarization of water molecules, coulomb per metre square\n",
"printf('\nThe polarization of water molecules = %3.1e coulomb per metre square', P);\n",
"// Result \n",
"// The polarization of water molecules = 8.4e-010 coulomb per metre square \n",
""
   ]
   }
,
{
		   "cell_type": "markdown",
		   "metadata": {},
		   "source": [
			"## Example 14.2: Dielectric_constant_from_electric_polarizability_of_the_atom.sci"
		   ]
		  },
  {
"cell_type": "code",
	   "execution_count": null,
	   "metadata": {
	    "collapsed": true
	   },
	   "outputs": [],
"source": [
"// Scilab Code Ex14.2 Calculating dielectric constant from electric polarizability of the atom: Page-464 (2010)\n",
"alpha_Kr = 2.18e-040;    // Electric polarizability of the Kr-atom, farad-metre square\n",
"NA = 6.023e+023;    // Avogadro's number\n",
"epsilon_0 = 8.85e-012;    // Electrical permittivity of free space, coulomb square per newton per metre square\n",
"N = NA/(22.4e-03);    // Number of Kr atoms per metre cube\n",
"epsilon_r = N*alpha_Kr/epsilon_0 + 1;    // Relative electrical permittivity of Kr specimen\n",
"printf('\nThe diectric constant of Kr specimen = %7.5f', epsilon_r);\n",
"// Result \n",
"// The diectric constant of Kr specimen = 1.00066\n",
""
   ]
   }
,
{
		   "cell_type": "markdown",
		   "metadata": {},
		   "source": [
			"## Example 14.3: Electric_polarizability_of_a_molecule_from_its_susceptibility.sci"
		   ]
		  },
  {
"cell_type": "code",
	   "execution_count": null,
	   "metadata": {
	    "collapsed": true
	   },
	   "outputs": [],
"source": [
"// Scilab Code Ex14.3 Calculating electric polarizability of a molecule from its susceptibility: Page-464 (2010)\n",
"NA = 6.023e+023;    // Avogadro's number\n",
"epsilon_0 = 8.85e-012;    // Electrical permittivity of free space, coulomb square per newton per metre\n",
"chi = 0.985e-03;    // Electrical susceptibility of carbon-dioxide molecule\n",
"rho = 1.977;    // Density of carbon-dioxide, kg per metre cube\n",
"M = 44e-03;    // Molecular weight of CO2, kg\n",
"N = NA*rho/M;    // Number of molecules per unit volume, per metre cube\n",
"alpha = epsilon_0*chi/N;    // Total electric polarizability of carbon-dioxide, farad-metre square\n",
"printf('\nThe total electric polarizability of carbon-dioxide = %4.2e farad-metre square', alpha);\n",
"// Result \n",
"// The total electric polarizability of carbon-dioxide = 3.22e-040 farad-metre square \n",
""
   ]
   }
,
{
		   "cell_type": "markdown",
		   "metadata": {},
		   "source": [
			"## Example 14.4: Electric_polarizability_of_oxygen_atom.sci"
		   ]
		  },
  {
"cell_type": "code",
	   "execution_count": null,
	   "metadata": {
	    "collapsed": true
	   },
	   "outputs": [],
"source": [
"// Scilab Code Ex14.4 Calculating electric polarizability of Oxygen atom: Page-465 (2010)\n",
"e = 1.602e-019;    // Charge on an electron, coulomb\n",
"p = 0.5e-022;    // Dipole moment of oxygen atom, C-m\n",
"d = 4e-017;    // Distnace of the centre of negative charge cloud from the nucleus, m\n",
"epsilon_0 = 8.85e-012;    // Electrical permittivity of free space, coulomb square per newton per metre\n",
"// In equilibrium, Coulomb interaction = Lorentz force\n",
"// i.e.    8*e*E = (8*e)*(8*e)/(4*%pi*epsilon_0*d^2)\n",
"// Solving for E\n",
"E = 8*e/(4*%pi*epsilon_0*d^2);    // The strength of local electric field, volt per metre\n",
"// As p = alpha*E, solving for alpha\n",
"disp(E);\n",
"alpha = p/E;    // Atomic polarizability of oxygen, farad-metre square\n",
"printf('\nThe atomic polarizability of oxygen = %3.1e farad-metre square', alpha);\n",
"// Result \n",
"// The atomic polarizability of oxygen = 6.9e-048 farad-metre square \n",
""
   ]
   }
,
{
		   "cell_type": "markdown",
		   "metadata": {},
		   "source": [
			"## Example 14.5: Dipolar_polarization_of_HCl_molecule.sci"
		   ]
		  },
  {
"cell_type": "code",
	   "execution_count": null,
	   "metadata": {
	    "collapsed": true
	   },
	   "outputs": [],
"source": [
"// Scilab Code Ex14.5 Dipolar polarization of HCl molecule: Page-470 (2010)\n",
"k = 1.38e-023;    // Boltzmann constant, J/mol/K\n",
"T = 300;    // Temperature of the HCl vapour, kelvin\n",
"N = 1e+027;    // Number of HCL molecuels per unit volume, per metre cube\n",
"E = 1e+06;    // Electric field strength to which the HCL vapour is subjected, volt/m\n",
"p = 3.46e-030;    // The dipole moment of HCl molecule,C-m\n",
"alpha_d = p^2/(3*k*T);    // Dipolar polarizability of HCl molecule, farad-metre square\n",
"// As P = N*p = N*alpha_d*E\n",
"P = N*alpha_d*E;        // Orientational or Dipolar polarization of HCl molecule, coulomb per metre square\n",
"E_M = p*E;    // Magnetic energy stored in the dipole-field system, joule\n",
"E_Th = k*T;    // Thermal energy of the HCl molecule, joule\n",
"a = E_M/E_Th;    // Ratio of magnetic energy to the thermal energy\n",
"printf('\nThe orientational polarization of molecules in HCl vapour = %4.2e coulomb per metre square', P);\n",
"printf('\nThe ratio of magnetic energy to the thermal energy = %f << 1', a);\n",
"// Result \n",
"// The orientational polarization of molecules in HCl vapour = 9.64e-007 coulomb per metre square\n",
"// The ratio of magnetic energy to the thermal energy = 0.000836 << 1 \n",
""
   ]
   }
,
{
		   "cell_type": "markdown",
		   "metadata": {},
		   "source": [
			"## Example 14.6: Effect_of_molecular_deformation_on_polarizability.sci"
		   ]
		  },
  {
"cell_type": "code",
	   "execution_count": null,
	   "metadata": {
	    "collapsed": true
	   },
	   "outputs": [],
"source": [
"// Scilab Code Ex14.6 Effect of molecular deformation on polarizability: Page-471 (2010)\n",
"alpha_309 = 2.42e-039;    // Polarizability of ammonia molecule at 309 K, farad-metre square\n",
"alpha_448 = 1.74e-039;    // Polarizability of ammonia molecule at 448 K, farad-metre square\n",
"k = 1.38e-023;    // Boltzmann constant, J/mol/K\n",
"T1 = 309;    // First temperature of the experiment, kelvin\n",
"T2 = 448;    // Second temperature of the experiment, kelvin\n",
"// As alpha = alpha_i + alpha_d = alpha_i + p^2/(3*k*T) = alpha_i + bta/T\n",
"// where bta = p^2/(3*k)\n",
"// Thus alpha_309 = alpha_i + bta/309 and alpha_448 = alpha_i + bta/448\n",
"// Solving for bta\n",
"// bta(1/309-1/448) = alpha_309 - alpha_448   \n",
"bta = poly(0, 'bta');\n",
"bta = roots(bta*(1/309 - 1/448) - alpha_309 + alpha_448);    // bta = p^2/(3*k), farad-kelvin metre square\n",
"// Solving for alpha_i\n",
"alpha_i = alpha_309 - bta/309;    // Polarizability due to permanent dipole moment, farad-metre square \n",
"// Polarizability due to deformation of molecules = bta/T, bta = p^2/(3*k)\n",
"alpha_d_309 = bta/T1;    // Orientational polarizability at 309 K, farad-metre square\n",
"alpha_d_448 = bta/T2;    // Orientational polarizability at 448 K, farad-metre square\n",
"printf('\nThe polarizability due to permanent dipole moment = %4.1e farad-metre square', alpha_i);\n",
"printf('\nThe orientational polarization of ammonia at 309 K = %4.2e farad-metre square', alpha_d_309);\n",
"printf('\nThe orientational polarization of ammonia at 448 K = %4.2e farad-metre square', alpha_d_448);\n",
"// Result \n",
"// The polarizability due to permanent dipole moment = 2.3e-040 farad-metre square\n",
"// The orientational polarization of ammonia at 309 K = 2.19e-039 farad-metre square\n",
"// The orientational polarization of ammonia at 448 K = 1.51e-039 farad-metre square "
   ]
   }
],
"metadata": {
		  "kernelspec": {
		   "display_name": "Scilab",
		   "language": "scilab",
		   "name": "scilab"
		  },
		  "language_info": {
		   "file_extension": ".sce",
		   "help_links": [
			{
			 "text": "MetaKernel Magics",
			 "url": "https://github.com/calysto/metakernel/blob/master/metakernel/magics/README.md"
			}
		   ],
		   "mimetype": "text/x-octave",
		   "name": "scilab",
		   "version": "0.7.1"
		  }
		 },
		 "nbformat": 4,
		 "nbformat_minor": 0
}
