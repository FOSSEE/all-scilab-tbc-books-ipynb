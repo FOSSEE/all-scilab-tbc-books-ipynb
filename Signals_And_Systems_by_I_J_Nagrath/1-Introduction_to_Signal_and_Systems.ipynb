{
"cells": [
 {
		   "cell_type": "markdown",
	   "metadata": {},
	   "source": [
       "# Chapter 1: Introduction to Signal and Systems"
	   ]
	},
{
		   "cell_type": "markdown",
		   "metadata": {},
		   "source": [
			"## Example 1.11: Check_for_Periodicity.sce"
		   ]
		  },
  {
"cell_type": "code",
	   "execution_count": null,
	   "metadata": {
	    "collapsed": true
	   },
	   "outputs": [],
"source": [
"//Ex 1.11\n",
"//Check for peridicity\n",
"clc;\n",
"T=2*%pi/8;\n",
"z=2*T;\n",
"t=0:0.001:z\n",
"x=%i*exp(%i*8*t);\n",
"subplot(2,2,1),plot(x);//the plot shows that the above signal is periodic\n",
"\n",
"T=2*%pi/(-1+%i);\n",
"z=2*T;\n",
"disp('T cannot be complex so non periodic');\n",
"t=0:-0.001:z\n",
"x=exp((-1+%i)*abs(t));\n",
"subplot(2,2,2),plot(x);//the plot shows that the above signal is not periodic\n",
"\n",
"N=2*%pi/%pi;\n",
"z=2*N;\n",
"n=0:0.05:z\n",
"x=exp(%i*5*%pi*n);//exp(i*(4*pi+pi)*n)=exp(i*pi*n)\n",
"subplot(2,2,3),plot2d3(n,x);//the plot shows that the above signal is periodic\n",
"\n",
"k=1;\n",
"N=2*%pi*5/2;\n",
"z=2*N;\n",
"n=0:0.5:z\n",
"x=exp((%i*2/5)*(n+(1/3)));\n",
"subplot(2,2,4),plot2d3(n,x);//the plot shows that the above signal is periodic"
   ]
   }
,
{
		   "cell_type": "markdown",
		   "metadata": {},
		   "source": [
			"## Example 1.13: Check_for_Periodicity.sce"
		   ]
		  },
  {
"cell_type": "code",
	   "execution_count": null,
	   "metadata": {
	    "collapsed": true
	   },
	   "outputs": [],
"source": [
"//Ex 1.13\n",
"//Check for periodicity\n",
"clc;\n",
"T=2*%pi/6;\n",
"t=0:0.001:T*2\n",
"x=cos((6*t)+%pi/3);\n",
"subplot(3,2,1),plot(x);\n",
"disp('the plot shows that the above signal is periodic');\n",
"\n",
"T=2*%pi/(%i*%pi);\n",
"t=0:0.001:T*2\n",
"x=exp(%i*(%pi*abs(t-1)));//exp(%i*(%pi*t-1))=exp(%i*%pi*t)/exp(%i)\n",
"//since the period is a complex no so non periodic\n",
"disp('T cannot be complex so non periodic T=2*%pi/(%i*%pi)');\n",
"\n",
"//pi=22/7\n",
"T=2*%pi/4;//calc the fundamental period\n",
"z=2*T;\n",
"t=0:1/100:z\n",
"x=(cos(2*t+%pi/3))^2; //sinusoid function\n",
"subplot(3,2,2),plot(x) \n",
"disp('the plot shows that the above signal is periodic');\n",
"\n",
"k=1;\n",
"N=2*k*7/6;\n",
"z=2*N;\n",
"n=0:1/100:z \n",
"x=cos((6*%pi*n/7)+1);\n",
"subplot(3,2,3),plot(x);//the plot shows that the above signal is periodic\n",
"disp('the plot shows that the above signal is periodic');\n",
"\n",
"k=1;\n",
"N=2*%pi*k*8;\n",
"z=2*N;\n",
"n=0:1/100:z \n",
"x=sin((n/8)-%pi);\n",
"subplot(3,2,4),plot(x);//the plot shows that the above signal is periodic\n",
"disp('the plot shows that the above signal is periodic');\n",
"\n",
"k=1;\n",
"N=2*k*12;//2*cos(n*%pi/4).*cos(n*%pi/3)=cos(7*n*%pi/12)-cos(n*%pi/12)\n",
"z=2*N;\n",
"n=0:1/100:z \n",
"x=2*cos(n*%pi/4).*cos(n*%pi/3);\n",
"subplot(3,1,3),plot(x);//the plot shows that the above signal is periodic\n",
"disp('the plot shows the above signal is periodic');"
   ]
   }
,
{
		   "cell_type": "markdown",
		   "metadata": {},
		   "source": [
			"## Example 1.30: Integral_of_Unit_step_function.sce"
		   ]
		  },
  {
"cell_type": "code",
	   "execution_count": null,
	   "metadata": {
	    "collapsed": true
	   },
	   "outputs": [],
"source": [
"//Ex 1.30\n",
"//Integral of unit step function\n",
"clc;\n",
"x0=0;//lower bound\n",
"x1=0:20;//upper bound vector\n",
"X=integrate('1','x',x0,x1);\n",
"//integration of unt step seq\n",
"//resulting in ramp seq\n",
"plot(X)"
   ]
   }
,
{
		   "cell_type": "markdown",
		   "metadata": {},
		   "source": [
			"## Example 1.37: Shifting_Time_Reversal_of_discrete_time_signals.sce"
		   ]
		  },
  {
"cell_type": "code",
	   "execution_count": null,
	   "metadata": {
	    "collapsed": true
	   },
	   "outputs": [],
"source": [
"//Ex 1.37\n",
"//shifting and scaling discrete signals\n",
"clear ;\n",
"clc;\n",
"close;\n",
"t=-4:5;\n",
"x=[0 -1 -.5 .5 1 1 1 -1 -.5 0]\n",
"a=gca();\n",
"subplot(3,1,1),plot2d3(t,x)\n",
"subplot(3,1,1),plot(t,x,'r.')\n",
"xtitle('x[n]')\n",
"a.x_location='origin';\n",
"a.y_location='origin';\n",
"\n",
"t1=-5:4;\n",
"t2=t1+2;\n",
"a=gca();\n",
"subplot(3,1,2),plot2d3(t2,x($:-1:1))\n",
"subplot(3,1,2),plot(t2,x($:-1:1),'r.')\n",
"xtitle('x[-n+2]')\n",
"\n",
"a=gca()\n",
"subplot(3,1,3),plot2d3(ceil(t/3),x)\n",
"subplot(3,1,3),plot(ceil(t/3),x,'r.')\n",
"xtitle('x[3n]')\n",
"a.x_location='origin';\n",
"a.y_location='origin';"
   ]
   }
,
{
		   "cell_type": "markdown",
		   "metadata": {},
		   "source": [
			"## Example 1.6: Shifting_Scaling_Time_Reversal.sce"
		   ]
		  },
  {
"cell_type": "code",
	   "execution_count": null,
	   "metadata": {
	    "collapsed": true
	   },
	   "outputs": [],
"source": [
"//shifting and scaling\n",
"//Ex 1.6\n",
"clear;\n",
"clc;\n",
"close;\n",
"t = 0:1/100:2;\n",
"for i = 1:length(t)\n",
"    if t(i)<1 then\n",
"      x(i) = (2)*t(i) ;\n",
"        else\n",
"        x(i)= 2;\n",
"    end\n",
"end\n",
"for i = length(t)+1:2*length(t)\n",
"x(i) = 0;\n",
"end\n",
"t1=0:1/100:4.01;\n",
"figure\n",
"subplot(3,1,1),plot2d(t1,x)\n",
"a=gca();\n",
"t2=t1-1;\n",
"subplot(3,1,2),plot2d(t2,x)\n",
"xtitle('x(t+1)')\n",
"a.y_location='origin'\n",
"a=gca();\n",
"subplot(3,1,3),plot2d(t1/1.5,x)\n",
"xtitle('x(1.5t)')\n",
"figure\n",
"a=gca();\n",
"subplot(2,1,1),plot2d((t2/1.5),x)\n",
"xtitle('x(1.5t+1)')\n",
"a.y_location='origin'\n",
"a=gca();\n",
"t3=-3:1/100:1.01;\n",
"subplot(2,1,2),plot2d(t3,x($:-1:1))\n",
"xtitle('x(-t+1)')\n",
"a.y_location = 'origin';"
   ]
   }
,
{
		   "cell_type": "markdown",
		   "metadata": {},
		   "source": [
			"## Example 1.9: Check_for_Periodicity.sce"
		   ]
		  },
  {
"cell_type": "code",
	   "execution_count": null,
	   "metadata": {
	    "collapsed": true
	   },
	   "outputs": [],
"source": [
"//Ex 1.9\n",
"//Check For periodicity\n",
"clc;\n",
"//pi=22/7\n",
"k=1;\n",
"N=2*7*k/5;\n",
"z=2*N;\n",
"n=0:.1:z //Defining discrete time\n",
"x=sin((5*%pi*n/7)+1); //sinusoid function\n",
"subplot(3,2,1),plot2d3(n,x) //ploting the sinusoid showing it as periodic 2pik=5piN/7\n",
"disp('the plot shows the above signal is periodic');\n",
"\n",
"k=1;\n",
"N=2*%pi*k*6;\n",
"z=2*N;\n",
"n=0:1:z //Defining discrete time\n",
"x=cos((n/6)-%pi);\n",
"subplot(3,2,2),plot2d3(n,x);//the plot shows the above signal is periodic\n",
"disp('the plot shows the above signal is periodic');\n",
"\n",
"k=1;\n",
"N=sqrt(2*k*2);\n",
"z=2*N;\n",
"n=0:1/100:z //Defining discrete time\n",
"x=cos(((n.^2)*%pi)/2);\n",
"subplot(3,2,3),plot(x);//the plot shows that the above signal is not periodic\n",
"disp('the plot shows the above signal is not periodic');\n",
"\n",
"k=1;\n",
"N=2*k;\n",
"z=2*N;\n",
"n=0:1/100:2*z //Defining discrete time\n",
"x=cos(n*%pi/3).*cos(2*%pi*n/3);\n",
"subplot(3,2,4),plot(x);//the plot shows that the above signal is periodic\n",
"disp('the plot shows the above signal is periodic');\n",
"\n",
"k=1;\n",
"N=2*k*8;\n",
"z=2*N;\n",
"n=0:1/100:z //Defining discrete time\n",
"x=2*cos(n*%pi/4)+sin((n*%pi/2)-(%pi/3))-2*cos((n*%pi/8)+(%pi/3));\n",
"subplot(3,1,3),plot(x);//the plot shows that the above signal is periodic\n",
"disp('the plot shows the above signal is periodic');"
   ]
   }
],
"metadata": {
		  "kernelspec": {
		   "display_name": "Scilab",
		   "language": "scilab",
		   "name": "scilab"
		  },
		  "language_info": {
		   "file_extension": ".sce",
		   "help_links": [
			{
			 "text": "MetaKernel Magics",
			 "url": "https://github.com/calysto/metakernel/blob/master/metakernel/magics/README.md"
			}
		   ],
		   "mimetype": "text/x-octave",
		   "name": "scilab",
		   "version": "0.7.1"
		  }
		 },
		 "nbformat": 4,
		 "nbformat_minor": 0
}
