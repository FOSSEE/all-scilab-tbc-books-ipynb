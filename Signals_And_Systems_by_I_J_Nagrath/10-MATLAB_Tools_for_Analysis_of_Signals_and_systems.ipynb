{
"cells": [
 {
		   "cell_type": "markdown",
	   "metadata": {},
	   "source": [
       "# Chapter 10: MATLAB Tools for Analysis of Signals and systems"
	   ]
	},
{
		   "cell_type": "markdown",
		   "metadata": {},
		   "source": [
			"## Example 10.12: Find_convolution_and_plot_the_result.sce"
		   ]
		  },
  {
"cell_type": "code",
	   "execution_count": null,
	   "metadata": {
	    "collapsed": true
	   },
	   "outputs": [],
"source": [
"//Ex 1012\n",
"//Convolution of two sequences\n",
"//[1 1 1 1 1]\n",
"//[1 2 3]\n",
"clc;\n",
"n1=0:1:4;\n",
"n2=0:1:2;\n",
"x=[1 1 1 1 1]\n",
"h=[1 2 3]\n",
"y=convol(x,h);\n",
"l=length(y);\n",
"n3=0:1:l-1;\n",
"figure\n",
"title('Sequence x')\n",
"plot2d3(n1,x);\n",
"figure\n",
"title('Seequence h')\n",
"plot2d3(n2,h);\n",
"figure\n",
"title('Sequence y')\n",
"plot2d3(n3,y);"
   ]
   }
,
{
		   "cell_type": "markdown",
		   "metadata": {},
		   "source": [
			"## Example 10.13: Find_the_step_response.sce"
		   ]
		  },
  {
"cell_type": "code",
	   "execution_count": null,
	   "metadata": {
	    "collapsed": true
	   },
	   "outputs": [],
"source": [
"//Ex 1013\n",
"//Convolution of two sequences\n",
"//To plot the step response\n",
"//[.25 .25 .25 .25]\n",
"//[.25 -.25 .25 -.25]\n",
"clc;\n",
"n1=0:1:8;\n",
"n2=0:1:8;\n",
"h1=[0 0 0 .25 .25 .25 .25 0 0]\n",
"h2=[0 0 0 .25 -.25 .25 -.25 0 0]\n",
"y=convol(h1,h2);\n",
"l=length(y);\n",
"n3=0:1:l-1;\n",
"figure\n",
"title('Sequence h1')\n",
"plot2d3(n1,h1);\n",
"figure\n",
"title('Seequence h2')\n",
"plot2d3(n2,h2);\n",
"figure\n",
"title('Sequence y')\n",
"plot2d3(n3,y);"
   ]
   }
,
{
		   "cell_type": "markdown",
		   "metadata": {},
		   "source": [
			"## Example 10.1: Solving_Linear_Equation.sce"
		   ]
		  },
  {
"cell_type": "code",
	   "execution_count": null,
	   "metadata": {
	    "collapsed": true
	   },
	   "outputs": [],
"source": [
"clc;\n",
"A=[2 1; 1 2]\n",
"B=[1; 0]\n",
"A=inv(A);\n",
"X=A*B;"
   ]
   }
,
{
		   "cell_type": "markdown",
		   "metadata": {},
		   "source": [
			"## Example 10.3: Find_the_step_and_impulse_responce.sce"
		   ]
		  },
  {
"cell_type": "code",
	   "execution_count": null,
	   "metadata": {
	    "collapsed": true
	   },
	   "outputs": [],
"source": [
"clc;\n",
"s=poly(0,'s');\n",
"x=syslin('c',%s/(%s+2));"
   ]
   }
,
{
		   "cell_type": "markdown",
		   "metadata": {},
		   "source": [
			"## Example 10.9: Find_the_impulse_responce.sce"
		   ]
		  },
  {
"cell_type": "code",
	   "execution_count": null,
	   "metadata": {
	    "collapsed": true
	   },
	   "outputs": [],
"source": [
"//Ex 10.9\n",
"//Impulse response\n",
"num=[1 3];\n",
"den=[1 3 2];\n",
"n=0:1:20;\n",
"x=[1 zeros(1,20)];\n",
"y=filter(num,den,x);\n",
"plot(n,y);"
   ]
   }
],
"metadata": {
		  "kernelspec": {
		   "display_name": "Scilab",
		   "language": "scilab",
		   "name": "scilab"
		  },
		  "language_info": {
		   "file_extension": ".sce",
		   "help_links": [
			{
			 "text": "MetaKernel Magics",
			 "url": "https://github.com/calysto/metakernel/blob/master/metakernel/magics/README.md"
			}
		   ],
		   "mimetype": "text/x-octave",
		   "name": "scilab",
		   "version": "0.7.1"
		  }
		 },
		 "nbformat": 4,
		 "nbformat_minor": 0
}
