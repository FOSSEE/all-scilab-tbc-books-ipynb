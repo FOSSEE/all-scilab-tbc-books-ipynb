{
"cells": [
 {
		   "cell_type": "markdown",
	   "metadata": {},
	   "source": [
       "# Chapter 3: Analysis of LTI Discrete time system"
	   ]
	},
{
		   "cell_type": "markdown",
		   "metadata": {},
		   "source": [
			"## Example 3.17a: Z_Transform.sce"
		   ]
		  },
  {
"cell_type": "code",
	   "execution_count": null,
	   "metadata": {
	    "collapsed": true
	   },
	   "outputs": [],
"source": [
"//Ex 3.17a\n",
"clc;\n",
"syms z n;\n",
"x=1;\n",
"X=symsum(x*z^(-n),n,0,0);\n",
"disp(X);"
   ]
   }
,
{
		   "cell_type": "markdown",
		   "metadata": {},
		   "source": [
			"## Example 3.17_b: Z_Transform.sce"
		   ]
		  },
  {
"cell_type": "code",
	   "execution_count": null,
	   "metadata": {
	    "collapsed": true
	   },
	   "outputs": [],
"source": [
"//Ex 3.17b\n",
"clc;\n",
"syms z n;\n",
"x=1;\n",
"X=symsum(x*z^(-n),n,0,%inf);\n",
"disp(X);"
   ]
   }
,
{
		   "cell_type": "markdown",
		   "metadata": {},
		   "source": [
			"## Example 3.17_c: Z_Transform.sce"
		   ]
		  },
  {
"cell_type": "code",
	   "execution_count": null,
	   "metadata": {
	    "collapsed": true
	   },
	   "outputs": [],
"source": [
"//Ex 3.17c\n",
"clc;\n",
"syms z n B k;\n",
"x=exp(B*k);\n",
"X=symsum(x*z^(-n),n,0,%inf);\n",
"disp(X);"
   ]
   }
,
{
		   "cell_type": "markdown",
		   "metadata": {},
		   "source": [
			"## Example 3.19: Final_Value_Theorem.sce"
		   ]
		  },
  {
"cell_type": "code",
	   "execution_count": null,
	   "metadata": {
	    "collapsed": true
	   },
	   "outputs": [],
"source": [
"//Ex 3.19\n",
"clc;\n",
"syms z;\n",
"c=(z-1)/(1+0.5*z^(-1))+(z^(-1)*(z-1))/((1+0.5*z^(-1))*(1-z^(-1)));\n",
"l=limit(c,z,1);\n",
"disp(l);"
   ]
   }
,
{
		   "cell_type": "markdown",
		   "metadata": {},
		   "source": [
			"## Example 3.1: Convolution_sum_method.sce"
		   ]
		  },
  {
"cell_type": "code",
	   "execution_count": null,
	   "metadata": {
	    "collapsed": true
	   },
	   "outputs": [],
"source": [
"clc;\n",
"//k=2;\n",
"r=1;\n",
"k=0:1:2;\n",
"h=0.5^(k);\n",
"l1=convol(h,r);\n",
"disp(l1);\n",
"//k=3;\n",
"r=1;\n",
"k=0:1:3;\n",
"h=0.5^(k);\n",
"l2=convol(h,r);\n",
"disp(l2);"
   ]
   }
,
{
		   "cell_type": "markdown",
		   "metadata": {},
		   "source": [
			"## Example 3.21: Inverse_Ztransform.sce"
		   ]
		  },
  {
"cell_type": "code",
	   "execution_count": null,
	   "metadata": {
	    "collapsed": true
	   },
	   "outputs": [],
"source": [
"//Ex 3.21\n",
"clc;\n",
"z=%z;\n",
"x=ldiv(z^2,(z^3)-(1.7*(z^2))+0.8*z+0.1,3);\n",
"dims=1;\n",
"xo=[0];\n",
"y=cat(dims,xo,x);\n",
"//degree of Num polynomial And Den Polynomial must be same\n",
"// else Zeros are padded accordingly on the basis of Std Eq.\n",
"disp(y);"
   ]
   }
,
{
		   "cell_type": "markdown",
		   "metadata": {},
		   "source": [
			"## Example 3.22: Z_inverse.sce"
		   ]
		  },
  {
"cell_type": "code",
	   "execution_count": null,
	   "metadata": {
	    "collapsed": true
	   },
	   "outputs": [],
"source": [
"//Ex 2.22a\n",
"clc;\n",
"z=%z;\n",
"x=ldiv(z,z-0.4,4);\n",
"disp(x);"
   ]
   }
,
{
		   "cell_type": "markdown",
		   "metadata": {},
		   "source": [
			"## Example 3.2: Graphical_Convolution.sce"
		   ]
		  },
  {
"cell_type": "code",
	   "execution_count": null,
	   "metadata": {
	    "collapsed": true
	   },
	   "outputs": [],
"source": [
"clc;\n",
"//k=2;\n",
"r=1;\n",
"k=0:1:2;\n",
"h=0.5^(k);\n",
"l1=convol(h,r);\n",
"s1=sum(l1);\n",
"disp(s1);\n",
"n=2;\n",
"subplot(2,1,1),plot2d3(n,s1);\n",
"//k=3;\n",
"r=1;\n",
"k=0:1:3;\n",
"h=0.5^(k);\n",
"l2=convol(h,r);\n",
"s2=sum(l2);\n",
"disp(s2);\n",
"m=3;\n",
"subplot(2,1,2),plot2d3(m,s2);"
   ]
   }
],
"metadata": {
		  "kernelspec": {
		   "display_name": "Scilab",
		   "language": "scilab",
		   "name": "scilab"
		  },
		  "language_info": {
		   "file_extension": ".sce",
		   "help_links": [
			{
			 "text": "MetaKernel Magics",
			 "url": "https://github.com/calysto/metakernel/blob/master/metakernel/magics/README.md"
			}
		   ],
		   "mimetype": "text/x-octave",
		   "name": "scilab",
		   "version": "0.7.1"
		  }
		 },
		 "nbformat": 4,
		 "nbformat_minor": 0
}
