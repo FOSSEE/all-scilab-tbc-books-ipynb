{
"cells": [
 {
		   "cell_type": "markdown",
	   "metadata": {},
	   "source": [
       "# Chapter 2: Analysis of LTI continous time system"
	   ]
	},
{
		   "cell_type": "markdown",
		   "metadata": {},
		   "source": [
			"## Example 2.11_a: Fourier_transform_of_impulse_function.sce"
		   ]
		  },
  {
"cell_type": "code",
	   "execution_count": null,
	   "metadata": {
	    "collapsed": true
	   },
	   "outputs": [],
"source": [
"//Fourier Transform of unit impulse \n",
"clc;\n",
"syms s t\n",
"X=symsum(1*%e^(-s*t),t,0,0);"
   ]
   }
,
{
		   "cell_type": "markdown",
		   "metadata": {},
		   "source": [
			"## Example 2.11_b: Fourier_transform_of_exponential_function.sce"
		   ]
		  },
  {
"cell_type": "code",
	   "execution_count": null,
	   "metadata": {
	    "collapsed": true
	   },
	   "outputs": [],
"source": [
"clc;\n",
"A=1;\n",
"Dt=0.005;\n",
"t=-4.5:Dt:4.5;\n",
"xt=exp(-A*abs (t));\n",
"Wmax=2*%pi*1;\n",
"K=4;\n",
"k=0:(K/1000):K;\n",
"W=k*Wmax/K;\n",
"XW=xt*exp(-sqrt(-1)*t'*W)*Dt;\n",
"XW = real (XW);\n",
"W=[-mtlb_fliplr(W),W(2:1001)];\n",
"XW=[mtlb_fliplr(XW),XW(2:1001)];\n",
"subplot(1,1,1)\n",
"subplot(2,1,1);\n",
"a=gca();\n",
"a.y_location='origin';\n",
"plot(t,xt);\n",
"xlabel( ' t in sec. ' );\n",
"ylabel( ' x(t) ' )\n",
"title( ' Continuous Time Signal ' )\n",
"subplot(2,1,2);\n",
"a=gca();\n",
"a.y_location='origin';\n",
"plot(W,XW);\n",
"xlabel( ' Frequency in Radians / Seconds W' );\n",
"ylabel( 'X(jW) ' )\n",
"title(' Continuous time Fourier Transform ' )"
   ]
   }
,
{
		   "cell_type": "markdown",
		   "metadata": {},
		   "source": [
			"## Example 2.12: Fourier_transform_of_Gate_function.sce"
		   ]
		  },
  {
"cell_type": "code",
	   "execution_count": null,
	   "metadata": {
	    "collapsed": true
	   },
	   "outputs": [],
"source": [
"//Ex 2.12\n",
"clc;\n",
"clear;\n",
"A=1;\n",
"Dt=0.005;\n",
"T1=4;\n",
"t=-T1/2:Dt:T1/2;\n",
"for i=1:length(t)\n",
"xt(i)=A;\n",
"end\n",
"Wmax=2*%pi*1;\n",
"K=4;\n",
"k=0:(K/1000):K;\n",
"W=k*Wmax/K;\n",
"xt=xt';\n",
"XW=xt*exp(-sqrt(-1)*t'*W)*Dt;\n",
"XW_Mag=real(XW);\n",
"W=[-mtlb_fliplr(W),W(2:1001)];\n",
"XW_Mag=[mtlb_fliplr(XW_Mag),XW_Mag(2:1001)];\n",
"subplot(2,1,1);\n",
"a=gca();\n",
"a.data_bounds=[-4,0;4,2];\n",
"a.y_location='origin';\n",
"plot(t,xt);\n",
"xlabel('t in sec.');\n",
"title('Continous Time Signal x(t)');\n",
"subplot(2,1,2);\n",
"a=gca();\n",
"a.y_location='origin';\n",
"plot(W,XW_Mag);\n",
"xlabel('Frequency in Radians/Seconds');\n",
"title('Continuous time Fourier Transform X(jW)');"
   ]
   }
,
{
		   "cell_type": "markdown",
		   "metadata": {},
		   "source": [
			"## Example 2.14: Fourier_transform_one_sided_exponential_function.sce"
		   ]
		  },
  {
"cell_type": "code",
	   "execution_count": null,
	   "metadata": {
	    "collapsed": true
	   },
	   "outputs": [],
"source": [
"//Ex 2.14\n",
"//Fourier Transform\n",
"clc ;\n",
"clear;\n",
"A=1;\n",
"Dt=0.005;\n",
"t=0:Dt:10;\n",
"xt=exp(-A*t);\n",
"Wmax=2*%pi*1;\n",
"K=4;\n",
"k=0:(K/1000):K;\n",
"W=k*Wmax/K;\n",
"XW=xt*exp(-sqrt(-1)*t'*W)*Dt;\n",
"XW_Mag=abs(XW);\n",
"W=[-mtlb_fliplr(W),W(2:1001)];\n",
"XW_Mag=[mtlb_fliplr(XW_Mag),XW_Mag(2:1001)];\n",
"[XW_Phase,db]=phasemag(XW);\n",
"XW_Phase=[-mtlb_fliplr(XW_Phase),XW_Phase(2:1001)];\n",
"figure\n",
"a=gca();\n",
"a.y_location='origin';\n",
"plot(t,xt);\n",
"xlabel('t in sec.');\n",
"ylabel('x(t)');\n",
"title('Continuous Time Signal');\n",
"figure\n",
"subplot(2,1,1);\n",
"a=gca();\n",
"a.y_location='origin';\n",
"plot(W,XW_Mag);\n",
"xlabel('Frequency in Radians/Seconds>W');\n",
"ylabel('abs(X(jW))');\n",
"title('Magnitude Response (CTFT)');\n",
"subplot(2,1,2);\n",
"a=gca();\n",
"a.y_location='origin';\n",
"a.x_location='origin';\n",
"plot(W,XW_Phase*%pi/180) ;\n",
"xlabel(' Frequency in Radians/Seconds􀀀􀀀􀀀> W' );\n",
"ylabel('<X(jW)')\n",
"title('Phase Response (CTFT) in Radians');"
   ]
   }
,
{
		   "cell_type": "markdown",
		   "metadata": {},
		   "source": [
			"## Example 2.20_a: Laplace_transform_of_unit_impulse.sce"
		   ]
		  },
  {
"cell_type": "code",
	   "execution_count": null,
	   "metadata": {
	    "collapsed": true
	   },
	   "outputs": [],
"source": [
"//laplace of unit impulse \n",
"clc;\n",
"syms s;\n",
"X=symsum(1*%e^(-s*t),t,0,0);"
   ]
   }
,
{
		   "cell_type": "markdown",
		   "metadata": {},
		   "source": [
			"## Example 2.23: Laplace_Transform.sce"
		   ]
		  },
  {
"cell_type": "code",
	   "execution_count": null,
	   "metadata": {
	    "collapsed": true
	   },
	   "outputs": [],
"source": [
"syms a t;\n",
"x=exp(-a*t);\n",
"y=diff(x,t)\n",
"X=laplace(y);"
   ]
   }
,
{
		   "cell_type": "markdown",
		   "metadata": {},
		   "source": [
			"## Example 2.26_a: Inv_Laplace.sce"
		   ]
		  },
  {
"cell_type": "code",
	   "execution_count": null,
	   "metadata": {
	    "collapsed": true
	   },
	   "outputs": [],
"source": [
"syms s;\n",
"x=ilaplace((s^2+2*s+1)/(s*(s+2)*(s+1)));\n",
"disp (x);"
   ]
   }
,
{
		   "cell_type": "markdown",
		   "metadata": {},
		   "source": [
			"## Example 2.26_b: Inv_Laplace.sce"
		   ]
		  },
  {
"cell_type": "code",
	   "execution_count": null,
	   "metadata": {
	    "collapsed": true
	   },
	   "outputs": [],
"source": [
"syms s;\n",
"x=ilaplace((2*s+3)/((s^2+4*s+5)*(s+1)));\n",
"disp (x);"
   ]
   }
,
{
		   "cell_type": "markdown",
		   "metadata": {},
		   "source": [
			"## Example 2.26_c: Inv_Laplace.sce"
		   ]
		  },
  {
"cell_type": "code",
	   "execution_count": null,
	   "metadata": {
	    "collapsed": true
	   },
	   "outputs": [],
"source": [
"syms s;\n",
"x=ilaplace(1/((s^2)*(s+1)));\n",
"disp (x);"
   ]
   }
,
{
		   "cell_type": "markdown",
		   "metadata": {},
		   "source": [
			"## Example 2.28: Laplace_Transform.sce"
		   ]
		  },
  {
"cell_type": "code",
	   "execution_count": null,
	   "metadata": {
	    "collapsed": true
	   },
	   "outputs": [],
"source": [
"clc;\n",
"syms s ;\n",
"X=5/((s+2)*(s-3));\n",
"x=ilaplace(X);"
   ]
   }
,
{
		   "cell_type": "markdown",
		   "metadata": {},
		   "source": [
			"## Example 2.2: Convolution.sce"
		   ]
		  },
  {
"cell_type": "code",
	   "execution_count": null,
	   "metadata": {
	    "collapsed": true
	   },
	   "outputs": [],
"source": [
"//Ex 2.2\n",
"clc;\n",
"h=ones(1,10);\n",
"N2=0:length(h)-1;\n",
"a=0.5;//constant a>0\n",
"for t=1:10\n",
"    x(t)=exp(-a*(t-1));\n",
"end\n",
"N1=0:length(x)-1;\n",
"y=convol(x,h)-1;\n",
"N=0:length(x)+length(h)-2;\n",
"\n",
"subplot(3,1,1),plot2d(N2,h)\n",
"xtitle('Impulse Response','t','h(t)');\n",
"\n",
"subplot(3,1,2),plot2d(N1,x)\n",
"xtitle('Input Response','t','x(t)');\n",
"\n",
"\n",
"subplot(3,1,3),plot2d(N(1:10),y(1:10))\n",
"xtitle('Output Response','t','y(t)');"
   ]
   }
,
{
		   "cell_type": "markdown",
		   "metadata": {},
		   "source": [
			"## Example 2.33: Plot_the_spectrum.sce"
		   ]
		  },
  {
"cell_type": "code",
	   "execution_count": null,
	   "metadata": {
	    "collapsed": true
	   },
	   "outputs": [],
"source": [
"//Ex 2.33\n",
"clc;\n",
"clear;\n",
"T1=2;\n",
"T=4*T1;\n",
"Wo=2*%pi/T;\n",
"W=[-Wo,0,Wo];\n",
"ak=(2*%pi*Wo*T1/%pi)/sqrt(-1);\n",
"XW=[-ak,0,ak];\n",
"ak1=-(2*%pi*Wo*T1/%pi);\n",
"XW1=[-ak1,0,ak1];\n",
"figure\n",
"a=gca();\n",
"a.y_location='origin';\n",
"a.x_location='origin';\n",
"plot2d3('gnn',W,XW1,2);\n",
"poly1=a.children(1).children(1);\n",
"poly1.thickness=3;\n",
"xlabel('W');\n",
"title('CTFT of cos(Wot)');"
   ]
   }
,
{
		   "cell_type": "markdown",
		   "metadata": {},
		   "source": [
			"## Example 2.39: Convolution_of_two_signals.sce"
		   ]
		  },
  {
"cell_type": "code",
	   "execution_count": null,
	   "metadata": {
	    "collapsed": true
	   },
	   "outputs": [],
"source": [
"//Ex 2.39\n",
"clc;\n",
"clear;\n",
"A=1;\n",
"Dt=0.005;\n",
"T1=1;\n",
"t=-T1:Dt:T1;\n",
"for i=1:length(t)\n",
"xt(i)=A;\n",
"end\n",
"xt=xt';\n",
"t1=0:0.005:2;\n",
"for j=1:length(t1)\n",
"  x1(j)=sin(%pi*t1(j));\n",
"end  \n",
"subplot(3,1,1);\n",
"a=gca();\n",
"a.data_bounds=[-4,0;4,2];\n",
"a.y_location='origin';\n",
"plot(t,xt);\n",
"xlabel('t in sec.');\n",
"title('Continous Time Signal x(t)');\n",
"subplot(3,1,2);\n",
"a=gca();\n",
"plot(t1,x1);\n",
"y=convol(x1,xt);\n",
"subplot(3,1,3);\n",
"a.y_location='origin';\n",
"a.x_location='origin';\n",
"plot(y);"
   ]
   }
],
"metadata": {
		  "kernelspec": {
		   "display_name": "Scilab",
		   "language": "scilab",
		   "name": "scilab"
		  },
		  "language_info": {
		   "file_extension": ".sce",
		   "help_links": [
			{
			 "text": "MetaKernel Magics",
			 "url": "https://github.com/calysto/metakernel/blob/master/metakernel/magics/README.md"
			}
		   ],
		   "mimetype": "text/x-octave",
		   "name": "scilab",
		   "version": "0.7.1"
		  }
		 },
		 "nbformat": 4,
		 "nbformat_minor": 0
}
