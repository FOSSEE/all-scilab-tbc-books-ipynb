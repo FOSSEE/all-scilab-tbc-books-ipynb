{
"cells": [
 {
		   "cell_type": "markdown",
	   "metadata": {},
	   "source": [
       "# Chapter 6: Transformed Networks"
	   ]
	},
{
		   "cell_type": "markdown",
		   "metadata": {},
		   "source": [
			"## Example 6.10: Bode_Plot.sce"
		   ]
		  },
  {
"cell_type": "code",
	   "execution_count": null,
	   "metadata": {
	    "collapsed": true
	   },
	   "outputs": [],
"source": [
"//Ex 6.10\n",
"//Obtain the Bode plot\n",
"clc;\n",
"H=syslin('c',10*(1+%s/2)/(%s*(1+%s/.1)*(1+%s/.5)*(1+%s/10)));\n",
"bode(H,0.01,100);"
   ]
   }
,
{
		   "cell_type": "markdown",
		   "metadata": {},
		   "source": [
			"## Example 6.1: Current_flowing_in_a_network.sce"
		   ]
		  },
  {
"cell_type": "code",
	   "execution_count": null,
	   "metadata": {
	    "collapsed": true
	   },
	   "outputs": [],
"source": [
"//Ex 6.1\n",
"clc;\n",
"syms s;\n",
"v=10;\n",
"R=4;\n",
"L=2;\n",
"C=0.125;\n",
"V=laplace(v);\n",
"I=V/(R+L*s+(1/(C*s))); \n",
"i=ilaplace(I);\n",
"disp(i,'i(t)=');"
   ]
   }
,
{
		   "cell_type": "markdown",
		   "metadata": {},
		   "source": [
			"## Example 6.2: voltage_across_inductor.sce"
		   ]
		  },
  {
"cell_type": "code",
	   "execution_count": null,
	   "metadata": {
	    "collapsed": true
	   },
	   "outputs": [],
"source": [
"//Ex 6.2\n",
"clc;\n",
"syms s;\n",
"i=4;\n",
"R=13/4;\n",
"L=1;\n",
"C=1/13;\n",
"I=laplace(i)+1;\n",
"Y=1/R+s/13+1/s;\n",
"V=I/Y;\n",
"v=ilaplace(V);\n",
"disp(v,'v(t)=');"
   ]
   }
,
{
		   "cell_type": "markdown",
		   "metadata": {},
		   "source": [
			"## Example 6.3: voltage_across_capacitor.sce"
		   ]
		  },
  {
"cell_type": "code",
	   "execution_count": null,
	   "metadata": {
	    "collapsed": true
	   },
	   "outputs": [],
"source": [
"//Ex 6.3\n",
"clc;\n",
"syms s;\n",
"i=5;\n",
"R=2;\n",
"L=1;\n",
"C=1/2;\n",
"Z=((R+L*s)*(1/(C*s)))/((R+L*s)+(1/(C*s)));\n",
"V=Z*i;\n",
"v=ilaplace(V);\n",
"disp(v,'v(t)=');"
   ]
   }
,
{
		   "cell_type": "markdown",
		   "metadata": {},
		   "source": [
			"## Example 6.9: Bode_Plot.sce"
		   ]
		  },
  {
"cell_type": "code",
	   "execution_count": null,
	   "metadata": {
	    "collapsed": true
	   },
	   "outputs": [],
"source": [
"//Ex 6.9\n",
"//Obtain the Bode plot\n",
"clc;\n",
"s=poly(0,'s');\n",
"H=syslin('c',8*(1+.1*s)/(s*(1+.5*s)*(1+.6*s/50+(s/50)^2)));\n",
"bode(H,0.01,2000);"
   ]
   }
],
"metadata": {
		  "kernelspec": {
		   "display_name": "Scilab",
		   "language": "scilab",
		   "name": "scilab"
		  },
		  "language_info": {
		   "file_extension": ".sce",
		   "help_links": [
			{
			 "text": "MetaKernel Magics",
			 "url": "https://github.com/calysto/metakernel/blob/master/metakernel/magics/README.md"
			}
		   ],
		   "mimetype": "text/x-octave",
		   "name": "scilab",
		   "version": "0.7.1"
		  }
		 },
		 "nbformat": 4,
		 "nbformat_minor": 0
}
