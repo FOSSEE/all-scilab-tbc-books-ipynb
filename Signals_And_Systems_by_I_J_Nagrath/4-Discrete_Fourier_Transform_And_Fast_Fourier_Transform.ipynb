{
"cells": [
 {
		   "cell_type": "markdown",
	   "metadata": {},
	   "source": [
       "# Chapter 4: Discrete Fourier Transform And Fast Fourier Transform"
	   ]
	},
{
		   "cell_type": "markdown",
		   "metadata": {},
		   "source": [
			"## Example 4.28: Circular_convolution.sce"
		   ]
		  },
  {
"cell_type": "code",
	   "execution_count": null,
	   "metadata": {
	    "collapsed": true
	   },
	   "outputs": [],
"source": [
"//Ex 4.28\n",
"clc;\n",
"f1=[2,1,2,1];\n",
"f2=[1,2,3,4];\n",
"F1=fft(f1,-1);\n",
"F2=fft(f2,-1);\n",
"F=F1.*F2;\n",
"f=fft(F,1);"
   ]
   }
,
{
		   "cell_type": "markdown",
		   "metadata": {},
		   "source": [
			"## Example 4.29: Record_Length.sce"
		   ]
		  },
  {
"cell_type": "code",
	   "execution_count": null,
	   "metadata": {
	    "collapsed": true
	   },
	   "outputs": [],
"source": [
"//Ex 4.29\n",
"clc;\n",
"fm=500;\n",
"fs=2*fm;\n",
"T=1/fs;\n",
"df=10;\n",
"N=2*fm/df;\n",
"rl=N*T;\n",
"disp(rl,'Record Length');\n",
"sl=0.05;\n",
"zp=rl-sl;\n",
"disp(zp,'Zero padding required');"
   ]
   }
,
{
		   "cell_type": "markdown",
		   "metadata": {},
		   "source": [
			"## Example 4.31: Sampling_rate_and_DFT_size.sce"
		   ]
		  },
  {
"cell_type": "code",
	   "execution_count": null,
	   "metadata": {
	    "collapsed": true
	   },
	   "outputs": [],
"source": [
"//Ex 4.31\n",
"clc;\n",
"fm=10*10^3;\n",
"df=100;\n",
"N=2*fm/df;\n",
"l=log2(N);\n",
"l1=ceil(l);\n",
"N1=2^l1;\n",
"fs=N1*df;\n",
"disp(fs,'Required Sampling Freq');"
   ]
   }
,
{
		   "cell_type": "markdown",
		   "metadata": {},
		   "source": [
			"## Example 4.32: DFT_computatio.sce"
		   ]
		  },
  {
"cell_type": "code",
	   "execution_count": null,
	   "metadata": {
	    "collapsed": true
	   },
	   "outputs": [],
"source": [
"//Ex 4.32\n",
"clc;\n",
"clear;\n",
"f=[0 1 1 1 0 0];\n",
"F=fft(f,-1);"
   ]
   }
,
{
		   "cell_type": "markdown",
		   "metadata": {},
		   "source": [
			"## Example 4.4: DFT_computatio.sce"
		   ]
		  },
  {
"cell_type": "code",
	   "execution_count": null,
	   "metadata": {
	    "collapsed": true
	   },
	   "outputs": [],
"source": [
"clc;\n",
"a=0.5;\n",
"for n=1:10\n",
"    x(n)=a^(n-1);\n",
"end\n",
"X=fft(x,-1);"
   ]
   }
,
{
		   "cell_type": "markdown",
		   "metadata": {},
		   "source": [
			"## Example 4.5: DFT_computatio.sce"
		   ]
		  },
  {
"cell_type": "code",
	   "execution_count": null,
	   "metadata": {
	    "collapsed": true
	   },
	   "outputs": [],
"source": [
"clc;\n",
"clear;\n",
"N1=8;\n",
"n=-N1:N1;\n",
"for i=1:length(n)\n",
"    x(i)=1;\n",
"end\n",
"X=fft(x,-1);"
   ]
   }
,
{
		   "cell_type": "markdown",
		   "metadata": {},
		   "source": [
			"## Example 4.6: DFT_computatio.sce"
		   ]
		  },
  {
"cell_type": "code",
	   "execution_count": null,
	   "metadata": {
	    "collapsed": true
	   },
	   "outputs": [],
"source": [
"clc;\n",
"clear;\n",
"Wo=2*%pi/3;\n",
"n=-8:8;\n",
"for i=1:length(n)\n",
"    x(i)=cos(Wo*n(i));\n",
"end\n",
"X=fft(x,-1);"
   ]
   }
,
{
		   "cell_type": "markdown",
		   "metadata": {},
		   "source": [
			"## Example 4.9: DFT_computatio.sce"
		   ]
		  },
  {
"cell_type": "code",
	   "execution_count": null,
	   "metadata": {
	    "collapsed": true
	   },
	   "outputs": [],
"source": [
"clc;\n",
"clear;\n",
"a=0.5;\n",
"b=0.25;\n",
"n=-10:10;\n",
"for i=1:length(n)\n",
"    if n(i)<0 then\n",
"        x(i)=0;\n",
"        h(i)=0;\n",
"    else\n",
"        x(i)=b^n(i);\n",
"        h(i)=a^n(i);\n",
"    end\n",
"end\n",
"y=convol(x,h);\n",
"n1=-20:20;\n",
"plot2d3(n1,y)"
   ]
   }
],
"metadata": {
		  "kernelspec": {
		   "display_name": "Scilab",
		   "language": "scilab",
		   "name": "scilab"
		  },
		  "language_info": {
		   "file_extension": ".sce",
		   "help_links": [
			{
			 "text": "MetaKernel Magics",
			 "url": "https://github.com/calysto/metakernel/blob/master/metakernel/magics/README.md"
			}
		   ],
		   "mimetype": "text/x-octave",
		   "name": "scilab",
		   "version": "0.7.1"
		  }
		 },
		 "nbformat": 4,
		 "nbformat_minor": 0
}
