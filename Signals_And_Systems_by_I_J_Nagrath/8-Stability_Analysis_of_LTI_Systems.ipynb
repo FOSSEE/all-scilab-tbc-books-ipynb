{
"cells": [
 {
		   "cell_type": "markdown",
	   "metadata": {},
	   "source": [
       "# Chapter 8: Stability Analysis of LTI Systems"
	   ]
	},
{
		   "cell_type": "markdown",
		   "metadata": {},
		   "source": [
			"## Example 8.11: Stability_of_discrete_time_system.sce"
		   ]
		  },
  {
"cell_type": "code",
	   "execution_count": null,
	   "metadata": {
	    "collapsed": true
	   },
	   "outputs": [],
"source": [
"clc;\n",
"// Define the polynomial\n",
"//z=poly(0,'z');\n",
"//z^3 - 0.3*z^2 + .1*z -.1\n",
"//Put z=(1+r)/(1-r); \n",
"//Bilinear transformation\n",
"s=poly(0,'s');\n",
"p=.7+2.9*s+2.9*s^2+1.7*s^3;\n",
"// Calculate the routh of above polynomial\n",
"r=routh_t(p);\n",
"disp(r,'Routh array=');\n",
"A=r(:,1);\n",
"    c=0;\n",
"    x=0;\n",
"    for i=1:3\n",
"        x=A(i,1);\n",
"        if x<0\n",
"            c=c+1;\n",
"        end\n",
"    end\n",
"    if(c>=1) then\n",
"        printf('system is unstable');\n",
"    else \n",
"        l=length(S);\n",
"        c=0;\n",
"        for i=1:l\n",
"            a=S(i,1);\n",
"            r=real(a);\n",
"            if r<0 then\n",
"                c=c+1;\n",
"            end\n",
"        end\n",
"        if c==0 then\n",
"           printf('system is stable');\n",
"        else\n",
"            printf('system is unstable');\n",
"        end\n",
"\n",
"    end"
   ]
   }
,
{
		   "cell_type": "markdown",
		   "metadata": {},
		   "source": [
			"## Example 8.1_a: check_for_HURWITZ.sce"
		   ]
		  },
  {
"cell_type": "code",
	   "execution_count": null,
	   "metadata": {
	    "collapsed": true
	   },
	   "outputs": [],
"source": [
"    clc;\n",
"    // Define the polynomial\n",
"    s=poly(0,'s');\n",
"    p=10+9*s+4*s^2+s^3;\n",
"    [C]=coeff(p);\n",
"    l1=length(C);\n",
"    x=0;\n",
"    for i1=1:l1\n",
"        r1=C(1,i1);\n",
"        r1=real(a1);\n",
"        if r1>0 then\n",
"            x=x+1;\n",
"        end\n",
"    end\n",
"    if(x==l1) then\n",
"        [S]=roots(p);\n",
"        disp(S,'Roots=');\n",
"        l=length(S);\n",
"        c=0;\n",
"        for i=1:l\n",
"            a=S(i,1);\n",
"            r=real(a);\n",
"            if r<0 then\n",
"                c=c+1;\n",
"            end\n",
"        end\n",
"        if(c==l) then\n",
"            printf('Polynomial is Hurwitz');\n",
"        else \n",
"            printf('Polynomial is non-Hurwitz');\n",
"        end\n",
"    else \n",
"        printf('Polynomial is non-Hurwitz');\n",
"    end"
   ]
   }
,
{
		   "cell_type": "markdown",
		   "metadata": {},
		   "source": [
			"## Example 8.1_b: check_for_HURWITZ.sce"
		   ]
		  },
  {
"cell_type": "code",
	   "execution_count": null,
	   "metadata": {
	    "collapsed": true
	   },
	   "outputs": [],
"source": [
"    clc;\n",
"    // Define the polynomial\n",
"    s=poly(0,'s');\n",
"    p=30+4*s+s^2+s^3;\n",
"    [C]=coeff(p);\n",
"    l1=length(C);\n",
"    x=0;\n",
"    for i1=1:l1\n",
"        a1=C(1,i1);\n",
"        r1=real(a1);\n",
"        if r1>0\n",
"            x=x+1;\n",
"        end\n",
"    end\n",
"    if(x==l1) then\n",
"        [S]=roots(p);\n",
"        disp(S,'Roots=');\n",
"        l=length(S);\n",
"        c=0;\n",
"        for i=1:l\n",
"            a=S(i,1);\n",
"            r=real(a);\n",
"            if r<0 then\n",
"                c=c+1;\n",
"            end\n",
"        end\n",
"        if(c==l) then\n",
"            printf('Polynomial is Hurwitz');\n",
"        else \n",
"            printf('Polynomial is non-Hurwitz');\n",
"        end\n",
"    else \n",
"        printf('Polynomial is non-Hurwitz');\n",
"    end"
   ]
   }
,
{
		   "cell_type": "markdown",
		   "metadata": {},
		   "source": [
			"## Example 8.2: checking_stability.sce"
		   ]
		  },
  {
"cell_type": "code",
	   "execution_count": null,
	   "metadata": {
	    "collapsed": true
	   },
	   "outputs": [],
"source": [
"    clc;\n",
"    // Define the polynomial\n",
"    s=poly(0,'s');\n",
"    p=5+3*s+2*s^2+2*s^3+s^4+s^5;\n",
"    // Calculate the routh of above polynomial\n",
"    r=routh_t(p);\n",
"    A=r(:,1);\n",
"    c=0;\n",
"    x=0;\n",
"    for i=1:6\n",
"        x=A(i,1);\n",
"        if x<>0\n",
"            c=c+1;\n",
"            end\n",
"    end\n",
"    if(c>=1) then\n",
"        printf('system is unstable');\n",
"        else \n",
"        printf('system is stable');\n",
"    end"
   ]
   }
,
{
		   "cell_type": "markdown",
		   "metadata": {},
		   "source": [
			"## Example 8.3: checking_stability.sce"
		   ]
		  },
  {
"cell_type": "code",
	   "execution_count": null,
	   "metadata": {
	    "collapsed": true
	   },
	   "outputs": [],
"source": [
"    clc;\n",
"    // Define the polynomial\n",
"    s=poly(0,'s');\n",
"    p=2+2*s+5*s^2+4*s^3+4*s^4+2*s^5+s^6;\n",
"    // Calculate the routh of above polynomial\n",
"    r=routh_t(p);\n",
"    S=roots(p);\n",
"    disp(r,'Routh array=');\n",
"    disp(S,'Roots=');\n",
"    A=r(:,1);\n",
"    c=0;\n",
"    x=0;\n",
"    for i=1:6\n",
"        x=A(i,1);\n",
"        if x<0\n",
"            c=c+1;\n",
"        end\n",
"    end\n",
"    if(c>=1) then\n",
"        printf('system is unstable');\n",
"    else \n",
"        l=length(S);\n",
"        c=0;\n",
"        for i=1:l\n",
"            a=S(i,1);\n",
"            r=real(a);\n",
"            if r<0 then\n",
"                c=c+1;\n",
"            end\n",
"        end\n",
"        if c==0 then\n",
"           printf('system is stable');\n",
"        else\n",
"            printf('system is unstable');\n",
"        end\n",
"\n",
"    end"
   ]
   }
,
{
		   "cell_type": "markdown",
		   "metadata": {},
		   "source": [
			"## Example 8.4: checking_stability.sce"
		   ]
		  },
  {
"cell_type": "code",
	   "execution_count": null,
	   "metadata": {
	    "collapsed": true
	   },
	   "outputs": [],
"source": [
"    clc;\n",
"    // Define the polynomial\n",
"    s=poly(0,'s');\n",
"    p=1+2*s+5*s^2+5*s^3+2*s^4;\n",
"    // Calculate the routh of above polynomial\n",
"    r=routh_t(p);\n",
"    disp(r,'Routh array=');\n",
"    A=r(:,1);\n",
"    c=0;\n",
"    x1=0;\n",
"    eps=0;\n",
"    for i=1:5\n",
"        x1=A(i,1);\n",
"        if x1<0\n",
"            c=c+1;\n",
"        end\n",
"    end\n",
"    if(c>=1) then\n",
"        printf('system is unstable');\n",
"    else \n",
"        printf('system is stable');\n",
"    end\n",
"    x=roots(p);"
   ]
   }
,
{
		   "cell_type": "markdown",
		   "metadata": {},
		   "source": [
			"## Example 8.5: checking_stability.sce"
		   ]
		  },
  {
"cell_type": "code",
	   "execution_count": null,
	   "metadata": {
	    "collapsed": true
	   },
	   "outputs": [],
"source": [
"    clc;\n",
"    // Define the polynomial\n",
"    s=poly(0,'s');\n",
"    p=36+12*s+12*s^2+3*s^3+s^4;\n",
"    // Calculate the routh of above polynomial\n",
"    r=routh_t(p);\n",
"    disp(r,'Routh array=');\n",
"    A=r(:,1);\n",
"    c=0;\n",
"    x=0;\n",
"    for i=1:5\n",
"        x=A(i,1);\n",
"        if x<0\n",
"            c=c+1;\n",
"            end\n",
"    end\n",
"    if(c>=1) then\n",
"        printf('system is unstable');\n",
"        else \n",
"        printf('system is stable');\n",
"    end\n",
"    x=roots(p);"
   ]
   }
,
{
		   "cell_type": "markdown",
		   "metadata": {},
		   "source": [
			"## Example 8.9: checking_stability.sce"
		   ]
		  },
  {
"cell_type": "code",
	   "execution_count": null,
	   "metadata": {
	    "collapsed": true
	   },
	   "outputs": [],
"source": [
"clc;\n",
"// Define the polynomial\n",
"z=poly(0,'z');\n",
"p=5+3*z+2*z^2+2*z^3+z^4+z^5;\n",
"// Calculate the routh of above polynomial\n",
"r=routh_t(p);"
   ]
   }
],
"metadata": {
		  "kernelspec": {
		   "display_name": "Scilab",
		   "language": "scilab",
		   "name": "scilab"
		  },
		  "language_info": {
		   "file_extension": ".sce",
		   "help_links": [
			{
			 "text": "MetaKernel Magics",
			 "url": "https://github.com/calysto/metakernel/blob/master/metakernel/magics/README.md"
			}
		   ],
		   "mimetype": "text/x-octave",
		   "name": "scilab",
		   "version": "0.7.1"
		  }
		 },
		 "nbformat": 4,
		 "nbformat_minor": 0
}
