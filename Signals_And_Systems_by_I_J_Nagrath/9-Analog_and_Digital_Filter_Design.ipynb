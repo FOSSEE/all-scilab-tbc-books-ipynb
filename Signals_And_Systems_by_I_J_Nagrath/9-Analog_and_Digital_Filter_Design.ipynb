{
"cells": [
 {
		   "cell_type": "markdown",
	   "metadata": {},
	   "source": [
       "# Chapter 9: Analog and Digital Filter Design"
	   ]
	},
{
		   "cell_type": "markdown",
		   "metadata": {},
		   "source": [
			"## Example 9.1: BPF.sce"
		   ]
		  },
  {
"cell_type": "code",
	   "execution_count": null,
	   "metadata": {
	    "collapsed": true
	   },
	   "outputs": [],
"source": [
"//Ex 9.1\n",
"//Band pass Filter Design\n",
"//a\n",
"clc;\n",
"w1=10*10^3;\n",
"w2=15*10^3;\n",
"wot=sqrt(w1*w2);\n",
"wbt=w2-w1;\n",
"s=%s;\n",
"w=poly(0,'w');\n",
"wt=poly(0,'wt');\n",
"wx=(wt^2-wot^2)/(wbt*wt);\n",
"disp(w);\n",
"//b\n",
"//Let n=2\n",
"hb2=1/(s^2+sqrt(2)*s+1);\n",
"hb21=horner(hb2,(%i*w));\n",
"disp(hb21);\n",
"hb22=horner(hb21,wx);\n",
"disp(hb22);"
   ]
   }
,
{
		   "cell_type": "markdown",
		   "metadata": {},
		   "source": [
			"## Example 9.2: Band_Stop_Filter.sce"
		   ]
		  },
  {
"cell_type": "code",
	   "execution_count": null,
	   "metadata": {
	    "collapsed": true
	   },
	   "outputs": [],
"source": [
"//Ex 9.2\n",
"//Band Stop Filter Design\n",
"//a\n",
"clc;\n",
"w1=1200;\n",
"w2=2000;\n",
"s=%s;\n",
"w=poly(0,'w');\n",
"St=poly(0,'St');\n",
"wc=1; //For normalised Prototype\n",
"wd1t=poly(0,'wd1t');\n",
"wt1=2500;\n",
"wx1=(wt1*(w2-w1)*wd1t)/(-wt1^2+w2*w1);\n",
"wt2=400;\n",
"wx2=(wt2*(w2-w1)*wd1t)/(-wt2^2+w2*w1);\n",
"disp(w);\n",
"wx=wx1; // required attenuation to less\n",
"        // than -3dB for wx > -0.5195wd1t\n",
"wd1t=wc/0.5195;\n",
"//b\n",
"//Let n=4\n",
"hb2=1/((s^2+.7654*s+1).*(s^2+1.8478*s+1));\n",
"hb21=horner(hb2,(%i*w));\n",
"disp(hb21);\n",
"hb22=horner(hb21,wx);\n",
"disp(hb22);\n",
"hb23=horner(hb22,-%i*St);\n",
"disp(hb23);"
   ]
   }
,
{
		   "cell_type": "markdown",
		   "metadata": {},
		   "source": [
			"## Example 9.3: FIR_Filter.sce"
		   ]
		  },
  {
"cell_type": "code",
	   "execution_count": null,
	   "metadata": {
	    "collapsed": true
	   },
	   "outputs": [],
"source": [
"//Ex 9.3\n",
"//FIR Filter\n",
"close;\n",
"clc;\n",
"//Fourier series method\n",
"//for N=5\n",
"N=5;\n",
"U=3;\n",
"for n=-2+U:1:2+U\n",
"if n==3  \n",
"hd(n)=0.25;      \n",
"else\n",
"hd(n)=sin(%pi*(n-U)/4)/(%pi*(n-U));\n",
"end\n",
"end\n",
"[hzm ,fr ]= frmag (hd ,256) ;\n",
"hzm_dB = 20* log10 (hzm)./ max ( hzm );\n",
"plot (2*fr , hzm_dB )\n",
"\n",
"//for N=15\n",
"N=15;\n",
"U=8;\n",
"for n=-7+U:1:7+U\n",
"    if n==8  \n",
"        hd(n)=0.25;      \n",
"    else\n",
"        hd(n)=sin(%pi*(n-U)/4)/(%pi*(n-U));\n",
"    end\n",
"end\n",
"[hzm ,fr ]= frmag (hd ,256) ;\n",
"hzm_dB = 20* log10 (hzm)./ max ( hzm );\n",
"plot (2*fr , hzm_dB )\n",
"xlabel('Normalised Frequency w/pi')\n",
"ylabel('Magnitude')\n",
"title('Plot of Amplitude response of FIR Filter')"
   ]
   }
,
{
		   "cell_type": "markdown",
		   "metadata": {},
		   "source": [
			"## Example 9.5: Low_Pass_Filter.sce"
		   ]
		  },
  {
"cell_type": "code",
	   "execution_count": null,
	   "metadata": {
	    "collapsed": true
	   },
	   "outputs": [],
"source": [
"//Ex 9.5\n",
"clc;\n",
"N=21;\n",
"U=11;\n",
"for n=-10+U:1:10+U\n",
"if n==11 \n",
"hd(n)=0.25;      \n",
"else\n",
"hd(n)=(sin(%pi*(n-U)/4))/(%pi*(n-U));\n",
"end\n",
"end\n",
"[hzm ,fr ]= frmag (hd ,256) ;\n",
"hzm_dB = 20* log10 (hzm)./ max ( hzm );\n",
"plot (2*fr , hzm_dB );\n",
"xlabel ('Frequency');\n",
"ylabel ('Magnitude');\n",
"title('Plot of Amplitude of LPF')"
   ]
   }
,
{
		   "cell_type": "markdown",
		   "metadata": {},
		   "source": [
			"## Example 9.7: 2nd_order_Digital_Butterworth_Filter.sce"
		   ]
		  },
  {
"cell_type": "code",
	   "execution_count": null,
	   "metadata": {
	    "collapsed": true
	   },
	   "outputs": [],
"source": [
"//Ex 9.7\n",
"clc;\n",
"s=%s;\n",
"T=10^(-4);\n",
"wdc=2*%pi*10^3;\n",
"wac=2/T*tan(wdc*T/2);\n",
"HS=1/(s^2+sqrt(2)*s+1)//Transfer Function for N=1\n",
"HS1=horner(HS,s/wac);\n",
"disp(HS1,'Normalized Transfer Function, H(s) =');\n",
"z=%z;\n",
"HZ=horner(HS1,(2/T)*(z-1)/(z+1));\n",
"disp(HZ,'H(z) =');"
   ]
   }
],
"metadata": {
		  "kernelspec": {
		   "display_name": "Scilab",
		   "language": "scilab",
		   "name": "scilab"
		  },
		  "language_info": {
		   "file_extension": ".sce",
		   "help_links": [
			{
			 "text": "MetaKernel Magics",
			 "url": "https://github.com/calysto/metakernel/blob/master/metakernel/magics/README.md"
			}
		   ],
		   "mimetype": "text/x-octave",
		   "name": "scilab",
		   "version": "0.7.1"
		  }
		 },
		 "nbformat": 4,
		 "nbformat_minor": 0
}
