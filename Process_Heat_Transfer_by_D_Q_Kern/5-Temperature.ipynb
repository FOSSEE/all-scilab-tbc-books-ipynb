{
"cells": [
 {
		   "cell_type": "markdown",
	   "metadata": {},
	   "source": [
       "# Chapter 5: Temperature"
	   ]
	},
{
		   "cell_type": "markdown",
		   "metadata": {},
		   "source": [
			"## Example 5.1: Calculation_of_the_LMTD.sce"
		   ]
		  },
  {
"cell_type": "code",
	   "execution_count": null,
	   "metadata": {
	    "collapsed": true
	   },
	   "outputs": [],
"source": [
"printf('\t example 5.1 \n');\n",
"T1=300; // hot fluid inlet temperature,F\n",
"T2=200; // hot fluid outlet temperature,F\n",
"t1=100; // cold fluid inlet temperature,F\n",
"t2=150; // cold fluid outlet temperature,F\n",
"printf('\t for counter current flow \n');\n",
"delt1=T1-t2; //F\n",
"delt2=T2-t1; // F\n",
"printf('\t delt1 is : %.0f F \n',delt1);\n",
"printf('\t delt2 is : %.0f F \n',delt2);\n",
"LMTD=((delt2-delt1)/((2.3)*(log10(delt2/delt1))));\n",
"printf('\t LMTD is :%.1f F \n',LMTD);\n",
"printf('\t for parallel flow \n');\n",
"delt1=T1-t1; // F\n",
"delt2=T2-t2; // F\n",
"printf('\t delt1 is : %.0f F \n',delt1);\n",
"printf('\t delt2 is : %.0f F \n',delt2);\n",
"LMTD=((delt2-delt1)/((2.3)*(log10(delt2/delt1))));\n",
"printf('\t LMTD is :%.0f F \n',LMTD);\n",
"//end"
   ]
   }
,
{
		   "cell_type": "markdown",
		   "metadata": {},
		   "source": [
			"## Example 5.2: Calculation_of_the_LMTD_with_Equal_Outlet_Temperatures.sce"
		   ]
		  },
  {
"cell_type": "code",
	   "execution_count": null,
	   "metadata": {
	    "collapsed": true
	   },
	   "outputs": [],
"source": [
"printf('\t example 5.2 \n');\n",
"T1=300; // hot fluid inlet temperature,F\n",
"T2=200; // hot fluid outlet temperature,F\n",
"t1=150; // cold fluid inlet temperature,F\n",
"t2=200; // cold fluid outlet temperature,F\n",
"printf('\t for counter current flow \n');\n",
"delt1=T1-t2; //F\n",
"delt2=T2-t1; // F\n",
"printf('\t delt1 is : %.0f F \n',delt1);\n",
"printf('\t delt2 is : %.0f F \n',delt2);\n",
"LMTD=((delt2-delt1)/((2.3)*(log10(delt2/delt1))));\n",
"printf('\t LMTD is :%.0f F \n',LMTD);\n",
"printf('\t for parallel flow \n');\n",
"delt1=T1-t1; // F\n",
"delt2=T2-t2; // F\n",
"printf('\t delt1 is : %.0f F \n',delt1);\n",
"printf('\t delt2 is : %.0f F \n',delt2);\n",
"if(delt2==0);\n",
"    printf('\t denominator becomes infinity so LMTD becomes Zero \n');\n",
"    printf('\t LMTD is Zero \n');\n",
"else\n",
"    LMTD=((delt2-delt1)/((2.3)*(log10(delt2/delt1))));\n",
"printf('\t LMTD is :%.0f F \n',LMTD);\n",
"    end\n",
"//end"
   ]
   }
,
{
		   "cell_type": "markdown",
		   "metadata": {},
		   "source": [
			"## Example 5.3: Calculation_of_the_LMTD.sce"
		   ]
		  },
  {
"cell_type": "code",
	   "execution_count": null,
	   "metadata": {
	    "collapsed": true
	   },
	   "outputs": [],
"source": [
"printf('\t example 5.3 \n');\n",
"printf('\t approximate values are mentioned in the book \n');\n",
"T1=300; // hot fluid inlet temperature,F\n",
"T2=200; // hot fluid outlet temperature,F\n",
"t1=100; // cold fluid inlet temperature,F\n",
"t2=275; // cold fluid outlet temperature,F\n",
"printf('\t for counter current flow \n');\n",
"deltc=T2-t1; //F\n",
"delth=T1-t2; // F\n",
"printf('\t delth is : %.0f F \n',delth);\n",
"printf('\t deltc is : %.0f F \n',deltc);\n",
"LMTD=((delth-deltc)/((2.3)*(log10(delth/deltc))));\n",
"printf('\t LMTD is :%.1f F \n',LMTD);\n",
"//end"
   ]
   }
,
{
		   "cell_type": "markdown",
		   "metadata": {},
		   "source": [
			"## Example 5.4: Calculation_of_the_LMTD_with_One_Isothermal_Fluid.sce"
		   ]
		  },
  {
"cell_type": "code",
	   "execution_count": null,
	   "metadata": {
	    "collapsed": true
	   },
	   "outputs": [],
"source": [
"printf('\t example 5.4 \n');\n",
"printf('\t process is isothermal with hot fluid so temperature of hot fluid remains constant \n');\n",
"T1=300; // hot fluid inlet temperature,F\n",
"T2=300; // hot fluid outlet temperature,F\n",
"t1=100; // cold fluid inlet temperature,F\n",
"t2=275; // cold fluid outlet temperature,F\n",
"printf('\t for counter current flow \n');\n",
"delt1=T1-t2; //F\n",
"delt2=T2-t1; // F\n",
"printf('\t delt1 is : %.0f F \n',delt1);\n",
"printf('\t delt2 is : %.0f F \n',delt2);\n",
"LMTD=((delt2-delt1)/((2.3)*(log10(delt2/delt1))));\n",
"printf('\t LMTD is :%.0f F \n',LMTD);\n",
"printf('\t for parallel flow \n');\n",
"delt1=T1-t1; // F\n",
"delt2=T2-t2; // F\n",
"printf('\t delt1 is : %.0f F \n',delt1);\n",
"printf('\t delt2 is : %.0f F \n',delt2);\n",
"if(delt2==0);\n",
"    printf('\t denominator becomes infinity so LMTD becomes Zero \n');\n",
"    printf('\t LMTD is Zero \n');\n",
"else\n",
"    LMTD=((delt2-delt1)/((2.3)*(log10(delt2/delt1))));\n",
"printf('\t LMTD is :%.0f F \n',LMTD);\n",
"    end\n",
"printf('\t these are identical \n');\n",
"//end"
   ]
   }
,
{
		   "cell_type": "markdown",
		   "metadata": {},
		   "source": [
			"## Example 5.5: Calculation_of_point.sce"
		   ]
		  },
  {
"cell_type": "code",
	   "execution_count": null,
	   "metadata": {
	    "collapsed": true
	   },
	   "outputs": [],
"source": [
"printf('\t example 5.5 \n');\n",
"printf('\t approximate values are mentioned in the book \n');\n",
"printf('\t for inlet \n');\n",
"t1=99.1; // temperature of inlet,F\n",
"t2=129.2; // temperature of outlet,F\n",
"c=.478; // Btu/(hr)*(ft)*(F/ft)\n",
"mu=2.95*2.42; // lb/(ft)(hr)\n",
"k=0.078; // Btu/(hr)*(ft)*(F/ft)\n",
"G=854000; // mass velocity,lb/(ft^2)(hr)\n",
"D=0.622/12; // diameter,ft\n",
"Re=((D)*((G)/(mu)))^(0.9);\n",
"printf('\t Re is : %.2e \n',Re);\n",
"Pr=((c)*(mu)/k)^(1/3); // prandtl number raised to power 1/3\n",
"printf('\t Pr is : %.2f \n',Pr);\n",
"Nu=0.0115*(Re)*(Pr); // formula for nusselt number\n",
"printf('\t nusselt number is : %.0f \n',Nu);\n",
"hi=((k)*(Nu)/(D)); // heat transfer coefficient\n",
"printf('\t heat transfer coefficient is : %.0f \n',hi); // caculation mistake in book\n",
"printf('\t for outlet \n');\n",
"c=.495; // Btu/(hr)*(ft)*(F/ft)\n",
"mu=2.20*2.42; // lb/(ft)(hr)\n",
"k=0.078; // Btu/(hr)*(ft)*(F/ft)\n",
"G=854000; // mass velocity,lb/(ft^2)(hr)\n",
"D=0.622/12; // diameter,ft\n",
"Re=((D)*((G)/(mu)))^(.9); // reynolds number raised to poer 0.9, calculation mistake in book\n",
"printf('\t Re is : %.2e \n',Re);\n",
"Pr=((c)*(mu)/k)^(1/3); // prandtl number raised to power 1/3\n",
"printf('\t Pr is : %.2f \n',Pr);\n",
"Nu=0.0115*(Re)*(Pr); // formula for nusselt number\n",
"printf('\t nusselt number is : %.0f \n',Nu);\n",
"hi=((k)*(Nu)/(D)); // heat transfer coefficient\n",
"printf('\t heat transfer coefficient is : %.0f \n',hi); // caculation mistake in book\n",
"//end"
   ]
   }
,
{
		   "cell_type": "markdown",
		   "metadata": {},
		   "source": [
			"## Example 5.6: Calculation_of_the_Caloric_Temperature.sce"
		   ]
		  },
  {
"cell_type": "code",
	   "execution_count": null,
	   "metadata": {
	    "collapsed": true
	   },
	   "outputs": [],
"source": [
"printf('\t example 5.6 \n');\n",
"printf('\t approximate values are mentioned in the book \n');\n",
"T1=300; // hot fluid inlet temperature,F\n",
"T2=200; // hot fluid outlet temperature,F\n",
"t1=80; // cold fluid inlet temperature,F\n",
"t2=120; // cold fluid outlet temperature,F\n",
"printf('\t for counter current flow \n');\n",
"delT=T1-T2; // temperature difference for crude oil,F\n",
"printf('\t temperature difference for crude oil is : %.0f F \n',delT);\n",
"Kc=0.68; // from fig.17\n",
"delt=t2-t1; // temperature difference for gasoline,F\n",
"printf('\t temperature difference for gasoline is : %.0f F \n',delt);\n",
"Kc<=0.10; // from fig.17\n",
"printf('\t The larger value of K. correspQnds to the controlling heat transfer coefficient which is assumed to establish the variation of U with temperature \n');\n",
"deltc=T2-t1; //F\n",
"delth=T1-t2; // F\n",
"printf('\t deltc is : %.0f F \n',deltc);\n",
"printf('\t delth is : %.0f F \n',delth);\n",
"A=((deltc)/(delth));\n",
"printf('\t ratio of two local temperature difference is : %.3f \n',A);\n",
"Fc=0.425; // from fig.17\n",
"Tc=((T2)+((Fc)*(T1-T2))); // caloric temperature of hot fluid,F\n",
"printf('\t caloric temperature of hot fluid is : %.1f F \n',Tc);\n",
"tc=((t1)+((Fc)*(t2-t1))); // caloric temperature of cold fluid,F\n",
"printf('\t caloric temperature of cold fluid is : %.0f F \n',tc);\n",
"// end\n",
""
   ]
   }
],
"metadata": {
		  "kernelspec": {
		   "display_name": "Scilab",
		   "language": "scilab",
		   "name": "scilab"
		  },
		  "language_info": {
		   "file_extension": ".sce",
		   "help_links": [
			{
			 "text": "MetaKernel Magics",
			 "url": "https://github.com/calysto/metakernel/blob/master/metakernel/magics/README.md"
			}
		   ],
		   "mimetype": "text/x-octave",
		   "name": "scilab",
		   "version": "0.7.1"
		  }
		 },
		 "nbformat": 4,
		 "nbformat_minor": 0
}
