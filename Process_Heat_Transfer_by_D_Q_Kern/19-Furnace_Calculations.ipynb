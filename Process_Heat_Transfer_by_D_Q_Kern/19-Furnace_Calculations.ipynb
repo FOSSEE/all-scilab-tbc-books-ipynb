{
"cells": [
 {
		   "cell_type": "markdown",
	   "metadata": {},
	   "source": [
       "# Chapter 19: Furnace Calculations"
	   ]
	},
{
		   "cell_type": "markdown",
		   "metadata": {},
		   "source": [
			"## Example 19.1: Lobo_and_Evans.sce"
		   ]
		  },
  {
"cell_type": "code",
	   "execution_count": null,
	   "metadata": {
	    "collapsed": true
	   },
	   "outputs": [],
"source": [
"printf('\t example 19.1 \n');\n",
"// For orientation purposes, one can make an estimate of the number of tubes required in the radiant section by assuming avg flux is 12000 Btu/(hr)*(ft^2)\n",
"// from Fig.19.14 it can be seen that with a tube temperature of 800'F, an exit-gas temperature of l730°F will be required to effect such a flux.\n",
"printf('\t approxiate values are mentioned in the book \n');\n",
"Q=50000000; // Btu/hr\n",
"QF=(Q/0.75); // efficiency of tank is 75%\n",
"printf('\t heat liberated by the fuel : %.3e Btu/hr \n',QF);\n",
"w1=(QF/17130); // heating value of fuel is 17130Btu/lb\n",
"printf('\t fuel quantity : %.2e lb/hr \n',w1);\n",
"w2=(w1*17.44); // lb of fuel fired with 17.44lb of air\n",
"printf('\t air required : %.2e lb/hr \n',w2);\n",
"w3=(w1*0.3); // 0.3 lb of air is used for atomizing lb of fuel\n",
"printf('\t steam for atomizing : %.2e lb/hr \n',w3);\n",
"QA=(w2*82); // heating value at 400F is 82Btu/lb\n",
"printf('\t QA is : %.2e Btu/hr \n',QA);\n",
"printf('\t QS is negligible \n');\n",
"QW=(0.02*QF);\n",
"printf('\t QW is : %.2e Btu/hr \n',QW);\n",
"Qnet=(QF+QA-QW);\n",
"printf('\t Qnet is : %.2e Btu/hr \n',Qnet);\n",
"//Heat out m gases at 1730°F, 25 per cent excess air, 476 Btu/lb of flue gas\n",
"QG=(476*(w1+w2+w3));\n",
"printf('\t QG is : %.2e Btu/hr \n',QG);\n",
"Q1=(Qnet-QG);\n",
"printf('\t Q1 is : %.2e Btu/hr \n',Q1); // calculation mistake in book\n",
"A=(3.14*38.5*(5/12)); // area of tube\n",
"printf('\t area of tube is : %.1f ft^2 \n',A);\n",
"Nt=(Q1/(12000*A)); // 12000 is avg flux\n",
"printf('\t estimated number of tubes : %.0f \n',Nt);\n",
"// The layout of the cross section of the furnace may be as shown m Fig. 19.16.\n",
"// center to center distance is 8(1/2)in\n",
"Acp=(8.5*38.5/12);\n",
"printf('\t cold plane surface per tube : %.1f ft^2 \n',Acp); // calculation mistake in book\n",
"a=0.937; // a=alpha, from fig 19.11 as Ratio of center-to-center/OD is 1.7\n",
"Acp1=(Acp*a);\n",
"printf('\t Acp1 is : %.0f ft^2 \n',Acp1);\n",
"Acpt=(Acp1*Nt);\n",
"printf('\t total cold plane surface is : %.1e ft^2 \n',Acpt);\n",
"A1=(2*20.46*14.92); // from fig 19.16\n",
"printf('\t surface of end walls : %.0f ft^2 \n',A1);\n",
"A2=(38.5*14.92); // from fig 19.16\n",
"printf('\t surface of side wall : %.0f ft^2 \n',A2);\n",
"A3=(38.5*9.79); // from fig 19.16\n",
"printf('\t surface of bridge walls : %.0f ft^2 \n',A3);\n",
"A4=(2*20.46*38.5); // from fig 19.16\n",
"printf('\t surface of floor and arch : %.0f ft^2 \n',A4);\n",
"AT=(A1+A2+A3+A4);\n",
"printf('\t AT is : %.0f ft^2 \n',AT);\n",
"AR=(AT-Acpt);\n",
"printf('\t AR is : %.0f ft^2 \n',AR);\n",
"Ar=(AR/Acpt);\n",
"printf('\t ratio of areas is : %.2f \n',Ar);\n",
"printf('\t dimension ratio is 3:2:1 \n');\n",
"L=((2/3)*(38.5*20.46*14.92)^(1/3));\n",
"printf('\t length is : %.0f ft \n',L);\n",
"printf('\t gas emissivity \n');\n",
"// From the analysis of the fuel, the steam quantity, and the assumption that the humidity of the air is 50 per cent of saturation at 60F, the partial pressures of CO2 and H2O in the combustion gases with 25 per cent excess air are\n",
"pCO2=0.1084;\n",
"pH2O=0.1248\n",
"pCO2L=1.63; // pCO2L=(pCO2*L)\n",
"pH2OL=1.87;\n",
"P=((pCO2)/(pCO2+pH2O));\n",
"printf('\t percentage correction at P : %.3f \n',P);\n",
"Pt=pCO2L+pH2OL;\n",
"printf('\t Pt is : %.2f \n',Pt);\n",
"// %correction estimated to be 8%\n",
"eG=(((6500+14500)-(650+1950))/(39000-4400))*((100-8)/100); // values from fig 19.12 and 19.13, eq 19.5\n",
"printf('\t eG is : %.3f \n',eG);\n",
"f=0.635; // from fig 19.15 as (AR/Acpt)=1.09 and eG=0.496\n",
"printf('\t overall exchange factor : %.3f \n',f);\n",
"Z=(Q1/(Acpt*f));\n",
"printf('\t Z is : %.2e \n',Z);\n",
"printf('\t TG required (at Ts = 800F) = 1670F compared with 1730°F assumed in heat balance) \n');\n",
"// end"
   ]
   }
,
{
		   "cell_type": "markdown",
		   "metadata": {},
		   "source": [
			"## Example 19.2: Calculation_of_a_Furnace_by_the_Method_of_Wilson_and_Lobo_and_Hottel.sce"
		   ]
		  },
  {
"cell_type": "code",
	   "execution_count": null,
	   "metadata": {
	    "collapsed": true
	   },
	   "outputs": [],
"source": [
"printf('\t example 19.2 \n');\n",
"QF=50000000;\n",
"G=22.36;\n",
"Acpt=1500;\n",
"printf('\t approxiate values are mentioned in the book \n');\n",
"Q=(QF/(1+(G/4200)*(QF/Acpt)^(1/2))); // eq 19.15\n",
"printf('\t Q is : %.2e Btu/hr \n',Q);\n",
"printf('\t The radiant-section average rate will be 8350 Btu/(hr) (ft2), and the exit-flue-gas temperature 1540°F by heat balance. \n');\n",
"// end"
   ]
   }
,
{
		   "cell_type": "markdown",
		   "metadata": {},
		   "source": [
			"## Example 19.3: Calculation_of_Performance_by_the_Orrok_Hudson_Equation.sce"
		   ]
		  },
  {
"cell_type": "code",
	   "execution_count": null,
	   "metadata": {
	    "collapsed": true
	   },
	   "outputs": [],
"source": [
"printf('\t example 19.3 \n');\n",
"Qr=1.5; // Qr=(QF2/QF1)\n",
"Cr=1.5; // Cr=(CR2/CR1)\n",
"Gr=140/125; // Gr=(G2/G1)\n",
"Qr1=0.38; // Qr1=(Q1/QF1)\n",
"printf('\t approxiate values are mentioned in the book \n');\n",
"a1=1.63; // a1=(G1*(CR1/27)^(1/2)), from eq 19.17\n",
"printf('\t a1 is : %.2f \n',a1);\n",
"a2=1.37*(a1); // a2=(G2*(CR2/27)^(1/2))\n",
"printf('\t a2 is : %.2f \n',a2);\n",
"Qr2=(1/(1+a2)); // Qr2=(Q2/QF2),from eq 19.15\n",
"printf('\t Qr2 is : %.2f \n',Qr2);\n",
"Q21=(Qr2/Qr1)*(Qr); // Q21=(Q2/Q1)\n",
"printf('\t ratio of heats is : %.2f \n',Q21);\n",
"printf('\t Hence the radiant absorption will be increased only 22 per cent for an increase of 50 per cent in the heat liberated. \n');\n",
"// end\n",
""
   ]
   }
,
{
		   "cell_type": "markdown",
		   "metadata": {},
		   "source": [
			"## Example 19.4: Calculation_of_the_Equivalent_Radiant_Coefficient.sce"
		   ]
		  },
  {
"cell_type": "code",
	   "execution_count": null,
	   "metadata": {
	    "collapsed": true
	   },
	   "outputs": [],
"source": [
"printf('\t example 19.4 \n');\n",
"eS=0.9; // assumed\n",
"TG=1500;\n",
"TS=650;\n",
"pCO2=0.1084;\n",
"pH2O=0.1248;\n",
"printf('\t approxiate values are mentioned in the book \n');\n",
"L=(0.4*8.5)-(0.567*5);  // table 19.1\n",
"printf('\t L is : %.3f ft \n',L);\n",
"pH2OL=0.1248*L;\n",
"pCO2L=0.1084*L;\n",
"printf('\t pH2OL is : %.4f atm-ft \n',pH2OL);\n",
"printf('\t pCO2L is : %.4f atm-ft \n',pCO2L);\n",
"qH2O=1050; // at TG, from fig 19.12 ana 19.13\n",
"qCO2=1700; // at TG, from fig 19.12 ana 19.13\n",
"qTG=(qH2O+qCO2);\n",
"printf('\t qTG is : %.0f \n',qTG);\n",
"qsH2O=165; // at TS, from fig 19.12 ana 19.13\n",
"qsCO2=160; // at TS, from fig 19.12 ana 19.13\n",
"qTS=(qsH2O+qsCO2);\n",
"printf('\t qTG is : %.0f \n',qTS);\n",
"q=(0.9*(qTG-qTS)); // q=(QRC/A)\n",
"printf('\t q is : %.1f \n',q);\n",
"P=((pCO2)/(pCO2+pH2O));\n",
"printf('\t percentage correction at P : %.3f \n',P);\n",
"Pt=pCO2L+pH2OL;\n",
"printf('\t Pt is : %.4f \n',Pt);\n",
"// %correction estimated to be 2%\n",
"q1=(q*0.98); // // q1=(QRC/A)\n",
"printf('\t q1 is : %.2e \n',q1);\n",
"hr=(q1/(TG-TS));\n",
"printf('\t radiation coefficient is : %.2f Btu/(hr)*(ft^2)*(F) \n',hr);\n",
"//end\n",
"\n",
""
   ]
   }
,
{
		   "cell_type": "markdown",
		   "metadata": {},
		   "source": [
			"## Example 19.5: Furnace_calculation.sce"
		   ]
		  },
  {
"cell_type": "code",
	   "execution_count": null,
	   "metadata": {
	    "collapsed": true
	   },
	   "outputs": [],
"source": [
"printf('\t example 19.5 \n');\n",
"Q=500000;\n",
"printf('\t approxiate values are mentioned in the book \n');\n",
"a=(3.5+(3.14*4*(120/360)))/(2); // a=(alpha*Acp) from fig 19.17\n",
"AR=(3+3.6+3);\n",
"printf('\t a is : %.2f ft^2/ft \n',a);\n",
"printf('\t AR is : %.1f ft^2/ft \n',AR);\n",
"// Arbitrarily neglecting end wa.lls and also .the side wall refractory over 3'0' above the floor\n",
"R=(AR/a);\n",
"printf('\t ratio of two areas is : %.2f \n',R);\n",
"eG=0.265;\n",
"TG=1174; // F\n",
"TS=500; // F\n",
"f=0.56; // from fig 19.15 as (AR/Acpt)=2.49 and eG=0.265\n",
"q=15300; // at TG and TS,q=(Q/(a*f))\n",
"// However, the convection coefficient is small, 1.0 ± Btu/(hr)(ft2)('F), and AR/a is not 2.0 as in the assumptions for the Lobo and Evans equation.\n",
"q1=(q)-(7*(TG-TS)); // q1=(Q/(a*f))\n",
"printf('\t q1 is : %.2e Btu/(hr)*(ft^2) \n',q1);\n",
"q2=(q1*f); // q2=(Q/(a))\n",
"printf('\t q2 is : %.2e Btu/(hr)*(ft^2) \n',q2);\n",
"printf('\t convection rate basis \n');\n",
"q3=(1*(TG-TS)*(4.2/a)); // q2=(Q/(a))\n",
"printf('\t q3 is : %.1e Btu/(hr)*(ft^2) \n',q3); // calculation mistake in book\n",
"qt=(q2+q3); // qt=(Q/(a))\n",
"printf('\t qt is : %.2e Btu/(hr)*(ft^2) \n',qt);\n",
"ar=(Q/qt);\n",
"printf('\t required a is : %.0f ft^2 \n',ar);\n",
"L=(ar/a);\n",
"printf('\t length required is : %.1f ft \n',L);\n",
"// end"
   ]
   }
],
"metadata": {
		  "kernelspec": {
		   "display_name": "Scilab",
		   "language": "scilab",
		   "name": "scilab"
		  },
		  "language_info": {
		   "file_extension": ".sce",
		   "help_links": [
			{
			 "text": "MetaKernel Magics",
			 "url": "https://github.com/calysto/metakernel/blob/master/metakernel/magics/README.md"
			}
		   ],
		   "mimetype": "text/x-octave",
		   "name": "scilab",
		   "version": "0.7.1"
		  }
		 },
		 "nbformat": 4,
		 "nbformat_minor": 0
}
