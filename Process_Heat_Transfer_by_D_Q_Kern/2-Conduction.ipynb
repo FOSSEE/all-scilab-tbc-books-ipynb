{
"cells": [
 {
		   "cell_type": "markdown",
	   "metadata": {},
	   "source": [
       "# Chapter 2: Conduction"
	   ]
	},
{
		   "cell_type": "markdown",
		   "metadata": {},
		   "source": [
			"## Example 2.1: Value_of_Q.sce"
		   ]
		  },
  {
"cell_type": "code",
	   "execution_count": null,
	   "metadata": {
	    "collapsed": true
	   },
	   "outputs": [],
"source": [
"clc\n",
"//page 13\n",
"printf('\t Example 2.1 \n');\n",
"printf('\t approximate values are mentioned in the book \n');\n",
"Tavg=900; // average temperature of the wall,F\n",
"k=0.15; // Thermal conductivity at 932 F,Btu/(hr)(ft^2)(F/ft)\n",
"T1=1500; // hot side temperature,F\n",
"T2=300; // cold side temperature,F\n",
"A=192; // surface area,ft^2\n",
"L=0.5; // thickness,ft\n",
"Q=(k)*(A)*(T1-T2)/L; // formula for heat,Btu/hr\n",
"printf('\t heat is : %.2e Btu/hr \n',Q);\n",
"//end"
   ]
   }
,
{
		   "cell_type": "markdown",
		   "metadata": {},
		   "source": [
			"## Example 2.2: Temperature_increase.sce"
		   ]
		  },
  {
"cell_type": "code",
	   "execution_count": null,
	   "metadata": {
	    "collapsed": true
	   },
	   "outputs": [],
"source": [
"//Page 14\n",
"clc\n",
"printf('\t Example 2.2 \n');\n",
"printf('\t approximate values are mentioned in the book \n');\n",
"La=8/12; // Thickness of firebrick wall,ft\n",
"Lb=4/12; // Thickness of insulating brick wall,ft\n",
"Lc=6/12; // Thickness of building brick wall,ft\n",
"Ka=0.68; // themal conductivity of firebrick,Btu/(hr)*(ft^2)*(F/ft)\n",
"Kb=0.15; // themal conductivity of insulating brick,Btu/(hr)*(ft^2)*(F/ft)\n",
"Kc=0.40; // themal conductivity of building brick,Btu/(hr)*(ft^2)*(F/ft)\n",
"A=1; // surface area,ft^2\n",
"Ta=1600; // temperature of inner wall,F\n",
"Tb=125; // temperature of outer wall.F\n",
"Ra=La/(Ka)*(A); // formula for resistance,(hr)*(F)/Btu\n",
"printf('\t resistance offered by firebrick : %.2f (hr)*(F)/Btu \n',Ra);\n",
"Rb=Lb/(Kb)*(A); // formula for resistance,(hr)*(F)/Btu\n",
"printf('\t resistance offered by insulating brick : %.2f (hr)*(F)/Btu \n',Rb);\n",
"Rc=Lc/(Kc)*(A); // formula for resistance,(hr)*(F)/Btu\n",
"printf('\t resistance offered by buildingbrick : %.2f (hr)*(F)/Btu \n',Rc);\n",
"R=Ra+Rb+Rc; // total resistance offered by three walls,(hr)*(F)/Btu\n",
"printf('\t total resistance offered by three walls : %.2f (hr)*(F)/Btu \n',R);\n",
"Q=(1600-125)/4.45; // using formula for heat loss/ft^2,Btu/hr\n",
"printf('\t heat loss/ft^2 : %.0f Btu/hr \n',Q);\n",
"// T1,T2 are temperatures at interface of firebrick and insulating brick, and insulating brick and building brick respectively,F\n",
"delta=(Q)*(Ra); // formula for temperature difference,F\n",
"printf('\t delta is : %.0f F \n',delta);\n",
"T1=Ta-((Q)*(Ra)); // temperature at interface of firebrick and insulating brick,F\n",
"printf('\t temperature at interface of firebrick and insulating brick :%.0f F \n',T1);\n",
"deltb=Q*(Rb);\n",
"printf('\t deltb is : %.0f F \n',deltb);\n",
"T2=T1-((Q)*(Rb)); //temperature at interface of insulating brick and building brick,F\n",
"printf('\t temperature at interface of insulating brick and building brick :%.0f F \n',T2);\n",
"//end"
   ]
   }
,
{
		   "cell_type": "markdown",
		   "metadata": {},
		   "source": [
			"## Example 2.3: Value_of_Q.sce"
		   ]
		  },
  {
"cell_type": "code",
	   "execution_count": null,
	   "metadata": {
	    "collapsed": true
	   },
	   "outputs": [],
"source": [
"clc\n",
"//page 15\n",
"printf('\t example 2.3 \n');\n",
"printf('\t approximate values are mentioned in the book \n');\n",
"Lair=0.25/12; // thickness of air film,ft\n",
"Kair=0.0265; // thermal conductivity of air at 572F,Btu/(hr)*(ft^2)(F/ft)\n",
"A=1; // surface area,ft^2\n",
"Rair=Lair/(Kair*(A)); // resistance offered by air film, (hr)(F)/Btu\n",
"printf('\t resistance offered by air film %.2f (hr)(F)/Btu \n',Rair);\n",
"R=4.45; // resistance from previous example 2.2,(hr)(F)/Btu\n",
"Rt=(R)+Rair; // total resistance,(hr)(F)/Btu\n",
"printf('\t total resistance %.2f (hr)(F)/Btu \n',Rt);\n",
"Ta=1600; // temperature of inner wall,F\n",
"Tb=125; // temperature of outer wall,F\n",
"Q=(1600-125)/Rt; // heat loss, Btu/hr\n",
"printf('\t heat loss %.2f Btu/hr \n',Q);"
   ]
   }
,
{
		   "cell_type": "markdown",
		   "metadata": {},
		   "source": [
			"## Example 2.4: Heat_flow_through_pipe_wall.sce"
		   ]
		  },
  {
"cell_type": "code",
	   "execution_count": null,
	   "metadata": {
	    "collapsed": true
	   },
	   "outputs": [],
"source": [
"//page 16\n",
"clc\n",
"printf('\t example 2.4 \n');\n",
"printf('\t approximate values are mentioned in the book \n');\n",
"k=0.63; // thermal conductivity of pipe, Btu/(hr)*(ft^2)*(F/ft)\n",
"Do=6; // in\n",
"Di=5; // in\n",
"Ti=200; // inner side temperature,F\n",
"To=175; // outer side temperature,F\n",
"q=(2*(3.14)*(k)*(Ti-To))/(2.3*log10(Do/Di)); // formula for heat flow,Btu/(hr)*(ft)\n",
"printf('\t heat flow is : %.0f Btu/(hr)*(ft) \n',q); \n",
"// caculation mistake in book\n",
"// end"
   ]
   }
,
{
		   "cell_type": "markdown",
		   "metadata": {},
		   "source": [
			"## Example 2.5: Temperature.sce"
		   ]
		  },
  {
"cell_type": "code",
	   "execution_count": null,
	   "metadata": {
	    "collapsed": true
	   },
	   "outputs": [],
"source": [
"clc\n",
"//page 19\n",
"printf('\t example 2.5 \n');\n",
"printf('\t approximate values are mentioned in the book \n');\n",
"t1=150; // assume temperature of outer surface of rockwool,F\n",
"ta=70; // temperature of surrounding air,F\n",
"ha=2.23; // surface coefficient,Btu/(hr)*(ft^2)*(F)\n",
"q=(3.14)*(300-70)/(((2.3/(2*0.033))*log10(3.375/2.375))+(1/((2.23)*(3.375/12)))); // using formula for heat loss,Btu/(hr)*(lin ft), calculation mistake\n",
"printf('\t heat loss for linear foot is : %.1f Btu/(hr)*(lin ft) \n',q);\n",
"printf('\t Check between ts and t1, since delt/R = deltc/Rc \n');\n",
"t1=300-(((104.8)*((2.3)*(log10(3.375/2.375))))/((2)*(3.14)*(.033))); // using eq 2.31,F\n",
"printf('\t t1 is : %.1f F \n',t1);\n",
"t1=125; // assume temperature of outer surface of rockwool,F\n",
"ha=2.10; // surface coefficient,Btu/(hr)*(ft^2)*(F)\n",
"q=((3.14)*(300-70))/(((2.3/(2*0.033))*log10(3.375/2.375))+(1/((2.10)*(3.375/12)))); // using formula for heat loss,Btu/(hr)*(lin ft)\n",
"printf('\t heat loss for linear foot is : %.1f Btu/(hr)*(lin ft) \n',q);\n",
"printf('\t Check between ts and t1, since delt/R = deltc/Rc \n');\n",
"t1=300-(((103)*((2.3)*(log10(3.375/2.375))))/((2)*(3.14)*(.033))); // using eq 2.31,F\n",
"printf('\t t1 is : %.1f F \n',t1);\n",
"// end "
   ]
   }
],
"metadata": {
		  "kernelspec": {
		   "display_name": "Scilab",
		   "language": "scilab",
		   "name": "scilab"
		  },
		  "language_info": {
		   "file_extension": ".sce",
		   "help_links": [
			{
			 "text": "MetaKernel Magics",
			 "url": "https://github.com/calysto/metakernel/blob/master/metakernel/magics/README.md"
			}
		   ],
		   "mimetype": "text/x-octave",
		   "name": "scilab",
		   "version": "0.7.1"
		  }
		 },
		 "nbformat": 4,
		 "nbformat_minor": 0
}
