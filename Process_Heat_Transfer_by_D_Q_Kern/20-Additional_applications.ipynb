{
"cells": [
 {
		   "cell_type": "markdown",
	   "metadata": {},
	   "source": [
       "# Chapter 20: Additional applications"
	   ]
	},
{
		   "cell_type": "markdown",
		   "metadata": {},
		   "source": [
			"## Example 20.1: Calculation_of_a_Jacketed_Vessel.sce"
		   ]
		  },
  {
"cell_type": "code",
	   "execution_count": null,
	   "metadata": {
	    "collapsed": true
	   },
	   "outputs": [],
"source": [
"printf('\t example 20.1 \n');\n",
"printf('\t approximate values are mentioned in the book \n');\n",
"T=150; // F\n",
"L=0.6; // ft\n",
"N=7500; // rev/hr\n",
"row=62.5; // lb/ft^3\n",
"mu=1.06; // at 150 F and from fig 14, lb/ft*hr\n",
"k=0.38; // Btu/(hr)*(ft^2)*(F/ft), from table 4\n",
"c=1; // Btu/(lb)*(F)\n",
"Rej=(L^2)*(N)*(row)/(mu);\n",
"printf('\t Rej is : %.1e \n',Rej);\n",
"Z=1; // Z=(mu/muw)^(0.14), regarded as 1 for water\n",
"Dj=1.01; // ft, from table 11\n",
"j=1100; // fig 20.2\n",
"hi=((j)*(k/Dj)*((c*mu/k)^(1/3))*(Z)^(0.14));\n",
"printf('\t hi is : %.0f Btu/(hr)*(ft^2)*(F) \n',hi);\n",
"hoi=1500; // Btu/(hr)*(ft^2)*(F)\n",
"Uc=((hi*hoi)/(hi+hoi)); // from eq 6.38\n",
"printf('\t Uc is : %.0f Btu/(hr)*(ft^2)*(F) \n',Uc);\n",
"Rd=0.005;\n",
"hd=(1/Rd);\n",
"printf('\t hd is : %.0f \n',hd);\n",
"UD=((Uc*hd)/(Uc+hd));\n",
"printf('\t UD is : %.0f Btu/(hr)*(ft^2)*(F) \n',UD);\n",
"A=3.43; // ft^2\n",
"Q=32600;\n",
"delt=(Q/(UD*A));\n",
"printf('\t temperature difference is : %.0f F \n',delt);\n",
"Ts=(T+delt);\n",
"printf('\t temperature of the steam : %.0f F \n',Ts);\n",
"// end"
   ]
   }
,
{
		   "cell_type": "markdown",
		   "metadata": {},
		   "source": [
			"## Example 20.2: Calculation_of_a_Tube_Coil.sce"
		   ]
		  },
  {
"cell_type": "code",
	   "execution_count": null,
	   "metadata": {
	    "collapsed": true
	   },
	   "outputs": [],
"source": [
"printf('\t example 20.2 \n');\n",
"printf('\t approximate values are mentioned in the book \n');\n",
"T1=150; // F\n",
"T2=220; // F\n",
"L=0.6; // ft\n",
"N=7500; // rev/hr\n",
"row=62.5; // lb/ft^3\n",
"mu=1.06; // at 150 F and from fig 14, lb/ft*hr\n",
"k=0.38; // Btu/(hr)*(ft^2)*(F/ft), from table 4\n",
"c=1; // Btu/(lb)*(F)\n",
"Rej=(L^2)*(N)*(row)/(mu);\n",
"printf('\t Rej is : %.1e \n',Rej);\n",
"Z=1; // Z=(mu/muw)^(0.14), regarded as 1 for water\n",
"Dj=1.01; // ft, from table 11\n",
"j=1700; // fig 20.2\n",
"hi=((j)*(k/Dj)*((c*mu/k)^(1/3))*(Z)^(0.14));\n",
"printf('\t hi is : %.0f Btu/(hr)*(ft^2)*(F) \n',hi);\n",
"hoi=1500; // Btu/(hr)*(ft^2)*(F)\n",
"Uc=((hi*hoi)/(hi+hoi)); // from eq 6.38\n",
"printf('\t Uc is : %.0f Btu/(hr)*(ft^2)*(F) \n',Uc);\n",
"Rd=0.005;\n",
"hd=(1/Rd);\n",
"printf('\t hd is : %.0f \n',hd);\n",
"UD=((Uc*hd)/(Uc+hd));\n",
"printf('\t UD is : %.1f Btu/(hr)*(ft^2)*(F) \n',UD);\n",
"Q=32600;\n",
"A=(Q/(UD*(T2-T1)));\n",
"printf('\t Area is : %.2f ft^2 \n',A);\n",
"a=0.1309; // ft^2/ft\n",
"a1=(3.14*0.8*a);\n",
"printf('\t area per turn is : %.3f ft^2 \n',a1);\n",
"n=(A/a1);\n",
"printf('\t number of turns : %.1f \n',n);\n",
"// end"
   ]
   }
,
{
		   "cell_type": "markdown",
		   "metadata": {},
		   "source": [
			"## Example 20.3: Calculation_of_a_Submerged_pipe_Coil_Slurry_Cooler.sce"
		   ]
		  },
  {
"cell_type": "code",
	   "execution_count": null,
	   "metadata": {
	    "collapsed": true
	   },
	   "outputs": [],
"source": [
"printf('\t example 20.3 \n');\n",
"printf('\t approximate values are mentioned in the book \n');\n",
"T1=675; // inlet hot fluid,F\n",
"T2=200; // outlet hot fluid,F\n",
"t1=120; // inlet cold fluid,F\n",
"t2=140; // outlet cold fluid,F\n",
"W=33100; // lb/hr\n",
"w=510000; // lb/hr\n",
"printf('\t 1.for heat balance \n');\n",
"printf('\t for oil \n');\n",
"c=0.64; // Btu/(lb)*(F)\n",
"Q=((W)*(c)*(T1-T2)); // Btu/hr\n",
"printf('\t total heat required for oil is : %.2e Btu/hr \n',Q);\n",
"printf('\t for water \n');\n",
"c=1; // Btu/(lb)*(F)\n",
"Q=((w)*(c)*(t2-t1)); // Btu/hr\n",
"printf('\t total heat required for water is : %.2e Btu/hr \n',Q);\n",
"delt1=T2-t1; //F\n",
"delt2=T1-t2; // F\n",
"printf('\t delt1 is : %.0f F \n',delt1);\n",
"printf('\t delt2 is : %.0f F \n',delt2);\n",
"LMTD=230;\n",
"printf('\t LMTD is :%.0f F \n',LMTD);\n",
"Tc=((T2)+(T1))/(2); // caloric temperature of hot fluid,F\n",
"printf('\t caloric temperature of hot fluid is : %.1f F \n',Tc);\n",
"tc=((t1)+(t2))/(2); // caloric temperature of cold fluid,F\n",
"printf('\t caloric temperature of cold fluid is : %.0f \n',tc);\n",
"printf('\t hot fluid:inner tube side, oil \n');\n",
"at=0.0458; // flow area, ft^2, table 11\n",
"printf('\t flow area is : %.4f ft^2 \n',at);\n",
"Gt=(W/(at)); // mass velocity,lb/(hr)*(ft^2)\n",
"printf('\t mass velocity is : %.2e lb/(hr)*(ft^2) \n',Gt);\n",
"mu2=5.56; // at 400F,lb/(ft)*(hr)\n",
"D=0.242; // ft, table 11\n",
"Ret=((D)*(Gt)/mu2); // reynolds number\n",
"printf('\t reynolds number is : %.2e \n',Ret);\n",
"jH=100; // from fig.24\n",
"Z=0.245; // Z=(k(c*mu/k)^(1/3)), Btu/(hr)*(ft)*(F/ft), fig 16\n",
"hi=((jH)*(Z/D)); //Hi=(hi/phyp),using eq.6.15,Btu/(hr)*(ft^2)*(F)\n",
"printf('\t hi is : %.0f Btu/(hr)*(ft^2)*(F) \n',hi);\n",
"ID=2.9; // ft\n",
"OD=3.5; // ft\n",
"hio=((hi)*(ID/OD)); // using eq.6.5\n",
"printf('\t Correct hio to the surface at the OD is : %.1f Btu/(hr)*(ft^2)*(F) \n',hio);\n",
"ho=150; // Btu/(hr)*(ft^2)\n",
"tw=(tc)+(((hio)/(hio+ho))*(Tc-tc)); // from eq.5.31\n",
"printf('\t tw is : %.0f F \n',tw);\n",
"tf=(tw+tc)/2;\n",
"printf('\t tf is : %.0f F \n',tf);\n",
"delt=110; // F\n",
"d0=3.5; // in, fig 10.4\n",
"Uc=((ho*hio)/(ho+hio)); // from eq 6.38\n",
"printf('\t Uc is : %.1f Btu/(hr)*(ft^2)*(F) \n',Uc);\n",
"Rd=0.01;\n",
"hd=(1/Rd);\n",
"printf('\t hd is : %.0f \n',hd);\n",
"UD=((Uc*hd)/(Uc+hd));\n",
"printf('\t UD is : %.0f Btu/(hr)*(ft^2)*(F) \n',UD);\n",
"A=(Q/(UD*(LMTD)));\n",
"printf('\t Area is : %.0f ft^2 \n',A);\n",
"a=0.917; // ft^2/ft, table 11\n",
"L=(A/(a*24));\n",
"printf('\t pipe length : %.0f \n',L);\n",
"// end"
   ]
   }
,
{
		   "cell_type": "markdown",
		   "metadata": {},
		   "source": [
			"## Example 20.4: Calculation_of_a_Trombone_2.sce"
		   ]
		  },
  {
"cell_type": "code",
	   "execution_count": null,
	   "metadata": {
	    "collapsed": true
	   },
	   "outputs": [],
"source": [
"printf('\t example 20.4 \n');\n",
"printf('\t approximate values are mentioned in the book \n');\n",
"T1=450; // inlet hot fluid,F\n",
"T2=150; // outlet hot fluid,F\n",
"t1=85; // inlet cold fluid,F\n",
"t2=100; // outlet cold fluid,F\n",
"W=3360; // lb/hr\n",
"w=11100; // lb/hr\n",
"printf('\t 1.for heat balance \n');\n",
"printf('\t for SO2 \n');\n",
"c=0.165; // Btu/(lb)*(F)\n",
"Q=((W)*(c)*(T1-T2)); // Btu/hr\n",
"printf('\t total heat required for SO2 is : %.3e Btu/hr \n',Q);\n",
"printf('\t for water \n');\n",
"c=1; // Btu/(lb)*(F)\n",
"Q=((w)*(c)*(t2-t1)); // Btu/hr\n",
"printf('\t total heat required for water is : %.3e Btu/hr \n',Q);\n",
"delt1=T2-t1; //F\n",
"delt2=T1-t2; // F\n",
"printf('\t delt1 is : %.0f F \n',delt1);\n",
"printf('\t delt2 is : %.0f F \n',delt2);\n",
"LMTD=((delt2-delt1)/((2.3)*(log10(delt2/delt1))));\n",
"printf('\t LMTD is :%.0f F \n',LMTD);\n",
"R=20;\n",
"S=0.0412;\n",
"FT=0.98; // fig 18\n",
"delt=(FT*LMTD);\n",
"printf('\t delt is : %.0f F \n',delt);\n",
"Tc=((T2)+(T1))/(2); // caloric temperature of hot fluid,F\n",
"printf('\t caloric temperature of hot fluid is : %.0f F \n',Tc);\n",
"tc=((t1)+(t2))/(2); // caloric temperature of cold fluid,F\n",
"printf('\t caloric temperature of cold fluid is : %.1f \n',tc);\n",
"printf('\t hot fluid:inner tube side, SO2 \n');\n",
"at=0.0512; // flow area, ft^2, table 11\n",
"printf('\t flow area is : %.4f ft^2 \n',at);\n",
"Gt=(W/(at)); // mass velocity,lb/(hr)*(ft^2)\n",
"printf('\t mass velocity is : %.2e lb/(hr)*(ft^2) \n',Gt);\n",
"mu2=0.041; // at 300F,lb/(ft)*(hr), fig 15\n",
"D=0.256; // ft, table 11\n",
"Ret=((D)*(Gt)/mu2); // reynolds number\n",
"printf('\t reynolds number is : %.1e \n',Ret);\n",
"jH=790; // from fig.24\n",
"Z=0.006831; // Z=(k(c*mu/k)^(1/3)), Btu/(hr)*(ft)*(F/ft)\n",
"hi=((jH)*(Z/D)); //Hi=(hi/phyp),using eq.6.15,Btu/(hr)*(ft^2)*(F)\n",
"printf('\t hi is : %.1f Btu/(hr)*(ft^2)*(F) \n',hi);\n",
"ID=3.068; // ft\n",
"OD=3.5; // ft\n",
"hio=((hi)*(ID/OD)); // using eq.6.5\n",
"printf('\t Correct hio to the surface at the OD is : %.1f Btu/(hr)*(ft^2)*(F) \n',hio);\n",
"printf('\t cold fluid water \n');\n",
"L=8; // ft\n",
"G=(w/(2*L));\n",
"printf('\t G : %.0f lb/(hr)*(ft) \n',G);\n",
"mu1=1.94; // at 92.5F, lb/(ft)*(hr)\n",
"Re=(4*G/mu1);\n",
"printf('\t Re is : %.2e \n',Re);\n",
"Do=0.292; // ft\n",
"ho=(65*(G/Do)^(1/3));\n",
"printf('\t ho is : %.0f Btu/(hr)*(ft^2)*(F) \n',ho);\n",
"Uc=((ho*hio)/(ho+hio)); // from eq 6.38\n",
"printf('\t Uc is : %.1f Btu/(hr)*(ft^2)*(F) \n',Uc);\n",
"Rd=0.01;\n",
"hd=(1/Rd);\n",
"printf('\t hd is : %.0f \n',hd);\n",
"UD=((Uc*hd)/(Uc+hd));\n",
"printf('\t UD is : %.1f Btu/(hr)*(ft^2)*(F) \n',UD);\n",
"A=(Q/(UD*(LMTD)));\n",
"printf('\t Area is : %.1f ft^2 \n',A); // calculation mistake in book\n",
"a=0.917; // ft^2/ft, table 11\n",
"l=(A/(a*8));\n",
"printf('\t pipe length : %.2f \n',l);\n",
"// end"
   ]
   }
,
{
		   "cell_type": "markdown",
		   "metadata": {},
		   "source": [
			"## Example 20.5: Calculation_of_an_Atmospheric_Jacket_Water_Cooler.sce"
		   ]
		  },
  {
"cell_type": "code",
	   "execution_count": null,
	   "metadata": {
	    "collapsed": true
	   },
	   "outputs": [],
"source": [
"printf('\t example 20.5 \n');\n",
"printf('\t approximate values are mentioned in the book \n');\n",
"Nt=25; // number of tubes\n",
"A=50; // total projected area\n",
"Tav=100; // F\n",
"s=28; // assumption spray, lb/(min)*(ft^2)\n",
"Do=0.0833; // ft\n",
"PH=0.1562;\n",
"Y=0.874;\n",
"Z=0.466;\n",
"E=(0.171*(Do*Y*Z)^0.1); // (E/(Do*Y*Z)^0.1)=0.171, from fig 20.10\n",
"printf('\t evaporation percentage is : %.2f \n',E);\n",
"Q=(295*500*(143-130));\n",
"printf('\t heat load is : %.2e Btu/hr \n',Q);\n",
"Q1=(Q*(1-0.12));\n",
"printf('\t sensible heat is : %.2e Btu/hr \n',Q1);\n",
"t2=(90)+(Q1/(28*60*50));\n",
"printf('\t final spray temperature is : %.0f F \n',t2);\n",
"w=(s*60*50);\n",
"printf('\t total spray : %.1e lb/hr \n',w);\n",
"m=(w/(2*4*12));\n",
"printf('\t m is : %.0f lb/(hr)*(ft^2) \n',m);\n",
"mu=1.84; // lb/(ft)*(hr)\n",
"Z=((m^0.3)*Do*Y*Z/(mu*0.125));\n",
"printf('\t Z is : %.2f \n',Z);\n",
"N=3; // assume 3 horizontal rows\n",
"ho=300*(N^0.05); // (ho/(N^0.05))=300, from fig 20.11\n",
"printf('\t ho is : %.0f Btu/(hr)*(ft^2)*(F) \n',ho);\n",
"printf('\t tube side coefficient \n');\n",
"printf('\t assuming even number of passes and tube side velocity about 8fps \n');\n",
"at=0.0775; // ft^2\n",
"Gt=(295*500/(at)); // mass velocity,lb/(hr)*(ft^2)\n",
"printf('\t mass velocity is : %.1e lb/(hr)*(ft^2) \n',Gt);\n",
"V=(Gt/(3600*62.5));\n",
"printf('\t velocity is : %.2f fps \n',V);\n",
"hi=2140; // Btu/(hr)*(ft^2)*(F), fig 25\n",
"ID=0.87; // ft\n",
"OD=1; // ft\n",
"hio=((hi)*(ID/OD)); // using eq.6.5\n",
"printf('\t Correct hio to the surface at the OD is : %.2e Btu/(hr)*(ft^2)*(F) \n',hio);\n",
"Uc=((ho*hio)/(ho+hio)); // from eq 6.38\n",
"printf('\t Uc is : %.0f Btu/(hr)*(ft^2)*(F) \n',Uc);\n",
"a=0.2618; // ft^2, table 11\n",
"A1=(2*3*25*12*a);\n",
"printf('\t total surface is : %.0f ft^2 \n',A1);\n",
"T1=143; // inlet hot fluid,F\n",
"T2=130; // outlet hot fluid,F\n",
"t1=90; // inlet cold fluid,F\n",
"t2=110; // outlet cold fluid,F\n",
"delt1=T2-t1; //F\n",
"delt2=T1-t2; // F\n",
"printf('\t delt1 is : %.0f F \n',delt1);\n",
"printf('\t delt2 is : %.0f F \n',delt2);\n",
"LMTD=((delt2-delt1)/((2.3)*(log10(delt2/delt1))));\n",
"printf('\t LMTD is :%.1f F \n',LMTD); // calculation mistake in book\n",
"R=0.65;\n",
"S=0.377;\n",
"FT=0.97; // fig 18\n",
"delt=(FT*LMTD);\n",
"printf('\t delt is : %.1f F \n',delt);\n",
"UD=(Q/(A1*(delt)));\n",
"printf('\t UD is : %.0f Btu/(hr)*(ft^2)*(F) \n',UD);\n",
"Rd=((Uc-UD)/((UD)*(Uc))); // (hr)*(ft^2)*(F)/Btu\n",
"printf('\t actual Rd is : %.4f (hr)*(ft^2)*(F)/Btu \n',Rd);\n",
"printf('\t The assumption of three horizontal rows is satisfactory, since a dirt factor of 0.004 was required \n');\n",
"// end\n",
"\n",
"\n",
""
   ]
   }
,
{
		   "cell_type": "markdown",
		   "metadata": {},
		   "source": [
			"## Example 20.6: Calculation_of_the_True_Temperature_Difference.sce"
		   ]
		  },
  {
"cell_type": "code",
	   "execution_count": null,
	   "metadata": {
	    "collapsed": true
	   },
	   "outputs": [],
"source": [
"printf('\t example 20.6 \n');\n",
"printf('\t approximate values are mentioned in the book \n');\n",
"T1=200; // inlet hot fluid,F\n",
"T2=100; // outlet hot fluid,F\n",
"t1=50; // inlet cold fluid,F\n",
"t2=100; // outlet cold fluid,F\n",
"R=((T1-T2)/(t2-t1));\n",
"printf('\t R is : %.0f \n',R);\n",
"V=((T1+T2-t1-t2)/(t2-t1))/(2);\n",
"printf('\t V is : %.1f \n',V);\n",
"u=120;\n",
"U=60;\n",
"F=((u*1)/(U*2));\n",
"printf('\t F is : %.0f \n',F);\n",
"E=1.1; // In Fig.20.18b for R = 2.0and F = l.O,the abscissa and ordinate intersect at E =1.10.\n",
"Z=(E/V);\n",
"printf('\t Z is : %.3f \n',Z);\n",
"deltD=0.783*V; // deltD/V=0.783, from fig 20.17\n",
"printf('\t deltD is : %.3f \n',deltD);\n",
"delt=(deltD*(t2-t1));\n",
"printf('\t delt is : %.1f \n',delt);\n",
"delt1=T2-t1; //F\n",
"delt2=T1-t2; // F\n",
"printf('\t delt1 is : %.0f F \n',delt1);\n",
"printf('\t delt2 is : %.0f F \n',delt2);\n",
"LMTD=((delt2-delt1)/((2.3)*(log10(delt2/delt1))));\n",
"printf('\t LMTD is :%.0f F \n',LMTD);\n",
"// end"
   ]
   }
,
{
		   "cell_type": "markdown",
		   "metadata": {},
		   "source": [
			"## Example 20.7: calculation_of_Sand_Cooling_with_Negllgible_Resistance.sce"
		   ]
		  },
  {
"cell_type": "code",
	   "execution_count": null,
	   "metadata": {
	    "collapsed": true
	   },
	   "outputs": [],
"source": [
"printf('\t example 20.7 \n');\n",
"printf('\t approximate values are mentioned in the book \n');\n",
"T1=284; // inlet hot fluid,F\n",
"T2=104; // outlet hot fluid,F\n",
"t1=86; // inlet cold fluid,F\n",
"t2=104; // outlet cold fluid,F\n",
"W=1000; // lb/hr\n",
"k=0.15; // thermal conductivity\n",
"L=10;\n",
"Beta=((2*k)/(500*(2/12))); // hoi=500Btu/(hr)*(ft^2)*(F) for water\n",
"printf('\t beta is : %.4f \n',Beta);\n",
"printf('\t for sand \n');\n",
"C=0.2; // Btu/(lb)*(F)\n",
"Q=((W)*(C)*(T1-T2)); // Btu/hr\n",
"printf('\t total heat required for sand is : %.1e Btu/hr \n',Q);\n",
"c=1;\n",
"w=(Q/(t2-t1));\n",
"printf('\t w is : %.0e lb/hr \n',w);\n",
"R=((W*C)/(w*c));\n",
"printf('\t R is : %.1f \n',R);\n",
"S=((T2-T1)/(t1-T1));\n",
"printf('\t S is : %.2f \n',S);\n",
"W1=(8.33*(k*L)/C); // ((W1*C)/(k*L))=8.33 from fig 20.20b for Beta=0\n",
"printf('\t rate per tube is : %.1f lb/hr \n',W1);\n",
"N1=(W/W1);\n",
"printf('\t number of tubes : %.0f \n',N1);\n",
"printf('\t for air assume hoi=9 and Beta=0.2 \n');\n",
"c1=0.25;\n",
"w1=(Q/(c1*(t2-t1)));\n",
"printf('\t w1 is : %.0e lb/hr \n',w1);\n",
"W2=(5.23*(k*L)/C); // ((W1*C)/(k*L))=5.23 from fig 20.20b for Beta=0.2\n",
"printf('\t rate per tube is : %.0f lb/hr \n',W2);\n",
"N2=(W/W2);\n",
"printf('\t number of tubes : %.0f \n',N2);\n",
"// end\n",
"\n",
"\n",
"\n",
"\n",
"\n",
"\n",
""
   ]
   }
,
{
		   "cell_type": "markdown",
		   "metadata": {},
		   "source": [
			"## Example 20.8_1: Immersion_Water_Heater.sce"
		   ]
		  },
  {
"cell_type": "code",
	   "execution_count": null,
	   "metadata": {
	    "collapsed": true
	   },
	   "outputs": [],
"source": [
"printf('\t example 20.8a \n');\n",
"printf('\t approximate values are mentioned in the book \n');\n",
"L=3; // ft\n",
"B=2; // ft\n",
"h=18/12; // ft , height of water present in tank\n",
"printf('\t unsteady state \n');\n",
"m=(L*B*h*62.5);\n",
"printf('\t Lb of water is : %.1f lb \n',m);\n",
"t1=50;\n",
"t2=150;\n",
"c=1;\n",
"Q=(m*c*(t2-t1))/(2*3412); // kwhr\n",
"printf('\t heat to be supplied : %.2f kwhr \n',Q);\n",
"printf('\t losses \n');\n",
"Q1=(L*B*260)/(1000); // from fig 20.25c\n",
"printf('\t from surface of water : %.2f kwhr \n',Q1);\n",
"Q2=(5.5*((2*B*2)+(2*L*B))/(1000)); // from fig 20.25c\n",
"printf('\t from sides of vessel : %.2f kwhr \n',Q2);\n",
"printf('\t losses from bottom are negigible \n');\n",
"Qt=(Q+Q1+Q2);\n",
"printf('\t total requirement : %.2f kwhr \n',Qt);\n",
"printf('\t steady state \n');\n",
"m1=8; // gal/hr\n",
"Qs=(m1*8.33*c*(t2-t1))/(3412); // kwhr\n",
"printf('\t heat to be supplied : %.2f kwhr \n',Qs);\n",
"Qts=(Qs+Q1+Q2);\n",
"printf('\t total requirement : %.2f kwhr \n',Qts);\n",
"// end\n",
""
   ]
   }
,
{
		   "cell_type": "markdown",
		   "metadata": {},
		   "source": [
			"## Example 20.8_2: Strip_Heater_for_Air_Heating.sce"
		   ]
		  },
  {
"cell_type": "code",
	   "execution_count": null,
	   "metadata": {
	    "collapsed": true
	   },
	   "outputs": [],
"source": [
"printf('\t example 20.8b \n');\n",
"printf('\t approximate values are mentioned in the book \n');\n",
"m=100; // lb\n",
"t1=70;\n",
"t2=370; \n",
"L=4;\n",
"B=3;\n",
"n=4; // number of air changers\n",
"c1=0.12\n",
"Q1=(m*c1*(t2-t1));\n",
"printf('\t heat to steel charge : %.1e Btu \n',Q1);\n",
"c2=0.25\n",
"Q2=(n*L*B*2*0.075*c2*(t2-t1));\n",
"printf('\t heat to air : %.1e Btu \n',Q2);\n",
"printf('\t From Fig. 20.25a for 52ft^2 of oven outside·surface and a temperature rise of 300F the loss is 5kw for 1 in.thick insulations.For 2 in.thick insulation the loss is 2.5kw \n');\n",
"Qt=((Q1+Q2)/(3412))+(2.5);\n",
"printf('\t total requirement : %.2f kw \n',Qt);\n",
"// end"
   ]
   }
,
{
		   "cell_type": "markdown",
		   "metadata": {},
		   "source": [
			"## Example 20.8_3: Finned_strip_Heater.sce"
		   ]
		  },
  {
"cell_type": "code",
	   "execution_count": null,
	   "metadata": {
	    "collapsed": true
	   },
	   "outputs": [],
"source": [
"printf('\t example 20.8c \n');\n",
"printf('\t approximate values are mentioned in the book \n');\n",
"m=270; // cfm\n",
"t1=70;\n",
"t2=120; \n",
"L=1.5; // ft\n",
"B=1.5; // ft\n",
"c=0.25\n",
"row=0.075; // lb/ft^3\n",
"Q=(m*row*60*c*(t2-t1));\n",
"printf('\t heat : %.2e Btu \n',Q);\n",
"V=(m/(L*B*60)); // fps\n",
"printf('\t velocity is : %.0f fps \n',V);\n",
"printf('\t Refer to Fig.20.22a.The air is capable of removing 33watts/in which is the maximum dissipation which may be expected. Any group of heaters providing 5 kw which do not require a dissipation of more than 33 w/in. and which will fit into the duct will be satisfactory \n');\n",
"printf('\t Thus in Table 20.3 elements of 350 watts with a total length each of 18 in. each are satisfactory \n');\n",
"// end"
   ]
   }
,
{
		   "cell_type": "markdown",
		   "metadata": {},
		   "source": [
			"## Example 20.8_4: Clamp_on_Plastic_Heating.sce"
		   ]
		  },
  {
"cell_type": "code",
	   "execution_count": null,
	   "metadata": {
	    "collapsed": true
	   },
	   "outputs": [],
"source": [
"printf('\t example 20.8d \n');\n",
"printf('\t approximate values are mentioned in the book \n');\n",
"t1=70;\n",
"t2=300; \n",
"L=26; // in\n",
"B=12; // in\n",
"H=1; // in\n",
"c1=0.13\n",
"// specific gravity of cast iron is 7.2\n",
"printf('\t unsteady state \n');\n",
"m=(L*B*H*62.5*7.2/1728); // lb\n",
"printf('\t weight of plate : %.0f lb \n',m);\n",
"Q1=(m*c1*(t2-t1));\n",
"printf('\t heat : %.1e Btu \n',Q1);\n",
"printf('\t From Figure 20.25b for a black body the radiation is 1.5w/in^2.The radiation from the top is actually 110 per cent of this value, and from the bottom of the plate it is 55 per cent for an average of 82.5 per cent is taken \n');\n",
"Q2=(2*26*12*1.5*0.825/1000); // ke\n",
"printf('\t radiation loss : %.1f kw \n',Q2);\n",
"Qt=((Q1)/(3412))+(Q2);\n",
"printf('\t total requirement : %.1f kw \n',Qt);\n",
"printf('\t staedy state \n');\n",
"m2=70;\n",
"c2=0.22;\n",
"Qs=(m2*c2*(t2-t1));\n",
"printf('\t heat : %.2e Btu \n',Qs);\n",
"Ql=0.8; // kw\n",
"Qts=((Qs)/(3412))+(Ql);\n",
"printf('\t total requirement : %.2f kw \n',Qts);\n",
"printf('\t The steady state is controlling.The requirements are satisfied, by four 24-in. strip heaters, but the sheath temperature must now be checked. Since the temperature drop per unit flux density is 14 to 19F, assume an average of 16.5°F. For clamp-on strips 24 in. long the watts per square inch deliverable are 16 \n');\n",
"delt=(16*16.5);\n",
"printf('\t delt is : %.0f F \n',delt);\n",
"printf('\t The sheath temperature is then 300 + 264 = 564°F, which is satisfactory for steel sheathed elements with a 750F maximum. \n');\n",
"// end"
   ]
   }
],
"metadata": {
		  "kernelspec": {
		   "display_name": "Scilab",
		   "language": "scilab",
		   "name": "scilab"
		  },
		  "language_info": {
		   "file_extension": ".sce",
		   "help_links": [
			{
			 "text": "MetaKernel Magics",
			 "url": "https://github.com/calysto/metakernel/blob/master/metakernel/magics/README.md"
			}
		   ],
		   "mimetype": "text/x-octave",
		   "name": "scilab",
		   "version": "0.7.1"
		  }
		 },
		 "nbformat": 4,
		 "nbformat_minor": 0
}
