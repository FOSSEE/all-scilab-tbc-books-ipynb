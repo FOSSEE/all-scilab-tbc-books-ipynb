{
"cells": [
 {
		   "cell_type": "markdown",
	   "metadata": {},
	   "source": [
       "# Chapter 4: Radiation"
	   ]
	},
{
		   "cell_type": "markdown",
		   "metadata": {},
		   "source": [
			"## Example 4.1: Radiation_between_large_2_planes.sce"
		   ]
		  },
  {
"cell_type": "code",
	   "execution_count": null,
	   "metadata": {
	    "collapsed": true
	   },
	   "outputs": [],
"source": [
"clc\n",
"//page 75\n",
"printf('\t example 4.1 \n');\n",
"printf('\t approximate values are mentioned in the book \n');\n",
"T1=1000+460; // R\n",
"T2=800+460; // R\n",
"Q=((0.173)*((14.6)^4-(12.6)^4)); // using eq.4.24,Btu/(hr)*(ft^2)\n",
"printf('\t heat removed from colder wall per unit area is : %.0f Btu/(hr)*(ft^2) \n',Q);\n",
"// end"
   ]
   }
,
{
		   "cell_type": "markdown",
		   "metadata": {},
		   "source": [
			"## Example 4.2: Radiation_between_Planes_with_Different_Emissivities.sce"
		   ]
		  },
  {
"cell_type": "code",
	   "execution_count": null,
	   "metadata": {
	    "collapsed": true
	   },
	   "outputs": [],
"source": [
"printf('\t example 4.2 \n');\n",
"printf('\t approximate values are mentioned in the book \n');\n",
"T1=1000+460; // R\n",
"T2=800+460; // R\n",
"e1=0.6; // emissivity of hotter wall\n",
"e2=0.8; // emissivity of colder wall\n",
"Q=(((0.173)/((1/0.6)+(1/0.8)-1))*((14.6)^4-(12.6)^4)); // using eq.4.26,heat loss per unit area,Btu/(hr)*(ft^2)\n",
"printf('\t heat removed from colder wall per unit area is : %.0f Btu/(hr)*(ft^2) \n',Q);\n",
"printf('\t For perfect black bodies the value was 3500 Btu/(hr)(ft^2) \n');\n",
"// end"
   ]
   }
,
{
		   "cell_type": "markdown",
		   "metadata": {},
		   "source": [
			"## Example 4.3: Calculation_of_Radiation_from_a_Pipe.sce"
		   ]
		  },
  {
"cell_type": "code",
	   "execution_count": null,
	   "metadata": {
	    "collapsed": true
	   },
	   "outputs": [],
"source": [
"clc\n",
"//page 78\n",
"printf('\t example 4.3 \n');\n",
"printf('\t approximate values are mentioned in the book \n');\n",
"T1=125+460; // R\n",
"T2=70+460; // R\n",
"e=0.9; // emissivity,using table 4.1B\n",
"A=(%pi)*(3.375/12)*(1); // area,ft^2/lin ft\n",
"printf('\t area is : %.2f ft^2/lin ft \n',A);\n",
"Q=(0.9)*(0.88)*(0.173)*((T1/100)^4-(T2/100)^4); // heat loss using eq.4.32,Btu/(hr)*(lin ft)\n",
"printf('\t heat loss  is : %.1f Btu/(hr)*(lin ft) \n',Q);\n",
"hr=(Q)/((A)*(T1-T2)); // fictitious film coefficient,using eq 4.33,Btu/(hr)(ft^2)(F)\n",
"printf('\t fictitious film coefficient is : %.2f Btu/(hr)(ft^2)(F) \n',hr);\n",
"//end"
   ]
   }
,
{
		   "cell_type": "markdown",
		   "metadata": {},
		   "source": [
			"## Example 4.4: Radiation_from_a_Pipe_to_a_Duct.sce"
		   ]
		  },
  {
"cell_type": "code",
	   "execution_count": null,
	   "metadata": {
	    "collapsed": true
	   },
	   "outputs": [],
"source": [
"clc\n",
"//page 82\n",
"printf('\t example 4.4 \n');\n",
"printf('\t approximate values are mentioned in the book \n');\n",
"T1=300+460; // R\n",
"T2=75+460; //R\n",
"A1=0.622; // area from table 11 in the appendix A,ft^2/lin ft\n",
"A2=4*(1*1); // surface area of duct,ft^2/lin ft\n",
"e1=0.79; // emissivity of oxidized steel from table 4.1\n",
"e2=0.276; // emissivity of oxidized zinc from table 4.1\n",
"printf('\t surface area of pipe is : %.3f ft^2/lin ft \n',A1);\n",
"printf('\t surface area of duct is : %.0f ft^2/lin ft \n',A2);\n",
"printf('\t The surface of the pipe is not negligible by comparison with that of the duct, and(f) of Table 4.2 applies most nearly \n');\n",
"Fa=1; // from table 4.2\n",
"Fe=((1)/((1/e1)+((A1/A2)*((1/e2)-1)))); // from table 4.2\n",
"printf('\t Fe is : %.2f \n',Fe);\n",
"Q=(0.173*10^-8)*(Fa)*(Fe)*(A1)*((T1)^4-(T2)^4); // heat loss due to radiation,Btu/(hr)*(lin ft)\n",
"printf('\t heat loss due to radiation is : %.0f Btu/(hr)*(lin ft) \n',Q);\n",
"// end"
   ]
   }
],
"metadata": {
		  "kernelspec": {
		   "display_name": "Scilab",
		   "language": "scilab",
		   "name": "scilab"
		  },
		  "language_info": {
		   "file_extension": ".sce",
		   "help_links": [
			{
			 "text": "MetaKernel Magics",
			 "url": "https://github.com/calysto/metakernel/blob/master/metakernel/magics/README.md"
			}
		   ],
		   "mimetype": "text/x-octave",
		   "name": "scilab",
		   "version": "0.7.1"
		  }
		 },
		 "nbformat": 4,
		 "nbformat_minor": 0
}
