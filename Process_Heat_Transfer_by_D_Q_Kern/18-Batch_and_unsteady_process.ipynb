{
"cells": [
 {
		   "cell_type": "markdown",
	   "metadata": {},
	   "source": [
       "# Chapter 18: Batch and unsteady process"
	   ]
	},
{
		   "cell_type": "markdown",
		   "metadata": {},
		   "source": [
			"## Example 18.1: Calculation_of_Batch_Heating.sce"
		   ]
		  },
  {
"cell_type": "code",
	   "execution_count": null,
	   "metadata": {
	    "collapsed": true
	   },
	   "outputs": [],
"source": [
"printf('\t example 18.1 \n');\n",
"// specific gravity of benzene is 0.88\n",
"// specific heat of benzene is 0.48 Btu/(lb)*(F)\n",
"U=50;\n",
"A=400;\n",
"T1=400;\n",
"t1=100;\n",
"t2=300;\n",
"c=0.48;\n",
"w=40000;\n",
"C=0.60;\n",
"W=10000;\n",
"printf('\t values are approximately mentioned in the book \n');\n",
"printf('\t for a \n');\n",
"M=(7500*8.33*0.88);\n",
"printf('\t weight of benzene is : %.1e lb \n',M);\n",
"Q1=(w*c);\n",
"printf('\t Q1 is : %.2e Btu/(hr)*(F) \n',Q1);\n",
"Q2=(W*C);\n",
"printf('\t Q2 is : %.0e Btu/(hr)*(F) \n',Q2);\n",
"Ks=((%e)^(U*A*((1/Q1)-(1/Q2)))); // eq 18.16\n",
"printf('\t Ks is : %.3f \n',Ks);\n",
"Z=log((T1-t1)/(T1-t2));\n",
"printf('\t Z is : %.3f \n',Z);\n",
"theta=((M*(Z)*(Ks*6000-(19200)))/((Ks-1)*40000*6000));\n",
"printf('\t theta is : %.1f hr \n',theta);\n",
"printf('\t for b \n');\n",
"R=(Q1/Q2);\n",
"printf('\t R is : %.1f \n',R);\n",
"KT=((%e)^(U*(A/Q1)*(1+R^2)^(1/2)));\n",
"printf('\t KT is : %.0f \n',KT);\n",
"S=((2*(KT-1))/((KT*(R+1+(1+R^2)^(1/2)))-(R+1-(1+R^2)^(1/2)))); // eq 18.24\n",
"printf('\t S is : %.3f \n',S);\n",
"theta1=((M*Z)/(0.266*40000)); // eq 18.25\n",
"printf('\t theta1 is : %.2f hr \n',theta1);\n",
"printf('\t for c \n');\n",
"U1=100;\n",
"A1=200;\n",
"K8=((%e)^(U*(A/(2*Q1))*(1+R^2)^(1/2))); // eq 18.32\n",
"S1=((2*(K8-1)*(1+((1-0.266)*(1-(3.2*0.266)))^(1/2)))/(((K8-1)*(3.2+1))+((K8+1)*(1+3.2^2)^(1/2)))); // eq 18.31\n",
"printf('\t K8 is : %.2f \n',K8);\n",
"printf('\t S1 is : %.3f \n',S1);\n",
"theta2=((M*Z)/(0.282*40000)); // eq 18.25\n",
"printf('\t theta2 is : %.2f hr \n',theta2);\n",
"printf('\t for d \n');\n",
"K9=((%e)^(U*(A/(Q1))*(R-1)));\n",
"S2=((K9-1)/((K9*R)-1)); // eq 18.36\n",
"printf('\t K9 is : %.2f \n',K9);\n",
"printf('\t S2 is : %.2f \n',S2);\n",
"t=100;\n",
"t1=t+(S2*(T1-t)); // 18.37\n",
"printf('\t t1 is : %.0f F \n',t1);\n",
"t2=t1+(S2*(T1-t1));\n",
"printf('\t t2 is : %.0f F \n',t2);\n",
"t3=t2+(S2*(T1-t2));\n",
"printf('\t t3 is : %.0f F \n',t3);\n",
"t4=t3+(S2*(T1-t3));\n",
"printf('\t t4 is : %.0f F \n',t4);\n",
"x=0.23;\n",
"printf('\t fractional circulation is : %.2f \n',x);\n",
"N=3+x;\n",
"printf('\t total fractional circulation : %.2f \n',N);\n",
"theta3=(N*(M/w));\n",
"printf('\t theta3 is : %.2f \n',theta3);\n",
"// end"
   ]
   }
,
{
		   "cell_type": "markdown",
		   "metadata": {},
		   "source": [
			"## Example 18.2: Heat_Flow_through_a_Wall.sce"
		   ]
		  },
  {
"cell_type": "code",
	   "execution_count": null,
	   "metadata": {
	    "collapsed": true
	   },
	   "outputs": [],
"source": [
"printf('\t example 18.2 \n');\n",
"tav=500; // F\n",
"Ts=1000; \n",
"t0=100;\n",
"c=0.12; // Btu/(lb)*(F)\n",
"k=24; // Btu/(hr)*(ft^2)*(F/ft)\n",
"row=488; // lb/ft^3\n",
"alpha=0.41; // alpha=(k/(c*row)), ft^2/hr\n",
"x=0.333; // ft\n",
"theta=4;\n",
"printf('\t values are approximately mentioned in the book \n');\n",
"X=(x/(2*(alpha*theta)^(1/2)));\n",
"printf('\t X is : %.2f \n',X);\n",
"Y=0.142; // Y=f1(X) from fig 18.7 \n",
"t=Ts+(t0-Ts)*(Y); // eq 18.43\n",
"printf('\t t si : %.0f F \n',t);\n",
"q=((k*(Ts-t0))/(3.14*alpha*theta)^(1/2)); // q=(Q/A),from eq 18.47\n",
"printf('\t q is : %.0f Btu/(hr)*(ft^2) \n',q);\n",
"q1=(2*k*(Ts-t0)*(theta/(3.14*alpha))^(1/2)); // q=(Q1/A). eq 18.49\n",
"printf('\t The total heat which flowed through a square foot of wall in the 4 hr is : %.1e Btu/ft^2 \n',q1);\n",
"// end"
   ]
   }
,
{
		   "cell_type": "markdown",
		   "metadata": {},
		   "source": [
			"## Example 18.3: Center_line_Temperature_of_a_Shaft.sce"
		   ]
		  },
  {
"cell_type": "code",
	   "execution_count": null,
	   "metadata": {
	    "collapsed": true
	   },
	   "outputs": [],
"source": [
"printf('\t example 18.3 \n');\n",
"Ts=1000; \n",
"t0=100;\n",
"alpha=0.41; // alpha=(k/(c*row)), ft^2/hr\n",
"theta=15/60;\n",
"l=1; // ft\n",
"X=(4*alpha*theta)/(l^2);\n",
"printf('\t X is : %.2f \n',X);\n",
"Y=0.155; // Y=f3*(X)from fig 18.9 when L=infinity\n",
"t=Ts+(t0-Ts)*(Y); // eq 18.52\n",
"printf('\t t si : %.1e F \n',t);\n",
"// end"
   ]
   }
,
{
		   "cell_type": "markdown",
		   "metadata": {},
		   "source": [
			"## Example 18.4: The_Schack_Chart.sce"
		   ]
		  },
  {
"cell_type": "code",
	   "execution_count": null,
	   "metadata": {
	    "collapsed": true
	   },
	   "outputs": [],
"source": [
"printf('\t example 18.4 \n');\n",
"T1=1100; // F\n",
"T2=70; // F\n",
"t1=T1+460; // R\n",
"t2=T2+460; // R\n",
"k=27; // from appendix\n",
"c=0.14; // from appendix\n",
"row=490; // from appendix\n",
"alpha=0.394;\n",
"theta=4;\n",
"l=10/12; // ft\n",
"x=0.173*10^(-8); // stefan constant\n",
"e=0.7; // emmisivity\n",
"printf('\t values are approximately mentioned in the book \n');\n",
"printf('\t for a \n');\n",
"// Assume the temperature is 500°F after 4 hr. The coefficient from plate to air is the· sum of the radiation and convection coefficients\n",
"hri=(e*x*(t1^4-t2^4))/(T1-T2);\n",
"printf('\t radiation coefficient is : %.1f Btu/(hr)*(ft^2)*(F) \n',hri); // eq 4.32\n",
"hci=(0.3*(T1-T2)^(1/4)); // eq 10.10\n",
"printf('\t convection coefficient is : %.1f Btu/(hr)*(ft^2)*(F) \n',hci);\n",
"hti=hri+hci;\n",
"printf('\t total intial coefficient is : %.1f Btu/(hr)*(ft^2)*(F) \n',hti);\n",
"// For the 4-hr coefficient at 500°F\n",
"hr=2.2; // Btu/(hr)*(ft^2)*(F)\n",
"hc=1.35; // Btu/(hr)*(ft^2)*(F)\n",
"ht=hr+hc;\n",
"printf('\t total intial coefficient is : %.1f Btu/(hr)*(ft^2)*(F) \n',ht);\n",
"h=(hti+ht)/2;\n",
"printf('\t mean coefficient is : %.1f Btu/(hr)*(ft^2)*(F) \n',h);\n",
"X=(4*alpha*theta)/(l^2);\n",
"Y=(h*l)/(2*k);\n",
"printf('\t X is : %.1f \n',X);\n",
"printf('\t Y is : %.3f \n',Y);\n",
"Z=0.42; // Z=f3(X,Y), from fig 18.10\n",
"t=T2+((T1-T2)*Z); // eq 18.53\n",
"printf('\t t is : %.0f F \n',t);\n",
"printf('\t for b \n');\n",
"Z1=0.43; // Z=f4(X,Y), from fig 18.11\n",
"t1=T2+((T1-T2)*Z1); // eq 18.53\n",
"printf('\t temperature of center plane is : %.0f F \n',t1);\n",
"// end"
   ]
   }
,
{
		   "cell_type": "markdown",
		   "metadata": {},
		   "source": [
			"## Example 18.5: The_Gumey_Lurle_Chart.sce"
		   ]
		  },
  {
"cell_type": "code",
	   "execution_count": null,
	   "metadata": {
	    "collapsed": true
	   },
	   "outputs": [],
"source": [
"printf('\t example 18.5 \n');\n",
"Ts=400;\n",
"t0=200;\n",
"k=25; // from appendix\n",
"c=0.12; // from appendix\n",
"row=490; // from appendix\n",
"alpha=0.45; // alpha=(k/(c*row))\n",
"theta=15/60;\n",
"l=8/12; // ft\n",
"h=50;\n",
"X=(4*alpha*theta)/(l^2);\n",
"Z=(2*k)/(h*l);\n",
"printf('\t X is : %.2f \n',X);\n",
"printf('\t Z is : %.1f \n',Z);\n",
"Y=0.31; // Y=(Ts-t)/(Ts-t0), from fig 18.13\n",
"t=Ts+(t0-Ts)*(Y); // eq 18.43\n",
"printf('\t t is : %.0f F \n',t);\n",
"//end"
   ]
   }
,
{
		   "cell_type": "markdown",
		   "metadata": {},
		   "source": [
			"## Example 18.6: The_Application_of_Newmans_Method_to_Heating_a_Brick.sce"
		   ]
		  },
  {
"cell_type": "code",
	   "execution_count": null,
	   "metadata": {
	    "collapsed": true
	   },
	   "outputs": [],
"source": [
"printf('\t example 18.6 \n');\n",
"Ts=300; \n",
"t0=70;\n",
"c=0.25; // Btu/(lb)*(F)\n",
"k=0.3; // Btu/(hr)*(ft^2)*(F/ft)\n",
"row=103; // lb/ft^3\n",
"alpha=0.01164; // alpha=(k/(c*row)), ft^2/hr\n",
"theta=1;\n",
"lx=9/12;\n",
"ly=4.5/12;\n",
"lz=2.5/12;\n",
"h=4.1;\n",
"printf('\t values are approximately mentioned in the book \n')\n",
"X1=(4*alpha*theta)/(lx^2);\n",
"Z1=(2*k)/(h*lx);\n",
"printf('\t X1 is : %.4f \n',X1);\n",
"printf('\t Z1 is : %.3f \n',Z1);\n",
"X2=(4*alpha*theta)/(ly^2);\n",
"Z2=(2*k)/(h*ly);\n",
"printf('\t X2 is : %.4f \n',X2);\n",
"printf('\t Z2 is : %.3f \n',Z2);\n",
"X3=(4*alpha*theta)/(lz^2);\n",
"Z3=(2*k)/(h*lz);\n",
"printf('\t X3 is : %.3f \n',X3);\n",
"printf('\t Z3 is : %.3f \n',Z3);\n",
"printf('\t at centre (2*x/l) is zero \n');\n",
"Yx=0.98; // fig 18.12\n",
"Yy=0.75; // fig 18.12\n",
"Yz=0.43; // fig 18.12\n",
"printf('\t at surface (2*x/l) is one \n');\n",
"Yx1=0.325; // fig 18.12\n",
"Yy1=0.29; // fig 18.12\n",
"Yz1=0.245; // fig 18.12\n",
"printf('\t center of brick \n');\n",
"t1=Ts-(Yx*Yy*Yz*(Ts-t0));\n",
"printf('\t t1 is : %.1f F \n',t1);\n",
"printf('\t corner of brick \n');\n",
"t2=Ts-(Yx1*Yy1*Yz1*(Ts-t0));\n",
"printf('\t t2 is : %.1f F \n',t2);\n",
"printf('\t center of 9 by 4.5in face \n');\n",
"t3=Ts-(Yx*Yy*Yz1*(Ts-t0));\n",
"printf('\t t3 is : %.1f F \n',t3);\n",
"printf('\t center of 9 by 2.5in face \n');\n",
"t4=Ts-(Yx*Yy1*Yz*(Ts-t0));\n",
"printf('\t t4 is : %.0f F \n',t4);\n",
"printf('\t center of 4.5 by 2.5in face \n');\n",
"t5=Ts-(Yx1*Yy*Yz*(Ts-t0));\n",
"printf('\t t5 is : %.1f F \n',t5);\n",
"printf('\t middle of long edge \n');\n",
"t6=Ts-(Yx*Yy1*Yz1*(Ts-t0));\n",
"printf('\t t6 is : %.0f F \n',t6);\n",
"//end"
   ]
   }
,
{
		   "cell_type": "markdown",
		   "metadata": {},
		   "source": [
			"## Example 18.7: The_Graphical_Determination_of_the_Time_Temperature_Distribution.sce"
		   ]
		  },
  {
"cell_type": "code",
	   "execution_count": null,
	   "metadata": {
	    "collapsed": true
	   },
	   "outputs": [],
"source": [
"printf('\t example 18.7 \n');\n",
"t=20; // min\n",
"alpha=0.40; // ft^2/hr\n",
"delx=0.167; // ft\n",
"// From the conditions of Eq. (18.61) take time increments such that alpha(deltheta/delx^2)=1/2\n",
"printf('\t approximate values are mentioned in the book \n');\n",
"deltheta=(delx^2/(2*alpha));\n",
"printf('\t deltheta is : %.3f hr \n',deltheta);\n",
"N=(t/(deltheta*60));\n",
"printf('\t number of steps required : %.1f \n',N);\n",
"// end"
   ]
   }
,
{
		   "cell_type": "markdown",
		   "metadata": {},
		   "source": [
			"## Example 18.8: Calculations_for_a_Wall_with_Periodic_Temperature_Variation.sce"
		   ]
		  },
  {
"cell_type": "code",
	   "execution_count": null,
	   "metadata": {
	    "collapsed": true
	   },
	   "outputs": [],
"source": [
"printf('\t example 18.8 \n');\n",
"k=0.3;\n",
"row=103;\n",
"c=0.25;\n",
"alpha=0.01164;\n",
"f=1/24;\n",
"t1=120;\n",
"t2=60;\n",
"printf('\t approximate values are mentioned in the book \n');\n",
"printf('\t temperature lag 6in below the surface \n');\n",
"x=6/12;\n",
"theta=(x/2)*(1/(3.14*f*alpha))^(1/2); // eq 18.65\n",
"printf('\t theta is : %.2f hr \n',theta);\n",
"printf('\t amplitude \n');\n",
"deltom=(t1-t2)/2;\n",
"printf('\t deltom is : %.0f F \n',deltom);\n",
"delt=(deltom)*(%e)^(-x*(3.14*f/alpha)^(1/2)); // eq 18.67\n",
"printf('\t delt is : %.1f F \n',delt); // calculation mistake in book\n",
"printf('\t temperature deviation after 2 hr \n');\n",
"theta1=2; // hr\n",
"deltx=(deltom)*((%e)^(-x*(3.14*f/alpha)^(1/2)))*cos((2*3.14*f*theta1)-(x*(3.14*f/alpha)^(1/2))); // eq 18.69\n",
"printf('\t deltx is : %.1f F \n',deltx);\n",
"printf('\t heat flow during the half period \n');\n",
"q=(k*deltom*(2/(3.14*f*alpha))^(1/2)); // eq 18.70\n",
"printf('\t heat flow is : %.0f Btu/(hr)*(ft^2) \n',q);\n",
"// end"
   ]
   }
,
{
		   "cell_type": "markdown",
		   "metadata": {},
		   "source": [
			"## Example 18.9: Calculation_of_the_Length_of_a_Bed.sce"
		   ]
		  },
  {
"cell_type": "code",
	   "execution_count": null,
	   "metadata": {
	    "collapsed": true
	   },
	   "outputs": [],
"source": [
"printf('\t example 18.9 \n');\n",
"G=60; // lb/(hr)*(ft^2)\n",
"De=1/12; // ft\n",
"theta=6; // hr\n",
"cs=41.3; // Btu/(ft^3)*(F)\n",
"c=0.0191; // Btu/(ft^3)*(F)\n",
"f=0.45; // void fraction\n",
"T=90;\n",
"T1=200;\n",
"t0=50;\n",
"h=(0.79*(G/De)^0.7); // eq 18.90\n",
"printf('\t h is : %.1f \n',h);\n",
"X=(h*theta/(cs*(1-f)));\n",
"Y=(T-t0)/(T1-t0);\n",
"printf('\t X is : %.0f \n',X);\n",
"printf('\t Y is : %.3f \n',Y);\n",
"row=0.0807; // lb/(ft^3) air\n",
"Z=24.5; // Z=(h*x*row/(c*G)), by comparing X an Y in fig 18.21\n",
"x=24.5*(c*G/(h*row));\n",
"printf('\t x is : %.1f ft \n',x);\n",
"// end"
   ]
   }
],
"metadata": {
		  "kernelspec": {
		   "display_name": "Scilab",
		   "language": "scilab",
		   "name": "scilab"
		  },
		  "language_info": {
		   "file_extension": ".sce",
		   "help_links": [
			{
			 "text": "MetaKernel Magics",
			 "url": "https://github.com/calysto/metakernel/blob/master/metakernel/magics/README.md"
			}
		   ],
		   "mimetype": "text/x-octave",
		   "name": "scilab",
		   "version": "0.7.1"
		  }
		 },
		 "nbformat": 4,
		 "nbformat_minor": 0
}
