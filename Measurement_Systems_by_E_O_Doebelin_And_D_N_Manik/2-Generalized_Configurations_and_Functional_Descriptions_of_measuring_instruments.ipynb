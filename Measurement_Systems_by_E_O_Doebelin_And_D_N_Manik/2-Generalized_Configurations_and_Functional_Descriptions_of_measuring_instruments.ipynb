{
"cells": [
 {
		   "cell_type": "markdown",
	   "metadata": {},
	   "source": [
       "# Chapter 2: Generalized Configurations and Functional Descriptions of measuring instruments"
	   ]
	},
{
		   "cell_type": "markdown",
		   "metadata": {},
		   "source": [
			"## Example 2.1: Error_in_measurement.sce"
		   ]
		  },
  {
"cell_type": "code",
	   "execution_count": null,
	   "metadata": {
	    "collapsed": true
	   },
	   "outputs": [],
"source": [
"// Chapter 2_Generalized Configurations and Functional Descriptions of measuring instruments\n",
"//Caption_Error in measurement\n",
"//Ex_1 part_2 //page 22\n",
"disp('ts=0.1')\n",
"disp('ps=2.5')\n",
"disp('dT=20')\n",
"\n",
"ts=0.1   //('enter the temperature sensitivity=:')\n",
"ps=2.5   //('enter the pressure sensitivity(in units/MPa)=:')\n",
"dT=20   //('enter the temperature change during pressure measurement=:')\n",
"P=120   //('enter the pressure to be measured (in MPa)=:')\n",
"error=(ts*dT)/(ps*P);\n",
"printf('the error in measurement is %fd percent\n',error)"
   ]
   }
],
"metadata": {
		  "kernelspec": {
		   "display_name": "Scilab",
		   "language": "scilab",
		   "name": "scilab"
		  },
		  "language_info": {
		   "file_extension": ".sce",
		   "help_links": [
			{
			 "text": "MetaKernel Magics",
			 "url": "https://github.com/calysto/metakernel/blob/master/metakernel/magics/README.md"
			}
		   ],
		   "mimetype": "text/x-octave",
		   "name": "scilab",
		   "version": "0.7.1"
		  }
		 },
		 "nbformat": 4,
		 "nbformat_minor": 0
}
