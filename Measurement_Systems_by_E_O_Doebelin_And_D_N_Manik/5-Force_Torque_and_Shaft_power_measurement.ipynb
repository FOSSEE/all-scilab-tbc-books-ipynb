{
"cells": [
 {
		   "cell_type": "markdown",
	   "metadata": {},
	   "source": [
       "# Chapter 5: Force Torque and Shaft power measurement"
	   ]
	},
{
		   "cell_type": "markdown",
		   "metadata": {},
		   "source": [
			"## Example 5.1: Load_cell.sce"
		   ]
		  },
  {
"cell_type": "code",
	   "execution_count": null,
	   "metadata": {
	    "collapsed": true
	   },
	   "outputs": [],
"source": [
"//CHAPTER 5_ Force,Torque and Shaft Power Measurement\n",
"//Caption : Load cell\n",
"// Example 1// Page 294\n",
"\n",
"disp('Sg=2;')\n",
"disp('Rg=120;')\n",
"disp('v=0.3')\n",
"disp('E=210*10^9;')\n",
"Sg=2;   // Strain gage factor\n",
"Rg=120;    // Gage resistance\n",
"v=0.3    // poissons ratio\n",
"E=210*10^9;    // for steel\n",
"Pd=1   //('enter the power dissipation capacity=:')\n",
"// Looking for a suitable voltage measuring system\n",
"sig_f=700*10^6   //('enter the fatigue strength=:')\n",
"P_max=10000   //('enter the maximum load=:')\n",
"// For a load cell of square cross-section d,\n",
"d=sqrt(P_max/sig_f);\n",
"Ei=sqrt(4*Rg*Pd)   //input excitation to the bridge circuit\n",
"x=(Sg*sig_f*(1+v))/(2*E);\n",
"dEo_max=x*Ei*10^3;\n",
"disp('x=(Sg*sig_f*(1+v))/(2*E)')\n",
"printf('a voltmeter with a maximum range of %1.2f mV is suitable for measurement',dEo_max)\n",
"disp('Round it off to get the suitable range voltmeter')"
   ]
   }
,
{
		   "cell_type": "markdown",
		   "metadata": {},
		   "source": [
			"## Example 5.2: Load_cell.sce"
		   ]
		  },
  {
"cell_type": "code",
	   "execution_count": null,
	   "metadata": {
	    "collapsed": true
	   },
	   "outputs": [],
"source": [
"//CHAPTER 5_ Force,Torque and Shaft Power Measurement\n",
"//Caption : Load cell\n",
"// Example 2// Page 295\n",
"disp('b=.2')\n",
"disp('h=.05')\n",
"disp('Sg=2')\n",
"disp('Rg=120')\n",
"disp('sig_f=150*10^6')\n",
"b=.2   //('enter the width of load cell=:')\n",
"h=.05   //('enter the thickness of load cell=:')\n",
"Sg=2;\n",
"Rg=120;\n",
"sig_f=150*10^6   //('enter the fatigue strength=:')\n",
"E=70;      //(in GPa) for aluminium\n",
"v=0.33;           //poissons ratio\n",
"// Let dE/V_max be represented by W\n",
"W=Sg*sig_f/E;\n",
"printf('(dE/V)_max= %fd\n ',W)\n",
"P_max=100000   //('enter the value of maximum load=:')\n",
"l=sig_f*b*h^2/(6*P_max);\n",
"\n",
"S=(6*Sg*l)/(E*b*h^2);\n",
"printf('Sensitivity of this load cell is %1.2f nV/N/per unit excitation',S);"
   ]
   }
,
{
		   "cell_type": "markdown",
		   "metadata": {},
		   "source": [
			"## Example 5.3: Load_cell.sce"
		   ]
		  },
  {
"cell_type": "code",
	   "execution_count": null,
	   "metadata": {
	    "collapsed": true
	   },
	   "outputs": [],
"source": [
"//CHAPTER 5_ Force,Torque and Shaft Power Measurement\n",
"//Caption : Load cell\n",
"// Example 3// Page 296\n",
"Sg=2;\n",
"v=0.3;    //poissons ratio\n",
"Ei=10   //('enter the excitation voltage=:')\n",
"A=5*10^-4  //('enter the area of load cell=:')\n",
"E=200;   //(in Gpa) Youngs modulus\n",
"// Let sensitivity Eo/P be represented by Se\n",
"Se=Sg*(1+v)*Ei/(2*A*E)*.001;\n",
"printf('Sensitivity of this load cell is %1.2f micro V/N\n',Se)\n",
"Rg=120   //given\n",
"Pd=1 //('enter the power dissipated in each gage=:')\n",
"Ei_max=sqrt(4*Rg*Pd)\n",
"Se_max=Sg*(1+v)*Ei_max/(2*A*E)*.001\n",
"printf('The maximum density that can be achieved without endangering the strain gage sensors is %1.2fmicro V/N\n',Se_max)\n",
"// Let (Eo/Ei)_max be represented by Em\n",
"sig_f=600*10^6  //('enter the fatigue strength=:')\n",
"Em=Sg*sig_f*(1+v)/(2*E)*10^-6\n",
"printf('The voltage ratio is %1.1f mV/V',Em)\n",
""
   ]
   }
,
{
		   "cell_type": "markdown",
		   "metadata": {},
		   "source": [
			"## Example 5.4: Piezoelectric_transducer.sce"
		   ]
		  },
  {
"cell_type": "code",
	   "execution_count": null,
	   "metadata": {
	    "collapsed": true
	   },
	   "outputs": [],
"source": [
"//CHAPTER 5_ Force,Torque and Shaft Power Measurement\n",
"//Caption : Piezoelectric Transducers\n",
"// Example 4// Page 302\n",
"mc=0.04   //('enter the connector mass=:')\n",
"m=0.01   //('enter the seismic mass=:')\n",
"k=10^9   //('enter the stiffness of the sensing element=:')\n",
"Sf=.005   //('enter the sensitivity of the transducer=:')\n",
"Xi=100*10^-6 //  ('enter the displacement amplitude of the shaker vibration=:')\n",
"Eo=.1   //('enter the reading of voltage recorder connected to the transducer=:')\n",
"wnc=sqrt(k/(m+mc));\n",
"R=20;    //20N (rms)\n",
"Z=(1/(m+mc))*(1/wnc^2)*R;\n",
"printf('Relative displacement is %fd',Z)\n",
"disp('wnc^2 is approx. 10^9. So,')\n",
"disp('Z is approx. 20nm(rms)')\n",
"f=100;   // given\n",
"\n",
"F=R-((2*%pi*f)^2*(m+mc)*Xi);\n",
"printf('Actual force transmitted to the plate is %fd N',F)"
   ]
   }
,
{
		   "cell_type": "markdown",
		   "metadata": {},
		   "source": [
			"## Example 5.5: Torque_measurement_on_rotating_shaft.sce"
		   ]
		  },
  {
"cell_type": "code",
	   "execution_count": null,
	   "metadata": {
	    "collapsed": true
	   },
	   "outputs": [],
"source": [
"//CHAPTER 5_ Force,Torque and Shaft Power Measurement\n",
"//Caption : Torque measurement on rotating shaft\n",
"// Example 5// Page 308\n",
"Sg=2;\n",
"Rg=120;\n",
"G=80*10^9   //('enter the sheer modulus of elasticity=:')\n",
"D=0.05   //('enter the shaft diameter=:')\n",
"dR=0.1   // given\n",
"// we have to find the load torque\n",
"y=2*dR/(Rg*Sg);\n",
"tou_xy=y*G;\n",
"j=%pi*D^4;\n",
"T=tou_xy*2*j/(D*32);\n",
"printf('The load torque is%fd N-m',T)"
   ]
   }
],
"metadata": {
		  "kernelspec": {
		   "display_name": "Scilab",
		   "language": "scilab",
		   "name": "scilab"
		  },
		  "language_info": {
		   "file_extension": ".sce",
		   "help_links": [
			{
			 "text": "MetaKernel Magics",
			 "url": "https://github.com/calysto/metakernel/blob/master/metakernel/magics/README.md"
			}
		   ],
		   "mimetype": "text/x-octave",
		   "name": "scilab",
		   "version": "0.7.1"
		  }
		 },
		 "nbformat": 4,
		 "nbformat_minor": 0
}
