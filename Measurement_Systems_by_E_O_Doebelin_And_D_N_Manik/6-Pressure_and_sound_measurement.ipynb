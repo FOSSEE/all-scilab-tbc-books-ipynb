{
"cells": [
 {
		   "cell_type": "markdown",
	   "metadata": {},
	   "source": [
       "# Chapter 6: Pressure and sound measurement"
	   ]
	},
{
		   "cell_type": "markdown",
		   "metadata": {},
		   "source": [
			"## Example 6.10: sound_measurement.sce"
		   ]
		  },
  {
"cell_type": "code",
	   "execution_count": null,
	   "metadata": {
	    "collapsed": true
	   },
	   "outputs": [],
"source": [
"//CHAPTER 6 _ PRESSURE AND SOUND MEASUREMENT\n",
"//Caption : Sound Measurement\n",
"// Example 10// Page 370\n",
"Lp1=75   //('enter the sound level first machine=:')\n",
"Lp2=77   //('enter the sound level second machine=:')\n",
"Lp3=79   //('enter the sound level third machine=:')\n",
"disp('Since the noise levels are incoherent,the total sound pressure is the sum of the mean square value of the individual sound pressures')\n",
"disp('Lp_total=10*log10(10^(Lp1/10)+10^(Lp2/10)+10^(Lp3/10))')\n",
"Lp_total=10*log10(10^(Lp1/10)+10^(Lp2/10)+10^(Lp3/10));\n",
"printf('The total sound pressure is %ddB',Lp_total)\n",
"//decibles are normally rounded off to the nearest integers"
   ]
   }
,
{
		   "cell_type": "markdown",
		   "metadata": {},
		   "source": [
			"## Example 6.1: manometers.sce"
		   ]
		  },
  {
"cell_type": "code",
	   "execution_count": null,
	   "metadata": {
	    "collapsed": true
	   },
	   "outputs": [],
"source": [
"//CHAPTER 6 _ PRESSURE AND SOUND MEASUREMENT\n",
"//Caption : MANOMETERS\n",
"// Example 1 // Page 329\n",
"D1=0.1   //('Enter the diameter of well =:')\n",
"D2=0.01    //('Enter the diameter of the tube =:')\n",
"g=9.81;\n",
"pho_air=1.23   //('Enter the density of air in kg/m^3 =:')\n",
"pho_liquid=1200  //('Enter the density of liquid in manometer =:')\n",
"h=1     //('Enter the height by which liquid decreases in smaller area arm when exposed to the nominal pressure of p2 =:')\n",
"// Let the pressure difference is represented by P=p1-p2\n",
"disp('The pressure difference is given by:')\n",
"disp('P=h*(1+((D2/D1)^2)*g*(pho_liquid-pho_air))')\n",
"P=h*(1+((D2/D1)^2)*g*(pho_liquid-pho_air))*10^-3;\n",
"printf('So the pressure difference is given by %1.2f kPa \n',P)\n",
"\n",
""
   ]
   }
,
{
		   "cell_type": "markdown",
		   "metadata": {},
		   "source": [
			"## Example 6.2: manometers.sce"
		   ]
		  },
  {
"cell_type": "code",
	   "execution_count": null,
	   "metadata": {
	    "collapsed": true
	   },
	   "outputs": [],
"source": [
"//CHAPTER 6 _ PRESSURE AND SOUND MEASUREMENT\n",
"//Caption : MANOMETERS\n",
"// Example 2 // Page 329\n",
"pho_l=900  \n",
"disp('pho_l=900 ')  //('Enter the density of the fluid =:')\n",
"Pa= 500000 \n",
"disp('Pa= 500000 ')  //('Enter the air pressure =:')\n",
"t=298 \n",
"disp('t=298 ')   //('Air is at what temperature(in deg cent) =:')\n",
"R=287;\n",
"disp('R=287;')\n",
"g=9.81;\n",
"T=t+273;\n",
"disp('pho_a=Pa/(R*T);')\n",
"pho_a=Pa/(R*T);\n",
"printf('The density of air is %fd kg/m^3 \n',pho_a)\n",
"h=.2    //('Enter the difference in the height of the fluid in the manometer=:')\n",
"disp('Pres_diff=(g*h)*(pho_l-pho_a)')\n",
"Pres_diff=(g*h)*(pho_l-pho_a)*10^-3\n",
"printf('The differential pressure is %1.2f kPa\n',Pres_diff)\n",
""
   ]
   }
,
{
		   "cell_type": "markdown",
		   "metadata": {},
		   "source": [
			"## Example 6.3: elastic_transducers.sce"
		   ]
		  },
  {
"cell_type": "code",
	   "execution_count": null,
	   "metadata": {
	    "collapsed": true
	   },
	   "outputs": [],
"source": [
"//CHAPTER 6 _ PRESSURE AND SOUND MEASUREMENT\n",
"//Caption : Elastic Transducers\n",
"// Example 3 // Page 337\n",
"Sa=1000\n",
"disp('Sa=1000')    //('Enter the sensitivity of LVDT =:')\n",
"//Properties of diaphragm\n",
"E=200*10^9   //('Enter the value of modulus of elasticity=:')\n",
"disp('E=200*10^9 ')\n",
"v=0.3  //('Enter the Poissons ratio=:')\n",
"disp('v=0.3 ')\n",
"d=0.2   //('Enter the diameter of diaphragm=:')\n",
"disp('d=0.2  ')\n",
"R=d*(1/2);\n",
"P_max=2*10^6  //('What is the maximum pressure?')\n",
"disp('P_max=2*10^6 ')\n",
"p=7800   //('What is the density of steel?')\n",
"disp('Thickness is given by:')\n",
"disp('t=(3*P_max*R^4*(1-v^4)/(4*E))^(1/4);')\n",
"t=(3*P_max*R^4*(1-v^4)/(4*E))^(1/4)\n",
"T=t*1000;\n",
"printf('Thickness is %1.1f mm\n',T)\n",
"//To calculate the lowest pressure in kPa which may be sensed by this instrument , resolution and the natural frequency of the diaphragm\n",
"y=.001   //('Enter  the l)east value of measurement=:')\n",
"p_min=(y*16*E*t^3)/(3*R^4*(1-v^2)*Sa)\n",
"printf('So the minimum pressure and resolution is %d Pa \n',p_min)\n",
"f=(10.21/R^2)*((E*t^2)/(12*(1-v^2)*p))^(1/2)\n",
"printf('The natural frequency of diaphragm is %fd Hz',f)\n",
"\n",
"\n",
"\n",
""
   ]
   }
,
{
		   "cell_type": "markdown",
		   "metadata": {},
		   "source": [
			"## Example 6.4: design_of_pressure_transducers.sce"
		   ]
		  },
  {
"cell_type": "code",
	   "execution_count": null,
	   "metadata": {
	    "collapsed": true
	   },
	   "outputs": [],
"source": [
"//CHAPTER 6 _ PRESSURE AND SOUND MEASUREMENT\n",
"//Caption : Design of Pressure Transducers\n",
"// Example 4 // Page 338\n",
"p_max=10*10^6    //('Enter the capacity of the transducer=:')\n",
"D=.05   //('Enter the diameter of diaphragm=:')\n",
"R=D/2;\n",
"v=0.3;   // poissons ratio\n",
"E=200*10^9;\n",
"// We know that\n",
"// y=3pR^4(1-v^2)/16t^3E\n",
"// if y<t/4, the non linearity is restricted to 0.3%\n",
"//So t is given by\n",
"t=(3*p_max*R^4*(1-v^2)/(4*E))^(1/4)\n",
"disp(t)\n",
"printf('thickness comes out to be %fd m\n',t);\n",
"Sr_max=(3*p_max*R^2)/(4*t^2)\n",
"printf('So the max radial stress is %fd Pa\n',Sr_max)\n",
"printf('The given fatigue strength is 500MPa\n' )\n",
"if Sr_max > 500*10^6 then\n",
"      disp('The diaphragm must be redesigned');\n",
"      t1=((3*p_max*R^2)/(4*500*10^6))^(1/2);\n",
"printf('The required thickness is %fd m\n',t1)\n",
"      \n",
"else \n",
"    disp('The design is OK');\n",
"end\n",
"// Let the voltage ratio be represented by Err\n",
"Err=(820*p_max*R^2*(1-v^2))/(E*(t1^2))\n",
"printf('The voltage ratio is %fd\n', Err)\n",
"// For maximum power dissipation\n",
"PT=1\n",
"RT=120\n",
"Ei=2*(PT*RT)^(1/2);\n",
"disp('Let the sensitivity of the transducer be represented by ss')\n",
"ss=(820*R^2*(1-v^2)*Ei)/(E*t1^2)\n",
"printf('sensitivity is %fd\n', ss)\n",
"// Part c\n",
"S_LVDT=(ss*16*t^3*E)/(3*R^4*(1-v^2)*Ei)\n",
"printf('SENSITIVITY OF LVDT IS %fd \n',S_LVDT)\n",
""
   ]
   }
,
{
		   "cell_type": "markdown",
		   "metadata": {},
		   "source": [
			"## Example 6.5: pressure_gage.sce"
		   ]
		  },
  {
"cell_type": "code",
	   "execution_count": null,
	   "metadata": {
	    "collapsed": true
	   },
	   "outputs": [],
"source": [
"//CHAPTER 6 _ PRESSURE AND SOUND MEASUREMENT\n",
"//Caption : Pressure Gage\n",
"// Example 5 // Page 347\n",
"p_max=10*10^6    //('Enter the maximum differential pressure')\n",
"fn=20000  //(' Enter the frequency')\n",
"E=200*10^9;   // modulus of elasticity\n",
"v=0.3;   // poissons ratio\n",
"p=7800    // density of steel\n",
"disp('Let t/R be represented by TR ')\n",
"TR=((3*p_max*(1-v^2))/(4*E))^(1/4)\n",
"// we know R^2/t = r2t=10.21(Et^2/12(1-v^2)p)^0.5/R^2     using it , we have\n",
"r2t=(10.21*sqrt(E/(12*(1-v^2)*p)))/fn\n",
"R=TR*r2t;\n",
"printf('value of R is %fd m\n', R)\n",
"\n",
"t=R*TR;\n",
"printf(' value of t is %fd m \n',t)\n",
"\n",
"eo=8.85*10^-12\n",
"er=1.0006;\n",
"d=.001   //('Enter the distance between the plates of capacitor=:')\n",
"S=-(eo*er*%pi*R^2)/d^2;\n",
"// variation of capacitor distance with respect to pressure is given by\n",
"q=(3*R^4*(1-v^2))/(16*E*t^3)\n",
"// total sensitivity of the pressure transducer is given by\n",
"sensitivity=S*q*10^18;\n",
"printf(' So the total sensitivity of the pressure transducer is given by %1.2f pF/MPa\n',sensitivity)"
   ]
   }
,
{
		   "cell_type": "markdown",
		   "metadata": {},
		   "source": [
			"## Example 6.6: high_pressure_measurement.sce"
		   ]
		  },
  {
"cell_type": "code",
	   "execution_count": null,
	   "metadata": {
	    "collapsed": true
	   },
	   "outputs": [],
"source": [
"//CHAPTER 6 _ PRESSURE AND SOUND MEASUREMENT\n",
"//Caption : High Pressure Measurement\n",
"// Example 6 // Page 357\n",
"R1=100   //(' Enter the resistance of Mangnin wire=:')\n",
"disp('R1=100')\n",
"b=25*10^-12; // standard for mangnin\n",
"disp('b=25*10^-12;')\n",
"disp('u=0.5')\n",
"u=0.5    //(' enter the uncertainty in measuring pressure for gage=:')\n",
"// to calculate maximum uncertainty in differential pressure\n",
"udp=u*(10-0.1)*10^6/100;\n",
"uR=R1*b*udp;\n",
"printf('So the maximum uncertainty in measuring resistance is %fd ohm \n',uR)\n",
"//to calculate the output bridge voltage for 10 MPa\n",
"Ei=5   //('enter the input voltage=:')\n",
"disp('p1=0.1*10^6')\n",
"disp('R2=R1*(1+b*p1)')\n",
"disp('p2=10*10^6 ')\n",
"p1=0.1*10^6     //('enter the pressure at which bridge is assumed to be balanced=:')\n",
"R2=R1*(1+b*p1)\n",
"p2=10*10^6    //('enter the pressure at which output voltage is to be calculated=:')\n",
"R3=R1*(1+b*p2);\n",
"dR=R3-R2;\n",
"r=1;\n",
"Eo=(r*dR*Ei)/((1+r)^2*R2)\n",
"printf(' The output bridge voltage is %fd volt\n',Eo)\n",
"\n",
""
   ]
   }
,
{
		   "cell_type": "markdown",
		   "metadata": {},
		   "source": [
			"## Example 6.7: Mc_Leod_gage.sce"
		   ]
		  },
  {
"cell_type": "code",
	   "execution_count": null,
	   "metadata": {
	    "collapsed": true
	   },
	   "outputs": [],
"source": [
"//CHAPTER 6 _ PRESSURE AND SOUND MEASUREMENT\n",
"//Caption : McLeod Gage\n",
"// Example 7 // Page 362\n",
"disp('Vb=150*10^-6')\n",
"disp('d=1.5*10^-3')\n",
"disp('a=%pi*d^2/4;')\n",
"Vb=150*10^-6   //('enter the volume of the Mc Leod gage=:')\n",
"d=1.5*10^-3   //('enter the diameter of capillary=:')\n",
"a=%pi*d^2/4;\n",
"p=40*10^-6    //('enter the pressure for which the gage reading is to be noted=:')\n",
"//y=(-p*area_cap+sqrt((p*area_cap)^2-4*p*area_cap*Vb))/(2*area_cap);\n",
"l=p*a;\n",
"\n",
"y=(sqrt(l^2+(4*l*Vb))-l)/(2*a)\n",
"printf('The gage reading comes out to be %fd mof Hg\n',y)"
   ]
   }
,
{
		   "cell_type": "markdown",
		   "metadata": {},
		   "source": [
			"## Example 6.8: Knudsen_gage.sce"
		   ]
		  },
  {
"cell_type": "code",
	   "execution_count": null,
	   "metadata": {
	    "collapsed": true
	   },
	   "outputs": [],
"source": [
"//CHAPTER 6 _ PRESSURE AND SOUND MEASUREMENT\n",
"//Caption : Knudsen Gage\n",
"// Example 8 // Page 363\n",
"disp('Td=40')\n",
"disp('Tv=300')\n",
"disp('p=2*10^-6')\n",
"Td=40   //('enter the temperature difference=:')\n",
"Tv=300 //('enter the gas temperature at which the force has to be calculated=:')\n",
"p=2*10^-6   //('enter the pressure(in m of Hg)=:')\n",
"pa=p*13600*9.81;\n",
"k=4*10^-4;    // knudsen constant\n",
"F=(pa*Td)/(k*Tv);\n",
"printf('So the  required force is %1.1f N',F)\n",
""
   ]
   }
,
{
		   "cell_type": "markdown",
		   "metadata": {},
		   "source": [
			"## Example 6.9: sound_measurement.sce"
		   ]
		  },
  {
"cell_type": "code",
	   "execution_count": null,
	   "metadata": {
	    "collapsed": true
	   },
	   "outputs": [],
"source": [
"//CHAPTER 6 _ PRESSURE AND SOUND MEASUREMENT\n",
"//Caption : Sound Measurement\n",
"// Example 9// Page 369\n",
"disp('Lp=104')\n",
"Lp=104  //('enter the sound pressure level in decibles=:')\n",
"disp('pa=20*10^-6;')\n",
"disp('p=sqrt(10^(Lp/10)*pa^2);')\n",
"pa=20*10^-6;   // rms pressure threshold of hearing\n",
"p=sqrt(10^(Lp/10)*pa^2);\n",
"printf('root mean square sound pressure is %1.3fPa\n',p)"
   ]
   }
],
"metadata": {
		  "kernelspec": {
		   "display_name": "Scilab",
		   "language": "scilab",
		   "name": "scilab"
		  },
		  "language_info": {
		   "file_extension": ".sce",
		   "help_links": [
			{
			 "text": "MetaKernel Magics",
			 "url": "https://github.com/calysto/metakernel/blob/master/metakernel/magics/README.md"
			}
		   ],
		   "mimetype": "text/x-octave",
		   "name": "scilab",
		   "version": "0.7.1"
		  }
		 },
		 "nbformat": 4,
		 "nbformat_minor": 0
}
