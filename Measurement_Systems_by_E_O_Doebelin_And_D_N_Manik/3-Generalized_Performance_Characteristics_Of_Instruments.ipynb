{
"cells": [
 {
		   "cell_type": "markdown",
	   "metadata": {},
	   "source": [
       "# Chapter 3: Generalized Performance Characteristics Of Instruments"
	   ]
	},
{
		   "cell_type": "markdown",
		   "metadata": {},
		   "source": [
			"## Example 3.1: Gaussian_distribution.sce"
		   ]
		  },
  {
"cell_type": "code",
	   "execution_count": null,
	   "metadata": {
	    "collapsed": true
	   },
	   "outputs": [],
"source": [
"//Chapter_3 Generalized Performance Characteristics Of Instruments\n",
"//Caption:Gaussian Distribution\n",
"// Example 1\n",
"clc;\n",
"close;\n",
"disp('me=7')\n",
"disp('stddev=0.5')\n",
"disp('x = 6  ')\n",
"disp('y= 7.5')\n",
"me=7 ;\n",
"stddev=0.5;\n",
"x = 6  //('enter the lower limit of the range=:')\n",
"y= 7.5  //('enter the upper limit of the range=:')\n",
"n= 200  //('enter the number of samples=:')\n",
"disp('using    k =abs((x-me)/((2^0.5)*stddev));')\n",
"k =abs((x-me)/((2^0.5)*stddev));\n",
"printf('Value of eta1 is %1.2f \n',k)\n",
"\n",
"p=abs((y-me)/((2^0.5)*stddev));\n",
"printf('Value of eta2 is %1.2f \n',p)\n",
"//Using the gaussian probability error function table, find the error function corresponding to the value of k and p\n",
"//LET IT BE s\n",
"s= 0.95  // ('enter the error function corresponding to k value=:')\n",
"F(x)=(1/2)+(1/2*s);// Probability of having lengths less than x\n",
"l= 0.68   // ('enter the error function corresponding to p value=:')\n",
"F(y)=(1/2)+(1/2*l);// Probability of having lengths less than y\n",
"\n",
"printf('probability of having length less than 6 cm is %1.3f ',F(x));\n",
"printf('probability of having length less than 67.5cm is %1.3f ',F(y));\n",
"\n",
"P(x)=abs(F(y)-F(x));\n",
"printf('Number of samples in the given length range=')\n",
"m=(n*P(x));\n",
"disp(m);\n",
"\n",
"\n",
"\n",
"\n",
"\n",
"\n",
"\n",
"\n",
"\n",
""
   ]
   }
,
{
		   "cell_type": "markdown",
		   "metadata": {},
		   "source": [
			"## Example 3.2: Combination_of_component_errors_in_overall_system.sce"
		   ]
		  },
  {
"cell_type": "code",
	   "execution_count": null,
	   "metadata": {
	    "collapsed": true
	   },
	   "outputs": [],
"source": [
"//Caption:Combination of component errors in overall system-accuracy calculations\n",
"//example2\n",
"//page 62\n",
"clc;\n",
"//Consider an experiment for measuring, by means of a dynamometer, the average power transmitted by a rotating sheft\n",
"disp('R=1202 ')\n",
"disp('F=45')\n",
"disp('L=0.397 ')\n",
"disp('t=60')\n",
"R=1202  //('Enter the revolutions of shaft during time t=:')\n",
"F=45  //('Enter the force at end oftorque arm=:')\n",
"L=0.397 //('Enter the length of torque arm=:')\n",
"t=60  //('Enter the time length of run=:')\n",
"W=(2*%pi*R*F*L)/t;\n",
"//Computing various partial dervatives\n",
"dWF=(2*%pi*R*L)/t; \n",
"disp(dWF)   //dWF represents dW/dF\n",
"dWR=(2*%pi*F*L)/t;\n",
"dWL=(2*%pi*F*R)/t;\n",
"dWt=-(2*%pi*R*F*L)/(t^2);\n",
"//Let f, r, l and t represent the uncertainties\n",
"disp('f=0.18')\n",
"disp('r=1 ')\n",
"disp('l=0.00127 ')\n",
"disp('t=0.5')\n",
"disp('Ea=(dWF*f)+(dWR*r)+(dWL*l)+abs(dWt*t); ')\n",
"f=0.18   //('Enter the uncertainty in force=:')\n",
"r=1  //('Enter the uncertainty in the no of revolutions=:')\n",
"l=0.00127   //('Enter the uncertainty in the length=:')\n",
"t=0.5  //('Enter the uncertainty in the time length of run=:')\n",
"Ea=(dWF*f)+(dWR*r)+(dWL*l)+abs(dWt*t);      //absolute error\n",
"printf('The absolute error is  ')\n",
"disp(Ea);\n",
"//To find total uncertainty\n",
"U=(((dWF*f)^2)+(dWR*r)^2+(dWL*l)^2+abs(dWt*t)^2)^0.5\n",
"printf('Total uncertainty is ')\n",
"disp(U)\n",
""
   ]
   }
,
{
		   "cell_type": "markdown",
		   "metadata": {},
		   "source": [
			"## Example 3.5: First_order_instrument.sce"
		   ]
		  },
  {
"cell_type": "code",
	   "execution_count": null,
	   "metadata": {
	    "collapsed": true
	   },
	   "outputs": [],
"source": [
"// Chapter_3 Generalized Performance Characteristics Of Instruments\n",
"//Caption:First order instrument\n",
"//Example 5\n",
"//Page no. 96\n",
"d=.004   //('Enter the diameter of the diameter of the sphere in meters=:')\n",
"p=13600  //('Enter the density of the liquid in glass bulb=:')\n",
"c=150   //('Enter the specific heat of liquid(in j/kg degree centigrade)=:')\n",
"U=40  //('Enter the heat transfer coefficient in W/m^2-degree centigrade=:')\n",
"\n",
"Vb=(%pi*d*d*d)/6;    //Volume of sphere\n",
"Ab=%pi*d*d;    //Surface area of sphere\n",
"timconstant=(p*c*Vb*1000)/(U*Ab);    //time constant\n",
"disp(timconstant)\n",
""
   ]
   }
,
{
		   "cell_type": "markdown",
		   "metadata": {},
		   "source": [
			"## Example 3.6: Step_response_of_first_order_instrument.sce"
		   ]
		  },
  {
"cell_type": "code",
	   "execution_count": null,
	   "metadata": {
	    "collapsed": true
	   },
	   "outputs": [],
"source": [
"//Caption:Step response of first order systems\n",
"//Example 6\n",
"// page 100\n",
"clc;\n",
"// Given:In air, probe dry          timeconstant(tc)=30s\n",
"//       In water                                tc=5s\n",
"//       In air, probe wet                       tc=20s\n",
"// for t<0,T=25 degree C(initial temperature)\n",
"//     0<t<7, T=35 degree C(dry probe in air)\n",
"//     7<t<15, T=70 degree C(probe in water)\n",
"//     15<t<30, T=35 degree C(wet probe in air) \n",
"\n",
"//case i T(a)=25\n",
"T(7)=35+(25-35)*%e^(-(7/30))\n",
"printf('Temperature at the end of first interval')\n",
"disp(T(7));\n",
"//case ii T(a)=T(7)\n",
"T(15)=70+(T(7)-70)*%e^(-((15-7)/5))\n",
"printf('Temperature at the end of second interval')\n",
"disp(T(15));\n",
"//case iii T(a)=T(15)\n",
"T(30)=35+(T(15)-35)*%e^(-((30-15)/20))\n",
"printf('Temperature at the end of third interval')\n",
"disp(T(30));"
   ]
   }
,
{
		   "cell_type": "markdown",
		   "metadata": {},
		   "source": [
			"## Example 3.7: Adequate_frequency_response_conditions_for_first_o.sce"
		   ]
		  },
  {
"cell_type": "code",
	   "execution_count": null,
	   "metadata": {
	    "collapsed": true
	   },
	   "outputs": [],
"source": [
"//Caption:Adequate frequency response conditions for first order instruments\n",
"//Example 7\n",
"//Page 103\n",
"// To measure qi given by \n",
"// qi=sin2t+0.3sin20t\n",
"// timeconstant=0.2s\n",
"H=1/((0.16+1)^0.5);       //H(jw)=qo/qiK\n",
"phi=((atan(-2*0.2))*180)/%pi ;\n",
"H2=1/((16+1)^0.5);\n",
"phi2=((atan(-20*0.2))*180)/%pi;\n",
"printf('sinusoidal transfer function at 2 rad/sec is')\n",
"disp(H);\n",
"disp(phi)\n",
"printf('sinusoidal transfer function at 20rad/sec is')\n",
"disp(H2)\n",
"disp(phi2)\n",
"\n",
"printf('qo/K can be written as')\n",
"\n",
"printf('      qo=0.93K sin(2t-21.8)+(0.24K) 0.3sin(20t-76)')\n",
"//Suppose we consider use of an instrument with timeconstant=0.002s\n",
"H=1/((1.6*(10)^(-5)+1)^0.5);\n",
"phi=((atan(-2*.002))*180)/%pi ;\n",
"H2=1/((1.6*(10^-3)+1)^0.5);\n",
"phi2=((atan(-20*0.002))*180)/%pi;\n",
"printf('sinusoidal transfer function at 2 rad/sec is')\n",
"disp(H);\n",
"disp(phi)\n",
"printf('sinusoidal transfer function at 20rad/sec is')\n",
"disp(H2)\n",
"disp(phi2)\n",
"printf('qo/K can be written as')\n",
"\n",
"printf('      qo=K sin(2t-0.23)+K 0.3sin(20t-2.3)')\n",
"printf('Clearly, this instrument measures the given qi faithfully')"
   ]
   }
],
"metadata": {
		  "kernelspec": {
		   "display_name": "Scilab",
		   "language": "scilab",
		   "name": "scilab"
		  },
		  "language_info": {
		   "file_extension": ".sce",
		   "help_links": [
			{
			 "text": "MetaKernel Magics",
			 "url": "https://github.com/calysto/metakernel/blob/master/metakernel/magics/README.md"
			}
		   ],
		   "mimetype": "text/x-octave",
		   "name": "scilab",
		   "version": "0.7.1"
		  }
		 },
		 "nbformat": 4,
		 "nbformat_minor": 0
}
