{
"cells": [
 {
		   "cell_type": "markdown",
	   "metadata": {},
	   "source": [
       "# Chapter 7: Flow measurement"
	   ]
	},
{
		   "cell_type": "markdown",
		   "metadata": {},
		   "source": [
			"## Example 7.1: Flow_measurement.sce"
		   ]
		  },
  {
"cell_type": "code",
	   "execution_count": null,
	   "metadata": {
	    "collapsed": true
	   },
	   "outputs": [],
"source": [
"//CHAPTER 7_ Flow Measurement\n",
"//Caption : Flow  Measurement\n",
"// Example 1// Page 406\n",
"t=293   //('Entering the temperature(in k) of pitot tube =:')\n",
"p1=0.1*10^6    //('entering the air pressure in pitot tube=:')\n",
"v=10     //('entering the velocity of air in pitot tube=:')\n",
"R=287;\n",
"disp('Density is given by:')\n",
"disp('pho1=p1/(R*t);')\n",
"pho1=p1/(R*t);\n",
"// dynamic pressure\n",
"Pd=pho1*v^2/2;\n",
"//we know that  v=sqrt(2Pd/pho)\n",
"// dv/dP=1/2(2/pho*Pd)^0.5\n",
"// Let the error or uncertainty in velocity is represented by Wv and in pressure by Wp\n",
"Wp=1    //('entering the uncertainty in the measurement of dynamic pressure=:')\n",
"disp('Uncertainty in velocity is given by ')\n",
"disp('Wv=(1/2)*(2/(pho1*Pd))^0.5*Wp;')\n",
"Wv=(1/2)*(2/(pho1*Pd))^0.5*Wp;\n",
"per_unc=Wv*100/10;\n",
"printf('So the percentage uncertainty in the measurement of velocity is %fd %% \n',per_unc)"
   ]
   }
,
{
		   "cell_type": "markdown",
		   "metadata": {},
		   "source": [
			"## Example 7.2: Anemometers.sce"
		   ]
		  },
  {
"cell_type": "code",
	   "execution_count": null,
	   "metadata": {
	    "collapsed": true
	   },
	   "outputs": [],
"source": [
"//CHAPTER 7_ Flow Measurement\n",
"//Caption : Anemometers\n",
"// Example 2// Page 426\n",
"// To derive an expression for velocity across a hot  wire anemometer in terms of the wire resistance Rw, the current through the wire Iw and the empirical constants C0 and C1 and the fluid temperature.\n",
"disp('C0+C1(v)^.5)(Tw-Tf)=Iw^2Rw')\n",
"disp('Rw= Rr[1+a(Tw-Tr)]')\n",
"disp('Rw/Rr=1+a(Tw-Tr)')\n",
"disp('Tw-Tr=1/a[Rw/Rr-1]')\n",
"disp('Tw=1/a[Rw/Rr-1]+Tr')\n",
"disp('Co+C1(v)^0.5=Iw^2Rw/Tw-Tf')\n",
"disp('so,')\n",
"disp('v=1/C1[{Iw^2Rw/(1/a[Rw/Rr-1]+Tr-Tf)]}^2-C0')\n",
"\n",
"\n",
""
   ]
   }
,
{
		   "cell_type": "markdown",
		   "metadata": {},
		   "source": [
			"## Example 7.3: Gross_volume_flow_rate.sce"
		   ]
		  },
  {
"cell_type": "code",
	   "execution_count": null,
	   "metadata": {
	    "collapsed": true
	   },
	   "outputs": [],
"source": [
"//CHAPTER 7_ Flow Measurement\n",
"//Caption : Gross volume flow rate(venturi)\n",
"// Example 3// Page 438\n",
"dp=0.02     //('entering the diameter of the line in which water is flowing=:')\n",
"dt=0.01    //('entering the diameter of venturi=:')\n",
"B=0.5;   // given\n",
"// The discharge coefficients remains in the flat portion of the curve for reynolds numbers 10^4 to 10^6 Cd=0.95\n",
"u=8.6*10^-4    //('entering the viscosity=:')\n",
"Cd=0.95;\n",
"Rn_min=10^4;\n",
"disp('Minimum flow rate is given by:')\n",
"disp('mdot_min=%pi*dp*u*Rn_min/4')\n",
"mdot_min=%pi*dp*u*Rn_min/4\n",
"g=9.81;\n",
"printf('Minimum flow rate at 25 deg cent is %1.3f kg/s\n',mdot_min)\n",
"pf=1000   // density of water\n",
"At=78.53*10^-6    //('entering the throat area=:')\n",
"pm=13.6      //('entering the density of manometer  fluid=:')\n",
"\n",
"//h is the height of mercury column due to flow\n",
"disp('To calculate the mercury reading corresponding to minimum flow, using-')\n",
"disp('h_min=((mdot_min*sqrt(1-B^4))/((sqrt(2*g*(pm-pf/pf))*pf*At*Cd)))^2;')\n",
"h_min=((mdot_min*sqrt(1-B^4))/((sqrt(2*g*(pm-pf/pf))*pf*At*Cd)))^2;\n",
"//in mm\n",
"H_min=h_min*1000\n",
"printf('So the pressure reading observed for the given flow ratre is %1.1f  mm of Hg\n',H_min)\n",
"h_max=.25    //('entering the  value of h maximum=:')\n",
"m_max=(pf*At*Cd*sqrt(2*g*(pm-pf/pf))*sqrt(h_max))/sqrt(1-B^4);\n",
"printf('The maximum flow rate is %1.1f kg/s\n',m_max)\n",
"\n",
"\n",
"\n",
"\n",
"\n",
""
   ]
   }
,
{
		   "cell_type": "markdown",
		   "metadata": {},
		   "source": [
			"## Example 7.4: Gross_volume_flow_rate.sce"
		   ]
		  },
  {
"cell_type": "code",
	   "execution_count": null,
	   "metadata": {
	    "collapsed": true
	   },
	   "outputs": [],
"source": [
"//CHAPTER 7_ Flow Measurement\n",
"//Caption : Gross volume flow rate(venturi)\n",
"// Example 4// Page 439\n",
"dt=0.15    //('entering the throat diameter=:')\n",
"dp=0.3     //('entering the upstream diameter=:')\n",
"Cd=0.95;\n",
"B=0.5;\n",
"pm=13600       //('entering the density of manometer  fluid=:')\n",
"At=%pi*dt^2/4;\n",
"g=9.81;\n",
"\n",
"pf=995.8     \n",
"h=0.2      //('entering the height of mercury column  due to flow (in m)=:')\n",
"q=pf*At*Cd;\n",
"w=(1-B^4)^(1/2);\n",
"e=sqrt(2*g*((pm/pf)-1));\n",
"mdot_25=q*e*sqrt(h)/w\n",
"disp('Mass flow is given by :')\n",
"disp('mdot=pf*At*Cd*(1/(1-B^4)^(1/2))*sqrt(2*g*((pm/pf)-1)*sqrt h)')\n",
"printf('So the mass flow at 25 deg cent   is %fd kg/s\n',mdot_25)\n",
"\n",
"\n",
"\n",
"pf=999.8    //('entering density of water at 25 deg cent=:')\n",
"h=0.2    //('entering the height of mercury column  due to flow (in m)=:')\n",
"q=pf*At*Cd;\n",
"w=(1-B^4)^(1/2);\n",
"e=sqrt(2*g*((pm/pf)-1));\n",
"mdot=q*e*sqrt(h)/w\n",
"// error is mdot(25 deg cent)-mdot(t deg cent)\n",
"printf(' The mass flow at 0 deg cent is %fd kg/s\n',mdot)\n",
"error1=abs(((mdot_25-mdot)/mdot_25)*100);\n",
"\n",
"\n",
"\n",
"printf(' Change in temperature of water introduces insignificant error in mass flow measurement i.e. %1.2f%% \n',error1)\n",
"pf=988.8    //('entering density of water at 25 deg cent=:')\n",
"h=0.2    //('entering the height of mercury column  due to flow (in m)=:')\n",
"q=pf*At*Cd;\n",
"w=(1-B^4)^(1/2);\n",
"e=sqrt(2*g*((pm/pf)-1));\n",
"mdot=q*e*sqrt(h)/w\n",
"// error is mdot(25 deg cent)-mdot(t deg cent)\n",
"printf('  The mass flow at 50 deg cent is %fd kg/s\n',mdot)\n",
"error2=abs(((mdot_25-mdot)/mdot_25)*100);\n",
"\n",
"\n",
"\n",
"printf('Therefore, change in temperature of water introduces insignificant error in mass flow measurement i.e. %1.2f%% \n',error2)\n",
"\n",
"\n",
"\n",
""
   ]
   }
,
{
		   "cell_type": "markdown",
		   "metadata": {},
		   "source": [
			"## Example 7.5: Gross_volume_flow_rate.sce"
		   ]
		  },
  {
"cell_type": "code",
	   "execution_count": null,
	   "metadata": {
	    "collapsed": true
	   },
	   "outputs": [],
"source": [
"//CHAPTER 7_ Flow Measurement\n",
"//Caption : Gross volume flow rate(venturi)\n",
"// Example 5// Page 440\n",
"dt=.1     //('entering the throat diameter=:')\n",
"dp=.2      //('entering the upstream diameter=:')\n",
"Cd=0.95;\n",
"g=9.81\n",
"B=0.5;\n",
"At=%pi*dt^2/4;\n",
"pf=780    //('entering density of oil in the pipeline =:')\n",
"pm=1000    //('entering the density of manometer  fluid=:')\n",
"w=(1-B^4)^(1/2);\n",
"e=sqrt(2*g*((pm/pf)-1));\n",
"S_ideal=At*e/w;\n",
"printf('The ideal volume flow rate sensitivity is %1.4f (m^3/s/h^0.5)\n',S_ideal)\n",
"// part b\n",
"disp('Actual volume rate sensitivity is given by :')\n",
"disp('S_actual=S_ideal/Cd')\n",
"S_actual=S_ideal/Cd;\n",
"printf('The actual volume rate sensitivity is %1.4f \n',S_actual)\n",
"h=.3    //('entering the manometer reading of water height=:')\n",
"disp('Actual volume flow rate is given by:')\n",
"disp('Q_actual=S_actual*sqrt(h)')\n",
"Q_actual=S_actual*sqrt(h);\n",
"printf('The actual volume flow rate is %1.3f m^3/s\n',Q_actual)"
   ]
   }
,
{
		   "cell_type": "markdown",
		   "metadata": {},
		   "source": [
			"## Example 7.6: sonic_nozzle.sce"
		   ]
		  },
  {
"cell_type": "code",
	   "execution_count": null,
	   "metadata": {
	    "collapsed": true
	   },
	   "outputs": [],
"source": [
"//CHAPTER 7_ Flow Measurement\n",
"//Caption : Sonic nozzle\n",
"// Example 6// Page 443\n",
"disp('Let uncertainty in mass flow rate be represented by wm')\n",
"disp('Let uncertainty with pressure be represented by wp')\n",
"disp('Let uncertainty with temperature measurement be represented by wt')\n",
"// To calculate the uncertainty in the temperature measurement\n",
"wm_m=0.02    //('entering the uncertainty in mass flow=:')\n",
"wp_p=0.01    //('entering the uncertainty in pressure measurement=:')\n",
"disp('Uncertainty in temperature is given by:')\n",
"disp('wt_t=2*sqrt(wm_m^2-wp_p^2)*100')\n",
"wt_t=2*sqrt(wm_m^2-wp_p^2)*100\n",
"printf('uncertainty in the temperature measurement is %1.2f %%\n',wt_t)"
   ]
   }
,
{
		   "cell_type": "markdown",
		   "metadata": {},
		   "source": [
			"## Example 7.7: venturi.sce"
		   ]
		  },
  {
"cell_type": "code",
	   "execution_count": null,
	   "metadata": {
	    "collapsed": true
	   },
	   "outputs": [],
"source": [
"//CHAPTER 7_ Flow Measurement\n",
"//Caption : Venturi\n",
"// Example 7// Page 446\n",
"p1=5*10^6    //('entering the pressure of air when venturi is to be used =:')\n",
"t1=298    //('entering the temperature of air for the same=:')\n",
"m_max=1    //('entering the maximum flow rate=:')\n",
"m_min=0.3   //('entering the minimum flow rate=:')\n",
"Re_min=10^5   //('entering the throats reynold number=:')\n",
"R=287;   // for air\n",
"pho1=p1/(R*t1);\n",
"b=0.5;\n",
"mu=1.8462*10^-5   //('enter the absolute viscosity=:')\n",
"D_max=(4*m_max)/(%pi*Re_min*mu);\n",
"D_min=(4*m_min)/(%pi*Re_min*mu);\n",
"printf('So the throat diameters for maximum and minimum flows so the reynolds number does not exceed 10^5 are %1.4f m and %1.4f m respectively\n',D_max,D_min)\n",
"// To calculate the differential pressure\n",
"At=%pi*D_max^2/4;\n",
"C=1;    // discharge coefficient\n",
"M=1.0328;    // Velocity approach coefficient\n",
"Y=.9912;   // Expansion factor\n",
"dP_max=(m_max)^2/(Y^2*M^2*C^2*At^2*2*pho1);\n",
"printf('The differential pressure for maximum flow rate is %1.5f Pa\n',dP_max)\n",
"dP_min=(m_min)^2/(Y^2*M^2*C^2*At^2*2*pho1)*1000;\n",
"printf('The differential pressure for minimum flow rate is %1.2f mPa\n',dP_min)\n",
""
   ]
   }
,
{
		   "cell_type": "markdown",
		   "metadata": {},
		   "source": [
			"## Example 7.8: constant_pressure_drop.sce"
		   ]
		  },
  {
"cell_type": "code",
	   "execution_count": null,
	   "metadata": {
	    "collapsed": true
	   },
	   "outputs": [],
"source": [
"//CHAPTER 7_ Flow Measurement\n",
"//Caption : Constant-Pressure-Drop , Variable-Area Meters(Rotameters)\n",
"// Example 8// Page 455\n",
"Qd=.1/60    //('enter the maximum flow of water=:')\n",
"t=298  //('enter the temperature in k=:')\n",
"d=.03  //('enter the float diameter in m=:')\n",
"L=0.5  //('enter the total length of rotameter=:')\n",
"D=.03  //('enter the diameter of tube at inlet=:')\n",
"Vb=25*10^-6  //('enter the total volume of float=:')\n",
"Af=7.068*10^-4    // area of float\n",
"j=2*9.81*Vb/Af;\n",
"y=L;\n",
"disp('Tube taper is given by:')\n",
"disp('a=(Qd*2)/(%pi*D*y*j^(1/2))')\n",
"a=(Qd*2)/(%pi*D*y*j^(1/2));\n",
"printf('tube taper is %1.4f m/m(taper)\n',a)"
   ]
   }
],
"metadata": {
		  "kernelspec": {
		   "display_name": "Scilab",
		   "language": "scilab",
		   "name": "scilab"
		  },
		  "language_info": {
		   "file_extension": ".sce",
		   "help_links": [
			{
			 "text": "MetaKernel Magics",
			 "url": "https://github.com/calysto/metakernel/blob/master/metakernel/magics/README.md"
			}
		   ],
		   "mimetype": "text/x-octave",
		   "name": "scilab",
		   "version": "0.7.1"
		  }
		 },
		 "nbformat": 4,
		 "nbformat_minor": 0
}
