{
"cells": [
 {
		   "cell_type": "markdown",
	   "metadata": {},
	   "source": [
       "# Chapter 8: TEMPRATURE MEASUREMENT"
	   ]
	},
{
		   "cell_type": "markdown",
		   "metadata": {},
		   "source": [
			"## Example 8.1: thermocouple.sce"
		   ]
		  },
  {
"cell_type": "code",
	   "execution_count": null,
	   "metadata": {
	    "collapsed": true
	   },
	   "outputs": [],
"source": [
"//CHAPTER 8 _ TEMPERATURE MEASUREMENT\n",
"//Caption : Thermocouple\n",
"// Example 1 // Page 500\n",
"t1 = 100    //('entering the temperature(in deg cent) =:')\n",
"e1= 5      // ('entering the emf (in mv)at temperature t1 =:')\n",
"t2=445    //('entering the second temperature(in deg cent)= :')\n",
"e2=25    //('entering the emf(in mv) at temperature t2 =:')\n",
"// TO CALCULATE CONSTANTS a AND b\n",
"//e1=a*(t1)+b*(t1^2);\n",
"//e2=a*(t2)+b*(t2^2);\n",
"A=[t1 t1^2;t2 t2^2];\n",
"\n",
"B=[e1 0 ;e2 0]\n",
"Y=lsq(A,B);    //computes the minimum norm least square solution of the equation A*Y=B,\n",
"disp(Y)\n",
"\n",
"printf('value of constants a and b are %fd V/deg cent and %fd V/deg cent respectively',Y(1,1),Y(2,1))\n",
"//PART B\n",
"//Let e(0-40) be represented by E1 , e(40-t) by E2 and e(0-t) by E3\n",
"\n",
"E1=(Y(1,1)*40)+(Y(2,1)*40^2);\n",
"disp(E1);\n",
"E2=2;    // given\n",
"E3=E1+E2;\n",
"D=sqrt((Y(1,1)^2)+(4*Y(2,1)*E3));\n",
"t=(-Y(1,1)+D)/(2*Y(2,1));\n",
"disp(t)\n",
"printf('Hot junction temperature is %1.1f deg cent ',t);\n",
"// PART C\n",
"// Let e(0-500) be represented by E4 and e(40-500) by E5\n",
"E4=Y(1,1)*500+Y(2,1)*500^2;\n",
"E5=E4-E1;\n",
"disp (E5)\n",
"printf('emf when the hot junction is at 500 and cold at 40 is %1.1f mV ',E5);\n",
"\n",
"\n",
"\n",
"\n",
"\n",
"\n",
"\n",
""
   ]
   }
,
{
		   "cell_type": "markdown",
		   "metadata": {},
		   "source": [
			"## Example 8.2: thermocouple_and_thermopile.sce"
		   ]
		  },
  {
"cell_type": "code",
	   "execution_count": null,
	   "metadata": {
	    "collapsed": true
	   },
	   "outputs": [],
"source": [
"//CHAPTER 8 _ TEMPERATURE MEASUREMENT\n",
"//Caption : THERMOCOUPLE AND THERMOPILE\n",
"// Example 2 // Page 511\n",
"h=(100/5)*10^-3    // in mv\n",
"printf('emf per thermocouple is  %1.2f mV \n', h);\n",
"// e(0-100)+e(100-t)=e(0-t)\n",
"// Let e(0-100) = E1 and e(100-t)= E2\n",
"E1= 5.27 // given\n",
"E2=h;\n",
"E3=E1+E2;\n",
"E4=5.325;   // given emf at 101 deg cent\n",
"c=100 ;   // given that cold junction is at 100 deg cent\n",
"// BT EXTRAPOLATION\n",
"t=c+((E3-E1)/(E4-E1));\n",
"printf('Required temperature difference is %1.2f deg cent ' ,t)"
   ]
   }
,
{
		   "cell_type": "markdown",
		   "metadata": {},
		   "source": [
			"## Example 8.3: electrical_resistance_sensors.sce"
		   ]
		  },
  {
"cell_type": "code",
	   "execution_count": null,
	   "metadata": {
	    "collapsed": true
	   },
	   "outputs": [],
"source": [
"//CHAPTER 8 _ TEMPERATURE MEASUREMENT\n",
"//Caption : ELECTRICAL- RESISTANCE SENSORS\n",
"// Example 3 // Page 517\n",
"s =0.2      //('enter the sensitivity =:')\n",
"d=0.4*10^-3\n",
"A=%pi*(d^2)/4;\n",
"// R=pho *l/A \n",
"R=100\n",
"pho=0.8*10^-3;\n",
"l=(R*A)/pho;\n",
"\n",
"printf('Length corresponding to resistance 100 ohm and diameter 0.4mm is %fd m\n',l)\n",
"d=2*10^-3\n",
"A=%pi*(d^2)/4;\n",
"R=100\n",
"pho=0.8*10^-3;\n",
"l=(R*A)/pho;\n",
"printf('Length corresponding to resistance 100 ohm and diameter 2mm is %1.2f m\n',l)\n",
"// The above lengths of wire indicate that their diameters should be very small so reasonable lengths can be used in practical applications .\n",
"// Let resistance at 50deg cent be R1 and at 100 deg cent be R2\n",
"t=-50       //('Enter the temperture at which resistance has to be calculated = :')\n",
"R1= R+s*(t-20);\n",
"printf('Resistance at temperature %d is %f ohm \n',t,R1)\n",
"t2=100      //('Enter the temperture at which resistance has to be calculated = :')\n",
"R2= R+s*(t2-20);\n",
"printf('Resistance at temperature %d is %f ohm\n ',t2,R2)\n",
"\n",
"\n",
"\n",
"\n",
"\n",
"\n",
"\n",
"\n",
"\n",
"\n",
"\n",
""
   ]
   }
,
{
		   "cell_type": "markdown",
		   "metadata": {},
		   "source": [
			"## Example 8.4: thermistors.sce"
		   ]
		  },
  {
"cell_type": "code",
	   "execution_count": null,
	   "metadata": {
	    "collapsed": true
	   },
	   "outputs": [],
"source": [
"//CHAPTER 8 _ TEMPERATURE MEASUREMENT\n",
"//Caption : THERMISTOR\n",
"// Example 4 // Page 521\n",
"To= 293     //('Enter the temperature in K=:')\n",
"Ro=1000     //('Entering the corresponding resistance in ohm=:')\n",
"B=3450       // (' Entering the val)ue of constant=:')\n",
"Rt=2500      //(' Entering the resistance at which temperature has to be calculated=:')\n",
"T=1/((1/To)+(1/B)*log(Rt/Ro));\n",
"disp('Temperature is given by:')\n",
"disp('T=1/((1/To)+(1/B)*log(Rt/Ro));')\n",
"printf('The temperature corresponding to resistance of %d ohm is %1.3f K \n ',Rt,T)\n",
"Wrt=5    //('Entering the error in Rt resistance measurement=:' )\n",
"Wro=2    //('Entering the error in Ro temperature measurement=:')\n",
"// Let dT/dRt be represented by DRt and dT/dRo by DRo\n",
"DRt=-T^2/(B*Rt) ;\n",
"DRo=-T^2/(B*Ro);\n",
"disp ('Error in temperature measurement is given by:')\n",
"disp('Wt=sqrt((DRt*Wrt)^2+(DRo*Wro)^2);')\n",
"Wt=sqrt((DRt*Wrt)^2+(DRo*Wro)^2);\n",
"printf('Error in the required temperature measurement is %1.4f K \n',Wt)\n",
"printf('So the required temperature is %d+_%1.4f K \n',T,Wt)\n",
"\n",
"\n",
""
   ]
   }
,
{
		   "cell_type": "markdown",
		   "metadata": {},
		   "source": [
			"## Example 8.5: pyrometers.sce"
		   ]
		  },
  {
"cell_type": "code",
	   "execution_count": null,
	   "metadata": {
	    "collapsed": true
	   },
	   "outputs": [],
"source": [
"//CHAPTER 8 _ TEMPERATURE MEASUREMENT\n",
"//Caption : PYROMETERS\n",
"// Example 5// Page 545\n",
"\n",
"//(i)Optical Pyrometer\n",
"// Ta(K) is the actual temperature and Ti(K) is the indicated temperature \n",
"TI=1200    //('Enter the indicated temperature in degree centigrade=:')\n",
"Ti=TI+273\n",
"disp('Ti=TI+273')\n",
"lamda=0.7*10^-6    //('Entering  the wavelength(in meters) at which intensities are compared')\n",
"epsilon=0.6        //('Entering  the emissivity of the body')\n",
"C2=0.014387     //('Entering the value of constant')\n",
"disp('Actual temperature is given by :')\n",
"disp('Ta=(Ti*C2)/(C2-lamda*Ti*log(epsilon));')\n",
"Ta=(Ti*C2)/(C2-lamda*Ti*log(epsilon));\n",
"ta=Ta-273;\n",
"printf('Actual temperature of the body is %d \n',ta)\n",
"//(ii) For radiation pyrometer\n",
"T=(epsilon*Ta^4)^(1/4);\n",
"ti=T-273;\n",
"printf('Indicated temperature in degree celsius of the total radiation pyrometer is %d degree cent \n',ti)\n",
"//To calculate error\n",
"Error1=Ta-Ti;\n",
"printf('Error using Optical Pyrometer is %d K \n',Error1)\n",
"Error2=Ta-T;\n",
"printf('Error using Radiation Pyrometer is %d K \n',Error2)\n",
"\n",
"\n",
"\n",
"\n",
"\n",
""
   ]
   }
],
"metadata": {
		  "kernelspec": {
		   "display_name": "Scilab",
		   "language": "scilab",
		   "name": "scilab"
		  },
		  "language_info": {
		   "file_extension": ".sce",
		   "help_links": [
			{
			 "text": "MetaKernel Magics",
			 "url": "https://github.com/calysto/metakernel/blob/master/metakernel/magics/README.md"
			}
		   ],
		   "mimetype": "text/x-octave",
		   "name": "scilab",
		   "version": "0.7.1"
		  }
		 },
		 "nbformat": 4,
		 "nbformat_minor": 0
}
