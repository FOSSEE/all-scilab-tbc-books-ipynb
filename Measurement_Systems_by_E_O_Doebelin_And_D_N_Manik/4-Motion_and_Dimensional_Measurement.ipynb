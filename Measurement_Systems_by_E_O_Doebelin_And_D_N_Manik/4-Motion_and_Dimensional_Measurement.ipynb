{
"cells": [
 {
		   "cell_type": "markdown",
	   "metadata": {},
	   "source": [
       "# Chapter 4: Motion and Dimensional Measurement"
	   ]
	},
{
		   "cell_type": "markdown",
		   "metadata": {},
		   "source": [
			"## Example 4.10: Seismic_pick_ups.sce"
		   ]
		  },
  {
"cell_type": "code",
	   "execution_count": null,
	   "metadata": {
	    "collapsed": true
	   },
	   "outputs": [],
"source": [
"//CHAPTER 4_ Motion and Dimensional Measurement\n",
"//Caption : Seismic pickup\n",
"// Example 10// Page 238\n",
"disp('r1=0.2;')\n",
"disp('r2=0.6 ')\n",
"disp('tou=0.05')\n",
"r1=0.2; \n",
"r2=0.6  // given\n",
"tou=0.05;   //given\n",
"wn=1600  //(' enter the natural frequency=:')\n",
"disp('H1=1/sqrt((1-r1^2)^2+(2*tou*r1)^2)')\n",
"H1=1/sqrt((1-r1^2)^2+(2*tou*r1)^2);\n",
"H1_phase=-atan((2*tou*r1)/(1-r1^2))*360/(2*%pi);\n",
"disp('H1_phase=-atan((2*tou*r1)/(1-r1^2))*360/(2*%pi)')\n",
"H2=1/sqrt((1-r2^2)^2+(2*tou*r2)^2);\n",
"H2_phase=-atan((2*tou*r2)/(1-r2^2))*360/(2*%pi);\n",
"//In order to obtain the amplitude of relative displacement, transfer function must be multiplied by amplitude of the input signal and the static sensitivty of the pickup (1/wn^2) for each frequency\n",
"//amp1=H1/wn^2;\n",
"//amp2=H2/wn^2;\n",
"tou2=0.6;  // given\n",
"H11=1/sqrt((1-r1^2)^2+(2*tou2*r1)^2);\n",
"H11_phase=-atan((2*tou2*r1)/(1-r1^2))*360/(2*%pi);\n",
"H22=1/sqrt((1-r2^2)^2+(2*tou2*r2)^2);\n",
"H22_phase=-atan((2*tou2*r2)/(1-r2^2))*360/(2*%pi);\n",
"//amp11=H11/wn^2;\n",
"//amp22=H22/wn^2;\n",
"printf('the magnitude of the transfer function will be %fd and %fd while the phases will shift by %fd and %fd for tou=0.05\n',H1,H2,H1_phase,H2_phase)\n",
"printf('the magnitude of the transfer function will be %fd and %fd while the phases will shift by %fd and %fd for tou=0.6\n',H11,H22,H11_phase,H22_phase)\n",
"\n",
"\n",
""
   ]
   }
,
{
		   "cell_type": "markdown",
		   "metadata": {},
		   "source": [
			"## Example 4.11: Accelerometers.sce"
		   ]
		  },
  {
"cell_type": "code",
	   "execution_count": null,
	   "metadata": {
	    "collapsed": true
	   },
	   "outputs": [],
"source": [
"//CHAPTER 4_ Motion and Dimensional Measurement\n",
"//Caption : Accelerometer\n",
"// Example 11// Page 240\n",
"disp('fn=20000')\n",
"disp('tou=0.6')\n",
"disp('f=10000 ')\n",
"fn=20000  //('enter the natural frequency of the accelerometer =:')\n",
"tou=0.6  //('enter the daping ratio of the accelerometer=:')\n",
"f=10000   //('enter the frequency at which transfer function is to be calculated=:')\n",
"r=f/fn;\n",
"H_mag=1/sqrt((1-r^2)^2+(2*tou*r)^2);\n",
"H_phase=atan((2*tou*r)/(1-r^2))*360/(2*%pi);\n",
"printf(' The magnitude is %fd and phase is %fd deg\n',H_mag,H_phase)\n",
"error=(H_mag-1)*100/1;\n",
"printf(' Error at %fd Hz is %d percent\n',f,error)"
   ]
   }
,
{
		   "cell_type": "markdown",
		   "metadata": {},
		   "source": [
			"## Example 4.12: Strain_gage.sce"
		   ]
		  },
  {
"cell_type": "code",
	   "execution_count": null,
	   "metadata": {
	    "collapsed": true
	   },
	   "outputs": [],
"source": [
"//CHAPTER 4_ Motion and Dimensional Measurement\n",
"//Caption : Strain gage\n",
"// Example 12// Page 172\n",
"Rg=120;    // given\n",
"Sg=2  // gage factor is given\n",
"stress=7*10^6;   //given\n",
"Ia=.03   //('enter the gage current=:')\n",
"//maximum allowable bridge voltage is\n",
"Eex=240*Ia;\n",
"strain=7*10^6/(200*10^9);\n",
"dR=strain*Sg*Rg;\n",
"Eo=Eex*dR/(4*Rg);\n",
"printf('output voltage is %fd V\n',Eo)\n",
"k=1.38*10^-23;  //boltzmann constant\n",
"T=300   //room temperature\n",
"dF=100000// bandwidth\n",
"E_noise=sqrt(4*k*Rg*T*dF) \n",
"printf('rms noise voltage is %fd V\n',E_noise)  \n",
"SN=Eo/E_noise;\n",
"printf('Signal to noise ratio is %fd\n',SN)"
   ]
   }
,
{
		   "cell_type": "markdown",
		   "metadata": {},
		   "source": [
			"## Example 4.1: Resistance_strain_gage.sce"
		   ]
		  },
  {
"cell_type": "code",
	   "execution_count": null,
	   "metadata": {
	    "collapsed": true
	   },
	   "outputs": [],
"source": [
"//CHAPTER 4_ Motion and Dimensional Measurement\n",
"//Caption : Resistance strain gage\n",
"// Example 1// Page 163\n",
"\n",
"disp('Rg=120')\n",
"disp('E=200 *10^9')\n",
"disp('dL=3 ')\n",
"disp('dp=0.3')\n",
"disp('v=0.3 ')\n",
"Rg=120   //('enter the resistance of strain gage=:')\n",
"E=200 *10^9   // given\n",
"dL=3  //('enter the percent change in the length of nthe rod due to loading=:')\n",
"dp=0.3  //('enter the corresponding change in the resistivity of strain gage=:')\n",
"v=0.3   // poissons ratio\n",
"e=dL/100;\n",
"dp_p=dp/100\n",
"disp('dR_R=dp_p+e*(1+2*v)')\n",
"dR_R=dp_p+e*(1+2*v)\n",
"Sg=dR_R/e;\n",
"printf('So the gage factor is %fd \n',Sg)\n",
"u_dr=0.02   //('enter the uncertainty in resistance=:')\n",
"u_sig=E*u_dr/(Rg*Sg)*10^-6;\n",
"printf(' Stress uncertainty is %1.1f MPa\n',u_sig)\n",
"// To calculate strain uncertainty\n",
"u_e=u_dr/(Rg*Sg)\n",
"printf('Strain uncertainty is %fd\n',u_e)"
   ]
   }
,
{
		   "cell_type": "markdown",
		   "metadata": {},
		   "source": [
			"## Example 4.2: Rosette.sce"
		   ]
		  },
  {
"cell_type": "code",
	   "execution_count": null,
	   "metadata": {
	    "collapsed": true
	   },
	   "outputs": [],
"source": [
"//CHAPTER 4_ Motion and Dimensional Measurement\n",
"//Caption : Rosette\n",
"// Example 2// Page 168\n",
"Eh=625*10^-6  //('enter the circumferential strain=:')\n",
"Ea= 147*10^-6   //('enter the longitudinal strain=:')\n",
"E=200*10^9    // given\n",
"v=0.3;   // poissons ratio\n",
"// to calculate circumferential stress\n",
"sig_h=E/(1-v^2)*(Eh+v*Ea)*10^-6;\n",
"printf('Circumferential stress (hoops stress) is %1.1f MPa\n',sig_h);\n",
"sig_a=E/(1-v^2)*(v*Eh+Ea)*10^-6;\n",
"printf('Axial stress is %1.2f M Pa\n',sig_a);\n",
"// To calculate ratio of stresse\n",
"disp('Let the ratio be represented by RR')\n",
"RR=sig_h/sig_a;\n",
"printf('Ratio of stresses is %fd\n',RR)\n",
"disp('Let the ratio of strains be represented by SS')\n",
"SS=Eh/Ea;\n",
"printf('THe ratio of strains is %1.2f', SS)\n",
"\n",
"\n",
""
   ]
   }
,
{
		   "cell_type": "markdown",
		   "metadata": {},
		   "source": [
			"## Example 4.3: Strain_gage.sce"
		   ]
		  },
  {
"cell_type": "code",
	   "execution_count": null,
	   "metadata": {
	    "collapsed": true
	   },
	   "outputs": [],
"source": [
"//CHAPTER 4_ Motion and Dimensional Measurement\n",
"//Caption : Strain gage\n",
"// Example 3// Page 176\n",
"disp('Rg=120')\n",
"disp('Sg=2;')\n",
"disp('Rs=120000')\n",
"Rg=120;    // given\n",
"Sg=2;  // gage factor\n",
"Rs=120000   //('enter the value of shunt resistor=:')\n",
"disp('The input bridge excitation is represented by Eex')\n",
"A=10   //('enter the amplifier gain=:')\n",
"// The shunt resistance has to be very large since we intend to measure only very small change in resistanc\n",
"eo=30*10^-3    //('enter the unbalanced bridge voltage=:')\n",
"dR=Rg/(Rg+Rs);\n",
"r=1;//ratio of resistances of adjacent arms\n",
"Eex=eo*(1+r)^2/(r*dR*A);\n",
"printf('The input excitation voltage is %fd V\n',Eex)\n",
"p1=2 *(1+v) // bridge factor\n",
"Eo=.5   //('enter the voltmeter reading when shunt is removed=:')\n",
"E_axial=Eo*(1+r)^2/(r*Sg*p1*Eex*A);\n",
"printf(' Axial strain is %fd\n ',E_axial)\n",
"E_trans=E_axial*v;\n",
"printf('The transverse strain is -%fd',E_trans)"
   ]
   }
,
{
		   "cell_type": "markdown",
		   "metadata": {},
		   "source": [
			"## Example 4.4: Capacitance_pick_ups.sce"
		   ]
		  },
  {
"cell_type": "code",
	   "execution_count": null,
	   "metadata": {
	    "collapsed": true
	   },
	   "outputs": [],
"source": [
"//CHAPTER 4_ Motion and Dimensional Measurement\n",
"//Caption : Capacitance pick ups\n",
"// Example 4// Page 192\n",
"disp('h=.005')\n",
"disp('A=200*10^-6')\n",
"disp('n=0.03')\n",
"h=.005  //('enter the distance between the capacitors=:')\n",
"A=200*10^-6  //('enter the area of the transducer=:')\n",
"n=0.03  //('enter the non linearity=:')\n",
"w=.014  //('enter the side of the square capacitor=:')\n",
"er=1   // given that air if filled\n",
"eo=8.85  ;\n",
"// to calculate the sensitivity of this transducer, let it be represented by c\n",
"c=eo*er*A/h^2;\n",
"printf('sensitivity of the transducer is %1.2f pF/m \n',c)\n",
"// to calculate the sensitivity of the square moving plate sensor cl\n",
"cl=eo*er*w/h;\n",
"printf('the sensitivity of the square moving plate sensor is %1.2f pF/m ',cl)\n",
""
   ]
   }
,
{
		   "cell_type": "markdown",
		   "metadata": {},
		   "source": [
			"## Example 4.5: Piezoelectric_transducer.sce"
		   ]
		  },
  {
"cell_type": "code",
	   "execution_count": null,
	   "metadata": {
	    "collapsed": true
	   },
	   "outputs": [],
"source": [
"//CHAPTER 4_ Motion and Dimensional Measurement\n",
"//Caption : Piezoelectric transducer\n",
"// Example 5// Page 207\n",
"g=15  //('enter the value constant g for the crystal=:')\n",
"A=%pi*((5*10^-3)^2)/4   //('enter the area of cross section of the crystal=:')\n",
"f=50  //('enter the frequency of sinusoidally varying pressure=:')\n",
" eoer=15*10^-9  // for the crystal\n",
" E=120 *10^9  // youngs modulus of elasticity\n",
" t=.003   //('enter the thichness of the crystal=:')\n",
" Kq=g*eoer*A*E/t;\n",
" printf('Charge sensitivity is %fd mC/m \n',Kq)\n",
" Ccr=eoer*A/t;\n",
" Camp=2000*10^-12;\n",
" Ccable=100*10^-12;\n",
" C=Ccr+Camp+Ccable;\n",
" Ramp=2000000   //('enter the input impedance of the amplifier')\n",
" Req=Ramp;\n",
" tou=Req*C;     // time constant\n",
" // Let the amplitude ratio is given by EOP\n",
" w=2*%pi*f;\n",
" EOP=Kq*t*w*tou/(C*E*sqrt(1+(w*tou)^2))\n",
" printf('The amplitude ratio is %fd mV/V\n',EOP)\n",
" // let the phase lag be represented by phi\n",
" phi=360*atan(1/(w*tou))/(2*%pi);\n",
" printf(' The phase lag is %fd deg',phi);"
   ]
   }
,
{
		   "cell_type": "markdown",
		   "metadata": {},
		   "source": [
			"## Example 4.7: Seismic_vibrations.sce"
		   ]
		  },
  {
"cell_type": "code",
	   "execution_count": null,
	   "metadata": {
	    "collapsed": true
	   },
	   "outputs": [],
"source": [
"//CHAPTER 4_ Motion and Dimensional Measurement\n",
"//Caption : Seismic vibration\n",
"// Example 7// Page 232\n",
"disp('ty=0.6')\n",
"disp('fn=10')\n",
"disp('f=25')\n",
"disp('M=0.15')\n",
"disp('xo=1.5*10^-3')\n",
"ty=0.6  //(' enter the damping ratio of seismic vibration pickup=:')\n",
"fn=10   //('enter the natural frequency =:')\n",
"f=25  //('enter the frequency at which the table is vibrating=')\n",
"M=0.15  //( 'enter the seismic mass=:')\n",
"xo=1.5*10^-3  //('enter the relative amplitude of the mass=:')\n",
"r=f/fn;\n",
"disp('xi=xo/((r^2)/sqrt((1-r^2)^2+(2*ty*r)^2));')\n",
"xi=xo/((r^2)/sqrt((1-r^2)^2+(2*ty*r)^2));\n",
"error=(xi-xo)/xo;\n",
"printf('error in measurement is %fd\n',error)\n",
"wn=2*%pi*fn;\n",
"Ks=wn^2*M;\n",
"printf('spring constant is %fd N/m\n',Ks)\n",
"B=ty*(2*sqrt(Ks*M));\n",
"printf(' damping coefficient of pickup is %fdN-s/m\n',B)"
   ]
   }
,
{
		   "cell_type": "markdown",
		   "metadata": {},
		   "source": [
			"## Example 4.8: Seismic_velocity_pick_ups.sce"
		   ]
		  },
  {
"cell_type": "code",
	   "execution_count": null,
	   "metadata": {
	    "collapsed": true
	   },
	   "outputs": [],
"source": [
"//CHAPTER 4_ Motion and Dimensional Measurement\n",
"//Caption : Seismic velocity pickup\n",
"// Example 8// Page 235\n",
"disp('fn=4')\n",
"disp('S=500')\n",
"disp('m=0.2')\n",
"disp('v=1.5*10^-2')\n",
"fn=4  //('enter the natural frequency=:')\n",
"S=500  //('enter the sensitivity=:')\n",
"m=0.2  //('enter the mass =:')\n",
"v=1.5*10^-2  //('enter the maximum velocity with which the surface is vibrating=:')\n",
"f=10 //('enter the frequency=:')\n",
"r=f/fn;\n",
"tou=0.2 // given\n",
"w=2*%pi*f;\n",
"eo=(v*S*r^2)/sqrt((1-r^2)^2+(2*tou*r)^2);\n",
"printf('The peak voltage corresponding to 10Hz frequency is %fd mV\n',eo)\n",
"phi1=360*atan(2*tou*r/(1-r^2))/(2*%pi);\n",
"printf('phase angle corresponding to the 10 Hz frequency is %fd deg\n',phi1)\n",
"f2=20   //('enter the other frequency=:')\n",
"r=f2/fn;\n",
"eo=(v*S*r^2)/sqrt((1-r^2)^2+(2*tou*r)^2);\n",
"printf('The peak voltage corresponding to 20Hz frequency is %fd mV\n',eo)\n",
"phi2=360*atan(2*tou*r/(1-r^2))/(2*%pi);\n",
"printf('phase angle corresponding to the 20 Hz frequency is %fd deg\n',phi2)\n",
"\n",
"\n",
"\n",
"\n",
"\n",
"\n",
"\n",
"\n",
"\n",
"\n",
"\n",
"\n",
"\n",
"\n",
""
   ]
   }
,
{
		   "cell_type": "markdown",
		   "metadata": {},
		   "source": [
			"## Example 4.9: Piezoelectric_transducer.sce"
		   ]
		  },
  {
"cell_type": "code",
	   "execution_count": null,
	   "metadata": {
	    "collapsed": true
	   },
	   "outputs": [],
"source": [
"//CHAPTER 4_ Motion and Dimensional Measurement\n",
"//Caption : Piezoelectric transducer\n",
"// Example 9// Page 237\n",
"disp('Ccr=1200')\n",
"disp('Kq=100')\n",
"disp('Cc=250')\n",
"Ccr=1200  //('enter the capacitance of the transducer=:')\n",
"Kq=100  //('enter the charge sensitivity of the transducer=:')\n",
"Cc=250  //('enter the capacitance of the connecting cable=:')\n",
"//to calculate the sensitivity of transducer alone\n",
"Ktrans=Kq/Ccr;\n",
"printf('the sensitivity of the transducer alone is %fd V/micro m\n',Ktrans)\n",
"Camp=75  //('enter the capacitance of amplifier=:')\n",
"Ceq=Ccr+Cc+Camp\n",
"Ktot=Kq/Ceq;\n",
"printf('total sensitivity of the transducer is %fdV/micro m\n',Ktot)\n",
"Ramp=2*10^6  //('enter the resistance of the amplifier=:')\n",
"disp('tou=Ramp*Ceq*10^-12')\n",
"tou=Ramp*Ceq*10^-12;\n",
"e=5  //('enter the error in percent=:')\n",
"e1=1-(e/100);\n",
"// let tou*w1=l\n",
"l=sqrt(e1^2/(1-e1^2));\n",
"f1=l/(2*%pi*tou);\n",
"printf('The lowest frequency that can be measured with 5 per cent amplitude error by the entire system is %fd Hz\n',f1)\n",
"tou1=l/(2*%pi*100)\n",
"disp('Ceq1=tou1*10^12/Ramp')\n",
"Ceq1=tou1*10^12/Ramp\n",
"Creq=Ceq1-Ceq;\n",
"printf(' The capacitance that needs to be connected in parallel to extend the range of 5percent error to 100hz is %fd pF\n',Creq)\n",
"K_hf=Kq/Ceq1\n",
"printf('high frequency sensitivity is %fd V/micro m\n',K_hf)"
   ]
   }
],
"metadata": {
		  "kernelspec": {
		   "display_name": "Scilab",
		   "language": "scilab",
		   "name": "scilab"
		  },
		  "language_info": {
		   "file_extension": ".sce",
		   "help_links": [
			{
			 "text": "MetaKernel Magics",
			 "url": "https://github.com/calysto/metakernel/blob/master/metakernel/magics/README.md"
			}
		   ],
		   "mimetype": "text/x-octave",
		   "name": "scilab",
		   "version": "0.7.1"
		  }
		 },
		 "nbformat": 4,
		 "nbformat_minor": 0
}
