{
"cells": [
 {
		   "cell_type": "markdown",
	   "metadata": {},
	   "source": [
       "# Chapter 5: The Schrodinger Equation"
	   ]
	},
{
		   "cell_type": "markdown",
		   "metadata": {},
		   "source": [
			"## Example 5.1: Displacement_and_velocity_of_the_object.sce"
		   ]
		  },
  {
"cell_type": "code",
	   "execution_count": null,
	   "metadata": {
	    "collapsed": true
	   },
	   "outputs": [],
"source": [
"clear \n",
"clc\n",
"disp('Exa-5.1');//The solution involves very complex symbolic equation solving and approximations. Hence only answers are displayed\n",
"printf('The displacement and velocity of the ball are found out in 2 steps\n step1-before reaching the surface of water and \n step2-Inside water till it rises back to surface\n');\n",
"printf('The values are as follows: v1(t)=-g*t and y1(t)=H-((g/2)*t^2))\n');\n",
"printf('In region 2: v2(t)=(-B/m*sqrt(2*H/g))+(B/m-g)*t; y2(t)= H+ HB/mg -B/m*sqrt(2*H/g)+ (B/m-g)');"
   ]
   }
,
{
		   "cell_type": "markdown",
		   "metadata": {},
		   "source": [
			"## Example 5.2: Solution_for_a_and_b.sce"
		   ]
		  },
  {
"cell_type": "code",
	   "execution_count": null,
	   "metadata": {
	    "collapsed": true
	   },
	   "outputs": [],
"source": [
"clear    \n",
"clc\n",
"disp('Exa-5.2(a)');\n",
"h=1.05*10^-34;m=9.11*10^-31;L=10^-10;      // all the values are taken in SI units\n",
"E1=h^2*%pi^2/(2*m*L^2); E2=4*E1;            //Energies are calculated\n",
"delE=(E2-E1)/(1.6*10^-19);                  //Difference in energy is converted to eV\n",
"printf('Energy to be supplied is %.0f eV.\n',delE);\n",
"disp('Exa-5.2(b)');\n",
"x1=0.09*10^-10;x2=0.11*10^-10                 //limits of the given region\n",
"probGnd=(2/L)*integrate('(sin(%pi*x/L)^2)','x',x1,x2);\n",
"printf('The percentage probablility of finding an electron in the ground state is %.2f.\n',probGnd*100);\n",
"disp('Exa-5.2(c)');\n",
"x1=0,x2=0.25*10^-10;\n",
"probExc=(2/L)*integrate('(sin(2*%pi*x/L)^2)','x',x1,x2);\n",
"printf('The probablility of finding an electron in the excited state is %.2f.\n',probExc);"
   ]
   }
,
{
		   "cell_type": "markdown",
		   "metadata": {},
		   "source": [
			"## Example 5.3: Proof_for_average_value_of_x.sce"
		   ]
		  },
  {
"cell_type": "code",
	   "execution_count": null,
	   "metadata": {
	    "collapsed": true
	   },
	   "outputs": [],
"source": [
"clear    \n",
"clc\n",
"disp('Ex-5.3');\n",
"x1=0;x2=L;\n",
"xavg=(2/L)*integrate('sin(%pi*x/L)^2','x',x1,x2);\n",
"printf('The average value of x is found out to be L/2 which apparently is independent of Qunatum state.');"
   ]
   }
],
"metadata": {
		  "kernelspec": {
		   "display_name": "Scilab",
		   "language": "scilab",
		   "name": "scilab"
		  },
		  "language_info": {
		   "file_extension": ".sce",
		   "help_links": [
			{
			 "text": "MetaKernel Magics",
			 "url": "https://github.com/calysto/metakernel/blob/master/metakernel/magics/README.md"
			}
		   ],
		   "mimetype": "text/x-octave",
		   "name": "scilab",
		   "version": "0.7.1"
		  }
		 },
		 "nbformat": 4,
		 "nbformat_minor": 0
}
