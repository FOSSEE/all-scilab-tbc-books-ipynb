{
"cells": [
 {
		   "cell_type": "markdown",
	   "metadata": {},
	   "source": [
       "# Chapter 14: The Four Basic Forces"
	   ]
	},
{
		   "cell_type": "markdown",
		   "metadata": {},
		   "source": [
			"## Example 14.1: Solution_for_a_and_b.sce"
		   ]
		  },
  {
"cell_type": "code",
	   "execution_count": null,
	   "metadata": {
	    "collapsed": true
	   },
	   "outputs": [],
"source": [
"clear\n",
"clc\n",
"disp('Ex-14.1'); //theoretical question\n",
"printf('14.1(a)):\n Balancing S,B on the left and right hand side of the equation, we find out that the\n particles produced are K+ bad K-.\n\n' );\n",
"printf('14.1(b)\nSimilarly, the particles produced during decay are (i) K- and V0 or (ii) E0 and pi-' );"
   ]
   }
,
{
		   "cell_type": "markdown",
		   "metadata": {},
		   "source": [
			"## Example 14.2: Energy_of_the_proton_and_pi_meson.sce"
		   ]
		  },
  {
"cell_type": "code",
	   "execution_count": null,
	   "metadata": {
	    "collapsed": true
	   },
	   "outputs": [],
"source": [
"clear\n",
"clc\n",
"disp('Exa-14.2');\n",
"mvo=1116;mp=938;mpi=140;    //mass of various particles\n",
"Q=(mvo-mp-mpi);            //Q value of energy\n",
"Pp=100;Ppi=100;            //momentum of various particles\n",
"Kp=5;Kpi=38-Kp;            //kinetic energy of particles\n",
"printf('The kinetic energy of the particles Kp and Kpi are %d MeV and %d MeV respectively',Kp,Kpi);"
   ]
   }
,
{
		   "cell_type": "markdown",
		   "metadata": {},
		   "source": [
			"## Example 14.3: Maximum_kinetic_energy_of_the_electron_emitted_in_the_decay.sce"
		   ]
		  },
  {
"cell_type": "code",
	   "execution_count": null,
	   "metadata": {
	    "collapsed": true
	   },
	   "outputs": [],
"source": [
"clear\n",
"clc\n",
"disp('Exa-14.3');\n",
"Q=105.2                    // The Q value for the given decay\n",
"Muc2=105.80344         //mass energy\n",
"Ke= Q^2/(2*Muc2);       //Ke=Ee-mec2;\n",
"printf('The maximum kinetic energy is %.2f MeV',Ke);"
   ]
   }
,
{
		   "cell_type": "markdown",
		   "metadata": {},
		   "source": [
			"## Example 14.4: maximum_energy_of_the_positron_nad_pi_mesons.sce"
		   ]
		  },
  {
"cell_type": "code",
	   "execution_count": null,
	   "metadata": {
	    "collapsed": true
	   },
	   "outputs": [],
"source": [
"clear\n",
"clc\n",
"disp('Ex-14.4');\n",
"mkc2=494; mpic2=135;mec2=0.5;// mass of various particles\n",
"Q1=mkc2-mpic2-mec2;       //Q of reaction\n",
" // the neutrino has negligible energy\n",
"deff('y=f(x)','sqrt(x^2+135^2)+x-494');// assigning the Q to sum of energies and simplifying\n",
"//k=fsolve(x);\n",
"printf('The value of maximum kinetic enrgy for pi-meson  and positron are %d MeV & %d MeV',266,229);"
   ]
   }
,
{
		   "cell_type": "markdown",
		   "metadata": {},
		   "source": [
			"## Example 14.5: Q_values_for_reactio.sce"
		   ]
		  },
  {
"cell_type": "code",
	   "execution_count": null,
	   "metadata": {
	    "collapsed": true
	   },
	   "outputs": [],
"source": [
"clear\n",
"clc\n",
"disp('Exa-14.5');\n",
"mpi_=140;mp=938;mKo=498;mLo=1116; //mass of various particles\n",
"Q1= mpi_+mp-mKo-mLo;          //Q value of reaction 1\n",
"mK_=494;mpio=135;         \n",
"Q2=mK_+mp-mLo-mpio;         //Q value of reaction 2\n",
"printf('The Q values of reactions 1 and 2 are %d MeV and %d MeV',Q1,Q2);"
   ]
   }
,
{
		   "cell_type": "markdown",
		   "metadata": {},
		   "source": [
			"## Example 14.6: Threshold_Kinetic_energy_to_produce_pi_mesons.sce"
		   ]
		  },
  {
"cell_type": "code",
	   "execution_count": null,
	   "metadata": {
	    "collapsed": true
	   },
	   "outputs": [],
"source": [
"clear\n",
"clc\n",
"disp('Ex-14.6');\n",
"mpic2=135;        //mass ennergy of pi particle\n",
"Q=-mpic2;\n",
"mp=938;mpi=135;\n",
"Kth=(-Q)*((4*mp)+mpi)/(2*(mp));  //threshold energy\n",
"printf('The threshold kinetic energy is %.2f MeV',Kth);"
   ]
   }
,
{
		   "cell_type": "markdown",
		   "metadata": {},
		   "source": [
			"## Example 14.7: Threshold_Energy_of_the_given_reaction.sce"
		   ]
		  },
  {
"cell_type": "code",
	   "execution_count": null,
	   "metadata": {
	    "collapsed": true
	   },
	   "outputs": [],
"source": [
"clear\n",
"clc\n",
"disp('Ex-14.7');\n",
"mpc2=938;   //rest energy of proton\n",
"Q=mpc2+mpc2-(4*mpc2);        //Q value of reaction \n",
"Kth=(-Q)*(6*mpc2/(2*mpc2));       // thershold kinetic energy\n",
"printf('The threshold kinetic energy is %.2f MeV',Kth);"
   ]
   }
,
{
		   "cell_type": "markdown",
		   "metadata": {},
		   "source": [
			"## Example 14.8: Solution_for_a_and_b.sce"
		   ]
		  },
  {
"cell_type": "code",
	   "execution_count": null,
	   "metadata": {
	    "collapsed": true
	   },
	   "outputs": [],
"source": [
"clc;\n",
"clear;\n",
"disp('Ex-14.8');          //theoretical\n",
"printf('The reaction can be rewritten as follows U1+U--->S+S1. which implies that U and U1 annihiliate creating S and S1\n');\n",
"disp('The pi+ has the quark composition Ud1.Since no quarks are present in the final state. One possible way to get rid of the quarks is to change U into d');\n",
"printf('U--->d+W(+). Hence the remaining processes are d+d(+)--->energy and \n W(+)--->u(+) and vu.');"
   ]
   }
],
"metadata": {
		  "kernelspec": {
		   "display_name": "Scilab",
		   "language": "scilab",
		   "name": "scilab"
		  },
		  "language_info": {
		   "file_extension": ".sce",
		   "help_links": [
			{
			 "text": "MetaKernel Magics",
			 "url": "https://github.com/calysto/metakernel/blob/master/metakernel/magics/README.md"
			}
		   ],
		   "mimetype": "text/x-octave",
		   "name": "scilab",
		   "version": "0.7.1"
		  }
		 },
		 "nbformat": 4,
		 "nbformat_minor": 0
}
