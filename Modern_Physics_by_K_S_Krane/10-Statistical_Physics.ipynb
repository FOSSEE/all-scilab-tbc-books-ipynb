{
"cells": [
 {
		   "cell_type": "markdown",
	   "metadata": {},
	   "source": [
       "# Chapter 10: Statistical Physics"
	   ]
	},
{
		   "cell_type": "markdown",
		   "metadata": {},
		   "source": [
			"## Example 10.1: Various_Speeds_obtained_from_maxwell_speed_distribution.sce"
		   ]
		  },
  {
"cell_type": "code",
	   "execution_count": null,
	   "metadata": {
	    "collapsed": true
	   },
	   "outputs": [],
"source": [
"clear\n",
"clc\n",
"disp('Exa-10.1'); //Theoretical Question\n",
"//**Install and use maxim tool for symbolic integration. remove the '//'(comment markings) below and run the program.\n",
"//Vm=integrate('(v^3)*(e^(-b*v^2))','x',0,%infi);\n",
"//rest of the results follow from above\n",
"printf('The average speed is found out to be (8*k*T/m)^1/2)\n');   \n",
"printf('The RMS speed is (3*k*T/m)^1/2\n');\n",
"printf('The Most probable speed is found out to be (2*k*T/m)^1/2 \n where all the symbols used are conventional constants.');"
   ]
   }
,
{
		   "cell_type": "markdown",
		   "metadata": {},
		   "source": [
			"## Example 10.2: Frequency_distribution_of_emitted_light.sce"
		   ]
		  },
  {
"cell_type": "code",
	   "execution_count": null,
	   "metadata": {
	    "collapsed": true
	   },
	   "outputs": [],
"source": [
"clear\n",
"clc\n",
"disp('Exa-10.2');       //The solution is purely theoretical and involves a lot of approximations.\n",
"printf('The value of shift in frequency was found out to be delf=7.14*fo*10^-7*sqrt(T) for a star composing of hydrogen atoms at a temperature T.\n');\n",
"T=6000;                       //temperature for sun\n",
"delf=7.14*10^-7*sqrt(T);.....//change in frequency\n",
"printf('The value of frequency shift for sun(at 6000 deg. temperature) comprsing of hydrogen atoms is %.1e times the frequency of the light.',delf);"
   ]
   }
,
{
		   "cell_type": "markdown",
		   "metadata": {},
		   "source": [
			"## Example 10.3: Solution_for_a_and_b.sce"
		   ]
		  },
  {
"cell_type": "code",
	   "execution_count": null,
	   "metadata": {
	    "collapsed": true
	   },
	   "outputs": [],
"source": [
"clear\n",
"clc\n",
"disp('Exa-10.3(a)');\n",
"kT=0.0252;E=10.2                              // at room temperature, kT=0.0252 standard value and given value of E\n",
"n2=2;n1=1; g2=2*(n2^2);g1=2*(n1^2);           //values for ground and excited states\n",
"t=(g2/g1)*%e^(-E/kT);                         //fraction of atoms\n",
"printf('The number of hydrogen atoms required is %e which weighs %e Kg\n',1/t,(1/t)*(1.67*10^-27));\n",
"disp('Ex-10.3(b)');\n",
"t=0.1/0.9;k=8.65*10^-5                          //fracion of atoms in case-2 is given\n",
"T=-E/(log(t/(g2/g1))*k);                        //temperature\n",
"printf('The value of temperature at which 1/10 atoms are in excited state is %.3f K',T);"
   ]
   }
,
{
		   "cell_type": "markdown",
		   "metadata": {},
		   "source": [
			"## Example 10.4: Solution_for_a_and_b.sce"
		   ]
		  },
  {
"cell_type": "code",
	   "execution_count": null,
	   "metadata": {
	    "collapsed": true
	   },
	   "outputs": [],
"source": [
"clear\n",
"clc\n",
"disp('Exa-10.4(a)'); //theoretical\n",
"printf('The energy of interaction with magnetic field is given by uB and the degeneracy of the states are +-1/2 which are identical.\nThe ratio is therefore pE2/pE1 which gives e^(-2*u*B/k*T)');\n",
"disp('Ex-10.4(b)');\n",
"uB=5.79*10^-4;        //for a typical atom\n",
"t=1.1;k=8.65*10^-5;   //ratio and constant k\n",
"T=2*uB/(log(t)*k);    //temperature\n",
"printf('The value of temperature ar which the given ratio exists is %.2f K',T);"
   ]
   }
,
{
		   "cell_type": "markdown",
		   "metadata": {},
		   "source": [
			"## Example 10.5: Fermi_Energy_Ef_for_sodium.sce"
		   ]
		  },
  {
"cell_type": "code",
	   "execution_count": null,
	   "metadata": {
	    "collapsed": true
	   },
	   "outputs": [],
"source": [
"clear\n",
"clc\n",
"disp('Exa-10.5');\n",
"p=0.971; A=6.023*10^23; m=23.0;    // various given values and constants\n",
"c= (p*A/m)*10^6;                   // atoms per unit volume\n",
"hc=1240; mc2=0.511*10^6;           // hc=1240 eV.nm\n",
"E= ((hc^2)/(2*mc2))*(((3/(8*%pi))*c)^(2/3)); //value of fermi energy\n",
"printf('The fermi energy for sodium is %f eV',E*10^-18);//multiply by 10^-18 to convert metres^2 term to nm^2"
   ]
   }
],
"metadata": {
		  "kernelspec": {
		   "display_name": "Scilab",
		   "language": "scilab",
		   "name": "scilab"
		  },
		  "language_info": {
		   "file_extension": ".sce",
		   "help_links": [
			{
			 "text": "MetaKernel Magics",
			 "url": "https://github.com/calysto/metakernel/blob/master/metakernel/magics/README.md"
			}
		   ],
		   "mimetype": "text/x-octave",
		   "name": "scilab",
		   "version": "0.7.1"
		  }
		 },
		 "nbformat": 4,
		 "nbformat_minor": 0
}
