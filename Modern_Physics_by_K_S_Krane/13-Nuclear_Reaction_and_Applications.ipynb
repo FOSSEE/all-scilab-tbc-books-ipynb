{
"cells": [
 {
		   "cell_type": "markdown",
	   "metadata": {},
	   "source": [
       "# Chapter 13: Nuclear Reaction and Applications"
	   ]
	},
{
		   "cell_type": "markdown",
		   "metadata": {},
		   "source": [
			"## Example 13.1: Rate_of_production_of_neutron.sce"
		   ]
		  },
  {
"cell_type": "code",
	   "execution_count": null,
	   "metadata": {
	    "collapsed": true
	   },
	   "outputs": [],
"source": [
"clear\n",
"clc\n",
"disp('Ex-13.1')\n",
"v=1*1*10^-6*10^2; p=7.9; m=p*v;Na=6.023*10^23     //given values and various constants in suitable units\n",
"M=56;N=m*Na/M;                                 //number of atoms\n",
"i=3*10^-6;\n",
"q=1.6*10^-19;\n",
"Io=i/q;                 //intensity\n",
"s=0.6*10^-24;S=1;             //given values in suitable units\n",
"R=N*s*Io/S;                     //rate of neutrons\n",
"printf('The rate of neutrons emitted from the target is %.2e particles per second',R);"
   ]
   }
,
{
		   "cell_type": "markdown",
		   "metadata": {},
		   "source": [
			"## Example 13.2: Resultant_activity_of_198Au.sce"
		   ]
		  },
  {
"cell_type": "code",
	   "execution_count": null,
	   "metadata": {
	    "collapsed": true
	   },
	   "outputs": [],
"source": [
"clear\n",
"clc\n",
"disp('Exa-13.2')\n",
"A=197; m=30*10^-3;phi=3*10^12;    //given values and various constants taken in suitable units\n",
"Ar=99*10^-24; Na=6.023*10^23\n",
"R=(phi*Na*Ar*m/A);        //rate or production of gold\n",
"t=2.7*24*60         // time of decay\n",
"Act=R*(0.693/t);     //activity /sec\n",
"ActCi=Act/(2.7*10^-4);     // in terms of curie(Ci)\n",
"printf('The activity is found out to be %.2e/sec i.e %.2e Ci',Act,ActCi);"
   ]
   }
,
{
		   "cell_type": "markdown",
		   "metadata": {},
		   "source": [
			"## Example 13.3: Solution_for_a_and_b.sce"
		   ]
		  },
  {
"cell_type": "code",
	   "execution_count": null,
	   "metadata": {
	    "collapsed": true
	   },
	   "outputs": [],
"source": [
"clear\n",
"clc\n",
"disp('Exa-13.3(a)')\n",
"v=1.5*1.5*2.5*(10^-6)*10^2; //volume in cm3\n",
"p=8.9;         //density in g/cm3\n",
"m=p*v;Na=6.023*10^23 //mass and Avagadro's number\n",
"M=58.9;        //Given values\n",
"N=m*Na/M;\n",
"i=12*10^-6;       //thickness of beam\n",
"q=1.6*10^-19;\n",
"Io=i/(2*q);      //intensity\n",
"s=0.64*10^-24;   //Given values\n",
"S=1.5*1.5;\n",
"R=N*s*Io/S;       //rate of production of 61Cu\n",
"printf('The rate of neutrons emitted from the target is %.2e particles/second\n',R);\n",
"disp('Exa-13.3(b)')\n",
"act=R*(1-(%e^((0.693)*(-2/3.41))));          //activity\n",
"printf('The activity after 2.0h is %e/sec',act);"
   ]
   }
,
{
		   "cell_type": "markdown",
		   "metadata": {},
		   "source": [
			"## Example 13.4: Solution_for_a_and_b.sce"
		   ]
		  },
  {
"cell_type": "code",
	   "execution_count": null,
	   "metadata": {
	    "collapsed": true
	   },
	   "outputs": [],
"source": [
"clear\n",
"clc\n",
"disp('Exa-13.4(a)');\n",
"m2H=2.014102;    //mass of various particles\n",
"mn=1.008665;m63Cu=62.929599;\n",
"m64Zn=63.929145;c2=931.5;     //c^2=931.5 MeV\n",
"Q=(m2H+m63Cu-mn-m64Zn)*c2;       //Q of the reaction\n",
"printf('The value of Q is %f MeV\n',Q);\n",
"disp('Exa-13.4(b)');\n",
"Kx=12.00;Ky=16.85;\n",
"Ky=Q+Kx-Ky              //kinetic energy of 64Zn\n",
"printf('The value of Ky was found out to be %.2f MeV',Ky);"
   ]
   }
,
{
		   "cell_type": "markdown",
		   "metadata": {},
		   "source": [
			"## Example 13.5: Solution_for_a_and_b.sce"
		   ]
		  },
  {
"cell_type": "code",
	   "execution_count": null,
	   "metadata": {
	    "collapsed": true
	   },
	   "outputs": [],
"source": [
"clear\n",
"clc\n",
"disp('Exa-13.5(a)');\n",
"mp=1.007825;m3H=3.016049;    //mass of the particle\n",
"m2H=2.014102;c2=931.5;      //constant\n",
"Q=(mp+m3H-(2*m2H))*c2;     //Q of thereaction\n",
"printf('The value of q was found out to be %f MeV\n',Q);\n",
"disp('Exa-13.5(b)');\n",
"Kth1= -Q*(1+(mp/m3H));        //threshold energy of kinetic energy\n",
"printf('The threshold kinetic energy in case-1 is %f MeV\n',Kth1);\n",
"Kth2=-Q*(1+(m3H/mp));        //threshold kinetic energy in case2\n",
"printf('The threshold kinetic energy in case-2 is %f MeV',Kth2);"
   ]
   }
],
"metadata": {
		  "kernelspec": {
		   "display_name": "Scilab",
		   "language": "scilab",
		   "name": "scilab"
		  },
		  "language_info": {
		   "file_extension": ".sce",
		   "help_links": [
			{
			 "text": "MetaKernel Magics",
			 "url": "https://github.com/calysto/metakernel/blob/master/metakernel/magics/README.md"
			}
		   ],
		   "mimetype": "text/x-octave",
		   "name": "scilab",
		   "version": "0.7.1"
		  }
		 },
		 "nbformat": 4,
		 "nbformat_minor": 0
}
