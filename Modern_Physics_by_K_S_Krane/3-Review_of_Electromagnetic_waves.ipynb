{
"cells": [
 {
		   "cell_type": "markdown",
	   "metadata": {},
	   "source": [
       "# Chapter 3: Review of Electromagnetic waves"
	   ]
	},
{
		   "cell_type": "markdown",
		   "metadata": {},
		   "source": [
			"## Example 3.1: Atomic_Spacing_of_Nacl.sce"
		   ]
		  },
  {
"cell_type": "code",
	   "execution_count": null,
	   "metadata": {
	    "collapsed": true
	   },
	   "outputs": [],
"source": [
"clear    \n",
"clc\n",
"disp('Exa-3.1');\n",
"w=0.250; theta=26.3;n=1 // n=1 for hydrogen atom and rest all are given values\n",
"d=n*w/(2*sind(theta));     // bragg's law\n",
"printf('Hence the atomic spacing is %.3f nm.',d);"
   ]
   }
,
{
		   "cell_type": "markdown",
		   "metadata": {},
		   "source": [
			"## Example 3.2: Time_taken_to_release_an_electron.sce"
		   ]
		  },
  {
"cell_type": "code",
	   "execution_count": null,
	   "metadata": {
	    "collapsed": true
	   },
	   "outputs": [],
"source": [
"clear     \n",
"clc\n",
"disp('Exa-3.2');\n",
"I=120;r=0.1*10^-9;Eev=2.3   //I-intensity in W/m^2 r in m & E in electron volt\n",
"A=%pi*r^2;K=1.6*10^-19;     // A=area and K is conversion factor from ev to joules\n",
"t= Eev*K/(I*A);            //time interval\n",
"printf('The value of time interval was found out to be %.1f sec',t);"
   ]
   }
,
{
		   "cell_type": "markdown",
		   "metadata": {},
		   "source": [
			"## Example 3.3: Solution_for_a_and_b.sce"
		   ]
		  },
  {
"cell_type": "code",
	   "execution_count": null,
	   "metadata": {
	    "collapsed": true
	   },
	   "outputs": [],
"source": [
"clear   \n",
"clc\n",
"disp('Exa-3.3(a)');\n",
"w=650*10^-9;h=6.63*10^-34;c=3*10^8;  //given values and constant taken in comfortable units\n",
"E=h*c/w; printf('The Energy of the electron is %.3e J ',E);\n",
"E=E/(1.6*10^-19);printf('which is equivalent to %f eV\n',E);\n",
"printf('The momentum of electron is p=E/c i.e %.2f/c \n',E);\n",
"disp('Exa-3.3(b)');\n",
"E2=2.40;                          //given energy of photon.\n",
"w2=h*c*10^9/(E2*1.6*10^-19);      //converting the energy in to eV and nm \n",
"printf('The wavelength of the photon is %.2f nm',w2);"
   ]
   }
,
{
		   "cell_type": "markdown",
		   "metadata": {},
		   "source": [
			"## Example 3.4: Solution_for_a_b_and_c.sce"
		   ]
		  },
  {
"cell_type": "code",
	   "execution_count": null,
	   "metadata": {
	    "collapsed": true
	   },
	   "outputs": [],
"source": [
"clear    \n",
"clc\n",
"disp('Exa-3.4(a)');\n",
"hc=1240; phi=4.52               //both the values are in eV\n",
"w1=hc/phi; \n",
"printf('The cutoff wavelength of the tungsten metal is %.3fnm\n ',w1);\n",
"disp('Exa-3.4(b)');\n",
"w2=198;     //given value of wavelength    \n",
"Kmax=(hc/w2)-phi;printf('The max value of kinetic energy is %.3f eV\n',Kmax);\n",
"disp('Exa-3.4(c)');\n",
"Vs=Kmax; printf('The numerical value of the max kinetic energy is same as stopping potential in volts.Hence %.2f V',Vs);\n",
"      "
   ]
   }
,
{
		   "cell_type": "markdown",
		   "metadata": {},
		   "source": [
			"## Example 3.5: Solution_for_a_b_and_c.sce"
		   ]
		  },
  {
"cell_type": "code",
	   "execution_count": null,
	   "metadata": {
	    "collapsed": true
	   },
	   "outputs": [],
"source": [
"clear \n",
"clc\n",
"disp('Exa-3.5(a)');\n",
"T1=293; Kw=2.898*10^-3;\n",
"w1=Kw/T1;\n",
"printf('The wavelength at which emits maximum radiation is %.2f um.\n',w1*10^6);\n",
"disp('Exa-3.5(b)');\n",
"w2=650*10^-9; \n",
"T2=Kw/w2;\n",
"printf('The temperature of the object must be raised to %.0f K.\n',T2);\n",
"disp('Exa-3.5(c)');\n",
"x=(T2/T1)^4; printf('Thus the thermal radiation at higher temperature is %.2e times the room (lower) tempertaure.\n',x);"
   ]
   }
,
{
		   "cell_type": "markdown",
		   "metadata": {},
		   "source": [
			"## Example 3.6: Solution_for_a_b_c_and_d.sce"
		   ]
		  },
  {
"cell_type": "code",
	   "execution_count": null,
	   "metadata": {
	    "collapsed": true
	   },
	   "outputs": [],
"source": [
"clear \n",
"clc\n",
"disp('Exa-3.6(a)');\n",
"w1=0.24;wc=0.00243;theta=60;   //given values w=wavelength(lambeda)\n",
"w2=w1+(wc*(1-cosd(theta))); \n",
"printf('The wavelength of x-rays after scattering is %.4f nm\n',w2);\n",
"disp('Exa-3.6(b)');\n",
"hc=1240;\n",
"E2=hc/w2;E1=hc/w1; printf('The energy of scattered x-rays is %.0f eV\n',E2);\n",
"disp('Exa-3.6(c)');\n",
"K= E1-E2; //The kinetic energy is the difference in the energy before and after the collision;\n",
"printf('The kinetic energy of the x-rays is %.3f eV\n',K);\n",
"disp('Exa-3.6(d)');\n",
"phi2=atand(E2*sind(theta)/(E1-E2*cosd(theta)))\n",
"printf('The direction of the scattered eletron is %.1f degrees',phi2);"
   ]
   }
],
"metadata": {
		  "kernelspec": {
		   "display_name": "Scilab",
		   "language": "scilab",
		   "name": "scilab"
		  },
		  "language_info": {
		   "file_extension": ".sce",
		   "help_links": [
			{
			 "text": "MetaKernel Magics",
			 "url": "https://github.com/calysto/metakernel/blob/master/metakernel/magics/README.md"
			}
		   ],
		   "mimetype": "text/x-octave",
		   "name": "scilab",
		   "version": "0.7.1"
		  }
		 },
		 "nbformat": 4,
		 "nbformat_minor": 0
}
