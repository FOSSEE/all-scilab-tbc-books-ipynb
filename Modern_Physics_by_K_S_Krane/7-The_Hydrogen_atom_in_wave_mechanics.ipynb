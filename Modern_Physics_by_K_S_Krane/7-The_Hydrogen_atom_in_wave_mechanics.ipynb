{
"cells": [
 {
		   "cell_type": "markdown",
	   "metadata": {},
	   "source": [
       "# Chapter 7: The Hydrogen atom in wave mechanics"
	   ]
	},
{
		   "cell_type": "markdown",
		   "metadata": {},
		   "source": [
			"## Example 7.1: Proof.sce"
		   ]
		  },
  {
"cell_type": "code",
	   "execution_count": null,
	   "metadata": {
	    "collapsed": true
	   },
	   "outputs": [],
"source": [
"clear\n",
"clc\n",
"disp('Exa-7.1'); //The problem is entirely theoretcial.\n",
"printf('The solution obtained is r=4*ao i.e the most likely distance from origin for an electron in n=2,l=1 state.');"
   ]
   }
,
{
		   "cell_type": "markdown",
		   "metadata": {},
		   "source": [
			"## Example 7.2: Probability_of_finding_an_electron_closer_to_nucles_than_Bohrs_orbit.sce"
		   ]
		  },
  {
"cell_type": "code",
	   "execution_count": null,
	   "metadata": {
	    "collapsed": true
	   },
	   "outputs": [],
"source": [
"clear \n",
"clc\n",
"disp('Exa-7.2');\n",
"// calculating radial probability  P= (4/ao^3)*inegral(r^2 * e^(-2r/ao)) between the limits 0 and ao for r\n",
"Pr=integrate('((x^2)*%e^(-x))/2','x',0,2);// simplifying where as x=2*r/a0; hence the limits change between 0 to 2\n",
"printf('Hence the probability of finding the electron nearer to nucleus is %.3f',Pr);"
   ]
   }
,
{
		   "cell_type": "markdown",
		   "metadata": {},
		   "source": [
			"## Example 7.3: Probability_of_finding_an_electron_inisde_Bohr_Radius.sce"
		   ]
		  },
  {
"cell_type": "code",
	   "execution_count": null,
	   "metadata": {
	    "collapsed": true
	   },
	   "outputs": [],
"source": [
"clear \n",
"clc\n",
"disp('Exa-7.3');\n",
"//for l=0; \n",
"// employing the formula for probability distribution similarly as done in Exa-7.2 \n",
"Pr1= integrate('(1/8)*((4*x^2)-(4*x^3)+(x^4))*%e^(-x)','x',0,1);           //x=r/ao; similrly limits between 0 and 1.\n",
"Pr2=integrate('(1/24)*(x^4)*(%e^-x)','x',0,1);                             //x=r/ao; similrly limits between 0 and 1.\n",
"printf('The probability for l=0 electron is %.3f and for l=1 electron is %.4f.',Pr1,Pr2);"
   ]
   }
,
{
		   "cell_type": "markdown",
		   "metadata": {},
		   "source": [
			"## Example 7.4: Length_of_angular_momentum_vectors.sce"
		   ]
		  },
  {
"cell_type": "code",
	   "execution_count": null,
	   "metadata": {
	    "collapsed": true
	   },
	   "outputs": [],
"source": [
"clear \n",
"clc\n",
"disp('Exa-7.4');\n",
"l=1;         //given value of l\n",
"am1=sqrt(l*(l+1));      //angular momentum==sqrt(l(l+1)) h\n",
"l=2                     //given l\n",
"am2=sqrt(l*(l+1));\n",
"printf('The angular momenta are found out to be %.3f h and %.3f h respectively for l=1 and l=2.',am1,am2);"
   ]
   }
,
{
		   "cell_type": "markdown",
		   "metadata": {},
		   "source": [
			"## Example 7.5: possible_Z_components_of_the_vector_L.sce"
		   ]
		  },
  {
"cell_type": "code",
	   "execution_count": null,
	   "metadata": {
	    "collapsed": true
	   },
	   "outputs": [],
"source": [
"clear \n",
"clc\n",
"disp('Exa-7.5'); //Thoretical question\n",
"disp('The possible values for m are [+2,-2] and hence any of the 5 components [-2h,2h] are possible for the L vector.');\n",
"printf('Length of the vector as found out previously is %.2f*h.',sqrt(6));//angular momentum==sqrt(l(l+1)) h"
   ]
   }
,
{
		   "cell_type": "markdown",
		   "metadata": {},
		   "source": [
			"## Example 7.6: Seperation_of_beams_as_they_leave_the_magnet.sce"
		   ]
		  },
  {
"cell_type": "code",
	   "execution_count": null,
	   "metadata": {
	    "collapsed": true
	   },
	   "outputs": [],
"source": [
"clear \n",
"clc\n",
"disp('Exa-7.6');\n",
"uz=9.27*10^-24; t=1.4*10^3; x=3.5*10^-2;    //various constants and given values\n",
"m=1.8*10^-25;v=750;                        // mass and velocity of the particle\n",
"d=(uz*t*(x^2))/(m*(v^2));                  //net separtion \n",
"printf('The distance of separation is %.2f mm',d*10^3);  "
   ]
   }
,
{
		   "cell_type": "markdown",
		   "metadata": {},
		   "source": [
			"## Example 7.7: Change_in_wavelength.sce"
		   ]
		  },
  {
"cell_type": "code",
	   "execution_count": null,
	   "metadata": {
	    "collapsed": true
	   },
	   "outputs": [],
"source": [
"clear \n",
"clc\n",
"disp('Exa-7.7');\n",
"n1=1;n2=2;hc=1240;    //hc=1240 eV.nm\n",
"E=(-13.6)*((1/n2^2)-(1/n1^2));   //Energy calcuation\n",
"w=hc/E;                   //wavelength\n",
"u=9.27*10^-24; B=2;          //constants\n",
"delE= u*B/(1.6*10^-19);     //change in energy\n",
"delw=((w^2/hc))*delE;             //change in wavelength\n",
"printf('The change in wavelength is %.5f nm.',delw);"
   ]
   }
],
"metadata": {
		  "kernelspec": {
		   "display_name": "Scilab",
		   "language": "scilab",
		   "name": "scilab"
		  },
		  "language_info": {
		   "file_extension": ".sce",
		   "help_links": [
			{
			 "text": "MetaKernel Magics",
			 "url": "https://github.com/calysto/metakernel/blob/master/metakernel/magics/README.md"
			}
		   ],
		   "mimetype": "text/x-octave",
		   "name": "scilab",
		   "version": "0.7.1"
		  }
		 },
		 "nbformat": 4,
		 "nbformat_minor": 0
}
