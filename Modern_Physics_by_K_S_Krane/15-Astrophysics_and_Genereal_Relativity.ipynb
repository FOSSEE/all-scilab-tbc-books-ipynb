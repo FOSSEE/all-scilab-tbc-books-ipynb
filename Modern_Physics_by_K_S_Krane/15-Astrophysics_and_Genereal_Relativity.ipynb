{
"cells": [
 {
		   "cell_type": "markdown",
	   "metadata": {},
	   "source": [
       "# Chapter 15: Astrophysics and Genereal Relativity"
	   ]
	},
{
		   "cell_type": "markdown",
		   "metadata": {},
		   "source": [
			"## Example 15.1: Change_in_wavelength_in_solar_spectrum_due_to_gravitaional_shift.sce"
		   ]
		  },
  {
"cell_type": "code",
	   "execution_count": null,
	   "metadata": {
	    "collapsed": true
	   },
	   "outputs": [],
"source": [
"clear\n",
"clc\n",
"disp('Ex-15.1');\n",
"w=121.5;   //lambeda\n",
"G=6.67*10^-11; //Various given values and constants\n",
"M= 1.99*10^30; \n",
"R= 6.96*10^8;\n",
"c=3*10^8;\n",
"k= G*M/(R*c^2);    //(delLambeda)/(lambeda)\n",
"delw=k*w;           //del(lambeda)\n",
"printf('The change in wavelength due to gravitational shift is %.3f pm\n',delw*10^3);\n",
"k=5.5*10^-5;//due to thermal Doppler broadening effect\n",
"delw=k*w;\n",
"printf('The change in wavelength due to thermal Doppler broadening effect is %.1f pm',delw*10^3);"
   ]
   }
,
{
		   "cell_type": "markdown",
		   "metadata": {},
		   "source": [
			"## Example 15.2: Maximum_energy_of_neutrino_in_the_first_reaction_of_proton_proton_cycle.sce"
		   ]
		  },
  {
"cell_type": "code",
	   "execution_count": null,
	   "metadata": {
	    "collapsed": true
	   },
	   "outputs": [],
"source": [
"clear\n",
"clc\n",
"disp('Ex-15.2');\n",
"mp=938.280;   //mass of various particles\n",
"me=0.511;\n",
"m2h=1875.628;\n",
"mic2=2*mp;           //mass energy on L.H.S\n",
"mfc2=m2h+me;  //mass energy on R.H.S\n",
"Q=mic2-mfc2;    //Q value of reation\n",
"pc=Q;\n",
"mc2=1875.628;\n",
"K=(pc^2)/(2*mc2);     //kinetic threshold energy\n",
"Emax=Q-K;        //maximum energy \n",
"printf('The maximum neutrino energy is %.3f MeV',Emax);"
   ]
   }
],
"metadata": {
		  "kernelspec": {
		   "display_name": "Scilab",
		   "language": "scilab",
		   "name": "scilab"
		  },
		  "language_info": {
		   "file_extension": ".sce",
		   "help_links": [
			{
			 "text": "MetaKernel Magics",
			 "url": "https://github.com/calysto/metakernel/blob/master/metakernel/magics/README.md"
			}
		   ],
		   "mimetype": "text/x-octave",
		   "name": "scilab",
		   "version": "0.7.1"
		  }
		 },
		 "nbformat": 4,
		 "nbformat_minor": 0
}
