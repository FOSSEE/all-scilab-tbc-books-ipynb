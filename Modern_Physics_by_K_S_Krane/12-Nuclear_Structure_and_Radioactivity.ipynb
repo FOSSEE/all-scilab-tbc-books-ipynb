{
"cells": [
 {
		   "cell_type": "markdown",
	   "metadata": {},
	   "source": [
       "# Chapter 12: Nuclear Structure and Radioactivity"
	   ]
	},
{
		   "cell_type": "markdown",
		   "metadata": {},
		   "source": [
			"## Example 12.10: Q_value_of_various_decays.sce"
		   ]
		  },
  {
"cell_type": "code",
	   "execution_count": null,
	   "metadata": {
	    "collapsed": true
	   },
	   "outputs": [],
"source": [
"clear\n",
"clc\n",
"disp('Exa-12.10(a)');\n",
"m40K=39.963999;         //mass of various particles\n",
"m40Ca=39.962591;\n",
"c2=931.5;                    //value of c^2 in MeV\n",
"Qb1=(m40K-m40Ca)*c2;       //Q value of the reaction\n",
"printf('The Q value for -VE beta emission is %.3f Mev \n',Qb1);\n",
"disp('Exa-12.10(b)');\n",
"m40K=39.963999;          //mass of various particles\n",
"m40Ar=39.962384;\n",
"me=0.000549;\n",
"Qb2=(m40K-m40Ar-2*me)*c2;         //Q value of the reaction\n",
"printf('The Q value for +VE beta emission is %.3f Mev \n',Qb2);\n",
"disp('Exa-12.10(c)');\n",
"m40K=39.963999;\n",
"m40Ar=39.962384;\n",
"Qec=(m40K-m40Ar)*c2;\n",
"printf('The Q value for +VE beta emission is %.3f Mev \n',Qec);"
   ]
   }
,
{
		   "cell_type": "markdown",
		   "metadata": {},
		   "source": [
			"## Example 12.11: Maximum_kinetic_energy_of_emitted_beta_particle.sce"
		   ]
		  },
  {
"cell_type": "code",
	   "execution_count": null,
	   "metadata": {
	    "collapsed": true
	   },
	   "outputs": [],
"source": [
"clear\n",
"clc\n",
"disp('Exa-12.11');\n",
"Mg=12.000000; //mass of the carbon atom in amu\n",
"c2=931.5; \n",
"Eg=4.43;     //given energy of gamma ray \n",
"Mex=Mg+(Eg/c2);     //mass in excited state\n",
"Me=0.000549;        //mass of an electron\n",
"Q=(12.018613-Mex-2*Me)*c2;     //Q of the particle\n",
"printf('The maximum value of kinetic energy is %.2f MeV',Q);"
   ]
   }
,
{
		   "cell_type": "markdown",
		   "metadata": {},
		   "source": [
			"## Example 12.12: Rate_of_energy_production_per_gram_of_uranium.sce"
		   ]
		  },
  {
"cell_type": "code",
	   "execution_count": null,
	   "metadata": {
	    "collapsed": true
	   },
	   "outputs": [],
"source": [
"clear\n",
"clc\n",
"disp('Exa-12.12');\n",
"m238U=238.050786; //mass of various quantities\n",
"m206Pb=205.974455;\n",
"m4He=4.002603;\n",
"c2=931.5;     //constants\n",
"Na=6.023*10^23;   //avagadro's number\n",
"Q=(m238U-m206Pb-8*m4He)*c2; \n",
"t12=(4.5)*10^9*(3.16*10^7);    //half life years to seconds conversion\n",
"w=0.693/t12;                 // lambeda\n",
"NoD=(Na/238)*w;      //number of decays\n",
"E=NoD*Q*(1.6*10^-19)*10^6;        //rate of liberation of energy,converting MeV to eV\n",
"printf('Rate of energy liberation is %.1e W',E);"
   ]
   }
,
{
		   "cell_type": "markdown",
		   "metadata": {},
		   "source": [
			"## Example 12.13: Ages_of_the_given_rocks.sce"
		   ]
		  },
  {
"cell_type": "code",
	   "execution_count": null,
	   "metadata": {
	    "collapsed": true
	   },
	   "outputs": [],
"source": [
"clear\n",
"clc\n",
"disp('Exa-12.13');\n",
"R=0.5;t12=4.5*10^9;                 //value of radius and half-life \n",
"t1=(t12/0.693)*log(1+(1/R));        //age of rock 1\n",
"R=1.0;\n",
"t2=(t12/0.693)*log(1+(1/R));       //age of rock-2\n",
"R=2.0\n",
"t3=(t12/0.693)*log(1+(1/R));       //age of rock 3\n",
"printf('The ages of rock samples are %.1e, %.1e, %.1e years respectively',t1,t2,t3);\n",
" "
   ]
   }
,
{
		   "cell_type": "markdown",
		   "metadata": {},
		   "source": [
			"## Example 12.14: Solution_for_a_and_b.sce"
		   ]
		  },
  {
"cell_type": "code",
	   "execution_count": null,
	   "metadata": {
	    "collapsed": true
	   },
	   "outputs": [],
"source": [
"clear\n",
"clc\n",
"disp('Ex-12.14(a)');\n",
"P=2*10^14; V=2*10^-14; R=8.314; T=295;Na=6.023*10^23;   //varoius constants and given values\n",
"n=P*V/(R*T);       //ideal gas law\n",
"N=Na*n;f=10^-12         //avagadaro's number and fracction of carbon molecules\n",
"t12=5730*3.16*(10^7);   //half life\n",
"A=(0.693/t12)*N*f;    //activity\n",
"D1w=A*7*24*60*60;       //decays per second\n",
" printf('The no of decays pers second is %4.0f \n',D1w);\n",
" disp('Ex-12.14(b)');\n",
"c1=1420;             //concentration at instant 1\n",
"c2=D1w;              //concentration at instant 2\n",
"t12y=5730;          //half life\n",
"t=t12y*log(c2/c1)/0.693;            //age of the sample\n",
"printf('Age of the sample is %.2f years',t);"
   ]
   }
,
{
		   "cell_type": "markdown",
		   "metadata": {},
		   "source": [
			"## Example 12.1: Solution_for_a_and_b.sce"
		   ]
		  },
  {
"cell_type": "code",
	   "execution_count": null,
	   "metadata": {
	    "collapsed": true
	   },
	   "outputs": [],
"source": [
"clear\n",
"clc\n",
"disp('Exa-12.1(a)');\n",
"Z=2;A=4;N=A-Z;         // Given values\n",
"printf('The following method of representing atoms is followed throughout the chapter\n\t\t x,ySz\n where x=atomic number y=mass number z= Neutron Number S=symbol of the atom\n\n')\n",
"printf('The helium can be reperesented as %d,%dHe%d\n',Z,A,N);\n",
"disp('Exa-12.1(b)');\n",
"Z=50;N=66;A=Z+N;       //// Given values and standard formulae\n",
"printf('The helium can be reperesented as %d,%dSn%d\n',Z,A,N);\n",
"disp('Exa-12.1(c)');\n",
"A=235;N=143;Z=A-N;\n",
"printf('The helium can be reperesented as %d,%dU%d',Z,A,N);"
   ]
   }
,
{
		   "cell_type": "markdown",
		   "metadata": {},
		   "source": [
			"## Example 12.2: Approximate_nuclear_radii.sce"
		   ]
		  },
  {
"cell_type": "code",
	   "execution_count": null,
	   "metadata": {
	    "collapsed": true
	   },
	   "outputs": [],
"source": [
"clear\n",
"clc\n",
"disp('Exa-12.2');\n",
"r0=1.2;         //standard value.\n",
"A=12; \n",
"r= r0*A^(1/3);printf('The value of mean radius for C is: %.2f fm\n',r);\n",
"A=70;        //given value\n",
"r= r0*A^(1/3);printf('The value of mean radius for C is: %.2f fm\n',r);\n",
"A=209;\n",
"r= r0*A^(1/3);printf('The value of mean radius for C is: %.2f fm',r);"
   ]
   }
,
{
		   "cell_type": "markdown",
		   "metadata": {},
		   "source": [
			"## Example 12.3: Density_of_typical_nucleus_and_resultant_mass.sce"
		   ]
		  },
  {
"cell_type": "code",
	   "execution_count": null,
	   "metadata": {
	    "collapsed": true
	   },
	   "outputs": [],
"source": [
"clear\n",
"clc\n",
"disp('Exa-12.3');\n",
"m=1.67*10^-27; r0=1.2*10^-15; v=4*%pi*(r0^3)/3      //standard values of mass radius and volume\n",
"p=m/v;                                               //denisty \n",
"printf('Density of typical nucleus is %.0e kg/m3 \n',p);                            \n",
"r0=0.01;v=4*%pi*(r0^3)/3;p=2*10^17;              ////hypothetical values\n",
"m1=p*v;                                  \n",
"printf('The mass of the hypothetical nucleus would be %.0e Kg',m1);"
   ]
   }
,
{
		   "cell_type": "markdown",
		   "metadata": {},
		   "source": [
			"## Example 12.4: Total_Binding_Energy.sce"
		   ]
		  },
  {
"cell_type": "code",
	   "execution_count": null,
	   "metadata": {
	    "collapsed": true
	   },
	   "outputs": [],
"source": [
"clear\n",
"clc\n",
"disp('Exa-12.4');\n",
"N=30;Z=26;A=56;Mn=1.008665;Mp=1.007825;m=55.934939;c2=931.5; //given values and constants for case-1\n",
"B=((N*Mn)+(Z*Mp)-(m))*c2;                                  //binding energy(per nucleon)\n",
"printf('Binding nergy per nucleon for 26,56Fe30 is %.3f MeV\n',B/A);\n",
"N=146;Z=92;A=238;Mn=1.008665;Mp=1.007825;m=238.050785;c2=931.5;      //given values and constants for case-2\n",
"B=((N*Mn)+(Z*Mp)-(m))*c2;                             //binding energy(per nucleon)\n",
"printf('Binding nergy per nucleon for 26,56Fe30 is %.3f MeV',B/A);"
   ]
   }
,
{
		   "cell_type": "markdown",
		   "metadata": {},
		   "source": [
			"## Example 12.5: Solution_for_a_b_c_and_d.sce"
		   ]
		  },
  {
"cell_type": "code",
	   "execution_count": null,
	   "metadata": {
	    "collapsed": true
	   },
	   "outputs": [],
"source": [
"clear\n",
"clc\n",
"disp('Exa -12.5(a)');\n",
"t12=2.7*24*3600;              //converting days into seconds\n",
"w=0.693/t12;                  //lambeda\n",
"printf('The decay constant is %e\n /sec',w); \n",
"disp('Exa -12.5(b)');\n",
"printf('The decay constant is equal to probability of decay in one second hence %e \n',w);\n",
"disp('Exa -12.5(c)');\n",
"m=10^-6;Na=6.023*10^23; M=198;     //given values and constants\n",
"N=m*Na/M;                        //number of atoms in the sample \n",
"Ao=w*N;             //activity\n",
"printf('The activity was found out to be %e Ci',Ao);        \n",
"disp('Exa -12.5(d)');\n",
"t=7*24*3600;         //given time\n",
"A=Ao*%e^-(w*t);        //activity\n",
"printf('The activity after one week was found out to be %.2e decays/sec',A);"
   ]
   }
,
{
		   "cell_type": "markdown",
		   "metadata": {},
		   "source": [
			"## Example 12.6: Atoms_at_the_time_of_solidificatio.sce"
		   ]
		  },
  {
"cell_type": "code",
	   "execution_count": null,
	   "metadata": {
	    "collapsed": true
	   },
	   "outputs": [],
"source": [
"clear\n",
"clc\n",
"disp('Exa-12.6');\n",
"t1=4.55*10^9;t2=7.04*10^8;       //given values of time at 2 different instants\n",
"age=t1/t2;\n",
"r=2^age;\n",
"printf('The original rock hence contained %.1f*Na atoms of 235U where Na is the Avagadro''s Number=6.023*10^23',r);"
   ]
   }
,
{
		   "cell_type": "markdown",
		   "metadata": {},
		   "source": [
			"## Example 12.7: Kinetic_energy_of_alpha_particle_emitted_in_alpha_decay.sce"
		   ]
		  },
  {
"cell_type": "code",
	   "execution_count": null,
	   "metadata": {
	    "collapsed": true
	   },
	   "outputs": [],
"source": [
"clear\n",
"clc\n",
"disp('Exa-12.7');\n",
"m236Ra=226.025403;\n",
"m222Rn=222.017571;\n",
"m4He=4.002603;c2=931.5; //mass of various elements and c2=c^2\n",
"Q=(m236Ra-m222Rn-m4He)*c2;//Q of the reaction\n",
"A=226              \n",
"K=((A-4)/A)*Q;                           //kinetic energy\n",
"printf('The kinetic energy of the alpha particle is %.3f Mev',K);"
   ]
   }
,
{
		   "cell_type": "markdown",
		   "metadata": {},
		   "source": [
			"## Example 12.8: Q_value_of_14C_emissio.sce"
		   ]
		  },
  {
"cell_type": "code",
	   "execution_count": null,
	   "metadata": {
	    "collapsed": true
	   },
	   "outputs": [],
"source": [
"clear\n",
"clc\n",
"disp('Exa-12.8');\n",
"m226Ra=226.025403; //mass of various elements\n",
"m212Pb=211.991871;\n",
"m14c=14.003242;\n",
"c2=931.5;       //value of c^2\n",
"Q=(m226Ra-m212Pb-m14c)*c2;      //Q of the reaction\n",
"printf('The value of Q for 14c emission is %.3f MeV\n',Q);\n",
"printf('The probability of 14c emission is 10^-9 times that of an alpha particle since the energy barrier for 14c emission is\n nearly 3 times higher and thicker.')"
   ]
   }
,
{
		   "cell_type": "markdown",
		   "metadata": {},
		   "source": [
			"## Example 12.9: Maximum_Kinetic_energy_of_emitted_electron.sce"
		   ]
		  },
  {
"cell_type": "code",
	   "execution_count": null,
	   "metadata": {
	    "collapsed": true
	   },
	   "outputs": [],
"source": [
"clear\n",
"clc\n",
"disp('Ex-12.9');\n",
"m23Ne=22.994465; //mass of various elements\n",
"m23Na=22.989768;\n",
"c2=931.5;          //value of c^2\n",
"Q=(m23Ne-m23Na)*c2;     //Q of the reaction\n",
"printf('Hence the maximum kinetic energy of the emitted electrons is %.3f MeV',Q);"
   ]
   }
],
"metadata": {
		  "kernelspec": {
		   "display_name": "Scilab",
		   "language": "scilab",
		   "name": "scilab"
		  },
		  "language_info": {
		   "file_extension": ".sce",
		   "help_links": [
			{
			 "text": "MetaKernel Magics",
			 "url": "https://github.com/calysto/metakernel/blob/master/metakernel/magics/README.md"
			}
		   ],
		   "mimetype": "text/x-octave",
		   "name": "scilab",
		   "version": "0.7.1"
		  }
		 },
		 "nbformat": 4,
		 "nbformat_minor": 0
}
