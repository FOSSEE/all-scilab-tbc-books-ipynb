{
"cells": [
 {
		   "cell_type": "markdown",
	   "metadata": {},
	   "source": [
       "# Chapter 6: The Rutherford Bohr model of an atom"
	   ]
	},
{
		   "cell_type": "markdown",
		   "metadata": {},
		   "source": [
			"## Example 6.1: Average_deflection_angle_per_collision.sce"
		   ]
		  },
  {
"cell_type": "code",
	   "execution_count": null,
	   "metadata": {
	    "collapsed": true
	   },
	   "outputs": [],
"source": [
"clear    \n",
"clc\n",
"disp('Exa-6.1');\n",
"R=0.1;Z=79; x=1.44;          //x=e^2/4*pi*epsi0\n",
"zkR2=2*Z*x/R                // from zkR2= (2*Z*e^2)*R^2/(4*pi*epsi0)*R^3\n",
"mv2=10*10^6;                //MeV=>eV\n",
"theta=sqrt(3/4)*zkR2/mv2;     //deflection angle\n",
"theta=theta*(180/%pi);        //converting to degrees\n",
"printf('Hence the average deflection angle per collision is %.2f degrees.',theta );\n",
""
   ]
   }
,
{
		   "cell_type": "markdown",
		   "metadata": {},
		   "source": [
			"## Example 6.2: Solution_for_a_and_b.sce"
		   ]
		  },
  {
"cell_type": "code",
	   "execution_count": null,
	   "metadata": {
	    "collapsed": true
	   },
	   "outputs": [],
"source": [
"clear    \n",
"clc\n",
"disp('Exa-6.2(a)');\n",
"Na=6.023*10^23;p=19.3;M=197;\n",
"n=Na*p/M;         //The number of nuclei per atom\n",
"t=2*10^-6;Z=79;K=8*10^6;x=1.44; theta=90;  //x=e^2/4*pi*epsi0\n",
"b1=t*Z*x*cotd(theta/2)/(2*K)         //impact parameter b\n",
"f1=n*%pi*b1^2*t                      //scattering angle greater than 90\n",
"printf('The fraction of alpha particles scattered at angles greater than 90 degrees is %.2e\n',f1);\n",
"disp('Exa-6.2(b)');\n",
"theta=45\n",
"b2=t*Z*x*cotd(theta/2)/(2*K);\n",
"f2=n*%pi*b2^2*t;                  //scattering angle greater than 45\n",
"fb=f2-f1                       //scattering angle between 45 to 90\n",
"printf('The fraction of particles with scattering angle from 45 to 90 is %.3e\n',fb);"
   ]
   }
,
{
		   "cell_type": "markdown",
		   "metadata": {},
		   "source": [
			"## Example 6.3: Distance_of_closest_approach.sce"
		   ]
		  },
  {
"cell_type": "code",
	   "execution_count": null,
	   "metadata": {
	    "collapsed": true
	   },
	   "outputs": [],
"source": [
"clear   \n",
"clc\n",
"disp('Exa-6.3');\n",
"Z=79;x=1.44;K=8*10^6;z=2;    //where x=e^2/4*pi*epsi0;z=2 for alpha particles\n",
"d=z*x*Z/K;                   //distance\n",
"printf('The distance of closest approasch is %.2e nm.',d*10^-9)"
   ]
   }
,
{
		   "cell_type": "markdown",
		   "metadata": {},
		   "source": [
			"## Example 6.4: Three_longest_wavelengths_of_the_Paschen_series.sce"
		   ]
		  },
  {
"cell_type": "code",
	   "execution_count": null,
	   "metadata": {
	    "collapsed": true
	   },
	   "outputs": [],
"source": [
"clear \n",
"clc\n",
"disp('Exa-6.4');\n",
"sl=820.1;n0=3;  //given values\n",
"n=4;w=sl*(n^2/(n^2-n0^2)); printf('The 3 longest possible wavelengths are %.0f nm,',w);    \n",
"n=5;w=sl*(n^2/(n^2-n0^2)); printf('%.0f nm,',w);\n",
"n=6;w=sl*(n^2/(n^2-n0^2)); printf('& %.0f nm ',w);"
   ]
   }
,
{
		   "cell_type": "markdown",
		   "metadata": {},
		   "source": [
			"## Example 6.5: Various_wavelegths_in_Balmer_and_Lymann_series.sce"
		   ]
		  },
  {
"cell_type": "code",
	   "execution_count": null,
	   "metadata": {
	    "collapsed": true
	   },
	   "outputs": [],
"source": [
"clear     \n",
"clc\n",
"disp('Exa-6.5');\n",
"sl=364.5;n=3;           //given variables and various constants are declared in the subsequent steps wherever necessary   \n",
"w1=sl*(n^2/(n^2-4));     //longest wavelength of balmer \n",
"c=3*10^8;\n",
"f1=c/(w1*10^-9);         //corresponding freq.\n",
"n0=1;n=2;                 \n",
"w2=91.13*(n^2/(n^2-n0^2)); //first longest of lymann   \n",
"f2=c/(w2*10^-9);          //correspoding freq\n",
"n0=1;n=3\n",
"w3=91.13*(n^2/(n^2-n0^2));      //second longest of lymann\n",
"f3=3*10^8/(w3*10^-9)             //corresponding freq.\n",
"printf('The freq. corresponding to the longest wavelength of balmer is %e & First longest wavelength  of Lymann is %e.\n',f1,f2);\n",
"printf('The sum of which s equal to %e\n',f1+f2);\n",
"printf('The freq. corresponding to 2nd longest wavelength was found out to be %e\n.Hence Ritz combination principle is satisfied.',f3);\n",
"\n",
"    "
   ]
   }
,
{
		   "cell_type": "markdown",
		   "metadata": {},
		   "source": [
			"## Example 6.6: wavelengths_of_transition.sce"
		   ]
		  },
  {
"cell_type": "code",
	   "execution_count": null,
	   "metadata": {
	    "collapsed": true
	   },
	   "outputs": [],
"source": [
"clear    \n",
"clc\n",
"disp('Exa-6.6');\n",
"Rinfi=1.097*10^7;  //known value \n",
"n1=3;n2=2;       //first 2 given states\n",
"w=(n1^2*n2^2)/((n1^2-n2^2)*Rinfi);printf('Wavelength of trnasition from n1=3 to n2=2 is %.3f nm\n',w*10^9);\n",
"n1=4;n2=2;      //second 2 given states  \n",
"w=(n1^2*n2^2)/((n1^2-n2^2)*Rinfi);printf('Wavelength of trnasition from n1=3 to n2=2 is %.3f nm',w*10^9);"
   ]
   }
,
{
		   "cell_type": "markdown",
		   "metadata": {},
		   "source": [
			"## Example 6.7: Two_longest_wavelengths_of_triply_ionized_beryllium.sce"
		   ]
		  },
  {
"cell_type": "code",
	   "execution_count": null,
	   "metadata": {
	    "collapsed": true
	   },
	   "outputs": [],
"source": [
"clear  \n",
"clc\n",
"disp('Exa-6.7');\n",
"n1=3;n2=2;Z=4;hc=1240;\n",
"delE=(-13.6)*(Z^2)*((1/(n1^2))-((1/n2^2)));\n",
"w=(hc)/delE; //for transition 1\n",
"printf('The wavelngth of radiation for transition(2->3) is %f nm\n',w);\n",
"n1=4;n2=2;   // n values for transition 2\n",
"delE=(-13.6)*(Z^2)*((1/n1^2)-(1/n2^2));\n",
"w=(hc)/delE;\n",
"printf('The wavelngth of radiation emitted for transition(2->4) is %f nm',w);"
   ]
   }
],
"metadata": {
		  "kernelspec": {
		   "display_name": "Scilab",
		   "language": "scilab",
		   "name": "scilab"
		  },
		  "language_info": {
		   "file_extension": ".sce",
		   "help_links": [
			{
			 "text": "MetaKernel Magics",
			 "url": "https://github.com/calysto/metakernel/blob/master/metakernel/magics/README.md"
			}
		   ],
		   "mimetype": "text/x-octave",
		   "name": "scilab",
		   "version": "0.7.1"
		  }
		 },
		 "nbformat": 4,
		 "nbformat_minor": 0
}
