{
"cells": [
 {
		   "cell_type": "markdown",
	   "metadata": {},
	   "source": [
       "# Chapter 11: Properties of Ionic Crystals"
	   ]
	},
{
		   "cell_type": "markdown",
		   "metadata": {},
		   "source": [
			"## Example 11.1: Solution_for_a_and_b.sce"
		   ]
		  },
  {
"cell_type": "code",
	   "execution_count": null,
	   "metadata": {
	    "collapsed": true
	   },
	   "outputs": [],
"source": [
"clear\n",
"clc\n",
"disp('Exa-11.1(a)');\n",
"c=769*10^3; Na=6.023*10^23; JeV=1.6*10^-19; //various constants and given values\n",
"Be=c/(Na*JeV);        //Binding energy of an ion pair in the lattice\n",
"printf('The experimental value was found out to be %.4f eV.\n',Be);\n",
"disp('Exa-11.1(b)');\n",
"n=9;a=1.7476; R=0.281; k= 1.44;     //Given values and consstants\n",
"Bc=k*a*(1-(1/n))/R;                  //ionic binding energy eperimentally\n",
"printf('The calculated value of the binding energy is %.4f eV.',Bc);"
   ]
   }
,
{
		   "cell_type": "markdown",
		   "metadata": {},
		   "source": [
			"## Example 11.2: Energy_per_neytral_atom_to_take_apart_a_crystal_of_Nacl.sce"
		   ]
		  },
  {
"cell_type": "code",
	   "execution_count": null,
	   "metadata": {
	    "collapsed": true
	   },
	   "outputs": [],
"source": [
"clear\n",
"clc\n",
"disp('Exa-11.2');\n",
"a=3.61;// amount of energy required to remove an electron from Cl- ion\n",
"b=-5.14 //amount of energy returned when an electron is added to Na+ ion\\n",
"c=7.98 //binding energy of NaCl atom\n",
"E=a+b+c  //suom of all the energies\n",
"printf('The net energy to be supplied is %.3f eV',E);"
   ]
   }
,
{
		   "cell_type": "markdown",
		   "metadata": {},
		   "source": [
			"## Example 11.3: Solution_for_a_and_b.sce"
		   ]
		  },
  {
"cell_type": "code",
	   "execution_count": null,
	   "metadata": {
	    "collapsed": true
	   },
	   "outputs": [],
"source": [
"clear\n",
"clc\n",
"disp('Ex-11.3(a)');\n",
"Na=6.023*10^23; p=8.96*10^3; M=63.5*10^-3;   //Na=avagadro's number,p=density,M=molar mass\n",
"n= p*Na/M;                                   //density of charge carriers\n",
"printf('The density of charge carriers in copper is %e atoms/m3\n',n);\n",
"s=5.88*10^7;m=9.11*10^-31;e=1.6*10^-19;    //charge & mass of an electron,resistance per unit length\n",
"t= s*m/(n*e^2);                            //average time between collisions\n",
"printf('The average time between collisions of conducting electrons is %e sec.\n',t);\n",
"disp('Ex-11.3(b)');\n",
"Ef=7.03*1.6*10^-19;           //converting given enrgy to J\n",
"Vf=sqrt(2*Ef/m);               //fermi velocity\n",
"l=Vf*t;                      //mean free path\n",
"printf('The average mean free path is %e m = %.1f nm',l,l*10^9);"
   ]
   }
],
"metadata": {
		  "kernelspec": {
		   "display_name": "Scilab",
		   "language": "scilab",
		   "name": "scilab"
		  },
		  "language_info": {
		   "file_extension": ".sce",
		   "help_links": [
			{
			 "text": "MetaKernel Magics",
			 "url": "https://github.com/calysto/metakernel/blob/master/metakernel/magics/README.md"
			}
		   ],
		   "mimetype": "text/x-octave",
		   "name": "scilab",
		   "version": "0.7.1"
		  }
		 },
		 "nbformat": 4,
		 "nbformat_minor": 0
}
