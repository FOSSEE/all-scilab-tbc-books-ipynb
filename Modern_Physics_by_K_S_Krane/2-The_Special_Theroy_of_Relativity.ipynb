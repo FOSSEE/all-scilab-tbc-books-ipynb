{
"cells": [
 {
		   "cell_type": "markdown",
	   "metadata": {},
	   "source": [
       "# Chapter 2: The Special Theroy of Relativity"
	   ]
	},
{
		   "cell_type": "markdown",
		   "metadata": {},
		   "source": [
			"## Example 2.10: Time_interval_between_the_events.sce"
		   ]
		  },
  {
"cell_type": "code",
	   "execution_count": null,
	   "metadata": {
	    "collapsed": true
	   },
	   "outputs": [],
"source": [
"clear    \n",
"clc\n",
"disp('Exa-2.10');\n",
"u=0.8*c;L=65;c=3*10^8;            //all values are in terms of c\n",
"t=u*L/(c^2*(sqrt(1-((u/c)^2))));  //from the equation 2.31 \n",
"printf('The time interval between the events is %e sec which equals %.2f usec.',t,t*10^6);"
   ]
   }
,
{
		   "cell_type": "markdown",
		   "metadata": {},
		   "source": [
			"## Example 2.11: momentum_of_proton.sce"
		   ]
		  },
  {
"cell_type": "code",
	   "execution_count": null,
	   "metadata": {
	    "collapsed": true
	   },
	   "outputs": [],
"source": [
"clear    \n",
"clc\n",
"disp('Exa-2.11');\n",
"m=1.67*10^-27;c= 3*10^8;v=0.86*c;      //all the given values and constants\n",
"p=m*v/(sqrt(1-((v/c)^2)));            // in terms of Kgm/sec\n",
"printf('The value of momentum was found out to be %.3e Kg-m/sec.\n',p);\n",
"c=938;v=0.86*c;mc2=938                 // all the energies in MeV where mc2= value of m*c^2\n",
"pc=(mc2*(v/c))/(sqrt(1-((v/c)^2)));    //expressing in terms of Mev \n",
"printf('The value of momentum was found out to be %.2f Mev.',pc);"
   ]
   }
,
{
		   "cell_type": "markdown",
		   "metadata": {},
		   "source": [
			"## Example 2.12: Various_energies_of_proton.sce"
		   ]
		  },
  {
"cell_type": "code",
	   "execution_count": null,
	   "metadata": {
	    "collapsed": true
	   },
	   "outputs": [],
"source": [
"clear    \n",
"clc\n",
"disp('Exa-2.12');\n",
"pc=1580; mc2=938;E0=938;    // all the energies in MeV mc2=m*c^2 and pc=p*c\n",
"E=sqrt(pc^2+mc2^2); \n",
"printf('The relativistic total energy is %.2f MeV.\n',E);         //value of Energy E\n",
"K=E-E0;                      //value of possible kinetic energy\n",
"printf('The kinetic energy of the proton is %.1f MeV.',K);"
   ]
   }
,
{
		   "cell_type": "markdown",
		   "metadata": {},
		   "source": [
			"## Example 2.13: Velocity_and_momentum_of_electron.sce"
		   ]
		  },
  {
"cell_type": "code",
	   "execution_count": null,
	   "metadata": {
	    "collapsed": true
	   },
	   "outputs": [],
"source": [
"clear    \n",
"clc\n",
"disp('Exa-2.13');\n",
"E=10.51; mc2=0.511; //all the values are in MeV\n",
"p=sqrt(E^2-mc2^2);   //momentum of the electron\n",
"printf('The momentum of electron is %.1f MeV/c\n',p); \n",
"v=sqrt(1-(mc2/E)^2);  //velocity in terms of c\n",
"printf('The velocity of electron is %.4f c',v);"
   ]
   }
,
{
		   "cell_type": "markdown",
		   "metadata": {},
		   "source": [
			"## Example 2.14: Solution_for_a_b.sce"
		   ]
		  },
  {
"cell_type": "code",
	   "execution_count": null,
	   "metadata": {
	    "collapsed": true
	   },
	   "outputs": [],
"source": [
"clear    \n",
"clc\n",
"disp('Exa-2.14');\n",
"k=50;mc2=0.511*10^-3;c=3*10^8; // all the values of energy are in GeV and c is in SI units\n",
"v=sqrt(1-(1/(1+(k/mc2))^2));   //speed of the electron in terms of c\n",
"k=c-(v*c);                       //difference in velocities\n",
"printf('Speed of the electron as a  fraction of c is %.12f*10^-12.\n',v*10^12); // v=(v*10^12)*10^-12; so as to obtain desired accuracy in the result\n",
"printf('The difference in velocities is %.1f cm/s.',k*10^2);"
   ]
   }
,
{
		   "cell_type": "markdown",
		   "metadata": {},
		   "source": [
			"## Example 2.15: Rate_of_decrese_of_the_mass_of_Su.sce"
		   ]
		  },
  {
"cell_type": "code",
	   "execution_count": null,
	   "metadata": {
	    "collapsed": true
	   },
	   "outputs": [],
"source": [
"clear    \n",
"clc\n",
"disp('Exa-2.15');\n",
"r=1.5*10^11; I=1.4*10^3;     //radius and intensity of sun\n",
"s=4*%pi*r^2                 //surface area of the sun\n",
"Pr=s*I                     // Power radiated in J/sec\n",
"c=3*10^8;                //velocity of light\n",
"m=Pr/c^2                  //rate od decrease of mass\n",
"printf('The rate of decrease in mass of the sun is %.1e kg/sec.',m);"
   ]
   }
,
{
		   "cell_type": "markdown",
		   "metadata": {},
		   "source": [
			"## Example 2.16: Kinetic_energy_of_pion_in_each_case.sce"
		   ]
		  },
  {
"cell_type": "code",
	   "execution_count": null,
	   "metadata": {
	    "collapsed": true
	   },
	   "outputs": [],
"source": [
"clear    \n",
"clc\n",
"disp('Exa-2.16');\n",
"K=325; mkc2=498;  //kinetic energy and rest mass energy of kaons\n",
"mpic=140; //given value\n",
"Ek=K+mkc2; \n",
"pkc=sqrt(Ek^2-mkc2^2); \n",
"//consider the law of conservation of energy which yields Ek=sqrt(p1c^2+mpic^2)+sqrt(p2c^2+mpic^2)\n",
"// The above equations (4th degree,hence no direct methods)can be solved by assuming the value of p2c=0.\n",
"p1c=sqrt(Ek^2-(2*mpic*Ek));\n",
"//consider the law of conservation of momentum. which gives p1c+p2c=pkc implies\n",
"p2c=pkc-p1c;\n",
"k1=(sqrt(p1c^2+(mpic^2))-mpic); //corresponding kinetic energies\n",
"k2=(sqrt((p2c^2)+(mpic^2))-mpic);\n",
"printf('The corresponding kinetic energies of the pions are %.0f MeV and %.1f MeV.',k1,k2);"
   ]
   }
,
{
		   "cell_type": "markdown",
		   "metadata": {},
		   "source": [
			"## Example 2.17: Threshold_kinetic_energy_to_produce_antiprotons.sce"
		   ]
		  },
  {
"cell_type": "code",
	   "execution_count": null,
	   "metadata": {
	    "collapsed": true
	   },
	   "outputs": [],
"source": [
"clear    \n",
"clc\n",
"disp('Ex-2.17');\n",
"mpc2=938;c=3*10^8;  //mpc2=mp*c^2,mp=mass of proton\n",
"Et=4*mpc2;          //final total energy\n",
"E1=Et/2;E2=E1;       //applying conservation of momentum and energy\n",
"v2=c*sqrt(1-(mpc2/E1)^2);    //lorentz transformation\n",
"u=v2;v=(v2+u)/(1+(u*v2/c^2)); \n",
"E=mpc2/(sqrt(1-(v/c)^2));\n",
"K=E-mpc2;\n",
"printf('The threshold kinetic energy is %.3f Gev',K/10^3);"
   ]
   }
,
{
		   "cell_type": "markdown",
		   "metadata": {},
		   "source": [
			"## Example 2.1: Speed_of_A_wrt_B.sce"
		   ]
		  },
  {
"cell_type": "code",
	   "execution_count": null,
	   "metadata": {
	    "collapsed": true
	   },
	   "outputs": [],
"source": [
"clear  \n",
"clc\n",
"disp('Exa-2.1');\n",
"v1=60; v2=40      //Velocities of cars wrt to observer in km/hr\n",
"vr=v1-v2;         //relative velocity\n",
"printf('The value of relative velocity is %4.f km/h.',vr);"
   ]
   }
,
{
		   "cell_type": "markdown",
		   "metadata": {},
		   "source": [
			"## Example 2.2: Velocity_of_plane_wrt_ground.sce"
		   ]
		  },
  {
"cell_type": "code",
	   "execution_count": null,
	   "metadata": {
	    "collapsed": true
	   },
	   "outputs": [],
"source": [
"clear     \n",
"clc\n",
"disp('Exa-2.2');\n",
"Va_w=[320 0]; Vw_g=[0 65];            //Vp/q=[X Y]=>velocity of object p wrt q along X(east) and Y(north) directions.\n",
"Va_g=Va_w + Vw_g;                    //net velocity\n",
"k=norm(Va_g);                       //magnitude\n",
"s=atan(Va_g(1,2)/Va_g(1,1))*180/%pi;    //angle in rad*180/pi for conversion to degrees\n",
"printf('The magnitude of velocity Va/g(airplane wrt ground) is %.3f Km/h at %.3f degrees north of east.',k,s); "
   ]
   }
,
{
		   "cell_type": "markdown",
		   "metadata": {},
		   "source": [
			"## Example 2.3: Time_taken_in_each_case.sce"
		   ]
		  },
  {
"cell_type": "code",
	   "execution_count": null,
	   "metadata": {
	    "collapsed": true
	   },
	   "outputs": [],
"source": [
"clear   \n",
"clc\n",
"disp('Exa-2.3'); // The problem is entirely theoretical hence following the standard procedure we obtain\n",
"printf('The time required for round trip is 2*L/(c*(1-(u/c)^2)). \n');\n",
"printf('The time required to swim across and return is 2*L/(c*sqrt((1-(u/c)^2)))');"
   ]
   }
,
{
		   "cell_type": "markdown",
		   "metadata": {},
		   "source": [
			"## Example 2.4: Minimum_speed_for_suvival_of_muons.sce"
		   ]
		  },
  {
"cell_type": "code",
	   "execution_count": null,
	   "metadata": {
	    "collapsed": true
	   },
	   "outputs": [],
"source": [
"clear  \n",
"clc\n",
"disp('Exa-2.3');\n",
"Lo=100*(10^3);c=3*(10^8); //Given values//all the quantities are converted to SI units \n",
"d=2.2*(10^-6);      //time between its birth and decay\n",
"t=Lo/c             //where Lo is the distance from top of atmosphere to the Earth. c is the velocity of light. t is the time taken\n",
"u=sqrt(1-((d/t)^2));   // using time dilaion fromula for finding u where u is the minimum velocity in terms of c;\n",
"printf('Hence the minimum speed required is %f c.',u);"
   ]
   }
,
{
		   "cell_type": "markdown",
		   "metadata": {},
		   "source": [
			"## Example 2.5: Apparent_thickness_of_Earth_atmosphere.sce"
		   ]
		  },
  {
"cell_type": "code",
	   "execution_count": null,
	   "metadata": {
	    "collapsed": true
	   },
	   "outputs": [],
"source": [
"clear    \n",
"clc\n",
"disp('Exa-2.5');\n",
"Lo=100*(10^3);  //Lo is converted to Km\n",
"u=0.999978;      ////u/c is taken as u since u is represented in terms of c. \n",
"L=Lo*(sqrt(1-u^2)); // from the length contraction formula\n",
"printf('Hence the apparent thickness of the Earth''s surface is %.2f metres.',L);"
   ]
   }
,
{
		   "cell_type": "markdown",
		   "metadata": {},
		   "source": [
			"## Example 2.6: Solution_for_a_b_c_d_e.sce"
		   ]
		  },
  {
"cell_type": "code",
	   "execution_count": null,
	   "metadata": {
	    "collapsed": true
	   },
	   "outputs": [],
"source": [
"clear    \n",
"clc\n",
"disp('Exa-2.6(a)');\n",
"L=65; c=3*10^8;u=0.8*c;      \n",
"t=L/u ;          //The value of time taken as measured by the observer\n",
"printf('The time for rocket to pass a point as measured by O is %.2e.\n',t);         //The value of time taken as measured by the observer\n",
"disp('Exa-2.6(b)');\n",
"Do=65;                             //given length\n",
"Lo= L/sqrt(1-(u/c)^2);                 //contracted length of rocket\n",
"printf('Actual length according to O is %.2f.\n',Lo);\n",
"disp('Exa-2.6(c)');\n",
"D=Do*(sqrt(1-(u/c)^2));       //contracted length of platform.\n",
"printf('Contracted length according to O'' is %.2e.\n',D);\n",
"disp('Exa-2.6(d)');\n",
"t1=Lo/u;                    //time needed to pass according to O'.\n",
"printf('Time taken according to O is %.2e.\n',t1);\n",
"disp('Exa-2.6(e)');\n",
"t2=(Lo-D)/u;                   //time intervals between the two instancs\n",
"printf('Time taken according to O'' is %.2e.\n',t2);\n",
"disp('The value of t1 and t2 did not match');"
   ]
   }
,
{
		   "cell_type": "markdown",
		   "metadata": {},
		   "source": [
			"## Example 2.7: Speed_of_missile_wrt_earth.sce"
		   ]
		  },
  {
"cell_type": "code",
	   "execution_count": null,
	   "metadata": {
	    "collapsed": true
	   },
	   "outputs": [],
"source": [
"clear    \n",
"clc\n",
"disp('Exa-2.7');\n",
"v1=0.6; u=0.8; c=1; // all the values are measured in terms of c hence c=1\n",
"v= (v1+u)/(1+(v1*u/c^2));\n",
"printf('The speed of missile as measured by an observer on earth is %.2f c.',v);"
   ]
   }
,
{
		   "cell_type": "markdown",
		   "metadata": {},
		   "source": [
			"## Example 2.8: Speed_of_galaxy_wrt_earth.sce"
		   ]
		  },
  {
"cell_type": "code",
	   "execution_count": null,
	   "metadata": {
	    "collapsed": true
	   },
	   "outputs": [],
"source": [
"clear    \n",
"clc\n",
"disp('Exa-2.8');\n",
"w1=600;w2=434;  // w1=recorded wavelength;w2=actual wavelength\n",
"               // c/w1 = c/w2 *(sqrt(1-u/c)/(1+u/c))\n",
"k=w2/w1;\n",
"x=(1-k^2)/(1+k^2);         //solving for u/c\n",
"printf('The speed of galaxy wrt earth is %.2f c',x);"
   ]
   }
,
{
		   "cell_type": "markdown",
		   "metadata": {},
		   "source": [
			"## Example 2.9: Velocity_of_rocket2_wrt_rocket1.sce"
		   ]
		  },
  {
"cell_type": "code",
	   "execution_count": null,
	   "metadata": {
	    "collapsed": true
	   },
	   "outputs": [],
"source": [
"clear    \n",
"clc\n",
"disp('Exa-2.9');\n",
"v1x=0.6;v1y=0;v2x=0;v2y=.8;c=1;     // all the velocities are taken wrt c\n",
"v21x=(v2x-v1x)/(1-(v1x*v2x/c^2));   //using lorentz velocity transformation\n",
"v21y=(v2y*(sqrt(1-(v1x*c)^2)/c^2))/(1-v1y*v2y/c^2) \n",
"printf('The velocity of rocket 2 wrt rocket 1 along x and y directions is  %.2f c & %.2f c respectively',v21x,v21y);"
   ]
   }
],
"metadata": {
		  "kernelspec": {
		   "display_name": "Scilab",
		   "language": "scilab",
		   "name": "scilab"
		  },
		  "language_info": {
		   "file_extension": ".sce",
		   "help_links": [
			{
			 "text": "MetaKernel Magics",
			 "url": "https://github.com/calysto/metakernel/blob/master/metakernel/magics/README.md"
			}
		   ],
		   "mimetype": "text/x-octave",
		   "name": "scilab",
		   "version": "0.7.1"
		  }
		 },
		 "nbformat": 4,
		 "nbformat_minor": 0
}
