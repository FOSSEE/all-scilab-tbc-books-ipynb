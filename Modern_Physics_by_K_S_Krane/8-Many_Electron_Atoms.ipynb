{
"cells": [
 {
		   "cell_type": "markdown",
	   "metadata": {},
	   "source": [
       "# Chapter 8: Many Electron Atoms"
	   ]
	},
{
		   "cell_type": "markdown",
		   "metadata": {},
		   "source": [
			"## Example 8.1: Energy_of_Ka_X_ray_of_sodium.sce"
		   ]
		  },
  {
"cell_type": "code",
	   "execution_count": null,
	   "metadata": {
	    "collapsed": true
	   },
	   "outputs": [],
"source": [
"clear  \n",
"clc\n",
"disp('Exa-8.1');\n",
"hc=1240*10^-9;Rinfi=1.097*10^7;Z=11;  //for sodium atom;and other constants in MeV\n",
"delE=3*hc*Rinfi*(Z-1)^2/4              //change in energy\n",
"printf('The energy of the Ka x-ray of the sodium atom is %.3f KeV.',delE/10^3);"
   ]
   }
,
{
		   "cell_type": "markdown",
		   "metadata": {},
		   "source": [
			"## Example 8.2: Solution_for_a_and_b.sce"
		   ]
		  },
  {
"cell_type": "code",
	   "execution_count": null,
	   "metadata": {
	    "collapsed": true
	   },
	   "outputs": [],
"source": [
"clear    \n",
"clc\n",
"disp('Exa-8.2(a)');\n",
"EKa=21.990;EKb=25.145;EK=25.514                                      //all the values are in KeV\n",
"ELo=EKb-EKa;printf('The enrgy of La of X-ray is %.3fKeV.\n',ELo);             //Energy of La X-ray\n",
"disp('Exa-8.2(b)');\n",
"EL=-EK+EKa;printf('Hence the binding energy of the L electon is %.3fKeV.',EL); // for electron L electron\n",
""
   ]
   }
,
{
		   "cell_type": "markdown",
		   "metadata": {},
		   "source": [
			"## Example 8.3: Total_orbital_and_spin_quantum_numbers_of_carbon.sce"
		   ]
		  },
  {
"cell_type": "code",
	   "execution_count": null,
	   "metadata": {
	    "collapsed": true
	   },
	   "outputs": [],
"source": [
"clear     \n",
"clc\n",
"disp('Exa-8.3'); // theoretical\n",
"l=1; Lmax=l+l;Lmin=l-l;printf('Value of L ranges from %d to %d i.e %d %d %d\n.',Lmin,Lmax,Lmin,1,Lmax);\n",
"s=1/2; Smax=s+s;Smin=s-s;printf('Values of S are %d &%d',Smax,Smin);"
   ]
   }
,
{
		   "cell_type": "markdown",
		   "metadata": {},
		   "source": [
			"## Example 8.4: Total_orbital_and_spin_quantum_numbers_of_nitrogen.sce"
		   ]
		  },
  {
"cell_type": "code",
	   "execution_count": null,
	   "metadata": {
	    "collapsed": true
	   },
	   "outputs": [],
"source": [
"clear \n",
"clc\n",
"disp('Exa-8.4');\n",
"l=1; Lmax=l+l;Lmin=l-l;printf('Considering any two electrons,Value of L2e ranges from %d to %d i.e %d %d %d.\n',Lmin,Lmax,Lmin,1,Lmax);\n",
"printf('Adding the angular momentum of the third electron to L2emax gives the maximum  whole angular momentum as 2+1=3; and subtracting it from L2e=1 gives 0\n')\n",
"s=1/2; Smax=s+s;Smin=s-s;printf('Values of S2e are %d &%d.\n',Smax,Smin);\n",
"printf('Adding and subtracting the spin of third to S2e=1 and S2e=0 respectively gives the spins 3/2 and 1/2 for the 3 electron system.');"
   ]
   }
,
{
		   "cell_type": "markdown",
		   "metadata": {},
		   "source": [
			"## Example 8.5: Hunds_rule_to_find_ground_state_quantum_numbers_of_nitrogen.sce"
		   ]
		  },
  {
"cell_type": "code",
	   "execution_count": null,
	   "metadata": {
	    "collapsed": true
	   },
	   "outputs": [],
"source": [
"clear    \n",
"clc\n",
"disp('Exa-8.5');\n",
"disp('The nitrogen atom has a configuration of 1s2,2s2,2p3.');\n",
"disp('Let us maximize the net spin of all the 3 electrons by assigning a spin of 1/2 to each of them. Hence S=3/2.');\n",
"disp('To maximize Ml,the consistent values of L for the 3 electrons left are 1 -1 and 0.Thus L=0 & S=3/2 are the ground state quantum numbers for nitrogen.');"
   ]
   }
,
{
		   "cell_type": "markdown",
		   "metadata": {},
		   "source": [
			"## Example 8.6: Ground_state_L_and_S_of_oxygen.sce"
		   ]
		  },
  {
"cell_type": "code",
	   "execution_count": null,
	   "metadata": {
	    "collapsed": true
	   },
	   "outputs": [],
"source": [
"clear    \n",
"clc\n",
"disp('Exa-8.6');\n",
"disp('The Oxygen atom has a configuration of 1s2,2s2,2p4. 4 electrons in the outer most shell.');\n",
"disp('Let us maximize the net spin  by assigning a spin of 1/2 to 3 of them but the fourth should have spin of -1/3. Hence S=3/2-1/2=1.');\n",
"disp('The consistent values of L for the 3 electrons are 1 -1 and 0.To maximize Ml, assign a L 0f +1 to the fourth electron.Thus L=1 & S=1 are the ground state quantum numbers for Oxygen.');"
   ]
   }
],
"metadata": {
		  "kernelspec": {
		   "display_name": "Scilab",
		   "language": "scilab",
		   "name": "scilab"
		  },
		  "language_info": {
		   "file_extension": ".sce",
		   "help_links": [
			{
			 "text": "MetaKernel Magics",
			 "url": "https://github.com/calysto/metakernel/blob/master/metakernel/magics/README.md"
			}
		   ],
		   "mimetype": "text/x-octave",
		   "name": "scilab",
		   "version": "0.7.1"
		  }
		 },
		 "nbformat": 4,
		 "nbformat_minor": 0
}
