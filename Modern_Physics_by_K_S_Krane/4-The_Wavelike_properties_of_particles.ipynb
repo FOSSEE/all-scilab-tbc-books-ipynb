{
"cells": [
 {
		   "cell_type": "markdown",
	   "metadata": {},
	   "source": [
       "# Chapter 4: The Wavelike properties of particles"
	   ]
	},
{
		   "cell_type": "markdown",
		   "metadata": {},
		   "source": [
			"## Example 4.10: Group_velocity_of_a_wave_packet_in_terms_of_phase_velocity.sce"
		   ]
		  },
  {
"cell_type": "code",
	   "execution_count": null,
	   "metadata": {
	    "collapsed": true
	   },
	   "outputs": [],
"source": [
"clc\n",
"clear\n",
"disp('Ex-4.10');\n",
"printf(' Group velocity is found out from Eq. 4.18.\n Since k=2*pi/w ; Vphase= w/k \n w/k = sqrt(g/k) /n w=sqrt(g*k)');\n",
"printf('\ndifferetiating on both sides\n');\n",
"printf('dw=1/2 * sqrt(g) * k^-1/2 * dk\n dw= 1/2 * sqrt(g/k)\n Hence Vgroup= Vphase/2');"
   ]
   }
,
{
		   "cell_type": "markdown",
		   "metadata": {},
		   "source": [
			"## Example 4.1: Solution_for_a_b_c_d_and_e.sce"
		   ]
		  },
  {
"cell_type": "code",
	   "execution_count": null,
	   "metadata": {
	    "collapsed": true
	   },
	   "outputs": [],
"source": [
"clear\n",
"clc\n",
"disp('Ex: 4.1 ');\n",
"h=6.6*10^-34;                              // h(planck's constant)= 6.6*10^-34 \n",
"m1= 10^3;v1=100;;                            // for automobile\n",
"w1= h/(m1*v1);                            // ['w'-wavelength in metre'm'-mass in Kg 'v'-velocity in metres/sec.] of the particles \n",
"printf('Wavelength of the automobile is %1.2e m\n',w1 );\n",
"m2=10*(10^-3);v2= 500;                      // for bullet\n",
"w2=h/(m2*v2);\n",
"printf('Wavelength of the bullet is %1.2e m\n ',w2 );\n",
"m3=(10^-9)*(10^-3); v3=1*10^-2;\n",
"w3=h/(m3*v3);\n",
"printf('Wavelength of the smoke particle is %1.2e m\n',w3 );\n",
"m4=9.1*10^-31;k=1*1.6*10^-19;            // k- kinetic energy of the electron & using 1ev = 1.6*10^-19 joule\n",
"p=sqrt(2*m4*k);                         // p=momentum of electron ;from K=1/2*m*v^2\n",
"w4=h/p;\n",
"printf('Wavelength of the electron(1ev) is %1.2fnm\n',w4*10^9 );\n",
"hc=1240;pc=100                         // In the extreme relativistc realm, K=E=pc; Given pc=100MeV,hc=1240MeV \n",
"w5= hc/pc;\n",
"printf('Wavelength of the electron (100Mev) is %1.2f fm\n',w5);"
   ]
   }
,
{
		   "cell_type": "markdown",
		   "metadata": {},
		   "source": [
			"## Example 4.2: Minimum_uncertainity_in_wavelength.sce"
		   ]
		  },
  {
"cell_type": "code",
	   "execution_count": null,
	   "metadata": {
	    "collapsed": true
	   },
	   "outputs": [],
"source": [
"clear \n",
"clc \n",
"disp('Ex-4.2');\n",
"// w=wavelength; consider k=2*(pi/w); \n",
"// differentiate k w.r.t w and replace del(k)/del(w) = 1 for equation.4.3\n",
"// which gives del(w)= w^2 /(2*pi*del(x)), hence \n",
"w=20; delx=200; // delx=200cm and w=20cm\n",
"delw=(w^2)/(delx*2*%pi);\n",
"printf('Hence uncertainity in length is %1.2f cm',delw);"
   ]
   }
,
{
		   "cell_type": "markdown",
		   "metadata": {},
		   "source": [
			"## Example 4.3: Validity_of_the_claim.sce"
		   ]
		  },
  {
"cell_type": "code",
	   "execution_count": null,
	   "metadata": {
	    "collapsed": true
	   },
	   "outputs": [],
"source": [
"clear\n",
"clc\n",
"disp('Ex-4.3')\n",
"delt=1;              //consider time interval of 1 sec\n",
"delw=1/delt;        // since delw*delt =1 from equation 4.4\n",
"delf=0.01          //calculated accuracy is 0.01Hz\n",
"delwc =2*%pi*delf // delwc-claimed accuracy from w=2*pi*f\n",
"printf('The minimum uncertainity calculated is 1rad/sec. The claimed accuracy is %.3f rad/sec\n',delwc);\n",
"if delw==delwc then disp('Valid claim');\n",
"end\n",
"if delw~=delwc then disp('Invalid claim');\n",
"end"
   ]
   }
,
{
		   "cell_type": "markdown",
		   "metadata": {},
		   "source": [
			"## Example 4.4: Solution_for_a_and_b.sce"
		   ]
		  },
  {
"cell_type": "code",
	   "execution_count": null,
	   "metadata": {
	    "collapsed": true
	   },
	   "outputs": [],
"source": [
"clear\n",
"clc\n",
"disp('Ex-4.4(a)');\n",
"m=9.11*10^-31;v=3.6*10^6; //'m','v' - mass an velocity of the electron in SI units\n",
"h=1.05*10^-34; //planck's constant in SI\n",
"p=m*v; //momentum\n",
"delp=p*0.01;//due to 1% precision in p\n",
"delx = h/delp//uncertainity in position\n",
"printf('Uncertainity in position is %1.2f nm',delx*10^9);\n",
"disp('Ex-4.4((b)')\n",
"printf('Since the motion is strictly along X-direction, its velocity in Y direction is absolutely zero.\n So uncertainity in velocity along y is zero=> uncertainity in position along y is infinite. \nSo nothing can be said about its position/motion along Y')"
   ]
   }
,
{
		   "cell_type": "markdown",
		   "metadata": {},
		   "source": [
			"## Example 4.5: Solution_for_a_and_b.sce"
		   ]
		  },
  {
"cell_type": "code",
	   "execution_count": null,
	   "metadata": {
	    "collapsed": true
	   },
	   "outputs": [],
"source": [
"clear\n",
"clc\n",
"disp('Ex-4.5(a)');\n",
"m=0.145;v=42.5; //'m','v' - mass an velocity of the electron in SI units\n",
"h=1.05*10^-34; //planck's constant in SI\n",
"p=m*v; //momentum\n",
"delp=p*0.01;//due to 1% precision in p\n",
"delx = h/delp//uncertainity in position\n",
"printf('Uncertainity in position is %1.2e',delx);\n",
"disp('Ex-4.5(b)');\n",
"printf('Motion along y is unpredictable as long as the veloity along y is exactly known(as zero).');"
   ]
   }
,
{
		   "cell_type": "markdown",
		   "metadata": {},
		   "source": [
			"## Example 4.6: Uncertainity_in_x_component.sce"
		   ]
		  },
  {
"cell_type": "code",
	   "execution_count": null,
	   "metadata": {
	    "collapsed": true
	   },
	   "outputs": [],
"source": [
"clc\n",
"clear\n",
"disp('Ex-4.6')\n",
"printf('The uncertainity in the poisition of electron after it passes through the slit is reduced to width of the slit\n delx=a\n');\n",
"printf('The uncertainity in momentum = h/a\n');\n",
"printf('Position of landing(angle t) = sin t = tan t = delz/dely =(h/a)/2*pi*a= w/2*pi*a  \nwhere w=wavelenghth\n');\n",
"printf('Rewriting  the above expression a*sint = w/(2*pi)\n which is similar to a*sint = w  (neglect 2*pi)as found out by first minimum in diffraction by a slit of width a');\n",
"disp('It proves a close connection between wave behaviour and uncertainity principle');"
   ]
   }
,
{
		   "cell_type": "markdown",
		   "metadata": {},
		   "source": [
			"## Example 4.7: Range_of_kinetic_energy_of_an_electron.sce"
		   ]
		  },
  {
"cell_type": "code",
	   "execution_count": null,
	   "metadata": {
	    "collapsed": true
	   },
	   "outputs": [],
"source": [
"clear\n",
"clc\n",
"disp('Ex-4.7');\n",
"mc2=2.15*10^-4;          //mc2 is the mass of the electron, concidered in Mev for the simplicity in calculations\n",
"hc=197                  // The value of h*c in Mev.fm for simplicity\n",
"delx= 10               // Given uncertainity in position=diameter of nucleus= 10 fm\n",
"delp= hc/delx ;       //Uncertainiy in momentum per unit 'c' i.e (Mev/c) delp= h/delx =(h*c)/(c*delx);hc=197 Mev.fm  1Mev=1.6*10^-13 Joules')\n",
"p=delp;               // Equating delp to p  as a consequence of equation 4.10\n",
"K1=[[p]^2]+[mc2]^2   // The following 3 steps are the steps invlolved in calculating K.E= sqrt((p*c)^2 + (mc^2)^2)- m*c^2\n",
"K1=sqrt(K1)\n",
"K1= K1-(mc2);\n",
"printf('Kinetic energy was found out to be %d Mev', K1)"
   ]
   }
,
{
		   "cell_type": "markdown",
		   "metadata": {},
		   "source": [
			"## Example 4.8: Solution_for_a_b_and_c.sce"
		   ]
		  },
  {
"cell_type": "code",
	   "execution_count": null,
	   "metadata": {
	    "collapsed": true
	   },
	   "outputs": [],
"source": [
"clear \n",
"clc\n",
"disp('Ex-4.8')\n",
"h=6.58*10^-16; // plack's constant\n",
"delt1=26*10^-9;E=140*10^6 //given values of lifetime and rest energy of charged pi meson\n",
"delE=h/delt1; k=delE/E;  // k is the measure of uncertainity\n",
"printf('Uncertainity in energy of charged pi meson is %1.2e\n',k);\n",
"delt2=8.3*10^-17;E=135*10^6;  //given values of lifetime and rest energy of uncharged pi meson\n",
"delE=h/delt2; k=delE/E;\n",
"printf('Uncertainity in energy of uncharged pi meson is %1.2e\n',k);\n",
"delt3=4.4*10^-24;E=765*10^6;       //given values of lifetime and rest energy of rho meson\n",
"delE=h/delt3; k=delE/E;\n",
"printf('Uncertainity in energy of rho meson is %.1f\n',k);"
   ]
   }
,
{
		   "cell_type": "markdown",
		   "metadata": {},
		   "source": [
			"## Example 4.9: minimum_velocity_of_the_billiard_ball.sce"
		   ]
		  },
  {
"cell_type": "code",
	   "execution_count": null,
	   "metadata": {
	    "collapsed": true
	   },
	   "outputs": [],
"source": [
"clear\n",
"clc\n",
"disp('Ex-4.9')\n",
"h=1.05*10^-34;  //value of planck's constant in J.sec\n",
"delx= 1;        // uncertainity in positon= dimension of the ball\n",
"delp=h/delx;    // uncertainity in momentum \n",
"m=0.1;          //mass of the ball in kg\n",
"delv=delp/m;    // uncertainity in velocity\n",
"printf('The value of minimum velocity was found out to be %1.2e m/sec',delv);"
   ]
   }
],
"metadata": {
		  "kernelspec": {
		   "display_name": "Scilab",
		   "language": "scilab",
		   "name": "scilab"
		  },
		  "language_info": {
		   "file_extension": ".sce",
		   "help_links": [
			{
			 "text": "MetaKernel Magics",
			 "url": "https://github.com/calysto/metakernel/blob/master/metakernel/magics/README.md"
			}
		   ],
		   "mimetype": "text/x-octave",
		   "name": "scilab",
		   "version": "0.7.1"
		  }
		 },
		 "nbformat": 4,
		 "nbformat_minor": 0
}
