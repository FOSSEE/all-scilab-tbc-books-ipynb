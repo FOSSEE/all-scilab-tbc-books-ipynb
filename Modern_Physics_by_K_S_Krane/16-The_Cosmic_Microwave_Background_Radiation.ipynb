{
"cells": [
 {
		   "cell_type": "markdown",
	   "metadata": {},
	   "source": [
       "# Chapter 16: The Cosmic Microwave Background Radiation"
	   ]
	},
{
		   "cell_type": "markdown",
		   "metadata": {},
		   "source": [
			"## Example 16.1: Resultin_temperature_of_interstellar_space.sce"
		   ]
		  },
  {
"cell_type": "code",
	   "execution_count": null,
	   "metadata": {
	    "collapsed": true
	   },
	   "outputs": [],
"source": [
"clear\n",
"clc\n",
"disp('Ex-16.1');\n",
"N2=0.25;N1=0.75;                                //various given values\n",
"L2=1;L1=0;\n",
"E1_E2=-4.7*(10^-4);                             //Energy difference\n",
"a=(N2/N1); b=(((2*L2)+1)/((2*L1)+1));c=E1_E2; //various terms involved in the formula of ratio of population\n",
"kT=(c/log(a/b));                              //value of k*T\n",
"k=0.0000856;                                 //constant\n",
"T=kT/k;                 //temperature of interstellar space\n",
"printf('The temperature of interstellar space was found out to be  %.1f K',T);"
   ]
   }
,
{
		   "cell_type": "markdown",
		   "metadata": {},
		   "source": [
			"## Example 16.2: Solution_for_a_and_b.sce"
		   ]
		  },
  {
"cell_type": "code",
	   "execution_count": null,
	   "metadata": {
	    "collapsed": true
	   },
	   "outputs": [],
"source": [
"clear\n",
"clc\n",
"disp('Ex-16.2');\n",
"mc2=940*10^6; k=8.6*10^-5; //various constants and given values in suitable units\n",
"T= mc2/k;       //temperature of the photons\n",
"printf('The temperature of the photons must be %.1e K\n',T);\n",
"t=((1.5*10^10)/T)^2;       //age of universe when the photons have the above temperature\n",
"printf('The age of the universe for the temperature of the photon to be as obtained above is %.0e seconds',t);"
   ]
   }
,
{
		   "cell_type": "markdown",
		   "metadata": {},
		   "source": [
			"## Example 16.3: Relative_number_of_neutrons_and_protons_among_the_nucleus.sce"
		   ]
		  },
  {
"cell_type": "code",
	   "execution_count": null,
	   "metadata": {
	    "collapsed": true
	   },
	   "outputs": [],
"source": [
"clear\n",
"clc\n",
"disp('Ex-16.3');       \n",
"k=8.62*10^-5; //various values and constants\n",
"T= 1.5*10^10;\n",
"delE=1.3*10^6;\n",
"a= delE/(k*T);  //exponent in boltzmann factor\n",
"b=%e^-a;        //ratio of neutron to protons\n",
"r=(1/(1+b))*100;     //relative number of protons\n",
"printf('The percentage of protons is %.0f and neutrons is %.0f.',r,100-r);"
   ]
   }
],
"metadata": {
		  "kernelspec": {
		   "display_name": "Scilab",
		   "language": "scilab",
		   "name": "scilab"
		  },
		  "language_info": {
		   "file_extension": ".sce",
		   "help_links": [
			{
			 "text": "MetaKernel Magics",
			 "url": "https://github.com/calysto/metakernel/blob/master/metakernel/magics/README.md"
			}
		   ],
		   "mimetype": "text/x-octave",
		   "name": "scilab",
		   "version": "0.7.1"
		  }
		 },
		 "nbformat": 4,
		 "nbformat_minor": 0
}
