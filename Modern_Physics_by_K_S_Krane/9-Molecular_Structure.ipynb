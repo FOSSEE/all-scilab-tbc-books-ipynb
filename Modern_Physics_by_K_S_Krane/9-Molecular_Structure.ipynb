{
"cells": [
 {
		   "cell_type": "markdown",
	   "metadata": {},
	   "source": [
       "# Chapter 9: Molecular Structure"
	   ]
	},
{
		   "cell_type": "markdown",
		   "metadata": {},
		   "source": [
			"## Example 9.1: Charge_on_the_sphere.sce"
		   ]
		  },
  {
"cell_type": "code",
	   "execution_count": null,
	   "metadata": {
	    "collapsed": true
	   },
	   "outputs": [],
"source": [
"clear\n",
"clc\n",
"disp('Ex-9.1');\n",
"E=-2.7;\n",
"K=9*(10^9)*((1.6*(10^-19))^2)/(0.106*10^-9);// taking all the values in meters. 1/(4*pi*e0)= 9*10^9 F/m\n",
"q=((K-E*10^-9)/(4*K))*10^-9;                //balancin by multiplying 10^-9 on numerator. to eV.vm terms\n",
"printf('Charge on the sphere required is %.2f times the charge of electron.',q);"
   ]
   }
,
{
		   "cell_type": "markdown",
		   "metadata": {},
		   "source": [
			"## Example 9.2: Solution_for_a_and_b.sce"
		   ]
		  },
  {
"cell_type": "code",
	   "execution_count": null,
	   "metadata": {
	    "collapsed": true
	   },
	   "outputs": [],
"source": [
"clear\n",
"clc\n",
"disp('Exa-9.2(a)');\n",
"K=1.44; Req=0.236; // K=e^2/(4*pi*e0)=1.44 eV.nm\n",
"Uc=-K/(Req);        //coulomb energy\n",
"printf('The coulomb energy at an equilirium separation distance is %.2f eV\n',Uc);\n",
"E=-4.26; delE=1.53;    //various standars values of NaCl\n",
"Ur=E-Uc-delE; \n",
"printf('The pauli''s repulsion energy is %.2f eV\n',Ur);\n",
"disp('Exa-9.2(b)');\n",
"Req=0.1;         //pauli repulsion energy\n",
"Uc=-K/(Req);\n",
"E=4; delE=1.53;\n",
"Ur=E-Uc-delE;\n",
"printf('The pauli''s repulsion energy respectively is is %.2f eV\n',Ur);"
   ]
   }
,
{
		   "cell_type": "markdown",
		   "metadata": {},
		   "source": [
			"## Example 9.3: vibrational_frequency_and_photon_energy_of_H2.sce"
		   ]
		  },
  {
"cell_type": "code",
	   "execution_count": null,
	   "metadata": {
	    "collapsed": true
	   },
	   "outputs": [],
"source": [
"clear \n",
"clc\n",
"disp('Exa-9.3');\n",
"delE=0.50; delR=0.017*10^-9;      //delE= E-Emin; delR=R-Rmin;\n",
"k=2*(delE)/(delR^2);c=3*10^8;     //force constant\n",
"m=(1.008)*(931.5*10^6)*0.5;       //mass of molecular hydrogen\n",
"v= sqrt(k*c^2/m)/(2*%pi);          //vibrational frequency\n",
"h=4.14*(10^-15);\n",
"E=h*v;\n",
"printf('The value of corresponding photon energy is %.2f eV',E);"
   ]
   }
,
{
		   "cell_type": "markdown",
		   "metadata": {},
		   "source": [
			"## Example 9.4: Energies_and_wavelengths_of_3_lowest_radiations_emitted_by_molecular_H2.sce"
		   ]
		  },
  {
"cell_type": "code",
	   "execution_count": null,
	   "metadata": {
	    "collapsed": true
	   },
	   "outputs": [],
"source": [
"clear \n",
"clc\n",
"disp('Exa-9.4');\n",
"hc=1240;        //in eV.nm\n",
"m=0.5*1.008*931.5*10^6;              //mass of hydrogen atom\n",
"Req=0.074;                          //equivalent radius\n",
"a=((hc)^2)/(4*(%pi^2)*m*(Req^2));  //reduced mass of hydrogen atom\n",
"for L=1:3,\n",
"        delE= L*a; printf('The value of energy is %f eV\n',delE);                  \n",
"        w=(hc)/delE;printf('The respective wavelength is is %f um\n',w*10^-3);  \n",
"end\n",
""
   ]
   }
,
{
		   "cell_type": "markdown",
		   "metadata": {},
		   "source": [
			"## Example 9.5: Rotational_Inertia_of_molecule.sce"
		   ]
		  },
  {
"cell_type": "code",
	   "execution_count": null,
	   "metadata": {
	    "collapsed": true
	   },
	   "outputs": [],
"source": [
"clear\n",
"clc\n",
"disp('Exa-9.5');        \n",
"delv=6.2*(10^11);     //change in frequency\n",
"h=1.05*(10^-34);        //value of h in J.sec\n",
"I= h/(2*%pi*delv);      //rotational inertia\n",
"printf('The value of rotational inertia is %.2e kg m2 ',I);\n",
"I=I/(1.684604e-045);\n",
"printf('which in terms of amu is %.3f u.nm2',I);"
   ]
   }
,
{
		   "cell_type": "markdown",
		   "metadata": {},
		   "source": [
			"## Example 9.6: Solution_for_a_and_b.sce"
		   ]
		  },
  {
"cell_type": "code",
	   "execution_count": null,
	   "metadata": {
	    "collapsed": true
	   },
	   "outputs": [],
"source": [
"clear\n",
"clc\n",
"disp('Ex-9.6(a)');\n",
"delE=0.358;hc=4.14*10^-15;          //hc in eV.nm and delE=1.44eV(given values)\n",
"f=(delE)/hc;                        //frequency \n",
"printf('The frequency of the radiation is %.3e.\n',f);\n",
"m=0.98;                            //mass in terms of u\n",
"k=4*%pi^2*m*f^2;                   //value of k in eV/m^2\n",
"printf('The force constant is %.3e.\n',k);  \n",
"disp('Ex-9.6(b)');\n",
"hc=1240; m=0.98*1.008*931.5*10^6; Req=0.127;      //various constants in terms of  \n",
"s=((hc)^2)/(4*(%pi^2)*m*(Req^2));                // expeted spacing \n",
"printf('The spacing was found out to be %f which is very close to the graphical value of 0.0026 eV.',s);"
   ]
   }
],
"metadata": {
		  "kernelspec": {
		   "display_name": "Scilab",
		   "language": "scilab",
		   "name": "scilab"
		  },
		  "language_info": {
		   "file_extension": ".sce",
		   "help_links": [
			{
			 "text": "MetaKernel Magics",
			 "url": "https://github.com/calysto/metakernel/blob/master/metakernel/magics/README.md"
			}
		   ],
		   "mimetype": "text/x-octave",
		   "name": "scilab",
		   "version": "0.7.1"
		  }
		 },
		 "nbformat": 4,
		 "nbformat_minor": 0
}
