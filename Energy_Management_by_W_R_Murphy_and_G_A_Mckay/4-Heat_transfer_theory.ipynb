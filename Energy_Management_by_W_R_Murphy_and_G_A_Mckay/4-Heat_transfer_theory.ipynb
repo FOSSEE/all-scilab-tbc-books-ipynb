{
"cells": [
 {
		   "cell_type": "markdown",
	   "metadata": {},
	   "source": [
       "# Chapter 4: Heat transfer theory"
	   ]
	},
{
		   "cell_type": "markdown",
		   "metadata": {},
		   "source": [
			"## Example 4.10: Heat_loss_from_insulated_surfaces.sce"
		   ]
		  },
  {
"cell_type": "code",
	   "execution_count": null,
	   "metadata": {
	    "collapsed": true
	   },
	   "outputs": [],
"source": [
"clear ;\n",
"clc;\n",
"// Example 4.10\n",
"printf('Example 4.10\n\n');\n",
"printf('Page No. 106\n\n');\n",
"\n",
"// given\n",
"T1 = 150;// Surface temperature in degree celcius\n",
"T2 = 20;// Ambient temperature in degree celcius\n",
"d = 0.100; //Outside diametr of pipe in m\n",
"h = 10;// Outside film coefficient in W/m^2-K\n",
"t = 25*10^-3;// thickness of insulation in m\n",
"K = 0.040;// Thermal conductivity of insulation in W/m-K\n",
"\n",
"r2 = d/2;//in m\n",
"r1 = r2+t;// in m\n",
"Q = ((T1-T2)/((1/(2*%pi*r1*h))+(log(r1/r2)/(2*%pi*K))));// in W/m\n",
"printf('The heat loss per unit length is %.0f W/m',Q)"
   ]
   }
,
{
		   "cell_type": "markdown",
		   "metadata": {},
		   "source": [
			"## Example 4.1: Conduction.sce"
		   ]
		  },
  {
"cell_type": "code",
	   "execution_count": null,
	   "metadata": {
	    "collapsed": true
	   },
	   "outputs": [],
"source": [
"clear ;\n",
"clc;\n",
"// Example 4.1\n",
"printf('Example 4.1\n\n');\n",
"printf('Page No. 88\n\n');\n",
"\n",
"// given\n",
"K = 45// Thermal Conductivity in W/m-K\n",
"L = 5*10^-3;// thickness in metre\n",
"T1 = 100;// in degree celcius\n",
"T2 = 99.9;// in degree celcius\n",
"A = 1;// Area in m^2\n",
"\n",
"//By Fourier law of conduction\n",
"Q = ((K*A*(T1-T2))/L);// in Watts\n",
"printf('The rate of conductive heat transfer is %.0f W \n',Q)"
   ]
   }
,
{
		   "cell_type": "markdown",
		   "metadata": {},
		   "source": [
			"## Example 4.2: Conduction_through_cylindrical_pipe.sce"
		   ]
		  },
  {
"cell_type": "code",
	   "execution_count": null,
	   "metadata": {
	    "collapsed": true
	   },
	   "outputs": [],
"source": [
"clear ;\n",
"clc;\n",
"// Example 4.2\n",
"printf('Example 4.2\n\n');\n",
"printf('Page No. 89\n\n');\n",
"// given\n",
"K1 = 45// Thermal Conductivity  of mild steel in W/m-K\n",
"K2 = 0.040// Thermal Conductivity  of insulaton in W/m-K\n",
"L1 = 5*10^-3;// thickness of mild steel in metre\n",
"L2 = 50*10^-3;// thickness of insulation in metre\n",
"T1 = 100;// in degree celcius\n",
"T2 = 25;// in degree celcius\n",
"A = 1;// Area in m^2\n",
"\n",
"//By Fourier law of conduction\n",
"Q = (((T1-T2)/((L1/(K1*A))+(L2/(K2*A)))))// in Watts\n",
"printf('The rate of conductive heat transfer is %.0f W \n',Q)"
   ]
   }
,
{
		   "cell_type": "markdown",
		   "metadata": {},
		   "source": [
			"## Example 4.3: Conduction_through_pipe_with_insulation.sce"
		   ]
		  },
  {
"cell_type": "code",
	   "execution_count": null,
	   "metadata": {
	    "collapsed": true
	   },
	   "outputs": [],
"source": [
"clear ;\n",
"clc;\n",
"// Example 4.3\n",
"printf('Example 4.3\n\n');\n",
"printf('Page No. 90\n\n');\n",
"\n",
"// given\n",
"K1 = 26;// Thermal Conductivity  of stainless steel in W/m-K\n",
"K2 = 0.038;// Thermal Conductivity  of insulaton in W/m-K\n",
"L1 = 3*10^-3;// thickness of stainless steel in metre\n",
"L2 = 40*10^-3;// thickness of insulation in metre\n",
"T1 = 105;// in degree celcius\n",
"T2 = 25;// in degree celcius\n",
"L = 15;// Length of pipe in metre\n",
"d1 = 50*10^-3;// Internal diameter of pipe in metre\n",
"d2 = 56*10^-3;// External diameter of pipe in metre\n",
"\n",
"r1 = d1/2;// in metre\n",
"r2 = d2/2;// in metre\n",
"\n",
"rm_p = ((r2-r1)/log(r2/r1));// logarithmic mean radius of pipe in m\n",
"rm_i = (((r2+L2)-r2)/log((r2+L2)/r2));// logarithmic mean radius of insulation in m\n",
"\n",
"//By Fourier law of conduction\n",
"Q = (((T1-T2)/((L1/(K1*2*%pi*rm_p))+(L2/(K2*2*%pi*rm_i)))));// in W/m\n",
"Q_L = Q*L;\n",
"printf('The rate of conductive heat transfer per 15 m length of pie is %3.2f W\n',Q_L)// Deviation in answer due to direct substitution"
   ]
   }
,
{
		   "cell_type": "markdown",
		   "metadata": {},
		   "source": [
			"## Example 4.4: Fouling_factors.sce"
		   ]
		  },
  {
"cell_type": "code",
	   "execution_count": null,
	   "metadata": {
	    "collapsed": true
	   },
	   "outputs": [],
"source": [
"clear ;\n",
"clc;\n",
"// Example 4.4\n",
"printf('Example 4.4\n\n');\n",
"printf('Page No. 93\n\n');\n",
"\n",
"// given\n",
"dH = 12*10^-3;// Outer diameter of pipe in m\n",
"dC = 10*10^-3;// Inner diameter of pipe in m\n",
"L = 1*10^-3;// im m\n",
"h_H = 10*10^3;// Heat Transfer Coefficient  on vapour side in W/m^2-K\n",
"h_C = 4.5*10^3;// Heat Transfer Coefficient  on vapour side in W/m^2-K\n",
"K = 26;// Thermal Conductivity of metal in W/m-K\n",
"dM = (dH + dC)/2;// mean diameter in m\n",
"h_Hf = 6*10^3;// Fouling factor for hot side\n",
"h_Cf = 6*10^3;// Fouling factor for cold side\n",
"\n",
"U = (1/h_H)+((L*dH)/(K*dM))+(dH/(dC*h_C));\n",
"Uh = (1/U);// in W/m^2-K\n",
"printf('The original heat transfer coefficient is %3.0f W/sq.m K \n',Uh )// Deviation in answer due to direct substitution\n",
"\n",
"u = (1/h_H)+(1/h_Hf)+((L*dH)/(K*dM))+(dH/(dC*h_C))+(dH/(dC*h_Cf));\n",
"Uf = (1/u);// in W/m^2-K\n",
"printf('The final heat transfer coefficient due to fouling is %3.0f W/m^2-K \n',ceil(Uf))"
   ]
   }
,
{
		   "cell_type": "markdown",
		   "metadata": {},
		   "source": [
			"## Example 4.5: L_M_T_D.sce"
		   ]
		  },
  {
"cell_type": "code",
	   "execution_count": null,
	   "metadata": {
	    "collapsed": true
	   },
	   "outputs": [],
"source": [
"clear ;\n",
"clc;\n",
"// Example 4.5\n",
"printf('Example 4.5\n\n');\n",
"printf('Page No. 95\n\n');\n",
"\n",
"// given\n",
"m_h = 1.05;// Mass flow rate of hot liquid in kg/s\n",
"Thi = 130;// Inlet Temperature of hot liquid in degree celcius\n",
"Tho = 30;// Outlet Temperature of hot fluid in degree celcius\n",
"Cph =  2.45*10^3;// Specific heat capacity of hot liquid in J/kg-K\n",
"\n",
"m_c = 4.10;// Mass flow rate of cold liquid in kg/s\n",
"Tci =  20;// Inlet Temperature of cold liquid in degree celcius\n",
"Cpc =  4.18*10^3;// Specific heat capacity of cold liquid in J/kg-K\n",
"\n",
"A = 6.8;// Area of heat exchanger in m^2\n",
"Q = m_h*Cph*(Thi-Tho);// in Watts\n",
"\n",
"//From heat balance\n",
"// m_c*Cpc*(Tci-Tco)= m_h*Cph*(Thi-Tho)= UAlTm = Q\n",
"Tco = ((Q/(m_c*Cpc))+Tci);\n",
"printf(' The Outlet Temperature of cold fluid is %.0f degree celcius\n',Tco)\n",
"// As counter flow  heat exchanger \n",
"T1 = Thi-Tco;\n",
"T2 = Tho-Tci;\n",
"Tm = ((T1-T2)/log(T1/T2));\n",
"\n",
"U = (Q/(A*Tm));\n",
"printf('The overall heat transfer coefficient is %.0f W/sq.m K \n',U)// Deviation in answer due to direct substitution\n",
"\n",
""
   ]
   }
,
{
		   "cell_type": "markdown",
		   "metadata": {},
		   "source": [
			"## Example 4.6: Forced_convection_turbulent_flow.sce"
		   ]
		  },
  {
"cell_type": "code",
	   "execution_count": null,
	   "metadata": {
	    "collapsed": true
	   },
	   "outputs": [],
"source": [
"clear ;\n",
"clc;\n",
"// Example 4.6\n",
"printf('Example 4.6\n\n');\n",
"printf('Page No. 98\n\n');\n",
"\n",
"// given\n",
"v = 1.23;// velocity in m/s\n",
"d = 25*10^-3;// diameter in m\n",
"p = 980;// density in kg/m^3\n",
"u = 0.502*10^-3;// viscosity in Ns/m^2\n",
"Cp = 3.76*10^3;// Specific heat capacity in J/kg-K\n",
"K = 0.532;// Thermal conductivity in W/m-K\n",
"\n",
"Re = (d*v*p)/u;//Reynolds Number\n",
"Pr = (Cp*u)/K;// Prandtl Number\n",
"Re_d = (Re)^0.8;\n",
"Pr_d = (Pr)^0.4;\n",
"\n",
"// By Dittus-Boelter Equation\n",
"//Nu = 0.0232 * Re^0.8 Pr^0.4 = (hd)/K\n",
"Nu = 0.0232 * Re_d * Pr_d;// Nusselt Number\n",
"h = (Nu*K)/d;//W/m^2-K\n",
"printf('The film heat transfer coefficient is %3.2f W/sq.m K\n',h)// Deviation in answer due to direct substitution"
   ]
   }
,
{
		   "cell_type": "markdown",
		   "metadata": {},
		   "source": [
			"## Example 4.7: Free_convection.sce"
		   ]
		  },
  {
"cell_type": "code",
	   "execution_count": null,
	   "metadata": {
	    "collapsed": true
	   },
	   "outputs": [],
"source": [
"clear ;\n",
"clc;\n",
"// Example 4.7\n",
"printf('Example 4.7\n\n');\n",
"printf('Page No. 99\n\n');\n",
"\n",
"// (a) without insulation\n",
"// given\n",
"d_a = 0.150;// Diameter of pipe in m\n",
"T1_a = 60;// Surface temperature in degree celcius\n",
"T2_a = 10;// Ambient temperature in degree celcius\n",
"\n",
"//For laminar flow in pipe,h= 1.41*((T1-T2)/d)^0.25\n",
"h_a = 1.41*((T1_a-T2_a)/d_a)^0.25;//W/m^2-K\n",
"A_a = %pi * d_a;// Surface Area per unit length in m^2/m\n",
"Q_a = h_a*A_a*(T1_a - T2_a);// in W/m\n",
"printf('The heat loss per unit length without insulation is %.0f W/m \n',ceil(Q_a))\n",
"\n",
"// (b) with insulation\n",
"// given\n",
"d_b = 0.200;// Diameter of pipe in m\n",
"T1_b = 20;// Surface temperature in degree celcius\n",
"T2_b = 10;// Ambient temperature in degree celcius\n",
"\n",
"//For laminar flow in pipe,h= 1.41*((T1-T2)/d)^0.25\n",
"h_b = 1.41*((T1_b-T2_b)/d_b)^0.25;//W/m^2-K\n",
"A_b = %pi * d_b;// Surface Area per unit length in m^2/m\n",
"Q_b = h_b*A_b*(T1_b - T2_b);// in W/m\n",
"printf('the heat loss per unit length with insulation is %.1f W/m',Q_b)\n",
"// Deviation in answer due to direct substitution\n",
"\n",
""
   ]
   }
,
{
		   "cell_type": "markdown",
		   "metadata": {},
		   "source": [
			"## Example 4.8: Rate_oh_heat_transfer.sce"
		   ]
		  },
  {
"cell_type": "code",
	   "execution_count": null,
	   "metadata": {
	    "collapsed": true
	   },
	   "outputs": [],
"source": [
"clear ;\n",
"clc;\n",
"// Example 4.8\n",
"printf('Example 4.8\n\n');\n",
"printf('Page No. 103\n\n');\n",
"\n",
"// given\n",
"d = 0.100;// Diameter of pipe in m\n",
"T1 = 383;// Surface temperature in Kelvin\n",
"T2 = 288;// Surrounding air temperature in Kelvin\n",
"e = 0.9;// Emissivity of pipe\n",
"A = %pi * d;// Surface Area per unit length in m^2/m\n",
"\n",
"// By Stefan-Blotzmann law, the radiative heat transfer rate is   Q = 5.669*e*A*((T1/100)^4-(T2/100)^4)\n",
"Q = 5.669*e*A*((T1/100)^4-(T2/100)^4);// in W/m\n",
"printf('The radiative heat loss per unit length is %.0f W/sq.m',ceil(Q))"
   ]
   }
,
{
		   "cell_type": "markdown",
		   "metadata": {},
		   "source": [
			"## Example 4.9: Heat_loss_from_bare_surfaces.sce"
		   ]
		  },
  {
"cell_type": "code",
	   "execution_count": null,
	   "metadata": {
	    "collapsed": true
	   },
	   "outputs": [],
"source": [
"clear ;\n",
"clc;\n",
"// Example 4.9\n",
"printf('Example 4.9\n\n');\n",
"printf('Page No. 103\n\n');\n",
"\n",
"// given\n",
"A = 1;// Area in m^2\n",
"T1 = 423;// Surface temperature in Kelvin\n",
"T2 = 293;// Surrounding air temperature in Kelvin\n",
"T1_c = 150;// Surface temperature in degree celcius\n",
"T2_c = 20;// Ambient temperature in degree celcius\n",
"e = 0.9;// Emissivity of pipe\n",
"\n",
"//(a) Horizontal Pipe\n",
"d = 0.100;// Diameter of pipe in m\n",
"//For laminar flow in pipe,Q= (1.41*((T1-T2)/d)^0.25)*(T1-T2)\n",
"Q_Ca = (1.41*((T1_c-T2_c)/d)^0.25)*(T1_c-T2_c);// Convective heat transfer rate in W/m^2\n",
"// By Stefan-Blotzmann law, the radiative heat transfer rate is   Q = 5.669*e*((T1/100)^4-(T2/100)^4)\n",
"Q_Ra = 5.669*e*((T1/100)^4-(T2/100)^4);// in W/m^2\n",
"Q_Ta = Q_Ra + Q_Ca;// IN W/m^2\n",
"printf('The total heat loss from per square meter area is %.2f W/sq.m\n',Q_Ta)// Deviation in answer due to direct substitution\n",
"\n",
"\n",
"//(b) Vertical Pipe\n",
"//For turbulent flow in pipe,Q= (1.24*(T1-T2)^1.33)\n",
"Q_Cb = (1.24*(T1-T2)^1.33);// Convective heat transfer rate in W/m^2\n",
"// By Stefan-Blotzmann law, the radiative heat transfer rate is   Q = 5.669*e*((T1/100)^4-(T2/100)^4)\n",
"Q_Rb = 5.669*e*((T1/100)^4-(T2/100)^4);// in W/m^2\n",
"Q_Tb = Q_Rb + Q_Cb;// IN W/m^2\n",
"printf('The total heat loss from per square meter area is %.0f W/sq.m\n',floor(Q_Tb))"
   ]
   }
],
"metadata": {
		  "kernelspec": {
		   "display_name": "Scilab",
		   "language": "scilab",
		   "name": "scilab"
		  },
		  "language_info": {
		   "file_extension": ".sce",
		   "help_links": [
			{
			 "text": "MetaKernel Magics",
			 "url": "https://github.com/calysto/metakernel/blob/master/metakernel/magics/README.md"
			}
		   ],
		   "mimetype": "text/x-octave",
		   "name": "scilab",
		   "version": "0.7.1"
		  }
		 },
		 "nbformat": 4,
		 "nbformat_minor": 0
}
