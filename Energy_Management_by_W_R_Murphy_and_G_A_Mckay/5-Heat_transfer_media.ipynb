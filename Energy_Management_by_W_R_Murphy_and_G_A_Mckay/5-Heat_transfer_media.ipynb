{
"cells": [
 {
		   "cell_type": "markdown",
	   "metadata": {},
	   "source": [
       "# Chapter 5: Heat transfer media"
	   ]
	},
{
		   "cell_type": "markdown",
		   "metadata": {},
		   "source": [
			"## Example 5.10: Desuperheating.sce"
		   ]
		  },
  {
"cell_type": "code",
	   "execution_count": null,
	   "metadata": {
	    "collapsed": true
	   },
	   "outputs": [],
"source": [
"clear ;\n",
"clc;\n",
"// Example 5.10\n",
"printf('Example 5.10\n\n');\n",
"printf('Page No. 123\n\n');\n",
"\n",
"// given\n",
"m = 0.45;// Mass flow rate in kg/s\n",
"P = 2;// pressure in bar\n",
"T1 = 60;// in degree celcius\n",
"T2 = 250;// in degree celcius\n",
"h_s = 2971*10^3;// Specific enthalpy of superheated steam in J/kg\n",
"h_d = 2706*10^3;// Specific enthalpy of dry saturated steam in J/kg\n",
"h_e = h_s - h_d;//excess Specific enthalpy in J/kg\n",
"h = 251*10^3;// in J/kg\n",
"V_s = 0.885;// specific volume of dry saturated steam at 2bar in m^3/kg\n",
"\n",
"h_r = h_d- h;// heat required to convert water at 60 deg C into dry saturated steam at 2 bar\n",
"w = (h_e/h_r);// in kg/kg\n",
"printf('the quantity of water requried is %.3f kg/kg\n\n',w)\n",
"\n",
"M = m*w;// in kg/s\n",
"printf('the total mass flow rate of water required is %.3f kg/s \n\n',M)\n",
"\n",
"M_d = M + m;// mass flow rate of desuperheated steam in kg/s\n",
"V = M_d*V_s;// in m^3/s\n",
"printf('the total mass flow rate of desuperheated steam required is %.4f m^3/s \n',V)\n",
"// Deviation in answer due to some approximation in answer in  the book\n",
""
   ]
   }
,
{
		   "cell_type": "markdown",
		   "metadata": {},
		   "source": [
			"## Example 5.11: Synthetic_organic_chemicals.sce"
		   ]
		  },
  {
"cell_type": "code",
	   "execution_count": null,
	   "metadata": {
	    "collapsed": true
	   },
	   "outputs": [],
"source": [
"clear ;\n",
"clc;\n",
"// Example 5.11\n",
"printf('Example 5.11\n\n');\n",
"printf('Page No. 130\n\n');\n",
"\n",
"// given\n",
"T1 = 180;// in degree celcius\n",
"T2 = 350;// in degree celcius\n",
"m = 0.5;// Mass flow rate in kg/s\n",
"\n",
"\n",
"//from steam table\n",
"hL_180 = 302*10^3;// Specific enthalpy at 180 degree celcius in J/kg\n",
"hL_350 = 690*10^3;// Specific enthalpy at 350 degree celcius in J/kg\n",
"\n",
"Q = m*(hL_350 - hL_180);// in W\n",
"printf('The required heat is %.0f W',Q)"
   ]
   }
,
{
		   "cell_type": "markdown",
		   "metadata": {},
		   "source": [
			"## Example 5.12: Synthetic_organic_chemicals.sce"
		   ]
		  },
  {
"cell_type": "code",
	   "execution_count": null,
	   "metadata": {
	    "collapsed": true
	   },
	   "outputs": [],
"source": [
"clear ;\n",
"clc;\n",
"// Example 5.12\n",
"printf('Example 5.12\n\n');\n",
"printf('Page No. 130\n\n');\n",
"\n",
"// given\n",
"T1 = 200;// in degree celcius\n",
"T2 = 300;// in degree celcius\n",
"m_l = 0.55;// Mass flow rate  of liquid in kg/s\n",
"P = 3; //pressure in bar\n",
"Cp = 2.34*10^3;// Mean haet capacity in J/kg-K\n",
"h = 272*10^3;// Latent heat of eutectic mixture at 3 bar\n",
"\n",
"Q = m_l*Cp*(T2 -T1);// in Watts\n",
"m = Q/h;// in kg/s\n",
"printf('The mass flow rate of dry saturated eutectic mixture is %.2f kg/s',m)\n",
"\n",
""
   ]
   }
,
{
		   "cell_type": "markdown",
		   "metadata": {},
		   "source": [
			"## Example 5.13: Heat_transfer_coefficients.sce"
		   ]
		  },
  {
"cell_type": "code",
	   "execution_count": null,
	   "metadata": {
	    "collapsed": true
	   },
	   "outputs": [],
"source": [
"clear ;\n",
"clc;\n",
"// Example 5.13\n",
"printf('Example 5.13\n\n');\n",
"printf('Page No. 131\n\n');\n",
"\n",
"// given\n",
"T = 300;// in degree celcius\n",
"v = 2;// velocity in m/s\n",
"d = 40*10^-3;// diameter in m\n",
"\n",
"// From the table 5.3 and 5.4 given in the  book\n",
"K_d = [2.80 2.65 2.55 2.75]// in W/m^2-k\n",
"Re = [117*10^3 324*10^3 159*10^3 208*10^3]//Reynolds number\n",
"Pr = [12 4.50 10.0 7.3]//Prandtl Number\n",
"\n",
"// By Dittus-Boelter Equation\n",
"//Nu = 0.0232 * Re^0.8*Pr^0.3 = (hd)/K\n",
"//h =  0.0232 * Re^0.8*Pr^0.3 *(K/d)\n",
"\n",
"h_T = 0.0232 * Re(1)^0.8*Pr(1)^0.3*K_d(1);// //W/m^2-K\n",
"printf('The film heat transfer coefficient using Transcal N is %.0f W/sq.m K \n',h_T)// Deviation in answer due to direct substitution \n",
"\n",
"\n",
"h_D = 0.0232 * Re(2)^0.8*Pr(2)^0.3*K_d(2);// //W/m^2-K\n",
"printf('The film heat transfer coefficient using Dowtherm A is %.0f W/sq.m K \n\n',h_D)// Deviation in answer due to direct substitution \n",
"\n",
"\n",
"h_M = 0.0232 * Re(3)^0.8*Pr(3)^0.3*K_d(3);// //W/m^2-K\n",
"printf('The film heat transfer coefficient using Marlotherm S is %.0f W/sq.m K \n',h_M)// Deviation in answer due to direct substitution \n",
"\n",
"\n",
"h_S = 0.0232 * Re(4)^0.8*Pr(4)^0.3*K_d(4);// //W/m^2-K\n",
"printf('The film heat transfer coefficient using Santotherm 60 is %.0f W/sq.m K \n',h_S)// Deviation in answer due to direct substitution \n",
"\n",
"\n",
"\n",
""
   ]
   }
,
{
		   "cell_type": "markdown",
		   "metadata": {},
		   "source": [
			"## Example 5.14: The_humidity_chart.sce"
		   ]
		  },
  {
"cell_type": "code",
	   "execution_count": null,
	   "metadata": {
	    "collapsed": true
	   },
	   "outputs": [],
"source": [
"clear ;\n",
"clc;\n",
"// Example 5.14\n",
"printf('Example 5.14\n\n');\n",
"printf('Page No. 137\n\n');\n",
"\n",
"// given\n",
"T1 = 25;// Wet-bulb temperature in degree celcius\n",
"T2 = 40;//Dry-bulb temperature in degree celcius\n",
"\n",
"//By using the humidity chart and steam tables for air-water mixtures at the given temperatures, the all following data can be obtained\n",
"\n",
"//(a) humidity\n",
"w = 0.014;// in kg/kg\n",
"printf('the required humidity is %.3f kg/kg \n',w)\n",
"\n",
"\n",
"//(b) relative humidity\n",
"R_H = 30;// in percentage\n",
"printf('the required relative humidity in percentage is %.0f\n\n',R_H)\n",
"\n",
"//(c) the dew point\n",
"T_w = 20;// in degree celcius\n",
"printf('the required dew-point temperature is %.0f deg C\n',T_w)\n",
"\n",
"//(d) the humid heat\n",
"Cpa = 1.006*10^3;// Heat Capacity of bone dry air in J/kg-K\n",
"Cpwv = 1.89*10^3;// Heat Capacity of water vapour in J/kg-K\n",
"S = Cpa + (w*Cpwv);//in J/kg-K\n",
"printf('the humid heat is %.0f J/kg-K\n\n',S )\n",
"\n",
"//(e) the humid volume\n",
"V_G = ((1/29)+(w/18))*22.41*((T2 + 273)/273);//in m^3/kg\n",
"printf('the humid volume is %.3f m^3/kg \n',V_G)\n",
"\n",
"//(f) adiabatic process\n",
"w_A = 0.020;// in kg/kg\n",
"printf('the humidity of the mixture if saturated adiabatically is %.3f kg/kg \n\n',w_A)\n",
"\n",
"// (h) isothermal process\n",
"w_i = 0.049;// in kg/kg\n",
"printf('the humidity of the mixture if saturated isothermally is %.3f kg/kg \n',w_i)\n",
"\n",
"\n",
" "
   ]
   }
,
{
		   "cell_type": "markdown",
		   "metadata": {},
		   "source": [
			"## Example 5.15: The_humidity_chart_and_its_uses.sce"
		   ]
		  },
  {
"cell_type": "code",
	   "execution_count": null,
	   "metadata": {
	    "collapsed": true
	   },
	   "outputs": [],
"source": [
"clear ;\n",
"clc;\n",
"// Example 5.15\n",
"printf('Example 5.15\n\n');\n",
"printf('Page No. 137\n\n');\n",
"\n",
"// given\n",
"T = 25;// Wet-bulb temperature in degree celcius\n",
"T1 = 30;//Dry-bulb temperature in degree celcius\n",
"V = 5;// Volumetric flow rate of initial air-water mixture in m^3/s\n",
"T2 = 70;// Final Dry-bulb temperature in degree celcius\n",
"\n",
"//By using the humidity chart and steam tables for air-water mixtures at the given temperatures, the all following data can be obtained\n",
"w = 0.018;// humidity at 25/30 degree celcius in kg/kg\n",
"Cpa_1 = 1.00*10^3;// Heat Capacity of bone dry air at 30 degree celcius in J/kg-K\n",
"Cpwv_1 = 1.88*10^3;// Heat Capacity of water vapour  at 30 degree celcius in J/kg-K\n",
"Cpa_2 = 1.008*10^3;// Heat Capacity of bone dry air at 70 degree celcius in J/kg-K\n",
"Cpwv_2 = 1.93*10^3;// Heat Capacity of water vapour at 70 degree celcius in J/kg-K\n",
"lo = 2.50*10^6;//  Specifc Latent heat of vapourisation  of water at 0 degree celcius in J/kg\n",
"\n",
"S_1 = Cpa_1 + (w*Cpwv_1);// the humid heat at 30 degree celcius in J/kg-K\n",
"S_2 = Cpa_2 + (w*Cpwv_2);//the humid heat at 70 degree celcius in J/kg-K\n",
"\n",
"hG_1 = ((S_1*T1) + (w*lo));//the specific enthalpy at 30 degree celcius in J/kg\n",
"hG_2 = ((S_2*T2) + (w*lo));//the specific enthalpy at 70 degree celcius in J/kg\n",
"VG_1 = ((1/29)+(w/18))*22.41*((T1 + 273)/273);// Humid volume at 30 degree celcius in m^3/kg\n",
"m = V/VG_1;// Mass flow rate in kg/s\n",
"Q = m*(hG_2 - hG_1);// in Watts\n",
"printf('The required heat is %3.2f W \n',Q)// Deviation in answer is due to some approximation in calculation in the book\n",
"\n",
"w_2 = w;// given in the question\n",
"VG_2 = ((1/29)+(w_2/18))*22.41*((T2 + 273)/273);// Humid volume at 70 degree celcius in m^3/kg\n",
"V_f = m*VG_2;;// in m^3/s\n",
"printf( 'The volumetric flow rate of initial air-water mixture is %3.2f m^3/s',V_f)\n",
""
   ]
   }
,
{
		   "cell_type": "markdown",
		   "metadata": {},
		   "source": [
			"## Example 5.1: Water_treatment.sce"
		   ]
		  },
  {
"cell_type": "code",
	   "execution_count": null,
	   "metadata": {
	    "collapsed": true
	   },
	   "outputs": [],
"source": [
"clear ;\n",
"clc;\n",
"// Example 5.1\n",
"printf('Example 5.1\n\n');\n",
"printf('Page No. 110\n\n');\n",
"\n",
"// given\n",
"Q = 0.30*10^6;// Heat transfer rate in W/sq.m\n",
"T1 = 540;// Mean gas temperature in degree celcius\n",
"T2 = 207;// Steam temperature in degree celcius\n",
"K_tube = 40;// Thermal conductivity of tube in W/m-K\n",
"K_scale = 2.5 ;// Thermal conductivity of scale in W/m-K\n",
"L_tube = 4*10^-3;// Length of tube in m\n",
"\n",
"// By Fourier equation and neglecting curvature effect, Q/A = [(T1- T2)/((L_tube/K_tube)+(L_scale/K_scale))]\n",
"L_scale = K_scale*(((T1-T2)/Q)-(L_tube/K_tube));\n",
"printf('The thickness of scale is %.4f m',L_scale)"
   ]
   }
,
{
		   "cell_type": "markdown",
		   "metadata": {},
		   "source": [
			"## Example 5.2: Properties_of_water.sce"
		   ]
		  },
  {
"cell_type": "code",
	   "execution_count": null,
	   "metadata": {
	    "collapsed": true
	   },
	   "outputs": [],
"source": [
"clear ;\n",
"clc;\n",
"// Example 5.2\n",
"printf('Example 5.2\n\n');\n",
"printf('Page No. 113\n\n');\n",
"\n",
"// given\n",
"T1 = 10;// in degree celcius\n",
"T2 = 70;// in degree celcius\n",
"d = 25*10^-3;// Inside diameter in m\n",
"v = 1.5;// veocity in m/s\n",
"\n",
"Tm = (T1+T2)/2;// Arithmetic Mean  temperature in degree celcius\n",
"// At Tm, All physical properties of water is calculated by using steam table\n",
"\n",
"//(a)Heat absorbed by water \n",
"p = 992;// Density of water in kg/m^3 At Tm\n",
"A = (%pi*d^2)/4;// Area in m^2\n",
"m = p*v*A;// Mass flow rate in kg/s\n",
"h_70 = 293*10^3;// Specific enthalpy of water in J/kg  at 70 degree celcius(from  steam table)\n",
"h_10 = 42*10^3;// Specific enthalpy of water in J/kg at 10 degree celcius(from  steam table)\n",
"Q = m*(h_70 - h_10);// in W\n",
"printf(' Heat absorbed by water is %.0f W \n',Q)\n",
"\n",
"//(b) Film heat transfer\n",
"//At Tm, the following properites of water are found by using steam table\n",
"u = 650*10^-6;// viscosity in Ns/m\n",
"Cp = 4180;//Specific heat in J/kg-s\n",
"K = 0.632;// Thermal conductivity in W/m-s\n",
"\n",
"\n",
"Re = (d*v*p)/u;//Reynolds Number // answer wrongly calculated in the text book\n",
"Pr = (Cp*u)/K;// Prandtl Number\n",
"Re_d = (Re)^0.8;\n",
"Pr_d = (Pr)^0.4;\n",
"\n",
"// By Dittus-Boelter Equation\n",
"//Nu = 0.0232 * Re^0.8 Pr^0.4 = (hd)/K\n",
"Nu = 0.0232 * Re_d * Pr_d;// Nusselt Number\n",
"h = (Nu*K)/d;//W/m^2-K\n",
"printf('The film heat transfer coefficient is %.0f W/sq.m K\n',h)// Deviation in answer due to direct substitution and wrongly calculated in the text book\n",
"\n",
""
   ]
   }
,
{
		   "cell_type": "markdown",
		   "metadata": {},
		   "source": [
			"## Example 5.3: Addition_of_heat_to_water.sce"
		   ]
		  },
  {
"cell_type": "code",
	   "execution_count": null,
	   "metadata": {
	    "collapsed": true
	   },
	   "outputs": [],
"source": [
"clear ;\n",
"clc;\n",
"// Example 5.3\n",
"printf('Example 5.3\n\n');\n",
"printf('Page No. 117\n\n');\n",
"\n",
"// given\n",
"T1 = 25;// in degree celcius\n",
"T2 = 212;// in degree celcius\n",
"x = 0.96;// dryness fraction\n",
"m = 1.25;// Mass flow rate in kg/s\n",
"\n",
"//from steam table\n",
"hL_212 = 907*10^3;// Specific enthalpy at 212 degree celcius in J/kg\n",
"hL_25 = 105*10^3;// Specific enthalpy at 25 degree celcius in J/kg\n",
"l_212 = 1890*10^3;// Latent heat of vapourisation at 212 degree celcius in J/kg\n",
"\n",
"Q = m*((hL_212+(x*l_212))-hL_25);// in W\n",
"printf('The required heat is %.0f W',Q)"
   ]
   }
,
{
		   "cell_type": "markdown",
		   "metadata": {},
		   "source": [
			"## Example 5.4: Thermal_efficiency.sce"
		   ]
		  },
  {
"cell_type": "code",
	   "execution_count": null,
	   "metadata": {
	    "collapsed": true
	   },
	   "outputs": [],
"source": [
"clear ;\n",
"clc;\n",
"// Example 5.4\n",
"printf('Example 5.4\n\n');\n",
"printf('Page No. 117\n\n');\n",
"\n",
"// given\n",
"T = 25;// in degree celcius\n",
"x = 0.96;// dryness fraction\n",
"m = 3.15;// Mass flow rate in kg/s\n",
"CV = 42.6*10^6;// Calorific value in J/kg\n",
"P = 15;// Pressure in bar\n",
"n = 0.8;// Efficiency\n",
"\n",
"//from steam table\n",
"hL_1 = 843*10^3;// Specific enthalpy in J/kg\n",
"hL_2 = 293*10^3;// Specific enthalpy  in J/kg\n",
"l_1 = 1946*10^3;// Latent heat of vapourisation at 70 degree celcius in J/kg\n",
"\n",
"Q = m*((hL_1+(x*l_1))-hL_2);// in W\n",
"Q_Ac = Q/n// Actual heat required in Watts\n",
"Oil = Q_Ac/CV;\n",
"printf('The oil required is %.3f kg/s',Oil)"
   ]
   }
,
{
		   "cell_type": "markdown",
		   "metadata": {},
		   "source": [
			"## Example 5.5: Condensing_Steam.sce"
		   ]
		  },
  {
"cell_type": "code",
	   "execution_count": null,
	   "metadata": {
	    "collapsed": true
	   },
	   "outputs": [],
"source": [
"clear ;\n",
"clc;\n",
"// Example 5.5\n",
"printf('Example 5.5\n\n');\n",
"printf('Page No. 120\n\n');\n",
"\n",
"// given\n",
"T1 = 134;// in degree celcius\n",
"T2 = 100;// in degree celcius\n",
"x = 0.96;// dryness fraction\n",
"m = 0.75;// Mass flow rate in kg/s\n",
"\n",
"//from steam table\n",
"hL_134 = 563*10^3;// Specific enthalpy at 134 degree celcius in J/kg\n",
"hL_100 = 419*10^3;// Specific enthalpy at 100 degree celcius in J/kg\n",
"l_134 = 2162*10^3;// Latent heat of vapourisation at 134 degree celcius in J/kg\n",
"\n",
"Q = m*((hL_134+(x*l_134))-hL_100);// in W\n",
"printf('The required heat is %.0f W',Q)// Deviation in answer due to direct substitution and some approximation in answer in book\n",
""
   ]
   }
,
{
		   "cell_type": "markdown",
		   "metadata": {},
		   "source": [
			"## Example 5.6: Direct_contact_condenser.sce"
		   ]
		  },
  {
"cell_type": "code",
	   "execution_count": null,
	   "metadata": {
	    "collapsed": true
	   },
	   "outputs": [],
"source": [
"clear ;\n",
"clc;\n",
"// Example 5.6\n",
"printf('Example 5.6\n\n');\n",
"printf('Page No. 120\n\n');\n",
"\n",
"// given\n",
"x = 0.90;// dryness fraction\n",
"m = 0.25;// Mass flow rate in kg/s\n",
"P = 0.7;// pressure in bar\n",
"T1 = 10;// in degree celcius\n",
"\n",
"//from steam table\n",
"h_10= 42*10^3;// Specific enthalpy  of water at 10 degree celcius in J/kg\n",
"h_25 = 105*10^3;// Specific enthalpy of water at 25 degree celcius in J/kg\n",
"h_30 = 126*10^3;// Specific enthalpy of water at 30 degree celcius in J/kg\n",
"h_s = 2432*10^3;// Specific enthalpy of steam in J/kg\n",
"\n",
"//(a)T2 = 25;\n",
"T2 = 25;// in degree celcius\n",
"// By heat balance, heat transfered at 10 degree celcius = heat gained at 25 degree celcius; '(m*h_s)+(h_10*y)= (m*h_25)+(h_25*y)'; where 'y' is the quqntity of water to be used at 25 degree celcius in kg/s\n",
"y = (m*(h_s-h_25)/(h_25-h_10));\n",
"printf('the quantity of water to be used at 25 degree celcius is %.2f kg/s \n',y)\n",
"\n",
"\n",
"//(b)T2 = 30;\n",
"T2 = 30;// in degree celcius\n",
"// By heat balance, heat transfered at 10 degree celcius = heat gained at 30 degree celcius; '(m*h_s)+(h_10*y)= (m*h_30)+(h_30*y)'; where 'z' is the quqntity of water to be used at 30 degree celcius in kg/s\n",
"z = (m*(h_s-h_30)/(h_30-h_10));\n",
"printf('the quantity of water to be used at 30 degree celcius is %.2f kg/s \n',z)\n",
"\n",
"\n",
"\n",
"\n",
""
   ]
   }
,
{
		   "cell_type": "markdown",
		   "metadata": {},
		   "source": [
			"## Example 5.7: Diameter_of_pipe.sce"
		   ]
		  },
  {
"cell_type": "code",
	   "execution_count": null,
	   "metadata": {
	    "collapsed": true
	   },
	   "outputs": [],
"source": [
"clear ;\n",
"clc;\n",
"// Example 5.7\n",
"printf('Example 5.7\n\n');\n",
"printf('Page No. 121\n\n');\n",
"\n",
"// given\n",
"x = 0.97;// dryness fraction\n",
"m = 4.0;// Mass flow rate in kg/s\n",
"v = 40;// velocity in m/s\n",
"P = 10;// pressure in bar\n",
"\n",
"//from steam table\n",
"Sp_vol = 0.194;// specific volume at 10 bar dry steam in m^3/kg\n",
"\n",
"Q = Sp_vol*x*m// Volumetric flow rate of steam in m^3/s\n",
"d = sqrt((Q*m)/(v*%pi));\n",
"printf('the required diameter of pipe is %.3f m',d)"
   ]
   }
,
{
		   "cell_type": "markdown",
		   "metadata": {},
		   "source": [
			"## Example 5.8: Superheated_steam.sce"
		   ]
		  },
  {
"cell_type": "code",
	   "execution_count": null,
	   "metadata": {
	    "collapsed": true
	   },
	   "outputs": [],
"source": [
"clear ;\n",
"clc;\n",
"// Example 5.8\n",
"printf('Example 5.8\n\n');\n",
"printf('Page No. 122\n\n');\n",
"\n",
"// given\n",
"T1 = 25;// in degree celcius\n",
"T2 = 450;// in degree celcius\n",
"m = 7.5;// Mass flow rate in kg/s\n",
"\n",
"//from steam table\n",
"hL_450 = 3303*10^3;// Specific enthalpy at 450 degree celcius in J/kg\n",
"hL_25 = 105*10^3;// Specific enthalpy at 25 degree celcius in J/kg\n",
"\n",
"Q = m*(hL_450 - hL_25);// in W\n",
"printf('The required heat is %.0f W',Q)// Deviation in answer due to direct substitution and some approximation in answer in book"
   ]
   }
,
{
		   "cell_type": "markdown",
		   "metadata": {},
		   "source": [
			"## Example 5.9: Wiredrawing.sce"
		   ]
		  },
  {
"cell_type": "code",
	   "execution_count": null,
	   "metadata": {
	    "collapsed": true
	   },
	   "outputs": [],
"source": [
"clear ;\n",
"clc;\n",
"// Example 5.9\n",
"printf('Example 5.9\n\n');\n",
"printf('Page No. 122\n\n');\n",
"\n",
"// given\n",
"P1 = 15;// Pressure at state 1 in bar\n",
"P2 = 1.5;// Pressure at state 2 in bar\n",
"T1 = 198;// in degree celcius\n",
"\n",
"// as the process is adiabatic; => Q = 0; => ehthalpy at state1 = enthalpy at state 2\n",
"h_1 = 2789*10^3;// specific enthalpy at state 1 in J/kg\n",
"h_2 = h_1;//specific enthalpy at state 2 in J/kg\n",
"\n",
"T3 = 150;// in degree celcius\n",
"T4 = 200;// in degree celcius\n",
"h_3 = 2773*10^3;// specific enthalpy at state 3 in J/kg\n",
"h_4 = 2873*10^3;// specific enthalpy at state 4 in J/kg\n",
"\n",
"// Assuming a liner realtionship between temperature and enthalpy for the temperature range 150-200 degree celcius\n",
"h = ((h_4 - h_3)/(T4 - T3));// specific enthalpy per degree celcius in J/kg-degC\n",
"t = ((h_2 - h_3)/h);// in degree celcius\n",
"T2 = T3 + t;// in degree celcius\n",
"printf('the temperature of the final superheated steam at 1.5 bar is %.0f deg C',T2)\n",
"\n",
""
   ]
   }
],
"metadata": {
		  "kernelspec": {
		   "display_name": "Scilab",
		   "language": "scilab",
		   "name": "scilab"
		  },
		  "language_info": {
		   "file_extension": ".sce",
		   "help_links": [
			{
			 "text": "MetaKernel Magics",
			 "url": "https://github.com/calysto/metakernel/blob/master/metakernel/magics/README.md"
			}
		   ],
		   "mimetype": "text/x-octave",
		   "name": "scilab",
		   "version": "0.7.1"
		  }
		 },
		 "nbformat": 4,
		 "nbformat_minor": 0
}
