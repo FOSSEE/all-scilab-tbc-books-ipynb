{
"cells": [
 {
		   "cell_type": "markdown",
	   "metadata": {},
	   "source": [
       "# Chapter 11: Heat recovery"
	   ]
	},
{
		   "cell_type": "markdown",
		   "metadata": {},
		   "source": [
			"## Example 11.10: Waste_heat_boilers.sce"
		   ]
		  },
  {
"cell_type": "code",
	   "execution_count": null,
	   "metadata": {
	    "collapsed": true
	   },
	   "outputs": [],
"source": [
"clear ;\n",
"clc;\n",
"// Example 11.10\n",
"printf('Example 11.10\n\n');\n",
"printf('Page No. 324\n\n');\n",
"\n",
"//given\n",
"Pr = 100;// Production in tonnes per day\n",
"p = 10.2;// percentage of sulphur dioxide\n",
"T1 = 900;//Burner temperature in degree celcius\n",
"T2 = 425;//Required temperature in degree celcius\n",
"P = 10;// Dry saturated steam pressure in bar\n",
"T = 120;// Dry saturated steam temperature in degree celcius\n",
"//At the given Temperature =T and Pressure P, the required heat Qr to geberate steam from feed water is calculated from the steam table.\n",
"Qr = 2.27*10^6;// in J/kg\n",
"\n",
"Sp_1 = 1.14*10^3;// Specific heat of the inlet gas in J/kmol-K\n",
"Sp_2 = 1.03*10^3;// Specific heat of the outlet gas in J/kmol-K\n",
"pr_rate = 1.2;// production rate in kmol/s\n",
"\n",
"//In the calculation part, the book has taken percentage of sulphur dioxide p = 10.6 in the place of p = 10.2, so there exists a deviation in answer\n",
"Q_in = ((Pr*pr_rate)/p) * Sp_1 * T1;// Heat content of the inlet gas in J/s\n",
"Q_out = ((Pr*pr_rate)/p) * Sp_2 * T2;// Heat content of the outlet gas in J/s\n",
"Qa = Q_in - Q_out;// Heat available for steam\n",
"S = Qa/Qr;// in kg/s\n",
"printf('The steam production is %.3f kg/s',S)//Deviation in answer is due to some wrong value substition as discussed above\n",
"\n",
"\n",
"\n",
"\n",
""
   ]
   }
,
{
		   "cell_type": "markdown",
		   "metadata": {},
		   "source": [
			"## Example 11.1: Shell_and_tube_heat_exchangers.sce"
		   ]
		  },
  {
"cell_type": "code",
	   "execution_count": null,
	   "metadata": {
	    "collapsed": true
	   },
	   "outputs": [],
"source": [
"clear ;\n",
"clc;\n",
"// Example 11.1\n",
"printf('Example 11.1\n\n');\n",
"printf('Page No. 308\n\n');\n",
"\n",
"//given\n",
"V = 205;// Flow rate in m^3\n",
"T1 = 74;// in degree celcius\n",
"T2 = 10;// in degree celcius\n",
"m = 1000;// Steam in kg\n",
"p = 950;// Density of steam in kg/m^3\n",
"C = 85;// Cost in Pound per m^3\n",
"C_V = 43.3*10^6;// Calorific value in J/kg\n",
"Cp = 4.18*10^3;// heat capacity of water J/kg-K\n",
"h = 2.33*10^6;// Heat of the steam in J/kg\n",
"n = 0.65;// Average bolier efficiency\n",
"\n",
"S_cost = ((m*h*C)/(C_V*p*n));// Steam cost in Pound per  1000 kg\n",
"E_save = V*m*(T1 - T2)*Cp;// Energy saving in J per day\n",
"S_save = E_save/h;// in kg per day\n",
"printf('the steam saving is %.0f kg per day \n',S_save)\n",
"G_save = (S_cost*S_save)/m;// Pound per day\n",
"printf('The gross saving is %.0f Pound per day per year',G_save)"
   ]
   }
,
{
		   "cell_type": "markdown",
		   "metadata": {},
		   "source": [
			"## Example 11.2: Multiple_effect_evaporatio.sce"
		   ]
		  },
  {
"cell_type": "code",
	   "execution_count": null,
	   "metadata": {
	    "collapsed": true
	   },
	   "outputs": [],
"source": [
"clear ;\n",
"clc;\n",
"// Example 11.2\n",
"printf('Example 11.2\n\n');\n",
"printf('Page No. 313\n\n');\n",
"\n",
"//given\n",
"p1 = 10;//heat-sensitive liquor percen\n",
"p2 = 50;//heat-sensitive liquor percent\n",
"m = 0.28;// mass rate in kg/s\n",
"t = 150;// time in h per week\n",
"\n",
"// This question does not contain any calculation part in it.\n",
"I = [8250 1150 14850 16500];//Installation cost in Pound\n",
"A = [69300 36800 23600 24600];// Annual steam cost in Pound\n",
"A_S = [A(1)-A(1) A(1)-A(2) A(1)-A(3) A(1)-A(4)];// Annual savings in Pound\n",
"\n",
"printf('\t\t CAPITAL AND OPERATING COSTS OF EVAPORATION PLANT\n\n\t \t\tInstallation \t\t Annual \t\t Annual saving\n   Type \t\t\t  cost \t\t\tsteam cost \t\t(to single effect)\n \t \t\t  (Pound) \t\t  (Pound) \t\t   (Pound)\n\nSingle effect \t\t  %.0f \t\t\t  %.0f \t\t\     %.0f \nDouble effect \t\t  %.0f \t\t\t  %.0f \t\t\     %.0f \nTriple effect + \n(vapour compression) \t  %.0f \t\t  %.0f \t\t\     %.0f \nTriple effect \t\t  %.0f \t\t  %.0f \t\t\     %.0f \n\n\n',I(1),A(1),A_S(1),I(2),A(2),A_S(2),I(3),A(3),A_S(3),I(4),A(4),A_S(4))\n",
"\n",
"\n",
"printf(' The results enable the return on investment to be assessed by one of the standard economic procedures and the final selsction made.')\n",
""
   ]
   }
,
{
		   "cell_type": "markdown",
		   "metadata": {},
		   "source": [
			"## Example 11.3: Vapour_recompressio.sce"
		   ]
		  },
  {
"cell_type": "code",
	   "execution_count": null,
	   "metadata": {
	    "collapsed": true
	   },
	   "outputs": [],
"source": [
"clear ;\n",
"clc;\n",
"// Example 11.3\n",
"printf('Example 11.3\n\n');\n",
"printf('Page No. 314\n\n');\n",
"\n",
"//given\n",
"f = 1;// feed of sodium hydroxide in kg\n",
"v = 0.5;// produed vapour in kg\n",
"A = 30;// in m^2\n",
"T1 = 95;// Temperature of boiling solution in deg C\n",
"U = 3*10^3;// heat transfer coefficent in W/m^2-K\n",
"m = 1;// feed rate in kg/s\n",
"Tf = 70;// Feed temperature in deg C\n",
"h_f = 260*10^3;// Enthalpy of feed in J/kg\n",
"h_b = 355*10^3;// Enthalpy of boiling solution in J/kg\n",
"h_v = 2.67*10^6;// Enthalpy of vapour in J/kg\n",
"P1 = 0.6;// Pressure in vapour space in bar\n",
"\n",
"Q = (v*h_b) + (v*h_v) -(f*h_f);// in W\n",
"printf('The total energy requirement is %.0f W \n',Q)\n",
"\n",
"// As Q = A*U*dT\n",
"dT = Q/(U*A);// in degree celcius\n",
"T2 = dT + T1;// in degree celcius\n",
"//The temperature of the heating steam T2 corresponds to a pressure of 1.4 bar. Dry saturated steam at 1.4 bar has a total enthalpy of 2.69*10^6 J/kg\n",
"//Assuming an isentropic compression of the vapour from 0.6 bar to 1.4 bar, the outlet enthalpy is 2.84*10^6 J/kg\n",
"\n",
"// from steam table\n",
"P2 = 1.4// pressure in bar\n",
"h_s = 2.69*10^6;// enthalpy of dry saturated steam in J/kg\n",
"h_v2 = 2.84*10^6 ;// the outlet enthalpy of vapour in J/kg\n",
"\n",
"W = v*(h_v2 - h_s);// Work in W\n",
"T_E = W + 60*10^3;// in W\n",
"printf('The total energy consumption is %.0f W',T_E)\n",
"\n",
"\n",
"\n",
""
   ]
   }
,
{
		   "cell_type": "markdown",
		   "metadata": {},
		   "source": [
			"## Example 11.4: Thermal_wheel.sce"
		   ]
		  },
  {
"cell_type": "code",
	   "execution_count": null,
	   "metadata": {
	    "collapsed": true
	   },
	   "outputs": [],
"source": [
"clear ;\n",
"clc;\n",
"// Example 11.4\n",
"printf('Example 11.4\n\n');\n",
"printf('Page No. 316\n\n');\n",
"\n",
"//given\n",
"Cm_S = 10000;// Company saving in Pound per annum\n",
"S = Cm_S/12;// Saving in Pound per months\n",
"Ca_C = 10500;// Capital cost in Pound\n",
"Ins_C = 7500;// Installation cost in Pound\n",
"T_C = Ca_C + Ins_C;// Total cost in Pound\n",
"T = T_C/S;// pay-back time in months\n",
"printf('The pay-back period was %.0f months\n',T)"
   ]
   }
,
{
		   "cell_type": "markdown",
		   "metadata": {},
		   "source": [
			"## Example 11.5: Heat_pipes.sce"
		   ]
		  },
  {
"cell_type": "code",
	   "execution_count": null,
	   "metadata": {
	    "collapsed": true
	   },
	   "outputs": [],
"source": [
"clear ;\n",
"clc;\n",
"// Example 11.5\n",
"printf('Example 11.5\n\n');\n",
"printf('Page No. 318\n\n');\n",
"\n",
"//From the heat balance:- \n",
"//Heat recovered in the boiler = heat gained by the air = heat lost by the flue gases\n",
"//=> Q = m_a*Cp_a*dT_a = m_f*Cp_f*dT_f\n",
"// As mass flow rate of air/flue gas is not given in the book\n",
"//Assuming m_a = m_f = 2.273 kg/s & Cp_a = 1*10^3 J/kg-K\n",
"\n",
"m_a = 2.273;// in kg/s\n",
"m_f = m_a;// in kg/s\n",
"Cp_a = 1*10^3;// Specific heat capacity of air in J/kg-K\n",
"T1_a = 20;// Entrance temperature of air in degree celcius\n",
"T2_a = 130;// Exit temperature of air in degree celcius\n",
"dT_a = T2_a - T1_a;//in K\n",
"T1_f = 260;// Entrance temperature of flue gases in degree celcius\n",
"T2_f = 155;// Entrance temperature of flue gases in degree celcius\n",
"dT_f = T1_f - T2_f;//in K\n",
"\n",
"//From heat balance:- Q = m_a*Cp_a*dT_a = m_f*Cp_f*dT_f\n",
"Cp_f = ((m_a*Cp_a*dT_a)/(m_f*dT_f));// in J/kg-K\n",
"Q = m_f*Cp_f*dT_f;// in W\n",
"printf('The total heat recovered at full load if %3.2e W',Q)"
   ]
   }
,
{
		   "cell_type": "markdown",
		   "metadata": {},
		   "source": [
			"## Example 11.6: Heat_pumps_and_COP.sce"
		   ]
		  },
  {
"cell_type": "code",
	   "execution_count": null,
	   "metadata": {
	    "collapsed": true
	   },
	   "outputs": [],
"source": [
"clear ;\n",
"clc;\n",
"// Example 11.6\n",
"printf('Example 11.6\n\n');\n",
"printf('Page No. 320\n\n');\n",
"\n",
"C = 10000;// Installation cost of the pump in Pound\n",
"S = 3500;// Saving in Pound per annum \n",
"T = C/S;// in year\n",
"printf('The pay back time is %.0f year\n\n',T)\n",
"\n",
"// This question further does not contain any calculation part in it.\n",
"printf('In a heat-pump system the work input to drive the compressor,W, produces a heat absorption capacity,Q2,\nand to balance the energy flow, a quantity of heat, Q1, must be dissipated.\nThus the energy equation is\n -> Q1 = W + Q2\nand the coeffient of performance is \nC.O.P. = Q1/W = Q1/(Q1 - Q2)\n   Consequently the C.O.P. is always greater than unity.\nThe maximum theoretical value of the C.O.P. is that predicted by the Carnot in chapter 2,namely :\n -> (C.O.P.)max = T1/(T1 - T2)')"
   ]
   }
,
{
		   "cell_type": "markdown",
		   "metadata": {},
		   "source": [
			"## Example 11.7: Coefficient_of_performance.sce"
		   ]
		  },
  {
"cell_type": "code",
	   "execution_count": null,
	   "metadata": {
	    "collapsed": true
	   },
	   "outputs": [],
"source": [
"clear ;\n",
"clc;\n",
"// Example 11.7\n",
"printf('Example 11.7\n\n');\n",
"printf('Page No. 320\n\n');\n",
"\n",
"//given\n",
"T1 = 40;// in degree \n",
"T2 = 0;// in degree celcius\n",
"//As from carnot cycle, C.O.P = (T1/(T1 - T2)), where temperature are in degree celcius\n",
"C_O_P1 = ((T1+273)/((T1+273) - (T2+273)));\n",
"printf('C.O.P. is %.1f \n',C_O_P1)\n",
"\n",
"// A secondary fluid as hot water at 60 deg C is used\n",
"T3 = 60;//  Temperature of hot water in degree celcius\n",
"C_O_P2 = ((T3+273)/((T3+273) - (T2+273)));\n",
"printf('C.O.P. when secondary fluid is used is %.1f \n',C_O_P2)"
   ]
   }
,
{
		   "cell_type": "markdown",
		   "metadata": {},
		   "source": [
			"## Example 11.8: Incineration_plant.sce"
		   ]
		  },
  {
"cell_type": "code",
	   "execution_count": null,
	   "metadata": {
	    "collapsed": true
	   },
	   "outputs": [],
"source": [
"clear ;\n",
"clc;\n",
"// Example 11.8\n",
"printf('Example 11.8\n\n');\n",
"printf('Page No. 323\n\n');\n",
"\n",
"// This question does not contain any calculation part in it.\n",
"printf('No calculation is required as not in shown in book')"
   ]
   }
,
{
		   "cell_type": "markdown",
		   "metadata": {},
		   "source": [
			"## Example 11.9: Regenerators.sce"
		   ]
		  },
  {
"cell_type": "code",
	   "execution_count": null,
	   "metadata": {
	    "collapsed": true
	   },
	   "outputs": [],
"source": [
"clear ;\n",
"clc;\n",
"// Example 11.9\n",
"printf('Example 11.9\n\n');\n",
"printf('Page No. 324\n\n');\n",
"\n",
"//given\n",
"T1 = 273;// Measured temperature In degree celcius\n",
"P = 1;// Measured pressure in bar\n",
"T2 = 290;// initial temperature In degree celcius\n",
"T3 = 1000;// Final temperature In degree celcius\n",
"T4 = 1150;// Entering tempearture In degree celcius\n",
"v1 = 7;// in m^3/s\n",
"v2 = 8;// in m^s\n",
"M = 22.7;// in kmol/m^3\n",
"d = 0.1;// Diameter in m\n",
"A = 0.01;// Surface area per regenerator channel in m^2\n",
"u = 1;// maximum velocity in m/s\n",
"Cp_1 = 34*10^3;// Heat capacity at T4 temperature in J/kmol-K\n",
"Cp_2 = 32*10^3;// Heat capacity at outlet temperature in J/kmol-K\n",
"Cp_m = 30*10^3;// Heat capacity at mean temperature in J/kmol-K\n",
"\n",
"m_c = v1/M;//  Molal air flow rate in kmol/s\n",
"H_c1 = Cp_m*(T3 - T1);// Enthalpy of air at 1000K in J/mol\n",
"H_c2 = Cp_m*(T2 - T1);// Enthalpy of air at 290 in J/mol\n",
"Q = (m_c*(H_c1 - H_c2))/10^6;// in 10^6 W\n",
"printf('The heat transfer, Q is %.1f *10^6 W \n',Q)\n",
"\n",
"m_F = v2/M;//  Molal flow rate of flue gas in kmol/s\n",
"dH = (Q/m_F)*10^6;// enthaply chnage of the flue gas in J/kmol\n",
"H_F1 = Cp_1*(T4 - T1);// Enthalpy of the flue gas at 1150 K in J/kmol\n",
"H_F2 =H_F1 - dH;// Enthalpy at the exit temperature in J/kmol\n",
"T_F2 = (H_F2/Cp_2) + T1;// in K\n",
"printf('The exit tempearture of the flue gas is %.0f K \n',T_F2)\n",
"S_R = v2/u;//cross sectional area of the regenerator in m^2\n",
"N = S_R/A;\n",
"printf('The number of channels required is %.0f \n',N)\n",
"printf('Consequently for this regenerator a square layout could be achieved with 40 channels arranged horizontally and 20 channels vertically.')\n",
"\n",
"\n",
"\n",
"\n",
""
   ]
   }
],
"metadata": {
		  "kernelspec": {
		   "display_name": "Scilab",
		   "language": "scilab",
		   "name": "scilab"
		  },
		  "language_info": {
		   "file_extension": ".sce",
		   "help_links": [
			{
			 "text": "MetaKernel Magics",
			 "url": "https://github.com/calysto/metakernel/blob/master/metakernel/magics/README.md"
			}
		   ],
		   "mimetype": "text/x-octave",
		   "name": "scilab",
		   "version": "0.7.1"
		  }
		 },
		 "nbformat": 4,
		 "nbformat_minor": 0
}
