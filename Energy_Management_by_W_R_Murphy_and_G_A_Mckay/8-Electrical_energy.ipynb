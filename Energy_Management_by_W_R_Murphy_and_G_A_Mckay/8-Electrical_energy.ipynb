{
"cells": [
 {
		   "cell_type": "markdown",
	   "metadata": {},
	   "source": [
       "# Chapter 8: Electrical energy"
	   ]
	},
{
		   "cell_type": "markdown",
		   "metadata": {},
		   "source": [
			"## Example 8.10: Effects_of_power_factor_improvement.sce"
		   ]
		  },
  {
"cell_type": "code",
	   "execution_count": null,
	   "metadata": {
	    "collapsed": true
	   },
	   "outputs": [],
"source": [
"clear ;\n",
"clc;\n",
"// Example 8.10\n",
"printf('Example 8.10\n\n');\n",
"printf('Page No. 240\n\n');\n",
"\n",
"P = 100;// Power in 10^3 W\n",
"C = 5;// Charge in Euro per 10^3 per month\n",
"PF = [1.0 0.9 0.8 0.7 0.6 0.5];// Power factor \n",
"for i = [1:1:6]\n",
"    VA = (PF(i)\P)*C\n",
"    printf('Charge per month for power factor %.1f is %.0f Euro \n', PF(i),VA)\n",
"end"
   ]
   }
,
{
		   "cell_type": "markdown",
		   "metadata": {},
		   "source": [
			"## Example 8.11: Effects_of_power_factor_improvement.sce"
		   ]
		  },
  {
"cell_type": "code",
	   "execution_count": null,
	   "metadata": {
	    "collapsed": true
	   },
	   "outputs": [],
"source": [
"clear ;\n",
"clc;\n",
"// Example 8.11\n",
"printf('Example 8.11\n\n');\n",
"printf('Page No. 240\n\n');\n",
"\n",
"// This question doesnot contain any calculation part.\n",
"//given\n",
"P_F_1 = 0.7;// Initial power factor\n",
"P_F_2 = 0.95;// Final power factor\n",
"//Refer Figure 8.10\n",
"red_I = 26;//reduction in current in per cent\n",
"printf('The reduction in current is %.0f per cent \n',red_I)\n",
"P_F_3 = 1.0;// Increased power factor\n",
"// From figure 8.10\n",
"Save = 4;// per cent\n",
"printf('Increase in power factor from 0.95-1.0 only increases saving further by a %.0f per cent',Save)\n",
""
   ]
   }
,
{
		   "cell_type": "markdown",
		   "metadata": {},
		   "source": [
			"## Example 8.12: Effects_of_power_factor_improvement.sce"
		   ]
		  },
  {
"cell_type": "code",
	   "execution_count": null,
	   "metadata": {
	    "collapsed": true
	   },
	   "outputs": [],
"source": [
"clear ;\n",
"clc;\n",
"// Example 8.12\n",
"printf('Example 8.12\n\n');\n",
"printf('Page No. 240\n\n');\n",
"\n",
"// This question doesnot contain any calculation part.\n",
"//given\n",
"C = 10000;// Installation cost of capacitors in Pound\n",
"P_F_1 = 0.84;// Initial power factor\n",
"P_F_2 = 0.97;// Final power factor\n",
"//Refer Figure 8.10\n",
"red_dem = 14;//reduction in maximum demand in per cent\n",
"T = 9;// pay-back time in months\n",
"\n",
"printf('The reduction in maximum demand is %.0f per cent \n',red_dem)\n",
"printf('The pay-back time was %.0f months',T)\n",
"// This question does not contain any calculation part."
   ]
   }
,
{
		   "cell_type": "markdown",
		   "metadata": {},
		   "source": [
			"## Example 8.13: Optimum_start_control.sce"
		   ]
		  },
  {
"cell_type": "code",
	   "execution_count": null,
	   "metadata": {
	    "collapsed": true
	   },
	   "outputs": [],
"source": [
"clear ;\n",
"clc;\n",
"// Example 8.13\n",
"printf('Example 8.13\n\n');\n",
"printf('Page No. 244\n\n');\n",
"\n",
"//given\n",
"T1 = 21;// in degree celcius\n",
"t1 = 8;// time in h per day\n",
"c = 3.5;// cost in p per unit\n",
"C1 = 38;// Total cost in Pound per 10^3 W\n",
"\n",
"T2 = 16;// in degree celcius\n",
"t2 = 8;// time in h per day\n",
"C2 = 27;// Total cost in Pound per 10^3 W\n",
"\n",
"Save = C1 - C2;// Saving in Pound per 10^3 W\n",
"Save_deg = Save/(T1 - T2);// Total Saving in Pound per 10^3 W for each degree drop\n",
"Save_per = (Save_deg/C1)*100;// Saving in percent\n",
"printf('For each degree drop, an energy saving of %.0f per cent is achieved',floor(Save_per))\n",
""
   ]
   }
,
{
		   "cell_type": "markdown",
		   "metadata": {},
		   "source": [
			"## Example 8.14: Induction_heating.sce"
		   ]
		  },
  {
"cell_type": "code",
	   "execution_count": null,
	   "metadata": {
	    "collapsed": true
	   },
	   "outputs": [],
"source": [
"clear ;\n",
"clc;\n",
"// Example 8.14\n",
"printf('Example 8.14\n\n');\n",
"printf('Page No. 245\n\n');\n",
"\n",
"// This question doesnot contain any calculation part.\n",
"//refer Table 8.6\n",
"O_1 = 1750;\n",
"O_2 = 0;\n",
"O_3 = 2;\n",
"O_4 = 150;\n",
"O_5 = 1900;\n",
"O_6 = 0;\n",
"I_1 = 580;\n",
"I_2 = 1658;\n",
"I_3 = 0.5;\n",
"I_4 = 40;\n",
"I_5 = 1698;\n",
"I_6 = 11;\n",
"D_1 = 300;\n",
"D_2 = 869;\n",
"D_3 = 0.5;\n",
"D_4 = 40;\n",
"D_5 = 900;\n",
"D_6 = 37;\n",
"printf('\t ENERGY COSTS FOR HEATING STEEL BILLETS\n\n Components(10^3 W/tonne) \t (1)Oil fired \t   (2)Induction \t (3)Direct resistance\n Fuel(electricity) \t\t %.0f   \t \t %.0f    \t \t%.0f\n Electricity(as prime energy)    %.0f   \t\t \t %.0f    \t \t%.0f\n Metal loss(percent)\t\t %.0f \t\t \t %.1f    \t \t%.1f\n Metal loss (as energy)\t\t %.0f \t\t \t %.0f     \t \t%.0f\n Total energy needs\t\t %.0f \t\t \t %.0f    \t \t%.0f\n Energy saving to(1)\t\t %.0f \t\t \t %.0f    \t\t \t%.0f\n',O_1,I_1,D_1,O_2,I_2,D_2,O_3,I_3,D_3,O_4,I_4,D_4,O_5,I_5,D_5,O_6,I_6,D_6)\n",
"\n",
"\n",
"\n",
"\n",
"\n",
""
   ]
   }
,
{
		   "cell_type": "markdown",
		   "metadata": {},
		   "source": [
			"## Example 8.15: Atmosphere_generators.sce"
		   ]
		  },
  {
"cell_type": "code",
	   "execution_count": null,
	   "metadata": {
	    "collapsed": true
	   },
	   "outputs": [],
"source": [
"clear ;\n",
"clc;\n",
"// Example 8.15\n",
"printf('Example 8.15\n\n');\n",
"printf('Page No. 247\n\n');\n",
"\n",
"// This question doesnot contain any calculation part.\n",
"//refer Table 8.7\n",
"El = 35;// Percentage of electricity produced from primary fuel\n",
"En_1 = 50;// Endothermic gas (m^3)\n",
"En_2 = 100;// Endothermic gas (m^3)\n",
"En_3 = 200;// Endothermic gas (m^3)\n",
"G_1 = 97;// Gas use (10^3 Wh)\n",
"G_2 = 194;// Gas use (10^3 Wh)\n",
"G_3 = 386;// Gas use (10^3 Wh)\n",
"El_1 = 24;// Electricity use (10^3 Wh)\n",
"El_2 = 48;// Electricity use (10^3 Wh)\n",
"El_3 = 95;// Electricity use (10^3 Wh)\n",
"P_1 = 69;// Primary energy (10^3 Wh)\n",
"P_2 = 137;// Primary energy (10^3 Wh)\n",
"P_3 = 271;// Primary energy (10^3 Wh)\n",
"printf('    USE OF ELECTRICITY AND GAS FOR HEATING ENDOTHERMIC GAS GENERATORS\n\n  Endothermic gas (m^3) \t %.0f \t %.0f \t %.0f \n  Gas use (10^3 Wh)       \t %.0f \t %.0f \t %.0f \n  Electricity use (10^3 Wh) \t %.0f \t %.0f \t %.0f \n  Primary energy (10^3 Wh) \t %.0f \t %.0f \t %.0f \n',En_1,En_2,En_3,G_1,G_2,G_3,El_1,El_2,El_3,P_1,P_2,P_3)\n",
""
   ]
   }
,
{
		   "cell_type": "markdown",
		   "metadata": {},
		   "source": [
			"## Example 8.1: Ohms_law.sce"
		   ]
		  },
  {
"cell_type": "code",
	   "execution_count": null,
	   "metadata": {
	    "collapsed": true
	   },
	   "outputs": [],
"source": [
"clear ;\n",
"clc;\n",
"// Example 8.1\n",
"printf('Example 8.1\n\n');\n",
"printf('Page No. 222\n\n');\n",
"\n",
"// given\n",
"V = 240;// Voltage in Volts\n",
"I = 8;// Current in Amps\n",
"//By ohm's law-> V = I*R\n",
"R = V/I;// In ohms\n",
"printf('The resistance of the given circuit is %.0f ohms',R)"
   ]
   }
,
{
		   "cell_type": "markdown",
		   "metadata": {},
		   "source": [
			"## Example 8.2: Kirchhoff_law.sce"
		   ]
		  },
  {
"cell_type": "code",
	   "execution_count": null,
	   "metadata": {
	    "collapsed": true
	   },
	   "outputs": [],
"source": [
"clear ;\n",
"clc;\n",
"// Example 8.2\n",
"printf('Example 8.2\n\n');\n",
"printf('Page No. 223\n\n');\n",
"\n",
"// given\n",
"V1 = 100;// In Volts\n",
"V2 = 50;// In Volts\n",
"R1 = 8;// Resistance in ohm\n",
"R2 = 5;// Resistance in ohm\n",
"R3 = 10;// Resistance in ohm\n",
"R4 = 50;// Resistance in ohm\n",
"//By refering figure 8.3, and applying kirchoff's current law and kirchoff's voltage law in the given circuit diagram, we get following equations:\n",
"// I1 = I2 + I3\n",
"//V1 - R1*I1 - V2 - R3*I3 = 0\n",
"//V2 - R4*I3 + R3*I3 - R2*I2 = 0\n",
"A = [1 -1 -1;8 0 10;0 55 -10];\n",
"b = [0;50;50];\n",
"x = A\b\n",
"printf('The currents in I1 is %.1f A \n',x(1))\n",
"printf('The currents in I2 is %.1f A \n',x(2))\n",
"printf('The currents in I3 is %.1f A \n ',x(3))"
   ]
   }
,
{
		   "cell_type": "markdown",
		   "metadata": {},
		   "source": [
			"## Example 8.3: Power_factor.sce"
		   ]
		  },
  {
"cell_type": "code",
	   "execution_count": null,
	   "metadata": {
	    "collapsed": true
	   },
	   "outputs": [],
"source": [
"clear ;\n",
"clc;\n",
"// Example 8.3\n",
"printf('Example 8.3\n\n');\n",
"printf('Page No. 226\n\n');\n",
"\n",
"// given\n",
"R = 6;// Resistance in ohm\n",
"Xc = 16;// Capacitive resistance in ohm\n",
"Xl = 24;// Inductive resistance in ohm\n",
"Z = ((R^2) + (Xc - Xl)^2)^0.5;// Impedance in ohm\n",
"P_f = R/Z;// Power factor = cos(x) = 0.6\n",
"x = acos(0.6);\n",
"y = sqrt(1 - P_f^2);//y = sin (x)\n",
"V = 200;// in Volts(sin wave voltage = ((200*2^1.5)*sinwt)\n",
"I = V/Z;// Current in Amperes\n",
"P = I^2 * R;// in W\n",
"Q = V * I * y;// in VAR\n",
"S = V * I;// in VA\n",
"printf('The actual power is %.0f W \n',P)\n",
"printf('The reactive power is %.0f VAR \n',Q)\n",
"printf('The apparent power is %.0f VA \n',S)\n",
"\n",
"\n",
""
   ]
   }
,
{
		   "cell_type": "markdown",
		   "metadata": {},
		   "source": [
			"## Example 8.4: Cost_of_electrical_energy.sce"
		   ]
		  },
  {
"cell_type": "code",
	   "execution_count": null,
	   "metadata": {
	    "collapsed": true
	   },
	   "outputs": [],
"source": [
"clear ;\n",
"clc;\n",
"// Example 8.4\n",
"printf('Example 8.4\n\n');\n",
"printf('Page No. 232\n\n');\n",
"\n",
"//given\n",
"pump_1 = 100*10^3;// Required pump in W\n",
"T_1 = 8;// Pump Operating time of each day\n",
"Inc_op = 0.5;// Increased output per cent\n",
"pump_ex = 50*10^3;// Extra pump requried in W\n",
"\n",
"// This question doesnot contain any calculation part.\n",
"printf('there is no computational part in the problem')\n",
""
   ]
   }
,
{
		   "cell_type": "markdown",
		   "metadata": {},
		   "source": [
			"## Example 8.5: Annual_saving.sce"
		   ]
		  },
  {
"cell_type": "code",
	   "execution_count": null,
	   "metadata": {
	    "collapsed": true
	   },
	   "outputs": [],
"source": [
"clear ;\n",
"clc;\n",
"// Example 8.5\n",
"printf('Example 8.5\n\n');\n",
"printf('Page No. 232\n\n');\n",
"\n",
"//given\n",
"P = 600*10^3;// Power demand of pump in W\n",
"T = 8;// Operating time in hour per day\n",
"red = 1.00/10^3;// off-peak reduction in Pound per 10^3 W month\n",
"M_save = P*red;//  Monthly saving Pound per month\n",
"A_save = M_save*12;// Annual saving in Pound per year\n",
"printf('Annual saving is %.0f Pound per year',A_save)"
   ]
   }
,
{
		   "cell_type": "markdown",
		   "metadata": {},
		   "source": [
			"## Example 8.6: Illumination.sce"
		   ]
		  },
  {
"cell_type": "code",
	   "execution_count": null,
	   "metadata": {
	    "collapsed": true
	   },
	   "outputs": [],
"source": [
"clear ;\n",
"clc;\n",
"// Example 8.6\n",
"printf('Example 8.6\n\n');\n",
"printf('Page No. 234\n\n');\n",
"\n",
"//given\n",
"T_lamp = 12*10^3;// Output for the tungsten filament lamp in lm per 10^3 W\n",
"F_tube = 63*10^3;// Output for the fluorescent tubes in lm per 10^3 W\n",
"Save = F_tube - T_lamp;//  in W\n",
"printf('Energy saving is %.0f lm per 10^3 W \n',Save)\n",
"\n",
"Save_pcent = (Save/F_tube)*100;\n",
"printf('Energy saving per cent is %.0f ',floor(Save_pcent))"
   ]
   }
,
{
		   "cell_type": "markdown",
		   "metadata": {},
		   "source": [
			"## Example 8.7: Natural_lighting.sce"
		   ]
		  },
  {
"cell_type": "code",
	   "execution_count": null,
	   "metadata": {
	    "collapsed": true
	   },
	   "outputs": [],
"source": [
"clear ;\n",
"clc;\n",
"// Example 8.7\n",
"printf('Example 8.7\n\n');\n",
"printf('Page No. 235\n\n');\n",
"\n",
"//given\n",
"N = 40;// Number of lamps\n",
"T1 = 15;// Operating time in h per day\n",
"P = 500;// POwer from the lamps in W\n",
"T2 = 300;// Total operating time in days per year\n",
"C = 2.5/10^3;// Electricity cost in p per Wh\n",
"\n",
"An_Cost = N*P*T1*T2*C*10^-2;// In euro\n",
"printf('The Annual Cost is %.0f Euro \n',An_Cost)\n",
"\n",
"//Improvement in light by installing glassfibre skylights\n",
"T3 = 5;//   Extra Time for natural lighting in h per day\n",
"New_An_Cost = N*P*(T1-T3)*T2*C*10^-2;// In euro\n",
"printf('The New Annual Cost is %.0f Euro \n',New_An_Cost)\n",
"\n",
"Save = An_Cost - New_An_Cost;// in euro\n",
"printf('The annual saving for a pay-back period of 2.5 years is %.0f ',Save)\n",
"\n",
""
   ]
   }
,
{
		   "cell_type": "markdown",
		   "metadata": {},
		   "source": [
			"## Example 8.8: Motive_power_and_power_factor_improvement.sce"
		   ]
		  },
  {
"cell_type": "code",
	   "execution_count": null,
	   "metadata": {
	    "collapsed": true
	   },
	   "outputs": [],
"source": [
"clear ;\n",
"clc;\n",
"// Example 8.8\n",
"printf('Example 8.8\n\n');\n",
"printf('Page No. 236\n\n');\n",
"\n",
"// This question doesnot contain any calculation part.\n",
"\n",
"//By refering figure 8.7 which shows Poer factor-load curve for a motor with a capacitor and one without a capacitor.\n",
"printf('there is no computational part in the problem')"
   ]
   }
,
{
		   "cell_type": "markdown",
		   "metadata": {},
		   "source": [
			"## Example 8.9: Capacitor_rating.sce"
		   ]
		  },
  {
"cell_type": "code",
	   "execution_count": null,
	   "metadata": {
	    "collapsed": true
	   },
	   "outputs": [],
"source": [
"clear ;\n",
"clc;\n",
"// Example 8.9\n",
"printf('Example 8.9\n\n');\n",
"printf('Page No. 238\n\n');\n",
"\n",
"// This question doesnot contain any calculation part.\n",
"//given\n",
"l = 500*10^3;// Load in VA\n",
"P_F = 0.6;// Power Factor\n",
"Req_P_F = 0.9;// Required power factor\n",
"//Refer to figure 8.8\n",
"BC = 2.5;// units\n",
"C_rt = 250*10^3;// in VAR (obtained from figure 8.8)\n",
"printf('The required condenser rating is %.0f \n',C_rt)\n",
""
   ]
   }
],
"metadata": {
		  "kernelspec": {
		   "display_name": "Scilab",
		   "language": "scilab",
		   "name": "scilab"
		  },
		  "language_info": {
		   "file_extension": ".sce",
		   "help_links": [
			{
			 "text": "MetaKernel Magics",
			 "url": "https://github.com/calysto/metakernel/blob/master/metakernel/magics/README.md"
			}
		   ],
		   "mimetype": "text/x-octave",
		   "name": "scilab",
		   "version": "0.7.1"
		  }
		 },
		 "nbformat": 4,
		 "nbformat_minor": 0
}
