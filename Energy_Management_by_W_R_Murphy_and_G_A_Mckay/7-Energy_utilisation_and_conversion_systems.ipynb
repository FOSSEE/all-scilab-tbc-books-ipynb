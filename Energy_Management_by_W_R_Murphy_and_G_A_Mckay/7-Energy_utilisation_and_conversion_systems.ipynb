{
"cells": [
 {
		   "cell_type": "markdown",
	   "metadata": {},
	   "source": [
       "# Chapter 7: Energy utilisation and conversion systems"
	   ]
	},
{
		   "cell_type": "markdown",
		   "metadata": {},
		   "source": [
			"## Example 7.1: Combustion_process.sce"
		   ]
		  },
  {
"cell_type": "code",
	   "execution_count": null,
	   "metadata": {
	    "collapsed": true
	   },
	   "outputs": [],
"source": [
"clear ;\n",
"clc;\n",
"// Example 7.1\n",
"printf('Example 7.1\n\n');\n",
"printf('Page No. 201\n\n');\n",
"\n",
"// given\n",
"C = 220*10^3;//Original annual cost of fuel in Pound\n",
"O_E = 73;// Original Efficiency\n",
"Fl_i = 20;// Initial Flue loss \n",
"Fl_f = 18.7;// Final Flue loss \n",
"N_E = O_E + (Fl_i - Fl_f);// New Efficiency\n",
"F_save = C*((N_E-O_E)/N_E);\n",
"printf('Fuel saving is %.0f Pound',F_save)\n",
"//Deviation in answer is due to some wrong calculation the book, instead of new efficiency in the denominator in line 13, the book has taken original efficiency"
   ]
   }
,
{
		   "cell_type": "markdown",
		   "metadata": {},
		   "source": [
			"## Example 7.2: Financial_saving_and_capital_cost.sce"
		   ]
		  },
  {
"cell_type": "code",
	   "execution_count": null,
	   "metadata": {
	    "collapsed": true
	   },
	   "outputs": [],
"source": [
"clear ;\n",
"clc;\n",
"// Example 7.2\n",
"printf('Example 7.2\n\n');\n",
"printf('Page No. 201\n\n');\n",
"\n",
"//From Example 2.1\n",
"\n",
"// given\n",
"C= 35000;// cost of boiler  in Pound\n",
"C_grant=.25;// Capital grant available from goverment\n",
"E= -(C-(C_grant*C));// Net expenditure\n",
"Fs= 15250;// Fuel Saving\n",
"r_i = 0.15;// interest\n",
"r_t = 0.55;// tax\n",
"\n",
"a = [0 E Fs 0 E+Fs r_i*(E+Fs) 0 ]\n",
"bal_1 = a(5)+a(6)-a(7)// Total Balance after 1st year\n",
"\n",
"c_all = 0.55;// capital allowance in 2nd year\n",
"C_bal= (bal_1+0+Fs+(-(c_all*E)));// Cash Balance after 2nd year\n",
"b = [bal_1 0 Fs -(c_all*E) C_bal r_i*C_bal r_t*(Fs+(r_i*C_bal))];\n",
"bal_2 = b(5)+b(6)-b(7)//Total  Balance after 2nd year\n",
"\n",
"c = [bal_2 0 Fs 0 bal_2+Fs r_i*(bal_2+Fs) r_t*(Fs+(r_i*(bal_2+Fs)))]\n",
"bal_3= c(5)+c(6)-c(7)// Total  Balance after 3rd year\n",
"\n",
"if(bal_2>0) then\n",
"    disp('Pay back period is of two year')\n",
"else\n",
"    disp('Pay back period is of three year')\n",
"end\n",
"\n",
"printf('Total saving at the end of second year is %3.0f Pound\n',bal_2);\n",
"printf('Total saving at the end of third year is %3.0f Pound\n\n',bal_3);\n",
"// Deviation in answer due to direct substitution\n",
"\n",
"\n",
"printf('The data in example 2.1 indicated that:- \n Saving could be made by replacing exising oil-fired burners by new burners requiring considerably less atomising steam.\n The financial saving are 15.25*10^3 Pound per year for an insulation and capital cost of 35*10^3 Pound.')"
   ]
   }
,
{
		   "cell_type": "markdown",
		   "metadata": {},
		   "source": [
			"## Example 7.3: Heat_loss_in_flue_gas_and_ashes.sce"
		   ]
		  },
  {
"cell_type": "code",
	   "execution_count": null,
	   "metadata": {
	    "collapsed": true
	   },
	   "outputs": [],
"source": [
"clear;\n",
"clc;\n",
"// Example 7.3\n",
"printf('Example 7.3\n\n');\n",
"printf('Page No. 203\n\n');\n",
"\n",
"// given\n",
"C = 250*10^3;//Original annual cost of fuel in Pound\n",
"O_E = 71.5;// Original Efficiency\n",
"Fl_i = 20;// Initial Flue loss \n",
"Fl_f = 17.5;// Final Flue loss \n",
"N_E = O_E + (Fl_i - Fl_f);// New Efficiency\n",
"F_save = C*((N_E-O_E)/N_E);// in Pound\n",
"printf('Fuel saving is %.0f Pound per year',F_save)\n",
"//Deviation in answer is due to some calculation approximation the book"
   ]
   }
,
{
		   "cell_type": "markdown",
		   "metadata": {},
		   "source": [
			"## Example 7.4: Furnace_efficiency.sce"
		   ]
		  },
  {
"cell_type": "code",
	   "execution_count": null,
	   "metadata": {
	    "collapsed": true
	   },
	   "outputs": [],
"source": [
"clear;\n",
"clc;\n",
"// Example 7.4\n",
"printf('Example 7.4\n\n');\n",
"printf('Page No. 204\n\n');\n",
"\n",
"// This question doesnot contain any calculation part.\n",
"//Refer figure 7.3, 7.4, 7.5\n",
"T_max = 200;// Flue gas exit temperature in degree celcius\n",
"printf(' The company investigate four alternative methods of heat abstraction using the flue gas.\n\n  System-1   The efficiency of the furnace without any air preheater is 79.2 per cent.\n  System-2   The efficiency of the furnace, with the air preheater only in the system operating as shown in figure 7.3, is increased to 86.6 per cent.\n  System-3   By the incorporation of the heat exchanger,the furnace efficiency is increased to 93.3 per cent using the arrangement shown in figure 7.4.\n  System-4   Using no preheating,finally achievied an overall thermal  efficiency of 93.7 per cent.\n  \t     The new air preheater scheme is shown in figure 7.5.\n\n The pay-back period in all instances is less than 3.5 years.')"
   ]
   }
,
{
		   "cell_type": "markdown",
		   "metadata": {},
		   "source": [
			"## Example 7.5: Insulation.sce"
		   ]
		  },
  {
"cell_type": "code",
	   "execution_count": null,
	   "metadata": {
	    "collapsed": true
	   },
	   "outputs": [],
"source": [
"clear ;\n",
"clc;\n",
"// Example 7.5\n",
"printf('Example 7.5\n\n');\n",
"printf('Page No. 205\n\n');\n",
"\n",
"//The temperature difference is not given the question.\n",
"//Refer Table 7.1\n",
"T1 = 1000;// Furnace operating temperature in degree celcius\n",
"//T2 is  back calculated by the first condition given in table 7.1 and applying Fourier,s law of condition\n",
"T2 = 997.9545;// in degree Celcius()\n",
"dT = T1 - T2;// in degree celcius\n",
"t = 120;// Continuous cycle time in h\n",
"K1 = 44;// Thermal conductivity (W/m-K)\n",
"K2 = 11;// Thermal conductivity (W/m-K)\n",
"K3 = 4;// Thermal conductivity (W/m-K)\n",
"x1 = 250*10^-3;// mm converted into m\n",
"x2 = 50*10^-3;// mm converted into m\n",
"dT = T1 - T2;// in K\n",
"\n",
"//By Fourier,s law of heat conduction- Q = (dT *K)/x in W/sq.m\n",
"\n",
"//For 250 mm firebrick\n",
"Q1 = (dT *K1)/x1;// im W/sq.m\n",
"printf('Energy losses by 250 mm firebrick is %.0f W/sq.m \n',Q1)\n",
"\n",
"//For 250 mm hot-face insulation\n",
"Q2 = (dT *K2)/x1;// im W/sq.m\n",
"printf('Energy losses by 250 mm hot-face insulation is %.0f W/sq.m \n',Q2) //Deviation in answer is due to assumption of T2 as its not mentioned in the question\n",
"\n",
"//For 250 mm hot-face insulation backed by 50 mm insulation\n",
"//As the resistances are in series - R = (x1/K1)+ (x2/K2) and Q = dt/R in W/sq.m\n",
"R = (x1/K2)+ (x2/K3);// in ohm\n",
"Q3 = dT/R;// in W/sq.m\n",
"printf('Energy losses by 250 mm hot-face insulation backed by 50 mm insulation is %.0f W/sq.m \n\n',Q3) //Deviation in answer is due to assumption of T2 as its not mentioned in the question\n",
"\n",
""
   ]
   }
,
{
		   "cell_type": "markdown",
		   "metadata": {},
		   "source": [
			"## Example 7.6: Heat_recovery.sce"
		   ]
		  },
  {
"cell_type": "code",
	   "execution_count": null,
	   "metadata": {
	    "collapsed": true
	   },
	   "outputs": [],
"source": [
"clear ;\n",
"clc;\n",
"// Example 7.6\n",
"printf('Example 7.6\n\n');\n",
"printf('Page No. 209\n\n');\n",
"\n",
"// given\n",
"P = 150*10^3;// Power of compressor in W\n",
"F_load = .78;// full load percentage of the time\n",
"Re = .7;//  Heat Recovery\n",
"T = 2200;//Compressor operating time in h/year\n",
"C = 20*10^-6;// Energy cost in Pound/Wh\n",
"\n",
"H_Re = P*F_load*Re;// in W\n",
"printf('Heat recovered is %.0f W \n',H_Re)\n",
"E_save = H_Re*T*C;// in Pound/year\n",
"printf('Economic Saving is %3.2f Pound per year',E_save)\n",
"//Deviation in answer is due to some calculation approximation the book"
   ]
   }
,
{
		   "cell_type": "markdown",
		   "metadata": {},
		   "source": [
			"## Example 7.7: Steam_turbines_as_alternatives_to_electric_motors.sce"
		   ]
		  },
  {
"cell_type": "code",
	   "execution_count": null,
	   "metadata": {
	    "collapsed": true
	   },
	   "outputs": [],
"source": [
"clear ;\n",
"clc;\n",
"// Example 7.7\n",
"printf('Example 7.7\n\n');\n",
"printf('Page No. 212\n\n');\n",
"\n",
"// given\n",
"C_S = 1/10^3;// Cost of steam production in p/Wh\n",
"P = 75*10^3;// Power required in W\n",
"T = 4*10^3;// Production time in h/year\n",
"C_T = 7*10^3;// Cost of turbine in Pound\n",
"R_T = 4*10^3;// Annual running cost of turbine in W\n",
"C_M = 1.5*10^3;// Cost of electric motor in Pound\n",
"R_M = 14*10^3;// Running cost of electric motor in Pound\n",
"C_M_A = 3.5/10^3;// Auunal running cost of electic motor in p/Wh\n",
"Save_R = R_M - R_T;// in Pound per year\n",
"printf('The saving in running costs would be %3.1e Pound per year',Save_R)"
   ]
   }
,
{
		   "cell_type": "markdown",
		   "metadata": {},
		   "source": [
			"## Example 7.8: Economics_of_a_CHP_system.sce"
		   ]
		  },
  {
"cell_type": "code",
	   "execution_count": null,
	   "metadata": {
	    "collapsed": true
	   },
	   "outputs": [],
"source": [
"clear ;\n",
"clc;\n",
"// Example 7.8\n",
"printf('Example 7.8\n\n');\n",
"printf('Page No. 214\n\n');\n",
"\n",
"// given\n",
"m_s = 5.3;// Factory requirement of process steam in kg/s\n",
"Pr_s_1 = 2.5;// Pressure of process steam at bar absolute\n",
"E_load_1 = 1.10*10^3;// Electrical load requirement in W\n",
"E_load_2 = 1.5*10^3;// Electrical load requirement in W\n",
"m_e = 6.0;// Mass flow rate of generated electricity in kg/s\n",
"Pr_e = 14;// Pressure of generated electricity at bar absolute\n",
"T_heat = 2.790*10^6;// Total heat content in J/kg\n",
"\n",
"//The 14 bar absolute steam would undergo an adiabatic heat drop and the steam will be expanded\n",
"h_drop = 306*10^3;// Adiabatic heat drop in J/kg\n",
"Pr_2 = 2.5;// Expanded pressure at bar absolute\n",
"Ex_stm = 0.11;// Exhaust steam percent\n",
"Ef_T = 0.65;// Tubine efficiency\n",
"R_h_drop = h_drop * Ef_T;// Real heat drop in J/kg\n",
"P_T = m_e * R_h_drop;// Power generated by turbine in W\n",
"Ef_G = 0.94;// Generator efficiency\n",
"P_G = 1.13*10^6;// Output of generator in W\n",
"\n",
"//(a) Combined heat and power system\n",
"Eq_Eva = 8;// Equivalent evaporation of steam per kg coal in kg\n",
"C_req = m_e/Eq_Eva;// in kg/s\n",
"printf('Coal Required is %.2f kg/s\n',C_req)\n",
"printf('If the plant operates on a 140-h week for 50 weeks per annum the coal consumption is 18.9*0^6 kg per year.\nAt an average price of, for example, 35 Pound per tonne, the aanual cost is 660*10^3 Pound.\n\n')\n",
"\n",
"//(b) Coal required for process steam\n",
"// for low pressure steam\n",
"Eq_Eva_2 = 8.25;// Equivalent evaporation of steam per kg coal in kg\n",
"Coal_req = m_s/Eq_Eva_2;// in kg/s\n",
"printf('Coal Required is %.3f kg/s\n\n',Coal_req)\n",
"printf('Assuming similar operating conditions for the plant the total coal consumption is 16.2*10^6 kg per year,\nand the annual cost is 556*10^6 Pound.\n')\n",
"\n",
"//(c)Electrical Power\n",
"printf('The cost of 1.15*10^6 W of electricity for the same period of time is,assuming a cost of 23 Pound per 10^6 Wh,177*10^3Pound.\nThe coal equivalent to generate 1.15*10^6 W of power for the grid would be about 5.0*10^6 kg per year.\n\nThe C.H.P. unit saves a coal equivalent of 2.3*10^6kg per year,\nover the system generating process steam and utilizing grid electricty.\nThe economic savings are 83*1063 Pound per year illustrating the benefits of a C.H.P. syatem in this case.')\n",
"\n",
"\n",
"\n",
""
   ]
   }
],
"metadata": {
		  "kernelspec": {
		   "display_name": "Scilab",
		   "language": "scilab",
		   "name": "scilab"
		  },
		  "language_info": {
		   "file_extension": ".sce",
		   "help_links": [
			{
			 "text": "MetaKernel Magics",
			 "url": "https://github.com/calysto/metakernel/blob/master/metakernel/magics/README.md"
			}
		   ],
		   "mimetype": "text/x-octave",
		   "name": "scilab",
		   "version": "0.7.1"
		  }
		 },
		 "nbformat": 4,
		 "nbformat_minor": 0
}
