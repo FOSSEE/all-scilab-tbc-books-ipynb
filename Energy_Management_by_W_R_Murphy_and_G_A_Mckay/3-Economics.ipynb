{
"cells": [
 {
		   "cell_type": "markdown",
	   "metadata": {},
	   "source": [
       "# Chapter 3: Economics"
	   ]
	},
{
		   "cell_type": "markdown",
		   "metadata": {},
		   "source": [
			"## Example 3.10: Net_present_value.sce"
		   ]
		  },
  {
"cell_type": "code",
	   "execution_count": null,
	   "metadata": {
	    "collapsed": true
	   },
	   "outputs": [],
"source": [
"clear ;\n",
"clc;\n",
"// Example 3.10\n",
"printf('Example 3.10\n\n');\n",
"printf('Page No. 71\n\n');\n",
"\n",
"// given\n",
"C = 2500;// Cost of the project\n",
"P = 1000;// Cash in flow\n",
"r_r = 0.12;// Rate of return \n",
"S = 0;// Zero salvage value\n",
"n = 4;//years\n",
"\n",
"for j= 1:1:4 // as for four years\n",
"    d_(j) = P*(1/(1+r_r)^j);\n",
"    end\n",
"\n",
"\n",
"P_v = d_(1)+d_(2)+d_(3)+d_(4);//Present value of cash inflow\n",
"N = P_v-C;\n",
"printf('Net present value is %.0f Pound\n',ceil(N))\n",
"\n",
"if(P_v>C) then\n",
"    disp('The project may be undertaken')\n",
"else\n",
"    disp('The project may not be undertaken')\n",
"    end\n",
""
   ]
   }
,
{
		   "cell_type": "markdown",
		   "metadata": {},
		   "source": [
			"## Example 3.11: Net_present_value.sce"
		   ]
		  },
  {
"cell_type": "code",
	   "execution_count": null,
	   "metadata": {
	    "collapsed": true
	   },
	   "outputs": [],
"source": [
"clear ;\n",
"clc;\n",
"// Example 3.11\n",
"printf('Example 3.11\n\n');\n",
"printf('Page No. 72\n\n');\n",
"\n",
"// given\n",
"Cash_out = 80000;// Present value of cash outflow for both projects E and F\n",
"r_r = .2;// Rate of return\n",
"n = 5;// years\n",
"\n",
"d = [0.833 0.694 0.579 0.482 0.402]// Discount Factor for 20% of rate of return for 5 years\n",
"Ce = [10000 20000 30000 40000 50000]// Cash flow for project E in Pound\n",
"Pe = [8330 13880 17370 19280 20100]// Present value for project E in Pound\n",
"\n",
"Cf = [50000 40000 30000 20000 10000]// Cash flow for project F in Pound\n",
"Pf = [41650 27760 17370 9640 4020]// Present value for project F in Pound\n",
"\n",
"Cash_inE = sum(Pe)//Present value of cash inflow in Pound\n",
"Cash_inF = sum(Pf)//Present value of cash inflow in Pound\n",
"\n",
"Net_E = Cash_inE - Cash_out;// net present value for project E in Pound\n",
"Net_F = Cash_inF - Cash_out;// net present value for project F in Pound\n",
"\n",
"if (Net_E>Net_F) then\n",
"    disp('Project E is selected based on NPV')\n",
"else\n",
"    disp('Project F is selected based on NPV')\n",
"end"
   ]
   }
,
{
		   "cell_type": "markdown",
		   "metadata": {},
		   "source": [
			"## Example 3.12: Profitability_index.sce"
		   ]
		  },
  {
"cell_type": "code",
	   "execution_count": null,
	   "metadata": {
	    "collapsed": true
	   },
	   "outputs": [],
"source": [
"clear ;\n",
"clc;\n",
"// Example 3.12\n",
"printf('Example 3.12\n\n');\n",
"printf('Page No. 72\n\n');\n",
"\n",
"// given\n",
"Cash_inG = 43000;// Present value of cash inflow for project G in Pound\n",
"Cash_outG = 40000;// Present value of cash outflow for  project G in Pound\n",
"Net_G = Cash_inG - Cash_outG;// Net present value for G in Pound\n",
"PI_G = (Cash_inG/Cash_outG);// Profitability index for G\n",
"\n",
"Cash_inH = 23000;// Present value of cash inflow for project H in Pound\n",
"Cash_outH = 20000;// Present value of cash outflow for  project H in Pound\n",
"Net_H = Cash_inH - Cash_outH;// Net present value for H in Pound\n",
"PI_H = (Cash_inH/Cash_outH);// Profitability index for H\n",
"\n",
"//The higher the profitability index the more desirable is the project.\n",
"if (PI_G>PI_H) then\n",
"    disp('Project G is more attractive than Project H')\n",
"else\n",
"    disp('Project H is more attractive than Project G')\n",
"end\n",
"\n",
""
   ]
   }
,
{
		   "cell_type": "markdown",
		   "metadata": {},
		   "source": [
			"## Example 3.13: Internal_rate_of_return.sce"
		   ]
		  },
  {
"cell_type": "code",
	   "execution_count": null,
	   "metadata": {
	    "collapsed": true
	   },
	   "outputs": [],
"source": [
"clear ;\n",
"clc;\n",
"// Example 3.13\n",
"printf('Example 3.13\n\n');\n",
"printf('Page No. 73\n\n');\n",
"\n",
"// given\n",
"Cash_out = 80000;// Present value of cash outflow for project F in Pound\n",
"n = 5;// years\n",
"Cash_in= [50000 40000 30000 20000 10000]// Cashn in \flow for project F in Pound\n",
"NPV = 0;//At the end of 5 years\n",
"\n",
"//Let the unknown rate for project F be rm.\n",
"\n",
"//The amount standing at the end of 5 years is\n => 0 = 80000*(1+rm)^5 - 50000*(1+rm)^4 - 40000*(1+rm)^3 - 30000*(1+rm)^2 - 20000*(1+rm)^1 - 10000\n",
"// By taking (1+rm) = x\n =>8*x^5 - 5*x^4 - 4*x^3 - 3*x^2 - 2*x - 1 = 0\n\n')\n",
"\n",
"function y=fsol1(x)\n",
"  y= 8*x^5 - 5*x^4 - 4*x^3 - 3*x^2 - 2*x - 1;\n",
"endfunction\n",
"[xres]=fsolve(100,fsol1);\n",
"xres\n",
"rm = (xres - 1)*100;\n",
"printf('The value of rm for project F is %3.0f per cent\n',ceil(rm))\n",
""
   ]
   }
,
{
		   "cell_type": "markdown",
		   "metadata": {},
		   "source": [
			"## Example 3.14: Discount_factor.sce"
		   ]
		  },
  {
"cell_type": "code",
	   "execution_count": null,
	   "metadata": {
	    "collapsed": true
	   },
	   "outputs": [],
"source": [
"clear ;\n",
"clc;\n",
"// Example 3.14\n",
"printf('Example 3.14\n\n');\n",
"printf('Page No. 74\n\n');\n",
"\n",
"// given\n",
"n = 5;//years\n",
"C = 80000;// Cost of the project in Pound\n",
"Cash_in = [10000 20000 30000 40000 50000]// Cash inflow in Pound\n",
"r_d1 = 15;// Discount factor of 15%\n",
"r_d2 = 18 ;// Discount factor of 18%\n",
"r_d3 = 20;// Discount factor of 20%\n",
"\n",
"//At discount of 15%\n",
"df_1 = [0.870 0.756 0.658 0.572 0.497]// Discount factor for every year\n",
"PV_1 = [8700 15120 19740 22880 24850]// Present value\n",
"Net_1 = sum (PV_1);// net present value\n",
"\n",
"\n",
"//At discount of 18%\n",
"df_2 = [0.847 0.718 0.609 0.516 0.437]// Discount factor for every year\n",
"PV_2 = [8470 14360 18270 20640 21850]// Present value\n",
"Net_2 = sum (PV_2);// net present value\n",
"\n",
"\n",
"//At discount of 20%\n",
"df_3 = [0.833 0.694 0.579 0.482 0.402]// Discount factor for every year\n",
"PV_3 = [8330 13880 17370 19280 20100]// Present value\n",
"Net_3 = sum (PV_3);// net present value\n",
"\n",
"// f = N.P.V. cash inflow - N.P.V. cash outflow\n",
"//(1) By Numerical Method\n",
"ff = 2*((sum (PV_2) - C)/(sum (PV_2) - sum(PV_3)));// in percentage\n",
"f = 18 + ff;\n",
"printf('the internal rate of return in percentage is %3.2f \n\n',f)// Deviation in answer due to direct substitution\n",
"\n",
"//(2) By Graphical Interpolation\n",
"f_1 = (sum (PV_1) - C)/10^3;//At discount factor of 15%\n",
"f_2 = (sum (PV_2) - C)/10^3;//At discount factor of 18%\n",
"f_3 = (sum (PV_3) - C)/10^3;//At discount factor of 20%\n",
"\n",
"x = [f_1 f_2 f_3];\n",
"y = [r_d1 r_d2 r_d3];\n",
"plot(x,y,'r*');\n",
"\n",
"plot2d (x,y);// please see the corresponding graph in graphic window\n",
"xtitle('Discount factor against f','f ( *10^3 Pound)','Discount factor(%)')\n",
"regress(x,y)\n",
"coefs = regress(x,y);\n",
"printf('the internal rate of return in percentage is %3.1f \n',coefs(1))// Deviation in answer due to direct substitution\n",
"\n",
""
   ]
   }
,
{
		   "cell_type": "markdown",
		   "metadata": {},
		   "source": [
			"## Example 3.15: Optimisation_with_one_variable.sce"
		   ]
		  },
  {
"cell_type": "code",
	   "execution_count": null,
	   "metadata": {
	    "collapsed": true
	   },
	   "outputs": [],
"source": [
"clear ;\n",
"clc;\n",
"// Example 3.15\n",
"printf('Example 3.15\n\n');\n",
"printf('Page No. 77\n\n');\n",
"\n",
"// given\n",
"i_t = [20 40 60 80 100];// Insulation thickness in mm\n",
"f_c = [2.2 3.5 4.8 6.1 7.4];// Fixed costs in (10^3 Pound / year)\n",
"h_c = [10.2 6.5 5.2 4.6 4.2];// Heat costs in (10^3 Pound / year)\n",
"t_c = [12.4 10 10 10.7 11.6];// Total costs in (10^3 Pound / year)\n",
"\n",
"//(a) Graphical solution\n",
"//Refer figure 3.8\n",
"C_T = 9750;// Minimum total cost in Pound\n",
"t = 47;// Corresponding thickness of insulation in mm\n",
"printf('The most economic thickness of insulation is %.0f mm \n',t)\n",
"\n",
"//(b) Numerical solution\n",
"// The cost due to heat losses,C1, and the fixed costs,C2, vary according to the equations;-\n",
"// C1 = (a/x) + b     and    C2 = (c*x) + d\n",
"// Substituting the values of C1 and C2 together with the corresponding insulation thickness values , the following equations are obtained :-\n",
"// C1 = (150*10^3/x) + 2.7*10^3    and    C2 = (65*x) + 0.9*10^3\n",
"//And to obtain the total costs\n",
"//CT = C1 + C2 = (150*10^3/x) + (65*x) + 3.6*10^3\n",
"// Differentiate to optimise, and put dCT/dx equal to zero\n",
"//dCT/dx =-((150*10^3)/x^2) + 65 = 0\n",
"\n",
"//Let y = dCT/dx\n",
"function y=fsol1(x)\n",
"  y = -((150*10^3)/x^2) + 65;\n",
"endfunction\n",
"[xres]=fsolve(50,fsol1);\n",
"x = xres;\n",
"printf('The optimum thickness of insulation is %.0f mm \n',x)"
   ]
   }
,
{
		   "cell_type": "markdown",
		   "metadata": {},
		   "source": [
			"## Example 3.16: Optimum_operating_time.sce"
		   ]
		  },
  {
"cell_type": "code",
	   "execution_count": null,
	   "metadata": {
	    "collapsed": true
	   },
	   "outputs": [],
"source": [
"clear ;\n",
"clc;\n",
"// Example 3.16\n",
"printf('Example 3.16\n\n');\n",
"printf('Page No. 79\n\n');\n",
"\n",
"// given\n",
"tb = [36*10^3 72*10^3 144*10^3 216*10^3]; //operating time in s\n",
"U = [971 863 727 636];// Mean overall heat transfer rate in W/m^2-K\n",
"A = 50;// area in m^2\n",
"dT = 25;// temperature difference in degree celcius\n",
"ts = 54*10^3;// Time in sec (h converted to sec)\n",
"//As Q = U*A*dT\n",
"for i = [1:1:4]\n",
"    Q(i) = (U(i)*A*dT)/10^6;\n",
"    Q_a(i) = ((tb(i)*Q(i)*10^6)/(tb(i) + ts))/10^6;\n",
"    printf('the average heat transfer rate is %.3f *10^6 W \n',Q_a(i))\n",
"end\n",
"\n",
"//Refer figure 3.9\n",
"printf('\n')\n",
"Q_max = 0.67*10^6;// Maximum value of Q in W\n",
"T_opt = 33;// Time in h\n",
"printf('The maximum value of Q obtained is %3.2e W \n',Q_max)\n",
"printf('The most econnomic opertaing time for the heat exchanger to run  is %.0f h ',T_opt)\n",
""
   ]
   }
,
{
		   "cell_type": "markdown",
		   "metadata": {},
		   "source": [
			"## Example 3.17: Optimisation_with_more_than_one_variable.sce"
		   ]
		  },
  {
"cell_type": "code",
	   "execution_count": null,
	   "metadata": {
	    "collapsed": true
	   },
	   "outputs": [],
"source": [
"clear ;\n",
"clc;\n",
"// Example 3.17\n",
"printf('Example 3.17\n\n');\n",
"printf('Page No. 80\n\n');\n",
"\n",
"// given\n",
"// C_T = 7*x + (40000/(x*y)) + 6*y + 10\n",
"//Differentiating C_T with respect to x and y:-\n",
"//dC_T/dx = 7 - (40000/(x^2*y))\n",
"//dC_T/dy = - (40000/(x*y^2)) + 6\n",
"\n",
"//For optimum conditions :- dC_T/dx = dC_T/dy = 0\n",
"//dC_T/dx = 0   => 7 - (40000/(x^2*y)) = 0\n",
"//=> y = 40000/(7*x^2).......(1)\n",
"//dC_T/dy = 0    =>- (40000/(y^2*x)) +6 = 0\n",
"//=> y = (40000/(6*x))^0.5.......(2)\n",
"\n",
"//From equation (1) and (2) \n",
"//=> 40000/(7*x^2) - (40000/(6*x))^0.5 = 0\n",
"\n",
"function y=fsol1(x)\n",
"  y = 40000/(7*x^2) - (40000/(6*x))^0.5 ;\n",
"endfunction\n",
"[xres]=fsolve(20,fsol1);\n",
"x = xres;\n",
"\n",
"//from equation (1)\n",
"y = 40000/(7*x^2);\n",
"\n",
"//a = d^2C_T/dx^2 = 80000/(x^3*y)\n",
"//b = d^2C_T/dy^2 = 80000/(x*y^3)\n",
"a = 80000/(x^3*y);\n",
"b = 80000/(x*y^3);\n",
"if a > 0\n",
"    if b > 0\n",
"//The optimum conditions must occur at a point of minimum cost- C_T_m\n",
"C_T_m = 7*x + (40000/(x*y)) + 6*y + 10;// in Pound\n",
"printf('The minimum cost is %.1f Pound',C_T_m)\n",
"    end\n",
"end\n",
"\n",
""
   ]
   }
,
{
		   "cell_type": "markdown",
		   "metadata": {},
		   "source": [
			"## Example 3.1: Simple_interest.sce"
		   ]
		  },
  {
"cell_type": "code",
	   "execution_count": null,
	   "metadata": {
	    "collapsed": true
	   },
	   "outputs": [],
"source": [
"clear ;\n",
"clc;\n",
"// Example 3.1\n",
"printf('Example 3.1\n\n');\n",
"printf('Page No. 58\n\n');\n",
"\n",
"// given\n",
"P = 10000;// Principal Amount\n",
"i = 0.15;// Interest Rate\n",
"n = 4;//years\n",
"I = P*i*n;// Simple Interest\n",
"Ts= P+I;// The total repayment\n",
"printf('The total repayment is %.0f Euro\n',Ts)\n",
"\n",
""
   ]
   }
,
{
		   "cell_type": "markdown",
		   "metadata": {},
		   "source": [
			"## Example 3.2: Compound_interest.sce"
		   ]
		  },
  {
"cell_type": "code",
	   "execution_count": null,
	   "metadata": {
	    "collapsed": true
	   },
	   "outputs": [],
"source": [
"clear ;\n",
"clc;\n",
"// Example 3.2\n",
"printf('Example 3.2\n\n');\n",
"printf('Page No. 58\n\n');\n",
"\n",
"// given\n",
"P = 10000;// Principal Amount in Pound\n",
"i = 0.15;// Interest Rate\n",
"n = 4;//years\n",
"Tc = P*(1+i)^n;\n",
"printf('The total repayment after adding compond interest is %.0f Pound\n',Tc)"
   ]
   }
,
{
		   "cell_type": "markdown",
		   "metadata": {},
		   "source": [
			"## Example 3.3: Capital_recovery.sce"
		   ]
		  },
  {
"cell_type": "code",
	   "execution_count": null,
	   "metadata": {
	    "collapsed": true
	   },
	   "outputs": [],
"source": [
"clear ;\n",
"clc;\n",
"// Example 3.3\n",
"printf('Example 3.3\n\n');\n",
"//Page No. 59\n",
"\n",
"// given\n",
"P = 60000;/// Principal Amount in Pound\n",
"i = 0.18;// Interest Rate\n",
"n = 10;//years\n",
"R = P*((i*(1+i)^n)/((1+i)^n -1));//Rate of Capital Recovery\n",
"printf('The annual investment required is %.1f Pound\n',R)\n",
""
   ]
   }
,
{
		   "cell_type": "markdown",
		   "metadata": {},
		   "source": [
			"## Example 3.4: Depreciatio.sce"
		   ]
		  },
  {
"cell_type": "code",
	   "execution_count": null,
	   "metadata": {
	    "collapsed": true
	   },
	   "outputs": [],
"source": [
"clear ;\n",
"clc;\n",
"// Example 3.4\n",
"printf('Example 3.4\n\n');\n",
"printf('Page No. 61\n\n');\n",
"\n",
"// given\n",
"P = 100000;/// Principal Amount of boiler plant in Pound\n",
"n = 10;// service life in years\n",
"S = 0;//Zero Salvage value\n",
"nT = (n*(n+1)/2);//sum of years\n",
"for i = 0:9\n",
"    d_(i+1) = ((P-S)/nT)*(n-i);\n",
"end\n",
"printf('The Annual depreciation for first year is %.0f Pound\n',d_(1))\n",
"printf('The Annual depreciation for second year is %.0f Pound\n\n',d_(2))\n",
"printf('The Annual depreciation for third year is %.0f Pound\n',d_(3))\n",
"printf('The Annual depreciation for ten year is %.0f Pound\n',d_(10))\n",
"// Deviation in answer due to some .approximation of values in the book"
   ]
   }
,
{
		   "cell_type": "markdown",
		   "metadata": {},
		   "source": [
			"## Example 3.5: Depreciation_and_Asset_value.sce"
		   ]
		  },
  {
"cell_type": "code",
	   "execution_count": null,
	   "metadata": {
	    "collapsed": true
	   },
	   "outputs": [],
"source": [
"clear ;\n",
"clc;\n",
"// Example 3.5\n",
"printf('Example 3.5\n\n');\n",
"printf('Page No. 62\n\n');\n",
"\n",
"// given\n",
"P = 40000;/// Principal Amount of boiler plant in Pound\n",
"nT = 10;// service life in years\n",
"S = 4000;// Salvage value\n",
"n = 6;// years after which Asset value has to be calculated\n",
"\n",
"//(a) Straight line method\n",
"d = ((P-S)/nT);// Depreciation\n",
"Aa = (d*(nT-n)) + S;\n",
"printf('The Asset value at the end of six years using Straight line method is %.0f Pound\n',Aa)\n",
"\n",
"// (b) Declining balance technique\n",
"f = 1-(S/P)^(1/nT);// Fixed fraction of the residual asset\n",
"Ab = P*(1-f)^n;\n",
"printf('The Asset value at the end of six years using Declining balance technique is %.0f Pound\n\n',Ab)\n",
"\n",
"// (c) Sum of the years digit\n",
"sum_nT = (nT*(nT+1)/2);//sum of  10 years\n",
"sum_n = 45;//sum after 6 years\n",
"dc = ((sum_n/sum_nT)*(P-S));// Depreciation after 6 years\n",
"Ac = P-dc;\n",
"printf('The Asset value at the end of six years using Sum of the years digit is %.0f Pound\n',Ac)// Deviation in answer due to direct substitution\n",
"\n",
"//(d) Sinking Fund Method\n",
"r_i = 0.06;// Rate of interest\n",
"Ad = P-((P-S)*(((1+r_i)^n-1)/((1+r_i)^nT-1)));\n",
"printf('The Asset value at the end of six years using Sinking Fund Method is %.0f Pound\n',Ad)// Deviation in answer due to direct substitution"
   ]
   }
,
{
		   "cell_type": "markdown",
		   "metadata": {},
		   "source": [
			"## Example 3.6: Rate_of_Retur.sce"
		   ]
		  },
  {
"cell_type": "code",
	   "execution_count": null,
	   "metadata": {
	    "collapsed": true
	   },
	   "outputs": [],
"source": [
"clear ;\n",
"clc;\n",
"// Example 3.6\n",
"printf('Example 3.6\n\n');\n",
"printf('Page No. 67\n\n');\n",
"\n",
"// given\n",
"P = 9000;// Capital Cost in Pound\n",
"n = 5;// Project lifetime\n",
"Less_dep = 8000;// Less Depreciation\n",
"\n",
"//For Project A\n",
"d1 = [4500 3750 3000 1500 750 ]// Saving in every year (before depreciation)\n",
"dT1 = sum (d1)\n",
"Net_S1 = dT1- Less_dep;// Total Net Saving\n",
"Avg1 = Net_S1/n;// Average net annual saving\n",
"R_R1 = (Avg1/P)*100;\n",
"\n",
"//For Project \n",
"d2 = [750 2250 4500 4500 1500 ]// Saving in every year (before depreciation)\n",
"dT2 = sum (d2)\n",
"Net_S2 = dT2- Less_dep;// Total Net Saving\n",
"Avg2 = Net_S2/n;// Average net annual saving\n",
"R_R2 = (Avg2/P)*100;\n",
"\n",
"printf('The percentage of Rate of Return on original investment for Project A is %3.1f \n',R_R1)\n",
"printf('The percentage of Rate of Return on original investment for Project B is %3.1f \n',R_R2)\n",
"\n",
"\n",
""
   ]
   }
,
{
		   "cell_type": "markdown",
		   "metadata": {},
		   "source": [
			"## Example 3.7: Pay_back_method.sce"
		   ]
		  },
  {
"cell_type": "code",
	   "execution_count": null,
	   "metadata": {
	    "collapsed": true
	   },
	   "outputs": [],
"source": [
"clear ;\n",
"clc;\n",
"// Example 3.7\n",
"printf('Example 3.7\n\n');\n",
"printf('Page No. 68\n\n');\n",
"\n",
"// given\n",
"Pc = 10000;// Capital cost for project C in Pound\n",
"Pd = 10000;// Capital cost for project d in Pound\n",
"nc = 3;// pay back period for C\n",
"nd = 3;// pay back period for D\n",
"Ca = [4500 3500 2000 2000 1000];// Annual Cash flow for C in Pound\n",
"Cc = [4500 8000 10000 12000 13000]// Cumulative Cash flow for C in Pound\n",
"Da = [1500 4000 4500 2200 1800 1000];// Annual Cash flow for D in Pound\n",
"Dc = [1500 5500 10000 12200 14000 15000]// Cumulative Cash flow for D in Pound\n",
"Ac = Cc(5)-Pc;// in Pound\n",
"Ad = Dc(6)-Pd;// in Pound\n",
"printf('Additional amount from C after the pay back time is %3.f Pound\n',Ac)\n",
"printf('Additional amount from D after the pay back time is %3.f Pound\n',Ad)"
   ]
   }
,
{
		   "cell_type": "markdown",
		   "metadata": {},
		   "source": [
			"## Example 3.8: Discounted_cash_flow.sce"
		   ]
		  },
  {
"cell_type": "code",
	   "execution_count": null,
	   "metadata": {
	    "collapsed": true
	   },
	   "outputs": [],
"source": [
"clear ;\n",
"clc;\n",
"// Example 3.8\n",
"printf('Example 3.8\n\n');\n",
"printf('Page No. 69\n\n');\n",
"\n",
"//Refer figure 3.6\n",
"// given\n",
"n = 5;//years\n",
"C = 80000;// COst of the project in Pound\n",
"S = 0;// Zero Salvage Value\n",
"A_E = [10000 20000 30000 40000 50000]// Annual Net cash flow for project E in Pound\n",
"C_E = [10000 30000 60000 100000 150000]// Cummulative Net cash flow for project E in Pound\n",
"A_F = [50000 40000 30000 20000 10000]// Annual Net cash flow for project F in Pound\n",
"C_F = [50000 90000 120000 140000 150000]// Cummulative Net cash flow for project F in Pound\n",
"\n",
"//From the figure 3.6 (intercept of x-axis)\n",
"P_F = 1.75;// in years\n",
"P_E = 3.5;// in years\n",
"printf('The pay-back time of project F is %.2f \n',P_F)\n",
"printf('The pay-back time of project E is %.1f \n\n',P_E)\n",
"\n",
"printf('As the pay-back time is less for project F,\nProject F would always be choosen in practice\nsince prediction of savings in the early years are more reliable than long-term predictions.')"
   ]
   }
,
{
		   "cell_type": "markdown",
		   "metadata": {},
		   "source": [
			"## Example 3.9: Discounted_cash_flow.sce"
		   ]
		  },
  {
"cell_type": "code",
	   "execution_count": null,
	   "metadata": {
	    "collapsed": true
	   },
	   "outputs": [],
"source": [
"clear ;\n",
"clc;\n",
"// Example 3.9\n",
"printf('Example 3.9\n\n');\n",
"printf('Page No. 70\n\n');\n",
"\n",
"// given\n",
"P = 1;/// Principal Amount in Pound\n",
"\n",
"r_i = 0.1;// Compound interest rate\n",
"for i = [1:1:4]\n",
"    c = P*(1+r_i)^i;\n",
"    printf('compound intrest after year %.0f is equal to %.2f Pound\n',i,c)\n",
"end\n",
"\n",
"new_P = 1000*P;//in Pound\n",
"new_c = 1000*c;// in Pound\n",
"printf('The new amount at the compound interest after fourth year is %.0f Pound\n\n',new_c)\n",
"\n",
"// Discount rate\n",
"r_d = 0.10;// Discount rate\n",
"for j= 1:1:4\n",
"    d = P*(1/(1+r_d)^j);\n",
"    printf('The amount receivable at discount in year %.0f is %.3f Pound\n',j,d)\n",
"end\n",
"\n",
"new_P1 = new_c;// in Pound\n",
"new_d = new_P1*d;// in Pound\n",
"printf('The  new amount receivable at discount in fourth year is %.0f Pound\n',new_d)\n",
"\n",
""
   ]
   }
],
"metadata": {
		  "kernelspec": {
		   "display_name": "Scilab",
		   "language": "scilab",
		   "name": "scilab"
		  },
		  "language_info": {
		   "file_extension": ".sce",
		   "help_links": [
			{
			 "text": "MetaKernel Magics",
			 "url": "https://github.com/calysto/metakernel/blob/master/metakernel/magics/README.md"
			}
		   ],
		   "mimetype": "text/x-octave",
		   "name": "scilab",
		   "version": "0.7.1"
		  }
		 },
		 "nbformat": 4,
		 "nbformat_minor": 0
}
