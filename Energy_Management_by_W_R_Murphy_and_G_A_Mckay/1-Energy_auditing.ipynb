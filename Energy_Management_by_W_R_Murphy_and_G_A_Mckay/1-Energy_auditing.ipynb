{
"cells": [
 {
		   "cell_type": "markdown",
	   "metadata": {},
	   "source": [
       "# Chapter 1: Energy auditing"
	   ]
	},
{
		   "cell_type": "markdown",
		   "metadata": {},
		   "source": [
			"## Example 1.10: Detailed_energy_audits.sce"
		   ]
		  },
  {
"cell_type": "code",
	   "execution_count": null,
	   "metadata": {
	    "collapsed": true
	   },
	   "outputs": [],
"source": [
"clear ;\n",
"clc;\n",
"// Example 1.10\n",
"printf('Example 1.10\n\n');\n",
"printf('Page No. 19\n\n');\n",
"// given\n",
"\n",
"//Monthly Energy Usage\n",
"qunty = [15*10^3 4*10^3 90*10^3]\n",
"cost = [4950 720  2250]// in Pound\n",
"common_basis1  = [738 117 90]// in 10^6 Wh\n",
"common_basis= [2655 421 324]// converted into 10^9 Joules\n",
"unit_cost = cost ./ common_basis1// in Pound per 10^6 Wh\n",
"p= 80;// production in tonnes\n",
"EI = ((sum(common_basis))/p)*10^9;\n",
"CI = sum(cost)/80;\n",
"printf('Monthly energy index is %3.2e J per tonne \n',EI)\n",
"printf('Monthly cost index is %.0f Pound per tonne \n\n',CI)//Deviation in answer is due to calculation error for sum of cost in the book\n",
"\n",
"// Boiler House Energy Audit\n",
"qunty_b = [15000 10000]\n",
"Com_basis_b_1 = [2655 36]// in 10^9 J\n",
"Com_basis_b = [738 10]// in 10^6 Wh\n",
"Cost_b = [4950 250]// in Pound\n",
"b_output = 571*10^6;// in Wh\n",
"EI_b = (b_output/(sum(Com_basis_b)*10^6));\n",
"CI_b = (sum(Cost_b)/b_output)*10^3;// Pound converted into p\n",
"printf('Energy index  for boiler is %.3f \n',EI_b)\n",
"printf('Cost index for boiler is %3.2e p per Wh\n \n',CI_b)\n",
"\n",
"//Power House Energy Audit\n",
"P_gen = 200*10^6;// Power generated in Wh\n",
"Com_basis_p_1 = [14.4 2055 -1000]// in 10^9 J\n",
"Com_basis_p = [4.0 571 -278]// in 10^6 Wh\n",
"Cost_p = [100 5196 -2530]// in Pound\n",
"CI_p = (sum(Cost_p)/P_gen)*10^3;// Pound converted into p\n",
"printf('Cost index for power house is %3.2e p per Wh\n\n',CI_p)//Deviation in answer is due to wrong calculation in the book\n",
"\n",
"//Space Heating Energy Audit\n",
"deg_days = 260;// Number of degree-days\n",
"Com_basis_s_1 = [36 100 105]// in 10^9 J\n",
"Com_basis_s = [10.0 27.8 29.2]// in 10^6 Wh\n",
"Cost_s = [250 253 179]// in Pound\n",
"EI_s = ((sum(Com_basis_s)*10^6)/deg_days)\n",
"CI_s = (sum(Cost_s)/deg_days)\n",
"printf('Energy index  for space heating is %3.2e Wh per degree-day\n',EI_s)\n",
"printf('Cost index for space heating is %3.2f Pound per degree-day\n\n',CI_s)\n",
"\n",
"//Process Energy Audit\n",
"T_pdt_output = 100;// in tonne\n",
"Com_basis_pr_1 = [216 720 810 316]// in 10^9 J\n",
"Com_basis_pr = [60 200 225 88]// in 10^6 Wh\n",
"Cost_pr = [1500 2766 2047 540]// in Pound\n",
"EI_pr = ((sum(Com_basis_pr)*10^6)/T_pdt_output);\n",
"CI_pr = (sum(Cost_pr)/T_pdt_output);\n",
"printf('Energy index  for Process Energy Audit is %3.2e Wh per tonne \n',EI_pr)\n",
"printf('Cost index for Process Energy Audit is %.2f Pound per tonne \n',CI_pr)"
   ]
   }
,
{
		   "cell_type": "markdown",
		   "metadata": {},
		   "source": [
			"## Example 1.1: Energy_Conversion.sce"
		   ]
		  },
  {
"cell_type": "code",
	   "execution_count": null,
	   "metadata": {
	    "collapsed": true
	   },
	   "outputs": [],
"source": [
"clc;\n",
"// Example 1.1\n",
"printf('Example 1.1\n\n');\n",
"printf(' Page No. 08\n\n');\n",
"// Solution \n",
"// Given\n",
"m1= 40*10^3;// fuel oil in gallons per year\n",
"ga= 4.545*10^-3;// m^3\n",
"m= m1*ga;// fuel oil in m^3 per year\n",
"Cv1= 175*10^3;// Btu per gallons\n",
"Bt= .2321*10^6;// J per m^3\n",
"Cv= Cv1*Bt;// in J per year per m^3 \n",
"q=m*Cv;// in J per year\n",
"printf(' Heat available is %3.2e J per year\n',q)"
   ]
   }
,
{
		   "cell_type": "markdown",
		   "metadata": {},
		   "source": [
			"## Example 1.2: Energy_conversion.sce"
		   ]
		  },
  {
"cell_type": "code",
	   "execution_count": null,
	   "metadata": {
	    "collapsed": true
	   },
	   "outputs": [],
"source": [
"clear ;\n",
"clc;\n",
"// Example 1.2\n",
"printf('Example 1.2\n\n');\n",
"printf('Page No. 09\n\n');\n",
"// Solution \n",
"\n",
"// Given\n",
"Eo1= 1.775*10^9;// Annular energy consumption of oil in Btu\n",
"Btu= 1055;// 1 Btu = 1055 Joules\n",
"Eo= Eo1*Btu;// Annular energy consumption of oil in Joules\n",
"Eg1= 5*10^3;// Annular energy consumption of gas in Therms\n",
"Th= 1055*10^5;//  1 Th = 1055*10^3 Joules\n",
"Eg= Eg1*Th;// Annular energy consumption of gas in Joules\n",
"Ee1= 995*10^3;// Annular energy consumption of electricity in KWh\n",
"KWh= 3.6*10^6;// 1 KWh = 3.6*10^6 Joules\n",
"Ee= Ee1*KWh;// Annular energy consumption of electricity in Joules\n",
"Et= ( Eo + Eg + Ee);// Total energy consumption\n",
"P1= (Eo/Et)*100; // percentage of oil consumption\n",
"P2= (Eg/Et)*100; // percentage of gas consumption\n",
"P3= (Ee/Et)*100; // percentage of electricity consumption\n",
"printf('percentage of oil consumption is %3.1f \n',P1)\n",
"printf('percentage of gas consumption is %3.1f \n',P2)\n",
"printf('percentage of electricity consumption is %3.1f \n',P3)\n",
""
   ]
   }
,
{
		   "cell_type": "markdown",
		   "metadata": {},
		   "source": [
			"## Example 1.3: Energy_Index.sce"
		   ]
		  },
  {
"cell_type": "code",
	   "execution_count": null,
	   "metadata": {
	    "collapsed": true
	   },
	   "outputs": [],
"source": [
"clear ;\n",
"clc;\n",
"// Example 1.3\n",
"printf('Example 1.3\n\n');\n",
"printf('Page No. 10\n\n');\n",
"// Solution \n",
"\n",
"// Given\n",
"Et = 100*10^3;// total energy production in tonnes per annum\n",
"Eo= 0.520*10^9;// oil consumption in Wh\n",
"Eg= 0.146*10^9;// gas consumption in Wh\n",
"Ee= 0.995*10^9;// electricity consumption in Wh\n",
"Io= Eo/Et;\n",
"Ig= Eg/Et;\n",
"Ie= Ee/Et;\n",
"Et1= Eo + Eg + Ee;// total energy consumption\n",
"It= Et1/Et;\n",
"printf('oil energy index is %3.0f Wh per tonne \n',Io)\n",
"printf('gas energy index is %3.0f Wh per tonne \n',Ig)\n",
"printf('electricity energy index is %3.0f Wh per tonne \n',Ie)\n",
"printf('total energy index is %3.0f Wh per tonne ',It)\n",
""
   ]
   }
,
{
		   "cell_type": "markdown",
		   "metadata": {},
		   "source": [
			"## Example 1.4: Energy_Costs.sce"
		   ]
		  },
  {
"cell_type": "code",
	   "execution_count": null,
	   "metadata": {
	    "collapsed": true
	   },
	   "outputs": [],
"source": [
"clear ;\n",
"clc;\n",
"// Example 1.4\n",
"printf('Example 1.4\n\n');\n",
"printf('Page No. 10\n\n');\n",
"// Solution \n",
"\n",
"// Given\n",
"mc= 1.5*10^3;// coke consumption in tonnes\n",
"mg= 18*10^3;// gas consumption in therms\n",
"me= 1*10^9;// electricity consumption in Wh\n",
"Cc1= 72;// cost of coke in Pound per tonne\n",
"Cg1= 0.20;// cost of gas in Pound per therm\n",
"Ce1= 2.25*10^-5 ;// cost of electricity in Pound per Wh\n",
"Cc= mc*Cc1;//in Pound\n",
"Cg= mg*Cg1;//in Pound\n",
"Ce= me*Ce1;//in Pound\n",
"Ct= Cc+Cg+Ce;//in Pound\n",
"printf('cost of coke consumption is %.0f Pound \n',Cc)\n",
"printf('cost of gas consumption is %.0f Pound \n',Cg)\n",
"printf('cost of electricity consumption is %.0f Pound \n',Ce)\n",
"printf('total cost is %3.0f Pound \n',Ct)"
   ]
   }
,
{
		   "cell_type": "markdown",
		   "metadata": {},
		   "source": [
			"## Example 1.5: Cost_Index.sce"
		   ]
		  },
  {
"cell_type": "code",
	   "execution_count": null,
	   "metadata": {
	    "collapsed": true
	   },
	   "outputs": [],
"source": [
"clear ;\n",
"clc;\n",
"// Example 1.5\n",
"printf('Example 1.5\n\n');\n",
"printf('Page No. 11\n\n');\n",
"// Solution \n",
"\n",
"// Given\n",
"Cc= 108.0*10^3;// cost of coke in Pound\n",
"Cg= 3.6*10^3;// cost of gas in Pound\n",
"Ce= 22.5*10^3;// cost of electricity in Pound\n",
"Ct= Cc+Cg+Ce;// total cost of fuel in Pound\n",
"E= 15*10^3;// total production in tonnes per year\n",
"Ic= Cc/E;//Pound per tonne\n",
"Ig= Cg/E;//Pound per tonne\n",
"Ie= Ce/E;//Pound per tonne\n",
"It= Ct/E;//Pound per tonne\n",
"printf(' coke cost index is %3.2f Pound per tonne \n',Ic)\n",
"printf(' gas cost index is %3.2f Pound per tonne\n',Ig)\n",
"printf(' electricity cost index is %3.2f Pound per tonne\n',Ie)\n",
"printf(' total cost index is %3.2f Pound per tonne\n',It)"
   ]
   }
,
{
		   "cell_type": "markdown",
		   "metadata": {},
		   "source": [
			"## Example 1.6: Pie_chart.sce"
		   ]
		  },
  {
"cell_type": "code",
	   "execution_count": null,
	   "metadata": {
	    "collapsed": true
	   },
	   "outputs": [],
"source": [
"clear ;\n",
"clc;\n",
"// Example 1.6\n",
"printf('Example 1.6\n\n');\n",
"printf('Page No. 11\n\n');\n",
"// Solution \n",
"// Given\n",
"G1= 11.72*10^3;// hourly consumption of gas in therms\n",
"th= 34.13;// in Watts\n",
"G= G1*th;// hourly consumption of gas in Watts\n",
"O1= 4.32*10^9;// hourly consumption of oil in Joules\n",
"J= .278*10^-3;// in Watts\n",
"O= O1*J;// hourly consumption of oil in Watts\n",
"E= 500*10^3;// hourly consumption of electricity in Watts\n",
"// Pie Chart Representation : one input argument  x=[G O E]\n",
"pie([G O E],['gas' 'oil' 'electricity']);// Please see the graphics window\n",
"printf('The Pie chart is plotted in the figure');"
   ]
   }
,
{
		   "cell_type": "markdown",
		   "metadata": {},
		   "source": [
			"## Example 1.7: Pie_chart.sce"
		   ]
		  },
  {
"cell_type": "code",
	   "execution_count": null,
	   "metadata": {
	    "collapsed": true
	   },
	   "outputs": [],
"source": [
"close\n",
"clear ;\n",
"clc;\n",
"// Example 1.7\n",
"printf('Example 1.7\n\n');\n",
"printf('Page No. 12\n\n');\n",
"// Solution \n",
"\n",
"// Given\n",
"O= 150*10^3;// energy consumption in office heating in Watts\n",
"L= 120*10^3;// energy consumption in lighting in Watts\n",
"B= 90*10^3;// energy consumption in boiler house in Watts\n",
"P= 180*10^3;// energy consumption in process in Watts\n",
"// Pie Chart Representation : one input argument  x=[O L B P]\n",
"pie([O L B P],['office heating' 'lighting' 'boiler heating' 'process']);// Please see the graphics window\n",
"printf('The Pie chart is plotted in the figure');\n",
""
   ]
   }
,
{
		   "cell_type": "markdown",
		   "metadata": {},
		   "source": [
			"## Example 1.8: General_auditing.sce"
		   ]
		  },
  {
"cell_type": "code",
	   "execution_count": null,
	   "metadata": {
	    "collapsed": true
	   },
	   "outputs": [],
"source": [
"clear ;\n",
"clc;\n",
"// Example 1.8\n",
"printf('Example 1.8\n\n');\n",
"printf('Page No. 16\n\n');\n",
"// given\n",
"\n",
"qunty= [40 10000 400 90000]\n",
"unit_price= [29 0.33 0.18 0.025]\n",
"cost= (unit_price .* qunty)// in Pound\n",
"common_basis= [310 492 11.7 90]// in 10^6 Wh\n",
"per_unit_cost= (unit_price .* qunty) ./ common_basis// Pound per 10^6 Wh\n",
"p= 150;// production in tonnes\n",
"EI= sum(common_basis)*10^6/150\n",
"CI= sum(unit_price .* qunty)/150\n",
"printf('energy index is %3.2f Wh per tonne \n',EI)\n",
"printf('cost index  is %3.2f Wh per tonne \n',CI)"
   ]
   }
,
{
		   "cell_type": "markdown",
		   "metadata": {},
		   "source": [
			"## Example 1.9: General_Auditing.sce"
		   ]
		  },
  {
"cell_type": "code",
	   "execution_count": null,
	   "metadata": {
	    "collapsed": true
	   },
	   "outputs": [],
"source": [
"clear ;\n",
"clc;\n",
"// Example 1.9\n",
"printf('Example 1.9\n\n');\n",
"printf('Page No. 17\n\n');\n",
"//given\n",
"\n",
"p= [50, 55, 65, 50, 95, 90, 85, 80, 60, 90, 70, 110, 60, 105];// weakly production in tonnes\n",
"s= [0.4, 0.35, 0.45, .31, 0.51,0.55, 0.45, 0.5, 0.4, 0.51, 0.4, 0.6, 0.45, 0.55];// weakly steam consumption in 10^6 kg\n",
"coefs = regress(p,s);\n",
"new_p = 0:120\n",
"new_s = coefs(1) + coefs(2)*new_p;\n",
"plot(p,s,'r*');\n",
"set(gca(),'auto_clear','off')\n",
"\n",
"plot(new_p,new_s);// please see the corresponding graph in graphic window\n",
"xtitle('weakly steam consumption-production','weakly output (tonnes)','steam consumption/week (10^6 kg)')\n",
"l = legend([_('Given data'); _('Fitting function')],2);\n",
"\n",
"in= coefs(1)*10^6;// intercept of graph in kg/weak\n",
"printf('At zero output the steam consumption is %3.0f in kg/weak \n',in)\n",
"\n",
"\n",
""
   ]
   }
],
"metadata": {
		  "kernelspec": {
		   "display_name": "Scilab",
		   "language": "scilab",
		   "name": "scilab"
		  },
		  "language_info": {
		   "file_extension": ".sce",
		   "help_links": [
			{
			 "text": "MetaKernel Magics",
			 "url": "https://github.com/calysto/metakernel/blob/master/metakernel/magics/README.md"
			}
		   ],
		   "mimetype": "text/x-octave",
		   "name": "scilab",
		   "version": "0.7.1"
		  }
		 },
		 "nbformat": 4,
		 "nbformat_minor": 0
}
