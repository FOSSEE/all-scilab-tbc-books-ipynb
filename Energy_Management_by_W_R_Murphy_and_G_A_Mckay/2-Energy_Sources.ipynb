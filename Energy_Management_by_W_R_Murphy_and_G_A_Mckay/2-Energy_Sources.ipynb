{
"cells": [
 {
		   "cell_type": "markdown",
	   "metadata": {},
	   "source": [
       "# Chapter 2: Energy Sources"
	   ]
	},
{
		   "cell_type": "markdown",
		   "metadata": {},
		   "source": [
			"## Example 2.1: Energy_audit_scheme.sce"
		   ]
		  },
  {
"cell_type": "code",
	   "execution_count": null,
	   "metadata": {
	    "collapsed": true
	   },
	   "outputs": [],
"source": [
"clear ;\n",
"clc;\n",
"// Example 2.1\n",
"printf('Example 2.1\n\n');\n",
"printf('Page No. 44\n\n');\n",
"\n",
"// given\n",
"C= 35000;// cost of boiler\n",
"C_grant=.25;// Capital grant available from goverment\n",
"E= -(C-(C_grant*C));// Net expenditure\n",
"Fs= 15250;// Fuel Saving\n",
"r_i = 0.15;// interest\n",
"r_t = 0.55;// tax\n",
"\n",
"a = [0 E Fs 0 E+Fs r_i*(E+Fs) 0 ]\n",
"bal_1 = a(5)+a(6)-a(7)// Total Balance after 1st year\n",
"\n",
"c_all = 0.55;// capital allowance in 2nd year\n",
"C_bal= (bal_1+0+Fs+(-(c_all*E)));// Cash Balance after 2nd year\n",
"b = [bal_1 0 Fs -(c_all*E) C_bal r_i*C_bal r_t*(Fs+(r_i*C_bal))];\n",
"bal_2 = b(5)+b(6)-b(7)//Total  Balance after 2nd year\n",
"\n",
"c = [bal_2 0 Fs 0 bal_2+Fs r_i*(bal_2+Fs) r_t*(Fs+(r_i*(bal_2+Fs)))]\n",
"bal_3= c(5)+c(6)-c(7)// Total  Balance after 3rd year\n",
"\n",
"if(bal_2>0) then\n",
"    disp('Pay back period is of two year')\n",
"else\n",
"    disp('Pay back period is of three year')\n",
"end\n",
"\n",
"printf('Total saving at the end of second year is %3.0f Pound\n',bal_2);\n",
"printf('Total saving at the end of third year is %3.0f Pound\n',bal_3);\n",
"// Deviation in answer due to direct substitution\n",
"\n",
"\n",
"\n",
"\n",
"\n",
""
   ]
   }
,
{
		   "cell_type": "markdown",
		   "metadata": {},
		   "source": [
			"## Example 2.2: Energy_audit_scheme.sce"
		   ]
		  },
  {
"cell_type": "code",
	   "execution_count": null,
	   "metadata": {
	    "collapsed": true
	   },
	   "outputs": [],
"source": [
"clear ;\n",
"clc;\n",
"// Example 2.2\n",
"printf('Example 2.2\n\n');\n",
"printf('Page No. 45\n\n');\n",
"\n",
"// given\n",
"C= 35000;// cost of boiler\n",
"C_grant=0;// Capital grant available from goverment\n",
"E= -(C-(C_grant*C));// Net expenditure\n",
"Fs= 15250;// Fuel Saving\n",
"r_i = 0.15;// interest\n",
"r_t = 0.55;// tax\n",
"\n",
"a = [0 E Fs 0 E+Fs r_i*(E+Fs) 0 ]\n",
"bal_1 = a(5)+a(6)-a(7)// Total  Balance after 1st year\n",
"\n",
"c_all = 0.55;// capital allowance in 2nd year\n",
"C_bal= (bal_1+0+Fs+(-(c_all*E)));// Cash Balance after 2nd year\n",
"b = [bal_1 0 Fs -(c_all*E) C_bal r_i*C_bal r_t*(Fs+(r_i*C_bal))];\n",
"bal_2 = b(5)+b(6)-b(7)//Total  Balance after 2nd year\n",
"\n",
"c = [bal_2 0 Fs 0 bal_2+Fs r_i*(bal_2+Fs) r_t*(Fs+(r_i*(bal_2+Fs)))]\n",
"bal_3= c(5)+c(6)-c(7)// Total  Balance after 3rd year\n",
"\n",
"if(bal_2>0) then\n",
"    disp('pay back period is of two year')\n",
"else\n",
"    disp('pay back period is of three year')\n",
"end\n",
"\n",
"printf('Total saving at the end of second year is %3.2f Pound\n',bal_2);\n",
"printf('Total saving at the end of third year is %3.2f Pound\n',bal_3);\n",
"// Deviation in answer due to direct substitution\n",
"\n",
"\n",
"\n",
"\n",
"\n",
""
   ]
   }
,
{
		   "cell_type": "markdown",
		   "metadata": {},
		   "source": [
			"## Example 2.3: Choice_of_fuels.sce"
		   ]
		  },
  {
"cell_type": "code",
	   "execution_count": null,
	   "metadata": {
	    "collapsed": true
	   },
	   "outputs": [],
"source": [
"clear ;\n",
"clc;\n",
"// Example 2.3\n",
"printf('Example 2.3\n\n');\n",
"printf('Page No. 46\n\n');\n",
"\n",
"// given\n",
"F= 350*10^3;// fuel oils in gallons\n",
"Ci= 5000;// cost of insulation of tanks\n",
"\n",
"As= 7500;//Annual Saving in Pound\n",
"\n",
"if(As> Ci) then\n",
"disp('The investment has a pay-back period of less than 1 year');\n",
"else\n",
"disp('The investment has not a pay-back period of less than 1 year');\n",
"end\n",
"// Note- Since here pack back period is less than 1 year and the company is in profit so they can go with this fuel oil,\n",
"// although it can be noted that there are more problems handling heavy fuels oils \n",
"//and that the pay-back increases considerably the smaller the installation.\n",
"//So the company can changeover from oil to coal as a fuel."
   ]
   }
,
{
		   "cell_type": "markdown",
		   "metadata": {},
		   "source": [
			"## Example 2.4: Choice_of_fuels.sce"
		   ]
		  },
  {
"cell_type": "code",
	   "execution_count": null,
	   "metadata": {
	    "collapsed": true
	   },
	   "outputs": [],
"source": [
"clear ;\n",
"clc;\n",
"// Example 2.4\n",
"printf('Example 2.4\n\n');\n",
"printf('Page No. 47\n\n');\n",
"\n",
"// given\n",
"F1= 500*10^3;// fuel oil in gallons\n",
"F2= 500*10^3;// coal in gallons in Pound\n",
"C1= 165*10^3;// cost of oil per year in Pound\n",
"C2= 92*10^3;// cost of an equivalent of coal in Pound\n",
"Ce= 100*10^3;// capital cost of extra handling eqiupment\n",
"\n",
"Cm= (Ce*0.2);// Maintenance , interest costs per year\n",
"As= C1-C2;// Annual Saving in Pound\n",
"printf('Annual Saving is %3.0f Pound\n',As)\n",
"\n",
"if((2*As)> Ce) then\n",
"disp('Replacing an obsolete boiler plant is considerable');\n",
"else\n",
"disp('Replacing an obsolete boiler plant is not considerble');\n",
"end"
   ]
   }
,
{
		   "cell_type": "markdown",
		   "metadata": {},
		   "source": [
			"## Example 2.5: Economic_saving.sce"
		   ]
		  },
  {
"cell_type": "code",
	   "execution_count": null,
	   "metadata": {
	    "collapsed": true
	   },
	   "outputs": [],
"source": [
"clear ;\n",
"clc;\n",
"// Example 2.5\n",
"printf('Example 2.5\n\n');\n",
"printf('Page No. 49\n\n');\n",
"\n",
"// given\n",
"F= 10*10^3;// fuel oils in gallons\n",
"Cs= 2200;// cost of maintaining tanks per year in Pound\n",
"Ci= 1850;// cost of insulation of pipe in Pound\n",
"\n",
"As= (Cs*.85);//company saving is 85 per cent to the cost\n",
"printf('Annual Saving on heating is %3.0f  Pound\n',As)\n",
"\n",
"\n",
"if(As> Ci) then\n",
"disp('The investment has a pay-back period of less than 1 year');\n",
"else\n",
"disp('The investment has not a pay-back period of less than 1 year');\n",
"end"
   ]
   }
,
{
		   "cell_type": "markdown",
		   "metadata": {},
		   "source": [
			"## Example 2.6: Cycle_Efficiency.sce"
		   ]
		  },
  {
"cell_type": "code",
	   "execution_count": null,
	   "metadata": {
	    "collapsed": true
	   },
	   "outputs": [],
"source": [
"clear ;\n",
"clc;\n",
"// Example 2.6\n",
"printf('Example 2.6\n\n');\n",
"printf('Page No. 52\n\n');\n",
"\n",
"// given\n",
"P1= 50;// Dry saturated steam pressure in bar\n",
"P2= 0.5;// condenser  pressure in bar\n",
"\n",
"//By using the steam tables saturation temperature is obtained at given pressures\n",
"T1= 537//The saturation temperatue in K at 50 bar\n",
"T2= 306//The saturation temperatue in K at 0.5 bar\n",
"\n",
"// For Carnot Cycle\n",
"n=(1-(T2/T1))*100;\n",
"printf('Efficiency percentage of Carnot Cycle is %3.0f \n',n)\n",
"\n",
"\n",
"// For Rankine Cycle\n",
"// By usins steam tables, the total heat and the sensibles heat  and other remaining parameter has been calculated\n",
"h1= 2794*10^3;//the total heat in dry steam at 50 bar in J/kg\n",
"d= 0.655;// dryness fraction \n",
"h2= 1725*10^3;// the entropy at state 2 in J/kg\n",
"h3= 138*10^3;// the sensible heat at 0.5 bar in J/kg\n",
"Vf= 1.03*10^-3;// volume of fluid im m^3,calculated from steam table\n",
"W= (Vf*(P1-P2))*10^5;// pump work in J/kg\n",
"E=(((h1-h2)-(W))/((h1-h3)-(W)))*100;\n",
"printf('Efficiency percentage of Rankine Cycle is %3.0f \n',E)\n",
"\n",
""
   ]
   }
],
"metadata": {
		  "kernelspec": {
		   "display_name": "Scilab",
		   "language": "scilab",
		   "name": "scilab"
		  },
		  "language_info": {
		   "file_extension": ".sce",
		   "help_links": [
			{
			 "text": "MetaKernel Magics",
			 "url": "https://github.com/calysto/metakernel/blob/master/metakernel/magics/README.md"
			}
		   ],
		   "mimetype": "text/x-octave",
		   "name": "scilab",
		   "version": "0.7.1"
		  }
		 },
		 "nbformat": 4,
		 "nbformat_minor": 0
}
