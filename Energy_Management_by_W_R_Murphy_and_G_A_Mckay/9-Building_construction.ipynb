{
"cells": [
 {
		   "cell_type": "markdown",
	   "metadata": {},
	   "source": [
       "# Chapter 9: Building construction"
	   ]
	},
{
		   "cell_type": "markdown",
		   "metadata": {},
		   "source": [
			"## Example 9.1: Fabric_loss.sce"
		   ]
		  },
  {
"cell_type": "code",
	   "execution_count": null,
	   "metadata": {
	    "collapsed": true
	   },
	   "outputs": [],
"source": [
"clear;\n",
"clc;\n",
"// Example 9.1\n",
"printf('Example 9.1\n\n');\n",
"printf('Page No. 252\n\n');\n",
"\n",
"//given\n",
"a = 40;// in m\n",
"b = 25;// in m\n",
"c = 20;// in m\n",
"d = 10;// in m\n",
"e = 5;// in m\n",
"f = 2;// in m\n",
"g = 3;// in m\n",
"h = 6;// in m\n",
"\n",
"//(1) Production Area\n",
"T1 = 21;// Temperature difference in degree celcius\n",
"T2 = -3;// Temperature difference in degree celcius\n",
"U1 = 1.2;// heat transfer coefficent in W/m-K\n",
"U2 = 5.6;// heat transfer coefficent in W/m-K\n",
"U3 = 2.0;// heat transfer coefficent in W/m-K\n",
"U4 = 0.7;// heat transfer coefficent in W/m-K\n",
"U5 = 0.9;// heat transfer coefficent in W/m-K\n",
"// As Q = U*A*T\n",
"Q1 = (b*h)*U1*T1;// Heat loss in W. wall in W\n",
"Q2 = (((a-c)*h) + (d*h) + (d*f))*U1*T1;// Heat loss in N. wall in W\n",
"Q3 = (c*f)*U2*T1;// Heat loss in N. window in W\n",
"Q4 = (b*g)*U3*T2;// Heat loss in N. wall/internal in W\n",
"Q5 = (b*g)*U1*T1;// Heat loss in E. wall/external in W\n",
"Q6 = (((a-c)*h) + (d*h) + (d*f))*U1*T1;// Heat loss in S. wall in W\n",
"Q7 = (c*f)*U2*T1;// Heat loss in S. window in W\n",
"Q8 = (b*a)*U4*T1;// Heat loss in roof in W\n",
"Q9 = (b*a)*U5*T1;// Heat loss in floor in W\n",
"T_Q_P = Q1 + Q2 + Q3 + Q4 + Q5 + Q6 + Q7 + Q8 + Q9;// in W\n",
"\n",
"//For Office surface\n",
"T3 = 24;// Temperature difference in degree celcius\n",
"T4 = 3;// Temperature difference in degree celcius\n",
"// As Q = U*A*T\n",
"Q_1 = (b*g)*U3*T4;// Heat loss in W. wall in W\n",
"Q_2 = (d*g)*U1*T3;// Heat loss in N. wall in W\n",
"Q_3 = (((b-(2*e))*g) +(e*f))*U1*T3;// Heat loss in E. Wall in W\n",
"Q_4 = (e*f)*U2*T3;// Heat loss in E. window in W\n",
"Q_5 = (e*f)*U2*T3;// Heat loss in E. window in W\n",
"Q_6 = (d*g)*U1*T3;// Heat loss in S. wall in W\n",
"Q_7 = (b*d)*U4*T3;// Heat loss in S. roof in W\n",
"Q_8 = (b*d)*U5*T3;// Heat loss in floor in W\n",
"T_Q_O = Q_1 + Q_2 + Q_3 + Q_4 + Q_5 + Q_6 + Q_7 + Q_8; //in W\n",
"\n",
"T_Q = T_Q_P + T_Q_O;// in W\n",
"printf('Total building fabric loss is %.0f W',T_Q)"
   ]
   }
,
{
		   "cell_type": "markdown",
		   "metadata": {},
		   "source": [
			"## Example 9.2: U_value_calculatio.sce"
		   ]
		  },
  {
"cell_type": "code",
	   "execution_count": null,
	   "metadata": {
	    "collapsed": true
	   },
	   "outputs": [],
"source": [
"clear ;\n",
"clc;\n",
"// Example 9.2\n",
"printf('Example 9.2\n\n');\n",
"printf('Page No. 255\n\n');\n",
"\n",
"//given\n",
"L_Br = 0.105;// Length of brickwork in m\n",
"L_Bl = 0.100;// Length of blockwork in m\n",
"L_C = 0.05;// Length of cavity in m\n",
"K_Br = 0.84;// Thermal conductivity of brickwork in W/m-K\n",
"K_Bl = 0.22;// Thermal conductivity of blockwork in W/m-K\n",
"K_C_in = 0.033;// Thermal conductivity of insulation in cavity in W/m-K\n",
"R_Ex = 0.055;// Resistance of external surface in W/m^2-K\n",
"\n",
"//As R = L/K\n",
"R_Br = (L_Br/K_Br);// Resistance of brickwork in W/m^2-K\n",
"R_Bl = (L_Bl/K_Bl);// Resistance of blockwork in W/m^2-K\n",
"R_C = 0.18;// Resistance of cavity in W/m^2-K\n",
"\n",
"//Without insulation of cavity\n",
"R_T = 0.938;// Total Resistance in W/m^2-K\n",
"// Thermal transmittance - U = (1/R_T)\n",
"U = (1/R_T);// in W/m^2-K\n",
"printf('The U-value of external wall is %.2f W/sq.m K \n',U)\n",
"\n",
"//With insulation of cavity\n",
"//As R = L/K\n",
"R_C_in = (L_C/K_C_in);// Resistance of insulation in cavity in W/m^2-K\n",
"In = R_C_in - R_C;// Net increase in W/m^2-K\n",
"R_T_New = R_T + In;// New total resistance in W/m^2-K\n",
"// Thermal transmittance - U = (1/R_T)\n",
"U_New = (1/R_T_New);// in W/m^2-K\n",
"printf('The new  U-value is with foamed insulation %.3f W/sq.m K',U_New)\n",
" "
   ]
   }
,
{
		   "cell_type": "markdown",
		   "metadata": {},
		   "source": [
			"## Example 9.3: Ventilation_loss.sce"
		   ]
		  },
  {
"cell_type": "code",
	   "execution_count": null,
	   "metadata": {
	    "collapsed": true
	   },
	   "outputs": [],
"source": [
"clear ;\n",
"clc;\n",
"// Example 9.3\n",
"printf('Example 9.3\n\n');\n",
"printf('Page No. 256\n\n');\n",
"\n",
"//given\n",
"N_1 = 1.5;// Ventilation rate in the production area (air changes per hour)\n",
"N_2 = 1.0;//  Ventilation rate in the office suite (air changes per hour)\n",
"\n",
"//From example 9.1\n",
"V_P = 6000;// Voulme of production area in m^3\n",
"V_O = 750;// Voulme of office suite in m^3\n",
"T1 = 21;// Temperature difference in degree celcius\n",
"T2 = -3;// Temperature difference in degree celcius\n",
"T_P = 18;// Temperature difference in degree celcius\n",
"F_loss = 74.4*10^3;// Total fabric loss in W\n",
"\n",
"// As Q_vent = 0.33 * N * V * (T1 - T2)\n",
"Q_vent_P = 0.33 * N_1 * V_P * (T_P - T2);// Ventilation loss in production area in W\n",
"Q_vent_O = 0.33 * N_2 * V_O * (T1 - T2);// Ventilation loss in office suite in W\n",
"V_loss = Q_vent_P + Q_vent_O;// Total ventilation loss in W\n",
"T_loss = F_loss + V_loss;// Total heat loss in W\n",
"p = (V_loss/T_loss)*100;\n",
"printf('percentage of ventilation loss is %.0f percent',p)"
   ]
   }
,
{
		   "cell_type": "markdown",
		   "metadata": {},
		   "source": [
			"## Example 9.4: Environmental_temperature.sce"
		   ]
		  },
  {
"cell_type": "code",
	   "execution_count": null,
	   "metadata": {
	    "collapsed": true
	   },
	   "outputs": [],
"source": [
"clear ;\n",
"clc;\n",
"// Example 9.4\n",
"printf('Example 9.4\n\n');\n",
"printf('Page No. 260\n\n');\n",
"\n",
"//(a) Design loss\n",
"T1 = 18;// Internal teemperature(specified as an Environmental temperature) in degree celcius\n",
"//From example 9.1\n",
"A = [150 200 40 75 75 200 40 1000 1000];// in m^2\n",
"U = [1.2 1.2 5.6 2 1.2 1.2 5.6 0.7 0.9];// in W/m-K\n",
"Qf = 58.3*10^3;// Fabric loss in production area in W\n",
"T2 = -3;// in degree celcius\n",
"s1 =0;\n",
"s2 = 0;\n",
"for i = [1:1:9]\n",
"    s1 = s1+A(i);\n",
"    s2 = s2+U(i)*A(i);\n",
"end\n",
"A_T = s1;// Total area in m^2\n",
"UA_T = s2;// sum of U*A in W/m-K (answer wrongly calculated in the book)\n",
"\n",
"//From example 9.3\n",
"N_1 = 1.5;// Ventilation rate in the production area (air changes per hour)\n",
"V_P = 6000;// Voulme of production area in m^3\n",
"\n",
"//As Qvent = C * (T1 - T2) & C = 0.33*N*V*(1 + ((UA_T)/(4.8*A_T)))\n",
"C = 0.33*N_1*V_P*(1 + ((UA_T)/(4.8*A_T)));\n",
"Q_vent = C * (T1 - T2);// in W\n",
"T_Q1 = Qf + Q_vent;// in W\n",
"printf('The total design loss is %.0f W \n',T_Q1) // (deviation in answer is due to error in calculation in the book)\n",
"\n",
"//(b) Reduced heat loss\n",
"// The heat transfer coeffieint in this problem has been changed as U1\n",
"U1 = [0.44 0.44 2.8 2 0.44 0.44 2.8 0.44 0.9];//in W/m^2-K\n",
"T = [21 21 21 -3 21 21 21 21 21];// Temperature difference in degree celcius\n",
"s3 = 0;\n",
"s4 = 0;\n",
"for i = [1:1:9]\n",
"    s3 = s3+U1(i)*A(i);\n",
"    s4 = s4+U1(i)*A(i)*T(i);\n",
"end\n",
"U1A_T = s3;// in W/m-k (answer wrongly calculated in the book)\n",
"Q_loss = s4// in W\n",
"\n",
"\n",
"//As Qvent = C * (T1 - T2) & C = 0.33*N*V*(1 + ((UA_T)/(4.8*A_T)))\n",
"C = 0.33*N_1*V_P*(1 + ((U1A_T)/(4.8*A_T)))\n",
"Q_vent = C * (T1 - T2)// in W\n",
"T_Q2 = Q_loss + Q_vent// in W\n",
"\n",
"Red = T_Q1 - T_Q2;// In W\n",
"printf('The reduction in loss is %.0f W',Red) // (deviation in answer is due to error in calculation in the book)\n",
"\n",
"\n",
"\n",
"\n",
"\n",
""
   ]
   }
,
{
		   "cell_type": "markdown",
		   "metadata": {},
		   "source": [
			"## Example 9.5: The_degree_day_method.sce"
		   ]
		  },
  {
"cell_type": "code",
	   "execution_count": null,
	   "metadata": {
	    "collapsed": true
	   },
	   "outputs": [],
"source": [
"clear ;\n",
"clc;\n",
"// Example 9.5\n",
"printf('Example 9.5\n\n');\n",
"printf('Page No. 265\n\n');\n",
"\n",
"//given\n",
"T = 21;// Temperature difference in degree celcius\n",
"Deg_d = 2186;// Total degree-days base(15.5 deg C) September_April\n",
"T_D = 18;// Design Temperature in degree celcius\n",
"T_O = 4;// base offset temperature in degree celcius\n",
"T_b = T_D - T_O;// Base temperature in degree celcius\n",
"\n",
"// From Table 9.11 Correction factor for base tempratures other than 15.5 deg C is obtained. So for 14 deg c its 0.82\n",
"C = 0.82;// Correction factor\n",
"Do = Deg_d * C// Corrected degree-days \n",
"\n",
"//(a) Original construction\n",
"//from example 9.4\n",
"Q_d_1 = 133.7*10^3;// Design heat loss in W\n",
"\n",
"H_1 = Q_d_1/T;\n",
"//As E = 24 * H * Do - E = Energy consumption in (Wh)\n",
"E1 = (24*H_1 *Do)/10^6;// in 10^6 Wh ( from this step 'Do' is mistakely taken as 1972 inplace of 1792 in the solution of the book, so there is deviation in answer)\n",
"E_1 = (E1 * 3600)*10^6;// in J\n",
"printf('The total energy consumption in original construction is %.0e J \n',E_1)// Deviation in the answer is due to some calculation error as mentioned above\n",
"\n",
"//(b) Improved insulation\n",
"//from example 9.4\n",
"Q_d_2 = 104.4*10^3;// Design heat loss in W\n",
"\n",
"H_2 = Q_d_2/T;\n",
"//As E = 24 * H * Do - E = Energy consumption in (Wh)\n",
"E2 = (24*H_2 *Do)/10^6;// in 10^6 Wh ( from this step 'Do' is mistakely taken as 2972 inplace of 2792 in the solution of the book, so there is deviation in answer)\n",
"E_2 = (E2 * 3600)*10^6;// in J\n",
"printf('The total energy consumption in improved insulation is %.4e J \n',E_2)// Deviation in the answer is due to some calculation error as mentioned above\n",
"\n",
""
   ]
   }
,
{
		   "cell_type": "markdown",
		   "metadata": {},
		   "source": [
			"## Example 9.6: Surface_condensation.sce"
		   ]
		  },
  {
"cell_type": "code",
	   "execution_count": null,
	   "metadata": {
	    "collapsed": true
	   },
	   "outputs": [],
"source": [
"clear ;\n",
"clc;\n",
"// Example 9.6\n",
"printf('Example 9.6\n\n');\n",
"printf('Page No. 268\n\n');\n",
"\n",
"//given\n",
"U1 = 5.6;// Single glazing heat transfer coefficient in W/m^2_K\n",
"U2 = 2.8;// Double glazing heat transfer coefficient in W/m^2_K\n",
"Ti = 21;// Internal Temperature in degree celcius\n",
"To = -1;// External Temperature in degree celcius\n",
"R_H = 0.5;// Relative humidity\n",
"Rs_i = 0.123;// Surface resistance in (W/m^2-K)^-1\n",
"\n",
"// At 21 Degree celcius and R.H. = 0.5, the dew point is 10.5 degree celcius\n",
"Dew_pt = 10.5;// Dew point in degree celcius\n",
"//As Ts_i = Ti - (Rs_i * U *(Ti - To))\n",
"\n",
"//(a) Single Glazing\n",
"Ts_i_S = Ti - (Rs_i * U1 *(Ti - To));// in degree celcius\n",
"printf('The internal surface temperature for single glazing is %.1f deg C \n',Ts_i_S)\n",
"if (Dew_pt > Ts_i_S) then\n",
"    disp('Surface condensation will occur since it is less than 10.5 deg C.')\n",
"else\n",
"    disp('No surface condensation is expected as it is greater than 10.5 deg C.')\n",
"end\n",
"\n",
"//(b) Double Glazing\n",
"Ts_i_D = Ti - (Rs_i * U2 *(Ti - To));// in degree celcius\n",
"printf('The internal surface temperature for single glazing is %.1f deg C \n',Ts_i_D)\n",
"if (Dew_pt > Ts_i_D) then\n",
"    disp('Surface condensation will occur since it is less than 10.5 deg C.')\n",
"else\n",
"    disp('No surface condensation is expected since it is greater than 10.5 deg C.')\n",
"end"
   ]
   }
,
{
		   "cell_type": "markdown",
		   "metadata": {},
		   "source": [
			"## Example 9.7: Interstitial_condensataion.sce"
		   ]
		  },
  {
"cell_type": "code",
	   "execution_count": null,
	   "metadata": {
	    "collapsed": true
	   },
	   "outputs": [],
"source": [
"clear ;\n",
"clc;\n",
"// Example 9.7\n",
"printf('Example 9.7\n\n');\n",
"printf('Page No. 269\n\n');\n",
"\n",
"//given\n",
"l_1 = 240;// existing length of solid brick in mm\n",
"l_u = 25;// upgraded internal lining in mm\n",
"l_e = 9.5;// Expanded polystyrenne in mm\n",
"T_i = 20;// Internal temperature in degre celcius\n",
"R_H_i = 50;// Internal Relative humidity in percent\n",
"T_e = 0;// External temperature in degre celcius\n",
"R_H_e = 90;// External Relative humidity in percent\n",
"\n",
"K = [0.123 0.059 0.714 0.286 0.055];// Thermal resistance in W/m^2-K\n",
"V_r = [0.0 0.475 3.57 9.60 0.0];// Vapour Resistance in 10^9 N-s/kg\n",
"\n",
"//Refer Figure 9.3\n",
"//From Figure 9.3, the tempeature, dew point, vapour pressure for different interface are obtained\n",
"T = [18.01 17.06 5.51 0.89];// Temperature in degree celcius\n",
"V_p = [1170 1148 986 550];//Vapour pressure in N/m^2\n",
"D_P = [9.5 9.2 7.1 -1.5];// Dew point in degree celcius\n",
"\n",
"h = (T_i - T_e)/sum(K);// in W/m^2\n",
"printf('The heat flow is %.2f W/m^2 \n',h)\n",
"V_p_i = V_p(1);// Internal vapour pressure in N/m^2\n",
"V_p_e = V_p(4);// External vapour pressure in N/m^2\n",
"m = ((V_p_i - V_p_e)/sum(V_r))*10^-9;// in  kg/s\n",
"printf('The vapour mass flow is %.1e kg/s',m)\n",
"\n",
"\n",
""
   ]
   }
,
{
		   "cell_type": "markdown",
		   "metadata": {},
		   "source": [
			"## Example 9.8: Glazing.sce"
		   ]
		  },
  {
"cell_type": "code",
	   "execution_count": null,
	   "metadata": {
	    "collapsed": true
	   },
	   "outputs": [],
"source": [
"clear ;\n",
"clc;\n",
"// Example 9.8\n",
"printf('Example 9.8\n\n');\n",
"printf('Page No. 275\n\n');\n",
"\n",
"//given\n",
"A = 10;// in m^2\n",
"S = 0.77;\n",
"Sa = 0.54;\n",
"//for South\n",
"printf('\t\t\t SOUTH \n')\n",
"I1 = [200 185 165 155 165 185 200];// in W-m^2\n",
"I2 = [500 455 405 385 405 455 500];// in W-m^2\n",
"for i = [1:1:7]\n",
"A_G_S (i) = (A*I1(i)*S) + (A*I2(i)*Sa)\n",
"end\n",
"\n",
"printf('The monthly peak cooling loads for the month March is %.0f W \n',A_G_S(1))\n",
"printf('The monthly peak cooling loads for the month April is %.0f W \n',A_G_S(2))\n",
"printf('The monthly peak cooling loads for the month May is %.0f W \n',A_G_S(3))\n",
"printf('The monthly peak cooling loads for the month June is %.0f W \n',A_G_S(4))\n",
"printf('The monthly peak cooling loads for the month July is %.0f W \n',A_G_S(5))\n",
"printf('The monthly peak cooling loads for the month Aug. is %.0f W \n',A_G_S(6))\n",
"printf('The monthly peak cooling loads for the month Sept. is %.0f W \n\n',A_G_S(7))\n",
"\n",
" //For east\n",
" printf('\t\t\t EAST \n')\n",
"I3 = [110 150 180 190 180 150 110];// in W-m^2\n",
"I4 = [435 510 515 505 515 510 435];// in W-m^2\n",
"for j = [1:1:7]\n",
"A_G_E(j) = (A*I3(j)*S) + (A*I4(j)*Sa);\n",
"end\n",
"printf('The monthly peak cooling loads for the month March is %.0f W \n',A_G_E(1))\n",
"printf('The monthly peak cooling loads for the month April is %.0f W \n',A_G_E(2))\n",
"printf('The monthly peak cooling loads for the month May is %.0f W \n',A_G_E(3))\n",
"printf('The monthly peak cooling loads for the month June is %.0f W \n',A_G_E(4))\n",
"printf('The monthly peak cooling loads for the month July is %.0f W \n',A_G_E(5))\n",
"printf('The monthly peak cooling loads for the month Aug. is %.0f W \n',A_G_E(6))\n",
"printf('The monthly peak cooling loads for the month Sept. is %.0f W \n\n',A_G_E(7))\n",
""
   ]
   }
,
{
		   "cell_type": "markdown",
		   "metadata": {},
		   "source": [
			"## Example 9.9: Design_data.sce"
		   ]
		  },
  {
"cell_type": "code",
	   "execution_count": null,
	   "metadata": {
	    "collapsed": true
	   },
	   "outputs": [],
"source": [
"clear ;\n",
"clc;\n",
"// Example 9.9\n",
"printf('Example 9.9\n\n');\n",
"printf('Page No. 277\n\n');\n",
"\n",
"//given\n",
"A = 15;// glazing area in m^2\n",
"l = 10;// Length of office in m\n",
"h = 6;// height of office in m\n",
"w = 3.5;// width of office in m\n",
"Y_w = 4;// Admittance of wall in W/m^2-K\n",
"Y_f = 3;// Admittance of floor in W/m^2-K\n",
"Y_c = 3;// Admittance of ceiling in W/m^2-K\n",
"N = 1.5;//Ventilation rate (air changes per hour)\n",
"V = l*h*w;// Volume in m^3\n",
"U_G = 5.6;// Transmittance in W/m^2-K\n",
"\n",
"//From table 9.18 and table 9.16\n",
"To = 16.5;// External temperature of June in degree celcius\n",
"T_O = 7.5;// Swing temperature in degre celcius\n",
"I = 155; //Vertical S in W-m^2\n",
"Is = 385;//Vertical S in W-m^2\n",
"S = 0.77;// Solar gain factor\n",
"Sa = 0.54;// Solar gain factor\n",
"\n",
"//As  For the mean internal temperature -Ti = To + ((A*I*S)/((0.33*N*V) + (A*U_G))) \n",
"Ti = To + ((A*I*S)/((0.33*N*V) + (A*U_G)));// in degree celcius\n",
"printf('the mean internal temperature is %.1f deg C \n',Ti)\n",
"\n",
"A_G = (A*Is*Sa) + ((A*U_G) + (0.33*N*V))*T_O;// Swing in gain in W\n",
"Net_A = 2*((w*h) + (l*w)) - A;// Net wall area in m^2\n",
"A_f = l*h;// floor area in m^2\n",
"A_c = l*h;//ceiling area in m^2\n",
"A_Y_w = Net_A * Y_w;// Wall AY in W/K\n",
"A_Y_f = A_f * Y_f;// Floor AY in W/K \n",
"A_Y_c = A_c * Y_c;// ceiling AY in W/K \n",
"A_Y_wi = 84;// Window AY in W/K\n",
"Net_AY = A_Y_w + A_Y_f + A_Y_c + A_Y_wi// in W/K\n",
"Ti_s = ((A_G)/((0.33*N*V) + (Net_AY)))// Internal Temperature swing in deg C\n",
"T_p = Ti + Ti_s;// in deg C\n",
"printf('Peak internal temperature is %.1f deg C',T_p) // Deviation in the answer is due to some calculation approximation in the book\n",
""
   ]
   }
],
"metadata": {
		  "kernelspec": {
		   "display_name": "Scilab",
		   "language": "scilab",
		   "name": "scilab"
		  },
		  "language_info": {
		   "file_extension": ".sce",
		   "help_links": [
			{
			 "text": "MetaKernel Magics",
			 "url": "https://github.com/calysto/metakernel/blob/master/metakernel/magics/README.md"
			}
		   ],
		   "mimetype": "text/x-octave",
		   "name": "scilab",
		   "version": "0.7.1"
		  }
		 },
		 "nbformat": 4,
		 "nbformat_minor": 0
}
