{
"cells": [
 {
		   "cell_type": "markdown",
	   "metadata": {},
	   "source": [
       "# Chapter 10: Air conditioning"
	   ]
	},
{
		   "cell_type": "markdown",
		   "metadata": {},
		   "source": [
			"## Example 10.1: Sensible_heating.sce"
		   ]
		  },
  {
"cell_type": "code",
	   "execution_count": null,
	   "metadata": {
	    "collapsed": true
	   },
	   "outputs": [],
"source": [
"clear ;\n",
"clc;\n",
"// Example 10.1\n",
"printf('Example 10.1\n\n');\n",
"printf('Page No. 293\n\n');\n",
"\n",
"// given\n",
"m = 1;// mass flow rate of initial air mixture in kg/s\n",
"T = 23.5;// Initial temperature in degree celcius\n",
"m1 = 0.6;// Percentage of fresh air mixture\n",
"T1 = 5;// Dry Bulb Temperature of  fresh air in degree celcius\n",
"w1 = 0.005;// Humidity  of fresh air at temperature T1 in kg/kg\n",
"m2 = 0.4;// Percentage of recirculated air mixture\n",
"T2 = 25;// Dry Bulb Temperature of recirculated air in degree celcius\n",
"w2 = 0.015;// Humidity  of recirculated air at temperature T2 in kg/kg\n",
"\n",
"//In air conditioning => m1*w1 + m2*w2 = m*w\n",
"w = (m1*w1 + m2*w2)/m;// in kg/kgs\n",
"printf('The humidity of the air mixture  is %.3f kg/kg \n',w)\n",
"\n",
"//The specific enthalpy in J/kg can be calculated by the formula => h = (1.005*10^3*T) +(w*((2.50*10^6)+(1.86*10^3*T))); where the T is the temperature and w is the humidity at temperature T\n",
"h_f = (1.005*10^3*T1) +(w1*((2.50*10^6)+(1.86*10^3*T1)));// Specific enthalpy of fresh air in J/kg\n",
"h_r = (1.005*10^3*T2) +(w2*((2.50*10^6)+(1.86*10^3*T2)));// Specific enthalpy of recirculated  air in J/kg\n",
"h_m = (1.005*10^3*T) +(w*((2.50*10^6)+(1.86*10^3*T)));// Specific enthalpy of  final air mixture in J/kg\n",
"\n",
"h_t = (m1*h_f) + (m2*h_r);// Total enthalpy of initial air mixturein J/kg\n",
"Q = m*(h_m - h_t);// in Watts\n",
"printf('The load on the heater is% .3f W',Q)\n",
"// Deviation in answer due to direct substitution and some approximation in answer in book\n",
""
   ]
   }
,
{
		   "cell_type": "markdown",
		   "metadata": {},
		   "source": [
			"## Example 10.2: Sensible_cooling.sce"
		   ]
		  },
  {
"cell_type": "code",
	   "execution_count": null,
	   "metadata": {
	    "collapsed": true
	   },
	   "outputs": [],
"source": [
"clear ;\n",
"clc;\n",
"// Example 10.2\n",
"printf('Example 10.2\n\n');\n",
"printf('Page No. 298\n\n');\n",
"\n",
"// given\n",
"m1 = 0.75;// Percentage of fresh air mixture\n",
"T1 = 31;// Dry Bulb Temperature of  fresh air in degree celcius\n",
"w1 = 0.0140;// Humidity  of fresh air at temperature T1 in kg/kg\n",
"m2 = 0.75;// Percentage of recirculated air mixture\n",
"T2 = 22;// Dry Bulb Temperature of recirculated air in degree celcius\n",
"w2 = 0.0080;// Humidity  of recirculated air at temperature T2 in kg/kg\n",
"m = 1.50;// mass flow rate of final air mixture in kg/s\n",
"T = 10;// Dew Point temperature in degree celcius\n",
"\n",
"//In air conditioning => m1*w1 + m2*w2 = m*w\n",
"w = (m1*w1 + m2*w2)/m// in kg/kgs\n",
"printf('The humidity of the air mixture  is %.4f kg/kg \n',w)\n",
"\n",
"\n",
"// from the psychrometric chart, at w = 0.011kg/kg, the  dry bulb temperature is = 26.5 degree celcius  also the humidity of saturated air at 10 degree celcius is 0.0075kg/kg\n",
"T_w = 26.5;// Dry Bulb temerature in degree celcius\n",
"w_10 = 0.0075;// humidity at temperatue T in kg/kg\n",
"\n",
"//the specific enthalpy in J/kg can be calculated by the formula => h = (1.005*10^3*T) +(w*((2.50*10^6)+(1.87*10^3*T))); where the T is the temperature and w is the humidity at temperature T\n",
"\n",
"h_a = (1.005*10^3*T_w) +(w*((2.50*10^6)+(1.88*10^3*T_w)));// Specific enthalpy of recirculated  air in J/kg\n",
"h_s = (1.005*10^3*T) +(w_10*((2.50*10^6)+(1.87*10^3*T)));// Specific enthalpy of saturated air at 10 degree celcius in J/kg\n",
"\n",
"Q = m*(h_a - h_s);// in Watts\n",
"printf('The cooling load on the washer is %.0f W',Q)\n",
"// Answer wrongly calculated in the book"
   ]
   }
],
"metadata": {
		  "kernelspec": {
		   "display_name": "Scilab",
		   "language": "scilab",
		   "name": "scilab"
		  },
		  "language_info": {
		   "file_extension": ".sce",
		   "help_links": [
			{
			 "text": "MetaKernel Magics",
			 "url": "https://github.com/calysto/metakernel/blob/master/metakernel/magics/README.md"
			}
		   ],
		   "mimetype": "text/x-octave",
		   "name": "scilab",
		   "version": "0.7.1"
		  }
		 },
		 "nbformat": 4,
		 "nbformat_minor": 0
}
