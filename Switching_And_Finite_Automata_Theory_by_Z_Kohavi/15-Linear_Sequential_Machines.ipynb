{
"cells": [
 {
		   "cell_type": "markdown",
	   "metadata": {},
	   "source": [
       "# Chapter 15: Linear Sequential Machines"
	   ]
	},
{
		   "cell_type": "markdown",
		   "metadata": {},
		   "source": [
			"## Example 15.10: Reducable.sce"
		   ]
		  },
  {
"cell_type": "code",
	   "execution_count": null,
	   "metadata": {
	    "collapsed": true
	   },
	   "outputs": [],
"source": [
"clc;\n",
"clear;\n",
"A=[0 1 1;\n",
"   1 0 0;\n",
"   1 0 0];\n",
"B=[1;1;0];\n",
"C=[1 1 0;\n",
"   1 1 1];\n",
"D=[0;1];\n",
"K=[C;C*A;C*(A*A)];\n",
"K=modulo(K,2);\n",
"disp('K matrix')\n",
"disp(K);\n",
"disp(rank(K),'since the rank of K is ');\n",
"disp('K is not further reducible');\n",
"//z=K * y;"
   ]
   }
,
{
		   "cell_type": "markdown",
		   "metadata": {},
		   "source": [
			"## Example 15.11: Linear_Machine.sce"
		   ]
		  },
  {
"cell_type": "code",
	   "execution_count": null,
	   "metadata": {
	    "collapsed": true
	   },
	   "outputs": [],
"source": [
"clc;\n",
"clear;\n",
"A=[0 1 0;\n",
"   1 0 0;\n",
"   0 1 1];\n",
"B=[1;1;1];\n",
"C=[1 0 0];\n",
"D=[1];\n",
"K=[C;C*A;C*(A*A)];\n",
"disp(K);\n",
"disp(rank(K),'rank of K matrix is ');\n",
"disp('Since the rank is 2 K matrix can be reduced');\n",
"disp('As only  the first 2 rows are linearly independent therefore');\n",
"T=[1 0 0;0 1 0];\n",
"disp(T,'T =');\n",
"disp('In this case Q is');\n",
"Q=[1 0;0 1];\n",
"disp(Q);\n",
"Q_inv=inv(Q);\n",
"R=T';\n",
"//y_red=T*y;\n",
"A_red=T*A*R;\n",
"B_red=T*B;\n",
"C_red=C*R;\n",
"D_red=D;"
   ]
   }
,
{
		   "cell_type": "markdown",
		   "metadata": {},
		   "source": [
			"## Example 15.12: Linear_Machine_2.sce"
		   ]
		  },
  {
"cell_type": "code",
	   "execution_count": null,
	   "metadata": {
	    "collapsed": true
	   },
	   "outputs": [],
"source": [
"clc;\n",
"clear;\n",
"A=[1 0 0 0;\n",
"   0 0 1 1;\n",
"   1 1 0 0;\n",
"   1 0 1 0];\n",
"B=[1 0;\n",
"   0 0;\n",
"   1 1;\n",
"   1 1];\n",
"C=[0 1 0 1;\n",
"   1 1 1 0];\n",
"D=[1 0;\n",
"   0 1];\n",
"K=[C;C*A;C*(A*A)];\n",
"K=modulo(K,2);\n",
"T=K(1:3,:);\n",
"Q=K(1:3,1:3);\n",
"Q_inv=inv(Q);\n",
"Q_inv=abs(modulo(Q_inv,2));\n",
"R=[Q_inv;[0 0 0]];\n",
"disp('Reduced matrix A is');\n",
"disp(A_red=T*A*R);\n",
"disp('Reduced matrix B is');\n",
"disp(B_red=T*B);\n",
"disp('Reduced matrix C is');\n",
"disp(C_red=C*R);\n",
"disp('Reduced matrix D is');\n",
"disp(D_red=D);"
   ]
   }
,
{
		   "cell_type": "markdown",
		   "metadata": {},
		   "source": [
			"## Example 15.15: Commutative_ring.sce"
		   ]
		  },
  {
"cell_type": "code",
	   "execution_count": null,
	   "metadata": {
	    "collapsed": true
	   },
	   "outputs": [],
"source": [
"clc;\n",
"clear;\n",
"n=4;\n",
"for i=1:4\n",
"    for j=1:4\n",
"        p(i,j)=modulo(i+j-2,4);\n",
"    end\n",
"end\n",
"disp('modulo 4 Addition');\n",
"disp(p);\n",
"for i=1:4\n",
"    for j=1:4\n",
"        p(i,j)=modulo((i-1)*(j-1),4);\n",
"    end\n",
"end\n",
"disp('modulo 4 Multiplication');\n",
"disp(p);\n",
""
   ]
   }
,
{
		   "cell_type": "markdown",
		   "metadata": {},
		   "source": [
			"## Example 15.16: Identifying_Whether_the_Ring_is_a_Field_Or_not.sce"
		   ]
		  },
  {
"cell_type": "code",
	   "execution_count": null,
	   "metadata": {
	    "collapsed": true
	   },
	   "outputs": [],
"source": [
"clc;\n",
"clear;\n",
"n=4;\n",
"a=zeros(1,n);\n",
"for i=1:n\n",
"    for j=1:n\n",
"        pad(i,j)=modulo(i+j-2,4);\n",
"    end\n",
"end\n",
"for i=1:n\n",
"    for j=1:n\n",
"        pmu(i,j)=modulo((i-1)*(j-1),4);\n",
"    end\n",
"end\n",
"t=0;\n",
"for i=1:n\n",
"    for j=1:n\n",
"        if(pad(i,j)==1)\n",
"            t=1;\n",
"            break;\n",
"        end\n",
"     end\n",
"end\n",
"if(t==0)\n",
"    disp('Modulo 4 ring is not a field');\n",
"end\n",
"for i=0:3\n",
"    for j=0:3\n",
"        if(modulo(i*j,4)==1)\n",
"            a(i)=1;\n",
"        end\n",
"    end\n",
"end\n",
"res=0;\n",
"for i=1:max(size(a))\n",
"   if(a(i)==1)\n",
"      res=res+1;\n",
"    end\n",
"end\n",
"if(res==4)\n",
"    disp('Modulo 4 ring is a field');\n",
"else\n",
"    disp('Modulo 4 ring is not a field');\n",
"end"
   ]
   }
,
{
		   "cell_type": "markdown",
		   "metadata": {},
		   "source": [
			"## Example 15.17: Finite_Field.sce"
		   ]
		  },
  {
"cell_type": "code",
	   "execution_count": null,
	   "metadata": {
	    "collapsed": true
	   },
	   "outputs": [],
"source": [
"clc;\n",
"clear;\n",
"n=3;\n",
"for i=1:n\n",
"    for j=1:n\n",
"        p(i,j)=modulo(i+j-2,3);\n",
"    end\n",
"end\n",
"disp('modulo 3 Addition');\n",
"disp(p);\n",
"for i=1:n\n",
"    for j=1:n\n",
"        p(i,j)=modulo((i-1)*(j-1),3);\n",
"    end\n",
"end\n",
"disp('modulo 3 Multiplication');\n",
"disp(p);\n",
""
   ]
   }
,
{
		   "cell_type": "markdown",
		   "metadata": {},
		   "source": [
			"## Example 15.3: Transfer_function.sce"
		   ]
		  },
  {
"cell_type": "code",
	   "execution_count": null,
	   "metadata": {
	    "collapsed": true
	   },
	   "outputs": [],
"source": [
"clc;\n",
"clear;\n",
"T1=[1 2 1];\n",
"T2=[0 1 1];\n",
"n=max(size(T1));\n",
"a=n-1;\n",
"b=a;\n",
"T3=zeros(1,a+b+1);\n",
"for i=1:n\n",
"    b=n-1;\n",
"    for j=1:n\n",
"        T3(a+b+1)=T3(a+b+1)+(T1(i)*T2(j));\n",
"        b=b-1;\n",
"    end\n",
"    a=a-1;\n",
"end\n",
"m=max(size(T3));\n",
"i=1;\n",
"j=m;\n",
"while(i<=floor(m/2) & j>=(ceil(m/2)+1))\n",
"        t=T3(i);\n",
"        T3(i)=modulo(T3(j),3);\n",
"        T3(j)=modulo(t,3);\n",
"        i=i+1;\n",
"        j=j-1;\n",
"end\n",
"T3(ceil(m/2))=modulo(T3(ceil(m/2)),3);\n",
"disp('Top row of the below matrix is powers of the transfer function and bottom row is of coefficients of respective powers');\n",
"disp([4 3 2 1 0]);\n",
"disp(T3);"
   ]
   }
,
{
		   "cell_type": "markdown",
		   "metadata": {},
		   "source": [
			"## Example 15.4: Impulse_response.sce"
		   ]
		  },
  {
"cell_type": "code",
	   "execution_count": null,
	   "metadata": {
	    "collapsed": true
	   },
	   "outputs": [],
"source": [
"clc;\n",
"clear;\n",
"T1=[1 0 1 1];\n",
"h=[1 1 0 1 0 0 0 0 0];\n",
"in=[1 0 1 1];\n",
"l=1;\n",
"for i=2:max(size(in(1,:)))\n",
"    h1=h;\n",
"    if(in(i)==1)\n",
"        for k=1:i-1\n",
"            t=h1(max(size(h1(1,:))));\n",
"            for j=max(size(h1(1,:)))-1:-1:1\n",
"                h1(j+1)=h1(j);\n",
"            end\n",
"            h1(1)=t;\n",
"        end\n",
"        D(l,:)=h1(1,:);\n",
"        l=l+1;\n",
"    end\n",
"end\n",
"output=h+D(1,:)+D(2,:);\n",
"output=modulo(output,2);\n",
"disp(output);"
   ]
   }
,
{
		   "cell_type": "markdown",
		   "metadata": {},
		   "source": [
			"## Example 15.5: Null_Sequence.sce"
		   ]
		  },
  {
"cell_type": "code",
	   "execution_count": null,
	   "metadata": {
	    "collapsed": true
	   },
	   "outputs": [],
"source": [
"clc;\n",
"clear;\n",
"//T=1+D+D^3 over GF(2)\n",
"//let X0 is the null sequence\n",
"//0=X0+DX0+D^3X0 since output of the null sequence is zero\n",
"//Adding X0 on both sides we get X0=DX0+D^3X0\n",
"nul=[0 0 1];\n",
"T=[0 1 0 1];\n",
"j=1;\n",
"for i=1:max(size(T));\n",
"    if(T(i)==1)\n",
"        s(1,j)=i-1;\n",
"        j=j+1;\n",
"    end\n",
"end\n",
"j=4;\n",
"for i=1:7\n",
"    nul(1,j)=nul(1,j-s(1))+nul(1,j-s(2));\n",
"    nul(1,j)=modulo(nul(1,j),2);\n",
"    j=j+1;\n",
"end\n",
"disp('Null Sequence for input 001 is ');\n",
"disp(nul);"
   ]
   }
,
{
		   "cell_type": "markdown",
		   "metadata": {},
		   "source": [
			"## Example 15.6: Null_Sequence_2.sce"
		   ]
		  },
  {
"cell_type": "code",
	   "execution_count": null,
	   "metadata": {
	    "collapsed": true
	   },
	   "outputs": [],
"source": [
"clc;\n",
"clear;\n",
"//T=1+2D^2+D^3 over GF(3)\n",
"//let X0 is the null sequence\n",
"//0=X0+2D^2*X0+D^3*X0 since output of the null sequence is zero\n",
"//Adding X0 on both sides we get 2X0=2D^2*X0+D^3*X0\n",
"//X0=D^2*X0+2D^3*X0\n",
"nul=[1 1 1];\n",
"T=[0 0 1 2];\n",
"j=1;\n",
"for i=1:max(size(T));\n",
"    if(T(i)>=1)\n",
"        s(1,j)=i-1;\n",
"        j=j+1;\n",
"    end\n",
"end\n",
"j=4;\n",
"for i=1:15\n",
"    nul(1,j)=nul(1,j-s(1))+2*nul(1,j-s(2));\n",
"    nul(1,j)=modulo(nul(1,j),3);\n",
"    j=j+1;\n",
"end\n",
"disp('Null Sequence for input 001 is ');\n",
"disp(nul);"
   ]
   }
],
"metadata": {
		  "kernelspec": {
		   "display_name": "Scilab",
		   "language": "scilab",
		   "name": "scilab"
		  },
		  "language_info": {
		   "file_extension": ".sce",
		   "help_links": [
			{
			 "text": "MetaKernel Magics",
			 "url": "https://github.com/calysto/metakernel/blob/master/metakernel/magics/README.md"
			}
		   ],
		   "mimetype": "text/x-octave",
		   "name": "scilab",
		   "version": "0.7.1"
		  }
		 },
		 "nbformat": 4,
		 "nbformat_minor": 0
}
