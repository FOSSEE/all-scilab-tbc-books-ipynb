{
"cells": [
 {
		   "cell_type": "markdown",
	   "metadata": {},
	   "source": [
       "# Chapter 14: Memory Definiteness Information Losslessness of Finite Automata"
	   ]
	},
{
		   "cell_type": "markdown",
		   "metadata": {},
		   "source": [
			"## Example 14.2: Synchronizing_tree.sce"
		   ]
		  },
  {
"cell_type": "code",
	   "execution_count": null,
	   "metadata": {
	    "collapsed": true
	   },
	   "outputs": [],
"source": [
"clc;\n",
"clear;\n",
"N=4;\n",
"//state table of the machine\n",
"s=[ 'PS' 'x=0' 'x=1';\n",
"    'A' 'A' 'B';\n",
"    'B' 'C' 'B';\n",
"    'C' 'A' 'D';\n",
"    'D' 'C' 'B'];\n",
"k=1;l=2;m=1;n=1;\n",
"f(k,4)='ABCD';\n",
"k=k+1;\n",
"for i=2:max(size(s(:,1)))\n",
"    for j=i:max(size(s(:,1)))\n",
"        if(s(i,2)==s(j,2) & i~=j)\n",
"            f(k,l)=strcat([s(i,1) s(j,1)]);\n",
"            l=l+4;\n",
"            if(s(i,2)==s(j,2))\n",
"                g(n,m)=s(i,2);\n",
"                g(n,m+1)='-';\n",
"                m=m+2;\n",
"            else\n",
"                g(n,m)=s(i,2);\n",
"                g(n,m+1)=s(j,2);\n",
"                g(n,m+2)='-';\n",
"                m=m+3;\n",
"            end\n",
"            if(s(i,3)==s(j,3))\n",
"                g(n,m)=s(i,3);\n",
"                g(n,m+1)='-';\n",
"                m=m+2;\n",
"            else\n",
"                g(n,m)=strcat([s(i,3) s(j,3)]);\n",
"                g(n,m+1)='-';\n",
"                m=m+2;\n",
"                for z=2:max(size(s(:,1)))\n",
"                    if(s(z,3)==s(z,1))\n",
"                        h(1,3)=s(z,2);\n",
"                        h(1,5)=s(z,3);\n",
"                    end\n",
"                end\n",
"             end\n",
"        end\n",
"    end\n",
"end\n",
"disp('Synchronizing tree for Machine M3 is ')\n",
"disp(f);\n",
"disp(g);\n",
"disp(h);"
   ]
   }
,
{
		   "cell_type": "markdown",
		   "metadata": {},
		   "source": [
			"## Example 14.3: Contracted_State_Machine.sce"
		   ]
		  },
  {
"cell_type": "code",
	   "execution_count": null,
	   "metadata": {
	    "collapsed": true
	   },
	   "outputs": [],
"source": [
"clc;\n",
"clear;\n",
"s=['PS' 'x=0' 'x=1';\n",
"   'A' 'A' 'B';\n",
"   'B' 'E' 'B';\n",
"   'C' 'E' 'F';\n",
"   'D' 'E' 'F';\n",
"   'E' 'A' 'D';\n",
"   'F' 'E' 'B'];\n",
"z=0;\n",
"disp('Original Machine M4');\n",
"disp(s);\n",
"p=s;\n",
"n=max(size(s(:,1)));\n",
"for i=2:n\n",
"    for j=i:n\n",
"        if(s(i,2)==s(j,2) & s(i,3)==s(j,3) & i~=j)\n",
"            z=z+1;\n",
"            for k=j:n-1\n",
"                p(k,:)=p(k+1,:);\n",
"            end\n",
"            for k=2:n-1\n",
"                if(p(k,2)==s(j,1))\n",
"                    p(k,2)=s(i,1);\n",
"                end\n",
"                if(p(k,3)==s(j,1))\n",
"                    p(k,3)=s(i,1);\n",
"                end\n",
"            end\n",
"        end\n",
"    end\n",
"end\n",
"s=p(1:n-z,:);\n",
"disp('The contracted Table M4');\n",
"disp(s);\n",
"p=s;\n",
"n=n-z;\n",
"z=0;\n",
"for i=2:n\n",
"    for j=i:n\n",
"        if(s(i,2)==s(j,2) & s(i,3)==s(j,3) & i~=j)\n",
"            z=z+1;\n",
"            for k=j:n-1\n",
"                p(k,:)=p(k+1,:);\n",
"            end\n",
"            for k=2:n-1\n",
"                if(p(k,2)==s(j,1))\n",
"                    p(k,2)=s(i,1);\n",
"                end\n",
"                if(p(k,3)==s(j,1))\n",
"                    p(k,3)=s(i,1);\n",
"                end\n",
"            end\n",
"        end\n",
"    end\n",
"end\n",
"s=p(1:n-z,:);\n",
"disp('Repeated Contractions of M4');\n",
"disp(s);\n",
"p=s;\n",
"n=n-z;\n",
"z=0;\n",
"for i=2:n\n",
"    for j=i:n\n",
"        if(s(i,2)==s(j,2) & s(i,3)==s(j,3) & i~=j)\n",
"            z=z+1;\n",
"            for k=j:n-1\n",
"                p(k,:)=p(k+1,:);\n",
"            end\n",
"            for k=2:n-1\n",
"                if(p(k,2)==s(j,1))\n",
"                    p(k,2)=s(i,1);\n",
"                end\n",
"                if(p(k,3)==s(j,1))\n",
"                    p(k,3)=s(i,1);\n",
"                end\n",
"            end\n",
"        end\n",
"    end\n",
"end\n",
"s=p(1:n-z,:);\n",
"disp(s);\n",
"p=s;\n",
"n=n-z;\n",
"z=0;\n",
"for i=2:n\n",
"    for j=i:n\n",
"        if(s(i,2)==s(j,2) & s(i,3)==s(j,3) & i~=j)\n",
"            z=z+1;\n",
"            for k=j:n-1\n",
"                p(k,:)=p(k+1,:);\n",
"            end\n",
"            for k=2:n-1\n",
"                if(p(k,2)==s(j,1))\n",
"                    p(k,2)=s(i,1);\n",
"                end\n",
"                if(p(k,3)==s(j,1))\n",
"                    p(k,3)=s(i,1);\n",
"                end\n",
"            end\n",
"        end\n",
"    end\n",
"end\n",
"s=p(1:n-z,:);\n",
"disp(s);"
   ]
   }
,
{
		   "cell_type": "markdown",
		   "metadata": {},
		   "source": [
			"## Example 14.4: Testing_Table.sce"
		   ]
		  },
  {
"cell_type": "code",
	   "execution_count": null,
	   "metadata": {
	    "collapsed": true
	   },
	   "outputs": [],
"source": [
"clc;\n",
"clear;\n",
"N=4;\n",
"s=[ 'PS' 'x=0' 'x=1';\n",
"    'A' 'A' 'B';\n",
"    'B' 'C' 'B';\n",
"    'C' 'A' 'D';\n",
"    'D' 'C' 'B'];\n",
"n=max(size(s(:,1)));\n",
"s(n+1,:)=['-' '-' '-'];\n",
"l=2;\n",
"for i=2:n\n",
"    for j=i:n\n",
"        if(i~=j)\n",
"            s(n+l,1)=strcat([s(i,1) s(j,1)]);\n",
"            s(n+l,2)=strcat([s(i,2) s(j,2)]);\n",
"            s(n+l,3)=strcat([s(i,3) s(j,3)]);\n",
"            l=l+1;\n",
"        end\n",
"    end\n",
"end\n",
"disp(s);"
   ]
   }
,
{
		   "cell_type": "markdown",
		   "metadata": {},
		   "source": [
			"## Example 14.6: Testing_graph.sce"
		   ]
		  },
  {
"cell_type": "code",
	   "execution_count": null,
	   "metadata": {
	    "collapsed": true
	   },
	   "outputs": [],
"source": [
"clc;\n",
"clear;\n",
"s=['PS' 'x=0' 'x=1';\n",
"   'A' 'A' 'B';\n",
"   'B' 'C' 'D';\n",
"   'C' 'D' 'C';\n",
"   'D' 'B' 'A'];\n",
"q=[0 0;0 0;1 1;1 1];\n",
"n=max(size(s(:,1)));\n",
"l=1;\n",
"for i=2:n\n",
"    z=0;x=0;\n",
"    for j=i:n\n",
"        if(q(i-1,1)==0 & q(i-1,2)==0  & i~=j & z==0)\n",
"            p(l,1)=s(i,1);\n",
"            p(l,2)=strcat([s(i,2) s(i,3)]);\n",
"            p(l,3)='-';\n",
"            l=l+1;z=z+1;\n",
"        else \n",
"            if(q(i-1,1)==1 & q(i-1,2)==1 & x==0)\n",
"                p(l,1)=s(i,1);\n",
"                p(l,2)='-';\n",
"                p(l,3)=strcat([s(i,2) s(i,3)]);\n",
"                l=l+1;x=x+1;\n",
"            end\n",
"        end \n",
"    end\n",
"end\n",
"disp(['PS' 'z=0' 'z=1']);\n",
"disp(p);\n",
"disp(['AB'  '(AC)(AD)(BC)(BD)' '-';\n",
"      'CD'  '-' '(AC)(AD)(BC)(BD)']);"
   ]
   }
,
{
		   "cell_type": "markdown",
		   "metadata": {},
		   "source": [
			"## Example 16.7: Testing_Table_2.sce"
		   ]
		  },
  {
"cell_type": "code",
	   "execution_count": null,
	   "metadata": {
	    "collapsed": true
	   },
	   "outputs": [],
"source": [
"clc;\n",
"clear;\n",
"s=['S' 'C1' 'SB1';\n",
"   'B1' 'S' '-';\n",
"   'C1' 'C2' '-';\n",
"   'C2' '-' 'S'];\n",
"n=max(size(s(:,1)));\n",
"l=1;\n",
"for i=1:n\n",
"    for j=i:n\n",
"        if(i~=j)\n",
"            p(l,1)=strcat([s(i,1) s(j,1)]);\n",
"            if(s(i,2)=='-' | s(j,2)=='-')\n",
"                p(l,2)='-';\n",
"            else\n",
"                p(l,2)=strcat([s(i,2) s(j,2)]);\n",
"            end\n",
"            if(s(i,3)=='-' | s(j,3)=='-')\n",
"                p(l,3)='-';\n",
"            else\n",
"                p(l,3)=strcat([s(i,3) s(j,3)]);\n",
"            end\n",
"            l=l+1;\n",
"       end\n",
"    end\n",
"end"
   ]
   }
],
"metadata": {
		  "kernelspec": {
		   "display_name": "Scilab",
		   "language": "scilab",
		   "name": "scilab"
		  },
		  "language_info": {
		   "file_extension": ".sce",
		   "help_links": [
			{
			 "text": "MetaKernel Magics",
			 "url": "https://github.com/calysto/metakernel/blob/master/metakernel/magics/README.md"
			}
		   ],
		   "mimetype": "text/x-octave",
		   "name": "scilab",
		   "version": "0.7.1"
		  }
		 },
		 "nbformat": 4,
		 "nbformat_minor": 0
}
