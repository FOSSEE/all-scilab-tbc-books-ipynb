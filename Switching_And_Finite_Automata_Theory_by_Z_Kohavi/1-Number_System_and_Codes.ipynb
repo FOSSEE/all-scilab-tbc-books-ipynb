{
"cells": [
 {
		   "cell_type": "markdown",
	   "metadata": {},
	   "source": [
       "# Chapter 1: Number System and Codes"
	   ]
	},
{
		   "cell_type": "markdown",
		   "metadata": {},
		   "source": [
			"## Example 1.10: Division_of_Two_Binary_Numbers.sce"
		   ]
		  },
  {
"cell_type": "code",
	   "execution_count": null,
	   "metadata": {
	    "collapsed": true
	   },
	   "outputs": [],
"source": [
"clc;\n",
"format('v',8);//changing the default precision to 8\n",
"a=1000100110;//first number \n",
"b=11001;//second number\n",
"A=bin21dec(a);//converting a in to decimal number \n",
"B=bin21dec(b);//converting b in to decimal number \n",
"S=A/B;        //multiply the two decimal numbers\n",
"temp=dec21bin(S);//converting the decimal product back to binary\n",
"disp('quotient');\n",
"disp(temp);//displaying the final output"
   ]
   }
,
{
		   "cell_type": "markdown",
		   "metadata": {},
		   "source": [
			"## Example 1.1: converts_no_to_base_10.sce"
		   ]
		  },
  {
"cell_type": "code",
	   "execution_count": null,
	   "metadata": {
	    "collapsed": true
	   },
	   "outputs": [],
"source": [
"clc //clears the command window \n",
"clear//clears all the variables \n",
"\n",
"i=1;w=1;//flags\n",
"\n",
"bin=432.2//given octal number which should be expressed in base 10\n",
"temp1=floor(bin);//separating integer part from the given number\n",
"temp2=modulo(bin,1);//separating decimal part from the given number\n",
"temp2=temp2*10^3;//converting decimal value to interger for convenience\n",
"while(temp1>0)//storing each integer digit in vector for convenience\n",
"    p(i)=modulo(temp1,10);\n",
"    temp1=round(temp1/10);\n",
"    i=i+1;\n",
"end\n",
"while(temp2>0)//storing each decimal digit in vector for convenience\n",
"    q(w)=modulo(temp2,10);\n",
"    temp2=(temp2/10);\n",
"    temp2=round(temp2);\n",
"    w=w+1;\n",
"end\n",
"temp1=0;//clearing temporary variable 'temp1'\n",
"for i=1:length(p)//checking whether it is a binary number or not\n",
"    if(p(i)>8) then\n",
"        disp('not a binary number');\n",
"        abort; \n",
"    end\n",
"end\n",
"\n",
"for i=1:length(p)//multipliying the bits of integer part with their position values and adding \n",
"    temp1=temp1+(p(i)*8^(i-1));\n",
"end\n",
"\n",
"temp2=0;//flag bit\n",
"\n",
"for z=1:length(q)\n",
"//multipliying the bits of decimal part with their position values and adding \n",
"    temp2=temp2+(q(z)*8^(-1*(4-z)));\n",
"end\n",
"temp=temp1+temp2;\n",
"//finally adding both the integer and decimal parts to get total output.\n",
"disp(temp);//displaying the output"
   ]
   }
,
{
		   "cell_type": "markdown",
		   "metadata": {},
		   "source": [
			"## Example 1.2: converts_binary_number_to_base_10.sce"
		   ]
		  },
  {
"cell_type": "code",
	   "execution_count": null,
	   "metadata": {
	    "collapsed": true
	   },
	   "outputs": [],
"source": [
"clc;//clears the command window \n",
"clear;//clears all the variables \n",
"i=1;w=1;\n",
"bin=1101.01;//Given binary number which we need to be convert into decimal \n",
"temp1=floor(bin);//separating integer part from the given number\n",
"temp2=modulo(bin,1);//separating decimal part from the given number\n",
"temp2=temp2*10^3;//converting decimal value to interger for convenience\n",
"while(temp1>0)//storing each integer digit in vector for convenience\n",
"    p(i)=modulo(temp1,10);\n",
"    temp1=floor(temp1/10);\n",
"    i=i+1;\n",
"end\n",
"while(temp2>0)//storing each decimal digit in vector for convenience\n",
"    q(w)=modulo(temp2,2);\n",
"    temp2=(temp2/10);\n",
"    temp2=floor(temp2);\n",
"    w=w+1;\n",
"end\n",
"temp1=0;//flag bit\n",
"for i=1:length(p)//checking whether it is a binary number or not\n",
"    if(p(i)>1) then\n",
"        disp('not a binary number');\n",
"        abort; \n",
"    end\n",
"end\n",
"for i=1:length(p)\n",
"//multipliying bits of integer part with their position values and adding \n",
"    temp1=temp1+(p(i)*2^(i-1));\n",
"end\n",
"temp2=0;//flag bit\n",
"for z=1:length(q)\n",
"//multipliying bits of decimal part with their position values and adding \n",
"    temp2=temp2+(q(z)*2^(-1*(4-z)));\n",
"end\n",
"temp=temp1+temp2;\n",
"//finally adding both the integer and decimal parts to get total output.\n",
"disp(temp);//displaying the output"
   ]
   }
,
{
		   "cell_type": "markdown",
		   "metadata": {},
		   "source": [
			"## Example 1.3: convert_decimal_number_to_base_8.sce"
		   ]
		  },
  {
"cell_type": "code",
	   "execution_count": null,
	   "metadata": {
	    "collapsed": true
	   },
	   "outputs": [],
"source": [
"clc;//clears the command window \n",
"clear;//clears all the variables \n",
"format('v',8);//making the default precision to 8 significant digits\n",
"i=1;\n",
"dec=548;//given decimal number which should be expressed in base 8\n",
"temp=dec;\n",
"i=1;\n",
"d=8;\n",
"while(temp>0)//storing each integer digit in vector for convenience\n",
"     p(i)=(modulo(floor(temp),d))\n",
"     temp=floor(temp)/d;\n",
"     i=i+1;\n",
"end\n",
"temp2=0;\n",
"for j=1:length(p)\n",
"//multipliying bits of integer part with their position values and adding \n",
"    temp2=temp2+(p(j)*10^(j-1));\n",
"end\n",
"disp(temp2,'Octal number');\n",
"dec=345;\n",
"//given decimal number which should be expressed in base 8\n",
"temp=dec;\n",
"i=1;\n",
"d=6;\n",
"while(temp>0)//storing each integer digit in vector for convenience\n",
"     p(i)=(modulo(floor(temp),d))\n",
"     temp=floor(temp)/d;\n",
"     i=i+1;\n",
"end\n",
"temp2=0;\n",
"for j=1:length(p)\n",
"//multipliying bits of integer part with their position values and adding \n",
"    temp2=temp2+(p(j)*10^(j-1));\n",
"end\n",
"disp(temp2,'Base 6');"
   ]
   }
,
{
		   "cell_type": "markdown",
		   "metadata": {},
		   "source": [
			"## Example 1.4: Convert_decimal_value_in_base_10_to_base_8.sce"
		   ]
		  },
  {
"cell_type": "code",
	   "execution_count": null,
	   "metadata": {
	    "collapsed": true
	   },
	   "outputs": [],
"source": [
"clc;//clears the command window \n",
"clear;//clears all the variables \n",
"format('v',8);//making the default precision to 8 significant digits\n",
"i=1;\n",
"dec=0.3125;//given decimal number which should be expressed in base 8\n",
"temp=modulo(0.3125,1);//separating decimal part from the given number\n",
"\n",
"while(temp~=0) //storing each decimal digit in vector for convenience\n",
"    temp=temp*8;\n",
"    p(i)=floor(temp);\n",
"    i=i+1;\n",
"    temp=modulo(temp,1);\n",
"end \n",
"\n",
"temp1=0; //flag bit\n",
"for j=1:length(p)\n",
"//multipliying bits of decimal part with their position values and adding \n",
"    temp1=temp1+(10^(-1*j)*p(j))\n",
"end\n",
"disp(temp1);//displays the final output"
   ]
   }
,
{
		   "cell_type": "markdown",
		   "metadata": {},
		   "source": [
			"## Example 1.5: convert_decimal_number_to_base_2.sce"
		   ]
		  },
  {
"cell_type": "code",
	   "execution_count": null,
	   "metadata": {
	    "collapsed": true
	   },
	   "outputs": [],
"source": [
"clc;//clears the command window \n",
"clear;//clears all the variables \n",
"format('v',18);//changing the default prcision to 20 significant digits\n",
"\n",
"i=1;x=1;//flag bits\n",
"\n",
"dec=432.354;//given decimal number which should be expressed in base 2\n",
"temp2=floor(dec);//separating integer part from the given number\n",
"temp4=modulo(dec,1);//separating decimal part from the given number\n",
"\n",
"while(temp2>0)//storing each integer digit in vector for convenience\n",
"    p(i)=(modulo(floor(temp2),2))\n",
"    temp2=floor(temp2)/2;\n",
"    i=i+1;\n",
"end\n",
"\n",
"temp2=0;//clearing temporary variable 'temp2'\n",
"\n",
"for j=1:length(p)\n",
"//multipliying bits of integer part with their position values and adding \n",
"    temp2=temp2+(p(j)*10^(j-1));\n",
"end\n",
"\n",
"while(temp4~=0) //storing each decimal digit in vector for convenience\n",
"    temp4=temp4*2;\n",
"    d(x)=floor(temp4);\n",
"    x=x+1;\n",
"    temp4=modulo(temp4,1);\n",
"end \n",
"\n",
"temp5=0;         //clearing temporary variable 'temp5'\n",
"\n",
"for j=1:length(d)\n",
"//multipliying bits of decimal part with their position values and adding \n",
"    temp5=temp5+(10^(-1*j)*d(j))\n",
"end\n",
"\n",
"temp3=temp2+temp5;\n",
"//finally adding both the integer and decimal parts to get total output.\n",
"disp(temp3);//displays output"
   ]
   }
,
{
		   "cell_type": "markdown",
		   "metadata": {},
		   "source": [
			"## Example 1.6: Convert_Octal_number_to_Base_2.sce"
		   ]
		  },
  {
"cell_type": "code",
	   "execution_count": null,
	   "metadata": {
	    "collapsed": true
	   },
	   "outputs": [],
"source": [
"clc;//clears the command window \n",
"clear;//clears all the variables \n",
"format('v',8);//setting the default precision to 8\n",
"\n",
"i=1;w=1;\n",
"\n",
"bin=123.4; //Given octal number which we need to be convert into binary\n",
"temp1=floor(bin);//separating integer part from the given number\n",
"temp2=modulo(bin,1);//separating decimal part from the given number\n",
"temp2=temp2*10^3;//converting decimal value to interger for convenience\n",
"\n",
"while(temp1>0)  //storing each integer digit in vector for convenience\n",
"    p(i)=modulo(temp1,10);\n",
"    temp1=round(temp1/10);\n",
"    i=i+1;\n",
"end\n",
"\n",
"while(temp2>0)  //storing each decimal digit in vector for convenience\n",
"    q(w)=modulo(temp2,10);\n",
"    temp2=(temp2/10);\n",
"    temp2=round(temp2);\n",
"    w=w+1;\n",
"end\n",
"\n",
"temp1=0;  //clearing temporary variable 'temp1'\n",
"\n",
"for i=1:length(p) //checking whether it is a binary number or not\n",
"    if(p(i)>8) then\n",
"        disp('not a binary number');\n",
"        abort; \n",
"    end\n",
"end\n",
"\n",
"for i=1:length(p)\n",
"//multipliying bits of decimal part with their position values and adding \n",
"    temp1=temp1+(p(i)*8^(i-1));\n",
"end\n",
"\n",
"temp2=0;//clearing temporary variable 'temp2'\n",
"\n",
"for z=1:length(q)\n",
"//multipliying bits of decimal part with their position values and adding \n",
"    temp2=temp2+(q(z)*8^(-1*(4-z)));\n",
"end\n",
"\n",
"temp=temp1+temp2;\n",
"//adding both integer and decimal parts to get total deciaml value.\n",
"dec=temp;\n",
"\n",
"temp2=floor(dec); //separating integer part from the given number\n",
"temp3=modulo(dec,1);//separating decimal part from the given number\n",
"format('v',18);//setting the default precision to 8\n",
"\n",
"i=1;x=1;//flag bits\n",
"\n",
"while(temp2>0)//storing each integer digit in vector for convenience\n",
"    p(i)=(modulo(floor(temp2),2))\n",
"    temp2=floor(temp2)/2;\n",
"    i=i+1;\n",
"end\n",
"\n",
"temp2=0; //clears temporary variable 'temp2'\n",
"\n",
"for j=1:length(p)\n",
"//multipliying bits of integer part with their position values and adding \n",
"    temp2=temp2+(p(j)*10^(j-1));\n",
"end\n",
"\n",
"temp4=modulo(temp3,1);\n",
"\n",
"while(temp4~=0)//storing each decimal digit in vector for convenience\n",
"    temp4=temp4*2;\n",
"    d(x)=floor(temp4);\n",
"    x=x+1;\n",
"    temp4=modulo(temp4,1);\n",
"end \n",
"\n",
"temp5=0; //clears temporary variable 'temp2'\n",
"\n",
"for j=1:length(d)\n",
"//multipliying bits of decimal part with their position values and adding \n",
"    temp5=temp5+(10^(-1*j)*d(j))\n",
"end\n",
"\n",
"temp=temp2+temp5;\n",
"//finally adding both the integer and decimal parts to get total output.\n",
"disp(temp);//displaying the output"
   ]
   }
,
{
		   "cell_type": "markdown",
		   "metadata": {},
		   "source": [
			"## Example 1.7: Adds_two_binary_numbers.sce"
		   ]
		  },
  {
"cell_type": "code",
	   "execution_count": null,
	   "metadata": {
	    "collapsed": true
	   },
	   "outputs": [],
"source": [
"clc;\n",
"a=0111.10;        //first number \n",
"b=1111.01;        //second number\n",
"A=bin21dec(a);   //converting a in to decimal number \n",
"B=bin21dec(b);   //converting b in to decimal number \n",
"S=A+B;          //adding the two decimal numbers\n",
"temp=dec21bin(S); //converting the decimal sum back to binary\n",
"format('v',10);   //changing the default precision to 8\n",
"disp(temp);       //displaying the final output"
   ]
   }
,
{
		   "cell_type": "markdown",
		   "metadata": {},
		   "source": [
			"## Example 1.8: Subtracts_Two_Binary_numbers.sce"
		   ]
		  },
  {
"cell_type": "code",
	   "execution_count": null,
	   "metadata": {
	    "collapsed": true
	   },
	   "outputs": [],
"source": [
"clc;\n",
"format('v',8);  //changing the default precision to 8\n",
"a=10010.11;     //first number \n",
"b=01100.10;     //second number\n",
"A=bin21dec(a);  //converting a in to decimal number \n",
"B=bin21dec(b);  //converting b in to decimal number \n",
"S=A-B;          //subtracting the two decimal numbers\n",
"temp=dec21bin(S);  //converting the decimal number back to binary\n",
"disp(temp);       //displaying the final output"
   ]
   }
,
{
		   "cell_type": "markdown",
		   "metadata": {},
		   "source": [
			"## Example 1.9: Multiplies_two_Binary_numbers.sce"
		   ]
		  },
  {
"cell_type": "code",
	   "execution_count": null,
	   "metadata": {
	    "collapsed": true
	   },
	   "outputs": [],
"source": [
"clc;\n",
"format('v',8);  //changing the default precision to 8\n",
"a=11001.1;     //first number \n",
"b=110.1;        //second number\n",
"A=bin21dec(a);  //converting a in to decimal number \n",
"B=bin21dec(b);  //converting b in to decimal number \n",
"S=A*B;          //multiply the two decimal numbers\n",
"temp=dec21bin(S); //converting the decimal product back to binary\n",
"disp(temp);       //displaying the final output"
   ]
   }
],
"metadata": {
		  "kernelspec": {
		   "display_name": "Scilab",
		   "language": "scilab",
		   "name": "scilab"
		  },
		  "language_info": {
		   "file_extension": ".sce",
		   "help_links": [
			{
			 "text": "MetaKernel Magics",
			 "url": "https://github.com/calysto/metakernel/blob/master/metakernel/magics/README.md"
			}
		   ],
		   "mimetype": "text/x-octave",
		   "name": "scilab",
		   "version": "0.7.1"
		  }
		 },
		 "nbformat": 4,
		 "nbformat_minor": 0
}
