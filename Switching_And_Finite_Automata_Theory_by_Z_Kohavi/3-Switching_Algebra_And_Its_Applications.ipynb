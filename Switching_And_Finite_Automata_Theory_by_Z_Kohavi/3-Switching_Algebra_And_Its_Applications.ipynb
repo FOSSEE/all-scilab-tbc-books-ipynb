{
"cells": [
 {
		   "cell_type": "markdown",
	   "metadata": {},
	   "source": [
       "# Chapter 3: Switching Algebra And Its Applications"
	   ]
	},
{
		   "cell_type": "markdown",
		   "metadata": {},
		   "source": [
			"## Example 3.10: Tabulate_the_Function_of_2_variables.sce"
		   ]
		  },
  {
"cell_type": "code",
	   "execution_count": null,
	   "metadata": {
	    "collapsed": true
	   },
	   "outputs": [],
"source": [
"clear;\n",
"clc;\n",
"a1=0;a2=a1;a3=a1;\n",
"//all combinations of 2 varible inputs\n",
"f(:,1)=[0;0;1;1];\n",
"f(:,2)=[0;1;0;1];\n",
"disp('The turth table of f for all the combinations of a0,a1,a2,a3 are shown below')\n",
"//determining the values of f for all combinations of a0,a1,a2,a3\n",
"for a3=0:1\n",
"    for a2=0:1\n",
"        for a1=0:1\n",
"            for a0=0:1\n",
"                disp(['   a3' '  a2' '  a1' '  a0']);\n",
"                disp([a3 a2 a1 a0]);\n",
"                    i=1;\n",
"                for x=0:1\n",
"                    for y=0:1\n",
"                        f0=bitand(a0,bitand(bitcmp(x,1),bitcmp(y,1)));\n",
"                        f1=bitand(a1,bitand(bitcmp(x,1),y));\n",
"                        f2=bitand(a2,bitand(x,bitcmp(y,1)));\n",
"                        f3=bitand(a3,bitand(x,y));\n",
"                        f4=bitor(f0,f1);\n",
"                        f5=bitor(f2,f3);\n",
"                        f(i,3)=bitor(f4,f5);\n",
"                        i=i+1;\n",
"                    end\n",
"                end\n",
"                disp(['   x' '   y' '   f']);\n",
"                disp(f);\n",
"                disp('*--------------------*');\n",
"            end\n",
"        end\n",
"    end\n",
"end"
   ]
   }
,
{
		   "cell_type": "markdown",
		   "metadata": {},
		   "source": [
			"## Example 3.11: NOR.sce"
		   ]
		  },
  {
"cell_type": "code",
	   "execution_count": null,
	   "metadata": {
	    "collapsed": true
	   },
	   "outputs": [],
"source": [
"clear;\n",
"clc;\n",
"disp('x NOR x=(x+x)^');\n",
"disp('NOT Gate');\n",
"disp('x NOR x=x^x^=x^');\n",
"disp('OR Gate');\n",
"disp('(x NOR y) NOR (x NOR y) = (x^ NOR y^)^ = x+y');\n",
"disp('AND Gate');\n",
"disp('(x NOR x) NOR (y NOR y )= x^ NOR y^ = xy');\n",
"disp('NAND Gate');\n",
"disp(' NOT ((x NOR x) NOR (y NOR y))= NOT (x^ NOR y^) = NOT(xy) = (xy)^');\n",
"disp('XOR Gate');\n",
"disp('(x^ NOR y^) NOR (x NOR y) = x^y+xy^');\n",
"disp('XNOR Gate');\n",
"disp('(x^ NOR y) NOR (x NOR y^) = xy+x^y^');\n",
"disp('Since every other gate can be implemented using NOR gate it is said to be functionally complete')"
   ]
   }
,
{
		   "cell_type": "markdown",
		   "metadata": {},
		   "source": [
			"## Example 3.12: Transmission_function.sce"
		   ]
		  },
  {
"cell_type": "code",
	   "execution_count": null,
	   "metadata": {
	    "collapsed": true
	   },
	   "outputs": [],
"source": [
"clear;\n",
"clc;\n",
"disp('T=xy^+(x+y^)z');\n",
"disp('from the identity a+a^b=a+b');\n",
"disp('T=xy^+z');"
   ]
   }
,
{
		   "cell_type": "markdown",
		   "metadata": {},
		   "source": [
			"## Example 3.13: Air_Conditioning_System.sce"
		   ]
		  },
  {
"cell_type": "code",
	   "execution_count": null,
	   "metadata": {
	    "collapsed": true
	   },
	   "outputs": [],
"source": [
"clear;\n",
"clc;\n",
"disp('Air conditioning system of a storage warehouse will be turned on if and only if it satisfies these conditions');\n",
"disp('let W denotes weight of 100 tons or more');\n",
"disp('H denotes relative humidity of atleast 60 percent');\n",
"disp('T denotes temparature above 60 degrees');\n",
"disp('P denotes barometric pressure of 30 or more');\n",
"disp('*-first condition-*');\n",
"disp('W<100 tons => W^ ,H>=60 => H , T>60 ');\n",
"disp('A1=W^HT');\n",
"disp('*-second condition-*');\n",
"disp('W>100 tons => W , T>60 => T');\n",
"disp('A2=WT');\n",
"disp('*-third condition-*');\n",
"disp('W<100 tons => W^ ,P>30 => P');\n",
"disp('A3=W^P');\n",
"disp('since Air condtioning system should be activated if any one of the above is satisfied so ');\n",
"disp('A=A1+A2+A3');\n",
"disp('A=W^HT+WT+W^P');\n",
"disp('A=T(W^H+W)+W^P');\n",
"disp('A=T(W+H)+W^P');\n",
"disp('Thus a combinational system with above expression makes the air conditioning system on when required')"
   ]
   }
,
{
		   "cell_type": "markdown",
		   "metadata": {},
		   "source": [
			"## Example 3.14: DeMorgans_Law.sce"
		   ]
		  },
  {
"cell_type": "code",
	   "execution_count": null,
	   "metadata": {
	    "collapsed": true
	   },
	   "outputs": [],
"source": [
"clear;\n",
"clc;\n",
"i=1;\n",
"//all combinations of 2 variable inputs\n",
"f(:,1)=[0;0;1;1];\n",
"f(:,2)=[0;1;0;1];\n",
"//verifying D'morgan first law\n",
"for a=0:1\n",
"    for b=0:1\n",
"        f(i,3)=bitcmp(bitor(a,b),1);\n",
"        f(i,4)=bitand(bitcmp(a,1),bitcmp(b,1));\n",
"        i=i+1;\n",
"    end\n",
"end\n",
"disp('   a    b    (a+b)^    a^b^');\n",
"disp(f);\n",
"disp('Therefore (a+b)^=a^ b^ ');\n",
"//verfying D'morgan 2nd law\n",
"i=1;\n",
"for a=0:1\n",
"    for b=0:1\n",
"        f(i,3)=bitcmp(bitand(a,b),1);\n",
"        f(i,4)=bitor(bitcmp(a,1),bitcmp(b,1));\n",
"        i=i+1;\n",
"    end\n",
"end\n",
"disp('   a    b    (ab)^    a^+b^');\n",
"disp(f);\n",
"//proving D'morgans laws theoritically\n",
"disp('(a+b)^=a^.b^');\n",
"disp('(a.b)^=a^+b^');\n",
"disp('we have show that (a+b)(a+b)^=0 and (a+b)+a^.b^=1');\n",
"disp('(a+b)a^b^=aa^b^+ba^b^=0+a^bb^=0+0=0');\n",
"disp('(a+b)+a^b^=a+b+a^b^=a+b+a^=b+a+a^=b+1=1');\n",
"disp('This proves the first Dmorgan law and in the similar way 2nd law can also be proved');"
   ]
   }
,
{
		   "cell_type": "markdown",
		   "metadata": {},
		   "source": [
			"## Example 3.1: Simplify_1.sce"
		   ]
		  },
  {
"cell_type": "code",
	   "execution_count": null,
	   "metadata": {
	    "collapsed": true
	   },
	   "outputs": [],
"source": [
"clear\n",
"clc;\n",
"disp('T(x,y,z)=x^y^z+yz+xz');\n",
"disp('**Minimise the given expression**');\n",
"disp('**Since z is common in every term taking z common**');\n",
"disp('T(x,y,z)=z(x^y^+y+x)');\n",
"disp('**From the property a+a^b=a+b **');\n",
"disp('T(x,y,z)=z(x^+y+x)');\n",
"disp('**Since we know that a+a^=1 **');\n",
"disp('T(x,y,z)=z(1+y)');\n",
"disp('**we know that 1+a=1 **');\n",
"disp('T(x,y,z)=z.1');\n",
"disp('T(x,y,z)=z');"
   ]
   }
,
{
		   "cell_type": "markdown",
		   "metadata": {},
		   "source": [
			"## Example 3.2: Simplify_2.sce"
		   ]
		  },
  {
"cell_type": "code",
	   "execution_count": null,
	   "metadata": {
	    "collapsed": true
	   },
	   "outputs": [],
"source": [
"clear\n",
"clc\n",
"disp('T(x,y,z)=(x+y)[x^(y^+z^)]^+x^y^+x^z^');\n",
"disp('From the properties 1. (ab)^=a^+b^ 2. (a+b)^=a^b^');\n",
"disp('T(x,y,z)=((x+y)(x+yz))+x^y^+x^z^');\n",
"disp('Multipliying the first 2 terms');\n",
"disp('T(x,y,z)=(x+xyz+xy+yz)+x^y^+x^z^');\n",
"disp('T(x,y,z)=(x(1+y+yz)+yz)+x^y^+x^z^');\n",
"disp('T(x,y,z)=x+yz+x^y^+x^z^');\n",
"disp('we know a+a^b=a+b');\n",
"disp('T(x,y,z)=x+y^+yz+x^z^');\n",
"disp('T(x,y,z)=x+z^+y^+yz');\n",
"disp('T(x,y,z)=x+z^+y^+z');\n",
"disp('since z+z^=1');\n",
"disp('T(x,y,z)=x+1+y^');\n",
"disp('T(x,y,z)=1')"
   ]
   }
,
{
		   "cell_type": "markdown",
		   "metadata": {},
		   "source": [
			"## Example 3.3: Prove_the_identity.sce"
		   ]
		  },
  {
"cell_type": "code",
	   "execution_count": null,
	   "metadata": {
	    "collapsed": true
	   },
	   "outputs": [],
"source": [
"clear\n",
"clc;\n",
"disp('L.H.S = xy+x^y^+yz');\n",
"disp('R.H.S = xy+x^y^+x^z');\n",
"disp('Based on consensus theorem')\n",
"disp('we can write x^y^+yz as x^y^+yz+x^z bcoz the two expressions are equal');\n",
"disp('(x^y^+yz+x^z(y+y^))=x^y^+yz+x^yz+x^y^z');\n",
"disp('x^y^+yz+x^yz+x^y^z=x^y^(1+z)+yz(1+x^)');\n",
"disp('x^y^+yz=x^y^+yz+x^z');\n",
"disp('so L.H.S=xy+x^y^+yz=xy+x^y^+yz+x^z');\n",
"disp('In the similar way xy+yz+x^z can be simplified as xy+x^z');\n",
"disp('so L.H.S becomes xy+x^z+x^y^');\n",
"disp('thus L.H.S= R.H.S');\n",
"disp('hence proved')"
   ]
   }
,
{
		   "cell_type": "markdown",
		   "metadata": {},
		   "source": [
			"## Example 3.4: Determine_The_Output_of_expression.sce"
		   ]
		  },
  {
"cell_type": "code",
	   "execution_count": null,
	   "metadata": {
	    "collapsed": true
	   },
	   "outputs": [],
"source": [
"clear;\n",
"clc;\n",
"//function definition\n",
"x=[0;0;0;0;1;1;1;1];\n",
"y=[0;0;1;1;0;0;1;1];\n",
"z=[0;1;0;1;0;1;0;1];\n",
"f=[1;0;1;1;0;0;1;1];\n",
"g=[0;1;0;1;1;0;1;0];\n",
"//calculating the values of expressions given\n",
"forg=bitor(f,g);\n",
"fandg=bitand(f,g);\n",
"fcmp=bitcmp(f,1);\n",
"s(:,1)=x;\n",
"s(:,2)=y;\n",
"s(:,3)=z;\n",
"s(:,4)=f;\n",
"s(:,5)=g;\n",
"s(:,6)=forg;\n",
"s(:,7)=fandg;\n",
"s(:,8)=fcmp;\n",
"p=['   x','   y','   z','   f','   g','  f+g','  fg','  f^'];\n",
"disp(p);\n",
"disp(s);"
   ]
   }
,
{
		   "cell_type": "markdown",
		   "metadata": {},
		   "source": [
			"## Example 3.5: Simplify_3.sce"
		   ]
		  },
  {
"cell_type": "code",
	   "execution_count": null,
	   "metadata": {
	    "collapsed": true
	   },
	   "outputs": [],
"source": [
"clear;\n",
"clc;\n",
"disp('T(A,B,C,D)=A^C^+ABD+BC^D+AB^D^+ABCD^');\n",
"disp('Assume A^=x , C^=y , BD=z');\n",
"disp('Now from consensus theorem for the first three terms');\n",
"disp('BC^D is the redundant term so it can be removed');\n",
"disp('T(A,B,C,D)=A^C^+ABD+AB^D^+ABCD^');\n",
"disp('T(A,B,C,D)=A^C^+ABD+AD^(B^+BC)');\n",
"disp('we know that a+a^b=a+b');\n",
"disp('T(A,B,C,D)=A^C^+ABD+AD^(B^+C)');\n",
"disp('T(A,B,C,D)=A^C^+A(BD+D^(B^+C))');"
   ]
   }
,
{
		   "cell_type": "markdown",
		   "metadata": {},
		   "source": [
			"## Example 3.6: Simplify_4.sce"
		   ]
		  },
  {
"cell_type": "code",
	   "execution_count": null,
	   "metadata": {
	    "collapsed": true
	   },
	   "outputs": [],
"source": [
"clear\n",
"clc\n",
"disp('T(A,B,C,D)=A^B+ABD+AB^CD^+BC');\n",
"disp('T(A,B,C,D)=B(A^+AD)+C(AD^B^+B)');\n",
"disp('T(A,B,C,D)=B(A^+D)+C(AD^+B)');\n",
"disp('T(A,B,C,D)=A^B+BD+ACD^+BC');\n",
"disp('T(A,B,C,D)=A^B+BD+ACD^+BC(A+A^)');\n",
"disp('T(A,B,C,D)=A^B+A^BC+ABC+BD+ACD^');\n",
"disp('T(A,B,C,D)=A^B(1+C)+ABC+BD+ACD^');\n",
"disp('T(A,B,C,D)=A^B+ABC+BD+ACD^');\n",
"disp('**Now apply consensus theorem for 2nd 3rd and 4th terms**');\n",
"disp('let x=D,y=B,z=AC');\n",
"disp('T(A,B,C,D)=A^B+BD+ACD^');"
   ]
   }
,
{
		   "cell_type": "markdown",
		   "metadata": {},
		   "source": [
			"## Example 3.7: Expand_the_Expression.sce"
		   ]
		  },
  {
"cell_type": "code",
	   "execution_count": null,
	   "metadata": {
	    "collapsed": true
	   },
	   "outputs": [],
"source": [
"clear;\n",
"clc;\n",
"disp('T(x,y,z)=x^y+z^+xyz');\n",
"disp('**To determine the canonical sum of products we have to check for a product which is not a min term and then multiply with the missing variable such that the expression value doesnt change**');\n",
"disp('T(x,y,z)=x^y(z+z^)+(x+x^)(y+y^)z^+xyz');\n",
"disp('T(x,y,z)=x^yz+x^yz^+xyz^+xy^z^+x^yz^+x^y^z^+xyz');\n",
"disp('T(x,y,z)=x^yz+x^yz^+xyz^+xy^z^+x^y^z^+xyz');"
   ]
   }
,
{
		   "cell_type": "markdown",
		   "metadata": {},
		   "source": [
			"## Example 3.8: Expand_the_Expression_2.sce"
		   ]
		  },
  {
"cell_type": "code",
	   "execution_count": null,
	   "metadata": {
	    "collapsed": true
	   },
	   "outputs": [],
"source": [
"clear;\n",
"clc;\n",
"disp('T(x,y,z)=x^(y^+z)');\n",
"disp('**To determine the canonical product of sums form you need to check for a product which is not a max term and then add it with the missing terms such that the expression value is not altered**');\n",
"disp('T(x,y,z)=(x^+yy^+zz^)(xx^+y^+z)');\n",
"disp('a+b+cc^ can be written as product of 2 max terms (a+b+c)(a+b+c^)');\n",
"disp('a+bb^+cc^ can be written as (a+b+c)(a+b+c^)(a+b^+c)(a+b^+c^)');\n",
"disp('from the above two properties we can write the T(x,y,z) as');\n",
"disp('T(x,y,z)=(x^+y+z)(x^+y+z^)(x^+y^+z)(x^+y^+z^)(x+y^+z)(x^+y^+z)');\n",
"disp('T(x,y,z)=(x^+y+z)(x^+y+z^)(x^+y^+z)(x^+y^+z^)(x+y^+z)');"
   ]
   }
,
{
		   "cell_type": "markdown",
		   "metadata": {},
		   "source": [
			"## Example 3.9: POS.sce"
		   ]
		  },
  {
"cell_type": "code",
	   "execution_count": null,
	   "metadata": {
	    "collapsed": true
	   },
	   "outputs": [],
"source": [
"clear;\n",
"clc;\n",
"disp('T(x,y,z)=x^y^z^+x^y^z+x^yz+xyz+xy^z+xy^z^');\n",
"disp('the complement T^ consists of those minterms which are not contained in the expression for T');\n",
"disp('T=[x^yz^+xyz^]^');\n",
"disp('(x+y^+z)(x^+y^+z)');"
   ]
   }
],
"metadata": {
		  "kernelspec": {
		   "display_name": "Scilab",
		   "language": "scilab",
		   "name": "scilab"
		  },
		  "language_info": {
		   "file_extension": ".sce",
		   "help_links": [
			{
			 "text": "MetaKernel Magics",
			 "url": "https://github.com/calysto/metakernel/blob/master/metakernel/magics/README.md"
			}
		   ],
		   "mimetype": "text/x-octave",
		   "name": "scilab",
		   "version": "0.7.1"
		  }
		 },
		 "nbformat": 4,
		 "nbformat_minor": 0
}
