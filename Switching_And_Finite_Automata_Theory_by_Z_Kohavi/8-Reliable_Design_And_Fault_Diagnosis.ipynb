{
"cells": [
 {
		   "cell_type": "markdown",
	   "metadata": {},
	   "source": [
       "# Chapter 8: Reliable Design And Fault Diagnosis"
	   ]
	},
{
		   "cell_type": "markdown",
		   "metadata": {},
		   "source": [
			"## Example 8.1: NOR_Logic_Circuit.sce"
		   ]
		  },
  {
"cell_type": "code",
	   "execution_count": null,
	   "metadata": {
	    "collapsed": true
	   },
	   "outputs": [],
"source": [
"clc;\n",
"clear;\n",
"disp('To find whether h is s-a-0 or not');\n",
"disp('First we have to express f as function of h and x1,x2,x3,x4');\n",
"disp('Simplifying the given logical circuit we obtain the expression of output as');\n",
"disp('f(X,h) = x1x2x3x4 + h(x2x3 + x1^x2^x3^x4^))');\n",
"disp('Here h = x2^x3^');\n",
"disp('let G = x1x2x3x4 & H = h(x2x3 + x1^x2^x3^x4^)');\n",
"disp('Taking derivative on both sides');\n",
"disp('df/dh=G^dH/dh');\n",
"disp('Appllying the formula d[f(X)+g(X)]/dx=f^(X)dg(X)/dx exor g^(X)df(X)/dx exor df(X)/dx.dg(X)/dx');\n",
"disp('df/dh=G^dH/dh=(x1^+x2^+x3^+x4^)(x2x3+x1^x2^x3^x4^)');\n",
"disp('df/dh=x1^x2x3+x2x3x4^+x1^x2^x3^x4^');\n",
"disp('To find tests for h s-a-0 we compute the values for which h(df/dh)=1');\n",
"disp('hdf/dh=x2^x3^(x1^x2x3+x2x3x4^+x1^x2^x3^x4^)');\n",
"disp('hdf/dh=x1^x2^x3^x4^');\n",
"disp('Thus the test set for h s-a-0 is X(0,0,0,0)');"
   ]
   }
,
{
		   "cell_type": "markdown",
		   "metadata": {},
		   "source": [
			"## Example 8.2: Path_Sensitizing.sce"
		   ]
		  },
  {
"cell_type": "code",
	   "execution_count": null,
	   "metadata": {
	    "collapsed": true
	   },
	   "outputs": [],
"source": [
"clc;\n",
"clear;\n",
"disp('To prove whether there possibiliy of identifing the fault by sensitising just a single path');\n",
"disp('Let us sensitize the path G3 G6 G9');\n",
"disp('This requires G6=1 , G10=0 , G11=0 ,G8=0 ');\n",
"disp('Which inturn requires x2=0 and x3=0 (since G6=1)');\n",
"disp('G10=0 impiles that x4=1 regardless of whether there is a fault or not');\n",
"disp('G11=0 implies G7=1(since x3=0) which in turn implies x4=0');\n",
"disp('Evidently to satisfy both G10=0 and G11=0 we must set conflicting requirements on x4 and thus have a contradiction');\n",
"disp('By symmetry of the circuit it is obvious that an attempt to sensitize the path through G10 will also fail');\n",
"disp('Hence the method of one dimensional path sensitizing fails to generate the test inputs to detect the fault');"
   ]
   }
,
{
		   "cell_type": "markdown",
		   "metadata": {},
		   "source": [
			"## Example 8.3: Two_level_OR_AND_Network.sce"
		   ]
		  },
  {
"cell_type": "code",
	   "execution_count": null,
	   "metadata": {
	    "collapsed": true
	   },
	   "outputs": [],
"source": [
"clc;\n",
"clear;\n",
"disp('BY following the procedure discussed in Section 8.6');\n",
"disp('we find that {a}={0 or 2 or 3,9,15}');\n",
"disp('and {b}={7,8.11.13.14}');\n",
"disp('Thus the minimal sets of tests for the above network are ');\n",
"disp('{T}={0 or 2 or 3,7,8,9,11,13,14,15}');\n",
"disp('In this case the s-tests and b-tests correspond to s-a-0 and s-a-1 respectively');"
   ]
   }
,
{
		   "cell_type": "markdown",
		   "metadata": {},
		   "source": [
			"## Example 8.4: Various_errors_Summarized.sce"
		   ]
		  },
  {
"cell_type": "code",
	   "execution_count": null,
	   "metadata": {
	    "collapsed": true
	   },
	   "outputs": [],
"source": [
"clc;\n",
"clear;\n",
"disp('Various errors associated with some commonly used gates are summarised below');\n",
"disp('A 0-to-1 error in an AND gate with R identical inputs is subcritical');\n",
"disp('since the output depends on the other input so it is subcritical');\n",
"disp('If the same 0-to-1 error is in a OR gate with R identical inputs then it is critical error');\n",
"disp('since an error input struck at 1 will make the output of OR gate to 1 all the time');\n",
"disp('Similarly the critical error of AND gate is subcritical error of OR gate');\n",
"disp('Similarly the error classicfication in various gates is mentioned in Table 8-2')"
   ]
   }
],
"metadata": {
		  "kernelspec": {
		   "display_name": "Scilab",
		   "language": "scilab",
		   "name": "scilab"
		  },
		  "language_info": {
		   "file_extension": ".sce",
		   "help_links": [
			{
			 "text": "MetaKernel Magics",
			 "url": "https://github.com/calysto/metakernel/blob/master/metakernel/magics/README.md"
			}
		   ],
		   "mimetype": "text/x-octave",
		   "name": "scilab",
		   "version": "0.7.1"
		  }
		 },
		 "nbformat": 4,
		 "nbformat_minor": 0
}
