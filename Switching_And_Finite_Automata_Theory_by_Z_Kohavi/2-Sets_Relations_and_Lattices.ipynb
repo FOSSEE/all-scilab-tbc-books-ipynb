{
"cells": [
 {
		   "cell_type": "markdown",
	   "metadata": {},
	   "source": [
       "# Chapter 2: Sets Relations and Lattices"
	   ]
	},
{
		   "cell_type": "markdown",
		   "metadata": {},
		   "source": [
			"## Example 2.11: Partial_Ordering_Divisibilty_Relation.sce"
		   ]
		  },
  {
"cell_type": "code",
	   "execution_count": null,
	   "metadata": {
	    "collapsed": true
	   },
	   "outputs": [],
"source": [
"clear;\n",
"clc;\n",
"//N=input('enter the number for which divisibilty ');\n",
"N=45;        //divident\n",
"h=1;\n",
"for i=1:N        //finding all the divisors of 45\n",
"    if(modulo(N,i)==0)\n",
"        r(h)=i;\n",
"        h=h+1;\n",
"     end\n",
"end\n",
"n=max(size(r));\n",
"disp('Hasse Diagram')       //displaying in the form of hasse diagram\n",
"disp('------------')\n",
"disp(r(n));\n",
"h=2;\n",
"for i=n-1:-2:3\n",
"    disp('-----------');\n",
"    disp(r(i),r(i-1));\n",
"    h=h+1;\n",
"end\n",
"disp('----------')\n",
"disp(r(1));"
   ]
   }
,
{
		   "cell_type": "markdown",
		   "metadata": {},
		   "source": [
			"## Example 2.12: Ordering_Relation.sce"
		   ]
		  },
  {
"cell_type": "code",
	   "execution_count": null,
	   "metadata": {
	    "collapsed": true
	   },
	   "outputs": [],
"source": [
"clear\n",
"clc\n",
"N=4;\n",
"//defining all the partial ordered sets\n",
"s(1,:)=[1 0];\n",
"s(2,:)=[0 1];\n",
"s(3,:)=[0 0];\n",
"s(4,:)=[1 1];\n",
"//Finding \n",
"a=1;b=1;\n",
"for i=1:1:N            //sorting based on the level\n",
"    for j=i:1:N\n",
"        if(i~=j)\n",
"            u=s(i,1)+s(i,2);\n",
"            v=s(j,1)+s(j,2);\n",
"            if(u<v)\n",
"                temp(1)=s(i,1);\n",
"                temp(2)=s(i,2);\n",
"                s(i,1)=s(j,1);\n",
"                s(i,2)=s(j,2);\n",
"                s(j,1)=temp(1);\n",
"                s(j,2)=temp(2);\n",
"            end\n",
"        end\n",
"    end\n",
"end\n",
"// displaying in the form of hasse graph form\n",
"disp('1st stage of Hasse diagram');\n",
"disp(s(1,:));\n",
"disp('2nd stage of Hasse diagram');\n",
"disp(s(2,:));\n",
"disp(s(3,:));\n",
"disp('3rd stage of Hasse diagram');\n",
"disp(s(4,:));"
   ]
   }
,
{
		   "cell_type": "markdown",
		   "metadata": {},
		   "source": [
			"## Example 2.15: Lattice_Of_subsets.sce"
		   ]
		  },
  {
"cell_type": "code",
	   "execution_count": null,
	   "metadata": {
	    "collapsed": true
	   },
	   "outputs": [],
"source": [
"clear\n",
"clc\n",
"N=3;\n",
"s=['a' 'b' 'c'];        //set for which lattice should be defined\n",
"for i=2:2^3\n",
"    s(i,:)=s(1,:);\n",
"end\n",
"//defining 2nd level vertices of the lattice\n",
"for i=2:4\n",
"    s(i,i-1)='0';\n",
"end\n",
"//defining 3rd level vertices of the lattice\n",
"for i=5:6\n",
"    s(i,i-4)='0';\n",
"    s(i,i-3)='0';\n",
"end\n",
"s(7,1)='0';s(7,3)='0';\n",
"//defining the final level of vertices of the lattice\n",
"s(8,:)=['0' '0' '0'];\n",
"disp('1st level');\n",
"disp(s(1,:));\n",
"disp('2nd level');\n",
"disp(s(2,:));\n",
"disp(s(3,:));\n",
"disp(s(4,:));\n",
"disp('3rd level');\n",
"disp(s(5,:));\n",
"disp(s(6,:));\n",
"disp(s(7,:));\n",
"disp('4th level');\n",
"disp(s(8,:));"
   ]
   }
,
{
		   "cell_type": "markdown",
		   "metadata": {},
		   "source": [
			"## Example 2.16: glb_and_ulb.sce"
		   ]
		  },
  {
"cell_type": "code",
	   "execution_count": null,
	   "metadata": {
	    "collapsed": true
	   },
	   "outputs": [],
"source": [
"clear;\n",
"clc;\n",
"par1=['ab','cde','fh','gi'];    //initial partitions par1\n",
"par2=['abc','de','fg','hi'];    //partition 2 \n",
"//par=par1+par2;\n",
"//lub-lower upper bound\n",
"par_lub=['abcde','fghi'];\n",
"disp(par_lub);\n",
"//par=par1.par2\n",
"//glb-greatest lower bound\n",
"par_glb=['ab','c','de','f','g','h','i'];\n",
"disp(par_glb);"
   ]
   }
,
{
		   "cell_type": "markdown",
		   "metadata": {},
		   "source": [
			"## Example 2.1: Set_Of_All_even_Numbers.sce"
		   ]
		  },
  {
"cell_type": "code",
	   "execution_count": null,
	   "metadata": {
	    "collapsed": true
	   },
	   "outputs": [],
"source": [
"clear;\n",
"clc;\n",
"//lower=input('input the lower limit of the set');\n",
"//upper=input('input the upper limit of the set');\n",
"lower=1;    //lower limit of the set \n",
"upper=10;   //upper limit of the set\n",
"temp=lower;\n",
"h=1;i=1;\n",
"while(temp<=upper)\n",
"    if(modulo(temp,2)==0)       //checking whether a number is even or not\n",
"        e(h)=temp;\n",
"        h=h+1;\n",
"    else\n",
"        o(i)=temp;             //odd number \n",
"        i=i+1;\n",
"    end\n",
"    temp=temp+1;\n",
"end;\n",
"disp('the set of even number between the limits')\n",
"disp(e);\n",
"disp('the set of odd number between the limits')\n",
"disp(o);"
   ]
   }
,
{
		   "cell_type": "markdown",
		   "metadata": {},
		   "source": [
			"## Example 2.2: Subsets_Of_a_Faces_of_a_die.sce"
		   ]
		  },
  {
"cell_type": "code",
	   "execution_count": null,
	   "metadata": {
	    "collapsed": true
	   },
	   "outputs": [],
"source": [
"clear;\n",
"clc;\n",
"//N=input('enter the elements in the set');\n",
"//n=1;\n",
"//while(n<=N)\n",
"//    i(n)=input('enter the elements of first set');\n",
"//    n=n+1;\n",
"//end;\n",
"N=6;\n",
"i(1)='f1';i(2)='f2';i(3)='f3';i(4)='f4';i(5)='f5';i(6)='f6';\n",
"disp('null set');   //since null set is subset of any set.\n",
"for a=1:1:N        //set of single elements\n",
"    disp(i(a));\n",
"end\n",
"c=1;\n",
"for a=1:1:N-1            //set of two elements\n",
"    for b=a:1:N\n",
"        if(a~=b)\n",
"          m(c,1)=i(a);\n",
"          m(c,2)=i(b);\n",
"          c=c+1;\n",
"        end\n",
"    end;\n",
"end;\n",
"disp(m);\n",
"d=1;\n",
"for a=1:1:N            //set of three elements\n",
"    for b=a:1:N\n",
"        for c=b:1:N\n",
"            if((a~=b)&(b~=c)&(c~=a))\n",
"               p(d,1)=i(a);\n",
"               p(d,2)=i(b);\n",
"               p(d,3)=i(c);\n",
"               d=d+1;\n",
"            end\n",
"        end\n",
"    end\n",
"end\n",
"disp(p);\n",
"e=1;\n",
"for a=1:1:N            //set of four elements\n",
"    for b=a:1:N\n",
"        for c=b:1:N\n",
"            for d=c:1:N\n",
"                if((a~=b)&(b~=c)&(c~=d)&(d~=a)&(b~=d)&(a~=c))\n",
"                   q(e,1)=i(a);\n",
"                   q(e,2)=i(b);\n",
"                   q(e,3)=i(c);\n",
"                   q(e,4)=i(d)\n",
"                   e=e+1;\n",
"                end\n",
"            end\n",
"        end\n",
"    end\n",
"end\n",
"disp(q);\n",
"f=1;\n",
"for a=1:1:N            //set of five elements\n",
"    for b=a:1:N\n",
"        for c=b:1:N\n",
"            for d=c:1:N\n",
"                for e=d:1:N\n",
"                    if((a~=b)&(b~=c)&(c~=d)&(d~=e)&(e~=a)&(a~=c)&(a~=d)&(b~=d)&(c~=e)&(b~=e))\n",
"                       r(f,1)=i(a);\n",
"                       r(f,2)=i(b);\n",
"                       r(f,3)=i(c);\n",
"                       r(f,4)=i(d);\n",
"                       r(f,5)=i(e);\n",
"                       f=f+1;\n",
"                    end\n",
"                end\n",
"            end\n",
"        end\n",
"    end\n",
"end\n",
"disp(r);\n",
"for a=1:1:N            //set of six elements\n",
"    s(1,1)=i(1);\n",
"    s(1,2)=i(2);\n",
"    s(1,3)=i(3);\n",
"    s(1,4)=i(4);\n",
"    s(1,5)=i(5);\n",
"    s(1,6)=i(6);\n",
"end\n",
"disp(s);"
   ]
   }
,
{
		   "cell_type": "markdown",
		   "metadata": {},
		   "source": [
			"## Example 2.4: Relation_between_two_sets.sce"
		   ]
		  },
  {
"cell_type": "code",
	   "execution_count": null,
	   "metadata": {
	    "collapsed": true
	   },
	   "outputs": [],
"source": [
"clear;\n",
"clc;\n",
"N1=2;\n",
"N2=3;\n",
"//n=1;\n",
"//while(n<=N1)\n",
"//    i(n)=input('enter the elements of first set');\n",
"//    n=n+1;\n",
"//end;\n",
"i=['p' 'q'];    //set A\n",
"//n=1;\n",
"//while(n<=N2)\n",
"//    j(n)=input('enter the elements of second set');\n",
"//    n=n+1;\n",
"//end;\n",
"j=['r' 's' 't'];    //set B\n",
"c=1;d=1;\n",
"for a=1:1:N1    //realtion between sets A and B\n",
"    for b=1:1:N2\n",
"      m(c,d)=i(a);\n",
"      m(c,d+1)=j(b);\n",
"      c=c+1;\n",
"    end;\n",
"end;\n",
"disp(m);"
   ]
   }
,
{
		   "cell_type": "markdown",
		   "metadata": {},
		   "source": [
			"## Example 2.5: Equivalence_relation.sce"
		   ]
		  },
  {
"cell_type": "code",
	   "execution_count": null,
	   "metadata": {
	    "collapsed": true
	   },
	   "outputs": [],
"source": [
"clear;\n",
"clc;\n",
"//N=input('enter the no of elements in the set :');\n",
"//for i=1:1:N\n",
"//    s(1,i)=input('enter the elements in the set :');\n",
"//end;\n",
"//n=input('enter the number of pairs in the relation :');\n",
"//for j=1:1:n\n",
"//    for k=1:1:2\n",
"//        r(j,k)=input('enter the elements in the relation :');\n",
"//    end\n",
"//end\n",
"N=2;\n",
"s=['a' 'b'];        //elements in the set\n",
"n=3;\n",
"r=['a' 'a';'b' 'b';'a' 'b'];    //realtion between the elements in the above set.\n",
"ref=zeros(1,N);\n",
"for a=1:1:N\n",
"   for b=1:1:n\n",
"      if(r(b,1)==s(1,a)&r(b,2)==s(1,a))\n",
"           ref(1,a)=1;\n",
"      end\n",
"   end\n",
"end\n",
"for i=1:1:N        //checking whether above relation is reflexive or not\n",
"    if(ref(1,i)==1)\n",
"        disp('the above relation is reflexive with elements ');\n",
"        disp(s(1,i));\n",
"        disp(' ');\n",
"    end\n",
"end\n",
"sym=zeros(1,(N*N-1)/2);\n",
"s(1,N+1)=s(1,1);\n",
"for a=1:1:N            //checking whether above relation is symmetric or not\n",
"   for b=1:1:n\n",
"      if(r(b,1)==s(1,a)&r(b,2)==s(1,a+1))\n",
"          for d=1:1:n\n",
"            if(r(d,1)==s(1,a+1)&r(d,2)==s(1,a))\n",
"                sym(1,a)=1;\n",
"                disp('the above relation is symmetric for these pairs :');\n",
"                disp(')',s(1,a+1),s(1,a),'(');\n",
"            end\n",
"          end\n",
"       end\n",
"    end\n",
"end\n",
"for a=1:1:n            //checking whether it is transtive or not.\n",
"    u=r(a,1);\n",
"    v=r(a,2);\n",
"        for b=a:1:n\n",
"            if(r(b,1)==v)\n",
"                w=r(b,2);\n",
"                    for c=b:1:n\n",
"                        if(r(c,1)==w&r(c,2)==u)\n",
"                            disp('satisfies transtitve property');\n",
"                            abort;\n",
"                        end\n",
"                    end\n",
"            end\n",
"        end\n",
"end"
   ]
   }
,
{
		   "cell_type": "markdown",
		   "metadata": {},
		   "source": [
			"## Example 2.6: Equivalence_relation_2.sce"
		   ]
		  },
  {
"cell_type": "code",
	   "execution_count": null,
	   "metadata": {
	    "collapsed": true
	   },
	   "outputs": [],
"source": [
"clear;\n",
"clc;\n",
"//N=input('enter the elements in the set :');\n",
"//for i=1:1:N\n",
"//    s(i)=input('enter the elements :');\n",
"//end\n",
"N=2;\n",
"s=['a' 'b'];\n",
"disp('The equivalence relation of above set is :');\n",
"h=1;\n",
"for i=1:1:N        //to satisfy reflexive property\n",
"    ref(h,1)=s(i);\n",
"    ref(h,2)=s(i);\n",
"    h=h+1;\n",
"end\n",
"for i=1:1:N        //to satisfy symmetric property\n",
"    for j=i:1:N\n",
"        if(i~=j)\n",
"            ref(h,1)=s(i);\n",
"            ref(h,2)=s(j);\n",
"            h=h+1;\n",
"        end\n",
"    end\n",
"end\n",
"m=1;\n",
"for i=1:max(size(ref(:,1)))        //to satisfy transtive property\n",
"    if(ref(i,1)~=ref(i,2))\n",
"        ref1(m,1)=ref(i,2);\n",
"        ref1(m,2)=ref(i,1);\n",
"        m=m+1;\n",
"    end\n",
"end\n",
"disp(ref);\n",
"disp(ref1);"
   ]
   }
,
{
		   "cell_type": "markdown",
		   "metadata": {},
		   "source": [
			"## Example 2.7: Function_Check.sce"
		   ]
		  },
  {
"cell_type": "code",
	   "execution_count": null,
	   "metadata": {
	    "collapsed": true
	   },
	   "outputs": [],
"source": [
"clc;\n",
"clear;\n",
"//n1=input('enter the no of elements in the 1st set');\n",
"//for i=1:1:n1\n",
"//    s1(i)=input('enter the elements of 1st set:');\n",
"//end\n",
"n1=3;\n",
"s1=['a1' 'a2' 'a3'];        //set A\n",
"//n2=input('enter the no of elements in the 2nd set');\n",
"//for i=1:1:n2\n",
"//    s2(i)=input('enter the elements of 2ns set:');\n",
"//end\n",
"n2=2;\n",
"s1=['b1' 'b2'];        //set B\n",
"//N=input('enter the pairs in the relation which you want to check whether is a function');\n",
"//for i=1:1:N\n",
"//    for j=1:1:2\n",
"//       r(i,j)=input('enter the elements in the relation:');\n",
"//    end\n",
"//end\n",
"N=3;\n",
"r=['a1' 'b1';'a2' 'b2';'a2' 'b1'];        //Realtion r\n",
"for i=1:1:N            //checks whether the relation is function or not\n",
"    for j=i:1:N\n",
"        if(r(i,1)==r(j,1) & i~=j)\n",
"            disp('the relation is not a function');\n",
"            abort;\n",
"         end\n",
"    end\n",
"end\n",
"disp('the realtion is a fucntion');"
   ]
   }
],
"metadata": {
		  "kernelspec": {
		   "display_name": "Scilab",
		   "language": "scilab",
		   "name": "scilab"
		  },
		  "language_info": {
		   "file_extension": ".sce",
		   "help_links": [
			{
			 "text": "MetaKernel Magics",
			 "url": "https://github.com/calysto/metakernel/blob/master/metakernel/magics/README.md"
			}
		   ],
		   "mimetype": "text/x-octave",
		   "name": "scilab",
		   "version": "0.7.1"
		  }
		 },
		 "nbformat": 4,
		 "nbformat_minor": 0
}
