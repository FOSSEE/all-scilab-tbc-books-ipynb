{
"cells": [
 {
		   "cell_type": "markdown",
	   "metadata": {},
	   "source": [
       "# Chapter 16: Finite State Recognizers"
	   ]
	},
{
		   "cell_type": "markdown",
		   "metadata": {},
		   "source": [
			"## Example 16.2: Prove_the_identity.sce"
		   ]
		  },
  {
"cell_type": "code",
	   "execution_count": null,
	   "metadata": {
	    "collapsed": true
	   },
	   "outputs": [],
"source": [
"clc;\n",
"clear;\n",
"disp('R1=λ+1*(011)*(1*(011)*)*');\n",
"//from the identity λ+RR*=R*  where R=1*(011)*\n",
"disp('R2=(1+011)*');\n",
"//from the identity (P+Q)*=(P*Q*)*\n",
"disp('R1=λ+1*(011)*(1*(011)*)*');\n",
"disp('(1*(011)*)*');\n",
"disp('(1+011)*=R2');"
   ]
   }
,
{
		   "cell_type": "markdown",
		   "metadata": {},
		   "source": [
			"## Example 16.3: Prove_the_identity_2.sce"
		   ]
		  },
  {
"cell_type": "code",
	   "execution_count": null,
	   "metadata": {
	    "collapsed": true
	   },
	   "outputs": [],
"source": [
"clc;\n",
"clear;\n",
"disp('(1+00*1)+(1+00*1)(0+10*1)*(0+10*1)=0*1(0+10*1)*');\n",
"disp('(1+00*1)+(1+00*1)(0+10*1)*(0+10*1)');\n",
"//by taking (1+00*1) as common\n",
"disp('=(1+00*1)[λ+(0+10*1)*(0+10*1)]');\n",
"disp('[(λ+00*)1][λ+(0+10*1)*(0+10*1)]');\n",
"//from the identity λ+RR*=R*\n",
"disp('[0*1(0+10*1)*]');"
   ]
   }
],
"metadata": {
		  "kernelspec": {
		   "display_name": "Scilab",
		   "language": "scilab",
		   "name": "scilab"
		  },
		  "language_info": {
		   "file_extension": ".sce",
		   "help_links": [
			{
			 "text": "MetaKernel Magics",
			 "url": "https://github.com/calysto/metakernel/blob/master/metakernel/magics/README.md"
			}
		   ],
		   "mimetype": "text/x-octave",
		   "name": "scilab",
		   "version": "0.7.1"
		  }
		 },
		 "nbformat": 4,
		 "nbformat_minor": 0
}
