{
"cells": [
 {
		   "cell_type": "markdown",
	   "metadata": {},
	   "source": [
       "# Chapter 12: Structure Of Sequential Machines"
	   ]
	},
{
		   "cell_type": "markdown",
		   "metadata": {},
		   "source": [
			"## Example 12.10: Autonous_Clock.sce"
		   ]
		  },
  {
"cell_type": "code",
	   "execution_count": null,
	   "metadata": {
	    "collapsed": true
	   },
	   "outputs": [],
"source": [
"clc;\n",
"clear;\n",
"disp('Partition pi of the machine M5 is {(AB),(CD),(EF)}');\n",
"disp('If M5 posses a closed partition pi such that pi>λi .if the autonomous clock has #pi states the period p will be less than or equal to #pi ');\n",
"disp('since in the above closed partition of M5 we have 3 states i.e. (AB) as one state and (CD) and (EF) as other two');\n",
"disp('So the periodof the autonomous clock is p=3')"
   ]
   }
,
{
		   "cell_type": "markdown",
		   "metadata": {},
		   "source": [
			"## Example 12.11: partition_pair.sce"
		   ]
		  },
  {
"cell_type": "code",
	   "execution_count": null,
	   "metadata": {
	    "collapsed": true
	   },
	   "outputs": [],
"source": [
"clc;\n",
"clear\n",
"disp('From the definition of partition pair(T,T^)which is an ordered pair of partitions such that if Si and Sj are in the same block of t, then for every input Ik in I, next states are in the same block of T^ ');\n",
"disp('By applying the above definition we can obtain the following partition pairs');\n",
"disp('(pi1,pi1^)=({(ABC),(DEF)},{(ABC),(DEF)})');\n",
"disp('(t1,t1^)=({(ABCD),(EF)},{(AE),(BCDF)})');\n",
"disp('(t2,t2^)=({(AE),(BCDF)},{(ACDE),(BF)})');"
   ]
   }
,
{
		   "cell_type": "markdown",
		   "metadata": {},
		   "source": [
			"## Example 12.12: partition_pair_2.sce"
		   ]
		  },
  {
"cell_type": "code",
	   "execution_count": null,
	   "metadata": {
	    "collapsed": true
	   },
	   "outputs": [],
"source": [
"clc;\n",
"clear;\n",
"//1 is equivalent to A ad 2 to B and so on.\n",
"p1=['A' 'D']; //pairs in partition t(1 and 4 represents that 1st and 4th state are in the same block);\n",
"p2=['C' 'E'];\n",
"\n",
"q1=['A' 'E'];  //pairs in partition t^\n",
"q2=['B' 'D'];\n",
"q3=['C' 'F'];\n",
"\n",
"disp('the following are the partitions of the machine M8');\n",
"disp('T');\n",
"disp('F',p2(2),p2(1),'B',p1);\n",
"disp('T^');\n",
"disp(q3,q2,q1);\n",
"disp('------');\n",
"disp('T');\n",
"disp('F',p2,'B',p1);\n",
"disp('T^');\n",
"disp(q3,[q1 q2]);\n",
"disp('------');"
   ]
   }
,
{
		   "cell_type": "markdown",
		   "metadata": {},
		   "source": [
			"## Example 12.14: State_Consistent_Partitions.sce"
		   ]
		  },
  {
"cell_type": "code",
	   "execution_count": null,
	   "metadata": {
	    "collapsed": true
	   },
	   "outputs": [],
"source": [
"clc;\n",
"clear;\n",
"//assume the first cloumn values are of machine M1 and 2nd column are of M2\n",
"p=[1,1;1 3;2 2;2 4;3 3;3 1;4 4;4 2];\n",
"z=1;\n",
"for i=1:length(p(:,1))\n",
"    for j=i:length(p(:,1))\n",
"        if(p(i,1)==p(j,1) & i~=j)\n",
"            q(z,:)=[p(i,:) p(j,:)];\n",
"            z=z+1;\n",
"        end\n",
"    end\n",
"end\n",
"disp('pi(R)');\n",
"disp(q);\n",
"z=1;\n",
"for i=1:length(p(:,1))\n",
"    for j=i:length(p(:,1))\n",
"        if(p(i,2)==p(j,2) & i~=j)\n",
"            q(z,:)=[p(i,:) p(j,:)];\n",
"            z=z+1;\n",
"        end\n",
"    end\n",
"end\n",
"disp('pi(S)');\n",
"disp(q);"
   ]
   }
,
{
		   "cell_type": "markdown",
		   "metadata": {},
		   "source": [
			"## Example 12.4: Closed_Partitions.sce"
		   ]
		  },
  {
"cell_type": "code",
	   "execution_count": null,
	   "metadata": {
	    "collapsed": true
	   },
	   "outputs": [],
"source": [
"clc;\n",
"clear;\n",
"disp('we know that a partition pi on the set of states of a Sequential machine M is said to be closed if,for every two states Si and Sj which are in the same block of pi and any Ith input successor of Si and Sj are also in the same group');\n",
"disp('Based on the above definition we can make seven closed partitions as below');\n",
"disp('**Parition 1**');\n",
"disp('{A,B,C,D,E,F,G,H}')\n",
"disp('**Parition 1**');\n",
"disp('{(ABCD)(EFGH)}');\n",
"disp('**Parition 2**');\n",
"disp('{(ADEH)(BCFG)}')\n",
"disp('**Parition 3**');\n",
"disp('{(AD)(BCFG)(EH)}');\n",
"disp('**Parition 4**');\n",
"disp('{(ADEH)(BC)(FG)}')\n",
"disp('**Parition 5**');\n",
"disp('{(AD)(BC)(EH)(FG)}')\n",
"disp('**Parition 6**');\n",
"disp('{(ABCCDEFGH)}');\n",
"disp('By assigning values from 000 to 111 to all the states from A to H and obtaining the functions for Y1,Y2,Y3 and z will result in this equations');\n",
"disp('Y1=x^y1^');\n",
"disp('Y2=x^y2+xy2^');\n",
"disp('Y3=xy2+x^y1^y2y3^+y3^y2^y3+y1y2y3+x^y1y2^y3^');\n",
"disp('z=y1^y2^y3');"
   ]
   }
,
{
		   "cell_type": "markdown",
		   "metadata": {},
		   "source": [
			"## Example 12.5: Output_Consistent.sce"
		   ]
		  },
  {
"cell_type": "code",
	   "execution_count": null,
	   "metadata": {
	    "collapsed": true
	   },
	   "outputs": [],
"source": [
"clc;\n",
"clear;\n",
"disp('For the 4 state machine M4 in PG 397');\n",
"disp('IF the four states A,B,C,D are assigned as 00,01,10,11(ta={(AC)(BD)})  and 00,01,11,10(tb={(AD)(BC)})');\n",
"disp('And if the output,next state functions of both the assignments are calculated we can find that ');\n",
"disp('For first assignment ');\n",
"disp('Y1=x^y1+xy1^');\n",
"disp('Y2=x^y2^+y1^y2^+xy1y2');\n",
"disp('z=x^y1^y2^+x^y1y2+xy1^y2+xy1y2^');\n",
"disp('Second Assignment ');\n",
"disp('Y1=x^y1+x^y1');\n",
"disp('Y2=x^y2^+xy1^y2+y1y2^');\n",
"disp('z=x^y2^+xy2');\n",
"disp('Since the second assignment results in reduced output expression this partition is called as output-consistent partition')"
   ]
   }
,
{
		   "cell_type": "markdown",
		   "metadata": {},
		   "source": [
			"## Example 12.7: Dependence.sce"
		   ]
		  },
  {
"cell_type": "code",
	   "execution_count": null,
	   "metadata": {
	    "collapsed": true
	   },
	   "outputs": [],
"source": [
"clc;\n",
"clear;\n",
"disp('A partition pi0 on the states of a machine M is said to be output consistent if for every block pi0 and every input,all the states contained in the block have the same outputs');\n",
"disp('Considering the above definition It can be understood that');\n",
"disp('pi0={(AD),(BC)} is an output consistent partition of machine M4');\n",
"disp('since the outputs of A,D states for any inputs are same and similarly the outputs of B,C are same.');\n",
"disp('So the partition {(AD),(BC)} are said to be output consistent');"
   ]
   }
,
{
		   "cell_type": "markdown",
		   "metadata": {},
		   "source": [
			"## Example 12.8: input_Consistent_Matrix.sce"
		   ]
		  },
  {
"cell_type": "code",
	   "execution_count": null,
	   "metadata": {
	    "collapsed": true
	   },
	   "outputs": [],
"source": [
"clc;\n",
"clear;\n",
"disp('For the Machine M5 in PG 400');\n",
"disp('State A implies the identification of states C and D');\n",
"disp('similarly C implies the identification of E and F states');\n",
"disp('In the same way C implies the identification of A and B');\n",
"disp('Thus the smallest input consistent partition for M5 is ');\n",
"disp('pi={(AB),(CD),(EF)}');\n",
"disp('Any other partition that contains pi is also input consistent')"
   ]
   }
,
{
		   "cell_type": "markdown",
		   "metadata": {},
		   "source": [
			"## Example 12.9: Implementation_of_Input_Consistent_matrix.sce"
		   ]
		  },
  {
"cell_type": "code",
	   "execution_count": null,
	   "metadata": {
	    "collapsed": true
	   },
	   "outputs": [],
"source": [
"clc;\n",
"clear;\n",
"disp('In previosuly problems we have determined the input and output consistent partitions for the Machine M5');\n",
"disp('Input consistent partition {(AB),(CD),(EF)}');\n",
"disp('Output consistent partition {(ACE),(BDF)}');\n",
"disp('By assigning 000 to 101 to all the states from A to F');\n",
"disp('we can find the expressions for the next state and the output');\n",
"disp('Y1=y2');\n",
"disp('Y2=y1^y2^');\n",
"disp('Y3=xy3+xy2+x^y2^y3^+y2y3');\n",
"disp('z=xy3^');"
   ]
   }
],
"metadata": {
		  "kernelspec": {
		   "display_name": "Scilab",
		   "language": "scilab",
		   "name": "scilab"
		  },
		  "language_info": {
		   "file_extension": ".sce",
		   "help_links": [
			{
			 "text": "MetaKernel Magics",
			 "url": "https://github.com/calysto/metakernel/blob/master/metakernel/magics/README.md"
			}
		   ],
		   "mimetype": "text/x-octave",
		   "name": "scilab",
		   "version": "0.7.1"
		  }
		 },
		 "nbformat": 4,
		 "nbformat_minor": 0
}
