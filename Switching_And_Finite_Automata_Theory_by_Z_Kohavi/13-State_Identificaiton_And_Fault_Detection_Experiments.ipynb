{
"cells": [
 {
		   "cell_type": "markdown",
	   "metadata": {},
	   "source": [
       "# Chapter 13: State Identificaiton And Fault Detection Experiments"
	   ]
	},
{
		   "cell_type": "markdown",
		   "metadata": {},
		   "source": [
			"## Example 13.1: Fault_DetectionExeriment.sce"
		   ]
		  },
  {
"cell_type": "code",
	   "execution_count": null,
	   "metadata": {
	    "collapsed": true
	   },
	   "outputs": [],
"source": [
"clc;\n",
"clear;\n",
"disp('By following the general procedure for fault detection in the text book  Page n.o 478');\n",
"disp('According to 3 & 4 steps of general procedure all the inputs are taken as 0 and the output is checked]');\n",
"disp('X:      0  0  0');\n",
"disp('       A  B  A  B');\n",
"disp('Z:      1  0  1');\n",
"disp('By following the step 5');\n",
"disp('X:      1  0');\n",
"disp('       B  B  A');\n",
"disp('Z:      0  0');\n",
"disp('Accoring to step 6');\n",
"disp('X:      1  0  0  1  0  0');\n",
"disp('       A  D  D  D  C  D  D');\n",
"disp('Z:      0  3  3  1  2  3');\n",
"disp('Step 7 & 8')\n",
"disp('X:      1  1  0');\n",
"disp('       D  C  A  B');\n",
"disp('Z:      1  1  1');\n",
"disp('Whole checking experiment')\n",
"disp('X:    0  0  0  1  0  1  0  0  1  0  0  1  1  0');\n",
"disp('     A  B  A  B  B  A  D  D  D  C  D  D  C  A  B');\n",
"disp('Z:     1  0  1  0  0  0  3  3  1  2  3  1  1  1');"
   ]
   }
],
"metadata": {
		  "kernelspec": {
		   "display_name": "Scilab",
		   "language": "scilab",
		   "name": "scilab"
		  },
		  "language_info": {
		   "file_extension": ".sce",
		   "help_links": [
			{
			 "text": "MetaKernel Magics",
			 "url": "https://github.com/calysto/metakernel/blob/master/metakernel/magics/README.md"
			}
		   ],
		   "mimetype": "text/x-octave",
		   "name": "scilab",
		   "version": "0.7.1"
		  }
		 },
		 "nbformat": 4,
		 "nbformat_minor": 0
}
