{
"cells": [
 {
		   "cell_type": "markdown",
	   "metadata": {},
	   "source": [
       "# Chapter 6: Functional Decomposition And Symmetric Functions"
	   ]
	},
{
		   "cell_type": "markdown",
		   "metadata": {},
		   "source": [
			"## Example 6.1: Function_Decomposition.sce"
		   ]
		  },
  {
"cell_type": "code",
	   "execution_count": null,
	   "metadata": {
	    "collapsed": true
	   },
	   "outputs": [],
"source": [
"clc;\n",
"clear;\n",
"disp('Given function f(w,x,y,z) can be written as follows');\n",
"disp('f(w,x,y,z)=w^x^z^+wx^z+w^yz+wyz^');\n",
"disp('f(w,x,y,z)=((w^z^+wz)x^+(w^z+wz^)y)');\n",
"disp('let Q=w^z^+wz');\n",
"disp('then we can rewrite f as f(w,x,y,z)=Qx^+Q^y');\n",
"disp('f(w,x,y,z)=Qx^+Q^y=F[Q(w,z),x,y]');"
   ]
   }
,
{
		   "cell_type": "markdown",
		   "metadata": {},
		   "source": [
			"## Example 6.3: Muliplicity.sce"
		   ]
		  },
  {
"cell_type": "code",
	   "execution_count": null,
	   "metadata": {
	    "collapsed": true
	   },
	   "outputs": [],
"source": [
"clc;\n",
"clear;\n",
"//determines the row and column multiplicity of a mtraix\n",
"//m=input('enter the number of variables in the function=');\n",
"m=4;\n",
"for i=1:m\n",
"    for j=1:m\n",
"        x(i,j)=0;\n",
"    end\n",
"end\n",
"//k='y';\n",
"//disp('Enter the cells index whose values are 1 in the matrix representing your function');\n",
"//while(k~='n')\n",
"//    i=input('x index =');\n",
"//    j=input('y index =');\n",
"//    x(i,j)=1;\n",
"//    k=input('If you want to enter more enter y(in quotes) else n(in quotes) :');\n",
"//end\n",
"x=[1 0 1 1;\n",
"   0 0 1 0;\n",
"   0 1 1 1;\n",
"   1 1 0 1];\n",
"l=0;\n",
"//checks every row and find the max no of ones in a row.\n",
"for i=1:m\n",
"    k=0;\n",
"    for j=1:m\n",
"        if(x(i,j)==1)\n",
"            k=k+1;\n",
"        end\n",
"    end\n",
"    if(k>l)\n",
"       l=k;\n",
"    end\n",
"end\n",
"disp(l,'Row multiplicity =');\n",
"l=0;\n",
"//checks every column and find the max no of ones in a column.\n",
"for j=1:m\n",
"    k=0;\n",
"    for i=1:m\n",
"        if(x(i,j)==1)\n",
"            k=k+1;\n",
"        end\n",
"    end\n",
"    if(k>l)\n",
"       l=k;\n",
"    end\n",
"end\n",
"disp(l,'Column multiplicity =');"
   ]
   }
,
{
		   "cell_type": "markdown",
		   "metadata": {},
		   "source": [
			"## Example 6.6: Symmetric.sce"
		   ]
		  },
  {
"cell_type": "code",
	   "execution_count": null,
	   "metadata": {
	    "collapsed": true
	   },
	   "outputs": [],
"source": [
"clc;\n",
"clear;\n",
"disp('f(x,y,z)=x^y^z+xy^z^+x^yz^');\n",
"disp('since interchanging any two variables gives us the same equation');\n",
"disp('for example interchange x and y');\n",
"disp('f(y,x,z)=y^x^z+yx^z^+y^xz^');\n",
"disp('f(x,y,z)=f(y,x,z)');\n",
"disp('So the function f(x,y,z) is symmetric');"
   ]
   }
,
{
		   "cell_type": "markdown",
		   "metadata": {},
		   "source": [
			"## Example 6.7: Symmetric_2.sce"
		   ]
		  },
  {
"cell_type": "code",
	   "execution_count": null,
	   "metadata": {
	    "collapsed": true
	   },
	   "outputs": [],
"source": [
"clc;\n",
"clear;\n",
"disp('f(x1,x2,x3)=x1^x2^x3^+x1x2^x3+x1^x2x3');\n",
"disp('you can check that above equatioin is not symmetric in x1,x2,x3');\n",
"disp('But it is symmetric in x1,x2,x3^');\n",
"disp('let us verify it with interchanging x1 and x3^');\n",
"disp('f(x3^,x2,x1)=x3x2^x1+x3^x2^x1^+x3x2x1^');\n",
"disp('you can identify that f(x1,x2,x3)=f(x3^,x2,x1)');"
   ]
   }
],
"metadata": {
		  "kernelspec": {
		   "display_name": "Scilab",
		   "language": "scilab",
		   "name": "scilab"
		  },
		  "language_info": {
		   "file_extension": ".sce",
		   "help_links": [
			{
			 "text": "MetaKernel Magics",
			 "url": "https://github.com/calysto/metakernel/blob/master/metakernel/magics/README.md"
			}
		   ],
		   "mimetype": "text/x-octave",
		   "name": "scilab",
		   "version": "0.7.1"
		  }
		 },
		 "nbformat": 4,
		 "nbformat_minor": 0
}
