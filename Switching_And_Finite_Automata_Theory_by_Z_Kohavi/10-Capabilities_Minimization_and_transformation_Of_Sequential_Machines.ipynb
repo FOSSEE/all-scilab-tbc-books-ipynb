{
"cells": [
 {
		   "cell_type": "markdown",
	   "metadata": {},
	   "source": [
       "# Chapter 10: Capabilities Minimization and transformation Of Sequential Machines"
	   ]
	},
{
		   "cell_type": "markdown",
		   "metadata": {},
		   "source": [
			"## Example 10.1: Reducing_machine.sce"
		   ]
		  },
  {
"cell_type": "code",
	   "execution_count": null,
	   "metadata": {
	    "collapsed": true
	   },
	   "outputs": [],
"source": [
"clc;\n",
"clear;\n",
"disp('   ...                  NS        ');\n",
"disp('    PS          x=0          x=1  ');\n",
"disp('     A          E,0          C,0  ');\n",
"disp('     B          C,0          A,0  ');\n",
"disp('     C          B,0          G,0  ');\n",
"disp('     D          G,0          A,0  ');\n",
"disp('     E          F,1          B,0  ');\n",
"disp('     F          E,0          D,0  ');\n",
"disp('     G          D,0          G,0  ');\n",
"disp('Initial partition consists of all the states');\n",
"disp('P0=(ABCDEFG)');\n",
"disp('Since E only has 1 equivalent different from others,it can be partitioned from others');\n",
"disp('P1=(ABCDFG)E');\n",
"disp('now check for 2-equivalent i.e. 1-equivalent and their Ii succesors for all possible Ii are also 1 equivalent');\n",
"disp('A,F dont satisfy the 2-equivalent so they can be partitioned from others');\n",
"disp('P2=(AF)(BCDG)E');\n",
"disp('In the similar manner P3 can be obtained by splitting BD and CG since they dont have the same 3 equivalent');\n",
"disp('P3=(AF)(BD)(CG)E');\n",
"disp('In the same way P4 can be obtained by splitting A and F');\n",
"disp('P4=(A)(F)(BD)(CG)E');\n",
"disp('P4 cant be splitted more so P5 will be the same and the partition stops');\n",
"disp('P5=(A)(F)(BD)(CG)(E)');\n",
"disp('so the reduced machine is');\n",
"disp('   ...                     NS        ');\n",
"disp('   .. PS           x=0          x=1  ');\n",
"disp('     A----a        e,0          c,0  ');\n",
"disp('     F----f        e,0          b,0  ');\n",
"disp('   .(BD)--b        c,0          a,0  ');\n",
"disp('    (CG)--c        b,0          c,0  ');\n",
"disp('     E----e        f,1          b,0  ');\n",
""
   ]
   }
,
{
		   "cell_type": "markdown",
		   "metadata": {},
		   "source": [
			"## Example 10.2: Compaitability_Graph.sce"
		   ]
		  },
  {
"cell_type": "code",
	   "execution_count": null,
	   "metadata": {
	    "collapsed": true
	   },
	   "outputs": [],
"source": [
"clc;\n",
"clear;\n",
"disp('Considering the merger graph of machine M6 in PG 339');\n",
"disp('A set of compaitabilities is said to be closed if and only if for every compaitable contained in the set and all its implied compaitabilities are also in the same set');\n",
"disp('A closed set of compaitables which contains all the states of M is called a closed covering');\n",
"disp('By observing the merger graph we can find that {(AD)(BE)(CD)} is a closed set ');\n",
"disp('And the set {(AB)(CD)(EF)} appears to be a closed covering');"
   ]
   }
],
"metadata": {
		  "kernelspec": {
		   "display_name": "Scilab",
		   "language": "scilab",
		   "name": "scilab"
		  },
		  "language_info": {
		   "file_extension": ".sce",
		   "help_links": [
			{
			 "text": "MetaKernel Magics",
			 "url": "https://github.com/calysto/metakernel/blob/master/metakernel/magics/README.md"
			}
		   ],
		   "mimetype": "text/x-octave",
		   "name": "scilab",
		   "version": "0.7.1"
		  }
		 },
		 "nbformat": 4,
		 "nbformat_minor": 0
}
