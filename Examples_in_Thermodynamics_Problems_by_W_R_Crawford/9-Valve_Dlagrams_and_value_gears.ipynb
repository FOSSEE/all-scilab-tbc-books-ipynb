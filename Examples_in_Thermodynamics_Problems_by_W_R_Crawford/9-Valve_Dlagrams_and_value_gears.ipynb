{
"cells": [
 {
		   "cell_type": "markdown",
	   "metadata": {},
	   "source": [
       "# Chapter 9: Valve Dlagrams and value gears"
	   ]
	},
{
		   "cell_type": "markdown",
		   "metadata": {},
		   "source": [
			"## Example 5.7: Example_2.sce"
		   ]
		  },
  {
"cell_type": "code",
	   "execution_count": null,
	   "metadata": {
	    "collapsed": true
	   },
	   "outputs": [],
"source": [
"clc\n",
"//initialisation of variables\n",
"v=0.6//in\n",
"m=1.0//in\n",
"t=0.75//in\n",
"p=4//in\n",
"//CALCULATIONS\n",
"D=t/m//in\n",
"A=(p*m/D)//in\n",
"//RESULTS\n",
"printf('the travel and laps of the value=% f in',A)"
   ]
   }
,
{
		   "cell_type": "markdown",
		   "metadata": {},
		   "source": [
			"## Example 9.10: Example_3.sce"
		   ]
		  },
  {
"cell_type": "code",
	   "execution_count": null,
	   "metadata": {
	    "collapsed": true
	   },
	   "outputs": [],
"source": [
"clc\n",
"//initialisation of variables\n",
"l=1.5//in\n",
"p=4.0//in\n",
"v=0.98//in\n",
"//CALCULATIONS\n",
"T=(l*p/v)//in\n",
"//RESULTS\n",
"printf('the particulars of a value and it eccentric=% f in',T)"
   ]
   }
,
{
		   "cell_type": "markdown",
		   "metadata": {},
		   "source": [
			"## Example 9.12: Example_4.sce"
		   ]
		  },
  {
"cell_type": "code",
	   "execution_count": null,
	   "metadata": {
	    "collapsed": true
	   },
	   "outputs": [],
"source": [
"clc\n",
"//initialisation of variables\n",
"p=1/10//in\n",
"v1=3/4//in\n",
"v2=3/5//in\n",
"m=1*1/2//in\n",
"l=4//cranks\n",
"a1=1.25//in\n",
"a2=0.7//in\n",
"//CALCULATIONS\n",
"C=a1/a2//in\n",
"A=l*a1/a2//in\n",
"S=(A/2-a1)//in\n",
"//RESULTS\n",
"printf('the travel of the value =% f in',S)"
   ]
   }
,
{
		   "cell_type": "markdown",
		   "metadata": {},
		   "source": [
			"## Example 9.17: Example_5.sce"
		   ]
		  },
  {
"cell_type": "code",
	   "execution_count": null,
	   "metadata": {
	    "collapsed": true
	   },
	   "outputs": [],
"source": [
"clc\n",
"//initialisation of variables\n",
"v=3*1/2//in\n",
"a=30//degree\n",
"l=0.8//in\n",
"v1=0.2//in\n",
"L=0.13//in\n",
"m=1.075//in\n",
"d=0.58//in\n",
"p=1.875//in\n",
"//CALCULATIONS\n",
"V=(p-d)//in\n",
"P=V+1.25//in\n",
"//RESULTS\n",
"printf('the main value and the maximum opening to steam=% f in',P)"
   ]
   }
,
{
		   "cell_type": "markdown",
		   "metadata": {},
		   "source": [
			"## Example 9.5: Example_1.sce"
		   ]
		  },
  {
"cell_type": "code",
	   "execution_count": null,
	   "metadata": {
	    "collapsed": true
	   },
	   "outputs": [],
"source": [
"clc\n",
"//initialisation of variables\n",
"p=20//in\n",
"l=100//in\n",
"r=120//r.p.m\n",
"v=3.5//in\n",
"l2=1//in\n",
"l3=1/8//in\n",
"v1=1.44//umega in/sec\n",
"//CALCULATIONS\n",
"V=p*(1.06/1.166)//umega in./sec\n",
"R=(V/v1)//umega in/sec\n",
"//RESULTS\n",
"printf('The ratio of velocity of the piston to the velocity=% f umega in/sec',R)"
   ]
   }
],
"metadata": {
		  "kernelspec": {
		   "display_name": "Scilab",
		   "language": "scilab",
		   "name": "scilab"
		  },
		  "language_info": {
		   "file_extension": ".sce",
		   "help_links": [
			{
			 "text": "MetaKernel Magics",
			 "url": "https://github.com/calysto/metakernel/blob/master/metakernel/magics/README.md"
			}
		   ],
		   "mimetype": "text/x-octave",
		   "name": "scilab",
		   "version": "0.7.1"
		  }
		 },
		 "nbformat": 4,
		 "nbformat_minor": 0
}
