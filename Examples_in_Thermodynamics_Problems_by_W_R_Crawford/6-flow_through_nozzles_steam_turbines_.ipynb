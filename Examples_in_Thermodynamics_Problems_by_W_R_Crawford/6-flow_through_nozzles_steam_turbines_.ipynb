{
"cells": [
 {
		   "cell_type": "markdown",
	   "metadata": {},
	   "source": [
       "# Chapter 6: flow through nozzles steam turbines "
	   ]
	},
{
		   "cell_type": "markdown",
		   "metadata": {},
		   "source": [
			"## Example 16.28: Example_16.sce"
		   ]
		  },
  {
"cell_type": "code",
	   "execution_count": null,
	   "metadata": {
	    "collapsed": true
	   },
	   "outputs": [],
"source": [
"clc\n",
"//initialisation of variables\n",
"p=100//lb/in62\n",
"p1=0.5//lb/in^2\n",
"T1=659.3//C.H.U/lb\n",
"T2=26.2//C H U/lb\n",
"W=181//C H U/lb\n",
"H1=66//C H U/lb\n",
"H2=115//C H U /lb\n",
"D=0.912//C H U/lb\n",
"H3=533.4//C H U/lb\n",
"T3=108.5 //Degree C\n",
"T4=26.4//Degree C\n",
"W1=82.1/(D*H3)//lb\n",
"s=1-W1//lb\n",
"//CALCULATIONS\n",
"T=W/(T1-T2)*100//percent\n",
"Wd=H1+(H2*s)//C H U/lb\n",
"H=T1-T3//C H U//lb\n",
"TE=Wd/H*100//percent\n",
"//RESULTS\n",
"printf('the without bleeding % f pecent',T)\n",
"printf('the proper weight of steam is bled=% f percent',TE)"
   ]
   }
,
{
		   "cell_type": "markdown",
		   "metadata": {},
		   "source": [
			"## Example 6.10: Example_7.sce"
		   ]
		  },
  {
"cell_type": "code",
	   "execution_count": null,
	   "metadata": {
	    "collapsed": true
	   },
	   "outputs": [],
"source": [
"clc\n",
"//initialisation of variables\n",
"d=0.15//lb\n",
"p=20//lb/in^2\n",
"p1=100//lb/iN62\n",
"t=200//degree C\n",
"f=10//percent\n",
"Pt=0.5457*p1//lb/in^2\n",
"x1=0.996//in\n",
"x2=0.952//in\n",
"h=29//C.H.U/lb\n",
"h1=65//C.H.U/lb\n",
"v=7.73//ft^3\n",
"v1=20.12//ft^3\n",
"T=0.364//in\n",
"T1=0.465//in\n",
"v2=sqrt(2*32.2*1400*h)//ft/sec\n",
"v3=sqrt(2*32.2*1400*h1)//ft/sec\n",
"//CALCULATIONS\n",
"V1=d*v*x1//ft^3\n",
"V2=d*v1*x2//ft^3\n",
"A1=(V1/v2)*144//in^2\n",
"A2=(V2/v3)*144//in^2\n",
"//RESULTS\n",
"printf('the throat and exit diameters of the nozzle=% f in^2',A2)"
   ]
   }
,
{
		   "cell_type": "markdown",
		   "metadata": {},
		   "source": [
			"## Example 6.11: Example_8.sce"
		   ]
		  },
  {
"cell_type": "code",
	   "execution_count": null,
	   "metadata": {
	    "collapsed": true
	   },
	   "outputs": [],
"source": [
"clc\n",
"//initialisation of variables\n",
"h=0.5//lb\n",
"p1=2.5//lb/in^2\n",
"p2=100//lb/in^2\n",
"t=250//Degree C\n",
"pv=1.3//constant\n",
"pt=0.5457*p2//lb/in^2\n",
"t1=18//degree C\n",
"h1=32//C.H.U/lb\n",
"h2=151//C.H.U/lb\n",
"D=0.887//in\n",
"V1=sqrt(2*32.2*1400*h1)//ft/sec\n",
"V2=sqrt(2*32.2*1400*h2)//ft.sec\n",
"s1=8.74//ft^3\n",
"s2=140.8//ft^3\n",
"T1=0.687//in\n",
"T1=1.77//in\n",
"V3=h*s1//ft^3/sec\n",
"V4=h*s2//ft^3/sec\n",
"//CALCULATIONS\n",
"A1=(V3/V1)*144//in^2\n",
"A2=(V4/V2)*144//in^2\n",
"//RESULTS\n",
"printf('the size os nozzle=% f in^2',A2)"
   ]
   }
,
{
		   "cell_type": "markdown",
		   "metadata": {},
		   "source": [
			"## Example 6.13: Example_9.sce"
		   ]
		  },
  {
"cell_type": "code",
	   "execution_count": null,
	   "metadata": {
	    "collapsed": true
	   },
	   "outputs": [],
"source": [
"clc\n",
"//initialisation of variables\n",
"h=500//gallons\n",
"p1=150//lb/in^2\n",
"p2=0.6//lb/in^2\n",
"P=p2*p1//lb/in^2\n",
"h=25//C.H.U/lb\n",
"p=62.4//lb/ft^2\n",
"V=sqrt(2*32.2*1400*h)//ft/sec\n",
"D=0.996//in^2\n",
"d=4.898//in^2\n",
"v1=1.2//in\n",
"vi=163.2//ft/sec\n",
"m=V/32.2//ft.lb.sec\n",
"//CALCULATIONS\n",
"W=V/vi-1//lb\n",
"W1=(5000)/(3600*W)//ft/sec\n",
"V1=W1*d*D//ft^3\n",
"A=V1/V*144//in^2\n",
"I=(50/36+W1)//lb/sec\n",
"A1=(I*144)/(62.4*vi)//in^2\n",
"//RESULTS\n",
"printf('the aera of the stream and water orifices=% f in^2',A1)"
   ]
   }
,
{
		   "cell_type": "markdown",
		   "metadata": {},
		   "source": [
			"## Example 6.15: Example_10.sce"
		   ]
		  },
  {
"cell_type": "code",
	   "execution_count": null,
	   "metadata": {
	    "collapsed": true
	   },
	   "outputs": [],
"source": [
"clc\n",
"//initialisation of variables\n",
"a=50//degree c\n",
"v=2000//ft/sec\n",
"p=800//ft/sec\n",
"b=20//Degree C\n",
"v1=0.9//in^2\n",
"v2=513//ft/sec\n",
"W=(1/32.2)*[1810-(-313)]*p//ft/lb lb stream /sec\n",
"K=(v^2)/(2*32.2)//ft/lb sec\n",
"//CALCULATIONS\n",
"D=(W/K)*100//percent/lb\n",
"//RESULTS\n",
"printf('the work done per lb=% f percent/lb',D)"
   ]
   }
,
{
		   "cell_type": "markdown",
		   "metadata": {},
		   "source": [
			"## Example 6.16: Example_11.sce"
		   ]
		  },
  {
"cell_type": "code",
	   "execution_count": null,
	   "metadata": {
	    "collapsed": true
	   },
	   "outputs": [],
"source": [
"\n",
"clc\n",
"//initialisation of variables\n",
"t=65//B.Th.U per lb\n",
"n=0.98//dry\n",
"p=105//lb/in^2\n",
"a=14//Degree C\n",
"b=20//Degree C\n",
"p1=800//ft/sec\n",
"v=0.80//ft/lb\n",
"p2=3.5//lb/sec\n",
"q=1400//in\n",
"V=sqrt(2*32.2*778*t)//ft/sec\n",
"W=(p1)*(1750-b)/32.2//ft lb/lb stream/sec\n",
"H=(W*p2/550)//ft/lb\n",
"E=1/64.4*[(1053)^2-(825)^2]//ft.lb steam /sec\n",
"//CALCULATIONS\n",
"Hd=(E/q)//C.H.U\n",
"//RESULTS\n",
"printf('the steam as it leaves the blades and hourse power=% f C.H.U',Hd)"
   ]
   }
,
{
		   "cell_type": "markdown",
		   "metadata": {},
		   "source": [
			"## Example 6.18: example_12.sce"
		   ]
		  },
  {
"cell_type": "code",
	   "execution_count": null,
	   "metadata": {
	    "collapsed": true
	   },
	   "outputs": [],
"source": [
"clc\n",
"//initialisation of variables\n",
"p=300//ft/sec\n",
"W=880//ft/sec\n",
"a=18//degree C\n",
"g=32.2//ft\n",
"//CALCULATIONS\n",
"Wd=(p*W)/g//ft lb\n",
"//RESULTS\n",
"printf('the work done /lb steam sec=% f ft lb',Wd)"
   ]
   }
,
{
		   "cell_type": "markdown",
		   "metadata": {},
		   "source": [
			"## Example 6.19: Example_13.sce"
		   ]
		  },
  {
"cell_type": "code",
	   "execution_count": null,
	   "metadata": {
	    "collapsed": true
	   },
	   "outputs": [],
"source": [
"clc\n",
"//initialisation of variables\n",
"a=35//Degree C\n",
"b=20//degree C\n",
"f=2//ft\n",
"w=422//ft\n",
"w1=222//ft\n",
"g=32.2//ft\n",
"s=1500//r p m\n",
"j=0.8//ft\n",
"p=3//lb/sec\n",
"h=80//percent\n",
"i=1400//ft\n",
"P=(%pi*(31/12)*(s/60))//ft/sec\n",
"W=P/g*[w-(-w1)]//ft lb\n",
"H=(p*W)/550//ft lb\n",
"//CALCULATIONS\n",
"E=W/(j*i)//C.H.U\n",
"//RESULTS\n",
"printf('the house -power developed per pair of rings if the steam=% f ft lb',E)"
   ]
   }
,
{
		   "cell_type": "markdown",
		   "metadata": {},
		   "source": [
			"## Example 6.1: Example_1.sce"
		   ]
		  },
  {
"cell_type": "code",
	   "execution_count": null,
	   "metadata": {
	    "collapsed": true
	   },
	   "outputs": [],
"source": [
"clc\n",
"//initialisation of variables\n",
"p1=150//lb/in^2\n",
"p2=10//lb/in^2\n",
"n=10//percent\n",
"T=183.6+479.4//C.H.U\n",
"x2=0.852//C.H.U\n",
"H=553.9//C.H.U/lb\n",
"h1=T-H//C.H.U/lb\n",
"//CALCULATIONS\n",
"V=sqrt(2*32.2*1400*h1)//ft/sec\n",
"V1=sqrt(2*32.2*1400*0.9*h1)//ft/sec\n",
"//RESULTS\n",
"printf('the neglecting friction=% f ft/sec',V)\n",
"printf('the frictional drop in the nozzle is 10 recent of the total heat drop=% f ft/sec',V1)"
   ]
   }
,
{
		   "cell_type": "markdown",
		   "metadata": {},
		   "source": [
			"## Example 6.23: Example_14.sce"
		   ]
		  },
  {
"cell_type": "code",
	   "execution_count": null,
	   "metadata": {
	    "collapsed": true
	   },
	   "outputs": [],
"source": [
"clc\n",
"//initialisation of variables\n",
"d=7//ft\n",
"h=2//in\n",
"s=750//r p m\n",
"s1=31.3//lb/sec\n",
"h1=1.5//in\n",
"a=25//Degree c\n",
"p=5.7//lb/in^2\n",
"d1=0.97//in\n",
"h2=370//ft/sec\n",
"j=32.2//in\n",
"k=1400//in\n",
"e=0.75//percent\n",
"w=326//in\n",
"p=290//in\n",
"vi=155//ft/sec\n",
"//CALCULATIONS\n",
"P=(%pi*7.69*s)/(60)//ft/sec\n",
"H=(P*h2*s1)/(550*j)//ft/sec\n",
"E=(P*h2)/(j*e*k)//C.H.U/lb\n",
"//RESULTS\n",
"printf('the drop in pressure while the steam is passing through the turbine=% f C.H.U/lb',E) "
   ]
   }
,
{
		   "cell_type": "markdown",
		   "metadata": {},
		   "source": [
			"## Example 6.25: Example_15.sce"
		   ]
		  },
  {
"cell_type": "code",
	   "execution_count": null,
	   "metadata": {
	    "collapsed": true
	   },
	   "outputs": [],
"source": [
"clc\n",
"//initialisation of variables\n",
"p=300//lb/in^2\n",
"ab=100//degree C\n",
"w=26.4//C\n",
"t=40//lb/in^2\n",
"t1=180//Degree C\n",
"p1=0.5//lb/in^2\n",
"T=732.38//C.H.U\n",
"W=26.2//C.H.U/lb\n",
"W1=102//C.H.U/lb\n",
"x=0.963//in\n",
"d=335//C.H.U/lb\n",
"E=743.85//C.H.U/lb\n",
"//CALCULATIONS\n",
"H=T-w//C.H.U/lb\n",
"h=T-W1//C.H.U/lb\n",
"H1=E-h//C.H.U/lb\n",
"T1=H+H1//C.H.U/lb\n",
"Wd=W1+d//C.H.U\n",
"//RESULTS\n",
"printf('the total work done per lb steam=% f C.H.U',Wd)"
   ]
   }
,
{
		   "cell_type": "markdown",
		   "metadata": {},
		   "source": [
			"## Example 6.2: Example_2.sce"
		   ]
		  },
  {
"cell_type": "code",
	   "execution_count": null,
	   "metadata": {
	    "collapsed": true
	   },
	   "outputs": [],
"source": [
"clc\n",
"//initialisation of variables\n",
"v=((3140*%pi*60*60)/(4*4*144))//ft/sec\n",
"v1=0.852*38.37//ft^3\n",
"//CALCULATIONS\n",
"W=(v/v1)//lb\n",
"V=(2970*%pi*60*60)/(4*4*144)//ft^3\n",
"W1=(V/v1)//lb\n",
"//RESULTS\n",
"printf('the weight of steam per hour=% f lb',W)\n",
"printf('the weight of steam per hour=% f lb',W1)"
   ]
   }
,
{
		   "cell_type": "markdown",
		   "metadata": {},
		   "source": [
			"## Example 6.4: Example_3.sce"
		   ]
		  },
  {
"cell_type": "code",
	   "execution_count": null,
	   "metadata": {
	    "collapsed": true
	   },
	   "outputs": [],
"source": [
"clc\n",
"//initialisation of variables\n",
"p1=300//lb\n",
"p=75//lb/in^2\n",
"p2=8//lb/in^2\n",
"h=90//C.H.U/lb\n",
"Pt=0.58*p//lb/in^2 absolute\n",
"h1=24//lb/C.H.U\n",
"D=0.968//C.H.U\n",
"D1=0.886//C.H.U\n",
"v=9.7//ft^3\n",
"v1=47.24//ft^3\n",
"V=sqrt(2*32.2*1400*24)//ft/sec\n",
"V1=sqrt(2*32.2*1400*90)//ft/sec\n",
"//CALCULATIONS\n",
"H=(p1*v*D/3600)//ft^3\n",
"V2=(p1*v1*D1/3600)//ft^3\n",
"A=0.768//in^2\n",
"A1=1.72//in^2\n",
"d=sqrt(4*0.768/%pi)//in\n",
"d1=sqrt((4*A1)/(%pi))//in\n",
"//RESULTS\n",
"printf('the diameters at the throat and exit of the nozzle=% f in',d1)"
   ]
   }
,
{
		   "cell_type": "markdown",
		   "metadata": {},
		   "source": [
			"## Example 6.5: Example_4.sce"
		   ]
		  },
  {
"cell_type": "code",
	   "execution_count": null,
	   "metadata": {
	    "collapsed": true
	   },
	   "outputs": [],
"source": [
"clc\n",
"//initialisation of variables\n",
"d=2.15//in^2\n",
"a=0.98//dry\n",
"p=100//lb/in^2\n",
"p1=11000//lb\n",
"P=0.58*p//lb/in^2\n",
"H=24//C.H.U/lb\n",
"D=0.947//lb\n",
"s=7.407//ft^3\n",
"//CALCULATION\n",
"V=sqrt(2*32.2*1400*H)//ft/sec\n",
"V1=V*(d/144)//ft^3\n",
"T=V1/(s*D)//lb\n",
"A=(p1/3600)//lb\n",
"C=A/T//lb\n",
"//RESULTS\n",
"printf('the coefficient of discharge for the nozzles=% f lb',C)"
   ]
   }
,
{
		   "cell_type": "markdown",
		   "metadata": {},
		   "source": [
			"## Example 6.6: Example_5.sce"
		   ]
		  },
  {
"cell_type": "code",
	   "execution_count": null,
	   "metadata": {
	    "collapsed": true
	   },
	   "outputs": [],
"source": [
"clc\n",
"//initialisation of variables\n",
"p=9.5//lb\n",
"p1=120//lb\n",
"e=0.88//in\n",
"p2=80//lb/in^2\n",
"d=25//in\n",
"d1=0.125//in\n",
"t=14//degree C\n",
"T=e*19//C.H.U/lb\n",
"D=0.975//in\n",
"V=sqrt(2*32.2*1400*T)//ft/sec\n",
"S=5.467//ft^3\n",
"//CALCULATIONS\n",
"V1=p*S*D//ft^3\n",
"T1=(V1*144/V)//in^2\n",
"C=25*%pi//in\n",
"N=C/2.5//in\n",
"P=C/31//in\n",
"W=d1/sind(t)//in\n",
"L=P-W//in\n",
"W1=L*sind(t)//in\n",
"T2=(T1)/(31*W1)//in\n",
"//RESULTS\n",
"printf('The number of nozzles their breadth and heigh=% f in',T2)"
   ]
   }
,
{
		   "cell_type": "markdown",
		   "metadata": {},
		   "source": [
			"## Example 6.8: Example_6.sce"
		   ]
		  },
  {
"cell_type": "code",
	   "execution_count": null,
	   "metadata": {
	    "collapsed": true
	   },
	   "outputs": [],
"source": [
"clc\n",
"//initialisation of variables\n",
"p1=100//lb/in^2\n",
"p2=15//lb/in^2\n",
"d1=95//percent\n",
"d2=30//percent\n",
"P=0.58*p1//lb/in^2\n",
"H=0.95*25//C.H.U/lb\n",
"H1=0.95*76.5//C.H.U/lb\n",
"D=0.97//in\n",
"D1=0.905//in\n",
"V=7.407//ft^3\n",
"V1=sqrt(2*32.2*1400*H)//ft/sec\n",
"V2=sqrt(2*32.2*1400*H1)//ft/sec\n",
"//CALCULATIONS\n",
"V3=(2*%pi*1*V1)/(64*4*144)//ft^3\n",
"W=(V3*3600)/(V*D)//lb\n",
"K=V2/(2*32.2)//ft lb sec\n",
"E=[((V2)^2*W)/(2*32.2*3600)]//ft.lb\n",
"W1=(E*d2)/(p1*550)//ft.lb\n",
"//RESULTS\n",
"printf('the quantity of steam used per hour and horse power developed=% f ft.lb',W1)"
   ]
   }
],
"metadata": {
		  "kernelspec": {
		   "display_name": "Scilab",
		   "language": "scilab",
		   "name": "scilab"
		  },
		  "language_info": {
		   "file_extension": ".sce",
		   "help_links": [
			{
			 "text": "MetaKernel Magics",
			 "url": "https://github.com/calysto/metakernel/blob/master/metakernel/magics/README.md"
			}
		   ],
		   "mimetype": "text/x-octave",
		   "name": "scilab",
		   "version": "0.7.1"
		  }
		 },
		 "nbformat": 4,
		 "nbformat_minor": 0
}
