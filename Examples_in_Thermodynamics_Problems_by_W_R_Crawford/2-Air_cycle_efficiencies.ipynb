{
"cells": [
 {
		   "cell_type": "markdown",
	   "metadata": {},
	   "source": [
       "# Chapter 2: Air cycle efficiencies"
	   ]
	},
{
		   "cell_type": "markdown",
		   "metadata": {},
		   "source": [
			"## Example 2.2: Example_1.sce"
		   ]
		  },
  {
"cell_type": "code",
	   "execution_count": null,
	   "metadata": {
	    "collapsed": true
	   },
	   "outputs": [],
"source": [
"clc\n",
"//initialisation of variables\n",
"T1=(100+273)//Degree C\n",
"T2=(300+273)//degree C\n",
"T=(1-T1/T2)*100//F\n",
"lam=0.41//in\n",
"//CALCULATIONS\n",
"R=log(T2)-log(T1)//lb/in^2\n",
"r=2.849//ratio of compression\n",
"//RESULTS\n",
"printf('The ideal efficiency and the compression ratio=% f ratio of compression',r)"
   ]
   }
,
{
		   "cell_type": "markdown",
		   "metadata": {},
		   "source": [
			"## Example 2.4: Example_2.sce"
		   ]
		  },
  {
"cell_type": "code",
	   "execution_count": null,
	   "metadata": {
	    "collapsed": true
	   },
	   "outputs": [],
"source": [
"\n",
"clc\n",
"//initialisation of variables\n",
"r=0.60//in\n",
"v=3//in\n",
"p=15.4//lb\n",
"r=5//in\n",
"P=2000//r p m\n",
"V=19000//B.Th.U  Per lb\n",
"lam=1.41 //lb\n",
"n=0.4831//percent\n",
"P=15.4/4//lb\n",
"H=P*V//B.Th.U\n",
"l=4.5//lb\n",
"A=9//lb\n",
"S=1000//lb\n",
"//CALCULATIONS\n",
"R=0.60*n*100//percent\n",
"C=H*R//B.Th.U\n",
"I=(C*778)/(60*33000)//lb\n",
"P1=(I*12*4*33)/(l*A*%pi)//lb/in^2\n",
"//RESULTS\n",
"printf('The mean efficity pressure=% f lb/in^2',P1)"
   ]
   }
,
{
		   "cell_type": "markdown",
		   "metadata": {},
		   "source": [
			"## Example 2.5: Example_3.sce"
		   ]
		  },
  {
"cell_type": "code",
	   "execution_count": null,
	   "metadata": {
	    "collapsed": true
	   },
	   "outputs": [],
"source": [
"clc\n",
"//initialisation of variables\n",
"v=15//in\n",
"S=(5*14/100)//ln\n",
"lam=1.4//in\n",
"v1=1.7//in\n",
"//CALCULATIONS\n",
"N=(1-0.38)*100//percent\n",
"//RESULTS\n",
"printf('the ideal effiecncy for an engine =% f percent',N)"
   ]
   }
],
"metadata": {
		  "kernelspec": {
		   "display_name": "Scilab",
		   "language": "scilab",
		   "name": "scilab"
		  },
		  "language_info": {
		   "file_extension": ".sce",
		   "help_links": [
			{
			 "text": "MetaKernel Magics",
			 "url": "https://github.com/calysto/metakernel/blob/master/metakernel/magics/README.md"
			}
		   ],
		   "mimetype": "text/x-octave",
		   "name": "scilab",
		   "version": "0.7.1"
		  }
		 },
		 "nbformat": 4,
		 "nbformat_minor": 0
}
