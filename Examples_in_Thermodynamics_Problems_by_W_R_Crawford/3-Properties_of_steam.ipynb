{
"cells": [
 {
		   "cell_type": "markdown",
	   "metadata": {},
	   "source": [
       "# Chapter 3: Properties of steam"
	   ]
	},
{
		   "cell_type": "markdown",
		   "metadata": {},
		   "source": [
			"## Example 3.10: Example_7.sce"
		   ]
		  },
  {
"cell_type": "code",
	   "execution_count": null,
	   "metadata": {
	    "collapsed": true
	   },
	   "outputs": [],
"source": [
"clc\n",
"//initialisation of variables\n",
"w=40//lb\n",
"w1=380//lb\n",
"t1=80//Degree\n",
"p=85//lb/in^2\n",
"p1=15//lb/in^2\n",
"W=w+w1//lb/hr\n",
"P=p+p1//lb/in^2\n",
"T=659.3//C.H.U/lb\n",
"d=10//h.p\n",
"//CALCULATIONS\n",
"H=W*T-w1*t1//C.H.U/hr\n",
"H1=(d*33000*60)/1400//C.H.U/hr\n",
"T1=H1/H*100//percent\n",
"D=w1/(w1+w)//C.H.U/hr\n",
"H2=[W*(99.6+D*539.3)-w1*t1]//C.H.U/hr\n",
"T2=H-H2//C.H.U/hr\n",
"H3=T2-H1//C.H.U/hr\n",
"E=(1400*H3)/(60*33000)//h.p\n",
"//RESULTS\n",
"printf('The amount of radiations from the engine =% f h.p',E)"
   ]
   }
,
{
		   "cell_type": "markdown",
		   "metadata": {},
		   "source": [
			"## Example 3.12: Example_8.sce"
		   ]
		  },
  {
"cell_type": "code",
	   "execution_count": null,
	   "metadata": {
	    "collapsed": true
	   },
	   "outputs": [],
"source": [
"clc\n",
"//initialisation of variables\n",
"p=120//lb/in^2\n",
"ts=264//degree C\n",
"T1=(273+130.6)//F\n",
"v=0.0171//ft^3/lb\n",
"L1=518.4//lb\n",
"T2=(273+171.9)//F\n",
"L2=487.4//lb\n",
"Cp=0.48//lb\n",
"L=0.0894/Cp//lb\n",
"Ts=T2*1.205//degree\n",
"ta=536-273//Degree C\n",
"T=649.9//C.H.U\n",
"S=131.2//C.H.U\n",
"w=(144*40)/1400*(10.49-v)//C.H.U\n",
"C=T-S//C.H.U\n",
"I=C-w//C.H.U\n",
"E=(704.7-57.8)//C.H.U\n",
"E1=E-606.5//C.H.U\n",
"//CALCULATIONS\n",
"E1=E-606.5//C.H.U\n",
"H=(704.7-T)//C.H.U\n",
"//RESULTS\n",
"printf('Heat and internal energy after each operation=% f C.H.U',H)"
   ]
   }
,
{
		   "cell_type": "markdown",
		   "metadata": {},
		   "source": [
			"## Example 3.17: Example_9.sce"
		   ]
		  },
  {
"cell_type": "code",
	   "execution_count": null,
	   "metadata": {
	    "collapsed": true
	   },
	   "outputs": [],
"source": [
"clc\n",
"//initialisation of variables\n",
"A=28.1//in Hg vacuum\n",
"a=0.93//lb/in^2\n",
"T=33//Degree\n",
"p=0.729//lb/in^2\n",
"P=-p+a//lb/in^2\n",
"p1=120000//lb\n",
"p2=28.1//in\n",
"a1=0.9//ln\n",
"p3=1000//lb\n",
"t=15//degree C\n",
"A1=[a1*(p1/(60*p3))]//lb/mim\n",
"v=(A1*96*306)/(144*P)//ft^3 of air per min\n",
"V=37.3+a1*610//C.H.U/lb\n",
"//CALCULATIONS\n",
"H=(V-T)//C.H.U\n",
"W=(H/t)*(p1/60)//gal/min\n",
"//RESULTS\n",
"printf('The water per minute in cubic feet per minute passing to air extractor=% f gal/min',W)"
   ]
   }
,
{
		   "cell_type": "markdown",
		   "metadata": {},
		   "source": [
			"## Example 3.1: Example_1.sce"
		   ]
		  },
  {
"cell_type": "code",
	   "execution_count": null,
	   "metadata": {
	    "collapsed": true
	   },
	   "outputs": [],
"source": [
"clc\n",
"//initialisation of variables\n",
"p=100//lb/in^2\n",
"x=0.8//lb\n",
"t1=164//degree C\n",
"t2=4.45 //ft^3\n",
"p1=0.016//ft^3\n",
"h1=493.4//C.H.U/lb\n",
"h2=165.9//C.H.U/lb\n",
"S=h2+h1//C.H.U/lb\n",
"w=(144*p)/1400*(t2-p1)//C.H.U/lb\n",
"H=h2+(x*h1)//C.H.U//lb\n",
"w1=(x*144*p)/1400*(t2-p1)//C.H.U\n",
"//CALCULATIONS\n",
"E=S-w//C.H.U/lb\n",
"IE=H-w1//C.H.U/lb\n",
"//RESULTS\n",
"printf('The steam is total heat dry and satured=% f C.H.U/lb',E)\n",
"printf('Total heat of wet steam=% f C.H.U/lb',IE)"
   ]
   }
,
{
		   "cell_type": "markdown",
		   "metadata": {},
		   "source": [
			"## Example 3.2: Example_2.sce"
		   ]
		  },
  {
"cell_type": "code",
	   "execution_count": null,
	   "metadata": {
	    "collapsed": true
	   },
	   "outputs": [],
"source": [
"clc\n",
"//initialisation of variables\n",
"t1=35//degree C\n",
"p=100//lb/in^2\n",
"L=435//C.H.U\n",
"L2=539.3//C.H.U\n",
"h1=165.9//H.C.U/lb\n",
"h2=493.4//C.H.U/lb\n",
"S=(h1-t1)//C.H.U\n",
"h3=304.1//C.H.U\n",
"h4=335//C.H.U/lb\n",
"//CALCULATIONS\n",
"X1=h3/h2//C.H.U/lb\n",
"X2=h4/L2//C.H.U/lb\n",
"//RESULTS\n",
"printf('The heat giving to the water and steam is =% f C.H.U/lb',X2)"
   ]
   }
,
{
		   "cell_type": "markdown",
		   "metadata": {},
		   "source": [
			"## Example 3.3: Example_3.sce"
		   ]
		  },
  {
"cell_type": "code",
	   "execution_count": null,
	   "metadata": {
	    "collapsed": true
	   },
	   "outputs": [],
"source": [
"clc\n",
"//initialisation of variables\n",
"p=35//lb/in^2\n",
"w=1425//lb\n",
"q=1474//lb\n",
"s1=126.7//C.H.U/lb\n",
"s2=28//C.H.U/lb\n",
"t1=5//degree C\n",
"t2=28//degree C\n",
"L1=521.4//C.H.U/lb\n",
"w1=245//lb\n",
"w2=0.2//lb\n",
"//CALCULATIONS\n",
"W=(s1-s2)+L1//C.H.U/lb\n",
"H=q*(t2-t1)//C.H.U/lb\n",
"T=H/W//lb\n",
"//RESULTS\n",
"printf('The total equivalent=% f lb',T)"
   ]
   }
,
{
		   "cell_type": "markdown",
		   "metadata": {},
		   "source": [
			"## Example 3.4: Example_4.sce"
		   ]
		  },
  {
"cell_type": "code",
	   "execution_count": null,
	   "metadata": {
	    "collapsed": true
	   },
	   "outputs": [],
"source": [
"clc\n",
"//initialisation of variables\n",
"p=100//lb/in^2\n",
"w=2400//lb\n",
"t1=15//degree C\n",
"s1=165.9//C.H.U/lb\n",
"x=0.9//lb\n",
"L2=493.4//C.H.U/lb\n",
"t2=65//degree\n",
"x4=0.8//lb\n",
"s3=64.8//C.H.U/lb\n",
"w1=2000//lb\n",
"w2=2400//lb\n",
"b1=12400//lb\n",
"b2=22000//lb\n",
"p1=4400//lb\n",
"n=421.65//lb\n",
"h1=w2*[s1+(x*L2)]//C.H.U/hr\n",
"h2=w1*[s1+(x4+L2)]//C.H.U/hr\n",
"//CALCULATIONS\n",
"T=w*[(s1-t1)+(x*L2)]//C.H.U/hr\n",
"T1=w1*[(s1-s3)+(x4*L2)]//C.H.U/hr\n",
"H=T+T1//C.H.U/hr\n",
"X=n/L2//C.H.U/lb\n",
"//RESULTS\n",
"printf('The thermal capacity of the pipe=% f C.H.U/hr',X)"
   ]
   }
,
{
		   "cell_type": "markdown",
		   "metadata": {},
		   "source": [
			"## Example 3.5: Example_5.sce"
		   ]
		  },
  {
"cell_type": "code",
	   "execution_count": null,
	   "metadata": {
	    "collapsed": true
	   },
	   "outputs": [],
"source": [
"clc\n",
"//initialisation of variables\n",
"w1=4.5//lb\n",
"s1=45.5//lb\n",
"p1=165//lb/in^2\n",
"T=140//Degree C\n",
"h1=30//in\n",
"h2=4//in\n",
"p2=0.49//ln/in^2\n",
"T1=(w1+s1)//lb\n",
"T2=103.5//Degree C\n",
"T3=140//Degree\n",
"h3=0.48//in\n",
"x=0.988//berfore throttling\n",
"T=[103.12+537.1+h3*(T3-T2)]//C.H.U/lb\n",
"x1=0.012//lb of water\n",
"X=s1*x1//lb water\n",
"w=50//lb of steam\n",
"//CALCULATIONS\n",
"P=h2+h1//in of mercury\n",
"P1=s1*x1//lb/in^2\n",
"T4=w1+P1//lb\n",
"D=(w-T4)/w//lb\n",
"//RESULTS\n",
"printf('The dryness of steam with a combined=% f lb',D)"
   ]
   }
,
{
		   "cell_type": "markdown",
		   "metadata": {},
		   "source": [
			"## Example 3.6: Example_6.sce"
		   ]
		  },
  {
"cell_type": "code",
	   "execution_count": null,
	   "metadata": {
	    "collapsed": true
	   },
	   "outputs": [],
"source": [
"clc\n",
"//initialisation of variables\n",
"w=40//lb\n",
"w1=380//lb\n",
"t1=80//Degree\n",
"p=85//lb/in^2\n",
"p1=15//lb/in^2\n",
"W=w+w1//lb/hr\n",
"P=p+p1//lb/in^2\n",
"T=659.3//C.H.U/lb\n",
"d=10//h.p\n",
"//CALCULATIONS\n",
"H=W*T-w1*t1//C.H.U/hr\n",
"H1=(d*33000*60)/1400//C.H.U/hr\n",
"T1=H1/H*100//percent\n",
"D=w1/(w1+w)//C.H.U/hr\n",
"H2=[W*(99.6+D*539.3)-w1*t1]//C.H.U/hr\n",
"T2=H-H2//C.H.U/hr\n",
"H3=T2-H1//C.H.U/hr\n",
"E=(1400*H3)/(60*33000)//h.p\n",
"//RESULTS\n",
"printf('The amount of radiations from the engine =% f h.p',E)"
   ]
   }
],
"metadata": {
		  "kernelspec": {
		   "display_name": "Scilab",
		   "language": "scilab",
		   "name": "scilab"
		  },
		  "language_info": {
		   "file_extension": ".sce",
		   "help_links": [
			{
			 "text": "MetaKernel Magics",
			 "url": "https://github.com/calysto/metakernel/blob/master/metakernel/magics/README.md"
			}
		   ],
		   "mimetype": "text/x-octave",
		   "name": "scilab",
		   "version": "0.7.1"
		  }
		 },
		 "nbformat": 4,
		 "nbformat_minor": 0
}
