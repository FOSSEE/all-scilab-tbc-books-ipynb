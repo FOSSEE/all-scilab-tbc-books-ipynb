{
"cells": [
 {
		   "cell_type": "markdown",
	   "metadata": {},
	   "source": [
       "# Chapter 4: The steam engine"
	   ]
	},
{
		   "cell_type": "markdown",
		   "metadata": {},
		   "source": [
			"## Example 4.10: Example_4.sce"
		   ]
		  },
  {
"cell_type": "code",
	   "execution_count": null,
	   "metadata": {
	    "collapsed": true
	   },
	   "outputs": [],
"source": [
"clc\n",
"//initialisation of variables\n",
"p=85//lb/in^2\n",
"h=210//i.p.m\n",
"h1=8//in\n",
"h2=2.5//in\n",
"h3=20//in\n",
"x=0.75//in\n",
"p1=100//ln/in^2\n",
"x1=33000//in\n",
"p2=15//lb/in^2\n",
"v2=%pi/4*(h1/12)^2*(h3/12)//ft^3\n",
"A=144*[29.08*1.6931-8.724]//ft/lb\n",
"d=x*A//ft/lb\n",
"v3=0.5816//ft^3\n",
"P=d/(144*v3)//lb/in^2\n",
"P1=%pi/4*64//in^2\n",
"r=25*%pi/16//in^2\n",
"//CALCULATIONS\n",
"H=P*(h3/12)*P1*h/(x1)\n",
"I=(P*(h3/12)*(P1-r)*h)/(x1)//I.h.P\n",
"T=H+I//I.h.p\n",
"//RESULTS\n",
"printf('the h.p diameter of the piston and piston rod =% f I.h.p',T)"
   ]
   }
,
{
		   "cell_type": "markdown",
		   "metadata": {},
		   "source": [
			"## Example 4.14: Example_5.sce"
		   ]
		  },
  {
"cell_type": "code",
	   "execution_count": null,
	   "metadata": {
	    "collapsed": true
	   },
	   "outputs": [],
"source": [
"clc\n",
"//initialisation of variables\n",
"a=1.025//in^2\n",
"h=18//in\n",
"h1=24//in\n",
"x=8.2//percent\n",
"v=15//in\n",
"v2=6.9//ft^3\n",
"p=0.74//lb/in^2\n",
"p1=50//lb/in^2\n",
"p2=83//lb/in^2\n",
"P3=48.0//lb/in\n",
"P1=29.8//lb/in^2\n",
"P2=14.6//lb/in^2\n",
"h2=29.8//in\n",
"D=(%pi/4)*(3/2)^2*2//ft^3\n",
"v1=23400//ft.lb\n",
"W=a*v1//ft.lb\n",
"V=0.082*D//ft^3\n",
"Q=1.530//ft^3\n",
"//CALCULATIONS\n",
"I=V+Q//ft^3\n",
"P=P3+P2//lb/in^2\n",
"V1=p*v2//ft^3\n",
"W1=I/V1//lb\n",
"S=p2+P2///l/in^2\n",
"H=659.06//C.H.U/lb\n",
"T=W/(H*W1*1400)*100//percent\n",
"//RESULTS\n",
"printf('The thermal efficiency of the engine=% f percent',T)"
   ]
   }
,
{
		   "cell_type": "markdown",
		   "metadata": {},
		   "source": [
			"## Example 4.16: Example_6.sce"
		   ]
		  },
  {
"cell_type": "code",
	   "execution_count": null,
	   "metadata": {
	    "collapsed": true
	   },
	   "outputs": [],
"source": [
"clc\n",
"//initialisation of variables\n",
"v=4.6//ft^3\n",
"h=5//percent\n",
"p=60//lb/in^2\n",
"p1=0.8//ft^3\n",
"p2=19//lb/in^2\n",
"a=100//r.p.m\n",
"h1=5920//lb\n",
"W=h1/(2*a*p)//lb\n",
"V=(0.25*v)//ft^3\n",
"v1=21.07//ft^3\n",
"w=V/v1//lb\n",
"H=W+w//lb\n",
"v2=H*7.17//ft^3\n",
"P=w*v2//ft^3\n",
"P1=0.675*v//ft^3\n",
"//CALCULATIONS\n",
"DP=P1/v2//ft^2\n",
"//RESULTS\n",
"printf('The assumptions do you make in working out the dryness of the steam=% f ft^3',DP)"
   ]
   }
,
{
		   "cell_type": "markdown",
		   "metadata": {},
		   "source": [
			"## Example 4.17: Example_7.sce"
		   ]
		  },
  {
"cell_type": "code",
	   "execution_count": null,
	   "metadata": {
	    "collapsed": true
	   },
	   "outputs": [],
"source": [
"clc\n",
"//initialisation of variables\n",
"h=0.08//lb\n",
"p=60//lb/in^2\n",
"p1=0.50//lb/in^2\n",
"v=0.5//ft^3\n",
"v1=7.17//ft^3\n",
"V=h*v1//ft^3\n",
"//CALCULATIONS\n",
"W=p1/v1//lb\n",
"I=v/v1//lb\n",
"M=h-I//lb\n",
"//RESULTS\n",
"printf('the dryness of the steam at this pressure and missing quantity =% f lb',M)"
   ]
   }
,
{
		   "cell_type": "markdown",
		   "metadata": {},
		   "source": [
			"## Example 4.19: Example_8.sce"
		   ]
		  },
  {
"cell_type": "code",
	   "execution_count": null,
	   "metadata": {
	    "collapsed": true
	   },
	   "outputs": [],
"source": [
"clc\n",
"//initialisation of variables\n",
"p1=120//lb/in^2\n",
"p2=15//lb/in^2\n",
"//CALCULATIONS\n",
"v=1.65//lb\n",
"D=sqrt(v)//lb\n",
"//RESULTS\n",
"printf('The above pressure are by gauge=% f lb',D)"
   ]
   }
,
{
		   "cell_type": "markdown",
		   "metadata": {},
		   "source": [
			"## Example 4.1: Example_1.sce"
		   ]
		  },
  {
"cell_type": "code",
	   "execution_count": null,
	   "metadata": {
	    "collapsed": true
	   },
	   "outputs": [],
"source": [
"clc\n",
"//initialisation of variables\n",
"p=90//lb/in^2\n",
"x1=0.9//lb\n",
"p1=10//lb/in^2\n",
"x2=0.81//lb\n",
"s1=161.5//lb.in^2\n",
"s2=89.1//lb.in^2\n",
"L1=496.8//lb.in^2\n",
"L2=545.5//lb.in^2\n",
"//CALCULATIONS\n",
"bc=(s1-s2)+(x1*L1)//C.H.U/lb\n",
"da=x2*L2//C.H.U/lb\n",
"W=bc-da//C.H.U/lb\n",
"R=W/bc*100//percent\n",
"//RESULTS\n",
"printf('the work done per =% f percent',R)"
   ]
   }
,
{
		   "cell_type": "markdown",
		   "metadata": {},
		   "source": [
			"## Example 4.21: Example_9.sce"
		   ]
		  },
  {
"cell_type": "code",
	   "execution_count": null,
	   "metadata": {
	    "collapsed": true
	   },
	   "outputs": [],
"source": [
"clc\n",
"//initialisation of variables\n",
"p=150//lb/in^2\n",
"x=198//r.p.m\n",
"x1=33000//lb\n",
"h=2700//lb\n",
"h1=1400//lb\n",
"h2=51600//lb\n",
"r=165//C.H.U/lb\n",
"s=60//lb\n",
"t=48//Degree C\n",
"t1=11//degree C\n",
"t2=36//Degree C\n",
"P1=(40*75*t2*x)/(12*x1)//lb\n",
"P2=(38*70*t2*x)/(12*x1)//lb\n",
"L1=(t1*300*t2*x)/(12*x1)//lb\n",
"L2=(12*295*t2*x)/(12*x1)//lb\n",
"T=P1*P2*L1*L2//lb\n",
"H=5294//C.H.U/min\n",
"T1=h/s///lb/min\n",
"H1=T1*663//lb/min\n",
"H2=(h2/s*(36-11)+(h/s)*(t))//C.H.U\n",
"H3=(h/60)*t//C.H.U\n",
"//CALCULATIONS\n",
"TE=H/H1-H3*100//percent\n",
"R=r/(663-t)*100//percent\n",
"//RESULTS\n",
"printf('The rankine efficiency =% f percent',R)"
   ]
   }
,
{
		   "cell_type": "markdown",
		   "metadata": {},
		   "source": [
			"## Example 4.23: Example_10.sce"
		   ]
		  },
  {
"cell_type": "code",
	   "execution_count": null,
	   "metadata": {
	    "collapsed": true
	   },
	   "outputs": [],
"source": [
"clc\n",
"//initialisation of variables\n",
"p1=100//ln/in^2\n",
"p2=2.5//lb/in^2\n",
"p3=20//lb/in^2\n",
"d=0.75//lb\n",
"p=0.5//lb\n",
"r=16//in\n",
"p4=p1/r//lb/in^2\n",
"P5=50//lb/in^2\n",
"W1=13960//ft/lb\n",
"W2=19040//ft/lb\n",
"T=33000//ft/lb\n",
"v=4.43//ft^3\n",
"v1=v*d//ft^3\n",
"W3=T*v1//ft/lb\n",
"Hp=3416//ft/lb\n",
"Lp=3416//ft/lb\n",
"//CALCULATIONS\n",
"W=Lp*v1//ft lb\n",
"//RESULTS\n",
"printf('The thermal efficiency of a compound steam and work done=% f ft lb',W)"
   ]
   }
,
{
		   "cell_type": "markdown",
		   "metadata": {},
		   "source": [
			"## Example 4.2: Example_2.sce"
		   ]
		  },
  {
"cell_type": "code",
	   "execution_count": null,
	   "metadata": {
	    "collapsed": true
	   },
	   "outputs": [],
"source": [
"clc\n",
"//initialisation of variables\n",
"h=1600//i.h.p\n",
"h1=20000//lb\n",
"h2=230//lb/in^2\n",
"T1=293.3//Degree C\n",
"x=25.91//in\n",
"v=30//in\n",
"T2=201//Degree C\n",
"T=T1-T2//degree C\n",
"x2=0.845//lb\n",
"L2=566.51//lb\n",
"s1=724//lb\n",
"h3=1400//C.H.U/hr\n",
"x=33000//ft^3\n",
"//CALCULATIONS\n",
"H=671.48//C.H.U/lb\n",
"ea=x2*L2//C.H.U/lb\n",
"W=H-ea//C.H.U/lb\n",
"R=W/H*100//percent\n",
"S=h2*s1//C.H.U\n",
"I=[(h*x*60)/(h3*h1*s1)]*100//percent\n",
"R1=I/R*100//pecent\n",
"//RESULTS\n",
"printf('The indicated thermal efficiency ratio=% f percent',R1)"
   ]
   }
,
{
		   "cell_type": "markdown",
		   "metadata": {},
		   "source": [
			"## Example 4.3: Example_3.sce"
		   ]
		  },
  {
"cell_type": "code",
	   "execution_count": null,
	   "metadata": {
	    "collapsed": true
	   },
	   "outputs": [],
"source": [
"clc\n",
"//initialisation of variables\n",
"h1=180//lb/in^2\n",
"h2=3//lb/in^2\n",
"r1=60//percent\n",
"r2=90//percent\n",
"p3=100//lb/in^2\n",
"p4=10//lb/in^2\n",
"v1=4.4//ft^3/lb\n",
"v2=2*v1//ft^3\n",
"p=44//lb/in^2\n",
"x2=0.95//ft^3\n",
"s1=165.9//lb\n",
"s2=89.1//lb\n",
"L1=493.4//lb\n",
"H=(s1-s2)+L1//C.H.U/lb\n",
"W=65.8//C.H.U/lb\n",
"//CALCULATIONS\n",
"R=W/H*100//percent\n",
"//RESULTS\n",
"printf('The rankine efficiency of the engine=% f percent',R)"
   ]
   }
],
"metadata": {
		  "kernelspec": {
		   "display_name": "Scilab",
		   "language": "scilab",
		   "name": "scilab"
		  },
		  "language_info": {
		   "file_extension": ".sce",
		   "help_links": [
			{
			 "text": "MetaKernel Magics",
			 "url": "https://github.com/calysto/metakernel/blob/master/metakernel/magics/README.md"
			}
		   ],
		   "mimetype": "text/x-octave",
		   "name": "scilab",
		   "version": "0.7.1"
		  }
		 },
		 "nbformat": 4,
		 "nbformat_minor": 0
}
