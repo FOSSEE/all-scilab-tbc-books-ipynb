{
"cells": [
 {
		   "cell_type": "markdown",
	   "metadata": {},
	   "source": [
       "# Chapter 1: Heating and expansion of gases entropy "
	   ]
	},
{
		   "cell_type": "markdown",
		   "metadata": {},
		   "source": [
			"## Example 1.11: Example_7.sce"
		   ]
		  },
  {
"cell_type": "code",
	   "execution_count": null,
	   "metadata": {
	    "collapsed": true
	   },
	   "outputs": [],
"source": [
"clc\n",
"//initialisation of variables\n",
"v=2//ft^3\n",
"p=1100//lb/in^2\n",
"t1=44//Degree C\n",
"t2=15//Degree C\n",
"p1=300//lb/in^2\n",
"t3=3//Degree c\n",
"Cv=0.17//ft/lb\n",
"T=273//F\n",
"R=96//ft lb\n",
"p3=300//lb/in^2\n",
"n=1.12//lb\n",
"gama=1.404//lb\n",
"W=[(144*p*v)/(T+t1)]/R//lb\n",
"//CALCULATIONS\n",
"Wc=W*Cv*(t1-t2)//C.H.U\n",
"p2=p*(T+t2)/(T+t1)//lb /in^2\n",
"A=(144*p3*v)/(R*276)//lb\n",
"W1=(A/W)*v//ft^3\n",
"H=[(gama-n)/(gama-1)]*[144*(p*0.65-p1*v)/(n-1)]//ft lb\n",
"H1=H/1400//C.H.u\n",
"//RESULTS\n",
"printf('the heat was lost by all the air in the vessel before leakage began=% f C.H.U',Wc)\n",
"printf('the heat was lost or gainned leakage by the air=% f C.H .U',H1)"
   ]
   }
,
{
		   "cell_type": "markdown",
		   "metadata": {},
		   "source": [
			"## Example 1.13: Example_8.sce"
		   ]
		  },
  {
"cell_type": "code",
	   "execution_count": null,
	   "metadata": {
	    "collapsed": true
	   },
	   "outputs": [],
"source": [
"clc\n",
"//initialisation of variables\n",
"h=0.218//ft^3\n",
"h1=0.156//ft^3\n",
"n=0.249//lb\n",
"h2=0.178//lb\n",
"c=0.208//lb\n",
"c1=0.162//lb\n",
"w1=1//ft^3\n",
"p=150//lb/in^2\n",
"T=100//Degree C\n",
"T1=373//F\n",
"Cp=(h*0.2312)+(n*0.3237)+(c*0.4451)//C.H.U/lb\n",
"Cv=(h1*0.2312)+(h2*0.3237)+(c1*0.4451)//C.H.U//lb\n",
"R=1400*(Cp-Cv)//ft lb units\n",
"//CALCULATIONS\n",
"W=(144*p*w1)/(R*T1)//lb\n",
"//RESULTS\n",
"printf('The characteristic constant of the gas=% f lb',W)"
   ]
   }
,
{
		   "cell_type": "markdown",
		   "metadata": {},
		   "source": [
			"## Example 1.1: Example_1.sce"
		   ]
		  },
  {
"cell_type": "code",
	   "execution_count": null,
	   "metadata": {
	    "collapsed": true
	   },
	   "outputs": [],
"source": [
"clc\n",
"//initialisation of variables\n",
"p1=280//lb/in^2\n",
"v=2//ft^3\n",
"p2=20//lb/in^2\n",
"v2=18.03//ft^3\n",
"//CALCULATIONS\n",
"W=144*(p1*v-p2*v2)/(1.2-1)//ft/lb\n",
"//RESULTS\n",
"printf('The volume and work done during the expansion=% f ft/lb',W)"
   ]
   }
,
{
		   "cell_type": "markdown",
		   "metadata": {},
		   "source": [
			"## Example 1.20: Example_9.sce"
		   ]
		  },
  {
"cell_type": "code",
	   "execution_count": null,
	   "metadata": {
	    "collapsed": true
	   },
	   "outputs": [],
"source": [
"clc\n",
"//initialisation of variables\n",
"T=200//Degree C\n",
"p=150//lb/in^2\n",
"v=12//ft^3\n",
"R=96//Lb\n",
"T1=473//F\n",
"T2=273//F\n",
"j=1400//lb\n",
"Cv=0.169//lb/in^2\n",
"v1=(R*T1)/(p*144)//ft^3\n",
"//CALCULATIONS\n",
"Fhi=(R/j)*log(v/v1)+Cv*log(T2/T1)//rank\n",
"//RESULTS\n",
"printf('The change of entropy=% f rank',Fhi)"
   ]
   }
,
{
		   "cell_type": "markdown",
		   "metadata": {},
		   "source": [
			"## Example 1.22: Example_10.sce"
		   ]
		  },
  {
"cell_type": "code",
	   "execution_count": null,
	   "metadata": {
	    "collapsed": true
	   },
	   "outputs": [],
"source": [
"clc\n",
"//initialisation of variables\n",
"v=10//ft^3\n",
"T=20//Degree C\n",
"p=15//lb in^2\n",
"p1=200//lb//in^2\n",
"gama=1.41 //lb\n",
"Cv=0.169//lb\n",
"v2=1.153//ft^3\n",
"j=1400//lb\n",
"T1=293//F\n",
"T2=451//F\n",
"T1=[(p1*v2)/(p*v)]*T1//Degree C\n",
"//CALCULATIONS\n",
"R=Cv*j*(gama-1)\n",
"W=0.816//lb\n",
"Fhi=Cv*[(gama-1.2)/(1.2-1)]*log(T1/T2)*W//rnak\n",
"//RESULTS\n",
"printf('The change of entropy=% f rank',Fhi)"
   ]
   }
,
{
		   "cell_type": "markdown",
		   "metadata": {},
		   "source": [
			"## Example 1.23: Example_11.sce"
		   ]
		  },
  {
"cell_type": "code",
	   "execution_count": null,
	   "metadata": {
	    "collapsed": true
	   },
	   "outputs": [],
"source": [
"\n",
"clc\n",
"//initialisation of variables\n",
"p=1//lb\n",
"T=200//Degree C\n",
"p1=15//lb/in^2\n",
"v1=4//ft^3\n",
"gama=1.41//lb\n",
"Cv=0.169//lb\n",
"J=1400//lb\n",
"n=1.2\n",
"T=473//F\n",
"v2=16.1//ft^3\n",
"T1=473//F\n",
"//CALCULATIONS\n",
"T2=(p1*v2)/(p*v1)*T1//Degree C\n",
"R=Cv*J*(gama-p)//lb/in^2\n",
"Fhi=0.1772*log(1.317)//rank\n",
"//RESULTS\n",
"printf('the change of entropy from intial conditions=% f rank',Fhi)"
   ]
   }
,
{
		   "cell_type": "markdown",
		   "metadata": {},
		   "source": [
			"## Example 1.26: Example_12.sce"
		   ]
		  },
  {
"cell_type": "code",
	   "execution_count": null,
	   "metadata": {
	    "collapsed": true
	   },
	   "outputs": [],
"source": [
"clc\n",
"//initialisation of variables\n",
"w=0.066//ft^3\n",
"p=14.7//lb/in^2\n",
"w1=14.2//lb/in^2\n",
"w2=2780//lb/in^2\n",
"g=0.038//lb\n",
"a=28.9//lb\n",
"R=w2/w1//for gas\n",
"R1=93//for air\n",
"T=273//F\n",
"V=0.4245//ft^3\n",
"//CALCULATIONS\\n",
"W=(p*144*w)/(T*R)//lb\n",
"m=(g-W)//lb gas\n",
"T2=(V+w)//ft^3\n",
"//RESULTS\n",
"printf('The volume of mixture=% f ft^3',T2)"
   ]
   }
,
{
		   "cell_type": "markdown",
		   "metadata": {},
		   "source": [
			"## Example 1.2: Example_2.sce"
		   ]
		  },
  {
"cell_type": "code",
	   "execution_count": null,
	   "metadata": {
	    "collapsed": true
	   },
	   "outputs": [],
"source": [
"clc\n",
"//initialisation of variables\n",
"v=2//ft^3\n",
"v2=20//ft^3\n",
"p=100000//ft lb\n",
"v2=10.41//lb/in^2\n",
"v3=10//lb/in^2\n",
"p1=1.3//lb\n",
"p2=(v2*199.5)/9.95//lb/in^2\n",
"//CALCULATIONS\n",
"P=(p2/v3-v2)//lb/in^2\n",
"//RESULTS\n",
"printf('The initial andfinal pressure=% f lb/in^2',P)"
   ]
   }
,
{
		   "cell_type": "markdown",
		   "metadata": {},
		   "source": [
			"## Example 1.4: Example_3.sce"
		   ]
		  },
  {
"cell_type": "code",
	   "execution_count": null,
	   "metadata": {
	    "collapsed": true
	   },
	   "outputs": [],
"source": [
"clc\n",
"//initialisation of variables\n",
"Cp=0.24//lb/in^2\n",
"Cv=0.18//ft^3\n",
"p1=5//lb/in^2\n",
"T1=20//Degree C\n",
"T2=150//Degree C\n",
"//CALCULATIONS\n",
"W=p1*Cp*(T2-T1)//C.H.U\n",
"H=p1*Cv*(T2-T1)//C.H.U\n",
"Gamma=Cp/Cv//lb/in^2\n",
"//RESULTS\n",
"printf('the constant pressure=% f C.H.U',W)\n",
"printf('the constant volume the value of gas=% f lb/in^2',Gamma)"
   ]
   }
,
{
		   "cell_type": "markdown",
		   "metadata": {},
		   "source": [
			"## Example 1.5: Example_4.sce"
		   ]
		  },
  {
"cell_type": "code",
	   "execution_count": null,
	   "metadata": {
	    "collapsed": true
	   },
	   "outputs": [],
"source": [
"clc\n",
"//initialisation of variables\n",
"Gama=1.33//ft/lb\n",
"p=100//lb/in^2\n",
"p1=20//lb/in^2\n",
"v2=10.05//ft^3\n",
"v=3//ft/lb\n",
"//CALCULATIONS\n",
"W=144*(p*v-p1*v2)/0.33//ft lb\n",
"//RESULTS\n",
"printf('The work done=% f ft lb',W)"
   ]
   }
,
{
		   "cell_type": "markdown",
		   "metadata": {},
		   "source": [
			"## Example 1.8: Example_5.sce"
		   ]
		  },
  {
"cell_type": "code",
	   "execution_count": null,
	   "metadata": {
	    "collapsed": true
	   },
	   "outputs": [],
"source": [
"clc\n",
"//initialisation of variables\n",
"p=3.74//ft/lb\n",
"p1=2.48//ft/lb\n",
"v=5.7//ft lb\n",
"Cv=0.21//ft/lb\n",
"P=440//lb/in^2\n",
"P1=160//lb/in^2\n",
"P2=14//lb/in^2\n",
"T=25//degree C\n",
"T1=100//F\n",
"vs=(%pi*(p1)^2/4)*(p/1728)//ft^3\n",
"vc=5.7//ft^3\n",
"v1=4.7//ft^3\n",
"v2=vs/v1//ft^3\n",
"v3=0.01273//ft^3\n",
"T2=298//F\n",
"//CALCULATIONS\n",
"W=(P2*144*v3)/(T2*T1)//lb\n",
"T3=[(P1*144*1)/(P2*144*7)*T2]//Degree C\n",
"T4=(P/P1)*T3//Degree C\n",
"H=W*Cv*(T4-T3)//C.H.U\n",
"//RESULTS\n",
"printf('The heat supplied during explosion=% f C.H.U',H)"
   ]
   }
,
{
		   "cell_type": "markdown",
		   "metadata": {},
		   "source": [
			"## Example 1.9: Example_6.sce"
		   ]
		  },
  {
"cell_type": "code",
	   "execution_count": null,
	   "metadata": {
	    "collapsed": true
	   },
	   "outputs": [],
"source": [
"clc\n",
"//initialisation of variables\n",
"v=10//ft^3\n",
"p=100//lb/in^2\n",
"p1=18//lb/in^2\n",
"v1=50//ft^3\n",
"n=log(p/p1)/log(5)\n",
"gama=1.4//air\n",
"//CALCULATIONS\n",
"W=[144*(p*v-p1*v1)]/(n-1)//ft lb\n",
"H=(gama-n)/(gama-1)*W//ft lb\n",
"E=W-H//ft lb\n",
"//RESULTS\n",
"printf('The heat supplied and the change of internal energy=% f ft lb',E)"
   ]
   }
],
"metadata": {
		  "kernelspec": {
		   "display_name": "Scilab",
		   "language": "scilab",
		   "name": "scilab"
		  },
		  "language_info": {
		   "file_extension": ".sce",
		   "help_links": [
			{
			 "text": "MetaKernel Magics",
			 "url": "https://github.com/calysto/metakernel/blob/master/metakernel/magics/README.md"
			}
		   ],
		   "mimetype": "text/x-octave",
		   "name": "scilab",
		   "version": "0.7.1"
		  }
		 },
		 "nbformat": 4,
		 "nbformat_minor": 0
}
