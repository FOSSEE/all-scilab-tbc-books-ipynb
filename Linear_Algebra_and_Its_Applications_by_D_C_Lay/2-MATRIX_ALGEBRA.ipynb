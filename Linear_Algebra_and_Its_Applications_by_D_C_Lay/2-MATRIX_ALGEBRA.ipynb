{
"cells": [
 {
		   "cell_type": "markdown",
	   "metadata": {},
	   "source": [
       "# Chapter 2: MATRIX ALGEBRA"
	   ]
	},
{
		   "cell_type": "markdown",
		   "metadata": {},
		   "source": [
			"## Example 2.1_1: Matrix_operations.sce"
		   ]
		  },
  {
"cell_type": "code",
	   "execution_count": null,
	   "metadata": {
	    "collapsed": true
	   },
	   "outputs": [],
"source": [
"A=[2 0 -1;4 -5 2];\n",
"disp('matrix A:')\n",
"disp(A)\n",
"disp('-2A=')\n",
"disp(-2*A)\n",
"disp('matrix B')\n",
"B=[7 -5 1;1 -4 -3];\n",
"disp(B)\n",
"disp('B-2A=')\n",
"disp(B-2*A)"
   ]
   }
,
{
		   "cell_type": "markdown",
		   "metadata": {},
		   "source": [
			"## Example 2.2_1: Inverse_of_a_matrix.sce"
		   ]
		  },
  {
"cell_type": "code",
	   "execution_count": null,
	   "metadata": {
	    "collapsed": true
	   },
	   "outputs": [],
"source": [
"disp('given matrix:')\n",
"a=[8 6;5 4];\n",
"disp(a)\n",
"disp('inverse of the matrix is:')\n",
"disp(inv(a))"
   ]
   }
,
{
		   "cell_type": "markdown",
		   "metadata": {},
		   "source": [
			"## Example 2.2_7: Inverse_of_a_matrix.sce"
		   ]
		  },
  {
"cell_type": "code",
	   "execution_count": null,
	   "metadata": {
	    "collapsed": true
	   },
	   "outputs": [],
"source": [
"disp('the co-efficient matrix is:')\n",
"a=[1 2;5 12]\n",
"disp(a)\n",
"disp('inverse of the matrix is:')\n",
"disp(inv(a))\n",
"disp('solution is:')\n",
"b=[-1;3];\n",
"c=inv(a);\n",
"disp(c*b)"
   ]
   }
,
{
		   "cell_type": "markdown",
		   "metadata": {},
		   "source": [
			"## Example 2.3_1: Invertibility_of_a_matrix.sce"
		   ]
		  },
  {
"cell_type": "code",
	   "execution_count": null,
	   "metadata": {
	    "collapsed": true
	   },
	   "outputs": [],
"source": [
"disp('the given matrix is:')\n",
"a=[5 7;-3 -6];\n",
"disp(a)\n",
"disp('the columns are lineraly independent')\n",
"disp('hence, by invertible matrix theorem')\n",
"disp('the matrix A is invertible')"
   ]
   }
,
{
		   "cell_type": "markdown",
		   "metadata": {},
		   "source": [
			"## Example 2.3_33: Invertible_matrix_theorem.sce"
		   ]
		  },
  {
"cell_type": "code",
	   "execution_count": null,
	   "metadata": {
	    "collapsed": true
	   },
	   "outputs": [],
"source": [
"disp('matrix A corresponding to transformation T is:')\n",
"A=[-5 9;4 -7];\n",
"disp(A)\n",
"disp('determinant of A is:')\n",
"disp(det(A))\n",
"disp('since det(A) is not equal to zero')\n",
"disp('by IMT, A is invertible')\n",
"disp('hence, the inverse of A exists')\n",
"disp('inverse of A is:')\n",
"disp(inv(A))"
   ]
   }
,
{
		   "cell_type": "markdown",
		   "metadata": {},
		   "source": [
			"## Example 2.4_25: Inverse_using_matrix_partition.sce"
		   ]
		  },
  {
"cell_type": "code",
	   "execution_count": null,
	   "metadata": {
	    "collapsed": true
	   },
	   "outputs": [],
"source": [
"disp('given matrix is:')\n",
"a=[1 2 0 0 0;3 5 0 0 0;0 0 2 0 0;0 0 0 7 8;0 0 0 5 6];\n",
"disp(a)\n",
"disp('partitioning the matrix into 4 submatrices')\n",
"A11=[a(1,1:2);a(2,1:2)]\n",
"disp(A11,'A11=')\n",
"A22=[a(3,3:5);a(4,3:5);a(5,3:5)]\n",
"disp(A22,'A22=')\n",
"A12=zeros(2,3)\n",
"disp(A12,'A12=')\n",
"A21=zeros(3,2)\n",
"disp(A21,'A21=')\n",
"disp('partitioning A22 into 4 submatrices')\n",
"A221=[2]\n",
"disp(A221)\n",
"B=[A22(2,2:3);A22(3,2:3)]\n",
"disp(B,'B=')\n",
"disp(zeros(1,2))\n",
"disp(zeros(2,1))\n",
"disp('determinant of B=')\n",
"disp(det(B))\n",
"disp('Hence, B is invertible')\n",
"disp('inverse of B is')\n",
"disp(inv(B))\n",
"disp('determinant of inverse of  B is:')\n",
"disp(det(inv(B)))\n",
"disp('hence the invese of A22 is:')\n",
"c=[det(inv(B)) zeros(1,2);0 3 -4;0 -2.5 3.5];\n",
"disp(c)"
   ]
   }
,
{
		   "cell_type": "markdown",
		   "metadata": {},
		   "source": [
			"## Example 2.5_13: LU_decomposition_of_a_matrix.sce"
		   ]
		  },
  {
"cell_type": "code",
	   "execution_count": null,
	   "metadata": {
	    "collapsed": true
	   },
	   "outputs": [],
"source": [
"disp('given matrix is:')\n",
"a=[1 3 -5 -3;-1 -5 8 4;4 2 -5 -7;-2 -4 7 5]\n",
"d=a;\n",
"disp(a)\n",
"disp('performing row operations')\n",
"p21=a(2,1)/a(1,1);p31=a(3,1)/a(1,1);p41=a(4,1)/a(1,1);\n",
"a(2,:)=a(2,:)-p21*a(1,:)\n",
"a(3,:)=a(3,:)-p31*a(1,:)\n",
"a(4,:)=a(4,:)-p41*a(1,:)\n",
"disp(a)\n",
"p32=a(3,2)/a(2,2);p42=a(4,2)/a(2,2)\n",
"a(3,:)=a(3,:)-p32*a(2,:)\n",
"a(4,:)=a(4,:)-p42*a(2,:)\n",
"disp(a)\n",
"disp('thus, lower triangular matrix is:')\n",
"L=[1 0 0 0;p21 1 0 0;p31 p32 1 0;p41 p42 0 1]\n",
"disp(L,'L=')\n",
"disp('Upper triangular matrix is:')\n",
"disp(a,'U=')"
   ]
   }
,
{
		   "cell_type": "markdown",
		   "metadata": {},
		   "source": [
			"## Example 2.5_1: Application_of_LU_decomposition.sce"
		   ]
		  },
  {
"cell_type": "code",
	   "execution_count": null,
	   "metadata": {
	    "collapsed": true
	   },
	   "outputs": [],
"source": [
"disp('the lower triangular matrix is:')\n",
"L=[1 0 0;-1 1 0;2 -5 1];\n",
"disp(L)\n",
"disp('the upper triangular matrix is:')\n",
"U=[3 -7 -2;0 -2 -1;0 0 -1];\n",
"disp(U)\n",
"disp('the RHS of the equations are')\n",
"b=[-7;5;2];\n",
"disp(b)\n",
"disp('combining matrices L and b')\n",
"c=[L b];\n",
"disp(c)\n",
"disp('performing row operations')\n",
"disp('R2=R2+R1')\n",
"c(2,:)=c(2,:)+c(1,:)\n",
"disp(c)\n",
"disp('R3=R3-2*R1')\n",
"c(3,:)=c(3,:)-2*c(1,:)\n",
"disp(c)\n",
"disp('R3=R3+5*R2')\n",
"c(3,:)=c(3,:)+5*c(2,:)\n",
"disp(c)\n",
"y=c(:,4)\n",
"disp(y,'y=')\n",
"disp('combining U and y')\n",
"d=[U y];\n",
"disp(d)\n",
"disp('performing row operations')\n",
"disp('R3=R3/-6')\n",
"d(3,:)=d(3,:)/(-1)\n",
"disp(d)\n",
"disp('R2=R2+R3 and R1=R1+2*R3')\n",
"d(2,:)=d(2,:)+d(3,:)\n",
"d(1,:)=d(1,:)+2*d(3,:)\n",
"disp(d)\n",
"disp('R1=R1-3.5*R2')\n",
"d(1,:)=d(1,:)-3.5*d(2,:)\n",
"disp(d)\n",
"disp('R1=R1/3 and R2=R2/-2')\n",
"d(1,:)=d(1,:)/3\n",
"d(2,:)=d(2,:)/(-2)\n",
"disp(d)\n",
"disp('the solution is:')\n",
"x=d(:,4)\n",
"disp(x,'x=')"
   ]
   }
,
{
		   "cell_type": "markdown",
		   "metadata": {},
		   "source": [
			"## Example 2.5_7: LU_decomposition_of_a_matrix.sce"
		   ]
		  },
  {
"cell_type": "code",
	   "execution_count": null,
	   "metadata": {
	    "collapsed": true
	   },
	   "outputs": [],
"source": [
"disp('given matrix is:')\n",
"a=[2 5;-3 -4]\n",
"d=a;\n",
"disp(a)\n",
"disp('performing row operations')\n",
"a(2,:)=a(2,:)-(a(2,1)/a(1,1))*a(1,:)\n",
"disp(a)\n",
"disp(a)\n",
"disp('thus, the upper triangular matrix is')\n",
"U=a;\n",
"disp(U,'U=')\n",
"disp('the lower triangular matrix is:')\n",
"L=[1 0;d(2,1)/d(1,1) 1];\n",
"disp(L,'L=')"
   ]
   }
,
{
		   "cell_type": "markdown",
		   "metadata": {},
		   "source": [
			"## Example 2.6_1: Application_of_matrix_algebra.sce"
		   ]
		  },
  {
"cell_type": "code",
	   "execution_count": null,
	   "metadata": {
	    "collapsed": true
	   },
	   "outputs": [],
"source": [
"disp('the consumption matrix is:')\n",
"C=[.1 .6 .6;.3 .2 0;.3 .1 .1];\n",
"disp(C)\n",
"disp('Assuming that agriculture plans to produce 100 units and other units produce nothing')\n",
"disp('the production vector is given by')\n",
"x=[0;100;0];\n",
"disp(x,'x=')\n",
"disp('thus the intermediate demand is:')\n",
"disp(C*x)"
   ]
   }
,
{
		   "cell_type": "markdown",
		   "metadata": {},
		   "source": [
			"## Example 2.6_7: Application_of_matrix_algebra.sce"
		   ]
		  },
  {
"cell_type": "code",
	   "execution_count": null,
	   "metadata": {
	    "collapsed": true
	   },
	   "outputs": [],
"source": [
"disp('the consumption matrix is:')\n",
"C=[0 .5;.6 .2];\n",
"disp(C)\n",
"disp('the demand for 1 unit of output sector 1')\n",
"d1=[1;0]\n",
"disp(d1)\n",
"disp('the production required to satisfy demand d1 is:')\n",
"x1=inv(eye(2,2)-C)*d1\n",
"disp(x1,'x1=')\n",
"disp('the final demand is:')\n",
"d2=[51;30]\n",
"disp(d2,'d2=')\n",
"disp('the production required to satisfy demand d2 is:')\n",
"x2=inv(eye(2,2)-C)*d2\n",
"disp(x2,'x2=')"
   ]
   }
,
{
		   "cell_type": "markdown",
		   "metadata": {},
		   "source": [
			"## Example 2.7_1: Transformation_using_matrices.sce"
		   ]
		  },
  {
"cell_type": "code",
	   "execution_count": null,
	   "metadata": {
	    "collapsed": true
	   },
	   "outputs": [],
"source": [
"disp('consider the matrix')\n",
"a=[1 .25 0;0 1 0;0 0 1]\n",
"disp(a)\n",
"disp('consider a vector')\n",
"x=[6;8;0]\n",
"disp(x)\n",
"disp('the effect of the matric on the vector is:')\n",
"disp(a*x)\n",
"disp('now consider the matrix:')\n",
"b=[1 .25;0 1]\n",
"disp(b)\n",
"disp('considering the same vector')\n",
"x1=[6;8]\n",
"disp(x1)\n",
"disp('the effect of the new matrix on the vector is:')\n",
"disp(b*x1)\n",
"disp('thus we can see that the two matrices have the same effect on vectors')"
   ]
   }
,
{
		   "cell_type": "markdown",
		   "metadata": {},
		   "source": [
			"## Example 2.7_7: Transformation_using_matrices.sce"
		   ]
		  },
  {
"cell_type": "code",
	   "execution_count": null,
	   "metadata": {
	    "collapsed": true
	   },
	   "outputs": [],
"source": [
"disp('the matrix in R2 to rotate a vector by 60 degrees is:')\n",
"a=[cos(%pi/3) -sin(%pi/3);sin(%pi/3) cos(%pi/3)]\n",
"disp(a)\n",
"x=[6;8]\n",
"disp(x,'x=')\n",
"disp('so the 3X3 matrix for rotation about x is:')\n",
"y=[1 0 6;0 1 8;0 0 1]\n",
"z=[1 0 -6;0 1 -8;0 0 1]\n",
"a=[cos(%pi/3) -sin(%pi/3) 0;sin(%pi/3) cos(%pi/3) 0;0 0 1]\n",
"R=y*(a*z)\n",
"disp(R)"
   ]
   }
,
{
		   "cell_type": "markdown",
		   "metadata": {},
		   "source": [
			"## Example 2.8_23: Pivot_columns.sce"
		   ]
		  },
  {
"cell_type": "code",
	   "execution_count": null,
	   "metadata": {
	    "collapsed": true
	   },
	   "outputs": [],
"source": [
"disp('the given matrix is:')\n",
"a=[4 5 9 -2;6 5 1 12;3 4 8 -3]\n",
"disp(a)\n",
"disp('performing row operaions')\n",
"a(2,:)=a(2,:)-(a(2,1)/a(1,1))*a(1,:)\n",
"a(3,:)=a(3,:)-(a(3,1)/a(1,1))*a(1,:)\n",
"disp(a)\n",
"a(3,:)=a(3,:)-(a(3,2)/a(2,2))*a(2,:)\n",
"disp(a)\n",
"a(1,:)=a(1,:)/a(1,1)\n",
"a(2,:)=a(2,:)/a(2,2)\n",
"disp(a)\n",
"for i=1:3\n",
"  for j=i:4\n",
"    if(a(i,j)<>0)\n",
"       disp('is a pivot column',j,'column')\n",
"       break\n",
"    end\n",
"  end\n",
" end"
   ]
   }
,
{
		   "cell_type": "markdown",
		   "metadata": {},
		   "source": [
			"## Example 2.8_25: Pivot_columns.sce"
		   ]
		  },
  {
"cell_type": "code",
	   "execution_count": null,
	   "metadata": {
	    "collapsed": true
	   },
	   "outputs": [],
"source": [
"disp('the given matrix is:')\n",
"a=[1 4 8 -3 -7;-1 2 7 3 4;-2 2 9 5 5;3 6 9 -5 -2]\n",
"disp(a)\n",
"disp('performing row operations')\n",
"a(2,:)=a(2,:)-(a(2,1)/a(1,1))*a(1,:)\n",
"a(3,:)=a(3,:)-(a(3,1)/a(1,1))*a(1,:)\n",
"a(4,:)=a(4,:)-(a(4,1)/a(1,1))*a(1,:)\n",
"disp(a)\n",
"a(3,:)=a(3,:)-(a(3,2)/a(2,2))*a(2,:)\n",
"a(4,:)=a(4,:)-(a(4,2)/a(2,2))*a(2,:)\n",
"disp(a)\n",
"a(4,:)=a(4,:)-(a(4,4)/a(3,4))*a(3,:)\n",
"disp(a)\n",
"for i=1:4\n",
"  for j=i:5\n",
"    if(a(i,j)<>0)\n",
"      disp('is a pivot column',j,'column')\n",
"      break\n",
"    end\n",
"  end\n",
"end"
   ]
   }
,
{
		   "cell_type": "markdown",
		   "metadata": {},
		   "source": [
			"## Example 2.8_7: Column_space_of_a_matrix.sce"
		   ]
		  },
  {
"cell_type": "code",
	   "execution_count": null,
	   "metadata": {
	    "collapsed": true
	   },
	   "outputs": [],
"source": [
"disp('the given matrix is:')\n",
"A=[2 -3 -4;-8 8 6;6 -7 -7]\n",
"disp(A,'A=')\n",
"disp('the given vector is:')\n",
"p=[6;-10;11]\n",
"disp(p,'p=')\n",
"disp('combining A and p')\n",
"b=[A p]\n",
"disp(b)\n",
"disp('performing row operations')\n",
"b(2,:)=b(2,:)-(b(2,1)/b(1,1))*b(1,:)\n",
"b(3,:)=b(3,:)-(b(3,1)/b(1,1))*b(1,:)\n",
"disp(b)\n",
"b(3,:)=b(3,:)-(b(3,2)/b(2,2))*b(2,:)\n",
"disp(b)\n",
"if(b(3,3)==0 & b(3,4)==0)\n",
"    disp('p lies in column space of A')\n",
"  else\n",
"    disp('p does not lie in column space of A')\n",
" end"
   ]
   }
,
{
		   "cell_type": "markdown",
		   "metadata": {},
		   "source": [
			"## Example 2.9_13: Dimension_of_a_matrix.sce"
		   ]
		  },
  {
"cell_type": "code",
	   "execution_count": null,
	   "metadata": {
	    "collapsed": true
	   },
	   "outputs": [],
"source": [
"disp('the given matrix is:')\n",
"a=[1 -3 2 -4;-3 9 -1 5;2 -6 4 -3;-4 12 2 7]\n",
"disp(a)\n",
"disp('performing row operations')\n",
"a(2,:)=a(2,:)-(a(2,1)/a(1,1))*a(1,:)\n",
"a(3,:)=a(3,:)-(a(3,1)/a(1,1))*a(1,:)\n",
"a(4,:)=a(4,:)-(a(4,1)/a(1,1))*a(1,:)\n",
"disp(a)\n",
"a(4,:)=a(4,:)-2*a(2,:)\n",
"disp(a)\n",
"a(4,:)=a(4,:)-a(3,:)\n",
"disp(a)\n",
"k=0\n",
"for i=1:4\n",
"  for j=i:4\n",
"    if(a(i,j)<>0)\n",
"      k=k+1\n",
"      break\n",
"    end\n",
"  end\n",
"end\n",
"disp(k,'dimension of the matrix=')"
   ]
   }
],
"metadata": {
		  "kernelspec": {
		   "display_name": "Scilab",
		   "language": "scilab",
		   "name": "scilab"
		  },
		  "language_info": {
		   "file_extension": ".sce",
		   "help_links": [
			{
			 "text": "MetaKernel Magics",
			 "url": "https://github.com/calysto/metakernel/blob/master/metakernel/magics/README.md"
			}
		   ],
		   "mimetype": "text/x-octave",
		   "name": "scilab",
		   "version": "0.7.1"
		  }
		 },
		 "nbformat": 4,
		 "nbformat_minor": 0
}
