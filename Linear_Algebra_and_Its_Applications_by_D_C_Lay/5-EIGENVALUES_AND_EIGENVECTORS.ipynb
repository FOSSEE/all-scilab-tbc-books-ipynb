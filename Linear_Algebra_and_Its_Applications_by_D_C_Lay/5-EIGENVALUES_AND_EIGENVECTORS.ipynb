{
"cells": [
 {
		   "cell_type": "markdown",
	   "metadata": {},
	   "source": [
       "# Chapter 5: EIGENVALUES AND EIGENVECTORS"
	   ]
	},
{
		   "cell_type": "markdown",
		   "metadata": {},
		   "source": [
			"## Example 5.1_13: Eigenvectors.sce"
		   ]
		  },
  {
"cell_type": "code",
	   "execution_count": null,
	   "metadata": {
	    "collapsed": true
	   },
	   "outputs": [],
"source": [
"disp('To find a basis for the eigenspace')\n",
"disp('Matrix A=')\n",
"a=[4 0 1;-2 1 0;-2 0 1]\n",
"disp(a)\n",
"disp('for lambda=1')\n",
"disp('A-1I=')\n",
"b=a-eye(3,3)\n",
"disp(b)\n",
"disp('solving (A-I)x=0, we get')\n",
"disp('-2*x1=0 and 3*x1+x3=0')\n",
"disp('therefore, x1=x3=0')\n",
"disp('which leaves x2 as a free variable')\n",
"disp('Hence a basis for the eigen space is:')\n",
"disp([0;1;0])\n",
"disp('for lambda=2')\n",
"disp('A-2I=')\n",
"b=a-2*eye(3,3)\n",
"disp(b)\n",
"disp('performing row operations on the augmented matrix')\n",
"c=[b [0;0;0]]\n",
"disp(c)\n",
"c(2,:)=c(2,:)+c(1,:)\n",
"c(3,:)=c(3,:)+c(1,:)\n",
"disp(c)\n",
"c(1,:)=c(1,:)/c(2,2)\n",
"disp(c)\n",
"disp('We can see that x3 is a free variable')\n",
"disp('x2=x3 and x1=-.05*x3')\n",
"disp('Hence, a basis for the eigenspace is:')\n",
"disp([-.5;1;1])\n",
"disp('for lambda=3')\n",
"disp('A-3I=')\n",
"b=a-3*eye(3,3)\n",
"disp(b)\n",
"disp('performing row operations on the augmented matrix')\n",
"c=[b [0;0;0]]\n",
"disp(c)\n",
"c(2,:)=c(2,:)+2*c(1,:)\n",
"c(3,:)=c(3,:)+2*c(1,:)\n",
"disp(c)\n",
"c(2,:)=c(2,:)/2\n",
"disp(c)\n",
"disp('Again x3 is a free variable')\n",
"disp('x1=-x3 and x2=x3')\n",
"disp('Hence, a basis for the eigenspace is:')\n",
"disp([-1;1;1])"
   ]
   }
,
{
		   "cell_type": "markdown",
		   "metadata": {},
		   "source": [
			"## Example 5.1_19: Property_of_non_invertible_matrices.sce"
		   ]
		  },
  {
"cell_type": "code",
	   "execution_count": null,
	   "metadata": {
	    "collapsed": true
	   },
	   "outputs": [],
"source": [
"disp('The given matrix is:')\n",
"a=[1 1 1;2 2 2;3 3 3]\n",
"disp(a,'A=')\n",
"disp('A is not invertible because its columns are linearly dependent.')\n",
"disp('Hence, 0 is an eigenvalue of matrix A.')"
   ]
   }
,
{
		   "cell_type": "markdown",
		   "metadata": {},
		   "source": [
			"## Example 5.1_1: Eigenvalue_of_a_matrix.sce"
		   ]
		  },
  {
"cell_type": "code",
	   "execution_count": null,
	   "metadata": {
	    "collapsed": true
	   },
	   "outputs": [],
"source": [
"disp('to check if 2 is an eigenvalue of matrix A')\n",
"a=[3 2;3 8]\n",
"disp(a,'A=')\n",
"disp('A-2I=')\n",
"b=a-2*eye(2,2)\n",
"disp(b)\n",
"disp('The columns of A are clearly independent,')\n",
"disp('hence (A-2I)x=0 has a non trivial solution and 2 is an eigenvalue of matrix A')"
   ]
   }
,
{
		   "cell_type": "markdown",
		   "metadata": {},
		   "source": [
			"## Example 5.1_7: Eigenvalue_of_a_matrix.sce"
		   ]
		  },
  {
"cell_type": "code",
	   "execution_count": null,
	   "metadata": {
	    "collapsed": true
	   },
	   "outputs": [],
"source": [
"disp('To check if 4 is an eigenvalue of matrix A')\n",
"a=[3 0 -1;2 3 1;-3 4 5]\n",
"disp(a,'A=')\n",
"disp('Therefore')\n",
"disp('A-4I=')\n",
"disp(a-4*eye(3,3))\n",
"b=a-4*eye(3,3)\n",
"disp('to check the invertibility of A-4I, form an augmented matrix')\n",
"c=[b [0;0;0]]\n",
"disp(c)\n",
"disp('performing row operations')\n",
"c(2,:)=c(2,:)+2*c(1,:)\n",
"c(3,:)=c(3,:)-3*c(1,:)\n",
"disp(c)\n",
"c(3,:)=c(3,:)+4*c(2,:)\n",
"disp(c)\n",
"disp('We can see that there exists a non trivial solution.')\n",
"disp('Hence, 4 is an eigenvalue of A.')\n",
"disp('For the eigenvector, -x1-x3=0 and -x2-x3=0')\n",
"disp('If x3=1,')\n",
"x=[-1;-1;1]\n",
"disp(x,'x=')"
   ]
   }
,
{
		   "cell_type": "markdown",
		   "metadata": {},
		   "source": [
			"## Example 5.2_13: Eigenvalues_of_a_matrix.sce"
		   ]
		  },
  {
"cell_type": "code",
	   "execution_count": null,
	   "metadata": {
	    "collapsed": true
	   },
	   "outputs": [],
"source": [
"disp('To find the eigenvalues of the matrix A')\n",
"disp('A=')\n",
"a=[6 -2 0;-2 9 0;5 8 3]\n",
"disp(a)\n",
"disp('Eigenvalues of A are:')\n",
"disp(spec(a))"
   ]
   }
,
{
		   "cell_type": "markdown",
		   "metadata": {},
		   "source": [
			"## Example 5.2_1: Eigenvalue_of_a_matrix.sce"
		   ]
		  },
  {
"cell_type": "code",
	   "execution_count": null,
	   "metadata": {
	    "collapsed": true
	   },
	   "outputs": [],
"source": [
"disp('To find the eigenvalue of matrix A')\n",
"disp('A=')\n",
"a=[2 7;7 2]\n",
"disp(a)\n",
"disp('Eigen values of A are:')\n",
"disp(spec(a))"
   ]
   }
,
{
		   "cell_type": "markdown",
		   "metadata": {},
		   "source": [
			"## Example 5.2_25: Eigenvectors.sce"
		   ]
		  },
  {
"cell_type": "code",
	   "execution_count": null,
	   "metadata": {
	    "collapsed": true
	   },
	   "outputs": [],
"source": [
"disp('Matrix A=')\n",
"a=[.6 .3;.4 .7]\n",
"disp(a)\n",
"disp('Eigenvector v1=')\n",
"v1=[3/7;4/7]\n",
"disp(v1)\n",
"disp('vector Xo=')\n",
"Xo=[.5;.5]\n",
"disp(Xo)\n",
"disp('Eigenvalues of A are:')\n",
"c=spec(a)\n",
"disp(c)\n",
"disp('To verify if v1 is an eigenvector of A:')\n",
"disp('A*v1=')\n",
"disp(a*v1)\n",
"disp('=')\n",
"disp('1*v1')\n",
"disp('Hence v1 is an eigenvector of A corresponding to eigenvalue 1.')\n",
"disp('for lambda=.3')\n",
"disp('A-.3I=')\n",
"b=a-.3*eye(2,2)\n",
"disp(b)\n",
"disp('performing row operations on the augmented matrix')\n",
"c=[b [0;0]]\n",
"disp(c)\n",
"c(2,:)=c(2,:)-(c(2,1)/c(1,1))*c(1,:)\n",
"disp(c)\n",
"disp('hence, x1+x2=0')\n",
"disp('Eigenvector corresponding to eigenvalue .3 is:')\n",
"disp([-1;1])"
   ]
   }
,
{
		   "cell_type": "markdown",
		   "metadata": {},
		   "source": [
			"## Example 5.2_7: Complex_eigenvalues.sce"
		   ]
		  },
  {
"cell_type": "code",
	   "execution_count": null,
	   "metadata": {
	    "collapsed": true
	   },
	   "outputs": [],
"source": [
"disp('To find the eigenvalues of matrix A.')\n",
"disp('A=')\n",
"a=[5 3;-4 4]\n",
"disp(a)\n",
"disp('Eigen values of A are:')\n",
"disp(spec(a))\n",
"disp('Hence, A has no real eigenvalues.')"
   ]
   }
,
{
		   "cell_type": "markdown",
		   "metadata": {},
		   "source": [
			"## Example 5.3_13: Diagonalization_of_a_matrix.sce"
		   ]
		  },
  {
"cell_type": "code",
	   "execution_count": null,
	   "metadata": {
	    "collapsed": true
	   },
	   "outputs": [],
"source": [
"disp('Given matrix A=')\n",
"a=[2 2 -1;1 3 -1;-1 -2 2]\n",
"disp(a)\n",
"disp('Given its eigen values are 5 and 1')\n",
"disp('for lambda=5')\n",
"disp('A-5I=')\n",
"b=a-5*eye(3,3)\n",
"disp(b)\n",
"disp('performing row operations')\n",
"c=[b [0;0;0]]\n",
"disp(c)\n",
"c([1 2],:)=c([2 1],:)\n",
"disp(c)\n",
"c(2,:)=c(2,:)+3*c(1,:)\n",
"c(3,:)=c(3,:)+c(1,:)\n",
"disp(c)\n",
"c(3,:)=c(3,:)-c(2,:)\n",
"disp(c)\n",
"c(2,:)=c(2,:)/c(2,2)\n",
"disp(c)\n",
"disp('With x3 as free variable, x1=-x3 and x2=-x3')\n",
"disp('Hence, for lambda=5 eigenvector is:')\n",
"u1=[-1;-1;1]\n",
"disp(u1)\n",
"disp('for lambda=1')\n",
"disp('A-I=')\n",
"b=a-eye(3,3)\n",
"disp(b)\n",
"disp('performing row operations')\n",
"c=[b [0;0;0]]\n",
"disp(c)\n",
"c(2,:)=c(2,:)-c(1,:)\n",
"c(3,:)=c(3,:)+c(1,:)\n",
"disp(c)\n",
"disp('With x2 and x3 as free variables, eigen vectors corresponding to lambda=1 are')\n",
"u2=[-2;1;0]\n",
"u3=[1;0;1]\n",
"disp(u3,u2)\n",
"disp('Hence, matrix P=')\n",
"disp([u1 u2 u3])\n",
"disp('and matrix D=')\n",
"disp([5 0 0;0 1 0;0 0 1])"
   ]
   }
,
{
		   "cell_type": "markdown",
		   "metadata": {},
		   "source": [
			"## Example 5.3_1: Diagonalization_of_a_matrix.sce"
		   ]
		  },
  {
"cell_type": "code",
	   "execution_count": null,
	   "metadata": {
	    "collapsed": true
	   },
	   "outputs": [],
"source": [
"disp('The given eigenvector matrix is:')\n",
"p=[5 7;2 3]\n",
"disp(p,'P=')\n",
"disp('The diagonal matrix is:')\n",
"d=[2 0;0 1]\n",
"disp(d,'D=')\n",
"disp('Therefore, matrix A=PD(p^-1)')\n",
"s=inv(p)\n",
"disp(p*d*s)\n",
"disp('Hence, A^4=P(D^4)(P^-1)')\n",
"disp(p*(d^4)*s)"
   ]
   }
,
{
		   "cell_type": "markdown",
		   "metadata": {},
		   "source": [
			"## Example 5.3_7: Diagonalization_of_a_matrix.sce"
		   ]
		  },
  {
"cell_type": "code",
	   "execution_count": null,
	   "metadata": {
	    "collapsed": true
	   },
	   "outputs": [],
"source": [
"disp('the given matrix is:')\n",
"a=[1 0;6 -1]\n",
"disp(a,'A=')\n",
"disp('Since A is triangular, eigenvalues are the diagonal entries.')\n",
"disp(a(2,2),a(1,1),'Eigenvalues are:')\n",
"disp('for lambda=1')\n",
"disp('A-1I=')\n",
"b=a-eye(2,2)\n",
"disp(b)\n",
"disp('Hence, x1=(1/3)x2 with x2 as free variable.')\n",
"disp('Eigenvector corresponding to lambda=1 is:')\n",
"u1=[1;3]\n",
"disp(u1)\n",
"disp('for lambda=-1')\n",
"disp('A-(-1)I=')\n",
"b=a+eye(2,2)\n",
"disp(b)\n",
"disp('Hence, x1=0 with x2 as free variable.')\n",
"disp('Eigenvector corresponding to lambda=-1 is:')\n",
"u2=[0;1]\n",
"disp(u2)\n",
"disp('Thus, matrix P=')\n",
"disp([u1 u2])\n",
"disp('and matrix D=')\n",
"disp([1 0;0 -1])"
   ]
   }
,
{
		   "cell_type": "markdown",
		   "metadata": {},
		   "source": [
			"## Example 5.4_31: PD_decomposition_of_a_matrix.sce"
		   ]
		  },
  {
"cell_type": "code",
	   "execution_count": null,
	   "metadata": {
	    "collapsed": true
	   },
	   "outputs": [],
"source": [
"disp('Given matrix A=')\n",
"a=[-7 -48 -16;1 14 6;-3 -45 -19]\n",
"disp(a)\n",
"disp('and matrix P=')\n",
"p=[-3 -2 3;1 1 -1;-3 -3 0]\n",
"disp(p)\n",
"disp('Hence, marix D=')\n",
"s=inv(p)\n",
"disp(s*a*p)"
   ]
   }
,
{
		   "cell_type": "markdown",
		   "metadata": {},
		   "source": [
			"## Example 5.5_1: Complex_eigenvectors.sce"
		   ]
		  },
  {
"cell_type": "code",
	   "execution_count": null,
	   "metadata": {
	    "collapsed": true
	   },
	   "outputs": [],
"source": [
"disp('Matrix A=')\n",
"a=[1 -2;1 3]\n",
"disp(a)\n",
"disp('Eigen values of A are')\n",
"eig=spec(a)\n",
"disp(eig)\n",
"disp('for lambda=2+i')\n",
"i=sqrt(-1)\n",
"disp('A-(2+i)I=')\n",
"b=a-(2+i)*eye(2,2)\n",
"disp(b)\n",
"disp('With x2 as free variable, x1=-(1-i)x2')\n",
"disp('Hence, eigenvector corresponding to lambda=2+i is:')\n",
"disp([i-1;1])\n",
"disp('for lambda=2-i, eigenvector is:')\n",
"disp([-1-i;1])"
   ]
   }
,
{
		   "cell_type": "markdown",
		   "metadata": {},
		   "source": [
			"## Example 5.5_7: Scale_factor_of_transformation.sce"
		   ]
		  },
  {
"cell_type": "code",
	   "execution_count": null,
	   "metadata": {
	    "collapsed": true
	   },
	   "outputs": [],
"source": [
"disp('Matrix A=')\n",
"a=[sqrt(3) -1;1 sqrt(3)]\n",
"disp(a)\n",
"disp('Eigenvalues of A are:')\n",
"eig=spec(a)\n",
"disp(eig)\n",
"disp('The scale factor associated with the transformation x to Ax is:')\n",
"disp(abs(eig(1,1)))"
   ]
   }
],
"metadata": {
		  "kernelspec": {
		   "display_name": "Scilab",
		   "language": "scilab",
		   "name": "scilab"
		  },
		  "language_info": {
		   "file_extension": ".sce",
		   "help_links": [
			{
			 "text": "MetaKernel Magics",
			 "url": "https://github.com/calysto/metakernel/blob/master/metakernel/magics/README.md"
			}
		   ],
		   "mimetype": "text/x-octave",
		   "name": "scilab",
		   "version": "0.7.1"
		  }
		 },
		 "nbformat": 4,
		 "nbformat_minor": 0
}
