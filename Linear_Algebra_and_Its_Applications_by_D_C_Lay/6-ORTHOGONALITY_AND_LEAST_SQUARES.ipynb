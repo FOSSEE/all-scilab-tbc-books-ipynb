{
"cells": [
 {
		   "cell_type": "markdown",
	   "metadata": {},
	   "source": [
       "# Chapter 6: ORTHOGONALITY AND LEAST SQUARES"
	   ]
	},
{
		   "cell_type": "markdown",
		   "metadata": {},
		   "source": [
			"## Example 6.1_13: Distance_between_two_points.sce"
		   ]
		  },
  {
"cell_type": "code",
	   "execution_count": null,
	   "metadata": {
	    "collapsed": true
	   },
	   "outputs": [],
"source": [
"disp('Vector x and y are:')\n",
"x=[10;-3]\n",
"y=[-1;-5]\n",
"disp(y,x)\n",
"disp('||x-y||=sqrt(121+4)')\n",
"disp(sqrt(125),'=')"
   ]
   }
,
{
		   "cell_type": "markdown",
		   "metadata": {},
		   "source": [
			"## Example 6.1_1: Dot_product_of_vectors.sce"
		   ]
		  },
  {
"cell_type": "code",
	   "execution_count": null,
	   "metadata": {
	    "collapsed": true
	   },
	   "outputs": [],
"source": [
"disp('Vectors u an v are:')\n",
"u=[-1;2]\n",
"v=[4;6]\n",
"disp(v,u)\n",
"disp('Projection of v on u=(u.v)/(v.v)')\n",
"a=u'*v\n",
"b=u'*u\n",
"p=a/b\n",
"disp(p,'=')"
   ]
   }
,
{
		   "cell_type": "markdown",
		   "metadata": {},
		   "source": [
			"## Example 6.1_7: Norm_of_a_vector.sce"
		   ]
		  },
  {
"cell_type": "code",
	   "execution_count": null,
	   "metadata": {
	    "collapsed": true
	   },
	   "outputs": [],
"source": [
"disp('w=')\n",
"w=[3;-1;-5]\n",
"disp(w)\n",
"disp('||w||=sqrt(9+1+25)')\n",
"disp(sqrt(35))"
   ]
   }
,
{
		   "cell_type": "markdown",
		   "metadata": {},
		   "source": [
			"## Example 6.2_13: Projection_of_vectors.sce"
		   ]
		  },
  {
"cell_type": "code",
	   "execution_count": null,
	   "metadata": {
	    "collapsed": true
	   },
	   "outputs": [],
"source": [
"disp('Vectors y and u are:')\n",
"y=[2;3]\n",
"u=[4;-7]\n",
"disp(u,y)\n",
"disp('The orthogonal projection of y on u=((y.u)/(u.u))*u')\n",
"a=y'*u\n",
"b=u'*u\n",
"c=(a/b)*u\n",
"disp(c,'=')\n",
"disp('The component of y orthogonal to u is:')\n",
"disp(y-c)"
   ]
   }
,
{
		   "cell_type": "markdown",
		   "metadata": {},
		   "source": [
			"## Example 6.2_19: Orthonormal_vectors.sce"
		   ]
		  },
  {
"cell_type": "code",
	   "execution_count": null,
	   "metadata": {
	    "collapsed": true
	   },
	   "outputs": [],
"source": [
"disp('given vectors u and v are:')\n",
"u=[-.6;.8]\n",
"v=[.8;.6]\n",
"disp(v,u)\n",
"disp('u.v=')\n",
"disp(u'*v)\n",
"disp('Hence, {u v} is an orthogonal set.')\n",
"disp('||u||=1 and ||v||=1')\n",
"disp('Thus, {u v} is an orthonormal set')"
   ]
   }
,
{
		   "cell_type": "markdown",
		   "metadata": {},
		   "source": [
			"## Example 6.2_1: Orthogonality_of_vectors.sce"
		   ]
		  },
  {
"cell_type": "code",
	   "execution_count": null,
	   "metadata": {
	    "collapsed": true
	   },
	   "outputs": [],
"source": [
"disp('To verify if u v and w are orthogonal')\n",
"u=[-1;4;-3]\n",
"v=[5;2;1]\n",
"w=[3;-4;-7]\n",
"disp(w,v,u)\n",
"disp('u.v=')\n",
"disp(v'*u)\n",
"disp('u.w=')\n",
"disp(u'*w)\n",
"disp('Since u.w is not equal to zero, the set {u v w} is not orthogonal.')"
   ]
   }
,
{
		   "cell_type": "markdown",
		   "metadata": {},
		   "source": [
			"## Example 6.2_7: Orthogonal_basis.sce"
		   ]
		  },
  {
"cell_type": "code",
	   "execution_count": null,
	   "metadata": {
	    "collapsed": true
	   },
	   "outputs": [],
"source": [
"disp('vectors u1 u2 and x are:')\n",
"u1=[2;-3]\n",
"u2=[6;4]\n",
"x=[9;-7]\n",
"disp(x,u2,u1)\n",
"disp('u1.u2=')\n",
"disp(u1'*u2)\n",
"disp('u1.u2=0, {u1 u2} is an orthogonal set')\n",
"disp('Hence {u1 u2} forms a basis of R2')\n",
"disp('x can be written as: x=a*u1+b*u2')\n",
"disp('where a=(x.u1)/(u1.u1)')\n",
"a1=x'*u1\n",
"a2=u1'*u1\n",
"a=a1/a2\n",
"disp(a,'=')\n",
"disp('and b=(x.u2)/(u2.u2)')\n",
"b1=x'*u2\n",
"b2=u2'*u2\n",
"b=b1/b2\n",
"disp(b,'=')"
   ]
   }
,
{
		   "cell_type": "markdown",
		   "metadata": {},
		   "source": [
			"## Example 6.3_13: Orthogonal_projection.sce"
		   ]
		  },
  {
"cell_type": "code",
	   "execution_count": null,
	   "metadata": {
	    "collapsed": true
	   },
	   "outputs": [],
"source": [
"disp('Given vectors are:')\n",
"v1=[2;-1;-3;1]\n",
"v2=[1;1;0;-1]\n",
"z=[3;-7;2;3]\n",
"disp(z,'z=',v2,'v2=',v1,'v1=')\n",
"a=v1'*v2\n",
"disp(a,'v1.v2=')\n",
"if(a==0)\n",
"  disp('v1 and v2 are orthogonal')\n",
"end\n",
"disp('By best spproximation theorem, closest point in span{v1 v2} to z is the orthogonal projection')\n",
"disp('=((z.v1)/(v1.v1))*v1+((z.v2)/(v2.v2))*v2')\n",
"a1=z'*v1\n",
"a2=v1'*v1\n",
"b1=z'*v2\n",
"b2=v2'*v2\n",
"disp((a1/a2)*v1,'+',(b1/b2)*v2,'=')\n",
"disp((a1/a2)*v1+(b1/b2)*v2,'=')"
   ]
   }
,
{
		   "cell_type": "markdown",
		   "metadata": {},
		   "source": [
			"## Example 6.3_19: Orthogonal_decomposition_theorem.sce"
		   ]
		  },
  {
"cell_type": "code",
	   "execution_count": null,
	   "metadata": {
	    "collapsed": true
	   },
	   "outputs": [],
"source": [
"disp('By orthogonal decomposition theorem,')\n",
"disp('u3 is the sum of a vector in W=span{u1 u2} and a vector v orthogonal to W')\n",
"disp('To find v, given u1 and u2')\n",
"u1=[1;1;-2]\n",
"u2=[5;-1;2]\n",
"disp(u2,'u2=',u1,'u1=')\n",
"disp('Projection of u3 on W')\n",
"disp('= (-1/3)*u1+(1/15)*u2')\n",
"disp((-1/3)*u1+(1/15)*u2,'=')\n",
"disp('v= u3-(projection of u3 on W)')\n",
"disp((-1/3)*u1+(1/15)*u2,'-',[0;0;1],'=')\n",
"disp([0;0;1]-((-1/3)*u1+(1/15)*u2),'=')"
   ]
   }
,
{
		   "cell_type": "markdown",
		   "metadata": {},
		   "source": [
			"## Example 6.3_1: Orthogonal_projection.sce"
		   ]
		  },
  {
"cell_type": "code",
	   "execution_count": null,
	   "metadata": {
	    "collapsed": true
	   },
	   "outputs": [],
"source": [
"disp('Given vectors are:')\n",
"u1=[0;1;-4;-1]\n",
"u2=[3;5;1;1]\n",
"u3=[1;0;1;-4]\n",
"u4=[5;-3;-1;1]\n",
"x=[10;-8;2;0]\n",
"disp(x,'x=',u4,'u4=',u3,'u3=',u2,'u2=',u1,'u1=')\n",
"disp('The vector in span{u4}=((x.u4)/(u4.u4))*u4')\n",
"a1=x'*u4\n",
"a2=u4'*u4\n",
"disp((a1/a2)*u4)\n",
"disp('Therefore, the vector in span{u1 u2 u3}=x-2*u4')\n",
"disp(x-2*u4)"
   ]
   }
,
{
		   "cell_type": "markdown",
		   "metadata": {},
		   "source": [
			"## Example 6.3_7: Orthogonal_projection.sce"
		   ]
		  },
  {
"cell_type": "code",
	   "execution_count": null,
	   "metadata": {
	    "collapsed": true
	   },
	   "outputs": [],
"source": [
"disp('Vectors u1 u2 and y are')\n",
"u1=[1;3;-2]\n",
"u2=[5;1;4]\n",
"y=[1;3;5]\n",
"disp(y,'y=',u2,'u2=',u1,'u1=')\n",
"disp('u1.u2=')\n",
"a=u1'*u2\n",
"disp(a,'=')\n",
"disp('Hence, {u1 u2} form an orthogonal basis.')\n",
"disp('Let W=span{u1 u2}')\n",
"disp('Therefore, projection of y on W is:')\n",
"disp('((y.u1)/(u1.u1))*u1+((y.u2)/(u2.u2))*u2')\n",
"a1=y'*u1\n",
"a2=u1'*u1\n",
"b1=y'*u2\n",
"b2=u2'*u2\n",
"disp((b1/b2)*u2,'+',(a1/a2)*u1,'=')"
   ]
   }
,
{
		   "cell_type": "markdown",
		   "metadata": {},
		   "source": [
			"## Example 6.4_13: QR_decomposition_of_a_matrix.sce"
		   ]
		  },
  {
"cell_type": "code",
	   "execution_count": null,
	   "metadata": {
	    "collapsed": true
	   },
	   "outputs": [],
"source": [
"disp('QR decomposition of a matrix')\n",
"disp('given matrix A=')\n",
"a=[5 9;1 7;-3 -5;1 5]\n",
"disp(a)\n",
"disp('given matrix Q=')\n",
"q=(1/6)*[5 -1;1 5;-3 1;1 3]\n",
"disp(q)\n",
"disp('Therefore, R=')\n",
"s=q'*a\n",
"disp(s)"
   ]
   }
,
{
		   "cell_type": "markdown",
		   "metadata": {},
		   "source": [
			"## Example 6.4_1: Gram_Schimdt_Orthogonalisation.sce"
		   ]
		  },
  {
"cell_type": "code",
	   "execution_count": null,
	   "metadata": {
	    "collapsed": true
	   },
	   "outputs": [],
"source": [
"disp('to orthogonalise the given vectors using Gram-Schimdt orthogonalisation')\n",
"x1=[3;0;-1]\n",
"x2=[8;5;-6]\n",
"disp(x2,'x2=',x1,'x1=')\n",
"disp('Let v1=x1')\n",
"v1=x1\n",
"disp('v2=x2-((x2.v1)/(v1.v1))*v1')\n",
"a1=x2'*v1\n",
"a2=v1'*v1\n",
"p=(a1/a2)*v1\n",
"v2=x2-p\n",
"disp(p,'-',x2,'=')\n",
"disp(v2,'=')\n",
"disp('Thus, an orthogonal basis is:')\n",
"disp(v2,v1)"
   ]
   }
,
{
		   "cell_type": "markdown",
		   "metadata": {},
		   "source": [
			"## Example 6.4_7: Gram_Schimdt_Orthogonalisation.sce"
		   ]
		  },
  {
"cell_type": "code",
	   "execution_count": null,
	   "metadata": {
	    "collapsed": true
	   },
	   "outputs": [],
"source": [
"disp('to orthogonalise the given vectors using Gram-Schimdt orthogonalisation')\n",
"x1=[2;-5;1]\n",
"x2=[4;-1;2]\n",
"disp(x2,'x2=',x1,'x1=')\n",
"disp('Let v1=x1')\n",
"v1=x1\n",
"disp('v2=x2-((x2.v1)/(v1.v1))*v1')\n",
"a1=x2'*v1\n",
"a2=v1'*v1\n",
"p=(a1/a2)*v1\n",
"v2=x2-p\n",
"disp(p,'-',x2,'=')\n",
"disp(v2,'=')\n",
"disp('Thus, an orthogonal basis is:')\n",
"disp(v2,v1)\n",
"disp('Normalizing v1 and v2, we get')\n",
"s1=sqrt(v1(1,1)^2+v1(2,1)^2+v1(3,1)^2)\n",
"s2=sqrt(v2(1,1)^2+v2(2,1)^2+v2(3,1)^2)\n",
"disp(v2/s2,v1/s1)"
   ]
   }
,
{
		   "cell_type": "markdown",
		   "metadata": {},
		   "source": [
			"## Example 6.5_13: Least_square_solutio.sce"
		   ]
		  },
  {
"cell_type": "code",
	   "execution_count": null,
	   "metadata": {
	    "collapsed": true
	   },
	   "outputs": [],
"source": [
"disp('To determine if u is the least square solution to Ax=b')\n",
"disp('Given')\n",
"a=[3 4;-2 1;3 4]\n",
"disp(a,'A=')\n",
"b=[11;-9;5]\n",
"disp(b,'b=')\n",
"u=[5;-1]\n",
"v=[5;-2]\n",
"disp(v,'v=',u,'u=')\n",
"disp('Au=')\n",
"disp(a*u)\n",
"c=b-a*u\n",
"disp(c,'b-Au=')\n",
"disp('||b-Au||=')\n",
"disp(sqrt(c(1,1)^2+c(2,1)^2+c(3,1)^2))\n",
"disp('Av=')\n",
"disp(a*v)\n",
"d=b-a*v\n",
"disp(d,'b-Av=')\n",
"disp('||b-Av||=')\n",
"disp(sqrt(d(1,1)^2+d(2,1)^2+d(3,1)^2))\n",
"disp('Since Av is more closer to A than Au, u is not the least square solution.')"
   ]
   }
,
{
		   "cell_type": "markdown",
		   "metadata": {},
		   "source": [
			"## Example 6.5_1: Least_square_solutio.sce"
		   ]
		  },
  {
"cell_type": "code",
	   "execution_count": null,
	   "metadata": {
	    "collapsed": true
	   },
	   "outputs": [],
"source": [
"disp('The co-efficient matrix is:')\n",
"a=[-1 2;2 -3;-1 3]\n",
"disp(a,'A=')\n",
"disp('The RHS is:')\n",
"b=[4;1;2]\n",
"disp(b)\n",
"disp('Product of transpose of A and A=')\n",
"p1=a'*a\n",
"disp(p1)\n",
"disp('Product of transpose of A and b=')\n",
"p2=a'*b\n",
"disp(p2)\n",
"disp('Hence, the solution is:')\n",
"p=inv(p1)*p2\n",
"disp(p)"
   ]
   }
,
{
		   "cell_type": "markdown",
		   "metadata": {},
		   "source": [
			"## Example 6.5_7: Least_square_solutio.sce"
		   ]
		  },
  {
"cell_type": "code",
	   "execution_count": null,
	   "metadata": {
	    "collapsed": true
	   },
	   "outputs": [],
"source": [
"disp('The co-efficient matrix is:')\n",
"a=[1 -2;-1 2;0 3;2 5]\n",
"disp(a,'A=')\n",
"disp('The RHS is:')\n",
"b=[3;1;-4;2]\n",
"disp(b,'b=')\n",
"disp('Product of transpose of A and A=')\n",
"p1=a'*a\n",
"disp(p1)\n",
"disp('Product of transpose of A and b=')\n",
"p2=a'*b\n",
"disp('Forming an augmented matrix to solve the normal equations')\n",
"p=[p1 p2]\n",
"disp(p)\n",
"disp('performing row operations')\n",
"disp('R2=R2-R1')\n",
"p(2,:)=p(2,:)-p(1,:)\n",
"disp(p)\n",
"disp('R1=R1/6 and R2=R2/36')\n",
"p(1,:)=p(1,:)/6\n",
"p(2,:)=p(2,:)/36\n",
"disp(p)\n",
"disp('R1=R1-R2')\n",
"p(1,:)=p(1,:)-p(2,:)\n",
"disp(p)\n",
"disp('Hence, the solution is:')\n",
"disp(p(:,3))\n",
"x=p(:,3)\n",
"disp('The least square error is=||Ax-b||')\n",
"disp('Ax-b=')\n",
"disp(a*x-b)\n",
"c=a*x-b\n",
"s=0\n",
"for i=1:4\n",
"  s=s+c(i,1)^2\n",
"end\n",
"disp('||Ax-b||=')\n",
"disp(sqrt(s))"
   ]
   }
,
{
		   "cell_type": "markdown",
		   "metadata": {},
		   "source": [
			"## Example 6.6_1: Least_squares_line.sce"
		   ]
		  },
  {
"cell_type": "code",
	   "execution_count": null,
	   "metadata": {
	    "collapsed": true
	   },
	   "outputs": [],
"source": [
"disp('To obtain a least sqaure line from the given data')\n",
"disp('Placing the x coordinates of the data in second column of matrix X we get:')\n",
"x=[1 0;1 1;1 2;1 3]\n",
"disp(x,'X=')\n",
"disp('Placing the y coordinates in y vector')\n",
"y=[1;1;2;2]\n",
"disp(y,'y=')\n",
"disp('Product of transpose of X and X=')\n",
"p1=x'*x\n",
"disp(p1)\n",
"disp('Product of transpose of X and y=')\n",
"p2=x'*y\n",
"disp(p2)\n",
"disp('The least square solution =')\n",
"disp(inv(p1)*p2)\n",
"p=inv(p1)*p2\n",
"disp('Hence, the least square line is:')\n",
"disp('x',p(2,1),'+',p(1,1),'=','y')"
   ]
   }
],
"metadata": {
		  "kernelspec": {
		   "display_name": "Scilab",
		   "language": "scilab",
		   "name": "scilab"
		  },
		  "language_info": {
		   "file_extension": ".sce",
		   "help_links": [
			{
			 "text": "MetaKernel Magics",
			 "url": "https://github.com/calysto/metakernel/blob/master/metakernel/magics/README.md"
			}
		   ],
		   "mimetype": "text/x-octave",
		   "name": "scilab",
		   "version": "0.7.1"
		  }
		 },
		 "nbformat": 4,
		 "nbformat_minor": 0
}
