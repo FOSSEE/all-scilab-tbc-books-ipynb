{
"cells": [
 {
		   "cell_type": "markdown",
	   "metadata": {},
	   "source": [
       "# Chapter 1: LINEAR EQUATIONS IN LINEAR ALGEBRA"
	   ]
	},
{
		   "cell_type": "markdown",
		   "metadata": {},
		   "source": [
			"## Example 1.1_13: Gaussian_Elimination_with_row_exchange.sce"
		   ]
		  },
  {
"cell_type": "code",
	   "execution_count": null,
	   "metadata": {
	    "collapsed": true
	   },
	   "outputs": [],
"source": [
"disp('the augmented matrix is')\n",
"a=[1 0 -3 8;2 2 9 7;0 1 5 -2]\n",
"disp(a)\n",
"disp('R2=R2-2*R1')\n",
"a(2,:)=a(2,:)-2*a(1,:)\n",
"disp(a)\n",
"disp('interchange R2 and R3')\n",
"a([2,3],:)=a([3,2],:)\n",
"disp(a)\n",
"disp('R3=R3-2*R2')\n",
"a(3,:)=a(3,:)-2*a(2,:)\n",
"disp(a)\n",
"disp('R3=(1/5)*R3')\n",
"a(3,:)=(1/5)*a(3,:)\n",
"disp(a)\n",
"disp('R2=R2-5*R3 and R1=R1+3*R3')\n",
"a(2,:)=a(2,:)-5*a(3,:)\n",
"a(1,:)=a(1,:)+3*a(3,:)\n",
"disp(a)\n",
"s=[a(1,4);a(2,4);a(3,4)]\n",
"disp('solution is')\n",
"disp(s)"
   ]
   }
,
{
		   "cell_type": "markdown",
		   "metadata": {},
		   "source": [
			"## Example 1.1_19: Condition_for_a_solution_to_exist.sce"
		   ]
		  },
  {
"cell_type": "code",
	   "execution_count": null,
	   "metadata": {
	    "collapsed": true
	   },
	   "outputs": [],
"source": [
"disp('the augmented matrix for h=2')\n",
"a=[1 2 4;3 6 8]\n",
"disp(a)\n",
"disp('R2-2*R1')\n",
"a(2,:)=a(2,:)-3*a(1,:)\n",
"disp(a)\n",
"disp('from R3 we get 0=-4')\n",
"disp('hence, if h=2 no solution, else solution exists')"
   ]
   }
,
{
		   "cell_type": "markdown",
		   "metadata": {},
		   "source": [
			"## Example 1.1_1: Gaussian_Elimination.sce"
		   ]
		  },
  {
"cell_type": "code",
	   "execution_count": null,
	   "metadata": {
	    "collapsed": true
	   },
	   "outputs": [],
"source": [
"disp('performing Gaussian elimination')\n",
"a=[1 5;-2 -7]\n",
"disp('the co-efficient matrix is:')\n",
"disp(a)\n",
"b=[7;-5]\n",
"c=[a b]\n",
"disp('the augmented matrix is:')\n",
"disp(c)\n",
"disp('R2=R2+2*R1')\n",
"c(2,:)=c(2,:)+2*c(1,:)\n",
"disp(c)\n",
"disp('R2=(1/3)*R2')\n",
"c(2,:)=(1/3)*c(2,:)\n",
"disp(c)\n",
"disp('R1=R1-5*R2')\n",
"c(1,:)=c(1,:)-5*c(2,:)\n",
"disp(c)\n",
"x1=c(1,3)/c(1,1)\n",
"x2=c(2,3)/c(2,2)\n",
"printf('the solution is:x1=%d x2=%d',x1,x2)"
   ]
   }
,
{
		   "cell_type": "markdown",
		   "metadata": {},
		   "source": [
			"## Example 1.1_25: Condition_for_a_solution_to_exist.sce"
		   ]
		  },
  {
"cell_type": "code",
	   "execution_count": null,
	   "metadata": {
	    "collapsed": true
	   },
	   "outputs": [],
"source": [
"disp('the co-efficient matrix is:')\n",
"a=[1 -4 7;0 3 -5;-2 5 -9]\n",
"disp(a)\n",
"disp('let g,h,k be the constants on RHS')\n",
"disp('R3=R3+2*R1')\n",
"a(3,:)=a(3,:)+2*a(1,:)\n",
"disp(a)\n",
"disp('the constants on RHS are:g,h,k+2g')\n",
"disp('R3=R3+R2')\n",
"a(3,:)=a(3,:)+a(2,:)\n",
"disp(a)\n",
"disp('the constants on RHS are:g,h,k+2g+h')\n",
"disp('for solution to exist')\n",
"disp('from R3:k+2g+h=0')"
   ]
   }
,
{
		   "cell_type": "markdown",
		   "metadata": {},
		   "source": [
			"## Example 1.1_7: Gaussian_Elimination_Singular_case.sce"
		   ]
		  },
  {
"cell_type": "code",
	   "execution_count": null,
	   "metadata": {
	    "collapsed": true
	   },
	   "outputs": [],
"source": [
"disp('the augmented matrix is:')\n",
"a=[1 7 3 -4;0 1 -1 3;0 0 0 1;0 0 1 -2]\n",
"disp(a)\n",
"disp('interchange R3 and R4')\n",
"a([3,4],:)=a([4,3],:)\n",
"disp(a)\n",
"disp('from R4 we get 0=1')\n",
"disp('hence, no solution')"
   ]
   }
,
{
		   "cell_type": "markdown",
		   "metadata": {},
		   "source": [
			"## Example 1.2_13: General_solution_of_the_system.sce"
		   ]
		  },
  {
"cell_type": "code",
	   "execution_count": null,
	   "metadata": {
	    "collapsed": true
	   },
	   "outputs": [],
"source": [
"disp('the augmented matrix is')\n",
"a=[1 -3 0 -1 0 -2;0 1 0 0 -4 1;0 0 0 1 9 4;0 0 0 0 0 0]\n",
"disp(a)\n",
"disp('R1=R1+R3')\n",
"a(1,:)=a(1,:)+a(3,:)\n",
"disp(a)\n",
"disp('R1=R1+3*R2')\n",
"a(1,:)=a(1,:)+3*a(2,:)\n",
"disp(a)\n",
"disp('corresponding equations are:')\n",
"disp('x1-3*x5=5, x2-4*x5=1, x4+9*x5=4, and 0=0')\n",
"disp('free variables:x3, x5')\n",
"disp('general solution is:')\n",
"disp('x1=5+3*x5, x2=1+4*x5, x3, x4=4-9*x5, x5')"
   ]
   }
,
{
		   "cell_type": "markdown",
		   "metadata": {},
		   "source": [
			"## Example 1.2_34: Row_reduced_echelon_form.sce"
		   ]
		  },
  {
"cell_type": "code",
	   "execution_count": null,
	   "metadata": {
	    "collapsed": true
	   },
	   "outputs": [],
"source": [
"disp('the augmented matrix is:')\n",
"a=[1 0 0 0 0 0 0;1 2 4 8 16 32 2.9;1 4 16 64 256 1024 14.8;1 6 36 216 1296 7776 39.6;1 8 64 512 4096 32768 74.3;1 10 10^2 10^3 10^4 10^5 119];\n",
"disp(a)\n",
"disp('performing row transformations')\n",
"for k=2:6\n",
"  a(k,:)=a(k,:)-a(1,:)\n",
"end\n",
"disp(a)\n",
"j=2;\n",
"for k=3:6\n",
"  a(k,:)=a(k,:)-j*a(2,:)\n",
"  j=j+1;\n",
"end\n",
"disp(a)\n",
"j=[0 0 0 3 6 10];\n",
"for k=4:6\n",
"  a(k,:)=a(k,:)-j(k)*a(3,:)\n",
"end\n",
"disp(a)\n",
"a(5,:)=a(5,:)-4*a(4,:)\n",
"a(6,:)=a(6,:)-10*a(4,:)\n",
"disp(a)\n",
"a(6,:)=a(6,:)-5*a(5,:)\n",
"disp(a)\n",
"a(6,:)=a(6,:)/a(6,6)\n",
"disp(a)\n",
"j=[0 32 960 4800 7680]\n",
"for k=1:5\n",
"  a(k,:)=a(k,:)-j(k)*a(6,:)\n",
"end\n",
"disp(a)\n",
"a(5,:)=a(5,:)/a(5,5)\n",
"j=[0 16 224 576]\n",
"for k=2:4\n",
"  a(k,:)=a(k,:)-j(k)*a(5,:)\n",
"end\n",
"a(4,:)=a(4,:)/48\n",
"a(2,:)=a(2,:)-8*a(4,:)\n",
"a(3,:)=a(3,:)-48*a(4,:)\n",
"a(3,:)=a(3,:)/8\n",
"a(2,:)=a(2,:)-4*a(3,:)\n",
"a(2,:)=a(2,:)/2\n",
"disp(a)\n",
"v=[a(1,7) a(2,7) a(3,7) a(4,7) a(5,7) a(6,7)]\n",
"p=poly(v,'t','coeff')\n",
"disp('p(t)=')\n",
"disp(p)\n",
"disp('p(7.5)=64.6 hundred lb')"
   ]
   }
,
{
		   "cell_type": "markdown",
		   "metadata": {},
		   "source": [
			"## Example 1.2_7: General_solution_of_the_system.sce"
		   ]
		  },
  {
"cell_type": "code",
	   "execution_count": null,
	   "metadata": {
	    "collapsed": true
	   },
	   "outputs": [],
"source": [
"disp('the augmented matrix is')\n",
"a=[1 3 4 7;3 9 7 6]\n",
"disp(a)\n",
"disp('R2=R2-3*R1')\n",
"a(2,:)=a(2,:)-3*a(1,:)\n",
"disp(a)\n",
"disp('(-1/5)*R2')\n",
"a(2,:)=(-1/5)*a(2,:)\n",
"disp(a)\n",
"disp('R1=R1-4*R2')\n",
"a(1,:)=a(1,:)-4*a(2,:)\n",
"disp('the row reduced form is:')\n",
"disp(a)\n",
"disp('corresponding equations are')\n",
"disp('x1+3*x2=-5 and x3=3')\n",
"disp('free variables:x2')\n",
"disp('general solution is:')\n",
"disp('x1=-5-3*x2, x2, x3=3')"
   ]
   }
,
{
		   "cell_type": "markdown",
		   "metadata": {},
		   "source": [
			"## Example 1.3_11: Linear_combination_of_vectors.sce"
		   ]
		  },
  {
"cell_type": "code",
	   "execution_count": null,
	   "metadata": {
	    "collapsed": true
	   },
	   "outputs": [],
"source": [
"disp('vectors a1 a2 a3 are:')\n",
"a1=[1 0 -2]\n",
"disp(a1')\n",
"a2=[-4 3 8]\n",
"disp(a2')\n",
"a3=[2 5 -4]\n",
"disp(a3')\n",
"disp('vector b=')\n",
"b=[3 -7 -3]\n",
"disp(b')\n",
"disp('the augmented matrix is:')\n",
"a=[1 -4 2 3;0 3 5 -7;-2 8 -4 -3]\n",
"disp(a)\n",
"a(3,:)=a(3,:)+2*a(1,:)\n",
"disp(a)\n",
"disp('from the entries of last row, the system is inconsistent')\n",
"disp('hence, b is not a linear combination of a1 a2 and a3')"
   ]
   }
,
{
		   "cell_type": "markdown",
		   "metadata": {},
		   "source": [
			"## Example 1.3_1: Linear_combination_of_two_vectors.sce"
		   ]
		  },
  {
"cell_type": "code",
	   "execution_count": null,
	   "metadata": {
	    "collapsed": true
	   },
	   "outputs": [],
"source": [
"u=[-1;2]\n",
"disp('u=')\n",
"disp(u)\n",
"v=[-3;-1]\n",
"disp('v=')\n",
"disp(v)\n",
"s=u-2*v\n",
"disp('u-2v=')\n",
"disp(s)"
   ]
   }
,
{
		   "cell_type": "markdown",
		   "metadata": {},
		   "source": [
			"## Example 1.3_31: Application_of_Gaussian_elimination.sce"
		   ]
		  },
  {
"cell_type": "code",
	   "execution_count": null,
	   "metadata": {
	    "collapsed": true
	   },
	   "outputs": [],
"source": [
"disp('1 gram at (0,1), 1 gram at (8,1) and 1 gram at (2,4)')\n",
"cm=(1/3)*(1*[0;1]+1*[8;1]+1*[2;4])\n",
"disp('centre of mass is at')\n",
"disp(cm)\n",
"disp('the new weight of the system=9 grams')\n",
"disp('new centre of mass is at')\n",
"s=[2;2]\n",
"disp(s)\n",
"disp('let w1,w2 and w3 be the weights added at (0,1),(8,1) and (2,4) respectively')\n",
"disp('hence, w1+w2+w3=6')\n",
"disp('using the formula for the centre of mass, we get')\n",
"disp('8*w2+2*w3=8 and w1+w2+4*w3=12')\n",
"a=[1 1 1 6;0 8 2 8;1 1 4 12]\n",
"disp('the augmented matrix is:')\n",
"disp(a)\n",
"disp('R3=R3-R1')\n",
"a(3,:)=a(3,:)-a(1,:)\n",
"disp(a)\n",
"disp('R3=(1/3)*R3')\n",
"a(3,:)=(1/3)*a(3,:)\n",
"disp(a)\n",
"disp('R2=R2-2*R3 and R1=R1-R3')\n",
"a(2,:)=a(2,:)-2*a(3,:)\n",
"a(1,:)=a(1,:)-a(3,:)\n",
"disp(a)\n",
"disp('R1=R1-(1/8)*R2')\n",
"a(1,:)=a(1,:)-(1/8)*a(2,:)\n",
"disp(a)\n",
"disp('R2=(1/8)*R2')\n",
"a(2,:)=(1/8)*a(2,:)\n",
"disp(a)\n",
"printf('Add %.1f grams at (0,1), %.1f grams at (8,1) and %d grams at (2,4)',a(1,4),a(2,4),a(3,4)) "
   ]
   }
,
{
		   "cell_type": "markdown",
		   "metadata": {},
		   "source": [
			"## Example 1.4_13: Span_of_vectors.sce"
		   ]
		  },
  {
"cell_type": "code",
	   "execution_count": null,
	   "metadata": {
	    "collapsed": true
	   },
	   "outputs": [],
"source": [
"disp('the augmented matrix is:')\n",
"a=[3 -5 0;-2 6 4;1 1 4]\n",
"disp(a)\n",
"disp('interchange R1 and R3')\n",
"a([1,3],:)=a([3,1],:)\n",
"disp(a)\n",
"disp('R2=R2+2*R1 and R3=R3-3*R1')\n",
"a(2,:)=a(2,:)+2*a(1,:)\n",
"a(3,:)=a(3,:)-3*a(1,:)\n",
"disp(a)\n",
"disp('R3=R3+R2')\n",
"a(3,:)=a(3,:)+a(2,:)\n",
"disp(a)\n",
"disp('from the entries of last row, the system is consistent')\n",
"disp('hence, u is in the plane spanned by the columns of a')"
   ]
   }
,
{
		   "cell_type": "markdown",
		   "metadata": {},
		   "source": [
			"## Example 1.4_7: Vectors_as_columns_of_a_matrix.sce"
		   ]
		  },
  {
"cell_type": "code",
	   "execution_count": null,
	   "metadata": {
	    "collapsed": true
	   },
	   "outputs": [],
"source": [
"disp('the three vectors are:')\n",
"u=[4;-1;7;-4]\n",
"v=[-5;3;-5;1]\n",
"w=[7;-8;0;2]\n",
"disp(w,v,u)\n",
"disp('u v and w form the columns of A')\n",
"A=[u v w]\n",
"disp(A)\n",
"disp('the augmented matrix is:')\n",
"c=[A [6 -8 0 -7]']\n",
"disp(c)"
   ]
   }
,
{
		   "cell_type": "markdown",
		   "metadata": {},
		   "source": [
			"## Example 1.5_11: General_solution_of_the_system.sce"
		   ]
		  },
  {
"cell_type": "code",
	   "execution_count": null,
	   "metadata": {
	    "collapsed": true
	   },
	   "outputs": [],
"source": [
"disp('the augmented matrix is')\n",
"a=[1 -4 -2 0 3 -5 0;0 0 1 0 0 -1 0;0 0 0 0 -1 4 0;0 0 0 0 0 0 0]\n",
"disp(a)\n",
"disp('R1=R1-3*R3')\n",
"a(1,:)=a(1,:)-3*a(3,:)\n",
"disp(a)\n",
"disp('R1=R1+2*R2')\n",
"a(1,:)=a(1,:)+2*a(2,:)\n",
"disp(a)\n",
"disp('the free variables are:x2, x4 and x6')\n",
"disp('the basic variables are:x1, x3 and x5')\n",
"disp('the solution is:')\n",
"disp('[4*x2-5*x6  x2  x6  x4  4*x6  x6]')"
   ]
   }
,
{
		   "cell_type": "markdown",
		   "metadata": {},
		   "source": [
			"## Example 1.5_1: Free_and_pivot_variables.sce"
		   ]
		  },
  {
"cell_type": "code",
	   "execution_count": null,
	   "metadata": {
	    "collapsed": true
	   },
	   "outputs": [],
"source": [
"disp('the augmented matrix is:')\n",
"a=[2 -5 8 0;-2 -7 1 0;4 2 7 0]\n",
"disp(a)\n",
"disp('R2=R2+2*R1 and R3=R3-2*R1')\n",
"a(2,:)=a(2,:)+a(1,:)\n",
"a(3,:)=a(3,:)-2*a(1,:)\n",
"disp(a)\n",
"disp('R3=R3+R2')\n",
"a(3,:)=a(3,:)+a(2,:)\n",
"disp(a)\n",
"disp('only two columns have non zero pivots')\n",
"disp('hence, one column is a free column and therefore there exists a non trivial solution')"
   ]
   }
,
{
		   "cell_type": "markdown",
		   "metadata": {},
		   "source": [
			"## Example 1.5_7: General_solution_of_the_system.sce"
		   ]
		  },
  {
"cell_type": "code",
	   "execution_count": null,
	   "metadata": {
	    "collapsed": true
	   },
	   "outputs": [],
"source": [
"disp('the augmented matrix is:')\n",
"a=[1 3 -3 7 0;0 1 -4 5 0]\n",
"disp(a)\n",
"disp('R1=R1-3*R2')\n",
"a(1,:)=a(1,:)-3*a(2,:)\n",
"disp(a)\n",
"disp('basic variables:x1 x2')\n",
"disp('free variables:x3 x4')\n",
"disp('x1=-9*x3+8*x4')\n",
"disp('x2=4*x3-5*x4')\n",
"disp('hence, solution is')\n",
"disp('[-9*x3+8*x4 4*x3-5*x4 x3 x4]')"
   ]
   }
,
{
		   "cell_type": "markdown",
		   "metadata": {},
		   "source": [
			"## Example 1.7_1: Linear_independence_of_vectors.sce"
		   ]
		  },
  {
"cell_type": "code",
	   "execution_count": null,
	   "metadata": {
	    "collapsed": true
	   },
	   "outputs": [],
"source": [
"disp('given vectors u, v and w are')\n",
"u=[5 0 0]'\n",
"disp(u)\n",
"v=[7 2 -6]'\n",
"disp(v)\n",
"w=[9 4 -8]'\n",
"disp(w)\n",
"disp('the augmented matrix is')\n",
"a=[5 7 9 0;0 2 4 0;0 -6 -8 0]\n",
"disp(a)\n",
"disp('R3=R3+3*R2')\n",
"a(3,:)=a(3,:)+3*a(2,:)\n",
"disp(a)\n",
"disp('there are no free variables')\n",
"disp('hence, the homogeneous equation has only trivial solution and  the vectors are linearly independent')"
   ]
   }
,
{
		   "cell_type": "markdown",
		   "metadata": {},
		   "source": [
			"## Example 1.7_7: Linear_independence_of_vectors.sce"
		   ]
		  },
  {
"cell_type": "code",
	   "execution_count": null,
	   "metadata": {
	    "collapsed": true
	   },
	   "outputs": [],
"source": [
"disp('the augmented matrix is')\n",
"A=[1 -3 3 -2 0;-3 7 -1 2 0;-4 -5 7  5 0]\n",
"disp(A)\n",
"disp('since there are three rows, the maximum number of pivots can be 3')\n",
"disp('hence, at least one of the four variable must be free')\n",
"disp('so the equations have non trivial solution and the columns of A are linearly independent')"
   ]
   }
],
"metadata": {
		  "kernelspec": {
		   "display_name": "Scilab",
		   "language": "scilab",
		   "name": "scilab"
		  },
		  "language_info": {
		   "file_extension": ".sce",
		   "help_links": [
			{
			 "text": "MetaKernel Magics",
			 "url": "https://github.com/calysto/metakernel/blob/master/metakernel/magics/README.md"
			}
		   ],
		   "mimetype": "text/x-octave",
		   "name": "scilab",
		   "version": "0.7.1"
		  }
		 },
		 "nbformat": 4,
		 "nbformat_minor": 0
}
