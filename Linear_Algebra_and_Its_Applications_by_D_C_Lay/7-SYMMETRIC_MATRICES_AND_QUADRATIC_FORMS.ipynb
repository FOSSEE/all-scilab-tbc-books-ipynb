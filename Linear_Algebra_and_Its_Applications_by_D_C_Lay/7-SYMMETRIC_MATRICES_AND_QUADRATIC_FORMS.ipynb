{
"cells": [
 {
		   "cell_type": "markdown",
	   "metadata": {},
	   "source": [
       "# Chapter 7: SYMMETRIC MATRICES AND QUADRATIC FORMS"
	   ]
	},
{
		   "cell_type": "markdown",
		   "metadata": {},
		   "source": [
			"## Example 7.1_13: PD_decomposition_of_a_matrix.sce"
		   ]
		  },
  {
"cell_type": "code",
	   "execution_count": null,
	   "metadata": {
	    "collapsed": true
	   },
	   "outputs": [],
"source": [
"disp('To diagonalize the given matrix A')\n",
"a=[3 1;1 3]\n",
"disp(a,'A=')\n",
"eig=spec(a)\n",
"disp('Eigen values of A are:')\n",
"disp(eig)\n",
"disp('for lambda=4')\n",
"disp('A-4I=')\n",
"disp(a-4*eye(2,2))\n",
"b=a-4*eye(2,2)\n",
"disp('To find the eigenvector, form an augmented matrix.')\n",
"c=[b [0;0]]\n",
"disp('performing row operations')\n",
"disp(c)\n",
"c(2,:)=c(2,:)+c(1,:)\n",
"disp(c)\n",
"disp('With x2 as free variable, x1=x2')\n",
"disp('Hence a basis for the eigenspace is:')\n",
"d=[1;1]\n",
"disp(d)\n",
"disp('Upon normalizing')\n",
"disp(d/(sqrt(2)))\n",
"u1=d/(sqrt(2))\n",
"disp('for lambda=2')\n",
"disp('A-2I=')\n",
"b=a-2*eye(2,2)\n",
"disp(b)\n",
"disp('To find the eigenvector, form an augmented matrix.')\n",
"c=[b [0;0]]\n",
"disp('performing row operations')\n",
"disp(c)\n",
"c(2,:)=c(2,:)-c(1,:)\n",
"disp(c)\n",
"disp('With x2 as free variable, x1=-x2')\n",
"disp('Hence a basis for the eigenspace is:')\n",
"d=[-1;1]\n",
"disp(d)\n",
"disp('Upon normalizing')\n",
"disp(d/(sqrt(2)))\n",
"u2=d/(sqrt(2))\n",
"disp('Matrix P=')\n",
"p=[u1 u2]\n",
"disp(p)\n",
"disp('The corresponding matrix D=')\n",
"disp([eig(2,1) 0;0 eig(1,1)])"
   ]
   }
,
{
		   "cell_type": "markdown",
		   "metadata": {},
		   "source": [
			"## Example 7.1_19: PD_decomposition_of_a_matrix.sce"
		   ]
		  },
  {
"cell_type": "code",
	   "execution_count": null,
	   "metadata": {
	    "collapsed": true
	   },
	   "outputs": [],
"source": [
"disp('PD decomposition of a matrix A')\n",
"a=[3 -2 4;-2 6 2;4 2 3]\n",
"disp(a,'A=')\n",
"disp('Eigenvalues of A are')\n",
"eig=spec(a)\n",
"disp(eig)\n",
"disp(eig(2,1),'for lambda =')\n",
"disp('A-(lambda)I=')\n",
"b=a-eig(2,1)*eye(3,3)\n",
"disp(b)\n",
"disp('To find eigenvector, form an augmented matrix')\n",
"c=[b [0;0;0]]\n",
"disp(c)\n",
"disp('performing row operations')\n",
"c(2,:)=c(2,:)-(c(2,1)/c(1,1))*c(1,:)\n",
"c(3,:)=c(3,:)-(c(3,1)/c(1,1))*c(1,:)\n",
"disp(c)\n",
"disp('With x2 and x3 as free variables, we get two vectors.')\n",
"disp('x1=-.5x2+x3')\n",
"disp('Thus, the two vectors are')\n",
"v1=[-1;2;0]\n",
"v2=[1;0;1]\n",
"disp(v2,v1)\n",
"disp('Orthogonalizing v1 and v2')\n",
"disp('Let x1=v1')\n",
"disp('x2=v2-((v2.v1)/(v1.v1))*v1')\n",
"x1=v1\n",
"a1=v2'*v1\n",
"a2=v1'*v1\n",
"x2=v2-(a1/a2)*v1\n",
"x1=x1/(sqrt(x1(1,1)^2+x1(2,1)^2+x1(3,1)^2))\n",
"x1=x2/(sqrt(x2(1,1)^2+x2(2,1)^2+x2(3,1)^2))\n",
"disp('An orthonormal basis is:')\n",
"disp(x2,x1)\n",
"disp(eig(1,1),'for lambda=')\n",
"disp('A-(lambda)I=')\n",
"b=a-eig(1,1)*eye(3,3)\n",
"disp(b)\n",
"disp('To find eigenvector, form an augmented matrix')\n",
"c=[b [0;0;0]]\n",
"disp(c)\n",
"disp('performing row operations')\n",
"c(2,:)=c(2,:)-(c(2,1)/c(1,1))*c(1,:)\n",
"c(3,:)=c(3,:)-(c(3,1)/c(1,1))*c(1,:)\n",
"disp(c)\n",
"c(3,:)=c(3,:)-(c(3,2)/c(2,2))*c(2,:)\n",
"disp(c)\n",
"c(1,:)=c(1,:)/c(1,1)\n",
"c(2,:)=c(2,:)/c(2,2)\n",
"disp(c)\n",
"c(1,:)=c(1,:)-(c(1,2)/c(2,2))*c(2,:)\n",
"disp(c)\n",
"disp('With x3 as free variable')\n",
"disp('x1=x3 and x2=-.5x3')\n",
"disp('Thus a basis for the eigenspace is:')\n",
"v3=[1;-.5;1]\n",
"disp(v3)\n",
"disp('upon normalizing')\n",
"v3=v3/(sqrt(v3(1,1)^2+v3(2,1)^2+v3(3,1)^2))\n",
"disp(v3)\n",
"disp('Thus, matrix P=')\n",
"disp([x1 x2 v3])\n",
"disp('Corresponding matrix D=')\n",
"disp([eig(2,1) 0 0;0 eig(3,1) 0;0 0 eig(1,1)])"
   ]
   }
,
{
		   "cell_type": "markdown",
		   "metadata": {},
		   "source": [
			"## Example 7.1_1: Symmetric_matrices.sce"
		   ]
		  },
  {
"cell_type": "code",
	   "execution_count": null,
	   "metadata": {
	    "collapsed": true
	   },
	   "outputs": [],
"source": [
"disp('To check if the given 2X2 matrix is symmetric')\n",
"a=[3 5;5 -7]\n",
"disp(a,'A=')\n",
"if(a(1,2)==a(2,1))\n",
"  disp('A is a symmetric matrix because the (1,2) and(2,1) entries match.')\n",
"else\n",
"  disp('A is not a symmetric matrix')\n",
"end"
   ]
   }
,
{
		   "cell_type": "markdown",
		   "metadata": {},
		   "source": [
			"## Example 7.1_7: Orthogoanl_matrix.sce"
		   ]
		  },
  {
"cell_type": "code",
	   "execution_count": null,
	   "metadata": {
	    "collapsed": true
	   },
	   "outputs": [],
"source": [
"disp('To show that the given matrix P is orthogonal.')\n",
"p=[.6 .8;.8 -.6]\n",
"disp(p,'P=')\n",
"disp('P is composed of two vectors.')\n",
"p1=[.6;.8]\n",
"p2=[.8;-.6]\n",
"disp(p2,'p2=',p1,'p1=')\n",
"disp('To show that the columns are orthonormal')\n",
"disp('p1.p2=')\n",
"s=p1'*p2\n",
"r=p1'\n",
"disp(p2,'*',r,'=')\n",
"disp(s,'=')\n",
"if(s==0)\n",
"  disp('The columns of P are othonormal')\n",
"end\n",
"disp('||p1||=')\n",
"disp(sqrt(p(1,1)^2+p(2,1)^2))\n",
"disp('||p2||=')\n",
"disp(sqrt(p(1,2)^2+p(2,2)^2))\n",
"disp('Hence, ||p1||=||p2||=1. Thus P is an orthogonal matrix')"
   ]
   }
,
{
		   "cell_type": "markdown",
		   "metadata": {},
		   "source": [
			"## Example 7.2_1: Quadratic_form.sce"
		   ]
		  },
  {
"cell_type": "code",
	   "execution_count": null,
	   "metadata": {
	    "collapsed": true
	   },
	   "outputs": [],
"source": [
"disp('given matrix A and vector x')\n",
"a=[5 (1/3);(1/3) 1]\n",
"disp(a,'A=')\n",
"x=[6;1]\n",
"disp(x,'x=')\n",
"disp('Product of transpose of x and A and x=')\n",
"p=x'*a*x\n",
"disp(p)\n",
"disp('New value of vector x=')\n",
"x=[1;3]\n",
"disp(x)\n",
"disp('Product of transpose of x and A and x=')\n",
"p=x'*a*x\n",
"disp(p)"
   ]
   }
],
"metadata": {
		  "kernelspec": {
		   "display_name": "Scilab",
		   "language": "scilab",
		   "name": "scilab"
		  },
		  "language_info": {
		   "file_extension": ".sce",
		   "help_links": [
			{
			 "text": "MetaKernel Magics",
			 "url": "https://github.com/calysto/metakernel/blob/master/metakernel/magics/README.md"
			}
		   ],
		   "mimetype": "text/x-octave",
		   "name": "scilab",
		   "version": "0.7.1"
		  }
		 },
		 "nbformat": 4,
		 "nbformat_minor": 0
}
