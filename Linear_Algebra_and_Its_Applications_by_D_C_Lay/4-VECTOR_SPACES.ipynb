{
"cells": [
 {
		   "cell_type": "markdown",
	   "metadata": {},
	   "source": [
       "# Chapter 4: VECTOR SPACES"
	   ]
	},
{
		   "cell_type": "markdown",
		   "metadata": {},
		   "source": [
			"## Example 4.1_13: Subspace_of_vectors.sce"
		   ]
		  },
  {
"cell_type": "code",
	   "execution_count": null,
	   "metadata": {
	    "collapsed": true
	   },
	   "outputs": [],
"source": [
"disp('the given vectors are:')\n",
"v1=[1;0;-1]\n",
"disp(v1,'v1=')\n",
"v2=[2;1;3]\n",
"disp(v2,'v2=')\n",
"v3=[4;2;6]\n",
"disp(v3,'v3=')\n",
"w=[3;1;2]\n",
"disp(w,'w=')\n",
"disp('It is clear that w is not one of the three vectors in v1,v2 and v3')\n",
"disp('The span of v1,v2 and v3 contains infinitely many vectors.')\n",
"disp('To check if w is in the subspace of v1,v2 and v3,')\n",
"disp('we form an augmented matrix.')\n",
"a=[1 2 4 3;0 1 2 1;-1 3 6 2]\n",
"disp(a)\n",
"disp('performing row operations')\n",
"disp('R3=R3+R1')\n",
"a(3,:)=a(3,:)+a(1,:)\n",
"disp(a)\n",
"disp('R3=R3-5xR2')\n",
"a(3,:)=a(3,:)-5*a(2,:)\n",
"disp(a)\n",
"disp('there is no pivot in the augmented column,')\n",
"disp('hence the vector equation is consistent and w is in span{v1 v2 v3}.')"
   ]
   }
,
{
		   "cell_type": "markdown",
		   "metadata": {},
		   "source": [
			"## Example 4.2_1: Null_space_of_a_matrix.sce"
		   ]
		  },
  {
"cell_type": "code",
	   "execution_count": null,
	   "metadata": {
	    "collapsed": true
	   },
	   "outputs": [],
"source": [
"disp('the given matrix is:')\n",
"a=[3 -5 -3;6 -2 0;-8 4 1]\n",
"disp(a,'A=')\n",
"disp('the vector x is:')\n",
"x=[1;3;-4]\n",
"disp(x,'x=')\n",
"disp('To check if x is in nullspace of A')\n",
"disp('Ax=')\n",
"disp([0;0;0],'=')\n",
"disp('hence, x is in the null space of A')"
   ]
   }
,
{
		   "cell_type": "markdown",
		   "metadata": {},
		   "source": [
			"## Example 4.3_13: Column_space_of_a_matrix.sce"
		   ]
		  },
  {
"cell_type": "code",
	   "execution_count": null,
	   "metadata": {
	    "collapsed": true
	   },
	   "outputs": [],
"source": [
"disp('the given matrix is:')\n",
"a=[1 0 6 5;0 2 5 3;0 0 0 0]\n",
"p=a\n",
"disp(a,'A=')\n",
"disp('Reducing A to echelon form')\n",
"disp('R2=R2/2')\n",
"a(2,:)=a(2,:)/2\n",
"disp(a)\n",
"disp('the pivot columns are column 1 and 2 of A')\n",
"disp('hence column space of A is:')\n",
"disp('span')\n",
"disp(a(:,1),'and',a(:,2))"
   ]
   }
,
{
		   "cell_type": "markdown",
		   "metadata": {},
		   "source": [
			"## Example 4.4_27: Linear_independence_of_vectors.sce"
		   ]
		  },
  {
"cell_type": "code",
	   "execution_count": null,
	   "metadata": {
	    "collapsed": true
	   },
	   "outputs": [],
"source": [
"disp('to check if vectors v1 v2 and v3 are linearly independent')\n",
"v1=[1;0;0;1]\n",
"v2=[3;1;-2;0]\n",
"v3=[0;-1;3;-1]\n",
"disp(v3,'v3=',v2,'v2=',v1,'v1=')\n",
"disp('forming an augmented matrix')\n",
"a=[1 3 0 0;0 1 -1 0;0 -2 3 0;1 0 -1 0]\n",
"disp(a,'A=')\n",
"disp('performing row operations')\n",
"a(4,:)=a(4,:)-a(1,:)\n",
"disp(a)\n",
"a(3,:)=a(3,:)+2*a(2,:)\n",
"a(4,:)=a(4,:)+3*a(2,:)\n",
"disp(a)\n",
"a(4,:)=a(4,:)+4*a(3,:)\n",
"disp(a)\n",
"disp('since the vector equation has only the trivial solution')\n",
"disp('vectors v1 v2 and v3 are linearly independent')"
   ]
   }
,
{
		   "cell_type": "markdown",
		   "metadata": {},
		   "source": [
			"## Example 4.4_31a: Span_of_vectors.sce"
		   ]
		  },
  {
"cell_type": "code",
	   "execution_count": null,
	   "metadata": {
	    "collapsed": true
	   },
	   "outputs": [],
"source": [
"disp('to check if the polynomials span R3')\n",
"disp('placing the coordinate vectors of the polynomial into the columns of a matrix')\n",
"a=[1 -3 -4 1;-3 5 5 0;5 -7 -6 1]\n",
"disp(a,'A=')\n",
"disp('performing row operations')\n",
"a(2,:)=a(2,:)+3*a(1,:)\n",
"a(3,:)=a(3,:)-5*a(1,:)\n",
"disp(a)\n",
"a(3,:)=a(3,:)+2*a(2,:)\n",
"disp(a)\n",
"disp('the four vectors DO NOT span R3 as there is no pivot in row 3')"
   ]
   }
,
{
		   "cell_type": "markdown",
		   "metadata": {},
		   "source": [
			"## Example 4.4_31b: Span_of_vectors.sce"
		   ]
		  },
  {
"cell_type": "code",
	   "execution_count": null,
	   "metadata": {
	    "collapsed": true
	   },
	   "outputs": [],
"source": [
"disp('to check if the polynomials span R3')\n",
"disp('placing the coordinate vectors of the polynomial into the columns of a matrix')\n",
"a=[0 1 -3 2;5 -8 4 -3;1 -2 2 0]\n",
"disp(a,'A=')\n",
"disp('performing row operations')\n",
"a([1 3],:)=a([3 1],:)\n",
"disp(a)\n",
"a(2,:)=a(2,:)-5*a(1,:)\n",
"disp(a)\n",
"a(3,:)=a(3,:)-.5*a(2,:)\n",
"disp(a)\n",
"disp('the four vectors SPAN R3 as there is a pivot in each row')"
   ]
   }
,
{
		   "cell_type": "markdown",
		   "metadata": {},
		   "source": [
			"## Example 4.4_7: Gaussian_Elimination.sce"
		   ]
		  },
  {
"cell_type": "code",
	   "execution_count": null,
	   "metadata": {
	    "collapsed": true
	   },
	   "outputs": [],
"source": [
"disp('vector x=')\n",
"x=[8;-9;6]\n",
"disp(x)\n",
"disp('the given basis is:')\n",
"b1=[1;-1;-3]\n",
"b2=[-3;4;9]\n",
"b3=[2;-2;4]\n",
"disp(b1,'b1=')\n",
"disp(b2,'b2=')\n",
"disp(b3,'b3=')\n",
"disp('to solve the vector equation')\n",
"disp('an augmented matrix is formed')\n",
"a=[1 -3 2 8;-1 4 -2 -9;-3 9 4 6]\n",
"disp(a,'A=')\n",
"disp('performing row operations')\n",
"a(2,:)=a(2,:)-(a(2,1)/a(1,1))*a(1,:)\n",
"a(3,:)=a(3,:)-(a(3,1)/a(1,1))*a(1,:)\n",
"disp(a)\n",
"a(3,:)=a(3,:)/a(3,3)\n",
"a(1,:)=a(1,:)-2*a(3,:)\n",
"disp(a)\n",
"a(1,:)=a(1,:)+3*a(2,:)\n",
"disp(a)\n",
"disp('Xb=')\n",
"disp(a(:,4))"
   ]
   }
,
{
		   "cell_type": "markdown",
		   "metadata": {},
		   "source": [
			"## Example 4.5_3: Dimension_of_a_vector_space.sce"
		   ]
		  },
  {
"cell_type": "code",
	   "execution_count": null,
	   "metadata": {
	    "collapsed": true
	   },
	   "outputs": [],
"source": [
"disp('to find the dimension of subspace H, which is the set of linear combination of vectors v1 v2 and v3')\n",
"v1=[0;1;0;1]\n",
"v2=[0;-1;1;2]\n",
"v3=[2;0;-3;0]\n",
"disp(v3,'v3=',v2,'v2=',v1,'v1=')\n",
"disp('Clearly, v1 is not equal to zero')\n",
"disp('and v2 is not a multiple of v1 as third element of v1 is zero whereas that of v2 is 1.')\n",
"disp('Also, v3 is not a linear combination of v1 and v2 as the first element of v1 and v2 is zero but that of v3 is 2')\n",
"disp('Hence, v1 v2 and v3 are linearly independent and dim(H)=3')"
   ]
   }
,
{
		   "cell_type": "markdown",
		   "metadata": {},
		   "source": [
			"## Example 4.6_1: Rank_of_a_matrix.sce"
		   ]
		  },
  {
"cell_type": "code",
	   "execution_count": null,
	   "metadata": {
	    "collapsed": true
	   },
	   "outputs": [],
"source": [
"disp('to find the rank of matrix A')\n",
"a=[1 -4 9 -7;-1 2 -4 1;5 -6 10 7]\n",
"p=a\n",
"disp(a,'A=')\n",
"disp('performing row operations')\n",
"a(2,:)=a(2,:)+a(1,:)\n",
"a(3,:)=a(3,:)-5*a(1,:)\n",
"disp(a)\n",
"a(3,:)=a(3,:)+7*a(2,:)\n",
"disp(a)\n",
"disp('It is clear that matrix A has 2 pivot columns')\n",
"disp('Hence, rank(A)=2')\n",
"disp('COlumns 1 and 2 are pivot columns')\n",
"disp(p(:,1),'and',p(:,2),'Hence, basis for C(A) is:')\n",
"disp('Basis for row space of A is:')\n",
"disp(a(1,:),'and',a(2,:))\n",
"disp('To find the basis of N(A), solve Ax=0')\n",
"disp('on solving, we get the basis of N(A) as:')\n",
"u=[1;2.5;1;0]\n",
"v=[-5;-3;0;1]\n",
"disp(v,'and',u)"
   ]
   }
],
"metadata": {
		  "kernelspec": {
		   "display_name": "Scilab",
		   "language": "scilab",
		   "name": "scilab"
		  },
		  "language_info": {
		   "file_extension": ".sce",
		   "help_links": [
			{
			 "text": "MetaKernel Magics",
			 "url": "https://github.com/calysto/metakernel/blob/master/metakernel/magics/README.md"
			}
		   ],
		   "mimetype": "text/x-octave",
		   "name": "scilab",
		   "version": "0.7.1"
		  }
		 },
		 "nbformat": 4,
		 "nbformat_minor": 0
}
