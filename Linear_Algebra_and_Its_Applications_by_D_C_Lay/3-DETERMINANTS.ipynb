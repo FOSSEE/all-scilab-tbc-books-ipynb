{
"cells": [
 {
		   "cell_type": "markdown",
	   "metadata": {},
	   "source": [
       "# Chapter 3: DETERMINANTS"
	   ]
	},
{
		   "cell_type": "markdown",
		   "metadata": {},
		   "source": [
			"## Example 3.1_13: Determinant_of_a_matrix.sce"
		   ]
		  },
  {
"cell_type": "code",
	   "execution_count": null,
	   "metadata": {
	    "collapsed": true
	   },
	   "outputs": [],
"source": [
"disp('the given matrix is:')\n",
"A=[4 0 -7 3 -5;0 0 2 0 0;7 3 -6 4 -8;5 0 5 2 -3;0 0 9 -1 2]\n",
"disp(A,'A=')\n",
"P=A\n",
"disp('since row 2 has maximum zeros, using row 2 for cofactor expression')\n",
"A(2,:)=[]\n",
"A(:,3)=[]\n",
"disp('deleting second row and third column from A, we get')\n",
"disp(A)\n",
"disp(A,'det','det(A)=-2 X')\n",
"disp('for the 4X4 matrix obtained, using column 2 for cofactor exansion')\n",
"disp('deleting second column and row from the 4X4 matrix')\n",
"A(2,:)=[]\n",
"A(:,2)=[]\n",
"disp(A)\n",
"disp(A,'det','det(A)=-2 X 3 X')\n",
"disp('-6 X [4 X (4-3)-5 X (6-5)]','=')\n",
"disp(-6*det(A),'=')"
   ]
   }
,
{
		   "cell_type": "markdown",
		   "metadata": {},
		   "source": [
			"## Example 3.1_19: Property_of_determinants.sce"
		   ]
		  },
  {
"cell_type": "code",
	   "execution_count": null,
	   "metadata": {
	    "collapsed": true
	   },
	   "outputs": [],
"source": [
"disp('the given matrix is:')\n",
"disp('A=')\n",
"disp('a  b')\n",
"disp('c  d')\n",
"disp('det(A)=ad-bc')\n",
"disp('interchanging the rows of A, we get')\n",
"disp('B=')\n",
"disp('c  d')\n",
"disp('a  b')\n",
"disp('det(B)=bc-ad')\n",
"disp('-(ad-bc)','=')\n",
"disp('-det(A)','=')\n",
"disp('interchanging 2 rows reverses the sign of the determinant')\n",
"disp('at least for the 2X2 case')"
   ]
   }
,
{
		   "cell_type": "markdown",
		   "metadata": {},
		   "source": [
			"## Example 3.1_1: Determinant_of_a_matrix.sce"
		   ]
		  },
  {
"cell_type": "code",
	   "execution_count": null,
	   "metadata": {
	    "collapsed": true
	   },
	   "outputs": [],
"source": [
"disp('the given matrix is:')\n",
"A=[3 0 4;2 3 2;0 5 -1]\n",
"disp(A)\n",
"disp('calculating det(A) using cofactor expression along first row')\n",
"disp('det(A)=3 X (-1 X 3-5 X 2)+4 X (2 X 5-3 X 0)')\n",
"disp(det(A),'=')"
   ]
   }
,
{
		   "cell_type": "markdown",
		   "metadata": {},
		   "source": [
			"## Example 3.1_37: Property_of_determinants.sce"
		   ]
		  },
  {
"cell_type": "code",
	   "execution_count": null,
	   "metadata": {
	    "collapsed": true
	   },
	   "outputs": [],
"source": [
"A=[3 1;4 2]\n",
"disp('the given matrix is:')\n",
"disp(A)\n",
"disp(det(A),'det(A)=')\n",
"disp('5 X A = ')\n",
"disp(5*A)\n",
"disp(det(5*A),'det(5*A)=')\n",
"disp('thus, det(5A) is not equal to 5Xdet(A)')\n",
"disp('infact, the relation between det(rA) and det(A) for a nxn matrix is:')\n",
"disp('det(rA)=(r^n)*det(A)')"
   ]
   }
,
{
		   "cell_type": "markdown",
		   "metadata": {},
		   "source": [
			"## Example 3.1_7: Determinant_of_a_matrix.sce"
		   ]
		  },
  {
"cell_type": "code",
	   "execution_count": null,
	   "metadata": {
	    "collapsed": true
	   },
	   "outputs": [],
"source": [
"disp('given matrix is:')\n",
"A=[4 3 0;6 5 2;9 7 3]\n",
"disp(A)\n",
"disp('calculating det(A) using cofactor expression along first row')\n",
"disp('det(A)=4 X (5 X 3-7 X 2)-3 X (6 X 3-9 X 2)')\n",
"disp(det(A),'=')"
   ]
   }
,
{
		   "cell_type": "markdown",
		   "metadata": {},
		   "source": [
			"## Example 3.2_13: Determinant_of_a_matrix.sce"
		   ]
		  },
  {
"cell_type": "code",
	   "execution_count": null,
	   "metadata": {
	    "collapsed": true
	   },
	   "outputs": [],
"source": [
"disp('the given matrix is:')\n",
"a=[2 5 4 1;4 7 6 2;6 -2 -4 0;-6 7 7 0]\n",
"disp(a,'A=')\n",
"disp('performing row operations')\n",
"a(2,:)=a(2,:)-2*a(1,:)\n",
"disp(a)\n",
"disp('using cofactor expansion about fourth column')\n",
"a(1,:)=[]\n",
"a(:,4)=[]\n",
"disp(a,'det','det(A)= -1 X')\n",
"disp('performing row operations')\n",
"a(3,:)=a(3,:)+a(2,:)\n",
"disp(a)\n",
"disp('using cofactor expansion about first column')\n",
"a(2,:)=[]\n",
"a(:,1)=[]\n",
"disp(a,'det','det(A)= -1 X -6 X')\n",
"disp(6*det(a),'=')"
   ]
   }
,
{
		   "cell_type": "markdown",
		   "metadata": {},
		   "source": [
			"## Example 3.2_19: Determinant_of_a_matrix.sce"
		   ]
		  },
  {
"cell_type": "code",
	   "execution_count": null,
	   "metadata": {
	    "collapsed": true
	   },
	   "outputs": [],
"source": [
"disp('the given matrix is:')\n",
"disp('A=')\n",
"disp(' a       b       c')\n",
"disp('2d+a    2e+b    2f+c')\n",
"disp(' g       h       i')\n",
"disp('B=')\n",
"disp('a  b  c')\n",
"disp('d  e  f')\n",
"disp('g  h  i')\n",
"disp('given, det(B)=7')\n",
"disp('performing row operations on A')\n",
"disp('R2=R2-R1')\n",
"disp('A=')\n",
"disp('a   b   c')\n",
"disp('2d  2e  2f')\n",
"disp('g   h   i')\n",
"disp('factoring 2 out of row 2')\n",
"disp('A=')\n",
"disp('2 X')\n",
"disp('a  b  c')\n",
"disp('d  e  f')\n",
"disp('g  h  i')\n",
"disp('therefore, det(A)=2 X det(B)')\n",
"disp('=2 X 7')\n",
"disp('= 14')"
   ]
   }
,
{
		   "cell_type": "markdown",
		   "metadata": {},
		   "source": [
			"## Example 3.2_25: Linear_independency_using_determinants.sce"
		   ]
		  },
  {
"cell_type": "code",
	   "execution_count": null,
	   "metadata": {
	    "collapsed": true
	   },
	   "outputs": [],
"source": [
"disp('the given vectors are:')\n",
"v1=[7 -4 -6]'\n",
"v2=[-8 5 7]'\n",
"v3=[7 0 -5]'\n",
"disp(v3,'v3=',v2,'v2=',v1,'v1=')\n",
"disp('combining them as a matrix')\n",
"a=[v1 v2 v3]\n",
"disp(a,'A=')\n",
"disp('if det(A) is not equal to zero, then v1 v2 and v3 are linearly independent')\n",
"disp('expanding about third column')\n",
"disp('det(A)=7 X (-28+30) - 5 X (35-32)')\n",
"disp(det(a),'=')\n",
"disp('hence, v1 v2 and v3 are linearly independent')"
   ]
   }
,
{
		   "cell_type": "markdown",
		   "metadata": {},
		   "source": [
			"## Example 3.2_7: Determinant_of_a_matrix.sce"
		   ]
		  },
  {
"cell_type": "code",
	   "execution_count": null,
	   "metadata": {
	    "collapsed": true
	   },
	   "outputs": [],
"source": [
"disp('the given matrix is:')\n",
"A=[1 3 0 2;-2 -5 7 4;3 5 2 1;1 -1 2 -3]\n",
"disp(A,'A=')\n",
"disp('performing row operations')\n",
"A(2,:)=A(2,:)-(A(2,1)/A(1,1))*A(1,:)\n",
"A(3,:)=A(3,:)-(A(3,1)/A(1,1))*A(1,:)\n",
"A(4,:)=A(4,:)-(A(4,1)/A(1,1))*A(1,:)\n",
"disp(A)\n",
"A(3,:)=A(3,:)-(A(3,2)/A(2,2))*A(2,:)\n",
"A(4,:)=A(4,:)-(A(4,2)/A(2,2))*A(2,:)\n",
"disp(A)\n",
"A(4,:)=A(4,:)-(A(4,3)/A(3,3))*A(3,:)\n",
"disp(A)\n",
"disp('det(A) is the product of diagonal entries')\n",
"disp(det(A),'det(A)=')"
   ]
   }
,
{
		   "cell_type": "markdown",
		   "metadata": {},
		   "source": [
			"## Example 3.3_13: Inverse_of_a_matrix.sce"
		   ]
		  },
  {
"cell_type": "code",
	   "execution_count": null,
	   "metadata": {
	    "collapsed": true
	   },
	   "outputs": [],
"source": [
"disp('the given matrix is:')\n",
"a=[3 5 4;1 0 1;2 1 1]\n",
"disp(a,'A=')\n",
"disp('the cofactors are:')\n",
"C11=det([0 1;1 1])\n",
"disp(C11,'C11=')\n",
"C12=-det([1 1;2 1])\n",
"disp(C12,'C12=')\n",
"C13=det([1 0;2 1])\n",
"disp(C13,'C13=')\n",
"C21=-det([5 4;1 1])\n",
"disp(C21,'C21=')\n",
"C22=det([3 4;2 1])\n",
"disp(C22,'C22=')\n",
"C23=-det([3 5;2 1])\n",
"disp(C23,'C23=')\n",
"C31=det([5 4;0 1])\n",
"disp(C31,'C31=')\n",
"C32=-det([3 4;1 1])\n",
"disp(C32,'C32=')\n",
"C33=det([3 5;1 0])\n",
"disp(C33,'C33=')\n",
"B=[C11 C12 C13;C21 C22 C23;C31 C32 C33]'\n",
"disp('adj(A)=')\n",
"disp(B)\n",
"C=B/(det(a))\n",
"disp('inv(A)=')\n",
"disp(C)"
   ]
   }
,
{
		   "cell_type": "markdown",
		   "metadata": {},
		   "source": [
			"## Example 3.3_19: Application_of_determinant.sce"
		   ]
		  },
  {
"cell_type": "code",
	   "execution_count": null,
	   "metadata": {
	    "collapsed": true
	   },
	   "outputs": [],
"source": [
"disp('the points forming the parrallelogram are')\n",
"disp('(0,0),(5,2),(6,4),(11,6)')\n",
"disp('using the vertices adjacent to origin to form a matrix')\n",
"A=[5 6;2 4]\n",
"disp(A,'A=')\n",
"disp('Area of parallelogram = det(A)')\n",
"disp(det(A),'=')"
   ]
   }
,
{
		   "cell_type": "markdown",
		   "metadata": {},
		   "source": [
			"## Example 3.3_1: Cramers_rule.sce"
		   ]
		  },
  {
"cell_type": "code",
	   "execution_count": null,
	   "metadata": {
	    "collapsed": true
	   },
	   "outputs": [],
"source": [
"disp('the co-efficient matrix is:')\n",
"a=[5 7;2 4]\n",
"disp(a,'A=')\n",
"disp('the RHS is:')\n",
"b=[3;1]\n",
"disp(b)\n",
"disp('applying cramers rule')\n",
"disp('replacing first column of matrix A by b')\n",
"A1=[3 7;1 4]\n",
"disp(A1,'A1=')\n",
"disp('replacing second column of matrix A by b')\n",
"A2=[5 3;2 1]\n",
"disp(A2,'A2=')\n",
"disp('x1=det(A1)/det(A)')\n",
"disp((det(A1)/det(a)),'=')\n",
"disp('x2=det(A2)/det(A)')\n",
"disp((det(A2)/det(a)),'=')"
   ]
   }
],
"metadata": {
		  "kernelspec": {
		   "display_name": "Scilab",
		   "language": "scilab",
		   "name": "scilab"
		  },
		  "language_info": {
		   "file_extension": ".sce",
		   "help_links": [
			{
			 "text": "MetaKernel Magics",
			 "url": "https://github.com/calysto/metakernel/blob/master/metakernel/magics/README.md"
			}
		   ],
		   "mimetype": "text/x-octave",
		   "name": "scilab",
		   "version": "0.7.1"
		  }
		 },
		 "nbformat": 4,
		 "nbformat_minor": 0
}
