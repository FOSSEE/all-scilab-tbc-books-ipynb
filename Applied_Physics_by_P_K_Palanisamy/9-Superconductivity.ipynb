{
"cells": [
 {
		   "cell_type": "markdown",
	   "metadata": {},
	   "source": [
       "# Chapter 9: Superconductivity"
	   ]
	},
{
		   "cell_type": "markdown",
		   "metadata": {},
		   "source": [
			"## Example 9.1: To_calculate_the_critical_field.sce"
		   ]
		  },
  {
"cell_type": "code",
	   "execution_count": null,
	   "metadata": {
	    "collapsed": true
	   },
	   "outputs": [],
"source": [
"//To calculate the critical field\n",
"Tc = 3.7;      //critical temperature, K\n",
"Hc_0 = 0.0306;    //critical field, T\n",
"T = 2;     //temperature, K\n",
"Hc_2 = Hc_0*(1-(T/Tc)^2);     //critical field, T\n",
"printf('critical field at 2K is %5.5f T',Hc_2);"
   ]
   }
,
{
		   "cell_type": "markdown",
		   "metadata": {},
		   "source": [
			"## Example 9.2: To_calculate_the_critical_current.sce"
		   ]
		  },
  {
"cell_type": "code",
	   "execution_count": null,
	   "metadata": {
	    "collapsed": true
	   },
	   "outputs": [],
"source": [
"//To calculate the critical current\n",
"T = 4.2;     //temperature, K\n",
"d = 1;     //diameter, mm\n",
"d = d*10^-3;     //diameter, m\n",
"Tc = 7.18;    //critical temperature, K\n",
"H0 = 6.5*10^4;     //critical field, A/m\n",
"Hc = H0*(1-(T/Tc)^2);    //critical field at 2K, A/m\n",
"ic = %pi*d*Hc;     //critical current, A\n",
"printf('critical current for lead is %5.2f A',ic);\n",
"\n",
"//answer given in the book is wrong"
   ]
   }
,
{
		   "cell_type": "markdown",
		   "metadata": {},
		   "source": [
			"## Example 9.3: To_calculate_the_penetration_depth.sce"
		   ]
		  },
  {
"cell_type": "code",
	   "execution_count": null,
	   "metadata": {
	    "collapsed": true
	   },
	   "outputs": [],
"source": [
"//To calculate the penetration depth\n",
"lamda_T = 750;    //penetration depth of mercury, Armstrong\n",
"T = 3.5;    //temperature, K\n",
"Tc = 4.12;    //critical temperarure, K\n",
"lamda_0 = lamda_T*((1-(T/Tc)^4))^(1/2);     //penetration depth, Armstrong\n",
"printf('penetration depth at 0K is %d armstrong',lamda_0);"
   ]
   }
,
{
		   "cell_type": "markdown",
		   "metadata": {},
		   "source": [
			"## Example 9.4: To_calculate_the_critical_temperature.sce"
		   ]
		  },
  {
"cell_type": "code",
	   "execution_count": null,
	   "metadata": {
	    "collapsed": true
	   },
	   "outputs": [],
"source": [
"//To calculate the critical temperature\n",
"T1 = 3;    //temperature, K\n",
"T2 = 7.1;    //temperature, K\n",
"lamda_T1 = 396;    //penetration depth, armstrong\n",
"lamda_T2 = 1730;    //penetration depth, armstrong\n",
"A = (((lamda_T2/lamda_T1)^2)*T2^4) - T1^4;\n",
"B = ((lamda_T2/lamda_T1)^2)-1;\n",
"Tc = (A/B)^(1/4);      //critical temperature, K\n",
"printf('critical temperature for lead is %5.3f K',Tc);"
   ]
   }
],
"metadata": {
		  "kernelspec": {
		   "display_name": "Scilab",
		   "language": "scilab",
		   "name": "scilab"
		  },
		  "language_info": {
		   "file_extension": ".sce",
		   "help_links": [
			{
			 "text": "MetaKernel Magics",
			 "url": "https://github.com/calysto/metakernel/blob/master/metakernel/magics/README.md"
			}
		   ],
		   "mimetype": "text/x-octave",
		   "name": "scilab",
		   "version": "0.7.1"
		  }
		 },
		 "nbformat": 4,
		 "nbformat_minor": 0
}
