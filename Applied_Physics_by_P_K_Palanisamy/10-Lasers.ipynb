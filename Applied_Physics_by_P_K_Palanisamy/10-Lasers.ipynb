{
"cells": [
 {
		   "cell_type": "markdown",
	   "metadata": {},
	   "source": [
       "# Chapter 10: Lasers"
	   ]
	},
{
		   "cell_type": "markdown",
		   "metadata": {},
		   "source": [
			"## Example 10.1: To_calculate_the_relative_populatio.sce"
		   ]
		  },
  {
"cell_type": "code",
	   "execution_count": null,
	   "metadata": {
	    "collapsed": true
	   },
	   "outputs": [],
"source": [
"//To calculate the relative population\n",
"c = 3*10^8;    //speed of light, m/sec\n",
"h = 6.6*10^-34;    //planck's constant\n",
"e = 1.6*10^-19;\n",
"T = 300;    //temperature, K\n",
"K = 8.61*10^-5;\n",
"lamda = 6943;    //wavelength, armstrong\n",
"lamda = lamda*10^-10;     //wavelength, m\n",
"// let E2 - E1 be E\n",
"E = h*c/lamda;      //energy, J\n",
"E = E/e;       //energy, eV\n",
"//let population ratio N2/N1 be N\n",
"N = exp(-E/(K*T));\n",
"printf('relative population of 2 states is');\n",
"disp(N);\n",
"\n",
"//answer given in the book is wrong"
   ]
   }
,
{
		   "cell_type": "markdown",
		   "metadata": {},
		   "source": [
			"## Example 10.2: To_calculate_the_divergence.sce"
		   ]
		  },
  {
"cell_type": "code",
	   "execution_count": null,
	   "metadata": {
	    "collapsed": true
	   },
	   "outputs": [],
"source": [
"//To calculate the divergence\n",
"a2 = 6;     //spot diameter, mm\n",
"a2 = a2*10^-3;    //spot diameter, m\n",
"a1 = 4;     //spot diameter, mm\n",
"a1 = a1*10^-3;     //spot diameter, m\n",
"d2 = 2;    //distance from laser, m\n",
"d1 = 1;    //distance from laser, m\n",
"theta = (a2-a1)/(2*(d2-d1));     //divergence, radian\n",
"theta = theta*10^3;      //divergence, milli radian\n",
"printf('divergence is %d milli radian',theta);"
   ]
   }
,
{
		   "cell_type": "markdown",
		   "metadata": {},
		   "source": [
			"## Example 10.3: To_calculate_the_spot_size.sce"
		   ]
		  },
  {
"cell_type": "code",
	   "execution_count": null,
	   "metadata": {
	    "collapsed": true
	   },
	   "outputs": [],
"source": [
"//To calculate the spot size\n",
"n = 1;     //for air\n",
"lamda = 650;     //wavelength, nm\n",
"lamda = lamda*10^-9;    //wavelength, m\n",
"bs = 1;     //beam size, mm\n",
"bs = bs*10^-3;    //beam size, m\n",
"fl = 1;    //focal length of lens, mm\n",
"fl = fl*10^-3;     //focal length of lens, m\n",
"tan_theta = fl/(2*bs);     //value of tan_theta\n",
"theta = atand(tan_theta);\n",
"NA = n*sind(theta);\n",
"ss = 0.6*lamda/NA;       //spot size, m\n",
"ss = ss*10^6;       //spot size, micro metre\n",
"printf('spot size is %5.3f micro metre',ss);\n",
"\n",
"//answer given in the book is wrong"
   ]
   }
],
"metadata": {
		  "kernelspec": {
		   "display_name": "Scilab",
		   "language": "scilab",
		   "name": "scilab"
		  },
		  "language_info": {
		   "file_extension": ".sce",
		   "help_links": [
			{
			 "text": "MetaKernel Magics",
			 "url": "https://github.com/calysto/metakernel/blob/master/metakernel/magics/README.md"
			}
		   ],
		   "mimetype": "text/x-octave",
		   "name": "scilab",
		   "version": "0.7.1"
		  }
		 },
		 "nbformat": 4,
		 "nbformat_minor": 0
}
