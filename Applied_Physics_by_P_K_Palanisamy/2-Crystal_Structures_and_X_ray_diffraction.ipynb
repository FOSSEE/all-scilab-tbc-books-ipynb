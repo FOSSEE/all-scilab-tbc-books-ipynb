{
"cells": [
 {
		   "cell_type": "markdown",
	   "metadata": {},
	   "source": [
       "# Chapter 2: Crystal Structures and X ray diffraction"
	   ]
	},
{
		   "cell_type": "markdown",
		   "metadata": {},
		   "source": [
			"## Example 2.10: To_sketch_the_crystal_plane_structures.sce"
		   ]
		  },
  {
"cell_type": "code",
	   "execution_count": null,
	   "metadata": {
	    "collapsed": true
	   },
	   "outputs": [],
"source": [
"//To sketch the crystal plane structures\n",
"//sketching is not possible"
   ]
   }
,
{
		   "cell_type": "markdown",
		   "metadata": {},
		   "source": [
			"## Example 2.11: To_calculate_the_number_of_atoms_per_square_millimetre.sce"
		   ]
		  },
  {
"cell_type": "code",
	   "execution_count": null,
	   "metadata": {
	    "collapsed": true
	   },
	   "outputs": [],
"source": [
"//To calculate the number of atoms per square millimetre\n",
"//in (100) plane the total number of atoms are n\n",
"n = (1/4)*4;\n",
"//A = a^2. number of atoms per mm^2 is n/a^2\n",
"printf('number of atoms in (100) plane are %d',n);\n",
"printf('number of atoms per mm^2 is 1/a^2');\n",
"//in (110) plane, area is sqrt(2)*a*a = sqrt(2)*a^2\n",
"printf('number of atoms in (100) plane is 1');\n",
"printf('unit area contains 1/(sqrt(2)*a^2) = 0.707/a^2 atoms/mm^2');\n",
"//in (111) plane, area = (1/2)*base*height = (1/2)*a*sqrt(2)*a*sqrt(2)*cosd(30)\n",
"x = cosd(30);\n",
"//area = (1/2)*a*sqrt(2)*a*sqrt(2)*x = 0.866*a^2 = 0.58/a^2\n",
"n1 = (1/360)*60*3;\n",
"//number of atoms per unit area is 0.5/(0.866*a^2) = \n",
"printf('total number of atoms in (111) plane is %5.1f',n1);\n",
"printf('number of atoms per unit area is 0.58/a^2 atoms/mm^2');"
   ]
   }
,
{
		   "cell_type": "markdown",
		   "metadata": {},
		   "source": [
			"## Example 2.12: To_calculate_the_interplanar_spacing_for_the_planes.sce"
		   ]
		  },
  {
"cell_type": "code",
	   "execution_count": null,
	   "metadata": {
	    "collapsed": true
	   },
	   "outputs": [],
"source": [
"//To calculate the interplanar spacing for the planes\n",
"h1 = 1;\n",
"k1 = 1;\n",
"l1 = 0;     //for (110) plane\n",
"h2 = 2;\n",
"k2 = 1;\n",
"l2 = 2;     //for (212) plane\n",
"r = 0.1278;      //atomic radius, nm\n",
"r = r*10^-9;     //atomic radius, m \n",
"x1 = sqrt(h1^2+k1^2+l1^2);\n",
"a = 4*r/x1;     //nearest neighbouring distance, m\n",
"a = a*10^9;     //nearest neighbouring distance, nm\n",
"d_110 = a/x1;    //interplanar spacing for (110), nm\n",
"x2 = sqrt(h2^2+k2^2+l2^2);\n",
"d_212 = a/x2;    //interplanar spacing for (212), nm\n",
"printf('interplanar spacing for (110) is %5.4f nm',d_110);\n",
"printf('interplanar spacing for (212) is %5.4f nm',d_212);"
   ]
   }
,
{
		   "cell_type": "markdown",
		   "metadata": {},
		   "source": [
			"## Example 2.13: To_calculate_the_ratio_of_the_seperation_between_successive_lattice_planes.sce"
		   ]
		  },
  {
"cell_type": "code",
	   "execution_count": null,
	   "metadata": {
	    "collapsed": true
	   },
	   "outputs": [],
"source": [
"//To calculate the ratio of the seperation between successive lattice planes\n",
"h1 = 1;\n",
"k1 = 0;\n",
"l1 = 0;    //for (100) plane\n",
"x1 = sqrt(h1^2+k1^2+l1^2);\n",
"h2 = 1;\n",
"k2 = 1;\n",
"l2 = 0;    //for (110) plane \n",
"x2 = sqrt(h2^2+k2^2+l2^2);\n",
"h3 = 1;\n",
"k3 = 1;\n",
"l3 = 1;    //for (111) plane\n",
"x3 = sqrt(h3^2+k3^2+l3^2);\n",
"//d = a/sqrt(h^2+k^2+l^2)\n",
"//d100:d110:d111 = a:a/sqrt(2):a/sqrt(3)\n",
"//d100:d110:d111 = 1:1/sqrt(2):1/sqrt(3) = 1:0.71:0.58\n",
"printf('ratio of the seperation between successive lattice planes is 1:0.71:0.58'); "
   ]
   }
,
{
		   "cell_type": "markdown",
		   "metadata": {},
		   "source": [
			"## Example 2.14: To_calculate_the_miller_indices_of_a_plane.sce"
		   ]
		  },
  {
"cell_type": "code",
	   "execution_count": null,
	   "metadata": {
	    "collapsed": true
	   },
	   "outputs": [],
"source": [
"//To calculate the miller indices of a plane\n",
"//plane intercepts at a,b/2,3*c\n",
"//therefore intercepts are (1 1/2 3)\n",
"//reciprocal of the intercepts is (1/2 2 1/3)\n",
"//thus miller indices are (3 6 1)\n",
"printf('miller indices of the plane are (3 6 1)');"
   ]
   }
,
{
		   "cell_type": "markdown",
		   "metadata": {},
		   "source": [
			"## Example 2.15: To_calculate_the_wavelength_of_X_rays_and_maximum_order_of_diffraction_possible.sce"
		   ]
		  },
  {
"cell_type": "code",
	   "execution_count": null,
	   "metadata": {
	    "collapsed": true
	   },
	   "outputs": [],
"source": [
"//To calculate the wavelength of X-rays and maximum order of diffraction possible\n",
"d = 0.282;     //lattice spacing, nm\n",
"n = 1;     //first order\n",
"theta = 8+(35*0.0166666667);      //glancing angle in degrees\n",
"d = d*10^-9;      //lattice spacing, m\n",
"lamda = 2*d*sind(theta)/n;     //wavelength of X-rays, m\n",
"lamda_nm = lamda*10^9;     //wavelength of X-rays, nm\n",
"theeta = 90;     //maximum value possible in degrees\n",
"n1 = 2*d*sind(theeta)/lamda;       //maximum order of diffraction possible\n",
"printf('wavelength of X-rays is %5.4f nm',lamda_nm);\n",
"printf('maximum order of diffraction possible is %d',n1);"
   ]
   }
,
{
		   "cell_type": "markdown",
		   "metadata": {},
		   "source": [
			"## Example 2.16: To_calculate_the_highest_order_for_which_Braggs_reflection_can_be_seen.sce"
		   ]
		  },
  {
"cell_type": "code",
	   "execution_count": null,
	   "metadata": {
	    "collapsed": true
	   },
	   "outputs": [],
"source": [
"//To calculate the highest order for which Bragg's reflection can be seen\n",
"lamda = 1.5;      //wavelength, A.U\n",
"d = 1.6;      //interplanar spacing, A.U\n",
"theta = 90;     //maximum glancing angle possible, degrees\n",
"n = 2*d*sind(theta)/lamda;      //maximum possible diffraction order\n",
"printf('maximum possible diffraction order is %d',n);"
   ]
   }
,
{
		   "cell_type": "markdown",
		   "metadata": {},
		   "source": [
			"## Example 2.17: To_calculate_the_interatomic_spacing.sce"
		   ]
		  },
  {
"cell_type": "code",
	   "execution_count": null,
	   "metadata": {
	    "collapsed": true
	   },
	   "outputs": [],
"source": [
"//To calculate the interatomic spacing\n",
"h = 1;\n",
"k = 1;\n",
"l = 1;      //for (111) plane\n",
"theta = 30;    //glancing angle, degrees\n",
"n = 1;     //first order\n",
"x = sqrt(h^2+k^2+l^2);\n",
"lamda = 1.5418;     //wavelength of X-rays, A\n",
"lamda = lamda*10^-10;     //wavelength of X-rays, m\n",
"d = lamda/(2*sind(theta));\n",
"a = d*x;      //interatomic spacing, m\n",
"a = a*10^10;      //interatomic spacing, A\n",
"printf('the interatomic spacing is %5.3f A',a);"
   ]
   }
,
{
		   "cell_type": "markdown",
		   "metadata": {},
		   "source": [
			"## Example 2.18: To_calculate_the_glancing_angle.sce"
		   ]
		  },
  {
"cell_type": "code",
	   "execution_count": null,
	   "metadata": {
	    "collapsed": true
	   },
	   "outputs": [],
"source": [
"//To calculate the glancing angle\n",
"d100 = 0.28;     //lattice constant, nm\n",
"h = 1;\n",
"k = 1;\n",
"l = 0;      //for (110) plane\n",
"n = 2;      //second order\n",
"lamda = 0.071;     //wavelength of X-rays, nm\n",
"lamda_m = lamda*10^-9;     //wavelength of X-rays, m\n",
"d110 = d100/sqrt(h^2+k^2+l^2);     //interatomic spacing. nm\n",
"d110 = d110*10^-9;      //interatomic spacing. m\n",
"theta = asind(n*lamda_m/(2*d110));\n",
"printf('the glancing angle is %d degrees',theta);"
   ]
   }
,
{
		   "cell_type": "markdown",
		   "metadata": {},
		   "source": [
			"## Example 2.19: To_calculate_the_distance_between_110_planes.sce"
		   ]
		  },
  {
"cell_type": "code",
	   "execution_count": null,
	   "metadata": {
	    "collapsed": true
	   },
	   "outputs": [],
"source": [
"//To calculate the distance between (110) planes\n",
"a = 0.38;      //lattice constant, nm\n",
"h = 1;\n",
"k = 1;\n",
"l = 0;      //for (110) plane\n",
"d = a/sqrt(h^2+k^2+l^2);\n",
"printf('the distance between (110) planes is %5.2f nm',d);"
   ]
   }
,
{
		   "cell_type": "markdown",
		   "metadata": {},
		   "source": [
			"## Example 2.1: To_calculate_the_maximum_radius_of_the_interstitial_sphere.sce"
		   ]
		  },
  {
"cell_type": "code",
	   "execution_count": null,
	   "metadata": {
	    "collapsed": true
	   },
	   "outputs": [],
"source": [
"//To calculate the maximum radius of the interstitial sphere\n",
"//We know that body diagonal = 4*r = sqrt(3).a\n",
"//hence a = (4/sqrt(3)).r\n",
"//R = (a-2*r)/2\n",
"//R = ((4/(2*sqrt(3)))*r) - (2*r/2) = (2*r/sqrt(3)) - r\n",
"//R = 1.155*r - r = 0.155*r\n",
"printf('The maximum radius of the interstitial sphere is 0.155*r');"
   ]
   }
,
{
		   "cell_type": "markdown",
		   "metadata": {},
		   "source": [
			"## Example 2.20: To_compare_the_density_of_lattice_points.sce"
		   ]
		  },
  {
"cell_type": "code",
	   "execution_count": null,
	   "metadata": {
	    "collapsed": true
	   },
	   "outputs": [],
"source": [
"//To compare the density of lattice points\n",
"//area of (110) plane is a*sqrt(2)*a = sqrt(2)*a^2\n",
"n = (1/4)*4;     //number of atoms\n",
"theta = 30;     //glancing angle\n",
"x = cosd(theta);\n",
"//area of (111) plane is (a/sqrt(2))*x*a*sqrt(2)\n",
"//hence area is (sqrt(3)/2)*a^2\n",
"n1 = 3*(1/6);     //number of atoms\n",
"printf('area of (110) plane contains %d atom',n);\n",
"printf('density of lattice points is 1/(sqrt(2)*a^2)');\n",
"printf('area of (111) plane contains %5.1f atom',n1);\n",
"//density of lattice points is (1/2)/(sqrt(3)*a^2/2)\n",
"printf('density of lattice points is 1/(sqrt(3)*a^2)');\n",
"//density of lattice points (111) plane : (110) plane is 1/(sqrt(3)*a^2) : 1/(sqrt(2)*a^2) = sqrt(2):sqrt(3)\n",
"printf('density of lattice points (111) plane : (110) plane is sqrt(2):sqrt(3)');"
   ]
   }
,
{
		   "cell_type": "markdown",
		   "metadata": {},
		   "source": [
			"## Example 2.21: To_calculate_the_glancing_angle.sce"
		   ]
		  },
  {
"cell_type": "code",
	   "execution_count": null,
	   "metadata": {
	    "collapsed": true
	   },
	   "outputs": [],
"source": [
"\n",
"//To calculate the glancing angle\n",
"n = 2;     //second order\n",
"h = 1;\n",
"k = 1;\n",
"l = 0;   //plane (110)\n",
"lamda = 0.065;     //wavelength of X-rays, nm\n",
"lamda_m = lamda*10^-9;    //wavelength of X-rays, m\n",
"a = 0.26;      //axial length, nm\n",
"a_m = a*10^-9;    //axial length, m\n",
"x = sqrt(h^2+k^2+l^2);\n",
"theta = asind(n*lamda_m*x/(2*a_m));       //glancing angle, degrees\n",
"deg = int(theta);       //glancing angle, degrees\n",
"t = 60*(theta-deg);\n",
"mint = int(t);         //glancing angle, minutes\n",
"printf('the glancing angle is %d degrees %d minutes',deg,mint);"
   ]
   }
,
{
		   "cell_type": "markdown",
		   "metadata": {},
		   "source": [
			"## Example 2.22: To_calculate_the_cube_edge.sce"
		   ]
		  },
  {
"cell_type": "code",
	   "execution_count": null,
	   "metadata": {
	    "collapsed": true
	   },
	   "outputs": [],
"source": [
"//To calculate the cube edge\n",
"n = 1;    //first order\n",
"h = 1;\n",
"k = 1;\n",
"l = 1;     //for (111) plane\n",
"lamda = 1.54;    //wavelength, A.U\n",
"lamda_m = lamda*10^-10;      //wavelength, m\n",
"theta = 19.2;      //Bragg's angle, degrees\n",
"d = n*lamda_m/(2*sind(theta));     //interplanar spacing, m\n",
"a = d*sqrt(h^2+k^2+l^2);      //cube edge, m\n",
"a_AU = a*10^10;      //cube edge, A.U\n",
"printf('the cube edge is %5.3f A.U',a_AU);\n",
""
   ]
   }
,
{
		   "cell_type": "markdown",
		   "metadata": {},
		   "source": [
			"## Example 2.23: To_calculate_the_cube_edge.sce"
		   ]
		  },
  {
"cell_type": "code",
	   "execution_count": null,
	   "metadata": {
	    "collapsed": true
	   },
	   "outputs": [],
"source": [
"//To calculate the cube edge\n",
"n = 1;    //first order\n",
"h = 1;\n",
"k = 1;\n",
"l = 1;     //for (111) plane\n",
"lamda = 1.54;    //wavelength, A.U\n",
"lamda_m = lamda*10^-10;      //wavelength, m\n",
"theta = 19.2;      //Bragg's angle, degrees\n",
"d = n*lamda_m/(2*sind(theta));     //interplanar spacing, m\n",
"a = d*sqrt(h^2+k^2+l^2);      //cube edge, m\n",
"printf('the cube edge in m is');\n",
"disp(a);"
   ]
   }
,
{
		   "cell_type": "markdown",
		   "metadata": {},
		   "source": [
			"## Example 2.2: To_calculate_the_percent_volume_change.sce"
		   ]
		  },
  {
"cell_type": "code",
	   "execution_count": null,
	   "metadata": {
	    "collapsed": true
	   },
	   "outputs": [],
"source": [
"//To calculate the percent volume change\n",
"r_BCC = 1.258;     //atomic radius, A\n",
"r_FCC = 1.292;     //atomic radius, A\n",
"a_BCC = (4*r_BCC)/sqrt(3);     //In BCC, A\n",
"a_BCCm = a_BCC*10^-10;      //converting a from A to m\n",
"V_BCC = a_BCCm^3;     //volume of unit cell, m^3\n",
"n_BCC = ((1/8)*8)+1;      //number of atoms per unit cell\n",
"V1_BCC = V_BCC/n_BCC;     //volume occupied by 1 atom, m^3\n",
"a_FCC = 2*sqrt(2)*r_FCC;     //In FCC, A\n",
"a_FCCm = a_FCC*10^-10;      //converting a from A to m\n",
"V_FCC = a_FCCm^3;     //volume of unit cell, m^3\n",
"n_FCC = ((1/2)*6) + ((1/8)*8);      //number of atoms per unit cell\n",
"V1_FCC = V_FCC/n_FCC;     //volume occupied by 1 atom, m^3\n",
"delta_V = (V1_BCC - V1_FCC)*100/V1_BCC;       //change in volume in %\n",
"printf('decrease of volume during conversion from BCC to FCC is %5.1f percent',delta_V);"
   ]
   }
,
{
		   "cell_type": "markdown",
		   "metadata": {},
		   "source": [
			"## Example 2.3: To_calculate_the_volume_of_the_unit_cell_and_density_of_Zinc.sce"
		   ]
		  },
  {
"cell_type": "code",
	   "execution_count": null,
	   "metadata": {
	    "collapsed": true
	   },
	   "outputs": [],
"source": [
"//To calculate the volume of the unit cell and density of Zinc\n",
"a = 0.27;      //nearest neighbour distance, nm\n",
"c = 0.494;     //height of unit cell, nm\n",
"N = 6.023*10^26;    //avagadro number, k/mol\n",
"M = 65.37;     //atomic weight, kg\n",
"a_m = a*10^-9;    //nearest neighbour distance, m\n",
"c_m = c*10^-9;     //height of unit cell, m\n",
"V = 3*sqrt(3)*(a_m^2)*c_m/2;      //volume of unit cell, m^3\n",
"//if rho is density then mass = V*rho\n",
"//V*rho = 6*M/N\n",
"rho = (6*M)/(N*V);      //density, kg/m^3\n",
"printf('Volume of the unit cell in m^3 is');\n",
"disp(V);\n",
"printf('density of Zinc is %d kg/m^3',rho);\n",
"\n",
"//answer for density given in the book is wrong"
   ]
   }
,
{
		   "cell_type": "markdown",
		   "metadata": {},
		   "source": [
			"## Example 2.4: To_calculate_the_maximum_radius_of_the_sphere.sce"
		   ]
		  },
  {
"cell_type": "code",
	   "execution_count": null,
	   "metadata": {
	    "collapsed": true
	   },
	   "outputs": [],
"source": [
"//To calculate the maximum radius of the sphere\n",
"//a = 4*r/sqrt(2) and R = (a/2) - r\n",
"//R = (4*r/(2*sqrt(2))) - r = (2*r/sqrt(2)) - r\n",
"//R = r*(sqrt(2)-1) = 0.414*r\n",
"printf('maximum radius of the sphere that can fit into the void is 0.414*r');"
   ]
   }
,
{
		   "cell_type": "markdown",
		   "metadata": {},
		   "source": [
			"## Example 2.5: To_calculate_the_density_of_diamond.sce"
		   ]
		  },
  {
"cell_type": "code",
	   "execution_count": null,
	   "metadata": {
	    "collapsed": true
	   },
	   "outputs": [],
"source": [
"//To calculate the density of diamond\n",
"a = 0.356;     //cube edge of diamond, nm\n",
"aw = 12.01;      //atomic weight of carbon in kg\n",
"N = 6.023*10^26;     //avagadro's number\n",
"a_m = a*10^-9;      //cube edge of diamond, m\n",
"n = 8/(a_m^3);      //number of atoms/m^3\n",
"M = aw/N;      //mass of 1 carbon atom, kg\n",
"rho =  M*n;\n",
"printf('number of atoms per m^3 is');\n",
"disp(n);\n",
"printf('density of diamong is %d kg/m^3',rho);\n",
"\n",
"//answer for density given in the book is wrong"
   ]
   }
,
{
		   "cell_type": "markdown",
		   "metadata": {},
		   "source": [
			"## Example 2.6: To_calculate_the_distance_between_two_adjacent_atoms.sce"
		   ]
		  },
  {
"cell_type": "code",
	   "execution_count": null,
	   "metadata": {
	    "collapsed": true
	   },
	   "outputs": [],
"source": [
"//To calculate the distance between two adjacent atoms\n",
"MW = 23+35.5;     //molecular weight of NaCl, gm\n",
"N = 6.023*10^23;     //avagadro number, mol-1\n",
"rho = 2.18;     //density of NaCl, gm/cm^3\n",
"M = MW/N;      //mass of NaCl molecule, gm\n",
"n = rho/M;     //number of molecules per unit volume\n",
"n = 2*n;      //since NaCl is diatomic, atoms/cm^3\n",
"//length of edge of unit cube is n*a\n",
"//volume V = n^3*a^3 = 1 cm^3 \n",
"V = 1;    //volume of unit cube, cm^3\n",
"a = (V/n)^(1/3);      //distance between two adjacent atoms, cm\n",
"a = a*10^8;       //distance between two adjacent atoms,A\n",
"printf('distance between two adjacent atoms is %5.2f A',a);"
   ]
   }
,
{
		   "cell_type": "markdown",
		   "metadata": {},
		   "source": [
			"## Example 2.7: To_calculate_the_density_of_Copper_crystal.sce"
		   ]
		  },
  {
"cell_type": "code",
	   "execution_count": null,
	   "metadata": {
	    "collapsed": true
	   },
	   "outputs": [],
"source": [
"//To calculate the density of Copper crystal\n",
"AW = 63.5;    //atomic weight of Cu, gm/mol\n",
"N = 6.023*10^23;     //avagadro's number, mol-1\n",
"r = 1.278;     //atomic radius, A\n",
"n = 4;     //number of atoms in unit cell\n",
"r = r*10^-8;      //atomic radius, cm\n",
"M = AW/N;      //mass of each Copper atom, gm\n",
"a = 4*r/sqrt(2);      //lattice constant, cm\n",
"m = n*M;    //mass of unit cell, gm\n",
"rho = m/a^3;     //density of copper crystal, gm/cm^3\n",
"printf('density of Copper crystal is %5.3f gm/cm^3',rho);"
   ]
   }
,
{
		   "cell_type": "markdown",
		   "metadata": {},
		   "source": [
			"## Example 2.8: To_calculate_the_free_volume_per_unit_cell.sce"
		   ]
		  },
  {
"cell_type": "code",
	   "execution_count": null,
	   "metadata": {
	    "collapsed": true
	   },
	   "outputs": [],
"source": [
"//To calculate the free volume per unit cell\n",
"r = 0.1249;     //atomic radius, nm\n",
"a = 4*r/sqrt(3);      //lattice constant, nm\n",
"a_m = a*10^-9;        //lattice constant, m\n",
"V = a_m^3;       //volume of unit cell, m^3\n",
"PF = 0.68;      //packing factor for BCC\n",
"FV = 1 - PF;     //free volume\n",
"FV1 = FV*V;      //free volume per unit cell, m^3\n",
"printf('free volume per unit cell in m^3 is');\n",
"disp(FV1);"
   ]
   }
,
{
		   "cell_type": "markdown",
		   "metadata": {},
		   "source": [
			"## Example 2.9: To_sketch_the_crystal_plane_structures.sce"
		   ]
		  },
  {
"cell_type": "code",
	   "execution_count": null,
	   "metadata": {
	    "collapsed": true
	   },
	   "outputs": [],
"source": [
"//To sketch the crystal plane structures\n",
"//sketching is not possible"
   ]
   }
],
"metadata": {
		  "kernelspec": {
		   "display_name": "Scilab",
		   "language": "scilab",
		   "name": "scilab"
		  },
		  "language_info": {
		   "file_extension": ".sce",
		   "help_links": [
			{
			 "text": "MetaKernel Magics",
			 "url": "https://github.com/calysto/metakernel/blob/master/metakernel/magics/README.md"
			}
		   ],
		   "mimetype": "text/x-octave",
		   "name": "scilab",
		   "version": "0.7.1"
		  }
		 },
		 "nbformat": 4,
		 "nbformat_minor": 0
}
