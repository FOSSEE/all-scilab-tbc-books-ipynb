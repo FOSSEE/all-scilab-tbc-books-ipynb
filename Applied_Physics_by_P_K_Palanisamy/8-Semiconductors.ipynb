{
"cells": [
 {
		   "cell_type": "markdown",
	   "metadata": {},
	   "source": [
       "# Chapter 8: Semiconductors"
	   ]
	},
{
		   "cell_type": "markdown",
		   "metadata": {},
		   "source": [
			"## Example 8.10: To_calculate_the_temperature.sce"
		   ]
		  },
  {
"cell_type": "code",
	   "execution_count": null,
	   "metadata": {
	    "collapsed": true
	   },
	   "outputs": [],
"source": [
"//To calculate the temperature\n",
"Eg = 1;      //band gap, eV\n",
"e = 1.602*10^-19;\n",
"Eg = Eg*e;     //band gap, J\n",
"me = 1;     //for simplicity assume me to be unity\n",
"mh = 4*me;     //effective mass of holes is 4 times of electrons\n",
"E_Ef = 10/100;     //fermi level shift, eV\n",
"E_Ef = E_Ef*e;     //fermi level shift, J\n",
"k = 1.38*10^-23;     //boltzmann constant\n",
"//E_Ef = 3*k*T*log(mh/me)/4\n",
"T = 4*E_Ef/(3*k*log(mh/me));      //temperature, K\n",
"printf('temperature is %d K',T);"
   ]
   }
,
{
		   "cell_type": "markdown",
		   "metadata": {},
		   "source": [
			"## Example 8.11: To_calculate_the_electron_concentration.sce"
		   ]
		  },
  {
"cell_type": "code",
	   "execution_count": null,
	   "metadata": {
	    "collapsed": true
	   },
	   "outputs": [],
"source": [
"//To calculate the electron concentration\n",
"Na = 5*10^23;      //atoms of boron\n",
"Nd = 3*10^23;      //arsenic atoms\n",
"p = 2*(Na-Nd)/2;      //hole concentration per m^3\n",
"ni = 2*10^16;     //intrinsic charge carriers per m^3\n",
"n = ni^2/p;       //electron concentration per m^3\n",
"printf('electron concentration per m^3 is');\n",
"disp(n);"
   ]
   }
,
{
		   "cell_type": "markdown",
		   "metadata": {},
		   "source": [
			"## Example 8.12: To_calculate_the_conductivity_of_intrinsic_Silicon.sce"
		   ]
		  },
  {
"cell_type": "code",
	   "execution_count": null,
	   "metadata": {
	    "collapsed": true
	   },
	   "outputs": [],
"source": [
"//To calculate the conductivity of intrinsic Silicon\n",
"ni = 1.5*10^16;      //intrinsic charge carriers per m^3\n",
"e = 1.6*10^-19;\n",
"mew_e = 0.13;      //electron mobility, m^2/Vs\n",
"mew_h = 0.05;      //hole mobility, m^2/Vs\n",
"sigma = ni*e*(mew_e+mew_h);      //conductivity, ohm-1 m-1\n",
"printf('conductivity is %f ohm-1 m-1',sigma);\n",
"AW = 28.1;      //atomic weight of Si, kg\n",
"d = 2.33*10^3;     //density of Si, kg/m^3\n",
"N = 6.02*10^26;    //avagadro number\n",
"Nd = d*N/AW;      //impurity atoms per m^3\n",
"Nd = Nd/10^8;     //extent of 10^8 Si atoms\n",
"p = ni^2/Nd;      //hole concentration per m^3\n",
"sigma_ex = Nd*e*mew_e;       //conductivity, ohm-1 m-1\n",
"printf('conductivity if donor type impurity is added is %5.2f ohm-1 m-1',sigma_ex);\n",
"Na = Nd;\n",
"n = ni^2/Na;      //electron concentration per m^3\n",
"sigma_EX = Na*e*mew_h;       //conductivity, ohm-1 m-1\n",
"printf('conductivity if acceptor type impurity is added is %5.2f ohm-1 m-1',sigma_EX);"
   ]
   }
,
{
		   "cell_type": "markdown",
		   "metadata": {},
		   "source": [
			"## Example 8.13: EX8_13.sce"
		   ]
		  },
  {
"cell_type": "code",
	   "execution_count": null,
	   "metadata": {
	    "collapsed": true
	   },
	   "outputs": [],
"source": [
"//To calculate the conductivity, equilibrium hole concentration and position of Fermi level\n",
"ni = 1.5*10^16;     ////intrinsic charge carriers per m^3\n",
"e = 1.6*10^-19;\n",
"mew_e = 0.135;      //electron mobility, m^2/Vs\n",
"mew_h = 0.048;      //hole mobility, m^2/Vs\n",
"sigma = ni*e*(mew_e+mew_h);      //conductivity, ohm-1 m-1\n",
"printf('conductivity is %f ohm-1 m-1',sigma);\n",
"Nd = 10^23;      //phosphorus atoms per m^3\n",
"p = ni^2/Nd;     //hole concentration per m^3\n",
"printf('hole concentration per m^3 is');\n",
"disp(p);\n",
"sigma_ex = Nd*e*mew_e;      //conductivity, ohm-1 m-1\n",
"k = 1.38*10^-23;     //boltzmann constant\n",
"T = 300;     //temperature, K\n",
"//EF = (Eg/2)+(3*k*T*log(mew_e/mew_h)/4)\n",
"X = 3*k*T*log(mew_e/mew_h)/(4*e);\n",
"//EF = (Eg/2)+X\n",
"printf('EF = Eg/2 + %5.2f',X);\n",
"printf('Fermi level will be %5.2f eV above intrinsic level',X);"
   ]
   }
,
{
		   "cell_type": "markdown",
		   "metadata": {},
		   "source": [
			"## Example 8.14: To_calculate_the_diffusion_coefficient_of_electrons.sce"
		   ]
		  },
  {
"cell_type": "code",
	   "execution_count": null,
	   "metadata": {
	    "collapsed": true
	   },
	   "outputs": [],
"source": [
"//To calculate the diffusion coefficient of electrons\n",
"mew_e = 0.19;      //electron mobility, m^2/Vs\n",
"k = 1.38*10^-23;     //boltzmann constant\n",
"T = 300;     //temperature, K\n",
"e = 1.6*10^-19;\n",
"Dn = mew_e*k*T/e;     //diffusion coefficient, m^2/s\n",
"printf('diffusion coefficient of electrons is %f m^2/s',Dn);"
   ]
   }
,
{
		   "cell_type": "markdown",
		   "metadata": {},
		   "source": [
			"## Example 8.15: To_calculate_the_Hall_voltage.sce"
		   ]
		  },
  {
"cell_type": "code",
	   "execution_count": null,
	   "metadata": {
	    "collapsed": true
	   },
	   "outputs": [],
"source": [
"//To calculate the Hall voltage\n",
"RH = 3.66*10^-4;     //Hall coefficient, m^3/coulomb\n",
"I = 10^-2;      //current, amp\n",
"B = 0.5;      //magnetic field, Wb/m^2\n",
"t = 1;       //thickness, mm\n",
"t = t*10^-3;     //thickness, m\n",
"VH = RH*I*B/t;      //Hall voltage, V\n",
"VH = VH*10^3;      //Hall voltage, mV\n",
"printf('Hall voltage developed is %5.2f mV',VH);"
   ]
   }
,
{
		   "cell_type": "markdown",
		   "metadata": {},
		   "source": [
			"## Example 8.16: To_calculate_the_Hall_coefficient.sce"
		   ]
		  },
  {
"cell_type": "code",
	   "execution_count": null,
	   "metadata": {
	    "collapsed": true
	   },
	   "outputs": [],
"source": [
"//To calculate the Hall coefficient\n",
"Vy = 37;      //voltage, micro-V\n",
"Vy = Vy*10^-6;     //voltage, V\n",
"t = 1;     //thickness, mm\n",
"t = t*10^-3;     //thickness, m\n",
"Bz = 0.5;      //flux density, Wb/m^2\n",
"Ix = 20;     //current, mA\n",
"Ix = Ix*10^-3;     //current, A\n",
"RH = Vy*t/(Ix*Bz);     //Hall coefficient, C-1 m^3\n",
"printf('Hall coefficient of semiconductor in C-1 m^3 is');\n",
"disp(RH);"
   ]
   }
,
{
		   "cell_type": "markdown",
		   "metadata": {},
		   "source": [
			"## Example 8.17: To_calculate_the_density_and_mobility_of_charge_carriers.sce"
		   ]
		  },
  {
"cell_type": "code",
	   "execution_count": null,
	   "metadata": {
	    "collapsed": true
	   },
	   "outputs": [],
"source": [
"//To calculate the density and mobility of charge carriers\n",
"RH = -7.35*10^-5;      //Hall coefficient, m^3/C\n",
"e = 1.6*10^-19;\n",
"sigma = 200;      //conductivity, ohm-1 m-1\n",
"n = -1/(RH*e);       //density, m^3\n",
"printf('density of charge carriers in m^3 is');\n",
"disp(n);\n",
"mew = sigma/(n*e);     //mobility, m^2/Vs\n",
"printf('mobility of charge carriers is %5.4f m^2/Vs',mew);"
   ]
   }
,
{
		   "cell_type": "markdown",
		   "metadata": {},
		   "source": [
			"## Example 8.18: To_calculate_the_magnitude_of_Hall_voltage.sce"
		   ]
		  },
  {
"cell_type": "code",
	   "execution_count": null,
	   "metadata": {
	    "collapsed": true
	   },
	   "outputs": [],
"source": [
"//To calculate the magnitude of Hall voltage\n",
"I = 50;     //current, A\n",
"B = 1.5;    //magnetic field, T\n",
"e = 1.6*10^-19;\n",
"n = 8.4*10^28;      //free electron concentration, electron/m^3\n",
"t = 0.5;     //thickness, cm\n",
"t = t*10^-2;     //thickness, m\n",
"VH = I*B/(n*e*t);     //hall voltage, V\n",
"VH = VH*10^6;     //hall voltage, micro-V\n",
"printf('magnitude of Hall voltage is %5.3f micro-V',VH);"
   ]
   }
,
{
		   "cell_type": "markdown",
		   "metadata": {},
		   "source": [
			"## Example 8.19: To_calculate_the_value_of_mew_and_n.sce"
		   ]
		  },
  {
"cell_type": "code",
	   "execution_count": null,
	   "metadata": {
	    "collapsed": true
	   },
	   "outputs": [],
"source": [
"//To calculate the value of mew and n\n",
"RH = 3.66*10^-4;      //Hall coefficient, m^3/C\n",
"e = 1.6*10^-19;\n",
"n = 1/(RH*e);\n",
"rho_n = 8.93*10^-3;     //resistivity, ohm m\n",
"printf('value of n per m^3 is');\n",
"disp(n);\n",
"mew_e = RH/rho_n;\n",
"printf('value of mew_e is %5.3f m^2/Vs',mew_e);"
   ]
   }
,
{
		   "cell_type": "markdown",
		   "metadata": {},
		   "source": [
			"## Example 8.1: To_calculate_the_resistivity.sce"
		   ]
		  },
  {
"cell_type": "code",
	   "execution_count": null,
	   "metadata": {
	    "collapsed": true
	   },
	   "outputs": [],
"source": [
"//To calculate the resistivity\n",
"ni = 2.37*10^19;      //intrinsic carrier density, per m^3\n",
"mew_e = 0.38;      //electron mobility, m^2/Vs\n",
"mew_h = 0.18;      //hole mobility, m^2/Vs\n",
"e = 1.6*10^-19;\n",
"sigma_i = ni*e*(mew_e+mew_h);      //conductivity, ohm-1 m-1\n",
"rho = 1/sigma_i;      //resistivity, ohm m\n",
"printf('resistivity is %5.3f ohm m',rho);"
   ]
   }
,
{
		   "cell_type": "markdown",
		   "metadata": {},
		   "source": [
			"## Example 8.2: To_determine_the_position_of_Fermi_level.sce"
		   ]
		  },
  {
"cell_type": "code",
	   "execution_count": null,
	   "metadata": {
	    "collapsed": true
	   },
	   "outputs": [],
"source": [
"//To determine the position of Fermi level\n",
"Eg = 1.12;       //band gap, eV\n",
"k = 1.38*10^-23;\n",
"T = 300;     //temperature, K\n",
"e = 1.6*10^-19;\n",
"m0 = 1;     //for simplicity assume value of m0 to be unity\n",
"mh = 0.28*m0;\n",
"me = 0.12*m0;\n",
"EF = (Eg/2)+(3*k*T*log(mh/me)/(4*e));      //position of Fermi level, eV\n",
"printf('position of Fermi level is %5.3f eV from the top of valence band',EF);"
   ]
   }
,
{
		   "cell_type": "markdown",
		   "metadata": {},
		   "source": [
			"## Example 8.3: To_calculate_the_concentration_of_intrinsic_charge_carriers.sce"
		   ]
		  },
  {
"cell_type": "code",
	   "execution_count": null,
	   "metadata": {
	    "collapsed": true
	   },
	   "outputs": [],
"source": [
"//To calculate the concentration of intrinsic charge carriers\n",
"T = 300;      //temperature, K\n",
"pi = 22/7;    //value of pi\n",
"e = 1.6*10^-19;\n",
"m = 9.109*10^-31;     //mass of electron, kg\n",
"k = 1.38*10^-23;      //boltzmann's constant\n",
"h = 6.626*10^-34;     //planck's constant\n",
"Eg = 0.7;      //band gap, eV\n",
"Eg = Eg*e;     //band gap, J\n",
"A = (2*pi*m*k*T/h^2)^(3/2);\n",
"B = exp(-Eg/(2*k*T));\n",
"ni = 2*A*B;     //concentration of intrinsic charge carriers per m^3\n",
"printf('concentration of intrinsic charge carriers per m^3 is');\n",
"disp(ni);"
   ]
   }
,
{
		   "cell_type": "markdown",
		   "metadata": {},
		   "source": [
			"## Example 8.4: To_calculate_the_resistivity.sce"
		   ]
		  },
  {
"cell_type": "code",
	   "execution_count": null,
	   "metadata": {
	    "collapsed": true
	   },
	   "outputs": [],
"source": [
"//To calculate the resistivity\n",
"ni = 2.4*10^19;      //intrinsic carrier density, per m^3\n",
"mew_e = 0.39;      //electron mobility, m^2/Vs\n",
"mew_h = 0.19;      //hole mobility, m^2/Vs\n",
"e = 1.6*10^-19;\n",
"sigma_i = ni*e*(mew_e+mew_h);      //conductivity, ohm-1 m-1\n",
"rho = 1/sigma_i;      //resistivity, ohm m\n",
"printf('resistivity is %5.3f ohm m',rho);"
   ]
   }
,
{
		   "cell_type": "markdown",
		   "metadata": {},
		   "source": [
			"## Example 8.5: To_calculate_the_resistance.sce"
		   ]
		  },
  {
"cell_type": "code",
	   "execution_count": null,
	   "metadata": {
	    "collapsed": true
	   },
	   "outputs": [],
"source": [
"//To calculate the resistance\n",
"ni = 2.5*10^19;      //intrinsic carrier density, per m^3\n",
"mew_e = 0.39;      //electron mobility, m^2/Vs\n",
"mew_h = 0.19;      //hole mobility, m^2/Vs\n",
"e = 1.6*10^-19;\n",
"sigma_i = ni*e*(mew_e+mew_h);      //conductivity, ohm-1 m-1\n",
"w = 1;     //width, mm\n",
"w = w*10^-3;       //width, m\n",
"t = 1;     //thickness, mm\n",
"t = t*10^-3;     //thickness, m\n",
"A = w*t;      //area, m^2\n",
"l = 1;     //length, cm\n",
"l = l*10^-2;     //length, m\n",
"R = l/(sigma_i*A);      //resistivity, ohm m\n",
"printf('resistance of intrinsic Ge rod is %5.1f ohm',R);"
   ]
   }
,
{
		   "cell_type": "markdown",
		   "metadata": {},
		   "source": [
			"## Example 8.6: To_calculate_the_conductivity.sce"
		   ]
		  },
  {
"cell_type": "code",
	   "execution_count": null,
	   "metadata": {
	    "collapsed": true
	   },
	   "outputs": [],
"source": [
"//To calculate the conductivity\n",
"m = 9.109*10^-31;    //mass of electron, kg\n",
"k = 1.38*10^-23;     //boltzmann constant\n",
"pi = 22/7;        //value of pi\n",
"h = 6.626*10^-34;      //planck's constant\n",
"C = 2*(2*pi*m*k/h^2)^(3/2);\n",
"T = 300;     //temperature, K\n",
"e = 1.6*10^-19;\n",
"Eg = 1.1;    //energy gap, eV\n",
"mew_e = 0.48;      //electron mobility, m^2/Vs\n",
"mew_h = 0.013;     //hole mobility, m^2/Vs\n",
"ni = C*T^(3/2)*exp(-Eg*e/(2*k*T));      //intrinsic carrier density per m^3\n",
"sigma_i = ni*e*(mew_e+mew_h);      //conductivity, ohm-1 m-1\n",
"printf('conductivity is %f ohm-1 m-1',sigma_i);\n",
"\n",
"//answer given in the book is wrong"
   ]
   }
,
{
		   "cell_type": "markdown",
		   "metadata": {},
		   "source": [
			"## Example 8.7: To_calculate_the_intrinsic_carrier_density_and_conductivity.sce"
		   ]
		  },
  {
"cell_type": "code",
	   "execution_count": null,
	   "metadata": {
	    "collapsed": true
	   },
	   "outputs": [],
"source": [
"//To calculate the intrinsic carrier density and conductivity\n",
"m = 9.109*10^-31;    //mass of electron, kg\n",
"k = 1.38*10^-23;     //boltzmann constant\n",
"pi = 22/7;        //value of pi\n",
"h = 6.626*10^-34;      //planck's constant\n",
"T = 300;     //temperature, K\n",
"e = 1.6*10^-19;\n",
"Eg = 0.7;    //energy gap, eV\n",
"ni = 2*(2*pi*m*k*T/h^2)^(3/2)*exp(-Eg*e/(2*k*T));     //intrinsic carrier density per m^3\n",
"printf('intrinsic carrier density per m^3 is');\n",
"disp(ni);\n",
"mew_e = 0.4;      //electron mobility, m^2/Vs\n",
"mew_h = 0.2;     //hole mobility, m^2/Vs\n",
"sigma = ni*e*(mew_e+mew_h);      //conductivity, ohm-1 m-1\n",
"printf('conductivity is %5.2f ohm-1 m-1',sigma);\n",
"\n",
"//answer given in the book is wrong"
   ]
   }
,
{
		   "cell_type": "markdown",
		   "metadata": {},
		   "source": [
			"## Example 8.8: To_calculate_the_forbidden_energy_gap.sce"
		   ]
		  },
  {
"cell_type": "code",
	   "execution_count": null,
	   "metadata": {
	    "collapsed": true
	   },
	   "outputs": [],
"source": [
"//To calculate the forbidden energy gap\n",
"rho = 2.12;      //resistivity, ohm m\n",
"sigma = 1/rho;    //conductivity, ohm-1 m-1\n",
"e = 1.6*10^-19;\n",
"pi = 22/7;        //value of pi\n",
"m = 9.109*10^-31;    //mass of electron, kg\n",
"k = 1.38*10^-23;     //boltzmann constant\n",
"h = 6.626*10^-34;      //planck's constant\n",
"mew_e = 0.36;      //electron mobility, m^2/Vs\n",
"mew_h = 0.17;     //hole mobility, m^2/Vs\n",
"ni = sigma/(e*(mew_e+mew_h));       //intrinsic carrier density per m^3\n",
"C = 2*(2*pi*m*k/h^2)^(3/2);\n",
"T = 300;     //temperature, K\n",
"//let exp(Eg/(2*k*T)) be a\n",
"a = (C*T^(3/2))/ni;\n",
"//Eg/(2*k*T) = log(a) and Eg = 2*k*T*log(a)\n",
"Eg = 2*k*T*log(a)/e;      //forbidden energy gap, eV\n",
"printf('forbidden energy gap is %5.3f eV',Eg);\n",
"\n",
"//answer given in the book is wrong"
   ]
   }
,
{
		   "cell_type": "markdown",
		   "metadata": {},
		   "source": [
			"## Example 8.9: To_calculate_the_energy_band_gap.sce"
		   ]
		  },
  {
"cell_type": "code",
	   "execution_count": null,
	   "metadata": {
	    "collapsed": true
	   },
	   "outputs": [],
"source": [
"//To calculate the energy band gap\n",
"rho_2 = 4.5;      //resistivity at 20C\n",
"rho_1 = 2;        //resistivity at 32C\n",
"T1 = 20;      //temperature, C\n",
"T1 = T1+273;     //temp, K\n",
"T2 = 32;    //temp, C\n",
"T2 = T2+273;     //temp, K\n",
"k = 8.616*10^-5;\n",
"dy = log10(rho_2)-log10(rho_1);\n",
"dx = (1/T1)-(1/T2);\n",
"Eg = 2*k*dy/dx;       //energy band gap, eV\n",
"printf('energy band gap is %5.3f eV',Eg);\n",
"\n",
"//answer given in the book is wrong"
   ]
   }
],
"metadata": {
		  "kernelspec": {
		   "display_name": "Scilab",
		   "language": "scilab",
		   "name": "scilab"
		  },
		  "language_info": {
		   "file_extension": ".sce",
		   "help_links": [
			{
			 "text": "MetaKernel Magics",
			 "url": "https://github.com/calysto/metakernel/blob/master/metakernel/magics/README.md"
			}
		   ],
		   "mimetype": "text/x-octave",
		   "name": "scilab",
		   "version": "0.7.1"
		  }
		 },
		 "nbformat": 4,
		 "nbformat_minor": 0
}
