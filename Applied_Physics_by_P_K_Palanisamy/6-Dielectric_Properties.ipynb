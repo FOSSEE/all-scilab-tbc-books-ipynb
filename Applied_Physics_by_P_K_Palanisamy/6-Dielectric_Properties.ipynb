{
"cells": [
 {
		   "cell_type": "markdown",
	   "metadata": {},
	   "source": [
       "# Chapter 6: Dielectric Properties"
	   ]
	},
{
		   "cell_type": "markdown",
		   "metadata": {},
		   "source": [
			"## Example 6.1: To_calculate_the_energy_stored_in_the_condensor_and_polarizing_the_dielectric.sce"
		   ]
		  },
  {
"cell_type": "code",
	   "execution_count": null,
	   "metadata": {
	    "collapsed": true
	   },
	   "outputs": [],
"source": [
"//To calculate the energy stored in the condensor and polarizing the dielectric\n",
"C = 2;     //capacitance, micro-farad\n",
"C = C*10^-6;      //capacitance, farad\n",
"V = 1000;    //voltage applied, V\n",
"epsilon_r = 100;     //permitivity\n",
"W = (C*V^2)/2;      //energy stored in capacitor, J\n",
"printf('energy stored in capacitor is %d J',W);\n",
"C0 = C/epsilon_r;   //capacitance removing the dielectric\n",
"W0 = C0*V^2/2;      //energy stored without dielectric, J\n",
"E = 1-W0;       //energy stored in dielectric, J\n",
"printf('energy stored in the dielectric is %5.2f J',E);"
   ]
   }
,
{
		   "cell_type": "markdown",
		   "metadata": {},
		   "source": [
			"## Example 6.2: To_calculate_the_ratio_between_electronic_and_ionic_polarizability.sce"
		   ]
		  },
  {
"cell_type": "code",
	   "execution_count": null,
	   "metadata": {
	    "collapsed": true
	   },
	   "outputs": [],
"source": [
"//To calculate the ratio between electronic and ionic polarizability\n",
"epsilon_r = 4.94;\n",
"n_2 = 2.69;     //square of index of refraction\n",
"alpha_i = 0;    //at optical frequencies\n",
"//(epsilon_r-1)/(epsilon_r+2) = N*(alpha_e+alpha_i)/(3*epsilon0)\n",
"X = (epsilon_r-1)/(epsilon_r+2);\n",
"//epsilon_r = n^2. therefore (n^2-1)/(n^2+2) = N*alpha_e/(3*epsilon0)\n",
"Y = (n_2-1)/(n_2+2);\n",
"//N*(alpha_e+alpha_i)/N*alpha_e = X/Y\n",
"//let alpha = alpha_i/alpha_e\n",
"alphai_e = (X/Y)-1;     //ratio between electronic ionic and electronic polarizability\n",
"printf('ratio between electronic ionic and electronic polarizability is %5.4f',alphai_e);\n",
"alphae_i = 1/alphai_e;      //ratio between electronic and ionic polarizability\n",
"printf('ratio between electronic and ionic polarizability is %5.3f',alphae_i);"
   ]
   }
,
{
		   "cell_type": "markdown",
		   "metadata": {},
		   "source": [
			"## Example 6.3: To_calculate_the_difference_in_magnetic_potential_energy.sce"
		   ]
		  },
  {
"cell_type": "code",
	   "execution_count": null,
	   "metadata": {
	    "collapsed": true
	   },
	   "outputs": [],
"source": [
"//To calculate the difference in magnetic potential energy\n",
"epsilon_r = 2.56;\n",
"tan_delta = 0.7*10^-4;\n",
"f = 1;     //frequency, MHz\n",
"A = 8;     //area, cm^2\n",
"A = A*10^-4;      //area, m^2\n",
"d = 0.08;     //diameter, mm\n",
"d = d*10^-3;     //diameter, m\n",
"epsilon_rdash = epsilon_r*tan_delta;\n",
"epsilon0 = 8.85*10^-12;\n",
"omega = 2*%pi*10^6;\n",
"Rp = d/(omega*epsilon0*epsilon_rdash*A);      //parallel loss resistance, ohm\n",
"Rp = Rp*10^-6;      //parallel loss resistance, Mega ohm\n",
"Cp = A*epsilon0*epsilon_r/d;     //capacitance, farad\n",
"printf('parallel loss resistance is %5.3f ohm',Rp);\n",
"printf('capacitance in Farad is');\n",
"disp(Cp);"
   ]
   }
,
{
		   "cell_type": "markdown",
		   "metadata": {},
		   "source": [
			"## Example 6.4: To_calculate_the_dielectric_constant_of_material.sce"
		   ]
		  },
  {
"cell_type": "code",
	   "execution_count": null,
	   "metadata": {
	    "collapsed": true
	   },
	   "outputs": [],
"source": [
"//To calculate the dielectric constant of material\n",
"N = 3*10^28;     //density, atoms/m^3\n",
"alpha_e = 10^-40;    //electronic polarizability, Farad-m^2\n",
"epsilon0 = 8.854*10^-12;\n",
"epsilon_r = 1+(N*alpha_e/epsilon0);       //dielectric constant of material\n",
"printf('dielectric constant of material is %5.3f',epsilon_r); "
   ]
   }
,
{
		   "cell_type": "markdown",
		   "metadata": {},
		   "source": [
			"## Example 6.5: To_calculate_the_electronic_polarizability.sce"
		   ]
		  },
  {
"cell_type": "code",
	   "execution_count": null,
	   "metadata": {
	    "collapsed": true
	   },
	   "outputs": [],
"source": [
"//To calculate the electronic polarizability\n",
"epsilon0 = 8.854*10^-12;\n",
"epsilon_r = 1.0000684;      //dielectric constant\n",
"N = 2.7*10^25;     //density, atoms/m^3\n",
"alpha_e = epsilon0*(epsilon_r-1)/N;        //electronic polarizability, Fm^2\n",
"printf('electronic polarizability in Fm^2 is');\n",
"disp(alpha_e);"
   ]
   }
,
{
		   "cell_type": "markdown",
		   "metadata": {},
		   "source": [
			"## Example 6.6: To_calculate_the_capacitance_and_charge_on_plates.sce"
		   ]
		  },
  {
"cell_type": "code",
	   "execution_count": null,
	   "metadata": {
	    "collapsed": true
	   },
	   "outputs": [],
"source": [
"//To calculate the capacitance and charge on plates\n",
"epsilon0 = 8.85*10^-12;\n",
"V = 100;     //potential, V\n",
"A = 100;     //area, cm^2\n",
"A = A*10^-4;      //area, m^2\n",
"d = 1;    //plate seperation, cm\n",
"d = d*10^-2;    //plate seperation, m\n",
"C = epsilon0*A/d;     //capacitance, farad\n",
"printf('capacitance of capacitor in F is');\n",
"disp(C);\n",
"Q = C*V;     //charge on plates\n",
"printf('charge on plates in coulomb is');\n",
"disp(Q);"
   ]
   }
,
{
		   "cell_type": "markdown",
		   "metadata": {},
		   "source": [
			"## Example 6.7: To_calculate_the_electronic_polarizability.sce"
		   ]
		  },
  {
"cell_type": "code",
	   "execution_count": null,
	   "metadata": {
	    "collapsed": true
	   },
	   "outputs": [],
"source": [
"//To calculate the electronic polarizability\n",
"N = 6.02*10^26;     //avagadro number\n",
"d = 2050;      //density, kg/m^3\n",
"AW = 32;       //atomic weight of sulphur\n",
"n = N*d/AW;    //number of atoms/m^3\n",
"epsilon_r = 3.75;    //relative dielectric constant\n",
"epsilon0 = 8.55*10^-12;\n",
"alpha_e = ((epsilon_r-1)/(epsilon_r+2))*3*epsilon0/n;     //electronic polarizability, Fm^2 \n",
"printf('electronic polarizability in Fm^2 is');\n",
"disp(alpha_e);"
   ]
   }
,
{
		   "cell_type": "markdown",
		   "metadata": {},
		   "source": [
			"## Example 6.8: To_calculate_the_resultant_voltage_across_capacitors.sce"
		   ]
		  },
  {
"cell_type": "code",
	   "execution_count": null,
	   "metadata": {
	    "collapsed": true
	   },
	   "outputs": [],
"source": [
"//To calculate the resultant voltage across capacitors\n",
"Q = 2*10^-10;       //charge, coulomb\n",
"d = 4;     //plate seperation, mm\n",
"d = d*10^-3;      //plate seperation, m\n",
"epsilon_r = 3.5;    //dielectric constant\n",
"A = 650;     //area, mm^2\n",
"A = A*10^-6;     //area, m^2\n",
"epsilon0 = 8.85*10^-12;\n",
"V = Q*d/(epsilon0*epsilon_r*A);       //voltage across capacitors, V\n",
"printf('resultant voltage across capacitors is %5.2f V',V);"
   ]
   }
,
{
		   "cell_type": "markdown",
		   "metadata": {},
		   "source": [
			"## Example 6.9: To_calculate_the_dielectric_displacement.sce"
		   ]
		  },
  {
"cell_type": "code",
	   "execution_count": null,
	   "metadata": {
	    "collapsed": true
	   },
	   "outputs": [],
"source": [
"//To calculate the dielectric displacement\n",
"V = 10;      //potential, V\n",
"d = 2*10^-3;      //plate seperation, m\n",
"E = V/d;     //electric field, V/m\n",
"epsilon_r = 6;\n",
"epsilon0 = 8.85*10^-12;\n",
"D = epsilon0*epsilon_r*E;       //dielectric displacement, C/m^2\n",
"printf('dielectric displacement in C/m^2 is');\n",
"disp(D);"
   ]
   }
],
"metadata": {
		  "kernelspec": {
		   "display_name": "Scilab",
		   "language": "scilab",
		   "name": "scilab"
		  },
		  "language_info": {
		   "file_extension": ".sce",
		   "help_links": [
			{
			 "text": "MetaKernel Magics",
			 "url": "https://github.com/calysto/metakernel/blob/master/metakernel/magics/README.md"
			}
		   ],
		   "mimetype": "text/x-octave",
		   "name": "scilab",
		   "version": "0.7.1"
		  }
		 },
		 "nbformat": 4,
		 "nbformat_minor": 0
}
