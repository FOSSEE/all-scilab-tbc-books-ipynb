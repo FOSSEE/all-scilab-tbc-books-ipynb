{
"cells": [
 {
		   "cell_type": "markdown",
	   "metadata": {},
	   "source": [
       "# Chapter 4: Electron Theory of Metals"
	   ]
	},
{
		   "cell_type": "markdown",
		   "metadata": {},
		   "source": [
			"## Example 4.1: To_calculate_the_density_and_mobility_of_electrons.sce"
		   ]
		  },
  {
"cell_type": "code",
	   "execution_count": null,
	   "metadata": {
	    "collapsed": true
	   },
	   "outputs": [],
"source": [
"//To calculate the density and mobility of electrons\n",
"rho_s = 10.5*10^3;    //density of silver, kg/m^3\n",
"NA = 6.02*10^26;     //avagadro number, /k-mol\n",
"MA = 107.9;     //atomic weight of silver\n",
"n = rho_s*NA/MA;      //molar volume of silver\n",
"printf('density of electrons in silver is');\n",
"disp(n);\n",
"sigma = 6.8*10^7;     //conductivity of silver, ohm-1 m-1\n",
"e = 1.6*10^-19;\n",
"mew = sigma/(n*e);     //mobility of electrons, m^2/Vs\n",
"printf('mobility of electrons is %5.5f m^2/Vs',mew);\n",
""
   ]
   }
,
{
		   "cell_type": "markdown",
		   "metadata": {},
		   "source": [
			"## Example 4.2: To_calculate_the_mobility_of_electrons.sce"
		   ]
		  },
  {
"cell_type": "code",
	   "execution_count": null,
	   "metadata": {
	    "collapsed": true
	   },
	   "outputs": [],
"source": [
"//To calculate the mobility of electrons\n",
"d = 8.92*10^3;      //density, kg/m^3\n",
"e = 1.6*10^-19;\n",
"m = 9.1*10^-31;      //mass of electron, kg\n",
"N = 6.02*10^26;      //avagadro's number per k-mol\n",
"AW = 63.5;     //atomic weight\n",
"rho = 1.73*10^-8;     //resistivity of copper, ohm-m\n",
"n = d*N/AW;       //number of cu atoms/m^3\n",
"mew = 1/(rho*n*e);      //mobility of electrons, m/Vs\n",
"printf('mobility of electrons is %f m/Vs',mew);\n",
"tow = m/(n*e^2*rho);    //relaxation time, s\n",
"printf('relaxation time in sec is');\n",
"disp(tow);"
   ]
   }
,
{
		   "cell_type": "markdown",
		   "metadata": {},
		   "source": [
			"## Example 4.3: To_calculate_the_relaxation_time.sce"
		   ]
		  },
  {
"cell_type": "code",
	   "execution_count": null,
	   "metadata": {
	    "collapsed": true
	   },
	   "outputs": [],
"source": [
"//To calculate the relaxation time\n",
"rho = 1.54*10^-8;      //resistivity, ohm-m\n",
"n = 5.8*10^28;      //conduction electrons per m^3\n",
"m = 9.108*10^-31;    //mass of electron, kg\n",
"e = 1.602*10^-19;\n",
"tow = m/(n*e^2*rho);    //relaxation time, sec\n",
"printf('relaxation time of conduction electrons in sec is');\n",
"disp(tow);"
   ]
   }
,
{
		   "cell_type": "markdown",
		   "metadata": {},
		   "source": [
			"## Example 4.4: To_calculate_the_free_electron_concentration_mobility_and_drift_velocity.sce"
		   ]
		  },
  {
"cell_type": "code",
	   "execution_count": null,
	   "metadata": {
	    "collapsed": true
	   },
	   "outputs": [],
"source": [
"//To calculate the free electron concentration, mobility and drift velocity\n",
"R = 0.06;      //resistance, ohm\n",
"D = 5;      //length of Al wire, m\n",
"e = 1.602*10^-19;\n",
"rho = 2.7*10^-8;     //resistivity of Al, ohm-m\n",
"MA = 26.98;     //atomic weight\n",
"NA = 6.025*10^26;     //avagadro number, k/mol\n",
"rho_s = 2.7*10^3;     //density, kg/m^3\n",
"n = 3*rho_s*NA/MA;     //free electron concentration, electrons/m^3\n",
"printf('free electron concentration in electrons/m^3 is');\n",
"disp(n);\n",
"mew = 1/(n*e*rho);     //mobility, m/Vs\n",
"printf('mobility is %f m/Vs',mew);\n",
"I = 15;     //current, A\n",
"E = I*R/D;      //electric field, V/m\n",
"vd = mew*E;     //drift velocity, m/s\n",
"printf('drift velocity is %f m/s',vd);"
   ]
   }
,
{
		   "cell_type": "markdown",
		   "metadata": {},
		   "source": [
			"## Example 4.5: To_calculate_the_lowest_energy_of_an_electron.sce"
		   ]
		  },
  {
"cell_type": "code",
	   "execution_count": null,
	   "metadata": {
	    "collapsed": true
	   },
	   "outputs": [],
"source": [
"//To calculate the lowest energy of an electron\n",
"n1 = 1;\n",
"n2 = 1;\n",
"n3 = 1;      //for lowest energy\n",
"h = 6.62*10^-34;     //planck's constant, Js\n",
"e = 1.6*10^-19;\n",
"m = 9.1*10^-31;      //mass of electron, kg\n",
"L = 0.1;     //side of box, nm\n",
"L = L*10^-9;    //side of box, m\n",
"E1 = h^2*(n1^2+n2^2+n3^2)/(8*m*L^2);      //lowest energy, J\n",
"E1 = E1/e;        //lowest energy, eV\n",
"printf('lowest energy of electron is %5.1f eV',E1);"
   ]
   }
,
{
		   "cell_type": "markdown",
		   "metadata": {},
		   "source": [
			"## Example 4.6: To_evaluate_the_fermi_function.sce"
		   ]
		  },
  {
"cell_type": "code",
	   "execution_count": null,
	   "metadata": {
	    "collapsed": true
	   },
	   "outputs": [],
"source": [
"//To evaluate the fermi function\n",
"//Fermi function F(E) = 1/(1+exp((E-Ef)/(kT)))\n",
"//given E-Ef = kT. therefore F(E) = 1/(1+exp(1))\n",
"F_E = 1/(1+exp(1));\n",
"printf('fermi function is %5.3f',F_E);"
   ]
   }
,
{
		   "cell_type": "markdown",
		   "metadata": {},
		   "source": [
			"## Example 4.7: To_calculate_the_temperature.sce"
		   ]
		  },
  {
"cell_type": "code",
	   "execution_count": null,
	   "metadata": {
	    "collapsed": true
	   },
	   "outputs": [],
"source": [
"\n",
"//To calculate the temperature\n",
"F_E = 10;      //probability in percent\n",
"k = 1.38*10^-23;\n",
"e = 1.6*10^-19;    //conversion factor\n",
"EF = 5.5;      //fermi energy, eV\n",
"E = EF+(EF/100);     //energy, eV\n",
"X = E-EF;     //E-EF, eV\n",
"X = X*e;      //E-EF, J\n",
"T = X/(k*log(F_E-1));      //temperature, K\n",
"printf('temperature is %5.1f K',T);"
   ]
   }
,
{
		   "cell_type": "markdown",
		   "metadata": {},
		   "source": [
			"## Example 4.8: To_calculate_the_temperature.sce"
		   ]
		  },
  {
"cell_type": "code",
	   "execution_count": null,
	   "metadata": {
	    "collapsed": true
	   },
	   "outputs": [],
"source": [
"//To calculate the temperature\n",
"F_E = 0.01;      //probability in percent\n",
"k = 1.38*10^-23;\n",
"e = 1.6*10^-19;\n",
"//let E-EF be X\n",
"X = 0.5;      //E-EF, eV\n",
"kT = X/(2.303*log10((1-F_E)*100));    //value of kT, eV\n",
"T = kT*e/k;        //temperature, K\n",
"printf('temperature is %d K',T);\n",
"\n",
"//answer given in the book is wrong"
   ]
   }
],
"metadata": {
		  "kernelspec": {
		   "display_name": "Scilab",
		   "language": "scilab",
		   "name": "scilab"
		  },
		  "language_info": {
		   "file_extension": ".sce",
		   "help_links": [
			{
			 "text": "MetaKernel Magics",
			 "url": "https://github.com/calysto/metakernel/blob/master/metakernel/magics/README.md"
			}
		   ],
		   "mimetype": "text/x-octave",
		   "name": "scilab",
		   "version": "0.7.1"
		  }
		 },
		 "nbformat": 4,
		 "nbformat_minor": 0
}
