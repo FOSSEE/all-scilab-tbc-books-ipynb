{
"cells": [
 {
		   "cell_type": "markdown",
	   "metadata": {},
	   "source": [
       "# Chapter 1: Bonding in Solids"
	   ]
	},
{
		   "cell_type": "markdown",
		   "metadata": {},
		   "source": [
			"## Example 1.1: To_determine_whether_the_gaseous_molecule_is_stable.sce"
		   ]
		  },
  {
"cell_type": "code",
	   "execution_count": null,
	   "metadata": {
	    "collapsed": true
	   },
	   "outputs": [],
"source": [
"//To determine whether the gaseous molecule is stable\n",
"IE_1 = 502;     //first ionisation energy, kJ/mol\n",
"EA_B = -335;    //electron affinity for B atom, kJ/mol\n",
"e = 1.602*10^-19;\n",
"r = 0.3;      //inter ionic seperation, nm\n",
"r = r*10^-9;      //inter ionic seperation, m\n",
"N = 6.022*10^23*10^-3;\n",
"epsilon0 = 8.85*10^-12;      //permittivity of free space, C/N-m\n",
"E = (-e^2*N)/(4*%pi*epsilon0*r);      //electrostatic attraction energy, kJ/mol\n",
"printf('electrostatic attraction energy is %d kJ/mol',E);\n",
"dE = IE_1+EA_B+E;     //net change in energy per mole\n",
"printf('net change in energy is %d kJ/mol',dE);\n",
"printf('since the net change in energy is negative, A+B- molecule will be stable');\n",
"\n",
"//answer for net change, dE given in the book is wrong"
   ]
   }
,
{
		   "cell_type": "markdown",
		   "metadata": {},
		   "source": [
			"## Example 1.2: To_calculate_the_energy_required_and_seperation_between_ion_pair.sce"
		   ]
		  },
  {
"cell_type": "code",
	   "execution_count": null,
	   "metadata": {
	    "collapsed": true
	   },
	   "outputs": [],
"source": [
"//To calculate the energy required and seperation between ion pair\n",
"IP_K = 4.1;     //IP of K, eV\n",
"EA_Cl = 3.6;     //EA of Cl, eV\n",
"e = 1.602*10^-19;\n",
"epsilon0 = 8.85*10^-12; \n",
"delta_E = IP_K - EA_Cl;      //energy required, eV\n",
"printf('energy required to form K+Cl- ion pair is %f eV',delta_E);\n",
"//if their total energy is 0, delta_E = Ec\n",
"Ec = delta_E;\n",
"R = e/(4*%pi*epsilon0*Ec);      //seperation between ion pair, m\n",
"R = R*10^9;          //seperation between ion pair, nm\n",
"printf('seperation between ion pair is %5.2f nm',R);"
   ]
   }
,
{
		   "cell_type": "markdown",
		   "metadata": {},
		   "source": [
			"## Example 1.3: To_calculate_the_bond_energy_for_NaCl_molecule.sce"
		   ]
		  },
  {
"cell_type": "code",
	   "execution_count": null,
	   "metadata": {
	    "collapsed": true
	   },
	   "outputs": [],
"source": [
"//To calculate the bond energy for NaCl molecule\n",
"e = 1.602*10^-19;\n",
"EA = 3.65;     //electron affinity of Cl, eV\n",
"IP = 5.14;      //ionisation energy of Na, eV\n",
"epsilon0 = 8.85*10^-12;\n",
"r0 = 236;      //equilibrium distance, pm\n",
"r0 = r0*10^-12;     //equilibrium distance, m\n",
"V = (-e^2)/(4*%pi*epsilon0*r0);       //potential energy, J\n",
"V = V/e;       //potential energy, eV\n",
"Ue = V;\n",
"BE = -Ue - IP + EA;       //bond energy, eV\n",
"printf('bond energy for NaCl molecule is %5.2f eV',BE);"
   ]
   }
,
{
		   "cell_type": "markdown",
		   "metadata": {},
		   "source": [
			"## Example 1.4: To_calculate_the_cohesive_energy_of_NaCl.sce"
		   ]
		  },
  {
"cell_type": "code",
	   "execution_count": null,
	   "metadata": {
	    "collapsed": true
	   },
	   "outputs": [],
"source": [
"//To calculate the cohesive energy of NaCl\n",
"e = 1.602*10^-19;\n",
"epsilon0 = 8.85*10^-12;\n",
"r0 = 0.281;     //equilibrium seperation, nm\n",
"r0 = r0*10^-9;     //equilibrium seperation, m\n",
"A = 1.748;     //Madelung constant\n",
"n = 9;    //born repulsive exponent\n",
"CE = (A*e^2)*(1-(1/n))/(4*%pi*epsilon0*r0);    //cohesive energy, J\n",
"CE = CE/e;       //cohesive energy, eV\n",
"printf('cohesive energy of NaCl is %5.3f eV',CE);"
   ]
   }
],
"metadata": {
		  "kernelspec": {
		   "display_name": "Scilab",
		   "language": "scilab",
		   "name": "scilab"
		  },
		  "language_info": {
		   "file_extension": ".sce",
		   "help_links": [
			{
			 "text": "MetaKernel Magics",
			 "url": "https://github.com/calysto/metakernel/blob/master/metakernel/magics/README.md"
			}
		   ],
		   "mimetype": "text/x-octave",
		   "name": "scilab",
		   "version": "0.7.1"
		  }
		 },
		 "nbformat": 4,
		 "nbformat_minor": 0
}
