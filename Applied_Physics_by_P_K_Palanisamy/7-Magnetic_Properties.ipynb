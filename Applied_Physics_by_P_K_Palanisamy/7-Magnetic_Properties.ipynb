{
"cells": [
 {
		   "cell_type": "markdown",
	   "metadata": {},
	   "source": [
       "# Chapter 7: Magnetic Properties"
	   ]
	},
{
		   "cell_type": "markdown",
		   "metadata": {},
		   "source": [
			"## Example 7.10: To_calculate_the_magnetic_moment_and_saturation_magnetisation.sce"
		   ]
		  },
  {
"cell_type": "code",
	   "execution_count": null,
	   "metadata": {
	    "collapsed": true
	   },
	   "outputs": [],
"source": [
"//To calculate the magnetic moment and saturation magnetisation\n",
"AW = 157.26;      //atomic weight\n",
"d = 7.8*10^3;     //density, kg/m^3\n",
"A = 6.025*10^26;     //avagadro number\n",
"mew0 = 4*%pi*10^-7;\n",
"N = d*A/AW;      //number of atoms 1 kg contains\n",
"g = N/10^3;      //number of atoms 1 g contains\n",
"mew_B = 7.1;     //bohr magneton\n",
"mew_m = 9.27*10^-24;\n",
"mew_mg = g*mew_B*mew_m;     //magnetic moment per gram, Am^2\n",
"printf('magnetic moment per gram is %5.2f Am^2',mew_mg);\n",
"Bs = N*mew0*mew_m;      //saturation magnetisation, Wb/m^2\n",
"printf('saturation magnetisation is %5.4f Wb/m^2',Bs);\n",
"\n",
"//answer for saturation magnetisation given in the book is wrong"
   ]
   }
,
{
		   "cell_type": "markdown",
		   "metadata": {},
		   "source": [
			"## Example 7.1: To_calculate_the_relative_permeability.sce"
		   ]
		  },
  {
"cell_type": "code",
	   "execution_count": null,
	   "metadata": {
	    "collapsed": true
	   },
	   "outputs": [],
"source": [
"//To calculate the relative permeability\n",
"M = 1.4;      //field, T\n",
"H = 6.5*10^-4;      //magnetic field, T\n",
"chi = M/H;      //susceptibility\n",
"mew_r = 1+chi;       //relative permeability\n",
"printf('relative permeability of iron is %d',mew_r);\n",
"\n",
"//answer given in the book is wrong"
   ]
   }
,
{
		   "cell_type": "markdown",
		   "metadata": {},
		   "source": [
			"## Example 7.2: To_calculate_the_relative_permeability_of_material.sce"
		   ]
		  },
  {
"cell_type": "code",
	   "execution_count": null,
	   "metadata": {
	    "collapsed": true
	   },
	   "outputs": [],
"source": [
"//To calculate the relative permeability of material\n",
"M = 3300;     //magnetisation, amp/m\n",
"H = 220;      //field strength, amp/m\n",
"mew_r = (M/H)+1;      //relative permeability\n",
"printf('relative permeability of material is %d',mew_r);"
   ]
   }
,
{
		   "cell_type": "markdown",
		   "metadata": {},
		   "source": [
			"## Example 7.3: To_calculate_the_magnetisation_and_flux_density.sce"
		   ]
		  },
  {
"cell_type": "code",
	   "execution_count": null,
	   "metadata": {
	    "collapsed": true
	   },
	   "outputs": [],
"source": [
"//To calculate the magnetisation and flux density\n",
"H = 10^6;      //magnetic field intensity, amp/m\n",
"chi = 1.5*10^-3;     //susceptibility\n",
"mew0 = 4*%pi*10^-7;\n",
"M = chi*H;      //magnetisation, A/m\n",
"printf('magnetisation of material is %d A/m',M);\n",
"B = mew0*(M+H);      //flux density, T\n",
"printf('flux density is %5.4f T',B);\n",
"\n",
"//answer given in the book is wrong"
   ]
   }
,
{
		   "cell_type": "markdown",
		   "metadata": {},
		   "source": [
			"## Example 7.4: To_calculate_the_magnetisation_and_flux_density.sce"
		   ]
		  },
  {
"cell_type": "code",
	   "execution_count": null,
	   "metadata": {
	    "collapsed": true
	   },
	   "outputs": [],
"source": [
"//To calculate the magnetisation and flux density\n",
"H = 10^4;      //magnetic field intensity, amp/m\n",
"chi = 3.7*10^-3;     //susceptibility\n",
"mew0 = 4*%pi*10^-7;\n",
"M = chi*H;      //magnetisation, A/m\n",
"printf('magnetisation of material is %d A/m',M);\n",
"B = mew0*(M+H);      //flux density, Wb/m^2\n",
"printf('flux density is %5.4f Wb/m^2',B);"
   ]
   }
,
{
		   "cell_type": "markdown",
		   "metadata": {},
		   "source": [
			"## Example 7.5: To_calculate_the_magnetic_moment.sce"
		   ]
		  },
  {
"cell_type": "code",
	   "execution_count": null,
	   "metadata": {
	    "collapsed": true
	   },
	   "outputs": [],
"source": [
"//To calculate the magnetic moment\n",
"I = 500;     //current, mA\n",
"I = I*10^-3;     //current, A\n",
"d = 10;     //diameter, cm\n",
"r = d/2;     //radius, cm\n",
"r = r*10^-2;    //radius, m\n",
"A = 2*%pi*r^2;   //area, m^2\n",
"mew_m = I*A;     //magnetic moment, Am^2\n",
"printf('magnetic moment associated with the loop is %f Am^2',mew_m);"
   ]
   }
,
{
		   "cell_type": "markdown",
		   "metadata": {},
		   "source": [
			"## Example 7.6: To_calculate_the_change_in_magnetic_moment.sce"
		   ]
		  },
  {
"cell_type": "code",
	   "execution_count": null,
	   "metadata": {
	    "collapsed": true
	   },
	   "outputs": [],
"source": [
"//To calculate the change in magnetic moment\n",
"r = 5.29*10^-11;    //radius of orbit, m\n",
"B = 2;     //field applied, T\n",
"e = 1.602*10^-19;     //charge of electron, coulomb\n",
"m = 9.108*10^-31;    //mass of electron, kg\n",
"mew_ind = e^2*r^2*B/(4*m);      //change in magnetic moment\n",
"printf('change in magnetic moment in Am^2 is');\n",
"disp(mew_ind);"
   ]
   }
,
{
		   "cell_type": "markdown",
		   "metadata": {},
		   "source": [
			"## Example 7.7: To_calculate_the_susceptibility.sce"
		   ]
		  },
  {
"cell_type": "code",
	   "execution_count": null,
	   "metadata": {
	    "collapsed": true
	   },
	   "outputs": [],
"source": [
"//To calculate the susceptibility\n",
"chi_1 = 2.8*10^-4;     //susceptibility\n",
"T1 = 350;      //temperature, K\n",
"T2 = 300;      //temperature, K\n",
"//chi = C/T where C is curie constant\n",
"chi_2 = chi_1*T1/T2;     //susceptibility at 300 K\n",
"printf('susceptibility at 300 K is %f',chi_2);"
   ]
   }
,
{
		   "cell_type": "markdown",
		   "metadata": {},
		   "source": [
			"## Example 7.8: To_calculate_the_magnetic_moment.sce"
		   ]
		  },
  {
"cell_type": "code",
	   "execution_count": null,
	   "metadata": {
	    "collapsed": true
	   },
	   "outputs": [],
"source": [
"//To calculate the magnetic moment\n",
"d = 8906;     //density, kg/m^3\n",
"n = 6.025*10^26;     //avagadro number\n",
"AW = 58.7;     //atomic weight\n",
"N = d*n/AW;     //number of atoms/m^3\n",
"Bs = 0.65;     //magnetic induction, Wb/m^2\n",
"mew0 = 4*%pi*10^-7;\n",
"mew_m = Bs/(N*mew0);      //magnetic moment, Am^2\n",
"mewB = 9.27*10^-24;      \n",
"mew_m = mew_m/mewB;       //magnetic moment, mewB\n",
"printf('the magnetic moment of Ni is %5.2f mewB',mew_m);"
   ]
   }
,
{
		   "cell_type": "markdown",
		   "metadata": {},
		   "source": [
			"## Example 7.9: To_calculate_the_temperature.sce"
		   ]
		  },
  {
"cell_type": "code",
	   "execution_count": null,
	   "metadata": {
	    "collapsed": true
	   },
	   "outputs": [],
"source": [
"//To calculate the temperature\n",
"H = 2;     //magnetic field, Wb/m^2\n",
"mew = 9.4*10^-24;\n",
"k = 1.38*10^-23;\n",
"//np = C*n0*exp(mew*H/(k*T))\n",
"//na = C*n0*exp(-mew*H/(k*T))\n",
"// np/na = exp(mew*H/(k*T))/exp(-mew*H/(k*T)) = exp(2*mew*H/(k*T))\n",
"//given np/na = 2. therefore exp(2*mew*H/(k*T)) = 2\n",
"T = 2*mew*H/(k*log(2));    //temperature, K\n",
"printf('temperature is %5.1f K',T);"
   ]
   }
],
"metadata": {
		  "kernelspec": {
		   "display_name": "Scilab",
		   "language": "scilab",
		   "name": "scilab"
		  },
		  "language_info": {
		   "file_extension": ".sce",
		   "help_links": [
			{
			 "text": "MetaKernel Magics",
			 "url": "https://github.com/calysto/metakernel/blob/master/metakernel/magics/README.md"
			}
		   ],
		   "mimetype": "text/x-octave",
		   "name": "scilab",
		   "version": "0.7.1"
		  }
		 },
		 "nbformat": 4,
		 "nbformat_minor": 0
}
