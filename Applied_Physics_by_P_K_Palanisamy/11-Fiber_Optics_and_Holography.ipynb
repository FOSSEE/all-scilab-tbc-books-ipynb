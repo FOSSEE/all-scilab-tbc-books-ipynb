{
"cells": [
 {
		   "cell_type": "markdown",
	   "metadata": {},
	   "source": [
       "# Chapter 11: Fiber Optics and Holography"
	   ]
	},
{
		   "cell_type": "markdown",
		   "metadata": {},
		   "source": [
			"## Example 11.1: To_calculate_the_numerical_aperture.sce"
		   ]
		  },
  {
"cell_type": "code",
	   "execution_count": null,
	   "metadata": {
	    "collapsed": true
	   },
	   "outputs": [],
"source": [
"//To calculate the numerical aperture\n",
"n1 = 1.55;    //refractive index of core\n",
"n2 = 1.50;    //refractive index of cladding\n",
"NA = sqrt(n1^2 - n2^2);\n",
"printf('numerical aperture is %5.3f',NA);"
   ]
   }
,
{
		   "cell_type": "markdown",
		   "metadata": {},
		   "source": [
			"## Example 11.2: To_calculate_the_angle_of_acceptance.sce"
		   ]
		  },
  {
"cell_type": "code",
	   "execution_count": null,
	   "metadata": {
	    "collapsed": true
	   },
	   "outputs": [],
"source": [
"//To calculate the angle of acceptance\n",
"n1 = 1.563;    //refractive index of core\n",
"n2 = 1.498;    //refractive index of cladding\n",
"NA = sqrt(n1^2 - n2^2);      //numerical aperture \n",
"alpha_i = asind(NA);        //angle of acceptance, degrees\n",
"deg = int(alpha_i);       //angle in degrees\n",
"t = 60*(alpha_i-deg);\n",
"mint = int(t);       //angle in minutes\n",
"printf('the angle of acceptance is %d degrees %d minutes',deg,mint);\n",
"\n",
"//answer given in the book is wrong"
   ]
   }
,
{
		   "cell_type": "markdown",
		   "metadata": {},
		   "source": [
			"## Example 11.3: To_calculate_the_refractive_index_of_the_core.sce"
		   ]
		  },
  {
"cell_type": "code",
	   "execution_count": null,
	   "metadata": {
	    "collapsed": true
	   },
	   "outputs": [],
"source": [
"//To calculate the refractive index of the core\n",
"delta = 0.05;     //difference in refractive indices of core and cladding\n",
"NA = 0.39;    //numerical aperture\n",
"n1 = NA/sqrt(2*delta);     //refractive index of core\n",
"printf('refractive index of the core is %5.4f',n1);"
   ]
   }
,
{
		   "cell_type": "markdown",
		   "metadata": {},
		   "source": [
			"## Example 11.4: To_calculate_the_fractional_index_change.sce"
		   ]
		  },
  {
"cell_type": "code",
	   "execution_count": null,
	   "metadata": {
	    "collapsed": true
	   },
	   "outputs": [],
"source": [
"//To calculate the fractional index change\n",
"n1 = 1.563;    //refractive index of core\n",
"n2 = 1.498;    //refractive index of cladding\n",
"delta = (n1-n2)/n1;      //fractional index change\n",
"printf('fractional index change is %5.4f',delta);"
   ]
   }
,
{
		   "cell_type": "markdown",
		   "metadata": {},
		   "source": [
			"## Example 11.5: To_calculate_the_numerical_aperture_and_acceptance_angle.sce"
		   ]
		  },
  {
"cell_type": "code",
	   "execution_count": null,
	   "metadata": {
	    "collapsed": true
	   },
	   "outputs": [],
"source": [
"//To calculate the numerical aperture and acceptance angle\n",
"n1 = 1.48;    //refractive index of core\n",
"n2 = 1.45;    //refractive index of cladding\n",
"NA = sqrt(n1^2 - n2^2);     //numerical aperture \n",
"printf('numerical aperture is %5.4f',NA);\n",
"alpha_i = asind(NA);      //angle of acceptance, degrees\n",
"deg = int(alpha_i);       //angle in degrees\n",
"t = 60*(alpha_i-deg);\n",
"mint = int(t);       //angle in minutes\n",
"printf('the angle of acceptance is %d degrees %d minutes',deg,mint);\n",
"\n",
"//answer given in the book is wrong"
   ]
   }
],
"metadata": {
		  "kernelspec": {
		   "display_name": "Scilab",
		   "language": "scilab",
		   "name": "scilab"
		  },
		  "language_info": {
		   "file_extension": ".sce",
		   "help_links": [
			{
			 "text": "MetaKernel Magics",
			 "url": "https://github.com/calysto/metakernel/blob/master/metakernel/magics/README.md"
			}
		   ],
		   "mimetype": "text/x-octave",
		   "name": "scilab",
		   "version": "0.7.1"
		  }
		 },
		 "nbformat": 4,
		 "nbformat_minor": 0
}
