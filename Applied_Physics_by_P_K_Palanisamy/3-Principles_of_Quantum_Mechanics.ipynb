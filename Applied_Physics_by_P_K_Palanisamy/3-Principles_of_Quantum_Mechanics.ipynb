{
"cells": [
 {
		   "cell_type": "markdown",
	   "metadata": {},
	   "source": [
       "# Chapter 3: Principles of Quantum Mechanics"
	   ]
	},
{
		   "cell_type": "markdown",
		   "metadata": {},
		   "source": [
			"## Example 3.10: To_calculate_the_energy_values.sce"
		   ]
		  },
  {
"cell_type": "code",
	   "execution_count": null,
	   "metadata": {
	    "collapsed": true
	   },
	   "outputs": [],
"source": [
"//To calculate the energy values\n",
"n1 = 1;     //for ground state\n",
"n2 = 2;     //for 1st excited state\n",
"n3 = 3;     //for 2nd excited state\n",
"h = 6.626*10^-34;      //planck's constant, J sec\n",
"m = 9.1*10^-31;      //mass of electron, kg\n",
"L = 1*10^-10;     //width, m\n",
"E1 = h^2*n1^2/(8*m*L^2);      //energy in ground state, J\n",
"E2 = n2^2*E1;       //energy in 1st excited state, J\n",
"E3 = n3^2*E1;       //energy in 2nd excited state, J\n",
"printf('energy in ground state in J is');\n",
"disp(E1);\n",
"printf('energy in 1st excited state in J is');\n",
"disp(E2);\n",
"printf('energy in 2nd excited state in J is');\n",
"disp(E3);"
   ]
   }
,
{
		   "cell_type": "markdown",
		   "metadata": {},
		   "source": [
			"## Example 3.11: To_calculate_the_velocity_and_kinetic_energy_of_electron.sce"
		   ]
		  },
  {
"cell_type": "code",
	   "execution_count": null,
	   "metadata": {
	    "collapsed": true
	   },
	   "outputs": [],
"source": [
"//To calculate the velocity and kinetic energy of electron\n",
"h = 6.626*10^-34;      //planck's constant, J sec\n",
"m = 9.1*10^-31;      //mass of electron, kg\n",
"e = 1.6*10^-19;\n",
"lamda = 1.66*10^-10;     //wavelength, m\n",
"v = h/(m*lamda);      //velocity of electron, m/sec\n",
"v_km = v*10^-3;      //velocity of electron, km/sec\n",
"printf('velocity of electron is %d km/sec',v_km);\n",
"KE = (1/2)*m*v^2;    //kinetic energy, J\n",
"KE_eV = KE/e;        //kinetic energy, eV\n",
"printf('kinetic energy of electron is %5.2f eV',KE_eV);"
   ]
   }
,
{
		   "cell_type": "markdown",
		   "metadata": {},
		   "source": [
			"## Example 3.12: To_calculate_the_wavelength.sce"
		   ]
		  },
  {
"cell_type": "code",
	   "execution_count": null,
	   "metadata": {
	    "collapsed": true
	   },
	   "outputs": [],
"source": [
"//To calculate the wavelength\n",
"V = 15;      //potential, kV\n",
"V = V*10^3;     //potential, V  \n",
"lamda = 12.26/sqrt(V);      //de Broglie wavelength, armstrong\n",
"printf('wavelength of electron waves is %5.1f armstrong',lamda);"
   ]
   }
,
{
		   "cell_type": "markdown",
		   "metadata": {},
		   "source": [
			"## Example 3.13: To_calculate_the_spacing_of_crystal.sce"
		   ]
		  },
  {
"cell_type": "code",
	   "execution_count": null,
	   "metadata": {
	    "collapsed": true
	   },
	   "outputs": [],
"source": [
"//To calculate the spacing of crystal\n",
"V = 344;      //potential, V\n",
"lamda = 12.26/sqrt(V);      //de Broglie wavelength, armstrong\n",
"lamda_m = lamda*10^-10;     //de Broglie wavelength, m\n",
"n = 1;     //for 1st reflection maximum\n",
"theta = 60;     //glancing angle, degrees\n",
"d = n*lamda_m/(2*sind(theta));      //interatomic spacing, m\n",
"d = d*10^10;       //interatomic spacing, armstrong\n",
"printf('interatomic spacing of crystal is %5.4f armstrong',d); "
   ]
   }
,
{
		   "cell_type": "markdown",
		   "metadata": {},
		   "source": [
			"## Example 3.1: To_calculate_the_de_Broglie_wavelength.sce"
		   ]
		  },
  {
"cell_type": "code",
	   "execution_count": null,
	   "metadata": {
	    "collapsed": true
	   },
	   "outputs": [],
"source": [
"//To calculate the de Broglie wavelength\n",
"c = 3*10^8;     //velocity of light, m/sec\n",
"v = (1/10)*c;      //velocity of proton, m/sec\n",
"m = 1.67*10^-27;     //mass of proton, kg\n",
"h = 6.626*10^-34;    //planck's constant\n",
"lamda = h/(m*v);     //de Broglie wavelength, m\n",
"printf('de Broglie wavelength of proton in m is');\n",
"disp(lamda);"
   ]
   }
,
{
		   "cell_type": "markdown",
		   "metadata": {},
		   "source": [
			"## Example 3.2: To_calculate_the_de_Broglie_wavelength.sce"
		   ]
		  },
  {
"cell_type": "code",
	   "execution_count": null,
	   "metadata": {
	    "collapsed": true
	   },
	   "outputs": [],
"source": [
"//To calculate the de Broglie wavelength\n",
"V = 400;      //potential, V\n",
"lamda = 12.26/sqrt(V);      //de Broglie wavelength, armstrong\n",
"printf('de Broglie wavelength of electron is %5.3f armstrong',lamda);"
   ]
   }
,
{
		   "cell_type": "markdown",
		   "metadata": {},
		   "source": [
			"## Example 3.3: To_calculate_the_de_Broglie_wavelength.sce"
		   ]
		  },
  {
"cell_type": "code",
	   "execution_count": null,
	   "metadata": {
	    "collapsed": true
	   },
	   "outputs": [],
"source": [
"//To calculate the de Broglie wavelength\n",
"m = 1.674*10^-27;     //mass of neutron, kg\n",
"h = 6.626*10^-34;    //planck's constant\n",
"e = 1.6*10^-19;\n",
"KE = 0.025;     //kinetic energy, eV\n",
"E = KE*e;     //kinetic energy, J\n",
"lamda = h/sqrt(2*m*E);      //de Broglie wavelength, m\n",
"lamda_nm = lamda*10^9;      //de Broglie wavelength, nm\n",
"printf('de Broglie wavelength is %5.3f nm',lamda_nm); "
   ]
   }
,
{
		   "cell_type": "markdown",
		   "metadata": {},
		   "source": [
			"## Example 3.4: To_calculate_the_wavelength.sce"
		   ]
		  },
  {
"cell_type": "code",
	   "execution_count": null,
	   "metadata": {
	    "collapsed": true
	   },
	   "outputs": [],
"source": [
"//To calculate the wavelength\n",
"V = 1600;      //potential, V\n",
"lamda = 12.26/sqrt(V);      //de Broglie wavelength, armstrong\n",
"printf('de Broglie wavelength of electron is %5.4f armstrong',lamda);"
   ]
   }
,
{
		   "cell_type": "markdown",
		   "metadata": {},
		   "source": [
			"## Example 3.5: To_calculate_the_uncertainity_in_momentum.sce"
		   ]
		  },
  {
"cell_type": "code",
	   "execution_count": null,
	   "metadata": {
	    "collapsed": true
	   },
	   "outputs": [],
"source": [
"//To calculate the uncertainity in momentum\n",
"delta_x = 0.2;      //electron distance, armstrong\n",
"delta_x = delta_x*10^-10;      //electron distance, m\n",
"h = 6.626*10^-34;    //planck's constant\n",
"delta_p = h/(2*%pi*delta_x);      //uncertainity in momentum, kg.m/s\n",
"printf('uncertainity in momentum in kg m/s is');\n",
"disp(delta_p);"
   ]
   }
,
{
		   "cell_type": "markdown",
		   "metadata": {},
		   "source": [
			"## Example 3.6: To_calculate_the_lowest_energy_of_an_electron.sce"
		   ]
		  },
  {
"cell_type": "code",
	   "execution_count": null,
	   "metadata": {
	    "collapsed": true
	   },
	   "outputs": [],
"source": [
"//To calculate the lowest energy of an electron\n",
"n1 = 1;\n",
"n2 = 1;\n",
"n3 = 1;      //for lowest energy\n",
"e = 1.6*10^-19;\n",
"h = 6.62*10^-34;      //planck's constant\n",
"m = 9.1*10^-31;      //mass of electron, kg\n",
"L = 0.1;     //side of box, nm\n",
"L = L*10^-9;    //side of box, m\n",
"E1 = h^2*(n1^2+n2^2+n3^2)/(8*m*L^2);      //lowest energy, J\n",
"E1 = E1/e;      //lowest energy, eV\n",
"printf('lowest energy of electron is %5.1f eV',E1);"
   ]
   }
,
{
		   "cell_type": "markdown",
		   "metadata": {},
		   "source": [
			"## Example 3.7: To_calculate_the_energy_of_electron.sce"
		   ]
		  },
  {
"cell_type": "code",
	   "execution_count": null,
	   "metadata": {
	    "collapsed": true
	   },
	   "outputs": [],
"source": [
"//To calculate the energy of electron\n",
"n1 = 1;\n",
"n2 = 1;\n",
"n3 = 2;      //for level next to the lowest\n",
"e = 1.6*10^-19;\n",
"h = 6.62*10^-34;      //planck's constant\n",
"m = 9.1*10^-31;      //mass of electron, kg\n",
"L = 0.1;     //side of box, nm\n",
"L = L*10^-9;    //side of box, m\n",
"E1 = h^2*(n1^2+n2^2+n3^2)/(8*m*L^2);      //lowest energy, J\n",
"E1 = E1/e;      //lowest energy, eV\n",
"printf('energy of electron is %5.2f eV',E1);\n",
"\n",
"//answer given in the book is wrong in the 2nd decimal"
   ]
   }
,
{
		   "cell_type": "markdown",
		   "metadata": {},
		   "source": [
			"## Example 3.8: To_calculate_the_wavelength.sce"
		   ]
		  },
  {
"cell_type": "code",
	   "execution_count": null,
	   "metadata": {
	    "collapsed": true
	   },
	   "outputs": [],
"source": [
"//To calculate the wavelength\n",
"m = 9.1*10^-31;     //mass of electron, kg\n",
"h = 6.626*10^-34;    //planck's constant\n",
"e = 1.6*10^-19;\n",
"E = 2000;     //energy, eV\n",
"E = E*e;     //energy, J\n",
"lamda = h/sqrt(2*m*E);      //wavelength, m\n",
"lamda_nm = lamda*10^9;      //velength, nm\n",
"printf('wavelength is %5.4f nm',lamda_nm); "
   ]
   }
,
{
		   "cell_type": "markdown",
		   "metadata": {},
		   "source": [
			"## Example 3.9: To_calculate_the_minimum_energy.sce"
		   ]
		  },
  {
"cell_type": "code",
	   "execution_count": null,
	   "metadata": {
	    "collapsed": true
	   },
	   "outputs": [],
"source": [
"//To calculate the minimum energy\n",
"n = 1;     //for minimum energy\n",
"h = 6.626*10^-34;      //planck's constant, J sec\n",
"m = 9.1*10^-31;      //mass of electron, kg\n",
"L = 4*10^-10;     //side of box, m\n",
"E1 = h^2*n^2/(8*m*L^2);      //lowest energy, J\n",
"printf('energy of electron in J is');\n",
"disp(E1);\n",
"\n",
"//answer given in the book is wrong"
   ]
   }
],
"metadata": {
		  "kernelspec": {
		   "display_name": "Scilab",
		   "language": "scilab",
		   "name": "scilab"
		  },
		  "language_info": {
		   "file_extension": ".sce",
		   "help_links": [
			{
			 "text": "MetaKernel Magics",
			 "url": "https://github.com/calysto/metakernel/blob/master/metakernel/magics/README.md"
			}
		   ],
		   "mimetype": "text/x-octave",
		   "name": "scilab",
		   "version": "0.7.1"
		  }
		 },
		 "nbformat": 4,
		 "nbformat_minor": 0
}
