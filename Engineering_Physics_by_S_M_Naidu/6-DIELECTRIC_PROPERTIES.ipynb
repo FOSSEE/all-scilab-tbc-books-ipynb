{
"cells": [
 {
		   "cell_type": "markdown",
	   "metadata": {},
	   "source": [
       "# Chapter 6: DIELECTRIC PROPERTIES"
	   ]
	},
{
		   "cell_type": "markdown",
		   "metadata": {},
		   "source": [
			"## Example 6.10: polarizability.sce"
		   ]
		  },
  {
"cell_type": "code",
	   "execution_count": null,
	   "metadata": {
	    "collapsed": true
	   },
	   "outputs": [],
"source": [
"\n",
"//Variable declaration\n",
"N=3*10**25;    //number of atoms(per m**3)\n",
"r=0.2*10**-9;    //radius(m)\n",
"epsilon0=8.85*10**-12;\n",
"E=1;     //electric field\n",
"\n",
"//Calculation\n",
"p=4*%pi*epsilon0*r**3;    //dipole moment(F m**2)\n",
"P=N*p;     //polarization(C m)\n",
"epsilonr=(P/(epsilon0*E))+1;     //dielectric constant\n",
"alpha_e=epsilon0*(epsilonr-1)/N;    //polarizability(F m**2)\n",
"\n",
"//Result\n",
"printf('dipole moment is %0.3f  *10**-40 F m**2   \n',(p*10**40))\n",
"printf('polarization is %0.3f   *10**-15 C m  \n',(P*10**15))\n",
"printf('dielectric constant is %0.3f     \n',(epsilonr))\n",
"printf('polarizability is %0.3f    *10**-40 F m**2 \n',(alpha_e*10**40))"
   ]
   }
,
{
		   "cell_type": "markdown",
		   "metadata": {},
		   "source": [
			"## Example 6.11: electronic_polarizability.sce"
		   ]
		  },
  {
"cell_type": "code",
	   "execution_count": null,
	   "metadata": {
	    "collapsed": true
	   },
	   "outputs": [],
"source": [
"\n",
"//Variable declaration\n",
"epsilon0=8.85*10**-12;\n",
"epsilonr=1.000435;      //dielectric constant of material\n",
"N=2.7*10**25;    //number of atoms(per m**3)\n",
"\n",
"//Calculation\n",
"alpha_e=epsilon0*(epsilonr-1)/N;     //electronic polarizability(F m**2)\n",
"\n",
"//Result\n",
"printf('electronic polarizability is %0.3f   *10**-40 F m**2  \n',(alpha_e*10**40))"
   ]
   }
,
{
		   "cell_type": "markdown",
		   "metadata": {},
		   "source": [
			"## Example 6.12: electronic_polarizability.sce"
		   ]
		  },
  {
"cell_type": "code",
	   "execution_count": null,
	   "metadata": {
	    "collapsed": true
	   },
	   "outputs": [],
"source": [
"\n",
"//Variable declaration\n",
"epsilon0=8.85*10**-12;\n",
"epsilonr=4;    //dielectric constant\n",
"D=2.08*10**3;    //density(kg/m**3)\n",
"Na=6.02*10**26;    //avagadro number\n",
"M=32;    //atomic weight\n",
"\n",
"//Calculation\n",
"N=Na*D/M;     //number of atoms(per m**3)\n",
"alphae=epsilon0*(epsilonr-1)/N;    //atomic polarizability(F m**2)\n",
"\n",
"//Result\n",
"printf('electronic polarizability is %0.3f  *10**-40 F m**2   \n',(alphae*10**40))"
   ]
   }
,
{
		   "cell_type": "markdown",
		   "metadata": {},
		   "source": [
			"## Example 6.1: dielectric_constant_of_material.sce"
		   ]
		  },
  {
"cell_type": "code",
	   "execution_count": null,
	   "metadata": {
	    "collapsed": true
	   },
	   "outputs": [],
"source": [
"\n",
"//Variable declaration\n",
"N=3*10**28;     //number of atoms(per m**3)\n",
"alpha_e=10**-40;    //electronic polarizability(F m**2)\n",
"epsilon0=8.85*10**-12;     \n",
"\n",
"//Calculation\n",
"epsilonr=(alpha_e*N/epsilon0)+1;      //dielectric constant of material\n",
"\n",
"//Result\n",
"printf('dielectric constant of material is %0.3f     \n',(epsilonr))"
   ]
   }
,
{
		   "cell_type": "markdown",
		   "metadata": {},
		   "source": [
			"## Example 6.2: charge_on_plates.sce"
		   ]
		  },
  {
"cell_type": "code",
	   "execution_count": null,
	   "metadata": {
	    "collapsed": true
	   },
	   "outputs": [],
"source": [
"\n",
"//Variable declaration\n",
"epsilon0=8.85*10**-12;\n",
"A=100*10**-4;     //area(m**2)\n",
"d=1*10**-2;     //seperation(m)\n",
"V=100;     //potential(V)\n",
"\n",
"//Calculation\n",
"C=epsilon0*A/d;    //capacitance(F)\n",
"Q=C*V;      //charge on plates(C)\n",
"\n",
"//Result\n",
"printf('capacitance is %e  F   \n',C)\n",
"printf('charge on plates is %e  C  \n',Q)"
   ]
   }
,
{
		   "cell_type": "markdown",
		   "metadata": {},
		   "source": [
			"## Example 6.3: electronic_polarizability.sce"
		   ]
		  },
  {
"cell_type": "code",
	   "execution_count": null,
	   "metadata": {
	    "collapsed": true
	   },
	   "outputs": [],
"source": [
"\n",
"//Variable declaration\n",
"epsilon0=8.85*10**-12;\n",
"epsilonr=1.0000684;      //dielectric constant of material\n",
"N=2.7*10**25;    //number of atoms(per m**3)\n",
"\n",
"//Calculation\n",
"alpha_e=epsilon0*(epsilonr-1)/N;     //electronic polarizability(F m**2)\n",
"\n",
"//Result\n",
"printf('electronic polarizability is %e  F m**2   \n',alpha_e)"
   ]
   }
,
{
		   "cell_type": "markdown",
		   "metadata": {},
		   "source": [
			"## Example 6.4: voltage.sce"
		   ]
		  },
  {
"cell_type": "code",
	   "execution_count": null,
	   "metadata": {
	    "collapsed": true
	   },
	   "outputs": [],
"source": [
"\n",
"//Variable declaration\n",
"epsilon0=8.85*10**-12;\n",
"A=650*10**-6;     //area(m**2)\n",
"d=4*10**-3;     //seperation(m)\n",
"Q=2*10**-10;    //charge(C)\n",
"epsilonr=3.5;\n",
"\n",
"//Calculation\n",
"V=Q*d/(epsilon0*epsilonr*A);       //voltage(V)\n",
"\n",
"//Result\n",
"printf('voltage is %0.3f   V  \n',(V))"
   ]
   }
,
{
		   "cell_type": "markdown",
		   "metadata": {},
		   "source": [
			"## Example 6.5: polarization.sce"
		   ]
		  },
  {
"cell_type": "code",
	   "execution_count": null,
	   "metadata": {
	    "collapsed": true
	   },
	   "outputs": [],
"source": [
"\n",
"//Variable declaration\n",
"epsilon0=8.85*10**-12;\n",
"A=6.45*10**-4;     //area(m**2)\n",
"d=2*10**-3;     //seperation(m)\n",
"V=12;    //voltage(V)\n",
"epsilonr=5;\n",
"\n",
"//Calculation\n",
"P=epsilon0*(epsilonr-1)*V/d;     //polarization(C m)\n",
"\n",
"//Result\n",
"printf('polarization is %0.3f   *10**-9 C m  \n',P*10**9)"
   ]
   }
,
{
		   "cell_type": "markdown",
		   "metadata": {},
		   "source": [
			"## Example 6.6: electronic_polarizability.sce"
		   ]
		  },
  {
"cell_type": "code",
	   "execution_count": null,
	   "metadata": {
	    "collapsed": true
	   },
	   "outputs": [],
"source": [
"\n",
"//Variable declaration\n",
"epsilon0=8.85*10**-12;\n",
"epsilonr=3.75;    //dielectric constant\n",
"gama=1/3;     //internal field constant\n",
"D=2050;    //density(kg/m**3)\n",
"Na=6.02*10**26;    //avagadro number\n",
"M=32;    //atomic weight\n",
"\n",
"//Calculation\n",
"N=Na*D/M;     //number of atoms(per m**3)\n",
"alphae=((epsilonr-1)/(epsilonr+2))*3*epsilon0/N;    //electronic polarizability(F m**2)\n",
"\n",
"//Result\n",
"printf('electronic polarizability is %0.3f  *10**-40 F m**2   \n',(alphae*10**40))\n",
"printf('answer varies due to approximating off errors\n')"
   ]
   }
,
{
		   "cell_type": "markdown",
		   "metadata": {},
		   "source": [
			"## Example 6.7: orientational_polarization.sce"
		   ]
		  },
  {
"cell_type": "code",
	   "execution_count": null,
	   "metadata": {
	    "collapsed": true
	   },
	   "outputs": [],
"source": [
"\n",
"//Variable declaration\n",
"N=1.6*10**20;     //number of molecules(/m**3)\n",
"T=300;     //temperature(K)\n",
"E=5*10**5;    //electric field(V/m)\n",
"x=0.25*10**-9;   //separation(m)\n",
"Kb=1.381*10**-23;    //boltzmann constant\n",
"e=1.6*10**-19;  \n",
"\n",
"//Calculation\n",
"Pd=N*e**2*x**2*E/(3*Kb*T);      //orientational polarization\n",
"\n",
"//Result\n",
"printf('orientational polarization is %0.3f *10**-11 C m    \n',(Pd*10**11))"
   ]
   }
,
{
		   "cell_type": "markdown",
		   "metadata": {},
		   "source": [
			"## Example 6.8: displacement.sce"
		   ]
		  },
  {
"cell_type": "code",
	   "execution_count": null,
	   "metadata": {
	    "collapsed": true
	   },
	   "outputs": [],
"source": [
"\n",
"//Variable declaration\n",
"epsilon0=8.85*10**-12;\n",
"epsilonr=1.0000684;      //dielectric constant of material\n",
"N=2.7*10**25;    //number of atoms(per m**3)\n",
"E=10**6;     //electric field(V/m)\n",
"e=1.6*10**-19;  \n",
"Z=2;     //atomic number\n",
"\n",
"//Calculation\n",
"alpha_e=epsilon0*(epsilonr-1)/N;     //electronic polarizability(F m**2)\n",
"r=(alpha_e/(4*%pi*epsilon0))**(1/3);     //radius(m)\n",
"d=alpha_e*E/(Z*e);     //displacement(m)\n",
"\n",
"//Result\n",
"printf('radius is %0.3f    *10**-11 m \n',(r*10**11))\n",
"printf('answer varies due to approximating off errors\n')\n",
"printf('displacement is %0.3f *10**-16 m    \n',(d*10**16))"
   ]
   }
,
{
		   "cell_type": "markdown",
		   "metadata": {},
		   "source": [
			"## Example 6.9: voltage.sce"
		   ]
		  },
  {
"cell_type": "code",
	   "execution_count": null,
	   "metadata": {
	    "collapsed": true
	   },
	   "outputs": [],
"source": [
"\n",
"//Variable declaration\n",
"epsilon0=8.85*10**-12;\n",
"A=750*10**-6;     //area(m**2)\n",
"d=5*10**-3;     //seperation(m)\n",
"Q=2.5*10**-10;    //charge(C)\n",
"epsilonr=3.5;\n",
"\n",
"//Calculation\n",
"V=Q*d/(epsilon0*epsilonr*A);       //voltage(V)\n",
"\n",
"//Result\n",
"printf('voltage is %0.3f   V  \n',(V))"
   ]
   }
],
"metadata": {
		  "kernelspec": {
		   "display_name": "Scilab",
		   "language": "scilab",
		   "name": "scilab"
		  },
		  "language_info": {
		   "file_extension": ".sce",
		   "help_links": [
			{
			 "text": "MetaKernel Magics",
			 "url": "https://github.com/calysto/metakernel/blob/master/metakernel/magics/README.md"
			}
		   ],
		   "mimetype": "text/x-octave",
		   "name": "scilab",
		   "version": "0.7.1"
		  }
		 },
		 "nbformat": 4,
		 "nbformat_minor": 0
}
