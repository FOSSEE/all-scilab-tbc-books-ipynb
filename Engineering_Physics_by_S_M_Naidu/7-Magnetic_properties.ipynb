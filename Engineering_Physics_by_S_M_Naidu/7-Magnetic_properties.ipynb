{
"cells": [
 {
		   "cell_type": "markdown",
	   "metadata": {},
	   "source": [
       "# Chapter 7: Magnetic properties"
	   ]
	},
{
		   "cell_type": "markdown",
		   "metadata": {},
		   "source": [
			"## Example 7.10: relative_permeability.sce"
		   ]
		  },
  {
"cell_type": "code",
	   "execution_count": null,
	   "metadata": {
	    "collapsed": true
	   },
	   "outputs": [],
"source": [
"\n",
"//Variable declaration\n",
"B=1.4;     //flux density(Wb/m**2)\n",
"B0=6.5*10**-4;    //magnetic field(Tesla)\n",
"\n",
"//Calculation\n",
"mewr=B/B0;    //relative permeability\n",
"\n",
"//Result\n",
"printf('relative permeability is %0.3f     \n',(mewr))"
   ]
   }
,
{
		   "cell_type": "markdown",
		   "metadata": {},
		   "source": [
			"## Example 7.1: magnetic_moment.sce"
		   ]
		  },
  {
"cell_type": "code",
	   "execution_count": null,
	   "metadata": {
	    "collapsed": true
	   },
	   "outputs": [],
"source": [
"\n",
"//Variable declaration\n",
"chi=-0.4*10**-5;      //magnetic susceptibility\n",
"H=5*10**5;      //magnetic field(A/m)\n",
"mew0=4*%pi*10**-7;    \n",
"\n",
"//Calculation\n",
"B=mew0*H*(1+chi);     //flux density(Wb/m**2)\n",
"M=chi*H;      //magnetic moment(A/m)\n",
"\n",
"//Result\n",
"printf('flux density is %0.3f    Wb/m**2 \n',(B))\n",
"printf('magnetic moment is %0.3f   A/m  \n',M)"
   ]
   }
,
{
		   "cell_type": "markdown",
		   "metadata": {},
		   "source": [
			"## Example 7.2: flux_density.sce"
		   ]
		  },
  {
"cell_type": "code",
	   "execution_count": null,
	   "metadata": {
	    "collapsed": true
	   },
	   "outputs": [],
"source": [
"\n",
"//Variable declaration\n",
"chi=-0.25*10**-5;      //magnetic susceptibility\n",
"H=1000;      //magnetic field(A/m)\n",
"mew0=4*%pi*10**-7;    \n",
"\n",
"//Calculation\n",
"M=chi*H;      //magnetisation(A/m)\n",
"B=mew0*(H+M);     //flux density(Wb/m**2)\n",
"\n",
"//Result\n",
"printf('magnetisation is %0.3f  *10**-2 A/m   \n',M*10**2)\n",
"printf('flux density is %0.3f  *10**-3 Wb/m**2   \n',(B*10**3))"
   ]
   }
,
{
		   "cell_type": "markdown",
		   "metadata": {},
		   "source": [
			"## Example 7.3: magnetisation_and_flux_density.sce"
		   ]
		  },
  {
"cell_type": "code",
	   "execution_count": null,
	   "metadata": {
	    "collapsed": true
	   },
	   "outputs": [],
"source": [
"\n",
"//Variable declaration\n",
"H=250;      //magnetic field(A/m)\n",
"mewr=15;    //relative permeability\n",
"mew0=4*%pi*10**-7;  \n",
"\n",
"//Calculation\n",
"M=H*(mewr-1);      //magnetisation(A/m)\n",
"B=mew0*(H+M);     //flux density(Wb/m**2)\n",
"\n",
"//Result\n",
"printf('magnetisation is %0.3f   A/m  \n',M)\n",
"printf('flux density is %0.3f    *10**-3 Wb/m**2 \n',(B*10**3))"
   ]
   }
,
{
		   "cell_type": "markdown",
		   "metadata": {},
		   "source": [
			"## Example 7.4: magnetisation_and_flux_density.sce"
		   ]
		  },
  {
"cell_type": "code",
	   "execution_count": null,
	   "metadata": {
	    "collapsed": true
	   },
	   "outputs": [],
"source": [
"\n",
"//Variable declaration\n",
"chi=-0.42*10**-3;      //magnetic susceptibility\n",
"H=1000;      //magnetic field(A/m)\n",
"mew0=4*%pi*10**-7;    \n",
"\n",
"//Calculation\n",
"M=chi*H;      //magnetisation(A/m)\n",
"B=mew0*(H+M);     //flux density(Wb/m**2)\n",
"\n",
"//Result\n",
"printf('magnetisation is %0.3f    A/m \n',M)\n",
"printf('flux density is %0.3f   *10**-3 Wb/m**2 \n',(B*10**3))"
   ]
   }
,
{
		   "cell_type": "markdown",
		   "metadata": {},
		   "source": [
			"## Example 7.5: magnetic_moment.sce"
		   ]
		  },
  {
"cell_type": "code",
	   "execution_count": null,
	   "metadata": {
	    "collapsed": true
	   },
	   "outputs": [],
"source": [
"\n",
"//Variable declaration\n",
"r=10/2;     //radius(cm)\n",
"i=500*10**-3;    //current(A)\n",
"\n",
"//Calculation\n",
"mew=%pi*(r*10**-2)**2*i;    //magnetic moment(Am**2)\n",
"\n",
"//Result\n",
"printf('magnetic moment is %0.3f  *10**-3 Am**2   \n',(mew*10**3))"
   ]
   }
,
{
		   "cell_type": "markdown",
		   "metadata": {},
		   "source": [
			"## Example 7.6: magnetizing_force_and_relative_permeability.sce"
		   ]
		  },
  {
"cell_type": "code",
	   "execution_count": null,
	   "metadata": {
	    "collapsed": true
	   },
	   "outputs": [],
"source": [
"\n",
"//Variable declaration\n",
"mew0=4*%pi*10**-7;    \n",
"B=0.0044;     //flux density(Wb/m**2)\n",
"M=3300;      //magnetic moment(A/m)\n",
"\n",
"//Calculation\n",
"H=(B/mew0)-M;    //magnetizing force(A/m)\n",
"mewr=1+(M/H);    //relative permeability\n",
"\n",
"//Result\n",
"printf('magnetizing force is %0.3f   A/m  \n',int(H))\n",
"printf('relative permeability is %0.3f     \n',(mewr))\n",
"printf('answer varies due to approximating off errors\n')"
   ]
   }
,
{
		   "cell_type": "markdown",
		   "metadata": {},
		   "source": [
			"## Example 7.7: change_in_magnetic_moment.sce"
		   ]
		  },
  {
"cell_type": "code",
	   "execution_count": null,
	   "metadata": {
	    "collapsed": true
	   },
	   "outputs": [],
"source": [
"\n",
"//Variable declaration\n",
"r=0.052*10**-9;     //radius(m)\n",
"B=3;     //flux density(Wb/m**2)\n",
"e=1.6*10**-19;  \n",
"m=9.1*10**-31;    //mass(kg)\n",
"\n",
"//Calculation\n",
"delta_mew=e**2*r**2*B/(4*m);     //change in magnetic moment(A m**2)\n",
"\n",
"//Result\n",
"printf('change in magnetic moment is %0.3f   *10**-29 Am**2  \n',(delta_mew*10**29))\n",
"printf('answer given in the book is wrong\n')"
   ]
   }
,
{
		   "cell_type": "markdown",
		   "metadata": {},
		   "source": [
			"## Example 7.8: change_in_magnetic_moment.sce"
		   ]
		  },
  {
"cell_type": "code",
	   "execution_count": null,
	   "metadata": {
	    "collapsed": true
	   },
	   "outputs": [],
"source": [
"\n",
"//Variable declaration\n",
"r=5.29*10**-11;     //radius(m)\n",
"B=2;     //flux density(Wb/m**2)\n",
"e=1.6*10**-19;  \n",
"m=9.1*10**-31;    //mass(kg)\n",
"\n",
"//Calculation\n",
"d_mew=e**2*r**2*B/(4*m);     //change in magnetic moment(A m**2)\n",
"\n",
"//Result\n",
"printf('change in magnetic moment is %0.3f *10**-29 Am**2    \n',(d_mew*10**29))"
   ]
   }
,
{
		   "cell_type": "markdown",
		   "metadata": {},
		   "source": [
			"## Example 7.9: susceptibility.sce"
		   ]
		  },
  {
"cell_type": "code",
	   "execution_count": null,
	   "metadata": {
	    "collapsed": true
	   },
	   "outputs": [],
"source": [
"\n",
"//Variable declaration\n",
"N=10**28;     //number of atoms(per m**3)\n",
"chi1=2.8*10**-4;   //susceptibility\n",
"T1=350;    //temperature(K)\n",
"T2=300;    //temperature(K)\n",
"\n",
"//Calculation\n",
"chi2=chi1*T1/T2;    //susceptibility\n",
"\n",
"//Result\n",
"printf('susceptibility is %0.3f   *10**-4  \n',(chi2*10**4))"
   ]
   }
],
"metadata": {
		  "kernelspec": {
		   "display_name": "Scilab",
		   "language": "scilab",
		   "name": "scilab"
		  },
		  "language_info": {
		   "file_extension": ".sce",
		   "help_links": [
			{
			 "text": "MetaKernel Magics",
			 "url": "https://github.com/calysto/metakernel/blob/master/metakernel/magics/README.md"
			}
		   ],
		   "mimetype": "text/x-octave",
		   "name": "scilab",
		   "version": "0.7.1"
		  }
		 },
		 "nbformat": 4,
		 "nbformat_minor": 0
}
