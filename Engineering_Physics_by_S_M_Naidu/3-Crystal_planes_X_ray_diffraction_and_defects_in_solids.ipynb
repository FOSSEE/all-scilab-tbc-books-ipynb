{
"cells": [
 {
		   "cell_type": "markdown",
	   "metadata": {},
	   "source": [
       "# Chapter 3: Crystal planes X ray diffraction and defects in solids"
	   ]
	},
{
		   "cell_type": "markdown",
		   "metadata": {},
		   "source": [
			"## Example 3.10: cube_edge_of_unit_cell.sce"
		   ]
		  },
  {
"cell_type": "code",
	   "execution_count": null,
	   "metadata": {
	    "collapsed": true
	   },
	   "outputs": [],
"source": [
"\n",
"//Variable declaration\n",
"lamda=1.54;    //wavelength(angstrom)\n",
"h=1;\n",
"k=1;\n",
"l=1;\n",
"n=1;\n",
"theta=19.2;    //angle(degrees)\n",
"\n",
"//Calculation\n",
"theta=theta*%pi/180;    //angle(radian)\n",
"d=n*lamda/(2*sin(theta));     \n",
"a=d*sqrt(h**2+k**2+l**2);      //cube edge of unit cell(angstrom)\n",
"\n",
"//Result\n",
"printf('cube edge of unit cell is %0.3f   angstrom  \n',(a))"
   ]
   }
,
{
		   "cell_type": "markdown",
		   "metadata": {},
		   "source": [
			"## Example 3.11: lattice_parameter_of_nickel.sce"
		   ]
		  },
  {
"cell_type": "code",
	   "execution_count": null,
	   "metadata": {
	    "collapsed": true
	   },
	   "outputs": [],
"source": [
"\n",
"//Variable declaration\n",
"lamda=1.54;    //wavelength(angstrom)\n",
"h=2;\n",
"k=2;\n",
"l=0;\n",
"n=1;\n",
"theta=38.2;    //angle(degrees)\n",
"\n",
"//Calculation\n",
"theta=theta*%pi/180;    //angle(radian)\n",
"d=n*lamda/(2*sin(theta));     \n",
"a=d*sqrt(h**2+k**2+l**2);    //lattice parameter of nickel(angstrom)\n",
"\n",
"//Result\n",
"printf('lattice parameter of nickel is %0.3f angstrom    \n',(a))"
   ]
   }
,
{
		   "cell_type": "markdown",
		   "metadata": {},
		   "source": [
			"## Example 3.12: interplanar_spacing.sce"
		   ]
		  },
  {
"cell_type": "code",
	   "execution_count": null,
	   "metadata": {
	    "collapsed": true
	   },
	   "outputs": [],
"source": [
"\n",
"//Variable declaration\n",
"a=0.36;      //edge length(nm)\n",
"h1=1;\n",
"k1=1;\n",
"l1=1;\n",
"h2=3;\n",
"k2=2;\n",
"l2=1;\n",
"\n",
"//Calculation\n",
"d1=a/sqrt(h1**2+k1**2+l1**2);    //interplanar spacing for (111)(nm)\n",
"d2=a/sqrt(h2**2+k2**2+l2**2);    //interplanar spacing for (321)(nm)\n",
"\n",
"//Result\n",
"printf('interplanar spacing for (111) is %0.3f    nm \n',(d1))\n",
"printf('interplanar spacing for (321) is %0.3f  nm   \n',(d2))"
   ]
   }
,
{
		   "cell_type": "markdown",
		   "metadata": {},
		   "source": [
			"## Example 3.13: glancing_angle.sce"
		   ]
		  },
  {
"cell_type": "code",
	   "execution_count": null,
	   "metadata": {
	    "collapsed": true
	   },
	   "outputs": [],
"source": [
"\n",
"//Variable declaration\n",
"lamda=0.675;    //wavelength(angstrom)\n",
"n=3;    //order of diffraction\n",
"theta=5+(25/60);    //angle(degrees)\n",
"\n",
"//Calculation\n",
"theta=theta*%pi/180;    //angle(radian)\n",
"d=lamda/(2*sin(theta));   \n",
"theta3=asin(3*lamda/(2*d));    //glancing angle(radian)\n",
"theta3=theta3*180/%pi;    //glancing angle(degrees)\n",
"theta_d=int(theta3);       \n",
"theta_m=(theta3-theta_d)*60;\n",
"\n",
"//Result\n",
"printf('glancing angle is %0.3f    degrees %0.3f  minutes \n',theta_d,int(theta_m))\n",
"printf('glancing angle is %2d degrees %2d minutes ',theta_d,int(theta_m))\n",
"printf('answer varies due to approximating off errors\n')"
   ]
   }
,
{
		   "cell_type": "markdown",
		   "metadata": {},
		   "source": [
			"## Example 3.14: glancing_angle.sce"
		   ]
		  },
  {
"cell_type": "code",
	   "execution_count": null,
	   "metadata": {
	    "collapsed": true
	   },
	   "outputs": [],
"source": [
"\n",
"//Variable declaration\n",
"lamda=0.79;    //wavelength(angstrom)\n",
"n=3;    //order of diffraction\n",
"d=3.04;    //spacing(angstrom)\n",
"\n",
"//Calculation\n",
"x=(n*lamda/(2*d));\n",
"theta=asin(x);         //glancing angle(radian)\n",
"theta=theta*180/%pi;    //glancing angle(degrees)\n",
"theta_d=int(theta);       \n",
"theta_m=(theta-theta_d)*60;\n",
"theta_s=(theta_m-int(theta_m))*60;\n",
"\n",
"//Result\n",
"printf('glancing angle is %2d degrees %2d minutes %2d seconds',theta_d,int(theta_m),int(theta_s))\n",
"printf('answer given in the book is wrong\n')"
   ]
   }
,
{
		   "cell_type": "markdown",
		   "metadata": {},
		   "source": [
			"## Example 3.1: glancing_angle.sce"
		   ]
		  },
  {
"cell_type": "code",
	   "execution_count": null,
	   "metadata": {
	    "collapsed": true
	   },
	   "outputs": [],
"source": [
"\n",
"//Variable declaration\n",
"lamda=0.071*10**-9;     //wavelength(m)\n",
"a=0.28*10**-9;    //lattice constant(m)\n",
"h=1;\n",
"k=1;\n",
"l=0;\n",
"n=2;    //order of diffraction\n",
"\n",
"//Calculation\n",
"d=a/sqrt(h**2+k**2+l**2);\n",
"x=n*lamda/(2*d);     \n",
"theta=asin(x);     //angle(radian)\n",
"theta=theta*180/%pi;    //glancing angle(degrees)\n",
"\n",
"//Result\n",
"printf('glancing angle is %0.3f   degrees  \n',int(theta))"
   ]
   }
,
{
		   "cell_type": "markdown",
		   "metadata": {},
		   "source": [
			"## Example 3.2: maximum_order_of_diffractio.sce"
		   ]
		  },
  {
"cell_type": "code",
	   "execution_count": null,
	   "metadata": {
	    "collapsed": true
	   },
	   "outputs": [],
"source": [
"//Variable declaration\n",
"n=1;    //order of diffraction\n",
"theta1=8+(35/60);    //angle(degrees)\n",
"d=0.282;     //spacing(nm)\n",
"theta2=90;\n",
"\n",
"//Calculation\n",
"theta1=theta1*%pi/180;    //angle(radian)\n",
"lamda=2*d*sin(theta1)/n;    //wavelength(nm)\n",
"theta2=theta2*%pi/180;    //angle(radian)\n",
"nmax=2*d/lamda;     //maximum order of diffraction\n",
"\n",
"//Result\n",
"printf('wavelength is %0.3f    nm \n',(lamda))\n",
"printf('maximum order of diffraction is %0.3f     \n',(nmax))"
   ]
   }
,
{
		   "cell_type": "markdown",
		   "metadata": {},
		   "source": [
			"## Example 3.3: fraction_of_vacancy_sites.sce"
		   ]
		  },
  {
"cell_type": "code",
	   "execution_count": null,
	   "metadata": {
	    "collapsed": true
	   },
	   "outputs": [],
"source": [
"//Variable declaration\n",
"T1=500+273;    //temperature(K)\n",
"T2=1000+273;   //temperature(K)\n",
"f=1*10**-10;   //fraction\n",
"\n",
"//Calculation\n",
"x=(T1/T2);\n",
"y=(log(f));\n",
"w=(x*y);\n",
"F=exp(w);    //fraction of vacancy sites\n",
"\n",
"//Result\n",
"printf('fraction of vacancy sites is %0.3f  *10**-7   \n',(F*10**7))"
   ]
   }
,
{
		   "cell_type": "markdown",
		   "metadata": {},
		   "source": [
			"## Example 3.4: ratio.sce"
		   ]
		  },
  {
"cell_type": "code",
	   "execution_count": null,
	   "metadata": {
	    "collapsed": true
	   },
	   "outputs": [],
"source": [
"//Variable declaration\n",
"a=1;    //assume\n",
"h1=1;\n",
"k1=0;\n",
"l1=0;\n",
"h2=1;\n",
"k2=1;\n",
"l2=0;\n",
"h3=1;\n",
"k3=1;\n",
"l3=1;\n",
"\n",
"//Calculation\n",
"d100=a*6/(h1**2+k1**2+l1**2);\n",
"d110=a*6/(h2**2+k2**2+l2**2);\n",
"d111=a*(6)/(h3**2+k3**2+l3**2);\n",
"\n",
"//Result\n",
"printf('ratio is %0.3f:%0.3f:%0.3f',sqrt( d100), sqrt(d110), sqrt( d111))"
   ]
   }
,
{
		   "cell_type": "markdown",
		   "metadata": {},
		   "source": [
			"## Example 3.5: lattice_parameter_of_nickel.sce"
		   ]
		  },
  {
"cell_type": "code",
	   "execution_count": null,
	   "metadata": {
	    "collapsed": true
	   },
	   "outputs": [],
"source": [
"//Variable declaration\n",
"n=1;    //order of diffraction\n",
"theta=38.2;    //angle(degrees)\n",
"lamda=1.54;    //wavelength(angstrom)\n",
"h=2;\n",
"k=2;\n",
"l=0;\n",
"\n",
"//Calculation\n",
"theta=theta*%pi/180;    //angle(radian)\n",
"d=n*lamda/(2*sin(theta));\n",
"a=d*sqrt(h**2+k**2+l**2);    //lattice parameter of nickel(angstrom)\n",
"\n",
"//Result\n",
"printf('lattice parameter of nickel is %0.3f  angstrom   \n',(a))"
   ]
   }
,
{
		   "cell_type": "markdown",
		   "metadata": {},
		   "source": [
			"## Example 3.6: order_of_diffractio.sce"
		   ]
		  },
  {
"cell_type": "code",
	   "execution_count": null,
	   "metadata": {
	    "collapsed": true
	   },
	   "outputs": [],
"source": [
"//Variable declaration\n",
"theta=90;    //angle(degrees)\n",
"lamda=1.5;    //wavelength(angstrom)\n",
"d=1.6;    //spacing(angstrom)\n",
"\n",
"//Calculation\n",
"theta=theta*%pi/180;    //angle(radian)\n",
"n=2*d*sin(theta)/lamda;    //order of diffraction\n",
"\n",
"//Result\n",
"printf('order of diffraction is %0.3f     \n',int(n))"
   ]
   }
,
{
		   "cell_type": "markdown",
		   "metadata": {},
		   "source": [
			"## Example 3.7: radius_of_the_atom.sce"
		   ]
		  },
  {
"cell_type": "code",
	   "execution_count": null,
	   "metadata": {
	    "collapsed": true
	   },
	   "outputs": [],
"source": [
"//Variable declaration\n",
"h=1;\n",
"k=1;\n",
"l=0;\n",
"d=0.203*10**-9;    //spacing(m)\n",
"\n",
"//Calculation\n",
"a=d*sqrt(h**2+k**2+l**2);    //length of unit cell(m)\n",
"V=a**3;    //volume of unit cell(m**3)\n",
"r=sqrt(3)*a/4;    //radius of the atom(m)\n",
"\n",
"//Result\n",
"printf('length of unit cell is %0.3f   *10**-9 m  \n',(a*10**9))\n",
"printf('volume of unit cell is %0.3f  *10**-27 m**3   \n',(V*10**27))\n",
"printf('radius of the atom is %0.3f  *10**-9 m   \n',(r*10**9))"
   ]
   }
,
{
		   "cell_type": "markdown",
		   "metadata": {},
		   "source": [
			"## Example 3.8: order_of_diffractio.sce"
		   ]
		  },
  {
"cell_type": "code",
	   "execution_count": null,
	   "metadata": {
	    "collapsed": true
	   },
	   "outputs": [],
"source": [
"//Variable declaration\n",
"theta=90;    //angle(degrees)\n",
"lamda=1.5;    //wavelength(angstrom)\n",
"d=1.6;    //spacing(angstrom)\n",
"\n",
"//Calculation\n",
"theta=theta*%pi/180;    //angle(radian)\n",
"n=2*d*sin(theta)/lamda;    //order of diffraction\n",
"\n",
"//Result\n",
"printf('order of diffraction is %0.3f     \n',int(n))"
   ]
   }
,
{
		   "cell_type": "markdown",
		   "metadata": {},
		   "source": [
			"## Example 3.9: glancing_angle.sce"
		   ]
		  },
  {
"cell_type": "code",
	   "execution_count": null,
	   "metadata": {
	    "collapsed": true
	   },
	   "outputs": [],
"source": [
"\n",
"//Variable declaration\n",
"lamda=0.065;    //wavelength(nm)\n",
"a=0.26;      //edge length(nm)\n",
"h=1;\n",
"k=1;\n",
"l=0;\n",
"n=2;\n",
"\n",
"//Calculation\n",
"d=a/sqrt(h**2+k**2+l**2);      \n",
"x=n*lamda/(2*d);     \n",
"theta=asin(x);        //glancing angle(radian)\n",
"theta=theta*180/%pi;    //glancing angle(degrees)\n",
"theta_d=int(theta);       \n",
"theta_m=(theta-theta_d)*60;\n",
"theta_s=(theta_m-int(theta_m))*60;\n",
"\n",
"//Result\n",
"\n",
"printf('glancing angle is %2d degrees %2d minutes %2d seconds',theta_d,int(theta_m),int(theta_s))\n",
"printf('answer varies due to approximating off errors')"
   ]
   }
],
"metadata": {
		  "kernelspec": {
		   "display_name": "Scilab",
		   "language": "scilab",
		   "name": "scilab"
		  },
		  "language_info": {
		   "file_extension": ".sce",
		   "help_links": [
			{
			 "text": "MetaKernel Magics",
			 "url": "https://github.com/calysto/metakernel/blob/master/metakernel/magics/README.md"
			}
		   ],
		   "mimetype": "text/x-octave",
		   "name": "scilab",
		   "version": "0.7.1"
		  }
		 },
		 "nbformat": 4,
		 "nbformat_minor": 0
}
